{
 "cells": [
  {
   "cell_type": "code",
   "execution_count": 3,
   "id": "08d831be-0759-4176-b972-3fd8f8bcc8a4",
   "metadata": {},
   "outputs": [],
   "source": [
    "import pandas as pd"
   ]
  },
  {
   "cell_type": "code",
   "execution_count": 15,
   "id": "da1f77ea-f21b-43d7-80b2-4aa30d04f41b",
   "metadata": {},
   "outputs": [],
   "source": [
    "s = pd.Series([1,2,3,4])"
   ]
  },
  {
   "cell_type": "code",
   "execution_count": 16,
   "id": "35844212-a73c-4c17-8303-020e7af970ed",
   "metadata": {},
   "outputs": [
    {
     "data": {
      "text/plain": [
       "numpy.ndarray"
      ]
     },
     "execution_count": 16,
     "metadata": {},
     "output_type": "execute_result"
    }
   ],
   "source": [
    "type(s.values)"
   ]
  },
  {
   "cell_type": "markdown",
   "id": "6674fc3d-60ef-414c-9ca3-f7672d062006",
   "metadata": {},
   "source": [
    "<!-- NUMPY DIGRESSION -->\n",
    "Under the hood,\n",
    "the values of the series use stored in a `numpy` arrays.\n",
    "<!-- Robyn said: Needs definition? -->\n"
   ]
  },
  {
   "cell_type": "code",
   "execution_count": 131,
   "id": "062db6f3-8442-4ad5-abcb-4042b4ad8d2e",
   "metadata": {},
   "outputs": [],
   "source": [
    "# OTHER ATTRIBUTES\n",
    "# df.axes\n",
    "# df.memory_usage()\n",
    "# df.values"
   ]
  },
  {
   "cell_type": "markdown",
   "id": "da7e31bb-c72a-4302-8f7b-9a941f09f4dd",
   "metadata": {},
   "source": [
    "The column `y` can also be obtained by accessing the attribute `df.y`."
   ]
  },
  {
   "cell_type": "code",
   "execution_count": 44,
   "id": "2325f0fc-d1f1-44d0-8ffd-313d631ac28b",
   "metadata": {},
   "outputs": [
    {
     "data": {
      "text/plain": [
       "True"
      ]
     },
     "execution_count": 44,
     "metadata": {},
     "output_type": "execute_result"
    }
   ],
   "source": [
    "df[\"y\"].equals( df.y )"
   ]
  },
  {
   "cell_type": "markdown",
   "id": "02025edc-573f-496a-b82a-d0ba6806f4c3",
   "metadata": {},
   "source": [
    "Note accessing columns as attributes only works for column names that do not contain spaces or special characters.\n",
    "<!-- TODO: say we won't use in this book, but you need to know since other authors may use this syntax -->\n"
   ]
  },
  {
   "cell_type": "code",
   "execution_count": 45,
   "id": "1349fd83-2af3-499d-b558-035025a0fda5",
   "metadata": {},
   "outputs": [
    {
     "data": {
      "text/plain": [
       "array([2. , 1. , 1.5, 2. , 1.5])"
      ]
     },
     "execution_count": 45,
     "metadata": {},
     "output_type": "execute_result"
    }
   ],
   "source": [
    "# MAYBE\n",
    "ys.values"
   ]
  },
  {
   "cell_type": "code",
   "execution_count": 46,
   "id": "6c188926-2c4e-4e4d-8b7f-836d47fc42e6",
   "metadata": {},
   "outputs": [
    {
     "data": {
      "text/plain": [
       "1.5"
      ]
     },
     "execution_count": 46,
     "metadata": {},
     "output_type": "execute_result"
    }
   ],
   "source": [
    "# MAYBE\n",
    "ys[2]"
   ]
  },
  {
   "cell_type": "markdown",
   "id": "3a2184d5-d2a7-4e93-b275-dd144d853018",
   "metadata": {},
   "source": [
    "#### Selecting subsets of the data frame\n",
    "\n",
    "We can use a combined selection expression to choose\n",
    "and arbitrary subset of the rows and columns of the data frame.\n",
    "\n",
    "We rarely need to do this,\n",
    "but for the purpose of illustration of the `loc` syntax,\n",
    "here is the code for selecting the `y` and `team` columns\n",
    "from the last two rows of the data frame."
   ]
  },
  {
   "cell_type": "code",
   "execution_count": 48,
   "id": "cd6c32f7-6641-458f-930f-485bea58c411",
   "metadata": {},
   "outputs": [
    {
     "data": {
      "text/html": [
       "<div>\n",
       "<style scoped>\n",
       "    .dataframe tbody tr th:only-of-type {\n",
       "        vertical-align: middle;\n",
       "    }\n",
       "\n",
       "    .dataframe tbody tr th {\n",
       "        vertical-align: top;\n",
       "    }\n",
       "\n",
       "    .dataframe thead th {\n",
       "        text-align: right;\n",
       "    }\n",
       "</style>\n",
       "<table border=\"1\" class=\"dataframe\">\n",
       "  <thead>\n",
       "    <tr style=\"text-align: right;\">\n",
       "      <th></th>\n",
       "      <th>y</th>\n",
       "      <th>team</th>\n",
       "    </tr>\n",
       "  </thead>\n",
       "  <tbody>\n",
       "    <tr>\n",
       "      <th>3</th>\n",
       "      <td>2.0</td>\n",
       "      <td>b</td>\n",
       "    </tr>\n",
       "    <tr>\n",
       "      <th>4</th>\n",
       "      <td>1.5</td>\n",
       "      <td>b</td>\n",
       "    </tr>\n",
       "  </tbody>\n",
       "</table>\n",
       "</div>"
      ],
      "text/plain": [
       "     y team\n",
       "3  2.0    b\n",
       "4  1.5    b"
      ]
     },
     "execution_count": 48,
     "metadata": {},
     "output_type": "execute_result"
    }
   ],
   "source": [
    "df.loc[3:5, [\"y\",\"team\"]]"
   ]
  },
  {
   "cell_type": "code",
   "execution_count": null,
   "id": "2fdf4bdb-d0c0-494b-a8c6-fc731c2c00e8",
   "metadata": {},
   "outputs": [],
   "source": []
  },
  {
   "cell_type": "code",
   "execution_count": 67,
   "id": "b68921e8-fe0d-4214-a933-93b2cfe83bf9",
   "metadata": {},
   "outputs": [],
   "source": [
    "# add the columns to the index; result is series with a multi-index\n",
    "# df.stack()"
   ]
  },
  {
   "cell_type": "code",
   "execution_count": 68,
   "id": "ec09e49a-1287-4b9d-bd5d-b6d0ade1f42f",
   "metadata": {},
   "outputs": [],
   "source": [
    "# ALT. way to do transpose\n",
    "# df.stack().reorder_levels([1,0]).unstack()"
   ]
  },
  {
   "cell_type": "markdown",
   "id": "7c0ae0b6-0a01-4bec-8e9f-b149f829ffc9",
   "metadata": {},
   "source": [
    "### Datasets for the book"
   ]
  },
  {
   "cell_type": "code",
   "execution_count": 5,
   "id": "22664ca0-b64b-4f07-a4be-38234e795dab",
   "metadata": {},
   "outputs": [],
   "source": [
    "students = pd.read_csv(\"../../datasets/students.csv\")"
   ]
  },
  {
   "cell_type": "code",
   "execution_count": 6,
   "id": "3c8f541f-7efd-4e1d-9394-c690ce3c1257",
   "metadata": {},
   "outputs": [
    {
     "data": {
      "text/html": [
       "<div>\n",
       "<style scoped>\n",
       "    .dataframe tbody tr th:only-of-type {\n",
       "        vertical-align: middle;\n",
       "    }\n",
       "\n",
       "    .dataframe tbody tr th {\n",
       "        vertical-align: top;\n",
       "    }\n",
       "\n",
       "    .dataframe thead th {\n",
       "        text-align: right;\n",
       "    }\n",
       "</style>\n",
       "<table border=\"1\" class=\"dataframe\">\n",
       "  <thead>\n",
       "    <tr style=\"text-align: right;\">\n",
       "      <th></th>\n",
       "      <th>student_ID</th>\n",
       "      <th>background</th>\n",
       "      <th>curriculum</th>\n",
       "      <th>effort</th>\n",
       "      <th>score</th>\n",
       "    </tr>\n",
       "  </thead>\n",
       "  <tbody>\n",
       "    <tr>\n",
       "      <th>0</th>\n",
       "      <td>1</td>\n",
       "      <td>arts</td>\n",
       "      <td>debate</td>\n",
       "      <td>10.96</td>\n",
       "      <td>75.0</td>\n",
       "    </tr>\n",
       "    <tr>\n",
       "      <th>1</th>\n",
       "      <td>2</td>\n",
       "      <td>science</td>\n",
       "      <td>lecture</td>\n",
       "      <td>8.69</td>\n",
       "      <td>75.0</td>\n",
       "    </tr>\n",
       "    <tr>\n",
       "      <th>2</th>\n",
       "      <td>3</td>\n",
       "      <td>arts</td>\n",
       "      <td>debate</td>\n",
       "      <td>8.60</td>\n",
       "      <td>67.0</td>\n",
       "    </tr>\n",
       "    <tr>\n",
       "      <th>3</th>\n",
       "      <td>4</td>\n",
       "      <td>arts</td>\n",
       "      <td>lecture</td>\n",
       "      <td>7.92</td>\n",
       "      <td>70.3</td>\n",
       "    </tr>\n",
       "    <tr>\n",
       "      <th>4</th>\n",
       "      <td>5</td>\n",
       "      <td>science</td>\n",
       "      <td>debate</td>\n",
       "      <td>9.90</td>\n",
       "      <td>76.1</td>\n",
       "    </tr>\n",
       "  </tbody>\n",
       "</table>\n",
       "</div>"
      ],
      "text/plain": [
       "   student_ID background curriculum  effort  score\n",
       "0           1       arts     debate   10.96   75.0\n",
       "1           2    science    lecture    8.69   75.0\n",
       "2           3       arts     debate    8.60   67.0\n",
       "3           4       arts    lecture    7.92   70.3\n",
       "4           5    science     debate    9.90   76.1"
      ]
     },
     "execution_count": 6,
     "metadata": {},
     "output_type": "execute_result"
    }
   ],
   "source": [
    "students.head()"
   ]
  },
  {
   "cell_type": "code",
   "execution_count": null,
   "id": "df1e3029-fd7d-4f2d-99e8-f1bffb4a835f",
   "metadata": {},
   "outputs": [],
   "source": []
  },
  {
   "cell_type": "code",
   "execution_count": 130,
   "id": "1899aca1-94bb-4186-ad6f-721657f13f8d",
   "metadata": {},
   "outputs": [],
   "source": [
    "xD = students[students[\"curriculum\"]==\"debate\"][\"score\"].values\n",
    "xL = students[students[\"curriculum\"]==\"lecture\"][\"score\"].values"
   ]
  },
  {
   "cell_type": "code",
   "execution_count": 131,
   "id": "d01527a8-0f66-4a17-b5d9-26b4c9fd0075",
   "metadata": {},
   "outputs": [
    {
     "data": {
      "text/plain": [
       "(76.4625, 68.14285714285714, 8.319642857142867)"
      ]
     },
     "execution_count": 131,
     "metadata": {},
     "output_type": "execute_result"
    }
   ],
   "source": [
    "import numpy as np\n",
    "np.mean(xD), np.mean(xL), np.mean(xD) -np.mean(xL)"
   ]
  },
  {
   "cell_type": "code",
   "execution_count": 132,
   "id": "28e53a2c-3426-4c31-9046-88e8c0357744",
   "metadata": {},
   "outputs": [
    {
     "data": {
      "text/plain": [
       "TtestResult(statistic=1.7197867420465698, pvalue=0.10917234443214315, df=13.0)"
      ]
     },
     "execution_count": 132,
     "metadata": {},
     "output_type": "execute_result"
    }
   ],
   "source": [
    "from scipy.stats import ttest_ind\n",
    "\n",
    "ttest_ind(xD, xL)"
   ]
  },
  {
   "cell_type": "markdown",
   "id": "dfa5c8f4-7415-4921-a68b-86392997e0cd",
   "metadata": {},
   "source": [
    "## Data pre-processing tasks\n",
    "\n",
    "- *Extract* the \"raw\" data from various data source formats\n",
    "  (spreadsheet, databases, files, web servers).\n",
    "- *Transform* the data by reshaping and cleaning it.\n",
    "- *Load* the data into the system used for statistical analysis."
   ]
  },
  {
   "cell_type": "markdown",
   "id": "255c30a0-366a-4f25-ba91-aed360d72020",
   "metadata": {},
   "source": [
    "## Extract\n"
   ]
  },
  {
   "cell_type": "markdown",
   "id": "81a793a0-41f6-4506-9938-f8ccbb3d9439",
   "metadata": {
    "tags": []
   },
   "source": [
    "### Extract data from different source formats"
   ]
  },
  {
   "cell_type": "markdown",
   "id": "61122021-8ce3-44f6-8e13-f3ce3b883069",
   "metadata": {},
   "source": [
    "On UNIX systems (Linux and macOS) the command line program `head` can be used to show the first few lines of any file. The command `head` is very useful for exploring files—by printing the first few lines, you can get an idea of the format it is in.\n",
    "\n",
    "Unfortunately, on Windows the command `head` is not available, so instead of relying on command line tools, we'll write a simple Python function that called `head` that does the same thing as the command line tool: it prints the first few lines of a file. By default this function will print the first five lines of the file, but users can override the `count` argument to request a different number of lines to be printed."
   ]
  },
  {
   "cell_type": "code",
   "execution_count": 7,
   "id": "42435d2b-048f-4737-bdef-5c7faa6ba5cc",
   "metadata": {},
   "outputs": [],
   "source": [
    "import os\n",
    "\n",
    "def head(path, count=7):\n",
    "    \"\"\"\n",
    "    Print the first `count` lines of the file at `path`.\n",
    "    \"\"\"\n",
    "    datafile = open(path, \"r\")\n",
    "    lines = datafile.readlines()\n",
    "    for line in lines[0:count]:\n",
    "        print(line, end=\"\")\n"
   ]
  },
  {
   "cell_type": "markdown",
   "id": "82394310-4c3a-4503-8763-0e5f4526d805",
   "metadata": {},
   "source": [
    "The function `head` contains some special handling for Windows users.\n",
    "If the path is specified using the UNIX path separator `/`,\n",
    "it will be auto-corrected to use the Windows path separator `\\`."
   ]
  },
  {
   "cell_type": "markdown",
   "id": "e0dea80e-6666-47de-8291-1ca0534b9809",
   "metadata": {},
   "source": [
    "## Load\n",
    "ALT. Storing statistical datasets\n",
    "ALT. Data loading\n",
    "\n",
    "When working with data,\n",
    "it's important to follow good practices for storing data and metadata associated with your analysis.\n",
    "Make sure you always have dataset in a format\n",
    "that is easy to load into the software system we'll be using for data analysis.\n",
    "\n",
    "It's still a good idea to save the dataset to a new CSV file in order to separate\n",
    "the extraction, transformation, and cleaning steps from the subsequent statistical analysis.\n",
    "Saving the dataset in a general-purpose format like CSV will also make it easy to share the data with collaborators,\n",
    "or experiment with other statistical software like [RStudio](https://www.rstudio.com/),\n",
    "[JASP](https://jasp-stats.org/), and [Jamovi](https://www.jamovi.org/).\n",
    "\n",
    "To save the data frame `cleandf` as the CSV file `mydata.csv`,\n",
    "we can use its `.to_csv()` method.\n",
    "\n",
    "Let's save the cleaned data to the file `mydata.csv` in a directory `mydataset`."
   ]
  },
  {
   "cell_type": "code",
   "execution_count": 11,
   "id": "c9446e1b-5544-4920-8cb9-fb3d32b039ec",
   "metadata": {},
   "outputs": [],
   "source": [
    "# cleandf.to_csv(\"mydataset/mydata.csv\", index=False)"
   ]
  },
  {
   "cell_type": "markdown",
   "id": "00e058f2-ffe2-4ddd-80ef-12524fe8c04b",
   "metadata": {},
   "source": [
    "We can verify the data was successfully saved to disk using the `head` function,\n",
    "TODO remove head( call\n",
    "which prints the first few lines from the file."
   ]
  },
  {
   "cell_type": "code",
   "execution_count": 12,
   "id": "6b73a75f-94c6-4d09-822f-0a8976076549",
   "metadata": {},
   "outputs": [],
   "source": [
    "# head(\"mydataset/mydata.csv\")"
   ]
  },
  {
   "cell_type": "markdown",
   "id": "5797eccf-5929-4ad9-a1ae-9496bd17fd82",
   "metadata": {},
   "source": [
    "We should also create a short text file `README.txt` that describes the data file,\n",
    "and provides the codebook information for the variables.\n",
    "<!-- Robyn said: Encourage structured/standardized metadata formats -->\n",
    "\n",
    "<!-- Information about the dataset is provided in a text file `README.txt`. -->"
   ]
  },
  {
   "cell_type": "markdown",
   "id": "7b624e69-f1e9-440b-9e58-20d08e569791",
   "metadata": {},
   "source": [
    "Include in the README any information about the dataset that might be relevant for the research project.\n",
    "\n",
    "Remember to document all steps we followed to obtain the dataset.\n",
    "This includes information about how we obtained the data\n",
    "and the transformation and cleaning steps we performed.\n",
    "It's important to record all these details in order to make the ETL pipeline reproducible,\n",
    "meaning someone else could run the same procedure as you to obtain the same dataset.\n",
    "Ideally,\n",
    "you should include a Jupyter notebook or Python script with the data transformations.\n",
    "\n",
    "<!-- Robyn said: Consider explaining the importance of reproducibility - why we don't just manually change values in an excel spreadsheet, for example. -->"
   ]
  },
  {
   "cell_type": "code",
   "execution_count": 14,
   "id": "66b31fb7-1b01-412a-bb07-24b41b61a5ce",
   "metadata": {},
   "outputs": [],
   "source": [
    "# head(\"mydataset/README.txt\", count=11)"
   ]
  },
  {
   "cell_type": "code",
   "execution_count": null,
   "id": "7194fff9-e744-454d-aca6-87996065546b",
   "metadata": {},
   "outputs": [],
   "source": []
  }
 ],
 "metadata": {
  "kernelspec": {
   "display_name": "Python 3 (ipykernel)",
   "language": "python",
   "name": "python3"
  },
  "language_info": {
   "codemirror_mode": {
    "name": "ipython",
    "version": 3
   },
   "file_extension": ".py",
   "mimetype": "text/x-python",
   "name": "python",
   "nbconvert_exporter": "python",
   "pygments_lexer": "ipython3",
   "version": "3.12.4"
  }
 },
 "nbformat": 4,
 "nbformat_minor": 5
}
