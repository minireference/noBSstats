{
 "cells": [
  {
   "cell_type": "markdown",
   "id": "736776c9-ae71-4bf7-8fe5-46969e2627e1",
   "metadata": {},
   "source": [
    "# Appendix D — Pandas tutorial\n",
    "\n",
    "The tutorial is still under development. See [this link](https://nobsstats.com/tutorials/pandas_tutorial.html) for the latest version, or click the binder button [![Binder](https://mybinder.org/badge_logo.svg)](https://mybinder.org/v2/gh/minireference/noBSstats/HEAD?labpath=tutorials/pandas_tutorial.ipynb) to run this notebook interactively.\n",
    "\n",
    "\n",
    "<!-- \n",
    "TOPICS CUT FROM SEC 1.2 (cover in Pandas tutorial appendix)\n",
    "\t- other aggregations \n",
    "\t\tcrosstab\n",
    "\t\t(optional) pivot table\n",
    "\n",
    "    - astype \\emph{transform} (data type)\n",
    "\t(optional) - .str text processing\n",
    "\t(optional) one-hot coding\n",
    "\n",
    "    - Index and sorting\n",
    "\t\t- Sorting\n",
    "\t\t- \\texttt{sort_values}\n",
    "\t\t- \\texttt{sort_index}\n",
    "\t\t- rank\n",
    "\t\n",
    "DECISIONS:\n",
    "- Sept 12: no more use of the custom function `head`\n",
    "\n",
    "-->"
   ]
  },
  {
   "cell_type": "markdown",
   "id": "230a1a22-1e4f-4500-9be2-f617ad463c47",
   "metadata": {},
   "source": [
    "## Pandas overview\n",
    "\n",
    "The Pandas library provides data structures for working with tabular data.\n",
    "Pandas is the standard tool used for real-world data management,\n",
    "data cleaning, and statistical analysis in Python.\n",
    "You can think of Pandas as a Swiss army knife for data manipulations,\n",
    "since it provides a multitude of functions and methods for doing common tasks.\n",
    "\n",
    "<!-- is a powerful and versatile toolbox for manipulating tabular data. -->\n",
    "\n",
    "This tutorial will introduce you to the essential parts of the Pandas library,\n",
    "with a focus on the data manipulation tasks used in statistics.\n",
    "We'll starting with Pandas essentials like loading data from source\n",
    "into Pandas data frames, and get to know the data frame methods.\n",
    "\n",
    "<!-- PYTHON PREREQUISITE -->\n",
    "<!-- Pandas is a library built on top of basic Python syntax: -->\n",
    "<!-- Maybe add a refresher on Python: list, sum, len, indexing, slicing, ??? -->\n",
    "Pandas is a Python library,\n",
    "so any prior experience with Python will come in handy.\n",
    "Remember that Appendix C - [python_tutorial.ipynb](./python_tutorial.ipynb) contains a Python tutorial\n",
    "you can use to get up to speed quickly on the syntax,\n",
    "so if you haven't checked that out yet now would be a good time.\n",
    "<!--\n",
    "before we really start getting into the Pandas code examples.\n",
    "This intro-to-python appendix will show you Python data types (`int`, `float`, `bool`, `list`, etc.),\n",
    "Python operators (`+`, `-`, `*`, `/`, `**`, etc.),\n",
    "and functions (`len`, `sum`, `print`, etc.).\n",
    "There is nothing complicated,\n",
    "but it's good to learn the basic syntax\n",
    "so you'll know the meaning of symbols like `=`, `:`, `[`, `(`, etc.\n",
    "-->"
   ]
  },
  {
   "cell_type": "markdown",
   "id": "cc79ae4f-2690-44ab-a5f7-874f0e0e9059",
   "metadata": {},
   "source": [
    "### Installing Pandas"
   ]
  },
  {
   "cell_type": "markdown",
   "id": "775c3399-8445-4f27-b22f-62eaebc465b4",
   "metadata": {},
   "source": [
    "First,\n",
    "let's make sure pandas is installed using the `%pip` Jupyter command."
   ]
  },
  {
   "cell_type": "code",
   "execution_count": 1,
   "id": "39baf4b6-fd71-474b-a2ac-d9759b69e058",
   "metadata": {},
   "outputs": [
    {
     "name": "stdout",
     "output_type": "stream",
     "text": [
      "Note: you may need to restart the kernel to use updated packages.\n"
     ]
    }
   ],
   "source": [
    "%pip install -q pandas"
   ]
  },
  {
   "cell_type": "markdown",
   "id": "6fa8115c-e24b-4777-8f1c-c9a43ac4bf81",
   "metadata": {},
   "source": [
    "We then import the `pandas` library under the alias `pd`,\n",
    "which is a widespread convention that makes Pandas commands short and fast to type."
   ]
  },
  {
   "cell_type": "code",
   "execution_count": 2,
   "id": "c5ef2f91-84b2-4e65-aca9-97e651940440",
   "metadata": {},
   "outputs": [],
   "source": [
    "import pandas as pd"
   ]
  },
  {
   "cell_type": "markdown",
   "id": "6d7b69dd-2f2c-4177-8749-b4940b30c1de",
   "metadata": {},
   "source": [
    "All the Pandas functionality is now available behind the alias `pd`.\n",
    "\n",
    "Pandas is a high-level toolbox for manipulating data.\n",
    "In particular,\n",
    "if you learn how to work with list-like `pd.Series` objects,\n",
    "and table-like `pd.DataFrame` objects,\n",
    "then you'll know most of what you need to know about data management.\n"
   ]
  },
  {
   "cell_type": "markdown",
   "id": "b87c7fab-d05d-4ec7-8fc0-4432eba1b6fe",
   "metadata": {},
   "source": [
    "We'll also import the NumPy module\n",
    "and issue a command to control the display of numbers in the rest of the notebook."
   ]
  },
  {
   "cell_type": "code",
   "execution_count": 3,
   "id": "d9f72474-d736-4b88-8970-8a02459a2ef4",
   "metadata": {},
   "outputs": [],
   "source": [
    "import numpy as np\n",
    "# simple int and float __repr__\n",
    "np.set_printoptions(legacy='1.25')"
   ]
  },
  {
   "cell_type": "markdown",
   "id": "478b7388-7ffc-46e7-be1d-a1874e066b7e",
   "metadata": {},
   "source": [
    "## Series\n",
    "\n",
    "Pandas `Series` objects are list-like containers of values.\n",
    "We work with series whenever performing calculations on individual columns (variables) of a data frame.\n",
    "We'll start by creating a standalone `pd.Series` object,\n",
    "and defer the discussion about data frames until the next subsection.\n",
    "\n",
    "The code line below shows how to create a series from a list of four numbers.\n",
    "Pandas `pd.Series` objects are similar to Python lists `[3,5,7,9]`.\n",
    "They are containers for series of values."
   ]
  },
  {
   "cell_type": "code",
   "execution_count": 4,
   "id": "c015ab4c-05fa-48c9-b32b-23562fabd4dd",
   "metadata": {},
   "outputs": [],
   "source": [
    "s = pd.Series([3, 5, 7, 9])"
   ]
  },
  {
   "cell_type": "markdown",
   "id": "08a43a69-a6f7-4c96-9ba4-1ab4830ec81e",
   "metadata": {},
   "source": [
    "We stored the series object into a variable named `s`,\n",
    "which is short for series.\n",
    "\n",
    "We can print the series `s` by simply typing its name in a new code cell.\n",
    "Recall that the notebook interface automatically prints the last expression evaluated in a code cell."
   ]
  },
  {
   "cell_type": "code",
   "execution_count": 5,
   "id": "5697f173-1d7d-4b8a-8ad5-517a0050b76d",
   "metadata": {},
   "outputs": [
    {
     "data": {
      "text/plain": [
       "0    3\n",
       "1    5\n",
       "2    7\n",
       "3    9\n",
       "dtype: int64"
      ]
     },
     "execution_count": 5,
     "metadata": {},
     "output_type": "execute_result"
    }
   ],
   "source": [
    "s"
   ]
  },
  {
   "cell_type": "markdown",
   "id": "0353846d-6fd6-42e3-8dbd-053b54f280dd",
   "metadata": {},
   "source": [
    "The numbers printed on the left are called the `index` of the series,\n",
    "while the numbers on the right are the `values` of the series.\n",
    "The last line in the output shows some additional information about the series.\n",
    "The series `s` contains integers,\n",
    "so its `dtype` (data type) is `int64`.\n",
    "\n",
    "<!-- Robyn said: This is the first time that dtype and int64 is brought up. Should we explain this more? -->\n",
    "\n",
    "\n",
    "We use integer indices to identify the elements in the series:\n",
    "the first element is at index `0`,\n",
    "the second element is at index `1`,\n",
    "and so on,\n",
    "until the last element which is at index `len(s)-1`.\n",
    "Here is an example that shows accessing individual values of the series\n",
    "using the default 0-based indexing."
   ]
  },
  {
   "cell_type": "code",
   "execution_count": 6,
   "id": "046e19c1-fa44-451d-a7a0-e4c2b86de234",
   "metadata": {},
   "outputs": [
    {
     "name": "stdout",
     "output_type": "stream",
     "text": [
      "First:  index = 0  value = 3\n",
      "Second: index = 1  value = 5\n",
      "Last:   index = 3  value = 9\n"
     ]
    }
   ],
   "source": [
    "print(\"First:  index =\", 0, \" value =\", s[0])\n",
    "print(\"Second: index =\", 1, \" value =\", s[1])\n",
    "print(\"Last:   index =\", len(s)-1, \" value =\", s[len(s)-1])"
   ]
  },
  {
   "cell_type": "markdown",
   "id": "12cdfdf4-77c7-492f-9140-a3676c71dce0",
   "metadata": {},
   "source": [
    "The series `index` attribute tells you all the possible indices for the series."
   ]
  },
  {
   "cell_type": "code",
   "execution_count": 7,
   "id": "36818882-cf0b-4b19-a177-47641b52db16",
   "metadata": {},
   "outputs": [
    {
     "data": {
      "text/plain": [
       "RangeIndex(start=0, stop=4, step=1)"
      ]
     },
     "execution_count": 7,
     "metadata": {},
     "output_type": "execute_result"
    }
   ],
   "source": [
    "s.index"
   ]
  },
  {
   "cell_type": "code",
   "execution_count": 8,
   "id": "b912dc87-454e-49ac-82c6-3005279999cc",
   "metadata": {},
   "outputs": [
    {
     "data": {
      "text/plain": [
       "[0, 1, 2, 3]"
      ]
     },
     "execution_count": 8,
     "metadata": {},
     "output_type": "execute_result"
    }
   ],
   "source": [
    "list(s.index)"
   ]
  },
  {
   "cell_type": "markdown",
   "id": "3a9a0f7d-a4f0-47c8-af68-0f3ff2a5030e",
   "metadata": {},
   "source": [
    "The series `s` uses the default index `[0, 1, 2, 3]`, \n",
    "which consists of a range of integers, starting at 0,\n",
    "just like the index of a Python list with four elements."
   ]
  },
  {
   "cell_type": "markdown",
   "id": "245f38bc-a9e4-400c-ab5d-88d0ec69c068",
   "metadata": {},
   "source": [
    "The `values` attributes of the series tells you the underlying values without the index."
   ]
  },
  {
   "cell_type": "code",
   "execution_count": 9,
   "id": "8cb5a73a-322c-4833-bc7d-84f2af410e36",
   "metadata": {},
   "outputs": [
    {
     "data": {
      "text/plain": [
       "array([3, 5, 7, 9])"
      ]
     },
     "execution_count": 9,
     "metadata": {},
     "output_type": "execute_result"
    }
   ],
   "source": [
    "s.values"
   ]
  },
  {
   "cell_type": "markdown",
   "id": "371fc74b-3c23-4c43-9031-5e61c9d0be6b",
   "metadata": {},
   "source": [
    "You can access the individual elements of the series using the square brackets syntax\n",
    "based on the index labels for the series.\n",
    "The first element in the series is at index `0`,\n",
    "so we access it as follows:"
   ]
  },
  {
   "cell_type": "code",
   "execution_count": 10,
   "id": "3a5ef5c6-fa3e-4412-96a7-7b0732e23606",
   "metadata": {},
   "outputs": [
    {
     "data": {
      "text/plain": [
       "3"
      ]
     },
     "execution_count": 10,
     "metadata": {},
     "output_type": "execute_result"
    }
   ],
   "source": [
    "s[0]"
   ]
  },
  {
   "cell_type": "markdown",
   "id": "be8ea2c4-0d19-42cf-802f-c5269f620013",
   "metadata": {},
   "source": [
    "We can select a range of elements from the list using the the square\n",
    "brackets and slice notation for the indices:"
   ]
  },
  {
   "cell_type": "code",
   "execution_count": 11,
   "id": "92dafe35-f932-4499-a68f-bdf21c7a2244",
   "metadata": {},
   "outputs": [
    {
     "data": {
      "text/plain": [
       "0    3\n",
       "1    5\n",
       "2    7\n",
       "dtype: int64"
      ]
     },
     "execution_count": 11,
     "metadata": {},
     "output_type": "execute_result"
    }
   ],
   "source": [
    "s[0:3]"
   ]
  },
  {
   "cell_type": "markdown",
   "id": "758631fb-e8fa-4cd8-b964-1ba6a9f7e32f",
   "metadata": {},
   "source": [
    "The slice notation `0:3` refers to the list of indices `[0,1,2]`.\n",
    "The result of `s[0:3]` is a new series that contains a subset of the original series\n",
    "that contains the first three elements.\n"
   ]
  },
  {
   "cell_type": "markdown",
   "id": "73bf0858-6f3b-4b3c-a048-74a5acc7dd15",
   "metadata": {},
   "source": [
    "#### Calculations\n",
    "\n",
    "Pandas series have methods for performing common calculations.\n",
    "For example,\n",
    "the method `.count()` tells us length of the series:\n"
   ]
  },
  {
   "cell_type": "code",
   "execution_count": 12,
   "id": "9b65b747-9ff4-4fee-84bf-b51f0f17dbd1",
   "metadata": {},
   "outputs": [
    {
     "data": {
      "text/plain": [
       "4"
      ]
     },
     "execution_count": 12,
     "metadata": {},
     "output_type": "execute_result"
    }
   ],
   "source": [
    "s.count()  # == len(s)"
   ]
  },
  {
   "cell_type": "markdown",
   "id": "42d5c655-385d-435b-93b6-9cf43f3dcbea",
   "metadata": {},
   "source": [
    "The method `.sum()` computes the sum of the values in the series.\n",
    "\n",
    "<!-- TODO: mention this is the same as SUM(\\...) in Excel -->"
   ]
  },
  {
   "cell_type": "code",
   "execution_count": 13,
   "id": "14e5969d-820b-416f-833a-d28b8966aed6",
   "metadata": {},
   "outputs": [
    {
     "data": {
      "text/plain": [
       "24"
      ]
     },
     "execution_count": 13,
     "metadata": {},
     "output_type": "execute_result"
    }
   ],
   "source": [
    "s.sum()"
   ]
  },
  {
   "cell_type": "markdown",
   "id": "5b845239-427b-4b9d-806e-0875f2d3f478",
   "metadata": {},
   "source": [
    "You can perform arithmetic operations like `+`, `-`, `*`, `/` with series.\n",
    "For example,\n",
    "we can convert the counts in the series `s` to proportions,\n",
    "but dividing the series `s` by the sum of the values.\n"
   ]
  },
  {
   "cell_type": "code",
   "execution_count": 14,
   "id": "a5d522e2-c931-4388-b90d-a9f3784ee060",
   "metadata": {},
   "outputs": [
    {
     "data": {
      "text/plain": [
       "0    0.125000\n",
       "1    0.208333\n",
       "2    0.291667\n",
       "3    0.375000\n",
       "dtype: float64"
      ]
     },
     "execution_count": 14,
     "metadata": {},
     "output_type": "execute_result"
    }
   ],
   "source": [
    "s / s.sum()"
   ]
  },
  {
   "cell_type": "markdown",
   "id": "092532bc-f230-4167-b451-24bec0d1e24b",
   "metadata": {},
   "source": [
    "Series have methods for computing *descriptive statistics* like\n",
    "`.min()`, `.max()`, `.mean()`, `.median()`, `.var()`, `.std()`, `.quantile()`, etc.\n",
    "For example,\n",
    "the mean (average value) and the standard deviation (dispersion from the mean)\n",
    "are two common statistics we want to compute from data.\n",
    "We can calculate the arithmetic mean of the values in the series `s` by calling its `.mean()` method.\n"
   ]
  },
  {
   "cell_type": "code",
   "execution_count": 15,
   "id": "47696af8-c6b7-42cb-98e1-1286c520f3f2",
   "metadata": {},
   "outputs": [
    {
     "data": {
      "text/plain": [
       "6.0"
      ]
     },
     "execution_count": 15,
     "metadata": {},
     "output_type": "execute_result"
    }
   ],
   "source": [
    "s.mean()"
   ]
  },
  {
   "cell_type": "markdown",
   "id": "852caebb-c8d7-47d0-aef4-40fd6b1f5a04",
   "metadata": {},
   "source": [
    "To find the sample standard deviation of the values in the series `s`,\n",
    "we use the `.std()` method.\n"
   ]
  },
  {
   "cell_type": "code",
   "execution_count": 16,
   "id": "7b1c8f16-e436-42d6-8a1d-f7d6d124c39d",
   "metadata": {},
   "outputs": [
    {
     "data": {
      "text/plain": [
       "2.581988897471611"
      ]
     },
     "execution_count": 16,
     "metadata": {},
     "output_type": "execute_result"
    }
   ],
   "source": [
    "s.std()"
   ]
  },
  {
   "cell_type": "markdown",
   "id": "9739d6c4-a392-4947-a092-dd37d4ef0a83",
   "metadata": {},
   "source": [
    "Pandas makes it really easy to compute all descriptive statistics!\n",
    "\n",
    "TODO: TABLE showing all methods on Series objects\n"
   ]
  },
  {
   "cell_type": "markdown",
   "id": "285c5285-24d2-4b8c-8813-041a54cda8a4",
   "metadata": {},
   "source": [
    "We can also use arbitrary `numpy` functions on series,\n",
    "and Pandas will apply the function to the values in the series."
   ]
  },
  {
   "cell_type": "code",
   "execution_count": 17,
   "id": "b97270a5-1256-4871-8a01-47eeae205d69",
   "metadata": {},
   "outputs": [
    {
     "data": {
      "text/plain": [
       "0    1.098612\n",
       "1    1.609438\n",
       "2    1.945910\n",
       "3    2.197225\n",
       "dtype: float64"
      ]
     },
     "execution_count": 17,
     "metadata": {},
     "output_type": "execute_result"
    }
   ],
   "source": [
    "import numpy as np\n",
    "np.log(s)"
   ]
  },
  {
   "cell_type": "markdown",
   "id": "32b8403b-e230-471b-a9c8-d4bcfc7fc94e",
   "metadata": {
    "tags": []
   },
   "source": [
    "#### Bonus material 1\n",
    "\n",
    "A series can contain `float` values."
   ]
  },
  {
   "cell_type": "code",
   "execution_count": 18,
   "id": "84a9f7f4-f72c-4e5c-81d4-5de40b2ad07b",
   "metadata": {},
   "outputs": [
    {
     "data": {
      "text/plain": [
       "0    0.3\n",
       "1    1.5\n",
       "2    2.2\n",
       "dtype: float64"
      ]
     },
     "execution_count": 18,
     "metadata": {},
     "output_type": "execute_result"
    }
   ],
   "source": [
    "s2 = pd.Series([0.3, 1.5, 2.2])\n",
    "s2"
   ]
  },
  {
   "cell_type": "markdown",
   "id": "f76d51dd-1b6d-454b-85c9-9edc9151179f",
   "metadata": {},
   "source": [
    "Here is another example of a series that contains strings (categorical variables)."
   ]
  },
  {
   "cell_type": "code",
   "execution_count": 19,
   "id": "ac6ebaa3-38f6-4aaa-9ecf-04a5d5d8e3a6",
   "metadata": {},
   "outputs": [
    {
     "data": {
      "text/plain": [
       "0    a\n",
       "1    b\n",
       "2    b\n",
       "3    c\n",
       "dtype: object"
      ]
     },
     "execution_count": 19,
     "metadata": {},
     "output_type": "execute_result"
    }
   ],
   "source": [
    "s3 = pd.Series([\"a\", \"b\", \"b\", \"c\"])\n",
    "s3"
   ]
  },
  {
   "cell_type": "markdown",
   "id": "0b3d3f66-f4ba-48fe-ac20-16a79d59f3c5",
   "metadata": {
    "tags": []
   },
   "source": [
    "#### Bonus material 2"
   ]
  },
  {
   "cell_type": "markdown",
   "id": "42f7c22d-6c49-4c04-8437-f6e751903ac7",
   "metadata": {},
   "source": [
    "Pandas series allow arbitrary labels to be used as the index, not just integers.\n",
    "For example, we can use string labels like (`\"x\"`, `\"y\"`, etc.) as the index of a series."
   ]
  },
  {
   "cell_type": "code",
   "execution_count": 20,
   "id": "46da87b3-2999-4745-9627-2b25e0e390c5",
   "metadata": {},
   "outputs": [
    {
     "data": {
      "text/plain": [
       "x    3\n",
       "y    5\n",
       "z    7\n",
       "t    9\n",
       "dtype: int64"
      ]
     },
     "execution_count": 20,
     "metadata": {},
     "output_type": "execute_result"
    }
   ],
   "source": [
    "s4 = pd.Series(index=[\"x\", \"y\", \"z\", \"t\"],\n",
    "               data =[ 3,   5,   7,   9 ])\n",
    "s4"
   ]
  },
  {
   "cell_type": "code",
   "execution_count": 21,
   "id": "461ccc4a-1088-418c-b308-35a11d439717",
   "metadata": {},
   "outputs": [
    {
     "data": {
      "text/plain": [
       "Index(['x', 'y', 'z', 't'], dtype='object')"
      ]
     },
     "execution_count": 21,
     "metadata": {},
     "output_type": "execute_result"
    }
   ],
   "source": [
    "s4.index"
   ]
  },
  {
   "cell_type": "code",
   "execution_count": 22,
   "id": "9f535a74-f20c-49d0-b6f3-09be02e09ff0",
   "metadata": {},
   "outputs": [
    {
     "data": {
      "text/plain": [
       "array([3, 5, 7, 9])"
      ]
     },
     "execution_count": 22,
     "metadata": {},
     "output_type": "execute_result"
    }
   ],
   "source": [
    "s4.values"
   ]
  },
  {
   "cell_type": "markdown",
   "id": "c7145fd4-ca68-4979-92ae-8d4e1df4041e",
   "metadata": {},
   "source": [
    "We can now use the string labels to access the individual elements in the series."
   ]
  },
  {
   "cell_type": "code",
   "execution_count": 23,
   "id": "a3cedffa-2116-4015-b072-b0ccfe1698a1",
   "metadata": {},
   "outputs": [
    {
     "data": {
      "text/plain": [
       "5"
      ]
     },
     "execution_count": 23,
     "metadata": {},
     "output_type": "execute_result"
    }
   ],
   "source": [
    "s4[\"y\"]"
   ]
  },
  {
   "cell_type": "markdown",
   "id": "025ef25a-9088-49fa-a02a-42d11b30a516",
   "metadata": {},
   "source": [
    "In other words,\n",
    "Pandas series also act like Python `dict`ionary objects with arbitrary keys.\n",
    "Indeed any quantity that can be used as a `key` in a dictionary (a Python hashable object),\n",
    "can also be used as a label in a Pandas series.\n",
    "The list of `keys` of a Python dictionary is the same as the `index` of a Pandas series."
   ]
  },
  {
   "cell_type": "markdown",
   "id": "10a7c795-4c47-4f7f-9eff-56242fda49df",
   "metadata": {},
   "source": [
    "## Data frames"
   ]
  },
  {
   "cell_type": "markdown",
   "id": "ca2176b3-031a-4d65-bb6b-71284d8c7924",
   "metadata": {},
   "source": [
    "A Pandas data frame (`pd.DataFrame`) is a container for tabular data similar to a spreadsheet.\n",
    "You can also think of Pandas data frames as collections of Pandas series.\n",
    "<!-- TODO: explain more in high-level analogy to smoothen this step\\... -->\n",
    "\n",
    "The most common way to create a data frame is to read data from a CSV (Comma-Separated-Values) file.\n",
    "Here is the raw contents of the sample data file `minimal.csv`."
   ]
  },
  {
   "cell_type": "code",
   "execution_count": 24,
   "id": "93bc53ca-f553-45d8-8557-c6a91798aada",
   "metadata": {},
   "outputs": [
    {
     "name": "stdout",
     "output_type": "stream",
     "text": [
      "x,y,team,level\n",
      "1.0,2.0,a,3\n",
      "1.5,1.0,a,2\n",
      "2.0,1.5,a,1\n",
      "2.5,2.0,b,3\n",
      "3.0,1.5,b,3\n"
     ]
    }
   ],
   "source": [
    "!cat \"datasets/minimal.csv\""
   ]
  },
  {
   "cell_type": "markdown",
   "id": "70814c8a-9149-461e-a336-03b8ada31ab5",
   "metadata": {},
   "source": [
    "The code sample below shows how to load the data file `datasets/minimal.csv`\n",
    "into a data frame called `df`,\n",
    "which is a common name we use for data frames."
   ]
  },
  {
   "cell_type": "code",
   "execution_count": 25,
   "id": "759fde87-5b15-4643-9ac7-8ea535f5bdcb",
   "metadata": {},
   "outputs": [
    {
     "data": {
      "text/html": [
       "<div>\n",
       "<style scoped>\n",
       "    .dataframe tbody tr th:only-of-type {\n",
       "        vertical-align: middle;\n",
       "    }\n",
       "\n",
       "    .dataframe tbody tr th {\n",
       "        vertical-align: top;\n",
       "    }\n",
       "\n",
       "    .dataframe thead th {\n",
       "        text-align: right;\n",
       "    }\n",
       "</style>\n",
       "<table border=\"1\" class=\"dataframe\">\n",
       "  <thead>\n",
       "    <tr style=\"text-align: right;\">\n",
       "      <th></th>\n",
       "      <th>x</th>\n",
       "      <th>y</th>\n",
       "      <th>team</th>\n",
       "      <th>level</th>\n",
       "    </tr>\n",
       "  </thead>\n",
       "  <tbody>\n",
       "    <tr>\n",
       "      <th>0</th>\n",
       "      <td>1.0</td>\n",
       "      <td>2.0</td>\n",
       "      <td>a</td>\n",
       "      <td>3</td>\n",
       "    </tr>\n",
       "    <tr>\n",
       "      <th>1</th>\n",
       "      <td>1.5</td>\n",
       "      <td>1.0</td>\n",
       "      <td>a</td>\n",
       "      <td>2</td>\n",
       "    </tr>\n",
       "    <tr>\n",
       "      <th>2</th>\n",
       "      <td>2.0</td>\n",
       "      <td>1.5</td>\n",
       "      <td>a</td>\n",
       "      <td>1</td>\n",
       "    </tr>\n",
       "    <tr>\n",
       "      <th>3</th>\n",
       "      <td>2.5</td>\n",
       "      <td>2.0</td>\n",
       "      <td>b</td>\n",
       "      <td>3</td>\n",
       "    </tr>\n",
       "    <tr>\n",
       "      <th>4</th>\n",
       "      <td>3.0</td>\n",
       "      <td>1.5</td>\n",
       "      <td>b</td>\n",
       "      <td>3</td>\n",
       "    </tr>\n",
       "  </tbody>\n",
       "</table>\n",
       "</div>"
      ],
      "text/plain": [
       "     x    y team  level\n",
       "0  1.0  2.0    a      3\n",
       "1  1.5  1.0    a      2\n",
       "2  2.0  1.5    a      1\n",
       "3  2.5  2.0    b      3\n",
       "4  3.0  1.5    b      3"
      ]
     },
     "execution_count": 25,
     "metadata": {},
     "output_type": "execute_result"
    }
   ],
   "source": [
    "df = pd.read_csv(\"datasets/minimal.csv\")\n",
    "df"
   ]
  },
  {
   "cell_type": "markdown",
   "id": "9bdcb8c8-59c6-4471-ae19-ae7449fdfb43",
   "metadata": {},
   "source": [
    "The function `pd.read_csv()` reads the contents of the data file `datasets/minimal.csv`\n",
    "and automatically determines the names of the columns based on the first line in the CSV file,\n",
    "which is called the *header* row.\n",
    "\n",
    "We'll use the data frame `df` for many of the examples in the remainder of this tutorial.\n",
    "The data corresponds to five players in a computer game.\n",
    "The columns `x` and `y` describe the position of the player,\n",
    "the variable `team` indicates which team the player is part of,\n",
    "and the column `level` specifies the character's strength.\n",
    "The meaning of the variables will not be important,\n",
    "since we'll be focussing on the technical aspects of the data manipulation procedures.\n",
    "\n",
    "Pandas provides methods for loading data from many data file formats.\n",
    "The function `pd.read_excel()` can be used to load data from spreadsheet files.\n",
    "There are also functions `pd.read_html()`, `pd.read_json()`,\n",
    "and `pd.read_xml()` for reading data from other file formats.\n",
    "We'll talk more about various data formats later in this section."
   ]
  },
  {
   "cell_type": "markdown",
   "id": "a281ff3a-f275-4ad6-9e6c-67e4615569c4",
   "metadata": {},
   "source": [
    "### Data frame properties\n",
    "\n",
    "Let's explore the attributes and methods of the data frame `df`.\n",
    "First let's use the Python function `type` to confirm that `df` is indeed a data frame object.\n"
   ]
  },
  {
   "cell_type": "code",
   "execution_count": 26,
   "id": "95fabac3-c0bb-4617-9993-2f768a6c1ca5",
   "metadata": {},
   "outputs": [
    {
     "data": {
      "text/plain": [
       "pandas.core.frame.DataFrame"
      ]
     },
     "execution_count": 26,
     "metadata": {},
     "output_type": "execute_result"
    }
   ],
   "source": [
    "type(df)"
   ]
  },
  {
   "cell_type": "markdown",
   "id": "788d6c18-1113-43ee-82fe-a1990e4866af",
   "metadata": {},
   "source": [
    "The above message tells us that the `df` object\n",
    "is an instance of the `DataFrame` class\n",
    "defined in the Python module `pandas.core.frame`.\n",
    "<!-- We'll usually refer to data frame class as `pd.DataFrame` since the exact location where the code is defined is not important. -->\n",
    "<!-- TODO: explain instance has useful attributes and methods -->\n",
    "\n",
    "Every data frame has the attributes `index` and `columns`,\n",
    "as illustrated in the following figure:\n",
    "\n",
    "![Anatomy of the data frame `df`.](./attachments/anatomy-of-minimal-df.png)\n"
   ]
  },
  {
   "attachments": {},
   "cell_type": "markdown",
   "id": "c205fcaa-6041-4335-b30b-a4e387cf5c3d",
   "metadata": {},
   "source": [
    "The `index` is used to refer to the rows of the data frame.\n",
    "<!-- TODO: use \\\"row numbers\\\" intuitive explanation -->"
   ]
  },
  {
   "cell_type": "code",
   "execution_count": 27,
   "id": "a8941ad8-6c1a-4140-b832-fbcf67683f86",
   "metadata": {},
   "outputs": [
    {
     "data": {
      "text/plain": [
       "RangeIndex(start=0, stop=5, step=1)"
      ]
     },
     "execution_count": 27,
     "metadata": {},
     "output_type": "execute_result"
    }
   ],
   "source": [
    "df.index"
   ]
  },
  {
   "cell_type": "markdown",
   "id": "3fddf67c-e2a7-4e3c-af94-d5581d97b264",
   "metadata": {},
   "source": [
    "The data frame `df` uses the \"default\" range index that consists of a sequence integer labels: `[0,1,2,3,4]`,\n",
    "similar to the 0-based indexing used to access the elements of Python lists.\n",
    "<!-- Other datasets could use an index that consists of identifiers (e.g. student ID) or dates. -->\n",
    "\n",
    "The columns-index attribute `.columns` tells us the names of the columns (variables) in the data frame."
   ]
  },
  {
   "cell_type": "code",
   "execution_count": 28,
   "id": "df0d2fd9-6392-4e3c-af0d-07fdd75d92b4",
   "metadata": {},
   "outputs": [
    {
     "data": {
      "text/plain": [
       "Index(['x', 'y', 'team', 'level'], dtype='object')"
      ]
     },
     "execution_count": 28,
     "metadata": {},
     "output_type": "execute_result"
    }
   ],
   "source": [
    "df.columns"
   ]
  },
  {
   "cell_type": "markdown",
   "id": "71429260-f2a4-4f7c-8cc9-94032ecbf941",
   "metadata": {},
   "source": [
    "Column names usually consist of short textual identifiers for the variable (Python strings).\n",
    "Note that spaces and special characters can appear in column names.\n",
    "Column names like `\"x position\"` and `\"level (1 to 3)\"` are allowed,\n",
    "but generally discouraged since complicated column names make data manipulation code more difficult to read."
   ]
  },
  {
   "cell_type": "markdown",
   "id": "14575682-2740-4c08-9320-8fb058770ff9",
   "metadata": {},
   "source": [
    "Another important property of the data frame is its shape."
   ]
  },
  {
   "cell_type": "code",
   "execution_count": 29,
   "id": "4dc3e23e-3b31-447c-af44-09cc85e664a4",
   "metadata": {},
   "outputs": [
    {
     "data": {
      "text/plain": [
       "(5, 4)"
      ]
     },
     "execution_count": 29,
     "metadata": {},
     "output_type": "execute_result"
    }
   ],
   "source": [
    "df.shape"
   ]
  },
  {
   "cell_type": "markdown",
   "id": "d9f13ca3-2efa-4ef7-94bd-007d20bc5440",
   "metadata": {},
   "source": [
    "The `shape` of the data frame `df` is $5 \\times 4$,\n",
    "which means it has five rows and four columns."
   ]
  },
  {
   "cell_type": "markdown",
   "id": "d54a63b3-7422-4db3-ba0e-65ca03b7432b",
   "metadata": {},
   "source": [
    "The `.dtypes` (data types) attribute\n",
    "tells us what `type` of data is stored in each of the columns."
   ]
  },
  {
   "cell_type": "code",
   "execution_count": 30,
   "id": "c34ed47a-eee0-4dfb-9c67-2851f2a0654a",
   "metadata": {},
   "outputs": [
    {
     "data": {
      "text/plain": [
       "x        float64\n",
       "y        float64\n",
       "team      object\n",
       "level      int64\n",
       "dtype: object"
      ]
     },
     "execution_count": 30,
     "metadata": {},
     "output_type": "execute_result"
    }
   ],
   "source": [
    "df.dtypes"
   ]
  },
  {
   "cell_type": "markdown",
   "id": "f0c11a62-d465-4e72-852c-5248921bdd3f",
   "metadata": {},
   "source": [
    "We see that the columns `x` and `y` contain floating point numbers,\n",
    "the column `team` can contain arbitrary Python objects (in this case Python strings),\n",
    "and the column `level` contains integers."
   ]
  },
  {
   "cell_type": "markdown",
   "id": "1c319692-c203-4c62-9b97-aff1553b70f5",
   "metadata": {},
   "source": [
    "The method `.info()` provides additional facts about the data frame object `df`,\n",
    "including information about missing values (null values) and the total memory usage."
   ]
  },
  {
   "cell_type": "code",
   "execution_count": 31,
   "id": "203313ce-fd01-47e0-a720-4e8638a89c07",
   "metadata": {},
   "outputs": [
    {
     "name": "stdout",
     "output_type": "stream",
     "text": [
      "<class 'pandas.core.frame.DataFrame'>\n",
      "RangeIndex: 5 entries, 0 to 4\n",
      "Data columns (total 4 columns):\n",
      " #   Column  Non-Null Count  Dtype  \n",
      "---  ------  --------------  -----  \n",
      " 0   x       5 non-null      float64\n",
      " 1   y       5 non-null      float64\n",
      " 2   team    5 non-null      object \n",
      " 3   level   5 non-null      int64  \n",
      "dtypes: float64(2), int64(1), object(1)\n",
      "memory usage: 502.0 bytes\n"
     ]
    }
   ],
   "source": [
    "df.info(memory_usage=\"deep\")"
   ]
  },
  {
   "cell_type": "markdown",
   "id": "6342668f-e524-4021-b4d1-9a3dbaf0dd8a",
   "metadata": {},
   "source": [
    "The data frame `df` takes up 538 bytes of memory, which is not a lot.\n",
    "You don't have to worry about memory usage for any of the datasets we'll analyze in this book,\n",
    "since they are all small- and medium-sized.\n",
    "You might have to think about memory usage if you work on larger data sets like logs or databases."
   ]
  },
  {
   "cell_type": "markdown",
   "id": "3e7c1a29-c361-446d-bf22-a85a8b38777b",
   "metadata": {},
   "source": [
    "When exploring a data frame,\n",
    "we often want to print the first few rows of the data frame to see what they look like.\n",
    "The data frame method `.head(k)` prints the first `k` rows."
   ]
  },
  {
   "cell_type": "code",
   "execution_count": 32,
   "id": "5a5ed249-a01e-4b89-a3e7-7a3df414a863",
   "metadata": {},
   "outputs": [
    {
     "data": {
      "text/html": [
       "<div>\n",
       "<style scoped>\n",
       "    .dataframe tbody tr th:only-of-type {\n",
       "        vertical-align: middle;\n",
       "    }\n",
       "\n",
       "    .dataframe tbody tr th {\n",
       "        vertical-align: top;\n",
       "    }\n",
       "\n",
       "    .dataframe thead th {\n",
       "        text-align: right;\n",
       "    }\n",
       "</style>\n",
       "<table border=\"1\" class=\"dataframe\">\n",
       "  <thead>\n",
       "    <tr style=\"text-align: right;\">\n",
       "      <th></th>\n",
       "      <th>x</th>\n",
       "      <th>y</th>\n",
       "      <th>team</th>\n",
       "      <th>level</th>\n",
       "    </tr>\n",
       "  </thead>\n",
       "  <tbody>\n",
       "    <tr>\n",
       "      <th>0</th>\n",
       "      <td>1.0</td>\n",
       "      <td>2.0</td>\n",
       "      <td>a</td>\n",
       "      <td>3</td>\n",
       "    </tr>\n",
       "    <tr>\n",
       "      <th>1</th>\n",
       "      <td>1.5</td>\n",
       "      <td>1.0</td>\n",
       "      <td>a</td>\n",
       "      <td>2</td>\n",
       "    </tr>\n",
       "  </tbody>\n",
       "</table>\n",
       "</div>"
      ],
      "text/plain": [
       "     x    y team  level\n",
       "0  1.0  2.0    a      3\n",
       "1  1.5  1.0    a      2"
      ]
     },
     "execution_count": 32,
     "metadata": {},
     "output_type": "execute_result"
    }
   ],
   "source": [
    "df.head(2)"
   ]
  },
  {
   "cell_type": "markdown",
   "id": "a101a207-7619-41a2-ab7c-c046b5a027e3",
   "metadata": {},
   "source": [
    "You can also call `df.tail(k)` to print the last $k$ rows of the data frame,\n",
    "or call `df.sample(k)` to select a random sample of size `k` from the data frame."
   ]
  },
  {
   "cell_type": "markdown",
   "id": "709d5e34-3e30-459a-91da-1e3da228476e",
   "metadata": {},
   "source": [
    "### Accessing and selecting values\n",
    "\n",
    "The `.loc[]` attribute is used to access individual values,\n",
    "rows, or columns from the data frame."
   ]
  },
  {
   "cell_type": "markdown",
   "id": "a704e705-1b12-4eb4-864b-4fd499d86514",
   "metadata": {},
   "source": [
    "#### Accessing individual values\n",
    "\n",
    "The syntax `df.loc[row,col]` is used to select the value\n",
    "that corresponds to the row label `row`\n",
    "and column label `col` in the data frame `df`.\n",
    "For example,\n",
    "to extract the value of the variable `y`\n",
    "for the third row, we use:"
   ]
  },
  {
   "cell_type": "code",
   "execution_count": 33,
   "id": "1efde952-77d2-4f9f-b649-67795dc84d5a",
   "metadata": {},
   "outputs": [
    {
     "data": {
      "text/plain": [
       "1.5"
      ]
     },
     "execution_count": 33,
     "metadata": {},
     "output_type": "execute_result"
    }
   ],
   "source": [
    "df.loc[2, \"y\"]"
   ]
  },
  {
   "cell_type": "markdown",
   "id": "fffb6e41-8cfc-42c8-9e0f-9905ee82671a",
   "metadata": {},
   "source": [
    "#### Selecting entire rows\n",
    "\n",
    "To select rows from a data frame,\n",
    "we use `df.loc[row,:]` where the `:` syntax is shorthand for \"all columns.\""
   ]
  },
  {
   "cell_type": "code",
   "execution_count": 34,
   "id": "558392b6-aab8-4209-95dc-26ccc34d194e",
   "metadata": {},
   "outputs": [
    {
     "data": {
      "text/plain": [
       "x        2.0\n",
       "y        1.5\n",
       "team       a\n",
       "level      1\n",
       "Name: 2, dtype: object"
      ]
     },
     "execution_count": 34,
     "metadata": {},
     "output_type": "execute_result"
    }
   ],
   "source": [
    "row2 = df.loc[2,:]\n",
    "row2"
   ]
  },
  {
   "cell_type": "markdown",
   "id": "deb65272-122c-46bb-9fdb-bf0ebe1e4b76",
   "metadata": {},
   "source": [
    "<!-- Patrick said: emphasize that the \\\"row\\\" corresponds to a given value of the index and not its sequential number from top to bottom (which is .iloc) -->\n",
    "\n",
    "The rows of a data frame are series objects and their index is the same as the columns index of the data frame.\n"
   ]
  },
  {
   "cell_type": "code",
   "execution_count": 35,
   "id": "7c1a300a-fb1c-491a-98c2-af2a96e64d63",
   "metadata": {},
   "outputs": [
    {
     "data": {
      "text/plain": [
       "(pandas.core.series.Series, Index(['x', 'y', 'team', 'level'], dtype='object'))"
      ]
     },
     "execution_count": 35,
     "metadata": {},
     "output_type": "execute_result"
    }
   ],
   "source": [
    "type(row2), row2.index"
   ]
  },
  {
   "cell_type": "code",
   "execution_count": 36,
   "id": "0b4dc3d2-62d9-4753-ab9a-d18deef203a4",
   "metadata": {},
   "outputs": [
    {
     "data": {
      "text/plain": [
       "array([2.0, 1.5, 'a', 1], dtype=object)"
      ]
     },
     "execution_count": 36,
     "metadata": {},
     "output_type": "execute_result"
    }
   ],
   "source": [
    "row2.values"
   ]
  },
  {
   "cell_type": "code",
   "execution_count": 37,
   "id": "6705eefc-9bb2-4969-9333-272c1ee467d1",
   "metadata": {},
   "outputs": [
    {
     "data": {
      "text/plain": [
       "1.5"
      ]
     },
     "execution_count": 37,
     "metadata": {},
     "output_type": "execute_result"
    }
   ],
   "source": [
    "row2[\"y\"]"
   ]
  },
  {
   "cell_type": "markdown",
   "id": "4bc55d80-f593-4c93-9a23-4d3f1c39f541",
   "metadata": {},
   "source": [
    "#### Selecting entire columns\n",
    "\n",
    "We use the syntax `df[col]` to select the column `col` from a data frame."
   ]
  },
  {
   "cell_type": "code",
   "execution_count": 38,
   "id": "fb679e61-e7b6-4e23-933a-c73897b1e36a",
   "metadata": {},
   "outputs": [
    {
     "data": {
      "text/plain": [
       "0    2.0\n",
       "1    1.0\n",
       "2    1.5\n",
       "3    2.0\n",
       "4    1.5\n",
       "Name: y, dtype: float64"
      ]
     },
     "execution_count": 38,
     "metadata": {},
     "output_type": "execute_result"
    }
   ],
   "source": [
    "ys = df[\"y\"]\n",
    "ys"
   ]
  },
  {
   "cell_type": "markdown",
   "id": "90bc31cd-63fb-40a4-99eb-6854c6b5222d",
   "metadata": {},
   "source": [
    "The column `ys` is a series and its index is the same as `df.index`."
   ]
  },
  {
   "cell_type": "code",
   "execution_count": 39,
   "id": "2e98f6a3-f92d-4d5d-b8c9-48e5dbf0d5b1",
   "metadata": {},
   "outputs": [
    {
     "data": {
      "text/plain": [
       "(pandas.core.series.Series, RangeIndex(start=0, stop=5, step=1))"
      ]
     },
     "execution_count": 39,
     "metadata": {},
     "output_type": "execute_result"
    }
   ],
   "source": [
    "type(ys), ys.index"
   ]
  },
  {
   "cell_type": "markdown",
   "id": "fc792876-cb95-48e1-83ee-bb6bd6d16936",
   "metadata": {},
   "source": [
    "The column-selector syntax `df[col]`\n",
    "is shorthand for the expression `df.loc[:,col]`,\n",
    "which means \"select all the rows for the column `col`.\"\n",
    "We can verify that `df[\"y\"]` equals `df.loc[:,\"y\"]` using the `.equals()` method."
   ]
  },
  {
   "cell_type": "code",
   "execution_count": 40,
   "id": "7f0ad5ce-a0a2-4dce-8031-475e56eb02b8",
   "metadata": {},
   "outputs": [
    {
     "data": {
      "text/plain": [
       "True"
      ]
     },
     "execution_count": 40,
     "metadata": {},
     "output_type": "execute_result"
    }
   ],
   "source": [
    "df[\"y\"].equals( df.loc[:,\"y\"] )"
   ]
  },
  {
   "cell_type": "markdown",
   "id": "21aba760-22f3-4e05-9e84-1b10c4744bfe",
   "metadata": {},
   "source": [
    "#### Selecting multiple columns\n",
    "\n",
    "We can extract multiple columns from a data frame\n",
    "by passing a list of column names inside the square brackets."
   ]
  },
  {
   "cell_type": "code",
   "execution_count": 41,
   "id": "5e6376c5-6efc-47cf-8dfe-ffb6c2391371",
   "metadata": {},
   "outputs": [
    {
     "data": {
      "text/html": [
       "<div>\n",
       "<style scoped>\n",
       "    .dataframe tbody tr th:only-of-type {\n",
       "        vertical-align: middle;\n",
       "    }\n",
       "\n",
       "    .dataframe tbody tr th {\n",
       "        vertical-align: top;\n",
       "    }\n",
       "\n",
       "    .dataframe thead th {\n",
       "        text-align: right;\n",
       "    }\n",
       "</style>\n",
       "<table border=\"1\" class=\"dataframe\">\n",
       "  <thead>\n",
       "    <tr style=\"text-align: right;\">\n",
       "      <th></th>\n",
       "      <th>x</th>\n",
       "      <th>y</th>\n",
       "    </tr>\n",
       "  </thead>\n",
       "  <tbody>\n",
       "    <tr>\n",
       "      <th>0</th>\n",
       "      <td>1.0</td>\n",
       "      <td>2.0</td>\n",
       "    </tr>\n",
       "    <tr>\n",
       "      <th>1</th>\n",
       "      <td>1.5</td>\n",
       "      <td>1.0</td>\n",
       "    </tr>\n",
       "    <tr>\n",
       "      <th>2</th>\n",
       "      <td>2.0</td>\n",
       "      <td>1.5</td>\n",
       "    </tr>\n",
       "    <tr>\n",
       "      <th>3</th>\n",
       "      <td>2.5</td>\n",
       "      <td>2.0</td>\n",
       "    </tr>\n",
       "    <tr>\n",
       "      <th>4</th>\n",
       "      <td>3.0</td>\n",
       "      <td>1.5</td>\n",
       "    </tr>\n",
       "  </tbody>\n",
       "</table>\n",
       "</div>"
      ],
      "text/plain": [
       "     x    y\n",
       "0  1.0  2.0\n",
       "1  1.5  1.0\n",
       "2  2.0  1.5\n",
       "3  2.5  2.0\n",
       "4  3.0  1.5"
      ]
     },
     "execution_count": 41,
     "metadata": {},
     "output_type": "execute_result"
    }
   ],
   "source": [
    "df[[\"x\", \"y\"]]"
   ]
  },
  {
   "cell_type": "markdown",
   "id": "755cea77-a56d-4114-8b5b-8ee51eb19de1",
   "metadata": {},
   "source": [
    "The result is a new data frame object\n",
    "that contains only the `x` and `y` columns from the original `df`.\n"
   ]
  },
  {
   "cell_type": "markdown",
   "id": "daef17d1-a78a-48f7-afc6-0ab1ea679969",
   "metadata": {},
   "source": [
    "#### Selecting only certain rows\n",
    "\n",
    "A common task when working with Pandas data frames is to select the rows that fit one or more criteria.\n",
    "We usually carry out this selection procedure using in two-step process:\n",
    "\n",
    "-   Build a \"selection mask\" series that consists of boolean values (`True` or `False`).\n",
    "    The mask series contains the value `True` for the rows we want to keep,\n",
    "    and the value `False` for the rows we want to filter out.\n",
    "\n",
    "-   Select the subset of rows from the data frame using the mask.\n",
    "    The result is a new data frame\n",
    "    that contains only the rows that correspond to the `True` values in the selection mask.\n",
    "\n",
    "For example,\n",
    "to select the rows from the data frame that are part of team `b`,\n",
    "we first build the selection mask."
   ]
  },
  {
   "cell_type": "code",
   "execution_count": 42,
   "id": "64459340-1e00-485f-946f-07242e4a191d",
   "metadata": {},
   "outputs": [
    {
     "data": {
      "text/plain": [
       "0    False\n",
       "1    False\n",
       "2    False\n",
       "3     True\n",
       "4     True\n",
       "Name: team, dtype: bool"
      ]
     },
     "execution_count": 42,
     "metadata": {},
     "output_type": "execute_result"
    }
   ],
   "source": [
    "mask = df[\"team\"] == \"b\"\n",
    "mask"
   ]
  },
  {
   "cell_type": "markdown",
   "id": "8a22e3c3-a123-4a60-a4ba-5c2f94ad8c47",
   "metadata": {},
   "source": [
    "The rows that match the criterion \"`team` column equal to `b`\"\n",
    "correspond to the `True` values in the mask,\n",
    "while the remaining values are `False`.\n",
    "\n",
    "The actual selection is done by using the mask inside the square brackets."
   ]
  },
  {
   "cell_type": "code",
   "execution_count": 43,
   "id": "6c2c4298-58f4-4f67-8a30-c63b2cdde51b",
   "metadata": {},
   "outputs": [
    {
     "data": {
      "text/html": [
       "<div>\n",
       "<style scoped>\n",
       "    .dataframe tbody tr th:only-of-type {\n",
       "        vertical-align: middle;\n",
       "    }\n",
       "\n",
       "    .dataframe tbody tr th {\n",
       "        vertical-align: top;\n",
       "    }\n",
       "\n",
       "    .dataframe thead th {\n",
       "        text-align: right;\n",
       "    }\n",
       "</style>\n",
       "<table border=\"1\" class=\"dataframe\">\n",
       "  <thead>\n",
       "    <tr style=\"text-align: right;\">\n",
       "      <th></th>\n",
       "      <th>x</th>\n",
       "      <th>y</th>\n",
       "      <th>team</th>\n",
       "      <th>level</th>\n",
       "    </tr>\n",
       "  </thead>\n",
       "  <tbody>\n",
       "    <tr>\n",
       "      <th>3</th>\n",
       "      <td>2.5</td>\n",
       "      <td>2.0</td>\n",
       "      <td>b</td>\n",
       "      <td>3</td>\n",
       "    </tr>\n",
       "    <tr>\n",
       "      <th>4</th>\n",
       "      <td>3.0</td>\n",
       "      <td>1.5</td>\n",
       "      <td>b</td>\n",
       "      <td>3</td>\n",
       "    </tr>\n",
       "  </tbody>\n",
       "</table>\n",
       "</div>"
      ],
      "text/plain": [
       "     x    y team  level\n",
       "3  2.5  2.0    b      3\n",
       "4  3.0  1.5    b      3"
      ]
     },
     "execution_count": 43,
     "metadata": {},
     "output_type": "execute_result"
    }
   ],
   "source": [
    "df[mask]"
   ]
  },
  {
   "cell_type": "markdown",
   "id": "225d6c63-36cf-4962-b77c-3835f080f627",
   "metadata": {},
   "source": [
    "The result is a new data frame that contains only the rows that correspond to the `True` values in the `mask` series.\n",
    "\n",
    "We often combine the two steps we described above into a single expression `df[df[\"team\"]==\"b\"]`.\n",
    "This combined expression is a little hard to read at first,\n",
    "since it contains two pairs of square brackets and two occurrences of the data frame name `df`,\n",
    "but you'll quickly get used to it,\n",
    "because you'll see this type of selection expressions very often.\n"
   ]
  },
  {
   "cell_type": "code",
   "execution_count": 44,
   "id": "cc0e6eb4-af87-4a5d-b25f-54332c74925f",
   "metadata": {},
   "outputs": [
    {
     "data": {
      "text/html": [
       "<div>\n",
       "<style scoped>\n",
       "    .dataframe tbody tr th:only-of-type {\n",
       "        vertical-align: middle;\n",
       "    }\n",
       "\n",
       "    .dataframe tbody tr th {\n",
       "        vertical-align: top;\n",
       "    }\n",
       "\n",
       "    .dataframe thead th {\n",
       "        text-align: right;\n",
       "    }\n",
       "</style>\n",
       "<table border=\"1\" class=\"dataframe\">\n",
       "  <thead>\n",
       "    <tr style=\"text-align: right;\">\n",
       "      <th></th>\n",
       "      <th>x</th>\n",
       "      <th>y</th>\n",
       "      <th>team</th>\n",
       "      <th>level</th>\n",
       "    </tr>\n",
       "  </thead>\n",
       "  <tbody>\n",
       "    <tr>\n",
       "      <th>3</th>\n",
       "      <td>2.5</td>\n",
       "      <td>2.0</td>\n",
       "      <td>b</td>\n",
       "      <td>3</td>\n",
       "    </tr>\n",
       "    <tr>\n",
       "      <th>4</th>\n",
       "      <td>3.0</td>\n",
       "      <td>1.5</td>\n",
       "      <td>b</td>\n",
       "      <td>3</td>\n",
       "    </tr>\n",
       "  </tbody>\n",
       "</table>\n",
       "</div>"
      ],
      "text/plain": [
       "     x    y team  level\n",
       "3  2.5  2.0    b      3\n",
       "4  3.0  1.5    b      3"
      ]
     },
     "execution_count": 44,
     "metadata": {},
     "output_type": "execute_result"
    }
   ],
   "source": [
    "df[df[\"team\"]==\"b\"]"
   ]
  },
  {
   "cell_type": "markdown",
   "id": "39f75daa-99ac-44c1-be6e-4e8eaa5fdc4b",
   "metadata": {},
   "source": [
    "We can use the Python bitwise boolean operators `&` (AND), `|` (OR) and `~` (NOT)\n",
    "to build selection masks with multiple criteria.\n",
    "For example,\n",
    "to select the rows with `team` is `b` where the `x` value is greater or equal to 3,\n",
    "we would use the following expression."
   ]
  },
  {
   "cell_type": "code",
   "execution_count": 45,
   "id": "7d61034f-a592-499b-8ec3-fd9c64a3cc52",
   "metadata": {},
   "outputs": [
    {
     "data": {
      "text/html": [
       "<div>\n",
       "<style scoped>\n",
       "    .dataframe tbody tr th:only-of-type {\n",
       "        vertical-align: middle;\n",
       "    }\n",
       "\n",
       "    .dataframe tbody tr th {\n",
       "        vertical-align: top;\n",
       "    }\n",
       "\n",
       "    .dataframe thead th {\n",
       "        text-align: right;\n",
       "    }\n",
       "</style>\n",
       "<table border=\"1\" class=\"dataframe\">\n",
       "  <thead>\n",
       "    <tr style=\"text-align: right;\">\n",
       "      <th></th>\n",
       "      <th>x</th>\n",
       "      <th>y</th>\n",
       "      <th>team</th>\n",
       "      <th>level</th>\n",
       "    </tr>\n",
       "  </thead>\n",
       "  <tbody>\n",
       "    <tr>\n",
       "      <th>4</th>\n",
       "      <td>3.0</td>\n",
       "      <td>1.5</td>\n",
       "      <td>b</td>\n",
       "      <td>3</td>\n",
       "    </tr>\n",
       "  </tbody>\n",
       "</table>\n",
       "</div>"
      ],
      "text/plain": [
       "     x    y team  level\n",
       "4  3.0  1.5    b      3"
      ]
     },
     "execution_count": 45,
     "metadata": {},
     "output_type": "execute_result"
    }
   ],
   "source": [
    "df[(df[\"team\"] == \"b\") & (df[\"x\"] >= 3)]"
   ]
  },
  {
   "cell_type": "markdown",
   "id": "4092b688-af9d-4c60-b5a9-e962e4160107",
   "metadata": {},
   "source": [
    "The selection mask consists of two terms `(df[\"team\"]==\"b\")` and `(df[\"x\"]>=3)`\n",
    "that are combined with the bitwise AND operator `&`.\n",
    "Note the use of extra parentheses to ensure the masks for the two conditions are computed first before the `&` operation is applied.\n",
    "\n",
    "If we want to select multiple values of a variable,\n",
    "we can use the `.isin()` method and specify a list of values to compare with.\n",
    "For example,\n",
    "to build a mask that select all the observations that have `level` equal to `2` or `3`,\n",
    "we can use the following code."
   ]
  },
  {
   "cell_type": "code",
   "execution_count": 46,
   "id": "0d4ad7bf-fe57-483e-8215-fc37750f32d7",
   "metadata": {},
   "outputs": [
    {
     "data": {
      "text/plain": [
       "0     True\n",
       "1     True\n",
       "2    False\n",
       "3     True\n",
       "4     True\n",
       "Name: level, dtype: bool"
      ]
     },
     "execution_count": 46,
     "metadata": {},
     "output_type": "execute_result"
    }
   ],
   "source": [
    "df[\"level\"].isin([2,3])"
   ]
  },
  {
   "cell_type": "markdown",
   "id": "f143255f-f531-46af-b45b-2a8a5e098b48",
   "metadata": {},
   "source": [
    "We see the above expression has correctly selected all observations except the one at index `2`,\n",
    "which has `level` equal to `1`."
   ]
  },
  {
   "cell_type": "markdown",
   "id": "98c29420-e66f-4891-9cbb-1420a616a9ba",
   "metadata": {},
   "source": [
    "### Creating data frames from lists\n",
    "\n",
    "We sometimes obtain data in the form of regular Python objects like lists and dictionaries.\n",
    "If we want to use Pandas functions to manipulate this data,\n",
    "we'll need to put that data into a data frame object."
   ]
  },
  {
   "cell_type": "markdown",
   "id": "2186baab-248d-4411-8e42-f09ce0395957",
   "metadata": {},
   "source": [
    "One way to create a data frame object\n",
    "is to load Python dictionary whose keys are the column names,\n",
    "and its values are lists of the data in each column.\n",
    "The code below shows how to create a data frame `df2`\n",
    "by initializing a `pd.DataFrame` from a columns dictionary."
   ]
  },
  {
   "cell_type": "code",
   "execution_count": 47,
   "id": "e6b61f53-77d1-41c1-bfde-482e3cf65dec",
   "metadata": {},
   "outputs": [
    {
     "data": {
      "text/html": [
       "<div>\n",
       "<style scoped>\n",
       "    .dataframe tbody tr th:only-of-type {\n",
       "        vertical-align: middle;\n",
       "    }\n",
       "\n",
       "    .dataframe tbody tr th {\n",
       "        vertical-align: top;\n",
       "    }\n",
       "\n",
       "    .dataframe thead th {\n",
       "        text-align: right;\n",
       "    }\n",
       "</style>\n",
       "<table border=\"1\" class=\"dataframe\">\n",
       "  <thead>\n",
       "    <tr style=\"text-align: right;\">\n",
       "      <th></th>\n",
       "      <th>x</th>\n",
       "      <th>y</th>\n",
       "      <th>team</th>\n",
       "      <th>level</th>\n",
       "    </tr>\n",
       "  </thead>\n",
       "  <tbody>\n",
       "    <tr>\n",
       "      <th>0</th>\n",
       "      <td>1.0</td>\n",
       "      <td>2.0</td>\n",
       "      <td>a</td>\n",
       "      <td>3</td>\n",
       "    </tr>\n",
       "    <tr>\n",
       "      <th>1</th>\n",
       "      <td>1.5</td>\n",
       "      <td>1.0</td>\n",
       "      <td>a</td>\n",
       "      <td>2</td>\n",
       "    </tr>\n",
       "    <tr>\n",
       "      <th>2</th>\n",
       "      <td>2.0</td>\n",
       "      <td>1.5</td>\n",
       "      <td>a</td>\n",
       "      <td>1</td>\n",
       "    </tr>\n",
       "    <tr>\n",
       "      <th>3</th>\n",
       "      <td>2.5</td>\n",
       "      <td>2.0</td>\n",
       "      <td>b</td>\n",
       "      <td>3</td>\n",
       "    </tr>\n",
       "    <tr>\n",
       "      <th>4</th>\n",
       "      <td>3.0</td>\n",
       "      <td>1.5</td>\n",
       "      <td>b</td>\n",
       "      <td>3</td>\n",
       "    </tr>\n",
       "  </tbody>\n",
       "</table>\n",
       "</div>"
      ],
      "text/plain": [
       "     x    y team  level\n",
       "0  1.0  2.0    a      3\n",
       "1  1.5  1.0    a      2\n",
       "2  2.0  1.5    a      1\n",
       "3  2.5  2.0    b      3\n",
       "4  3.0  1.5    b      3"
      ]
     },
     "execution_count": 47,
     "metadata": {},
     "output_type": "execute_result"
    }
   ],
   "source": [
    "dict_of_columns = {\n",
    "    \"x\": [1.0, 1.5, 2.0, 2.5, 3.0],\n",
    "    \"y\": [2.0, 1.0, 1.5, 2.0, 1.5],\n",
    "    \"team\": [\"a\", \"a\", \"a\", \"b\", \"b\"],\n",
    "    \"level\": [3, 2, 1, 3, 3],\n",
    "}\n",
    "\n",
    "df2 = pd.DataFrame(dict_of_columns)\n",
    "df2"
   ]
  },
  {
   "cell_type": "markdown",
   "id": "3d1b5ba5-2efe-4b5b-a717-2c7a66a95b58",
   "metadata": {},
   "source": [
    "The data frame `df2` that we created above is identical to\n",
    "the data frame `df` that we loaded from the CSV file earlier.\n",
    "We can confirm this by calling the `.equals()` method."
   ]
  },
  {
   "cell_type": "code",
   "execution_count": 48,
   "id": "7602ccd6-045c-47da-9b09-bf23e6b050e6",
   "metadata": {},
   "outputs": [
    {
     "data": {
      "text/plain": [
       "True"
      ]
     },
     "execution_count": 48,
     "metadata": {},
     "output_type": "execute_result"
    }
   ],
   "source": [
    "df2.equals(df)"
   ]
  },
  {
   "cell_type": "markdown",
   "id": "2b74add5-0909-4781-b23d-4be2bf09e010",
   "metadata": {},
   "source": [
    "Indeed,\n",
    "you can think of data frame objects as dictionary-like containers whose keys are the column names,\n",
    "and whose values are Pandas series objects (columns of values)."
   ]
  },
  {
   "cell_type": "markdown",
   "id": "8a529056-16c4-4aa0-9282-4bc4f2ff4ff3",
   "metadata": {},
   "source": [
    "We can also create a data frame from a list of observation records.\n",
    "Each record (row) corresponds to the data of one observation."
   ]
  },
  {
   "cell_type": "code",
   "execution_count": 49,
   "id": "a961a690-7e50-4d2d-9b70-7c91f36fad80",
   "metadata": {},
   "outputs": [
    {
     "data": {
      "text/html": [
       "<div>\n",
       "<style scoped>\n",
       "    .dataframe tbody tr th:only-of-type {\n",
       "        vertical-align: middle;\n",
       "    }\n",
       "\n",
       "    .dataframe tbody tr th {\n",
       "        vertical-align: top;\n",
       "    }\n",
       "\n",
       "    .dataframe thead th {\n",
       "        text-align: right;\n",
       "    }\n",
       "</style>\n",
       "<table border=\"1\" class=\"dataframe\">\n",
       "  <thead>\n",
       "    <tr style=\"text-align: right;\">\n",
       "      <th></th>\n",
       "      <th>x</th>\n",
       "      <th>y</th>\n",
       "      <th>team</th>\n",
       "      <th>level</th>\n",
       "    </tr>\n",
       "  </thead>\n",
       "  <tbody>\n",
       "    <tr>\n",
       "      <th>0</th>\n",
       "      <td>1.0</td>\n",
       "      <td>2.0</td>\n",
       "      <td>a</td>\n",
       "      <td>3</td>\n",
       "    </tr>\n",
       "    <tr>\n",
       "      <th>1</th>\n",
       "      <td>1.5</td>\n",
       "      <td>1.0</td>\n",
       "      <td>a</td>\n",
       "      <td>2</td>\n",
       "    </tr>\n",
       "    <tr>\n",
       "      <th>2</th>\n",
       "      <td>2.0</td>\n",
       "      <td>1.5</td>\n",
       "      <td>a</td>\n",
       "      <td>1</td>\n",
       "    </tr>\n",
       "    <tr>\n",
       "      <th>3</th>\n",
       "      <td>2.5</td>\n",
       "      <td>2.0</td>\n",
       "      <td>b</td>\n",
       "      <td>3</td>\n",
       "    </tr>\n",
       "    <tr>\n",
       "      <th>4</th>\n",
       "      <td>3.0</td>\n",
       "      <td>1.5</td>\n",
       "      <td>b</td>\n",
       "      <td>3</td>\n",
       "    </tr>\n",
       "  </tbody>\n",
       "</table>\n",
       "</div>"
      ],
      "text/plain": [
       "     x    y team  level\n",
       "0  1.0  2.0    a      3\n",
       "1  1.5  1.0    a      2\n",
       "2  2.0  1.5    a      1\n",
       "3  2.5  2.0    b      3\n",
       "4  3.0  1.5    b      3"
      ]
     },
     "execution_count": 49,
     "metadata": {},
     "output_type": "execute_result"
    }
   ],
   "source": [
    "list_records = [\n",
    "    [1.0, 2.0, \"a\", 3],\n",
    "    [1.5, 1.0, \"a\", 2],\n",
    "    [2.0, 1.5, \"a\", 1],\n",
    "    [2.5, 2.0, \"b\", 3],\n",
    "    [3.0, 1.5, \"b\", 3],\n",
    "]\n",
    "columns = [\"x\", \"y\", \"team\", \"level\"]\n",
    "\n",
    "df3 = pd.DataFrame(list_records, columns=columns)\n",
    "df3"
   ]
  },
  {
   "cell_type": "markdown",
   "id": "0f395e7f-02af-48cc-a6da-a029103de073",
   "metadata": {},
   "source": [
    "When using the list-of-records approach,\n",
    "Pandas can't determine the names of the columns automatically,\n",
    "so we must pass in the `columns` argument with a list of the column names we want for the data frame.\n",
    "The data frame `df3` created from the lists of records \n",
    "is identical to the data frame `df` that we loaded from the CSV file."
   ]
  },
  {
   "cell_type": "code",
   "execution_count": 50,
   "id": "c3b95672-2fe4-4214-a0b3-ef27f14ed841",
   "metadata": {},
   "outputs": [
    {
     "data": {
      "text/plain": [
       "True"
      ]
     },
     "execution_count": 50,
     "metadata": {},
     "output_type": "execute_result"
    }
   ],
   "source": [
    "df3.equals(df)"
   ]
  },
  {
   "cell_type": "markdown",
   "id": "5dcd28f9-553a-479f-8e3e-23a2ae867e60",
   "metadata": {},
   "source": [
    "Another way to create a data frame is to pass in a list of `dict`s:"
   ]
  },
  {
   "cell_type": "code",
   "execution_count": 51,
   "id": "c0a7e0eb-0a57-43c5-bfcf-9ebc08d7a98c",
   "metadata": {},
   "outputs": [
    {
     "data": {
      "text/html": [
       "<div>\n",
       "<style scoped>\n",
       "    .dataframe tbody tr th:only-of-type {\n",
       "        vertical-align: middle;\n",
       "    }\n",
       "\n",
       "    .dataframe tbody tr th {\n",
       "        vertical-align: top;\n",
       "    }\n",
       "\n",
       "    .dataframe thead th {\n",
       "        text-align: right;\n",
       "    }\n",
       "</style>\n",
       "<table border=\"1\" class=\"dataframe\">\n",
       "  <thead>\n",
       "    <tr style=\"text-align: right;\">\n",
       "      <th></th>\n",
       "      <th>x</th>\n",
       "      <th>y</th>\n",
       "      <th>team</th>\n",
       "      <th>level</th>\n",
       "    </tr>\n",
       "  </thead>\n",
       "  <tbody>\n",
       "    <tr>\n",
       "      <th>0</th>\n",
       "      <td>1.0</td>\n",
       "      <td>2.0</td>\n",
       "      <td>a</td>\n",
       "      <td>3</td>\n",
       "    </tr>\n",
       "    <tr>\n",
       "      <th>1</th>\n",
       "      <td>1.5</td>\n",
       "      <td>1.0</td>\n",
       "      <td>a</td>\n",
       "      <td>2</td>\n",
       "    </tr>\n",
       "    <tr>\n",
       "      <th>2</th>\n",
       "      <td>2.0</td>\n",
       "      <td>1.5</td>\n",
       "      <td>a</td>\n",
       "      <td>1</td>\n",
       "    </tr>\n",
       "    <tr>\n",
       "      <th>3</th>\n",
       "      <td>2.5</td>\n",
       "      <td>2.0</td>\n",
       "      <td>b</td>\n",
       "      <td>3</td>\n",
       "    </tr>\n",
       "    <tr>\n",
       "      <th>4</th>\n",
       "      <td>3.0</td>\n",
       "      <td>1.5</td>\n",
       "      <td>b</td>\n",
       "      <td>3</td>\n",
       "    </tr>\n",
       "  </tbody>\n",
       "</table>\n",
       "</div>"
      ],
      "text/plain": [
       "     x    y team  level\n",
       "0  1.0  2.0    a      3\n",
       "1  1.5  1.0    a      2\n",
       "2  2.0  1.5    a      1\n",
       "3  2.5  2.0    b      3\n",
       "4  3.0  1.5    b      3"
      ]
     },
     "execution_count": 51,
     "metadata": {},
     "output_type": "execute_result"
    }
   ],
   "source": [
    "dict_records = [\n",
    "    dict(x=1.0, y=2.0, team=\"a\", level=3),\n",
    "    dict(x=1.5, y=1.0, team=\"a\", level=2),\n",
    "    dict(x=2.0, y=1.5, team=\"a\", level=1),\n",
    "    dict(x=2.5, y=2.0, team=\"b\", level=3),\n",
    "    dict(x=3.0, y=1.5, team=\"b\", level=3),\n",
    "]\n",
    "df4 = pd.DataFrame(dict_records)\n",
    "df4"
   ]
  },
  {
   "cell_type": "markdown",
   "id": "aa4caff9-32ba-4786-bec5-168373585e1b",
   "metadata": {},
   "source": [
    "Once again,\n",
    "the data frame `df4` we obtain\n",
    "is identical to `df` we loaded from `minimal.csv`."
   ]
  },
  {
   "cell_type": "code",
   "execution_count": 52,
   "id": "eb39924f-07f2-4108-8d14-f6ea076398a1",
   "metadata": {},
   "outputs": [
    {
     "data": {
      "text/plain": [
       "True"
      ]
     },
     "execution_count": 52,
     "metadata": {},
     "output_type": "execute_result"
    }
   ],
   "source": [
    "df4.equals(df)"
   ]
  },
  {
   "cell_type": "markdown",
   "id": "7021e9d9-292e-4faa-86d8-393528df98fa",
   "metadata": {},
   "source": [
    "In this section,\n",
    "we illustrated the most common data frame manipulation techniques you might need.\n",
    "Try solving the following exercises before continuing with the rest of the tutorial.\n",
    "\n",
    "<!-- but the Pandas library provides a lot more functionality.\n",
    "If you were able to follow the code examples above\n",
    "and are able to complete the exercises below,\n",
    "then you're ready to continue with the rest of the book.\n",
    "Deep knowledge of Pandas is not required for this book,\n",
    "but it's super useful skill to develop for working with data in real-world projects. -->"
   ]
  },
  {
   "cell_type": "markdown",
   "id": "9716716e-e44b-47f7-b34d-934b93140325",
   "metadata": {},
   "source": [
    "### Exercise 1: select team `a`\n",
    "\n",
    "Select the rows from the data frame `df` that correspond to the players on team `a`."
   ]
  },
  {
   "cell_type": "code",
   "execution_count": 53,
   "id": "5ef12b57-6fbb-4b6c-8d25-0d29a1e4dd22",
   "metadata": {},
   "outputs": [],
   "source": [
    "# Instructions: write your Pandas code in this cell\n"
   ]
  },
  {
   "cell_type": "code",
   "execution_count": 54,
   "id": "a7b1405c-5114-437f-989d-1605edabcb4f",
   "metadata": {},
   "outputs": [
    {
     "data": {
      "text/html": [
       "<div>\n",
       "<style scoped>\n",
       "    .dataframe tbody tr th:only-of-type {\n",
       "        vertical-align: middle;\n",
       "    }\n",
       "\n",
       "    .dataframe tbody tr th {\n",
       "        vertical-align: top;\n",
       "    }\n",
       "\n",
       "    .dataframe thead th {\n",
       "        text-align: right;\n",
       "    }\n",
       "</style>\n",
       "<table border=\"1\" class=\"dataframe\">\n",
       "  <thead>\n",
       "    <tr style=\"text-align: right;\">\n",
       "      <th></th>\n",
       "      <th>x</th>\n",
       "      <th>y</th>\n",
       "      <th>team</th>\n",
       "      <th>level</th>\n",
       "    </tr>\n",
       "  </thead>\n",
       "  <tbody>\n",
       "    <tr>\n",
       "      <th>0</th>\n",
       "      <td>1.0</td>\n",
       "      <td>2.0</td>\n",
       "      <td>a</td>\n",
       "      <td>3</td>\n",
       "    </tr>\n",
       "    <tr>\n",
       "      <th>1</th>\n",
       "      <td>1.5</td>\n",
       "      <td>1.0</td>\n",
       "      <td>a</td>\n",
       "      <td>2</td>\n",
       "    </tr>\n",
       "    <tr>\n",
       "      <th>2</th>\n",
       "      <td>2.0</td>\n",
       "      <td>1.5</td>\n",
       "      <td>a</td>\n",
       "      <td>1</td>\n",
       "    </tr>\n",
       "  </tbody>\n",
       "</table>\n",
       "</div>"
      ],
      "text/plain": [
       "     x    y team  level\n",
       "0  1.0  2.0    a      3\n",
       "1  1.5  1.0    a      2\n",
       "2  2.0  1.5    a      1"
      ]
     },
     "execution_count": 54,
     "metadata": {},
     "output_type": "execute_result"
    }
   ],
   "source": [
    "#@titlesolution Exercise 1 select-team-a\n",
    "df[df[\"team\"]==\"a\"]"
   ]
  },
  {
   "cell_type": "markdown",
   "id": "dc4d4e97-28d0-4402-9a4a-25b817dc29aa",
   "metadata": {},
   "source": [
    "## Sorting, grouping and aggregation\n",
    "\n",
    "<!-- TODO: move after transformation? -->"
   ]
  },
  {
   "cell_type": "markdown",
   "id": "e98f5d3c-189c-4974-9bf6-ab83f4bc48cc",
   "metadata": {},
   "source": [
    "### Sorting\n",
    "\n",
    "TODO"
   ]
  },
  {
   "cell_type": "markdown",
   "id": "0e74f193-2b1f-4ba8-9628-ccff4f773d69",
   "metadata": {},
   "source": [
    "### Group by and aggregation\n",
    "\n",
    "A common calculation we need to perform in statistics\n",
    "is to compare different *groups* of observations,\n",
    "where the grouping is determined by one of the variables.\n",
    "The Pandas method `.groupby()` is used for this purpose.\n",
    "For example,\n",
    "we can group the observations in the data frame `df` by the value of the `team` variable using the following code."
   ]
  },
  {
   "cell_type": "code",
   "execution_count": 55,
   "id": "6b16a47b-1240-40f8-bf7f-ae85c5823401",
   "metadata": {},
   "outputs": [
    {
     "data": {
      "text/plain": [
       "<pandas.core.groupby.generic.DataFrameGroupBy object at 0x10919f200>"
      ]
     },
     "execution_count": 55,
     "metadata": {},
     "output_type": "execute_result"
    }
   ],
   "source": [
    "df.groupby(\"team\")"
   ]
  },
  {
   "cell_type": "markdown",
   "id": "9142783d-3703-4382-9a3d-2e946e540635",
   "metadata": {},
   "source": [
    "The result of calling the `.groupby()` method is a `DataFrameGroupBy` object\n",
    "that contains the subsets of the data frame that correspond to the different values of the `team` variable,\n",
    "`df[df[\"team\"]==\"a\"]` and `df[df[\"team\"]==\"b\"]`.\n",
    "\n",
    "We can use the `DataFrameGroupBy` object to do further selection of variables and perform computations.\n",
    "For example,\n",
    "to compute the mean value of the `x` variable within the two groups,\n",
    "we run the following code."
   ]
  },
  {
   "cell_type": "code",
   "execution_count": 56,
   "id": "6b851466-2414-4bcd-aaf5-ac63f0dc128a",
   "metadata": {},
   "outputs": [
    {
     "data": {
      "text/plain": [
       "team\n",
       "a    1.50\n",
       "b    2.75\n",
       "Name: x, dtype: float64"
      ]
     },
     "execution_count": 56,
     "metadata": {},
     "output_type": "execute_result"
    }
   ],
   "source": [
    "df.groupby(\"team\")[\"x\"].mean()"
   ]
  },
  {
   "cell_type": "markdown",
   "id": "136b8f17-2491-48b9-a53f-f1757b100560",
   "metadata": {},
   "source": [
    "The result is a series containing the mean for the two groups.\n",
    "The first row contains the value `df[df[\"team\"]==\"a\"][\"x\"].mean()`.\n",
    "The second row's value is `df[df[\"team\"]==\"b\"][\"x\"].mean()`.\n",
    "Note the result is a series whose index is the `team` variable (the labels `a` and `b`).\n",
    "\n",
    "We often want to compute several quantities for each group.\n",
    "We can use the `.aggregate()` method after the `goupyby()` method\n",
    "to compute multiple quantities.\n",
    "For example,\n",
    "to compute the sum, the count, and the mean value in each group\n",
    "we use the following code."
   ]
  },
  {
   "cell_type": "code",
   "execution_count": 57,
   "id": "de9abf74-2452-4f98-a5e5-feb235a54eec",
   "metadata": {},
   "outputs": [
    {
     "data": {
      "text/html": [
       "<div>\n",
       "<style scoped>\n",
       "    .dataframe tbody tr th:only-of-type {\n",
       "        vertical-align: middle;\n",
       "    }\n",
       "\n",
       "    .dataframe tbody tr th {\n",
       "        vertical-align: top;\n",
       "    }\n",
       "\n",
       "    .dataframe thead th {\n",
       "        text-align: right;\n",
       "    }\n",
       "</style>\n",
       "<table border=\"1\" class=\"dataframe\">\n",
       "  <thead>\n",
       "    <tr style=\"text-align: right;\">\n",
       "      <th></th>\n",
       "      <th>sum</th>\n",
       "      <th>count</th>\n",
       "      <th>mean</th>\n",
       "    </tr>\n",
       "    <tr>\n",
       "      <th>team</th>\n",
       "      <th></th>\n",
       "      <th></th>\n",
       "      <th></th>\n",
       "    </tr>\n",
       "  </thead>\n",
       "  <tbody>\n",
       "    <tr>\n",
       "      <th>a</th>\n",
       "      <td>4.5</td>\n",
       "      <td>3</td>\n",
       "      <td>1.50</td>\n",
       "    </tr>\n",
       "    <tr>\n",
       "      <th>b</th>\n",
       "      <td>5.5</td>\n",
       "      <td>2</td>\n",
       "      <td>2.75</td>\n",
       "    </tr>\n",
       "  </tbody>\n",
       "</table>\n",
       "</div>"
      ],
      "text/plain": [
       "      sum  count  mean\n",
       "team                  \n",
       "a     4.5      3  1.50\n",
       "b     5.5      2  2.75"
      ]
     },
     "execution_count": 57,
     "metadata": {},
     "output_type": "execute_result"
    }
   ],
   "source": [
    "df.groupby(\"team\")[\"x\"].aggregate([\"sum\", \"count\", \"mean\"])"
   ]
  },
  {
   "cell_type": "markdown",
   "id": "aa8ed880-e2a0-4109-9cd1-1568976eff74",
   "metadata": {},
   "source": [
    "The above code sample is an example of the \"method chaining\" pattern,\n",
    "which is used often in Pandas calculations.\n",
    "We start with the data frame `df`,\n",
    "call its `.goupyby()` method,\n",
    "select the `x` column using the square brackets `[\"x\"]`,\n",
    "then call the method `.aggregate()` on the result.\n",
    "\n",
    "We can \"chain\" together any number of Pandas methods to perform complicated\n",
    "data selection and aggregation operations.\n",
    "The above examples show chaining just two methods,\n",
    "but it is common to chain together three or more methods as well.\n",
    "This ability to carry out advanced data manipulations using a sequence of simple method applications\n",
    "is one of the main benefits of using Pandas for data processing.\n",
    "Method chaining operations work because Pandas `Series`, `DataFrame`s,\n",
    "and `GroupBy` objects all offer the same methods,\n",
    "so the output of one calculation can be fed into the next.\n",
    "\n",
    "When using method chaining for data manipulations,\n",
    "the command chains tend to become very long\n",
    "and often don't fit on a single line of input.\n",
    "We'll therefore split Pandas expressions on multiple lines\n",
    "using the Python line-continuation character `\\`,\n",
    "as shown in the code example below.\n",
    "\n",
    "<!-- Robyn said: You talk about the line-continuation character, but not about whitespace -->\n",
    "<!-- RE: which whitespace, the indentation? that's optional -->\n",
    "<!-- TODO: decide which one I am showing --- Python credo says better to show only one way to do things -->"
   ]
  },
  {
   "cell_type": "code",
   "execution_count": 58,
   "id": "796e4978-d60d-4b3f-92a9-c9856161b508",
   "metadata": {},
   "outputs": [
    {
     "data": {
      "text/html": [
       "<div>\n",
       "<style scoped>\n",
       "    .dataframe tbody tr th:only-of-type {\n",
       "        vertical-align: middle;\n",
       "    }\n",
       "\n",
       "    .dataframe tbody tr th {\n",
       "        vertical-align: top;\n",
       "    }\n",
       "\n",
       "    .dataframe thead th {\n",
       "        text-align: right;\n",
       "    }\n",
       "</style>\n",
       "<table border=\"1\" class=\"dataframe\">\n",
       "  <thead>\n",
       "    <tr style=\"text-align: right;\">\n",
       "      <th></th>\n",
       "      <th>sum</th>\n",
       "      <th>count</th>\n",
       "      <th>mean</th>\n",
       "    </tr>\n",
       "    <tr>\n",
       "      <th>team</th>\n",
       "      <th></th>\n",
       "      <th></th>\n",
       "      <th></th>\n",
       "    </tr>\n",
       "  </thead>\n",
       "  <tbody>\n",
       "    <tr>\n",
       "      <th>a</th>\n",
       "      <td>4.5</td>\n",
       "      <td>3</td>\n",
       "      <td>1.50</td>\n",
       "    </tr>\n",
       "    <tr>\n",
       "      <th>b</th>\n",
       "      <td>5.5</td>\n",
       "      <td>2</td>\n",
       "      <td>2.75</td>\n",
       "    </tr>\n",
       "  </tbody>\n",
       "</table>\n",
       "</div>"
      ],
      "text/plain": [
       "      sum  count  mean\n",
       "team                  \n",
       "a     4.5      3  1.50\n",
       "b     5.5      2  2.75"
      ]
     },
     "execution_count": 58,
     "metadata": {},
     "output_type": "execute_result"
    }
   ],
   "source": [
    "df.groupby(\"team\")[\"x\"] \\\n",
    "  .aggregate([\"sum\", \"count\", \"mean\"])"
   ]
  },
  {
   "cell_type": "markdown",
   "id": "2d98a8ff-5e3a-4b93-8e1f-1a35b9037fe0",
   "metadata": {},
   "source": [
    "The result of the above code cell\n",
    "is identical to the result of code cell that precedes it,\n",
    "however writing the code on two lines using the line-continuation character `\\`\n",
    "makes the operations are easier to read.\n",
    "It is customary (but not required)\n",
    "to indent the second line by a few spaces so the dots line up.\n",
    "The indentation gives a visual appearance of a \"bullet list\"\n",
    "of operation we apply to a data frame.\n",
    "\n",
    "Another way to get the benefits of multi-line commands\n",
    "is to wrap the entire expression in parentheses."
   ]
  },
  {
   "cell_type": "code",
   "execution_count": 59,
   "id": "acde877b-07cc-448c-b68f-77f65adfc1cd",
   "metadata": {},
   "outputs": [
    {
     "data": {
      "text/html": [
       "<div>\n",
       "<style scoped>\n",
       "    .dataframe tbody tr th:only-of-type {\n",
       "        vertical-align: middle;\n",
       "    }\n",
       "\n",
       "    .dataframe tbody tr th {\n",
       "        vertical-align: top;\n",
       "    }\n",
       "\n",
       "    .dataframe thead th {\n",
       "        text-align: right;\n",
       "    }\n",
       "</style>\n",
       "<table border=\"1\" class=\"dataframe\">\n",
       "  <thead>\n",
       "    <tr style=\"text-align: right;\">\n",
       "      <th></th>\n",
       "      <th>sum</th>\n",
       "      <th>count</th>\n",
       "      <th>mean</th>\n",
       "    </tr>\n",
       "    <tr>\n",
       "      <th>team</th>\n",
       "      <th></th>\n",
       "      <th></th>\n",
       "      <th></th>\n",
       "    </tr>\n",
       "  </thead>\n",
       "  <tbody>\n",
       "    <tr>\n",
       "      <th>a</th>\n",
       "      <td>4.5</td>\n",
       "      <td>3</td>\n",
       "      <td>1.50</td>\n",
       "    </tr>\n",
       "    <tr>\n",
       "      <th>b</th>\n",
       "      <td>5.5</td>\n",
       "      <td>2</td>\n",
       "      <td>2.75</td>\n",
       "    </tr>\n",
       "  </tbody>\n",
       "</table>\n",
       "</div>"
      ],
      "text/plain": [
       "      sum  count  mean\n",
       "team                  \n",
       "a     4.5      3  1.50\n",
       "b     5.5      2  2.75"
      ]
     },
     "execution_count": 59,
     "metadata": {},
     "output_type": "execute_result"
    }
   ],
   "source": [
    "(df\n",
    "  .groupby(\"team\")[\"x\"]\n",
    "  .agg([\"sum\", \"count\", \"mean\"])\n",
    ")"
   ]
  },
  {
   "cell_type": "markdown",
   "id": "2bf0246d-3191-4d77-a124-082ab7e51beb",
   "metadata": {},
   "source": [
    "The result is identical to the result in previous two code cells.\n",
    "This works because we're allowed to wrap any Python expression in parentheses without changing its value,\n",
    "so wrapping the command in parentheses doesn't do anything.\n",
    "The benefit of the parentheses is that new lines are ignored for expressions inside parentheses,\n",
    "so we're allowed to break the expression onto multiple lines\n",
    "without the need to add the character `\\` at the end of each line.\n",
    "\n",
    "Don't worry too much about the line-continuation and parentheses tricks for multi-line expressions.\n",
    "Most of the Pandas expressions you'll see in this tutorial will fit on a single line,\n",
    "but I wanted you to know about multi-line expressions syntax\n",
    "in case you see it in certain places."
   ]
  },
  {
   "cell_type": "markdown",
   "id": "da072aba-1c49-4415-aaba-e80df0bef743",
   "metadata": {},
   "source": [
    "### Using `crosstab`\n",
    "\n",
    "TODO\n",
    "\n",
    "### Using `pivot` and `pivot_table`\n",
    "\n",
    "TODO"
   ]
  },
  {
   "cell_type": "markdown",
   "id": "201a94ff-3285-48d4-b825-fb0dc4a110db",
   "metadata": {},
   "source": [
    "## Data transformations\n",
    "\n",
    "<!-- \n",
    "alt. Data practicum\n",
    "alt. Data wrangling\n",
    "alt. Data munging -->\n",
    "\n",
    "So far we talked about selecting subsets of a data frame,\n",
    "but what if we want to modify the data frame?\n",
    "Pandas provides dozens of methods for modifying the shape, the index, the columns, and the data types of data frames.\n",
    "All the methods we'll show in this section return a new data frame,\n",
    "so technically speaking we're not modifying the data frames but returning new, transformed versions of the data frame,\n",
    "which we usually save under a new variable name.\n",
    "\n",
    "<!-- WEAK\n",
    "Tabular data comes in all kinds of shapes and forms.\n",
    "Spreadsheets, CSV files, and database tables all have the common structure of rows and columns,\n",
    "but there are no general rules for how the information is organized in the table.\n",
    "\n",
    "To make working with data easier for statistical analysis and visualizations,\n",
    "we want to transform the data into a \"standard shape\" which is called the *tidy data* structure.\n",
    "The data transformation step takes the data in whatever source format it is in,\n",
    "and reshapes it into a tidy format.\n",
    "TODO: explain tidy again\n",
    "This is usually a good moment to check the data quality and \"clean\" the data\n",
    "by dealing with missing values and outliers.\n",
    "/WEAK -->\n",
    "\n",
    "Below is a list of common data transformations you're likely to encounter in getting \"raw\" source data\n",
    "into the shape needed for statistical analysis.\n",
    "\n",
    "-   **Renaming**: change the column names of a data frame.\n",
    "\n",
    "-   **Reshaping and restructuring** the way the data is organized.\n",
    "    <!-- e.g. transform data into tidy data format:\n",
    "    one observation per row, one variable per column. -->\n",
    "\n",
    "-   **Imputation**: filling in missing values based on the surrounding data or a fixed constant.\n",
    "\n",
    "-   **Merging** data from multiple sources to form a combined dataset.\n",
    "    For example,\n",
    "    we can merge a dataset about downloads per country with another dataset about countries' populations,\n",
    "    so we can compute downloads-per-capita statistics.\n",
    "\n",
    "-   **Filtering**: selecting only a subset of the data we're interested in.\n",
    "\n",
    "-   **Splitting** columns.\n",
    "\n",
    "-   **Data cleaning**: various procedures for identifying and correcting bad data.\n",
    "    Data cleaning procedures include dealing with missing values like `None`,\n",
    "    `NaN` (not a number), and `<NA>` (not available),\n",
    "    detecting coding errors, duplicate observations, or other inconsistencies in the data.\n",
    "\n",
    "-   **Outlier detection and removal**:\n",
    "    used to reject certain observations that fall outside the range of expected values.\n",
    "    <!-- Robyn said: Should we already give a warning about when to do/not to this? -->\n",
    "    <!-- RE: No, that would be TDUF. Want just minimal definition here. -->\n",
    "\n",
    "<!-- TODO: make sure all of these are covered:\n",
    "Common strategies for handling data problems:\n",
    "- missing data $\\to$ deletion, imputation\n",
    "- outliers $\\to$ clipping, transformation\n",
    "- and errors $\\to$ data cleaning, validation checks\n",
    "-->\n",
    "\n",
    "We'll now show some examples of common data transformations,\n",
    "which are worth knowing about.\n",
    "We'll talk about data cleaning and outlier detection in the next section."
   ]
  },
  {
   "cell_type": "markdown",
   "id": "8575ef19-e577-4ef5-ada7-3790caea0c87",
   "metadata": {},
   "source": [
    "### Transpose"
   ]
  },
  {
   "cell_type": "markdown",
   "id": "98750ba5-f9dd-4608-ac8f-04d8e6b4a5a3",
   "metadata": {},
   "source": [
    "The *transpose* transformation flips a data frame through the diagonal,\n",
    "turning the rows into columns, and columns into rows."
   ]
  },
  {
   "cell_type": "code",
   "execution_count": 60,
   "id": "4f210c4c-8492-4e9e-a887-b0ab4c9eddea",
   "metadata": {},
   "outputs": [
    {
     "data": {
      "text/html": [
       "<div>\n",
       "<style scoped>\n",
       "    .dataframe tbody tr th:only-of-type {\n",
       "        vertical-align: middle;\n",
       "    }\n",
       "\n",
       "    .dataframe tbody tr th {\n",
       "        vertical-align: top;\n",
       "    }\n",
       "\n",
       "    .dataframe thead th {\n",
       "        text-align: right;\n",
       "    }\n",
       "</style>\n",
       "<table border=\"1\" class=\"dataframe\">\n",
       "  <thead>\n",
       "    <tr style=\"text-align: right;\">\n",
       "      <th></th>\n",
       "      <th>0</th>\n",
       "      <th>1</th>\n",
       "      <th>2</th>\n",
       "      <th>3</th>\n",
       "      <th>4</th>\n",
       "    </tr>\n",
       "  </thead>\n",
       "  <tbody>\n",
       "    <tr>\n",
       "      <th>x</th>\n",
       "      <td>1.0</td>\n",
       "      <td>1.5</td>\n",
       "      <td>2.0</td>\n",
       "      <td>2.5</td>\n",
       "      <td>3.0</td>\n",
       "    </tr>\n",
       "    <tr>\n",
       "      <th>y</th>\n",
       "      <td>2.0</td>\n",
       "      <td>1.0</td>\n",
       "      <td>1.5</td>\n",
       "      <td>2.0</td>\n",
       "      <td>1.5</td>\n",
       "    </tr>\n",
       "    <tr>\n",
       "      <th>team</th>\n",
       "      <td>a</td>\n",
       "      <td>a</td>\n",
       "      <td>a</td>\n",
       "      <td>b</td>\n",
       "      <td>b</td>\n",
       "    </tr>\n",
       "    <tr>\n",
       "      <th>level</th>\n",
       "      <td>3</td>\n",
       "      <td>2</td>\n",
       "      <td>1</td>\n",
       "      <td>3</td>\n",
       "      <td>3</td>\n",
       "    </tr>\n",
       "  </tbody>\n",
       "</table>\n",
       "</div>"
      ],
      "text/plain": [
       "         0    1    2    3    4\n",
       "x      1.0  1.5  2.0  2.5  3.0\n",
       "y      2.0  1.0  1.5  2.0  1.5\n",
       "team     a    a    a    b    b\n",
       "level    3    2    1    3    3"
      ]
     },
     "execution_count": 60,
     "metadata": {},
     "output_type": "execute_result"
    }
   ],
   "source": [
    "dfT = df.transpose()\n",
    "dfT"
   ]
  },
  {
   "cell_type": "markdown",
   "id": "0b3f0877-b599-4658-bc3c-8afbfb83487d",
   "metadata": {},
   "source": [
    "After the transpose operation,\n",
    "the index `df.index` becomes the column index `dfT.columns`,\n",
    "while the columns index `df.columns`\n",
    "becomes the rows index `dfT.index`.\n",
    "\n",
    "Other data shape transformations methods include\n",
    "`.melt()`, `.stack()`, `.unstack()`, `.merge()`, etc.\n",
    "We'll discuss shape-transformation methods later in the tutorial as needed."
   ]
  },
  {
   "cell_type": "markdown",
   "id": "558fdf52-8117-44f5-b7bd-5076b8c33117",
   "metadata": {},
   "source": [
    "### Adding new columns\n",
    "\n",
    "The most common modification to a data frame is to add a new column.\n",
    "We can add a new column to the data frame `df` by assigning data to a new column name as shown below."
   ]
  },
  {
   "cell_type": "code",
   "execution_count": 61,
   "id": "158d1af9-f755-43de-9c63-8348d773f1ca",
   "metadata": {},
   "outputs": [
    {
     "data": {
      "text/html": [
       "<div>\n",
       "<style scoped>\n",
       "    .dataframe tbody tr th:only-of-type {\n",
       "        vertical-align: middle;\n",
       "    }\n",
       "\n",
       "    .dataframe tbody tr th {\n",
       "        vertical-align: top;\n",
       "    }\n",
       "\n",
       "    .dataframe thead th {\n",
       "        text-align: right;\n",
       "    }\n",
       "</style>\n",
       "<table border=\"1\" class=\"dataframe\">\n",
       "  <thead>\n",
       "    <tr style=\"text-align: right;\">\n",
       "      <th></th>\n",
       "      <th>x</th>\n",
       "      <th>y</th>\n",
       "      <th>team</th>\n",
       "      <th>level</th>\n",
       "      <th>xy</th>\n",
       "    </tr>\n",
       "  </thead>\n",
       "  <tbody>\n",
       "    <tr>\n",
       "      <th>0</th>\n",
       "      <td>1.0</td>\n",
       "      <td>2.0</td>\n",
       "      <td>a</td>\n",
       "      <td>3</td>\n",
       "      <td>2.0</td>\n",
       "    </tr>\n",
       "    <tr>\n",
       "      <th>1</th>\n",
       "      <td>1.5</td>\n",
       "      <td>1.0</td>\n",
       "      <td>a</td>\n",
       "      <td>2</td>\n",
       "      <td>1.5</td>\n",
       "    </tr>\n",
       "    <tr>\n",
       "      <th>2</th>\n",
       "      <td>2.0</td>\n",
       "      <td>1.5</td>\n",
       "      <td>a</td>\n",
       "      <td>1</td>\n",
       "      <td>3.0</td>\n",
       "    </tr>\n",
       "    <tr>\n",
       "      <th>3</th>\n",
       "      <td>2.5</td>\n",
       "      <td>2.0</td>\n",
       "      <td>b</td>\n",
       "      <td>3</td>\n",
       "      <td>5.0</td>\n",
       "    </tr>\n",
       "    <tr>\n",
       "      <th>4</th>\n",
       "      <td>3.0</td>\n",
       "      <td>1.5</td>\n",
       "      <td>b</td>\n",
       "      <td>3</td>\n",
       "      <td>4.5</td>\n",
       "    </tr>\n",
       "  </tbody>\n",
       "</table>\n",
       "</div>"
      ],
      "text/plain": [
       "     x    y team  level   xy\n",
       "0  1.0  2.0    a      3  2.0\n",
       "1  1.5  1.0    a      2  1.5\n",
       "2  2.0  1.5    a      1  3.0\n",
       "3  2.5  2.0    b      3  5.0\n",
       "4  3.0  1.5    b      3  4.5"
      ]
     },
     "execution_count": 61,
     "metadata": {},
     "output_type": "execute_result"
    }
   ],
   "source": [
    "df[\"xy\"] = df[\"x\"] * df[\"y\"]\n",
    "df"
   ]
  },
  {
   "cell_type": "markdown",
   "id": "c356eb25-cdd0-404d-a595-5768c96dd1f5",
   "metadata": {},
   "source": [
    "On the right side of the assignment operator `=` we compute the product of the `x` and `y` columns,\n",
    "which is a series.\n",
    "We assign this series to a new column called `xy`.\n",
    "The result of this assignment is a modified data frame `df` with an additional column."
   ]
  },
  {
   "cell_type": "markdown",
   "id": "953ee47d-8032-4ebb-a236-bb717d424f6b",
   "metadata": {},
   "source": [
    "To remove a column, we use the `.drop` method."
   ]
  },
  {
   "cell_type": "code",
   "execution_count": 62,
   "id": "5c920c17-565b-4f96-9095-0baa159ed49d",
   "metadata": {},
   "outputs": [
    {
     "data": {
      "text/html": [
       "<div>\n",
       "<style scoped>\n",
       "    .dataframe tbody tr th:only-of-type {\n",
       "        vertical-align: middle;\n",
       "    }\n",
       "\n",
       "    .dataframe tbody tr th {\n",
       "        vertical-align: top;\n",
       "    }\n",
       "\n",
       "    .dataframe thead th {\n",
       "        text-align: right;\n",
       "    }\n",
       "</style>\n",
       "<table border=\"1\" class=\"dataframe\">\n",
       "  <thead>\n",
       "    <tr style=\"text-align: right;\">\n",
       "      <th></th>\n",
       "      <th>x</th>\n",
       "      <th>y</th>\n",
       "      <th>team</th>\n",
       "      <th>level</th>\n",
       "    </tr>\n",
       "  </thead>\n",
       "  <tbody>\n",
       "    <tr>\n",
       "      <th>0</th>\n",
       "      <td>1.0</td>\n",
       "      <td>2.0</td>\n",
       "      <td>a</td>\n",
       "      <td>3</td>\n",
       "    </tr>\n",
       "    <tr>\n",
       "      <th>1</th>\n",
       "      <td>1.5</td>\n",
       "      <td>1.0</td>\n",
       "      <td>a</td>\n",
       "      <td>2</td>\n",
       "    </tr>\n",
       "    <tr>\n",
       "      <th>2</th>\n",
       "      <td>2.0</td>\n",
       "      <td>1.5</td>\n",
       "      <td>a</td>\n",
       "      <td>1</td>\n",
       "    </tr>\n",
       "    <tr>\n",
       "      <th>3</th>\n",
       "      <td>2.5</td>\n",
       "      <td>2.0</td>\n",
       "      <td>b</td>\n",
       "      <td>3</td>\n",
       "    </tr>\n",
       "    <tr>\n",
       "      <th>4</th>\n",
       "      <td>3.0</td>\n",
       "      <td>1.5</td>\n",
       "      <td>b</td>\n",
       "      <td>3</td>\n",
       "    </tr>\n",
       "  </tbody>\n",
       "</table>\n",
       "</div>"
      ],
      "text/plain": [
       "     x    y team  level\n",
       "0  1.0  2.0    a      3\n",
       "1  1.5  1.0    a      2\n",
       "2  2.0  1.5    a      1\n",
       "3  2.5  2.0    b      3\n",
       "4  3.0  1.5    b      3"
      ]
     },
     "execution_count": 62,
     "metadata": {},
     "output_type": "execute_result"
    }
   ],
   "source": [
    "df = df.drop(columns=[\"xy\"])\n",
    "df"
   ]
  },
  {
   "cell_type": "markdown",
   "id": "c9ff2c8b-7156-48f5-ae8f-45a22c5d78a3",
   "metadata": {},
   "source": [
    "In the code cells above,\n",
    "we were modifying the data frame `df` without changing its name.\n",
    "This is considered bad coding practice because the same name\n",
    "refers to different objects.\n",
    "In earlier code cells,\n",
    "the data frame `df` had columns `[\"x\", \"y\", \"team\", \"level\"]`,\n",
    "then we added the `xy` column\n",
    "so the data frame `df` has columns `[\"x\", \"y\", \"team\", \"level\", \"xy\"]`,\n",
    "and after that we dropped the column `xy` again.\n",
    "This type of \"in place\" modifications can lead to confusion,\n",
    "since they force us to keep track of the history of operations we performed on `df`.\n",
    "\n",
    "To avoid the need to keep track of the history of operations,\n",
    "it's best to use a different each time you modify a data frame.\n",
    "For example,\n",
    "you can create a copy of `df` under the new name `dfxy`\n",
    "and perform the modifications on the copy as shown below."
   ]
  },
  {
   "cell_type": "code",
   "execution_count": 63,
   "id": "2b7b9118-33ef-4d7e-a134-80fb15d32de0",
   "metadata": {},
   "outputs": [],
   "source": [
    "dfxy = df.copy()\n",
    "dfxy[\"xy\"] = df[\"x\"] * df[\"y\"]"
   ]
  },
  {
   "cell_type": "markdown",
   "id": "0d73ec23-3e31-468f-a0ca-c5779c7b4523",
   "metadata": {},
   "source": [
    "The resulting `dfxy` is the modified `df` with the extra `xy` column,\n",
    "while the original data frame remains unchanged.\n",
    "Using the new name `dfxy` for the modified data frame\n",
    "makes it clear it is not the same as the original `df`."
   ]
  },
  {
   "cell_type": "markdown",
   "id": "8449eadd-17ea-4999-a005-8d5bb5855647",
   "metadata": {},
   "source": [
    "The `.assign()` method is a convenient way\n",
    "to add new columns to a data frame,\n",
    "which automatically makes the copy for us."
   ]
  },
  {
   "cell_type": "code",
   "execution_count": 64,
   "id": "e8848ed6-57c1-4eaf-81b1-9fb42c567b69",
   "metadata": {},
   "outputs": [],
   "source": [
    "dfxy = df.assign(xy = df[\"x\"] * df[\"y\"])"
   ]
  },
  {
   "cell_type": "markdown",
   "id": "7f477c87-0f90-462c-bb74-1f5b7de318bc",
   "metadata": {},
   "source": [
    "The `.assign()` method returns a new data frame without modifying the original `df`.\n",
    "We save the result to a new variable `dfxy`,\n",
    "so the end result the same as the data frame `dfxy` we obtained above using the copy-then-modify approach.\n",
    "\n",
    "The `.assign()` method is very useful\n",
    "for performing multiple transformations to a data frame using method chaining.\n",
    "Here is an example that shows how we can perform four different transformation\n",
    "to the data frame `df` in a single statement."
   ]
  },
  {
   "cell_type": "code",
   "execution_count": 65,
   "id": "9e634d79-2ae8-45e6-955f-0e25ffa556fe",
   "metadata": {},
   "outputs": [
    {
     "data": {
      "text/html": [
       "<div>\n",
       "<style scoped>\n",
       "    .dataframe tbody tr th:only-of-type {\n",
       "        vertical-align: middle;\n",
       "    }\n",
       "\n",
       "    .dataframe tbody tr th {\n",
       "        vertical-align: top;\n",
       "    }\n",
       "\n",
       "    .dataframe thead th {\n",
       "        text-align: right;\n",
       "    }\n",
       "</style>\n",
       "<table border=\"1\" class=\"dataframe\">\n",
       "  <thead>\n",
       "    <tr style=\"text-align: right;\">\n",
       "      <th></th>\n",
       "      <th>x</th>\n",
       "      <th>y</th>\n",
       "      <th>team</th>\n",
       "      <th>level</th>\n",
       "      <th>xy</th>\n",
       "      <th>z</th>\n",
       "      <th>r</th>\n",
       "    </tr>\n",
       "  </thead>\n",
       "  <tbody>\n",
       "    <tr>\n",
       "      <th>0</th>\n",
       "      <td>1.0</td>\n",
       "      <td>2.0</td>\n",
       "      <td>A</td>\n",
       "      <td>3</td>\n",
       "      <td>2.0</td>\n",
       "      <td>1</td>\n",
       "      <td>2.236068</td>\n",
       "    </tr>\n",
       "    <tr>\n",
       "      <th>1</th>\n",
       "      <td>1.5</td>\n",
       "      <td>1.0</td>\n",
       "      <td>A</td>\n",
       "      <td>2</td>\n",
       "      <td>1.5</td>\n",
       "      <td>1</td>\n",
       "      <td>1.802776</td>\n",
       "    </tr>\n",
       "    <tr>\n",
       "      <th>2</th>\n",
       "      <td>2.0</td>\n",
       "      <td>1.5</td>\n",
       "      <td>A</td>\n",
       "      <td>1</td>\n",
       "      <td>3.0</td>\n",
       "      <td>1</td>\n",
       "      <td>2.500000</td>\n",
       "    </tr>\n",
       "    <tr>\n",
       "      <th>3</th>\n",
       "      <td>2.5</td>\n",
       "      <td>2.0</td>\n",
       "      <td>B</td>\n",
       "      <td>3</td>\n",
       "      <td>5.0</td>\n",
       "      <td>1</td>\n",
       "      <td>3.201562</td>\n",
       "    </tr>\n",
       "    <tr>\n",
       "      <th>4</th>\n",
       "      <td>3.0</td>\n",
       "      <td>1.5</td>\n",
       "      <td>B</td>\n",
       "      <td>3</td>\n",
       "      <td>4.5</td>\n",
       "      <td>1</td>\n",
       "      <td>3.354102</td>\n",
       "    </tr>\n",
       "  </tbody>\n",
       "</table>\n",
       "</div>"
      ],
      "text/plain": [
       "     x    y team  level   xy  z         r\n",
       "0  1.0  2.0    A      3  2.0  1  2.236068\n",
       "1  1.5  1.0    A      2  1.5  1  1.802776\n",
       "2  2.0  1.5    A      1  3.0  1  2.500000\n",
       "3  2.5  2.0    B      3  5.0  1  3.201562\n",
       "4  3.0  1.5    B      3  4.5  1  3.354102"
      ]
     },
     "execution_count": 65,
     "metadata": {},
     "output_type": "execute_result"
    }
   ],
   "source": [
    "import numpy as np\n",
    "df5 = df.assign(xy = df[\"x\"] * df[\"y\"]) \\\n",
    "        .assign(z = 1) \\\n",
    "        .assign(r = np.sqrt(df[\"x\"]**2 + df[\"y\"]**2)) \\\n",
    "        .assign(team = df[\"team\"].str.upper())\n",
    "df5"
   ]
  },
  {
   "cell_type": "markdown",
   "id": "2acc26b2-37f2-4391-ae0a-bc2c7821831b",
   "metadata": {},
   "source": [
    "The method chain contains four `.assign()` operations.\n",
    "The effect of the first operation is to add the `xy` column containing the product of `x` and `y` values.\n",
    "The second operation adds a new constant column `z` equal to `1`.\n",
    "The third operation adds the column `r`\n",
    "obtained from the math formula $r = \\sqrt{x^2 + y^2}$,\n",
    "which corresponds to the distance from the origin\n",
    "of a point with coordinates $(x,y)$.\n",
    "Note we used the function `np.sqrt` from the NumPy module\n",
    "to perform the square root operation.\n",
    "The last transformation changes the values of the `team` column\n",
    "to be in uppercase letters.\n",
    "The result of these four assign statements is stored as the new variable `df5`,\n",
    "which we then display.\n",
    "\n",
    "<!-- TODO: mention this is why people like Pandas --- compact notation to get A LOT done. -->"
   ]
  },
  {
   "cell_type": "markdown",
   "id": "b27d21f4-c8df-49c4-8384-5eff6bb4d215",
   "metadata": {
    "tags": []
   },
   "source": [
    "### Dropping rows and and columns\n",
    "\n",
    "Pandas provides several \"drop\" methods for removing unwanted rows or columns from a data frame.\n",
    "For example,\n",
    "to drop the first (index 0), third (index 2), and fifth (index 4) rows of the data frame `df`\n",
    "we can use the `.drop()` method and pass in the list of indices to remove to the `index` argument."
   ]
  },
  {
   "cell_type": "code",
   "execution_count": 66,
   "id": "29c99426-140d-4d93-be2f-4420ac300273",
   "metadata": {},
   "outputs": [
    {
     "data": {
      "text/html": [
       "<div>\n",
       "<style scoped>\n",
       "    .dataframe tbody tr th:only-of-type {\n",
       "        vertical-align: middle;\n",
       "    }\n",
       "\n",
       "    .dataframe tbody tr th {\n",
       "        vertical-align: top;\n",
       "    }\n",
       "\n",
       "    .dataframe thead th {\n",
       "        text-align: right;\n",
       "    }\n",
       "</style>\n",
       "<table border=\"1\" class=\"dataframe\">\n",
       "  <thead>\n",
       "    <tr style=\"text-align: right;\">\n",
       "      <th></th>\n",
       "      <th>x</th>\n",
       "      <th>y</th>\n",
       "      <th>team</th>\n",
       "      <th>level</th>\n",
       "    </tr>\n",
       "  </thead>\n",
       "  <tbody>\n",
       "    <tr>\n",
       "      <th>1</th>\n",
       "      <td>1.5</td>\n",
       "      <td>1.0</td>\n",
       "      <td>a</td>\n",
       "      <td>2</td>\n",
       "    </tr>\n",
       "    <tr>\n",
       "      <th>3</th>\n",
       "      <td>2.5</td>\n",
       "      <td>2.0</td>\n",
       "      <td>b</td>\n",
       "      <td>3</td>\n",
       "    </tr>\n",
       "  </tbody>\n",
       "</table>\n",
       "</div>"
      ],
      "text/plain": [
       "     x    y team  level\n",
       "1  1.5  1.0    a      2\n",
       "3  2.5  2.0    b      3"
      ]
     },
     "execution_count": 66,
     "metadata": {},
     "output_type": "execute_result"
    }
   ],
   "source": [
    "df.drop(index=[0,2,4])"
   ]
  },
  {
   "cell_type": "markdown",
   "id": "2f3553e9-f75f-45b6-810c-4307c445790c",
   "metadata": {},
   "source": [
    "The result is a new data frame that contains only the second (index 1) and fourth (index 3) rows.\n",
    "\n",
    "To remove columns from a data frame,\n",
    "use `.drop()` method with the `columns` option.\n",
    "Here is the code to delete the column `level`."
   ]
  },
  {
   "cell_type": "code",
   "execution_count": 67,
   "id": "b5297517-c16a-4421-a651-110d959a14b6",
   "metadata": {},
   "outputs": [
    {
     "data": {
      "text/html": [
       "<div>\n",
       "<style scoped>\n",
       "    .dataframe tbody tr th:only-of-type {\n",
       "        vertical-align: middle;\n",
       "    }\n",
       "\n",
       "    .dataframe tbody tr th {\n",
       "        vertical-align: top;\n",
       "    }\n",
       "\n",
       "    .dataframe thead th {\n",
       "        text-align: right;\n",
       "    }\n",
       "</style>\n",
       "<table border=\"1\" class=\"dataframe\">\n",
       "  <thead>\n",
       "    <tr style=\"text-align: right;\">\n",
       "      <th></th>\n",
       "      <th>x</th>\n",
       "      <th>y</th>\n",
       "      <th>team</th>\n",
       "    </tr>\n",
       "  </thead>\n",
       "  <tbody>\n",
       "    <tr>\n",
       "      <th>0</th>\n",
       "      <td>1.0</td>\n",
       "      <td>2.0</td>\n",
       "      <td>a</td>\n",
       "    </tr>\n",
       "    <tr>\n",
       "      <th>1</th>\n",
       "      <td>1.5</td>\n",
       "      <td>1.0</td>\n",
       "      <td>a</td>\n",
       "    </tr>\n",
       "    <tr>\n",
       "      <th>2</th>\n",
       "      <td>2.0</td>\n",
       "      <td>1.5</td>\n",
       "      <td>a</td>\n",
       "    </tr>\n",
       "    <tr>\n",
       "      <th>3</th>\n",
       "      <td>2.5</td>\n",
       "      <td>2.0</td>\n",
       "      <td>b</td>\n",
       "    </tr>\n",
       "    <tr>\n",
       "      <th>4</th>\n",
       "      <td>3.0</td>\n",
       "      <td>1.5</td>\n",
       "      <td>b</td>\n",
       "    </tr>\n",
       "  </tbody>\n",
       "</table>\n",
       "</div>"
      ],
      "text/plain": [
       "     x    y team\n",
       "0  1.0  2.0    a\n",
       "1  1.5  1.0    a\n",
       "2  2.0  1.5    a\n",
       "3  2.5  2.0    b\n",
       "4  3.0  1.5    b"
      ]
     },
     "execution_count": 67,
     "metadata": {},
     "output_type": "execute_result"
    }
   ],
   "source": [
    "df.drop(columns=[\"level\"])"
   ]
  },
  {
   "cell_type": "markdown",
   "id": "db73e5d1-10b4-4b09-804d-ee269006f05e",
   "metadata": {},
   "source": [
    "The result is a new data frame that no longer has the `level` column.\n",
    "Note another way to obtain the same result\n",
    "is by selecting the three columns\n",
    "that we want to keep using the code `df[[\"x\", \"y\", \"team\"]]`.\n",
    "\n",
    "Pandas also provides the methods `.dropna()` for removing rows with missing values\n",
    "and `.drop_duplicates()` for removing rows that contain duplicate data.\n",
    "We'll learn more about these methods in the section on data cleaning below.\n",
    "\n",
    "<!-- Other related methods `.dropna()` for removing rows with missing values,\n",
    "and `.drop_duplicates()` for removing rows that contain duplicate data. -->"
   ]
  },
  {
   "cell_type": "markdown",
   "id": "c60c3cd9-95f9-4b82-9eb3-dd3fcbd01d5c",
   "metadata": {},
   "source": [
    "### Renaming columns and values\n",
    "\n",
    "To change the column names of a data frame,\n",
    "we can use the `.rename()` method and pass in to the `columns` argument\n",
    "a Python dictionary of the replacements we want to make.\n",
    "For example,\n",
    "the code below renames the columns `team` and `level` to use uppercase letters.\n",
    "\n",
    "\n",
    "<!-- To rename the columns of a data frame, we can use the `.rename()` method\n",
    "with the `columns` attribute set to a Python dictionary of the replacements we want to make. -->"
   ]
  },
  {
   "cell_type": "code",
   "execution_count": 68,
   "id": "b1fa7206-bba4-49f1-b942-e016d219b3f6",
   "metadata": {},
   "outputs": [
    {
     "data": {
      "text/html": [
       "<div>\n",
       "<style scoped>\n",
       "    .dataframe tbody tr th:only-of-type {\n",
       "        vertical-align: middle;\n",
       "    }\n",
       "\n",
       "    .dataframe tbody tr th {\n",
       "        vertical-align: top;\n",
       "    }\n",
       "\n",
       "    .dataframe thead th {\n",
       "        text-align: right;\n",
       "    }\n",
       "</style>\n",
       "<table border=\"1\" class=\"dataframe\">\n",
       "  <thead>\n",
       "    <tr style=\"text-align: right;\">\n",
       "      <th></th>\n",
       "      <th>x</th>\n",
       "      <th>y</th>\n",
       "      <th>TEAM</th>\n",
       "      <th>LEVEL</th>\n",
       "    </tr>\n",
       "  </thead>\n",
       "  <tbody>\n",
       "    <tr>\n",
       "      <th>0</th>\n",
       "      <td>1.0</td>\n",
       "      <td>2.0</td>\n",
       "      <td>a</td>\n",
       "      <td>3</td>\n",
       "    </tr>\n",
       "    <tr>\n",
       "      <th>1</th>\n",
       "      <td>1.5</td>\n",
       "      <td>1.0</td>\n",
       "      <td>a</td>\n",
       "      <td>2</td>\n",
       "    </tr>\n",
       "    <tr>\n",
       "      <th>2</th>\n",
       "      <td>2.0</td>\n",
       "      <td>1.5</td>\n",
       "      <td>a</td>\n",
       "      <td>1</td>\n",
       "    </tr>\n",
       "    <tr>\n",
       "      <th>3</th>\n",
       "      <td>2.5</td>\n",
       "      <td>2.0</td>\n",
       "      <td>b</td>\n",
       "      <td>3</td>\n",
       "    </tr>\n",
       "    <tr>\n",
       "      <th>4</th>\n",
       "      <td>3.0</td>\n",
       "      <td>1.5</td>\n",
       "      <td>b</td>\n",
       "      <td>3</td>\n",
       "    </tr>\n",
       "  </tbody>\n",
       "</table>\n",
       "</div>"
      ],
      "text/plain": [
       "     x    y TEAM  LEVEL\n",
       "0  1.0  2.0    a      3\n",
       "1  1.5  1.0    a      2\n",
       "2  2.0  1.5    a      1\n",
       "3  2.5  2.0    b      3\n",
       "4  3.0  1.5    b      3"
      ]
     },
     "execution_count": 68,
     "metadata": {},
     "output_type": "execute_result"
    }
   ],
   "source": [
    "df.rename(columns={\"team\":\"TEAM\", \"level\":\"LEVEL\"})"
   ]
  },
  {
   "cell_type": "markdown",
   "id": "11fd900b-ba5d-4d87-a906-9f0bae651be9",
   "metadata": {},
   "source": [
    "The dictionary `{\"team\":\"TEAM\", \"level\":\"LEVEL\"}` contains the `old:new` replacement pairs.\n",
    "\n",
    "To rename the values in the data frame,\n",
    "we can use the `.replace()` method,\n",
    "passing in a Python dictionary of replacements we want to do on the values in each column.\n",
    "For example,\n",
    "here is the code for replacing the values in the `team` column to uppercase letters.\n",
    "\n",
    "<!-- To rename values, we can use the `replace` method,\n",
    "passing in a dictionary of replacements we want to for each column. -->"
   ]
  },
  {
   "cell_type": "code",
   "execution_count": 69,
   "id": "3b082f42-377e-4242-b186-c81a2376fba4",
   "metadata": {},
   "outputs": [
    {
     "data": {
      "text/html": [
       "<div>\n",
       "<style scoped>\n",
       "    .dataframe tbody tr th:only-of-type {\n",
       "        vertical-align: middle;\n",
       "    }\n",
       "\n",
       "    .dataframe tbody tr th {\n",
       "        vertical-align: top;\n",
       "    }\n",
       "\n",
       "    .dataframe thead th {\n",
       "        text-align: right;\n",
       "    }\n",
       "</style>\n",
       "<table border=\"1\" class=\"dataframe\">\n",
       "  <thead>\n",
       "    <tr style=\"text-align: right;\">\n",
       "      <th></th>\n",
       "      <th>x</th>\n",
       "      <th>y</th>\n",
       "      <th>team</th>\n",
       "      <th>level</th>\n",
       "    </tr>\n",
       "  </thead>\n",
       "  <tbody>\n",
       "    <tr>\n",
       "      <th>0</th>\n",
       "      <td>1.0</td>\n",
       "      <td>2.0</td>\n",
       "      <td>A</td>\n",
       "      <td>3</td>\n",
       "    </tr>\n",
       "    <tr>\n",
       "      <th>1</th>\n",
       "      <td>1.5</td>\n",
       "      <td>1.0</td>\n",
       "      <td>A</td>\n",
       "      <td>2</td>\n",
       "    </tr>\n",
       "    <tr>\n",
       "      <th>2</th>\n",
       "      <td>2.0</td>\n",
       "      <td>1.5</td>\n",
       "      <td>A</td>\n",
       "      <td>1</td>\n",
       "    </tr>\n",
       "    <tr>\n",
       "      <th>3</th>\n",
       "      <td>2.5</td>\n",
       "      <td>2.0</td>\n",
       "      <td>B</td>\n",
       "      <td>3</td>\n",
       "    </tr>\n",
       "    <tr>\n",
       "      <th>4</th>\n",
       "      <td>3.0</td>\n",
       "      <td>1.5</td>\n",
       "      <td>B</td>\n",
       "      <td>3</td>\n",
       "    </tr>\n",
       "  </tbody>\n",
       "</table>\n",
       "</div>"
      ],
      "text/plain": [
       "     x    y team  level\n",
       "0  1.0  2.0    A      3\n",
       "1  1.5  1.0    A      2\n",
       "2  2.0  1.5    A      1\n",
       "3  2.5  2.0    B      3\n",
       "4  3.0  1.5    B      3"
      ]
     },
     "execution_count": 69,
     "metadata": {},
     "output_type": "execute_result"
    }
   ],
   "source": [
    "team_mapping = {\"a\":\"A\", \"b\":\"B\"}\n",
    "df.replace({\"team\":team_mapping})"
   ]
  },
  {
   "cell_type": "markdown",
   "id": "70ee86ad-e5e7-4dd9-bbfd-5d2b313eeeb0",
   "metadata": {},
   "source": [
    "The dictionary `{\"a\":\"A\", \"b\":\"B\"}` contains the `old:new` replacement pairs,\n",
    "similar to the dictionary we used above for renaming columns."
   ]
  },
  {
   "cell_type": "code",
   "execution_count": 70,
   "id": "f7fcf92b-7432-4b7a-9068-50eb3c9eacdc",
   "metadata": {},
   "outputs": [],
   "source": [
    "# # ALT. use str-methods to get uppercase letter\n",
    "# df.assign(team = df[\"team\"].str.upper())"
   ]
  },
  {
   "cell_type": "markdown",
   "id": "e24ca7fb-3634-4d53-a031-268e67360161",
   "metadata": {},
   "source": [
    "### Reshaping data frames\n",
    "\n",
    "<!-- Robyn said: I think that this deserves more emphasis. Could we bring up long and wide format with tidy data, earlier on? -->\n",
    "\n",
    "One of the most common transformations we need to do with data frames,\n",
    "is to convert them from \"wide\" format to \"long\" format.\n",
    "Data tables in \"wide\" format contain multiple observations in each row,\n",
    "with the column header indicating some property for the observations in each column.\n",
    "The code example below shows a sample data frame with the viewership numbers for a television series.\n",
    "The viewership numbers are organized by season (rows) and by episode (columns)."
   ]
  },
  {
   "cell_type": "code",
   "execution_count": 71,
   "id": "dd97c00f-ec60-44b7-8b87-57a45aa42adf",
   "metadata": {},
   "outputs": [
    {
     "data": {
      "text/html": [
       "<div>\n",
       "<style scoped>\n",
       "    .dataframe tbody tr th:only-of-type {\n",
       "        vertical-align: middle;\n",
       "    }\n",
       "\n",
       "    .dataframe tbody tr th {\n",
       "        vertical-align: top;\n",
       "    }\n",
       "\n",
       "    .dataframe thead th {\n",
       "        text-align: right;\n",
       "    }\n",
       "</style>\n",
       "<table border=\"1\" class=\"dataframe\">\n",
       "  <thead>\n",
       "    <tr style=\"text-align: right;\">\n",
       "      <th></th>\n",
       "      <th>season</th>\n",
       "      <th>Episode 1</th>\n",
       "      <th>Episode 2</th>\n",
       "      <th>Episode 3</th>\n",
       "    </tr>\n",
       "  </thead>\n",
       "  <tbody>\n",
       "    <tr>\n",
       "      <th>0</th>\n",
       "      <td>Season 1</td>\n",
       "      <td>1000</td>\n",
       "      <td>2000</td>\n",
       "      <td>3000</td>\n",
       "    </tr>\n",
       "    <tr>\n",
       "      <th>1</th>\n",
       "      <td>Season 2</td>\n",
       "      <td>10000</td>\n",
       "      <td>20000</td>\n",
       "      <td>30000</td>\n",
       "    </tr>\n",
       "  </tbody>\n",
       "</table>\n",
       "</div>"
      ],
      "text/plain": [
       "     season  Episode 1  Episode 2  Episode 3\n",
       "0  Season 1       1000       2000       3000\n",
       "1  Season 2      10000      20000      30000"
      ]
     },
     "execution_count": 71,
     "metadata": {},
     "output_type": "execute_result"
    }
   ],
   "source": [
    "views_data = {\n",
    "    \"season\": [\"Season 1\", \"Season 2\"],\n",
    "    \"Episode 1\": [1000, 10000],\n",
    "    \"Episode 2\": [2000, 20000],\n",
    "    \"Episode 3\": [3000, 30000],\n",
    "}\n",
    "tvwide = pd.DataFrame(views_data)\n",
    "tvwide"
   ]
  },
  {
   "cell_type": "markdown",
   "id": "00321cff-ecce-4b8e-87bc-6c1e3e484bbd",
   "metadata": {},
   "source": [
    "This organization is very common for data collected in spreadsheets,\n",
    "since it's easy for humans to interpret values based on the columns they appear in.\n",
    "\n",
    "Data structured in \"wide\" format is useful for data entry and display purposes,\n",
    "but it makes data selection, grouping, and filtering operations more complicated to perform.\n",
    "Wide data is not a good shape for statistical analysis.\n",
    "Instead,\n",
    "we prefer all data to be in \"long\" format where each row corresponds to a single observation,\n",
    "and each column corresponds to a single variable,\n",
    "like the `minimal` dataset we discussed above.\n",
    "\n",
    "The Pandas operation for converting \"wide\" data to \"long\" data is called `melt`,\n",
    "in reference to melting a wide block of ice into a vertical stream of water.\n",
    "The method `.melt()` requires several arguments\n",
    "to specify how to treat each of the columns in the input data frame,\n",
    "and the names we want to assign to the columns in the output data frame.\n",
    "Let's look at the code first,\n",
    "and explain the meaning of the arguments after."
   ]
  },
  {
   "cell_type": "code",
   "execution_count": 72,
   "id": "0630572e-a78a-40c8-b04e-2e28820d6143",
   "metadata": {},
   "outputs": [
    {
     "data": {
      "text/html": [
       "<div>\n",
       "<style scoped>\n",
       "    .dataframe tbody tr th:only-of-type {\n",
       "        vertical-align: middle;\n",
       "    }\n",
       "\n",
       "    .dataframe tbody tr th {\n",
       "        vertical-align: top;\n",
       "    }\n",
       "\n",
       "    .dataframe thead th {\n",
       "        text-align: right;\n",
       "    }\n",
       "</style>\n",
       "<table border=\"1\" class=\"dataframe\">\n",
       "  <thead>\n",
       "    <tr style=\"text-align: right;\">\n",
       "      <th></th>\n",
       "      <th>season</th>\n",
       "      <th>episode</th>\n",
       "      <th>views</th>\n",
       "    </tr>\n",
       "  </thead>\n",
       "  <tbody>\n",
       "    <tr>\n",
       "      <th>0</th>\n",
       "      <td>Season 1</td>\n",
       "      <td>Episode 1</td>\n",
       "      <td>1000</td>\n",
       "    </tr>\n",
       "    <tr>\n",
       "      <th>1</th>\n",
       "      <td>Season 2</td>\n",
       "      <td>Episode 1</td>\n",
       "      <td>10000</td>\n",
       "    </tr>\n",
       "    <tr>\n",
       "      <th>2</th>\n",
       "      <td>Season 1</td>\n",
       "      <td>Episode 2</td>\n",
       "      <td>2000</td>\n",
       "    </tr>\n",
       "    <tr>\n",
       "      <th>3</th>\n",
       "      <td>Season 2</td>\n",
       "      <td>Episode 2</td>\n",
       "      <td>20000</td>\n",
       "    </tr>\n",
       "    <tr>\n",
       "      <th>4</th>\n",
       "      <td>Season 1</td>\n",
       "      <td>Episode 3</td>\n",
       "      <td>3000</td>\n",
       "    </tr>\n",
       "    <tr>\n",
       "      <th>5</th>\n",
       "      <td>Season 2</td>\n",
       "      <td>Episode 3</td>\n",
       "      <td>30000</td>\n",
       "    </tr>\n",
       "  </tbody>\n",
       "</table>\n",
       "</div>"
      ],
      "text/plain": [
       "     season    episode  views\n",
       "0  Season 1  Episode 1   1000\n",
       "1  Season 2  Episode 1  10000\n",
       "2  Season 1  Episode 2   2000\n",
       "3  Season 2  Episode 2  20000\n",
       "4  Season 1  Episode 3   3000\n",
       "5  Season 2  Episode 3  30000"
      ]
     },
     "execution_count": 72,
     "metadata": {},
     "output_type": "execute_result"
    }
   ],
   "source": [
    "tvlong = tvwide.melt(id_vars=[\"season\"],\n",
    "                     var_name=\"episode\",\n",
    "                     value_name=\"views\")\n",
    "tvlong"
   ]
  },
  {
   "cell_type": "markdown",
   "id": "4bdeb7bc-0e4d-4985-8fbc-cf79fd974f37",
   "metadata": {},
   "source": [
    "<!-- TODO: improve this explanation -->\n",
    "\n",
    "The argument `id_vars` specifies a list of identifier variables,\n",
    "which are the columns that already contains values for the whole row.\n",
    "All other columns are treated as value variables that apply to the values in that column.\n",
    "The arguments `var_name` and `value_name` determine the name of the variable and value columns\n",
    "of the melted data frame.\n",
    "The result `tvlong` has six rows,\n",
    "one for each observation in the original data frame `tvwide`.\n",
    "Each row corresponds to one episode of the TV show,\n",
    "and each column corresponds to a different variable for that episode\n",
    "(the season, the episode, and the number of views).\n",
    "This means the data frame `tvlong` is in *tidy data* format."
   ]
  },
  {
   "cell_type": "markdown",
   "id": "7f0618c4-f60b-4fe0-bef5-5493e297b2af",
   "metadata": {},
   "source": [
    "#### BONUS EXPLAINER 1: SORT AFTER MELT\n",
    "\n",
    "The rows in the data frame `tvlong` appear out of order after the melt operation.\n",
    "We can fix this using the `.sort_values()` method\n",
    "and specifying the column names by which we want the data to be sorted.\n",
    "\n",
    "<!-- Let's see the same thing now but sorted by season then by episode: -->"
   ]
  },
  {
   "cell_type": "code",
   "execution_count": 73,
   "id": "c0235521-1a8d-4f6f-b4d7-f7e041790ab9",
   "metadata": {},
   "outputs": [
    {
     "data": {
      "text/html": [
       "<div>\n",
       "<style scoped>\n",
       "    .dataframe tbody tr th:only-of-type {\n",
       "        vertical-align: middle;\n",
       "    }\n",
       "\n",
       "    .dataframe tbody tr th {\n",
       "        vertical-align: top;\n",
       "    }\n",
       "\n",
       "    .dataframe thead th {\n",
       "        text-align: right;\n",
       "    }\n",
       "</style>\n",
       "<table border=\"1\" class=\"dataframe\">\n",
       "  <thead>\n",
       "    <tr style=\"text-align: right;\">\n",
       "      <th></th>\n",
       "      <th>season</th>\n",
       "      <th>episode</th>\n",
       "      <th>views</th>\n",
       "    </tr>\n",
       "  </thead>\n",
       "  <tbody>\n",
       "    <tr>\n",
       "      <th>0</th>\n",
       "      <td>Season 1</td>\n",
       "      <td>Episode 1</td>\n",
       "      <td>1000</td>\n",
       "    </tr>\n",
       "    <tr>\n",
       "      <th>1</th>\n",
       "      <td>Season 1</td>\n",
       "      <td>Episode 2</td>\n",
       "      <td>2000</td>\n",
       "    </tr>\n",
       "    <tr>\n",
       "      <th>2</th>\n",
       "      <td>Season 1</td>\n",
       "      <td>Episode 3</td>\n",
       "      <td>3000</td>\n",
       "    </tr>\n",
       "    <tr>\n",
       "      <th>3</th>\n",
       "      <td>Season 2</td>\n",
       "      <td>Episode 1</td>\n",
       "      <td>10000</td>\n",
       "    </tr>\n",
       "    <tr>\n",
       "      <th>4</th>\n",
       "      <td>Season 2</td>\n",
       "      <td>Episode 2</td>\n",
       "      <td>20000</td>\n",
       "    </tr>\n",
       "    <tr>\n",
       "      <th>5</th>\n",
       "      <td>Season 2</td>\n",
       "      <td>Episode 3</td>\n",
       "      <td>30000</td>\n",
       "    </tr>\n",
       "  </tbody>\n",
       "</table>\n",
       "</div>"
      ],
      "text/plain": [
       "     season    episode  views\n",
       "0  Season 1  Episode 1   1000\n",
       "1  Season 1  Episode 2   2000\n",
       "2  Season 1  Episode 3   3000\n",
       "3  Season 2  Episode 1  10000\n",
       "4  Season 2  Episode 2  20000\n",
       "5  Season 2  Episode 3  30000"
      ]
     },
     "execution_count": 73,
     "metadata": {},
     "output_type": "execute_result"
    }
   ],
   "source": [
    "tvlong.sort_values(by=[\"season\", \"episode\"]) \\\n",
    "      .reset_index(drop=True)"
   ]
  },
  {
   "cell_type": "markdown",
   "id": "7eae6782-fd1c-4dcb-a250-a5396e9895eb",
   "metadata": {},
   "source": [
    "The data is now sorted by season first then by episode,\n",
    "which is the natural order for this data.\n",
    "The extra method `.reset_index()` is used to re-index the rows using the sequential numbering\n",
    "according to the new sort order."
   ]
  },
  {
   "cell_type": "markdown",
   "id": "f42dc0e5-a61e-468c-95da-bde0cd103362",
   "metadata": {},
   "source": [
    "#### BONUS EXPLAINER 2: UNDO MELT WITH PIVOT\n",
    "\n",
    "The method for the opposite transformation (converting long data to wide data) is called `pivot` and works like this:"
   ]
  },
  {
   "cell_type": "code",
   "execution_count": 74,
   "id": "272054fb-138d-4f8d-908a-207e19a5a1d8",
   "metadata": {},
   "outputs": [
    {
     "data": {
      "text/html": [
       "<div>\n",
       "<style scoped>\n",
       "    .dataframe tbody tr th:only-of-type {\n",
       "        vertical-align: middle;\n",
       "    }\n",
       "\n",
       "    .dataframe tbody tr th {\n",
       "        vertical-align: top;\n",
       "    }\n",
       "\n",
       "    .dataframe thead th {\n",
       "        text-align: right;\n",
       "    }\n",
       "</style>\n",
       "<table border=\"1\" class=\"dataframe\">\n",
       "  <thead>\n",
       "    <tr style=\"text-align: right;\">\n",
       "      <th>episode</th>\n",
       "      <th>Episode 1</th>\n",
       "      <th>Episode 2</th>\n",
       "      <th>Episode 3</th>\n",
       "    </tr>\n",
       "    <tr>\n",
       "      <th>season</th>\n",
       "      <th></th>\n",
       "      <th></th>\n",
       "      <th></th>\n",
       "    </tr>\n",
       "  </thead>\n",
       "  <tbody>\n",
       "    <tr>\n",
       "      <th>Season 1</th>\n",
       "      <td>1000</td>\n",
       "      <td>2000</td>\n",
       "      <td>3000</td>\n",
       "    </tr>\n",
       "    <tr>\n",
       "      <th>Season 2</th>\n",
       "      <td>10000</td>\n",
       "      <td>20000</td>\n",
       "      <td>30000</td>\n",
       "    </tr>\n",
       "  </tbody>\n",
       "</table>\n",
       "</div>"
      ],
      "text/plain": [
       "episode   Episode 1  Episode 2  Episode 3\n",
       "season                                   \n",
       "Season 1       1000       2000       3000\n",
       "Season 2      10000      20000      30000"
      ]
     },
     "execution_count": 74,
     "metadata": {},
     "output_type": "execute_result"
    }
   ],
   "source": [
    "tvlong.pivot(index=\"season\",\n",
    "             columns=\"episode\",\n",
    "             values=\"views\")"
   ]
  },
  {
   "cell_type": "code",
   "execution_count": 75,
   "id": "558068eb-35da-4fbd-a16e-48ddd6cc15af",
   "metadata": {},
   "outputs": [],
   "source": [
    "# # ALT. to get *exactly* the same data frame as `tvwide`\n",
    "# tvlong.pivot(index=\"season\",\n",
    "#              columns=\"episode\",\n",
    "#              values=\"views\") \\\n",
    "#        .reset_index() \\\n",
    "#        .rename_axis(columns=None)"
   ]
  },
  {
   "cell_type": "markdown",
   "id": "79e8afc7-e1ca-4551-bf05-0d4fb9684a56",
   "metadata": {},
   "source": [
    "### Tidy data\n",
    "\n",
    "\n",
    "<!-- Robyn said: Introduce tidy data sooner -->\n",
    "\n",
    "The concept of *tidy data* is a convention for structuring data sets that makes them easy to work with. A tidy dataset has the following characteristics:\n",
    "\n",
    "-   Each variable corresponds to a separate column.\n",
    "-   Each observation corresponds to a separate row.\n",
    "-   Each data cell contains a single value.\n",
    "\n",
    "This structure makes it easy to select arbitrary subsets of the data based on values of the variables,\n",
    "and perform arbitrary transformations and aggregations.\n",
    "Tidy data is also very useful for data visualizations.\n",
    "\n",
    "TODO: examples of non-tidy data + explain what is the problem + how to fix it\n",
    "\n",
    "\n",
    "> \"Tidy datasets are all alike, but every messy dataset is messy in its own way.\" —Hadley Wickham\n",
    "\n",
    "\n",
    "The Seaborn data visualization library works well with data in tidy format,\n",
    "allowing you to plot the values from any column,\n",
    "and using other columns as grouping variables.\n",
    "We'll make sure to convert all datasets into tidy format\n",
    "to benefit from Seaborn visualizations."
   ]
  },
  {
   "cell_type": "markdown",
   "id": "6eaea9c5-274c-4a6c-bd62-9e82d383a6ab",
   "metadata": {},
   "source": [
    "### String methods\n",
    "\n",
    "TODO .str namespace\n",
    "\n",
    "The `.str` prefix can be used to access other string manipulation methods like\n",
    "`.str.join()`, `.str.split()`, `.str.startswith()`, `.str.strip()`, etc.\n",
    "Any operation we can perform on a Python string,\n",
    "we can also perform the same operation on an entire Pandas series by calling the appropriate `str`-method.\n"
   ]
  },
  {
   "cell_type": "markdown",
   "id": "ac14ca11-686f-41f8-9e19-d17b1af51fba",
   "metadata": {},
   "source": [
    "Another transformation we might have to do is to split values that combine multiple variables.\n",
    "For example,\n",
    "medical records often contain the age and sex information as a single string `32F`,\n",
    "which we would split into the variable `age` with value `32`\n",
    "and the variable `sex` with value `F`."
   ]
  },
  {
   "cell_type": "markdown",
   "id": "148c184f-6331-4802-a61b-5580e3757293",
   "metadata": {},
   "source": [
    "### Merging data frames\n",
    "\n",
    "TODO"
   ]
  },
  {
   "cell_type": "markdown",
   "id": "fe75fa07-acc1-4d1c-b513-c8e50428836a",
   "metadata": {},
   "source": [
    "### Type conversions\n",
    "\n",
    "TODO `.astype`\n"
   ]
  },
  {
   "cell_type": "markdown",
   "id": "0c044513-5f02-456f-89f3-4390546283b8",
   "metadata": {},
   "source": [
    "### Dummy coding of categorical variables\n",
    "\n",
    "TODO"
   ]
  },
  {
   "cell_type": "markdown",
   "id": "05fd5160-7798-4907-a227-0c6577505887",
   "metadata": {},
   "source": [
    "I hope you got a general idea of the transformations that exist."
   ]
  },
  {
   "cell_type": "markdown",
   "id": "9d633651-1fcf-440b-8146-ea70c3c8aff9",
   "metadata": {},
   "source": [
    "## Data cleaning\n",
    "\n",
    "Before a dataset can be used for statistical analysis,\n",
    "we must often perform various pre-processing steps on the data\n",
    "to ensure it is consistently formatted.\n",
    "The term *data cleaning* describes various procedures for correcting various data problems\n",
    "so that the statistical analysis procedures will not \"choke\" on it,\n",
    "or lead to erroneous results.\n",
    "Data cleaning procedures include detecting coding errors,\n",
    "removing duplicate observations,\n",
    "and fixing other inconsistencies in the data.\n",
    "\n",
    "<!-- TODO: mention wrong units for numerical variables, e.g. ft vs m vs cm -->"
   ]
  },
  {
   "cell_type": "markdown",
   "id": "c2916f56-49d3-48fb-8a3d-e7cbb1f8de54",
   "metadata": {},
   "source": [
    "#### Standardize categorical values\n",
    "\n",
    "A very common problem that occurs for categorical variables,\n",
    "is the use of multiple codes to represent the same concept.\n",
    "Consider the following series containing what-type-of-pet-is-it data in which \"dog\" is encoded using different values."
   ]
  },
  {
   "cell_type": "code",
   "execution_count": 76,
   "id": "155e757b-ddeb-4844-a04e-b29248624b87",
   "metadata": {},
   "outputs": [
    {
     "data": {
      "text/plain": [
       "0        D\n",
       "1      dog\n",
       "2      Dog\n",
       "3    doggo\n",
       "dtype: object"
      ]
     },
     "execution_count": 76,
     "metadata": {},
     "output_type": "execute_result"
    }
   ],
   "source": [
    "pets = pd.Series([\"D\", \"dog\", \"Dog\", \"doggo\"])\n",
    "pets"
   ]
  },
  {
   "cell_type": "markdown",
   "id": "2113c8b2-59b4-4ab5-ba2e-c9ee98dee749",
   "metadata": {},
   "source": [
    "This type of inconsistent encoding will cause lots of trouble down the line.\n",
    "For example,\n",
    "performing a `.groupby()` operation on this variable will result in four different groups,\n",
    "even though all these pets are dogs.\n",
    "\n",
    "We can fix this encoding problem by standardizing on a single code for representing dogs\n",
    "and replacing all other values with the standardized code,\n",
    "as shown below."
   ]
  },
  {
   "cell_type": "code",
   "execution_count": 77,
   "id": "baac8401-db6e-4107-9169-41642482e61f",
   "metadata": {},
   "outputs": [
    {
     "data": {
      "text/plain": [
       "0    dog\n",
       "1    dog\n",
       "2    dog\n",
       "3    dog\n",
       "dtype: object"
      ]
     },
     "execution_count": 77,
     "metadata": {},
     "output_type": "execute_result"
    }
   ],
   "source": [
    "dogsubs = {\"D\":\"dog\", \"Dog\":\"dog\", \"doggo\":\"dog\"}\n",
    "pets.replace(dogsubs)"
   ]
  },
  {
   "cell_type": "markdown",
   "id": "9d3c4d5b-049a-4502-9a69-7dfb54b7f396",
   "metadata": {},
   "source": [
    "The method `.value_counts()` is helpful for detecting coding errors and inconsistencies.\n",
    "Looking at the counts of how many times each value occurs can help us notice exceptional values,\n",
    "near-duplicates, and other problems with categorical variables."
   ]
  },
  {
   "cell_type": "code",
   "execution_count": 78,
   "id": "bb249647-ca90-4f7d-9b0b-72487e0b782c",
   "metadata": {},
   "outputs": [
    {
     "data": {
      "text/plain": [
       "dog    4\n",
       "Name: count, dtype: int64"
      ]
     },
     "execution_count": 78,
     "metadata": {},
     "output_type": "execute_result"
    }
   ],
   "source": [
    "pets.replace(dogsubs).value_counts()"
   ]
  },
  {
   "cell_type": "markdown",
   "id": "37cc54c2-2c2d-46f5-8dc6-ea2b21e22a5a",
   "metadata": {},
   "source": [
    "### Exercise 2: cleaning the cats data\n",
    "\n",
    "Write the Pandas code required to\n",
    "standardize all the cat labels to be `cat`."
   ]
  },
  {
   "cell_type": "code",
   "execution_count": 79,
   "id": "6733a0f2-3188-4d78-9cc9-223736832252",
   "metadata": {},
   "outputs": [
    {
     "data": {
      "text/plain": [
       "0    cat\n",
       "1    dog\n",
       "2    Cat\n",
       "3    CAT\n",
       "dtype: object"
      ]
     },
     "execution_count": 79,
     "metadata": {},
     "output_type": "execute_result"
    }
   ],
   "source": [
    "# Instructions: clean the cat labels in the following series\n",
    "pets2 = pd.Series([\"cat\", \"dog\", \"Cat\", \"CAT\"])\n",
    "pets2"
   ]
  },
  {
   "cell_type": "code",
   "execution_count": 80,
   "id": "bbb9a11b-8608-417d-a742-7c185f157e87",
   "metadata": {},
   "outputs": [
    {
     "data": {
      "text/plain": [
       "0    cat\n",
       "1    dog\n",
       "2    cat\n",
       "3    cat\n",
       "dtype: object"
      ]
     },
     "execution_count": 80,
     "metadata": {},
     "output_type": "execute_result"
    }
   ],
   "source": [
    "#@titlesolution Exercise 2 clean-cats\n",
    "catsubs = {\"Cat\":\"cat\", \"CAT\":\"cat\"}\n",
    "pets2.replace(catsubs)"
   ]
  },
  {
   "cell_type": "markdown",
   "id": "aeb6238a-bd9c-4b10-bba7-5555a4e63768",
   "metadata": {},
   "source": [
    "#### Number formatting errors\n",
    "<!-- ALT. Coding errors -->\n",
    "\n",
    "The text string `\"1.2\"` corresponds to the number $1.2$ (a `float`).\n",
    "We can do the conversion from text string to floating point number as follows.\n"
   ]
  },
  {
   "cell_type": "code",
   "execution_count": 81,
   "id": "47250e9c-4e21-4de1-9aef-3eccc64ff86d",
   "metadata": {},
   "outputs": [
    {
     "data": {
      "text/plain": [
       "1.2"
      ]
     },
     "execution_count": 81,
     "metadata": {},
     "output_type": "execute_result"
    }
   ],
   "source": [
    "float(\"1.2\")"
   ]
  },
  {
   "cell_type": "markdown",
   "id": "cdfe0c66-ec49-4dfd-8b64-03b89d6551a1",
   "metadata": {},
   "source": [
    "When loading data,\n",
    "Pandas will automatically recognize numerical expression like this and load them into columns of type `float` or `int`.\n",
    "\n",
    "There are some common number formatting problems you need to watch out for.\n",
    "Many languages use the comma is the decimal separator instead of a decimal point,\n",
    "so the number 1.2 might be written as the text string `\"1,2\"`,\n",
    "which cannot be recognized as a `float`."
   ]
  },
  {
   "cell_type": "code",
   "execution_count": 82,
   "id": "891cbde3-6673-4349-8c07-fbbe0fd2901f",
   "metadata": {
    "tags": [
     "raises-exception"
    ]
   },
   "outputs": [
    {
     "ename": "ValueError",
     "evalue": "could not convert string to float: '1,2'",
     "output_type": "error",
     "traceback": [
      "\u001b[31m---------------------------------------------------------------------------\u001b[39m",
      "\u001b[31mValueError\u001b[39m                                Traceback (most recent call last)",
      "\u001b[36mCell\u001b[39m\u001b[36m \u001b[39m\u001b[32mIn[82]\u001b[39m\u001b[32m, line 1\u001b[39m\n\u001b[32m----> \u001b[39m\u001b[32m1\u001b[39m \u001b[38;5;28;43mfloat\u001b[39;49m\u001b[43m(\u001b[49m\u001b[33;43m\"\u001b[39;49m\u001b[33;43m1,2\u001b[39;49m\u001b[33;43m\"\u001b[39;49m\u001b[43m)\u001b[49m\n",
      "\u001b[31mValueError\u001b[39m: could not convert string to float: '1,2'"
     ]
    }
   ],
   "source": [
    "float(\"1,2\")"
   ]
  },
  {
   "cell_type": "markdown",
   "id": "fb0c725f-bf87-43ab-a308-0185eea189dd",
   "metadata": {},
   "source": [
    "To fix this issue,\n",
    "we replace the comma character in the string\n",
    "with a period character as follows."
   ]
  },
  {
   "cell_type": "code",
   "execution_count": 83,
   "id": "3576293c-5950-41f5-bb36-95a761bdb70e",
   "metadata": {},
   "outputs": [
    {
     "data": {
      "text/plain": [
       "'1.2'"
      ]
     },
     "execution_count": 83,
     "metadata": {},
     "output_type": "execute_result"
    }
   ],
   "source": [
    "\"1,2\".replace(\",\", \".\")"
   ]
  },
  {
   "cell_type": "markdown",
   "id": "02406d57-aa92-4ec3-8289-50b27453bdd3",
   "metadata": {},
   "source": [
    "Another example of a problematic numeric value is `\"1. 2\"`,\n",
    "which is not a valid float because of the extra spaces.\n",
    "We can fix this by getting rid of the space using `\"1. 2\".replace(\" \", \"\")`."
   ]
  },
  {
   "cell_type": "markdown",
   "id": "b691a3fb-2de5-4c3a-afa8-d248ba86f96c",
   "metadata": {},
   "source": [
    "Let's now learn how to perform this kind of string manipulations\n",
    "when working with Pandas series and data frames."
   ]
  },
  {
   "cell_type": "code",
   "execution_count": 84,
   "id": "b8186797-9817-40e4-bc0f-8c7c754eabb2",
   "metadata": {},
   "outputs": [
    {
     "data": {
      "text/plain": [
       "0     1.2\n",
       "1     1,2\n",
       "2    1. 2\n",
       "dtype: object"
      ]
     },
     "execution_count": 84,
     "metadata": {},
     "output_type": "execute_result"
    }
   ],
   "source": [
    "rawns = pd.Series([\"1.2\", \"1,2\", \"1. 2\"])\n",
    "rawns"
   ]
  },
  {
   "cell_type": "markdown",
   "id": "e09131a0-162a-46ad-acdd-3853b7ce2573",
   "metadata": {},
   "source": [
    "The series `rawns` contains strings with correct and incorrect formatting.\n",
    "Note the series `rawns` has `dtype` (data type) of `object`,\n",
    "which is what Pandas uses for strings.\n",
    "\n",
    "Let's try to convert this series to a numeric values (`float`s).\n",
    "We can do this by calling the method `.astype()` as shown below."
   ]
  },
  {
   "cell_type": "code",
   "execution_count": 85,
   "id": "3b6be5b2-d4f4-4e75-b353-f95373fc5d13",
   "metadata": {
    "tags": [
     "raises-exception"
    ]
   },
   "outputs": [],
   "source": [
    "# uncomment to see the ERROR\n",
    "# rawns.astype(float)"
   ]
  },
  {
   "cell_type": "markdown",
   "id": "9c4e325f-d6b4-4813-a5ce-ede748764327",
   "metadata": {},
   "source": [
    "Calling the method `.astype(float)` is essentially the same as calling `float` on each of the values in the series,\n",
    "so it shouldn't be surprising that we see an exception since the string `\"1,2\"` is not a valid float.\n",
    "\n",
    "We can perform the string replacements on the data series `rawns` using the \"`str`-methods\" as shown below."
   ]
  },
  {
   "cell_type": "code",
   "execution_count": 86,
   "id": "e421b006-a9e3-43f7-b2fe-5874ab43dcc7",
   "metadata": {
    "tags": []
   },
   "outputs": [
    {
     "data": {
      "text/plain": [
       "0    1.2\n",
       "1    1.2\n",
       "2    1.2\n",
       "dtype: float64"
      ]
     },
     "execution_count": 86,
     "metadata": {},
     "output_type": "execute_result"
    }
   ],
   "source": [
    "rawns.str.replace(\",\", \".\") \\\n",
    "     .str.replace(\" \", \"\") \\\n",
    "     .astype(float)"
   ]
  },
  {
   "cell_type": "markdown",
   "id": "29ca8b21-aba0-480d-b74a-59ab5353ac1c",
   "metadata": {},
   "source": [
    "After performing the replacements of commas to periods and removing unwanted spaces,\n",
    "the method `.astype(float)` succeeds.\n",
    "\n",
    "Note the method we used in the above example is `.str.replace()` and not `.replace()`.\n",
    "\n",
    "Other types of data that might have format inconsistencies include dates, times, addresses, and postal codes.\n",
    "We need to watch out when processing these types of data,\n",
    "and make sure all the data is in a consistent format before starting the statistical analysis.\n",
    "<!-- Robyn said: Should we go more in-depth on time data? Seems widely applicable and often problematic. -->"
   ]
  },
  {
   "cell_type": "markdown",
   "id": "b0e1abb6-8c27-4e06-b982-4d86adb8e5fd",
   "metadata": {},
   "source": [
    "<!-- TODO: work-in duplicates somewhere: Use the `.drop_duplicates()` method to remove duplicated rows. -->\n",
    "\n",
    "Use the `.drop_duplicates()` method to remove duplicated rows."
   ]
  },
  {
   "cell_type": "markdown",
   "id": "8f9a4efd-706e-451d-bded-6a566bc29dc1",
   "metadata": {},
   "source": [
    "### Dealing with missing values\n",
    "\n",
    "<!-- Robyn said: Already referred to 'null values' under 'Data frame properties', maybe falsy values should be explained sooner -->\n",
    "\n",
    "Real-world datasets often contain missing values that can occur as part of the data collection process.\n",
    "Missing values in Pandas are indicated with the special symbol `NaN` (Not a Number),\n",
    "or sometimes using the symbol `<NA>` (Not Available).\n",
    "In Python, the absence of a value corresponds to the value `None`.\n",
    "The term *null value* is a synonym for missing value.\n",
    "\n",
    "In order to show some examples of dealing with missing values,\n",
    "let's load the \"raw\" dataset located at `datasets/raw/minimal.csv`,\n",
    "which has several \"holes\" in it."
   ]
  },
  {
   "cell_type": "code",
   "execution_count": 87,
   "id": "e63ac31b-4df5-4c88-a87a-f93f474cd8c1",
   "metadata": {},
   "outputs": [
    {
     "data": {
      "text/html": [
       "<div>\n",
       "<style scoped>\n",
       "    .dataframe tbody tr th:only-of-type {\n",
       "        vertical-align: middle;\n",
       "    }\n",
       "\n",
       "    .dataframe tbody tr th {\n",
       "        vertical-align: top;\n",
       "    }\n",
       "\n",
       "    .dataframe thead th {\n",
       "        text-align: right;\n",
       "    }\n",
       "</style>\n",
       "<table border=\"1\" class=\"dataframe\">\n",
       "  <thead>\n",
       "    <tr style=\"text-align: right;\">\n",
       "      <th></th>\n",
       "      <th>x</th>\n",
       "      <th>y</th>\n",
       "      <th>team</th>\n",
       "      <th>level</th>\n",
       "    </tr>\n",
       "  </thead>\n",
       "  <tbody>\n",
       "    <tr>\n",
       "      <th>0</th>\n",
       "      <td>1.0</td>\n",
       "      <td>2.0</td>\n",
       "      <td>a</td>\n",
       "      <td>3.0</td>\n",
       "    </tr>\n",
       "    <tr>\n",
       "      <th>1</th>\n",
       "      <td>1.5</td>\n",
       "      <td>1.0</td>\n",
       "      <td>a</td>\n",
       "      <td>2.0</td>\n",
       "    </tr>\n",
       "    <tr>\n",
       "      <th>2</th>\n",
       "      <td>2.0</td>\n",
       "      <td>1.5</td>\n",
       "      <td>a</td>\n",
       "      <td>1.0</td>\n",
       "    </tr>\n",
       "    <tr>\n",
       "      <th>3</th>\n",
       "      <td>1.5</td>\n",
       "      <td>1.5</td>\n",
       "      <td>a</td>\n",
       "      <td>NaN</td>\n",
       "    </tr>\n",
       "    <tr>\n",
       "      <th>4</th>\n",
       "      <td>2.5</td>\n",
       "      <td>2.0</td>\n",
       "      <td>b</td>\n",
       "      <td>3.0</td>\n",
       "    </tr>\n",
       "    <tr>\n",
       "      <th>5</th>\n",
       "      <td>3.0</td>\n",
       "      <td>1.5</td>\n",
       "      <td>b</td>\n",
       "      <td>3.0</td>\n",
       "    </tr>\n",
       "    <tr>\n",
       "      <th>6</th>\n",
       "      <td>11.0</td>\n",
       "      <td>NaN</td>\n",
       "      <td>NaN</td>\n",
       "      <td>2.0</td>\n",
       "    </tr>\n",
       "  </tbody>\n",
       "</table>\n",
       "</div>"
      ],
      "text/plain": [
       "      x    y team  level\n",
       "0   1.0  2.0    a    3.0\n",
       "1   1.5  1.0    a    2.0\n",
       "2   2.0  1.5    a    1.0\n",
       "3   1.5  1.5    a    NaN\n",
       "4   2.5  2.0    b    3.0\n",
       "5   3.0  1.5    b    3.0\n",
       "6  11.0  NaN  NaN    2.0"
      ]
     },
     "execution_count": 87,
     "metadata": {},
     "output_type": "execute_result"
    }
   ],
   "source": [
    "rawdf = pd.read_csv(\"datasets/raw/minimal.csv\")\n",
    "rawdf"
   ]
  },
  {
   "cell_type": "markdown",
   "id": "d167ad63-3644-448a-aab1-126c973b9477",
   "metadata": {},
   "source": [
    "The data frame `rawdf` contains the same data we worked on previously,\n",
    "and some additional rows with \"problematic\" values that we need to deal with.\n",
    "Specifically,\n",
    "the rows with index `3` is missing the `level` variable,\n",
    "and row `6` is missing the values for the `y` and `team` variables.\n",
    "The missing values are indicated by the `NaN` symbol,\n",
    "which is a special `float` value that stands for Not a Number.\n",
    "<!-- You can obtain the value `NaN` by writing `float(\"NaN\")`. -->\n",
    "\n",
    "Note the variable `level` has been converted to a `float` data type\n",
    "in order to use the `NaN` for representing missing values.\n",
    "This is because integers do not have a natural way to represent missing values.\n",
    "Some datasets might use special codes like `999` or `-1` to indicate missing integer values.\n",
    "You should use the `.replace()` method to change these values to `float(\"NaN\")` or `pd.NA`\n",
    "in order to avoid the special code being used in numeric calculations by mistake.\n",
    "\n",
    "We can use the `.info()` method to get an idea of the number of missing values in a data frame."
   ]
  },
  {
   "cell_type": "code",
   "execution_count": 88,
   "id": "ec4a4a8f-37e0-40df-9a10-62382f6b0a12",
   "metadata": {},
   "outputs": [
    {
     "name": "stdout",
     "output_type": "stream",
     "text": [
      "<class 'pandas.core.frame.DataFrame'>\n",
      "RangeIndex: 7 entries, 0 to 6\n",
      "Data columns (total 4 columns):\n",
      " #   Column  Non-Null Count  Dtype  \n",
      "---  ------  --------------  -----  \n",
      " 0   x       7 non-null      float64\n",
      " 1   y       6 non-null      float64\n",
      " 2   team    6 non-null      object \n",
      " 3   level   6 non-null      float64\n",
      "dtypes: float64(3), object(1)\n",
      "memory usage: 356.0+ bytes\n"
     ]
    }
   ],
   "source": [
    "rawdf.info()"
   ]
  },
  {
   "cell_type": "markdown",
   "id": "5f8e91c5-f4e6-4843-a67f-99d32e1c196c",
   "metadata": {},
   "source": [
    "The data frame has a total of 7 rows,\n",
    "but the columns `level`, `y`, and `team` have only 6 non-null values,\n",
    "which tells us these columns contain one missing value each.\n",
    "\n",
    "We can use the method `.isna()` to get a complete picture of all the values that are missing (not available)."
   ]
  },
  {
   "cell_type": "code",
   "execution_count": 89,
   "id": "0641f4a9-ddb7-45de-a0c8-ef64418a1301",
   "metadata": {},
   "outputs": [
    {
     "data": {
      "text/html": [
       "<div>\n",
       "<style scoped>\n",
       "    .dataframe tbody tr th:only-of-type {\n",
       "        vertical-align: middle;\n",
       "    }\n",
       "\n",
       "    .dataframe tbody tr th {\n",
       "        vertical-align: top;\n",
       "    }\n",
       "\n",
       "    .dataframe thead th {\n",
       "        text-align: right;\n",
       "    }\n",
       "</style>\n",
       "<table border=\"1\" class=\"dataframe\">\n",
       "  <thead>\n",
       "    <tr style=\"text-align: right;\">\n",
       "      <th></th>\n",
       "      <th>x</th>\n",
       "      <th>y</th>\n",
       "      <th>team</th>\n",
       "      <th>level</th>\n",
       "    </tr>\n",
       "  </thead>\n",
       "  <tbody>\n",
       "    <tr>\n",
       "      <th>0</th>\n",
       "      <td>False</td>\n",
       "      <td>False</td>\n",
       "      <td>False</td>\n",
       "      <td>False</td>\n",
       "    </tr>\n",
       "    <tr>\n",
       "      <th>1</th>\n",
       "      <td>False</td>\n",
       "      <td>False</td>\n",
       "      <td>False</td>\n",
       "      <td>False</td>\n",
       "    </tr>\n",
       "    <tr>\n",
       "      <th>2</th>\n",
       "      <td>False</td>\n",
       "      <td>False</td>\n",
       "      <td>False</td>\n",
       "      <td>False</td>\n",
       "    </tr>\n",
       "    <tr>\n",
       "      <th>3</th>\n",
       "      <td>False</td>\n",
       "      <td>False</td>\n",
       "      <td>False</td>\n",
       "      <td>True</td>\n",
       "    </tr>\n",
       "    <tr>\n",
       "      <th>4</th>\n",
       "      <td>False</td>\n",
       "      <td>False</td>\n",
       "      <td>False</td>\n",
       "      <td>False</td>\n",
       "    </tr>\n",
       "    <tr>\n",
       "      <th>5</th>\n",
       "      <td>False</td>\n",
       "      <td>False</td>\n",
       "      <td>False</td>\n",
       "      <td>False</td>\n",
       "    </tr>\n",
       "    <tr>\n",
       "      <th>6</th>\n",
       "      <td>False</td>\n",
       "      <td>True</td>\n",
       "      <td>True</td>\n",
       "      <td>False</td>\n",
       "    </tr>\n",
       "  </tbody>\n",
       "</table>\n",
       "</div>"
      ],
      "text/plain": [
       "       x      y   team  level\n",
       "0  False  False  False  False\n",
       "1  False  False  False  False\n",
       "2  False  False  False  False\n",
       "3  False  False  False   True\n",
       "4  False  False  False  False\n",
       "5  False  False  False  False\n",
       "6  False   True   True  False"
      ]
     },
     "execution_count": 89,
     "metadata": {},
     "output_type": "execute_result"
    }
   ],
   "source": [
    "rawdf.isna()"
   ]
  },
  {
   "cell_type": "markdown",
   "id": "50a939ac-d796-425a-9e7e-0d908d769203",
   "metadata": {},
   "source": [
    "The locations in the above data frame that contain the value `True`\n",
    "correspond to the missing values in the data frame `rawdf`.\n",
    "\n",
    "We can summarize the information about missing values,\n",
    "by computing the row-sum of the above data frame,\n",
    "which tells us count of the missing values for each variable.\n",
    "\n",
    "<!-- TODO: Explain true == 1 and false == 0 -->"
   ]
  },
  {
   "cell_type": "code",
   "execution_count": 90,
   "id": "eac55048-4db0-42b3-9e31-1ea28cf2b0cf",
   "metadata": {},
   "outputs": [
    {
     "data": {
      "text/plain": [
       "x        0\n",
       "y        1\n",
       "team     1\n",
       "level    1\n",
       "dtype: int64"
      ]
     },
     "execution_count": 90,
     "metadata": {},
     "output_type": "execute_result"
    }
   ],
   "source": [
    "rawdf.isna().sum(axis=\"rows\")"
   ]
  },
  {
   "cell_type": "markdown",
   "id": "606d9ff3-342c-41ca-afae-cbb28d4e2ad4",
   "metadata": {},
   "source": [
    "We can also compute the column-sum to count the number of missing values in each row."
   ]
  },
  {
   "cell_type": "code",
   "execution_count": 91,
   "id": "ab8be99e-3de9-4a9a-9baf-15315c8c90be",
   "metadata": {},
   "outputs": [
    {
     "data": {
      "text/plain": [
       "0    0\n",
       "1    0\n",
       "2    0\n",
       "3    1\n",
       "4    0\n",
       "5    0\n",
       "6    2\n",
       "dtype: int64"
      ]
     },
     "execution_count": 91,
     "metadata": {},
     "output_type": "execute_result"
    }
   ],
   "source": [
    "rawdf.isna().sum(axis=\"columns\")"
   ]
  },
  {
   "cell_type": "code",
   "execution_count": 92,
   "id": "1223b3ef-f41b-42e1-9c74-b373becd5de8",
   "metadata": {},
   "outputs": [],
   "source": [
    "# # ALT. convert to data types that have support <NA> values\n",
    "# tmpdf = pd.read_csv(\"datasets/raw/minimal.csv\")\n",
    "# rawdf2 = tmpdf.convert_dtypes()\n",
    "# rawdf2.dtypes"
   ]
  },
  {
   "cell_type": "code",
   "execution_count": 93,
   "id": "d6912393-48a1-41c5-856c-0afe355a85c6",
   "metadata": {},
   "outputs": [
    {
     "data": {
      "text/plain": [
       "nan"
      ]
     },
     "execution_count": 93,
     "metadata": {},
     "output_type": "execute_result"
    }
   ],
   "source": [
    "float(\"NaN\")"
   ]
  },
  {
   "cell_type": "markdown",
   "id": "43fef319-e395-4b9e-8293-cf6174819c22",
   "metadata": {},
   "source": [
    "We can also compute `rawdf.isna().sum(axis=\"columns\")` to get the count of missing values in each row.\n",
    "\n",
    "The most common way of dealing with missing values is to exclude them from the dataset,\n",
    "by dropping all rows that contain missing values.\n",
    "The method `.dropna()` filters out any rows that contain null values and return a new \"clean\" data frame\n",
    "with no `NaN`s."
   ]
  },
  {
   "cell_type": "code",
   "execution_count": 94,
   "id": "7e1f2d2a-a0f4-4ed3-add5-281f1f6cb2d9",
   "metadata": {},
   "outputs": [
    {
     "data": {
      "text/html": [
       "<div>\n",
       "<style scoped>\n",
       "    .dataframe tbody tr th:only-of-type {\n",
       "        vertical-align: middle;\n",
       "    }\n",
       "\n",
       "    .dataframe tbody tr th {\n",
       "        vertical-align: top;\n",
       "    }\n",
       "\n",
       "    .dataframe thead th {\n",
       "        text-align: right;\n",
       "    }\n",
       "</style>\n",
       "<table border=\"1\" class=\"dataframe\">\n",
       "  <thead>\n",
       "    <tr style=\"text-align: right;\">\n",
       "      <th></th>\n",
       "      <th>x</th>\n",
       "      <th>y</th>\n",
       "      <th>team</th>\n",
       "      <th>level</th>\n",
       "    </tr>\n",
       "  </thead>\n",
       "  <tbody>\n",
       "    <tr>\n",
       "      <th>0</th>\n",
       "      <td>1.0</td>\n",
       "      <td>2.0</td>\n",
       "      <td>a</td>\n",
       "      <td>3.0</td>\n",
       "    </tr>\n",
       "    <tr>\n",
       "      <th>1</th>\n",
       "      <td>1.5</td>\n",
       "      <td>1.0</td>\n",
       "      <td>a</td>\n",
       "      <td>2.0</td>\n",
       "    </tr>\n",
       "    <tr>\n",
       "      <th>2</th>\n",
       "      <td>2.0</td>\n",
       "      <td>1.5</td>\n",
       "      <td>a</td>\n",
       "      <td>1.0</td>\n",
       "    </tr>\n",
       "    <tr>\n",
       "      <th>4</th>\n",
       "      <td>2.5</td>\n",
       "      <td>2.0</td>\n",
       "      <td>b</td>\n",
       "      <td>3.0</td>\n",
       "    </tr>\n",
       "    <tr>\n",
       "      <th>5</th>\n",
       "      <td>3.0</td>\n",
       "      <td>1.5</td>\n",
       "      <td>b</td>\n",
       "      <td>3.0</td>\n",
       "    </tr>\n",
       "  </tbody>\n",
       "</table>\n",
       "</div>"
      ],
      "text/plain": [
       "     x    y team  level\n",
       "0  1.0  2.0    a    3.0\n",
       "1  1.5  1.0    a    2.0\n",
       "2  2.0  1.5    a    1.0\n",
       "4  2.5  2.0    b    3.0\n",
       "5  3.0  1.5    b    3.0"
      ]
     },
     "execution_count": 94,
     "metadata": {},
     "output_type": "execute_result"
    }
   ],
   "source": [
    "cleandf = rawdf.dropna()\n",
    "cleandf"
   ]
  },
  {
   "cell_type": "markdown",
   "id": "1456ffe6-836c-4b7f-a61c-7ddf55839808",
   "metadata": {},
   "source": [
    "We can provide arguments to the `.dropna()` method to give more specific instructions about which rows to drop.\n",
    "For example,\n",
    "missing values in one of the columns you don't plan to use for a statistical analysis are not a problem.\n",
    "\n",
    "Another approach for dealing with missing values is to use *imputation*,\n",
    "which is the process of \"filling in\" values based on our \"best guess\" of the missing values.\n",
    "Imputation is a tricky process since it involves changing the data,\n",
    "which can affect any subsequent statistical analysis,\n",
    "so we try to avoid it as much as possible.\n",
    "The common approaches for filling in missing values include using the mean or median of the variable,\n",
    "or guessing a missing value based on the neighbouring values.\n",
    "<!-- Robyn said: mean, median not defined yet -->\n",
    "<!-- TODO: mention method names -->\n",
    "<!-- TODO: example of filling in -->\n",
    "\n",
    "<!-- Pandas nullable types and pd.NA → mention but no details & don't use -->"
   ]
  },
  {
   "cell_type": "code",
   "execution_count": 95,
   "id": "9ab2ce0a-f5d4-482b-ad9b-71dd5d3a0ee0",
   "metadata": {},
   "outputs": [
    {
     "data": {
      "text/html": [
       "<div>\n",
       "<style scoped>\n",
       "    .dataframe tbody tr th:only-of-type {\n",
       "        vertical-align: middle;\n",
       "    }\n",
       "\n",
       "    .dataframe tbody tr th {\n",
       "        vertical-align: top;\n",
       "    }\n",
       "\n",
       "    .dataframe thead th {\n",
       "        text-align: right;\n",
       "    }\n",
       "</style>\n",
       "<table border=\"1\" class=\"dataframe\">\n",
       "  <thead>\n",
       "    <tr style=\"text-align: right;\">\n",
       "      <th></th>\n",
       "      <th>x</th>\n",
       "      <th>y</th>\n",
       "      <th>team</th>\n",
       "      <th>level</th>\n",
       "    </tr>\n",
       "  </thead>\n",
       "  <tbody>\n",
       "    <tr>\n",
       "      <th>0</th>\n",
       "      <td>1.0</td>\n",
       "      <td>2.0</td>\n",
       "      <td>a</td>\n",
       "      <td>3.0</td>\n",
       "    </tr>\n",
       "    <tr>\n",
       "      <th>1</th>\n",
       "      <td>1.5</td>\n",
       "      <td>1.0</td>\n",
       "      <td>a</td>\n",
       "      <td>2.0</td>\n",
       "    </tr>\n",
       "    <tr>\n",
       "      <th>2</th>\n",
       "      <td>2.0</td>\n",
       "      <td>1.5</td>\n",
       "      <td>a</td>\n",
       "      <td>1.0</td>\n",
       "    </tr>\n",
       "    <tr>\n",
       "      <th>4</th>\n",
       "      <td>2.5</td>\n",
       "      <td>2.0</td>\n",
       "      <td>b</td>\n",
       "      <td>3.0</td>\n",
       "    </tr>\n",
       "    <tr>\n",
       "      <th>5</th>\n",
       "      <td>3.0</td>\n",
       "      <td>1.5</td>\n",
       "      <td>b</td>\n",
       "      <td>3.0</td>\n",
       "    </tr>\n",
       "  </tbody>\n",
       "</table>\n",
       "</div>"
      ],
      "text/plain": [
       "     x    y team  level\n",
       "0  1.0  2.0    a    3.0\n",
       "1  1.5  1.0    a    2.0\n",
       "2  2.0  1.5    a    1.0\n",
       "4  2.5  2.0    b    3.0\n",
       "5  3.0  1.5    b    3.0"
      ]
     },
     "execution_count": 95,
     "metadata": {},
     "output_type": "execute_result"
    }
   ],
   "source": [
    "# Recode level as integer\n",
    "cleandf.loc[:,\"level\"] = cleandf[\"level\"].astype(int)\n",
    "cleandf"
   ]
  },
  {
   "cell_type": "code",
   "execution_count": 96,
   "id": "d31f1e78-4ed6-4d7c-85b2-a449c899c3d7",
   "metadata": {},
   "outputs": [],
   "source": [
    "# ALT. Convert the level column to `int`\n",
    "# cleandf = cleandf.assign(level = cleandf[\"level\"].astype(int))"
   ]
  },
  {
   "cell_type": "code",
   "execution_count": 97,
   "id": "3d474c99-4a3d-48a8-98ff-5e6d98dbaeeb",
   "metadata": {},
   "outputs": [],
   "source": [
    "# Confirm `cleandf` is the same as `df` we saw earlier\n",
    "# cleandf.reset_index(drop=True).equals(df)"
   ]
  },
  {
   "cell_type": "markdown",
   "id": "f0cc1349-df90-4913-8b59-da99d1cd27cb",
   "metadata": {},
   "source": [
    "### Identifying and removing outliers\n",
    "\n",
    "Outliers are data values that are much larger or much smaller than other values in the data.\n",
    "Sometimes extreme observations can result from mistakes in the data collection process\n",
    "like measurement instrument malfunctions,\n",
    "data entry typos, or measurements of the wrong subject.\n",
    "For example,\n",
    "if we intend to study the weights of different dog breeds but somehow end up including a grizzly bear in the measurements.\n",
    "These mistakes are usually identified when a measurement is obviously impossible.\n",
    "For example,\n",
    "if your dataset contains the value 600kg for a dog weight,\n",
    "then you know this is probably a mistake.\n",
    "\n",
    "Sometimes we can \"correct\" outlier values by replacing them with the correct measurement.\n",
    "For example,\n",
    "if the data was manually transcribed from a paper notebook,\n",
    "we could find the notebook and see what the correct value is supposed to be.\n",
    "Other times,\n",
    "we can't fix the mistake so we drop that observation.\n",
    "<!-- faulty observations  -->\n",
    "\n",
    "In any case,\n",
    "it's important for you to know if your data contains outliers\n",
    "before you do any statistical analysis on this data,\n",
    "otherwise the presence of outliers might \"break\" the statistical inference machinery,\n",
    "and lead you to biased or erroneous results."
   ]
  },
  {
   "cell_type": "markdown",
   "id": "16dd2998-8915-4499-b04c-02653279f49b",
   "metadata": {},
   "source": [
    "Let's look at some example data that contains an outlier\n",
    "and some procedures for identifying the outlier and filtering it out.\n",
    "Consider the data sample $\\mathbf{x} = [1,2,3,4,5,6,50]$,\n",
    "which consists of seven values,\n",
    "one of which is much much larger than the others."
   ]
  },
  {
   "cell_type": "code",
   "execution_count": 98,
   "id": "9c901ad1-cb46-4b85-9e43-a3a5aeee1c7b",
   "metadata": {},
   "outputs": [
    {
     "data": {
      "text/plain": [
       "0     1\n",
       "1     2\n",
       "2     3\n",
       "3     4\n",
       "4     5\n",
       "5     6\n",
       "6    50\n",
       "Name: x, dtype: int64"
      ]
     },
     "execution_count": 98,
     "metadata": {},
     "output_type": "execute_result"
    }
   ],
   "source": [
    "xs = pd.Series([1, 2, 3, 4, 5, 6, 50], name=\"x\")\n",
    "xs"
   ]
  },
  {
   "cell_type": "markdown",
   "id": "669df86b-def6-49e5-a518-6f0d78e452aa",
   "metadata": {},
   "source": [
    "We can easily see the value `50` is the outlier here,\n",
    "but the task may not be so easy for larger datasets with hundreds or thousands of observations."
   ]
  },
  {
   "cell_type": "markdown",
   "id": "22523ac4-e8fc-4ff1-b4f4-3857505a5531",
   "metadata": {},
   "source": [
    "#### Why outliers are problematic\n",
    "\n",
    "Outliers can have undue leverage on the value of some statistics\n",
    "and may lead to misleading analysis results if they are present.\n",
    "Statistics like the mean, variance, and standard deviation\n",
    "are affected by the presence of such exceptional values.\n",
    "For example,\n",
    "let's compute the mean (average value)\n",
    "and the standard deviation (dispersion from the mean)\n",
    "the sample $\\mathbf{x} = [1,2,3,4,5,6,50]$."
   ]
  },
  {
   "cell_type": "code",
   "execution_count": 99,
   "id": "5325d368-cdc4-44bd-885b-ea037eaa56a4",
   "metadata": {},
   "outputs": [
    {
     "data": {
      "text/plain": [
       "(10.142857142857142, 17.65812911408012)"
      ]
     },
     "execution_count": 99,
     "metadata": {},
     "output_type": "execute_result"
    }
   ],
   "source": [
    "xs.mean(), xs.std()"
   ]
  },
  {
   "cell_type": "markdown",
   "id": "d8dd4337-c35b-4339-9d31-c8fced3ca1f6",
   "metadata": {},
   "source": [
    "These values are very misleading:\n",
    "they give us the wrong impression about the centre of the data distribution and how spread out it is.\n",
    "In reality,\n",
    "the first six values are small numbers,\n",
    "but the presence of the large outlier $50$\n",
    "makes the mean and the standard deviation appear much larger.\n",
    "\n",
    "If we remove the outlier $50$,\n",
    "the mean of the standard deviation of the remaining values $[1,2,3,4,5,6]$ is much smaller."
   ]
  },
  {
   "cell_type": "code",
   "execution_count": 100,
   "id": "9383ad54-cd05-42e3-82b8-fd36b97f1a75",
   "metadata": {},
   "outputs": [
    {
     "data": {
      "text/plain": [
       "(3.5, 1.8708286933869707)"
      ]
     },
     "execution_count": 100,
     "metadata": {},
     "output_type": "execute_result"
    }
   ],
   "source": [
    "xs[0:6].mean(), xs[0:6].std()"
   ]
  },
  {
   "cell_type": "markdown",
   "id": "dbf155e7-ca78-488c-89f1-bfa808573488",
   "metadata": {},
   "source": [
    "These summary statistics are much more representative of the data.\n",
    "The mean value $3.5$ is a good single-number description for the \"centre\" of the data points,\n",
    "and the standard deviation of $1.87$ also gives us a good idea of the dispersion of the data points.\n",
    "\n",
    "Any subsequent statistical analyses we might perform with this data\n",
    "will benefit from these more accurate summary statistics\n",
    "we calculated after removing the outlier.\n",
    "\n",
    "<!-- Some statisticians argue that outliers should be excluded even if they aren't mistakes. They reason that because outliers skew results so drastically, those results won't be generalizable. -->"
   ]
  },
  {
   "cell_type": "markdown",
   "id": "1e24f289-32a1-40a4-a019-653a259fdec0",
   "metadata": {},
   "source": [
    "#### Criteria for identifying outliers\n",
    "\n",
    "There are several criteria we can use to systematically identify outliers:\n",
    "\n",
    "- **Visual inspection** is probably the simplest way to detect outliers.\n",
    "  Simply plot the data as a strip plot or scatter plot,\n",
    "  and look for values that don't seem to fit with the rest.\n",
    "\n",
    "- The **Tukey criterion** considers any value that is\n",
    "  more than `2.5*IQR` away from the outer quartiles of the data to be an outlier.\n",
    "  This is the criterion we used when drawing Tukey box-plots\n",
    "  in the notebook [13_descriptive_statistics.ipynb](../notebooks/13_descriptive_statistics.ipynb).\n",
    "\n",
    "- The **$z$-score criterion** allows us to identify values that are very far away from the mean.\n",
    "\n",
    "We'll now show how to apply these criteria to the data sample `xs`.\n",
    "\n",
    "<!-- https://www.itl.nist.gov/div898/handbook/eda/section3/eda35h.htm -->"
   ]
  },
  {
   "cell_type": "markdown",
   "id": "61e21911-db6e-4a7f-8365-75cf04edf870",
   "metadata": {},
   "source": [
    "#### Visual inspection of the data\n",
    "\n",
    "A strip plot of the data sample `xs`\n",
    "can help us simply \"see\" outliers if they are present.\n",
    "Here is how to use the `stripplot` functions from Seaborn to plot the data."
   ]
  },
  {
   "cell_type": "code",
   "execution_count": 101,
   "id": "fd979214-a8b1-4ceb-9413-fa5eadeb867f",
   "metadata": {},
   "outputs": [
    {
     "data": {
      "image/png": "[encoded data removed]",
      "text/plain": [
       "<Figure size 600x100 with 1 Axes>"
      ]
     },
     "metadata": {},
     "output_type": "display_data"
    }
   ],
   "source": [
    "import matplotlib.pylab as plt\n",
    "import seaborn as sns\n",
    "\n",
    "with plt.rc_context({\"figure.figsize\":(6,1)}):\n",
    "     sns.stripplot(x=xs, jitter=0);"
   ]
  },
  {
   "cell_type": "markdown",
   "id": "2c008087-b1c8-4946-bec2-403ad476a45c",
   "metadata": {},
   "source": [
    "#### Tukey outliers\n"
   ]
  },
  {
   "cell_type": "code",
   "execution_count": 102,
   "id": "4abaa9b0-8466-4b03-8cd9-4793a6fa8e9d",
   "metadata": {},
   "outputs": [
    {
     "data": {
      "text/plain": [
       "(-2.0, 10.0)"
      ]
     },
     "execution_count": 102,
     "metadata": {},
     "output_type": "execute_result"
    }
   ],
   "source": [
    "Q1, Q3 = xs.quantile([0.25, 0.75])\n",
    "IQR = Q3 - Q1\n",
    "xlim_low = Q1 - 1.5*IQR\n",
    "xlim_high = Q3 + 1.5*IQR\n",
    "(xlim_low, xlim_high)"
   ]
  },
  {
   "cell_type": "markdown",
   "id": "162262a8-32c5-4f97-bb88-493bda3880cf",
   "metadata": {},
   "source": [
    "Applying the heuristics based on the quartiles of the data sample,\n",
    "we obtain the criteria that any values outside the interval $[-2,10]$\n",
    "are to be counted as outliers.\n",
    "In words,\n",
    "values smaller than $-2$ or greater than $10$\n",
    "are to be considered as \"unusual\" for this data sample $\\mathbf{x}$.\n",
    "\n",
    "Let's build a mask that identifies all values that fit these criteria."
   ]
  },
  {
   "cell_type": "code",
   "execution_count": 103,
   "id": "40820a6c-0ca9-42b0-a2ad-e6d920e8096c",
   "metadata": {},
   "outputs": [
    {
     "data": {
      "text/plain": [
       "0    False\n",
       "1    False\n",
       "2    False\n",
       "3    False\n",
       "4    False\n",
       "5    False\n",
       "6     True\n",
       "Name: x, dtype: bool"
      ]
     },
     "execution_count": 103,
     "metadata": {},
     "output_type": "execute_result"
    }
   ],
   "source": [
    "tukey_outliers = (xs < -2.0) | (xs > 10.0)\n",
    "tukey_outliers"
   ]
  },
  {
   "cell_type": "markdown",
   "id": "1f91bad3-e57d-4a52-a16b-d89b42241984",
   "metadata": {},
   "source": [
    "The `tukey_outliers` series has the same index as the data frame `df6`,\n",
    "and tells us which rows in the data frame contain outliers."
   ]
  },
  {
   "cell_type": "markdown",
   "id": "abac4d3e-fc7c-4651-8a6d-65bf1db8eba8",
   "metadata": {},
   "source": [
    "#### Computing z-scores\n",
    "\n",
    "Given the list of values $\\mathbf{x} = [x_1, x_2, \\ldots, x_n]$,\n",
    "we compute the $z$-scores of each value\n",
    "$\\mathbf{z} = [z_1, z_2, \\ldots, z_n]$,\n",
    "where each $z_i = \\frac{x_i - \\overline{\\mathbf{x}}}{s_{\\mathbf{x}}}$.\n",
    "\n",
    "\n",
    "The $z$-scores of an observation tells you where this observation fits\n",
    "within the data.\n"
   ]
  },
  {
   "cell_type": "code",
   "execution_count": 104,
   "id": "74cbff3b-1b24-4cde-8eec-e58eb6e0050a",
   "metadata": {},
   "outputs": [
    {
     "data": {
      "text/plain": [
       "0   -0.517770\n",
       "1   -0.461139\n",
       "2   -0.404508\n",
       "3   -0.347877\n",
       "4   -0.291246\n",
       "5   -0.234615\n",
       "6    2.257155\n",
       "Name: x, dtype: float64"
      ]
     },
     "execution_count": 104,
     "metadata": {},
     "output_type": "execute_result"
    }
   ],
   "source": [
    "xbar = xs.mean()\n",
    "xstd = xs.std()\n",
    "zscores = (xs - xbar) / xstd\n",
    "zscores"
   ]
  },
  {
   "cell_type": "markdown",
   "id": "c4748468-04c2-47ea-9668-74a7984c5f8f",
   "metadata": {},
   "source": [
    "We can identify outliers by their unusually large $z$-scores.\n",
    "For example,\n",
    "we could check which values are more than two standard deviations away from the mean,\n",
    "by selecting $z$-scores that are less than $-2$ or greater than $2$."
   ]
  },
  {
   "cell_type": "code",
   "execution_count": 105,
   "id": "9069e1b9-6a07-4da9-b932-b3d35ea33c88",
   "metadata": {},
   "outputs": [
    {
     "data": {
      "text/plain": [
       "0    False\n",
       "1    False\n",
       "2    False\n",
       "3    False\n",
       "4    False\n",
       "5    False\n",
       "6     True\n",
       "Name: x, dtype: bool"
      ]
     },
     "execution_count": 105,
     "metadata": {},
     "output_type": "execute_result"
    }
   ],
   "source": [
    "zscore_outliers = (zscores < -2) | (zscores > 2)\n",
    "zscore_outliers"
   ]
  },
  {
   "cell_type": "markdown",
   "id": "284395da-f298-42e3-b2b0-3d2c75bf2fcf",
   "metadata": {},
   "source": [
    "Let's combine all these \"verdicts\" about the outlierness of the `xs`\n",
    "and store them as the columns in the data frame `results`.\n",
    "\n",
    "<!-- Note the outlier definition consists of two conditions\n",
    "combined with bitwise OR operator `|` (the \"pipe\" character on the English keyboard).-->"
   ]
  },
  {
   "cell_type": "code",
   "execution_count": 106,
   "id": "7005c9f4-c51b-44c8-afe6-c0a933d07d89",
   "metadata": {},
   "outputs": [
    {
     "data": {
      "text/html": [
       "<div>\n",
       "<style scoped>\n",
       "    .dataframe tbody tr th:only-of-type {\n",
       "        vertical-align: middle;\n",
       "    }\n",
       "\n",
       "    .dataframe tbody tr th {\n",
       "        vertical-align: top;\n",
       "    }\n",
       "\n",
       "    .dataframe thead th {\n",
       "        text-align: right;\n",
       "    }\n",
       "</style>\n",
       "<table border=\"1\" class=\"dataframe\">\n",
       "  <thead>\n",
       "    <tr style=\"text-align: right;\">\n",
       "      <th></th>\n",
       "      <th>x</th>\n",
       "      <th>tukey_outlier</th>\n",
       "      <th>zscore</th>\n",
       "      <th>zscore_outlier</th>\n",
       "    </tr>\n",
       "  </thead>\n",
       "  <tbody>\n",
       "    <tr>\n",
       "      <th>0</th>\n",
       "      <td>1</td>\n",
       "      <td>False</td>\n",
       "      <td>-0.517770</td>\n",
       "      <td>False</td>\n",
       "    </tr>\n",
       "    <tr>\n",
       "      <th>1</th>\n",
       "      <td>2</td>\n",
       "      <td>False</td>\n",
       "      <td>-0.461139</td>\n",
       "      <td>False</td>\n",
       "    </tr>\n",
       "    <tr>\n",
       "      <th>2</th>\n",
       "      <td>3</td>\n",
       "      <td>False</td>\n",
       "      <td>-0.404508</td>\n",
       "      <td>False</td>\n",
       "    </tr>\n",
       "    <tr>\n",
       "      <th>3</th>\n",
       "      <td>4</td>\n",
       "      <td>False</td>\n",
       "      <td>-0.347877</td>\n",
       "      <td>False</td>\n",
       "    </tr>\n",
       "    <tr>\n",
       "      <th>4</th>\n",
       "      <td>5</td>\n",
       "      <td>False</td>\n",
       "      <td>-0.291246</td>\n",
       "      <td>False</td>\n",
       "    </tr>\n",
       "    <tr>\n",
       "      <th>5</th>\n",
       "      <td>6</td>\n",
       "      <td>False</td>\n",
       "      <td>-0.234615</td>\n",
       "      <td>False</td>\n",
       "    </tr>\n",
       "    <tr>\n",
       "      <th>6</th>\n",
       "      <td>50</td>\n",
       "      <td>True</td>\n",
       "      <td>2.257155</td>\n",
       "      <td>True</td>\n",
       "    </tr>\n",
       "  </tbody>\n",
       "</table>\n",
       "</div>"
      ],
      "text/plain": [
       "    x  tukey_outlier    zscore  zscore_outlier\n",
       "0   1          False -0.517770           False\n",
       "1   2          False -0.461139           False\n",
       "2   3          False -0.404508           False\n",
       "3   4          False -0.347877           False\n",
       "4   5          False -0.291246           False\n",
       "5   6          False -0.234615           False\n",
       "6  50           True  2.257155            True"
      ]
     },
     "execution_count": 106,
     "metadata": {},
     "output_type": "execute_result"
    }
   ],
   "source": [
    "results = pd.DataFrame({\"x\":xs,\n",
    "                        \"tukey_outlier\": tukey_outliers,\n",
    "                        \"zscore\": zscores,\n",
    "                        \"zscore_outlier\": zscore_outliers})\n",
    "results"
   ]
  },
  {
   "cell_type": "markdown",
   "id": "aeadce06-bcaa-465e-a13d-b0732d90541a",
   "metadata": {},
   "source": [
    "We see that both the Tukey method and the $z$-score method\n",
    "have correctly identified $50$ as an outlier."
   ]
  },
  {
   "cell_type": "markdown",
   "id": "cccefd5e-b619-48b0-bac1-bf0028863568",
   "metadata": {},
   "source": [
    "### Removing outliers\n",
    "\n",
    "We can use the `tukey_outliers` or `zscore_outliers` verdicts\n",
    "to select only the subset of values that are not outliers.\n",
    "For example,\n",
    "we can invert the `tukey_outliers` mask\n",
    "using the Python NOT operator `~`\n",
    "to obtain a mask for all the values which are *not* outliers.\n",
    "\n",
    "<!-- The \"not outliers\" are the values we want to keep. The Python operator `~` is used for this. -->"
   ]
  },
  {
   "cell_type": "code",
   "execution_count": 107,
   "id": "07423dac-5525-48f5-aeda-b4328c2846d3",
   "metadata": {},
   "outputs": [
    {
     "data": {
      "text/plain": [
       "0     True\n",
       "1     True\n",
       "2     True\n",
       "3     True\n",
       "4     True\n",
       "5     True\n",
       "6    False\n",
       "Name: x, dtype: bool"
      ]
     },
     "execution_count": 107,
     "metadata": {},
     "output_type": "execute_result"
    }
   ],
   "source": [
    "~tukey_outliers"
   ]
  },
  {
   "cell_type": "markdown",
   "id": "8d368ae2-a310-4b11-9017-91409b9ac987",
   "metadata": {},
   "source": [
    "Using the `~outliers` mask allows us to select all the non-outliers."
   ]
  },
  {
   "cell_type": "code",
   "execution_count": 108,
   "id": "858c0e2d-7098-4ea1-8294-d720a6984c45",
   "metadata": {},
   "outputs": [
    {
     "data": {
      "text/plain": [
       "0    1\n",
       "1    2\n",
       "2    3\n",
       "3    4\n",
       "4    5\n",
       "5    6\n",
       "Name: x, dtype: int64"
      ]
     },
     "execution_count": 108,
     "metadata": {},
     "output_type": "execute_result"
    }
   ],
   "source": [
    "xs[~tukey_outliers]"
   ]
  },
  {
   "cell_type": "markdown",
   "id": "0d6b245e-5ab9-4fc5-9d5c-3f96a483fa99",
   "metadata": {},
   "source": [
    "We can assign this to a new variable and continue the statistical analysis\n",
    "based on the subset of `xs` that excludes the problematic outlier."
   ]
  },
  {
   "cell_type": "markdown",
   "id": "7ded66e3-5632-4c0b-93ef-77ae8df330d1",
   "metadata": {},
   "source": [
    "#### When should we drop outliers\n",
    "\n",
    "Rejecting observations that are far outside the range of expected values\n",
    "is the correct thing to do when these observations arise from data entry errors,\n",
    "but that doesn't mean we should always remove outliers to make our data look \"nicer.\"\n",
    "We need to have a legitimate reason for removing outliers.\n",
    "\n",
    "Outliers may indicate an unexpected phenomenon,\n",
    "or a previously unsuspected variable that influences the measurement.\n",
    "It would be a shame to just discard a potentially valuable finding.\n",
    "Instead of rejecting these observations,\n",
    "you could instead investigate the unusual cases more closely and look for an explanation.\n",
    "A consultation with a subject-matter expert (SME)\n",
    "would be a good idea before making the decision to exclude certain observations.\n",
    "\n",
    "Alternatively,\n",
    "you could use a statistical procedure that gives less weight to outliers,\n",
    "or you could repeat the experiment to obtain a new dataset and compare your two sets of results.\n",
    "Finally,\n",
    "you could choose to report results both with and without outliers and let your audience decide.\n",
    "\n",
    "<!-- TODO: mention robust statistics + FWD reference? -->\n",
    "\n",
    "If you eliminate data points from your analyses (for any reason),\n",
    "make sure to report this when reporting your results.\n",
    "\n",
    "<!--\n",
    "Whatever strategy you prefer,\n",
    "it's best to decide how you will deal with outliers *a priori*---before you collect your data.\n",
    "\n",
    "The goal of certain statistics procedures like *anomaly detection* is precisely to identify outliers,\n",
    "so you should definitely not remove them.\n",
    "\n",
    "Outlier in n-dimensions: e.g. an univariate outlier might not be a bi- or multivariate outlier.\n",
    "-->"
   ]
  },
  {
   "cell_type": "markdown",
   "id": "5647808d-8d10-4841-954e-56b85294d8d4",
   "metadata": {},
   "source": [
    "### Summary of data cleaning\n",
    "\n",
    "The data \"cleaning\" steps we introduced in this section\n",
    "are an essential prerequisite for any statistical analysis.\n",
    "It's important that you learn to perform these basic data manipulations\n",
    "so that you'll be able to work with messy, real-world datasets.\n",
    "We've only scratched the surface of what is possible,\n",
    "but I hope you got a general idea of the data cleaning steps you might need to do.\n",
    "\n",
    "Data pre-processing is not something you can \"outsource\" or handoff to a colleague,\n",
    "because it's very informative to \"touch\" the data to get to know it.\n",
    "If you only see data after it has been cleaned up by someone else,\n",
    "then you're missing a lot of the context,\n",
    "and you were not included in some important decisions,\n",
    "like dealing with missing values and outliers.\n",
    "\n",
    "\n",
    "The **Case Studies** section later in this tutorial\n",
    "shows some hands-on examples of data cleaning.\n",
    "To give you a taste of the data cleaning tasks,\n",
    "here are some exercises that ask you to clean-up\n",
    "the raw data files in `datasets/raw/`\n",
    "to obtain the same data as in `datasets/` folder."
   ]
  },
  {
   "cell_type": "markdown",
   "id": "a7dde918-f521-4e22-9614-6dadd0d4c86a",
   "metadata": {},
   "source": [
    "### Exercise A\n",
    "\n",
    "TODO"
   ]
  },
  {
   "cell_type": "markdown",
   "id": "4526a394-2772-493e-9260-5d5e493499c7",
   "metadata": {},
   "source": [
    "## Data sources"
   ]
  },
  {
   "cell_type": "markdown",
   "id": "8acca8b0-ce66-4020-ad79-52dfddd560d8",
   "metadata": {},
   "source": [
    "### Data extraction: get our hands on data\n",
    "\n",
    "Real-world data is stored in all kinds of places,\n",
    "and you often need to do an \"extraction\" phase to get your hands on the data.\n",
    "You'll have to deal with many different kinds of data sources at one point or another in your data career.\n",
    "Here are the most common data sources you should know about:\n",
    "\n",
    "<!-- Robyn said: Consider cutting this list of data sources -->\n",
    "\n",
    "-   **Local files.**\n",
    "    The simplest kind of data file is the one you can \"Save as,\"\n",
    "    receive as an email attachment,\n",
    "    and open from your local file system.\n",
    "    Every file is described by a *file path* that specifies the location of the file in the local file system,\n",
    "    and a file *extension* like `.csv`, `.xlsx`, `.json`, `.xml`,\n",
    "    which tells you what kind of format the data is stored in.\n",
    "    More on data file formats below.\n",
    "\n",
    "-   **Online files.**\n",
    "    Files can be made available for download on the internet by placing them on a web server.\n",
    "    Web servers also work with paths.\n",
    "    The job of a web server is to respond to requests for different paths.\n",
    "    For example,\n",
    "    when your web browser makes a GET request for the path `/datasets/minimal.csv`\n",
    "    on the server `noBSstats.com`,\n",
    "    the web server software running on `noBSstats.com`\n",
    "    will respond by sending back the contents of the file.\n",
    "    The act of GETing a file from a remote host and saving it to the local file system is\n",
    "    usually accomplished using the \"Save as\" operation,\n",
    "    a terminal command line `wget https://noBSstats.com/datasets/minimal.csv`,\n",
    "    of a Python script `import requests; response = requests.get(\"...\"); ...`.\n",
    "    <!-- TODO: finish this example ot make it a reference to some code block -->\n",
    "\n",
    "-   **Logs.**\n",
    "    Many software systems generate log files as part of their normal operation.\n",
    "    For example,\n",
    "    every web server keeps a log of all the requests it has received,\n",
    "    which can be a very useful data source.\n",
    "    <!-- Vanessa's dataset of website visitors was obtained by processing the logs of her web server. TODO: remind reader + pageref -->\n",
    "\n",
    "-   **Surveys.**\n",
    "    Send out a survey of some sort and obtain the responses.\n",
    "    Every startup should be investing time to talk to their customers,\n",
    "    and user surveys play a big role in this.\n",
    "\n",
    "-   **Databases.**\n",
    "    Company operational data is stored in one or more databases.\n",
    "    Access to this data is essential for understanding any business.\n",
    "    The Structured Query Language (SQL) is the standard interface for accessing data in databases.\n",
    "    Steps:\n",
    "    (1) obtain access to the DB (server, username, and password),\n",
    "    (2) connect to the DB,\n",
    "    (3) run a DB query SELECT \\... FROM \\...,\n",
    "    (4) save the output to a CSV file.\n",
    "\n",
    "-   **Websites.**\n",
    "    Data can sometimes be found as tables in a webpage's HTML markup code.\n",
    "    This data is usually displayed with the intention of being read by humans,\n",
    "    but it's often useful to extract the tabular data.\n",
    "    <!-- TODO: plug read_html -->\n",
    "\n",
    "-   **APIs.**\n",
    "    An *application programming interface* (API) is a standard way for computers to exchange data.\n",
    "    Data obtained from APIs is intended for machine use.\n",
    "    You can think of APIs as websites that allow fine-grained control of the data you're requesting,\n",
    "    and a well-defined format for the response data.\n",
    "    <!-- Common data formats used for API responses are JSON and XML. -->\n",
    "    <!-- TODO mention Getting data from APIs can be done via requests + json processing (examples using github API?) -->\n",
    "\n",
    "-   **Data repositories.**\n",
    "    Existing datasets on specialized web servers for hosting data.\n",
    "    A data repository will allow you to download datasets in the usual formats CSV, spreadsheet, etc.\n",
    "    but also has additional description of the data (metadata).\n",
    "    Examples of data repositories include,\n",
    "    government data repositories,\n",
    "    open science repositories like OSF, Zenodo, etc.\n",
    "    <!-- TODO: finish this with better examples -->\n",
    "\n",
    "-   **Published plots and graphs.**\n",
    "    Using tools like [`graphreader.com`](https://www.graphreader.com/),\n",
    "    you can sometimes read data points from graphs in published research papers.\n",
    "\n",
    "-   **Research datasets.** \n",
    "    Ask researchers to provide you with raw data files from any research paper.\n",
    "    You can expect mixed responses,\n",
    "    but it doesn't hurt to ask.\n",
    "\n",
    "-   **SQL files.** \n",
    "    Structured Query Language is the standard format used to represent data in databases.\n",
    "    A *database dump* files contain the complete instructions for recreating a database and all the contents in it.\n",
    "    TODO: mention not meant to work directly -- but load into DB then query to extract CSV.\n"
   ]
  },
  {
   "cell_type": "markdown",
   "id": "de9a5246-b490-4269-acee-7f2b4834601a",
   "metadata": {},
   "source": [
    "### Data formats\n",
    "<!-- ALT. Data file formats -->\n",
    "\n",
    "Data files can be encoded in one of several data formats:\n",
    "CSV files, TSV files, spreadsheets, JSON files, HTML files, SQLite database files, etc.\n",
    "We'll now show examples of the Pandas code for loading data from various file formats,\n",
    "which are the most common data formats seen \"in the wild.\"\n",
    "\n",
    "<!-- Robyn said: Move formats to appendix? Consider condensing into a table instead with columns: - snippet of what the data looks like, - name of the format - method to read it in python -->\n",
    "\n",
    "\n",
    "<!-- CUT SINCE NOT COVERING ALL FORMATS ANYMORE\n",
    "all of the above source formats.\n",
    "You can find all the source data files in the `datasets/formats/` directory.\n",
    "We'll use the function `head` to print the first few lines of the data files so you'll get a feeling for how the data is structured,\n",
    "then show the appropriate Pandas function for loading data in this format.\n",
    "The actual data we'll be loading in will be the same in each case,\n",
    "it's just encoded in a different source format,\n",
    "but after loading the data into Pandas,\n",
    "all the different formats will end up as identical data frame objects. -->\n",
    "\n",
    "**Content warning:** In the next few pages, acronyms like SQL, TSV, and JSON will be thrown at you.\n",
    "I know you're thinking \"wow that escalated quickly,\"\n",
    "but we have to get a bit technical to make the knowledge actually useful.\n",
    "\n",
    "<!-- If we're going to talk about data, then let's make it real.\n",
    "Let's go get the data wherever it may be:\n",
    "in Excel files, in text files, in databases, in scientific experiment logbooks, everywhere! -->"
   ]
  },
  {
   "cell_type": "markdown",
   "id": "cf8f74f0-99a4-40c4-aa0a-f600157f8541",
   "metadata": {},
   "source": [
    "### CSV files\n",
    "\n",
    "The initialism CSV stands for Comma-Separated-Values and is a widespread file format for tabular data.\n",
    "CSV files consist of plain text values separated by commas.\n",
    "The first line of a CSV file usually contains the variable names (it is called the header row).\n",
    "Comma-Separated-Values files are the most common file format for tabular data that you are likely to encounter.\n",
    "You can load CSV data using the function `pd.read_csv(<path>)`,\n",
    "where `<path>` is the location of the CSV file.\n",
    "\n",
    "Let's see the \"raw contents\" of the data file `datasets/minimal.csv`\n",
    "as you would see if you opened it with a basic text editor like (e.g. Notepad in Windows or TextEdit on a Mac).\n",
    "\n",
    "```\n",
    "    x,y,team,level\n",
    "    1.0,2.0,a,3\n",
    "    1.5,1.0,a,2\n",
    "    2.0,1.5,a,1\n",
    "    2.5,2.0,b,3\n",
    "    3.0,1.5,b,3\n",
    "```\n",
    "\n",
    "Note the first line of this file is a \"header row\" that contains the column names,\n",
    "while the remaining rows contain the actual data for the observations.\n",
    "\n",
    "\n",
    "<!-- Comma-Separated-Values are the most common format for tabular data.\n",
    "CSV files are regular text files that contain individual values (numeric or text) separated by commas. In many CSV files, the first line is a special header row that contains the names of the variables. -->"
   ]
  },
  {
   "cell_type": "markdown",
   "id": "172a8170-8ef4-4126-bfd5-40e6c1e0b62e",
   "metadata": {},
   "source": [
    "Here is the code for loading a CSV file `datasets/minimal.csv`\n",
    "and showing the resulting data frame."
   ]
  },
  {
   "cell_type": "code",
   "execution_count": 109,
   "id": "4612d568-d05b-40da-8a4c-1cb49f4975e5",
   "metadata": {},
   "outputs": [
    {
     "name": "stdout",
     "output_type": "stream",
     "text": [
      "     x    y team  level\n",
      "0  1.0  2.0    a      3\n",
      "1  1.5  1.0    a      2\n",
      "2  2.0  1.5    a      1\n",
      "3  2.5  2.0    b      3\n",
      "4  3.0  1.5    b      3\n"
     ]
    }
   ],
   "source": [
    "df = pd.read_csv(\"datasets/minimal.csv\")\n",
    "print(df)"
   ]
  },
  {
   "cell_type": "markdown",
   "id": "e119a3f9-5bee-41fa-9975-8e255e584aab",
   "metadata": {},
   "source": [
    "### Other data formats"
   ]
  },
  {
   "cell_type": "markdown",
   "id": "159a8422-be04-4cce-9168-3e5b5ad3bd52",
   "metadata": {},
   "source": [
    "#### Spreadsheets files\n",
    "\n",
    "Spreadsheet software like LibreOffice Calc, Microsoft Excel, and Google Sheets\n",
    "can be used to edit spreadsheet files with extensions like `.ods`, `.xlsx`, and `.xls`.\n",
    "We can load data from spreadsheet files using the function `pd.read_excel()`."
   ]
  },
  {
   "cell_type": "code",
   "execution_count": 110,
   "id": "26b1c007-c546-46c8-b325-26696340d587",
   "metadata": {},
   "outputs": [
    {
     "name": "stdout",
     "output_type": "stream",
     "text": [
      "Note: you may need to restart the kernel to use updated packages.\n"
     ]
    }
   ],
   "source": [
    "%pip install -q odfpy"
   ]
  },
  {
   "cell_type": "code",
   "execution_count": 111,
   "id": "6394d47b-f8dc-4e1d-b2d2-4f2b69b51c6a",
   "metadata": {},
   "outputs": [
    {
     "data": {
      "text/plain": [
       "True"
      ]
     },
     "execution_count": 111,
     "metadata": {},
     "output_type": "execute_result"
    }
   ],
   "source": [
    "odsdf = pd.read_excel(\"datasets/formats/minimal.ods\",\n",
    "                      sheet_name=\"Sheet1\")\n",
    "odsdf.equals(df)"
   ]
  },
  {
   "cell_type": "code",
   "execution_count": 112,
   "id": "13fd3248-8f01-4100-88ca-a7ce3ace2c0f",
   "metadata": {},
   "outputs": [
    {
     "name": "stdout",
     "output_type": "stream",
     "text": [
      "Note: you may need to restart the kernel to use updated packages.\n"
     ]
    }
   ],
   "source": [
    "%pip install -q openpyxl"
   ]
  },
  {
   "cell_type": "code",
   "execution_count": 113,
   "id": "853ffa32-0f94-43d7-b866-cc3dd84d6a69",
   "metadata": {},
   "outputs": [
    {
     "data": {
      "text/plain": [
       "True"
      ]
     },
     "execution_count": 113,
     "metadata": {},
     "output_type": "execute_result"
    }
   ],
   "source": [
    "xlsxdf = pd.read_excel(\"datasets/formats/minimal.xlsx\",\n",
    "                       sheet_name=\"Sheet1\")\n",
    "xlsxdf.equals(df)"
   ]
  },
  {
   "cell_type": "markdown",
   "id": "1526dd07-ff82-4d8f-9178-69b4e8920d52",
   "metadata": {},
   "source": [
    "#### TSV\n",
    "\n",
    "The Tab-Separated-Values format is similar to CSV, but uses TAB characters as separators.\n",
    "TAB is a special character used for aligning text into columns,\n",
    "an it is represented as `\\t` in Python strings.\n",
    "Here is the contents of the data file `datasets/formats/minimal.tsv`.\n",
    "\n",
    "```TSV\n",
    "x       y       team    level\n",
    "1.0     2.0     a       3\n",
    "1.5     1.0     a       2\n",
    "2.0     1.5     a       1\n",
    "2.5     2.0     b       3\n",
    "3.0     1.5     b       3\n",
    "```\n",
    "\n",
    "<!-- TODO: say TAB keypress means move-one-colum-to-the-right inside tables (like spreadsheet software) -->"
   ]
  },
  {
   "cell_type": "markdown",
   "id": "fa6730c6-76b2-44fc-8b68-31f91e6fcbd3",
   "metadata": {},
   "source": [
    "We load TSV files using the function `pd.read_csv`\n",
    "by passing the value `\"\\t\"` to the `sep` (separator) argument:\n",
    "`pd.read_csv(<path>, sep=\"\\t\")`."
   ]
  },
  {
   "cell_type": "code",
   "execution_count": 114,
   "id": "3c7fcffc-8fe5-42f5-81e2-61043dc9c1e9",
   "metadata": {},
   "outputs": [
    {
     "data": {
      "text/html": [
       "<div>\n",
       "<style scoped>\n",
       "    .dataframe tbody tr th:only-of-type {\n",
       "        vertical-align: middle;\n",
       "    }\n",
       "\n",
       "    .dataframe tbody tr th {\n",
       "        vertical-align: top;\n",
       "    }\n",
       "\n",
       "    .dataframe thead th {\n",
       "        text-align: right;\n",
       "    }\n",
       "</style>\n",
       "<table border=\"1\" class=\"dataframe\">\n",
       "  <thead>\n",
       "    <tr style=\"text-align: right;\">\n",
       "      <th></th>\n",
       "      <th>x</th>\n",
       "      <th>y</th>\n",
       "      <th>team</th>\n",
       "      <th>level</th>\n",
       "    </tr>\n",
       "  </thead>\n",
       "  <tbody>\n",
       "    <tr>\n",
       "      <th>0</th>\n",
       "      <td>1.0</td>\n",
       "      <td>2.0</td>\n",
       "      <td>a</td>\n",
       "      <td>3</td>\n",
       "    </tr>\n",
       "    <tr>\n",
       "      <th>1</th>\n",
       "      <td>1.5</td>\n",
       "      <td>1.0</td>\n",
       "      <td>a</td>\n",
       "      <td>2</td>\n",
       "    </tr>\n",
       "    <tr>\n",
       "      <th>2</th>\n",
       "      <td>2.0</td>\n",
       "      <td>1.5</td>\n",
       "      <td>a</td>\n",
       "      <td>1</td>\n",
       "    </tr>\n",
       "    <tr>\n",
       "      <th>3</th>\n",
       "      <td>2.5</td>\n",
       "      <td>2.0</td>\n",
       "      <td>b</td>\n",
       "      <td>3</td>\n",
       "    </tr>\n",
       "    <tr>\n",
       "      <th>4</th>\n",
       "      <td>3.0</td>\n",
       "      <td>1.5</td>\n",
       "      <td>b</td>\n",
       "      <td>3</td>\n",
       "    </tr>\n",
       "  </tbody>\n",
       "</table>\n",
       "</div>"
      ],
      "text/plain": [
       "     x    y team  level\n",
       "0  1.0  2.0    a      3\n",
       "1  1.5  1.0    a      2\n",
       "2  2.0  1.5    a      1\n",
       "3  2.5  2.0    b      3\n",
       "4  3.0  1.5    b      3"
      ]
     },
     "execution_count": 114,
     "metadata": {},
     "output_type": "execute_result"
    }
   ],
   "source": [
    "tsvdf = pd.read_csv(\"datasets/formats/minimal.tsv\", sep=\"\\t\")\n",
    "tsvdf"
   ]
  },
  {
   "cell_type": "code",
   "execution_count": 115,
   "id": "928e1c9f-78da-4c2a-b27f-81a8d913315a",
   "metadata": {},
   "outputs": [
    {
     "data": {
      "text/plain": [
       "True"
      ]
     },
     "execution_count": 115,
     "metadata": {},
     "output_type": "execute_result"
    }
   ],
   "source": [
    "tsvdf.equals(df)"
   ]
  },
  {
   "cell_type": "markdown",
   "id": "454696c2-f35f-4b1b-9168-80a310535471",
   "metadata": {},
   "source": [
    "#### JSON\n",
    "\n",
    "The acronym JSON stands for JavaScript Object Notation,\n",
    "and it is one of the most common data format by web applications and APIs.\n",
    "The JSON data format is similar to Python's notation for `list`s (square brackets `[...]`),\n",
    "and `dict`s (curly braces `{...}` containing key:value pairs).\n",
    "Here are the contents of the data file `datasets/formats/minimal.json`.\n",
    "\n",
    "```JSON\n",
    "[\n",
    "  {\"x\":1.0, \"y\":2.0, \"team\":\"a\", \"level\":3},\n",
    "  {\"x\":1.5, \"y\":1.0, \"team\":\"a\", \"level\":2},\n",
    "  {\"x\":2.0, \"y\":1.5, \"team\":\"a\", \"level\":1},\n",
    "  {\"x\":2.5, \"y\":2.0, \"team\":\"b\", \"level\":3},\n",
    "  {\"x\":3.0, \"y\":1.5, \"team\":\"b\", \"level\":3}\n",
    "]\n",
    "```"
   ]
  },
  {
   "cell_type": "markdown",
   "id": "43309a88-1308-48ce-938e-2b3457c9d096",
   "metadata": {},
   "source": [
    "Pandas provides the function `pd.read_json()` for loading JSON data.\n",
    "If the contents of the JSON file is a list of observation,\n",
    "we can load JSON files directly into a data frame using the function `pd.read_json()`."
   ]
  },
  {
   "cell_type": "code",
   "execution_count": 116,
   "id": "c74b9cd1-5f64-4883-ac97-23c652645f6f",
   "metadata": {},
   "outputs": [
    {
     "data": {
      "text/plain": [
       "True"
      ]
     },
     "execution_count": 116,
     "metadata": {},
     "output_type": "execute_result"
    }
   ],
   "source": [
    "jsondf = pd.read_json(\"datasets/formats/minimal.json\")\n",
    "jsondf.equals(df)"
   ]
  },
  {
   "cell_type": "markdown",
   "id": "d0ce9bb7-6340-4ff1-9aeb-be33a9fa1541",
   "metadata": {},
   "source": [
    "<!-- TODO: plug `pd.json_normalize` https://pandas.pydata.org/docs/reference/api/pandas.json_normalize.html via https://towardsdatascience.com/all-pandas-json-normalize-you-should-know-for-flattening-json-13eae1dfb7dd -->\n",
    "\n",
    "If the JSON source data file has a structure that is more complicated than a list-of-observations,\n",
    "we can try calling the function `pd.json_normalize`,\n",
    "which will try to auto-guess the structure of the JSON data.\n",
    "In the general case,\n",
    "importing JSON data might require using the Python module `json` to load the data into Python data structures\n",
    "and carry out processing steps to extract the desired subset of the data you're interested in and organizing it\n",
    "into the list-of-observation format that Pandas expects."
   ]
  },
  {
   "cell_type": "markdown",
   "id": "99861ce2-7845-43c1-bb1e-09ce93072be4",
   "metadata": {},
   "source": [
    "#### HTML tables\n",
    "\n",
    "The HyperText Markup Language format is used by all the web pages you access on the web.\n",
    "The HTML source code of a webpage can include tabular data (the `<table>` tag in the HTML source code).\n",
    "Here are the first few lines of the HTML file `datasets/formats/minimal.html`.\n",
    "\n",
    "```html\n",
    "<table>\n",
    "  <thead>\n",
    "    <tr>\n",
    "      <th>x</th>\n",
    "      <th>y</th>\n",
    "      <th>team</th>\n",
    "      <th>level</th>\n",
    "    </tr>\n",
    "  </thead>\n",
    "  <tbody>\n",
    "    <tr>\n",
    "      <td>1.0</td>\n",
    "      <td>2.0</td>\n",
    "      <td>a</td>\n",
    "      <td>3</td>\n",
    "    </tr>\n",
    "```"
   ]
  },
  {
   "cell_type": "markdown",
   "id": "3b2c4dc6-8a10-4195-bc59-295640679051",
   "metadata": {},
   "source": [
    "We can load the data from HTML files using the function `pd.read_html()`,\n",
    "which returns a list of data frames extracted from the tables found in a HTML document."
   ]
  },
  {
   "cell_type": "code",
   "execution_count": 117,
   "id": "b97fad46-088e-4e4e-9012-0440fcaf9d5f",
   "metadata": {},
   "outputs": [
    {
     "name": "stdout",
     "output_type": "stream",
     "text": [
      "Note: you may need to restart the kernel to use updated packages.\n"
     ]
    }
   ],
   "source": [
    "%pip install -q lxml"
   ]
  },
  {
   "cell_type": "code",
   "execution_count": 118,
   "id": "b27d3139-3b33-4d82-8045-6080345c5df4",
   "metadata": {},
   "outputs": [
    {
     "data": {
      "text/plain": [
       "True"
      ]
     },
     "execution_count": 118,
     "metadata": {},
     "output_type": "execute_result"
    }
   ],
   "source": [
    "tables = pd.read_html(\"datasets/formats/minimal.html\")\n",
    "htmldf = tables[0]\n",
    "htmldf.equals(df)"
   ]
  },
  {
   "cell_type": "code",
   "execution_count": 119,
   "id": "0ed58bd7-05e7-46b0-9df0-2361320bc922",
   "metadata": {},
   "outputs": [
    {
     "data": {
      "text/html": [
       "<div>\n",
       "<style scoped>\n",
       "    .dataframe tbody tr th:only-of-type {\n",
       "        vertical-align: middle;\n",
       "    }\n",
       "\n",
       "    .dataframe tbody tr th {\n",
       "        vertical-align: top;\n",
       "    }\n",
       "\n",
       "    .dataframe thead th {\n",
       "        text-align: right;\n",
       "    }\n",
       "</style>\n",
       "<table border=\"1\" class=\"dataframe\">\n",
       "  <thead>\n",
       "    <tr style=\"text-align: right;\">\n",
       "      <th></th>\n",
       "      <th>x</th>\n",
       "      <th>y</th>\n",
       "      <th>team</th>\n",
       "      <th>level</th>\n",
       "    </tr>\n",
       "  </thead>\n",
       "  <tbody>\n",
       "    <tr>\n",
       "      <th>0</th>\n",
       "      <td>1.0</td>\n",
       "      <td>2.0</td>\n",
       "      <td>a</td>\n",
       "      <td>3</td>\n",
       "    </tr>\n",
       "    <tr>\n",
       "      <th>1</th>\n",
       "      <td>1.5</td>\n",
       "      <td>1.0</td>\n",
       "      <td>a</td>\n",
       "      <td>2</td>\n",
       "    </tr>\n",
       "    <tr>\n",
       "      <th>2</th>\n",
       "      <td>2.0</td>\n",
       "      <td>1.5</td>\n",
       "      <td>a</td>\n",
       "      <td>1</td>\n",
       "    </tr>\n",
       "    <tr>\n",
       "      <th>3</th>\n",
       "      <td>2.5</td>\n",
       "      <td>2.0</td>\n",
       "      <td>b</td>\n",
       "      <td>3</td>\n",
       "    </tr>\n",
       "    <tr>\n",
       "      <th>4</th>\n",
       "      <td>3.0</td>\n",
       "      <td>1.5</td>\n",
       "      <td>b</td>\n",
       "      <td>3</td>\n",
       "    </tr>\n",
       "  </tbody>\n",
       "</table>\n",
       "</div>"
      ],
      "text/plain": [
       "     x    y team  level\n",
       "0  1.0  2.0    a      3\n",
       "1  1.5  1.0    a      2\n",
       "2  2.0  1.5    a      1\n",
       "3  2.5  2.0    b      3\n",
       "4  3.0  1.5    b      3"
      ]
     },
     "execution_count": 119,
     "metadata": {},
     "output_type": "execute_result"
    }
   ],
   "source": [
    "htmldf"
   ]
  },
  {
   "cell_type": "markdown",
   "id": "1b7318a7-a7d1-4934-8254-5aa8b3694527",
   "metadata": {},
   "source": [
    "#### XML\n",
    "\n",
    "The eXtensible Markup Language format is used by many structured data formats and APIs.\n",
    "Here are the first few lines of the XML data file `datasets/formats/minimal.xml`.\n",
    "\n",
    "```xml\n",
    "<?xml version='1.0' encoding='utf-8'?>\n",
    "<players>\n",
    "  <player>\n",
    "    <x>1.0</x>\n",
    "    <y>2.0</y>\n",
    "    <team>a</team>\n",
    "    <level>3</level>\n",
    "  </player>\n",
    "```"
   ]
  },
  {
   "cell_type": "markdown",
   "id": "5d4491c7-03a1-4ea0-ac34-685f7f884b41",
   "metadata": {},
   "source": [
    "We use the function `pd.read_xml()` to load XML data."
   ]
  },
  {
   "cell_type": "code",
   "execution_count": 120,
   "id": "9f8aab0c-9a4d-45c7-8de8-013c1eb384a4",
   "metadata": {},
   "outputs": [
    {
     "data": {
      "text/plain": [
       "True"
      ]
     },
     "execution_count": 120,
     "metadata": {},
     "output_type": "execute_result"
    }
   ],
   "source": [
    "xmldf = pd.read_xml(\"datasets/formats/minimal.xml\")\n",
    "xmldf.equals(df)"
   ]
  },
  {
   "cell_type": "markdown",
   "id": "280af55f-8d2c-47b4-a1dc-96e6a2c8af9a",
   "metadata": {},
   "source": [
    "The Python libraries `lxml` or `BeautifulSoup` can be used\n",
    "for more advanced XML parsing and data processing steps (out of scope)."
   ]
  },
  {
   "cell_type": "markdown",
   "id": "14289170-5d3c-4519-98fa-bf37c00ac1d6",
   "metadata": {},
   "source": [
    "#### SQLite databases\n",
    "\n",
    "SQLite is a commonly used data format for storing a complete database as a single file.\n",
    "Pandas provides the generic functions `pd.read_sql_table()` and `pd.read_sql_query()` for extracting data from databases,\n",
    "and we can use these functions to \"connect\" to the SQLite database file\n",
    "and read the data stored in one or more database tables in the SQLite database file."
   ]
  },
  {
   "cell_type": "code",
   "execution_count": 121,
   "id": "ab6381b0-1892-4845-b505-8de7050eb068",
   "metadata": {},
   "outputs": [
    {
     "name": "stdout",
     "output_type": "stream",
     "text": [
      "Note: you may need to restart the kernel to use updated packages.\n"
     ]
    }
   ],
   "source": [
    "%pip install -q sqlalchemy"
   ]
  },
  {
   "cell_type": "code",
   "execution_count": 122,
   "id": "6c9ac5d0-698a-461a-a68c-24dfa4b95fe7",
   "metadata": {},
   "outputs": [
    {
     "name": "stdout",
     "output_type": "stream",
     "text": [
      "True\n"
     ]
    }
   ],
   "source": [
    "from sqlalchemy import create_engine\n",
    "dbpath = \"datasets/formats/minimal.sqlite\"\n",
    "engine = create_engine(\"sqlite:///\" + dbpath)\n",
    "with engine.connect() as conn:\n",
    "    sqldf = pd.read_sql_table(\"players\", con=conn)\n",
    "    print(sqldf.equals(df))"
   ]
  },
  {
   "cell_type": "code",
   "execution_count": 123,
   "id": "b0a8306f-615b-4a17-b0cb-7232dab8c5c9",
   "metadata": {},
   "outputs": [
    {
     "data": {
      "text/plain": [
       "True"
      ]
     },
     "execution_count": 123,
     "metadata": {},
     "output_type": "execute_result"
    }
   ],
   "source": [
    "query = \"SELECT x, y, team, level FROM players;\"\n",
    "sqldf2 = pd.read_sql_query(query, con=engine)\n",
    "sqldf2.equals(df)"
   ]
  },
  {
   "cell_type": "markdown",
   "id": "9efd8341-5212-43fb-9946-6be9cecdeadb",
   "metadata": {},
   "source": [
    "The key to remember when dealing with various source files,\n",
    "is that you your goal is to get the data in whatever \"shape\" it is in,\n",
    "and save it as a Pandas data frame.\n",
    "Do not try to restructure or modify the data in its source format,\n",
    "you can do the data transformation and cleaning steps once you have it in the Pandas data frame,\n",
    "like we saw in the **Data Cleaning** section."
   ]
  },
  {
   "cell_type": "markdown",
   "id": "3ba9aca6-11bc-4997-a8e3-1acfe9b2789c",
   "metadata": {},
   "source": [
    "## Case studies\n",
    "\n",
    "We'll now describe how datasets used in the book were obtained:\n",
    "Vanessa's website visitors,\n",
    "Bob's electricity prices,\n",
    "and Charlotte's student scores,\n",
    "as well as the apples, kombucha, doctors, etc.\n",
    "We were not involved in the data collection process for these datasets,\n",
    "but it's still worth asking the clients (Vanessa, Bob, Charlotte, etc.)\n",
    "about the steps they followed to obtain the data.\n",
    "There is an unspoken rule in statistics\n",
    "that **the more you know about the data,\n",
    "the better you'll be able to do the statistical analysis on it**.\n",
    "\n",
    "The goal is to just show some examples of real-world data collection and cleanup steps,\n",
    "so you'll know what to expect when working on your own datasets.\n",
    "We'll present the backstory for each dataset as an informal conversation.\n",
    "\n",
    "<!-- OLD = Background stories for the example datasets -->\n",
    "\n"
   ]
  },
  {
   "cell_type": "markdown",
   "id": "afbe08ac-a7aa-4603-92cb-d131f1198183",
   "metadata": {},
   "source": [
    "### Collecting the apples dataset\n",
    "\n",
    "Alice's orchard\n",
    "\n",
    "TODO: import from .tex"
   ]
  },
  {
   "cell_type": "markdown",
   "id": "f8532424-3765-484c-9ad0-c1e04f58ccda",
   "metadata": {},
   "source": [
    "### Collecting the electricity prices dataset\n",
    "\n",
    "A few days later,\n",
    "you call up Bob to ask him about how he collected the electricity prices dataset `eprices.csv`.\n",
    "He tells you he obtained the electricity pricing data by scraping the pages from a local price-comparison website.\n",
    "This website contained the electricity prices for various charging stations in the form of an HTML table.\n",
    "He used the function `pd.read_html()` to extract the prices for each station\n",
    "and categorized the stations based on their location in the East and West parts of the city.\n",
    "\n",
    "<!-- TODO: in notebook, JOIN data from individual stations + prices -->\n",
    "\n",
    "Listening to the explanations,\n",
    "you wonder about the possible bias that might exist in the electricity prices that Bob collected,\n",
    "so you decide to ask him about it.\n",
    "\n",
    "\"Bob, tell me more about this website. Which charging stations are listed there?\" you ask.\n",
    "\n",
    "\"It's a volunteer-run effort. People post the price they paid every day,\n",
    "so it includes a wide selection of the stations.\n",
    "There were several pages of results,\n",
    "and each page has 20 prices,\n",
    "so I think I had the data from most of the stations\" he says.\n",
    "\n",
    "\"Ah OK, cool. It seems it's a pretty good sample,\" you say.\n",
    "\"I was worried it might be a commercial website that only shows the prices from 'preferred' stations.\"\n",
    "<!-- Robyn said: Potential issues with the data Repeated measure on the same stations: without accounting for it, people voluntarily posting the price they paid, not selected at random TODO: fix this -->\n",
    "\n",
    "You're reassured you have a representative sample of the prices,\n",
    "so you'll be able to study the question\n",
    "\"Which part of the city has cheaper electricity prices?\"\n",
    "since you have the data from a reasonable number of charging stations.\n",
    "\n",
    "You load up Bob's dataset `datasets/epriceswide.csv`\n",
    "and print the first few rows to see how the dataset is structured."
   ]
  },
  {
   "cell_type": "code",
   "execution_count": 124,
   "id": "c84f7b85-eb02-4e15-915d-7ef456011e6d",
   "metadata": {},
   "outputs": [
    {
     "data": {
      "text/html": [
       "<div>\n",
       "<style scoped>\n",
       "    .dataframe tbody tr th:only-of-type {\n",
       "        vertical-align: middle;\n",
       "    }\n",
       "\n",
       "    .dataframe tbody tr th {\n",
       "        vertical-align: top;\n",
       "    }\n",
       "\n",
       "    .dataframe thead th {\n",
       "        text-align: right;\n",
       "    }\n",
       "</style>\n",
       "<table border=\"1\" class=\"dataframe\">\n",
       "  <thead>\n",
       "    <tr style=\"text-align: right;\">\n",
       "      <th></th>\n",
       "      <th>East</th>\n",
       "      <th>West</th>\n",
       "    </tr>\n",
       "  </thead>\n",
       "  <tbody>\n",
       "    <tr>\n",
       "      <th>0</th>\n",
       "      <td>7.7</td>\n",
       "      <td>11.8</td>\n",
       "    </tr>\n",
       "    <tr>\n",
       "      <th>1</th>\n",
       "      <td>5.9</td>\n",
       "      <td>10.0</td>\n",
       "    </tr>\n",
       "    <tr>\n",
       "      <th>2</th>\n",
       "      <td>7.0</td>\n",
       "      <td>11.0</td>\n",
       "    </tr>\n",
       "    <tr>\n",
       "      <th>3</th>\n",
       "      <td>4.8</td>\n",
       "      <td>8.6</td>\n",
       "    </tr>\n",
       "    <tr>\n",
       "      <th>4</th>\n",
       "      <td>6.3</td>\n",
       "      <td>8.3</td>\n",
       "    </tr>\n",
       "  </tbody>\n",
       "</table>\n",
       "</div>"
      ],
      "text/plain": [
       "   East  West\n",
       "0   7.7  11.8\n",
       "1   5.9  10.0\n",
       "2   7.0  11.0\n",
       "3   4.8   8.6\n",
       "4   6.3   8.3"
      ]
     },
     "execution_count": 124,
     "metadata": {},
     "output_type": "execute_result"
    }
   ],
   "source": [
    "epriceswide = pd.read_csv(\"datasets/epriceswide.csv\")\n",
    "epriceswide.head()"
   ]
  },
  {
   "cell_type": "markdown",
   "id": "fd400b43-3a8d-4e30-9e80-cd1bce2d7959",
   "metadata": {},
   "source": [
    "It seems Bob stored the data in \"wide format,\"\n",
    "with the prices from charging stations in the East in one column,\n",
    "and the prices from the charging stations in the West in another column.\n",
    "In other words,\n",
    "knowing if a given price is in the East or West is encoded in its column position.\n",
    "You're can use the `.melt()` method to convert wide data into long data."
   ]
  },
  {
   "cell_type": "code",
   "execution_count": 125,
   "id": "88e204b2-74a5-44ae-b9a1-4c8650ce86a2",
   "metadata": {},
   "outputs": [
    {
     "data": {
      "text/html": [
       "<div>\n",
       "<style scoped>\n",
       "    .dataframe tbody tr th:only-of-type {\n",
       "        vertical-align: middle;\n",
       "    }\n",
       "\n",
       "    .dataframe tbody tr th {\n",
       "        vertical-align: top;\n",
       "    }\n",
       "\n",
       "    .dataframe thead th {\n",
       "        text-align: right;\n",
       "    }\n",
       "</style>\n",
       "<table border=\"1\" class=\"dataframe\">\n",
       "  <thead>\n",
       "    <tr style=\"text-align: right;\">\n",
       "      <th></th>\n",
       "      <th>loc</th>\n",
       "      <th>price</th>\n",
       "    </tr>\n",
       "  </thead>\n",
       "  <tbody>\n",
       "    <tr>\n",
       "      <th>0</th>\n",
       "      <td>East</td>\n",
       "      <td>7.7</td>\n",
       "    </tr>\n",
       "    <tr>\n",
       "      <th>1</th>\n",
       "      <td>East</td>\n",
       "      <td>5.9</td>\n",
       "    </tr>\n",
       "    <tr>\n",
       "      <th>2</th>\n",
       "      <td>East</td>\n",
       "      <td>7.0</td>\n",
       "    </tr>\n",
       "    <tr>\n",
       "      <th>3</th>\n",
       "      <td>East</td>\n",
       "      <td>4.8</td>\n",
       "    </tr>\n",
       "    <tr>\n",
       "      <th>4</th>\n",
       "      <td>East</td>\n",
       "      <td>6.3</td>\n",
       "    </tr>\n",
       "  </tbody>\n",
       "</table>\n",
       "</div>"
      ],
      "text/plain": [
       "    loc  price\n",
       "0  East    7.7\n",
       "1  East    5.9\n",
       "2  East    7.0\n",
       "3  East    4.8\n",
       "4  East    6.3"
      ]
     },
     "execution_count": 125,
     "metadata": {},
     "output_type": "execute_result"
    }
   ],
   "source": [
    "eprices = pd.read_csv(\"datasets/eprices.csv\")\n",
    "eprices.head()"
   ]
  },
  {
   "cell_type": "markdown",
   "id": "0d0516b5-ba03-4c7d-8616-45802b028b5d",
   "metadata": {},
   "source": [
    "You're confident you know what you'll need to do from here.\n",
    "\n",
    "\"Okay Bob. Thanks for the info.\" you say to him.\n",
    "\"I think I have everything I need to do the statistical analysis,\n",
    "and I'll get back to you soon with the results.\"\n",
    "\n",
    "<!-- \n",
    "\n",
    "\"Cool!\n",
    "Thanks for agreeing to provide 'stats support' on this.\n",
    "I'm looking forward to seeing the results.\"\n",
    "\n",
    "\n",
    "Do you know what type of statistical analysis you'll use for this data set?\"\n",
    "he asks.\n",
    "\n",
    "Bob is asking a really good question.\n",
    "Depending on the data we have,\n",
    "there are several types of statistical analysis recipes we can use.\n",
    "In this case,\n",
    "we're trying to compare the means of two groups of numerical variables.\n",
    "In order to describe the variability in the data,\n",
    "we'll also measure the standard deviation for the two groups.\n",
    "Based on these statistics computed from the observed data,\n",
    "we'll be able to make conclusions about the general population (all electricity prices).\n",
    "Our final goal is to tell Bob conclusively if there is a difference between East and West prices,\n",
    "and if there is a difference which side of his city has the cheaper prices.\n",
    "\n",
    "You recently did an analysis of a similar dataset\n",
    "where you compared the means of two groups,\n",
    "so you have a clear plan for what you're going to do.\n",
    "\n",
    "\"My plan is to compute the mean and the standard deviation for the East and West prices,\n",
    "then compare the means to see if there is a difference.\n",
    "If there is a difference between the means,\n",
    "I'll run a statistical test to see if the observed difference is statistically significant,\"\n",
    "you explain.\n",
    "\n",
    "\"Wow, sounds complicated!\" exclaims Bob,\n",
    "mystified by the technical jargon.\n",
    "\n",
    "You reassure him there is nothing too complicated and statistical testing is just a fancy way\n",
    "to compare means obtained from two groups\n",
    "and determine if the observed difference in the means could have occurred by chance.\n",
    "You clearly see he's interested to learn more about how statistical tests work,\n",
    "but you know this is not the moment to explain everything.\n",
    "There is a whole book ahead of us for this.\n",
    "\n",
    "-->\n",
    "\n",
    "\n",
    "<!-- \n",
    "In Chapter 2 we'll learn to use probability theory to model data distributions,\n",
    "then in Chapter 3 develop tools for estimating parameters from data samples\n",
    "and using statistical hypothesis testing procedures.\n",
    "Let's not rush into things.\n",
    "Easy does it. -->\n",
    "\n",
    "<!-- TODO: future conversational --- Bob asks why we used the normality assumption, response \\\"funny you asked this, I also ran the nonparametric Signed Rank test\\...\\\" -->\n"
   ]
  },
  {
   "cell_type": "markdown",
   "id": "6c3a805e-3cbc-43c0-a42c-0d4a065e03e8",
   "metadata": {},
   "source": [
    "### Collecting the students dataset\n",
    "\n",
    "Charlotte is a bit of a techie,\n",
    "so she set up a learning management system (LMS) server for the students in her class.\n",
    "Charlotte learned how to do this (run web applications on her own server) after suffering months of difficulties\n",
    "of trying to upload her teaching materials to the platform provided by her school.\n",
    "She reasoned that it can't be this hard to run her own server:\n",
    "it's just documents, video lectures, and exercises,\n",
    "and there is plenty of software that can do this.\n",
    "\n",
    "Charlotte's main reason for running her own server is because\n",
    "she didn't feel comfortable with the idea of her students' learning process being monitored by a proprietary learning platform.\n",
    "You're excited to talk to her,\n",
    "because it's nice to meet a teacher who cares deeply about student data privacy.\n",
    "\n",
    "The LMS Charlotte used for this class stores student records in a database.\n",
    "She made some Structured Query Language (SQL) queries using the function `pd.read_sql_query()`\n",
    "to obtain detailed logs of each students' actions on the platform.\n",
    "She then aggregated the total `effort` (total time spend on the platform)\n",
    "and the combined `score` for each student.\n",
    "She transported the data as a CSV to her laptop,\n",
    "then send it to you.\n",
    "\n",
    "Using the function `pd.read_csv`,\n",
    "you can load the `students.csv` dataset and print the first few rows."
   ]
  },
  {
   "cell_type": "code",
   "execution_count": 126,
   "id": "07d6cf3f-f0a4-4976-9e20-2247ee1057d6",
   "metadata": {},
   "outputs": [
    {
     "data": {
      "text/html": [
       "<div>\n",
       "<style scoped>\n",
       "    .dataframe tbody tr th:only-of-type {\n",
       "        vertical-align: middle;\n",
       "    }\n",
       "\n",
       "    .dataframe tbody tr th {\n",
       "        vertical-align: top;\n",
       "    }\n",
       "\n",
       "    .dataframe thead th {\n",
       "        text-align: right;\n",
       "    }\n",
       "</style>\n",
       "<table border=\"1\" class=\"dataframe\">\n",
       "  <thead>\n",
       "    <tr style=\"text-align: right;\">\n",
       "      <th></th>\n",
       "      <th>background</th>\n",
       "      <th>curriculum</th>\n",
       "      <th>effort</th>\n",
       "      <th>score</th>\n",
       "    </tr>\n",
       "    <tr>\n",
       "      <th>student_ID</th>\n",
       "      <th></th>\n",
       "      <th></th>\n",
       "      <th></th>\n",
       "      <th></th>\n",
       "    </tr>\n",
       "  </thead>\n",
       "  <tbody>\n",
       "    <tr>\n",
       "      <th>1</th>\n",
       "      <td>arts</td>\n",
       "      <td>debate</td>\n",
       "      <td>10.96</td>\n",
       "      <td>75.0</td>\n",
       "    </tr>\n",
       "    <tr>\n",
       "      <th>2</th>\n",
       "      <td>science</td>\n",
       "      <td>lecture</td>\n",
       "      <td>8.69</td>\n",
       "      <td>75.0</td>\n",
       "    </tr>\n",
       "    <tr>\n",
       "      <th>3</th>\n",
       "      <td>arts</td>\n",
       "      <td>debate</td>\n",
       "      <td>8.60</td>\n",
       "      <td>67.0</td>\n",
       "    </tr>\n",
       "    <tr>\n",
       "      <th>4</th>\n",
       "      <td>arts</td>\n",
       "      <td>lecture</td>\n",
       "      <td>7.92</td>\n",
       "      <td>70.3</td>\n",
       "    </tr>\n",
       "    <tr>\n",
       "      <th>5</th>\n",
       "      <td>science</td>\n",
       "      <td>debate</td>\n",
       "      <td>9.90</td>\n",
       "      <td>76.1</td>\n",
       "    </tr>\n",
       "  </tbody>\n",
       "</table>\n",
       "</div>"
      ],
      "text/plain": [
       "           background curriculum  effort  score\n",
       "student_ID                                     \n",
       "1                arts     debate   10.96   75.0\n",
       "2             science    lecture    8.69   75.0\n",
       "3                arts     debate    8.60   67.0\n",
       "4                arts    lecture    7.92   70.3\n",
       "5             science     debate    9.90   76.1"
      ]
     },
     "execution_count": 126,
     "metadata": {},
     "output_type": "execute_result"
    }
   ],
   "source": [
    "students = pd.read_csv(\"datasets/students.csv\", index_col=\"student_ID\")\n",
    "students.head()"
   ]
  },
  {
   "cell_type": "markdown",
   "id": "48d1ffa5-f76d-4841-a672-ec3b45feac37",
   "metadata": {},
   "source": [
    "```\n",
    "SELECT <which variables> FROM <which table>;\n",
    "SELECT <which variables> FROM <which table> WHERE <conditions>;\n",
    "\n",
    "e.g. \n",
    "SELECT student_id, time_on_task FROM learner_analytics;\n",
    "SELECT student_id, scrore FROM student_final_grades;\n",
    "\n",
    "AGGREGATE total effort\n",
    "JOIN effort and score tables\n",
    "```"
   ]
  },
  {
   "cell_type": "markdown",
   "id": "7b82f911-8df0-450f-b728-d46eda0f2ffb",
   "metadata": {},
   "source": [
    "You go through the column names to confirm that you understand the meaning of the categorical variables\n",
    "(see page )\n",
    "and you know how all the numerical variables were calculated.\n",
    "\n",
    "You wonder how she calculated the `effort` and `score` variables.\n",
    "She explains she computed the `effort` variable from the total time spent learning,\n",
    "which includes watching videos and doing exercises.\n",
    "She computed the `score` variable as the average success rate on all exercises that the student completed.\n",
    "\n",
    "\"Okay, thanks Charlotte,\" you say, \"the dataset looks great!\"\n",
    "\n",
    "\n",
    "<!-- \n",
    "Let me just confirm the two questions you're interested in.\"\n",
    "\n",
    "\"Right. So the first question is whether the curriculum choice (`lecture` vs.`debate`) makes a difference in students `score`s.\n",
    "And the second question is if students who made more effort in the course got a higher score.\"\n",
    "\n",
    "The first question is similar to the electricity prices comparison (comparison between the means in two groups),\n",
    "so you know exactly how to proceed for this one.\n",
    "The second question is about a relation between two numerical variables,\n",
    "which you can study by using linear regression to model how `score` variable increases (or decreases)\n",
    "for different values of the `effort` variable.\n",
    "\n",
    "\"Thanks for going over all this with me,\" you say.\n",
    "\"I know exactly how to proceed from here.\"\n",
    "\n",
    "\"You're welcome, and looking forward to discussing the results with you when they are ready,\"\n",
    "says Charlotte as you say goodbye.\n",
    "\n",
    "-->\n",
    "\n",
    "<!-- Charlotte obtained the educational.csv data directly from her school's learning management system (LMS) database (DB). Each student has associated activity logs (time spent learning and solving problems) and a score (final grade) for each course they are enrolled in. Charlotte used WHERE clauses in a structured query language (SQL) query to obtain only the data for the activity logs and final-grade data for the students in her class. -->\n"
   ]
  },
  {
   "cell_type": "markdown",
   "id": "46ca5cf7-6733-4507-933c-52df0ab57fd7",
   "metadata": {},
   "source": [
    "### Collecting the kombucha dataset\n",
    "\n",
    "Khalid measures random samples from different batches ..."
   ]
  },
  {
   "cell_type": "markdown",
   "id": "5b02962e-8478-48b6-8e64-b3bc8849a10c",
   "metadata": {},
   "source": [
    "### Collecting the doctors dataset\n",
    "\n",
    "Dan's survey of doctors lifestyle choices ...\n"
   ]
  },
  {
   "cell_type": "markdown",
   "id": "962742af-6952-494f-a57d-3a05a8f7b724",
   "metadata": {
    "tags": []
   },
   "source": [
    "### Collecting the website visitors dataset\n",
    "\n",
    "Recall the website visitors dataset.\n",
    "You can see the first few rows of the dataset by loading the CSV file `datasets/visitors.csv`."
   ]
  },
  {
   "cell_type": "code",
   "execution_count": 127,
   "id": "51a7b6c2-857a-4d10-be5d-67754bd3e7ce",
   "metadata": {},
   "outputs": [
    {
     "data": {
      "text/html": [
       "<div>\n",
       "<style scoped>\n",
       "    .dataframe tbody tr th:only-of-type {\n",
       "        vertical-align: middle;\n",
       "    }\n",
       "\n",
       "    .dataframe tbody tr th {\n",
       "        vertical-align: top;\n",
       "    }\n",
       "\n",
       "    .dataframe thead th {\n",
       "        text-align: right;\n",
       "    }\n",
       "</style>\n",
       "<table border=\"1\" class=\"dataframe\">\n",
       "  <thead>\n",
       "    <tr style=\"text-align: right;\">\n",
       "      <th></th>\n",
       "      <th>IP address</th>\n",
       "      <th>version</th>\n",
       "      <th>bought</th>\n",
       "    </tr>\n",
       "  </thead>\n",
       "  <tbody>\n",
       "    <tr>\n",
       "      <th>0</th>\n",
       "      <td>135.185.92.4</td>\n",
       "      <td>A</td>\n",
       "      <td>0</td>\n",
       "    </tr>\n",
       "    <tr>\n",
       "      <th>1</th>\n",
       "      <td>14.75.235.1</td>\n",
       "      <td>A</td>\n",
       "      <td>1</td>\n",
       "    </tr>\n",
       "    <tr>\n",
       "      <th>2</th>\n",
       "      <td>50.132.244.139</td>\n",
       "      <td>B</td>\n",
       "      <td>0</td>\n",
       "    </tr>\n",
       "    <tr>\n",
       "      <th>3</th>\n",
       "      <td>144.181.130.234</td>\n",
       "      <td>A</td>\n",
       "      <td>0</td>\n",
       "    </tr>\n",
       "    <tr>\n",
       "      <th>4</th>\n",
       "      <td>90.92.5.100</td>\n",
       "      <td>B</td>\n",
       "      <td>0</td>\n",
       "    </tr>\n",
       "  </tbody>\n",
       "</table>\n",
       "</div>"
      ],
      "text/plain": [
       "        IP address version  bought\n",
       "0     135.185.92.4       A       0\n",
       "1      14.75.235.1       A       1\n",
       "2   50.132.244.139       B       0\n",
       "3  144.181.130.234       A       0\n",
       "4      90.92.5.100       B       0"
      ]
     },
     "execution_count": 127,
     "metadata": {},
     "output_type": "execute_result"
    }
   ],
   "source": [
    "visitors = pd.read_csv(\"datasets/visitors.csv\")\n",
    "visitors.head()"
   ]
  },
  {
   "cell_type": "markdown",
   "id": "58d78a53-6936-4c46-b023-8dd37165a6ec",
   "metadata": {},
   "source": [
    "Looking at the dataset helps you understand the general structure,\n",
    "but you have some questions about how the data was collected,\n",
    "so you decide to call Vanessa and ask her.\n",
    "\n",
    "\"Hi Vanessa. I'm looking at the data you sent me and I had some questions,\" you start.\n",
    "\n",
    "\"Yes, ask away,\" she responds.\n",
    "\n",
    "\"How did you assign the visitors to version A or B of the website?\" you ask.\n",
    "\n",
    "\"Every time the website received a new visitor (new IP address),\n",
    "it randomly sent them to either version A or version B,\" she says.\n",
    "\"It's basically equivalent to flipping a coin.\"\n",
    "She goes on to explain that the two versions of the website can be identified from the server logs,\n",
    "since the two designs use different background images.\n",
    "A visitor who sees version A of the website will load the background image `images/bgA.jpg`,\n",
    "while visitors who see version B will load the image `images/bgB.jpg`.\n",
    "\n",
    "\"And how did you calculate the `bought` column?\" you ask.\n",
    "\n",
    "\"When a visitor completes the purchase steps,\n",
    "they are sent to a special `/thankyou` page,\n",
    "so I used that to identify visitors who bought something.\"\n",
    "\n",
    "\"Can you tell me more about the steps you took to extract the data from the server logs?\"\n",
    "\n",
    "\"Sure,\" replies Vanessa and starts on a long explanation, which is summarized below.\n",
    "\n",
    "Vanessa started by extracting the web server access logs for the date range when the experiment was running.\n",
    "She then loaded the log files into Pandas data frames and concatenated the data from the different days.\n",
    "<!-- TODO: mention pd commands used for merge -->\n",
    "She then did some data cleaning by excluding rows generated from bots based on the user agent value.\n",
    "\n",
    "She then applied the main logic for determining the `bought` variable\n",
    "by collecting all the log entries for individual IP addresses.\n",
    "For each visitor (unique IP address) she looked for a request to `images/bgA.jpg`\n",
    "or `images/bgB.jpg` followed by the request to the `/thankyou` page,\n",
    "which indicates they bought something (`bought=1`).\n",
    "If the visitor never reached the `/thankyou` page,\n",
    "then we know they didn't make a purchase,\n",
    "so she recorded `bought=0` for them.\n",
    "\n",
    "Finally she stored the data as `visitors.csv` and sent it to you."
   ]
  },
  {
   "cell_type": "markdown",
   "id": "cbc8f9a5-38da-4ab1-859d-91be2701697c",
   "metadata": {
    "tags": []
   },
   "source": [
    "Remore shell  \n",
    "`zcat /var/log/nginx/access.log.*.gz > /tmp/access_logs.txt`\n",
    "\n",
    "\n",
    "Local shell  \n",
    "`scp minireference.com:/tmp/access_logs.txt data/access_logs.txt`\n",
    "\n",
    "Links\n",
    "\n",
    "- https://riptutorial.com/pandas/example/15180/read-nginx-access-log--multiple-quotechars-\n",
    "- [ParseNginxAccessLogs.ipynb](./explorations/ParseNginxAccessLogs.ipynb)"
   ]
  },
  {
   "cell_type": "code",
   "execution_count": 128,
   "id": "9451f9e5-3f54-4003-9e75-d9ef0e840e7a",
   "metadata": {},
   "outputs": [],
   "source": [
    "# access_logs = open(\"data/access_logs.txt\")\n",
    "# df = pd.read_csv(\n",
    "#     access_logs,\n",
    "#     sep=r'\\s(?=(?:[^\"]*\"[^\"]*\")*[^\"]*$)(?![^\\[]*\\])',\n",
    "#     engine='python',\n",
    "#     usecols=[0, 3, 4, 5, 6, 7, 8],\n",
    "#     names=['ip', 'time', 'request', 'status', 'size', 'referer', 'user_agent'],\n",
    "#     na_values='-',\n",
    "#     header=None\n",
    "# )"
   ]
  },
  {
   "cell_type": "markdown",
   "id": "4c83791b-434d-4eb0-9b77-f2e1864b904b",
   "metadata": {},
   "source": [
    "- A VIEWS = CONTAINS /static/images/homepage/bgA.jpg\n",
    "- B VIEWS = CONTAINS /static/images/homepage/bgB.jpg\n",
    "- A CONVERSIONS = CONTAINS /static/images/homepage/bgA.jpg and /thankyou\n",
    "- B CONVERSIONS = CONTAINS /static/images/homepage/bgB.jpg and /thankyou\n",
    "- p_A = A CONVERSIONS / A VIEWS\n",
    "- p_B = B CONVERSIONS / B VIEWS\n"
   ]
  },
  {
   "cell_type": "markdown",
   "id": "003f9720-1809-4bb1-8c55-3b346e95123f",
   "metadata": {},
   "source": [
    "We can compute the conversion rate for each version of the website\n",
    "using the `.groupby()` method."
   ]
  },
  {
   "cell_type": "code",
   "execution_count": 129,
   "id": "ad6e7f3a-1c55-4f46-9eb8-d7bdad98fe94",
   "metadata": {},
   "outputs": [
    {
     "data": {
      "text/plain": [
       "version  bought\n",
       "A        0         0.935175\n",
       "         1         0.064825\n",
       "B        0         0.962229\n",
       "         1         0.037771\n",
       "Name: proportion, dtype: float64"
      ]
     },
     "execution_count": 129,
     "metadata": {},
     "output_type": "execute_result"
    }
   ],
   "source": [
    "visitors.groupby(\"version\") \\\n",
    "         [\"bought\"].value_counts(normalize=True)"
   ]
  },
  {
   "cell_type": "code",
   "execution_count": 130,
   "id": "c6c49b35-581c-48bb-9098-f57f63fde678",
   "metadata": {},
   "outputs": [
    {
     "data": {
      "text/plain": [
       "version\n",
       "A    0.064825\n",
       "B    0.037771\n",
       "dtype: float64"
      ]
     },
     "execution_count": 130,
     "metadata": {},
     "output_type": "execute_result"
    }
   ],
   "source": [
    "visitors.groupby(\"version\") \\\n",
    "         [\"bought\"].agg([\"sum\", \"count\"]) \\\n",
    "         .eval(\"sum/count\")"
   ]
  },
  {
   "cell_type": "markdown",
   "id": "ba6c463a-17f7-432f-888c-cb12976e8a68",
   "metadata": {},
   "source": [
    "For version A (the new design), the conversion rate is $p_{\\!A} = 0.0648$.\n",
    "For version B (the old design), the conversion rate is $p_{B} = 0.0377$.\n",
    "\n",
    "<!-- TODO: add conclusion + take home message -->\n",
    "<!-- TODO: add conversational Vanessa interested in stats --- explain this is an instance of compare two proportions analysis recipe -->\n"
   ]
  },
  {
   "cell_type": "markdown",
   "id": "1881f475-4de5-4e1c-8150-49c0996240d0",
   "metadata": {},
   "source": [
    "###  Collecting the players dataset\n",
    "\n",
    "TODO"
   ]
  },
  {
   "cell_type": "markdown",
   "id": "893db04f-5727-450c-86f1-e8daa6394427",
   "metadata": {},
   "source": [
    "## Bonus topics"
   ]
  },
  {
   "cell_type": "markdown",
   "id": "3656adcc-2b10-454f-b360-7f740c47925d",
   "metadata": {},
   "source": [
    "### Index and sorting\n",
    "\n",
    "index operations (set, change, reset, etc.)\n",
    "`sort`, `sort_values`, `sort_index`, and using `rank()` method\n"
   ]
  },
  {
   "cell_type": "markdown",
   "id": "a56f9495-b001-487f-a58e-3409a862827a",
   "metadata": {},
   "source": [
    "### Pandas plot methods\n",
    "\n",
    "Use the `.plot()` method to obtain basic plots,\n",
    "see Appendix E for Seaborn tutorial for more advanced plots (specific for statistics).\n"
   ]
  },
  {
   "cell_type": "markdown",
   "id": "23620dbf-bfff-4c5b-8f0b-26eaa1d53328",
   "metadata": {},
   "source": [
    "### NumPy arrays\n",
    "\n",
    "Under the hood, Pandas `Series` and `DataFrame` objects are based on efficient numerical NumPy arrays.\n",
    "You generally won't need to interact with NumPy commands when working in Pandas,\n",
    "but sometimes it can be useful to know the NumPy syntax to perform certain data selection tasks.\n",
    "\n",
    "Let's look at some simple examples\n",
    "of the data `[1,3,5,7]` stored as a NumPy array."
   ]
  },
  {
   "cell_type": "code",
   "execution_count": 131,
   "id": "91f67ba2-0282-4285-b716-6277a01bfa83",
   "metadata": {},
   "outputs": [
    {
     "data": {
      "text/plain": [
       "array([1, 3, 5, 7])"
      ]
     },
     "execution_count": 131,
     "metadata": {},
     "output_type": "execute_result"
    }
   ],
   "source": [
    "import numpy as np\n",
    "values = np.array([1, 3, 5, 7])\n",
    "values"
   ]
  },
  {
   "cell_type": "code",
   "execution_count": 132,
   "id": "2862ae23-0925-4ec8-947d-149182f175bd",
   "metadata": {},
   "outputs": [
    {
     "data": {
      "text/plain": [
       "array([-1,  1,  3,  5])"
      ]
     },
     "execution_count": 132,
     "metadata": {},
     "output_type": "execute_result"
    }
   ],
   "source": [
    "values - 2"
   ]
  },
  {
   "cell_type": "code",
   "execution_count": 133,
   "id": "a8d8003f-d1e4-4cf2-834b-41d8a2858efb",
   "metadata": {},
   "outputs": [
    {
     "data": {
      "text/plain": [
       "array([   2.71828183,   20.08553692,  148.4131591 , 1096.63315843])"
      ]
     },
     "execution_count": 133,
     "metadata": {},
     "output_type": "execute_result"
    }
   ],
   "source": [
    "np.exp(values)"
   ]
  },
  {
   "cell_type": "markdown",
   "id": "4d1e4056-c9ec-4b1c-b063-c957d1687737",
   "metadata": {},
   "source": [
    "### Selecting a subset of the values\n",
    "\n",
    "Selection of subsets is similar to what we do in Pandas:\n",
    "we use a mask to select the desired values."
   ]
  },
  {
   "cell_type": "code",
   "execution_count": 134,
   "id": "618b65da-0c5e-4d7d-8a93-1d9ef61a5cfd",
   "metadata": {},
   "outputs": [
    {
     "data": {
      "text/plain": [
       "array([ True,  True, False, False])"
      ]
     },
     "execution_count": 134,
     "metadata": {},
     "output_type": "execute_result"
    }
   ],
   "source": [
    "values < 4  # selection mask"
   ]
  },
  {
   "cell_type": "code",
   "execution_count": 135,
   "id": "841b17b0-67d9-4523-b43c-c3504a2a59a5",
   "metadata": {},
   "outputs": [
    {
     "data": {
      "text/plain": [
       "array([1, 3])"
      ]
     },
     "execution_count": 135,
     "metadata": {},
     "output_type": "execute_result"
    }
   ],
   "source": [
    "values[values < 4]"
   ]
  },
  {
   "cell_type": "markdown",
   "id": "7b4723b9-a75e-4c01-9321-1e3471e702e8",
   "metadata": {},
   "source": [
    "#### Create a list of evenly spaced numbers\n",
    "\n",
    "We'll use this often when plotting functions."
   ]
  },
  {
   "cell_type": "code",
   "execution_count": 136,
   "id": "dcdf0d19-2964-4639-a613-03e830236105",
   "metadata": {},
   "outputs": [
    {
     "data": {
      "text/plain": [
       "array([0.        , 0.05263158, 0.10526316, 0.15789474, 0.21052632,\n",
       "       0.26315789, 0.31578947, 0.36842105, 0.42105263, 0.47368421,\n",
       "       0.52631579, 0.57894737, 0.63157895, 0.68421053, 0.73684211,\n",
       "       0.78947368, 0.84210526, 0.89473684, 0.94736842, 1.        ])"
      ]
     },
     "execution_count": 136,
     "metadata": {},
     "output_type": "execute_result"
    }
   ],
   "source": [
    "np.linspace(0, 1, 20)"
   ]
  },
  {
   "cell_type": "markdown",
   "id": "f497684d-5662-4f8a-9624-a015d72e7918",
   "metadata": {},
   "source": [
    "## Conclusion\n",
    "\n",
    "The Stack Overflow discussion forums are a good place to ask questions\n",
    "once you learn the jargon terms for data transformations (`.melt()`, `.groupby()`, `.agg()`, etc.).\n",
    "\n",
    "<!-- TODO: better conclusion -->"
   ]
  },
  {
   "cell_type": "markdown",
   "id": "2de2556c-f189-413b-b40f-4a720da0a8da",
   "metadata": {},
   "source": [
    "## Exercises\n",
    "\n",
    "- Data transformations: `melt`, `dropna`, filter by value, etc.\n",
    "\n",
    "- Rename categorical values to normalize them. `OH` (Ohio), `WA` (Washington), etc.\n",
    "\n",
    "- Use `groupby` to compute the average $y$-position for the players in the two teams.  \n",
    "  \n",
    "- `str` methods: split City, ST -- into city and state (or Last Name, First name into separate names)\n",
    "\n",
    "- Filter out outliers using pre-specified cutoff (Q3 + 1.5IQR) but don't tell how limits were computed (FWD refs to Descr. Stats and Z-score).\n"
   ]
  },
  {
   "cell_type": "markdown",
   "id": "53f62c2c-94bd-40b0-b0b2-ee44b2843241",
   "metadata": {},
   "source": [
    "## Links\n",
    "\n",
    "I've collected the best learning resources for Pandas for you.\n",
    "\n",
    "\n",
    "### Music videos\n",
    "\n",
    "- https://www.youtube.com/watch?v=4NJlUribp3c\n",
    "\n",
    "\n",
    "\n",
    "### General concepts\n",
    "\n",
    "- https://en.wikipedia.org/wiki/Data_wrangling\n",
    "\n",
    "- https://en.wikipedia.org/wiki/Data_preparation\n",
    "\n",
    "\n",
    "\n",
    "\n",
    "### Cheatsheets\n",
    "\n",
    "- https://homepage.univie.ac.at/michael.blaschek/media/Cheatsheet_pandas.pdf\n",
    "\n",
    "- Data Wrangling with pandas Cheat Sheet\n",
    "  https://pandas.pydata.org/Pandas_Cheat_Sheet.pdf\n",
    "  \n",
    "- Pandas Basics from the Python For Data Science Cheat Sheet collection   \n",
    "  https://datacamp-community-prod.s3.amazonaws.com/dbed353d-2757-4617-8206-8767ab379ab3  \n",
    "  see also https://www.datacamp.com/blog/pandas-cheat-sheet-for-data-science-in-python\n",
    "\n",
    "- The `pandas` DataFrame Object  \n",
    "  https://www.webpages.uidaho.edu/~stevel/cheatsheets/Pandas%20DataFrame%20Notes_12pages.pdf\n",
    "\n",
    "\n",
    "\n",
    "\n",
    "\n",
    "### Tutorials\n",
    "\n",
    "- Getting started with pandas tutorial  \n",
    "  https://www.efavdb.com/pandas-tips-and-tricks\n",
    "\n",
    "- Making head and tails of Pandas  \n",
    "  https://www.youtube.com/watch?v=otCriSKVV_8\n",
    "  https://github.com/tomaugspurger/pydataseattle\n",
    "\n",
    "- Essential basic functionality (very good)  \n",
    "  https://pandas.pydata.org/docs/user_guide/basics.html\n",
    "\n",
    "- The 10 minutes to Pandas tutorial  \n",
    "  https://pandas.pydata.org/pandas-docs/stable/user_guide/10min.html \n",
    "\n",
    "- Effective Pandas tutorial by Matt Harrison\n",
    "  (Use appropriate data types to save memory. Lots of examples of method chaining.)  \n",
    "  https://www.youtube.com/watch?v=zgbUk90aQ6A&t=526s\n",
    "\n",
    "\n",
    "- https://devopedia.org/pandas-dataframe-operations\n",
    "\n",
    "- Nice examople dataframe with variety of data types + compact reference of all operations  \n",
    "  https://dataframes.juliadata.org/stable/man/comparisons/#Comparison-with-the-Python-package-pandas  \n",
    "  see also https://github.com/bkamins/Julia-DataFrames-Tutorial/\n",
    "\n",
    "- Pandas: Python Data Analysis Library  \n",
    "  https://johnfoster.pge.utexas.edu/numerical-methods-book/ScientificPython_Pandas.html  \n",
    "  See also [notebook](https://github.com/johnfoster-pge-utexas/numerical-methods-book/blob/master/content/ScientificPython_Pandas.ipynb)\n",
    "  and [src](https://github.com/johnfoster-pge-utexas/numerical-methods-book/tree/master/content).\n",
    "\n",
    "- Pandas sections from *Python Data Science Handbook*\n",
    "  https://www.one-tab.com/page/OaSZriUtRg6wb7mppbamag  \n",
    "  via https://jakevdp.github.io/PythonDataScienceHandbook/\n",
    "\n",
    "- Pandas tutorials -- lots of details  \n",
    "  https://www.one-tab.com/page/Iw-cytCuTe-FiNZ7F1nrww\n",
    "\n",
    "- pandas Foundations notebooks from DataCamp  \n",
    "  https://trenton3983.github.io/files/projects/2019-01-24_pandas_dataframes/2019-01-24_pandas_dataframes.html  \n",
    "  https://trenton3983.github.io/files/projects/2019-02-04_manipulating_dataframes_with_pandas/2019-02-04_manipulating_dataframes_with_pandas.html\n",
    "\n",
    "- Lots of simple tasks\n",
    "  https://nbviewer.org/github/justmarkham/pandas-videos/blob/master/pandas.ipynb\n",
    "\n",
    "\n",
    "\n",
    "\n",
    "\n",
    "### Data cleaning\n",
    "\n",
    "- Tidying Data tutorial by Daniel Chen (Lots of examples of melt operations on real-world datasets)  \n",
    "  https://www.youtube.com/watch?v=iYie42M1ZyU\n",
    "  https://github.com/chendaniely/pydatadc_2018-tidy/blob/master/notebooks/tidy.ipynb\n",
    "\n",
    "- Data Cleaning lab from Applied & Computational Mathematics Emphasis (ACME) course  \n",
    "  https://acme.byu.edu/0000017c-ccff-da17-a5fd-cdff03570000/acmefiles-09-datacleaning-2021-pdf  \n",
    "  See more [materials here](https://acme.byu.edu/2021-2022-materials).\n",
    "\n",
    "- https://github.com/hxchua/datadoubleconfirm/blob/master/EuroPython/DataCleaning.ipynb\n",
    "\n",
    "- Nice visualizations for Pandas operations (click on examples)\n",
    "  https://pandastutor.com/vis.html\n",
    "\n",
    "- A talk on data cleaning principles by Karl Broman\n",
    "  https://www.youtube.com/watch?v=7Ma8WIDinDc  \n",
    "  slides https://kbroman.org/Talk_DataCleaning/data_cleaning.pdf\n",
    "\n",
    "- https://datascienceinpractice.github.io/tutorials/06-DataWrangling.html\n",
    "\n",
    "- https://datascienceinpractice.github.io/tutorials/07-DataCleaning.html\n",
    "\n",
    "- https://www.mariakhalusova.com/posts/2019-01-31-cleaning-data-with-pandas/\n",
    "\n",
    "\n",
    "<!--\n",
    "COMMAND LINE CLEANUP\n",
    "http://mchap.io/using-foia-data-and-unix-to-halve-major-source-of-parking-tickets.html\n",
    "via https://news.ycombinator.com/item?id=17754105\n",
    "-->\n",
    "\n",
    "\n",
    "\n",
    "\n",
    "### Articles\n",
    "\n",
    "- *pandas: a Foundational Python Library for Data Analysis and Statistics* by Wes McKinney  \n",
    "  https://www.dlr.de/sc/Portaldata/15/Resources/dokumente/pyhpc2011/submissions/pyhpc2011_submission_9.pdf\n",
    "\n",
    "- More Pandas articles and links  \n",
    "  https://www.one-tab.com/page/-EZFbibXRq2xZRYM9iUVDg\n",
    "\n",
    "- Good tips about `loc` vs. `[]`  \n",
    "  https://stackoverflow.com/a/48411543/127114\n",
    "\n",
    "- Devoperia articles on Pandas:  \n",
    "  [data frame operations](https://devopedia.org/pandas-dataframe-operations)  \n",
    "  [data structures](https://devopedia.org/pandas-data-structures)  \n",
    "  [data preparation](https://devopedia.org/data-preparation)\n",
    "\n",
    "\n",
    "\n",
    "\n",
    "\n",
    "### Books\n",
    "\n",
    "- https://store.metasnake.com/effective-pandas-book\n",
    "\n",
    "\n",
    "\n",
    "\n",
    "\n",
    "\n",
    "\n",
    "<!--\n",
    "\n",
    "TODO import links from gdoc\n",
    "\n",
    "### R learning resources\n",
    "\n",
    "- https://www.one-tab.com/page/4P1d6YLhQKm1FthXB4qRzg\n",
    "- https://remkoduursma.github.io/learningguidetor/dataskills1.html\n",
    "- https://remkoduursma.github.io/learningguidetor/dataskills2.html\t\t\n",
    "\n",
    "#### Tidy data in R\n",
    "- https://cran.r-project.org/web/packages/tidyr/vignettes/tidy-data.html\n",
    "- https://datasciencebook.ca/wrangling.html\n",
    "- https://moderndive.com/3-wrangling.html \n",
    "- https://github.com/jennybc/lotr-tidy/\n",
    "\n",
    "\n",
    "-->\n",
    "\n",
    "\n"
   ]
  }
 ],
 "metadata": {
  "kernelspec": {
   "display_name": "Python 3 (ipykernel)",
   "language": "python",
   "name": "python3"
  },
  "language_info": {
   "codemirror_mode": {
    "name": "ipython",
    "version": 3
   },
   "file_extension": ".py",
   "mimetype": "text/x-python",
   "name": "python",
   "nbconvert_exporter": "python",
   "pygments_lexer": "ipython3",
   "version": "3.12.4"
  }
 },
 "nbformat": 4,
 "nbformat_minor": 5
}
