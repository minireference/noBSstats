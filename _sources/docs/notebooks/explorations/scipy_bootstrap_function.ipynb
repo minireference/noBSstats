{
 "cells": [
  {
   "cell_type": "markdown",
   "id": "65e930cd-5f57-4a80-903e-7afaec01fa5a",
   "metadata": {},
   "source": [
    "# New bootstrap in SciPy stats module\n",
    "\n",
    "See https://github.com/scipy/scipy/pull/13371\n"
   ]
  },
  {
   "cell_type": "code",
   "execution_count": 3,
   "id": "3edf3374-6667-468d-8a08-1ccda1f02a39",
   "metadata": {},
   "outputs": [],
   "source": [
    "import numpy as np\n",
    "from scipy.stats import norm, bootstrap"
   ]
  },
  {
   "cell_type": "markdown",
   "id": "2140e332-82d3-405b-bdeb-444e6886e509",
   "metadata": {},
   "source": [
    "## Part 1: using vectorized code"
   ]
  },
  {
   "cell_type": "code",
   "execution_count": 5,
   "id": "c6a551b8-3c04-4e42-a219-745ae9173bc8",
   "metadata": {},
   "outputs": [
    {
     "name": "stdout",
     "output_type": "stream",
     "text": [
      "ConfidenceInterval(low=-0.3625395759148521, high=0.060649487174101846)\n"
     ]
    }
   ],
   "source": [
    "np.random.seed(1)\n",
    "\n",
    "n1 = 100  # size of sample 1\n",
    "n2 = 120  # size of sample 2\n",
    "n_resamples = 1000  # number of bootstrap resamples used to form each CI\n",
    "confidence_level = 0.9\n",
    "\n",
    "# The statistic we're interested in is the difference in means\n",
    "def my_stat(data1, data2, axis=-1):\n",
    "    mean1 = np.mean(data1, axis=axis)\n",
    "    mean2 = np.mean(data2, axis=axis)\n",
    "    return mean1 - mean2\n",
    "\n",
    "# The true difference in the means is -0.1\n",
    "dist1 = norm(loc=0, scale=1)\n",
    "dist2 = norm(loc=0.1, scale=1)\n",
    "stat_true = dist1.mean() - dist2.mean()\n",
    "\n",
    "data1 = dist1.rvs(size=n1)\n",
    "data2 = dist2.rvs(size=n2)\n",
    "\n",
    "ci = bootstrap((data1, data2),\n",
    "               statistic=my_stat,\n",
    "               confidence_level=confidence_level,\n",
    "               n_resamples=n_resamples,\n",
    "               method='basic',\n",
    "               axis=-1).confidence_interval\n",
    "\n",
    "print(ci)  # (-0.3625395759148521, 0.06064948717410179); contains true value\n"
   ]
  },
  {
   "cell_type": "code",
   "execution_count": null,
   "id": "02d1909e-c4e8-4692-9a59-45bdbfc838bb",
   "metadata": {},
   "outputs": [],
   "source": [
    "# Do the same thing 1000 times. (The code is fully vectorized.)\n",
    "n_replications = 1000\n",
    "data1 = dist1.rvs(size=(n_replications, n1))\n",
    "data2 = dist2.rvs(size=(n_replications, n2))\n",
    "ci = bootstrap((data1, data2),\n",
    "               statistic=my_stat,\n",
    "               confidence_level=confidence_level,\n",
    "               n_resamples=n_resamples,\n",
    "               method='basic',\n",
    "               axis=-1).confidence_interval\n",
    "\n",
    "# ci contains vectors of lower and upper confidence interval bounds\n",
    "ci_contains_true = np.sum((ci[0] < stat_true) & (stat_true < ci[1]))\n",
    "print(f\"The {confidence_level*100}% confidence interval contained the true \"\n",
    "      f\"value of the statistic in {ci_contains_true} out of {n_replications} \"\n",
    "      \"replications.\")"
   ]
  },
  {
   "cell_type": "code",
   "execution_count": null,
   "id": "22e0371f-ece3-493a-a16a-4814852301c6",
   "metadata": {},
   "outputs": [],
   "source": []
  },
  {
   "cell_type": "markdown",
   "id": "6ec2873a-bc86-48a1-95b2-75a2ef96c7a7",
   "metadata": {},
   "source": [
    "## Using un-vectorized function"
   ]
  },
  {
   "cell_type": "code",
   "execution_count": 7,
   "id": "67c5955c-af3f-4dbf-a8d4-ce9d3153fe9d",
   "metadata": {},
   "outputs": [
    {
     "name": "stdout",
     "output_type": "stream",
     "text": [
      "ConfidenceInterval(low=-0.3625395759148521, high=0.060649487174101846)\n"
     ]
    }
   ],
   "source": [
    "np.random.seed(1)\n",
    "\n",
    "n1 = 100  # size of sample 1\n",
    "n2 = 120  # size of sample 2\n",
    "n_resamples = 1000  # number of bootstrap resamples used to form each CI\n",
    "confidence_level = 0.9\n",
    "\n",
    "\n",
    "# The statistic we're interested in is the difference in means\n",
    "def my_stat(data1, data2):\n",
    "    mean1 = np.mean(data1)\n",
    "    mean2 = np.mean(data2)\n",
    "    return mean1 - mean2\n",
    "\n",
    "\n",
    "# The true difference in the means is -0.1\n",
    "dist1 = norm(loc=0, scale=1)\n",
    "dist2 = norm(loc=0.1, scale=1)\n",
    "stat_true = dist1.mean() - dist2.mean()\n",
    "\n",
    "data1 = dist1.rvs(size=n1)\n",
    "data2 = dist2.rvs(size=n2)\n",
    "\n",
    "res = bootstrap((data1, data2),\n",
    "               statistic=my_stat,\n",
    "               confidence_level=confidence_level,\n",
    "               n_resamples=n_resamples,\n",
    "               method='basic',\n",
    "               vectorized=False)\n",
    "CI = res.confidence_interval\n",
    "\n",
    "print(CI)  # (-0.3625395759148521, 0.06064948717410179); contains true value\n"
   ]
  },
  {
   "cell_type": "code",
   "execution_count": null,
   "id": "8e7b1b86-8126-4570-8de5-022942738585",
   "metadata": {},
   "outputs": [],
   "source": []
  }
 ],
 "metadata": {
  "kernelspec": {
   "display_name": "Python 3 (ipykernel)",
   "language": "python",
   "name": "python3"
  },
  "language_info": {
   "codemirror_mode": {
    "name": "ipython",
    "version": 3
   },
   "file_extension": ".py",
   "mimetype": "text/x-python",
   "name": "python",
   "nbconvert_exporter": "python",
   "pygments_lexer": "ipython3",
   "version": "3.9.4"
  }
 },
 "nbformat": 4,
 "nbformat_minor": 5
}
