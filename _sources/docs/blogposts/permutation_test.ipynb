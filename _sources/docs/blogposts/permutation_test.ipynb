{
 "cells": [
  {
   "cell_type": "markdown",
   "id": "8efd66a5-d9c0-4873-8542-7b03f66cd158",
   "metadata": {},
   "source": [
    "# Permutation tests for comparing two groups\n",
    "\n",
    "\n",
    "Click [here](https://mybinder.org/v2/gh/minireference/noBSstats/HEAD?urlpath=%2Fdoc%2Ftree%2Fblogposts%2Fpermutation_test.ipynb)\n",
    "to run the notebook interactively,\n",
    "so you can play with the code examples."
   ]
  },
  {
   "cell_type": "markdown",
   "id": "c8caefd0-df8c-4757-be6e-844d6961a84d",
   "metadata": {
    "tags": []
   },
   "source": [
    "### Notebook setup"
   ]
  },
  {
   "cell_type": "code",
   "execution_count": 1,
   "id": "fee7a1de-830b-4e63-8a15-526bd95f30e9",
   "metadata": {},
   "outputs": [
    {
     "name": "stdout",
     "output_type": "stream",
     "text": [
      "\n",
      "\u001b[1m[\u001b[0m\u001b[34;49mnotice\u001b[0m\u001b[1;39;49m]\u001b[0m\u001b[39;49m A new release of pip is available: \u001b[0m\u001b[31;49m25.2\u001b[0m\u001b[39;49m -> \u001b[0m\u001b[32;49m25.3\u001b[0m\n",
      "\u001b[1m[\u001b[0m\u001b[34;49mnotice\u001b[0m\u001b[1;39;49m]\u001b[0m\u001b[39;49m To update, run: \u001b[0m\u001b[32;49mpip install --upgrade pip\u001b[0m\n",
      "Note: you may need to restart the kernel to use updated packages.\n"
     ]
    }
   ],
   "source": [
    "# Install stats library\n",
    "%pip install --quiet ministats "
   ]
  },
  {
   "cell_type": "code",
   "execution_count": 2,
   "id": "ad1db701-1cda-4156-b360-9a5ea8cd389d",
   "metadata": {},
   "outputs": [
    {
     "data": {
      "text/plain": [
       "<Figure size 640x480 with 0 Axes>"
      ]
     },
     "metadata": {},
     "output_type": "display_data"
    }
   ],
   "source": [
    "# Figures setup\n",
    "import matplotlib.pyplot as plt\n",
    "import seaborn as sns\n",
    "\n",
    "plt.clf()  # needed otherwise `sns.set_theme` doesn't work\n",
    "sns.set_theme(\n",
    "    style=\"whitegrid\",\n",
    "    rc={'figure.figsize': (7, 2)},\n",
    ")\n",
    "# High-resolution figures please\n",
    "%config InlineBackend.figure_format = 'retina'\n",
    "\n",
    "import numpy as np\n",
    "np.set_printoptions(legacy='1.25')\n",
    "\n",
    "def savefig(fig, filename):\n",
    "    fig.tight_layout()\n",
    "    fig.savefig(filename, dpi=300, bbox_inches=\"tight\", pad_inches=0)"
   ]
  },
  {
   "cell_type": "markdown",
   "id": "27a16fef-02c1-407c-abd4-bd5da286b9a3",
   "metadata": {},
   "source": [
    "## Introduction\n",
    "\n",
    "The *permutation tests* for comparing two groups is another example of the computational approach to statistics. The permutation test uses a randomization strategy on the data to generate samples from a hypothetical distribution that represents the \"no difference between groups\" scenario. The procedure of generating repeated samples from the \"no difference\" distribution is called a permutation test.\n",
    "\n",
    "The permutation test is an example of the hypothesis testing procedure. Classical statistics approaches the comparison of two groups by relying on pre-packaged procedures like the Welch's two-sample t-test, which makes assumptions that the populations are normally distributed and uses complicated math formulas (analytical approximations). In contrast, the permutation test allows us to compare two groups without making assumptions about the populations' distribution.\n"
   ]
  },
  {
   "cell_type": "markdown",
   "id": "a1d432a3-8f4f-4ae5-9203-c8b7881fd4c7",
   "metadata": {},
   "source": [
    "### Statistical inference\n",
    "\n",
    "TODO: improt short version from [simulation_hypothesis_tests.ipynb](./simulation_hypothesis_tests.ipynb)\n"
   ]
  },
  {
   "cell_type": "markdown",
   "id": "4e9edf12-f2cd-41b8-ba1c-39bf21dc843d",
   "metadata": {},
   "source": [
    "## Permutation test\n",
    "\n",
    "TODO: import from blog post and slides\n",
    "\n",
    "Suppose we have a obtained samples from group of students who took the smart drug `treated`,\n",
    "and a similar group who didn't take the smart drug `controls`."
   ]
  },
  {
   "cell_type": "code",
   "execution_count": 3,
   "id": "9a157e15-7dfc-4d71-9c35-610d620189fa",
   "metadata": {},
   "outputs": [],
   "source": [
    "# data\n",
    "\n",
    "treated = [92.69, 117.15, 124.79, 100.57, 104.27, 121.56, 104.18,\n",
    "           122.43, 98.85, 104.26, 118.56, 138.98, 101.33, 118.57, \n",
    "           123.37, 105.9, 121.75, 123.26, 118.58, 80.03, 121.15, \n",
    "           122.06, 112.31, 108.67, 75.44, 110.27, 115.25, 125.57,\n",
    "           114.57, 98.09, 91.15, 112.52, 100.12, 115.2, 95.32, \n",
    "           121.37, 100.09, 113.8, 101.73, 124.9, 87.83, 106.22, \n",
    "           99.97, 107.51, 83.99, 98.03, 71.91, 109.99, 90.83, 105.48]\n",
    "\n",
    "controls = [85.1, 84.05, 90.43, 115.92, 97.64, 116.41, 68.88, 110.51, \n",
    "            125.12, 94.04, 134.86, 85.0, 91.61, 69.95, 94.51, 81.16, \n",
    "            130.61, 108.93, 123.38, 127.69, 83.36, 76.97, 124.87, 86.36, \n",
    "            105.71, 93.01, 101.58, 93.58, 106.51, 91.67, 112.93, 88.74, \n",
    "            114.05, 80.32, 92.91, 85.34, 104.01, 91.47, 109.2, 104.04, \n",
    "            86.1, 91.52, 98.5, 94.62, 101.27, 107.41, 100.68, 114.94, \n",
    "            88.8, 121.8]\n"
   ]
  },
  {
   "cell_type": "markdown",
   "id": "71f5779e-485d-461b-a3e3-bb78acd8d903",
   "metadata": {},
   "source": [
    "We'll compare the IQ scores in the two groups\n",
    "in terms of the difference between the average scores computed from each group."
   ]
  },
  {
   "cell_type": "code",
   "execution_count": 4,
   "id": "e5a99093-b042-44d0-9e99-5657052316ed",
   "metadata": {},
   "outputs": [],
   "source": [
    "def mean(sample):\n",
    "    return sum(sample) / len(sample)\n",
    "\n",
    "def dmeans(xsample, ysample):\n",
    "    dhat = mean(xsample) - mean(ysample)\n",
    "    return dhat"
   ]
  },
  {
   "cell_type": "code",
   "execution_count": 5,
   "id": "09422e6f-4b18-4c9d-b9b6-749f3fb8bd44",
   "metadata": {},
   "outputs": [
    {
     "data": {
      "text/plain": [
       "7.8870000000000005"
      ]
     },
     "execution_count": 5,
     "metadata": {},
     "output_type": "execute_result"
    }
   ],
   "source": [
    "# Calculate the observed difference between means\n",
    "dscore = dmeans(treated, controls)\n",
    "dscore"
   ]
  },
  {
   "cell_type": "markdown",
   "id": "bddb09fa-fe36-4927-a478-64e634f82513",
   "metadata": {},
   "source": [
    "### Statistical question?\n",
    "\n",
    "Are the two groups the same?\n",
    "This is equivalent to saying the smart drug had no effect."
   ]
  },
  {
   "cell_type": "markdown",
   "id": "d35564e3-1873-42da-935e-350583bbee7c",
   "metadata": {},
   "source": [
    "### Disproving the skeptical colleague"
   ]
  },
  {
   "cell_type": "markdown",
   "id": "0498fecb-412a-4d22-8379-e526681c95ba",
   "metadata": {},
   "source": [
    "We'll now use the `10000` permutations of the original data\n",
    "to obtain sampling distribution of the difference between means under the null hypothesis."
   ]
  },
  {
   "cell_type": "code",
   "execution_count": 6,
   "id": "d795c62d-5188-4169-a307-ee195dc5935b",
   "metadata": {},
   "outputs": [],
   "source": [
    "import numpy as np\n",
    "np.random.seed(43)\n",
    "\n",
    "pdhats = []\n",
    "for i in range(0, 10000):\n",
    "    all_iqs = np.concatenate((treated, controls))\n",
    "    pall_iqs = np.random.permutation(all_iqs)\n",
    "    ptreated = pall_iqs[0:len(treated)]\n",
    "    pcontrols = pall_iqs[len(treated):]\n",
    "    pdhat = dmeans(ptreated, pcontrols)\n",
    "    pdhats.append(pdhat)"
   ]
  },
  {
   "cell_type": "markdown",
   "id": "0d0f575f-7e85-426b-b53d-50dda13439ef",
   "metadata": {},
   "source": [
    "Compute the p-value of the observed difference between means `dscore` under the null hypothesis."
   ]
  },
  {
   "cell_type": "code",
   "execution_count": 7,
   "id": "03fd9b23-27fb-4e49-ae85-71b2e0dae38b",
   "metadata": {},
   "outputs": [
    {
     "data": {
      "text/plain": [
       "0.0101"
      ]
     },
     "execution_count": 7,
     "metadata": {},
     "output_type": "execute_result"
    }
   ],
   "source": [
    "tails = [d for d in pdhats if abs(d) > dscore]\n",
    "pvalue = len(tails) / len(pdhats)\n",
    "pvalue"
   ]
  },
  {
   "cell_type": "code",
   "execution_count": 8,
   "id": "2fb93271-0379-4017-94b1-4846dfbd9b0c",
   "metadata": {},
   "outputs": [
    {
     "data": {
      "image/png": "[encoded data removed]",
      "text/plain": [
       "<Figure size 700x200 with 1 Axes>"
      ]
     },
     "metadata": {
      "image/png": {
       "height": 182,
       "width": 680
      }
     },
     "output_type": "display_data"
    }
   ],
   "source": [
    "bins = np.arange(-11, 11, 0.3)\n",
    "\n",
    "# plot the sampling distribution in blue\n",
    "ax = sns.histplot(pdhats, bins=bins)\n",
    "\n",
    "# plot red line for the observed statistic\n",
    "plt.axvline(dscore, color=\"red\")\n",
    "\n",
    "# plot the values that are equal or more extreme in red\n",
    "sns.histplot(tails, ax=ax, bins=bins, color=\"red\")\n",
    "ax.set_xlabel(\"$d$\")\n",
    "ax.set_ylabel(\"$f_{D}$\")\n",
    "\n",
    "savefig(plt.gcf(), \"figures/pvalue_viz_permutation_test_iqs.png\")"
   ]
  },
  {
   "cell_type": "markdown",
   "id": "28e2a3be-5300-469c-a4b6-ef628a93c1d2",
   "metadata": {},
   "source": [
    "#### Alternative using formula"
   ]
  },
  {
   "cell_type": "code",
   "execution_count": 9,
   "id": "b2637fd3-b57c-45c0-8806-6e4da72ec508",
   "metadata": {},
   "outputs": [
    {
     "data": {
      "text/plain": [
       "0.010163611652137501"
      ]
     },
     "execution_count": 9,
     "metadata": {},
     "output_type": "execute_result"
    }
   ],
   "source": [
    "from ministats import ttest_dmeans\n",
    "ttest_dmeans(treated, controls)"
   ]
  },
  {
   "cell_type": "markdown",
   "id": "b0007220-df27-4806-8029-f12640e28a6a",
   "metadata": {},
   "source": [
    "#### Alternative using predefined function"
   ]
  },
  {
   "cell_type": "code",
   "execution_count": 10,
   "id": "51fb23e8-3a7b-4eea-97f5-bdd122e1c62d",
   "metadata": {},
   "outputs": [
    {
     "data": {
      "text/plain": [
       "(7.886999999999972, 0.0108)"
      ]
     },
     "execution_count": 10,
     "metadata": {},
     "output_type": "execute_result"
    }
   ],
   "source": [
    "from scipy.stats import permutation_test\n",
    "\n",
    "res = permutation_test([treated, controls], statistic=dmeans)\n",
    "res.statistic, res.pvalue"
   ]
  },
  {
   "cell_type": "markdown",
   "id": "44a891d7-41e1-45bf-ac6f-4d47b7e413d2",
   "metadata": {},
   "source": [
    "## Conclusion\n",
    "\n",
    "Hands-on computational methods are much better compared to formulas and theory: no need to memorize formulas, which makes it easier for beginners, because the computations are directly connected with definition. Learners need less math theory, and get more practical experience. Furthermore, the resampling tests are more general, since they don't require assumptions about specific population distribution.\n"
   ]
  },
  {
   "cell_type": "markdown",
   "id": "9cb8d6a8-b41e-423c-a23a-687e7a4e64ed",
   "metadata": {},
   "source": [
    "## Links\n",
    "\n",
    "- Previous blog posts on statistics:\n",
    "  - [Outline of the stats curriculum research](https://minireference.com/blog/fixing-the-introductory-statistics-curriculum/)\n",
    "  - [Book proposal](https://minireference.com/blog/no-bullshit-guide-to-statistics-progress-update/)\n",
    "  - [Stats survey results](https://minireference.com/blog/what-stats-do-people-want-to-learn/)\n",
    "  - [Python for statistics](https://minireference.com/blog/python-for-stats/)\n",
    "- Good talks:\n",
    "  - [There's Only One Test](https://www.youtube.com/watch?v=S41zQEshs5k) talk by Allen B. Downey\n",
    "  - [Statistics for Hackers](https://www.youtube.com/watch?v=Iq9DzN6mvYA) talk by Jake Vanderplas  \n",
    "- SciPy function for permutation tests:\n",
    "  - [scipy.stats.permutation\\_test](https://docs.scipy.org/doc//scipy/reference/generated/scipy.stats.permutation_test.html)"
   ]
  },
  {
   "cell_type": "code",
   "execution_count": null,
   "id": "4db0ea0a-adb1-4b15-82e9-f7bfbb0f6190",
   "metadata": {},
   "outputs": [],
   "source": []
  }
 ],
 "metadata": {
  "kernelspec": {
   "display_name": "Python 3 (ipykernel)",
   "language": "python",
   "name": "python3"
  },
  "language_info": {
   "codemirror_mode": {
    "name": "ipython",
    "version": 3
   },
   "file_extension": ".py",
   "mimetype": "text/x-python",
   "name": "python",
   "nbconvert_exporter": "python",
   "pygments_lexer": "ipython3",
   "version": "3.12.4"
  }
 },
 "nbformat": 4,
 "nbformat_minor": 5
}
