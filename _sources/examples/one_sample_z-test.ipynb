{
 "cells": [
  {
   "cell_type": "markdown",
   "id": "229b9ce5-9ba8-406a-bb1a-5979d1e2a64f",
   "metadata": {},
   "source": [
    "# One-sample z-test for the mean\n",
    "\n",
    "The goal of the one-sample $z$-test to check if the mean $\\mu$ of an unknown population $X \\sim \\mathcal{N}(\\mu, \\sigma_0)$,\n",
    "equals the mean $\\mu_0$ of a theoretical distribution $X_0 \\sim \\mathcal{N}(\\mu_0, \\sigma_0)$.\n",
    "Note we assume that standard deviation of the unknown population $X$ is known\n",
    "and equal to the standard deviation of the theoretical population $\\sigma_0$.\n",
    "We discussed this hypothesis test in [notebooks/34_analytical_approx.ipynb](../notebooks/34_analytical_approx.ipynb)."
   ]
  },
  {
   "cell_type": "code",
   "execution_count": 1,
   "id": "a75de327-d02b-47a0-bcc6-57cb317b9d7c",
   "metadata": {},
   "outputs": [],
   "source": [
    "import matplotlib.pyplot as plt\n",
    "import numpy as np\n",
    "import seaborn as sns"
   ]
  },
  {
   "cell_type": "code",
   "execution_count": 2,
   "id": "1cf0b78f-2944-4e26-83b7-553b70f70398",
   "metadata": {},
   "outputs": [],
   "source": [
    "%matplotlib inline\n",
    "%config InlineBackend.figure_format = 'retina'"
   ]
  },
  {
   "cell_type": "markdown",
   "id": "09804789-d86e-4df9-a3d9-4106bfbf76d1",
   "metadata": {},
   "source": [
    "## Data\n",
    "One sample of numerical observations $\\mathbf{x}=[x_1, x_2, \\ldots, x_n]$."
   ]
  },
  {
   "cell_type": "markdown",
   "id": "d69a9922-b2a7-44f3-83f1-ed3713d71e8f",
   "metadata": {},
   "source": [
    "## Modeling assumptions\n",
    "\n",
    "We model the unknown population as...\n",
    "\n",
    "and the theoretical distribution is...\n",
    "\n",
    "\n",
    "\n",
    "\n",
    "We assume the population is normally distributed $\\textbf{(NORM)}$,\n",
    "or the sample is large enough $\\textbf{(LARGEn)}$.\n",
    "\n",
    "We also assume that the variance of the unknown population is known and equal to the variance of the theoretical population under $H_0$\n",
    "<!-- $\\sigma_{X_0}^2$ is known. -->"
   ]
  },
  {
   "cell_type": "markdown",
   "id": "b69c7ac0-31bd-479e-afb4-f9505bfca4ef",
   "metadata": {},
   "source": [
    "## Hypotheses\n",
    "\n",
    "$H_0: \\mu = \\mu_0$ and $H_A: \\mu \\neq \\mu_0$,\n",
    "where $\\mu$ is the unknown population mean,\n",
    "$\\mu_0$ is the theoretical mean we are comparing to."
   ]
  },
  {
   "cell_type": "markdown",
   "id": "146b20c4-d535-46fe-86cc-8c2c52bfa39f",
   "metadata": {},
   "source": [
    "## Statistical design\n",
    "\n",
    "for $n=5$ ...\n",
    "\n",
    "\n",
    "for $n=20$ ...\n"
   ]
  },
  {
   "cell_type": "markdown",
   "id": "ab880b56-b783-4c32-b2cd-8cb66b59f766",
   "metadata": {},
   "source": [
    "## Test statistic\n",
    "\n",
    "Compute $z = \\frac{\\overline{\\mathbf{x}} - \\mu_0}{\\sigma_0/\\sqrt{n}}$,\n",
    "where $\\overline{\\mathbf{x}}$ is the sample mean,\n",
    "$\\mu_0$ is the theoretical population mean,\n",
    "$\\sigma_0$ is the known standard deviation.\n",
    "% and $n$ is the sample size."
   ]
  },
  {
   "cell_type": "markdown",
   "id": "46a6143a-ca4b-4568-bf5a-862a577c8c21",
   "metadata": {},
   "source": [
    "## Sampling distribution\n",
    "\n",
    "Standard normal distribution $Z \\sim \\mathcal{N}(0,1)$."
   ]
  },
  {
   "cell_type": "markdown",
   "id": "15cf13c7-78bf-495a-baf8-2312c6210c2a",
   "metadata": {},
   "source": [
    "## P-value calculation"
   ]
  },
  {
   "cell_type": "code",
   "execution_count": 3,
   "id": "485f2583-bb09-4fa5-bbb3-6d0d191010ba",
   "metadata": {},
   "outputs": [
    {
     "data": {
      "text/plain": [
       "\u001b[0;32mdef\u001b[0m \u001b[0mztest\u001b[0m\u001b[0;34m(\u001b[0m\u001b[0msample\u001b[0m\u001b[0;34m,\u001b[0m \u001b[0mmu0\u001b[0m\u001b[0;34m,\u001b[0m \u001b[0msigma0\u001b[0m\u001b[0;34m,\u001b[0m \u001b[0malt\u001b[0m\u001b[0;34m=\u001b[0m\u001b[0;34m\"two-sided\"\u001b[0m\u001b[0;34m)\u001b[0m\u001b[0;34m:\u001b[0m\u001b[0;34m\u001b[0m\n",
       "\u001b[0;34m\u001b[0m    \u001b[0;34m\"\"\"\u001b[0m\n",
       "\u001b[0;34m    Z-test to detect mean deviation from known normal population.\u001b[0m\n",
       "\u001b[0;34m    \"\"\"\u001b[0m\u001b[0;34m\u001b[0m\n",
       "\u001b[0;34m\u001b[0m    \u001b[0mmean\u001b[0m \u001b[0;34m=\u001b[0m \u001b[0mnp\u001b[0m\u001b[0;34m.\u001b[0m\u001b[0mmean\u001b[0m\u001b[0;34m(\u001b[0m\u001b[0msample\u001b[0m\u001b[0;34m)\u001b[0m\u001b[0;34m\u001b[0m\n",
       "\u001b[0;34m\u001b[0m    \u001b[0mn\u001b[0m \u001b[0;34m=\u001b[0m \u001b[0mlen\u001b[0m\u001b[0;34m(\u001b[0m\u001b[0msample\u001b[0m\u001b[0;34m)\u001b[0m\u001b[0;34m\u001b[0m\n",
       "\u001b[0;34m\u001b[0m    \u001b[0mse\u001b[0m \u001b[0;34m=\u001b[0m \u001b[0msigma0\u001b[0m \u001b[0;34m/\u001b[0m \u001b[0mnp\u001b[0m\u001b[0;34m.\u001b[0m\u001b[0msqrt\u001b[0m\u001b[0;34m(\u001b[0m\u001b[0mn\u001b[0m\u001b[0;34m)\u001b[0m\u001b[0;34m\u001b[0m\n",
       "\u001b[0;34m\u001b[0m    \u001b[0mobsz\u001b[0m \u001b[0;34m=\u001b[0m \u001b[0;34m(\u001b[0m\u001b[0mmean\u001b[0m \u001b[0;34m-\u001b[0m \u001b[0mmu0\u001b[0m\u001b[0;34m)\u001b[0m \u001b[0;34m/\u001b[0m \u001b[0mse\u001b[0m\u001b[0;34m\u001b[0m\n",
       "\u001b[0;34m\u001b[0m    \u001b[0mrvZ\u001b[0m \u001b[0;34m=\u001b[0m \u001b[0mnorm\u001b[0m\u001b[0;34m(\u001b[0m\u001b[0;36m0\u001b[0m\u001b[0;34m,\u001b[0m\u001b[0;36m1\u001b[0m\u001b[0;34m)\u001b[0m\u001b[0;34m\u001b[0m\n",
       "\u001b[0;34m\u001b[0m    \u001b[0mpval\u001b[0m \u001b[0;34m=\u001b[0m \u001b[0mtailprobs\u001b[0m\u001b[0;34m(\u001b[0m\u001b[0mrvZ\u001b[0m\u001b[0;34m,\u001b[0m \u001b[0mobsz\u001b[0m\u001b[0;34m,\u001b[0m \u001b[0malt\u001b[0m\u001b[0;34m=\u001b[0m\u001b[0malt\u001b[0m\u001b[0;34m)\u001b[0m\u001b[0;34m\u001b[0m\n",
       "\u001b[0;34m\u001b[0m    \u001b[0;32mreturn\u001b[0m \u001b[0mpval\u001b[0m\u001b[0;34m\u001b[0m\u001b[0;34m\u001b[0m\u001b[0m\n"
      ]
     },
     "metadata": {},
     "output_type": "display_data"
    }
   ],
   "source": [
    "from ministats import ztest\n",
    "\n",
    "%psource ztest"
   ]
  },
  {
   "cell_type": "markdown",
   "id": "971895b0-bb9b-4eae-b8a4-d76ac6796bb4",
   "metadata": {},
   "source": [
    "To perform the one-sample $z$-test on the sample `xs`,\n",
    "we call `ztest(xs, mu0=..., sigma0=...)`,\n",
    "with the `...`s replaced by the mean and standard deviation parameters of the distribution under $H_0$."
   ]
  },
  {
   "cell_type": "markdown",
   "id": "c46e51cc-143b-4e0c-8872-c17a54e7810d",
   "metadata": {},
   "source": [
    "## Examples\n",
    "\n",
    "For all the examples we present below,\n",
    "we assume the theoretical distribution we expect under the null hypothesis,\n",
    "is normally distributed with mean $\\mu_{X_0}=100$\n",
    "and standard deviation $\\sigma_{X_0} =  5$:\n",
    "\n",
    "$$\n",
    "    \\texttt{rvX0} = X_0 \\sim \\mathcal{N}(100,5).\n",
    "$$\n",
    "\n"
   ]
  },
  {
   "cell_type": "code",
   "execution_count": 4,
   "id": "ab9c156b-0534-41f2-b7eb-3bfffab19822",
   "metadata": {},
   "outputs": [],
   "source": [
    "from scipy.stats import norm\n",
    "muX0 = 100\n",
    "sigmaX0 = 5\n",
    "rvX0 = norm(muX0, sigmaX0)"
   ]
  },
  {
   "cell_type": "markdown",
   "id": "f65e1b6e-01a6-44fd-b112-455ec9cb0226",
   "metadata": {},
   "source": [
    "### Example A: population different from $H_0$"
   ]
  },
  {
   "cell_type": "markdown",
   "id": "bf5b1a71-2ab2-4fc7-830c-a0030034dfa6",
   "metadata": {},
   "source": [
    "Suppose the unknown population is normally distributed \n",
    "with mean $\\mu_{X_A}=104$\n",
    "and standard deviation $\\sigma_{X_A} = 3$:\n",
    "\n",
    "$$\n",
    "    \\texttt{rvXA} = X_A \\sim \\mathcal{N}(110,3).\n",
    "$$"
   ]
  },
  {
   "cell_type": "code",
   "execution_count": 5,
   "id": "93391dc9-2834-4ce9-a43b-fec486ddeca3",
   "metadata": {},
   "outputs": [],
   "source": [
    "muXA = 104\n",
    "sigmaXA = 3\n",
    "rvXA = norm(muXA, sigmaXA)"
   ]
  },
  {
   "cell_type": "markdown",
   "id": "d563fb81-7b86-41e1-9a6a-c781d7cde415",
   "metadata": {},
   "source": [
    "Let's generate a sample `xAs` of size $n=20$ from the random variable $X = \\texttt{rvXA}$."
   ]
  },
  {
   "cell_type": "code",
   "execution_count": 6,
   "id": "af1f3781-3969-40ae-bc46-101b72732d4a",
   "metadata": {},
   "outputs": [
    {
     "data": {
      "text/plain": [
       "array([105.49014246, 103.5852071 , 105.94306561, 108.56908957,\n",
       "       103.29753988, 103.29758913, 108.73763845, 106.30230419,\n",
       "       102.59157684, 105.62768013, 102.60974692, 102.60281074,\n",
       "       104.72588681,  98.26015927,  98.8252465 , 102.31313741,\n",
       "       100.96150664, 104.942742  , 101.27592777,  99.7630889 ])"
      ]
     },
     "execution_count": 6,
     "metadata": {},
     "output_type": "execute_result"
    }
   ],
   "source": [
    "np.random.seed(42)\n",
    "\n",
    "# generate a random sample of size n=20\n",
    "n = 20\n",
    "xAs = rvXA.rvs(n)\n",
    "xAs"
   ]
  },
  {
   "cell_type": "code",
   "execution_count": 7,
   "id": "591629c9-f6dc-442e-a0e9-ae83844714dd",
   "metadata": {},
   "outputs": [
    {
     "data": {
      "image/png": "[encoded data removed]",
      "text/plain": [
       "<Figure size 700x100 with 1 Axes>"
      ]
     },
     "metadata": {
      "image/png": {
       "height": 120,
       "width": 567
      }
     },
     "output_type": "display_data"
    }
   ],
   "source": [
    "import seaborn as sns\n",
    "with plt.rc_context({\"figure.figsize\":(7,1)}):\n",
    "    sns.stripplot(x=xAs, jitter=0, alpha=0.5)"
   ]
  },
  {
   "cell_type": "markdown",
   "id": "74fbd963-d101-4a22-949d-b06f708212d4",
   "metadata": {},
   "source": [
    "To obtain the $p$-value,\n",
    "we first compute the observed $z$-statistic,\n",
    "then calculate the tail probabilities in the two tails of the standard normal distribution $Z\\sim\\mathcal{N}(0,1)$."
   ]
  },
  {
   "cell_type": "code",
   "execution_count": 8,
   "id": "b80ab201-a6c9-4325-85c4-15dc290bea12",
   "metadata": {},
   "outputs": [
    {
     "data": {
      "text/plain": [
       "(3.1180664906014357, 0.0018204172963375287)"
      ]
     },
     "execution_count": 8,
     "metadata": {},
     "output_type": "execute_result"
    }
   ],
   "source": [
    "obsmean = np.mean(xAs)\n",
    "se = sigmaX0 / np.sqrt(n)\n",
    "obsz = (obsmean - muX0) / se\n",
    "rvZ = norm(0,1)\n",
    "pvalue = rvZ.cdf(-obsz) + 1-rvZ.cdf(obsz)\n",
    "obsz, pvalue"
   ]
  },
  {
   "cell_type": "markdown",
   "id": "48fdd480-771b-496c-a739-40dbf863183f",
   "metadata": {},
   "source": [
    "The helper function `ztest` in the `ministats` module performs\n",
    "exactly the same sequence of steps to compute the $p$-value."
   ]
  },
  {
   "cell_type": "code",
   "execution_count": 9,
   "id": "d76a7c12-eab2-4f44-8040-3d170b6f16d2",
   "metadata": {},
   "outputs": [
    {
     "data": {
      "text/plain": [
       "0.0018204172963375855"
      ]
     },
     "execution_count": 9,
     "metadata": {},
     "output_type": "execute_result"
    }
   ],
   "source": [
    "from ministats import ztest\n",
    "ztest(xAs, mu0=muX0, sigma0=sigmaX0)"
   ]
  },
  {
   "cell_type": "markdown",
   "id": "4a0c8c4b-bbdf-4ee0-85e9-a4080d4dfaa0",
   "metadata": {},
   "source": [
    "The $p$-value we obtain is 0.0018 (0.18%),\n",
    "which is below the cutoff value $\\alpha=0.05$,\n",
    "so our conclusion is **we reject the null hypothesis**:\n",
    "the mean of the sample `xAs` is not statistically significantly different from the theoretically expected mean $\\mu_{X_0} = 100$."
   ]
  },
  {
   "cell_type": "markdown",
   "id": "aa3a24ed-d585-4b3c-b5c0-f6ab6446819c",
   "metadata": {},
   "source": [
    "### Example B: sample from a population as expected under $H_0$"
   ]
  },
  {
   "cell_type": "code",
   "execution_count": 10,
   "id": "58a77e58-f189-43e0-9414-4b47734f758c",
   "metadata": {},
   "outputs": [],
   "source": [
    "# unknown population X = X0\n",
    "rvXB = norm(muX0, sigmaX0)"
   ]
  },
  {
   "cell_type": "markdown",
   "id": "869366ba-2513-4501-ae31-f98ee4dcb134",
   "metadata": {},
   "source": [
    "Let's generate a sample `xBs` of size $n=20$ from the random variable $X = \\texttt{rvX}$,\n",
    "which has the same distribution as the theoretical distribution we expect under the null hypothesis."
   ]
  },
  {
   "cell_type": "code",
   "execution_count": 11,
   "id": "23763c28-4f29-4c62-b7e7-c3587d51c9f1",
   "metadata": {},
   "outputs": [
    {
     "data": {
      "text/plain": [
       "array([ 97.92621393,  98.33315666, 100.40545993,  96.04486524,\n",
       "        98.90700164,  96.18401578,  96.11439878, 109.24678261,\n",
       "        96.47199845,  99.56978983, 101.43966651,  99.34306739,\n",
       "        95.08627924,  95.40604357, 105.99717245,  98.29312879,\n",
       "        91.20696344, 100.25558735,  97.14035504,  96.49716979])"
      ]
     },
     "execution_count": 11,
     "metadata": {},
     "output_type": "execute_result"
    }
   ],
   "source": [
    "# np.random.seed(32)  produces false positie\n",
    "np.random.seed(31)\n",
    "\n",
    "# generate a random sample of size n=20\n",
    "n = 20\n",
    "xBs = rvXB.rvs(n)\n",
    "xBs"
   ]
  },
  {
   "cell_type": "code",
   "execution_count": 12,
   "id": "12503c15-5d7f-4fc3-8850-3f84a274d64b",
   "metadata": {},
   "outputs": [
    {
     "data": {
      "image/png": "[encoded data removed]",
      "text/plain": [
       "<Figure size 700x100 with 1 Axes>"
      ]
     },
     "metadata": {
      "image/png": {
       "height": 120,
       "width": 583
      }
     },
     "output_type": "display_data"
    }
   ],
   "source": [
    "import seaborn as sns\n",
    "with plt.rc_context({\"figure.figsize\":(7,1)}):\n",
    "    sns.stripplot(x=xBs, jitter=0, alpha=0.5)"
   ]
  },
  {
   "cell_type": "code",
   "execution_count": 13,
   "id": "c016248d-e072-47ea-9b02-60f8fb674853",
   "metadata": {},
   "outputs": [
    {
     "data": {
      "text/plain": [
       "0.17782115942197962"
      ]
     },
     "execution_count": 13,
     "metadata": {},
     "output_type": "execute_result"
    }
   ],
   "source": [
    "from ministats import ztest\n",
    "ztest(xBs, mu0=muX0, sigma0=sigmaX0)"
   ]
  },
  {
   "cell_type": "markdown",
   "id": "78d553ed-6198-41b1-8324-4f322ff23866",
   "metadata": {},
   "source": [
    "The $p$-value we obtain is 0.18, which is above the cutoff value $\\alpha=0.05$\n",
    "so our conclusion is that we've **failed to reject the null hypothesis**:\n",
    "the mean of the sample `xBs` is not significantly different from the theoretically expected mean $\\mu_{X_0} = 100$."
   ]
  },
  {
   "cell_type": "markdown",
   "id": "9b660562-54a5-4c6c-b54e-fc128e541a56",
   "metadata": {},
   "source": [
    "## Effect size estimates"
   ]
  },
  {
   "cell_type": "markdown",
   "id": "6be145e5-8cee-4d19-b215-807f690af3aa",
   "metadata": {},
   "source": [
    "## Related\n",
    "\n",
    "- Use the [one-sample $t$-test](./one_sample_t-test.ipynb) if you want to use the sample standard deviation\n",
    "- Identical calculations to the one-saple $z$-test for proportions"
   ]
  },
  {
   "cell_type": "markdown",
   "id": "aff7ca4d-e061-40ad-9a6f-0c48913a001f",
   "metadata": {},
   "source": [
    "## Discussion"
   ]
  },
  {
   "cell_type": "code",
   "execution_count": null,
   "id": "059f1063-5cb2-4ecd-bd5a-ff8c54eada63",
   "metadata": {},
   "outputs": [],
   "source": []
  },
  {
   "cell_type": "markdown",
   "id": "fa1f1c61-0742-4945-9618-8ec17f6263d7",
   "metadata": {},
   "source": [
    "## Links"
   ]
  },
  {
   "cell_type": "code",
   "execution_count": null,
   "id": "3aab082f-9cac-4105-8f95-6040a7c47df7",
   "metadata": {},
   "outputs": [],
   "source": []
  },
  {
   "cell_type": "markdown",
   "id": "da09654f-9153-4f47-ac29-e8810dd40d62",
   "metadata": {},
   "source": [
    "## CUT MATERIAL"
   ]
  },
  {
   "cell_type": "code",
   "execution_count": 14,
   "id": "19f44563-89c9-4714-8deb-bf9e976d20bf",
   "metadata": {},
   "outputs": [],
   "source": [
    "# NOT GOOD: because we can't specify sigma0 manually;\n",
    "#           the statsmodels function uses sample std instead of sigmaX0\n",
    "# from statsmodels.stats import weightstats\n",
    "# weightstats.ztest(x1, x2=None, value=0)"
   ]
  }
 ],
 "metadata": {
  "kernelspec": {
   "display_name": "Python 3 (ipykernel)",
   "language": "python",
   "name": "python3"
  },
  "language_info": {
   "codemirror_mode": {
    "name": "ipython",
    "version": 3
   },
   "file_extension": ".py",
   "mimetype": "text/x-python",
   "name": "python",
   "nbconvert_exporter": "python",
   "pygments_lexer": "ipython3",
   "version": "3.12.4"
  }
 },
 "nbformat": 4,
 "nbformat_minor": 5
}
