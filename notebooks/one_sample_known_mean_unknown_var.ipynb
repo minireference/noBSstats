{
 "cells": [
  {
   "cell_type": "code",
   "execution_count": null,
   "id": "1e229b5a-f559-4584-91de-c0ea6156a235",
   "metadata": {},
   "outputs": [],
   "source": []
  },
  {
   "cell_type": "markdown",
   "id": "14717938-4616-4643-97d8-6e7df56b1e93",
   "metadata": {},
   "source": [
    "## Comparing one group to a known mean (unknown population variance)"
   ]
  },
  {
   "cell_type": "code",
   "execution_count": 1,
   "id": "2e6158e0-4494-400f-bddf-1a22459f981b",
   "metadata": {},
   "outputs": [],
   "source": [
    "# load Python modules\n",
    "import os\n",
    "import numpy as np\n",
    "import pandas as pd\n",
    "import seaborn as sns\n",
    "import matplotlib.pyplot as plt"
   ]
  },
  {
   "cell_type": "code",
   "execution_count": 2,
   "id": "1ec92bf0-48e0-4979-8ed8-73807d029477",
   "metadata": {},
   "outputs": [],
   "source": [
    "# Plot helper functions\n",
    "from plot_helpers import nicebins\n",
    "from plot_helpers import plot_pdf\n",
    "from plot_helpers import savefigure\n"
   ]
  },
  {
   "cell_type": "code",
   "execution_count": 3,
   "id": "c3694bec-37e3-451f-be66-b81991fbd7fe",
   "metadata": {},
   "outputs": [
    {
     "data": {
      "text/plain": [
       "<Figure size 640x480 with 0 Axes>"
      ]
     },
     "metadata": {},
     "output_type": "display_data"
    }
   ],
   "source": [
    "# Figures setup\n",
    "plt.clf()  # needed otherwise `sns.set_theme` doesn't work\n",
    "from plot_helpers import RCPARAMS\n",
    "# RCPARAMS.update({'figure.figsize': (10, 3)})   # good for screen\n",
    "RCPARAMS.update({'figure.figsize': (5, 1.6)})  # good for print\n",
    "sns.set_theme(\n",
    "    context=\"paper\",\n",
    "    style=\"whitegrid\",\n",
    "    palette=\"colorblind\",\n",
    "    rc=RCPARAMS,\n",
    ")\n",
    "\n",
    "# Useful colors\n",
    "snspal = sns.color_palette()\n",
    "blue, orange, purple = snspal[0], snspal[1], snspal[4]\n",
    "# red = sns.color_palette(\"tab10\")[3]\n",
    "\n",
    "# High-resolution please\n",
    "%config InlineBackend.figure_format = 'retina'\n",
    "\n",
    "# Where to store figures\n",
    "DESTDIR = \"figures/stats/intro_to_NHST\""
   ]
  },
  {
   "cell_type": "code",
   "execution_count": 4,
   "id": "a64fc87f-e36c-4325-a5f7-a5acdee8d845",
   "metadata": {},
   "outputs": [],
   "source": [
    "# set random seed for repeatability\n",
    "np.random.seed(42)"
   ]
  },
  {
   "cell_type": "code",
   "execution_count": null,
   "id": "7245c6c8-2634-4879-8f3e-be708b688efd",
   "metadata": {},
   "outputs": [],
   "source": []
  },
  {
   "cell_type": "code",
   "execution_count": null,
   "id": "687553e0-bf0a-40ab-9366-b7f4f6b21397",
   "metadata": {},
   "outputs": [],
   "source": []
  },
  {
   "cell_type": "code",
   "execution_count": 5,
   "id": "3b7dd0d5-f281-43c9-b6db-6267577a190c",
   "metadata": {},
   "outputs": [],
   "source": [
    "#######################################################\n",
    "from stats_helpers import gen_boot_dist\n",
    "from stats_helpers import tailvalues\n",
    "\n",
    "def bootstrap_test_mean(sample, mu0, B=10000):\n",
    "    \"\"\"\n",
    "    Compute the p-value of the observed `mean(sample)`\n",
    "    under H0 with mean `mu0`. Model the variability of\n",
    "    the distribution using bootstrap estimation.\n",
    "    \"\"\"\n",
    "    # 1. Compute the observed value of the mean\n",
    "    obsmean = np.mean(sample)\n",
    "\n",
    "    # 2. Get sampling distribution of the mean under H0\n",
    "    #    by \"shifting\" the sample so its mean is `mu0`\n",
    "    sample_H0 = np.array(sample) - obsmean + mu0\n",
    "    bmeans = gen_boot_dist(sample_H0, np.mean, B=B)\n",
    "\n",
    "    # 3. Compute the p-value\n",
    "    tails = tailvalues(bmeans, obsmean)\n",
    "    pvalue = len(tails) / len(bmeans)\n",
    "\n",
    "    # sns.histplot(bmeans, bins=100)\n",
    "    # sns.histplot(tails, bins=100, color=\"r\")\n",
    "    return bmeans, pvalue"
   ]
  },
  {
   "cell_type": "code",
   "execution_count": null,
   "id": "b3e50ba3-5c4e-4d28-bd4b-f8e2d62046ea",
   "metadata": {},
   "outputs": [],
   "source": []
  },
  {
   "cell_type": "markdown",
   "id": "a932d69f-a7a6-4ae3-adb1-1e8a36ad68ef",
   "metadata": {},
   "source": [
    "### Example 1 revisited"
   ]
  },
  {
   "cell_type": "markdown",
   "id": "b77ad46a-b16b-4d57-ab8f-2e61b80d0e5e",
   "metadata": {},
   "source": [
    "#### Mean test on batch 01"
   ]
  },
  {
   "cell_type": "code",
   "execution_count": 6,
   "id": "5f006ce7-8ff6-4e1b-aa70-020b0ef27b37",
   "metadata": {},
   "outputs": [
    {
     "data": {
      "text/plain": [
       "0.5575"
      ]
     },
     "execution_count": 6,
     "metadata": {},
     "output_type": "execute_result"
    }
   ],
   "source": [
    "kombucha = pd.read_csv(\"../datasets/kombucha.csv\")\n",
    "ksample01 = kombucha[kombucha[\"batch\"]==1][\"volume\"]\n",
    "bootstrap_test_mean(ksample01, mu0=1000)[1]"
   ]
  },
  {
   "cell_type": "markdown",
   "id": "00bf3138-848d-4452-b0f4-c57a167058c1",
   "metadata": {},
   "source": [
    "Correctly accepts this as a regular batch."
   ]
  },
  {
   "cell_type": "code",
   "execution_count": 7,
   "id": "a5e4bc72-78d4-42ed-abe1-c53bd95d194d",
   "metadata": {},
   "outputs": [],
   "source": [
    "# sns.kdeplot(ksample01)\n",
    "# ksample01.describe()"
   ]
  },
  {
   "cell_type": "markdown",
   "id": "c3e0e591-79e1-4e6c-a1f3-8a4931c27501",
   "metadata": {},
   "source": [
    "#### Mean test on batch 04"
   ]
  },
  {
   "cell_type": "code",
   "execution_count": 8,
   "id": "ab77fb1b-8a31-43dd-8352-d64b7764a96f",
   "metadata": {},
   "outputs": [
    {
     "data": {
      "text/plain": [
       "0.0025"
      ]
     },
     "execution_count": 8,
     "metadata": {},
     "output_type": "execute_result"
    }
   ],
   "source": [
    "ksample04 = kombucha[kombucha[\"batch\"]==4][\"volume\"]\n",
    "bootstrap_test_mean(ksample04, mu0=1000)[1]"
   ]
  },
  {
   "cell_type": "markdown",
   "id": "5be8a970-18d1-4efe-adf5-b9cb2dee28ab",
   "metadata": {},
   "source": [
    "Correctly rejects this as an irregular batch."
   ]
  },
  {
   "cell_type": "code",
   "execution_count": 9,
   "id": "9bef0fdd-504d-434f-8ed1-41c863e4aef4",
   "metadata": {},
   "outputs": [],
   "source": [
    "# np.std(ksample04, ddof=1) / np.sqrt( len(ksample04) ) "
   ]
  },
  {
   "cell_type": "code",
   "execution_count": 10,
   "id": "f0031761-ad3e-43a6-b150-c557c753dd31",
   "metadata": {},
   "outputs": [],
   "source": [
    "# sns.kdeplot(ksample04)\n",
    "# ksample04.describe()"
   ]
  },
  {
   "cell_type": "code",
   "execution_count": null,
   "id": "cae4c33f-9ead-4364-8ce3-4d593c34fa7e",
   "metadata": {},
   "outputs": [],
   "source": []
  },
  {
   "cell_type": "markdown",
   "id": "5db99430-d833-4fdd-bfc9-bffc106af12d",
   "metadata": {},
   "source": [
    "#### Mean test on batch 05 (estimated variance)"
   ]
  },
  {
   "cell_type": "code",
   "execution_count": 11,
   "id": "0b91eef4-6da0-43d2-8a11-00beb5870a33",
   "metadata": {},
   "outputs": [
    {
     "data": {
      "text/plain": [
       "0.0148"
      ]
     },
     "execution_count": 11,
     "metadata": {},
     "output_type": "execute_result"
    }
   ],
   "source": [
    "ksample05 = kombucha[kombucha[\"batch\"]==5][\"volume\"]\n",
    "bootstrap_test_mean(ksample05, mu0=1000)[1]"
   ]
  },
  {
   "cell_type": "markdown",
   "id": "459aa40d-8ad1-48b9-8241-ebea555171dd",
   "metadata": {},
   "source": [
    "Correctly rejects this as an irregular batch."
   ]
  },
  {
   "cell_type": "code",
   "execution_count": 12,
   "id": "e9d06fb9-dfb2-4d43-bea9-f3fab02ceeed",
   "metadata": {},
   "outputs": [
    {
     "data": {
      "text/plain": [
       "count      40.000000\n",
       "mean     1002.534750\n",
       "std         6.553409\n",
       "min       992.090000\n",
       "25%       998.515000\n",
       "50%      1002.060000\n",
       "75%      1004.870000\n",
       "max      1027.190000\n",
       "Name: volume, dtype: float64"
      ]
     },
     "execution_count": 12,
     "metadata": {},
     "output_type": "execute_result"
    },
    {
     "data": {
      "image/png": "[encoded data removed]",
      "text/plain": [
       "<Figure size 500x160 with 1 Axes>"
      ]
     },
     "metadata": {
      "image/png": {
       "height": 185,
       "width": 459
      }
     },
     "output_type": "display_data"
    }
   ],
   "source": [
    "sns.kdeplot(ksample05)\n",
    "ksample05.describe()"
   ]
  },
  {
   "cell_type": "code",
   "execution_count": null,
   "id": "d340f269-166f-4bca-959a-7e8c1d1eef3a",
   "metadata": {},
   "outputs": [],
   "source": []
  },
  {
   "cell_type": "markdown",
   "id": "2b839a04-f1b3-4efb-ad37-03f41161b777",
   "metadata": {},
   "source": [
    "## Comparing with the simulation test assuming K ~ norm(1000,10)"
   ]
  },
  {
   "cell_type": "code",
   "execution_count": 13,
   "id": "843a38ae-dcec-4d8c-8c17-bc8692d60dc9",
   "metadata": {},
   "outputs": [],
   "source": [
    "from stats_helpers import simulation_test_mean\n",
    "\n",
    "muK = 1000\n",
    "sigmaK = 10"
   ]
  },
  {
   "cell_type": "code",
   "execution_count": 14,
   "id": "6eb84055-7b18-4eb0-8afc-68ebd03c2eaf",
   "metadata": {},
   "outputs": [
    {
     "data": {
      "text/plain": [
       "0.5729"
      ]
     },
     "execution_count": 14,
     "metadata": {},
     "output_type": "execute_result"
    }
   ],
   "source": [
    "simulation_test_mean(ksample01, mu0=muK, sigma0=sigmaK)[1]"
   ]
  },
  {
   "cell_type": "code",
   "execution_count": 15,
   "id": "5023a220-b228-4121-9f53-b7f78d79ce24",
   "metadata": {},
   "outputs": [
    {
     "data": {
      "text/plain": [
       "0.0139"
      ]
     },
     "execution_count": 15,
     "metadata": {},
     "output_type": "execute_result"
    }
   ],
   "source": [
    "simulation_test_mean(ksample04, mu0=muK, sigma0=sigmaK)[1]"
   ]
  },
  {
   "cell_type": "code",
   "execution_count": 16,
   "id": "270b8fa8-b894-4386-9a5c-74b0bdf91aa1",
   "metadata": {},
   "outputs": [
    {
     "data": {
      "text/plain": [
       "0.107"
      ]
     },
     "execution_count": 16,
     "metadata": {},
     "output_type": "execute_result"
    }
   ],
   "source": [
    "simulation_test_mean(ksample05, mu0=muK, sigma0=sigmaK)[1]"
   ]
  },
  {
   "cell_type": "markdown",
   "id": "99ab9a52-39f9-476f-8859-524795ceeb2a",
   "metadata": {},
   "source": [
    "Incorrectly accepts this as a regular batch,\n",
    "because it assumes $\\sigma_K = 10$,\n",
    "when in fact the variability is much smaller and should have rejected."
   ]
  },
  {
   "cell_type": "code",
   "execution_count": 19,
   "id": "598dc166-059c-481a-85c4-891cb2453f2a",
   "metadata": {},
   "outputs": [
    {
     "name": "stdout",
     "output_type": "stream",
     "text": [
      "mean(ksample05) = 1002.53475\n",
      "std(ksample05) = 6.553408972944293\n",
      "pvalue = 0.0147\n"
     ]
    },
    {
     "data": {
      "image/png": "[encoded data removed]",
      "text/plain": [
       "<Figure size 500x160 with 1 Axes>"
      ]
     },
     "metadata": {
      "image/png": {
       "height": 169,
       "width": 456
      }
     },
     "output_type": "display_data"
    }
   ],
   "source": [
    "# ALT. fully deailed analysis\n",
    "\n",
    "print(\"mean(ksample05) =\", np.mean(ksample05))\n",
    "print(\"std(ksample05) =\", np.std(ksample05, ddof=1))\n",
    "\n",
    "# bootstrap_test_mean(ksample05, mu0=1000)[1]\n",
    "kbars_boot, pvalue = bootstrap_test_mean(ksample05, mu0=1000)\n",
    "print(\"pvalue =\", pvalue)\n",
    "\n",
    "obsmean05 = np.mean(ksample05)\n",
    "bins = nicebins(kbars_boot, obsmean05)\n",
    "sns.histplot(kbars_boot, bins=bins)\n",
    "# plot red line for the observed statistic\n",
    "plt.axvline(obsmean05, color=\"red\")\n",
    "\n",
    "# plot the values that are equal or more extreme in red\n",
    "tails = tailvalues(kbars_boot, obsmean05)\n",
    "_ = sns.histplot(tails, bins=bins, color=\"red\")"
   ]
  },
  {
   "cell_type": "code",
   "execution_count": null,
   "id": "aaf07b02-896a-4ee5-93b2-767b03311c90",
   "metadata": {},
   "outputs": [],
   "source": []
  },
  {
   "cell_type": "code",
   "execution_count": null,
   "id": "2ed94210-93a8-4f1d-8648-4bf4346f8c37",
   "metadata": {},
   "outputs": [],
   "source": []
  }
 ],
 "metadata": {
  "kernelspec": {
   "display_name": "Python 3 (ipykernel)",
   "language": "python",
   "name": "python3"
  },
  "language_info": {
   "codemirror_mode": {
    "name": "ipython",
    "version": 3
   },
   "file_extension": ".py",
   "mimetype": "text/x-python",
   "name": "python",
   "nbconvert_exporter": "python",
   "pygments_lexer": "ipython3",
   "version": "3.9.4"
  }
 },
 "nbformat": 4,
 "nbformat_minor": 5
}
