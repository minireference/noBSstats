{
 "cells": [
  {
   "cell_type": "markdown",
   "metadata": {
    "id": "a1FSGmDGeo7Z"
   },
   "source": [
    "# Section 1.3 — Descriptive statistics\n",
    "\n",
    "This notebook contains all the code from [Section 1.3 Descriptive Statistics](https://minireference.com/static/excerpts/noBSstats/descriptive_statistics.pdf) in the **No Bullshit Guide to Statistics**.\n",
    "\n",
    "All the data manipulations are done using the `pandas` library,\n",
    "and data visualizations are based on the `seaborn` library.\n",
    "\n",
    "Code cells containing an `ALT` comment and commented out show alternative way for computing the same quantities or additional details that were not included in the book. It's up to you if you want to learn about these alternative options—just uncomment the code and execute."
   ]
  },
  {
   "cell_type": "markdown",
   "metadata": {
    "tags": []
   },
   "source": [
    "## Notebooks setup"
   ]
  },
  {
   "cell_type": "code",
   "execution_count": 1,
   "metadata": {
    "id": "VFzPCGo6I1NJ"
   },
   "outputs": [],
   "source": [
    "import os\n",
    "import numpy as np\n",
    "import pandas as pd\n",
    "import matplotlib.pyplot as plt\n",
    "import seaborn as sns"
   ]
  },
  {
   "cell_type": "code",
   "execution_count": 2,
   "metadata": {},
   "outputs": [],
   "source": [
    "# Pandas setup\n",
    "pd.set_option(\"display.precision\", 2)"
   ]
  },
  {
   "cell_type": "code",
   "execution_count": 3,
   "metadata": {},
   "outputs": [],
   "source": [
    "# Figures setup\n",
    "sns.set_theme(\n",
    "    context=\"paper\",\n",
    "    style=\"whitegrid\",\n",
    "    palette=\"colorblind\",\n",
    "    rc={'figure.figsize': (7,4)},\n",
    ")\n",
    "\n",
    "%config InlineBackend.figure_format = 'retina'"
   ]
  },
  {
   "cell_type": "markdown",
   "metadata": {
    "jp-MarkdownHeadingCollapsed": true,
    "tags": []
   },
   "source": [
    "## Load the `students` dataset from CSV"
   ]
  },
  {
   "cell_type": "code",
   "execution_count": 4,
   "metadata": {
    "executionInfo": {
     "elapsed": 542,
     "status": "ok",
     "timestamp": 1620824084792,
     "user": {
      "displayName": "Ivan Savov",
      "photoUrl": "https://lh3.googleusercontent.com/a-/AOh14GgM13MuJiia2gUK23ZS4gJbjbYEAe1_3dxb5acpnQ=s64",
      "userId": "13320182563968762712"
     },
     "user_tz": 240
    },
    "id": "Q4JDy5aUKLFI"
   },
   "outputs": [],
   "source": [
    "import os\n",
    "file_path = os.path.join(\"..\", \"datasets\", \"students.csv\")\n",
    "if os.path.exists(file_path):\n",
    "    data_file = open(file_path)\n",
    "else:\n",
    "    import io\n",
    "    data_file = io.StringIO(\"\"\"\n",
    "student_ID,background,curriculum,effort,score\n",
    "1,arts,debate,10.96,75\n",
    "2,science,lecture,8.69,75\n",
    "3,arts,debate,8.6,67\n",
    "4,arts,lecture,7.92,70.3\n",
    "5,science,debate,9.9,76.1\n",
    "6,business,debate,10.8,79.8\n",
    "7,science,lecture,7.81,72.7\n",
    "8,business,lecture,9.13,75.4\n",
    "9,business,lecture,5.21,57\n",
    "10,science,lecture,7.71,69\n",
    "11,business,debate,9.82,70.4\n",
    "12,arts,debate,11.53,96.2\n",
    "13,science,debate,7.1,62.9\n",
    "14,science,lecture,6.39,57.6\n",
    "15,arts,debate,12,84.3\n",
    "\"\"\")"
   ]
  },
  {
   "cell_type": "code",
   "execution_count": 5,
   "metadata": {},
   "outputs": [],
   "source": [
    "students = pd.read_csv(data_file, index_col=\"student_ID\")"
   ]
  },
  {
   "cell_type": "markdown",
   "metadata": {},
   "source": [
    "## Let's look at the data..."
   ]
  },
  {
   "cell_type": "code",
   "execution_count": 6,
   "metadata": {
    "colab": {
     "base_uri": "https://localhost:8080/",
     "height": 551
    },
    "executionInfo": {
     "elapsed": 667,
     "status": "ok",
     "timestamp": 1620083321316,
     "user": {
      "displayName": "Ivan Savov",
      "photoUrl": "https://lh3.googleusercontent.com/a-/AOh14GgM13MuJiia2gUK23ZS4gJbjbYEAe1_3dxb5acpnQ=s64",
      "userId": "13320182563968762712"
     },
     "user_tz": 240
    },
    "id": "GFPjkFq2KFvR",
    "outputId": "cc078aa5-80e6-4404-a4cd-efb50918bae2"
   },
   "outputs": [
    {
     "data": {
      "text/html": [
       "<div>\n",
       "<style scoped>\n",
       "    .dataframe tbody tr th:only-of-type {\n",
       "        vertical-align: middle;\n",
       "    }\n",
       "\n",
       "    .dataframe tbody tr th {\n",
       "        vertical-align: top;\n",
       "    }\n",
       "\n",
       "    .dataframe thead th {\n",
       "        text-align: right;\n",
       "    }\n",
       "</style>\n",
       "<table border=\"1\" class=\"dataframe\">\n",
       "  <thead>\n",
       "    <tr style=\"text-align: right;\">\n",
       "      <th></th>\n",
       "      <th>background</th>\n",
       "      <th>curriculum</th>\n",
       "      <th>effort</th>\n",
       "      <th>score</th>\n",
       "    </tr>\n",
       "    <tr>\n",
       "      <th>student_ID</th>\n",
       "      <th></th>\n",
       "      <th></th>\n",
       "      <th></th>\n",
       "      <th></th>\n",
       "    </tr>\n",
       "  </thead>\n",
       "  <tbody>\n",
       "    <tr>\n",
       "      <th>1</th>\n",
       "      <td>arts</td>\n",
       "      <td>debate</td>\n",
       "      <td>10.96</td>\n",
       "      <td>75.0</td>\n",
       "    </tr>\n",
       "    <tr>\n",
       "      <th>2</th>\n",
       "      <td>science</td>\n",
       "      <td>lecture</td>\n",
       "      <td>8.69</td>\n",
       "      <td>75.0</td>\n",
       "    </tr>\n",
       "    <tr>\n",
       "      <th>3</th>\n",
       "      <td>arts</td>\n",
       "      <td>debate</td>\n",
       "      <td>8.60</td>\n",
       "      <td>67.0</td>\n",
       "    </tr>\n",
       "    <tr>\n",
       "      <th>4</th>\n",
       "      <td>arts</td>\n",
       "      <td>lecture</td>\n",
       "      <td>7.92</td>\n",
       "      <td>70.3</td>\n",
       "    </tr>\n",
       "    <tr>\n",
       "      <th>5</th>\n",
       "      <td>science</td>\n",
       "      <td>debate</td>\n",
       "      <td>9.90</td>\n",
       "      <td>76.1</td>\n",
       "    </tr>\n",
       "    <tr>\n",
       "      <th>6</th>\n",
       "      <td>business</td>\n",
       "      <td>debate</td>\n",
       "      <td>10.80</td>\n",
       "      <td>79.8</td>\n",
       "    </tr>\n",
       "    <tr>\n",
       "      <th>7</th>\n",
       "      <td>science</td>\n",
       "      <td>lecture</td>\n",
       "      <td>7.81</td>\n",
       "      <td>72.7</td>\n",
       "    </tr>\n",
       "    <tr>\n",
       "      <th>8</th>\n",
       "      <td>business</td>\n",
       "      <td>lecture</td>\n",
       "      <td>9.13</td>\n",
       "      <td>75.4</td>\n",
       "    </tr>\n",
       "    <tr>\n",
       "      <th>9</th>\n",
       "      <td>business</td>\n",
       "      <td>lecture</td>\n",
       "      <td>5.21</td>\n",
       "      <td>57.0</td>\n",
       "    </tr>\n",
       "    <tr>\n",
       "      <th>10</th>\n",
       "      <td>science</td>\n",
       "      <td>lecture</td>\n",
       "      <td>7.71</td>\n",
       "      <td>69.0</td>\n",
       "    </tr>\n",
       "    <tr>\n",
       "      <th>11</th>\n",
       "      <td>business</td>\n",
       "      <td>debate</td>\n",
       "      <td>9.82</td>\n",
       "      <td>70.4</td>\n",
       "    </tr>\n",
       "    <tr>\n",
       "      <th>12</th>\n",
       "      <td>arts</td>\n",
       "      <td>debate</td>\n",
       "      <td>11.53</td>\n",
       "      <td>96.2</td>\n",
       "    </tr>\n",
       "    <tr>\n",
       "      <th>13</th>\n",
       "      <td>science</td>\n",
       "      <td>debate</td>\n",
       "      <td>7.10</td>\n",
       "      <td>62.9</td>\n",
       "    </tr>\n",
       "    <tr>\n",
       "      <th>14</th>\n",
       "      <td>science</td>\n",
       "      <td>lecture</td>\n",
       "      <td>6.39</td>\n",
       "      <td>57.6</td>\n",
       "    </tr>\n",
       "    <tr>\n",
       "      <th>15</th>\n",
       "      <td>arts</td>\n",
       "      <td>debate</td>\n",
       "      <td>12.00</td>\n",
       "      <td>84.3</td>\n",
       "    </tr>\n",
       "  </tbody>\n",
       "</table>\n",
       "</div>"
      ],
      "text/plain": [
       "           background curriculum  effort  score\n",
       "student_ID                                     \n",
       "1                arts     debate   10.96   75.0\n",
       "2             science    lecture    8.69   75.0\n",
       "3                arts     debate    8.60   67.0\n",
       "4                arts    lecture    7.92   70.3\n",
       "5             science     debate    9.90   76.1\n",
       "6            business     debate   10.80   79.8\n",
       "7             science    lecture    7.81   72.7\n",
       "8            business    lecture    9.13   75.4\n",
       "9            business    lecture    5.21   57.0\n",
       "10            science    lecture    7.71   69.0\n",
       "11           business     debate    9.82   70.4\n",
       "12               arts     debate   11.53   96.2\n",
       "13            science     debate    7.10   62.9\n",
       "14            science    lecture    6.39   57.6\n",
       "15               arts     debate   12.00   84.3"
      ]
     },
     "execution_count": 6,
     "metadata": {},
     "output_type": "execute_result"
    }
   ],
   "source": [
    "students"
   ]
  },
  {
   "cell_type": "code",
   "execution_count": 7,
   "metadata": {},
   "outputs": [
    {
     "data": {
      "text/plain": [
       "pandas.core.frame.DataFrame"
      ]
     },
     "execution_count": 7,
     "metadata": {},
     "output_type": "execute_result"
    }
   ],
   "source": [
    "# what type of object is `students`?\n",
    "type(students)"
   ]
  },
  {
   "cell_type": "code",
   "execution_count": 8,
   "metadata": {
    "colab": {
     "base_uri": "https://localhost:8080/"
    },
    "executionInfo": {
     "elapsed": 415,
     "status": "ok",
     "timestamp": 1620080348254,
     "user": {
      "displayName": "Ivan Savov",
      "photoUrl": "https://lh3.googleusercontent.com/a-/AOh14GgM13MuJiia2gUK23ZS4gJbjbYEAe1_3dxb5acpnQ=s64",
      "userId": "13320182563968762712"
     },
     "user_tz": 240
    },
    "id": "UZqKw-bFLqcz",
    "outputId": "da6c0cd7-12e2-4d1b-d326-4e932aa5f603"
   },
   "outputs": [
    {
     "data": {
      "text/plain": [
       "Int64Index([1, 2, 3, 4, 5, 6, 7, 8, 9, 10, 11, 12, 13, 14, 15], dtype='int64', name='student_ID')"
      ]
     },
     "execution_count": 8,
     "metadata": {},
     "output_type": "execute_result"
    }
   ],
   "source": [
    "# rows\n",
    "students.index"
   ]
  },
  {
   "cell_type": "code",
   "execution_count": 9,
   "metadata": {
    "colab": {
     "base_uri": "https://localhost:8080/"
    },
    "executionInfo": {
     "elapsed": 377,
     "status": "ok",
     "timestamp": 1620080350533,
     "user": {
      "displayName": "Ivan Savov",
      "photoUrl": "https://lh3.googleusercontent.com/a-/AOh14GgM13MuJiia2gUK23ZS4gJbjbYEAe1_3dxb5acpnQ=s64",
      "userId": "13320182563968762712"
     },
     "user_tz": 240
    },
    "id": "-5FJptNcLWvN",
    "outputId": "cd7bdc3d-38f3-4e8e-c6c8-d9789739edeb"
   },
   "outputs": [
    {
     "data": {
      "text/plain": [
       "Index(['background', 'curriculum', 'effort', 'score'], dtype='object')"
      ]
     },
     "execution_count": 9,
     "metadata": {},
     "output_type": "execute_result"
    }
   ],
   "source": [
    "# columns\n",
    "students.columns"
   ]
  },
  {
   "cell_type": "code",
   "execution_count": 10,
   "metadata": {},
   "outputs": [
    {
     "name": "stdout",
     "output_type": "stream",
     "text": [
      "<class 'pandas.core.frame.DataFrame'>\n",
      "Int64Index: 15 entries, 1 to 15\n",
      "Data columns (total 4 columns):\n",
      " #   Column      Non-Null Count  Dtype  \n",
      "---  ------      --------------  -----  \n",
      " 0   background  15 non-null     object \n",
      " 1   curriculum  15 non-null     object \n",
      " 2   effort      15 non-null     float64\n",
      " 3   score       15 non-null     float64\n",
      "dtypes: float64(2), object(2)\n",
      "memory usage: 600.0+ bytes\n"
     ]
    }
   ],
   "source": [
    "# info about memory and data types of each column\n",
    "students.info()"
   ]
  },
  {
   "cell_type": "markdown",
   "metadata": {
    "id": "evCXgKk6ND5B"
   },
   "source": [
    "# Describing numeric data"
   ]
  },
  {
   "cell_type": "markdown",
   "metadata": {
    "id": "evCXgKk6ND5B"
   },
   "source": [
    "Let's look at the `score` variable."
   ]
  },
  {
   "cell_type": "code",
   "execution_count": 11,
   "metadata": {
    "colab": {
     "base_uri": "https://localhost:8080/"
    },
    "executionInfo": {
     "elapsed": 612,
     "status": "ok",
     "timestamp": 1620080353830,
     "user": {
      "displayName": "Ivan Savov",
      "photoUrl": "https://lh3.googleusercontent.com/a-/AOh14GgM13MuJiia2gUK23ZS4gJbjbYEAe1_3dxb5acpnQ=s64",
      "userId": "13320182563968762712"
     },
     "user_tz": 240
    },
    "id": "QlBxDHISMmAe",
    "outputId": "85bd7eba-a218-4875-e741-0a8605e0cb4c"
   },
   "outputs": [
    {
     "data": {
      "text/plain": [
       "15"
      ]
     },
     "execution_count": 11,
     "metadata": {},
     "output_type": "execute_result"
    }
   ],
   "source": [
    "students[\"score\"].count()"
   ]
  },
  {
   "cell_type": "code",
   "execution_count": 12,
   "metadata": {},
   "outputs": [
    {
     "data": {
      "text/plain": [
       "array([57. , 57.6, 62.9, 67. , 69. , 70.3, 70.4, 72.7, 75. , 75. , 75.4,\n",
       "       76.1, 79.8, 84.3, 96.2])"
      ]
     },
     "execution_count": 12,
     "metadata": {},
     "output_type": "execute_result"
    }
   ],
   "source": [
    "students[\"score\"].sort_values().values"
   ]
  },
  {
   "cell_type": "code",
   "execution_count": 13,
   "metadata": {},
   "outputs": [],
   "source": [
    "# # ALT\n",
    "# sorted(students['score'])"
   ]
  },
  {
   "cell_type": "markdown",
   "metadata": {},
   "source": [
    "### Min, max, and median"
   ]
  },
  {
   "cell_type": "code",
   "execution_count": 14,
   "metadata": {
    "colab": {
     "base_uri": "https://localhost:8080/"
    },
    "executionInfo": {
     "elapsed": 407,
     "status": "ok",
     "timestamp": 1620080250818,
     "user": {
      "displayName": "Ivan Savov",
      "photoUrl": "https://lh3.googleusercontent.com/a-/AOh14GgM13MuJiia2gUK23ZS4gJbjbYEAe1_3dxb5acpnQ=s64",
      "userId": "13320182563968762712"
     },
     "user_tz": 240
    },
    "id": "3Xk2-OFnNr6b",
    "outputId": "b912a5ee-022f-43f0-b9f2-e77423e0da0f"
   },
   "outputs": [
    {
     "data": {
      "text/plain": [
       "57.0"
      ]
     },
     "execution_count": 14,
     "metadata": {},
     "output_type": "execute_result"
    }
   ],
   "source": [
    "students[\"score\"].min()"
   ]
  },
  {
   "cell_type": "code",
   "execution_count": 15,
   "metadata": {},
   "outputs": [
    {
     "data": {
      "text/plain": [
       "96.2"
      ]
     },
     "execution_count": 15,
     "metadata": {},
     "output_type": "execute_result"
    }
   ],
   "source": [
    "students[\"score\"].max()"
   ]
  },
  {
   "cell_type": "code",
   "execution_count": 16,
   "metadata": {},
   "outputs": [
    {
     "data": {
      "text/plain": [
       "39.2"
      ]
     },
     "execution_count": 16,
     "metadata": {},
     "output_type": "execute_result"
    }
   ],
   "source": [
    "students[\"score\"].max() - students[\"score\"].min()  # Range"
   ]
  },
  {
   "cell_type": "code",
   "execution_count": 17,
   "metadata": {
    "colab": {
     "base_uri": "https://localhost:8080/"
    },
    "executionInfo": {
     "elapsed": 399,
     "status": "ok",
     "timestamp": 1620078690252,
     "user": {
      "displayName": "Ivan Savov",
      "photoUrl": "https://lh3.googleusercontent.com/a-/AOh14GgM13MuJiia2gUK23ZS4gJbjbYEAe1_3dxb5acpnQ=s64",
      "userId": "13320182563968762712"
     },
     "user_tz": 240
    },
    "id": "1jOb5cuoJlj9",
    "outputId": "2e81f0e6-afb4-4a7b-a0d9-07962e67199d"
   },
   "outputs": [
    {
     "data": {
      "text/plain": [
       "72.7"
      ]
     },
     "execution_count": 17,
     "metadata": {},
     "output_type": "execute_result"
    }
   ],
   "source": [
    "students[\"score\"].median()"
   ]
  },
  {
   "cell_type": "code",
   "execution_count": 18,
   "metadata": {},
   "outputs": [
    {
     "data": {
      "text/plain": [
       "<AxesSubplot:xlabel='score'>"
      ]
     },
     "execution_count": 18,
     "metadata": {},
     "output_type": "execute_result"
    },
    {
     "data": {
      "image/png": "[encoded data removed]",
      "text/plain": [
       "<Figure size 504x288 with 1 Axes>"
      ]
     },
     "metadata": {
      "image/png": {
       "height": 262,
       "width": 405
      }
     },
     "output_type": "display_data"
    }
   ],
   "source": [
    "sns.stripplot(x=\"score\", data=students, jitter=0.03, alpha=0.6)"
   ]
  },
  {
   "cell_type": "code",
   "execution_count": 19,
   "metadata": {},
   "outputs": [],
   "source": [
    "# # ALT  also show mean via https://stackoverflow.com/a/67579487/127114\n",
    "# with plt.rc_context({\"figure.figsize\":(7,2)}):\n",
    "#     sns.stripplot(x=\"score\", data=students, jitter=0.03, alpha=0.6)\n",
    "#     color0 = sns.color_palette()[0]\n",
    "#     sns.boxplot(showmeans=True,\n",
    "#                 meanline=True,\n",
    "#                 meanprops={'color': color0, 'ls': '-', 'lw': 2},\n",
    "#                 medianprops={'visible': False},\n",
    "#                 whiskerprops={'visible': False},\n",
    "#                 zorder=10,\n",
    "#                 x=\"score\",\n",
    "#                 data=students,\n",
    "#                 showfliers=False,\n",
    "#                 showbox=False,\n",
    "#                 showcaps=False)"
   ]
  },
  {
   "cell_type": "markdown",
   "metadata": {},
   "source": [
    "### Mean, variance, and standard deviation"
   ]
  },
  {
   "cell_type": "code",
   "execution_count": 20,
   "metadata": {},
   "outputs": [
    {
     "data": {
      "text/plain": [
       "72.58"
      ]
     },
     "execution_count": 20,
     "metadata": {},
     "output_type": "execute_result"
    }
   ],
   "source": [
    "students[\"score\"].mean()"
   ]
  },
  {
   "cell_type": "code",
   "execution_count": 21,
   "metadata": {
    "colab": {
     "base_uri": "https://localhost:8080/"
    },
    "executionInfo": {
     "elapsed": 435,
     "status": "ok",
     "timestamp": 1620078956726,
     "user": {
      "displayName": "Ivan Savov",
      "photoUrl": "https://lh3.googleusercontent.com/a-/AOh14GgM13MuJiia2gUK23ZS4gJbjbYEAe1_3dxb5acpnQ=s64",
      "userId": "13320182563968762712"
     },
     "user_tz": 240
    },
    "id": "-ZNyl9hBN8FR",
    "outputId": "604032e8-6785-4eae-d34f-97ce8f169369"
   },
   "outputs": [
    {
     "data": {
      "text/plain": [
       "99.58600000000001"
      ]
     },
     "execution_count": 21,
     "metadata": {},
     "output_type": "execute_result"
    }
   ],
   "source": [
    "students[\"score\"].var()  # sample variance, 1/(n-1) EE(x-mean)^2"
   ]
  },
  {
   "cell_type": "code",
   "execution_count": 22,
   "metadata": {
    "colab": {
     "base_uri": "https://localhost:8080/"
    },
    "executionInfo": {
     "elapsed": 463,
     "status": "ok",
     "timestamp": 1620078957060,
     "user": {
      "displayName": "Ivan Savov",
      "photoUrl": "https://lh3.googleusercontent.com/a-/AOh14GgM13MuJiia2gUK23ZS4gJbjbYEAe1_3dxb5acpnQ=s64",
      "userId": "13320182563968762712"
     },
     "user_tz": 240
    },
    "id": "Tm-Xu3bBOnoj",
    "outputId": "886f7d7c-e042-4de8-f7ac-d2a612988194"
   },
   "outputs": [
    {
     "data": {
      "text/plain": [
       "9.979278531036199"
      ]
     },
     "execution_count": 22,
     "metadata": {},
     "output_type": "execute_result"
    }
   ],
   "source": [
    "students[\"score\"].std()"
   ]
  },
  {
   "cell_type": "code",
   "execution_count": null,
   "metadata": {
    "colab": {
     "base_uri": "https://localhost:8080/"
    },
    "executionInfo": {
     "elapsed": 430,
     "status": "ok",
     "timestamp": 1620078964522,
     "user": {
      "displayName": "Ivan Savov",
      "photoUrl": "https://lh3.googleusercontent.com/a-/AOh14GgM13MuJiia2gUK23ZS4gJbjbYEAe1_3dxb5acpnQ=s64",
      "userId": "13320182563968762712"
     },
     "user_tz": 240
    },
    "id": "zI1C4QxtN06E",
    "outputId": "e8d76637-5525-415a-da1f-160c32d599db"
   },
   "outputs": [],
   "source": []
  },
  {
   "cell_type": "code",
   "execution_count": 23,
   "metadata": {
    "id": "O4F0yiJPRSz0"
   },
   "outputs": [],
   "source": [
    "# # ALT -- calculated using populaiton formulas\n",
    "# students[\"score\"].var(ddof=0)  # population variance, 1/n EE(x-mean)^2  (no bias-correction)\n",
    "# students[\"score\"].std(ddof=0)"
   ]
  },
  {
   "cell_type": "markdown",
   "metadata": {},
   "source": [
    "## Histograms"
   ]
  },
  {
   "cell_type": "code",
   "execution_count": 24,
   "metadata": {
    "colab": {
     "base_uri": "https://localhost:8080/"
    },
    "executionInfo": {
     "elapsed": 406,
     "status": "ok",
     "timestamp": 1620080883499,
     "user": {
      "displayName": "Ivan Savov",
      "photoUrl": "https://lh3.googleusercontent.com/a-/AOh14GgM13MuJiia2gUK23ZS4gJbjbYEAe1_3dxb5acpnQ=s64",
      "userId": "13320182563968762712"
     },
     "user_tz": 240
    },
    "id": "-eTLlvMWOPPP",
    "outputId": "2350d6fe-4574-4a92-83b4-8552b28c9c45"
   },
   "outputs": [
    {
     "data": {
      "text/plain": [
       "(49.999, 60.0]    2\n",
       "(60.0, 70.0]      3\n",
       "(70.0, 80.0]      8\n",
       "(80.0, 90.0]      1\n",
       "(90.0, 100.0]     1\n",
       "Name: score, dtype: int64"
      ]
     },
     "execution_count": 24,
     "metadata": {},
     "output_type": "execute_result"
    }
   ],
   "source": [
    "students[\"score\"].value_counts(bins=[50,60,70,80,90,100]).sort_index()"
   ]
  },
  {
   "cell_type": "code",
   "execution_count": 25,
   "metadata": {
    "id": "LRTdFsHBWUZh"
   },
   "outputs": [],
   "source": [
    "# note mode is the bin 70--80, which contains 8 values"
   ]
  },
  {
   "cell_type": "code",
   "execution_count": 26,
   "metadata": {},
   "outputs": [
    {
     "data": {
      "text/plain": [
       "<AxesSubplot:xlabel='score', ylabel='Count'>"
      ]
     },
     "execution_count": 26,
     "metadata": {},
     "output_type": "execute_result"
    },
    {
     "data": {
      "image/png": "[encoded data removed]",
      "text/plain": [
       "<Figure size 504x288 with 1 Axes>"
      ]
     },
     "metadata": {
      "image/png": {
       "height": 262,
       "width": 431
      }
     },
     "output_type": "display_data"
    }
   ],
   "source": [
    "sns.histplot(x=\"score\", data=students,\n",
    "             bins=[50,60,70,80,90,100])"
   ]
  },
  {
   "cell_type": "code",
   "execution_count": 27,
   "metadata": {},
   "outputs": [],
   "source": [
    "# # ALT using Pandas plotting capabilities\n",
    "# students['score'].hist(bins=[50,60,70,80,90,100])"
   ]
  },
  {
   "cell_type": "code",
   "execution_count": null,
   "metadata": {},
   "outputs": [],
   "source": []
  },
  {
   "cell_type": "markdown",
   "metadata": {},
   "source": [
    "## Quartiles and box plots"
   ]
  },
  {
   "cell_type": "code",
   "execution_count": 28,
   "metadata": {
    "colab": {
     "base_uri": "https://localhost:8080/"
    },
    "executionInfo": {
     "elapsed": 383,
     "status": "ok",
     "timestamp": 1620080750460,
     "user": {
      "displayName": "Ivan Savov",
      "photoUrl": "https://lh3.googleusercontent.com/a-/AOh14GgM13MuJiia2gUK23ZS4gJbjbYEAe1_3dxb5acpnQ=s64",
      "userId": "13320182563968762712"
     },
     "user_tz": 240
    },
    "id": "Qw5J6BZPSkSC",
    "outputId": "82577f28-6900-48a9-a9a8-f3bfd0e9a8d8"
   },
   "outputs": [
    {
     "data": {
      "text/plain": [
       "68.0"
      ]
     },
     "execution_count": 28,
     "metadata": {},
     "output_type": "execute_result"
    }
   ],
   "source": [
    "Q1 = students[\"score\"].quantile(0.25)\n",
    "Q1"
   ]
  },
  {
   "cell_type": "code",
   "execution_count": 29,
   "metadata": {
    "colab": {
     "base_uri": "https://localhost:8080/"
    },
    "executionInfo": {
     "elapsed": 414,
     "status": "ok",
     "timestamp": 1620080766403,
     "user": {
      "displayName": "Ivan Savov",
      "photoUrl": "https://lh3.googleusercontent.com/a-/AOh14GgM13MuJiia2gUK23ZS4gJbjbYEAe1_3dxb5acpnQ=s64",
      "userId": "13320182563968762712"
     },
     "user_tz": 240
    },
    "id": "mL38GGdfVogt",
    "outputId": "36aa4b43-2407-4c40-eaf8-a79238a6e61c"
   },
   "outputs": [
    {
     "data": {
      "text/plain": [
       "72.7"
      ]
     },
     "execution_count": 29,
     "metadata": {},
     "output_type": "execute_result"
    }
   ],
   "source": [
    "students[\"score\"].quantile(0.5)  # Q2 = median"
   ]
  },
  {
   "cell_type": "code",
   "execution_count": 30,
   "metadata": {
    "colab": {
     "base_uri": "https://localhost:8080/"
    },
    "executionInfo": {
     "elapsed": 432,
     "status": "ok",
     "timestamp": 1620080772519,
     "user": {
      "displayName": "Ivan Savov",
      "photoUrl": "https://lh3.googleusercontent.com/a-/AOh14GgM13MuJiia2gUK23ZS4gJbjbYEAe1_3dxb5acpnQ=s64",
      "userId": "13320182563968762712"
     },
     "user_tz": 240
    },
    "id": "cBJGFJu5VoFF",
    "outputId": "f18d097d-f902-4ebc-ec7d-7997306c04ce"
   },
   "outputs": [
    {
     "data": {
      "text/plain": [
       "75.75"
      ]
     },
     "execution_count": 30,
     "metadata": {},
     "output_type": "execute_result"
    }
   ],
   "source": [
    "Q3 = students[\"score\"].quantile(0.75)\n",
    "Q3"
   ]
  },
  {
   "cell_type": "code",
   "execution_count": 31,
   "metadata": {
    "colab": {
     "base_uri": "https://localhost:8080/"
    },
    "executionInfo": {
     "elapsed": 399,
     "status": "ok",
     "timestamp": 1620080823892,
     "user": {
      "displayName": "Ivan Savov",
      "photoUrl": "https://lh3.googleusercontent.com/a-/AOh14GgM13MuJiia2gUK23ZS4gJbjbYEAe1_3dxb5acpnQ=s64",
      "userId": "13320182563968762712"
     },
     "user_tz": 240
    },
    "id": "OvyUz9iuUjbg",
    "outputId": "5e0e4b00-d5ee-411b-95ef-3d202e1cff31"
   },
   "outputs": [
    {
     "data": {
      "text/plain": [
       "7.75"
      ]
     },
     "execution_count": 31,
     "metadata": {},
     "output_type": "execute_result"
    }
   ],
   "source": [
    "IQR = Q3 - Q1\n",
    "IQR"
   ]
  },
  {
   "cell_type": "code",
   "execution_count": 32,
   "metadata": {
    "id": "xsFX7HOfReBJ"
   },
   "outputs": [],
   "source": [
    "# # ALT use iqr function from scipy\n",
    "# from scipy import stats\n",
    "# stats.iqr(students[\"score\"])"
   ]
  },
  {
   "cell_type": "code",
   "execution_count": 33,
   "metadata": {
    "colab": {
     "base_uri": "https://localhost:8080/",
     "height": 296
    },
    "executionInfo": {
     "elapsed": 624,
     "status": "ok",
     "timestamp": 1620080747866,
     "user": {
      "displayName": "Ivan Savov",
      "photoUrl": "https://lh3.googleusercontent.com/a-/AOh14GgM13MuJiia2gUK23ZS4gJbjbYEAe1_3dxb5acpnQ=s64",
      "userId": "13320182563968762712"
     },
     "user_tz": 240
    },
    "id": "Y2XAO_XcRZxp",
    "outputId": "9ae53dfa-db78-49a1-ebc7-bba8b698cb4e"
   },
   "outputs": [
    {
     "data": {
      "text/plain": [
       "<AxesSubplot:xlabel='score'>"
      ]
     },
     "execution_count": 33,
     "metadata": {},
     "output_type": "execute_result"
    },
    {
     "data": {
      "image/png": "[encoded data removed]",
      "text/plain": [
       "<Figure size 504x288 with 1 Axes>"
      ]
     },
     "metadata": {
      "image/png": {
       "height": 262,
       "width": 405
      }
     },
     "output_type": "display_data"
    }
   ],
   "source": [
    "# box plot\n",
    "sns.boxplot(x=\"score\", data=students, width=0.4)"
   ]
  },
  {
   "cell_type": "markdown",
   "metadata": {},
   "source": [
    "## All summary statistics"
   ]
  },
  {
   "cell_type": "code",
   "execution_count": 34,
   "metadata": {},
   "outputs": [
    {
     "data": {
      "text/plain": [
       "count    15.00\n",
       "mean     72.58\n",
       "std       9.98\n",
       "min      57.00\n",
       "25%      68.00\n",
       "50%      72.70\n",
       "75%      75.75\n",
       "max      96.20\n",
       "Name: score, dtype: float64"
      ]
     },
     "execution_count": 34,
     "metadata": {},
     "output_type": "execute_result"
    }
   ],
   "source": [
    "students[\"score\"].describe()"
   ]
  },
  {
   "cell_type": "code",
   "execution_count": 35,
   "metadata": {},
   "outputs": [
    {
     "data": {
      "text/html": [
       "<div>\n",
       "<style scoped>\n",
       "    .dataframe tbody tr th:only-of-type {\n",
       "        vertical-align: middle;\n",
       "    }\n",
       "\n",
       "    .dataframe tbody tr th {\n",
       "        vertical-align: top;\n",
       "    }\n",
       "\n",
       "    .dataframe thead th {\n",
       "        text-align: right;\n",
       "    }\n",
       "</style>\n",
       "<table border=\"1\" class=\"dataframe\">\n",
       "  <thead>\n",
       "    <tr style=\"text-align: right;\">\n",
       "      <th></th>\n",
       "      <th>count</th>\n",
       "      <th>mean</th>\n",
       "      <th>std</th>\n",
       "      <th>min</th>\n",
       "      <th>25%</th>\n",
       "      <th>50%</th>\n",
       "      <th>75%</th>\n",
       "      <th>max</th>\n",
       "    </tr>\n",
       "  </thead>\n",
       "  <tbody>\n",
       "    <tr>\n",
       "      <th>score</th>\n",
       "      <td>15.0</td>\n",
       "      <td>72.58</td>\n",
       "      <td>9.98</td>\n",
       "      <td>57.0</td>\n",
       "      <td>68.0</td>\n",
       "      <td>72.7</td>\n",
       "      <td>75.75</td>\n",
       "      <td>96.2</td>\n",
       "    </tr>\n",
       "  </tbody>\n",
       "</table>\n",
       "</div>"
      ],
      "text/plain": [
       "       count   mean   std   min   25%   50%    75%   max\n",
       "score   15.0  72.58  9.98  57.0  68.0  72.7  75.75  96.2"
      ]
     },
     "execution_count": 35,
     "metadata": {},
     "output_type": "execute_result"
    }
   ],
   "source": [
    "students[[\"score\"]].describe().T"
   ]
  },
  {
   "cell_type": "markdown",
   "metadata": {
    "id": "-xLQ3EThbblV"
   },
   "source": [
    "## Comparing two numeric variables\n"
   ]
  },
  {
   "cell_type": "code",
   "execution_count": 36,
   "metadata": {
    "colab": {
     "base_uri": "https://localhost:8080/",
     "height": 296
    },
    "executionInfo": {
     "elapsed": 569,
     "status": "ok",
     "timestamp": 1620082364267,
     "user": {
      "displayName": "Ivan Savov",
      "photoUrl": "https://lh3.googleusercontent.com/a-/AOh14GgM13MuJiia2gUK23ZS4gJbjbYEAe1_3dxb5acpnQ=s64",
      "userId": "13320182563968762712"
     },
     "user_tz": 240
    },
    "id": "ud0vh9Uabc6c",
    "outputId": "264b7d2a-b5fe-4e8c-86e4-ffd806e8ac9b"
   },
   "outputs": [
    {
     "data": {
      "text/plain": [
       "<AxesSubplot:xlabel='effort', ylabel='score'>"
      ]
     },
     "execution_count": 36,
     "metadata": {},
     "output_type": "execute_result"
    },
    {
     "data": {
      "image/png": "[encoded data removed]",
      "text/plain": [
       "<Figure size 504x288 with 1 Axes>"
      ]
     },
     "metadata": {
      "image/png": {
       "height": 262,
       "width": 436
      }
     },
     "output_type": "display_data"
    }
   ],
   "source": [
    "sns.scatterplot(x=\"effort\", y=\"score\", data=students)"
   ]
  },
  {
   "cell_type": "markdown",
   "metadata": {},
   "source": [
    "### Covariance and correlation"
   ]
  },
  {
   "cell_type": "code",
   "execution_count": 37,
   "metadata": {
    "colab": {
     "base_uri": "https://localhost:8080/"
    },
    "executionInfo": {
     "elapsed": 375,
     "status": "ok",
     "timestamp": 1620082617201,
     "user": {
      "displayName": "Ivan Savov",
      "photoUrl": "https://lh3.googleusercontent.com/a-/AOh14GgM13MuJiia2gUK23ZS4gJbjbYEAe1_3dxb5acpnQ=s64",
      "userId": "13320182563968762712"
     },
     "user_tz": 240
    },
    "id": "PEmO45ppcCte",
    "outputId": "4ff85942-38ce-41ce-cee3-8c9791d1c3d5"
   },
   "outputs": [
    {
     "data": {
      "text/html": [
       "<div>\n",
       "<style scoped>\n",
       "    .dataframe tbody tr th:only-of-type {\n",
       "        vertical-align: middle;\n",
       "    }\n",
       "\n",
       "    .dataframe tbody tr th {\n",
       "        vertical-align: top;\n",
       "    }\n",
       "\n",
       "    .dataframe thead th {\n",
       "        text-align: right;\n",
       "    }\n",
       "</style>\n",
       "<table border=\"1\" class=\"dataframe\">\n",
       "  <thead>\n",
       "    <tr style=\"text-align: right;\">\n",
       "      <th></th>\n",
       "      <th>effort</th>\n",
       "      <th>score</th>\n",
       "    </tr>\n",
       "  </thead>\n",
       "  <tbody>\n",
       "    <tr>\n",
       "      <th>effort</th>\n",
       "      <td>3.8</td>\n",
       "      <td>17.10</td>\n",
       "    </tr>\n",
       "    <tr>\n",
       "      <th>score</th>\n",
       "      <td>17.1</td>\n",
       "      <td>99.59</td>\n",
       "    </tr>\n",
       "  </tbody>\n",
       "</table>\n",
       "</div>"
      ],
      "text/plain": [
       "        effort  score\n",
       "effort     3.8  17.10\n",
       "score     17.1  99.59"
      ]
     },
     "execution_count": 37,
     "metadata": {},
     "output_type": "execute_result"
    }
   ],
   "source": [
    "students[[\"effort\", \"score\"]].cov()"
   ]
  },
  {
   "cell_type": "code",
   "execution_count": 38,
   "metadata": {},
   "outputs": [
    {
     "data": {
      "text/html": [
       "<div>\n",
       "<style scoped>\n",
       "    .dataframe tbody tr th:only-of-type {\n",
       "        vertical-align: middle;\n",
       "    }\n",
       "\n",
       "    .dataframe tbody tr th {\n",
       "        vertical-align: top;\n",
       "    }\n",
       "\n",
       "    .dataframe thead th {\n",
       "        text-align: right;\n",
       "    }\n",
       "</style>\n",
       "<table border=\"1\" class=\"dataframe\">\n",
       "  <thead>\n",
       "    <tr style=\"text-align: right;\">\n",
       "      <th></th>\n",
       "      <th>effort</th>\n",
       "      <th>score</th>\n",
       "    </tr>\n",
       "  </thead>\n",
       "  <tbody>\n",
       "    <tr>\n",
       "      <th>effort</th>\n",
       "      <td>1.00</td>\n",
       "      <td>0.88</td>\n",
       "    </tr>\n",
       "    <tr>\n",
       "      <th>score</th>\n",
       "      <td>0.88</td>\n",
       "      <td>1.00</td>\n",
       "    </tr>\n",
       "  </tbody>\n",
       "</table>\n",
       "</div>"
      ],
      "text/plain": [
       "        effort  score\n",
       "effort    1.00   0.88\n",
       "score     0.88   1.00"
      ]
     },
     "execution_count": 38,
     "metadata": {},
     "output_type": "execute_result"
    }
   ],
   "source": [
    "students[[\"effort\", \"score\"]].corr()"
   ]
  },
  {
   "cell_type": "code",
   "execution_count": null,
   "metadata": {},
   "outputs": [],
   "source": []
  },
  {
   "cell_type": "markdown",
   "metadata": {},
   "source": [
    "## Multiple numerical variables"
   ]
  },
  {
   "cell_type": "code",
   "execution_count": 39,
   "metadata": {},
   "outputs": [
    {
     "data": {
      "text/html": [
       "<div>\n",
       "<style scoped>\n",
       "    .dataframe tbody tr th:only-of-type {\n",
       "        vertical-align: middle;\n",
       "    }\n",
       "\n",
       "    .dataframe tbody tr th {\n",
       "        vertical-align: top;\n",
       "    }\n",
       "\n",
       "    .dataframe thead th {\n",
       "        text-align: right;\n",
       "    }\n",
       "</style>\n",
       "<table border=\"1\" class=\"dataframe\">\n",
       "  <thead>\n",
       "    <tr style=\"text-align: right;\">\n",
       "      <th></th>\n",
       "      <th>count</th>\n",
       "      <th>mean</th>\n",
       "      <th>std</th>\n",
       "      <th>min</th>\n",
       "      <th>25%</th>\n",
       "      <th>50%</th>\n",
       "      <th>75%</th>\n",
       "      <th>max</th>\n",
       "    </tr>\n",
       "    <tr>\n",
       "      <th>curriculum</th>\n",
       "      <th></th>\n",
       "      <th></th>\n",
       "      <th></th>\n",
       "      <th></th>\n",
       "      <th></th>\n",
       "      <th></th>\n",
       "      <th></th>\n",
       "      <th></th>\n",
       "    </tr>\n",
       "  </thead>\n",
       "  <tbody>\n",
       "    <tr>\n",
       "      <th>debate</th>\n",
       "      <td>8.0</td>\n",
       "      <td>76.46</td>\n",
       "      <td>10.52</td>\n",
       "      <td>62.9</td>\n",
       "      <td>69.55</td>\n",
       "      <td>75.55</td>\n",
       "      <td>80.92</td>\n",
       "      <td>96.2</td>\n",
       "    </tr>\n",
       "    <tr>\n",
       "      <th>lecture</th>\n",
       "      <td>7.0</td>\n",
       "      <td>68.14</td>\n",
       "      <td>7.76</td>\n",
       "      <td>57.0</td>\n",
       "      <td>63.30</td>\n",
       "      <td>70.30</td>\n",
       "      <td>73.85</td>\n",
       "      <td>75.4</td>\n",
       "    </tr>\n",
       "  </tbody>\n",
       "</table>\n",
       "</div>"
      ],
      "text/plain": [
       "            count   mean    std   min    25%    50%    75%   max\n",
       "curriculum                                                      \n",
       "debate        8.0  76.46  10.52  62.9  69.55  75.55  80.92  96.2\n",
       "lecture       7.0  68.14   7.76  57.0  63.30  70.30  73.85  75.4"
      ]
     },
     "execution_count": 39,
     "metadata": {},
     "output_type": "execute_result"
    }
   ],
   "source": [
    "students.groupby(\"curriculum\")[\"score\"].describe()"
   ]
  },
  {
   "cell_type": "code",
   "execution_count": 40,
   "metadata": {},
   "outputs": [
    {
     "data": {
      "text/plain": [
       "<AxesSubplot:xlabel='score', ylabel='curriculum'>"
      ]
     },
     "execution_count": 40,
     "metadata": {},
     "output_type": "execute_result"
    },
    {
     "data": {
      "image/png": "[encoded data removed]",
      "text/plain": [
       "<Figure size 504x288 with 1 Axes>"
      ]
     },
     "metadata": {
      "image/png": {
       "height": 262,
       "width": 453
      }
     },
     "output_type": "display_data"
    }
   ],
   "source": [
    "sns.stripplot(x=\"score\", y=\"curriculum\", data=students)"
   ]
  },
  {
   "cell_type": "code",
   "execution_count": 41,
   "metadata": {},
   "outputs": [
    {
     "data": {
      "text/plain": [
       "<AxesSubplot:xlabel='score', ylabel='curriculum'>"
      ]
     },
     "execution_count": 41,
     "metadata": {},
     "output_type": "execute_result"
    },
    {
     "data": {
      "image/png": "[encoded data removed]",
      "text/plain": [
       "<Figure size 504x288 with 1 Axes>"
      ]
     },
     "metadata": {
      "image/png": {
       "height": 262,
       "width": 453
      }
     },
     "output_type": "display_data"
    }
   ],
   "source": [
    "sns.boxplot(x=\"score\", y=\"curriculum\", data=students, width=0.4)"
   ]
  },
  {
   "cell_type": "code",
   "execution_count": 42,
   "metadata": {},
   "outputs": [
    {
     "data": {
      "text/plain": [
       "<matplotlib.legend.Legend at 0x12613f520>"
      ]
     },
     "execution_count": 42,
     "metadata": {},
     "output_type": "execute_result"
    },
    {
     "data": {
      "image/png": "[encoded data removed]",
      "text/plain": [
       "<Figure size 504x288 with 2 Axes>"
      ]
     },
     "metadata": {
      "image/png": {
       "height": 262,
       "width": 431
      }
     },
     "output_type": "display_data"
    }
   ],
   "source": [
    "# histograms\n",
    "fig, axs = plt.subplots(2, 1, sharex=True)\n",
    "\n",
    "# prepare data\n",
    "dscores = students[students[\"curriculum\"]==\"debate\"]\n",
    "lscores = students[students[\"curriculum\"]==\"lecture\"]\n",
    "\n",
    "# select colors to use for the two groups  \n",
    "blue, yellow  = sns.color_palette()[0], sns.color_palette()[1]\n",
    "\n",
    "# plot histograms\n",
    "bins = [50, 60, 70, 80, 90, 100]\n",
    "sns.histplot(x=\"score\", data=dscores, color=blue, ax=axs[0], bins=bins)\n",
    "sns.histplot(x=\"score\", data=lscores, color=yellow, ax=axs[1], bins=bins)\n",
    "\n",
    "# add labels\n",
    "axs[0].legend(labels=[\"debate\"])\n",
    "axs[1].legend(labels=[\"lecture\"])"
   ]
  },
  {
   "cell_type": "code",
   "execution_count": 43,
   "metadata": {},
   "outputs": [],
   "source": [
    "# # ALT grouped bar charts\n",
    "# sns.histplot(x=\"score\", hue=\"curriculum\", data=students,\n",
    "#              bins=bins, multiple=\"dodge\")"
   ]
  },
  {
   "cell_type": "code",
   "execution_count": 44,
   "metadata": {},
   "outputs": [],
   "source": [
    "# # ALT use `displot` with curriculum as row-variable\n",
    "# bins = [50, 60, 70, 80, 90, 100]\n",
    "# sns.displot(x='score', row='curriculum', data=students,\n",
    "#             hue='curriculum', alpha=0.8, bins=bins, aspect=3.3, height=2)"
   ]
  },
  {
   "cell_type": "code",
   "execution_count": 45,
   "metadata": {},
   "outputs": [
    {
     "data": {
      "text/plain": [
       "<AxesSubplot:xlabel='curriculum', ylabel='score'>"
      ]
     },
     "execution_count": 45,
     "metadata": {},
     "output_type": "execute_result"
    },
    {
     "data": {
      "image/png": "[encoded data removed]",
      "text/plain": [
       "<Figure size 504x288 with 1 Axes>"
      ]
     },
     "metadata": {
      "image/png": {
       "height": 262,
       "width": 436
      }
     },
     "output_type": "display_data"
    }
   ],
   "source": [
    "import numpy as np\n",
    "from statistics import mean\n",
    "sns.barplot(x=\"curriculum\", y=\"score\", data=students,\n",
    "            estimator=np.mean, ci=\"sd\", capsize=.1)"
   ]
  },
  {
   "cell_type": "markdown",
   "metadata": {
    "id": "97XxbO8sXQUV"
   },
   "source": [
    "# Categorical data"
   ]
  },
  {
   "cell_type": "code",
   "execution_count": 46,
   "metadata": {
    "colab": {
     "base_uri": "https://localhost:8080/"
    },
    "executionInfo": {
     "elapsed": 636,
     "status": "ok",
     "timestamp": 1620082054403,
     "user": {
      "displayName": "Ivan Savov",
      "photoUrl": "https://lh3.googleusercontent.com/a-/AOh14GgM13MuJiia2gUK23ZS4gJbjbYEAe1_3dxb5acpnQ=s64",
      "userId": "13320182563968762712"
     },
     "user_tz": 240
    },
    "id": "diobFFhyXT-B",
    "outputId": "dddc612f-7d15-47c6-8ed8-f652416b5dbb"
   },
   "outputs": [
    {
     "data": {
      "text/plain": [
       "student_ID\n",
       "1         arts\n",
       "2      science\n",
       "3         arts\n",
       "4         arts\n",
       "5      science\n",
       "6     business\n",
       "7      science\n",
       "8     business\n",
       "9     business\n",
       "10     science\n",
       "11    business\n",
       "12        arts\n",
       "13     science\n",
       "14     science\n",
       "15        arts\n",
       "Name: background, dtype: object"
      ]
     },
     "execution_count": 46,
     "metadata": {},
     "output_type": "execute_result"
    }
   ],
   "source": [
    "students[\"background\"]"
   ]
  },
  {
   "cell_type": "code",
   "execution_count": 47,
   "metadata": {},
   "outputs": [
    {
     "data": {
      "text/plain": [
       "count          15\n",
       "unique          3\n",
       "top       science\n",
       "freq            6\n",
       "Name: background, dtype: object"
      ]
     },
     "execution_count": 47,
     "metadata": {},
     "output_type": "execute_result"
    }
   ],
   "source": [
    "students[\"background\"].describe()"
   ]
  },
  {
   "cell_type": "code",
   "execution_count": 48,
   "metadata": {
    "colab": {
     "base_uri": "https://localhost:8080/"
    },
    "executionInfo": {
     "elapsed": 417,
     "status": "ok",
     "timestamp": 1620082183672,
     "user": {
      "displayName": "Ivan Savov",
      "photoUrl": "https://lh3.googleusercontent.com/a-/AOh14GgM13MuJiia2gUK23ZS4gJbjbYEAe1_3dxb5acpnQ=s64",
      "userId": "13320182563968762712"
     },
     "user_tz": 240
    },
    "id": "z5Vn51LVaguu",
    "outputId": "550e6870-4a23-4ae1-ba1b-95e820991bb0"
   },
   "outputs": [
    {
     "data": {
      "text/plain": [
       "arts        5\n",
       "business    4\n",
       "science     6\n",
       "Name: background, dtype: int64"
      ]
     },
     "execution_count": 48,
     "metadata": {},
     "output_type": "execute_result"
    }
   ],
   "source": [
    "# frequencies\n",
    "students[\"background\"].value_counts().sort_index()"
   ]
  },
  {
   "cell_type": "code",
   "execution_count": 49,
   "metadata": {
    "colab": {
     "base_uri": "https://localhost:8080/"
    },
    "executionInfo": {
     "elapsed": 740,
     "status": "ok",
     "timestamp": 1620082150174,
     "user": {
      "displayName": "Ivan Savov",
      "photoUrl": "https://lh3.googleusercontent.com/a-/AOh14GgM13MuJiia2gUK23ZS4gJbjbYEAe1_3dxb5acpnQ=s64",
      "userId": "13320182563968762712"
     },
     "user_tz": 240
    },
    "id": "-OqH32ARa1v7",
    "outputId": "9e1ae4da-898a-46f5-cb9e-17b1ae7d1fe2"
   },
   "outputs": [
    {
     "data": {
      "text/plain": [
       "science     0.40\n",
       "arts        0.33\n",
       "business    0.27\n",
       "Name: background, dtype: float64"
      ]
     },
     "execution_count": 49,
     "metadata": {},
     "output_type": "execute_result"
    }
   ],
   "source": [
    "# relative frequencies\n",
    "students[\"background\"].value_counts(normalize=True)"
   ]
  },
  {
   "cell_type": "code",
   "execution_count": 50,
   "metadata": {},
   "outputs": [],
   "source": [
    "# # ALT\n",
    "# students[\"background\"].value_counts() / len(students[\"background\"])"
   ]
  },
  {
   "cell_type": "code",
   "execution_count": 51,
   "metadata": {},
   "outputs": [],
   "source": [
    "# # ALT  combiend table with both frequency and relative frequency\n",
    "# df2 = pd.DataFrame({\n",
    "#     \"frequency\": students[\"background\"].value_counts(),\n",
    "#     \"relative frequency\": students[\"background\"].value_counts(normalize=True)\n",
    "# })\n",
    "# df2"
   ]
  },
  {
   "cell_type": "code",
   "execution_count": null,
   "metadata": {},
   "outputs": [],
   "source": []
  },
  {
   "cell_type": "code",
   "execution_count": 52,
   "metadata": {
    "colab": {
     "base_uri": "https://localhost:8080/",
     "height": 296
    },
    "executionInfo": {
     "elapsed": 434,
     "status": "ok",
     "timestamp": 1620082206959,
     "user": {
      "displayName": "Ivan Savov",
      "photoUrl": "https://lh3.googleusercontent.com/a-/AOh14GgM13MuJiia2gUK23ZS4gJbjbYEAe1_3dxb5acpnQ=s64",
      "userId": "13320182563968762712"
     },
     "user_tz": 240
    },
    "id": "dVE6Zx6CZ0Ik",
    "outputId": "d23577d2-1acb-4c31-8938-ed6c595d193e"
   },
   "outputs": [
    {
     "data": {
      "text/plain": [
       "<AxesSubplot:xlabel='background', ylabel='count'>"
      ]
     },
     "execution_count": 52,
     "metadata": {},
     "output_type": "execute_result"
    },
    {
     "data": {
      "image/png": "[encoded data removed]",
      "text/plain": [
       "<Figure size 504x288 with 1 Axes>"
      ]
     },
     "metadata": {
      "image/png": {
       "height": 262,
       "width": 431
      }
     },
     "output_type": "display_data"
    }
   ],
   "source": [
    "# bar chart of counts\n",
    "sns.countplot(x=\"background\", data=students)"
   ]
  },
  {
   "cell_type": "code",
   "execution_count": 53,
   "metadata": {},
   "outputs": [],
   "source": [
    "# # ALT bar chart with relative frequencies\n",
    "# df3 = (students[\"background\"]\n",
    "#  .value_counts(normalize=True)\n",
    "#  .sort_index()\n",
    "#  .rename(\"relative frequency\")\n",
    "#  .rename_axis(\"background\")\n",
    "#  .reset_index()\n",
    "# )\n",
    "# sns.barplot(x=\"background\", y=\"relative frequency\", data=df3)"
   ]
  },
  {
   "cell_type": "code",
   "execution_count": null,
   "metadata": {},
   "outputs": [],
   "source": []
  },
  {
   "cell_type": "code",
   "execution_count": null,
   "metadata": {
    "id": "UN7U2DAedX9t"
   },
   "outputs": [],
   "source": []
  },
  {
   "cell_type": "markdown",
   "metadata": {
    "id": "YixN6-HpdY4W"
   },
   "source": [
    "## Comparing two categodescribeal variables"
   ]
  },
  {
   "cell_type": "code",
   "execution_count": 54,
   "metadata": {},
   "outputs": [
    {
     "data": {
      "text/html": [
       "<div>\n",
       "<style scoped>\n",
       "    .dataframe tbody tr th:only-of-type {\n",
       "        vertical-align: middle;\n",
       "    }\n",
       "\n",
       "    .dataframe tbody tr th {\n",
       "        vertical-align: top;\n",
       "    }\n",
       "\n",
       "    .dataframe thead th {\n",
       "        text-align: right;\n",
       "    }\n",
       "</style>\n",
       "<table border=\"1\" class=\"dataframe\">\n",
       "  <thead>\n",
       "    <tr style=\"text-align: right;\">\n",
       "      <th></th>\n",
       "      <th>background</th>\n",
       "      <th>curriculum</th>\n",
       "    </tr>\n",
       "    <tr>\n",
       "      <th>student_ID</th>\n",
       "      <th></th>\n",
       "      <th></th>\n",
       "    </tr>\n",
       "  </thead>\n",
       "  <tbody>\n",
       "    <tr>\n",
       "      <th>1</th>\n",
       "      <td>arts</td>\n",
       "      <td>debate</td>\n",
       "    </tr>\n",
       "    <tr>\n",
       "      <th>2</th>\n",
       "      <td>science</td>\n",
       "      <td>lecture</td>\n",
       "    </tr>\n",
       "    <tr>\n",
       "      <th>3</th>\n",
       "      <td>arts</td>\n",
       "      <td>debate</td>\n",
       "    </tr>\n",
       "    <tr>\n",
       "      <th>4</th>\n",
       "      <td>arts</td>\n",
       "      <td>lecture</td>\n",
       "    </tr>\n",
       "    <tr>\n",
       "      <th>5</th>\n",
       "      <td>science</td>\n",
       "      <td>debate</td>\n",
       "    </tr>\n",
       "    <tr>\n",
       "      <th>6</th>\n",
       "      <td>business</td>\n",
       "      <td>debate</td>\n",
       "    </tr>\n",
       "    <tr>\n",
       "      <th>7</th>\n",
       "      <td>science</td>\n",
       "      <td>lecture</td>\n",
       "    </tr>\n",
       "    <tr>\n",
       "      <th>8</th>\n",
       "      <td>business</td>\n",
       "      <td>lecture</td>\n",
       "    </tr>\n",
       "    <tr>\n",
       "      <th>9</th>\n",
       "      <td>business</td>\n",
       "      <td>lecture</td>\n",
       "    </tr>\n",
       "    <tr>\n",
       "      <th>10</th>\n",
       "      <td>science</td>\n",
       "      <td>lecture</td>\n",
       "    </tr>\n",
       "    <tr>\n",
       "      <th>11</th>\n",
       "      <td>business</td>\n",
       "      <td>debate</td>\n",
       "    </tr>\n",
       "    <tr>\n",
       "      <th>12</th>\n",
       "      <td>arts</td>\n",
       "      <td>debate</td>\n",
       "    </tr>\n",
       "    <tr>\n",
       "      <th>13</th>\n",
       "      <td>science</td>\n",
       "      <td>debate</td>\n",
       "    </tr>\n",
       "    <tr>\n",
       "      <th>14</th>\n",
       "      <td>science</td>\n",
       "      <td>lecture</td>\n",
       "    </tr>\n",
       "    <tr>\n",
       "      <th>15</th>\n",
       "      <td>arts</td>\n",
       "      <td>debate</td>\n",
       "    </tr>\n",
       "  </tbody>\n",
       "</table>\n",
       "</div>"
      ],
      "text/plain": [
       "           background curriculum\n",
       "student_ID                      \n",
       "1                arts     debate\n",
       "2             science    lecture\n",
       "3                arts     debate\n",
       "4                arts    lecture\n",
       "5             science     debate\n",
       "6            business     debate\n",
       "7             science    lecture\n",
       "8            business    lecture\n",
       "9            business    lecture\n",
       "10            science    lecture\n",
       "11           business     debate\n",
       "12               arts     debate\n",
       "13            science     debate\n",
       "14            science    lecture\n",
       "15               arts     debate"
      ]
     },
     "execution_count": 54,
     "metadata": {},
     "output_type": "execute_result"
    }
   ],
   "source": [
    "students[[\"background\",\"curriculum\"]]"
   ]
  },
  {
   "cell_type": "code",
   "execution_count": 55,
   "metadata": {},
   "outputs": [
    {
     "data": {
      "text/html": [
       "<div>\n",
       "<style scoped>\n",
       "    .dataframe tbody tr th:only-of-type {\n",
       "        vertical-align: middle;\n",
       "    }\n",
       "\n",
       "    .dataframe tbody tr th {\n",
       "        vertical-align: top;\n",
       "    }\n",
       "\n",
       "    .dataframe thead th {\n",
       "        text-align: right;\n",
       "    }\n",
       "</style>\n",
       "<table border=\"1\" class=\"dataframe\">\n",
       "  <thead>\n",
       "    <tr style=\"text-align: right;\">\n",
       "      <th>background</th>\n",
       "      <th>arts</th>\n",
       "      <th>business</th>\n",
       "      <th>science</th>\n",
       "      <th>TOTAL</th>\n",
       "    </tr>\n",
       "    <tr>\n",
       "      <th>curriculum</th>\n",
       "      <th></th>\n",
       "      <th></th>\n",
       "      <th></th>\n",
       "      <th></th>\n",
       "    </tr>\n",
       "  </thead>\n",
       "  <tbody>\n",
       "    <tr>\n",
       "      <th>debate</th>\n",
       "      <td>4</td>\n",
       "      <td>2</td>\n",
       "      <td>2</td>\n",
       "      <td>8</td>\n",
       "    </tr>\n",
       "    <tr>\n",
       "      <th>lecture</th>\n",
       "      <td>1</td>\n",
       "      <td>2</td>\n",
       "      <td>4</td>\n",
       "      <td>7</td>\n",
       "    </tr>\n",
       "    <tr>\n",
       "      <th>TOTAL</th>\n",
       "      <td>5</td>\n",
       "      <td>4</td>\n",
       "      <td>6</td>\n",
       "      <td>15</td>\n",
       "    </tr>\n",
       "  </tbody>\n",
       "</table>\n",
       "</div>"
      ],
      "text/plain": [
       "background  arts  business  science  TOTAL\n",
       "curriculum                                \n",
       "debate         4         2        2      8\n",
       "lecture        1         2        4      7\n",
       "TOTAL          5         4        6     15"
      ]
     },
     "execution_count": 55,
     "metadata": {},
     "output_type": "execute_result"
    }
   ],
   "source": [
    "# joint frequencies\n",
    "pd.crosstab(index=students[\"curriculum\"],\n",
    "            columns=students[\"background\"],\n",
    "            margins=True, margins_name=\"TOTAL\")"
   ]
  },
  {
   "cell_type": "code",
   "execution_count": 56,
   "metadata": {},
   "outputs": [
    {
     "data": {
      "text/html": [
       "<div>\n",
       "<style scoped>\n",
       "    .dataframe tbody tr th:only-of-type {\n",
       "        vertical-align: middle;\n",
       "    }\n",
       "\n",
       "    .dataframe tbody tr th {\n",
       "        vertical-align: top;\n",
       "    }\n",
       "\n",
       "    .dataframe thead th {\n",
       "        text-align: right;\n",
       "    }\n",
       "</style>\n",
       "<table border=\"1\" class=\"dataframe\">\n",
       "  <thead>\n",
       "    <tr style=\"text-align: right;\">\n",
       "      <th>background</th>\n",
       "      <th>arts</th>\n",
       "      <th>business</th>\n",
       "      <th>science</th>\n",
       "      <th>TOTAL</th>\n",
       "    </tr>\n",
       "    <tr>\n",
       "      <th>curriculum</th>\n",
       "      <th></th>\n",
       "      <th></th>\n",
       "      <th></th>\n",
       "      <th></th>\n",
       "    </tr>\n",
       "  </thead>\n",
       "  <tbody>\n",
       "    <tr>\n",
       "      <th>debate</th>\n",
       "      <td>0.27</td>\n",
       "      <td>0.13</td>\n",
       "      <td>0.13</td>\n",
       "      <td>0.53</td>\n",
       "    </tr>\n",
       "    <tr>\n",
       "      <th>lecture</th>\n",
       "      <td>0.07</td>\n",
       "      <td>0.13</td>\n",
       "      <td>0.27</td>\n",
       "      <td>0.47</td>\n",
       "    </tr>\n",
       "    <tr>\n",
       "      <th>TOTAL</th>\n",
       "      <td>0.33</td>\n",
       "      <td>0.27</td>\n",
       "      <td>0.40</td>\n",
       "      <td>1.00</td>\n",
       "    </tr>\n",
       "  </tbody>\n",
       "</table>\n",
       "</div>"
      ],
      "text/plain": [
       "background  arts  business  science  TOTAL\n",
       "curriculum                                \n",
       "debate      0.27      0.13     0.13   0.53\n",
       "lecture     0.07      0.13     0.27   0.47\n",
       "TOTAL       0.33      0.27     0.40   1.00"
      ]
     },
     "execution_count": 56,
     "metadata": {},
     "output_type": "execute_result"
    }
   ],
   "source": [
    "# joint relative frequencies\n",
    "pd.crosstab(index=students[\"curriculum\"],\n",
    "            columns=students[\"background\"],\n",
    "            margins=True, margins_name=\"TOTAL\",\n",
    "            normalize=True)"
   ]
  },
  {
   "cell_type": "code",
   "execution_count": 57,
   "metadata": {},
   "outputs": [
    {
     "data": {
      "text/plain": [
       "<AxesSubplot:xlabel='background', ylabel='count'>"
      ]
     },
     "execution_count": 57,
     "metadata": {},
     "output_type": "execute_result"
    },
    {
     "data": {
      "image/png": "[encoded data removed]",
      "text/plain": [
       "<Figure size 504x288 with 1 Axes>"
      ]
     },
     "metadata": {
      "image/png": {
       "height": 262,
       "width": 438
      }
     },
     "output_type": "display_data"
    }
   ],
   "source": [
    "sns.countplot(x=\"background\", hue=\"curriculum\",\n",
    "              data=students, alpha=0.8)"
   ]
  },
  {
   "cell_type": "code",
   "execution_count": 58,
   "metadata": {
    "id": "Bf4WUuZudaPC"
   },
   "outputs": [
    {
     "data": {
      "text/plain": [
       "<AxesSubplot:xlabel='background', ylabel='Count'>"
      ]
     },
     "execution_count": 58,
     "metadata": {},
     "output_type": "execute_result"
    },
    {
     "data": {
      "image/png": "[encoded data removed]",
      "text/plain": [
       "<Figure size 504x288 with 1 Axes>"
      ]
     },
     "metadata": {
      "image/png": {
       "height": 262,
       "width": 431
      }
     },
     "output_type": "display_data"
    }
   ],
   "source": [
    "sns.histplot(x=\"background\", hue=\"curriculum\",\n",
    "             data=students, multiple=\"stack\", shrink=.7)"
   ]
  },
  {
   "cell_type": "code",
   "execution_count": 59,
   "metadata": {},
   "outputs": [],
   "source": [
    "# # ALT  using displot\n",
    "# sns.displot(data=students, x=\"background\", hue=\"curriculum\", multiple=\"stack\", shrink=0.8)"
   ]
  },
  {
   "cell_type": "code",
   "execution_count": 60,
   "metadata": {},
   "outputs": [],
   "source": [
    "# # ALT2  using Pandas plot function for crosstab\n",
    "# pd.crosstab(\n",
    "#     index=students[\"curriculum\"],\n",
    "#     columns=students[\"background\"],\n",
    "# ).T.plot(kind=\"bar\", stacked=True, rot=0)"
   ]
  },
  {
   "cell_type": "code",
   "execution_count": 61,
   "metadata": {},
   "outputs": [],
   "source": [
    "# # stacked joint relative frequencies\n",
    "# sns.histplot(x=\"background\", hue=\"curriculum\",\n",
    "#              data=students, shrink=.7,\n",
    "#              multiple=\"stack\", stat=\"proportion\")"
   ]
  },
  {
   "cell_type": "code",
   "execution_count": 62,
   "metadata": {},
   "outputs": [
    {
     "data": {
      "text/html": [
       "<div>\n",
       "<style scoped>\n",
       "    .dataframe tbody tr th:only-of-type {\n",
       "        vertical-align: middle;\n",
       "    }\n",
       "\n",
       "    .dataframe tbody tr th {\n",
       "        vertical-align: top;\n",
       "    }\n",
       "\n",
       "    .dataframe thead th {\n",
       "        text-align: right;\n",
       "    }\n",
       "</style>\n",
       "<table border=\"1\" class=\"dataframe\">\n",
       "  <thead>\n",
       "    <tr style=\"text-align: right;\">\n",
       "      <th>background</th>\n",
       "      <th>arts</th>\n",
       "      <th>business</th>\n",
       "      <th>science</th>\n",
       "      <th>TOTAL</th>\n",
       "    </tr>\n",
       "    <tr>\n",
       "      <th>curriculum</th>\n",
       "      <th></th>\n",
       "      <th></th>\n",
       "      <th></th>\n",
       "      <th></th>\n",
       "    </tr>\n",
       "  </thead>\n",
       "  <tbody>\n",
       "    <tr>\n",
       "      <th>debate</th>\n",
       "      <td>0.8</td>\n",
       "      <td>0.5</td>\n",
       "      <td>0.33</td>\n",
       "      <td>0.53</td>\n",
       "    </tr>\n",
       "    <tr>\n",
       "      <th>lecture</th>\n",
       "      <td>0.2</td>\n",
       "      <td>0.5</td>\n",
       "      <td>0.67</td>\n",
       "      <td>0.47</td>\n",
       "    </tr>\n",
       "  </tbody>\n",
       "</table>\n",
       "</div>"
      ],
      "text/plain": [
       "background  arts  business  science  TOTAL\n",
       "curriculum                                \n",
       "debate       0.8       0.5     0.33   0.53\n",
       "lecture      0.2       0.5     0.67   0.47"
      ]
     },
     "execution_count": 62,
     "metadata": {},
     "output_type": "execute_result"
    }
   ],
   "source": [
    "# curriculum relative frequencies conditional on background\n",
    "pd.crosstab(index=students[\"curriculum\"],\n",
    "            columns=students[\"background\"],\n",
    "            margins=True, margins_name=\"TOTAL\",\n",
    "            normalize=\"columns\")"
   ]
  },
  {
   "cell_type": "code",
   "execution_count": 63,
   "metadata": {},
   "outputs": [
    {
     "data": {
      "text/plain": [
       "Text(0, 0.5, 'conditional relative frequency')"
      ]
     },
     "execution_count": 63,
     "metadata": {},
     "output_type": "execute_result"
    },
    {
     "data": {
      "image/png": "[encoded data removed]",
      "text/plain": [
       "<Figure size 504x288 with 1 Axes>"
      ]
     },
     "metadata": {
      "image/png": {
       "height": 262,
       "width": 509
      }
     },
     "output_type": "display_data"
    }
   ],
   "source": [
    "ct1 = pd.crosstab(\n",
    "    index=students[\"curriculum\"],\n",
    "    columns=students[\"background\"],\n",
    "    normalize=\"columns\",\n",
    ")\n",
    "axct1 = ct1.T.plot(kind=\"bar\", stacked=True, rot=0, alpha=0.8)\n",
    "plt.legend(loc = \"upper left\", bbox_to_anchor=(1.02,1))\n",
    "plt.ylabel(\"conditional relative frequency\")"
   ]
  },
  {
   "cell_type": "code",
   "execution_count": 64,
   "metadata": {},
   "outputs": [
    {
     "data": {
      "text/html": [
       "<div>\n",
       "<style scoped>\n",
       "    .dataframe tbody tr th:only-of-type {\n",
       "        vertical-align: middle;\n",
       "    }\n",
       "\n",
       "    .dataframe tbody tr th {\n",
       "        vertical-align: top;\n",
       "    }\n",
       "\n",
       "    .dataframe thead th {\n",
       "        text-align: right;\n",
       "    }\n",
       "</style>\n",
       "<table border=\"1\" class=\"dataframe\">\n",
       "  <thead>\n",
       "    <tr style=\"text-align: right;\">\n",
       "      <th>background</th>\n",
       "      <th>arts</th>\n",
       "      <th>business</th>\n",
       "      <th>science</th>\n",
       "    </tr>\n",
       "    <tr>\n",
       "      <th>curriculum</th>\n",
       "      <th></th>\n",
       "      <th></th>\n",
       "      <th></th>\n",
       "    </tr>\n",
       "  </thead>\n",
       "  <tbody>\n",
       "    <tr>\n",
       "      <th>debate</th>\n",
       "      <td>0.50</td>\n",
       "      <td>0.25</td>\n",
       "      <td>0.25</td>\n",
       "    </tr>\n",
       "    <tr>\n",
       "      <th>lecture</th>\n",
       "      <td>0.14</td>\n",
       "      <td>0.29</td>\n",
       "      <td>0.57</td>\n",
       "    </tr>\n",
       "    <tr>\n",
       "      <th>TOTAL</th>\n",
       "      <td>0.33</td>\n",
       "      <td>0.27</td>\n",
       "      <td>0.40</td>\n",
       "    </tr>\n",
       "  </tbody>\n",
       "</table>\n",
       "</div>"
      ],
      "text/plain": [
       "background  arts  business  science\n",
       "curriculum                         \n",
       "debate      0.50      0.25     0.25\n",
       "lecture     0.14      0.29     0.57\n",
       "TOTAL       0.33      0.27     0.40"
      ]
     },
     "execution_count": 64,
     "metadata": {},
     "output_type": "execute_result"
    }
   ],
   "source": [
    "# background relative frequencies conditional on curriculum\n",
    "pd.crosstab(index=students[\"curriculum\"],\n",
    "            columns=students[\"background\"],\n",
    "            margins=True, margins_name=\"TOTAL\",\n",
    "            normalize=\"index\")"
   ]
  },
  {
   "cell_type": "code",
   "execution_count": 65,
   "metadata": {},
   "outputs": [
    {
     "data": {
      "text/plain": [
       "Text(0.5, 0, 'conditional relative frequency')"
      ]
     },
     "execution_count": 65,
     "metadata": {},
     "output_type": "execute_result"
    },
    {
     "data": {
      "image/png": "[encoded data removed]",
      "text/plain": [
       "<Figure size 504x288 with 1 Axes>"
      ]
     },
     "metadata": {
      "image/png": {
       "height": 262,
       "width": 531
      }
     },
     "output_type": "display_data"
    }
   ],
   "source": [
    "ct2 = pd.crosstab(\n",
    "    index=students[\"curriculum\"],\n",
    "    columns=students[\"background\"],\n",
    "    normalize=\"index\",\n",
    ")\n",
    "axct2 = ct2.plot(kind=\"barh\", stacked=True, rot=0, alpha=0.8, )\n",
    "plt.legend(loc = \"upper left\", bbox_to_anchor=(1.02,1))\n",
    "plt.xlabel(\"conditional relative frequency\")"
   ]
  },
  {
   "cell_type": "code",
   "execution_count": null,
   "metadata": {},
   "outputs": [],
   "source": []
  },
  {
   "cell_type": "code",
   "execution_count": null,
   "metadata": {},
   "outputs": [],
   "source": []
  },
  {
   "cell_type": "markdown",
   "metadata": {},
   "source": [
    "## Explanations"
   ]
  },
  {
   "cell_type": "code",
   "execution_count": 66,
   "metadata": {},
   "outputs": [],
   "source": [
    "import numpy as np"
   ]
  },
  {
   "cell_type": "markdown",
   "metadata": {},
   "source": [
    "### Code for `median`"
   ]
  },
  {
   "cell_type": "code",
   "execution_count": 67,
   "metadata": {},
   "outputs": [],
   "source": [
    "def median(values):\n",
    "    n = len(values)\n",
    "    svalues = sorted(values)\n",
    "    if n % 2 == 1:            # Case A: n is odd\n",
    "        mid = n // 2\n",
    "        return svalues[mid]\n",
    "    else:                     # Case B: n is even\n",
    "        j = n // 2\n",
    "        return 0.5*svalues[j-1] + 0.5*svalues[j]\n"
   ]
  },
  {
   "cell_type": "code",
   "execution_count": 68,
   "metadata": {},
   "outputs": [],
   "source": [
    "assert median([1,300]) == np.median([1,300])"
   ]
  },
  {
   "cell_type": "markdown",
   "metadata": {},
   "source": [
    "### Code for `quantile`\n",
    "\n",
    "The function `quantile` below:\n",
    "- Compute the ``q``th quantile of the list ``values`` using linear interpolation.\n",
    "- Equivalent to ``quantile(values, q, method=\"linear\")`` in `numpy`.\n",
    "- Equivalent to ``quantile(values, q, type=7)`` in R."
   ]
  },
  {
   "cell_type": "code",
   "execution_count": 69,
   "metadata": {},
   "outputs": [],
   "source": [
    "def quantile(values, q):\n",
    "    svalues = sorted(values)\n",
    "    p = q * (len(values)-1)\n",
    "    i = int(p)\n",
    "    g = p - int(p)\n",
    "    return (1-g)*svalues[i] + g*svalues[i+1]"
   ]
  },
  {
   "cell_type": "code",
   "execution_count": 70,
   "metadata": {},
   "outputs": [],
   "source": [
    "arr = [21, 22, 24, 24, 26, 97]\n",
    "assert quantile(arr, 0.33) == np.quantile(arr, 0.33)\n",
    "assert quantile(arr, 0.25) == np.quantile(arr, 0.25)\n",
    "assert quantile(arr, 0.75) == np.quantile(arr, 0.75)"
   ]
  },
  {
   "cell_type": "code",
   "execution_count": null,
   "metadata": {},
   "outputs": [],
   "source": []
  }
 ],
 "metadata": {
  "colab": {
   "authorship_tag": "ABX9TyPw9/JPOAyxhg8PCV/LtSU1",
   "name": "DescriptiveStatistics.ipynb",
   "provenance": []
  },
  "kernelspec": {
   "display_name": "Python 3 (ipykernel)",
   "language": "python",
   "name": "python3"
  },
  "language_info": {
   "codemirror_mode": {
    "name": "ipython",
    "version": 3
   },
   "file_extension": ".py",
   "mimetype": "text/x-python",
   "name": "python",
   "nbconvert_exporter": "python",
   "pygments_lexer": "ipython3",
   "version": "3.9.4"
  }
 },
 "nbformat": 4,
 "nbformat_minor": 4
}
