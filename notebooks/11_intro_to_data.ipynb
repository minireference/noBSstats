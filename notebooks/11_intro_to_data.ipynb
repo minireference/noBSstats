{
 "cells": [
  {
   "cell_type": "markdown",
   "id": "25b4ccba-9aeb-4f61-af01-0ae27c83eaff",
   "metadata": {},
   "source": [
    "\n"
   ]
  },
  {
   "cell_type": "markdown",
   "id": "df859500-f58e-4141-bdc4-86338393c3e7",
   "metadata": {},
   "source": [
    "# Section 1.1 — Introduction to data"
   ]
  },
  {
   "cell_type": "code",
   "execution_count": 2,
   "id": "76f094e5-7915-4f9d-856d-e2fb95a1ec61",
   "metadata": {},
   "outputs": [],
   "source": [
    "import os\n",
    "import numpy as np\n",
    "import pandas as pd\n",
    "import matplotlib.pyplot as plt\n",
    "import seaborn as sns"
   ]
  },
  {
   "cell_type": "code",
   "execution_count": null,
   "id": "599157aa-5dfd-448a-868d-cd26b4a8dbdc",
   "metadata": {},
   "outputs": [],
   "source": []
  },
  {
   "cell_type": "markdown",
   "id": "22bf0b74-9641-4892-8bbe-d563c6fbaca3",
   "metadata": {},
   "source": [
    "## Random selection"
   ]
  },
  {
   "cell_type": "code",
   "execution_count": 9,
   "id": "d56ffc47-eee7-4ce8-a77d-10e57509d7c9",
   "metadata": {},
   "outputs": [
    {
     "data": {
      "text/plain": [
       "[1, 10, 5]"
      ]
     },
     "execution_count": 9,
     "metadata": {},
     "output_type": "execute_result"
    }
   ],
   "source": [
    "import random\n",
    "samplingframe = [1, 2, 3, 4, 5, 6, 7, 8, 9, 10]\n",
    "random.sample(samplingframe, 3)"
   ]
  },
  {
   "cell_type": "markdown",
   "id": "e50bf7cb-81ac-4856-b814-8a5617a219fe",
   "metadata": {},
   "source": [
    "## Random assignment"
   ]
  },
  {
   "cell_type": "code",
   "execution_count": 13,
   "id": "7c483450-a7df-4381-8687-cc9577671f88",
   "metadata": {},
   "outputs": [
    {
     "name": "stdout",
     "output_type": "stream",
     "text": [
      "control\n"
     ]
    }
   ],
   "source": [
    "def flip_coin():\n",
    "    r = random.random()\n",
    "    if r < 0.5:\n",
    "        print(\"intervention\")\n",
    "    else:\n",
    "        print(\"control\")\n",
    "\n",
    "flip_coin()"
   ]
  },
  {
   "cell_type": "markdown",
   "id": "42b731c1-cccc-447e-b272-537c85ca09cc",
   "metadata": {},
   "source": [
    "## Discussion\n",
    "\n",
    "### Random sampling alternatives"
   ]
  },
  {
   "cell_type": "code",
   "execution_count": null,
   "id": "cad1ad55-4c86-49a2-8231-01dbce554286",
   "metadata": {},
   "outputs": [],
   "source": [
    "import random\n",
    "random.seed(22)"
   ]
  },
  {
   "cell_type": "code",
   "execution_count": 41,
   "id": "edbfa145-80f7-4950-9f3b-ea279240bd0d",
   "metadata": {},
   "outputs": [
    {
     "name": "stdout",
     "output_type": "stream",
     "text": [
      "[4, 7, 11, 16, 18, 23, 24, 30, 32, 35, 41, 45, 58, 71, 77, 79, 84, 88, 90, 95]\n"
     ]
    }
   ],
   "source": [
    "# select sample of 20 from 100 individuals\n",
    "pop1 = range(1,101)\n",
    "print(sorted(random.sample(pop1, 20)))"
   ]
  },
  {
   "cell_type": "code",
   "execution_count": 42,
   "id": "e77aaa00-7dcc-43fa-8cc5-6c820a6ccd23",
   "metadata": {},
   "outputs": [
    {
     "name": "stdout",
     "output_type": "stream",
     "text": [
      "[1, 2, 9, 14]\n",
      "[6, 7, 10, 14]\n",
      "[2, 4, 17, 19]\n",
      "[6, 9, 11, 20]\n",
      "[5, 10, 13, 17]\n"
     ]
    }
   ],
   "source": [
    "# 5 strata of 20 individuals\n",
    "strata = [range(1,21) for s in range(5)]\n",
    "for statum in strata:\n",
    "    print(sorted(random.sample(statum, 4)))"
   ]
  },
  {
   "cell_type": "code",
   "execution_count": 43,
   "id": "ebcb5fcf-4089-42c8-b9f0-0f096d44b1e1",
   "metadata": {},
   "outputs": [
    {
     "name": "stdout",
     "output_type": "stream",
     "text": [
      "[5, 10]\n"
     ]
    }
   ],
   "source": [
    "# choose 2 clusters out of 10\n",
    "clusters = range(1,11)\n",
    "print(sorted(random.sample(clusters, 2)))"
   ]
  },
  {
   "cell_type": "code",
   "execution_count": null,
   "id": "dec06c1e-a2c5-435f-ba86-b7583564a4d4",
   "metadata": {},
   "outputs": [],
   "source": []
  },
  {
   "cell_type": "code",
   "execution_count": null,
   "id": "41d70380-92c3-42a2-b512-e8d4e899a089",
   "metadata": {},
   "outputs": [],
   "source": []
  }
 ],
 "metadata": {
  "kernelspec": {
   "display_name": "Python 3 (ipykernel)",
   "language": "python",
   "name": "python3"
  },
  "language_info": {
   "codemirror_mode": {
    "name": "ipython",
    "version": 3
   },
   "file_extension": ".py",
   "mimetype": "text/x-python",
   "name": "python",
   "nbconvert_exporter": "python",
   "pygments_lexer": "ipython3",
   "version": "3.9.4"
  }
 },
 "nbformat": 4,
 "nbformat_minor": 5
}
