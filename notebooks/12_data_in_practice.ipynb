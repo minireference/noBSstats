{
 "cells": [
  {
   "cell_type": "markdown",
   "id": "4d2a6d0b-b364-4d30-afee-4eb74a1224f5",
   "metadata": {},
   "source": [
    "# Section 1.2 — Data in practice\n",
    "\n",
    "This notebook contains all the code from [Section 1.2 Data in practice](https://minireference.com/static/excerpts/noBSstats/noBSstats_ch01_DATA.pdf#page=34) of the **No Bullshit Guide to Statistics**."
   ]
  },
  {
   "cell_type": "code",
   "execution_count": 1,
   "id": "3b212e60-9c9a-4c24-8358-47614540e88e",
   "metadata": {},
   "outputs": [
    {
     "data": {
      "text/plain": [
       "5"
      ]
     },
     "execution_count": 1,
     "metadata": {},
     "output_type": "execute_result"
    }
   ],
   "source": [
    "2 + 3"
   ]
  },
  {
   "cell_type": "code",
   "execution_count": null,
   "id": "2a73ea39-5f6d-4b60-afd8-92f0f19cf3e5",
   "metadata": {},
   "outputs": [],
   "source": []
  },
  {
   "cell_type": "markdown",
   "id": "6ad3970a-eeec-4764-b4f1-27ae494d2972",
   "metadata": {
    "tags": []
   },
   "source": [
    "#### Notebook setup"
   ]
  },
  {
   "cell_type": "markdown",
   "id": "70143489-6a0c-444c-ab1b-f5ca9ba3d109",
   "metadata": {},
   "source": [
    "### Note for Windows users\n",
    "\n",
    "If you're on macOS or Linux you can ignore this section—skip to the next section **Data management with Pandas**.\n",
    "\n",
    "File paths on Windows use the backslash character (`\\`) as path separator,\n",
    "while UNIX operating systems like Linux and macOS use forward slash separator `/` as path separator. \n",
    "\n",
    "If you you're on Windows you'll need to manually edit the code examples below to make them work by replacing all occurrences of \"`/`\" with \"`\\\\`\". The double backslash is required to get a literal backslash because the character `\\` has special meaning as an escape character."
   ]
  },
  {
   "cell_type": "code",
   "execution_count": 2,
   "id": "fd5c7177-a7a5-4603-800a-e315462938d6",
   "metadata": {},
   "outputs": [
    {
     "name": "stdout",
     "output_type": "stream",
     "text": [
      "You're on a UNIX system (Linux or macOS).\n",
      "Enjoy civilization!\n"
     ]
    }
   ],
   "source": [
    "import os\n",
    "\n",
    "if os.path.sep == \"/\":\n",
    "    print(\"You're on a UNIX system (Linux or macOS).\")\n",
    "    print(\"Enjoy civilization!\")\n",
    "elif os.path.sep == \"\\\\\":\n",
    "    print(\"You're on Windows so you should use \\\\ as path separator.\")\n",
    "    print(\"Replace any occurence of / (forward slash) in paths with \\\\\\\\ (double-backslash).\")"
   ]
  },
  {
   "cell_type": "markdown",
   "id": "f87899fa-9fb6-492c-ad66-3c7b093d502a",
   "metadata": {},
   "source": [
    "The current working directory is a path on your computer where this notebook is running.\n",
    "The code cell below shows you can **get** you **c**urrent **w**orking **d**irectory."
   ]
  },
  {
   "cell_type": "code",
   "execution_count": 3,
   "id": "c3b4f3b0-832a-40b6-8b3a-8d73828edbc8",
   "metadata": {},
   "outputs": [
    {
     "data": {
      "text/plain": [
       "'/Users/ivan/Projects/Minireference/STATSbook/noBSstatsnotebooks/notebooks'"
      ]
     },
     "execution_count": 3,
     "metadata": {},
     "output_type": "execute_result"
    }
   ],
   "source": [
    "os.getcwd()"
   ]
  },
  {
   "cell_type": "markdown",
   "id": "fe6e0eae-2578-4576-8a76-adbae708673c",
   "metadata": {},
   "source": [
    "You're in the `notebooks/` directory, which is inside the parent directory `noBSstats/`.\n",
    "\n",
    "The datasets we'll be using in this notebook are located in the `datasets/` directory, which is sibling of the `notebooks/` directory, inside the parent `noBSstats/`. To access data file `minimal.csv` in the `datasets/` directory from the current directory, we must specify a path that includes the `..` directive (go to parent), then go into the `datasets` directory, then open the file `minimal.csv`.\n",
    "\n",
    "This combination of \"directions\" for getting to the file will look different if you're on a Windows system or on a UNIX system. The code below shows the correct path you should access."
   ]
  },
  {
   "cell_type": "code",
   "execution_count": 4,
   "id": "6ea87fab-4243-496b-9188-204ebd5fce04",
   "metadata": {},
   "outputs": [
    {
     "name": "stdout",
     "output_type": "stream",
     "text": [
      "The path to the file players.csv in the datasets/ directory is\n"
     ]
    },
    {
     "data": {
      "text/plain": [
       "'../datasets/players.csv'"
      ]
     },
     "execution_count": 4,
     "metadata": {},
     "output_type": "execute_result"
    }
   ],
   "source": [
    "if os.path.sep == \"/\":\n",
    "    # UNIX path separators\n",
    "    path = \"../datasets/players.csv\"\n",
    "else:\n",
    "    # Windows path separators\n",
    "    path = \"..\\\\datasets\\\\players.csv\"\n",
    "\n",
    "print(\"The path to the file players.csv in the datasets/ directory is\")\n",
    "path"
   ]
  },
  {
   "cell_type": "markdown",
   "id": "18653bfc-3460-42a3-8e9f-874099a446de",
   "metadata": {},
   "source": [
    "All the code examples provided below assume you're on a UNIX system,\n",
    "hence the need to manually modify them to use double-backslashes in path strings for the code to work."
   ]
  },
  {
   "cell_type": "code",
   "execution_count": null,
   "id": "e864979f-9754-4113-8cf3-aba5a99ad11e",
   "metadata": {},
   "outputs": [],
   "source": []
  },
  {
   "cell_type": "markdown",
   "id": "0bda7d92-eaef-44b0-a733-57ecf583d8f7",
   "metadata": {},
   "source": [
    "## Getting started with JupyterLab"
   ]
  },
  {
   "cell_type": "markdown",
   "id": "27fd47cf-890d-46f6-9237-844973b1fc19",
   "metadata": {},
   "source": [
    "### Download and install JupyterLab Desktop\n",
    "Follow instructions in the [Python tutorial](./python_tutorial.ipynb) to install JupyterLab Desktop on your computer."
   ]
  },
  {
   "cell_type": "markdown",
   "id": "c679a545-6ab0-4411-8821-58bf77e12113",
   "metadata": {},
   "source": [
    "### Download the `noBSstats` notebooks and datasets"
   ]
  },
  {
   "cell_type": "markdown",
   "id": "8c63d1c6-31d9-467b-9912-61609c081bd2",
   "metadata": {},
   "source": [
    "### Install requirements"
   ]
  },
  {
   "cell_type": "code",
   "execution_count": 5,
   "id": "c0fd18c2-3904-47c2-83d2-30a7ede67e86",
   "metadata": {},
   "outputs": [],
   "source": [
    "# %pip install -r ../requirements.txt"
   ]
  },
  {
   "cell_type": "markdown",
   "id": "e44f6264-b28c-43cc-be0f-c858a53f5cb7",
   "metadata": {},
   "source": [
    "### Datasets for the book"
   ]
  },
  {
   "cell_type": "code",
   "execution_count": 6,
   "id": "6f4c55ff-cddd-4448-8871-6c113b9f8e02",
   "metadata": {},
   "outputs": [
    {
     "name": "stdout",
     "output_type": "stream",
     "text": [
      "../datasets/apples.csv\n",
      "../datasets/doctors.csv\n",
      "../datasets/eprices.csv\n",
      "../datasets/epriceswide.csv\n",
      "../datasets/kombucha.csv\n",
      "../datasets/kombuchapop.csv\n",
      "../datasets/minimal.csv\n",
      "../datasets/players.csv\n",
      "../datasets/players_full.csv\n",
      "../datasets/students.csv\n",
      "../datasets/visitors.csv\n"
     ]
    }
   ],
   "source": [
    "! ls -1 ../datasets/*csv"
   ]
  },
  {
   "cell_type": "markdown",
   "id": "56c5ad39-bef9-443c-b1c6-11bbacfb6fa2",
   "metadata": {},
   "source": [
    "### Interactive notebooks for each section"
   ]
  },
  {
   "cell_type": "code",
   "execution_count": 7,
   "id": "b374bd82-589b-4e15-bf58-48146a2ed599",
   "metadata": {},
   "outputs": [
    {
     "name": "stdout",
     "output_type": "stream",
     "text": [
      "../notebooks/11_intro_to_data.ipynb\n",
      "../notebooks/12_data_in_practice.ipynb\n",
      "../notebooks/13_descriptive_statistics.ipynb\n",
      "../notebooks/21_discrete_random_vars.ipynb\n",
      "../notebooks/22_multiple_random_vars.ipynb\n",
      "../notebooks/23_inventory_discrete_dists.ipynb\n",
      "../notebooks/24_calculus_prerequisites.ipynb\n",
      "../notebooks/25_continuous_random_vars.ipynb\n",
      "../notebooks/26_inventory_continuous_dists.ipynb\n",
      "../notebooks/27_random_var_generation.ipynb\n",
      "../notebooks/28_random_samples.ipynb\n",
      "../notebooks/31_estimators.ipynb\n",
      "../notebooks/32_confidence_intervals.ipynb\n",
      "../notebooks/33_intro_to_NHST.ipynb\n",
      "../notebooks/34_analytical_approx.ipynb\n",
      "../notebooks/35_two_sample_tests.ipynb\n",
      "../notebooks/36_design.ipynb\n",
      "../notebooks/37_inventory_stats_tests.ipynb\n",
      "../notebooks/41_introduction_to_LMs.ipynb\n",
      "../notebooks/99_mean_estimation_details.ipynb\n",
      "../notebooks/99_proportions_estimators.ipynb\n",
      "../notebooks/OLD34_analytical_approximation.ipynb\n",
      "../notebooks/cut_material.ipynb\n",
      "../notebooks/one_sample_known_mean_unknown_var.ipynb\n"
     ]
    }
   ],
   "source": [
    "!ls ../notebooks/*ipynb"
   ]
  },
  {
   "cell_type": "markdown",
   "id": "4fba2d89-7c16-4eb4-91fe-2e38bd0077bc",
   "metadata": {},
   "source": [
    "### Exercises notebooks"
   ]
  },
  {
   "cell_type": "code",
   "execution_count": 8,
   "id": "c09dd44b-68e9-4aa0-ab38-1712aa95821c",
   "metadata": {},
   "outputs": [
    {
     "name": "stdout",
     "output_type": "stream",
     "text": [
      "../exercises/exercises_12_practical_data.ipynb\n",
      "../exercises/exercises_13_descr_stats.ipynb\n",
      "../exercises/exercises_21_discrete_RVs.ipynb\n",
      "../exercises/exercises_31_estimtors.ipynb\n",
      "../exercises/exercises_32_confidence_intervals.ipynb\n",
      "../exercises/exercises_33_intro_to_NHST.ipynb\n",
      "../exercises/exercises_35_two_sample_tests.ipynb\n",
      "../exercises/problems_1_data.ipynb\n"
     ]
    }
   ],
   "source": [
    "!ls ../exercises/*ipynb"
   ]
  },
  {
   "cell_type": "code",
   "execution_count": null,
   "id": "97907ab4-3bd7-4479-a470-ea256197535d",
   "metadata": {},
   "outputs": [],
   "source": []
  },
  {
   "cell_type": "markdown",
   "id": "df9993d3-ce6c-4442-92c0-b6bb81486017",
   "metadata": {},
   "source": [
    "#### Players dataset"
   ]
  },
  {
   "cell_type": "code",
   "execution_count": 9,
   "id": "a26fabaf-7de5-4e5b-a0a4-d03249f81bab",
   "metadata": {},
   "outputs": [],
   "source": [
    "import pandas as pd\n",
    "players = pd.read_csv(\"../datasets/players.csv\")"
   ]
  },
  {
   "cell_type": "code",
   "execution_count": 10,
   "id": "7b89c5c2-bfe6-4533-9520-fff92fb7997f",
   "metadata": {},
   "outputs": [
    {
     "data": {
      "text/html": [
       "<div>\n",
       "<style scoped>\n",
       "    .dataframe tbody tr th:only-of-type {\n",
       "        vertical-align: middle;\n",
       "    }\n",
       "\n",
       "    .dataframe tbody tr th {\n",
       "        vertical-align: top;\n",
       "    }\n",
       "\n",
       "    .dataframe thead th {\n",
       "        text-align: right;\n",
       "    }\n",
       "</style>\n",
       "<table border=\"1\" class=\"dataframe\">\n",
       "  <thead>\n",
       "    <tr style=\"text-align: right;\">\n",
       "      <th></th>\n",
       "      <th>username</th>\n",
       "      <th>country</th>\n",
       "      <th>age</th>\n",
       "      <th>ezlvl</th>\n",
       "      <th>time</th>\n",
       "      <th>points</th>\n",
       "      <th>finished</th>\n",
       "    </tr>\n",
       "  </thead>\n",
       "  <tbody>\n",
       "    <tr>\n",
       "      <th>0</th>\n",
       "      <td>mary</td>\n",
       "      <td>us</td>\n",
       "      <td>38</td>\n",
       "      <td>0</td>\n",
       "      <td>124.94</td>\n",
       "      <td>418</td>\n",
       "      <td>0</td>\n",
       "    </tr>\n",
       "    <tr>\n",
       "      <th>1</th>\n",
       "      <td>jane</td>\n",
       "      <td>ca</td>\n",
       "      <td>21</td>\n",
       "      <td>0</td>\n",
       "      <td>331.64</td>\n",
       "      <td>1149</td>\n",
       "      <td>1</td>\n",
       "    </tr>\n",
       "    <tr>\n",
       "      <th>2</th>\n",
       "      <td>emil</td>\n",
       "      <td>fr</td>\n",
       "      <td>52</td>\n",
       "      <td>1</td>\n",
       "      <td>324.61</td>\n",
       "      <td>1321</td>\n",
       "      <td>1</td>\n",
       "    </tr>\n",
       "    <tr>\n",
       "      <th>3</th>\n",
       "      <td>ivan</td>\n",
       "      <td>ca</td>\n",
       "      <td>50</td>\n",
       "      <td>1</td>\n",
       "      <td>39.51</td>\n",
       "      <td>226</td>\n",
       "      <td>0</td>\n",
       "    </tr>\n",
       "    <tr>\n",
       "      <th>4</th>\n",
       "      <td>hasan</td>\n",
       "      <td>tr</td>\n",
       "      <td>26</td>\n",
       "      <td>1</td>\n",
       "      <td>253.19</td>\n",
       "      <td>815</td>\n",
       "      <td>0</td>\n",
       "    </tr>\n",
       "  </tbody>\n",
       "</table>\n",
       "</div>"
      ],
      "text/plain": [
       "  username country  age  ezlvl    time  points  finished\n",
       "0     mary      us   38      0  124.94     418         0\n",
       "1     jane      ca   21      0  331.64    1149         1\n",
       "2     emil      fr   52      1  324.61    1321         1\n",
       "3     ivan      ca   50      1   39.51     226         0\n",
       "4    hasan      tr   26      1  253.19     815         0"
      ]
     },
     "execution_count": 10,
     "metadata": {},
     "output_type": "execute_result"
    }
   ],
   "source": [
    "players.head()"
   ]
  },
  {
   "cell_type": "code",
   "execution_count": null,
   "id": "e2da7278-9eaf-4540-8ac7-dede263ac21f",
   "metadata": {},
   "outputs": [],
   "source": []
  },
  {
   "cell_type": "code",
   "execution_count": null,
   "id": "cb9f645a-0478-4fa1-b6c0-d9465307adb2",
   "metadata": {},
   "outputs": [],
   "source": []
  },
  {
   "cell_type": "code",
   "execution_count": null,
   "id": "bc9cef8b-8af3-4050-bbc2-e95ab87e3384",
   "metadata": {},
   "outputs": [],
   "source": []
  },
  {
   "cell_type": "code",
   "execution_count": null,
   "id": "60e8a4fd-c696-4569-8b3a-458c655ee6d5",
   "metadata": {},
   "outputs": [],
   "source": []
  },
  {
   "cell_type": "markdown",
   "id": "ee8813fb-79df-488c-a521-1b67d95d85f7",
   "metadata": {},
   "source": [
    "## Data management with Pandas"
   ]
  },
  {
   "cell_type": "markdown",
   "id": "eb486b3c-180e-4eb1-84a0-01626f8f6f29",
   "metadata": {},
   "source": [
    "The first step is to import the Pandas library.\n",
    "We'll follow the standard convention of importing the `pandas` module under the alias `pd`."
   ]
  },
  {
   "cell_type": "code",
   "execution_count": 11,
   "id": "76f094e5-7915-4f9d-856d-e2fb95a1ec61",
   "metadata": {},
   "outputs": [],
   "source": [
    "import pandas as pd"
   ]
  },
  {
   "cell_type": "markdown",
   "id": "2631f351-5046-487d-bb90-be2fe3b1c598",
   "metadata": {},
   "source": [
    "If you get an error when running this code cell,\n",
    "make sure you go back to the above step and run `%pip install -r ../requirements.txt`.\n",
    "Alternatively,\n",
    "you can run `%pip install pandas` to install just the Pandas library."
   ]
  },
  {
   "cell_type": "markdown",
   "id": "3668226b-f1dd-49ce-885a-3d62d23a6773",
   "metadata": {},
   "source": [
    "\n",
    "\n"
   ]
  },
  {
   "cell_type": "code",
   "execution_count": null,
   "id": "f4e3e626-368e-48f5-ac68-9f80423e49ad",
   "metadata": {},
   "outputs": [],
   "source": []
  },
  {
   "cell_type": "markdown",
   "id": "22bf0b74-9641-4892-8bbe-d563c6fbaca3",
   "metadata": {},
   "source": [
    "### Data frames"
   ]
  },
  {
   "cell_type": "markdown",
   "id": "a7ce329b-614e-4728-bf3c-f5918be36014",
   "metadata": {},
   "source": [
    "Loading the dataset `minimal.csv`"
   ]
  },
  {
   "cell_type": "code",
   "execution_count": 12,
   "id": "8722e39e-ef5e-4e28-988d-f9c18c634daf",
   "metadata": {},
   "outputs": [],
   "source": [
    "# !cat \"../datasets/players.csv\""
   ]
  },
  {
   "cell_type": "code",
   "execution_count": 13,
   "id": "21b7542c-71ab-46e4-989f-e84a31e4387d",
   "metadata": {},
   "outputs": [
    {
     "data": {
      "text/html": [
       "<div>\n",
       "<style scoped>\n",
       "    .dataframe tbody tr th:only-of-type {\n",
       "        vertical-align: middle;\n",
       "    }\n",
       "\n",
       "    .dataframe tbody tr th {\n",
       "        vertical-align: top;\n",
       "    }\n",
       "\n",
       "    .dataframe thead th {\n",
       "        text-align: right;\n",
       "    }\n",
       "</style>\n",
       "<table border=\"1\" class=\"dataframe\">\n",
       "  <thead>\n",
       "    <tr style=\"text-align: right;\">\n",
       "      <th></th>\n",
       "      <th>username</th>\n",
       "      <th>country</th>\n",
       "      <th>age</th>\n",
       "      <th>ezlvl</th>\n",
       "      <th>time</th>\n",
       "      <th>points</th>\n",
       "      <th>finished</th>\n",
       "    </tr>\n",
       "  </thead>\n",
       "  <tbody>\n",
       "    <tr>\n",
       "      <th>0</th>\n",
       "      <td>mary</td>\n",
       "      <td>us</td>\n",
       "      <td>38</td>\n",
       "      <td>0</td>\n",
       "      <td>124.94</td>\n",
       "      <td>418</td>\n",
       "      <td>0</td>\n",
       "    </tr>\n",
       "    <tr>\n",
       "      <th>1</th>\n",
       "      <td>jane</td>\n",
       "      <td>ca</td>\n",
       "      <td>21</td>\n",
       "      <td>0</td>\n",
       "      <td>331.64</td>\n",
       "      <td>1149</td>\n",
       "      <td>1</td>\n",
       "    </tr>\n",
       "    <tr>\n",
       "      <th>2</th>\n",
       "      <td>emil</td>\n",
       "      <td>fr</td>\n",
       "      <td>52</td>\n",
       "      <td>1</td>\n",
       "      <td>324.61</td>\n",
       "      <td>1321</td>\n",
       "      <td>1</td>\n",
       "    </tr>\n",
       "    <tr>\n",
       "      <th>3</th>\n",
       "      <td>ivan</td>\n",
       "      <td>ca</td>\n",
       "      <td>50</td>\n",
       "      <td>1</td>\n",
       "      <td>39.51</td>\n",
       "      <td>226</td>\n",
       "      <td>0</td>\n",
       "    </tr>\n",
       "    <tr>\n",
       "      <th>4</th>\n",
       "      <td>hasan</td>\n",
       "      <td>tr</td>\n",
       "      <td>26</td>\n",
       "      <td>1</td>\n",
       "      <td>253.19</td>\n",
       "      <td>815</td>\n",
       "      <td>0</td>\n",
       "    </tr>\n",
       "    <tr>\n",
       "      <th>5</th>\n",
       "      <td>jordan</td>\n",
       "      <td>us</td>\n",
       "      <td>45</td>\n",
       "      <td>0</td>\n",
       "      <td>28.49</td>\n",
       "      <td>206</td>\n",
       "      <td>0</td>\n",
       "    </tr>\n",
       "    <tr>\n",
       "      <th>6</th>\n",
       "      <td>sanjay</td>\n",
       "      <td>ca</td>\n",
       "      <td>27</td>\n",
       "      <td>1</td>\n",
       "      <td>350.00</td>\n",
       "      <td>1401</td>\n",
       "      <td>1</td>\n",
       "    </tr>\n",
       "    <tr>\n",
       "      <th>7</th>\n",
       "      <td>lena</td>\n",
       "      <td>uk</td>\n",
       "      <td>23</td>\n",
       "      <td>0</td>\n",
       "      <td>408.76</td>\n",
       "      <td>1745</td>\n",
       "      <td>1</td>\n",
       "    </tr>\n",
       "    <tr>\n",
       "      <th>8</th>\n",
       "      <td>shuo</td>\n",
       "      <td>cn</td>\n",
       "      <td>24</td>\n",
       "      <td>1</td>\n",
       "      <td>194.77</td>\n",
       "      <td>1043</td>\n",
       "      <td>0</td>\n",
       "    </tr>\n",
       "    <tr>\n",
       "      <th>9</th>\n",
       "      <td>r0byn</td>\n",
       "      <td>us</td>\n",
       "      <td>59</td>\n",
       "      <td>0</td>\n",
       "      <td>255.55</td>\n",
       "      <td>1102</td>\n",
       "      <td>0</td>\n",
       "    </tr>\n",
       "    <tr>\n",
       "      <th>10</th>\n",
       "      <td>anna</td>\n",
       "      <td>pl</td>\n",
       "      <td>18</td>\n",
       "      <td>0</td>\n",
       "      <td>303.66</td>\n",
       "      <td>1209</td>\n",
       "      <td>1</td>\n",
       "    </tr>\n",
       "    <tr>\n",
       "      <th>11</th>\n",
       "      <td>joro</td>\n",
       "      <td>bg</td>\n",
       "      <td>22</td>\n",
       "      <td>1</td>\n",
       "      <td>381.97</td>\n",
       "      <td>1491</td>\n",
       "      <td>1</td>\n",
       "    </tr>\n",
       "  </tbody>\n",
       "</table>\n",
       "</div>"
      ],
      "text/plain": [
       "   username country  age  ezlvl    time  points  finished\n",
       "0      mary      us   38      0  124.94     418         0\n",
       "1      jane      ca   21      0  331.64    1149         1\n",
       "2      emil      fr   52      1  324.61    1321         1\n",
       "3      ivan      ca   50      1   39.51     226         0\n",
       "4     hasan      tr   26      1  253.19     815         0\n",
       "5    jordan      us   45      0   28.49     206         0\n",
       "6    sanjay      ca   27      1  350.00    1401         1\n",
       "7      lena      uk   23      0  408.76    1745         1\n",
       "8      shuo      cn   24      1  194.77    1043         0\n",
       "9     r0byn      us   59      0  255.55    1102         0\n",
       "10     anna      pl   18      0  303.66    1209         1\n",
       "11     joro      bg   22      1  381.97    1491         1"
      ]
     },
     "execution_count": 13,
     "metadata": {},
     "output_type": "execute_result"
    }
   ],
   "source": [
    "players = pd.read_csv(\"../datasets/players.csv\")\n",
    "players"
   ]
  },
  {
   "cell_type": "code",
   "execution_count": 14,
   "id": "8a1d79f2-fe60-4d72-bd57-20083c256e9e",
   "metadata": {},
   "outputs": [],
   "source": [
    "# ALT.\n",
    "filepath = os.path.join(\"..\", \"datasets\", \"players.csv\")\n",
    "players = pd.read_csv(filepath)"
   ]
  },
  {
   "cell_type": "markdown",
   "id": "b7fd0bad-4fd8-459b-8c8d-40fcc7fede3d",
   "metadata": {},
   "source": [
    "### Data frame properties"
   ]
  },
  {
   "cell_type": "code",
   "execution_count": 15,
   "id": "4f3a33fb-77df-4a7e-8ce6-9bd24249a77c",
   "metadata": {},
   "outputs": [
    {
     "data": {
      "text/plain": [
       "pandas.core.frame.DataFrame"
      ]
     },
     "execution_count": 15,
     "metadata": {},
     "output_type": "execute_result"
    }
   ],
   "source": [
    "type(players)"
   ]
  },
  {
   "cell_type": "code",
   "execution_count": 16,
   "id": "da643e43-c7e7-4653-bb57-5197abf779f8",
   "metadata": {},
   "outputs": [
    {
     "data": {
      "text/plain": [
       "RangeIndex(start=0, stop=12, step=1)"
      ]
     },
     "execution_count": 16,
     "metadata": {},
     "output_type": "execute_result"
    }
   ],
   "source": [
    "players.index"
   ]
  },
  {
   "cell_type": "code",
   "execution_count": 17,
   "id": "291866b7-b1fc-4f81-924a-688517ff439c",
   "metadata": {},
   "outputs": [
    {
     "data": {
      "text/plain": [
       "Index(['username', 'country', 'age', 'ezlvl', 'time', 'points', 'finished'], dtype='object')"
      ]
     },
     "execution_count": 17,
     "metadata": {},
     "output_type": "execute_result"
    }
   ],
   "source": [
    "players.columns"
   ]
  },
  {
   "cell_type": "code",
   "execution_count": 18,
   "id": "f7de221c-4566-4673-9622-dcabf1e8631d",
   "metadata": {},
   "outputs": [
    {
     "data": {
      "text/plain": [
       "(12, 7)"
      ]
     },
     "execution_count": 18,
     "metadata": {},
     "output_type": "execute_result"
    }
   ],
   "source": [
    "players.shape"
   ]
  },
  {
   "cell_type": "code",
   "execution_count": 19,
   "id": "fc8b2e65-a6bf-4f49-b39d-c0c24b494b9c",
   "metadata": {},
   "outputs": [
    {
     "data": {
      "text/plain": [
       "username     object\n",
       "country      object\n",
       "age           int64\n",
       "ezlvl         int64\n",
       "time        float64\n",
       "points        int64\n",
       "finished      int64\n",
       "dtype: object"
      ]
     },
     "execution_count": 19,
     "metadata": {},
     "output_type": "execute_result"
    }
   ],
   "source": [
    "players.dtypes"
   ]
  },
  {
   "cell_type": "code",
   "execution_count": null,
   "id": "a0f97e38-fa70-44f3-9c2b-ae33a877a07b",
   "metadata": {},
   "outputs": [],
   "source": []
  },
  {
   "cell_type": "code",
   "execution_count": null,
   "id": "efd7b332-0764-4e45-a9a4-3f603de8cc64",
   "metadata": {},
   "outputs": [],
   "source": []
  },
  {
   "cell_type": "code",
   "execution_count": 20,
   "id": "45cf5451-8a56-489c-bc75-97b93496bd6f",
   "metadata": {},
   "outputs": [
    {
     "data": {
      "text/html": [
       "<div>\n",
       "<style scoped>\n",
       "    .dataframe tbody tr th:only-of-type {\n",
       "        vertical-align: middle;\n",
       "    }\n",
       "\n",
       "    .dataframe tbody tr th {\n",
       "        vertical-align: top;\n",
       "    }\n",
       "\n",
       "    .dataframe thead th {\n",
       "        text-align: right;\n",
       "    }\n",
       "</style>\n",
       "<table border=\"1\" class=\"dataframe\">\n",
       "  <thead>\n",
       "    <tr style=\"text-align: right;\">\n",
       "      <th></th>\n",
       "      <th>username</th>\n",
       "      <th>country</th>\n",
       "      <th>age</th>\n",
       "      <th>ezlvl</th>\n",
       "      <th>time</th>\n",
       "      <th>points</th>\n",
       "      <th>finished</th>\n",
       "    </tr>\n",
       "  </thead>\n",
       "  <tbody>\n",
       "    <tr>\n",
       "      <th>0</th>\n",
       "      <td>mary</td>\n",
       "      <td>us</td>\n",
       "      <td>38</td>\n",
       "      <td>0</td>\n",
       "      <td>124.94</td>\n",
       "      <td>418</td>\n",
       "      <td>0</td>\n",
       "    </tr>\n",
       "    <tr>\n",
       "      <th>1</th>\n",
       "      <td>jane</td>\n",
       "      <td>ca</td>\n",
       "      <td>21</td>\n",
       "      <td>0</td>\n",
       "      <td>331.64</td>\n",
       "      <td>1149</td>\n",
       "      <td>1</td>\n",
       "    </tr>\n",
       "    <tr>\n",
       "      <th>2</th>\n",
       "      <td>emil</td>\n",
       "      <td>fr</td>\n",
       "      <td>52</td>\n",
       "      <td>1</td>\n",
       "      <td>324.61</td>\n",
       "      <td>1321</td>\n",
       "      <td>1</td>\n",
       "    </tr>\n",
       "  </tbody>\n",
       "</table>\n",
       "</div>"
      ],
      "text/plain": [
       "  username country  age  ezlvl    time  points  finished\n",
       "0     mary      us   38      0  124.94     418         0\n",
       "1     jane      ca   21      0  331.64    1149         1\n",
       "2     emil      fr   52      1  324.61    1321         1"
      ]
     },
     "execution_count": 20,
     "metadata": {},
     "output_type": "execute_result"
    }
   ],
   "source": [
    "players.head(3)\n",
    "# players.tail(2)\n",
    "# players.sample(3)"
   ]
  },
  {
   "cell_type": "code",
   "execution_count": 21,
   "id": "fb124e93-c519-49e6-bf92-aeacec101041",
   "metadata": {},
   "outputs": [
    {
     "name": "stdout",
     "output_type": "stream",
     "text": [
      "<class 'pandas.core.frame.DataFrame'>\n",
      "RangeIndex: 12 entries, 0 to 11\n",
      "Data columns (total 7 columns):\n",
      " #   Column    Non-Null Count  Dtype  \n",
      "---  ------    --------------  -----  \n",
      " 0   username  12 non-null     object \n",
      " 1   country   12 non-null     object \n",
      " 2   age       12 non-null     int64  \n",
      " 3   ezlvl     12 non-null     int64  \n",
      " 4   time      12 non-null     float64\n",
      " 5   points    12 non-null     int64  \n",
      " 6   finished  12 non-null     int64  \n",
      "dtypes: float64(1), int64(4), object(2)\n",
      "memory usage: 2.0 KB\n"
     ]
    }
   ],
   "source": [
    "players.info(memory_usage=\"deep\")"
   ]
  },
  {
   "cell_type": "code",
   "execution_count": 22,
   "id": "3969e827-6568-435e-9688-0b1828b6348c",
   "metadata": {},
   "outputs": [],
   "source": [
    "# players.axes\n",
    "# players.memory_usage()\n",
    "# players.values"
   ]
  },
  {
   "cell_type": "code",
   "execution_count": null,
   "id": "c761920a-ef2b-4103-9688-394046c6ed8b",
   "metadata": {},
   "outputs": [],
   "source": []
  },
  {
   "cell_type": "code",
   "execution_count": null,
   "id": "ca6eb058-6b92-43fa-8b1b-3175729a971b",
   "metadata": {},
   "outputs": [],
   "source": []
  },
  {
   "cell_type": "markdown",
   "id": "5182aa71-d792-449b-b73b-5e8e563e162c",
   "metadata": {},
   "source": [
    "### Accessing values in a DataFrame"
   ]
  },
  {
   "cell_type": "markdown",
   "id": "dd961bf9-0df9-450b-afd9-f4f81dacfe65",
   "metadata": {},
   "source": [
    "#### Selecting individual values"
   ]
  },
  {
   "cell_type": "code",
   "execution_count": 23,
   "id": "79ea4191-d863-4f47-a44e-ff50d37d9152",
   "metadata": {},
   "outputs": [
    {
     "data": {
      "text/plain": [
       "1321"
      ]
     },
     "execution_count": 23,
     "metadata": {},
     "output_type": "execute_result"
    }
   ],
   "source": [
    "# Emil's points\n",
    "players.loc[2,\"points\"]"
   ]
  },
  {
   "cell_type": "code",
   "execution_count": null,
   "id": "d6f566f7-c59b-4cb1-8724-759facda4ed3",
   "metadata": {},
   "outputs": [],
   "source": []
  },
  {
   "cell_type": "markdown",
   "id": "5317dead-58ce-4bd1-a23e-032ad2dc0544",
   "metadata": {},
   "source": [
    "#### Selecting entire rows"
   ]
  },
  {
   "cell_type": "code",
   "execution_count": 24,
   "id": "d169e387-d129-45d7-947e-f5062d4cffff",
   "metadata": {},
   "outputs": [
    {
     "data": {
      "text/plain": [
       "username    sanjay\n",
       "country         ca\n",
       "age             27\n",
       "ezlvl            1\n",
       "time         350.0\n",
       "points        1401\n",
       "finished         1\n",
       "Name: 6, dtype: object"
      ]
     },
     "execution_count": 24,
     "metadata": {},
     "output_type": "execute_result"
    }
   ],
   "source": [
    "# Sanjay's data\n",
    "row6 = players.loc[6,:]  # == players.loc[6]\n",
    "row6"
   ]
  },
  {
   "cell_type": "code",
   "execution_count": 25,
   "id": "96c99ba6-e177-43dc-97d6-7ea17a2e8667",
   "metadata": {},
   "outputs": [
    {
     "data": {
      "text/plain": [
       "pandas.core.series.Series"
      ]
     },
     "execution_count": 25,
     "metadata": {},
     "output_type": "execute_result"
    }
   ],
   "source": [
    "# Rows of the dataframe are Series objects\n",
    "type(row6)"
   ]
  },
  {
   "cell_type": "markdown",
   "id": "961785b7-1e00-4e47-a774-217897e6a8bc",
   "metadata": {},
   "source": [
    "The `index` of the series `row6` is the same as the columns index of the data frame `players`."
   ]
  },
  {
   "cell_type": "code",
   "execution_count": 26,
   "id": "cef7923f-7a65-49b8-b4ce-7ace5592e1a0",
   "metadata": {},
   "outputs": [
    {
     "data": {
      "text/plain": [
       "Index(['username', 'country', 'age', 'ezlvl', 'time', 'points', 'finished'], dtype='object')"
      ]
     },
     "execution_count": 26,
     "metadata": {},
     "output_type": "execute_result"
    }
   ],
   "source": [
    "row6.index"
   ]
  },
  {
   "cell_type": "markdown",
   "id": "ea1970b5-afab-472f-b3c6-fb15cd0268af",
   "metadata": {},
   "source": [
    "To access individual values, use the square bracket notation."
   ]
  },
  {
   "cell_type": "code",
   "execution_count": 27,
   "id": "b077de35-983d-4c8d-92c6-c6593e05b001",
   "metadata": {},
   "outputs": [
    {
     "data": {
      "text/plain": [
       "27"
      ]
     },
     "execution_count": 27,
     "metadata": {},
     "output_type": "execute_result"
    }
   ],
   "source": [
    "row6[\"age\"]"
   ]
  },
  {
   "cell_type": "code",
   "execution_count": null,
   "id": "9641ddd9-0b2c-43e7-afef-c8ee41504439",
   "metadata": {},
   "outputs": [],
   "source": []
  },
  {
   "cell_type": "markdown",
   "id": "4572689e-f470-4686-9cca-75c4ca9ef048",
   "metadata": {},
   "source": [
    "#### Selecting entire columns"
   ]
  },
  {
   "cell_type": "code",
   "execution_count": 28,
   "id": "dce25ae2-06da-4841-bc11-2747855ebe71",
   "metadata": {},
   "outputs": [
    {
     "data": {
      "text/plain": [
       "0     38\n",
       "1     21\n",
       "2     52\n",
       "3     50\n",
       "4     26\n",
       "5     45\n",
       "6     27\n",
       "7     23\n",
       "8     24\n",
       "9     59\n",
       "10    18\n",
       "11    22\n",
       "Name: age, dtype: int64"
      ]
     },
     "execution_count": 28,
     "metadata": {},
     "output_type": "execute_result"
    }
   ],
   "source": [
    "ages = players[\"age\"]\n",
    "ages"
   ]
  },
  {
   "cell_type": "code",
   "execution_count": 29,
   "id": "99f9aa2f-7b0e-4b2a-881b-a68fa5e5f1c6",
   "metadata": {},
   "outputs": [
    {
     "data": {
      "text/plain": [
       "pandas.core.series.Series"
      ]
     },
     "execution_count": 29,
     "metadata": {},
     "output_type": "execute_result"
    }
   ],
   "source": [
    "type(ages)"
   ]
  },
  {
   "cell_type": "code",
   "execution_count": 30,
   "id": "44593e36-724e-47c1-805c-9620ee4d2731",
   "metadata": {},
   "outputs": [
    {
     "data": {
      "text/plain": [
       "RangeIndex(start=0, stop=12, step=1)"
      ]
     },
     "execution_count": 30,
     "metadata": {},
     "output_type": "execute_result"
    }
   ],
   "source": [
    "ages.index"
   ]
  },
  {
   "cell_type": "code",
   "execution_count": 31,
   "id": "43a4a89c-5a89-41ff-8751-5a07cea6c2d8",
   "metadata": {},
   "outputs": [
    {
     "data": {
      "text/plain": [
       "array([38, 21, 52, 50, 26, 45, 27, 23, 24, 59, 18, 22])"
      ]
     },
     "execution_count": 31,
     "metadata": {},
     "output_type": "execute_result"
    }
   ],
   "source": [
    "ages.values"
   ]
  },
  {
   "cell_type": "code",
   "execution_count": 32,
   "id": "481431ff-064d-457c-977c-6a184e1f24e3",
   "metadata": {},
   "outputs": [],
   "source": [
    "# ALT1.\n",
    "# players[\"age\"].equals( players.loc[:,\"age\"] )"
   ]
  },
  {
   "cell_type": "code",
   "execution_count": 33,
   "id": "2bba5e49-0c14-4594-8e49-d83e8dda0900",
   "metadata": {},
   "outputs": [],
   "source": [
    "# ALT2.\n",
    "# players[\"age\"].equals( players.age )"
   ]
  },
  {
   "cell_type": "code",
   "execution_count": 34,
   "id": "0f6abff9-cb72-4115-a5fd-f24b51475b8e",
   "metadata": {},
   "outputs": [
    {
     "data": {
      "text/plain": [
       "27"
      ]
     },
     "execution_count": 34,
     "metadata": {},
     "output_type": "execute_result"
    }
   ],
   "source": [
    "ages[6]"
   ]
  },
  {
   "cell_type": "code",
   "execution_count": null,
   "id": "529aa746-0b5a-4e01-a973-b8295588e3a6",
   "metadata": {},
   "outputs": [],
   "source": []
  },
  {
   "cell_type": "code",
   "execution_count": null,
   "id": "4ad2d201-dcde-4dee-8dcf-6e925c2c46d8",
   "metadata": {},
   "outputs": [],
   "source": []
  },
  {
   "cell_type": "markdown",
   "id": "e524ab3e-6988-4bd0-a7c1-6a41415613f8",
   "metadata": {},
   "source": [
    "#### Selecting multiple columns"
   ]
  },
  {
   "cell_type": "code",
   "execution_count": 35,
   "id": "dcbfcc05-209b-44f6-a4b5-cbee814d6b22",
   "metadata": {},
   "outputs": [
    {
     "data": {
      "text/html": [
       "<div>\n",
       "<style scoped>\n",
       "    .dataframe tbody tr th:only-of-type {\n",
       "        vertical-align: middle;\n",
       "    }\n",
       "\n",
       "    .dataframe tbody tr th {\n",
       "        vertical-align: top;\n",
       "    }\n",
       "\n",
       "    .dataframe thead th {\n",
       "        text-align: right;\n",
       "    }\n",
       "</style>\n",
       "<table border=\"1\" class=\"dataframe\">\n",
       "  <thead>\n",
       "    <tr style=\"text-align: right;\">\n",
       "      <th></th>\n",
       "      <th>username</th>\n",
       "      <th>country</th>\n",
       "    </tr>\n",
       "  </thead>\n",
       "  <tbody>\n",
       "    <tr>\n",
       "      <th>0</th>\n",
       "      <td>mary</td>\n",
       "      <td>us</td>\n",
       "    </tr>\n",
       "    <tr>\n",
       "      <th>1</th>\n",
       "      <td>jane</td>\n",
       "      <td>ca</td>\n",
       "    </tr>\n",
       "    <tr>\n",
       "      <th>2</th>\n",
       "      <td>emil</td>\n",
       "      <td>fr</td>\n",
       "    </tr>\n",
       "    <tr>\n",
       "      <th>3</th>\n",
       "      <td>ivan</td>\n",
       "      <td>ca</td>\n",
       "    </tr>\n",
       "    <tr>\n",
       "      <th>4</th>\n",
       "      <td>hasan</td>\n",
       "      <td>tr</td>\n",
       "    </tr>\n",
       "    <tr>\n",
       "      <th>5</th>\n",
       "      <td>jordan</td>\n",
       "      <td>us</td>\n",
       "    </tr>\n",
       "    <tr>\n",
       "      <th>6</th>\n",
       "      <td>sanjay</td>\n",
       "      <td>ca</td>\n",
       "    </tr>\n",
       "    <tr>\n",
       "      <th>7</th>\n",
       "      <td>lena</td>\n",
       "      <td>uk</td>\n",
       "    </tr>\n",
       "    <tr>\n",
       "      <th>8</th>\n",
       "      <td>shuo</td>\n",
       "      <td>cn</td>\n",
       "    </tr>\n",
       "    <tr>\n",
       "      <th>9</th>\n",
       "      <td>r0byn</td>\n",
       "      <td>us</td>\n",
       "    </tr>\n",
       "    <tr>\n",
       "      <th>10</th>\n",
       "      <td>anna</td>\n",
       "      <td>pl</td>\n",
       "    </tr>\n",
       "    <tr>\n",
       "      <th>11</th>\n",
       "      <td>joro</td>\n",
       "      <td>bg</td>\n",
       "    </tr>\n",
       "  </tbody>\n",
       "</table>\n",
       "</div>"
      ],
      "text/plain": [
       "   username country\n",
       "0      mary      us\n",
       "1      jane      ca\n",
       "2      emil      fr\n",
       "3      ivan      ca\n",
       "4     hasan      tr\n",
       "5    jordan      us\n",
       "6    sanjay      ca\n",
       "7      lena      uk\n",
       "8      shuo      cn\n",
       "9     r0byn      us\n",
       "10     anna      pl\n",
       "11     joro      bg"
      ]
     },
     "execution_count": 35,
     "metadata": {},
     "output_type": "execute_result"
    }
   ],
   "source": [
    "players[[\"username\", \"country\"]]"
   ]
  },
  {
   "cell_type": "code",
   "execution_count": null,
   "id": "32122190-3c00-4b0d-a3a6-b336893215d2",
   "metadata": {},
   "outputs": [],
   "source": []
  },
  {
   "cell_type": "markdown",
   "id": "1b9cf872-1070-46e5-84b9-c88e8ba32dc4",
   "metadata": {},
   "source": [
    "#### Selecting subsets of the data frame\n",
    "\n",
    "We rarely need to do this,\n",
    "but for the purpose of illustration of the `loc` syntax,\n",
    "here is the code for selecting the `time` and `points` columns\n",
    "from the last three rows of the `players` data frame."
   ]
  },
  {
   "cell_type": "code",
   "execution_count": 52,
   "id": "9b5d040b-b8e9-4973-bc18-52b866c9ebac",
   "metadata": {},
   "outputs": [
    {
     "data": {
      "text/html": [
       "<div>\n",
       "<style scoped>\n",
       "    .dataframe tbody tr th:only-of-type {\n",
       "        vertical-align: middle;\n",
       "    }\n",
       "\n",
       "    .dataframe tbody tr th {\n",
       "        vertical-align: top;\n",
       "    }\n",
       "\n",
       "    .dataframe thead th {\n",
       "        text-align: right;\n",
       "    }\n",
       "</style>\n",
       "<table border=\"1\" class=\"dataframe\">\n",
       "  <thead>\n",
       "    <tr style=\"text-align: right;\">\n",
       "      <th></th>\n",
       "      <th>time</th>\n",
       "      <th>points</th>\n",
       "    </tr>\n",
       "  </thead>\n",
       "  <tbody>\n",
       "    <tr>\n",
       "      <th>9</th>\n",
       "      <td>255.55</td>\n",
       "      <td>1102</td>\n",
       "    </tr>\n",
       "    <tr>\n",
       "      <th>10</th>\n",
       "      <td>303.66</td>\n",
       "      <td>1209</td>\n",
       "    </tr>\n",
       "    <tr>\n",
       "      <th>11</th>\n",
       "      <td>381.97</td>\n",
       "      <td>1491</td>\n",
       "    </tr>\n",
       "  </tbody>\n",
       "</table>\n",
       "</div>"
      ],
      "text/plain": [
       "      time  points\n",
       "9   255.55    1102\n",
       "10  303.66    1209\n",
       "11  381.97    1491"
      ]
     },
     "execution_count": 52,
     "metadata": {},
     "output_type": "execute_result"
    }
   ],
   "source": [
    "players.loc[9:12, [\"time\",\"points\"]]"
   ]
  },
  {
   "cell_type": "code",
   "execution_count": null,
   "id": "18e68767-08ce-4688-a3fd-9739b18f00c8",
   "metadata": {},
   "outputs": [],
   "source": []
  },
  {
   "cell_type": "markdown",
   "id": "1c99d726-0b2f-453b-85bb-04407be09efc",
   "metadata": {},
   "source": [
    "### Statistical calculations using Pandas"
   ]
  },
  {
   "cell_type": "code",
   "execution_count": 36,
   "id": "4e5cd02d-f0bf-4bfe-a962-d27fc1f2cd86",
   "metadata": {},
   "outputs": [
    {
     "data": {
      "text/plain": [
       "0     38\n",
       "1     21\n",
       "2     52\n",
       "3     50\n",
       "4     26\n",
       "5     45\n",
       "6     27\n",
       "7     23\n",
       "8     24\n",
       "9     59\n",
       "10    18\n",
       "11    22\n",
       "Name: age, dtype: int64"
      ]
     },
     "execution_count": 36,
     "metadata": {},
     "output_type": "execute_result"
    }
   ],
   "source": [
    "ages = players[\"age\"]  # == players.loc[:,\"age\"]\n",
    "ages"
   ]
  },
  {
   "cell_type": "code",
   "execution_count": 37,
   "id": "c578912f-b3f5-4666-93c2-374014a96e7a",
   "metadata": {},
   "outputs": [
    {
     "data": {
      "text/plain": [
       "pandas.core.series.Series"
      ]
     },
     "execution_count": 37,
     "metadata": {},
     "output_type": "execute_result"
    }
   ],
   "source": [
    "type(ages)"
   ]
  },
  {
   "cell_type": "code",
   "execution_count": 38,
   "id": "bb1fc8c7-acf2-4ef4-ae7c-0be77b80c9a3",
   "metadata": {},
   "outputs": [
    {
     "data": {
      "text/plain": [
       "RangeIndex(start=0, stop=12, step=1)"
      ]
     },
     "execution_count": 38,
     "metadata": {},
     "output_type": "execute_result"
    }
   ],
   "source": [
    "ages.index"
   ]
  },
  {
   "cell_type": "code",
   "execution_count": 39,
   "id": "8e1d6363-9a8d-41e2-8295-e1fa0a043a6c",
   "metadata": {},
   "outputs": [
    {
     "data": {
      "text/plain": [
       "'age'"
      ]
     },
     "execution_count": 39,
     "metadata": {},
     "output_type": "execute_result"
    }
   ],
   "source": [
    "ages.name"
   ]
  },
  {
   "cell_type": "code",
   "execution_count": 40,
   "id": "73f46417-ea6f-4537-b420-f01b8d91e41b",
   "metadata": {},
   "outputs": [
    {
     "data": {
      "text/plain": [
       "username    sanjay\n",
       "country         ca\n",
       "age             27\n",
       "ezlvl            1\n",
       "time         350.0\n",
       "points        1401\n",
       "finished         1\n",
       "Name: 6, dtype: object"
      ]
     },
     "execution_count": 40,
     "metadata": {},
     "output_type": "execute_result"
    }
   ],
   "source": [
    "players.loc[6]"
   ]
  },
  {
   "cell_type": "code",
   "execution_count": null,
   "id": "fcaa8af3-c716-47b3-ba1e-2a6473c3c745",
   "metadata": {},
   "outputs": [],
   "source": []
  },
  {
   "cell_type": "code",
   "execution_count": null,
   "id": "914862a4-103e-42e1-a084-8a89a4806a87",
   "metadata": {},
   "outputs": [],
   "source": []
  },
  {
   "cell_type": "markdown",
   "id": "24cdc03e-c282-4320-b01e-5ec4fee7f74c",
   "metadata": {},
   "source": [
    "#### Series methods"
   ]
  },
  {
   "cell_type": "code",
   "execution_count": 41,
   "id": "bc4fff74-3e24-48e9-8055-2a64056aba65",
   "metadata": {},
   "outputs": [
    {
     "data": {
      "text/plain": [
       "12"
      ]
     },
     "execution_count": 41,
     "metadata": {},
     "output_type": "execute_result"
    }
   ],
   "source": [
    "ages.count()"
   ]
  },
  {
   "cell_type": "code",
   "execution_count": 42,
   "id": "2c91c906-0512-423d-9d5d-f3d68b6a41b0",
   "metadata": {},
   "outputs": [],
   "source": [
    "# # ALT\n",
    "# len(ages)"
   ]
  },
  {
   "cell_type": "code",
   "execution_count": 43,
   "id": "eb6bd5c3-df22-4b70-9a52-85d4f8c901c2",
   "metadata": {},
   "outputs": [
    {
     "data": {
      "text/plain": [
       "405"
      ]
     },
     "execution_count": 43,
     "metadata": {},
     "output_type": "execute_result"
    }
   ],
   "source": [
    "ages.sum()"
   ]
  },
  {
   "cell_type": "code",
   "execution_count": 44,
   "id": "dc793012-8a70-4462-b3d7-3e540242dd81",
   "metadata": {},
   "outputs": [
    {
     "data": {
      "text/plain": [
       "33.75"
      ]
     },
     "execution_count": 44,
     "metadata": {},
     "output_type": "execute_result"
    }
   ],
   "source": [
    "ages.sum() / ages.count()"
   ]
  },
  {
   "cell_type": "code",
   "execution_count": 45,
   "id": "dd1483b4-484e-4e35-9efc-3964dcc41fa2",
   "metadata": {},
   "outputs": [
    {
     "data": {
      "text/plain": [
       "33.75"
      ]
     },
     "execution_count": 45,
     "metadata": {},
     "output_type": "execute_result"
    }
   ],
   "source": [
    "ages.mean()"
   ]
  },
  {
   "cell_type": "code",
   "execution_count": 46,
   "id": "94f54a17-c0db-4a26-8759-4804b30a0a19",
   "metadata": {},
   "outputs": [
    {
     "data": {
      "text/plain": [
       "14.28365244861157"
      ]
     },
     "execution_count": 46,
     "metadata": {},
     "output_type": "execute_result"
    }
   ],
   "source": [
    "ages.std()"
   ]
  },
  {
   "cell_type": "code",
   "execution_count": null,
   "id": "655f2ec8-c550-4e58-82e7-9628a010aa79",
   "metadata": {},
   "outputs": [],
   "source": []
  },
  {
   "cell_type": "code",
   "execution_count": null,
   "id": "28a99837-60df-46c5-ad0e-a4ffe032e910",
   "metadata": {},
   "outputs": [],
   "source": []
  },
  {
   "cell_type": "code",
   "execution_count": null,
   "id": "46d734fc-d321-4065-ac3c-8867a019beea",
   "metadata": {},
   "outputs": [],
   "source": []
  },
  {
   "cell_type": "code",
   "execution_count": null,
   "id": "518d8081-9fef-40bc-ab19-c291539d0d84",
   "metadata": {},
   "outputs": [],
   "source": []
  },
  {
   "cell_type": "markdown",
   "id": "31855657-5fb3-4e39-a1a7-aa882c34c8b3",
   "metadata": {},
   "source": [
    "### Selecting only certain rows (filtering)\n"
   ]
  },
  {
   "cell_type": "markdown",
   "id": "db2c7071-0833-4ca3-bd90-24ff2d7c3000",
   "metadata": {},
   "source": [
    "To select only rows where `ezlvl` is `1`, we first build the boolean selection mask..."
   ]
  },
  {
   "cell_type": "code",
   "execution_count": 47,
   "id": "b98b49ca-ebc0-4e3f-808c-013d24ed94be",
   "metadata": {},
   "outputs": [
    {
     "data": {
      "text/plain": [
       "0     False\n",
       "1     False\n",
       "2      True\n",
       "3      True\n",
       "4      True\n",
       "5     False\n",
       "6      True\n",
       "7     False\n",
       "8      True\n",
       "9     False\n",
       "10    False\n",
       "11     True\n",
       "Name: ezlvl, dtype: bool"
      ]
     },
     "execution_count": 47,
     "metadata": {},
     "output_type": "execute_result"
    }
   ],
   "source": [
    "mask = players[\"ezlvl\"] == 1\n",
    "mask"
   ]
  },
  {
   "cell_type": "markdown",
   "id": "1ac1a6a6-6e24-4259-9cc4-7ff8598eb1f7",
   "metadata": {},
   "source": [
    "... then select the rows using the mask."
   ]
  },
  {
   "cell_type": "code",
   "execution_count": 48,
   "id": "f19c7d93-008c-40e2-ad37-31f4d76ae881",
   "metadata": {},
   "outputs": [
    {
     "name": "stdout",
     "output_type": "stream",
     "text": [
      "   username country  age  ezlvl    time  points  finished\n",
      "2      emil      fr   52      1  324.61    1321         1\n",
      "3      ivan      ca   50      1   39.51     226         0\n",
      "4     hasan      tr   26      1  253.19     815         0\n",
      "6    sanjay      ca   27      1  350.00    1401         1\n",
      "8      shuo      cn   24      1  194.77    1043         0\n",
      "11     joro      bg   22      1  381.97    1491         1\n"
     ]
    }
   ],
   "source": [
    "print(players[mask])"
   ]
  },
  {
   "cell_type": "markdown",
   "id": "4524e589-9513-4cee-b187-29729698aeca",
   "metadata": {},
   "source": [
    "The above two step process can be combined into a more compact expression:"
   ]
  },
  {
   "cell_type": "code",
   "execution_count": 49,
   "id": "31504f1d-4b9b-48b3-be84-96afe36b9db6",
   "metadata": {},
   "outputs": [
    {
     "data": {
      "text/html": [
       "<div>\n",
       "<style scoped>\n",
       "    .dataframe tbody tr th:only-of-type {\n",
       "        vertical-align: middle;\n",
       "    }\n",
       "\n",
       "    .dataframe tbody tr th {\n",
       "        vertical-align: top;\n",
       "    }\n",
       "\n",
       "    .dataframe thead th {\n",
       "        text-align: right;\n",
       "    }\n",
       "</style>\n",
       "<table border=\"1\" class=\"dataframe\">\n",
       "  <thead>\n",
       "    <tr style=\"text-align: right;\">\n",
       "      <th></th>\n",
       "      <th>username</th>\n",
       "      <th>country</th>\n",
       "      <th>age</th>\n",
       "      <th>ezlvl</th>\n",
       "      <th>time</th>\n",
       "      <th>points</th>\n",
       "      <th>finished</th>\n",
       "    </tr>\n",
       "  </thead>\n",
       "  <tbody>\n",
       "    <tr>\n",
       "      <th>2</th>\n",
       "      <td>emil</td>\n",
       "      <td>fr</td>\n",
       "      <td>52</td>\n",
       "      <td>1</td>\n",
       "      <td>324.61</td>\n",
       "      <td>1321</td>\n",
       "      <td>1</td>\n",
       "    </tr>\n",
       "    <tr>\n",
       "      <th>3</th>\n",
       "      <td>ivan</td>\n",
       "      <td>ca</td>\n",
       "      <td>50</td>\n",
       "      <td>1</td>\n",
       "      <td>39.51</td>\n",
       "      <td>226</td>\n",
       "      <td>0</td>\n",
       "    </tr>\n",
       "    <tr>\n",
       "      <th>4</th>\n",
       "      <td>hasan</td>\n",
       "      <td>tr</td>\n",
       "      <td>26</td>\n",
       "      <td>1</td>\n",
       "      <td>253.19</td>\n",
       "      <td>815</td>\n",
       "      <td>0</td>\n",
       "    </tr>\n",
       "    <tr>\n",
       "      <th>6</th>\n",
       "      <td>sanjay</td>\n",
       "      <td>ca</td>\n",
       "      <td>27</td>\n",
       "      <td>1</td>\n",
       "      <td>350.00</td>\n",
       "      <td>1401</td>\n",
       "      <td>1</td>\n",
       "    </tr>\n",
       "    <tr>\n",
       "      <th>8</th>\n",
       "      <td>shuo</td>\n",
       "      <td>cn</td>\n",
       "      <td>24</td>\n",
       "      <td>1</td>\n",
       "      <td>194.77</td>\n",
       "      <td>1043</td>\n",
       "      <td>0</td>\n",
       "    </tr>\n",
       "    <tr>\n",
       "      <th>11</th>\n",
       "      <td>joro</td>\n",
       "      <td>bg</td>\n",
       "      <td>22</td>\n",
       "      <td>1</td>\n",
       "      <td>381.97</td>\n",
       "      <td>1491</td>\n",
       "      <td>1</td>\n",
       "    </tr>\n",
       "  </tbody>\n",
       "</table>\n",
       "</div>"
      ],
      "text/plain": [
       "   username country  age  ezlvl    time  points  finished\n",
       "2      emil      fr   52      1  324.61    1321         1\n",
       "3      ivan      ca   50      1   39.51     226         0\n",
       "4     hasan      tr   26      1  253.19     815         0\n",
       "6    sanjay      ca   27      1  350.00    1401         1\n",
       "8      shuo      cn   24      1  194.77    1043         0\n",
       "11     joro      bg   22      1  381.97    1491         1"
      ]
     },
     "execution_count": 49,
     "metadata": {},
     "output_type": "execute_result"
    }
   ],
   "source": [
    "players[players[\"ezlvl\"]==1]"
   ]
  },
  {
   "cell_type": "code",
   "execution_count": 50,
   "id": "aad81bf1-1bc9-4821-bcd3-35c8b1efd169",
   "metadata": {},
   "outputs": [],
   "source": [
    "# BONUS. mask for selecting players with ezlvl=1 and time greater than 200 mins\n",
    "# players[(players[\"ezlvl\"] == 1) & (players[\"time\"] >= 200)]"
   ]
  },
  {
   "cell_type": "code",
   "execution_count": 51,
   "id": "809b90ce-e143-42cd-9360-006951f40bf6",
   "metadata": {},
   "outputs": [],
   "source": [
    "# BONUS. mask for selecting USA and Canada players\n",
    "# players[\"country\"].isin([\"us\",\"ca\"])"
   ]
  },
  {
   "cell_type": "code",
   "execution_count": null,
   "id": "3fa6077e-5f97-4d08-9fb2-1135ec1582cf",
   "metadata": {},
   "outputs": [],
   "source": []
  },
  {
   "cell_type": "code",
   "execution_count": null,
   "id": "d64769e4-8a84-4d64-b634-6354d15475d9",
   "metadata": {},
   "outputs": [],
   "source": []
  },
  {
   "cell_type": "code",
   "execution_count": null,
   "id": "a33f019a-656a-4bc9-b22f-b6740c25cd1e",
   "metadata": {},
   "outputs": [],
   "source": []
  },
  {
   "cell_type": "code",
   "execution_count": null,
   "id": "5e54f099-c049-497b-b1db-3951e08c11f2",
   "metadata": {},
   "outputs": [],
   "source": []
  },
  {
   "cell_type": "markdown",
   "id": "ea9a46c5-c979-499d-8e73-51df01fb4732",
   "metadata": {},
   "source": [
    "### Sorting data frames and ranking"
   ]
  },
  {
   "cell_type": "code",
   "execution_count": 80,
   "id": "236d91c8-0711-4997-a231-9da743918331",
   "metadata": {},
   "outputs": [
    {
     "data": {
      "text/html": [
       "<div>\n",
       "<style scoped>\n",
       "    .dataframe tbody tr th:only-of-type {\n",
       "        vertical-align: middle;\n",
       "    }\n",
       "\n",
       "    .dataframe tbody tr th {\n",
       "        vertical-align: top;\n",
       "    }\n",
       "\n",
       "    .dataframe thead th {\n",
       "        text-align: right;\n",
       "    }\n",
       "</style>\n",
       "<table border=\"1\" class=\"dataframe\">\n",
       "  <thead>\n",
       "    <tr style=\"text-align: right;\">\n",
       "      <th></th>\n",
       "      <th>username</th>\n",
       "      <th>country</th>\n",
       "      <th>age</th>\n",
       "      <th>ezlvl</th>\n",
       "      <th>time</th>\n",
       "      <th>points</th>\n",
       "      <th>finished</th>\n",
       "    </tr>\n",
       "  </thead>\n",
       "  <tbody>\n",
       "    <tr>\n",
       "      <th>5</th>\n",
       "      <td>jordan</td>\n",
       "      <td>us</td>\n",
       "      <td>45</td>\n",
       "      <td>0</td>\n",
       "      <td>28.49</td>\n",
       "      <td>206</td>\n",
       "      <td>0</td>\n",
       "    </tr>\n",
       "    <tr>\n",
       "      <th>3</th>\n",
       "      <td>ivan</td>\n",
       "      <td>ca</td>\n",
       "      <td>50</td>\n",
       "      <td>1</td>\n",
       "      <td>39.51</td>\n",
       "      <td>226</td>\n",
       "      <td>0</td>\n",
       "    </tr>\n",
       "    <tr>\n",
       "      <th>0</th>\n",
       "      <td>mary</td>\n",
       "      <td>us</td>\n",
       "      <td>38</td>\n",
       "      <td>0</td>\n",
       "      <td>124.94</td>\n",
       "      <td>418</td>\n",
       "      <td>0</td>\n",
       "    </tr>\n",
       "    <tr>\n",
       "      <th>8</th>\n",
       "      <td>shuo</td>\n",
       "      <td>cn</td>\n",
       "      <td>24</td>\n",
       "      <td>1</td>\n",
       "      <td>194.77</td>\n",
       "      <td>1043</td>\n",
       "      <td>0</td>\n",
       "    </tr>\n",
       "    <tr>\n",
       "      <th>4</th>\n",
       "      <td>hasan</td>\n",
       "      <td>tr</td>\n",
       "      <td>26</td>\n",
       "      <td>1</td>\n",
       "      <td>253.19</td>\n",
       "      <td>815</td>\n",
       "      <td>0</td>\n",
       "    </tr>\n",
       "    <tr>\n",
       "      <th>9</th>\n",
       "      <td>r0byn</td>\n",
       "      <td>us</td>\n",
       "      <td>59</td>\n",
       "      <td>0</td>\n",
       "      <td>255.55</td>\n",
       "      <td>1102</td>\n",
       "      <td>0</td>\n",
       "    </tr>\n",
       "    <tr>\n",
       "      <th>10</th>\n",
       "      <td>anna</td>\n",
       "      <td>pl</td>\n",
       "      <td>18</td>\n",
       "      <td>0</td>\n",
       "      <td>303.66</td>\n",
       "      <td>1209</td>\n",
       "      <td>1</td>\n",
       "    </tr>\n",
       "    <tr>\n",
       "      <th>2</th>\n",
       "      <td>emil</td>\n",
       "      <td>fr</td>\n",
       "      <td>52</td>\n",
       "      <td>1</td>\n",
       "      <td>324.61</td>\n",
       "      <td>1321</td>\n",
       "      <td>1</td>\n",
       "    </tr>\n",
       "    <tr>\n",
       "      <th>1</th>\n",
       "      <td>jane</td>\n",
       "      <td>ca</td>\n",
       "      <td>21</td>\n",
       "      <td>0</td>\n",
       "      <td>331.64</td>\n",
       "      <td>1149</td>\n",
       "      <td>1</td>\n",
       "    </tr>\n",
       "    <tr>\n",
       "      <th>6</th>\n",
       "      <td>sanjay</td>\n",
       "      <td>ca</td>\n",
       "      <td>27</td>\n",
       "      <td>1</td>\n",
       "      <td>350.00</td>\n",
       "      <td>1401</td>\n",
       "      <td>1</td>\n",
       "    </tr>\n",
       "    <tr>\n",
       "      <th>11</th>\n",
       "      <td>joro</td>\n",
       "      <td>bg</td>\n",
       "      <td>22</td>\n",
       "      <td>1</td>\n",
       "      <td>381.97</td>\n",
       "      <td>1491</td>\n",
       "      <td>1</td>\n",
       "    </tr>\n",
       "    <tr>\n",
       "      <th>7</th>\n",
       "      <td>lena</td>\n",
       "      <td>uk</td>\n",
       "      <td>23</td>\n",
       "      <td>0</td>\n",
       "      <td>408.76</td>\n",
       "      <td>1745</td>\n",
       "      <td>1</td>\n",
       "    </tr>\n",
       "  </tbody>\n",
       "</table>\n",
       "</div>"
      ],
      "text/plain": [
       "   username country  age  ezlvl    time  points  finished\n",
       "5    jordan      us   45      0   28.49     206         0\n",
       "3      ivan      ca   50      1   39.51     226         0\n",
       "0      mary      us   38      0  124.94     418         0\n",
       "8      shuo      cn   24      1  194.77    1043         0\n",
       "4     hasan      tr   26      1  253.19     815         0\n",
       "9     r0byn      us   59      0  255.55    1102         0\n",
       "10     anna      pl   18      0  303.66    1209         1\n",
       "2      emil      fr   52      1  324.61    1321         1\n",
       "1      jane      ca   21      0  331.64    1149         1\n",
       "6    sanjay      ca   27      1  350.00    1401         1\n",
       "11     joro      bg   22      1  381.97    1491         1\n",
       "7      lena      uk   23      0  408.76    1745         1"
      ]
     },
     "execution_count": 80,
     "metadata": {},
     "output_type": "execute_result"
    }
   ],
   "source": [
    "players.sort_values(\"time\")"
   ]
  },
  {
   "cell_type": "code",
   "execution_count": 79,
   "id": "c041f0a1-8be6-4f38-8aaf-80959d4f7f2b",
   "metadata": {},
   "outputs": [
    {
     "data": {
      "text/plain": [
       "0      3.0\n",
       "1      9.0\n",
       "2      8.0\n",
       "3      2.0\n",
       "4      5.0\n",
       "5      1.0\n",
       "6     10.0\n",
       "7     12.0\n",
       "8      4.0\n",
       "9      6.0\n",
       "10     7.0\n",
       "11    11.0\n",
       "Name: time, dtype: float64"
      ]
     },
     "execution_count": 79,
     "metadata": {},
     "output_type": "execute_result"
    }
   ],
   "source": [
    "players[\"time\"].rank()"
   ]
  },
  {
   "cell_type": "markdown",
   "id": "2651b731-9ca0-4a8c-a253-26e6420cdc2d",
   "metadata": {},
   "source": [
    "### Grouping and aggregation"
   ]
  },
  {
   "cell_type": "code",
   "execution_count": 62,
   "id": "94015891-f5fb-45ee-a02b-6e841e724c17",
   "metadata": {},
   "outputs": [
    {
     "data": {
      "text/plain": [
       "<pandas.core.groupby.generic.DataFrameGroupBy object at 0x11dc18400>"
      ]
     },
     "execution_count": 62,
     "metadata": {},
     "output_type": "execute_result"
    }
   ],
   "source": [
    "players.groupby(\"ezlvl\")"
   ]
  },
  {
   "cell_type": "code",
   "execution_count": 63,
   "id": "00257f13-925d-43ff-8fe6-bc8423c6571f",
   "metadata": {},
   "outputs": [
    {
     "data": {
      "text/plain": [
       "<pandas.core.groupby.generic.SeriesGroupBy object at 0x11dc72790>"
      ]
     },
     "execution_count": 63,
     "metadata": {},
     "output_type": "execute_result"
    }
   ],
   "source": [
    "players.groupby(\"ezlvl\")[\"time\"]"
   ]
  },
  {
   "cell_type": "code",
   "execution_count": 64,
   "id": "bf8a68ae-f527-4091-863c-041ecb70a36c",
   "metadata": {},
   "outputs": [
    {
     "data": {
      "text/plain": [
       "ezlvl\n",
       "0    242.173333\n",
       "1    257.341667\n",
       "Name: time, dtype: float64"
      ]
     },
     "execution_count": 64,
     "metadata": {},
     "output_type": "execute_result"
    }
   ],
   "source": [
    "players.groupby(\"ezlvl\")[\"time\"].mean()"
   ]
  },
  {
   "cell_type": "code",
   "execution_count": 65,
   "id": "de1bcd81-0508-42e2-a56d-0f767e123e35",
   "metadata": {},
   "outputs": [
    {
     "name": "stdout",
     "output_type": "stream",
     "text": [
      "           sum        mean\n",
      "ezlvl                     \n",
      "0      1453.04  242.173333\n",
      "1      1544.05  257.341667\n"
     ]
    }
   ],
   "source": [
    "print(players.groupby(\"ezlvl\")[\"time\"].aggregate([\"sum\", \"mean\"]))"
   ]
  },
  {
   "cell_type": "code",
   "execution_count": 66,
   "id": "96370afc-e2b8-41c7-b536-526bac1cc06c",
   "metadata": {},
   "outputs": [
    {
     "data": {
      "text/html": [
       "<div>\n",
       "<style scoped>\n",
       "    .dataframe tbody tr th:only-of-type {\n",
       "        vertical-align: middle;\n",
       "    }\n",
       "\n",
       "    .dataframe tbody tr th {\n",
       "        vertical-align: top;\n",
       "    }\n",
       "\n",
       "    .dataframe thead th {\n",
       "        text-align: right;\n",
       "    }\n",
       "</style>\n",
       "<table border=\"1\" class=\"dataframe\">\n",
       "  <thead>\n",
       "    <tr style=\"text-align: right;\">\n",
       "      <th></th>\n",
       "      <th>sum</th>\n",
       "      <th>mean</th>\n",
       "    </tr>\n",
       "    <tr>\n",
       "      <th>ezlvl</th>\n",
       "      <th></th>\n",
       "      <th></th>\n",
       "    </tr>\n",
       "  </thead>\n",
       "  <tbody>\n",
       "    <tr>\n",
       "      <th>0</th>\n",
       "      <td>1453.04</td>\n",
       "      <td>242.173333</td>\n",
       "    </tr>\n",
       "    <tr>\n",
       "      <th>1</th>\n",
       "      <td>1544.05</td>\n",
       "      <td>257.341667</td>\n",
       "    </tr>\n",
       "  </tbody>\n",
       "</table>\n",
       "</div>"
      ],
      "text/plain": [
       "           sum        mean\n",
       "ezlvl                     \n",
       "0      1453.04  242.173333\n",
       "1      1544.05  257.341667"
      ]
     },
     "execution_count": 66,
     "metadata": {},
     "output_type": "execute_result"
    }
   ],
   "source": [
    "players.groupby(\"ezlvl\")[\"time\"] \\\n",
    "  .agg([\"sum\", \"mean\"])"
   ]
  },
  {
   "cell_type": "code",
   "execution_count": 67,
   "id": "7ba12420-1e8a-47d7-93b0-5425bb65100d",
   "metadata": {},
   "outputs": [
    {
     "data": {
      "text/html": [
       "<div>\n",
       "<style scoped>\n",
       "    .dataframe tbody tr th:only-of-type {\n",
       "        vertical-align: middle;\n",
       "    }\n",
       "\n",
       "    .dataframe tbody tr th {\n",
       "        vertical-align: top;\n",
       "    }\n",
       "\n",
       "    .dataframe thead th {\n",
       "        text-align: right;\n",
       "    }\n",
       "</style>\n",
       "<table border=\"1\" class=\"dataframe\">\n",
       "  <thead>\n",
       "    <tr style=\"text-align: right;\">\n",
       "      <th></th>\n",
       "      <th>sum</th>\n",
       "      <th>mean</th>\n",
       "      <th>max</th>\n",
       "    </tr>\n",
       "    <tr>\n",
       "      <th>ezlvl</th>\n",
       "      <th></th>\n",
       "      <th></th>\n",
       "      <th></th>\n",
       "    </tr>\n",
       "  </thead>\n",
       "  <tbody>\n",
       "    <tr>\n",
       "      <th>0</th>\n",
       "      <td>1453.04</td>\n",
       "      <td>242.173333</td>\n",
       "      <td>408.76</td>\n",
       "    </tr>\n",
       "    <tr>\n",
       "      <th>1</th>\n",
       "      <td>1544.05</td>\n",
       "      <td>257.341667</td>\n",
       "      <td>381.97</td>\n",
       "    </tr>\n",
       "  </tbody>\n",
       "</table>\n",
       "</div>"
      ],
      "text/plain": [
       "           sum        mean     max\n",
       "ezlvl                             \n",
       "0      1453.04  242.173333  408.76\n",
       "1      1544.05  257.341667  381.97"
      ]
     },
     "execution_count": 67,
     "metadata": {},
     "output_type": "execute_result"
    }
   ],
   "source": [
    "(players\n",
    "  .groupby(\"ezlvl\")[\"time\"]\n",
    "  .agg([\"sum\", \"mean\", \"max\"])\n",
    ")"
   ]
  },
  {
   "cell_type": "code",
   "execution_count": null,
   "id": "283b9332-17c9-4049-88ca-2992e81579b1",
   "metadata": {},
   "outputs": [],
   "source": []
  },
  {
   "cell_type": "code",
   "execution_count": null,
   "id": "cf70e9b0-318b-473c-abfe-131ee06be87c",
   "metadata": {},
   "outputs": [],
   "source": []
  },
  {
   "cell_type": "markdown",
   "id": "699a6b63-e0b2-4b4a-9a4e-6761ac3e6274",
   "metadata": {},
   "source": [
    "## Data visualization with Seaborn"
   ]
  },
  {
   "cell_type": "markdown",
   "id": "f38dfe28-9eca-4b8b-9443-4f97fcb6c9a9",
   "metadata": {},
   "source": [
    "The first step is to import the `seaboarn` module\n",
    "under the alias `sns`."
   ]
  },
  {
   "cell_type": "code",
   "execution_count": 68,
   "id": "fa7acf92-e668-4c95-8e3b-bd63e2f51afc",
   "metadata": {},
   "outputs": [],
   "source": [
    "import seaborn as sns"
   ]
  },
  {
   "cell_type": "markdown",
   "id": "37893d72-5f29-4250-8de4-51e5777ba977",
   "metadata": {},
   "source": [
    "If you get an error when running this code cell,\n",
    "make sure you go back to the above step and run `%pip install -r ../requirements.txt`.\n",
    "Alternatively,\n",
    "you can run `%pip install seaborn` to install just the Seaborn library."
   ]
  },
  {
   "cell_type": "code",
   "execution_count": null,
   "id": "9908e51b-ad9a-4d93-b1ac-bb8e626e9a08",
   "metadata": {},
   "outputs": [],
   "source": []
  },
  {
   "cell_type": "code",
   "execution_count": 69,
   "id": "aea8478f-28f7-4cab-acf6-5becf8f0c64b",
   "metadata": {},
   "outputs": [
    {
     "data": {
      "text/plain": [
       "<Axes: xlabel='time'>"
      ]
     },
     "execution_count": 69,
     "metadata": {},
     "output_type": "execute_result"
    },
    {
     "data": {
      "image/png": "[encoded data removed]",
      "text/plain": [
       "<Figure size 640x480 with 1 Axes>"
      ]
     },
     "metadata": {},
     "output_type": "display_data"
    }
   ],
   "source": [
    "sns.stripplot(x=\"time\", hue=\"ezlvl\", jitter=0.01, data=players)"
   ]
  },
  {
   "cell_type": "code",
   "execution_count": 70,
   "id": "d640d921-c4b0-426c-a3d0-2665f46f15df",
   "metadata": {},
   "outputs": [],
   "source": [
    "# sns.scatterplot(x=\"time\", y=\"points\", data=players)\n",
    "# sns.lineplot(x=\"time\", y=\"points\", data=players)"
   ]
  },
  {
   "cell_type": "code",
   "execution_count": 71,
   "id": "2bdd0f15-565e-47a7-8ce1-a5deae2f1e69",
   "metadata": {},
   "outputs": [
    {
     "data": {
      "text/plain": [
       "<Axes: xlabel='time', ylabel='ezlvl'>"
      ]
     },
     "execution_count": 71,
     "metadata": {},
     "output_type": "execute_result"
    },
    {
     "data": {
      "image/png": "[encoded data removed]",
      "text/plain": [
       "<Figure size 640x480 with 1 Axes>"
      ]
     },
     "metadata": {},
     "output_type": "display_data"
    }
   ],
   "source": [
    "import seaborn as sns\n",
    "# sns.scatterplot(x=\"ezlvl\", y=\"time\", hue=\"ezlvl\", data=players)\n",
    "sns.stripplot(y=\"ezlvl\", x=\"time\", hue=\"ezlvl\", data=players)"
   ]
  },
  {
   "cell_type": "markdown",
   "id": "91af2922-b524-4900-8a2a-b268451913cc",
   "metadata": {},
   "source": [
    "### Studying the effect of `ezlvl` on `time`\n",
    "\n",
    "We want to study the relation `time ~ ezlvl`,\n",
    "which will tell us whether the \"easy level\" version of the game\n",
    "leads to improvements in user retention."
   ]
  },
  {
   "cell_type": "code",
   "execution_count": 72,
   "id": "b48dd010-c3ca-456a-a4d2-a16e2ae3dd7f",
   "metadata": {},
   "outputs": [
    {
     "data": {
      "text/plain": [
       "<seaborn.axisgrid.FacetGrid at 0x12c50cac0>"
      ]
     },
     "execution_count": 72,
     "metadata": {},
     "output_type": "execute_result"
    },
    {
     "data": {
      "image/png": "[encoded data removed]",
      "text/plain": [
       "<Figure size 500x500 with 1 Axes>"
      ]
     },
     "metadata": {},
     "output_type": "display_data"
    }
   ],
   "source": [
    "import seaborn as sns\n",
    "sns.lmplot(x=\"ezlvl\", y=\"time\", data=players)"
   ]
  },
  {
   "cell_type": "markdown",
   "id": "e7e01c96-885b-4325-8fad-6ea3fd668c2e",
   "metadata": {},
   "source": [
    "### Use case 2\n",
    "In Sec 1.1 use `time ~ age` to look for correlation between age and engagement."
   ]
  },
  {
   "cell_type": "code",
   "execution_count": 73,
   "id": "27358723-2590-41cb-bc3c-f02372f2aa6f",
   "metadata": {},
   "outputs": [
    {
     "data": {
      "text/plain": [
       "<seaborn.axisgrid.FacetGrid at 0x12c70b910>"
      ]
     },
     "execution_count": 73,
     "metadata": {},
     "output_type": "execute_result"
    },
    {
     "data": {
      "image/png": "[encoded data removed]",
      "text/plain": [
       "<Figure size 500x500 with 1 Axes>"
      ]
     },
     "metadata": {},
     "output_type": "display_data"
    }
   ],
   "source": [
    "sns.lmplot(x=\"age\", y=\"time\", data=players)"
   ]
  },
  {
   "cell_type": "markdown",
   "id": "3b2f4e79-1f49-4fd5-aedf-98bbadc60823",
   "metadata": {},
   "source": [
    "#### Use case 3\t\n",
    "\n",
    "In Sec 1.1\t`jobstatus` (non-existent)\texplain possible confounding of `time~age` correlation by confounder var. \"employed\" no time to play game vs. \"unemployed\" has time to play game, with young ppl being more likely to be unemployed"
   ]
  },
  {
   "cell_type": "code",
   "execution_count": 74,
   "id": "4176ddf8-1975-48fc-b3c9-53c6a5ea933d",
   "metadata": {},
   "outputs": [
    {
     "data": {
      "text/plain": [
       "<seaborn.axisgrid.FacetGrid at 0x12c776700>"
      ]
     },
     "execution_count": 74,
     "metadata": {},
     "output_type": "execute_result"
    },
    {
     "data": {
      "image/png": "[encoded data removed]",
      "text/plain": [
       "<Figure size 575.111x500 with 1 Axes>"
      ]
     },
     "metadata": {},
     "output_type": "display_data"
    }
   ],
   "source": [
    "players_full = pd.read_csv(\"../datasets/players_full.csv\")\n",
    "\n",
    "sns.lmplot(x=\"age\", y=\"time\", hue=\"jobstatus\", data=players_full)"
   ]
  },
  {
   "cell_type": "code",
   "execution_count": null,
   "id": "54749d20-f7fb-4c8e-a87c-38bb1d0b4feb",
   "metadata": {},
   "outputs": [],
   "source": []
  },
  {
   "cell_type": "markdown",
   "id": "a2b7d979-753f-4a23-944b-f6a429a3a7ea",
   "metadata": {},
   "source": [
    "## Real-world datasets"
   ]
  },
  {
   "cell_type": "code",
   "execution_count": 83,
   "id": "537b5bc1-4e11-467a-8d3f-3b37ad8c0835",
   "metadata": {},
   "outputs": [
    {
     "name": "stdout",
     "output_type": "stream",
     "text": [
      "\\begin{tabular}{lllll}\n",
      "\\toprule\n",
      "index & client name &     filename &  shape &           sections \\\\\n",
      "\\midrule\n",
      "      &         NaN &  players.csv &   12x7 &           1.1, 1.2 \\\\\n",
      "    1 &       Alice &   apples.csv &   30x1 &           3.1, 3.5 \\\\\n",
      "    2 &         Bob &  eprices.csv &   18x2 &           3.1, 3.5 \\\\\n",
      "    3 &   Charlotte & students.csv &   15x5 & 1.3, 3.1, 3.5, 4.x \\\\\n",
      "    4 &      Khalid & kombucha.csv &  347x2 & 3.1, 3.2, 3.3, 3.4 \\\\\n",
      "    5 &         Dan &  doctors.csv &  224x4 &      3.1, 3.5, 4.x \\\\\n",
      "    6 &     Vanessa & visitors.csv & 2000x3 &                3.6 \\\\\n",
      "      &         NaN &  minimal.csv &    5x4 &         Appendix D \\\\\n",
      "\\bottomrule\n",
      "\\end{tabular}\n",
      "\n"
     ]
    },
    {
     "name": "stderr",
     "output_type": "stream",
     "text": [
      "/var/folders/wc/2r44j8gs4gn56t1xtw5f6wlm0000gn/T/ipykernel_75073/541578538.py:96: FutureWarning: In future versions `DataFrame.to_latex` is expected to utilise the base implementation of `Styler.to_latex` for formatting and rendering. The arguments signature may therefore change. It is recommended instead to use `DataFrame.style.to_latex` which also contains additional functionality.\n",
      "  print(datasets_df.to_latex(index=False))\n"
     ]
    }
   ],
   "source": [
    "# figures only\n",
    "datasets_list = [\n",
    "    {\n",
    "        \"index\": \"\",\n",
    "        \"filename\": 'players.csv',\n",
    "        \"sections\": \"1.1, 1.2\",\n",
    "        \"uses\": \"Intro to Pandas and Seaborn\",\n",
    "     },\n",
    "    # {\n",
    "    #     \"filename\": 'players_full.csv',\n",
    "    #  },\n",
    "    {\n",
    "        \"index\":1,\n",
    "        \"filename\": 'apples.csv',\n",
    "        \"client name\": \"Alice\",\n",
    "        \"sections\": \"3.1, 3.5\",\n",
    "        \"uses\": \"Estimation\",\n",
    "     },\n",
    "    {\n",
    "        \"index\":2,\n",
    "        \"filename\": 'eprices.csv',\n",
    "        \"client name\": \"Bob\",\n",
    "        \"sections\": \"3.1, 3.5\",\n",
    "        \"uses\": \"Esimtation and hypothesis testing\",\n",
    "     },\n",
    "    {\n",
    "        \"index\":3,\n",
    "        \"filename\": 'students.csv',\n",
    "        \"client name\": \"Charlotte\",\n",
    "        \"sections\": \"1.3, 3.1, 3.5, 4.x\",\n",
    "        \"uses\": \"Descr. stats and hypothesis testing\",\n",
    "    },\n",
    "    {\n",
    "        \"index\":4,\n",
    "        \"filename\": 'kombucha.csv',\n",
    "        \"client name\": \"Khalid\",\n",
    "        \"sections\": \"3.1, 3.2, 3.3, 3.4\",\n",
    "        \"uses\": \"Estimation and hypothesis testing\",\n",
    "     },\n",
    "    {\n",
    "        \"index\":5,\n",
    "        \"filename\": 'doctors.csv',\n",
    "        \"client name\": \"Dan\",\n",
    "        \"sections\": \"3.1, 3.5, 4.x\",\n",
    "        \"uses\": \"Hypothesis testing\",\n",
    "     },\n",
    "    {\n",
    "        \"index\":6,\n",
    "        \"filename\": 'visitors.csv',\n",
    "        \"client name\": \"Vanessa\",\n",
    "        \"sections\": \"3.6\",\n",
    "        \"uses\": \"Test of two proportions\",\n",
    "     },\n",
    "    {\n",
    "        \"index\": \"\",\n",
    "        \"filename\": 'minimal.csv',\n",
    "        \"shape\": \"5x4\",\n",
    "        \"sections\": \"Appendix D\",\n",
    "        \"uses\": \"Pandas data frame maniulations\",\n",
    "    },\n",
    "    # {\n",
    "    #     \"filename\": 'minimal.csv',\n",
    "    #     \"directory\": \"datasets/raw/\",\n",
    "    #     \"shape\": \"7x4\",\n",
    "    #     \"sections\": \"Appendix D\",\n",
    "    #     \"uses\": \"Example of with missing values\",\n",
    "    # },\n",
    "]\n",
    "\n",
    "\n",
    "# fill in directory\n",
    "for ds in datasets_list:\n",
    "    if not \"directory\" in ds:\n",
    "        ds[\"directory\"] = \"datasets/\"\n",
    "\n",
    "\n",
    "# calculate shape\n",
    "for ds in datasets_list:\n",
    "    ds_path = os.path.join(\"..\", ds[\"directory\"], ds[\"filename\"])\n",
    "    ds_df = pd.read_csv(ds_path)\n",
    "    ds[\"shape\"] = str(ds_df.shape[0]) + \"x\" + str(ds_df.shape[1])\n",
    "\n",
    "\n",
    "datasets_df = pd.DataFrame(datasets_list)\n",
    "datasets_df = datasets_df[[\n",
    "    \"index\",\n",
    "    \"client name\",\n",
    "    \"filename\",\n",
    "    \"shape\",\n",
    "    \"sections\",\n",
    "]]\n",
    "\n",
    "pd.set_option('display.width', 400)\n",
    "print(datasets_df.to_latex(index=False))"
   ]
  },
  {
   "cell_type": "code",
   "execution_count": null,
   "id": "24f738f4-8298-4455-8aac-5c66ee34e695",
   "metadata": {},
   "outputs": [],
   "source": []
  },
  {
   "cell_type": "code",
   "execution_count": null,
   "id": "c612ded3-5060-4afc-aefd-90182e6ddb65",
   "metadata": {},
   "outputs": [],
   "source": []
  },
  {
   "cell_type": "markdown",
   "id": "8c3c5b69-0c71-4fa5-bcea-489b3d468dc3",
   "metadata": {},
   "source": [
    "### Apple weights"
   ]
  },
  {
   "cell_type": "code",
   "execution_count": null,
   "id": "e1cecebc-3faf-4115-b970-c1557b15f60c",
   "metadata": {},
   "outputs": [],
   "source": []
  },
  {
   "cell_type": "markdown",
   "id": "4386be8e-e22f-4e27-be40-e5cc902f1935",
   "metadata": {},
   "source": [
    "### Electricity prices"
   ]
  },
  {
   "cell_type": "code",
   "execution_count": null,
   "id": "466ea4d3-4365-474e-9dee-1c2f54fe0e7e",
   "metadata": {},
   "outputs": [],
   "source": []
  },
  {
   "cell_type": "markdown",
   "id": "0cc55870-00cc-4f1c-b1ce-c5e479d70dc6",
   "metadata": {},
   "source": [
    "### Students' scores"
   ]
  },
  {
   "cell_type": "code",
   "execution_count": null,
   "id": "1e22cee9-59fd-4747-9e52-6392336ac9dd",
   "metadata": {},
   "outputs": [],
   "source": []
  },
  {
   "cell_type": "markdown",
   "id": "df516b87-c900-42f7-a239-d6c7a3d819b7",
   "metadata": {},
   "source": [
    "### Kombucha volumes"
   ]
  },
  {
   "cell_type": "code",
   "execution_count": null,
   "id": "1ddd1d6e-1303-4752-890a-fc060c009bdd",
   "metadata": {},
   "outputs": [],
   "source": []
  },
  {
   "cell_type": "markdown",
   "id": "ef718e0e-3236-4ae2-becb-acc0471ec201",
   "metadata": {},
   "source": [
    "### Doctors' sleep study"
   ]
  },
  {
   "cell_type": "code",
   "execution_count": null,
   "id": "33707e0f-27dc-4ee6-b9d6-6b285841f11c",
   "metadata": {},
   "outputs": [],
   "source": []
  },
  {
   "cell_type": "markdown",
   "id": "e43bd2b8-0957-4390-846b-0913fc56e802",
   "metadata": {},
   "source": [
    "### Website visitors"
   ]
  },
  {
   "cell_type": "code",
   "execution_count": null,
   "id": "5a297df3-0e5d-4c41-878d-2f5c0d58e676",
   "metadata": {},
   "outputs": [],
   "source": []
  },
  {
   "cell_type": "code",
   "execution_count": null,
   "id": "5da55e3f-611b-48db-830b-b0ada182a0a6",
   "metadata": {},
   "outputs": [],
   "source": []
  }
 ],
 "metadata": {
  "kernelspec": {
   "display_name": "Python 3 (ipykernel)",
   "language": "python",
   "name": "python3"
  },
  "language_info": {
   "codemirror_mode": {
    "name": "ipython",
    "version": 3
   },
   "file_extension": ".py",
   "mimetype": "text/x-python",
   "name": "python",
   "nbconvert_exporter": "python",
   "pygments_lexer": "ipython3",
   "version": "3.9.4"
  },
  "toc-autonumbering": false,
  "toc-showcode": false,
  "toc-showmarkdowntxt": false,
  "toc-showtags": false
 },
 "nbformat": 4,
 "nbformat_minor": 5
}
