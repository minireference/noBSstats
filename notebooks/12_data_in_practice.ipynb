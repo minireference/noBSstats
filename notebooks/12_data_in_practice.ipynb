{
 "cells": [
  {
   "cell_type": "markdown",
   "id": "25b4ccba-9aeb-4f61-af01-0ae27c83eaff",
   "metadata": {},
   "source": [
    "\n"
   ]
  },
  {
   "cell_type": "markdown",
   "id": "4d2a6d0b-b364-4d30-afee-4eb74a1224f5",
   "metadata": {},
   "source": [
    "# Section 1.2 — Data in practice\n",
    "\n",
    "This notebook contains the code examples from Section 1.2 in the **No Bullshit Guide to Statistics**."
   ]
  },
  {
   "cell_type": "code",
   "execution_count": 1,
   "id": "3b212e60-9c9a-4c24-8358-47614540e88e",
   "metadata": {},
   "outputs": [
    {
     "data": {
      "text/plain": [
       "5"
      ]
     },
     "execution_count": 1,
     "metadata": {},
     "output_type": "execute_result"
    }
   ],
   "source": [
    "2 + 3"
   ]
  },
  {
   "cell_type": "markdown",
   "id": "70143489-6a0c-444c-ab1b-f5ca9ba3d109",
   "metadata": {},
   "source": [
    "## Note for Windows users\n",
    "\n",
    "If you're on macOS or Linux you can ignore this section—skip to the next section **Data management with Pandas**.\n",
    "\n",
    "File paths on Windows use the backslash character (`\\`) as path separator,\n",
    "while UNIX operating systems like Linux and macOS use forward slash separator `/` as path separator. \n",
    "\n",
    "If you you're on Windows you'll need to manually edit the code examples below to make them work by replacing all occurrences of \"`/`\" with \"`\\\\`\". The double backslash is required to get a literal backslash because the character `\\` has special meaning as an escape character."
   ]
  },
  {
   "cell_type": "code",
   "execution_count": 2,
   "id": "fd5c7177-a7a5-4603-800a-e315462938d6",
   "metadata": {},
   "outputs": [
    {
     "name": "stdout",
     "output_type": "stream",
     "text": [
      "You're on a UNIX system (Linux or macOS).\n",
      "Enjoy civilization!\n"
     ]
    }
   ],
   "source": [
    "import os\n",
    "\n",
    "if os.path.sep == \"/\":\n",
    "    print(\"You're on a UNIX system (Linux or macOS).\")\n",
    "    print(\"Enjoy civilization!\")\n",
    "elif os.path.sep == \"\\\\\":\n",
    "    print(\"You're on Windows so you should use \\\\ as path separator.\")\n",
    "    print(\"Replace any occurence of / (forward slash) in paths with \\\\\\\\ (double-backslash).\")"
   ]
  },
  {
   "cell_type": "markdown",
   "id": "f87899fa-9fb6-492c-ad66-3c7b093d502a",
   "metadata": {},
   "source": [
    "The current working directory is a path on your computer where this notebook is running.\n",
    "The code cell below shows you can **get** you **c**urrent **w**orking **d**irectory."
   ]
  },
  {
   "cell_type": "code",
   "execution_count": 3,
   "id": "c3b4f3b0-832a-40b6-8b3a-8d73828edbc8",
   "metadata": {},
   "outputs": [
    {
     "data": {
      "text/plain": [
       "'/Users/ivan/Projects/Minireference/STATSbook/noBSstatsnotebooks/notebooks'"
      ]
     },
     "execution_count": 3,
     "metadata": {},
     "output_type": "execute_result"
    }
   ],
   "source": [
    "os.getcwd()"
   ]
  },
  {
   "cell_type": "markdown",
   "id": "fe6e0eae-2578-4576-8a76-adbae708673c",
   "metadata": {},
   "source": [
    "You're in the `notebooks/` directory, which is inside the parent directory `noBSstatsnotebooks/`.\n",
    "\n",
    "The datasets we'll be using in this notebook are located in the `datasets/` directory, which is sibling of the `notebooks/` directory, inside the parent `noBSstatsnotebooks/`. To access data file `minimal.csv` in the `datasets/` directory from the current directory, we must specify a path that includes the `..` directive (go to parent), then go into the `datasets` directory, then open the file `minimal.csv`.\n",
    "\n",
    "This combination of \"directions\" for getting to the file will look different if you're on a Windows system or on a UNIX system. The code below shows the correct path you should access."
   ]
  },
  {
   "cell_type": "code",
   "execution_count": 4,
   "id": "6ea87fab-4243-496b-9188-204ebd5fce04",
   "metadata": {},
   "outputs": [
    {
     "name": "stdout",
     "output_type": "stream",
     "text": [
      "The path to the file minimal.csv in the datasets/ directory is\n"
     ]
    },
    {
     "data": {
      "text/plain": [
       "'../datasets/minimal.csv'"
      ]
     },
     "execution_count": 4,
     "metadata": {},
     "output_type": "execute_result"
    }
   ],
   "source": [
    "if os.path.sep == \"/\":\n",
    "    # UNIX path separators\n",
    "    path = \"../datasets/minimal.csv\"\n",
    "else:\n",
    "    # Windows path separators\n",
    "    path = \"..\\\\datasets\\\\minimal.csv\"\n",
    "\n",
    "print(\"The path to the file minimal.csv in the datasets/ directory is\")\n",
    "path"
   ]
  },
  {
   "cell_type": "markdown",
   "id": "18653bfc-3460-42a3-8e9f-874099a446de",
   "metadata": {},
   "source": [
    "All the code examples provided below assume you're on a UNIX system,\n",
    "hence the need to manually modify them to use double-backslashes in path strings for the code to work."
   ]
  },
  {
   "cell_type": "markdown",
   "id": "ee8813fb-79df-488c-a521-1b67d95d85f7",
   "metadata": {
    "toc-hr-collapsed": true
   },
   "source": [
    "## Data management with Pandas"
   ]
  },
  {
   "cell_type": "markdown",
   "id": "eb486b3c-180e-4eb1-84a0-01626f8f6f29",
   "metadata": {},
   "source": [
    "First let's make sure pandas is installed using the `%pip` Jupyter command."
   ]
  },
  {
   "cell_type": "code",
   "execution_count": 5,
   "id": "1fa5d64f-beae-4ec2-b8b2-b4cfaa04b457",
   "metadata": {},
   "outputs": [],
   "source": [
    "# %pip install pandas"
   ]
  },
  {
   "cell_type": "markdown",
   "id": "4011d1a5-1cb5-4e12-8185-253f5e03ba0b",
   "metadata": {},
   "source": [
    "We then import the `pandas` library as the alias `pd`."
   ]
  },
  {
   "cell_type": "code",
   "execution_count": 6,
   "id": "76f094e5-7915-4f9d-856d-e2fb95a1ec61",
   "metadata": {},
   "outputs": [],
   "source": [
    "import pandas as pd"
   ]
  },
  {
   "cell_type": "markdown",
   "id": "22bf0b74-9641-4892-8bbe-d563c6fbaca3",
   "metadata": {},
   "source": [
    "### Loading the dataset `minimal.csv`"
   ]
  },
  {
   "cell_type": "code",
   "execution_count": 7,
   "id": "8722e39e-ef5e-4e28-988d-f9c18c634daf",
   "metadata": {},
   "outputs": [],
   "source": [
    "# !cat \"../datasets/minimal.csv\""
   ]
  },
  {
   "cell_type": "code",
   "execution_count": 8,
   "id": "21b7542c-71ab-46e4-989f-e84a31e4387d",
   "metadata": {},
   "outputs": [
    {
     "data": {
      "text/html": [
       "<div>\n",
       "<style scoped>\n",
       "    .dataframe tbody tr th:only-of-type {\n",
       "        vertical-align: middle;\n",
       "    }\n",
       "\n",
       "    .dataframe tbody tr th {\n",
       "        vertical-align: top;\n",
       "    }\n",
       "\n",
       "    .dataframe thead th {\n",
       "        text-align: right;\n",
       "    }\n",
       "</style>\n",
       "<table border=\"1\" class=\"dataframe\">\n",
       "  <thead>\n",
       "    <tr style=\"text-align: right;\">\n",
       "      <th></th>\n",
       "      <th>x</th>\n",
       "      <th>y</th>\n",
       "      <th>team</th>\n",
       "      <th>level</th>\n",
       "    </tr>\n",
       "  </thead>\n",
       "  <tbody>\n",
       "    <tr>\n",
       "      <th>0</th>\n",
       "      <td>1.0</td>\n",
       "      <td>2.0</td>\n",
       "      <td>a</td>\n",
       "      <td>3</td>\n",
       "    </tr>\n",
       "    <tr>\n",
       "      <th>1</th>\n",
       "      <td>1.5</td>\n",
       "      <td>1.0</td>\n",
       "      <td>a</td>\n",
       "      <td>2</td>\n",
       "    </tr>\n",
       "    <tr>\n",
       "      <th>2</th>\n",
       "      <td>2.0</td>\n",
       "      <td>1.5</td>\n",
       "      <td>a</td>\n",
       "      <td>1</td>\n",
       "    </tr>\n",
       "    <tr>\n",
       "      <th>3</th>\n",
       "      <td>2.5</td>\n",
       "      <td>2.0</td>\n",
       "      <td>b</td>\n",
       "      <td>3</td>\n",
       "    </tr>\n",
       "    <tr>\n",
       "      <th>4</th>\n",
       "      <td>3.0</td>\n",
       "      <td>1.5</td>\n",
       "      <td>b</td>\n",
       "      <td>3</td>\n",
       "    </tr>\n",
       "  </tbody>\n",
       "</table>\n",
       "</div>"
      ],
      "text/plain": [
       "     x    y team  level\n",
       "0  1.0  2.0    a      3\n",
       "1  1.5  1.0    a      2\n",
       "2  2.0  1.5    a      1\n",
       "3  2.5  2.0    b      3\n",
       "4  3.0  1.5    b      3"
      ]
     },
     "execution_count": 8,
     "metadata": {},
     "output_type": "execute_result"
    }
   ],
   "source": [
    "df = pd.read_csv(\"../datasets/minimal.csv\")\n",
    "df"
   ]
  },
  {
   "cell_type": "code",
   "execution_count": null,
   "id": "529d26f1-4464-4259-9339-12d964f1d0e0",
   "metadata": {},
   "outputs": [],
   "source": []
  },
  {
   "cell_type": "markdown",
   "id": "fc7eda14-0784-4615-9861-06d4ccfd931f",
   "metadata": {},
   "source": [
    "### Other ways to create dataframes\n",
    "There are other ways to create a `pd.DataFrame` from Python data containers like dicts and lists."
   ]
  },
  {
   "cell_type": "markdown",
   "id": "b0420eb9-aa7b-4380-9fce-a34c4206df80",
   "metadata": {},
   "source": [
    "Creating a data frame from a dictionary of columns:"
   ]
  },
  {
   "cell_type": "code",
   "execution_count": 9,
   "id": "6535759e-433f-4ff3-a8ea-3ee7cbf4ce73",
   "metadata": {},
   "outputs": [
    {
     "data": {
      "text/html": [
       "<div>\n",
       "<style scoped>\n",
       "    .dataframe tbody tr th:only-of-type {\n",
       "        vertical-align: middle;\n",
       "    }\n",
       "\n",
       "    .dataframe tbody tr th {\n",
       "        vertical-align: top;\n",
       "    }\n",
       "\n",
       "    .dataframe thead th {\n",
       "        text-align: right;\n",
       "    }\n",
       "</style>\n",
       "<table border=\"1\" class=\"dataframe\">\n",
       "  <thead>\n",
       "    <tr style=\"text-align: right;\">\n",
       "      <th></th>\n",
       "      <th>x</th>\n",
       "      <th>y</th>\n",
       "      <th>team</th>\n",
       "      <th>level</th>\n",
       "    </tr>\n",
       "  </thead>\n",
       "  <tbody>\n",
       "    <tr>\n",
       "      <th>0</th>\n",
       "      <td>1.0</td>\n",
       "      <td>2.0</td>\n",
       "      <td>a</td>\n",
       "      <td>3</td>\n",
       "    </tr>\n",
       "    <tr>\n",
       "      <th>1</th>\n",
       "      <td>1.5</td>\n",
       "      <td>1.0</td>\n",
       "      <td>a</td>\n",
       "      <td>2</td>\n",
       "    </tr>\n",
       "    <tr>\n",
       "      <th>2</th>\n",
       "      <td>2.0</td>\n",
       "      <td>1.5</td>\n",
       "      <td>a</td>\n",
       "      <td>1</td>\n",
       "    </tr>\n",
       "    <tr>\n",
       "      <th>3</th>\n",
       "      <td>2.5</td>\n",
       "      <td>2.0</td>\n",
       "      <td>b</td>\n",
       "      <td>3</td>\n",
       "    </tr>\n",
       "    <tr>\n",
       "      <th>4</th>\n",
       "      <td>3.0</td>\n",
       "      <td>1.5</td>\n",
       "      <td>b</td>\n",
       "      <td>3</td>\n",
       "    </tr>\n",
       "  </tbody>\n",
       "</table>\n",
       "</div>"
      ],
      "text/plain": [
       "     x    y team  level\n",
       "0  1.0  2.0    a      3\n",
       "1  1.5  1.0    a      2\n",
       "2  2.0  1.5    a      1\n",
       "3  2.5  2.0    b      3\n",
       "4  3.0  1.5    b      3"
      ]
     },
     "execution_count": 9,
     "metadata": {},
     "output_type": "execute_result"
    }
   ],
   "source": [
    "dict_of_columns = {\n",
    "    \"x\": [1.0, 1.5, 2.0, 2.5, 3.0],\n",
    "    \"y\": [2.0, 1.0, 1.5, 2.0, 1.5],\n",
    "    \"team\": [\"a\", \"a\", \"a\", \"b\", \"b\"],\n",
    "    \"level\": [3, 2, 1, 3, 3],\n",
    "}\n",
    "\n",
    "df2 = pd.DataFrame(dict_of_columns)\n",
    "df2"
   ]
  },
  {
   "cell_type": "code",
   "execution_count": 10,
   "id": "5a137ead-1829-40ad-822c-bbcb62b858a7",
   "metadata": {},
   "outputs": [
    {
     "data": {
      "text/plain": [
       "True"
      ]
     },
     "execution_count": 10,
     "metadata": {},
     "output_type": "execute_result"
    }
   ],
   "source": [
    "# df2 is identical to df loaded from minimal.csv\n",
    "(df2 == df).all().all()"
   ]
  },
  {
   "cell_type": "markdown",
   "id": "9cd89011-1cb8-49d7-ad22-6c76e3707929",
   "metadata": {},
   "source": [
    "Creating a data frame from a list of records (lists or tuples):"
   ]
  },
  {
   "cell_type": "code",
   "execution_count": 11,
   "id": "1a115542-d4ce-4a6e-a75d-b2b482459efd",
   "metadata": {},
   "outputs": [
    {
     "data": {
      "text/html": [
       "<div>\n",
       "<style scoped>\n",
       "    .dataframe tbody tr th:only-of-type {\n",
       "        vertical-align: middle;\n",
       "    }\n",
       "\n",
       "    .dataframe tbody tr th {\n",
       "        vertical-align: top;\n",
       "    }\n",
       "\n",
       "    .dataframe thead th {\n",
       "        text-align: right;\n",
       "    }\n",
       "</style>\n",
       "<table border=\"1\" class=\"dataframe\">\n",
       "  <thead>\n",
       "    <tr style=\"text-align: right;\">\n",
       "      <th></th>\n",
       "      <th>x</th>\n",
       "      <th>y</th>\n",
       "      <th>team</th>\n",
       "      <th>level</th>\n",
       "    </tr>\n",
       "  </thead>\n",
       "  <tbody>\n",
       "    <tr>\n",
       "      <th>0</th>\n",
       "      <td>1.0</td>\n",
       "      <td>2.0</td>\n",
       "      <td>a</td>\n",
       "      <td>3</td>\n",
       "    </tr>\n",
       "    <tr>\n",
       "      <th>1</th>\n",
       "      <td>1.5</td>\n",
       "      <td>1.0</td>\n",
       "      <td>a</td>\n",
       "      <td>2</td>\n",
       "    </tr>\n",
       "    <tr>\n",
       "      <th>2</th>\n",
       "      <td>2.0</td>\n",
       "      <td>1.5</td>\n",
       "      <td>a</td>\n",
       "      <td>1</td>\n",
       "    </tr>\n",
       "    <tr>\n",
       "      <th>3</th>\n",
       "      <td>2.5</td>\n",
       "      <td>2.0</td>\n",
       "      <td>b</td>\n",
       "      <td>3</td>\n",
       "    </tr>\n",
       "    <tr>\n",
       "      <th>4</th>\n",
       "      <td>3.0</td>\n",
       "      <td>1.5</td>\n",
       "      <td>b</td>\n",
       "      <td>3</td>\n",
       "    </tr>\n",
       "  </tbody>\n",
       "</table>\n",
       "</div>"
      ],
      "text/plain": [
       "     x    y team  level\n",
       "0  1.0  2.0    a      3\n",
       "1  1.5  1.0    a      2\n",
       "2  2.0  1.5    a      1\n",
       "3  2.5  2.0    b      3\n",
       "4  3.0  1.5    b      3"
      ]
     },
     "execution_count": 11,
     "metadata": {},
     "output_type": "execute_result"
    }
   ],
   "source": [
    "list_records = [\n",
    "    [1.0, 2.0, \"a\", 3],\n",
    "    [1.5, 1.0, \"a\", 2],\n",
    "    [2.0, 1.5, \"a\", 1],\n",
    "    [2.5, 2.0, \"b\", 3],\n",
    "    [3.0, 1.5, \"b\", 3],\n",
    "]\n",
    "columns = [\"x\", \"y\", \"team\", \"level\"]\n",
    "\n",
    "df3 = pd.DataFrame(list_records, columns=columns)\n",
    "df3"
   ]
  },
  {
   "cell_type": "code",
   "execution_count": 12,
   "id": "106c4690-5a14-4d35-8667-1158d0921402",
   "metadata": {},
   "outputs": [
    {
     "data": {
      "text/plain": [
       "True"
      ]
     },
     "execution_count": 12,
     "metadata": {},
     "output_type": "execute_result"
    }
   ],
   "source": [
    "# df3 is identical to df loaded from minimal.csv\n",
    "(df3 == df).all().all()"
   ]
  },
  {
   "cell_type": "markdown",
   "id": "01080f3f-c589-4cc8-ad1e-b305c6c85747",
   "metadata": {},
   "source": [
    "Creating a data frame from a list of `dict`s:"
   ]
  },
  {
   "cell_type": "code",
   "execution_count": 13,
   "id": "b7ea7358-86e0-4d91-814f-1497ee223135",
   "metadata": {},
   "outputs": [
    {
     "data": {
      "text/html": [
       "<div>\n",
       "<style scoped>\n",
       "    .dataframe tbody tr th:only-of-type {\n",
       "        vertical-align: middle;\n",
       "    }\n",
       "\n",
       "    .dataframe tbody tr th {\n",
       "        vertical-align: top;\n",
       "    }\n",
       "\n",
       "    .dataframe thead th {\n",
       "        text-align: right;\n",
       "    }\n",
       "</style>\n",
       "<table border=\"1\" class=\"dataframe\">\n",
       "  <thead>\n",
       "    <tr style=\"text-align: right;\">\n",
       "      <th></th>\n",
       "      <th>x</th>\n",
       "      <th>y</th>\n",
       "      <th>team</th>\n",
       "      <th>level</th>\n",
       "    </tr>\n",
       "  </thead>\n",
       "  <tbody>\n",
       "    <tr>\n",
       "      <th>0</th>\n",
       "      <td>1.0</td>\n",
       "      <td>2.0</td>\n",
       "      <td>a</td>\n",
       "      <td>3</td>\n",
       "    </tr>\n",
       "    <tr>\n",
       "      <th>1</th>\n",
       "      <td>1.5</td>\n",
       "      <td>1.0</td>\n",
       "      <td>a</td>\n",
       "      <td>2</td>\n",
       "    </tr>\n",
       "    <tr>\n",
       "      <th>2</th>\n",
       "      <td>2.0</td>\n",
       "      <td>1.5</td>\n",
       "      <td>a</td>\n",
       "      <td>1</td>\n",
       "    </tr>\n",
       "    <tr>\n",
       "      <th>3</th>\n",
       "      <td>2.5</td>\n",
       "      <td>2.0</td>\n",
       "      <td>b</td>\n",
       "      <td>3</td>\n",
       "    </tr>\n",
       "    <tr>\n",
       "      <th>4</th>\n",
       "      <td>3.0</td>\n",
       "      <td>1.5</td>\n",
       "      <td>b</td>\n",
       "      <td>3</td>\n",
       "    </tr>\n",
       "  </tbody>\n",
       "</table>\n",
       "</div>"
      ],
      "text/plain": [
       "     x    y team  level\n",
       "0  1.0  2.0    a      3\n",
       "1  1.5  1.0    a      2\n",
       "2  2.0  1.5    a      1\n",
       "3  2.5  2.0    b      3\n",
       "4  3.0  1.5    b      3"
      ]
     },
     "execution_count": 13,
     "metadata": {},
     "output_type": "execute_result"
    }
   ],
   "source": [
    "dict_records = [\n",
    "    dict(x=1.0, y=2.0, team=\"a\", level=3),\n",
    "    dict(x=1.5, y=1.0, team=\"a\", level=2),\n",
    "    dict(x=2.0, y=1.5, team=\"a\", level=1),\n",
    "    dict(x=2.5, y=2.0, team=\"b\", level=3),\n",
    "    dict(x=3.0, y=1.5, team=\"b\", level=3),\n",
    "]\n",
    "df4 = pd.DataFrame(dict_records)\n",
    "df4"
   ]
  },
  {
   "cell_type": "code",
   "execution_count": 14,
   "id": "c003cd76-cc54-4695-83ba-37204bbab5a5",
   "metadata": {},
   "outputs": [
    {
     "data": {
      "text/plain": [
       "True"
      ]
     },
     "execution_count": 14,
     "metadata": {},
     "output_type": "execute_result"
    }
   ],
   "source": [
    "# df4 is identical to df loaded from minimal.csv\n",
    "(df4 == df).all().all()"
   ]
  },
  {
   "cell_type": "code",
   "execution_count": 15,
   "id": "5de14e57-2934-4366-ad9a-02f32ca8d0fe",
   "metadata": {},
   "outputs": [
    {
     "data": {
      "text/plain": [
       "True"
      ]
     },
     "execution_count": 15,
     "metadata": {},
     "output_type": "execute_result"
    }
   ],
   "source": [
    "# Note dict(key=\"val\") is just an alternative syntax for {\"key\":\"val\"}\n",
    "dict(x=1.0, y=2.0, group=\"a\", level=3) == {\"x\":1.0, \"y\":2.0, \"group\":\"a\", \"level\":3}"
   ]
  },
  {
   "cell_type": "markdown",
   "id": "b7fd0bad-4fd8-459b-8c8d-40fcc7fede3d",
   "metadata": {},
   "source": [
    "### Data frame properties"
   ]
  },
  {
   "cell_type": "code",
   "execution_count": 16,
   "id": "4f3a33fb-77df-4a7e-8ce6-9bd24249a77c",
   "metadata": {},
   "outputs": [
    {
     "data": {
      "text/plain": [
       "pandas.core.frame.DataFrame"
      ]
     },
     "execution_count": 16,
     "metadata": {},
     "output_type": "execute_result"
    }
   ],
   "source": [
    "type(df)"
   ]
  },
  {
   "cell_type": "code",
   "execution_count": 17,
   "id": "da643e43-c7e7-4653-bb57-5197abf779f8",
   "metadata": {},
   "outputs": [
    {
     "data": {
      "text/plain": [
       "RangeIndex(start=0, stop=5, step=1)"
      ]
     },
     "execution_count": 17,
     "metadata": {},
     "output_type": "execute_result"
    }
   ],
   "source": [
    "df.index"
   ]
  },
  {
   "cell_type": "code",
   "execution_count": 18,
   "id": "291866b7-b1fc-4f81-924a-688517ff439c",
   "metadata": {},
   "outputs": [
    {
     "data": {
      "text/plain": [
       "Index(['x', 'y', 'team', 'level'], dtype='object')"
      ]
     },
     "execution_count": 18,
     "metadata": {},
     "output_type": "execute_result"
    }
   ],
   "source": [
    "df.columns"
   ]
  },
  {
   "cell_type": "code",
   "execution_count": 19,
   "id": "f7de221c-4566-4673-9622-dcabf1e8631d",
   "metadata": {},
   "outputs": [
    {
     "data": {
      "text/plain": [
       "(5, 4)"
      ]
     },
     "execution_count": 19,
     "metadata": {},
     "output_type": "execute_result"
    }
   ],
   "source": [
    "df.shape"
   ]
  },
  {
   "cell_type": "code",
   "execution_count": 20,
   "id": "fc8b2e65-a6bf-4f49-b39d-c0c24b494b9c",
   "metadata": {},
   "outputs": [
    {
     "data": {
      "text/plain": [
       "x        float64\n",
       "y        float64\n",
       "team      object\n",
       "level      int64\n",
       "dtype: object"
      ]
     },
     "execution_count": 20,
     "metadata": {},
     "output_type": "execute_result"
    }
   ],
   "source": [
    "df.dtypes"
   ]
  },
  {
   "cell_type": "code",
   "execution_count": 21,
   "id": "fb124e93-c519-49e6-bf92-aeacec101041",
   "metadata": {},
   "outputs": [
    {
     "name": "stdout",
     "output_type": "stream",
     "text": [
      "<class 'pandas.core.frame.DataFrame'>\n",
      "RangeIndex: 5 entries, 0 to 4\n",
      "Data columns (total 4 columns):\n",
      " #   Column  Non-Null Count  Dtype  \n",
      "---  ------  --------------  -----  \n",
      " 0   x       5 non-null      float64\n",
      " 1   y       5 non-null      float64\n",
      " 2   team    5 non-null      object \n",
      " 3   level   5 non-null      int64  \n",
      "dtypes: float64(2), int64(1), object(1)\n",
      "memory usage: 538.0 bytes\n"
     ]
    }
   ],
   "source": [
    "df.info(memory_usage=\"deep\")"
   ]
  },
  {
   "cell_type": "code",
   "execution_count": 22,
   "id": "3969e827-6568-435e-9688-0b1828b6348c",
   "metadata": {},
   "outputs": [],
   "source": [
    "# df.axes\n",
    "# df.memory_usage()\n",
    "# df.values"
   ]
  },
  {
   "cell_type": "code",
   "execution_count": null,
   "id": "c761920a-ef2b-4103-9688-394046c6ed8b",
   "metadata": {},
   "outputs": [],
   "source": []
  },
  {
   "cell_type": "code",
   "execution_count": null,
   "id": "ca6eb058-6b92-43fa-8b1b-3175729a971b",
   "metadata": {},
   "outputs": [],
   "source": []
  },
  {
   "cell_type": "markdown",
   "id": "63236576-c048-4527-a0d4-fb3d6603dd3e",
   "metadata": {},
   "source": [
    "### Series"
   ]
  },
  {
   "cell_type": "code",
   "execution_count": 23,
   "id": "7ae93b47-cfdd-4cfd-8f46-e96e1ba6ad41",
   "metadata": {},
   "outputs": [
    {
     "data": {
      "text/plain": [
       "0    3\n",
       "1    5\n",
       "2    7\n",
       "3    9\n",
       "dtype: int64"
      ]
     },
     "execution_count": 23,
     "metadata": {},
     "output_type": "execute_result"
    }
   ],
   "source": [
    "s = pd.Series([3, 5, 7, 9])\n",
    "s"
   ]
  },
  {
   "cell_type": "code",
   "execution_count": null,
   "id": "7176d3cf-feeb-4913-99e4-543930ad6c6e",
   "metadata": {},
   "outputs": [],
   "source": []
  },
  {
   "cell_type": "code",
   "execution_count": 24,
   "id": "2bf3405f-3083-4bca-920f-9af57abdc894",
   "metadata": {},
   "outputs": [],
   "source": [
    "# # ALT. a series of floats\n",
    "# s2 = pd.Series([0.3, 1.5, 2.2])\n",
    "# s2"
   ]
  },
  {
   "cell_type": "code",
   "execution_count": 25,
   "id": "2b873d81-b108-4142-9a53-6ddcaffdd287",
   "metadata": {},
   "outputs": [],
   "source": [
    "# # ALT. a series of categorical variables\n",
    "# s3 = pd.Series([\"a\", \"b\", \"b\", \"c\"])\n",
    "# s3"
   ]
  },
  {
   "cell_type": "code",
   "execution_count": 26,
   "id": "3cb2d45a-d07c-4909-9056-96b0b8c4fa57",
   "metadata": {},
   "outputs": [
    {
     "data": {
      "text/plain": [
       "RangeIndex(start=0, stop=4, step=1)"
      ]
     },
     "execution_count": 26,
     "metadata": {},
     "output_type": "execute_result"
    }
   ],
   "source": [
    "s.index"
   ]
  },
  {
   "cell_type": "code",
   "execution_count": 27,
   "id": "25c13e47-89f0-44fe-9f20-0b87412fb316",
   "metadata": {},
   "outputs": [
    {
     "data": {
      "text/plain": [
       "array([3, 5, 7, 9])"
      ]
     },
     "execution_count": 27,
     "metadata": {},
     "output_type": "execute_result"
    }
   ],
   "source": [
    "s.values"
   ]
  },
  {
   "cell_type": "code",
   "execution_count": 28,
   "id": "251edc15-5c42-49ea-a9a1-3bdaf6b78a25",
   "metadata": {},
   "outputs": [
    {
     "data": {
      "text/plain": [
       "numpy.ndarray"
      ]
     },
     "execution_count": 28,
     "metadata": {},
     "output_type": "execute_result"
    }
   ],
   "source": [
    "type(s.values)"
   ]
  },
  {
   "cell_type": "code",
   "execution_count": 29,
   "id": "3e549063-785e-4216-b988-4579d0dad4b0",
   "metadata": {},
   "outputs": [
    {
     "data": {
      "text/plain": [
       "3"
      ]
     },
     "execution_count": 29,
     "metadata": {},
     "output_type": "execute_result"
    }
   ],
   "source": [
    "s[0]"
   ]
  },
  {
   "cell_type": "code",
   "execution_count": 30,
   "id": "16e9cc7b-f803-4aac-a42e-6fa8c23f402c",
   "metadata": {},
   "outputs": [
    {
     "data": {
      "text/plain": [
       "0    3\n",
       "1    5\n",
       "2    7\n",
       "dtype: int64"
      ]
     },
     "execution_count": 30,
     "metadata": {},
     "output_type": "execute_result"
    }
   ],
   "source": [
    "s[0:3]"
   ]
  },
  {
   "cell_type": "code",
   "execution_count": 31,
   "id": "7ae716f9-1075-4b0d-b25b-940b12085887",
   "metadata": {},
   "outputs": [
    {
     "data": {
      "text/plain": [
       "array([3, 5, 7])"
      ]
     },
     "execution_count": 31,
     "metadata": {},
     "output_type": "execute_result"
    }
   ],
   "source": [
    "s.values[0:3]"
   ]
  },
  {
   "cell_type": "markdown",
   "id": "bb66bbe5-9fa8-491e-8dcc-9676d17c1a98",
   "metadata": {},
   "source": [
    "Performing arithmetic operations on the series."
   ]
  },
  {
   "cell_type": "code",
   "execution_count": 32,
   "id": "c59deacc-77d3-400a-8b36-a6f8a1766dd6",
   "metadata": {},
   "outputs": [
    {
     "data": {
      "text/plain": [
       "24"
      ]
     },
     "execution_count": 32,
     "metadata": {},
     "output_type": "execute_result"
    }
   ],
   "source": [
    "s.sum()"
   ]
  },
  {
   "cell_type": "code",
   "execution_count": 33,
   "id": "dc793012-8a70-4462-b3d7-3e540242dd81",
   "metadata": {},
   "outputs": [
    {
     "data": {
      "text/plain": [
       "0    12.500000\n",
       "1    20.833333\n",
       "2    29.166667\n",
       "3    37.500000\n",
       "dtype: float64"
      ]
     },
     "execution_count": 33,
     "metadata": {},
     "output_type": "execute_result"
    }
   ],
   "source": [
    "s / s.sum() * 100"
   ]
  },
  {
   "cell_type": "code",
   "execution_count": 34,
   "id": "dd1483b4-484e-4e35-9efc-3964dcc41fa2",
   "metadata": {},
   "outputs": [
    {
     "data": {
      "text/plain": [
       "6.0"
      ]
     },
     "execution_count": 34,
     "metadata": {},
     "output_type": "execute_result"
    }
   ],
   "source": [
    "s.mean()"
   ]
  },
  {
   "cell_type": "code",
   "execution_count": 35,
   "id": "f29fa65b-7e96-4f4c-b229-d56da09e9281",
   "metadata": {},
   "outputs": [
    {
     "data": {
      "text/plain": [
       "0    1.098612\n",
       "1    1.609438\n",
       "2    1.945910\n",
       "3    2.197225\n",
       "dtype: float64"
      ]
     },
     "execution_count": 35,
     "metadata": {},
     "output_type": "execute_result"
    }
   ],
   "source": [
    "import numpy as np\n",
    "np.log(s)"
   ]
  },
  {
   "cell_type": "code",
   "execution_count": null,
   "id": "dffd4620-424d-496b-a708-9139c79e1e67",
   "metadata": {},
   "outputs": [],
   "source": []
  },
  {
   "cell_type": "markdown",
   "id": "2f6f1898-85e4-40cf-a12a-6ca3f58387ec",
   "metadata": {},
   "source": [
    "\n",
    "\n"
   ]
  },
  {
   "cell_type": "markdown",
   "id": "5182aa71-d792-449b-b73b-5e8e563e162c",
   "metadata": {},
   "source": [
    "### Accessing values in a DataFrame"
   ]
  },
  {
   "cell_type": "code",
   "execution_count": 36,
   "id": "79ea4191-d863-4f47-a44e-ff50d37d9152",
   "metadata": {},
   "outputs": [
    {
     "data": {
      "text/plain": [
       "1.5"
      ]
     },
     "execution_count": 36,
     "metadata": {},
     "output_type": "execute_result"
    }
   ],
   "source": [
    "df.loc[2, \"y\"]"
   ]
  },
  {
   "cell_type": "code",
   "execution_count": null,
   "id": "064cdbfb-bbfd-4d48-8e49-7926ad079e0e",
   "metadata": {},
   "outputs": [],
   "source": []
  },
  {
   "cell_type": "markdown",
   "id": "5317dead-58ce-4bd1-a23e-032ad2dc0544",
   "metadata": {},
   "source": [
    "#### Entire rows"
   ]
  },
  {
   "cell_type": "code",
   "execution_count": 37,
   "id": "d169e387-d129-45d7-947e-f5062d4cffff",
   "metadata": {},
   "outputs": [
    {
     "data": {
      "text/plain": [
       "x        2.0\n",
       "y        1.5\n",
       "team       a\n",
       "level      1\n",
       "Name: 2, dtype: object"
      ]
     },
     "execution_count": 37,
     "metadata": {},
     "output_type": "execute_result"
    }
   ],
   "source": [
    "row2 = df.loc[2,:]\n",
    "row2"
   ]
  },
  {
   "cell_type": "code",
   "execution_count": 38,
   "id": "96c99ba6-e177-43dc-97d6-7ea17a2e8667",
   "metadata": {},
   "outputs": [
    {
     "data": {
      "text/plain": [
       "pandas.core.series.Series"
      ]
     },
     "execution_count": 38,
     "metadata": {},
     "output_type": "execute_result"
    }
   ],
   "source": [
    "# Rows of the dataframe are Series objects\n",
    "type(row2)"
   ]
  },
  {
   "cell_type": "code",
   "execution_count": 39,
   "id": "cef7923f-7a65-49b8-b4ce-7ace5592e1a0",
   "metadata": {},
   "outputs": [
    {
     "data": {
      "text/plain": [
       "Index(['x', 'y', 'team', 'level'], dtype='object')"
      ]
     },
     "execution_count": 39,
     "metadata": {},
     "output_type": "execute_result"
    }
   ],
   "source": [
    "row2.index"
   ]
  },
  {
   "cell_type": "code",
   "execution_count": 40,
   "id": "d4eea064-c289-4c49-a2b3-010cffcdbfd1",
   "metadata": {},
   "outputs": [
    {
     "data": {
      "text/plain": [
       "array([2.0, 1.5, 'a', 1], dtype=object)"
      ]
     },
     "execution_count": 40,
     "metadata": {},
     "output_type": "execute_result"
    }
   ],
   "source": [
    "row2.values"
   ]
  },
  {
   "cell_type": "code",
   "execution_count": 41,
   "id": "b077de35-983d-4c8d-92c6-c6593e05b001",
   "metadata": {},
   "outputs": [
    {
     "data": {
      "text/plain": [
       "1.5"
      ]
     },
     "execution_count": 41,
     "metadata": {},
     "output_type": "execute_result"
    }
   ],
   "source": [
    "row2[\"y\"]"
   ]
  },
  {
   "cell_type": "markdown",
   "id": "4572689e-f470-4686-9cca-75c4ca9ef048",
   "metadata": {},
   "source": [
    "#### Entire columns"
   ]
  },
  {
   "cell_type": "code",
   "execution_count": 42,
   "id": "dce25ae2-06da-4841-bc11-2747855ebe71",
   "metadata": {},
   "outputs": [
    {
     "data": {
      "text/plain": [
       "0    2.0\n",
       "1    1.0\n",
       "2    1.5\n",
       "3    2.0\n",
       "4    1.5\n",
       "Name: y, dtype: float64"
      ]
     },
     "execution_count": 42,
     "metadata": {},
     "output_type": "execute_result"
    }
   ],
   "source": [
    "ys = df[\"y\"]\n",
    "ys"
   ]
  },
  {
   "cell_type": "code",
   "execution_count": 43,
   "id": "b7474e71-00b9-40c7-bee2-b0c504db07b0",
   "metadata": {},
   "outputs": [
    {
     "data": {
      "text/plain": [
       "pandas.core.series.Series"
      ]
     },
     "execution_count": 43,
     "metadata": {},
     "output_type": "execute_result"
    }
   ],
   "source": [
    "type(ys)"
   ]
  },
  {
   "cell_type": "code",
   "execution_count": 44,
   "id": "44593e36-724e-47c1-805c-9620ee4d2731",
   "metadata": {},
   "outputs": [
    {
     "data": {
      "text/plain": [
       "RangeIndex(start=0, stop=5, step=1)"
      ]
     },
     "execution_count": 44,
     "metadata": {},
     "output_type": "execute_result"
    }
   ],
   "source": [
    "ys.index"
   ]
  },
  {
   "cell_type": "code",
   "execution_count": 45,
   "id": "43a4a89c-5a89-41ff-8751-5a07cea6c2d8",
   "metadata": {},
   "outputs": [
    {
     "data": {
      "text/plain": [
       "array([2. , 1. , 1.5, 2. , 1.5])"
      ]
     },
     "execution_count": 45,
     "metadata": {},
     "output_type": "execute_result"
    }
   ],
   "source": [
    "ys.values"
   ]
  },
  {
   "cell_type": "code",
   "execution_count": 46,
   "id": "0f6abff9-cb72-4115-a5fd-f24b51475b8e",
   "metadata": {},
   "outputs": [
    {
     "data": {
      "text/plain": [
       "1.5"
      ]
     },
     "execution_count": 46,
     "metadata": {},
     "output_type": "execute_result"
    }
   ],
   "source": [
    "ys[2]"
   ]
  },
  {
   "cell_type": "code",
   "execution_count": 47,
   "id": "dcbfcc05-209b-44f6-a4b5-cbee814d6b22",
   "metadata": {},
   "outputs": [
    {
     "name": "stdout",
     "output_type": "stream",
     "text": [
      "     x    y\n",
      "0  1.0  2.0\n",
      "1  1.5  1.0\n",
      "2  2.0  1.5\n",
      "3  2.5  2.0\n",
      "4  3.0  1.5\n"
     ]
    }
   ],
   "source": [
    "print(df[[\"x\", \"y\"]])"
   ]
  },
  {
   "cell_type": "markdown",
   "id": "29339786-b645-4eb5-9974-0fadb85c0a91",
   "metadata": {},
   "source": [
    "#### Selecting subsets of rows\n"
   ]
  },
  {
   "cell_type": "code",
   "execution_count": 48,
   "id": "efd7b332-0764-4e45-a9a4-3f603de8cc64",
   "metadata": {},
   "outputs": [
    {
     "data": {
      "text/html": [
       "<div>\n",
       "<style scoped>\n",
       "    .dataframe tbody tr th:only-of-type {\n",
       "        vertical-align: middle;\n",
       "    }\n",
       "\n",
       "    .dataframe tbody tr th {\n",
       "        vertical-align: top;\n",
       "    }\n",
       "\n",
       "    .dataframe thead th {\n",
       "        text-align: right;\n",
       "    }\n",
       "</style>\n",
       "<table border=\"1\" class=\"dataframe\">\n",
       "  <thead>\n",
       "    <tr style=\"text-align: right;\">\n",
       "      <th></th>\n",
       "      <th>x</th>\n",
       "      <th>y</th>\n",
       "      <th>team</th>\n",
       "      <th>level</th>\n",
       "    </tr>\n",
       "  </thead>\n",
       "  <tbody>\n",
       "    <tr>\n",
       "      <th>0</th>\n",
       "      <td>1.0</td>\n",
       "      <td>2.0</td>\n",
       "      <td>a</td>\n",
       "      <td>3</td>\n",
       "    </tr>\n",
       "    <tr>\n",
       "      <th>1</th>\n",
       "      <td>1.5</td>\n",
       "      <td>1.0</td>\n",
       "      <td>a</td>\n",
       "      <td>2</td>\n",
       "    </tr>\n",
       "  </tbody>\n",
       "</table>\n",
       "</div>"
      ],
      "text/plain": [
       "     x    y team  level\n",
       "0  1.0  2.0    a      3\n",
       "1  1.5  1.0    a      2"
      ]
     },
     "execution_count": 48,
     "metadata": {},
     "output_type": "execute_result"
    }
   ],
   "source": [
    "df.head(2)\n",
    "# df.tail(2)\n",
    "# df.sample(3)"
   ]
  },
  {
   "cell_type": "markdown",
   "id": "7b13cec8-ab54-42df-b561-4339616f14f6",
   "metadata": {},
   "source": [
    "To select only rows where `team` is `b`, we first build the boolean selection mask..."
   ]
  },
  {
   "cell_type": "code",
   "execution_count": 49,
   "id": "b98b49ca-ebc0-4e3f-808c-013d24ed94be",
   "metadata": {},
   "outputs": [],
   "source": [
    "mask = df[\"team\"] == \"b\""
   ]
  },
  {
   "cell_type": "markdown",
   "id": "1ac1a6a6-6e24-4259-9cc4-7ff8598eb1f7",
   "metadata": {},
   "source": [
    "... then select the rows using the mask."
   ]
  },
  {
   "cell_type": "code",
   "execution_count": 50,
   "id": "f19c7d93-008c-40e2-ad37-31f4d76ae881",
   "metadata": {},
   "outputs": [
    {
     "data": {
      "text/html": [
       "<div>\n",
       "<style scoped>\n",
       "    .dataframe tbody tr th:only-of-type {\n",
       "        vertical-align: middle;\n",
       "    }\n",
       "\n",
       "    .dataframe tbody tr th {\n",
       "        vertical-align: top;\n",
       "    }\n",
       "\n",
       "    .dataframe thead th {\n",
       "        text-align: right;\n",
       "    }\n",
       "</style>\n",
       "<table border=\"1\" class=\"dataframe\">\n",
       "  <thead>\n",
       "    <tr style=\"text-align: right;\">\n",
       "      <th></th>\n",
       "      <th>x</th>\n",
       "      <th>y</th>\n",
       "      <th>team</th>\n",
       "      <th>level</th>\n",
       "    </tr>\n",
       "  </thead>\n",
       "  <tbody>\n",
       "    <tr>\n",
       "      <th>3</th>\n",
       "      <td>2.5</td>\n",
       "      <td>2.0</td>\n",
       "      <td>b</td>\n",
       "      <td>3</td>\n",
       "    </tr>\n",
       "    <tr>\n",
       "      <th>4</th>\n",
       "      <td>3.0</td>\n",
       "      <td>1.5</td>\n",
       "      <td>b</td>\n",
       "      <td>3</td>\n",
       "    </tr>\n",
       "  </tbody>\n",
       "</table>\n",
       "</div>"
      ],
      "text/plain": [
       "     x    y team  level\n",
       "3  2.5  2.0    b      3\n",
       "4  3.0  1.5    b      3"
      ]
     },
     "execution_count": 50,
     "metadata": {},
     "output_type": "execute_result"
    }
   ],
   "source": [
    "df[mask]"
   ]
  },
  {
   "cell_type": "markdown",
   "id": "4524e589-9513-4cee-b187-29729698aeca",
   "metadata": {},
   "source": [
    "The above two step process can be combined into a more compact expression:"
   ]
  },
  {
   "cell_type": "code",
   "execution_count": 51,
   "id": "31504f1d-4b9b-48b3-be84-96afe36b9db6",
   "metadata": {},
   "outputs": [
    {
     "data": {
      "text/html": [
       "<div>\n",
       "<style scoped>\n",
       "    .dataframe tbody tr th:only-of-type {\n",
       "        vertical-align: middle;\n",
       "    }\n",
       "\n",
       "    .dataframe tbody tr th {\n",
       "        vertical-align: top;\n",
       "    }\n",
       "\n",
       "    .dataframe thead th {\n",
       "        text-align: right;\n",
       "    }\n",
       "</style>\n",
       "<table border=\"1\" class=\"dataframe\">\n",
       "  <thead>\n",
       "    <tr style=\"text-align: right;\">\n",
       "      <th></th>\n",
       "      <th>x</th>\n",
       "      <th>y</th>\n",
       "      <th>team</th>\n",
       "      <th>level</th>\n",
       "    </tr>\n",
       "  </thead>\n",
       "  <tbody>\n",
       "    <tr>\n",
       "      <th>3</th>\n",
       "      <td>2.5</td>\n",
       "      <td>2.0</td>\n",
       "      <td>b</td>\n",
       "      <td>3</td>\n",
       "    </tr>\n",
       "    <tr>\n",
       "      <th>4</th>\n",
       "      <td>3.0</td>\n",
       "      <td>1.5</td>\n",
       "      <td>b</td>\n",
       "      <td>3</td>\n",
       "    </tr>\n",
       "  </tbody>\n",
       "</table>\n",
       "</div>"
      ],
      "text/plain": [
       "     x    y team  level\n",
       "3  2.5  2.0    b      3\n",
       "4  3.0  1.5    b      3"
      ]
     },
     "execution_count": 51,
     "metadata": {},
     "output_type": "execute_result"
    }
   ],
   "source": [
    "df[df[\"team\"]==\"b\"]"
   ]
  },
  {
   "cell_type": "code",
   "execution_count": 52,
   "id": "aad81bf1-1bc9-4821-bcd3-35c8b1efd169",
   "metadata": {},
   "outputs": [
    {
     "data": {
      "text/html": [
       "<div>\n",
       "<style scoped>\n",
       "    .dataframe tbody tr th:only-of-type {\n",
       "        vertical-align: middle;\n",
       "    }\n",
       "\n",
       "    .dataframe tbody tr th {\n",
       "        vertical-align: top;\n",
       "    }\n",
       "\n",
       "    .dataframe thead th {\n",
       "        text-align: right;\n",
       "    }\n",
       "</style>\n",
       "<table border=\"1\" class=\"dataframe\">\n",
       "  <thead>\n",
       "    <tr style=\"text-align: right;\">\n",
       "      <th></th>\n",
       "      <th>x</th>\n",
       "      <th>y</th>\n",
       "      <th>team</th>\n",
       "      <th>level</th>\n",
       "    </tr>\n",
       "  </thead>\n",
       "  <tbody>\n",
       "    <tr>\n",
       "      <th>4</th>\n",
       "      <td>3.0</td>\n",
       "      <td>1.5</td>\n",
       "      <td>b</td>\n",
       "      <td>3</td>\n",
       "    </tr>\n",
       "  </tbody>\n",
       "</table>\n",
       "</div>"
      ],
      "text/plain": [
       "     x    y team  level\n",
       "4  3.0  1.5    b      3"
      ]
     },
     "execution_count": 52,
     "metadata": {},
     "output_type": "execute_result"
    }
   ],
   "source": [
    "df[(df[\"team\"] == \"b\") & (df[\"x\"] >= 3)]"
   ]
  },
  {
   "cell_type": "code",
   "execution_count": 53,
   "id": "b5c1a99d-774c-4ed7-b0a1-466df015d835",
   "metadata": {},
   "outputs": [
    {
     "data": {
      "text/plain": [
       "0     True\n",
       "1     True\n",
       "2     True\n",
       "3    False\n",
       "4    False\n",
       "Name: team, dtype: bool"
      ]
     },
     "execution_count": 53,
     "metadata": {},
     "output_type": "execute_result"
    }
   ],
   "source": [
    "~(df[\"team\"] == \"b\")"
   ]
  },
  {
   "cell_type": "code",
   "execution_count": 54,
   "id": "e8700e7a-01c4-4134-91b9-a0b9c7592046",
   "metadata": {},
   "outputs": [
    {
     "data": {
      "text/html": [
       "<div>\n",
       "<style scoped>\n",
       "    .dataframe tbody tr th:only-of-type {\n",
       "        vertical-align: middle;\n",
       "    }\n",
       "\n",
       "    .dataframe tbody tr th {\n",
       "        vertical-align: top;\n",
       "    }\n",
       "\n",
       "    .dataframe thead th {\n",
       "        text-align: right;\n",
       "    }\n",
       "</style>\n",
       "<table border=\"1\" class=\"dataframe\">\n",
       "  <thead>\n",
       "    <tr style=\"text-align: right;\">\n",
       "      <th></th>\n",
       "      <th>x</th>\n",
       "      <th>y</th>\n",
       "      <th>team</th>\n",
       "      <th>level</th>\n",
       "    </tr>\n",
       "  </thead>\n",
       "  <tbody>\n",
       "    <tr>\n",
       "      <th>4</th>\n",
       "      <td>3.0</td>\n",
       "      <td>1.5</td>\n",
       "      <td>b</td>\n",
       "      <td>3</td>\n",
       "    </tr>\n",
       "  </tbody>\n",
       "</table>\n",
       "</div>"
      ],
      "text/plain": [
       "     x    y team  level\n",
       "4  3.0  1.5    b      3"
      ]
     },
     "execution_count": 54,
     "metadata": {},
     "output_type": "execute_result"
    }
   ],
   "source": [
    "df[(df[\"team\"] == \"b\") & (df[\"x\"] >= 3)]"
   ]
  },
  {
   "cell_type": "code",
   "execution_count": 55,
   "id": "809b90ce-e143-42cd-9360-006951f40bf6",
   "metadata": {},
   "outputs": [
    {
     "data": {
      "text/plain": [
       "0     True\n",
       "1     True\n",
       "2    False\n",
       "3     True\n",
       "4     True\n",
       "Name: level, dtype: bool"
      ]
     },
     "execution_count": 55,
     "metadata": {},
     "output_type": "execute_result"
    }
   ],
   "source": [
    "df[\"level\"].isin([2,3])"
   ]
  },
  {
   "cell_type": "code",
   "execution_count": null,
   "id": "9b5d040b-b8e9-4973-bc18-52b866c9ebac",
   "metadata": {},
   "outputs": [],
   "source": []
  },
  {
   "cell_type": "markdown",
   "id": "4ec6c4f7-0646-4212-85ac-5a8444efd685",
   "metadata": {},
   "source": [
    "#### Grouping and aggregation"
   ]
  },
  {
   "cell_type": "code",
   "execution_count": 56,
   "id": "94015891-f5fb-45ee-a02b-6e841e724c17",
   "metadata": {},
   "outputs": [
    {
     "data": {
      "text/plain": [
       "<pandas.core.groupby.generic.DataFrameGroupBy object at 0x1235ef4c0>"
      ]
     },
     "execution_count": 56,
     "metadata": {},
     "output_type": "execute_result"
    }
   ],
   "source": [
    "df.groupby(\"team\")"
   ]
  },
  {
   "cell_type": "code",
   "execution_count": 57,
   "id": "00257f13-925d-43ff-8fe6-bc8423c6571f",
   "metadata": {},
   "outputs": [
    {
     "data": {
      "text/plain": [
       "<pandas.core.groupby.generic.SeriesGroupBy object at 0x1235ef1c0>"
      ]
     },
     "execution_count": 57,
     "metadata": {},
     "output_type": "execute_result"
    }
   ],
   "source": [
    "df.groupby(\"team\")[\"x\"]"
   ]
  },
  {
   "cell_type": "code",
   "execution_count": 58,
   "id": "bf8a68ae-f527-4091-863c-041ecb70a36c",
   "metadata": {},
   "outputs": [
    {
     "data": {
      "text/plain": [
       "team\n",
       "a    1.50\n",
       "b    2.75\n",
       "Name: x, dtype: float64"
      ]
     },
     "execution_count": 58,
     "metadata": {},
     "output_type": "execute_result"
    }
   ],
   "source": [
    "df.groupby(\"team\")[\"x\"].mean()"
   ]
  },
  {
   "cell_type": "code",
   "execution_count": 59,
   "id": "de1bcd81-0508-42e2-a56d-0f767e123e35",
   "metadata": {},
   "outputs": [
    {
     "data": {
      "text/html": [
       "<div>\n",
       "<style scoped>\n",
       "    .dataframe tbody tr th:only-of-type {\n",
       "        vertical-align: middle;\n",
       "    }\n",
       "\n",
       "    .dataframe tbody tr th {\n",
       "        vertical-align: top;\n",
       "    }\n",
       "\n",
       "    .dataframe thead th {\n",
       "        text-align: right;\n",
       "    }\n",
       "</style>\n",
       "<table border=\"1\" class=\"dataframe\">\n",
       "  <thead>\n",
       "    <tr style=\"text-align: right;\">\n",
       "      <th></th>\n",
       "      <th>sum</th>\n",
       "      <th>count</th>\n",
       "      <th>mean</th>\n",
       "    </tr>\n",
       "    <tr>\n",
       "      <th>team</th>\n",
       "      <th></th>\n",
       "      <th></th>\n",
       "      <th></th>\n",
       "    </tr>\n",
       "  </thead>\n",
       "  <tbody>\n",
       "    <tr>\n",
       "      <th>a</th>\n",
       "      <td>4.5</td>\n",
       "      <td>3</td>\n",
       "      <td>1.50</td>\n",
       "    </tr>\n",
       "    <tr>\n",
       "      <th>b</th>\n",
       "      <td>5.5</td>\n",
       "      <td>2</td>\n",
       "      <td>2.75</td>\n",
       "    </tr>\n",
       "  </tbody>\n",
       "</table>\n",
       "</div>"
      ],
      "text/plain": [
       "      sum  count  mean\n",
       "team                  \n",
       "a     4.5      3  1.50\n",
       "b     5.5      2  2.75"
      ]
     },
     "execution_count": 59,
     "metadata": {},
     "output_type": "execute_result"
    }
   ],
   "source": [
    "df.groupby(\"team\")[\"x\"].aggregate([\"sum\", \"count\", \"mean\"])"
   ]
  },
  {
   "cell_type": "code",
   "execution_count": 60,
   "id": "96370afc-e2b8-41c7-b536-526bac1cc06c",
   "metadata": {},
   "outputs": [
    {
     "data": {
      "text/html": [
       "<div>\n",
       "<style scoped>\n",
       "    .dataframe tbody tr th:only-of-type {\n",
       "        vertical-align: middle;\n",
       "    }\n",
       "\n",
       "    .dataframe tbody tr th {\n",
       "        vertical-align: top;\n",
       "    }\n",
       "\n",
       "    .dataframe thead th {\n",
       "        text-align: right;\n",
       "    }\n",
       "</style>\n",
       "<table border=\"1\" class=\"dataframe\">\n",
       "  <thead>\n",
       "    <tr style=\"text-align: right;\">\n",
       "      <th></th>\n",
       "      <th>sum</th>\n",
       "      <th>count</th>\n",
       "      <th>mean</th>\n",
       "    </tr>\n",
       "    <tr>\n",
       "      <th>team</th>\n",
       "      <th></th>\n",
       "      <th></th>\n",
       "      <th></th>\n",
       "    </tr>\n",
       "  </thead>\n",
       "  <tbody>\n",
       "    <tr>\n",
       "      <th>a</th>\n",
       "      <td>4.5</td>\n",
       "      <td>3</td>\n",
       "      <td>1.50</td>\n",
       "    </tr>\n",
       "    <tr>\n",
       "      <th>b</th>\n",
       "      <td>5.5</td>\n",
       "      <td>2</td>\n",
       "      <td>2.75</td>\n",
       "    </tr>\n",
       "  </tbody>\n",
       "</table>\n",
       "</div>"
      ],
      "text/plain": [
       "      sum  count  mean\n",
       "team                  \n",
       "a     4.5      3  1.50\n",
       "b     5.5      2  2.75"
      ]
     },
     "execution_count": 60,
     "metadata": {},
     "output_type": "execute_result"
    }
   ],
   "source": [
    "df.groupby(\"team\")[\"x\"] \\\n",
    "  .agg([\"sum\", \"count\", \"mean\"])"
   ]
  },
  {
   "cell_type": "code",
   "execution_count": 61,
   "id": "7ba12420-1e8a-47d7-93b0-5425bb65100d",
   "metadata": {},
   "outputs": [
    {
     "data": {
      "text/html": [
       "<div>\n",
       "<style scoped>\n",
       "    .dataframe tbody tr th:only-of-type {\n",
       "        vertical-align: middle;\n",
       "    }\n",
       "\n",
       "    .dataframe tbody tr th {\n",
       "        vertical-align: top;\n",
       "    }\n",
       "\n",
       "    .dataframe thead th {\n",
       "        text-align: right;\n",
       "    }\n",
       "</style>\n",
       "<table border=\"1\" class=\"dataframe\">\n",
       "  <thead>\n",
       "    <tr style=\"text-align: right;\">\n",
       "      <th></th>\n",
       "      <th>sum</th>\n",
       "      <th>count</th>\n",
       "      <th>mean</th>\n",
       "    </tr>\n",
       "    <tr>\n",
       "      <th>team</th>\n",
       "      <th></th>\n",
       "      <th></th>\n",
       "      <th></th>\n",
       "    </tr>\n",
       "  </thead>\n",
       "  <tbody>\n",
       "    <tr>\n",
       "      <th>a</th>\n",
       "      <td>4.5</td>\n",
       "      <td>3</td>\n",
       "      <td>1.50</td>\n",
       "    </tr>\n",
       "    <tr>\n",
       "      <th>b</th>\n",
       "      <td>5.5</td>\n",
       "      <td>2</td>\n",
       "      <td>2.75</td>\n",
       "    </tr>\n",
       "  </tbody>\n",
       "</table>\n",
       "</div>"
      ],
      "text/plain": [
       "      sum  count  mean\n",
       "team                  \n",
       "a     4.5      3  1.50\n",
       "b     5.5      2  2.75"
      ]
     },
     "execution_count": 61,
     "metadata": {},
     "output_type": "execute_result"
    }
   ],
   "source": [
    "(df\n",
    "  .groupby(\"team\")[\"x\"]\n",
    "  .agg([\"sum\", \"count\", \"mean\"])\n",
    ")"
   ]
  },
  {
   "cell_type": "markdown",
   "id": "c5039ee1-38a9-42e3-ac70-a488ee255fe1",
   "metadata": {},
   "source": [
    "#### Modifying data frames"
   ]
  },
  {
   "cell_type": "markdown",
   "id": "cf0447ae-f651-4629-981f-be525826ddaf",
   "metadata": {},
   "source": [
    "The transpose of a matrix corresponds to flipping the rows and the columns."
   ]
  },
  {
   "cell_type": "code",
   "execution_count": 62,
   "id": "52c925d8-af32-44c6-bab4-0540f24c513a",
   "metadata": {},
   "outputs": [
    {
     "data": {
      "text/html": [
       "<div>\n",
       "<style scoped>\n",
       "    .dataframe tbody tr th:only-of-type {\n",
       "        vertical-align: middle;\n",
       "    }\n",
       "\n",
       "    .dataframe tbody tr th {\n",
       "        vertical-align: top;\n",
       "    }\n",
       "\n",
       "    .dataframe thead th {\n",
       "        text-align: right;\n",
       "    }\n",
       "</style>\n",
       "<table border=\"1\" class=\"dataframe\">\n",
       "  <thead>\n",
       "    <tr style=\"text-align: right;\">\n",
       "      <th></th>\n",
       "      <th>0</th>\n",
       "      <th>1</th>\n",
       "      <th>2</th>\n",
       "      <th>3</th>\n",
       "      <th>4</th>\n",
       "    </tr>\n",
       "  </thead>\n",
       "  <tbody>\n",
       "    <tr>\n",
       "      <th>x</th>\n",
       "      <td>1.0</td>\n",
       "      <td>1.5</td>\n",
       "      <td>2.0</td>\n",
       "      <td>2.5</td>\n",
       "      <td>3.0</td>\n",
       "    </tr>\n",
       "    <tr>\n",
       "      <th>y</th>\n",
       "      <td>2.0</td>\n",
       "      <td>1.0</td>\n",
       "      <td>1.5</td>\n",
       "      <td>2.0</td>\n",
       "      <td>1.5</td>\n",
       "    </tr>\n",
       "    <tr>\n",
       "      <th>team</th>\n",
       "      <td>a</td>\n",
       "      <td>a</td>\n",
       "      <td>a</td>\n",
       "      <td>b</td>\n",
       "      <td>b</td>\n",
       "    </tr>\n",
       "    <tr>\n",
       "      <th>level</th>\n",
       "      <td>3</td>\n",
       "      <td>2</td>\n",
       "      <td>1</td>\n",
       "      <td>3</td>\n",
       "      <td>3</td>\n",
       "    </tr>\n",
       "  </tbody>\n",
       "</table>\n",
       "</div>"
      ],
      "text/plain": [
       "         0    1    2    3    4\n",
       "x      1.0  1.5  2.0  2.5  3.0\n",
       "y      2.0  1.0  1.5  2.0  1.5\n",
       "team     a    a    a    b    b\n",
       "level    3    2    1    3    3"
      ]
     },
     "execution_count": 62,
     "metadata": {},
     "output_type": "execute_result"
    }
   ],
   "source": [
    "dfT = df.transpose()\n",
    "dfT"
   ]
  },
  {
   "cell_type": "code",
   "execution_count": 63,
   "id": "2e600371-4695-411a-a109-6b4512807a5b",
   "metadata": {},
   "outputs": [],
   "source": [
    "# add the columns to the index; result is series with a multi-index\n",
    "# df.stack()"
   ]
  },
  {
   "cell_type": "code",
   "execution_count": 64,
   "id": "5f239ee4-be8e-4462-b64d-cddfff07de0d",
   "metadata": {},
   "outputs": [],
   "source": [
    "# ALT. way to do transpose\n",
    "# df.stack().reorder_levels([1,0]).unstack()"
   ]
  },
  {
   "cell_type": "markdown",
   "id": "c32c30cd-637e-47ec-8646-ea2a2e47c0e0",
   "metadata": {},
   "source": [
    "#### Adding new columns"
   ]
  },
  {
   "cell_type": "code",
   "execution_count": 65,
   "id": "50df1915-1ead-4b7c-b554-3da4b3020a59",
   "metadata": {},
   "outputs": [
    {
     "name": "stdout",
     "output_type": "stream",
     "text": [
      "     x    y team  level   xy\n",
      "0  1.0  2.0    a      3  2.0\n",
      "1  1.5  1.0    a      2  1.5\n",
      "2  2.0  1.5    a      1  3.0\n",
      "3  2.5  2.0    b      3  5.0\n",
      "4  3.0  1.5    b      3  4.5\n"
     ]
    }
   ],
   "source": [
    "df[\"xy\"] = df[\"x\"] * df[\"y\"]\n",
    "print(df)"
   ]
  },
  {
   "cell_type": "code",
   "execution_count": 66,
   "id": "01202c91-ee00-4bf9-88b4-1e0e53d8bb43",
   "metadata": {},
   "outputs": [],
   "source": [
    "# undo the modification\n",
    "df = df.drop(columns=[\"xy\"])"
   ]
  },
  {
   "cell_type": "code",
   "execution_count": 67,
   "id": "3b6b1344-c268-4b6d-bebf-84870edb5ae0",
   "metadata": {},
   "outputs": [],
   "source": [
    "df2 = df.copy()\n",
    "df2[\"xy\"] = df[\"x\"] * df[\"y\"]"
   ]
  },
  {
   "cell_type": "code",
   "execution_count": 68,
   "id": "b4b546d4-1c8b-41f3-bb43-d1fa6ddd4d6d",
   "metadata": {},
   "outputs": [],
   "source": [
    "df2 = df.assign(xy = df[\"x\"] * df[\"y\"])"
   ]
  },
  {
   "cell_type": "code",
   "execution_count": 69,
   "id": "d1cd6df9-e6d6-478b-8007-2f2a2f42c50c",
   "metadata": {},
   "outputs": [
    {
     "name": "stdout",
     "output_type": "stream",
     "text": [
      "     x    y team  level   xy  z         r\n",
      "0  1.0  2.0    A      3  2.0  1  2.236068\n",
      "1  1.5  1.0    A      2  1.5  1  1.802776\n",
      "2  2.0  1.5    A      1  3.0  1  2.500000\n",
      "3  2.5  2.0    B      3  5.0  1  3.201562\n",
      "4  3.0  1.5    B      3  4.5  1  3.354102\n"
     ]
    }
   ],
   "source": [
    "import numpy as np\n",
    "df3 = df.assign(xy = df[\"x\"] * df[\"y\"]) \\\n",
    "        .assign(z = 1) \\\n",
    "        .assign(r = np.sqrt(df[\"x\"]**2 + df[\"y\"]**2)) \\\n",
    "        .assign(team = df[\"team\"].str.upper())\n",
    "print(df3)"
   ]
  },
  {
   "cell_type": "code",
   "execution_count": null,
   "id": "d73dba6a-46ca-4179-ba61-7c42836a0e81",
   "metadata": {},
   "outputs": [],
   "source": []
  },
  {
   "cell_type": "markdown",
   "id": "82f5eb7a-e135-48f5-8714-606df83094c0",
   "metadata": {
    "tags": []
   },
   "source": [
    "#### Dropping parts of a data frame"
   ]
  },
  {
   "cell_type": "code",
   "execution_count": 70,
   "id": "1c83e236-3cef-4a5d-87a8-82191ac46b40",
   "metadata": {},
   "outputs": [
    {
     "data": {
      "text/html": [
       "<div>\n",
       "<style scoped>\n",
       "    .dataframe tbody tr th:only-of-type {\n",
       "        vertical-align: middle;\n",
       "    }\n",
       "\n",
       "    .dataframe tbody tr th {\n",
       "        vertical-align: top;\n",
       "    }\n",
       "\n",
       "    .dataframe thead th {\n",
       "        text-align: right;\n",
       "    }\n",
       "</style>\n",
       "<table border=\"1\" class=\"dataframe\">\n",
       "  <thead>\n",
       "    <tr style=\"text-align: right;\">\n",
       "      <th></th>\n",
       "      <th>x</th>\n",
       "      <th>y</th>\n",
       "      <th>team</th>\n",
       "      <th>level</th>\n",
       "    </tr>\n",
       "  </thead>\n",
       "  <tbody>\n",
       "    <tr>\n",
       "      <th>1</th>\n",
       "      <td>1.5</td>\n",
       "      <td>1.0</td>\n",
       "      <td>a</td>\n",
       "      <td>2</td>\n",
       "    </tr>\n",
       "    <tr>\n",
       "      <th>3</th>\n",
       "      <td>2.5</td>\n",
       "      <td>2.0</td>\n",
       "      <td>b</td>\n",
       "      <td>3</td>\n",
       "    </tr>\n",
       "  </tbody>\n",
       "</table>\n",
       "</div>"
      ],
      "text/plain": [
       "     x    y team  level\n",
       "1  1.5  1.0    a      2\n",
       "3  2.5  2.0    b      3"
      ]
     },
     "execution_count": 70,
     "metadata": {},
     "output_type": "execute_result"
    }
   ],
   "source": [
    "df.drop([0,2,4])"
   ]
  },
  {
   "cell_type": "code",
   "execution_count": 71,
   "id": "361073a6-7aab-4687-abf0-ac6ab6231552",
   "metadata": {},
   "outputs": [
    {
     "data": {
      "text/html": [
       "<div>\n",
       "<style scoped>\n",
       "    .dataframe tbody tr th:only-of-type {\n",
       "        vertical-align: middle;\n",
       "    }\n",
       "\n",
       "    .dataframe tbody tr th {\n",
       "        vertical-align: top;\n",
       "    }\n",
       "\n",
       "    .dataframe thead th {\n",
       "        text-align: right;\n",
       "    }\n",
       "</style>\n",
       "<table border=\"1\" class=\"dataframe\">\n",
       "  <thead>\n",
       "    <tr style=\"text-align: right;\">\n",
       "      <th></th>\n",
       "      <th>x</th>\n",
       "      <th>y</th>\n",
       "      <th>team</th>\n",
       "    </tr>\n",
       "  </thead>\n",
       "  <tbody>\n",
       "    <tr>\n",
       "      <th>0</th>\n",
       "      <td>1.0</td>\n",
       "      <td>2.0</td>\n",
       "      <td>a</td>\n",
       "    </tr>\n",
       "    <tr>\n",
       "      <th>1</th>\n",
       "      <td>1.5</td>\n",
       "      <td>1.0</td>\n",
       "      <td>a</td>\n",
       "    </tr>\n",
       "    <tr>\n",
       "      <th>2</th>\n",
       "      <td>2.0</td>\n",
       "      <td>1.5</td>\n",
       "      <td>a</td>\n",
       "    </tr>\n",
       "    <tr>\n",
       "      <th>3</th>\n",
       "      <td>2.5</td>\n",
       "      <td>2.0</td>\n",
       "      <td>b</td>\n",
       "    </tr>\n",
       "    <tr>\n",
       "      <th>4</th>\n",
       "      <td>3.0</td>\n",
       "      <td>1.5</td>\n",
       "      <td>b</td>\n",
       "    </tr>\n",
       "  </tbody>\n",
       "</table>\n",
       "</div>"
      ],
      "text/plain": [
       "     x    y team\n",
       "0  1.0  2.0    a\n",
       "1  1.5  1.0    a\n",
       "2  2.0  1.5    a\n",
       "3  2.5  2.0    b\n",
       "4  3.0  1.5    b"
      ]
     },
     "execution_count": 71,
     "metadata": {},
     "output_type": "execute_result"
    }
   ],
   "source": [
    "df.drop(columns=[\"level\"])"
   ]
  },
  {
   "cell_type": "markdown",
   "id": "6957ba18-b5f6-49d6-b6e8-c22965b22e97",
   "metadata": {},
   "source": [
    "Other related methods `.dropna()` for removing rows with missing values,\n",
    "and `.drop_duplicates()` for removing rows that contain duplicate data."
   ]
  },
  {
   "cell_type": "code",
   "execution_count": null,
   "id": "283b9332-17c9-4049-88ca-2992e81579b1",
   "metadata": {},
   "outputs": [],
   "source": []
  },
  {
   "cell_type": "markdown",
   "id": "a2b7d979-753f-4a23-944b-f6a429a3a7ea",
   "metadata": {},
   "source": [
    "#### Datasets for the book"
   ]
  },
  {
   "cell_type": "code",
   "execution_count": 72,
   "id": "a26fabaf-7de5-4e5b-a0a4-d03249f81bab",
   "metadata": {},
   "outputs": [],
   "source": [
    "students = pd.read_csv(\"../datasets/students.csv\")"
   ]
  },
  {
   "cell_type": "code",
   "execution_count": 73,
   "id": "7b89c5c2-bfe6-4533-9520-fff92fb7997f",
   "metadata": {},
   "outputs": [
    {
     "data": {
      "text/html": [
       "<div>\n",
       "<style scoped>\n",
       "    .dataframe tbody tr th:only-of-type {\n",
       "        vertical-align: middle;\n",
       "    }\n",
       "\n",
       "    .dataframe tbody tr th {\n",
       "        vertical-align: top;\n",
       "    }\n",
       "\n",
       "    .dataframe thead th {\n",
       "        text-align: right;\n",
       "    }\n",
       "</style>\n",
       "<table border=\"1\" class=\"dataframe\">\n",
       "  <thead>\n",
       "    <tr style=\"text-align: right;\">\n",
       "      <th></th>\n",
       "      <th>student_ID</th>\n",
       "      <th>background</th>\n",
       "      <th>curriculum</th>\n",
       "      <th>effort</th>\n",
       "      <th>score</th>\n",
       "    </tr>\n",
       "  </thead>\n",
       "  <tbody>\n",
       "    <tr>\n",
       "      <th>0</th>\n",
       "      <td>1</td>\n",
       "      <td>arts</td>\n",
       "      <td>debate</td>\n",
       "      <td>10.96</td>\n",
       "      <td>75.0</td>\n",
       "    </tr>\n",
       "    <tr>\n",
       "      <th>1</th>\n",
       "      <td>2</td>\n",
       "      <td>science</td>\n",
       "      <td>lecture</td>\n",
       "      <td>8.69</td>\n",
       "      <td>75.0</td>\n",
       "    </tr>\n",
       "    <tr>\n",
       "      <th>2</th>\n",
       "      <td>3</td>\n",
       "      <td>arts</td>\n",
       "      <td>debate</td>\n",
       "      <td>8.60</td>\n",
       "      <td>67.0</td>\n",
       "    </tr>\n",
       "    <tr>\n",
       "      <th>3</th>\n",
       "      <td>4</td>\n",
       "      <td>arts</td>\n",
       "      <td>lecture</td>\n",
       "      <td>7.92</td>\n",
       "      <td>70.3</td>\n",
       "    </tr>\n",
       "    <tr>\n",
       "      <th>4</th>\n",
       "      <td>5</td>\n",
       "      <td>science</td>\n",
       "      <td>debate</td>\n",
       "      <td>9.90</td>\n",
       "      <td>76.1</td>\n",
       "    </tr>\n",
       "  </tbody>\n",
       "</table>\n",
       "</div>"
      ],
      "text/plain": [
       "   student_ID background curriculum  effort  score\n",
       "0           1       arts     debate   10.96   75.0\n",
       "1           2    science    lecture    8.69   75.0\n",
       "2           3       arts     debate    8.60   67.0\n",
       "3           4       arts    lecture    7.92   70.3\n",
       "4           5    science     debate    9.90   76.1"
      ]
     },
     "execution_count": 73,
     "metadata": {},
     "output_type": "execute_result"
    }
   ],
   "source": [
    "students.head()"
   ]
  },
  {
   "cell_type": "code",
   "execution_count": null,
   "id": "33707e0f-27dc-4ee6-b9d6-6b285841f11c",
   "metadata": {},
   "outputs": [],
   "source": []
  },
  {
   "cell_type": "code",
   "execution_count": null,
   "id": "e3780dcd-21f9-46a7-ba38-2e459cf3b7d5",
   "metadata": {},
   "outputs": [],
   "source": []
  },
  {
   "cell_type": "code",
   "execution_count": null,
   "id": "5a297df3-0e5d-4c41-878d-2f5c0d58e676",
   "metadata": {},
   "outputs": [],
   "source": []
  },
  {
   "cell_type": "markdown",
   "id": "ce9124bc-ece1-499d-95bd-b5c3ec6d5c0a",
   "metadata": {},
   "source": [
    "## Data pre-processing tasks\n",
    "\n",
    "- *Extract* the \"raw\" data from various data source formats\n",
    "  (spreadsheet, databases, files, web servers).\n",
    "- *Transform* the data by reshaping and cleaning it.\n",
    "- *Load* the data into the system used for statistical analysis."
   ]
  },
  {
   "cell_type": "markdown",
   "id": "8bc7c4c7-35f3-40fc-8fd4-0db5a566b349",
   "metadata": {},
   "source": [
    "## Extract\n"
   ]
  },
  {
   "cell_type": "markdown",
   "id": "169bb65c-798a-40a5-b25f-e707a1773548",
   "metadata": {
    "tags": []
   },
   "source": [
    "### Extract data from different source formats"
   ]
  },
  {
   "cell_type": "markdown",
   "id": "ec6a17a9-4ebf-4fe6-be7f-15d6a5973492",
   "metadata": {},
   "source": [
    "On UNIX systems (Linux and macOS) the command line program `head` can be used to show the first few lines of any file. The command `head` is very useful for exploring files—by printing the first few lines, you can get an idea of the format it is in.\n",
    "\n",
    "Unfortunately, on Windows the command `head` is not available, so instead of relying on command line tools, we'll write a simple Python function that called `head` that does the same thing as the command line tool: it prints the first few lines of a file. By default this function will print the first five lines of the file, but users can override the `count` argument to request a different number of lines to be printed."
   ]
  },
  {
   "cell_type": "code",
   "execution_count": 74,
   "id": "3f120c34-8c2f-4748-9219-1c46f6df4973",
   "metadata": {},
   "outputs": [],
   "source": [
    "import os\n",
    "\n",
    "def head(path, count=7):\n",
    "    \"\"\"\n",
    "    Print the first `count` lines of the file at `path`.\n",
    "    \"\"\"\n",
    "    if (\"/\" in path) and (os.path.sep == \"\\\\\"):\n",
    "        # UNIX path  but  we're on Windows...\n",
    "        parts = os.path.split(\"/\")\n",
    "        path = os.path.join(parts)\n",
    "    datafile = open(path, \"r\")\n",
    "    lines = datafile.readlines()\n",
    "    for line in lines[0:count]:\n",
    "        print(line, end=\"\")\n"
   ]
  },
  {
   "cell_type": "markdown",
   "id": "bc90a3bf-7d3c-4c17-867f-074e9bed4af7",
   "metadata": {},
   "source": [
    "The function `head` contains some special handling for Windows users.\n",
    "If the path is specified using the UNIX path separator `/`,\n",
    "it will be auto-corrected to use the Windows path separator `\\`."
   ]
  },
  {
   "cell_type": "markdown",
   "id": "7190f5a3-f3a5-4996-86f9-74d13db38751",
   "metadata": {},
   "source": [
    "#### CSV\n",
    "\n",
    "Comma-Separated-Values are the most common format for tabular data.\n",
    "CSV files are regular text files that contain individual values (numeric or text) separated by commas. In many CSV files, the first line is a special header row that contains the names of the variables."
   ]
  },
  {
   "cell_type": "code",
   "execution_count": 75,
   "id": "8af4aab5-a809-4fad-9701-d44df3117aac",
   "metadata": {},
   "outputs": [
    {
     "name": "stdout",
     "output_type": "stream",
     "text": [
      "x,y,team,level\n",
      "1.0,2.0,a,3\n",
      "1.5,1.0,a,2\n",
      "2.0,1.5,a,1\n",
      "2.5,2.0,b,3\n",
      "3.0,1.5,b,3\n"
     ]
    }
   ],
   "source": [
    "head(\"../datasets/minimal.csv\")"
   ]
  },
  {
   "cell_type": "code",
   "execution_count": 76,
   "id": "4b7bec38-3aab-4b8c-8146-6b0d01a13b88",
   "metadata": {},
   "outputs": [
    {
     "name": "stdout",
     "output_type": "stream",
     "text": [
      "     x    y team  level\n",
      "0  1.0  2.0    a      3\n",
      "1  1.5  1.0    a      2\n",
      "2  2.0  1.5    a      1\n",
      "3  2.5  2.0    b      3\n",
      "4  3.0  1.5    b      3\n"
     ]
    }
   ],
   "source": [
    "df = pd.read_csv(\"../datasets/minimal.csv\")\n",
    "print(df)"
   ]
  },
  {
   "cell_type": "markdown",
   "id": "8f19bee3-91be-42bd-816f-fcdcbb0ff1d3",
   "metadata": {},
   "source": [
    "#### TSV\n",
    "\n",
    "The Tab-Separated-Values format is similar to CSV, but uses tabs as separators."
   ]
  },
  {
   "cell_type": "code",
   "execution_count": 77,
   "id": "0d766582-5bed-45b5-a922-c5b144f29696",
   "metadata": {},
   "outputs": [
    {
     "name": "stdout",
     "output_type": "stream",
     "text": [
      "x\ty\tteam\tlevel\n",
      "1.0\t2.0\ta\t3\n",
      "1.5\t1.0\ta\t2\n",
      "2.0\t1.5\ta\t1\n",
      "2.5\t2.0\tb\t3\n",
      "3.0\t1.5\tb\t3\n"
     ]
    }
   ],
   "source": [
    "head(\"../datasets/formats/minimal.tsv\")"
   ]
  },
  {
   "cell_type": "markdown",
   "id": "0fc90d31-3cb4-44e9-b3b9-7b8292ed1c73",
   "metadata": {},
   "source": [
    "You can read a TSV file using the `pd.read_csv` by setting the appropriate value for `sep` (separator) argument. Note in Python strings, the TAB character is represented as `\\t`."
   ]
  },
  {
   "cell_type": "code",
   "execution_count": 78,
   "id": "764c29d6-d769-4f83-b36d-79a04b4892fd",
   "metadata": {},
   "outputs": [
    {
     "data": {
      "text/html": [
       "<div>\n",
       "<style scoped>\n",
       "    .dataframe tbody tr th:only-of-type {\n",
       "        vertical-align: middle;\n",
       "    }\n",
       "\n",
       "    .dataframe tbody tr th {\n",
       "        vertical-align: top;\n",
       "    }\n",
       "\n",
       "    .dataframe thead th {\n",
       "        text-align: right;\n",
       "    }\n",
       "</style>\n",
       "<table border=\"1\" class=\"dataframe\">\n",
       "  <thead>\n",
       "    <tr style=\"text-align: right;\">\n",
       "      <th></th>\n",
       "      <th>x</th>\n",
       "      <th>y</th>\n",
       "      <th>team</th>\n",
       "      <th>level</th>\n",
       "    </tr>\n",
       "  </thead>\n",
       "  <tbody>\n",
       "    <tr>\n",
       "      <th>0</th>\n",
       "      <td>1.0</td>\n",
       "      <td>2.0</td>\n",
       "      <td>a</td>\n",
       "      <td>3</td>\n",
       "    </tr>\n",
       "    <tr>\n",
       "      <th>1</th>\n",
       "      <td>1.5</td>\n",
       "      <td>1.0</td>\n",
       "      <td>a</td>\n",
       "      <td>2</td>\n",
       "    </tr>\n",
       "    <tr>\n",
       "      <th>2</th>\n",
       "      <td>2.0</td>\n",
       "      <td>1.5</td>\n",
       "      <td>a</td>\n",
       "      <td>1</td>\n",
       "    </tr>\n",
       "    <tr>\n",
       "      <th>3</th>\n",
       "      <td>2.5</td>\n",
       "      <td>2.0</td>\n",
       "      <td>b</td>\n",
       "      <td>3</td>\n",
       "    </tr>\n",
       "    <tr>\n",
       "      <th>4</th>\n",
       "      <td>3.0</td>\n",
       "      <td>1.5</td>\n",
       "      <td>b</td>\n",
       "      <td>3</td>\n",
       "    </tr>\n",
       "  </tbody>\n",
       "</table>\n",
       "</div>"
      ],
      "text/plain": [
       "     x    y team  level\n",
       "0  1.0  2.0    a      3\n",
       "1  1.5  1.0    a      2\n",
       "2  2.0  1.5    a      1\n",
       "3  2.5  2.0    b      3\n",
       "4  3.0  1.5    b      3"
      ]
     },
     "execution_count": 78,
     "metadata": {},
     "output_type": "execute_result"
    }
   ],
   "source": [
    "tsvdf = pd.read_csv(\"../datasets/formats/minimal.tsv\", sep=\"\\t\")\n",
    "tsvdf"
   ]
  },
  {
   "cell_type": "code",
   "execution_count": 79,
   "id": "dec06c1e-a2c5-435f-ba86-b7583564a4d4",
   "metadata": {},
   "outputs": [
    {
     "data": {
      "text/plain": [
       "True"
      ]
     },
     "execution_count": 79,
     "metadata": {},
     "output_type": "execute_result"
    }
   ],
   "source": [
    "tsvdf.equals(df)"
   ]
  },
  {
   "cell_type": "markdown",
   "id": "40ce7326-898b-46f3-9725-bf432746a2c8",
   "metadata": {},
   "source": [
    "#### Spreadsheets"
   ]
  },
  {
   "cell_type": "code",
   "execution_count": 80,
   "id": "2e8f53f4-6355-4a6a-b5c8-da79edc5fd15",
   "metadata": {},
   "outputs": [
    {
     "data": {
      "text/plain": [
       "True"
      ]
     },
     "execution_count": 80,
     "metadata": {},
     "output_type": "execute_result"
    }
   ],
   "source": [
    "odsdf = pd.read_excel(\"../datasets/formats/minimal.ods\",\n",
    "                      sheet_name=\"Sheet1\")\n",
    "odsdf.equals(df)"
   ]
  },
  {
   "cell_type": "code",
   "execution_count": 81,
   "id": "421a07f0-cb5b-4da0-a875-8c2f65f7cdbe",
   "metadata": {},
   "outputs": [
    {
     "data": {
      "text/plain": [
       "True"
      ]
     },
     "execution_count": 81,
     "metadata": {},
     "output_type": "execute_result"
    }
   ],
   "source": [
    "xlsxdf = pd.read_excel(\"../datasets/formats/minimal.xlsx\",\n",
    "                       sheet_name=\"Sheet1\")\n",
    "xlsxdf.equals(df)"
   ]
  },
  {
   "cell_type": "code",
   "execution_count": null,
   "id": "347a3711-f81f-4231-bd95-989fbe466ff3",
   "metadata": {},
   "outputs": [],
   "source": []
  },
  {
   "cell_type": "markdown",
   "id": "f8fff286-d37d-4054-aa6f-c6fb62e0be52",
   "metadata": {},
   "source": [
    "#### JSON\n",
    "\n",
    "JavaScript Object Notation looks like this:"
   ]
  },
  {
   "cell_type": "code",
   "execution_count": 82,
   "id": "2a2a58e0-35ed-43aa-916f-5b19186adc8e",
   "metadata": {},
   "outputs": [
    {
     "name": "stdout",
     "output_type": "stream",
     "text": [
      "[\n",
      "  {\"x\":1.0, \"y\":2.0, \"team\":\"a\", \"level\":3},\n",
      "  {\"x\":1.5, \"y\":1.0, \"team\":\"a\", \"level\":2},\n",
      "  {\"x\":2.0, \"y\":1.5, \"team\":\"a\", \"level\":1},\n",
      "  {\"x\":2.5, \"y\":2.0, \"team\":\"b\", \"level\":3},\n",
      "  {\"x\":3.0, \"y\":1.5, \"team\":\"b\", \"level\":3}\n",
      "]"
     ]
    }
   ],
   "source": [
    "head(\"../datasets/formats/minimal.json\")"
   ]
  },
  {
   "cell_type": "code",
   "execution_count": 83,
   "id": "a4665032-2345-48af-aa36-4f3c79e6a30a",
   "metadata": {},
   "outputs": [
    {
     "data": {
      "text/plain": [
       "True"
      ]
     },
     "execution_count": 83,
     "metadata": {},
     "output_type": "execute_result"
    }
   ],
   "source": [
    "jsondf = pd.read_json(\"../datasets/formats/minimal.json\")\n",
    "jsondf.equals(df)"
   ]
  },
  {
   "cell_type": "code",
   "execution_count": null,
   "id": "de46354c-9b85-4139-954d-2333d307d3d8",
   "metadata": {},
   "outputs": [],
   "source": []
  },
  {
   "cell_type": "code",
   "execution_count": null,
   "id": "586167a2-30ec-4ba3-bbe1-220535592ac3",
   "metadata": {},
   "outputs": [],
   "source": []
  },
  {
   "cell_type": "markdown",
   "id": "2130e057-2773-45d2-a699-6690f1e74021",
   "metadata": {},
   "source": [
    "#### HTML tables"
   ]
  },
  {
   "cell_type": "code",
   "execution_count": 84,
   "id": "d889ee01-cabf-45d0-a354-d0bf58f13430",
   "metadata": {},
   "outputs": [
    {
     "name": "stdout",
     "output_type": "stream",
     "text": [
      "<table>\n",
      "  <thead>\n",
      "    <tr>\n",
      "      <th>x</th>\n",
      "      <th>y</th>\n",
      "      <th>team</th>\n",
      "      <th>level</th>\n",
      "    </tr>\n",
      "  </thead>\n",
      "  <tbody>\n",
      "    <tr>\n",
      "      <td>1.0</td>\n",
      "      <td>2.0</td>\n",
      "      <td>a</td>\n",
      "      <td>3</td>\n",
      "    </tr>\n"
     ]
    }
   ],
   "source": [
    "head(\"../datasets/formats/minimal.html\", count=16)"
   ]
  },
  {
   "cell_type": "code",
   "execution_count": 85,
   "id": "e11d7b42-1740-40a4-8f73-0452ecabae6e",
   "metadata": {},
   "outputs": [
    {
     "data": {
      "text/plain": [
       "True"
      ]
     },
     "execution_count": 85,
     "metadata": {},
     "output_type": "execute_result"
    }
   ],
   "source": [
    "tables = pd.read_html(\"../datasets/formats/minimal.html\")\n",
    "htmldf = tables[0]\n",
    "htmldf.equals(df)"
   ]
  },
  {
   "cell_type": "code",
   "execution_count": 86,
   "id": "0a55d19a-b557-466d-ab2a-24a50f13e178",
   "metadata": {},
   "outputs": [
    {
     "data": {
      "text/html": [
       "<div>\n",
       "<style scoped>\n",
       "    .dataframe tbody tr th:only-of-type {\n",
       "        vertical-align: middle;\n",
       "    }\n",
       "\n",
       "    .dataframe tbody tr th {\n",
       "        vertical-align: top;\n",
       "    }\n",
       "\n",
       "    .dataframe thead th {\n",
       "        text-align: right;\n",
       "    }\n",
       "</style>\n",
       "<table border=\"1\" class=\"dataframe\">\n",
       "  <thead>\n",
       "    <tr style=\"text-align: right;\">\n",
       "      <th></th>\n",
       "      <th>x</th>\n",
       "      <th>y</th>\n",
       "      <th>team</th>\n",
       "      <th>level</th>\n",
       "    </tr>\n",
       "  </thead>\n",
       "  <tbody>\n",
       "    <tr>\n",
       "      <th>0</th>\n",
       "      <td>1.0</td>\n",
       "      <td>2.0</td>\n",
       "      <td>a</td>\n",
       "      <td>3</td>\n",
       "    </tr>\n",
       "    <tr>\n",
       "      <th>1</th>\n",
       "      <td>1.5</td>\n",
       "      <td>1.0</td>\n",
       "      <td>a</td>\n",
       "      <td>2</td>\n",
       "    </tr>\n",
       "    <tr>\n",
       "      <th>2</th>\n",
       "      <td>2.0</td>\n",
       "      <td>1.5</td>\n",
       "      <td>a</td>\n",
       "      <td>1</td>\n",
       "    </tr>\n",
       "    <tr>\n",
       "      <th>3</th>\n",
       "      <td>2.5</td>\n",
       "      <td>2.0</td>\n",
       "      <td>b</td>\n",
       "      <td>3</td>\n",
       "    </tr>\n",
       "    <tr>\n",
       "      <th>4</th>\n",
       "      <td>3.0</td>\n",
       "      <td>1.5</td>\n",
       "      <td>b</td>\n",
       "      <td>3</td>\n",
       "    </tr>\n",
       "  </tbody>\n",
       "</table>\n",
       "</div>"
      ],
      "text/plain": [
       "     x    y team  level\n",
       "0  1.0  2.0    a      3\n",
       "1  1.5  1.0    a      2\n",
       "2  2.0  1.5    a      1\n",
       "3  2.5  2.0    b      3\n",
       "4  3.0  1.5    b      3"
      ]
     },
     "execution_count": 86,
     "metadata": {},
     "output_type": "execute_result"
    }
   ],
   "source": [
    "htmldf"
   ]
  },
  {
   "cell_type": "markdown",
   "id": "8ef84c83-fa80-4e7b-a68c-9d1fa3cb8a0d",
   "metadata": {},
   "source": [
    "#### XML\n",
    "\n",
    "The eXtensible Markup Language is another common data format."
   ]
  },
  {
   "cell_type": "code",
   "execution_count": 87,
   "id": "c52c1a7d-450b-4d92-a23f-db2e684a7ebf",
   "metadata": {},
   "outputs": [
    {
     "name": "stdout",
     "output_type": "stream",
     "text": [
      "<?xml version='1.0' encoding='utf-8'?>\n",
      "<players>\n",
      "  <player>\n",
      "    <x>1.0</x>\n",
      "    <y>2.0</y>\n",
      "    <team>a</team>\n",
      "    <level>3</level>\n",
      "  </player>\n"
     ]
    }
   ],
   "source": [
    "head(\"../datasets/formats/minimal.xml\", count=8)"
   ]
  },
  {
   "cell_type": "code",
   "execution_count": 88,
   "id": "53fcfed1-1849-44cf-b385-b815d9c32b08",
   "metadata": {},
   "outputs": [
    {
     "data": {
      "text/plain": [
       "True"
      ]
     },
     "execution_count": 88,
     "metadata": {},
     "output_type": "execute_result"
    }
   ],
   "source": [
    "xmldf = pd.read_xml(\"../datasets/formats/minimal.xml\")\n",
    "xmldf.equals(df)"
   ]
  },
  {
   "cell_type": "code",
   "execution_count": null,
   "id": "2e20c4df-e518-4312-b8ad-cbab82dbddd9",
   "metadata": {},
   "outputs": [],
   "source": []
  },
  {
   "cell_type": "code",
   "execution_count": null,
   "id": "4676733a-468d-4da7-9e39-ada3287e20a5",
   "metadata": {},
   "outputs": [],
   "source": []
  },
  {
   "cell_type": "markdown",
   "id": "c02435de-be2a-4113-91c0-495d54b4ccb4",
   "metadata": {},
   "source": [
    "#### SQLite databases"
   ]
  },
  {
   "cell_type": "code",
   "execution_count": 89,
   "id": "6ae5c814-ce34-4345-9e70-c87ecc3a82d7",
   "metadata": {},
   "outputs": [
    {
     "data": {
      "text/plain": [
       "True"
      ]
     },
     "execution_count": 89,
     "metadata": {},
     "output_type": "execute_result"
    }
   ],
   "source": [
    "from sqlalchemy import create_engine\n",
    "dbpath = \"../datasets/formats/minimal.sqlite\"\n",
    "engine = create_engine(\"sqlite:///\" + dbpath)\n",
    "sqldf = pd.read_sql_table(\"players\", con=engine)\n",
    "sqldf.equals(df)"
   ]
  },
  {
   "cell_type": "code",
   "execution_count": 90,
   "id": "a4a4f6df-68fb-424c-9678-1e47d1053cea",
   "metadata": {},
   "outputs": [
    {
     "data": {
      "text/plain": [
       "True"
      ]
     },
     "execution_count": 90,
     "metadata": {},
     "output_type": "execute_result"
    }
   ],
   "source": [
    "query = \"SELECT x, y, team, level FROM players;\"\n",
    "sqldf = pd.read_sql_query(query, con=engine)\n",
    "sqldf.equals(df)"
   ]
  },
  {
   "cell_type": "code",
   "execution_count": null,
   "id": "6df00e7a-dc0f-44ea-baaa-c25b39ba1e82",
   "metadata": {},
   "outputs": [],
   "source": []
  },
  {
   "cell_type": "code",
   "execution_count": null,
   "id": "6c5b1f54-ac40-4f97-a948-0f2ab209d764",
   "metadata": {},
   "outputs": [],
   "source": []
  },
  {
   "cell_type": "markdown",
   "id": "368b6b57-0dcc-4d4f-b51a-d6fcdf1fb85a",
   "metadata": {},
   "source": [
    "## Transform"
   ]
  },
  {
   "cell_type": "markdown",
   "id": "b2e20a2e-a8eb-4992-826a-645d2f2a7529",
   "metadata": {},
   "source": [
    "### Renaming columns and replacing values\n",
    "\n",
    "To rename the columns of a data frame, we can use the `.rename()` method\n",
    "with the `columns` attribute set to a Python dictionary of the replacements we want to make."
   ]
  },
  {
   "cell_type": "code",
   "execution_count": 91,
   "id": "639bc6bb-a76b-45d0-aa3f-535340219d75",
   "metadata": {},
   "outputs": [
    {
     "data": {
      "text/html": [
       "<div>\n",
       "<style scoped>\n",
       "    .dataframe tbody tr th:only-of-type {\n",
       "        vertical-align: middle;\n",
       "    }\n",
       "\n",
       "    .dataframe tbody tr th {\n",
       "        vertical-align: top;\n",
       "    }\n",
       "\n",
       "    .dataframe thead th {\n",
       "        text-align: right;\n",
       "    }\n",
       "</style>\n",
       "<table border=\"1\" class=\"dataframe\">\n",
       "  <thead>\n",
       "    <tr style=\"text-align: right;\">\n",
       "      <th></th>\n",
       "      <th>x</th>\n",
       "      <th>y</th>\n",
       "      <th>TEAM</th>\n",
       "      <th>LEVEL</th>\n",
       "    </tr>\n",
       "  </thead>\n",
       "  <tbody>\n",
       "    <tr>\n",
       "      <th>0</th>\n",
       "      <td>1.0</td>\n",
       "      <td>2.0</td>\n",
       "      <td>a</td>\n",
       "      <td>3</td>\n",
       "    </tr>\n",
       "    <tr>\n",
       "      <th>1</th>\n",
       "      <td>1.5</td>\n",
       "      <td>1.0</td>\n",
       "      <td>a</td>\n",
       "      <td>2</td>\n",
       "    </tr>\n",
       "    <tr>\n",
       "      <th>2</th>\n",
       "      <td>2.0</td>\n",
       "      <td>1.5</td>\n",
       "      <td>a</td>\n",
       "      <td>1</td>\n",
       "    </tr>\n",
       "    <tr>\n",
       "      <th>3</th>\n",
       "      <td>2.5</td>\n",
       "      <td>2.0</td>\n",
       "      <td>b</td>\n",
       "      <td>3</td>\n",
       "    </tr>\n",
       "    <tr>\n",
       "      <th>4</th>\n",
       "      <td>3.0</td>\n",
       "      <td>1.5</td>\n",
       "      <td>b</td>\n",
       "      <td>3</td>\n",
       "    </tr>\n",
       "  </tbody>\n",
       "</table>\n",
       "</div>"
      ],
      "text/plain": [
       "     x    y TEAM  LEVEL\n",
       "0  1.0  2.0    a      3\n",
       "1  1.5  1.0    a      2\n",
       "2  2.0  1.5    a      1\n",
       "3  2.5  2.0    b      3\n",
       "4  3.0  1.5    b      3"
      ]
     },
     "execution_count": 91,
     "metadata": {},
     "output_type": "execute_result"
    }
   ],
   "source": [
    "df.rename(columns={\"team\":\"TEAM\", \"level\":\"LEVEL\"})"
   ]
  },
  {
   "cell_type": "markdown",
   "id": "05d08526-b673-4e5b-8111-80e0c7d8cd12",
   "metadata": {},
   "source": [
    "To rename values, we can use the `replace` method,\n",
    "passing in a dictionary of replacements we want to for each column."
   ]
  },
  {
   "cell_type": "code",
   "execution_count": 92,
   "id": "af2adf0c-fdcb-4559-8ce5-121482984982",
   "metadata": {},
   "outputs": [
    {
     "data": {
      "text/html": [
       "<div>\n",
       "<style scoped>\n",
       "    .dataframe tbody tr th:only-of-type {\n",
       "        vertical-align: middle;\n",
       "    }\n",
       "\n",
       "    .dataframe tbody tr th {\n",
       "        vertical-align: top;\n",
       "    }\n",
       "\n",
       "    .dataframe thead th {\n",
       "        text-align: right;\n",
       "    }\n",
       "</style>\n",
       "<table border=\"1\" class=\"dataframe\">\n",
       "  <thead>\n",
       "    <tr style=\"text-align: right;\">\n",
       "      <th></th>\n",
       "      <th>x</th>\n",
       "      <th>y</th>\n",
       "      <th>team</th>\n",
       "      <th>level</th>\n",
       "    </tr>\n",
       "  </thead>\n",
       "  <tbody>\n",
       "    <tr>\n",
       "      <th>0</th>\n",
       "      <td>1.0</td>\n",
       "      <td>2.0</td>\n",
       "      <td>A</td>\n",
       "      <td>3</td>\n",
       "    </tr>\n",
       "    <tr>\n",
       "      <th>1</th>\n",
       "      <td>1.5</td>\n",
       "      <td>1.0</td>\n",
       "      <td>A</td>\n",
       "      <td>2</td>\n",
       "    </tr>\n",
       "    <tr>\n",
       "      <th>2</th>\n",
       "      <td>2.0</td>\n",
       "      <td>1.5</td>\n",
       "      <td>A</td>\n",
       "      <td>1</td>\n",
       "    </tr>\n",
       "    <tr>\n",
       "      <th>3</th>\n",
       "      <td>2.5</td>\n",
       "      <td>2.0</td>\n",
       "      <td>B</td>\n",
       "      <td>3</td>\n",
       "    </tr>\n",
       "    <tr>\n",
       "      <th>4</th>\n",
       "      <td>3.0</td>\n",
       "      <td>1.5</td>\n",
       "      <td>B</td>\n",
       "      <td>3</td>\n",
       "    </tr>\n",
       "  </tbody>\n",
       "</table>\n",
       "</div>"
      ],
      "text/plain": [
       "     x    y team  level\n",
       "0  1.0  2.0    A      3\n",
       "1  1.5  1.0    A      2\n",
       "2  2.0  1.5    A      1\n",
       "3  2.5  2.0    B      3\n",
       "4  3.0  1.5    B      3"
      ]
     },
     "execution_count": 92,
     "metadata": {},
     "output_type": "execute_result"
    }
   ],
   "source": [
    "team_mapping = {\"a\":\"A\", \"b\":\"B\"}\n",
    "df.replace({\"team\":team_mapping})"
   ]
  },
  {
   "cell_type": "code",
   "execution_count": 93,
   "id": "dbba99e0-ef65-4c53-a8fb-be23a16d3bed",
   "metadata": {},
   "outputs": [],
   "source": [
    "# # ALT. use str-methods to get uppercase letter\n",
    "# df.assign(team = df[\"team\"].str.upper())"
   ]
  },
  {
   "cell_type": "markdown",
   "id": "9b43c770-29ca-42d9-988a-b0f456d08393",
   "metadata": {},
   "source": [
    "### Reshaping data frames"
   ]
  },
  {
   "cell_type": "code",
   "execution_count": 94,
   "id": "2093a2d1-b618-4deb-8089-0bd14df2b543",
   "metadata": {},
   "outputs": [
    {
     "data": {
      "text/html": [
       "<div>\n",
       "<style scoped>\n",
       "    .dataframe tbody tr th:only-of-type {\n",
       "        vertical-align: middle;\n",
       "    }\n",
       "\n",
       "    .dataframe tbody tr th {\n",
       "        vertical-align: top;\n",
       "    }\n",
       "\n",
       "    .dataframe thead th {\n",
       "        text-align: right;\n",
       "    }\n",
       "</style>\n",
       "<table border=\"1\" class=\"dataframe\">\n",
       "  <thead>\n",
       "    <tr style=\"text-align: right;\">\n",
       "      <th></th>\n",
       "      <th>season</th>\n",
       "      <th>Episode 1</th>\n",
       "      <th>Episode 2</th>\n",
       "      <th>Episode 3</th>\n",
       "    </tr>\n",
       "  </thead>\n",
       "  <tbody>\n",
       "    <tr>\n",
       "      <th>0</th>\n",
       "      <td>Season 1</td>\n",
       "      <td>1000</td>\n",
       "      <td>2000</td>\n",
       "      <td>3000</td>\n",
       "    </tr>\n",
       "    <tr>\n",
       "      <th>1</th>\n",
       "      <td>Season 2</td>\n",
       "      <td>10000</td>\n",
       "      <td>20000</td>\n",
       "      <td>30000</td>\n",
       "    </tr>\n",
       "  </tbody>\n",
       "</table>\n",
       "</div>"
      ],
      "text/plain": [
       "     season  Episode 1  Episode 2  Episode 3\n",
       "0  Season 1       1000       2000       3000\n",
       "1  Season 2      10000      20000      30000"
      ]
     },
     "execution_count": 94,
     "metadata": {},
     "output_type": "execute_result"
    }
   ],
   "source": [
    "views_data = {\n",
    "    \"season\": [\"Season 1\", \"Season 2\"],\n",
    "    \"Episode 1\": [1000, 10000],\n",
    "    \"Episode 2\": [2000, 20000],\n",
    "    \"Episode 3\": [3000, 30000],\n",
    "}\n",
    "widedf = pd.DataFrame(views_data)\n",
    "widedf"
   ]
  },
  {
   "cell_type": "code",
   "execution_count": 95,
   "id": "e261ddcf-e42e-482f-a6e5-2f0ac532df78",
   "metadata": {},
   "outputs": [
    {
     "data": {
      "text/html": [
       "<div>\n",
       "<style scoped>\n",
       "    .dataframe tbody tr th:only-of-type {\n",
       "        vertical-align: middle;\n",
       "    }\n",
       "\n",
       "    .dataframe tbody tr th {\n",
       "        vertical-align: top;\n",
       "    }\n",
       "\n",
       "    .dataframe thead th {\n",
       "        text-align: right;\n",
       "    }\n",
       "</style>\n",
       "<table border=\"1\" class=\"dataframe\">\n",
       "  <thead>\n",
       "    <tr style=\"text-align: right;\">\n",
       "      <th></th>\n",
       "      <th>season</th>\n",
       "      <th>episode</th>\n",
       "      <th>views</th>\n",
       "    </tr>\n",
       "  </thead>\n",
       "  <tbody>\n",
       "    <tr>\n",
       "      <th>0</th>\n",
       "      <td>Season 1</td>\n",
       "      <td>Episode 1</td>\n",
       "      <td>1000</td>\n",
       "    </tr>\n",
       "    <tr>\n",
       "      <th>1</th>\n",
       "      <td>Season 2</td>\n",
       "      <td>Episode 1</td>\n",
       "      <td>10000</td>\n",
       "    </tr>\n",
       "    <tr>\n",
       "      <th>2</th>\n",
       "      <td>Season 1</td>\n",
       "      <td>Episode 2</td>\n",
       "      <td>2000</td>\n",
       "    </tr>\n",
       "    <tr>\n",
       "      <th>3</th>\n",
       "      <td>Season 2</td>\n",
       "      <td>Episode 2</td>\n",
       "      <td>20000</td>\n",
       "    </tr>\n",
       "    <tr>\n",
       "      <th>4</th>\n",
       "      <td>Season 1</td>\n",
       "      <td>Episode 3</td>\n",
       "      <td>3000</td>\n",
       "    </tr>\n",
       "    <tr>\n",
       "      <th>5</th>\n",
       "      <td>Season 2</td>\n",
       "      <td>Episode 3</td>\n",
       "      <td>30000</td>\n",
       "    </tr>\n",
       "  </tbody>\n",
       "</table>\n",
       "</div>"
      ],
      "text/plain": [
       "     season    episode  views\n",
       "0  Season 1  Episode 1   1000\n",
       "1  Season 2  Episode 1  10000\n",
       "2  Season 1  Episode 2   2000\n",
       "3  Season 2  Episode 2  20000\n",
       "4  Season 1  Episode 3   3000\n",
       "5  Season 2  Episode 3  30000"
      ]
     },
     "execution_count": 95,
     "metadata": {},
     "output_type": "execute_result"
    }
   ],
   "source": [
    "longdf = widedf.melt(id_vars=[\"season\"],\n",
    "                     var_name=\"episode\",\n",
    "                     value_name=\"views\")\n",
    "longdf"
   ]
  },
  {
   "cell_type": "markdown",
   "id": "87b01c46-222a-4933-b744-f628f356439f",
   "metadata": {},
   "source": [
    "Let's see the same thing now but sorted by season then by episode:"
   ]
  },
  {
   "cell_type": "code",
   "execution_count": 96,
   "id": "28bc77a2-a23b-41a0-9357-c5288e4cbe28",
   "metadata": {},
   "outputs": [
    {
     "data": {
      "text/html": [
       "<div>\n",
       "<style scoped>\n",
       "    .dataframe tbody tr th:only-of-type {\n",
       "        vertical-align: middle;\n",
       "    }\n",
       "\n",
       "    .dataframe tbody tr th {\n",
       "        vertical-align: top;\n",
       "    }\n",
       "\n",
       "    .dataframe thead th {\n",
       "        text-align: right;\n",
       "    }\n",
       "</style>\n",
       "<table border=\"1\" class=\"dataframe\">\n",
       "  <thead>\n",
       "    <tr style=\"text-align: right;\">\n",
       "      <th></th>\n",
       "      <th>season</th>\n",
       "      <th>episode</th>\n",
       "      <th>views</th>\n",
       "    </tr>\n",
       "  </thead>\n",
       "  <tbody>\n",
       "    <tr>\n",
       "      <th>0</th>\n",
       "      <td>Season 1</td>\n",
       "      <td>Episode 1</td>\n",
       "      <td>1000</td>\n",
       "    </tr>\n",
       "    <tr>\n",
       "      <th>1</th>\n",
       "      <td>Season 1</td>\n",
       "      <td>Episode 2</td>\n",
       "      <td>2000</td>\n",
       "    </tr>\n",
       "    <tr>\n",
       "      <th>2</th>\n",
       "      <td>Season 1</td>\n",
       "      <td>Episode 3</td>\n",
       "      <td>3000</td>\n",
       "    </tr>\n",
       "    <tr>\n",
       "      <th>3</th>\n",
       "      <td>Season 2</td>\n",
       "      <td>Episode 1</td>\n",
       "      <td>10000</td>\n",
       "    </tr>\n",
       "    <tr>\n",
       "      <th>4</th>\n",
       "      <td>Season 2</td>\n",
       "      <td>Episode 2</td>\n",
       "      <td>20000</td>\n",
       "    </tr>\n",
       "    <tr>\n",
       "      <th>5</th>\n",
       "      <td>Season 2</td>\n",
       "      <td>Episode 3</td>\n",
       "      <td>30000</td>\n",
       "    </tr>\n",
       "  </tbody>\n",
       "</table>\n",
       "</div>"
      ],
      "text/plain": [
       "     season    episode  views\n",
       "0  Season 1  Episode 1   1000\n",
       "1  Season 1  Episode 2   2000\n",
       "2  Season 1  Episode 3   3000\n",
       "3  Season 2  Episode 1  10000\n",
       "4  Season 2  Episode 2  20000\n",
       "5  Season 2  Episode 3  30000"
      ]
     },
     "execution_count": 96,
     "metadata": {},
     "output_type": "execute_result"
    }
   ],
   "source": [
    "longdf.sort_values( by=[\"season\", \"episode\"]) \\\n",
    "      .reset_index(drop=True)"
   ]
  },
  {
   "cell_type": "markdown",
   "id": "7ea7ec88-65a6-46bb-8e72-ee0fc5c057b6",
   "metadata": {},
   "source": [
    "The method for the opposite transformation (converting long data to wide data) is called `pivot` and works like this:"
   ]
  },
  {
   "cell_type": "code",
   "execution_count": 97,
   "id": "3b6d0b61-983c-46a6-a363-2b40efd9e6a4",
   "metadata": {},
   "outputs": [
    {
     "data": {
      "text/html": [
       "<div>\n",
       "<style scoped>\n",
       "    .dataframe tbody tr th:only-of-type {\n",
       "        vertical-align: middle;\n",
       "    }\n",
       "\n",
       "    .dataframe tbody tr th {\n",
       "        vertical-align: top;\n",
       "    }\n",
       "\n",
       "    .dataframe thead th {\n",
       "        text-align: right;\n",
       "    }\n",
       "</style>\n",
       "<table border=\"1\" class=\"dataframe\">\n",
       "  <thead>\n",
       "    <tr style=\"text-align: right;\">\n",
       "      <th>episode</th>\n",
       "      <th>Episode 1</th>\n",
       "      <th>Episode 2</th>\n",
       "      <th>Episode 3</th>\n",
       "    </tr>\n",
       "    <tr>\n",
       "      <th>season</th>\n",
       "      <th></th>\n",
       "      <th></th>\n",
       "      <th></th>\n",
       "    </tr>\n",
       "  </thead>\n",
       "  <tbody>\n",
       "    <tr>\n",
       "      <th>Season 1</th>\n",
       "      <td>1000</td>\n",
       "      <td>2000</td>\n",
       "      <td>3000</td>\n",
       "    </tr>\n",
       "    <tr>\n",
       "      <th>Season 2</th>\n",
       "      <td>10000</td>\n",
       "      <td>20000</td>\n",
       "      <td>30000</td>\n",
       "    </tr>\n",
       "  </tbody>\n",
       "</table>\n",
       "</div>"
      ],
      "text/plain": [
       "episode   Episode 1  Episode 2  Episode 3\n",
       "season                                   \n",
       "Season 1       1000       2000       3000\n",
       "Season 2      10000      20000      30000"
      ]
     },
     "execution_count": 97,
     "metadata": {},
     "output_type": "execute_result"
    }
   ],
   "source": [
    "longdf.pivot(index=\"season\",\n",
    "             columns=\"episode\",\n",
    "             values=\"views\")"
   ]
  },
  {
   "cell_type": "code",
   "execution_count": 98,
   "id": "9c8a7493-72fe-4a37-b0e0-c11e27e23701",
   "metadata": {},
   "outputs": [],
   "source": [
    "# # ALT. to get *exactly* the same data frame as `widedf`\n",
    "# longdf.pivot(index=\"season\",\n",
    "#              columns=\"episode\",\n",
    "#              values=\"views\") \\\n",
    "#        .reset_index() \\\n",
    "#        .rename_axis(columns=None)"
   ]
  },
  {
   "cell_type": "code",
   "execution_count": null,
   "id": "96dc210d-de1d-4899-9db6-c86e3f8edbf7",
   "metadata": {},
   "outputs": [],
   "source": []
  },
  {
   "cell_type": "markdown",
   "id": "5d58b77a-4014-48a0-8001-e13fff503fd2",
   "metadata": {},
   "source": [
    "### Data cleaning"
   ]
  },
  {
   "cell_type": "markdown",
   "id": "82d5f017-8762-4050-b848-7a75c997e095",
   "metadata": {},
   "source": [
    "#### Standardize categorical values"
   ]
  },
  {
   "cell_type": "code",
   "execution_count": 99,
   "id": "e3c124b5-3208-4bb7-9c38-88fdaa79af88",
   "metadata": {},
   "outputs": [
    {
     "data": {
      "text/plain": [
       "0         W\n",
       "1     Woman\n",
       "2    Female\n",
       "dtype: object"
      ]
     },
     "execution_count": 99,
     "metadata": {},
     "output_type": "execute_result"
    }
   ],
   "source": [
    "ws = pd.Series([\"W\", \"Woman\", \"Female\"])\n",
    "ws"
   ]
  },
  {
   "cell_type": "code",
   "execution_count": 100,
   "id": "c97764eb-b5b4-4160-9dc2-b9630b957d8c",
   "metadata": {},
   "outputs": [
    {
     "data": {
      "text/plain": [
       "0    W\n",
       "1    W\n",
       "2    W\n",
       "dtype: object"
      ]
     },
     "execution_count": 100,
     "metadata": {},
     "output_type": "execute_result"
    }
   ],
   "source": [
    "wsubs = {\"Woman\": \"W\", \"Female\": \"W\"}\n",
    "ws.replace(wsubs)"
   ]
  },
  {
   "cell_type": "markdown",
   "id": "367a4a6f-08f9-46b2-a365-15d2bcad2a0a",
   "metadata": {},
   "source": [
    "#### Numerical values"
   ]
  },
  {
   "cell_type": "code",
   "execution_count": 101,
   "id": "29e92163-baf8-4971-ad61-00a8bd3c8cb7",
   "metadata": {},
   "outputs": [
    {
     "data": {
      "text/plain": [
       "1.2"
      ]
     },
     "execution_count": 101,
     "metadata": {},
     "output_type": "execute_result"
    }
   ],
   "source": [
    "float(\"1.2\")"
   ]
  },
  {
   "cell_type": "code",
   "execution_count": 102,
   "id": "c0feb8c2-496b-436f-8dd6-39bfbab40f77",
   "metadata": {
    "tags": [
     "raises-exception"
    ]
   },
   "outputs": [
    {
     "ename": "ValueError",
     "evalue": "could not convert string to float: '1,2'",
     "output_type": "error",
     "traceback": [
      "\u001b[0;31m---------------------------------------------------------------------------\u001b[0m",
      "\u001b[0;31mValueError\u001b[0m                                Traceback (most recent call last)",
      "Input \u001b[0;32mIn [102]\u001b[0m, in \u001b[0;36m<module>\u001b[0;34m\u001b[0m\n\u001b[0;32m----> 1\u001b[0m \u001b[38;5;28;43mfloat\u001b[39;49m\u001b[43m(\u001b[49m\u001b[38;5;124;43m\"\u001b[39;49m\u001b[38;5;124;43m1,2\u001b[39;49m\u001b[38;5;124;43m\"\u001b[39;49m\u001b[43m)\u001b[49m\n",
      "\u001b[0;31mValueError\u001b[0m: could not convert string to float: '1,2'"
     ]
    }
   ],
   "source": [
    "float(\"1,2\")"
   ]
  },
  {
   "cell_type": "code",
   "execution_count": 103,
   "id": "8e0a289f-eb1b-41b3-a29e-836f6a6b79c9",
   "metadata": {},
   "outputs": [
    {
     "data": {
      "text/plain": [
       "'1.2'"
      ]
     },
     "execution_count": 103,
     "metadata": {},
     "output_type": "execute_result"
    }
   ],
   "source": [
    "\"1,2\".replace(\",\", \".\")"
   ]
  },
  {
   "cell_type": "code",
   "execution_count": 104,
   "id": "9f8bbc74-912c-4f4e-ba53-277a36717f82",
   "metadata": {
    "tags": [
     "raises-exception"
    ]
   },
   "outputs": [
    {
     "ename": "ValueError",
     "evalue": "could not convert string to float: '1. 2'",
     "output_type": "error",
     "traceback": [
      "\u001b[0;31m---------------------------------------------------------------------------\u001b[0m",
      "\u001b[0;31mValueError\u001b[0m                                Traceback (most recent call last)",
      "Input \u001b[0;32mIn [104]\u001b[0m, in \u001b[0;36m<module>\u001b[0;34m\u001b[0m\n\u001b[0;32m----> 1\u001b[0m \u001b[38;5;28;43mfloat\u001b[39;49m\u001b[43m(\u001b[49m\u001b[38;5;124;43m\"\u001b[39;49m\u001b[38;5;124;43m1. 2\u001b[39;49m\u001b[38;5;124;43m\"\u001b[39;49m\u001b[43m)\u001b[49m\n",
      "\u001b[0;31mValueError\u001b[0m: could not convert string to float: '1. 2'"
     ]
    }
   ],
   "source": [
    "float(\"1. 2\")"
   ]
  },
  {
   "cell_type": "code",
   "execution_count": 105,
   "id": "05d631de-b4f8-4a96-ae88-b299209efe64",
   "metadata": {},
   "outputs": [
    {
     "data": {
      "text/plain": [
       "'1.2'"
      ]
     },
     "execution_count": 105,
     "metadata": {},
     "output_type": "execute_result"
    }
   ],
   "source": [
    "\"1. 2\".replace(\" \", \"\")"
   ]
  },
  {
   "cell_type": "code",
   "execution_count": 106,
   "id": "abc45ccf-52dd-417c-9b9c-119c4453a031",
   "metadata": {},
   "outputs": [
    {
     "data": {
      "text/plain": [
       "0     1.2\n",
       "1     1,2\n",
       "2    1. 2\n",
       "dtype: object"
      ]
     },
     "execution_count": 106,
     "metadata": {},
     "output_type": "execute_result"
    }
   ],
   "source": [
    "ns = pd.Series([\"1.2\", \"1,2\", \"1. 2\"])\n",
    "ns"
   ]
  },
  {
   "cell_type": "code",
   "execution_count": 107,
   "id": "e4cf9c43-ceb1-40df-bc58-74d84e9074bd",
   "metadata": {
    "tags": [
     "raises-exception"
    ]
   },
   "outputs": [],
   "source": [
    "# ns.astype(float)"
   ]
  },
  {
   "cell_type": "code",
   "execution_count": 108,
   "id": "933f86a2-39b6-444a-8ca1-67f4a94206ff",
   "metadata": {
    "tags": []
   },
   "outputs": [
    {
     "data": {
      "text/plain": [
       "0    1.2\n",
       "1    1.2\n",
       "2    1.2\n",
       "dtype: float64"
      ]
     },
     "execution_count": 108,
     "metadata": {},
     "output_type": "execute_result"
    }
   ],
   "source": [
    "ns.str.replace(\",\", \".\") \\\n",
    "  .str.replace(\" \", \"\") \\\n",
    "  .astype(float)"
   ]
  },
  {
   "cell_type": "code",
   "execution_count": null,
   "id": "1d30fc43-f18d-4268-977e-7330425e68bf",
   "metadata": {},
   "outputs": [],
   "source": []
  },
  {
   "cell_type": "markdown",
   "id": "b665232b-5ef7-4e32-9a1d-151148d041df",
   "metadata": {},
   "source": [
    "Use the `.drop_duplicates()` method to remove duplicated rows."
   ]
  },
  {
   "cell_type": "code",
   "execution_count": null,
   "id": "4918b2ea-ae1f-4d42-8c4a-a2002e379f07",
   "metadata": {},
   "outputs": [],
   "source": []
  },
  {
   "cell_type": "code",
   "execution_count": null,
   "id": "3a696a70-3954-4da7-aa4e-f3da7982ac7d",
   "metadata": {},
   "outputs": [],
   "source": []
  },
  {
   "cell_type": "markdown",
   "id": "7e7abc04-8f0a-4b45-930e-7d44d652ab69",
   "metadata": {},
   "source": [
    "### Dealing with missing values"
   ]
  },
  {
   "cell_type": "code",
   "execution_count": 109,
   "id": "be68c278-33a4-4045-b661-ae270cea7495",
   "metadata": {},
   "outputs": [
    {
     "data": {
      "text/html": [
       "<div>\n",
       "<style scoped>\n",
       "    .dataframe tbody tr th:only-of-type {\n",
       "        vertical-align: middle;\n",
       "    }\n",
       "\n",
       "    .dataframe tbody tr th {\n",
       "        vertical-align: top;\n",
       "    }\n",
       "\n",
       "    .dataframe thead th {\n",
       "        text-align: right;\n",
       "    }\n",
       "</style>\n",
       "<table border=\"1\" class=\"dataframe\">\n",
       "  <thead>\n",
       "    <tr style=\"text-align: right;\">\n",
       "      <th></th>\n",
       "      <th>x</th>\n",
       "      <th>y</th>\n",
       "      <th>team</th>\n",
       "      <th>level</th>\n",
       "    </tr>\n",
       "  </thead>\n",
       "  <tbody>\n",
       "    <tr>\n",
       "      <th>0</th>\n",
       "      <td>1.0</td>\n",
       "      <td>2.0</td>\n",
       "      <td>a</td>\n",
       "      <td>3.0</td>\n",
       "    </tr>\n",
       "    <tr>\n",
       "      <th>1</th>\n",
       "      <td>1.5</td>\n",
       "      <td>1.0</td>\n",
       "      <td>a</td>\n",
       "      <td>2.0</td>\n",
       "    </tr>\n",
       "    <tr>\n",
       "      <th>2</th>\n",
       "      <td>2.0</td>\n",
       "      <td>1.5</td>\n",
       "      <td>a</td>\n",
       "      <td>1.0</td>\n",
       "    </tr>\n",
       "    <tr>\n",
       "      <th>3</th>\n",
       "      <td>1.5</td>\n",
       "      <td>1.5</td>\n",
       "      <td>a</td>\n",
       "      <td>NaN</td>\n",
       "    </tr>\n",
       "    <tr>\n",
       "      <th>4</th>\n",
       "      <td>2.5</td>\n",
       "      <td>2.0</td>\n",
       "      <td>b</td>\n",
       "      <td>3.0</td>\n",
       "    </tr>\n",
       "    <tr>\n",
       "      <th>5</th>\n",
       "      <td>3.0</td>\n",
       "      <td>1.5</td>\n",
       "      <td>b</td>\n",
       "      <td>3.0</td>\n",
       "    </tr>\n",
       "    <tr>\n",
       "      <th>6</th>\n",
       "      <td>11.0</td>\n",
       "      <td>NaN</td>\n",
       "      <td>NaN</td>\n",
       "      <td>2.0</td>\n",
       "    </tr>\n",
       "  </tbody>\n",
       "</table>\n",
       "</div>"
      ],
      "text/plain": [
       "      x    y team  level\n",
       "0   1.0  2.0    a    3.0\n",
       "1   1.5  1.0    a    2.0\n",
       "2   2.0  1.5    a    1.0\n",
       "3   1.5  1.5    a    NaN\n",
       "4   2.5  2.0    b    3.0\n",
       "5   3.0  1.5    b    3.0\n",
       "6  11.0  NaN  NaN    2.0"
      ]
     },
     "execution_count": 109,
     "metadata": {},
     "output_type": "execute_result"
    }
   ],
   "source": [
    "rawdf = pd.read_csv(\"../datasets/raw/minimal.csv\")\n",
    "rawdf"
   ]
  },
  {
   "cell_type": "code",
   "execution_count": null,
   "id": "4b9a4b86-8dd8-4061-85d4-3b80cbabcd88",
   "metadata": {},
   "outputs": [],
   "source": []
  },
  {
   "cell_type": "code",
   "execution_count": 110,
   "id": "1542fba9-0383-42be-8bd8-396fce83c7ca",
   "metadata": {},
   "outputs": [
    {
     "name": "stdout",
     "output_type": "stream",
     "text": [
      "<class 'pandas.core.frame.DataFrame'>\n",
      "RangeIndex: 7 entries, 0 to 6\n",
      "Data columns (total 4 columns):\n",
      " #   Column  Non-Null Count  Dtype  \n",
      "---  ------  --------------  -----  \n",
      " 0   x       7 non-null      float64\n",
      " 1   y       6 non-null      float64\n",
      " 2   team    6 non-null      object \n",
      " 3   level   6 non-null      float64\n",
      "dtypes: float64(3), object(1)\n",
      "memory usage: 352.0+ bytes\n"
     ]
    }
   ],
   "source": [
    "rawdf.info()"
   ]
  },
  {
   "cell_type": "code",
   "execution_count": 111,
   "id": "77585e04-2888-4aa3-a2a6-56fb12527435",
   "metadata": {},
   "outputs": [
    {
     "name": "stdout",
     "output_type": "stream",
     "text": [
      "       x      y   team  level\n",
      "0  False  False  False  False\n",
      "1  False  False  False  False\n",
      "2  False  False  False  False\n",
      "3  False  False  False   True\n",
      "4  False  False  False  False\n",
      "5  False  False  False  False\n",
      "6  False   True   True  False\n"
     ]
    }
   ],
   "source": [
    "print(rawdf.isna())"
   ]
  },
  {
   "cell_type": "code",
   "execution_count": 112,
   "id": "c84bc839-9762-4490-b7a1-e9db2db7c77d",
   "metadata": {},
   "outputs": [
    {
     "data": {
      "text/plain": [
       "x        0\n",
       "y        1\n",
       "team     1\n",
       "level    1\n",
       "dtype: int64"
      ]
     },
     "execution_count": 112,
     "metadata": {},
     "output_type": "execute_result"
    }
   ],
   "source": [
    "rawdf.isna().sum(axis=\"rows\")"
   ]
  },
  {
   "cell_type": "code",
   "execution_count": 113,
   "id": "cc6d2a27-b590-4033-80d8-92341faf61cc",
   "metadata": {},
   "outputs": [
    {
     "data": {
      "text/plain": [
       "0    0\n",
       "1    0\n",
       "2    0\n",
       "3    1\n",
       "4    0\n",
       "5    0\n",
       "6    2\n",
       "dtype: int64"
      ]
     },
     "execution_count": 113,
     "metadata": {},
     "output_type": "execute_result"
    }
   ],
   "source": [
    "rawdf.isna().sum(axis=\"columns\")"
   ]
  },
  {
   "cell_type": "code",
   "execution_count": 114,
   "id": "27b00c82-2a1c-4296-9efa-44cf73d99fae",
   "metadata": {},
   "outputs": [],
   "source": [
    "# # ALT. convert to data types that have support <NA> values\n",
    "# tmpdf = pd.read_csv(\"../datasets/raw/minimal.csv\")\n",
    "# rawdf2 = tmpdf.convert_dtypes()\n",
    "# rawdf2.dtypes"
   ]
  },
  {
   "cell_type": "code",
   "execution_count": 115,
   "id": "9786133b-e078-40fc-9cae-51467a1affa3",
   "metadata": {},
   "outputs": [
    {
     "data": {
      "text/plain": [
       "nan"
      ]
     },
     "execution_count": 115,
     "metadata": {},
     "output_type": "execute_result"
    }
   ],
   "source": [
    "float(\"NaN\")"
   ]
  },
  {
   "cell_type": "markdown",
   "id": "8d827ef4-3558-49d5-a880-39e02d909ddf",
   "metadata": {},
   "source": [
    "Remove rows that contain any missing values:"
   ]
  },
  {
   "cell_type": "code",
   "execution_count": 116,
   "id": "7eb4f718-9a29-4168-a92b-72dcbc4d9bba",
   "metadata": {},
   "outputs": [
    {
     "data": {
      "text/html": [
       "<div>\n",
       "<style scoped>\n",
       "    .dataframe tbody tr th:only-of-type {\n",
       "        vertical-align: middle;\n",
       "    }\n",
       "\n",
       "    .dataframe tbody tr th {\n",
       "        vertical-align: top;\n",
       "    }\n",
       "\n",
       "    .dataframe thead th {\n",
       "        text-align: right;\n",
       "    }\n",
       "</style>\n",
       "<table border=\"1\" class=\"dataframe\">\n",
       "  <thead>\n",
       "    <tr style=\"text-align: right;\">\n",
       "      <th></th>\n",
       "      <th>x</th>\n",
       "      <th>y</th>\n",
       "      <th>team</th>\n",
       "      <th>level</th>\n",
       "    </tr>\n",
       "  </thead>\n",
       "  <tbody>\n",
       "    <tr>\n",
       "      <th>0</th>\n",
       "      <td>1.0</td>\n",
       "      <td>2.0</td>\n",
       "      <td>a</td>\n",
       "      <td>3.0</td>\n",
       "    </tr>\n",
       "    <tr>\n",
       "      <th>1</th>\n",
       "      <td>1.5</td>\n",
       "      <td>1.0</td>\n",
       "      <td>a</td>\n",
       "      <td>2.0</td>\n",
       "    </tr>\n",
       "    <tr>\n",
       "      <th>2</th>\n",
       "      <td>2.0</td>\n",
       "      <td>1.5</td>\n",
       "      <td>a</td>\n",
       "      <td>1.0</td>\n",
       "    </tr>\n",
       "    <tr>\n",
       "      <th>4</th>\n",
       "      <td>2.5</td>\n",
       "      <td>2.0</td>\n",
       "      <td>b</td>\n",
       "      <td>3.0</td>\n",
       "    </tr>\n",
       "    <tr>\n",
       "      <th>5</th>\n",
       "      <td>3.0</td>\n",
       "      <td>1.5</td>\n",
       "      <td>b</td>\n",
       "      <td>3.0</td>\n",
       "    </tr>\n",
       "  </tbody>\n",
       "</table>\n",
       "</div>"
      ],
      "text/plain": [
       "     x    y team  level\n",
       "0  1.0  2.0    a    3.0\n",
       "1  1.5  1.0    a    2.0\n",
       "2  2.0  1.5    a    1.0\n",
       "4  2.5  2.0    b    3.0\n",
       "5  3.0  1.5    b    3.0"
      ]
     },
     "execution_count": 116,
     "metadata": {},
     "output_type": "execute_result"
    }
   ],
   "source": [
    "cleandf = rawdf.dropna(how=\"any\")\n",
    "cleandf"
   ]
  },
  {
   "cell_type": "code",
   "execution_count": 117,
   "id": "f1f51b41-8a12-4271-b9ee-8067a76bdd5b",
   "metadata": {},
   "outputs": [],
   "source": [
    "# Raises warning\n",
    "# cleandf[\"level\"] = cleandf[\"level\"].astype(int)"
   ]
  },
  {
   "cell_type": "code",
   "execution_count": 134,
   "id": "e20d0bcc-d518-45eb-9a26-3cf7f20543ff",
   "metadata": {},
   "outputs": [],
   "source": [
    "# Convert the level column to `int`\n",
    "cleandf = cleandf.assign(level = cleandf[\"level\"].astype(int))"
   ]
  },
  {
   "cell_type": "code",
   "execution_count": 119,
   "id": "cfb38c08-694c-42ce-8d21-2c187ad74907",
   "metadata": {},
   "outputs": [],
   "source": [
    "# # Confirm `cleandf` is the same as `df` we worked with earlier\n",
    "# cleandf.reset_index(drop=True).equals(df)"
   ]
  },
  {
   "cell_type": "markdown",
   "id": "478c4bbe-cfd8-4768-a52d-5b84d1c29cb9",
   "metadata": {},
   "source": [
    "\n",
    "  "
   ]
  },
  {
   "cell_type": "markdown",
   "id": "f84fcb08-48fc-40e8-94c2-d03ebbf68227",
   "metadata": {},
   "source": [
    "### Dealing with outliers"
   ]
  },
  {
   "cell_type": "code",
   "execution_count": 120,
   "id": "a167eae8-ea66-47dd-84a7-fc4f14666933",
   "metadata": {},
   "outputs": [
    {
     "data": {
      "text/plain": [
       "0     1.0\n",
       "1     2.0\n",
       "2     3.0\n",
       "3     4.0\n",
       "4    50.0\n",
       "dtype: float64"
      ]
     },
     "execution_count": 120,
     "metadata": {},
     "output_type": "execute_result"
    }
   ],
   "source": [
    "xs = pd.Series([1.0, 2.0, 3.0, 4.0, 50.0])\n",
    "xs"
   ]
  },
  {
   "cell_type": "code",
   "execution_count": null,
   "id": "efdaa288-5a10-42a2-a4d5-9ca8ca6e3675",
   "metadata": {},
   "outputs": [],
   "source": []
  },
  {
   "cell_type": "markdown",
   "id": "e70eeef5-a322-4690-9c37-61d545ce208b",
   "metadata": {},
   "source": [
    "Visual observation of the values in the series `xs` to \"see\" the outlier."
   ]
  },
  {
   "cell_type": "code",
   "execution_count": 121,
   "id": "3418d6ff-1a03-43de-99ef-7c4272e6e8c6",
   "metadata": {},
   "outputs": [
    {
     "data": {
      "text/plain": [
       "<AxesSubplot:>"
      ]
     },
     "execution_count": 121,
     "metadata": {},
     "output_type": "execute_result"
    },
    {
     "data": {
      "image/png": "[encoded data removed]",
      "text/plain": [
       "<Figure size 432x288 with 1 Axes>"
      ]
     },
     "metadata": {
      "needs_background": "light"
     },
     "output_type": "display_data"
    }
   ],
   "source": [
    "import seaborn as sns\n",
    "sns.stripplot(xs)"
   ]
  },
  {
   "cell_type": "code",
   "execution_count": 122,
   "id": "f32e5e71-1106-4f23-821b-0b91cd8bb940",
   "metadata": {},
   "outputs": [
    {
     "data": {
      "text/plain": [
       "(-1.0, 7.0)"
      ]
     },
     "execution_count": 122,
     "metadata": {},
     "output_type": "execute_result"
    }
   ],
   "source": [
    "# Tukey outliers limits for values in the `xs` series\n",
    "Q1, Q3 = xs.quantile([0.25, 0.75])\n",
    "IQR = Q3 - Q1\n",
    "xlim_low = Q1 - 1.5*IQR\n",
    "xlim_high = Q3 + 1.5*IQR\n",
    "(xlim_low, xlim_high)"
   ]
  },
  {
   "cell_type": "code",
   "execution_count": 123,
   "id": "eb367870-238a-40b6-b564-fb81ba4b630a",
   "metadata": {},
   "outputs": [],
   "source": [
    "# # ALT. 2-standard deviations Z-value outlier limits\n",
    "# xmean = xs.mean()\n",
    "# xstd = xs.std()\n",
    "# xlow = xmean - 2*xstd\n",
    "# xhigh = xmean + 2*xstd\n",
    "# (xlow, xhigh)"
   ]
  },
  {
   "cell_type": "markdown",
   "id": "e0ffdb5c-1e86-4ecd-8207-9647a90a1c80",
   "metadata": {},
   "source": [
    "Let's build a mask that identifies outliers using the criterion \"values greater than 7\"."
   ]
  },
  {
   "cell_type": "code",
   "execution_count": 124,
   "id": "dfb263d4-a4e2-4f37-bb22-c0d3a834badd",
   "metadata": {},
   "outputs": [
    {
     "data": {
      "text/plain": [
       "0    False\n",
       "1    False\n",
       "2    False\n",
       "3    False\n",
       "4     True\n",
       "dtype: bool"
      ]
     },
     "execution_count": 124,
     "metadata": {},
     "output_type": "execute_result"
    }
   ],
   "source": [
    "outliers = (xs < -1.0) | (xs > 7.0)\n",
    "outliers"
   ]
  },
  {
   "cell_type": "markdown",
   "id": "9c55c5a7-d539-44d2-86fe-3b0a110760e6",
   "metadata": {},
   "source": [
    "The \"not outliers\" are the values we want to keep. The Python operator `~` is used for this."
   ]
  },
  {
   "cell_type": "code",
   "execution_count": 125,
   "id": "38c1e47c-01d1-40da-a0ec-d504e58820af",
   "metadata": {},
   "outputs": [
    {
     "data": {
      "text/plain": [
       "0     True\n",
       "1     True\n",
       "2     True\n",
       "3     True\n",
       "4    False\n",
       "dtype: bool"
      ]
     },
     "execution_count": 125,
     "metadata": {},
     "output_type": "execute_result"
    }
   ],
   "source": [
    "~outliers"
   ]
  },
  {
   "cell_type": "code",
   "execution_count": 126,
   "id": "a4cd4cde-a175-415d-9d27-ea1cec5bcb23",
   "metadata": {},
   "outputs": [
    {
     "data": {
      "text/plain": [
       "0    1.0\n",
       "1    2.0\n",
       "2    3.0\n",
       "3    4.0\n",
       "dtype: float64"
      ]
     },
     "execution_count": 126,
     "metadata": {},
     "output_type": "execute_result"
    }
   ],
   "source": [
    "xs[~outliers]"
   ]
  },
  {
   "cell_type": "markdown",
   "id": "960d5a4d-2292-43bb-81c8-b9d0ed3a82f1",
   "metadata": {},
   "source": [
    "The mean computed from all the values:"
   ]
  },
  {
   "cell_type": "code",
   "execution_count": 127,
   "id": "5ad445f5-6d23-45d9-aaa6-e70c9f3a8873",
   "metadata": {},
   "outputs": [
    {
     "data": {
      "text/plain": [
       "12.0"
      ]
     },
     "execution_count": 127,
     "metadata": {},
     "output_type": "execute_result"
    }
   ],
   "source": [
    "xs.mean()"
   ]
  },
  {
   "cell_type": "code",
   "execution_count": 128,
   "id": "18c0e406-246f-4934-90a4-0907c77b4183",
   "metadata": {},
   "outputs": [
    {
     "data": {
      "text/plain": [
       "21.27204738618265"
      ]
     },
     "execution_count": 128,
     "metadata": {},
     "output_type": "execute_result"
    }
   ],
   "source": [
    "xs.std()"
   ]
  },
  {
   "cell_type": "markdown",
   "id": "f61c4aaa-90d5-45a9-bf96-64c760df149e",
   "metadata": {},
   "source": [
    "The mean computed without the outliers:"
   ]
  },
  {
   "cell_type": "code",
   "execution_count": 129,
   "id": "797e69c0-531b-49ca-8654-95ea4ba3e0c6",
   "metadata": {},
   "outputs": [
    {
     "data": {
      "text/plain": [
       "2.5"
      ]
     },
     "execution_count": 129,
     "metadata": {},
     "output_type": "execute_result"
    }
   ],
   "source": [
    "xs[~outliers].mean()"
   ]
  },
  {
   "cell_type": "code",
   "execution_count": 130,
   "id": "de6ea0e0-5723-4fbf-b5de-efc6a319b69b",
   "metadata": {},
   "outputs": [
    {
     "data": {
      "text/plain": [
       "1.2909944487358056"
      ]
     },
     "execution_count": 130,
     "metadata": {},
     "output_type": "execute_result"
    }
   ],
   "source": [
    "xs[~outliers].std()"
   ]
  },
  {
   "cell_type": "code",
   "execution_count": null,
   "id": "5a838f03-b800-47cc-8266-97f58bf7b3d7",
   "metadata": {},
   "outputs": [],
   "source": []
  },
  {
   "cell_type": "markdown",
   "id": "5c6dca93-1641-4d4c-bc05-80a21b65e10e",
   "metadata": {},
   "source": [
    "## Load\n",
    "\n",
    "Let's save the cleaned data to the file `mydata.csv` in a directory `mydataset`."
   ]
  },
  {
   "cell_type": "code",
   "execution_count": 131,
   "id": "45b4c453-20a7-41cf-b03b-b80c8305f4e7",
   "metadata": {},
   "outputs": [],
   "source": [
    "cleandf.to_csv(\"mydataset/mydata.csv\", index=False)"
   ]
  },
  {
   "cell_type": "code",
   "execution_count": 132,
   "id": "af92252c-f458-4c75-93f9-bd055585c63e",
   "metadata": {},
   "outputs": [
    {
     "name": "stdout",
     "output_type": "stream",
     "text": [
      "x,y,team,level\n",
      "1.0,2.0,a,3\n",
      "1.5,1.0,a,2\n",
      "2.0,1.5,a,1\n",
      "2.5,2.0,b,3\n",
      "3.0,1.5,b,3\n"
     ]
    }
   ],
   "source": [
    "head(\"mydataset/mydata.csv\")"
   ]
  },
  {
   "cell_type": "markdown",
   "id": "af6e878a-bffa-4649-9202-1f89fb318d6a",
   "metadata": {},
   "source": [
    "Information about the dataset is provided in a text file `README.txt`."
   ]
  },
  {
   "cell_type": "code",
   "execution_count": 133,
   "id": "0cb8db05-0563-4035-8120-85d7b4676383",
   "metadata": {},
   "outputs": [
    {
     "name": "stdout",
     "output_type": "stream",
     "text": [
      "Players dataset\n",
      "===============\n",
      "Description: Synthetic data used to show Pandas operations.\n",
      "Filename: mydata.csv\n",
      "Format: A CSV file with 5 rows and 4 columns.\n",
      "- x (numeric): horizontal position of the player.\n",
      "- y (numeric): vertical position of the player.\n",
      "- team (categorical): which team the player is in (a or b).\n",
      "- level (categorical): player strength (1, 2, or 3).\n",
      "Source: Synthetic data created by the author.\n",
      "License: CC0 (public domain)\n"
     ]
    }
   ],
   "source": [
    "head(\"mydataset/README.txt\", count=11)"
   ]
  },
  {
   "cell_type": "code",
   "execution_count": null,
   "id": "5da55e3f-611b-48db-830b-b0ada182a0a6",
   "metadata": {},
   "outputs": [],
   "source": []
  }
 ],
 "metadata": {
  "kernelspec": {
   "display_name": "Python 3 (ipykernel)",
   "language": "python",
   "name": "python3"
  },
  "language_info": {
   "codemirror_mode": {
    "name": "ipython",
    "version": 3
   },
   "file_extension": ".py",
   "mimetype": "text/x-python",
   "name": "python",
   "nbconvert_exporter": "python",
   "pygments_lexer": "ipython3",
   "version": "3.9.4"
  },
  "toc-autonumbering": false,
  "toc-showcode": false,
  "toc-showmarkdowntxt": false,
  "toc-showtags": false
 },
 "nbformat": 4,
 "nbformat_minor": 5
}
