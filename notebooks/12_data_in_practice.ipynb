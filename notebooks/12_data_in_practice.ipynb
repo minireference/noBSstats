{
 "cells": [
  {
   "cell_type": "markdown",
   "id": "4d2a6d0b-b364-4d30-afee-4eb74a1224f5",
   "metadata": {},
   "source": [
    "# Section 1.2 — Data in practice\n",
    "\n",
    "This notebook contains all the code from [Section 1.2 Data in practice](https://minireference.com/static/excerpts/noBSstats/noBSstats_ch01_DATA.pdf#page=34) of the **No Bullshit Guide to Statistics**."
   ]
  },
  {
   "cell_type": "code",
   "execution_count": 1,
   "id": "3b212e60-9c9a-4c24-8358-47614540e88e",
   "metadata": {},
   "outputs": [
    {
     "data": {
      "text/plain": [
       "5"
      ]
     },
     "execution_count": 1,
     "metadata": {},
     "output_type": "execute_result"
    }
   ],
   "source": [
    "2 + 3"
   ]
  },
  {
   "cell_type": "code",
   "execution_count": null,
   "id": "2a73ea39-5f6d-4b60-afd8-92f0f19cf3e5",
   "metadata": {},
   "outputs": [],
   "source": []
  },
  {
   "cell_type": "markdown",
   "id": "6ad3970a-eeec-4764-b4f1-27ae494d2972",
   "metadata": {
    "tags": []
   },
   "source": [
    "#### Notebook setup"
   ]
  },
  {
   "cell_type": "markdown",
   "id": "70143489-6a0c-444c-ab1b-f5ca9ba3d109",
   "metadata": {},
   "source": [
    "### Note for Windows users\n",
    "\n",
    "If you're on macOS or Linux you can ignore this section—skip to the next section **Data management with Pandas**.\n",
    "\n",
    "File paths on Windows use the backslash character (`\\`) as path separator,\n",
    "while UNIX operating systems like Linux and macOS use forward slash separator `/` as path separator. \n",
    "\n",
    "If you you're on Windows you'll need to manually edit the code examples below to make them work by replacing all occurrences of \"`/`\" with \"`\\\\`\". The double backslash is required to get a literal backslash because the character `\\` has special meaning as an escape character."
   ]
  },
  {
   "cell_type": "code",
   "execution_count": 2,
   "id": "fd5c7177-a7a5-4603-800a-e315462938d6",
   "metadata": {},
   "outputs": [
    {
     "name": "stdout",
     "output_type": "stream",
     "text": [
      "You're on a UNIX system (Linux or macOS).\n",
      "Enjoy civilization!\n"
     ]
    }
   ],
   "source": [
    "import os\n",
    "\n",
    "if os.path.sep == \"/\":\n",
    "    print(\"You're on a UNIX system (Linux or macOS).\")\n",
    "    print(\"Enjoy civilization!\")\n",
    "elif os.path.sep == \"\\\\\":\n",
    "    print(\"You're on Windows so you should use \\\\ as path separator.\")\n",
    "    print(\"Replace any occurence of / (forward slash) in paths with \\\\\\\\ (double-backslash).\")"
   ]
  },
  {
   "cell_type": "markdown",
   "id": "f87899fa-9fb6-492c-ad66-3c7b093d502a",
   "metadata": {},
   "source": [
    "The current working directory is a path on your computer where this notebook is running.\n",
    "The code cell below shows you can **get** you **c**urrent **w**orking **d**irectory."
   ]
  },
  {
   "cell_type": "code",
   "execution_count": 3,
   "id": "c3b4f3b0-832a-40b6-8b3a-8d73828edbc8",
   "metadata": {},
   "outputs": [
    {
     "data": {
      "text/plain": [
       "'/Users/ivan/Projects/Minireference/STATSbook/noBSstatsnotebooks/notebooks'"
      ]
     },
     "execution_count": 3,
     "metadata": {},
     "output_type": "execute_result"
    }
   ],
   "source": [
    "os.getcwd()"
   ]
  },
  {
   "cell_type": "markdown",
   "id": "fe6e0eae-2578-4576-8a76-adbae708673c",
   "metadata": {},
   "source": [
    "You're in the `notebooks/` directory, which is inside the parent directory `noBSstats/`.\n",
    "\n",
    "The datasets we'll be using in this notebook are located in the `datasets/` directory, which is sibling of the `notebooks/` directory, inside the parent `noBSstats/`. To access data file `minimal.csv` in the `datasets/` directory from the current directory, we must specify a path that includes the `..` directive (go to parent), then go into the `datasets` directory, then open the file `minimal.csv`.\n",
    "\n",
    "This combination of \"directions\" for getting to the file will look different if you're on a Windows system or on a UNIX system. The code below shows the correct path you should access."
   ]
  },
  {
   "cell_type": "code",
   "execution_count": 4,
   "id": "6ea87fab-4243-496b-9188-204ebd5fce04",
   "metadata": {},
   "outputs": [
    {
     "name": "stdout",
     "output_type": "stream",
     "text": [
      "The path to the file players.csv in the datasets/ directory is\n"
     ]
    },
    {
     "data": {
      "text/plain": [
       "'../datasets/players.csv'"
      ]
     },
     "execution_count": 4,
     "metadata": {},
     "output_type": "execute_result"
    }
   ],
   "source": [
    "if os.path.sep == \"/\":\n",
    "    # UNIX path separators\n",
    "    path = \"../datasets/players.csv\"\n",
    "else:\n",
    "    # Windows path separators\n",
    "    path = \"..\\\\datasets\\\\players.csv\"\n",
    "\n",
    "print(\"The path to the file players.csv in the datasets/ directory is\")\n",
    "path"
   ]
  },
  {
   "cell_type": "markdown",
   "id": "18653bfc-3460-42a3-8e9f-874099a446de",
   "metadata": {},
   "source": [
    "All the code examples provided below assume you're on a UNIX system,\n",
    "hence the need to manually modify them to use double-backslashes in path strings for the code to work."
   ]
  },
  {
   "cell_type": "code",
   "execution_count": null,
   "id": "e864979f-9754-4113-8cf3-aba5a99ad11e",
   "metadata": {},
   "outputs": [],
   "source": []
  },
  {
   "cell_type": "markdown",
   "id": "a4977364-23ba-434e-b203-583297276737",
   "metadata": {},
   "source": [
    "## Hands-on data management"
   ]
  },
  {
   "cell_type": "markdown",
   "id": "ef1f8eaf-a073-4cd8-b3b3-2c620f1954eb",
   "metadata": {},
   "source": [
    "### Getting started with JupyterLab Desktop\n",
    "\n",
    "Follow instructions in the [Python tutorial](./python_tutorial.ipynb) to install JupyterLab Desktop on your computer.\n"
   ]
  },
  {
   "cell_type": "code",
   "execution_count": null,
   "id": "c09dd44b-68e9-4aa0-ab38-1712aa95821c",
   "metadata": {},
   "outputs": [],
   "source": []
  },
  {
   "cell_type": "markdown",
   "id": "0b083f74-ecfd-4767-8133-eab42a9a15a7",
   "metadata": {},
   "source": [
    "### Download the interactive notebooks for this book"
   ]
  },
  {
   "cell_type": "code",
   "execution_count": null,
   "id": "97907ab4-3bd7-4479-a470-ea256197535d",
   "metadata": {},
   "outputs": [],
   "source": []
  },
  {
   "cell_type": "code",
   "execution_count": null,
   "id": "e2da7278-9eaf-4540-8ac7-dede263ac21f",
   "metadata": {},
   "outputs": [],
   "source": []
  },
  {
   "cell_type": "markdown",
   "id": "ee8813fb-79df-488c-a521-1b67d95d85f7",
   "metadata": {},
   "source": [
    "## Data management with Pandas"
   ]
  },
  {
   "cell_type": "markdown",
   "id": "eb486b3c-180e-4eb1-84a0-01626f8f6f29",
   "metadata": {},
   "source": [
    "First let's make sure pandas is installed using the `%pip` Jupyter command."
   ]
  },
  {
   "cell_type": "code",
   "execution_count": 5,
   "id": "1fa5d64f-beae-4ec2-b8b2-b4cfaa04b457",
   "metadata": {},
   "outputs": [],
   "source": [
    "# %pip install pandas"
   ]
  },
  {
   "cell_type": "markdown",
   "id": "4011d1a5-1cb5-4e12-8185-253f5e03ba0b",
   "metadata": {},
   "source": [
    "We then import the `pandas` library as the alias `pd`."
   ]
  },
  {
   "cell_type": "code",
   "execution_count": 6,
   "id": "76f094e5-7915-4f9d-856d-e2fb95a1ec61",
   "metadata": {},
   "outputs": [],
   "source": [
    "import pandas as pd"
   ]
  },
  {
   "cell_type": "markdown",
   "id": "dca08206-be82-4eec-a5f7-69c499a1c315",
   "metadata": {},
   "source": [
    "### Series\n",
    "\n",
    "Pandas `pd.Series` objects are similar to Python lists `[3,5,7,9]`.\n",
    "They are containers for series of values."
   ]
  },
  {
   "cell_type": "code",
   "execution_count": 7,
   "id": "7ae93b47-cfdd-4cfd-8f46-e96e1ba6ad41",
   "metadata": {},
   "outputs": [
    {
     "data": {
      "text/plain": [
       "0    3\n",
       "1    5\n",
       "2    7\n",
       "3    9\n",
       "dtype: int64"
      ]
     },
     "execution_count": 7,
     "metadata": {},
     "output_type": "execute_result"
    }
   ],
   "source": [
    "s = pd.Series([3, 5, 7, 9])\n",
    "s"
   ]
  },
  {
   "cell_type": "markdown",
   "id": "3a3da136-5a7d-450c-b295-9bfca07ca824",
   "metadata": {},
   "source": [
    "Python lists use integers for identifying the elements of the list\n",
    "(first = index `0`, second = index `1`, last = index `len(self)-1`).\n",
    "\n",
    "Pandas series support the same functionality.\n",
    "Here are some example of accessing individual values of the series using the default 0-base indexing."
   ]
  },
  {
   "cell_type": "code",
   "execution_count": 8,
   "id": "75393e67-b916-44a4-aa81-0ecd1113e8a9",
   "metadata": {},
   "outputs": [
    {
     "name": "stdout",
     "output_type": "stream",
     "text": [
      "First:  index = 0  value = 3\n",
      "Second: index = 1  value = 5\n",
      "Last:   index = 3  value = 9\n"
     ]
    }
   ],
   "source": [
    "print(\"First:  index =\", 0, \" value =\", s[0])\n",
    "print(\"Second: index =\", 1, \" value =\", s[1])\n",
    "print(\"Last:   index =\", len(s)-1, \" value =\", s[len(s)-1])"
   ]
  },
  {
   "cell_type": "markdown",
   "id": "0ec69a8e-7a1e-44c2-90e7-f2784f9e972f",
   "metadata": {},
   "source": [
    "The series `index` attribute tells you all the possible indices for the series."
   ]
  },
  {
   "cell_type": "code",
   "execution_count": 9,
   "id": "3cb2d45a-d07c-4909-9056-96b0b8c4fa57",
   "metadata": {},
   "outputs": [
    {
     "data": {
      "text/plain": [
       "RangeIndex(start=0, stop=4, step=1)"
      ]
     },
     "execution_count": 9,
     "metadata": {},
     "output_type": "execute_result"
    }
   ],
   "source": [
    "s.index"
   ]
  },
  {
   "cell_type": "markdown",
   "id": "341c0b0d-526c-4cb9-ac3f-aaf9997a5dc4",
   "metadata": {},
   "source": [
    "The series `s` uses the default index `[0, 1, 2, 3]`, \n",
    "which consists of a range of integers, starting at 0,\n",
    "just like the index of a Python list with four elements."
   ]
  },
  {
   "cell_type": "code",
   "execution_count": 10,
   "id": "25c13e47-89f0-44fe-9f20-0b87412fb316",
   "metadata": {},
   "outputs": [
    {
     "data": {
      "text/plain": [
       "array([3, 5, 7, 9])"
      ]
     },
     "execution_count": 10,
     "metadata": {},
     "output_type": "execute_result"
    }
   ],
   "source": [
    "s.values"
   ]
  },
  {
   "cell_type": "code",
   "execution_count": 11,
   "id": "251edc15-5c42-49ea-a9a1-3bdaf6b78a25",
   "metadata": {},
   "outputs": [
    {
     "data": {
      "text/plain": [
       "numpy.ndarray"
      ]
     },
     "execution_count": 11,
     "metadata": {},
     "output_type": "execute_result"
    }
   ],
   "source": [
    "type(s.values)"
   ]
  },
  {
   "cell_type": "markdown",
   "id": "659adb43-7657-486f-89a8-c2048c10057f",
   "metadata": {},
   "source": [
    "In addition to accessing individual elements like this,"
   ]
  },
  {
   "cell_type": "code",
   "execution_count": 12,
   "id": "3e549063-785e-4216-b988-4579d0dad4b0",
   "metadata": {},
   "outputs": [
    {
     "data": {
      "text/plain": [
       "3"
      ]
     },
     "execution_count": 12,
     "metadata": {},
     "output_type": "execute_result"
    }
   ],
   "source": [
    "s[0]"
   ]
  },
  {
   "cell_type": "markdown",
   "id": "84140429-0e0e-49d3-8c48-ccb150c58912",
   "metadata": {},
   "source": [
    "we can also \"slice\" a series to obtain a new series that contains indices and values of the slice:"
   ]
  },
  {
   "cell_type": "code",
   "execution_count": 13,
   "id": "16e9cc7b-f803-4aac-a42e-6fa8c23f402c",
   "metadata": {},
   "outputs": [
    {
     "data": {
      "text/plain": [
       "0    3\n",
       "1    5\n",
       "2    7\n",
       "dtype: int64"
      ]
     },
     "execution_count": 13,
     "metadata": {},
     "output_type": "execute_result"
    }
   ],
   "source": [
    "s[0:3]"
   ]
  },
  {
   "cell_type": "markdown",
   "id": "a8d19ee4-7bc4-47df-8f06-030f3f28a9ed",
   "metadata": {},
   "source": [
    "Performing arithmetic operations on the series."
   ]
  },
  {
   "cell_type": "code",
   "execution_count": 14,
   "id": "c59deacc-77d3-400a-8b36-a6f8a1766dd6",
   "metadata": {},
   "outputs": [
    {
     "data": {
      "text/plain": [
       "4"
      ]
     },
     "execution_count": 14,
     "metadata": {},
     "output_type": "execute_result"
    }
   ],
   "source": [
    "s.count()"
   ]
  },
  {
   "cell_type": "code",
   "execution_count": 15,
   "id": "2c91c906-0512-423d-9d5d-f3d68b6a41b0",
   "metadata": {},
   "outputs": [],
   "source": [
    "# # ALT\n",
    "# len(s)"
   ]
  },
  {
   "cell_type": "code",
   "execution_count": 16,
   "id": "eb6bd5c3-df22-4b70-9a52-85d4f8c901c2",
   "metadata": {},
   "outputs": [
    {
     "data": {
      "text/plain": [
       "24"
      ]
     },
     "execution_count": 16,
     "metadata": {},
     "output_type": "execute_result"
    }
   ],
   "source": [
    "s.sum()"
   ]
  },
  {
   "cell_type": "code",
   "execution_count": 17,
   "id": "dc793012-8a70-4462-b3d7-3e540242dd81",
   "metadata": {},
   "outputs": [
    {
     "data": {
      "text/plain": [
       "0    0.125000\n",
       "1    0.208333\n",
       "2    0.291667\n",
       "3    0.375000\n",
       "dtype: float64"
      ]
     },
     "execution_count": 17,
     "metadata": {},
     "output_type": "execute_result"
    }
   ],
   "source": [
    "s / s.sum()"
   ]
  },
  {
   "cell_type": "code",
   "execution_count": 18,
   "id": "dd1483b4-484e-4e35-9efc-3964dcc41fa2",
   "metadata": {},
   "outputs": [
    {
     "data": {
      "text/plain": [
       "6.0"
      ]
     },
     "execution_count": 18,
     "metadata": {},
     "output_type": "execute_result"
    }
   ],
   "source": [
    "s.mean()"
   ]
  },
  {
   "cell_type": "code",
   "execution_count": 19,
   "id": "94f54a17-c0db-4a26-8759-4804b30a0a19",
   "metadata": {},
   "outputs": [
    {
     "data": {
      "text/plain": [
       "2.581988897471611"
      ]
     },
     "execution_count": 19,
     "metadata": {},
     "output_type": "execute_result"
    }
   ],
   "source": [
    "s.std()"
   ]
  },
  {
   "cell_type": "markdown",
   "id": "6d6df288-9359-4ca6-b6d8-ce2afbc44a38",
   "metadata": {},
   "source": [
    "We can also use arbitrary functions from `numpy` on a series,\n",
    "and Pandas will apply the function to the values in the series."
   ]
  },
  {
   "cell_type": "code",
   "execution_count": 20,
   "id": "f29fa65b-7e96-4f4c-b229-d56da09e9281",
   "metadata": {},
   "outputs": [
    {
     "data": {
      "text/plain": [
       "0    1.098612\n",
       "1    1.609438\n",
       "2    1.945910\n",
       "3    2.197225\n",
       "dtype: float64"
      ]
     },
     "execution_count": 20,
     "metadata": {},
     "output_type": "execute_result"
    }
   ],
   "source": [
    "import numpy as np\n",
    "np.log(s)"
   ]
  },
  {
   "cell_type": "markdown",
   "id": "3668226b-f1dd-49ce-885a-3d62d23a6773",
   "metadata": {},
   "source": [
    "\n",
    "\n"
   ]
  },
  {
   "cell_type": "code",
   "execution_count": null,
   "id": "f4e3e626-368e-48f5-ac68-9f80423e49ad",
   "metadata": {},
   "outputs": [],
   "source": []
  },
  {
   "cell_type": "markdown",
   "id": "22bf0b74-9641-4892-8bbe-d563c6fbaca3",
   "metadata": {},
   "source": [
    "### Data frames"
   ]
  },
  {
   "cell_type": "markdown",
   "id": "a7ce329b-614e-4728-bf3c-f5918be36014",
   "metadata": {},
   "source": [
    "Loading the dataset `minimal.csv`"
   ]
  },
  {
   "cell_type": "code",
   "execution_count": 21,
   "id": "8722e39e-ef5e-4e28-988d-f9c18c634daf",
   "metadata": {},
   "outputs": [],
   "source": [
    "# !cat \"../datasets/players.csv\""
   ]
  },
  {
   "cell_type": "code",
   "execution_count": 22,
   "id": "21b7542c-71ab-46e4-989f-e84a31e4387d",
   "metadata": {},
   "outputs": [
    {
     "name": "stdout",
     "output_type": "stream",
     "text": [
      "   username country  age  ezlvl    time  points  finished\n",
      "0      mary      us   38      0  124.94     418         0\n",
      "1      jane      ca   21      0  331.64    1149         1\n",
      "2      emil      fr   52      1  324.61    1321         1\n",
      "3      ivan      ca   50      1   39.51     226         0\n",
      "4     hasan      tr   26      1  253.19     815         0\n",
      "5    jordan      us   45      0   28.49     206         0\n",
      "6    sanjay      ca   27      1  350.00    1401         1\n",
      "7      lena      uk   23      0  408.76    1745         1\n",
      "8      shuo      cn   24      1  194.77    1043         0\n",
      "9     r0byn      us   59      0  255.55    1102         0\n",
      "10     anna      pl   18      0  303.66    1209         1\n",
      "11     joro      bg   22      1  381.97    1491         1\n"
     ]
    }
   ],
   "source": [
    "players = pd.read_csv(\"../datasets/players.csv\")\n",
    "print(players)"
   ]
  },
  {
   "cell_type": "code",
   "execution_count": 23,
   "id": "8033a6fe-093d-4082-8d18-7ec3a542b062",
   "metadata": {},
   "outputs": [
    {
     "data": {
      "text/plain": [
       "array([38, 21, 52, 50, 26, 45, 27, 23, 24, 59, 18, 22])"
      ]
     },
     "execution_count": 23,
     "metadata": {},
     "output_type": "execute_result"
    }
   ],
   "source": [
    "players[\"age\"].values"
   ]
  },
  {
   "cell_type": "code",
   "execution_count": 24,
   "id": "529d26f1-4464-4259-9339-12d964f1d0e0",
   "metadata": {},
   "outputs": [
    {
     "data": {
      "text/plain": [
       "username     object\n",
       "country      object\n",
       "age           int64\n",
       "ezlvl         int64\n",
       "time        float64\n",
       "points        int64\n",
       "finished      int64\n",
       "dtype: object"
      ]
     },
     "execution_count": 24,
     "metadata": {},
     "output_type": "execute_result"
    }
   ],
   "source": [
    "players.dtypes"
   ]
  },
  {
   "cell_type": "code",
   "execution_count": null,
   "id": "8a1d79f2-fe60-4d72-bd57-20083c256e9e",
   "metadata": {},
   "outputs": [],
   "source": []
  },
  {
   "cell_type": "markdown",
   "id": "b7fd0bad-4fd8-459b-8c8d-40fcc7fede3d",
   "metadata": {},
   "source": [
    "### Data frame properties"
   ]
  },
  {
   "cell_type": "code",
   "execution_count": 25,
   "id": "4f3a33fb-77df-4a7e-8ce6-9bd24249a77c",
   "metadata": {},
   "outputs": [
    {
     "data": {
      "text/plain": [
       "pandas.core.frame.DataFrame"
      ]
     },
     "execution_count": 25,
     "metadata": {},
     "output_type": "execute_result"
    }
   ],
   "source": [
    "type(players)"
   ]
  },
  {
   "cell_type": "code",
   "execution_count": 26,
   "id": "da643e43-c7e7-4653-bb57-5197abf779f8",
   "metadata": {},
   "outputs": [
    {
     "data": {
      "text/plain": [
       "RangeIndex(start=0, stop=12, step=1)"
      ]
     },
     "execution_count": 26,
     "metadata": {},
     "output_type": "execute_result"
    }
   ],
   "source": [
    "players.index"
   ]
  },
  {
   "cell_type": "code",
   "execution_count": 27,
   "id": "291866b7-b1fc-4f81-924a-688517ff439c",
   "metadata": {},
   "outputs": [
    {
     "data": {
      "text/plain": [
       "Index(['username', 'country', 'age', 'ezlvl', 'time', 'points', 'finished'], dtype='object')"
      ]
     },
     "execution_count": 27,
     "metadata": {},
     "output_type": "execute_result"
    }
   ],
   "source": [
    "players.columns"
   ]
  },
  {
   "cell_type": "code",
   "execution_count": 28,
   "id": "f7de221c-4566-4673-9622-dcabf1e8631d",
   "metadata": {},
   "outputs": [
    {
     "data": {
      "text/plain": [
       "(12, 7)"
      ]
     },
     "execution_count": 28,
     "metadata": {},
     "output_type": "execute_result"
    }
   ],
   "source": [
    "players.shape"
   ]
  },
  {
   "cell_type": "code",
   "execution_count": 29,
   "id": "fc8b2e65-a6bf-4f49-b39d-c0c24b494b9c",
   "metadata": {},
   "outputs": [
    {
     "data": {
      "text/plain": [
       "username     object\n",
       "country      object\n",
       "age           int64\n",
       "ezlvl         int64\n",
       "time        float64\n",
       "points        int64\n",
       "finished      int64\n",
       "dtype: object"
      ]
     },
     "execution_count": 29,
     "metadata": {},
     "output_type": "execute_result"
    }
   ],
   "source": [
    "players.dtypes"
   ]
  },
  {
   "cell_type": "code",
   "execution_count": null,
   "id": "a0f97e38-fa70-44f3-9c2b-ae33a877a07b",
   "metadata": {},
   "outputs": [],
   "source": []
  },
  {
   "cell_type": "code",
   "execution_count": null,
   "id": "efd7b332-0764-4e45-a9a4-3f603de8cc64",
   "metadata": {},
   "outputs": [],
   "source": []
  },
  {
   "cell_type": "code",
   "execution_count": 30,
   "id": "45cf5451-8a56-489c-bc75-97b93496bd6f",
   "metadata": {},
   "outputs": [
    {
     "data": {
      "text/html": [
       "<div>\n",
       "<style scoped>\n",
       "    .dataframe tbody tr th:only-of-type {\n",
       "        vertical-align: middle;\n",
       "    }\n",
       "\n",
       "    .dataframe tbody tr th {\n",
       "        vertical-align: top;\n",
       "    }\n",
       "\n",
       "    .dataframe thead th {\n",
       "        text-align: right;\n",
       "    }\n",
       "</style>\n",
       "<table border=\"1\" class=\"dataframe\">\n",
       "  <thead>\n",
       "    <tr style=\"text-align: right;\">\n",
       "      <th></th>\n",
       "      <th>username</th>\n",
       "      <th>country</th>\n",
       "      <th>age</th>\n",
       "      <th>ezlvl</th>\n",
       "      <th>time</th>\n",
       "      <th>points</th>\n",
       "      <th>finished</th>\n",
       "    </tr>\n",
       "  </thead>\n",
       "  <tbody>\n",
       "    <tr>\n",
       "      <th>0</th>\n",
       "      <td>mary</td>\n",
       "      <td>us</td>\n",
       "      <td>38</td>\n",
       "      <td>0</td>\n",
       "      <td>124.94</td>\n",
       "      <td>418</td>\n",
       "      <td>0</td>\n",
       "    </tr>\n",
       "    <tr>\n",
       "      <th>1</th>\n",
       "      <td>jane</td>\n",
       "      <td>ca</td>\n",
       "      <td>21</td>\n",
       "      <td>0</td>\n",
       "      <td>331.64</td>\n",
       "      <td>1149</td>\n",
       "      <td>1</td>\n",
       "    </tr>\n",
       "    <tr>\n",
       "      <th>2</th>\n",
       "      <td>emil</td>\n",
       "      <td>fr</td>\n",
       "      <td>52</td>\n",
       "      <td>1</td>\n",
       "      <td>324.61</td>\n",
       "      <td>1321</td>\n",
       "      <td>1</td>\n",
       "    </tr>\n",
       "  </tbody>\n",
       "</table>\n",
       "</div>"
      ],
      "text/plain": [
       "  username country  age  ezlvl    time  points  finished\n",
       "0     mary      us   38      0  124.94     418         0\n",
       "1     jane      ca   21      0  331.64    1149         1\n",
       "2     emil      fr   52      1  324.61    1321         1"
      ]
     },
     "execution_count": 30,
     "metadata": {},
     "output_type": "execute_result"
    }
   ],
   "source": [
    "players.head(3)\n",
    "# players.tail(2)\n",
    "# players.sample(3)"
   ]
  },
  {
   "cell_type": "code",
   "execution_count": 31,
   "id": "fb124e93-c519-49e6-bf92-aeacec101041",
   "metadata": {},
   "outputs": [
    {
     "name": "stdout",
     "output_type": "stream",
     "text": [
      "<class 'pandas.core.frame.DataFrame'>\n",
      "RangeIndex: 12 entries, 0 to 11\n",
      "Data columns (total 7 columns):\n",
      " #   Column    Non-Null Count  Dtype  \n",
      "---  ------    --------------  -----  \n",
      " 0   username  12 non-null     object \n",
      " 1   country   12 non-null     object \n",
      " 2   age       12 non-null     int64  \n",
      " 3   ezlvl     12 non-null     int64  \n",
      " 4   time      12 non-null     float64\n",
      " 5   points    12 non-null     int64  \n",
      " 6   finished  12 non-null     int64  \n",
      "dtypes: float64(1), int64(4), object(2)\n",
      "memory usage: 2.0 KB\n"
     ]
    }
   ],
   "source": [
    "players.info(memory_usage=\"deep\")"
   ]
  },
  {
   "cell_type": "code",
   "execution_count": 32,
   "id": "3969e827-6568-435e-9688-0b1828b6348c",
   "metadata": {},
   "outputs": [],
   "source": [
    "# players.axes\n",
    "# players.memory_usage()\n",
    "# players.values"
   ]
  },
  {
   "cell_type": "code",
   "execution_count": null,
   "id": "c761920a-ef2b-4103-9688-394046c6ed8b",
   "metadata": {},
   "outputs": [],
   "source": []
  },
  {
   "cell_type": "code",
   "execution_count": null,
   "id": "ca6eb058-6b92-43fa-8b1b-3175729a971b",
   "metadata": {},
   "outputs": [],
   "source": []
  },
  {
   "cell_type": "markdown",
   "id": "5182aa71-d792-449b-b73b-5e8e563e162c",
   "metadata": {},
   "source": [
    "### Accessing values in a DataFrame"
   ]
  },
  {
   "cell_type": "markdown",
   "id": "dd961bf9-0df9-450b-afd9-f4f81dacfe65",
   "metadata": {},
   "source": [
    "#### Selecting individual values"
   ]
  },
  {
   "cell_type": "code",
   "execution_count": 33,
   "id": "79ea4191-d863-4f47-a44e-ff50d37d9152",
   "metadata": {},
   "outputs": [
    {
     "data": {
      "text/plain": [
       "1321"
      ]
     },
     "execution_count": 33,
     "metadata": {},
     "output_type": "execute_result"
    }
   ],
   "source": [
    "# Emil's points\n",
    "players.loc[2,\"points\"]"
   ]
  },
  {
   "cell_type": "code",
   "execution_count": null,
   "id": "d6f566f7-c59b-4cb1-8724-759facda4ed3",
   "metadata": {},
   "outputs": [],
   "source": []
  },
  {
   "cell_type": "markdown",
   "id": "5317dead-58ce-4bd1-a23e-032ad2dc0544",
   "metadata": {},
   "source": [
    "#### Selecting entire rows"
   ]
  },
  {
   "cell_type": "code",
   "execution_count": 34,
   "id": "d169e387-d129-45d7-947e-f5062d4cffff",
   "metadata": {},
   "outputs": [
    {
     "data": {
      "text/plain": [
       "username    sanjay\n",
       "country         ca\n",
       "age             27\n",
       "ezlvl            1\n",
       "time         350.0\n",
       "points        1401\n",
       "finished         1\n",
       "Name: 6, dtype: object"
      ]
     },
     "execution_count": 34,
     "metadata": {},
     "output_type": "execute_result"
    }
   ],
   "source": [
    "# Sanjay's data\n",
    "row6 = players.loc[6,:]  # == players.loc[6]\n",
    "row6"
   ]
  },
  {
   "cell_type": "code",
   "execution_count": 35,
   "id": "96c99ba6-e177-43dc-97d6-7ea17a2e8667",
   "metadata": {},
   "outputs": [
    {
     "data": {
      "text/plain": [
       "pandas.core.series.Series"
      ]
     },
     "execution_count": 35,
     "metadata": {},
     "output_type": "execute_result"
    }
   ],
   "source": [
    "# Rows of the dataframe are Series objects\n",
    "type(row6)"
   ]
  },
  {
   "cell_type": "markdown",
   "id": "961785b7-1e00-4e47-a774-217897e6a8bc",
   "metadata": {},
   "source": [
    "The `index` of the series `row6` is the same as the columns index of the data frame `players`."
   ]
  },
  {
   "cell_type": "code",
   "execution_count": 36,
   "id": "cef7923f-7a65-49b8-b4ce-7ace5592e1a0",
   "metadata": {},
   "outputs": [
    {
     "data": {
      "text/plain": [
       "Index(['username', 'country', 'age', 'ezlvl', 'time', 'points', 'finished'], dtype='object')"
      ]
     },
     "execution_count": 36,
     "metadata": {},
     "output_type": "execute_result"
    }
   ],
   "source": [
    "row6.index"
   ]
  },
  {
   "cell_type": "markdown",
   "id": "ea1970b5-afab-472f-b3c6-fb15cd0268af",
   "metadata": {},
   "source": [
    "To access individual values, use the square bracket notation."
   ]
  },
  {
   "cell_type": "code",
   "execution_count": 37,
   "id": "b077de35-983d-4c8d-92c6-c6593e05b001",
   "metadata": {},
   "outputs": [
    {
     "data": {
      "text/plain": [
       "27"
      ]
     },
     "execution_count": 37,
     "metadata": {},
     "output_type": "execute_result"
    }
   ],
   "source": [
    "row6[\"age\"]"
   ]
  },
  {
   "cell_type": "code",
   "execution_count": null,
   "id": "9641ddd9-0b2c-43e7-afef-c8ee41504439",
   "metadata": {},
   "outputs": [],
   "source": []
  },
  {
   "cell_type": "markdown",
   "id": "4572689e-f470-4686-9cca-75c4ca9ef048",
   "metadata": {},
   "source": [
    "#### Selecting entire columns"
   ]
  },
  {
   "cell_type": "code",
   "execution_count": 38,
   "id": "dce25ae2-06da-4841-bc11-2747855ebe71",
   "metadata": {},
   "outputs": [
    {
     "data": {
      "text/plain": [
       "0     38\n",
       "1     21\n",
       "2     52\n",
       "3     50\n",
       "4     26\n",
       "5     45\n",
       "6     27\n",
       "7     23\n",
       "8     24\n",
       "9     59\n",
       "10    18\n",
       "11    22\n",
       "Name: age, dtype: int64"
      ]
     },
     "execution_count": 38,
     "metadata": {},
     "output_type": "execute_result"
    }
   ],
   "source": [
    "ages = players[\"age\"]\n",
    "ages"
   ]
  },
  {
   "cell_type": "code",
   "execution_count": 39,
   "id": "99f9aa2f-7b0e-4b2a-881b-a68fa5e5f1c6",
   "metadata": {},
   "outputs": [
    {
     "data": {
      "text/plain": [
       "pandas.core.series.Series"
      ]
     },
     "execution_count": 39,
     "metadata": {},
     "output_type": "execute_result"
    }
   ],
   "source": [
    "type(ages)"
   ]
  },
  {
   "cell_type": "code",
   "execution_count": 40,
   "id": "44593e36-724e-47c1-805c-9620ee4d2731",
   "metadata": {},
   "outputs": [
    {
     "data": {
      "text/plain": [
       "RangeIndex(start=0, stop=12, step=1)"
      ]
     },
     "execution_count": 40,
     "metadata": {},
     "output_type": "execute_result"
    }
   ],
   "source": [
    "ages.index"
   ]
  },
  {
   "cell_type": "code",
   "execution_count": 41,
   "id": "43a4a89c-5a89-41ff-8751-5a07cea6c2d8",
   "metadata": {},
   "outputs": [
    {
     "data": {
      "text/plain": [
       "array([38, 21, 52, 50, 26, 45, 27, 23, 24, 59, 18, 22])"
      ]
     },
     "execution_count": 41,
     "metadata": {},
     "output_type": "execute_result"
    }
   ],
   "source": [
    "ages.values"
   ]
  },
  {
   "cell_type": "code",
   "execution_count": 42,
   "id": "481431ff-064d-457c-977c-6a184e1f24e3",
   "metadata": {},
   "outputs": [],
   "source": [
    "# ALT1.\n",
    "# players[\"age\"].equals( players.loc[:,\"age\"] )"
   ]
  },
  {
   "cell_type": "code",
   "execution_count": 43,
   "id": "2bba5e49-0c14-4594-8e49-d83e8dda0900",
   "metadata": {},
   "outputs": [],
   "source": [
    "# ALT2.\n",
    "# players[\"age\"].equals( players.age )"
   ]
  },
  {
   "cell_type": "code",
   "execution_count": 44,
   "id": "0f6abff9-cb72-4115-a5fd-f24b51475b8e",
   "metadata": {},
   "outputs": [
    {
     "data": {
      "text/plain": [
       "27"
      ]
     },
     "execution_count": 44,
     "metadata": {},
     "output_type": "execute_result"
    }
   ],
   "source": [
    "ages[6]"
   ]
  },
  {
   "cell_type": "code",
   "execution_count": 45,
   "id": "dcbfcc05-209b-44f6-a4b5-cbee814d6b22",
   "metadata": {},
   "outputs": [
    {
     "data": {
      "text/html": [
       "<div>\n",
       "<style scoped>\n",
       "    .dataframe tbody tr th:only-of-type {\n",
       "        vertical-align: middle;\n",
       "    }\n",
       "\n",
       "    .dataframe tbody tr th {\n",
       "        vertical-align: top;\n",
       "    }\n",
       "\n",
       "    .dataframe thead th {\n",
       "        text-align: right;\n",
       "    }\n",
       "</style>\n",
       "<table border=\"1\" class=\"dataframe\">\n",
       "  <thead>\n",
       "    <tr style=\"text-align: right;\">\n",
       "      <th></th>\n",
       "      <th>username</th>\n",
       "      <th>country</th>\n",
       "    </tr>\n",
       "  </thead>\n",
       "  <tbody>\n",
       "    <tr>\n",
       "      <th>0</th>\n",
       "      <td>mary</td>\n",
       "      <td>us</td>\n",
       "    </tr>\n",
       "    <tr>\n",
       "      <th>1</th>\n",
       "      <td>jane</td>\n",
       "      <td>ca</td>\n",
       "    </tr>\n",
       "    <tr>\n",
       "      <th>2</th>\n",
       "      <td>emil</td>\n",
       "      <td>fr</td>\n",
       "    </tr>\n",
       "    <tr>\n",
       "      <th>3</th>\n",
       "      <td>ivan</td>\n",
       "      <td>ca</td>\n",
       "    </tr>\n",
       "    <tr>\n",
       "      <th>4</th>\n",
       "      <td>hasan</td>\n",
       "      <td>tr</td>\n",
       "    </tr>\n",
       "    <tr>\n",
       "      <th>5</th>\n",
       "      <td>jordan</td>\n",
       "      <td>us</td>\n",
       "    </tr>\n",
       "    <tr>\n",
       "      <th>6</th>\n",
       "      <td>sanjay</td>\n",
       "      <td>ca</td>\n",
       "    </tr>\n",
       "    <tr>\n",
       "      <th>7</th>\n",
       "      <td>lena</td>\n",
       "      <td>uk</td>\n",
       "    </tr>\n",
       "    <tr>\n",
       "      <th>8</th>\n",
       "      <td>shuo</td>\n",
       "      <td>cn</td>\n",
       "    </tr>\n",
       "    <tr>\n",
       "      <th>9</th>\n",
       "      <td>r0byn</td>\n",
       "      <td>us</td>\n",
       "    </tr>\n",
       "    <tr>\n",
       "      <th>10</th>\n",
       "      <td>anna</td>\n",
       "      <td>pl</td>\n",
       "    </tr>\n",
       "    <tr>\n",
       "      <th>11</th>\n",
       "      <td>joro</td>\n",
       "      <td>bg</td>\n",
       "    </tr>\n",
       "  </tbody>\n",
       "</table>\n",
       "</div>"
      ],
      "text/plain": [
       "   username country\n",
       "0      mary      us\n",
       "1      jane      ca\n",
       "2      emil      fr\n",
       "3      ivan      ca\n",
       "4     hasan      tr\n",
       "5    jordan      us\n",
       "6    sanjay      ca\n",
       "7      lena      uk\n",
       "8      shuo      cn\n",
       "9     r0byn      us\n",
       "10     anna      pl\n",
       "11     joro      bg"
      ]
     },
     "execution_count": 45,
     "metadata": {},
     "output_type": "execute_result"
    }
   ],
   "source": [
    "players[[\"username\", \"country\"]]"
   ]
  },
  {
   "cell_type": "code",
   "execution_count": null,
   "id": "46d734fc-d321-4065-ac3c-8867a019beea",
   "metadata": {},
   "outputs": [],
   "source": []
  },
  {
   "cell_type": "code",
   "execution_count": null,
   "id": "518d8081-9fef-40bc-ab19-c291539d0d84",
   "metadata": {},
   "outputs": [],
   "source": []
  },
  {
   "cell_type": "markdown",
   "id": "31855657-5fb3-4e39-a1a7-aa882c34c8b3",
   "metadata": {},
   "source": [
    "#### Selecting only certain rows\n"
   ]
  },
  {
   "cell_type": "markdown",
   "id": "db2c7071-0833-4ca3-bd90-24ff2d7c3000",
   "metadata": {},
   "source": [
    "To select only rows where `ezlvl` is `1`, we first build the boolean selection mask..."
   ]
  },
  {
   "cell_type": "code",
   "execution_count": 46,
   "id": "b98b49ca-ebc0-4e3f-808c-013d24ed94be",
   "metadata": {},
   "outputs": [
    {
     "data": {
      "text/plain": [
       "0     False\n",
       "1     False\n",
       "2      True\n",
       "3      True\n",
       "4      True\n",
       "5     False\n",
       "6      True\n",
       "7     False\n",
       "8      True\n",
       "9     False\n",
       "10    False\n",
       "11     True\n",
       "Name: ezlvl, dtype: bool"
      ]
     },
     "execution_count": 46,
     "metadata": {},
     "output_type": "execute_result"
    }
   ],
   "source": [
    "mask = players[\"ezlvl\"] == 1\n",
    "mask"
   ]
  },
  {
   "cell_type": "markdown",
   "id": "1ac1a6a6-6e24-4259-9cc4-7ff8598eb1f7",
   "metadata": {},
   "source": [
    "... then select the rows using the mask."
   ]
  },
  {
   "cell_type": "code",
   "execution_count": 47,
   "id": "f19c7d93-008c-40e2-ad37-31f4d76ae881",
   "metadata": {},
   "outputs": [
    {
     "name": "stdout",
     "output_type": "stream",
     "text": [
      "   username country  age  ezlvl    time  points  finished\n",
      "2      emil      fr   52      1  324.61    1321         1\n",
      "3      ivan      ca   50      1   39.51     226         0\n",
      "4     hasan      tr   26      1  253.19     815         0\n",
      "6    sanjay      ca   27      1  350.00    1401         1\n",
      "8      shuo      cn   24      1  194.77    1043         0\n",
      "11     joro      bg   22      1  381.97    1491         1\n"
     ]
    }
   ],
   "source": [
    "print(players[mask])"
   ]
  },
  {
   "cell_type": "markdown",
   "id": "4524e589-9513-4cee-b187-29729698aeca",
   "metadata": {},
   "source": [
    "The above two step process can be combined into a more compact expression:"
   ]
  },
  {
   "cell_type": "code",
   "execution_count": 48,
   "id": "31504f1d-4b9b-48b3-be84-96afe36b9db6",
   "metadata": {},
   "outputs": [
    {
     "data": {
      "text/html": [
       "<div>\n",
       "<style scoped>\n",
       "    .dataframe tbody tr th:only-of-type {\n",
       "        vertical-align: middle;\n",
       "    }\n",
       "\n",
       "    .dataframe tbody tr th {\n",
       "        vertical-align: top;\n",
       "    }\n",
       "\n",
       "    .dataframe thead th {\n",
       "        text-align: right;\n",
       "    }\n",
       "</style>\n",
       "<table border=\"1\" class=\"dataframe\">\n",
       "  <thead>\n",
       "    <tr style=\"text-align: right;\">\n",
       "      <th></th>\n",
       "      <th>username</th>\n",
       "      <th>country</th>\n",
       "      <th>age</th>\n",
       "      <th>ezlvl</th>\n",
       "      <th>time</th>\n",
       "      <th>points</th>\n",
       "      <th>finished</th>\n",
       "    </tr>\n",
       "  </thead>\n",
       "  <tbody>\n",
       "    <tr>\n",
       "      <th>2</th>\n",
       "      <td>emil</td>\n",
       "      <td>fr</td>\n",
       "      <td>52</td>\n",
       "      <td>1</td>\n",
       "      <td>324.61</td>\n",
       "      <td>1321</td>\n",
       "      <td>1</td>\n",
       "    </tr>\n",
       "    <tr>\n",
       "      <th>3</th>\n",
       "      <td>ivan</td>\n",
       "      <td>ca</td>\n",
       "      <td>50</td>\n",
       "      <td>1</td>\n",
       "      <td>39.51</td>\n",
       "      <td>226</td>\n",
       "      <td>0</td>\n",
       "    </tr>\n",
       "    <tr>\n",
       "      <th>4</th>\n",
       "      <td>hasan</td>\n",
       "      <td>tr</td>\n",
       "      <td>26</td>\n",
       "      <td>1</td>\n",
       "      <td>253.19</td>\n",
       "      <td>815</td>\n",
       "      <td>0</td>\n",
       "    </tr>\n",
       "    <tr>\n",
       "      <th>6</th>\n",
       "      <td>sanjay</td>\n",
       "      <td>ca</td>\n",
       "      <td>27</td>\n",
       "      <td>1</td>\n",
       "      <td>350.00</td>\n",
       "      <td>1401</td>\n",
       "      <td>1</td>\n",
       "    </tr>\n",
       "    <tr>\n",
       "      <th>8</th>\n",
       "      <td>shuo</td>\n",
       "      <td>cn</td>\n",
       "      <td>24</td>\n",
       "      <td>1</td>\n",
       "      <td>194.77</td>\n",
       "      <td>1043</td>\n",
       "      <td>0</td>\n",
       "    </tr>\n",
       "    <tr>\n",
       "      <th>11</th>\n",
       "      <td>joro</td>\n",
       "      <td>bg</td>\n",
       "      <td>22</td>\n",
       "      <td>1</td>\n",
       "      <td>381.97</td>\n",
       "      <td>1491</td>\n",
       "      <td>1</td>\n",
       "    </tr>\n",
       "  </tbody>\n",
       "</table>\n",
       "</div>"
      ],
      "text/plain": [
       "   username country  age  ezlvl    time  points  finished\n",
       "2      emil      fr   52      1  324.61    1321         1\n",
       "3      ivan      ca   50      1   39.51     226         0\n",
       "4     hasan      tr   26      1  253.19     815         0\n",
       "6    sanjay      ca   27      1  350.00    1401         1\n",
       "8      shuo      cn   24      1  194.77    1043         0\n",
       "11     joro      bg   22      1  381.97    1491         1"
      ]
     },
     "execution_count": 48,
     "metadata": {},
     "output_type": "execute_result"
    }
   ],
   "source": [
    "players[players[\"ezlvl\"]==1]"
   ]
  },
  {
   "cell_type": "code",
   "execution_count": 49,
   "id": "aad81bf1-1bc9-4821-bcd3-35c8b1efd169",
   "metadata": {},
   "outputs": [],
   "source": [
    "# BONUS. mask for selecting players with ezlvl=1 and time greater than 200 mins\n",
    "# players[(players[\"ezlvl\"] == 1) & (players[\"time\"] >= 200)]"
   ]
  },
  {
   "cell_type": "code",
   "execution_count": 50,
   "id": "809b90ce-e143-42cd-9360-006951f40bf6",
   "metadata": {},
   "outputs": [],
   "source": [
    "# BONUS. mask for selecting USA and Canada players\n",
    "# players[\"country\"].isin([\"us\",\"ca\"])"
   ]
  },
  {
   "cell_type": "code",
   "execution_count": null,
   "id": "3fa6077e-5f97-4d08-9fb2-1135ec1582cf",
   "metadata": {},
   "outputs": [],
   "source": []
  },
  {
   "cell_type": "markdown",
   "id": "fe1ff109-3b69-4388-82a1-6a4fd8d89d53",
   "metadata": {},
   "source": [
    "#### Selecting subsets of the data frame\n",
    "\n",
    "We rarely need to do this,\n",
    "but for the purpose of illustration of the `loc` syntax,\n",
    "here is the code for selecting the `time` and `points` columns\n",
    "from the last three rows of the `players` data frame."
   ]
  },
  {
   "cell_type": "code",
   "execution_count": 51,
   "id": "9b5d040b-b8e9-4973-bc18-52b866c9ebac",
   "metadata": {},
   "outputs": [
    {
     "data": {
      "text/html": [
       "<div>\n",
       "<style scoped>\n",
       "    .dataframe tbody tr th:only-of-type {\n",
       "        vertical-align: middle;\n",
       "    }\n",
       "\n",
       "    .dataframe tbody tr th {\n",
       "        vertical-align: top;\n",
       "    }\n",
       "\n",
       "    .dataframe thead th {\n",
       "        text-align: right;\n",
       "    }\n",
       "</style>\n",
       "<table border=\"1\" class=\"dataframe\">\n",
       "  <thead>\n",
       "    <tr style=\"text-align: right;\">\n",
       "      <th></th>\n",
       "      <th>time</th>\n",
       "      <th>points</th>\n",
       "    </tr>\n",
       "  </thead>\n",
       "  <tbody>\n",
       "    <tr>\n",
       "      <th>9</th>\n",
       "      <td>255.55</td>\n",
       "      <td>1102</td>\n",
       "    </tr>\n",
       "    <tr>\n",
       "      <th>10</th>\n",
       "      <td>303.66</td>\n",
       "      <td>1209</td>\n",
       "    </tr>\n",
       "    <tr>\n",
       "      <th>11</th>\n",
       "      <td>381.97</td>\n",
       "      <td>1491</td>\n",
       "    </tr>\n",
       "  </tbody>\n",
       "</table>\n",
       "</div>"
      ],
      "text/plain": [
       "      time  points\n",
       "9   255.55    1102\n",
       "10  303.66    1209\n",
       "11  381.97    1491"
      ]
     },
     "execution_count": 51,
     "metadata": {},
     "output_type": "execute_result"
    }
   ],
   "source": [
    "players.loc[9:12, [\"time\",\"points\"]]"
   ]
  },
  {
   "cell_type": "code",
   "execution_count": null,
   "id": "82ac2b46-1a73-4ce6-93fc-93ae1586dbb5",
   "metadata": {},
   "outputs": [],
   "source": []
  },
  {
   "cell_type": "markdown",
   "id": "4ec6c4f7-0646-4212-85ac-5a8444efd685",
   "metadata": {},
   "source": [
    "### Grouping and aggregation"
   ]
  },
  {
   "cell_type": "code",
   "execution_count": 52,
   "id": "94015891-f5fb-45ee-a02b-6e841e724c17",
   "metadata": {},
   "outputs": [
    {
     "data": {
      "text/plain": [
       "<pandas.core.groupby.generic.DataFrameGroupBy object at 0x125335310>"
      ]
     },
     "execution_count": 52,
     "metadata": {},
     "output_type": "execute_result"
    }
   ],
   "source": [
    "players.groupby(\"ezlvl\")"
   ]
  },
  {
   "cell_type": "code",
   "execution_count": 53,
   "id": "00257f13-925d-43ff-8fe6-bc8423c6571f",
   "metadata": {},
   "outputs": [
    {
     "data": {
      "text/plain": [
       "<pandas.core.groupby.generic.SeriesGroupBy object at 0x125335fd0>"
      ]
     },
     "execution_count": 53,
     "metadata": {},
     "output_type": "execute_result"
    }
   ],
   "source": [
    "players.groupby(\"ezlvl\")[\"time\"]"
   ]
  },
  {
   "cell_type": "code",
   "execution_count": 54,
   "id": "bf8a68ae-f527-4091-863c-041ecb70a36c",
   "metadata": {},
   "outputs": [
    {
     "data": {
      "text/plain": [
       "ezlvl\n",
       "0    242.173333\n",
       "1    257.341667\n",
       "Name: time, dtype: float64"
      ]
     },
     "execution_count": 54,
     "metadata": {},
     "output_type": "execute_result"
    }
   ],
   "source": [
    "players.groupby(\"ezlvl\")[\"time\"].mean()"
   ]
  },
  {
   "cell_type": "code",
   "execution_count": 55,
   "id": "de1bcd81-0508-42e2-a56d-0f767e123e35",
   "metadata": {},
   "outputs": [
    {
     "name": "stdout",
     "output_type": "stream",
     "text": [
      "           sum        mean\n",
      "ezlvl                     \n",
      "0      1453.04  242.173333\n",
      "1      1544.05  257.341667\n"
     ]
    }
   ],
   "source": [
    "print(players.groupby(\"ezlvl\")[\"time\"].aggregate([\"sum\", \"mean\"]))"
   ]
  },
  {
   "cell_type": "code",
   "execution_count": 56,
   "id": "96370afc-e2b8-41c7-b536-526bac1cc06c",
   "metadata": {},
   "outputs": [
    {
     "data": {
      "text/html": [
       "<div>\n",
       "<style scoped>\n",
       "    .dataframe tbody tr th:only-of-type {\n",
       "        vertical-align: middle;\n",
       "    }\n",
       "\n",
       "    .dataframe tbody tr th {\n",
       "        vertical-align: top;\n",
       "    }\n",
       "\n",
       "    .dataframe thead th {\n",
       "        text-align: right;\n",
       "    }\n",
       "</style>\n",
       "<table border=\"1\" class=\"dataframe\">\n",
       "  <thead>\n",
       "    <tr style=\"text-align: right;\">\n",
       "      <th></th>\n",
       "      <th>sum</th>\n",
       "      <th>mean</th>\n",
       "    </tr>\n",
       "    <tr>\n",
       "      <th>ezlvl</th>\n",
       "      <th></th>\n",
       "      <th></th>\n",
       "    </tr>\n",
       "  </thead>\n",
       "  <tbody>\n",
       "    <tr>\n",
       "      <th>0</th>\n",
       "      <td>1453.04</td>\n",
       "      <td>242.173333</td>\n",
       "    </tr>\n",
       "    <tr>\n",
       "      <th>1</th>\n",
       "      <td>1544.05</td>\n",
       "      <td>257.341667</td>\n",
       "    </tr>\n",
       "  </tbody>\n",
       "</table>\n",
       "</div>"
      ],
      "text/plain": [
       "           sum        mean\n",
       "ezlvl                     \n",
       "0      1453.04  242.173333\n",
       "1      1544.05  257.341667"
      ]
     },
     "execution_count": 56,
     "metadata": {},
     "output_type": "execute_result"
    }
   ],
   "source": [
    "players.groupby(\"ezlvl\")[\"time\"] \\\n",
    "  .agg([\"sum\", \"mean\"])"
   ]
  },
  {
   "cell_type": "code",
   "execution_count": 57,
   "id": "7ba12420-1e8a-47d7-93b0-5425bb65100d",
   "metadata": {},
   "outputs": [
    {
     "data": {
      "text/html": [
       "<div>\n",
       "<style scoped>\n",
       "    .dataframe tbody tr th:only-of-type {\n",
       "        vertical-align: middle;\n",
       "    }\n",
       "\n",
       "    .dataframe tbody tr th {\n",
       "        vertical-align: top;\n",
       "    }\n",
       "\n",
       "    .dataframe thead th {\n",
       "        text-align: right;\n",
       "    }\n",
       "</style>\n",
       "<table border=\"1\" class=\"dataframe\">\n",
       "  <thead>\n",
       "    <tr style=\"text-align: right;\">\n",
       "      <th></th>\n",
       "      <th>sum</th>\n",
       "      <th>mean</th>\n",
       "      <th>max</th>\n",
       "    </tr>\n",
       "    <tr>\n",
       "      <th>ezlvl</th>\n",
       "      <th></th>\n",
       "      <th></th>\n",
       "      <th></th>\n",
       "    </tr>\n",
       "  </thead>\n",
       "  <tbody>\n",
       "    <tr>\n",
       "      <th>0</th>\n",
       "      <td>1453.04</td>\n",
       "      <td>242.173333</td>\n",
       "      <td>408.76</td>\n",
       "    </tr>\n",
       "    <tr>\n",
       "      <th>1</th>\n",
       "      <td>1544.05</td>\n",
       "      <td>257.341667</td>\n",
       "      <td>381.97</td>\n",
       "    </tr>\n",
       "  </tbody>\n",
       "</table>\n",
       "</div>"
      ],
      "text/plain": [
       "           sum        mean     max\n",
       "ezlvl                             \n",
       "0      1453.04  242.173333  408.76\n",
       "1      1544.05  257.341667  381.97"
      ]
     },
     "execution_count": 57,
     "metadata": {},
     "output_type": "execute_result"
    }
   ],
   "source": [
    "(players\n",
    "  .groupby(\"ezlvl\")[\"time\"]\n",
    "  .agg([\"sum\", \"mean\", \"max\"])\n",
    ")"
   ]
  },
  {
   "cell_type": "code",
   "execution_count": null,
   "id": "283b9332-17c9-4049-88ca-2992e81579b1",
   "metadata": {},
   "outputs": [],
   "source": []
  },
  {
   "cell_type": "code",
   "execution_count": null,
   "id": "cf70e9b0-318b-473c-abfe-131ee06be87c",
   "metadata": {},
   "outputs": [],
   "source": []
  },
  {
   "cell_type": "markdown",
   "id": "699a6b63-e0b2-4b4a-9a4e-6761ac3e6274",
   "metadata": {},
   "source": [
    "## Data visualization with Seaborn"
   ]
  },
  {
   "cell_type": "code",
   "execution_count": 76,
   "id": "aea8478f-28f7-4cab-acf6-5becf8f0c64b",
   "metadata": {},
   "outputs": [
    {
     "data": {
      "text/plain": [
       "<Axes: xlabel='time'>"
      ]
     },
     "execution_count": 76,
     "metadata": {},
     "output_type": "execute_result"
    },
    {
     "data": {
      "image/png": "[encoded data removed]",
      "text/plain": [
       "<Figure size 640x480 with 1 Axes>"
      ]
     },
     "metadata": {},
     "output_type": "display_data"
    }
   ],
   "source": [
    "sns.stripplot(x=\"time\", hue=\"ezlvl\", jitter=0.01, data=players)"
   ]
  },
  {
   "cell_type": "code",
   "execution_count": 77,
   "id": "d640d921-c4b0-426c-a3d0-2665f46f15df",
   "metadata": {},
   "outputs": [],
   "source": [
    "# sns.scatterplot(x=\"time\", y=\"points\", data=players)\n",
    "# sns.lineplot(x=\"time\", y=\"points\", data=players)"
   ]
  },
  {
   "cell_type": "code",
   "execution_count": 69,
   "id": "2bdd0f15-565e-47a7-8ce1-a5deae2f1e69",
   "metadata": {},
   "outputs": [
    {
     "data": {
      "text/plain": [
       "<Axes: xlabel='time', ylabel='ezlvl'>"
      ]
     },
     "execution_count": 69,
     "metadata": {},
     "output_type": "execute_result"
    },
    {
     "data": {
      "image/png": "[encoded data removed]",
      "text/plain": [
       "<Figure size 640x480 with 1 Axes>"
      ]
     },
     "metadata": {},
     "output_type": "display_data"
    }
   ],
   "source": [
    "import seaborn as sns\n",
    "# sns.scatterplot(x=\"ezlvl\", y=\"time\", hue=\"ezlvl\", data=players)\n",
    "sns.stripplot(y=\"ezlvl\", x=\"time\", hue=\"ezlvl\", data=players)"
   ]
  },
  {
   "cell_type": "markdown",
   "id": "91af2922-b524-4900-8a2a-b268451913cc",
   "metadata": {},
   "source": [
    "### Studying the effect of `ezlvl` on `time`\n",
    "\n",
    "We want to study the relation `time ~ ezlvl`,\n",
    "which will tell us whether the \"easy level\" version of the game\n",
    "leads to improvements in user retention."
   ]
  },
  {
   "cell_type": "code",
   "execution_count": 59,
   "id": "b48dd010-c3ca-456a-a4d2-a16e2ae3dd7f",
   "metadata": {},
   "outputs": [
    {
     "data": {
      "text/plain": [
       "<seaborn.axisgrid.FacetGrid at 0x125335340>"
      ]
     },
     "execution_count": 59,
     "metadata": {},
     "output_type": "execute_result"
    },
    {
     "data": {
      "image/png": "[encoded data removed]",
      "text/plain": [
       "<Figure size 500x500 with 1 Axes>"
      ]
     },
     "metadata": {},
     "output_type": "display_data"
    }
   ],
   "source": [
    "import seaborn as sns\n",
    "sns.lmplot(x=\"ezlvl\", y=\"time\", data=players)"
   ]
  },
  {
   "cell_type": "markdown",
   "id": "e7e01c96-885b-4325-8fad-6ea3fd668c2e",
   "metadata": {},
   "source": [
    "### Use case 2\n",
    "In Sec 1.1 use `time ~ age` to look for correlation between age and engagement."
   ]
  },
  {
   "cell_type": "code",
   "execution_count": 60,
   "id": "27358723-2590-41cb-bc3c-f02372f2aa6f",
   "metadata": {},
   "outputs": [
    {
     "data": {
      "text/plain": [
       "<seaborn.axisgrid.FacetGrid at 0x133cd81c0>"
      ]
     },
     "execution_count": 60,
     "metadata": {},
     "output_type": "execute_result"
    },
    {
     "data": {
      "image/png": "[encoded data removed]",
      "text/plain": [
       "<Figure size 500x500 with 1 Axes>"
      ]
     },
     "metadata": {},
     "output_type": "display_data"
    }
   ],
   "source": [
    "sns.lmplot(x=\"age\", y=\"time\", data=players)"
   ]
  },
  {
   "cell_type": "markdown",
   "id": "3b2f4e79-1f49-4fd5-aedf-98bbadc60823",
   "metadata": {},
   "source": [
    "#### Use case 3\t\n",
    "\n",
    "In Sec 1.1\t`jobstatus` (non-existent)\texplain possible confounding of `time~age` correlation by confounder var. \"employed\" no time to play game vs. \"unemployed\" has time to play game, with young ppl being more likely to be unemployed"
   ]
  },
  {
   "cell_type": "code",
   "execution_count": 61,
   "id": "4176ddf8-1975-48fc-b3c9-53c6a5ea933d",
   "metadata": {},
   "outputs": [
    {
     "data": {
      "text/plain": [
       "<seaborn.axisgrid.FacetGrid at 0x133bccac0>"
      ]
     },
     "execution_count": 61,
     "metadata": {},
     "output_type": "execute_result"
    },
    {
     "data": {
      "image/png": "[encoded data removed]",
      "text/plain": [
       "<Figure size 575.111x500 with 1 Axes>"
      ]
     },
     "metadata": {},
     "output_type": "display_data"
    }
   ],
   "source": [
    "players_full = pd.read_csv(\"../datasets/players_full.csv\")\n",
    "\n",
    "sns.lmplot(x=\"age\", y=\"time\", hue=\"jobstatus\", data=players_full)"
   ]
  },
  {
   "cell_type": "code",
   "execution_count": null,
   "id": "54749d20-f7fb-4c8e-a87c-38bb1d0b4feb",
   "metadata": {},
   "outputs": [],
   "source": []
  },
  {
   "cell_type": "markdown",
   "id": "a2b7d979-753f-4a23-944b-f6a429a3a7ea",
   "metadata": {},
   "source": [
    "## Datasets for the book"
   ]
  },
  {
   "cell_type": "markdown",
   "id": "fe3f7199-9338-4967-aa51-8f0f14a0806c",
   "metadata": {},
   "source": [
    "### Website visitors conversion rates"
   ]
  },
  {
   "cell_type": "code",
   "execution_count": null,
   "id": "c612ded3-5060-4afc-aefd-90182e6ddb65",
   "metadata": {},
   "outputs": [],
   "source": []
  },
  {
   "cell_type": "markdown",
   "id": "4386be8e-e22f-4e27-be40-e5cc902f1935",
   "metadata": {},
   "source": [
    "### Electricity prices"
   ]
  },
  {
   "cell_type": "code",
   "execution_count": null,
   "id": "466ea4d3-4365-474e-9dee-1c2f54fe0e7e",
   "metadata": {},
   "outputs": [],
   "source": []
  },
  {
   "cell_type": "markdown",
   "id": "ff918bdd-6d7c-441b-be6c-61292bd60d2a",
   "metadata": {},
   "source": [
    "### Students effort and scores"
   ]
  },
  {
   "cell_type": "code",
   "execution_count": 62,
   "id": "a26fabaf-7de5-4e5b-a0a4-d03249f81bab",
   "metadata": {},
   "outputs": [],
   "source": [
    "students = pd.read_csv(\"../datasets/students.csv\")"
   ]
  },
  {
   "cell_type": "code",
   "execution_count": 63,
   "id": "7b89c5c2-bfe6-4533-9520-fff92fb7997f",
   "metadata": {},
   "outputs": [
    {
     "data": {
      "text/html": [
       "<div>\n",
       "<style scoped>\n",
       "    .dataframe tbody tr th:only-of-type {\n",
       "        vertical-align: middle;\n",
       "    }\n",
       "\n",
       "    .dataframe tbody tr th {\n",
       "        vertical-align: top;\n",
       "    }\n",
       "\n",
       "    .dataframe thead th {\n",
       "        text-align: right;\n",
       "    }\n",
       "</style>\n",
       "<table border=\"1\" class=\"dataframe\">\n",
       "  <thead>\n",
       "    <tr style=\"text-align: right;\">\n",
       "      <th></th>\n",
       "      <th>student_ID</th>\n",
       "      <th>background</th>\n",
       "      <th>curriculum</th>\n",
       "      <th>effort</th>\n",
       "      <th>score</th>\n",
       "    </tr>\n",
       "  </thead>\n",
       "  <tbody>\n",
       "    <tr>\n",
       "      <th>0</th>\n",
       "      <td>1</td>\n",
       "      <td>arts</td>\n",
       "      <td>debate</td>\n",
       "      <td>10.96</td>\n",
       "      <td>75.0</td>\n",
       "    </tr>\n",
       "    <tr>\n",
       "      <th>1</th>\n",
       "      <td>2</td>\n",
       "      <td>science</td>\n",
       "      <td>lecture</td>\n",
       "      <td>8.69</td>\n",
       "      <td>75.0</td>\n",
       "    </tr>\n",
       "    <tr>\n",
       "      <th>2</th>\n",
       "      <td>3</td>\n",
       "      <td>arts</td>\n",
       "      <td>debate</td>\n",
       "      <td>8.60</td>\n",
       "      <td>67.0</td>\n",
       "    </tr>\n",
       "    <tr>\n",
       "      <th>3</th>\n",
       "      <td>4</td>\n",
       "      <td>arts</td>\n",
       "      <td>lecture</td>\n",
       "      <td>7.92</td>\n",
       "      <td>70.3</td>\n",
       "    </tr>\n",
       "    <tr>\n",
       "      <th>4</th>\n",
       "      <td>5</td>\n",
       "      <td>science</td>\n",
       "      <td>debate</td>\n",
       "      <td>9.90</td>\n",
       "      <td>76.1</td>\n",
       "    </tr>\n",
       "  </tbody>\n",
       "</table>\n",
       "</div>"
      ],
      "text/plain": [
       "   student_ID background curriculum  effort  score\n",
       "0           1       arts     debate   10.96   75.0\n",
       "1           2    science    lecture    8.69   75.0\n",
       "2           3       arts     debate    8.60   67.0\n",
       "3           4       arts    lecture    7.92   70.3\n",
       "4           5    science     debate    9.90   76.1"
      ]
     },
     "execution_count": 63,
     "metadata": {},
     "output_type": "execute_result"
    }
   ],
   "source": [
    "students.head()"
   ]
  },
  {
   "cell_type": "code",
   "execution_count": null,
   "id": "15e249ba-39e0-454e-8e7f-44160553d374",
   "metadata": {},
   "outputs": [],
   "source": []
  },
  {
   "cell_type": "markdown",
   "id": "cd7ae9da-7762-4e3a-8876-eae20b443e31",
   "metadata": {},
   "source": [
    "### Apple weights"
   ]
  },
  {
   "cell_type": "code",
   "execution_count": null,
   "id": "e1cecebc-3faf-4115-b970-c1557b15f60c",
   "metadata": {},
   "outputs": [],
   "source": []
  },
  {
   "cell_type": "markdown",
   "id": "df516b87-c900-42f7-a239-d6c7a3d819b7",
   "metadata": {},
   "source": [
    "### Kombucha volumes"
   ]
  },
  {
   "cell_type": "code",
   "execution_count": null,
   "id": "1ddd1d6e-1303-4752-890a-fc060c009bdd",
   "metadata": {},
   "outputs": [],
   "source": []
  },
  {
   "cell_type": "markdown",
   "id": "ef718e0e-3236-4ae2-becb-acc0471ec201",
   "metadata": {},
   "source": [
    "### Doctors' sleep study"
   ]
  },
  {
   "cell_type": "code",
   "execution_count": null,
   "id": "33707e0f-27dc-4ee6-b9d6-6b285841f11c",
   "metadata": {},
   "outputs": [],
   "source": []
  },
  {
   "cell_type": "code",
   "execution_count": null,
   "id": "e3780dcd-21f9-46a7-ba38-2e459cf3b7d5",
   "metadata": {},
   "outputs": [],
   "source": []
  },
  {
   "cell_type": "code",
   "execution_count": null,
   "id": "5a297df3-0e5d-4c41-878d-2f5c0d58e676",
   "metadata": {},
   "outputs": [],
   "source": []
  },
  {
   "cell_type": "markdown",
   "id": "ce9124bc-ece1-499d-95bd-b5c3ec6d5c0a",
   "metadata": {},
   "source": [
    "## Data pre-processing tasks\n",
    "\n",
    "- *Extract* the \"raw\" data from various data source formats\n",
    "  (spreadsheet, databases, files, web servers).\n",
    "- *Transform* the data by reshaping and cleaning it.\n",
    "- *Load* the data into the system used for statistical analysis."
   ]
  },
  {
   "cell_type": "code",
   "execution_count": null,
   "id": "5da55e3f-611b-48db-830b-b0ada182a0a6",
   "metadata": {},
   "outputs": [],
   "source": []
  }
 ],
 "metadata": {
  "kernelspec": {
   "display_name": "Python 3 (ipykernel)",
   "language": "python",
   "name": "python3"
  },
  "language_info": {
   "codemirror_mode": {
    "name": "ipython",
    "version": 3
   },
   "file_extension": ".py",
   "mimetype": "text/x-python",
   "name": "python",
   "nbconvert_exporter": "python",
   "pygments_lexer": "ipython3",
   "version": "3.9.4"
  },
  "toc-autonumbering": false,
  "toc-showcode": false,
  "toc-showmarkdowntxt": false,
  "toc-showtags": false
 },
 "nbformat": 4,
 "nbformat_minor": 5
}
