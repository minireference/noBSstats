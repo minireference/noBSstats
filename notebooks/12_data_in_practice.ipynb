{
 "cells": [
  {
   "cell_type": "markdown",
   "id": "4d2a6d0b-b364-4d30-afee-4eb74a1224f5",
   "metadata": {},
   "source": [
    "# Section 1.2 — Data in practice\n",
    "\n",
    "This notebook contains all the code from [Section 1.2 Data in practice](https://minireference.com/static/excerpts/noBSstats/noBSstats_ch01_DATA.pdf#page=34) of the **No Bullshit Guide to Statistics**."
   ]
  },
  {
   "cell_type": "code",
   "execution_count": 1,
   "id": "3b212e60-9c9a-4c24-8358-47614540e88e",
   "metadata": {},
   "outputs": [
    {
     "data": {
      "text/plain": [
       "5"
      ]
     },
     "execution_count": 1,
     "metadata": {},
     "output_type": "execute_result"
    }
   ],
   "source": [
    "2 + 3"
   ]
  },
  {
   "cell_type": "code",
   "execution_count": null,
   "id": "2a73ea39-5f6d-4b60-afd8-92f0f19cf3e5",
   "metadata": {},
   "outputs": [],
   "source": []
  },
  {
   "cell_type": "markdown",
   "id": "6ad3970a-eeec-4764-b4f1-27ae494d2972",
   "metadata": {
    "tags": []
   },
   "source": [
    "#### Notebook setup"
   ]
  },
  {
   "cell_type": "code",
   "execution_count": 2,
   "id": "25a7756e-295e-4828-adb0-8c739a02dc44",
   "metadata": {},
   "outputs": [],
   "source": [
    "# TODO: only keep this cell in figures notebook\n",
    "# load Python modules\n",
    "import os\n",
    "import numpy as np\n",
    "import pandas as pd\n",
    "import seaborn as sns\n",
    "import matplotlib.pyplot as plt\n",
    "\n",
    "from plot_helpers import savefigure"
   ]
  },
  {
   "cell_type": "code",
   "execution_count": 3,
   "id": "7508fe65-d6f4-4e3a-9576-223175827191",
   "metadata": {},
   "outputs": [
    {
     "data": {
      "text/plain": [
       "<Figure size 640x480 with 0 Axes>"
      ]
     },
     "metadata": {},
     "output_type": "display_data"
    }
   ],
   "source": [
    "# TODO: only keep this cell in figures notebook\n",
    "# Figures setup\n",
    "plt.clf()  # needed otherwise `sns.set_theme` doesn't work\n",
    "from plot_helpers import RCPARAMS\n",
    "# RCPARAMS.update({'figure.figsize': (10, 3)})   # good for screen\n",
    "RCPARAMS.update({'figure.figsize': (5, 1.6)})  # good for print\n",
    "sns.set_theme(\n",
    "    context=\"paper\",\n",
    "    style=\"whitegrid\",\n",
    "    palette=\"colorblind\",\n",
    "    rc=RCPARAMS,\n",
    ")\n",
    "\n",
    "# Useful colors\n",
    "snspal = sns.color_palette()\n",
    "blue, orange, purple = snspal[0], snspal[1], snspal[4]\n",
    "# red = sns.color_palette(\"tab10\")[3]\n",
    "\n",
    "# High-resolution please\n",
    "%config InlineBackend.figure_format = 'retina'\n",
    "\n",
    "# Where to store figures\n",
    "DESTDIR = \"figures/data/practice\""
   ]
  },
  {
   "cell_type": "code",
   "execution_count": null,
   "id": "e864979f-9754-4113-8cf3-aba5a99ad11e",
   "metadata": {},
   "outputs": [],
   "source": []
  },
  {
   "cell_type": "code",
   "execution_count": null,
   "id": "39ec51e8-18bb-4dac-9e34-f9e893637f0d",
   "metadata": {},
   "outputs": [],
   "source": []
  },
  {
   "cell_type": "markdown",
   "id": "0bda7d92-eaef-44b0-a733-57ecf583d8f7",
   "metadata": {},
   "source": [
    "## Getting started with JupyterLab"
   ]
  },
  {
   "cell_type": "markdown",
   "id": "27fd47cf-890d-46f6-9237-844973b1fc19",
   "metadata": {},
   "source": [
    "### Download and install JupyterLab Desktop\n",
    "Follow instructions in the [Python tutorial](./python_tutorial.ipynb) to install JupyterLab Desktop on your computer."
   ]
  },
  {
   "cell_type": "markdown",
   "id": "c679a545-6ab0-4411-8821-58bf77e12113",
   "metadata": {},
   "source": [
    "### Download the `noBSstats` notebooks and datasets\n",
    "\n",
    "TODO: include image from attachments"
   ]
  },
  {
   "cell_type": "markdown",
   "id": "e44f6264-b28c-43cc-be0f-c858a53f5cb7",
   "metadata": {},
   "source": [
    "### Datasets for the book"
   ]
  },
  {
   "cell_type": "code",
   "execution_count": 4,
   "id": "6f4c55ff-cddd-4448-8871-6c113b9f8e02",
   "metadata": {},
   "outputs": [
    {
     "data": {
      "text/plain": [
       "['.DS_Store',\n",
       " 'formats',\n",
       " 'minimal.csv',\n",
       " 'eprices.csv',\n",
       " 'players_full.csv',\n",
       " 'doctors.csv',\n",
       " 'kombucha.csv',\n",
       " 'kombuchapop.csv',\n",
       " 'visitors.csv',\n",
       " 'README.md',\n",
       " 'players.csv',\n",
       " 'index.md',\n",
       " 'exercises',\n",
       " 'epriceswide.csv',\n",
       " 'cut_material',\n",
       " '.ipynb_checkpoints',\n",
       " 'apples.csv',\n",
       " 'raw',\n",
       " 'students.csv']"
      ]
     },
     "execution_count": 4,
     "metadata": {},
     "output_type": "execute_result"
    }
   ],
   "source": [
    "os.listdir(\"../datasets\")"
   ]
  },
  {
   "cell_type": "markdown",
   "id": "56c5ad39-bef9-443c-b1c6-11bbacfb6fa2",
   "metadata": {},
   "source": [
    "### Interactive notebooks for each section"
   ]
  },
  {
   "cell_type": "code",
   "execution_count": 5,
   "id": "b374bd82-589b-4e15-bf58-48146a2ed599",
   "metadata": {},
   "outputs": [
    {
     "data": {
      "text/plain": [
       "['.DS_Store',\n",
       " '.ipynb_checkpoints',\n",
       " '10_DATA.md',\n",
       " '11_intro_to_data.ipynb',\n",
       " '12_data_in_practice.ipynb',\n",
       " '13_descriptive_statistics.ipynb',\n",
       " '20_PROB.md',\n",
       " '21_discrete_random_vars.ipynb',\n",
       " '22_multiple_random_vars.ipynb',\n",
       " '23_inventory_discrete_dists.ipynb',\n",
       " '24_calculus_prerequisites.ipynb',\n",
       " '25_continuous_random_vars.ipynb',\n",
       " '26_inventory_continuous_dists.ipynb',\n",
       " '27_random_var_generation.ipynb',\n",
       " '28_random_samples.ipynb',\n",
       " '30_STATS.md',\n",
       " '31_estimators.ipynb',\n",
       " '32_confidence_intervals.ipynb',\n",
       " '33_intro_to_NHST.ipynb',\n",
       " '34_analytical_approx.ipynb',\n",
       " '35_two_sample_tests.ipynb',\n",
       " '36_design.ipynb',\n",
       " '37_inventory_stats_tests.ipynb',\n",
       " '40_LINEAR_MODELS.md',\n",
       " '41_introduction_to_LMs.ipynb',\n",
       " '50_BAYESIAN_STATS.md',\n",
       " '99_mean_estimation_details.ipynb',\n",
       " '99_proportions_estimators.ipynb',\n",
       " 'OLD34_analytical_approximation.ipynb',\n",
       " 'README.md',\n",
       " '__pycache__',\n",
       " 'attachments',\n",
       " 'cut_material.ipynb',\n",
       " 'drafts',\n",
       " 'explorations',\n",
       " 'figures',\n",
       " 'htmlout',\n",
       " 'index.md',\n",
       " 'one_sample_known_mean_unknown_var.ipynb',\n",
       " 'plot_helpers.py',\n",
       " 'simdata',\n",
       " 'stats_helpers.py',\n",
       " 'test_helpers.py']"
      ]
     },
     "execution_count": 5,
     "metadata": {},
     "output_type": "execute_result"
    }
   ],
   "source": [
    "sorted(os.listdir(\"../notebooks\"))"
   ]
  },
  {
   "cell_type": "markdown",
   "id": "4fba2d89-7c16-4eb4-91fe-2e38bd0077bc",
   "metadata": {},
   "source": [
    "### Exercises notebooks"
   ]
  },
  {
   "cell_type": "code",
   "execution_count": 6,
   "id": "c09dd44b-68e9-4aa0-ab38-1712aa95821c",
   "metadata": {},
   "outputs": [
    {
     "data": {
      "text/plain": [
       "['.ipynb_checkpoints',\n",
       " '__pycache__',\n",
       " 'datasets',\n",
       " 'exercises_12_practical_data.ipynb',\n",
       " 'exercises_13_descr_stats.ipynb',\n",
       " 'exercises_21_discrete_RVs.ipynb',\n",
       " 'exercises_31_estimtors.ipynb',\n",
       " 'exercises_32_confidence_intervals.ipynb',\n",
       " 'exercises_33_intro_to_NHST.ipynb',\n",
       " 'exercises_35_two_sample_tests.ipynb',\n",
       " 'figures',\n",
       " 'plot_helpers.py',\n",
       " 'problems_1_data.ipynb',\n",
       " 'solutions',\n",
       " 'stats_helpers.py']"
      ]
     },
     "execution_count": 6,
     "metadata": {},
     "output_type": "execute_result"
    }
   ],
   "source": [
    "sorted(os.listdir(\"../exercises\"))"
   ]
  },
  {
   "cell_type": "code",
   "execution_count": null,
   "id": "97907ab4-3bd7-4479-a470-ea256197535d",
   "metadata": {},
   "outputs": [],
   "source": []
  },
  {
   "cell_type": "code",
   "execution_count": null,
   "id": "e2da7278-9eaf-4540-8ac7-dede263ac21f",
   "metadata": {},
   "outputs": [],
   "source": []
  },
  {
   "cell_type": "code",
   "execution_count": null,
   "id": "cb9f645a-0478-4fa1-b6c0-d9465307adb2",
   "metadata": {},
   "outputs": [],
   "source": []
  },
  {
   "cell_type": "code",
   "execution_count": null,
   "id": "bc9cef8b-8af3-4050-bbc2-e95ab87e3384",
   "metadata": {},
   "outputs": [],
   "source": []
  },
  {
   "cell_type": "code",
   "execution_count": null,
   "id": "60e8a4fd-c696-4569-8b3a-458c655ee6d5",
   "metadata": {},
   "outputs": [],
   "source": []
  },
  {
   "cell_type": "markdown",
   "id": "ee8813fb-79df-488c-a521-1b67d95d85f7",
   "metadata": {},
   "source": [
    "## Data management with Pandas"
   ]
  },
  {
   "cell_type": "markdown",
   "id": "eb486b3c-180e-4eb1-84a0-01626f8f6f29",
   "metadata": {},
   "source": [
    "The first step is to import the Pandas library.\n",
    "We'll follow the standard convention of importing the `pandas` module under the alias `pd`."
   ]
  },
  {
   "cell_type": "code",
   "execution_count": 7,
   "id": "76f094e5-7915-4f9d-856d-e2fb95a1ec61",
   "metadata": {},
   "outputs": [],
   "source": [
    "import pandas as pd"
   ]
  },
  {
   "cell_type": "code",
   "execution_count": null,
   "id": "f4e3e626-368e-48f5-ac68-9f80423e49ad",
   "metadata": {},
   "outputs": [],
   "source": []
  },
  {
   "cell_type": "markdown",
   "id": "22bf0b74-9641-4892-8bbe-d563c6fbaca3",
   "metadata": {},
   "source": [
    "### Data frames"
   ]
  },
  {
   "cell_type": "markdown",
   "id": "4103c857-5d9e-4bfc-9cdc-bea643fa88c9",
   "metadata": {},
   "source": [
    "#### Players dataset"
   ]
  },
  {
   "cell_type": "code",
   "execution_count": 8,
   "id": "9e96255f-22de-4bed-871c-4e4a2c49c4dc",
   "metadata": {},
   "outputs": [
    {
     "data": {
      "text/plain": [
       "\u001b[0musername\u001b[0m\u001b[0;34m,\u001b[0m\u001b[0mcountry\u001b[0m\u001b[0;34m,\u001b[0m\u001b[0mage\u001b[0m\u001b[0;34m,\u001b[0m\u001b[0mezlvl\u001b[0m\u001b[0;34m,\u001b[0m\u001b[0mtime\u001b[0m\u001b[0;34m,\u001b[0m\u001b[0mpoints\u001b[0m\u001b[0;34m,\u001b[0m\u001b[0mfinished\u001b[0m\u001b[0;34m\u001b[0m\n",
       "\u001b[0;34m\u001b[0m\u001b[0mmary\u001b[0m\u001b[0;34m,\u001b[0m\u001b[0mus\u001b[0m\u001b[0;34m,\u001b[0m\u001b[0;36m38\u001b[0m\u001b[0;34m,\u001b[0m\u001b[0;36m0\u001b[0m\u001b[0;34m,\u001b[0m\u001b[0;36m124.94\u001b[0m\u001b[0;34m,\u001b[0m\u001b[0;36m418\u001b[0m\u001b[0;34m,\u001b[0m\u001b[0;36m0\u001b[0m\u001b[0;34m\u001b[0m\n",
       "\u001b[0;34m\u001b[0m\u001b[0mjane\u001b[0m\u001b[0;34m,\u001b[0m\u001b[0mca\u001b[0m\u001b[0;34m,\u001b[0m\u001b[0;36m21\u001b[0m\u001b[0;34m,\u001b[0m\u001b[0;36m0\u001b[0m\u001b[0;34m,\u001b[0m\u001b[0;36m331.64\u001b[0m\u001b[0;34m,\u001b[0m\u001b[0;36m1149\u001b[0m\u001b[0;34m,\u001b[0m\u001b[0;36m1\u001b[0m\u001b[0;34m\u001b[0m\n",
       "\u001b[0;34m\u001b[0m\u001b[0memil\u001b[0m\u001b[0;34m,\u001b[0m\u001b[0mfr\u001b[0m\u001b[0;34m,\u001b[0m\u001b[0;36m52\u001b[0m\u001b[0;34m,\u001b[0m\u001b[0;36m1\u001b[0m\u001b[0;34m,\u001b[0m\u001b[0;36m324.61\u001b[0m\u001b[0;34m,\u001b[0m\u001b[0;36m1321\u001b[0m\u001b[0;34m,\u001b[0m\u001b[0;36m1\u001b[0m\u001b[0;34m\u001b[0m\n",
       "\u001b[0;34m\u001b[0m\u001b[0mivan\u001b[0m\u001b[0;34m,\u001b[0m\u001b[0mca\u001b[0m\u001b[0;34m,\u001b[0m\u001b[0;36m50\u001b[0m\u001b[0;34m,\u001b[0m\u001b[0;36m1\u001b[0m\u001b[0;34m,\u001b[0m\u001b[0;36m39.51\u001b[0m\u001b[0;34m,\u001b[0m\u001b[0;36m226\u001b[0m\u001b[0;34m,\u001b[0m\u001b[0;36m0\u001b[0m\u001b[0;34m\u001b[0m\n",
       "\u001b[0;34m\u001b[0m\u001b[0mhasan\u001b[0m\u001b[0;34m,\u001b[0m\u001b[0mtr\u001b[0m\u001b[0;34m,\u001b[0m\u001b[0;36m26\u001b[0m\u001b[0;34m,\u001b[0m\u001b[0;36m1\u001b[0m\u001b[0;34m,\u001b[0m\u001b[0;36m253.19\u001b[0m\u001b[0;34m,\u001b[0m\u001b[0;36m815\u001b[0m\u001b[0;34m,\u001b[0m\u001b[0;36m0\u001b[0m\u001b[0;34m\u001b[0m\n",
       "\u001b[0;34m\u001b[0m\u001b[0mjordan\u001b[0m\u001b[0;34m,\u001b[0m\u001b[0mus\u001b[0m\u001b[0;34m,\u001b[0m\u001b[0;36m45\u001b[0m\u001b[0;34m,\u001b[0m\u001b[0;36m0\u001b[0m\u001b[0;34m,\u001b[0m\u001b[0;36m28.49\u001b[0m\u001b[0;34m,\u001b[0m\u001b[0;36m206\u001b[0m\u001b[0;34m,\u001b[0m\u001b[0;36m0\u001b[0m\u001b[0;34m\u001b[0m\n",
       "\u001b[0;34m\u001b[0m\u001b[0msanjay\u001b[0m\u001b[0;34m,\u001b[0m\u001b[0mca\u001b[0m\u001b[0;34m,\u001b[0m\u001b[0;36m27\u001b[0m\u001b[0;34m,\u001b[0m\u001b[0;36m1\u001b[0m\u001b[0;34m,\u001b[0m\u001b[0;36m350.0\u001b[0m\u001b[0;34m,\u001b[0m\u001b[0;36m1401\u001b[0m\u001b[0;34m,\u001b[0m\u001b[0;36m1\u001b[0m\u001b[0;34m\u001b[0m\n",
       "\u001b[0;34m\u001b[0m\u001b[0mlena\u001b[0m\u001b[0;34m,\u001b[0m\u001b[0muk\u001b[0m\u001b[0;34m,\u001b[0m\u001b[0;36m23\u001b[0m\u001b[0;34m,\u001b[0m\u001b[0;36m0\u001b[0m\u001b[0;34m,\u001b[0m\u001b[0;36m408.76\u001b[0m\u001b[0;34m,\u001b[0m\u001b[0;36m1745\u001b[0m\u001b[0;34m,\u001b[0m\u001b[0;36m1\u001b[0m\u001b[0;34m\u001b[0m\n",
       "\u001b[0;34m\u001b[0m\u001b[0mshuo\u001b[0m\u001b[0;34m,\u001b[0m\u001b[0mcn\u001b[0m\u001b[0;34m,\u001b[0m\u001b[0;36m24\u001b[0m\u001b[0;34m,\u001b[0m\u001b[0;36m1\u001b[0m\u001b[0;34m,\u001b[0m\u001b[0;36m194.77\u001b[0m\u001b[0;34m,\u001b[0m\u001b[0;36m1043\u001b[0m\u001b[0;34m,\u001b[0m\u001b[0;36m0\u001b[0m\u001b[0;34m\u001b[0m\n",
       "\u001b[0;34m\u001b[0m\u001b[0mr0byn\u001b[0m\u001b[0;34m,\u001b[0m\u001b[0mus\u001b[0m\u001b[0;34m,\u001b[0m\u001b[0;36m59\u001b[0m\u001b[0;34m,\u001b[0m\u001b[0;36m0\u001b[0m\u001b[0;34m,\u001b[0m\u001b[0;36m255.55\u001b[0m\u001b[0;34m,\u001b[0m\u001b[0;36m1102\u001b[0m\u001b[0;34m,\u001b[0m\u001b[0;36m0\u001b[0m\u001b[0;34m\u001b[0m\n",
       "\u001b[0;34m\u001b[0m\u001b[0manna\u001b[0m\u001b[0;34m,\u001b[0m\u001b[0mpl\u001b[0m\u001b[0;34m,\u001b[0m\u001b[0;36m18\u001b[0m\u001b[0;34m,\u001b[0m\u001b[0;36m0\u001b[0m\u001b[0;34m,\u001b[0m\u001b[0;36m303.66\u001b[0m\u001b[0;34m,\u001b[0m\u001b[0;36m1209\u001b[0m\u001b[0;34m,\u001b[0m\u001b[0;36m1\u001b[0m\u001b[0;34m\u001b[0m\n",
       "\u001b[0;34m\u001b[0m\u001b[0mjoro\u001b[0m\u001b[0;34m,\u001b[0m\u001b[0mbg\u001b[0m\u001b[0;34m,\u001b[0m\u001b[0;36m22\u001b[0m\u001b[0;34m,\u001b[0m\u001b[0;36m1\u001b[0m\u001b[0;34m,\u001b[0m\u001b[0;36m381.97\u001b[0m\u001b[0;34m,\u001b[0m\u001b[0;36m1491\u001b[0m\u001b[0;34m,\u001b[0m\u001b[0;36m1\u001b[0m\u001b[0;34m\u001b[0m\u001b[0;34m\u001b[0m\u001b[0m\n"
      ]
     },
     "metadata": {},
     "output_type": "display_data"
    }
   ],
   "source": [
    "%pycat ../datasets/players.csv"
   ]
  },
  {
   "cell_type": "markdown",
   "id": "a7ce329b-614e-4728-bf3c-f5918be36014",
   "metadata": {},
   "source": [
    "We can create a the data frame object `players`\n",
    "by loading the players dataset located at `../datasets/players.csv`\n",
    "by calling the function `pd.read_csv`."
   ]
  },
  {
   "cell_type": "code",
   "execution_count": 9,
   "id": "21b7542c-71ab-46e4-989f-e84a31e4387d",
   "metadata": {},
   "outputs": [
    {
     "data": {
      "text/html": [
       "<div>\n",
       "<style scoped>\n",
       "    .dataframe tbody tr th:only-of-type {\n",
       "        vertical-align: middle;\n",
       "    }\n",
       "\n",
       "    .dataframe tbody tr th {\n",
       "        vertical-align: top;\n",
       "    }\n",
       "\n",
       "    .dataframe thead th {\n",
       "        text-align: right;\n",
       "    }\n",
       "</style>\n",
       "<table border=\"1\" class=\"dataframe\">\n",
       "  <thead>\n",
       "    <tr style=\"text-align: right;\">\n",
       "      <th></th>\n",
       "      <th>username</th>\n",
       "      <th>country</th>\n",
       "      <th>age</th>\n",
       "      <th>ezlvl</th>\n",
       "      <th>time</th>\n",
       "      <th>points</th>\n",
       "      <th>finished</th>\n",
       "    </tr>\n",
       "  </thead>\n",
       "  <tbody>\n",
       "    <tr>\n",
       "      <th>0</th>\n",
       "      <td>mary</td>\n",
       "      <td>us</td>\n",
       "      <td>38</td>\n",
       "      <td>0</td>\n",
       "      <td>124.94</td>\n",
       "      <td>418</td>\n",
       "      <td>0</td>\n",
       "    </tr>\n",
       "    <tr>\n",
       "      <th>1</th>\n",
       "      <td>jane</td>\n",
       "      <td>ca</td>\n",
       "      <td>21</td>\n",
       "      <td>0</td>\n",
       "      <td>331.64</td>\n",
       "      <td>1149</td>\n",
       "      <td>1</td>\n",
       "    </tr>\n",
       "    <tr>\n",
       "      <th>2</th>\n",
       "      <td>emil</td>\n",
       "      <td>fr</td>\n",
       "      <td>52</td>\n",
       "      <td>1</td>\n",
       "      <td>324.61</td>\n",
       "      <td>1321</td>\n",
       "      <td>1</td>\n",
       "    </tr>\n",
       "    <tr>\n",
       "      <th>3</th>\n",
       "      <td>ivan</td>\n",
       "      <td>ca</td>\n",
       "      <td>50</td>\n",
       "      <td>1</td>\n",
       "      <td>39.51</td>\n",
       "      <td>226</td>\n",
       "      <td>0</td>\n",
       "    </tr>\n",
       "    <tr>\n",
       "      <th>4</th>\n",
       "      <td>hasan</td>\n",
       "      <td>tr</td>\n",
       "      <td>26</td>\n",
       "      <td>1</td>\n",
       "      <td>253.19</td>\n",
       "      <td>815</td>\n",
       "      <td>0</td>\n",
       "    </tr>\n",
       "    <tr>\n",
       "      <th>5</th>\n",
       "      <td>jordan</td>\n",
       "      <td>us</td>\n",
       "      <td>45</td>\n",
       "      <td>0</td>\n",
       "      <td>28.49</td>\n",
       "      <td>206</td>\n",
       "      <td>0</td>\n",
       "    </tr>\n",
       "    <tr>\n",
       "      <th>6</th>\n",
       "      <td>sanjay</td>\n",
       "      <td>ca</td>\n",
       "      <td>27</td>\n",
       "      <td>1</td>\n",
       "      <td>350.00</td>\n",
       "      <td>1401</td>\n",
       "      <td>1</td>\n",
       "    </tr>\n",
       "    <tr>\n",
       "      <th>7</th>\n",
       "      <td>lena</td>\n",
       "      <td>uk</td>\n",
       "      <td>23</td>\n",
       "      <td>0</td>\n",
       "      <td>408.76</td>\n",
       "      <td>1745</td>\n",
       "      <td>1</td>\n",
       "    </tr>\n",
       "    <tr>\n",
       "      <th>8</th>\n",
       "      <td>shuo</td>\n",
       "      <td>cn</td>\n",
       "      <td>24</td>\n",
       "      <td>1</td>\n",
       "      <td>194.77</td>\n",
       "      <td>1043</td>\n",
       "      <td>0</td>\n",
       "    </tr>\n",
       "    <tr>\n",
       "      <th>9</th>\n",
       "      <td>r0byn</td>\n",
       "      <td>us</td>\n",
       "      <td>59</td>\n",
       "      <td>0</td>\n",
       "      <td>255.55</td>\n",
       "      <td>1102</td>\n",
       "      <td>0</td>\n",
       "    </tr>\n",
       "    <tr>\n",
       "      <th>10</th>\n",
       "      <td>anna</td>\n",
       "      <td>pl</td>\n",
       "      <td>18</td>\n",
       "      <td>0</td>\n",
       "      <td>303.66</td>\n",
       "      <td>1209</td>\n",
       "      <td>1</td>\n",
       "    </tr>\n",
       "    <tr>\n",
       "      <th>11</th>\n",
       "      <td>joro</td>\n",
       "      <td>bg</td>\n",
       "      <td>22</td>\n",
       "      <td>1</td>\n",
       "      <td>381.97</td>\n",
       "      <td>1491</td>\n",
       "      <td>1</td>\n",
       "    </tr>\n",
       "  </tbody>\n",
       "</table>\n",
       "</div>"
      ],
      "text/plain": [
       "   username country  age  ezlvl    time  points  finished\n",
       "0      mary      us   38      0  124.94     418         0\n",
       "1      jane      ca   21      0  331.64    1149         1\n",
       "2      emil      fr   52      1  324.61    1321         1\n",
       "3      ivan      ca   50      1   39.51     226         0\n",
       "4     hasan      tr   26      1  253.19     815         0\n",
       "5    jordan      us   45      0   28.49     206         0\n",
       "6    sanjay      ca   27      1  350.00    1401         1\n",
       "7      lena      uk   23      0  408.76    1745         1\n",
       "8      shuo      cn   24      1  194.77    1043         0\n",
       "9     r0byn      us   59      0  255.55    1102         0\n",
       "10     anna      pl   18      0  303.66    1209         1\n",
       "11     joro      bg   22      1  381.97    1491         1"
      ]
     },
     "execution_count": 9,
     "metadata": {},
     "output_type": "execute_result"
    }
   ],
   "source": [
    "players = pd.read_csv(\"../datasets/players.csv\")\n",
    "players"
   ]
  },
  {
   "cell_type": "code",
   "execution_count": null,
   "id": "af979ee8-9d7c-4fed-b672-d307de37a8ee",
   "metadata": {},
   "outputs": [],
   "source": []
  },
  {
   "cell_type": "markdown",
   "id": "b7fd0bad-4fd8-459b-8c8d-40fcc7fede3d",
   "metadata": {},
   "source": [
    "### Data frame properties\n",
    "\n",
    "What type of object is `players` ?"
   ]
  },
  {
   "cell_type": "code",
   "execution_count": 10,
   "id": "4f3a33fb-77df-4a7e-8ce6-9bd24249a77c",
   "metadata": {},
   "outputs": [
    {
     "data": {
      "text/plain": [
       "pandas.core.frame.DataFrame"
      ]
     },
     "execution_count": 10,
     "metadata": {},
     "output_type": "execute_result"
    }
   ],
   "source": [
    "type(players)"
   ]
  },
  {
   "cell_type": "markdown",
   "id": "88e385e1-ab09-4d8e-84ec-23fbb2487b43",
   "metadata": {},
   "source": [
    "The `players` data frame object has a bunch of useful properties (attributes)\n",
    "and functions (methods) \"attached\" to it,\n",
    "which we can access using the dot syntax."
   ]
  },
  {
   "cell_type": "code",
   "execution_count": null,
   "id": "6999ea65-a60a-4186-87bf-f44ba6285c93",
   "metadata": {},
   "outputs": [],
   "source": []
  },
  {
   "cell_type": "markdown",
   "id": "954bb4f0-7801-4dfb-8f6b-08be3f9a44cc",
   "metadata": {},
   "source": [
    "#### The shape of the `players` data frame"
   ]
  },
  {
   "cell_type": "code",
   "execution_count": 11,
   "id": "b0572b9f-07c7-437e-81fd-651af4610aeb",
   "metadata": {},
   "outputs": [
    {
     "data": {
      "text/plain": [
       "(12, 7)"
      ]
     },
     "execution_count": 11,
     "metadata": {},
     "output_type": "execute_result"
    }
   ],
   "source": [
    "players.shape"
   ]
  },
  {
   "cell_type": "code",
   "execution_count": null,
   "id": "b7eba3f2-eafc-4700-abc2-c4d01c4568ca",
   "metadata": {},
   "outputs": [],
   "source": []
  },
  {
   "cell_type": "markdown",
   "id": "e997e291-1307-410f-870c-c5629c79c8d4",
   "metadata": {},
   "source": [
    "#### The rows index"
   ]
  },
  {
   "cell_type": "code",
   "execution_count": 12,
   "id": "335eadc7-9eeb-47de-9381-df6413ebea2a",
   "metadata": {},
   "outputs": [
    {
     "data": {
      "text/plain": [
       "12"
      ]
     },
     "execution_count": 12,
     "metadata": {},
     "output_type": "execute_result"
    }
   ],
   "source": [
    "len(players.index)"
   ]
  },
  {
   "cell_type": "code",
   "execution_count": 13,
   "id": "da643e43-c7e7-4653-bb57-5197abf779f8",
   "metadata": {},
   "outputs": [
    {
     "data": {
      "text/plain": [
       "RangeIndex(start=0, stop=12, step=1)"
      ]
     },
     "execution_count": 13,
     "metadata": {},
     "output_type": "execute_result"
    }
   ],
   "source": [
    "players.index"
   ]
  },
  {
   "cell_type": "code",
   "execution_count": 14,
   "id": "c9ba7557-d34c-4ab6-a721-a11006431de5",
   "metadata": {},
   "outputs": [
    {
     "data": {
      "text/plain": [
       "[0, 1, 2, 3, 4, 5, 6, 7, 8, 9, 10, 11]"
      ]
     },
     "execution_count": 14,
     "metadata": {},
     "output_type": "execute_result"
    }
   ],
   "source": [
    "list(players.index)"
   ]
  },
  {
   "cell_type": "code",
   "execution_count": null,
   "id": "61adbfce-3ea3-4435-86e1-a2b8a7aa5272",
   "metadata": {},
   "outputs": [],
   "source": []
  },
  {
   "cell_type": "markdown",
   "id": "e1894342-c39d-4b2c-b630-2fd5feee7d76",
   "metadata": {},
   "source": [
    "#### The columns index"
   ]
  },
  {
   "cell_type": "code",
   "execution_count": 15,
   "id": "79fe6d75-0701-4910-92cc-4b966d1a00c6",
   "metadata": {},
   "outputs": [
    {
     "data": {
      "text/plain": [
       "7"
      ]
     },
     "execution_count": 15,
     "metadata": {},
     "output_type": "execute_result"
    }
   ],
   "source": [
    "len(players.columns)"
   ]
  },
  {
   "cell_type": "code",
   "execution_count": 16,
   "id": "291866b7-b1fc-4f81-924a-688517ff439c",
   "metadata": {},
   "outputs": [
    {
     "data": {
      "text/plain": [
       "Index(['username', 'country', 'age', 'ezlvl', 'time', 'points', 'finished'], dtype='object')"
      ]
     },
     "execution_count": 16,
     "metadata": {},
     "output_type": "execute_result"
    }
   ],
   "source": [
    "players.columns"
   ]
  },
  {
   "cell_type": "code",
   "execution_count": 17,
   "id": "4654bf7b-b414-4386-a305-8dfb3d9772bf",
   "metadata": {},
   "outputs": [
    {
     "data": {
      "text/plain": [
       "['username', 'country', 'age', 'ezlvl', 'time', 'points', 'finished']"
      ]
     },
     "execution_count": 17,
     "metadata": {},
     "output_type": "execute_result"
    }
   ],
   "source": [
    "list(players.columns)"
   ]
  },
  {
   "cell_type": "code",
   "execution_count": null,
   "id": "8608529e-4ff3-419e-b9c1-6c58c1489bed",
   "metadata": {},
   "outputs": [],
   "source": []
  },
  {
   "cell_type": "markdown",
   "id": "d503de0a-133a-48e2-b1b6-1b0f0671c5e2",
   "metadata": {},
   "source": [
    "#### Exploring data frame objects"
   ]
  },
  {
   "cell_type": "code",
   "execution_count": 18,
   "id": "45cf5451-8a56-489c-bc75-97b93496bd6f",
   "metadata": {},
   "outputs": [
    {
     "data": {
      "text/html": [
       "<div>\n",
       "<style scoped>\n",
       "    .dataframe tbody tr th:only-of-type {\n",
       "        vertical-align: middle;\n",
       "    }\n",
       "\n",
       "    .dataframe tbody tr th {\n",
       "        vertical-align: top;\n",
       "    }\n",
       "\n",
       "    .dataframe thead th {\n",
       "        text-align: right;\n",
       "    }\n",
       "</style>\n",
       "<table border=\"1\" class=\"dataframe\">\n",
       "  <thead>\n",
       "    <tr style=\"text-align: right;\">\n",
       "      <th></th>\n",
       "      <th>username</th>\n",
       "      <th>country</th>\n",
       "      <th>age</th>\n",
       "      <th>ezlvl</th>\n",
       "      <th>time</th>\n",
       "      <th>points</th>\n",
       "      <th>finished</th>\n",
       "    </tr>\n",
       "  </thead>\n",
       "  <tbody>\n",
       "    <tr>\n",
       "      <th>0</th>\n",
       "      <td>mary</td>\n",
       "      <td>us</td>\n",
       "      <td>38</td>\n",
       "      <td>0</td>\n",
       "      <td>124.94</td>\n",
       "      <td>418</td>\n",
       "      <td>0</td>\n",
       "    </tr>\n",
       "    <tr>\n",
       "      <th>1</th>\n",
       "      <td>jane</td>\n",
       "      <td>ca</td>\n",
       "      <td>21</td>\n",
       "      <td>0</td>\n",
       "      <td>331.64</td>\n",
       "      <td>1149</td>\n",
       "      <td>1</td>\n",
       "    </tr>\n",
       "    <tr>\n",
       "      <th>2</th>\n",
       "      <td>emil</td>\n",
       "      <td>fr</td>\n",
       "      <td>52</td>\n",
       "      <td>1</td>\n",
       "      <td>324.61</td>\n",
       "      <td>1321</td>\n",
       "      <td>1</td>\n",
       "    </tr>\n",
       "  </tbody>\n",
       "</table>\n",
       "</div>"
      ],
      "text/plain": [
       "  username country  age  ezlvl    time  points  finished\n",
       "0     mary      us   38      0  124.94     418         0\n",
       "1     jane      ca   21      0  331.64    1149         1\n",
       "2     emil      fr   52      1  324.61    1321         1"
      ]
     },
     "execution_count": 18,
     "metadata": {},
     "output_type": "execute_result"
    }
   ],
   "source": [
    "players.head(3)\n",
    "# players.tail(3)\n",
    "# players.sample(3)"
   ]
  },
  {
   "cell_type": "code",
   "execution_count": null,
   "id": "6eb9bee7-8b70-4389-8d0a-20a7f72b4a14",
   "metadata": {},
   "outputs": [],
   "source": []
  },
  {
   "cell_type": "markdown",
   "id": "e6e26de9-c514-4d62-bdbc-970aa4243e01",
   "metadata": {},
   "source": [
    "#### Data types"
   ]
  },
  {
   "cell_type": "code",
   "execution_count": 19,
   "id": "fc8b2e65-a6bf-4f49-b39d-c0c24b494b9c",
   "metadata": {},
   "outputs": [
    {
     "data": {
      "text/plain": [
       "username     object\n",
       "country      object\n",
       "age           int64\n",
       "ezlvl         int64\n",
       "time        float64\n",
       "points        int64\n",
       "finished      int64\n",
       "dtype: object"
      ]
     },
     "execution_count": 19,
     "metadata": {},
     "output_type": "execute_result"
    }
   ],
   "source": [
    "players.dtypes"
   ]
  },
  {
   "cell_type": "code",
   "execution_count": null,
   "id": "a0f97e38-fa70-44f3-9c2b-ae33a877a07b",
   "metadata": {},
   "outputs": [],
   "source": []
  },
  {
   "cell_type": "code",
   "execution_count": null,
   "id": "efd7b332-0764-4e45-a9a4-3f603de8cc64",
   "metadata": {},
   "outputs": [],
   "source": []
  },
  {
   "cell_type": "code",
   "execution_count": 20,
   "id": "fb124e93-c519-49e6-bf92-aeacec101041",
   "metadata": {},
   "outputs": [
    {
     "name": "stdout",
     "output_type": "stream",
     "text": [
      "<class 'pandas.core.frame.DataFrame'>\n",
      "RangeIndex: 12 entries, 0 to 11\n",
      "Data columns (total 7 columns):\n",
      " #   Column    Non-Null Count  Dtype  \n",
      "---  ------    --------------  -----  \n",
      " 0   username  12 non-null     object \n",
      " 1   country   12 non-null     object \n",
      " 2   age       12 non-null     int64  \n",
      " 3   ezlvl     12 non-null     int64  \n",
      " 4   time      12 non-null     float64\n",
      " 5   points    12 non-null     int64  \n",
      " 6   finished  12 non-null     int64  \n",
      "dtypes: float64(1), int64(4), object(2)\n",
      "memory usage: 2.0 KB\n"
     ]
    }
   ],
   "source": [
    "players.info(memory_usage=\"deep\")"
   ]
  },
  {
   "cell_type": "code",
   "execution_count": 21,
   "id": "3969e827-6568-435e-9688-0b1828b6348c",
   "metadata": {},
   "outputs": [],
   "source": [
    "# players.axes\n",
    "# players.memory_usage()\n",
    "# players.values"
   ]
  },
  {
   "cell_type": "code",
   "execution_count": null,
   "id": "c761920a-ef2b-4103-9688-394046c6ed8b",
   "metadata": {},
   "outputs": [],
   "source": []
  },
  {
   "cell_type": "code",
   "execution_count": null,
   "id": "ca6eb058-6b92-43fa-8b1b-3175729a971b",
   "metadata": {},
   "outputs": [],
   "source": []
  },
  {
   "cell_type": "markdown",
   "id": "5182aa71-d792-449b-b73b-5e8e563e162c",
   "metadata": {},
   "source": [
    "### Accessing values in a DataFrame"
   ]
  },
  {
   "cell_type": "markdown",
   "id": "dd961bf9-0df9-450b-afd9-f4f81dacfe65",
   "metadata": {},
   "source": [
    "#### Selecting individual values"
   ]
  },
  {
   "cell_type": "code",
   "execution_count": 22,
   "id": "79ea4191-d863-4f47-a44e-ff50d37d9152",
   "metadata": {},
   "outputs": [
    {
     "data": {
      "text/plain": [
       "1321"
      ]
     },
     "execution_count": 22,
     "metadata": {},
     "output_type": "execute_result"
    }
   ],
   "source": [
    "# Emil's points\n",
    "players.loc[2,\"points\"]"
   ]
  },
  {
   "cell_type": "code",
   "execution_count": null,
   "id": "c2db4a83-8eae-41a4-a26d-f109e7355187",
   "metadata": {},
   "outputs": [],
   "source": []
  },
  {
   "cell_type": "markdown",
   "id": "5317dead-58ce-4bd1-a23e-032ad2dc0544",
   "metadata": {},
   "source": [
    "#### Selecting entire rows"
   ]
  },
  {
   "cell_type": "code",
   "execution_count": 23,
   "id": "d169e387-d129-45d7-947e-f5062d4cffff",
   "metadata": {},
   "outputs": [
    {
     "data": {
      "text/plain": [
       "username    sanjay\n",
       "country         ca\n",
       "age             27\n",
       "ezlvl            1\n",
       "time         350.0\n",
       "points        1401\n",
       "finished         1\n",
       "Name: 6, dtype: object"
      ]
     },
     "execution_count": 23,
     "metadata": {},
     "output_type": "execute_result"
    }
   ],
   "source": [
    "# Sanjay's data\n",
    "row6 = players.loc[6,:]  # == players.loc[6]\n",
    "row6"
   ]
  },
  {
   "cell_type": "code",
   "execution_count": 24,
   "id": "96c99ba6-e177-43dc-97d6-7ea17a2e8667",
   "metadata": {},
   "outputs": [
    {
     "data": {
      "text/plain": [
       "pandas.core.series.Series"
      ]
     },
     "execution_count": 24,
     "metadata": {},
     "output_type": "execute_result"
    }
   ],
   "source": [
    "# Rows of the dataframe are Series objects\n",
    "type(row6)"
   ]
  },
  {
   "cell_type": "markdown",
   "id": "961785b7-1e00-4e47-a774-217897e6a8bc",
   "metadata": {},
   "source": [
    "The `index` of the series `row6` is the same as the columns index of the data frame `players`."
   ]
  },
  {
   "cell_type": "code",
   "execution_count": 25,
   "id": "cef7923f-7a65-49b8-b4ce-7ace5592e1a0",
   "metadata": {},
   "outputs": [
    {
     "data": {
      "text/plain": [
       "Index(['username', 'country', 'age', 'ezlvl', 'time', 'points', 'finished'], dtype='object')"
      ]
     },
     "execution_count": 25,
     "metadata": {},
     "output_type": "execute_result"
    }
   ],
   "source": [
    "row6.index"
   ]
  },
  {
   "cell_type": "markdown",
   "id": "ea1970b5-afab-472f-b3c6-fb15cd0268af",
   "metadata": {},
   "source": [
    "To access individual values, use the square bracket notation."
   ]
  },
  {
   "cell_type": "code",
   "execution_count": 26,
   "id": "b077de35-983d-4c8d-92c6-c6593e05b001",
   "metadata": {},
   "outputs": [
    {
     "data": {
      "text/plain": [
       "27"
      ]
     },
     "execution_count": 26,
     "metadata": {},
     "output_type": "execute_result"
    }
   ],
   "source": [
    "row6[\"age\"]"
   ]
  },
  {
   "cell_type": "code",
   "execution_count": null,
   "id": "9641ddd9-0b2c-43e7-afef-c8ee41504439",
   "metadata": {},
   "outputs": [],
   "source": []
  },
  {
   "cell_type": "markdown",
   "id": "4572689e-f470-4686-9cca-75c4ca9ef048",
   "metadata": {},
   "source": [
    "#### Selecting entire columns"
   ]
  },
  {
   "cell_type": "code",
   "execution_count": 27,
   "id": "dce25ae2-06da-4841-bc11-2747855ebe71",
   "metadata": {},
   "outputs": [
    {
     "data": {
      "text/plain": [
       "0     38\n",
       "1     21\n",
       "2     52\n",
       "3     50\n",
       "4     26\n",
       "5     45\n",
       "6     27\n",
       "7     23\n",
       "8     24\n",
       "9     59\n",
       "10    18\n",
       "11    22\n",
       "Name: age, dtype: int64"
      ]
     },
     "execution_count": 27,
     "metadata": {},
     "output_type": "execute_result"
    }
   ],
   "source": [
    "ages = players[\"age\"]\n",
    "ages"
   ]
  },
  {
   "cell_type": "code",
   "execution_count": 28,
   "id": "99f9aa2f-7b0e-4b2a-881b-a68fa5e5f1c6",
   "metadata": {},
   "outputs": [
    {
     "data": {
      "text/plain": [
       "pandas.core.series.Series"
      ]
     },
     "execution_count": 28,
     "metadata": {},
     "output_type": "execute_result"
    }
   ],
   "source": [
    "type(ages)"
   ]
  },
  {
   "cell_type": "code",
   "execution_count": 29,
   "id": "44593e36-724e-47c1-805c-9620ee4d2731",
   "metadata": {},
   "outputs": [
    {
     "data": {
      "text/plain": [
       "RangeIndex(start=0, stop=12, step=1)"
      ]
     },
     "execution_count": 29,
     "metadata": {},
     "output_type": "execute_result"
    }
   ],
   "source": [
    "ages.index"
   ]
  },
  {
   "cell_type": "code",
   "execution_count": 30,
   "id": "43a4a89c-5a89-41ff-8751-5a07cea6c2d8",
   "metadata": {},
   "outputs": [
    {
     "data": {
      "text/plain": [
       "array([38, 21, 52, 50, 26, 45, 27, 23, 24, 59, 18, 22])"
      ]
     },
     "execution_count": 30,
     "metadata": {},
     "output_type": "execute_result"
    }
   ],
   "source": [
    "ages.values"
   ]
  },
  {
   "cell_type": "code",
   "execution_count": 31,
   "id": "481431ff-064d-457c-977c-6a184e1f24e3",
   "metadata": {},
   "outputs": [],
   "source": [
    "# ALT1.\n",
    "# players[\"age\"].equals( players.loc[:,\"age\"] )"
   ]
  },
  {
   "cell_type": "code",
   "execution_count": 32,
   "id": "2bba5e49-0c14-4594-8e49-d83e8dda0900",
   "metadata": {},
   "outputs": [],
   "source": [
    "# ALT2.\n",
    "# players[\"age\"].equals( players.age )"
   ]
  },
  {
   "cell_type": "code",
   "execution_count": 33,
   "id": "0f6abff9-cb72-4115-a5fd-f24b51475b8e",
   "metadata": {},
   "outputs": [
    {
     "data": {
      "text/plain": [
       "27"
      ]
     },
     "execution_count": 33,
     "metadata": {},
     "output_type": "execute_result"
    }
   ],
   "source": [
    "ages[6]"
   ]
  },
  {
   "cell_type": "code",
   "execution_count": null,
   "id": "529aa746-0b5a-4e01-a973-b8295588e3a6",
   "metadata": {},
   "outputs": [],
   "source": []
  },
  {
   "cell_type": "code",
   "execution_count": null,
   "id": "4ad2d201-dcde-4dee-8dcf-6e925c2c46d8",
   "metadata": {},
   "outputs": [],
   "source": []
  },
  {
   "cell_type": "markdown",
   "id": "e524ab3e-6988-4bd0-a7c1-6a41415613f8",
   "metadata": {},
   "source": [
    "#### Selecting multiple columns"
   ]
  },
  {
   "cell_type": "code",
   "execution_count": 34,
   "id": "dcbfcc05-209b-44f6-a4b5-cbee814d6b22",
   "metadata": {},
   "outputs": [
    {
     "data": {
      "text/html": [
       "<div>\n",
       "<style scoped>\n",
       "    .dataframe tbody tr th:only-of-type {\n",
       "        vertical-align: middle;\n",
       "    }\n",
       "\n",
       "    .dataframe tbody tr th {\n",
       "        vertical-align: top;\n",
       "    }\n",
       "\n",
       "    .dataframe thead th {\n",
       "        text-align: right;\n",
       "    }\n",
       "</style>\n",
       "<table border=\"1\" class=\"dataframe\">\n",
       "  <thead>\n",
       "    <tr style=\"text-align: right;\">\n",
       "      <th></th>\n",
       "      <th>username</th>\n",
       "      <th>country</th>\n",
       "    </tr>\n",
       "  </thead>\n",
       "  <tbody>\n",
       "    <tr>\n",
       "      <th>0</th>\n",
       "      <td>mary</td>\n",
       "      <td>us</td>\n",
       "    </tr>\n",
       "    <tr>\n",
       "      <th>1</th>\n",
       "      <td>jane</td>\n",
       "      <td>ca</td>\n",
       "    </tr>\n",
       "    <tr>\n",
       "      <th>2</th>\n",
       "      <td>emil</td>\n",
       "      <td>fr</td>\n",
       "    </tr>\n",
       "    <tr>\n",
       "      <th>3</th>\n",
       "      <td>ivan</td>\n",
       "      <td>ca</td>\n",
       "    </tr>\n",
       "    <tr>\n",
       "      <th>4</th>\n",
       "      <td>hasan</td>\n",
       "      <td>tr</td>\n",
       "    </tr>\n",
       "    <tr>\n",
       "      <th>5</th>\n",
       "      <td>jordan</td>\n",
       "      <td>us</td>\n",
       "    </tr>\n",
       "    <tr>\n",
       "      <th>6</th>\n",
       "      <td>sanjay</td>\n",
       "      <td>ca</td>\n",
       "    </tr>\n",
       "    <tr>\n",
       "      <th>7</th>\n",
       "      <td>lena</td>\n",
       "      <td>uk</td>\n",
       "    </tr>\n",
       "    <tr>\n",
       "      <th>8</th>\n",
       "      <td>shuo</td>\n",
       "      <td>cn</td>\n",
       "    </tr>\n",
       "    <tr>\n",
       "      <th>9</th>\n",
       "      <td>r0byn</td>\n",
       "      <td>us</td>\n",
       "    </tr>\n",
       "    <tr>\n",
       "      <th>10</th>\n",
       "      <td>anna</td>\n",
       "      <td>pl</td>\n",
       "    </tr>\n",
       "    <tr>\n",
       "      <th>11</th>\n",
       "      <td>joro</td>\n",
       "      <td>bg</td>\n",
       "    </tr>\n",
       "  </tbody>\n",
       "</table>\n",
       "</div>"
      ],
      "text/plain": [
       "   username country\n",
       "0      mary      us\n",
       "1      jane      ca\n",
       "2      emil      fr\n",
       "3      ivan      ca\n",
       "4     hasan      tr\n",
       "5    jordan      us\n",
       "6    sanjay      ca\n",
       "7      lena      uk\n",
       "8      shuo      cn\n",
       "9     r0byn      us\n",
       "10     anna      pl\n",
       "11     joro      bg"
      ]
     },
     "execution_count": 34,
     "metadata": {},
     "output_type": "execute_result"
    }
   ],
   "source": [
    "players[ [\"username\", \"country\"] ]"
   ]
  },
  {
   "cell_type": "code",
   "execution_count": null,
   "id": "32122190-3c00-4b0d-a3a6-b336893215d2",
   "metadata": {},
   "outputs": [],
   "source": []
  },
  {
   "cell_type": "code",
   "execution_count": null,
   "id": "18e68767-08ce-4688-a3fd-9739b18f00c8",
   "metadata": {},
   "outputs": [],
   "source": []
  },
  {
   "cell_type": "markdown",
   "id": "1c99d726-0b2f-453b-85bb-04407be09efc",
   "metadata": {},
   "source": [
    "### Statistical calculations using Pandas"
   ]
  },
  {
   "cell_type": "code",
   "execution_count": 35,
   "id": "4e5cd02d-f0bf-4bfe-a962-d27fc1f2cd86",
   "metadata": {},
   "outputs": [
    {
     "data": {
      "text/plain": [
       "0     38\n",
       "1     21\n",
       "2     52\n",
       "3     50\n",
       "4     26\n",
       "5     45\n",
       "6     27\n",
       "7     23\n",
       "8     24\n",
       "9     59\n",
       "10    18\n",
       "11    22\n",
       "Name: age, dtype: int64"
      ]
     },
     "execution_count": 35,
     "metadata": {},
     "output_type": "execute_result"
    }
   ],
   "source": [
    "ages = players[\"age\"]  # == players.loc[:,\"age\"]\n",
    "ages"
   ]
  },
  {
   "cell_type": "code",
   "execution_count": 36,
   "id": "c578912f-b3f5-4666-93c2-374014a96e7a",
   "metadata": {},
   "outputs": [
    {
     "data": {
      "text/plain": [
       "pandas.core.series.Series"
      ]
     },
     "execution_count": 36,
     "metadata": {},
     "output_type": "execute_result"
    }
   ],
   "source": [
    "type(ages)"
   ]
  },
  {
   "cell_type": "code",
   "execution_count": null,
   "id": "9e3e5b9c-6557-475c-b5e0-1e9bc1d6522a",
   "metadata": {},
   "outputs": [],
   "source": []
  },
  {
   "cell_type": "markdown",
   "id": "6a49bcad-85ad-4f7a-86fa-3ff48db22939",
   "metadata": {},
   "source": [
    "#### Series attributes"
   ]
  },
  {
   "cell_type": "code",
   "execution_count": 37,
   "id": "bb1fc8c7-acf2-4ef4-ae7c-0be77b80c9a3",
   "metadata": {},
   "outputs": [
    {
     "data": {
      "text/plain": [
       "RangeIndex(start=0, stop=12, step=1)"
      ]
     },
     "execution_count": 37,
     "metadata": {},
     "output_type": "execute_result"
    }
   ],
   "source": [
    "ages.index"
   ]
  },
  {
   "cell_type": "code",
   "execution_count": 38,
   "id": "4723230b-9a7b-446e-a13e-7b20757a20e8",
   "metadata": {},
   "outputs": [
    {
     "data": {
      "text/plain": [
       "array([38, 21, 52, 50, 26, 45, 27, 23, 24, 59, 18, 22])"
      ]
     },
     "execution_count": 38,
     "metadata": {},
     "output_type": "execute_result"
    }
   ],
   "source": [
    "ages.values"
   ]
  },
  {
   "cell_type": "code",
   "execution_count": 39,
   "id": "8e1d6363-9a8d-41e2-8295-e1fa0a043a6c",
   "metadata": {},
   "outputs": [
    {
     "data": {
      "text/plain": [
       "'age'"
      ]
     },
     "execution_count": 39,
     "metadata": {},
     "output_type": "execute_result"
    }
   ],
   "source": [
    "ages.name"
   ]
  },
  {
   "cell_type": "code",
   "execution_count": 40,
   "id": "73f46417-ea6f-4537-b420-f01b8d91e41b",
   "metadata": {},
   "outputs": [
    {
     "data": {
      "text/plain": [
       "username    sanjay\n",
       "country         ca\n",
       "age             27\n",
       "ezlvl            1\n",
       "time         350.0\n",
       "points        1401\n",
       "finished         1\n",
       "Name: 6, dtype: object"
      ]
     },
     "execution_count": 40,
     "metadata": {},
     "output_type": "execute_result"
    }
   ],
   "source": [
    "players.loc[6]"
   ]
  },
  {
   "cell_type": "code",
   "execution_count": null,
   "id": "fcaa8af3-c716-47b3-ba1e-2a6473c3c745",
   "metadata": {},
   "outputs": [],
   "source": []
  },
  {
   "cell_type": "markdown",
   "id": "24cdc03e-c282-4320-b01e-5ec4fee7f74c",
   "metadata": {},
   "source": [
    "#### Series methods"
   ]
  },
  {
   "cell_type": "code",
   "execution_count": 41,
   "id": "bc4fff74-3e24-48e9-8055-2a64056aba65",
   "metadata": {},
   "outputs": [
    {
     "data": {
      "text/plain": [
       "12"
      ]
     },
     "execution_count": 41,
     "metadata": {},
     "output_type": "execute_result"
    }
   ],
   "source": [
    "ages.count()"
   ]
  },
  {
   "cell_type": "code",
   "execution_count": 42,
   "id": "2c91c906-0512-423d-9d5d-f3d68b6a41b0",
   "metadata": {},
   "outputs": [],
   "source": [
    "# # ALT\n",
    "# len(ages)"
   ]
  },
  {
   "cell_type": "code",
   "execution_count": 43,
   "id": "eb6bd5c3-df22-4b70-9a52-85d4f8c901c2",
   "metadata": {},
   "outputs": [
    {
     "data": {
      "text/plain": [
       "405"
      ]
     },
     "execution_count": 43,
     "metadata": {},
     "output_type": "execute_result"
    }
   ],
   "source": [
    "ages.sum()"
   ]
  },
  {
   "cell_type": "code",
   "execution_count": 44,
   "id": "dc793012-8a70-4462-b3d7-3e540242dd81",
   "metadata": {},
   "outputs": [
    {
     "data": {
      "text/plain": [
       "33.75"
      ]
     },
     "execution_count": 44,
     "metadata": {},
     "output_type": "execute_result"
    }
   ],
   "source": [
    "ages.sum() / ages.count()"
   ]
  },
  {
   "cell_type": "code",
   "execution_count": 45,
   "id": "dd1483b4-484e-4e35-9efc-3964dcc41fa2",
   "metadata": {},
   "outputs": [
    {
     "data": {
      "text/plain": [
       "33.75"
      ]
     },
     "execution_count": 45,
     "metadata": {},
     "output_type": "execute_result"
    }
   ],
   "source": [
    "ages.mean()"
   ]
  },
  {
   "cell_type": "code",
   "execution_count": 46,
   "id": "94f54a17-c0db-4a26-8759-4804b30a0a19",
   "metadata": {},
   "outputs": [
    {
     "data": {
      "text/plain": [
       "14.28365244861157"
      ]
     },
     "execution_count": 46,
     "metadata": {},
     "output_type": "execute_result"
    }
   ],
   "source": [
    "ages.std()"
   ]
  },
  {
   "cell_type": "code",
   "execution_count": null,
   "id": "655f2ec8-c550-4e58-82e7-9628a010aa79",
   "metadata": {},
   "outputs": [],
   "source": []
  },
  {
   "cell_type": "code",
   "execution_count": null,
   "id": "28a99837-60df-46c5-ad0e-a4ffe032e910",
   "metadata": {},
   "outputs": [],
   "source": []
  },
  {
   "cell_type": "code",
   "execution_count": null,
   "id": "46d734fc-d321-4065-ac3c-8867a019beea",
   "metadata": {},
   "outputs": [],
   "source": []
  },
  {
   "cell_type": "code",
   "execution_count": null,
   "id": "518d8081-9fef-40bc-ab19-c291539d0d84",
   "metadata": {},
   "outputs": [],
   "source": []
  },
  {
   "cell_type": "markdown",
   "id": "31855657-5fb3-4e39-a1a7-aa882c34c8b3",
   "metadata": {},
   "source": [
    "### Selecting only certain rows (filtering)\n"
   ]
  },
  {
   "cell_type": "markdown",
   "id": "db2c7071-0833-4ca3-bd90-24ff2d7c3000",
   "metadata": {},
   "source": [
    "To select only rows where `ezlvl` is `1`, we first build the boolean selection mask..."
   ]
  },
  {
   "cell_type": "code",
   "execution_count": 47,
   "id": "b98b49ca-ebc0-4e3f-808c-013d24ed94be",
   "metadata": {},
   "outputs": [
    {
     "data": {
      "text/plain": [
       "0     False\n",
       "1     False\n",
       "2      True\n",
       "3      True\n",
       "4      True\n",
       "5     False\n",
       "6      True\n",
       "7     False\n",
       "8      True\n",
       "9     False\n",
       "10    False\n",
       "11     True\n",
       "Name: ezlvl, dtype: bool"
      ]
     },
     "execution_count": 47,
     "metadata": {},
     "output_type": "execute_result"
    }
   ],
   "source": [
    "mask = players[\"ezlvl\"] == 1\n",
    "mask"
   ]
  },
  {
   "cell_type": "markdown",
   "id": "1ac1a6a6-6e24-4259-9cc4-7ff8598eb1f7",
   "metadata": {},
   "source": [
    "... then select the rows using the mask."
   ]
  },
  {
   "cell_type": "code",
   "execution_count": 48,
   "id": "f19c7d93-008c-40e2-ad37-31f4d76ae881",
   "metadata": {},
   "outputs": [
    {
     "data": {
      "text/html": [
       "<div>\n",
       "<style scoped>\n",
       "    .dataframe tbody tr th:only-of-type {\n",
       "        vertical-align: middle;\n",
       "    }\n",
       "\n",
       "    .dataframe tbody tr th {\n",
       "        vertical-align: top;\n",
       "    }\n",
       "\n",
       "    .dataframe thead th {\n",
       "        text-align: right;\n",
       "    }\n",
       "</style>\n",
       "<table border=\"1\" class=\"dataframe\">\n",
       "  <thead>\n",
       "    <tr style=\"text-align: right;\">\n",
       "      <th></th>\n",
       "      <th>username</th>\n",
       "      <th>country</th>\n",
       "      <th>age</th>\n",
       "      <th>ezlvl</th>\n",
       "      <th>time</th>\n",
       "      <th>points</th>\n",
       "      <th>finished</th>\n",
       "    </tr>\n",
       "  </thead>\n",
       "  <tbody>\n",
       "    <tr>\n",
       "      <th>2</th>\n",
       "      <td>emil</td>\n",
       "      <td>fr</td>\n",
       "      <td>52</td>\n",
       "      <td>1</td>\n",
       "      <td>324.61</td>\n",
       "      <td>1321</td>\n",
       "      <td>1</td>\n",
       "    </tr>\n",
       "    <tr>\n",
       "      <th>3</th>\n",
       "      <td>ivan</td>\n",
       "      <td>ca</td>\n",
       "      <td>50</td>\n",
       "      <td>1</td>\n",
       "      <td>39.51</td>\n",
       "      <td>226</td>\n",
       "      <td>0</td>\n",
       "    </tr>\n",
       "    <tr>\n",
       "      <th>4</th>\n",
       "      <td>hasan</td>\n",
       "      <td>tr</td>\n",
       "      <td>26</td>\n",
       "      <td>1</td>\n",
       "      <td>253.19</td>\n",
       "      <td>815</td>\n",
       "      <td>0</td>\n",
       "    </tr>\n",
       "    <tr>\n",
       "      <th>6</th>\n",
       "      <td>sanjay</td>\n",
       "      <td>ca</td>\n",
       "      <td>27</td>\n",
       "      <td>1</td>\n",
       "      <td>350.00</td>\n",
       "      <td>1401</td>\n",
       "      <td>1</td>\n",
       "    </tr>\n",
       "    <tr>\n",
       "      <th>8</th>\n",
       "      <td>shuo</td>\n",
       "      <td>cn</td>\n",
       "      <td>24</td>\n",
       "      <td>1</td>\n",
       "      <td>194.77</td>\n",
       "      <td>1043</td>\n",
       "      <td>0</td>\n",
       "    </tr>\n",
       "    <tr>\n",
       "      <th>11</th>\n",
       "      <td>joro</td>\n",
       "      <td>bg</td>\n",
       "      <td>22</td>\n",
       "      <td>1</td>\n",
       "      <td>381.97</td>\n",
       "      <td>1491</td>\n",
       "      <td>1</td>\n",
       "    </tr>\n",
       "  </tbody>\n",
       "</table>\n",
       "</div>"
      ],
      "text/plain": [
       "   username country  age  ezlvl    time  points  finished\n",
       "2      emil      fr   52      1  324.61    1321         1\n",
       "3      ivan      ca   50      1   39.51     226         0\n",
       "4     hasan      tr   26      1  253.19     815         0\n",
       "6    sanjay      ca   27      1  350.00    1401         1\n",
       "8      shuo      cn   24      1  194.77    1043         0\n",
       "11     joro      bg   22      1  381.97    1491         1"
      ]
     },
     "execution_count": 48,
     "metadata": {},
     "output_type": "execute_result"
    }
   ],
   "source": [
    "players[mask]"
   ]
  },
  {
   "cell_type": "markdown",
   "id": "4524e589-9513-4cee-b187-29729698aeca",
   "metadata": {},
   "source": [
    "The above two step process can be combined into a more compact expression:"
   ]
  },
  {
   "cell_type": "code",
   "execution_count": 49,
   "id": "31504f1d-4b9b-48b3-be84-96afe36b9db6",
   "metadata": {},
   "outputs": [
    {
     "data": {
      "text/html": [
       "<div>\n",
       "<style scoped>\n",
       "    .dataframe tbody tr th:only-of-type {\n",
       "        vertical-align: middle;\n",
       "    }\n",
       "\n",
       "    .dataframe tbody tr th {\n",
       "        vertical-align: top;\n",
       "    }\n",
       "\n",
       "    .dataframe thead th {\n",
       "        text-align: right;\n",
       "    }\n",
       "</style>\n",
       "<table border=\"1\" class=\"dataframe\">\n",
       "  <thead>\n",
       "    <tr style=\"text-align: right;\">\n",
       "      <th></th>\n",
       "      <th>username</th>\n",
       "      <th>country</th>\n",
       "      <th>age</th>\n",
       "      <th>ezlvl</th>\n",
       "      <th>time</th>\n",
       "      <th>points</th>\n",
       "      <th>finished</th>\n",
       "    </tr>\n",
       "  </thead>\n",
       "  <tbody>\n",
       "    <tr>\n",
       "      <th>2</th>\n",
       "      <td>emil</td>\n",
       "      <td>fr</td>\n",
       "      <td>52</td>\n",
       "      <td>1</td>\n",
       "      <td>324.61</td>\n",
       "      <td>1321</td>\n",
       "      <td>1</td>\n",
       "    </tr>\n",
       "    <tr>\n",
       "      <th>3</th>\n",
       "      <td>ivan</td>\n",
       "      <td>ca</td>\n",
       "      <td>50</td>\n",
       "      <td>1</td>\n",
       "      <td>39.51</td>\n",
       "      <td>226</td>\n",
       "      <td>0</td>\n",
       "    </tr>\n",
       "    <tr>\n",
       "      <th>4</th>\n",
       "      <td>hasan</td>\n",
       "      <td>tr</td>\n",
       "      <td>26</td>\n",
       "      <td>1</td>\n",
       "      <td>253.19</td>\n",
       "      <td>815</td>\n",
       "      <td>0</td>\n",
       "    </tr>\n",
       "    <tr>\n",
       "      <th>6</th>\n",
       "      <td>sanjay</td>\n",
       "      <td>ca</td>\n",
       "      <td>27</td>\n",
       "      <td>1</td>\n",
       "      <td>350.00</td>\n",
       "      <td>1401</td>\n",
       "      <td>1</td>\n",
       "    </tr>\n",
       "    <tr>\n",
       "      <th>8</th>\n",
       "      <td>shuo</td>\n",
       "      <td>cn</td>\n",
       "      <td>24</td>\n",
       "      <td>1</td>\n",
       "      <td>194.77</td>\n",
       "      <td>1043</td>\n",
       "      <td>0</td>\n",
       "    </tr>\n",
       "    <tr>\n",
       "      <th>11</th>\n",
       "      <td>joro</td>\n",
       "      <td>bg</td>\n",
       "      <td>22</td>\n",
       "      <td>1</td>\n",
       "      <td>381.97</td>\n",
       "      <td>1491</td>\n",
       "      <td>1</td>\n",
       "    </tr>\n",
       "  </tbody>\n",
       "</table>\n",
       "</div>"
      ],
      "text/plain": [
       "   username country  age  ezlvl    time  points  finished\n",
       "2      emil      fr   52      1  324.61    1321         1\n",
       "3      ivan      ca   50      1   39.51     226         0\n",
       "4     hasan      tr   26      1  253.19     815         0\n",
       "6    sanjay      ca   27      1  350.00    1401         1\n",
       "8      shuo      cn   24      1  194.77    1043         0\n",
       "11     joro      bg   22      1  381.97    1491         1"
      ]
     },
     "execution_count": 49,
     "metadata": {},
     "output_type": "execute_result"
    }
   ],
   "source": [
    "players[players[\"ezlvl\"]==1]"
   ]
  },
  {
   "cell_type": "code",
   "execution_count": null,
   "id": "f5d53572-26a4-43ce-bb17-f43130f398ab",
   "metadata": {},
   "outputs": [],
   "source": []
  },
  {
   "cell_type": "markdown",
   "id": "590bd2a1-4e94-432a-9a55-7ebb6636042f",
   "metadata": {},
   "source": [
    "##### Bonus topic: multiple selection criteria"
   ]
  },
  {
   "cell_type": "code",
   "execution_count": 50,
   "id": "aad81bf1-1bc9-4821-bcd3-35c8b1efd169",
   "metadata": {},
   "outputs": [],
   "source": [
    "# mask for selecting players with ezlvl=1 and time greater than 200 mins\n",
    "# players[(players[\"ezlvl\"] == 1) & (players[\"time\"] >= 200)]"
   ]
  },
  {
   "cell_type": "code",
   "execution_count": 51,
   "id": "809b90ce-e143-42cd-9360-006951f40bf6",
   "metadata": {},
   "outputs": [],
   "source": [
    "# mask for selecting US and Canada players\n",
    "# players[\"country\"].isin([\"us\",\"ca\"])"
   ]
  },
  {
   "cell_type": "code",
   "execution_count": null,
   "id": "3fa6077e-5f97-4d08-9fb2-1135ec1582cf",
   "metadata": {},
   "outputs": [],
   "source": []
  },
  {
   "cell_type": "code",
   "execution_count": null,
   "id": "d64769e4-8a84-4d64-b634-6354d15475d9",
   "metadata": {},
   "outputs": [],
   "source": []
  },
  {
   "cell_type": "code",
   "execution_count": null,
   "id": "a33f019a-656a-4bc9-b22f-b6740c25cd1e",
   "metadata": {},
   "outputs": [],
   "source": []
  },
  {
   "cell_type": "code",
   "execution_count": null,
   "id": "5e54f099-c049-497b-b1db-3951e08c11f2",
   "metadata": {},
   "outputs": [],
   "source": []
  },
  {
   "cell_type": "markdown",
   "id": "ea9a46c5-c979-499d-8e73-51df01fb4732",
   "metadata": {},
   "source": [
    "### Sorting data frames and ranking"
   ]
  },
  {
   "cell_type": "code",
   "execution_count": 52,
   "id": "236d91c8-0711-4997-a231-9da743918331",
   "metadata": {},
   "outputs": [
    {
     "data": {
      "text/html": [
       "<div>\n",
       "<style scoped>\n",
       "    .dataframe tbody tr th:only-of-type {\n",
       "        vertical-align: middle;\n",
       "    }\n",
       "\n",
       "    .dataframe tbody tr th {\n",
       "        vertical-align: top;\n",
       "    }\n",
       "\n",
       "    .dataframe thead th {\n",
       "        text-align: right;\n",
       "    }\n",
       "</style>\n",
       "<table border=\"1\" class=\"dataframe\">\n",
       "  <thead>\n",
       "    <tr style=\"text-align: right;\">\n",
       "      <th></th>\n",
       "      <th>username</th>\n",
       "      <th>country</th>\n",
       "      <th>age</th>\n",
       "      <th>ezlvl</th>\n",
       "      <th>time</th>\n",
       "      <th>points</th>\n",
       "      <th>finished</th>\n",
       "    </tr>\n",
       "  </thead>\n",
       "  <tbody>\n",
       "    <tr>\n",
       "      <th>7</th>\n",
       "      <td>lena</td>\n",
       "      <td>uk</td>\n",
       "      <td>23</td>\n",
       "      <td>0</td>\n",
       "      <td>408.76</td>\n",
       "      <td>1745</td>\n",
       "      <td>1</td>\n",
       "    </tr>\n",
       "    <tr>\n",
       "      <th>11</th>\n",
       "      <td>joro</td>\n",
       "      <td>bg</td>\n",
       "      <td>22</td>\n",
       "      <td>1</td>\n",
       "      <td>381.97</td>\n",
       "      <td>1491</td>\n",
       "      <td>1</td>\n",
       "    </tr>\n",
       "    <tr>\n",
       "      <th>6</th>\n",
       "      <td>sanjay</td>\n",
       "      <td>ca</td>\n",
       "      <td>27</td>\n",
       "      <td>1</td>\n",
       "      <td>350.00</td>\n",
       "      <td>1401</td>\n",
       "      <td>1</td>\n",
       "    </tr>\n",
       "    <tr>\n",
       "      <th>1</th>\n",
       "      <td>jane</td>\n",
       "      <td>ca</td>\n",
       "      <td>21</td>\n",
       "      <td>0</td>\n",
       "      <td>331.64</td>\n",
       "      <td>1149</td>\n",
       "      <td>1</td>\n",
       "    </tr>\n",
       "    <tr>\n",
       "      <th>2</th>\n",
       "      <td>emil</td>\n",
       "      <td>fr</td>\n",
       "      <td>52</td>\n",
       "      <td>1</td>\n",
       "      <td>324.61</td>\n",
       "      <td>1321</td>\n",
       "      <td>1</td>\n",
       "    </tr>\n",
       "    <tr>\n",
       "      <th>10</th>\n",
       "      <td>anna</td>\n",
       "      <td>pl</td>\n",
       "      <td>18</td>\n",
       "      <td>0</td>\n",
       "      <td>303.66</td>\n",
       "      <td>1209</td>\n",
       "      <td>1</td>\n",
       "    </tr>\n",
       "    <tr>\n",
       "      <th>9</th>\n",
       "      <td>r0byn</td>\n",
       "      <td>us</td>\n",
       "      <td>59</td>\n",
       "      <td>0</td>\n",
       "      <td>255.55</td>\n",
       "      <td>1102</td>\n",
       "      <td>0</td>\n",
       "    </tr>\n",
       "    <tr>\n",
       "      <th>4</th>\n",
       "      <td>hasan</td>\n",
       "      <td>tr</td>\n",
       "      <td>26</td>\n",
       "      <td>1</td>\n",
       "      <td>253.19</td>\n",
       "      <td>815</td>\n",
       "      <td>0</td>\n",
       "    </tr>\n",
       "    <tr>\n",
       "      <th>8</th>\n",
       "      <td>shuo</td>\n",
       "      <td>cn</td>\n",
       "      <td>24</td>\n",
       "      <td>1</td>\n",
       "      <td>194.77</td>\n",
       "      <td>1043</td>\n",
       "      <td>0</td>\n",
       "    </tr>\n",
       "    <tr>\n",
       "      <th>0</th>\n",
       "      <td>mary</td>\n",
       "      <td>us</td>\n",
       "      <td>38</td>\n",
       "      <td>0</td>\n",
       "      <td>124.94</td>\n",
       "      <td>418</td>\n",
       "      <td>0</td>\n",
       "    </tr>\n",
       "    <tr>\n",
       "      <th>3</th>\n",
       "      <td>ivan</td>\n",
       "      <td>ca</td>\n",
       "      <td>50</td>\n",
       "      <td>1</td>\n",
       "      <td>39.51</td>\n",
       "      <td>226</td>\n",
       "      <td>0</td>\n",
       "    </tr>\n",
       "    <tr>\n",
       "      <th>5</th>\n",
       "      <td>jordan</td>\n",
       "      <td>us</td>\n",
       "      <td>45</td>\n",
       "      <td>0</td>\n",
       "      <td>28.49</td>\n",
       "      <td>206</td>\n",
       "      <td>0</td>\n",
       "    </tr>\n",
       "  </tbody>\n",
       "</table>\n",
       "</div>"
      ],
      "text/plain": [
       "   username country  age  ezlvl    time  points  finished\n",
       "7      lena      uk   23      0  408.76    1745         1\n",
       "11     joro      bg   22      1  381.97    1491         1\n",
       "6    sanjay      ca   27      1  350.00    1401         1\n",
       "1      jane      ca   21      0  331.64    1149         1\n",
       "2      emil      fr   52      1  324.61    1321         1\n",
       "10     anna      pl   18      0  303.66    1209         1\n",
       "9     r0byn      us   59      0  255.55    1102         0\n",
       "4     hasan      tr   26      1  253.19     815         0\n",
       "8      shuo      cn   24      1  194.77    1043         0\n",
       "0      mary      us   38      0  124.94     418         0\n",
       "3      ivan      ca   50      1   39.51     226         0\n",
       "5    jordan      us   45      0   28.49     206         0"
      ]
     },
     "execution_count": 52,
     "metadata": {},
     "output_type": "execute_result"
    }
   ],
   "source": [
    "players.sort_values(\"time\", ascending=False)"
   ]
  },
  {
   "cell_type": "code",
   "execution_count": 53,
   "id": "c041f0a1-8be6-4f38-8aaf-80959d4f7f2b",
   "metadata": {},
   "outputs": [
    {
     "data": {
      "text/plain": [
       "0     10.0\n",
       "1      4.0\n",
       "2      5.0\n",
       "3     11.0\n",
       "4      8.0\n",
       "5     12.0\n",
       "6      3.0\n",
       "7      1.0\n",
       "8      9.0\n",
       "9      7.0\n",
       "10     6.0\n",
       "11     2.0\n",
       "Name: time, dtype: float64"
      ]
     },
     "execution_count": 53,
     "metadata": {},
     "output_type": "execute_result"
    }
   ],
   "source": [
    "players[\"time\"].rank(ascending=False)"
   ]
  },
  {
   "cell_type": "code",
   "execution_count": null,
   "id": "7ee99eb3-dd20-41cd-b199-9cf8e3797b8c",
   "metadata": {},
   "outputs": [],
   "source": []
  },
  {
   "cell_type": "markdown",
   "id": "2651b731-9ca0-4a8c-a253-26e6420cdc2d",
   "metadata": {},
   "source": [
    "### Grouping and aggregation"
   ]
  },
  {
   "cell_type": "code",
   "execution_count": 54,
   "id": "94015891-f5fb-45ee-a02b-6e841e724c17",
   "metadata": {},
   "outputs": [
    {
     "data": {
      "text/plain": [
       "<pandas.core.groupby.generic.DataFrameGroupBy object at 0x1304cc0d0>"
      ]
     },
     "execution_count": 54,
     "metadata": {},
     "output_type": "execute_result"
    }
   ],
   "source": [
    "players.groupby(\"ezlvl\")"
   ]
  },
  {
   "cell_type": "code",
   "execution_count": 55,
   "id": "00257f13-925d-43ff-8fe6-bc8423c6571f",
   "metadata": {},
   "outputs": [
    {
     "data": {
      "text/plain": [
       "<pandas.core.groupby.generic.SeriesGroupBy object at 0x1304cc250>"
      ]
     },
     "execution_count": 55,
     "metadata": {},
     "output_type": "execute_result"
    }
   ],
   "source": [
    "players.groupby(\"ezlvl\")[\"time\"]"
   ]
  },
  {
   "cell_type": "code",
   "execution_count": 56,
   "id": "bf8a68ae-f527-4091-863c-041ecb70a36c",
   "metadata": {},
   "outputs": [
    {
     "data": {
      "text/plain": [
       "ezlvl\n",
       "0    242.173333\n",
       "1    257.341667\n",
       "Name: time, dtype: float64"
      ]
     },
     "execution_count": 56,
     "metadata": {},
     "output_type": "execute_result"
    }
   ],
   "source": [
    "players.groupby(\"ezlvl\")[\"time\"].mean()"
   ]
  },
  {
   "cell_type": "code",
   "execution_count": 57,
   "id": "de1bcd81-0508-42e2-a56d-0f767e123e35",
   "metadata": {},
   "outputs": [
    {
     "name": "stdout",
     "output_type": "stream",
     "text": [
      "           sum        mean\n",
      "ezlvl                     \n",
      "0      1453.04  242.173333\n",
      "1      1544.05  257.341667\n"
     ]
    }
   ],
   "source": [
    "print(players.groupby(\"ezlvl\")[\"time\"].aggregate([\"sum\", \"mean\"]))"
   ]
  },
  {
   "cell_type": "code",
   "execution_count": 58,
   "id": "96370afc-e2b8-41c7-b536-526bac1cc06c",
   "metadata": {},
   "outputs": [],
   "source": [
    "# # ALT1. newline continuation character\n",
    "# players.groupby(\"ezlvl\")[\"time\"] \\\n",
    "#   .agg([\"sum\", \"mean\"])"
   ]
  },
  {
   "cell_type": "code",
   "execution_count": 59,
   "id": "7ba12420-1e8a-47d7-93b0-5425bb65100d",
   "metadata": {},
   "outputs": [],
   "source": [
    "# # ALT2. expression inside parentheses\n",
    "# (players\n",
    "#   .groupby(\"ezlvl\")[\"time\"]\n",
    "#   .agg([\"sum\", \"mean\", \"max\"])\n",
    "# )"
   ]
  },
  {
   "cell_type": "code",
   "execution_count": null,
   "id": "283b9332-17c9-4049-88ca-2992e81579b1",
   "metadata": {},
   "outputs": [],
   "source": []
  },
  {
   "cell_type": "code",
   "execution_count": null,
   "id": "cf70e9b0-318b-473c-abfe-131ee06be87c",
   "metadata": {},
   "outputs": [],
   "source": []
  },
  {
   "cell_type": "markdown",
   "id": "699a6b63-e0b2-4b4a-9a4e-6761ac3e6274",
   "metadata": {},
   "source": [
    "## Data visualization with Seaborn"
   ]
  },
  {
   "cell_type": "markdown",
   "id": "f38dfe28-9eca-4b8b-9443-4f97fcb6c9a9",
   "metadata": {},
   "source": [
    "The first step is to import the `seaboarn` module\n",
    "under the alias `sns`."
   ]
  },
  {
   "cell_type": "code",
   "execution_count": 60,
   "id": "fa7acf92-e668-4c95-8e3b-bd63e2f51afc",
   "metadata": {},
   "outputs": [],
   "source": [
    "import seaborn as sns"
   ]
  },
  {
   "cell_type": "markdown",
   "id": "37893d72-5f29-4250-8de4-51e5777ba977",
   "metadata": {},
   "source": [
    "If you get an error when running this code cell,\n",
    "run `%pip install seaborn` to install the Seaborn library."
   ]
  },
  {
   "cell_type": "code",
   "execution_count": 61,
   "id": "6a789a86-372c-494e-b9e4-e5422430243b",
   "metadata": {},
   "outputs": [
    {
     "data": {
      "text/plain": [
       "<Axes: xlabel='time'>"
      ]
     },
     "execution_count": 61,
     "metadata": {},
     "output_type": "execute_result"
    },
    {
     "data": {
      "image/png": "[encoded data removed]",
      "text/plain": [
       "<Figure size 500x160 with 1 Axes>"
      ]
     },
     "metadata": {
      "image/png": {
       "height": 185,
       "width": 407
      }
     },
     "output_type": "display_data"
    }
   ],
   "source": [
    "times = players[\"time\"]\n",
    "sns.stripplot(x=times)"
   ]
  },
  {
   "cell_type": "code",
   "execution_count": 62,
   "id": "9908e51b-ad9a-4d93-b1ac-bb8e626e9a08",
   "metadata": {},
   "outputs": [
    {
     "data": {
      "text/plain": [
       "<Axes: xlabel='time'>"
      ]
     },
     "execution_count": 62,
     "metadata": {},
     "output_type": "execute_result"
    },
    {
     "data": {
      "image/png": "[encoded data removed]",
      "text/plain": [
       "<Figure size 500x160 with 1 Axes>"
      ]
     },
     "metadata": {
      "image/png": {
       "height": 185,
       "width": 407
      }
     },
     "output_type": "display_data"
    }
   ],
   "source": [
    "sns.stripplot(data=players, x=\"time\")"
   ]
  },
  {
   "cell_type": "code",
   "execution_count": 63,
   "id": "aea8478f-28f7-4cab-acf6-5becf8f0c64b",
   "metadata": {},
   "outputs": [
    {
     "data": {
      "text/plain": [
       "<Axes: xlabel='time'>"
      ]
     },
     "execution_count": 63,
     "metadata": {},
     "output_type": "execute_result"
    },
    {
     "data": {
      "image/png": "[encoded data removed]",
      "text/plain": [
       "<Figure size 500x160 with 1 Axes>"
      ]
     },
     "metadata": {
      "image/png": {
       "height": 185,
       "width": 407
      }
     },
     "output_type": "display_data"
    }
   ],
   "source": [
    "sns.stripplot(data=players, x=\"time\", hue=\"ezlvl\")"
   ]
  },
  {
   "cell_type": "code",
   "execution_count": null,
   "id": "9cd286a2-ca33-4362-b1da-8d66f80e32f6",
   "metadata": {},
   "outputs": [],
   "source": []
  },
  {
   "cell_type": "code",
   "execution_count": null,
   "id": "cc3b5c28-e121-4bbf-b931-1f2017883abb",
   "metadata": {},
   "outputs": [],
   "source": []
  },
  {
   "cell_type": "code",
   "execution_count": 64,
   "id": "d640d921-c4b0-426c-a3d0-2665f46f15df",
   "metadata": {},
   "outputs": [
    {
     "name": "stdout",
     "output_type": "stream",
     "text": [
      "Saved figure to figures/data/practice/players-striplot-time.pdf\n",
      "Saved figure to figures/data/practice/players-striplot-time.png\n"
     ]
    },
    {
     "data": {
      "image/png": "[encoded data removed]",
      "text/plain": [
       "<Figure size 500x180 with 1 Axes>"
      ]
     },
     "metadata": {
      "image/png": {
       "height": 171,
       "width": 491
      }
     },
     "output_type": "display_data"
    }
   ],
   "source": [
    "# figures only\n",
    "filename = os.path.join(DESTDIR, \"players-striplot-time.pdf\")\n",
    "\n",
    "with plt.rc_context({\"figure.figsize\":(5,1.8)}):\n",
    "    fig, ax = plt.subplots()\n",
    "    sns.stripplot(x=\"time\", data=players, jitter=0, ax=ax, alpha=0.7)\n",
    "    ax.set_xticks([0, 50, 100, 150, 200, 250, 300, 350, 400])\n",
    "\n",
    "savefigure(fig, filename)"
   ]
  },
  {
   "cell_type": "code",
   "execution_count": 65,
   "id": "38a4214b-2f85-4b46-bb2e-f8bdaac1d0f7",
   "metadata": {},
   "outputs": [
    {
     "name": "stdout",
     "output_type": "stream",
     "text": [
      "Saved figure to figures/data/practice/players-striplot-time-hue-ezlvl.pdf\n",
      "Saved figure to figures/data/practice/players-striplot-time-hue-ezlvl.png\n"
     ]
    },
    {
     "data": {
      "image/png": "[encoded data removed]",
      "text/plain": [
       "<Figure size 500x180 with 1 Axes>"
      ]
     },
     "metadata": {
      "image/png": {
       "height": 171,
       "width": 491
      }
     },
     "output_type": "display_data"
    }
   ],
   "source": [
    "# figures only\n",
    "filename = os.path.join(DESTDIR, \"players-striplot-time-hue-ezlvl.pdf\")\n",
    "\n",
    "with plt.rc_context({\"figure.figsize\":(5,1.8)}):\n",
    "    fig, ax = plt.subplots()\n",
    "    sns.stripplot(x=\"time\", hue=\"ezlvl\", data=players, jitter=0, ax=ax, alpha=0.7)\n",
    "    ax.set_xticks([0, 50, 100, 150, 200, 250, 300, 350, 400])\n",
    "    \n",
    "    # set lengend\n",
    "    leg2 = ax.get_legend()\n",
    "    handles_dict = {handle.get_label(): handle for handle in leg2.legend_handles}\n",
    "    handles = []\n",
    "    for label_index in [\"0\", \"1\"]:\n",
    "        handles.append(handles_dict[label_index])\n",
    "    labels = [\"ezlvl = 0\", \"ezlvl = 1\"]\n",
    "    ax.legend(handles, labels)\n",
    "\n",
    "savefigure(fig, filename)"
   ]
  },
  {
   "cell_type": "code",
   "execution_count": null,
   "id": "9dcd3d10-da4a-4f6c-9a1e-d4c96be1225e",
   "metadata": {},
   "outputs": [],
   "source": []
  },
  {
   "cell_type": "markdown",
   "id": "c7a467e4-a930-4297-9690-96fa85963186",
   "metadata": {},
   "source": [
    "### Studying the effect of `ezlvl` on `time`\n",
    "\n",
    "The players dataset was collected as part of an experiment\n",
    "designed to answer the question \"Does the easy first level lead to an improvement in user retention?\"\n",
    "We want to compare the `time` variable (total time players spent in the game)\n",
    "of players who were shown the \"easy level\" version of the game (`ezlvl==1`)\n",
    "to the control group of played who played the regular vesion of the game (`ezlvl==0`)."
   ]
  },
  {
   "cell_type": "code",
   "execution_count": 66,
   "id": "8d45e9a2-504a-4a5a-91b5-e66f530abc14",
   "metadata": {},
   "outputs": [
    {
     "data": {
      "text/plain": [
       "242.17333333333332"
      ]
     },
     "execution_count": 66,
     "metadata": {},
     "output_type": "execute_result"
    }
   ],
   "source": [
    "mean0 = players[players[\"ezlvl\"]==0][\"time\"].mean()\n",
    "mean0"
   ]
  },
  {
   "cell_type": "code",
   "execution_count": 67,
   "id": "4e9d22f3-3334-4a8e-94a2-213a41b0e837",
   "metadata": {},
   "outputs": [
    {
     "data": {
      "text/plain": [
       "257.34166666666664"
      ]
     },
     "execution_count": 67,
     "metadata": {},
     "output_type": "execute_result"
    }
   ],
   "source": [
    "mean1 = players[players[\"ezlvl\"]==1][\"time\"].mean()\n",
    "mean1"
   ]
  },
  {
   "cell_type": "code",
   "execution_count": 68,
   "id": "6de697f5-aadc-4376-8185-b4c85d95598c",
   "metadata": {},
   "outputs": [
    {
     "data": {
      "text/plain": [
       "<Axes: xlabel='time', ylabel='ezlvl'>"
      ]
     },
     "execution_count": 68,
     "metadata": {},
     "output_type": "execute_result"
    },
    {
     "data": {
      "image/png": "[encoded data removed]",
      "text/plain": [
       "<Figure size 500x160 with 1 Axes>"
      ]
     },
     "metadata": {
      "image/png": {
       "height": 185,
       "width": 444
      }
     },
     "output_type": "display_data"
    }
   ],
   "source": [
    "sns.stripplot(data=players, x=\"time\", y=\"ezlvl\",\n",
    "              hue=\"ezlvl\", orient=\"h\", legend=None)"
   ]
  },
  {
   "cell_type": "code",
   "execution_count": 69,
   "id": "2af9c99b-f789-4286-92c6-849900eb597f",
   "metadata": {},
   "outputs": [
    {
     "data": {
      "text/plain": [
       "<Axes: xlabel='time', ylabel='ezlvl'>"
      ]
     },
     "execution_count": 69,
     "metadata": {},
     "output_type": "execute_result"
    },
    {
     "data": {
      "image/png": "[encoded data removed]",
      "text/plain": [
       "<Figure size 500x160 with 1 Axes>"
      ]
     },
     "metadata": {
      "image/png": {
       "height": 185,
       "width": 444
      }
     },
     "output_type": "display_data"
    }
   ],
   "source": [
    "ax = sns.stripplot(data=players, x=\"time\", y=\"ezlvl\", hue=\"ezlvl\", orient=\"h\", legend=None)\n",
    "sns.stripplot(x=[mean0], y=[0], marker=\"D\", orient=\"h\", color=\"b\", ax=ax)\n",
    "sns.stripplot(x=[mean1], y=[1], marker=\"D\", orient=\"h\", color=\"r\", ax=ax)"
   ]
  },
  {
   "cell_type": "code",
   "execution_count": null,
   "id": "f924d200-5cd5-4229-b164-cd09edda1ddc",
   "metadata": {},
   "outputs": [],
   "source": []
  },
  {
   "cell_type": "code",
   "execution_count": 70,
   "id": "2bdd0f15-565e-47a7-8ce1-a5deae2f1e69",
   "metadata": {},
   "outputs": [
    {
     "name": "stdout",
     "output_type": "stream",
     "text": [
      "Saved figure to figures/data/practice/players-stripplot-x-time-y-ezlvl-with-means.pdf\n",
      "Saved figure to figures/data/practice/players-stripplot-x-time-y-ezlvl-with-means.png\n"
     ]
    },
    {
     "data": {
      "image/png": "[encoded data removed]",
      "text/plain": [
       "<Figure size 500x160 with 1 Axes>"
      ]
     },
     "metadata": {
      "image/png": {
       "height": 151,
       "width": 492
      }
     },
     "output_type": "display_data"
    }
   ],
   "source": [
    "# figures only\n",
    "filename = os.path.join(DESTDIR, \"players-stripplot-x-time-y-ezlvl-with-means.pdf\")\n",
    "\n",
    "means = players.groupby(\"ezlvl\")[\"time\"].mean()\n",
    "\n",
    "ax = sns.stripplot(data=players, x=\"time\", y=\"ezlvl\", hue=\"ezlvl\",\n",
    "                   jitter=0, orient=\"h\", alpha=0.6)\n",
    "sns.stripplot(x=[means[1]], y=[1], marker=\"D\", orient=\"h\", s=6, ax=ax, color=orange)\n",
    "sns.stripplot(x=[means[0]], y=[0], marker=\"D\", orient=\"h\", s=6, ax=ax, color=blue)\n",
    "ax.get_legend().remove()\n",
    "ax.set_xlim([0,430])\n",
    "ax.set_ylim([-0.3,1.3])\n",
    "ax.set_yticks([0,1])\n",
    "ax.set_yticklabels([0,1])\n",
    "\n",
    "savefigure(ax, filename)"
   ]
  },
  {
   "cell_type": "code",
   "execution_count": null,
   "id": "4950cb40-ea4a-4a04-849e-cf666959d6eb",
   "metadata": {},
   "outputs": [],
   "source": []
  },
  {
   "cell_type": "code",
   "execution_count": null,
   "id": "c074031c-d966-4d41-a94d-566152d40e7a",
   "metadata": {},
   "outputs": [],
   "source": []
  },
  {
   "cell_type": "markdown",
   "id": "e7e01c96-885b-4325-8fad-6ea3fd668c2e",
   "metadata": {},
   "source": [
    "### Studying the relationship between `age` and `time`\n",
    "\n",
    "The secondary research question,\n",
    "is to look for a correlation between the `age` variable and the `time` variable."
   ]
  },
  {
   "cell_type": "code",
   "execution_count": 71,
   "id": "d26962ff-7d7a-47ea-9e0b-c5fb2d575fb3",
   "metadata": {},
   "outputs": [
    {
     "data": {
      "text/plain": [
       "<Axes: xlabel='age', ylabel='time'>"
      ]
     },
     "execution_count": 71,
     "metadata": {},
     "output_type": "execute_result"
    },
    {
     "data": {
      "image/png": "[encoded data removed]",
      "text/plain": [
       "<Figure size 500x160 with 1 Axes>"
      ]
     },
     "metadata": {
      "image/png": {
       "height": 185,
       "width": 456
      }
     },
     "output_type": "display_data"
    }
   ],
   "source": [
    "sns.scatterplot(data=players, x=\"age\", y=\"time\")"
   ]
  },
  {
   "cell_type": "code",
   "execution_count": 72,
   "id": "27358723-2590-41cb-bc3c-f02372f2aa6f",
   "metadata": {},
   "outputs": [
    {
     "data": {
      "text/plain": [
       "<Axes: xlabel='age', ylabel='time'>"
      ]
     },
     "execution_count": 72,
     "metadata": {},
     "output_type": "execute_result"
    },
    {
     "data": {
      "image/png": "[encoded data removed]",
      "text/plain": [
       "<Figure size 500x160 with 1 Axes>"
      ]
     },
     "metadata": {
      "image/png": {
       "height": 185,
       "width": 456
      }
     },
     "output_type": "display_data"
    }
   ],
   "source": [
    "sns.regplot(data=players, x=\"age\", y=\"time\", ci=None)"
   ]
  },
  {
   "cell_type": "code",
   "execution_count": 73,
   "id": "54749d20-f7fb-4c8e-a87c-38bb1d0b4feb",
   "metadata": {},
   "outputs": [
    {
     "name": "stdout",
     "output_type": "stream",
     "text": [
      "Saved figure to figures/data/practice/players-time-vs-age-scatterplot-and-regplot.pdf\n",
      "Saved figure to figures/data/practice/players-time-vs-age-scatterplot-and-regplot.png\n"
     ]
    },
    {
     "data": {
      "image/png": "[encoded data removed]",
      "text/plain": [
       "<Figure size 700x300 with 2 Axes>"
      ]
     },
     "metadata": {
      "image/png": {
       "height": 292,
       "width": 692
      }
     },
     "output_type": "display_data"
    }
   ],
   "source": [
    "# figures only\n",
    "filename = os.path.join(DESTDIR, \"players-time-vs-age-scatterplot-and-regplot.pdf\")\n",
    "\n",
    "with plt.rc_context({\"figure.figsize\":(7,3)}): #, sns.axes_style(\"ticks\"):\n",
    "    fig, (ax1, ax2) = plt.subplots(1, 2)\n",
    "\n",
    "    # (a)\n",
    "    sns.scatterplot(x=\"age\", y=\"time\", data=players, ax=ax1)\n",
    "    ax1.set_title(\"(a) Scatter plot of time versus age\")\n",
    "\n",
    "    # (b)\n",
    "    sns.regplot(x=\"age\", y=\"time\", ci=None, data=players, ax=ax2)\n",
    "    ax2.set_title(\"(b) Linear regression model of time versus age\")\n",
    "\n",
    "savefigure(fig, filename)"
   ]
  },
  {
   "cell_type": "code",
   "execution_count": null,
   "id": "7eba04b0-32dd-4419-a0d6-aef9785449a6",
   "metadata": {},
   "outputs": [],
   "source": []
  },
  {
   "cell_type": "markdown",
   "id": "a2b7d979-753f-4a23-944b-f6a429a3a7ea",
   "metadata": {},
   "source": [
    "## Real-world datasets"
   ]
  },
  {
   "cell_type": "code",
   "execution_count": 74,
   "id": "537b5bc1-4e11-467a-8d3f-3b37ad8c0835",
   "metadata": {},
   "outputs": [],
   "source": [
    "# figures only\n",
    "datasets_list = [\n",
    "    {\n",
    "        \"index\": \"\",\n",
    "        \"filename\": 'players.csv',\n",
    "        \"sections\": \"1.1, 1.2\",\n",
    "        \"uses\": \"Intro to Pandas and Seaborn\",\n",
    "     },\n",
    "    {\n",
    "        \"index\":1,\n",
    "        \"filename\": 'apples.csv',\n",
    "        \"client name\": \"Alice\",\n",
    "        \"sections\": \"3.1, 3.2\",\n",
    "        \"uses\": \"Estimation\",\n",
    "     },\n",
    "    {\n",
    "        \"index\":2,\n",
    "        \"filename\": 'eprices.csv',\n",
    "        \"client name\": \"Bob\",\n",
    "        \"sections\": \"3.1, 3.5\",\n",
    "        \"uses\": \"Esimtation and hypothesis testing\",\n",
    "     },\n",
    "    {\n",
    "        \"index\":3,\n",
    "        \"filename\": 'students.csv',\n",
    "        \"client name\": \"Charlotte\",\n",
    "        \"sections\": \"1.3, 3.1, 3.5, 4.1\",\n",
    "        \"uses\": \"Descr. stats and hypothesis testing\",\n",
    "    },\n",
    "    {\n",
    "        \"index\":4,\n",
    "        \"filename\": 'kombucha.csv',\n",
    "        \"client name\": \"Khalid\",\n",
    "        \"sections\": \"3.1, 3.2, 3.3, 3.4\",\n",
    "        \"uses\": \"Estimation and hypothesis testing\",\n",
    "     },\n",
    "    {\n",
    "        \"index\":5,\n",
    "        \"filename\": 'doctors.csv',\n",
    "        \"client name\": \"Dan\",\n",
    "        \"sections\": \"3.1, 3.2, 3.5, 4.1\",\n",
    "        \"uses\": \"Hypothesis testing\",\n",
    "     },\n",
    "    {\n",
    "        \"index\":6,\n",
    "        \"filename\": 'visitors.csv',\n",
    "        \"client name\": \"Vanessa\",\n",
    "        \"sections\": \"3.6\",\n",
    "        \"uses\": \"Test of two proportions\",\n",
    "     },\n",
    "    {\n",
    "        \"index\": \"\",\n",
    "        \"filename\": 'minimal.csv',\n",
    "        \"shape\": \"5x4\",\n",
    "        \"sections\": \"Appendix D\",\n",
    "        \"uses\": \"Pandas data frame maniulations\",\n",
    "    },\n",
    "]\n",
    "\n",
    "# fill in directory\n",
    "for ds in datasets_list:\n",
    "    if not \"directory\" in ds:\n",
    "        ds[\"directory\"] = \"datasets/\"\n",
    "\n",
    "# calculate shape\n",
    "for ds in datasets_list:\n",
    "    ds_path = os.path.join(\"..\", ds[\"directory\"], ds[\"filename\"])\n",
    "    ds_df = pd.read_csv(ds_path)\n",
    "    ds[\"shape\"] = str(ds_df.shape[0]) + \"x\" + str(ds_df.shape[1])\n",
    "\n",
    "# wrap filenames in \\tt\n",
    "for ds in datasets_list:\n",
    "    filename = ds[\"filename\"]\n",
    "    ds[\"filename\"] = r\"\\tt{\" + filename + \"}\"\n",
    "\n",
    "datasets_df = pd.DataFrame(datasets_list)\n",
    "datasets_df = datasets_df[[\n",
    "    \"index\",\n",
    "    \"client name\",\n",
    "    \"filename\",\n",
    "    \"shape\",\n",
    "    \"sections\",\n",
    "]]\n",
    "\n",
    "pd.set_option('display.width', 400)\n",
    "# print(datasets_df.to_latex(index=False, escape=False))"
   ]
  },
  {
   "cell_type": "code",
   "execution_count": null,
   "id": "24f738f4-8298-4455-8aac-5c66ee34e695",
   "metadata": {},
   "outputs": [],
   "source": []
  },
  {
   "cell_type": "code",
   "execution_count": null,
   "id": "c612ded3-5060-4afc-aefd-90182e6ddb65",
   "metadata": {},
   "outputs": [],
   "source": []
  },
  {
   "cell_type": "markdown",
   "id": "8c3c5b69-0c71-4fa5-bcea-489b3d468dc3",
   "metadata": {},
   "source": [
    "### Apple weights"
   ]
  },
  {
   "cell_type": "code",
   "execution_count": 75,
   "id": "e1cecebc-3faf-4115-b970-c1557b15f60c",
   "metadata": {},
   "outputs": [
    {
     "data": {
      "text/plain": [
       "(30, 1)"
      ]
     },
     "execution_count": 75,
     "metadata": {},
     "output_type": "execute_result"
    }
   ],
   "source": [
    "apples = pd.read_csv(\"../datasets/apples.csv\")\n",
    "apples.shape"
   ]
  },
  {
   "cell_type": "code",
   "execution_count": 76,
   "id": "a5f2a3cd-771d-448b-a18a-001508722d9b",
   "metadata": {},
   "outputs": [
    {
     "data": {
      "text/html": [
       "<div>\n",
       "<style scoped>\n",
       "    .dataframe tbody tr th:only-of-type {\n",
       "        vertical-align: middle;\n",
       "    }\n",
       "\n",
       "    .dataframe tbody tr th {\n",
       "        vertical-align: top;\n",
       "    }\n",
       "\n",
       "    .dataframe thead th {\n",
       "        text-align: right;\n",
       "    }\n",
       "</style>\n",
       "<table border=\"1\" class=\"dataframe\">\n",
       "  <thead>\n",
       "    <tr style=\"text-align: right;\">\n",
       "      <th></th>\n",
       "      <th>weight</th>\n",
       "    </tr>\n",
       "  </thead>\n",
       "  <tbody>\n",
       "    <tr>\n",
       "      <th>0</th>\n",
       "      <td>205.0</td>\n",
       "    </tr>\n",
       "    <tr>\n",
       "      <th>1</th>\n",
       "      <td>182.0</td>\n",
       "    </tr>\n",
       "    <tr>\n",
       "      <th>2</th>\n",
       "      <td>192.0</td>\n",
       "    </tr>\n",
       "  </tbody>\n",
       "</table>\n",
       "</div>"
      ],
      "text/plain": [
       "   weight\n",
       "0   205.0\n",
       "1   182.0\n",
       "2   192.0"
      ]
     },
     "execution_count": 76,
     "metadata": {},
     "output_type": "execute_result"
    }
   ],
   "source": [
    "apples.head(3)"
   ]
  },
  {
   "cell_type": "code",
   "execution_count": 77,
   "id": "2327178c-2c42-4301-901c-2ff8c3744a3f",
   "metadata": {},
   "outputs": [
    {
     "data": {
      "text/plain": [
       "202.6"
      ]
     },
     "execution_count": 77,
     "metadata": {},
     "output_type": "execute_result"
    }
   ],
   "source": [
    "apples['weight'].mean()"
   ]
  },
  {
   "cell_type": "code",
   "execution_count": 78,
   "id": "d9fd7ae8-73e5-4a03-b647-de96746490c0",
   "metadata": {},
   "outputs": [
    {
     "data": {
      "text/plain": [
       "<Axes: xlabel='weight'>"
      ]
     },
     "execution_count": 78,
     "metadata": {},
     "output_type": "execute_result"
    },
    {
     "data": {
      "image/png": "[encoded data removed]",
      "text/plain": [
       "<Figure size 500x160 with 1 Axes>"
      ]
     },
     "metadata": {
      "image/png": {
       "height": 186,
       "width": 407
      }
     },
     "output_type": "display_data"
    }
   ],
   "source": [
    "sns.stripplot(data=apples, x=\"weight\", jitter=0, alpha=0.5)"
   ]
  },
  {
   "cell_type": "code",
   "execution_count": 79,
   "id": "d48f962a-2dd7-4d24-b48f-7407b487c9fb",
   "metadata": {},
   "outputs": [
    {
     "name": "stdout",
     "output_type": "stream",
     "text": [
      "Saved figure to figures/data/practice/apples-stripplot-weight.pdf\n",
      "Saved figure to figures/data/practice/apples-stripplot-weight.png\n"
     ]
    },
    {
     "data": {
      "image/png": "[encoded data removed]",
      "text/plain": [
       "<Figure size 600x120 with 1 Axes>"
      ]
     },
     "metadata": {
      "image/png": {
       "height": 112,
       "width": 591
      }
     },
     "output_type": "display_data"
    }
   ],
   "source": [
    "# figures only\n",
    "filename = os.path.join(DESTDIR, \"apples-stripplot-weight.pdf\")\n",
    "with plt.rc_context({\"figure.figsize\":(6,1.2)}):\n",
    "    fig, ax = plt.subplots()\n",
    "    sns.stripplot(data=apples, x=\"weight\", jitter=0, alpha=0.5)\n",
    "savefigure(fig, filename)"
   ]
  },
  {
   "cell_type": "code",
   "execution_count": null,
   "id": "5ff1f730-fce3-4426-9e3a-faa912a4f6d9",
   "metadata": {},
   "outputs": [],
   "source": []
  },
  {
   "cell_type": "markdown",
   "id": "4386be8e-e22f-4e27-be40-e5cc902f1935",
   "metadata": {},
   "source": [
    "### Electricity prices"
   ]
  },
  {
   "cell_type": "code",
   "execution_count": 80,
   "id": "e1cb38b5-9e33-43d2-8df5-02651f15c97f",
   "metadata": {},
   "outputs": [
    {
     "data": {
      "text/plain": [
       "(18, 2)"
      ]
     },
     "execution_count": 80,
     "metadata": {},
     "output_type": "execute_result"
    }
   ],
   "source": [
    "eprices = pd.read_csv(\"../datasets/eprices.csv\")\n",
    "eprices.shape"
   ]
  },
  {
   "cell_type": "code",
   "execution_count": 114,
   "id": "09c27ccf-d3c3-4ffc-921f-0b6d0486de61",
   "metadata": {},
   "outputs": [
    {
     "name": "stdout",
     "output_type": "stream",
     "text": [
      "    loc  price\n",
      "0  East    7.7\n",
      "1  East    5.9\n",
      "2  East    7.0\n"
     ]
    }
   ],
   "source": [
    "print(eprices.head(3))"
   ]
  },
  {
   "cell_type": "code",
   "execution_count": 115,
   "id": "87061594-370f-4cb2-8272-b4853199b121",
   "metadata": {},
   "outputs": [
    {
     "name": "stdout",
     "output_type": "stream",
     "text": [
      "     loc  price\n",
      "15  West    8.0\n",
      "16  West    6.8\n",
      "17  West    8.5\n"
     ]
    }
   ],
   "source": [
    "eprices.tail(3)"
   ]
  },
  {
   "cell_type": "code",
   "execution_count": 112,
   "id": "feff15c1-db38-4d6c-a3c0-d5720ecff559",
   "metadata": {},
   "outputs": [
    {
     "data": {
      "text/plain": [
       "<Axes: xlabel='price', ylabel='loc'>"
      ]
     },
     "execution_count": 112,
     "metadata": {},
     "output_type": "execute_result"
    },
    {
     "data": {
      "image/png": "[encoded data removed]",
      "text/plain": [
       "<Figure size 500x160 with 1 Axes>"
      ]
     },
     "metadata": {
      "image/png": {
       "height": 185,
       "width": 464
      }
     },
     "output_type": "display_data"
    }
   ],
   "source": [
    "sns.stripplot(data=eprices, x=\"price\", y=\"loc\", hue=\"loc\")"
   ]
  },
  {
   "cell_type": "code",
   "execution_count": 83,
   "id": "a878114b-3459-4562-a32a-dbbaf53081ac",
   "metadata": {},
   "outputs": [
    {
     "name": "stdout",
     "output_type": "stream",
     "text": [
      "Saved figure to figures/data/practice/eprices-stripplot-price-vs-loc.pdf\n",
      "Saved figure to figures/data/practice/eprices-stripplot-price-vs-loc.png\n"
     ]
    },
    {
     "data": {
      "image/png": "[encoded data removed]",
      "text/plain": [
       "<Figure size 500x200 with 1 Axes>"
      ]
     },
     "metadata": {
      "image/png": {
       "height": 191,
       "width": 492
      }
     },
     "output_type": "display_data"
    }
   ],
   "source": [
    "# figures only\n",
    "filename = os.path.join(DESTDIR, \"eprices-stripplot-price-vs-loc.pdf\")\n",
    "with plt.rc_context({\"figure.figsize\":(5,2)}):\n",
    "    fig, ax = plt.subplots()\n",
    "    sns.stripplot(data=eprices, x=\"price\", y=\"loc\", hue=\"loc\", jitter=0, alpha=0.5)\n",
    "savefigure(fig, filename)"
   ]
  },
  {
   "cell_type": "code",
   "execution_count": null,
   "id": "1e47d385-0ef6-4538-8c05-3a12e0fe5d95",
   "metadata": {},
   "outputs": [],
   "source": []
  },
  {
   "cell_type": "markdown",
   "id": "0cc55870-00cc-4f1c-b1ce-c5e479d70dc6",
   "metadata": {},
   "source": [
    "### Students' scores"
   ]
  },
  {
   "cell_type": "code",
   "execution_count": 84,
   "id": "1e22cee9-59fd-4747-9e52-6392336ac9dd",
   "metadata": {},
   "outputs": [
    {
     "data": {
      "text/plain": [
       "(15, 5)"
      ]
     },
     "execution_count": 84,
     "metadata": {},
     "output_type": "execute_result"
    }
   ],
   "source": [
    "students = pd.read_csv(\"../datasets/students.csv\")\n",
    "students.shape"
   ]
  },
  {
   "cell_type": "code",
   "execution_count": 85,
   "id": "71bc6a1f-f84b-4b03-b734-298a0c666865",
   "metadata": {},
   "outputs": [],
   "source": [
    "# students"
   ]
  },
  {
   "cell_type": "code",
   "execution_count": 86,
   "id": "f28b6f0d-3f42-43cc-af80-d6897f33e335",
   "metadata": {},
   "outputs": [
    {
     "data": {
      "text/html": [
       "<div>\n",
       "<style scoped>\n",
       "    .dataframe tbody tr th:only-of-type {\n",
       "        vertical-align: middle;\n",
       "    }\n",
       "\n",
       "    .dataframe tbody tr th {\n",
       "        vertical-align: top;\n",
       "    }\n",
       "\n",
       "    .dataframe thead th {\n",
       "        text-align: right;\n",
       "    }\n",
       "</style>\n",
       "<table border=\"1\" class=\"dataframe\">\n",
       "  <thead>\n",
       "    <tr style=\"text-align: right;\">\n",
       "      <th></th>\n",
       "      <th>student_ID</th>\n",
       "      <th>background</th>\n",
       "      <th>curriculum</th>\n",
       "      <th>effort</th>\n",
       "      <th>score</th>\n",
       "    </tr>\n",
       "  </thead>\n",
       "  <tbody>\n",
       "    <tr>\n",
       "      <th>1</th>\n",
       "      <td>2</td>\n",
       "      <td>science</td>\n",
       "      <td>lecture</td>\n",
       "      <td>8.69</td>\n",
       "      <td>75.0</td>\n",
       "    </tr>\n",
       "    <tr>\n",
       "      <th>3</th>\n",
       "      <td>4</td>\n",
       "      <td>arts</td>\n",
       "      <td>lecture</td>\n",
       "      <td>7.92</td>\n",
       "      <td>70.3</td>\n",
       "    </tr>\n",
       "    <tr>\n",
       "      <th>6</th>\n",
       "      <td>7</td>\n",
       "      <td>science</td>\n",
       "      <td>lecture</td>\n",
       "      <td>7.81</td>\n",
       "      <td>72.7</td>\n",
       "    </tr>\n",
       "    <tr>\n",
       "      <th>7</th>\n",
       "      <td>8</td>\n",
       "      <td>business</td>\n",
       "      <td>lecture</td>\n",
       "      <td>9.13</td>\n",
       "      <td>75.4</td>\n",
       "    </tr>\n",
       "    <tr>\n",
       "      <th>8</th>\n",
       "      <td>9</td>\n",
       "      <td>business</td>\n",
       "      <td>lecture</td>\n",
       "      <td>5.21</td>\n",
       "      <td>57.0</td>\n",
       "    </tr>\n",
       "    <tr>\n",
       "      <th>9</th>\n",
       "      <td>10</td>\n",
       "      <td>science</td>\n",
       "      <td>lecture</td>\n",
       "      <td>7.71</td>\n",
       "      <td>69.0</td>\n",
       "    </tr>\n",
       "    <tr>\n",
       "      <th>13</th>\n",
       "      <td>14</td>\n",
       "      <td>science</td>\n",
       "      <td>lecture</td>\n",
       "      <td>6.39</td>\n",
       "      <td>57.6</td>\n",
       "    </tr>\n",
       "  </tbody>\n",
       "</table>\n",
       "</div>"
      ],
      "text/plain": [
       "    student_ID background curriculum  effort  score\n",
       "1            2    science    lecture    8.69   75.0\n",
       "3            4       arts    lecture    7.92   70.3\n",
       "6            7    science    lecture    7.81   72.7\n",
       "7            8   business    lecture    9.13   75.4\n",
       "8            9   business    lecture    5.21   57.0\n",
       "9           10    science    lecture    7.71   69.0\n",
       "13          14    science    lecture    6.39   57.6"
      ]
     },
     "execution_count": 86,
     "metadata": {},
     "output_type": "execute_result"
    }
   ],
   "source": [
    "students[students[\"curriculum\"]==\"lecture\"]"
   ]
  },
  {
   "cell_type": "code",
   "execution_count": 87,
   "id": "c23ab6ff-a758-466a-807f-2aa763328d25",
   "metadata": {},
   "outputs": [
    {
     "data": {
      "text/plain": [
       "68.14285714285714"
      ]
     },
     "execution_count": 87,
     "metadata": {},
     "output_type": "execute_result"
    }
   ],
   "source": [
    "lscores = students[students[\"curriculum\"]==\"lecture\"][\"score\"]\n",
    "lscores.mean()"
   ]
  },
  {
   "cell_type": "code",
   "execution_count": 88,
   "id": "153c01e5-6c06-4927-b328-0a87ca8ea964",
   "metadata": {},
   "outputs": [
    {
     "data": {
      "text/plain": [
       "76.4625"
      ]
     },
     "execution_count": 88,
     "metadata": {},
     "output_type": "execute_result"
    }
   ],
   "source": [
    "dscores = students[students[\"curriculum\"]==\"debate\"][\"score\"]\n",
    "dscores.mean()"
   ]
  },
  {
   "cell_type": "code",
   "execution_count": 89,
   "id": "b04fc734-5008-44b5-af02-02c561fa54e1",
   "metadata": {},
   "outputs": [
    {
     "data": {
      "text/plain": [
       "<Axes: xlabel='score', ylabel='curriculum'>"
      ]
     },
     "execution_count": 89,
     "metadata": {},
     "output_type": "execute_result"
    },
    {
     "data": {
      "image/png": "[encoded data removed]",
      "text/plain": [
       "<Figure size 500x160 with 1 Axes>"
      ]
     },
     "metadata": {
      "image/png": {
       "height": 185,
       "width": 475
      }
     },
     "output_type": "display_data"
    }
   ],
   "source": [
    "sns.stripplot(data=students, x=\"score\", y=\"curriculum\", hue=\"curriculum\")"
   ]
  },
  {
   "cell_type": "code",
   "execution_count": 90,
   "id": "1f541b8c-8ed7-48e9-8452-490213ce081b",
   "metadata": {},
   "outputs": [
    {
     "name": "stdout",
     "output_type": "stream",
     "text": [
      "Saved figure to figures/data/practice/students-stripplot-score-vs-curriculum.pdf\n",
      "Saved figure to figures/data/practice/students-stripplot-score-vs-curriculum.png\n"
     ]
    },
    {
     "data": {
      "image/png": "[encoded data removed]",
      "text/plain": [
       "<Figure size 500x200 with 1 Axes>"
      ]
     },
     "metadata": {
      "image/png": {
       "height": 191,
       "width": 493
      }
     },
     "output_type": "display_data"
    }
   ],
   "source": [
    "# figures only\n",
    "filename = os.path.join(DESTDIR, \"students-stripplot-score-vs-curriculum.pdf\")\n",
    "with plt.rc_context({\"figure.figsize\":(5,2)}):\n",
    "    fig, ax = plt.subplots()\n",
    "    sns.stripplot(data=students, x=\"score\", y=\"curriculum\", hue=\"curriculum\", jitter=0, alpha=0.5)\n",
    "savefigure(fig, filename)"
   ]
  },
  {
   "cell_type": "code",
   "execution_count": null,
   "id": "ae9b74b6-fc02-4477-a9cb-07165979e0d0",
   "metadata": {},
   "outputs": [],
   "source": []
  },
  {
   "cell_type": "markdown",
   "id": "df516b87-c900-42f7-a239-d6c7a3d819b7",
   "metadata": {},
   "source": [
    "### Kombucha volumes"
   ]
  },
  {
   "cell_type": "code",
   "execution_count": 91,
   "id": "1ddd1d6e-1303-4752-890a-fc060c009bdd",
   "metadata": {},
   "outputs": [
    {
     "data": {
      "text/plain": [
       "(347, 2)"
      ]
     },
     "execution_count": 91,
     "metadata": {},
     "output_type": "execute_result"
    }
   ],
   "source": [
    "kombucha = pd.read_csv(\"../datasets/kombucha.csv\")\n",
    "kombucha.shape"
   ]
  },
  {
   "cell_type": "code",
   "execution_count": 92,
   "id": "bcc7540e-e86c-4684-9eb6-0881e4d8c949",
   "metadata": {},
   "outputs": [
    {
     "data": {
      "text/plain": [
       "Index(['batch', 'volume'], dtype='object')"
      ]
     },
     "execution_count": 92,
     "metadata": {},
     "output_type": "execute_result"
    }
   ],
   "source": [
    "kombucha.columns"
   ]
  },
  {
   "cell_type": "code",
   "execution_count": 93,
   "id": "031a5465-9b35-4193-a4cc-48da41813b6a",
   "metadata": {},
   "outputs": [
    {
     "data": {
      "text/html": [
       "<div>\n",
       "<style scoped>\n",
       "    .dataframe tbody tr th:only-of-type {\n",
       "        vertical-align: middle;\n",
       "    }\n",
       "\n",
       "    .dataframe tbody tr th {\n",
       "        vertical-align: top;\n",
       "    }\n",
       "\n",
       "    .dataframe thead th {\n",
       "        text-align: right;\n",
       "    }\n",
       "</style>\n",
       "<table border=\"1\" class=\"dataframe\">\n",
       "  <thead>\n",
       "    <tr style=\"text-align: right;\">\n",
       "      <th></th>\n",
       "      <th>batch</th>\n",
       "      <th>volume</th>\n",
       "    </tr>\n",
       "  </thead>\n",
       "  <tbody>\n",
       "    <tr>\n",
       "      <th>0</th>\n",
       "      <td>1</td>\n",
       "      <td>1016.24</td>\n",
       "    </tr>\n",
       "    <tr>\n",
       "      <th>1</th>\n",
       "      <td>1</td>\n",
       "      <td>993.88</td>\n",
       "    </tr>\n",
       "    <tr>\n",
       "      <th>2</th>\n",
       "      <td>1</td>\n",
       "      <td>994.72</td>\n",
       "    </tr>\n",
       "  </tbody>\n",
       "</table>\n",
       "</div>"
      ],
      "text/plain": [
       "   batch   volume\n",
       "0      1  1016.24\n",
       "1      1   993.88\n",
       "2      1   994.72"
      ]
     },
     "execution_count": 93,
     "metadata": {},
     "output_type": "execute_result"
    }
   ],
   "source": [
    "kombucha.head(3)"
   ]
  },
  {
   "cell_type": "code",
   "execution_count": 94,
   "id": "b94b55d1-cc63-4d14-9e41-2b904d16cd89",
   "metadata": {},
   "outputs": [
    {
     "data": {
      "text/html": [
       "<div>\n",
       "<style scoped>\n",
       "    .dataframe tbody tr th:only-of-type {\n",
       "        vertical-align: middle;\n",
       "    }\n",
       "\n",
       "    .dataframe tbody tr th {\n",
       "        vertical-align: top;\n",
       "    }\n",
       "\n",
       "    .dataframe thead th {\n",
       "        text-align: right;\n",
       "    }\n",
       "</style>\n",
       "<table border=\"1\" class=\"dataframe\">\n",
       "  <thead>\n",
       "    <tr style=\"text-align: right;\">\n",
       "      <th></th>\n",
       "      <th>batch</th>\n",
       "      <th>volume</th>\n",
       "    </tr>\n",
       "  </thead>\n",
       "  <tbody>\n",
       "    <tr>\n",
       "      <th>344</th>\n",
       "      <td>10</td>\n",
       "      <td>996.62</td>\n",
       "    </tr>\n",
       "    <tr>\n",
       "      <th>345</th>\n",
       "      <td>10</td>\n",
       "      <td>1012.56</td>\n",
       "    </tr>\n",
       "    <tr>\n",
       "      <th>346</th>\n",
       "      <td>10</td>\n",
       "      <td>992.68</td>\n",
       "    </tr>\n",
       "  </tbody>\n",
       "</table>\n",
       "</div>"
      ],
      "text/plain": [
       "     batch   volume\n",
       "344     10   996.62\n",
       "345     10  1012.56\n",
       "346     10   992.68"
      ]
     },
     "execution_count": 94,
     "metadata": {},
     "output_type": "execute_result"
    }
   ],
   "source": [
    "kombucha.tail(3)"
   ]
  },
  {
   "cell_type": "code",
   "execution_count": 95,
   "id": "3938c6e2-908a-43dd-a60b-bf3cc670be1c",
   "metadata": {},
   "outputs": [
    {
     "data": {
      "text/plain": [
       "array([ 1,  2,  3,  4,  5,  6,  7,  8,  9, 10])"
      ]
     },
     "execution_count": 95,
     "metadata": {},
     "output_type": "execute_result"
    }
   ],
   "source": [
    "kombucha[\"batch\"].unique()"
   ]
  },
  {
   "cell_type": "code",
   "execution_count": 96,
   "id": "826f42a6-9796-4e4c-9d74-a426e7a8c9db",
   "metadata": {},
   "outputs": [
    {
     "data": {
      "text/plain": [
       "999.10375"
      ]
     },
     "execution_count": 96,
     "metadata": {},
     "output_type": "execute_result"
    }
   ],
   "source": [
    "batch01 = kombucha[kombucha[\"batch\"]==1]\n",
    "ksample01 = batch01[\"volume\"]\n",
    "ksample01.mean()"
   ]
  },
  {
   "cell_type": "code",
   "execution_count": 97,
   "id": "bcdd1b7e-846e-4fc7-b319-1543f6767d52",
   "metadata": {},
   "outputs": [
    {
     "data": {
      "text/plain": [
       "<Axes: xlabel='batch', ylabel='volume'>"
      ]
     },
     "execution_count": 97,
     "metadata": {},
     "output_type": "execute_result"
    },
    {
     "data": {
      "image/png": "[encoded data removed]",
      "text/plain": [
       "<Figure size 500x160 with 1 Axes>"
      ]
     },
     "metadata": {
      "image/png": {
       "height": 185,
       "width": 462
      }
     },
     "output_type": "display_data"
    }
   ],
   "source": [
    "sns.stripplot(data=kombucha, x=\"batch\", y=\"volume\", alpha=0.3)"
   ]
  },
  {
   "cell_type": "code",
   "execution_count": 98,
   "id": "11bb8a46-30a7-4176-b53a-7181a3b7c3e9",
   "metadata": {},
   "outputs": [
    {
     "name": "stdout",
     "output_type": "stream",
     "text": [
      "Saved figure to figures/data/practice/kombucha-stripplot-all-batches.pdf\n",
      "Saved figure to figures/data/practice/kombucha-stripplot-all-batches.png\n"
     ]
    },
    {
     "data": {
      "image/png": "[encoded data removed]",
      "text/plain": [
       "<Figure size 500x200 with 1 Axes>"
      ]
     },
     "metadata": {
      "image/png": {
       "height": 191,
       "width": 492
      }
     },
     "output_type": "display_data"
    }
   ],
   "source": [
    "# figures only\n",
    "filename = os.path.join(DESTDIR, \"kombucha-stripplot-all-batches.pdf\")\n",
    "with plt.rc_context({\"figure.figsize\":(5,2)}):\n",
    "    fig, ax = plt.subplots()\n",
    "    sns.stripplot(data=kombucha, x=\"batch\", y=\"volume\", alpha=0.3)\n",
    "savefigure(fig, filename)"
   ]
  },
  {
   "cell_type": "code",
   "execution_count": null,
   "id": "f6662db4-1244-4c9c-9a8f-6fc5c5ee65a4",
   "metadata": {},
   "outputs": [],
   "source": []
  },
  {
   "cell_type": "markdown",
   "id": "ef718e0e-3236-4ae2-becb-acc0471ec201",
   "metadata": {},
   "source": [
    "### Doctors' sleep study"
   ]
  },
  {
   "cell_type": "code",
   "execution_count": 99,
   "id": "33707e0f-27dc-4ee6-b9d6-6b285841f11c",
   "metadata": {},
   "outputs": [
    {
     "data": {
      "text/plain": [
       "(224, 4)"
      ]
     },
     "execution_count": 99,
     "metadata": {},
     "output_type": "execute_result"
    }
   ],
   "source": [
    "doctors = pd.read_csv(\"../datasets/doctors.csv\")\n",
    "doctors.shape"
   ]
  },
  {
   "cell_type": "code",
   "execution_count": 100,
   "id": "535253f3-3ac2-4177-a3d4-7399b4d305f8",
   "metadata": {},
   "outputs": [
    {
     "data": {
      "text/html": [
       "<div>\n",
       "<style scoped>\n",
       "    .dataframe tbody tr th:only-of-type {\n",
       "        vertical-align: middle;\n",
       "    }\n",
       "\n",
       "    .dataframe tbody tr th {\n",
       "        vertical-align: top;\n",
       "    }\n",
       "\n",
       "    .dataframe thead th {\n",
       "        text-align: right;\n",
       "    }\n",
       "</style>\n",
       "<table border=\"1\" class=\"dataframe\">\n",
       "  <thead>\n",
       "    <tr style=\"text-align: right;\">\n",
       "      <th></th>\n",
       "      <th>permit</th>\n",
       "      <th>name</th>\n",
       "      <th>location</th>\n",
       "      <th>score</th>\n",
       "    </tr>\n",
       "  </thead>\n",
       "  <tbody>\n",
       "    <tr>\n",
       "      <th>0</th>\n",
       "      <td>93636</td>\n",
       "      <td>Yesenia Smith</td>\n",
       "      <td>urban</td>\n",
       "      <td>82.0</td>\n",
       "    </tr>\n",
       "    <tr>\n",
       "      <th>1</th>\n",
       "      <td>79288</td>\n",
       "      <td>Andrew Stanley</td>\n",
       "      <td>rural</td>\n",
       "      <td>85.0</td>\n",
       "    </tr>\n",
       "    <tr>\n",
       "      <th>2</th>\n",
       "      <td>94980</td>\n",
       "      <td>Jessica Castro</td>\n",
       "      <td>rural</td>\n",
       "      <td>97.0</td>\n",
       "    </tr>\n",
       "  </tbody>\n",
       "</table>\n",
       "</div>"
      ],
      "text/plain": [
       "   permit            name location  score\n",
       "0   93636   Yesenia Smith    urban   82.0\n",
       "1   79288  Andrew Stanley    rural   85.0\n",
       "2   94980  Jessica Castro    rural   97.0"
      ]
     },
     "execution_count": 100,
     "metadata": {},
     "output_type": "execute_result"
    }
   ],
   "source": [
    "doctors.head(3)"
   ]
  },
  {
   "cell_type": "code",
   "execution_count": 101,
   "id": "026fe674-9309-4070-8272-706a291ced4b",
   "metadata": {},
   "outputs": [
    {
     "data": {
      "text/plain": [
       "<Axes: xlabel='score', ylabel='location'>"
      ]
     },
     "execution_count": 101,
     "metadata": {},
     "output_type": "execute_result"
    },
    {
     "data": {
      "image/png": "[encoded data removed]",
      "text/plain": [
       "<Figure size 500x160 with 1 Axes>"
      ]
     },
     "metadata": {
      "image/png": {
       "height": 185,
       "width": 470
      }
     },
     "output_type": "display_data"
    }
   ],
   "source": [
    "sns.stripplot(data=doctors, x=\"score\", y=\"location\", hue=\"location\")"
   ]
  },
  {
   "cell_type": "code",
   "execution_count": 102,
   "id": "e6a98c4d-fbbe-4438-9853-1be1d827452c",
   "metadata": {},
   "outputs": [
    {
     "name": "stdout",
     "output_type": "stream",
     "text": [
      "Saved figure to figures/data/practice/doctors-stripplot-score-vs-location.pdf\n",
      "Saved figure to figures/data/practice/doctors-stripplot-score-vs-location.png\n"
     ]
    },
    {
     "data": {
      "image/png": "[encoded data removed]",
      "text/plain": [
       "<Figure size 600x200 with 1 Axes>"
      ]
     },
     "metadata": {
      "image/png": {
       "height": 191,
       "width": 592
      }
     },
     "output_type": "display_data"
    }
   ],
   "source": [
    "# figures only\n",
    "filename = os.path.join(DESTDIR, \"doctors-stripplot-score-vs-location.pdf\")\n",
    "with plt.rc_context({\"figure.figsize\":(6,2)}):\n",
    "    fig, ax = plt.subplots()\n",
    "    sns.stripplot(data=doctors, x=\"score\", y=\"location\", hue=\"location\", alpha=0.5)\n",
    "savefigure(fig, filename)"
   ]
  },
  {
   "cell_type": "code",
   "execution_count": null,
   "id": "d69f2c91-ce46-4ce6-b735-ed2398ecc265",
   "metadata": {},
   "outputs": [],
   "source": []
  },
  {
   "cell_type": "markdown",
   "id": "60fe5a34-5142-448c-80d8-de73535588c3",
   "metadata": {},
   "source": [
    "#### Average sleep scores for doctors in different locations"
   ]
  },
  {
   "cell_type": "code",
   "execution_count": 103,
   "id": "cc533e20-5dc3-4e47-bc21-a014345fb0e2",
   "metadata": {},
   "outputs": [
    {
     "data": {
      "text/plain": [
       "79.57051282051282"
      ]
     },
     "execution_count": 103,
     "metadata": {},
     "output_type": "execute_result"
    }
   ],
   "source": [
    "udoctors = doctors[doctors[\"location\"]==\"urban\"]\n",
    "udoctors[\"score\"].mean()"
   ]
  },
  {
   "cell_type": "code",
   "execution_count": 104,
   "id": "cd8cc610-939b-4f87-a8f4-261fb4bc73c9",
   "metadata": {},
   "outputs": [
    {
     "data": {
      "text/plain": [
       "81.79411764705883"
      ]
     },
     "execution_count": 104,
     "metadata": {},
     "output_type": "execute_result"
    }
   ],
   "source": [
    "rdoctors = doctors[doctors[\"location\"]==\"rural\"]\n",
    "rdoctors[\"score\"].mean()"
   ]
  },
  {
   "cell_type": "code",
   "execution_count": null,
   "id": "ff1f681d-2903-415f-8922-90f53bf5c9da",
   "metadata": {},
   "outputs": [],
   "source": []
  },
  {
   "cell_type": "markdown",
   "id": "e43bd2b8-0957-4390-846b-0913fc56e802",
   "metadata": {},
   "source": [
    "### Website visitors"
   ]
  },
  {
   "cell_type": "code",
   "execution_count": 105,
   "id": "5a297df3-0e5d-4c41-878d-2f5c0d58e676",
   "metadata": {},
   "outputs": [
    {
     "data": {
      "text/plain": [
       "(2000, 3)"
      ]
     },
     "execution_count": 105,
     "metadata": {},
     "output_type": "execute_result"
    }
   ],
   "source": [
    "visitors = pd.read_csv(\"../datasets/visitors.csv\")\n",
    "visitors.shape"
   ]
  },
  {
   "cell_type": "code",
   "execution_count": 106,
   "id": "38897d8c-5284-45c0-bd5e-889a3651412f",
   "metadata": {},
   "outputs": [
    {
     "data": {
      "text/html": [
       "<div>\n",
       "<style scoped>\n",
       "    .dataframe tbody tr th:only-of-type {\n",
       "        vertical-align: middle;\n",
       "    }\n",
       "\n",
       "    .dataframe tbody tr th {\n",
       "        vertical-align: top;\n",
       "    }\n",
       "\n",
       "    .dataframe thead th {\n",
       "        text-align: right;\n",
       "    }\n",
       "</style>\n",
       "<table border=\"1\" class=\"dataframe\">\n",
       "  <thead>\n",
       "    <tr style=\"text-align: right;\">\n",
       "      <th></th>\n",
       "      <th>IP address</th>\n",
       "      <th>version</th>\n",
       "      <th>bought</th>\n",
       "    </tr>\n",
       "  </thead>\n",
       "  <tbody>\n",
       "    <tr>\n",
       "      <th>0</th>\n",
       "      <td>135.185.92.4</td>\n",
       "      <td>A</td>\n",
       "      <td>0</td>\n",
       "    </tr>\n",
       "    <tr>\n",
       "      <th>1</th>\n",
       "      <td>14.75.235.1</td>\n",
       "      <td>A</td>\n",
       "      <td>1</td>\n",
       "    </tr>\n",
       "    <tr>\n",
       "      <th>2</th>\n",
       "      <td>50.132.244.139</td>\n",
       "      <td>B</td>\n",
       "      <td>0</td>\n",
       "    </tr>\n",
       "    <tr>\n",
       "      <th>3</th>\n",
       "      <td>144.181.130.234</td>\n",
       "      <td>A</td>\n",
       "      <td>0</td>\n",
       "    </tr>\n",
       "    <tr>\n",
       "      <th>4</th>\n",
       "      <td>90.92.5.100</td>\n",
       "      <td>B</td>\n",
       "      <td>0</td>\n",
       "    </tr>\n",
       "  </tbody>\n",
       "</table>\n",
       "</div>"
      ],
      "text/plain": [
       "        IP address version  bought\n",
       "0     135.185.92.4       A       0\n",
       "1      14.75.235.1       A       1\n",
       "2   50.132.244.139       B       0\n",
       "3  144.181.130.234       A       0\n",
       "4      90.92.5.100       B       0"
      ]
     },
     "execution_count": 106,
     "metadata": {},
     "output_type": "execute_result"
    }
   ],
   "source": [
    "visitors.head(5)"
   ]
  },
  {
   "cell_type": "code",
   "execution_count": 107,
   "id": "2b58ae19-f611-4fa7-9dbf-ed4294a719d4",
   "metadata": {},
   "outputs": [
    {
     "data": {
      "text/plain": [
       "0.06482465462274177"
      ]
     },
     "execution_count": 107,
     "metadata": {},
     "output_type": "execute_result"
    }
   ],
   "source": [
    "visitors[visitors[\"version\"]==\"A\"][\"bought\"].mean()"
   ]
  },
  {
   "cell_type": "code",
   "execution_count": 108,
   "id": "cc90aff5-a6e9-49ca-b0cc-3a1232be27cc",
   "metadata": {},
   "outputs": [
    {
     "data": {
      "text/plain": [
       "0.03777148253068933"
      ]
     },
     "execution_count": 108,
     "metadata": {},
     "output_type": "execute_result"
    }
   ],
   "source": [
    "visitors[visitors[\"version\"]==\"B\"][\"bought\"].mean()"
   ]
  },
  {
   "cell_type": "code",
   "execution_count": 109,
   "id": "cd1fdd35-0626-4689-89b7-31bd814d5289",
   "metadata": {},
   "outputs": [
    {
     "data": {
      "text/plain": [
       "<Axes: xlabel='bought', ylabel='version'>"
      ]
     },
     "execution_count": 109,
     "metadata": {},
     "output_type": "execute_result"
    },
    {
     "data": {
      "image/png": "[encoded data removed]",
      "text/plain": [
       "<Figure size 500x160 with 1 Axes>"
      ]
     },
     "metadata": {
      "image/png": {
       "height": 186,
       "width": 448
      }
     },
     "output_type": "display_data"
    }
   ],
   "source": [
    "sns.barplot(data=visitors, x=\"bought\", y=\"version\")"
   ]
  },
  {
   "cell_type": "code",
   "execution_count": 110,
   "id": "e35ebef8-c315-4a47-8751-409f994551df",
   "metadata": {},
   "outputs": [
    {
     "name": "stdout",
     "output_type": "stream",
     "text": [
      "Saved figure to figures/data/practice/visitors-barplot-bought-vs-version.pdf\n",
      "Saved figure to figures/data/practice/visitors-barplot-bought-vs-version.png\n"
     ]
    },
    {
     "data": {
      "image/png": "[encoded data removed]",
      "text/plain": [
       "<Figure size 400x200 with 1 Axes>"
      ]
     },
     "metadata": {
      "image/png": {
       "height": 192,
       "width": 392
      }
     },
     "output_type": "display_data"
    }
   ],
   "source": [
    "# figures only\n",
    "filename = os.path.join(DESTDIR, \"visitors-barplot-bought-vs-version.pdf\")\n",
    "with plt.rc_context({\"figure.figsize\":(4,2)}):\n",
    "    fig, ax = plt.subplots()\n",
    "    sns.barplot(data=visitors, x=\"bought\", y=\"version\", alpha=0.8, order=[\"A\",\"B\"])\n",
    "    # sns.barplot(data=visitors, x=\"version\", y=\"bought\", capsize=0.1, errwidth=1.1)\n",
    "savefigure(fig, filename)"
   ]
  },
  {
   "cell_type": "code",
   "execution_count": null,
   "id": "9779ae37-4981-4fef-82c9-2cfbe0ecaa47",
   "metadata": {},
   "outputs": [],
   "source": []
  },
  {
   "cell_type": "markdown",
   "id": "986f1565-ddb1-4f43-9864-d5996c3a8382",
   "metadata": {},
   "source": [
    "## Discussion"
   ]
  },
  {
   "cell_type": "markdown",
   "id": "fe24a4a3-acba-4265-b2e0-551f4fa4140e",
   "metadata": {},
   "source": [
    "### Data extraction"
   ]
  },
  {
   "cell_type": "markdown",
   "id": "b2d683e9-85b8-4f16-99b9-12baef462b92",
   "metadata": {},
   "source": [
    "### Data transformations"
   ]
  },
  {
   "cell_type": "markdown",
   "id": "8225d7d6-1bef-4eb9-93f6-817a6859aad4",
   "metadata": {},
   "source": [
    "### Tidy data"
   ]
  },
  {
   "cell_type": "code",
   "execution_count": 111,
   "id": "9b73ace0-3fd3-468f-aaa2-7d597a7105b6",
   "metadata": {},
   "outputs": [
    {
     "data": {
      "text/html": [
       "<div>\n",
       "<style scoped>\n",
       "    .dataframe tbody tr th:only-of-type {\n",
       "        vertical-align: middle;\n",
       "    }\n",
       "\n",
       "    .dataframe tbody tr th {\n",
       "        vertical-align: top;\n",
       "    }\n",
       "\n",
       "    .dataframe thead th {\n",
       "        text-align: right;\n",
       "    }\n",
       "</style>\n",
       "<table border=\"1\" class=\"dataframe\">\n",
       "  <thead>\n",
       "    <tr style=\"text-align: right;\">\n",
       "      <th></th>\n",
       "      <th>loc</th>\n",
       "      <th>price</th>\n",
       "    </tr>\n",
       "  </thead>\n",
       "  <tbody>\n",
       "    <tr>\n",
       "      <th>0</th>\n",
       "      <td>East</td>\n",
       "      <td>7.7</td>\n",
       "    </tr>\n",
       "    <tr>\n",
       "      <th>1</th>\n",
       "      <td>East</td>\n",
       "      <td>5.9</td>\n",
       "    </tr>\n",
       "    <tr>\n",
       "      <th>2</th>\n",
       "      <td>East</td>\n",
       "      <td>7.0</td>\n",
       "    </tr>\n",
       "    <tr>\n",
       "      <th>3</th>\n",
       "      <td>East</td>\n",
       "      <td>4.8</td>\n",
       "    </tr>\n",
       "    <tr>\n",
       "      <th>4</th>\n",
       "      <td>East</td>\n",
       "      <td>6.3</td>\n",
       "    </tr>\n",
       "    <tr>\n",
       "      <th>5</th>\n",
       "      <td>East</td>\n",
       "      <td>6.3</td>\n",
       "    </tr>\n",
       "    <tr>\n",
       "      <th>6</th>\n",
       "      <td>East</td>\n",
       "      <td>5.5</td>\n",
       "    </tr>\n",
       "    <tr>\n",
       "      <th>7</th>\n",
       "      <td>East</td>\n",
       "      <td>5.4</td>\n",
       "    </tr>\n",
       "    <tr>\n",
       "      <th>8</th>\n",
       "      <td>East</td>\n",
       "      <td>6.5</td>\n",
       "    </tr>\n",
       "    <tr>\n",
       "      <th>9</th>\n",
       "      <td>West</td>\n",
       "      <td>11.8</td>\n",
       "    </tr>\n",
       "    <tr>\n",
       "      <th>10</th>\n",
       "      <td>West</td>\n",
       "      <td>10.0</td>\n",
       "    </tr>\n",
       "    <tr>\n",
       "      <th>11</th>\n",
       "      <td>West</td>\n",
       "      <td>11.0</td>\n",
       "    </tr>\n",
       "    <tr>\n",
       "      <th>12</th>\n",
       "      <td>West</td>\n",
       "      <td>8.6</td>\n",
       "    </tr>\n",
       "    <tr>\n",
       "      <th>13</th>\n",
       "      <td>West</td>\n",
       "      <td>8.3</td>\n",
       "    </tr>\n",
       "    <tr>\n",
       "      <th>14</th>\n",
       "      <td>West</td>\n",
       "      <td>9.4</td>\n",
       "    </tr>\n",
       "    <tr>\n",
       "      <th>15</th>\n",
       "      <td>West</td>\n",
       "      <td>8.0</td>\n",
       "    </tr>\n",
       "    <tr>\n",
       "      <th>16</th>\n",
       "      <td>West</td>\n",
       "      <td>6.8</td>\n",
       "    </tr>\n",
       "    <tr>\n",
       "      <th>17</th>\n",
       "      <td>West</td>\n",
       "      <td>8.5</td>\n",
       "    </tr>\n",
       "  </tbody>\n",
       "</table>\n",
       "</div>"
      ],
      "text/plain": [
       "     loc  price\n",
       "0   East    7.7\n",
       "1   East    5.9\n",
       "2   East    7.0\n",
       "3   East    4.8\n",
       "4   East    6.3\n",
       "5   East    6.3\n",
       "6   East    5.5\n",
       "7   East    5.4\n",
       "8   East    6.5\n",
       "9   West   11.8\n",
       "10  West   10.0\n",
       "11  West   11.0\n",
       "12  West    8.6\n",
       "13  West    8.3\n",
       "14  West    9.4\n",
       "15  West    8.0\n",
       "16  West    6.8\n",
       "17  West    8.5"
      ]
     },
     "execution_count": 111,
     "metadata": {},
     "output_type": "execute_result"
    }
   ],
   "source": [
    "epriceswide = pd.read_csv(\"../datasets/epriceswide.csv\")\n",
    "epriceswide.melt(var_name=\"loc\", value_name=\"price\")"
   ]
  },
  {
   "cell_type": "code",
   "execution_count": null,
   "id": "db381b87-1b56-4641-8171-29e8aa16268c",
   "metadata": {},
   "outputs": [],
   "source": []
  },
  {
   "cell_type": "markdown",
   "id": "cdf47739-8804-4544-8a81-98000c5ef3e6",
   "metadata": {},
   "source": [
    "### Data cleaning"
   ]
  },
  {
   "cell_type": "code",
   "execution_count": null,
   "id": "1cf5a63c-fe20-487c-8981-1457d0f3bf14",
   "metadata": {},
   "outputs": [],
   "source": []
  },
  {
   "cell_type": "code",
   "execution_count": null,
   "id": "ea401a4d-95ff-4cfb-9bf9-f405caca6a27",
   "metadata": {},
   "outputs": [],
   "source": []
  },
  {
   "cell_type": "code",
   "execution_count": null,
   "id": "cc536942-55f9-40e1-9635-5e578f45e1fc",
   "metadata": {},
   "outputs": [],
   "source": []
  },
  {
   "cell_type": "markdown",
   "id": "1acf2fac-32bb-4e9f-9443-b397d9457a1d",
   "metadata": {},
   "source": [
    "## Links\n",
    "\n"
   ]
  },
  {
   "cell_type": "code",
   "execution_count": null,
   "id": "2d38f2ab-e812-4cbc-b99a-58904a542652",
   "metadata": {},
   "outputs": [],
   "source": []
  },
  {
   "cell_type": "code",
   "execution_count": null,
   "id": "c382938d-d3d5-4196-a0ad-d14219425cbc",
   "metadata": {},
   "outputs": [],
   "source": []
  }
 ],
 "metadata": {
  "kernelspec": {
   "display_name": "Python 3 (ipykernel)",
   "language": "python",
   "name": "python3"
  },
  "language_info": {
   "codemirror_mode": {
    "name": "ipython",
    "version": 3
   },
   "file_extension": ".py",
   "mimetype": "text/x-python",
   "name": "python",
   "nbconvert_exporter": "python",
   "pygments_lexer": "ipython3",
   "version": "3.9.4"
  },
  "toc-autonumbering": false,
  "toc-showcode": false,
  "toc-showmarkdowntxt": false,
  "toc-showtags": false
 },
 "nbformat": 4,
 "nbformat_minor": 5
}
