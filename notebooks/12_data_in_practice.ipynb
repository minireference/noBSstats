{
 "cells": [
  {
   "cell_type": "markdown",
   "id": "4d2a6d0b-b364-4d30-afee-4eb74a1224f5",
   "metadata": {},
   "source": [
    "# Section 1.2 — Data in practice\n",
    "\n",
    "This notebook contains all the code from [Section 1.2 Data in practice](https://minireference.com/static/excerpts/noBSstats/noBSstats_ch01_DATA.pdf#page=34) of the **No Bullshit Guide to Statistics**."
   ]
  },
  {
   "cell_type": "code",
   "execution_count": 1,
   "id": "3b212e60-9c9a-4c24-8358-47614540e88e",
   "metadata": {},
   "outputs": [
    {
     "data": {
      "text/plain": [
       "5"
      ]
     },
     "execution_count": 1,
     "metadata": {},
     "output_type": "execute_result"
    }
   ],
   "source": [
    "2 + 3"
   ]
  },
  {
   "cell_type": "markdown",
   "id": "70143489-6a0c-444c-ab1b-f5ca9ba3d109",
   "metadata": {},
   "source": [
    "### Note for Windows users\n",
    "\n",
    "If you're on macOS or Linux you can ignore this section—skip to the next section **Data management with Pandas**.\n",
    "\n",
    "File paths on Windows use the backslash character (`\\`) as path separator,\n",
    "while UNIX operating systems like Linux and macOS use forward slash separator `/` as path separator. \n",
    "\n",
    "If you you're on Windows you'll need to manually edit the code examples below to make them work by replacing all occurrences of \"`/`\" with \"`\\\\`\". The double backslash is required to get a literal backslash because the character `\\` has special meaning as an escape character."
   ]
  },
  {
   "cell_type": "code",
   "execution_count": 2,
   "id": "fd5c7177-a7a5-4603-800a-e315462938d6",
   "metadata": {},
   "outputs": [
    {
     "name": "stdout",
     "output_type": "stream",
     "text": [
      "You're on a UNIX system (Linux or macOS).\n",
      "Enjoy civilization!\n"
     ]
    }
   ],
   "source": [
    "import os\n",
    "\n",
    "if os.path.sep == \"/\":\n",
    "    print(\"You're on a UNIX system (Linux or macOS).\")\n",
    "    print(\"Enjoy civilization!\")\n",
    "elif os.path.sep == \"\\\\\":\n",
    "    print(\"You're on Windows so you should use \\\\ as path separator.\")\n",
    "    print(\"Replace any occurence of / (forward slash) in paths with \\\\\\\\ (double-backslash).\")"
   ]
  },
  {
   "cell_type": "markdown",
   "id": "f87899fa-9fb6-492c-ad66-3c7b093d502a",
   "metadata": {},
   "source": [
    "The current working directory is a path on your computer where this notebook is running.\n",
    "The code cell below shows you can **get** you **c**urrent **w**orking **d**irectory."
   ]
  },
  {
   "cell_type": "code",
   "execution_count": 3,
   "id": "c3b4f3b0-832a-40b6-8b3a-8d73828edbc8",
   "metadata": {},
   "outputs": [
    {
     "data": {
      "text/plain": [
       "'/Users/ivan/Projects/Minireference/STATSbook/noBSstatsnotebooks/notebooks'"
      ]
     },
     "execution_count": 3,
     "metadata": {},
     "output_type": "execute_result"
    }
   ],
   "source": [
    "os.getcwd()"
   ]
  },
  {
   "cell_type": "markdown",
   "id": "fe6e0eae-2578-4576-8a76-adbae708673c",
   "metadata": {},
   "source": [
    "You're in the `notebooks/` directory, which is inside the parent directory `noBSstatsnotebooks/`.\n",
    "\n",
    "The datasets we'll be using in this notebook are located in the `datasets/` directory, which is sibling of the `notebooks/` directory, inside the parent `noBSstatsnotebooks/`. To access data file `minimal.csv` in the `datasets/` directory from the current directory, we must specify a path that includes the `..` directive (go to parent), then go into the `datasets` directory, then open the file `minimal.csv`.\n",
    "\n",
    "This combination of \"directions\" for getting to the file will look different if you're on a Windows system or on a UNIX system. The code below shows the correct path you should access."
   ]
  },
  {
   "cell_type": "code",
   "execution_count": 4,
   "id": "6ea87fab-4243-496b-9188-204ebd5fce04",
   "metadata": {},
   "outputs": [
    {
     "name": "stdout",
     "output_type": "stream",
     "text": [
      "The path to the file minimal.csv in the datasets/ directory is\n"
     ]
    },
    {
     "data": {
      "text/plain": [
       "'../datasets/minimal.csv'"
      ]
     },
     "execution_count": 4,
     "metadata": {},
     "output_type": "execute_result"
    }
   ],
   "source": [
    "if os.path.sep == \"/\":\n",
    "    # UNIX path separators\n",
    "    path = \"../datasets/minimal.csv\"\n",
    "else:\n",
    "    # Windows path separators\n",
    "    path = \"..\\\\datasets\\\\minimal.csv\"\n",
    "\n",
    "print(\"The path to the file minimal.csv in the datasets/ directory is\")\n",
    "path"
   ]
  },
  {
   "cell_type": "markdown",
   "id": "18653bfc-3460-42a3-8e9f-874099a446de",
   "metadata": {},
   "source": [
    "All the code examples provided below assume you're on a UNIX system,\n",
    "hence the need to manually modify them to use double-backslashes in path strings for the code to work."
   ]
  },
  {
   "cell_type": "code",
   "execution_count": null,
   "id": "e864979f-9754-4113-8cf3-aba5a99ad11e",
   "metadata": {},
   "outputs": [],
   "source": []
  },
  {
   "cell_type": "markdown",
   "id": "a4977364-23ba-434e-b203-583297276737",
   "metadata": {},
   "source": [
    "## Hands-on data management"
   ]
  },
  {
   "cell_type": "markdown",
   "id": "ef1f8eaf-a073-4cd8-b3b3-2c620f1954eb",
   "metadata": {},
   "source": [
    "### Getting started with JupyterLab Desktop\n",
    "\n",
    "Follow instructions in the [Python tutorial](./python_tutorial.ipynb) to install JupyterLab Desktop on your computer.\n"
   ]
  },
  {
   "cell_type": "code",
   "execution_count": null,
   "id": "c09dd44b-68e9-4aa0-ab38-1712aa95821c",
   "metadata": {},
   "outputs": [],
   "source": []
  },
  {
   "cell_type": "markdown",
   "id": "0b083f74-ecfd-4767-8133-eab42a9a15a7",
   "metadata": {},
   "source": [
    "### Download the interactive notebooks for this book"
   ]
  },
  {
   "cell_type": "code",
   "execution_count": null,
   "id": "97907ab4-3bd7-4479-a470-ea256197535d",
   "metadata": {},
   "outputs": [],
   "source": []
  },
  {
   "cell_type": "code",
   "execution_count": null,
   "id": "e2da7278-9eaf-4540-8ac7-dede263ac21f",
   "metadata": {},
   "outputs": [],
   "source": []
  },
  {
   "cell_type": "markdown",
   "id": "ee8813fb-79df-488c-a521-1b67d95d85f7",
   "metadata": {},
   "source": [
    "## Data management with Pandas"
   ]
  },
  {
   "cell_type": "markdown",
   "id": "eb486b3c-180e-4eb1-84a0-01626f8f6f29",
   "metadata": {},
   "source": [
    "First let's make sure pandas is installed using the `%pip` Jupyter command."
   ]
  },
  {
   "cell_type": "code",
   "execution_count": 5,
   "id": "1fa5d64f-beae-4ec2-b8b2-b4cfaa04b457",
   "metadata": {},
   "outputs": [],
   "source": [
    "# %pip install pandas"
   ]
  },
  {
   "cell_type": "markdown",
   "id": "4011d1a5-1cb5-4e12-8185-253f5e03ba0b",
   "metadata": {},
   "source": [
    "We then import the `pandas` library as the alias `pd`."
   ]
  },
  {
   "cell_type": "code",
   "execution_count": 6,
   "id": "76f094e5-7915-4f9d-856d-e2fb95a1ec61",
   "metadata": {},
   "outputs": [],
   "source": [
    "import pandas as pd"
   ]
  },
  {
   "cell_type": "markdown",
   "id": "dca08206-be82-4eec-a5f7-69c499a1c315",
   "metadata": {},
   "source": [
    "### Series\n",
    "\n",
    "Pandas `pd.Series` objects are similar to Python lists `[3,5,7,9]`.\n",
    "They are containers for series of values."
   ]
  },
  {
   "cell_type": "code",
   "execution_count": 7,
   "id": "7ae93b47-cfdd-4cfd-8f46-e96e1ba6ad41",
   "metadata": {},
   "outputs": [
    {
     "data": {
      "text/plain": [
       "0    3\n",
       "1    5\n",
       "2    7\n",
       "3    9\n",
       "dtype: int64"
      ]
     },
     "execution_count": 7,
     "metadata": {},
     "output_type": "execute_result"
    }
   ],
   "source": [
    "s = pd.Series([3, 5, 7, 9])\n",
    "s"
   ]
  },
  {
   "cell_type": "markdown",
   "id": "3a3da136-5a7d-450c-b295-9bfca07ca824",
   "metadata": {},
   "source": [
    "Python lists use integers for identifying the elements of the list\n",
    "(first = index `0`, second = index `1`, last = index `len(self)-1`).\n",
    "\n",
    "Pandas series support the same functionality.\n",
    "Here are some example of accessing individual values of the series using the default 0-base indexing."
   ]
  },
  {
   "cell_type": "code",
   "execution_count": 8,
   "id": "75393e67-b916-44a4-aa81-0ecd1113e8a9",
   "metadata": {},
   "outputs": [
    {
     "name": "stdout",
     "output_type": "stream",
     "text": [
      "First:  index = 0  value = 3\n",
      "Second: index = 1  value = 5\n",
      "Last:   index = 3  value = 9\n"
     ]
    }
   ],
   "source": [
    "print(\"First:  index =\", 0, \" value =\", s[0])\n",
    "print(\"Second: index =\", 1, \" value =\", s[1])\n",
    "print(\"Last:   index =\", len(s)-1, \" value =\", s[len(s)-1])"
   ]
  },
  {
   "cell_type": "markdown",
   "id": "0ec69a8e-7a1e-44c2-90e7-f2784f9e972f",
   "metadata": {},
   "source": [
    "The series `index` attribute tells you all the possible indices for the series."
   ]
  },
  {
   "cell_type": "code",
   "execution_count": 9,
   "id": "3cb2d45a-d07c-4909-9056-96b0b8c4fa57",
   "metadata": {},
   "outputs": [
    {
     "data": {
      "text/plain": [
       "RangeIndex(start=0, stop=4, step=1)"
      ]
     },
     "execution_count": 9,
     "metadata": {},
     "output_type": "execute_result"
    }
   ],
   "source": [
    "s.index"
   ]
  },
  {
   "cell_type": "markdown",
   "id": "341c0b0d-526c-4cb9-ac3f-aaf9997a5dc4",
   "metadata": {},
   "source": [
    "The series `s` uses the default index `[0, 1, 2, 3]`, \n",
    "which consists of a range of integers, starting at 0,\n",
    "just like the index of a Python list with four elements."
   ]
  },
  {
   "cell_type": "code",
   "execution_count": 10,
   "id": "25c13e47-89f0-44fe-9f20-0b87412fb316",
   "metadata": {},
   "outputs": [
    {
     "data": {
      "text/plain": [
       "array([3, 5, 7, 9])"
      ]
     },
     "execution_count": 10,
     "metadata": {},
     "output_type": "execute_result"
    }
   ],
   "source": [
    "s.values"
   ]
  },
  {
   "cell_type": "code",
   "execution_count": 11,
   "id": "251edc15-5c42-49ea-a9a1-3bdaf6b78a25",
   "metadata": {},
   "outputs": [
    {
     "data": {
      "text/plain": [
       "numpy.ndarray"
      ]
     },
     "execution_count": 11,
     "metadata": {},
     "output_type": "execute_result"
    }
   ],
   "source": [
    "type(s.values)"
   ]
  },
  {
   "cell_type": "markdown",
   "id": "659adb43-7657-486f-89a8-c2048c10057f",
   "metadata": {},
   "source": [
    "In addition to accessing individual elements like this,"
   ]
  },
  {
   "cell_type": "code",
   "execution_count": 12,
   "id": "3e549063-785e-4216-b988-4579d0dad4b0",
   "metadata": {},
   "outputs": [
    {
     "data": {
      "text/plain": [
       "3"
      ]
     },
     "execution_count": 12,
     "metadata": {},
     "output_type": "execute_result"
    }
   ],
   "source": [
    "s[0]"
   ]
  },
  {
   "cell_type": "markdown",
   "id": "84140429-0e0e-49d3-8c48-ccb150c58912",
   "metadata": {},
   "source": [
    "we can also \"slice\" a series to obtain a new series that contains indices and values of the slice:"
   ]
  },
  {
   "cell_type": "code",
   "execution_count": 13,
   "id": "16e9cc7b-f803-4aac-a42e-6fa8c23f402c",
   "metadata": {},
   "outputs": [
    {
     "data": {
      "text/plain": [
       "0    3\n",
       "1    5\n",
       "2    7\n",
       "dtype: int64"
      ]
     },
     "execution_count": 13,
     "metadata": {},
     "output_type": "execute_result"
    }
   ],
   "source": [
    "s[0:3]"
   ]
  },
  {
   "cell_type": "markdown",
   "id": "a8d19ee4-7bc4-47df-8f06-030f3f28a9ed",
   "metadata": {},
   "source": [
    "Performing arithmetic operations on the series."
   ]
  },
  {
   "cell_type": "code",
   "execution_count": 14,
   "id": "c59deacc-77d3-400a-8b36-a6f8a1766dd6",
   "metadata": {},
   "outputs": [
    {
     "data": {
      "text/plain": [
       "24"
      ]
     },
     "execution_count": 14,
     "metadata": {},
     "output_type": "execute_result"
    }
   ],
   "source": [
    "s.sum()"
   ]
  },
  {
   "cell_type": "code",
   "execution_count": 15,
   "id": "dc793012-8a70-4462-b3d7-3e540242dd81",
   "metadata": {},
   "outputs": [
    {
     "data": {
      "text/plain": [
       "0    0.125000\n",
       "1    0.208333\n",
       "2    0.291667\n",
       "3    0.375000\n",
       "dtype: float64"
      ]
     },
     "execution_count": 15,
     "metadata": {},
     "output_type": "execute_result"
    }
   ],
   "source": [
    "s / s.sum()"
   ]
  },
  {
   "cell_type": "code",
   "execution_count": 16,
   "id": "dd1483b4-484e-4e35-9efc-3964dcc41fa2",
   "metadata": {},
   "outputs": [
    {
     "data": {
      "text/plain": [
       "6.0"
      ]
     },
     "execution_count": 16,
     "metadata": {},
     "output_type": "execute_result"
    }
   ],
   "source": [
    "s.mean()"
   ]
  },
  {
   "cell_type": "code",
   "execution_count": 17,
   "id": "94f54a17-c0db-4a26-8759-4804b30a0a19",
   "metadata": {},
   "outputs": [
    {
     "data": {
      "text/plain": [
       "2.581988897471611"
      ]
     },
     "execution_count": 17,
     "metadata": {},
     "output_type": "execute_result"
    }
   ],
   "source": [
    "s.std()"
   ]
  },
  {
   "cell_type": "markdown",
   "id": "6d6df288-9359-4ca6-b6d8-ce2afbc44a38",
   "metadata": {},
   "source": [
    "We can also use arbitrary functions from `numpy` on a series,\n",
    "and Pandas will apply the function to the values in the series."
   ]
  },
  {
   "cell_type": "code",
   "execution_count": 18,
   "id": "f29fa65b-7e96-4f4c-b229-d56da09e9281",
   "metadata": {},
   "outputs": [
    {
     "data": {
      "text/plain": [
       "0    1.098612\n",
       "1    1.609438\n",
       "2    1.945910\n",
       "3    2.197225\n",
       "dtype: float64"
      ]
     },
     "execution_count": 18,
     "metadata": {},
     "output_type": "execute_result"
    }
   ],
   "source": [
    "import numpy as np\n",
    "np.log(s)"
   ]
  },
  {
   "cell_type": "markdown",
   "id": "3668226b-f1dd-49ce-885a-3d62d23a6773",
   "metadata": {},
   "source": [
    "\n",
    "\n"
   ]
  },
  {
   "cell_type": "code",
   "execution_count": null,
   "id": "f4e3e626-368e-48f5-ac68-9f80423e49ad",
   "metadata": {},
   "outputs": [],
   "source": []
  },
  {
   "cell_type": "markdown",
   "id": "22bf0b74-9641-4892-8bbe-d563c6fbaca3",
   "metadata": {},
   "source": [
    "### Data frames"
   ]
  },
  {
   "cell_type": "markdown",
   "id": "a7ce329b-614e-4728-bf3c-f5918be36014",
   "metadata": {},
   "source": [
    "Loading the dataset `minimal.csv`"
   ]
  },
  {
   "cell_type": "code",
   "execution_count": 19,
   "id": "8722e39e-ef5e-4e28-988d-f9c18c634daf",
   "metadata": {},
   "outputs": [],
   "source": [
    "# !cat \"../datasets/minimal.csv\""
   ]
  },
  {
   "cell_type": "code",
   "execution_count": 20,
   "id": "21b7542c-71ab-46e4-989f-e84a31e4387d",
   "metadata": {},
   "outputs": [
    {
     "data": {
      "text/html": [
       "<div>\n",
       "<style scoped>\n",
       "    .dataframe tbody tr th:only-of-type {\n",
       "        vertical-align: middle;\n",
       "    }\n",
       "\n",
       "    .dataframe tbody tr th {\n",
       "        vertical-align: top;\n",
       "    }\n",
       "\n",
       "    .dataframe thead th {\n",
       "        text-align: right;\n",
       "    }\n",
       "</style>\n",
       "<table border=\"1\" class=\"dataframe\">\n",
       "  <thead>\n",
       "    <tr style=\"text-align: right;\">\n",
       "      <th></th>\n",
       "      <th>x</th>\n",
       "      <th>y</th>\n",
       "      <th>team</th>\n",
       "      <th>level</th>\n",
       "    </tr>\n",
       "  </thead>\n",
       "  <tbody>\n",
       "    <tr>\n",
       "      <th>0</th>\n",
       "      <td>1.0</td>\n",
       "      <td>2.0</td>\n",
       "      <td>a</td>\n",
       "      <td>3</td>\n",
       "    </tr>\n",
       "    <tr>\n",
       "      <th>1</th>\n",
       "      <td>1.5</td>\n",
       "      <td>1.0</td>\n",
       "      <td>a</td>\n",
       "      <td>2</td>\n",
       "    </tr>\n",
       "    <tr>\n",
       "      <th>2</th>\n",
       "      <td>2.0</td>\n",
       "      <td>1.5</td>\n",
       "      <td>a</td>\n",
       "      <td>1</td>\n",
       "    </tr>\n",
       "    <tr>\n",
       "      <th>3</th>\n",
       "      <td>2.5</td>\n",
       "      <td>2.0</td>\n",
       "      <td>b</td>\n",
       "      <td>3</td>\n",
       "    </tr>\n",
       "    <tr>\n",
       "      <th>4</th>\n",
       "      <td>3.0</td>\n",
       "      <td>1.5</td>\n",
       "      <td>b</td>\n",
       "      <td>3</td>\n",
       "    </tr>\n",
       "  </tbody>\n",
       "</table>\n",
       "</div>"
      ],
      "text/plain": [
       "     x    y team  level\n",
       "0  1.0  2.0    a      3\n",
       "1  1.5  1.0    a      2\n",
       "2  2.0  1.5    a      1\n",
       "3  2.5  2.0    b      3\n",
       "4  3.0  1.5    b      3"
      ]
     },
     "execution_count": 20,
     "metadata": {},
     "output_type": "execute_result"
    }
   ],
   "source": [
    "df = pd.read_csv(\"../datasets/minimal.csv\")\n",
    "df"
   ]
  },
  {
   "cell_type": "code",
   "execution_count": 21,
   "id": "529d26f1-4464-4259-9339-12d964f1d0e0",
   "metadata": {},
   "outputs": [
    {
     "data": {
      "text/plain": [
       "x        float64\n",
       "y        float64\n",
       "team      object\n",
       "level      int64\n",
       "dtype: object"
      ]
     },
     "execution_count": 21,
     "metadata": {},
     "output_type": "execute_result"
    }
   ],
   "source": [
    "df.dtypes"
   ]
  },
  {
   "cell_type": "markdown",
   "id": "fc7eda14-0784-4615-9861-06d4ccfd931f",
   "metadata": {},
   "source": [
    "#### Other ways to create dataframes\n",
    "There are other ways to create a `pd.DataFrame` from Python data containers like dicts and lists."
   ]
  },
  {
   "cell_type": "markdown",
   "id": "b0420eb9-aa7b-4380-9fce-a34c4206df80",
   "metadata": {},
   "source": [
    "Creating a data frame from a dictionary of columns:"
   ]
  },
  {
   "cell_type": "code",
   "execution_count": 22,
   "id": "6535759e-433f-4ff3-a8ea-3ee7cbf4ce73",
   "metadata": {},
   "outputs": [
    {
     "data": {
      "text/html": [
       "<div>\n",
       "<style scoped>\n",
       "    .dataframe tbody tr th:only-of-type {\n",
       "        vertical-align: middle;\n",
       "    }\n",
       "\n",
       "    .dataframe tbody tr th {\n",
       "        vertical-align: top;\n",
       "    }\n",
       "\n",
       "    .dataframe thead th {\n",
       "        text-align: right;\n",
       "    }\n",
       "</style>\n",
       "<table border=\"1\" class=\"dataframe\">\n",
       "  <thead>\n",
       "    <tr style=\"text-align: right;\">\n",
       "      <th></th>\n",
       "      <th>x</th>\n",
       "      <th>y</th>\n",
       "      <th>team</th>\n",
       "      <th>level</th>\n",
       "    </tr>\n",
       "  </thead>\n",
       "  <tbody>\n",
       "    <tr>\n",
       "      <th>0</th>\n",
       "      <td>1.0</td>\n",
       "      <td>2.0</td>\n",
       "      <td>a</td>\n",
       "      <td>3</td>\n",
       "    </tr>\n",
       "    <tr>\n",
       "      <th>1</th>\n",
       "      <td>1.5</td>\n",
       "      <td>1.0</td>\n",
       "      <td>a</td>\n",
       "      <td>2</td>\n",
       "    </tr>\n",
       "    <tr>\n",
       "      <th>2</th>\n",
       "      <td>2.0</td>\n",
       "      <td>1.5</td>\n",
       "      <td>a</td>\n",
       "      <td>1</td>\n",
       "    </tr>\n",
       "    <tr>\n",
       "      <th>3</th>\n",
       "      <td>2.5</td>\n",
       "      <td>2.0</td>\n",
       "      <td>b</td>\n",
       "      <td>3</td>\n",
       "    </tr>\n",
       "    <tr>\n",
       "      <th>4</th>\n",
       "      <td>3.0</td>\n",
       "      <td>1.5</td>\n",
       "      <td>b</td>\n",
       "      <td>3</td>\n",
       "    </tr>\n",
       "  </tbody>\n",
       "</table>\n",
       "</div>"
      ],
      "text/plain": [
       "     x    y team  level\n",
       "0  1.0  2.0    a      3\n",
       "1  1.5  1.0    a      2\n",
       "2  2.0  1.5    a      1\n",
       "3  2.5  2.0    b      3\n",
       "4  3.0  1.5    b      3"
      ]
     },
     "execution_count": 22,
     "metadata": {},
     "output_type": "execute_result"
    }
   ],
   "source": [
    "dict_of_columns = {\n",
    "    \"x\": [1.0, 1.5, 2.0, 2.5, 3.0],\n",
    "    \"y\": [2.0, 1.0, 1.5, 2.0, 1.5],\n",
    "    \"team\": [\"a\", \"a\", \"a\", \"b\", \"b\"],\n",
    "    \"level\": [3, 2, 1, 3, 3],\n",
    "}\n",
    "\n",
    "df2 = pd.DataFrame(dict_of_columns)\n",
    "df2"
   ]
  },
  {
   "cell_type": "code",
   "execution_count": 23,
   "id": "5a137ead-1829-40ad-822c-bbcb62b858a7",
   "metadata": {},
   "outputs": [
    {
     "data": {
      "text/plain": [
       "True"
      ]
     },
     "execution_count": 23,
     "metadata": {},
     "output_type": "execute_result"
    }
   ],
   "source": [
    "# df2 is identical to df loaded from minimal.csv\n",
    "df2.equals(df)"
   ]
  },
  {
   "cell_type": "markdown",
   "id": "9cd89011-1cb8-49d7-ad22-6c76e3707929",
   "metadata": {},
   "source": [
    "Creating a data frame from a list of records (lists or tuples):"
   ]
  },
  {
   "cell_type": "code",
   "execution_count": 24,
   "id": "1a115542-d4ce-4a6e-a75d-b2b482459efd",
   "metadata": {},
   "outputs": [
    {
     "data": {
      "text/html": [
       "<div>\n",
       "<style scoped>\n",
       "    .dataframe tbody tr th:only-of-type {\n",
       "        vertical-align: middle;\n",
       "    }\n",
       "\n",
       "    .dataframe tbody tr th {\n",
       "        vertical-align: top;\n",
       "    }\n",
       "\n",
       "    .dataframe thead th {\n",
       "        text-align: right;\n",
       "    }\n",
       "</style>\n",
       "<table border=\"1\" class=\"dataframe\">\n",
       "  <thead>\n",
       "    <tr style=\"text-align: right;\">\n",
       "      <th></th>\n",
       "      <th>x</th>\n",
       "      <th>y</th>\n",
       "      <th>team</th>\n",
       "      <th>level</th>\n",
       "    </tr>\n",
       "  </thead>\n",
       "  <tbody>\n",
       "    <tr>\n",
       "      <th>0</th>\n",
       "      <td>1.0</td>\n",
       "      <td>2.0</td>\n",
       "      <td>a</td>\n",
       "      <td>3</td>\n",
       "    </tr>\n",
       "    <tr>\n",
       "      <th>1</th>\n",
       "      <td>1.5</td>\n",
       "      <td>1.0</td>\n",
       "      <td>a</td>\n",
       "      <td>2</td>\n",
       "    </tr>\n",
       "    <tr>\n",
       "      <th>2</th>\n",
       "      <td>2.0</td>\n",
       "      <td>1.5</td>\n",
       "      <td>a</td>\n",
       "      <td>1</td>\n",
       "    </tr>\n",
       "    <tr>\n",
       "      <th>3</th>\n",
       "      <td>2.5</td>\n",
       "      <td>2.0</td>\n",
       "      <td>b</td>\n",
       "      <td>3</td>\n",
       "    </tr>\n",
       "    <tr>\n",
       "      <th>4</th>\n",
       "      <td>3.0</td>\n",
       "      <td>1.5</td>\n",
       "      <td>b</td>\n",
       "      <td>3</td>\n",
       "    </tr>\n",
       "  </tbody>\n",
       "</table>\n",
       "</div>"
      ],
      "text/plain": [
       "     x    y team  level\n",
       "0  1.0  2.0    a      3\n",
       "1  1.5  1.0    a      2\n",
       "2  2.0  1.5    a      1\n",
       "3  2.5  2.0    b      3\n",
       "4  3.0  1.5    b      3"
      ]
     },
     "execution_count": 24,
     "metadata": {},
     "output_type": "execute_result"
    }
   ],
   "source": [
    "list_records = [\n",
    "    [1.0, 2.0, \"a\", 3],\n",
    "    [1.5, 1.0, \"a\", 2],\n",
    "    [2.0, 1.5, \"a\", 1],\n",
    "    [2.5, 2.0, \"b\", 3],\n",
    "    [3.0, 1.5, \"b\", 3],\n",
    "]\n",
    "columns = [\"x\", \"y\", \"team\", \"level\"]\n",
    "\n",
    "df3 = pd.DataFrame(list_records, columns=columns)\n",
    "df3"
   ]
  },
  {
   "cell_type": "code",
   "execution_count": 25,
   "id": "be6ad970-9557-4987-91e0-6a7bba83d734",
   "metadata": {},
   "outputs": [
    {
     "data": {
      "text/plain": [
       "True"
      ]
     },
     "execution_count": 25,
     "metadata": {},
     "output_type": "execute_result"
    }
   ],
   "source": [
    "# df3 is identical to df loaded from minimal.csv\n",
    "df3.equals(df)"
   ]
  },
  {
   "cell_type": "markdown",
   "id": "01080f3f-c589-4cc8-ad1e-b305c6c85747",
   "metadata": {},
   "source": [
    "Creating a data frame from a list of `dict`s:"
   ]
  },
  {
   "cell_type": "code",
   "execution_count": 26,
   "id": "b7ea7358-86e0-4d91-814f-1497ee223135",
   "metadata": {},
   "outputs": [
    {
     "data": {
      "text/html": [
       "<div>\n",
       "<style scoped>\n",
       "    .dataframe tbody tr th:only-of-type {\n",
       "        vertical-align: middle;\n",
       "    }\n",
       "\n",
       "    .dataframe tbody tr th {\n",
       "        vertical-align: top;\n",
       "    }\n",
       "\n",
       "    .dataframe thead th {\n",
       "        text-align: right;\n",
       "    }\n",
       "</style>\n",
       "<table border=\"1\" class=\"dataframe\">\n",
       "  <thead>\n",
       "    <tr style=\"text-align: right;\">\n",
       "      <th></th>\n",
       "      <th>x</th>\n",
       "      <th>y</th>\n",
       "      <th>team</th>\n",
       "      <th>level</th>\n",
       "    </tr>\n",
       "  </thead>\n",
       "  <tbody>\n",
       "    <tr>\n",
       "      <th>0</th>\n",
       "      <td>1.0</td>\n",
       "      <td>2.0</td>\n",
       "      <td>a</td>\n",
       "      <td>3</td>\n",
       "    </tr>\n",
       "    <tr>\n",
       "      <th>1</th>\n",
       "      <td>1.5</td>\n",
       "      <td>1.0</td>\n",
       "      <td>a</td>\n",
       "      <td>2</td>\n",
       "    </tr>\n",
       "    <tr>\n",
       "      <th>2</th>\n",
       "      <td>2.0</td>\n",
       "      <td>1.5</td>\n",
       "      <td>a</td>\n",
       "      <td>1</td>\n",
       "    </tr>\n",
       "    <tr>\n",
       "      <th>3</th>\n",
       "      <td>2.5</td>\n",
       "      <td>2.0</td>\n",
       "      <td>b</td>\n",
       "      <td>3</td>\n",
       "    </tr>\n",
       "    <tr>\n",
       "      <th>4</th>\n",
       "      <td>3.0</td>\n",
       "      <td>1.5</td>\n",
       "      <td>b</td>\n",
       "      <td>3</td>\n",
       "    </tr>\n",
       "  </tbody>\n",
       "</table>\n",
       "</div>"
      ],
      "text/plain": [
       "     x    y team  level\n",
       "0  1.0  2.0    a      3\n",
       "1  1.5  1.0    a      2\n",
       "2  2.0  1.5    a      1\n",
       "3  2.5  2.0    b      3\n",
       "4  3.0  1.5    b      3"
      ]
     },
     "execution_count": 26,
     "metadata": {},
     "output_type": "execute_result"
    }
   ],
   "source": [
    "dict_records = [\n",
    "    dict(x=1.0, y=2.0, team=\"a\", level=3),\n",
    "    dict(x=1.5, y=1.0, team=\"a\", level=2),\n",
    "    dict(x=2.0, y=1.5, team=\"a\", level=1),\n",
    "    dict(x=2.5, y=2.0, team=\"b\", level=3),\n",
    "    dict(x=3.0, y=1.5, team=\"b\", level=3),\n",
    "]\n",
    "df4 = pd.DataFrame(dict_records)\n",
    "df4"
   ]
  },
  {
   "cell_type": "code",
   "execution_count": 27,
   "id": "c003cd76-cc54-4695-83ba-37204bbab5a5",
   "metadata": {},
   "outputs": [
    {
     "data": {
      "text/plain": [
       "True"
      ]
     },
     "execution_count": 27,
     "metadata": {},
     "output_type": "execute_result"
    }
   ],
   "source": [
    "# df4 is identical to df loaded from minimal.csv\n",
    "df4.equals(df)"
   ]
  },
  {
   "cell_type": "code",
   "execution_count": 28,
   "id": "5de14e57-2934-4366-ad9a-02f32ca8d0fe",
   "metadata": {},
   "outputs": [
    {
     "data": {
      "text/plain": [
       "True"
      ]
     },
     "execution_count": 28,
     "metadata": {},
     "output_type": "execute_result"
    }
   ],
   "source": [
    "# Note dict(key=\"val\") is just an alternative syntax for {\"key\":\"val\"}\n",
    "dict(x=1.0, y=2.0, group=\"a\", level=3) == {\"x\":1.0, \"y\":2.0, \"group\":\"a\", \"level\":3}"
   ]
  },
  {
   "cell_type": "markdown",
   "id": "b7fd0bad-4fd8-459b-8c8d-40fcc7fede3d",
   "metadata": {},
   "source": [
    "### Data frame properties"
   ]
  },
  {
   "cell_type": "code",
   "execution_count": 29,
   "id": "4f3a33fb-77df-4a7e-8ce6-9bd24249a77c",
   "metadata": {},
   "outputs": [
    {
     "data": {
      "text/plain": [
       "pandas.core.frame.DataFrame"
      ]
     },
     "execution_count": 29,
     "metadata": {},
     "output_type": "execute_result"
    }
   ],
   "source": [
    "type(df)"
   ]
  },
  {
   "cell_type": "code",
   "execution_count": 30,
   "id": "da643e43-c7e7-4653-bb57-5197abf779f8",
   "metadata": {},
   "outputs": [
    {
     "data": {
      "text/plain": [
       "RangeIndex(start=0, stop=5, step=1)"
      ]
     },
     "execution_count": 30,
     "metadata": {},
     "output_type": "execute_result"
    }
   ],
   "source": [
    "df.index"
   ]
  },
  {
   "cell_type": "code",
   "execution_count": 31,
   "id": "291866b7-b1fc-4f81-924a-688517ff439c",
   "metadata": {},
   "outputs": [
    {
     "data": {
      "text/plain": [
       "Index(['x', 'y', 'team', 'level'], dtype='object')"
      ]
     },
     "execution_count": 31,
     "metadata": {},
     "output_type": "execute_result"
    }
   ],
   "source": [
    "df.columns"
   ]
  },
  {
   "cell_type": "code",
   "execution_count": 32,
   "id": "f7de221c-4566-4673-9622-dcabf1e8631d",
   "metadata": {},
   "outputs": [
    {
     "data": {
      "text/plain": [
       "(5, 4)"
      ]
     },
     "execution_count": 32,
     "metadata": {},
     "output_type": "execute_result"
    }
   ],
   "source": [
    "df.shape"
   ]
  },
  {
   "cell_type": "code",
   "execution_count": 33,
   "id": "fc8b2e65-a6bf-4f49-b39d-c0c24b494b9c",
   "metadata": {},
   "outputs": [
    {
     "data": {
      "text/plain": [
       "x        float64\n",
       "y        float64\n",
       "team      object\n",
       "level      int64\n",
       "dtype: object"
      ]
     },
     "execution_count": 33,
     "metadata": {},
     "output_type": "execute_result"
    }
   ],
   "source": [
    "df.dtypes"
   ]
  },
  {
   "cell_type": "code",
   "execution_count": 34,
   "id": "fb124e93-c519-49e6-bf92-aeacec101041",
   "metadata": {},
   "outputs": [
    {
     "name": "stdout",
     "output_type": "stream",
     "text": [
      "<class 'pandas.core.frame.DataFrame'>\n",
      "RangeIndex: 5 entries, 0 to 4\n",
      "Data columns (total 4 columns):\n",
      " #   Column  Non-Null Count  Dtype  \n",
      "---  ------  --------------  -----  \n",
      " 0   x       5 non-null      float64\n",
      " 1   y       5 non-null      float64\n",
      " 2   team    5 non-null      object \n",
      " 3   level   5 non-null      int64  \n",
      "dtypes: float64(2), int64(1), object(1)\n",
      "memory usage: 538.0 bytes\n"
     ]
    }
   ],
   "source": [
    "df.info(memory_usage=\"deep\")"
   ]
  },
  {
   "cell_type": "code",
   "execution_count": 35,
   "id": "3969e827-6568-435e-9688-0b1828b6348c",
   "metadata": {},
   "outputs": [],
   "source": [
    "# df.axes\n",
    "# df.memory_usage()\n",
    "# df.values"
   ]
  },
  {
   "cell_type": "code",
   "execution_count": null,
   "id": "c761920a-ef2b-4103-9688-394046c6ed8b",
   "metadata": {},
   "outputs": [],
   "source": []
  },
  {
   "cell_type": "code",
   "execution_count": null,
   "id": "ca6eb058-6b92-43fa-8b1b-3175729a971b",
   "metadata": {},
   "outputs": [],
   "source": []
  },
  {
   "cell_type": "markdown",
   "id": "5182aa71-d792-449b-b73b-5e8e563e162c",
   "metadata": {},
   "source": [
    "### Accessing values in a DataFrame"
   ]
  },
  {
   "cell_type": "code",
   "execution_count": 36,
   "id": "79ea4191-d863-4f47-a44e-ff50d37d9152",
   "metadata": {},
   "outputs": [
    {
     "data": {
      "text/plain": [
       "1.5"
      ]
     },
     "execution_count": 36,
     "metadata": {},
     "output_type": "execute_result"
    }
   ],
   "source": [
    "df.loc[2, \"y\"]"
   ]
  },
  {
   "cell_type": "code",
   "execution_count": null,
   "id": "064cdbfb-bbfd-4d48-8e49-7926ad079e0e",
   "metadata": {},
   "outputs": [],
   "source": []
  },
  {
   "cell_type": "markdown",
   "id": "5317dead-58ce-4bd1-a23e-032ad2dc0544",
   "metadata": {},
   "source": [
    "#### Entire rows"
   ]
  },
  {
   "cell_type": "code",
   "execution_count": 37,
   "id": "d169e387-d129-45d7-947e-f5062d4cffff",
   "metadata": {},
   "outputs": [
    {
     "data": {
      "text/plain": [
       "x        2.0\n",
       "y        1.5\n",
       "team       a\n",
       "level      1\n",
       "Name: 2, dtype: object"
      ]
     },
     "execution_count": 37,
     "metadata": {},
     "output_type": "execute_result"
    }
   ],
   "source": [
    "row2 = df.loc[2,:]\n",
    "row2"
   ]
  },
  {
   "cell_type": "code",
   "execution_count": 38,
   "id": "96c99ba6-e177-43dc-97d6-7ea17a2e8667",
   "metadata": {},
   "outputs": [
    {
     "data": {
      "text/plain": [
       "pandas.core.series.Series"
      ]
     },
     "execution_count": 38,
     "metadata": {},
     "output_type": "execute_result"
    }
   ],
   "source": [
    "# Rows of the dataframe are Series objects\n",
    "type(row2)"
   ]
  },
  {
   "cell_type": "code",
   "execution_count": 39,
   "id": "cef7923f-7a65-49b8-b4ce-7ace5592e1a0",
   "metadata": {},
   "outputs": [
    {
     "data": {
      "text/plain": [
       "Index(['x', 'y', 'team', 'level'], dtype='object')"
      ]
     },
     "execution_count": 39,
     "metadata": {},
     "output_type": "execute_result"
    }
   ],
   "source": [
    "row2.index"
   ]
  },
  {
   "cell_type": "code",
   "execution_count": 40,
   "id": "d4eea064-c289-4c49-a2b3-010cffcdbfd1",
   "metadata": {},
   "outputs": [
    {
     "data": {
      "text/plain": [
       "array([2.0, 1.5, 'a', 1], dtype=object)"
      ]
     },
     "execution_count": 40,
     "metadata": {},
     "output_type": "execute_result"
    }
   ],
   "source": [
    "row2.values"
   ]
  },
  {
   "cell_type": "code",
   "execution_count": 41,
   "id": "b077de35-983d-4c8d-92c6-c6593e05b001",
   "metadata": {},
   "outputs": [
    {
     "data": {
      "text/plain": [
       "1.5"
      ]
     },
     "execution_count": 41,
     "metadata": {},
     "output_type": "execute_result"
    }
   ],
   "source": [
    "row2[\"y\"]"
   ]
  },
  {
   "cell_type": "markdown",
   "id": "4572689e-f470-4686-9cca-75c4ca9ef048",
   "metadata": {},
   "source": [
    "#### Entire columns"
   ]
  },
  {
   "cell_type": "code",
   "execution_count": 42,
   "id": "dce25ae2-06da-4841-bc11-2747855ebe71",
   "metadata": {},
   "outputs": [
    {
     "data": {
      "text/plain": [
       "0    2.0\n",
       "1    1.0\n",
       "2    1.5\n",
       "3    2.0\n",
       "4    1.5\n",
       "Name: y, dtype: float64"
      ]
     },
     "execution_count": 42,
     "metadata": {},
     "output_type": "execute_result"
    }
   ],
   "source": [
    "ys = df[\"y\"]\n",
    "ys"
   ]
  },
  {
   "cell_type": "code",
   "execution_count": 43,
   "id": "481431ff-064d-457c-977c-6a184e1f24e3",
   "metadata": {},
   "outputs": [
    {
     "data": {
      "text/plain": [
       "True"
      ]
     },
     "execution_count": 43,
     "metadata": {},
     "output_type": "execute_result"
    }
   ],
   "source": [
    "df[\"y\"].equals( df.loc[:,\"y\"] )"
   ]
  },
  {
   "cell_type": "code",
   "execution_count": 44,
   "id": "2bba5e49-0c14-4594-8e49-d83e8dda0900",
   "metadata": {},
   "outputs": [
    {
     "data": {
      "text/plain": [
       "True"
      ]
     },
     "execution_count": 44,
     "metadata": {},
     "output_type": "execute_result"
    }
   ],
   "source": [
    "df[\"y\"].equals( df.y )"
   ]
  },
  {
   "cell_type": "code",
   "execution_count": 45,
   "id": "b7474e71-00b9-40c7-bee2-b0c504db07b0",
   "metadata": {},
   "outputs": [
    {
     "data": {
      "text/plain": [
       "pandas.core.series.Series"
      ]
     },
     "execution_count": 45,
     "metadata": {},
     "output_type": "execute_result"
    }
   ],
   "source": [
    "type(ys)"
   ]
  },
  {
   "cell_type": "code",
   "execution_count": 46,
   "id": "44593e36-724e-47c1-805c-9620ee4d2731",
   "metadata": {},
   "outputs": [
    {
     "data": {
      "text/plain": [
       "RangeIndex(start=0, stop=5, step=1)"
      ]
     },
     "execution_count": 46,
     "metadata": {},
     "output_type": "execute_result"
    }
   ],
   "source": [
    "ys.index"
   ]
  },
  {
   "cell_type": "code",
   "execution_count": 47,
   "id": "43a4a89c-5a89-41ff-8751-5a07cea6c2d8",
   "metadata": {},
   "outputs": [
    {
     "data": {
      "text/plain": [
       "array([2. , 1. , 1.5, 2. , 1.5])"
      ]
     },
     "execution_count": 47,
     "metadata": {},
     "output_type": "execute_result"
    }
   ],
   "source": [
    "ys.values"
   ]
  },
  {
   "cell_type": "code",
   "execution_count": 48,
   "id": "0f6abff9-cb72-4115-a5fd-f24b51475b8e",
   "metadata": {},
   "outputs": [
    {
     "data": {
      "text/plain": [
       "1.5"
      ]
     },
     "execution_count": 48,
     "metadata": {},
     "output_type": "execute_result"
    }
   ],
   "source": [
    "ys[2]"
   ]
  },
  {
   "cell_type": "code",
   "execution_count": 49,
   "id": "dcbfcc05-209b-44f6-a4b5-cbee814d6b22",
   "metadata": {},
   "outputs": [
    {
     "name": "stdout",
     "output_type": "stream",
     "text": [
      "     x    y\n",
      "0  1.0  2.0\n",
      "1  1.5  1.0\n",
      "2  2.0  1.5\n",
      "3  2.5  2.0\n",
      "4  3.0  1.5\n"
     ]
    }
   ],
   "source": [
    "print(df[[\"x\", \"y\"]])"
   ]
  },
  {
   "cell_type": "markdown",
   "id": "29339786-b645-4eb5-9974-0fadb85c0a91",
   "metadata": {},
   "source": [
    "#### Selecting subsets of rows\n"
   ]
  },
  {
   "cell_type": "code",
   "execution_count": 50,
   "id": "efd7b332-0764-4e45-a9a4-3f603de8cc64",
   "metadata": {},
   "outputs": [
    {
     "data": {
      "text/html": [
       "<div>\n",
       "<style scoped>\n",
       "    .dataframe tbody tr th:only-of-type {\n",
       "        vertical-align: middle;\n",
       "    }\n",
       "\n",
       "    .dataframe tbody tr th {\n",
       "        vertical-align: top;\n",
       "    }\n",
       "\n",
       "    .dataframe thead th {\n",
       "        text-align: right;\n",
       "    }\n",
       "</style>\n",
       "<table border=\"1\" class=\"dataframe\">\n",
       "  <thead>\n",
       "    <tr style=\"text-align: right;\">\n",
       "      <th></th>\n",
       "      <th>x</th>\n",
       "      <th>y</th>\n",
       "      <th>team</th>\n",
       "      <th>level</th>\n",
       "    </tr>\n",
       "  </thead>\n",
       "  <tbody>\n",
       "    <tr>\n",
       "      <th>0</th>\n",
       "      <td>1.0</td>\n",
       "      <td>2.0</td>\n",
       "      <td>a</td>\n",
       "      <td>3</td>\n",
       "    </tr>\n",
       "    <tr>\n",
       "      <th>1</th>\n",
       "      <td>1.5</td>\n",
       "      <td>1.0</td>\n",
       "      <td>a</td>\n",
       "      <td>2</td>\n",
       "    </tr>\n",
       "  </tbody>\n",
       "</table>\n",
       "</div>"
      ],
      "text/plain": [
       "     x    y team  level\n",
       "0  1.0  2.0    a      3\n",
       "1  1.5  1.0    a      2"
      ]
     },
     "execution_count": 50,
     "metadata": {},
     "output_type": "execute_result"
    }
   ],
   "source": [
    "df.head(2)\n",
    "# df.tail(2)\n",
    "# df.sample(3)"
   ]
  },
  {
   "cell_type": "markdown",
   "id": "7b13cec8-ab54-42df-b561-4339616f14f6",
   "metadata": {},
   "source": [
    "To select only rows where `team` is `b`, we first build the boolean selection mask..."
   ]
  },
  {
   "cell_type": "code",
   "execution_count": 51,
   "id": "b98b49ca-ebc0-4e3f-808c-013d24ed94be",
   "metadata": {},
   "outputs": [
    {
     "data": {
      "text/plain": [
       "0    False\n",
       "1    False\n",
       "2    False\n",
       "3     True\n",
       "4     True\n",
       "Name: team, dtype: bool"
      ]
     },
     "execution_count": 51,
     "metadata": {},
     "output_type": "execute_result"
    }
   ],
   "source": [
    "mask = df[\"team\"] == \"b\"\n",
    "mask"
   ]
  },
  {
   "cell_type": "markdown",
   "id": "1ac1a6a6-6e24-4259-9cc4-7ff8598eb1f7",
   "metadata": {},
   "source": [
    "... then select the rows using the mask."
   ]
  },
  {
   "cell_type": "code",
   "execution_count": 52,
   "id": "f19c7d93-008c-40e2-ad37-31f4d76ae881",
   "metadata": {},
   "outputs": [
    {
     "data": {
      "text/html": [
       "<div>\n",
       "<style scoped>\n",
       "    .dataframe tbody tr th:only-of-type {\n",
       "        vertical-align: middle;\n",
       "    }\n",
       "\n",
       "    .dataframe tbody tr th {\n",
       "        vertical-align: top;\n",
       "    }\n",
       "\n",
       "    .dataframe thead th {\n",
       "        text-align: right;\n",
       "    }\n",
       "</style>\n",
       "<table border=\"1\" class=\"dataframe\">\n",
       "  <thead>\n",
       "    <tr style=\"text-align: right;\">\n",
       "      <th></th>\n",
       "      <th>x</th>\n",
       "      <th>y</th>\n",
       "      <th>team</th>\n",
       "      <th>level</th>\n",
       "    </tr>\n",
       "  </thead>\n",
       "  <tbody>\n",
       "    <tr>\n",
       "      <th>3</th>\n",
       "      <td>2.5</td>\n",
       "      <td>2.0</td>\n",
       "      <td>b</td>\n",
       "      <td>3</td>\n",
       "    </tr>\n",
       "    <tr>\n",
       "      <th>4</th>\n",
       "      <td>3.0</td>\n",
       "      <td>1.5</td>\n",
       "      <td>b</td>\n",
       "      <td>3</td>\n",
       "    </tr>\n",
       "  </tbody>\n",
       "</table>\n",
       "</div>"
      ],
      "text/plain": [
       "     x    y team  level\n",
       "3  2.5  2.0    b      3\n",
       "4  3.0  1.5    b      3"
      ]
     },
     "execution_count": 52,
     "metadata": {},
     "output_type": "execute_result"
    }
   ],
   "source": [
    "df[mask]"
   ]
  },
  {
   "cell_type": "markdown",
   "id": "4524e589-9513-4cee-b187-29729698aeca",
   "metadata": {},
   "source": [
    "The above two step process can be combined into a more compact expression:"
   ]
  },
  {
   "cell_type": "code",
   "execution_count": 53,
   "id": "31504f1d-4b9b-48b3-be84-96afe36b9db6",
   "metadata": {},
   "outputs": [
    {
     "data": {
      "text/html": [
       "<div>\n",
       "<style scoped>\n",
       "    .dataframe tbody tr th:only-of-type {\n",
       "        vertical-align: middle;\n",
       "    }\n",
       "\n",
       "    .dataframe tbody tr th {\n",
       "        vertical-align: top;\n",
       "    }\n",
       "\n",
       "    .dataframe thead th {\n",
       "        text-align: right;\n",
       "    }\n",
       "</style>\n",
       "<table border=\"1\" class=\"dataframe\">\n",
       "  <thead>\n",
       "    <tr style=\"text-align: right;\">\n",
       "      <th></th>\n",
       "      <th>x</th>\n",
       "      <th>y</th>\n",
       "      <th>team</th>\n",
       "      <th>level</th>\n",
       "    </tr>\n",
       "  </thead>\n",
       "  <tbody>\n",
       "    <tr>\n",
       "      <th>3</th>\n",
       "      <td>2.5</td>\n",
       "      <td>2.0</td>\n",
       "      <td>b</td>\n",
       "      <td>3</td>\n",
       "    </tr>\n",
       "    <tr>\n",
       "      <th>4</th>\n",
       "      <td>3.0</td>\n",
       "      <td>1.5</td>\n",
       "      <td>b</td>\n",
       "      <td>3</td>\n",
       "    </tr>\n",
       "  </tbody>\n",
       "</table>\n",
       "</div>"
      ],
      "text/plain": [
       "     x    y team  level\n",
       "3  2.5  2.0    b      3\n",
       "4  3.0  1.5    b      3"
      ]
     },
     "execution_count": 53,
     "metadata": {},
     "output_type": "execute_result"
    }
   ],
   "source": [
    "df[df[\"team\"]==\"b\"]"
   ]
  },
  {
   "cell_type": "code",
   "execution_count": 54,
   "id": "aad81bf1-1bc9-4821-bcd3-35c8b1efd169",
   "metadata": {},
   "outputs": [
    {
     "data": {
      "text/html": [
       "<div>\n",
       "<style scoped>\n",
       "    .dataframe tbody tr th:only-of-type {\n",
       "        vertical-align: middle;\n",
       "    }\n",
       "\n",
       "    .dataframe tbody tr th {\n",
       "        vertical-align: top;\n",
       "    }\n",
       "\n",
       "    .dataframe thead th {\n",
       "        text-align: right;\n",
       "    }\n",
       "</style>\n",
       "<table border=\"1\" class=\"dataframe\">\n",
       "  <thead>\n",
       "    <tr style=\"text-align: right;\">\n",
       "      <th></th>\n",
       "      <th>x</th>\n",
       "      <th>y</th>\n",
       "      <th>team</th>\n",
       "      <th>level</th>\n",
       "    </tr>\n",
       "  </thead>\n",
       "  <tbody>\n",
       "    <tr>\n",
       "      <th>4</th>\n",
       "      <td>3.0</td>\n",
       "      <td>1.5</td>\n",
       "      <td>b</td>\n",
       "      <td>3</td>\n",
       "    </tr>\n",
       "  </tbody>\n",
       "</table>\n",
       "</div>"
      ],
      "text/plain": [
       "     x    y team  level\n",
       "4  3.0  1.5    b      3"
      ]
     },
     "execution_count": 54,
     "metadata": {},
     "output_type": "execute_result"
    }
   ],
   "source": [
    "df[(df[\"team\"] == \"b\") & (df[\"x\"] >= 3)]"
   ]
  },
  {
   "cell_type": "code",
   "execution_count": 55,
   "id": "809b90ce-e143-42cd-9360-006951f40bf6",
   "metadata": {},
   "outputs": [
    {
     "data": {
      "text/plain": [
       "0     True\n",
       "1     True\n",
       "2    False\n",
       "3     True\n",
       "4     True\n",
       "Name: level, dtype: bool"
      ]
     },
     "execution_count": 55,
     "metadata": {},
     "output_type": "execute_result"
    }
   ],
   "source": [
    "df[\"level\"].isin([2,3])"
   ]
  },
  {
   "cell_type": "code",
   "execution_count": null,
   "id": "9b5d040b-b8e9-4973-bc18-52b866c9ebac",
   "metadata": {},
   "outputs": [],
   "source": []
  },
  {
   "cell_type": "markdown",
   "id": "4ec6c4f7-0646-4212-85ac-5a8444efd685",
   "metadata": {},
   "source": [
    "#### Grouping and aggregation"
   ]
  },
  {
   "cell_type": "code",
   "execution_count": 56,
   "id": "94015891-f5fb-45ee-a02b-6e841e724c17",
   "metadata": {},
   "outputs": [
    {
     "data": {
      "text/plain": [
       "<pandas.core.groupby.generic.DataFrameGroupBy object at 0x11d7ad490>"
      ]
     },
     "execution_count": 56,
     "metadata": {},
     "output_type": "execute_result"
    }
   ],
   "source": [
    "df.groupby(\"team\")"
   ]
  },
  {
   "cell_type": "code",
   "execution_count": 57,
   "id": "00257f13-925d-43ff-8fe6-bc8423c6571f",
   "metadata": {},
   "outputs": [
    {
     "data": {
      "text/plain": [
       "<pandas.core.groupby.generic.SeriesGroupBy object at 0x11d7ad3d0>"
      ]
     },
     "execution_count": 57,
     "metadata": {},
     "output_type": "execute_result"
    }
   ],
   "source": [
    "df.groupby(\"team\")[\"x\"]"
   ]
  },
  {
   "cell_type": "code",
   "execution_count": 58,
   "id": "bf8a68ae-f527-4091-863c-041ecb70a36c",
   "metadata": {},
   "outputs": [
    {
     "data": {
      "text/plain": [
       "team\n",
       "a    1.50\n",
       "b    2.75\n",
       "Name: x, dtype: float64"
      ]
     },
     "execution_count": 58,
     "metadata": {},
     "output_type": "execute_result"
    }
   ],
   "source": [
    "df.groupby(\"team\")[\"x\"].mean()"
   ]
  },
  {
   "cell_type": "code",
   "execution_count": 59,
   "id": "de1bcd81-0508-42e2-a56d-0f767e123e35",
   "metadata": {},
   "outputs": [
    {
     "data": {
      "text/html": [
       "<div>\n",
       "<style scoped>\n",
       "    .dataframe tbody tr th:only-of-type {\n",
       "        vertical-align: middle;\n",
       "    }\n",
       "\n",
       "    .dataframe tbody tr th {\n",
       "        vertical-align: top;\n",
       "    }\n",
       "\n",
       "    .dataframe thead th {\n",
       "        text-align: right;\n",
       "    }\n",
       "</style>\n",
       "<table border=\"1\" class=\"dataframe\">\n",
       "  <thead>\n",
       "    <tr style=\"text-align: right;\">\n",
       "      <th></th>\n",
       "      <th>sum</th>\n",
       "      <th>count</th>\n",
       "      <th>mean</th>\n",
       "    </tr>\n",
       "    <tr>\n",
       "      <th>team</th>\n",
       "      <th></th>\n",
       "      <th></th>\n",
       "      <th></th>\n",
       "    </tr>\n",
       "  </thead>\n",
       "  <tbody>\n",
       "    <tr>\n",
       "      <th>a</th>\n",
       "      <td>4.5</td>\n",
       "      <td>3</td>\n",
       "      <td>1.50</td>\n",
       "    </tr>\n",
       "    <tr>\n",
       "      <th>b</th>\n",
       "      <td>5.5</td>\n",
       "      <td>2</td>\n",
       "      <td>2.75</td>\n",
       "    </tr>\n",
       "  </tbody>\n",
       "</table>\n",
       "</div>"
      ],
      "text/plain": [
       "      sum  count  mean\n",
       "team                  \n",
       "a     4.5      3  1.50\n",
       "b     5.5      2  2.75"
      ]
     },
     "execution_count": 59,
     "metadata": {},
     "output_type": "execute_result"
    }
   ],
   "source": [
    "df.groupby(\"team\")[\"x\"].aggregate([\"sum\", \"count\", \"mean\"])"
   ]
  },
  {
   "cell_type": "code",
   "execution_count": 60,
   "id": "96370afc-e2b8-41c7-b536-526bac1cc06c",
   "metadata": {},
   "outputs": [
    {
     "data": {
      "text/html": [
       "<div>\n",
       "<style scoped>\n",
       "    .dataframe tbody tr th:only-of-type {\n",
       "        vertical-align: middle;\n",
       "    }\n",
       "\n",
       "    .dataframe tbody tr th {\n",
       "        vertical-align: top;\n",
       "    }\n",
       "\n",
       "    .dataframe thead th {\n",
       "        text-align: right;\n",
       "    }\n",
       "</style>\n",
       "<table border=\"1\" class=\"dataframe\">\n",
       "  <thead>\n",
       "    <tr style=\"text-align: right;\">\n",
       "      <th></th>\n",
       "      <th>sum</th>\n",
       "      <th>count</th>\n",
       "      <th>mean</th>\n",
       "    </tr>\n",
       "    <tr>\n",
       "      <th>team</th>\n",
       "      <th></th>\n",
       "      <th></th>\n",
       "      <th></th>\n",
       "    </tr>\n",
       "  </thead>\n",
       "  <tbody>\n",
       "    <tr>\n",
       "      <th>a</th>\n",
       "      <td>4.5</td>\n",
       "      <td>3</td>\n",
       "      <td>1.50</td>\n",
       "    </tr>\n",
       "    <tr>\n",
       "      <th>b</th>\n",
       "      <td>5.5</td>\n",
       "      <td>2</td>\n",
       "      <td>2.75</td>\n",
       "    </tr>\n",
       "  </tbody>\n",
       "</table>\n",
       "</div>"
      ],
      "text/plain": [
       "      sum  count  mean\n",
       "team                  \n",
       "a     4.5      3  1.50\n",
       "b     5.5      2  2.75"
      ]
     },
     "execution_count": 60,
     "metadata": {},
     "output_type": "execute_result"
    }
   ],
   "source": [
    "df.groupby(\"team\")[\"x\"] \\\n",
    "  .agg([\"sum\", \"count\", \"mean\"])"
   ]
  },
  {
   "cell_type": "code",
   "execution_count": 61,
   "id": "7ba12420-1e8a-47d7-93b0-5425bb65100d",
   "metadata": {},
   "outputs": [
    {
     "data": {
      "text/html": [
       "<div>\n",
       "<style scoped>\n",
       "    .dataframe tbody tr th:only-of-type {\n",
       "        vertical-align: middle;\n",
       "    }\n",
       "\n",
       "    .dataframe tbody tr th {\n",
       "        vertical-align: top;\n",
       "    }\n",
       "\n",
       "    .dataframe thead th {\n",
       "        text-align: right;\n",
       "    }\n",
       "</style>\n",
       "<table border=\"1\" class=\"dataframe\">\n",
       "  <thead>\n",
       "    <tr style=\"text-align: right;\">\n",
       "      <th></th>\n",
       "      <th>sum</th>\n",
       "      <th>count</th>\n",
       "      <th>mean</th>\n",
       "    </tr>\n",
       "    <tr>\n",
       "      <th>team</th>\n",
       "      <th></th>\n",
       "      <th></th>\n",
       "      <th></th>\n",
       "    </tr>\n",
       "  </thead>\n",
       "  <tbody>\n",
       "    <tr>\n",
       "      <th>a</th>\n",
       "      <td>4.5</td>\n",
       "      <td>3</td>\n",
       "      <td>1.50</td>\n",
       "    </tr>\n",
       "    <tr>\n",
       "      <th>b</th>\n",
       "      <td>5.5</td>\n",
       "      <td>2</td>\n",
       "      <td>2.75</td>\n",
       "    </tr>\n",
       "  </tbody>\n",
       "</table>\n",
       "</div>"
      ],
      "text/plain": [
       "      sum  count  mean\n",
       "team                  \n",
       "a     4.5      3  1.50\n",
       "b     5.5      2  2.75"
      ]
     },
     "execution_count": 61,
     "metadata": {},
     "output_type": "execute_result"
    }
   ],
   "source": [
    "(df\n",
    "  .groupby(\"team\")[\"x\"]\n",
    "  .agg([\"sum\", \"count\", \"mean\"])\n",
    ")"
   ]
  },
  {
   "cell_type": "code",
   "execution_count": null,
   "id": "283b9332-17c9-4049-88ca-2992e81579b1",
   "metadata": {},
   "outputs": [],
   "source": []
  },
  {
   "cell_type": "code",
   "execution_count": null,
   "id": "98b617ef-635d-4637-ac82-e2aa4ef8dba5",
   "metadata": {},
   "outputs": [],
   "source": []
  },
  {
   "cell_type": "markdown",
   "id": "a2b7d979-753f-4a23-944b-f6a429a3a7ea",
   "metadata": {},
   "source": [
    "## Datasets for the book"
   ]
  },
  {
   "cell_type": "markdown",
   "id": "fe3f7199-9338-4967-aa51-8f0f14a0806c",
   "metadata": {},
   "source": [
    "### Website visitors conversion rates"
   ]
  },
  {
   "cell_type": "code",
   "execution_count": null,
   "id": "c612ded3-5060-4afc-aefd-90182e6ddb65",
   "metadata": {},
   "outputs": [],
   "source": []
  },
  {
   "cell_type": "markdown",
   "id": "4386be8e-e22f-4e27-be40-e5cc902f1935",
   "metadata": {},
   "source": [
    "### Electricity prices"
   ]
  },
  {
   "cell_type": "code",
   "execution_count": null,
   "id": "466ea4d3-4365-474e-9dee-1c2f54fe0e7e",
   "metadata": {},
   "outputs": [],
   "source": []
  },
  {
   "cell_type": "markdown",
   "id": "ff918bdd-6d7c-441b-be6c-61292bd60d2a",
   "metadata": {},
   "source": [
    "### Students effort and scores"
   ]
  },
  {
   "cell_type": "code",
   "execution_count": 62,
   "id": "a26fabaf-7de5-4e5b-a0a4-d03249f81bab",
   "metadata": {},
   "outputs": [],
   "source": [
    "students = pd.read_csv(\"../datasets/students.csv\")"
   ]
  },
  {
   "cell_type": "code",
   "execution_count": 63,
   "id": "7b89c5c2-bfe6-4533-9520-fff92fb7997f",
   "metadata": {},
   "outputs": [
    {
     "data": {
      "text/html": [
       "<div>\n",
       "<style scoped>\n",
       "    .dataframe tbody tr th:only-of-type {\n",
       "        vertical-align: middle;\n",
       "    }\n",
       "\n",
       "    .dataframe tbody tr th {\n",
       "        vertical-align: top;\n",
       "    }\n",
       "\n",
       "    .dataframe thead th {\n",
       "        text-align: right;\n",
       "    }\n",
       "</style>\n",
       "<table border=\"1\" class=\"dataframe\">\n",
       "  <thead>\n",
       "    <tr style=\"text-align: right;\">\n",
       "      <th></th>\n",
       "      <th>student_ID</th>\n",
       "      <th>background</th>\n",
       "      <th>curriculum</th>\n",
       "      <th>effort</th>\n",
       "      <th>score</th>\n",
       "    </tr>\n",
       "  </thead>\n",
       "  <tbody>\n",
       "    <tr>\n",
       "      <th>0</th>\n",
       "      <td>1</td>\n",
       "      <td>arts</td>\n",
       "      <td>debate</td>\n",
       "      <td>10.96</td>\n",
       "      <td>75.0</td>\n",
       "    </tr>\n",
       "    <tr>\n",
       "      <th>1</th>\n",
       "      <td>2</td>\n",
       "      <td>science</td>\n",
       "      <td>lecture</td>\n",
       "      <td>8.69</td>\n",
       "      <td>75.0</td>\n",
       "    </tr>\n",
       "    <tr>\n",
       "      <th>2</th>\n",
       "      <td>3</td>\n",
       "      <td>arts</td>\n",
       "      <td>debate</td>\n",
       "      <td>8.60</td>\n",
       "      <td>67.0</td>\n",
       "    </tr>\n",
       "    <tr>\n",
       "      <th>3</th>\n",
       "      <td>4</td>\n",
       "      <td>arts</td>\n",
       "      <td>lecture</td>\n",
       "      <td>7.92</td>\n",
       "      <td>70.3</td>\n",
       "    </tr>\n",
       "    <tr>\n",
       "      <th>4</th>\n",
       "      <td>5</td>\n",
       "      <td>science</td>\n",
       "      <td>debate</td>\n",
       "      <td>9.90</td>\n",
       "      <td>76.1</td>\n",
       "    </tr>\n",
       "  </tbody>\n",
       "</table>\n",
       "</div>"
      ],
      "text/plain": [
       "   student_ID background curriculum  effort  score\n",
       "0           1       arts     debate   10.96   75.0\n",
       "1           2    science    lecture    8.69   75.0\n",
       "2           3       arts     debate    8.60   67.0\n",
       "3           4       arts    lecture    7.92   70.3\n",
       "4           5    science     debate    9.90   76.1"
      ]
     },
     "execution_count": 63,
     "metadata": {},
     "output_type": "execute_result"
    }
   ],
   "source": [
    "students.head()"
   ]
  },
  {
   "cell_type": "code",
   "execution_count": null,
   "id": "15e249ba-39e0-454e-8e7f-44160553d374",
   "metadata": {},
   "outputs": [],
   "source": []
  },
  {
   "cell_type": "markdown",
   "id": "cd7ae9da-7762-4e3a-8876-eae20b443e31",
   "metadata": {},
   "source": [
    "### Apple weights"
   ]
  },
  {
   "cell_type": "code",
   "execution_count": null,
   "id": "e1cecebc-3faf-4115-b970-c1557b15f60c",
   "metadata": {},
   "outputs": [],
   "source": []
  },
  {
   "cell_type": "markdown",
   "id": "df516b87-c900-42f7-a239-d6c7a3d819b7",
   "metadata": {},
   "source": [
    "### Kombucha volumes"
   ]
  },
  {
   "cell_type": "code",
   "execution_count": null,
   "id": "1ddd1d6e-1303-4752-890a-fc060c009bdd",
   "metadata": {},
   "outputs": [],
   "source": []
  },
  {
   "cell_type": "markdown",
   "id": "ef718e0e-3236-4ae2-becb-acc0471ec201",
   "metadata": {},
   "source": [
    "### Doctors' sleep study"
   ]
  },
  {
   "cell_type": "code",
   "execution_count": null,
   "id": "33707e0f-27dc-4ee6-b9d6-6b285841f11c",
   "metadata": {},
   "outputs": [],
   "source": []
  },
  {
   "cell_type": "code",
   "execution_count": null,
   "id": "e3780dcd-21f9-46a7-ba38-2e459cf3b7d5",
   "metadata": {},
   "outputs": [],
   "source": []
  },
  {
   "cell_type": "code",
   "execution_count": null,
   "id": "5a297df3-0e5d-4c41-878d-2f5c0d58e676",
   "metadata": {},
   "outputs": [],
   "source": []
  },
  {
   "cell_type": "markdown",
   "id": "ce9124bc-ece1-499d-95bd-b5c3ec6d5c0a",
   "metadata": {},
   "source": [
    "## Data pre-processing tasks\n",
    "\n",
    "- *Extract* the \"raw\" data from various data source formats\n",
    "  (spreadsheet, databases, files, web servers).\n",
    "- *Transform* the data by reshaping and cleaning it.\n",
    "- *Load* the data into the system used for statistical analysis."
   ]
  },
  {
   "cell_type": "code",
   "execution_count": null,
   "id": "5da55e3f-611b-48db-830b-b0ada182a0a6",
   "metadata": {},
   "outputs": [],
   "source": []
  }
 ],
 "metadata": {
  "kernelspec": {
   "display_name": "Python 3 (ipykernel)",
   "language": "python",
   "name": "python3"
  },
  "language_info": {
   "codemirror_mode": {
    "name": "ipython",
    "version": 3
   },
   "file_extension": ".py",
   "mimetype": "text/x-python",
   "name": "python",
   "nbconvert_exporter": "python",
   "pygments_lexer": "ipython3",
   "version": "3.9.4"
  },
  "toc-autonumbering": false,
  "toc-showcode": false,
  "toc-showmarkdowntxt": false,
  "toc-showtags": false
 },
 "nbformat": 4,
 "nbformat_minor": 5
}
