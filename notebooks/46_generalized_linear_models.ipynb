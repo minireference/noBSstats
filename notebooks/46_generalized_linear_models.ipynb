{
 "cells": [
  {
   "cell_type": "markdown",
   "id": "3ec95fa0-da20-41dc-820e-2f33f262f4e2",
   "metadata": {
    "tags": []
   },
   "source": [
    "# Section 4.6 — Generalized linear models\n",
    "\n",
    "This notebook contains the code examples from [Section 4.6 Generalized linear models]() from the **No Bullshit Guide to Statistics**."
   ]
  },
  {
   "cell_type": "markdown",
   "id": "eb4d1856-22a1-4634-87d7-5fc091d93e12",
   "metadata": {
    "tags": []
   },
   "source": [
    "#### Notebook setup"
   ]
  },
  {
   "cell_type": "code",
   "execution_count": 1,
   "id": "0003a9e7-21c7-47a5-bdec-3bd3ca2a79f4",
   "metadata": {},
   "outputs": [],
   "source": [
    "# load Python modules\n",
    "import os\n",
    "import numpy as np\n",
    "import pandas as pd\n",
    "import seaborn as sns"
   ]
  },
  {
   "cell_type": "code",
   "execution_count": 2,
   "id": "8e67e0e7-4f48-4c48-a49d-3cdf22cbd014",
   "metadata": {},
   "outputs": [
    {
     "data": {
      "text/plain": [
       "<Figure size 640x480 with 0 Axes>"
      ]
     },
     "metadata": {},
     "output_type": "display_data"
    }
   ],
   "source": [
    "# Figures setup\n",
    "import matplotlib.pyplot as plt\n",
    "plt.clf()  # needed otherwise `sns.set_theme` doesn't work\n",
    "from plot_helpers import RCPARAMS\n",
    "# RCPARAMS.update({'figure.figsize': (10, 3)})   # good for screen\n",
    "RCPARAMS.update({'figure.figsize': (4, 2)})  # good for print\n",
    "sns.set_theme(\n",
    "    context=\"paper\",\n",
    "    style=\"whitegrid\",\n",
    "    palette=\"colorblind\",\n",
    "    rc=RCPARAMS,\n",
    ")\n",
    "\n",
    "# High-resolution please\n",
    "%config InlineBackend.figure_format = 'retina'\n",
    "\n",
    "# Where to store figures\n",
    "DESTDIR = \"figures/lm/generalized\""
   ]
  },
  {
   "cell_type": "markdown",
   "id": "9b6a738d-2091-4737-97f7-e1550556a4ab",
   "metadata": {},
   "source": [
    "## Definitions"
   ]
  },
  {
   "cell_type": "code",
   "execution_count": 3,
   "id": "af4a3117-b480-4e74-836d-3a10b06da2df",
   "metadata": {},
   "outputs": [],
   "source": [
    "def expit(x):\n",
    "    p = np.exp(x) / (1 + np.exp(x))\n",
    "    return p\n",
    "\n",
    "def logit(p):\n",
    "    x = np.log(p / (1-p))\n",
    "    return x"
   ]
  },
  {
   "cell_type": "code",
   "execution_count": 4,
   "id": "b81d99a4-e05d-47b3-85b7-8a25f1baa913",
   "metadata": {},
   "outputs": [],
   "source": [
    "from scipy.special import logit\n",
    "from scipy.special import expit"
   ]
  },
  {
   "cell_type": "code",
   "execution_count": 5,
   "id": "06ad931a-5c47-4c7d-8c5e-34da7d24bece",
   "metadata": {},
   "outputs": [
    {
     "data": {
      "text/plain": [
       "0.30000000000000004"
      ]
     },
     "execution_count": 5,
     "metadata": {},
     "output_type": "execute_result"
    }
   ],
   "source": [
    "expit(logit(0.3))"
   ]
  },
  {
   "cell_type": "code",
   "execution_count": 6,
   "id": "1dbe0229-e946-4589-a4d0-eb51f53af964",
   "metadata": {},
   "outputs": [
    {
     "data": {
      "text/plain": [
       "5.000000000000019"
      ]
     },
     "execution_count": 6,
     "metadata": {},
     "output_type": "execute_result"
    }
   ],
   "source": [
    "logit(expit(5))"
   ]
  },
  {
   "cell_type": "markdown",
   "id": "f3ecb40b-3679-426d-873d-af0b304bfcf9",
   "metadata": {},
   "source": [
    "### Odds"
   ]
  },
  {
   "cell_type": "markdown",
   "id": "6b5a7702-8067-4337-be7c-7330807a2d1e",
   "metadata": {},
   "source": [
    "### Log-odds"
   ]
  },
  {
   "cell_type": "markdown",
   "id": "3723b64b-0ad7-4b1e-8a07-83e7f6ffaaf0",
   "metadata": {},
   "source": [
    "## Logistic regression\n",
    "\n",
    "TODO FORMULA"
   ]
  },
  {
   "cell_type": "markdown",
   "id": "ca58d023-9ad3-4be2-a91e-02bd6195f5db",
   "metadata": {},
   "source": [
    "### Data generation for logistic regression\n",
    "\n",
    "TODO: move to gen_interns.ipynb"
   ]
  },
  {
   "cell_type": "code",
   "execution_count": 7,
   "id": "e49c5d78-612d-4818-b536-8162bf36dd40",
   "metadata": {},
   "outputs": [],
   "source": [
    "from scipy.stats import norm\n",
    "from scipy.stats import bernoulli\n",
    "from scipy.special import expit\n",
    "\n",
    "np.random.seed(42)\n",
    "\n",
    "n = 100\n",
    "hours = norm(40, 5).rvs(n)\n",
    "prob_hired = expit(-80 + 2*hours)\n",
    "hired = bernoulli(prob_hired).rvs(n)\n",
    "\n",
    "interns = pd.DataFrame({\"hours\":hours.round(1),\n",
    "                        \"hired\":hired})\n",
    "\n",
    "interns.to_csv(\"../datasets/interns.csv\", index=False)"
   ]
  },
  {
   "cell_type": "code",
   "execution_count": null,
   "id": "c9170f85-b36e-4ae8-8c6f-88cadca617dd",
   "metadata": {},
   "outputs": [],
   "source": []
  },
  {
   "cell_type": "markdown",
   "id": "715e7c45-9aad-4c56-8cee-426dcb683d88",
   "metadata": {},
   "source": [
    "## Logistic regression"
   ]
  },
  {
   "cell_type": "markdown",
   "id": "4d7604ee-8867-49ed-8da3-e6dfbb7934a1",
   "metadata": {},
   "source": [
    "### Example 1: hiring student interns"
   ]
  },
  {
   "cell_type": "code",
   "execution_count": 8,
   "id": "ed07f2d5-3524-427a-bf15-e325e8d57fd1",
   "metadata": {},
   "outputs": [
    {
     "data": {
      "text/html": [
       "<div>\n",
       "<style scoped>\n",
       "    .dataframe tbody tr th:only-of-type {\n",
       "        vertical-align: middle;\n",
       "    }\n",
       "\n",
       "    .dataframe tbody tr th {\n",
       "        vertical-align: top;\n",
       "    }\n",
       "\n",
       "    .dataframe thead th {\n",
       "        text-align: right;\n",
       "    }\n",
       "</style>\n",
       "<table border=\"1\" class=\"dataframe\">\n",
       "  <thead>\n",
       "    <tr style=\"text-align: right;\">\n",
       "      <th></th>\n",
       "      <th>hours</th>\n",
       "      <th>hired</th>\n",
       "    </tr>\n",
       "  </thead>\n",
       "  <tbody>\n",
       "    <tr>\n",
       "      <th>0</th>\n",
       "      <td>42.5</td>\n",
       "      <td>1</td>\n",
       "    </tr>\n",
       "    <tr>\n",
       "      <th>1</th>\n",
       "      <td>39.3</td>\n",
       "      <td>0</td>\n",
       "    </tr>\n",
       "    <tr>\n",
       "      <th>2</th>\n",
       "      <td>43.2</td>\n",
       "      <td>1</td>\n",
       "    </tr>\n",
       "  </tbody>\n",
       "</table>\n",
       "</div>"
      ],
      "text/plain": [
       "   hours  hired\n",
       "0   42.5      1\n",
       "1   39.3      0\n",
       "2   43.2      1"
      ]
     },
     "execution_count": 8,
     "metadata": {},
     "output_type": "execute_result"
    }
   ],
   "source": [
    "interns = pd.read_csv(\"../datasets/interns.csv\")\n",
    "interns.head(3)"
   ]
  },
  {
   "cell_type": "code",
   "execution_count": 9,
   "id": "3732e2b2-bb46-47ee-bb00-131f22e4bc5d",
   "metadata": {},
   "outputs": [
    {
     "name": "stdout",
     "output_type": "stream",
     "text": [
      "Optimization terminated successfully.\n",
      "         Current function value: 0.138101\n",
      "         Iterations 10\n",
      "Intercept   -78.693205\n",
      "hours         1.981458\n",
      "dtype: float64\n"
     ]
    }
   ],
   "source": [
    "import statsmodels.formula.api as smf\n",
    "\n",
    "lr1 = smf.logit(\"hired ~ 1 + hours\", data=interns).fit()\n",
    "print(lr1.params)"
   ]
  },
  {
   "cell_type": "code",
   "execution_count": 10,
   "id": "0cb5e3c9-f2bb-4785-9983-011d19f70e6e",
   "metadata": {},
   "outputs": [
    {
     "data": {
      "image/png": "[encoded data removed]",
      "text/plain": [
       "<Figure size 400x200 with 1 Axes>"
      ]
     },
     "metadata": {
      "image/png": {
       "height": 216,
       "width": 376
      }
     },
     "output_type": "display_data"
    }
   ],
   "source": [
    "hours = np.linspace(20, 50, 100)\n",
    "hired_preds = lr1.predict({\"hours\": hours})\n",
    "ax = sns.scatterplot(data=interns, x=\"hours\", y=\"hired\", alpha=0.3)\n",
    "sns.lineplot(x=hours, y=hired_preds, ax=ax);"
   ]
  },
  {
   "cell_type": "code",
   "execution_count": 11,
   "id": "72f5049b-b6bd-4ea5-9f64-c194ab6fb005",
   "metadata": {},
   "outputs": [
    {
     "data": {
      "text/html": [
       "<table class=\"simpletable\">\n",
       "<caption>Logit Regression Results</caption>\n",
       "<tr>\n",
       "  <th>Dep. Variable:</th>         <td>hired</td>      <th>  No. Observations:  </th>  <td>   100</td>  \n",
       "</tr>\n",
       "<tr>\n",
       "  <th>Model:</th>                 <td>Logit</td>      <th>  Df Residuals:      </th>  <td>    98</td>  \n",
       "</tr>\n",
       "<tr>\n",
       "  <th>Method:</th>                 <td>MLE</td>       <th>  Df Model:          </th>  <td>     1</td>  \n",
       "</tr>\n",
       "<tr>\n",
       "  <th>Date:</th>            <td>Tue, 02 Jul 2024</td> <th>  Pseudo R-squ.:     </th>  <td>0.8005</td>  \n",
       "</tr>\n",
       "<tr>\n",
       "  <th>Time:</th>                <td>15:20:09</td>     <th>  Log-Likelihood:    </th> <td> -13.810</td> \n",
       "</tr>\n",
       "<tr>\n",
       "  <th>converged:</th>             <td>True</td>       <th>  LL-Null:           </th> <td> -69.235</td> \n",
       "</tr>\n",
       "<tr>\n",
       "  <th>Covariance Type:</th>     <td>nonrobust</td>    <th>  LLR p-value:       </th> <td>6.385e-26</td>\n",
       "</tr>\n",
       "</table>\n",
       "<table class=\"simpletable\">\n",
       "<tr>\n",
       "      <td></td>         <th>coef</th>     <th>std err</th>      <th>z</th>      <th>P>|z|</th>  <th>[0.025</th>    <th>0.975]</th>  \n",
       "</tr>\n",
       "<tr>\n",
       "  <th>Intercept</th> <td>  -78.6932</td> <td>   19.851</td> <td>   -3.964</td> <td> 0.000</td> <td> -117.600</td> <td>  -39.787</td>\n",
       "</tr>\n",
       "<tr>\n",
       "  <th>hours</th>     <td>    1.9815</td> <td>    0.500</td> <td>    3.959</td> <td> 0.000</td> <td>    1.001</td> <td>    2.962</td>\n",
       "</tr>\n",
       "</table><br/><br/>Possibly complete quasi-separation: A fraction 0.32 of observations can be<br/>perfectly predicted. This might indicate that there is complete<br/>quasi-separation. In this case some parameters will not be identified."
      ],
      "text/latex": [
       "\\begin{center}\n",
       "\\begin{tabular}{lclc}\n",
       "\\toprule\n",
       "\\textbf{Dep. Variable:}   &      hired       & \\textbf{  No. Observations:  } &      100    \\\\\n",
       "\\textbf{Model:}           &      Logit       & \\textbf{  Df Residuals:      } &       98    \\\\\n",
       "\\textbf{Method:}          &       MLE        & \\textbf{  Df Model:          } &        1    \\\\\n",
       "\\textbf{Date:}            & Tue, 02 Jul 2024 & \\textbf{  Pseudo R-squ.:     } &   0.8005    \\\\\n",
       "\\textbf{Time:}            &     15:20:09     & \\textbf{  Log-Likelihood:    } &   -13.810   \\\\\n",
       "\\textbf{converged:}       &       True       & \\textbf{  LL-Null:           } &   -69.235   \\\\\n",
       "\\textbf{Covariance Type:} &    nonrobust     & \\textbf{  LLR p-value:       } & 6.385e-26   \\\\\n",
       "\\bottomrule\n",
       "\\end{tabular}\n",
       "\\begin{tabular}{lcccccc}\n",
       "                   & \\textbf{coef} & \\textbf{std err} & \\textbf{z} & \\textbf{P$> |$z$|$} & \\textbf{[0.025} & \\textbf{0.975]}  \\\\\n",
       "\\midrule\n",
       "\\textbf{Intercept} &     -78.6932  &       19.851     &    -3.964  &         0.000        &     -117.600    &      -39.787     \\\\\n",
       "\\textbf{hours}     &       1.9815  &        0.500     &     3.959  &         0.000        &        1.001    &        2.962     \\\\\n",
       "\\bottomrule\n",
       "\\end{tabular}\n",
       "%\\caption{Logit Regression Results}\n",
       "\\end{center}\n",
       "\n",
       "Possibly complete quasi-separation: A fraction 0.32 of observations can be \\newline\n",
       " perfectly predicted. This might indicate that there is complete \\newline\n",
       " quasi-separation. In this case some parameters will not be identified."
      ],
      "text/plain": [
       "<class 'statsmodels.iolib.summary.Summary'>\n",
       "\"\"\"\n",
       "                           Logit Regression Results                           \n",
       "==============================================================================\n",
       "Dep. Variable:                  hired   No. Observations:                  100\n",
       "Model:                          Logit   Df Residuals:                       98\n",
       "Method:                           MLE   Df Model:                            1\n",
       "Date:                Tue, 02 Jul 2024   Pseudo R-squ.:                  0.8005\n",
       "Time:                        15:20:09   Log-Likelihood:                -13.810\n",
       "converged:                       True   LL-Null:                       -69.235\n",
       "Covariance Type:            nonrobust   LLR p-value:                 6.385e-26\n",
       "==============================================================================\n",
       "                 coef    std err          z      P>|z|      [0.025      0.975]\n",
       "------------------------------------------------------------------------------\n",
       "Intercept    -78.6932     19.851     -3.964      0.000    -117.600     -39.787\n",
       "hours          1.9815      0.500      3.959      0.000       1.001       2.962\n",
       "==============================================================================\n",
       "\n",
       "Possibly complete quasi-separation: A fraction 0.32 of observations can be\n",
       "perfectly predicted. This might indicate that there is complete\n",
       "quasi-separation. In this case some parameters will not be identified.\n",
       "\"\"\""
      ]
     },
     "execution_count": 11,
     "metadata": {},
     "output_type": "execute_result"
    }
   ],
   "source": [
    "lr1.summary()"
   ]
  },
  {
   "cell_type": "markdown",
   "id": "cca91844-8721-4862-837f-04ec69f994de",
   "metadata": {},
   "source": [
    "### Prediction"
   ]
  },
  {
   "cell_type": "code",
   "execution_count": 12,
   "id": "35497880-d688-43aa-8a55-1781438d21c0",
   "metadata": {},
   "outputs": [
    {
     "data": {
      "text/plain": [
       "0.9273422944341034"
      ]
     },
     "execution_count": 12,
     "metadata": {},
     "output_type": "execute_result"
    }
   ],
   "source": [
    "prob_hired = lr1.predict({\"hours\":41})\n",
    "prob_hired[0]"
   ]
  },
  {
   "cell_type": "markdown",
   "id": "4654b75e-dbaa-46c6-8482-fd85ef987e0d",
   "metadata": {},
   "source": [
    "## Poisson regression"
   ]
  },
  {
   "cell_type": "markdown",
   "id": "c89dcc75-0e49-4255-ad26-c3dc6b65f51b",
   "metadata": {},
   "source": [
    "### Data generation for Poisson regression\n",
    "\n",
    "TODO: mv to gen_hdisks.ipynb"
   ]
  },
  {
   "cell_type": "code",
   "execution_count": 13,
   "id": "464a05ed-5c70-46ad-a29b-51d6bccaab96",
   "metadata": {},
   "outputs": [],
   "source": [
    "from scipy.stats import uniform\n",
    "from scipy.stats import poisson\n",
    "\n",
    "np.random.seed(47)\n",
    "\n",
    "n = 100\n",
    "age = uniform(0,15).rvs(n)\n",
    "lam = np.exp(1 + 0.2*age)\n",
    "failures = poisson(lam).rvs(n)\n",
    "\n",
    "hdisks = pd.DataFrame({\"age\":age.round(1),\n",
    "                       \"failures\":failures})\n",
    "\n",
    "hdisks.to_csv(\"../datasets/hdisks.csv\", index=False)"
   ]
  },
  {
   "cell_type": "markdown",
   "id": "02d6d2d9-7a0e-42c4-ad69-fd05c34ff3e0",
   "metadata": {},
   "source": [
    "### Example 2: hard disk failures over time"
   ]
  },
  {
   "cell_type": "code",
   "execution_count": 14,
   "id": "444ae703-6f3b-4429-9bf7-4c99850f3bd3",
   "metadata": {},
   "outputs": [
    {
     "data": {
      "text/html": [
       "<div>\n",
       "<style scoped>\n",
       "    .dataframe tbody tr th:only-of-type {\n",
       "        vertical-align: middle;\n",
       "    }\n",
       "\n",
       "    .dataframe tbody tr th {\n",
       "        vertical-align: top;\n",
       "    }\n",
       "\n",
       "    .dataframe thead th {\n",
       "        text-align: right;\n",
       "    }\n",
       "</style>\n",
       "<table border=\"1\" class=\"dataframe\">\n",
       "  <thead>\n",
       "    <tr style=\"text-align: right;\">\n",
       "      <th></th>\n",
       "      <th>age</th>\n",
       "      <th>failures</th>\n",
       "    </tr>\n",
       "  </thead>\n",
       "  <tbody>\n",
       "    <tr>\n",
       "      <th>0</th>\n",
       "      <td>1.7</td>\n",
       "      <td>3</td>\n",
       "    </tr>\n",
       "    <tr>\n",
       "      <th>1</th>\n",
       "      <td>14.6</td>\n",
       "      <td>46</td>\n",
       "    </tr>\n",
       "    <tr>\n",
       "      <th>2</th>\n",
       "      <td>10.9</td>\n",
       "      <td>23</td>\n",
       "    </tr>\n",
       "  </tbody>\n",
       "</table>\n",
       "</div>"
      ],
      "text/plain": [
       "    age  failures\n",
       "0   1.7         3\n",
       "1  14.6        46\n",
       "2  10.9        23"
      ]
     },
     "execution_count": 14,
     "metadata": {},
     "output_type": "execute_result"
    }
   ],
   "source": [
    "hdisks = pd.read_csv(\"../datasets/hdisks.csv\")\n",
    "hdisks.head(3)"
   ]
  },
  {
   "cell_type": "code",
   "execution_count": 15,
   "id": "97d88af8-5d0e-4ec7-91cd-26fe13189b28",
   "metadata": {},
   "outputs": [
    {
     "name": "stdout",
     "output_type": "stream",
     "text": [
      "Optimization terminated successfully.\n",
      "         Current function value: 2.693129\n",
      "         Iterations 6\n"
     ]
    },
    {
     "data": {
      "text/plain": [
       "Intercept    1.075999\n",
       "age          0.193828\n",
       "dtype: float64"
      ]
     },
     "execution_count": 15,
     "metadata": {},
     "output_type": "execute_result"
    }
   ],
   "source": [
    "import statsmodels.formula.api as smf\n",
    "\n",
    "pr2 = smf.poisson(\"failures ~ 1 + age\", data=hdisks).fit()\n",
    "pr2.params"
   ]
  },
  {
   "cell_type": "code",
   "execution_count": 16,
   "id": "057634b5-c617-45cd-b89c-99b70ec5a4c3",
   "metadata": {},
   "outputs": [
    {
     "data": {
      "image/png": "[encoded data removed]",
      "text/plain": [
       "<Figure size 400x200 with 1 Axes>"
      ]
     },
     "metadata": {
      "image/png": {
       "height": 216,
       "width": 373
      }
     },
     "output_type": "display_data"
    }
   ],
   "source": [
    "ages = np.linspace(0, 15, 100)\n",
    "failures_preds = pr2.predict({\"age\":ages})\n",
    "ax = sns.scatterplot(data=hdisks, x=\"age\", y=\"failures\", alpha=0.3)\n",
    "sns.lineplot(x=ages, y=failures_preds, ax=ax);"
   ]
  },
  {
   "cell_type": "code",
   "execution_count": 17,
   "id": "33ee0b0d-3383-4993-822f-c80d1668d96a",
   "metadata": {},
   "outputs": [
    {
     "data": {
      "text/html": [
       "<table class=\"simpletable\">\n",
       "<caption>Poisson Regression Results</caption>\n",
       "<tr>\n",
       "  <th>Dep. Variable:</th>       <td>failures</td>     <th>  No. Observations:  </th>   <td>   100</td>  \n",
       "</tr>\n",
       "<tr>\n",
       "  <th>Model:</th>                <td>Poisson</td>     <th>  Df Residuals:      </th>   <td>    98</td>  \n",
       "</tr>\n",
       "<tr>\n",
       "  <th>Method:</th>                 <td>MLE</td>       <th>  Df Model:          </th>   <td>     1</td>  \n",
       "</tr>\n",
       "<tr>\n",
       "  <th>Date:</th>            <td>Tue, 02 Jul 2024</td> <th>  Pseudo R-squ.:     </th>   <td>0.6412</td>  \n",
       "</tr>\n",
       "<tr>\n",
       "  <th>Time:</th>                <td>15:20:09</td>     <th>  Log-Likelihood:    </th>  <td> -269.31</td> \n",
       "</tr>\n",
       "<tr>\n",
       "  <th>converged:</th>             <td>True</td>       <th>  LL-Null:           </th>  <td> -750.68</td> \n",
       "</tr>\n",
       "<tr>\n",
       "  <th>Covariance Type:</th>     <td>nonrobust</td>    <th>  LLR p-value:       </th> <td>2.271e-211</td>\n",
       "</tr>\n",
       "</table>\n",
       "<table class=\"simpletable\">\n",
       "<tr>\n",
       "      <td></td>         <th>coef</th>     <th>std err</th>      <th>z</th>      <th>P>|z|</th>  <th>[0.025</th>    <th>0.975]</th>  \n",
       "</tr>\n",
       "<tr>\n",
       "  <th>Intercept</th> <td>    1.0760</td> <td>    0.076</td> <td>   14.114</td> <td> 0.000</td> <td>    0.927</td> <td>    1.225</td>\n",
       "</tr>\n",
       "<tr>\n",
       "  <th>age</th>       <td>    0.1938</td> <td>    0.007</td> <td>   28.603</td> <td> 0.000</td> <td>    0.181</td> <td>    0.207</td>\n",
       "</tr>\n",
       "</table>"
      ],
      "text/latex": [
       "\\begin{center}\n",
       "\\begin{tabular}{lclc}\n",
       "\\toprule\n",
       "\\textbf{Dep. Variable:}   &     failures     & \\textbf{  No. Observations:  } &      100    \\\\\n",
       "\\textbf{Model:}           &     Poisson      & \\textbf{  Df Residuals:      } &       98    \\\\\n",
       "\\textbf{Method:}          &       MLE        & \\textbf{  Df Model:          } &        1    \\\\\n",
       "\\textbf{Date:}            & Tue, 02 Jul 2024 & \\textbf{  Pseudo R-squ.:     } &   0.6412    \\\\\n",
       "\\textbf{Time:}            &     15:20:09     & \\textbf{  Log-Likelihood:    } &   -269.31   \\\\\n",
       "\\textbf{converged:}       &       True       & \\textbf{  LL-Null:           } &   -750.68   \\\\\n",
       "\\textbf{Covariance Type:} &    nonrobust     & \\textbf{  LLR p-value:       } & 2.271e-211  \\\\\n",
       "\\bottomrule\n",
       "\\end{tabular}\n",
       "\\begin{tabular}{lcccccc}\n",
       "                   & \\textbf{coef} & \\textbf{std err} & \\textbf{z} & \\textbf{P$> |$z$|$} & \\textbf{[0.025} & \\textbf{0.975]}  \\\\\n",
       "\\midrule\n",
       "\\textbf{Intercept} &       1.0760  &        0.076     &    14.114  &         0.000        &        0.927    &        1.225     \\\\\n",
       "\\textbf{age}       &       0.1938  &        0.007     &    28.603  &         0.000        &        0.181    &        0.207     \\\\\n",
       "\\bottomrule\n",
       "\\end{tabular}\n",
       "%\\caption{Poisson Regression Results}\n",
       "\\end{center}"
      ],
      "text/plain": [
       "<class 'statsmodels.iolib.summary.Summary'>\n",
       "\"\"\"\n",
       "                          Poisson Regression Results                          \n",
       "==============================================================================\n",
       "Dep. Variable:               failures   No. Observations:                  100\n",
       "Model:                        Poisson   Df Residuals:                       98\n",
       "Method:                           MLE   Df Model:                            1\n",
       "Date:                Tue, 02 Jul 2024   Pseudo R-squ.:                  0.6412\n",
       "Time:                        15:20:09   Log-Likelihood:                -269.31\n",
       "converged:                       True   LL-Null:                       -750.68\n",
       "Covariance Type:            nonrobust   LLR p-value:                2.271e-211\n",
       "==============================================================================\n",
       "                 coef    std err          z      P>|z|      [0.025      0.975]\n",
       "------------------------------------------------------------------------------\n",
       "Intercept      1.0760      0.076     14.114      0.000       0.927       1.225\n",
       "age            0.1938      0.007     28.603      0.000       0.181       0.207\n",
       "==============================================================================\n",
       "\"\"\""
      ]
     },
     "execution_count": 17,
     "metadata": {},
     "output_type": "execute_result"
    }
   ],
   "source": [
    "pr2.summary()"
   ]
  },
  {
   "cell_type": "code",
   "execution_count": null,
   "id": "a4f4876a-23e1-4c18-8fe6-a5ed84aea3e1",
   "metadata": {},
   "outputs": [],
   "source": []
  },
  {
   "cell_type": "code",
   "execution_count": null,
   "id": "003afb6e-ef11-4198-8f41-190f876b6a79",
   "metadata": {},
   "outputs": [],
   "source": []
  },
  {
   "cell_type": "code",
   "execution_count": null,
   "id": "65c9349a-37c0-4787-9955-dfd07f6af977",
   "metadata": {},
   "outputs": [],
   "source": []
  },
  {
   "cell_type": "markdown",
   "id": "56c5dba6-9bf6-4f43-af1e-2cebca7a9bec",
   "metadata": {},
   "source": [
    "## Explanations"
   ]
  },
  {
   "cell_type": "markdown",
   "id": "d56088fb-7f4e-4b98-8f71-5792ea944ec8",
   "metadata": {},
   "source": [
    "### Generalized linear families"
   ]
  },
  {
   "cell_type": "code",
   "execution_count": 18,
   "id": "2c4e74c7-bb65-4d59-b728-536d80728dc1",
   "metadata": {},
   "outputs": [],
   "source": [
    "import statsmodels.api as sm\n",
    "\n",
    "Bin = sm.families.Binomial()\n",
    "Pois = sm.families.Poisson()"
   ]
  },
  {
   "cell_type": "code",
   "execution_count": 19,
   "id": "3a662276-9fd4-42f2-9b90-911d985574ec",
   "metadata": {},
   "outputs": [
    {
     "data": {
      "text/plain": [
       "Intercept   -78.693205\n",
       "hours         1.981458\n",
       "dtype: float64"
      ]
     },
     "execution_count": 19,
     "metadata": {},
     "output_type": "execute_result"
    }
   ],
   "source": [
    "#######################################################\n",
    "formula = \"hired ~ 1 + hours\"\n",
    "glm1 = smf.glm(formula, data=interns, family=Bin).fit()\n",
    "glm1.params\n",
    "# glm1.summary()"
   ]
  },
  {
   "cell_type": "code",
   "execution_count": 20,
   "id": "a6559a59-5b4f-49fd-934b-7761c0b45468",
   "metadata": {},
   "outputs": [
    {
     "data": {
      "text/plain": [
       "Intercept    1.075999\n",
       "age          0.193828\n",
       "dtype: float64"
      ]
     },
     "execution_count": 20,
     "metadata": {},
     "output_type": "execute_result"
    }
   ],
   "source": [
    "#######################################################\n",
    "formula = \"failures ~ 1 + age\"\n",
    "glm2 = smf.glm(formula, data=hdisks, family=Pois).fit()\n",
    "glm2.params\n",
    "# glm2.summary()"
   ]
  },
  {
   "cell_type": "markdown",
   "id": "f76327fa-d50a-4312-a8d7-a1964e03b5fd",
   "metadata": {},
   "source": [
    "## Discussion"
   ]
  },
  {
   "cell_type": "markdown",
   "id": "21ac50fd-8d59-4f56-8af4-fbf64e95a72c",
   "metadata": {},
   "source": [
    "### Model diagnostics"
   ]
  },
  {
   "cell_type": "code",
   "execution_count": 21,
   "id": "07ca5a17-d30b-401c-bf67-818e02240a19",
   "metadata": {},
   "outputs": [],
   "source": [
    "# Dispersion from GLM attributes\n",
    "# glm2.pearson_chi2 / glm2.df_resid"
   ]
  },
  {
   "cell_type": "code",
   "execution_count": 22,
   "id": "b0bf498a-ffe9-4470-9069-03bd8d7b27a5",
   "metadata": {},
   "outputs": [
    {
     "name": "stdout",
     "output_type": "stream",
     "text": [
      "Dispersion: 0.9869289289681199\n"
     ]
    }
   ],
   "source": [
    "# Calculate Pearson chi-squared statistic\n",
    "observed = hdisks['failures']\n",
    "predicted = pr2.predict()\n",
    "pearson_residuals = (observed - predicted) / np.sqrt(predicted)\n",
    "pearson_chi2 = np.sum(pearson_residuals**2)\n",
    "df_resid = pr2.df_resid\n",
    "dispersion = pearson_chi2 / df_resid\n",
    "print(f'Dispersion: {dispersion}')\n",
    "# If dispersion > 1, consider Negative Binomial regression"
   ]
  },
  {
   "cell_type": "code",
   "execution_count": null,
   "id": "61d08a12-611d-4f55-9af0-c826dd84b3a8",
   "metadata": {},
   "outputs": [],
   "source": []
  },
  {
   "cell_type": "markdown",
   "id": "3b84dc78-7934-475e-8dfd-cf23e9ee843f",
   "metadata": {},
   "source": [
    "## Exercises"
   ]
  },
  {
   "cell_type": "markdown",
   "id": "fb23931d-ab9b-4e57-9876-0ca3c17b8e48",
   "metadata": {},
   "source": [
    "### Exercise: students pass or fail"
   ]
  },
  {
   "cell_type": "code",
   "execution_count": 23,
   "id": "50c95902-f1d9-4386-a79a-8c00b375ea57",
   "metadata": {},
   "outputs": [],
   "source": [
    "students = pd.read_csv('../datasets/students.csv')\n",
    "students[\"passing\"] = (students[\"score\"] > 70).astype(int)\n",
    "# students.head()"
   ]
  },
  {
   "cell_type": "code",
   "execution_count": 24,
   "id": "dcf60790-d2a2-45ab-a060-9d4283a7a91d",
   "metadata": {},
   "outputs": [
    {
     "name": "stdout",
     "output_type": "stream",
     "text": [
      "Optimization terminated successfully.\n",
      "         Current function value: 0.276583\n",
      "         Iterations 8\n",
      "Intercept   -16.257302\n",
      "effort        2.047882\n",
      "dtype: float64\n"
     ]
    },
    {
     "data": {
      "image/png": "[encoded data removed]",
      "text/plain": [
       "<Figure size 400x200 with 1 Axes>"
      ]
     },
     "metadata": {
      "image/png": {
       "height": 216,
       "width": 376
      }
     },
     "output_type": "display_data"
    }
   ],
   "source": [
    "lmpass = smf.logit(\"passing ~ 1 + effort\", data=students).fit()\n",
    "print(lmpass.params)\n",
    "\n",
    "efforts = np.linspace(0, 13, 100)\n",
    "passing_preds = lmpass.predict({\"effort\": efforts})\n",
    "ax = sns.scatterplot(data=students, x=\"effort\", y=\"passing\", alpha=0.3)\n",
    "sns.lineplot(x=efforts, y=passing_preds, ax=ax);"
   ]
  },
  {
   "cell_type": "code",
   "execution_count": 25,
   "id": "4a662e23-b0ac-4f92-a21f-5c538412b779",
   "metadata": {},
   "outputs": [
    {
     "data": {
      "text/plain": [
       "0    0.531396\n",
       "dtype: float64"
      ]
     },
     "execution_count": 25,
     "metadata": {},
     "output_type": "execute_result"
    }
   ],
   "source": [
    "lmpass.predict({\"effort\":8})"
   ]
  },
  {
   "cell_type": "code",
   "execution_count": 26,
   "id": "1409da29-bdd1-49e9-8fd1-74e2ee4156e8",
   "metadata": {},
   "outputs": [
    {
     "data": {
      "text/plain": [
       "0.5313963881248303"
      ]
     },
     "execution_count": 26,
     "metadata": {},
     "output_type": "execute_result"
    }
   ],
   "source": [
    "intercept, b_effort = lmpass.params\n",
    "expit(intercept + b_effort*8)"
   ]
  },
  {
   "cell_type": "markdown",
   "id": "d8eebdfa-2b50-403c-96c4-60840e8ea47e",
   "metadata": {},
   "source": [
    "### Exercise: titanic survival data\n",
    "\n",
    "cf. [Titanic_Logistic_Regression.ipynb](./explorations/Titanic_Logistic_Regression.ipynb)"
   ]
  },
  {
   "cell_type": "code",
   "execution_count": 27,
   "id": "a4323038-9433-446d-a7de-adf0abcf9d93",
   "metadata": {},
   "outputs": [
    {
     "data": {
      "text/html": [
       "<div>\n",
       "<style scoped>\n",
       "    .dataframe tbody tr th:only-of-type {\n",
       "        vertical-align: middle;\n",
       "    }\n",
       "\n",
       "    .dataframe tbody tr th {\n",
       "        vertical-align: top;\n",
       "    }\n",
       "\n",
       "    .dataframe thead th {\n",
       "        text-align: right;\n",
       "    }\n",
       "</style>\n",
       "<table border=\"1\" class=\"dataframe\">\n",
       "  <thead>\n",
       "    <tr style=\"text-align: right;\">\n",
       "      <th></th>\n",
       "      <th>Survived</th>\n",
       "      <th>Age</th>\n",
       "      <th>Sex</th>\n",
       "      <th>Pclass</th>\n",
       "    </tr>\n",
       "  </thead>\n",
       "  <tbody>\n",
       "    <tr>\n",
       "      <th>0</th>\n",
       "      <td>0</td>\n",
       "      <td>22.0</td>\n",
       "      <td>male</td>\n",
       "      <td>3</td>\n",
       "    </tr>\n",
       "    <tr>\n",
       "      <th>1</th>\n",
       "      <td>1</td>\n",
       "      <td>38.0</td>\n",
       "      <td>female</td>\n",
       "      <td>1</td>\n",
       "    </tr>\n",
       "    <tr>\n",
       "      <th>2</th>\n",
       "      <td>1</td>\n",
       "      <td>26.0</td>\n",
       "      <td>female</td>\n",
       "      <td>3</td>\n",
       "    </tr>\n",
       "    <tr>\n",
       "      <th>3</th>\n",
       "      <td>1</td>\n",
       "      <td>35.0</td>\n",
       "      <td>female</td>\n",
       "      <td>1</td>\n",
       "    </tr>\n",
       "    <tr>\n",
       "      <th>4</th>\n",
       "      <td>0</td>\n",
       "      <td>35.0</td>\n",
       "      <td>male</td>\n",
       "      <td>3</td>\n",
       "    </tr>\n",
       "  </tbody>\n",
       "</table>\n",
       "</div>"
      ],
      "text/plain": [
       "   Survived   Age     Sex  Pclass\n",
       "0         0  22.0    male       3\n",
       "1         1  38.0  female       1\n",
       "2         1  26.0  female       3\n",
       "3         1  35.0  female       1\n",
       "4         0  35.0    male       3"
      ]
     },
     "execution_count": 27,
     "metadata": {},
     "output_type": "execute_result"
    }
   ],
   "source": [
    "titanic_raw = pd.read_csv('../datasets/exercises/titanic.csv')\n",
    "titanic = titanic_raw[['Survived', 'Age', 'Sex', 'Pclass']]\n",
    "titanic = titanic.dropna()\n",
    "titanic.head()"
   ]
  },
  {
   "cell_type": "code",
   "execution_count": 28,
   "id": "224d3364-1a32-4a73-9140-fd64be7ae3d1",
   "metadata": {},
   "outputs": [
    {
     "name": "stdout",
     "output_type": "stream",
     "text": [
      "Optimization terminated successfully.\n",
      "         Current function value: 0.453279\n",
      "         Iterations 6\n"
     ]
    },
    {
     "data": {
      "text/plain": [
       "Intercept         3.777013\n",
       "C(Sex)[T.male]   -2.522781\n",
       "C(Pclass)[T.2]   -1.309799\n",
       "C(Pclass)[T.3]   -2.580625\n",
       "Age              -0.036985\n",
       "dtype: float64"
      ]
     },
     "execution_count": 28,
     "metadata": {},
     "output_type": "execute_result"
    }
   ],
   "source": [
    "formula = \"Survived ~ Age + C(Sex) + C(Pclass)\"\n",
    "lrtitanic = smf.logit(formula, data=titanic).fit()\n",
    "lrtitanic.params"
   ]
  },
  {
   "cell_type": "code",
   "execution_count": 29,
   "id": "36aba704-3b4b-4386-b305-52589a0fb64e",
   "metadata": {},
   "outputs": [
    {
     "data": {
      "text/plain": [
       "(array([3.77702703]),\n",
       " array([[-0.03698571, -2.52276365, -1.30981349, -2.58063585]]))"
      ]
     },
     "execution_count": 29,
     "metadata": {},
     "output_type": "execute_result"
    }
   ],
   "source": [
    "# Cross check with sklearn\n",
    "from sklearn.linear_model import LogisticRegression\n",
    "df = pd.get_dummies(titanic, columns=['Sex', 'Pclass'], drop_first=True)\n",
    "X, y = df.drop('Survived', axis=1), df['Survived']\n",
    "sktitanic = LogisticRegression(penalty=None)\n",
    "sktitanic.fit(X, y)\n",
    "sktitanic.intercept_, sktitanic.coef_"
   ]
  },
  {
   "cell_type": "code",
   "execution_count": null,
   "id": "15f895ef-3109-42e0-8f33-17d616bf597e",
   "metadata": {},
   "outputs": [],
   "source": []
  },
  {
   "cell_type": "markdown",
   "id": "f83eb7a2-20af-4da8-af87-a4b8e956ba97",
   "metadata": {},
   "source": [
    "### Exercise: student admissions dataset"
   ]
  },
  {
   "cell_type": "code",
   "execution_count": 30,
   "id": "b161453d-9aee-40ee-92ec-c34976c8176e",
   "metadata": {},
   "outputs": [
    {
     "data": {
      "text/html": [
       "<div>\n",
       "<style scoped>\n",
       "    .dataframe tbody tr th:only-of-type {\n",
       "        vertical-align: middle;\n",
       "    }\n",
       "\n",
       "    .dataframe tbody tr th {\n",
       "        vertical-align: top;\n",
       "    }\n",
       "\n",
       "    .dataframe thead th {\n",
       "        text-align: right;\n",
       "    }\n",
       "</style>\n",
       "<table border=\"1\" class=\"dataframe\">\n",
       "  <thead>\n",
       "    <tr style=\"text-align: right;\">\n",
       "      <th></th>\n",
       "      <th>admit</th>\n",
       "      <th>gre</th>\n",
       "      <th>gpa</th>\n",
       "      <th>rank</th>\n",
       "    </tr>\n",
       "  </thead>\n",
       "  <tbody>\n",
       "    <tr>\n",
       "      <th>0</th>\n",
       "      <td>0</td>\n",
       "      <td>380</td>\n",
       "      <td>3.61</td>\n",
       "      <td>3</td>\n",
       "    </tr>\n",
       "    <tr>\n",
       "      <th>1</th>\n",
       "      <td>1</td>\n",
       "      <td>660</td>\n",
       "      <td>3.67</td>\n",
       "      <td>3</td>\n",
       "    </tr>\n",
       "    <tr>\n",
       "      <th>2</th>\n",
       "      <td>1</td>\n",
       "      <td>800</td>\n",
       "      <td>4.00</td>\n",
       "      <td>1</td>\n",
       "    </tr>\n",
       "  </tbody>\n",
       "</table>\n",
       "</div>"
      ],
      "text/plain": [
       "   admit  gre   gpa  rank\n",
       "0      0  380  3.61     3\n",
       "1      1  660  3.67     3\n",
       "2      1  800  4.00     1"
      ]
     },
     "execution_count": 30,
     "metadata": {},
     "output_type": "execute_result"
    }
   ],
   "source": [
    "# data = whether students got admitted (admit=1) or not (admit=0) based on their gre and gpa scores, and the rank of their instutution\n",
    "# raw_data = pd.read_csv('https://stats.idre.ucla.edu/stat/data/binary.csv')\n",
    "binary = pd.read_csv('../datasets/exercises/binary.csv')\n",
    "binary.head(3)"
   ]
  },
  {
   "cell_type": "code",
   "execution_count": 31,
   "id": "5440109b-7b2c-47ff-90fc-5291f89726f0",
   "metadata": {},
   "outputs": [
    {
     "name": "stdout",
     "output_type": "stream",
     "text": [
      "Optimization terminated successfully.\n",
      "         Current function value: 0.573147\n",
      "         Iterations 6\n"
     ]
    },
    {
     "data": {
      "text/plain": [
       "Intercept      -3.989979\n",
       "C(rank)[T.2]   -0.675443\n",
       "C(rank)[T.3]   -1.340204\n",
       "C(rank)[T.4]   -1.551464\n",
       "gre             0.002264\n",
       "gpa             0.804038\n",
       "dtype: float64"
      ]
     },
     "execution_count": 31,
     "metadata": {},
     "output_type": "execute_result"
    }
   ],
   "source": [
    "lrbinary = smf.logit('admit ~ gre + gpa + C(rank)', data=binary).fit()\n",
    "lrbinary.params"
   ]
  },
  {
   "cell_type": "code",
   "execution_count": null,
   "id": "2328e898-ead5-44e4-ab09-8ae6e9a011a0",
   "metadata": {},
   "outputs": [],
   "source": []
  },
  {
   "cell_type": "markdown",
   "id": "1ba2b84f-5382-4935-8364-f216fb7c0ceb",
   "metadata": {},
   "source": [
    "The above model uses the rank=1 as the reference category an the log odds reported are with respect to this catrgory\n",
    "\n",
    "$$\n",
    "   \\log p(accept|rank=1) / \\log p(accept|rank=2) = \\texttt{C(rank)rank[T.2]} = -0.675443\n",
    "$$\n",
    "\n",
    "etc. for others\n",
    "rank[T.3] \t-1.340204\n",
    "rank[T.4] \t-1.551464\n",
    "\n",
    "\n",
    "See [LogisticRegressionChangeOfReferenceCategoricalValue.ipynb](./explorations/LogisticRegressionChangeOfReferenceCategoricalValue.ipynb) for exercise recodign relative to different refrence level.\n"
   ]
  },
  {
   "cell_type": "code",
   "execution_count": null,
   "id": "62ce86e3-3498-458b-a860-0eccbd3b6eb2",
   "metadata": {},
   "outputs": [],
   "source": []
  },
  {
   "cell_type": "code",
   "execution_count": 32,
   "id": "3bcf06b8-33d9-431b-a9a5-f2a6fa676107",
   "metadata": {},
   "outputs": [
    {
     "data": {
      "text/plain": [
       "(array([-3.99001587]),\n",
       " array([[ 0.00226442,  0.80404719, -0.67543916, -1.3401993 , -1.5514551 ]]))"
      ]
     },
     "execution_count": 32,
     "metadata": {},
     "output_type": "execute_result"
    }
   ],
   "source": [
    "# Cross check with sklearn\n",
    "from sklearn.linear_model import LogisticRegression\n",
    "df = pd.get_dummies(binary, columns=['rank'], drop_first=True)\n",
    "X, y = df.drop(\"admit\", axis=1), df[\"admit\"]\n",
    "lr = LogisticRegression(solver=\"lbfgs\", penalty=None, max_iter=1000)\n",
    "lr.fit(X, y)\n",
    "lr.intercept_,  lr.coef_"
   ]
  },
  {
   "cell_type": "code",
   "execution_count": null,
   "id": "c079fdef-94e7-4119-aa34-c1c0e3b75321",
   "metadata": {},
   "outputs": [],
   "source": []
  },
  {
   "cell_type": "code",
   "execution_count": null,
   "id": "5b686626-9a3c-44fb-b1c1-c788fc2c8955",
   "metadata": {},
   "outputs": [],
   "source": []
  },
  {
   "cell_type": "markdown",
   "id": "e39da9f6-0f9e-4f32-989e-c9ff9d6c9e6e",
   "metadata": {},
   "source": [
    "### Exercise: LA high schools (NOT A VERY GOOD FIT FOR POISSON MODEL)\n",
    "\n",
    "Dataset info: \n",
    "http://www.philender.com/courses/intro/assign/data.html\n",
    "\n",
    "This dataset consists of data from computer exercises collected from two high school in the Los Angeles area.\n",
    "\n",
    "\n",
    "http://www.philender.com/courses/intro/code.html\n",
    "\n"
   ]
  },
  {
   "cell_type": "code",
   "execution_count": 33,
   "id": "9cac7ea0-a64b-4bf0-834b-e7b8de30ccff",
   "metadata": {},
   "outputs": [
    {
     "data": {
      "text/html": [
       "<div>\n",
       "<style scoped>\n",
       "    .dataframe tbody tr th:only-of-type {\n",
       "        vertical-align: middle;\n",
       "    }\n",
       "\n",
       "    .dataframe tbody tr th {\n",
       "        vertical-align: top;\n",
       "    }\n",
       "\n",
       "    .dataframe thead th {\n",
       "        text-align: right;\n",
       "    }\n",
       "</style>\n",
       "<table border=\"1\" class=\"dataframe\">\n",
       "  <thead>\n",
       "    <tr style=\"text-align: right;\">\n",
       "      <th></th>\n",
       "      <th>id</th>\n",
       "      <th>gender</th>\n",
       "      <th>ethnic</th>\n",
       "      <th>school</th>\n",
       "      <th>mathpr</th>\n",
       "      <th>langpr</th>\n",
       "      <th>mathnce</th>\n",
       "      <th>langnce</th>\n",
       "      <th>biling</th>\n",
       "      <th>daysabs</th>\n",
       "    </tr>\n",
       "  </thead>\n",
       "  <tbody>\n",
       "    <tr>\n",
       "      <th>0</th>\n",
       "      <td>1001</td>\n",
       "      <td>M</td>\n",
       "      <td>Hispanic</td>\n",
       "      <td>Alpha</td>\n",
       "      <td>63</td>\n",
       "      <td>36</td>\n",
       "      <td>56.988831</td>\n",
       "      <td>42.450859</td>\n",
       "      <td>2</td>\n",
       "      <td>4</td>\n",
       "    </tr>\n",
       "    <tr>\n",
       "      <th>1</th>\n",
       "      <td>1002</td>\n",
       "      <td>M</td>\n",
       "      <td>Hispanic</td>\n",
       "      <td>Alpha</td>\n",
       "      <td>27</td>\n",
       "      <td>44</td>\n",
       "      <td>37.094158</td>\n",
       "      <td>46.820587</td>\n",
       "      <td>2</td>\n",
       "      <td>4</td>\n",
       "    </tr>\n",
       "    <tr>\n",
       "      <th>2</th>\n",
       "      <td>1003</td>\n",
       "      <td>F</td>\n",
       "      <td>Hispanic</td>\n",
       "      <td>Alpha</td>\n",
       "      <td>20</td>\n",
       "      <td>38</td>\n",
       "      <td>32.275455</td>\n",
       "      <td>43.566574</td>\n",
       "      <td>2</td>\n",
       "      <td>2</td>\n",
       "    </tr>\n",
       "    <tr>\n",
       "      <th>3</th>\n",
       "      <td>1004</td>\n",
       "      <td>F</td>\n",
       "      <td>Hispanic</td>\n",
       "      <td>Alpha</td>\n",
       "      <td>16</td>\n",
       "      <td>38</td>\n",
       "      <td>29.056717</td>\n",
       "      <td>43.566574</td>\n",
       "      <td>2</td>\n",
       "      <td>3</td>\n",
       "    </tr>\n",
       "    <tr>\n",
       "      <th>4</th>\n",
       "      <td>1005</td>\n",
       "      <td>F</td>\n",
       "      <td>Hispanic</td>\n",
       "      <td>Alpha</td>\n",
       "      <td>2</td>\n",
       "      <td>14</td>\n",
       "      <td>6.748048</td>\n",
       "      <td>27.248474</td>\n",
       "      <td>3</td>\n",
       "      <td>3</td>\n",
       "    </tr>\n",
       "    <tr>\n",
       "      <th>...</th>\n",
       "      <td>...</td>\n",
       "      <td>...</td>\n",
       "      <td>...</td>\n",
       "      <td>...</td>\n",
       "      <td>...</td>\n",
       "      <td>...</td>\n",
       "      <td>...</td>\n",
       "      <td>...</td>\n",
       "      <td>...</td>\n",
       "      <td>...</td>\n",
       "    </tr>\n",
       "    <tr>\n",
       "      <th>311</th>\n",
       "      <td>2153</td>\n",
       "      <td>M</td>\n",
       "      <td>Hispanic</td>\n",
       "      <td>Beta</td>\n",
       "      <td>26</td>\n",
       "      <td>46</td>\n",
       "      <td>36.451145</td>\n",
       "      <td>47.884865</td>\n",
       "      <td>2</td>\n",
       "      <td>1</td>\n",
       "    </tr>\n",
       "    <tr>\n",
       "      <th>312</th>\n",
       "      <td>2154</td>\n",
       "      <td>F</td>\n",
       "      <td>White</td>\n",
       "      <td>Beta</td>\n",
       "      <td>79</td>\n",
       "      <td>81</td>\n",
       "      <td>66.983231</td>\n",
       "      <td>68.488495</td>\n",
       "      <td>2</td>\n",
       "      <td>3</td>\n",
       "    </tr>\n",
       "    <tr>\n",
       "      <th>313</th>\n",
       "      <td>2155</td>\n",
       "      <td>F</td>\n",
       "      <td>Hispanic</td>\n",
       "      <td>Beta</td>\n",
       "      <td>59</td>\n",
       "      <td>56</td>\n",
       "      <td>54.792099</td>\n",
       "      <td>53.179413</td>\n",
       "      <td>0</td>\n",
       "      <td>0</td>\n",
       "    </tr>\n",
       "    <tr>\n",
       "      <th>314</th>\n",
       "      <td>2156</td>\n",
       "      <td>F</td>\n",
       "      <td>White</td>\n",
       "      <td>Beta</td>\n",
       "      <td>90</td>\n",
       "      <td>82</td>\n",
       "      <td>76.989479</td>\n",
       "      <td>69.277588</td>\n",
       "      <td>0</td>\n",
       "      <td>0</td>\n",
       "    </tr>\n",
       "    <tr>\n",
       "      <th>315</th>\n",
       "      <td>2157</td>\n",
       "      <td>F</td>\n",
       "      <td>White</td>\n",
       "      <td>Beta</td>\n",
       "      <td>77</td>\n",
       "      <td>84</td>\n",
       "      <td>65.560112</td>\n",
       "      <td>70.943283</td>\n",
       "      <td>0</td>\n",
       "      <td>2</td>\n",
       "    </tr>\n",
       "  </tbody>\n",
       "</table>\n",
       "<p>316 rows × 10 columns</p>\n",
       "</div>"
      ],
      "text/plain": [
       "       id gender    ethnic school  mathpr  langpr    mathnce    langnce  \\\n",
       "0    1001      M  Hispanic  Alpha      63      36  56.988831  42.450859   \n",
       "1    1002      M  Hispanic  Alpha      27      44  37.094158  46.820587   \n",
       "2    1003      F  Hispanic  Alpha      20      38  32.275455  43.566574   \n",
       "3    1004      F  Hispanic  Alpha      16      38  29.056717  43.566574   \n",
       "4    1005      F  Hispanic  Alpha       2      14   6.748048  27.248474   \n",
       "..    ...    ...       ...    ...     ...     ...        ...        ...   \n",
       "311  2153      M  Hispanic   Beta      26      46  36.451145  47.884865   \n",
       "312  2154      F     White   Beta      79      81  66.983231  68.488495   \n",
       "313  2155      F  Hispanic   Beta      59      56  54.792099  53.179413   \n",
       "314  2156      F     White   Beta      90      82  76.989479  69.277588   \n",
       "315  2157      F     White   Beta      77      84  65.560112  70.943283   \n",
       "\n",
       "     biling  daysabs  \n",
       "0         2        4  \n",
       "1         2        4  \n",
       "2         2        2  \n",
       "3         2        3  \n",
       "4         3        3  \n",
       "..      ...      ...  \n",
       "311       2        1  \n",
       "312       2        3  \n",
       "313       0        0  \n",
       "314       0        0  \n",
       "315       0        2  \n",
       "\n",
       "[316 rows x 10 columns]"
      ]
     },
     "execution_count": 33,
     "metadata": {},
     "output_type": "execute_result"
    }
   ],
   "source": [
    "lahigh_raw = pd.read_stata(\"https://stats.idre.ucla.edu/stat/stata/notes/lahigh.dta\")\n",
    "lahigh = lahigh_raw.convert_dtypes()\n",
    "\n",
    "lahigh[\"gender\"] = lahigh[\"gender\"].astype(object).replace({1:\"F\", 2:\"M\"})\n",
    "lahigh[\"ethnic\"] = lahigh[\"ethnic\"].astype(object).replace({\n",
    "    1:\"Native American\",\n",
    "    2:\"Asian\",\n",
    "    3:\"African-American\",\n",
    "    4:\"Hispanic\",\n",
    "    5:\"White\",\n",
    "    6:\"Filipino\",\n",
    "    7:\"Pacific Islander\"})\n",
    "lahigh[\"school\"] = lahigh[\"school\"].astype(object).replace({1:\"Alpha\", 2:\"Beta\"})\n",
    "lahigh"
   ]
  },
  {
   "cell_type": "code",
   "execution_count": 34,
   "id": "d65a5b46-8237-4b1d-9e78-30c5492f80fa",
   "metadata": {},
   "outputs": [
    {
     "data": {
      "text/html": [
       "<div>\n",
       "<style scoped>\n",
       "    .dataframe tbody tr th:only-of-type {\n",
       "        vertical-align: middle;\n",
       "    }\n",
       "\n",
       "    .dataframe tbody tr th {\n",
       "        vertical-align: top;\n",
       "    }\n",
       "\n",
       "    .dataframe thead th {\n",
       "        text-align: right;\n",
       "    }\n",
       "</style>\n",
       "<table border=\"1\" class=\"dataframe\">\n",
       "  <thead>\n",
       "    <tr style=\"text-align: right;\">\n",
       "      <th></th>\n",
       "      <th>id</th>\n",
       "      <th>gender</th>\n",
       "      <th>ethnic</th>\n",
       "      <th>school</th>\n",
       "      <th>mathpr</th>\n",
       "      <th>langpr</th>\n",
       "      <th>mathnce</th>\n",
       "      <th>langnce</th>\n",
       "      <th>biling</th>\n",
       "      <th>daysabs</th>\n",
       "    </tr>\n",
       "  </thead>\n",
       "  <tbody>\n",
       "    <tr>\n",
       "      <th>0</th>\n",
       "      <td>1001</td>\n",
       "      <td>M</td>\n",
       "      <td>Hispanic</td>\n",
       "      <td>Alpha</td>\n",
       "      <td>63</td>\n",
       "      <td>36</td>\n",
       "      <td>56.988831</td>\n",
       "      <td>42.450859</td>\n",
       "      <td>2</td>\n",
       "      <td>4</td>\n",
       "    </tr>\n",
       "    <tr>\n",
       "      <th>1</th>\n",
       "      <td>1002</td>\n",
       "      <td>M</td>\n",
       "      <td>Hispanic</td>\n",
       "      <td>Alpha</td>\n",
       "      <td>27</td>\n",
       "      <td>44</td>\n",
       "      <td>37.094158</td>\n",
       "      <td>46.820587</td>\n",
       "      <td>2</td>\n",
       "      <td>4</td>\n",
       "    </tr>\n",
       "    <tr>\n",
       "      <th>2</th>\n",
       "      <td>1003</td>\n",
       "      <td>F</td>\n",
       "      <td>Hispanic</td>\n",
       "      <td>Alpha</td>\n",
       "      <td>20</td>\n",
       "      <td>38</td>\n",
       "      <td>32.275455</td>\n",
       "      <td>43.566574</td>\n",
       "      <td>2</td>\n",
       "      <td>2</td>\n",
       "    </tr>\n",
       "    <tr>\n",
       "      <th>3</th>\n",
       "      <td>1004</td>\n",
       "      <td>F</td>\n",
       "      <td>Hispanic</td>\n",
       "      <td>Alpha</td>\n",
       "      <td>16</td>\n",
       "      <td>38</td>\n",
       "      <td>29.056717</td>\n",
       "      <td>43.566574</td>\n",
       "      <td>2</td>\n",
       "      <td>3</td>\n",
       "    </tr>\n",
       "    <tr>\n",
       "      <th>4</th>\n",
       "      <td>1005</td>\n",
       "      <td>F</td>\n",
       "      <td>Hispanic</td>\n",
       "      <td>Alpha</td>\n",
       "      <td>2</td>\n",
       "      <td>14</td>\n",
       "      <td>6.748048</td>\n",
       "      <td>27.248474</td>\n",
       "      <td>3</td>\n",
       "      <td>3</td>\n",
       "    </tr>\n",
       "    <tr>\n",
       "      <th>...</th>\n",
       "      <td>...</td>\n",
       "      <td>...</td>\n",
       "      <td>...</td>\n",
       "      <td>...</td>\n",
       "      <td>...</td>\n",
       "      <td>...</td>\n",
       "      <td>...</td>\n",
       "      <td>...</td>\n",
       "      <td>...</td>\n",
       "      <td>...</td>\n",
       "    </tr>\n",
       "    <tr>\n",
       "      <th>311</th>\n",
       "      <td>2153</td>\n",
       "      <td>M</td>\n",
       "      <td>Hispanic</td>\n",
       "      <td>Beta</td>\n",
       "      <td>26</td>\n",
       "      <td>46</td>\n",
       "      <td>36.451145</td>\n",
       "      <td>47.884865</td>\n",
       "      <td>2</td>\n",
       "      <td>1</td>\n",
       "    </tr>\n",
       "    <tr>\n",
       "      <th>312</th>\n",
       "      <td>2154</td>\n",
       "      <td>F</td>\n",
       "      <td>White</td>\n",
       "      <td>Beta</td>\n",
       "      <td>79</td>\n",
       "      <td>81</td>\n",
       "      <td>66.983231</td>\n",
       "      <td>68.488495</td>\n",
       "      <td>2</td>\n",
       "      <td>3</td>\n",
       "    </tr>\n",
       "    <tr>\n",
       "      <th>313</th>\n",
       "      <td>2155</td>\n",
       "      <td>F</td>\n",
       "      <td>Hispanic</td>\n",
       "      <td>Beta</td>\n",
       "      <td>59</td>\n",
       "      <td>56</td>\n",
       "      <td>54.792099</td>\n",
       "      <td>53.179413</td>\n",
       "      <td>0</td>\n",
       "      <td>0</td>\n",
       "    </tr>\n",
       "    <tr>\n",
       "      <th>314</th>\n",
       "      <td>2156</td>\n",
       "      <td>F</td>\n",
       "      <td>White</td>\n",
       "      <td>Beta</td>\n",
       "      <td>90</td>\n",
       "      <td>82</td>\n",
       "      <td>76.989479</td>\n",
       "      <td>69.277588</td>\n",
       "      <td>0</td>\n",
       "      <td>0</td>\n",
       "    </tr>\n",
       "    <tr>\n",
       "      <th>315</th>\n",
       "      <td>2157</td>\n",
       "      <td>F</td>\n",
       "      <td>White</td>\n",
       "      <td>Beta</td>\n",
       "      <td>77</td>\n",
       "      <td>84</td>\n",
       "      <td>65.560112</td>\n",
       "      <td>70.943283</td>\n",
       "      <td>0</td>\n",
       "      <td>2</td>\n",
       "    </tr>\n",
       "  </tbody>\n",
       "</table>\n",
       "<p>316 rows × 10 columns</p>\n",
       "</div>"
      ],
      "text/plain": [
       "       id gender    ethnic school  mathpr  langpr    mathnce    langnce  \\\n",
       "0    1001      M  Hispanic  Alpha      63      36  56.988831  42.450859   \n",
       "1    1002      M  Hispanic  Alpha      27      44  37.094158  46.820587   \n",
       "2    1003      F  Hispanic  Alpha      20      38  32.275455  43.566574   \n",
       "3    1004      F  Hispanic  Alpha      16      38  29.056717  43.566574   \n",
       "4    1005      F  Hispanic  Alpha       2      14   6.748048  27.248474   \n",
       "..    ...    ...       ...    ...     ...     ...        ...        ...   \n",
       "311  2153      M  Hispanic   Beta      26      46  36.451145  47.884865   \n",
       "312  2154      F     White   Beta      79      81  66.983231  68.488495   \n",
       "313  2155      F  Hispanic   Beta      59      56  54.792099  53.179413   \n",
       "314  2156      F     White   Beta      90      82  76.989479  69.277588   \n",
       "315  2157      F     White   Beta      77      84  65.560112  70.943283   \n",
       "\n",
       "     biling  daysabs  \n",
       "0         2        4  \n",
       "1         2        4  \n",
       "2         2        2  \n",
       "3         2        3  \n",
       "4         3        3  \n",
       "..      ...      ...  \n",
       "311       2        1  \n",
       "312       2        3  \n",
       "313       0        0  \n",
       "314       0        0  \n",
       "315       0        2  \n",
       "\n",
       "[316 rows x 10 columns]"
      ]
     },
     "execution_count": 34,
     "metadata": {},
     "output_type": "execute_result"
    }
   ],
   "source": [
    "lahigh"
   ]
  },
  {
   "cell_type": "code",
   "execution_count": 35,
   "id": "1cfa5b56-a7cd-4d34-bdbd-8933397854ad",
   "metadata": {},
   "outputs": [
    {
     "name": "stdout",
     "output_type": "stream",
     "text": [
      "Optimization terminated successfully.\n",
      "         Current function value: 4.898642\n",
      "         Iterations 5\n"
     ]
    },
    {
     "data": {
      "text/plain": [
       "Intercept         2.687666\n",
       "C(gender)[T.M]   -0.400921\n",
       "mathnce          -0.003523\n",
       "langnce          -0.012152\n",
       "dtype: float64"
      ]
     },
     "execution_count": 35,
     "metadata": {},
     "output_type": "execute_result"
    }
   ],
   "source": [
    "formula = \"daysabs ~ 1 + mathnce + langnce + C(gender)\"\n",
    "prlahigh = smf.poisson(formula, data=lahigh).fit()\n",
    "prlahigh.params"
   ]
  },
  {
   "cell_type": "code",
   "execution_count": 36,
   "id": "7973597c-b205-475b-81cc-7fb25978a51f",
   "metadata": {},
   "outputs": [
    {
     "data": {
      "text/plain": [
       "C(gender)[T.M]    0.669703\n",
       "mathnce           0.996483\n",
       "langnce           0.987921\n",
       "dtype: float64"
      ]
     },
     "execution_count": 36,
     "metadata": {},
     "output_type": "execute_result"
    }
   ],
   "source": [
    "# IRR\n",
    "np.exp(prlahigh.params[1:])"
   ]
  },
  {
   "cell_type": "code",
   "execution_count": 37,
   "id": "4e2a7e9d-2a83-4e06-ad2f-2a44bba73b1d",
   "metadata": {},
   "outputs": [
    {
     "data": {
      "text/plain": [
       "0    0.609079\n",
       "1    0.736361\n",
       "Name: C(gender)[T.M], dtype: float64"
      ]
     },
     "execution_count": 37,
     "metadata": {},
     "output_type": "execute_result"
    }
   ],
   "source": [
    "# CI for IRR F \n",
    "np.exp(prlahigh.conf_int().loc[\"C(gender)[T.M]\"])"
   ]
  },
  {
   "cell_type": "code",
   "execution_count": 38,
   "id": "5ec05dc5-c4a8-410f-a48c-022c8a026ee5",
   "metadata": {},
   "outputs": [],
   "source": [
    "# prlahigh.summary()\n",
    "# prlahigh.aic, prlahigh.bic"
   ]
  },
  {
   "cell_type": "code",
   "execution_count": 39,
   "id": "779f2609-d855-4776-9456-31ce34d656fb",
   "metadata": {},
   "outputs": [
    {
     "data": {
      "text/html": [
       "<table class=\"simpletable\">\n",
       "<caption>Poisson Regression Results</caption>\n",
       "<tr>\n",
       "  <th>Dep. Variable:</th>        <td>daysabs</td>     <th>  No. Observations:  </th>  <td>   316</td>  \n",
       "</tr>\n",
       "<tr>\n",
       "  <th>Model:</th>                <td>Poisson</td>     <th>  Df Residuals:      </th>  <td>   312</td>  \n",
       "</tr>\n",
       "<tr>\n",
       "  <th>Method:</th>                 <td>MLE</td>       <th>  Df Model:          </th>  <td>     3</td>  \n",
       "</tr>\n",
       "<tr>\n",
       "  <th>Date:</th>            <td>Tue, 02 Jul 2024</td> <th>  Pseudo R-squ.:     </th>  <td>0.05358</td> \n",
       "</tr>\n",
       "<tr>\n",
       "  <th>Time:</th>                <td>15:20:13</td>     <th>  Log-Likelihood:    </th> <td> -1548.0</td> \n",
       "</tr>\n",
       "<tr>\n",
       "  <th>converged:</th>             <td>True</td>       <th>  LL-Null:           </th> <td> -1635.6</td> \n",
       "</tr>\n",
       "<tr>\n",
       "  <th>Covariance Type:</th>     <td>nonrobust</td>    <th>  LLR p-value:       </th> <td>9.246e-38</td>\n",
       "</tr>\n",
       "</table>\n",
       "<table class=\"simpletable\">\n",
       "<tr>\n",
       "         <td></td>           <th>coef</th>     <th>std err</th>      <th>z</th>      <th>P>|z|</th>  <th>[0.025</th>    <th>0.975]</th>  \n",
       "</tr>\n",
       "<tr>\n",
       "  <th>Intercept</th>      <td>    2.6877</td> <td>    0.073</td> <td>   36.994</td> <td> 0.000</td> <td>    2.545</td> <td>    2.830</td>\n",
       "</tr>\n",
       "<tr>\n",
       "  <th>C(gender)[T.M]</th> <td>   -0.4009</td> <td>    0.048</td> <td>   -8.281</td> <td> 0.000</td> <td>   -0.496</td> <td>   -0.306</td>\n",
       "</tr>\n",
       "<tr>\n",
       "  <th>mathnce</th>        <td>   -0.0035</td> <td>    0.002</td> <td>   -1.934</td> <td> 0.053</td> <td>   -0.007</td> <td> 4.66e-05</td>\n",
       "</tr>\n",
       "<tr>\n",
       "  <th>langnce</th>        <td>   -0.0122</td> <td>    0.002</td> <td>   -6.623</td> <td> 0.000</td> <td>   -0.016</td> <td>   -0.009</td>\n",
       "</tr>\n",
       "</table>"
      ],
      "text/latex": [
       "\\begin{center}\n",
       "\\begin{tabular}{lclc}\n",
       "\\toprule\n",
       "\\textbf{Dep. Variable:}   &     daysabs      & \\textbf{  No. Observations:  } &      316    \\\\\n",
       "\\textbf{Model:}           &     Poisson      & \\textbf{  Df Residuals:      } &      312    \\\\\n",
       "\\textbf{Method:}          &       MLE        & \\textbf{  Df Model:          } &        3    \\\\\n",
       "\\textbf{Date:}            & Tue, 02 Jul 2024 & \\textbf{  Pseudo R-squ.:     } &  0.05358    \\\\\n",
       "\\textbf{Time:}            &     15:20:13     & \\textbf{  Log-Likelihood:    } &   -1548.0   \\\\\n",
       "\\textbf{converged:}       &       True       & \\textbf{  LL-Null:           } &   -1635.6   \\\\\n",
       "\\textbf{Covariance Type:} &    nonrobust     & \\textbf{  LLR p-value:       } & 9.246e-38   \\\\\n",
       "\\bottomrule\n",
       "\\end{tabular}\n",
       "\\begin{tabular}{lcccccc}\n",
       "                        & \\textbf{coef} & \\textbf{std err} & \\textbf{z} & \\textbf{P$> |$z$|$} & \\textbf{[0.025} & \\textbf{0.975]}  \\\\\n",
       "\\midrule\n",
       "\\textbf{Intercept}      &       2.6877  &        0.073     &    36.994  &         0.000        &        2.545    &        2.830     \\\\\n",
       "\\textbf{C(gender)[T.M]} &      -0.4009  &        0.048     &    -8.281  &         0.000        &       -0.496    &       -0.306     \\\\\n",
       "\\textbf{mathnce}        &      -0.0035  &        0.002     &    -1.934  &         0.053        &       -0.007    &     4.66e-05     \\\\\n",
       "\\textbf{langnce}        &      -0.0122  &        0.002     &    -6.623  &         0.000        &       -0.016    &       -0.009     \\\\\n",
       "\\bottomrule\n",
       "\\end{tabular}\n",
       "%\\caption{Poisson Regression Results}\n",
       "\\end{center}"
      ],
      "text/plain": [
       "<class 'statsmodels.iolib.summary.Summary'>\n",
       "\"\"\"\n",
       "                          Poisson Regression Results                          \n",
       "==============================================================================\n",
       "Dep. Variable:                daysabs   No. Observations:                  316\n",
       "Model:                        Poisson   Df Residuals:                      312\n",
       "Method:                           MLE   Df Model:                            3\n",
       "Date:                Tue, 02 Jul 2024   Pseudo R-squ.:                 0.05358\n",
       "Time:                        15:20:13   Log-Likelihood:                -1548.0\n",
       "converged:                       True   LL-Null:                       -1635.6\n",
       "Covariance Type:            nonrobust   LLR p-value:                 9.246e-38\n",
       "==================================================================================\n",
       "                     coef    std err          z      P>|z|      [0.025      0.975]\n",
       "----------------------------------------------------------------------------------\n",
       "Intercept          2.6877      0.073     36.994      0.000       2.545       2.830\n",
       "C(gender)[T.M]    -0.4009      0.048     -8.281      0.000      -0.496      -0.306\n",
       "mathnce           -0.0035      0.002     -1.934      0.053      -0.007    4.66e-05\n",
       "langnce           -0.0122      0.002     -6.623      0.000      -0.016      -0.009\n",
       "==================================================================================\n",
       "\"\"\""
      ]
     },
     "execution_count": 39,
     "metadata": {},
     "output_type": "execute_result"
    }
   ],
   "source": [
    "prlahigh.summary()"
   ]
  },
  {
   "cell_type": "markdown",
   "id": "324e979a-cf88-4231-bad7-d4fe4e969220",
   "metadata": {},
   "source": [
    "#### Diagnostics \n",
    "\n",
    "via https://www.statsmodels.org/dev/examples/notebooks/generated/postestimation_poisson.html"
   ]
  },
  {
   "cell_type": "code",
   "execution_count": 40,
   "id": "67d0a936-e139-4e0d-aad3-fae2dc7b985d",
   "metadata": {},
   "outputs": [],
   "source": [
    "prdiag = prlahigh.get_diagnostic()\n",
    "# Plot observed versus predicted frequencies for entire sample\n",
    "# prdiag.plot_probs();\n",
    "\n",
    "# Other:\n",
    "# ['plot_probs',\n",
    "#  'probs_predicted',\n",
    "#  'results',\n",
    "#  'test_chisquare_prob',\n",
    "#  'test_dispersion',\n",
    "#  'test_poisson_zeroinflation',\n",
    "#  'y_max']"
   ]
  },
  {
   "cell_type": "code",
   "execution_count": 41,
   "id": "8d620ae9-514d-4e46-91cc-a3e451950273",
   "metadata": {},
   "outputs": [
    {
     "name": "stdout",
     "output_type": "stream",
     "text": [
      "Optimization terminated successfully.\n",
      "         Current function value: 4.898642\n",
      "         Iterations 5\n"
     ]
    },
    {
     "data": {
      "text/plain": [
       "Intercept                       2.286745\n",
       "C(gender, Treatment(1))[T.F]    0.400921\n",
       "mathnce                        -0.003523\n",
       "langnce                        -0.012152\n",
       "dtype: float64"
      ]
     },
     "execution_count": 41,
     "metadata": {},
     "output_type": "execute_result"
    }
   ],
   "source": [
    "# Code to get exactly the same numbers as in\n",
    "# https://stats.oarc.ucla.edu/stata/output/poisson-regression/  \n",
    "formula2 = \"daysabs ~ 1 + mathnce + langnce + C(gender, Treatment(1))\"\n",
    "prlahigh2 = smf.poisson(formula2, data=lahigh).fit()\n",
    "prlahigh2.params"
   ]
  },
  {
   "cell_type": "code",
   "execution_count": null,
   "id": "78fec763-fd44-4d34-81ad-d46491abca6b",
   "metadata": {},
   "outputs": [],
   "source": []
  },
  {
   "cell_type": "markdown",
   "id": "44944ea9-0bed-453a-9b5a-7774ac2906c3",
   "metadata": {},
   "source": [
    "### Exercise: asthma attacks\n",
    "\n",
    "data https://github.com/drkamarul/multivar_data_analysis/blob/main/data/asthma.csv"
   ]
  },
  {
   "cell_type": "code",
   "execution_count": 42,
   "id": "f631d410-52b1-4c69-801f-f4801c184952",
   "metadata": {},
   "outputs": [
    {
     "data": {
      "text/html": [
       "<div>\n",
       "<style scoped>\n",
       "    .dataframe tbody tr th:only-of-type {\n",
       "        vertical-align: middle;\n",
       "    }\n",
       "\n",
       "    .dataframe tbody tr th {\n",
       "        vertical-align: top;\n",
       "    }\n",
       "\n",
       "    .dataframe thead th {\n",
       "        text-align: right;\n",
       "    }\n",
       "</style>\n",
       "<table border=\"1\" class=\"dataframe\">\n",
       "  <thead>\n",
       "    <tr style=\"text-align: right;\">\n",
       "      <th></th>\n",
       "      <th>gender</th>\n",
       "      <th>res_inf</th>\n",
       "      <th>ghq12</th>\n",
       "      <th>attack</th>\n",
       "    </tr>\n",
       "  </thead>\n",
       "  <tbody>\n",
       "    <tr>\n",
       "      <th>0</th>\n",
       "      <td>female</td>\n",
       "      <td>yes</td>\n",
       "      <td>21</td>\n",
       "      <td>6</td>\n",
       "    </tr>\n",
       "    <tr>\n",
       "      <th>1</th>\n",
       "      <td>male</td>\n",
       "      <td>no</td>\n",
       "      <td>17</td>\n",
       "      <td>4</td>\n",
       "    </tr>\n",
       "    <tr>\n",
       "      <th>2</th>\n",
       "      <td>male</td>\n",
       "      <td>yes</td>\n",
       "      <td>30</td>\n",
       "      <td>8</td>\n",
       "    </tr>\n",
       "    <tr>\n",
       "      <th>3</th>\n",
       "      <td>female</td>\n",
       "      <td>yes</td>\n",
       "      <td>22</td>\n",
       "      <td>5</td>\n",
       "    </tr>\n",
       "    <tr>\n",
       "      <th>4</th>\n",
       "      <td>male</td>\n",
       "      <td>yes</td>\n",
       "      <td>27</td>\n",
       "      <td>2</td>\n",
       "    </tr>\n",
       "    <tr>\n",
       "      <th>...</th>\n",
       "      <td>...</td>\n",
       "      <td>...</td>\n",
       "      <td>...</td>\n",
       "      <td>...</td>\n",
       "    </tr>\n",
       "    <tr>\n",
       "      <th>115</th>\n",
       "      <td>male</td>\n",
       "      <td>yes</td>\n",
       "      <td>0</td>\n",
       "      <td>2</td>\n",
       "    </tr>\n",
       "    <tr>\n",
       "      <th>116</th>\n",
       "      <td>female</td>\n",
       "      <td>yes</td>\n",
       "      <td>31</td>\n",
       "      <td>2</td>\n",
       "    </tr>\n",
       "    <tr>\n",
       "      <th>117</th>\n",
       "      <td>female</td>\n",
       "      <td>yes</td>\n",
       "      <td>18</td>\n",
       "      <td>2</td>\n",
       "    </tr>\n",
       "    <tr>\n",
       "      <th>118</th>\n",
       "      <td>female</td>\n",
       "      <td>yes</td>\n",
       "      <td>21</td>\n",
       "      <td>3</td>\n",
       "    </tr>\n",
       "    <tr>\n",
       "      <th>119</th>\n",
       "      <td>female</td>\n",
       "      <td>yes</td>\n",
       "      <td>11</td>\n",
       "      <td>2</td>\n",
       "    </tr>\n",
       "  </tbody>\n",
       "</table>\n",
       "<p>120 rows × 4 columns</p>\n",
       "</div>"
      ],
      "text/plain": [
       "     gender res_inf  ghq12  attack\n",
       "0    female     yes     21       6\n",
       "1      male      no     17       4\n",
       "2      male     yes     30       8\n",
       "3    female     yes     22       5\n",
       "4      male     yes     27       2\n",
       "..      ...     ...    ...     ...\n",
       "115    male     yes      0       2\n",
       "116  female     yes     31       2\n",
       "117  female     yes     18       2\n",
       "118  female     yes     21       3\n",
       "119  female     yes     11       2\n",
       "\n",
       "[120 rows x 4 columns]"
      ]
     },
     "execution_count": 42,
     "metadata": {},
     "output_type": "execute_result"
    }
   ],
   "source": [
    "asthma = pd.read_csv(\"../datasets/exercises/asthma.csv\")\n",
    "asthma"
   ]
  },
  {
   "cell_type": "markdown",
   "id": "16de97f8-84ef-464b-a28b-f61737bc2aff",
   "metadata": {},
   "source": [
    "cf. https://bookdown.org/drki_musa/dataanalysis/poisson-regression.html#multivariable-analysis-1"
   ]
  },
  {
   "cell_type": "code",
   "execution_count": null,
   "id": "cd7ff3ca-a465-48c6-bea9-c9ac9f086d4f",
   "metadata": {},
   "outputs": [],
   "source": []
  },
  {
   "cell_type": "markdown",
   "id": "a876994d-fea4-48bd-8964-d1f81fd299aa",
   "metadata": {},
   "source": [
    "### Exercise: ship accidents\n",
    "\n",
    "https://rdrr.io/cran/AER/man/ShipAccidents.html\n",
    "\n",
    "https://pages.stern.nyu.edu/~wgreene/Text/tables/tablelist5.htm\n",
    "\n",
    "https://pages.stern.nyu.edu/~wgreene/Text/tables/TableF21-3.txt"
   ]
  },
  {
   "cell_type": "code",
   "execution_count": null,
   "id": "6caec3df-6ddf-4a47-9065-78ec85b691ed",
   "metadata": {},
   "outputs": [],
   "source": []
  },
  {
   "cell_type": "code",
   "execution_count": null,
   "id": "82709498-0dc2-4885-9aa0-011757e0947e",
   "metadata": {},
   "outputs": [],
   "source": []
  },
  {
   "cell_type": "markdown",
   "id": "6dcbdd02-9769-4838-b9ae-a02e84ba876b",
   "metadata": {},
   "source": [
    "## Links"
   ]
  },
  {
   "cell_type": "code",
   "execution_count": null,
   "id": "3e588d1d-b1bb-42b0-a770-147e5e4e74d3",
   "metadata": {},
   "outputs": [],
   "source": []
  },
  {
   "cell_type": "code",
   "execution_count": null,
   "id": "df8ffe6d-48db-43d1-b30f-4a06194705f2",
   "metadata": {},
   "outputs": [],
   "source": []
  },
  {
   "cell_type": "code",
   "execution_count": null,
   "id": "a45d67f6-4eff-4439-a868-7755c0ee10a6",
   "metadata": {},
   "outputs": [],
   "source": []
  },
  {
   "cell_type": "code",
   "execution_count": null,
   "id": "ca7fed29-57f6-4977-8bed-424ae0eaa12a",
   "metadata": {},
   "outputs": [],
   "source": []
  },
  {
   "cell_type": "code",
   "execution_count": null,
   "id": "356fda89-348b-4258-9e53-5481f26eff98",
   "metadata": {},
   "outputs": [],
   "source": []
  },
  {
   "cell_type": "code",
   "execution_count": null,
   "id": "597ba8a7-b58f-4dc9-9df9-ca7f216aa97a",
   "metadata": {},
   "outputs": [],
   "source": []
  },
  {
   "cell_type": "code",
   "execution_count": null,
   "id": "c0e4723a-5661-4ef5-a3e7-ff310449a66b",
   "metadata": {},
   "outputs": [],
   "source": []
  },
  {
   "cell_type": "code",
   "execution_count": null,
   "id": "6293d3ab-d412-4c88-8ebd-82f19ad8ecf2",
   "metadata": {},
   "outputs": [],
   "source": []
  },
  {
   "cell_type": "code",
   "execution_count": null,
   "id": "6575164a-dfeb-4982-a337-701a675d3c01",
   "metadata": {},
   "outputs": [],
   "source": []
  },
  {
   "cell_type": "markdown",
   "id": "b785ceb1-8207-4b7b-8924-b67c94a0c6de",
   "metadata": {},
   "source": [
    "# CUT MATERIAL "
   ]
  },
  {
   "cell_type": "code",
   "execution_count": null,
   "id": "5fc76c5e-a7a6-4ea6-a7c9-9126c0bb460a",
   "metadata": {},
   "outputs": [],
   "source": []
  },
  {
   "cell_type": "code",
   "execution_count": null,
   "id": "17dc0187-6e80-4100-aa48-5094f03961f0",
   "metadata": {},
   "outputs": [],
   "source": []
  },
  {
   "cell_type": "code",
   "execution_count": null,
   "id": "b0faba16-4743-4464-a095-5cfedc34385d",
   "metadata": {},
   "outputs": [],
   "source": []
  },
  {
   "cell_type": "code",
   "execution_count": null,
   "id": "af09b563-9969-4064-a3ad-75cd9003f057",
   "metadata": {},
   "outputs": [],
   "source": []
  },
  {
   "cell_type": "markdown",
   "id": "51993328-99a2-44af-a3ae-7442144b2d53",
   "metadata": {},
   "source": [
    "## Marginal effects\n",
    "\n",
    "https://marginaleffects.com/vignettes/slopes.html\n",
    "\n",
    "https://www.statsmodels.org/dev/generated/statsmodels.discrete.discrete_model.LogitResults.get_margeff.html\n",
    "\n",
    "https://lost-stats.github.io/Model_Estimation/Statistical_Inference/Marginal_Effects_in_Nonlinear_Regression.html\n",
    "\n",
    "https://clas.ucdenver.edu/marcelo-perraillon/sites/default/files/attached-files/perraillon_marginal_effects_lecture_lisbon.pdf"
   ]
  },
  {
   "cell_type": "code",
   "execution_count": 43,
   "id": "dc5e3c59-9bd9-4d0a-b61a-e5f027799968",
   "metadata": {},
   "outputs": [],
   "source": [
    "import marginaleffects as me\n",
    "# dir(me)"
   ]
  },
  {
   "cell_type": "markdown",
   "id": "fbbddc6b-d647-4ac1-9871-3c09c22ffeef",
   "metadata": {},
   "source": [
    "#### Parameters"
   ]
  },
  {
   "cell_type": "code",
   "execution_count": 44,
   "id": "bed1e1b8-526a-4aa1-a474-26c7de64a770",
   "metadata": {},
   "outputs": [
    {
     "data": {
      "text/html": [
       "<table class=\"simpletable\">\n",
       "<tr>\n",
       "      <td></td>         <th>coef</th>     <th>std err</th>      <th>z</th>      <th>P>|z|</th>  <th>[0.025</th>    <th>0.975]</th>  \n",
       "</tr>\n",
       "<tr>\n",
       "  <th>Intercept</th> <td>  -78.6932</td> <td>   19.851</td> <td>   -3.964</td> <td> 0.000</td> <td> -117.600</td> <td>  -39.787</td>\n",
       "</tr>\n",
       "<tr>\n",
       "  <th>hours</th>     <td>    1.9815</td> <td>    0.500</td> <td>    3.959</td> <td> 0.000</td> <td>    1.001</td> <td>    2.962</td>\n",
       "</tr>\n",
       "</table>"
      ],
      "text/latex": [
       "\\begin{center}\n",
       "\\begin{tabular}{lcccccc}\n",
       "\\toprule\n",
       "                   & \\textbf{coef} & \\textbf{std err} & \\textbf{z} & \\textbf{P$> |$z$|$} & \\textbf{[0.025} & \\textbf{0.975]}  \\\\\n",
       "\\midrule\n",
       "\\textbf{Intercept} &     -78.6932  &       19.851     &    -3.964  &         0.000        &     -117.600    &      -39.787     \\\\\n",
       "\\textbf{hours}     &       1.9815  &        0.500     &     3.959  &         0.000        &        1.001    &        2.962     \\\\\n",
       "\\bottomrule\n",
       "\\end{tabular}\n",
       "\\end{center}"
      ],
      "text/plain": [
       "<class 'statsmodels.iolib.table.SimpleTable'>"
      ]
     },
     "execution_count": 44,
     "metadata": {},
     "output_type": "execute_result"
    }
   ],
   "source": [
    "lr1.summary().tables[1]"
   ]
  },
  {
   "cell_type": "code",
   "execution_count": 45,
   "id": "a514c23d-63ae-4181-9927-01d6a8e18096",
   "metadata": {},
   "outputs": [
    {
     "data": {
      "text/plain": [
       "1.9814577697476699"
      ]
     },
     "execution_count": 45,
     "metadata": {},
     "output_type": "execute_result"
    }
   ],
   "source": [
    "lr1.params[\"hours\"]"
   ]
  },
  {
   "cell_type": "markdown",
   "id": "df4f12de-678e-436f-9fa4-a386bfc7ac58",
   "metadata": {},
   "source": [
    "#### Average marginal effect (AME)"
   ]
  },
  {
   "cell_type": "code",
   "execution_count": 46,
   "id": "e263a5ec-3238-47b7-9822-e59bbf8f7c43",
   "metadata": {},
   "outputs": [
    {
     "data": {
      "text/html": [
       "<div>\n",
       "<style scoped>\n",
       "    .dataframe tbody tr th:only-of-type {\n",
       "        vertical-align: middle;\n",
       "    }\n",
       "\n",
       "    .dataframe tbody tr th {\n",
       "        vertical-align: top;\n",
       "    }\n",
       "\n",
       "    .dataframe thead th {\n",
       "        text-align: right;\n",
       "    }\n",
       "</style>\n",
       "<table border=\"1\" class=\"dataframe\">\n",
       "  <thead>\n",
       "    <tr style=\"text-align: right;\">\n",
       "      <th></th>\n",
       "      <th>term</th>\n",
       "      <th>contrast</th>\n",
       "      <th>estimate</th>\n",
       "      <th>std_error</th>\n",
       "      <th>statistic</th>\n",
       "      <th>p_value</th>\n",
       "      <th>s_value</th>\n",
       "      <th>conf_low</th>\n",
       "      <th>conf_high</th>\n",
       "    </tr>\n",
       "  </thead>\n",
       "  <tbody>\n",
       "    <tr>\n",
       "      <th>0</th>\n",
       "      <td>hours</td>\n",
       "      <td>mean(dY/dX)</td>\n",
       "      <td>0.08077</td>\n",
       "      <td>0.00422</td>\n",
       "      <td>19.138224</td>\n",
       "      <td>0.0</td>\n",
       "      <td>inf</td>\n",
       "      <td>0.072498</td>\n",
       "      <td>0.089042</td>\n",
       "    </tr>\n",
       "  </tbody>\n",
       "</table>\n",
       "</div>"
      ],
      "text/plain": [
       "    term     contrast  estimate  std_error  statistic  p_value  s_value  \\\n",
       "0  hours  mean(dY/dX)   0.08077    0.00422  19.138224      0.0      inf   \n",
       "\n",
       "   conf_low  conf_high  \n",
       "0  0.072498   0.089042  "
      ]
     },
     "execution_count": 46,
     "metadata": {},
     "output_type": "execute_result"
    }
   ],
   "source": [
    "me.avg_slopes(lr1).to_pandas()"
   ]
  },
  {
   "cell_type": "code",
   "execution_count": 47,
   "id": "88a90efa-6720-4822-8026-2a89095de020",
   "metadata": {},
   "outputs": [
    {
     "data": {
      "text/html": [
       "<table class=\"simpletable\">\n",
       "<caption>Logit Marginal Effects</caption>\n",
       "<tr>\n",
       "  <th>Dep. Variable:</th>  <td>hired</td> \n",
       "</tr>\n",
       "<tr>\n",
       "  <th>Method:</th>         <td>dydx</td>  \n",
       "</tr>\n",
       "<tr>\n",
       "  <th>At:</th>            <td>overall</td>\n",
       "</tr>\n",
       "</table>\n",
       "<table class=\"simpletable\">\n",
       "<tr>\n",
       "    <th></th>       <th>dy/dx</th>    <th>std err</th>      <th>z</th>      <th>P>|z|</th>  <th>[0.025</th>    <th>0.975]</th>  \n",
       "</tr>\n",
       "<tr>\n",
       "  <th>hours</th> <td>    0.0808</td> <td>    0.004</td> <td>   19.139</td> <td> 0.000</td> <td>    0.072</td> <td>    0.089</td>\n",
       "</tr>\n",
       "</table>"
      ],
      "text/latex": [
       "\\begin{center}\n",
       "\\begin{tabular}{lc}\n",
       "\\toprule\n",
       "\\textbf{Dep. Variable:} &     hired       \\\\\n",
       "\\textbf{Method:}        &      dydx       \\\\\n",
       "\\textbf{At:}            &    overall      \\\\\n",
       "\\bottomrule\n",
       "\\end{tabular}\n",
       "\\begin{tabular}{ccccccc}\n",
       "  \\textbf{}    & \\textbf{dy/dx} & \\textbf{std err} & \\textbf{z} & \\textbf{P$> |$z$|$} & \\textbf{[0.025} & \\textbf{0.975]}  \\\\\n",
       "\\midrule\n",
       "\\bottomrule\n",
       "\\end{tabular}\n",
       "\\begin{tabular}{lcccccc}\n",
       "\\textbf{hours} &       0.0808   &        0.004     &    19.139  &         0.000        &        0.072    &        0.089     \\\\\n",
       "\\bottomrule\n",
       "\\end{tabular}\n",
       "%\\caption{Logit Marginal Effects}\n",
       "\\end{center}"
      ],
      "text/plain": [
       "<class 'statsmodels.iolib.summary.Summary'>\n",
       "\"\"\"\n",
       "        Logit Marginal Effects       \n",
       "=====================================\n",
       "Dep. Variable:                  hired\n",
       "Method:                          dydx\n",
       "At:                           overall\n",
       "==============================================================================\n",
       "                dy/dx    std err          z      P>|z|      [0.025      0.975]\n",
       "------------------------------------------------------------------------------\n",
       "hours          0.0808      0.004     19.139      0.000       0.072       0.089\n",
       "==============================================================================\n",
       "\"\"\""
      ]
     },
     "execution_count": 47,
     "metadata": {},
     "output_type": "execute_result"
    }
   ],
   "source": [
    "lr1.get_margeff().summary()"
   ]
  },
  {
   "cell_type": "markdown",
   "id": "1d646298-d7e1-4004-83e1-bd8195d0f3e8",
   "metadata": {},
   "source": [
    "#### Marginal effect at the mean (MEM)"
   ]
  },
  {
   "cell_type": "code",
   "execution_count": 48,
   "id": "c29bdd41-c527-4296-a745-f00d92328bc8",
   "metadata": {},
   "outputs": [
    {
     "data": {
      "text/html": [
       "<div>\n",
       "<style scoped>\n",
       "    .dataframe tbody tr th:only-of-type {\n",
       "        vertical-align: middle;\n",
       "    }\n",
       "\n",
       "    .dataframe tbody tr th {\n",
       "        vertical-align: top;\n",
       "    }\n",
       "\n",
       "    .dataframe thead th {\n",
       "        text-align: right;\n",
       "    }\n",
       "</style>\n",
       "<table border=\"1\" class=\"dataframe\">\n",
       "  <thead>\n",
       "    <tr style=\"text-align: right;\">\n",
       "      <th></th>\n",
       "      <th>term</th>\n",
       "      <th>contrast</th>\n",
       "      <th>estimate</th>\n",
       "      <th>std_error</th>\n",
       "      <th>statistic</th>\n",
       "      <th>p_value</th>\n",
       "      <th>s_value</th>\n",
       "      <th>conf_low</th>\n",
       "      <th>conf_high</th>\n",
       "    </tr>\n",
       "  </thead>\n",
       "  <tbody>\n",
       "    <tr>\n",
       "      <th>0</th>\n",
       "      <td>hours</td>\n",
       "      <td>dY/dX</td>\n",
       "      <td>0.47034</td>\n",
       "      <td>0.121818</td>\n",
       "      <td>3.861021</td>\n",
       "      <td>0.000113</td>\n",
       "      <td>13.112488</td>\n",
       "      <td>0.231582</td>\n",
       "      <td>0.709098</td>\n",
       "    </tr>\n",
       "  </tbody>\n",
       "</table>\n",
       "</div>"
      ],
      "text/plain": [
       "    term contrast  estimate  std_error  statistic   p_value    s_value  \\\n",
       "0  hours    dY/dX   0.47034   0.121818   3.861021  0.000113  13.112488   \n",
       "\n",
       "   conf_low  conf_high  \n",
       "0  0.231582   0.709098  "
      ]
     },
     "execution_count": 48,
     "metadata": {},
     "output_type": "execute_result"
    }
   ],
   "source": [
    "me.slopes(lr1, newdata = \"mean\").to_pandas()"
   ]
  },
  {
   "cell_type": "code",
   "execution_count": 49,
   "id": "df914cf1-3637-4774-955d-805ff14fcbeb",
   "metadata": {},
   "outputs": [
    {
     "data": {
      "text/html": [
       "<table class=\"simpletable\">\n",
       "<caption>Logit Marginal Effects</caption>\n",
       "<tr>\n",
       "  <th>Dep. Variable:</th> <td>hired</td>\n",
       "</tr>\n",
       "<tr>\n",
       "  <th>Method:</th>        <td>dydx</td> \n",
       "</tr>\n",
       "<tr>\n",
       "  <th>At:</th>            <td>mean</td> \n",
       "</tr>\n",
       "</table>\n",
       "<table class=\"simpletable\">\n",
       "<tr>\n",
       "    <th></th>       <th>dy/dx</th>    <th>std err</th>      <th>z</th>      <th>P>|z|</th>  <th>[0.025</th>    <th>0.975]</th>  \n",
       "</tr>\n",
       "<tr>\n",
       "  <th>hours</th> <td>    0.4703</td> <td>    0.122</td> <td>    3.865</td> <td> 0.000</td> <td>    0.232</td> <td>    0.709</td>\n",
       "</tr>\n",
       "</table>"
      ],
      "text/latex": [
       "\\begin{center}\n",
       "\\begin{tabular}{lc}\n",
       "\\toprule\n",
       "\\textbf{Dep. Variable:} &     hired       \\\\\n",
       "\\textbf{Method:}        &      dydx       \\\\\n",
       "\\textbf{At:}            &      mean       \\\\\n",
       "\\bottomrule\n",
       "\\end{tabular}\n",
       "\\begin{tabular}{ccccccc}\n",
       "  \\textbf{}    & \\textbf{dy/dx} & \\textbf{std err} & \\textbf{z} & \\textbf{P$> |$z$|$} & \\textbf{[0.025} & \\textbf{0.975]}  \\\\\n",
       "\\midrule\n",
       "\\bottomrule\n",
       "\\end{tabular}\n",
       "\\begin{tabular}{lcccccc}\n",
       "\\textbf{hours} &       0.4703   &        0.122     &     3.865  &         0.000        &        0.232    &        0.709     \\\\\n",
       "\\bottomrule\n",
       "\\end{tabular}\n",
       "%\\caption{Logit Marginal Effects}\n",
       "\\end{center}"
      ],
      "text/plain": [
       "<class 'statsmodels.iolib.summary.Summary'>\n",
       "\"\"\"\n",
       "        Logit Marginal Effects       \n",
       "=====================================\n",
       "Dep. Variable:                  hired\n",
       "Method:                          dydx\n",
       "At:                              mean\n",
       "==============================================================================\n",
       "                dy/dx    std err          z      P>|z|      [0.025      0.975]\n",
       "------------------------------------------------------------------------------\n",
       "hours          0.4703      0.122      3.865      0.000       0.232       0.709\n",
       "==============================================================================\n",
       "\"\"\""
      ]
     },
     "execution_count": 49,
     "metadata": {},
     "output_type": "execute_result"
    }
   ],
   "source": [
    "lr1.get_margeff(at=\"mean\").summary()"
   ]
  },
  {
   "cell_type": "code",
   "execution_count": 50,
   "id": "73634c5f-4d98-4831-8af7-465e41feea98",
   "metadata": {},
   "outputs": [],
   "source": [
    "# 'plot_common',\n",
    "# 'plot_comparisons',\n",
    "# 'plot_predictions',\n",
    "# 'plot_slopes',\n",
    "# 'predictions',\n",
    "# 'slopes'"
   ]
  },
  {
   "cell_type": "code",
   "execution_count": 51,
   "id": "d72aefd9-f91d-4cd5-9d68-f83863e186fa",
   "metadata": {},
   "outputs": [
    {
     "data": {
      "image/png": "[encoded data removed]"
     },
     "metadata": {
      "image/png": {
       "height": 480,
       "width": 640
      }
     },
     "output_type": "display_data"
    }
   ],
   "source": [
    "me.plot_predictions(lr1, condition=\"hours\")"
   ]
  },
  {
   "cell_type": "code",
   "execution_count": 52,
   "id": "1013c036-303c-42a8-ac64-9717353b8949",
   "metadata": {},
   "outputs": [
    {
     "data": {
      "image/png": "[encoded data removed]"
     },
     "metadata": {
      "image/png": {
       "height": 480,
       "width": 640
      }
     },
     "output_type": "display_data"
    }
   ],
   "source": [
    "me.plot_slopes(lr1, condition=\"hours\")"
   ]
  },
  {
   "cell_type": "code",
   "execution_count": null,
   "id": "6159bc47-948f-4677-8ab5-bb61bcd6a83d",
   "metadata": {},
   "outputs": [],
   "source": []
  }
 ],
 "metadata": {
  "kernelspec": {
   "display_name": "Python 3 (ipykernel)",
   "language": "python",
   "name": "python3"
  },
  "language_info": {
   "codemirror_mode": {
    "name": "ipython",
    "version": 3
   },
   "file_extension": ".py",
   "mimetype": "text/x-python",
   "name": "python",
   "nbconvert_exporter": "python",
   "pygments_lexer": "ipython3",
   "version": "3.9.4"
  }
 },
 "nbformat": 4,
 "nbformat_minor": 5
}
