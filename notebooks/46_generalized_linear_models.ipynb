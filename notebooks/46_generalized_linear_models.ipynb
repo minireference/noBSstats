{
 "cells": [
  {
   "cell_type": "markdown",
   "id": "3ec95fa0-da20-41dc-820e-2f33f262f4e2",
   "metadata": {
    "tags": []
   },
   "source": [
    "# Section 4.6 — Generalized linear models\n",
    "\n",
    "This notebook contains the code examples from [Section 4.6 Generalized linear models]() from the **No Bullshit Guide to Statistics**."
   ]
  },
  {
   "cell_type": "markdown",
   "id": "eb4d1856-22a1-4634-87d7-5fc091d93e12",
   "metadata": {
    "tags": []
   },
   "source": [
    "#### Notebook setup"
   ]
  },
  {
   "cell_type": "code",
   "execution_count": 1,
   "id": "0003a9e7-21c7-47a5-bdec-3bd3ca2a79f4",
   "metadata": {},
   "outputs": [],
   "source": [
    "# load Python modules\n",
    "import os\n",
    "import numpy as np\n",
    "import pandas as pd\n",
    "import seaborn as sns"
   ]
  },
  {
   "cell_type": "code",
   "execution_count": 2,
   "id": "8e67e0e7-4f48-4c48-a49d-3cdf22cbd014",
   "metadata": {},
   "outputs": [
    {
     "data": {
      "text/plain": [
       "<Figure size 640x480 with 0 Axes>"
      ]
     },
     "metadata": {},
     "output_type": "display_data"
    }
   ],
   "source": [
    "# Figures setup\n",
    "import matplotlib.pyplot as plt\n",
    "plt.clf()  # needed otherwise `sns.set_theme` doesn't work\n",
    "from plot_helpers import RCPARAMS\n",
    "RCPARAMS.update({\"figure.figsize\": (5, 3)})   # good for screen\n",
    "# RCPARAMS.update({'figure.figsize': (10, 3)})   # good for screen\n",
    "# RCPARAMS.update({'figure.figsize': (4, 2)})  # good for print\n",
    "sns.set_theme(\n",
    "    context=\"paper\",\n",
    "    style=\"whitegrid\",\n",
    "    palette=\"colorblind\",\n",
    "    rc=RCPARAMS,\n",
    ")\n",
    "\n",
    "# High-resolution please\n",
    "%config InlineBackend.figure_format = 'retina'\n",
    "\n",
    "# Where to store figures\n",
    "DESTDIR = \"figures/lm/generalized\""
   ]
  },
  {
   "cell_type": "code",
   "execution_count": 3,
   "id": "59435706-73d7-4f30-9bf9-724fc2aeb681",
   "metadata": {},
   "outputs": [
    {
     "name": "stdout",
     "output_type": "stream",
     "text": [
      "Note: you may need to restart the kernel to use updated packages.\n"
     ]
    }
   ],
   "source": [
    "%pip install --quiet ministats"
   ]
  },
  {
   "cell_type": "code",
   "execution_count": 4,
   "id": "f2f69443-4918-4d3d-80be-880271e29c30",
   "metadata": {},
   "outputs": [],
   "source": [
    "from ministats.utils import savefigure"
   ]
  },
  {
   "cell_type": "code",
   "execution_count": 5,
   "id": "10284893-0407-4602-94d7-f62b24ee63f1",
   "metadata": {
    "editable": true,
    "slideshow": {
     "slide_type": ""
    },
    "tags": []
   },
   "outputs": [],
   "source": [
    "# simple float __repr__\n",
    "np.set_printoptions(legacy='1.25')"
   ]
  },
  {
   "cell_type": "markdown",
   "id": "9b6a738d-2091-4737-97f7-e1550556a4ab",
   "metadata": {},
   "source": [
    "## Definitions"
   ]
  },
  {
   "cell_type": "markdown",
   "id": "917dc7ed-c3f7-4cc2-9302-137e9e1e7494",
   "metadata": {},
   "source": [
    "### Probability representations and link functions "
   ]
  },
  {
   "cell_type": "markdown",
   "id": "f3ecb40b-3679-426d-873d-af0b304bfcf9",
   "metadata": {},
   "source": [
    "#### Odds"
   ]
  },
  {
   "cell_type": "code",
   "execution_count": 6,
   "id": "0c8db8c7-c3a2-4508-a86e-af3d15651df7",
   "metadata": {},
   "outputs": [
    {
     "data": {
      "text/plain": [
       "(1.0, 9.000000000000002, 0.25)"
      ]
     },
     "execution_count": 6,
     "metadata": {},
     "output_type": "execute_result"
    }
   ],
   "source": [
    "0.5/(1-0.5), 0.9/(1-0.9), 0.2/(1-0.2)"
   ]
  },
  {
   "cell_type": "markdown",
   "id": "6b5a7702-8067-4337-be7c-7330807a2d1e",
   "metadata": {},
   "source": [
    "#### Log-odds"
   ]
  },
  {
   "cell_type": "code",
   "execution_count": 7,
   "id": "19434be7-aaaf-475e-8289-5da827938b8e",
   "metadata": {},
   "outputs": [
    {
     "data": {
      "text/plain": [
       "(0.0, 2.1972245773362196, -1.3862943611198906)"
      ]
     },
     "execution_count": 7,
     "metadata": {},
     "output_type": "execute_result"
    }
   ],
   "source": [
    "np.log(0.5/(1-0.5)), np.log(0.9/(1-0.9)), np.log(0.2/(1-0.2))"
   ]
  },
  {
   "cell_type": "markdown",
   "id": "4a591e07-81e1-45c9-ba06-6c0c92948153",
   "metadata": {},
   "source": [
    "#### The logit function"
   ]
  },
  {
   "cell_type": "code",
   "execution_count": 8,
   "id": "c20f0235-8068-4088-a80c-f8d0deae24d1",
   "metadata": {},
   "outputs": [],
   "source": [
    "def logit(p):\n",
    "    x = np.log(p / (1-p))\n",
    "    return x\n",
    "\n",
    "# ALT. import the function from `scipy.special`\n",
    "from scipy.special import logit"
   ]
  },
  {
   "cell_type": "code",
   "execution_count": 9,
   "id": "0b087921-dfe1-4615-bca2-d3c1ddcf4dcd",
   "metadata": {},
   "outputs": [
    {
     "data": {
      "text/plain": [
       "(0.0, 2.1972245773362196, -1.3862943611198906)"
      ]
     },
     "execution_count": 9,
     "metadata": {},
     "output_type": "execute_result"
    }
   ],
   "source": [
    "logit(0.5), logit(0.9), logit(0.2)"
   ]
  },
  {
   "cell_type": "markdown",
   "id": "21c9f57f-86ed-432f-8c2b-f496806549ab",
   "metadata": {},
   "source": [
    "#### The logistic function"
   ]
  },
  {
   "cell_type": "code",
   "execution_count": 10,
   "id": "af4a3117-b480-4e74-836d-3a10b06da2df",
   "metadata": {},
   "outputs": [],
   "source": [
    "def expit(x):\n",
    "    p = 1 / (1 + np.exp(-x))\n",
    "    return p\n",
    "\n",
    "# ALT. import the function from `scipy.special`\n",
    "from scipy.special import expit"
   ]
  },
  {
   "cell_type": "code",
   "execution_count": 11,
   "id": "66f6110a-c944-4b3e-9d5a-de94cc1600e8",
   "metadata": {},
   "outputs": [
    {
     "data": {
      "text/plain": [
       "(0.5, 0.8807970779778823, 0.11920292202211755)"
      ]
     },
     "execution_count": 11,
     "metadata": {},
     "output_type": "execute_result"
    }
   ],
   "source": [
    "expit(0), expit(2), expit(-2)"
   ]
  },
  {
   "cell_type": "code",
   "execution_count": 12,
   "id": "f3357c58-0d49-4019-84b7-34f16a452685",
   "metadata": {},
   "outputs": [
    {
     "name": "stdout",
     "output_type": "stream",
     "text": [
      "Saved figure to figures/lm/generalized/logistic_and_logit_functions.pdf\n",
      "Saved figure to figures/lm/generalized/logistic_and_logit_functions.png\n"
     ]
    },
    {
     "data": {
      "image/png": "[encoded data removed]",
      "text/plain": [
       "<Figure size 600x200 with 2 Axes>"
      ]
     },
     "metadata": {
      "image/png": {
       "height": 190,
       "width": 596
      }
     },
     "output_type": "display_data"
    }
   ],
   "source": [
    "# FIGURES ONLY\n",
    "fig, (ax1, ax2) = plt.subplots(1, 2, figsize=(6, 2))\n",
    "\n",
    "# plot the expit function, a.k.a. the logistic function\n",
    "xs = np.linspace(-6, 6, 500)\n",
    "sns.lineplot(x=xs, y=expit(xs), ax=ax1, label=\"$\\\\mathrm{expit}(x)$\")\n",
    "ax1.set_xlabel(\"$x$\")\n",
    "ax1.set_ylabel(\"$p$\")\n",
    "\n",
    "# plot the logit function\n",
    "ps = np.linspace(0, 1, 600)\n",
    "sns.lineplot(x=ps, y=logit(ps), ax=ax2, label=\"$\\\\mathrm{logit}(p)$\", color=\"C1\")\n",
    "ax2.set_xlabel(\"$p$\")\n",
    "ax2.set_ylabel(\"$x$\")\n",
    "\n",
    "\n",
    "filename = os.path.join(DESTDIR, \"logistic_and_logit_functions.pdf\")\n",
    "savefigure(fig, filename, tight_layout_kwargs=dict(w_pad=3))"
   ]
  },
  {
   "cell_type": "markdown",
   "id": "a8b4fcb0-29e2-4946-8d4d-ac313ee5ee2f",
   "metadata": {},
   "source": [
    "#### The logistic and logit functions are inverses "
   ]
  },
  {
   "cell_type": "code",
   "execution_count": 13,
   "id": "06ad931a-5c47-4c7d-8c5e-34da7d24bece",
   "metadata": {},
   "outputs": [
    {
     "data": {
      "text/plain": [
       "0.2"
      ]
     },
     "execution_count": 13,
     "metadata": {},
     "output_type": "execute_result"
    }
   ],
   "source": [
    "expit(logit(0.2))"
   ]
  },
  {
   "cell_type": "code",
   "execution_count": 14,
   "id": "1dbe0229-e946-4589-a4d0-eb51f53af964",
   "metadata": {},
   "outputs": [
    {
     "data": {
      "text/plain": [
       "3.000000000000003"
      ]
     },
     "execution_count": 14,
     "metadata": {},
     "output_type": "execute_result"
    }
   ],
   "source": [
    "logit(expit(3))"
   ]
  },
  {
   "cell_type": "markdown",
   "id": "3723b64b-0ad7-4b1e-8a07-83e7f6ffaaf0",
   "metadata": {},
   "source": [
    "## Logistic regression\n",
    "\n",
    "TODO FORMULA"
   ]
  },
  {
   "cell_type": "code",
   "execution_count": 15,
   "id": "104042bd-f21c-4e6b-8b81-bd92932ddb0c",
   "metadata": {},
   "outputs": [
    {
     "name": "stdout",
     "output_type": "stream",
     "text": [
      "Saved figure to figures/lm/generalized/logistic_regression_xy_with_stemplots.pdf\n",
      "Saved figure to figures/lm/generalized/logistic_regression_xy_with_stemplots.png\n"
     ]
    },
    {
     "data": {
      "image/png": "[encoded data removed]",
      "text/plain": [
       "<Figure size 500x300 with 1 Axes>"
      ]
     },
     "metadata": {
      "image/png": {
       "height": 292,
       "width": 489
      }
     },
     "output_type": "display_data"
    }
   ],
   "source": [
    "# FIGURES ONLY\n",
    "from scipy.stats import bernoulli\n",
    "from scipy.special import expit\n",
    "\n",
    "# Define the logistic regression model function\n",
    "def expit_model(x):\n",
    "    p = expit(-10 + 2*x)\n",
    "    return p\n",
    "\n",
    "xlims = [0, 10]\n",
    "\n",
    "stem_half_width = 0.03\n",
    "\n",
    "with sns.axes_style(\"ticks\"):\n",
    "    fig, ax = plt.subplots(figsize=(5, 3))\n",
    "\n",
    "    # Plot the logistic regression model\n",
    "    xs = np.linspace(xlims[0], xlims[1], 200)\n",
    "    ps = expit_model(xs)\n",
    "    sns.lineplot(x=xs, y=ps, ax=ax, label=r\"$p(x) = \\mathrm{expit}(\\beta_0 + \\beta_1x)$\", linewidth=2)\n",
    "\n",
    "    # Plot Bernoulli distributions at specified x positions\n",
    "    x_positions = [2,4,5,6,8,10]\n",
    "    for x_pos in x_positions:\n",
    "        p_pos = expit_model(x_pos)\n",
    "        ys = [0,1]\n",
    "        pmf = bernoulli(p=p_pos).pmf(ys)\n",
    "        ys_plot = [p_pos-stem_half_width, p_pos+stem_half_width]\n",
    "        ax.stem(ys_plot, x_pos - pmf, bottom=x_pos, orientation='horizontal')\n",
    "\n",
    "    # Figure setup\n",
    "    ax.set_xlabel(\"$x$\")\n",
    "    ax.set_ylabel(\"$p$\")\n",
    "    ax.legend(loc=\"upper left\")\n",
    "\n",
    "    filename = os.path.join(DESTDIR, \"logistic_regression_xy_with_stemplots.pdf\")\n",
    "    savefigure(fig, filename)"
   ]
  },
  {
   "cell_type": "code",
   "execution_count": 16,
   "id": "8d1e6739-4ff9-439b-befc-fae4cba2fa99",
   "metadata": {},
   "outputs": [
    {
     "data": {
      "text/plain": [
       "0.0024726231566347743"
      ]
     },
     "execution_count": 16,
     "metadata": {},
     "output_type": "execute_result"
    }
   ],
   "source": [
    "expit(-6)"
   ]
  },
  {
   "cell_type": "code",
   "execution_count": 17,
   "id": "fe87674e-27b4-4981-8f9d-572fc0dd7272",
   "metadata": {},
   "outputs": [
    {
     "data": {
      "text/plain": [
       "0.9999546021312976"
      ]
     },
     "execution_count": 17,
     "metadata": {},
     "output_type": "execute_result"
    }
   ],
   "source": [
    "expit(10)"
   ]
  },
  {
   "cell_type": "markdown",
   "id": "4d7604ee-8867-49ed-8da3-e6dfbb7934a1",
   "metadata": {},
   "source": [
    "### Example 1: hiring student interns"
   ]
  },
  {
   "cell_type": "code",
   "execution_count": 18,
   "id": "ed07f2d5-3524-427a-bf15-e325e8d57fd1",
   "metadata": {},
   "outputs": [
    {
     "name": "stdout",
     "output_type": "stream",
     "text": [
      "(100, 2)\n"
     ]
    },
    {
     "data": {
      "text/html": [
       "<div>\n",
       "<style scoped>\n",
       "    .dataframe tbody tr th:only-of-type {\n",
       "        vertical-align: middle;\n",
       "    }\n",
       "\n",
       "    .dataframe tbody tr th {\n",
       "        vertical-align: top;\n",
       "    }\n",
       "\n",
       "    .dataframe thead th {\n",
       "        text-align: right;\n",
       "    }\n",
       "</style>\n",
       "<table border=\"1\" class=\"dataframe\">\n",
       "  <thead>\n",
       "    <tr style=\"text-align: right;\">\n",
       "      <th></th>\n",
       "      <th>work</th>\n",
       "      <th>hired</th>\n",
       "    </tr>\n",
       "  </thead>\n",
       "  <tbody>\n",
       "    <tr>\n",
       "      <th>0</th>\n",
       "      <td>42.5</td>\n",
       "      <td>1</td>\n",
       "    </tr>\n",
       "    <tr>\n",
       "      <th>1</th>\n",
       "      <td>39.3</td>\n",
       "      <td>0</td>\n",
       "    </tr>\n",
       "    <tr>\n",
       "      <th>2</th>\n",
       "      <td>43.2</td>\n",
       "      <td>1</td>\n",
       "    </tr>\n",
       "  </tbody>\n",
       "</table>\n",
       "</div>"
      ],
      "text/plain": [
       "   work  hired\n",
       "0  42.5      1\n",
       "1  39.3      0\n",
       "2  43.2      1"
      ]
     },
     "execution_count": 18,
     "metadata": {},
     "output_type": "execute_result"
    }
   ],
   "source": [
    "interns = pd.read_csv(\"../datasets/interns.csv\")\n",
    "print(interns.shape)\n",
    "interns.head(3)"
   ]
  },
  {
   "cell_type": "code",
   "execution_count": 19,
   "id": "3732e2b2-bb46-47ee-bb00-131f22e4bc5d",
   "metadata": {},
   "outputs": [
    {
     "name": "stdout",
     "output_type": "stream",
     "text": [
      "Optimization terminated successfully.\n",
      "         Current function value: 0.138101\n",
      "         Iterations 10\n",
      "Intercept   -78.693205\n",
      "work          1.981458\n",
      "dtype: float64\n"
     ]
    }
   ],
   "source": [
    "import statsmodels.formula.api as smf\n",
    "\n",
    "lr1 = smf.logit(\"hired ~ 1 + work\", data=interns).fit()\n",
    "print(lr1.params)"
   ]
  },
  {
   "cell_type": "code",
   "execution_count": 20,
   "id": "e0d98400-2149-45b0-9490-16488ff920ea",
   "metadata": {},
   "outputs": [
    {
     "data": {
      "text/html": [
       "<table class=\"simpletable\">\n",
       "<caption>Logit Regression Results</caption>\n",
       "<tr>\n",
       "  <th>Dep. Variable:</th>         <td>hired</td>      <th>  No. Observations:  </th>  <td>   100</td>  \n",
       "</tr>\n",
       "<tr>\n",
       "  <th>Model:</th>                 <td>Logit</td>      <th>  Df Residuals:      </th>  <td>    98</td>  \n",
       "</tr>\n",
       "<tr>\n",
       "  <th>Method:</th>                 <td>MLE</td>       <th>  Df Model:          </th>  <td>     1</td>  \n",
       "</tr>\n",
       "<tr>\n",
       "  <th>Date:</th>            <td>Mon, 15 Sep 2025</td> <th>  Pseudo R-squ.:     </th>  <td>0.8005</td>  \n",
       "</tr>\n",
       "<tr>\n",
       "  <th>Time:</th>                <td>11:04:02</td>     <th>  Log-Likelihood:    </th> <td> -13.810</td> \n",
       "</tr>\n",
       "<tr>\n",
       "  <th>converged:</th>             <td>True</td>       <th>  LL-Null:           </th> <td> -69.235</td> \n",
       "</tr>\n",
       "<tr>\n",
       "  <th>Covariance Type:</th>     <td>nonrobust</td>    <th>  LLR p-value:       </th> <td>6.385e-26</td>\n",
       "</tr>\n",
       "</table>\n",
       "<table class=\"simpletable\">\n",
       "<tr>\n",
       "      <td></td>         <th>coef</th>     <th>std err</th>      <th>z</th>      <th>P>|z|</th>  <th>[0.025</th>    <th>0.975]</th>  \n",
       "</tr>\n",
       "<tr>\n",
       "  <th>Intercept</th> <td>  -78.6932</td> <td>   19.851</td> <td>   -3.964</td> <td> 0.000</td> <td> -117.600</td> <td>  -39.787</td>\n",
       "</tr>\n",
       "<tr>\n",
       "  <th>work</th>      <td>    1.9815</td> <td>    0.500</td> <td>    3.959</td> <td> 0.000</td> <td>    1.001</td> <td>    2.962</td>\n",
       "</tr>\n",
       "</table><br/><br/>Possibly complete quasi-separation: A fraction 0.32 of observations can be<br/>perfectly predicted. This might indicate that there is complete<br/>quasi-separation. In this case some parameters will not be identified."
      ],
      "text/latex": [
       "\\begin{center}\n",
       "\\begin{tabular}{lclc}\n",
       "\\toprule\n",
       "\\textbf{Dep. Variable:}   &      hired       & \\textbf{  No. Observations:  } &      100    \\\\\n",
       "\\textbf{Model:}           &      Logit       & \\textbf{  Df Residuals:      } &       98    \\\\\n",
       "\\textbf{Method:}          &       MLE        & \\textbf{  Df Model:          } &        1    \\\\\n",
       "\\textbf{Date:}            & Mon, 15 Sep 2025 & \\textbf{  Pseudo R-squ.:     } &   0.8005    \\\\\n",
       "\\textbf{Time:}            &     11:04:02     & \\textbf{  Log-Likelihood:    } &   -13.810   \\\\\n",
       "\\textbf{converged:}       &       True       & \\textbf{  LL-Null:           } &   -69.235   \\\\\n",
       "\\textbf{Covariance Type:} &    nonrobust     & \\textbf{  LLR p-value:       } & 6.385e-26   \\\\\n",
       "\\bottomrule\n",
       "\\end{tabular}\n",
       "\\begin{tabular}{lcccccc}\n",
       "                   & \\textbf{coef} & \\textbf{std err} & \\textbf{z} & \\textbf{P$> |$z$|$} & \\textbf{[0.025} & \\textbf{0.975]}  \\\\\n",
       "\\midrule\n",
       "\\textbf{Intercept} &     -78.6932  &       19.851     &    -3.964  &         0.000        &     -117.600    &      -39.787     \\\\\n",
       "\\textbf{work}      &       1.9815  &        0.500     &     3.959  &         0.000        &        1.001    &        2.962     \\\\\n",
       "\\bottomrule\n",
       "\\end{tabular}\n",
       "%\\caption{Logit Regression Results}\n",
       "\\end{center}\n",
       "\n",
       "Possibly complete quasi-separation: A fraction 0.32 of observations can be \\newline\n",
       " perfectly predicted. This might indicate that there is complete \\newline\n",
       " quasi-separation. In this case some parameters will not be identified."
      ],
      "text/plain": [
       "<class 'statsmodels.iolib.summary.Summary'>\n",
       "\"\"\"\n",
       "                           Logit Regression Results                           \n",
       "==============================================================================\n",
       "Dep. Variable:                  hired   No. Observations:                  100\n",
       "Model:                          Logit   Df Residuals:                       98\n",
       "Method:                           MLE   Df Model:                            1\n",
       "Date:                Mon, 15 Sep 2025   Pseudo R-squ.:                  0.8005\n",
       "Time:                        11:04:02   Log-Likelihood:                -13.810\n",
       "converged:                       True   LL-Null:                       -69.235\n",
       "Covariance Type:            nonrobust   LLR p-value:                 6.385e-26\n",
       "==============================================================================\n",
       "                 coef    std err          z      P>|z|      [0.025      0.975]\n",
       "------------------------------------------------------------------------------\n",
       "Intercept    -78.6932     19.851     -3.964      0.000    -117.600     -39.787\n",
       "work           1.9815      0.500      3.959      0.000       1.001       2.962\n",
       "==============================================================================\n",
       "\n",
       "Possibly complete quasi-separation: A fraction 0.32 of observations can be\n",
       "perfectly predicted. This might indicate that there is complete\n",
       "quasi-separation. In this case some parameters will not be identified.\n",
       "\"\"\""
      ]
     },
     "execution_count": 20,
     "metadata": {},
     "output_type": "execute_result"
    }
   ],
   "source": [
    "lr1.summary()"
   ]
  },
  {
   "cell_type": "code",
   "execution_count": 21,
   "id": "29a5e946-2395-4699-8528-e4b113f204bb",
   "metadata": {},
   "outputs": [
    {
     "data": {
      "image/png": "[encoded data removed]",
      "text/plain": [
       "<Figure size 500x300 with 1 Axes>"
      ]
     },
     "metadata": {
      "image/png": {
       "height": 293,
       "width": 453
      }
     },
     "output_type": "display_data"
    }
   ],
   "source": [
    "ax = sns.scatterplot(data=interns, x=\"work\", y=\"hired\")\n",
    "wgrid = np.linspace(27, 50, 100)\n",
    "hired_preds = lr1.predict({\"work\": wgrid})\n",
    "sns.lineplot(x=wgrid, y=hired_preds, ax=ax);"
   ]
  },
  {
   "cell_type": "code",
   "execution_count": 22,
   "id": "fc815477-ecbe-4ba1-a609-4da8c3171a63",
   "metadata": {},
   "outputs": [
    {
     "name": "stdout",
     "output_type": "stream",
     "text": [
      "Saved figure to figures/lm/generalized/logistic_regression_interns_hired_vs_work.pdf\n",
      "Saved figure to figures/lm/generalized/logistic_regression_interns_hired_vs_work.png\n"
     ]
    },
    {
     "data": {
      "image/png": "[encoded data removed]",
      "text/plain": [
       "<Figure size 500x300 with 1 Axes>"
      ]
     },
     "metadata": {
      "image/png": {
       "height": 291,
       "width": 492
      }
     },
     "output_type": "display_data"
    }
   ],
   "source": [
    "from ministats import plot_reg\n",
    "plot_reg(lr1)\n",
    "\n",
    "# FIGURES ONLY\n",
    "filename = os.path.join(DESTDIR, \"logistic_regression_interns_hired_vs_work.pdf\")\n",
    "savefigure(plt.gcf(), filename)"
   ]
  },
  {
   "cell_type": "code",
   "execution_count": 23,
   "id": "72f5049b-b6bd-4ea5-9f64-c194ab6fb005",
   "metadata": {},
   "outputs": [
    {
     "data": {
      "text/html": [
       "<table class=\"simpletable\">\n",
       "<caption>Logit Regression Results</caption>\n",
       "<tr>\n",
       "  <th>Dep. Variable:</th>         <td>hired</td>      <th>  No. Observations:  </th>  <td>   100</td>  \n",
       "</tr>\n",
       "<tr>\n",
       "  <th>Model:</th>                 <td>Logit</td>      <th>  Df Residuals:      </th>  <td>    98</td>  \n",
       "</tr>\n",
       "<tr>\n",
       "  <th>Method:</th>                 <td>MLE</td>       <th>  Df Model:          </th>  <td>     1</td>  \n",
       "</tr>\n",
       "<tr>\n",
       "  <th>Date:</th>            <td>Mon, 15 Sep 2025</td> <th>  Pseudo R-squ.:     </th>  <td>0.8005</td>  \n",
       "</tr>\n",
       "<tr>\n",
       "  <th>Time:</th>                <td>11:04:02</td>     <th>  Log-Likelihood:    </th> <td> -13.810</td> \n",
       "</tr>\n",
       "<tr>\n",
       "  <th>converged:</th>             <td>True</td>       <th>  LL-Null:           </th> <td> -69.235</td> \n",
       "</tr>\n",
       "<tr>\n",
       "  <th>Covariance Type:</th>     <td>nonrobust</td>    <th>  LLR p-value:       </th> <td>6.385e-26</td>\n",
       "</tr>\n",
       "</table>\n",
       "<table class=\"simpletable\">\n",
       "<tr>\n",
       "      <td></td>         <th>coef</th>     <th>std err</th>      <th>z</th>      <th>P>|z|</th>  <th>[0.025</th>    <th>0.975]</th>  \n",
       "</tr>\n",
       "<tr>\n",
       "  <th>Intercept</th> <td>  -78.6932</td> <td>   19.851</td> <td>   -3.964</td> <td> 0.000</td> <td> -117.600</td> <td>  -39.787</td>\n",
       "</tr>\n",
       "<tr>\n",
       "  <th>work</th>      <td>    1.9815</td> <td>    0.500</td> <td>    3.959</td> <td> 0.000</td> <td>    1.001</td> <td>    2.962</td>\n",
       "</tr>\n",
       "</table><br/><br/>Possibly complete quasi-separation: A fraction 0.32 of observations can be<br/>perfectly predicted. This might indicate that there is complete<br/>quasi-separation. In this case some parameters will not be identified."
      ],
      "text/latex": [
       "\\begin{center}\n",
       "\\begin{tabular}{lclc}\n",
       "\\toprule\n",
       "\\textbf{Dep. Variable:}   &      hired       & \\textbf{  No. Observations:  } &      100    \\\\\n",
       "\\textbf{Model:}           &      Logit       & \\textbf{  Df Residuals:      } &       98    \\\\\n",
       "\\textbf{Method:}          &       MLE        & \\textbf{  Df Model:          } &        1    \\\\\n",
       "\\textbf{Date:}            & Mon, 15 Sep 2025 & \\textbf{  Pseudo R-squ.:     } &   0.8005    \\\\\n",
       "\\textbf{Time:}            &     11:04:02     & \\textbf{  Log-Likelihood:    } &   -13.810   \\\\\n",
       "\\textbf{converged:}       &       True       & \\textbf{  LL-Null:           } &   -69.235   \\\\\n",
       "\\textbf{Covariance Type:} &    nonrobust     & \\textbf{  LLR p-value:       } & 6.385e-26   \\\\\n",
       "\\bottomrule\n",
       "\\end{tabular}\n",
       "\\begin{tabular}{lcccccc}\n",
       "                   & \\textbf{coef} & \\textbf{std err} & \\textbf{z} & \\textbf{P$> |$z$|$} & \\textbf{[0.025} & \\textbf{0.975]}  \\\\\n",
       "\\midrule\n",
       "\\textbf{Intercept} &     -78.6932  &       19.851     &    -3.964  &         0.000        &     -117.600    &      -39.787     \\\\\n",
       "\\textbf{work}      &       1.9815  &        0.500     &     3.959  &         0.000        &        1.001    &        2.962     \\\\\n",
       "\\bottomrule\n",
       "\\end{tabular}\n",
       "%\\caption{Logit Regression Results}\n",
       "\\end{center}\n",
       "\n",
       "Possibly complete quasi-separation: A fraction 0.32 of observations can be \\newline\n",
       " perfectly predicted. This might indicate that there is complete \\newline\n",
       " quasi-separation. In this case some parameters will not be identified."
      ],
      "text/plain": [
       "<class 'statsmodels.iolib.summary.Summary'>\n",
       "\"\"\"\n",
       "                           Logit Regression Results                           \n",
       "==============================================================================\n",
       "Dep. Variable:                  hired   No. Observations:                  100\n",
       "Model:                          Logit   Df Residuals:                       98\n",
       "Method:                           MLE   Df Model:                            1\n",
       "Date:                Mon, 15 Sep 2025   Pseudo R-squ.:                  0.8005\n",
       "Time:                        11:04:02   Log-Likelihood:                -13.810\n",
       "converged:                       True   LL-Null:                       -69.235\n",
       "Covariance Type:            nonrobust   LLR p-value:                 6.385e-26\n",
       "==============================================================================\n",
       "                 coef    std err          z      P>|z|      [0.025      0.975]\n",
       "------------------------------------------------------------------------------\n",
       "Intercept    -78.6932     19.851     -3.964      0.000    -117.600     -39.787\n",
       "work           1.9815      0.500      3.959      0.000       1.001       2.962\n",
       "==============================================================================\n",
       "\n",
       "Possibly complete quasi-separation: A fraction 0.32 of observations can be\n",
       "perfectly predicted. This might indicate that there is complete\n",
       "quasi-separation. In this case some parameters will not be identified.\n",
       "\"\"\""
      ]
     },
     "execution_count": 23,
     "metadata": {},
     "output_type": "execute_result"
    }
   ],
   "source": [
    "lr1.summary()"
   ]
  },
  {
   "cell_type": "markdown",
   "id": "71eb9fdb-56dc-4bbc-9389-40186f5a3b10",
   "metadata": {},
   "source": [
    "### Interpreting the model parameters"
   ]
  },
  {
   "cell_type": "markdown",
   "id": "3fed92d6-91a1-40e7-ac7e-22c80371f1c3",
   "metadata": {},
   "source": [
    "#### Parameters as changes in the log-odds"
   ]
  },
  {
   "cell_type": "code",
   "execution_count": 24,
   "id": "ac767235-5d93-40b4-b67b-9c74214afa0c",
   "metadata": {},
   "outputs": [
    {
     "data": {
      "text/plain": [
       "1.9814577697476687"
      ]
     },
     "execution_count": 24,
     "metadata": {},
     "output_type": "execute_result"
    }
   ],
   "source": [
    "lr1.params[\"work\"]"
   ]
  },
  {
   "cell_type": "markdown",
   "id": "dad4577a-a4eb-4313-a773-714392a69e84",
   "metadata": {},
   "source": [
    "#### Parameters as ratios of odds"
   ]
  },
  {
   "cell_type": "code",
   "execution_count": 25,
   "id": "4b83d555-820b-4796-b28b-15b25fd0420b",
   "metadata": {},
   "outputs": [
    {
     "data": {
      "text/plain": [
       "7.253308936265722"
      ]
     },
     "execution_count": 25,
     "metadata": {},
     "output_type": "execute_result"
    }
   ],
   "source": [
    "np.exp(lr1.params[\"work\"])"
   ]
  },
  {
   "cell_type": "markdown",
   "id": "9628810a-672b-4e07-96ff-f8a6cbc8dc8a",
   "metadata": {},
   "source": [
    "#### Differences in probabilities\n",
    "\n",
    "What is the *marginal effect* of the predictor `work`\n",
    "for an intern who invests 40 hours of effort?"
   ]
  },
  {
   "cell_type": "code",
   "execution_count": 26,
   "id": "28a7b516-4ca9-4449-b406-8cb90609e9d7",
   "metadata": {},
   "outputs": [
    {
     "data": {
      "text/html": [
       "<div>\n",
       "<style scoped>\n",
       "    .dataframe tbody tr th:only-of-type {\n",
       "        vertical-align: middle;\n",
       "    }\n",
       "\n",
       "    .dataframe tbody tr th {\n",
       "        vertical-align: top;\n",
       "    }\n",
       "\n",
       "    .dataframe thead th {\n",
       "        text-align: right;\n",
       "    }\n",
       "</style>\n",
       "<table border=\"1\" class=\"dataframe\">\n",
       "  <thead>\n",
       "    <tr style=\"text-align: right;\">\n",
       "      <th></th>\n",
       "      <th>dy/dx</th>\n",
       "      <th>Std. Err.</th>\n",
       "      <th>z</th>\n",
       "      <th>Pr(&gt;|z|)</th>\n",
       "      <th>Conf. Int. Low</th>\n",
       "      <th>Cont. Int. Hi.</th>\n",
       "    </tr>\n",
       "  </thead>\n",
       "  <tbody>\n",
       "    <tr>\n",
       "      <th>work</th>\n",
       "      <td>0.45783</td>\n",
       "      <td>0.112623</td>\n",
       "      <td>4.065157</td>\n",
       "      <td>0.000048</td>\n",
       "      <td>0.237093</td>\n",
       "      <td>0.678567</td>\n",
       "    </tr>\n",
       "  </tbody>\n",
       "</table>\n",
       "</div>"
      ],
      "text/plain": [
       "        dy/dx  Std. Err.         z  Pr(>|z|)  Conf. Int. Low  Cont. Int. Hi.\n",
       "work  0.45783   0.112623  4.065157  0.000048        0.237093        0.678567"
      ]
     },
     "execution_count": 26,
     "metadata": {},
     "output_type": "execute_result"
    }
   ],
   "source": [
    "# using `statsmodels`\n",
    "lr1.get_margeff(atexog={1:40}).summary_frame()"
   ]
  },
  {
   "cell_type": "code",
   "execution_count": 27,
   "id": "e4f577e1-18f4-4358-b927-4523c49595fe",
   "metadata": {},
   "outputs": [
    {
     "data": {
      "text/html": [
       "<div>\n",
       "<style scoped>\n",
       "    .dataframe tbody tr th:only-of-type {\n",
       "        vertical-align: middle;\n",
       "    }\n",
       "\n",
       "    .dataframe tbody tr th {\n",
       "        vertical-align: top;\n",
       "    }\n",
       "\n",
       "    .dataframe thead th {\n",
       "        text-align: right;\n",
       "    }\n",
       "</style>\n",
       "<table border=\"1\" class=\"dataframe\">\n",
       "  <thead>\n",
       "    <tr style=\"text-align: right;\">\n",
       "      <th></th>\n",
       "      <th>dy/dx</th>\n",
       "      <th>Std. Err.</th>\n",
       "      <th>z</th>\n",
       "      <th>Pr(&gt;|z|)</th>\n",
       "      <th>Conf. Int. Low</th>\n",
       "      <th>Cont. Int. Hi.</th>\n",
       "    </tr>\n",
       "  </thead>\n",
       "  <tbody>\n",
       "    <tr>\n",
       "      <th>work</th>\n",
       "      <td>0.020949</td>\n",
       "      <td>0.021358</td>\n",
       "      <td>0.98084</td>\n",
       "      <td>0.326672</td>\n",
       "      <td>-0.020912</td>\n",
       "      <td>0.06281</td>\n",
       "    </tr>\n",
       "  </tbody>\n",
       "</table>\n",
       "</div>"
      ],
      "text/plain": [
       "         dy/dx  Std. Err.        z  Pr(>|z|)  Conf. Int. Low  Cont. Int. Hi.\n",
       "work  0.020949   0.021358  0.98084  0.326672       -0.020912         0.06281"
      ]
     },
     "execution_count": 27,
     "metadata": {},
     "output_type": "execute_result"
    }
   ],
   "source": [
    "lr1.get_margeff(atexog={1:42}).summary_frame()"
   ]
  },
  {
   "cell_type": "code",
   "execution_count": 28,
   "id": "31da2651-3d42-436f-9d53-b3e0a8c557ae",
   "metadata": {},
   "outputs": [],
   "source": [
    "# # ALT. manual calculation plugging into derivative of `expit`\n",
    "# p40 = lr1.predict({\"work\":40}).item()\n",
    "# marg_effect_at_40 = p40 * (1 - p40) * lr1.params['work']\n",
    "# marg_effect_at_40"
   ]
  },
  {
   "cell_type": "markdown",
   "id": "cca91844-8721-4862-837f-04ec69f994de",
   "metadata": {},
   "source": [
    "### Prediction"
   ]
  },
  {
   "cell_type": "code",
   "execution_count": 29,
   "id": "f9c1309e-eea5-4cfb-aa50-4dcf108f9f7e",
   "metadata": {},
   "outputs": [
    {
     "data": {
      "text/plain": [
       "0.9893134055105761"
      ]
     },
     "execution_count": 29,
     "metadata": {},
     "output_type": "execute_result"
    }
   ],
   "source": [
    "p42 = lr1.predict({\"work\":42})[0]\n",
    "p42"
   ]
  },
  {
   "cell_type": "markdown",
   "id": "4654b75e-dbaa-46c6-8482-fd85ef987e0d",
   "metadata": {},
   "source": [
    "## Poisson regression"
   ]
  },
  {
   "cell_type": "code",
   "execution_count": 30,
   "id": "d68c191a-ee2d-4b3b-94eb-31bbd37619d1",
   "metadata": {},
   "outputs": [
    {
     "name": "stdout",
     "output_type": "stream",
     "text": [
      "Saved figure to figures/lm/generalized/poisson_regression_xy_with_stemplots.pdf\n",
      "Saved figure to figures/lm/generalized/poisson_regression_xy_with_stemplots.png\n"
     ]
    },
    {
     "data": {
      "image/png": "[encoded data removed]",
      "text/plain": [
       "<Figure size 500x300 with 1 Axes>"
      ]
     },
     "metadata": {
      "image/png": {
       "height": 291,
       "width": 490
      }
     },
     "output_type": "display_data"
    }
   ],
   "source": [
    "# FIGURES ONLY\n",
    "from scipy.stats import poisson\n",
    "\n",
    "# Define the linear model function\n",
    "def exp_model(x):\n",
    "    lam = np.exp(1 + 0.2*x)\n",
    "    return lam\n",
    "\n",
    "onepixel = 0.07\n",
    "\n",
    "xlims = [0, 20]\n",
    "ylims = [0, 100]\n",
    "\n",
    "with sns.axes_style(\"ticks\"):\n",
    "    fig, ax = plt.subplots(figsize=(5, 3))\n",
    "\n",
    "    # Plot the linear model\n",
    "    xs = np.linspace(xlims[0], xlims[1], 200)\n",
    "    lams = exp_model(xs)\n",
    "    sns.lineplot(x=xs, y=lams, ax=ax, label=r\"$\\mu_Y(x) = \\exp(\\beta_0 + \\beta_1x)$\", linewidth=2)\n",
    "    \n",
    "    # Plot Gaussian distributions at specified x positions and add sigma lines\n",
    "    x_positions = range(2, xlims[1]-1, 3)\n",
    "    for x_pos in x_positions:\n",
    "        lam_pos = exp_model(x_pos)\n",
    "        sigma = np.sqrt(lam_pos)\n",
    "        ys_lower = int(lam_pos-2.5*sigma)\n",
    "        ys_upper = int(lam_pos+3.4*sigma)\n",
    "        ys = np.arange(ys_lower, ys_upper, 3)\n",
    "        pmf = poisson(mu=lam_pos).pmf(ys)\n",
    "        # ax.fill_betweenx(ys, x_pos - 2 * pmf * sigma, x_pos, color=\"grey\", alpha=0.5)\n",
    "        ax.stem(ys, x_pos- 2 * pmf * sigma, bottom=x_pos, orientation='horizontal')\n",
    "        # Draw vertical sigma line and label it on the opposite side of the Gaussian shape\n",
    "        # ax.plot([x_pos+onepixel, x_pos+onepixel], [lam_pos, lam_pos - sigma], \"k\", lw=1)\n",
    "        # ax.text(x_pos + 0.1, lam_pos - sigma / 2 - 3*onepixel, r\"$\\sigma$\", fontsize=12, va=\"center\")\n",
    "\n",
    "    # y-intercept\n",
    "    ax.text(0 - 0.6, np.exp(1), r\"$\\exp(\\beta_0)$\", fontsize=10, va=\"center\", ha=\"right\")\n",
    "\n",
    "    # Set up x-axis\n",
    "    ax.set_xlim(xlims)\n",
    "    ax.set_xlabel(\"$x$\")\n",
    "    ax.set_xticks(range(2, xlims[1], 3))\n",
    "    ax.set_xticklabels([])\n",
    "    \n",
    "    # Set up y-axis\n",
    "    ax.set_ylim([ylims[0]-4,ylims[1]])\n",
    "    ax.set_ylabel(\"$y$\")\n",
    "    ax.set_yticks(list(range(ylims[0],ylims[1],20)) + [np.exp(1)] )\n",
    "    ax.set_yticklabels([])\n",
    "    \n",
    "    ax.legend(loc=\"upper left\")\n",
    "\n",
    "    filename = os.path.join(DESTDIR, \"poisson_regression_xy_with_stemplots.pdf\")\n",
    "    savefigure(fig, filename)"
   ]
  },
  {
   "cell_type": "markdown",
   "id": "02d6d2d9-7a0e-42c4-ad69-fd05c34ff3e0",
   "metadata": {},
   "source": [
    "### Example 2: hard disk failures over time"
   ]
  },
  {
   "cell_type": "code",
   "execution_count": 31,
   "id": "444ae703-6f3b-4429-9bf7-4c99850f3bd3",
   "metadata": {},
   "outputs": [
    {
     "data": {
      "text/html": [
       "<div>\n",
       "<style scoped>\n",
       "    .dataframe tbody tr th:only-of-type {\n",
       "        vertical-align: middle;\n",
       "    }\n",
       "\n",
       "    .dataframe tbody tr th {\n",
       "        vertical-align: top;\n",
       "    }\n",
       "\n",
       "    .dataframe thead th {\n",
       "        text-align: right;\n",
       "    }\n",
       "</style>\n",
       "<table border=\"1\" class=\"dataframe\">\n",
       "  <thead>\n",
       "    <tr style=\"text-align: right;\">\n",
       "      <th></th>\n",
       "      <th>age</th>\n",
       "      <th>failures</th>\n",
       "    </tr>\n",
       "  </thead>\n",
       "  <tbody>\n",
       "    <tr>\n",
       "      <th>0</th>\n",
       "      <td>1.7</td>\n",
       "      <td>3</td>\n",
       "    </tr>\n",
       "    <tr>\n",
       "      <th>1</th>\n",
       "      <td>14.6</td>\n",
       "      <td>46</td>\n",
       "    </tr>\n",
       "    <tr>\n",
       "      <th>2</th>\n",
       "      <td>10.9</td>\n",
       "      <td>23</td>\n",
       "    </tr>\n",
       "  </tbody>\n",
       "</table>\n",
       "</div>"
      ],
      "text/plain": [
       "    age  failures\n",
       "0   1.7         3\n",
       "1  14.6        46\n",
       "2  10.9        23"
      ]
     },
     "execution_count": 31,
     "metadata": {},
     "output_type": "execute_result"
    }
   ],
   "source": [
    "hdisks = pd.read_csv(\"../datasets/hdisks.csv\")\n",
    "hdisks.head(3)"
   ]
  },
  {
   "cell_type": "code",
   "execution_count": 32,
   "id": "97d88af8-5d0e-4ec7-91cd-26fe13189b28",
   "metadata": {},
   "outputs": [
    {
     "name": "stdout",
     "output_type": "stream",
     "text": [
      "Optimization terminated successfully.\n",
      "         Current function value: 2.693129\n",
      "         Iterations 6\n"
     ]
    },
    {
     "data": {
      "text/plain": [
       "Intercept    1.075999\n",
       "age          0.193828\n",
       "dtype: float64"
      ]
     },
     "execution_count": 32,
     "metadata": {},
     "output_type": "execute_result"
    }
   ],
   "source": [
    "import statsmodels.formula.api as smf\n",
    "\n",
    "pr2 = smf.poisson(\"failures ~ 1 + age\", data=hdisks).fit()\n",
    "pr2.params"
   ]
  },
  {
   "cell_type": "code",
   "execution_count": 33,
   "id": "f69f043f-0fd5-409c-a9cb-2afa5297eaf9",
   "metadata": {},
   "outputs": [
    {
     "data": {
      "text/html": [
       "<table class=\"simpletable\">\n",
       "<caption>Poisson Regression Results</caption>\n",
       "<tr>\n",
       "  <th>Dep. Variable:</th>       <td>failures</td>     <th>  No. Observations:  </th>   <td>   100</td>  \n",
       "</tr>\n",
       "<tr>\n",
       "  <th>Model:</th>                <td>Poisson</td>     <th>  Df Residuals:      </th>   <td>    98</td>  \n",
       "</tr>\n",
       "<tr>\n",
       "  <th>Method:</th>                 <td>MLE</td>       <th>  Df Model:          </th>   <td>     1</td>  \n",
       "</tr>\n",
       "<tr>\n",
       "  <th>Date:</th>            <td>Mon, 15 Sep 2025</td> <th>  Pseudo R-squ.:     </th>   <td>0.6412</td>  \n",
       "</tr>\n",
       "<tr>\n",
       "  <th>Time:</th>                <td>11:04:02</td>     <th>  Log-Likelihood:    </th>  <td> -269.31</td> \n",
       "</tr>\n",
       "<tr>\n",
       "  <th>converged:</th>             <td>True</td>       <th>  LL-Null:           </th>  <td> -750.68</td> \n",
       "</tr>\n",
       "<tr>\n",
       "  <th>Covariance Type:</th>     <td>nonrobust</td>    <th>  LLR p-value:       </th> <td>2.271e-211</td>\n",
       "</tr>\n",
       "</table>\n",
       "<table class=\"simpletable\">\n",
       "<tr>\n",
       "      <td></td>         <th>coef</th>     <th>std err</th>      <th>z</th>      <th>P>|z|</th>  <th>[0.025</th>    <th>0.975]</th>  \n",
       "</tr>\n",
       "<tr>\n",
       "  <th>Intercept</th> <td>    1.0760</td> <td>    0.076</td> <td>   14.114</td> <td> 0.000</td> <td>    0.927</td> <td>    1.225</td>\n",
       "</tr>\n",
       "<tr>\n",
       "  <th>age</th>       <td>    0.1938</td> <td>    0.007</td> <td>   28.603</td> <td> 0.000</td> <td>    0.181</td> <td>    0.207</td>\n",
       "</tr>\n",
       "</table>"
      ],
      "text/latex": [
       "\\begin{center}\n",
       "\\begin{tabular}{lclc}\n",
       "\\toprule\n",
       "\\textbf{Dep. Variable:}   &     failures     & \\textbf{  No. Observations:  } &      100    \\\\\n",
       "\\textbf{Model:}           &     Poisson      & \\textbf{  Df Residuals:      } &       98    \\\\\n",
       "\\textbf{Method:}          &       MLE        & \\textbf{  Df Model:          } &        1    \\\\\n",
       "\\textbf{Date:}            & Mon, 15 Sep 2025 & \\textbf{  Pseudo R-squ.:     } &   0.6412    \\\\\n",
       "\\textbf{Time:}            &     11:04:02     & \\textbf{  Log-Likelihood:    } &   -269.31   \\\\\n",
       "\\textbf{converged:}       &       True       & \\textbf{  LL-Null:           } &   -750.68   \\\\\n",
       "\\textbf{Covariance Type:} &    nonrobust     & \\textbf{  LLR p-value:       } & 2.271e-211  \\\\\n",
       "\\bottomrule\n",
       "\\end{tabular}\n",
       "\\begin{tabular}{lcccccc}\n",
       "                   & \\textbf{coef} & \\textbf{std err} & \\textbf{z} & \\textbf{P$> |$z$|$} & \\textbf{[0.025} & \\textbf{0.975]}  \\\\\n",
       "\\midrule\n",
       "\\textbf{Intercept} &       1.0760  &        0.076     &    14.114  &         0.000        &        0.927    &        1.225     \\\\\n",
       "\\textbf{age}       &       0.1938  &        0.007     &    28.603  &         0.000        &        0.181    &        0.207     \\\\\n",
       "\\bottomrule\n",
       "\\end{tabular}\n",
       "%\\caption{Poisson Regression Results}\n",
       "\\end{center}"
      ],
      "text/plain": [
       "<class 'statsmodels.iolib.summary.Summary'>\n",
       "\"\"\"\n",
       "                          Poisson Regression Results                          \n",
       "==============================================================================\n",
       "Dep. Variable:               failures   No. Observations:                  100\n",
       "Model:                        Poisson   Df Residuals:                       98\n",
       "Method:                           MLE   Df Model:                            1\n",
       "Date:                Mon, 15 Sep 2025   Pseudo R-squ.:                  0.6412\n",
       "Time:                        11:04:02   Log-Likelihood:                -269.31\n",
       "converged:                       True   LL-Null:                       -750.68\n",
       "Covariance Type:            nonrobust   LLR p-value:                2.271e-211\n",
       "==============================================================================\n",
       "                 coef    std err          z      P>|z|      [0.025      0.975]\n",
       "------------------------------------------------------------------------------\n",
       "Intercept      1.0760      0.076     14.114      0.000       0.927       1.225\n",
       "age            0.1938      0.007     28.603      0.000       0.181       0.207\n",
       "==============================================================================\n",
       "\"\"\""
      ]
     },
     "execution_count": 33,
     "metadata": {},
     "output_type": "execute_result"
    }
   ],
   "source": [
    "pr2.summary()"
   ]
  },
  {
   "cell_type": "code",
   "execution_count": 34,
   "id": "ace19bca-03f5-428d-8145-ea67a11a0d11",
   "metadata": {},
   "outputs": [
    {
     "name": "stdout",
     "output_type": "stream",
     "text": [
      "Saved figure to figures/lm/generalized/poisson_regression_hdisks_failures_vs_age.pdf\n",
      "Saved figure to figures/lm/generalized/poisson_regression_hdisks_failures_vs_age.png\n"
     ]
    },
    {
     "data": {
      "image/png": "[encoded data removed]",
      "text/plain": [
       "<Figure size 500x300 with 1 Axes>"
      ]
     },
     "metadata": {
      "image/png": {
       "height": 291,
       "width": 492
      }
     },
     "output_type": "display_data"
    }
   ],
   "source": [
    "from ministats import plot_reg\n",
    "plot_reg(pr2)\n",
    "\n",
    "# FIGURES ONLY\n",
    "filename = os.path.join(DESTDIR, \"poisson_regression_hdisks_failures_vs_age.pdf\")\n",
    "savefigure(plt.gcf(), filename)"
   ]
  },
  {
   "cell_type": "code",
   "execution_count": 35,
   "id": "33ee0b0d-3383-4993-822f-c80d1668d96a",
   "metadata": {
    "scrolled": true
   },
   "outputs": [
    {
     "data": {
      "text/html": [
       "<table class=\"simpletable\">\n",
       "<caption>Poisson Regression Results</caption>\n",
       "<tr>\n",
       "  <th>Dep. Variable:</th>       <td>failures</td>     <th>  No. Observations:  </th>   <td>   100</td>  \n",
       "</tr>\n",
       "<tr>\n",
       "  <th>Model:</th>                <td>Poisson</td>     <th>  Df Residuals:      </th>   <td>    98</td>  \n",
       "</tr>\n",
       "<tr>\n",
       "  <th>Method:</th>                 <td>MLE</td>       <th>  Df Model:          </th>   <td>     1</td>  \n",
       "</tr>\n",
       "<tr>\n",
       "  <th>Date:</th>            <td>Mon, 15 Sep 2025</td> <th>  Pseudo R-squ.:     </th>   <td>0.6412</td>  \n",
       "</tr>\n",
       "<tr>\n",
       "  <th>Time:</th>                <td>11:04:02</td>     <th>  Log-Likelihood:    </th>  <td> -269.31</td> \n",
       "</tr>\n",
       "<tr>\n",
       "  <th>converged:</th>             <td>True</td>       <th>  LL-Null:           </th>  <td> -750.68</td> \n",
       "</tr>\n",
       "<tr>\n",
       "  <th>Covariance Type:</th>     <td>nonrobust</td>    <th>  LLR p-value:       </th> <td>2.271e-211</td>\n",
       "</tr>\n",
       "</table>\n",
       "<table class=\"simpletable\">\n",
       "<tr>\n",
       "      <td></td>         <th>coef</th>     <th>std err</th>      <th>z</th>      <th>P>|z|</th>  <th>[0.025</th>    <th>0.975]</th>  \n",
       "</tr>\n",
       "<tr>\n",
       "  <th>Intercept</th> <td>    1.0760</td> <td>    0.076</td> <td>   14.114</td> <td> 0.000</td> <td>    0.927</td> <td>    1.225</td>\n",
       "</tr>\n",
       "<tr>\n",
       "  <th>age</th>       <td>    0.1938</td> <td>    0.007</td> <td>   28.603</td> <td> 0.000</td> <td>    0.181</td> <td>    0.207</td>\n",
       "</tr>\n",
       "</table>"
      ],
      "text/latex": [
       "\\begin{center}\n",
       "\\begin{tabular}{lclc}\n",
       "\\toprule\n",
       "\\textbf{Dep. Variable:}   &     failures     & \\textbf{  No. Observations:  } &      100    \\\\\n",
       "\\textbf{Model:}           &     Poisson      & \\textbf{  Df Residuals:      } &       98    \\\\\n",
       "\\textbf{Method:}          &       MLE        & \\textbf{  Df Model:          } &        1    \\\\\n",
       "\\textbf{Date:}            & Mon, 15 Sep 2025 & \\textbf{  Pseudo R-squ.:     } &   0.6412    \\\\\n",
       "\\textbf{Time:}            &     11:04:02     & \\textbf{  Log-Likelihood:    } &   -269.31   \\\\\n",
       "\\textbf{converged:}       &       True       & \\textbf{  LL-Null:           } &   -750.68   \\\\\n",
       "\\textbf{Covariance Type:} &    nonrobust     & \\textbf{  LLR p-value:       } & 2.271e-211  \\\\\n",
       "\\bottomrule\n",
       "\\end{tabular}\n",
       "\\begin{tabular}{lcccccc}\n",
       "                   & \\textbf{coef} & \\textbf{std err} & \\textbf{z} & \\textbf{P$> |$z$|$} & \\textbf{[0.025} & \\textbf{0.975]}  \\\\\n",
       "\\midrule\n",
       "\\textbf{Intercept} &       1.0760  &        0.076     &    14.114  &         0.000        &        0.927    &        1.225     \\\\\n",
       "\\textbf{age}       &       0.1938  &        0.007     &    28.603  &         0.000        &        0.181    &        0.207     \\\\\n",
       "\\bottomrule\n",
       "\\end{tabular}\n",
       "%\\caption{Poisson Regression Results}\n",
       "\\end{center}"
      ],
      "text/plain": [
       "<class 'statsmodels.iolib.summary.Summary'>\n",
       "\"\"\"\n",
       "                          Poisson Regression Results                          \n",
       "==============================================================================\n",
       "Dep. Variable:               failures   No. Observations:                  100\n",
       "Model:                        Poisson   Df Residuals:                       98\n",
       "Method:                           MLE   Df Model:                            1\n",
       "Date:                Mon, 15 Sep 2025   Pseudo R-squ.:                  0.6412\n",
       "Time:                        11:04:02   Log-Likelihood:                -269.31\n",
       "converged:                       True   LL-Null:                       -750.68\n",
       "Covariance Type:            nonrobust   LLR p-value:                2.271e-211\n",
       "==============================================================================\n",
       "                 coef    std err          z      P>|z|      [0.025      0.975]\n",
       "------------------------------------------------------------------------------\n",
       "Intercept      1.0760      0.076     14.114      0.000       0.927       1.225\n",
       "age            0.1938      0.007     28.603      0.000       0.181       0.207\n",
       "==============================================================================\n",
       "\"\"\""
      ]
     },
     "execution_count": 35,
     "metadata": {},
     "output_type": "execute_result"
    }
   ],
   "source": [
    "pr2.summary()"
   ]
  },
  {
   "cell_type": "markdown",
   "id": "22271e8f-a6b0-46e7-bec9-077abcb6fcb3",
   "metadata": {},
   "source": [
    "#### Interpreting the model parameters"
   ]
  },
  {
   "cell_type": "markdown",
   "id": "64e46883-ffe2-422f-bd47-859f5bd5c454",
   "metadata": {},
   "source": [
    "#### Log-counts"
   ]
  },
  {
   "cell_type": "code",
   "execution_count": 36,
   "id": "b51a4869-abad-43b6-a794-701569f77f6e",
   "metadata": {},
   "outputs": [
    {
     "data": {
      "text/plain": [
       "0.1938278482145407"
      ]
     },
     "execution_count": 36,
     "metadata": {},
     "output_type": "execute_result"
    }
   ],
   "source": [
    "pr2.params[\"age\"]"
   ]
  },
  {
   "cell_type": "markdown",
   "id": "59bc3615-f493-404f-83d5-8333cddc5aaf",
   "metadata": {},
   "source": [
    "#### Incidence rate ratio (IRR)"
   ]
  },
  {
   "cell_type": "code",
   "execution_count": 37,
   "id": "92c542aa-2cb3-426b-97d1-8c7b28fd81c8",
   "metadata": {},
   "outputs": [
    {
     "data": {
      "text/plain": [
       "1.213887292102993"
      ]
     },
     "execution_count": 37,
     "metadata": {},
     "output_type": "execute_result"
    }
   ],
   "source": [
    "np.exp(pr2.params[\"age\"])"
   ]
  },
  {
   "cell_type": "markdown",
   "id": "87f8287d-220b-40d5-9c86-b0be2d17ab44",
   "metadata": {},
   "source": [
    "#### Marginal effect\n",
    "\n",
    "What is the marginal effect of the predictor `age`\n",
    "for a 10 year old hard disk installation?"
   ]
  },
  {
   "cell_type": "code",
   "execution_count": 38,
   "id": "ea5c4228-309d-44a6-8728-f126b0f2b294",
   "metadata": {},
   "outputs": [
    {
     "data": {
      "text/html": [
       "<div>\n",
       "<style scoped>\n",
       "    .dataframe tbody tr th:only-of-type {\n",
       "        vertical-align: middle;\n",
       "    }\n",
       "\n",
       "    .dataframe tbody tr th {\n",
       "        vertical-align: top;\n",
       "    }\n",
       "\n",
       "    .dataframe thead th {\n",
       "        text-align: right;\n",
       "    }\n",
       "</style>\n",
       "<table border=\"1\" class=\"dataframe\">\n",
       "  <thead>\n",
       "    <tr style=\"text-align: right;\">\n",
       "      <th></th>\n",
       "      <th>dy/dx</th>\n",
       "      <th>Std. Err.</th>\n",
       "      <th>z</th>\n",
       "      <th>Pr(&gt;|z|)</th>\n",
       "      <th>Conf. Int. Low</th>\n",
       "      <th>Cont. Int. Hi.</th>\n",
       "    </tr>\n",
       "  </thead>\n",
       "  <tbody>\n",
       "    <tr>\n",
       "      <th>age</th>\n",
       "      <td>3.94912</td>\n",
       "      <td>0.151882</td>\n",
       "      <td>26.001165</td>\n",
       "      <td>4.804151e-149</td>\n",
       "      <td>3.651435</td>\n",
       "      <td>4.246804</td>\n",
       "    </tr>\n",
       "  </tbody>\n",
       "</table>\n",
       "</div>"
      ],
      "text/plain": [
       "       dy/dx  Std. Err.          z       Pr(>|z|)  Conf. Int. Low  \\\n",
       "age  3.94912   0.151882  26.001165  4.804151e-149        3.651435   \n",
       "\n",
       "     Cont. Int. Hi.  \n",
       "age        4.246804  "
      ]
     },
     "execution_count": 38,
     "metadata": {},
     "output_type": "execute_result"
    }
   ],
   "source": [
    "# using `statsmodels` .get_margeff() method\n",
    "pr2.get_margeff(atexog={1:10}).summary_frame()"
   ]
  },
  {
   "cell_type": "code",
   "execution_count": 39,
   "id": "9ced9233-5fbe-4f70-8f7d-b442114fdf52",
   "metadata": {},
   "outputs": [],
   "source": [
    "# # ALT. manual calculation of the slope by evaluating the derivative\n",
    "# b_0 = pr2.params['Intercept']\n",
    "# b_age = pr2.params['age']\n",
    "# np.exp(b_0 + b_age*10)*b_age"
   ]
  },
  {
   "cell_type": "code",
   "execution_count": 40,
   "id": "679bf7c9-8287-4417-97de-1296122d82db",
   "metadata": {},
   "outputs": [
    {
     "data": {
      "image/png": "[encoded data removed]",
      "text/plain": [
       "<Figure size 500x300 with 1 Axes>"
      ]
     },
     "metadata": {
      "image/png": {
       "height": 293,
       "width": 450
      }
     },
     "output_type": "display_data"
    }
   ],
   "source": [
    "ax = plot_reg(pr2)\n",
    "\n",
    "# Show the tangent line at age=10 (the marginal effect)\n",
    "ptx, pty = (10, pr2.predict({\"age\":10})[0])\n",
    "slope = pr2.get_margeff(atexog={1:10}).margeff[0]\n",
    "dx = 2\n",
    "endpoint1 = [ptx - dx, pty - dx*slope]\n",
    "endpoint2 = [ptx + dx, pty + dx*slope]\n",
    "lines = [[endpoint1, endpoint2]]\n",
    "from matplotlib import collections as mc\n",
    "lc = mc.LineCollection(lines, color=\"r\", lw=2)\n",
    "ax.plot([ptx], [pty], marker=\"o\", color=\"r\", alpha=1)\n",
    "ax.add_collection(lc);"
   ]
  },
  {
   "cell_type": "markdown",
   "id": "e1a9663e-98bf-406b-b25c-4294a28bc678",
   "metadata": {},
   "source": [
    "#### Predictions"
   ]
  },
  {
   "cell_type": "code",
   "execution_count": 41,
   "id": "0f771c1d-547d-45f8-a29b-2a446f0655bc",
   "metadata": {},
   "outputs": [
    {
     "data": {
      "text/plain": [
       "20.374365915173986"
      ]
     },
     "execution_count": 41,
     "metadata": {},
     "output_type": "execute_result"
    }
   ],
   "source": [
    "lam10 = pr2.predict({\"age\":10})[0]\n",
    "lam10"
   ]
  },
  {
   "cell_type": "code",
   "execution_count": 42,
   "id": "ab18eff8-bdd6-4616-9303-df2b1d0306d3",
   "metadata": {},
   "outputs": [
    {
     "data": {
      "text/plain": [
       "(13.0, 28.0)"
      ]
     },
     "execution_count": 42,
     "metadata": {},
     "output_type": "execute_result"
    }
   ],
   "source": [
    "from scipy.stats import poisson\n",
    "Hhat = poisson(mu=lam10)\n",
    "Hhat.ppf(0.05), Hhat.ppf(0.95)"
   ]
  },
  {
   "cell_type": "markdown",
   "id": "0d5ca4d9-3bb7-4b42-9199-483de3d2c04d",
   "metadata": {},
   "source": [
    "## Explanations"
   ]
  },
  {
   "cell_type": "markdown",
   "id": "ad490bcf-5967-496d-a9f5-ff2650d68f3b",
   "metadata": {},
   "source": [
    "### The exponential family of distributions\n",
    "\n",
    "- exponential\n",
    "- Gaussian (normal)\n",
    "- Poisson\n",
    "- Binomial\n",
    "- "
   ]
  },
  {
   "cell_type": "markdown",
   "id": "d56088fb-7f4e-4b98-8f71-5792ea944ec8",
   "metadata": {},
   "source": [
    "### The generalized linear model template\n",
    "\n",
    "- choose \n"
   ]
  },
  {
   "cell_type": "markdown",
   "id": "245c9046-cada-4a0f-a098-a09a81a2999b",
   "metadata": {},
   "source": [
    "### Generalized linear models using statsmodels"
   ]
  },
  {
   "cell_type": "code",
   "execution_count": 43,
   "id": "2c4e74c7-bb65-4d59-b728-536d80728dc1",
   "metadata": {},
   "outputs": [],
   "source": [
    "import statsmodels.api as sm\n",
    "\n",
    "Norm = sm.families.Gaussian()\n",
    "Bin = sm.families.Binomial()\n",
    "Pois = sm.families.Poisson()"
   ]
  },
  {
   "cell_type": "markdown",
   "id": "a27f3347-838a-406f-bf81-ec6133409676",
   "metadata": {},
   "source": [
    "#### Linear model"
   ]
  },
  {
   "cell_type": "code",
   "execution_count": 44,
   "id": "356fd902-4b65-4a7e-8245-2a0ae0cfb51f",
   "metadata": {},
   "outputs": [
    {
     "data": {
      "text/plain": [
       "Intercept    32.465809\n",
       "effort        4.504850\n",
       "dtype: float64"
      ]
     },
     "execution_count": 44,
     "metadata": {},
     "output_type": "execute_result"
    }
   ],
   "source": [
    "students = pd.read_csv('../datasets/students.csv')\n",
    "formula0 = \"score ~ 1 + effort\"\n",
    "glm0 = smf.glm(formula0, data=students, family=Norm).fit()\n",
    "glm0.params"
   ]
  },
  {
   "cell_type": "markdown",
   "id": "98fb8ae3-37a6-4c9e-8cca-14ec82378cf0",
   "metadata": {},
   "source": [
    "#### Logistic regression"
   ]
  },
  {
   "cell_type": "code",
   "execution_count": 45,
   "id": "d8dac209-fd52-48aa-8550-bc68e985677b",
   "metadata": {},
   "outputs": [
    {
     "data": {
      "text/plain": [
       "Intercept   -78.693205\n",
       "work          1.981458\n",
       "dtype: float64"
      ]
     },
     "execution_count": 45,
     "metadata": {},
     "output_type": "execute_result"
    }
   ],
   "source": [
    "formula1 = \"hired ~ 1 + work\"\n",
    "glm1 = smf.glm(formula1, data=interns, family=Bin).fit()\n",
    "glm1.params\n",
    "# glm1.summary()"
   ]
  },
  {
   "cell_type": "markdown",
   "id": "37dec8da-e153-4dfa-8501-c528bafe1de1",
   "metadata": {},
   "source": [
    "#### Poisson regression"
   ]
  },
  {
   "cell_type": "code",
   "execution_count": 46,
   "id": "a6559a59-5b4f-49fd-934b-7761c0b45468",
   "metadata": {},
   "outputs": [
    {
     "data": {
      "text/plain": [
       "Intercept    1.075999\n",
       "age          0.193828\n",
       "dtype: float64"
      ]
     },
     "execution_count": 46,
     "metadata": {},
     "output_type": "execute_result"
    }
   ],
   "source": [
    "formula2 = \"failures ~ 1 + age\"\n",
    "glm2 = smf.glm(formula2, data=hdisks, family=Pois).fit()\n",
    "glm2.params\n",
    "# glm2.summary()"
   ]
  },
  {
   "cell_type": "markdown",
   "id": "f14f9036-d546-4637-a9ef-1eb61a539d4d",
   "metadata": {},
   "source": [
    "### Fitting generalized linear models"
   ]
  },
  {
   "cell_type": "markdown",
   "id": "63cbba3f-c164-464e-b13e-a64e0a513eae",
   "metadata": {},
   "source": [
    "## Discussion"
   ]
  },
  {
   "cell_type": "markdown",
   "id": "b7658761-42af-46a8-93cc-857533bd3ed3",
   "metadata": {},
   "source": [
    "### Model diagnostics and validation"
   ]
  },
  {
   "cell_type": "code",
   "execution_count": 47,
   "id": "07ca5a17-d30b-401c-bf67-818e02240a19",
   "metadata": {},
   "outputs": [],
   "source": [
    "# Dispersion from GLM attributes\n",
    "# glm2.pearson_chi2 / glm2.df_resid"
   ]
  },
  {
   "cell_type": "code",
   "execution_count": 48,
   "id": "b0bf498a-ffe9-4470-9069-03bd8d7b27a5",
   "metadata": {},
   "outputs": [
    {
     "name": "stdout",
     "output_type": "stream",
     "text": [
      "Dispersion: 0.9869289289681199\n"
     ]
    }
   ],
   "source": [
    "# Calculate Pearson chi-squared statistic\n",
    "observed = hdisks['failures']\n",
    "predicted = pr2.predict()\n",
    "pearson_residuals = (observed - predicted) / np.sqrt(predicted)\n",
    "pearson_chi2 = np.sum(pearson_residuals**2)\n",
    "df_resid = pr2.df_resid\n",
    "dispersion = pearson_chi2 / df_resid\n",
    "print(f'Dispersion: {dispersion}')\n",
    "# If dispersion > 1, consider Negative Binomial regression"
   ]
  },
  {
   "cell_type": "markdown",
   "id": "59db0e6f-3832-42e2-93b2-2fa72c86f1f7",
   "metadata": {},
   "source": [
    "### Logistic regression as a building blocks for neural networks\n",
    "\n",
    "\n",
    "The operation of the [perceptron](https://en.wikipedia.org/wiki/Perceptron),\n",
    "which is the basic building block of neural networks,\n",
    "is essentially the same as linear regression model:\n",
    "\n",
    "- constant intercept (bias term)\n",
    "- linear combination of inputs\n",
    "- nonlinear function used to force the output to be between 0 and 1\n",
    "\n"
   ]
  },
  {
   "cell_type": "markdown",
   "id": "db5d001c-aa5f-442b-bb95-21cb8d5a88b0",
   "metadata": {},
   "source": [
    "### Limitations of GLMs\n",
    "\n",
    "- GLMs assume observations are independent\n",
    "- Assumes distribution $\\mathcal{M}$ is one of the exponential family\n",
    "- Outliers can be problematic\n",
    "- Interpretability\n"
   ]
  },
  {
   "cell_type": "markdown",
   "id": "3b84dc78-7934-475e-8dfd-cf23e9ee843f",
   "metadata": {},
   "source": [
    "## Exercises"
   ]
  },
  {
   "cell_type": "markdown",
   "id": "19e1f824-f917-4e24-9f70-e1f81be2da47",
   "metadata": {},
   "source": [
    "### Exercise 1: probabilities to odds and log-odds"
   ]
  },
  {
   "cell_type": "code",
   "execution_count": 49,
   "id": "3cbc5fb2-e0eb-4cc1-9bd3-9188f623e835",
   "metadata": {},
   "outputs": [
    {
     "data": {
      "text/plain": [
       "(0.4285714285714286, 98.99999999999991, 2.333333333333333)"
      ]
     },
     "execution_count": 49,
     "metadata": {},
     "output_type": "execute_result"
    }
   ],
   "source": [
    "0.3/(1-0.3), 0.99/(1-0.99), 0.7/(1-0.7)"
   ]
  },
  {
   "cell_type": "code",
   "execution_count": 50,
   "id": "696bb24c-3bf1-4551-83da-3df058f3b959",
   "metadata": {},
   "outputs": [
    {
     "data": {
      "text/plain": [
       "(-0.8472978603872037, 4.595119850134589, 0.8472978603872034)"
      ]
     },
     "execution_count": 50,
     "metadata": {},
     "output_type": "execute_result"
    }
   ],
   "source": [
    "logit(0.3), logit(0.99), logit(0.7)"
   ]
  },
  {
   "cell_type": "markdown",
   "id": "178717ef-5d7e-4afc-ab5a-25a306cad5a5",
   "metadata": {},
   "source": [
    "### Exercise 2: log-odds to probabilities"
   ]
  },
  {
   "cell_type": "code",
   "execution_count": 51,
   "id": "94267802-427f-4791-bb82-1e42a274e566",
   "metadata": {},
   "outputs": [
    {
     "data": {
      "text/plain": [
       "(0.2689414213699951, 0.7310585786300049, 0.8807970779778823)"
      ]
     },
     "execution_count": 51,
     "metadata": {},
     "output_type": "execute_result"
    }
   ],
   "source": [
    "expit(-1), expit(1), expit(2)"
   ]
  },
  {
   "cell_type": "markdown",
   "id": "fb23931d-ab9b-4e57-9876-0ca3c17b8e48",
   "metadata": {},
   "source": [
    "### Exercise 3: students pass or fail"
   ]
  },
  {
   "cell_type": "markdown",
   "id": "9062ea75-0943-44c6-9ae2-074846de91ab",
   "metadata": {},
   "source": [
    "a) Load the dataset `students.csv` and add a column `passing`\n",
    "that contains 1 or 0, based on the above threshold score of `70`."
   ]
  },
  {
   "cell_type": "code",
   "execution_count": 52,
   "id": "50c95902-f1d9-4386-a79a-8c00b375ea57",
   "metadata": {},
   "outputs": [],
   "source": [
    "students = pd.read_csv('../datasets/students.csv')\n",
    "students[\"passing\"] = (students[\"score\"] > 70).astype(int)\n",
    "# students.head()"
   ]
  },
  {
   "cell_type": "markdown",
   "id": "df095c81-d684-4e4f-ad1a-25735873108f",
   "metadata": {},
   "source": [
    "b) Fit a logistic regression model for `passing` based on `effort` variable."
   ]
  },
  {
   "cell_type": "code",
   "execution_count": 53,
   "id": "dcf60790-d2a2-45ab-a060-9d4283a7a91d",
   "metadata": {},
   "outputs": [
    {
     "name": "stdout",
     "output_type": "stream",
     "text": [
      "Optimization terminated successfully.\n",
      "         Current function value: 0.276583\n",
      "         Iterations 8\n",
      "Intercept   -16.257302\n",
      "effort        2.047882\n",
      "dtype: float64\n",
      "Saved figure to figures/lm/generalized/logistic_regression_students_passing_vs_effort.pdf\n",
      "Saved figure to figures/lm/generalized/logistic_regression_students_passing_vs_effort.png\n"
     ]
    },
    {
     "data": {
      "image/png": "[encoded data removed]",
      "text/plain": [
       "<Figure size 500x300 with 1 Axes>"
      ]
     },
     "metadata": {
      "image/png": {
       "height": 291,
       "width": 492
      }
     },
     "output_type": "display_data"
    }
   ],
   "source": [
    "lmpass = smf.logit(\"passing ~ 1 + effort\", data=students).fit()\n",
    "print(lmpass.params)\n",
    "\n",
    "efforts = np.linspace(0, 13, 100)\n",
    "passing_preds = lmpass.predict({\"effort\": efforts})\n",
    "ax = sns.scatterplot(data=students, x=\"effort\", y=\"passing\", alpha=0.3)\n",
    "sns.lineplot(x=efforts, y=passing_preds, ax=ax);\n",
    "\n",
    "filename = os.path.join(DESTDIR, \"logistic_regression_students_passing_vs_effort.pdf\")\n",
    "savefigure(plt.gcf(), filename)"
   ]
  },
  {
   "cell_type": "markdown",
   "id": "dcd5f5da-7c5d-4356-92f0-66c02a9ee91b",
   "metadata": {},
   "source": [
    "c) Use your model to predict the probability of a new student with effort 10 will pass."
   ]
  },
  {
   "cell_type": "code",
   "execution_count": 54,
   "id": "4a662e23-b0ac-4f92-a21f-5c538412b779",
   "metadata": {},
   "outputs": [
    {
     "data": {
      "text/plain": [
       "0    0.985536\n",
       "dtype: float64"
      ]
     },
     "execution_count": 54,
     "metadata": {},
     "output_type": "execute_result"
    }
   ],
   "source": [
    "lmpass.predict({\"effort\":10})"
   ]
  },
  {
   "cell_type": "code",
   "execution_count": 55,
   "id": "1409da29-bdd1-49e9-8fd1-74e2ee4156e8",
   "metadata": {},
   "outputs": [
    {
     "data": {
      "text/plain": [
       "0.9855358765361845"
      ]
     },
     "execution_count": 55,
     "metadata": {},
     "output_type": "execute_result"
    }
   ],
   "source": [
    "# ALT. compute prediction manually\n",
    "intercept, b_effort = lmpass.params\n",
    "expit(intercept + b_effort*10)"
   ]
  },
  {
   "cell_type": "markdown",
   "id": "d8eebdfa-2b50-403c-96c4-60840e8ea47e",
   "metadata": {},
   "source": [
    "### Exercise 4: titanic survival data\n",
    "\n",
    "Fit a logistic regression model that calculates the probability of survival for people who were on the Titanic,\n",
    "based on the data in `datasets/exercises/titanic.csv`. Use the variables `age`, `sex`, and `pclass` as predictors.\n",
    "\n",
    "cf. [Titanic_Logistic_Regression.ipynb](./explorations/Titanic_Logistic_Regression.ipynb)"
   ]
  },
  {
   "cell_type": "code",
   "execution_count": 56,
   "id": "a4323038-9433-446d-a7de-adf0abcf9d93",
   "metadata": {},
   "outputs": [
    {
     "name": "stdout",
     "output_type": "stream",
     "text": [
      "Optimization terminated successfully.\n",
      "         Current function value: 0.453279\n",
      "         Iterations 6\n"
     ]
    },
    {
     "data": {
      "text/plain": [
       "Intercept         3.777013\n",
       "C(sex)[T.M]      -2.522781\n",
       "C(pclass)[T.2]   -1.309799\n",
       "C(pclass)[T.3]   -2.580625\n",
       "age              -0.036985\n",
       "dtype: float64"
      ]
     },
     "execution_count": 56,
     "metadata": {},
     "output_type": "execute_result"
    }
   ],
   "source": [
    "titanic = pd.read_csv('../datasets/exercises/titanic.csv')\n",
    "formula = \"survived ~ age + C(sex) + C(pclass)\"\n",
    "lrtitanic = smf.logit(formula, data=titanic).fit()\n",
    "lrtitanic.params"
   ]
  },
  {
   "cell_type": "markdown",
   "id": "87781a4b-d393-4ab7-92f4-4e391ec99ec5",
   "metadata": {},
   "source": [
    "Use your logistic regression model to estimate the probability of survival for\n",
    "a 30 year old female traveling in second class."
   ]
  },
  {
   "cell_type": "code",
   "execution_count": 57,
   "id": "54e1d47d-6410-4839-85aa-4f3f30b8f5ed",
   "metadata": {},
   "outputs": [
    {
     "data": {
      "text/plain": [
       "0    0.795378\n",
       "dtype: float64"
      ]
     },
     "execution_count": 57,
     "metadata": {},
     "output_type": "execute_result"
    }
   ],
   "source": [
    "pass30Fpclass2 = {\"age\":30, \"sex\":\"F\", \"pclass\":2}\n",
    "lrtitanic.predict(pass30Fpclass2)"
   ]
  },
  {
   "cell_type": "code",
   "execution_count": 58,
   "id": "36aba704-3b4b-4386-b305-52589a0fb64e",
   "metadata": {},
   "outputs": [],
   "source": [
    "# # Cross check with sklearn\n",
    "# from sklearn.linear_model import LogisticRegression\n",
    "# df = pd.get_dummies(titanic, columns=['sex', 'pclass'], drop_first=True)\n",
    "# X, y = df.drop('survived', axis=1), df['survived']\n",
    "# sktitanic = LogisticRegression(penalty=None)\n",
    "# sktitanic.fit(X, y)\n",
    "# sktitanic.intercept_, sktitanic.coef_"
   ]
  },
  {
   "cell_type": "markdown",
   "id": "8e84a8f5-8616-4bc7-a3aa-dcbab67eef1e",
   "metadata": {},
   "source": [
    "### Exercise 5: asthma attacks\n",
    "\n",
    "Fit a Poisson regression model to the `../datasets/exercises/asthma.csv` dataset.\n",
    "\n",
    "data source https://github.com/drkamarul/multivar_data_analysis/blob/main/data/asthma.csv"
   ]
  },
  {
   "cell_type": "code",
   "execution_count": 59,
   "id": "f631d410-52b1-4c69-801f-f4801c184952",
   "metadata": {},
   "outputs": [
    {
     "data": {
      "text/html": [
       "<div>\n",
       "<style scoped>\n",
       "    .dataframe tbody tr th:only-of-type {\n",
       "        vertical-align: middle;\n",
       "    }\n",
       "\n",
       "    .dataframe tbody tr th {\n",
       "        vertical-align: top;\n",
       "    }\n",
       "\n",
       "    .dataframe thead th {\n",
       "        text-align: right;\n",
       "    }\n",
       "</style>\n",
       "<table border=\"1\" class=\"dataframe\">\n",
       "  <thead>\n",
       "    <tr style=\"text-align: right;\">\n",
       "      <th></th>\n",
       "      <th>gender</th>\n",
       "      <th>res_inf</th>\n",
       "      <th>ghq12</th>\n",
       "      <th>attack</th>\n",
       "    </tr>\n",
       "  </thead>\n",
       "  <tbody>\n",
       "    <tr>\n",
       "      <th>0</th>\n",
       "      <td>female</td>\n",
       "      <td>yes</td>\n",
       "      <td>21</td>\n",
       "      <td>6</td>\n",
       "    </tr>\n",
       "    <tr>\n",
       "      <th>1</th>\n",
       "      <td>male</td>\n",
       "      <td>no</td>\n",
       "      <td>17</td>\n",
       "      <td>4</td>\n",
       "    </tr>\n",
       "    <tr>\n",
       "      <th>2</th>\n",
       "      <td>male</td>\n",
       "      <td>yes</td>\n",
       "      <td>30</td>\n",
       "      <td>8</td>\n",
       "    </tr>\n",
       "    <tr>\n",
       "      <th>3</th>\n",
       "      <td>female</td>\n",
       "      <td>yes</td>\n",
       "      <td>22</td>\n",
       "      <td>5</td>\n",
       "    </tr>\n",
       "    <tr>\n",
       "      <th>4</th>\n",
       "      <td>male</td>\n",
       "      <td>yes</td>\n",
       "      <td>27</td>\n",
       "      <td>2</td>\n",
       "    </tr>\n",
       "    <tr>\n",
       "      <th>...</th>\n",
       "      <td>...</td>\n",
       "      <td>...</td>\n",
       "      <td>...</td>\n",
       "      <td>...</td>\n",
       "    </tr>\n",
       "    <tr>\n",
       "      <th>115</th>\n",
       "      <td>male</td>\n",
       "      <td>yes</td>\n",
       "      <td>0</td>\n",
       "      <td>2</td>\n",
       "    </tr>\n",
       "    <tr>\n",
       "      <th>116</th>\n",
       "      <td>female</td>\n",
       "      <td>yes</td>\n",
       "      <td>31</td>\n",
       "      <td>2</td>\n",
       "    </tr>\n",
       "    <tr>\n",
       "      <th>117</th>\n",
       "      <td>female</td>\n",
       "      <td>yes</td>\n",
       "      <td>18</td>\n",
       "      <td>2</td>\n",
       "    </tr>\n",
       "    <tr>\n",
       "      <th>118</th>\n",
       "      <td>female</td>\n",
       "      <td>yes</td>\n",
       "      <td>21</td>\n",
       "      <td>3</td>\n",
       "    </tr>\n",
       "    <tr>\n",
       "      <th>119</th>\n",
       "      <td>female</td>\n",
       "      <td>yes</td>\n",
       "      <td>11</td>\n",
       "      <td>2</td>\n",
       "    </tr>\n",
       "  </tbody>\n",
       "</table>\n",
       "<p>120 rows × 4 columns</p>\n",
       "</div>"
      ],
      "text/plain": [
       "     gender res_inf  ghq12  attack\n",
       "0    female     yes     21       6\n",
       "1      male      no     17       4\n",
       "2      male     yes     30       8\n",
       "3    female     yes     22       5\n",
       "4      male     yes     27       2\n",
       "..      ...     ...    ...     ...\n",
       "115    male     yes      0       2\n",
       "116  female     yes     31       2\n",
       "117  female     yes     18       2\n",
       "118  female     yes     21       3\n",
       "119  female     yes     11       2\n",
       "\n",
       "[120 rows x 4 columns]"
      ]
     },
     "execution_count": 59,
     "metadata": {},
     "output_type": "execute_result"
    }
   ],
   "source": [
    "asthma = pd.read_csv(\"../datasets/exercises/asthma.csv\")\n",
    "asthma"
   ]
  },
  {
   "cell_type": "code",
   "execution_count": 60,
   "id": "8debbe23-b797-40ff-99cc-159754a60823",
   "metadata": {},
   "outputs": [
    {
     "name": "stdout",
     "output_type": "stream",
     "text": [
      "Optimization terminated successfully.\n",
      "         Current function value: 1.707281\n",
      "         Iterations 6\n"
     ]
    },
    {
     "data": {
      "text/plain": [
       "Intercept           -0.315387\n",
       "C(gender)[T.male]   -0.041905\n",
       "C(res_inf)[T.yes]    0.426431\n",
       "ghq12                0.049508\n",
       "dtype: float64"
      ]
     },
     "execution_count": 60,
     "metadata": {},
     "output_type": "execute_result"
    }
   ],
   "source": [
    "formula_asthma = \"attack ~ 1 + C(gender) + C(res_inf) + ghq12\"\n",
    "prasthma = smf.poisson(formula_asthma, data=asthma).fit()\n",
    "prasthma.params"
   ]
  },
  {
   "cell_type": "markdown",
   "id": "ab291e56-b16d-421d-8674-d05f5af58c7e",
   "metadata": {},
   "source": [
    "cf. https://bookdown.org/drki_musa/dataanalysis/poisson-regression.html#multivariable-analysis-1"
   ]
  },
  {
   "cell_type": "markdown",
   "id": "f83eb7a2-20af-4da8-af87-a4b8e956ba97",
   "metadata": {},
   "source": [
    "### Exercise 6: student admissions dataset\n",
    "\n",
    "The dataset `datasets/exercises/binary.csv` contains information\n",
    "about the acceptance decision for 400 students to a prestigious school.\n",
    "Try to fit a logistic regression model for the variable `admit`\n",
    "using the variables `gre`, `gpa`, and `rank` as predictors."
   ]
  },
  {
   "cell_type": "code",
   "execution_count": 61,
   "id": "b161453d-9aee-40ee-92ec-c34976c8176e",
   "metadata": {},
   "outputs": [
    {
     "data": {
      "text/html": [
       "<div>\n",
       "<style scoped>\n",
       "    .dataframe tbody tr th:only-of-type {\n",
       "        vertical-align: middle;\n",
       "    }\n",
       "\n",
       "    .dataframe tbody tr th {\n",
       "        vertical-align: top;\n",
       "    }\n",
       "\n",
       "    .dataframe thead th {\n",
       "        text-align: right;\n",
       "    }\n",
       "</style>\n",
       "<table border=\"1\" class=\"dataframe\">\n",
       "  <thead>\n",
       "    <tr style=\"text-align: right;\">\n",
       "      <th></th>\n",
       "      <th>admit</th>\n",
       "      <th>gre</th>\n",
       "      <th>gpa</th>\n",
       "      <th>rank</th>\n",
       "    </tr>\n",
       "  </thead>\n",
       "  <tbody>\n",
       "    <tr>\n",
       "      <th>0</th>\n",
       "      <td>0</td>\n",
       "      <td>380</td>\n",
       "      <td>3.61</td>\n",
       "      <td>3</td>\n",
       "    </tr>\n",
       "    <tr>\n",
       "      <th>1</th>\n",
       "      <td>1</td>\n",
       "      <td>660</td>\n",
       "      <td>3.67</td>\n",
       "      <td>3</td>\n",
       "    </tr>\n",
       "    <tr>\n",
       "      <th>2</th>\n",
       "      <td>1</td>\n",
       "      <td>800</td>\n",
       "      <td>4.00</td>\n",
       "      <td>1</td>\n",
       "    </tr>\n",
       "  </tbody>\n",
       "</table>\n",
       "</div>"
      ],
      "text/plain": [
       "   admit  gre   gpa  rank\n",
       "0      0  380  3.61     3\n",
       "1      1  660  3.67     3\n",
       "2      1  800  4.00     1"
      ]
     },
     "execution_count": 61,
     "metadata": {},
     "output_type": "execute_result"
    }
   ],
   "source": [
    "# ORIGINAL https://stats.idre.ucla.edu/stat/data/binary.csv\n",
    "binary = pd.read_csv('../datasets/exercises/binary.csv')\n",
    "binary.head(3)"
   ]
  },
  {
   "cell_type": "code",
   "execution_count": 62,
   "id": "5440109b-7b2c-47ff-90fc-5291f89726f0",
   "metadata": {},
   "outputs": [
    {
     "name": "stdout",
     "output_type": "stream",
     "text": [
      "Optimization terminated successfully.\n",
      "         Current function value: 0.573147\n",
      "         Iterations 6\n"
     ]
    },
    {
     "data": {
      "text/plain": [
       "Intercept      -3.989979\n",
       "C(rank)[T.2]   -0.675443\n",
       "C(rank)[T.3]   -1.340204\n",
       "C(rank)[T.4]   -1.551464\n",
       "gre             0.002264\n",
       "gpa             0.804038\n",
       "dtype: float64"
      ]
     },
     "execution_count": 62,
     "metadata": {},
     "output_type": "execute_result"
    }
   ],
   "source": [
    "lrbinary = smf.logit('admit ~ gre + gpa + C(rank)', data=binary).fit()\n",
    "lrbinary.params"
   ]
  },
  {
   "cell_type": "markdown",
   "id": "1ba2b84f-5382-4935-8364-f216fb7c0ceb",
   "metadata": {},
   "source": [
    "The above model uses the rank=1 as the reference category an the log odds reported are with respect to this catrgory\n",
    "\n",
    "$$\n",
    "   \\log p(accept|rank=1) / \\log p(accept|rank=2) = \\texttt{C(rank)rank[T.2]} = -0.675443\n",
    "$$\n",
    "\n",
    "etc. for others\n",
    "rank[T.3] \t-1.340204\n",
    "rank[T.4] \t-1.551464\n",
    "\n",
    "\n",
    "See [LogisticRegressionChangeOfReferenceCategoricalValue.ipynb](./explorations/LogisticRegressionChangeOfReferenceCategoricalValue.ipynb) for exercise recodign relative to different refrence level.\n"
   ]
  },
  {
   "cell_type": "code",
   "execution_count": 63,
   "id": "3bcf06b8-33d9-431b-a9a5-f2a6fa676107",
   "metadata": {},
   "outputs": [],
   "source": [
    "# # Cross check with sklearn\n",
    "# from sklearn.linear_model import LogisticRegression\n",
    "# df = pd.get_dummies(binary, columns=['rank'], drop_first=True)\n",
    "# X, y = df.drop(\"admit\", axis=1), df[\"admit\"]\n",
    "# lr = LogisticRegression(solver=\"lbfgs\", penalty=None, max_iter=1000)\n",
    "# lr.fit(X, y)\n",
    "# lr.intercept_,  lr.coef_"
   ]
  },
  {
   "cell_type": "markdown",
   "id": "a876994d-fea4-48bd-8964-d1f81fd299aa",
   "metadata": {},
   "source": [
    "### Exercise 7: ship accidents\n",
    "\n",
    "https://rdrr.io/cran/AER/man/ShipAccidents.html\n",
    "\n",
    "https://pages.stern.nyu.edu/~wgreene/Text/tables/tablelist5.htm\n",
    "\n",
    "https://pages.stern.nyu.edu/~wgreene/Text/tables/TableF21-3.txt"
   ]
  },
  {
   "cell_type": "code",
   "execution_count": 64,
   "id": "624ba5c8-797d-470b-abd5-732e110cb4e2",
   "metadata": {},
   "outputs": [],
   "source": [
    "# TODO"
   ]
  },
  {
   "cell_type": "markdown",
   "id": "5428a3b4-0275-43b9-84fb-d40417e9cb5b",
   "metadata": {},
   "source": [
    "## Links\n",
    "\n",
    "TODO"
   ]
  },
  {
   "cell_type": "markdown",
   "id": "e4e95e54-70a7-4f83-a483-36abcacec1dd",
   "metadata": {},
   "source": [
    "# CUT MATERIAL"
   ]
  },
  {
   "cell_type": "markdown",
   "id": "32d38e7e-40fb-46b5-8462-d298490bce07",
   "metadata": {},
   "source": [
    "## Bonus Exercises"
   ]
  },
  {
   "cell_type": "markdown",
   "id": "7003c9e4-e753-4a53-a995-4ce4e5c97ac6",
   "metadata": {},
   "source": [
    "### Bonus exercise A: honors class\n",
    "\n",
    "https://stats.oarc.ucla.edu/other/mult-pkg/faq/general/faq-how-do-i-interpret-odds-ratios-in-logistic-regression/"
   ]
  },
  {
   "cell_type": "code",
   "execution_count": 65,
   "id": "82709498-0dc2-4885-9aa0-011757e0947e",
   "metadata": {},
   "outputs": [
    {
     "data": {
      "text/html": [
       "<div>\n",
       "<style scoped>\n",
       "    .dataframe tbody tr th:only-of-type {\n",
       "        vertical-align: middle;\n",
       "    }\n",
       "\n",
       "    .dataframe tbody tr th {\n",
       "        vertical-align: top;\n",
       "    }\n",
       "\n",
       "    .dataframe thead th {\n",
       "        text-align: right;\n",
       "    }\n",
       "</style>\n",
       "<table border=\"1\" class=\"dataframe\">\n",
       "  <thead>\n",
       "    <tr style=\"text-align: right;\">\n",
       "      <th></th>\n",
       "      <th>female</th>\n",
       "      <th>read</th>\n",
       "      <th>write</th>\n",
       "      <th>math</th>\n",
       "      <th>hon</th>\n",
       "      <th>femalexmath</th>\n",
       "    </tr>\n",
       "  </thead>\n",
       "  <tbody>\n",
       "    <tr>\n",
       "      <th>83</th>\n",
       "      <td>0</td>\n",
       "      <td>63</td>\n",
       "      <td>65</td>\n",
       "      <td>48</td>\n",
       "      <td>1</td>\n",
       "      <td>0</td>\n",
       "    </tr>\n",
       "    <tr>\n",
       "      <th>118</th>\n",
       "      <td>1</td>\n",
       "      <td>52</td>\n",
       "      <td>57</td>\n",
       "      <td>64</td>\n",
       "      <td>0</td>\n",
       "      <td>64</td>\n",
       "    </tr>\n",
       "    <tr>\n",
       "      <th>141</th>\n",
       "      <td>1</td>\n",
       "      <td>42</td>\n",
       "      <td>54</td>\n",
       "      <td>50</td>\n",
       "      <td>0</td>\n",
       "      <td>50</td>\n",
       "    </tr>\n",
       "    <tr>\n",
       "      <th>193</th>\n",
       "      <td>1</td>\n",
       "      <td>41</td>\n",
       "      <td>59</td>\n",
       "      <td>42</td>\n",
       "      <td>0</td>\n",
       "      <td>42</td>\n",
       "    </tr>\n",
       "  </tbody>\n",
       "</table>\n",
       "</div>"
      ],
      "text/plain": [
       "     female  read  write  math  hon  femalexmath\n",
       "83        0    63     65    48    1            0\n",
       "118       1    52     57    64    0           64\n",
       "141       1    42     54    50    0           50\n",
       "193       1    41     59    42    0           42"
      ]
     },
     "execution_count": 65,
     "metadata": {},
     "output_type": "execute_result"
    }
   ],
   "source": [
    "honors = pd.read_csv(\"../datasets/exercises/honors.csv\")\n",
    "honors.sample(4)"
   ]
  },
  {
   "cell_type": "markdown",
   "id": "6b73091d-af4a-4a0e-b760-18dbb3fe10c8",
   "metadata": {},
   "source": [
    "#### Constant model"
   ]
  },
  {
   "cell_type": "code",
   "execution_count": 66,
   "id": "82a80d81-f20b-42ea-be51-135693f6ee8d",
   "metadata": {},
   "outputs": [
    {
     "name": "stdout",
     "output_type": "stream",
     "text": [
      "Optimization terminated successfully.\n",
      "         Current function value: 0.556775\n",
      "         Iterations 5\n"
     ]
    },
    {
     "data": {
      "text/plain": [
       "Intercept   -1.12546\n",
       "dtype: float64"
      ]
     },
     "execution_count": 66,
     "metadata": {},
     "output_type": "execute_result"
    }
   ],
   "source": [
    "lrhon1 = smf.logit(\"hon ~ 1\", data=honors).fit()\n",
    "lrhon1.params"
   ]
  },
  {
   "cell_type": "code",
   "execution_count": 67,
   "id": "46b79f0c-e771-4c8f-a791-b7e01a479c6f",
   "metadata": {},
   "outputs": [
    {
     "data": {
      "text/plain": [
       "0.24500000000000005"
      ]
     },
     "execution_count": 67,
     "metadata": {},
     "output_type": "execute_result"
    }
   ],
   "source": [
    "expit(lrhon1.params[\"Intercept\"])"
   ]
  },
  {
   "cell_type": "code",
   "execution_count": 68,
   "id": "acaf7de1-6a86-4071-9ffa-2be939b350c2",
   "metadata": {},
   "outputs": [
    {
     "data": {
      "text/plain": [
       "hon\n",
       "0    0.755\n",
       "1    0.245\n",
       "Name: proportion, dtype: float64"
      ]
     },
     "execution_count": 68,
     "metadata": {},
     "output_type": "execute_result"
    }
   ],
   "source": [
    "honors[\"hon\"].value_counts(normalize=True)"
   ]
  },
  {
   "cell_type": "markdown",
   "id": "7cccf99a-61a5-4c8d-9e9f-0321d9bf0a6d",
   "metadata": {},
   "source": [
    "#### Using only a categorical variable"
   ]
  },
  {
   "cell_type": "code",
   "execution_count": 69,
   "id": "510b941e-5f61-4e26-8a24-e042645d23e7",
   "metadata": {},
   "outputs": [
    {
     "name": "stdout",
     "output_type": "stream",
     "text": [
      "Optimization terminated successfully.\n",
      "         Current function value: 0.549016\n",
      "         Iterations 5\n"
     ]
    },
    {
     "data": {
      "text/plain": [
       "Intercept   -1.470852\n",
       "female       0.592782\n",
       "dtype: float64"
      ]
     },
     "execution_count": 69,
     "metadata": {},
     "output_type": "execute_result"
    }
   ],
   "source": [
    "lrhon2 = smf.logit(\"hon ~ 1 + female\", data=honors).fit()\n",
    "lrhon2.params"
   ]
  },
  {
   "cell_type": "code",
   "execution_count": 70,
   "id": "9fdbe40a-6b26-42e3-a4c1-99a17aa3a375",
   "metadata": {},
   "outputs": [
    {
     "data": {
      "text/html": [
       "<div>\n",
       "<style scoped>\n",
       "    .dataframe tbody tr th:only-of-type {\n",
       "        vertical-align: middle;\n",
       "    }\n",
       "\n",
       "    .dataframe tbody tr th {\n",
       "        vertical-align: top;\n",
       "    }\n",
       "\n",
       "    .dataframe thead th {\n",
       "        text-align: right;\n",
       "    }\n",
       "</style>\n",
       "<table border=\"1\" class=\"dataframe\">\n",
       "  <thead>\n",
       "    <tr style=\"text-align: right;\">\n",
       "      <th>female</th>\n",
       "      <th>0</th>\n",
       "      <th>1</th>\n",
       "      <th>All</th>\n",
       "    </tr>\n",
       "    <tr>\n",
       "      <th>hon</th>\n",
       "      <th></th>\n",
       "      <th></th>\n",
       "      <th></th>\n",
       "    </tr>\n",
       "  </thead>\n",
       "  <tbody>\n",
       "    <tr>\n",
       "      <th>0</th>\n",
       "      <td>74</td>\n",
       "      <td>77</td>\n",
       "      <td>151</td>\n",
       "    </tr>\n",
       "    <tr>\n",
       "      <th>1</th>\n",
       "      <td>17</td>\n",
       "      <td>32</td>\n",
       "      <td>49</td>\n",
       "    </tr>\n",
       "    <tr>\n",
       "      <th>All</th>\n",
       "      <td>91</td>\n",
       "      <td>109</td>\n",
       "      <td>200</td>\n",
       "    </tr>\n",
       "  </tbody>\n",
       "</table>\n",
       "</div>"
      ],
      "text/plain": [
       "female   0    1  All\n",
       "hon                 \n",
       "0       74   77  151\n",
       "1       17   32   49\n",
       "All     91  109  200"
      ]
     },
     "execution_count": 70,
     "metadata": {},
     "output_type": "execute_result"
    }
   ],
   "source": [
    "pd.crosstab(honors[\"hon\"], honors[\"female\"], margins=True)"
   ]
  },
  {
   "cell_type": "code",
   "execution_count": 71,
   "id": "26e71b9f-3ebb-4935-afca-9a28aced7385",
   "metadata": {},
   "outputs": [],
   "source": [
    "b0 = lrhon2.params[\"Intercept\"]\n",
    "b_female = lrhon2.params[\"female\"]"
   ]
  },
  {
   "cell_type": "code",
   "execution_count": 72,
   "id": "a263b747-3c6e-4b00-800a-632618b8ca5e",
   "metadata": {},
   "outputs": [
    {
     "data": {
      "text/plain": [
       "(0.18681318681318684, 0.18681318681318682)"
      ]
     },
     "execution_count": 72,
     "metadata": {},
     "output_type": "execute_result"
    }
   ],
   "source": [
    "# male prob\n",
    "expit(b0), 17/91"
   ]
  },
  {
   "cell_type": "code",
   "execution_count": 73,
   "id": "0245f9d3-13fd-4edf-9d95-0b43814ff3d1",
   "metadata": {},
   "outputs": [
    {
     "data": {
      "text/plain": [
       "(0.2297297297297298, 0.22972972972972974)"
      ]
     },
     "execution_count": 73,
     "metadata": {},
     "output_type": "execute_result"
    }
   ],
   "source": [
    "# male odds\n",
    "np.exp(b0), 17/74  # = (17/91) / (74/91)"
   ]
  },
  {
   "cell_type": "code",
   "execution_count": 74,
   "id": "4d1d51a9-4793-416e-a685-762df4dfddb4",
   "metadata": {},
   "outputs": [
    {
     "data": {
      "text/plain": [
       "(-1.4708517491479534, -1.4708517491479536)"
      ]
     },
     "execution_count": 74,
     "metadata": {},
     "output_type": "execute_result"
    }
   ],
   "source": [
    "# male log-odds\n",
    "b0, np.log(17/74)"
   ]
  },
  {
   "cell_type": "code",
   "execution_count": 75,
   "id": "58d5f6ab-9b68-43e3-9902-2a59cec83405",
   "metadata": {},
   "outputs": [
    {
     "data": {
      "text/plain": [
       "(0.29357798165137605, 0.29357798165137616)"
      ]
     },
     "execution_count": 75,
     "metadata": {},
     "output_type": "execute_result"
    }
   ],
   "source": [
    "# female prob\n",
    "expit(b0 + b_female), 32/109"
   ]
  },
  {
   "cell_type": "code",
   "execution_count": 76,
   "id": "ad081474-9741-4011-ba0a-9ae0fe7ba6e1",
   "metadata": {},
   "outputs": [
    {
     "data": {
      "text/plain": [
       "(0.41558441558441545, 0.4155844155844156)"
      ]
     },
     "execution_count": 76,
     "metadata": {},
     "output_type": "execute_result"
    }
   ],
   "source": [
    "# female odds\n",
    "np.exp(b0 + b_female), 32/77 # = (32/109) / (77/109)"
   ]
  },
  {
   "cell_type": "code",
   "execution_count": 77,
   "id": "f9a208fa-329c-4fba-b10b-9674eb8ca082",
   "metadata": {},
   "outputs": [
    {
     "data": {
      "text/plain": [
       "(-0.8780695190539576, -0.8780695190539572)"
      ]
     },
     "execution_count": 77,
     "metadata": {},
     "output_type": "execute_result"
    }
   ],
   "source": [
    "b0 + b_female, np.log(32/77)"
   ]
  },
  {
   "cell_type": "code",
   "execution_count": 78,
   "id": "5177f592-45bd-4fdc-8890-db3a2ca9174b",
   "metadata": {},
   "outputs": [
    {
     "data": {
      "text/plain": [
       "1.8090145148968668"
      ]
     },
     "execution_count": 78,
     "metadata": {},
     "output_type": "execute_result"
    }
   ],
   "source": [
    "# odds female relative to male\n",
    "np.exp(b_female)"
   ]
  },
  {
   "cell_type": "markdown",
   "id": "40a580fb-c730-471c-ae10-69ca8cc9fbef",
   "metadata": {},
   "source": [
    "#### Logistic regression with a single continuous predictor variable"
   ]
  },
  {
   "cell_type": "code",
   "execution_count": 79,
   "id": "b75cff67-8761-40e2-a737-31cf031899b2",
   "metadata": {},
   "outputs": [
    {
     "name": "stdout",
     "output_type": "stream",
     "text": [
      "Optimization terminated successfully.\n",
      "         Current function value: 0.417683\n",
      "         Iterations 7\n"
     ]
    },
    {
     "data": {
      "text/plain": [
       "Intercept   -9.793942\n",
       "math         0.156340\n",
       "dtype: float64"
      ]
     },
     "execution_count": 79,
     "metadata": {},
     "output_type": "execute_result"
    }
   ],
   "source": [
    "lrhon3 = smf.logit(\"hon ~ 1 + math\", data=honors).fit()\n",
    "lrhon3.params"
   ]
  },
  {
   "cell_type": "markdown",
   "id": "17cef0c9-1089-4556-bc10-11663d6ccea4",
   "metadata": {},
   "source": [
    "So the model equation is \n",
    "\n",
    "$$\n",
    "    \\log(p/(1-p)) = \\texttt{logit}(p) = -9.793942  + .1563404 \\cdot \\texttt{math}\n",
    "$$"
   ]
  },
  {
   "cell_type": "code",
   "execution_count": 80,
   "id": "e3417c52-3cf4-4e05-968a-24f7d9241df5",
   "metadata": {},
   "outputs": [
    {
     "data": {
      "text/plain": [
       "(0.15634035558592174, 0.15634035558592269)"
      ]
     },
     "execution_count": 80,
     "metadata": {},
     "output_type": "execute_result"
    }
   ],
   "source": [
    "# Increase in log-odds between math=54 and math=55\n",
    "p54 = lrhon3.predict({\"math\":[54]}).item()\n",
    "p55 = lrhon3.predict({\"math\":[55]}).item()\n",
    "logit(p55) - logit(p54), lrhon3.params[\"math\"]"
   ]
  },
  {
   "cell_type": "markdown",
   "id": "0c8d8f05-791a-4a7a-814b-cd50d798f5bb",
   "metadata": {},
   "source": [
    "We can say now that the coefficient for math is the difference in the log odds.  In other words, for a one-unit increase in the math score, the expected change in log odds is .1563404."
   ]
  },
  {
   "cell_type": "code",
   "execution_count": 81,
   "id": "56c4257d-4638-450f-b957-2331272f66e5",
   "metadata": {},
   "outputs": [
    {
     "data": {
      "text/plain": [
       "(1.1692240873242834, 1.1692240873242823)"
      ]
     },
     "execution_count": 81,
     "metadata": {},
     "output_type": "execute_result"
    }
   ],
   "source": [
    "# Increase (multiplicative) in odds for unit increase in math\n",
    "np.exp(lrhon3.params[\"math\"]),  (p55/(1-p55)) / (p54/(1-p54))"
   ]
  },
  {
   "cell_type": "markdown",
   "id": "cbd51956-b013-447e-92fb-be7499a19843",
   "metadata": {},
   "source": [
    "So we can say for a one-unit increase in math score, we expect to see about 17% increase in the odds of being in an honors class.  This 17% of increase does not depend on the value that math is held at."
   ]
  },
  {
   "cell_type": "markdown",
   "id": "57f83ee3-9400-460c-9fb7-cb9e0d83f5d3",
   "metadata": {},
   "source": [
    "#### Logistic regression with multiple predictor variables and no interaction terms"
   ]
  },
  {
   "cell_type": "code",
   "execution_count": 82,
   "id": "fc05d5be-8ed4-4090-84b1-a5a6722e000f",
   "metadata": {},
   "outputs": [
    {
     "name": "stdout",
     "output_type": "stream",
     "text": [
      "Optimization terminated successfully.\n",
      "         Current function value: 0.390424\n",
      "         Iterations 7\n"
     ]
    },
    {
     "data": {
      "text/plain": [
       "Intercept   -11.770246\n",
       "math          0.122959\n",
       "female        0.979948\n",
       "read          0.059063\n",
       "dtype: float64"
      ]
     },
     "execution_count": 82,
     "metadata": {},
     "output_type": "execute_result"
    }
   ],
   "source": [
    "lrhon4 = smf.logit(\"hon ~ 1 + math + female + read\", data=honors).fit()\n",
    "lrhon4.params"
   ]
  },
  {
   "cell_type": "markdown",
   "id": "79d41b5b-c2f8-45db-998c-6adbdd8b325c",
   "metadata": {},
   "source": [
    "#### Logistic regression with an interaction term of two predictor variables"
   ]
  },
  {
   "cell_type": "code",
   "execution_count": 83,
   "id": "b53aa000-2da4-4d64-a885-435c0bebb853",
   "metadata": {},
   "outputs": [
    {
     "name": "stdout",
     "output_type": "stream",
     "text": [
      "Optimization terminated successfully.\n",
      "         Current function value: 0.399417\n",
      "         Iterations 7\n"
     ]
    },
    {
     "data": {
      "text/plain": [
       "Intercept     -8.745841\n",
       "math           0.129378\n",
       "female        -2.899863\n",
       "femalexmath    0.066995\n",
       "dtype: float64"
      ]
     },
     "execution_count": 83,
     "metadata": {},
     "output_type": "execute_result"
    }
   ],
   "source": [
    "lrhon5 = smf.logit(\"hon ~ 1 + math + female + femalexmath\", data=honors).fit()\n",
    "lrhon5.params"
   ]
  },
  {
   "cell_type": "code",
   "execution_count": 84,
   "id": "85d52c63-c03b-4c54-8eb7-06f6bf657288",
   "metadata": {},
   "outputs": [],
   "source": [
    "# ALT. without using `femalexmath` column\n",
    "# lrhon5 = smf.logit(\"hon ~ 1 + math + female + female*math\", data=honors).fit()\n",
    "# lrhon5.params"
   ]
  },
  {
   "cell_type": "markdown",
   "id": "5da06177-c23c-41cc-8d06-044999b2145e",
   "metadata": {},
   "source": [
    "### Bonus exercise: LA high schools (NOT A VERY GOOD FIT FOR POISSON MODEL)\n",
    "\n",
    "Dataset info: \n",
    "http://www.philender.com/courses/intro/assign/data.html\n",
    "\n",
    "This dataset consists of data from computer exercises collected from two high school in the Los Angeles area.\n",
    "\n",
    "\n",
    "http://www.philender.com/courses/intro/code.html\n",
    "\n"
   ]
  },
  {
   "cell_type": "code",
   "execution_count": 85,
   "id": "9cac7ea0-a64b-4bf0-834b-e7b8de30ccff",
   "metadata": {},
   "outputs": [
    {
     "data": {
      "text/html": [
       "<div>\n",
       "<style scoped>\n",
       "    .dataframe tbody tr th:only-of-type {\n",
       "        vertical-align: middle;\n",
       "    }\n",
       "\n",
       "    .dataframe tbody tr th {\n",
       "        vertical-align: top;\n",
       "    }\n",
       "\n",
       "    .dataframe thead th {\n",
       "        text-align: right;\n",
       "    }\n",
       "</style>\n",
       "<table border=\"1\" class=\"dataframe\">\n",
       "  <thead>\n",
       "    <tr style=\"text-align: right;\">\n",
       "      <th></th>\n",
       "      <th>id</th>\n",
       "      <th>gender</th>\n",
       "      <th>ethnic</th>\n",
       "      <th>school</th>\n",
       "      <th>mathpr</th>\n",
       "      <th>langpr</th>\n",
       "      <th>mathnce</th>\n",
       "      <th>langnce</th>\n",
       "      <th>biling</th>\n",
       "      <th>daysabs</th>\n",
       "    </tr>\n",
       "  </thead>\n",
       "  <tbody>\n",
       "    <tr>\n",
       "      <th>0</th>\n",
       "      <td>1001</td>\n",
       "      <td>M</td>\n",
       "      <td>Hispanic</td>\n",
       "      <td>Alpha</td>\n",
       "      <td>63</td>\n",
       "      <td>36</td>\n",
       "      <td>56.988831</td>\n",
       "      <td>42.450859</td>\n",
       "      <td>2</td>\n",
       "      <td>4</td>\n",
       "    </tr>\n",
       "    <tr>\n",
       "      <th>1</th>\n",
       "      <td>1002</td>\n",
       "      <td>M</td>\n",
       "      <td>Hispanic</td>\n",
       "      <td>Alpha</td>\n",
       "      <td>27</td>\n",
       "      <td>44</td>\n",
       "      <td>37.094158</td>\n",
       "      <td>46.820587</td>\n",
       "      <td>2</td>\n",
       "      <td>4</td>\n",
       "    </tr>\n",
       "    <tr>\n",
       "      <th>2</th>\n",
       "      <td>1003</td>\n",
       "      <td>F</td>\n",
       "      <td>Hispanic</td>\n",
       "      <td>Alpha</td>\n",
       "      <td>20</td>\n",
       "      <td>38</td>\n",
       "      <td>32.275455</td>\n",
       "      <td>43.566574</td>\n",
       "      <td>2</td>\n",
       "      <td>2</td>\n",
       "    </tr>\n",
       "    <tr>\n",
       "      <th>3</th>\n",
       "      <td>1004</td>\n",
       "      <td>F</td>\n",
       "      <td>Hispanic</td>\n",
       "      <td>Alpha</td>\n",
       "      <td>16</td>\n",
       "      <td>38</td>\n",
       "      <td>29.056717</td>\n",
       "      <td>43.566574</td>\n",
       "      <td>2</td>\n",
       "      <td>3</td>\n",
       "    </tr>\n",
       "    <tr>\n",
       "      <th>4</th>\n",
       "      <td>1005</td>\n",
       "      <td>F</td>\n",
       "      <td>Hispanic</td>\n",
       "      <td>Alpha</td>\n",
       "      <td>2</td>\n",
       "      <td>14</td>\n",
       "      <td>6.748048</td>\n",
       "      <td>27.248474</td>\n",
       "      <td>3</td>\n",
       "      <td>3</td>\n",
       "    </tr>\n",
       "  </tbody>\n",
       "</table>\n",
       "</div>"
      ],
      "text/plain": [
       "     id gender    ethnic school  mathpr  langpr    mathnce    langnce  biling  \\\n",
       "0  1001      M  Hispanic  Alpha      63      36  56.988831  42.450859       2   \n",
       "1  1002      M  Hispanic  Alpha      27      44  37.094158  46.820587       2   \n",
       "2  1003      F  Hispanic  Alpha      20      38  32.275455  43.566574       2   \n",
       "3  1004      F  Hispanic  Alpha      16      38  29.056717  43.566574       2   \n",
       "4  1005      F  Hispanic  Alpha       2      14   6.748048  27.248474       3   \n",
       "\n",
       "   daysabs  \n",
       "0        4  \n",
       "1        4  \n",
       "2        2  \n",
       "3        3  \n",
       "4        3  "
      ]
     },
     "execution_count": 85,
     "metadata": {},
     "output_type": "execute_result"
    }
   ],
   "source": [
    "lahigh_raw = pd.read_stata(\"https://stats.idre.ucla.edu/stat/stata/notes/lahigh.dta\")\n",
    "lahigh = lahigh_raw.convert_dtypes()\n",
    "\n",
    "lahigh[\"gender\"] = lahigh[\"gender\"].astype(object).replace({1:\"F\", 2:\"M\"})\n",
    "lahigh[\"ethnic\"] = lahigh[\"ethnic\"].astype(object).replace({\n",
    "    1:\"Native American\",\n",
    "    2:\"Asian\",\n",
    "    3:\"African-American\",\n",
    "    4:\"Hispanic\",\n",
    "    5:\"White\",\n",
    "    6:\"Filipino\",\n",
    "    7:\"Pacific Islander\"})\n",
    "lahigh[\"school\"] = lahigh[\"school\"].astype(object).replace({1:\"Alpha\", 2:\"Beta\"})\n",
    "lahigh.head()"
   ]
  },
  {
   "cell_type": "code",
   "execution_count": 86,
   "id": "1cfa5b56-a7cd-4d34-bdbd-8933397854ad",
   "metadata": {},
   "outputs": [
    {
     "name": "stdout",
     "output_type": "stream",
     "text": [
      "Optimization terminated successfully.\n",
      "         Current function value: 4.898642\n",
      "         Iterations 5\n"
     ]
    },
    {
     "data": {
      "text/plain": [
       "Intercept         2.687666\n",
       "C(gender)[T.M]   -0.400921\n",
       "mathnce          -0.003523\n",
       "langnce          -0.012152\n",
       "dtype: float64"
      ]
     },
     "execution_count": 86,
     "metadata": {},
     "output_type": "execute_result"
    }
   ],
   "source": [
    "formula = \"daysabs ~ 1 + mathnce + langnce + C(gender)\"\n",
    "prlahigh = smf.poisson(formula, data=lahigh).fit()\n",
    "prlahigh.params"
   ]
  },
  {
   "cell_type": "code",
   "execution_count": 87,
   "id": "7973597c-b205-475b-81cc-7fb25978a51f",
   "metadata": {},
   "outputs": [
    {
     "data": {
      "text/plain": [
       "C(gender)[T.M]    0.669703\n",
       "mathnce           0.996483\n",
       "langnce           0.987921\n",
       "dtype: float64"
      ]
     },
     "execution_count": 87,
     "metadata": {},
     "output_type": "execute_result"
    }
   ],
   "source": [
    "# IRR\n",
    "np.exp(prlahigh.params[1:])"
   ]
  },
  {
   "cell_type": "code",
   "execution_count": 88,
   "id": "4e2a7e9d-2a83-4e06-ad2f-2a44bba73b1d",
   "metadata": {},
   "outputs": [
    {
     "data": {
      "text/plain": [
       "0    0.609079\n",
       "1    0.736361\n",
       "Name: C(gender)[T.M], dtype: float64"
      ]
     },
     "execution_count": 88,
     "metadata": {},
     "output_type": "execute_result"
    }
   ],
   "source": [
    "# CI for IRR F \n",
    "np.exp(prlahigh.conf_int().loc[\"C(gender)[T.M]\"])"
   ]
  },
  {
   "cell_type": "code",
   "execution_count": 89,
   "id": "5ec05dc5-c4a8-410f-a48c-022c8a026ee5",
   "metadata": {},
   "outputs": [],
   "source": [
    "# prlahigh.summary()\n",
    "# prlahigh.aic, prlahigh.bic"
   ]
  },
  {
   "cell_type": "markdown",
   "id": "2092698d-b44e-4247-b150-cc80115e2953",
   "metadata": {},
   "source": [
    "#### Diagnostics \n",
    "\n",
    "via https://www.statsmodels.org/dev/examples/notebooks/generated/postestimation_poisson.html"
   ]
  },
  {
   "cell_type": "code",
   "execution_count": 90,
   "id": "67d0a936-e139-4e0d-aad3-fae2dc7b985d",
   "metadata": {},
   "outputs": [],
   "source": [
    "prdiag = prlahigh.get_diagnostic()\n",
    "# Plot observed versus predicted frequencies for entire sample\n",
    "# prdiag.plot_probs();\n",
    "\n",
    "# Other:\n",
    "# ['plot_probs',\n",
    "#  'probs_predicted',\n",
    "#  'results',\n",
    "#  'test_chisquare_prob',\n",
    "#  'test_dispersion',\n",
    "#  'test_poisson_zeroinflation',\n",
    "#  'y_max']"
   ]
  },
  {
   "cell_type": "code",
   "execution_count": 91,
   "id": "8d620ae9-514d-4e46-91cc-a3e451950273",
   "metadata": {},
   "outputs": [
    {
     "name": "stdout",
     "output_type": "stream",
     "text": [
      "Optimization terminated successfully.\n",
      "         Current function value: 4.898642\n",
      "         Iterations 5\n"
     ]
    },
    {
     "data": {
      "text/plain": [
       "Intercept                       2.286745\n",
       "C(gender, Treatment(1))[T.F]    0.400921\n",
       "mathnce                        -0.003523\n",
       "langnce                        -0.012152\n",
       "dtype: float64"
      ]
     },
     "execution_count": 91,
     "metadata": {},
     "output_type": "execute_result"
    }
   ],
   "source": [
    "# Code to get exactly the same numbers as in\n",
    "# https://stats.oarc.ucla.edu/stata/output/poisson-regression/  \n",
    "formula2 = \"daysabs ~ 1 + mathnce + langnce + C(gender, Treatment(1))\"\n",
    "prlahigh2 = smf.poisson(formula2, data=lahigh).fit()\n",
    "prlahigh2.params"
   ]
  }
 ],
 "metadata": {
  "kernelspec": {
   "display_name": "Python 3 (ipykernel)",
   "language": "python",
   "name": "python3"
  },
  "language_info": {
   "codemirror_mode": {
    "name": "ipython",
    "version": 3
   },
   "file_extension": ".py",
   "mimetype": "text/x-python",
   "name": "python",
   "nbconvert_exporter": "python",
   "pygments_lexer": "ipython3",
   "version": "3.12.4"
  }
 },
 "nbformat": 4,
 "nbformat_minor": 5
}
