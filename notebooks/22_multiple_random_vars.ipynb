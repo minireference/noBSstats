{
 "cells": [
  {
   "cell_type": "code",
   "execution_count": null,
   "id": "d5e2a7fd-6452-4b96-806a-47d0c9d99243",
   "metadata": {},
   "outputs": [],
   "source": []
  },
  {
   "cell_type": "markdown",
   "id": "55d74337-9486-4d1a-847b-5b22aadf6936",
   "metadata": {},
   "source": [
    "# Section 2.2 — Multiple random variable\n",
    "\n",
    "This notebook contains all the code examples from [Section 2.2 Multiple random variables]() in the **No Bullshit Guide to Statistics**.\n",
    "\n"
   ]
  },
  {
   "cell_type": "code",
   "execution_count": null,
   "id": "90bba34f-1751-4b4d-a166-c4f2e0ea2cc1",
   "metadata": {},
   "outputs": [],
   "source": []
  },
  {
   "cell_type": "markdown",
   "id": "f3cf35e4-cad4-49b6-9253-2266028c2331",
   "metadata": {
    "tags": []
   },
   "source": [
    "#### Notebook setup"
   ]
  },
  {
   "cell_type": "code",
   "execution_count": 1,
   "id": "d1164f8d-f0a4-4650-afb4-7344ac98f878",
   "metadata": {},
   "outputs": [],
   "source": [
    "# load Python modules\n",
    "import numpy as np\n",
    "import pandas as pd\n",
    "import seaborn as sns\n",
    "import matplotlib.pyplot as plt"
   ]
  },
  {
   "cell_type": "code",
   "execution_count": 2,
   "id": "c588f959-f640-4e3c-a706-0f3ff922d136",
   "metadata": {},
   "outputs": [],
   "source": [
    "# Figures setup\n",
    "sns.set_theme(\n",
    "    context=\"paper\",\n",
    "    style=\"whitegrid\",\n",
    "    palette=\"colorblind\",\n",
    "    rc={'figure.figsize': (7,4)},\n",
    ")\n",
    "\n",
    "%config InlineBackend.figure_format = 'retina'\n",
    "\n",
    "# # silence annoying warnings\n",
    "# import warnings; warnings.filterwarnings('ignore')"
   ]
  },
  {
   "cell_type": "code",
   "execution_count": 3,
   "id": "631fee4a-5d55-4f29-912a-b870e0c6152e",
   "metadata": {},
   "outputs": [],
   "source": [
    "# set random seed for repeatability\n",
    "np.random.seed(42)"
   ]
  },
  {
   "cell_type": "code",
   "execution_count": null,
   "id": "e7d8badc-070c-49d5-a3d7-2cb53b1c78a2",
   "metadata": {},
   "outputs": [],
   "source": []
  },
  {
   "cell_type": "markdown",
   "id": "65c7f6b9-e626-472b-893c-fbaee60f32a5",
   "metadata": {},
   "source": [
    "## Define dataset"
   ]
  },
  {
   "cell_type": "code",
   "execution_count": 4,
   "id": "2f6f7ab0-ec97-4888-85f1-3fc15164b951",
   "metadata": {},
   "outputs": [
    {
     "data": {
      "text/plain": [
       "25.0"
      ]
     },
     "execution_count": 4,
     "metadata": {},
     "output_type": "execute_result"
    }
   ],
   "source": [
    "200/8"
   ]
  },
  {
   "cell_type": "code",
   "execution_count": 5,
   "id": "f9cb62e3-8583-4d32-bdc7-3dcdf7c51567",
   "metadata": {},
   "outputs": [
    {
     "data": {
      "text/plain": [
       "700"
      ]
     },
     "execution_count": 5,
     "metadata": {},
     "output_type": "execute_result"
    }
   ],
   "source": [
    "35*20"
   ]
  },
  {
   "cell_type": "code",
   "execution_count": 6,
   "id": "36f1eb8d-c856-4b02-8567-50bc06befb9a",
   "metadata": {},
   "outputs": [],
   "source": [
    "# manually adjust `sigmaN` until `prod[\"n\"].std()` in the next cell ~100"
   ]
  },
  {
   "cell_type": "code",
   "execution_count": 7,
   "id": "edee9dd9-c4e4-4b57-945a-8942534b1c39",
   "metadata": {},
   "outputs": [],
   "source": [
    "from scipy.stats.distributions import norm\n",
    "\n",
    "m = 700\n",
    "\n",
    "# temperature is normally distrubted around 20 with std 2\n",
    "rvT = norm(20,2)\n",
    "ts = rvT.rvs(m)\n",
    "\n",
    "# kombucha volume normally distr\n",
    "meanN = 1000 + (ts-rvT.mean())*35\n",
    "sigmaN = 75\n",
    "rvN = norm(meanN, sigmaN)\n",
    "\n",
    "ns = rvN.rvs(m)\n",
    "\n",
    "\n",
    "# sns.displot(x=ns, y=ts)"
   ]
  },
  {
   "cell_type": "code",
   "execution_count": 8,
   "id": "6946271a-fe30-41e8-ae09-ade4e99411f8",
   "metadata": {},
   "outputs": [
    {
     "data": {
      "text/plain": [
       "<seaborn.axisgrid.FacetGrid at 0x1333a1520>"
      ]
     },
     "execution_count": 8,
     "metadata": {},
     "output_type": "execute_result"
    },
    {
     "data": {
      "image/png": "[encoded data removed]",
      "text/plain": [
       "<Figure size 360x360 with 1 Axes>"
      ]
     },
     "metadata": {
      "image/png": {
       "height": 353,
       "width": 353
      }
     },
     "output_type": "display_data"
    }
   ],
   "source": [
    "kprod = pd.DataFrame({\"t\":ts, \"n\":ns})\n",
    "sns.displot(data=kprod, x=\"n\", y=\"t\")"
   ]
  },
  {
   "cell_type": "code",
   "execution_count": 9,
   "id": "4fb24b8f-368a-44fb-af0d-16366c70d0b0",
   "metadata": {},
   "outputs": [],
   "source": [
    "# check data\n",
    "# ns.shape\n",
    "# kprod[\"t\"]\n",
    "# kprod[\"n\"] # came from the numpy array `ns`"
   ]
  },
  {
   "cell_type": "code",
   "execution_count": 10,
   "id": "25aeb695-0b96-4e53-87aa-47cba6b37460",
   "metadata": {},
   "outputs": [
    {
     "data": {
      "text/plain": [
       "100.7280828876444"
      ]
     },
     "execution_count": 10,
     "metadata": {},
     "output_type": "execute_result"
    }
   ],
   "source": [
    "kprod[\"n\"].std()"
   ]
  },
  {
   "cell_type": "code",
   "execution_count": 11,
   "id": "3172edce-fa76-450c-82be-0bc8c80b03e7",
   "metadata": {},
   "outputs": [
    {
     "data": {
      "text/plain": [
       "1005.0907538677609"
      ]
     },
     "execution_count": 11,
     "metadata": {},
     "output_type": "execute_result"
    }
   ],
   "source": [
    "kprod[\"n\"].mean()"
   ]
  },
  {
   "cell_type": "code",
   "execution_count": 12,
   "id": "78ad347e-6b5d-464e-a005-e8edcb284d14",
   "metadata": {},
   "outputs": [],
   "source": [
    "# # save data to kprod.csv\n",
    "# kprod.to_csv(\"../datasets/kprod.csv\")"
   ]
  },
  {
   "cell_type": "markdown",
   "id": "3a29de26-c103-43df-bc6f-35fe3bfca1ee",
   "metadata": {},
   "source": [
    "## Kombuncha production dataset\n",
    "\n",
    "Let's say have collected the data from the kombucha bottling plant from past month.\n",
    "You have a sample of $m=1000$ observations of two variables:\n",
    "- `t`: the temperature in C\n",
    "- `n`: the volume of kombucha that went into the bottle\n",
    "\n",
    "You have a suspicion that the bottling temperature might be causing a variation in the volume.\n",
    "\n",
    "You want to use \"data science\" to check if a relationship between $t$ and $n$ exists,\n",
    "and if it exists you want to use it to your advantage to improve the reliability of the kombucha bottling process.\n",
    "\n",
    "Recall that your distributor only pays for bottles that are within \"spec\" (mean of 1000 +/- 2 times std = $[800,1200]$),\n",
    "and the current bottling process only produces \"up to spec\" bottles only ... percent of the time.\n",
    "\n",
    "If there is a relationship between temperature `t` and bottled volume `n` then we should be able to find it if we collect lots of `(t,n)` data observations from the bottling process."
   ]
  },
  {
   "cell_type": "code",
   "execution_count": 13,
   "id": "cffb645b-c9d8-4350-9b21-1fed6ee4cde7",
   "metadata": {},
   "outputs": [
    {
     "data": {
      "text/html": [
       "<div>\n",
       "<style scoped>\n",
       "    .dataframe tbody tr th:only-of-type {\n",
       "        vertical-align: middle;\n",
       "    }\n",
       "\n",
       "    .dataframe tbody tr th {\n",
       "        vertical-align: top;\n",
       "    }\n",
       "\n",
       "    .dataframe thead th {\n",
       "        text-align: right;\n",
       "    }\n",
       "</style>\n",
       "<table border=\"1\" class=\"dataframe\">\n",
       "  <thead>\n",
       "    <tr style=\"text-align: right;\">\n",
       "      <th></th>\n",
       "      <th>Unnamed: 0</th>\n",
       "      <th>t</th>\n",
       "      <th>n</th>\n",
       "    </tr>\n",
       "  </thead>\n",
       "  <tbody>\n",
       "    <tr>\n",
       "      <th>0</th>\n",
       "      <td>0</td>\n",
       "      <td>20.993428</td>\n",
       "      <td>995.565764</td>\n",
       "    </tr>\n",
       "    <tr>\n",
       "      <th>1</th>\n",
       "      <td>1</td>\n",
       "      <td>19.723471</td>\n",
       "      <td>1068.997191</td>\n",
       "    </tr>\n",
       "    <tr>\n",
       "      <th>2</th>\n",
       "      <td>2</td>\n",
       "      <td>21.295377</td>\n",
       "      <td>992.512421</td>\n",
       "    </tr>\n",
       "    <tr>\n",
       "      <th>3</th>\n",
       "      <td>3</td>\n",
       "      <td>23.046060</td>\n",
       "      <td>1000.977493</td>\n",
       "    </tr>\n",
       "    <tr>\n",
       "      <th>4</th>\n",
       "      <td>4</td>\n",
       "      <td>19.531693</td>\n",
       "      <td>866.862076</td>\n",
       "    </tr>\n",
       "    <tr>\n",
       "      <th>...</th>\n",
       "      <td>...</td>\n",
       "      <td>...</td>\n",
       "      <td>...</td>\n",
       "    </tr>\n",
       "    <tr>\n",
       "      <th>695</th>\n",
       "      <td>695</td>\n",
       "      <td>19.380907</td>\n",
       "      <td>992.182772</td>\n",
       "    </tr>\n",
       "    <tr>\n",
       "      <th>696</th>\n",
       "      <td>696</td>\n",
       "      <td>20.652266</td>\n",
       "      <td>921.794840</td>\n",
       "    </tr>\n",
       "    <tr>\n",
       "      <th>697</th>\n",
       "      <td>697</td>\n",
       "      <td>17.497773</td>\n",
       "      <td>839.550997</td>\n",
       "    </tr>\n",
       "    <tr>\n",
       "      <th>698</th>\n",
       "      <td>698</td>\n",
       "      <td>21.848054</td>\n",
       "      <td>1154.712934</td>\n",
       "    </tr>\n",
       "    <tr>\n",
       "      <th>699</th>\n",
       "      <td>699</td>\n",
       "      <td>19.630196</td>\n",
       "      <td>937.789780</td>\n",
       "    </tr>\n",
       "  </tbody>\n",
       "</table>\n",
       "<p>700 rows × 3 columns</p>\n",
       "</div>"
      ],
      "text/plain": [
       "     Unnamed: 0          t            n\n",
       "0             0  20.993428   995.565764\n",
       "1             1  19.723471  1068.997191\n",
       "2             2  21.295377   992.512421\n",
       "3             3  23.046060  1000.977493\n",
       "4             4  19.531693   866.862076\n",
       "..          ...        ...          ...\n",
       "695         695  19.380907   992.182772\n",
       "696         696  20.652266   921.794840\n",
       "697         697  17.497773   839.550997\n",
       "698         698  21.848054  1154.712934\n",
       "699         699  19.630196   937.789780\n",
       "\n",
       "[700 rows x 3 columns]"
      ]
     },
     "execution_count": 13,
     "metadata": {},
     "output_type": "execute_result"
    }
   ],
   "source": [
    "kprod = pd.read_csv(\"../datasets/kprod.csv\")\n",
    "kprod"
   ]
  },
  {
   "cell_type": "code",
   "execution_count": 14,
   "id": "1dd98eda-5ea7-4bac-bde1-23ed3f04a35c",
   "metadata": {},
   "outputs": [
    {
     "data": {
      "text/html": [
       "<div>\n",
       "<style scoped>\n",
       "    .dataframe tbody tr th:only-of-type {\n",
       "        vertical-align: middle;\n",
       "    }\n",
       "\n",
       "    .dataframe tbody tr th {\n",
       "        vertical-align: top;\n",
       "    }\n",
       "\n",
       "    .dataframe thead th {\n",
       "        text-align: right;\n",
       "    }\n",
       "</style>\n",
       "<table border=\"1\" class=\"dataframe\">\n",
       "  <thead>\n",
       "    <tr style=\"text-align: right;\">\n",
       "      <th></th>\n",
       "      <th>Unnamed: 0</th>\n",
       "      <th>t</th>\n",
       "      <th>n</th>\n",
       "    </tr>\n",
       "  </thead>\n",
       "  <tbody>\n",
       "    <tr>\n",
       "      <th>count</th>\n",
       "      <td>700.00000</td>\n",
       "      <td>700.000000</td>\n",
       "      <td>700.000000</td>\n",
       "    </tr>\n",
       "    <tr>\n",
       "      <th>mean</th>\n",
       "      <td>349.50000</td>\n",
       "      <td>19.983708</td>\n",
       "      <td>1005.090754</td>\n",
       "    </tr>\n",
       "    <tr>\n",
       "      <th>std</th>\n",
       "      <td>202.21688</td>\n",
       "      <td>1.971220</td>\n",
       "      <td>100.728083</td>\n",
       "    </tr>\n",
       "    <tr>\n",
       "      <th>min</th>\n",
       "      <td>0.00000</td>\n",
       "      <td>13.517465</td>\n",
       "      <td>619.673850</td>\n",
       "    </tr>\n",
       "    <tr>\n",
       "      <th>25%</th>\n",
       "      <td>174.75000</td>\n",
       "      <td>18.610773</td>\n",
       "      <td>937.563085</td>\n",
       "    </tr>\n",
       "    <tr>\n",
       "      <th>50%</th>\n",
       "      <td>349.50000</td>\n",
       "      <td>19.997141</td>\n",
       "      <td>1002.065427</td>\n",
       "    </tr>\n",
       "    <tr>\n",
       "      <th>75%</th>\n",
       "      <td>524.25000</td>\n",
       "      <td>21.266132</td>\n",
       "      <td>1073.863544</td>\n",
       "    </tr>\n",
       "    <tr>\n",
       "      <th>max</th>\n",
       "      <td>699.00000</td>\n",
       "      <td>27.705463</td>\n",
       "      <td>1431.935309</td>\n",
       "    </tr>\n",
       "  </tbody>\n",
       "</table>\n",
       "</div>"
      ],
      "text/plain": [
       "       Unnamed: 0           t            n\n",
       "count   700.00000  700.000000   700.000000\n",
       "mean    349.50000   19.983708  1005.090754\n",
       "std     202.21688    1.971220   100.728083\n",
       "min       0.00000   13.517465   619.673850\n",
       "25%     174.75000   18.610773   937.563085\n",
       "50%     349.50000   19.997141  1002.065427\n",
       "75%     524.25000   21.266132  1073.863544\n",
       "max     699.00000   27.705463  1431.935309"
      ]
     },
     "execution_count": 14,
     "metadata": {},
     "output_type": "execute_result"
    }
   ],
   "source": [
    "kprod.describe()"
   ]
  },
  {
   "cell_type": "markdown",
   "id": "0dba1194-c260-4a93-bbce-78ad6728cb08",
   "metadata": {
    "tags": []
   },
   "source": [
    "## Plots inspired by seaborn docs\n"
   ]
  },
  {
   "cell_type": "code",
   "execution_count": 15,
   "id": "692344b9-87e2-4168-9654-7ccadce5aae5",
   "metadata": {},
   "outputs": [],
   "source": [
    "# penguins = sns.load_dataset(\"penguins\")\n"
   ]
  },
  {
   "cell_type": "code",
   "execution_count": null,
   "id": "3aec3de9-cb52-4714-a25c-30f9a7d42dc5",
   "metadata": {},
   "outputs": [
    {
     "data": {
      "text/plain": [
       "<seaborn.axisgrid.FacetGrid at 0x1335f8be0>"
      ]
     },
     "execution_count": 16,
     "metadata": {},
     "output_type": "execute_result"
    }
   ],
   "source": [
    "sns.displot(data=kprod, x=\"n\", y=\"t\")"
   ]
  },
  {
   "cell_type": "code",
   "execution_count": null,
   "id": "3bf66389-72fc-495d-ba58-d7946a48f70a",
   "metadata": {},
   "outputs": [],
   "source": [
    "sns.displot(data=kprod, x=\"n\", y=\"t\", kind=\"kde\")"
   ]
  },
  {
   "cell_type": "code",
   "execution_count": null,
   "id": "55979196-d9c6-4bb2-9035-4a0bcb7640eb",
   "metadata": {},
   "outputs": [],
   "source": [
    "# # ALT 1. fewer levels\n",
    "# sns.displot(data=kprod, x=\"n\", y=\"t\", kind=\"kde\", thresh=.2, levels=4)"
   ]
  },
  {
   "cell_type": "code",
   "execution_count": null,
   "id": "22142bb2-4940-4f9b-be9c-ea28894496a9",
   "metadata": {},
   "outputs": [],
   "source": [
    "# # ALT 2. specific levels\n",
    "# sns.displot(data=kprod, x=\"n\", y=\"t\", kind=\"kde\", levels=[.01, .05, .1, .8])"
   ]
  },
  {
   "cell_type": "code",
   "execution_count": null,
   "id": "b3e8f964-6b83-487f-9d14-e8eb97bcce6b",
   "metadata": {},
   "outputs": [],
   "source": [
    "sns.jointplot(data=kprod, x=\"n\", y=\"t\", kind=\"kde\")"
   ]
  },
  {
   "cell_type": "code",
   "execution_count": null,
   "id": "0375ecff-9835-4398-8273-cdf409c9d5a8",
   "metadata": {},
   "outputs": [],
   "source": [
    "g = sns.JointGrid(data=kprod, x=\"n\", y=\"t\")\n",
    "g.plot_joint(sns.histplot)\n",
    "g.plot_marginals(sns.boxplot)\n"
   ]
  },
  {
   "cell_type": "code",
   "execution_count": null,
   "id": "bb6ac5d5-38e9-4811-82d7-69ffca56e536",
   "metadata": {},
   "outputs": [],
   "source": [
    "sns.displot(data=kprod, x=\"n\", y=\"t\", kind=\"kde\", rug=True)"
   ]
  },
  {
   "cell_type": "code",
   "execution_count": null,
   "id": "80e33b1a-013f-453c-abcf-327b8e2aa789",
   "metadata": {},
   "outputs": [],
   "source": []
  },
  {
   "cell_type": "code",
   "execution_count": null,
   "id": "a9165be4-9674-45a6-86a5-8615e41220d0",
   "metadata": {},
   "outputs": [],
   "source": []
  },
  {
   "cell_type": "code",
   "execution_count": null,
   "id": "a3feac36-1ad1-48a9-be69-4a08ded8c1ac",
   "metadata": {},
   "outputs": [],
   "source": []
  },
  {
   "cell_type": "code",
   "execution_count": null,
   "id": "74ba9e35-2cb2-40f3-a446-a97139360930",
   "metadata": {},
   "outputs": [],
   "source": []
  },
  {
   "cell_type": "markdown",
   "id": "beab4dd6-aefb-447c-aa7d-96ee0f76c0e8",
   "metadata": {
    "tags": []
   },
   "source": [
    "## Other 3D and surface plot examples"
   ]
  },
  {
   "cell_type": "code",
   "execution_count": null,
   "id": "556c1c11-1952-4363-98c4-2c5a06bfdbf9",
   "metadata": {},
   "outputs": [],
   "source": [
    "# tslices = [18, 20, 22]\n",
    "\n",
    "\n",
    "# # RSCH: how to get slice at t of the kde approx surface of kprod data as a function\n",
    "\n",
    "# # verts[i] is a list of (x, y) pairs defining polygon i.\n",
    "# verts = [polygon_under_graph(x, poisson.pmf(l, x)) for l in lambdas]\n",
    "# facecolors = plt.colormaps['viridis_r'](np.linspace(0, 1, len(verts)))\n",
    "\n",
    "# poly = PolyCollection(verts, facecolors=facecolors, alpha=.7)\n",
    "# ax.add_collection3d(poly, zs=lambdas, zdir='y')\n",
    "\n",
    "# ax.set(xlim=(0, 10), ylim=(1, 9), zlim=(0, 0.35),\n",
    "#        xlabel='x', ylabel=r'$\\lambda$', zlabel='probability')\n"
   ]
  },
  {
   "cell_type": "code",
   "execution_count": null,
   "id": "0a6ace23-0599-45eb-8568-2ed4f5d2ab23",
   "metadata": {},
   "outputs": [],
   "source": [
    "# via https://matplotlib.org/stable/gallery/mplot3d/polys3d.html\n",
    "\n",
    "from matplotlib.collections import PolyCollection\n",
    "import matplotlib.pyplot as plt\n",
    "import numpy as np\n",
    "from scipy.stats import poisson\n",
    "\n",
    "# Fixing random state for reproducibility\n",
    "np.random.seed(19680801)\n",
    "\n",
    "\n",
    "def polygon_under_graph(x, y):\n",
    "    \"\"\"\n",
    "    Construct the vertex list which defines the polygon filling the space under\n",
    "    the (x, y) line graph. This assumes x is in ascending order.\n",
    "    \"\"\"\n",
    "    return [(x[0], 0.), *zip(x, y), (x[-1], 0.)]\n",
    "\n",
    "\n",
    "ax = plt.figure().add_subplot(projection='3d')\n",
    "\n",
    "x = np.linspace(0., 10., 31)\n",
    "lambdas = range(1, 9)\n",
    "\n",
    "# verts[i] is a list of (x, y) pairs defining polygon i.\n",
    "verts = [polygon_under_graph(x, poisson.pmf(l, x)) for l in lambdas]\n",
    "facecolors = plt.colormaps['viridis_r'](np.linspace(0, 1, len(verts)))\n",
    "\n",
    "poly = PolyCollection(verts, facecolors=facecolors, alpha=.7)\n",
    "ax.add_collection3d(poly, zs=lambdas, zdir='y')\n",
    "\n",
    "ax.set(xlim=(0, 10), ylim=(1, 9), zlim=(0, 0.35),\n",
    "       xlabel='x', ylabel=r'$\\lambda$', zlabel='probability')\n",
    "\n",
    "plt.show()"
   ]
  },
  {
   "cell_type": "code",
   "execution_count": null,
   "id": "be7ab99b-24ca-4225-99b2-bdf72f16c95c",
   "metadata": {},
   "outputs": [],
   "source": [
    "# verts[0]"
   ]
  },
  {
   "cell_type": "code",
   "execution_count": null,
   "id": "319c922d-bb5d-4757-969e-59803453720a",
   "metadata": {},
   "outputs": [],
   "source": []
  },
  {
   "cell_type": "code",
   "execution_count": null,
   "id": "b35a4516-b93a-4eeb-9bba-3d366bbaa6d6",
   "metadata": {},
   "outputs": [],
   "source": [
    "# via https://problemsolvingwithpython.com/06-Plotting-with-Matplotlib/06.16-3D-Surface-Plots/\n",
    "import numpy as np\n",
    "import matplotlib.pyplot as plt\n",
    "from mpl_toolkits.mplot3d import axes3d\n",
    "# if using a Jupyter notebook, include:\n",
    "%matplotlib inline\n",
    "\n",
    "\n",
    "\n",
    "\n",
    "fig = plt.figure(figsize=(12,6))\n",
    "ax1 = fig.add_subplot(121, projection='3d')\n",
    "ax2 = fig.add_subplot(122, projection='3d')\n",
    "\n",
    "x = np.arange(-5,5,0.1)\n",
    "y = np.arange(-5,5,0.1)\n",
    "X,Y = np.meshgrid(x,y)\n",
    "Z = X*np.exp(-X**2 - Y**2)\n",
    "\n",
    "# Plot a basic wireframe\n",
    "ax1.plot_wireframe(X, Y, Z, rstride=10, cstride=10)\n",
    "ax1.set_title('row step size 10, column step size 10')\n",
    "\n",
    "ax2.plot_wireframe(X, Y, Z, rstride=20, cstride=20)\n",
    "ax2.set_title('row step size 20, column step size 20')\n",
    "\n",
    "plt.show()\n",
    "\n",
    "\n"
   ]
  },
  {
   "cell_type": "code",
   "execution_count": null,
   "id": "27eb1fc9-8571-479c-9d22-3ff6a1b3edbb",
   "metadata": {},
   "outputs": [],
   "source": [
    "# via https://problemsolvingwithpython.com/06-Plotting-with-Matplotlib/06.14-Contour-Plots/\n",
    "\n",
    "import numpy as np\n",
    "import matplotlib.pyplot as plt\n",
    "# if using a Jupyter notebook, include:\n",
    "%matplotlib inline\n",
    "\n",
    "\n",
    "x = np.arange(0, 10.0, 0.01)\n",
    "y = np.arange(0, 10.0, 0.01)\n",
    "\n",
    "X, Y = np.meshgrid(x, y)\n",
    "\n",
    "Z = np.sin(X)*np.cos(Y)\n",
    "\n",
    "fig, ax = plt.subplots(figsize=(6,6))\n",
    "\n",
    "# ax.contourf(X,Y,Z)\n",
    "ax.contour(X,Y,Z)\n",
    "\n",
    "plt.show()\n",
    "\n"
   ]
  },
  {
   "cell_type": "code",
   "execution_count": null,
   "id": "c778eb33-5b6c-48fb-9c5e-732fa8f9d4ef",
   "metadata": {},
   "outputs": [],
   "source": [
    "# via https://stackoverflow.com/questions/16024677/generate-correlated-data-in-python-3-3\n",
    "\n",
    "import numpy as np\n",
    "import matplotlib.pyplot as plt\n",
    "\n",
    "\n",
    "num_samples = 400\n",
    "\n",
    "# The desired mean values of the sample.\n",
    "mu = np.array([5.0, 0.0, 10.0])\n",
    "\n",
    "# The desired covariance matrix.\n",
    "r = np.array([\n",
    "        [  3.40, -2.75, -2.00],\n",
    "        [ -2.75,  5.50,  1.50],\n",
    "        [ -2.00,  1.50,  1.25]\n",
    "    ])\n",
    "\n",
    "# Generate the random samples.\n",
    "rng = np.random.default_rng()\n",
    "y = rng.multivariate_normal(mu, r, size=num_samples)\n",
    "\n",
    "\n",
    "# Plot various projections of the samples.\n",
    "plt.subplot(2,2,1)\n",
    "plt.plot(y[:,0], y[:,1], 'b.', alpha=0.25)\n",
    "plt.plot(mu[0], mu[1], 'ro', ms=3.5)\n",
    "plt.ylabel('y[1]')\n",
    "plt.axis('equal')\n",
    "plt.grid(True)\n",
    "\n",
    "plt.subplot(2,2,3)\n",
    "plt.plot(y[:,0], y[:,2], 'b.', alpha=0.25)\n",
    "plt.plot(mu[0], mu[2], 'ro', ms=3.5)\n",
    "plt.xlabel('y[0]')\n",
    "plt.ylabel('y[2]')\n",
    "plt.axis('equal')\n",
    "plt.grid(True)\n",
    "\n",
    "plt.subplot(2,2,4)\n",
    "plt.plot(y[:,1], y[:,2], 'b.', alpha=0.25)\n",
    "plt.plot(mu[1], mu[2], 'ro', ms=3.5)\n",
    "plt.xlabel('y[1]')\n",
    "plt.axis('equal')\n",
    "plt.grid(True)\n",
    "\n",
    "plt.show()"
   ]
  },
  {
   "cell_type": "code",
   "execution_count": null,
   "id": "a51a470b-b396-4e1e-aaa9-2d3bd3f9c16f",
   "metadata": {},
   "outputs": [],
   "source": [
    "import numpy as np\n",
    "import matplotlib.pyplot as plt\n",
    "linalg = np.linalg\n",
    "np.random.seed(1)\n",
    "\n",
    "num_samples = 1000\n",
    "num_variables = 2\n",
    "cov = [[0.3, 0.2], [0.2, 0.2]]\n",
    "\n",
    "L = linalg.cholesky(cov)\n",
    "# print(L.shape)\n",
    "# (2, 2)\n",
    "uncorrelated = np.random.standard_normal((num_variables, num_samples))\n",
    "mean = [1, 1]\n",
    "correlated = np.dot(L, uncorrelated) + np.array(mean).reshape(2, 1)\n",
    "# print(correlated.shape)\n",
    "# (2, 1000)\n",
    "plt.scatter(correlated[0, :], correlated[1, :], c='green')\n",
    "plt.show()"
   ]
  },
  {
   "cell_type": "code",
   "execution_count": null,
   "id": "2944ec93-b808-4241-9230-376d0e52f3fa",
   "metadata": {},
   "outputs": [],
   "source": [
    "# via https://stackoverflow.com/questions/16024677/generate-correlated-data-in-python-3-3\n",
    "\n",
    "import numpy as np\n",
    "import matplotlib.pyplot as plt\n",
    "import scipy.stats as stats\n",
    "linalg = np.linalg\n",
    "np.random.seed(1)\n",
    "\n",
    "num_samples = 1000\n",
    "num_variables = 2\n",
    "cov = [[1.0, 0.2], [0.2, 1.0]]\n",
    "\n",
    "L = linalg.cholesky(cov)\n",
    "\n",
    "rhos = []\n",
    "for i in range(1000):\n",
    "    uncorrelated = np.random.standard_normal((num_variables, num_samples))\n",
    "    correlated = np.dot(L, uncorrelated)\n",
    "    X, Y = correlated\n",
    "    rho, pval = stats.pearsonr(X, Y)\n",
    "    rhos.append(rho)\n",
    "\n",
    "plt.hist(rhos)\n",
    "plt.show()"
   ]
  },
  {
   "cell_type": "code",
   "execution_count": null,
   "id": "1c61b562-461c-46d1-835d-56e77c08fc5f",
   "metadata": {},
   "outputs": [],
   "source": [
    "# via https://stackoverflow.com/questions/38698277/plot-normal-distribution-in-3d\n",
    "import numpy as np\n",
    "import matplotlib.pyplot as plt\n",
    "from scipy.stats import multivariate_normal\n",
    "from mpl_toolkits.mplot3d import Axes3D\n",
    "\n",
    "#Parameters to set\n",
    "mu_x = 0\n",
    "variance_x = 3\n",
    "\n",
    "mu_y = 0\n",
    "variance_y = 15\n",
    "\n",
    "#Create grid and multivariate normal\n",
    "x = np.linspace(-10,10,500)\n",
    "y = np.linspace(-10,10,500)\n",
    "X, Y = np.meshgrid(x,y)\n",
    "pos = np.empty(X.shape + (2,))\n",
    "pos[:, :, 0] = X; pos[:, :, 1] = Y\n",
    "rv = multivariate_normal([mu_x, mu_y], [[variance_x, 0], [0, variance_y]])\n",
    "\n",
    "#Make a 3D plot\n",
    "fig = plt.figure()\n",
    "ax = fig.gca(projection='3d')\n",
    "ax.plot_surface(X, Y, rv.pdf(pos),cmap='viridis',linewidth=0)\n",
    "ax.set_xlabel('X axis')\n",
    "ax.set_ylabel('Y axis')\n",
    "ax.set_zlabel('Z axis')\n",
    "plt.show()\n"
   ]
  },
  {
   "cell_type": "code",
   "execution_count": null,
   "id": "3dbd8c9e-7f9f-4204-97e8-23c93a172b1b",
   "metadata": {},
   "outputs": [],
   "source": []
  },
  {
   "cell_type": "code",
   "execution_count": null,
   "id": "45c47ecc-35c7-48a6-8ae7-e584b4dce298",
   "metadata": {},
   "outputs": [],
   "source": [
    "#https://docs.scipy.org/doc/scipy/reference/generated/scipy.stats.multivariate_normal.html#scipy.stats.multivariate_normal\n",
    "\n",
    "from scipy.stats import multivariate_normal\n",
    "\n",
    "x = np.linspace(0, 5, 10, endpoint=False)\n",
    "\n",
    "y = multivariate_normal.pdf(x, mean=2.5, cov=0.5)\n",
    "\n",
    "fig1 = plt.figure()\n",
    "\n",
    "ax = fig1.add_subplot(111)\n",
    "\n",
    "ax.plot(x, y)"
   ]
  },
  {
   "cell_type": "code",
   "execution_count": null,
   "id": "47d58021-a98b-47c6-a165-4ee989355398",
   "metadata": {},
   "outputs": [],
   "source": [
    "x, y = np.mgrid[-1:1:.01, -1:1:.01]\n",
    "\n",
    "pos = np.dstack((x, y))\n",
    "\n",
    "mu = [0.5, -0.2]\n",
    "Sigma = [[2.0, 0.7], [0.7, 0.5]]\n",
    "rv = multivariate_normal(mu, Sigma)\n",
    "\n",
    "\n",
    "fig2 = plt.figure()\n",
    "ax2 = fig2.add_subplot(111)\n",
    "ax2.contourf(x, y, rv.pdf(pos))"
   ]
  },
  {
   "cell_type": "code",
   "execution_count": null,
   "id": "683e0d8b-0e28-491f-9d25-ccf9272cba19",
   "metadata": {},
   "outputs": [],
   "source": [
    "rv.pdf(pos)"
   ]
  },
  {
   "cell_type": "code",
   "execution_count": null,
   "id": "fb494f9e-aeed-4a1e-a248-70aea15f8ebc",
   "metadata": {},
   "outputs": [],
   "source": [
    "sns.histplot(x=x[0], y=y[0])"
   ]
  },
  {
   "cell_type": "markdown",
   "id": "ed7e9bfc-50fb-4550-a318-046f506224c1",
   "metadata": {},
   "source": [
    "### Coin tosses for n=100, n=1000, and n=10000"
   ]
  },
  {
   "cell_type": "code",
   "execution_count": null,
   "id": "3686e786-8970-4b9b-ac90-26731a2795f2",
   "metadata": {},
   "outputs": [],
   "source": [
    "import numpy as np\n",
    "np.random.seed(15)\n",
    "\n",
    "import pandas as pd\n",
    "import matplotlib.pyplot as plt\n",
    "from scipy.stats.distributions import randint\n",
    "\n",
    "rvC = randint(0, 2)\n",
    "\n",
    "\n",
    "filename = \"figures/panel_n_coin_flips.pdf\"\n",
    "\n",
    "\n",
    "with plt.rc_context({\"figure.figsize\":(12,3)}):\n",
    "    fig, axs = plt.subplots(1, 3)\n",
    "    ax1, ax2, ax3 = axs\n",
    "\n",
    "    n = 100\n",
    "    flips = rvC.rvs(n)\n",
    "    s = pd.Series(flips).replace(1, \"heads\").replace(0, \"tails\")\n",
    "    # print(f\"Case {n=}\")\n",
    "    # print(s.value_counts().sort_index())\n",
    "    s.value_counts().sort_index().plot(kind=\"bar\", rot=0, ax=ax1)\n",
    "    title1 = f\"(a) Case $n={n}$\"\n",
    "    ax1.set_title(title1, y=0, pad=-30)\n",
    "    sns.despine(top=True, right=True, ax=ax1)\n",
    "\n",
    "    n = 1000\n",
    "    flips = rvC.rvs(n)\n",
    "    s = pd.Series(flips).replace(1, \"heads\").replace(0, \"tails\")\n",
    "    # print(f\"Case {n=}\")\n",
    "    # print(s.value_counts().sort_index())\n",
    "    s.value_counts().sort_index().plot(kind=\"bar\", rot=0, ax=ax2)\n",
    "    title2 = f\"(b) Case $n={n}$\"\n",
    "    ax2.set_title(title2, y=0, pad=-30)\n",
    "    sns.despine(top=True, right=True, ax=ax2)\n",
    "\n",
    "    n = 10000\n",
    "    flips = rvC.rvs(n)\n",
    "    s = pd.Series(flips).replace(1, \"heads\").replace(0, \"tails\")\n",
    "    # print(f\"Case {n=}\")\n",
    "    # print(s.value_counts().sort_index())\n",
    "    s.value_counts().sort_index().plot(kind=\"bar\", rot=0, ax=ax3)\n",
    "    title3 = f\"(c) Case $n={n}$\"\n",
    "    ax3.set_title(title3, y=0, pad=-30)\n",
    "    sns.despine(top=True, right=True, ax=ax3)\n",
    "    \n",
    "    fig.tight_layout()\n",
    "    fig.savefig(filename, dpi=300, bbox_inches=\"tight\", pad_inches=0)\n"
   ]
  },
  {
   "cell_type": "markdown",
   "id": "cb946ea7-34e0-4371-bb95-1e5a3b6e30a9",
   "metadata": {},
   "source": [
    "### Dice rolls 600 6000 60000"
   ]
  },
  {
   "cell_type": "code",
   "execution_count": null,
   "id": "90344262-6112-4b59-ba14-26efd0cec74a",
   "metadata": {},
   "outputs": [],
   "source": [
    "import numpy as np\n",
    "np.random.seed(5)\n",
    "\n",
    "import pandas as pd\n",
    "import matplotlib.pyplot as plt\n",
    "from scipy.stats.distributions import randint\n",
    "\n",
    "rvD = randint(1, 7)\n",
    "\n",
    "\n",
    "filename = \"figures/panel_n_dice_rolls.pdf\"\n",
    "\n",
    "\n",
    "with plt.rc_context({\"figure.figsize\":(12,3)}):\n",
    "    fig, axs = plt.subplots(1, 3)\n",
    "    ax1, ax2, ax3 = axs\n",
    "\n",
    "    n = 600\n",
    "    rolls = rvD.rvs(n)\n",
    "    ds = pd.Series(rolls)\n",
    "    # print(f\"Case {n=}\")\n",
    "    # print(ds.value_counts().sort_index())\n",
    "    ds.value_counts().sort_index().plot(kind=\"bar\", ax=ax1)\n",
    "    title1 = f\"(a) Case $n={n}$\"\n",
    "    ax1.set_title(title1, y=0, pad=-30)\n",
    "    sns.despine(top=True, right=True, ax=ax1)\n",
    "\n",
    "    n = 6000\n",
    "    rolls = rvD.rvs(n)\n",
    "    ds = pd.Series(rolls)\n",
    "    # print(f\"Case {n=}\")\n",
    "    # print(ds.value_counts().sort_index())\n",
    "    ds.value_counts().sort_index().plot(kind=\"bar\", ax=ax2)\n",
    "    title2 = f\"(b) Case $n={n}$\"\n",
    "    ax2.set_title(title2, y=0, pad=-30)\n",
    "    sns.despine(top=True, right=True, ax=ax2)\n",
    "\n",
    "    n = 60000\n",
    "    rolls = rvD.rvs(n)\n",
    "    ds = pd.Series(rolls)\n",
    "    # print(f\"Case {n=}\")\n",
    "    # print(ds.value_counts().sort_index())\n",
    "    ds.value_counts().sort_index().plot(kind=\"bar\", ax=ax3)\n",
    "    title3 = f\"(c) Case $n={n}$\"\n",
    "    ax3.set_title(title3, y=0, pad=-30)\n",
    "    sns.despine(top=True, right=True, ax=ax3)\n",
    "\n",
    "    fig.tight_layout()\n",
    "    fig.savefig(filename, dpi=300, bbox_inches=\"tight\", pad_inches=0)\n"
   ]
  }
 ],
 "metadata": {
  "kernelspec": {
   "display_name": "Python 3 (ipykernel)",
   "language": "python",
   "name": "python3"
  },
  "language_info": {
   "codemirror_mode": {
    "name": "ipython",
    "version": 3
   },
   "file_extension": ".py",
   "mimetype": "text/x-python",
   "name": "python",
   "nbconvert_exporter": "python",
   "pygments_lexer": "ipython3",
   "version": "3.9.4"
  }
 },
 "nbformat": 4,
 "nbformat_minor": 5
}
