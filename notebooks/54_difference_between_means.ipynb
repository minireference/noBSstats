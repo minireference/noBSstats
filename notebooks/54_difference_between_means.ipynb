{
 "cells": [
  {
   "cell_type": "markdown",
   "id": "c53eb8f5-80a7-4330-9f13-63220177fcc0",
   "metadata": {
    "editable": true,
    "slideshow": {
     "slide_type": ""
    },
    "tags": []
   },
   "source": [
    "# Section 5.4 — Bayesian difference between means\n",
    "\n",
    "This notebook contains the code examples from [Section 5.4 Bayesian difference between means]() from the **No Bullshit Guide to Statistics**.\n",
    "\n",
    "See also:\n",
    "- [Half_a_dozen_dmeans_in_Bambi.ipynb](http://localhost:8888/lab/tree/notebooks/explorations/Half_a_dozen_dmeans_in_Bambi.ipynb)\n",
    "- [compare_iqs2_many_ways.ipynb](./explorations/compare_iqs2_many_ways.ipynb)\n",
    "- [t-test.ipynb](./explorations/bambi/t-test.ipynb)\n",
    "- Examples: https://github.com/treszkai/best/tree/master/examples\n",
    "- Links: https://www.one-tab.com/page/HoSHco_iSG-MHXG7kXOj7g\n"
   ]
  },
  {
   "cell_type": "markdown",
   "id": "a2d8dda2-58a9-424e-9fb3-32ad6e8777d8",
   "metadata": {
    "tags": []
   },
   "source": [
    "#### Notebook setup"
   ]
  },
  {
   "cell_type": "code",
   "execution_count": 1,
   "id": "aea0223e-aee9-4875-a714-897b6646baaa",
   "metadata": {},
   "outputs": [
    {
     "name": "stderr",
     "output_type": "stream",
     "text": [
      "WARNING (pytensor.tensor.blas): Using NumPy C-API based implementation for BLAS functions.\n"
     ]
    }
   ],
   "source": [
    "# load Python modules\n",
    "import os\n",
    "import numpy as np\n",
    "import pandas as pd\n",
    "import seaborn as sns\n",
    "import matplotlib.pyplot as plt\n",
    "\n",
    "import bambi as bmb\n",
    "import arviz as az"
   ]
  },
  {
   "cell_type": "code",
   "execution_count": 2,
   "id": "efd86c5a-c9d2-4eab-b67d-a65e39b23ef2",
   "metadata": {},
   "outputs": [
    {
     "data": {
      "text/plain": [
       "<Figure size 640x480 with 0 Axes>"
      ]
     },
     "metadata": {},
     "output_type": "display_data"
    }
   ],
   "source": [
    "# Figures setup\n",
    "plt.clf()  # needed otherwise `sns.set_theme` doesn\"t work\n",
    "from plot_helpers import RCPARAMS\n",
    "RCPARAMS.update({\"figure.figsize\": (5, 3)})   # good for screen\n",
    "# RCPARAMS.update({\"figure.figsize\": (5, 1.6)})  # good for print\n",
    "sns.set_theme(\n",
    "    context=\"paper\",\n",
    "    style=\"whitegrid\",\n",
    "    palette=\"colorblind\",\n",
    "    rc=RCPARAMS,\n",
    ")\n",
    "\n",
    "# High-resolution please\n",
    "%config InlineBackend.figure_format = \"retina\"\n",
    "\n",
    "# Where to store figures\n",
    "DESTDIR = \"figures/bayes/dmeans\""
   ]
  },
  {
   "cell_type": "code",
   "execution_count": 3,
   "id": "df811a10-417d-4389-8bff-30e59b5f6aef",
   "metadata": {},
   "outputs": [],
   "source": [
    "# set random seed for repeatability\n",
    "np.random.seed(42)\n",
    "#######################################################"
   ]
  },
  {
   "cell_type": "markdown",
   "id": "7d39dc75-b7fc-4900-9d64-fe918b7dfd9f",
   "metadata": {},
   "source": [
    "## Model"
   ]
  },
  {
   "cell_type": "markdown",
   "id": "7078379f-af93-4b7d-841b-1ded20f23bdd",
   "metadata": {
    "editable": true,
    "slideshow": {
     "slide_type": ""
    },
    "tags": []
   },
   "source": [
    "## Example 1: electricity prices\n",
    "\n",
    "Electricity prices from East End and West End"
   ]
  },
  {
   "cell_type": "markdown",
   "id": "4a3b380d-1dd5-4afa-9169-fd0ed2fd0467",
   "metadata": {},
   "source": [
    "### Electricity prices dataset"
   ]
  },
  {
   "cell_type": "code",
   "execution_count": 4,
   "id": "f167d70e-b6e7-4289-920a-d1241bb14502",
   "metadata": {},
   "outputs": [
    {
     "data": {
      "text/html": [
       "<div>\n",
       "<style scoped>\n",
       "    .dataframe tbody tr th:only-of-type {\n",
       "        vertical-align: middle;\n",
       "    }\n",
       "\n",
       "    .dataframe tbody tr th {\n",
       "        vertical-align: top;\n",
       "    }\n",
       "\n",
       "    .dataframe thead th {\n",
       "        text-align: right;\n",
       "    }\n",
       "</style>\n",
       "<table border=\"1\" class=\"dataframe\">\n",
       "  <thead>\n",
       "    <tr style=\"text-align: right;\">\n",
       "      <th></th>\n",
       "      <th>count</th>\n",
       "      <th>mean</th>\n",
       "      <th>std</th>\n",
       "      <th>min</th>\n",
       "      <th>25%</th>\n",
       "      <th>50%</th>\n",
       "      <th>75%</th>\n",
       "      <th>max</th>\n",
       "    </tr>\n",
       "    <tr>\n",
       "      <th>loc</th>\n",
       "      <th></th>\n",
       "      <th></th>\n",
       "      <th></th>\n",
       "      <th></th>\n",
       "      <th></th>\n",
       "      <th></th>\n",
       "      <th></th>\n",
       "      <th></th>\n",
       "    </tr>\n",
       "  </thead>\n",
       "  <tbody>\n",
       "    <tr>\n",
       "      <th>East</th>\n",
       "      <td>9.0</td>\n",
       "      <td>6.155556</td>\n",
       "      <td>0.877655</td>\n",
       "      <td>4.8</td>\n",
       "      <td>5.5</td>\n",
       "      <td>6.3</td>\n",
       "      <td>6.5</td>\n",
       "      <td>7.7</td>\n",
       "    </tr>\n",
       "    <tr>\n",
       "      <th>West</th>\n",
       "      <td>9.0</td>\n",
       "      <td>9.155556</td>\n",
       "      <td>1.562139</td>\n",
       "      <td>6.8</td>\n",
       "      <td>8.3</td>\n",
       "      <td>8.6</td>\n",
       "      <td>10.0</td>\n",
       "      <td>11.8</td>\n",
       "    </tr>\n",
       "  </tbody>\n",
       "</table>\n",
       "</div>"
      ],
      "text/plain": [
       "      count      mean       std  min  25%  50%   75%   max\n",
       "loc                                                       \n",
       "East    9.0  6.155556  0.877655  4.8  5.5  6.3   6.5   7.7\n",
       "West    9.0  9.155556  1.562139  6.8  8.3  8.6  10.0  11.8"
      ]
     },
     "execution_count": 4,
     "metadata": {},
     "output_type": "execute_result"
    }
   ],
   "source": [
    "eprices = pd.read_csv(\"../datasets/eprices.csv\")\n",
    "eprices.groupby(\"loc\")[\"price\"].describe()"
   ]
  },
  {
   "cell_type": "markdown",
   "id": "771c6bbc-be33-4847-88c2-74236600aa31",
   "metadata": {},
   "source": [
    "### Bayesian model\n",
    "TODO: add formulas"
   ]
  },
  {
   "cell_type": "markdown",
   "id": "1fff33a4-375e-4172-9345-50629cd02299",
   "metadata": {},
   "source": [
    "### Bambi model"
   ]
  },
  {
   "cell_type": "code",
   "execution_count": 5,
   "id": "73be6cb7-9fd6-47d7-be89-4a317310e78b",
   "metadata": {},
   "outputs": [
    {
     "name": "stderr",
     "output_type": "stream",
     "text": [
      "Auto-assigning NUTS sampler...\n",
      "Initializing NUTS using jitter+adapt_diag...\n",
      "Multiprocess sampling (4 chains in 4 jobs)\n",
      "NUTS: [nu, Intercept, loc, sigma_loc]\n"
     ]
    },
    {
     "data": {
      "application/vnd.jupyter.widget-view+json": {
       "model_id": "51bf182067ab444c986ed12b937e352b",
       "version_major": 2,
       "version_minor": 0
      },
      "text/plain": [
       "Output()"
      ]
     },
     "metadata": {},
     "output_type": "display_data"
    },
    {
     "data": {
      "text/html": [
       "<pre style=\"white-space:pre;overflow-x:auto;line-height:normal;font-family:Menlo,'DejaVu Sans Mono',consolas,'Courier New',monospace\"></pre>\n"
      ],
      "text/plain": []
     },
     "metadata": {},
     "output_type": "display_data"
    },
    {
     "data": {
      "text/html": [
       "<pre style=\"white-space:pre;overflow-x:auto;line-height:normal;font-family:Menlo,'DejaVu Sans Mono',consolas,'Courier New',monospace\">\n",
       "</pre>\n"
      ],
      "text/plain": [
       "\n"
      ]
     },
     "metadata": {},
     "output_type": "display_data"
    },
    {
     "name": "stderr",
     "output_type": "stream",
     "text": [
      "Sampling 4 chains for 1_000 tune and 2_000 draw iterations (4_000 + 8_000 draws total) took 3 seconds.\n"
     ]
    }
   ],
   "source": [
    "from ministats.bayes import bayes_dmeans\n",
    "\n",
    "epricesW = eprices[eprices[\"loc\"]==\"West\"][\"price\"]\n",
    "epricesE = eprices[eprices[\"loc\"]==\"East\"][\"price\"]\n",
    "mod1, idata1 = bayes_dmeans(epricesW, epricesE, group_name=\"loc\", var_name=\"price\", groups=[\"West\", \"East\"])"
   ]
  },
  {
   "cell_type": "markdown",
   "id": "95015b1d-6354-47fa-917b-d4f0f9be5e53",
   "metadata": {},
   "source": [
    "### Model fitting and analysis"
   ]
  },
  {
   "cell_type": "code",
   "execution_count": 6,
   "id": "53962ca8-4ef1-49ee-849f-204056eeab39",
   "metadata": {
    "editable": true,
    "slideshow": {
     "slide_type": ""
    },
    "tags": []
   },
   "outputs": [
    {
     "ename": "KeyError",
     "evalue": "\"No variable named 'sigma'. Variables on the dataset include ['chain', 'draw', 'Intercept', 'loc_dim', 'loc', ..., 'sigma_loc_dim', 'sigma_loc', 'dmeans', 'mu_other', 'mu_West']\"",
     "output_type": "error",
     "traceback": [
      "\u001b[0;31m---------------------------------------------------------------------------\u001b[0m",
      "\u001b[0;31mKeyError\u001b[0m                                  Traceback (most recent call last)",
      "\u001b[0;32m~/Projects/Minireference/STATSbook/noBSstatsnotebooks/venv/lib/python3.12/site-packages/xarray/core/dataset.py\u001b[0m in \u001b[0;36m?\u001b[0;34m(self, name)\u001b[0m\n\u001b[1;32m   1477\u001b[0m             \u001b[0mvariable\u001b[0m \u001b[0;34m=\u001b[0m \u001b[0mself\u001b[0m\u001b[0;34m.\u001b[0m\u001b[0m_variables\u001b[0m\u001b[0;34m[\u001b[0m\u001b[0mname\u001b[0m\u001b[0;34m]\u001b[0m\u001b[0;34m\u001b[0m\u001b[0;34m\u001b[0m\u001b[0m\n\u001b[1;32m   1478\u001b[0m         \u001b[0;32mexcept\u001b[0m \u001b[0mKeyError\u001b[0m\u001b[0;34m:\u001b[0m\u001b[0;34m\u001b[0m\u001b[0;34m\u001b[0m\u001b[0m\n\u001b[0;32m-> 1479\u001b[0;31m             \u001b[0m_\u001b[0m\u001b[0;34m,\u001b[0m \u001b[0mname\u001b[0m\u001b[0;34m,\u001b[0m \u001b[0mvariable\u001b[0m \u001b[0;34m=\u001b[0m \u001b[0m_get_virtual_variable\u001b[0m\u001b[0;34m(\u001b[0m\u001b[0mself\u001b[0m\u001b[0;34m.\u001b[0m\u001b[0m_variables\u001b[0m\u001b[0;34m,\u001b[0m \u001b[0mname\u001b[0m\u001b[0;34m,\u001b[0m \u001b[0mself\u001b[0m\u001b[0;34m.\u001b[0m\u001b[0msizes\u001b[0m\u001b[0;34m)\u001b[0m\u001b[0;34m\u001b[0m\u001b[0;34m\u001b[0m\u001b[0m\n\u001b[0m\u001b[1;32m   1480\u001b[0m \u001b[0;34m\u001b[0m\u001b[0m\n",
      "\u001b[0;31mKeyError\u001b[0m: 'sigma'",
      "\nDuring handling of the above exception, another exception occurred:\n",
      "\u001b[0;31mKeyError\u001b[0m                                  Traceback (most recent call last)",
      "\u001b[0;32m~/Projects/Minireference/STATSbook/noBSstatsnotebooks/venv/lib/python3.12/site-packages/xarray/core/dataset.py\u001b[0m in \u001b[0;36m?\u001b[0;34m(self, key)\u001b[0m\n\u001b[1;32m   1576\u001b[0m                 \u001b[0;32mreturn\u001b[0m \u001b[0mself\u001b[0m\u001b[0;34m.\u001b[0m\u001b[0m_construct_dataarray\u001b[0m\u001b[0;34m(\u001b[0m\u001b[0mkey\u001b[0m\u001b[0;34m)\u001b[0m\u001b[0;34m\u001b[0m\u001b[0;34m\u001b[0m\u001b[0m\n\u001b[1;32m   1577\u001b[0m             \u001b[0;32mexcept\u001b[0m \u001b[0mKeyError\u001b[0m \u001b[0;32mas\u001b[0m \u001b[0me\u001b[0m\u001b[0;34m:\u001b[0m\u001b[0;34m\u001b[0m\u001b[0;34m\u001b[0m\u001b[0m\n\u001b[0;32m-> 1578\u001b[0;31m                 raise KeyError(\n\u001b[0m\u001b[1;32m   1579\u001b[0m                     \u001b[0;34mf\"\u001b[0m\u001b[0;34mNo variable named \u001b[0m\u001b[0;34m{\u001b[0m\u001b[0mkey\u001b[0m\u001b[0;34m!\u001b[0m\u001b[0mr\u001b[0m\u001b[0;34m}\u001b[0m\u001b[0;34m. Variables on the dataset include \u001b[0m\u001b[0;34m{\u001b[0m\u001b[0mshorten_list_repr\u001b[0m\u001b[0;34m(\u001b[0m\u001b[0mlist\u001b[0m\u001b[0;34m(\u001b[0m\u001b[0mself\u001b[0m\u001b[0;34m.\u001b[0m\u001b[0mvariables\u001b[0m\u001b[0;34m.\u001b[0m\u001b[0mkeys\u001b[0m\u001b[0;34m(\u001b[0m\u001b[0;34m)\u001b[0m\u001b[0;34m)\u001b[0m\u001b[0;34m,\u001b[0m \u001b[0mmax_items\u001b[0m\u001b[0;34m=\u001b[0m\u001b[0;36m10\u001b[0m\u001b[0;34m)\u001b[0m\u001b[0;34m}\u001b[0m\u001b[0;34m\"\u001b[0m\u001b[0;34m\u001b[0m\u001b[0;34m\u001b[0m\u001b[0m\n",
      "\u001b[0;32m~/Projects/Minireference/STATSbook/noBSstatsnotebooks/venv/lib/python3.12/site-packages/xarray/core/dataset.py\u001b[0m in \u001b[0;36m?\u001b[0;34m(self, name)\u001b[0m\n\u001b[1;32m   1477\u001b[0m             \u001b[0mvariable\u001b[0m \u001b[0;34m=\u001b[0m \u001b[0mself\u001b[0m\u001b[0;34m.\u001b[0m\u001b[0m_variables\u001b[0m\u001b[0;34m[\u001b[0m\u001b[0mname\u001b[0m\u001b[0;34m]\u001b[0m\u001b[0;34m\u001b[0m\u001b[0;34m\u001b[0m\u001b[0m\n\u001b[1;32m   1478\u001b[0m         \u001b[0;32mexcept\u001b[0m \u001b[0mKeyError\u001b[0m\u001b[0;34m:\u001b[0m\u001b[0;34m\u001b[0m\u001b[0;34m\u001b[0m\u001b[0m\n\u001b[0;32m-> 1479\u001b[0;31m             \u001b[0m_\u001b[0m\u001b[0;34m,\u001b[0m \u001b[0mname\u001b[0m\u001b[0;34m,\u001b[0m \u001b[0mvariable\u001b[0m \u001b[0;34m=\u001b[0m \u001b[0m_get_virtual_variable\u001b[0m\u001b[0;34m(\u001b[0m\u001b[0mself\u001b[0m\u001b[0;34m.\u001b[0m\u001b[0m_variables\u001b[0m\u001b[0;34m,\u001b[0m \u001b[0mname\u001b[0m\u001b[0;34m,\u001b[0m \u001b[0mself\u001b[0m\u001b[0;34m.\u001b[0m\u001b[0msizes\u001b[0m\u001b[0;34m)\u001b[0m\u001b[0;34m\u001b[0m\u001b[0;34m\u001b[0m\u001b[0m\n\u001b[0m\u001b[1;32m   1480\u001b[0m \u001b[0;34m\u001b[0m\u001b[0m\n",
      "\u001b[0;32m~/Projects/Minireference/STATSbook/noBSstatsnotebooks/venv/lib/python3.12/site-packages/xarray/core/dataset.py\u001b[0m in \u001b[0;36m?\u001b[0;34m(variables, key, dim_sizes)\u001b[0m\n\u001b[1;32m    211\u001b[0m     \u001b[0msplit_key\u001b[0m \u001b[0;34m=\u001b[0m \u001b[0mkey\u001b[0m\u001b[0;34m.\u001b[0m\u001b[0msplit\u001b[0m\u001b[0;34m(\u001b[0m\u001b[0;34m\".\"\u001b[0m\u001b[0;34m,\u001b[0m \u001b[0;36m1\u001b[0m\u001b[0;34m)\u001b[0m\u001b[0;34m\u001b[0m\u001b[0;34m\u001b[0m\u001b[0m\n\u001b[1;32m    212\u001b[0m     \u001b[0;32mif\u001b[0m \u001b[0mlen\u001b[0m\u001b[0;34m(\u001b[0m\u001b[0msplit_key\u001b[0m\u001b[0;34m)\u001b[0m \u001b[0;34m!=\u001b[0m \u001b[0;36m2\u001b[0m\u001b[0;34m:\u001b[0m\u001b[0;34m\u001b[0m\u001b[0;34m\u001b[0m\u001b[0m\n\u001b[0;32m--> 213\u001b[0;31m         \u001b[0;32mraise\u001b[0m \u001b[0mKeyError\u001b[0m\u001b[0;34m(\u001b[0m\u001b[0mkey\u001b[0m\u001b[0;34m)\u001b[0m\u001b[0;34m\u001b[0m\u001b[0;34m\u001b[0m\u001b[0m\n\u001b[0m\u001b[1;32m    214\u001b[0m \u001b[0;34m\u001b[0m\u001b[0m\n",
      "\u001b[0;31mKeyError\u001b[0m: 'sigma'",
      "\nThe above exception was the direct cause of the following exception:\n",
      "\u001b[0;31mKeyError\u001b[0m                                  Traceback (most recent call last)",
      "\u001b[0;32m/var/folders/yp/48zx9brn6mj6vmy50smb844w0000gn/T/ipykernel_33844/2085534061.py\u001b[0m in \u001b[0;36m?\u001b[0;34m()\u001b[0m\n\u001b[1;32m      1\u001b[0m \u001b[0;32mfrom\u001b[0m \u001b[0mministats\u001b[0m\u001b[0;34m.\u001b[0m\u001b[0mbayes\u001b[0m \u001b[0;32mimport\u001b[0m \u001b[0mcalc_dmeans_stats\u001b[0m\u001b[0;34m\u001b[0m\u001b[0;34m\u001b[0m\u001b[0m\n\u001b[0;32m----> 2\u001b[0;31m \u001b[0mcalc_dmeans_stats\u001b[0m\u001b[0;34m(\u001b[0m\u001b[0midata1\u001b[0m\u001b[0;34m,\u001b[0m \u001b[0mgroup_name\u001b[0m\u001b[0;34m=\u001b[0m\u001b[0;34m\"loc\"\u001b[0m\u001b[0;34m)\u001b[0m\u001b[0;34m;\u001b[0m\u001b[0;34m\u001b[0m\u001b[0;34m\u001b[0m\u001b[0m\n\u001b[0m\u001b[1;32m      3\u001b[0m az.summary(idata1, kind=\"stats\", hdi_prob=0.95,\n\u001b[1;32m      4\u001b[0m            \u001b[0mvar_names\u001b[0m\u001b[0;34m=\u001b[0m\u001b[0;34m[\u001b[0m\u001b[0;34m\"dmeans\"\u001b[0m\u001b[0;34m,\u001b[0m \u001b[0;34m\"sigma_West\"\u001b[0m\u001b[0;34m,\u001b[0m \u001b[0;34m\"sigma_East\"\u001b[0m\u001b[0;34m,\u001b[0m \u001b[0;34m\"dstd\"\u001b[0m\u001b[0;34m,\u001b[0m \u001b[0;34m\"nu\"\u001b[0m\u001b[0;34m,\u001b[0m \u001b[0;34m\"cohend\"\u001b[0m\u001b[0;34m]\u001b[0m\u001b[0;34m)\u001b[0m\u001b[0;34m\u001b[0m\u001b[0;34m\u001b[0m\u001b[0m\n",
      "\u001b[0;32m~/Projects/Minireference/software/ministats/ministats/bayes.py\u001b[0m in \u001b[0;36m?\u001b[0;34m(idata, group_name)\u001b[0m\n\u001b[1;32m    163\u001b[0m         \u001b[0mpost\u001b[0m\u001b[0;34m[\u001b[0m\u001b[0;34m\"cohend\"\u001b[0m\u001b[0;34m]\u001b[0m \u001b[0;34m=\u001b[0m \u001b[0mpost\u001b[0m\u001b[0;34m[\u001b[0m\u001b[0;34m\"dmeans\"\u001b[0m\u001b[0;34m]\u001b[0m \u001b[0;34m/\u001b[0m \u001b[0mnp\u001b[0m\u001b[0;34m.\u001b[0m\u001b[0msqrt\u001b[0m\u001b[0;34m(\u001b[0m\u001b[0mvar_pooled\u001b[0m\u001b[0;34m)\u001b[0m\u001b[0;34m\u001b[0m\u001b[0;34m\u001b[0m\u001b[0m\n\u001b[1;32m    164\u001b[0m     \u001b[0;32melse\u001b[0m\u001b[0;34m:\u001b[0m\u001b[0;34m\u001b[0m\u001b[0;34m\u001b[0m\u001b[0m\n\u001b[1;32m    165\u001b[0m         \u001b[0;31m# post[\"sigma\"] is already on the right scale\u001b[0m\u001b[0;34m\u001b[0m\u001b[0;34m\u001b[0m\u001b[0m\n\u001b[1;32m    166\u001b[0m         \u001b[0;31m# Effect size\u001b[0m\u001b[0;34m\u001b[0m\u001b[0;34m\u001b[0m\u001b[0m\n\u001b[0;32m--> 167\u001b[0;31m         \u001b[0mpost\u001b[0m\u001b[0;34m[\u001b[0m\u001b[0;34m\"cohend\"\u001b[0m\u001b[0;34m]\u001b[0m \u001b[0;34m=\u001b[0m \u001b[0mpost\u001b[0m\u001b[0;34m[\u001b[0m\u001b[0;34m\"dmeans\"\u001b[0m\u001b[0;34m]\u001b[0m \u001b[0;34m/\u001b[0m \u001b[0mpost\u001b[0m\u001b[0;34m[\u001b[0m\u001b[0;34m\"sigma\"\u001b[0m\u001b[0;34m]\u001b[0m\u001b[0;34m\u001b[0m\u001b[0;34m\u001b[0m\u001b[0m\n\u001b[0m\u001b[1;32m    168\u001b[0m \u001b[0;34m\u001b[0m\u001b[0m\n\u001b[1;32m    169\u001b[0m     \u001b[0;32mreturn\u001b[0m \u001b[0midata\u001b[0m\u001b[0;34m\u001b[0m\u001b[0;34m\u001b[0m\u001b[0m\n",
      "\u001b[0;32m~/Projects/Minireference/STATSbook/noBSstatsnotebooks/venv/lib/python3.12/site-packages/xarray/core/dataset.py\u001b[0m in \u001b[0;36m?\u001b[0;34m(self, key)\u001b[0m\n\u001b[1;32m   1574\u001b[0m         \u001b[0;32mif\u001b[0m \u001b[0mutils\u001b[0m\u001b[0;34m.\u001b[0m\u001b[0mhashable\u001b[0m\u001b[0;34m(\u001b[0m\u001b[0mkey\u001b[0m\u001b[0;34m)\u001b[0m\u001b[0;34m:\u001b[0m\u001b[0;34m\u001b[0m\u001b[0;34m\u001b[0m\u001b[0m\n\u001b[1;32m   1575\u001b[0m             \u001b[0;32mtry\u001b[0m\u001b[0;34m:\u001b[0m\u001b[0;34m\u001b[0m\u001b[0;34m\u001b[0m\u001b[0m\n\u001b[1;32m   1576\u001b[0m                 \u001b[0;32mreturn\u001b[0m \u001b[0mself\u001b[0m\u001b[0;34m.\u001b[0m\u001b[0m_construct_dataarray\u001b[0m\u001b[0;34m(\u001b[0m\u001b[0mkey\u001b[0m\u001b[0;34m)\u001b[0m\u001b[0;34m\u001b[0m\u001b[0;34m\u001b[0m\u001b[0m\n\u001b[1;32m   1577\u001b[0m             \u001b[0;32mexcept\u001b[0m \u001b[0mKeyError\u001b[0m \u001b[0;32mas\u001b[0m \u001b[0me\u001b[0m\u001b[0;34m:\u001b[0m\u001b[0;34m\u001b[0m\u001b[0;34m\u001b[0m\u001b[0m\n\u001b[0;32m-> 1578\u001b[0;31m                 raise KeyError(\n\u001b[0m\u001b[1;32m   1579\u001b[0m                     \u001b[0;34mf\"\u001b[0m\u001b[0;34mNo variable named \u001b[0m\u001b[0;34m{\u001b[0m\u001b[0mkey\u001b[0m\u001b[0;34m!\u001b[0m\u001b[0mr\u001b[0m\u001b[0;34m}\u001b[0m\u001b[0;34m. Variables on the dataset include \u001b[0m\u001b[0;34m{\u001b[0m\u001b[0mshorten_list_repr\u001b[0m\u001b[0;34m(\u001b[0m\u001b[0mlist\u001b[0m\u001b[0;34m(\u001b[0m\u001b[0mself\u001b[0m\u001b[0;34m.\u001b[0m\u001b[0mvariables\u001b[0m\u001b[0;34m.\u001b[0m\u001b[0mkeys\u001b[0m\u001b[0;34m(\u001b[0m\u001b[0;34m)\u001b[0m\u001b[0;34m)\u001b[0m\u001b[0;34m,\u001b[0m \u001b[0mmax_items\u001b[0m\u001b[0;34m=\u001b[0m\u001b[0;36m10\u001b[0m\u001b[0;34m)\u001b[0m\u001b[0;34m}\u001b[0m\u001b[0;34m\"\u001b[0m\u001b[0;34m\u001b[0m\u001b[0;34m\u001b[0m\u001b[0m\n\u001b[1;32m   1580\u001b[0m                 \u001b[0;34m)\u001b[0m \u001b[0;32mfrom\u001b[0m \u001b[0me\u001b[0m\u001b[0;34m\u001b[0m\u001b[0;34m\u001b[0m\u001b[0m\n\u001b[1;32m   1581\u001b[0m \u001b[0;34m\u001b[0m\u001b[0m\n",
      "\u001b[0;31mKeyError\u001b[0m: \"No variable named 'sigma'. Variables on the dataset include ['chain', 'draw', 'Intercept', 'loc_dim', 'loc', ..., 'sigma_loc_dim', 'sigma_loc', 'dmeans', 'mu_other', 'mu_West']\""
     ]
    }
   ],
   "source": [
    "from ministats.bayes import calc_dmeans_stats\n",
    "calc_dmeans_stats(idata1, group_name=\"loc\");\n",
    "az.summary(idata1, kind=\"stats\", hdi_prob=0.95,\n",
    "           var_names=[\"dmeans\", \"sigma_West\", \"sigma_East\", \"dstd\", \"nu\", \"cohend\"])"
   ]
  },
  {
   "cell_type": "code",
   "execution_count": null,
   "id": "80935bfc-9ae3-47c2-81f1-749f050b25c9",
   "metadata": {
    "editable": true,
    "slideshow": {
     "slide_type": ""
    },
    "tags": []
   },
   "outputs": [],
   "source": [
    "from ministats.bayes import plot_dmeans_stats\n",
    "plot_dmeans_stats(mod1, idata1, group_name=\"loc\");"
   ]
  },
  {
   "cell_type": "markdown",
   "id": "775fae7e-9c34-48fc-b38c-ed8fae963d09",
   "metadata": {},
   "source": [
    "### Compare to previous results"
   ]
  },
  {
   "cell_type": "markdown",
   "id": "d43aeaec-a290-4446-a70b-5e884393ac8a",
   "metadata": {},
   "source": [
    "### Conclusions"
   ]
  },
  {
   "cell_type": "markdown",
   "id": "520ee7a4-c570-4f85-8197-0f7467c00c18",
   "metadata": {
    "editable": true,
    "slideshow": {
     "slide_type": ""
    },
    "tags": []
   },
   "source": [
    "## Example 2: comparing IQ scores\n",
    "\n",
    "We'll look at IQ scores data taken from a the paper *Bayesian Estimation Supersedes the t-Test* (BEST) by John K. Kruschke."
   ]
  },
  {
   "cell_type": "markdown",
   "id": "b1097e0d-0c9e-48e5-968d-6f1120fe787e",
   "metadata": {},
   "source": [
    "### Data"
   ]
  },
  {
   "cell_type": "code",
   "execution_count": null,
   "id": "329372c0-3b95-494a-b0ac-89b9aede5b1e",
   "metadata": {},
   "outputs": [],
   "source": [
    "iqs2 = pd.read_csv(\"../datasets/exercises/iqs2.csv\")\n",
    "iqs2.groupby(\"group\")[\"iq\"].describe()"
   ]
  },
  {
   "cell_type": "code",
   "execution_count": null,
   "id": "ce553b50-d548-48e5-9327-63a19cc24471",
   "metadata": {},
   "outputs": [],
   "source": [
    "sns.histplot(data=iqs2, x=\"iq\", hue=\"group\");"
   ]
  },
  {
   "cell_type": "markdown",
   "id": "46575869-3d6e-4b59-ad75-00a1c7f60432",
   "metadata": {},
   "source": [
    "### Bayesian model\n",
    "TODO: add formulas"
   ]
  },
  {
   "cell_type": "markdown",
   "id": "d7994bfd-5b24-4a02-be1e-afcf02fa53ec",
   "metadata": {},
   "source": [
    "### Bambi model"
   ]
  },
  {
   "cell_type": "code",
   "execution_count": null,
   "id": "92e66054-d481-4ab4-856e-790b6b049c6c",
   "metadata": {},
   "outputs": [],
   "source": [
    "formula2 = bmb.Formula(\"iq ~ 1 + group\",\n",
    "                       \"sigma ~ 0 + group\")\n",
    "\n",
    "mod2 = bmb.Model(formula=formula2,\n",
    "                 family=\"t\",\n",
    "                 link=\"identity\",\n",
    "                 data=iqs2)\n",
    "mod2"
   ]
  },
  {
   "cell_type": "code",
   "execution_count": null,
   "id": "72e1aad6-14c9-421f-bf92-78e98fa79a8d",
   "metadata": {},
   "outputs": [],
   "source": [
    "# # ALT use the function\n",
    "# from ministats.bayes import bayes_dmeans\n",
    "# treated = iqs2[iqs2[\"group\"]==\"treat\"][\"iq\"].values\n",
    "# controls = iqs2[iqs2[\"group\"]==\"ctrl\"][\"iq\"].values\n",
    "# mod2, idata2 = bayes_dmeans(treated, controls, var_name=\"iq\",\n",
    "#                             group_name=\"group\", groups=[\"treat\", \"ctrl\"])"
   ]
  },
  {
   "cell_type": "code",
   "execution_count": null,
   "id": "0e04a352-ff28-43fb-a290-f154ac85987f",
   "metadata": {},
   "outputs": [],
   "source": [
    "mod2.build()\n",
    "mod2.graph()"
   ]
  },
  {
   "cell_type": "markdown",
   "id": "c9a39107-bf2a-4fc0-8f63-8fd6c6c62d0b",
   "metadata": {},
   "source": [
    "### Model fitting and analysis"
   ]
  },
  {
   "cell_type": "code",
   "execution_count": null,
   "id": "75356fb0-a705-4c5f-b53b-83a65a551794",
   "metadata": {},
   "outputs": [],
   "source": [
    "idata2 = mod2.fit(draws=5000)"
   ]
  },
  {
   "cell_type": "code",
   "execution_count": null,
   "id": "9f03ed92-ff91-4c67-9539-21e9209bcee1",
   "metadata": {},
   "outputs": [],
   "source": [
    "from ministats.bayes import calc_dmeans_stats\n",
    "calc_dmeans_stats(idata2, group_name=\"group\");\n",
    "az.summary(idata2, kind=\"stats\", hdi_prob=0.95,\n",
    "           var_names=[\"dmeans\", \"sigma_treat\", \"sigma_ctrl\", \"dstd\", \"nu\", \"cohend\"])"
   ]
  },
  {
   "cell_type": "code",
   "execution_count": null,
   "id": "a6f665f7-c164-41a7-ad42-fc90668630d3",
   "metadata": {
    "editable": true,
    "slideshow": {
     "slide_type": ""
    },
    "tags": []
   },
   "outputs": [],
   "source": [
    "# ALT. manual calculations\n",
    "# post2 = idata2[\"posterior\"]\n",
    "# # Calculate sigmas from log-sigmas\n",
    "# post2[\"sigma_treat\"] = np.exp(post2[\"sigma_group\"][:,:,1])\n",
    "# post2[\"sigma_ctrl\"] = np.exp(post2[\"sigma_group\"][:,:,0])\n",
    "# # Difference in standard deviations\n",
    "# post2[\"dstd\"] = post2[\"sigma_treat\"] - post2[\"sigma_ctrl\"]"
   ]
  },
  {
   "cell_type": "code",
   "execution_count": null,
   "id": "a4ea13fa-6dbd-4fc4-83f6-d6dbae01f0b4",
   "metadata": {},
   "outputs": [],
   "source": [
    "from ministats.bayes import plot_dmeans_stats\n",
    "plot_dmeans_stats(mod2, idata2, group_name=\"group\", ppc_xlims=[90,110]);"
   ]
  },
  {
   "cell_type": "markdown",
   "id": "75784007-cf65-4c8d-9ac3-689cf86f39ec",
   "metadata": {},
   "source": [
    "### Compare to previous results"
   ]
  },
  {
   "cell_type": "markdown",
   "id": "46208173-581f-4852-b340-c9c251f4dba1",
   "metadata": {},
   "source": [
    "### Conclusions"
   ]
  },
  {
   "cell_type": "code",
   "execution_count": null,
   "id": "dd073d15-d916-4a16-bf29-2b56e80f6ee0",
   "metadata": {},
   "outputs": [],
   "source": []
  },
  {
   "cell_type": "code",
   "execution_count": null,
   "id": "03bfb2bb-ef39-49c5-aeb9-241dc111ee24",
   "metadata": {},
   "outputs": [],
   "source": []
  },
  {
   "cell_type": "markdown",
   "id": "5c22d2cd-f0ad-415c-bf83-02274964f34f",
   "metadata": {
    "editable": true,
    "slideshow": {
     "slide_type": ""
    },
    "tags": []
   },
   "source": [
    "## Example 3: lecture and debate curriculums\n"
   ]
  },
  {
   "cell_type": "markdown",
   "id": "8989b9c3-faca-4f51-abc7-b237a1789c58",
   "metadata": {},
   "source": [
    "### Students dataset"
   ]
  },
  {
   "cell_type": "code",
   "execution_count": null,
   "id": "70ed94d8-b6cf-4836-af11-853b282ef82b",
   "metadata": {},
   "outputs": [],
   "source": [
    "students = pd.read_csv(\"../datasets/students.csv\")\n",
    "students.groupby(\"curriculum\")[\"score\"].describe()"
   ]
  },
  {
   "cell_type": "markdown",
   "id": "4cb268b7-4f83-4157-a106-9bdb0a76cbaa",
   "metadata": {},
   "source": [
    "### Bayesian model\n",
    "TODO: add formulas"
   ]
  },
  {
   "cell_type": "markdown",
   "id": "663b34ab-6027-4ef5-be61-50480253aba3",
   "metadata": {},
   "source": [
    "### Bambi model"
   ]
  },
  {
   "cell_type": "code",
   "execution_count": null,
   "id": "736d31b7-4720-4546-ac75-06e2492f1797",
   "metadata": {},
   "outputs": [],
   "source": [
    "from ministats.bayes import bayes_dmeans\n",
    "\n",
    "studentsD = students[students[\"curriculum\"]==\"debate\"]\n",
    "studentsL = students[students[\"curriculum\"]==\"lecture\"]\n",
    "scoresD = studentsD[\"score\"]\n",
    "scoresL = studentsL[\"score\"]\n",
    "\n",
    "mod3, idata3 = bayes_dmeans(scoresD, scoresL, group_name=\"curriculum\", var_name=\"score\", groups=[\"debate\", \"lecture\"])"
   ]
  },
  {
   "cell_type": "markdown",
   "id": "1574ecfa-f90b-4ee5-9fb0-c0b1bbe937bb",
   "metadata": {},
   "source": [
    "### Model fitting and analysis"
   ]
  },
  {
   "cell_type": "code",
   "execution_count": null,
   "id": "0d472862-a587-40c2-890d-88e40e54fdc5",
   "metadata": {
    "editable": true,
    "slideshow": {
     "slide_type": ""
    },
    "tags": []
   },
   "outputs": [],
   "source": [
    "from ministats.bayes import calc_dmeans_stats\n",
    "calc_dmeans_stats(idata3, group_name=\"curriculum\");\n",
    "az.summary(idata3, kind=\"stats\", hdi_prob=0.95,\n",
    "           var_names=[\"dmeans\", \"sigma_debate\", \"sigma_lecture\", \"dstd\", \"nu\", \"cohend\"])"
   ]
  },
  {
   "cell_type": "code",
   "execution_count": null,
   "id": "d4fb1872-e058-45b0-8659-d23e9d1af3b8",
   "metadata": {},
   "outputs": [],
   "source": [
    "from ministats.bayes import plot_dmeans_stats\n",
    "plot_dmeans_stats(mod3, idata3, group_name=\"curriculum\", ppc_xlims=[50,100]);"
   ]
  },
  {
   "cell_type": "markdown",
   "id": "b0ddfb3b-a243-4b40-bac3-c9bd381164fe",
   "metadata": {},
   "source": [
    "### Compare to previous results"
   ]
  },
  {
   "cell_type": "markdown",
   "id": "2ce4d847-abbd-4663-8fd2-c6ba6bf582ef",
   "metadata": {},
   "source": [
    "### Conclusions"
   ]
  },
  {
   "cell_type": "markdown",
   "id": "e2ec16cd-430a-4b32-8c79-81f5ef9a8851",
   "metadata": {},
   "source": [
    "## Explanations"
   ]
  },
  {
   "cell_type": "markdown",
   "id": "805d159f-578e-4e04-a311-79aa3b1f7e5d",
   "metadata": {
    "editable": true,
    "slideshow": {
     "slide_type": ""
    },
    "tags": []
   },
   "source": [
    "## Discussion"
   ]
  },
  {
   "cell_type": "markdown",
   "id": "2d553ba1-b79a-428b-b498-eca810eec259",
   "metadata": {},
   "source": [
    "## Exercises"
   ]
  },
  {
   "cell_type": "markdown",
   "id": "c3913c71-7803-4989-8182-1fb0be817713",
   "metadata": {},
   "source": [
    "### Exercise 1: small samples"
   ]
  },
  {
   "cell_type": "code",
   "execution_count": null,
   "id": "acee1560-da0b-4ecb-8737-dc5765f23171",
   "metadata": {},
   "outputs": [],
   "source": [
    "As = [5.77, 5.33, 4.59, 4.33, 3.66, 4.48]\n",
    "Bs = [3.88, 3.55, 3.29, 2.59, 2.33, 3.59]\n",
    "groups = [\"A\"]*len(As) + [\"B\"]*len(Bs)\n",
    "df1 = pd.DataFrame({\"group\": groups, \"vals\": As + Bs})\n",
    "# df1"
   ]
  },
  {
   "cell_type": "code",
   "execution_count": null,
   "id": "10ec215b-2b91-4282-905a-01d5b13cd2aa",
   "metadata": {
    "editable": true,
    "slideshow": {
     "slide_type": ""
    },
    "tags": []
   },
   "outputs": [],
   "source": []
  },
  {
   "cell_type": "code",
   "execution_count": null,
   "id": "7a65b745-31cb-488e-94a7-77fd3349fbe6",
   "metadata": {},
   "outputs": [],
   "source": [
    "from scipy.stats import t as tdist\n",
    "\n",
    "tdist(loc=100, scale=10, df=2.1).std()"
   ]
  },
  {
   "cell_type": "code",
   "execution_count": null,
   "id": "cd3825a4-cea5-4a77-8681-8eec6e9ef3dd",
   "metadata": {},
   "outputs": [],
   "source": [
    "10 * np.sqrt(2.1 / (2.1-2))"
   ]
  },
  {
   "cell_type": "code",
   "execution_count": null,
   "id": "008e96b9-64ab-42c7-980c-98df5a80536d",
   "metadata": {},
   "outputs": [],
   "source": []
  },
  {
   "cell_type": "code",
   "execution_count": null,
   "id": "11776ddd-8be4-4e76-85be-3b8a8f941473",
   "metadata": {},
   "outputs": [],
   "source": [
    "# New Default prior in R BEST code\n",
    "from scipy.stats import gamma\n",
    "\n",
    "nuMean = 30\n",
    "nuSD = 30\n",
    "\n",
    "alpha = nuMean**2 / nuSD**2  # shape\n",
    "beta = nuMean / nuSD**2   # rate\n",
    "print(f\"{alpha=} {beta=}\")\n",
    "\n",
    "rv_Nu = gamma(a=alpha, scale=1/beta)\n",
    "xs = np.linspace(0,100)\n",
    "ax = sns.lineplot(x=xs, y=rv_Nu.pdf(xs));"
   ]
  },
  {
   "cell_type": "code",
   "execution_count": null,
   "id": "84015eb9-af99-45d9-b0af-5a2055337aa3",
   "metadata": {},
   "outputs": [],
   "source": [
    "# Bambi default prior for `nu`\n",
    "rv_Nu2 = gamma(a=2, scale=10)\n",
    "xs = np.linspace(0,100)\n",
    "sns.lineplot(x=xs, y=rv_Nu2.pdf(xs))"
   ]
  },
  {
   "cell_type": "code",
   "execution_count": null,
   "id": "387123fe-7c1f-41db-9501-f30445ab2c05",
   "metadata": {},
   "outputs": [],
   "source": []
  },
  {
   "cell_type": "markdown",
   "id": "3f61b286-91ee-4c1d-8741-71f345f5c997",
   "metadata": {
    "editable": true,
    "slideshow": {
     "slide_type": ""
    },
    "tags": []
   },
   "source": [
    "## Links"
   ]
  },
  {
   "cell_type": "code",
   "execution_count": null,
   "id": "ce9ea44a-f037-429a-9c8b-9f8407a464ea",
   "metadata": {},
   "outputs": [],
   "source": []
  },
  {
   "cell_type": "code",
   "execution_count": null,
   "id": "665e2508-af55-414a-8616-fc025c6e1b5f",
   "metadata": {},
   "outputs": [],
   "source": []
  },
  {
   "cell_type": "markdown",
   "id": "962471ba-d133-4148-9404-f07b3519da50",
   "metadata": {},
   "source": [
    "# BONUS Examples"
   ]
  },
  {
   "cell_type": "markdown",
   "id": "4c380376-db26-42ea-a6b0-37ef77dcb11d",
   "metadata": {},
   "source": [
    "## Example 4: small example form BEST vignette\n",
    "\n",
    "See http://cran.nexr.com/web/packages/BEST/vignettes/BEST.pdf#page=2\n"
   ]
  },
  {
   "cell_type": "code",
   "execution_count": null,
   "id": "a60f47f4-c2ff-486f-a89f-516fad08be12",
   "metadata": {},
   "outputs": [],
   "source": [
    "y1s = [5.77, 5.33, 4.59, 4.33, 3.66, 4.48]\n",
    "y2s = [3.88, 3.55, 3.29, 2.59, 2.33, 3.59]\n",
    "\n",
    "from ministats.bayes import bayes_dmeans\n",
    "mod4, idata4 = bayes_dmeans(y1s, y2s, groups=[\"y1\", \"y2\"])"
   ]
  },
  {
   "cell_type": "code",
   "execution_count": null,
   "id": "5af6cbfa-4620-4a1a-a491-2f833bf80c9e",
   "metadata": {},
   "outputs": [],
   "source": [
    "from ministats.bayes import calc_dmeans_stats\n",
    "calc_dmeans_stats(idata4)\n",
    "az.summary(idata4, kind=\"stats\", hdi_prob=0.95,\n",
    "           var_names=[\"dmeans\", \"sigma_y1\", \"sigma_y2\", \"dstd\", \"nu\", \"cohend\"])"
   ]
  },
  {
   "cell_type": "code",
   "execution_count": null,
   "id": "734115dd-9921-4ceb-af1a-8eb2ed1bd358",
   "metadata": {},
   "outputs": [],
   "source": [
    "from ministats.bayes import plot_dmeans_stats\n",
    "plot_dmeans_stats(mod4, idata4, ppc_xlims=None);"
   ]
  },
  {
   "cell_type": "markdown",
   "id": "ab400d09-eb2e-4b24-a7f2-2dd04ef10f20",
   "metadata": {},
   "source": [
    "## Example 5: comparing morning to evening\n",
    "\n",
    "https://github.com/treszkai/best/blob/master/examples/paired_samples.py\n"
   ]
  },
  {
   "cell_type": "code",
   "execution_count": null,
   "id": "fb4e6041-e58f-421e-a6b9-e555379e1e34",
   "metadata": {
    "editable": true,
    "slideshow": {
     "slide_type": ""
    },
    "tags": []
   },
   "outputs": [],
   "source": [
    "morning = [8.99, 9.21, 9.03, 9.15, 8.68, 8.82, 8.66, 8.82, 8.59, 8.14,\n",
    "           9.09, 8.80, 8.18, 9.23, 8.55, 9.03, 9.36, 9.06, 9.57, 8.38]\n",
    "evening = [9.82, 9.34, 9.73, 9.93, 9.33, 9.41, 9.48, 9.14, 8.62, 8.60,\n",
    "           9.60, 9.41, 8.43, 9.77, 8.96, 9.81, 9.75, 9.50, 9.90, 9.13]"
   ]
  },
  {
   "cell_type": "code",
   "execution_count": null,
   "id": "770b93ee-a58e-4119-969c-89af166f8379",
   "metadata": {},
   "outputs": [],
   "source": [
    "from ministats.bayes import bayes_dmeans\n",
    "mod5, idata5 = bayes_dmeans(evening, morning, groups=[\"evening\", \"morning\"])"
   ]
  },
  {
   "cell_type": "code",
   "execution_count": null,
   "id": "6309803e-50c7-40c3-929e-1f8591b3d60c",
   "metadata": {},
   "outputs": [],
   "source": [
    "from ministats.bayes import calc_dmeans_stats\n",
    "calc_dmeans_stats(idata5)\n",
    "az.summary(idata5, kind=\"stats\", hdi_prob=0.95,\n",
    "           var_names=[\"dmeans\", \"sigma_evening\", \"sigma_morning\", \"dstd\", \"nu\", \"cohend\"])"
   ]
  },
  {
   "cell_type": "code",
   "execution_count": null,
   "id": "fff8ab20-7ed4-476d-9f8a-2a7e2f54a335",
   "metadata": {},
   "outputs": [],
   "source": [
    "from ministats.bayes import plot_dmeans_stats\n",
    "plot_dmeans_stats(mod5, idata5, ppc_xlims=None);"
   ]
  },
  {
   "cell_type": "code",
   "execution_count": null,
   "id": "896136bd-7b43-4d80-9aaa-11e9dfcfc89f",
   "metadata": {},
   "outputs": [],
   "source": []
  }
 ],
 "metadata": {
  "kernelspec": {
   "display_name": "Python 3 (ipykernel)",
   "language": "python",
   "name": "python3"
  },
  "language_info": {
   "codemirror_mode": {
    "name": "ipython",
    "version": 3
   },
   "file_extension": ".py",
   "mimetype": "text/x-python",
   "name": "python",
   "nbconvert_exporter": "python",
   "pygments_lexer": "ipython3",
   "version": "3.12.4"
  }
 },
 "nbformat": 4,
 "nbformat_minor": 5
}
