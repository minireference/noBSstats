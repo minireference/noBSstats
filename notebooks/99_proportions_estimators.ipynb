{
 "cells": [
  {
   "cell_type": "markdown",
   "id": "277303fe-2c60-46fd-90d0-7ec86ad48191",
   "metadata": {},
   "source": [
    "# Estimators for categorical variables"
   ]
  },
  {
   "cell_type": "code",
   "execution_count": null,
   "id": "f1feaa1d-dfbf-4651-94da-651f1d1c88ab",
   "metadata": {},
   "outputs": [],
   "source": []
  },
  {
   "cell_type": "markdown",
   "id": "21e70ec0-bc7e-4f32-adef-3754121f976b",
   "metadata": {
    "tags": []
   },
   "source": [
    "#### Notebook setup"
   ]
  },
  {
   "cell_type": "code",
   "execution_count": 1,
   "id": "58544dea-2efa-461b-82e6-a5ea06624579",
   "metadata": {},
   "outputs": [],
   "source": [
    "# load Python modules\n",
    "import os\n",
    "import numpy as np\n",
    "import pandas as pd\n",
    "import seaborn as sns\n",
    "import matplotlib.pyplot as plt"
   ]
  },
  {
   "cell_type": "code",
   "execution_count": 2,
   "id": "c61ba0ab-ab46-4771-8a6e-041e4a456307",
   "metadata": {},
   "outputs": [],
   "source": [
    "# Plot helper functions\n",
    "from plot_helpers import plot_pdf\n",
    "from plot_helpers import savefigure"
   ]
  },
  {
   "cell_type": "code",
   "execution_count": 3,
   "id": "9bfe6f7d-2330-4ad7-83f5-6731cca1dd6f",
   "metadata": {},
   "outputs": [
    {
     "data": {
      "text/plain": [
       "<Figure size 640x480 with 0 Axes>"
      ]
     },
     "metadata": {},
     "output_type": "display_data"
    }
   ],
   "source": [
    "# Figures setup\n",
    "plt.clf()  # needed otherwise `sns.set_theme` doesn't work\n",
    "from plot_helpers import RCPARAMS\n",
    "RCPARAMS.update({'figure.figsize': (10, 3)})   # good for screen\n",
    "# RCPARAMS.update({'figure.figsize': (5, 1.6)})  # good for print\n",
    "sns.set_theme(\n",
    "    context=\"paper\",\n",
    "    style=\"whitegrid\",\n",
    "    palette=\"colorblind\",\n",
    "    rc=RCPARAMS,\n",
    ")\n",
    "\n",
    "# Useful colors\n",
    "snspal = sns.color_palette()\n",
    "blue, orange, purple = snspal[0], snspal[1], snspal[4]\n",
    "\n",
    "# High-resolution please\n",
    "%config InlineBackend.figure_format = 'retina'\n",
    "\n",
    "# Where to store figures\n",
    "DESTDIR = \"figures/stats/confidence_intervals\""
   ]
  },
  {
   "cell_type": "code",
   "execution_count": 4,
   "id": "0b38fa7c-89ef-4372-bd98-b31f2e43883f",
   "metadata": {},
   "outputs": [],
   "source": [
    "# set random seed for repeatability\n",
    "np.random.seed(42)"
   ]
  },
  {
   "cell_type": "code",
   "execution_count": 5,
   "id": "b002fd7c-230e-455c-afd1-2c9e35beee02",
   "metadata": {},
   "outputs": [],
   "source": [
    "#######################################################"
   ]
  },
  {
   "cell_type": "markdown",
   "id": "8f421ad5-d977-4095-99eb-a97d8d5abe2a",
   "metadata": {},
   "source": [
    "$\\def\\stderr#1{\\mathbf{se}_{#1}}$\n",
    "$\\def\\stderrhat#1{\\hat{\\mathbf{se}}_{#1}}$\n",
    "$\\newcommand{\\Mean}{\\textbf{Mean}}$\n",
    "$\\newcommand{\\Var}{\\textbf{Var}}$\n",
    "$\\newcommand{\\Std}{\\textbf{Std}}$\n",
    "$\\newcommand{\\Freq}{\\textbf{Freq}}$\n",
    "$\\newcommand{\\RelFreq}{\\textbf{RelFreq}}$\n",
    "$\\newcommand{\\DMeans}{\\textbf{DMeans}}$\n",
    "$\\newcommand{\\Prop}{\\textbf{Prop}}$\n",
    "$\\newcommand{\\DProps}{\\textbf{DProps}}$\n",
    "\n",
    "$$\n",
    "\\newcommand{\\CI}[1]{\\textbf{CI}_{#1}}\n",
    "\\newcommand{\\CIL}[1]{\\textbf{L}_{#1}}\n",
    "\\newcommand{\\CIU}[1]{\\textbf{U}_{#1}}\n",
    "\\newcommand{\\ci}[1]{\\textbf{ci}_{#1}}\n",
    "\\newcommand{\\cil}[1]{\\textbf{l}_{#1}}\n",
    "\\newcommand{\\ciu}[1]{\\textbf{u}_{#1}}\n",
    "$$\n",
    "\n",
    "\n",
    "(this cell contains the macro definitions like $\\stderr{\\overline{\\mathbf{x}}}$, $\\stderrhat{}$, $\\Mean$, ...)"
   ]
  },
  {
   "cell_type": "markdown",
   "id": "30e19a53-a8b7-4afe-baf4-6efb4470a3b4",
   "metadata": {},
   "source": [
    "# Estimators for categorical variables\n",
    "\n",
    "We'll also discuss estimators for working with samples of discrete values, based on counting:"
   ]
  },
  {
   "cell_type": "markdown",
   "id": "e2c0f7bb-e67e-46ab-a446-1ee1ab979cc4",
   "metadata": {},
   "source": [
    "#### Sample proportion\n",
    "  - estimator: $\\widehat{p} = \\RelFreq_{\\mathbf{x}}(1) = \\frac{ \\textrm{count of } 1\\textrm{s in } \\mathbf{x} }{n}$\n",
    "  - gives an estimate of the parameter $p$ for a Bernoulli population"
   ]
  },
  {
   "cell_type": "code",
   "execution_count": 6,
   "id": "dc28d93e-5340-4269-8a3c-0dbef8aa8665",
   "metadata": {},
   "outputs": [],
   "source": [
    "def prop(sample):\n",
    "    \"\"\"\n",
    "    Compute the proportion of success (1) outcomes in `sample`.\n",
    "    \"\"\"\n",
    "    counts = sample.value_counts()\n",
    "    count_ones = counts[1]\n",
    "    phat = count_ones / len(sample)\n",
    "    return phat"
   ]
  },
  {
   "cell_type": "markdown",
   "id": "7cdf4e21-f01a-4af1-98f6-6e01ca83bde0",
   "metadata": {},
   "source": [
    "#### Difference between sample proportions\n",
    "  - estimator: $\\hat{d} = \\DProps(\\mathbf{x}, \\mathbf{y}) = \\widehat{p}_{\\mathbf{x}} - \\widehat{p}_{\\mathbf{y}}$\n",
    "  - gives an estimate for the difference between population proportions $\\delta = p_x - p_y$"
   ]
  },
  {
   "cell_type": "code",
   "execution_count": 7,
   "id": "ebe437b6-203a-4d93-a97b-d1b38007d024",
   "metadata": {},
   "outputs": [],
   "source": [
    "def dprops(xsample, ysample):\n",
    "    \"\"\"\n",
    "    Compute the difference between sample propotions.\n",
    "    \"\"\"\n",
    "    phatx = prop(xsample)\n",
    "    phaty = prop(ysample)\n",
    "    dhat = phatx - phaty\n",
    "    return dhat"
   ]
  },
  {
   "cell_type": "code",
   "execution_count": null,
   "id": "8da2a19d-96e1-4139-83ed-1e9d519b4e0f",
   "metadata": {},
   "outputs": [],
   "source": []
  },
  {
   "cell_type": "markdown",
   "id": "efc875fe-4f82-45fd-9592-c28c3cfa1000",
   "metadata": {},
   "source": [
    "#### Example 2: A/B website proportions and difference between proportions"
   ]
  },
  {
   "cell_type": "code",
   "execution_count": 8,
   "id": "7d2dcae5-0836-4350-ab0b-747325d8a322",
   "metadata": {},
   "outputs": [],
   "source": [
    "visitors = pd.read_csv(\"../datasets/visitors.csv\")\n",
    "xA = visitors[visitors[\"version\"]==\"A\"][\"bought\"]\n",
    "xB = visitors[visitors[\"version\"]==\"B\"][\"bought\"]"
   ]
  },
  {
   "cell_type": "code",
   "execution_count": 9,
   "id": "36166140-e107-412e-b4fc-89d6df50270b",
   "metadata": {},
   "outputs": [
    {
     "data": {
      "text/plain": [
       "0.046351084812623275"
      ]
     },
     "execution_count": 9,
     "metadata": {},
     "output_type": "execute_result"
    }
   ],
   "source": [
    "prop(xA)"
   ]
  },
  {
   "cell_type": "code",
   "execution_count": 10,
   "id": "78385dfb-94f6-47c0-819e-da8a01422105",
   "metadata": {},
   "outputs": [],
   "source": [
    "# # ALT.\n",
    "# mean(xA)"
   ]
  },
  {
   "cell_type": "code",
   "execution_count": 11,
   "id": "6d82b1a5-a9ad-4717-9b6d-9896ded8714a",
   "metadata": {},
   "outputs": [],
   "source": [
    "# # ALT.\n",
    "# np.count_nonzero(xA) / len(xA)"
   ]
  },
  {
   "cell_type": "code",
   "execution_count": 12,
   "id": "98c8ba42-ea3e-490e-ab0a-f13a01e4d99c",
   "metadata": {},
   "outputs": [
    {
     "data": {
      "text/plain": [
       "0.056795131845841784"
      ]
     },
     "execution_count": 12,
     "metadata": {},
     "output_type": "execute_result"
    }
   ],
   "source": [
    "prop(xB)"
   ]
  },
  {
   "cell_type": "code",
   "execution_count": null,
   "id": "f56d4496-4d9e-4804-a640-c7b7f57161df",
   "metadata": {},
   "outputs": [],
   "source": []
  },
  {
   "cell_type": "code",
   "execution_count": 13,
   "id": "292af72c-a886-456d-90ca-a46c56c87baf",
   "metadata": {},
   "outputs": [
    {
     "data": {
      "text/plain": [
       "0.01044404703321851"
      ]
     },
     "execution_count": 13,
     "metadata": {},
     "output_type": "execute_result"
    }
   ],
   "source": [
    "dhat = dprops(xB, xA)\n",
    "dhat"
   ]
  },
  {
   "cell_type": "markdown",
   "id": "a84f053c-ffe3-47b4-85db-c9b67f45f2ea",
   "metadata": {},
   "source": [
    "### Examples of sampling distributions\n",
    "\n",
    "Let's look at the same estimators that we described in the previous section,\n",
    "but this time applied to *random* samples of size $n$:\n",
    "\n",
    "- Sample proportion: $\\widehat{P} = g(\\mathbf{X}) = \\frac{1}{n}\\sum_{i=1}^n X_i$\n",
    "- Difference between proportions: $\\hat{D} = \\widehat{P}_{\\mathbf{X}} - \\widehat{P}_{\\mathbf{Y}} = d(\\mathbf{X}, \\mathbf{Y})$\n"
   ]
  },
  {
   "cell_type": "markdown",
   "id": "c684c0f6-5c6f-4969-bc79-8af05747cf67",
   "metadata": {
    "tags": []
   },
   "source": [
    "### Proportion estimator\n"
   ]
  },
  {
   "cell_type": "code",
   "execution_count": 14,
   "id": "c1789771-317a-476a-b80a-8ea13dd2ae11",
   "metadata": {},
   "outputs": [
    {
     "data": {
      "text/plain": [
       "0.046351084812623275"
      ]
     },
     "execution_count": 14,
     "metadata": {},
     "output_type": "execute_result"
    }
   ],
   "source": [
    "visitors = pd.read_csv(\"../datasets/visitors.csv\")\n",
    "xA = visitors[visitors[\"version\"]==\"A\"][\"bought\"].values\n",
    "phat = xA.mean()\n",
    "phat"
   ]
  },
  {
   "cell_type": "code",
   "execution_count": 15,
   "id": "f8894b1e-8fa2-49cf-9422-90231cd85f0a",
   "metadata": {},
   "outputs": [
    {
     "data": {
      "text/plain": [
       "0.04420266174931628"
      ]
     },
     "execution_count": 15,
     "metadata": {},
     "output_type": "execute_result"
    }
   ],
   "source": [
    "pvar = phat*(1-phat)\n",
    "pvar"
   ]
  },
  {
   "cell_type": "code",
   "execution_count": 16,
   "id": "32f663d3-1f83-4cf3-a5cd-1c051031099d",
   "metadata": {},
   "outputs": [
    {
     "data": {
      "text/plain": [
       "0.006602451710468567"
      ]
     },
     "execution_count": 16,
     "metadata": {},
     "output_type": "execute_result"
    }
   ],
   "source": [
    "n = len(xA)\n",
    "se_Phat = np.sqrt(pvar/n)\n",
    "se_Phat"
   ]
  },
  {
   "cell_type": "markdown",
   "id": "07711fd6-18bb-483d-bc73-43a93e352103",
   "metadata": {},
   "source": [
    "Normal approximation to the sampling distribution."
   ]
  },
  {
   "cell_type": "code",
   "execution_count": 17,
   "id": "a03a0cf1-36f9-4b93-83c1-3328470403fb",
   "metadata": {},
   "outputs": [
    {
     "data": {
      "text/plain": [
       "<AxesSubplot: xlabel='x', ylabel='$f_{X}$'>"
      ]
     },
     "execution_count": 17,
     "metadata": {},
     "output_type": "execute_result"
    },
    {
     "data": {
      "image/png": "[encoded data removed]",
      "text/plain": [
       "<Figure size 1000x300 with 1 Axes>"
      ]
     },
     "metadata": {
      "image/png": {
       "height": 293,
       "width": 838
      }
     },
     "output_type": "display_data"
    }
   ],
   "source": [
    "from scipy.stats import norm\n",
    "Phat = norm(phat, se_Phat)\n",
    "plot_pdf(Phat)"
   ]
  },
  {
   "cell_type": "code",
   "execution_count": null,
   "id": "a9ae987b-a369-4986-808f-83f54b80d287",
   "metadata": {},
   "outputs": [],
   "source": []
  },
  {
   "cell_type": "markdown",
   "id": "fc2a6831-68bb-430f-a2f5-934b0aa8d1fc",
   "metadata": {},
   "source": [
    "### Difference between proportion estimator"
   ]
  },
  {
   "cell_type": "code",
   "execution_count": 18,
   "id": "d92b5937-8e34-4af3-80c3-0b0f1e249979",
   "metadata": {},
   "outputs": [
    {
     "data": {
      "text/plain": [
       "(0.046351084812623275, 0.056795131845841784)"
      ]
     },
     "execution_count": 18,
     "metadata": {},
     "output_type": "execute_result"
    }
   ],
   "source": [
    "visitors = pd.read_csv(\"../datasets/visitors.csv\")\n",
    "xA = visitors[visitors[\"version\"]==\"A\"][\"bought\"].values\n",
    "xB = visitors[visitors[\"version\"]==\"B\"][\"bought\"].values\n",
    "pAhat = xA.mean()\n",
    "pBhat = xB.mean()\n",
    "pAhat, pBhat"
   ]
  },
  {
   "cell_type": "code",
   "execution_count": 19,
   "id": "ff68220d-740c-426e-a5de-842c812a4a60",
   "metadata": {},
   "outputs": [
    {
     "data": {
      "text/plain": [
       "0.01044404703321851"
      ]
     },
     "execution_count": 19,
     "metadata": {},
     "output_type": "execute_result"
    }
   ],
   "source": [
    "d = pBhat - pAhat\n",
    "d"
   ]
  },
  {
   "cell_type": "code",
   "execution_count": 20,
   "id": "9cc63ebb-a486-434c-ae20-78aee485597c",
   "metadata": {},
   "outputs": [],
   "source": [
    "nA, nB = len(xA), len(xB)\n",
    "varA = pAhat*(1-pAhat)\n",
    "varB = pBhat*(1-pBhat)\n",
    "seD = np.sqrt(varA/nA + varB/nB)"
   ]
  },
  {
   "cell_type": "code",
   "execution_count": 21,
   "id": "9d65a1ad-7976-413e-a06c-36db5f7c05a2",
   "metadata": {},
   "outputs": [
    {
     "data": {
      "image/png": "[encoded data removed]",
      "text/plain": [
       "<Figure size 1000x300 with 1 Axes>"
      ]
     },
     "metadata": {
      "image/png": {
       "height": 293,
       "width": 838
      }
     },
     "output_type": "display_data"
    }
   ],
   "source": [
    "from scipy.stats import norm\n",
    "Dhat = norm(d, seD)\n",
    "ax = plot_pdf(Dhat)"
   ]
  },
  {
   "cell_type": "code",
   "execution_count": null,
   "id": "00dd27e4-9207-466f-87f6-b79d11370207",
   "metadata": {},
   "outputs": [],
   "source": []
  },
  {
   "cell_type": "markdown",
   "id": "cd9694a6-1fb3-46aa-b6f1-850f36cbb4dd",
   "metadata": {},
   "source": [
    "## Testing for a difference between proportions"
   ]
  },
  {
   "cell_type": "code",
   "execution_count": 22,
   "id": "a6944807-134b-4e4f-a189-ab0e1777a00f",
   "metadata": {},
   "outputs": [],
   "source": [
    "visitors = pd.read_csv(\"../datasets/visitors.csv\")\n",
    "# visitors"
   ]
  },
  {
   "cell_type": "code",
   "execution_count": 23,
   "id": "2b7f1b76-3af7-46f0-848d-f8e0c7a6ae5c",
   "metadata": {},
   "outputs": [
    {
     "data": {
      "text/html": [
       "<div>\n",
       "<style scoped>\n",
       "    .dataframe tbody tr th:only-of-type {\n",
       "        vertical-align: middle;\n",
       "    }\n",
       "\n",
       "    .dataframe tbody tr th {\n",
       "        vertical-align: top;\n",
       "    }\n",
       "\n",
       "    .dataframe thead th {\n",
       "        text-align: right;\n",
       "    }\n",
       "</style>\n",
       "<table border=\"1\" class=\"dataframe\">\n",
       "  <thead>\n",
       "    <tr style=\"text-align: right;\">\n",
       "      <th></th>\n",
       "      <th>count</th>\n",
       "      <th>mean</th>\n",
       "      <th>std</th>\n",
       "      <th>min</th>\n",
       "      <th>25%</th>\n",
       "      <th>50%</th>\n",
       "      <th>75%</th>\n",
       "      <th>max</th>\n",
       "    </tr>\n",
       "    <tr>\n",
       "      <th>version</th>\n",
       "      <th></th>\n",
       "      <th></th>\n",
       "      <th></th>\n",
       "      <th></th>\n",
       "      <th></th>\n",
       "      <th></th>\n",
       "      <th></th>\n",
       "      <th></th>\n",
       "    </tr>\n",
       "  </thead>\n",
       "  <tbody>\n",
       "    <tr>\n",
       "      <th>A</th>\n",
       "      <td>1014.0</td>\n",
       "      <td>0.046351</td>\n",
       "      <td>0.210348</td>\n",
       "      <td>0.0</td>\n",
       "      <td>0.0</td>\n",
       "      <td>0.0</td>\n",
       "      <td>0.0</td>\n",
       "      <td>1.0</td>\n",
       "    </tr>\n",
       "    <tr>\n",
       "      <th>B</th>\n",
       "      <td>986.0</td>\n",
       "      <td>0.056795</td>\n",
       "      <td>0.231568</td>\n",
       "      <td>0.0</td>\n",
       "      <td>0.0</td>\n",
       "      <td>0.0</td>\n",
       "      <td>0.0</td>\n",
       "      <td>1.0</td>\n",
       "    </tr>\n",
       "  </tbody>\n",
       "</table>\n",
       "</div>"
      ],
      "text/plain": [
       "          count      mean       std  min  25%  50%  75%  max\n",
       "version                                                     \n",
       "A        1014.0  0.046351  0.210348  0.0  0.0  0.0  0.0  1.0\n",
       "B         986.0  0.056795  0.231568  0.0  0.0  0.0  0.0  1.0"
      ]
     },
     "execution_count": 23,
     "metadata": {},
     "output_type": "execute_result"
    }
   ],
   "source": [
    "visitors.groupby(\"version\")[\"bought\"].describe()"
   ]
  },
  {
   "cell_type": "code",
   "execution_count": 24,
   "id": "c71d919b-41e0-44a2-ae2f-0a19aa405d57",
   "metadata": {},
   "outputs": [],
   "source": [
    "def prop(sample):\n",
    "    \"\"\"\n",
    "    Compute the proportion of success (1) outcomes in `sample`.\n",
    "    \"\"\"\n",
    "    counts = sample.value_counts()\n",
    "    count_ones = counts[1]\n",
    "    phat = count_ones / len(sample)\n",
    "    return phat\n",
    "\n",
    "def dprops(xsample, ysample):\n",
    "    \"\"\"\n",
    "    Compute the difference between sample propotions.\n",
    "    \"\"\"\n",
    "    phatx = prop(xsample)\n",
    "    phaty = prop(ysample)\n",
    "    dhat = phatx - phaty\n",
    "    return dhat\n"
   ]
  },
  {
   "cell_type": "code",
   "execution_count": 25,
   "id": "005a27ae-aeda-4bf4-8d70-a77173fa50a7",
   "metadata": {},
   "outputs": [
    {
     "data": {
      "text/plain": [
       "0.01044404703321851"
      ]
     },
     "execution_count": 25,
     "metadata": {},
     "output_type": "execute_result"
    }
   ],
   "source": [
    "# observed difference between means\n",
    "xA = visitors[visitors[\"version\"]==\"A\"][\"bought\"]\n",
    "xB = visitors[visitors[\"version\"]==\"B\"][\"bought\"]\n",
    "dprops(xB, xA)"
   ]
  },
  {
   "cell_type": "code",
   "execution_count": 26,
   "id": "fbf285cb-40c9-4b3a-96f0-2e235d88dd0c",
   "metadata": {},
   "outputs": [],
   "source": [
    "def resample_under_H0(sample, groupcol=\"group\"):\n",
    "    \"\"\"\n",
    "    Return a copy of the dataframe `sample` with the labels in the column `groupcol`\n",
    "    modified based on a random permutation of the values in the original sample.\n",
    "    \"\"\"\n",
    "    resample = sample.copy()\n",
    "    labels = sample[groupcol].values\n",
    "    newlabels = np.random.permutation(labels)\n",
    "    resample[groupcol] = newlabels\n",
    "    return resample\n",
    "# resample_under_H0(visitors, groupcol=\"version\")"
   ]
  },
  {
   "cell_type": "code",
   "execution_count": 27,
   "id": "5e03441b-a177-4080-8ec9-d9fc72b7be2f",
   "metadata": {},
   "outputs": [
    {
     "data": {
      "text/plain": [
       "-0.00844365495637145"
      ]
     },
     "execution_count": 27,
     "metadata": {},
     "output_type": "execute_result"
    }
   ],
   "source": [
    "# permute the `version` labels\n",
    "visitors_perm = resample_under_H0(visitors, groupcol=\"version\")\n",
    "\n",
    "# extract price permuted samples \n",
    "xA = visitors_perm[visitors_perm[\"version\"]==\"A\"][\"bought\"]\n",
    "xB = visitors_perm[visitors_perm[\"version\"]==\"B\"][\"bought\"]\n",
    "\n",
    "# compute the difference in proportions for the permuted labels\n",
    "dprops(xA, xB)"
   ]
  },
  {
   "cell_type": "code",
   "execution_count": 28,
   "id": "749539d9-b54c-4311-a0ce-efcb0e973c28",
   "metadata": {},
   "outputs": [],
   "source": [
    "def gen_sampling_dist_under_H02(data, permutations=10000):\n",
    "    \"\"\"\n",
    "    Obtain the sampling distribution of `dprops` under H0\n",
    "    by repeatedly permutations of the group labels.\n",
    "    \"\"\"\n",
    "    pstats = []\n",
    "    for i in range(0, permutations):\n",
    "        data_perm = resample_under_H0(data, groupcol=\"version\")\n",
    "        xA_perm = data_perm[data_perm[\"version\"]==\"A\"][\"bought\"]\n",
    "        xB_perm = data_perm[data_perm[\"version\"]==\"B\"][\"bought\"]\n",
    "        dhat_perm = dprops(xA_perm, xB_perm)\n",
    "        pstats.append(dhat_perm)\n",
    "    return pstats\n"
   ]
  },
  {
   "cell_type": "code",
   "execution_count": 29,
   "id": "2014fda1-ecfd-48e5-8b5e-bcb61098ad5a",
   "metadata": {},
   "outputs": [
    {
     "data": {
      "text/plain": [
       "0.3117"
      ]
     },
     "execution_count": 29,
     "metadata": {},
     "output_type": "execute_result"
    }
   ],
   "source": [
    "def permutation_test2(data):\n",
    "    \"\"\"\n",
    "    Compute the p-value of the observed `dprops(xB,xA)` under H0.\n",
    "    \"\"\"\n",
    "    # Obtain the sampling distribution of `dmeans` under H0\n",
    "    pstats = gen_sampling_dist_under_H02(data)\n",
    "\n",
    "    # Compute the value of `dmeans` for the observed data\n",
    "    xA = data[data[\"version\"]==\"A\"][\"bought\"]\n",
    "    xB = data[data[\"version\"]==\"B\"][\"bought\"]\n",
    "    dhat = dprops(xB, xA)\n",
    "\n",
    "    # Compute p-value of `dhat` under the distribution `pstats` \n",
    "    # (how many of `pstats` are equal-or-more-extreme than `dhat`)\n",
    "    tailstats = [pstat for pstat in pstats \\\n",
    "                 if pstat <= -abs(dhat) or pstat >= abs(dhat)]\n",
    "    pvalue = len(tailstats) / len(pstats)\n",
    "    return pvalue\n",
    "\n",
    "pvalue = permutation_test2(visitors)\n",
    "pvalue"
   ]
  },
  {
   "cell_type": "code",
   "execution_count": null,
   "id": "172cc12d-cbd3-479f-9b32-a81805523005",
   "metadata": {},
   "outputs": [],
   "source": []
  },
  {
   "cell_type": "code",
   "execution_count": 30,
   "id": "8dbc1f5a-4100-4eb7-9afa-4dad1e57bf9c",
   "metadata": {},
   "outputs": [
    {
     "data": {
      "text/plain": [
       "<class 'statsmodels.stats.base.HolderTuple'>\n",
       "statistic = 0.8534123005361822\n",
       "pvalue = 0.39343070258813295\n",
       "compare = 'diff'\n",
       "method = 'wald'\n",
       "diff = 0.00844365495637145\n",
       "ratio = 1.1783722109533468\n",
       "odds_ratio = 1.1889097744360904\n",
       "variance = 9.789108887597192e-05\n",
       "alternative = 'two-sided'\n",
       "value = 0\n",
       "tuple = (0.8534123005361822, 0.39343070258813295)"
      ]
     },
     "execution_count": 30,
     "metadata": {},
     "output_type": "execute_result"
    }
   ],
   "source": [
    "# Wald test\n",
    "# https://www.statsmodels.org/dev/generated/statsmodels.stats.proportion.test_proportions_2indep.html\n",
    "from statsmodels.stats.proportion import test_proportions_2indep\n",
    "\n",
    "countA = sum(xA)\n",
    "nobsA = len(xA)\n",
    "countB = sum(xB)\n",
    "nobsB = len(xB)\n",
    "\n",
    "test_proportions_2indep(countB, nobsB, countA, nobsA,\n",
    "                        compare='diff', method=\"wald\", # ALT. method=\"agresti-caffo\"\n",
    "                        alternative='two-sided', return_results=True)"
   ]
  },
  {
   "cell_type": "code",
   "execution_count": 31,
   "id": "63e726ea-fe39-4122-a7e5-b584da92d99e",
   "metadata": {},
   "outputs": [
    {
     "data": {
      "text/plain": [
       "0.39343070258813295"
      ]
     },
     "execution_count": 31,
     "metadata": {},
     "output_type": "execute_result"
    }
   ],
   "source": [
    "# manual Wald test\n",
    "pAhat = xA.mean()\n",
    "pBhat = xB.mean()\n",
    "nA, nB = len(xA), len(xB)\n",
    "varA = pAhat*(1-pAhat)\n",
    "varB = pBhat*(1-pBhat)\n",
    "seD = np.sqrt(varA/nA + varB/nB)\n",
    "\n",
    "from scipy.stats import norm\n",
    "DhatH0 = norm(0, seD)  # sampling distribution under H0\n",
    "\n",
    "dhat = pBhat - pAhat\n",
    "pval = 2*(1-DhatH0.cdf(dhat))\n",
    "pval"
   ]
  },
  {
   "cell_type": "code",
   "execution_count": 32,
   "id": "91a11da3-d94e-4b6c-95a6-09a66533062f",
   "metadata": {},
   "outputs": [],
   "source": [
    "# uses t-dist instead of z, so not appropriate\n",
    "# import statsmodels.api as sm\n",
    "# sm.stats.ttest_ind(xB, xA)\n",
    "\n",
    "# from scipy.stats import ttest_ind\n",
    "# ttest_ind(xB, xA).pvalue\n",
    "\n",
    "# ttest_ind(xB, xA, permutations=10000).pvalue"
   ]
  },
  {
   "cell_type": "code",
   "execution_count": 33,
   "id": "6e6fb2ee-5bbe-4163-8139-62dffef31cf4",
   "metadata": {},
   "outputs": [],
   "source": [
    "# # NOT GOOD -> uses variance pooling: p_pooled = sum(counts)/sum(nobs)\n",
    "# from statsmodels.stats.proportion import proportions_ztest\n",
    "# countA = sum(xA)\n",
    "# nobsA = len(xA)\n",
    "# countB = sum(xB)\n",
    "# nobsB = len(xB)\n",
    "# count = np.array([countB, countA])\n",
    "# nobs = np.array([nobsB, nobsA])\n",
    "# proportions_ztest(count, nobs)"
   ]
  },
  {
   "cell_type": "code",
   "execution_count": 34,
   "id": "46940160-71a4-4143-b6c5-e883d439fdd9",
   "metadata": {},
   "outputs": [],
   "source": [
    "# # CONFIDENCE INTERVAL\n",
    "# # https://www.statsmodels.org/dev/generated/statsmodels.stats.proportion.confint_proportions_2indep.html\n",
    "# from statsmodels.stats.proportion import confint_proportions_2indep\n",
    "# confint_proportions_2indep(countB, nobsB, countA, nobsA,\n",
    "#                            compare='diff', method=\"wald\", # ALT. method=\"agresti-caffo\"\n",
    "#                            alpha=0.05)"
   ]
  },
  {
   "cell_type": "code",
   "execution_count": null,
   "id": "97bd5f3d-d029-4540-9b99-cfbf48835acd",
   "metadata": {},
   "outputs": [],
   "source": []
  }
 ],
 "metadata": {
  "kernelspec": {
   "display_name": "Python 3 (ipykernel)",
   "language": "python",
   "name": "python3"
  },
  "language_info": {
   "codemirror_mode": {
    "name": "ipython",
    "version": 3
   },
   "file_extension": ".py",
   "mimetype": "text/x-python",
   "name": "python",
   "nbconvert_exporter": "python",
   "pygments_lexer": "ipython3",
   "version": "3.9.4"
  }
 },
 "nbformat": 4,
 "nbformat_minor": 5
}
