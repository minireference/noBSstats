{
 "cells": [
  {
   "cell_type": "markdown",
   "id": "c53eb8f5-80a7-4330-9f13-63220177fcc0",
   "metadata": {
    "tags": []
   },
   "source": [
    "# Section 5.3 — Bayesian difference between means\n",
    "\n",
    "This notebook contains the code examples from [Section 5.3 Bayesian difference between means]() from the **No Bullshit Guide to Statistics**.\n",
    "\n",
    "See also [t-test.ipynb](./explorations/bambi/t-test.ipynb)\n"
   ]
  },
  {
   "cell_type": "markdown",
   "id": "a2d8dda2-58a9-424e-9fb3-32ad6e8777d8",
   "metadata": {
    "tags": []
   },
   "source": [
    "#### Notebook setup"
   ]
  },
  {
   "cell_type": "code",
   "execution_count": 1,
   "id": "aea0223e-aee9-4875-a714-897b6646baaa",
   "metadata": {},
   "outputs": [],
   "source": [
    "# load Python modules\n",
    "import os\n",
    "import numpy as np\n",
    "import pandas as pd\n",
    "import seaborn as sns\n",
    "import matplotlib.pyplot as plt"
   ]
  },
  {
   "cell_type": "code",
   "execution_count": 2,
   "id": "efd86c5a-c9d2-4eab-b67d-a65e39b23ef2",
   "metadata": {},
   "outputs": [
    {
     "data": {
      "text/plain": [
       "<Figure size 640x480 with 0 Axes>"
      ]
     },
     "metadata": {},
     "output_type": "display_data"
    }
   ],
   "source": [
    "# Figures setup\n",
    "plt.clf()  # needed otherwise `sns.set_theme` doesn\"t work\n",
    "from plot_helpers import RCPARAMS\n",
    "RCPARAMS.update({\"figure.figsize\": (5, 3)})   # good for screen\n",
    "# RCPARAMS.update({\"figure.figsize\": (5, 1.6)})  # good for print\n",
    "sns.set_theme(\n",
    "    context=\"paper\",\n",
    "    style=\"whitegrid\",\n",
    "    palette=\"colorblind\",\n",
    "    rc=RCPARAMS,\n",
    ")\n",
    "\n",
    "# High-resolution please\n",
    "%config InlineBackend.figure_format = \"retina\"\n",
    "\n",
    "# Where to store figures\n",
    "DESTDIR = \"figures/bayesian/dmeans\""
   ]
  },
  {
   "cell_type": "code",
   "execution_count": 3,
   "id": "df811a10-417d-4389-8bff-30e59b5f6aef",
   "metadata": {},
   "outputs": [],
   "source": [
    "# set random seed for repeatability\n",
    "np.random.seed(42)\n",
    "#######################################################"
   ]
  },
  {
   "cell_type": "code",
   "execution_count": null,
   "id": "b473f755-7ed8-414e-819b-609cd9220b7d",
   "metadata": {},
   "outputs": [],
   "source": []
  },
  {
   "cell_type": "markdown",
   "id": "7bdad75b-efdc-4a90-836a-62ce38d88dd2",
   "metadata": {},
   "source": [
    "## Example movies genres\n",
    "\n",
    "see https://www.andrewheiss.com/blog/2019/01/29/diff-means-half-dozen-ways/\n",
    "\n",
    "see also https://bookdown.org/content/3686/metric-predicted-variable-on-one-or-two-groups.html#two-groups\n"
   ]
  },
  {
   "cell_type": "code",
   "execution_count": 4,
   "id": "be3f6790-973b-4358-b21b-37538043d2f0",
   "metadata": {},
   "outputs": [
    {
     "data": {
      "text/html": [
       "<div>\n",
       "<style scoped>\n",
       "    .dataframe tbody tr th:only-of-type {\n",
       "        vertical-align: middle;\n",
       "    }\n",
       "\n",
       "    .dataframe tbody tr th {\n",
       "        vertical-align: top;\n",
       "    }\n",
       "\n",
       "    .dataframe thead th {\n",
       "        text-align: right;\n",
       "    }\n",
       "</style>\n",
       "<table border=\"1\" class=\"dataframe\">\n",
       "  <thead>\n",
       "    <tr style=\"text-align: right;\">\n",
       "      <th></th>\n",
       "      <th>title</th>\n",
       "      <th>year</th>\n",
       "      <th>rating</th>\n",
       "      <th>genre</th>\n",
       "      <th>genre_numeric</th>\n",
       "    </tr>\n",
       "  </thead>\n",
       "  <tbody>\n",
       "    <tr>\n",
       "      <th>0</th>\n",
       "      <td>Blowing Wild</td>\n",
       "      <td>1953</td>\n",
       "      <td>5.6</td>\n",
       "      <td>Action</td>\n",
       "      <td>1</td>\n",
       "    </tr>\n",
       "    <tr>\n",
       "      <th>1</th>\n",
       "      <td>No Way Back</td>\n",
       "      <td>1995</td>\n",
       "      <td>5.2</td>\n",
       "      <td>Action</td>\n",
       "      <td>1</td>\n",
       "    </tr>\n",
       "    <tr>\n",
       "      <th>2</th>\n",
       "      <td>New Jack City</td>\n",
       "      <td>1991</td>\n",
       "      <td>6.1</td>\n",
       "      <td>Action</td>\n",
       "      <td>1</td>\n",
       "    </tr>\n",
       "    <tr>\n",
       "      <th>3</th>\n",
       "      <td>Noigwon</td>\n",
       "      <td>1983</td>\n",
       "      <td>4.2</td>\n",
       "      <td>Action</td>\n",
       "      <td>1</td>\n",
       "    </tr>\n",
       "    <tr>\n",
       "      <th>4</th>\n",
       "      <td>Tarzan and the Jungle Boy</td>\n",
       "      <td>1968</td>\n",
       "      <td>5.2</td>\n",
       "      <td>Action</td>\n",
       "      <td>1</td>\n",
       "    </tr>\n",
       "  </tbody>\n",
       "</table>\n",
       "</div>"
      ],
      "text/plain": [
       "                       title  year  rating   genre  genre_numeric\n",
       "0               Blowing Wild  1953     5.6  Action              1\n",
       "1                No Way Back  1995     5.2  Action              1\n",
       "2              New Jack City  1991     6.1  Action              1\n",
       "3                    Noigwon  1983     4.2  Action              1\n",
       "4  Tarzan and the Jungle Boy  1968     5.2  Action              1"
      ]
     },
     "execution_count": 4,
     "metadata": {},
     "output_type": "execute_result"
    }
   ],
   "source": [
    "movies = pd.read_csv(\"../datasets/movies.csv\")\n",
    "movies.head()"
   ]
  },
  {
   "cell_type": "code",
   "execution_count": 5,
   "id": "a2d29469-678f-49a3-8347-43b06a7d968c",
   "metadata": {},
   "outputs": [
    {
     "data": {
      "text/plain": [
       "genre\n",
       "Action    5.2845\n",
       "Comedy    5.9670\n",
       "Name: rating, dtype: float64"
      ]
     },
     "execution_count": 5,
     "metadata": {},
     "output_type": "execute_result"
    }
   ],
   "source": [
    "movies.groupby(\"genre\")[\"rating\"].mean()"
   ]
  },
  {
   "cell_type": "code",
   "execution_count": 6,
   "id": "ccfc85e6-235a-41bb-b53e-1961225d2832",
   "metadata": {},
   "outputs": [
    {
     "data": {
      "text/plain": [
       "TtestResult(statistic=-4.47525173500199, pvalue=9.976981171112132e-06, df=398.0)"
      ]
     },
     "execution_count": 6,
     "metadata": {},
     "output_type": "execute_result"
    }
   ],
   "source": [
    "from scipy.stats import ttest_ind\n",
    "\n",
    "actions = movies[movies[\"genre\"]==\"Action\"][\"rating\"]\n",
    "comedies = movies[movies[\"genre\"]==\"Comedy\"][\"rating\"]\n",
    "\n",
    "ttest_ind(actions, comedies, equal_var=True)"
   ]
  },
  {
   "cell_type": "code",
   "execution_count": 7,
   "id": "dc9e120d-2f46-42ff-bc1e-8cef602d29ea",
   "metadata": {},
   "outputs": [
    {
     "data": {
      "text/plain": [
       "TtestResult(statistic=-4.47525173500199, pvalue=9.978285839671782e-06, df=397.7995256063933)"
      ]
     },
     "execution_count": 7,
     "metadata": {},
     "output_type": "execute_result"
    }
   ],
   "source": [
    "ttest_ind(actions, comedies, equal_var=False)"
   ]
  },
  {
   "cell_type": "code",
   "execution_count": 8,
   "id": "03d416c6-0fff-451d-a6ec-4313447db21d",
   "metadata": {},
   "outputs": [
    {
     "name": "stderr",
     "output_type": "stream",
     "text": [
      "WARNING (pytensor.tensor.blas): Using NumPy C-API based implementation for BLAS functions.\n"
     ]
    }
   ],
   "source": [
    "import bambi as bmb\n"
   ]
  },
  {
   "cell_type": "code",
   "execution_count": null,
   "id": "d7246a95-061c-4d12-a3d0-d8e5c0d9cef6",
   "metadata": {},
   "outputs": [],
   "source": []
  },
  {
   "cell_type": "code",
   "execution_count": 44,
   "id": "97ed3700-c5c1-4d28-b324-59fdee0b406e",
   "metadata": {},
   "outputs": [
    {
     "name": "stdout",
     "output_type": "stream",
     "text": [
      "       Formula: rating ~ 1 + C(genre, levels=levels)\n",
      "        Family: gaussian\n",
      "          Link: mu = identity\n",
      "  Observations: 400\n",
      "        Priors: \n",
      "    target = mu\n",
      "        Common-level effects\n",
      "            Intercept ~ Normal(mu: 0.0, sigma: 5.0)\n",
      "            C(genre, levels=levels) ~ Normal(mu: 0.0, sigma: 1.0)\n",
      "        \n",
      "        Auxiliary parameters\n",
      "            sigma ~ HalfStudentT(nu: 4.0, sigma: 1.559)\n"
     ]
    },
    {
     "ename": "AttributeError",
     "evalue": "'NoneType' object has no attribute 'model'",
     "output_type": "error",
     "traceback": [
      "\u001b[0;31m---------------------------------------------------------------------------\u001b[0m",
      "\u001b[0;31mAttributeError\u001b[0m                            Traceback (most recent call last)",
      "Cell \u001b[0;32mIn[44], line 16\u001b[0m\n\u001b[1;32m     14\u001b[0m \u001b[38;5;66;03m# Get model description\u001b[39;00m\n\u001b[1;32m     15\u001b[0m \u001b[38;5;28mprint\u001b[39m(model_eq)\n\u001b[0;32m---> 16\u001b[0m \u001b[43mmodel_eq\u001b[49m\u001b[38;5;241;43m.\u001b[39;49m\u001b[43mbackend\u001b[49m\u001b[38;5;241;43m.\u001b[39;49m\u001b[43mmodel\u001b[49m\n",
      "\u001b[0;31mAttributeError\u001b[0m: 'NoneType' object has no attribute 'model'"
     ]
    }
   ],
   "source": [
    "# Model formula\n",
    "levels = [\"Comedy\", \"Action\"]\n",
    "formula = bmb.Formula(\"rating ~ 1 + C(genre, levels=levels)\")\n",
    "\n",
    "# Choose custom priors \n",
    "priors = {\n",
    "    \"Intercept\": bmb.Prior(\"Normal\", mu=0, sigma=5),\n",
    "    \"C(genre, levels=levels)\": bmb.Prior(\"Normal\", mu=0, sigma=1)\n",
    "}\n",
    "\n",
    "# Build model\n",
    "model_eq = bmb.Model(formula, priors=priors, data=movies)\n",
    "\n",
    "# Get model description\n",
    "print(model_eq)"
   ]
  },
  {
   "cell_type": "code",
   "execution_count": 50,
   "id": "cc64f418-cebe-45fc-8a68-c9743a14b8cd",
   "metadata": {},
   "outputs": [],
   "source": [
    "# model_eq.build()\n",
    "# model_eq.graph()"
   ]
  },
  {
   "cell_type": "code",
   "execution_count": 11,
   "id": "6e1a3f52-7ff6-4604-ae8c-3e7632067b05",
   "metadata": {},
   "outputs": [
    {
     "name": "stderr",
     "output_type": "stream",
     "text": [
      "Auto-assigning NUTS sampler...\n",
      "Initializing NUTS using jitter+adapt_diag...\n",
      "Multiprocess sampling (4 chains in 4 jobs)\n",
      "NUTS: [rating_sigma, Intercept, C(genre, levels=levels)]\n",
      "WARNING (pytensor.tensor.blas): Using NumPy C-API based implementation for BLAS functions.\n",
      "WARNING (pytensor.tensor.blas): Using NumPy C-API based implementation for BLAS functions.\n",
      "WARNING (pytensor.tensor.blas): Using NumPy C-API based implementation for BLAS functions.\n",
      "WARNING (pytensor.tensor.blas): Using NumPy C-API based implementation for BLAS functions.\n"
     ]
    },
    {
     "data": {
      "text/html": [
       "\n",
       "<style>\n",
       "    /* Turns off some styling */\n",
       "    progress {\n",
       "        /* gets rid of default border in Firefox and Opera. */\n",
       "        border: none;\n",
       "        /* Needs to be in here for Safari polyfill so background images work as expected. */\n",
       "        background-size: auto;\n",
       "    }\n",
       "    progress:not([value]), progress:not([value])::-webkit-progress-bar {\n",
       "        background: repeating-linear-gradient(45deg, #7e7e7e, #7e7e7e 10px, #5c5c5c 10px, #5c5c5c 20px);\n",
       "    }\n",
       "    .progress-bar-interrupted, .progress-bar-interrupted::-webkit-progress-bar {\n",
       "        background: #F44336;\n",
       "    }\n",
       "</style>\n"
      ],
      "text/plain": [
       "<IPython.core.display.HTML object>"
      ]
     },
     "metadata": {},
     "output_type": "display_data"
    },
    {
     "data": {
      "text/html": [
       "\n",
       "    <div>\n",
       "      <progress value='8000' class='' max='8000' style='width:300px; height:20px; vertical-align: middle;'></progress>\n",
       "      100.00% [8000/8000 00:05&lt;00:00 Sampling 4 chains, 0 divergences]\n",
       "    </div>\n",
       "    "
      ],
      "text/plain": [
       "<IPython.core.display.HTML object>"
      ]
     },
     "metadata": {},
     "output_type": "display_data"
    },
    {
     "name": "stderr",
     "output_type": "stream",
     "text": [
      "Sampling 4 chains for 1_000 tune and 1_000 draw iterations (4_000 + 4_000 draws total) took 17 seconds.\n"
     ]
    }
   ],
   "source": [
    "# Fit the model using 1000 on each chain\n",
    "idata_eq = model_eq.fit(draws=1000)"
   ]
  },
  {
   "cell_type": "code",
   "execution_count": 12,
   "id": "ccbdcf94-ce9b-4672-8509-61dd04490f88",
   "metadata": {},
   "outputs": [
    {
     "data": {
      "text/html": [
       "<div>\n",
       "<style scoped>\n",
       "    .dataframe tbody tr th:only-of-type {\n",
       "        vertical-align: middle;\n",
       "    }\n",
       "\n",
       "    .dataframe tbody tr th {\n",
       "        vertical-align: top;\n",
       "    }\n",
       "\n",
       "    .dataframe thead th {\n",
       "        text-align: right;\n",
       "    }\n",
       "</style>\n",
       "<table border=\"1\" class=\"dataframe\">\n",
       "  <thead>\n",
       "    <tr style=\"text-align: right;\">\n",
       "      <th></th>\n",
       "      <th>median</th>\n",
       "      <th>mad</th>\n",
       "      <th>eti_3%</th>\n",
       "      <th>eti_97%</th>\n",
       "      <th>mcse_median</th>\n",
       "      <th>ess_median</th>\n",
       "      <th>ess_tail</th>\n",
       "      <th>r_hat</th>\n",
       "    </tr>\n",
       "  </thead>\n",
       "  <tbody>\n",
       "    <tr>\n",
       "      <th>Intercept</th>\n",
       "      <td>5.956</td>\n",
       "      <td>0.072</td>\n",
       "      <td>5.759</td>\n",
       "      <td>6.161</td>\n",
       "      <td>0.002</td>\n",
       "      <td>5919.285</td>\n",
       "      <td>2712.0</td>\n",
       "      <td>1.0</td>\n",
       "    </tr>\n",
       "    <tr>\n",
       "      <th>C(genre, levels=levels)[Action]</th>\n",
       "      <td>-0.663</td>\n",
       "      <td>0.105</td>\n",
       "      <td>-0.948</td>\n",
       "      <td>-0.377</td>\n",
       "      <td>0.002</td>\n",
       "      <td>6063.053</td>\n",
       "      <td>3142.0</td>\n",
       "      <td>1.0</td>\n",
       "    </tr>\n",
       "    <tr>\n",
       "      <th>rating_sigma</th>\n",
       "      <td>1.525</td>\n",
       "      <td>0.037</td>\n",
       "      <td>1.431</td>\n",
       "      <td>1.633</td>\n",
       "      <td>0.001</td>\n",
       "      <td>5276.656</td>\n",
       "      <td>3283.0</td>\n",
       "      <td>1.0</td>\n",
       "    </tr>\n",
       "  </tbody>\n",
       "</table>\n",
       "</div>"
      ],
      "text/plain": [
       "                                 median    mad  eti_3%  eti_97%  mcse_median  \\\n",
       "Intercept                         5.956  0.072   5.759    6.161        0.002   \n",
       "C(genre, levels=levels)[Action]  -0.663  0.105  -0.948   -0.377        0.002   \n",
       "rating_sigma                      1.525  0.037   1.431    1.633        0.001   \n",
       "\n",
       "                                 ess_median  ess_tail  r_hat  \n",
       "Intercept                          5919.285    2712.0    1.0  \n",
       "C(genre, levels=levels)[Action]    6063.053    3142.0    1.0  \n",
       "rating_sigma                       5276.656    3283.0    1.0  "
      ]
     },
     "execution_count": 12,
     "metadata": {},
     "output_type": "execute_result"
    }
   ],
   "source": [
    "import arviz as az\n",
    "az.summary(idata_eq, stat_focus=\"median\")"
   ]
  },
  {
   "cell_type": "markdown",
   "id": "b5b76140-3133-41a5-8ef9-3c997b69b602",
   "metadata": {},
   "source": [
    "### Regression, assuming unequal variances\n"
   ]
  },
  {
   "cell_type": "code",
   "execution_count": 13,
   "id": "ad794f56-e62e-455d-bbd0-ab0733cd6c5b",
   "metadata": {},
   "outputs": [
    {
     "name": "stdout",
     "output_type": "stream",
     "text": [
      "       Formula: rating ~ 1 + C(genre,levels=levels)\n",
      "                sigma ~ C(genre,levels=levels)\n",
      "        Family: gaussian\n",
      "          Link: mu = identity\n",
      "                sigma = log\n",
      "  Observations: 400\n",
      "        Priors: \n",
      "    target = mu\n",
      "        Common-level effects\n",
      "            Intercept ~ Normal(mu: 0.0, sigma: 5.0)\n",
      "            C(genre, levels=levels) ~ Normal(mu: 0.0, sigma: 1.0)\n",
      "    target = sigma\n",
      "        Common-level effects\n",
      "            sigma_Intercept ~ Normal(mu: 0.0, sigma: 1.0)\n",
      "            sigma_C(genre, levels=levels) ~ Cauchy(alpha: 0.0, beta: 1.0)\n"
     ]
    }
   ],
   "source": [
    "levels = [\"Comedy\", \"Action\"]\n",
    "formula_uneq = bmb.Formula(\"rating ~ 1 + C(genre,levels=levels)\", \"sigma ~ C(genre,levels=levels)\")\n",
    "\n",
    "priors = {\n",
    "    \"Intercept\": bmb.Prior(\"Normal\", mu=0, sigma=5),\n",
    "    \"C(genre, levels=levels)\": bmb.Prior(\"Normal\", mu=0, sigma=1),\n",
    "    \"sigma\": {\"C(genre, levels=levels)\": bmb.Prior(\"Cauchy\", alpha=0, beta=1)},\n",
    "}\n",
    "\n",
    "# Build model\n",
    "model_uneq = bmb.Model(formula_uneq, priors=priors, data=movies)\n",
    "\n",
    "# Get model description\n",
    "print(model_uneq)\n",
    "# model_uneq.build()\n",
    "# model_uneq.graph()"
   ]
  },
  {
   "cell_type": "code",
   "execution_count": 14,
   "id": "ce4c0ce1-10d1-41c3-84da-0d8e0d04e19f",
   "metadata": {},
   "outputs": [
    {
     "name": "stderr",
     "output_type": "stream",
     "text": [
      "Auto-assigning NUTS sampler...\n",
      "Initializing NUTS using jitter+adapt_diag...\n",
      "Multiprocess sampling (4 chains in 4 jobs)\n",
      "NUTS: [Intercept, C(genre, levels=levels), sigma_Intercept, sigma_C(genre, levels=levels)]\n",
      "WARNING (pytensor.tensor.blas): Using NumPy C-API based implementation for BLAS functions.\n",
      "WARNING (pytensor.tensor.blas): Using NumPy C-API based implementation for BLAS functions.\n",
      "WARNING (pytensor.tensor.blas): Using NumPy C-API based implementation for BLAS functions.\n",
      "WARNING (pytensor.tensor.blas): Using NumPy C-API based implementation for BLAS functions.\n"
     ]
    },
    {
     "data": {
      "text/html": [
       "\n",
       "<style>\n",
       "    /* Turns off some styling */\n",
       "    progress {\n",
       "        /* gets rid of default border in Firefox and Opera. */\n",
       "        border: none;\n",
       "        /* Needs to be in here for Safari polyfill so background images work as expected. */\n",
       "        background-size: auto;\n",
       "    }\n",
       "    progress:not([value]), progress:not([value])::-webkit-progress-bar {\n",
       "        background: repeating-linear-gradient(45deg, #7e7e7e, #7e7e7e 10px, #5c5c5c 10px, #5c5c5c 20px);\n",
       "    }\n",
       "    .progress-bar-interrupted, .progress-bar-interrupted::-webkit-progress-bar {\n",
       "        background: #F44336;\n",
       "    }\n",
       "</style>\n"
      ],
      "text/plain": [
       "<IPython.core.display.HTML object>"
      ]
     },
     "metadata": {},
     "output_type": "display_data"
    },
    {
     "data": {
      "text/html": [
       "\n",
       "    <div>\n",
       "      <progress value='8000' class='' max='8000' style='width:300px; height:20px; vertical-align: middle;'></progress>\n",
       "      100.00% [8000/8000 00:06&lt;00:00 Sampling 4 chains, 0 divergences]\n",
       "    </div>\n",
       "    "
      ],
      "text/plain": [
       "<IPython.core.display.HTML object>"
      ]
     },
     "metadata": {},
     "output_type": "display_data"
    },
    {
     "name": "stderr",
     "output_type": "stream",
     "text": [
      "Sampling 4 chains for 1_000 tune and 1_000 draw iterations (4_000 + 4_000 draws total) took 17 seconds.\n"
     ]
    }
   ],
   "source": [
    "idata_uneq = model_uneq.fit(draws=1000)"
   ]
  },
  {
   "cell_type": "code",
   "execution_count": 15,
   "id": "f9261f58-3adc-47ad-8f76-376ec8581694",
   "metadata": {},
   "outputs": [
    {
     "data": {
      "text/html": [
       "<div>\n",
       "<style scoped>\n",
       "    .dataframe tbody tr th:only-of-type {\n",
       "        vertical-align: middle;\n",
       "    }\n",
       "\n",
       "    .dataframe tbody tr th {\n",
       "        vertical-align: top;\n",
       "    }\n",
       "\n",
       "    .dataframe thead th {\n",
       "        text-align: right;\n",
       "    }\n",
       "</style>\n",
       "<table border=\"1\" class=\"dataframe\">\n",
       "  <thead>\n",
       "    <tr style=\"text-align: right;\">\n",
       "      <th></th>\n",
       "      <th>median</th>\n",
       "      <th>mad</th>\n",
       "      <th>eti_3%</th>\n",
       "      <th>eti_97%</th>\n",
       "      <th>mcse_median</th>\n",
       "      <th>ess_median</th>\n",
       "      <th>ess_tail</th>\n",
       "      <th>r_hat</th>\n",
       "    </tr>\n",
       "  </thead>\n",
       "  <tbody>\n",
       "    <tr>\n",
       "      <th>Intercept</th>\n",
       "      <td>5.958</td>\n",
       "      <td>0.075</td>\n",
       "      <td>5.753</td>\n",
       "      <td>6.151</td>\n",
       "      <td>0.002</td>\n",
       "      <td>5501.080</td>\n",
       "      <td>3402.0</td>\n",
       "      <td>1.0</td>\n",
       "    </tr>\n",
       "    <tr>\n",
       "      <th>C(genre, levels=levels)[Action]</th>\n",
       "      <td>-0.667</td>\n",
       "      <td>0.101</td>\n",
       "      <td>-0.940</td>\n",
       "      <td>-0.384</td>\n",
       "      <td>0.003</td>\n",
       "      <td>6121.231</td>\n",
       "      <td>3284.0</td>\n",
       "      <td>1.0</td>\n",
       "    </tr>\n",
       "    <tr>\n",
       "      <th>sigma_Intercept</th>\n",
       "      <td>0.434</td>\n",
       "      <td>0.034</td>\n",
       "      <td>0.340</td>\n",
       "      <td>0.533</td>\n",
       "      <td>0.001</td>\n",
       "      <td>6062.634</td>\n",
       "      <td>3350.0</td>\n",
       "      <td>1.0</td>\n",
       "    </tr>\n",
       "    <tr>\n",
       "      <th>sigma_C(genre, levels=levels)[Action]</th>\n",
       "      <td>-0.023</td>\n",
       "      <td>0.047</td>\n",
       "      <td>-0.154</td>\n",
       "      <td>0.113</td>\n",
       "      <td>0.001</td>\n",
       "      <td>5655.460</td>\n",
       "      <td>3044.0</td>\n",
       "      <td>1.0</td>\n",
       "    </tr>\n",
       "    <tr>\n",
       "      <th>sigma[0]</th>\n",
       "      <td>1.507</td>\n",
       "      <td>0.050</td>\n",
       "      <td>1.377</td>\n",
       "      <td>1.660</td>\n",
       "      <td>0.001</td>\n",
       "      <td>6215.997</td>\n",
       "      <td>2575.0</td>\n",
       "      <td>1.0</td>\n",
       "    </tr>\n",
       "    <tr>\n",
       "      <th>...</th>\n",
       "      <td>...</td>\n",
       "      <td>...</td>\n",
       "      <td>...</td>\n",
       "      <td>...</td>\n",
       "      <td>...</td>\n",
       "      <td>...</td>\n",
       "      <td>...</td>\n",
       "      <td>...</td>\n",
       "    </tr>\n",
       "    <tr>\n",
       "      <th>sigma[395]</th>\n",
       "      <td>1.544</td>\n",
       "      <td>0.053</td>\n",
       "      <td>1.406</td>\n",
       "      <td>1.703</td>\n",
       "      <td>0.001</td>\n",
       "      <td>6062.634</td>\n",
       "      <td>3350.0</td>\n",
       "      <td>1.0</td>\n",
       "    </tr>\n",
       "    <tr>\n",
       "      <th>sigma[396]</th>\n",
       "      <td>1.544</td>\n",
       "      <td>0.053</td>\n",
       "      <td>1.406</td>\n",
       "      <td>1.703</td>\n",
       "      <td>0.001</td>\n",
       "      <td>6062.634</td>\n",
       "      <td>3350.0</td>\n",
       "      <td>1.0</td>\n",
       "    </tr>\n",
       "    <tr>\n",
       "      <th>sigma[397]</th>\n",
       "      <td>1.544</td>\n",
       "      <td>0.053</td>\n",
       "      <td>1.406</td>\n",
       "      <td>1.703</td>\n",
       "      <td>0.001</td>\n",
       "      <td>6062.634</td>\n",
       "      <td>3350.0</td>\n",
       "      <td>1.0</td>\n",
       "    </tr>\n",
       "    <tr>\n",
       "      <th>sigma[398]</th>\n",
       "      <td>1.544</td>\n",
       "      <td>0.053</td>\n",
       "      <td>1.406</td>\n",
       "      <td>1.703</td>\n",
       "      <td>0.001</td>\n",
       "      <td>6062.634</td>\n",
       "      <td>3350.0</td>\n",
       "      <td>1.0</td>\n",
       "    </tr>\n",
       "    <tr>\n",
       "      <th>sigma[399]</th>\n",
       "      <td>1.544</td>\n",
       "      <td>0.053</td>\n",
       "      <td>1.406</td>\n",
       "      <td>1.703</td>\n",
       "      <td>0.001</td>\n",
       "      <td>6062.634</td>\n",
       "      <td>3350.0</td>\n",
       "      <td>1.0</td>\n",
       "    </tr>\n",
       "  </tbody>\n",
       "</table>\n",
       "<p>404 rows × 8 columns</p>\n",
       "</div>"
      ],
      "text/plain": [
       "                                       median    mad  eti_3%  eti_97%  \\\n",
       "Intercept                               5.958  0.075   5.753    6.151   \n",
       "C(genre, levels=levels)[Action]        -0.667  0.101  -0.940   -0.384   \n",
       "sigma_Intercept                         0.434  0.034   0.340    0.533   \n",
       "sigma_C(genre, levels=levels)[Action]  -0.023  0.047  -0.154    0.113   \n",
       "sigma[0]                                1.507  0.050   1.377    1.660   \n",
       "...                                       ...    ...     ...      ...   \n",
       "sigma[395]                              1.544  0.053   1.406    1.703   \n",
       "sigma[396]                              1.544  0.053   1.406    1.703   \n",
       "sigma[397]                              1.544  0.053   1.406    1.703   \n",
       "sigma[398]                              1.544  0.053   1.406    1.703   \n",
       "sigma[399]                              1.544  0.053   1.406    1.703   \n",
       "\n",
       "                                       mcse_median  ess_median  ess_tail  \\\n",
       "Intercept                                    0.002    5501.080    3402.0   \n",
       "C(genre, levels=levels)[Action]              0.003    6121.231    3284.0   \n",
       "sigma_Intercept                              0.001    6062.634    3350.0   \n",
       "sigma_C(genre, levels=levels)[Action]        0.001    5655.460    3044.0   \n",
       "sigma[0]                                     0.001    6215.997    2575.0   \n",
       "...                                            ...         ...       ...   \n",
       "sigma[395]                                   0.001    6062.634    3350.0   \n",
       "sigma[396]                                   0.001    6062.634    3350.0   \n",
       "sigma[397]                                   0.001    6062.634    3350.0   \n",
       "sigma[398]                                   0.001    6062.634    3350.0   \n",
       "sigma[399]                                   0.001    6062.634    3350.0   \n",
       "\n",
       "                                       r_hat  \n",
       "Intercept                                1.0  \n",
       "C(genre, levels=levels)[Action]          1.0  \n",
       "sigma_Intercept                          1.0  \n",
       "sigma_C(genre, levels=levels)[Action]    1.0  \n",
       "sigma[0]                                 1.0  \n",
       "...                                      ...  \n",
       "sigma[395]                               1.0  \n",
       "sigma[396]                               1.0  \n",
       "sigma[397]                               1.0  \n",
       "sigma[398]                               1.0  \n",
       "sigma[399]                               1.0  \n",
       "\n",
       "[404 rows x 8 columns]"
      ]
     },
     "execution_count": 15,
     "metadata": {},
     "output_type": "execute_result"
    }
   ],
   "source": [
    "az.summary(idata_uneq, stat_focus=\"median\")"
   ]
  },
  {
   "cell_type": "code",
   "execution_count": 16,
   "id": "9b882f87-0a06-473c-9b1f-9bb3f4a98c4e",
   "metadata": {},
   "outputs": [
    {
     "data": {
      "text/plain": [
       "0.9772624837732771"
      ]
     },
     "execution_count": 16,
     "metadata": {},
     "output_type": "execute_result"
    }
   ],
   "source": [
    "np.exp(az.summary(idata_uneq, stat_focus=\"median\").loc[\"sigma_C(genre, levels=levels)[Action]\",\"median\"])"
   ]
  },
  {
   "cell_type": "code",
   "execution_count": null,
   "id": "f7e73b05-6479-472c-95f7-4b58a44864f1",
   "metadata": {},
   "outputs": [],
   "source": []
  },
  {
   "cell_type": "markdown",
   "id": "1a0b138c-5cd3-4733-971f-0c64a146bb12",
   "metadata": {},
   "source": [
    "### BEST"
   ]
  },
  {
   "cell_type": "code",
   "execution_count": 17,
   "id": "0b9d4894-d31b-4bde-870f-0f4641d8a0a6",
   "metadata": {},
   "outputs": [
    {
     "name": "stdout",
     "output_type": "stream",
     "text": [
      "       Formula: rating ~ 1 + C(genre,levels=levels)\n",
      "                sigma ~ C(genre,levels=levels)\n",
      "        Family: t\n",
      "          Link: mu = identity\n",
      "                sigma = log\n",
      "  Observations: 400\n",
      "        Priors: \n",
      "    target = mu\n",
      "        Common-level effects\n",
      "            Intercept ~ Normal(mu: 0.0, sigma: 5.0)\n",
      "            C(genre, levels=levels) ~ Normal(mu: 0.0, sigma: 1.0)\n",
      "        \n",
      "        Auxiliary parameters\n",
      "            nu ~ Exponential(lam: 0.0345)\n",
      "    target = sigma\n",
      "        Common-level effects\n",
      "            sigma_Intercept ~ Normal(mu: 0.0, sigma: 1.0)\n",
      "            sigma_C(genre, levels=levels) ~ Cauchy(alpha: 0.0, beta: 1.0)\n"
     ]
    }
   ],
   "source": [
    "levels = [\"Comedy\", \"Action\"]\n",
    "formula_best = bmb.Formula(\"rating ~ 1 + C(genre,levels=levels)\", \"sigma ~ C(genre,levels=levels)\")\n",
    "\n",
    "priors = {\n",
    "    \"Intercept\": bmb.Prior(\"Normal\", mu=0, sigma=5),\n",
    "    \"C(genre, levels=levels)\": bmb.Prior(\"Normal\", mu=0, sigma=1),\n",
    "    \"sigma\": {\"C(genre, levels=levels)\": bmb.Prior(\"Cauchy\", alpha=0, beta=1)},\n",
    "    \"nu\": bmb.Prior(\"Exponential\", lam=1/29),\n",
    "}\n",
    "\n",
    "# Build model\n",
    "model_best = bmb.Model(formula_best, priors=priors, family=\"t\", data=movies)\n",
    "\n",
    "# Get model description\n",
    "print(model_best)\n",
    "# model_best.build()\n",
    "# model_best.graph()"
   ]
  },
  {
   "cell_type": "code",
   "execution_count": 18,
   "id": "d953cca3-3f52-4af0-b6ff-d660b36b7752",
   "metadata": {},
   "outputs": [
    {
     "name": "stderr",
     "output_type": "stream",
     "text": [
      "Auto-assigning NUTS sampler...\n",
      "Initializing NUTS using jitter+adapt_diag...\n",
      "Multiprocess sampling (4 chains in 4 jobs)\n",
      "NUTS: [rating_nu, Intercept, C(genre, levels=levels), sigma_Intercept, sigma_C(genre, levels=levels)]\n",
      "WARNING (pytensor.tensor.blas): Using NumPy C-API based implementation for BLAS functions.\n",
      "WARNING (pytensor.tensor.blas): Using NumPy C-API based implementation for BLAS functions.\n",
      "WARNING (pytensor.tensor.blas): Using NumPy C-API based implementation for BLAS functions.\n",
      "WARNING (pytensor.tensor.blas): Using NumPy C-API based implementation for BLAS functions.\n"
     ]
    },
    {
     "data": {
      "text/html": [
       "\n",
       "<style>\n",
       "    /* Turns off some styling */\n",
       "    progress {\n",
       "        /* gets rid of default border in Firefox and Opera. */\n",
       "        border: none;\n",
       "        /* Needs to be in here for Safari polyfill so background images work as expected. */\n",
       "        background-size: auto;\n",
       "    }\n",
       "    progress:not([value]), progress:not([value])::-webkit-progress-bar {\n",
       "        background: repeating-linear-gradient(45deg, #7e7e7e, #7e7e7e 10px, #5c5c5c 10px, #5c5c5c 20px);\n",
       "    }\n",
       "    .progress-bar-interrupted, .progress-bar-interrupted::-webkit-progress-bar {\n",
       "        background: #F44336;\n",
       "    }\n",
       "</style>\n"
      ],
      "text/plain": [
       "<IPython.core.display.HTML object>"
      ]
     },
     "metadata": {},
     "output_type": "display_data"
    },
    {
     "data": {
      "text/html": [
       "\n",
       "    <div>\n",
       "      <progress value='8000' class='' max='8000' style='width:300px; height:20px; vertical-align: middle;'></progress>\n",
       "      100.00% [8000/8000 00:10&lt;00:00 Sampling 4 chains, 4 divergences]\n",
       "    </div>\n",
       "    "
      ],
      "text/plain": [
       "<IPython.core.display.HTML object>"
      ]
     },
     "metadata": {},
     "output_type": "display_data"
    },
    {
     "name": "stderr",
     "output_type": "stream",
     "text": [
      "Sampling 4 chains for 1_000 tune and 1_000 draw iterations (4_000 + 4_000 draws total) took 22 seconds.\n",
      "There were 4 divergences after tuning. Increase `target_accept` or reparameterize.\n"
     ]
    }
   ],
   "source": [
    "idata_best = model_best.fit(draws=1000)"
   ]
  },
  {
   "cell_type": "code",
   "execution_count": 19,
   "id": "b94ada55-4676-4bcd-9f14-590c1c14d041",
   "metadata": {},
   "outputs": [
    {
     "data": {
      "text/html": [
       "<div>\n",
       "<style scoped>\n",
       "    .dataframe tbody tr th:only-of-type {\n",
       "        vertical-align: middle;\n",
       "    }\n",
       "\n",
       "    .dataframe tbody tr th {\n",
       "        vertical-align: top;\n",
       "    }\n",
       "\n",
       "    .dataframe thead th {\n",
       "        text-align: right;\n",
       "    }\n",
       "</style>\n",
       "<table border=\"1\" class=\"dataframe\">\n",
       "  <thead>\n",
       "    <tr style=\"text-align: right;\">\n",
       "      <th></th>\n",
       "      <th>median</th>\n",
       "      <th>mad</th>\n",
       "      <th>eti_3%</th>\n",
       "      <th>eti_97%</th>\n",
       "      <th>mcse_median</th>\n",
       "      <th>ess_median</th>\n",
       "      <th>ess_tail</th>\n",
       "      <th>r_hat</th>\n",
       "    </tr>\n",
       "  </thead>\n",
       "  <tbody>\n",
       "    <tr>\n",
       "      <th>Intercept</th>\n",
       "      <td>5.981</td>\n",
       "      <td>0.070</td>\n",
       "      <td>5.787</td>\n",
       "      <td>6.172</td>\n",
       "      <td>0.002</td>\n",
       "      <td>4154.820</td>\n",
       "      <td>2915.0</td>\n",
       "      <td>1.0</td>\n",
       "    </tr>\n",
       "    <tr>\n",
       "      <th>C(genre, levels=levels)[Action]</th>\n",
       "      <td>-0.680</td>\n",
       "      <td>0.100</td>\n",
       "      <td>-0.960</td>\n",
       "      <td>-0.402</td>\n",
       "      <td>0.003</td>\n",
       "      <td>3883.913</td>\n",
       "      <td>2685.0</td>\n",
       "      <td>1.0</td>\n",
       "    </tr>\n",
       "    <tr>\n",
       "      <th>sigma_Intercept</th>\n",
       "      <td>0.387</td>\n",
       "      <td>0.040</td>\n",
       "      <td>0.268</td>\n",
       "      <td>0.495</td>\n",
       "      <td>0.002</td>\n",
       "      <td>3197.444</td>\n",
       "      <td>2080.0</td>\n",
       "      <td>1.0</td>\n",
       "    </tr>\n",
       "    <tr>\n",
       "      <th>sigma_C(genre, levels=levels)[Action]</th>\n",
       "      <td>0.000</td>\n",
       "      <td>0.051</td>\n",
       "      <td>-0.142</td>\n",
       "      <td>0.144</td>\n",
       "      <td>0.002</td>\n",
       "      <td>3651.121</td>\n",
       "      <td>2894.0</td>\n",
       "      <td>1.0</td>\n",
       "    </tr>\n",
       "    <tr>\n",
       "      <th>rating_nu</th>\n",
       "      <td>32.079</td>\n",
       "      <td>13.955</td>\n",
       "      <td>9.874</td>\n",
       "      <td>105.416</td>\n",
       "      <td>0.455</td>\n",
       "      <td>3032.644</td>\n",
       "      <td>2062.0</td>\n",
       "      <td>1.0</td>\n",
       "    </tr>\n",
       "    <tr>\n",
       "      <th>...</th>\n",
       "      <td>...</td>\n",
       "      <td>...</td>\n",
       "      <td>...</td>\n",
       "      <td>...</td>\n",
       "      <td>...</td>\n",
       "      <td>...</td>\n",
       "      <td>...</td>\n",
       "      <td>...</td>\n",
       "    </tr>\n",
       "    <tr>\n",
       "      <th>sigma[395]</th>\n",
       "      <td>1.472</td>\n",
       "      <td>0.059</td>\n",
       "      <td>1.307</td>\n",
       "      <td>1.640</td>\n",
       "      <td>0.002</td>\n",
       "      <td>3197.444</td>\n",
       "      <td>2080.0</td>\n",
       "      <td>1.0</td>\n",
       "    </tr>\n",
       "    <tr>\n",
       "      <th>sigma[396]</th>\n",
       "      <td>1.472</td>\n",
       "      <td>0.059</td>\n",
       "      <td>1.307</td>\n",
       "      <td>1.640</td>\n",
       "      <td>0.002</td>\n",
       "      <td>3197.444</td>\n",
       "      <td>2080.0</td>\n",
       "      <td>1.0</td>\n",
       "    </tr>\n",
       "    <tr>\n",
       "      <th>sigma[397]</th>\n",
       "      <td>1.472</td>\n",
       "      <td>0.059</td>\n",
       "      <td>1.307</td>\n",
       "      <td>1.640</td>\n",
       "      <td>0.002</td>\n",
       "      <td>3197.444</td>\n",
       "      <td>2080.0</td>\n",
       "      <td>1.0</td>\n",
       "    </tr>\n",
       "    <tr>\n",
       "      <th>sigma[398]</th>\n",
       "      <td>1.472</td>\n",
       "      <td>0.059</td>\n",
       "      <td>1.307</td>\n",
       "      <td>1.640</td>\n",
       "      <td>0.002</td>\n",
       "      <td>3197.444</td>\n",
       "      <td>2080.0</td>\n",
       "      <td>1.0</td>\n",
       "    </tr>\n",
       "    <tr>\n",
       "      <th>sigma[399]</th>\n",
       "      <td>1.472</td>\n",
       "      <td>0.059</td>\n",
       "      <td>1.307</td>\n",
       "      <td>1.640</td>\n",
       "      <td>0.002</td>\n",
       "      <td>3197.444</td>\n",
       "      <td>2080.0</td>\n",
       "      <td>1.0</td>\n",
       "    </tr>\n",
       "  </tbody>\n",
       "</table>\n",
       "<p>405 rows × 8 columns</p>\n",
       "</div>"
      ],
      "text/plain": [
       "                                       median     mad  eti_3%  eti_97%  \\\n",
       "Intercept                               5.981   0.070   5.787    6.172   \n",
       "C(genre, levels=levels)[Action]        -0.680   0.100  -0.960   -0.402   \n",
       "sigma_Intercept                         0.387   0.040   0.268    0.495   \n",
       "sigma_C(genre, levels=levels)[Action]   0.000   0.051  -0.142    0.144   \n",
       "rating_nu                              32.079  13.955   9.874  105.416   \n",
       "...                                       ...     ...     ...      ...   \n",
       "sigma[395]                              1.472   0.059   1.307    1.640   \n",
       "sigma[396]                              1.472   0.059   1.307    1.640   \n",
       "sigma[397]                              1.472   0.059   1.307    1.640   \n",
       "sigma[398]                              1.472   0.059   1.307    1.640   \n",
       "sigma[399]                              1.472   0.059   1.307    1.640   \n",
       "\n",
       "                                       mcse_median  ess_median  ess_tail  \\\n",
       "Intercept                                    0.002    4154.820    2915.0   \n",
       "C(genre, levels=levels)[Action]              0.003    3883.913    2685.0   \n",
       "sigma_Intercept                              0.002    3197.444    2080.0   \n",
       "sigma_C(genre, levels=levels)[Action]        0.002    3651.121    2894.0   \n",
       "rating_nu                                    0.455    3032.644    2062.0   \n",
       "...                                            ...         ...       ...   \n",
       "sigma[395]                                   0.002    3197.444    2080.0   \n",
       "sigma[396]                                   0.002    3197.444    2080.0   \n",
       "sigma[397]                                   0.002    3197.444    2080.0   \n",
       "sigma[398]                                   0.002    3197.444    2080.0   \n",
       "sigma[399]                                   0.002    3197.444    2080.0   \n",
       "\n",
       "                                       r_hat  \n",
       "Intercept                                1.0  \n",
       "C(genre, levels=levels)[Action]          1.0  \n",
       "sigma_Intercept                          1.0  \n",
       "sigma_C(genre, levels=levels)[Action]    1.0  \n",
       "rating_nu                                1.0  \n",
       "...                                      ...  \n",
       "sigma[395]                               1.0  \n",
       "sigma[396]                               1.0  \n",
       "sigma[397]                               1.0  \n",
       "sigma[398]                               1.0  \n",
       "sigma[399]                               1.0  \n",
       "\n",
       "[405 rows x 8 columns]"
      ]
     },
     "execution_count": 19,
     "metadata": {},
     "output_type": "execute_result"
    }
   ],
   "source": [
    "az.summary(idata_best, stat_focus=\"median\")"
   ]
  },
  {
   "cell_type": "markdown",
   "id": "10f4dbfe-ce60-4055-8224-fc0621c8a1e6",
   "metadata": {},
   "source": [
    "### BEST with priors on variables instead of difference\n",
    "\n",
    "\n"
   ]
  },
  {
   "cell_type": "code",
   "execution_count": 42,
   "id": "6e76947c-5f64-45af-9526-7d6c78456845",
   "metadata": {},
   "outputs": [
    {
     "name": "stdout",
     "output_type": "stream",
     "text": [
      "       Formula: rating ~ 0 + C(genre,levels=levels)\n",
      "                sigma ~ 0 + C(genre,levels=levels)\n",
      "        Family: t\n",
      "          Link: mu = identity\n",
      "                sigma = log\n",
      "  Observations: 400\n",
      "        Priors: \n",
      "    target = mu\n",
      "        Common-level effects\n",
      "            C(genre, levels=levels) ~ TruncatedNormal(mu: 6.0, sigma: 2.0, lower: 1.0, upper: 10.0)\n",
      "        \n",
      "        Auxiliary parameters\n",
      "            nu ~ Exponential(lam: 0.0345)\n",
      "    target = sigma\n",
      "        Common-level effects\n",
      "            sigma_C(genre, levels=levels) ~ Cauchy(alpha: 0.0, beta: 1.0)\n"
     ]
    }
   ],
   "source": [
    "levels = [\"Comedy\", \"Action\"]\n",
    "formula_best2 = bmb.Formula(\"rating ~ 0 + C(genre,levels=levels)\",\n",
    "                            \"sigma ~ 0 + C(genre,levels=levels)\")\n",
    "\n",
    "priors = {\n",
    "    \"C(genre, levels=levels)\": bmb.Prior(\"TruncatedNormal\", mu=6, sigma=2, lower=1, upper=10),\n",
    "    \"sigma\": {\"C(genre, levels=levels)\": bmb.Prior(\"Cauchy\", alpha=0, beta=1)},\n",
    "    \"nu\": bmb.Prior(\"Exponential\", lam=1/29),\n",
    "}\n",
    "\n",
    "# Build model\n",
    "model_best2 = bmb.Model(formula_best2, priors=priors, family=\"t\", data=movies)\n",
    "\n",
    "# Get model description\n",
    "print(model_best2)\n",
    "# model_best2.build()\n",
    "# model_best2.graph()"
   ]
  },
  {
   "cell_type": "code",
   "execution_count": 21,
   "id": "7f04782d-6a8b-4c25-8f75-0091a92b8af7",
   "metadata": {},
   "outputs": [
    {
     "name": "stderr",
     "output_type": "stream",
     "text": [
      "Auto-assigning NUTS sampler...\n",
      "Initializing NUTS using jitter+adapt_diag...\n",
      "Multiprocess sampling (4 chains in 4 jobs)\n",
      "NUTS: [rating_nu, C(genre, levels=levels), sigma_C(genre, levels=levels)]\n",
      "WARNING (pytensor.tensor.blas): Using NumPy C-API based implementation for BLAS functions.\n",
      "WARNING (pytensor.tensor.blas): Using NumPy C-API based implementation for BLAS functions.\n",
      "WARNING (pytensor.tensor.blas): Using NumPy C-API based implementation for BLAS functions.\n",
      "WARNING (pytensor.tensor.blas): Using NumPy C-API based implementation for BLAS functions.\n"
     ]
    },
    {
     "data": {
      "text/html": [
       "\n",
       "<style>\n",
       "    /* Turns off some styling */\n",
       "    progress {\n",
       "        /* gets rid of default border in Firefox and Opera. */\n",
       "        border: none;\n",
       "        /* Needs to be in here for Safari polyfill so background images work as expected. */\n",
       "        background-size: auto;\n",
       "    }\n",
       "    progress:not([value]), progress:not([value])::-webkit-progress-bar {\n",
       "        background: repeating-linear-gradient(45deg, #7e7e7e, #7e7e7e 10px, #5c5c5c 10px, #5c5c5c 20px);\n",
       "    }\n",
       "    .progress-bar-interrupted, .progress-bar-interrupted::-webkit-progress-bar {\n",
       "        background: #F44336;\n",
       "    }\n",
       "</style>\n"
      ],
      "text/plain": [
       "<IPython.core.display.HTML object>"
      ]
     },
     "metadata": {},
     "output_type": "display_data"
    },
    {
     "data": {
      "text/html": [
       "\n",
       "    <div>\n",
       "      <progress value='8000' class='' max='8000' style='width:300px; height:20px; vertical-align: middle;'></progress>\n",
       "      100.00% [8000/8000 00:10&lt;00:00 Sampling 4 chains, 7 divergences]\n",
       "    </div>\n",
       "    "
      ],
      "text/plain": [
       "<IPython.core.display.HTML object>"
      ]
     },
     "metadata": {},
     "output_type": "display_data"
    },
    {
     "name": "stderr",
     "output_type": "stream",
     "text": [
      "Sampling 4 chains for 1_000 tune and 1_000 draw iterations (4_000 + 4_000 draws total) took 22 seconds.\n",
      "There were 7 divergences after tuning. Increase `target_accept` or reparameterize.\n"
     ]
    }
   ],
   "source": [
    "idata_best2 = model_best2.fit(draws=1000)"
   ]
  },
  {
   "cell_type": "code",
   "execution_count": 22,
   "id": "ef71e76d-2176-4b6f-a467-d87c49039806",
   "metadata": {},
   "outputs": [
    {
     "data": {
      "text/html": [
       "<div>\n",
       "<style scoped>\n",
       "    .dataframe tbody tr th:only-of-type {\n",
       "        vertical-align: middle;\n",
       "    }\n",
       "\n",
       "    .dataframe tbody tr th {\n",
       "        vertical-align: top;\n",
       "    }\n",
       "\n",
       "    .dataframe thead th {\n",
       "        text-align: right;\n",
       "    }\n",
       "</style>\n",
       "<table border=\"1\" class=\"dataframe\">\n",
       "  <thead>\n",
       "    <tr style=\"text-align: right;\">\n",
       "      <th></th>\n",
       "      <th>median</th>\n",
       "      <th>mad</th>\n",
       "      <th>eti_3%</th>\n",
       "      <th>eti_97%</th>\n",
       "      <th>mcse_median</th>\n",
       "      <th>ess_median</th>\n",
       "      <th>ess_tail</th>\n",
       "      <th>r_hat</th>\n",
       "    </tr>\n",
       "  </thead>\n",
       "  <tbody>\n",
       "    <tr>\n",
       "      <th>sigma_C(genre, levels=levels)[Comedy]</th>\n",
       "      <td>0.385</td>\n",
       "      <td>0.040</td>\n",
       "      <td>0.262</td>\n",
       "      <td>0.497</td>\n",
       "      <td>0.001</td>\n",
       "      <td>3433.909</td>\n",
       "      <td>2076.0</td>\n",
       "      <td>1.0</td>\n",
       "    </tr>\n",
       "    <tr>\n",
       "      <th>sigma_C(genre, levels=levels)[Action]</th>\n",
       "      <td>0.384</td>\n",
       "      <td>0.037</td>\n",
       "      <td>0.280</td>\n",
       "      <td>0.489</td>\n",
       "      <td>0.001</td>\n",
       "      <td>3515.378</td>\n",
       "      <td>2336.0</td>\n",
       "      <td>1.0</td>\n",
       "    </tr>\n",
       "    <tr>\n",
       "      <th>rating_nu</th>\n",
       "      <td>30.345</td>\n",
       "      <td>13.420</td>\n",
       "      <td>9.972</td>\n",
       "      <td>105.726</td>\n",
       "      <td>0.420</td>\n",
       "      <td>2940.661</td>\n",
       "      <td>2236.0</td>\n",
       "      <td>1.0</td>\n",
       "    </tr>\n",
       "    <tr>\n",
       "      <th>C(genre, levels=levels)[Comedy]</th>\n",
       "      <td>5.990</td>\n",
       "      <td>0.070</td>\n",
       "      <td>5.776</td>\n",
       "      <td>6.190</td>\n",
       "      <td>0.002</td>\n",
       "      <td>3812.929</td>\n",
       "      <td>2820.0</td>\n",
       "      <td>1.0</td>\n",
       "    </tr>\n",
       "    <tr>\n",
       "      <th>C(genre, levels=levels)[Action]</th>\n",
       "      <td>5.294</td>\n",
       "      <td>0.074</td>\n",
       "      <td>5.090</td>\n",
       "      <td>5.493</td>\n",
       "      <td>0.002</td>\n",
       "      <td>3737.340</td>\n",
       "      <td>2513.0</td>\n",
       "      <td>1.0</td>\n",
       "    </tr>\n",
       "    <tr>\n",
       "      <th>...</th>\n",
       "      <td>...</td>\n",
       "      <td>...</td>\n",
       "      <td>...</td>\n",
       "      <td>...</td>\n",
       "      <td>...</td>\n",
       "      <td>...</td>\n",
       "      <td>...</td>\n",
       "      <td>...</td>\n",
       "    </tr>\n",
       "    <tr>\n",
       "      <th>sigma[395]</th>\n",
       "      <td>1.469</td>\n",
       "      <td>0.059</td>\n",
       "      <td>1.300</td>\n",
       "      <td>1.644</td>\n",
       "      <td>0.002</td>\n",
       "      <td>3433.909</td>\n",
       "      <td>2076.0</td>\n",
       "      <td>1.0</td>\n",
       "    </tr>\n",
       "    <tr>\n",
       "      <th>sigma[396]</th>\n",
       "      <td>1.469</td>\n",
       "      <td>0.059</td>\n",
       "      <td>1.300</td>\n",
       "      <td>1.644</td>\n",
       "      <td>0.002</td>\n",
       "      <td>3433.909</td>\n",
       "      <td>2076.0</td>\n",
       "      <td>1.0</td>\n",
       "    </tr>\n",
       "    <tr>\n",
       "      <th>sigma[397]</th>\n",
       "      <td>1.469</td>\n",
       "      <td>0.059</td>\n",
       "      <td>1.300</td>\n",
       "      <td>1.644</td>\n",
       "      <td>0.002</td>\n",
       "      <td>3433.909</td>\n",
       "      <td>2076.0</td>\n",
       "      <td>1.0</td>\n",
       "    </tr>\n",
       "    <tr>\n",
       "      <th>sigma[398]</th>\n",
       "      <td>1.469</td>\n",
       "      <td>0.059</td>\n",
       "      <td>1.300</td>\n",
       "      <td>1.644</td>\n",
       "      <td>0.002</td>\n",
       "      <td>3433.909</td>\n",
       "      <td>2076.0</td>\n",
       "      <td>1.0</td>\n",
       "    </tr>\n",
       "    <tr>\n",
       "      <th>sigma[399]</th>\n",
       "      <td>1.469</td>\n",
       "      <td>0.059</td>\n",
       "      <td>1.300</td>\n",
       "      <td>1.644</td>\n",
       "      <td>0.002</td>\n",
       "      <td>3433.909</td>\n",
       "      <td>2076.0</td>\n",
       "      <td>1.0</td>\n",
       "    </tr>\n",
       "  </tbody>\n",
       "</table>\n",
       "<p>405 rows × 8 columns</p>\n",
       "</div>"
      ],
      "text/plain": [
       "                                       median     mad  eti_3%  eti_97%  \\\n",
       "sigma_C(genre, levels=levels)[Comedy]   0.385   0.040   0.262    0.497   \n",
       "sigma_C(genre, levels=levels)[Action]   0.384   0.037   0.280    0.489   \n",
       "rating_nu                              30.345  13.420   9.972  105.726   \n",
       "C(genre, levels=levels)[Comedy]         5.990   0.070   5.776    6.190   \n",
       "C(genre, levels=levels)[Action]         5.294   0.074   5.090    5.493   \n",
       "...                                       ...     ...     ...      ...   \n",
       "sigma[395]                              1.469   0.059   1.300    1.644   \n",
       "sigma[396]                              1.469   0.059   1.300    1.644   \n",
       "sigma[397]                              1.469   0.059   1.300    1.644   \n",
       "sigma[398]                              1.469   0.059   1.300    1.644   \n",
       "sigma[399]                              1.469   0.059   1.300    1.644   \n",
       "\n",
       "                                       mcse_median  ess_median  ess_tail  \\\n",
       "sigma_C(genre, levels=levels)[Comedy]        0.001    3433.909    2076.0   \n",
       "sigma_C(genre, levels=levels)[Action]        0.001    3515.378    2336.0   \n",
       "rating_nu                                    0.420    2940.661    2236.0   \n",
       "C(genre, levels=levels)[Comedy]              0.002    3812.929    2820.0   \n",
       "C(genre, levels=levels)[Action]              0.002    3737.340    2513.0   \n",
       "...                                            ...         ...       ...   \n",
       "sigma[395]                                   0.002    3433.909    2076.0   \n",
       "sigma[396]                                   0.002    3433.909    2076.0   \n",
       "sigma[397]                                   0.002    3433.909    2076.0   \n",
       "sigma[398]                                   0.002    3433.909    2076.0   \n",
       "sigma[399]                                   0.002    3433.909    2076.0   \n",
       "\n",
       "                                       r_hat  \n",
       "sigma_C(genre, levels=levels)[Comedy]    1.0  \n",
       "sigma_C(genre, levels=levels)[Action]    1.0  \n",
       "rating_nu                                1.0  \n",
       "C(genre, levels=levels)[Comedy]          1.0  \n",
       "C(genre, levels=levels)[Action]          1.0  \n",
       "...                                      ...  \n",
       "sigma[395]                               1.0  \n",
       "sigma[396]                               1.0  \n",
       "sigma[397]                               1.0  \n",
       "sigma[398]                               1.0  \n",
       "sigma[399]                               1.0  \n",
       "\n",
       "[405 rows x 8 columns]"
      ]
     },
     "execution_count": 22,
     "metadata": {},
     "output_type": "execute_result"
    }
   ],
   "source": [
    "az.summary(idata_best2, stat_focus=\"median\")"
   ]
  },
  {
   "cell_type": "code",
   "execution_count": 23,
   "id": "603d0d96-f285-49e3-8d0b-44e4a2aee249",
   "metadata": {},
   "outputs": [
    {
     "data": {
      "text/plain": [
       "1.4681454416819895"
      ]
     },
     "execution_count": 23,
     "metadata": {},
     "output_type": "execute_result"
    }
   ],
   "source": [
    "np.exp(az.summary(idata_best2, stat_focus=\"median\").loc[\"sigma_C(genre, levels=levels)[Action]\",\"median\"])"
   ]
  },
  {
   "cell_type": "code",
   "execution_count": null,
   "id": "b0a0cd8f-7ee8-4973-b3a6-12d10710ba99",
   "metadata": {},
   "outputs": [],
   "source": []
  },
  {
   "cell_type": "markdown",
   "id": "520ee7a4-c570-4f85-8197-0f7467c00c18",
   "metadata": {},
   "source": [
    "## Example from original BEST paper\n",
    "\n",
    "Data taken from `BESTexample-original.R` in `BEST.zip`\n",
    "via https://web.archive.org/web/20170708173718/https://www.indiana.edu/~kruschke/BEST/\n",
    "\n",
    "\n",
    "Steps following Matti Vuorre's [blog post](https://mvuorre.github.io/posts/2017-01-02-how-to-compare-two-groups-with-robust-bayesian-estimation-using-r-stan-and-brms/) see also [src](https://github.com/mvuorre/mvuorre.github.io/tree/main/posts/2017-01-02-how-to-compare-two-groups-with-robust-bayesian-estimation-using-r-stan-and-brms) notebook."
   ]
  },
  {
   "cell_type": "markdown",
   "id": "4fbc66ea-6f70-45f1-ac1b-1643a2d97744",
   "metadata": {},
   "source": [
    "### Data"
   ]
  },
  {
   "cell_type": "code",
   "execution_count": 24,
   "id": "c4bba0e0-c5ab-4421-8030-cc018aec7ca2",
   "metadata": {},
   "outputs": [],
   "source": [
    "treated = np.array([101, 100, 102, 104, 102,  97, 105, 105,  98, 101, 100, 123, 105,\n",
    "                    103, 100,  95, 102, 106, 109, 102,  82, 102, 100, 102, 102, 101,\n",
    "                    102, 102, 103, 103,  97,  97, 103, 101,  97, 104,  96, 103, 124,\n",
    "                    101, 101, 100, 101, 101, 104, 100, 101])\n",
    "controls = np.array([ 99, 101, 100, 101, 102, 100,  97, 101, 104, 101, 102, 102, 100,\n",
    "                     105,  88, 101, 100, 104, 100, 100, 100, 101, 102, 103,  97, 101,\n",
    "                     101, 100, 101,  99, 101, 100, 100, 101, 100,  99, 101, 100, 102,\n",
    "                      99, 100,  99])\n",
    "d = pd.DataFrame({\n",
    "    \"group\": [\"treatment\"]*len(treated) + [\"control\"]*len(controls), \n",
    "    \"iq\": np.concatenate([treated, controls])\n",
    "})"
   ]
  },
  {
   "cell_type": "code",
   "execution_count": 25,
   "id": "32653699-1c20-4fc0-a535-bbcae3d43cef",
   "metadata": {},
   "outputs": [
    {
     "data": {
      "image/png": "[encoded data removed]",
      "text/plain": [
       "<Figure size 500x300 with 1 Axes>"
      ]
     },
     "metadata": {
      "image/png": {
       "height": 293,
       "width": 450
      }
     },
     "output_type": "display_data"
    }
   ],
   "source": [
    "sns.histplot(data=d, x=\"iq\", hue=\"group\");"
   ]
  },
  {
   "cell_type": "code",
   "execution_count": 26,
   "id": "14ad253d-c7d7-4350-919a-0fc810de02c6",
   "metadata": {},
   "outputs": [
    {
     "data": {
      "text/html": [
       "<div>\n",
       "<style scoped>\n",
       "    .dataframe tbody tr th:only-of-type {\n",
       "        vertical-align: middle;\n",
       "    }\n",
       "\n",
       "    .dataframe tbody tr th {\n",
       "        vertical-align: top;\n",
       "    }\n",
       "\n",
       "    .dataframe thead th {\n",
       "        text-align: right;\n",
       "    }\n",
       "</style>\n",
       "<table border=\"1\" class=\"dataframe\">\n",
       "  <thead>\n",
       "    <tr style=\"text-align: right;\">\n",
       "      <th></th>\n",
       "      <th>iq</th>\n",
       "    </tr>\n",
       "    <tr>\n",
       "      <th>group</th>\n",
       "      <th></th>\n",
       "    </tr>\n",
       "  </thead>\n",
       "  <tbody>\n",
       "    <tr>\n",
       "      <th>control</th>\n",
       "      <td>100.357143</td>\n",
       "    </tr>\n",
       "    <tr>\n",
       "      <th>treatment</th>\n",
       "      <td>101.914894</td>\n",
       "    </tr>\n",
       "  </tbody>\n",
       "</table>\n",
       "</div>"
      ],
      "text/plain": [
       "                   iq\n",
       "group                \n",
       "control    100.357143\n",
       "treatment  101.914894"
      ]
     },
     "execution_count": 26,
     "metadata": {},
     "output_type": "execute_result"
    }
   ],
   "source": [
    "d.groupby(\"group\").mean()"
   ]
  },
  {
   "cell_type": "markdown",
   "id": "2e01bedf-4f0d-4512-b7e2-f5b3bbb2f175",
   "metadata": {},
   "source": [
    "### Equal variances t-test"
   ]
  },
  {
   "cell_type": "code",
   "execution_count": 27,
   "id": "a765681a-981b-4a9c-8311-db747843235b",
   "metadata": {},
   "outputs": [
    {
     "data": {
      "text/plain": [
       "(1.5586953301521096, 0.12269895509665575)"
      ]
     },
     "execution_count": 27,
     "metadata": {},
     "output_type": "execute_result"
    }
   ],
   "source": [
    "from scipy.stats import ttest_ind\n",
    "\n",
    "res_eqvar = ttest_ind(treated, controls, equal_var=True)\n",
    "res_eqvar.statistic, res_eqvar.pvalue"
   ]
  },
  {
   "cell_type": "code",
   "execution_count": 28,
   "id": "588bb63c-7154-4ec9-bd34-f2285358f012",
   "metadata": {},
   "outputs": [
    {
     "data": {
      "text/plain": [
       "[-0.42865302979133335, 3.5441545495481668]"
      ]
     },
     "execution_count": 28,
     "metadata": {},
     "output_type": "execute_result"
    }
   ],
   "source": [
    "ci_eqvar = res_eqvar.confidence_interval(confidence_level=0.95)\n",
    "[ci_eqvar.low, ci_eqvar.high]"
   ]
  },
  {
   "cell_type": "code",
   "execution_count": null,
   "id": "d9ca14d2-9d26-4423-ad12-72bfe99b4490",
   "metadata": {},
   "outputs": [],
   "source": []
  },
  {
   "cell_type": "markdown",
   "id": "460c9ad9-81b6-4d90-97ae-295bd445dcea",
   "metadata": {},
   "source": [
    "### Unequal variances t-test"
   ]
  },
  {
   "cell_type": "code",
   "execution_count": 29,
   "id": "a0670103-e5bf-4dea-a6d3-c4998ca63a03",
   "metadata": {},
   "outputs": [
    {
     "data": {
      "text/plain": [
       "(1.622190457290228, 0.10975381983712831)"
      ]
     },
     "execution_count": 29,
     "metadata": {},
     "output_type": "execute_result"
    }
   ],
   "source": [
    "res_uneqvar = ttest_ind(treated, controls, equal_var=False)\n",
    "res_uneqvar.statistic, res_uneqvar.pvalue"
   ]
  },
  {
   "cell_type": "code",
   "execution_count": 30,
   "id": "76d367ad-94a2-4353-8115-1d3e9d015d27",
   "metadata": {},
   "outputs": [
    {
     "data": {
      "text/plain": [
       "[-0.3611847716497789, 3.476686291406612]"
      ]
     },
     "execution_count": 30,
     "metadata": {},
     "output_type": "execute_result"
    }
   ],
   "source": [
    "ci_uneqvar = res_uneqvar.confidence_interval(confidence_level=0.95)\n",
    "[ci_uneqvar.low, ci_uneqvar.high]"
   ]
  },
  {
   "cell_type": "code",
   "execution_count": null,
   "id": "19a7e676-a01c-4889-b861-36ba87d3e7a6",
   "metadata": {},
   "outputs": [],
   "source": []
  },
  {
   "cell_type": "markdown",
   "id": "2e5350f9-f505-4452-a779-c9e029b6d60a",
   "metadata": {},
   "source": [
    "### Linear model"
   ]
  },
  {
   "cell_type": "code",
   "execution_count": 31,
   "id": "0df340d4-887e-49ab-bf95-fb959f276884",
   "metadata": {},
   "outputs": [
    {
     "name": "stdout",
     "output_type": "stream",
     "text": [
      "                            OLS Regression Results                            \n",
      "==============================================================================\n",
      "Dep. Variable:                     iq   R-squared:                       0.027\n",
      "Model:                            OLS   Adj. R-squared:                  0.016\n",
      "Method:                 Least Squares   F-statistic:                     2.430\n",
      "Date:                Mon, 19 Aug 2024   Prob (F-statistic):              0.123\n",
      "Time:                        22:59:33   Log-Likelihood:                -263.13\n",
      "No. Observations:                  89   AIC:                             530.3\n",
      "Df Residuals:                      87   BIC:                             535.2\n",
      "Df Model:                           1                                         \n",
      "Covariance Type:            nonrobust                                         \n",
      "=========================================================================================\n",
      "                            coef    std err          t      P>|t|      [0.025      0.975]\n",
      "-----------------------------------------------------------------------------------------\n",
      "Intercept               100.3571      0.726    138.184      0.000      98.914     101.801\n",
      "C(group)[T.treatment]     1.5578      0.999      1.559      0.123      -0.429       3.544\n",
      "==============================================================================\n",
      "Omnibus:                       46.068   Durbin-Watson:                   2.025\n",
      "Prob(Omnibus):                  0.000   Jarque-Bera (JB):              553.494\n",
      "Skew:                           1.108   Prob(JB):                    6.46e-121\n",
      "Kurtosis:                      15.014   Cond. No.                         2.69\n",
      "==============================================================================\n",
      "\n",
      "Notes:\n",
      "[1] Standard Errors assume that the covariance matrix of the errors is correctly specified.\n"
     ]
    }
   ],
   "source": [
    "import statsmodels.formula.api as smf\n",
    "res_ols = smf.ols(\"iq ~ 1 + C(group)\", data=d).fit()\n",
    "print(res_ols.summary())"
   ]
  },
  {
   "cell_type": "markdown",
   "id": "96f50bd1-8d26-433b-ac3f-1b2c56feea05",
   "metadata": {},
   "source": [
    "### Alternative linear model\n",
    "\n",
    "Using generalized least squares to reproduce the unequal variance case."
   ]
  },
  {
   "cell_type": "code",
   "execution_count": 32,
   "id": "2a75cf9c-9ba0-4b1d-a3b8-f9823a120342",
   "metadata": {},
   "outputs": [
    {
     "name": "stdout",
     "output_type": "stream",
     "text": [
      "                            GLS Regression Results                            \n",
      "==============================================================================\n",
      "Dep. Variable:                     iq   R-squared:                       0.029\n",
      "Model:                            GLS   Adj. R-squared:                  0.018\n",
      "Method:                 Least Squares   F-statistic:                     2.629\n",
      "Date:                Mon, 19 Aug 2024   Prob (F-statistic):              0.109\n",
      "Time:                        22:59:33   Log-Likelihood:                -248.41\n",
      "No. Observations:                  89   AIC:                             500.8\n",
      "Df Residuals:                      87   BIC:                             505.8\n",
      "Df Model:                           1                                         \n",
      "Covariance Type:            nonrobust                                         \n",
      "=========================================================================================\n",
      "                            coef    std err          t      P>|t|      [0.025      0.975]\n",
      "-----------------------------------------------------------------------------------------\n",
      "Intercept               100.3571      0.388    258.627      0.000      99.586     101.128\n",
      "C(group)[T.treatment]     1.5578      0.961      1.622      0.109      -0.352       3.467\n",
      "==============================================================================\n",
      "Omnibus:                       33.582   Durbin-Watson:                   2.234\n",
      "Prob(Omnibus):                  0.000   Jarque-Bera (JB):              346.198\n",
      "Skew:                          -0.648   Prob(JB):                     6.67e-76\n",
      "Kurtosis:                      12.575   Cond. No.                         2.79\n",
      "==============================================================================\n",
      "\n",
      "Notes:\n",
      "[1] Standard Errors assume that the covariance matrix of the errors is correctly specified.\n"
     ]
    }
   ],
   "source": [
    "n_t, var_t = len(treated), treated.var()\n",
    "n_c, var_c = len(controls), controls.var()\n",
    "sigma2s = [var_t]*n_t + [var_c]*n_c\n",
    "\n",
    "res_gls = smf.gls(\"iq ~ 1 + C(group)\", data=d, sigma=sigma2s).fit()\n",
    "print(res_gls.summary())"
   ]
  },
  {
   "cell_type": "code",
   "execution_count": null,
   "id": "62fc825a-650c-4176-9e9f-05c1c43e930a",
   "metadata": {},
   "outputs": [],
   "source": []
  },
  {
   "cell_type": "markdown",
   "id": "e17037dd-55c0-4d61-b01c-8a30f6aa3501",
   "metadata": {},
   "source": [
    "## Bayesian equal variances model"
   ]
  },
  {
   "cell_type": "code",
   "execution_count": 33,
   "id": "97ca996a-3ff8-4489-b193-060190419e5e",
   "metadata": {},
   "outputs": [
    {
     "name": "stdout",
     "output_type": "stream",
     "text": [
      "       Formula: iq ~ 1 + group\n",
      "        Family: gaussian\n",
      "          Link: mu = identity\n",
      "  Observations: 89\n",
      "        Priors: \n",
      "    target = mu\n",
      "        Common-level effects\n",
      "            Intercept ~ Normal(mu: 101.1798, sigma: 17.17)\n",
      "            group ~ Normal(mu: 0.0, sigma: 23.6275)\n",
      "        \n",
      "        Auxiliary parameters\n",
      "            sigma ~ HalfStudentT(nu: 4.0, sigma: 4.718)\n"
     ]
    }
   ],
   "source": [
    "import bambi as bmb\n",
    "\n",
    "mod_eqvar = bmb.Model(\"iq ~ 1 + group\", data=d)\n",
    "print(mod_eqvar)"
   ]
  },
  {
   "cell_type": "code",
   "execution_count": 34,
   "id": "7a7b6ec2-d87b-4f47-a6bb-00f1e4c99ae8",
   "metadata": {},
   "outputs": [
    {
     "name": "stderr",
     "output_type": "stream",
     "text": [
      "Auto-assigning NUTS sampler...\n",
      "Initializing NUTS using jitter+adapt_diag...\n",
      "Multiprocess sampling (4 chains in 4 jobs)\n",
      "NUTS: [iq_sigma, Intercept, group]\n",
      "WARNING (pytensor.tensor.blas): Using NumPy C-API based implementation for BLAS functions.\n",
      "WARNING (pytensor.tensor.blas): Using NumPy C-API based implementation for BLAS functions.\n",
      "WARNING (pytensor.tensor.blas): Using NumPy C-API based implementation for BLAS functions.\n",
      "WARNING (pytensor.tensor.blas): Using NumPy C-API based implementation for BLAS functions.\n"
     ]
    },
    {
     "data": {
      "text/html": [
       "\n",
       "<style>\n",
       "    /* Turns off some styling */\n",
       "    progress {\n",
       "        /* gets rid of default border in Firefox and Opera. */\n",
       "        border: none;\n",
       "        /* Needs to be in here for Safari polyfill so background images work as expected. */\n",
       "        background-size: auto;\n",
       "    }\n",
       "    progress:not([value]), progress:not([value])::-webkit-progress-bar {\n",
       "        background: repeating-linear-gradient(45deg, #7e7e7e, #7e7e7e 10px, #5c5c5c 10px, #5c5c5c 20px);\n",
       "    }\n",
       "    .progress-bar-interrupted, .progress-bar-interrupted::-webkit-progress-bar {\n",
       "        background: #F44336;\n",
       "    }\n",
       "</style>\n"
      ],
      "text/plain": [
       "<IPython.core.display.HTML object>"
      ]
     },
     "metadata": {},
     "output_type": "display_data"
    },
    {
     "data": {
      "text/html": [
       "\n",
       "    <div>\n",
       "      <progress value='12000' class='' max='12000' style='width:300px; height:20px; vertical-align: middle;'></progress>\n",
       "      100.00% [12000/12000 00:08&lt;00:00 Sampling 4 chains, 0 divergences]\n",
       "    </div>\n",
       "    "
      ],
      "text/plain": [
       "<IPython.core.display.HTML object>"
      ]
     },
     "metadata": {},
     "output_type": "display_data"
    },
    {
     "name": "stderr",
     "output_type": "stream",
     "text": [
      "Sampling 4 chains for 1_000 tune and 2_000 draw iterations (4_000 + 8_000 draws total) took 20 seconds.\n"
     ]
    }
   ],
   "source": [
    "idata_eqvar = mod_eqvar.fit(draws=2000)"
   ]
  },
  {
   "cell_type": "code",
   "execution_count": 35,
   "id": "2c566027-67c4-41d7-8eff-b8a3e09909ec",
   "metadata": {},
   "outputs": [
    {
     "data": {
      "text/html": [
       "<div>\n",
       "<style scoped>\n",
       "    .dataframe tbody tr th:only-of-type {\n",
       "        vertical-align: middle;\n",
       "    }\n",
       "\n",
       "    .dataframe tbody tr th {\n",
       "        vertical-align: top;\n",
       "    }\n",
       "\n",
       "    .dataframe thead th {\n",
       "        text-align: right;\n",
       "    }\n",
       "</style>\n",
       "<table border=\"1\" class=\"dataframe\">\n",
       "  <thead>\n",
       "    <tr style=\"text-align: right;\">\n",
       "      <th></th>\n",
       "      <th>mean</th>\n",
       "      <th>sd</th>\n",
       "      <th>hdi_3%</th>\n",
       "      <th>hdi_97%</th>\n",
       "    </tr>\n",
       "  </thead>\n",
       "  <tbody>\n",
       "    <tr>\n",
       "      <th>Intercept</th>\n",
       "      <td>100.358</td>\n",
       "      <td>0.727</td>\n",
       "      <td>98.973</td>\n",
       "      <td>101.722</td>\n",
       "    </tr>\n",
       "    <tr>\n",
       "      <th>group[treatment]</th>\n",
       "      <td>1.554</td>\n",
       "      <td>1.002</td>\n",
       "      <td>-0.358</td>\n",
       "      <td>3.365</td>\n",
       "    </tr>\n",
       "    <tr>\n",
       "      <th>iq_sigma</th>\n",
       "      <td>4.742</td>\n",
       "      <td>0.360</td>\n",
       "      <td>4.079</td>\n",
       "      <td>5.411</td>\n",
       "    </tr>\n",
       "  </tbody>\n",
       "</table>\n",
       "</div>"
      ],
      "text/plain": [
       "                     mean     sd  hdi_3%  hdi_97%\n",
       "Intercept         100.358  0.727  98.973  101.722\n",
       "group[treatment]    1.554  1.002  -0.358    3.365\n",
       "iq_sigma            4.742  0.360   4.079    5.411"
      ]
     },
     "execution_count": 35,
     "metadata": {},
     "output_type": "execute_result"
    }
   ],
   "source": [
    "import arviz as az\n",
    "\n",
    "az.summary(idata_eqvar, kind=\"stats\")"
   ]
  },
  {
   "cell_type": "code",
   "execution_count": null,
   "id": "f05fac0c-c19f-46f4-b308-f475e0b2f2c1",
   "metadata": {},
   "outputs": [],
   "source": []
  },
  {
   "cell_type": "markdown",
   "id": "ed3adf62-60da-4d80-81c4-638c98ecd0c5",
   "metadata": {},
   "source": [
    "## Bayesian unequal variances model"
   ]
  },
  {
   "cell_type": "code",
   "execution_count": 36,
   "id": "65599934-f457-4c75-8450-f60bc7743523",
   "metadata": {},
   "outputs": [
    {
     "name": "stdout",
     "output_type": "stream",
     "text": [
      "       Formula: iq ~ 1 + group\n",
      "                sigma ~ group\n",
      "        Family: gaussian\n",
      "          Link: mu = identity\n",
      "                sigma = log\n",
      "  Observations: 89\n",
      "        Priors: \n",
      "    target = mu\n",
      "        Common-level effects\n",
      "            Intercept ~ Normal(mu: 101.1798, sigma: 17.17)\n",
      "            group ~ Normal(mu: 0.0, sigma: 23.6275)\n",
      "    target = sigma\n",
      "        Common-level effects\n",
      "            sigma_Intercept ~ Normal(mu: 0.0, sigma: 1.0)\n",
      "            sigma_group ~ Normal(mu: 0.0, sigma: 1.0)\n"
     ]
    }
   ],
   "source": [
    "formula = bmb.Formula(\"iq ~ 1 + group\", \"sigma ~ group\")\n",
    "mod_uneqvar = bmb.Model(formula, data=d)\n",
    "print(mod_uneqvar)"
   ]
  },
  {
   "cell_type": "code",
   "execution_count": 37,
   "id": "c79d67df-82c2-4672-8d0a-3c83af7296cd",
   "metadata": {},
   "outputs": [
    {
     "name": "stderr",
     "output_type": "stream",
     "text": [
      "Auto-assigning NUTS sampler...\n",
      "Initializing NUTS using jitter+adapt_diag...\n",
      "Multiprocess sampling (4 chains in 4 jobs)\n",
      "NUTS: [Intercept, group, sigma_Intercept, sigma_group]\n",
      "WARNING (pytensor.tensor.blas): Using NumPy C-API based implementation for BLAS functions.\n",
      "WARNING (pytensor.tensor.blas): Using NumPy C-API based implementation for BLAS functions.\n",
      "WARNING (pytensor.tensor.blas): Using NumPy C-API based implementation for BLAS functions.\n",
      "WARNING (pytensor.tensor.blas): Using NumPy C-API based implementation for BLAS functions.\n"
     ]
    },
    {
     "data": {
      "text/html": [
       "\n",
       "<style>\n",
       "    /* Turns off some styling */\n",
       "    progress {\n",
       "        /* gets rid of default border in Firefox and Opera. */\n",
       "        border: none;\n",
       "        /* Needs to be in here for Safari polyfill so background images work as expected. */\n",
       "        background-size: auto;\n",
       "    }\n",
       "    progress:not([value]), progress:not([value])::-webkit-progress-bar {\n",
       "        background: repeating-linear-gradient(45deg, #7e7e7e, #7e7e7e 10px, #5c5c5c 10px, #5c5c5c 20px);\n",
       "    }\n",
       "    .progress-bar-interrupted, .progress-bar-interrupted::-webkit-progress-bar {\n",
       "        background: #F44336;\n",
       "    }\n",
       "</style>\n"
      ],
      "text/plain": [
       "<IPython.core.display.HTML object>"
      ]
     },
     "metadata": {},
     "output_type": "display_data"
    },
    {
     "data": {
      "text/html": [
       "\n",
       "    <div>\n",
       "      <progress value='12000' class='' max='12000' style='width:300px; height:20px; vertical-align: middle;'></progress>\n",
       "      100.00% [12000/12000 00:10&lt;00:00 Sampling 4 chains, 0 divergences]\n",
       "    </div>\n",
       "    "
      ],
      "text/plain": [
       "<IPython.core.display.HTML object>"
      ]
     },
     "metadata": {},
     "output_type": "display_data"
    },
    {
     "name": "stderr",
     "output_type": "stream",
     "text": [
      "Sampling 4 chains for 1_000 tune and 2_000 draw iterations (4_000 + 8_000 draws total) took 22 seconds.\n"
     ]
    }
   ],
   "source": [
    "idata_uneqvar = mod_uneqvar.fit(draws=2000)"
   ]
  },
  {
   "cell_type": "code",
   "execution_count": 38,
   "id": "d3e409e7-72b5-42bf-bfe1-3b65f7721116",
   "metadata": {},
   "outputs": [
    {
     "data": {
      "text/html": [
       "<div>\n",
       "<style scoped>\n",
       "    .dataframe tbody tr th:only-of-type {\n",
       "        vertical-align: middle;\n",
       "    }\n",
       "\n",
       "    .dataframe tbody tr th {\n",
       "        vertical-align: top;\n",
       "    }\n",
       "\n",
       "    .dataframe thead th {\n",
       "        text-align: right;\n",
       "    }\n",
       "</style>\n",
       "<table border=\"1\" class=\"dataframe\">\n",
       "  <thead>\n",
       "    <tr style=\"text-align: right;\">\n",
       "      <th></th>\n",
       "      <th>mean</th>\n",
       "      <th>sd</th>\n",
       "      <th>hdi_3%</th>\n",
       "      <th>hdi_97%</th>\n",
       "    </tr>\n",
       "  </thead>\n",
       "  <tbody>\n",
       "    <tr>\n",
       "      <th>Intercept</th>\n",
       "      <td>100.357</td>\n",
       "      <td>0.397</td>\n",
       "      <td>99.617</td>\n",
       "      <td>101.105</td>\n",
       "    </tr>\n",
       "    <tr>\n",
       "      <th>group[treatment]</th>\n",
       "      <td>1.553</td>\n",
       "      <td>0.965</td>\n",
       "      <td>-0.177</td>\n",
       "      <td>3.434</td>\n",
       "    </tr>\n",
       "    <tr>\n",
       "      <th>sigma_Intercept</th>\n",
       "      <td>0.939</td>\n",
       "      <td>0.109</td>\n",
       "      <td>0.741</td>\n",
       "      <td>1.150</td>\n",
       "    </tr>\n",
       "    <tr>\n",
       "      <th>sigma_group[treatment]</th>\n",
       "      <td>0.849</td>\n",
       "      <td>0.151</td>\n",
       "      <td>0.566</td>\n",
       "      <td>1.133</td>\n",
       "    </tr>\n",
       "    <tr>\n",
       "      <th>sigma[0]</th>\n",
       "      <td>6.013</td>\n",
       "      <td>0.637</td>\n",
       "      <td>4.881</td>\n",
       "      <td>7.212</td>\n",
       "    </tr>\n",
       "    <tr>\n",
       "      <th>...</th>\n",
       "      <td>...</td>\n",
       "      <td>...</td>\n",
       "      <td>...</td>\n",
       "      <td>...</td>\n",
       "    </tr>\n",
       "    <tr>\n",
       "      <th>sigma[84]</th>\n",
       "      <td>2.574</td>\n",
       "      <td>0.285</td>\n",
       "      <td>2.068</td>\n",
       "      <td>3.121</td>\n",
       "    </tr>\n",
       "    <tr>\n",
       "      <th>sigma[85]</th>\n",
       "      <td>2.574</td>\n",
       "      <td>0.285</td>\n",
       "      <td>2.068</td>\n",
       "      <td>3.121</td>\n",
       "    </tr>\n",
       "    <tr>\n",
       "      <th>sigma[86]</th>\n",
       "      <td>2.574</td>\n",
       "      <td>0.285</td>\n",
       "      <td>2.068</td>\n",
       "      <td>3.121</td>\n",
       "    </tr>\n",
       "    <tr>\n",
       "      <th>sigma[87]</th>\n",
       "      <td>2.574</td>\n",
       "      <td>0.285</td>\n",
       "      <td>2.068</td>\n",
       "      <td>3.121</td>\n",
       "    </tr>\n",
       "    <tr>\n",
       "      <th>sigma[88]</th>\n",
       "      <td>2.574</td>\n",
       "      <td>0.285</td>\n",
       "      <td>2.068</td>\n",
       "      <td>3.121</td>\n",
       "    </tr>\n",
       "  </tbody>\n",
       "</table>\n",
       "<p>93 rows × 4 columns</p>\n",
       "</div>"
      ],
      "text/plain": [
       "                           mean     sd  hdi_3%  hdi_97%\n",
       "Intercept               100.357  0.397  99.617  101.105\n",
       "group[treatment]          1.553  0.965  -0.177    3.434\n",
       "sigma_Intercept           0.939  0.109   0.741    1.150\n",
       "sigma_group[treatment]    0.849  0.151   0.566    1.133\n",
       "sigma[0]                  6.013  0.637   4.881    7.212\n",
       "...                         ...    ...     ...      ...\n",
       "sigma[84]                 2.574  0.285   2.068    3.121\n",
       "sigma[85]                 2.574  0.285   2.068    3.121\n",
       "sigma[86]                 2.574  0.285   2.068    3.121\n",
       "sigma[87]                 2.574  0.285   2.068    3.121\n",
       "sigma[88]                 2.574  0.285   2.068    3.121\n",
       "\n",
       "[93 rows x 4 columns]"
      ]
     },
     "execution_count": 38,
     "metadata": {},
     "output_type": "execute_result"
    }
   ],
   "source": [
    "az.summary(idata_uneqvar, kind=\"stats\")"
   ]
  },
  {
   "cell_type": "code",
   "execution_count": null,
   "id": "cf380df8-1049-44a8-9298-51bf3cd49258",
   "metadata": {},
   "outputs": [],
   "source": []
  },
  {
   "cell_type": "markdown",
   "id": "a2e724c9-e853-4d9f-bd02-54473c61d022",
   "metadata": {},
   "source": [
    "## Robust Bayesian Estimation"
   ]
  },
  {
   "cell_type": "code",
   "execution_count": 51,
   "id": "12f66e4a-8e0f-4d2c-aa1e-b0944fbb499c",
   "metadata": {},
   "outputs": [
    {
     "name": "stdout",
     "output_type": "stream",
     "text": [
      "       Formula: iq ~ 1 + group\n",
      "                sigma ~ group\n",
      "        Family: t\n",
      "          Link: mu = identity\n",
      "                sigma = log\n",
      "  Observations: 89\n",
      "        Priors: \n",
      "    target = mu\n",
      "        Common-level effects\n",
      "            Intercept ~ Normal(mu: 101.1798, sigma: 17.17)\n",
      "            group ~ Normal(mu: 0.0, sigma: 23.6275)\n",
      "        \n",
      "        Auxiliary parameters\n",
      "            nu ~ Gamma(alpha: 2.0, beta: 0.1)\n",
      "    target = sigma\n",
      "        Common-level effects\n",
      "            sigma_Intercept ~ Normal(mu: 0.0, sigma: 1.0)\n",
      "            sigma_group ~ Normal(mu: 0.0, sigma: 1.0)\n"
     ]
    }
   ],
   "source": [
    "formula = bmb.Formula(\"iq ~ 1 + group\", \"sigma ~ group\")\n",
    "mod_robust = bmb.Model(formula, family=\"t\", data=d)\n",
    "print(mod_robust)"
   ]
  },
  {
   "cell_type": "code",
   "execution_count": 41,
   "id": "c64e2037-ba8b-4bb5-87c6-1e0bf5dffb37",
   "metadata": {},
   "outputs": [
    {
     "name": "stderr",
     "output_type": "stream",
     "text": [
      "Auto-assigning NUTS sampler...\n",
      "Initializing NUTS using jitter+adapt_diag...\n",
      "Multiprocess sampling (4 chains in 4 jobs)\n",
      "NUTS: [iq_nu, Intercept, group, sigma_Intercept, sigma_group]\n",
      "WARNING (pytensor.tensor.blas): Using NumPy C-API based implementation for BLAS functions.\n",
      "WARNING (pytensor.tensor.blas): Using NumPy C-API based implementation for BLAS functions.\n",
      "WARNING (pytensor.tensor.blas): Using NumPy C-API based implementation for BLAS functions.\n",
      "WARNING (pytensor.tensor.blas): Using NumPy C-API based implementation for BLAS functions.\n"
     ]
    },
    {
     "data": {
      "text/html": [
       "\n",
       "<style>\n",
       "    /* Turns off some styling */\n",
       "    progress {\n",
       "        /* gets rid of default border in Firefox and Opera. */\n",
       "        border: none;\n",
       "        /* Needs to be in here for Safari polyfill so background images work as expected. */\n",
       "        background-size: auto;\n",
       "    }\n",
       "    progress:not([value]), progress:not([value])::-webkit-progress-bar {\n",
       "        background: repeating-linear-gradient(45deg, #7e7e7e, #7e7e7e 10px, #5c5c5c 10px, #5c5c5c 20px);\n",
       "    }\n",
       "    .progress-bar-interrupted, .progress-bar-interrupted::-webkit-progress-bar {\n",
       "        background: #F44336;\n",
       "    }\n",
       "</style>\n"
      ],
      "text/plain": [
       "<IPython.core.display.HTML object>"
      ]
     },
     "metadata": {},
     "output_type": "display_data"
    },
    {
     "data": {
      "text/html": [
       "\n",
       "    <div>\n",
       "      <progress value='8000' class='' max='8000' style='width:300px; height:20px; vertical-align: middle;'></progress>\n",
       "      100.00% [8000/8000 00:08&lt;00:00 Sampling 4 chains, 0 divergences]\n",
       "    </div>\n",
       "    "
      ],
      "text/plain": [
       "<IPython.core.display.HTML object>"
      ]
     },
     "metadata": {},
     "output_type": "display_data"
    },
    {
     "name": "stderr",
     "output_type": "stream",
     "text": [
      "Sampling 4 chains for 1_000 tune and 1_000 draw iterations (4_000 + 4_000 draws total) took 20 seconds.\n"
     ]
    },
    {
     "data": {
      "text/html": [
       "<div>\n",
       "<style scoped>\n",
       "    .dataframe tbody tr th:only-of-type {\n",
       "        vertical-align: middle;\n",
       "    }\n",
       "\n",
       "    .dataframe tbody tr th {\n",
       "        vertical-align: top;\n",
       "    }\n",
       "\n",
       "    .dataframe thead th {\n",
       "        text-align: right;\n",
       "    }\n",
       "</style>\n",
       "<table border=\"1\" class=\"dataframe\">\n",
       "  <thead>\n",
       "    <tr style=\"text-align: right;\">\n",
       "      <th></th>\n",
       "      <th>mean</th>\n",
       "      <th>sd</th>\n",
       "      <th>hdi_3%</th>\n",
       "      <th>hdi_97%</th>\n",
       "    </tr>\n",
       "  </thead>\n",
       "  <tbody>\n",
       "    <tr>\n",
       "      <th>Intercept</th>\n",
       "      <td>100.525</td>\n",
       "      <td>0.211</td>\n",
       "      <td>100.142</td>\n",
       "      <td>100.931</td>\n",
       "    </tr>\n",
       "    <tr>\n",
       "      <th>group[treatment]</th>\n",
       "      <td>1.026</td>\n",
       "      <td>0.414</td>\n",
       "      <td>0.248</td>\n",
       "      <td>1.799</td>\n",
       "    </tr>\n",
       "    <tr>\n",
       "      <th>sigma_Intercept</th>\n",
       "      <td>0.009</td>\n",
       "      <td>0.196</td>\n",
       "      <td>-0.364</td>\n",
       "      <td>0.361</td>\n",
       "    </tr>\n",
       "    <tr>\n",
       "      <th>sigma_group[treatment]</th>\n",
       "      <td>0.624</td>\n",
       "      <td>0.252</td>\n",
       "      <td>0.156</td>\n",
       "      <td>1.090</td>\n",
       "    </tr>\n",
       "    <tr>\n",
       "      <th>iq_nu</th>\n",
       "      <td>1.827</td>\n",
       "      <td>0.487</td>\n",
       "      <td>1.090</td>\n",
       "      <td>2.768</td>\n",
       "    </tr>\n",
       "    <tr>\n",
       "      <th>...</th>\n",
       "      <td>...</td>\n",
       "      <td>...</td>\n",
       "      <td>...</td>\n",
       "      <td>...</td>\n",
       "    </tr>\n",
       "    <tr>\n",
       "      <th>sigma[84]</th>\n",
       "      <td>1.029</td>\n",
       "      <td>0.204</td>\n",
       "      <td>0.677</td>\n",
       "      <td>1.416</td>\n",
       "    </tr>\n",
       "    <tr>\n",
       "      <th>sigma[85]</th>\n",
       "      <td>1.029</td>\n",
       "      <td>0.204</td>\n",
       "      <td>0.677</td>\n",
       "      <td>1.416</td>\n",
       "    </tr>\n",
       "    <tr>\n",
       "      <th>sigma[86]</th>\n",
       "      <td>1.029</td>\n",
       "      <td>0.204</td>\n",
       "      <td>0.677</td>\n",
       "      <td>1.416</td>\n",
       "    </tr>\n",
       "    <tr>\n",
       "      <th>sigma[87]</th>\n",
       "      <td>1.029</td>\n",
       "      <td>0.204</td>\n",
       "      <td>0.677</td>\n",
       "      <td>1.416</td>\n",
       "    </tr>\n",
       "    <tr>\n",
       "      <th>sigma[88]</th>\n",
       "      <td>1.029</td>\n",
       "      <td>0.204</td>\n",
       "      <td>0.677</td>\n",
       "      <td>1.416</td>\n",
       "    </tr>\n",
       "  </tbody>\n",
       "</table>\n",
       "<p>94 rows × 4 columns</p>\n",
       "</div>"
      ],
      "text/plain": [
       "                           mean     sd   hdi_3%  hdi_97%\n",
       "Intercept               100.525  0.211  100.142  100.931\n",
       "group[treatment]          1.026  0.414    0.248    1.799\n",
       "sigma_Intercept           0.009  0.196   -0.364    0.361\n",
       "sigma_group[treatment]    0.624  0.252    0.156    1.090\n",
       "iq_nu                     1.827  0.487    1.090    2.768\n",
       "...                         ...    ...      ...      ...\n",
       "sigma[84]                 1.029  0.204    0.677    1.416\n",
       "sigma[85]                 1.029  0.204    0.677    1.416\n",
       "sigma[86]                 1.029  0.204    0.677    1.416\n",
       "sigma[87]                 1.029  0.204    0.677    1.416\n",
       "sigma[88]                 1.029  0.204    0.677    1.416\n",
       "\n",
       "[94 rows x 4 columns]"
      ]
     },
     "execution_count": 41,
     "metadata": {},
     "output_type": "execute_result"
    }
   ],
   "source": [
    "idata_robust = mod_robust.fit(draws=1000)\n",
    "az.summary(idata_robust, kind=\"stats\")"
   ]
  },
  {
   "cell_type": "code",
   "execution_count": null,
   "id": "d8f766e1-b53a-42bc-bb1f-f01825179219",
   "metadata": {},
   "outputs": [],
   "source": []
  }
 ],
 "metadata": {
  "kernelspec": {
   "display_name": "Python 3 (ipykernel)",
   "language": "python",
   "name": "python3"
  },
  "language_info": {
   "codemirror_mode": {
    "name": "ipython",
    "version": 3
   },
   "file_extension": ".py",
   "mimetype": "text/x-python",
   "name": "python",
   "nbconvert_exporter": "python",
   "pygments_lexer": "ipython3",
   "version": "3.9.4"
  }
 },
 "nbformat": 4,
 "nbformat_minor": 5
}
