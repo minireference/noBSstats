{
 "cells": [
  {
   "cell_type": "markdown",
   "id": "b73f3d18-88c7-499d-90a3-dd6954247cf3",
   "metadata": {
    "tags": []
   },
   "source": [
    "# Section 3.3 — Introduction to hypothesis testing\n",
    "\n",
    "This notebook contains the code examples from [Section 3.3 Introduction to hypothesis testing]() of the **No Bullshit Guide to Statistics**."
   ]
  },
  {
   "cell_type": "markdown",
   "id": "efce8e91-8824-4103-a526-02e23c794668",
   "metadata": {
    "jp-MarkdownHeadingCollapsed": true,
    "tags": []
   },
   "source": [
    "#### Notebook setup"
   ]
  },
  {
   "cell_type": "code",
   "execution_count": 1,
   "id": "990de07d-c26f-4a29-935a-2b1dacc89b34",
   "metadata": {},
   "outputs": [],
   "source": [
    "# load Python modules\n",
    "import os\n",
    "import numpy as np\n",
    "import pandas as pd\n",
    "import seaborn as sns\n",
    "import matplotlib.pyplot as plt"
   ]
  },
  {
   "cell_type": "code",
   "execution_count": 2,
   "id": "2ae5e519-3e7b-4218-aebd-bbb7790783cd",
   "metadata": {},
   "outputs": [],
   "source": [
    "# Plot helper functions\n",
    "from plot_helpers import nicebins\n",
    "from plot_helpers import plot_pdf\n",
    "from plot_helpers import savefigure\n"
   ]
  },
  {
   "cell_type": "code",
   "execution_count": 3,
   "id": "3209c5be-cb6a-42c0-8bf8-949a4fc0ff39",
   "metadata": {},
   "outputs": [
    {
     "data": {
      "text/plain": [
       "<Figure size 640x480 with 0 Axes>"
      ]
     },
     "metadata": {},
     "output_type": "display_data"
    }
   ],
   "source": [
    "# Figures setup\n",
    "plt.clf()  # needed otherwise `sns.set_theme` doesn't work\n",
    "from plot_helpers import RCPARAMS\n",
    "# RCPARAMS.update({'figure.figsize': (10, 3)})   # good for screen\n",
    "RCPARAMS.update({'figure.figsize': (5, 1.6)})  # good for print\n",
    "sns.set_theme(\n",
    "    context=\"paper\",\n",
    "    style=\"whitegrid\",\n",
    "    palette=\"colorblind\",\n",
    "    rc=RCPARAMS,\n",
    ")\n",
    "\n",
    "# Useful colors\n",
    "snspal = sns.color_palette()\n",
    "blue, orange, purple = snspal[0], snspal[1], snspal[4]\n",
    "# red = sns.color_palette(\"tab10\")[3]\n",
    "\n",
    "# High-resolution please\n",
    "%config InlineBackend.figure_format = 'retina'\n",
    "\n",
    "# Where to store figures\n",
    "DESTDIR = \"figures/stats/intro_to_NHST\""
   ]
  },
  {
   "cell_type": "code",
   "execution_count": 4,
   "id": "df22d8d7-6814-4c3b-a3d3-2f31ab6b2f3b",
   "metadata": {},
   "outputs": [],
   "source": [
    "# set random seed for repeatability\n",
    "np.random.seed(42)"
   ]
  },
  {
   "cell_type": "markdown",
   "id": "94d9cb52-34ec-416a-a883-850cf725f8a6",
   "metadata": {},
   "source": [
    "$\\def\\stderr#1{\\mathbf{se}_{#1}}$\n",
    "$\\def\\stderrhat#1{\\hat{\\mathbf{se}}_{#1}}$\n",
    "$\\newcommand{\\Mean}{\\textbf{Mean}}$\n",
    "$\\newcommand{\\Var}{\\textbf{Var}}$\n",
    "$\\newcommand{\\Std}{\\textbf{Std}}$\n",
    "$\\newcommand{\\Freq}{\\textbf{Freq}}$\n",
    "$\\newcommand{\\RelFreq}{\\textbf{RelFreq}}$\n",
    "$\\newcommand{\\DMeans}{\\textbf{DMeans}}$\n",
    "$\\newcommand{\\Prop}{\\textbf{Prop}}$\n",
    "$\\newcommand{\\DProps}{\\textbf{DProps}}$\n",
    "\n",
    "$$\n",
    "\\newcommand{\\CI}[1]{\\textbf{CI}_{#1}}\n",
    "\\newcommand{\\CIL}[1]{\\textbf{L}_{#1}}\n",
    "\\newcommand{\\CIU}[1]{\\textbf{U}_{#1}}\n",
    "\\newcommand{\\ci}[1]{\\textbf{ci}_{#1}}\n",
    "\\newcommand{\\cil}[1]{\\textbf{l}_{#1}}\n",
    "\\newcommand{\\ciu}[1]{\\textbf{u}_{#1}}\n",
    "$$\n",
    "\n",
    "\n",
    "(this cell contains the macro definitions like $\\stderr{\\overline{\\mathbf{x}}}$, $\\stderrhat{}$, $\\Mean$, ...)"
   ]
  },
  {
   "cell_type": "markdown",
   "id": "a4359b21-fcb5-41ac-b46b-b8dcc9abe182",
   "metadata": {},
   "source": [
    "## Definitions"
   ]
  },
  {
   "cell_type": "code",
   "execution_count": 5,
   "id": "213defaa-1e71-40aa-a6af-b9c73982f4bb",
   "metadata": {},
   "outputs": [],
   "source": [
    "def mean(sample):\n",
    "    return sum(sample) / len(sample)\n",
    "\n",
    "def var(sample):\n",
    "    xbar = mean(sample)\n",
    "    sumsqdevs = sum([(xi-xbar)**2 for xi in sample])\n",
    "    return sumsqdevs / (len(sample)-1)\n",
    "\n",
    "def std(sample):\n",
    "    s2 = var(sample)\n",
    "    return np.sqrt(s2)\n",
    "\n",
    "def dmeans(xsample, ysample):\n",
    "    dhat = mean(xsample) - mean(ysample)\n",
    "    return dhat"
   ]
  },
  {
   "cell_type": "markdown",
   "id": "a5ae790e-e7e5-4880-8c6f-72c101319403",
   "metadata": {},
   "source": [
    "### What is hypothesis testing?\n",
    "\n",
    "- An approach to formulating research questions as **yes-no decisions** and a **procedure for making these decisions**\n",
    "- Hypothesis testing is a standardized procedure for doing statistical analysis  \n",
    "  (also, using stats jargon makes everything look more convincing ;)\n",
    "- We formulate research question as two **competing hypotheses**:\n",
    "  - **Null hypothesis $H_0$** = no effect.  \n",
    "    In our example: \"no difference between means,\" which can be written as $\\color{red}{\\mu_S = \\mu_{NS} = \\mu_0}$,\n",
    "    means the probability models for the two groups have the same mean $\\mu_0$:\n",
    "    \n",
    "\n",
    "  - **Alternative hypothesis $H_A$** = an effect exists.\n",
    "    In our example: \"the means for Group S is different from the mean of Group NS\"\n",
    "    can be written as $\\color{blue}{\\mu_S} \\neq \\color{orange}{\\mu_{NS}}$.\n",
    "    The probability models for the two groups with different means are:\n",
    "\n",
    "\n",
    "- The purpose of hypothesis testing is to perform a basic sanity-check to show the difference between the group means\n",
    "  we observed ($d = \\overline{\\mathbf{x}}_{S} - \\overline{\\mathbf{x}}_{NS} = 130$) is **unlikely to have occurred by chance**.\n",
    "- NEW CONCEPT: the $p$-value is the probability of observing $d=130$ (or more extreme) under the null hypothesis."
   ]
  },
  {
   "cell_type": "code",
   "execution_count": null,
   "id": "0d488111-c67c-444f-bcf6-eff0a903dc7e",
   "metadata": {},
   "outputs": [],
   "source": []
  },
  {
   "cell_type": "markdown",
   "id": "ab433480-b256-427f-8ee2-922e2468abbb",
   "metadata": {},
   "source": [
    "## The logic of hypothesis testing"
   ]
  },
  {
   "cell_type": "markdown",
   "id": "c0bc59f3-afc8-4e54-b6e6-c6b5f731d9ba",
   "metadata": {},
   "source": [
    "### Overview of the hypothesis testing procedure\n",
    "\n",
    "Here is the high-level overview of the hypothesis testing procedure:\n",
    "- **inputs**: sample statistics computed from the observed data\n",
    "  (in our case the signal $\\overline{\\mathbf{x}}_S$, $\\overline{\\mathbf{x}}_{NS}$,\n",
    "   and our estimates of the noise $s^2_S$, and $s^2_{NS}$)\n",
    "- **outputs**: a decision that is one of: \"reject the null hypothesis\" or \"fail to reject the null hypothesis\"\n",
    "\n",
    "![hypothesis testing overview](./attachments/stats/hypothesis_testing_perm_test.png)\n",
    "\n",
    "\n",
    "We'll now look at two different approaches for computing the sampling distribution of\n",
    "the difference between group means statistic, $D = \\overline{\\mathbf{X}}_S - \\overline{\\mathbf{X}}_{NS}$:\n",
    "permutation tests and analytical approximations."
   ]
  },
  {
   "cell_type": "code",
   "execution_count": null,
   "id": "7c7306c4-e20d-4453-ba09-96babc7534b1",
   "metadata": {},
   "outputs": [],
   "source": []
  },
  {
   "cell_type": "markdown",
   "id": "ee8e5ae2-06a3-4eb2-a7e1-9a53e818dbef",
   "metadata": {
    "tags": []
   },
   "source": [
    "### Interpreting the result of a hypothesis test (optional)\n"
   ]
  },
  {
   "cell_type": "markdown",
   "id": "c0aa58b0-8428-42ef-823c-0fba093233bc",
   "metadata": {
    "tags": []
   },
   "source": [
    "\n",
    "- The implication of rejecting the null hypothesis (no difference) is that there must be a difference between the group means.\n",
    "  In other words, the average ELV (employee lifetime value) for employees who took the statistics training (**Group S**) is different form\n",
    "  the average ELV for employees who didn't take the statistics training (**Group NS**),\n",
    "  which is what Amy is trying to show.\n",
    "  - Note that rejecting null hypothesis ($H_0$) is not the same as \"proving\" the alternative hypothesis ($H_A$);\n",
    "    we have just shown that the data is unlikely under the null hypothesis,\n",
    "    so there must be *some* difference between the groups.\n",
    "    The conclusion is that it's worth looking for *some* alternative hypothesis.\n",
    "  - The alternative hypothesis we picked above, $\\mu_S \\neq \\mu_{NS}$, is just a placeholder,\n",
    "    that includes desirable effect: $\\mu_S > \\mu_{NS}$ (stats training improves ELV),\n",
    "    but also includes the opposite effect: $\\mu_S < \\mu_{NS}$ (stats training decreases ELV).\n",
    "  - Using statistics jargon, when we reject the hypothesis $H_0$ we say we've observed a \"statistically significant\" result,\n",
    "    which sounds a lot more impressive than it actually is.\n",
    "    The null hypothesis testing procedure is used to just rule out \"occurred by chance\" scenario,\n",
    "    which is a very basic sanity check.    \n",
    "- The implication of failing to reject the null hypothesis is that the observed difference\n",
    "  between means is \"not significant,\" meaning it could have occurred by chance,\n",
    "  so there is no need to search for an alternative hypothesis.\n",
    "  - Note that \"failing to reject\" is not the same as \"proving\" the null hypothesis.\n",
    "  - Note also that \"failing to reject $H_0$\" doesn't mean we reject $H_A$.\n",
    "    In fact, the alternative hypothesis didn't play any role in the calculations whatsoever.\n",
    "\n",
    "\n",
    "I know all this sounds super complicated and roundabout (an it is!),\n",
    "but you will get a hang of it with practice.\n",
    "Trust me, you need to know this shit.\n"
   ]
  },
  {
   "cell_type": "markdown",
   "id": "56293753-e42e-4b3c-9692-4b705e730852",
   "metadata": {},
   "source": [
    "#### Selecting the tails of a distribution\n",
    "\n",
    "The concept of statistics that are \"equal or more extreme than\" the observed statistic $\\hat{\\theta}=g(\\mathbf{x})$\n",
    "is essential to the logic of hypothesis testing.\n"
   ]
  },
  {
   "cell_type": "code",
   "execution_count": 6,
   "id": "dfd4db79-86ce-4587-b4fb-99325779d3c5",
   "metadata": {},
   "outputs": [],
   "source": [
    "#######################################################\n",
    "\n",
    "def tailvalues(values, obs, alt=\"two-sided\"):\n",
    "    \"\"\"\n",
    "    Select the subset of the elements in list `values` that\n",
    "    are equal or more extreme than the observed value `obs`.\n",
    "    \"\"\"\n",
    "    assert alt in [\"greater\", \"less\", \"two-sided\"]\n",
    "    values = np.array(values)\n",
    "    if alt == \"greater\":\n",
    "        tails = values[values >= obs]\n",
    "    elif alt == \"less\":\n",
    "        tails = values[values <= obs]\n",
    "    elif alt == \"two-sided\":\n",
    "        mean = np.mean(values)\n",
    "        dev = abs(mean - obs)\n",
    "        tails = values[abs(values-mean) >= dev]\n",
    "    return tails"
   ]
  },
  {
   "cell_type": "markdown",
   "id": "977e9b08-fd04-47bd-885e-7839cf6450df",
   "metadata": {},
   "source": [
    "#### Right-tail of the distribution\n",
    "\n",
    "Given a list of observations from the sampling distribution `stats`,\n",
    "we want to select the observations that are equal to or larger than the observed statistic `obs`."
   ]
  },
  {
   "cell_type": "code",
   "execution_count": 7,
   "id": "45cd191b-2d3c-4db5-8c9a-60a66eb76c80",
   "metadata": {},
   "outputs": [
    {
     "data": {
      "text/plain": [
       "array([2, 3, 4, 5])"
      ]
     },
     "execution_count": 7,
     "metadata": {},
     "output_type": "execute_result"
    }
   ],
   "source": [
    "stats = [-5, -4, -3, -2, -1, 0, 1, 2, 3, 4, 5]\n",
    "obs = 2\n",
    "tailvalues(stats, obs, alt=\"greater\")"
   ]
  },
  {
   "cell_type": "code",
   "execution_count": 8,
   "id": "ffd6994c-fec5-45a7-940e-6d3a90c47ef6",
   "metadata": {},
   "outputs": [
    {
     "data": {
      "text/plain": [
       "array([-5, -4, -3])"
      ]
     },
     "execution_count": 8,
     "metadata": {},
     "output_type": "execute_result"
    }
   ],
   "source": [
    "obs = -3\n",
    "tailvalues(stats, -3, alt=\"less\")"
   ]
  },
  {
   "cell_type": "code",
   "execution_count": 9,
   "id": "db880654-a40d-41fd-921b-957de6295169",
   "metadata": {},
   "outputs": [
    {
     "data": {
      "text/plain": [
       "array([-5, -4,  4,  5])"
      ]
     },
     "execution_count": 9,
     "metadata": {},
     "output_type": "execute_result"
    }
   ],
   "source": [
    "obs = 4\n",
    "tailvalues(stats, obs, alt=\"two-sided\")"
   ]
  },
  {
   "cell_type": "code",
   "execution_count": null,
   "id": "0ef48242-6053-4645-ba50-907acd2c0540",
   "metadata": {},
   "outputs": [],
   "source": []
  },
  {
   "cell_type": "code",
   "execution_count": 10,
   "id": "5c3c26b9-46f0-4935-a6e1-19efa5650d25",
   "metadata": {},
   "outputs": [
    {
     "name": "stdout",
     "output_type": "stream",
     "text": [
      "Saved figure to figures/stats/intro_to_NHST/panel_hist_p-values_left_twotailed_right_tests.pdf\n",
      "Saved figure to figures/stats/intro_to_NHST/panel_hist_p-values_left_twotailed_right_tests.png\n"
     ]
    },
    {
     "data": {
      "image/png": "[encoded data removed]",
      "text/plain": [
       "<Figure size 700x200 with 3 Axes>"
      ]
     },
     "metadata": {
      "image/png": {
       "height": 188,
       "width": 689
      }
     },
     "output_type": "display_data"
    }
   ],
   "source": [
    "filename = os.path.join(DESTDIR, \"panel_hist_p-values_left_twotailed_right_tests.pdf\")\n",
    "    \n",
    "from scipy.stats import t as tdist\n",
    "rvT = tdist(9)\n",
    "\n",
    "xs = np.linspace(-4, 4, 1000)\n",
    "ys = rvT.pdf(xs)\n",
    "\n",
    "N = 100000\n",
    "np.random.seed(42)\n",
    "ts = rvT.rvs(N)\n",
    "\n",
    "bins = nicebins(xs, 2, nbins=50)\n",
    "\n",
    "with plt.rc_context({\"figure.figsize\":(7,2)}), sns.axes_style(\"ticks\"):\n",
    "    fig, (ax3, ax1, ax2) = plt.subplots(1, 3, sharey=True)\n",
    "    ax3.set_ylabel(\"$f_{\\widehat{\\Theta}_0}$\")\n",
    "\n",
    "    # RIGHT\n",
    "    title = '(a) right-tailed test'\n",
    "    ax3.set_title(title, fontsize=13)\n",
    "    sns.histplot(ts, ax=ax3, bins=bins)\n",
    "    ax3.set_xlim(-4, 4)\n",
    "    ax3.set_xticks([2])\n",
    "    ax3.set_xticklabels([])\n",
    "    ax3.set_yticks([])\n",
    "    # highlight the right tail\n",
    "    tailvalues3 = [t for t in ts if t >= 2]\n",
    "    sns.histplot(tailvalues3, bins=bins, ax=ax3, color=\"red\")\n",
    "    ax3.text(2, -300, \"$\\hat{\\\\theta}_{\\mathbf{x}}$\", verticalalignment=\"top\", horizontalalignment=\"center\")\n",
    "    \n",
    "    # LEFT\n",
    "    title = '(b) left-tailed test'\n",
    "    ax1.set_title(title, fontsize=13)\n",
    "    sns.histplot(ts, ax=ax1, bins=bins)\n",
    "    \n",
    "    ax1.set_xlim(-4, 4)\n",
    "    ax1.set_xticks([-2])\n",
    "    ax1.set_xticklabels([])\n",
    "    ax1.set_yticks([])\n",
    "    ax1.set_ylabel(\"\")\n",
    "    # highlight the left tail\n",
    "    tailvalues1 = tailvalues(ts, -2, alt=\"less\")\n",
    "    sns.histplot(tailvalues1, bins=bins, ax=ax1, color=\"red\")\n",
    "    ax1.text(-2, -300, r\"$\\hat{\\theta}_{\\mathbf{x}}$\", va=\"top\", ha=\"center\")\n",
    "\n",
    "    # TWO-TAILED\n",
    "    title = '(c) two-tailed test'\n",
    "    ax2.set_title(title, fontsize=13)\n",
    "    sns.histplot(ts, ax=ax2, bins=bins)\n",
    "    ax2.set_xlim(-4, 4)\n",
    "    ax2.set_xticks([-2,2])\n",
    "    ax2.set_xticklabels([])\n",
    "    ax2.set_yticks([])\n",
    "    # highlight the left and right tails\n",
    "    tailvalues2 = [t for t in ts if t <= -2 or t >= 2]\n",
    "    sns.histplot(tailvalues2, bins=bins, ax=ax2, color=\"red\")\n",
    "    ax2.text(-2, -300, r\"$-|\\hat{\\theta}_{\\mathbf{x}}|$\", verticalalignment=\"top\", horizontalalignment=\"center\")\n",
    "    ax2.text(2, -300, r\"$|\\hat{\\theta}_{\\mathbf{x}}|$\", verticalalignment=\"top\", horizontalalignment=\"center\")\n",
    "\n",
    "\n",
    "savefigure(fig, filename)"
   ]
  },
  {
   "cell_type": "code",
   "execution_count": 11,
   "id": "f6638c61-5bce-43eb-b5e2-4016313ccf68",
   "metadata": {},
   "outputs": [
    {
     "name": "stdout",
     "output_type": "stream",
     "text": [
      "Saved figure to figures/stats/intro_to_NHST/hist_p-value_right_tail_test.pdf\n",
      "Saved figure to figures/stats/intro_to_NHST/hist_p-value_right_tail_test.png\n"
     ]
    },
    {
     "data": {
      "image/png": "[encoded data removed]",
      "text/plain": [
       "<Figure size 500x160 with 1 Axes>"
      ]
     },
     "metadata": {
      "image/png": {
       "height": 149,
       "width": 489
      }
     },
     "output_type": "display_data"
    }
   ],
   "source": [
    "filename = os.path.join(DESTDIR, \"hist_p-value_right_tail_test.pdf\")\n",
    "\n",
    "from scipy.stats import t as tdist\n",
    "rvT = tdist(9)\n",
    "\n",
    "xs = np.linspace(-4, 4, 1000)\n",
    "ys = rvT.pdf(xs)\n",
    "\n",
    "N = 100000\n",
    "np.random.seed(42)\n",
    "ts = rvT.rvs(N)\n",
    "\n",
    "bins = nicebins(xs, 2, nbins=50)\n",
    "\n",
    "with sns.axes_style(\"ticks\"):\n",
    "    fig, ax = plt.subplots()\n",
    "    sns.histplot(ts, ax=ax, bins=bins)\n",
    "    ax.set_xlabel(\"$\\hat{d}$\")\n",
    "    ax.set_xlim(-4, 4)\n",
    "    ax.set_xticks([2])\n",
    "    ax.set_xticklabels([])\n",
    "    ax.set_yticks([])\n",
    "    ax.set_ylabel(\"$f_{\\widehat{D}_0}$\")\n",
    "    # highlight the right tail\n",
    "    tailvaluesa = [t for t in ts if t >= 2]\n",
    "    sns.histplot(tailvaluesa, bins=bins, ax=ax, color=\"red\")\n",
    "    ax.text(2, -300, \"$\\hat{d}_{\\mathbf{x},\\mathbf{y}}$\", verticalalignment=\"top\", horizontalalignment=\"center\")\n",
    "    plt.axvline(2, color=\"red\")\n",
    "\n",
    "savefigure(fig, filename)"
   ]
  },
  {
   "cell_type": "code",
   "execution_count": 12,
   "id": "3b4a3d7d-2b6a-4ef6-ad60-1c10ae395aff",
   "metadata": {},
   "outputs": [],
   "source": [
    "#######################################################\n",
    "def getdecision(pvalue, alpha=0.05):\n",
    "    \"\"\"\n",
    "    Check if `pvalue` is less than or equal to `alpha`.\n",
    "    \"\"\"\n",
    "    if pvalue < alpha:\n",
    "        # The observed statistics is unlikely to have\n",
    "        # occurred under the null hypothesis\n",
    "        print(\"reject H0\")\n",
    "    else:\n",
    "        # The observed statistics could have occurred\n",
    "        # under the null hypothesis\n",
    "        print(\"fail to reject H0\")"
   ]
  },
  {
   "cell_type": "code",
   "execution_count": null,
   "id": "f48e0ae7-89ad-42e7-8838-994207f49919",
   "metadata": {},
   "outputs": [],
   "source": []
  },
  {
   "cell_type": "markdown",
   "id": "b564c332-fc9c-4adc-922f-d52e377d5cf8",
   "metadata": {},
   "source": [
    "### Effect size estimation\n"
   ]
  },
  {
   "cell_type": "code",
   "execution_count": null,
   "id": "170b46e1-acd3-4002-a9d8-484afa9e2f1b",
   "metadata": {},
   "outputs": [],
   "source": []
  },
  {
   "cell_type": "markdown",
   "id": "fa0e424d-9f1c-4a0c-a23a-727ef0736c32",
   "metadata": {},
   "source": [
    "#### Reminder on confidence intervals functions"
   ]
  },
  {
   "cell_type": "code",
   "execution_count": 13,
   "id": "676aa3fb-d9ff-4a0a-b28e-b5ad6961d967",
   "metadata": {},
   "outputs": [],
   "source": [
    "from stats_helpers import ci_mean\n",
    "from stats_helpers import ci_dmeans"
   ]
  },
  {
   "cell_type": "code",
   "execution_count": null,
   "id": "5362d180-bc5f-4924-8bf5-a7c82a195d16",
   "metadata": {},
   "outputs": [],
   "source": []
  },
  {
   "cell_type": "markdown",
   "id": "96a07532-c61b-451b-ae92-1543790ad054",
   "metadata": {},
   "source": [
    " \n",
    " "
   ]
  },
  {
   "cell_type": "markdown",
   "id": "474a1144-1fae-40aa-a929-eb2508576e8c",
   "metadata": {},
   "source": [
    " "
   ]
  },
  {
   "cell_type": "markdown",
   "id": "af48515d-fcf3-47f1-9992-afca5a20b6a5",
   "metadata": {},
   "source": [
    "## Comparing one group to a theoretical model"
   ]
  },
  {
   "cell_type": "markdown",
   "id": "5363c1b0-634b-4444-98aa-02c34c7759c9",
   "metadata": {},
   "source": [
    "Description of the problem: compare simple of obs. to an known population model"
   ]
  },
  {
   "cell_type": "code",
   "execution_count": null,
   "id": "7b38aada-475e-4c08-8340-72c3fdf7ee7c",
   "metadata": {},
   "outputs": [],
   "source": []
  },
  {
   "cell_type": "markdown",
   "id": "436f0551-4fe6-401e-9e2b-c6fa60723b07",
   "metadata": {},
   "source": [
    "The calculation of the \"tails\" of the distribution "
   ]
  },
  {
   "cell_type": "code",
   "execution_count": null,
   "id": "ef06671f-b120-4bb2-b3c1-4a4202b6eb4c",
   "metadata": {},
   "outputs": [],
   "source": []
  },
  {
   "cell_type": "markdown",
   "id": "f1ff635d-3187-4ec0-b5f2-cae1d72a8701",
   "metadata": {},
   "source": [
    "### Kombucha bottling process\n",
    "\n",
    "Reminder of kombucha bottling scenario where \n",
    "theory: $K \\sim \\mathcal{N}(\\mu_K=1000, \\sigma_K=10)$\n"
   ]
  },
  {
   "cell_type": "markdown",
   "id": "8420d92d-0f2a-4c11-89b4-ccbd46d55596",
   "metadata": {},
   "source": [
    "Computational approach: simulation given mu_0 and sigma_0 are known"
   ]
  },
  {
   "cell_type": "code",
   "execution_count": null,
   "id": "148fe3ed-60b5-442a-af43-2ffa8b53e28a",
   "metadata": {},
   "outputs": [],
   "source": []
  },
  {
   "cell_type": "code",
   "execution_count": null,
   "id": "ba1ed85c-3f0c-4e8c-afa3-3522a5c5e064",
   "metadata": {},
   "outputs": [],
   "source": []
  },
  {
   "cell_type": "markdown",
   "id": "489e5a1b-637c-4cf6-abb9-cb9c71ab033e",
   "metadata": {},
   "source": [
    "### Example 1: test mean of Batch 04 against the the null\n",
    "\n",
    "$$\n",
    "    H_0: \\;\\; \\mu = \\mu_0 = 1000,\n",
    "    \\qquad \\qquad\n",
    "    H_A: \\;\\; \\mu \\neq \\mu_0.\n",
    "$$\n",
    "\n",
    "In words,\n",
    "the null hypothesis describes a regular batch,\n",
    "where the mean of the batch is equal to the mean of the model $\\mu_0=\\mu_K=1000$.\n",
    "\n",
    "We'll show the hypothesis testing procedure for\n",
    "two different batches from the `kombucha` dataset."
   ]
  },
  {
   "cell_type": "code",
   "execution_count": 14,
   "id": "b6a336b6-2d90-4faa-9d8e-5d7d23cd637c",
   "metadata": {},
   "outputs": [],
   "source": [
    "kombucha = pd.read_csv(\"../datasets/kombucha.csv\")\n",
    "batch04 = kombucha[kombucha[\"batch\"]==4]\n",
    "ksample04 = batch04[\"volume\"]"
   ]
  },
  {
   "cell_type": "code",
   "execution_count": 15,
   "id": "1d8d4fad-a697-43b1-b457-a00e379555ff",
   "metadata": {},
   "outputs": [
    {
     "data": {
      "text/plain": [
       "40"
      ]
     },
     "execution_count": 15,
     "metadata": {},
     "output_type": "execute_result"
    }
   ],
   "source": [
    "ksample04.count()"
   ]
  },
  {
   "cell_type": "code",
   "execution_count": 16,
   "id": "cb31a6fe-bd41-4422-8b05-4960621e636a",
   "metadata": {},
   "outputs": [
    {
     "data": {
      "text/plain": [
       "1003.8335"
      ]
     },
     "execution_count": 16,
     "metadata": {},
     "output_type": "execute_result"
    }
   ],
   "source": [
    "# observed mean\n",
    "obsmean04 = mean(ksample04)\n",
    "obsmean04"
   ]
  },
  {
   "cell_type": "markdown",
   "id": "f2541a8d-389b-4b8c-86a6-8b1ce401425e",
   "metadata": {},
   "source": [
    "The mean volume calculated from the sample `ksample04` is $3.83$ ml higher than the expected mean $\\mu_K = 1000$ ml.\n",
    "\n",
    "Is this a big difference or not?\n",
    "\n",
    "How likely is such deviation to occur by chance under the null hypothesis?"
   ]
  },
  {
   "cell_type": "markdown",
   "id": "bd45fce5-98f8-47ef-a89c-327822e8001d",
   "metadata": {},
   "source": [
    "#### Obtain the sampling distribution under $H_0$ using simulation"
   ]
  },
  {
   "cell_type": "markdown",
   "id": "e7f5fcbf-ba08-4ed4-8217-faa9c32ea938",
   "metadata": {},
   "source": [
    "To answer this question,\n",
    "we need to generate the sampling distribution of the mean\n",
    "for samples of size $n=40$ under the null hypothesis $H_0$.\n",
    "We can do this using the `gen_sampling_dist` function,\n",
    "by providing it the probability model `rvK` $=K = \\mathcal{N}(\\mu_K=1000,\\sigma_K=10)$,\n",
    "which describes the variability of the kombucha volumes when the factory is operating correctly."
   ]
  },
  {
   "cell_type": "code",
   "execution_count": 17,
   "id": "963d987f-f111-41c6-af9d-5809d6138df6",
   "metadata": {},
   "outputs": [],
   "source": [
    "from scipy.stats import norm\n",
    "\n",
    "# theoretical model for the kombucha volumes\n",
    "muK = 1000   # population mean (expected kombucha volume)\n",
    "sigmaK = 10  # population variance\n",
    "rvK = norm(muK, sigmaK)"
   ]
  },
  {
   "cell_type": "markdown",
   "id": "af8fe4aa-c078-411d-aedf-998b76f968e6",
   "metadata": {},
   "source": [
    "We can now generate the sampling distribution using simulation..."
   ]
  },
  {
   "cell_type": "code",
   "execution_count": 18,
   "id": "a614ef8f-16dd-4a0b-99b0-b2886f40056c",
   "metadata": {},
   "outputs": [],
   "source": [
    "from stats_helpers import gen_sampling_dist\n",
    "\n",
    "np.random.seed(42)\n",
    "kbars40 = gen_sampling_dist(rvK, estfunc=mean, n=40)"
   ]
  },
  {
   "cell_type": "markdown",
   "id": "4702f09b-9eab-46ae-91d9-7c9d27e80f1f",
   "metadata": {},
   "source": [
    "To calculate the $p$-value, we want\n",
    "want to calculate how many values of sampling distribution `kbars40`\n",
    "are equal or more extreme than the observed value $\\overline{\\mathbf{k}}_{04} = $ `obsmean04` = 1003.8335."
   ]
  },
  {
   "cell_type": "code",
   "execution_count": 19,
   "id": "e2f4f979-5f4f-4598-ba17-1dec4740f7d2",
   "metadata": {},
   "outputs": [
    {
     "data": {
      "text/plain": [
       "0.015"
      ]
     },
     "execution_count": 19,
     "metadata": {},
     "output_type": "execute_result"
    }
   ],
   "source": [
    "tails = tailvalues(kbars40, obsmean04)\n",
    "pvalue04 = len(tails) / len(kbars40)\n",
    "pvalue04"
   ]
  },
  {
   "cell_type": "code",
   "execution_count": 20,
   "id": "6b4033b3-5fa9-4065-a0e4-22d5561a371d",
   "metadata": {},
   "outputs": [
    {
     "data": {
      "image/png": "[encoded data removed]",
      "text/plain": [
       "<Figure size 500x160 with 1 Axes>"
      ]
     },
     "metadata": {
      "image/png": {
       "height": 166,
       "width": 456
      }
     },
     "output_type": "display_data"
    }
   ],
   "source": [
    "# plot the sampling distribution as a histogram\n",
    "sns.histplot(kbars40, bins=100)\n",
    "\n",
    "# plot red line for the observed mean\n",
    "plt.axvline(obsmean04, color=\"red\")\n",
    "\n",
    "# plot the values that are equal or more extreme in red\n",
    "_ = sns.histplot(tails, bins=100, color=\"red\")"
   ]
  },
  {
   "cell_type": "code",
   "execution_count": 21,
   "id": "13db457a-4cae-45a1-92ad-f11186e74bcb",
   "metadata": {},
   "outputs": [
    {
     "name": "stdout",
     "output_type": "stream",
     "text": [
      "Saved figure to figures/stats/intro_to_NHST/hist_p-value_kombucha_obsmean04.pdf\n",
      "Saved figure to figures/stats/intro_to_NHST/hist_p-value_kombucha_obsmean04.png\n"
     ]
    },
    {
     "data": {
      "image/png": "[encoded data removed]",
      "text/plain": [
       "<Figure size 500x160 with 1 Axes>"
      ]
     },
     "metadata": {
      "image/png": {
       "height": 150,
       "width": 489
      }
     },
     "output_type": "display_data"
    }
   ],
   "source": [
    "filename = os.path.join(DESTDIR, \"hist_p-value_kombucha_obsmean04.pdf\")\n",
    "\n",
    "# plot the sampling distribution as a histogram\n",
    "bins = nicebins(kbars40, obsmean04)\n",
    "ax = sns.histplot(kbars40, bins=bins)\n",
    "\n",
    "# plot red line for the observed statistic\n",
    "plt.axvline(obsmean04, color=\"red\")\n",
    "\n",
    "# plot the values that are equal or more extreme in red\n",
    "sns.histplot(tails, bins=bins, ax=ax, color=\"red\")\n",
    "ax.set_ylabel(\"$f_{\\overline{\\mathbf{K}}_0}$\")\n",
    "\n",
    "savefigure(ax, filename)"
   ]
  },
  {
   "cell_type": "markdown",
   "id": "402ac2a5-ec6a-4389-b932-b6709b91df8e",
   "metadata": {},
   "source": [
    "We can now make the decision based on the $p$-value and a pre-determined threshold,\n",
    "which is conventionally chosen $\\alpha=0.05$ (1 in 20):\n",
    "\n",
    "- If the observed value of the mean `obsmean04` = 1003.8335 is unlikely under\n",
    "  $H_0$ ($p$-value less than 5% chance of occurring),\n",
    "  then our decision will be to \"reject the null hypothesis.\"\n",
    "- Otherwise, if the observed value `obsmean04` is not that unusual ($p$-value greater than 5%),\n",
    "  we conclude that we have \"fail to reject the null hypothesis.\""
   ]
  },
  {
   "cell_type": "code",
   "execution_count": 22,
   "id": "b2306cad-b50a-4743-8108-d2f58d8d49ba",
   "metadata": {},
   "outputs": [
    {
     "name": "stdout",
     "output_type": "stream",
     "text": [
      "reject H0\n"
     ]
    }
   ],
   "source": [
    "getdecision(pvalue04)"
   ]
  },
  {
   "cell_type": "markdown",
   "id": "431386a4-f9f8-4232-8509-de972b8bd03e",
   "metadata": {},
   "source": [
    "Recall the math statement of the null hypothesis is $H_0: \\mu = \\mu_K = 1000$,\n",
    "which describes a batch whose mean is equal to the mean of the model $\\mu_K$.\n",
    "The conclusion to reject $H_0$ means the batch is irregular."
   ]
  },
  {
   "cell_type": "code",
   "execution_count": null,
   "id": "411e0885-4d90-4289-bc0b-4ea905c4f200",
   "metadata": {},
   "outputs": [],
   "source": []
  },
  {
   "cell_type": "markdown",
   "id": "b169c1ec-5928-42bd-a9c6-b0529db9e774",
   "metadata": {},
   "source": [
    "#### Calculating the effect size\n",
    "\n",
    "We were able to detect that batch differs from the expected distribution,\n",
    "but how big is this deviation?\n",
    "We can use the deviation from the expected mean as measure of the effect size $\\Delta = \\overline{\\mathbf{k}} - \\mu_K$ in this situation."
   ]
  },
  {
   "cell_type": "code",
   "execution_count": 23,
   "id": "eda2567e-3179-46c4-8c83-b6ab6bacd44c",
   "metadata": {},
   "outputs": [
    {
     "data": {
      "text/plain": [
       "3.833499999999958"
      ]
     },
     "execution_count": 23,
     "metadata": {},
     "output_type": "execute_result"
    }
   ],
   "source": [
    "mean(ksample04) - muK"
   ]
  },
  {
   "cell_type": "markdown",
   "id": "e8a7a2f0-a6bb-402a-8f65-07539c69414a",
   "metadata": {},
   "source": [
    "The point estimate $\\Delta = \\overline{\\mathbf{k}} - \\mu_K = 3.83$\n",
    "tells us how much the mean of the sample differs from the expected population mean $\\mu_K$,\n",
    "but doesn't tell us the uncertainty in this estimate."
   ]
  },
  {
   "cell_type": "markdown",
   "id": "b0cf7dad-97ff-458f-88f7-edf8890d5650",
   "metadata": {},
   "source": [
    "#### Confidence interval for the effect size\n",
    "\n",
    "The bootstrap confidence interval for the effect size \n",
    "$\\ci{\\Delta,0.9}^*$ tells us a range of plausible values for the effect size.\n"
   ]
  },
  {
   "cell_type": "code",
   "execution_count": 24,
   "id": "20ba59b6-4648-4847-9865-070a294f1933",
   "metadata": {},
   "outputs": [
    {
     "data": {
      "text/plain": [
       "[1.7537499999999935, 5.802025000000007]"
      ]
     },
     "execution_count": 24,
     "metadata": {},
     "output_type": "execute_result"
    }
   ],
   "source": [
    "from stats_helpers import gen_boot_dist\n",
    "\n",
    "np.random.seed(48)\n",
    "D_boot = gen_boot_dist(ksample04-muK, estfunc=mean)\n",
    "[np.percentile(D_boot, 5),\n",
    " np.percentile(D_boot, 95)]"
   ]
  },
  {
   "cell_type": "markdown",
   "id": "66b7357c-14f1-4b1c-ad92-9d6f8f164d17",
   "metadata": {},
   "source": [
    "Recall the function `ci_mean` we defined previously that does this."
   ]
  },
  {
   "cell_type": "code",
   "execution_count": 25,
   "id": "223cd73c-1b2a-477b-b3ab-31e5df749b28",
   "metadata": {},
   "outputs": [
    {
     "data": {
      "text/plain": [
       "[1.7537499999999935, 5.802025000000007]"
      ]
     },
     "execution_count": 25,
     "metadata": {},
     "output_type": "execute_result"
    }
   ],
   "source": [
    "np.random.seed(48)\n",
    "ci_mean(ksample04-muK, alpha=0.1, method=\"b\")"
   ]
  },
  {
   "cell_type": "markdown",
   "id": "df88615a-8c11-4d5f-a933-8bcbd774361d",
   "metadata": {},
   "source": [
    "The interval $\\ci{\\Delta,0.9}^* = [1.75, 5.80]$ tells us the true discrepancy\n",
    "of Batch 04 from the expected mean can be anywhere from 1.75 to 5.8."
   ]
  },
  {
   "cell_type": "code",
   "execution_count": null,
   "id": "3545bf24-2aef-488e-9575-60bb3be2464c",
   "metadata": {},
   "outputs": [],
   "source": []
  },
  {
   "cell_type": "markdown",
   "id": "86d7ee4b-6353-47df-9309-2aef400453dd",
   "metadata": {},
   "source": [
    "### Example 2: test mean of Batch 01 against the the null"
   ]
  },
  {
   "cell_type": "markdown",
   "id": "b417d8a5-c346-45a6-a8d1-5b7463d4167c",
   "metadata": {},
   "source": [
    "Let's repeat the procedure on the sample "
   ]
  },
  {
   "cell_type": "code",
   "execution_count": 26,
   "id": "decc42e4-bee9-483a-a3f0-725bba2f0220",
   "metadata": {},
   "outputs": [
    {
     "data": {
      "text/plain": [
       "40"
      ]
     },
     "execution_count": 26,
     "metadata": {},
     "output_type": "execute_result"
    }
   ],
   "source": [
    "batch01 = kombucha[kombucha[\"batch\"]==1]\n",
    "ksample01 = batch01[\"volume\"]\n",
    "ksample01.count()"
   ]
  },
  {
   "cell_type": "code",
   "execution_count": 27,
   "id": "4cd1c39e-8264-43d7-9c37-678704534209",
   "metadata": {},
   "outputs": [
    {
     "data": {
      "text/plain": [
       "999.10375"
      ]
     },
     "execution_count": 27,
     "metadata": {},
     "output_type": "execute_result"
    }
   ],
   "source": [
    "obsmean01 = mean(ksample01)\n",
    "obsmean01"
   ]
  },
  {
   "cell_type": "code",
   "execution_count": 28,
   "id": "c27c1278-2748-4af5-962b-adf132e7e4c8",
   "metadata": {},
   "outputs": [
    {
     "data": {
      "text/plain": [
       "0.5708"
      ]
     },
     "execution_count": 28,
     "metadata": {},
     "output_type": "execute_result"
    }
   ],
   "source": [
    "np.random.seed(42)\n",
    "kbars40 = gen_sampling_dist(rvK, estfunc=mean, n=40)\n",
    "tails = tailvalues(kbars40, obsmean01)\n",
    "pvalue01 = len(tails) / len(kbars40)\n",
    "pvalue01"
   ]
  },
  {
   "cell_type": "code",
   "execution_count": 29,
   "id": "b91a7201-25e1-4773-9be3-cf7ce39062ab",
   "metadata": {},
   "outputs": [
    {
     "name": "stdout",
     "output_type": "stream",
     "text": [
      "Saved figure to figures/stats/intro_to_NHST/hist_p-value_kombucha_obsmean01.pdf\n",
      "Saved figure to figures/stats/intro_to_NHST/hist_p-value_kombucha_obsmean01.png\n"
     ]
    },
    {
     "data": {
      "image/png": "[encoded data removed]",
      "text/plain": [
       "<Figure size 500x160 with 1 Axes>"
      ]
     },
     "metadata": {
      "image/png": {
       "height": 150,
       "width": 489
      }
     },
     "output_type": "display_data"
    }
   ],
   "source": [
    "filename = os.path.join(DESTDIR, \"hist_p-value_kombucha_obsmean01.pdf\")\n",
    "\n",
    "# plot the sampling distribution as a histogram\n",
    "bins = nicebins(kbars40, obsmean01)\n",
    "ax = sns.histplot(kbars40, bins=bins)\n",
    "\n",
    "# plot red line for the observed statistic\n",
    "plt.axvline(obsmean01, color=\"red\")\n",
    "\n",
    "# plot the values that are equal or more extreme in red\n",
    "sns.histplot(tails, bins=bins, ax=ax, color=\"red\")\n",
    "ax.set_ylabel(\"$f_{\\overline{\\mathbf{K}}_0}$\")\n",
    "\n",
    "savefigure(ax, filename)"
   ]
  },
  {
   "cell_type": "code",
   "execution_count": 30,
   "id": "f5b8b749-78a6-4fa7-bed9-a6d916a6d820",
   "metadata": {},
   "outputs": [
    {
     "name": "stdout",
     "output_type": "stream",
     "text": [
      "fail to reject H0\n"
     ]
    }
   ],
   "source": [
    "getdecision(pvalue01)"
   ]
  },
  {
   "cell_type": "markdown",
   "id": "43f99198-9875-4a45-ae6a-33eb37865a38",
   "metadata": {},
   "source": [
    "The observed mean from batch 01 is not unlikely under $H_0$,\n",
    "so batch 01 is OK.\n",
    "\n",
    "Using the terminology of hypothesis testing,\n",
    "we say the outcome of the hypothesis test is \"fail to reject $H_0: \\mu = \\mu_K$.\"\n",
    "We have not seen any evidence that suggests that the mean of the population from\n",
    "which sample `ksample01` was taken differs from the mean of the expected model $K$.\n",
    "\n",
    "Ship it!"
   ]
  },
  {
   "cell_type": "code",
   "execution_count": null,
   "id": "67ed1377-7df1-4002-b396-c88380259c74",
   "metadata": {},
   "outputs": [],
   "source": []
  },
  {
   "cell_type": "markdown",
   "id": "9e5560f6-914a-470f-bd10-7343dce896ee",
   "metadata": {},
   "source": [
    "### Reusable test function for the mean"
   ]
  },
  {
   "cell_type": "code",
   "execution_count": 31,
   "id": "7945d68d-3d69-46f7-9bb8-d77ed26b1d1c",
   "metadata": {},
   "outputs": [],
   "source": [
    "#######################################################\n",
    "\n",
    "def simulation_test_mean(sample, mu0, sigma0, N=10000):\n",
    "    \"\"\"\n",
    "    Compute the p-value of the observed mean of `sample`\n",
    "    under H0 of a normal distribution `norm(mu0,sigma0)`.\n",
    "    \"\"\"\n",
    "    # Compute the observed value of the mean\n",
    "    obsmean = mean(sample)\n",
    "    n = len(sample)\n",
    "\n",
    "    # Get sampling distribution of the mean under H0\n",
    "    rvXH0 = norm(mu0, sigma0)\n",
    "    xbars = gen_sampling_dist(rvXH0, estfunc=mean, n=n)\n",
    "\n",
    "    # Compute the p-value\n",
    "    tails = tailvalues(xbars, obsmean)\n",
    "    pvalue = len(tails) / len(xbars)\n",
    "    return pvalue"
   ]
  },
  {
   "cell_type": "code",
   "execution_count": 86,
   "id": "2633b2d8-beee-487e-bf6d-8cb0686fecae",
   "metadata": {},
   "outputs": [
    {
     "data": {
      "text/plain": [
       "0.015"
      ]
     },
     "execution_count": 86,
     "metadata": {},
     "output_type": "execute_result"
    }
   ],
   "source": [
    "## TEST 1 (Do we get the same answer for Batch 04?)\n",
    "np.random.seed(42)\n",
    "simulation_test_mean(ksample04, mu0=muK, sigma0=sigmaK)"
   ]
  },
  {
   "cell_type": "code",
   "execution_count": 87,
   "id": "d67fc6e1-9801-459a-81fe-eb23fa5dcd85",
   "metadata": {},
   "outputs": [
    {
     "data": {
      "text/plain": [
       "0.5708"
      ]
     },
     "execution_count": 87,
     "metadata": {},
     "output_type": "execute_result"
    }
   ],
   "source": [
    "## TEST 2 (Do we get the same answer for Batch 01?)\n",
    "np.random.seed(42)\n",
    "simulation_test_mean(ksample01, mu0=muK, sigma0=sigmaK)"
   ]
  },
  {
   "cell_type": "code",
   "execution_count": null,
   "id": "48dbfd49-7dae-4af3-8d91-feb36a484a5e",
   "metadata": {},
   "outputs": [],
   "source": []
  },
  {
   "cell_type": "code",
   "execution_count": null,
   "id": "4999c735-8788-4048-8369-b207716e77d9",
   "metadata": {},
   "outputs": [],
   "source": []
  },
  {
   "cell_type": "code",
   "execution_count": null,
   "id": "9dbfbf44-7624-4c34-b248-d3ba12e60d7c",
   "metadata": {},
   "outputs": [],
   "source": []
  },
  {
   "cell_type": "code",
   "execution_count": null,
   "id": "b78a2060-d054-4ffa-9591-9322118edf65",
   "metadata": {},
   "outputs": [],
   "source": []
  },
  {
   "cell_type": "markdown",
   "id": "e3b9bace-ce2c-46a6-8752-2e8dc77764d8",
   "metadata": {},
   "source": [
    "### Example 3: test variance of Batch 02 against the null\n",
    "\n",
    "$$\n",
    "    H_0: \\;\\; \\sigma \\leq \\sigma_0 = 10,\n",
    "    \\qquad \\qquad\n",
    "    H_A: \\;\\; \\sigma > \\sigma_0.\n",
    "$$"
   ]
  },
  {
   "cell_type": "code",
   "execution_count": 34,
   "id": "788f27e2-3fe3-4346-801b-ba7da7f120a8",
   "metadata": {},
   "outputs": [
    {
     "data": {
      "text/plain": [
       "20"
      ]
     },
     "execution_count": 34,
     "metadata": {},
     "output_type": "execute_result"
    }
   ],
   "source": [
    "kombucha = pd.read_csv(\"../datasets/kombucha.csv\")\n",
    "batch02 = kombucha[kombucha[\"batch\"]==2]\n",
    "ksample02 = batch02[\"volume\"]\n",
    "ksample02.count()"
   ]
  },
  {
   "cell_type": "code",
   "execution_count": 35,
   "id": "a61cba97-8823-40a4-ae71-9de95ca1f27c",
   "metadata": {},
   "outputs": [
    {
     "data": {
      "text/plain": [
       "124.31760105263136"
      ]
     },
     "execution_count": 35,
     "metadata": {},
     "output_type": "execute_result"
    }
   ],
   "source": [
    "obsvar02 = var(ksample02)\n",
    "obsvar02"
   ]
  },
  {
   "cell_type": "code",
   "execution_count": 36,
   "id": "8b241f45-8b7c-44ca-b089-1a412eff194a",
   "metadata": {},
   "outputs": [
    {
     "data": {
      "text/plain": [
       "0.2132"
      ]
     },
     "execution_count": 36,
     "metadata": {},
     "output_type": "execute_result"
    }
   ],
   "source": [
    "np.random.seed(42)\n",
    "kvars20 = gen_sampling_dist(rvK, estfunc=var, n=20)\n",
    "tails = tailvalues(kvars20, obsvar02, alt=\"greater\")\n",
    "pvalue = len(tails) / len(kvars20)\n",
    "pvalue"
   ]
  },
  {
   "cell_type": "code",
   "execution_count": 37,
   "id": "f66fa565-7677-438a-b2df-9e0bd640c791",
   "metadata": {},
   "outputs": [
    {
     "name": "stdout",
     "output_type": "stream",
     "text": [
      "Saved figure to figures/stats/intro_to_NHST/hist_p-value_kombucha_obsvar02.pdf\n",
      "Saved figure to figures/stats/intro_to_NHST/hist_p-value_kombucha_obsvar02.png\n"
     ]
    },
    {
     "data": {
      "image/png": "[encoded data removed]",
      "text/plain": [
       "<Figure size 500x160 with 1 Axes>"
      ]
     },
     "metadata": {
      "image/png": {
       "height": 150,
       "width": 489
      }
     },
     "output_type": "display_data"
    }
   ],
   "source": [
    "filename = os.path.join(DESTDIR, \"hist_p-value_kombucha_obsvar02.pdf\")\n",
    "\n",
    "# plot the sampling distribution as a histogram\n",
    "bins = nicebins(kvars20, obsvar02)\n",
    "ax = sns.histplot(kvars20, bins=bins)\n",
    "\n",
    "# plot red line for the observed statistic\n",
    "plt.axvline(obsvar02, color=\"red\")\n",
    "\n",
    "# plot the values that are equal or more extreme in red\n",
    "sns.histplot(tails, bins=bins, ax=ax, color=\"red\")\n",
    "ax.set_ylabel(\"$f_{S^2_{\\mathbf{K}_0}}$\")\n",
    "\n",
    "savefigure(ax, filename)"
   ]
  },
  {
   "cell_type": "code",
   "execution_count": null,
   "id": "266ac991-8c52-4535-b0c6-c0ed4d01eb8b",
   "metadata": {},
   "outputs": [],
   "source": []
  },
  {
   "cell_type": "code",
   "execution_count": null,
   "id": "b3e6efd2-7d52-4b6e-ad59-82e715136bf0",
   "metadata": {},
   "outputs": [],
   "source": []
  },
  {
   "cell_type": "markdown",
   "id": "685ac936-76fa-467f-849e-172023653811",
   "metadata": {},
   "source": [
    "### Example 4: test variance of Batch 08 against the null"
   ]
  },
  {
   "cell_type": "code",
   "execution_count": 38,
   "id": "275373b3-45c4-4a9a-8dc8-706027f30b00",
   "metadata": {},
   "outputs": [
    {
     "data": {
      "text/plain": [
       "40"
      ]
     },
     "execution_count": 38,
     "metadata": {},
     "output_type": "execute_result"
    }
   ],
   "source": [
    "kombucha = pd.read_csv(\"../datasets/kombucha.csv\")\n",
    "batch08 = kombucha[kombucha[\"batch\"]==8]\n",
    "ksample08 = batch08[\"volume\"]\n",
    "ksample08.count()"
   ]
  },
  {
   "cell_type": "code",
   "execution_count": 39,
   "id": "02c5c91b-b2c9-4cf0-bda1-ed9e6b90aba2",
   "metadata": {},
   "outputs": [
    {
     "data": {
      "text/plain": [
       "169.9979220512824"
      ]
     },
     "execution_count": 39,
     "metadata": {},
     "output_type": "execute_result"
    }
   ],
   "source": [
    "obsvar08 = var(ksample08)\n",
    "obsvar08"
   ]
  },
  {
   "cell_type": "code",
   "execution_count": 40,
   "id": "f05cd841-0fc6-499f-a5a2-b7ce46f6ac8c",
   "metadata": {},
   "outputs": [
    {
     "data": {
      "text/plain": [
       "0.0041"
      ]
     },
     "execution_count": 40,
     "metadata": {},
     "output_type": "execute_result"
    }
   ],
   "source": [
    "np.random.seed(43)\n",
    "kvars40 = gen_sampling_dist(rvK, estfunc=var, n=40)\n",
    "tails = tailvalues(kvars40, obsvar08, alt=\"greater\")\n",
    "pvalue = len(tails) / len(kvars40)\n",
    "pvalue"
   ]
  },
  {
   "cell_type": "code",
   "execution_count": 41,
   "id": "6a0dff5d-5bc8-433c-9fb7-60cb0bb2a092",
   "metadata": {},
   "outputs": [
    {
     "name": "stdout",
     "output_type": "stream",
     "text": [
      "Saved figure to figures/stats/intro_to_NHST/hist_p-value_kombucha_obsvar08.pdf\n",
      "Saved figure to figures/stats/intro_to_NHST/hist_p-value_kombucha_obsvar08.png\n"
     ]
    },
    {
     "data": {
      "image/png": "[encoded data removed]",
      "text/plain": [
       "<Figure size 500x160 with 1 Axes>"
      ]
     },
     "metadata": {
      "image/png": {
       "height": 150,
       "width": 488
      }
     },
     "output_type": "display_data"
    }
   ],
   "source": [
    "filename = os.path.join(DESTDIR, \"hist_p-value_kombucha_obsvar08.pdf\")\n",
    "\n",
    "# plot the sampling distribution as a histogram\n",
    "bins = nicebins(kvars40, obsvar08)\n",
    "ax = sns.histplot(kvars40, bins=bins)\n",
    "\n",
    "# plot red line for the observed statistic\n",
    "plt.axvline(obsvar08, color=\"red\")\n",
    "\n",
    "# plot the values that are equal or more extreme in red\n",
    "sns.histplot(tails, bins=bins, ax=ax, color=\"red\")\n",
    "ax.set_ylabel(\"$f_{S^2_{\\mathbf{K}_0}}$\")\n",
    "\n",
    "savefigure(ax, filename)"
   ]
  },
  {
   "cell_type": "code",
   "execution_count": null,
   "id": "a16a3b64-c281-4132-8d2a-26d35963fa2a",
   "metadata": {},
   "outputs": [],
   "source": []
  },
  {
   "cell_type": "markdown",
   "id": "bad34962-f909-441c-9e9c-9fcc935a1ed0",
   "metadata": {},
   "source": [
    "#### Calculating the effect size\n",
    "\n",
    "We found the variance in the volumes in this batch is higher than the expected variance.\n",
    "Now let's estimate the effect size $\\Delta = s^2_{\\mathbf{k}_{08}} - \\sigma_K^2$.\n"
   ]
  },
  {
   "cell_type": "code",
   "execution_count": 42,
   "id": "e80a1bd8-fc2a-48e1-b01c-1debc0c74394",
   "metadata": {},
   "outputs": [
    {
     "data": {
      "text/plain": [
       "69.99792205128239"
      ]
     },
     "execution_count": 42,
     "metadata": {},
     "output_type": "execute_result"
    }
   ],
   "source": [
    "var(ksample08) - sigmaK**2"
   ]
  },
  {
   "cell_type": "markdown",
   "id": "de84218e-e9c2-478c-8ba4-2a40147d9eda",
   "metadata": {},
   "source": [
    "#### Confidence interval for the effect size\n",
    "\n",
    "The bootstrap confidence interval for the effect size \n",
    "$\\ci{\\Delta,0.9}^*$ tells us a range of plausible values for the effect size.\n"
   ]
  },
  {
   "cell_type": "code",
   "execution_count": 43,
   "id": "c3f11404-1687-4766-ba01-ffa19ea8d9c4",
   "metadata": {},
   "outputs": [
    {
     "data": {
      "text/plain": [
       "[17.37369362820536, 117.98659930448775]"
      ]
     },
     "execution_count": 43,
     "metadata": {},
     "output_type": "execute_result"
    }
   ],
   "source": [
    "from stats_helpers import gen_boot_dist\n",
    "\n",
    "np.random.seed(48)\n",
    "kvars40_boot = gen_boot_dist(ksample08, estfunc=var)\n",
    "D_boot = np.subtract(kvars40_boot, sigmaK**2)\n",
    "[np.percentile(D_boot, 5),\n",
    " np.percentile(D_boot, 95)]"
   ]
  },
  {
   "cell_type": "markdown",
   "id": "567e975e-4a3a-496f-a040-789e86959623",
   "metadata": {},
   "source": [
    "The interval $\\ci{\\Delta,0.9}^* = [17, 118]$ tells us the difference\n",
    "in the variance of Batch 08 from the expected variance is somewhere between 17 and 118."
   ]
  },
  {
   "cell_type": "code",
   "execution_count": null,
   "id": "450ccdd7-4dac-403c-a2a8-eef5fabe6ff0",
   "metadata": {},
   "outputs": [],
   "source": []
  },
  {
   "cell_type": "code",
   "execution_count": null,
   "id": "afac7ac8-acb7-4331-afb1-c0492f6e95cc",
   "metadata": {},
   "outputs": [],
   "source": []
  },
  {
   "cell_type": "markdown",
   "id": "b51228df-586c-4187-8464-d41b8fb0fc3a",
   "metadata": {},
   "source": [
    "### Generic simulation test function"
   ]
  },
  {
   "cell_type": "code",
   "execution_count": 44,
   "id": "41427387-6ec8-4d9a-b939-c4667e52d0b8",
   "metadata": {},
   "outputs": [],
   "source": [
    "#######################################################\n",
    "\n",
    "def simulation_test_var(sample, mu0, sigma0, alt=\"greater\"):\n",
    "    \"\"\"\n",
    "    Compute the p-value of the observed variance of `sample`\n",
    "    under H0 of a normal distribution `norm(mu0,sigma0)`.\n",
    "    \"\"\"\n",
    "    # 1. Compute the sample variance\n",
    "    obsvar = var(sample)\n",
    "    n = len(sample)\n",
    "\n",
    "    # 2. Get sampling distribution of variance under H0\n",
    "    rvXH0 = norm(mu0, sigma0)\n",
    "    xvars = gen_sampling_dist(rvXH0, estfunc=var, n=n)\n",
    "\n",
    "    # 3. Compute the p-value\n",
    "    tails = tailvalues(xvars, obsvar, alt=alt)\n",
    "    pvalue = len(tails) / len(xvars)\n",
    "    return pvalue"
   ]
  },
  {
   "cell_type": "code",
   "execution_count": 45,
   "id": "a2fb1041-6191-452e-acd6-7da04c510e6d",
   "metadata": {},
   "outputs": [
    {
     "data": {
      "text/plain": [
       "0.2132"
      ]
     },
     "execution_count": 45,
     "metadata": {},
     "output_type": "execute_result"
    }
   ],
   "source": [
    "# reproduce the results from Example 3\n",
    "np.random.seed(42)\n",
    "simulation_test_var(ksample02, muK, sigmaK, alt=\"greater\")"
   ]
  },
  {
   "cell_type": "code",
   "execution_count": 46,
   "id": "55ab6f0c-87b4-4a12-9a34-a96e58e96b8e",
   "metadata": {},
   "outputs": [
    {
     "data": {
      "text/plain": [
       "0.0041"
      ]
     },
     "execution_count": 46,
     "metadata": {},
     "output_type": "execute_result"
    }
   ],
   "source": [
    "# reproduce the results from Example 4\n",
    "np.random.seed(43)\n",
    "simulation_test_var(ksample08, muK, sigmaK, alt=\"greater\")"
   ]
  },
  {
   "cell_type": "code",
   "execution_count": null,
   "id": "24eb65c4-2c9c-465a-b61f-2c4d94ad3f57",
   "metadata": {},
   "outputs": [],
   "source": []
  },
  {
   "cell_type": "code",
   "execution_count": null,
   "id": "c859962b-cf90-4504-8a67-0757cc0aa4f7",
   "metadata": {},
   "outputs": [],
   "source": []
  },
  {
   "cell_type": "markdown",
   "id": "f37acf39-7f27-4425-9087-71b001c52e41",
   "metadata": {},
   "source": [
    "## Comparing two groups\n",
    "\n",
    "Description of the problem: compare two group based on sample means computed from each group."
   ]
  },
  {
   "cell_type": "markdown",
   "id": "8562171e-a60f-4e05-b69a-e0c5b6ceb207",
   "metadata": {},
   "source": [
    "### Computational approach: permutation test\n",
    "\n",
    "The permutation test (also known as randomization test) for comparing two groups\n",
    "\n",
    "Computational approach: permutation test (a way to simulate dist. under null hypothesis)\n",
    "Obtaining samples from a hypothetical distribution of \"no difference between groups\" is equivalent to forgetting the group-membership labels in the sample.\n",
    "\n",
    "EDITME\n",
    "\n",
    "\n",
    "- The permutation test allow us to generate the sampling distribution under $H_0$\n",
    "  by reusing the sample $\\mathbf{x}$ that we have,\n",
    "  treating it as if it were a population.\n",
    "- Relevant probability distributions:\n",
    "  - Real sampling distribution: obtained from repeated samples from a hypothetical population under $H_0$.\n",
    "  - Approximate sampling distribution: obtained by **resampling data from the single sample we have**.\n",
    "- Recall Goal 1: make sure that the observed difference is unlikely to have occurred by chance under $H_0$\n",
    "  (the difference between group means $d=130$ cannot be explained by the natural variability of the distributions)\n",
    "  - We want to obtain an approximation of the sampling distribution under $H_0$\n",
    "  - The $H_0$ probability model describes a hypothetical scenario with **no difference between groups**,\n",
    "    which means data from **Group S** and **Group NS** comes the same distribution.\n",
    "  - To generate a new random sample $\\mathbf{x}^p$ from the $H_0$ model,\n",
    "    we can reuse the sample we have obtained $\\mathbf{x}$,\n",
    "    but randomly mix-up the group labels.\n",
    "    Since under the $H_0$ model, the **S** and **NS** populations are identical,\n",
    "    mixing up the labels should have no effect.\n",
    "  - The math term for \"mixing up\" is **permutation**, meaning \n",
    "    each value in the input is randomly reassigned to a new random place in the output."
   ]
  },
  {
   "cell_type": "code",
   "execution_count": 77,
   "id": "627bb07e-ef24-4a22-ae99-f42aa0feebed",
   "metadata": {},
   "outputs": [],
   "source": [
    "#######################################################\n",
    "def resample_under_H0(xsample, ysample):\n",
    "    \"\"\"\n",
    "    Generate new samples from a random permutation of\n",
    "    the values in the samples `xsample` and `xsample`.\n",
    "    \"\"\"\n",
    "    values = np.concatenate((xsample, ysample))\n",
    "    shuffled_values = np.random.permutation(values)\n",
    "    xresample = shuffled_values[0:len(xsample)]\n",
    "    yresample = shuffled_values[len(xsample):]\n",
    "    return xresample, yresample"
   ]
  },
  {
   "cell_type": "code",
   "execution_count": 89,
   "id": "660642f6-ecbc-48d0-aa5f-e463c2385ff4",
   "metadata": {},
   "outputs": [
    {
     "data": {
      "text/plain": [
       "(array([2, 2, 1]), array([2, 1, 1, 2]))"
      ]
     },
     "execution_count": 89,
     "metadata": {},
     "output_type": "execute_result"
    }
   ],
   "source": [
    "# example\n",
    "np.random.seed(43)\n",
    "resample_under_H0([1,1,1], [2,2,2,2])"
   ]
  },
  {
   "cell_type": "markdown",
   "id": "b7ed1579-eefa-403d-a854-91beb989344d",
   "metadata": {},
   "source": [
    "The function `resample_under_H0` gives us a way to generate samples from the null hypothesis.\n",
    "We can then compute the value of the `dmeans` statistic for these samples. We used the assumption of \"no difference\" under the null hypothesis, and translated this to the \"forget the labels\" interpretation."
   ]
  },
  {
   "cell_type": "code",
   "execution_count": null,
   "id": "76b8c613-39cc-47d9-9d72-3ee442b1b28f",
   "metadata": {},
   "outputs": [],
   "source": []
  },
  {
   "cell_type": "markdown",
   "id": "6e2b93f4-55b2-41bd-9c74-54aaa13fd86f",
   "metadata": {},
   "source": [
    "### Example 5: electricity prices\n",
    "\n",
    "$$ \n",
    "   H_A: \\qquad X_W = \\mathcal{N}(\\color{blue}{\\mu_W}, \\sigma_W)\n",
    "   \\quad \\textrm{and} \\quad\n",
    "   X_{E} = \\mathcal{N}(\\color{orange}{\\mu_{E}}, \\sigma_{E})\n",
    "$$\n",
    "\n",
    "$$ \n",
    "   H_0: \\qquad X_W = \\mathcal{N}(\\color{red}{\\mu_0}, \\sigma_W)\n",
    "   \\quad \\textrm{and} \\quad\n",
    "   X_{E} = \\mathcal{N}(\\color{red}{\\mu_0}, \\sigma_{E})\n",
    "$$\n",
    "\n",
    "\n",
    "\n",
    "\n",
    "\n"
   ]
  },
  {
   "cell_type": "code",
   "execution_count": 49,
   "id": "25ed5377-78f8-4909-824a-4e97858435f9",
   "metadata": {},
   "outputs": [],
   "source": [
    "eprices = pd.read_csv(\"../datasets/eprices.csv\")\n",
    "# eprices"
   ]
  },
  {
   "cell_type": "code",
   "execution_count": 50,
   "id": "cc1b7ed9-743a-4da4-bf92-991a3260bb1d",
   "metadata": {},
   "outputs": [
    {
     "data": {
      "text/html": [
       "<div>\n",
       "<style scoped>\n",
       "    .dataframe tbody tr th:only-of-type {\n",
       "        vertical-align: middle;\n",
       "    }\n",
       "\n",
       "    .dataframe tbody tr th {\n",
       "        vertical-align: top;\n",
       "    }\n",
       "\n",
       "    .dataframe thead th {\n",
       "        text-align: right;\n",
       "    }\n",
       "</style>\n",
       "<table border=\"1\" class=\"dataframe\">\n",
       "  <thead>\n",
       "    <tr style=\"text-align: right;\">\n",
       "      <th></th>\n",
       "      <th>count</th>\n",
       "      <th>mean</th>\n",
       "      <th>std</th>\n",
       "      <th>min</th>\n",
       "      <th>25%</th>\n",
       "      <th>50%</th>\n",
       "      <th>75%</th>\n",
       "      <th>max</th>\n",
       "    </tr>\n",
       "    <tr>\n",
       "      <th>end</th>\n",
       "      <th></th>\n",
       "      <th></th>\n",
       "      <th></th>\n",
       "      <th></th>\n",
       "      <th></th>\n",
       "      <th></th>\n",
       "      <th></th>\n",
       "      <th></th>\n",
       "    </tr>\n",
       "  </thead>\n",
       "  <tbody>\n",
       "    <tr>\n",
       "      <th>East</th>\n",
       "      <td>9.0</td>\n",
       "      <td>6.155556</td>\n",
       "      <td>0.877655</td>\n",
       "      <td>4.8</td>\n",
       "      <td>5.5</td>\n",
       "      <td>6.3</td>\n",
       "      <td>6.5</td>\n",
       "      <td>7.7</td>\n",
       "    </tr>\n",
       "    <tr>\n",
       "      <th>West</th>\n",
       "      <td>9.0</td>\n",
       "      <td>9.155556</td>\n",
       "      <td>1.562139</td>\n",
       "      <td>6.8</td>\n",
       "      <td>8.3</td>\n",
       "      <td>8.6</td>\n",
       "      <td>10.0</td>\n",
       "      <td>11.8</td>\n",
       "    </tr>\n",
       "  </tbody>\n",
       "</table>\n",
       "</div>"
      ],
      "text/plain": [
       "      count      mean       std  min  25%  50%   75%   max\n",
       "end                                                       \n",
       "East    9.0  6.155556  0.877655  4.8  5.5  6.3   6.5   7.7\n",
       "West    9.0  9.155556  1.562139  6.8  8.3  8.6  10.0  11.8"
      ]
     },
     "execution_count": 50,
     "metadata": {},
     "output_type": "execute_result"
    }
   ],
   "source": [
    "eprices.groupby(\"end\")[\"price\"].describe()"
   ]
  },
  {
   "cell_type": "code",
   "execution_count": 51,
   "id": "dce47ba6-ab7a-4128-88a4-33afd5870046",
   "metadata": {},
   "outputs": [
    {
     "data": {
      "text/plain": [
       "3.0"
      ]
     },
     "execution_count": 51,
     "metadata": {},
     "output_type": "execute_result"
    }
   ],
   "source": [
    "pricesW = eprices[eprices[\"end\"]==\"West\"][\"price\"]\n",
    "pricesE = eprices[eprices[\"end\"]==\"East\"][\"price\"]\n",
    "\n",
    "# observed difference between means\n",
    "obsdhat = dmeans(pricesW, pricesE)\n",
    "obsdhat"
   ]
  },
  {
   "cell_type": "markdown",
   "id": "7cf9a6da-87ac-45ab-b49d-2eb77e4ae92b",
   "metadata": {},
   "source": [
    "Our goal is to determine how *likely* or *unlikely* this observed value $\\hat{d}=3$ is under the null hypothesis $H_0$. This means we need to obtain the sampling distribution of $\\hat{D}$ under $H_0$, which we can do using the permutation test."
   ]
  },
  {
   "cell_type": "markdown",
   "id": "6bff2055-339f-4f67-8ce3-2dff12b88eb8",
   "metadata": {},
   "source": [
    "Let's look at some of the differences we can expect to observe under $H_0$."
   ]
  },
  {
   "cell_type": "code",
   "execution_count": 95,
   "id": "e99d5be1-e619-418d-968d-490493740520",
   "metadata": {},
   "outputs": [
    {
     "data": {
      "text/plain": [
       "-1.5333333333333332"
      ]
     },
     "execution_count": 95,
     "metadata": {},
     "output_type": "execute_result"
    }
   ],
   "source": [
    "#######################################################\n",
    "# generate new samples by shuffling the labels\n",
    "bpricesW, bpricesE = resample_under_H0(pricesW, pricesE)\n",
    "\n",
    "# compute the difference in means for the bootstrap samples\n",
    "pdhat = dmeans(bpricesW, bpricesE)\n",
    "pdhat"
   ]
  },
  {
   "cell_type": "code",
   "execution_count": null,
   "id": "5a2264c2-d42b-4d12-942d-af90fe98f717",
   "metadata": {},
   "outputs": [],
   "source": []
  },
  {
   "cell_type": "markdown",
   "id": "58e4cc66-d3f6-494e-b175-13c752ccde82",
   "metadata": {},
   "source": [
    "EDITME #### Running a permutation test\n",
    "\n",
    "We can repeat the resampling procedure `10000` times to get the sampling distribution of $D$ under $H_0$,\n",
    "as illustrated in the code procedure below."
   ]
  },
  {
   "cell_type": "markdown",
   "id": "789b8dd8-3d70-4188-b28f-4a3566ba263e",
   "metadata": {},
   "source": [
    "EDITME \n",
    "\n",
    "- Once we have the sampling distribution of `D` under $H_0$,\n",
    "  we can see where the observed value $d=130$\n",
    "  falls within this distribution.\n",
    "- p-value: the probability of observing value $d=130$ or more extreme under the null hypothesis"
   ]
  },
  {
   "cell_type": "code",
   "execution_count": 53,
   "id": "e9b6f67f-3662-4a8e-9ed0-16d2f9f6b26f",
   "metadata": {},
   "outputs": [],
   "source": [
    "np.random.seed(42)\n",
    "\n",
    "# sampling distribution under H0\n",
    "P = 10000\n",
    "pdhats = []\n",
    "for i in range(0, P):\n",
    "    rs1, rs2 = resample_under_H0(pricesW, pricesE)\n",
    "    pdhat = dmeans(rs1, rs2)\n",
    "    pdhats.append(pdhat)"
   ]
  },
  {
   "cell_type": "code",
   "execution_count": 57,
   "id": "cd02baaa-71ef-4233-b3f7-73adf84382f6",
   "metadata": {},
   "outputs": [
    {
     "data": {
      "text/plain": [
       "0.0002"
      ]
     },
     "execution_count": 57,
     "metadata": {},
     "output_type": "execute_result"
    }
   ],
   "source": [
    "tails = tailvalues(pdhats, obsdhat)\n",
    "pvalue = len(tails) / len(pdhats)\n",
    "pvalue"
   ]
  },
  {
   "cell_type": "code",
   "execution_count": null,
   "id": "13f1b204-f224-48d1-917b-4db0c37b9f62",
   "metadata": {},
   "outputs": [],
   "source": []
  },
  {
   "cell_type": "code",
   "execution_count": 56,
   "id": "55878349-bd2a-420e-8d9e-a1cc189580b5",
   "metadata": {},
   "outputs": [
    {
     "name": "stdout",
     "output_type": "stream",
     "text": [
      "Saved figure to figures/stats/intro_to_NHST/hist_p-value_dmeans_eprices.pdf\n",
      "Saved figure to figures/stats/intro_to_NHST/hist_p-value_dmeans_eprices.png\n"
     ]
    },
    {
     "data": {
      "image/png": "[encoded data removed]",
      "text/plain": [
       "<Figure size 500x160 with 1 Axes>"
      ]
     },
     "metadata": {
      "image/png": {
       "height": 150,
       "width": 489
      }
     },
     "output_type": "display_data"
    }
   ],
   "source": [
    "filename = os.path.join(DESTDIR, \"hist_p-value_dmeans_eprices.pdf\")\n",
    "\n",
    "# plot the sampling distribution in blue\n",
    "bins = nicebins(pdhats, obsdhat)\n",
    "ax = sns.histplot(pdhats, bins=bins)\n",
    "\n",
    "# plot red line for the observed statistic\n",
    "plt.axvline(obsdhat, color=\"red\")\n",
    "\n",
    "# plot the values that are equal or more extreme in red\n",
    "sns.histplot(tails, ax=ax, bins=bins, color=\"red\")\n",
    "ax.set_ylabel(\"$f_{\\widehat{D}_0}$\")\n",
    "\n",
    "savefigure(ax, filename)"
   ]
  },
  {
   "cell_type": "code",
   "execution_count": null,
   "id": "865a44e7-7de6-4c38-88e1-7f1e61c44319",
   "metadata": {},
   "outputs": [],
   "source": []
  },
  {
   "cell_type": "markdown",
   "id": "7f850e5e-2e91-4811-9e04-6cc178614bc7",
   "metadata": {},
   "source": [
    "#### Calculating the effect size\n",
    "\n",
    "Now let's estimate the effect size $\\Delta = ...$\n"
   ]
  },
  {
   "cell_type": "code",
   "execution_count": 42,
   "id": "ce15ca5b-2361-4f7b-94df-7bf5e29b614c",
   "metadata": {},
   "outputs": [
    {
     "data": {
      "text/plain": [
       "69.99792205128239"
      ]
     },
     "execution_count": 42,
     "metadata": {},
     "output_type": "execute_result"
    }
   ],
   "source": [
    "obsdhat = dmeans(pricesW, pricesE)\n",
    "obsdhat"
   ]
  },
  {
   "cell_type": "markdown",
   "id": "2eb3cb06-632c-4c9f-ac97-d6f082cc10c9",
   "metadata": {},
   "source": [
    "#### Confidence interval for the effect size\n",
    "\n",
    "The bootstrap confidence interval for the effect size \n",
    "$\\ci{\\Delta,0.9}^*$ tells us a range of plausible values for the effect size.\n"
   ]
  },
  {
   "cell_type": "code",
   "execution_count": 105,
   "id": "418d6808-206a-4ec4-86fd-22d11c9599dc",
   "metadata": {},
   "outputs": [
    {
     "data": {
      "text/plain": [
       "[2.0777777777777775, 3.9555555555555557]"
      ]
     },
     "execution_count": 105,
     "metadata": {},
     "output_type": "execute_result"
    }
   ],
   "source": [
    "from stats_helpers import ci_dmeans\n",
    "\n",
    "np.random.seed(45)\n",
    "ci_dmeans(pricesW, pricesE, alpha=0.1, method=\"b\")"
   ]
  },
  {
   "cell_type": "code",
   "execution_count": null,
   "id": "f8572a66-e098-4d10-90fd-155ab4102624",
   "metadata": {},
   "outputs": [],
   "source": []
  },
  {
   "cell_type": "markdown",
   "id": "672fa5d7-6d81-43cf-8fce-80cc68071891",
   "metadata": {},
   "source": [
    "### Reusable function"
   ]
  },
  {
   "cell_type": "code",
   "execution_count": 79,
   "id": "aff497c2-1a9e-4ace-a175-c0c627d16547",
   "metadata": {},
   "outputs": [],
   "source": [
    "def permutation_test_dmeans(xsample, ysample, P=10000):\n",
    "    # 1. Compute the observed difference between means\n",
    "    obsdhat = dmeans(xsample, ysample)\n",
    "\n",
    "    # 2. Get sampling dist. of `dmeans` under H0\n",
    "    pdhats = []\n",
    "    for i in range(0, P):\n",
    "        rsx, rsy = resample_under_H0(xsample, ysample)\n",
    "        pdhat = dmeans(rsx, rsy)\n",
    "        pdhats.append(pdhat)\n",
    "\n",
    "    # 3. Compute the p-value\n",
    "    tails = tailvalues(pdhats, obsdhat)\n",
    "    pvalue = len(tails) / len(pdhats)\n",
    "    return pvalue"
   ]
  },
  {
   "cell_type": "code",
   "execution_count": 99,
   "id": "a609881e-203e-47fb-88af-ac424802f79d",
   "metadata": {},
   "outputs": [
    {
     "data": {
      "text/plain": [
       "0.0002"
      ]
     },
     "execution_count": 99,
     "metadata": {},
     "output_type": "execute_result"
    }
   ],
   "source": [
    "np.random.seed(42)\n",
    "\n",
    "permutation_test_dmeans(pricesW, pricesE)"
   ]
  },
  {
   "cell_type": "markdown",
   "id": "6e98bbab-2235-4afb-885d-4bbc4e0c4026",
   "metadata": {
    "tags": []
   },
   "source": [
    "#### Permutations test using SciPy (optional)"
   ]
  },
  {
   "cell_type": "markdown",
   "id": "c7591692-afd3-4e25-97e7-94eb21c5e9af",
   "metadata": {
    "tags": []
   },
   "source": [
    "The above code was given only for educational purposes.\n",
    "In practice, you can use the SciPy implementation of permutation test,\n",
    "by calling `ttest_ind(..., permutations=10000)` to perform a permutation test, then obtain the $p$-value."
   ]
  },
  {
   "cell_type": "code",
   "execution_count": 100,
   "id": "a44dd4e3-3ba9-46ed-aefe-6e5354bfb3e1",
   "metadata": {},
   "outputs": [
    {
     "data": {
      "text/plain": [
       "0.00029997000299970003"
      ]
     },
     "execution_count": 100,
     "metadata": {},
     "output_type": "execute_result"
    }
   ],
   "source": [
    "from scipy.stats import ttest_ind\n",
    "\n",
    "np.random.seed(42)\n",
    "ttest_ind(pricesW, pricesE, permutations=10000).pvalue"
   ]
  },
  {
   "cell_type": "markdown",
   "id": "9db850d8-80aa-4f13-84a3-e9cd2b05f039",
   "metadata": {},
   "source": [
    "Note the $p$-value we obtained form the two methods may be different:\n",
    "this happens whenever we use the permutations test,\n",
    "because we use randomness as part of the calculation."
   ]
  },
  {
   "cell_type": "code",
   "execution_count": null,
   "id": "c6085f0e-f51a-4067-bae5-72a6d621392f",
   "metadata": {},
   "outputs": [],
   "source": []
  },
  {
   "cell_type": "markdown",
   "id": "9cf7b503-2ea1-47e0-a581-da18e7593630",
   "metadata": {},
   "source": [
    "### Example 6: lecture and debate curriculums"
   ]
  },
  {
   "cell_type": "code",
   "execution_count": 61,
   "id": "0c24964f-bf4a-4d13-b8ff-b5132d308055",
   "metadata": {},
   "outputs": [],
   "source": [
    "students = pd.read_csv(\"../datasets/students.csv\")\n",
    "# students"
   ]
  },
  {
   "cell_type": "code",
   "execution_count": 62,
   "id": "0d1e40d4-7b77-4ae9-ba3f-53350dd99283",
   "metadata": {},
   "outputs": [
    {
     "data": {
      "text/html": [
       "<div>\n",
       "<style scoped>\n",
       "    .dataframe tbody tr th:only-of-type {\n",
       "        vertical-align: middle;\n",
       "    }\n",
       "\n",
       "    .dataframe tbody tr th {\n",
       "        vertical-align: top;\n",
       "    }\n",
       "\n",
       "    .dataframe thead th {\n",
       "        text-align: right;\n",
       "    }\n",
       "</style>\n",
       "<table border=\"1\" class=\"dataframe\">\n",
       "  <thead>\n",
       "    <tr style=\"text-align: right;\">\n",
       "      <th></th>\n",
       "      <th>count</th>\n",
       "      <th>mean</th>\n",
       "      <th>std</th>\n",
       "      <th>min</th>\n",
       "      <th>25%</th>\n",
       "      <th>50%</th>\n",
       "      <th>75%</th>\n",
       "      <th>max</th>\n",
       "    </tr>\n",
       "    <tr>\n",
       "      <th>curriculum</th>\n",
       "      <th></th>\n",
       "      <th></th>\n",
       "      <th></th>\n",
       "      <th></th>\n",
       "      <th></th>\n",
       "      <th></th>\n",
       "      <th></th>\n",
       "      <th></th>\n",
       "    </tr>\n",
       "  </thead>\n",
       "  <tbody>\n",
       "    <tr>\n",
       "      <th>debate</th>\n",
       "      <td>8.0</td>\n",
       "      <td>76.462500</td>\n",
       "      <td>10.519633</td>\n",
       "      <td>62.9</td>\n",
       "      <td>69.55</td>\n",
       "      <td>75.55</td>\n",
       "      <td>80.925</td>\n",
       "      <td>96.2</td>\n",
       "    </tr>\n",
       "    <tr>\n",
       "      <th>lecture</th>\n",
       "      <td>7.0</td>\n",
       "      <td>68.142857</td>\n",
       "      <td>7.758406</td>\n",
       "      <td>57.0</td>\n",
       "      <td>63.30</td>\n",
       "      <td>70.30</td>\n",
       "      <td>73.850</td>\n",
       "      <td>75.4</td>\n",
       "    </tr>\n",
       "  </tbody>\n",
       "</table>\n",
       "</div>"
      ],
      "text/plain": [
       "            count       mean        std   min    25%    50%     75%   max\n",
       "curriculum                                                               \n",
       "debate        8.0  76.462500  10.519633  62.9  69.55  75.55  80.925  96.2\n",
       "lecture       7.0  68.142857   7.758406  57.0  63.30  70.30  73.850  75.4"
      ]
     },
     "execution_count": 62,
     "metadata": {},
     "output_type": "execute_result"
    }
   ],
   "source": [
    "students.groupby(\"curriculum\")[\"score\"].describe()"
   ]
  },
  {
   "cell_type": "code",
   "execution_count": 63,
   "id": "54a3dd64-29c6-48a8-b662-76b7d2ec9b91",
   "metadata": {},
   "outputs": [
    {
     "data": {
      "text/plain": [
       "8.319642857142853"
      ]
     },
     "execution_count": 63,
     "metadata": {},
     "output_type": "execute_result"
    }
   ],
   "source": [
    "scoresD = students[students[\"curriculum\"]==\"debate\"][\"score\"]\n",
    "scoresL = students[students[\"curriculum\"]==\"lecture\"][\"score\"]\n",
    "\n",
    "# observed difference between score means\n",
    "dhat = dmeans(scoresD, scoresL)\n",
    "dhat"
   ]
  },
  {
   "cell_type": "markdown",
   "id": "d578a498-74f2-4977-9769-7e123b904be1",
   "metadata": {},
   "source": [
    "Our goal is to determine how *likely* or *unlikely* this observed value $\\hat{d}_s=8.32$ is under the null hypothesis $H_0$. This means we need to obtain the sampling distribution of $\\hat{D}_0$ under $H_0$, which we can do using the permutation test."
   ]
  },
  {
   "cell_type": "code",
   "execution_count": 65,
   "id": "523e1637-e4c3-4978-a2eb-3cd9ebb77638",
   "metadata": {},
   "outputs": [
    {
     "data": {
      "text/plain": [
       "0.1118"
      ]
     },
     "execution_count": 65,
     "metadata": {},
     "output_type": "execute_result"
    }
   ],
   "source": [
    "np.random.seed(43)\n",
    "pvalue = permutation_test_dmeans(scoresD, scoresL)\n",
    "pvalue"
   ]
  },
  {
   "cell_type": "code",
   "execution_count": 66,
   "id": "a2d45420-7904-48d0-aeb1-5e35e7b1505c",
   "metadata": {},
   "outputs": [
    {
     "name": "stdout",
     "output_type": "stream",
     "text": [
      "Saved figure to figures/stats/intro_to_NHST/hist_p-value_dmeans_students.pdf\n",
      "Saved figure to figures/stats/intro_to_NHST/hist_p-value_dmeans_students.png\n"
     ]
    },
    {
     "data": {
      "image/png": "[encoded data removed]",
      "text/plain": [
       "<Figure size 500x160 with 1 Axes>"
      ]
     },
     "metadata": {
      "image/png": {
       "height": 150,
       "width": 489
      }
     },
     "output_type": "display_data"
    }
   ],
   "source": [
    "filename = os.path.join(DESTDIR, \"hist_p-value_dmeans_students.pdf\")\n",
    "\n",
    "# generate sampling distribution under H0\n",
    "np.random.seed(43)\n",
    "pdhats = []\n",
    "P = 10000\n",
    "for i in range(0, P):\n",
    "    rs1, rs2 = resample_under_H0(scoresD, scoresL)\n",
    "    pdhat = dmeans(rs1, rs2)\n",
    "    pdhats.append(pdhat)\n",
    "    \n",
    "# plot the sampling distribution in blue\n",
    "bins = nicebins(pdhats, dhat)\n",
    "ax = sns.histplot(pdhats, bins=bins)\n",
    "\n",
    "# plot red line for the observed statistic\n",
    "plt.axvline(dhat, color=\"red\")\n",
    "\n",
    "# plot the values that are equal or more extreme in red\n",
    "tails = tailvalues(pdhats, dhat)\n",
    "# print( len(tails) / len(pdhats) )\n",
    "sns.histplot(tails, bins=bins, ax=ax, color=\"red\")\n",
    "ax.set_ylabel(\"$f_{\\widehat{D}_0}$\")\n",
    "\n",
    "savefigure(ax, filename)"
   ]
  },
  {
   "cell_type": "code",
   "execution_count": null,
   "id": "d8cecd15-59c1-4520-9428-d63cd01c44b7",
   "metadata": {},
   "outputs": [],
   "source": []
  },
  {
   "cell_type": "markdown",
   "id": "0e9b5ae0-5f95-40bf-ae67-9e88f28c6ee3",
   "metadata": {
    "tags": []
   },
   "source": [
    "### Discussion\n",
    "\n",
    "  - The procedure we used is called a **permutations test** for comparison of group means.\n",
    "  - The permutation test takes it's name from the action of mixing up the group-membership labels\n",
    "    and computing a statistic which is a way to generate samples from the null hypothesis\n",
    "    in situations where we're comparing two groups.\n",
    "  - Permutation tests are very versatile since we can use them for any estimator $g(\\mathbf{x})$.\n",
    "    For example, we could have used difference in medians by specifying the `median` as the input `estfunc`.\n"
   ]
  },
  {
   "cell_type": "code",
   "execution_count": null,
   "id": "b37754d7-764e-4a84-80cb-9e5426b9bb1d",
   "metadata": {},
   "outputs": [],
   "source": []
  },
  {
   "cell_type": "code",
   "execution_count": null,
   "id": "398af12a-fde7-49d5-adf5-4f4238e2c007",
   "metadata": {},
   "outputs": [],
   "source": []
  },
  {
   "cell_type": "code",
   "execution_count": null,
   "id": "83ce6d3e-337a-4ede-b0b0-3dbe2fdf553c",
   "metadata": {},
   "outputs": [],
   "source": []
  },
  {
   "cell_type": "code",
   "execution_count": null,
   "id": "b0e9a8c4-23d0-408b-ab03-f6dc8bd3b1b8",
   "metadata": {},
   "outputs": [],
   "source": []
  },
  {
   "cell_type": "markdown",
   "id": "c3ae63a1-d099-4957-9e1b-338cc1f6c8b2",
   "metadata": {},
   "source": [
    "## Explanations"
   ]
  },
  {
   "cell_type": "markdown",
   "id": "ea8da098-00f0-4e13-b6df-07bc7a756299",
   "metadata": {},
   "source": [
    "### Statistical modelling and assumptions"
   ]
  },
  {
   "cell_type": "markdown",
   "id": "48cd9ec7-fed0-4858-a6d5-b6e6cc211aaf",
   "metadata": {},
   "source": [
    "### Two different probability models"
   ]
  },
  {
   "cell_type": "markdown",
   "id": "989ce7b7-68eb-4f14-b525-504e26541211",
   "metadata": {},
   "source": [
    "### One-sided and two-sided tests"
   ]
  },
  {
   "cell_type": "markdown",
   "id": "667045ae-d522-4738-9151-afdf1b55071f",
   "metadata": {},
   "source": [
    "### Court trial analogy"
   ]
  },
  {
   "cell_type": "code",
   "execution_count": null,
   "id": "f3c05792-d65c-401e-990e-1cb89d04f9f6",
   "metadata": {},
   "outputs": [],
   "source": []
  },
  {
   "cell_type": "code",
   "execution_count": null,
   "id": "819db8ba-052f-4a70-987a-23472cf90021",
   "metadata": {},
   "outputs": [],
   "source": []
  },
  {
   "cell_type": "markdown",
   "id": "3b92ec2a-4f3b-4abd-ac84-2553642cfc7d",
   "metadata": {},
   "source": [
    "## Discussion"
   ]
  },
  {
   "cell_type": "markdown",
   "id": "be5a788a-b31a-4dcc-b463-5323f0a43364",
   "metadata": {},
   "source": [
    "### Standardized effect size\n",
    "\n",
    "It is sometimes useful to report the effect size using a \"standardized\" measure for effect sizes.\n",
    "\n",
    "Cohen's $d$ is one such measure, and it is defined as the difference between two means divided by the pooled standard deviation."
   ]
  },
  {
   "cell_type": "code",
   "execution_count": 67,
   "id": "0542ba2b-29f6-4a38-aeb1-347f161613a8",
   "metadata": {},
   "outputs": [],
   "source": [
    "#######################################################\n",
    "def cohend(sample, mu):\n",
    "    \"\"\"\n",
    "    Cohen's d for one group compared to the theoretical mean `mu`.\n",
    "    \"\"\"\n",
    "    obsmean = mean(sample)\n",
    "    obsstd = std(sample)\n",
    "    cohend = (obsmean - mu) / obsstd\n",
    "    return cohend\n",
    "\n",
    "\n",
    "def cohend2(sample1, sample2):\n",
    "    \"\"\"\n",
    "    Cohen's d measure of effect size for two independent samples.\n",
    "    \"\"\"\n",
    "    n1, n2 = len(sample1), len(sample2)\n",
    "    mean1, mean2 = mean(sample1), mean(sample2)\n",
    "    var1, var2 = var(sample1), var(sample2)\n",
    "    # calculate the pooled variance and std\n",
    "    var_pooled = ((n1-1)*var1+(n2-1)*var2) / (n1+n2-2)\n",
    "    std_pooled = np.sqrt(var_pooled)\n",
    "    cohend = (mean1 - mean2) / std_pooled\n",
    "    return cohend"
   ]
  },
  {
   "cell_type": "markdown",
   "id": "3e208cee-3ef3-42fd-be9c-b819d240794a",
   "metadata": {},
   "source": [
    "We can interpret the value of Cohen's d obtained using the [reference table](https://en.wikipedia.org/wiki/Effect_size#Cohen's_d) of values:\n",
    "\n",
    "| Cohen's d   | Effect size |\n",
    "| ----------- | ----------- |\n",
    "| 0.01        | very small  |\n",
    "| 0.20        | small       |\n",
    "| 0.50        | medium      |\n",
    "| 0.80        | large       |\n"
   ]
  },
  {
   "cell_type": "code",
   "execution_count": 68,
   "id": "82a7b837-4c9e-4532-8a8c-178bc6c4d549",
   "metadata": {},
   "outputs": [
    {
     "data": {
      "text/plain": [
       "0.48820873453216374"
      ]
     },
     "execution_count": 68,
     "metadata": {},
     "output_type": "execute_result"
    }
   ],
   "source": [
    "# Effect size for kombucha batch 04\n",
    "cohend(ksample04, mu=1000)"
   ]
  },
  {
   "cell_type": "code",
   "execution_count": 69,
   "id": "c0eab7ed-a3a6-45d8-95c7-541d1350bba0",
   "metadata": {},
   "outputs": [
    {
     "data": {
      "text/plain": [
       "2.367806224329099"
      ]
     },
     "execution_count": 69,
     "metadata": {},
     "output_type": "execute_result"
    }
   ],
   "source": [
    "# Effect size difference in electricity prices\n",
    "cohend2(pricesW, pricesE)"
   ]
  },
  {
   "cell_type": "code",
   "execution_count": 70,
   "id": "4013e2eb-ba30-4ae1-b7a3-2a3b99c2ab0f",
   "metadata": {},
   "outputs": [
    {
     "data": {
      "text/plain": [
       "0.8900742000749484"
      ]
     },
     "execution_count": 70,
     "metadata": {},
     "output_type": "execute_result"
    }
   ],
   "source": [
    "# Effect size student scores\n",
    "cohend2(scoresD, scoresL)"
   ]
  },
  {
   "cell_type": "code",
   "execution_count": null,
   "id": "80bc7b2b-7f00-46c3-a1be-c52aca1c3a60",
   "metadata": {},
   "outputs": [],
   "source": []
  },
  {
   "cell_type": "code",
   "execution_count": null,
   "id": "67f814b9-4c49-4c3b-8d8a-3d48fd6a9a3e",
   "metadata": {},
   "outputs": [],
   "source": []
  },
  {
   "cell_type": "markdown",
   "id": "6c26d960-822a-42a9-8c6b-8dc91a9586e7",
   "metadata": {},
   "source": [
    "## Exercises"
   ]
  },
  {
   "cell_type": "code",
   "execution_count": 71,
   "id": "473e6df7-023a-4b35-85a7-7a1a1a4e5dda",
   "metadata": {},
   "outputs": [],
   "source": [
    "# TODO"
   ]
  },
  {
   "cell_type": "markdown",
   "id": "efd39602-5e0b-4640-8d80-fe0a4753a3d0",
   "metadata": {},
   "source": [
    "## Links\n",
    "\n",
    "* [The Introductory Statistics Course: A Ptolemaic Curriculum](https://minireference.com/blog/wp-content/uploads/2021/03/TheIntroductoryStatisticsCourse__Cobb.pdf) by George W. Cobb\n",
    "* [Permutation Methods: A Basis for Exact Inference](https://projecteuclid.org/journals/statistical-science/volume-19/issue-4/Permutation-Methods-A-Basis-for-Exact-Inference/10.1214/088342304000000396.full) by Michael D. Ernst\n",
    "* [What Teachers Should Know About the Bootstrap: Resampling in the Undergraduate Statistics Curriculum](https://www.tandfonline.com/doi/full/10.1080/00031305.2015.1089789) by Tim C. Hesterberg  \n",
    "* \\[BOOK\\] [Think Stats 2e](https://greenteapress.com/wp/think-stats-2e/) by Allen B. Downey  \n",
    "* \\[VIDEO\\] [There's Only One Test](https://www.youtube.com/watch?v=S41zQEshs5k) by Allen B. Downey\n",
    "* \\[TALK\\] [Statistics for Hackers](https://www.youtube.com/watch?v=Iq9DzN6mvYA) by Jake Vanderplas\n",
    "\n",
    "\n",
    "New links:\n",
    "\n",
    "* Nice animation https://commons.wikimedia.org/wiki/File:Permutation_test_example_animation.gif  \n",
    "  via https://en.wikipedia.org/wiki/Permutation_test"
   ]
  },
  {
   "cell_type": "code",
   "execution_count": null,
   "id": "056c3176-564e-4250-bb06-d4ef069ef67c",
   "metadata": {},
   "outputs": [],
   "source": []
  },
  {
   "cell_type": "markdown",
   "id": "9b72f6b2-ac63-4a03-8663-be73ad7aac26",
   "metadata": {},
   "source": [
    "# Imported stuff from overview"
   ]
  },
  {
   "cell_type": "markdown",
   "id": "95935f7e-b063-458f-8814-c10867a0a11e",
   "metadata": {},
   "source": [
    " "
   ]
  },
  {
   "cell_type": "markdown",
   "id": "1a94f7f7-b518-4a00-ac0f-aebc6d3363d2",
   "metadata": {},
   "source": [
    "### Summary of Question 1\n",
    "\n",
    "We saw two ways to answer Question 1 (is there really a difference between group means) and obtain the $p$-value.\n",
    "We interpreted the small $p$-values as evidence that the observed difference, $d=130$, is unlikely to be due to chance under $H_0$, so we rejected the null hypothesis.\n",
    "Note this whole procedure is just a sanity check—we haven't touched the alternative hypothesis at all yet,\n",
    "and for all we know the stats training could have the effect of decreasing ELV!\n"
   ]
  },
  {
   "cell_type": "markdown",
   "id": "272e9b8e-0623-4f49-87a3-d6e47f5a24fa",
   "metadata": {},
   "source": [
    " \n",
    "____"
   ]
  },
  {
   "cell_type": "markdown",
   "id": "41fe7cf9-a7c4-4505-b8f9-be7dc57d6263",
   "metadata": {},
   "source": [
    "It's time to study Question 2, which is to estimate the *magnitude* of the change in ELV obtained from completing the stats training. We call this the *effect size* in statistics."
   ]
  },
  {
   "cell_type": "markdown",
   "id": "b0431e44-cfa6-44be-8b35-cc13c282c55e",
   "metadata": {},
   "source": [
    " "
   ]
  },
  {
   "cell_type": "markdown",
   "id": "22eb8140-ea79-4316-a217-fbbab242dea3",
   "metadata": {},
   "source": [
    "## Estimating the effect size\n",
    "\n",
    "- Question 2 of Amy's statistical investigation is to estimate the difference in ELV gained by stats training.\n",
    "- NEW CONCEPT: **effect size** is a measure of difference between intervention and control groups.\n",
    "- We assume the data of **Group S** and **Group NS** come from different populations with means $\\mu_S$ and $\\mu_{NS}$.\n",
    "- We're interested in estimating the difference between population means, denoted $\\Delta = \\mu_S - \\mu_{NS}$.\n",
    "- By analyzing the sample, we have obtained an estimate $d=130$ for the unknown $\\Delta$,\n",
    "  but we know our data contains lots of variability, so we know our estimate might be off.\n",
    "- We want an answer to Question 2 (What is the estimated difference between group means?)\n",
    "  that takes into account the variability of the data.\n",
    "- NEW CONCEPT: **confidence interval** is a way to describe a range of values for an estimate\n",
    "  that takes into account the variability of the data.\n",
    "- We want to provide an answer to Question 2 in the form of a confidence interval that tells\n",
    "  us a range of values where we believe the true value of $\\Delta$ falls.\n",
    "- Similar to how we showed two approaches for hypothesis testing,\n",
    "  we'll work on effect size estimation using two approaches: bootstrap estimation and analytical approximation methods.\n"
   ]
  },
  {
   "cell_type": "markdown",
   "id": "d75a1210-0e02-42f3-9243-41cd16816443",
   "metadata": {},
   "source": [
    " "
   ]
  },
  {
   "cell_type": "markdown",
   "id": "84f7a224-e8c0-456c-86bb-4d0ac456b954",
   "metadata": {},
   "source": [
    "### Approach 1: Confidence intervals using bootstrap estimation\n",
    "\n",
    "- We want to estimate the distribution of ELV values for the two groups,\n",
    "  and compute the difference between the means of these distributions.\n",
    "- Distributions:\n",
    "  - Real sampling distributions: obtained by repeated sampling from the populations\n",
    "  - Bootstrap sampling distributions: resampling data from the samples we have (with replacement)\n",
    "- Intuition: treat the samples as if they were the population\n",
    "- We'll compute $B=5000$ bootstrap samples from the two groups and compute the differences.\n",
    "  We'll then look at the distribution of the bootstrap sample differences to obtain\n",
    "  the confidence interval for the difference between population means $CI_{\\Delta}$."
   ]
  },
  {
   "cell_type": "code",
   "execution_count": 72,
   "id": "570fe598-0d2a-4010-b1e5-644c2c3f8cac",
   "metadata": {},
   "outputs": [],
   "source": [
    "def gen_boot_dist(sample, estfunc, B=10000):\n",
    "    \"\"\"\n",
    "    Generate estimates from the sampling distribiton of the estimator `estfunc`\n",
    "    based on `B` bootstrap samples (sampling with replacement) from `sample`.\n",
    "    \"\"\"\n",
    "    n = len(sample)\n",
    "    bestimates = []\n",
    "    for i in range(0, B):\n",
    "        bsample = np.random.choice(sample, n, replace=True)\n",
    "        bestimate = estfunc(bsample)\n",
    "        bestimates.append(bestimate)\n",
    "    return bestimates"
   ]
  },
  {
   "cell_type": "code",
   "execution_count": 73,
   "id": "1cf143e1-058d-4e41-be56-d057e29251b4",
   "metadata": {},
   "outputs": [
    {
     "data": {
      "text/plain": [
       "<AxesSubplot: ylabel='Count'>"
      ]
     },
     "execution_count": 73,
     "metadata": {},
     "output_type": "execute_result"
    },
    {
     "data": {
      "image/png": "[encoded data removed]",
      "text/plain": [
       "<Figure size 500x160 with 1 Axes>"
      ]
     },
     "metadata": {
      "image/png": {
       "height": 166,
       "width": 456
      }
     },
     "output_type": "display_data"
    }
   ],
   "source": [
    "from statistics import mean\n",
    "\n",
    "# load data for two groups\n",
    "data = pd.read_csv('../stats_overview/data/employee_lifetime_values.csv')\n",
    "xS = data[data[\"group\"]==\"S\"]['ELV']\n",
    "xNS = data[data[\"group\"]==\"NS\"]['ELV']\n",
    "\n",
    "# compute bootstrap estimates for mean in each group\n",
    "meanS_bstats = gen_boot_dist(xS, estfunc=mean)\n",
    "meanNS_bstats = gen_boot_dist(xNS, estfunc=mean)\n",
    "\n",
    "# compute the difference between means from bootstrap samples\n",
    "dmeans_bstats = []\n",
    "for bmeanS, bmeanNS in zip(meanS_bstats, meanNS_bstats):\n",
    "    d = bmeanS - bmeanNS \n",
    "    dmeans_bstats.append(d)\n",
    "\n",
    "sns.histplot(dmeans_bstats)"
   ]
  },
  {
   "cell_type": "code",
   "execution_count": 74,
   "id": "ccbd486b-21c9-4c31-b1d2-8c58b2b5a982",
   "metadata": {},
   "outputs": [
    {
     "data": {
      "text/plain": [
       "[25.86005322580653, 231.91692526881704]"
      ]
     },
     "execution_count": 74,
     "metadata": {},
     "output_type": "execute_result"
    }
   ],
   "source": [
    "# 90% confidence interval for the difference in means\n",
    "CI_boot = [np.percentile(dmeans_bstats, 5),\n",
    "           np.percentile(dmeans_bstats, 95)]\n",
    "CI_boot"
   ]
  },
  {
   "cell_type": "markdown",
   "id": "bfc9463a-be54-4a52-a316-550275894827",
   "metadata": {},
   "source": [
    "The 90% confidence interval `CI_boot` describes an interval of numbers\n",
    "that should contain the difference between group means $\\Delta$ at least 90\\% of the time:\n",
    "\n",
    "$$\n",
    "    \\textrm{Pr}_{R}\\big(\\{ \\Delta \\in \\textrm{CI}_{\\Delta} \\}\\big) \\geq 0.9.\n",
    "$$\n",
    "\n",
    "This is a little weird:\n",
    "in any given experiment,\n",
    "the unknown difference between groups $\\Delta$ either *is* or *isn't* in the interval $\\textrm{CI}_{\\Delta}$,\n",
    "so what is 90\\% probability referring to?\n",
    "The randomness $R$ describes repeated experiments using the same calculation procedure for calculating the confidence interval.\n",
    "So it is not a guarantee on any particular estimate,\n",
    "but reliability of the procedure in the long term.\n",
    "This is the *frequentist statistics* paradigm,\n",
    "in which \"quality guarantees\" are given about the procedure used to obtain the estimates,\n",
    "and not about particular outcomes of the procedure."
   ]
  },
  {
   "cell_type": "markdown",
   "id": "c549e323-1b68-4533-89e4-966dfc50e115",
   "metadata": {
    "tags": []
   },
   "source": [
    "#### SciPy bootstrap method (optional)"
   ]
  },
  {
   "cell_type": "code",
   "execution_count": 84,
   "id": "864ff446-cd2d-401e-8fe6-6f3029a2be4b",
   "metadata": {},
   "outputs": [
    {
     "data": {
      "text/plain": [
       "[26.705484408602008, 229.91583817204298]"
      ]
     },
     "execution_count": 84,
     "metadata": {},
     "output_type": "execute_result"
    }
   ],
   "source": [
    "from scipy.stats import bootstrap\n",
    "\n",
    "np.random.seed(42)\n",
    "res = bootstrap((xS, xNS), statistic=dmeans, vectorized=False,\n",
    "                confidence_level=0.9, n_resamples=5000, method='percentile')\n",
    "\n",
    "[res.confidence_interval.low,\n",
    " res.confidence_interval.high]"
   ]
  },
  {
   "cell_type": "code",
   "execution_count": null,
   "id": "2f5ba10a-6d99-4473-9a99-944045d0389e",
   "metadata": {},
   "outputs": [],
   "source": []
  },
  {
   "cell_type": "code",
   "execution_count": null,
   "id": "8c98a20e-2548-4cc0-b527-dc7c51aa7aef",
   "metadata": {},
   "outputs": [],
   "source": []
  },
  {
   "cell_type": "markdown",
   "id": "9217a788-735e-4390-b23d-ede8f071de33",
   "metadata": {},
   "source": [
    "## Conclusion of Amy's statistical analysis\n",
    "\n",
    "Recall the two research questions that Amy set out to answer in the beginning of this video series:\n",
    "\n",
    "- Question 1: Is there a difference between the means in the two groups?\n",
    "- Question 2: How much does statistics training improve the ELV of employees?\n",
    "\n",
    "The statistical analysis we did allows us to answer these two questions as follows:\n",
    "\n",
    "- Answer 1: There is a statistically significant difference between Group S and Group NS, $p = 0.048$.\n",
    "- Answer 2: The estimated improvement in ELV is 130 points, which is corresponds to Cohen's d value of $0.52$ (medium effect size). A 90% confidence interval for the true effect size is $[28.4, 237.6]$.\n",
    "\n",
    "Note: we reported the numerical results obtained from resampling methods (Approach 1), but conclusions would be qualitatively the same if we reported results obtained from analytical approximations (Approach 2)."
   ]
  },
  {
   "cell_type": "markdown",
   "id": "3b86fa03-5977-4707-915d-f1e49462504a",
   "metadata": {},
   "source": [
    "### Using statistics for convincing others\n",
    "\n",
    "You may be wondering if all this probabilistic modelling and complicated statistical analysis was worth it to reach a conclusion that seems obvious in retrospect. Was all this work worth it? The purpose of all this work is to obtains something close to an objective conclusion. Without statistics it is very easy to fool ourselves and interpret patterns in data the way we want to, or alternatively, not see patterns that are present. By following the standard statistical procedures, we're less likely to fool ourselves, and more likely to be able to convince others.\n",
    "\n",
    "It can be very useful to imagine Amy explaining the results to a skeptical colleague. Suppose the colleague is very much against the idea of statistical training, and sees it as a distraction, saying things like \"We hire employees to do a job, not to play with Python.\" and \"I don't know any statistics and I'm doing my job just fine!\" You get the picture.\n",
    "\n",
    "Imagine Amy presenting her findings about how 100 hours of statistical training improves employee lifetime value (ELV) results after one year, and suggesting the statistical training be implemented for all new hires from now on. The skeptical colleague immediately rejects the idea and questions Amy's recommendation using emotional appeals about necessity, time wasting, and how statistics is a specialty topic that is not required for all employees. Instead of arguing based on opinions and emotions with her colleague, Amy explains her recommendation is based on a statistical experiment she conducted, and shows the results:\n",
    "\n",
    "- When the colleague asks if the observed difference could be due to chance, Amy says that this is unlikely, and quotes the $p$-value of 0.048 (less than 0.05), and interprets the result as saying the probability of the observed difference between **Group S** and **Group NS** being due to chance is less than 5%.\n",
    "\n",
    "- The skeptical colleague is forced to concede that statistical training does improve ELV, but then asks about the effect size of the improvement: \"How much more ELV can we expect if we provide statistics training?\" Amy is ready to answer quoting the observed difference of $130$ ELV points, and further specifies the 90% confidence interval of $[28.4, 237.6]$ for the improvement, meaning in the worst case there is 28 ELV points improvement.\n",
    "\n",
    "The skeptic is forced to back down from their objections, and the \"stats training for all\" program is adopted in the company. Not only was Amy able to win the argument using statistics, but she was also able to set appropriate expectations for the results. In other words, she hasn't promised a guaranteed +130 ELV improvement, but a realistic range of values that can be expected."
   ]
  },
  {
   "cell_type": "code",
   "execution_count": null,
   "id": "8e5f35c3-131b-4546-8be5-f94e89aafe3a",
   "metadata": {},
   "outputs": [],
   "source": []
  },
  {
   "cell_type": "code",
   "execution_count": null,
   "id": "adbbc6b0-6f98-4cc2-8f74-6c65031f7de8",
   "metadata": {},
   "outputs": [],
   "source": []
  },
  {
   "cell_type": "code",
   "execution_count": null,
   "id": "4fd4a1e4-cde4-4f96-8ff9-ebc4f11524c1",
   "metadata": {},
   "outputs": [],
   "source": []
  },
  {
   "cell_type": "code",
   "execution_count": null,
   "id": "dbb5d0b4-d223-4541-82ab-a046ba2c7cde",
   "metadata": {},
   "outputs": [],
   "source": []
  },
  {
   "cell_type": "markdown",
   "id": "339aec07-0f62-4437-96ab-3bacb5d27326",
   "metadata": {},
   "source": [
    "# CUT MATERIAL"
   ]
  },
  {
   "cell_type": "code",
   "execution_count": null,
   "id": "bfa9c13f-4c55-47a4-bb56-2b93cfb840af",
   "metadata": {},
   "outputs": [],
   "source": []
  },
  {
   "cell_type": "code",
   "execution_count": null,
   "id": "87510fad-036a-4c56-b039-5e6700bfec29",
   "metadata": {},
   "outputs": [],
   "source": []
  },
  {
   "cell_type": "code",
   "execution_count": null,
   "id": "2c2da201-e619-47bd-a096-72da7c5d4408",
   "metadata": {},
   "outputs": [],
   "source": []
  },
  {
   "cell_type": "markdown",
   "id": "b3f3c1a2-76e8-4a6a-8877-da05c086ca59",
   "metadata": {},
   "source": [
    " "
   ]
  },
  {
   "cell_type": "markdown",
   "id": "7a38ab7b-aba7-4f85-97ab-353c37a2f48b",
   "metadata": {},
   "source": [
    " \n",
    " "
   ]
  }
 ],
 "metadata": {
  "kernelspec": {
   "display_name": "Python 3 (ipykernel)",
   "language": "python",
   "name": "python3"
  },
  "language_info": {
   "codemirror_mode": {
    "name": "ipython",
    "version": 3
   },
   "file_extension": ".py",
   "mimetype": "text/x-python",
   "name": "python",
   "nbconvert_exporter": "python",
   "pygments_lexer": "ipython3",
   "version": "3.9.4"
  }
 },
 "nbformat": 4,
 "nbformat_minor": 5
}
