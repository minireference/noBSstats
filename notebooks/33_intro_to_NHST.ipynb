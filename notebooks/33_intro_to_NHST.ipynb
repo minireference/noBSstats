{
 "cells": [
  {
   "cell_type": "markdown",
   "id": "b73f3d18-88c7-499d-90a3-dd6954247cf3",
   "metadata": {
    "tags": []
   },
   "source": [
    "# Section 3.3S — Introduction to hypothesis testing\n",
    "\n",
    "This notebook contains the code examples from [**Section 3.3 Introduction to hypothesis testing**]() of the **No Bullshit Guide to Statistics**.\n",
    "\n",
    "I highly recommend that you use the notebook interactively.\n",
    "I've intentionally left empty code cells throughout the notebook,\n",
    "which you can use to try some commands on your own.\n",
    "For example,\n",
    "you can copy-paste some of the commands in previous cells,\n",
    "modify them and run to see what happens.\n",
    "Try to break things."
   ]
  },
  {
   "cell_type": "markdown",
   "id": "efce8e91-8824-4103-a526-02e23c794668",
   "metadata": {
    "jp-MarkdownHeadingCollapsed": true,
    "tags": []
   },
   "source": [
    "#### Notebook setup"
   ]
  },
  {
   "cell_type": "code",
   "execution_count": 1,
   "id": "990de07d-c26f-4a29-935a-2b1dacc89b34",
   "metadata": {},
   "outputs": [],
   "source": [
    "# load Python modules\n",
    "import os\n",
    "import numpy as np\n",
    "import pandas as pd\n",
    "import seaborn as sns\n",
    "import matplotlib.pyplot as plt"
   ]
  },
  {
   "cell_type": "code",
   "execution_count": 2,
   "id": "2ae5e519-3e7b-4218-aebd-bbb7790783cd",
   "metadata": {},
   "outputs": [],
   "source": [
    "# Plot helper functions\n",
    "from plot_helpers import nicebins\n",
    "from plot_helpers import plot_pdf\n",
    "from plot_helpers import savefigure\n"
   ]
  },
  {
   "cell_type": "code",
   "execution_count": 3,
   "id": "3209c5be-cb6a-42c0-8bf8-949a4fc0ff39",
   "metadata": {},
   "outputs": [
    {
     "data": {
      "text/plain": [
       "<Figure size 640x480 with 0 Axes>"
      ]
     },
     "metadata": {},
     "output_type": "display_data"
    }
   ],
   "source": [
    "# Figures setup\n",
    "plt.clf()  # needed otherwise `sns.set_theme` doesn't work\n",
    "from plot_helpers import RCPARAMS\n",
    "# RCPARAMS.update({'figure.figsize': (10, 3)})   # good for screen\n",
    "RCPARAMS.update({'figure.figsize': (5, 1.6)})  # good for print\n",
    "sns.set_theme(\n",
    "    context=\"paper\",\n",
    "    style=\"whitegrid\",\n",
    "    palette=\"colorblind\",\n",
    "    rc=RCPARAMS,\n",
    ")\n",
    "\n",
    "# Useful colors\n",
    "snspal = sns.color_palette()\n",
    "blue, orange, purple = snspal[0], snspal[1], snspal[4]\n",
    "# red = sns.color_palette(\"tab10\")[3]\n",
    "\n",
    "# High-resolution please\n",
    "%config InlineBackend.figure_format = 'retina'\n",
    "\n",
    "# Where to store figures\n",
    "DESTDIR = \"figures/stats/intro_to_NHST\""
   ]
  },
  {
   "cell_type": "code",
   "execution_count": 4,
   "id": "df22d8d7-6814-4c3b-a3d3-2f31ab6b2f3b",
   "metadata": {},
   "outputs": [],
   "source": [
    "# set random seed for repeatability\n",
    "np.random.seed(42)"
   ]
  },
  {
   "cell_type": "markdown",
   "id": "94d9cb52-34ec-416a-a883-850cf725f8a6",
   "metadata": {},
   "source": [
    "$\\def\\stderr#1{\\mathbf{se}_{#1}}$\n",
    "$\\def\\stderrhat#1{\\hat{\\mathbf{se}}_{#1}}$\n",
    "$\\newcommand{\\Mean}{\\textbf{Mean}}$\n",
    "$\\newcommand{\\Var}{\\textbf{Var}}$\n",
    "$\\newcommand{\\Std}{\\textbf{Std}}$\n",
    "$\\newcommand{\\Freq}{\\textbf{Freq}}$\n",
    "$\\newcommand{\\RelFreq}{\\textbf{RelFreq}}$\n",
    "$\\newcommand{\\DMeans}{\\textbf{DMeans}}$\n",
    "$\\newcommand{\\Prop}{\\textbf{Prop}}$\n",
    "$\\newcommand{\\DProps}{\\textbf{DProps}}$\n",
    "\n",
    "$$\n",
    "\\newcommand{\\CI}[1]{\\textbf{CI}_{#1}}\n",
    "\\newcommand{\\CIL}[1]{\\textbf{L}_{#1}}\n",
    "\\newcommand{\\CIU}[1]{\\textbf{U}_{#1}}\n",
    "\\newcommand{\\ci}[1]{\\textbf{ci}_{#1}}\n",
    "\\newcommand{\\cil}[1]{\\textbf{l}_{#1}}\n",
    "\\newcommand{\\ciu}[1]{\\textbf{u}_{#1}}\n",
    "$$\n",
    "\n",
    "\n",
    "(this cell contains the macro definitions like $\\stderr{\\overline{\\mathbf{x}}}$, $\\stderrhat{}$, $\\Mean$, ...)"
   ]
  },
  {
   "cell_type": "markdown",
   "id": "a4359b21-fcb5-41ac-b46b-b8dcc9abe182",
   "metadata": {},
   "source": [
    "## Definitions\n",
    "\n",
    "- estimator (statistic)\n",
    "\n"
   ]
  },
  {
   "cell_type": "code",
   "execution_count": 5,
   "id": "213defaa-1e71-40aa-a6af-b9c73982f4bb",
   "metadata": {},
   "outputs": [],
   "source": [
    "def mean(sample):\n",
    "    return sum(sample) / len(sample)\n",
    "\n",
    "def var(sample):\n",
    "    xbar = mean(sample)\n",
    "    sumsqdevs = sum([(xi-xbar)**2 for xi in sample])\n",
    "    return sumsqdevs / (len(sample)-1)\n",
    "\n",
    "def std(sample):\n",
    "    s2 = var(sample)\n",
    "    return np.sqrt(s2)"
   ]
  },
  {
   "cell_type": "markdown",
   "id": "a5ae790e-e7e5-4880-8c6f-72c101319403",
   "metadata": {},
   "source": [
    "### What is hypothesis testing?\n",
    "\n",
    "- An approach to formulating research questions as **yes-no decisions** and a **procedure for making these decisions**.\n",
    "- Hypothesis testing is a standardized procedure for doing statistical analysis  \n",
    "  (also uses stats jargon that makes everything look more convincing ;)\n",
    "- We formulate research question as two **competing hypotheses**:\n",
    "  - **Null hypothesis $H_0$** = no effect.  \n",
    "  - **Alternative hypothesis $H_A$** = an effect exists.\n",
    "- NEW CONCEPT: the $p$-value is the probability of observing statistic (or more extreme) under the null hypothesis.\n"
   ]
  },
  {
   "cell_type": "markdown",
   "id": "ab433480-b256-427f-8ee2-922e2468abbb",
   "metadata": {},
   "source": [
    "## The logic of hypothesis testing"
   ]
  },
  {
   "cell_type": "markdown",
   "id": "c0bc59f3-afc8-4e54-b6e6-c6b5f731d9ba",
   "metadata": {},
   "source": [
    "### Overview of the hypothesis testing procedure\n",
    "\n",
    "Here is the high-level overview of the hypothesis testing procedure:\n",
    " - **inputs**: sample statistics computed from the observed data\n",
    " - **outputs**: a decision that is one of: \"reject the null hypothesis\" or \"fail to reject the null hypothesis\"\n",
    "\n",
    "![hypothesis testing overview](./attachments/stats/intro_to_hypothesis_testing.png)\n",
    "\n",
    "\n",
    "\n",
    "In this notebook, we'll look at two different approaches for computing the sampling distributions:\n",
    "simulations and analytical approximations."
   ]
  },
  {
   "cell_type": "markdown",
   "id": "ee8e5ae2-06a3-4eb2-a7e1-9a53e818dbef",
   "metadata": {
    "tags": []
   },
   "source": [
    "### Interpreting the result of a hypothesis test (optional)\n"
   ]
  },
  {
   "cell_type": "markdown",
   "id": "c0aa58b0-8428-42ef-823c-0fba093233bc",
   "metadata": {
    "tags": []
   },
   "source": [
    "\n",
    "- The implication of rejecting the null hypothesis is that there must be a difference between the observed sample and the theoretical model.\n",
    "  - Note that rejecting null hypothesis ($H_0$) is not the same as \"proving\" the alternative hypothesis ($H_A$);\n",
    "    we have just shown that the data is unlikely under the null hypothesis.\n",
    "    The conclusion is that it's worth looking for *some* alternative hypothesis.\n",
    "  - Using statistics jargon, when we reject the hypothesis $H_0$ we say we've observed a \"statistically significant\" result,\n",
    "    which sounds a lot more impressive than it actually is.\n",
    "    The null hypothesis testing procedure is used to just rule out \"occurred by chance\" scenario,\n",
    "    which is a very basic sanity check.    \n",
    "\n",
    "- The implication of failing to reject the null hypothesis is that the observed sample is \"not significant,\" meaning it could have occurred by chance,\n",
    "  so there is no need to search for an alternative hypothesis.\n",
    "  - Note that \"failing to reject\" is not the same as \"proving\" the null hypothesis.\n",
    "\n",
    "I know all this sounds super complicated and roundabout (an it is!),\n",
    "but you will get a hang of it with practice."
   ]
  },
  {
   "cell_type": "markdown",
   "id": "b564c332-fc9c-4adc-922f-d52e377d5cf8",
   "metadata": {
    "jp-MarkdownHeadingCollapsed": true
   },
   "source": [
    "### Effect size estimates\n",
    "\n",
    "The **effect size** $\\Delta$ describes the *magnitude* of the deviation of the observed statistic\n",
    "from the expected theoretical value.\n",
    "For example,\n",
    "in a test that compare sthe sample mean $\\overline{\\mathbf{x}}$ to a theoretical mean $\\mu_{X_0}$,\n",
    "the effect size estimate can be obtain from $\\widehat{\\Delta} = \\overline{\\mathbf{x}} - \\mu_{X_0}$.\n",
    "\n",
    "Another way to report effect size is to construct a **confidence interval**,\n",
    "which takes into account the variability of the data.\n",
    "The confidence interval that tells us a range of values where we believe the true value of $\\Delta$ falls.\n",
    "The functions `ci_mean` and `ci_var` from the `stats_helpers` module can help us with confidence interval calculaitons."
   ]
  },
  {
   "cell_type": "markdown",
   "id": "8d04caba-b43d-43ce-a22f-a18466fbbc86",
   "metadata": {},
   "source": [
    "## Simulation tests"
   ]
  },
  {
   "cell_type": "markdown",
   "id": "339844ec-8dfd-4e87-8597-2acce0fac99d",
   "metadata": {},
   "source": [
    "Let's start with a description of the problem.\n",
    "We want to compare a sample of observations from an unknown population to a **fully specified theoretical model**.\n",
    "\n"
   ]
  },
  {
   "cell_type": "markdown",
   "id": "0e69d633-9b57-4a00-94b7-134824442461",
   "metadata": {},
   "source": [
    "#### Kombucha bottling process\n",
    "\n",
    "We'll use the kombucha scenario for all the examples in this section.\n",
    "Recall, the probability distirbution of the kombucha volume is described by\n",
    "the theoretical model $K_0 \\sim \\mathcal{N}(\\mu_{K_0} = 1000, \\sigma_{K_0}=10)$\n",
    "when the production line is working as expected.\n",
    "\n",
    "We can use simulation to obtain the sampling distribution since $\\mu_{K_0}$ and $\\sigma_{K_0}$ are known."
   ]
  },
  {
   "cell_type": "markdown",
   "id": "d2dacc15-b674-45d1-9cd4-655c60ed6af6",
   "metadata": {},
   "source": [
    "#### Distribution under the null"
   ]
  },
  {
   "cell_type": "code",
   "execution_count": 6,
   "id": "b9c83588-c0af-43af-a7d6-ab953428d679",
   "metadata": {},
   "outputs": [],
   "source": [
    "from scipy.stats import norm\n",
    "\n",
    "# theoretical model for the kombucha volumes\n",
    "muK0 = 1000   # population mean (expected kombucha volume)\n",
    "sigmaK0 = 10  # population standard deviation\n",
    "\n",
    "rvK0 = norm(muK0, sigmaK0)"
   ]
  },
  {
   "cell_type": "code",
   "execution_count": 7,
   "id": "f164b0e6-64ab-451a-a35a-eb29bf01d63c",
   "metadata": {},
   "outputs": [
    {
     "data": {
      "text/plain": [
       "array([1004.97,  998.62, 1006.48, 1015.23,  997.66,  997.66, 1015.79,\n",
       "       1007.67,  995.31, 1005.43,  995.37,  995.34, 1002.42,  980.87,\n",
       "        982.75,  994.38,  989.87, 1003.14,  990.92,  985.88])"
      ]
     },
     "execution_count": 7,
     "metadata": {},
     "output_type": "execute_result"
    }
   ],
   "source": [
    "np.random.seed(42)\n",
    "rvK0.rvs(size=20).round(2)"
   ]
  },
  {
   "cell_type": "markdown",
   "id": "686aa3be-c3f2-40c4-9628-ee80b75f7acd",
   "metadata": {},
   "source": [
    "#### Sampling distributions under the null\n",
    "\n",
    "We can generate the sampling distribution of the mean $\\overline{\\mathbf{K}}_0$\n",
    "and the sampling distribution of the variance $S^2_{\\mathbf{K}_0}$\n",
    "by calling the helper function `gen_sampling_dist`."
   ]
  },
  {
   "cell_type": "code",
   "execution_count": 8,
   "id": "06fa873f-bd27-457e-9b82-fee258df7e07",
   "metadata": {},
   "outputs": [],
   "source": [
    "from stats_helpers import gen_sampling_dist\n",
    "\n",
    "np.random.seed(42)\n",
    "kbars0 = gen_sampling_dist(rvK0, estfunc=mean, n=20)\n",
    "kvars0 = gen_sampling_dist(rvK0, estfunc=var, n=20)"
   ]
  },
  {
   "cell_type": "code",
   "execution_count": 9,
   "id": "91cc8e12-c219-4608-9363-5a42adf63657",
   "metadata": {},
   "outputs": [
    {
     "data": {
      "text/plain": [
       "<Axes: ylabel='Density'>"
      ]
     },
     "execution_count": 9,
     "metadata": {},
     "output_type": "execute_result"
    },
    {
     "data": {
      "image/png": "[encoded data removed]",
      "text/plain": [
       "<Figure size 500x160 with 1 Axes>"
      ]
     },
     "metadata": {
      "image/png": {
       "height": 169,
       "width": 459
      }
     },
     "output_type": "display_data"
    }
   ],
   "source": [
    "sns.histplot(kbars0, stat=\"density\", bins=100)"
   ]
  },
  {
   "cell_type": "code",
   "execution_count": 10,
   "id": "27b8cd01-b1ef-4c0d-b7c2-e0ca9108b8e8",
   "metadata": {},
   "outputs": [
    {
     "data": {
      "text/plain": [
       "<Axes: ylabel='Density'>"
      ]
     },
     "execution_count": 10,
     "metadata": {},
     "output_type": "execute_result"
    },
    {
     "data": {
      "image/png": "[encoded data removed]",
      "text/plain": [
       "<Figure size 500x160 with 1 Axes>"
      ]
     },
     "metadata": {
      "image/png": {
       "height": 166,
       "width": 465
      }
     },
     "output_type": "display_data"
    }
   ],
   "source": [
    "sns.histplot(kvars0, stat=\"density\", bins=100)"
   ]
  },
  {
   "cell_type": "code",
   "execution_count": 11,
   "id": "241c00c8-fa27-4216-960d-40267e0ef39c",
   "metadata": {},
   "outputs": [
    {
     "name": "stdout",
     "output_type": "stream",
     "text": [
      "Saved figure to figures/stats/intro_to_NHST/panel_hist_kbars0_kvars0_n20.pdf\n",
      "Saved figure to figures/stats/intro_to_NHST/panel_hist_kbars0_kvars0_n20.png\n"
     ]
    },
    {
     "data": {
      "image/png": "[encoded data removed]",
      "text/plain": [
       "<Figure size 700x200 with 2 Axes>"
      ]
     },
     "metadata": {
      "image/png": {
       "height": 189,
       "width": 682
      }
     },
     "output_type": "display_data"
    }
   ],
   "source": [
    "filename = os.path.join(DESTDIR, \"panel_hist_kbars0_kvars0_n20.pdf\")\n",
    "with plt.rc_context({\"figure.figsize\":(7,2)}), sns.axes_style(\"ticks\"):\n",
    "    fig, (ax1, ax2) = plt.subplots(1, 2)\n",
    "\n",
    "    # MEAN\n",
    "    title = '(a) sampling distribution of the mean'\n",
    "    ax1.set_title(title, fontsize=10)\n",
    "    sns.histplot(kbars0, ax=ax1, stat=\"density\", bins=100)\n",
    "    ax1.set_xlabel(\"$\\overline{\\mathbf{k}}_0$\")\n",
    "    ax1.set_ylabel(\"$f_{\\overline{\\mathbf{K}}_0}$\")\n",
    "\n",
    "    # VARIANCE\n",
    "    title = '(b) sampling distribution of the variance'\n",
    "    ax2.set_title(title, fontsize=10)\n",
    "    sns.histplot(kvars0, ax=ax2, stat=\"density\", bins=100)\n",
    "    ax2.set_xlabel(\"$s_{{\\mathbf{k}}_0}^2}$\")\n",
    "    ax2.set_ylabel(\"$f_{S_{{\\mathbf{K}}_0}^2}$\")\n",
    "\n",
    "savefigure(fig, filename)"
   ]
  },
  {
   "cell_type": "code",
   "execution_count": null,
   "id": "a38aebd6-5ce4-497f-bdf9-af4e99db8162",
   "metadata": {},
   "outputs": [],
   "source": []
  },
  {
   "cell_type": "markdown",
   "id": "f0e86164-cd7f-4854-88d7-bd527cae9dfb",
   "metadata": {},
   "source": [
    "#### Selecting the tails of a distribution\n",
    "\n",
    "The concept of statistics that are \"equal or more extreme than\" the observed statistic $\\hat{\\theta}_{\\mathbf{x}}$\n",
    "is essential to the logic of hypothesis testing."
   ]
  },
  {
   "cell_type": "code",
   "execution_count": 12,
   "id": "7c1cbcd1-4eea-405e-82fb-564d6b3cc757",
   "metadata": {},
   "outputs": [],
   "source": [
    "# CUTTABLE"
   ]
  },
  {
   "cell_type": "code",
   "execution_count": 13,
   "id": "30ba538d-02d2-4b6d-aca8-996a162190a8",
   "metadata": {},
   "outputs": [],
   "source": [
    "#######################################################\n",
    "\n",
    "def tailvalues(values, obs, alt=\"two-sided\"):\n",
    "    \"\"\"\n",
    "    Select the subset of the elements in list `values` that\n",
    "    are equal or more extreme than the observed value `obs`.\n",
    "    \"\"\"\n",
    "    values = np.array(values)\n",
    "    if alt == \"greater\":\n",
    "        tails = values[values >= obs]\n",
    "    elif alt == \"less\":\n",
    "        tails = values[values <= obs]\n",
    "    elif alt == \"two-sided\":\n",
    "        mean = np.mean(values)\n",
    "        dev = abs(obs - mean)\n",
    "        tails = values[abs(values-mean) >= dev]\n",
    "    return tails"
   ]
  },
  {
   "cell_type": "markdown",
   "id": "d6edbf69-ba73-49e7-a90b-fa4ac641c330",
   "metadata": {},
   "source": [
    "#### Right tail of the distribution\n",
    "\n",
    "Given a list of observations from the sampling distribution `stats`,\n",
    "we want to select the observations that are equal to or larger than the observed statistic `obs`."
   ]
  },
  {
   "cell_type": "code",
   "execution_count": 14,
   "id": "bedf1362-56fa-44cb-9346-455b2233b37f",
   "metadata": {},
   "outputs": [
    {
     "data": {
      "text/plain": [
       "array([2, 3, 4, 5])"
      ]
     },
     "execution_count": 14,
     "metadata": {},
     "output_type": "execute_result"
    }
   ],
   "source": [
    "stats = [-5, -4, -3, -2, -1, 0, 1, 2, 3, 4, 5]\n",
    "obs = 2\n",
    "tailvalues(stats, obs, alt=\"greater\")"
   ]
  },
  {
   "cell_type": "markdown",
   "id": "89c29720-4863-433a-89bb-d0f5bee5082b",
   "metadata": {},
   "source": [
    "#### Left tail of the distribution\n",
    "\n",
    "Given a list of observations from the sampling distribution `stats`,\n",
    "we want to select the observations that are equal to or less than the observed statistic `obs`."
   ]
  },
  {
   "cell_type": "code",
   "execution_count": 15,
   "id": "0f48e46d-b54b-4dc3-a7b5-e46bffc0d09d",
   "metadata": {},
   "outputs": [
    {
     "data": {
      "text/plain": [
       "array([-5, -4, -3])"
      ]
     },
     "execution_count": 15,
     "metadata": {},
     "output_type": "execute_result"
    }
   ],
   "source": [
    "obs = -3\n",
    "tailvalues(stats, -3, alt=\"less\")"
   ]
  },
  {
   "cell_type": "markdown",
   "id": "f9064b7c-d43b-4cb9-820e-b7230044cf4d",
   "metadata": {},
   "source": [
    "#### Both tails of the distribution\n",
    "\n",
    "We select the observations that are equal to or more extreme than the deviation\n",
    "of the observed statistic `obs`.\n",
    "This means all values that are greater than `|obs|` and less than `-|obs|`."
   ]
  },
  {
   "cell_type": "code",
   "execution_count": 16,
   "id": "46a3c55c-5877-4379-a797-4c764b08e640",
   "metadata": {},
   "outputs": [
    {
     "data": {
      "text/plain": [
       "array([-5, -4,  4,  5])"
      ]
     },
     "execution_count": 16,
     "metadata": {},
     "output_type": "execute_result"
    }
   ],
   "source": [
    "obs = 4\n",
    "tailvalues(stats, obs, alt=\"two-sided\")"
   ]
  },
  {
   "cell_type": "code",
   "execution_count": 17,
   "id": "d33436f4-4dec-459c-97d7-592397dc6dde",
   "metadata": {},
   "outputs": [],
   "source": [
    "# /CUTTABLE"
   ]
  },
  {
   "cell_type": "code",
   "execution_count": 18,
   "id": "ad31aaeb-c5c0-4686-b54a-3e7dfd638350",
   "metadata": {},
   "outputs": [
    {
     "name": "stdout",
     "output_type": "stream",
     "text": [
      "Saved figure to figures/stats/intro_to_NHST/panel_hist_p-values_left_twotailed_right_tests.pdf\n",
      "Saved figure to figures/stats/intro_to_NHST/panel_hist_p-values_left_twotailed_right_tests.png\n"
     ]
    },
    {
     "data": {
      "image/png": "[encoded data removed]",
      "text/plain": [
       "<Figure size 700x200 with 3 Axes>"
      ]
     },
     "metadata": {
      "image/png": {
       "height": 188,
       "width": 689
      }
     },
     "output_type": "display_data"
    }
   ],
   "source": [
    "filename = os.path.join(DESTDIR, \"panel_hist_p-values_left_twotailed_right_tests.pdf\")\n",
    "    \n",
    "from scipy.stats import t as tdist\n",
    "rvT = tdist(9)\n",
    "\n",
    "xs = np.linspace(-4, 4, 1000)\n",
    "ys = rvT.pdf(xs)\n",
    "\n",
    "N = 100000\n",
    "np.random.seed(42)\n",
    "ts = rvT.rvs(N)\n",
    "\n",
    "bins = nicebins(xs, 2, nbins=50)\n",
    "\n",
    "with plt.rc_context({\"figure.figsize\":(7,2)}), sns.axes_style(\"ticks\"):\n",
    "    fig, (ax3, ax1, ax2) = plt.subplots(1, 3, sharey=True)\n",
    "    ax3.set_ylabel(\"$f_{\\widehat{\\Theta}_0}$\")\n",
    "\n",
    "    # RIGHT\n",
    "    title = '(a) right-tailed test'\n",
    "    ax3.set_title(title, fontsize=13)\n",
    "    sns.histplot(ts, ax=ax3, bins=bins, alpha=0.3)\n",
    "    ax3.set_xlim(-4, 4)\n",
    "    ax3.set_xticks([2])\n",
    "    ax3.set_xticklabels([])\n",
    "    ax3.set_yticks([])\n",
    "    # highlight the right tail\n",
    "    tailvalues3 = [t for t in ts if t >= 2]\n",
    "    sns.histplot(tailvalues3, bins=bins, ax=ax3, color=\"red\")\n",
    "    ax3.text(2, -300, \"$\\hat{\\\\theta}_{\\mathbf{x}}$\", verticalalignment=\"top\", horizontalalignment=\"center\")\n",
    "    \n",
    "    # LEFT\n",
    "    title = '(b) left-tailed test'\n",
    "    ax1.set_title(title, fontsize=13)\n",
    "    sns.histplot(ts, ax=ax1, bins=bins, alpha=0.3)\n",
    "    \n",
    "    ax1.set_xlim(-4, 4)\n",
    "    ax1.set_xticks([-2])\n",
    "    ax1.set_xticklabels([])\n",
    "    ax1.set_yticks([])\n",
    "    ax1.set_ylabel(\"\")\n",
    "    # highlight the left tail\n",
    "    tailvalues1 = tailvalues(ts, -2, alt=\"less\")\n",
    "    sns.histplot(tailvalues1, bins=bins, ax=ax1, color=\"red\")\n",
    "    ax1.text(-2, -300, r\"$\\hat{\\theta}_{\\mathbf{x}}$\", va=\"top\", ha=\"center\")\n",
    "\n",
    "    # TWO-TAILED\n",
    "    title = '(c) two-tailed test'\n",
    "    ax2.set_title(title, fontsize=13)\n",
    "    sns.histplot(ts, ax=ax2, bins=bins, alpha=0.3)\n",
    "    ax2.set_xlim(-4, 4)\n",
    "    ax2.set_xticks([-2,2])\n",
    "    ax2.set_xticklabels([])\n",
    "    ax2.set_yticks([])\n",
    "    # highlight the left and right tails\n",
    "    tailvalues2 = [t for t in ts if t <= -2 or t >= 2]\n",
    "    sns.histplot(tailvalues2, bins=bins, ax=ax2, color=\"red\")\n",
    "    ax2.text(-2, -300, r\"$-|\\hat{\\theta}_{\\mathbf{x}}|$\", verticalalignment=\"top\", horizontalalignment=\"center\")\n",
    "    ax2.text(2, -300, r\"$|\\hat{\\theta}_{\\mathbf{x}}|$\", verticalalignment=\"top\", horizontalalignment=\"center\")\n",
    "\n",
    "savefigure(fig, filename)"
   ]
  },
  {
   "cell_type": "code",
   "execution_count": null,
   "id": "bbf2cfce-61d6-4dd3-97d6-8f6fd60367f2",
   "metadata": {},
   "outputs": [],
   "source": []
  },
  {
   "cell_type": "code",
   "execution_count": null,
   "id": "feb2aeca-ab36-4c85-8f21-d7df97cf340b",
   "metadata": {},
   "outputs": [],
   "source": []
  },
  {
   "cell_type": "markdown",
   "id": "a24b8d70-62df-48dd-94ab-0c7eb4d585f6",
   "metadata": {},
   "source": [
    "## Test for the sample mean"
   ]
  },
  {
   "cell_type": "markdown",
   "id": "b7402830-149a-4d17-b2a9-1ec3530ee98c",
   "metadata": {},
   "source": [
    "### Example 1S: test for the mean of Batch 04\n",
    "\n",
    "$$\n",
    "    H_0: \\;\\; \\mu = \\mu_{K_0} = 1000,\n",
    "    \\qquad \\qquad\n",
    "    H_A: \\;\\; \\mu \\neq \\mu_{K_0}.\n",
    "$$\n",
    "\n",
    "In words,\n",
    "the null hypothesis describes a regular batch,\n",
    "where the mean of the batch is equal to the mean of the model $\\mu_{K_0}=1000$.\n",
    "\n",
    "Let's start by loading the sample $\\mathbf{k}_{04}$ from Batch 04 of the `kombucha` dataset."
   ]
  },
  {
   "cell_type": "code",
   "execution_count": 19,
   "id": "b6a336b6-2d90-4faa-9d8e-5d7d23cd637c",
   "metadata": {},
   "outputs": [],
   "source": [
    "kombucha = pd.read_csv(\"../datasets/kombucha.csv\")\n",
    "batch04 = kombucha[kombucha[\"batch\"]==4]\n",
    "ksample04 = batch04[\"volume\"]"
   ]
  },
  {
   "cell_type": "code",
   "execution_count": 20,
   "id": "1d8d4fad-a697-43b1-b457-a00e379555ff",
   "metadata": {},
   "outputs": [
    {
     "data": {
      "text/plain": [
       "40"
      ]
     },
     "execution_count": 20,
     "metadata": {},
     "output_type": "execute_result"
    }
   ],
   "source": [
    "len(ksample04)"
   ]
  },
  {
   "cell_type": "code",
   "execution_count": 21,
   "id": "cb31a6fe-bd41-4422-8b05-4960621e636a",
   "metadata": {},
   "outputs": [
    {
     "data": {
      "text/plain": [
       "1003.8335"
      ]
     },
     "execution_count": 21,
     "metadata": {},
     "output_type": "execute_result"
    }
   ],
   "source": [
    "# observed mean\n",
    "obsmean04 = mean(ksample04)\n",
    "obsmean04"
   ]
  },
  {
   "cell_type": "markdown",
   "id": "8b08d9e0-5790-43fa-be3e-b76d0f76cc3e",
   "metadata": {},
   "source": [
    "The mean volume calculated from the sample `ksample04` is $3.83$ ml higher than the expected mean $\\mu_{K_0} = 1000$ ml.\n",
    "Is this a big difference or not?\n",
    "How likely is such deviation to occur by chance under the null hypothesis?"
   ]
  },
  {
   "cell_type": "markdown",
   "id": "52f286e3-10fa-4fba-8aab-1b03d4acd8a1",
   "metadata": {},
   "source": [
    "#### Sampling distribution under the null hypothesis"
   ]
  },
  {
   "cell_type": "markdown",
   "id": "16cfb044-6ff2-420c-8a82-5176f3bfc15f",
   "metadata": {},
   "source": [
    "To answer the above question,\n",
    "we need to generate the sampling distribution of the mean\n",
    "for samples of size $n=40$ under the null hypothesis $H_0$.\n",
    "We can do this using the `gen_sampling_dist` function,\n",
    "by providing it the probability model `rvK0` $= K_0 \\sim \\mathcal{N}(\\mu_{K_0}=1000,\\sigma_{K_0}=10)$,\n",
    "which describes the variability of the kombucha volumes when the factory is operating correctly.\n",
    "\n",
    "We can now generate the sampling distribution of the mean using simulation."
   ]
  },
  {
   "cell_type": "code",
   "execution_count": 22,
   "id": "a614ef8f-16dd-4a0b-99b0-b2886f40056c",
   "metadata": {},
   "outputs": [],
   "source": [
    "from stats_helpers import gen_sampling_dist\n",
    "\n",
    "np.random.seed(42)\n",
    "kbars40 = gen_sampling_dist(rvK0, estfunc=mean, n=40)"
   ]
  },
  {
   "cell_type": "markdown",
   "id": "c0f7312a-17df-4bba-958d-217e0d098e8d",
   "metadata": {},
   "source": [
    "To calculate the $p$-value,\n",
    "we want to count how many values of sampling distribution `kbars40`\n",
    "are equal or more extreme than the observed value $\\overline{\\mathbf{k}}_{04} =$ `obsmean04` = 1003.8335."
   ]
  },
  {
   "cell_type": "code",
   "execution_count": 23,
   "id": "e2f4f979-5f4f-4598-ba17-1dec4740f7d2",
   "metadata": {},
   "outputs": [
    {
     "data": {
      "text/plain": [
       "0.015"
      ]
     },
     "execution_count": 23,
     "metadata": {},
     "output_type": "execute_result"
    }
   ],
   "source": [
    "tails = tailvalues(kbars40, obsmean04)\n",
    "pvalue04 = len(tails) / len(kbars40)\n",
    "pvalue04"
   ]
  },
  {
   "cell_type": "code",
   "execution_count": 24,
   "id": "14dfd97f-8f03-46c0-9c0d-522cbf17329d",
   "metadata": {},
   "outputs": [],
   "source": [
    "#######################################################\n",
    "# # ALT.\n",
    "# avg = mean(kbars40)\n",
    "# dev = abs(obsmean04 - avg)\n",
    "# tails = [v for v in kbars40 if abs(v-avg) > dev]\n",
    "# len(tails) / len(kbars40)"
   ]
  },
  {
   "cell_type": "markdown",
   "id": "8bb113d0-da8d-40bd-861b-2d8041cdab96",
   "metadata": {},
   "source": [
    "The $p$-value is the ratio of the number of observations in the tails,\n",
    "divided by the total number of simulated observations."
   ]
  },
  {
   "cell_type": "markdown",
   "id": "fea4f15b-2ce3-4b8a-93f6-0c496652c764",
   "metadata": {},
   "source": [
    "We can visualize the above calculation by plotting a histogram of sampling distribution $\\overline{\\mathbf{K}}_0$\n",
    "and highlighting the parts in the tails."
   ]
  },
  {
   "cell_type": "code",
   "execution_count": 25,
   "id": "6b4033b3-5fa9-4065-a0e4-22d5561a371d",
   "metadata": {},
   "outputs": [
    {
     "data": {
      "image/png": "[encoded data removed]",
      "text/plain": [
       "<Figure size 500x160 with 1 Axes>"
      ]
     },
     "metadata": {
      "image/png": {
       "height": 166,
       "width": 456
      }
     },
     "output_type": "display_data"
    }
   ],
   "source": [
    "# plot the sampling distribution as a histogram\n",
    "sns.histplot(kbars40, bins=100)\n",
    "\n",
    "# plot red line for the observed mean\n",
    "plt.axvline(obsmean04, color=\"red\")\n",
    "\n",
    "# plot the values that are equal or more extreme in red\n",
    "_ = sns.histplot(tails, bins=100, color=\"red\")"
   ]
  },
  {
   "cell_type": "code",
   "execution_count": 26,
   "id": "502c537f-a730-48db-90ae-1bd38f3c5790",
   "metadata": {},
   "outputs": [
    {
     "data": {
      "text/plain": [
       "996.1665"
      ]
     },
     "execution_count": 26,
     "metadata": {},
     "output_type": "execute_result"
    }
   ],
   "source": [
    "1000 - (obsmean04 - 1000)"
   ]
  },
  {
   "cell_type": "code",
   "execution_count": 27,
   "id": "13db457a-4cae-45a1-92ad-f11186e74bcb",
   "metadata": {},
   "outputs": [
    {
     "name": "stdout",
     "output_type": "stream",
     "text": [
      "Saved figure to figures/stats/intro_to_NHST/hist_p-value_kombucha_obsmean04.pdf\n",
      "Saved figure to figures/stats/intro_to_NHST/hist_p-value_kombucha_obsmean04.png\n"
     ]
    },
    {
     "data": {
      "image/png": "[encoded data removed]",
      "text/plain": [
       "<Figure size 500x160 with 1 Axes>"
      ]
     },
     "metadata": {
      "image/png": {
       "height": 150,
       "width": 492
      }
     },
     "output_type": "display_data"
    }
   ],
   "source": [
    "filename = os.path.join(DESTDIR, \"hist_p-value_kombucha_obsmean04.pdf\")\n",
    "\n",
    "# plot the sampling distribution as a histogram\n",
    "bins = nicebins(kbars40, obsmean04)\n",
    "ax = sns.histplot(kbars40, bins=bins, alpha=0.3)\n",
    "\n",
    "# plot red line for the observed statistic\n",
    "plt.axvline(obsmean04, color=\"red\")\n",
    "\n",
    "# plot the values that are equal or more extreme in red\n",
    "sns.histplot(tails, bins=bins, ax=ax, color=\"red\")\n",
    "# ax.set_ylabel(\"$f_{\\overline{\\mathbf{K}}_0}$\")\n",
    "\n",
    "savefigure(ax, filename)"
   ]
  },
  {
   "cell_type": "markdown",
   "id": "cca93f25-9b93-474a-9cc4-3818ffb7b464",
   "metadata": {},
   "source": [
    "We can now make the decision based on the $p$-value and a pre-determined threshold,\n",
    "which is conventionally chosen $\\alpha=0.05$ (1 in 20).\n",
    "The $p$-value is 0.015,\n",
    "which means $\\overline{\\mathbf{k}}_{04} = 1003.83$ has only a 1.5\\% chance of occurring under the null hypothesis.\n",
    "Since the observed value of the mean `obsmean04` = 1003.8335 is unlikely under $H_0$,\n",
    "our decision is to \"reject the null hypothesis.\""
   ]
  },
  {
   "cell_type": "markdown",
   "id": "9ac8b99d-2427-4901-8e21-15e3bcc871eb",
   "metadata": {},
   "source": [
    "Recall the math statement of the null hypothesis is $H_0: \\mu = \\mu_{K_0} = 1000$,\n",
    "which describes a batch whose mean is equal to the mean of the model $\\mu_{K_0}$.\n",
    "The conclusion to reject $H_0$ tells us the batch is irregular."
   ]
  },
  {
   "cell_type": "code",
   "execution_count": null,
   "id": "411e0885-4d90-4289-bc0b-4ea905c4f200",
   "metadata": {},
   "outputs": [],
   "source": []
  },
  {
   "cell_type": "markdown",
   "id": "120f35e6-77e2-4de1-8fb0-6e69e7dd7c81",
   "metadata": {},
   "source": [
    "#### Effect size estimates\n",
    "\n",
    "We were able to detect that batch differs from the expected distribution,\n",
    "but how big is the deviation?\n",
    "We can use the deviation from the expected mean as measure of the effect size $\\widehat{\\Delta} = \\overline{\\mathbf{k}} - \\mu_{K_0}$ in this situation."
   ]
  },
  {
   "cell_type": "code",
   "execution_count": 28,
   "id": "eda2567e-3179-46c4-8c83-b6ab6bacd44c",
   "metadata": {},
   "outputs": [
    {
     "data": {
      "text/plain": [
       "3.833499999999958"
      ]
     },
     "execution_count": 28,
     "metadata": {},
     "output_type": "execute_result"
    }
   ],
   "source": [
    "mean(ksample04) - muK0"
   ]
  },
  {
   "cell_type": "markdown",
   "id": "e15d98bb-15c4-4fe2-a5c7-17a7e0484ebe",
   "metadata": {},
   "source": [
    "The point estimate $\\widehat{\\Delta} = \\overline{\\mathbf{k}}_{04} - \\mu_{K_0} = 3.83$\n",
    "tells us how much the mean of the sample differs from the expected population mean $\\mu_{K_0}$,\n",
    "but doesn't tell us the uncertainty in this estimate."
   ]
  },
  {
   "cell_type": "markdown",
   "id": "04882539-b3d2-4735-a59a-e12ecf42686e",
   "metadata": {},
   "source": [
    "The bootstrap confidence interval for the effect size \n",
    "$\\ci{\\Delta,0.9}^*$ tells us a range of plausible values for the effect size.\n",
    "The function `ci_mean` that we defined earlier performs the exact same operation,\n",
    "when called with the argument `method=\"b\"`."
   ]
  },
  {
   "cell_type": "code",
   "execution_count": 29,
   "id": "223cd73c-1b2a-477b-b3ab-31e5df749b28",
   "metadata": {},
   "outputs": [
    {
     "data": {
      "text/plain": [
       "[1.7537499999999935, 5.802025000000007]"
      ]
     },
     "execution_count": 29,
     "metadata": {},
     "output_type": "execute_result"
    }
   ],
   "source": [
    "from stats_helpers import ci_mean\n",
    "\n",
    "np.random.seed(48)\n",
    "ci_mean(ksample04-muK0, alpha=0.1, method=\"b\")"
   ]
  },
  {
   "cell_type": "markdown",
   "id": "b1b0bb18-0bec-4bd1-aeff-331240ace721",
   "metadata": {},
   "source": [
    "The confidence interval $\\ci{\\Delta,0.9}^* = [1.75, 5.80]$ tells us the true discrepancy\n",
    "of Batch 04 from the expected mean can be anywhere from 1.75 to 5.8."
   ]
  },
  {
   "cell_type": "code",
   "execution_count": null,
   "id": "3545bf24-2aef-488e-9575-60bb3be2464c",
   "metadata": {},
   "outputs": [],
   "source": []
  },
  {
   "cell_type": "markdown",
   "id": "67590a1e-208b-4ead-a90b-115bdb35c69e",
   "metadata": {},
   "source": [
    "### Example 2S: test for the mean of Batch 01"
   ]
  },
  {
   "cell_type": "markdown",
   "id": "07a24a92-a6b2-4ef2-b23e-eb9ced7a0162",
   "metadata": {},
   "source": [
    "Let's repeat the procedure on the sample $\\mathbf{k}_{01}$ which comes from Batch 01."
   ]
  },
  {
   "cell_type": "code",
   "execution_count": 30,
   "id": "decc42e4-bee9-483a-a3f0-725bba2f0220",
   "metadata": {},
   "outputs": [
    {
     "data": {
      "text/plain": [
       "40"
      ]
     },
     "execution_count": 30,
     "metadata": {},
     "output_type": "execute_result"
    }
   ],
   "source": [
    "batch01 = kombucha[kombucha[\"batch\"]==1]\n",
    "ksample01 = batch01[\"volume\"]\n",
    "len(ksample01)"
   ]
  },
  {
   "cell_type": "code",
   "execution_count": 31,
   "id": "4cd1c39e-8264-43d7-9c37-678704534209",
   "metadata": {},
   "outputs": [
    {
     "data": {
      "text/plain": [
       "999.10375"
      ]
     },
     "execution_count": 31,
     "metadata": {},
     "output_type": "execute_result"
    }
   ],
   "source": [
    "obsmean01 = mean(ksample01)\n",
    "obsmean01"
   ]
  },
  {
   "cell_type": "code",
   "execution_count": 32,
   "id": "c27c1278-2748-4af5-962b-adf132e7e4c8",
   "metadata": {},
   "outputs": [
    {
     "data": {
      "text/plain": [
       "0.5708"
      ]
     },
     "execution_count": 32,
     "metadata": {},
     "output_type": "execute_result"
    }
   ],
   "source": [
    "np.random.seed(42)\n",
    "kbars40 = gen_sampling_dist(rvK0, estfunc=mean, n=40)\n",
    "tails = tailvalues(kbars40, obsmean01)\n",
    "pvalue01 = len(tails) / len(kbars40)\n",
    "pvalue01"
   ]
  },
  {
   "cell_type": "markdown",
   "id": "1ab880c5-44b5-4edf-af2e-c666b46c9dac",
   "metadata": {},
   "source": [
    "The large $p$-value tells us that the observed mean $\\overline{\\mathbf{k}}_{01} = 999.10$ is not unlikely under $H_0$.\n",
    "Using the terminology of hypothesis testing,\n",
    "we say the outcome of the hypothesis test is that we *failed to reject* $H_0: \\mu = \\mu_{K_0}$.\n",
    "We have not seen any evidence that suggests that the mean of the population from\n",
    "which sample `ksample01` was taken differs from the mean of the theoretical model $K_0$.\n",
    "\n",
    "Ship it!"
   ]
  },
  {
   "cell_type": "code",
   "execution_count": 33,
   "id": "b91a7201-25e1-4773-9be3-cf7ce39062ab",
   "metadata": {},
   "outputs": [
    {
     "name": "stdout",
     "output_type": "stream",
     "text": [
      "Saved figure to figures/stats/intro_to_NHST/hist_p-value_kombucha_obsmean01.pdf\n",
      "Saved figure to figures/stats/intro_to_NHST/hist_p-value_kombucha_obsmean01.png\n"
     ]
    },
    {
     "data": {
      "image/png": "[encoded data removed]",
      "text/plain": [
       "<Figure size 500x160 with 1 Axes>"
      ]
     },
     "metadata": {
      "image/png": {
       "height": 150,
       "width": 489
      }
     },
     "output_type": "display_data"
    }
   ],
   "source": [
    "filename = os.path.join(DESTDIR, \"hist_p-value_kombucha_obsmean01.pdf\")\n",
    "\n",
    "# plot the sampling distribution as a histogram\n",
    "bins = nicebins(kbars40, obsmean01)\n",
    "ax = sns.histplot(kbars40, bins=bins)\n",
    "\n",
    "# plot red line for the observed statistic\n",
    "plt.axvline(obsmean01, color=\"red\")\n",
    "\n",
    "# plot the values that are equal or more extreme in red\n",
    "sns.histplot(tails, bins=bins, ax=ax, color=\"red\")\n",
    "ax.set_ylabel(\"$f_{\\overline{\\mathbf{K}}_0}$\")\n",
    "\n",
    "savefigure(ax, filename)"
   ]
  },
  {
   "cell_type": "code",
   "execution_count": null,
   "id": "f5b8b749-78a6-4fa7-bed9-a6d916a6d820",
   "metadata": {},
   "outputs": [],
   "source": []
  },
  {
   "cell_type": "code",
   "execution_count": null,
   "id": "67ed1377-7df1-4002-b396-c88380259c74",
   "metadata": {},
   "outputs": [],
   "source": []
  },
  {
   "cell_type": "markdown",
   "id": "1da54140-32f2-4146-8e56-7d4e51c51013",
   "metadata": {},
   "source": [
    "### Reusable test function\n",
    "\n",
    "Let's write a reusable function for performing the simulation test for the mean."
   ]
  },
  {
   "cell_type": "code",
   "execution_count": 34,
   "id": "7945d68d-3d69-46f7-9bb8-d77ed26b1d1c",
   "metadata": {},
   "outputs": [],
   "source": [
    "#######################################################\n",
    "\n",
    "def simulation_test_mean(sample, mu0, sigma0, N=10000):\n",
    "    \"\"\"\n",
    "    Compute the p-value of the observed mean of `sample`\n",
    "    under H0 of a normal distribution `norm(mu0,sigma0)`.\n",
    "    \"\"\"\n",
    "    # Compute the observed value of the mean\n",
    "    obsmean = mean(sample)\n",
    "    n = len(sample)\n",
    "\n",
    "    # Sampling distribution of the mean under H0\n",
    "    rvXH0 = norm(mu0, sigma0)\n",
    "    xbars = gen_sampling_dist(rvXH0, estfunc=mean, n=n)\n",
    "\n",
    "    # Compute the p-value\n",
    "    tails = tailvalues(xbars, obsmean)\n",
    "    pvalue = len(tails) / len(xbars)\n",
    "    return pvalue"
   ]
  },
  {
   "cell_type": "code",
   "execution_count": 35,
   "id": "2633b2d8-beee-487e-bf6d-8cb0686fecae",
   "metadata": {},
   "outputs": [
    {
     "data": {
      "text/plain": [
       "0.015"
      ]
     },
     "execution_count": 35,
     "metadata": {},
     "output_type": "execute_result"
    }
   ],
   "source": [
    "## TEST 1 (Do we get the same answer for Batch 04?)\n",
    "np.random.seed(42)\n",
    "simulation_test_mean(ksample04, mu0=muK0, sigma0=sigmaK0)"
   ]
  },
  {
   "cell_type": "code",
   "execution_count": 36,
   "id": "d67fc6e1-9801-459a-81fe-eb23fa5dcd85",
   "metadata": {},
   "outputs": [
    {
     "data": {
      "text/plain": [
       "0.5708"
      ]
     },
     "execution_count": 36,
     "metadata": {},
     "output_type": "execute_result"
    }
   ],
   "source": [
    "## TEST 2 (Do we get the same answer for Batch 01?)\n",
    "np.random.seed(42)\n",
    "simulation_test_mean(ksample01, mu0=muK0, sigma0=sigmaK0)"
   ]
  },
  {
   "cell_type": "markdown",
   "id": "0d1b73e6-bd5e-4346-9644-7e4a1a9c0acd",
   "metadata": {},
   "source": [
    "We have confirmed the function `simulation_test_mean` works as expected.\n",
    "We've added it to `stats_helpers` module so we can reuse it later."
   ]
  },
  {
   "cell_type": "code",
   "execution_count": null,
   "id": "91dc6cc1-da53-4b40-97ac-90e9a14fcae3",
   "metadata": {},
   "outputs": [],
   "source": []
  },
  {
   "cell_type": "markdown",
   "id": "cbfa6815-6e38-4d46-b100-da837f89a94e",
   "metadata": {},
   "source": [
    "## Test for the sample variance"
   ]
  },
  {
   "cell_type": "markdown",
   "id": "713e0ed9-5d65-4baf-8fc9-14986069ac72",
   "metadata": {},
   "source": [
    "### Example 3S: test for the variance of Batch 02"
   ]
  },
  {
   "cell_type": "markdown",
   "id": "29ebdb87-7d6e-4af6-98ec-0b00e5d84149",
   "metadata": {},
   "source": [
    "Let's assume the sample of volume measurements $\\mathbf{k}_{02}$ from the Batch 02 of the kombucha bottling plant comes from a population with unknown variance $\\sigma^2$,\n",
    "which we can estimate by computing the sample variance $s^2_{\\mathbf{k}_{02}}$.\n",
    "\n",
    "We want to check whether Batch 02 is a \"regular\" or \"irregular\" by comparing the variance in the volumes\n",
    "of this batch $\\sigma^2$ to the variance of the theoretical model $\\sigma_{K_0}^2= 100$.\n",
    "Specifically,\n",
    "we're interested in detecting the case when the variance is higher than expected:\n",
    "\n",
    "$$\n",
    "    H_0: \\;\\; \\sigma^2 \\leq \\sigma_{K_0}^2,\n",
    "    \\qquad \\qquad\n",
    "    H_A: \\;\\; \\sigma^2 > \\sigma_{K_0}^2.\n",
    "$$\n",
    "\n",
    "Note the alternative hypothesis uses the \"greater than\" inequality,\n",
    "since we don't mind batches with low variance."
   ]
  },
  {
   "cell_type": "code",
   "execution_count": 37,
   "id": "788f27e2-3fe3-4346-801b-ba7da7f120a8",
   "metadata": {},
   "outputs": [
    {
     "data": {
      "text/plain": [
       "20"
      ]
     },
     "execution_count": 37,
     "metadata": {},
     "output_type": "execute_result"
    }
   ],
   "source": [
    "kombucha = pd.read_csv(\"../datasets/kombucha.csv\")\n",
    "batch02 = kombucha[kombucha[\"batch\"]==2]\n",
    "ksample02 = batch02[\"volume\"]\n",
    "len(ksample02)"
   ]
  },
  {
   "cell_type": "code",
   "execution_count": 38,
   "id": "a61cba97-8823-40a4-ae71-9de95ca1f27c",
   "metadata": {},
   "outputs": [
    {
     "data": {
      "text/plain": [
       "124.31760105263136"
      ]
     },
     "execution_count": 38,
     "metadata": {},
     "output_type": "execute_result"
    }
   ],
   "source": [
    "obsvar02 = var(ksample02)\n",
    "obsvar02"
   ]
  },
  {
   "cell_type": "code",
   "execution_count": 39,
   "id": "8b241f45-8b7c-44ca-b089-1a412eff194a",
   "metadata": {},
   "outputs": [
    {
     "data": {
      "text/plain": [
       "0.2132"
      ]
     },
     "execution_count": 39,
     "metadata": {},
     "output_type": "execute_result"
    }
   ],
   "source": [
    "np.random.seed(42)\n",
    "kvars20 = gen_sampling_dist(rvK0, estfunc=var, n=20)\n",
    "tails = tailvalues(kvars20, obsvar02, alt=\"greater\")\n",
    "pvalue02 = len(tails) / len(kvars20)\n",
    "pvalue02"
   ]
  },
  {
   "cell_type": "markdown",
   "id": "ff47461d-fb9b-470f-8b8a-103f0a74311e",
   "metadata": {},
   "source": [
    "The $p$-value is greater than the cutoff value $\\alpha = 0.05$,\n",
    "so our decision is \"fail to reject $H_0$.\""
   ]
  },
  {
   "cell_type": "code",
   "execution_count": 40,
   "id": "f66fa565-7677-438a-b2df-9e0bd640c791",
   "metadata": {},
   "outputs": [
    {
     "name": "stdout",
     "output_type": "stream",
     "text": [
      "Saved figure to figures/stats/intro_to_NHST/hist_p-value_kombucha_obsvar02.pdf\n",
      "Saved figure to figures/stats/intro_to_NHST/hist_p-value_kombucha_obsvar02.png\n"
     ]
    },
    {
     "data": {
      "image/png": "[encoded data removed]",
      "text/plain": [
       "<Figure size 500x160 with 1 Axes>"
      ]
     },
     "metadata": {
      "image/png": {
       "height": 150,
       "width": 489
      }
     },
     "output_type": "display_data"
    }
   ],
   "source": [
    "filename = os.path.join(DESTDIR, \"hist_p-value_kombucha_obsvar02.pdf\")\n",
    "\n",
    "# plot the sampling distribution as a histogram\n",
    "bins = nicebins(kvars20, obsvar02)\n",
    "ax = sns.histplot(kvars20, bins=bins)\n",
    "\n",
    "# plot red line for the observed statistic\n",
    "plt.axvline(obsvar02, color=\"red\")\n",
    "\n",
    "# plot the values that are equal or more extreme in red\n",
    "sns.histplot(tails, bins=bins, ax=ax, color=\"red\")\n",
    "ax.set_ylabel(\"$f_{S^2_{\\mathbf{K}_0}}$\")\n",
    "\n",
    "savefigure(ax, filename)"
   ]
  },
  {
   "cell_type": "code",
   "execution_count": null,
   "id": "b3e6efd2-7d52-4b6e-ad59-82e715136bf0",
   "metadata": {},
   "outputs": [],
   "source": []
  },
  {
   "cell_type": "markdown",
   "id": "8291b4e8-1c85-4a47-86fd-08c83e46c27f",
   "metadata": {},
   "source": [
    "### Example 4S: test for the variance of Batch 08"
   ]
  },
  {
   "cell_type": "code",
   "execution_count": 41,
   "id": "275373b3-45c4-4a9a-8dc8-706027f30b00",
   "metadata": {},
   "outputs": [
    {
     "data": {
      "text/plain": [
       "40"
      ]
     },
     "execution_count": 41,
     "metadata": {},
     "output_type": "execute_result"
    }
   ],
   "source": [
    "kombucha = pd.read_csv(\"../datasets/kombucha.csv\")\n",
    "batch08 = kombucha[kombucha[\"batch\"]==8]\n",
    "ksample08 = batch08[\"volume\"]\n",
    "len(ksample08)"
   ]
  },
  {
   "cell_type": "code",
   "execution_count": 42,
   "id": "02c5c91b-b2c9-4cf0-bda1-ed9e6b90aba2",
   "metadata": {},
   "outputs": [
    {
     "data": {
      "text/plain": [
       "169.9979220512824"
      ]
     },
     "execution_count": 42,
     "metadata": {},
     "output_type": "execute_result"
    }
   ],
   "source": [
    "obsvar08 = var(ksample08)\n",
    "obsvar08"
   ]
  },
  {
   "cell_type": "markdown",
   "id": "68cf90cd-59f0-42a6-a1a1-aa68455b2e90",
   "metadata": {},
   "source": [
    "#### Sampling distribution under the null hypothesis\n",
    "\n",
    "We'll now generate the sampling distribution of the variance for sample of size $n=40$."
   ]
  },
  {
   "cell_type": "code",
   "execution_count": 43,
   "id": "f05cd841-0fc6-499f-a5a2-b7ce46f6ac8c",
   "metadata": {},
   "outputs": [
    {
     "data": {
      "text/plain": [
       "0.0041"
      ]
     },
     "execution_count": 43,
     "metadata": {},
     "output_type": "execute_result"
    }
   ],
   "source": [
    "np.random.seed(43)\n",
    "kvars40 = gen_sampling_dist(rvK0, estfunc=var, n=40)\n",
    "tails = tailvalues(kvars40, obsvar08, alt=\"greater\")\n",
    "pvalue08 = len(tails) / len(kvars40)\n",
    "pvalue08"
   ]
  },
  {
   "cell_type": "markdown",
   "id": "492c2af0-4273-4df9-bcee-1bd383e2c0f1",
   "metadata": {},
   "source": [
    "The $p$-value is very small,\n",
    "so our decision is to reject $H_0$."
   ]
  },
  {
   "cell_type": "code",
   "execution_count": 44,
   "id": "6a0dff5d-5bc8-433c-9fb7-60cb0bb2a092",
   "metadata": {},
   "outputs": [
    {
     "name": "stdout",
     "output_type": "stream",
     "text": [
      "Saved figure to figures/stats/intro_to_NHST/hist_p-value_kombucha_obsvar08.pdf\n",
      "Saved figure to figures/stats/intro_to_NHST/hist_p-value_kombucha_obsvar08.png\n"
     ]
    },
    {
     "data": {
      "image/png": "[encoded data removed]",
      "text/plain": [
       "<Figure size 500x160 with 1 Axes>"
      ]
     },
     "metadata": {
      "image/png": {
       "height": 150,
       "width": 488
      }
     },
     "output_type": "display_data"
    }
   ],
   "source": [
    "filename = os.path.join(DESTDIR, \"hist_p-value_kombucha_obsvar08.pdf\")\n",
    "\n",
    "# plot the sampling distribution as a histogram\n",
    "bins = nicebins(kvars40, obsvar08)\n",
    "ax = sns.histplot(kvars40, bins=bins)\n",
    "\n",
    "# plot red line for the observed statistic\n",
    "plt.axvline(obsvar08, color=\"red\")\n",
    "\n",
    "# plot the values that are equal or more extreme in red\n",
    "sns.histplot(tails, bins=bins, ax=ax, color=\"red\")\n",
    "ax.set_ylabel(\"$f_{S^2_{\\mathbf{K}_0}}$\")\n",
    "\n",
    "savefigure(ax, filename)"
   ]
  },
  {
   "cell_type": "code",
   "execution_count": null,
   "id": "a16a3b64-c281-4132-8d2a-26d35963fa2a",
   "metadata": {},
   "outputs": [],
   "source": []
  },
  {
   "cell_type": "markdown",
   "id": "0ac922ac-a446-4ffc-a068-6a4238b0380c",
   "metadata": {},
   "source": [
    "#### Effect size estimates\n",
    "\n",
    "We found the variance in the volumes in this batch is higher than the expected variance.\n",
    "Now let's estimate the effect size $\\widehat{\\Delta} = s^2_{\\mathbf{k}_{08}} - \\sigma_{K_0}^2$."
   ]
  },
  {
   "cell_type": "code",
   "execution_count": 45,
   "id": "e80a1bd8-fc2a-48e1-b01c-1debc0c74394",
   "metadata": {},
   "outputs": [
    {
     "data": {
      "text/plain": [
       "69.99792205128239"
      ]
     },
     "execution_count": 45,
     "metadata": {},
     "output_type": "execute_result"
    }
   ],
   "source": [
    "var(ksample08) - sigmaK0**2"
   ]
  },
  {
   "cell_type": "markdown",
   "id": "91ef22d1-a631-43ab-b978-0348b58aa1c9",
   "metadata": {},
   "source": [
    "The bootstrap confidence interval for the effect size \n",
    "$\\ci{\\Delta,0.9}^*$ tells us a range of plausible values for the effect size."
   ]
  },
  {
   "cell_type": "code",
   "execution_count": 46,
   "id": "c3f11404-1687-4766-ba01-ffa19ea8d9c4",
   "metadata": {},
   "outputs": [
    {
     "data": {
      "text/plain": [
       "[17.37369362820536, 117.98659930448775]"
      ]
     },
     "execution_count": 46,
     "metadata": {},
     "output_type": "execute_result"
    }
   ],
   "source": [
    "from stats_helpers import gen_boot_dist\n",
    "\n",
    "np.random.seed(48)\n",
    "kvars40_boot = gen_boot_dist(ksample08, estfunc=var)\n",
    "D_boot = np.subtract(kvars40_boot, sigmaK0**2)\n",
    "[np.percentile(D_boot, 5),\n",
    " np.percentile(D_boot, 95)]"
   ]
  },
  {
   "cell_type": "markdown",
   "id": "f0095986-ce74-46a5-851d-fac06e49e3bc",
   "metadata": {},
   "source": [
    "The interval $\\ci{\\Delta,0.9}^* = [17, 118]$ tells us the difference\n",
    "in the variance of Batch 08 from the expected variance is somewhere between 17 and 118."
   ]
  },
  {
   "cell_type": "code",
   "execution_count": null,
   "id": "afac7ac8-acb7-4331-afb1-c0492f6e95cc",
   "metadata": {},
   "outputs": [],
   "source": []
  },
  {
   "cell_type": "markdown",
   "id": "bccfab20-e242-40e4-8537-d79793d41350",
   "metadata": {},
   "source": [
    "### Generic simulation test function"
   ]
  },
  {
   "cell_type": "code",
   "execution_count": 47,
   "id": "41427387-6ec8-4d9a-b939-c4667e52d0b8",
   "metadata": {},
   "outputs": [],
   "source": [
    "#######################################################\n",
    "\n",
    "def simulation_test_var(sample, mu0, sigma0, alt=\"greater\"):\n",
    "    \"\"\"\n",
    "    Compute the p-value of the observed variance of `sample`\n",
    "    under H0 of a normal distribution `norm(mu0,sigma0)`.\n",
    "    \"\"\"\n",
    "    # 1. Compute the sample variance\n",
    "    obsvar = var(sample)\n",
    "    n = len(sample)\n",
    "\n",
    "    # 2. Get sampling distribution of variance under H0\n",
    "    rvXH0 = norm(mu0, sigma0)\n",
    "    xvars = gen_sampling_dist(rvXH0, estfunc=var, n=n)\n",
    "\n",
    "    # 3. Compute the p-value\n",
    "    tails = tailvalues(xvars, obsvar, alt=alt)\n",
    "    pvalue = len(tails) / len(xvars)\n",
    "    return pvalue"
   ]
  },
  {
   "cell_type": "code",
   "execution_count": 48,
   "id": "a2fb1041-6191-452e-acd6-7da04c510e6d",
   "metadata": {},
   "outputs": [
    {
     "data": {
      "text/plain": [
       "0.2132"
      ]
     },
     "execution_count": 48,
     "metadata": {},
     "output_type": "execute_result"
    }
   ],
   "source": [
    "# reproduce the results from Example 3\n",
    "np.random.seed(42)\n",
    "simulation_test_var(ksample02, muK0, sigmaK0, alt=\"greater\")"
   ]
  },
  {
   "cell_type": "code",
   "execution_count": 49,
   "id": "55ab6f0c-87b4-4a12-9a34-a96e58e96b8e",
   "metadata": {},
   "outputs": [
    {
     "data": {
      "text/plain": [
       "0.0041"
      ]
     },
     "execution_count": 49,
     "metadata": {},
     "output_type": "execute_result"
    }
   ],
   "source": [
    "# reproduce the results from Example 4\n",
    "np.random.seed(43)\n",
    "simulation_test_var(ksample08, muK0, sigmaK0, alt=\"greater\")"
   ]
  },
  {
   "cell_type": "markdown",
   "id": "b3c9ed9b-258b-46de-bf71-d680ec418530",
   "metadata": {},
   "source": [
    "We confirm the function `simulation_test_var` gives the same $p$-values as the two samples\n",
    "we calculated manually above,\n",
    "so we can be confident it is working as expected."
   ]
  },
  {
   "cell_type": "code",
   "execution_count": null,
   "id": "b0e9a8c4-23d0-408b-ab03-f6dc8bd3b1b8",
   "metadata": {},
   "outputs": [],
   "source": []
  },
  {
   "cell_type": "markdown",
   "id": "c3ae63a1-d099-4957-9e1b-338cc1f6c8b2",
   "metadata": {},
   "source": [
    "## Explanations"
   ]
  },
  {
   "cell_type": "markdown",
   "id": "1379423f-4ef2-4389-a96f-98824c5287fa",
   "metadata": {},
   "source": [
    "### Summary of the hypothesis testing procedure"
   ]
  },
  {
   "cell_type": "markdown",
   "id": "ea8da098-00f0-4e13-b6df-07bc7a756299",
   "metadata": {},
   "source": [
    "### Statistical modelling and assumptions"
   ]
  },
  {
   "cell_type": "markdown",
   "id": "48cd9ec7-fed0-4858-a6d5-b6e6cc211aaf",
   "metadata": {},
   "source": [
    "### Two different probability models"
   ]
  },
  {
   "cell_type": "markdown",
   "id": "989ce7b7-68eb-4f14-b525-504e26541211",
   "metadata": {},
   "source": [
    "### One-sided and two-sided tests"
   ]
  },
  {
   "cell_type": "markdown",
   "id": "667045ae-d522-4738-9151-afdf1b55071f",
   "metadata": {},
   "source": [
    "### Court trial analogy"
   ]
  },
  {
   "cell_type": "code",
   "execution_count": null,
   "id": "f3c05792-d65c-401e-990e-1cb89d04f9f6",
   "metadata": {},
   "outputs": [],
   "source": []
  },
  {
   "cell_type": "code",
   "execution_count": null,
   "id": "819db8ba-052f-4a70-987a-23472cf90021",
   "metadata": {},
   "outputs": [],
   "source": []
  },
  {
   "cell_type": "markdown",
   "id": "3b92ec2a-4f3b-4abd-ac84-2553642cfc7d",
   "metadata": {},
   "source": [
    "## Discussion"
   ]
  },
  {
   "cell_type": "markdown",
   "id": "20f8104c-fd07-465e-94c8-0399838f9d90",
   "metadata": {},
   "source": [
    "### Hypothesis testing decision rule"
   ]
  },
  {
   "cell_type": "code",
   "execution_count": 50,
   "id": "3b4a3d7d-2b6a-4ef6-ad60-1c10ae395aff",
   "metadata": {},
   "outputs": [],
   "source": [
    "##########a#############################################\n",
    "def getdecision(pvalue, alpha=0.05):\n",
    "    \"\"\"\n",
    "    Check if `pvalue` is less than or equal to `alpha`.\n",
    "    \"\"\"\n",
    "    if pvalue < alpha:\n",
    "        # The observed statistics is unlikely to have\n",
    "        # occurred under the null hypothesis\n",
    "        print(\"reject H0\")\n",
    "    else:\n",
    "        # The observed statistics could have occurred\n",
    "        # under the null hypothesis\n",
    "        print(\"retain H0\")"
   ]
  },
  {
   "cell_type": "markdown",
   "id": "cdbb8cbc-2b1c-4733-8cdf-1105f89f358e",
   "metadata": {},
   "source": [
    "^ The above can be used as a lead-in to introduce the p-value problems..."
   ]
  },
  {
   "cell_type": "markdown",
   "id": "be5a788a-b31a-4dcc-b463-5323f0a43364",
   "metadata": {},
   "source": [
    "### Standardized effect size\n",
    "\n",
    "It is sometimes useful to report the effect size using a \"standardized\" measure for effect sizes.\n",
    "Cohen's $d$ is one such measure, and it is defined as the difference between the observed mean and an expected mean divided by the sample standard deviation."
   ]
  },
  {
   "cell_type": "code",
   "execution_count": 51,
   "id": "0542ba2b-29f6-4a38-aeb1-347f161613a8",
   "metadata": {},
   "outputs": [],
   "source": [
    "def cohend(sample, mu0):\n",
    "    \"\"\"\n",
    "    Cohen's d for one group compared to the theoretical mean `mu0`.\n",
    "    \"\"\"\n",
    "    obsmean = mean(sample)\n",
    "    obsstd = std(sample)\n",
    "    cohend = (obsmean - mu0) / obsstd\n",
    "    return cohend"
   ]
  },
  {
   "cell_type": "markdown",
   "id": "3e208cee-3ef3-42fd-be9c-b819d240794a",
   "metadata": {},
   "source": [
    "We can interpret the value of Cohen's $d$ obtained using this [table of reference values](https://en.wikipedia.org/wiki/Effect_size#Cohen's_d):\n",
    "\n",
    "| Cohen's d   | Effect size |\n",
    "| ----------- | ----------- |\n",
    "| 0.01        | very small  |\n",
    "| 0.20        | small       |\n",
    "| 0.50        | medium      |\n",
    "| 0.80        | large       |\n"
   ]
  },
  {
   "cell_type": "markdown",
   "id": "7ece1ad5-dd99-4779-85b1-6b8e2f84e167",
   "metadata": {},
   "source": [
    "Effect size for mean deviation of kombucha Batch 04 from expected value $\\mu_{K_0}=1000$."
   ]
  },
  {
   "cell_type": "code",
   "execution_count": 52,
   "id": "82a7b837-4c9e-4532-8a8c-178bc6c4d549",
   "metadata": {},
   "outputs": [
    {
     "data": {
      "text/plain": [
       "0.4882087345321637"
      ]
     },
     "execution_count": 52,
     "metadata": {},
     "output_type": "execute_result"
    }
   ],
   "source": [
    "cohend(ksample04, mu0=1000)"
   ]
  },
  {
   "cell_type": "code",
   "execution_count": null,
   "id": "67f814b9-4c49-4c3b-8d8a-3d48fd6a9a3e",
   "metadata": {},
   "outputs": [],
   "source": []
  },
  {
   "cell_type": "markdown",
   "id": "6c26d960-822a-42a9-8c6b-8dc91a9586e7",
   "metadata": {},
   "source": [
    "## Exercises"
   ]
  },
  {
   "cell_type": "code",
   "execution_count": 53,
   "id": "473e6df7-023a-4b35-85a7-7a1a1a4e5dda",
   "metadata": {},
   "outputs": [],
   "source": [
    "# TODO"
   ]
  },
  {
   "cell_type": "markdown",
   "id": "efd39602-5e0b-4640-8d80-fe0a4753a3d0",
   "metadata": {},
   "source": [
    "## Links\n",
    "\n",
    "* [The Introductory Statistics Course: A Ptolemaic Curriculum](https://minireference.com/blog/wp-content/uploads/2021/03/TheIntroductoryStatisticsCourse__Cobb.pdf) by George W. Cobb\n",
    "* [What Teachers Should Know About the Bootstrap: Resampling in the Undergraduate Statistics Curriculum](https://www.tandfonline.com/doi/full/10.1080/00031305.2015.1089789) by Tim C. Hesterberg  \n",
    "* \\[BOOK\\] [Think Stats 2e](https://greenteapress.com/wp/think-stats-2e/) by Allen B. Downey  \n",
    "* \\[VIDEO\\] [There's Only One Test](https://www.youtube.com/watch?v=S41zQEshs5k) by Allen B. Downey\n",
    "* \\[TALK\\] [Statistics for Hackers](https://www.youtube.com/watch?v=Iq9DzN6mvYA) by Jake Vanderplas"
   ]
  }
 ],
 "metadata": {
  "kernelspec": {
   "display_name": "Python 3 (ipykernel)",
   "language": "python",
   "name": "python3"
  },
  "language_info": {
   "codemirror_mode": {
    "name": "ipython",
    "version": 3
   },
   "file_extension": ".py",
   "mimetype": "text/x-python",
   "name": "python",
   "nbconvert_exporter": "python",
   "pygments_lexer": "ipython3",
   "version": "3.9.4"
  },
  "toc-autonumbering": true
 },
 "nbformat": 4,
 "nbformat_minor": 5
}
