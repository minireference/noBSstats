{
 "cells": [
  {
   "cell_type": "markdown",
   "id": "b73f3d18-88c7-499d-90a3-dd6954247cf3",
   "metadata": {
    "tags": []
   },
   "source": [
    "# Section 3.3 — Introduction to hypothesis testing\n",
    "\n",
    "This notebook contains the code examples from [Section 3.3 Introduction to hypothesis testing]() of the **No Bullshit Guide to Statistics**."
   ]
  },
  {
   "cell_type": "markdown",
   "id": "efce8e91-8824-4103-a526-02e23c794668",
   "metadata": {
    "tags": []
   },
   "source": [
    "#### Notebook setup"
   ]
  },
  {
   "cell_type": "code",
   "execution_count": 1,
   "id": "990de07d-c26f-4a29-935a-2b1dacc89b34",
   "metadata": {},
   "outputs": [],
   "source": [
    "# load Python modules\n",
    "import os\n",
    "import numpy as np\n",
    "import pandas as pd\n",
    "import seaborn as sns\n",
    "import matplotlib.pyplot as plt"
   ]
  },
  {
   "cell_type": "code",
   "execution_count": 2,
   "id": "2ae5e519-3e7b-4218-aebd-bbb7790783cd",
   "metadata": {},
   "outputs": [],
   "source": [
    "# Plot helper functions\n",
    "from plot_helpers import plot_pdf\n",
    "from plot_helpers import savefigure"
   ]
  },
  {
   "cell_type": "code",
   "execution_count": 3,
   "id": "3209c5be-cb6a-42c0-8bf8-949a4fc0ff39",
   "metadata": {},
   "outputs": [],
   "source": [
    "# Figures setup\n",
    "sns.set_theme(\n",
    "    context=\"paper\",\n",
    "    style=\"whitegrid\",\n",
    "    palette=\"colorblind\",\n",
    "    rc={'figure.figsize': (7,4)},\n",
    ")\n",
    "blue, orange  = sns.color_palette()[0], sns.color_palette()[1]\n",
    "red = sns.color_palette(\"tab10\")[3]\n",
    "DESTDIR = \"figures/stats/NHST\"\n",
    "\n",
    "%config InlineBackend.figure_format = 'retina'"
   ]
  },
  {
   "cell_type": "code",
   "execution_count": 4,
   "id": "df22d8d7-6814-4c3b-a3d3-2f31ab6b2f3b",
   "metadata": {},
   "outputs": [],
   "source": [
    "# set random seed for repeatability\n",
    "np.random.seed(42)"
   ]
  },
  {
   "cell_type": "code",
   "execution_count": null,
   "id": "ad416305-607b-48ca-9036-afc85ac05ff9",
   "metadata": {},
   "outputs": [],
   "source": []
  },
  {
   "cell_type": "markdown",
   "id": "a5ae790e-e7e5-4880-8c6f-72c101319403",
   "metadata": {},
   "source": [
    "## What is hypothesis testing?\n",
    "\n",
    "- An approach to formulating research questions as **yes-no decisions** and a **procedure for making these decisions**\n",
    "- Hypothesis testing is a standardized procedure for doing statistical analysis  \n",
    "  (also, using stats jargon makes everything look more convincing ;)\n",
    "- We formulate research question as two **competing hypotheses**:\n",
    "  - **Null hypothesis $H_0$** = no effect.  \n",
    "    In our example: \"no difference between means,\" which can be written as $\\color{red}{\\mu_S = \\mu_{NS} = \\mu_0}$,\n",
    "    means the probability models for the two groups have the same mean $\\mu_0$:\n",
    "    $$ \n",
    "       H_0: \\qquad X_S = \\mathcal{N}(\\color{red}{\\mu_0}, \\sigma_S)\n",
    "       \\quad \\textrm{and} \\quad\n",
    "       X_{NS} = \\mathcal{N}(\\color{red}{\\mu_0}, \\sigma_{NS}) \\quad\n",
    "    $$\n",
    "  - **Alternative hypothesis $H_A$** = an effect exists.\n",
    "    In our example: \"the means for Group S is different from the mean of Group NS\"\n",
    "    can be written as $\\color{blue}{\\mu_S} \\neq \\color{orange}{\\mu_{NS}}$.\n",
    "    The probability models for the two groups with different means are:\n",
    "    $$ \n",
    "       H_A: \\qquad X_S = \\mathcal{N}(\\color{blue}{\\mu_S}, \\sigma_S)\n",
    "       \\quad \\textrm{and} \\quad\n",
    "       X_{NS} = \\mathcal{N}(\\color{orange}{\\mu_{NS}}, \\sigma_{NS})\n",
    "    $$\n",
    "- The purpose of hypothesis testing is to perform a basic sanity-check to show the difference between the group means\n",
    "  we observed ($d = \\overline{\\mathbf{x}}_{S} - \\overline{\\mathbf{x}}_{NS} = 130$) is **unlikely to have occurred by chance**.\n",
    "- NEW CONCEPT: the $p$-value is the probability of observing $d=130$ (or more extreme) under the null hypothesis."
   ]
  },
  {
   "cell_type": "code",
   "execution_count": null,
   "id": "0d488111-c67c-444f-bcf6-eff0a903dc7e",
   "metadata": {},
   "outputs": [],
   "source": []
  },
  {
   "cell_type": "markdown",
   "id": "49f23003-1675-4d17-8b47-8d4a3095dccf",
   "metadata": {},
   "source": [
    "### Overview of the hypothesis testing procedure\n",
    "\n",
    "Here is the high-level overview of the hypothesis testing procedure:\n",
    "- **inputs**: sample statistics computed from the observed data\n",
    "  (in our case the signal $\\overline{\\mathbf{x}}_S$, $\\overline{\\mathbf{x}}_{NS}$,\n",
    "   and our estimates of the noise $s^2_S$, and $s^2_{NS}$)\n",
    "- **outputs**: a decision that is one of: \"reject the null hypothesis\" or \"fail to reject the null hypothesis\"\n",
    "\n",
    "![hypothesis testing overview](./attachments/stats/hypothesis_testing_perm_test.png)\n",
    "\n",
    "\n",
    "We'll now look at two different approaches for computing the sampling distribution of\n",
    "the difference between group means statistic, $D = \\overline{\\mathbf{X}}_S - \\overline{\\mathbf{X}}_{NS}$:\n",
    "permutation tests and analytical approximations."
   ]
  },
  {
   "cell_type": "code",
   "execution_count": null,
   "id": "7c7306c4-e20d-4453-ba09-96babc7534b1",
   "metadata": {},
   "outputs": [],
   "source": []
  },
  {
   "cell_type": "markdown",
   "id": "ee8e5ae2-06a3-4eb2-a7e1-9a53e818dbef",
   "metadata": {
    "tags": []
   },
   "source": [
    "### Interpreting the result of a hypothesis test (optional)\n"
   ]
  },
  {
   "cell_type": "markdown",
   "id": "c0aa58b0-8428-42ef-823c-0fba093233bc",
   "metadata": {
    "tags": []
   },
   "source": [
    "\n",
    "- The implication of rejecting the null hypothesis (no difference) is that there must be a difference between the group means.\n",
    "  In other words, the average ELV (employee lifetime value) for employees who took the statistics training (**Group S**) is different form\n",
    "  the average ELV for employees who didn't take the statistics training (**Group NS**),\n",
    "  which is what Amy is trying to show.\n",
    "  - Note that rejecting null hypothesis ($H_0$) is not the same as \"proving\" the alternative hypothesis ($H_A$);\n",
    "    we have just shown that the data is unlikely under the null hypothesis,\n",
    "    so there must be *some* difference between the groups.\n",
    "    The conclusion is that it's worth looking for *some* alternative hypothesis.\n",
    "  - The alternative hypothesis we picked above, $\\mu_S \\neq \\mu_{NS}$, is just a placeholder,\n",
    "    that includes desirable effect: $\\mu_S > \\mu_{NS}$ (stats training improves ELV),\n",
    "    but also includes the opposite effect: $\\mu_S < \\mu_{NS}$ (stats training decreases ELV).\n",
    "  - Using statistics jargon, when we reject the hypothesis $H_0$ we say we've observed a \"statistically significant\" result,\n",
    "    which sounds a lot more impressive than it actually is.\n",
    "    The null hypothesis testing procedure is used to just rule out \"occurred by chance\" scenario,\n",
    "    which is a very basic sanity check.    \n",
    "- The implication of failing to reject the null hypothesis is that the observed difference\n",
    "  between means is \"not significant,\" meaning it could have occurred by chance,\n",
    "  so there is no need to search for an alternative hypothesis.\n",
    "  - Note that \"failing to reject\" is not the same as \"proving\" the null hypothesis.\n",
    "  - Note also that \"failing to reject $H_0$\" doesn't mean we reject $H_A$.\n",
    "    In fact, the alternative hypothesis didn't play any role in the calculations whatsoever.\n",
    "\n",
    "\n",
    "I know all this sounds super complicated and roundabout (an it is!),\n",
    "but you will get a hang of it with practice.\n",
    "Trust me, you need to know this shit.\n"
   ]
  },
  {
   "cell_type": "markdown",
   "id": "96a07532-c61b-451b-ae92-1543790ad054",
   "metadata": {},
   "source": [
    " \n",
    " "
   ]
  },
  {
   "cell_type": "markdown",
   "id": "474a1144-1fae-40aa-a929-eb2508576e8c",
   "metadata": {},
   "source": [
    " "
   ]
  },
  {
   "cell_type": "markdown",
   "id": "f37acf39-7f27-4425-9087-71b001c52e41",
   "metadata": {},
   "source": [
    "## Testing for a difference between means"
   ]
  },
  {
   "cell_type": "code",
   "execution_count": 5,
   "id": "25ed5377-78f8-4909-824a-4e97858435f9",
   "metadata": {},
   "outputs": [],
   "source": [
    "eprices = pd.read_csv(\"../datasets/eprices.csv\")\n",
    "# eprices"
   ]
  },
  {
   "cell_type": "code",
   "execution_count": 6,
   "id": "cc1b7ed9-743a-4da4-bf92-991a3260bb1d",
   "metadata": {},
   "outputs": [
    {
     "data": {
      "text/html": [
       "<div>\n",
       "<style scoped>\n",
       "    .dataframe tbody tr th:only-of-type {\n",
       "        vertical-align: middle;\n",
       "    }\n",
       "\n",
       "    .dataframe tbody tr th {\n",
       "        vertical-align: top;\n",
       "    }\n",
       "\n",
       "    .dataframe thead th {\n",
       "        text-align: right;\n",
       "    }\n",
       "</style>\n",
       "<table border=\"1\" class=\"dataframe\">\n",
       "  <thead>\n",
       "    <tr style=\"text-align: right;\">\n",
       "      <th></th>\n",
       "      <th>count</th>\n",
       "      <th>mean</th>\n",
       "      <th>std</th>\n",
       "      <th>min</th>\n",
       "      <th>25%</th>\n",
       "      <th>50%</th>\n",
       "      <th>75%</th>\n",
       "      <th>max</th>\n",
       "    </tr>\n",
       "    <tr>\n",
       "      <th>end</th>\n",
       "      <th></th>\n",
       "      <th></th>\n",
       "      <th></th>\n",
       "      <th></th>\n",
       "      <th></th>\n",
       "      <th></th>\n",
       "      <th></th>\n",
       "      <th></th>\n",
       "    </tr>\n",
       "  </thead>\n",
       "  <tbody>\n",
       "    <tr>\n",
       "      <th>East</th>\n",
       "      <td>9.0</td>\n",
       "      <td>6.155556</td>\n",
       "      <td>0.877655</td>\n",
       "      <td>4.8</td>\n",
       "      <td>5.5</td>\n",
       "      <td>6.3</td>\n",
       "      <td>6.5</td>\n",
       "      <td>7.7</td>\n",
       "    </tr>\n",
       "    <tr>\n",
       "      <th>West</th>\n",
       "      <td>9.0</td>\n",
       "      <td>9.155556</td>\n",
       "      <td>1.562139</td>\n",
       "      <td>6.8</td>\n",
       "      <td>8.3</td>\n",
       "      <td>8.6</td>\n",
       "      <td>10.0</td>\n",
       "      <td>11.8</td>\n",
       "    </tr>\n",
       "  </tbody>\n",
       "</table>\n",
       "</div>"
      ],
      "text/plain": [
       "      count      mean       std  min  25%  50%   75%   max\n",
       "end                                                       \n",
       "East    9.0  6.155556  0.877655  4.8  5.5  6.3   6.5   7.7\n",
       "West    9.0  9.155556  1.562139  6.8  8.3  8.6  10.0  11.8"
      ]
     },
     "execution_count": 6,
     "metadata": {},
     "output_type": "execute_result"
    }
   ],
   "source": [
    "eprices.groupby(\"end\")[\"price\"].describe()"
   ]
  },
  {
   "cell_type": "code",
   "execution_count": 7,
   "id": "13f1b204-f224-48d1-917b-4db0c37b9f62",
   "metadata": {},
   "outputs": [],
   "source": [
    "def dmeans(xsample, ysample):\n",
    "    \"\"\"\n",
    "    Compute the difference in means between the two samples.\n",
    "    \"\"\"\n",
    "    dhat = np.mean(xsample) - np.mean(ysample)\n",
    "    return dhat"
   ]
  },
  {
   "cell_type": "code",
   "execution_count": 8,
   "id": "55878349-bd2a-420e-8d9e-a1cc189580b5",
   "metadata": {},
   "outputs": [
    {
     "data": {
      "text/plain": [
       "3.000000000000001"
      ]
     },
     "execution_count": 8,
     "metadata": {},
     "output_type": "execute_result"
    }
   ],
   "source": [
    "# observed difference between means\n",
    "xW = eprices[eprices[\"end\"]==\"West\"][\"price\"]\n",
    "xE = eprices[eprices[\"end\"]==\"East\"][\"price\"]\n",
    "dmeans(xW, xE)"
   ]
  },
  {
   "cell_type": "code",
   "execution_count": 9,
   "id": "33bd33a5-75b9-4fd9-a976-c2c237e699b5",
   "metadata": {},
   "outputs": [],
   "source": [
    "def resample_under_H0(data, groupcol=\"group\"):\n",
    "    \"\"\"\n",
    "    Return a copy of the dataframe `sample` with the labels in the column `groupcol`\n",
    "    modified based on a random permutation of the values in the original sample.\n",
    "    \"\"\"\n",
    "    redata = data.copy()\n",
    "    labels = data[groupcol].values\n",
    "    newlabels = np.random.permutation(labels)\n",
    "    redata[groupcol] = newlabels    \n",
    "    return redata\n",
    "\n",
    "# resample_under_H0(eprices)"
   ]
  },
  {
   "cell_type": "code",
   "execution_count": 10,
   "id": "d8cecd15-59c1-4520-9428-d63cd01c44b7",
   "metadata": {},
   "outputs": [
    {
     "data": {
      "text/plain": [
       "-0.24444444444444446"
      ]
     },
     "execution_count": 10,
     "metadata": {},
     "output_type": "execute_result"
    }
   ],
   "source": [
    "# permute the `end` labels\n",
    "eprices_perm = resample_under_H0(eprices, groupcol=\"end\")\n",
    "\n",
    "# extract price permuted samples \n",
    "xW = eprices_perm[eprices_perm[\"end\"]==\"West\"][\"price\"]\n",
    "xE = eprices_perm[eprices_perm[\"end\"]==\"East\"][\"price\"]\n",
    "\n",
    "# compute the difference in means for the permuted labels\n",
    "dmeans(xW, xE)"
   ]
  },
  {
   "cell_type": "code",
   "execution_count": 11,
   "id": "86f94505-6ea5-4d8c-9d40-bf9e1f25062c",
   "metadata": {},
   "outputs": [],
   "source": [
    "def gen_sampling_dist_under_H0(data, permutations=10000):\n",
    "    \"\"\"\n",
    "    Obtain the sampling distribution of `dmeans` under H0\n",
    "    by repeatedly permutations of the group labels.\n",
    "    \"\"\"\n",
    "    pstats = []\n",
    "    for i in range(0, permutations):\n",
    "        data_perm = resample_under_H0(data, groupcol=\"end\")\n",
    "        xW_perm = data_perm[data_perm[\"end\"]==\"West\"][\"price\"]\n",
    "        xE_perm = data_perm[data_perm[\"end\"]==\"East\"][\"price\"]\n",
    "        dhat_perm = dmeans(xW_perm, xE_perm)\n",
    "        pstats.append(dhat_perm)\n",
    "    return pstats"
   ]
  },
  {
   "cell_type": "code",
   "execution_count": 12,
   "id": "d27ff799-5dbe-4718-aa6d-1c67361f0f8b",
   "metadata": {},
   "outputs": [
    {
     "data": {
      "text/plain": [
       "0.0001"
      ]
     },
     "execution_count": 12,
     "metadata": {},
     "output_type": "execute_result"
    }
   ],
   "source": [
    "def permutation_test(data):\n",
    "    \"\"\"\n",
    "    Compute the p-value of the observed `dmeans(xW,xE)` under H0.\n",
    "    \"\"\"\n",
    "    # Obtain the sampling distribution of `dmeans` under H0\n",
    "    pstats = gen_sampling_dist_under_H0(data)\n",
    "\n",
    "    # Compute the value of `dmeans` for the observed data\n",
    "    xW = eprices[eprices[\"end\"]==\"West\"][\"price\"]\n",
    "    xE = eprices[eprices[\"end\"]==\"East\"][\"price\"]\n",
    "    dhat = dmeans(xW, xE)\n",
    "\n",
    "    # Compute p-value of `dhat` under the distribution `pstats` \n",
    "    # (how many of `pstats` are equal-or-more-extreme than `dhat`)\n",
    "    tailstats = [pstat for pstat in pstats \\\n",
    "                 if pstat <= -abs(dhat) or pstat >= abs(dhat)]\n",
    "    pvalue = len(tailstats) / len(pstats)\n",
    "    return pvalue\n",
    "\n",
    "pvalue = permutation_test(eprices)\n",
    "pvalue"
   ]
  },
  {
   "cell_type": "code",
   "execution_count": null,
   "id": "d3bcbaf1-0fbd-4da5-a922-b2b2df0cc4e9",
   "metadata": {},
   "outputs": [],
   "source": []
  },
  {
   "cell_type": "code",
   "execution_count": 13,
   "id": "a44dd4e3-3ba9-46ed-aefe-6e5354bfb3e1",
   "metadata": {},
   "outputs": [
    {
     "data": {
      "text/plain": [
       "0.00012340600575894693"
      ]
     },
     "execution_count": 13,
     "metadata": {},
     "output_type": "execute_result"
    }
   ],
   "source": [
    "from scipy.stats import ttest_ind\n",
    "\n",
    "xW = eprices[eprices[\"end\"]==\"West\"][\"price\"]\n",
    "xE = eprices[eprices[\"end\"]==\"East\"][\"price\"]\n",
    "\n",
    "ttest_ind(xW, xE, permutations=100000).pvalue"
   ]
  },
  {
   "cell_type": "code",
   "execution_count": null,
   "id": "398af12a-fde7-49d5-adf5-4f4238e2c007",
   "metadata": {},
   "outputs": [],
   "source": []
  },
  {
   "cell_type": "code",
   "execution_count": null,
   "id": "83ce6d3e-337a-4ede-b0b0-3dbe2fdf553c",
   "metadata": {},
   "outputs": [],
   "source": []
  },
  {
   "cell_type": "markdown",
   "id": "c86a540c-e12d-4bf4-84a8-845a2c70c97d",
   "metadata": {},
   "source": [
    "## Testing for a difference between proportions"
   ]
  },
  {
   "cell_type": "code",
   "execution_count": 14,
   "id": "9c885bb4-f645-4e88-ba6d-9594140dc5a6",
   "metadata": {},
   "outputs": [],
   "source": [
    "visitors = pd.read_csv(\"../datasets/visitors.csv\")\n",
    "# visitors"
   ]
  },
  {
   "cell_type": "code",
   "execution_count": 15,
   "id": "ae1810c9-d113-4c97-987e-89f0fcd9d57e",
   "metadata": {},
   "outputs": [
    {
     "data": {
      "text/html": [
       "<div>\n",
       "<style scoped>\n",
       "    .dataframe tbody tr th:only-of-type {\n",
       "        vertical-align: middle;\n",
       "    }\n",
       "\n",
       "    .dataframe tbody tr th {\n",
       "        vertical-align: top;\n",
       "    }\n",
       "\n",
       "    .dataframe thead th {\n",
       "        text-align: right;\n",
       "    }\n",
       "</style>\n",
       "<table border=\"1\" class=\"dataframe\">\n",
       "  <thead>\n",
       "    <tr style=\"text-align: right;\">\n",
       "      <th></th>\n",
       "      <th>count</th>\n",
       "      <th>mean</th>\n",
       "      <th>std</th>\n",
       "      <th>min</th>\n",
       "      <th>25%</th>\n",
       "      <th>50%</th>\n",
       "      <th>75%</th>\n",
       "      <th>max</th>\n",
       "    </tr>\n",
       "    <tr>\n",
       "      <th>version</th>\n",
       "      <th></th>\n",
       "      <th></th>\n",
       "      <th></th>\n",
       "      <th></th>\n",
       "      <th></th>\n",
       "      <th></th>\n",
       "      <th></th>\n",
       "      <th></th>\n",
       "    </tr>\n",
       "  </thead>\n",
       "  <tbody>\n",
       "    <tr>\n",
       "      <th>A</th>\n",
       "      <td>1014.0</td>\n",
       "      <td>0.046351</td>\n",
       "      <td>0.210348</td>\n",
       "      <td>0.0</td>\n",
       "      <td>0.0</td>\n",
       "      <td>0.0</td>\n",
       "      <td>0.0</td>\n",
       "      <td>1.0</td>\n",
       "    </tr>\n",
       "    <tr>\n",
       "      <th>B</th>\n",
       "      <td>986.0</td>\n",
       "      <td>0.056795</td>\n",
       "      <td>0.231568</td>\n",
       "      <td>0.0</td>\n",
       "      <td>0.0</td>\n",
       "      <td>0.0</td>\n",
       "      <td>0.0</td>\n",
       "      <td>1.0</td>\n",
       "    </tr>\n",
       "  </tbody>\n",
       "</table>\n",
       "</div>"
      ],
      "text/plain": [
       "          count      mean       std  min  25%  50%  75%  max\n",
       "version                                                     \n",
       "A        1014.0  0.046351  0.210348  0.0  0.0  0.0  0.0  1.0\n",
       "B         986.0  0.056795  0.231568  0.0  0.0  0.0  0.0  1.0"
      ]
     },
     "execution_count": 15,
     "metadata": {},
     "output_type": "execute_result"
    }
   ],
   "source": [
    "visitors.groupby(\"version\")[\"bought\"].describe()"
   ]
  },
  {
   "cell_type": "code",
   "execution_count": 16,
   "id": "8aaeb398-77bc-4cc4-87e6-6ec1c8da4ca5",
   "metadata": {},
   "outputs": [],
   "source": [
    "def prop(sample):\n",
    "    \"\"\"\n",
    "    Compute the proportion of success (1) outcomes in `sample`.\n",
    "    \"\"\"\n",
    "    counts = sample.value_counts()\n",
    "    count_ones = counts[1]\n",
    "    phat = count_ones / len(sample)\n",
    "    return phat\n",
    "\n",
    "def dprops(xsample, ysample):\n",
    "    \"\"\"\n",
    "    Compute the difference between sample propotions.\n",
    "    \"\"\"\n",
    "    phatx = prop(xsample)\n",
    "    phaty = prop(ysample)\n",
    "    dhat = phatx - phaty\n",
    "    return dhat\n"
   ]
  },
  {
   "cell_type": "code",
   "execution_count": 17,
   "id": "65caaf69-f4d1-4bab-ae71-2064dc44fe2f",
   "metadata": {},
   "outputs": [
    {
     "data": {
      "text/plain": [
       "0.01044404703321851"
      ]
     },
     "execution_count": 17,
     "metadata": {},
     "output_type": "execute_result"
    }
   ],
   "source": [
    "# observed difference between means\n",
    "xA = visitors[visitors[\"version\"]==\"A\"][\"bought\"]\n",
    "xB = visitors[visitors[\"version\"]==\"B\"][\"bought\"]\n",
    "dprops(xB, xA)"
   ]
  },
  {
   "cell_type": "code",
   "execution_count": 18,
   "id": "8018a233-d7da-4d33-88a7-2755382ddd5d",
   "metadata": {},
   "outputs": [],
   "source": [
    "# resample_under_H0(visitors, groupcol=\"version\")"
   ]
  },
  {
   "cell_type": "code",
   "execution_count": 19,
   "id": "f0803df9-400c-47c3-afe5-a23390986e23",
   "metadata": {},
   "outputs": [
    {
     "data": {
      "text/plain": [
       "-0.01044404703321851"
      ]
     },
     "execution_count": 19,
     "metadata": {},
     "output_type": "execute_result"
    }
   ],
   "source": [
    "# permute the `version` labels\n",
    "visitors_perm = resample_under_H0(visitors, groupcol=\"version\")\n",
    "\n",
    "# extract price permuted samples \n",
    "xA = visitors_perm[visitors_perm[\"version\"]==\"A\"][\"bought\"]\n",
    "xB = visitors_perm[visitors_perm[\"version\"]==\"B\"][\"bought\"]\n",
    "\n",
    "# compute the difference in proportions for the permuted labels\n",
    "dprops(xA, xB)"
   ]
  },
  {
   "cell_type": "code",
   "execution_count": 20,
   "id": "e369fc4d-8639-4b44-bd4b-65bab796110c",
   "metadata": {},
   "outputs": [],
   "source": [
    "def gen_sampling_dist_under_H02(data, permutations=10000):\n",
    "    \"\"\"\n",
    "    Obtain the sampling distribution of `dprops` under H0\n",
    "    by repeatedly permutations of the group labels.\n",
    "    \"\"\"\n",
    "    pstats = []\n",
    "    for i in range(0, permutations):\n",
    "        data_perm = resample_under_H0(data, groupcol=\"version\")\n",
    "        xA_perm = data_perm[data_perm[\"version\"]==\"A\"][\"bought\"]\n",
    "        xB_perm = data_perm[data_perm[\"version\"]==\"B\"][\"bought\"]\n",
    "        dhat_perm = dprops(xA_perm, xB_perm)\n",
    "        pstats.append(dhat_perm)\n",
    "    return pstats\n"
   ]
  },
  {
   "cell_type": "code",
   "execution_count": 21,
   "id": "548df83d-7f75-4101-9f1c-4e6f03b9404b",
   "metadata": {},
   "outputs": [
    {
     "data": {
      "text/plain": [
       "0.3147"
      ]
     },
     "execution_count": 21,
     "metadata": {},
     "output_type": "execute_result"
    }
   ],
   "source": [
    "def permutation_test2(data):\n",
    "    \"\"\"\n",
    "    Compute the p-value of the observed `dprops(xB,xA)` under H0.\n",
    "    \"\"\"\n",
    "    # Obtain the sampling distribution of `dmeans` under H0\n",
    "    pstats = gen_sampling_dist_under_H02(data)\n",
    "\n",
    "    # Compute the value of `dmeans` for the observed data\n",
    "    xA = data[data[\"version\"]==\"A\"][\"bought\"]\n",
    "    xB = data[data[\"version\"]==\"B\"][\"bought\"]\n",
    "    dhat = dprops(xB, xA)\n",
    "\n",
    "    # Compute p-value of `dhat` under the distribution `pstats` \n",
    "    # (how many of `pstats` are equal-or-more-extreme than `dhat`)\n",
    "    tailstats = [pstat for pstat in pstats \\\n",
    "                 if pstat <= -abs(dhat) or pstat >= abs(dhat)]\n",
    "    pvalue = len(tailstats) / len(pstats)\n",
    "    return pvalue\n",
    "\n",
    "pvalue = permutation_test2(visitors)\n",
    "pvalue"
   ]
  },
  {
   "cell_type": "code",
   "execution_count": null,
   "id": "e965155f-7301-4f15-866c-37fa022081a4",
   "metadata": {},
   "outputs": [],
   "source": []
  },
  {
   "cell_type": "code",
   "execution_count": 22,
   "id": "57a8790b-10c3-4196-b520-340b2d8f9707",
   "metadata": {},
   "outputs": [
    {
     "data": {
      "text/plain": [
       "<class 'statsmodels.stats.base.HolderTuple'>\n",
       "statistic = 1.0554258287614786\n",
       "pvalue = 0.29123061522727034\n",
       "compare = 'diff'\n",
       "method = 'wald'\n",
       "diff = 0.01044404703321851\n",
       "ratio = 1.2253247593975227\n",
       "odds_ratio = 1.238892701898879\n",
       "variance = 9.792243435423689e-05\n",
       "alternative = 'two-sided'\n",
       "value = 0\n",
       "tuple = (1.0554258287614786, 0.29123061522727034)"
      ]
     },
     "execution_count": 22,
     "metadata": {},
     "output_type": "execute_result"
    }
   ],
   "source": [
    "# Wald test\n",
    "# https://www.statsmodels.org/dev/generated/statsmodels.stats.proportion.test_proportions_2indep.html\n",
    "from statsmodels.stats.proportion import test_proportions_2indep\n",
    "\n",
    "countA = sum(xA)\n",
    "nobsA = len(xA)\n",
    "countB = sum(xB)\n",
    "nobsB = len(xB)\n",
    "\n",
    "test_proportions_2indep(countB, nobsB, countA, nobsA,\n",
    "                        compare='diff', method=\"wald\", # ALT. method=\"agresti-caffo\"\n",
    "                        alternative='two-sided', return_results=True)"
   ]
  },
  {
   "cell_type": "code",
   "execution_count": 23,
   "id": "543e4df6-74f8-4c6c-8ff4-7e1c5ae58f81",
   "metadata": {},
   "outputs": [
    {
     "data": {
      "text/plain": [
       "0.29123061522727034"
      ]
     },
     "execution_count": 23,
     "metadata": {},
     "output_type": "execute_result"
    }
   ],
   "source": [
    "# manual Wald test\n",
    "pAhat = xA.mean()\n",
    "pBhat = xB.mean()\n",
    "nA, nB = len(xA), len(xB)\n",
    "varA = pAhat*(1-pAhat)\n",
    "varB = pBhat*(1-pBhat)\n",
    "seD = np.sqrt(varA/nA + varB/nB)\n",
    "\n",
    "from scipy.stats import norm\n",
    "DhatH0 = norm(0, seD)  # sampling distribution under H0\n",
    "\n",
    "dhat = pBhat - pAhat\n",
    "pval = 2*(1-DhatH0.cdf(dhat))\n",
    "pval"
   ]
  },
  {
   "cell_type": "code",
   "execution_count": 24,
   "id": "c137dca8-8e65-4ac9-a376-50c092508e74",
   "metadata": {},
   "outputs": [],
   "source": [
    "# uses t-dist instead of z, so not appropriate\n",
    "# import statsmodels.api as sm\n",
    "# sm.stats.ttest_ind(xB, xA)\n",
    "\n",
    "# from scipy.stats import ttest_ind\n",
    "# ttest_ind(xB, xA).pvalue\n",
    "\n",
    "# ttest_ind(xB, xA, permutations=10000).pvalue"
   ]
  },
  {
   "cell_type": "code",
   "execution_count": 25,
   "id": "203d1700-6121-45a5-81c5-522252d094d3",
   "metadata": {},
   "outputs": [],
   "source": [
    "# # NOT GOOD -> uses variance pooling: p_pooled = sum(counts)/sum(nobs)\n",
    "# from statsmodels.stats.proportion import proportions_ztest\n",
    "# countA = sum(xA)\n",
    "# nobsA = len(xA)\n",
    "# countB = sum(xB)\n",
    "# nobsB = len(xB)\n",
    "# count = np.array([countB, countA])\n",
    "# nobs = np.array([nobsB, nobsA])\n",
    "# proportions_ztest(count, nobs)"
   ]
  },
  {
   "cell_type": "code",
   "execution_count": 26,
   "id": "29fcd145-aa64-4975-91ff-6350b8af76bc",
   "metadata": {},
   "outputs": [],
   "source": [
    "# # CONFIDENCE INTERVAL\n",
    "# # https://www.statsmodels.org/dev/generated/statsmodels.stats.proportion.confint_proportions_2indep.html\n",
    "# from statsmodels.stats.proportion import confint_proportions_2indep\n",
    "# confint_proportions_2indep(countB, nobsB, countA, nobsA,\n",
    "#                            compare='diff', method=\"wald\", # ALT. method=\"agresti-caffo\"\n",
    "#                            alpha=0.05)"
   ]
  },
  {
   "cell_type": "code",
   "execution_count": null,
   "id": "30454195-3265-480e-89b2-9e148523ffd1",
   "metadata": {},
   "outputs": [],
   "source": []
  },
  {
   "cell_type": "code",
   "execution_count": null,
   "id": "9b7a6196-e3b6-4b0e-b1c7-fe92a5558010",
   "metadata": {},
   "outputs": [],
   "source": []
  },
  {
   "cell_type": "code",
   "execution_count": null,
   "id": "62b03059-42e6-4111-aa57-fefbca924fcf",
   "metadata": {},
   "outputs": [],
   "source": []
  },
  {
   "cell_type": "code",
   "execution_count": null,
   "id": "ad6f1031-35c9-4672-a89b-3a4f61d51d1e",
   "metadata": {},
   "outputs": [],
   "source": []
  },
  {
   "cell_type": "code",
   "execution_count": null,
   "id": "8acf5fcf-3b37-4302-b097-b0b4b2e3b99f",
   "metadata": {},
   "outputs": [],
   "source": []
  },
  {
   "cell_type": "code",
   "execution_count": null,
   "id": "0542ba2b-29f6-4a38-aeb1-347f161613a8",
   "metadata": {},
   "outputs": [],
   "source": []
  },
  {
   "cell_type": "code",
   "execution_count": null,
   "id": "42784050-ff32-4b4e-b6fd-d3d9050a4ef6",
   "metadata": {},
   "outputs": [],
   "source": []
  },
  {
   "cell_type": "code",
   "execution_count": null,
   "id": "15a1b779-b144-4fe6-8aad-cd472df1cfc4",
   "metadata": {},
   "outputs": [],
   "source": []
  },
  {
   "cell_type": "code",
   "execution_count": null,
   "id": "056c3176-564e-4250-bb06-d4ef069ef67c",
   "metadata": {},
   "outputs": [],
   "source": []
  },
  {
   "cell_type": "code",
   "execution_count": null,
   "id": "a0b137c1-b0cc-44bc-b6a0-7a4305cbe810",
   "metadata": {},
   "outputs": [],
   "source": []
  },
  {
   "cell_type": "markdown",
   "id": "9adc75c2-5f29-4265-a4cf-3c741540f7c3",
   "metadata": {},
   "source": [
    "### Start by loading the data again...\n",
    "\n",
    "First things first, let's reload the cleaned data file that we prepared back in the notebook [01_DATA.ipynb](./01_DATA.ipynb)."
   ]
  },
  {
   "cell_type": "code",
   "execution_count": 27,
   "id": "de92b8fe-d979-4789-8f58-667459c3c4ff",
   "metadata": {},
   "outputs": [
    {
     "data": {
      "text/html": [
       "<div>\n",
       "<style scoped>\n",
       "    .dataframe tbody tr th:only-of-type {\n",
       "        vertical-align: middle;\n",
       "    }\n",
       "\n",
       "    .dataframe tbody tr th {\n",
       "        vertical-align: top;\n",
       "    }\n",
       "\n",
       "    .dataframe thead th {\n",
       "        text-align: right;\n",
       "    }\n",
       "</style>\n",
       "<table border=\"1\" class=\"dataframe\">\n",
       "  <thead>\n",
       "    <tr style=\"text-align: right;\">\n",
       "      <th></th>\n",
       "      <th>group</th>\n",
       "      <th>ELV</th>\n",
       "    </tr>\n",
       "  </thead>\n",
       "  <tbody>\n",
       "    <tr>\n",
       "      <th>0</th>\n",
       "      <td>NS</td>\n",
       "      <td>923.87</td>\n",
       "    </tr>\n",
       "    <tr>\n",
       "      <th>1</th>\n",
       "      <td>NS</td>\n",
       "      <td>751.38</td>\n",
       "    </tr>\n",
       "    <tr>\n",
       "      <th>2</th>\n",
       "      <td>NS</td>\n",
       "      <td>432.83</td>\n",
       "    </tr>\n",
       "    <tr>\n",
       "      <th>3</th>\n",
       "      <td>NS</td>\n",
       "      <td>1417.36</td>\n",
       "    </tr>\n",
       "    <tr>\n",
       "      <th>4</th>\n",
       "      <td>NS</td>\n",
       "      <td>973.24</td>\n",
       "    </tr>\n",
       "    <tr>\n",
       "      <th>...</th>\n",
       "      <td>...</td>\n",
       "      <td>...</td>\n",
       "    </tr>\n",
       "    <tr>\n",
       "      <th>56</th>\n",
       "      <td>S</td>\n",
       "      <td>931.61</td>\n",
       "    </tr>\n",
       "    <tr>\n",
       "      <th>57</th>\n",
       "      <td>S</td>\n",
       "      <td>1329.68</td>\n",
       "    </tr>\n",
       "    <tr>\n",
       "      <th>58</th>\n",
       "      <td>S</td>\n",
       "      <td>1293.03</td>\n",
       "    </tr>\n",
       "    <tr>\n",
       "      <th>59</th>\n",
       "      <td>S</td>\n",
       "      <td>1240.44</td>\n",
       "    </tr>\n",
       "    <tr>\n",
       "      <th>60</th>\n",
       "      <td>S</td>\n",
       "      <td>1105.59</td>\n",
       "    </tr>\n",
       "  </tbody>\n",
       "</table>\n",
       "<p>61 rows × 2 columns</p>\n",
       "</div>"
      ],
      "text/plain": [
       "   group      ELV\n",
       "0     NS   923.87\n",
       "1     NS   751.38\n",
       "2     NS   432.83\n",
       "3     NS  1417.36\n",
       "4     NS   973.24\n",
       "..   ...      ...\n",
       "56     S   931.61\n",
       "57     S  1329.68\n",
       "58     S  1293.03\n",
       "59     S  1240.44\n",
       "60     S  1105.59\n",
       "\n",
       "[61 rows x 2 columns]"
      ]
     },
     "execution_count": 27,
     "metadata": {},
     "output_type": "execute_result"
    }
   ],
   "source": [
    "data = pd.read_csv('../stats_overview/data/employee_lifetime_values.csv')\n",
    "data"
   ]
  },
  {
   "cell_type": "code",
   "execution_count": 28,
   "id": "c3f0c6be-b5ff-424d-8c45-86786418246b",
   "metadata": {},
   "outputs": [
    {
     "data": {
      "text/html": [
       "<div>\n",
       "<style scoped>\n",
       "    .dataframe tbody tr th:only-of-type {\n",
       "        vertical-align: middle;\n",
       "    }\n",
       "\n",
       "    .dataframe tbody tr th {\n",
       "        vertical-align: top;\n",
       "    }\n",
       "\n",
       "    .dataframe thead tr th {\n",
       "        text-align: left;\n",
       "    }\n",
       "\n",
       "    .dataframe thead tr:last-of-type th {\n",
       "        text-align: right;\n",
       "    }\n",
       "</style>\n",
       "<table border=\"1\" class=\"dataframe\">\n",
       "  <thead>\n",
       "    <tr>\n",
       "      <th></th>\n",
       "      <th colspan=\"8\" halign=\"left\">ELV</th>\n",
       "    </tr>\n",
       "    <tr>\n",
       "      <th></th>\n",
       "      <th>count</th>\n",
       "      <th>mean</th>\n",
       "      <th>std</th>\n",
       "      <th>min</th>\n",
       "      <th>25%</th>\n",
       "      <th>50%</th>\n",
       "      <th>75%</th>\n",
       "      <th>max</th>\n",
       "    </tr>\n",
       "    <tr>\n",
       "      <th>group</th>\n",
       "      <th></th>\n",
       "      <th></th>\n",
       "      <th></th>\n",
       "      <th></th>\n",
       "      <th></th>\n",
       "      <th></th>\n",
       "      <th></th>\n",
       "      <th></th>\n",
       "    </tr>\n",
       "  </thead>\n",
       "  <tbody>\n",
       "    <tr>\n",
       "      <th>NS</th>\n",
       "      <td>31.0</td>\n",
       "      <td>1018.41129</td>\n",
       "      <td>265.815869</td>\n",
       "      <td>432.83</td>\n",
       "      <td>858.7750</td>\n",
       "      <td>990.130</td>\n",
       "      <td>1183.2750</td>\n",
       "      <td>1620.93</td>\n",
       "    </tr>\n",
       "    <tr>\n",
       "      <th>S</th>\n",
       "      <td>30.0</td>\n",
       "      <td>1148.43500</td>\n",
       "      <td>233.037704</td>\n",
       "      <td>623.06</td>\n",
       "      <td>1022.1375</td>\n",
       "      <td>1119.305</td>\n",
       "      <td>1279.8825</td>\n",
       "      <td>1716.61</td>\n",
       "    </tr>\n",
       "  </tbody>\n",
       "</table>\n",
       "</div>"
      ],
      "text/plain": [
       "        ELV                                                                  \\\n",
       "      count        mean         std     min        25%       50%        75%   \n",
       "group                                                                         \n",
       "NS     31.0  1018.41129  265.815869  432.83   858.7750   990.130  1183.2750   \n",
       "S      30.0  1148.43500  233.037704  623.06  1022.1375  1119.305  1279.8825   \n",
       "\n",
       "                \n",
       "           max  \n",
       "group           \n",
       "NS     1620.93  \n",
       "S      1716.61  "
      ]
     },
     "execution_count": 28,
     "metadata": {},
     "output_type": "execute_result"
    }
   ],
   "source": [
    "# remember the descriptive statistics\n",
    "data.groupby(\"group\").describe()"
   ]
  },
  {
   "cell_type": "code",
   "execution_count": 29,
   "id": "9c4713d2-736f-495f-bc07-1b54c419c974",
   "metadata": {},
   "outputs": [
    {
     "data": {
      "text/plain": [
       "130.02370967741933"
      ]
     },
     "execution_count": 29,
     "metadata": {},
     "output_type": "execute_result"
    }
   ],
   "source": [
    "def dmeans(sample):\n",
    "    \"\"\"\n",
    "    Compute the difference between groups means.\n",
    "    \"\"\"\n",
    "    xS = sample[sample[\"group\"]==\"S\"][\"ELV\"]\n",
    "    xNS = sample[sample[\"group\"]==\"NS\"][\"ELV\"]\n",
    "    d = np.mean(xS) - np.mean(xNS)\n",
    "    return d\n",
    "\n",
    "# the observed value in Amy's data\n",
    "dmeans(data)"
   ]
  },
  {
   "cell_type": "markdown",
   "id": "7cf9a6da-87ac-45ab-b49d-2eb77e4ae92b",
   "metadata": {},
   "source": [
    "Our goal is to determine how *likely* or *unlikely* this observed value $d=130$ is under the null hypothesis $H_0$.\n",
    "\n",
    "In the next two sections, we'll look at two different approaches for obtaining the sampling distribution of $D$ under $H_0$: permutation test and analytical approximations."
   ]
  },
  {
   "cell_type": "markdown",
   "id": "95935f7e-b063-458f-8814-c10867a0a11e",
   "metadata": {},
   "source": [
    " "
   ]
  },
  {
   "cell_type": "markdown",
   "id": "b5fc1e27-73f4-40b3-9b35-b05382af56f1",
   "metadata": {},
   "source": [
    "## Approach 1: Permutation test for comparing two groups\n",
    "\n",
    "- The permutation test allow us to generate the sampling distribution under $H_0$\n",
    "  by reusing the sample $\\mathbf{x}$ that we have,\n",
    "  treating it as if it were a population.\n",
    "- Relevant probability distributions:\n",
    "  - Real sampling distribution: obtained from repeated samples from a hypothetical population under $H_0$.\n",
    "  - Approximate sampling distribution: obtained by **resampling data from the single sample we have**.\n",
    "- Recall Goal 1: make sure that the observed difference is unlikely to have occurred by chance under $H_0$\n",
    "  (the difference between group means $d=130$ cannot be explained by the natural variability of the distributions)\n",
    "  - We want to obtain an approximation of the sampling distribution under $H_0$\n",
    "  - The $H_0$ probability model describes a hypothetical scenario with **no difference between groups**,\n",
    "    which means data from **Group S** and **Group NS** comes the same distribution.\n",
    "  - To generate a new random sample $\\mathbf{x}^p$ from the $H_0$ model,\n",
    "    we can reuse the sample we have obtained $\\mathbf{x}$,\n",
    "    but randomly mix-up the group labels.\n",
    "    Since under the $H_0$ model, the **S** and **NS** populations are identical,\n",
    "    mixing up the labels should have no effect.\n",
    "  - The math term for \"mixing up\" is **permutation**, meaning \n",
    "    each value in the input is randomly reassigned to a new random place in the output."
   ]
  },
  {
   "cell_type": "code",
   "execution_count": 30,
   "id": "ede57250-dab3-47f7-84e2-e104bed4d177",
   "metadata": {},
   "outputs": [
    {
     "data": {
      "text/html": [
       "<div>\n",
       "<style scoped>\n",
       "    .dataframe tbody tr th:only-of-type {\n",
       "        vertical-align: middle;\n",
       "    }\n",
       "\n",
       "    .dataframe tbody tr th {\n",
       "        vertical-align: top;\n",
       "    }\n",
       "\n",
       "    .dataframe thead th {\n",
       "        text-align: right;\n",
       "    }\n",
       "</style>\n",
       "<table border=\"1\" class=\"dataframe\">\n",
       "  <thead>\n",
       "    <tr style=\"text-align: right;\">\n",
       "      <th></th>\n",
       "      <th>group</th>\n",
       "      <th>ELV</th>\n",
       "    </tr>\n",
       "  </thead>\n",
       "  <tbody>\n",
       "    <tr>\n",
       "      <th>0</th>\n",
       "      <td>S</td>\n",
       "      <td>923.87</td>\n",
       "    </tr>\n",
       "    <tr>\n",
       "      <th>1</th>\n",
       "      <td>S</td>\n",
       "      <td>751.38</td>\n",
       "    </tr>\n",
       "    <tr>\n",
       "      <th>2</th>\n",
       "      <td>S</td>\n",
       "      <td>432.83</td>\n",
       "    </tr>\n",
       "    <tr>\n",
       "      <th>3</th>\n",
       "      <td>S</td>\n",
       "      <td>1417.36</td>\n",
       "    </tr>\n",
       "    <tr>\n",
       "      <th>4</th>\n",
       "      <td>NS</td>\n",
       "      <td>973.24</td>\n",
       "    </tr>\n",
       "    <tr>\n",
       "      <th>...</th>\n",
       "      <td>...</td>\n",
       "      <td>...</td>\n",
       "    </tr>\n",
       "    <tr>\n",
       "      <th>56</th>\n",
       "      <td>S</td>\n",
       "      <td>931.61</td>\n",
       "    </tr>\n",
       "    <tr>\n",
       "      <th>57</th>\n",
       "      <td>S</td>\n",
       "      <td>1329.68</td>\n",
       "    </tr>\n",
       "    <tr>\n",
       "      <th>58</th>\n",
       "      <td>NS</td>\n",
       "      <td>1293.03</td>\n",
       "    </tr>\n",
       "    <tr>\n",
       "      <th>59</th>\n",
       "      <td>NS</td>\n",
       "      <td>1240.44</td>\n",
       "    </tr>\n",
       "    <tr>\n",
       "      <th>60</th>\n",
       "      <td>NS</td>\n",
       "      <td>1105.59</td>\n",
       "    </tr>\n",
       "  </tbody>\n",
       "</table>\n",
       "<p>61 rows × 2 columns</p>\n",
       "</div>"
      ],
      "text/plain": [
       "   group      ELV\n",
       "0      S   923.87\n",
       "1      S   751.38\n",
       "2      S   432.83\n",
       "3      S  1417.36\n",
       "4     NS   973.24\n",
       "..   ...      ...\n",
       "56     S   931.61\n",
       "57     S  1329.68\n",
       "58    NS  1293.03\n",
       "59    NS  1240.44\n",
       "60    NS  1105.59\n",
       "\n",
       "[61 rows x 2 columns]"
      ]
     },
     "execution_count": 30,
     "metadata": {},
     "output_type": "execute_result"
    }
   ],
   "source": [
    "def resample_under_H0(sample, groupcol=\"group\"):\n",
    "    \"\"\"\n",
    "    Return a copy of the dataframe `sample` with the labels in the column `groupcol`\n",
    "    modified based on a random permutation of the values in the original sample.\n",
    "    \"\"\"\n",
    "    resample = sample.copy()\n",
    "    labels = sample[groupcol].values\n",
    "    newlabels = np.random.permutation(labels)\n",
    "    resample[groupcol] = newlabels\n",
    "    return resample\n",
    "\n",
    "resample_under_H0(data)"
   ]
  },
  {
   "cell_type": "code",
   "execution_count": 31,
   "id": "15d68abc-95c5-46cd-89f8-07bb34333c89",
   "metadata": {},
   "outputs": [
    {
     "data": {
      "text/plain": [
       "-18.78480645161312"
      ]
     },
     "execution_count": 31,
     "metadata": {},
     "output_type": "execute_result"
    }
   ],
   "source": [
    "# resample\n",
    "resample = resample_under_H0(data)\n",
    "\n",
    "# compute the difference in means for the new labels\n",
    "dmeans(resample)"
   ]
  },
  {
   "cell_type": "markdown",
   "id": "5b1967e9-bc61-4e00-b5d5-f845378cec5c",
   "metadata": {},
   "source": [
    "The function `resample_under_H0` gives us a way to generate samples from the null hypothesis.\n",
    "We can then compute the value of the `dmeans` statistic for these samples. We used the assumption of \"no difference\" under the null hypothesis, and translated this to the \"forget the labels\" interpretation."
   ]
  },
  {
   "cell_type": "markdown",
   "id": "8f5061f5-1500-471e-ab9e-e38b12fa93dd",
   "metadata": {},
   "source": [
    "#### Running a permutation test\n",
    "\n",
    "We can repeat the resampling procedure `10000` times to get the sampling distribution of $D$ under $H_0$,\n",
    "as illustrated in the code procedure below."
   ]
  },
  {
   "cell_type": "code",
   "execution_count": 32,
   "id": "8664cbdd-5a06-4d1b-af79-55170653dc24",
   "metadata": {},
   "outputs": [],
   "source": [
    "def permutation_test(sample, statfunc, groupcol=\"group\", permutations=10000):\n",
    "    \"\"\"\n",
    "    Compute the p-value of the observed `statfunc(sample)` under the null hypothesis\n",
    "    where the labels in the `groupcol` are randomized.\n",
    "    \"\"\"\n",
    "    # 1. compute the observed value of the statistic for the sample\n",
    "    obsstat = statfunc(sample)\n",
    "\n",
    "    # 2. generate the sampling distr. under H0\n",
    "    restats = []\n",
    "    for i in range(0, permutations):\n",
    "        resample = resample_under_H0(sample, groupcol=groupcol)\n",
    "        restat = statfunc(resample)\n",
    "        restats.append(restat)\n",
    "\n",
    "    # 3. compute p-value: how many `restat`s are equal-or-more-extreme than `obsstat`\n",
    "    tailstats = [restat for restat in restats \\\n",
    "                 if restat <= -abs(obsstat) or restat >= abs(obsstat)]\n",
    "    pvalue = len(tailstats) / len(restats)\n",
    "\n",
    "    return restats, pvalue\n",
    "\n",
    "\n",
    "sampling_dist, pvalue = permutation_test(data, statfunc=dmeans)"
   ]
  },
  {
   "cell_type": "code",
   "execution_count": 33,
   "id": "c57b0304-8e23-4aac-a800-b5c160b7c456",
   "metadata": {},
   "outputs": [
    {
     "data": {
      "image/png": "[encoded data removed]",
      "text/plain": [
       "<Figure size 504x288 with 1 Axes>"
      ]
     },
     "metadata": {
      "image/png": {
       "height": 249,
       "width": 441
      }
     },
     "output_type": "display_data"
    }
   ],
   "source": [
    "# plot the sampling distribution in blue\n",
    "sns.histplot(sampling_dist, bins=200)\n",
    "\n",
    "# plot red line for the observed statistic\n",
    "obsstat = dmeans(data)\n",
    "plt.axvline(obsstat, color='r')\n",
    "\n",
    "# plot the values that are equal or more extreme in red\n",
    "tailstats = [rs for rs in sampling_dist if rs <= -obsstat or rs >= obsstat]\n",
    "_ = sns.histplot(tailstats, bins=200, color=\"red\")"
   ]
  },
  {
   "cell_type": "markdown",
   "id": "f3959ab7-b869-4a36-b7b1-0c09830e381b",
   "metadata": {},
   "source": [
    "- Once we have the sampling distribution of `D` under $H_0$,\n",
    "  we can see where the observed value $d=130$\n",
    "  falls within this distribution.\n",
    "- p-value: the probability of observing value $d=130$ or more extreme under the null hypothesis"
   ]
  },
  {
   "cell_type": "code",
   "execution_count": 34,
   "id": "e0e2cff3-c6d7-4611-ab1e-23094cbe4f85",
   "metadata": {},
   "outputs": [
    {
     "data": {
      "text/plain": [
       "0.0438"
      ]
     },
     "execution_count": 34,
     "metadata": {},
     "output_type": "execute_result"
    }
   ],
   "source": [
    "pvalue"
   ]
  },
  {
   "cell_type": "markdown",
   "id": "a1f37351-64a5-4fc5-ad2c-d0c565885f26",
   "metadata": {},
   "source": [
    "We can now make the decision based on the $p$-value and a pre-determined threshold:\n",
    "\n",
    "- If the observed value $d$ is unlikely under $H_0$ ($p$-value less than 5% chance of occurring),\n",
    "  then our decision will be to \"reject the null hypothesis.\"\n",
    "- Otherwise, if the observed value $d$ is not that unusual ($p$-value greater than 5%),\n",
    "  we conclude that we have \"failed to reject the null hypothesis.\""
   ]
  },
  {
   "cell_type": "code",
   "execution_count": 35,
   "id": "fc57009c-1b91-4a11-894c-46f46eee432a",
   "metadata": {},
   "outputs": [
    {
     "name": "stdout",
     "output_type": "stream",
     "text": [
      "DECISION: Reject H0 ( p-value = 0.0438 )\n",
      "There is a statistically significant difference between xS and xNS\n"
     ]
    }
   ],
   "source": [
    "if pvalue < 0.05:\n",
    "    print(\"DECISION: Reject H0\", \"( p-value =\", pvalue, \")\")\n",
    "    print(\"There is a statistically significant difference between xS and xNS\")\n",
    "else:\n",
    "    print(\"DECISION: Fail to reject H0\")\n",
    "    print(\"The difference between groups means could have occurred by chance\")    "
   ]
  },
  {
   "cell_type": "markdown",
   "id": "00628f76-ee02-44e7-8d26-e3ba45d53995",
   "metadata": {
    "tags": []
   },
   "source": [
    "#### Permutations test using SciPy"
   ]
  },
  {
   "cell_type": "markdown",
   "id": "54a7c28d-1a0b-4c88-9f8a-b06a39090eaf",
   "metadata": {
    "tags": []
   },
   "source": [
    "The above code was given only for educational purposes.\n",
    "In practice, you can use the SciPy implementation of permutation test,\n",
    "by calling `ttest_ind(..., permutations=10000)` to perform a permutation test, then obtain the $p$-value."
   ]
  },
  {
   "cell_type": "code",
   "execution_count": 36,
   "id": "b37754d7-764e-4a84-80cb-9e5426b9bb1d",
   "metadata": {},
   "outputs": [
    {
     "data": {
      "text/plain": [
       "0.0459"
      ]
     },
     "execution_count": 36,
     "metadata": {},
     "output_type": "execute_result"
    }
   ],
   "source": [
    "from scipy.stats import ttest_ind\n",
    "\n",
    "xS = data[data[\"group\"]==\"S\"][\"ELV\"]\n",
    "xNS = data[data[\"group\"]==\"NS\"][\"ELV\"]\n",
    "\n",
    "ttest_ind(xS, xNS, permutations=10000).pvalue"
   ]
  },
  {
   "cell_type": "markdown",
   "id": "d9226027-41f5-4f08-bf46-503534a25f62",
   "metadata": {},
   "source": [
    "Note the $p$-value we obtained form the two methods is slightly different:\n",
    "this is going to be the case for all resampling methods and simulations,\n",
    "since use randomness as part of the calculation."
   ]
  },
  {
   "cell_type": "markdown",
   "id": "e0c52c15-19c0-4759-b6f1-0081d845799c",
   "metadata": {
    "tags": []
   },
   "source": [
    "#### Discussion\n",
    "\n",
    "  - The procedure we used is called a **permutations test** for comparison of group means.\n",
    "  - The permutation test takes it's name from the action of mixing up the group-membership labels\n",
    "    and computing a statistic which is a way to generate samples from the null hypothesis\n",
    "    in situations where we're comparing two groups.\n",
    "  - Permutation tests are very versatile since we can use them for any estimator $g(\\mathbf{x})$.\n",
    "    For example, we could have used difference in medians by specifying the `median` as the input `statfunc`.\n"
   ]
  },
  {
   "cell_type": "code",
   "execution_count": null,
   "id": "3b7c90fe-291a-4055-a187-c9d8f62471a5",
   "metadata": {},
   "outputs": [],
   "source": []
  },
  {
   "cell_type": "code",
   "execution_count": null,
   "id": "f0d8eb73-eac2-4e27-b69a-54833f7d4ef4",
   "metadata": {},
   "outputs": [],
   "source": []
  },
  {
   "cell_type": "markdown",
   "id": "1a94f7f7-b518-4a00-ac0f-aebc6d3363d2",
   "metadata": {},
   "source": [
    "### Summary of Question 1\n",
    "\n",
    "We saw two ways to answer Question 1 (is there really a difference between group means) and obtain the $p$-value.\n",
    "We interpreted the small $p$-values as evidence that the observed difference, $d=130$, is unlikely to be due to chance under $H_0$, so we rejected the null hypothesis.\n",
    "Note this whole procedure is just a sanity check—we haven't touched the alternative hypothesis at all yet,\n",
    "and for all we know the stats training could have the effect of decreasing ELV!\n"
   ]
  },
  {
   "cell_type": "markdown",
   "id": "272e9b8e-0623-4f49-87a3-d6e47f5a24fa",
   "metadata": {},
   "source": [
    " \n",
    "____"
   ]
  },
  {
   "cell_type": "markdown",
   "id": "41fe7cf9-a7c4-4505-b8f9-be7dc57d6263",
   "metadata": {},
   "source": [
    "It's time to study Question 2, which is to estimate the *magnitude* of the change in ELV obtained from completing the stats training. We call this the *effect size* in statistics."
   ]
  },
  {
   "cell_type": "markdown",
   "id": "b0431e44-cfa6-44be-8b35-cc13c282c55e",
   "metadata": {},
   "source": [
    " "
   ]
  },
  {
   "cell_type": "markdown",
   "id": "22eb8140-ea79-4316-a217-fbbab242dea3",
   "metadata": {},
   "source": [
    "## Estimating the effect size\n",
    "\n",
    "- Question 2 of Amy's statistical investigation is to estimate the difference in ELV gained by stats training.\n",
    "- NEW CONCEPT: **effect size** is a measure of difference between intervention and control groups.\n",
    "- We assume the data of **Group S** and **Group NS** come from different populations with means $\\mu_S$ and $\\mu_{NS}$.\n",
    "- We're interested in estimating the difference between population means, denoted $\\Delta = \\mu_S - \\mu_{NS}$.\n",
    "- By analyzing the sample, we have obtained an estimate $d=130$ for the unknown $\\Delta$,\n",
    "  but we know our data contains lots of variability, so we know our estimate might be off.\n",
    "- We want an answer to Question 2 (What is the estimated difference between group means?)\n",
    "  that takes into account the variability of the data.\n",
    "- NEW CONCEPT: **confidence interval** is a way to describe a range of values for an estimate\n",
    "  that takes into account the variability of the data.\n",
    "- We want to provide an answer to Question 2 in the form of a confidence interval that tells\n",
    "  us a range of values where we believe the true value of $\\Delta$ falls.\n",
    "- Similar to how we showed two approaches for hypothesis testing,\n",
    "  we'll work on effect size estimation using two approaches: bootstrap estimation and analytical approximation methods.\n"
   ]
  },
  {
   "cell_type": "markdown",
   "id": "d75a1210-0e02-42f3-9243-41cd16816443",
   "metadata": {},
   "source": [
    " "
   ]
  },
  {
   "cell_type": "markdown",
   "id": "84f7a224-e8c0-456c-86bb-4d0ac456b954",
   "metadata": {},
   "source": [
    "### Approach 1: Confidence intervals using bootstrap estimation\n",
    "\n",
    "- We want to estimate the distribution of ELV values for the two groups,\n",
    "  and compute the difference between the means of these distributions.\n",
    "- Distributions:\n",
    "  - Real sampling distributions: obtained by repeated sampling from the populations\n",
    "  - Bootstrap sampling distributions: resampling data from the samples we have (with replacement)\n",
    "- Intuition: treat the samples as if they were the population\n",
    "- We'll compute $B=5000$ bootstrap samples from the two groups and compute the differences.\n",
    "  We'll then look at the distribution of the bootstrap sample differences to obtain\n",
    "  the confidence interval for the difference between population means $CI_{\\Delta}$."
   ]
  },
  {
   "cell_type": "code",
   "execution_count": 37,
   "id": "570fe598-0d2a-4010-b1e5-644c2c3f8cac",
   "metadata": {},
   "outputs": [],
   "source": [
    "def bootstrap_stat(sample, statfunc, B=5000):\n",
    "    \"\"\"\n",
    "    Compute the bootstrap estimate of the function `statfunc`\n",
    "    from the data in `sample`.\n",
    "    \"\"\"\n",
    "    n = len(sample)\n",
    "    bstats = []\n",
    "    for i in range(0, B):\n",
    "        bsample = np.random.choice(sample, n)\n",
    "        bstat = statfunc(bsample)\n",
    "        bstats.append(bstat)\n",
    "    return bstats"
   ]
  },
  {
   "cell_type": "code",
   "execution_count": 38,
   "id": "1cf143e1-058d-4e41-be56-d057e29251b4",
   "metadata": {},
   "outputs": [
    {
     "data": {
      "text/plain": [
       "<AxesSubplot:ylabel='Count'>"
      ]
     },
     "execution_count": 38,
     "metadata": {},
     "output_type": "execute_result"
    },
    {
     "data": {
      "image/png": "[encoded data removed]",
      "text/plain": [
       "<Figure size 504x288 with 1 Axes>"
      ]
     },
     "metadata": {
      "image/png": {
       "height": 249,
       "width": 440
      }
     },
     "output_type": "display_data"
    }
   ],
   "source": [
    "from statistics import mean\n",
    "\n",
    "# load data for two groups\n",
    "data = pd.read_csv('../stats_overview/data/employee_lifetime_values.csv')\n",
    "xS = data[data[\"group\"]==\"S\"]['ELV']\n",
    "xNS = data[data[\"group\"]==\"NS\"]['ELV']\n",
    "\n",
    "# compute bootstrap estimates for mean in each group\n",
    "meanS_bstats = bootstrap_stat(xS, statfunc=mean)\n",
    "meanNS_bstats = bootstrap_stat(xNS, statfunc=mean)\n",
    "\n",
    "# compute the difference between means from bootstrap samples\n",
    "dmeans_bstats = []\n",
    "for bmeanS, bmeanNS in zip(meanS_bstats, meanNS_bstats):\n",
    "    d = bmeanS - bmeanNS \n",
    "    dmeans_bstats.append(d)\n",
    "\n",
    "sns.histplot(dmeans_bstats)"
   ]
  },
  {
   "cell_type": "code",
   "execution_count": 39,
   "id": "ccbd486b-21c9-4c31-b1d2-8c58b2b5a982",
   "metadata": {},
   "outputs": [
    {
     "data": {
      "text/plain": [
       "[23.000091397849218, 233.0627268817204]"
      ]
     },
     "execution_count": 39,
     "metadata": {},
     "output_type": "execute_result"
    }
   ],
   "source": [
    "# 90% confidence interval for the difference in means\n",
    "CI_boot = [np.percentile(dmeans_bstats, 5),\n",
    "           np.percentile(dmeans_bstats, 95)]\n",
    "CI_boot"
   ]
  },
  {
   "cell_type": "markdown",
   "id": "bfc9463a-be54-4a52-a316-550275894827",
   "metadata": {},
   "source": [
    "The 90% confidence interval `CI_boot` describes an interval of numbers\n",
    "that should contain the difference between group means $\\Delta$ at least 90\\% of the time:\n",
    "$$\n",
    "    \\textrm{Pr}_{R}\\big(\\{ \\Delta \\in \\textrm{CI}_{\\Delta} \\}\\big) \\geq 0.9.\n",
    "$$\n",
    "This is a little weird:\n",
    "in any given experiment,\n",
    "the unknown difference between groups $\\Delta$ either *is* or *isn't* in the interval $\\textrm{CI}_{\\Delta}$,\n",
    "so what is 90\\% probability referring to?\n",
    "The randomness $R$ describes repeated experiments using the same calculation procedure for calculating the confidence interval.\n",
    "So it is not a guarantee on any particular estimate,\n",
    "but reliability of the procedure in the long term.\n",
    "This is the *frequentist statistics* paradigm,\n",
    "in which \"quality guarantees\" are given about the procedure used to obtain the estimates,\n",
    "and not about particular outcomes of the procedure."
   ]
  },
  {
   "cell_type": "markdown",
   "id": "c549e323-1b68-4533-89e4-966dfc50e115",
   "metadata": {
    "tags": []
   },
   "source": [
    "#### SciPy bootstrap method"
   ]
  },
  {
   "cell_type": "code",
   "execution_count": 40,
   "id": "864ff446-cd2d-401e-8fe6-6f3029a2be4b",
   "metadata": {},
   "outputs": [
    {
     "data": {
      "text/plain": [
       "[26.959781720430346, 232.7994720430106]"
      ]
     },
     "execution_count": 40,
     "metadata": {},
     "output_type": "execute_result"
    }
   ],
   "source": [
    "from scipy.stats import bootstrap\n",
    "\n",
    "def dmeans2(sample1, sample2):\n",
    "    return np.mean(sample1) - np.mean(sample2)\n",
    "\n",
    "res = bootstrap((xS, xNS), statistic=dmeans2, vectorized=False,\n",
    "                confidence_level=0.9, n_resamples=5000, method='percentile')\n",
    "\n",
    "CI_boot2 = [res.confidence_interval.low, res.confidence_interval.high]\n",
    "CI_boot2"
   ]
  },
  {
   "cell_type": "code",
   "execution_count": null,
   "id": "2f5ba10a-6d99-4473-9a99-944045d0389e",
   "metadata": {},
   "outputs": [],
   "source": []
  },
  {
   "cell_type": "code",
   "execution_count": null,
   "id": "8c98a20e-2548-4cc0-b527-dc7c51aa7aef",
   "metadata": {},
   "outputs": [],
   "source": []
  },
  {
   "cell_type": "markdown",
   "id": "9217a788-735e-4390-b23d-ede8f071de33",
   "metadata": {},
   "source": [
    "## Conclusion of Amy's statistical analysis\n",
    "\n",
    "Recall the two research questions that Amy set out to answer in the beginning of this video series:\n",
    "\n",
    "- Question 1: Is there a difference between the means in the two groups?\n",
    "- Question 2: How much does statistics training improve the ELV of employees?\n",
    "\n",
    "The statistical analysis we did allows us to answer these two questions as follows:\n",
    "\n",
    "- Answer 1: There is a statistically significant difference between Group S and Group NS, $p = 0.048$.\n",
    "- Answer 2: The estimated improvement in ELV is 130 points, which is corresponds to Cohen's d value of $0.52$ (medium effect size). A 90% confidence interval for the true effect size is $[28.4, 237.6]$.\n",
    "\n",
    "Note: we reported the numerical results obtained from resampling methods (Approach 1), but conclusions would be qualitatively the same if we reported results obtained from analytical approximations (Approach 2)."
   ]
  },
  {
   "cell_type": "markdown",
   "id": "3b86fa03-5977-4707-915d-f1e49462504a",
   "metadata": {},
   "source": [
    "### Using statistics for convincing others\n",
    "\n",
    "You may be wondering if all this probabilistic modelling and complicated statistical analysis was worth it to reach a conclusion that seems obvious in retrospect. Was all this work worth it? The purpose of all this work is to obtains something close to an objective conclusion. Without statistics it is very easy to fool ourselves and interpret patterns in data the way we want to, or alternatively, not see patterns that are present. By following the standard statistical procedures, we're less likely to fool ourselves, and more likely to be able to convince others.\n",
    "\n",
    "It can be very useful to imagine Amy explaining the results to a skeptical colleague. Suppose the colleague is very much against the idea of statistical training, and sees it as a distraction, saying things like \"We hire employees to do a job, not to play with Python.\" and \"I don't know any statistics and I'm doing my job just fine!\" You get the picture.\n",
    "\n",
    "Imagine Amy presenting her findings about how 100 hours of statistical training improves employee lifetime value (ELV) results after one year, and suggesting the statistical training be implemented for all new hires from now on. The skeptical colleague immediately rejects the idea and questions Amy's recommendation using emotional appeals about necessity, time wasting, and how statistics is a specialty topic that is not required for all employees. Instead of arguing based on opinions and emotions with her colleague, Amy explains her recommendation is based on a statistical experiment she conducted, and shows the results:\n",
    "\n",
    "- When the colleague asks if the observed difference could be due to chance, Amy says that this is unlikely, and quotes the $p$-value of 0.048 (less than 0.05), and interprets the result as saying the probability of the observed difference between **Group S** and **Group NS** being due to chance is less than 5%.\n",
    "\n",
    "- The skeptical colleague is forced to concede that statistical training does improve ELV, but then asks about the effect size of the improvement: \"How much more ELV can we expect if we provide statistics training?\" Amy is ready to answer quoting the observed difference of $130$ ELV points, and further specifies the 90% confidence interval of $[28.4, 237.6]$ for the improvement, meaning in the worst case there is 28 ELV points improvement.\n",
    "\n",
    "The skeptic is forced to back down from their objections, and the \"stats training for all\" program is adopted in the company. Not only was Amy able to win the argument using statistics, but she was also able to set appropriate expectations for the results. In other words, she hasn't promised a guaranteed +130 ELV improvement, but a realistic range of values that can be expected."
   ]
  },
  {
   "cell_type": "markdown",
   "id": "9187c894-b1b2-4829-a387-3b1ab30cc90b",
   "metadata": {},
   "source": [
    "## Explanations"
   ]
  },
  {
   "cell_type": "markdown",
   "id": "d7309563-e353-4769-8024-116e3241af4e",
   "metadata": {},
   "source": [
    "### One-sided and two-sided tests"
   ]
  },
  {
   "cell_type": "code",
   "execution_count": 41,
   "id": "65265995-047e-48a3-a01b-802bdfb3ffdd",
   "metadata": {},
   "outputs": [
    {
     "data": {
      "image/png": "[encoded data removed]",
      "text/plain": [
       "<Figure size 504x288 with 1 Axes>"
      ]
     },
     "metadata": {
      "image/png": {
       "height": 249,
       "width": 441
      }
     },
     "output_type": "display_data"
    }
   ],
   "source": [
    "# plot the sampling distribution in blue\n",
    "sns.histplot(sampling_dist, bins=200)\n",
    "\n",
    "# plot red line for the observed statistic\n",
    "obsstat = dmeans(data)\n",
    "plt.axvline(obsstat, color='r')\n",
    "\n",
    "# plot the values that are equal or more extreme in red\n",
    "tailstats = [rs for rs in sampling_dist if rs <= -obsstat or rs >= obsstat]\n",
    "_ = sns.histplot(tailstats, bins=200, color=\"red\")"
   ]
  },
  {
   "cell_type": "code",
   "execution_count": 42,
   "id": "5c3c26b9-46f0-4935-a6e1-19efa5650d25",
   "metadata": {},
   "outputs": [
    {
     "name": "stdout",
     "output_type": "stream",
     "text": [
      "Saved figure to figures/stats/NHST/panel_hist_p-values_left_twotailed_right_tests.pdf\n",
      "Saved figure to figures/stats/NHST/panel_hist_p-values_left_twotailed_right_tests.png\n"
     ]
    },
    {
     "data": {
      "image/png": "[encoded data removed]",
      "text/plain": [
       "<Figure size 504x144 with 3 Axes>"
      ]
     },
     "metadata": {
      "image/png": {
       "height": 132,
       "width": 497
      }
     },
     "output_type": "display_data"
    }
   ],
   "source": [
    "filename = os.path.join(DESTDIR, \"panel_hist_p-values_left_twotailed_right_tests.pdf\")\n",
    "    \n",
    "from scipy.stats import t as tdist\n",
    "rvT = tdist(9)\n",
    "\n",
    "xs = np.linspace(-4, 4, 1000)\n",
    "ys = rvT.pdf(xs)\n",
    "\n",
    "N = 100000\n",
    "np.random.seed(42)\n",
    "ts = rvT.rvs(N)\n",
    "\n",
    "bins = np.linspace(-4, 4, 100+1)\n",
    "\n",
    "with plt.rc_context({\"figure.figsize\":(7,2)}), sns.axes_style(\"ticks\"):\n",
    "    fig, (ax1, ax2, ax3) = plt.subplots(1, 3, sharey=True)\n",
    "\n",
    "    # LEFT\n",
    "    title = '(a) left-tailed test'\n",
    "    ax1.set_title(title, fontsize=13)\n",
    "    sns.histplot(ts, ax=ax1, bins=bins)\n",
    "    \n",
    "    ax1.set_xlim(-4, 4)\n",
    "    ax1.set_xticks([-2])\n",
    "    ax1.set_xticklabels([])\n",
    "    ax1.set_yticks([])\n",
    "    ax1.set_ylabel(\"\")\n",
    "    # highlight the left tail\n",
    "    tailstats1 = [t for t in ts if t <= -2]\n",
    "    sns.histplot(tailstats1, bins=bins, ax=ax1, color=\"red\")\n",
    "    ax1.text(-2, -200, r\"$\\hat{\\theta}_{\\mathbf{x}}$\", va=\"top\", ha=\"center\")\n",
    "\n",
    "\n",
    "    # TWO-TAILED\n",
    "    title = '(b) two-tailed test'\n",
    "    ax2.set_title(title, fontsize=13)\n",
    "    sns.histplot(ts, ax=ax2, bins=bins)\n",
    "    ax2.set_xlim(-4, 4)\n",
    "    ax2.set_xticks([-2,2])\n",
    "    ax2.set_xticklabels([])\n",
    "    ax2.set_yticks([])\n",
    "    # highlight the left and right tails\n",
    "    tailstats2 = [t for t in ts if t <= -2 or t >= 2]\n",
    "    sns.histplot(tailstats2, bins=bins, ax=ax2, color=\"red\")\n",
    "    ax2.text(-2, -200, r\"$-|\\hat{\\theta}_{\\mathbf{x}}|$\", verticalalignment=\"top\", horizontalalignment=\"center\")\n",
    "    ax2.text(2, -200, r\"$|\\hat{\\theta}_{\\mathbf{x}}|$\", verticalalignment=\"top\", horizontalalignment=\"center\")\n",
    "\n",
    "\n",
    "    # RIGHT\n",
    "    title = '(c) right-tailed test'\n",
    "    ax3.set_title(title, fontsize=13)\n",
    "    sns.histplot(ts, ax=ax3, bins=bins)\n",
    "    ax3.set_xlim(-4, 4)\n",
    "    ax3.set_xticks([2])\n",
    "    ax3.set_xticklabels([])\n",
    "    ax3.set_yticks([])\n",
    "    # highlight the right tail\n",
    "    tailstats3 = [t for t in ts if t >= 2]\n",
    "    sns.histplot(tailstats3, bins=bins, ax=ax3, color=\"red\")\n",
    "    ax3.text(2, -200, \"$\\hat{\\\\theta}_{\\mathbf{x}}$\", verticalalignment=\"top\", horizontalalignment=\"center\")\n",
    "\n",
    "savefigure(fig, filename)"
   ]
  },
  {
   "cell_type": "code",
   "execution_count": null,
   "id": "f3c05792-d65c-401e-990e-1cb89d04f9f6",
   "metadata": {},
   "outputs": [],
   "source": []
  },
  {
   "cell_type": "markdown",
   "id": "a9ece5cc-8485-48da-84ba-476a0c1cbc8c",
   "metadata": {},
   "source": [
    "## Discussion"
   ]
  },
  {
   "cell_type": "markdown",
   "id": "b3f3c1a2-76e8-4a6a-8877-da05c086ca59",
   "metadata": {},
   "source": [
    " "
   ]
  },
  {
   "cell_type": "markdown",
   "id": "7a38ab7b-aba7-4f85-97ab-353c37a2f48b",
   "metadata": {},
   "source": [
    " \n",
    " "
   ]
  }
 ],
 "metadata": {
  "kernelspec": {
   "display_name": "Python 3 (ipykernel)",
   "language": "python",
   "name": "python3"
  },
  "language_info": {
   "codemirror_mode": {
    "name": "ipython",
    "version": 3
   },
   "file_extension": ".py",
   "mimetype": "text/x-python",
   "name": "python",
   "nbconvert_exporter": "python",
   "pygments_lexer": "ipython3",
   "version": "3.9.4"
  }
 },
 "nbformat": 4,
 "nbformat_minor": 5
}
