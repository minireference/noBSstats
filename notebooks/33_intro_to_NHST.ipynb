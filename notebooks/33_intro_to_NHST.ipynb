{
 "cells": [
  {
   "cell_type": "markdown",
   "id": "b73f3d18-88c7-499d-90a3-dd6954247cf3",
   "metadata": {
    "tags": []
   },
   "source": [
    "# Section 3.3 — Introduction to hypothesis testing\n",
    "\n",
    "This notebook contains the code examples from [Section 3.3 Introduction to hypothesis testing]() of the **No Bullshit Guide to Statistics**."
   ]
  },
  {
   "cell_type": "markdown",
   "id": "efce8e91-8824-4103-a526-02e23c794668",
   "metadata": {
    "tags": []
   },
   "source": [
    "#### Notebook setup"
   ]
  },
  {
   "cell_type": "code",
   "execution_count": 1,
   "id": "990de07d-c26f-4a29-935a-2b1dacc89b34",
   "metadata": {},
   "outputs": [],
   "source": [
    "# load Python modules\n",
    "import os\n",
    "import numpy as np\n",
    "import pandas as pd\n",
    "import seaborn as sns\n",
    "import matplotlib.pyplot as plt"
   ]
  },
  {
   "cell_type": "code",
   "execution_count": 2,
   "id": "2ae5e519-3e7b-4218-aebd-bbb7790783cd",
   "metadata": {},
   "outputs": [],
   "source": [
    "# Plot helper functions\n",
    "from plot_helpers import nicebins\n",
    "from plot_helpers import plot_pdf\n",
    "from plot_helpers import savefigure\n"
   ]
  },
  {
   "cell_type": "code",
   "execution_count": 3,
   "id": "3209c5be-cb6a-42c0-8bf8-949a4fc0ff39",
   "metadata": {},
   "outputs": [
    {
     "data": {
      "text/plain": [
       "<Figure size 640x480 with 0 Axes>"
      ]
     },
     "metadata": {},
     "output_type": "display_data"
    }
   ],
   "source": [
    "# Figures setup\n",
    "plt.clf()  # needed otherwise `sns.set_theme` doesn't work\n",
    "from plot_helpers import RCPARAMS\n",
    "# RCPARAMS.update({'figure.figsize': (10, 3)})   # good for screen\n",
    "RCPARAMS.update({'figure.figsize': (5, 1.6)})  # good for print\n",
    "sns.set_theme(\n",
    "    context=\"paper\",\n",
    "    style=\"whitegrid\",\n",
    "    palette=\"colorblind\",\n",
    "    rc=RCPARAMS,\n",
    ")\n",
    "\n",
    "# Useful colors\n",
    "snspal = sns.color_palette()\n",
    "blue, orange, purple = snspal[0], snspal[1], snspal[4]\n",
    "# red = sns.color_palette(\"tab10\")[3]\n",
    "\n",
    "# High-resolution please\n",
    "%config InlineBackend.figure_format = 'retina'\n",
    "\n",
    "# Where to store figures\n",
    "DESTDIR = \"figures/stats/intro_to_NHST\""
   ]
  },
  {
   "cell_type": "code",
   "execution_count": 4,
   "id": "df22d8d7-6814-4c3b-a3d3-2f31ab6b2f3b",
   "metadata": {},
   "outputs": [],
   "source": [
    "# set random seed for repeatability\n",
    "np.random.seed(42)"
   ]
  },
  {
   "cell_type": "markdown",
   "id": "94d9cb52-34ec-416a-a883-850cf725f8a6",
   "metadata": {},
   "source": [
    "$\\def\\stderr#1{\\mathbf{se}_{#1}}$\n",
    "$\\def\\stderrhat#1{\\hat{\\mathbf{se}}_{#1}}$\n",
    "$\\newcommand{\\Mean}{\\textbf{Mean}}$\n",
    "$\\newcommand{\\Var}{\\textbf{Var}}$\n",
    "$\\newcommand{\\Std}{\\textbf{Std}}$\n",
    "$\\newcommand{\\Freq}{\\textbf{Freq}}$\n",
    "$\\newcommand{\\RelFreq}{\\textbf{RelFreq}}$\n",
    "$\\newcommand{\\DMeans}{\\textbf{DMeans}}$\n",
    "$\\newcommand{\\Prop}{\\textbf{Prop}}$\n",
    "$\\newcommand{\\DProps}{\\textbf{DProps}}$\n",
    "\n",
    "$$\n",
    "\\newcommand{\\CI}[1]{\\textbf{CI}_{#1}}\n",
    "\\newcommand{\\CIL}[1]{\\textbf{L}_{#1}}\n",
    "\\newcommand{\\CIU}[1]{\\textbf{U}_{#1}}\n",
    "\\newcommand{\\ci}[1]{\\textbf{ci}_{#1}}\n",
    "\\newcommand{\\cil}[1]{\\textbf{l}_{#1}}\n",
    "\\newcommand{\\ciu}[1]{\\textbf{u}_{#1}}\n",
    "$$\n",
    "\n",
    "\n",
    "(this cell contains the macro definitions like $\\stderr{\\overline{\\mathbf{x}}}$, $\\stderrhat{}$, $\\Mean$, ...)"
   ]
  },
  {
   "cell_type": "markdown",
   "id": "a4359b21-fcb5-41ac-b46b-b8dcc9abe182",
   "metadata": {},
   "source": [
    "## Definitions"
   ]
  },
  {
   "cell_type": "code",
   "execution_count": 5,
   "id": "213defaa-1e71-40aa-a6af-b9c73982f4bb",
   "metadata": {},
   "outputs": [],
   "source": [
    "def mean(sample):\n",
    "    return sum(sample) / len(sample)\n",
    "\n",
    "def var(sample):\n",
    "    xbar = mean(sample)\n",
    "    sumsqdevs = sum([(xi-xbar)**2 for xi in sample])\n",
    "    return sumsqdevs / (len(sample)-1)\n",
    "\n",
    "def std(sample):\n",
    "    s2 = var(sample)\n",
    "    return np.sqrt(s2)\n",
    "\n",
    "def dmeans(xsample, ysample):\n",
    "    dhat = mean(xsample) - mean(ysample)\n",
    "    return dhat"
   ]
  },
  {
   "cell_type": "markdown",
   "id": "a5ae790e-e7e5-4880-8c6f-72c101319403",
   "metadata": {},
   "source": [
    "### What is hypothesis testing?\n",
    "\n",
    "- An approach to formulating research questions as **yes-no decisions** and a **procedure for making these decisions**\n",
    "- Hypothesis testing is a standardized procedure for doing statistical analysis  \n",
    "  (also, using stats jargon makes everything look more convincing ;)\n",
    "- We formulate research question as two **competing hypotheses**:\n",
    "  - **Null hypothesis $H_0$** = no effect.  \n",
    "    In our example: \"no difference between means,\" which can be written as $\\color{red}{\\mu_S = \\mu_{NS} = \\mu_0}$,\n",
    "    means the probability models for the two groups have the same mean $\\mu_0$:\n",
    "    \n",
    "\n",
    "  - **Alternative hypothesis $H_A$** = an effect exists.\n",
    "    In our example: \"the means for Group S is different from the mean of Group NS\"\n",
    "    can be written as $\\color{blue}{\\mu_S} \\neq \\color{orange}{\\mu_{NS}}$.\n",
    "    The probability models for the two groups with different means are:\n",
    "\n",
    "\n",
    "- The purpose of hypothesis testing is to perform a basic sanity-check to show the difference between the group means\n",
    "  we observed ($d = \\overline{\\mathbf{x}}_{S} - \\overline{\\mathbf{x}}_{NS} = 130$) is **unlikely to have occurred by chance**.\n",
    "- NEW CONCEPT: the $p$-value is the probability of observing $d=130$ (or more extreme) under the null hypothesis."
   ]
  },
  {
   "cell_type": "code",
   "execution_count": null,
   "id": "0d488111-c67c-444f-bcf6-eff0a903dc7e",
   "metadata": {},
   "outputs": [],
   "source": []
  },
  {
   "cell_type": "markdown",
   "id": "ab433480-b256-427f-8ee2-922e2468abbb",
   "metadata": {},
   "source": [
    "## The logic of hypothesis testing"
   ]
  },
  {
   "cell_type": "markdown",
   "id": "c0bc59f3-afc8-4e54-b6e6-c6b5f731d9ba",
   "metadata": {},
   "source": [
    "### Overview of the hypothesis testing procedure\n",
    "\n",
    "Here is the high-level overview of the hypothesis testing procedure:\n",
    "- **inputs**: sample statistics computed from the observed data\n",
    "  (in our case the signal $\\overline{\\mathbf{x}}_S$, $\\overline{\\mathbf{x}}_{NS}$,\n",
    "   and our estimates of the noise $s^2_S$, and $s^2_{NS}$)\n",
    "- **outputs**: a decision that is one of: \"reject the null hypothesis\" or \"fail to reject the null hypothesis\"\n",
    "\n",
    "![hypothesis testing overview](./attachments/stats/hypothesis_testing_perm_test.png)\n",
    "\n",
    "\n",
    "We'll now look at two different approaches for computing the sampling distribution of\n",
    "the difference between group means statistic, $D = \\overline{\\mathbf{X}}_S - \\overline{\\mathbf{X}}_{NS}$:\n",
    "permutation tests and analytical approximations."
   ]
  },
  {
   "cell_type": "code",
   "execution_count": null,
   "id": "7c7306c4-e20d-4453-ba09-96babc7534b1",
   "metadata": {},
   "outputs": [],
   "source": []
  },
  {
   "cell_type": "markdown",
   "id": "ee8e5ae2-06a3-4eb2-a7e1-9a53e818dbef",
   "metadata": {
    "tags": []
   },
   "source": [
    "### Interpreting the result of a hypothesis test (optional)\n"
   ]
  },
  {
   "cell_type": "markdown",
   "id": "c0aa58b0-8428-42ef-823c-0fba093233bc",
   "metadata": {
    "tags": []
   },
   "source": [
    "\n",
    "- The implication of rejecting the null hypothesis (no difference) is that there must be a difference between the group means.\n",
    "  In other words, the average ELV (employee lifetime value) for employees who took the statistics training (**Group S**) is different form\n",
    "  the average ELV for employees who didn't take the statistics training (**Group NS**),\n",
    "  which is what Amy is trying to show.\n",
    "  - Note that rejecting null hypothesis ($H_0$) is not the same as \"proving\" the alternative hypothesis ($H_A$);\n",
    "    we have just shown that the data is unlikely under the null hypothesis,\n",
    "    so there must be *some* difference between the groups.\n",
    "    The conclusion is that it's worth looking for *some* alternative hypothesis.\n",
    "  - The alternative hypothesis we picked above, $\\mu_S \\neq \\mu_{NS}$, is just a placeholder,\n",
    "    that includes desirable effect: $\\mu_S > \\mu_{NS}$ (stats training improves ELV),\n",
    "    but also includes the opposite effect: $\\mu_S < \\mu_{NS}$ (stats training decreases ELV).\n",
    "  - Using statistics jargon, when we reject the hypothesis $H_0$ we say we've observed a \"statistically significant\" result,\n",
    "    which sounds a lot more impressive than it actually is.\n",
    "    The null hypothesis testing procedure is used to just rule out \"occurred by chance\" scenario,\n",
    "    which is a very basic sanity check.    \n",
    "- The implication of failing to reject the null hypothesis is that the observed difference\n",
    "  between means is \"not significant,\" meaning it could have occurred by chance,\n",
    "  so there is no need to search for an alternative hypothesis.\n",
    "  - Note that \"failing to reject\" is not the same as \"proving\" the null hypothesis.\n",
    "  - Note also that \"failing to reject $H_0$\" doesn't mean we reject $H_A$.\n",
    "    In fact, the alternative hypothesis didn't play any role in the calculations whatsoever.\n",
    "\n",
    "\n",
    "I know all this sounds super complicated and roundabout (an it is!),\n",
    "but you will get a hang of it with practice.\n",
    "Trust me, you need to know this shit.\n"
   ]
  },
  {
   "cell_type": "markdown",
   "id": "56293753-e42e-4b3c-9692-4b705e730852",
   "metadata": {},
   "source": [
    "#### Selecting the tails of a distribution\n",
    "\n",
    "The concept of statistics that are \"equal or more extreme than\" the observed statistic $\\hat{\\theta}=g(\\mathbf{x})$\n",
    "is essential to the logic of hypothesis testing.\n"
   ]
  },
  {
   "cell_type": "code",
   "execution_count": 6,
   "id": "dfd4db79-86ce-4587-b4fb-99325779d3c5",
   "metadata": {},
   "outputs": [],
   "source": [
    "#######################################################\n",
    "\n",
    "def tailvalues(values, obs, alt=\"two-sided\"):\n",
    "    \"\"\"\n",
    "    Select the subset of the elements in list `values` that\n",
    "    are equal or more extreme than the observed value `obs`.\n",
    "    \"\"\"\n",
    "    assert alt in [\"greater\", \"less\", \"two-sided\"]\n",
    "    values = np.array(values)\n",
    "    if alt == \"greater\":\n",
    "        tails = values[values >= obs]\n",
    "    elif alt == \"less\":\n",
    "        tails = values[values <= obs]\n",
    "    elif alt == \"two-sided\":\n",
    "        mean = np.mean(values)\n",
    "        dev = abs(mean - obs)\n",
    "        tails = values[abs(values-mean) >= dev]\n",
    "    return tails"
   ]
  },
  {
   "cell_type": "markdown",
   "id": "977e9b08-fd04-47bd-885e-7839cf6450df",
   "metadata": {},
   "source": [
    "#### Right tail of the distribution\n",
    "\n",
    "Given a list of observations from the sampling distribution `stats`,\n",
    "we want to select the observations that are equal to or larger than the observed statistic `obs`."
   ]
  },
  {
   "cell_type": "code",
   "execution_count": 7,
   "id": "45cd191b-2d3c-4db5-8c9a-60a66eb76c80",
   "metadata": {},
   "outputs": [
    {
     "data": {
      "text/plain": [
       "array([2, 3, 4, 5])"
      ]
     },
     "execution_count": 7,
     "metadata": {},
     "output_type": "execute_result"
    }
   ],
   "source": [
    "stats = [-5, -4, -3, -2, -1, 0, 1, 2, 3, 4, 5]\n",
    "obs = 2\n",
    "tailvalues(stats, obs, alt=\"greater\")"
   ]
  },
  {
   "cell_type": "markdown",
   "id": "316d3399-e1ff-45e6-8e67-e10244dda4de",
   "metadata": {},
   "source": [
    "#### Left tail of the distribution\n",
    "\n",
    "Given a list of observations from the sampling distribution `stats`,\n",
    "we want to select the observations that are equal to or less than the observed statistic `obs`."
   ]
  },
  {
   "cell_type": "code",
   "execution_count": 8,
   "id": "ffd6994c-fec5-45a7-940e-6d3a90c47ef6",
   "metadata": {},
   "outputs": [
    {
     "data": {
      "text/plain": [
       "array([-5, -4, -3])"
      ]
     },
     "execution_count": 8,
     "metadata": {},
     "output_type": "execute_result"
    }
   ],
   "source": [
    "obs = -3\n",
    "tailvalues(stats, -3, alt=\"less\")"
   ]
  },
  {
   "cell_type": "markdown",
   "id": "f00ebeca-4c02-4926-a5f1-393e5f3e209b",
   "metadata": {},
   "source": [
    "#### Both tails of the distribution\n",
    "\n",
    "We select the observations that are equal to or more extreme than the deviation\n",
    "of the observed statistic `obs`.\n",
    "This means all values that are greater than `|obs|` and less than `-|obs|`."
   ]
  },
  {
   "cell_type": "code",
   "execution_count": 9,
   "id": "db880654-a40d-41fd-921b-957de6295169",
   "metadata": {},
   "outputs": [
    {
     "data": {
      "text/plain": [
       "array([-5, -4,  4,  5])"
      ]
     },
     "execution_count": 9,
     "metadata": {},
     "output_type": "execute_result"
    }
   ],
   "source": [
    "obs = 4\n",
    "tailvalues(stats, obs, alt=\"two-sided\")"
   ]
  },
  {
   "cell_type": "code",
   "execution_count": null,
   "id": "0ef48242-6053-4645-ba50-907acd2c0540",
   "metadata": {},
   "outputs": [],
   "source": []
  },
  {
   "cell_type": "code",
   "execution_count": 10,
   "id": "5c3c26b9-46f0-4935-a6e1-19efa5650d25",
   "metadata": {},
   "outputs": [
    {
     "name": "stdout",
     "output_type": "stream",
     "text": [
      "Saved figure to figures/stats/intro_to_NHST/panel_hist_p-values_left_twotailed_right_tests.pdf\n",
      "Saved figure to figures/stats/intro_to_NHST/panel_hist_p-values_left_twotailed_right_tests.png\n"
     ]
    },
    {
     "data": {
      "image/png": "[encoded data removed]",
      "text/plain": [
       "<Figure size 700x200 with 3 Axes>"
      ]
     },
     "metadata": {
      "image/png": {
       "height": 188,
       "width": 689
      }
     },
     "output_type": "display_data"
    }
   ],
   "source": [
    "filename = os.path.join(DESTDIR, \"panel_hist_p-values_left_twotailed_right_tests.pdf\")\n",
    "    \n",
    "from scipy.stats import t as tdist\n",
    "rvT = tdist(9)\n",
    "\n",
    "xs = np.linspace(-4, 4, 1000)\n",
    "ys = rvT.pdf(xs)\n",
    "\n",
    "N = 100000\n",
    "np.random.seed(42)\n",
    "ts = rvT.rvs(N)\n",
    "\n",
    "bins = nicebins(xs, 2, nbins=50)\n",
    "\n",
    "with plt.rc_context({\"figure.figsize\":(7,2)}), sns.axes_style(\"ticks\"):\n",
    "    fig, (ax3, ax1, ax2) = plt.subplots(1, 3, sharey=True)\n",
    "    ax3.set_ylabel(\"$f_{\\widehat{\\Theta}_0}$\")\n",
    "\n",
    "    # RIGHT\n",
    "    title = '(a) right-tailed test'\n",
    "    ax3.set_title(title, fontsize=13)\n",
    "    sns.histplot(ts, ax=ax3, bins=bins)\n",
    "    ax3.set_xlim(-4, 4)\n",
    "    ax3.set_xticks([2])\n",
    "    ax3.set_xticklabels([])\n",
    "    ax3.set_yticks([])\n",
    "    # highlight the right tail\n",
    "    tailvalues3 = [t for t in ts if t >= 2]\n",
    "    sns.histplot(tailvalues3, bins=bins, ax=ax3, color=\"red\")\n",
    "    ax3.text(2, -300, \"$\\hat{\\\\theta}_{\\mathbf{x}}$\", verticalalignment=\"top\", horizontalalignment=\"center\")\n",
    "    \n",
    "    # LEFT\n",
    "    title = '(b) left-tailed test'\n",
    "    ax1.set_title(title, fontsize=13)\n",
    "    sns.histplot(ts, ax=ax1, bins=bins)\n",
    "    \n",
    "    ax1.set_xlim(-4, 4)\n",
    "    ax1.set_xticks([-2])\n",
    "    ax1.set_xticklabels([])\n",
    "    ax1.set_yticks([])\n",
    "    ax1.set_ylabel(\"\")\n",
    "    # highlight the left tail\n",
    "    tailvalues1 = tailvalues(ts, -2, alt=\"less\")\n",
    "    sns.histplot(tailvalues1, bins=bins, ax=ax1, color=\"red\")\n",
    "    ax1.text(-2, -300, r\"$\\hat{\\theta}_{\\mathbf{x}}$\", va=\"top\", ha=\"center\")\n",
    "\n",
    "    # TWO-TAILED\n",
    "    title = '(c) two-tailed test'\n",
    "    ax2.set_title(title, fontsize=13)\n",
    "    sns.histplot(ts, ax=ax2, bins=bins)\n",
    "    ax2.set_xlim(-4, 4)\n",
    "    ax2.set_xticks([-2,2])\n",
    "    ax2.set_xticklabels([])\n",
    "    ax2.set_yticks([])\n",
    "    # highlight the left and right tails\n",
    "    tailvalues2 = [t for t in ts if t <= -2 or t >= 2]\n",
    "    sns.histplot(tailvalues2, bins=bins, ax=ax2, color=\"red\")\n",
    "    ax2.text(-2, -300, r\"$-|\\hat{\\theta}_{\\mathbf{x}}|$\", verticalalignment=\"top\", horizontalalignment=\"center\")\n",
    "    ax2.text(2, -300, r\"$|\\hat{\\theta}_{\\mathbf{x}}|$\", verticalalignment=\"top\", horizontalalignment=\"center\")\n",
    "\n",
    "savefigure(fig, filename)"
   ]
  },
  {
   "cell_type": "code",
   "execution_count": 11,
   "id": "f6638c61-5bce-43eb-b5e2-4016313ccf68",
   "metadata": {},
   "outputs": [
    {
     "name": "stdout",
     "output_type": "stream",
     "text": [
      "Saved figure to figures/stats/intro_to_NHST/hist_p-value_right_tail_test.pdf\n",
      "Saved figure to figures/stats/intro_to_NHST/hist_p-value_right_tail_test.png\n"
     ]
    },
    {
     "data": {
      "image/png": "[encoded data removed]",
      "text/plain": [
       "<Figure size 500x160 with 1 Axes>"
      ]
     },
     "metadata": {
      "image/png": {
       "height": 149,
       "width": 489
      }
     },
     "output_type": "display_data"
    }
   ],
   "source": [
    "filename = os.path.join(DESTDIR, \"hist_p-value_right_tail_test.pdf\")\n",
    "\n",
    "from scipy.stats import t as tdist\n",
    "rvT = tdist(9)\n",
    "\n",
    "xs = np.linspace(-4, 4, 1000)\n",
    "ys = rvT.pdf(xs)\n",
    "\n",
    "N = 100000\n",
    "np.random.seed(42)\n",
    "ts = rvT.rvs(N)\n",
    "\n",
    "bins = nicebins(xs, 2, nbins=50)\n",
    "\n",
    "with sns.axes_style(\"ticks\"):\n",
    "    fig, ax = plt.subplots()\n",
    "    sns.histplot(ts, ax=ax, bins=bins)\n",
    "    ax.set_xlabel(\"$\\hat{d}$\")\n",
    "    ax.set_xlim(-4, 4)\n",
    "    ax.set_xticks([2])\n",
    "    ax.set_xticklabels([])\n",
    "    ax.set_yticks([])\n",
    "    ax.set_ylabel(\"$f_{\\widehat{D}_0}$\")\n",
    "    # highlight the right tail\n",
    "    tailvaluesa = [t for t in ts if t >= 2]\n",
    "    sns.histplot(tailvaluesa, bins=bins, ax=ax, color=\"red\")\n",
    "    ax.text(2, -300, \"$\\hat{d}_{\\mathbf{x},\\mathbf{y}}$\", verticalalignment=\"top\", horizontalalignment=\"center\")\n",
    "    plt.axvline(2, color=\"red\")\n",
    "\n",
    "savefigure(fig, filename)"
   ]
  },
  {
   "cell_type": "code",
   "execution_count": null,
   "id": "f48e0ae7-89ad-42e7-8838-994207f49919",
   "metadata": {},
   "outputs": [],
   "source": []
  },
  {
   "cell_type": "markdown",
   "id": "b564c332-fc9c-4adc-922f-d52e377d5cf8",
   "metadata": {},
   "source": [
    "### Effect size estimates\n",
    "\n",
    "EDITME\n",
    "\n",
    "It's time to study Question 2, which is to estimate the *magnitude* of the change in ELV obtained from completing the stats training. We call this the *effect size* in statistics.\n",
    "\n",
    "**effect size** is a measure of difference between intervention and control groups.\n",
    "\n",
    "We want an answer to Question 2 (What is the estimated difference between group means?)\n",
    "that takes into account the variability of the data.\n",
    "\n",
    "**confidence interval** is a way to describe a range of values for an estimate\n",
    "that takes into account the variability of the data.\n",
    "\n",
    "We want to provide an answer to Question 2 in the form of a confidence interval that tells\n",
    "us a range of values where we believe the true value of $\\Delta$ falls.\n",
    "\n",
    "\n"
   ]
  },
  {
   "cell_type": "code",
   "execution_count": null,
   "id": "170b46e1-acd3-4002-a9d8-484afa9e2f1b",
   "metadata": {},
   "outputs": [],
   "source": []
  },
  {
   "cell_type": "markdown",
   "id": "fa0e424d-9f1c-4a0c-a23a-727ef0736c32",
   "metadata": {},
   "source": [
    "#### Reminder on confidence intervals functions"
   ]
  },
  {
   "cell_type": "code",
   "execution_count": 12,
   "id": "676aa3fb-d9ff-4a0a-b28e-b5ad6961d967",
   "metadata": {},
   "outputs": [],
   "source": [
    "from stats_helpers import ci_mean\n",
    "from stats_helpers import ci_dmeans"
   ]
  },
  {
   "cell_type": "code",
   "execution_count": null,
   "id": "5362d180-bc5f-4924-8bf5-a7c82a195d16",
   "metadata": {},
   "outputs": [],
   "source": []
  },
  {
   "cell_type": "markdown",
   "id": "96a07532-c61b-451b-ae92-1543790ad054",
   "metadata": {},
   "source": [
    " \n",
    " "
   ]
  },
  {
   "cell_type": "markdown",
   "id": "474a1144-1fae-40aa-a929-eb2508576e8c",
   "metadata": {},
   "source": [
    " "
   ]
  },
  {
   "cell_type": "code",
   "execution_count": null,
   "id": "eadd9377-25a9-437c-8ce1-e8030a192692",
   "metadata": {},
   "outputs": [],
   "source": []
  },
  {
   "cell_type": "code",
   "execution_count": null,
   "id": "6ea9722e-28c5-46ab-b1d3-c7237ba5a2ae",
   "metadata": {},
   "outputs": [],
   "source": []
  },
  {
   "cell_type": "markdown",
   "id": "8d04caba-b43d-43ce-a22f-a18466fbbc86",
   "metadata": {},
   "source": [
    "## Simulation tests"
   ]
  },
  {
   "cell_type": "markdown",
   "id": "339844ec-8dfd-4e87-8597-2acce0fac99d",
   "metadata": {},
   "source": [
    "Description of the problem: compare simple of obs. to an known population model"
   ]
  },
  {
   "cell_type": "markdown",
   "id": "8348c9b7-99e1-4275-9acd-b746ddfea86c",
   "metadata": {},
   "source": [
    "### Kombucha bottling process\n",
    "\n",
    "Reminder of kombucha bottling scenario where \n",
    "theory: $K \\sim \\mathcal{N}(\\mu_K=1000, \\sigma_K=10)$\n"
   ]
  },
  {
   "cell_type": "markdown",
   "id": "7f73d9c3-fad2-4066-bc62-c44d3f1a586c",
   "metadata": {},
   "source": [
    "Computational approach: simulation given mu_0 and sigma_0 are known"
   ]
  },
  {
   "cell_type": "markdown",
   "id": "b7402830-149a-4d17-b2a9-1ec3530ee98c",
   "metadata": {},
   "source": [
    "### Example 1S: test for the mean of Batch 04\n",
    "\n",
    "$$\n",
    "    H_0: \\;\\; \\mu = \\mu_0 = 1000,\n",
    "    \\qquad \\qquad\n",
    "    H_A: \\;\\; \\mu \\neq \\mu_0.\n",
    "$$\n",
    "\n",
    "In words,\n",
    "the null hypothesis describes a regular batch,\n",
    "where the mean of the batch is equal to the mean of the model $\\mu_0=\\mu_K=1000$.\n",
    "\n",
    "We'll show the hypothesis testing procedure for\n",
    "two different batches from the `kombucha` dataset."
   ]
  },
  {
   "cell_type": "code",
   "execution_count": 13,
   "id": "b6a336b6-2d90-4faa-9d8e-5d7d23cd637c",
   "metadata": {},
   "outputs": [],
   "source": [
    "kombucha = pd.read_csv(\"../datasets/kombucha.csv\")\n",
    "batch04 = kombucha[kombucha[\"batch\"]==4]\n",
    "ksample04 = batch04[\"volume\"]"
   ]
  },
  {
   "cell_type": "code",
   "execution_count": 14,
   "id": "1d8d4fad-a697-43b1-b457-a00e379555ff",
   "metadata": {},
   "outputs": [
    {
     "data": {
      "text/plain": [
       "40"
      ]
     },
     "execution_count": 14,
     "metadata": {},
     "output_type": "execute_result"
    }
   ],
   "source": [
    "ksample04.count()"
   ]
  },
  {
   "cell_type": "code",
   "execution_count": 15,
   "id": "cb31a6fe-bd41-4422-8b05-4960621e636a",
   "metadata": {},
   "outputs": [
    {
     "data": {
      "text/plain": [
       "1003.8335"
      ]
     },
     "execution_count": 15,
     "metadata": {},
     "output_type": "execute_result"
    }
   ],
   "source": [
    "# observed mean\n",
    "obsmean04 = mean(ksample04)\n",
    "obsmean04"
   ]
  },
  {
   "cell_type": "markdown",
   "id": "8b08d9e0-5790-43fa-be3e-b76d0f76cc3e",
   "metadata": {},
   "source": [
    "The mean volume calculated from the sample `ksample04` is $3.83$ ml higher than the expected mean $\\mu_K = 1000$ ml.\n",
    "\n",
    "Is this a big difference or not?\n",
    "\n",
    "How likely is such deviation to occur by chance under the null hypothesis?"
   ]
  },
  {
   "cell_type": "markdown",
   "id": "52f286e3-10fa-4fba-8aab-1b03d4acd8a1",
   "metadata": {},
   "source": [
    "#### Sampling distribution under the null hypothesis"
   ]
  },
  {
   "cell_type": "markdown",
   "id": "16cfb044-6ff2-420c-8a82-5176f3bfc15f",
   "metadata": {},
   "source": [
    "To answer this question,\n",
    "we need to generate the sampling distribution of the mean\n",
    "for samples of size $n=40$ under the null hypothesis $H_0$.\n",
    "We can do this using the `gen_sampling_dist` function,\n",
    "by providing it the probability model `rvK` $=K = \\mathcal{N}(\\mu_K=1000,\\sigma_K=10)$,\n",
    "which describes the variability of the kombucha volumes when the factory is operating correctly."
   ]
  },
  {
   "cell_type": "code",
   "execution_count": 16,
   "id": "963d987f-f111-41c6-af9d-5809d6138df6",
   "metadata": {},
   "outputs": [],
   "source": [
    "from scipy.stats import norm\n",
    "\n",
    "# theoretical model for the kombucha volumes\n",
    "muK = 1000   # population mean (expected kombucha volume)\n",
    "sigmaK = 10  # population variance\n",
    "rvK = norm(muK, sigmaK)"
   ]
  },
  {
   "cell_type": "markdown",
   "id": "b4821293-a986-46ed-83fc-8ecdb3a27adb",
   "metadata": {},
   "source": [
    "We can now generate the sampling distribution using simulation..."
   ]
  },
  {
   "cell_type": "code",
   "execution_count": 17,
   "id": "a614ef8f-16dd-4a0b-99b0-b2886f40056c",
   "metadata": {},
   "outputs": [],
   "source": [
    "from stats_helpers import gen_sampling_dist\n",
    "\n",
    "np.random.seed(42)\n",
    "kbars40 = gen_sampling_dist(rvK, estfunc=mean, n=40)"
   ]
  },
  {
   "cell_type": "markdown",
   "id": "c0f7312a-17df-4bba-958d-217e0d098e8d",
   "metadata": {},
   "source": [
    "To calculate the $p$-value, we want\n",
    "want to calculate how many values of sampling distribution `kbars40`\n",
    "are equal or more extreme than the observed value $\\overline{\\mathbf{k}}_{04} = $ `obsmean04` = 1003.8335."
   ]
  },
  {
   "cell_type": "code",
   "execution_count": 18,
   "id": "e2f4f979-5f4f-4598-ba17-1dec4740f7d2",
   "metadata": {},
   "outputs": [
    {
     "data": {
      "text/plain": [
       "0.015"
      ]
     },
     "execution_count": 18,
     "metadata": {},
     "output_type": "execute_result"
    }
   ],
   "source": [
    "tails = tailvalues(kbars40, obsmean04)\n",
    "pvalue04 = len(tails) / len(kbars40)\n",
    "pvalue04"
   ]
  },
  {
   "cell_type": "code",
   "execution_count": 19,
   "id": "6b4033b3-5fa9-4065-a0e4-22d5561a371d",
   "metadata": {},
   "outputs": [
    {
     "data": {
      "image/png": "[encoded data removed]",
      "text/plain": [
       "<Figure size 500x160 with 1 Axes>"
      ]
     },
     "metadata": {
      "image/png": {
       "height": 166,
       "width": 456
      }
     },
     "output_type": "display_data"
    }
   ],
   "source": [
    "# plot the sampling distribution as a histogram\n",
    "sns.histplot(kbars40, bins=100)\n",
    "\n",
    "# plot red line for the observed mean\n",
    "plt.axvline(obsmean04, color=\"red\")\n",
    "\n",
    "# plot the values that are equal or more extreme in red\n",
    "_ = sns.histplot(tails, bins=100, color=\"red\")"
   ]
  },
  {
   "cell_type": "code",
   "execution_count": 20,
   "id": "13db457a-4cae-45a1-92ad-f11186e74bcb",
   "metadata": {},
   "outputs": [
    {
     "name": "stdout",
     "output_type": "stream",
     "text": [
      "Saved figure to figures/stats/intro_to_NHST/hist_p-value_kombucha_obsmean04.pdf\n",
      "Saved figure to figures/stats/intro_to_NHST/hist_p-value_kombucha_obsmean04.png\n"
     ]
    },
    {
     "data": {
      "image/png": "[encoded data removed]",
      "text/plain": [
       "<Figure size 500x160 with 1 Axes>"
      ]
     },
     "metadata": {
      "image/png": {
       "height": 150,
       "width": 489
      }
     },
     "output_type": "display_data"
    }
   ],
   "source": [
    "filename = os.path.join(DESTDIR, \"hist_p-value_kombucha_obsmean04.pdf\")\n",
    "\n",
    "# plot the sampling distribution as a histogram\n",
    "bins = nicebins(kbars40, obsmean04)\n",
    "ax = sns.histplot(kbars40, bins=bins)\n",
    "\n",
    "# plot red line for the observed statistic\n",
    "plt.axvline(obsmean04, color=\"red\")\n",
    "\n",
    "# plot the values that are equal or more extreme in red\n",
    "sns.histplot(tails, bins=bins, ax=ax, color=\"red\")\n",
    "ax.set_ylabel(\"$f_{\\overline{\\mathbf{K}}_0}$\")\n",
    "\n",
    "savefigure(ax, filename)"
   ]
  },
  {
   "cell_type": "markdown",
   "id": "cca93f25-9b93-474a-9cc4-3818ffb7b464",
   "metadata": {},
   "source": [
    "We can now make the decision based on the $p$-value and a pre-determined threshold,\n",
    "which is conventionally chosen $\\alpha=0.05$ (1 in 20):\n",
    "\n",
    "- If the observed value of the mean `obsmean04` = 1003.8335 is unlikely under\n",
    "  $H_0$ ($p$-value less than 5% chance of occurring),\n",
    "  then our decision will be to \"reject the null hypothesis.\"\n",
    "- Otherwise, if the observed value `obsmean04` is not that unusual ($p$-value greater than 5%),\n",
    "  we conclude that we have \"fail to reject the null hypothesis.\""
   ]
  },
  {
   "cell_type": "markdown",
   "id": "9ac8b99d-2427-4901-8e21-15e3bcc871eb",
   "metadata": {},
   "source": [
    "Recall the math statement of the null hypothesis is $H_0: \\mu = \\mu_K = 1000$,\n",
    "which describes a batch whose mean is equal to the mean of the model $\\mu_K$.\n",
    "The conclusion to reject $H_0$ means the batch is irregular."
   ]
  },
  {
   "cell_type": "code",
   "execution_count": null,
   "id": "411e0885-4d90-4289-bc0b-4ea905c4f200",
   "metadata": {},
   "outputs": [],
   "source": []
  },
  {
   "cell_type": "markdown",
   "id": "120f35e6-77e2-4de1-8fb0-6e69e7dd7c81",
   "metadata": {},
   "source": [
    "#### Effect size estimates\n",
    "\n",
    "We were able to detect that batch differs from the expected distribution,\n",
    "but how big is this deviation?\n",
    "We can use the deviation from the expected mean as measure of the effect size $\\Delta = \\overline{\\mathbf{k}} - \\mu_K$ in this situation."
   ]
  },
  {
   "cell_type": "code",
   "execution_count": 21,
   "id": "eda2567e-3179-46c4-8c83-b6ab6bacd44c",
   "metadata": {},
   "outputs": [
    {
     "data": {
      "text/plain": [
       "3.833499999999958"
      ]
     },
     "execution_count": 21,
     "metadata": {},
     "output_type": "execute_result"
    }
   ],
   "source": [
    "mean(ksample04) - muK"
   ]
  },
  {
   "cell_type": "markdown",
   "id": "e15d98bb-15c4-4fe2-a5c7-17a7e0484ebe",
   "metadata": {},
   "source": [
    "The point estimate $\\Delta = \\overline{\\mathbf{k}} - \\mu_K = 3.83$\n",
    "tells us how much the mean of the sample differs from the expected population mean $\\mu_K$,\n",
    "but doesn't tell us the uncertainty in this estimate."
   ]
  },
  {
   "cell_type": "markdown",
   "id": "04882539-b3d2-4735-a59a-e12ecf42686e",
   "metadata": {},
   "source": [
    "The bootstrap confidence interval for the effect size \n",
    "$\\ci{\\Delta,0.9}^*$ tells us a range of plausible values for the effect size."
   ]
  },
  {
   "cell_type": "code",
   "execution_count": 22,
   "id": "20ba59b6-4648-4847-9865-070a294f1933",
   "metadata": {},
   "outputs": [
    {
     "data": {
      "text/plain": [
       "[1.7537499999999935, 5.802025000000007]"
      ]
     },
     "execution_count": 22,
     "metadata": {},
     "output_type": "execute_result"
    }
   ],
   "source": [
    "from stats_helpers import gen_boot_dist\n",
    "\n",
    "np.random.seed(48)\n",
    "D_boot = gen_boot_dist(ksample04-muK, estfunc=mean)\n",
    "[np.percentile(D_boot, 5),\n",
    " np.percentile(D_boot, 95)]"
   ]
  },
  {
   "cell_type": "markdown",
   "id": "7912f031-4c48-46a9-8c42-ed9495819def",
   "metadata": {},
   "source": [
    "The function `ci_mean` that we defined earlier performs the exact same operation,\n",
    "when called with the argument `method=\"b\"`."
   ]
  },
  {
   "cell_type": "code",
   "execution_count": 23,
   "id": "223cd73c-1b2a-477b-b3ab-31e5df749b28",
   "metadata": {},
   "outputs": [
    {
     "data": {
      "text/plain": [
       "[1.7537499999999935, 5.802025000000007]"
      ]
     },
     "execution_count": 23,
     "metadata": {},
     "output_type": "execute_result"
    }
   ],
   "source": [
    "np.random.seed(48)\n",
    "ci_mean(ksample04-muK, alpha=0.1, method=\"b\")"
   ]
  },
  {
   "cell_type": "markdown",
   "id": "b1b0bb18-0bec-4bd1-aeff-331240ace721",
   "metadata": {},
   "source": [
    "The confidence interval $\\ci{\\Delta,0.9}^* = [1.75, 5.80]$ tells us the true discrepancy\n",
    "of Batch 04 from the expected mean can be anywhere from 1.75 to 5.8."
   ]
  },
  {
   "cell_type": "code",
   "execution_count": null,
   "id": "3545bf24-2aef-488e-9575-60bb3be2464c",
   "metadata": {},
   "outputs": [],
   "source": []
  },
  {
   "cell_type": "markdown",
   "id": "67590a1e-208b-4ead-a90b-115bdb35c69e",
   "metadata": {},
   "source": [
    "### Example 2S: test for the mean of Batch 01"
   ]
  },
  {
   "cell_type": "markdown",
   "id": "07a24a92-a6b2-4ef2-b23e-eb9ced7a0162",
   "metadata": {},
   "source": [
    "Let's repeat the procedure on the sample "
   ]
  },
  {
   "cell_type": "code",
   "execution_count": 24,
   "id": "decc42e4-bee9-483a-a3f0-725bba2f0220",
   "metadata": {},
   "outputs": [
    {
     "data": {
      "text/plain": [
       "40"
      ]
     },
     "execution_count": 24,
     "metadata": {},
     "output_type": "execute_result"
    }
   ],
   "source": [
    "batch01 = kombucha[kombucha[\"batch\"]==1]\n",
    "ksample01 = batch01[\"volume\"]\n",
    "ksample01.count()"
   ]
  },
  {
   "cell_type": "code",
   "execution_count": 25,
   "id": "4cd1c39e-8264-43d7-9c37-678704534209",
   "metadata": {},
   "outputs": [
    {
     "data": {
      "text/plain": [
       "999.10375"
      ]
     },
     "execution_count": 25,
     "metadata": {},
     "output_type": "execute_result"
    }
   ],
   "source": [
    "obsmean01 = mean(ksample01)\n",
    "obsmean01"
   ]
  },
  {
   "cell_type": "code",
   "execution_count": 26,
   "id": "c27c1278-2748-4af5-962b-adf132e7e4c8",
   "metadata": {},
   "outputs": [
    {
     "data": {
      "text/plain": [
       "0.5708"
      ]
     },
     "execution_count": 26,
     "metadata": {},
     "output_type": "execute_result"
    }
   ],
   "source": [
    "np.random.seed(42)\n",
    "kbars40 = gen_sampling_dist(rvK, estfunc=mean, n=40)\n",
    "tails = tailvalues(kbars40, obsmean01)\n",
    "pvalue01 = len(tails) / len(kbars40)\n",
    "pvalue01"
   ]
  },
  {
   "cell_type": "markdown",
   "id": "1ab880c5-44b5-4edf-af2e-c666b46c9dac",
   "metadata": {},
   "source": [
    "The observed mean from batch 01 is not unlikely under $H_0$,\n",
    "so we conclude that Batch 01 is a regular batch.\n",
    "\n",
    "Using the terminology of hypothesis testing,\n",
    "we say the outcome of the hypothesis test is \"fail to reject $H_0: \\mu = \\mu_K$.\"\n",
    "We have not seen any evidence that suggests that the mean of the population from\n",
    "which sample `ksample01` was taken differs from the mean of the expected model $K$.\n",
    "\n",
    "Ship it!"
   ]
  },
  {
   "cell_type": "code",
   "execution_count": 27,
   "id": "b91a7201-25e1-4773-9be3-cf7ce39062ab",
   "metadata": {},
   "outputs": [
    {
     "name": "stdout",
     "output_type": "stream",
     "text": [
      "Saved figure to figures/stats/intro_to_NHST/hist_p-value_kombucha_obsmean01.pdf\n",
      "Saved figure to figures/stats/intro_to_NHST/hist_p-value_kombucha_obsmean01.png\n"
     ]
    },
    {
     "data": {
      "image/png": "[encoded data removed]",
      "text/plain": [
       "<Figure size 500x160 with 1 Axes>"
      ]
     },
     "metadata": {
      "image/png": {
       "height": 150,
       "width": 489
      }
     },
     "output_type": "display_data"
    }
   ],
   "source": [
    "filename = os.path.join(DESTDIR, \"hist_p-value_kombucha_obsmean01.pdf\")\n",
    "\n",
    "# plot the sampling distribution as a histogram\n",
    "bins = nicebins(kbars40, obsmean01)\n",
    "ax = sns.histplot(kbars40, bins=bins)\n",
    "\n",
    "# plot red line for the observed statistic\n",
    "plt.axvline(obsmean01, color=\"red\")\n",
    "\n",
    "# plot the values that are equal or more extreme in red\n",
    "sns.histplot(tails, bins=bins, ax=ax, color=\"red\")\n",
    "ax.set_ylabel(\"$f_{\\overline{\\mathbf{K}}_0}$\")\n",
    "\n",
    "savefigure(ax, filename)"
   ]
  },
  {
   "cell_type": "code",
   "execution_count": null,
   "id": "f5b8b749-78a6-4fa7-bed9-a6d916a6d820",
   "metadata": {},
   "outputs": [],
   "source": []
  },
  {
   "cell_type": "code",
   "execution_count": null,
   "id": "67ed1377-7df1-4002-b396-c88380259c74",
   "metadata": {},
   "outputs": [],
   "source": []
  },
  {
   "cell_type": "markdown",
   "id": "1da54140-32f2-4146-8e56-7d4e51c51013",
   "metadata": {},
   "source": [
    "### Reusable test function for the mean"
   ]
  },
  {
   "cell_type": "code",
   "execution_count": 28,
   "id": "7945d68d-3d69-46f7-9bb8-d77ed26b1d1c",
   "metadata": {},
   "outputs": [],
   "source": [
    "#######################################################\n",
    "\n",
    "def simulation_test_mean(sample, mu0, sigma0, N=10000):\n",
    "    \"\"\"\n",
    "    Compute the p-value of the observed mean of `sample`\n",
    "    under H0 of a normal distribution `norm(mu0,sigma0)`.\n",
    "    \"\"\"\n",
    "    # Compute the observed value of the mean\n",
    "    obsmean = mean(sample)\n",
    "    n = len(sample)\n",
    "\n",
    "    # Get sampling distribution of the mean under H0\n",
    "    rvXH0 = norm(mu0, sigma0)\n",
    "    xbars = gen_sampling_dist(rvXH0, estfunc=mean, n=n)\n",
    "\n",
    "    # Compute the p-value\n",
    "    tails = tailvalues(xbars, obsmean)\n",
    "    pvalue = len(tails) / len(xbars)\n",
    "    return pvalue"
   ]
  },
  {
   "cell_type": "code",
   "execution_count": 29,
   "id": "2633b2d8-beee-487e-bf6d-8cb0686fecae",
   "metadata": {},
   "outputs": [
    {
     "data": {
      "text/plain": [
       "0.015"
      ]
     },
     "execution_count": 29,
     "metadata": {},
     "output_type": "execute_result"
    }
   ],
   "source": [
    "## TEST 1 (Do we get the same answer for Batch 04?)\n",
    "np.random.seed(42)\n",
    "simulation_test_mean(ksample04, mu0=muK, sigma0=sigmaK)"
   ]
  },
  {
   "cell_type": "code",
   "execution_count": 30,
   "id": "d67fc6e1-9801-459a-81fe-eb23fa5dcd85",
   "metadata": {},
   "outputs": [
    {
     "data": {
      "text/plain": [
       "0.5708"
      ]
     },
     "execution_count": 30,
     "metadata": {},
     "output_type": "execute_result"
    }
   ],
   "source": [
    "## TEST 2 (Do we get the same answer for Batch 01?)\n",
    "np.random.seed(42)\n",
    "simulation_test_mean(ksample01, mu0=muK, sigma0=sigmaK)"
   ]
  },
  {
   "cell_type": "code",
   "execution_count": null,
   "id": "48dbfd49-7dae-4af3-8d91-feb36a484a5e",
   "metadata": {},
   "outputs": [],
   "source": []
  },
  {
   "cell_type": "markdown",
   "id": "713e0ed9-5d65-4baf-8fc9-14986069ac72",
   "metadata": {},
   "source": [
    "### Example 3S: test for the variance of Batch 02"
   ]
  },
  {
   "cell_type": "markdown",
   "id": "29ebdb87-7d6e-4af6-98ec-0b00e5d84149",
   "metadata": {},
   "source": [
    "Let's now assume the sample of volume measurements $\\mathbf{k}_{02}$ from the Batch~02 of the kombucha bottling plant, \n",
    "comes from a population with unknown variance $\\sigma^2$,\n",
    "which we can estimate by computing the sample variance $s^2_{\\mathbf{k}_{02}}$.\n",
    "\n",
    "We want to check whether Batch~02 is a \"regular\" or \"irregular\" by comparing the variance in the volumes\n",
    "of this batch $\\sigma^2$ to the variance of the theoretical model $\\sigma_K^2= 100$.\n",
    "Specifically,\n",
    "we're interested in detecting the case when the variance is higher than expected:\n",
    "\n",
    "$$\n",
    "    H_0: \\;\\; \\sigma^2 \\leq \\sigma_K^2,\n",
    "    \\qquad \\qquad\n",
    "    H_A: \\;\\; \\sigma^2 > \\sigma_K^2.\n",
    "$$\n",
    "\n",
    "Note the alternative hypothesis detects the \"greater than\" inequality,\n",
    "since we don't mind batches with very low variance."
   ]
  },
  {
   "cell_type": "code",
   "execution_count": 31,
   "id": "788f27e2-3fe3-4346-801b-ba7da7f120a8",
   "metadata": {},
   "outputs": [
    {
     "data": {
      "text/plain": [
       "20"
      ]
     },
     "execution_count": 31,
     "metadata": {},
     "output_type": "execute_result"
    }
   ],
   "source": [
    "kombucha = pd.read_csv(\"../datasets/kombucha.csv\")\n",
    "batch02 = kombucha[kombucha[\"batch\"]==2]\n",
    "ksample02 = batch02[\"volume\"]\n",
    "ksample02.count()"
   ]
  },
  {
   "cell_type": "code",
   "execution_count": 32,
   "id": "a61cba97-8823-40a4-ae71-9de95ca1f27c",
   "metadata": {},
   "outputs": [
    {
     "data": {
      "text/plain": [
       "124.31760105263136"
      ]
     },
     "execution_count": 32,
     "metadata": {},
     "output_type": "execute_result"
    }
   ],
   "source": [
    "obsvar02 = var(ksample02)\n",
    "obsvar02"
   ]
  },
  {
   "cell_type": "code",
   "execution_count": 33,
   "id": "8b241f45-8b7c-44ca-b089-1a412eff194a",
   "metadata": {},
   "outputs": [
    {
     "data": {
      "text/plain": [
       "0.2132"
      ]
     },
     "execution_count": 33,
     "metadata": {},
     "output_type": "execute_result"
    }
   ],
   "source": [
    "np.random.seed(42)\n",
    "kvars20 = gen_sampling_dist(rvK, estfunc=var, n=20)\n",
    "tails = tailvalues(kvars20, obsvar02, alt=\"greater\")\n",
    "pvalue = len(tails) / len(kvars20)\n",
    "pvalue"
   ]
  },
  {
   "cell_type": "code",
   "execution_count": 34,
   "id": "f66fa565-7677-438a-b2df-9e0bd640c791",
   "metadata": {},
   "outputs": [
    {
     "name": "stdout",
     "output_type": "stream",
     "text": [
      "Saved figure to figures/stats/intro_to_NHST/hist_p-value_kombucha_obsvar02.pdf\n",
      "Saved figure to figures/stats/intro_to_NHST/hist_p-value_kombucha_obsvar02.png\n"
     ]
    },
    {
     "data": {
      "image/png": "[encoded data removed]",
      "text/plain": [
       "<Figure size 500x160 with 1 Axes>"
      ]
     },
     "metadata": {
      "image/png": {
       "height": 150,
       "width": 489
      }
     },
     "output_type": "display_data"
    }
   ],
   "source": [
    "filename = os.path.join(DESTDIR, \"hist_p-value_kombucha_obsvar02.pdf\")\n",
    "\n",
    "# plot the sampling distribution as a histogram\n",
    "bins = nicebins(kvars20, obsvar02)\n",
    "ax = sns.histplot(kvars20, bins=bins)\n",
    "\n",
    "# plot red line for the observed statistic\n",
    "plt.axvline(obsvar02, color=\"red\")\n",
    "\n",
    "# plot the values that are equal or more extreme in red\n",
    "sns.histplot(tails, bins=bins, ax=ax, color=\"red\")\n",
    "ax.set_ylabel(\"$f_{S^2_{\\mathbf{K}_0}}$\")\n",
    "\n",
    "savefigure(ax, filename)"
   ]
  },
  {
   "cell_type": "code",
   "execution_count": null,
   "id": "266ac991-8c52-4535-b0c6-c0ed4d01eb8b",
   "metadata": {},
   "outputs": [],
   "source": []
  },
  {
   "cell_type": "code",
   "execution_count": null,
   "id": "b3e6efd2-7d52-4b6e-ad59-82e715136bf0",
   "metadata": {},
   "outputs": [],
   "source": []
  },
  {
   "cell_type": "markdown",
   "id": "8291b4e8-1c85-4a47-86fd-08c83e46c27f",
   "metadata": {},
   "source": [
    "### Example 4S: test for the variance of Batch 08"
   ]
  },
  {
   "cell_type": "code",
   "execution_count": 35,
   "id": "275373b3-45c4-4a9a-8dc8-706027f30b00",
   "metadata": {},
   "outputs": [
    {
     "data": {
      "text/plain": [
       "40"
      ]
     },
     "execution_count": 35,
     "metadata": {},
     "output_type": "execute_result"
    }
   ],
   "source": [
    "kombucha = pd.read_csv(\"../datasets/kombucha.csv\")\n",
    "batch08 = kombucha[kombucha[\"batch\"]==8]\n",
    "ksample08 = batch08[\"volume\"]\n",
    "ksample08.count()"
   ]
  },
  {
   "cell_type": "code",
   "execution_count": 36,
   "id": "02c5c91b-b2c9-4cf0-bda1-ed9e6b90aba2",
   "metadata": {},
   "outputs": [
    {
     "data": {
      "text/plain": [
       "169.9979220512824"
      ]
     },
     "execution_count": 36,
     "metadata": {},
     "output_type": "execute_result"
    }
   ],
   "source": [
    "obsvar08 = var(ksample08)\n",
    "obsvar08"
   ]
  },
  {
   "cell_type": "markdown",
   "id": "68cf90cd-59f0-42a6-a1a1-aa68455b2e90",
   "metadata": {},
   "source": [
    "#### Sampling distribution under the null hypothesis"
   ]
  },
  {
   "cell_type": "code",
   "execution_count": 37,
   "id": "f05cd841-0fc6-499f-a5a2-b7ce46f6ac8c",
   "metadata": {},
   "outputs": [
    {
     "data": {
      "text/plain": [
       "0.0041"
      ]
     },
     "execution_count": 37,
     "metadata": {},
     "output_type": "execute_result"
    }
   ],
   "source": [
    "np.random.seed(43)\n",
    "kvars40 = gen_sampling_dist(rvK, estfunc=var, n=40)\n",
    "tails = tailvalues(kvars40, obsvar08, alt=\"greater\")\n",
    "pvalue = len(tails) / len(kvars40)\n",
    "pvalue"
   ]
  },
  {
   "cell_type": "code",
   "execution_count": 38,
   "id": "6a0dff5d-5bc8-433c-9fb7-60cb0bb2a092",
   "metadata": {},
   "outputs": [
    {
     "name": "stdout",
     "output_type": "stream",
     "text": [
      "Saved figure to figures/stats/intro_to_NHST/hist_p-value_kombucha_obsvar08.pdf\n",
      "Saved figure to figures/stats/intro_to_NHST/hist_p-value_kombucha_obsvar08.png\n"
     ]
    },
    {
     "data": {
      "image/png": "[encoded data removed]",
      "text/plain": [
       "<Figure size 500x160 with 1 Axes>"
      ]
     },
     "metadata": {
      "image/png": {
       "height": 150,
       "width": 488
      }
     },
     "output_type": "display_data"
    }
   ],
   "source": [
    "filename = os.path.join(DESTDIR, \"hist_p-value_kombucha_obsvar08.pdf\")\n",
    "\n",
    "# plot the sampling distribution as a histogram\n",
    "bins = nicebins(kvars40, obsvar08)\n",
    "ax = sns.histplot(kvars40, bins=bins)\n",
    "\n",
    "# plot red line for the observed statistic\n",
    "plt.axvline(obsvar08, color=\"red\")\n",
    "\n",
    "# plot the values that are equal or more extreme in red\n",
    "sns.histplot(tails, bins=bins, ax=ax, color=\"red\")\n",
    "ax.set_ylabel(\"$f_{S^2_{\\mathbf{K}_0}}$\")\n",
    "\n",
    "savefigure(ax, filename)"
   ]
  },
  {
   "cell_type": "code",
   "execution_count": null,
   "id": "a16a3b64-c281-4132-8d2a-26d35963fa2a",
   "metadata": {},
   "outputs": [],
   "source": []
  },
  {
   "cell_type": "markdown",
   "id": "0ac922ac-a446-4ffc-a068-6a4238b0380c",
   "metadata": {},
   "source": [
    "#### Effect size estimates\n",
    "\n",
    "We found the variance in the volumes in this batch is higher than the expected variance.\n",
    "Now let's estimate the effect size $\\Delta = s^2_{\\mathbf{k}_{08}} - \\sigma_K^2$."
   ]
  },
  {
   "cell_type": "code",
   "execution_count": 39,
   "id": "e80a1bd8-fc2a-48e1-b01c-1debc0c74394",
   "metadata": {},
   "outputs": [
    {
     "data": {
      "text/plain": [
       "69.99792205128239"
      ]
     },
     "execution_count": 39,
     "metadata": {},
     "output_type": "execute_result"
    }
   ],
   "source": [
    "var(ksample08) - sigmaK**2"
   ]
  },
  {
   "cell_type": "markdown",
   "id": "91ef22d1-a631-43ab-b978-0348b58aa1c9",
   "metadata": {},
   "source": [
    "The bootstrap confidence interval for the effect size \n",
    "$\\ci{\\Delta,0.9}^*$ tells us a range of plausible values for the effect size."
   ]
  },
  {
   "cell_type": "code",
   "execution_count": 40,
   "id": "c3f11404-1687-4766-ba01-ffa19ea8d9c4",
   "metadata": {},
   "outputs": [
    {
     "data": {
      "text/plain": [
       "[17.37369362820536, 117.98659930448775]"
      ]
     },
     "execution_count": 40,
     "metadata": {},
     "output_type": "execute_result"
    }
   ],
   "source": [
    "from stats_helpers import gen_boot_dist\n",
    "\n",
    "np.random.seed(48)\n",
    "kvars40_boot = gen_boot_dist(ksample08, estfunc=var)\n",
    "D_boot = np.subtract(kvars40_boot, sigmaK**2)\n",
    "[np.percentile(D_boot, 5),\n",
    " np.percentile(D_boot, 95)]"
   ]
  },
  {
   "cell_type": "markdown",
   "id": "f0095986-ce74-46a5-851d-fac06e49e3bc",
   "metadata": {},
   "source": [
    "The interval $\\ci{\\Delta,0.9}^* = [17, 118]$ tells us the difference\n",
    "in the variance of Batch 08 from the expected variance is somewhere between 17 and 118."
   ]
  },
  {
   "cell_type": "code",
   "execution_count": null,
   "id": "450ccdd7-4dac-403c-a2a8-eef5fabe6ff0",
   "metadata": {},
   "outputs": [],
   "source": []
  },
  {
   "cell_type": "code",
   "execution_count": null,
   "id": "afac7ac8-acb7-4331-afb1-c0492f6e95cc",
   "metadata": {},
   "outputs": [],
   "source": []
  },
  {
   "cell_type": "markdown",
   "id": "bccfab20-e242-40e4-8537-d79793d41350",
   "metadata": {},
   "source": [
    "### Generic simulation test function"
   ]
  },
  {
   "cell_type": "code",
   "execution_count": 41,
   "id": "41427387-6ec8-4d9a-b939-c4667e52d0b8",
   "metadata": {},
   "outputs": [],
   "source": [
    "#######################################################\n",
    "\n",
    "def simulation_test_var(sample, mu0, sigma0, alt=\"greater\"):\n",
    "    \"\"\"\n",
    "    Compute the p-value of the observed variance of `sample`\n",
    "    under H0 of a normal distribution `norm(mu0,sigma0)`.\n",
    "    \"\"\"\n",
    "    # 1. Compute the sample variance\n",
    "    obsvar = var(sample)\n",
    "    n = len(sample)\n",
    "\n",
    "    # 2. Get sampling distribution of variance under H0\n",
    "    rvXH0 = norm(mu0, sigma0)\n",
    "    xvars = gen_sampling_dist(rvXH0, estfunc=var, n=n)\n",
    "\n",
    "    # 3. Compute the p-value\n",
    "    tails = tailvalues(xvars, obsvar, alt=alt)\n",
    "    pvalue = len(tails) / len(xvars)\n",
    "    return pvalue"
   ]
  },
  {
   "cell_type": "code",
   "execution_count": 42,
   "id": "a2fb1041-6191-452e-acd6-7da04c510e6d",
   "metadata": {},
   "outputs": [
    {
     "data": {
      "text/plain": [
       "0.2132"
      ]
     },
     "execution_count": 42,
     "metadata": {},
     "output_type": "execute_result"
    }
   ],
   "source": [
    "# reproduce the results from Example 3\n",
    "np.random.seed(42)\n",
    "simulation_test_var(ksample02, muK, sigmaK, alt=\"greater\")"
   ]
  },
  {
   "cell_type": "code",
   "execution_count": 43,
   "id": "55ab6f0c-87b4-4a12-9a34-a96e58e96b8e",
   "metadata": {},
   "outputs": [
    {
     "data": {
      "text/plain": [
       "0.0041"
      ]
     },
     "execution_count": 43,
     "metadata": {},
     "output_type": "execute_result"
    }
   ],
   "source": [
    "# reproduce the results from Example 4\n",
    "np.random.seed(43)\n",
    "simulation_test_var(ksample08, muK, sigmaK, alt=\"greater\")"
   ]
  },
  {
   "cell_type": "code",
   "execution_count": null,
   "id": "24eb65c4-2c9c-465a-b61f-2c4d94ad3f57",
   "metadata": {},
   "outputs": [],
   "source": []
  },
  {
   "cell_type": "code",
   "execution_count": null,
   "id": "4e7a1a57-35c9-4404-a65e-bbda6da27e2b",
   "metadata": {},
   "outputs": [],
   "source": []
  },
  {
   "cell_type": "code",
   "execution_count": null,
   "id": "1e5f6e6d-7ad6-4eae-b191-5b1c843b77ff",
   "metadata": {},
   "outputs": [],
   "source": []
  },
  {
   "cell_type": "code",
   "execution_count": null,
   "id": "b181ae30-5585-4586-84b8-5ee1c2ae4b4b",
   "metadata": {},
   "outputs": [],
   "source": []
  },
  {
   "cell_type": "code",
   "execution_count": null,
   "id": "26fd3101-f276-4922-a85f-e2cd41360a0b",
   "metadata": {},
   "outputs": [],
   "source": []
  },
  {
   "cell_type": "code",
   "execution_count": null,
   "id": "82f93dad-330d-4e3f-808b-60e65d011961",
   "metadata": {},
   "outputs": [],
   "source": []
  },
  {
   "cell_type": "markdown",
   "id": "d4f4800a-90f7-4712-8517-5cdcbc97a01b",
   "metadata": {},
   "source": [
    "## Analytical approximation tests"
   ]
  },
  {
   "cell_type": "markdown",
   "id": "eabdb4b0-b8f5-4838-8d46-ef8e78beb682",
   "metadata": {},
   "source": [
    "### Formula for sampling distribution of the mean"
   ]
  },
  {
   "cell_type": "markdown",
   "id": "c03e7ac8-4120-4bfa-b77a-cf6b2f8370ea",
   "metadata": {},
   "source": [
    "Reminder of kombucha bottling scenario where \n",
    "theory: $K \\sim \\mathcal{N}(1000,10)$, samples: ⑤ kombucha"
   ]
  },
  {
   "cell_type": "code",
   "execution_count": 44,
   "id": "975764d9-a4f0-4b85-9454-8b95fdeb3cef",
   "metadata": {},
   "outputs": [],
   "source": [
    "muK = 1000\n",
    "sigmaK = 10"
   ]
  },
  {
   "cell_type": "markdown",
   "id": "6f9d77c8-a6f9-45ca-b9e6-e98fa61f4bfb",
   "metadata": {},
   "source": [
    "### Analytical approximation for sample mean"
   ]
  },
  {
   "cell_type": "code",
   "execution_count": 45,
   "id": "12934dac-b119-4f7e-8008-6f65fa34ae55",
   "metadata": {},
   "outputs": [],
   "source": [
    "# norm"
   ]
  },
  {
   "cell_type": "markdown",
   "id": "7c23ce4f-2d78-429b-84ab-a6ab74eca231",
   "metadata": {},
   "source": [
    "### Example 1N: test for the mean of Batch 04"
   ]
  },
  {
   "cell_type": "code",
   "execution_count": 46,
   "id": "03a310a3-4b29-452b-87b3-c9e413eecc37",
   "metadata": {},
   "outputs": [
    {
     "data": {
      "text/plain": [
       "1003.8335"
      ]
     },
     "execution_count": 46,
     "metadata": {},
     "output_type": "execute_result"
    }
   ],
   "source": [
    "kombucha = pd.read_csv(\"../datasets/kombucha.csv\")\n",
    "batch04 = kombucha[kombucha[\"batch\"]==4]\n",
    "ksample04 = batch04[\"volume\"]\n",
    "n04 = len(ksample04)\n",
    "\n",
    "# observed mean\n",
    "obsmean04 = mean(ksample04)\n",
    "obsmean04"
   ]
  },
  {
   "cell_type": "markdown",
   "id": "a4482a29-7e25-4f23-b448-5fd7615b1a68",
   "metadata": {},
   "source": [
    "#### Assume we know complete model"
   ]
  },
  {
   "cell_type": "code",
   "execution_count": 47,
   "id": "22fe9749-1cc3-4b1d-944d-abbb48b74af7",
   "metadata": {},
   "outputs": [
    {
     "data": {
      "text/plain": [
       "2.42451828205107"
      ]
     },
     "execution_count": 47,
     "metadata": {},
     "output_type": "execute_result"
    }
   ],
   "source": [
    "from scipy.stats import norm\n",
    "\n",
    "# standard error of the mean\n",
    "se = sigmaK / np.sqrt(n04)\n",
    "\n",
    "# compute the z statistic \n",
    "obsz = (obsmean04 - muK) / se\n",
    "obsz"
   ]
  },
  {
   "cell_type": "code",
   "execution_count": 48,
   "id": "109f41db-6c68-4fa1-9455-9ef5f359a883",
   "metadata": {},
   "outputs": [
    {
     "data": {
      "text/plain": [
       "0.015328711497996528"
      ]
     },
     "execution_count": 48,
     "metadata": {},
     "output_type": "execute_result"
    }
   ],
   "source": [
    "from scipy.stats import norm\n",
    "rvZ = norm(0,1)\n",
    "pvalue = 2 * (1 - rvZ.cdf(obsz))\n",
    "pvalue"
   ]
  },
  {
   "cell_type": "code",
   "execution_count": 49,
   "id": "0810d036-b6ec-4f6c-8e8f-7857673d61cb",
   "metadata": {},
   "outputs": [
    {
     "data": {
      "image/png": "[encoded data removed]",
      "text/plain": [
       "<Figure size 500x160 with 1 Axes>"
      ]
     },
     "metadata": {
      "image/png": {
       "height": 188,
       "width": 434
      }
     },
     "output_type": "display_data"
    }
   ],
   "source": [
    "from plot_helpers import calc_prob_and_plot_tails\n",
    "_ = calc_prob_and_plot_tails(rvZ, -obsz, obsz, xlims=[-4,4])"
   ]
  },
  {
   "cell_type": "markdown",
   "id": "028cfa21-ec8c-42cb-b3a4-6a4c0db5c5fe",
   "metadata": {},
   "source": [
    "### Example 2N: test for the mean of Batch 01"
   ]
  },
  {
   "cell_type": "code",
   "execution_count": 64,
   "id": "d7588d1e-4b33-47a2-9432-b5914534b23e",
   "metadata": {},
   "outputs": [],
   "source": [
    "# TODO"
   ]
  },
  {
   "cell_type": "code",
   "execution_count": null,
   "id": "4861eb20-15cc-42da-b49a-f653ecf50645",
   "metadata": {},
   "outputs": [],
   "source": []
  },
  {
   "cell_type": "markdown",
   "id": "e6097ac7-3b86-4d74-aaa0-e535a3e9f740",
   "metadata": {},
   "source": [
    "### Formula for sampling distribution of the variance"
   ]
  },
  {
   "cell_type": "markdown",
   "id": "4b37a02d-63a6-4c18-8783-0e7202e33a83",
   "metadata": {},
   "source": [
    "#### Chi-square test for variance\n",
    "\n",
    "see also:\n",
    " - https://www.itl.nist.gov/div898/handbook/eda/section3/eda358.htm\n",
    " - https://openpress.usask.ca/introtoappliedstatsforpsych/chapter/9-5-chi-squared-test-for-variance-or-standard-deviation/\n"
   ]
  },
  {
   "cell_type": "markdown",
   "id": "c6e25e54-6af7-46c0-a433-a77d4140b4ec",
   "metadata": {},
   "source": [
    "### Example 3X: test for the variance of Batch 02"
   ]
  },
  {
   "cell_type": "code",
   "execution_count": 50,
   "id": "5faa408b-4771-4df1-bfb2-d6216798ab22",
   "metadata": {},
   "outputs": [
    {
     "data": {
      "text/plain": [
       "20"
      ]
     },
     "execution_count": 50,
     "metadata": {},
     "output_type": "execute_result"
    }
   ],
   "source": [
    "kombucha = pd.read_csv(\"../datasets/kombucha.csv\")\n",
    "batch02 = kombucha[kombucha[\"batch\"]==2]\n",
    "ksample02 = batch02[\"volume\"]\n",
    "n02 = ksample02.count()\n",
    "n02"
   ]
  },
  {
   "cell_type": "code",
   "execution_count": 51,
   "id": "be3c739c-f2a5-440a-a0c1-c987b578fa33",
   "metadata": {},
   "outputs": [
    {
     "data": {
      "text/plain": [
       "124.31760105263136"
      ]
     },
     "execution_count": 51,
     "metadata": {},
     "output_type": "execute_result"
    }
   ],
   "source": [
    "obsvar02 = var(ksample02)\n",
    "obsvar02"
   ]
  },
  {
   "cell_type": "code",
   "execution_count": 52,
   "id": "ba1eb125-7234-4263-bc21-b4020e21ea84",
   "metadata": {},
   "outputs": [
    {
     "data": {
      "text/plain": [
       "23.62034419999996"
      ]
     },
     "execution_count": 52,
     "metadata": {},
     "output_type": "execute_result"
    }
   ],
   "source": [
    "obschi2 = (n02-1) * obsvar02 / sigmaK**2\n",
    "obschi2"
   ]
  },
  {
   "cell_type": "code",
   "execution_count": 53,
   "id": "dd2f9378-4654-4cb7-a2e6-763517be617d",
   "metadata": {},
   "outputs": [
    {
     "data": {
      "text/plain": [
       "0.2111207328360385"
      ]
     },
     "execution_count": 53,
     "metadata": {},
     "output_type": "execute_result"
    }
   ],
   "source": [
    "from scipy.stats import chi2\n",
    "\n",
    "df = n02 - 1\n",
    "rvX2 = chi2(df)\n",
    "\n",
    "pvalue = 1 - rvX2.cdf(obschi2)\n",
    "pvalue"
   ]
  },
  {
   "cell_type": "code",
   "execution_count": 54,
   "id": "de92708e-9658-4c7d-b9a7-c4fd195172b9",
   "metadata": {},
   "outputs": [
    {
     "data": {
      "image/png": "[encoded data removed]",
      "text/plain": [
       "<Figure size 500x160 with 1 Axes>"
      ]
     },
     "metadata": {
      "image/png": {
       "height": 188,
       "width": 440
      }
     },
     "output_type": "display_data"
    }
   ],
   "source": [
    "# plot tails\n",
    "_ = calc_prob_and_plot_tails(rvX2, 0, obschi2, xlims=[0,50])"
   ]
  },
  {
   "cell_type": "markdown",
   "id": "51c9dcbb-ecb2-40cb-b21b-3f005fc04a7f",
   "metadata": {},
   "source": [
    "### Example 4X: test for the variance of Batch 08"
   ]
  },
  {
   "cell_type": "code",
   "execution_count": 55,
   "id": "674ac906-0d0c-4a61-aeb1-2a6e60c7ca17",
   "metadata": {},
   "outputs": [],
   "source": [
    "# TODO: ksample08\n"
   ]
  },
  {
   "cell_type": "code",
   "execution_count": null,
   "id": "fbd8f8d6-b29d-42db-b281-46ff480dade1",
   "metadata": {},
   "outputs": [],
   "source": []
  },
  {
   "cell_type": "code",
   "execution_count": null,
   "id": "7b94d92e-be5e-4670-a814-19d897196da9",
   "metadata": {},
   "outputs": [],
   "source": []
  },
  {
   "cell_type": "code",
   "execution_count": null,
   "id": "7a1a0855-ff86-4b15-88cf-1cdf4f05a735",
   "metadata": {},
   "outputs": [],
   "source": []
  },
  {
   "cell_type": "code",
   "execution_count": null,
   "id": "866b09bf-96a7-48a0-9aa7-89f2a7149289",
   "metadata": {},
   "outputs": [],
   "source": []
  },
  {
   "cell_type": "code",
   "execution_count": null,
   "id": "3ebc6fc2-7310-4804-b10b-f1b4b5ab7775",
   "metadata": {},
   "outputs": [],
   "source": []
  },
  {
   "cell_type": "code",
   "execution_count": null,
   "id": "2dbb75ba-a639-44f6-9d5e-9a4ac8fe8054",
   "metadata": {},
   "outputs": [],
   "source": []
  },
  {
   "cell_type": "markdown",
   "id": "5b9ad6ad-9e8f-4df8-b7cd-057d87d21e5c",
   "metadata": {},
   "source": [
    "## Tests with estimated population variance"
   ]
  },
  {
   "cell_type": "markdown",
   "id": "46e2e8e1-73bd-4d35-93c6-1a5e14d8da78",
   "metadata": {},
   "source": [
    "### Analytical approximation based on Student's $t$-distribution"
   ]
  },
  {
   "cell_type": "markdown",
   "id": "5e87c903-dbe6-492e-bed8-a98a99d594fb",
   "metadata": {},
   "source": [
    "### Example 1T: test for the mean of Batch 04"
   ]
  },
  {
   "cell_type": "markdown",
   "id": "e5eae561-2a82-4145-a26e-6214887976d3",
   "metadata": {},
   "source": [
    "#### Assume we know mean, but not variance"
   ]
  },
  {
   "cell_type": "code",
   "execution_count": 56,
   "id": "dc6bd2b7-70ce-4d00-b43c-b734a6331288",
   "metadata": {},
   "outputs": [
    {
     "data": {
      "text/plain": [
       "3.087703149420272"
      ]
     },
     "execution_count": 56,
     "metadata": {},
     "output_type": "execute_result"
    }
   ],
   "source": [
    "# estimated standard error of the mean\n",
    "s04 = std(ksample04)\n",
    "sehat = s04 / np.sqrt(n04)\n",
    "\n",
    "# compute the t statistic \n",
    "obst = (obsmean04 - muK) / sehat\n",
    "obst"
   ]
  },
  {
   "cell_type": "code",
   "execution_count": 57,
   "id": "a54a01e9-f953-4d41-9e5c-e3c3502709de",
   "metadata": {},
   "outputs": [
    {
     "data": {
      "text/plain": [
       "0.0037056653503328985"
      ]
     },
     "execution_count": 57,
     "metadata": {},
     "output_type": "execute_result"
    }
   ],
   "source": [
    "from scipy.stats import t as tdist\n",
    "\n",
    "df = n04 - 1  # n-1 degrees of freedom\n",
    "rvT = tdist(df)\n",
    "pvalue = 2 * (1 - rvT.cdf(obst))\n",
    "pvalue"
   ]
  },
  {
   "cell_type": "code",
   "execution_count": 58,
   "id": "d4ed88d0-f3c2-4699-bded-1c00c92d500d",
   "metadata": {},
   "outputs": [
    {
     "data": {
      "image/png": "[encoded data removed]",
      "text/plain": [
       "<Figure size 500x160 with 1 Axes>"
      ]
     },
     "metadata": {
      "image/png": {
       "height": 188,
       "width": 434
      }
     },
     "output_type": "display_data"
    }
   ],
   "source": [
    "_ = calc_prob_and_plot_tails(rvT, -obst, obst, xlims=[-4,4])"
   ]
  },
  {
   "cell_type": "code",
   "execution_count": 59,
   "id": "a7018eb9-ec97-4ab3-acf5-43d2d6e72a93",
   "metadata": {},
   "outputs": [
    {
     "data": {
      "text/plain": [
       "0.0037056653503329618"
      ]
     },
     "execution_count": 59,
     "metadata": {},
     "output_type": "execute_result"
    }
   ],
   "source": [
    "# ALT. using existing function `scipy.stats`\n",
    "from scipy.stats import ttest_1samp\n",
    "ttest_1samp(ksample04, popmean=1000).pvalue"
   ]
  },
  {
   "cell_type": "markdown",
   "id": "2db5d881-be8b-4e00-a6c8-47ed55509118",
   "metadata": {},
   "source": [
    "### Example 2T: test for the mean of Batch 01"
   ]
  },
  {
   "cell_type": "code",
   "execution_count": 66,
   "id": "5b10e685-44fc-4aa3-8826-e9be4cb96ddd",
   "metadata": {},
   "outputs": [],
   "source": [
    "# TODO"
   ]
  },
  {
   "cell_type": "code",
   "execution_count": null,
   "id": "3f89d01d-7873-4fe2-9a2d-a9142e64f3aa",
   "metadata": {},
   "outputs": [],
   "source": []
  },
  {
   "cell_type": "code",
   "execution_count": null,
   "id": "9bc80064-2264-4576-b532-112782e3f02a",
   "metadata": {},
   "outputs": [],
   "source": []
  },
  {
   "cell_type": "code",
   "execution_count": null,
   "id": "ef8b167b-ffb0-44a5-80e0-e7be3f71219c",
   "metadata": {},
   "outputs": [],
   "source": []
  },
  {
   "cell_type": "markdown",
   "id": "b2ba7c32-547c-4dfb-b773-b95ddefddaf2",
   "metadata": {},
   "source": [
    "### Bootstrap estimate of the standard error"
   ]
  },
  {
   "cell_type": "code",
   "execution_count": null,
   "id": "715e0c61-3bc0-4af3-bea3-0b215043875c",
   "metadata": {},
   "outputs": [],
   "source": []
  },
  {
   "cell_type": "markdown",
   "id": "e3aa38e9-5b06-4b24-951e-396b409ad6e1",
   "metadata": {},
   "source": [
    "### Example 1BT: test for the mean of Batch 04"
   ]
  },
  {
   "cell_type": "code",
   "execution_count": null,
   "id": "28841074-779d-48b2-a7aa-4861fb66db3b",
   "metadata": {},
   "outputs": [],
   "source": [
    "# TODO"
   ]
  },
  {
   "cell_type": "markdown",
   "id": "8b296cda-0c99-4e1a-bdcc-14ce3b5de8e0",
   "metadata": {},
   "source": [
    "### Example 2BT: test for the mean of Batch 01"
   ]
  },
  {
   "cell_type": "code",
   "execution_count": 65,
   "id": "bd0aa03e-8202-4245-a39e-ef5fe27a962c",
   "metadata": {},
   "outputs": [],
   "source": [
    "# TODO"
   ]
  },
  {
   "cell_type": "code",
   "execution_count": null,
   "id": "15ee0448-39d0-42b2-b3a8-eaf5273f6053",
   "metadata": {},
   "outputs": [],
   "source": []
  },
  {
   "cell_type": "code",
   "execution_count": null,
   "id": "3361c32e-4ac2-48b7-bda9-89129c0e1c7a",
   "metadata": {},
   "outputs": [],
   "source": []
  },
  {
   "cell_type": "code",
   "execution_count": null,
   "id": "73b6a51d-f29b-454b-a01c-7e654dd349c6",
   "metadata": {},
   "outputs": [],
   "source": []
  },
  {
   "cell_type": "code",
   "execution_count": null,
   "id": "83747975-704e-4fd4-a23b-0d50fe7998a8",
   "metadata": {},
   "outputs": [],
   "source": []
  },
  {
   "cell_type": "code",
   "execution_count": null,
   "id": "84011187-4768-4e32-bb1e-09c171ab0a8d",
   "metadata": {},
   "outputs": [],
   "source": []
  },
  {
   "cell_type": "code",
   "execution_count": null,
   "id": "83ce6d3e-337a-4ede-b0b0-3dbe2fdf553c",
   "metadata": {},
   "outputs": [],
   "source": []
  },
  {
   "cell_type": "code",
   "execution_count": null,
   "id": "b0e9a8c4-23d0-408b-ab03-f6dc8bd3b1b8",
   "metadata": {},
   "outputs": [],
   "source": []
  },
  {
   "cell_type": "markdown",
   "id": "c3ae63a1-d099-4957-9e1b-338cc1f6c8b2",
   "metadata": {},
   "source": [
    "## Explanations"
   ]
  },
  {
   "cell_type": "markdown",
   "id": "ea8da098-00f0-4e13-b6df-07bc7a756299",
   "metadata": {},
   "source": [
    "### Statistical modelling and assumptions"
   ]
  },
  {
   "cell_type": "markdown",
   "id": "48cd9ec7-fed0-4858-a6d5-b6e6cc211aaf",
   "metadata": {},
   "source": [
    "### Two different probability models"
   ]
  },
  {
   "cell_type": "markdown",
   "id": "989ce7b7-68eb-4f14-b525-504e26541211",
   "metadata": {},
   "source": [
    "### One-sided and two-sided tests"
   ]
  },
  {
   "cell_type": "markdown",
   "id": "667045ae-d522-4738-9151-afdf1b55071f",
   "metadata": {},
   "source": [
    "### Court trial analogy"
   ]
  },
  {
   "cell_type": "code",
   "execution_count": null,
   "id": "f3c05792-d65c-401e-990e-1cb89d04f9f6",
   "metadata": {},
   "outputs": [],
   "source": []
  },
  {
   "cell_type": "code",
   "execution_count": null,
   "id": "819db8ba-052f-4a70-987a-23472cf90021",
   "metadata": {},
   "outputs": [],
   "source": []
  },
  {
   "cell_type": "markdown",
   "id": "3b92ec2a-4f3b-4abd-ac84-2553642cfc7d",
   "metadata": {},
   "source": [
    "## Discussion"
   ]
  },
  {
   "cell_type": "markdown",
   "id": "20f8104c-fd07-465e-94c8-0399838f9d90",
   "metadata": {},
   "source": [
    "### Problems with hypothesis testing"
   ]
  },
  {
   "cell_type": "code",
   "execution_count": 60,
   "id": "3b4a3d7d-2b6a-4ef6-ad60-1c10ae395aff",
   "metadata": {},
   "outputs": [],
   "source": [
    "##########a#############################################\n",
    "def getdecision(pvalue, alpha=0.05):\n",
    "    \"\"\"\n",
    "    Check if `pvalue` is less than or equal to `alpha`.\n",
    "    \"\"\"\n",
    "    if pvalue < alpha:\n",
    "        # The observed statistics is unlikely to have\n",
    "        # occurred under the null hypothesis\n",
    "        print(\"reject H0\")\n",
    "    else:\n",
    "        # The observed statistics could have occurred\n",
    "        # under the null hypothesis\n",
    "        print(\"fail to reject H0\")"
   ]
  },
  {
   "cell_type": "markdown",
   "id": "be5a788a-b31a-4dcc-b463-5323f0a43364",
   "metadata": {},
   "source": [
    "### Standardized effect size\n",
    "\n",
    "It is sometimes useful to report the effect size using a \"standardized\" measure for effect sizes.\n",
    "\n",
    "Cohen's $d$ is one such measure, and it is defined as the difference between two means divided by the pooled standard deviation."
   ]
  },
  {
   "cell_type": "code",
   "execution_count": 61,
   "id": "0542ba2b-29f6-4a38-aeb1-347f161613a8",
   "metadata": {},
   "outputs": [],
   "source": [
    "def cohend(sample, mu):\n",
    "    \"\"\"\n",
    "    Cohen's d for one group compared to the theoretical mean `mu`.\n",
    "    \"\"\"\n",
    "    obsmean = mean(sample)\n",
    "    obsstd = std(sample)\n",
    "    cohend = (obsmean - mu) / obsstd\n",
    "    return cohend"
   ]
  },
  {
   "cell_type": "markdown",
   "id": "3e208cee-3ef3-42fd-be9c-b819d240794a",
   "metadata": {},
   "source": [
    "We can interpret the value of Cohen's d obtained using the [reference table](https://en.wikipedia.org/wiki/Effect_size#Cohen's_d) of values:\n",
    "\n",
    "| Cohen's d   | Effect size |\n",
    "| ----------- | ----------- |\n",
    "| 0.01        | very small  |\n",
    "| 0.20        | small       |\n",
    "| 0.50        | medium      |\n",
    "| 0.80        | large       |\n"
   ]
  },
  {
   "cell_type": "markdown",
   "id": "7ece1ad5-dd99-4779-85b1-6b8e2f84e167",
   "metadata": {},
   "source": [
    "Effect size for mean deviation of kombucha Batch 04 from expected value $\\mu_K=1000$."
   ]
  },
  {
   "cell_type": "code",
   "execution_count": 62,
   "id": "82a7b837-4c9e-4532-8a8c-178bc6c4d549",
   "metadata": {},
   "outputs": [
    {
     "data": {
      "text/plain": [
       "0.4882087345321637"
      ]
     },
     "execution_count": 62,
     "metadata": {},
     "output_type": "execute_result"
    }
   ],
   "source": [
    "cohend(ksample04, mu=1000)"
   ]
  },
  {
   "cell_type": "markdown",
   "id": "a7cf5195-4fc4-4c68-9a4b-142729aaf921",
   "metadata": {},
   "source": [
    "Effect size for the difference between electricity prices."
   ]
  },
  {
   "cell_type": "code",
   "execution_count": null,
   "id": "4013e2eb-ba30-4ae1-b7a3-2a3b99c2ab0f",
   "metadata": {},
   "outputs": [],
   "source": []
  },
  {
   "cell_type": "code",
   "execution_count": null,
   "id": "80bc7b2b-7f00-46c3-a1be-c52aca1c3a60",
   "metadata": {},
   "outputs": [],
   "source": []
  },
  {
   "cell_type": "code",
   "execution_count": null,
   "id": "67f814b9-4c49-4c3b-8d8a-3d48fd6a9a3e",
   "metadata": {},
   "outputs": [],
   "source": []
  },
  {
   "cell_type": "markdown",
   "id": "6c26d960-822a-42a9-8c6b-8dc91a9586e7",
   "metadata": {},
   "source": [
    "## Exercises"
   ]
  },
  {
   "cell_type": "code",
   "execution_count": 63,
   "id": "473e6df7-023a-4b35-85a7-7a1a1a4e5dda",
   "metadata": {},
   "outputs": [],
   "source": [
    "# TODO"
   ]
  },
  {
   "cell_type": "markdown",
   "id": "efd39602-5e0b-4640-8d80-fe0a4753a3d0",
   "metadata": {},
   "source": [
    "## Links\n",
    "\n",
    "* [The Introductory Statistics Course: A Ptolemaic Curriculum](https://minireference.com/blog/wp-content/uploads/2021/03/TheIntroductoryStatisticsCourse__Cobb.pdf) by George W. Cobb\n",
    "* [Permutation Methods: A Basis for Exact Inference](https://projecteuclid.org/journals/statistical-science/volume-19/issue-4/Permutation-Methods-A-Basis-for-Exact-Inference/10.1214/088342304000000396.full) by Michael D. Ernst\n",
    "* [What Teachers Should Know About the Bootstrap: Resampling in the Undergraduate Statistics Curriculum](https://www.tandfonline.com/doi/full/10.1080/00031305.2015.1089789) by Tim C. Hesterberg  \n",
    "* \\[BOOK\\] [Think Stats 2e](https://greenteapress.com/wp/think-stats-2e/) by Allen B. Downey  \n",
    "* \\[VIDEO\\] [There's Only One Test](https://www.youtube.com/watch?v=S41zQEshs5k) by Allen B. Downey\n",
    "* \\[TALK\\] [Statistics for Hackers](https://www.youtube.com/watch?v=Iq9DzN6mvYA) by Jake Vanderplas\n",
    "\n",
    "\n",
    "New links:\n",
    "\n",
    "* Nice animation https://commons.wikimedia.org/wiki/File:Permutation_test_example_animation.gif  \n",
    "  via https://en.wikipedia.org/wiki/Permutation_test"
   ]
  },
  {
   "cell_type": "code",
   "execution_count": null,
   "id": "056c3176-564e-4250-bb06-d4ef069ef67c",
   "metadata": {},
   "outputs": [],
   "source": []
  },
  {
   "cell_type": "code",
   "execution_count": null,
   "id": "928e5086-37e0-4749-bc3e-53cc2c232ce5",
   "metadata": {},
   "outputs": [],
   "source": []
  },
  {
   "cell_type": "code",
   "execution_count": null,
   "id": "a50ac8a4-8403-45cc-b224-51f4ab43aa10",
   "metadata": {},
   "outputs": [],
   "source": []
  },
  {
   "cell_type": "code",
   "execution_count": null,
   "id": "7507be47-8f9c-4576-93d0-119322e45eb1",
   "metadata": {},
   "outputs": [],
   "source": []
  },
  {
   "cell_type": "code",
   "execution_count": null,
   "id": "d20e8467-80c1-447b-b46a-4081a6fae95b",
   "metadata": {},
   "outputs": [],
   "source": []
  },
  {
   "cell_type": "code",
   "execution_count": null,
   "id": "1eef90bb-6f1d-4a00-bdff-b976db8e3dbe",
   "metadata": {},
   "outputs": [],
   "source": []
  },
  {
   "cell_type": "markdown",
   "id": "9b72f6b2-ac63-4a03-8663-be73ad7aac26",
   "metadata": {},
   "source": [
    "# Imported stuff from overview"
   ]
  },
  {
   "cell_type": "markdown",
   "id": "95935f7e-b063-458f-8814-c10867a0a11e",
   "metadata": {},
   "source": [
    " "
   ]
  },
  {
   "cell_type": "markdown",
   "id": "b0431e44-cfa6-44be-8b35-cc13c282c55e",
   "metadata": {},
   "source": [
    " "
   ]
  },
  {
   "cell_type": "markdown",
   "id": "d75a1210-0e02-42f3-9243-41cd16816443",
   "metadata": {},
   "source": [
    " "
   ]
  },
  {
   "cell_type": "code",
   "execution_count": null,
   "id": "2f5ba10a-6d99-4473-9a99-944045d0389e",
   "metadata": {},
   "outputs": [],
   "source": []
  },
  {
   "cell_type": "code",
   "execution_count": null,
   "id": "8c98a20e-2548-4cc0-b527-dc7c51aa7aef",
   "metadata": {},
   "outputs": [],
   "source": []
  },
  {
   "cell_type": "markdown",
   "id": "3b86fa03-5977-4707-915d-f1e49462504a",
   "metadata": {},
   "source": []
  },
  {
   "cell_type": "code",
   "execution_count": null,
   "id": "8e5f35c3-131b-4546-8be5-f94e89aafe3a",
   "metadata": {},
   "outputs": [],
   "source": []
  },
  {
   "cell_type": "code",
   "execution_count": null,
   "id": "adbbc6b0-6f98-4cc2-8f74-6c65031f7de8",
   "metadata": {},
   "outputs": [],
   "source": []
  },
  {
   "cell_type": "code",
   "execution_count": null,
   "id": "4fd4a1e4-cde4-4f96-8ff9-ebc4f11524c1",
   "metadata": {},
   "outputs": [],
   "source": []
  },
  {
   "cell_type": "code",
   "execution_count": null,
   "id": "dbb5d0b4-d223-4541-82ab-a046ba2c7cde",
   "metadata": {},
   "outputs": [],
   "source": []
  },
  {
   "cell_type": "markdown",
   "id": "b3f3c1a2-76e8-4a6a-8877-da05c086ca59",
   "metadata": {},
   "source": [
    " "
   ]
  },
  {
   "cell_type": "markdown",
   "id": "7a38ab7b-aba7-4f85-97ab-353c37a2f48b",
   "metadata": {},
   "source": [
    " \n",
    " "
   ]
  }
 ],
 "metadata": {
  "kernelspec": {
   "display_name": "Python 3 (ipykernel)",
   "language": "python",
   "name": "python3"
  },
  "language_info": {
   "codemirror_mode": {
    "name": "ipython",
    "version": 3
   },
   "file_extension": ".py",
   "mimetype": "text/x-python",
   "name": "python",
   "nbconvert_exporter": "python",
   "pygments_lexer": "ipython3",
   "version": "3.9.4"
  }
 },
 "nbformat": 4,
 "nbformat_minor": 5
}
