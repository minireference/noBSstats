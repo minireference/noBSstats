{
 "cells": [
  {
   "cell_type": "markdown",
   "id": "b73f3d18-88c7-499d-90a3-dd6954247cf3",
   "metadata": {
    "tags": []
   },
   "source": [
    "# Section 3.3 — Introduction to hypothesis testing\n",
    "\n",
    "This notebook contains the code examples from [Section 3.3 Introduction to hypothesis testing]() of the **No Bullshit Guide to Statistics**."
   ]
  },
  {
   "cell_type": "markdown",
   "id": "efce8e91-8824-4103-a526-02e23c794668",
   "metadata": {
    "tags": []
   },
   "source": [
    "#### Notebook setup"
   ]
  },
  {
   "cell_type": "code",
   "execution_count": 1,
   "id": "990de07d-c26f-4a29-935a-2b1dacc89b34",
   "metadata": {},
   "outputs": [],
   "source": [
    "# load Python modules\n",
    "import os\n",
    "import numpy as np\n",
    "import pandas as pd\n",
    "import seaborn as sns\n",
    "import matplotlib.pyplot as plt"
   ]
  },
  {
   "cell_type": "code",
   "execution_count": 2,
   "id": "2ae5e519-3e7b-4218-aebd-bbb7790783cd",
   "metadata": {},
   "outputs": [],
   "source": [
    "# Plot helper functions\n",
    "from plot_helpers import nicebins\n",
    "from plot_helpers import plot_pdf\n",
    "from plot_helpers import savefigure\n"
   ]
  },
  {
   "cell_type": "code",
   "execution_count": 3,
   "id": "3209c5be-cb6a-42c0-8bf8-949a4fc0ff39",
   "metadata": {},
   "outputs": [
    {
     "data": {
      "text/plain": [
       "<Figure size 640x480 with 0 Axes>"
      ]
     },
     "metadata": {},
     "output_type": "display_data"
    }
   ],
   "source": [
    "# Figures setup\n",
    "plt.clf()  # needed otherwise `sns.set_theme` doesn't work\n",
    "from plot_helpers import RCPARAMS\n",
    "# RCPARAMS.update({'figure.figsize': (10, 3)})   # good for screen\n",
    "RCPARAMS.update({'figure.figsize': (5, 1.6)})  # good for print\n",
    "sns.set_theme(\n",
    "    context=\"paper\",\n",
    "    style=\"whitegrid\",\n",
    "    palette=\"colorblind\",\n",
    "    rc=RCPARAMS,\n",
    ")\n",
    "\n",
    "# Useful colors\n",
    "snspal = sns.color_palette()\n",
    "blue, orange, purple = snspal[0], snspal[1], snspal[4]\n",
    "# red = sns.color_palette(\"tab10\")[3]\n",
    "\n",
    "# High-resolution please\n",
    "%config InlineBackend.figure_format = 'retina'\n",
    "\n",
    "# Where to store figures\n",
    "DESTDIR = \"figures/stats/intro_to_NHST\""
   ]
  },
  {
   "cell_type": "code",
   "execution_count": 4,
   "id": "df22d8d7-6814-4c3b-a3d3-2f31ab6b2f3b",
   "metadata": {},
   "outputs": [],
   "source": [
    "# set random seed for repeatability\n",
    "np.random.seed(42)"
   ]
  },
  {
   "cell_type": "markdown",
   "id": "94d9cb52-34ec-416a-a883-850cf725f8a6",
   "metadata": {},
   "source": [
    "$\\def\\stderr#1{\\mathbf{se}_{#1}}$\n",
    "$\\def\\stderrhat#1{\\hat{\\mathbf{se}}_{#1}}$\n",
    "$\\newcommand{\\Mean}{\\textbf{Mean}}$\n",
    "$\\newcommand{\\Var}{\\textbf{Var}}$\n",
    "$\\newcommand{\\Std}{\\textbf{Std}}$\n",
    "$\\newcommand{\\Freq}{\\textbf{Freq}}$\n",
    "$\\newcommand{\\RelFreq}{\\textbf{RelFreq}}$\n",
    "$\\newcommand{\\DMeans}{\\textbf{DMeans}}$\n",
    "$\\newcommand{\\Prop}{\\textbf{Prop}}$\n",
    "$\\newcommand{\\DProps}{\\textbf{DProps}}$\n",
    "\n",
    "$$\n",
    "\\newcommand{\\CI}[1]{\\textbf{CI}_{#1}}\n",
    "\\newcommand{\\CIL}[1]{\\textbf{L}_{#1}}\n",
    "\\newcommand{\\CIU}[1]{\\textbf{U}_{#1}}\n",
    "\\newcommand{\\ci}[1]{\\textbf{ci}_{#1}}\n",
    "\\newcommand{\\cil}[1]{\\textbf{l}_{#1}}\n",
    "\\newcommand{\\ciu}[1]{\\textbf{u}_{#1}}\n",
    "$$\n",
    "\n",
    "\n",
    "(this cell contains the macro definitions like $\\stderr{\\overline{\\mathbf{x}}}$, $\\stderrhat{}$, $\\Mean$, ...)"
   ]
  },
  {
   "cell_type": "markdown",
   "id": "a4359b21-fcb5-41ac-b46b-b8dcc9abe182",
   "metadata": {},
   "source": [
    "## Definitions\n",
    "\n",
    "- estimator (statistic)\n",
    "\n"
   ]
  },
  {
   "cell_type": "code",
   "execution_count": 5,
   "id": "213defaa-1e71-40aa-a6af-b9c73982f4bb",
   "metadata": {},
   "outputs": [],
   "source": [
    "def mean(sample):\n",
    "    return sum(sample) / len(sample)\n",
    "\n",
    "def var(sample):\n",
    "    xbar = mean(sample)\n",
    "    sumsqdevs = sum([(xi-xbar)**2 for xi in sample])\n",
    "    return sumsqdevs / (len(sample)-1)\n",
    "\n",
    "def std(sample):\n",
    "    s2 = var(sample)\n",
    "    return np.sqrt(s2)\n",
    "\n",
    "def dmeans(xsample, ysample):\n",
    "    dhat = mean(xsample) - mean(ysample)\n",
    "    return dhat"
   ]
  },
  {
   "cell_type": "markdown",
   "id": "a5ae790e-e7e5-4880-8c6f-72c101319403",
   "metadata": {},
   "source": [
    "### What is hypothesis testing?\n",
    "\n",
    "- An approach to formulating research questions as **yes-no decisions** and a **procedure for making these decisions**\n",
    "- Hypothesis testing is a standardized procedure for doing statistical analysis  \n",
    "  (also, using stats jargon makes everything look more convincing ;)\n",
    "- We formulate research question as two **competing hypotheses**:\n",
    "  - **Null hypothesis $H_0$** = no effect.  \n",
    "  - **Alternative hypothesis $H_A$** = an effect exists.\n",
    "\n",
    "- NEW CONCEPT: the $p$-value is the probability of observing statistic (or more extreme) under the null hypothesis.\n"
   ]
  },
  {
   "cell_type": "code",
   "execution_count": null,
   "id": "0d488111-c67c-444f-bcf6-eff0a903dc7e",
   "metadata": {},
   "outputs": [],
   "source": []
  },
  {
   "cell_type": "markdown",
   "id": "ab433480-b256-427f-8ee2-922e2468abbb",
   "metadata": {},
   "source": [
    "## The logic of hypothesis testing"
   ]
  },
  {
   "cell_type": "markdown",
   "id": "c0bc59f3-afc8-4e54-b6e6-c6b5f731d9ba",
   "metadata": {},
   "source": [
    "### Overview of the hypothesis testing procedure\n",
    "\n",
    "Here is the high-level overview of the hypothesis testing procedure:\n",
    "- **inputs**: sample statistics computed from the observed data\n",
    "  (in our case the signal $\\overline{\\mathbf{x}}_S$, $\\overline{\\mathbf{x}}_{NS}$,\n",
    "   and our estimates of the noise $s^2_S$, and $s^2_{NS}$)\n",
    "- **outputs**: a decision that is one of: \"reject the null hypothesis\" or \"fail to reject the null hypothesis\"\n",
    "\n",
    "![hypothesis testing overview](./attachments/stats/intro_to_hypothesis_testing.png)\n",
    "\n",
    "\n",
    "We'll now look at two different approaches for computing the sampling distribution of\n",
    "the difference between group means statistic, $D = \\overline{\\mathbf{X}}_S - \\overline{\\mathbf{X}}_{NS}$:\n",
    "permutation tests and analytical approximations."
   ]
  },
  {
   "cell_type": "code",
   "execution_count": null,
   "id": "7c7306c4-e20d-4453-ba09-96babc7534b1",
   "metadata": {},
   "outputs": [],
   "source": []
  },
  {
   "cell_type": "markdown",
   "id": "ee8e5ae2-06a3-4eb2-a7e1-9a53e818dbef",
   "metadata": {
    "tags": []
   },
   "source": [
    "### Interpreting the result of a hypothesis test (optional)\n"
   ]
  },
  {
   "cell_type": "markdown",
   "id": "c0aa58b0-8428-42ef-823c-0fba093233bc",
   "metadata": {
    "tags": []
   },
   "source": [
    "\n",
    "- The implication of rejecting the null hypothesis (no difference) is that there must be a difference between the observed sample and the theoretical model.\n",
    "  - Note that rejecting null hypothesis ($H_0$) is not the same as \"proving\" the alternative hypothesis ($H_A$);\n",
    "    we have just shown that the data is unlikely under the null hypothesis.\n",
    "    The conclusion is that it's worth looking for *some* alternative hypothesis.\n",
    "  - Using statistics jargon, when we reject the hypothesis $H_0$ we say we've observed a \"statistically significant\" result,\n",
    "    which sounds a lot more impressive than it actually is.\n",
    "    The null hypothesis testing procedure is used to just rule out \"occurred by chance\" scenario,\n",
    "    which is a very basic sanity check.    \n",
    "\n",
    "- The implication of failing to reject the null hypothesis is that the observed sample is \"not significant,\" meaning it could have occurred by chance,\n",
    "  so there is no need to search for an alternative hypothesis.\n",
    "  - Note that \"failing to reject\" is not the same as \"proving\" the null hypothesis.\n",
    "\n",
    "I know all this sounds super complicated and roundabout (an it is!),\n",
    "but you will get a hang of it with practice."
   ]
  },
  {
   "cell_type": "code",
   "execution_count": null,
   "id": "68f81e24-10f9-484c-83e0-5e07f05c9bf1",
   "metadata": {},
   "outputs": [],
   "source": []
  },
  {
   "cell_type": "code",
   "execution_count": null,
   "id": "dce5dbc2-8aa3-4d73-b515-89dfa483258a",
   "metadata": {},
   "outputs": [],
   "source": []
  },
  {
   "cell_type": "code",
   "execution_count": null,
   "id": "5f91f63d-2610-45fd-a8c7-e7432a046287",
   "metadata": {},
   "outputs": [],
   "source": []
  },
  {
   "cell_type": "code",
   "execution_count": null,
   "id": "06b70ba8-6bc0-4c70-8ccf-1643fc5f5024",
   "metadata": {},
   "outputs": [],
   "source": []
  },
  {
   "cell_type": "code",
   "execution_count": null,
   "id": "437ba94e-7b1a-446b-a63c-9ae4477aa09b",
   "metadata": {},
   "outputs": [],
   "source": []
  },
  {
   "cell_type": "code",
   "execution_count": null,
   "id": "4b43920a-1fb0-4792-817a-b116475a2aad",
   "metadata": {},
   "outputs": [],
   "source": []
  },
  {
   "cell_type": "markdown",
   "id": "b564c332-fc9c-4adc-922f-d52e377d5cf8",
   "metadata": {},
   "source": [
    "### Effect size estimates\n",
    "\n",
    "The **effect size** $\\Delta$ describes the *magnitude* of the deviation of the observed statistic\n",
    "from the expected theoretical value.\n",
    "\n",
    "A point estimate is ...\n",
    "\n",
    "A better way to report effect size as a **confidence interval** \n",
    "that takes into account the variability of the data.\n",
    "The confidence interval that tells us a range of values where we believe the true value of $\\Delta$ falls."
   ]
  },
  {
   "cell_type": "code",
   "execution_count": null,
   "id": "170b46e1-acd3-4002-a9d8-484afa9e2f1b",
   "metadata": {},
   "outputs": [],
   "source": []
  },
  {
   "cell_type": "markdown",
   "id": "fa0e424d-9f1c-4a0c-a23a-727ef0736c32",
   "metadata": {},
   "source": [
    "#### Reminder on confidence intervals functions"
   ]
  },
  {
   "cell_type": "code",
   "execution_count": 6,
   "id": "676aa3fb-d9ff-4a0a-b28e-b5ad6961d967",
   "metadata": {},
   "outputs": [],
   "source": [
    "from stats_helpers import ci_mean, ci_var"
   ]
  },
  {
   "cell_type": "code",
   "execution_count": null,
   "id": "5362d180-bc5f-4924-8bf5-a7c82a195d16",
   "metadata": {},
   "outputs": [],
   "source": []
  },
  {
   "cell_type": "markdown",
   "id": "96a07532-c61b-451b-ae92-1543790ad054",
   "metadata": {},
   "source": [
    " \n",
    " "
   ]
  },
  {
   "cell_type": "markdown",
   "id": "474a1144-1fae-40aa-a929-eb2508576e8c",
   "metadata": {},
   "source": [
    " "
   ]
  },
  {
   "cell_type": "code",
   "execution_count": null,
   "id": "eadd9377-25a9-437c-8ce1-e8030a192692",
   "metadata": {},
   "outputs": [],
   "source": []
  },
  {
   "cell_type": "code",
   "execution_count": null,
   "id": "6ea9722e-28c5-46ab-b1d3-c7237ba5a2ae",
   "metadata": {},
   "outputs": [],
   "source": []
  },
  {
   "cell_type": "markdown",
   "id": "8d04caba-b43d-43ce-a22f-a18466fbbc86",
   "metadata": {},
   "source": [
    "## Simulation tests"
   ]
  },
  {
   "cell_type": "markdown",
   "id": "339844ec-8dfd-4e87-8597-2acce0fac99d",
   "metadata": {},
   "source": [
    "Description of the problem: compare simple of obs. to an known population model"
   ]
  },
  {
   "cell_type": "markdown",
   "id": "d2dacc15-b674-45d1-9cd4-655c60ed6af6",
   "metadata": {},
   "source": [
    "#### Sampling distribution under the null\n",
    "\n"
   ]
  },
  {
   "cell_type": "code",
   "execution_count": 7,
   "id": "b9c83588-c0af-43af-a7d6-ab953428d679",
   "metadata": {},
   "outputs": [],
   "source": [
    "from scipy.stats import norm\n",
    "\n",
    "# theoretical model for the kombucha volumes\n",
    "muK0 = 1000   # population mean (expected kombucha volume)\n",
    "sigmaK0 = 10  # population variance\n",
    "\n",
    "rvK0 = norm(muK0, sigmaK0)"
   ]
  },
  {
   "cell_type": "code",
   "execution_count": 8,
   "id": "f164b0e6-64ab-451a-a35a-eb29bf01d63c",
   "metadata": {},
   "outputs": [
    {
     "data": {
      "text/plain": [
       "array([1004.97,  998.62, 1006.48, 1015.23,  997.66,  997.66, 1015.79,\n",
       "       1007.67,  995.31, 1005.43,  995.37,  995.34, 1002.42,  980.87,\n",
       "        982.75,  994.38,  989.87, 1003.14,  990.92,  985.88])"
      ]
     },
     "execution_count": 8,
     "metadata": {},
     "output_type": "execute_result"
    }
   ],
   "source": [
    "np.random.seed(42)\n",
    "rvK0.rvs(size=20).round(2)"
   ]
  },
  {
   "cell_type": "markdown",
   "id": "686aa3be-c3f2-40c4-9628-ee80b75f7acd",
   "metadata": {},
   "source": [
    "We can now generate the sampling distribution using simulation..."
   ]
  },
  {
   "cell_type": "code",
   "execution_count": 9,
   "id": "06fa873f-bd27-457e-9b82-fee258df7e07",
   "metadata": {},
   "outputs": [],
   "source": [
    "from stats_helpers import gen_sampling_dist\n",
    "\n",
    "np.random.seed(42)\n",
    "kbars0 = gen_sampling_dist(rvK0, estfunc=mean, n=20)\n",
    "kvars0 = gen_sampling_dist(rvK0, estfunc=var, n=20)"
   ]
  },
  {
   "cell_type": "code",
   "execution_count": 10,
   "id": "91cc8e12-c219-4608-9363-5a42adf63657",
   "metadata": {},
   "outputs": [
    {
     "data": {
      "text/plain": [
       "<AxesSubplot: ylabel='Density'>"
      ]
     },
     "execution_count": 10,
     "metadata": {},
     "output_type": "execute_result"
    },
    {
     "data": {
      "image/png": "[encoded data removed]",
      "text/plain": [
       "<Figure size 500x160 with 1 Axes>"
      ]
     },
     "metadata": {
      "image/png": {
       "height": 169,
       "width": 459
      }
     },
     "output_type": "display_data"
    }
   ],
   "source": [
    "sns.histplot(kbars0, stat=\"density\", bins=100)"
   ]
  },
  {
   "cell_type": "code",
   "execution_count": 11,
   "id": "27b8cd01-b1ef-4c0d-b7c2-e0ca9108b8e8",
   "metadata": {},
   "outputs": [
    {
     "data": {
      "text/plain": [
       "<AxesSubplot: ylabel='Density'>"
      ]
     },
     "execution_count": 11,
     "metadata": {},
     "output_type": "execute_result"
    },
    {
     "data": {
      "image/png": "[encoded data removed]",
      "text/plain": [
       "<Figure size 500x160 with 1 Axes>"
      ]
     },
     "metadata": {
      "image/png": {
       "height": 166,
       "width": 465
      }
     },
     "output_type": "display_data"
    }
   ],
   "source": [
    "sns.histplot(kvars0, stat=\"density\", bins=100)"
   ]
  },
  {
   "cell_type": "code",
   "execution_count": 12,
   "id": "241c00c8-fa27-4216-960d-40267e0ef39c",
   "metadata": {},
   "outputs": [
    {
     "name": "stdout",
     "output_type": "stream",
     "text": [
      "Saved figure to figures/stats/intro_to_NHST/panel_hist_kbars0_kvars0_n20.pdf\n",
      "Saved figure to figures/stats/intro_to_NHST/panel_hist_kbars0_kvars0_n20.png\n"
     ]
    },
    {
     "data": {
      "image/png": "[encoded data removed]",
      "text/plain": [
       "<Figure size 700x200 with 2 Axes>"
      ]
     },
     "metadata": {
      "image/png": {
       "height": 189,
       "width": 682
      }
     },
     "output_type": "display_data"
    }
   ],
   "source": [
    "filename = os.path.join(DESTDIR, \"panel_hist_kbars0_kvars0_n20.pdf\")\n",
    "with plt.rc_context({\"figure.figsize\":(7,2)}), sns.axes_style(\"ticks\"):\n",
    "    fig, (ax1, ax2) = plt.subplots(1, 2)\n",
    "\n",
    "    # MEAN\n",
    "    title = '(a) sampling distribution of the mean'\n",
    "    ax1.set_title(title, fontsize=10)\n",
    "    sns.histplot(kbars0, ax=ax1, stat=\"density\", bins=100)\n",
    "    ax1.set_xlabel(\"$\\overline{\\mathbf{k}}_0$\")\n",
    "    ax1.set_ylabel(\"$f_{\\overline{\\mathbf{K}}_0}$\")\n",
    "\n",
    "    # VARIANCE\n",
    "    title = '(b) sampling distribution of the variance'\n",
    "    ax2.set_title(title, fontsize=10)\n",
    "    sns.histplot(kvars0, ax=ax2, stat=\"density\", bins=100)\n",
    "    ax2.set_xlabel(\"$s_{{\\mathbf{k}}_0}^2}$\")\n",
    "    ax2.set_ylabel(\"$f_{S_{{\\mathbf{K}}_0}^2}$\")\n",
    "\n",
    "savefigure(fig, filename)"
   ]
  },
  {
   "cell_type": "code",
   "execution_count": null,
   "id": "a38aebd6-5ce4-497f-bdf9-af4e99db8162",
   "metadata": {},
   "outputs": [],
   "source": []
  },
  {
   "cell_type": "markdown",
   "id": "f0e86164-cd7f-4854-88d7-bd527cae9dfb",
   "metadata": {},
   "source": [
    "#### Selecting the tails of a distribution\n",
    "\n",
    "The concept of statistics that are \"equal or more extreme than\" the observed statistic $\\hat{\\theta}=g(\\mathbf{x})$\n",
    "is essential to the logic of hypothesis testing.\n"
   ]
  },
  {
   "cell_type": "code",
   "execution_count": 13,
   "id": "30ba538d-02d2-4b6d-aca8-996a162190a8",
   "metadata": {},
   "outputs": [],
   "source": [
    "#######################################################\n",
    "\n",
    "def tailvalues(values, obs, alt=\"two-sided\"):\n",
    "    \"\"\"\n",
    "    Select the subset of the elements in list `values` that\n",
    "    are equal or more extreme than the observed value `obs`.\n",
    "    \"\"\"\n",
    "    assert alt in [\"greater\", \"less\", \"two-sided\"]\n",
    "    values = np.array(values)\n",
    "    if alt == \"greater\":\n",
    "        tails = values[values >= obs]\n",
    "    elif alt == \"less\":\n",
    "        tails = values[values <= obs]\n",
    "    elif alt == \"two-sided\":\n",
    "        mean = np.mean(values)\n",
    "        dev = abs(mean - obs)\n",
    "        tails = values[abs(values-mean) >= dev]\n",
    "    return tails"
   ]
  },
  {
   "cell_type": "code",
   "execution_count": null,
   "id": "8fc9fa95-8409-4af8-8fe1-829d2aa35165",
   "metadata": {},
   "outputs": [],
   "source": []
  },
  {
   "cell_type": "markdown",
   "id": "d6edbf69-ba73-49e7-a90b-fa4ac641c330",
   "metadata": {},
   "source": [
    "#### Right tail of the distribution\n",
    "\n",
    "Given a list of observations from the sampling distribution `stats`,\n",
    "we want to select the observations that are equal to or larger than the observed statistic `obs`."
   ]
  },
  {
   "cell_type": "code",
   "execution_count": 14,
   "id": "bedf1362-56fa-44cb-9346-455b2233b37f",
   "metadata": {},
   "outputs": [
    {
     "data": {
      "text/plain": [
       "array([2, 3, 4, 5])"
      ]
     },
     "execution_count": 14,
     "metadata": {},
     "output_type": "execute_result"
    }
   ],
   "source": [
    "stats = [-5, -4, -3, -2, -1, 0, 1, 2, 3, 4, 5]\n",
    "obs = 2\n",
    "tailvalues(stats, obs, alt=\"greater\")"
   ]
  },
  {
   "cell_type": "markdown",
   "id": "89c29720-4863-433a-89bb-d0f5bee5082b",
   "metadata": {},
   "source": [
    "#### Left tail of the distribution\n",
    "\n",
    "Given a list of observations from the sampling distribution `stats`,\n",
    "we want to select the observations that are equal to or less than the observed statistic `obs`."
   ]
  },
  {
   "cell_type": "code",
   "execution_count": 15,
   "id": "0f48e46d-b54b-4dc3-a7b5-e46bffc0d09d",
   "metadata": {},
   "outputs": [
    {
     "data": {
      "text/plain": [
       "array([-5, -4, -3])"
      ]
     },
     "execution_count": 15,
     "metadata": {},
     "output_type": "execute_result"
    }
   ],
   "source": [
    "obs = -3\n",
    "tailvalues(stats, -3, alt=\"less\")"
   ]
  },
  {
   "cell_type": "markdown",
   "id": "f9064b7c-d43b-4cb9-820e-b7230044cf4d",
   "metadata": {},
   "source": [
    "#### Both tails of the distribution\n",
    "\n",
    "We select the observations that are equal to or more extreme than the deviation\n",
    "of the observed statistic `obs`.\n",
    "This means all values that are greater than `|obs|` and less than `-|obs|`."
   ]
  },
  {
   "cell_type": "code",
   "execution_count": 16,
   "id": "46a3c55c-5877-4379-a797-4c764b08e640",
   "metadata": {},
   "outputs": [
    {
     "data": {
      "text/plain": [
       "array([-5, -4,  4,  5])"
      ]
     },
     "execution_count": 16,
     "metadata": {},
     "output_type": "execute_result"
    }
   ],
   "source": [
    "obs = 4\n",
    "tailvalues(stats, obs, alt=\"two-sided\")"
   ]
  },
  {
   "cell_type": "code",
   "execution_count": null,
   "id": "c44ecc70-595a-4b04-a59a-51b87b8baca8",
   "metadata": {},
   "outputs": [],
   "source": []
  },
  {
   "cell_type": "code",
   "execution_count": 17,
   "id": "ad31aaeb-c5c0-4686-b54a-3e7dfd638350",
   "metadata": {},
   "outputs": [
    {
     "name": "stdout",
     "output_type": "stream",
     "text": [
      "Saved figure to figures/stats/intro_to_NHST/panel_hist_p-values_left_twotailed_right_tests.pdf\n",
      "Saved figure to figures/stats/intro_to_NHST/panel_hist_p-values_left_twotailed_right_tests.png\n"
     ]
    },
    {
     "data": {
      "image/png": "[encoded data removed]",
      "text/plain": [
       "<Figure size 700x200 with 3 Axes>"
      ]
     },
     "metadata": {
      "image/png": {
       "height": 188,
       "width": 689
      }
     },
     "output_type": "display_data"
    }
   ],
   "source": [
    "filename = os.path.join(DESTDIR, \"panel_hist_p-values_left_twotailed_right_tests.pdf\")\n",
    "    \n",
    "from scipy.stats import t as tdist\n",
    "rvT = tdist(9)\n",
    "\n",
    "xs = np.linspace(-4, 4, 1000)\n",
    "ys = rvT.pdf(xs)\n",
    "\n",
    "N = 100000\n",
    "np.random.seed(42)\n",
    "ts = rvT.rvs(N)\n",
    "\n",
    "bins = nicebins(xs, 2, nbins=50)\n",
    "\n",
    "with plt.rc_context({\"figure.figsize\":(7,2)}), sns.axes_style(\"ticks\"):\n",
    "    fig, (ax3, ax1, ax2) = plt.subplots(1, 3, sharey=True)\n",
    "    ax3.set_ylabel(\"$f_{\\widehat{\\Theta}_0}$\")\n",
    "\n",
    "    # RIGHT\n",
    "    title = '(a) right-tailed test'\n",
    "    ax3.set_title(title, fontsize=13)\n",
    "    sns.histplot(ts, ax=ax3, bins=bins)\n",
    "    ax3.set_xlim(-4, 4)\n",
    "    ax3.set_xticks([2])\n",
    "    ax3.set_xticklabels([])\n",
    "    ax3.set_yticks([])\n",
    "    # highlight the right tail\n",
    "    tailvalues3 = [t for t in ts if t >= 2]\n",
    "    sns.histplot(tailvalues3, bins=bins, ax=ax3, color=\"red\")\n",
    "    ax3.text(2, -300, \"$\\hat{\\\\theta}_{\\mathbf{x}}$\", verticalalignment=\"top\", horizontalalignment=\"center\")\n",
    "    \n",
    "    # LEFT\n",
    "    title = '(b) left-tailed test'\n",
    "    ax1.set_title(title, fontsize=13)\n",
    "    sns.histplot(ts, ax=ax1, bins=bins)\n",
    "    \n",
    "    ax1.set_xlim(-4, 4)\n",
    "    ax1.set_xticks([-2])\n",
    "    ax1.set_xticklabels([])\n",
    "    ax1.set_yticks([])\n",
    "    ax1.set_ylabel(\"\")\n",
    "    # highlight the left tail\n",
    "    tailvalues1 = tailvalues(ts, -2, alt=\"less\")\n",
    "    sns.histplot(tailvalues1, bins=bins, ax=ax1, color=\"red\")\n",
    "    ax1.text(-2, -300, r\"$\\hat{\\theta}_{\\mathbf{x}}$\", va=\"top\", ha=\"center\")\n",
    "\n",
    "    # TWO-TAILED\n",
    "    title = '(c) two-tailed test'\n",
    "    ax2.set_title(title, fontsize=13)\n",
    "    sns.histplot(ts, ax=ax2, bins=bins)\n",
    "    ax2.set_xlim(-4, 4)\n",
    "    ax2.set_xticks([-2,2])\n",
    "    ax2.set_xticklabels([])\n",
    "    ax2.set_yticks([])\n",
    "    # highlight the left and right tails\n",
    "    tailvalues2 = [t for t in ts if t <= -2 or t >= 2]\n",
    "    sns.histplot(tailvalues2, bins=bins, ax=ax2, color=\"red\")\n",
    "    ax2.text(-2, -300, r\"$-|\\hat{\\theta}_{\\mathbf{x}}|$\", verticalalignment=\"top\", horizontalalignment=\"center\")\n",
    "    ax2.text(2, -300, r\"$|\\hat{\\theta}_{\\mathbf{x}}|$\", verticalalignment=\"top\", horizontalalignment=\"center\")\n",
    "\n",
    "savefigure(fig, filename)"
   ]
  },
  {
   "cell_type": "code",
   "execution_count": null,
   "id": "bbf2cfce-61d6-4dd3-97d6-8f6fd60367f2",
   "metadata": {},
   "outputs": [],
   "source": []
  },
  {
   "cell_type": "markdown",
   "id": "8348c9b7-99e1-4275-9acd-b746ddfea86c",
   "metadata": {},
   "source": [
    "### Kombucha bottling process\n",
    "\n",
    "Reminder of kombucha bottling scenario where \n",
    "theory: $K \\sim \\mathcal{N}(\\mu_{K_0}=1000, \\sigma_{K_0}=10)$\n"
   ]
  },
  {
   "cell_type": "markdown",
   "id": "7f73d9c3-fad2-4066-bc62-c44d3f1a586c",
   "metadata": {},
   "source": [
    "Computational approach: simulation given mu_0 and sigma_0 are known"
   ]
  },
  {
   "cell_type": "markdown",
   "id": "b7402830-149a-4d17-b2a9-1ec3530ee98c",
   "metadata": {},
   "source": [
    "### Example 1S: test for the mean of Batch 04\n",
    "\n",
    "$$\n",
    "    H_0: \\;\\; \\mu = \\mu_{K_0} = 1000,\n",
    "    \\qquad \\qquad\n",
    "    H_A: \\;\\; \\mu \\neq \\mu_{K_0}.\n",
    "$$\n",
    "\n",
    "In words,\n",
    "the null hypothesis describes a regular batch,\n",
    "where the mean of the batch is equal to the mean of the model $\\mu_{K_0}=1000$.\n",
    "\n",
    "We'll show the hypothesis testing procedure for\n",
    "two different batches from the `kombucha` dataset."
   ]
  },
  {
   "cell_type": "code",
   "execution_count": 18,
   "id": "b6a336b6-2d90-4faa-9d8e-5d7d23cd637c",
   "metadata": {},
   "outputs": [],
   "source": [
    "kombucha = pd.read_csv(\"../datasets/kombucha.csv\")\n",
    "batch04 = kombucha[kombucha[\"batch\"]==4]\n",
    "ksample04 = batch04[\"volume\"]"
   ]
  },
  {
   "cell_type": "code",
   "execution_count": 19,
   "id": "1d8d4fad-a697-43b1-b457-a00e379555ff",
   "metadata": {},
   "outputs": [
    {
     "data": {
      "text/plain": [
       "40"
      ]
     },
     "execution_count": 19,
     "metadata": {},
     "output_type": "execute_result"
    }
   ],
   "source": [
    "len(ksample04)"
   ]
  },
  {
   "cell_type": "code",
   "execution_count": 20,
   "id": "cb31a6fe-bd41-4422-8b05-4960621e636a",
   "metadata": {},
   "outputs": [
    {
     "data": {
      "text/plain": [
       "1003.8335"
      ]
     },
     "execution_count": 20,
     "metadata": {},
     "output_type": "execute_result"
    }
   ],
   "source": [
    "# observed mean\n",
    "obsmean04 = mean(ksample04)\n",
    "obsmean04"
   ]
  },
  {
   "cell_type": "markdown",
   "id": "8b08d9e0-5790-43fa-be3e-b76d0f76cc3e",
   "metadata": {},
   "source": [
    "The mean volume calculated from the sample `ksample04` is $3.83$ ml higher than the expected mean $\\mu_{K_0} = 1000$ ml.\n",
    "\n",
    "Is this a big difference or not?\n",
    "\n",
    "How likely is such deviation to occur by chance under the null hypothesis?"
   ]
  },
  {
   "cell_type": "markdown",
   "id": "52f286e3-10fa-4fba-8aab-1b03d4acd8a1",
   "metadata": {},
   "source": [
    "#### Sampling distribution under the null hypothesis"
   ]
  },
  {
   "cell_type": "markdown",
   "id": "16cfb044-6ff2-420c-8a82-5176f3bfc15f",
   "metadata": {},
   "source": [
    "To answer this question,\n",
    "we need to generate the sampling distribution of the mean\n",
    "for samples of size $n=40$ under the null hypothesis $H_0$.\n",
    "We can do this using the `gen_sampling_dist` function,\n",
    "by providing it the probability model `rvK` $=K = \\mathcal{N}(\\mu_{K_0}=1000,\\sigma_{K_0}=10)$,\n",
    "which describes the variability of the kombucha volumes when the factory is operating correctly."
   ]
  },
  {
   "cell_type": "code",
   "execution_count": 21,
   "id": "963d987f-f111-41c6-af9d-5809d6138df6",
   "metadata": {},
   "outputs": [],
   "source": [
    "from scipy.stats import norm\n",
    "\n",
    "# theoretical model for the kombucha volumes\n",
    "muK0 = 1000   # population mean (expected kombucha volume)\n",
    "sigmaK0 = 10  # population variance\n",
    "rvK = norm(muK0, sigmaK0)"
   ]
  },
  {
   "cell_type": "markdown",
   "id": "b4821293-a986-46ed-83fc-8ecdb3a27adb",
   "metadata": {},
   "source": [
    "We can now generate the sampling distribution using simulation..."
   ]
  },
  {
   "cell_type": "code",
   "execution_count": 22,
   "id": "a614ef8f-16dd-4a0b-99b0-b2886f40056c",
   "metadata": {},
   "outputs": [],
   "source": [
    "from stats_helpers import gen_sampling_dist\n",
    "\n",
    "np.random.seed(42)\n",
    "kbars40 = gen_sampling_dist(rvK, estfunc=mean, n=40)"
   ]
  },
  {
   "cell_type": "markdown",
   "id": "c0f7312a-17df-4bba-958d-217e0d098e8d",
   "metadata": {},
   "source": [
    "To calculate the $p$-value, we want\n",
    "want to calculate how many values of sampling distribution `kbars40`\n",
    "are equal or more extreme than the observed value $\\overline{\\mathbf{k}}_{04} = $ `obsmean04` = 1003.8335."
   ]
  },
  {
   "cell_type": "code",
   "execution_count": null,
   "id": "f6c15536-3d47-419b-a778-05400cd54003",
   "metadata": {},
   "outputs": [],
   "source": []
  },
  {
   "cell_type": "code",
   "execution_count": 23,
   "id": "e2f4f979-5f4f-4598-ba17-1dec4740f7d2",
   "metadata": {},
   "outputs": [
    {
     "data": {
      "text/plain": [
       "0.015"
      ]
     },
     "execution_count": 23,
     "metadata": {},
     "output_type": "execute_result"
    }
   ],
   "source": [
    "tails = tailvalues(kbars40, obsmean04)\n",
    "pvalue04 = len(tails) / len(kbars40)\n",
    "pvalue04"
   ]
  },
  {
   "cell_type": "code",
   "execution_count": 24,
   "id": "6b4033b3-5fa9-4065-a0e4-22d5561a371d",
   "metadata": {},
   "outputs": [
    {
     "data": {
      "image/png": "[encoded data removed]",
      "text/plain": [
       "<Figure size 500x160 with 1 Axes>"
      ]
     },
     "metadata": {
      "image/png": {
       "height": 166,
       "width": 456
      }
     },
     "output_type": "display_data"
    }
   ],
   "source": [
    "# plot the sampling distribution as a histogram\n",
    "sns.histplot(kbars40, bins=100)\n",
    "\n",
    "# plot red line for the observed mean\n",
    "plt.axvline(obsmean04, color=\"red\")\n",
    "\n",
    "# plot the values that are equal or more extreme in red\n",
    "_ = sns.histplot(tails, bins=100, color=\"red\")"
   ]
  },
  {
   "cell_type": "code",
   "execution_count": 25,
   "id": "13db457a-4cae-45a1-92ad-f11186e74bcb",
   "metadata": {},
   "outputs": [
    {
     "name": "stdout",
     "output_type": "stream",
     "text": [
      "Saved figure to figures/stats/intro_to_NHST/hist_p-value_kombucha_obsmean04.pdf\n",
      "Saved figure to figures/stats/intro_to_NHST/hist_p-value_kombucha_obsmean04.png\n"
     ]
    },
    {
     "data": {
      "image/png": "[encoded data removed]",
      "text/plain": [
       "<Figure size 500x160 with 1 Axes>"
      ]
     },
     "metadata": {
      "image/png": {
       "height": 150,
       "width": 489
      }
     },
     "output_type": "display_data"
    }
   ],
   "source": [
    "filename = os.path.join(DESTDIR, \"hist_p-value_kombucha_obsmean04.pdf\")\n",
    "\n",
    "# plot the sampling distribution as a histogram\n",
    "bins = nicebins(kbars40, obsmean04)\n",
    "ax = sns.histplot(kbars40, bins=bins)\n",
    "\n",
    "# plot red line for the observed statistic\n",
    "plt.axvline(obsmean04, color=\"red\")\n",
    "\n",
    "# plot the values that are equal or more extreme in red\n",
    "sns.histplot(tails, bins=bins, ax=ax, color=\"red\")\n",
    "ax.set_ylabel(\"$f_{\\overline{\\mathbf{K}}_0}$\")\n",
    "\n",
    "savefigure(ax, filename)"
   ]
  },
  {
   "cell_type": "markdown",
   "id": "cca93f25-9b93-474a-9cc4-3818ffb7b464",
   "metadata": {},
   "source": [
    "We can now make the decision based on the $p$-value and a pre-determined threshold,\n",
    "which is conventionally chosen $\\alpha=0.05$ (1 in 20):\n",
    "\n",
    "- If the observed value of the mean `obsmean04` = 1003.8335 is unlikely under\n",
    "  $H_0$ ($p$-value less than 5% chance of occurring),\n",
    "  then our decision will be to \"reject the null hypothesis.\"\n",
    "- Otherwise, if the observed value `obsmean04` is not that unusual ($p$-value greater than 5%),\n",
    "  we conclude that we have \"fail to reject the null hypothesis.\""
   ]
  },
  {
   "cell_type": "markdown",
   "id": "9ac8b99d-2427-4901-8e21-15e3bcc871eb",
   "metadata": {},
   "source": [
    "Recall the math statement of the null hypothesis is $H_0: \\mu = \\mu_{K_0} = 1000$,\n",
    "which describes a batch whose mean is equal to the mean of the model $\\mu_{K_0}$.\n",
    "The conclusion to reject $H_0$ means the batch is irregular."
   ]
  },
  {
   "cell_type": "code",
   "execution_count": null,
   "id": "411e0885-4d90-4289-bc0b-4ea905c4f200",
   "metadata": {},
   "outputs": [],
   "source": []
  },
  {
   "cell_type": "markdown",
   "id": "120f35e6-77e2-4de1-8fb0-6e69e7dd7c81",
   "metadata": {},
   "source": [
    "#### Effect size estimates\n",
    "\n",
    "We were able to detect that batch differs from the expected distribution,\n",
    "but how big is this deviation?\n",
    "We can use the deviation from the expected mean as measure of the effect size $\\Delta = \\overline{\\mathbf{k}} - \\mu_{K_0}$ in this situation."
   ]
  },
  {
   "cell_type": "code",
   "execution_count": 26,
   "id": "eda2567e-3179-46c4-8c83-b6ab6bacd44c",
   "metadata": {},
   "outputs": [
    {
     "data": {
      "text/plain": [
       "3.833499999999958"
      ]
     },
     "execution_count": 26,
     "metadata": {},
     "output_type": "execute_result"
    }
   ],
   "source": [
    "mean(ksample04) - muK0"
   ]
  },
  {
   "cell_type": "markdown",
   "id": "e15d98bb-15c4-4fe2-a5c7-17a7e0484ebe",
   "metadata": {},
   "source": [
    "The point estimate $\\Delta = \\overline{\\mathbf{k}} - \\mu_{K_0} = 3.83$\n",
    "tells us how much the mean of the sample differs from the expected population mean $\\mu_{K_0}$,\n",
    "but doesn't tell us the uncertainty in this estimate."
   ]
  },
  {
   "cell_type": "markdown",
   "id": "04882539-b3d2-4735-a59a-e12ecf42686e",
   "metadata": {},
   "source": [
    "The bootstrap confidence interval for the effect size \n",
    "$\\ci{\\Delta,0.9}^*$ tells us a range of plausible values for the effect size."
   ]
  },
  {
   "cell_type": "code",
   "execution_count": 27,
   "id": "20ba59b6-4648-4847-9865-070a294f1933",
   "metadata": {},
   "outputs": [
    {
     "data": {
      "text/plain": [
       "[1.7537499999999935, 5.802025000000007]"
      ]
     },
     "execution_count": 27,
     "metadata": {},
     "output_type": "execute_result"
    }
   ],
   "source": [
    "from stats_helpers import gen_boot_dist\n",
    "\n",
    "np.random.seed(48)\n",
    "D_boot = gen_boot_dist(ksample04-muK0, estfunc=mean)\n",
    "[np.percentile(D_boot, 5),\n",
    " np.percentile(D_boot, 95)]"
   ]
  },
  {
   "cell_type": "markdown",
   "id": "7912f031-4c48-46a9-8c42-ed9495819def",
   "metadata": {},
   "source": [
    "The function `ci_mean` that we defined earlier performs the exact same operation,\n",
    "when called with the argument `method=\"b\"`."
   ]
  },
  {
   "cell_type": "code",
   "execution_count": 28,
   "id": "223cd73c-1b2a-477b-b3ab-31e5df749b28",
   "metadata": {},
   "outputs": [
    {
     "data": {
      "text/plain": [
       "[1.7537499999999935, 5.802025000000007]"
      ]
     },
     "execution_count": 28,
     "metadata": {},
     "output_type": "execute_result"
    }
   ],
   "source": [
    "np.random.seed(48)\n",
    "ci_mean(ksample04-muK0, alpha=0.1, method=\"b\")"
   ]
  },
  {
   "cell_type": "markdown",
   "id": "b1b0bb18-0bec-4bd1-aeff-331240ace721",
   "metadata": {},
   "source": [
    "The confidence interval $\\ci{\\Delta,0.9}^* = [1.75, 5.80]$ tells us the true discrepancy\n",
    "of Batch 04 from the expected mean can be anywhere from 1.75 to 5.8."
   ]
  },
  {
   "cell_type": "code",
   "execution_count": null,
   "id": "3545bf24-2aef-488e-9575-60bb3be2464c",
   "metadata": {},
   "outputs": [],
   "source": []
  },
  {
   "cell_type": "markdown",
   "id": "67590a1e-208b-4ead-a90b-115bdb35c69e",
   "metadata": {},
   "source": [
    "### Example 2S: test for the mean of Batch 01"
   ]
  },
  {
   "cell_type": "markdown",
   "id": "07a24a92-a6b2-4ef2-b23e-eb9ced7a0162",
   "metadata": {},
   "source": [
    "Let's repeat the procedure on the sample "
   ]
  },
  {
   "cell_type": "code",
   "execution_count": 29,
   "id": "decc42e4-bee9-483a-a3f0-725bba2f0220",
   "metadata": {},
   "outputs": [
    {
     "data": {
      "text/plain": [
       "40"
      ]
     },
     "execution_count": 29,
     "metadata": {},
     "output_type": "execute_result"
    }
   ],
   "source": [
    "batch01 = kombucha[kombucha[\"batch\"]==1]\n",
    "ksample01 = batch01[\"volume\"]\n",
    "len(ksample01)"
   ]
  },
  {
   "cell_type": "code",
   "execution_count": 30,
   "id": "4cd1c39e-8264-43d7-9c37-678704534209",
   "metadata": {},
   "outputs": [
    {
     "data": {
      "text/plain": [
       "999.10375"
      ]
     },
     "execution_count": 30,
     "metadata": {},
     "output_type": "execute_result"
    }
   ],
   "source": [
    "obsmean01 = mean(ksample01)\n",
    "obsmean01"
   ]
  },
  {
   "cell_type": "code",
   "execution_count": 31,
   "id": "c27c1278-2748-4af5-962b-adf132e7e4c8",
   "metadata": {},
   "outputs": [
    {
     "data": {
      "text/plain": [
       "0.5708"
      ]
     },
     "execution_count": 31,
     "metadata": {},
     "output_type": "execute_result"
    }
   ],
   "source": [
    "np.random.seed(42)\n",
    "kbars40 = gen_sampling_dist(rvK, estfunc=mean, n=40)\n",
    "tails = tailvalues(kbars40, obsmean01)\n",
    "pvalue01 = len(tails) / len(kbars40)\n",
    "pvalue01"
   ]
  },
  {
   "cell_type": "markdown",
   "id": "1ab880c5-44b5-4edf-af2e-c666b46c9dac",
   "metadata": {},
   "source": [
    "The observed mean from batch 01 is not unlikely under $H_0$,\n",
    "so we conclude that Batch 01 is a regular batch.\n",
    "\n",
    "Using the terminology of hypothesis testing,\n",
    "we say the outcome of the hypothesis test is \"fail to reject $H_0: \\mu = \\mu_{K_0}$.\"\n",
    "We have not seen any evidence that suggests that the mean of the population from\n",
    "which sample `ksample01` was taken differs from the mean of the expected model $K$.\n",
    "\n",
    "Ship it!"
   ]
  },
  {
   "cell_type": "code",
   "execution_count": 32,
   "id": "b91a7201-25e1-4773-9be3-cf7ce39062ab",
   "metadata": {},
   "outputs": [
    {
     "name": "stdout",
     "output_type": "stream",
     "text": [
      "Saved figure to figures/stats/intro_to_NHST/hist_p-value_kombucha_obsmean01.pdf\n",
      "Saved figure to figures/stats/intro_to_NHST/hist_p-value_kombucha_obsmean01.png\n"
     ]
    },
    {
     "data": {
      "image/png": "[encoded data removed]",
      "text/plain": [
       "<Figure size 500x160 with 1 Axes>"
      ]
     },
     "metadata": {
      "image/png": {
       "height": 150,
       "width": 489
      }
     },
     "output_type": "display_data"
    }
   ],
   "source": [
    "filename = os.path.join(DESTDIR, \"hist_p-value_kombucha_obsmean01.pdf\")\n",
    "\n",
    "# plot the sampling distribution as a histogram\n",
    "bins = nicebins(kbars40, obsmean01)\n",
    "ax = sns.histplot(kbars40, bins=bins)\n",
    "\n",
    "# plot red line for the observed statistic\n",
    "plt.axvline(obsmean01, color=\"red\")\n",
    "\n",
    "# plot the values that are equal or more extreme in red\n",
    "sns.histplot(tails, bins=bins, ax=ax, color=\"red\")\n",
    "ax.set_ylabel(\"$f_{\\overline{\\mathbf{K}}_0}$\")\n",
    "\n",
    "savefigure(ax, filename)"
   ]
  },
  {
   "cell_type": "code",
   "execution_count": null,
   "id": "f5b8b749-78a6-4fa7-bed9-a6d916a6d820",
   "metadata": {},
   "outputs": [],
   "source": []
  },
  {
   "cell_type": "code",
   "execution_count": null,
   "id": "67ed1377-7df1-4002-b396-c88380259c74",
   "metadata": {},
   "outputs": [],
   "source": []
  },
  {
   "cell_type": "markdown",
   "id": "1da54140-32f2-4146-8e56-7d4e51c51013",
   "metadata": {},
   "source": [
    "### Reusable test function for the mean"
   ]
  },
  {
   "cell_type": "code",
   "execution_count": 33,
   "id": "7945d68d-3d69-46f7-9bb8-d77ed26b1d1c",
   "metadata": {},
   "outputs": [],
   "source": [
    "#######################################################\n",
    "\n",
    "def simulation_test_mean(sample, mu0, sigma0, N=10000):\n",
    "    \"\"\"\n",
    "    Compute the p-value of the observed mean of `sample`\n",
    "    under H0 of a normal distribution `norm(mu0,sigma0)`.\n",
    "    \"\"\"\n",
    "    # Compute the observed value of the mean\n",
    "    obsmean = mean(sample)\n",
    "    n = len(sample)\n",
    "\n",
    "    # Get sampling distribution of the mean under H0\n",
    "    rvXH0 = norm(mu0, sigma0)\n",
    "    xbars = gen_sampling_dist(rvXH0, estfunc=mean, n=n)\n",
    "\n",
    "    # Compute the p-value\n",
    "    tails = tailvalues(xbars, obsmean)\n",
    "    pvalue = len(tails) / len(xbars)\n",
    "    return pvalue"
   ]
  },
  {
   "cell_type": "code",
   "execution_count": 34,
   "id": "2633b2d8-beee-487e-bf6d-8cb0686fecae",
   "metadata": {},
   "outputs": [
    {
     "data": {
      "text/plain": [
       "0.015"
      ]
     },
     "execution_count": 34,
     "metadata": {},
     "output_type": "execute_result"
    }
   ],
   "source": [
    "## TEST 1 (Do we get the same answer for Batch 04?)\n",
    "np.random.seed(42)\n",
    "simulation_test_mean(ksample04, mu0=muK0, sigma0=sigmaK0)"
   ]
  },
  {
   "cell_type": "code",
   "execution_count": 35,
   "id": "d67fc6e1-9801-459a-81fe-eb23fa5dcd85",
   "metadata": {},
   "outputs": [
    {
     "data": {
      "text/plain": [
       "0.5708"
      ]
     },
     "execution_count": 35,
     "metadata": {},
     "output_type": "execute_result"
    }
   ],
   "source": [
    "## TEST 2 (Do we get the same answer for Batch 01?)\n",
    "np.random.seed(42)\n",
    "simulation_test_mean(ksample01, mu0=muK0, sigma0=sigmaK0)"
   ]
  },
  {
   "cell_type": "code",
   "execution_count": null,
   "id": "48dbfd49-7dae-4af3-8d91-feb36a484a5e",
   "metadata": {},
   "outputs": [],
   "source": []
  },
  {
   "cell_type": "markdown",
   "id": "713e0ed9-5d65-4baf-8fc9-14986069ac72",
   "metadata": {},
   "source": [
    "### Example 3S: test for the variance of Batch 02"
   ]
  },
  {
   "cell_type": "markdown",
   "id": "29ebdb87-7d6e-4af6-98ec-0b00e5d84149",
   "metadata": {},
   "source": [
    "Let's now assume the sample of volume measurements $\\mathbf{k}_{02}$ from the Batch~02 of the kombucha bottling plant, \n",
    "comes from a population with unknown variance $\\sigma^2$,\n",
    "which we can estimate by computing the sample variance $s^2_{\\mathbf{k}_{02}}$.\n",
    "\n",
    "We want to check whether Batch~02 is a \"regular\" or \"irregular\" by comparing the variance in the volumes\n",
    "of this batch $\\sigma^2$ to the variance of the theoretical model $\\sigma_{K_0}^2= 100$.\n",
    "Specifically,\n",
    "we're interested in detecting the case when the variance is higher than expected:\n",
    "\n",
    "$$\n",
    "    H_0: \\;\\; \\sigma^2 \\leq \\sigma_{K_0}^2,\n",
    "    \\qquad \\qquad\n",
    "    H_A: \\;\\; \\sigma^2 > \\sigma_{K_0}^2.\n",
    "$$\n",
    "\n",
    "Note the alternative hypothesis detects the \"greater than\" inequality,\n",
    "since we don't mind batches with very low variance."
   ]
  },
  {
   "cell_type": "code",
   "execution_count": 36,
   "id": "788f27e2-3fe3-4346-801b-ba7da7f120a8",
   "metadata": {},
   "outputs": [
    {
     "data": {
      "text/plain": [
       "20"
      ]
     },
     "execution_count": 36,
     "metadata": {},
     "output_type": "execute_result"
    }
   ],
   "source": [
    "kombucha = pd.read_csv(\"../datasets/kombucha.csv\")\n",
    "batch02 = kombucha[kombucha[\"batch\"]==2]\n",
    "ksample02 = batch02[\"volume\"]\n",
    "len(ksample02)"
   ]
  },
  {
   "cell_type": "code",
   "execution_count": 37,
   "id": "a61cba97-8823-40a4-ae71-9de95ca1f27c",
   "metadata": {},
   "outputs": [
    {
     "data": {
      "text/plain": [
       "124.31760105263136"
      ]
     },
     "execution_count": 37,
     "metadata": {},
     "output_type": "execute_result"
    }
   ],
   "source": [
    "obsvar02 = var(ksample02)\n",
    "obsvar02"
   ]
  },
  {
   "cell_type": "code",
   "execution_count": 38,
   "id": "8b241f45-8b7c-44ca-b089-1a412eff194a",
   "metadata": {},
   "outputs": [
    {
     "data": {
      "text/plain": [
       "0.2132"
      ]
     },
     "execution_count": 38,
     "metadata": {},
     "output_type": "execute_result"
    }
   ],
   "source": [
    "np.random.seed(42)\n",
    "kvars20 = gen_sampling_dist(rvK, estfunc=var, n=20)\n",
    "tails = tailvalues(kvars20, obsvar02, alt=\"greater\")\n",
    "pvalue02 = len(tails) / len(kvars20)\n",
    "pvalue02"
   ]
  },
  {
   "cell_type": "code",
   "execution_count": 39,
   "id": "f66fa565-7677-438a-b2df-9e0bd640c791",
   "metadata": {},
   "outputs": [
    {
     "name": "stdout",
     "output_type": "stream",
     "text": [
      "Saved figure to figures/stats/intro_to_NHST/hist_p-value_kombucha_obsvar02.pdf\n",
      "Saved figure to figures/stats/intro_to_NHST/hist_p-value_kombucha_obsvar02.png\n"
     ]
    },
    {
     "data": {
      "image/png": "[encoded data removed]",
      "text/plain": [
       "<Figure size 500x160 with 1 Axes>"
      ]
     },
     "metadata": {
      "image/png": {
       "height": 150,
       "width": 489
      }
     },
     "output_type": "display_data"
    }
   ],
   "source": [
    "filename = os.path.join(DESTDIR, \"hist_p-value_kombucha_obsvar02.pdf\")\n",
    "\n",
    "# plot the sampling distribution as a histogram\n",
    "bins = nicebins(kvars20, obsvar02)\n",
    "ax = sns.histplot(kvars20, bins=bins)\n",
    "\n",
    "# plot red line for the observed statistic\n",
    "plt.axvline(obsvar02, color=\"red\")\n",
    "\n",
    "# plot the values that are equal or more extreme in red\n",
    "sns.histplot(tails, bins=bins, ax=ax, color=\"red\")\n",
    "ax.set_ylabel(\"$f_{S^2_{\\mathbf{K}_0}}$\")\n",
    "\n",
    "savefigure(ax, filename)"
   ]
  },
  {
   "cell_type": "code",
   "execution_count": null,
   "id": "266ac991-8c52-4535-b0c6-c0ed4d01eb8b",
   "metadata": {},
   "outputs": [],
   "source": []
  },
  {
   "cell_type": "code",
   "execution_count": null,
   "id": "b3e6efd2-7d52-4b6e-ad59-82e715136bf0",
   "metadata": {},
   "outputs": [],
   "source": []
  },
  {
   "cell_type": "markdown",
   "id": "8291b4e8-1c85-4a47-86fd-08c83e46c27f",
   "metadata": {},
   "source": [
    "### Example 4S: test for the variance of Batch 08"
   ]
  },
  {
   "cell_type": "code",
   "execution_count": 40,
   "id": "275373b3-45c4-4a9a-8dc8-706027f30b00",
   "metadata": {},
   "outputs": [
    {
     "data": {
      "text/plain": [
       "40"
      ]
     },
     "execution_count": 40,
     "metadata": {},
     "output_type": "execute_result"
    }
   ],
   "source": [
    "kombucha = pd.read_csv(\"../datasets/kombucha.csv\")\n",
    "batch08 = kombucha[kombucha[\"batch\"]==8]\n",
    "ksample08 = batch08[\"volume\"]\n",
    "len(ksample08)"
   ]
  },
  {
   "cell_type": "code",
   "execution_count": 41,
   "id": "02c5c91b-b2c9-4cf0-bda1-ed9e6b90aba2",
   "metadata": {},
   "outputs": [
    {
     "data": {
      "text/plain": [
       "169.9979220512824"
      ]
     },
     "execution_count": 41,
     "metadata": {},
     "output_type": "execute_result"
    }
   ],
   "source": [
    "obsvar08 = var(ksample08)\n",
    "obsvar08"
   ]
  },
  {
   "cell_type": "markdown",
   "id": "68cf90cd-59f0-42a6-a1a1-aa68455b2e90",
   "metadata": {},
   "source": [
    "#### Sampling distribution under the null hypothesis"
   ]
  },
  {
   "cell_type": "code",
   "execution_count": 42,
   "id": "f05cd841-0fc6-499f-a5a2-b7ce46f6ac8c",
   "metadata": {},
   "outputs": [
    {
     "data": {
      "text/plain": [
       "0.0041"
      ]
     },
     "execution_count": 42,
     "metadata": {},
     "output_type": "execute_result"
    }
   ],
   "source": [
    "np.random.seed(43)\n",
    "kvars40 = gen_sampling_dist(rvK, estfunc=var, n=40)\n",
    "tails = tailvalues(kvars40, obsvar08, alt=\"greater\")\n",
    "pvalue08 = len(tails) / len(kvars40)\n",
    "pvalue08"
   ]
  },
  {
   "cell_type": "code",
   "execution_count": 43,
   "id": "6a0dff5d-5bc8-433c-9fb7-60cb0bb2a092",
   "metadata": {},
   "outputs": [
    {
     "name": "stdout",
     "output_type": "stream",
     "text": [
      "Saved figure to figures/stats/intro_to_NHST/hist_p-value_kombucha_obsvar08.pdf\n",
      "Saved figure to figures/stats/intro_to_NHST/hist_p-value_kombucha_obsvar08.png\n"
     ]
    },
    {
     "data": {
      "image/png": "[encoded data removed]",
      "text/plain": [
       "<Figure size 500x160 with 1 Axes>"
      ]
     },
     "metadata": {
      "image/png": {
       "height": 150,
       "width": 488
      }
     },
     "output_type": "display_data"
    }
   ],
   "source": [
    "filename = os.path.join(DESTDIR, \"hist_p-value_kombucha_obsvar08.pdf\")\n",
    "\n",
    "# plot the sampling distribution as a histogram\n",
    "bins = nicebins(kvars40, obsvar08)\n",
    "ax = sns.histplot(kvars40, bins=bins)\n",
    "\n",
    "# plot red line for the observed statistic\n",
    "plt.axvline(obsvar08, color=\"red\")\n",
    "\n",
    "# plot the values that are equal or more extreme in red\n",
    "sns.histplot(tails, bins=bins, ax=ax, color=\"red\")\n",
    "ax.set_ylabel(\"$f_{S^2_{\\mathbf{K}_0}}$\")\n",
    "\n",
    "savefigure(ax, filename)"
   ]
  },
  {
   "cell_type": "code",
   "execution_count": null,
   "id": "a16a3b64-c281-4132-8d2a-26d35963fa2a",
   "metadata": {},
   "outputs": [],
   "source": []
  },
  {
   "cell_type": "markdown",
   "id": "0ac922ac-a446-4ffc-a068-6a4238b0380c",
   "metadata": {},
   "source": [
    "#### Effect size estimates\n",
    "\n",
    "We found the variance in the volumes in this batch is higher than the expected variance.\n",
    "Now let's estimate the effect size $\\Delta = s^2_{\\mathbf{k}_{08}} - \\sigma_{K_0}^2$."
   ]
  },
  {
   "cell_type": "code",
   "execution_count": 44,
   "id": "e80a1bd8-fc2a-48e1-b01c-1debc0c74394",
   "metadata": {},
   "outputs": [
    {
     "data": {
      "text/plain": [
       "69.99792205128239"
      ]
     },
     "execution_count": 44,
     "metadata": {},
     "output_type": "execute_result"
    }
   ],
   "source": [
    "var(ksample08) - sigmaK0**2"
   ]
  },
  {
   "cell_type": "markdown",
   "id": "91ef22d1-a631-43ab-b978-0348b58aa1c9",
   "metadata": {},
   "source": [
    "The bootstrap confidence interval for the effect size \n",
    "$\\ci{\\Delta,0.9}^*$ tells us a range of plausible values for the effect size."
   ]
  },
  {
   "cell_type": "code",
   "execution_count": 45,
   "id": "c3f11404-1687-4766-ba01-ffa19ea8d9c4",
   "metadata": {},
   "outputs": [
    {
     "data": {
      "text/plain": [
       "[17.37369362820536, 117.98659930448775]"
      ]
     },
     "execution_count": 45,
     "metadata": {},
     "output_type": "execute_result"
    }
   ],
   "source": [
    "from stats_helpers import gen_boot_dist\n",
    "\n",
    "np.random.seed(48)\n",
    "kvars40_boot = gen_boot_dist(ksample08, estfunc=var)\n",
    "D_boot = np.subtract(kvars40_boot, sigmaK0**2)\n",
    "[np.percentile(D_boot, 5),\n",
    " np.percentile(D_boot, 95)]"
   ]
  },
  {
   "cell_type": "markdown",
   "id": "f0095986-ce74-46a5-851d-fac06e49e3bc",
   "metadata": {},
   "source": [
    "The interval $\\ci{\\Delta,0.9}^* = [17, 118]$ tells us the difference\n",
    "in the variance of Batch 08 from the expected variance is somewhere between 17 and 118."
   ]
  },
  {
   "cell_type": "code",
   "execution_count": null,
   "id": "450ccdd7-4dac-403c-a2a8-eef5fabe6ff0",
   "metadata": {},
   "outputs": [],
   "source": []
  },
  {
   "cell_type": "code",
   "execution_count": null,
   "id": "afac7ac8-acb7-4331-afb1-c0492f6e95cc",
   "metadata": {},
   "outputs": [],
   "source": []
  },
  {
   "cell_type": "markdown",
   "id": "bccfab20-e242-40e4-8537-d79793d41350",
   "metadata": {},
   "source": [
    "### Generic simulation test function"
   ]
  },
  {
   "cell_type": "code",
   "execution_count": 46,
   "id": "41427387-6ec8-4d9a-b939-c4667e52d0b8",
   "metadata": {},
   "outputs": [],
   "source": [
    "#######################################################\n",
    "\n",
    "def simulation_test_var(sample, mu0, sigma0, alt=\"greater\"):\n",
    "    \"\"\"\n",
    "    Compute the p-value of the observed variance of `sample`\n",
    "    under H0 of a normal distribution `norm(mu0,sigma0)`.\n",
    "    \"\"\"\n",
    "    # 1. Compute the sample variance\n",
    "    obsvar = var(sample)\n",
    "    n = len(sample)\n",
    "\n",
    "    # 2. Get sampling distribution of variance under H0\n",
    "    rvXH0 = norm(mu0, sigma0)\n",
    "    xvars = gen_sampling_dist(rvXH0, estfunc=var, n=n)\n",
    "\n",
    "    # 3. Compute the p-value\n",
    "    tails = tailvalues(xvars, obsvar, alt=alt)\n",
    "    pvalue = len(tails) / len(xvars)\n",
    "    return pvalue"
   ]
  },
  {
   "cell_type": "code",
   "execution_count": 47,
   "id": "a2fb1041-6191-452e-acd6-7da04c510e6d",
   "metadata": {},
   "outputs": [
    {
     "data": {
      "text/plain": [
       "0.2132"
      ]
     },
     "execution_count": 47,
     "metadata": {},
     "output_type": "execute_result"
    }
   ],
   "source": [
    "# reproduce the results from Example 3\n",
    "np.random.seed(42)\n",
    "simulation_test_var(ksample02, muK0, sigmaK0, alt=\"greater\")"
   ]
  },
  {
   "cell_type": "code",
   "execution_count": 48,
   "id": "55ab6f0c-87b4-4a12-9a34-a96e58e96b8e",
   "metadata": {},
   "outputs": [
    {
     "data": {
      "text/plain": [
       "0.0041"
      ]
     },
     "execution_count": 48,
     "metadata": {},
     "output_type": "execute_result"
    }
   ],
   "source": [
    "# reproduce the results from Example 4\n",
    "np.random.seed(43)\n",
    "simulation_test_var(ksample08, muK0, sigmaK0, alt=\"greater\")"
   ]
  },
  {
   "cell_type": "code",
   "execution_count": null,
   "id": "24eb65c4-2c9c-465a-b61f-2c4d94ad3f57",
   "metadata": {},
   "outputs": [],
   "source": []
  },
  {
   "cell_type": "code",
   "execution_count": null,
   "id": "4e7a1a57-35c9-4404-a65e-bbda6da27e2b",
   "metadata": {},
   "outputs": [],
   "source": []
  },
  {
   "cell_type": "code",
   "execution_count": null,
   "id": "1e5f6e6d-7ad6-4eae-b191-5b1c843b77ff",
   "metadata": {},
   "outputs": [],
   "source": []
  },
  {
   "cell_type": "code",
   "execution_count": null,
   "id": "b181ae30-5585-4586-84b8-5ee1c2ae4b4b",
   "metadata": {},
   "outputs": [],
   "source": []
  },
  {
   "cell_type": "code",
   "execution_count": null,
   "id": "26fd3101-f276-4922-a85f-e2cd41360a0b",
   "metadata": {},
   "outputs": [],
   "source": []
  },
  {
   "cell_type": "code",
   "execution_count": null,
   "id": "82f93dad-330d-4e3f-808b-60e65d011961",
   "metadata": {},
   "outputs": [],
   "source": []
  },
  {
   "cell_type": "markdown",
   "id": "d4f4800a-90f7-4712-8517-5cdcbc97a01b",
   "metadata": {},
   "source": [
    "## Analytical approximation tests"
   ]
  },
  {
   "cell_type": "markdown",
   "id": "dc3c8d7a-d480-4f8a-9b9d-931fa67c4319",
   "metadata": {},
   "source": [
    "### Definitions\n",
    "\n",
    "- test statistic\n",
    "\n",
    "- sampling distribution of the test statistic\n",
    "\n",
    "- pivotal transformation\n",
    "\n",
    "- reference distributions\n",
    "\n"
   ]
  },
  {
   "cell_type": "markdown",
   "id": "2942c01b-3d0b-49cc-817f-f545e430588c",
   "metadata": {},
   "source": [
    "### Selecting the tails of a probability distribution"
   ]
  },
  {
   "cell_type": "code",
   "execution_count": 49,
   "id": "ffc9b7b2-7f52-4a5f-b69e-5837947b7bd4",
   "metadata": {},
   "outputs": [],
   "source": [
    "def tailprobs(rv, obs, alt=\"two-sided\"):\n",
    "    \"\"\"\n",
    "    Calculate the probability of all outcomes of the random variable `rv`\n",
    "    that are equal or more extreme than the observed value `obs`.\n",
    "    \"\"\"\n",
    "    assert alt in [\"greater\", \"less\", \"two-sided\"]\n",
    "    if alt == \"greater\":\n",
    "        pvalue = 1 - rv.cdf(obs)\n",
    "    elif alt == \"less\":\n",
    "        pvalue = rv.cdf(obs)\n",
    "    elif alt == \"two-sided\":\n",
    "        mean = rv.mean()\n",
    "        dev = abs(mean - obs)\n",
    "        pleft = rv.cdf(mean - dev)\n",
    "        pright = 1 - rv.cdf(mean + dev)\n",
    "        pvalue = 2 * min(pleft, pright)\n",
    "    return pvalue"
   ]
  },
  {
   "cell_type": "markdown",
   "id": "44ea2b9a-c4fb-4f2c-8a68-0b273fef14af",
   "metadata": {},
   "source": [
    "#### Right tail $p$-value calculation"
   ]
  },
  {
   "cell_type": "code",
   "execution_count": 50,
   "id": "46de6458-1bba-46e9-837c-332806ef622c",
   "metadata": {},
   "outputs": [
    {
     "data": {
      "text/plain": [
       "0.02275013194817921"
      ]
     },
     "execution_count": 50,
     "metadata": {},
     "output_type": "execute_result"
    }
   ],
   "source": [
    "from scipy.stats import norm\n",
    "rvZ = norm(0,1)\n",
    "\n",
    "tailprobs(rvZ, 2, alt=\"greater\")"
   ]
  },
  {
   "cell_type": "code",
   "execution_count": 51,
   "id": "61aa11ac-9f42-44a9-86d6-d39dc6bab2e0",
   "metadata": {},
   "outputs": [
    {
     "data": {
      "text/plain": [
       "0.02275013194817921"
      ]
     },
     "execution_count": 51,
     "metadata": {},
     "output_type": "execute_result"
    }
   ],
   "source": [
    "1 - rvZ.cdf(2)"
   ]
  },
  {
   "cell_type": "code",
   "execution_count": 52,
   "id": "bce934ff-ea12-446f-9acc-145683bd62a0",
   "metadata": {},
   "outputs": [
    {
     "data": {
      "text/plain": [
       "0.02275013194817598"
      ]
     },
     "execution_count": 52,
     "metadata": {},
     "output_type": "execute_result"
    }
   ],
   "source": [
    "from scipy.integrate import quad\n",
    "quad(rvZ.pdf, 2, np.infty)[0]"
   ]
  },
  {
   "cell_type": "markdown",
   "id": "8131253a-77ca-4d3f-9190-0ad5efb736fa",
   "metadata": {},
   "source": [
    "#### Two-sided $p$-value calculation"
   ]
  },
  {
   "cell_type": "code",
   "execution_count": 53,
   "id": "c464f175-977f-4e5f-a025-bb4726b2e2e4",
   "metadata": {},
   "outputs": [
    {
     "data": {
      "text/plain": [
       "0.04550026389635839"
      ]
     },
     "execution_count": 53,
     "metadata": {},
     "output_type": "execute_result"
    }
   ],
   "source": [
    "from scipy.stats import norm\n",
    "rvZ = norm(0,1)\n",
    "\n",
    "tailprobs(rvZ, 2)"
   ]
  },
  {
   "cell_type": "code",
   "execution_count": 54,
   "id": "3e62db9d-29b7-4024-80d7-a995f83cd028",
   "metadata": {},
   "outputs": [
    {
     "data": {
      "text/plain": [
       "0.0455002638963584"
      ]
     },
     "execution_count": 54,
     "metadata": {},
     "output_type": "execute_result"
    }
   ],
   "source": [
    "# left tail       # right tail\n",
    "rvZ.cdf(-2)   +   (1 - rvZ.cdf(2))"
   ]
  },
  {
   "cell_type": "markdown",
   "id": "a202f33e-ec0c-4cad-804a-91d8b5f18c70",
   "metadata": {},
   "source": [
    "(CUTTABLE) Note the function `tailprobs` computes the answer the question \"values of `rv` that deviate from the mean as much as `obs` or more,\" which we can illustrate with \"two standard deviations away from the mean\" calculations when the sampling distribution is a normal centred at 3."
   ]
  },
  {
   "cell_type": "code",
   "execution_count": 55,
   "id": "06849161-8f66-4a67-9db1-8ebb653a6db6",
   "metadata": {},
   "outputs": [
    {
     "data": {
      "text/plain": [
       "0.04550026389635839"
      ]
     },
     "execution_count": 55,
     "metadata": {},
     "output_type": "execute_result"
    }
   ],
   "source": [
    "rvZ3 = norm(3, 1)\n",
    "\n",
    "tailprobs(rvZ3, 3+2)"
   ]
  },
  {
   "cell_type": "code",
   "execution_count": null,
   "id": "3ff862de-24ad-4601-94fd-9c3c66e28b90",
   "metadata": {},
   "outputs": [],
   "source": []
  },
  {
   "cell_type": "markdown",
   "id": "6ecea7b3-c81c-45d4-9fb5-235c31012308",
   "metadata": {
    "tags": []
   },
   "source": [
    "#### Tailsfig pdf\n",
    "\n",
    "One-sided and two-sided p-value calculations based on an analytical formula for the sampling distribution."
   ]
  },
  {
   "cell_type": "code",
   "execution_count": 56,
   "id": "313277e0-c010-49ea-9d26-47cd6f102a78",
   "metadata": {},
   "outputs": [
    {
     "name": "stdout",
     "output_type": "stream",
     "text": [
      "Saved figure to figures/stats/intro_to_NHST/panel_p-values_z_left_twotailed_right_tests.pdf\n",
      "Saved figure to figures/stats/intro_to_NHST/panel_p-values_z_left_twotailed_right_tests.png\n"
     ]
    },
    {
     "data": {
      "image/png": "[encoded data removed]",
      "text/plain": [
       "<Figure size 700x200 with 3 Axes>"
      ]
     },
     "metadata": {
      "image/png": {
       "height": 187,
       "width": 691
      }
     },
     "output_type": "display_data"
    }
   ],
   "source": [
    "filename = os.path.join(DESTDIR, \"panel_p-values_z_left_twotailed_right_tests.pdf\")\n",
    "    \n",
    "from scipy.stats import t as tdist\n",
    "rvT = tdist(9)\n",
    "\n",
    "xs = np.linspace(-4, 4, 1000)\n",
    "ys = rvT.pdf(xs)\n",
    "\n",
    "with plt.rc_context({\"figure.figsize\":(7,2)}), sns.axes_style(\"ticks\"):\n",
    "    fig, (ax3, ax1, ax2) = plt.subplots(1,3)\n",
    "\n",
    "    # RIGHT\n",
    "    title = '(a) right-tailed test'\n",
    "    ax3.set_title(title, fontsize=13)#, y=-0.26)\n",
    "    sns.lineplot(x=xs, y=ys, ax=ax3)\n",
    "    ax3.set_xlim(-4, 4)\n",
    "    ax3.set_ylim(0, 0.42)\n",
    "    ax3.set_xticks([2])\n",
    "    ax3.set_xticklabels([])\n",
    "    ax3.set_yticks([])\n",
    "\n",
    "    # highlight the right tail\n",
    "    mask = (xs > 2)\n",
    "    ax3.fill_between(xs[mask], y1=ys[mask], alpha=0.6, facecolor=\"red\")\n",
    "    ax3.text(2, -0.03, \"$z$\", verticalalignment=\"top\", horizontalalignment=\"center\")\n",
    "\n",
    "\n",
    "    # LEFT\n",
    "    title = '(b) left-tailed test'\n",
    "    ax1.set_title(title, fontsize=13) #, y=-0.26)\n",
    "    sns.lineplot(x=xs, y=ys, ax=ax1)\n",
    "    ax1.set_xlim(-4, 4)\n",
    "    ax1.set_ylim(0, 0.42)\n",
    "    ax1.set_xticks([-2])\n",
    "    ax1.set_xticklabels([])\n",
    "    ax1.set_yticks([])\n",
    "\n",
    "    # highlight the left tail\n",
    "    mask = (xs < -2)\n",
    "    ax1.fill_between(xs[mask], y1=ys[mask], alpha=0.6, facecolor=\"red\")\n",
    "    ax1.text(-2, -0.03, r\"$z$\", verticalalignment=\"top\", horizontalalignment=\"center\")\n",
    "\n",
    "\n",
    "\n",
    "    # TWO-TAILED\n",
    "    title = '(c) two-tailed test'\n",
    "    ax2.set_title(title, fontsize=13)#, y=-0.26)\n",
    "    sns.lineplot(x=xs, y=ys, ax=ax2)\n",
    "    ax2.set_xlim(-4, 4)\n",
    "    ax2.set_ylim(0, 0.42)\n",
    "    ax2.set_xticks([-2,2])\n",
    "    ax2.set_xticklabels([])\n",
    "    ax2.set_yticks([])\n",
    "\n",
    "    # highlight the left and right tails\n",
    "    mask = (xs < -2)\n",
    "    ax2.fill_between(xs[mask], y1=ys[mask], alpha=0.6, facecolor=\"red\")\n",
    "    ax2.text(-2, -0.03, r\"$-|z|$\", verticalalignment=\"top\", horizontalalignment=\"center\")\n",
    "    mask = (xs > 2)\n",
    "    ax2.fill_between(xs[mask], y1=ys[mask], alpha=0.6, facecolor=\"red\")\n",
    "    ax2.text(2, -0.03, r\"$|z|$\", verticalalignment=\"top\", horizontalalignment=\"center\")\n",
    "\n",
    "\n",
    "\n",
    "savefigure(fig, filename)"
   ]
  },
  {
   "cell_type": "markdown",
   "id": "eabdb4b0-b8f5-4838-8d46-ef8e78beb682",
   "metadata": {},
   "source": [
    "### Formula for sampling distribution of the mean"
   ]
  },
  {
   "cell_type": "markdown",
   "id": "c03e7ac8-4120-4bfa-b77a-cf6b2f8370ea",
   "metadata": {},
   "source": [
    "Reminder of kombucha bottling scenario where \n",
    "theory: $K \\sim \\mathcal{N}(1000,10)$,\n",
    "samples: ⑤ kombucha"
   ]
  },
  {
   "cell_type": "code",
   "execution_count": 57,
   "id": "975764d9-a4f0-4b85-9454-8b95fdeb3cef",
   "metadata": {},
   "outputs": [],
   "source": [
    "muK0 = 1000\n",
    "sigmaK0 = 10"
   ]
  },
  {
   "cell_type": "markdown",
   "id": "6f9d77c8-a6f9-45ca-b9e6-e98fa61f4bfb",
   "metadata": {},
   "source": [
    "### Analytical approximation for sample mean"
   ]
  },
  {
   "cell_type": "code",
   "execution_count": 58,
   "id": "12934dac-b119-4f7e-8008-6f65fa34ae55",
   "metadata": {},
   "outputs": [],
   "source": [
    "# norm"
   ]
  },
  {
   "cell_type": "code",
   "execution_count": null,
   "id": "cfe30af9-8b66-4e05-b6e8-62171ca2f79b",
   "metadata": {},
   "outputs": [],
   "source": []
  },
  {
   "cell_type": "markdown",
   "id": "81c0b723-0ddd-419d-b564-f3c4227e6153",
   "metadata": {},
   "source": [
    "### Example 1N: test for the mean of Batch 04"
   ]
  },
  {
   "cell_type": "code",
   "execution_count": 59,
   "id": "f8afc9af-833c-4b2f-8ec6-0277eb59f528",
   "metadata": {},
   "outputs": [
    {
     "data": {
      "text/plain": [
       "40"
      ]
     },
     "execution_count": 59,
     "metadata": {},
     "output_type": "execute_result"
    }
   ],
   "source": [
    "kombucha = pd.read_csv(\"../datasets/kombucha.csv\")\n",
    "batch04 = kombucha[kombucha[\"batch\"]==4]\n",
    "ksample04 = batch04[\"volume\"]\n",
    "# sample size\n",
    "n04 = len(ksample04)\n",
    "n04"
   ]
  },
  {
   "cell_type": "code",
   "execution_count": 60,
   "id": "85a8aab8-fa32-4865-81e1-488bf3c3ba13",
   "metadata": {},
   "outputs": [
    {
     "data": {
      "text/plain": [
       "1003.8335"
      ]
     },
     "execution_count": 60,
     "metadata": {},
     "output_type": "execute_result"
    }
   ],
   "source": [
    "# observed mean\n",
    "obsmean04 = mean(ksample04)\n",
    "obsmean04"
   ]
  },
  {
   "cell_type": "code",
   "execution_count": 61,
   "id": "6775a83e-7c0c-46a9-928f-79717fdd3e73",
   "metadata": {},
   "outputs": [
    {
     "data": {
      "text/plain": [
       "1.5811388300841895"
      ]
     },
     "execution_count": 61,
     "metadata": {},
     "output_type": "execute_result"
    }
   ],
   "source": [
    "# standard error of the mean\n",
    "se04 = sigmaK0 / np.sqrt(n04)\n",
    "se04"
   ]
  },
  {
   "cell_type": "code",
   "execution_count": 62,
   "id": "840d0aa4-1411-489f-a13b-78ca734f431f",
   "metadata": {},
   "outputs": [
    {
     "data": {
      "text/plain": [
       "2.42451828205107"
      ]
     },
     "execution_count": 62,
     "metadata": {},
     "output_type": "execute_result"
    }
   ],
   "source": [
    "# compute the z statistic \n",
    "obsz04 = (obsmean04 - muK0) / se04\n",
    "obsz04"
   ]
  },
  {
   "cell_type": "code",
   "execution_count": 63,
   "id": "83a78067-6cd8-444a-ba8e-3c043c7ae2a8",
   "metadata": {},
   "outputs": [
    {
     "data": {
      "text/plain": [
       "0.015328711497996425"
      ]
     },
     "execution_count": 63,
     "metadata": {},
     "output_type": "execute_result"
    }
   ],
   "source": [
    "from scipy.stats import norm\n",
    "rvZ = norm(0,1)\n",
    "pvalue04 = tailprobs(rvZ, obsz04)\n",
    "pvalue04"
   ]
  },
  {
   "cell_type": "code",
   "execution_count": null,
   "id": "cf18561c-6da2-4eec-b9e4-8cfd3a3b6750",
   "metadata": {},
   "outputs": [],
   "source": []
  },
  {
   "cell_type": "code",
   "execution_count": 64,
   "id": "0810d036-b6ec-4f6c-8e8f-7857673d61cb",
   "metadata": {},
   "outputs": [
    {
     "name": "stdout",
     "output_type": "stream",
     "text": [
      "Saved figure to figures/stats/intro_to_NHST/p-value_tails_kombucha_obsz04.pdf\n",
      "Saved figure to figures/stats/intro_to_NHST/p-value_tails_kombucha_obsz04.png\n"
     ]
    },
    {
     "data": {
      "image/png": "[encoded data removed]",
      "text/plain": [
       "<Figure size 500x160 with 1 Axes>"
      ]
     },
     "metadata": {
      "image/png": {
       "height": 152,
       "width": 489
      }
     },
     "output_type": "display_data"
    }
   ],
   "source": [
    "filename = os.path.join(DESTDIR, \"p-value_tails_kombucha_obsz04.pdf\")\n",
    "from plot_helpers import calc_prob_and_plot_tails\n",
    "_, ax = calc_prob_and_plot_tails(rvZ, -obsz04, obsz04, xlims=[-4,4])\n",
    "ax.set_title(None)\n",
    "ax.set_xlabel(\"$z$\")\n",
    "ax.set_ylabel(\"$f_Z$\")\n",
    "savefigure(ax, filename)"
   ]
  },
  {
   "cell_type": "markdown",
   "id": "e4c7622f-9a6a-44d9-bb8e-bd407a6b94cd",
   "metadata": {},
   "source": [
    "#### Alternative calculations\n"
   ]
  },
  {
   "cell_type": "markdown",
   "id": "41fd3797-d403-4ce6-855c-761c2d2e96c3",
   "metadata": {},
   "source": [
    "Using direct evaluation of the cumulative distribution function $F_Z$."
   ]
  },
  {
   "cell_type": "code",
   "execution_count": 65,
   "id": "4194b634-991d-43fa-9228-696830748baa",
   "metadata": {},
   "outputs": [
    {
     "data": {
      "text/plain": [
       "0.015328711497996476"
      ]
     },
     "execution_count": 65,
     "metadata": {},
     "output_type": "execute_result"
    }
   ],
   "source": [
    "# left tail       +  # right tail \n",
    "rvZ.cdf(-obsz04)  +  (1 - rvZ.cdf(obsz04))"
   ]
  },
  {
   "cell_type": "markdown",
   "id": "c7a48f0b-bf7d-4d64-a960-5c64d19d41f3",
   "metadata": {},
   "source": [
    "Using integration of the probability mass function $f_Z$."
   ]
  },
  {
   "cell_type": "code",
   "execution_count": 66,
   "id": "74b9ee41-05b3-481f-b576-c4e8d9c686f6",
   "metadata": {},
   "outputs": [
    {
     "data": {
      "text/plain": [
       "0.015328711497995967"
      ]
     },
     "execution_count": 66,
     "metadata": {},
     "output_type": "execute_result"
    }
   ],
   "source": [
    "from scipy.integrate import quad\n",
    "fZ = rvZ.pdf\n",
    "oo = np.infty\n",
    "# left tail                 # right tail\n",
    "quad(fZ, -oo, -obsz04)[0] + quad(fZ, obsz04, oo)[0]"
   ]
  },
  {
   "cell_type": "markdown",
   "id": "4e11f448-fe69-449f-942c-1bfc3b77805e",
   "metadata": {},
   "source": [
    "Note also the pivotal transformation to the standard $Z$ is not necessary.\n",
    "We could have obtained the same $p$-value directly from the sampling distribution of the mean,\n",
    "which is described by a non-standard normal distribution:\n",
    "\n",
    "$$\n",
    "  \\overline{\\mathbf{K}}_0 = \\mathcal{N}(\\tt{loc}=\\mu_{K_0},\\; \\tt{scale}=\\stderr{\\overline{\\mathbf{k}}_{04},0})\n",
    "$$\n",
    "\n"
   ]
  },
  {
   "cell_type": "code",
   "execution_count": 67,
   "id": "109f41db-6c68-4fa1-9455-9ef5f359a883",
   "metadata": {},
   "outputs": [
    {
     "data": {
      "text/plain": [
       "0.015328711497996425"
      ]
     },
     "execution_count": 67,
     "metadata": {},
     "output_type": "execute_result"
    }
   ],
   "source": [
    "from scipy.stats import norm\n",
    "rvKbar0 = norm(loc=muK0, scale=se04)\n",
    "tailprobs(rvKbar0, obsmean04)"
   ]
  },
  {
   "cell_type": "code",
   "execution_count": 68,
   "id": "5e97c7f8-947f-4525-afed-b4e892804e6b",
   "metadata": {},
   "outputs": [
    {
     "name": "stdout",
     "output_type": "stream",
     "text": [
      "Saved figure to figures/stats/intro_to_NHST/p-value_tails_Example1N_Kbar0.pdf\n",
      "Saved figure to figures/stats/intro_to_NHST/p-value_tails_Example1N_Kbar0.png\n"
     ]
    },
    {
     "data": {
      "image/png": "[encoded data removed]",
      "text/plain": [
       "<Figure size 500x160 with 1 Axes>"
      ]
     },
     "metadata": {
      "image/png": {
       "height": 149,
       "width": 491
      }
     },
     "output_type": "display_data"
    }
   ],
   "source": [
    "filename = os.path.join(DESTDIR, \"p-value_tails_Example1N_Kbar0.pdf\")\n",
    "from plot_helpers import calc_prob_and_plot_tails\n",
    "dev = abs(obsmean04-muK0)\n",
    "_, ax = calc_prob_and_plot_tails(rvKbar0, muK0-dev, muK0+dev)\n",
    "ax.set_title(None)\n",
    "ax.set_xlabel(\"$\\overline{k}$\")\n",
    "savefigure(ax, filename)"
   ]
  },
  {
   "cell_type": "markdown",
   "id": "071fb909-b82a-42a7-bdde-609ad5019297",
   "metadata": {},
   "source": [
    "The $p$-value calculation is exactly the same."
   ]
  },
  {
   "cell_type": "code",
   "execution_count": null,
   "id": "7fa89cb1-4e4f-404e-9e64-e910e3ceadc6",
   "metadata": {},
   "outputs": [],
   "source": []
  },
  {
   "cell_type": "markdown",
   "id": "028cfa21-ec8c-42cb-b3a4-6a4c0db5c5fe",
   "metadata": {},
   "source": [
    "### Example 2N: test for the mean of Batch 01"
   ]
  },
  {
   "cell_type": "code",
   "execution_count": 69,
   "id": "84412e66-9e0d-4c73-bbf5-f04e4d595c4e",
   "metadata": {},
   "outputs": [
    {
     "data": {
      "text/plain": [
       "40"
      ]
     },
     "execution_count": 69,
     "metadata": {},
     "output_type": "execute_result"
    }
   ],
   "source": [
    "kombucha = pd.read_csv(\"../datasets/kombucha.csv\")\n",
    "ksample01 = kombucha[kombucha[\"batch\"]==1][\"volume\"]\n",
    "n01 = len(ksample01)\n",
    "n01"
   ]
  },
  {
   "cell_type": "code",
   "execution_count": 70,
   "id": "348da241-a850-4ff4-bbf7-b4363bc3124d",
   "metadata": {},
   "outputs": [
    {
     "data": {
      "text/plain": [
       "999.10375"
      ]
     },
     "execution_count": 70,
     "metadata": {},
     "output_type": "execute_result"
    }
   ],
   "source": [
    "# observed mean\n",
    "obsmean01 = mean(ksample01)\n",
    "obsmean01"
   ]
  },
  {
   "cell_type": "code",
   "execution_count": 71,
   "id": "3d96dd8a-f28f-4a63-a328-134662e01854",
   "metadata": {},
   "outputs": [
    {
     "data": {
      "text/plain": [
       "1.5811388300841895"
      ]
     },
     "execution_count": 71,
     "metadata": {},
     "output_type": "execute_result"
    }
   ],
   "source": [
    "# standard error of the mean\n",
    "se01 = sigmaK0 / np.sqrt(n01)\n",
    "se01"
   ]
  },
  {
   "cell_type": "code",
   "execution_count": 72,
   "id": "e1df2cad-495c-466f-a81c-bdb99fe01b4c",
   "metadata": {},
   "outputs": [
    {
     "data": {
      "text/plain": [
       "-0.5668382705851878"
      ]
     },
     "execution_count": 72,
     "metadata": {},
     "output_type": "execute_result"
    }
   ],
   "source": [
    "# compute the z statistic \n",
    "obsz01 = (obsmean01 - muK0) / se01\n",
    "obsz01"
   ]
  },
  {
   "cell_type": "code",
   "execution_count": 73,
   "id": "b0a4ef6a-b832-41cd-8f0b-d3c20b406b3a",
   "metadata": {},
   "outputs": [
    {
     "data": {
      "text/plain": [
       "0.5708240666473916"
      ]
     },
     "execution_count": 73,
     "metadata": {},
     "output_type": "execute_result"
    }
   ],
   "source": [
    "from scipy.stats import norm\n",
    "\n",
    "rvZ = norm(0,1)\n",
    "#######################################################\n",
    "pvalue01 = tailprobs(rvZ, obsz01, alt=\"two-sided\")\n",
    "pvalue01"
   ]
  },
  {
   "cell_type": "markdown",
   "id": "a22ad4c2-4226-4cc8-aae1-ac552c1a7eb6",
   "metadata": {},
   "source": [
    "The $p$-value is large,\n",
    "so there is no reason to reject $H_0$.\n",
    "We conclude that Batch 01 must be regular."
   ]
  },
  {
   "cell_type": "code",
   "execution_count": 74,
   "id": "b5e4eca8-8e64-48dd-9403-89f4589b010a",
   "metadata": {},
   "outputs": [
    {
     "name": "stdout",
     "output_type": "stream",
     "text": [
      "Saved figure to figures/stats/intro_to_NHST/p-value_tails_kombucha_obsz01.pdf\n",
      "Saved figure to figures/stats/intro_to_NHST/p-value_tails_kombucha_obsz01.png\n"
     ]
    },
    {
     "data": {
      "image/png": "[encoded data removed]",
      "text/plain": [
       "<Figure size 500x160 with 1 Axes>"
      ]
     },
     "metadata": {
      "image/png": {
       "height": 152,
       "width": 489
      }
     },
     "output_type": "display_data"
    }
   ],
   "source": [
    "filename = os.path.join(DESTDIR, \"p-value_tails_kombucha_obsz01.pdf\")\n",
    "from plot_helpers import calc_prob_and_plot_tails\n",
    "_, ax= calc_prob_and_plot_tails(rvZ, obsz01, -obsz01, xlims=[-4,4])\n",
    "ax.set_title(None)\n",
    "ax.set_xlabel(\"$z$\")\n",
    "ax.set_ylabel(\"$f_Z$\")\n",
    "savefigure(ax, filename)"
   ]
  },
  {
   "cell_type": "code",
   "execution_count": null,
   "id": "4861eb20-15cc-42da-b49a-f653ecf50645",
   "metadata": {},
   "outputs": [],
   "source": []
  },
  {
   "cell_type": "markdown",
   "id": "e6097ac7-3b86-4d74-aaa0-e535a3e9f740",
   "metadata": {},
   "source": [
    "### Formula for sampling distribution of the variance"
   ]
  },
  {
   "cell_type": "markdown",
   "id": "4b37a02d-63a6-4c18-8783-0e7202e33a83",
   "metadata": {},
   "source": [
    "#### Chi-square test for variance\n",
    "\n",
    "see also:\n",
    " - https://www.itl.nist.gov/div898/handbook/eda/section3/eda358.htm\n",
    " - https://openpress.usask.ca/introtoappliedstatsforpsych/chapter/9-5-chi-squared-test-for-variance-or-standard-deviation/\n"
   ]
  },
  {
   "cell_type": "markdown",
   "id": "c6e25e54-6af7-46c0-a433-a77d4140b4ec",
   "metadata": {},
   "source": [
    "### Example 3X: test for the variance of Batch 02"
   ]
  },
  {
   "cell_type": "code",
   "execution_count": 75,
   "id": "5faa408b-4771-4df1-bfb2-d6216798ab22",
   "metadata": {},
   "outputs": [
    {
     "data": {
      "text/plain": [
       "20"
      ]
     },
     "execution_count": 75,
     "metadata": {},
     "output_type": "execute_result"
    }
   ],
   "source": [
    "kombucha = pd.read_csv(\"../datasets/kombucha.csv\")\n",
    "ksample02 = kombucha[kombucha[\"batch\"]==2][\"volume\"]\n",
    "n02 = len(ksample02)\n",
    "n02"
   ]
  },
  {
   "cell_type": "code",
   "execution_count": 76,
   "id": "be3c739c-f2a5-440a-a0c1-c987b578fa33",
   "metadata": {},
   "outputs": [
    {
     "data": {
      "text/plain": [
       "124.31760105263136"
      ]
     },
     "execution_count": 76,
     "metadata": {},
     "output_type": "execute_result"
    }
   ],
   "source": [
    "obsvar02 = var(ksample02)\n",
    "obsvar02"
   ]
  },
  {
   "cell_type": "code",
   "execution_count": 77,
   "id": "ba1eb125-7234-4263-bc21-b4020e21ea84",
   "metadata": {},
   "outputs": [
    {
     "data": {
      "text/plain": [
       "23.62034419999996"
      ]
     },
     "execution_count": 77,
     "metadata": {},
     "output_type": "execute_result"
    }
   ],
   "source": [
    "obsq02 = (n02-1) * obsvar02 / sigmaK0**2\n",
    "obsq02"
   ]
  },
  {
   "cell_type": "code",
   "execution_count": 78,
   "id": "dd2f9378-4654-4cb7-a2e6-763517be617d",
   "metadata": {},
   "outputs": [
    {
     "data": {
      "text/plain": [
       "0.2111207328360385"
      ]
     },
     "execution_count": 78,
     "metadata": {},
     "output_type": "execute_result"
    }
   ],
   "source": [
    "from scipy.stats import chi2\n",
    "\n",
    "rvX2 = chi2(n02 - 1)\n",
    "pvalue02 = tailprobs(rvX2, obsq02, alt=\"greater\")\n",
    "pvalue02"
   ]
  },
  {
   "cell_type": "code",
   "execution_count": null,
   "id": "1a5c425f-6156-4592-aa86-67e8d47ffd4c",
   "metadata": {},
   "outputs": [],
   "source": []
  },
  {
   "cell_type": "code",
   "execution_count": 79,
   "id": "de92708e-9658-4c7d-b9a7-c4fd195172b9",
   "metadata": {},
   "outputs": [
    {
     "name": "stdout",
     "output_type": "stream",
     "text": [
      "Saved figure to figures/stats/intro_to_NHST/p-value_right_tail_kombucha_obsq02.pdf\n",
      "Saved figure to figures/stats/intro_to_NHST/p-value_right_tail_kombucha_obsq02.png\n"
     ]
    },
    {
     "data": {
      "image/png": "[encoded data removed]",
      "text/plain": [
       "<Figure size 500x160 with 1 Axes>"
      ]
     },
     "metadata": {
      "image/png": {
       "height": 150,
       "width": 495
      }
     },
     "output_type": "display_data"
    }
   ],
   "source": [
    "filename = os.path.join(DESTDIR, \"p-value_right_tail_kombucha_obsq02.pdf\")\n",
    "_, ax = calc_prob_and_plot_tails(rvX2, 0, obsq02, xlims=[0,50])\n",
    "ax.set_title(None)\n",
    "ax.set_xlabel(\"$q$\")\n",
    "ax.set_ylabel(\"$f_{\\chi^2}$\")\n",
    "savefigure(ax, filename)"
   ]
  },
  {
   "cell_type": "markdown",
   "id": "688a67ed-ffff-4c8b-86c7-55535e8a9b75",
   "metadata": {},
   "source": [
    "The $p$-value is large,\n",
    "so there is no reason to reject $H_0$."
   ]
  },
  {
   "cell_type": "code",
   "execution_count": null,
   "id": "7b5ffc3c-84d7-4308-a242-439c78933793",
   "metadata": {},
   "outputs": [],
   "source": []
  },
  {
   "cell_type": "markdown",
   "id": "51c9dcbb-ecb2-40cb-b21b-3f005fc04a7f",
   "metadata": {},
   "source": [
    "### Example 4X: test for the variance of Batch 08"
   ]
  },
  {
   "cell_type": "code",
   "execution_count": 80,
   "id": "bb17ca1f-178b-41fc-bb76-53245fcd5930",
   "metadata": {},
   "outputs": [
    {
     "data": {
      "text/plain": [
       "40"
      ]
     },
     "execution_count": 80,
     "metadata": {},
     "output_type": "execute_result"
    }
   ],
   "source": [
    "kombucha = pd.read_csv(\"../datasets/kombucha.csv\")\n",
    "ksample08 = kombucha[kombucha[\"batch\"]==8][\"volume\"]\n",
    "n08 = len(ksample08)\n",
    "n08"
   ]
  },
  {
   "cell_type": "code",
   "execution_count": 81,
   "id": "a7a7a58d-b3d2-4e57-af3f-a23def42f900",
   "metadata": {},
   "outputs": [
    {
     "data": {
      "text/plain": [
       "169.9979220512824"
      ]
     },
     "execution_count": 81,
     "metadata": {},
     "output_type": "execute_result"
    }
   ],
   "source": [
    "obsvar08 = var(ksample08)\n",
    "obsvar08"
   ]
  },
  {
   "cell_type": "code",
   "execution_count": 82,
   "id": "00b5634b-4887-4ed8-9e8b-93d869d8f626",
   "metadata": {},
   "outputs": [
    {
     "data": {
      "text/plain": [
       "66.29918960000013"
      ]
     },
     "execution_count": 82,
     "metadata": {},
     "output_type": "execute_result"
    }
   ],
   "source": [
    "obsq08 = (n08-1) * obsvar08 / sigmaK0**2\n",
    "obsq08"
   ]
  },
  {
   "cell_type": "code",
   "execution_count": 83,
   "id": "31b78479-28d4-4a79-8e41-19a879bd8200",
   "metadata": {},
   "outputs": [
    {
     "data": {
      "text/plain": [
       "0.0041211873587608805"
      ]
     },
     "execution_count": 83,
     "metadata": {},
     "output_type": "execute_result"
    }
   ],
   "source": [
    "from scipy.stats import chi2\n",
    "\n",
    "rvX2 = chi2(n08 - 1)\n",
    "pvalue08 = tailprobs(rvX2, obsq08, alt=\"greater\")\n",
    "pvalue08"
   ]
  },
  {
   "cell_type": "markdown",
   "id": "a82f95de-472a-4210-8cf2-0c898b87a107",
   "metadata": {},
   "source": [
    "The $p$-value is vary small,\n",
    "so we reject $H_0$.\n",
    "\n",
    "According to our analysis based on the sample variance from Batch 08,\n",
    "this batch seems to be irregular: it has an abnormally large variance."
   ]
  },
  {
   "cell_type": "markdown",
   "id": "67b3fb90-5930-4c4b-8c31-8eeb7093b356",
   "metadata": {},
   "source": [
    "#### Effect size estimates"
   ]
  },
  {
   "cell_type": "code",
   "execution_count": 84,
   "id": "7b3e38ed-f147-4ddf-9e65-b891f0d43b53",
   "metadata": {},
   "outputs": [
    {
     "data": {
      "text/plain": [
       "69.99792205128239"
      ]
     },
     "execution_count": 84,
     "metadata": {},
     "output_type": "execute_result"
    }
   ],
   "source": [
    "obsvar08 - sigmaK0**2"
   ]
  },
  {
   "cell_type": "code",
   "execution_count": 85,
   "id": "fc03bde6-728a-4548-b6e3-0abdfff3c0b0",
   "metadata": {},
   "outputs": [
    {
     "data": {
      "text/plain": [
       "[121.48888239061654, 258.019779302895]"
      ]
     },
     "execution_count": 85,
     "metadata": {},
     "output_type": "execute_result"
    }
   ],
   "source": [
    "from stats_helpers import ci_var\n",
    "\n",
    "civar08 = ci_var(ksample08, alpha=0.1, method=\"a\")\n",
    "civar08"
   ]
  },
  {
   "cell_type": "code",
   "execution_count": 86,
   "id": "b6f34655-d8be-4dda-83dc-db67c5c2fdb9",
   "metadata": {},
   "outputs": [
    {
     "data": {
      "text/plain": [
       "array([ 21.48888239, 158.0197793 ])"
      ]
     },
     "execution_count": 86,
     "metadata": {},
     "output_type": "execute_result"
    }
   ],
   "source": [
    "np.subtract(civar08, sigmaK0**2)"
   ]
  },
  {
   "cell_type": "markdown",
   "id": "a17e8acb-8df9-480e-859b-baa0a7fb37d8",
   "metadata": {},
   "source": [
    "Recall the bootstrap confidence interval for the effect size we\n",
    "obtained earlier is $\\ci{\\Delta,0.9}^* = [17.37,117.99]$.\n"
   ]
  },
  {
   "cell_type": "code",
   "execution_count": null,
   "id": "7b94d92e-be5e-4670-a814-19d897196da9",
   "metadata": {},
   "outputs": [],
   "source": []
  },
  {
   "cell_type": "code",
   "execution_count": null,
   "id": "7a1a0855-ff86-4b15-88cf-1cdf4f05a735",
   "metadata": {},
   "outputs": [],
   "source": []
  },
  {
   "cell_type": "code",
   "execution_count": null,
   "id": "866b09bf-96a7-48a0-9aa7-89f2a7149289",
   "metadata": {},
   "outputs": [],
   "source": []
  },
  {
   "cell_type": "code",
   "execution_count": null,
   "id": "3ebc6fc2-7310-4804-b10b-f1b4b5ab7775",
   "metadata": {},
   "outputs": [],
   "source": []
  },
  {
   "cell_type": "code",
   "execution_count": null,
   "id": "2dbb75ba-a639-44f6-9d5e-9a4ac8fe8054",
   "metadata": {},
   "outputs": [],
   "source": []
  },
  {
   "cell_type": "markdown",
   "id": "5b9ad6ad-9e8f-4df8-b7cd-057d87d21e5c",
   "metadata": {},
   "source": [
    "## Tests with estimated population variance"
   ]
  },
  {
   "cell_type": "code",
   "execution_count": null,
   "id": "d2a3f4e0-af53-4594-8238-b159d3994cd9",
   "metadata": {},
   "outputs": [],
   "source": []
  },
  {
   "cell_type": "markdown",
   "id": "46e2e8e1-73bd-4d35-93c6-1a5e14d8da78",
   "metadata": {},
   "source": [
    "### Analytical approximation based on Student's $t$-distribution"
   ]
  },
  {
   "cell_type": "code",
   "execution_count": null,
   "id": "82c55949-b440-433f-aaf7-d9a4d2535cc6",
   "metadata": {},
   "outputs": [],
   "source": []
  },
  {
   "cell_type": "markdown",
   "id": "5e87c903-dbe6-492e-bed8-a98a99d594fb",
   "metadata": {},
   "source": [
    "### Example 1T: test for the mean of Batch 04"
   ]
  },
  {
   "cell_type": "markdown",
   "id": "e5eae561-2a82-4145-a26e-6214887976d3",
   "metadata": {},
   "source": [
    "#### Assume we know mean, but not variance"
   ]
  },
  {
   "cell_type": "code",
   "execution_count": 87,
   "id": "ca7a14c3-d010-4d66-89d6-491b73f87458",
   "metadata": {},
   "outputs": [
    {
     "data": {
      "text/plain": [
       "40"
      ]
     },
     "execution_count": 87,
     "metadata": {},
     "output_type": "execute_result"
    }
   ],
   "source": [
    "kombucha = pd.read_csv(\"../datasets/kombucha.csv\")\n",
    "ksample04 = kombucha[kombucha[\"batch\"]==4][\"volume\"]\n",
    "n04 = len(ksample04)\n",
    "n04"
   ]
  },
  {
   "cell_type": "code",
   "execution_count": 88,
   "id": "39e66dc2-bc44-4c8d-85ca-ed30602a4998",
   "metadata": {},
   "outputs": [
    {
     "data": {
      "text/plain": [
       "7.85217413955834"
      ]
     },
     "execution_count": 88,
     "metadata": {},
     "output_type": "execute_result"
    }
   ],
   "source": [
    "# estimated standard error of the mean\n",
    "s04 = std(ksample04)\n",
    "s04"
   ]
  },
  {
   "cell_type": "code",
   "execution_count": 89,
   "id": "68991c53-43d8-4438-bd17-9adde7cf5138",
   "metadata": {},
   "outputs": [
    {
     "data": {
      "text/plain": [
       "1.2415377432638601"
      ]
     },
     "execution_count": 89,
     "metadata": {},
     "output_type": "execute_result"
    }
   ],
   "source": [
    "sehat04 = s04 / np.sqrt(n04)\n",
    "sehat04"
   ]
  },
  {
   "cell_type": "code",
   "execution_count": 90,
   "id": "53fb9236-130d-4fb1-90f9-f7df374ada33",
   "metadata": {},
   "outputs": [
    {
     "data": {
      "text/plain": [
       "1003.8335"
      ]
     },
     "execution_count": 90,
     "metadata": {},
     "output_type": "execute_result"
    }
   ],
   "source": [
    "# observed sample mean\n",
    "obsmean04 = mean(ksample04)\n",
    "obsmean04"
   ]
  },
  {
   "cell_type": "code",
   "execution_count": 91,
   "id": "3e43e948-3a89-4e39-9bcc-acf801c2021d",
   "metadata": {},
   "outputs": [
    {
     "data": {
      "text/plain": [
       "3.087703149420272"
      ]
     },
     "execution_count": 91,
     "metadata": {},
     "output_type": "execute_result"
    }
   ],
   "source": [
    "# compute the t statistic \n",
    "obst04 = (obsmean04 - muK0) / sehat04\n",
    "obst04"
   ]
  },
  {
   "cell_type": "code",
   "execution_count": 92,
   "id": "a54a01e9-f953-4d41-9e5c-e3c3502709de",
   "metadata": {},
   "outputs": [
    {
     "data": {
      "text/plain": [
       "0.0037056653503328985"
      ]
     },
     "execution_count": 92,
     "metadata": {},
     "output_type": "execute_result"
    }
   ],
   "source": [
    "from scipy.stats import t as tdist\n",
    "\n",
    "df04 = n04 - 1  # n-1 degrees of freedom\n",
    "rvT04 = tdist(df04)\n",
    "pvalue04t = tailprobs(rvT04, obst04, alt=\"two-sided\")\n",
    "pvalue04t"
   ]
  },
  {
   "cell_type": "markdown",
   "id": "2e1a3635-1c14-4987-a09f-9eef2df31d94",
   "metadata": {},
   "source": [
    "#### Effect size estimates"
   ]
  },
  {
   "cell_type": "code",
   "execution_count": 93,
   "id": "2a7f5751-1687-492f-b41a-88d7e18dc6a7",
   "metadata": {},
   "outputs": [
    {
     "data": {
      "text/plain": [
       "3.833499999999958"
      ]
     },
     "execution_count": 93,
     "metadata": {},
     "output_type": "execute_result"
    }
   ],
   "source": [
    "obsmean04 - muK0"
   ]
  },
  {
   "cell_type": "code",
   "execution_count": 94,
   "id": "d4ed88d0-f3c2-4699-bded-1c00c92d500d",
   "metadata": {},
   "outputs": [
    {
     "data": {
      "text/plain": [
       "[1.74166394645777, 5.9253360535422255]"
      ]
     },
     "execution_count": 94,
     "metadata": {},
     "output_type": "execute_result"
    }
   ],
   "source": [
    "from stats_helpers import ci_mean\n",
    "\n",
    "ci_mean(ksample04-muK0, alpha=0.1, method=\"a\")"
   ]
  },
  {
   "cell_type": "code",
   "execution_count": null,
   "id": "d0cac961-743b-4590-aa01-0c4f81f1ede7",
   "metadata": {},
   "outputs": [],
   "source": []
  },
  {
   "cell_type": "code",
   "execution_count": 95,
   "id": "a7018eb9-ec97-4ab3-acf5-43d2d6e72a93",
   "metadata": {},
   "outputs": [
    {
     "data": {
      "text/plain": [
       "0.0037056653503329618"
      ]
     },
     "execution_count": 95,
     "metadata": {},
     "output_type": "execute_result"
    }
   ],
   "source": [
    "# ALT. using existing function `scipy.stats`\n",
    "from scipy.stats import ttest_1samp\n",
    "ttest_1samp(ksample04, popmean=1000).pvalue"
   ]
  },
  {
   "cell_type": "code",
   "execution_count": null,
   "id": "478ee276-acb0-46fa-a50c-b24d5dd978e4",
   "metadata": {},
   "outputs": [],
   "source": []
  },
  {
   "cell_type": "code",
   "execution_count": 96,
   "id": "b05d6e86-f58e-4e30-b9cb-707bda4d8d9a",
   "metadata": {},
   "outputs": [],
   "source": [
    "# no figure because too small"
   ]
  },
  {
   "cell_type": "code",
   "execution_count": null,
   "id": "478cf998-8731-4b5c-af74-1a5086ce010c",
   "metadata": {},
   "outputs": [],
   "source": []
  },
  {
   "cell_type": "markdown",
   "id": "2db5d881-be8b-4e00-a6c8-47ed55509118",
   "metadata": {},
   "source": [
    "### Example 2T: test for the mean of Batch 01"
   ]
  },
  {
   "cell_type": "code",
   "execution_count": 97,
   "id": "52c7eef8-73c2-404f-8cf8-1d043505fedb",
   "metadata": {},
   "outputs": [],
   "source": [
    "kombucha = pd.read_csv(\"../datasets/kombucha.csv\")\n",
    "ksample01 = kombucha[kombucha[\"batch\"]==1][\"volume\"]"
   ]
  },
  {
   "cell_type": "code",
   "execution_count": 98,
   "id": "854abee4-e283-4a9a-84fe-607a28456feb",
   "metadata": {},
   "outputs": [
    {
     "data": {
      "text/plain": [
       "1.5446402654597249"
      ]
     },
     "execution_count": 98,
     "metadata": {},
     "output_type": "execute_result"
    }
   ],
   "source": [
    "# estimated standard error of the mean\n",
    "s01 = std(ksample01)\n",
    "n01 = len(ksample01)\n",
    "sehat01 = s01 / np.sqrt(n01)\n",
    "sehat01"
   ]
  },
  {
   "cell_type": "code",
   "execution_count": 99,
   "id": "facccee9-117a-4910-9717-bf62531cb4ad",
   "metadata": {},
   "outputs": [
    {
     "data": {
      "text/plain": [
       "999.10375"
      ]
     },
     "execution_count": 99,
     "metadata": {},
     "output_type": "execute_result"
    }
   ],
   "source": [
    "# observed sample mean\n",
    "obsmean01 = mean(ksample01)\n",
    "obsmean01"
   ]
  },
  {
   "cell_type": "code",
   "execution_count": 100,
   "id": "99638c14-0fd1-4bb6-ba51-a9746cff32e2",
   "metadata": {},
   "outputs": [
    {
     "data": {
      "text/plain": [
       "-0.5802321874169595"
      ]
     },
     "execution_count": 100,
     "metadata": {},
     "output_type": "execute_result"
    }
   ],
   "source": [
    "# compute the t statistic \n",
    "obst01 = (obsmean01 - muK0) / sehat01\n",
    "obst01"
   ]
  },
  {
   "cell_type": "code",
   "execution_count": 101,
   "id": "b4412997-0bef-40b1-b9a8-4e35f20edc4a",
   "metadata": {},
   "outputs": [
    {
     "data": {
      "text/plain": [
       "0.5650956637295477"
      ]
     },
     "execution_count": 101,
     "metadata": {},
     "output_type": "execute_result"
    }
   ],
   "source": [
    "from scipy.stats import t as tdist\n",
    "\n",
    "df01 = n01 - 1  # n-1 degrees of freedom\n",
    "rvT01 = tdist(df01)\n",
    "pvalue01t = tailprobs(rvT01, obst01, alt=\"two-sided\")\n",
    "pvalue01t"
   ]
  },
  {
   "cell_type": "code",
   "execution_count": 102,
   "id": "583760bc-17cd-4544-a4c2-0d268dc83985",
   "metadata": {},
   "outputs": [
    {
     "name": "stdout",
     "output_type": "stream",
     "text": [
      "Saved figure to figures/stats/intro_to_NHST/p-value_tails_kombucha_obst01.pdf\n",
      "Saved figure to figures/stats/intro_to_NHST/p-value_tails_kombucha_obst01.png\n"
     ]
    },
    {
     "data": {
      "image/png": "[encoded data removed]",
      "text/plain": [
       "<Figure size 500x160 with 1 Axes>"
      ]
     },
     "metadata": {
      "image/png": {
       "height": 152,
       "width": 489
      }
     },
     "output_type": "display_data"
    }
   ],
   "source": [
    "filename = os.path.join(DESTDIR, \"p-value_tails_kombucha_obst01.pdf\")\n",
    "from plot_helpers import calc_prob_and_plot_tails\n",
    "_, ax = calc_prob_and_plot_tails(rvT01, obst01, -obst01, xlims=[-4,4])\n",
    "ax.set_title(None)\n",
    "ax.set_xlabel(\"$t$\")\n",
    "ax.set_ylabel(\"$f_{T}$\")\n",
    "savefigure(ax, filename)"
   ]
  },
  {
   "cell_type": "code",
   "execution_count": 103,
   "id": "46fefff5-a123-4b97-bc82-140543114286",
   "metadata": {},
   "outputs": [
    {
     "data": {
      "text/plain": [
       "0.5650956637295477"
      ]
     },
     "execution_count": 103,
     "metadata": {},
     "output_type": "execute_result"
    }
   ],
   "source": [
    "# ALT. using existing function `scipy.stats`\n",
    "from scipy.stats import ttest_1samp\n",
    "ttest_1samp(ksample01, popmean=1000).pvalue"
   ]
  },
  {
   "cell_type": "code",
   "execution_count": null,
   "id": "3f89d01d-7873-4fe2-9a2d-a9142e64f3aa",
   "metadata": {},
   "outputs": [],
   "source": []
  },
  {
   "cell_type": "code",
   "execution_count": null,
   "id": "9bc80064-2264-4576-b532-112782e3f02a",
   "metadata": {},
   "outputs": [],
   "source": []
  },
  {
   "cell_type": "code",
   "execution_count": null,
   "id": "ef8b167b-ffb0-44a5-80e0-e7be3f71219c",
   "metadata": {},
   "outputs": [],
   "source": []
  },
  {
   "cell_type": "markdown",
   "id": "b2ba7c32-547c-4dfb-b773-b95ddefddaf2",
   "metadata": {},
   "source": [
    "### Bootstrap estimate of the standard error\n",
    "\n",
    "Another way to obtain the standard error of the mean\n",
    "(the standard deviation sampling distribution of the mean)\n",
    "is to use the bootstrap approach."
   ]
  },
  {
   "cell_type": "code",
   "execution_count": null,
   "id": "715e0c61-3bc0-4af3-bea3-0b215043875c",
   "metadata": {},
   "outputs": [],
   "source": []
  },
  {
   "cell_type": "markdown",
   "id": "e3aa38e9-5b06-4b24-951e-396b409ad6e1",
   "metadata": {},
   "source": [
    "### Example 1BT: test for the mean of Batch 04"
   ]
  },
  {
   "cell_type": "code",
   "execution_count": 104,
   "id": "e0290449-2430-4419-985c-56070bba7452",
   "metadata": {},
   "outputs": [],
   "source": [
    "kombucha = pd.read_csv(\"../datasets/kombucha.csv\")\n",
    "ksample04 = kombucha[kombucha[\"batch\"]==4][\"volume\"]\n",
    "n04 = len(ksample04)"
   ]
  },
  {
   "cell_type": "code",
   "execution_count": 105,
   "id": "69cccc20-d0b4-4865-8ace-e4c0d7cb044e",
   "metadata": {},
   "outputs": [
    {
     "data": {
      "text/plain": [
       "1.2373994933773245"
      ]
     },
     "execution_count": 105,
     "metadata": {},
     "output_type": "execute_result"
    }
   ],
   "source": [
    "# bootstrap estimate for standard error of the mean\n",
    "from stats_helpers import gen_boot_dist\n",
    "kbars_boot04 = gen_boot_dist(ksample04, estfunc=mean)\n",
    "sehat_boot04 = std(kbars_boot04)\n",
    "sehat_boot04"
   ]
  },
  {
   "cell_type": "code",
   "execution_count": 106,
   "id": "04530dca-a81b-4f0f-8290-bc81a0ebe0cf",
   "metadata": {},
   "outputs": [
    {
     "data": {
      "text/plain": [
       "3.098029391895828"
      ]
     },
     "execution_count": 106,
     "metadata": {},
     "output_type": "execute_result"
    }
   ],
   "source": [
    "# compute the t statistic using bootstrap se\n",
    "obst04bt = (obsmean04 - muK0) / sehat_boot04\n",
    "obst04bt"
   ]
  },
  {
   "cell_type": "code",
   "execution_count": 107,
   "id": "dedbdbe1-6d81-4ccd-85fd-8b33c2279105",
   "metadata": {},
   "outputs": [
    {
     "data": {
      "text/plain": [
       "0.01276297833938154"
      ]
     },
     "execution_count": 107,
     "metadata": {},
     "output_type": "execute_result"
    }
   ],
   "source": [
    "from scipy.stats import t as tdist\n",
    "rvT04 = tdist(n04 - 1)\n",
    "pvalue04bt = tailprobs(rvT, obst04bt, alt=\"two-sided\")\n",
    "pvalue04bt"
   ]
  },
  {
   "cell_type": "markdown",
   "id": "59183e52-73f6-4643-86a1-0ea3c29bf4dc",
   "metadata": {},
   "source": [
    "The $p$-value is very small,\n",
    "so our decision is to reject $H_0$."
   ]
  },
  {
   "cell_type": "code",
   "execution_count": null,
   "id": "28841074-779d-48b2-a7aa-4861fb66db3b",
   "metadata": {},
   "outputs": [],
   "source": []
  },
  {
   "cell_type": "markdown",
   "id": "8b296cda-0c99-4e1a-bdcc-14ce3b5de8e0",
   "metadata": {},
   "source": [
    "### Example 2BT: test for the mean of Batch 01"
   ]
  },
  {
   "cell_type": "code",
   "execution_count": 108,
   "id": "7634a7f7-a713-4583-9887-02e620001c25",
   "metadata": {},
   "outputs": [],
   "source": [
    "kombucha = pd.read_csv(\"../datasets/kombucha.csv\")\n",
    "ksample01 = kombucha[kombucha[\"batch\"]==1][\"volume\"]\n",
    "n01 = len(ksample01)"
   ]
  },
  {
   "cell_type": "code",
   "execution_count": 109,
   "id": "356fe858-d670-45f2-9631-8ac127188aed",
   "metadata": {},
   "outputs": [
    {
     "data": {
      "text/plain": [
       "1.5498079919559697"
      ]
     },
     "execution_count": 109,
     "metadata": {},
     "output_type": "execute_result"
    }
   ],
   "source": [
    "# bootstrap estimate for standard error of the mean\n",
    "from stats_helpers import gen_boot_dist\n",
    "kbars_boot01 = gen_boot_dist(ksample01, estfunc=mean)\n",
    "sehat_boot01 = std(kbars_boot01)\n",
    "sehat_boot01"
   ]
  },
  {
   "cell_type": "code",
   "execution_count": 110,
   "id": "37e00fc2-58f0-4222-a65e-75b9e190cc2a",
   "metadata": {},
   "outputs": [
    {
     "data": {
      "text/plain": [
       "-0.5782974437168031"
      ]
     },
     "execution_count": 110,
     "metadata": {},
     "output_type": "execute_result"
    }
   ],
   "source": [
    "# compute the t statistic using bootstrap se\n",
    "obst01bt = (obsmean01 - muK0) / sehat_boot01\n",
    "obst01bt"
   ]
  },
  {
   "cell_type": "code",
   "execution_count": 111,
   "id": "6906de0b-bad9-47cc-96d0-23e48628a8d6",
   "metadata": {},
   "outputs": [
    {
     "data": {
      "text/plain": [
       "0.5663879773674825"
      ]
     },
     "execution_count": 111,
     "metadata": {},
     "output_type": "execute_result"
    }
   ],
   "source": [
    "from scipy.stats import t as tdist\n",
    "\n",
    "rvT01 = tdist(n01-1)\n",
    "#######################################################\n",
    "pvalue01bt = tailprobs(rvT01, obst01bt, alt=\"two-sided\")\n",
    "pvalue01bt"
   ]
  },
  {
   "cell_type": "markdown",
   "id": "1cc153f4-58c2-4762-9f77-23acf1b069a8",
   "metadata": {},
   "source": [
    "The $p$-value is very large,\n",
    "so we have no reason to reject $H_0$."
   ]
  },
  {
   "cell_type": "code",
   "execution_count": null,
   "id": "3361c32e-4ac2-48b7-bda9-89129c0e1c7a",
   "metadata": {},
   "outputs": [],
   "source": []
  },
  {
   "cell_type": "code",
   "execution_count": null,
   "id": "73b6a51d-f29b-454b-a01c-7e654dd349c6",
   "metadata": {},
   "outputs": [],
   "source": []
  },
  {
   "cell_type": "code",
   "execution_count": null,
   "id": "83747975-704e-4fd4-a23b-0d50fe7998a8",
   "metadata": {},
   "outputs": [],
   "source": []
  },
  {
   "cell_type": "code",
   "execution_count": null,
   "id": "84011187-4768-4e32-bb1e-09c171ab0a8d",
   "metadata": {},
   "outputs": [],
   "source": []
  },
  {
   "cell_type": "code",
   "execution_count": null,
   "id": "83ce6d3e-337a-4ede-b0b0-3dbe2fdf553c",
   "metadata": {},
   "outputs": [],
   "source": []
  },
  {
   "cell_type": "code",
   "execution_count": null,
   "id": "b0e9a8c4-23d0-408b-ab03-f6dc8bd3b1b8",
   "metadata": {},
   "outputs": [],
   "source": []
  },
  {
   "cell_type": "markdown",
   "id": "c3ae63a1-d099-4957-9e1b-338cc1f6c8b2",
   "metadata": {},
   "source": [
    "## Explanations"
   ]
  },
  {
   "cell_type": "markdown",
   "id": "1379423f-4ef2-4389-a96f-98824c5287fa",
   "metadata": {},
   "source": [
    "### Summary of the hypothesis testing procedure"
   ]
  },
  {
   "cell_type": "markdown",
   "id": "ea8da098-00f0-4e13-b6df-07bc7a756299",
   "metadata": {},
   "source": [
    "### Statistical modelling and assumptions"
   ]
  },
  {
   "cell_type": "markdown",
   "id": "48cd9ec7-fed0-4858-a6d5-b6e6cc211aaf",
   "metadata": {},
   "source": [
    "### Two different probability models"
   ]
  },
  {
   "cell_type": "markdown",
   "id": "989ce7b7-68eb-4f14-b525-504e26541211",
   "metadata": {},
   "source": [
    "### One-sided and two-sided tests"
   ]
  },
  {
   "cell_type": "markdown",
   "id": "667045ae-d522-4738-9151-afdf1b55071f",
   "metadata": {},
   "source": [
    "### Court trial analogy"
   ]
  },
  {
   "cell_type": "code",
   "execution_count": null,
   "id": "f3c05792-d65c-401e-990e-1cb89d04f9f6",
   "metadata": {},
   "outputs": [],
   "source": []
  },
  {
   "cell_type": "code",
   "execution_count": null,
   "id": "819db8ba-052f-4a70-987a-23472cf90021",
   "metadata": {},
   "outputs": [],
   "source": []
  },
  {
   "cell_type": "markdown",
   "id": "3b92ec2a-4f3b-4abd-ac84-2553642cfc7d",
   "metadata": {},
   "source": [
    "## Discussion"
   ]
  },
  {
   "cell_type": "markdown",
   "id": "20f8104c-fd07-465e-94c8-0399838f9d90",
   "metadata": {},
   "source": [
    "### Problems with hypothesis testing"
   ]
  },
  {
   "cell_type": "code",
   "execution_count": 112,
   "id": "3b4a3d7d-2b6a-4ef6-ad60-1c10ae395aff",
   "metadata": {},
   "outputs": [],
   "source": [
    "##########a#############################################\n",
    "def getdecision(pvalue, alpha=0.05):\n",
    "    \"\"\"\n",
    "    Check if `pvalue` is less than or equal to `alpha`.\n",
    "    \"\"\"\n",
    "    if pvalue < alpha:\n",
    "        # The observed statistics is unlikely to have\n",
    "        # occurred under the null hypothesis\n",
    "        print(\"reject H0\")\n",
    "    else:\n",
    "        # The observed statistics could have occurred\n",
    "        # under the null hypothesis\n",
    "        print(\"fail to reject H0\")"
   ]
  },
  {
   "cell_type": "markdown",
   "id": "be5a788a-b31a-4dcc-b463-5323f0a43364",
   "metadata": {},
   "source": [
    "### Standardized effect size\n",
    "\n",
    "It is sometimes useful to report the effect size using a \"standardized\" measure for effect sizes.\n",
    "\n",
    "Cohen's $d$ is one such measure, and it is defined as the difference between two means divided by the pooled standard deviation."
   ]
  },
  {
   "cell_type": "code",
   "execution_count": 113,
   "id": "0542ba2b-29f6-4a38-aeb1-347f161613a8",
   "metadata": {},
   "outputs": [],
   "source": [
    "def cohend(sample, mu):\n",
    "    \"\"\"\n",
    "    Cohen's d for one group compared to the theoretical mean `mu`.\n",
    "    \"\"\"\n",
    "    obsmean = mean(sample)\n",
    "    obsstd = std(sample)\n",
    "    cohend = (obsmean - mu) / obsstd\n",
    "    return cohend"
   ]
  },
  {
   "cell_type": "markdown",
   "id": "3e208cee-3ef3-42fd-be9c-b819d240794a",
   "metadata": {},
   "source": [
    "We can interpret the value of Cohen's d obtained using the [reference table](https://en.wikipedia.org/wiki/Effect_size#Cohen's_d) of values:\n",
    "\n",
    "| Cohen's d   | Effect size |\n",
    "| ----------- | ----------- |\n",
    "| 0.01        | very small  |\n",
    "| 0.20        | small       |\n",
    "| 0.50        | medium      |\n",
    "| 0.80        | large       |\n"
   ]
  },
  {
   "cell_type": "markdown",
   "id": "7ece1ad5-dd99-4779-85b1-6b8e2f84e167",
   "metadata": {},
   "source": [
    "Effect size for mean deviation of kombucha Batch 04 from expected value $\\mu_{K_0}=1000$."
   ]
  },
  {
   "cell_type": "code",
   "execution_count": 114,
   "id": "82a7b837-4c9e-4532-8a8c-178bc6c4d549",
   "metadata": {},
   "outputs": [
    {
     "data": {
      "text/plain": [
       "0.4882087345321637"
      ]
     },
     "execution_count": 114,
     "metadata": {},
     "output_type": "execute_result"
    }
   ],
   "source": [
    "cohend(ksample04, mu=1000)"
   ]
  },
  {
   "cell_type": "markdown",
   "id": "a7cf5195-4fc4-4c68-9a4b-142729aaf921",
   "metadata": {},
   "source": [
    "Effect size for the difference between electricity prices."
   ]
  },
  {
   "cell_type": "code",
   "execution_count": null,
   "id": "4013e2eb-ba30-4ae1-b7a3-2a3b99c2ab0f",
   "metadata": {},
   "outputs": [],
   "source": []
  },
  {
   "cell_type": "code",
   "execution_count": null,
   "id": "80bc7b2b-7f00-46c3-a1be-c52aca1c3a60",
   "metadata": {},
   "outputs": [],
   "source": []
  },
  {
   "cell_type": "code",
   "execution_count": null,
   "id": "67f814b9-4c49-4c3b-8d8a-3d48fd6a9a3e",
   "metadata": {},
   "outputs": [],
   "source": []
  },
  {
   "cell_type": "markdown",
   "id": "6c26d960-822a-42a9-8c6b-8dc91a9586e7",
   "metadata": {},
   "source": [
    "## Exercises"
   ]
  },
  {
   "cell_type": "code",
   "execution_count": 115,
   "id": "473e6df7-023a-4b35-85a7-7a1a1a4e5dda",
   "metadata": {},
   "outputs": [],
   "source": [
    "# TODO"
   ]
  },
  {
   "cell_type": "markdown",
   "id": "efd39602-5e0b-4640-8d80-fe0a4753a3d0",
   "metadata": {},
   "source": [
    "## Links\n",
    "\n",
    "* [The Introductory Statistics Course: A Ptolemaic Curriculum](https://minireference.com/blog/wp-content/uploads/2021/03/TheIntroductoryStatisticsCourse__Cobb.pdf) by George W. Cobb\n",
    "* [Permutation Methods: A Basis for Exact Inference](https://projecteuclid.org/journals/statistical-science/volume-19/issue-4/Permutation-Methods-A-Basis-for-Exact-Inference/10.1214/088342304000000396.full) by Michael D. Ernst\n",
    "* [What Teachers Should Know About the Bootstrap: Resampling in the Undergraduate Statistics Curriculum](https://www.tandfonline.com/doi/full/10.1080/00031305.2015.1089789) by Tim C. Hesterberg  \n",
    "* \\[BOOK\\] [Think Stats 2e](https://greenteapress.com/wp/think-stats-2e/) by Allen B. Downey  \n",
    "* \\[VIDEO\\] [There's Only One Test](https://www.youtube.com/watch?v=S41zQEshs5k) by Allen B. Downey\n",
    "* \\[TALK\\] [Statistics for Hackers](https://www.youtube.com/watch?v=Iq9DzN6mvYA) by Jake Vanderplas\n",
    "\n",
    "\n",
    "New links:\n",
    "\n",
    "* Nice animation https://commons.wikimedia.org/wiki/File:Permutation_test_example_animation.gif  \n",
    "  via https://en.wikipedia.org/wiki/Permutation_test"
   ]
  },
  {
   "cell_type": "code",
   "execution_count": null,
   "id": "056c3176-564e-4250-bb06-d4ef069ef67c",
   "metadata": {},
   "outputs": [],
   "source": []
  },
  {
   "cell_type": "code",
   "execution_count": null,
   "id": "928e5086-37e0-4749-bc3e-53cc2c232ce5",
   "metadata": {},
   "outputs": [],
   "source": []
  },
  {
   "cell_type": "code",
   "execution_count": null,
   "id": "a50ac8a4-8403-45cc-b224-51f4ab43aa10",
   "metadata": {},
   "outputs": [],
   "source": []
  },
  {
   "cell_type": "code",
   "execution_count": null,
   "id": "7507be47-8f9c-4576-93d0-119322e45eb1",
   "metadata": {},
   "outputs": [],
   "source": []
  },
  {
   "cell_type": "code",
   "execution_count": null,
   "id": "d20e8467-80c1-447b-b46a-4081a6fae95b",
   "metadata": {},
   "outputs": [],
   "source": []
  },
  {
   "cell_type": "code",
   "execution_count": null,
   "id": "1eef90bb-6f1d-4a00-bdff-b976db8e3dbe",
   "metadata": {},
   "outputs": [],
   "source": []
  },
  {
   "cell_type": "markdown",
   "id": "9b72f6b2-ac63-4a03-8663-be73ad7aac26",
   "metadata": {},
   "source": [
    "# Imported stuff from overview"
   ]
  },
  {
   "cell_type": "markdown",
   "id": "95935f7e-b063-458f-8814-c10867a0a11e",
   "metadata": {},
   "source": [
    " "
   ]
  },
  {
   "cell_type": "markdown",
   "id": "b0431e44-cfa6-44be-8b35-cc13c282c55e",
   "metadata": {},
   "source": [
    " "
   ]
  },
  {
   "cell_type": "markdown",
   "id": "d75a1210-0e02-42f3-9243-41cd16816443",
   "metadata": {},
   "source": [
    " "
   ]
  },
  {
   "cell_type": "code",
   "execution_count": null,
   "id": "2f5ba10a-6d99-4473-9a99-944045d0389e",
   "metadata": {},
   "outputs": [],
   "source": []
  },
  {
   "cell_type": "code",
   "execution_count": null,
   "id": "8c98a20e-2548-4cc0-b527-dc7c51aa7aef",
   "metadata": {},
   "outputs": [],
   "source": []
  },
  {
   "cell_type": "markdown",
   "id": "3b86fa03-5977-4707-915d-f1e49462504a",
   "metadata": {},
   "source": []
  },
  {
   "cell_type": "code",
   "execution_count": null,
   "id": "8e5f35c3-131b-4546-8be5-f94e89aafe3a",
   "metadata": {},
   "outputs": [],
   "source": []
  },
  {
   "cell_type": "code",
   "execution_count": null,
   "id": "adbbc6b0-6f98-4cc2-8f74-6c65031f7de8",
   "metadata": {},
   "outputs": [],
   "source": []
  },
  {
   "cell_type": "code",
   "execution_count": null,
   "id": "4fd4a1e4-cde4-4f96-8ff9-ebc4f11524c1",
   "metadata": {},
   "outputs": [],
   "source": []
  },
  {
   "cell_type": "code",
   "execution_count": null,
   "id": "dbb5d0b4-d223-4541-82ab-a046ba2c7cde",
   "metadata": {},
   "outputs": [],
   "source": []
  },
  {
   "cell_type": "markdown",
   "id": "b3f3c1a2-76e8-4a6a-8877-da05c086ca59",
   "metadata": {},
   "source": [
    " "
   ]
  },
  {
   "cell_type": "markdown",
   "id": "7a38ab7b-aba7-4f85-97ab-353c37a2f48b",
   "metadata": {},
   "source": [
    " \n",
    " "
   ]
  }
 ],
 "metadata": {
  "kernelspec": {
   "display_name": "Python 3 (ipykernel)",
   "language": "python",
   "name": "python3"
  },
  "language_info": {
   "codemirror_mode": {
    "name": "ipython",
    "version": 3
   },
   "file_extension": ".py",
   "mimetype": "text/x-python",
   "name": "python",
   "nbconvert_exporter": "python",
   "pygments_lexer": "ipython3",
   "version": "3.9.4"
  },
  "toc-autonumbering": true
 },
 "nbformat": 4,
 "nbformat_minor": 5
}
