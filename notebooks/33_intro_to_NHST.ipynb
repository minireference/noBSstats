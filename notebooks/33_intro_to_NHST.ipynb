{
 "cells": [
  {
   "cell_type": "markdown",
   "id": "b73f3d18-88c7-499d-90a3-dd6954247cf3",
   "metadata": {
    "tags": []
   },
   "source": [
    "# Section 3.3 — Introduction to hypothesis testing\n",
    "\n",
    "This notebook contains the code examples from [**Section 3.3 Introduction to hypothesis testing**]() of the **No Bullshit Guide to Statistics**.\n",
    "\n",
    "I highly recommend that you use the notebook interactively.\n",
    "I've intentionally left empty code cells throughout the notebook,\n",
    "which you can use to try some commands on your own."
   ]
  },
  {
   "cell_type": "markdown",
   "id": "efce8e91-8824-4103-a526-02e23c794668",
   "metadata": {
    "tags": []
   },
   "source": [
    "#### Notebook setup"
   ]
  },
  {
   "cell_type": "code",
   "execution_count": 1,
   "id": "990de07d-c26f-4a29-935a-2b1dacc89b34",
   "metadata": {},
   "outputs": [],
   "source": [
    "# load Python modules\n",
    "import os\n",
    "import numpy as np\n",
    "import pandas as pd\n",
    "import seaborn as sns\n",
    "import matplotlib.pyplot as plt"
   ]
  },
  {
   "cell_type": "code",
   "execution_count": 2,
   "id": "2ae5e519-3e7b-4218-aebd-bbb7790783cd",
   "metadata": {},
   "outputs": [],
   "source": [
    "# Plot helper functions\n",
    "from ministats import nicebins"
   ]
  },
  {
   "cell_type": "code",
   "execution_count": 3,
   "id": "3209c5be-cb6a-42c0-8bf8-949a4fc0ff39",
   "metadata": {},
   "outputs": [
    {
     "data": {
      "text/plain": [
       "<Figure size 640x480 with 0 Axes>"
      ]
     },
     "metadata": {},
     "output_type": "display_data"
    }
   ],
   "source": [
    "# Figures setup\n",
    "plt.clf()  # needed otherwise `sns.set_theme` doesn't work\n",
    "from plot_helpers import RCPARAMS\n",
    "RCPARAMS.update({'figure.figsize': (10, 3)})   # good for screen\n",
    "sns.set_theme(\n",
    "    context=\"paper\",\n",
    "    style=\"whitegrid\",\n",
    "    palette=\"colorblind\",\n",
    "    rc=RCPARAMS,\n",
    ")\n",
    "\n",
    "# High-resolution please\n",
    "%config InlineBackend.figure_format = 'retina'"
   ]
  },
  {
   "cell_type": "code",
   "execution_count": 4,
   "id": "df22d8d7-6814-4c3b-a3d3-2f31ab6b2f3b",
   "metadata": {},
   "outputs": [],
   "source": [
    "# simple float __repr__\n",
    "np.set_printoptions(legacy='1.25')\n",
    "\n",
    "# set random seed for repeatability\n",
    "np.random.seed(42)"
   ]
  },
  {
   "cell_type": "markdown",
   "id": "94d9cb52-34ec-416a-a883-850cf725f8a6",
   "metadata": {},
   "source": [
    "$\\def\\stderr#1{\\mathbf{se}_{#1}}$\n",
    "$\\def\\stderrhat#1{\\hat{\\mathbf{se}}_{#1}}$\n",
    "$\\newcommand{\\Mean}{\\textbf{Mean}}$\n",
    "$\\newcommand{\\Var}{\\textbf{Var}}$\n",
    "$\\newcommand{\\Std}{\\textbf{Std}}$\n",
    "$\\newcommand{\\Freq}{\\textbf{Freq}}$\n",
    "$\\newcommand{\\RelFreq}{\\textbf{RelFreq}}$\n",
    "$\\newcommand{\\DMeans}{\\textbf{DMeans}}$\n",
    "$\\newcommand{\\Prop}{\\textbf{Prop}}$\n",
    "$\\newcommand{\\DProps}{\\textbf{DProps}}$\n",
    "\n",
    "$$\n",
    "\\newcommand{\\CI}[1]{\\textbf{CI}_{#1}}\n",
    "\\newcommand{\\CIL}[1]{\\textbf{L}_{#1}}\n",
    "\\newcommand{\\CIU}[1]{\\textbf{U}_{#1}}\n",
    "\\newcommand{\\ci}[1]{\\textbf{ci}_{#1}}\n",
    "\\newcommand{\\cil}[1]{\\textbf{l}_{#1}}\n",
    "\\newcommand{\\ciu}[1]{\\textbf{u}_{#1}}\n",
    "$$\n",
    "\n",
    "\n",
    "(this cell contains the macro definitions like $\\stderr{\\overline{\\mathbf{x}}}$, $\\stderrhat{}$, $\\Mean$, ...)"
   ]
  },
  {
   "cell_type": "markdown",
   "id": "a5ae790e-e7e5-4880-8c6f-72c101319403",
   "metadata": {},
   "source": [
    "### What is hypothesis testing?\n",
    "\n",
    "- An approach to formulating research questions as **yes-no decisions** and a **procedure for making these decisions**.\n",
    "- Hypothesis testing is a standardized procedure for doing statistical analysis\n",
    "  (also uses stats jargon that makes everything look more convincing ;)"
   ]
  },
  {
   "cell_type": "markdown",
   "id": "bdb4d090-9f82-441f-8f95-8cb267665c37",
   "metadata": {},
   "source": [
    "## Definitions\n",
    "\n",
    "### Hypotheses\n",
    "\n",
    "- We formulate research question as two **competing hypotheses**:\n",
    "  - **Null hypothesis $H_0$** = no effect.  \n",
    "  - **Alternative hypothesis $H_A$** = an effect exists."
   ]
  },
  {
   "cell_type": "markdown",
   "id": "f6564ede-0002-468c-b9f7-fcafbccfbc26",
   "metadata": {},
   "source": [
    "### Test statistic\n",
    "\n",
    "An estimator relevant for differentiating $H_0$ from $H_A$."
   ]
  },
  {
   "cell_type": "code",
   "execution_count": 5,
   "id": "213defaa-1e71-40aa-a6af-b9c73982f4bb",
   "metadata": {},
   "outputs": [],
   "source": [
    "def mean(sample):\n",
    "    return sum(sample) / len(sample)\n",
    "\n",
    "def var(sample):\n",
    "    xbar = mean(sample)\n",
    "    sumsqdevs = sum([(xi-xbar)**2 for xi in sample])\n",
    "    return sumsqdevs / (len(sample)-1)"
   ]
  },
  {
   "cell_type": "markdown",
   "id": "a4983652-271a-416d-8edd-1b87f69a35fa",
   "metadata": {},
   "source": [
    "### Sampling distribution of the test statistic under $H_0$"
   ]
  },
  {
   "cell_type": "markdown",
   "id": "d541decd-71a7-4698-8802-f80d2fb7c391",
   "metadata": {},
   "source": [
    "### The p-value\n",
    "\n",
    "The $p$-value is the probability of observing statistic (or more extreme) under the null hypothesis."
   ]
  },
  {
   "cell_type": "code",
   "execution_count": 6,
   "id": "465debf4-9b5f-47e3-9d9b-51690cc64efa",
   "metadata": {},
   "outputs": [
    {
     "data": {
      "text/plain": [
       "0.6"
      ]
     },
     "execution_count": 6,
     "metadata": {},
     "output_type": "execute_result"
    }
   ],
   "source": [
    "thetas0 = [1,2,3,3,6]\n",
    "\n",
    "obstheta = 4             # observed value (computed from sample)\n",
    "th0 = 3                  # parameter under null\n",
    "obsdev = obstheta - th0  # obs deviation from null\n",
    "\n",
    "# select the values in the tails of `thetas0`\n",
    "tails = [v for v in thetas0 if abs(v-th0) >= obsdev]\n",
    "#######################################################\n",
    "\n",
    "# compute the proportion in the tails\n",
    "# = prob of observing \"obs or more extreme\" value under H0\n",
    "pvalue = len(tails) / len(thetas0)\n",
    "pvalue"
   ]
  },
  {
   "cell_type": "markdown",
   "id": "8e79e366-d6cd-4f6a-87ec-16a359d867b0",
   "metadata": {},
   "source": [
    "The deviation from the parameter `theta0` of 60\\% of the values in the list `thetas0`\n",
    "are equal to or more extreme than the deviation of the observed test statistic $\\hat{\\theta}_{\\mathbf{x}} = \\tt{obs}$\n",
    "form the parameter $\\theta_0 = \\tt{th0}$."
   ]
  },
  {
   "cell_type": "markdown",
   "id": "ab433480-b256-427f-8ee2-922e2468abbb",
   "metadata": {},
   "source": [
    "## The logic of hypothesis testing"
   ]
  },
  {
   "cell_type": "markdown",
   "id": "c0bc59f3-afc8-4e54-b6e6-c6b5f731d9ba",
   "metadata": {},
   "source": [
    "### Overview of the hypothesis testing procedure\n",
    "\n",
    "Here is the high-level overview of the hypothesis testing procedure:\n",
    " - **inputs**: sample statistics computed from the observed data\n",
    " - **outputs**: a decision that is one of: \"reject the null hypothesis\" or \"fail to reject the null hypothesis\"\n",
    "\n",
    "![hypothesis testing overview](./attachments/stats/intro_to_hypothesis_testing.png)\n",
    "\n",
    "\n",
    "In this notebook, we'll use simulation to obtain the sampling distributions of the test statistic under the null hypothesis."
   ]
  },
  {
   "cell_type": "markdown",
   "id": "8950e3f4-15cd-4fe0-bb1e-26c9b9b5f0a0",
   "metadata": {},
   "source": [
    "### Court trial analogy\n",
    "\n",
    "- defendant innocent <-> null hypothesis\n",
    "- found guilty <-> reject null\n",
    "- acquitted <-> fail to reject the null\n"
   ]
  },
  {
   "cell_type": "markdown",
   "id": "ee8e5ae2-06a3-4eb2-a7e1-9a53e818dbef",
   "metadata": {
    "tags": []
   },
   "source": []
  },
  {
   "cell_type": "markdown",
   "id": "c0aa58b0-8428-42ef-823c-0fba093233bc",
   "metadata": {
    "tags": []
   },
   "source": [
    "### Interpreting the result of a hypothesis test\n",
    "\n",
    "- The implication of rejecting the null hypothesis is that there must be a difference between\n",
    "  the population from which the sample was taken $X \\sim \\mathcal{N}(\\mu,\\sigma)$\n",
    "  and the theoretical model $X_0 \\sim \\mathcal{N}(\\mu_{X_0},\\sigma_{X_0})$.\n",
    "  - Note that rejecting null hypothesis $H_0$ is not the same as \"proving\" the alternative hypothesis $H_A$ is true;\n",
    "    we have just shown that the data is unlikely to occur by chance under the null hypothesis.\n",
    "  - Using statistics jargon, when we reject the hypothesis $H_0$ we say we've observed a \"statistically significant\" result,\n",
    "    which sounds a lot more impressive than it actually is.\n",
    "    The hypothesis testing procedure is just a simple check we perform to rule out the \"occurred by chance\" possibility.\n",
    "\n",
    "- The implication of failing to reject the null hypothesis is that the observed sample could have occurred by chance under $H_0$,\n",
    "  so there is no need to search for an alternative hypothesis.\n",
    "  Note that \"failing to reject $H_0$\" is not the same as \"proving\" the null hypothesis.\n",
    "\n",
    "I know all this sounds super complicated and roundabout (an it is!),\n",
    "but you will get a hang of it with practice."
   ]
  },
  {
   "cell_type": "markdown",
   "id": "b564c332-fc9c-4adc-922f-d52e377d5cf8",
   "metadata": {},
   "source": [
    "### Effect size estimates\n",
    "\n",
    "The **effect size** $\\Delta$ measures the *magnitude* of the deviation of the observed statistic\n",
    "from the expected theoretical value.\n",
    "For example,\n",
    "in a test that compare the sample mean $\\overline{\\mathbf{x}}$ to a theoretical mean $\\mu_{X_0}$,\n",
    "we can use $\\Delta = \\mu - \\mu_{X_0}$ to measure the deviation of the unknown mean $\\mu$ from the theoretical mean $\\mu_{X_0}$.\n",
    "We can obtain an effect size estimate by computing $\\widehat{\\Delta} = \\overline{\\mathbf{x}} - \\mu_{X_0}$.\n",
    "\n",
    "Another way to report effect size is to construct a **confidence interval**,\n",
    "which takes into account the variability of the data.\n",
    "A confidence interval tells us a range of values where we believe the true value of $\\Delta$ falls.\n",
    "The functions `ci_mean` and `ci_var` from the `ministats` module can help us with confidence interval calculations."
   ]
  },
  {
   "cell_type": "markdown",
   "id": "8d04caba-b43d-43ce-a22f-a18466fbbc86",
   "metadata": {},
   "source": [
    "## Simulation tests"
   ]
  },
  {
   "cell_type": "markdown",
   "id": "339844ec-8dfd-4e87-8597-2acce0fac99d",
   "metadata": {},
   "source": [
    "Let's start with a description of the problem.\n",
    "We want to compare a sample of observations from an unknown population to a **fully specified theoretical model**.\n",
    "\n",
    "TODO: import from text\n"
   ]
  },
  {
   "cell_type": "code",
   "execution_count": 7,
   "id": "feb2aeca-ab36-4c85-8f21-d7df97cf340b",
   "metadata": {},
   "outputs": [],
   "source": [
    "def gen_sampling_dist(rv, estfunc, n, N=10000):\n",
    "    \"\"\"\n",
    "    Simulate `N` samples of size `n` from the random variable `rv` to\n",
    "    generate the sampling distribution of the estimator `estfunc`.\n",
    "    \"\"\"\n",
    "    estimates = []\n",
    "    for i in range(0, N):\n",
    "        sample = rv.rvs(n)\n",
    "        estimate = estfunc(sample)\n",
    "        estimates.append(estimate)\n",
    "    return estimates"
   ]
  },
  {
   "cell_type": "markdown",
   "id": "a24b8d70-62df-48dd-94ab-0c7eb4d585f6",
   "metadata": {},
   "source": [
    "## Test for the mean\n",
    "\n",
    "We'll now discuss hypothesis tests based on the sample mean.\n",
    "We're interested in distinguishing between the competing hypotheses:\n",
    "\n",
    "$$\n",
    "    H_A: \\mu \\neq \\mu_{X_0}\n",
    "    \\qquad \\text{and} \\qquad\n",
    "    H_0: \\mu = \\mu_{X_0},\n",
    "$$\n",
    "\n",
    "where $\\mu$ is the mean of the unknown population $X \\sim \\mathcal{N}(\\mu,\\sigma)$\n",
    "from which the sample $\\mathbf{x}$ was taken,\n",
    "and $\\mu_{X_0}$ is the mean of the theoretical model $X_0 \\sim \\mathcal{N}(\\mu_{X_0}, \\sigma_{X_0})$."
   ]
  },
  {
   "cell_type": "markdown",
   "id": "4a931ba7-d33a-41d5-b4c5-6596c87c9613",
   "metadata": {},
   "source": [
    "#### Kombucha bottling process\n",
    "\n",
    "We'll use the kombucha scenario for all the examples in this section.\n",
    "Recall, the probability distirbution of the kombucha volume is described by\n",
    "the theoretical model $K_0 \\sim \\mathcal{N}(\\mu_{K_0} = 1000, \\sigma_{K_0}=10)$\n",
    "when the production line is working as expected.\n",
    "\n",
    "Since $\\mu_{K_0}$ and $\\sigma_{K_0}$ are known,\n",
    "we can use simulation to obtain the sampling distribution of any test statistic."
   ]
  },
  {
   "cell_type": "markdown",
   "id": "f9ab2992-fa82-4053-ab54-cb1aaa6fcf5a",
   "metadata": {},
   "source": [
    "#### Computer model for the kombucha volumes under $H_0$"
   ]
  },
  {
   "cell_type": "code",
   "execution_count": 8,
   "id": "b9c83588-c0af-43af-a7d6-ab953428d679",
   "metadata": {},
   "outputs": [],
   "source": [
    "from scipy.stats import norm\n",
    "\n",
    "# theoretical model for the kombucha volumes\n",
    "muK0 = 1000   # theoretical mean\n",
    "sigmaK0 = 10  # theoretical standard deviation\n",
    "\n",
    "rvK0 = norm(muK0, sigmaK0)"
   ]
  },
  {
   "cell_type": "markdown",
   "id": "ae78c47c-df18-466d-afe3-498810e469e3",
   "metadata": {},
   "source": [
    "Let's look at a random sample of size $n=40$ from the distribution under the null hypothesis."
   ]
  },
  {
   "cell_type": "code",
   "execution_count": 9,
   "id": "f164b0e6-64ab-451a-a35a-eb29bf01d63c",
   "metadata": {},
   "outputs": [
    {
     "data": {
      "text/plain": [
       "array([1004.97,  998.62, 1006.48, 1015.23,  997.66,  997.66, 1015.79,\n",
       "       1007.67,  995.31, 1005.43,  995.37,  995.34, 1002.42,  980.87,\n",
       "        982.75,  994.38,  989.87, 1003.14,  990.92,  985.88, 1014.66,\n",
       "        997.74, 1000.68,  985.75,  994.56, 1001.11,  988.49, 1003.76,\n",
       "        993.99,  997.08,  993.98, 1018.52,  999.87,  989.42, 1008.23,\n",
       "        987.79, 1002.09,  980.4 ,  986.72, 1001.97])"
      ]
     },
     "execution_count": 9,
     "metadata": {},
     "output_type": "execute_result"
    }
   ],
   "source": [
    "np.random.seed(42)\n",
    "rvK0.rvs(size=40).round(2)"
   ]
  },
  {
   "cell_type": "markdown",
   "id": "b9fd731f-fb16-4160-9d55-a0ccc307b4da",
   "metadata": {},
   "source": [
    "We can obtain the sampling distribution of the mean by repeatedly generating samples like this,\n",
    "and computing the mean from each of them."
   ]
  },
  {
   "cell_type": "markdown",
   "id": "488a049d-c96f-4d15-ab15-5b04ee7665f9",
   "metadata": {},
   "source": [
    "### Sampling distribution of the mean under the null\n",
    "\n",
    "We can generate the sampling distribution of the mean $\\overline{\\mathbf{K}}_0$\n",
    "by running a simulation using the helper function `gen_sampling_dist`.\n",
    "We supply three parameters for the simulation:\n",
    "\n",
    "1. the computer model under $H_0$\n",
    "2. the estimator function\n",
    "3. the sample size\n",
    "\n",
    "In our case, 1. is `rvK0`, 2. is the function `mean`, and 3. `n=40`."
   ]
  },
  {
   "cell_type": "code",
   "execution_count": 10,
   "id": "06fa873f-bd27-457e-9b82-fee258df7e07",
   "metadata": {},
   "outputs": [],
   "source": [
    "from ministats import gen_sampling_dist\n",
    "\n",
    "np.random.seed(42)\n",
    "kbars40 = gen_sampling_dist(rvK0, estfunc=mean, n=40)"
   ]
  },
  {
   "cell_type": "code",
   "execution_count": 11,
   "id": "91cc8e12-c219-4608-9363-5a42adf63657",
   "metadata": {},
   "outputs": [
    {
     "data": {
      "image/png": "[encoded data removed]",
      "text/plain": [
       "<Figure size 1000x300 with 1 Axes>"
      ]
     },
     "metadata": {
      "image/png": {
       "height": 274,
       "width": 844
      }
     },
     "output_type": "display_data"
    }
   ],
   "source": [
    "sns.histplot(kbars40, bins=100);"
   ]
  },
  {
   "cell_type": "markdown",
   "id": "733d6ed5-36a3-4809-a593-8fb538a4cebf",
   "metadata": {},
   "source": [
    "The sampling distribution $\\overline{\\mathbf{K}}_0 = \\tt{kbars40}$\n",
    "tells us the variability of the sample means we can expect to observe when $H_0$ is true."
   ]
  },
  {
   "cell_type": "markdown",
   "id": "b7402830-149a-4d17-b2a9-1ec3530ee98c",
   "metadata": {},
   "source": [
    "### Example 1S: test for the mean of Batch 04\n",
    "\n",
    "We want to check whether Batch~04 is \"regular\" or \"irregular\" by comparing the mean volume of this batch $\\mu$\n",
    "to the mean of the theoretical model $\\mu_{K_0} = 1000$\\;ml.\n",
    "We formulate the following competing hypotheses:\n",
    "\n",
    "$$\n",
    "    H_A: \\mu \\neq \\mu_{K_0}\n",
    "    \\qquad \\text{and} \\qquad\n",
    "    H_0: \\mu = \\mu_{K_0}.\n",
    "$$\n",
    "\n",
    "In words,\n",
    "the null hypothesis describes a regular batch,\n",
    "where the mean of the batch is equal to the mean of the model $\\mu_{K_0}=1000$.\n",
    "The two-sided alternative hypothesis states that the mean volume of Batch~04 differs from the expected mean $\\mu_{K_0}$,\n",
    "and it includes both positive or negative deviations.\n",
    "\n",
    "Let's start by loading the sample $\\mathbf{k}_{04}$ from Batch 04 of the `kombucha` dataset."
   ]
  },
  {
   "cell_type": "code",
   "execution_count": 12,
   "id": "b6a336b6-2d90-4faa-9d8e-5d7d23cd637c",
   "metadata": {},
   "outputs": [],
   "source": [
    "kombucha = pd.read_csv(\"../datasets/kombucha.csv\")\n",
    "batch04 = kombucha[kombucha[\"batch\"]==4]\n",
    "ksample04 = batch04[\"volume\"]"
   ]
  },
  {
   "cell_type": "code",
   "execution_count": 13,
   "id": "1d8d4fad-a697-43b1-b457-a00e379555ff",
   "metadata": {},
   "outputs": [
    {
     "data": {
      "text/plain": [
       "40"
      ]
     },
     "execution_count": 13,
     "metadata": {},
     "output_type": "execute_result"
    }
   ],
   "source": [
    "len(ksample04)"
   ]
  },
  {
   "cell_type": "code",
   "execution_count": 14,
   "id": "cb31a6fe-bd41-4422-8b05-4960621e636a",
   "metadata": {},
   "outputs": [
    {
     "data": {
      "text/plain": [
       "1003.8335"
      ]
     },
     "execution_count": 14,
     "metadata": {},
     "output_type": "execute_result"
    }
   ],
   "source": [
    "# observed mean\n",
    "obsmean04 = mean(ksample04)\n",
    "obsmean04"
   ]
  },
  {
   "cell_type": "markdown",
   "id": "8b08d9e0-5790-43fa-be3e-b76d0f76cc3e",
   "metadata": {},
   "source": [
    "The mean volume calculated from the sample `ksample04` is $3.83$ ml higher than the expected mean $\\mu_{K_0} = 1000$ ml.\n",
    "Is this a big difference or not?\n",
    "How likely is such deviation to occur by chance under the null hypothesis?"
   ]
  },
  {
   "cell_type": "markdown",
   "id": "52f286e3-10fa-4fba-8aab-1b03d4acd8a1",
   "metadata": {},
   "source": [
    "#### Sampling distribution of the mean under the null hypothesis"
   ]
  },
  {
   "cell_type": "markdown",
   "id": "16cfb044-6ff2-420c-8a82-5176f3bfc15f",
   "metadata": {},
   "source": [
    "To answer the above question,\n",
    "we need to know the sampling distribution of the mean\n",
    "for samples of size $n=40$ under the null hypothesis $H_0$ (which we just learned how to do above).\n",
    "\n",
    "Let's run the simulation based on the using the function `gen_sampling_dist` with parameters:\n",
    "\n",
    "1. probability model `rvK0` $= K_0 \\sim \\mathcal{N}(\\mu_{K_0}=1000,\\sigma_{K_0}=10)$\n",
    "2. the estimator function `mean`\n",
    "3. the sample size `n = len(ksample04) = 40`"
   ]
  },
  {
   "cell_type": "code",
   "execution_count": 15,
   "id": "a614ef8f-16dd-4a0b-99b0-b2886f40056c",
   "metadata": {},
   "outputs": [],
   "source": [
    "from ministats import gen_sampling_dist\n",
    "\n",
    "np.random.seed(42)\n",
    "kbars40 = gen_sampling_dist(rvK0, estfunc=mean, n=40)"
   ]
  },
  {
   "cell_type": "markdown",
   "id": "c0f7312a-17df-4bba-958d-217e0d098e8d",
   "metadata": {},
   "source": [
    "To calculate the $p$-value,\n",
    "we want to count how many values of sampling distribution `kbars40`\n",
    "are equal or more extreme than the observed value $\\overline{\\mathbf{k}}_{04} =$ `obsmean04` = 1003.8335.\n",
    "\n",
    "In this context,\n",
    "\"$\\overline{\\mathbf{k}}_{04}$ or more extreme\" means all values whose *deviation* from the mean $\\mu_{K_0} = 1000$\n",
    "is equal to or more extreme than the deviation of the observed mean $\\overline{\\mathbf{k}}_{04}$ from $\\mu_{K_0}$.\n",
    "\n",
    "Let's start by computing the observed deviation $|\\overline{\\mathbf{k}}_{04} - \\mu_{K_0}|$."
   ]
  },
  {
   "cell_type": "code",
   "execution_count": 16,
   "id": "8a5efac5-c870-4892-87ec-ee0db501dba5",
   "metadata": {},
   "outputs": [
    {
     "data": {
      "text/plain": [
       "3.833499999999958"
      ]
     },
     "execution_count": 16,
     "metadata": {},
     "output_type": "execute_result"
    }
   ],
   "source": [
    "obsdev04 = abs(obsmean04 - muK0)\n",
    "obsdev04"
   ]
  },
  {
   "cell_type": "markdown",
   "id": "b7073696-da71-4071-ae3d-1ef7b4ced9f5",
   "metadata": {},
   "source": [
    "Next we use the list-comprehension syntax to go through the list `kbars40`\n",
    "and select only the values `v` whose absolute deviation from the mean `abs(v-muK0)`\n",
    "is equal to or greater than the observe deviation `obsdev04`."
   ]
  },
  {
   "cell_type": "code",
   "execution_count": 17,
   "id": "d1d50f96-1778-45b4-8bee-8a2c1af541d7",
   "metadata": {},
   "outputs": [
    {
     "data": {
      "text/plain": [
       "[1004.786610717458, 995.7701787502498, 995.8232443556451]"
      ]
     },
     "execution_count": 17,
     "metadata": {},
     "output_type": "execute_result"
    }
   ],
   "source": [
    "tails = [v for v in kbars40 if abs(v-muK0) >= obsdev04]\n",
    "tails[0:3]"
   ]
  },
  {
   "cell_type": "markdown",
   "id": "f39dc4e9-2e8f-4098-ac9b-93b918fd2c94",
   "metadata": {},
   "source": [
    "The list `tails` contains the subset of the simulated means\n",
    "that satisfy the \"$\\overline{\\mathbf{k}}_{04}$ or more extreme\" condition."
   ]
  },
  {
   "cell_type": "code",
   "execution_count": 18,
   "id": "e2a80cbd-2cdc-4ff9-a23a-aa7a5f1326a1",
   "metadata": {},
   "outputs": [
    {
     "data": {
      "text/plain": [
       "149"
      ]
     },
     "execution_count": 18,
     "metadata": {},
     "output_type": "execute_result"
    }
   ],
   "source": [
    "len(tails)"
   ]
  },
  {
   "cell_type": "markdown",
   "id": "8bb113d0-da8d-40bd-861b-2d8041cdab96",
   "metadata": {},
   "source": [
    "Out of the total of $N=10000$ simulated samples under $H_0$,\n",
    "only 149 satisfy this condition \"$\\overline{\\mathbf{k}}_{04}$ or more extreme.\" \n",
    "That's not a lot!\n",
    "\n",
    "The $p$-value is computed as  he number of observations in the tails,\n",
    "divided by the total number of simulated observations.\n",
    "\n",
    "TODO: mention proportion"
   ]
  },
  {
   "cell_type": "code",
   "execution_count": 19,
   "id": "0a66848c-7ebf-410f-84d7-f9bd67029ad0",
   "metadata": {},
   "outputs": [
    {
     "data": {
      "text/plain": [
       "0.0149"
      ]
     },
     "execution_count": 19,
     "metadata": {},
     "output_type": "execute_result"
    }
   ],
   "source": [
    "pvalue04 = len(tails) / len(kbars40)\n",
    "pvalue04"
   ]
  },
  {
   "cell_type": "markdown",
   "id": "fea4f15b-2ce3-4b8a-93f6-0c496652c764",
   "metadata": {},
   "source": [
    "We can visualize the $p$-value calculation by plotting a histogram of sampling distribution $\\overline{\\mathbf{K}}_0$\n",
    "and highlighting the parts of the histogram that satisfy the \"$\\overline{\\mathbf{k}}_{04}$ or more extreme\" condition."
   ]
  },
  {
   "cell_type": "code",
   "execution_count": 20,
   "id": "6b4033b3-5fa9-4065-a0e4-22d5561a371d",
   "metadata": {},
   "outputs": [
    {
     "data": {
      "image/png": "[encoded data removed]",
      "text/plain": [
       "<Figure size 1000x300 with 1 Axes>"
      ]
     },
     "metadata": {
      "image/png": {
       "height": 274,
       "width": 844
      }
     },
     "output_type": "display_data"
    }
   ],
   "source": [
    "# plot the sampling distribution as a histogram\n",
    "sns.histplot(kbars40, bins=100)\n",
    "\n",
    "# plot red line for the observed mean\n",
    "plt.axvline(obsmean04, color=\"red\")\n",
    "\n",
    "# plot the values that are equal or more extreme in red\n",
    "sns.histplot(tails, bins=100, color=\"red\");"
   ]
  },
  {
   "cell_type": "markdown",
   "id": "336703b1-3c6f-46df-88f4-b30ae25377da",
   "metadata": {},
   "source": [
    "Note the $p$-value calculation includes simulated observations in the left tail of the distribution:\n",
    "$\\{ \\overline{\\mathbf{K}}_0 \\leq 996.17 \\}$.\n",
    "This is because the alternative hypothesis is stated as $\\mu \\neq \\mu_{K_0}$,\n",
    "so we must consider both positive and negative deviations."
   ]
  },
  {
   "cell_type": "markdown",
   "id": "cca93f25-9b93-474a-9cc4-3818ffb7b464",
   "metadata": {},
   "source": [
    "We can now make the decision by comparing the $p$-value to the pre-determined threshold $\\alpha$,\n",
    "which is conventionally chosen $\\alpha=0.05$ (1 in 20).\n",
    "The $p$-value is 0.015,\n",
    "which means $\\overline{\\mathbf{k}}_{04} = 1003.83$ has only a 1.5\\% chance of occurring under the null hypothesis.\n",
    "The $p$-value 0.015 tells us the observed mean `obsmean04` = 1003.8335\n",
    "is very unlikely to occur by chance under $H_0$,\n",
    "so our decision is to \"reject the null hypothesis.\"\n",
    "In other words, Batch 04 is irregular."
   ]
  },
  {
   "cell_type": "markdown",
   "id": "120f35e6-77e2-4de1-8fb0-6e69e7dd7c81",
   "metadata": {},
   "source": [
    "#### Effect size estimates\n",
    "\n",
    "We were able to detect that Batch 04 differs from the expected distribution,\n",
    "but how big is the deviation?\n",
    "We can use the deviation from the expected mean $\\widehat{\\Delta} = \\overline{\\mathbf{k}}_{04} - \\mu_{K_0}$\n",
    "as an estimate of the effect size in this situation."
   ]
  },
  {
   "cell_type": "code",
   "execution_count": 21,
   "id": "eda2567e-3179-46c4-8c83-b6ab6bacd44c",
   "metadata": {},
   "outputs": [
    {
     "data": {
      "text/plain": [
       "3.833499999999958"
      ]
     },
     "execution_count": 21,
     "metadata": {},
     "output_type": "execute_result"
    }
   ],
   "source": [
    "mean(ksample04) - muK0"
   ]
  },
  {
   "cell_type": "markdown",
   "id": "e15d98bb-15c4-4fe2-a5c7-17a7e0484ebe",
   "metadata": {},
   "source": [
    "The point estimate $\\widehat{\\Delta} = \\overline{\\mathbf{k}}_{04} - \\mu_{K_0} = 3.83$\n",
    "tells us how much the mean of the sample differs from the expected population mean $\\mu_{K_0}$,\n",
    "but it doesn't tell us the uncertainty in this estimate."
   ]
  },
  {
   "cell_type": "markdown",
   "id": "04882539-b3d2-4735-a59a-e12ecf42686e",
   "metadata": {},
   "source": [
    "Let's calculate the 90\\% bootstrap confidence interval for the effect size  $\\ci{\\Delta,0.9}^*$. First let's obtain a 90\\% obtain a confidence interval $\\ci{\\mu,0.9}^*$ for the unknown population mean $\\mu$.\n",
    "We can do this by calling the function `ci_mean` that we defined in Section 3.2\n",
    "with the options `alpha=0.1` and `method=\"b\"`."
   ]
  },
  {
   "cell_type": "code",
   "execution_count": 22,
   "id": "223cd73c-1b2a-477b-b3ab-31e5df749b28",
   "metadata": {},
   "outputs": [
    {
     "data": {
      "text/plain": [
       "[1001.7537499999999, 1005.8020250000002]"
      ]
     },
     "execution_count": 22,
     "metadata": {},
     "output_type": "execute_result"
    }
   ],
   "source": [
    "from ministats import ci_mean\n",
    "\n",
    "np.random.seed(48)\n",
    "cimu04 = ci_mean(ksample04, alpha=0.1, method=\"b\")\n",
    "cimu04"
   ]
  },
  {
   "cell_type": "markdown",
   "id": "ac021472-449e-4a0c-896e-4b3cbeb5d539",
   "metadata": {},
   "source": [
    "We can now convert the confidence interval $\\ci{\\mu,0.9}^* =$ `cimu04`\n",
    "to a confidence interval for the effect size by\n",
    "subtracting the theoretical mean from both limits."
   ]
  },
  {
   "cell_type": "code",
   "execution_count": 23,
   "id": "86feab27-066c-4b1e-bd08-057d7ea61263",
   "metadata": {},
   "outputs": [
    {
     "data": {
      "text/plain": [
       "[1.7537499999998545, 5.802025000000185]"
      ]
     },
     "execution_count": 23,
     "metadata": {},
     "output_type": "execute_result"
    }
   ],
   "source": [
    "[cimu04[0]-muK0, cimu04[1]-muK0]"
   ]
  },
  {
   "cell_type": "markdown",
   "id": "b1b0bb18-0bec-4bd1-aeff-331240ace721",
   "metadata": {},
   "source": [
    "The confidence interval $\\ci{\\Delta,0.9}^* = [1.75, 5.80]$ tells us a range of plausible values for the true effect size (how irregular Batch 04 is) could be anywhere between 1.75ml and 5.8ml.\n",
    "This is much more interesting to know,\n",
    "since it tells us a whole range of plausible values.\n",
    "The interval estimate $\\ci{\\Delta,0.9}^* = [1.75, 5.80]$ takes into account the variability of the samples we used in the calculation."
   ]
  },
  {
   "cell_type": "markdown",
   "id": "67590a1e-208b-4ead-a90b-115bdb35c69e",
   "metadata": {},
   "source": [
    "### Example 2S: test for the mean of Batch 01"
   ]
  },
  {
   "cell_type": "markdown",
   "id": "07a24a92-a6b2-4ef2-b23e-eb9ced7a0162",
   "metadata": {},
   "source": [
    "Let's repeat simulation test procedure on the sample $\\mathbf{k}_{01}$ which comes from Batch 01."
   ]
  },
  {
   "cell_type": "code",
   "execution_count": 24,
   "id": "decc42e4-bee9-483a-a3f0-725bba2f0220",
   "metadata": {},
   "outputs": [
    {
     "data": {
      "text/plain": [
       "40"
      ]
     },
     "execution_count": 24,
     "metadata": {},
     "output_type": "execute_result"
    }
   ],
   "source": [
    "batch01 = kombucha[kombucha[\"batch\"]==1]\n",
    "ksample01 = batch01[\"volume\"]\n",
    "len(ksample01)"
   ]
  },
  {
   "cell_type": "code",
   "execution_count": 25,
   "id": "4cd1c39e-8264-43d7-9c37-678704534209",
   "metadata": {},
   "outputs": [
    {
     "data": {
      "text/plain": [
       "999.10375"
      ]
     },
     "execution_count": 25,
     "metadata": {},
     "output_type": "execute_result"
    }
   ],
   "source": [
    "obsmean01 = mean(ksample01)\n",
    "obsmean01"
   ]
  },
  {
   "cell_type": "markdown",
   "id": "0a671d84-2fcb-4e02-be42-0e20ced4472c",
   "metadata": {},
   "source": [
    "We generate the sampling distribution of the mean for samples of size $n=40$ under the null hypothesis $H_0$ by running a simulation using the function `gen_sampling_dist`."
   ]
  },
  {
   "cell_type": "code",
   "execution_count": 26,
   "id": "b18fede9-d957-4918-ac09-030573256b41",
   "metadata": {},
   "outputs": [],
   "source": [
    "np.random.seed(42)\n",
    "kbars40 = gen_sampling_dist(rvK0, estfunc=mean, n=40)"
   ]
  },
  {
   "cell_type": "markdown",
   "id": "80dd5ba5-fab7-4e8b-9c60-ec659d6cf433",
   "metadata": {},
   "source": [
    "Next we computed the observed deviation `obsdev01` $=|\\overline{\\mathbf{k}}_{01} - \\mu_{K_0}|$,\n",
    "then select the values in `kbars40` whose deviation from $\\mu_{K_0}$ is greater than the observed deviation,\n",
    "and finally compute the $p$-value as the proportion of values in the tails."
   ]
  },
  {
   "cell_type": "code",
   "execution_count": 27,
   "id": "a4b47bb8-e616-4ec5-b472-a9b4a9a0c705",
   "metadata": {},
   "outputs": [
    {
     "data": {
      "text/plain": [
       "0.5711"
      ]
     },
     "execution_count": 27,
     "metadata": {},
     "output_type": "execute_result"
    }
   ],
   "source": [
    "obsdev01 = abs(obsmean01 - muK0)\n",
    "tails = [v for v in kbars40 if abs(v-muK0) >= obsdev01]\n",
    "pvalue01 = len(tails) / len(kbars40)\n",
    "pvalue01"
   ]
  },
  {
   "cell_type": "markdown",
   "id": "1ab880c5-44b5-4edf-af2e-c666b46c9dac",
   "metadata": {},
   "source": [
    "The large $p$-value tells us that the observed mean $\\overline{\\mathbf{k}}_{01} = 999.10$ is not unlikely under $H_0$.\n",
    "Using the terminology of hypothesis testing,\n",
    "we say the outcome of the hypothesis test is that we *failed to reject* $H_0: \\mu = \\mu_{K_0}$.\n",
    "We have not seen any evidence that suggests that the mean of the population from\n",
    "which sample `ksample01` was taken from differs from the mean of the theoretical model $K_0$.\n",
    "\n",
    "In other words, Batch 01 is regular. Ship it!"
   ]
  },
  {
   "cell_type": "code",
   "execution_count": 28,
   "id": "fa6d3cc3-5c6c-45e8-80d7-cf8be8eb274d",
   "metadata": {},
   "outputs": [
    {
     "data": {
      "image/png": "[encoded data removed]",
      "text/plain": [
       "<Figure size 1000x300 with 1 Axes>"
      ]
     },
     "metadata": {
      "image/png": {
       "height": 274,
       "width": 844
      }
     },
     "output_type": "display_data"
    }
   ],
   "source": [
    "bins = nicebins(kbars40, obsmean01)\n",
    "\n",
    "# plot the sampling distribution as a histogram\n",
    "sns.histplot(kbars40, bins=bins)\n",
    "\n",
    "# plot red line for the observed statistic\n",
    "plt.axvline(obsmean01, color=\"red\")\n",
    "\n",
    "# plot the values that are equal or more extreme in red\n",
    "sns.histplot(tails, color=\"red\", bins=bins);"
   ]
  },
  {
   "cell_type": "markdown",
   "id": "cbfa6815-6e38-4d46-b100-da837f89a94e",
   "metadata": {},
   "source": [
    "## Test for the variance"
   ]
  },
  {
   "cell_type": "markdown",
   "id": "19ba36e3-ad00-4196-887e-a270f5729424",
   "metadata": {},
   "source": [
    "#### Sampling distribution of the variance under the null\n",
    "\n",
    "We can generate the the sampling distribution of the variance $S^2_{\\mathbf{K}_0}$\n",
    "by calling the helper function `gen_sampling_dist`."
   ]
  },
  {
   "cell_type": "code",
   "execution_count": 29,
   "id": "5ae57614-8c30-44bf-bda9-7979a1a4f338",
   "metadata": {},
   "outputs": [],
   "source": [
    "from ministats import gen_sampling_dist\n",
    "\n",
    "np.random.seed(42)\n",
    "kvars20 = gen_sampling_dist(rvK0, estfunc=var, n=20)"
   ]
  },
  {
   "cell_type": "code",
   "execution_count": 30,
   "id": "1fcbbfa7-4c9d-4c9f-adc3-bbcc55c1a447",
   "metadata": {},
   "outputs": [
    {
     "data": {
      "image/png": "[encoded data removed]",
      "text/plain": [
       "<Figure size 1000x300 with 1 Axes>"
      ]
     },
     "metadata": {
      "image/png": {
       "height": 274,
       "width": 844
      }
     },
     "output_type": "display_data"
    }
   ],
   "source": [
    "sns.histplot(kvars20, bins=100);"
   ]
  },
  {
   "cell_type": "markdown",
   "id": "713e0ed9-5d65-4baf-8fc9-14986069ac72",
   "metadata": {},
   "source": [
    "### Example 3S: test for the variance of Batch 02"
   ]
  },
  {
   "cell_type": "markdown",
   "id": "29ebdb87-7d6e-4af6-98ec-0b00e5d84149",
   "metadata": {},
   "source": [
    "The sample of volume measurements $\\mathbf{k}_{02}$ from the Batch 02 of the kombucha bottling plant comes from an unknown population with variance $\\sigma^2$,\n",
    "which we can estimate by computing the sample variance $s^2_{\\mathbf{k}_{02}}$.\n",
    "\n",
    "We want to check whether Batch 02 is a \"regular\" or \"irregular\" by comparing the variance of this batch, $\\sigma^2$, to the variance of the theoretical model $\\sigma_{K_0}^2= 100$.\n",
    "Specifically,\n",
    "we're interested in detecting the case when the variance is higher than expected:\n",
    "\n",
    "$$\n",
    "    H_A: \\sigma^2 > \\sigma_{K_0}^2\n",
    "    \\qquad \\text{and} \\qquad\n",
    "    H_0: \\sigma^2 \\leq \\sigma_{K_0}^2.\n",
    "$$\n",
    "\n",
    "Note the alternative hypothesis uses the \"greater than\" inequality,\n",
    "since we don't mind batches with low variance."
   ]
  },
  {
   "cell_type": "code",
   "execution_count": 31,
   "id": "788f27e2-3fe3-4346-801b-ba7da7f120a8",
   "metadata": {},
   "outputs": [
    {
     "data": {
      "text/plain": [
       "20"
      ]
     },
     "execution_count": 31,
     "metadata": {},
     "output_type": "execute_result"
    }
   ],
   "source": [
    "kombucha = pd.read_csv(\"../datasets/kombucha.csv\")\n",
    "batch02 = kombucha[kombucha[\"batch\"]==2]\n",
    "ksample02 = batch02[\"volume\"]\n",
    "len(ksample02)"
   ]
  },
  {
   "cell_type": "code",
   "execution_count": 32,
   "id": "a61cba97-8823-40a4-ae71-9de95ca1f27c",
   "metadata": {},
   "outputs": [
    {
     "data": {
      "text/plain": [
       "124.31760105263139"
      ]
     },
     "execution_count": 32,
     "metadata": {},
     "output_type": "execute_result"
    }
   ],
   "source": [
    "obsvar02 = var(ksample02)\n",
    "obsvar02"
   ]
  },
  {
   "cell_type": "markdown",
   "id": "c33a5ec9-dc27-416d-ae9b-f4f04b201e86",
   "metadata": {},
   "source": [
    "We'll now generate the sampling distribution of the variance for sample of size $n=20$."
   ]
  },
  {
   "cell_type": "code",
   "execution_count": 33,
   "id": "a6db44d3-ac26-4872-afac-07a087aefb10",
   "metadata": {},
   "outputs": [],
   "source": [
    "np.random.seed(42)\n",
    "kvars20 = gen_sampling_dist(rvK0, estfunc=var, n=20)"
   ]
  },
  {
   "cell_type": "code",
   "execution_count": 34,
   "id": "cd1ddd66-2442-419d-9efa-28b40a469e33",
   "metadata": {},
   "outputs": [
    {
     "data": {
      "text/plain": [
       "0.2132"
      ]
     },
     "execution_count": 34,
     "metadata": {},
     "output_type": "execute_result"
    }
   ],
   "source": [
    "right_tail = [v for v in kvars20 if v >= obsvar02]\n",
    "pvalue02 = len(right_tail) / len(kvars20)\n",
    "pvalue02"
   ]
  },
  {
   "cell_type": "markdown",
   "id": "ff47461d-fb9b-470f-8b8a-103f0a74311e",
   "metadata": {},
   "source": [
    "The $p$-value is greater than the cutoff value $\\alpha = 0.05$,\n",
    "so our decision is \"fail to reject $H_0$.\""
   ]
  },
  {
   "cell_type": "code",
   "execution_count": 35,
   "id": "abb5e35d-4617-420b-ac68-0c02975f0d98",
   "metadata": {},
   "outputs": [
    {
     "data": {
      "image/png": "[encoded data removed]",
      "text/plain": [
       "<Figure size 1000x300 with 1 Axes>"
      ]
     },
     "metadata": {
      "image/png": {
       "height": 277,
       "width": 844
      }
     },
     "output_type": "display_data"
    }
   ],
   "source": [
    "# choose common bins for the histograms\n",
    "bins = nicebins(kvars20, obsvar02)\n",
    "\n",
    "# plot sampling distribution\n",
    "sns.histplot(kvars20, bins=bins)\n",
    "\n",
    "# plot red line for the observed statistic\n",
    "plt.axvline(obsvar02, color=\"red\")\n",
    "\n",
    "# plot the values that are equal or more extreme in red\n",
    "sns.histplot(right_tail, bins=bins, color=\"red\");"
   ]
  },
  {
   "cell_type": "markdown",
   "id": "8291b4e8-1c85-4a47-86fd-08c83e46c27f",
   "metadata": {},
   "source": [
    "### Example 4S: test for the variance of Batch 08"
   ]
  },
  {
   "cell_type": "code",
   "execution_count": 36,
   "id": "275373b3-45c4-4a9a-8dc8-706027f30b00",
   "metadata": {},
   "outputs": [
    {
     "data": {
      "text/plain": [
       "40"
      ]
     },
     "execution_count": 36,
     "metadata": {},
     "output_type": "execute_result"
    }
   ],
   "source": [
    "kombucha = pd.read_csv(\"../datasets/kombucha.csv\")\n",
    "batch08 = kombucha[kombucha[\"batch\"]==8]\n",
    "ksample08 = batch08[\"volume\"]\n",
    "len(ksample08)"
   ]
  },
  {
   "cell_type": "code",
   "execution_count": 37,
   "id": "02c5c91b-b2c9-4cf0-bda1-ed9e6b90aba2",
   "metadata": {},
   "outputs": [
    {
     "data": {
      "text/plain": [
       "169.9979220512824"
      ]
     },
     "execution_count": 37,
     "metadata": {},
     "output_type": "execute_result"
    }
   ],
   "source": [
    "obsvar08 = var(ksample08)\n",
    "obsvar08"
   ]
  },
  {
   "cell_type": "markdown",
   "id": "68cf90cd-59f0-42a6-a1a1-aa68455b2e90",
   "metadata": {},
   "source": [
    "We'll now generate the sampling distribution of the variance for sample of size $n=40$."
   ]
  },
  {
   "cell_type": "code",
   "execution_count": 38,
   "id": "be109a49-d58a-4567-89cc-fe259bba3748",
   "metadata": {},
   "outputs": [],
   "source": [
    "np.random.seed(43)\n",
    "kvars40 = gen_sampling_dist(rvK0, estfunc=var, n=40)"
   ]
  },
  {
   "cell_type": "code",
   "execution_count": 39,
   "id": "182e8f82-c78f-4169-bb60-6b431e03a5f2",
   "metadata": {},
   "outputs": [
    {
     "data": {
      "text/plain": [
       "0.0041"
      ]
     },
     "execution_count": 39,
     "metadata": {},
     "output_type": "execute_result"
    }
   ],
   "source": [
    "right_tail = [v for v in kvars40 if v >= obsvar08]\n",
    "pvalue08 = len(right_tail) / len(kvars40)\n",
    "pvalue08"
   ]
  },
  {
   "cell_type": "markdown",
   "id": "492c2af0-4273-4df9-bcee-1bd383e2c0f1",
   "metadata": {},
   "source": [
    "The $p$-value is very small,\n",
    "so our decision is to reject $H_0$."
   ]
  },
  {
   "cell_type": "markdown",
   "id": "0ac922ac-a446-4ffc-a068-6a4238b0380c",
   "metadata": {},
   "source": [
    "#### Effect size estimates\n",
    "\n",
    "We found the variance in the volumes in this batch is higher than the expected variance.\n",
    "Now let's compute an estimate for the effect size $\\widehat{\\Delta} = s^2_{\\mathbf{k}_{08}} / \\sigma_{K_0}^2$."
   ]
  },
  {
   "cell_type": "code",
   "execution_count": 40,
   "id": "e80a1bd8-fc2a-48e1-b01c-1debc0c74394",
   "metadata": {},
   "outputs": [
    {
     "data": {
      "text/plain": [
       "1.699979220512824"
      ]
     },
     "execution_count": 40,
     "metadata": {},
     "output_type": "execute_result"
    }
   ],
   "source": [
    "var(ksample08) / sigmaK0**2"
   ]
  },
  {
   "cell_type": "markdown",
   "id": "9ba70bfd-c71b-45ba-81b0-924caed2eba1",
   "metadata": {},
   "source": [
    "This tells us the variance of $\\mathbf{k}_{08}$ is 70\\% higher in the theoretically expected variance $\\sigma_{K_0}^2 = 100$."
   ]
  },
  {
   "cell_type": "markdown",
   "id": "70394540-652e-45af-9745-1e5cf48971af",
   "metadata": {},
   "source": [
    "The bootstrap confidence interval for the effect size \n",
    "$\\ci{\\Delta,0.9}^*$ tells us a range of plausible values for the effect size.\n",
    "We can obtain $\\ci{\\Delta,0.9}^*$ by first computing a 90\\% bootstrap confidence interval\n",
    "for the variance $\\ci{\\sigma^2,0.9}^*$."
   ]
  },
  {
   "cell_type": "code",
   "execution_count": 41,
   "id": "89bf0dc0-3395-41c0-a28b-83a0c11b64cf",
   "metadata": {},
   "outputs": [
    {
     "data": {
      "text/plain": [
       "[117.37369362820536, 217.98659930448775]"
      ]
     },
     "execution_count": 41,
     "metadata": {},
     "output_type": "execute_result"
    }
   ],
   "source": [
    "from ministats import ci_var\n",
    "\n",
    "np.random.seed(48)\n",
    "civar08_boot = ci_var(ksample08, alpha=0.1, method=\"b\")\n",
    "civar08_boot"
   ]
  },
  {
   "cell_type": "markdown",
   "id": "cf2d4945-c125-45b9-810a-db3dcdfd5f2f",
   "metadata": {},
   "source": [
    "We can obtain a confidence interval for \n",
    "$\\Delta = \\sigma^2 / \\sigma_{K_0}^2$\n",
    "by dividing the limits of $\\ci{\\sigma^2,0.9}^*$ by the theoretical variance $\\sigma_{K_0}^2$."
   ]
  },
  {
   "cell_type": "code",
   "execution_count": 42,
   "id": "2083b2f6-8929-4b04-9616-83671a9e3f82",
   "metadata": {},
   "outputs": [
    {
     "data": {
      "text/plain": [
       "[1.1737369362820536, 2.1798659930448774]"
      ]
     },
     "execution_count": 42,
     "metadata": {},
     "output_type": "execute_result"
    }
   ],
   "source": [
    "ci_l = civar08_boot[0] / sigmaK0**2\n",
    "ci_u = civar08_boot[1] / sigmaK0**2\n",
    "[ci_l, ci_u]"
   ]
  },
  {
   "cell_type": "markdown",
   "id": "f0095986-ce74-46a5-851d-fac06e49e3bc",
   "metadata": {},
   "source": [
    "The interval $\\ci{\\Delta,0.9}^* = [1.17, 2.18]$ tells us the observed sample variance\n",
    "in Batch 08 is somewhere between 1.17 and 2.18 times the expected variance $\\sigma_{K_0}^2$ under the null hypothesis."
   ]
  },
  {
   "cell_type": "markdown",
   "id": "c3ae63a1-d099-4957-9e1b-338cc1f6c8b2",
   "metadata": {},
   "source": [
    "## Explanations"
   ]
  },
  {
   "cell_type": "markdown",
   "id": "989ce7b7-68eb-4f14-b525-504e26541211",
   "metadata": {},
   "source": [
    "### One-sided and two-sided tests"
   ]
  },
  {
   "cell_type": "markdown",
   "id": "bf379875-5fe7-4bff-9f09-b5b9bee39308",
   "metadata": {},
   "source": [
    "#### Selecting the tails of a distribution\n",
    "\n",
    "The concept of statistics that are \"equal or more extreme than $\\hat{\\theta}_{\\mathbf{x}}$\"\n",
    "is essential to the logic of hypothesis testing.\n",
    "We'll need to perform this type of filtering any time we use numerical methods for hypothesis testing.\n",
    "\n",
    "Let's write a helper function that performs the selection of the tail values for us."
   ]
  },
  {
   "cell_type": "code",
   "execution_count": 43,
   "id": "30ba538d-02d2-4b6d-aca8-996a162190a8",
   "metadata": {},
   "outputs": [],
   "source": [
    "def tailvalues(valuesH0, obs, alt=\"two-sided\"):\n",
    "    \"\"\"\n",
    "    Select the subset of the elements in list `valuesH0` that\n",
    "    are equal or more extreme than the observed value `obs`.\n",
    "    \"\"\"\n",
    "    assert alt in [\"greater\", \"less\", \"two-sided\"]\n",
    "    valuesH0 = np.array(valuesH0)\n",
    "    if alt == \"greater\":\n",
    "        tails = valuesH0[valuesH0 >= obs]\n",
    "    elif alt == \"less\":\n",
    "        tails = valuesH0[valuesH0 <= obs]\n",
    "    elif alt == \"two-sided\":\n",
    "        meanH0 = np.mean(valuesH0)\n",
    "        obsdev = abs(obs - meanH0)\n",
    "        tails = valuesH0[abs(valuesH0-meanH0) >= obsdev]\n",
    "    return tails"
   ]
  },
  {
   "cell_type": "markdown",
   "id": "b1822d3f-2019-4ad7-9351-64580daf4c0f",
   "metadata": {},
   "source": [
    "You should be familiar with the three types of tail values selections:\n",
    "\n",
    "- For right-tailed tests,\n",
    "  we call `tailvalues` with the option `alt=\"greater\"`,\n",
    "  which will select the subset of values in the list\n",
    "  `valuesH0` that are equal to or greater than the observed statistic `obs`.\n",
    "- Foe left-tailed test,\n",
    "  we call `tailvalues` with the option `alt=\"less\"`,\n",
    "  which selects the values that are equal to or less than the observed statistic `obs`.\n",
    "- For two-tailed tests,\n",
    "  we select values observations whose deviation from the mean `meanH0`\n",
    "  is equal to or greater than the observed deviation `obsdev`."
   ]
  },
  {
   "cell_type": "markdown",
   "id": "43512359-3ca5-48d1-b64d-557039af22db",
   "metadata": {},
   "source": [
    "#### One-sided $p$-value calculation example"
   ]
  },
  {
   "cell_type": "markdown",
   "id": "771ee886-c4a8-4670-8b14-18fea683bf0a",
   "metadata": {},
   "source": [
    "We can verify that  the function `tailvalues` works as expected\n",
    "by reproducing the $p$-value calculation from Example 3S.\n",
    "Reusing the variables `n02=20` and $\\tt{obsvar02} = s_{\\mathbf{k}_{02}}^2 = 124.32$ we calculated above,\n",
    "we can obtain the $p$-value by calling the helper function `tailvalues` with the option `alt=\"greater\"`,then dividing by the total number of simulations:"
   ]
  },
  {
   "cell_type": "code",
   "execution_count": 44,
   "id": "bedf1362-56fa-44cb-9346-455b2233b37f",
   "metadata": {},
   "outputs": [
    {
     "data": {
      "text/plain": [
       "0.2132"
      ]
     },
     "execution_count": 44,
     "metadata": {},
     "output_type": "execute_result"
    }
   ],
   "source": [
    "np.random.seed(42)\n",
    "kvars20 = gen_sampling_dist(rvK0, estfunc=var, n=20)\n",
    "tails = tailvalues(kvars20, obsvar02, alt=\"greater\")\n",
    "pvalue = len(tails) / len(kvars20)\n",
    "pvalue"
   ]
  },
  {
   "cell_type": "markdown",
   "id": "e3e43f26-d0fa-452f-9b8d-a4f7f85f2477",
   "metadata": {},
   "source": [
    "The result is identical to the $p$-value $\\tt{pvalue02} = 0.2132$ that we computed in Example 3S,\n",
    "so we know the function `tailvalues` works as expected for $p$-value calculations of type **(a)**,\n",
    "where we want to detect positive deviations from the expected distribution under $H_0$."
   ]
  },
  {
   "cell_type": "markdown",
   "id": "c1123799-6c7c-4b7a-a366-a3fa67efdf50",
   "metadata": {},
   "source": [
    "#### Two-sided $p$-value calculation example"
   ]
  },
  {
   "cell_type": "markdown",
   "id": "06e286b4-1b5d-48f2-acf6-0379dae08727",
   "metadata": {},
   "source": [
    "Reusing the values `n04=40` and $\\tt{obsmean04} = \\overline{\\mathbf{x}}_{04} = 1003.83$\n",
    "that we calculated earlier in Example 1S,\n",
    "we can obtain the $p$-value by calling the function `tailvalues`\n",
    "with the option `alt=\"two-sided\"` then divide by the total number of simulations:"
   ]
  },
  {
   "cell_type": "code",
   "execution_count": 45,
   "id": "46a3c55c-5877-4379-a797-4c764b08e640",
   "metadata": {},
   "outputs": [
    {
     "data": {
      "text/plain": [
       "0.015"
      ]
     },
     "execution_count": 45,
     "metadata": {},
     "output_type": "execute_result"
    }
   ],
   "source": [
    "np.random.seed(42)\n",
    "kbars40 = gen_sampling_dist(rvK0, estfunc=mean, n=40)\n",
    "tails = tailvalues(kbars40, obsmean04, alt=\"two-sided\")\n",
    "pvalue = len(tails) / len(kbars40)\n",
    "pvalue"
   ]
  },
  {
   "cell_type": "markdown",
   "id": "313c44b6-c4c2-41ae-9547-2c5620e6901d",
   "metadata": {},
   "source": [
    "The result is identical to the $p$-value that we obtained in Example 1S,\n",
    "so we know the function `tailvalues` works as expected for $p$-value calculations of type **(c)**,\n",
    "where we want to detect both positive and negative deviations from the expected distribution under $H_0$."
   ]
  },
  {
   "cell_type": "markdown",
   "id": "596277f0-a2b2-42c3-9f1f-119b7b6780ce",
   "metadata": {},
   "source": [
    "### Summary of the hypothesis testing procedure\n",
    "\n",
    "\n",
    "The steps of the hypothesis testing procedure are as follows:\n",
    "\n",
    "- Step 1: Formulate two competing hypotheses $H_0$ and $H_A$.\n",
    "- Step 2: Choose an estimator relevant for distinguishing between the two hypotheses.\n",
    "- Step 3: Compute the test statistic $\\hat{\\theta}_{\\mathbf{x}}$ from the sample $\\mathbf{x}$.\n",
    "- Step 4: Obtain $\\widehat{\\Theta}_0$, the sampling distribution of the test statistic under the null hypothesis.\n",
    "- Step 5: Decide whether to *reject* or *fail to reject* the null hypothesis $H_0$\n",
    "  based on the $p$-value computed from the observed test statistic $\\hat{\\theta}_{\\mathbf{x}}$\n",
    "  under the sampling distribution $\\widehat{\\Theta}_0$ assuming $H_0$ is true.\n",
    "- Step 6: Report your decision and calculate effect size estimates."
   ]
  },
  {
   "cell_type": "markdown",
   "id": "3b92ec2a-4f3b-4abd-ac84-2553642cfc7d",
   "metadata": {},
   "source": [
    "## Discussion"
   ]
  },
  {
   "cell_type": "markdown",
   "id": "be5a788a-b31a-4dcc-b463-5323f0a43364",
   "metadata": {},
   "source": [
    "### Standardized effect size\n",
    "\n",
    "It is sometimes useful to report the effect size using a \"standardized\" measure for effect sizes.\n",
    "Cohen's $d$ is one such measure, and it is defined as the difference between the observed mean and an expected mean,\n",
    "divided by the sample standard deviation:\n",
    "\n",
    "$$\n",
    "  d = \\frac{\\overline{\\mathbf{x}} - \\mu_0}{ s_{\\mathbf{x}} }.\n",
    "$$"
   ]
  },
  {
   "cell_type": "markdown",
   "id": "d1752668-8bf4-49ca-90da-020c6fba5bdd",
   "metadata": {},
   "source": [
    "For example,\n",
    "the sample $\\mathbf{k}_{04}$ from Batch 04 has mean $\\overline{\\mathbf{k}}_{04} = 1003.83$,\n",
    "which corresponds to a \"raw\" deviation of $3.83$ from the expected value $\\mu_{K_0}=1000$.\n",
    "We divide the raw deviation ($\\overline{\\mathbf{k}}_{04} - \\mu_{K_0}$) by the sample's standard deviation $s_{\\mathbf{k}_{04}}= 7.85$\n",
    "to obtain Cohen's $d$ standardized effect size."
   ]
  },
  {
   "cell_type": "code",
   "execution_count": 46,
   "id": "1f9b9b93-8cdd-4fec-910d-e111be9e58ac",
   "metadata": {},
   "outputs": [
    {
     "data": {
      "text/plain": [
       "0.48820873453216374"
      ]
     },
     "execution_count": 46,
     "metadata": {},
     "output_type": "execute_result"
    }
   ],
   "source": [
    "std04 = np.sqrt(var(ksample04))\n",
    "(mean(ksample04) - muK0) / std04"
   ]
  },
  {
   "cell_type": "markdown",
   "id": "3e208cee-3ef3-42fd-be9c-b819d240794a",
   "metadata": {},
   "source": [
    "We can interpret the value of Cohen's $d$ obtained using this [table of reference values](https://en.wikipedia.org/wiki/Effect_size#Cohen's_d),\n",
    "which was published in (Cohen YYYY TODO) and continues to be used as a reference to this day.\n",
    "\n",
    "| Cohen's d   | Effect size |\n",
    "| ----------- | ----------- |\n",
    "| 0.01        | very small  |\n",
    "| 0.20        | small       |\n",
    "| 0.50        | medium      |\n",
    "| 0.80        | large       |\n"
   ]
  },
  {
   "cell_type": "markdown",
   "id": "99420f98-d4ac-4b21-b232-e1614ef38cfb",
   "metadata": {},
   "source": [
    "The standardized effect size for kombucha Batch 04 is $d=0.488$,\n",
    "which we quantify as \"medium\" effect size according to the table of reference values."
   ]
  },
  {
   "cell_type": "markdown",
   "id": "dcaac94b-0ac9-4a87-ba83-a45e0e1a39a3",
   "metadata": {},
   "source": [
    "The following helper function shows how to compute the Cohen's $d$ for a given sample."
   ]
  },
  {
   "cell_type": "code",
   "execution_count": 47,
   "id": "0542ba2b-29f6-4a38-aeb1-347f161613a8",
   "metadata": {},
   "outputs": [],
   "source": [
    "def cohend(sample, mu0):\n",
    "    \"\"\"\n",
    "    Cohen's d for one group compared to the theoretical mean `mu0`.\n",
    "    \"\"\"\n",
    "    obsmean = mean(sample)\n",
    "    obsstd = np.sqrt(var(sample))\n",
    "    d = (obsmean - mu0) / obsstd\n",
    "    return d"
   ]
  },
  {
   "cell_type": "code",
   "execution_count": 48,
   "id": "82a7b837-4c9e-4532-8a8c-178bc6c4d549",
   "metadata": {},
   "outputs": [
    {
     "data": {
      "text/plain": [
       "0.48820873453216374"
      ]
     },
     "execution_count": 48,
     "metadata": {},
     "output_type": "execute_result"
    }
   ],
   "source": [
    "cohend(ksample04, mu0=1000)"
   ]
  },
  {
   "cell_type": "markdown",
   "id": "6c26d960-822a-42a9-8c6b-8dc91a9586e7",
   "metadata": {},
   "source": [
    "## Exercises"
   ]
  },
  {
   "cell_type": "code",
   "execution_count": 49,
   "id": "473e6df7-023a-4b35-85a7-7a1a1a4e5dda",
   "metadata": {},
   "outputs": [],
   "source": [
    "# TODO"
   ]
  },
  {
   "cell_type": "markdown",
   "id": "efd39602-5e0b-4640-8d80-fe0a4753a3d0",
   "metadata": {},
   "source": [
    "## Links\n",
    "\n",
    "* \\[TALK\\] [*Statistics for Hackers*](https://www.youtube.com/watch?v=Iq9DzN6mvYA) by Jake Vanderplas\n",
    "* \\[VIDEO\\] [*There's Only One Test*](https://www.youtube.com/watch?v=S41zQEshs5k) by Allen B. Downey\n",
    "* \\[PAPER\\] [*The Introductory Statistics Course: A Ptolemaic Curriculum*](https://minireference.com/blog/wp-content/uploads/2021/03/TheIntroductoryStatisticsCourse__Cobb.pdf) by George W. Cobb\n",
    "* \\[PAPER\\] [*What Teachers Should Know About the Bootstrap: Resampling in the Undergraduate Statistics Curriculum*](https://www.tandfonline.com/doi/full/10.1080/00031305.2015.1089789) by Tim C. Hesterberg  \n",
    "* \\[BOOK\\] [*Think Stats 2e*](https://greenteapress.com/wp/think-stats-2e/) by Allen B. Downey  \n"
   ]
  }
 ],
 "metadata": {
  "kernelspec": {
   "display_name": "Python 3 (ipykernel)",
   "language": "python",
   "name": "python3"
  },
  "language_info": {
   "codemirror_mode": {
    "name": "ipython",
    "version": 3
   },
   "file_extension": ".py",
   "mimetype": "text/x-python",
   "name": "python",
   "nbconvert_exporter": "python",
   "pygments_lexer": "ipython3",
   "version": "3.12.4"
  },
  "toc-autonumbering": true
 },
 "nbformat": 4,
 "nbformat_minor": 5
}
