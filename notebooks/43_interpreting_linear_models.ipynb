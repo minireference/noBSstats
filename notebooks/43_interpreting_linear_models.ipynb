{
 "cells": [
  {
   "cell_type": "markdown",
   "id": "3ec95fa0-da20-41dc-820e-2f33f262f4e2",
   "metadata": {
    "tags": []
   },
   "source": [
    "# Section 4.3 — Interpreting linear models\n",
    "\n",
    "This notebook contains the code examples from [Section 4.3 Interpreting linear models]() from the **No Bullshit Guide to Statistics**."
   ]
  },
  {
   "cell_type": "markdown",
   "id": "eb4d1856-22a1-4634-87d7-5fc091d93e12",
   "metadata": {
    "tags": []
   },
   "source": [
    "#### Notebook setup"
   ]
  },
  {
   "cell_type": "code",
   "execution_count": 1,
   "id": "0003a9e7-21c7-47a5-bdec-3bd3ca2a79f4",
   "metadata": {},
   "outputs": [],
   "source": [
    "# load Python modules\n",
    "import os\n",
    "import numpy as np\n",
    "import pandas as pd\n",
    "import seaborn as sns\n",
    "import matplotlib.pyplot as plt"
   ]
  },
  {
   "cell_type": "code",
   "execution_count": 2,
   "id": "8e67e0e7-4f48-4c48-a49d-3cdf22cbd014",
   "metadata": {},
   "outputs": [
    {
     "data": {
      "text/plain": [
       "<Figure size 640x480 with 0 Axes>"
      ]
     },
     "metadata": {},
     "output_type": "display_data"
    }
   ],
   "source": [
    "# Figures setup\n",
    "plt.clf()  # needed otherwise `sns.set_theme` doesn't work\n",
    "from plot_helpers import RCPARAMS\n",
    "RCPARAMS.update({'figure.figsize': (8, 5)})   # good for screen\n",
    "# RCPARAMS.update({'figure.figsize': (5, 1.6)})  # good for print\n",
    "sns.set_theme(\n",
    "    context=\"paper\",\n",
    "    style=\"whitegrid\",\n",
    "    palette=\"colorblind\",\n",
    "    rc=RCPARAMS,\n",
    ")\n",
    "\n",
    "# High-resolution please\n",
    "%config InlineBackend.figure_format = 'retina'\n",
    "\n",
    "# Where to store figures\n",
    "DESTDIR = \"figures/lm/interpreting\""
   ]
  },
  {
   "cell_type": "code",
   "execution_count": 3,
   "id": "efc0e89b-72bf-4658-8f8a-a3d85bee00b6",
   "metadata": {},
   "outputs": [],
   "source": [
    "# set random seed for repeatability\n",
    "np.random.seed(42)\n",
    "#######################################################"
   ]
  },
  {
   "cell_type": "code",
   "execution_count": 4,
   "id": "4d67690c-bc4c-400c-9d49-cb7b3d31c894",
   "metadata": {},
   "outputs": [],
   "source": [
    "import statsmodels.formula.api as smf"
   ]
  },
  {
   "cell_type": "markdown",
   "id": "f853a5c7-3a3b-4008-87c9-0deab0233ba9",
   "metadata": {},
   "source": [
    "## Definitions"
   ]
  },
  {
   "cell_type": "code",
   "execution_count": 5,
   "id": "709070d1-324d-402f-a5cf-50134df5d2b7",
   "metadata": {},
   "outputs": [
    {
     "data": {
      "text/html": [
       "<table class=\"simpletable\">\n",
       "<caption>OLS Regression Results</caption>\n",
       "<tr>\n",
       "  <th>Dep. Variable:</th>          <td>score</td>      <th>  R-squared:         </th> <td>   0.842</td>\n",
       "</tr>\n",
       "<tr>\n",
       "  <th>Model:</th>                   <td>OLS</td>       <th>  Adj. R-squared:    </th> <td>   0.839</td>\n",
       "</tr>\n",
       "<tr>\n",
       "  <th>Method:</th>             <td>Least Squares</td>  <th>  F-statistic:       </th> <td>   270.3</td>\n",
       "</tr>\n",
       "<tr>\n",
       "  <th>Date:</th>             <td>Wed, 28 Feb 2024</td> <th>  Prob (F-statistic):</th> <td>1.05e-60</td>\n",
       "</tr>\n",
       "<tr>\n",
       "  <th>Time:</th>                 <td>07:46:50</td>     <th>  Log-Likelihood:    </th> <td> -547.63</td>\n",
       "</tr>\n",
       "<tr>\n",
       "  <th>No. Observations:</th>      <td>   156</td>      <th>  AIC:               </th> <td>   1103.</td>\n",
       "</tr>\n",
       "<tr>\n",
       "  <th>Df Residuals:</th>          <td>   152</td>      <th>  BIC:               </th> <td>   1115.</td>\n",
       "</tr>\n",
       "<tr>\n",
       "  <th>Df Model:</th>              <td>     3</td>      <th>                     </th>     <td> </td>   \n",
       "</tr>\n",
       "<tr>\n",
       "  <th>Covariance Type:</th>      <td>nonrobust</td>    <th>                     </th>     <td> </td>   \n",
       "</tr>\n",
       "</table>\n",
       "<table class=\"simpletable\">\n",
       "<tr>\n",
       "      <td></td>         <th>coef</th>     <th>std err</th>      <th>t</th>      <th>P>|t|</th>  <th>[0.025</th>    <th>0.975]</th>  \n",
       "</tr>\n",
       "<tr>\n",
       "  <th>Intercept</th> <td>   60.4529</td> <td>    1.289</td> <td>   46.885</td> <td> 0.000</td> <td>   57.905</td> <td>   63.000</td>\n",
       "</tr>\n",
       "<tr>\n",
       "  <th>alc</th>       <td>   -1.8001</td> <td>    0.070</td> <td>  -25.726</td> <td> 0.000</td> <td>   -1.938</td> <td>   -1.662</td>\n",
       "</tr>\n",
       "<tr>\n",
       "  <th>weed</th>      <td>   -1.0216</td> <td>    0.476</td> <td>   -2.145</td> <td> 0.034</td> <td>   -1.962</td> <td>   -0.081</td>\n",
       "</tr>\n",
       "<tr>\n",
       "  <th>exrc</th>      <td>    1.7683</td> <td>    0.138</td> <td>   12.809</td> <td> 0.000</td> <td>    1.496</td> <td>    2.041</td>\n",
       "</tr>\n",
       "</table>\n",
       "<table class=\"simpletable\">\n",
       "<tr>\n",
       "  <th>Omnibus:</th>       <td> 1.140</td> <th>  Durbin-Watson:     </th> <td>   1.828</td>\n",
       "</tr>\n",
       "<tr>\n",
       "  <th>Prob(Omnibus):</th> <td> 0.565</td> <th>  Jarque-Bera (JB):  </th> <td>   0.900</td>\n",
       "</tr>\n",
       "<tr>\n",
       "  <th>Skew:</th>          <td> 0.182</td> <th>  Prob(JB):          </th> <td>   0.638</td>\n",
       "</tr>\n",
       "<tr>\n",
       "  <th>Kurtosis:</th>      <td> 3.075</td> <th>  Cond. No.          </th> <td>    31.2</td>\n",
       "</tr>\n",
       "</table><br/><br/>Notes:<br/>[1] Standard Errors assume that the covariance matrix of the errors is correctly specified."
      ],
      "text/latex": [
       "\\begin{center}\n",
       "\\begin{tabular}{lclc}\n",
       "\\toprule\n",
       "\\textbf{Dep. Variable:}    &      score       & \\textbf{  R-squared:         } &     0.842   \\\\\n",
       "\\textbf{Model:}            &       OLS        & \\textbf{  Adj. R-squared:    } &     0.839   \\\\\n",
       "\\textbf{Method:}           &  Least Squares   & \\textbf{  F-statistic:       } &     270.3   \\\\\n",
       "\\textbf{Date:}             & Wed, 28 Feb 2024 & \\textbf{  Prob (F-statistic):} &  1.05e-60   \\\\\n",
       "\\textbf{Time:}             &     07:46:50     & \\textbf{  Log-Likelihood:    } &   -547.63   \\\\\n",
       "\\textbf{No. Observations:} &         156      & \\textbf{  AIC:               } &     1103.   \\\\\n",
       "\\textbf{Df Residuals:}     &         152      & \\textbf{  BIC:               } &     1115.   \\\\\n",
       "\\textbf{Df Model:}         &           3      & \\textbf{                     } &             \\\\\n",
       "\\textbf{Covariance Type:}  &    nonrobust     & \\textbf{                     } &             \\\\\n",
       "\\bottomrule\n",
       "\\end{tabular}\n",
       "\\begin{tabular}{lcccccc}\n",
       "                   & \\textbf{coef} & \\textbf{std err} & \\textbf{t} & \\textbf{P$> |$t$|$} & \\textbf{[0.025} & \\textbf{0.975]}  \\\\\n",
       "\\midrule\n",
       "\\textbf{Intercept} &      60.4529  &        1.289     &    46.885  &         0.000        &       57.905    &       63.000     \\\\\n",
       "\\textbf{alc}       &      -1.8001  &        0.070     &   -25.726  &         0.000        &       -1.938    &       -1.662     \\\\\n",
       "\\textbf{weed}      &      -1.0216  &        0.476     &    -2.145  &         0.034        &       -1.962    &       -0.081     \\\\\n",
       "\\textbf{exrc}      &       1.7683  &        0.138     &    12.809  &         0.000        &        1.496    &        2.041     \\\\\n",
       "\\bottomrule\n",
       "\\end{tabular}\n",
       "\\begin{tabular}{lclc}\n",
       "\\textbf{Omnibus:}       &  1.140 & \\textbf{  Durbin-Watson:     } &    1.828  \\\\\n",
       "\\textbf{Prob(Omnibus):} &  0.565 & \\textbf{  Jarque-Bera (JB):  } &    0.900  \\\\\n",
       "\\textbf{Skew:}          &  0.182 & \\textbf{  Prob(JB):          } &    0.638  \\\\\n",
       "\\textbf{Kurtosis:}      &  3.075 & \\textbf{  Cond. No.          } &     31.2  \\\\\n",
       "\\bottomrule\n",
       "\\end{tabular}\n",
       "%\\caption{OLS Regression Results}\n",
       "\\end{center}\n",
       "\n",
       "Notes: \\newline\n",
       " [1] Standard Errors assume that the covariance matrix of the errors is correctly specified."
      ],
      "text/plain": [
       "<class 'statsmodels.iolib.summary.Summary'>\n",
       "\"\"\"\n",
       "                            OLS Regression Results                            \n",
       "==============================================================================\n",
       "Dep. Variable:                  score   R-squared:                       0.842\n",
       "Model:                            OLS   Adj. R-squared:                  0.839\n",
       "Method:                 Least Squares   F-statistic:                     270.3\n",
       "Date:                Wed, 28 Feb 2024   Prob (F-statistic):           1.05e-60\n",
       "Time:                        07:46:50   Log-Likelihood:                -547.63\n",
       "No. Observations:                 156   AIC:                             1103.\n",
       "Df Residuals:                     152   BIC:                             1115.\n",
       "Df Model:                           3                                         \n",
       "Covariance Type:            nonrobust                                         \n",
       "==============================================================================\n",
       "                 coef    std err          t      P>|t|      [0.025      0.975]\n",
       "------------------------------------------------------------------------------\n",
       "Intercept     60.4529      1.289     46.885      0.000      57.905      63.000\n",
       "alc           -1.8001      0.070    -25.726      0.000      -1.938      -1.662\n",
       "weed          -1.0216      0.476     -2.145      0.034      -1.962      -0.081\n",
       "exrc           1.7683      0.138     12.809      0.000       1.496       2.041\n",
       "==============================================================================\n",
       "Omnibus:                        1.140   Durbin-Watson:                   1.828\n",
       "Prob(Omnibus):                  0.565   Jarque-Bera (JB):                0.900\n",
       "Skew:                           0.182   Prob(JB):                        0.638\n",
       "Kurtosis:                       3.075   Cond. No.                         31.2\n",
       "==============================================================================\n",
       "\n",
       "Notes:\n",
       "[1] Standard Errors assume that the covariance matrix of the errors is correctly specified.\n",
       "\"\"\""
      ]
     },
     "execution_count": 5,
     "metadata": {},
     "output_type": "execute_result"
    }
   ],
   "source": [
    "doctors = pd.read_csv(\"../datasets/doctors.csv\")\n",
    "n = doctors.shape[0]\n",
    "\n",
    "lm2 = smf.ols('score ~ 1 + alc + weed + exrc', data=doctors).fit()\n",
    "\n",
    "# the coefficients of the best-fit line\n",
    "lm2.summary()"
   ]
  },
  {
   "cell_type": "markdown",
   "id": "21949eb7-b2b1-43eb-bbbf-98d28412ab75",
   "metadata": {},
   "source": [
    "## Model fit metrics"
   ]
  },
  {
   "cell_type": "code",
   "execution_count": 6,
   "id": "9946c5da-616f-43f9-967f-ad5c922d6c58",
   "metadata": {},
   "outputs": [
    {
     "data": {
      "text/plain": [
       "(0.8421649167873537, 0.8390497506713147)"
      ]
     },
     "execution_count": 6,
     "metadata": {},
     "output_type": "execute_result"
    }
   ],
   "source": [
    "lm2.rsquared, lm2.rsquared_adj"
   ]
  },
  {
   "cell_type": "code",
   "execution_count": 7,
   "id": "ad495e0a-ba71-4bf6-ba39-f35cfb19bacd",
   "metadata": {},
   "outputs": [
    {
     "data": {
      "text/plain": [
       "54570.51590209805"
      ]
     },
     "execution_count": 7,
     "metadata": {},
     "output_type": "execute_result"
    }
   ],
   "source": [
    "# Explained sum of squares\n",
    "lm2.ess"
   ]
  },
  {
   "cell_type": "code",
   "execution_count": 8,
   "id": "45ae7aa7-1443-4103-a3fa-ecaf9c36e36e",
   "metadata": {},
   "outputs": [
    {
     "data": {
      "text/plain": [
       "65.56013803717558"
      ]
     },
     "execution_count": 8,
     "metadata": {},
     "output_type": "execute_result"
    }
   ],
   "source": [
    "lm2.ssr / n"
   ]
  },
  {
   "cell_type": "markdown",
   "id": "fa1154fd-bddb-449a-95de-07bb6c6492a4",
   "metadata": {},
   "source": [
    "### Metrics "
   ]
  },
  {
   "cell_type": "code",
   "execution_count": 9,
   "id": "666c1619-a758-4094-bf78-4438dc57cb61",
   "metadata": {},
   "outputs": [],
   "source": [
    "from sklearn import metrics\n",
    "scores = doctors[\"score\"].values\n",
    "scoreshat = lm2.fittedvalues.values\n",
    "meanscore = np.mean(scores)\n",
    "\n",
    "\n",
    "# TSS = Total Sum of Squares\n",
    "tss = sum( (scores-meanscore)**2 ) \n",
    "# lm2.centered_tss, tss\n",
    "\n",
    "# SSR = Sum of Squares Residuals\n",
    "# ssr = sum( (scores-scoreshat)**2 )\n",
    "# ssr, lm2.ssr\n",
    "\n",
    "# ESS = Explained Sum of Squares\n",
    "# ess = sum( (scoreshat-ybar)**2 ) \n",
    "# lm2.ess, ess\n",
    "\n",
    "# R^2\n",
    "# metrics.r2_score(scores, scoreshat), lm2.rsquared, 1-lm2.ssr/tss, lm2.ess/tss\n",
    "\n",
    "# MSE\n",
    "# metrics.mean_squared_error(scores, scoreshat), lm2.ssr/n\n",
    "\n",
    "# RMSE\n",
    "# metrics.root_mean_squared_error(scores, scoreshat), np.sqrt(lm2.ssr/n)\n",
    "\n",
    "# MAPE\n",
    "# mape = sum( np.abs(scores - scoreshat)/scores ) / n\n",
    "# metrics.mean_absolute_percentage_error(scores, scoreshat), mape\n",
    "\n",
    "# MAE\n",
    "# mae = sum( np.abs(scores - scoreshat) ) / n\n",
    "# metrics.mean_absolute_error(scores, scoreshat), mae\n",
    "\n",
    "# Mean squared error the model\n",
    "# The explained sum of squares divided by the model degrees of freedom\n",
    "# lm2.mse_model, lm2.ess/3\n",
    "\n",
    "# Mean squared error of the residuals\n",
    "# The sum of squared residuals divided by the residual degrees of freedom.\n",
    "# lm2.mse_resid, lm2.ssr/(n-4)\n",
    "\n",
    "# Total mean squared error\n",
    "# The centered total sum of squares divided by the number of observations.\n",
    "# lm2.mse_total, lm2.centered_tss/(n-1)"
   ]
  },
  {
   "cell_type": "markdown",
   "id": "4910acfd-0699-40b0-87f1-e394592e8eb4",
   "metadata": {},
   "source": [
    "## Parameter estimates"
   ]
  },
  {
   "cell_type": "code",
   "execution_count": null,
   "id": "20b640ef-1c6a-466c-bf9c-be13e191bec1",
   "metadata": {},
   "outputs": [],
   "source": []
  },
  {
   "cell_type": "markdown",
   "id": "8776dec2-764f-49ca-a2c6-aa831754fc17",
   "metadata": {},
   "source": [
    "## Confidence intervals for model parameters"
   ]
  },
  {
   "cell_type": "code",
   "execution_count": 10,
   "id": "cc18bf04-b411-45ce-b485-daabc1d4d9f4",
   "metadata": {},
   "outputs": [
    {
     "data": {
      "text/plain": [
       "Intercept    60.452901\n",
       "alc          -1.800101\n",
       "weed         -1.021552\n",
       "exrc          1.768289\n",
       "dtype: float64"
      ]
     },
     "execution_count": 10,
     "metadata": {},
     "output_type": "execute_result"
    }
   ],
   "source": [
    "# estimated parameters\n",
    "lm2.params"
   ]
  },
  {
   "cell_type": "code",
   "execution_count": 11,
   "id": "8d16b640-40e9-4398-9b7d-4e24ee93bc3e",
   "metadata": {},
   "outputs": [
    {
     "data": {
      "text/plain": [
       "Intercept    1.289380\n",
       "alc          0.069973\n",
       "weed         0.476166\n",
       "exrc         0.138056\n",
       "dtype: float64"
      ]
     },
     "execution_count": 11,
     "metadata": {},
     "output_type": "execute_result"
    }
   ],
   "source": [
    "# standard errors\n",
    "lm2.bse"
   ]
  },
  {
   "cell_type": "code",
   "execution_count": null,
   "id": "13c52bc1-6edc-4784-8fa6-b7655e65e0d5",
   "metadata": {},
   "outputs": [],
   "source": []
  },
  {
   "cell_type": "markdown",
   "id": "88b1c129-bc6f-48b9-8841-bda7a7063bc4",
   "metadata": {},
   "source": [
    "## Hypothesis testing for linear models"
   ]
  },
  {
   "cell_type": "code",
   "execution_count": 12,
   "id": "bb52ddcb-26fa-40da-8cbe-accb9ff89d55",
   "metadata": {},
   "outputs": [
    {
     "data": {
      "text/plain": [
       "Intercept    46.885245\n",
       "alc         -25.725654\n",
       "weed         -2.145371\n",
       "exrc         12.808529\n",
       "dtype: float64"
      ]
     },
     "execution_count": 12,
     "metadata": {},
     "output_type": "execute_result"
    }
   ],
   "source": [
    "lm2.tvalues"
   ]
  },
  {
   "cell_type": "code",
   "execution_count": 13,
   "id": "9620c62e-83e3-4c3f-ac63-f98490b20641",
   "metadata": {},
   "outputs": [
    {
     "data": {
      "text/plain": [
       "152.0"
      ]
     },
     "execution_count": 13,
     "metadata": {},
     "output_type": "execute_result"
    }
   ],
   "source": [
    "lm2.df_resid"
   ]
  },
  {
   "cell_type": "code",
   "execution_count": 14,
   "id": "080040a4-32ed-4f18-96db-875aefef05ec",
   "metadata": {},
   "outputs": [
    {
     "data": {
      "text/plain": [
       "Intercept    2.756807e-92\n",
       "alc          2.985013e-57\n",
       "weed         3.351156e-02\n",
       "exrc         6.136296e-26\n",
       "dtype: float64"
      ]
     },
     "execution_count": 14,
     "metadata": {},
     "output_type": "execute_result"
    }
   ],
   "source": [
    "lm2.pvalues"
   ]
  },
  {
   "cell_type": "code",
   "execution_count": 15,
   "id": "75ccf902-763b-47ea-a071-2ee5030a14ac",
   "metadata": {},
   "outputs": [
    {
     "data": {
      "text/plain": [
       "0.03351156181342321"
      ]
     },
     "execution_count": 15,
     "metadata": {},
     "output_type": "execute_result"
    }
   ],
   "source": [
    "# to reproduce `weed` p-value\n",
    "from scipy.stats import t as tdist\n",
    "t = lm2.tvalues[\"weed\"]\n",
    "pleft = tdist(df=lm2.df_resid).cdf(t)\n",
    "pright = 1 - tdist(df=lm2.df_resid).cdf(t)\n",
    "pvalue = 2*min(pleft,pright)\n",
    "pvalue"
   ]
  },
  {
   "cell_type": "code",
   "execution_count": null,
   "id": "92ab76b6-40c2-4e44-a956-b5bf6b599eac",
   "metadata": {},
   "outputs": [],
   "source": []
  },
  {
   "cell_type": "markdown",
   "id": "78508a1c-cb8f-4ce9-aadf-e7ead2e73333",
   "metadata": {},
   "source": [
    "## Assumptions checks and diagnostics"
   ]
  },
  {
   "cell_type": "markdown",
   "id": "cc6e007c-59ee-433f-9af7-cae9142bba05",
   "metadata": {},
   "source": [
    "## Outliers and influential observations"
   ]
  },
  {
   "cell_type": "code",
   "execution_count": 16,
   "id": "bfe089b8-38a6-471b-839a-1f0eaf0cdd62",
   "metadata": {},
   "outputs": [],
   "source": [
    "# TODO: move to Sec 4.3\n",
    "# Model fit diagnostics and plots\n",
    "# influence = fit1.get_influence()\n",
    "# influence.summary_frame()\n",
    "\n",
    "# resid_studentized = influence.resid_studentized_internal\n",
    "# resid_studentized\n",
    "\n",
    "# fit1.outlier_test()\n",
    "# import statsmodels.api as sm\n",
    "# sm.graphics.influence_plot(fit1, criterion=\"cooks\");\n",
    "# sm.graphics.plot_ccpr(fit1, \"effort\");\n",
    "# sm.graphics.plot_regress_exog(fit1, \"effort\");"
   ]
  },
  {
   "cell_type": "code",
   "execution_count": 17,
   "id": "7e378bc2-4afd-4a44-9d98-5218983a3dfd",
   "metadata": {},
   "outputs": [],
   "source": [
    "# lm2.fittedvalues\n",
    "# ALT. \n",
    "# m2.predict(doctors)"
   ]
  },
  {
   "cell_type": "code",
   "execution_count": null,
   "id": "ceca316a-0779-4ca6-a520-1f60a78ecf99",
   "metadata": {},
   "outputs": [],
   "source": []
  },
  {
   "cell_type": "markdown",
   "id": "9b988550-2f30-447e-9e1d-95cdfec94da6",
   "metadata": {},
   "source": [
    "### Diagnostic checks"
   ]
  },
  {
   "cell_type": "code",
   "execution_count": 18,
   "id": "de9c5e17-917f-4762-bcd4-24f1366d342f",
   "metadata": {},
   "outputs": [
    {
     "data": {
      "text/plain": [
       "{'jb': 0.8999138579592739,\n",
       " 'jbpv': 0.6376556155083204,\n",
       " 'skew': 0.18224568453683587,\n",
       " 'kurtosis': 3.074795238556266,\n",
       " 'omni': 1.1403999852814177,\n",
       " 'omnipv': 0.5654123490825862,\n",
       " 'condno': 31.229721453770164,\n",
       " 'mineigval': 40.14996367643263}"
      ]
     },
     "execution_count": 18,
     "metadata": {},
     "output_type": "execute_result"
    }
   ],
   "source": [
    "lm2.summary()\n",
    "lm2.diagn"
   ]
  },
  {
   "cell_type": "code",
   "execution_count": null,
   "id": "c99c1cd5-8aad-4281-8532-f3693f6fbab8",
   "metadata": {},
   "outputs": [],
   "source": []
  },
  {
   "cell_type": "markdown",
   "id": "ae6b4614-7265-433f-b6ad-306d72b37f24",
   "metadata": {},
   "source": [
    "## Model prediction accuracy"
   ]
  },
  {
   "cell_type": "markdown",
   "id": "2e8f3acc-9805-4f76-b91d-57889e76a6ea",
   "metadata": {},
   "source": [
    "### Prediction"
   ]
  },
  {
   "cell_type": "code",
   "execution_count": 19,
   "id": "d757fa73-23ec-4f1b-a5d2-38d6c7a7a6c0",
   "metadata": {},
   "outputs": [
    {
     "data": {
      "text/plain": [
       "0    68.177355\n",
       "dtype: float64"
      ]
     },
     "execution_count": 19,
     "metadata": {},
     "output_type": "execute_result"
    }
   ],
   "source": [
    "new_data = {\"alc\":3, \"weed\":1, \"exrc\":8}\n",
    "lm2.predict(new_data)"
   ]
  },
  {
   "cell_type": "code",
   "execution_count": 20,
   "id": "f89814a5-a976-47e2-85d3-118e5f376d2a",
   "metadata": {},
   "outputs": [],
   "source": [
    "pred_score = lm2.get_prediction(new_data)"
   ]
  },
  {
   "cell_type": "code",
   "execution_count": 21,
   "id": "210fc4d5-d608-4304-9ec3-b1a86ba6ad87",
   "metadata": {},
   "outputs": [
    {
     "data": {
      "text/plain": [
       "(array([68.17735504]), array([8.2626007]), array([[54.50324518, 81.85146489]]))"
      ]
     },
     "execution_count": 21,
     "metadata": {},
     "output_type": "execute_result"
    }
   ],
   "source": [
    "# observation  +  90% CI\n",
    "pred_score.predicted, pred_score.se_obs, pred_score.conf_int(obs=True, alpha=0.1)"
   ]
  },
  {
   "cell_type": "code",
   "execution_count": 22,
   "id": "46b8b5be-3322-409c-a157-1fe102067ae5",
   "metadata": {},
   "outputs": [],
   "source": [
    "# # ALT.\n",
    "# from scipy.stats import t as tdist\n",
    "# obs_dist = tdist(df=pred_score.df, loc=pred_score.predicted, scale=pred_score.se_obs)\n",
    "# obs_dist.ppf(0.05), obs_dist.ppf(0.95)"
   ]
  },
  {
   "cell_type": "code",
   "execution_count": 23,
   "id": "3ebe0c36-0edd-48f7-8b85-dac4f53d6fcf",
   "metadata": {},
   "outputs": [
    {
     "data": {
      "text/plain": [
       "(array([68.17735504]),\n",
       " array([0.99255508]),\n",
       " array([[66.53473577, 69.81997431]]))"
      ]
     },
     "execution_count": 23,
     "metadata": {},
     "output_type": "execute_result"
    }
   ],
   "source": [
    "pred_score.predicted_mean, pred_score.se_mean, pred_score.conf_int(obs=False, alpha=0.1)"
   ]
  },
  {
   "cell_type": "code",
   "execution_count": 24,
   "id": "1894fb4e-2003-427a-9217-9b57e8db365d",
   "metadata": {},
   "outputs": [],
   "source": [
    "# # ALT.\n",
    "# from scipy.stats import t as tdist\n",
    "# mean_dist = tdist(df=pred_score.df, loc=pred_score.predicted, scale=pred_score.se_mean)\n",
    "# mean_dist.ppf(0.05), mean_dist.ppf(0.95)"
   ]
  },
  {
   "cell_type": "code",
   "execution_count": null,
   "id": "aae9da68-af38-483a-988a-f63b9e3da229",
   "metadata": {},
   "outputs": [],
   "source": []
  },
  {
   "cell_type": "code",
   "execution_count": null,
   "id": "d91ef3ea-db7d-4260-a1b2-d12c6935116c",
   "metadata": {},
   "outputs": [],
   "source": []
  },
  {
   "cell_type": "code",
   "execution_count": null,
   "id": "524cd797-5104-4eee-b340-db4342caee82",
   "metadata": {},
   "outputs": [],
   "source": []
  },
  {
   "cell_type": "code",
   "execution_count": null,
   "id": "50d85b88-8182-4bda-adde-b36db2f39d0d",
   "metadata": {},
   "outputs": [],
   "source": []
  },
  {
   "cell_type": "code",
   "execution_count": null,
   "id": "d2d98334-4f24-43e3-89ff-37b652b5a8ed",
   "metadata": {},
   "outputs": [],
   "source": []
  },
  {
   "cell_type": "markdown",
   "id": "2646b903-78e3-49dd-a842-eca06cca5c46",
   "metadata": {},
   "source": [
    "## Explanations"
   ]
  },
  {
   "cell_type": "code",
   "execution_count": null,
   "id": "b2f75008-dcee-43bd-b344-170ecf3f3cae",
   "metadata": {},
   "outputs": [],
   "source": []
  },
  {
   "cell_type": "markdown",
   "id": "485bfdba-5643-4bc5-a875-5c841d8f6173",
   "metadata": {},
   "source": [
    "## Discussion"
   ]
  },
  {
   "cell_type": "code",
   "execution_count": null,
   "id": "f91072d1-0737-4c1b-a404-44728d890748",
   "metadata": {},
   "outputs": [],
   "source": []
  },
  {
   "cell_type": "markdown",
   "id": "b1194a86-6663-4ac8-ab40-e11749d4df91",
   "metadata": {},
   "source": [
    "## Exercises"
   ]
  },
  {
   "cell_type": "code",
   "execution_count": null,
   "id": "00b858d7-6ab7-48cf-837d-e1a09bd5eea8",
   "metadata": {},
   "outputs": [],
   "source": []
  },
  {
   "cell_type": "markdown",
   "id": "062c6f1b-9a08-4c3d-9d66-2b3a963a4652",
   "metadata": {},
   "source": [
    "## Links"
   ]
  },
  {
   "cell_type": "code",
   "execution_count": null,
   "id": "2114fb32-6996-4f3d-ae75-c7eda6c1fc0c",
   "metadata": {},
   "outputs": [],
   "source": []
  }
 ],
 "metadata": {
  "kernelspec": {
   "display_name": "Python 3 (ipykernel)",
   "language": "python",
   "name": "python3"
  },
  "language_info": {
   "codemirror_mode": {
    "name": "ipython",
    "version": 3
   },
   "file_extension": ".py",
   "mimetype": "text/x-python",
   "name": "python",
   "nbconvert_exporter": "python",
   "pygments_lexer": "ipython3",
   "version": "3.9.4"
  }
 },
 "nbformat": 4,
 "nbformat_minor": 5
}
