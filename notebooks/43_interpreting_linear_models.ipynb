{
 "cells": [
  {
   "cell_type": "markdown",
   "id": "3ec95fa0-da20-41dc-820e-2f33f262f4e2",
   "metadata": {
    "tags": []
   },
   "source": [
    "# Section 4.3 — Interpreting linear models\n",
    "\n",
    "This notebook contains the code examples from [Section 4.3 Interpreting linear models]() from the **No Bullshit Guide to Statistics**."
   ]
  },
  {
   "cell_type": "markdown",
   "id": "eb4d1856-22a1-4634-87d7-5fc091d93e12",
   "metadata": {
    "tags": []
   },
   "source": [
    "#### Notebook setup"
   ]
  },
  {
   "cell_type": "code",
   "execution_count": 1,
   "id": "0003a9e7-21c7-47a5-bdec-3bd3ca2a79f4",
   "metadata": {},
   "outputs": [],
   "source": [
    "# load Python modules\n",
    "import os\n",
    "import numpy as np\n",
    "import pandas as pd\n",
    "import seaborn as sns\n",
    "import matplotlib.pyplot as plt"
   ]
  },
  {
   "cell_type": "code",
   "execution_count": 2,
   "id": "8e67e0e7-4f48-4c48-a49d-3cdf22cbd014",
   "metadata": {},
   "outputs": [
    {
     "data": {
      "text/plain": [
       "<Figure size 640x480 with 0 Axes>"
      ]
     },
     "metadata": {},
     "output_type": "display_data"
    }
   ],
   "source": [
    "# Figures setup\n",
    "plt.clf()  # needed otherwise `sns.set_theme` doesn't work\n",
    "from plot_helpers import RCPARAMS\n",
    "RCPARAMS.update({'figure.figsize': (8, 5)})   # good for screen\n",
    "# RCPARAMS.update({'figure.figsize': (5, 1.6)})  # good for print\n",
    "sns.set_theme(\n",
    "    context=\"paper\",\n",
    "    style=\"whitegrid\",\n",
    "    palette=\"colorblind\",\n",
    "    rc=RCPARAMS,\n",
    ")\n",
    "\n",
    "# High-resolution please\n",
    "%config InlineBackend.figure_format = 'retina'\n",
    "\n",
    "# Where to store figures\n",
    "DESTDIR = \"figures/lm/interpreting\""
   ]
  },
  {
   "cell_type": "code",
   "execution_count": 3,
   "id": "efc0e89b-72bf-4658-8f8a-a3d85bee00b6",
   "metadata": {},
   "outputs": [],
   "source": [
    "# set random seed for repeatability\n",
    "np.random.seed(42)\n",
    "#######################################################"
   ]
  },
  {
   "cell_type": "code",
   "execution_count": 4,
   "id": "4d67690c-bc4c-400c-9d49-cb7b3d31c894",
   "metadata": {},
   "outputs": [],
   "source": [
    "import statsmodels.formula.api as smf"
   ]
  },
  {
   "cell_type": "markdown",
   "id": "f853a5c7-3a3b-4008-87c9-0deab0233ba9",
   "metadata": {},
   "source": [
    "## Definitions"
   ]
  },
  {
   "cell_type": "code",
   "execution_count": 5,
   "id": "709070d1-324d-402f-a5cf-50134df5d2b7",
   "metadata": {},
   "outputs": [
    {
     "data": {
      "text/html": [
       "<table class=\"simpletable\">\n",
       "<caption>OLS Regression Results</caption>\n",
       "<tr>\n",
       "  <th>Dep. Variable:</th>          <td>score</td>      <th>  R-squared:         </th> <td>   0.842</td>\n",
       "</tr>\n",
       "<tr>\n",
       "  <th>Model:</th>                   <td>OLS</td>       <th>  Adj. R-squared:    </th> <td>   0.839</td>\n",
       "</tr>\n",
       "<tr>\n",
       "  <th>Method:</th>             <td>Least Squares</td>  <th>  F-statistic:       </th> <td>   270.3</td>\n",
       "</tr>\n",
       "<tr>\n",
       "  <th>Date:</th>             <td>Thu, 28 Mar 2024</td> <th>  Prob (F-statistic):</th> <td>1.05e-60</td>\n",
       "</tr>\n",
       "<tr>\n",
       "  <th>Time:</th>                 <td>15:25:12</td>     <th>  Log-Likelihood:    </th> <td> -547.63</td>\n",
       "</tr>\n",
       "<tr>\n",
       "  <th>No. Observations:</th>      <td>   156</td>      <th>  AIC:               </th> <td>   1103.</td>\n",
       "</tr>\n",
       "<tr>\n",
       "  <th>Df Residuals:</th>          <td>   152</td>      <th>  BIC:               </th> <td>   1115.</td>\n",
       "</tr>\n",
       "<tr>\n",
       "  <th>Df Model:</th>              <td>     3</td>      <th>                     </th>     <td> </td>   \n",
       "</tr>\n",
       "<tr>\n",
       "  <th>Covariance Type:</th>      <td>nonrobust</td>    <th>                     </th>     <td> </td>   \n",
       "</tr>\n",
       "</table>\n",
       "<table class=\"simpletable\">\n",
       "<tr>\n",
       "      <td></td>         <th>coef</th>     <th>std err</th>      <th>t</th>      <th>P>|t|</th>  <th>[0.025</th>    <th>0.975]</th>  \n",
       "</tr>\n",
       "<tr>\n",
       "  <th>Intercept</th> <td>   60.4529</td> <td>    1.289</td> <td>   46.885</td> <td> 0.000</td> <td>   57.905</td> <td>   63.000</td>\n",
       "</tr>\n",
       "<tr>\n",
       "  <th>alc</th>       <td>   -1.8001</td> <td>    0.070</td> <td>  -25.726</td> <td> 0.000</td> <td>   -1.938</td> <td>   -1.662</td>\n",
       "</tr>\n",
       "<tr>\n",
       "  <th>weed</th>      <td>   -1.0216</td> <td>    0.476</td> <td>   -2.145</td> <td> 0.034</td> <td>   -1.962</td> <td>   -0.081</td>\n",
       "</tr>\n",
       "<tr>\n",
       "  <th>exrc</th>      <td>    1.7683</td> <td>    0.138</td> <td>   12.809</td> <td> 0.000</td> <td>    1.496</td> <td>    2.041</td>\n",
       "</tr>\n",
       "</table>\n",
       "<table class=\"simpletable\">\n",
       "<tr>\n",
       "  <th>Omnibus:</th>       <td> 1.140</td> <th>  Durbin-Watson:     </th> <td>   1.828</td>\n",
       "</tr>\n",
       "<tr>\n",
       "  <th>Prob(Omnibus):</th> <td> 0.565</td> <th>  Jarque-Bera (JB):  </th> <td>   0.900</td>\n",
       "</tr>\n",
       "<tr>\n",
       "  <th>Skew:</th>          <td> 0.182</td> <th>  Prob(JB):          </th> <td>   0.638</td>\n",
       "</tr>\n",
       "<tr>\n",
       "  <th>Kurtosis:</th>      <td> 3.075</td> <th>  Cond. No.          </th> <td>    31.2</td>\n",
       "</tr>\n",
       "</table><br/><br/>Notes:<br/>[1] Standard Errors assume that the covariance matrix of the errors is correctly specified."
      ],
      "text/latex": [
       "\\begin{center}\n",
       "\\begin{tabular}{lclc}\n",
       "\\toprule\n",
       "\\textbf{Dep. Variable:}    &      score       & \\textbf{  R-squared:         } &     0.842   \\\\\n",
       "\\textbf{Model:}            &       OLS        & \\textbf{  Adj. R-squared:    } &     0.839   \\\\\n",
       "\\textbf{Method:}           &  Least Squares   & \\textbf{  F-statistic:       } &     270.3   \\\\\n",
       "\\textbf{Date:}             & Thu, 28 Mar 2024 & \\textbf{  Prob (F-statistic):} &  1.05e-60   \\\\\n",
       "\\textbf{Time:}             &     15:25:12     & \\textbf{  Log-Likelihood:    } &   -547.63   \\\\\n",
       "\\textbf{No. Observations:} &         156      & \\textbf{  AIC:               } &     1103.   \\\\\n",
       "\\textbf{Df Residuals:}     &         152      & \\textbf{  BIC:               } &     1115.   \\\\\n",
       "\\textbf{Df Model:}         &           3      & \\textbf{                     } &             \\\\\n",
       "\\textbf{Covariance Type:}  &    nonrobust     & \\textbf{                     } &             \\\\\n",
       "\\bottomrule\n",
       "\\end{tabular}\n",
       "\\begin{tabular}{lcccccc}\n",
       "                   & \\textbf{coef} & \\textbf{std err} & \\textbf{t} & \\textbf{P$> |$t$|$} & \\textbf{[0.025} & \\textbf{0.975]}  \\\\\n",
       "\\midrule\n",
       "\\textbf{Intercept} &      60.4529  &        1.289     &    46.885  &         0.000        &       57.905    &       63.000     \\\\\n",
       "\\textbf{alc}       &      -1.8001  &        0.070     &   -25.726  &         0.000        &       -1.938    &       -1.662     \\\\\n",
       "\\textbf{weed}      &      -1.0216  &        0.476     &    -2.145  &         0.034        &       -1.962    &       -0.081     \\\\\n",
       "\\textbf{exrc}      &       1.7683  &        0.138     &    12.809  &         0.000        &        1.496    &        2.041     \\\\\n",
       "\\bottomrule\n",
       "\\end{tabular}\n",
       "\\begin{tabular}{lclc}\n",
       "\\textbf{Omnibus:}       &  1.140 & \\textbf{  Durbin-Watson:     } &    1.828  \\\\\n",
       "\\textbf{Prob(Omnibus):} &  0.565 & \\textbf{  Jarque-Bera (JB):  } &    0.900  \\\\\n",
       "\\textbf{Skew:}          &  0.182 & \\textbf{  Prob(JB):          } &    0.638  \\\\\n",
       "\\textbf{Kurtosis:}      &  3.075 & \\textbf{  Cond. No.          } &     31.2  \\\\\n",
       "\\bottomrule\n",
       "\\end{tabular}\n",
       "%\\caption{OLS Regression Results}\n",
       "\\end{center}\n",
       "\n",
       "Notes: \\newline\n",
       " [1] Standard Errors assume that the covariance matrix of the errors is correctly specified."
      ],
      "text/plain": [
       "<class 'statsmodels.iolib.summary.Summary'>\n",
       "\"\"\"\n",
       "                            OLS Regression Results                            \n",
       "==============================================================================\n",
       "Dep. Variable:                  score   R-squared:                       0.842\n",
       "Model:                            OLS   Adj. R-squared:                  0.839\n",
       "Method:                 Least Squares   F-statistic:                     270.3\n",
       "Date:                Thu, 28 Mar 2024   Prob (F-statistic):           1.05e-60\n",
       "Time:                        15:25:12   Log-Likelihood:                -547.63\n",
       "No. Observations:                 156   AIC:                             1103.\n",
       "Df Residuals:                     152   BIC:                             1115.\n",
       "Df Model:                           3                                         \n",
       "Covariance Type:            nonrobust                                         \n",
       "==============================================================================\n",
       "                 coef    std err          t      P>|t|      [0.025      0.975]\n",
       "------------------------------------------------------------------------------\n",
       "Intercept     60.4529      1.289     46.885      0.000      57.905      63.000\n",
       "alc           -1.8001      0.070    -25.726      0.000      -1.938      -1.662\n",
       "weed          -1.0216      0.476     -2.145      0.034      -1.962      -0.081\n",
       "exrc           1.7683      0.138     12.809      0.000       1.496       2.041\n",
       "==============================================================================\n",
       "Omnibus:                        1.140   Durbin-Watson:                   1.828\n",
       "Prob(Omnibus):                  0.565   Jarque-Bera (JB):                0.900\n",
       "Skew:                           0.182   Prob(JB):                        0.638\n",
       "Kurtosis:                       3.075   Cond. No.                         31.2\n",
       "==============================================================================\n",
       "\n",
       "Notes:\n",
       "[1] Standard Errors assume that the covariance matrix of the errors is correctly specified.\n",
       "\"\"\""
      ]
     },
     "execution_count": 5,
     "metadata": {},
     "output_type": "execute_result"
    }
   ],
   "source": [
    "doctors = pd.read_csv(\"../datasets/doctors.csv\")\n",
    "n = doctors.shape[0]\n",
    "\n",
    "lm2 = smf.ols('score ~ 1 + alc + weed + exrc', data=doctors).fit()\n",
    "\n",
    "# the coefficients of the best-fit line\n",
    "lm2.summary()"
   ]
  },
  {
   "cell_type": "code",
   "execution_count": null,
   "id": "af5c29a4-96e7-4b3e-a962-74043ae47417",
   "metadata": {},
   "outputs": [],
   "source": []
  },
  {
   "cell_type": "markdown",
   "id": "21949eb7-b2b1-43eb-bbbf-98d28412ab75",
   "metadata": {},
   "source": [
    "## Model fit metrics"
   ]
  },
  {
   "cell_type": "code",
   "execution_count": 6,
   "id": "9946c5da-616f-43f9-967f-ad5c922d6c58",
   "metadata": {},
   "outputs": [
    {
     "data": {
      "text/plain": [
       "0.8421649167873537"
      ]
     },
     "execution_count": 6,
     "metadata": {},
     "output_type": "execute_result"
    }
   ],
   "source": [
    "lm2.rsquared"
   ]
  },
  {
   "cell_type": "code",
   "execution_count": 7,
   "id": "7ba1e6b5-7f0a-48ea-8490-d1083c480596",
   "metadata": {},
   "outputs": [
    {
     "data": {
      "text/plain": [
       "0.8390497506713147"
      ]
     },
     "execution_count": 7,
     "metadata": {},
     "output_type": "execute_result"
    }
   ],
   "source": [
    "lm2.rsquared_adj"
   ]
  },
  {
   "cell_type": "code",
   "execution_count": 8,
   "id": "ad495e0a-ba71-4bf6-ba39-f35cfb19bacd",
   "metadata": {},
   "outputs": [
    {
     "data": {
      "text/plain": [
       "54570.51590209804"
      ]
     },
     "execution_count": 8,
     "metadata": {},
     "output_type": "execute_result"
    }
   ],
   "source": [
    "# Explained sum of squares\n",
    "lm2.ess"
   ]
  },
  {
   "cell_type": "code",
   "execution_count": 9,
   "id": "45ae7aa7-1443-4103-a3fa-ecaf9c36e36e",
   "metadata": {},
   "outputs": [
    {
     "data": {
      "text/plain": [
       "65.56013803717559"
      ]
     },
     "execution_count": 9,
     "metadata": {},
     "output_type": "execute_result"
    }
   ],
   "source": [
    "lm2.ssr / n"
   ]
  },
  {
   "cell_type": "markdown",
   "id": "fa1154fd-bddb-449a-95de-07bb6c6492a4",
   "metadata": {},
   "source": [
    "### Metrics "
   ]
  },
  {
   "cell_type": "code",
   "execution_count": 10,
   "id": "a4781ad0-bce9-4c8f-8443-10be1a8f2f12",
   "metadata": {},
   "outputs": [],
   "source": [
    "scores = doctors[\"score\"].values\n",
    "scoreshat = lm2.fittedvalues.values\n",
    "meanscore = np.mean(scores)\n",
    "\n",
    "tss = sum( (scores-meanscore)**2 )"
   ]
  },
  {
   "cell_type": "code",
   "execution_count": 11,
   "id": "66d302f4-8831-4319-8e9b-27bd4bdf8b34",
   "metadata": {},
   "outputs": [
    {
     "data": {
      "text/plain": [
       "(0.8421649167873537,\n",
       " 0.8421649167873537,\n",
       " 0.8421649167873536,\n",
       " 0.8421649167873542)"
      ]
     },
     "execution_count": 11,
     "metadata": {},
     "output_type": "execute_result"
    }
   ],
   "source": [
    "# R^2 alt.\n",
    "lm2.rsquared, lm2.rsquared, 1-lm2.ssr/tss, lm2.ess/tss"
   ]
  },
  {
   "cell_type": "code",
   "execution_count": null,
   "id": "5d7296f9-f24f-4589-ae3e-c83aacae5a79",
   "metadata": {},
   "outputs": [],
   "source": []
  },
  {
   "cell_type": "code",
   "execution_count": 12,
   "id": "f5b17889-7bb4-411b-99c5-a2c973bad443",
   "metadata": {},
   "outputs": [
    {
     "data": {
      "text/plain": [
       "-547.6259042117637"
      ]
     },
     "execution_count": 12,
     "metadata": {},
     "output_type": "execute_result"
    }
   ],
   "source": [
    "lm2.llf"
   ]
  },
  {
   "cell_type": "code",
   "execution_count": 13,
   "id": "be48cf64-a063-4818-aea5-0f8a6c83cc71",
   "metadata": {},
   "outputs": [
    {
     "data": {
      "text/plain": [
       "(1103.2518084235273, 1115.4512324525256)"
      ]
     },
     "execution_count": 13,
     "metadata": {},
     "output_type": "execute_result"
    }
   ],
   "source": [
    "lm2.aic, lm2.bic"
   ]
  },
  {
   "cell_type": "markdown",
   "id": "24ddfa43-00ee-4fdd-b6c1-f86f66f0d25d",
   "metadata": {},
   "source": [
    "### Other metrics (optional material)"
   ]
  },
  {
   "cell_type": "code",
   "execution_count": 14,
   "id": "ba51c2c5-4529-4ecf-8778-ac6e3a3eb53e",
   "metadata": {},
   "outputs": [
    {
     "data": {
      "text/plain": [
       "(64797.89743589744, 64797.8974358974)"
      ]
     },
     "execution_count": 14,
     "metadata": {},
     "output_type": "execute_result"
    }
   ],
   "source": [
    "# TSS = Total Sum of Squares\n",
    "tss = sum( (scores-meanscore)**2 )\n",
    "lm2.centered_tss, tss"
   ]
  },
  {
   "cell_type": "code",
   "execution_count": 15,
   "id": "7fecad24-e751-48b0-a29e-e0e39bc2d44d",
   "metadata": {},
   "outputs": [
    {
     "data": {
      "text/plain": [
       "(10227.381533799391, 10227.381533799393)"
      ]
     },
     "execution_count": 15,
     "metadata": {},
     "output_type": "execute_result"
    }
   ],
   "source": [
    "# SSR = Sum of Squares Residuals\n",
    "ssr = sum( (scores-scoreshat)**2 )\n",
    "ssr, lm2.ssr"
   ]
  },
  {
   "cell_type": "code",
   "execution_count": 16,
   "id": "9922e26e-c9b4-4831-9864-c796b554a0e0",
   "metadata": {},
   "outputs": [
    {
     "data": {
      "text/plain": [
       "(54570.51590209804, 54570.515902097904)"
      ]
     },
     "execution_count": 16,
     "metadata": {},
     "output_type": "execute_result"
    }
   ],
   "source": [
    "# ESS = Explained Sum of Squares\n",
    "ess = sum( (scoreshat-meanscore)**2 ) \n",
    "lm2.ess, ess"
   ]
  },
  {
   "cell_type": "code",
   "execution_count": 17,
   "id": "8f8eeec7-d17c-43d9-b15e-3026120d1664",
   "metadata": {},
   "outputs": [
    {
     "data": {
      "text/plain": [
       "(65.56013803717558, 65.56013803717559)"
      ]
     },
     "execution_count": 17,
     "metadata": {},
     "output_type": "execute_result"
    }
   ],
   "source": [
    "# MSE\n",
    "from statsmodels.tools.eval_measures import mse\n",
    "mse(scores, scoreshat), lm2.ssr/n"
   ]
  },
  {
   "cell_type": "code",
   "execution_count": 18,
   "id": "12a548a8-2b15-40e0-b7d4-b7b64bd85759",
   "metadata": {},
   "outputs": [
    {
     "data": {
      "text/plain": [
       "(8.096921516056307, 8.096921516056309)"
      ]
     },
     "execution_count": 18,
     "metadata": {},
     "output_type": "execute_result"
    }
   ],
   "source": [
    "# RMSE\n",
    "from statsmodels.tools.eval_measures import rmse\n",
    "\n",
    "rmse(scores, scoreshat), np.sqrt(lm2.ssr/n)"
   ]
  },
  {
   "cell_type": "code",
   "execution_count": 19,
   "id": "431cdda8-8c27-4582-8f40-6259ed6a6389",
   "metadata": {},
   "outputs": [
    {
     "data": {
      "text/plain": [
       "(6.41593242149194, 6.415932421491938)"
      ]
     },
     "execution_count": 19,
     "metadata": {},
     "output_type": "execute_result"
    }
   ],
   "source": [
    "# MAE\n",
    "from statsmodels.tools.eval_measures import meanabs\n",
    "\n",
    "mae = sum( np.abs(scores - scoreshat) ) / n\n",
    "meanabs(scores, scoreshat), mae"
   ]
  },
  {
   "cell_type": "code",
   "execution_count": 20,
   "id": "2583c814-aa2b-4045-9bf9-ef6d5e0b5706",
   "metadata": {},
   "outputs": [
    {
     "data": {
      "text/plain": [
       "0.22234476956901394"
      ]
     },
     "execution_count": 20,
     "metadata": {},
     "output_type": "execute_result"
    }
   ],
   "source": [
    "# MAPE (cuttable)\n",
    "mape = sum( np.abs(scores - scoreshat)/scores ) / n\n",
    "mape"
   ]
  },
  {
   "cell_type": "code",
   "execution_count": 21,
   "id": "9e9ee750-5497-4a7a-8bbc-cb133eaa2a04",
   "metadata": {},
   "outputs": [
    {
     "data": {
      "text/plain": [
       "(18190.171967366015, 18190.171967366015)"
      ]
     },
     "execution_count": 21,
     "metadata": {},
     "output_type": "execute_result"
    }
   ],
   "source": [
    "# Mean squared error the model\n",
    "# The explained sum of squares divided by the model degrees of freedom\n",
    "lm2.mse_model, lm2.ess/3"
   ]
  },
  {
   "cell_type": "code",
   "execution_count": 22,
   "id": "6df755ad-d32a-421f-ab8d-c530f757feb1",
   "metadata": {},
   "outputs": [
    {
     "data": {
      "text/plain": [
       "(67.28540482762759, 67.28540482762759)"
      ]
     },
     "execution_count": 22,
     "metadata": {},
     "output_type": "execute_result"
    }
   ],
   "source": [
    "# Mean squared error of the residuals\n",
    "# The sum of squared residuals divided by the residual degrees of freedom.\n",
    "lm2.mse_resid, lm2.ssr/(n-4)"
   ]
  },
  {
   "cell_type": "code",
   "execution_count": 23,
   "id": "edd17b24-f35f-4121-bf56-9f557bbf80b0",
   "metadata": {},
   "outputs": [
    {
     "data": {
      "text/plain": [
       "(418.05095119933833, 418.05095119933833)"
      ]
     },
     "execution_count": 23,
     "metadata": {},
     "output_type": "execute_result"
    }
   ],
   "source": [
    "# Total mean squared error\n",
    "# The centered total sum of squares divided by the number of observations.\n",
    "lm2.mse_total, lm2.centered_tss/(n-1)"
   ]
  },
  {
   "cell_type": "code",
   "execution_count": null,
   "id": "92ab3af0-f3fc-4946-aa55-1e17ce41028f",
   "metadata": {},
   "outputs": [],
   "source": []
  },
  {
   "cell_type": "markdown",
   "id": "4910acfd-0699-40b0-87f1-e394592e8eb4",
   "metadata": {},
   "source": [
    "## Parameter estimates"
   ]
  },
  {
   "cell_type": "code",
   "execution_count": 24,
   "id": "cc18bf04-b411-45ce-b485-daabc1d4d9f4",
   "metadata": {},
   "outputs": [
    {
     "data": {
      "text/plain": [
       "Intercept    60.452901\n",
       "alc          -1.800101\n",
       "weed         -1.021552\n",
       "exrc          1.768289\n",
       "dtype: float64"
      ]
     },
     "execution_count": 24,
     "metadata": {},
     "output_type": "execute_result"
    }
   ],
   "source": [
    "# estimated parameters\n",
    "lm2.params"
   ]
  },
  {
   "cell_type": "code",
   "execution_count": 25,
   "id": "20b640ef-1c6a-466c-bf9c-be13e191bec1",
   "metadata": {},
   "outputs": [
    {
     "data": {
      "text/plain": [
       "8.202768119825624"
      ]
     },
     "execution_count": 25,
     "metadata": {},
     "output_type": "execute_result"
    }
   ],
   "source": [
    "# estimated sigma (noise term)\n",
    "np.sqrt(lm2.scale)"
   ]
  },
  {
   "cell_type": "code",
   "execution_count": null,
   "id": "a142f3c4-e3e2-480d-b176-d2c329f8ab15",
   "metadata": {},
   "outputs": [],
   "source": []
  },
  {
   "cell_type": "markdown",
   "id": "8776dec2-764f-49ca-a2c6-aa831754fc17",
   "metadata": {},
   "source": [
    "## Confidence intervals for model parameters"
   ]
  },
  {
   "cell_type": "code",
   "execution_count": 26,
   "id": "8d16b640-40e9-4398-9b7d-4e24ee93bc3e",
   "metadata": {},
   "outputs": [
    {
     "data": {
      "text/plain": [
       "Intercept    1.289380\n",
       "alc          0.069973\n",
       "weed         0.476166\n",
       "exrc         0.138056\n",
       "dtype: float64"
      ]
     },
     "execution_count": 26,
     "metadata": {},
     "output_type": "execute_result"
    }
   ],
   "source": [
    "# standard errors\n",
    "lm2.bse"
   ]
  },
  {
   "cell_type": "code",
   "execution_count": 27,
   "id": "13c52bc1-6edc-4784-8fa6-b7655e65e0d5",
   "metadata": {},
   "outputs": [
    {
     "data": {
      "text/html": [
       "<div>\n",
       "<style scoped>\n",
       "    .dataframe tbody tr th:only-of-type {\n",
       "        vertical-align: middle;\n",
       "    }\n",
       "\n",
       "    .dataframe tbody tr th {\n",
       "        vertical-align: top;\n",
       "    }\n",
       "\n",
       "    .dataframe thead th {\n",
       "        text-align: right;\n",
       "    }\n",
       "</style>\n",
       "<table border=\"1\" class=\"dataframe\">\n",
       "  <thead>\n",
       "    <tr style=\"text-align: right;\">\n",
       "      <th></th>\n",
       "      <th>0</th>\n",
       "      <th>1</th>\n",
       "    </tr>\n",
       "  </thead>\n",
       "  <tbody>\n",
       "    <tr>\n",
       "      <th>Intercept</th>\n",
       "      <td>57.905480</td>\n",
       "      <td>63.000321</td>\n",
       "    </tr>\n",
       "    <tr>\n",
       "      <th>alc</th>\n",
       "      <td>-1.938347</td>\n",
       "      <td>-1.661856</td>\n",
       "    </tr>\n",
       "    <tr>\n",
       "      <th>weed</th>\n",
       "      <td>-1.962309</td>\n",
       "      <td>-0.080794</td>\n",
       "    </tr>\n",
       "    <tr>\n",
       "      <th>exrc</th>\n",
       "      <td>1.495533</td>\n",
       "      <td>2.041044</td>\n",
       "    </tr>\n",
       "  </tbody>\n",
       "</table>\n",
       "</div>"
      ],
      "text/plain": [
       "                   0          1\n",
       "Intercept  57.905480  63.000321\n",
       "alc        -1.938347  -1.661856\n",
       "weed       -1.962309  -0.080794\n",
       "exrc        1.495533   2.041044"
      ]
     },
     "execution_count": 27,
     "metadata": {},
     "output_type": "execute_result"
    }
   ],
   "source": [
    "lm2.conf_int(alpha=0.05)"
   ]
  },
  {
   "cell_type": "code",
   "execution_count": null,
   "id": "a83b5589-e01c-4da4-9cb0-fc63ca4e1a07",
   "metadata": {},
   "outputs": [],
   "source": []
  },
  {
   "cell_type": "code",
   "execution_count": null,
   "id": "df2efa04-8677-4d98-a47c-451fe3ba33c5",
   "metadata": {},
   "outputs": [],
   "source": []
  },
  {
   "cell_type": "markdown",
   "id": "88b1c129-bc6f-48b9-8841-bda7a7063bc4",
   "metadata": {},
   "source": [
    "## Hypothesis testing for linear models"
   ]
  },
  {
   "cell_type": "markdown",
   "id": "5c0eaee7-42f3-475b-9582-fa9c894005f1",
   "metadata": {},
   "source": [
    "### F-test for the overall model"
   ]
  },
  {
   "cell_type": "code",
   "execution_count": 28,
   "id": "e999bf5b-9ffc-46b1-a768-8a02b4b05ebf",
   "metadata": {},
   "outputs": [
    {
     "data": {
      "text/plain": [
       "(270.34350189265825, 1.0512133413867047e-60)"
      ]
     },
     "execution_count": 28,
     "metadata": {},
     "output_type": "execute_result"
    }
   ],
   "source": [
    "lm2.fvalue, lm2.f_pvalue"
   ]
  },
  {
   "cell_type": "code",
   "execution_count": null,
   "id": "0f2c1954-1300-46da-a5ea-b0effc822ff2",
   "metadata": {},
   "outputs": [],
   "source": []
  },
  {
   "cell_type": "markdown",
   "id": "a40a5ec3-0bcd-43f8-9004-058dc4fa770f",
   "metadata": {},
   "source": [
    "### T-tests for individual parameters"
   ]
  },
  {
   "cell_type": "markdown",
   "id": "3450e0c6-e3e4-4f17-9403-5b2d55baad61",
   "metadata": {},
   "source": [
    "Hypothesis testing for slope coefficient\n",
    "\n",
    "Is there a non-zero slope coefficient?\n",
    "\n",
    "\n",
    "- **null hypothesis $H_0$**: `alc` has no effect on `score`,\n",
    "  which is equivalent to $\\beta_{\\texttt{alc}} = 0$:\n",
    "  $$ \\large\n",
    "     H_0: \\qquad\n",
    "     \\textrm{score}\n",
    "     \\sim \\mathcal{N}(\n",
    "         {\\color{red}\n",
    "             \\beta_0\n",
    "              + \\beta_{\\texttt{weed}}\\!\\cdot\\!\\textrm{weed}\n",
    "              + \\beta_{\\texttt{exrc}}\\!\\cdot\\!\\textrm{exrc}\n",
    "          }, \\ \\sigma) \\qquad \\qquad \n",
    "  $$\n",
    "\n",
    "- **alternative hypothesis $H_A$**: `alc` has an effect on `score`,\n",
    "  and the slope is not zero, $\\beta_{\\texttt{alc}} \\neq 0$:\n",
    "  $$ \\large\n",
    "     H_A: \\qquad\n",
    "     \\textrm{score} \n",
    "     \\sim \\mathcal{N}\\left(\n",
    "          {\\color{blue}\n",
    "             \\beta_0\n",
    "              + \\beta_{\\texttt{alc}}\\!\\cdot\\!\\textrm{alc}\n",
    "              + \\beta_{\\texttt{weed}}\\!\\cdot\\!\\textrm{weed}\n",
    "              + \\beta_{\\texttt{exrc}}\\!\\cdot\\!\\textrm{exrc}\n",
    "          }, \\ \\sigma \\right)\n",
    "  $$"
   ]
  },
  {
   "cell_type": "code",
   "execution_count": 29,
   "id": "877646b6-3a15-4eeb-b6f4-8b6f4e10d4da",
   "metadata": {},
   "outputs": [
    {
     "data": {
      "text/plain": [
       "-25.72565391310632"
      ]
     },
     "execution_count": 29,
     "metadata": {},
     "output_type": "execute_result"
    }
   ],
   "source": [
    "lm2.tvalues[\"alc\"]"
   ]
  },
  {
   "cell_type": "code",
   "execution_count": 30,
   "id": "e0bc3229-fabd-4666-85f3-40e36f164e25",
   "metadata": {},
   "outputs": [
    {
     "data": {
      "text/plain": [
       "2.985012588756153e-57"
      ]
     },
     "execution_count": 30,
     "metadata": {},
     "output_type": "execute_result"
    }
   ],
   "source": [
    "lm2.pvalues[\"alc\"]"
   ]
  },
  {
   "cell_type": "code",
   "execution_count": 31,
   "id": "75ccf902-763b-47ea-a071-2ee5030a14ac",
   "metadata": {},
   "outputs": [
    {
     "data": {
      "text/plain": [
       "2.985012588756153e-57"
      ]
     },
     "execution_count": 31,
     "metadata": {},
     "output_type": "execute_result"
    }
   ],
   "source": [
    "# to reproduce `alc` p-value\n",
    "from scipy.stats import t as tdist\n",
    "obst_alc = lm2.tvalues[\"alc\"]\n",
    "pleft = tdist(df=lm2.df_resid).cdf(obst_alc)\n",
    "pright = 1 - tdist(df=lm2.df_resid).cdf(obst_alc)\n",
    "pvalue = 2 * min(pleft, pright)\n",
    "pvalue"
   ]
  },
  {
   "cell_type": "markdown",
   "id": "aedc534d-cd24-4441-8f66-da960831b48a",
   "metadata": {},
   "source": [
    "#### Other t-values and p-values"
   ]
  },
  {
   "cell_type": "code",
   "execution_count": 32,
   "id": "bb52ddcb-26fa-40da-8cbe-accb9ff89d55",
   "metadata": {},
   "outputs": [
    {
     "data": {
      "text/plain": [
       "Intercept    46.885245\n",
       "alc         -25.725654\n",
       "weed         -2.145371\n",
       "exrc         12.808529\n",
       "dtype: float64"
      ]
     },
     "execution_count": 32,
     "metadata": {},
     "output_type": "execute_result"
    }
   ],
   "source": [
    "lm2.tvalues"
   ]
  },
  {
   "cell_type": "code",
   "execution_count": 33,
   "id": "9620c62e-83e3-4c3f-ac63-f98490b20641",
   "metadata": {},
   "outputs": [
    {
     "data": {
      "text/plain": [
       "152.0"
      ]
     },
     "execution_count": 33,
     "metadata": {},
     "output_type": "execute_result"
    }
   ],
   "source": [
    "lm2.df_resid"
   ]
  },
  {
   "cell_type": "code",
   "execution_count": 34,
   "id": "080040a4-32ed-4f18-96db-875aefef05ec",
   "metadata": {},
   "outputs": [
    {
     "data": {
      "text/plain": [
       "Intercept    2.756807e-92\n",
       "alc          2.985013e-57\n",
       "weed         3.351156e-02\n",
       "exrc         6.136296e-26\n",
       "dtype: float64"
      ]
     },
     "execution_count": 34,
     "metadata": {},
     "output_type": "execute_result"
    }
   ],
   "source": [
    "lm2.pvalues"
   ]
  },
  {
   "cell_type": "code",
   "execution_count": null,
   "id": "92ab76b6-40c2-4e44-a956-b5bf6b599eac",
   "metadata": {},
   "outputs": [],
   "source": []
  },
  {
   "cell_type": "markdown",
   "id": "78508a1c-cb8f-4ce9-aadf-e7ead2e73333",
   "metadata": {},
   "source": [
    "## Assumptions checks and diagnostics"
   ]
  },
  {
   "cell_type": "markdown",
   "id": "bb52997b-c96f-4f27-bd15-22192488ed92",
   "metadata": {},
   "source": [
    "### Diagnostics plots"
   ]
  },
  {
   "cell_type": "code",
   "execution_count": null,
   "id": "477169d5-96d7-46f0-b659-6ce798371489",
   "metadata": {},
   "outputs": [],
   "source": []
  },
  {
   "cell_type": "markdown",
   "id": "0bed78e1-fa7c-4e75-8b54-72ddd017c46f",
   "metadata": {},
   "source": [
    "### Linearity checks"
   ]
  },
  {
   "cell_type": "code",
   "execution_count": 35,
   "id": "75d49ad3-dc17-49e3-8448-67c280cdd5c7",
   "metadata": {},
   "outputs": [
    {
     "name": "stderr",
     "output_type": "stream",
     "text": [
      "/Users/ivan/Projects/Minireference/STATSbook/noBSstatsnotebooks/venv/lib/python3.9/site-packages/statsmodels/nonparametric/smoothers_lowess.py:227: RuntimeWarning: invalid value encountered in divide\n",
      "  res, _ = _lowess(y, x, x, np.ones_like(x),\n"
     ]
    },
    {
     "data": {
      "image/png": "[encoded data removed]",
      "text/plain": [
       "<Figure size 1000x300 with 3 Axes>"
      ]
     },
     "metadata": {
      "image/png": {
       "height": 293,
       "width": 826
      }
     },
     "output_type": "display_data"
    }
   ],
   "source": [
    "fig, axs = plt.subplots(1, 3, figsize=(10, 3))\n",
    "sns.regplot(x=doctors[\"alc\"],  y=lm2.resid, lowess=True, ax=axs[0])\n",
    "sns.regplot(x=doctors[\"weed\"], y=lm2.resid, lowess=True, ax=axs[1])\n",
    "sns.regplot(x=doctors[\"exrc\"], y=lm2.resid, lowess=True, ax=axs[2]);"
   ]
  },
  {
   "cell_type": "code",
   "execution_count": null,
   "id": "57d4e018-cd84-421e-999a-3d86eecdf950",
   "metadata": {},
   "outputs": [],
   "source": []
  },
  {
   "cell_type": "markdown",
   "id": "5d1034f0-2588-410c-9435-35da95b7eb77",
   "metadata": {},
   "source": [
    "### Normality checks"
   ]
  },
  {
   "cell_type": "code",
   "execution_count": 36,
   "id": "8ee0ecc8-0ddd-4742-867a-ddb9294a0b9c",
   "metadata": {},
   "outputs": [
    {
     "data": {
      "image/png": "[encoded data removed]",
      "text/plain": [
       "<Figure size 800x500 with 1 Axes>"
      ]
     },
     "metadata": {
      "image/png": {
       "height": 428,
       "width": 683
      }
     },
     "output_type": "display_data"
    }
   ],
   "source": [
    "sns.histplot(lm2.resid);"
   ]
  },
  {
   "cell_type": "code",
   "execution_count": 37,
   "id": "02ad49c4-4d72-469c-a7ef-770b5d4d7fa1",
   "metadata": {},
   "outputs": [
    {
     "data": {
      "image/png": "[encoded data removed]",
      "text/plain": [
       "<Figure size 800x500 with 1 Axes>"
      ]
     },
     "metadata": {
      "image/png": {
       "height": 447,
       "width": 690
      }
     },
     "output_type": "display_data"
    }
   ],
   "source": [
    "from statsmodels.graphics.api import qqplot\n",
    "\n",
    "qqplot(lm2.resid, line=\"s\");"
   ]
  },
  {
   "cell_type": "code",
   "execution_count": null,
   "id": "eb65778b-82d3-4d42-92bc-2568c613abb9",
   "metadata": {},
   "outputs": [],
   "source": []
  },
  {
   "cell_type": "markdown",
   "id": "630f850b-ef96-47a5-aa44-0aec1dddb560",
   "metadata": {},
   "source": [
    "### Homoscedasticity checks\n",
    "\n",
    "via https://ethanweed.github.io/pythonbook/05.04-regression.html#checking-the-homogeneity-of-variance"
   ]
  },
  {
   "cell_type": "code",
   "execution_count": 38,
   "id": "2b59ba8f-6fc6-4262-8ce5-3271be38b20b",
   "metadata": {},
   "outputs": [
    {
     "data": {
      "image/png": "[encoded data removed]",
      "text/plain": [
       "<Figure size 800x500 with 1 Axes>"
      ]
     },
     "metadata": {
      "image/png": {
       "height": 447,
       "width": 684
      }
     },
     "output_type": "display_data"
    }
   ],
   "source": [
    "df_slplot = pd.DataFrame(\n",
    "    {'fitted': lm2.fittedvalues,\n",
    "     'sqrt_abs_stand_res': np.sqrt(np.abs(lm2.resid))})\n",
    "\n",
    "ax = sns.regplot(data=df_slplot, x='fitted', y='sqrt_abs_stand_res', lowess=True)\n",
    "\n",
    "ax.set_ylabel(r'$\\sqrt{|standardized residuals|}$')\n",
    "ax.set_xlabel('Fitted Values');"
   ]
  },
  {
   "cell_type": "markdown",
   "id": "3593c4d0-c746-490b-a301-70e81c7e0ee7",
   "metadata": {},
   "source": [
    "### Independence checks"
   ]
  },
  {
   "cell_type": "code",
   "execution_count": null,
   "id": "e4a3b4e2-da2a-411d-aa10-e68d3002e49b",
   "metadata": {},
   "outputs": [],
   "source": []
  },
  {
   "cell_type": "markdown",
   "id": "ab3a495e-44da-41db-b7e4-6a0a88e35837",
   "metadata": {},
   "source": [
    "### Collinearity checks"
   ]
  },
  {
   "cell_type": "code",
   "execution_count": 39,
   "id": "5ba87dfc-2e8b-4322-b883-cc15e2866f7c",
   "metadata": {},
   "outputs": [],
   "source": [
    "def variance_inflation_factor(exog, exog_idx):\n",
    "    \"\"\"\n",
    "    exog : ndarray, (nobs, k_vars)\n",
    "        design matrix with all explanatory variables, as for example used in\n",
    "        regression\n",
    "    exog_idx : int\n",
    "        index of the exogenous variable in the columns of exog\n",
    "    \"\"\"\n",
    "    k_vars = exog.shape[1]\n",
    "    x_i = exog[:, exog_idx]\n",
    "    mask = np.arange(k_vars) != exog_idx\n",
    "    x_noti = exog[:, mask]\n",
    "    r_squared_i = OLS(x_i, x_noti).fit().rsquared\n",
    "    vif = 1. / (1. - r_squared_i)\n",
    "    return vif"
   ]
  },
  {
   "cell_type": "code",
   "execution_count": null,
   "id": "5b999e8b-64d3-48dc-b2a7-58ebae983d01",
   "metadata": {},
   "outputs": [],
   "source": []
  },
  {
   "cell_type": "code",
   "execution_count": 40,
   "id": "27a743b4-19b7-4be7-882d-fe7fbaa4015f",
   "metadata": {},
   "outputs": [
    {
     "name": "stdout",
     "output_type": "stream",
     "text": [
      "VIF for Intercept = 3.854478605601843\n",
      "VIF for alc = 1.0026692156304757\n",
      "VIF for weed = 1.010703145007322\n",
      "VIF for exrc = 1.010048809433661\n"
     ]
    }
   ],
   "source": [
    "from statsmodels.stats.outliers_influence import variance_inflation_factor\n",
    "\n",
    "for i, name in enumerate(lm2.model.exog_names):\n",
    "    vifi = variance_inflation_factor(lm2.model.exog, i)\n",
    "    print(\"VIF for\", name, \"=\", vifi)\n"
   ]
  },
  {
   "cell_type": "code",
   "execution_count": 41,
   "id": "e0fe384a-a351-49b8-8b50-47fe68f8513e",
   "metadata": {},
   "outputs": [
    {
     "data": {
      "text/html": [
       "<div>\n",
       "<style scoped>\n",
       "    .dataframe tbody tr th:only-of-type {\n",
       "        vertical-align: middle;\n",
       "    }\n",
       "\n",
       "    .dataframe tbody tr th {\n",
       "        vertical-align: top;\n",
       "    }\n",
       "\n",
       "    .dataframe thead th {\n",
       "        text-align: right;\n",
       "    }\n",
       "</style>\n",
       "<table border=\"1\" class=\"dataframe\">\n",
       "  <thead>\n",
       "    <tr style=\"text-align: right;\">\n",
       "      <th></th>\n",
       "      <th>alc</th>\n",
       "      <th>weed</th>\n",
       "      <th>exrc</th>\n",
       "    </tr>\n",
       "  </thead>\n",
       "  <tbody>\n",
       "    <tr>\n",
       "      <th>alc</th>\n",
       "      <td>1.000000</td>\n",
       "      <td>0.042158</td>\n",
       "      <td>0.033625</td>\n",
       "    </tr>\n",
       "    <tr>\n",
       "      <th>weed</th>\n",
       "      <td>0.042158</td>\n",
       "      <td>1.000000</td>\n",
       "      <td>0.095239</td>\n",
       "    </tr>\n",
       "    <tr>\n",
       "      <th>exrc</th>\n",
       "      <td>0.033625</td>\n",
       "      <td>0.095239</td>\n",
       "      <td>1.000000</td>\n",
       "    </tr>\n",
       "  </tbody>\n",
       "</table>\n",
       "</div>"
      ],
      "text/plain": [
       "           alc      weed      exrc\n",
       "alc   1.000000  0.042158  0.033625\n",
       "weed  0.042158  1.000000  0.095239\n",
       "exrc  0.033625  0.095239  1.000000"
      ]
     },
     "execution_count": 41,
     "metadata": {},
     "output_type": "execute_result"
    }
   ],
   "source": [
    "doctors[[\"alc\", \"weed\", \"exrc\"]].corr()"
   ]
  },
  {
   "cell_type": "code",
   "execution_count": null,
   "id": "58d60eb3-0476-4d3c-a55d-0a6824aa0c52",
   "metadata": {},
   "outputs": [],
   "source": []
  },
  {
   "cell_type": "markdown",
   "id": "cc6e007c-59ee-433f-9af7-cae9142bba05",
   "metadata": {},
   "source": [
    "## Outliers and influential observations"
   ]
  },
  {
   "cell_type": "code",
   "execution_count": 42,
   "id": "e719ab08-b4d4-47c5-900e-70b834ad2a8f",
   "metadata": {},
   "outputs": [
    {
     "data": {
      "text/plain": [
       "0       7.654858\n",
       "1     -16.408174\n",
       "2     -13.030821\n",
       "3      -1.789073\n",
       "4     -10.514154\n",
       "         ...    \n",
       "151     7.132895\n",
       "152    -4.049719\n",
       "153     2.271540\n",
       "154    18.382639\n",
       "155     2.864212\n",
       "Length: 156, dtype: float64"
      ]
     },
     "execution_count": 42,
     "metadata": {},
     "output_type": "execute_result"
    }
   ],
   "source": [
    "# regular residuals\n",
    "lm2.resid"
   ]
  },
  {
   "cell_type": "code",
   "execution_count": 43,
   "id": "0dfc87a6-7c50-4434-bb97-d8f600f5542f",
   "metadata": {},
   "outputs": [
    {
     "data": {
      "text/html": [
       "<div>\n",
       "<style scoped>\n",
       "    .dataframe tbody tr th:only-of-type {\n",
       "        vertical-align: middle;\n",
       "    }\n",
       "\n",
       "    .dataframe tbody tr th {\n",
       "        vertical-align: top;\n",
       "    }\n",
       "\n",
       "    .dataframe thead th {\n",
       "        text-align: right;\n",
       "    }\n",
       "</style>\n",
       "<table border=\"1\" class=\"dataframe\">\n",
       "  <thead>\n",
       "    <tr style=\"text-align: right;\">\n",
       "      <th></th>\n",
       "      <th>dfb_Intercept</th>\n",
       "      <th>dfb_alc</th>\n",
       "      <th>dfb_weed</th>\n",
       "      <th>dfb_exrc</th>\n",
       "      <th>cooks_d</th>\n",
       "      <th>standard_resid</th>\n",
       "      <th>hat_diag</th>\n",
       "      <th>dffits_internal</th>\n",
       "      <th>student_resid</th>\n",
       "      <th>dffits</th>\n",
       "    </tr>\n",
       "  </thead>\n",
       "  <tbody>\n",
       "    <tr>\n",
       "      <th>0</th>\n",
       "      <td>0.116394</td>\n",
       "      <td>-0.111597</td>\n",
       "      <td>0.274526</td>\n",
       "      <td>-0.114981</td>\n",
       "      <td>0.025261</td>\n",
       "      <td>0.980976</td>\n",
       "      <td>0.095024</td>\n",
       "      <td>0.317875</td>\n",
       "      <td>0.980853</td>\n",
       "      <td>0.317836</td>\n",
       "    </tr>\n",
       "    <tr>\n",
       "      <th>1</th>\n",
       "      <td>-0.023456</td>\n",
       "      <td>-0.146355</td>\n",
       "      <td>0.077369</td>\n",
       "      <td>0.027821</td>\n",
       "      <td>0.013315</td>\n",
       "      <td>-2.013418</td>\n",
       "      <td>0.012967</td>\n",
       "      <td>-0.230777</td>\n",
       "      <td>-2.034092</td>\n",
       "      <td>-0.233147</td>\n",
       "    </tr>\n",
       "    <tr>\n",
       "      <th>2</th>\n",
       "      <td>-0.144254</td>\n",
       "      <td>0.149222</td>\n",
       "      <td>0.057507</td>\n",
       "      <td>-0.054123</td>\n",
       "      <td>0.011166</td>\n",
       "      <td>-1.602346</td>\n",
       "      <td>0.017098</td>\n",
       "      <td>-0.211335</td>\n",
       "      <td>-1.610728</td>\n",
       "      <td>-0.212441</td>\n",
       "    </tr>\n",
       "    <tr>\n",
       "      <th>3</th>\n",
       "      <td>-0.026064</td>\n",
       "      <td>0.014067</td>\n",
       "      <td>0.006287</td>\n",
       "      <td>0.011386</td>\n",
       "      <td>0.000180</td>\n",
       "      <td>-0.219722</td>\n",
       "      <td>0.014655</td>\n",
       "      <td>-0.026796</td>\n",
       "      <td>-0.219033</td>\n",
       "      <td>-0.026712</td>\n",
       "    </tr>\n",
       "    <tr>\n",
       "      <th>4</th>\n",
       "      <td>-0.054777</td>\n",
       "      <td>0.030947</td>\n",
       "      <td>0.050412</td>\n",
       "      <td>-0.051499</td>\n",
       "      <td>0.004112</td>\n",
       "      <td>-1.288119</td>\n",
       "      <td>0.009816</td>\n",
       "      <td>-0.128254</td>\n",
       "      <td>-1.290940</td>\n",
       "      <td>-0.128535</td>\n",
       "    </tr>\n",
       "    <tr>\n",
       "      <th>...</th>\n",
       "      <td>...</td>\n",
       "      <td>...</td>\n",
       "      <td>...</td>\n",
       "      <td>...</td>\n",
       "      <td>...</td>\n",
       "      <td>...</td>\n",
       "      <td>...</td>\n",
       "      <td>...</td>\n",
       "      <td>...</td>\n",
       "      <td>...</td>\n",
       "    </tr>\n",
       "    <tr>\n",
       "      <th>151</th>\n",
       "      <td>0.062777</td>\n",
       "      <td>-0.043468</td>\n",
       "      <td>-0.004970</td>\n",
       "      <td>0.003569</td>\n",
       "      <td>0.001719</td>\n",
       "      <td>0.873481</td>\n",
       "      <td>0.008930</td>\n",
       "      <td>0.082914</td>\n",
       "      <td>0.872796</td>\n",
       "      <td>0.082849</td>\n",
       "    </tr>\n",
       "    <tr>\n",
       "      <th>152</th>\n",
       "      <td>0.014217</td>\n",
       "      <td>-0.030273</td>\n",
       "      <td>0.022718</td>\n",
       "      <td>-0.035467</td>\n",
       "      <td>0.001050</td>\n",
       "      <td>-0.497866</td>\n",
       "      <td>0.016658</td>\n",
       "      <td>-0.064799</td>\n",
       "      <td>-0.496630</td>\n",
       "      <td>-0.064638</td>\n",
       "    </tr>\n",
       "    <tr>\n",
       "      <th>153</th>\n",
       "      <td>-0.010770</td>\n",
       "      <td>0.004213</td>\n",
       "      <td>-0.005710</td>\n",
       "      <td>0.036256</td>\n",
       "      <td>0.000468</td>\n",
       "      <td>0.280203</td>\n",
       "      <td>0.023268</td>\n",
       "      <td>0.043248</td>\n",
       "      <td>0.279352</td>\n",
       "      <td>0.043117</td>\n",
       "    </tr>\n",
       "    <tr>\n",
       "      <th>154</th>\n",
       "      <td>-0.112869</td>\n",
       "      <td>-0.076751</td>\n",
       "      <td>0.152961</td>\n",
       "      <td>0.387037</td>\n",
       "      <td>0.054721</td>\n",
       "      <td>2.287423</td>\n",
       "      <td>0.040153</td>\n",
       "      <td>0.467849</td>\n",
       "      <td>2.320169</td>\n",
       "      <td>0.474547</td>\n",
       "    </tr>\n",
       "    <tr>\n",
       "      <th>155</th>\n",
       "      <td>0.023912</td>\n",
       "      <td>-0.036369</td>\n",
       "      <td>-0.014210</td>\n",
       "      <td>0.030007</td>\n",
       "      <td>0.000791</td>\n",
       "      <td>0.353566</td>\n",
       "      <td>0.024677</td>\n",
       "      <td>0.056239</td>\n",
       "      <td>0.352546</td>\n",
       "      <td>0.056077</td>\n",
       "    </tr>\n",
       "  </tbody>\n",
       "</table>\n",
       "<p>156 rows × 10 columns</p>\n",
       "</div>"
      ],
      "text/plain": [
       "     dfb_Intercept   dfb_alc  dfb_weed  dfb_exrc   cooks_d  standard_resid  \\\n",
       "0         0.116394 -0.111597  0.274526 -0.114981  0.025261        0.980976   \n",
       "1        -0.023456 -0.146355  0.077369  0.027821  0.013315       -2.013418   \n",
       "2        -0.144254  0.149222  0.057507 -0.054123  0.011166       -1.602346   \n",
       "3        -0.026064  0.014067  0.006287  0.011386  0.000180       -0.219722   \n",
       "4        -0.054777  0.030947  0.050412 -0.051499  0.004112       -1.288119   \n",
       "..             ...       ...       ...       ...       ...             ...   \n",
       "151       0.062777 -0.043468 -0.004970  0.003569  0.001719        0.873481   \n",
       "152       0.014217 -0.030273  0.022718 -0.035467  0.001050       -0.497866   \n",
       "153      -0.010770  0.004213 -0.005710  0.036256  0.000468        0.280203   \n",
       "154      -0.112869 -0.076751  0.152961  0.387037  0.054721        2.287423   \n",
       "155       0.023912 -0.036369 -0.014210  0.030007  0.000791        0.353566   \n",
       "\n",
       "     hat_diag  dffits_internal  student_resid    dffits  \n",
       "0    0.095024         0.317875       0.980853  0.317836  \n",
       "1    0.012967        -0.230777      -2.034092 -0.233147  \n",
       "2    0.017098        -0.211335      -1.610728 -0.212441  \n",
       "3    0.014655        -0.026796      -0.219033 -0.026712  \n",
       "4    0.009816        -0.128254      -1.290940 -0.128535  \n",
       "..        ...              ...            ...       ...  \n",
       "151  0.008930         0.082914       0.872796  0.082849  \n",
       "152  0.016658        -0.064799      -0.496630 -0.064638  \n",
       "153  0.023268         0.043248       0.279352  0.043117  \n",
       "154  0.040153         0.467849       2.320169  0.474547  \n",
       "155  0.024677         0.056239       0.352546  0.056077  \n",
       "\n",
       "[156 rows x 10 columns]"
      ]
     },
     "execution_count": 43,
     "metadata": {},
     "output_type": "execute_result"
    }
   ],
   "source": [
    "infl2 = lm2.get_influence()\n",
    "infl2.summary_frame()"
   ]
  },
  {
   "cell_type": "markdown",
   "id": "035024f4-069f-46da-b5d3-5fbecc99477b",
   "metadata": {},
   "source": [
    "#### Cook's distance\n",
    "\n",
    "$$\n",
    "D_i = \\frac{{\\epsilon_i^*}^2 }{K+1} \\times \\frac{h_i}{1-h_i}\n",
    "$$"
   ]
  },
  {
   "cell_type": "code",
   "execution_count": 44,
   "id": "e9a21b44-08c0-495f-9f14-c0ada366103c",
   "metadata": {},
   "outputs": [
    {
     "data": {
      "text/plain": [
       "array([0.02526116, 0.01331454, 0.01116562, 0.00017951, 0.0041123 ])"
      ]
     },
     "execution_count": 44,
     "metadata": {},
     "output_type": "execute_result"
    }
   ],
   "source": [
    "infl2.cooks_distance[0][0:5]"
   ]
  },
  {
   "cell_type": "markdown",
   "id": "43fe8bc6-9c82-456b-b93c-b701fb29d4cc",
   "metadata": {},
   "source": [
    "#### Studentized residuals \n",
    "\n",
    "$$\n",
    "  r_{i}^* = \\frac{r_i}{\\hat{\\sigma}_{(-i)} \\sqrt{1-h_i}}\n",
    "$$"
   ]
  },
  {
   "cell_type": "code",
   "execution_count": 45,
   "id": "311f98d2-f082-46f6-8db5-fe7c7c5333f0",
   "metadata": {},
   "outputs": [
    {
     "data": {
      "text/plain": [
       "array([ 0.98097556, -2.01341843, -1.60234556, -0.21972192, -1.28811914])"
      ]
     },
     "execution_count": 45,
     "metadata": {},
     "output_type": "execute_result"
    }
   ],
   "source": [
    "infl2.resid_studentized[0:5]  # = infl2.resid_studentized_internal"
   ]
  },
  {
   "cell_type": "code",
   "execution_count": 46,
   "id": "16006af8-d037-450a-83eb-24de9457e07c",
   "metadata": {},
   "outputs": [
    {
     "data": {
      "text/plain": [
       "array([ 0.98085317, -2.03409243, -1.61072775, -0.21903275, -1.29094028])"
      ]
     },
     "execution_count": 46,
     "metadata": {},
     "output_type": "execute_result"
    }
   ],
   "source": [
    "# obtained using Jackknife\n",
    "infl2.resid_studentized_external[0:5]"
   ]
  },
  {
   "cell_type": "code",
   "execution_count": 47,
   "id": "a6d7cf9c-ddbe-4b8a-9dd0-a24f459381ab",
   "metadata": {},
   "outputs": [
    {
     "data": {
      "text/html": [
       "<div>\n",
       "<style scoped>\n",
       "    .dataframe tbody tr th:only-of-type {\n",
       "        vertical-align: middle;\n",
       "    }\n",
       "\n",
       "    .dataframe tbody tr th {\n",
       "        vertical-align: top;\n",
       "    }\n",
       "\n",
       "    .dataframe thead th {\n",
       "        text-align: right;\n",
       "    }\n",
       "</style>\n",
       "<table border=\"1\" class=\"dataframe\">\n",
       "  <thead>\n",
       "    <tr style=\"text-align: right;\">\n",
       "      <th></th>\n",
       "      <th>student_resid</th>\n",
       "      <th>unadj_p</th>\n",
       "      <th>bonf(p)</th>\n",
       "    </tr>\n",
       "  </thead>\n",
       "  <tbody>\n",
       "    <tr>\n",
       "      <th>0</th>\n",
       "      <td>0.980853</td>\n",
       "      <td>0.328234</td>\n",
       "      <td>1.0</td>\n",
       "    </tr>\n",
       "    <tr>\n",
       "      <th>1</th>\n",
       "      <td>-2.034092</td>\n",
       "      <td>0.043693</td>\n",
       "      <td>1.0</td>\n",
       "    </tr>\n",
       "    <tr>\n",
       "      <th>2</th>\n",
       "      <td>-1.610728</td>\n",
       "      <td>0.109327</td>\n",
       "      <td>1.0</td>\n",
       "    </tr>\n",
       "    <tr>\n",
       "      <th>3</th>\n",
       "      <td>-0.219033</td>\n",
       "      <td>0.826920</td>\n",
       "      <td>1.0</td>\n",
       "    </tr>\n",
       "    <tr>\n",
       "      <th>4</th>\n",
       "      <td>-1.290940</td>\n",
       "      <td>0.198697</td>\n",
       "      <td>1.0</td>\n",
       "    </tr>\n",
       "  </tbody>\n",
       "</table>\n",
       "</div>"
      ],
      "text/plain": [
       "   student_resid   unadj_p  bonf(p)\n",
       "0       0.980853  0.328234      1.0\n",
       "1      -2.034092  0.043693      1.0\n",
       "2      -1.610728  0.109327      1.0\n",
       "3      -0.219033  0.826920      1.0\n",
       "4      -1.290940  0.198697      1.0"
      ]
     },
     "execution_count": 47,
     "metadata": {},
     "output_type": "execute_result"
    }
   ],
   "source": [
    "lm2.outlier_test().head()"
   ]
  },
  {
   "cell_type": "code",
   "execution_count": 48,
   "id": "bfe089b8-38a6-471b-839a-1f0eaf0cdd62",
   "metadata": {},
   "outputs": [
    {
     "data": {
      "text/html": [
       "<div>\n",
       "<style scoped>\n",
       "    .dataframe tbody tr th:only-of-type {\n",
       "        vertical-align: middle;\n",
       "    }\n",
       "\n",
       "    .dataframe tbody tr th {\n",
       "        vertical-align: top;\n",
       "    }\n",
       "\n",
       "    .dataframe thead th {\n",
       "        text-align: right;\n",
       "    }\n",
       "</style>\n",
       "<table border=\"1\" class=\"dataframe\">\n",
       "  <thead>\n",
       "    <tr style=\"text-align: right;\">\n",
       "      <th></th>\n",
       "      <th>student_resid</th>\n",
       "      <th>unadj_p</th>\n",
       "      <th>bonf(p)</th>\n",
       "    </tr>\n",
       "  </thead>\n",
       "  <tbody>\n",
       "    <tr>\n",
       "      <th>0</th>\n",
       "      <td>0.980853</td>\n",
       "      <td>0.328234</td>\n",
       "      <td>1.0</td>\n",
       "    </tr>\n",
       "    <tr>\n",
       "      <th>1</th>\n",
       "      <td>-2.034092</td>\n",
       "      <td>0.043693</td>\n",
       "      <td>1.0</td>\n",
       "    </tr>\n",
       "    <tr>\n",
       "      <th>2</th>\n",
       "      <td>-1.610728</td>\n",
       "      <td>0.109327</td>\n",
       "      <td>1.0</td>\n",
       "    </tr>\n",
       "    <tr>\n",
       "      <th>3</th>\n",
       "      <td>-0.219033</td>\n",
       "      <td>0.826920</td>\n",
       "      <td>1.0</td>\n",
       "    </tr>\n",
       "    <tr>\n",
       "      <th>4</th>\n",
       "      <td>-1.290940</td>\n",
       "      <td>0.198697</td>\n",
       "      <td>1.0</td>\n",
       "    </tr>\n",
       "    <tr>\n",
       "      <th>...</th>\n",
       "      <td>...</td>\n",
       "      <td>...</td>\n",
       "      <td>...</td>\n",
       "    </tr>\n",
       "    <tr>\n",
       "      <th>151</th>\n",
       "      <td>0.872796</td>\n",
       "      <td>0.384160</td>\n",
       "      <td>1.0</td>\n",
       "    </tr>\n",
       "    <tr>\n",
       "      <th>152</th>\n",
       "      <td>-0.496630</td>\n",
       "      <td>0.620172</td>\n",
       "      <td>1.0</td>\n",
       "    </tr>\n",
       "    <tr>\n",
       "      <th>153</th>\n",
       "      <td>0.279352</td>\n",
       "      <td>0.780357</td>\n",
       "      <td>1.0</td>\n",
       "    </tr>\n",
       "    <tr>\n",
       "      <th>154</th>\n",
       "      <td>2.320169</td>\n",
       "      <td>0.021671</td>\n",
       "      <td>1.0</td>\n",
       "    </tr>\n",
       "    <tr>\n",
       "      <th>155</th>\n",
       "      <td>0.352546</td>\n",
       "      <td>0.724920</td>\n",
       "      <td>1.0</td>\n",
       "    </tr>\n",
       "  </tbody>\n",
       "</table>\n",
       "<p>156 rows × 3 columns</p>\n",
       "</div>"
      ],
      "text/plain": [
       "     student_resid   unadj_p  bonf(p)\n",
       "0         0.980853  0.328234      1.0\n",
       "1        -2.034092  0.043693      1.0\n",
       "2        -1.610728  0.109327      1.0\n",
       "3        -0.219033  0.826920      1.0\n",
       "4        -1.290940  0.198697      1.0\n",
       "..             ...       ...      ...\n",
       "151       0.872796  0.384160      1.0\n",
       "152      -0.496630  0.620172      1.0\n",
       "153       0.279352  0.780357      1.0\n",
       "154       2.320169  0.021671      1.0\n",
       "155       0.352546  0.724920      1.0\n",
       "\n",
       "[156 rows x 3 columns]"
      ]
     },
     "execution_count": 48,
     "metadata": {},
     "output_type": "execute_result"
    }
   ],
   "source": [
    "# Model fit diagnostics and plots\n",
    "# \n",
    "# \n",
    "\n",
    "# resid_studentized = influence.resid_studentized_internal\n",
    "# resid_studentized\n",
    "\n",
    "lm2.outlier_test()\n",
    "# import statsmodels.api as sm\n",
    "# sm.graphics.influence_plot(lm2, criterion=\"cooks\");\n",
    "# sm.graphics.plot_ccpr(lm2, \"effort\");\n",
    "# sm.graphics.plot_regress_exog(lm2, \"effort\");"
   ]
  },
  {
   "cell_type": "code",
   "execution_count": 49,
   "id": "7e378bc2-4afd-4a44-9d98-5218983a3dfd",
   "metadata": {},
   "outputs": [],
   "source": [
    "# lm2.fittedvalues\n",
    "# ALT. \n",
    "# lm2.predict(doctors)"
   ]
  },
  {
   "cell_type": "code",
   "execution_count": null,
   "id": "ceca316a-0779-4ca6-a520-1f60a78ecf99",
   "metadata": {},
   "outputs": [],
   "source": []
  },
  {
   "cell_type": "markdown",
   "id": "9b988550-2f30-447e-9e1d-95cdfec94da6",
   "metadata": {},
   "source": [
    "### Diagnostic checks"
   ]
  },
  {
   "cell_type": "code",
   "execution_count": 50,
   "id": "de9c5e17-917f-4762-bcd4-24f1366d342f",
   "metadata": {},
   "outputs": [
    {
     "data": {
      "text/plain": [
       "{'jb': 0.8999138579592632,\n",
       " 'jbpv': 0.6376556155083237,\n",
       " 'skew': 0.18224568453683496,\n",
       " 'kurtosis': 3.0747952385562636,\n",
       " 'omni': 1.1403999852814017,\n",
       " 'omnipv': 0.5654123490825906,\n",
       " 'condno': 31.229721453770164,\n",
       " 'mineigval': 40.14996367643264}"
      ]
     },
     "execution_count": 50,
     "metadata": {},
     "output_type": "execute_result"
    }
   ],
   "source": [
    "lm2.summary()\n",
    "lm2.diagn"
   ]
  },
  {
   "cell_type": "code",
   "execution_count": null,
   "id": "c99c1cd5-8aad-4281-8532-f3693f6fbab8",
   "metadata": {},
   "outputs": [],
   "source": []
  },
  {
   "cell_type": "markdown",
   "id": "ae6b4614-7265-433f-b6ad-306d72b37f24",
   "metadata": {},
   "source": [
    "## Model prediction accuracy"
   ]
  },
  {
   "cell_type": "markdown",
   "id": "2e8f3acc-9805-4f76-b91d-57889e76a6ea",
   "metadata": {},
   "source": [
    "### Prediction"
   ]
  },
  {
   "cell_type": "code",
   "execution_count": 51,
   "id": "d757fa73-23ec-4f1b-a5d2-38d6c7a7a6c0",
   "metadata": {},
   "outputs": [
    {
     "data": {
      "text/plain": [
       "0    68.177355\n",
       "dtype: float64"
      ]
     },
     "execution_count": 51,
     "metadata": {},
     "output_type": "execute_result"
    }
   ],
   "source": [
    "new_data = {\"alc\":3, \"weed\":1, \"exrc\":8}\n",
    "lm2.predict(new_data)"
   ]
  },
  {
   "cell_type": "code",
   "execution_count": 52,
   "id": "f89814a5-a976-47e2-85d3-118e5f376d2a",
   "metadata": {},
   "outputs": [],
   "source": [
    "pred_score = lm2.get_prediction(new_data)"
   ]
  },
  {
   "cell_type": "code",
   "execution_count": 53,
   "id": "210fc4d5-d608-4304-9ec3-b1a86ba6ad87",
   "metadata": {},
   "outputs": [
    {
     "data": {
      "text/plain": [
       "(array([68.17735504]), array([8.2626007]), array([[54.50324518, 81.85146489]]))"
      ]
     },
     "execution_count": 53,
     "metadata": {},
     "output_type": "execute_result"
    }
   ],
   "source": [
    "# observation  +  90% CI\n",
    "pred_score.predicted, pred_score.se_obs, pred_score.conf_int(obs=True, alpha=0.1)"
   ]
  },
  {
   "cell_type": "code",
   "execution_count": 54,
   "id": "46b8b5be-3322-409c-a157-1fe102067ae5",
   "metadata": {},
   "outputs": [],
   "source": [
    "# # ALT.\n",
    "# from scipy.stats import t as tdist\n",
    "# obs_dist = tdist(df=pred_score.df, loc=pred_score.predicted, scale=pred_score.se_obs)\n",
    "# obs_dist.ppf(0.05), obs_dist.ppf(0.95)"
   ]
  },
  {
   "cell_type": "code",
   "execution_count": 55,
   "id": "3ebe0c36-0edd-48f7-8b85-dac4f53d6fcf",
   "metadata": {},
   "outputs": [
    {
     "data": {
      "text/plain": [
       "(array([68.17735504]),\n",
       " array([0.99255508]),\n",
       " array([[66.53473577, 69.81997431]]))"
      ]
     },
     "execution_count": 55,
     "metadata": {},
     "output_type": "execute_result"
    }
   ],
   "source": [
    "pred_score.predicted_mean, pred_score.se_mean, pred_score.conf_int(obs=False, alpha=0.1)"
   ]
  },
  {
   "cell_type": "code",
   "execution_count": 56,
   "id": "1894fb4e-2003-427a-9217-9b57e8db365d",
   "metadata": {},
   "outputs": [],
   "source": [
    "# # ALT.\n",
    "# from scipy.stats import t as tdist\n",
    "# mean_dist = tdist(df=pred_score.df, loc=pred_score.predicted, scale=pred_score.se_mean)\n",
    "# mean_dist.ppf(0.05), mean_dist.ppf(0.95)"
   ]
  },
  {
   "cell_type": "code",
   "execution_count": null,
   "id": "aae9da68-af38-483a-988a-f63b9e3da229",
   "metadata": {},
   "outputs": [],
   "source": []
  },
  {
   "cell_type": "code",
   "execution_count": null,
   "id": "d91ef3ea-db7d-4260-a1b2-d12c6935116c",
   "metadata": {},
   "outputs": [],
   "source": []
  },
  {
   "cell_type": "markdown",
   "id": "e42e537e-ee05-45e7-8c54-92191d2e999a",
   "metadata": {},
   "source": [
    "### Out-of-sample prediction accuracy"
   ]
  },
  {
   "cell_type": "code",
   "execution_count": null,
   "id": "29cbf9a7-8cac-4dde-b2fd-65ad468fb3ac",
   "metadata": {},
   "outputs": [],
   "source": []
  },
  {
   "cell_type": "markdown",
   "id": "1f6df411-39d3-4319-9881-43c93f82f0e2",
   "metadata": {},
   "source": [
    "### Leave-one-out cross-validation"
   ]
  },
  {
   "cell_type": "code",
   "execution_count": null,
   "id": "76a2f93b-33dc-4096-a14d-7302644d8a21",
   "metadata": {},
   "outputs": [],
   "source": []
  },
  {
   "cell_type": "markdown",
   "id": "e0348a24-f8e8-47ad-8469-2d2e982447d0",
   "metadata": {},
   "source": [
    "### Regularization"
   ]
  },
  {
   "cell_type": "code",
   "execution_count": null,
   "id": "50d85b88-8182-4bda-adde-b36db2f39d0d",
   "metadata": {},
   "outputs": [],
   "source": []
  },
  {
   "cell_type": "code",
   "execution_count": null,
   "id": "d2d98334-4f24-43e3-89ff-37b652b5a8ed",
   "metadata": {},
   "outputs": [],
   "source": []
  },
  {
   "cell_type": "code",
   "execution_count": null,
   "id": "24b493d8-74a1-440f-92f5-751c463948fd",
   "metadata": {},
   "outputs": [],
   "source": []
  },
  {
   "cell_type": "markdown",
   "id": "2646b903-78e3-49dd-a842-eca06cca5c46",
   "metadata": {},
   "source": [
    "## Explanations"
   ]
  },
  {
   "cell_type": "code",
   "execution_count": null,
   "id": "b2f75008-dcee-43bd-b344-170ecf3f3cae",
   "metadata": {},
   "outputs": [],
   "source": []
  },
  {
   "cell_type": "markdown",
   "id": "485bfdba-5643-4bc5-a875-5c841d8f6173",
   "metadata": {},
   "source": [
    "## Discussion"
   ]
  },
  {
   "cell_type": "markdown",
   "id": "76146242-9817-4d66-aa7d-306644e69b17",
   "metadata": {},
   "source": [
    "### Resampling methods for regression"
   ]
  },
  {
   "cell_type": "code",
   "execution_count": null,
   "id": "2a7b0fa0-610a-4d35-85cc-7cafb8f2332f",
   "metadata": {},
   "outputs": [],
   "source": []
  },
  {
   "cell_type": "markdown",
   "id": "b83662cc-e7b6-4980-bc18-c3729436a9d9",
   "metadata": {},
   "source": [
    "### Towards machine learning\n",
    "\n",
    "The out-of-sample prediction accuracy is a common metric used in machine learning (ML) tasks."
   ]
  },
  {
   "cell_type": "code",
   "execution_count": null,
   "id": "9a661118-93f5-49cb-9b24-5c0006fdeec5",
   "metadata": {},
   "outputs": [],
   "source": []
  },
  {
   "cell_type": "markdown",
   "id": "b1194a86-6663-4ac8-ab40-e11749d4df91",
   "metadata": {},
   "source": [
    "## Exercises"
   ]
  },
  {
   "cell_type": "code",
   "execution_count": null,
   "id": "5209d912-19de-4e8e-9684-2d81f9524adb",
   "metadata": {},
   "outputs": [],
   "source": []
  },
  {
   "cell_type": "code",
   "execution_count": null,
   "id": "00b858d7-6ab7-48cf-837d-e1a09bd5eea8",
   "metadata": {},
   "outputs": [],
   "source": []
  },
  {
   "cell_type": "markdown",
   "id": "062c6f1b-9a08-4c3d-9d66-2b3a963a4652",
   "metadata": {},
   "source": [
    "## Links\n",
    "\n",
    "- More details about model checking\n",
    "  https://ethanweed.github.io/pythonbook/05.04-regression.html#model-checking\n",
    "- Statistical Modeling: The Two Cultures paper that explains the importance of out-of-sample predictions for statistical modelling.\n",
    "  https://projecteuclid.org/journals/statistical-science/volume-16/issue-3/Statistical-Modeling--The-Two-Cultures-with-comments-and-a/10.1214/ss/1009213726.full"
   ]
  },
  {
   "cell_type": "code",
   "execution_count": null,
   "id": "2114fb32-6996-4f3d-ae75-c7eda6c1fc0c",
   "metadata": {},
   "outputs": [],
   "source": []
  }
 ],
 "metadata": {
  "kernelspec": {
   "display_name": "Python 3 (ipykernel)",
   "language": "python",
   "name": "python3"
  },
  "language_info": {
   "codemirror_mode": {
    "name": "ipython",
    "version": 3
   },
   "file_extension": ".py",
   "mimetype": "text/x-python",
   "name": "python",
   "nbconvert_exporter": "python",
   "pygments_lexer": "ipython3",
   "version": "3.9.4"
  }
 },
 "nbformat": 4,
 "nbformat_minor": 5
}
