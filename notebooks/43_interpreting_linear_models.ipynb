{
 "cells": [
  {
   "cell_type": "markdown",
   "id": "3ec95fa0-da20-41dc-820e-2f33f262f4e2",
   "metadata": {
    "tags": []
   },
   "source": [
    "# Section 4.4 — Interpreting linear models\n",
    "\n",
    "This notebook contains the code examples from [Section 4.4 Interpreting linear models]() from the **No Bullshit Guide to Statistics**."
   ]
  },
  {
   "cell_type": "markdown",
   "id": "eb4d1856-22a1-4634-87d7-5fc091d93e12",
   "metadata": {
    "tags": []
   },
   "source": [
    "#### Notebook setup"
   ]
  },
  {
   "cell_type": "code",
   "execution_count": 1,
   "id": "0003a9e7-21c7-47a5-bdec-3bd3ca2a79f4",
   "metadata": {},
   "outputs": [],
   "source": [
    "# load Python modules\n",
    "import os\n",
    "import numpy as np\n",
    "import pandas as pd\n",
    "import seaborn as sns\n",
    "import matplotlib.pyplot as plt"
   ]
  },
  {
   "cell_type": "code",
   "execution_count": 2,
   "id": "8e67e0e7-4f48-4c48-a49d-3cdf22cbd014",
   "metadata": {},
   "outputs": [
    {
     "data": {
      "text/plain": [
       "<Figure size 640x480 with 0 Axes>"
      ]
     },
     "metadata": {},
     "output_type": "display_data"
    }
   ],
   "source": [
    "# Figures setup\n",
    "plt.clf()  # needed otherwise `sns.set_theme` doesn't work\n",
    "from plot_helpers import RCPARAMS\n",
    "RCPARAMS.update({'figure.figsize': (8, 5)})   # good for screen\n",
    "# RCPARAMS.update({'figure.figsize': (5, 1.6)})  # good for print\n",
    "sns.set_theme(\n",
    "    context=\"paper\",\n",
    "    style=\"whitegrid\",\n",
    "    palette=\"colorblind\",\n",
    "    rc=RCPARAMS,\n",
    ")\n",
    "\n",
    "# High-resolution please\n",
    "%config InlineBackend.figure_format = 'retina'\n",
    "\n",
    "# Where to store figures\n",
    "DESTDIR = \"figures/lm/interpreting\""
   ]
  },
  {
   "cell_type": "code",
   "execution_count": 3,
   "id": "efc0e89b-72bf-4658-8f8a-a3d85bee00b6",
   "metadata": {},
   "outputs": [],
   "source": [
    "# set random seed for repeatability\n",
    "np.random.seed(42)"
   ]
  },
  {
   "cell_type": "code",
   "execution_count": 4,
   "id": "4d67690c-bc4c-400c-9d49-cb7b3d31c894",
   "metadata": {},
   "outputs": [],
   "source": [
    "import statsmodels.formula.api as smf"
   ]
  },
  {
   "cell_type": "code",
   "execution_count": 5,
   "id": "bfe089b8-38a6-471b-839a-1f0eaf0cdd62",
   "metadata": {},
   "outputs": [],
   "source": [
    "# TODO: move to Sec 4.3\n",
    "# Model fit diagnostics and plots\n",
    "# influence = fit1.get_influence()\n",
    "# influence.summary_frame()\n",
    "\n",
    "# resid_studentized = influence.resid_studentized_internal\n",
    "# resid_studentized\n",
    "\n",
    "# fit1.outlier_test()\n",
    "# import statsmodels.api as sm\n",
    "# sm.graphics.influence_plot(fit1, criterion=\"cooks\");\n",
    "# sm.graphics.plot_ccpr(fit1, \"effort\");\n",
    "# sm.graphics.plot_regress_exog(fit1, \"effort\");"
   ]
  },
  {
   "cell_type": "code",
   "execution_count": 6,
   "id": "709070d1-324d-402f-a5cf-50134df5d2b7",
   "metadata": {},
   "outputs": [
    {
     "data": {
      "text/plain": [
       "Intercept    32.465809\n",
       "effort        4.504850\n",
       "dtype: float64"
      ]
     },
     "execution_count": 6,
     "metadata": {},
     "output_type": "execute_result"
    }
   ],
   "source": [
    "students = pd.read_csv(\"../datasets/students.csv\")\n",
    "\n",
    "model1 = smf.ols('score ~ 1 + effort', data=students)\n",
    "fit1 = model1.fit()\n",
    "\n",
    "# the coefficients of the best-fit line\n",
    "fit1.params"
   ]
  },
  {
   "cell_type": "code",
   "execution_count": 7,
   "id": "9946c5da-616f-43f9-967f-ad5c922d6c58",
   "metadata": {},
   "outputs": [
    {
     "data": {
      "text/plain": [
       "(0.7734103402591798, 0.7559803664329628)"
      ]
     },
     "execution_count": 7,
     "metadata": {},
     "output_type": "execute_result"
    }
   ],
   "source": [
    "fit1.rsquared, fit1.rsquared_adj"
   ]
  },
  {
   "cell_type": "code",
   "execution_count": 8,
   "id": "ad495e0a-ba71-4bf6-ba39-f35cfb19bacd",
   "metadata": {},
   "outputs": [
    {
     "data": {
      "text/plain": [
       "1078.2917900307098"
      ]
     },
     "execution_count": 8,
     "metadata": {},
     "output_type": "execute_result"
    }
   ],
   "source": [
    "# Explained sum of squares\n",
    "fit1.ess"
   ]
  },
  {
   "cell_type": "code",
   "execution_count": 9,
   "id": "45ae7aa7-1443-4103-a3fa-ecaf9c36e36e",
   "metadata": {},
   "outputs": [
    {
     "data": {
      "text/plain": [
       "21.060813997952703"
      ]
     },
     "execution_count": 9,
     "metadata": {},
     "output_type": "execute_result"
    }
   ],
   "source": [
    "fit1.ssr / 15"
   ]
  },
  {
   "cell_type": "code",
   "execution_count": null,
   "id": "a95eef1d-22cf-4386-983d-f06d06a09a5f",
   "metadata": {},
   "outputs": [],
   "source": []
  },
  {
   "cell_type": "code",
   "execution_count": 10,
   "id": "7e378bc2-4afd-4a44-9d98-5218983a3dfd",
   "metadata": {},
   "outputs": [
    {
     "data": {
      "text/plain": [
       "0     81.838969\n",
       "1     71.612959\n",
       "2     71.207522\n",
       "3     68.144224\n",
       "4     77.063828\n",
       "5     81.118193\n",
       "6     67.648690\n",
       "7     73.595093\n",
       "8     55.936080\n",
       "9     67.198205\n",
       "10    76.703440\n",
       "11    84.406734\n",
       "12    64.450247\n",
       "13    61.251803\n",
       "14    86.524013\n",
       "dtype: float64"
      ]
     },
     "execution_count": 10,
     "metadata": {},
     "output_type": "execute_result"
    }
   ],
   "source": [
    "fit1.fittedvalues\n",
    "# ALT. \n",
    "# fit1.predict(students[\"effort\"])"
   ]
  },
  {
   "cell_type": "markdown",
   "id": "fa1154fd-bddb-449a-95de-07bb6c6492a4",
   "metadata": {},
   "source": [
    "### Metrics "
   ]
  },
  {
   "cell_type": "code",
   "execution_count": 11,
   "id": "666c1619-a758-4094-bf78-4438dc57cb61",
   "metadata": {},
   "outputs": [],
   "source": [
    "from sklearn import metrics\n",
    "scores = students[\"score\"].values\n",
    "scoreshat = fit1.fittedvalues.values\n",
    "ybar = np.mean(scores)\n",
    "\n",
    "\n",
    "# TSS = Total Sum of Squares\n",
    "tss = sum( (scores-ybar)**2 ) \n",
    "# fit1.centered_tss, tss\n",
    "\n",
    "# SSR = Sum of Squares Residuals\n",
    "# ssr = sum( (scores-scoreshat)**2 )\n",
    "# ssr, fit1.ssr\n",
    "\n",
    "# ESS = Explained Sum of Squares\n",
    "# ess = sum( (scoreshat-ybar)**2 ) \n",
    "# fit1.ess, ess\n",
    "\n",
    "# R^2\n",
    "# metrics.r2_score(scores, scoreshat), fit1.rsquared, 1-fit1.ssr/tss, fit1.ess/tss\n",
    "\n",
    "# MSE\n",
    "# metrics.mean_squared_error(scores, scoreshat), fit1.ssr/15\n",
    "\n",
    "# RMSE\n",
    "# metrics.root_mean_squared_error(scores, scoreshat), np.sqrt(fit1.ssr/15)\n",
    "\n",
    "# MAPE\n",
    "# metrics.mean_absolute_percentage_error(scores, scoreshat)\n",
    "\n",
    "# MAE\n",
    "# metrics.mean_absolute_error(scores, scoreshat)\n",
    "\n",
    "# Mean squared error the model\n",
    "# The explained sum of squares divided by the model degrees of freedom\n",
    "# fit1.mse_model, fit1.ess/1\n",
    "\n",
    "# Mean squared error of the residuals\n",
    "# The sum of squared residuals divided by the residual degrees of freedom.\n",
    "# fit1.mse_resid, fit1.ssr/(15-2)\n",
    "\n",
    "# Total mean squared error\n",
    "# The uncentered total sum of squares divided by the number of observations.\n",
    "# fit1.mse_total, tss/(15-1)"
   ]
  },
  {
   "cell_type": "code",
   "execution_count": null,
   "id": "ceca316a-0779-4ca6-a520-1f60a78ecf99",
   "metadata": {},
   "outputs": [],
   "source": []
  },
  {
   "cell_type": "markdown",
   "id": "40ad678b-fea9-4ece-8215-34d680ea09ff",
   "metadata": {},
   "source": [
    "## Confidence intervals"
   ]
  },
  {
   "cell_type": "code",
   "execution_count": 12,
   "id": "cc18bf04-b411-45ce-b485-daabc1d4d9f4",
   "metadata": {},
   "outputs": [
    {
     "data": {
      "text/plain": [
       "Intercept    32.465809\n",
       "effort        4.504850\n",
       "dtype: float64"
      ]
     },
     "execution_count": 12,
     "metadata": {},
     "output_type": "execute_result"
    }
   ],
   "source": [
    "# estimated parameters\n",
    "fit1.params"
   ]
  },
  {
   "cell_type": "code",
   "execution_count": 13,
   "id": "8d16b640-40e9-4398-9b7d-4e24ee93bc3e",
   "metadata": {},
   "outputs": [
    {
     "data": {
      "text/plain": [
       "Intercept    6.155051\n",
       "effort       0.676276\n",
       "dtype: float64"
      ]
     },
     "execution_count": 13,
     "metadata": {},
     "output_type": "execute_result"
    }
   ],
   "source": [
    "# standard errors\n",
    "fit1.bse"
   ]
  },
  {
   "cell_type": "code",
   "execution_count": null,
   "id": "13c52bc1-6edc-4784-8fa6-b7655e65e0d5",
   "metadata": {},
   "outputs": [],
   "source": []
  },
  {
   "cell_type": "markdown",
   "id": "37961df4-ae0a-44ef-91b1-60b57e80dc30",
   "metadata": {},
   "source": [
    "## Hypothesis testing"
   ]
  },
  {
   "cell_type": "code",
   "execution_count": 14,
   "id": "bb52ddcb-26fa-40da-8cbe-accb9ff89d55",
   "metadata": {},
   "outputs": [
    {
     "data": {
      "text/plain": [
       "Intercept    5.274661\n",
       "effort       6.661264\n",
       "dtype: float64"
      ]
     },
     "execution_count": 14,
     "metadata": {},
     "output_type": "execute_result"
    }
   ],
   "source": [
    "fit1.tvalues"
   ]
  },
  {
   "cell_type": "code",
   "execution_count": 15,
   "id": "9620c62e-83e3-4c3f-ac63-f98490b20641",
   "metadata": {},
   "outputs": [
    {
     "data": {
      "text/plain": [
       "13.0"
      ]
     },
     "execution_count": 15,
     "metadata": {},
     "output_type": "execute_result"
    }
   ],
   "source": [
    "fit1.df_resid"
   ]
  },
  {
   "cell_type": "code",
   "execution_count": 16,
   "id": "080040a4-32ed-4f18-96db-875aefef05ec",
   "metadata": {},
   "outputs": [
    {
     "data": {
      "text/plain": [
       "Intercept    0.000150\n",
       "effort       0.000016\n",
       "dtype: float64"
      ]
     },
     "execution_count": 16,
     "metadata": {},
     "output_type": "execute_result"
    }
   ],
   "source": [
    "fit1.pvalues"
   ]
  },
  {
   "cell_type": "code",
   "execution_count": 17,
   "id": "75ccf902-763b-47ea-a071-2ee5030a14ac",
   "metadata": {},
   "outputs": [],
   "source": [
    "# to reproduce `effort` p-value\n",
    "# from scipy.stats import t as tdist\n",
    "# 2*(1-tdist(df=fit1.df_resid).cdf(fit1.tvalues[\"effort\"]))"
   ]
  },
  {
   "cell_type": "code",
   "execution_count": null,
   "id": "4e336d4a-d41d-4458-84f1-ac5a6bfdb299",
   "metadata": {},
   "outputs": [],
   "source": []
  },
  {
   "cell_type": "code",
   "execution_count": null,
   "id": "c99c1cd5-8aad-4281-8532-f3693f6fbab8",
   "metadata": {},
   "outputs": [],
   "source": []
  },
  {
   "cell_type": "markdown",
   "id": "2e8f3acc-9805-4f76-b91d-57889e76a6ea",
   "metadata": {},
   "source": [
    "## Prediction"
   ]
  },
  {
   "cell_type": "code",
   "execution_count": 18,
   "id": "d757fa73-23ec-4f1b-a5d2-38d6c7a7a6c0",
   "metadata": {},
   "outputs": [
    {
     "data": {
      "text/plain": [
       "0    63.999762\n",
       "dtype: float64"
      ]
     },
     "execution_count": 18,
     "metadata": {},
     "output_type": "execute_result"
    }
   ],
   "source": [
    "new_data = {\"effort\": 7}\n",
    "fit1.predict(new_data)"
   ]
  },
  {
   "cell_type": "code",
   "execution_count": 19,
   "id": "f89814a5-a976-47e2-85d3-118e5f376d2a",
   "metadata": {},
   "outputs": [],
   "source": [
    "pred_score = fit1.get_prediction(new_data)\n"
   ]
  },
  {
   "cell_type": "code",
   "execution_count": 20,
   "id": "210fc4d5-d608-4304-9ec3-b1a86ba6ad87",
   "metadata": {},
   "outputs": [
    {
     "data": {
      "text/plain": [
       "(array([63.99976171]),\n",
       " array([5.25168079]),\n",
       " array([[54.69938482, 73.30013861]]))"
      ]
     },
     "execution_count": 20,
     "metadata": {},
     "output_type": "execute_result"
    }
   ],
   "source": [
    "# observation  +  90% CI\n",
    "pred_score.predicted, pred_score.se_obs, pred_score.conf_int(obs=True, alpha=0.1)"
   ]
  },
  {
   "cell_type": "code",
   "execution_count": 21,
   "id": "46b8b5be-3322-409c-a157-1fe102067ae5",
   "metadata": {},
   "outputs": [],
   "source": [
    "# # ALT.\n",
    "# from scipy.stats import t as tdist\n",
    "# obs_dist = tdist(df=pred_score.df, loc=pred_score.predicted, scale=pred_score.se_obs)\n",
    "# obs_dist.ppf(0.05), obs_dist.ppf(0.95)"
   ]
  },
  {
   "cell_type": "code",
   "execution_count": 22,
   "id": "3ebe0c36-0edd-48f7-8b85-dac4f53d6fcf",
   "metadata": {},
   "outputs": [
    {
     "data": {
      "text/plain": [
       "(array([63.99976171]),\n",
       " array([1.81085943]),\n",
       " array([[60.79285027, 67.20667315]]))"
      ]
     },
     "execution_count": 22,
     "metadata": {},
     "output_type": "execute_result"
    }
   ],
   "source": [
    "pred_score.predicted_mean, pred_score.se_mean, pred_score.conf_int(obs=False, alpha=0.1)"
   ]
  },
  {
   "cell_type": "code",
   "execution_count": 23,
   "id": "1894fb4e-2003-427a-9217-9b57e8db365d",
   "metadata": {},
   "outputs": [],
   "source": [
    "# # ALT.\n",
    "# from scipy.stats import t as tdist\n",
    "# mean_dist = tdist(df=pred_score.df, loc=pred_score.predicted, scale=pred_score.se_mean)\n",
    "# mean_dist.ppf(0.05), mean_dist.ppf(0.95)"
   ]
  },
  {
   "cell_type": "code",
   "execution_count": null,
   "id": "aae9da68-af38-483a-988a-f63b9e3da229",
   "metadata": {},
   "outputs": [],
   "source": []
  },
  {
   "cell_type": "code",
   "execution_count": 24,
   "id": "8f7d4d46-07fe-4970-9b82-598efccb4ef8",
   "metadata": {},
   "outputs": [
    {
     "data": {
      "text/plain": [
       "(array([63.99976171]), array([[54.69938482, 73.30013861]]))"
      ]
     },
     "execution_count": 24,
     "metadata": {},
     "output_type": "execute_result"
    }
   ],
   "source": [
    "pred_score.predicted, pred_score.conf_int(alpha=0.1, obs=True)"
   ]
  },
  {
   "cell_type": "code",
   "execution_count": 25,
   "id": "ef2e666d-364c-4733-bbd0-5267fe427004",
   "metadata": {},
   "outputs": [
    {
     "data": {
      "text/plain": [
       "(array([63.7677199]), array([64.23180352]))"
      ]
     },
     "execution_count": 25,
     "metadata": {},
     "output_type": "execute_result"
    }
   ],
   "source": [
    "from scipy.stats import t as tdist\n",
    "tdist(df=pred_score.df, loc=pred_score.predicted, scale=pred_score.se_mean).interval(0.1)"
   ]
  },
  {
   "cell_type": "code",
   "execution_count": null,
   "id": "d91ef3ea-db7d-4260-a1b2-d12c6935116c",
   "metadata": {},
   "outputs": [],
   "source": []
  },
  {
   "cell_type": "code",
   "execution_count": null,
   "id": "524cd797-5104-4eee-b340-db4342caee82",
   "metadata": {},
   "outputs": [],
   "source": []
  },
  {
   "cell_type": "code",
   "execution_count": null,
   "id": "50d85b88-8182-4bda-adde-b36db2f39d0d",
   "metadata": {},
   "outputs": [],
   "source": []
  },
  {
   "cell_type": "code",
   "execution_count": null,
   "id": "d2d98334-4f24-43e3-89ff-37b652b5a8ed",
   "metadata": {},
   "outputs": [],
   "source": []
  }
 ],
 "metadata": {
  "kernelspec": {
   "display_name": "Python 3 (ipykernel)",
   "language": "python",
   "name": "python3"
  },
  "language_info": {
   "codemirror_mode": {
    "name": "ipython",
    "version": 3
   },
   "file_extension": ".py",
   "mimetype": "text/x-python",
   "name": "python",
   "nbconvert_exporter": "python",
   "pygments_lexer": "ipython3",
   "version": "3.9.4"
  }
 },
 "nbformat": 4,
 "nbformat_minor": 5
}
