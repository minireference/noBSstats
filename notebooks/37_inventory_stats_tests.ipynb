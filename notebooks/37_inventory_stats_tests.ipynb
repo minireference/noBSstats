{
 "cells": [
  {
   "cell_type": "markdown",
   "id": "b73f3d18-88c7-499d-90a3-dd6954247cf3",
   "metadata": {
    "tags": []
   },
   "source": [
    "# Section 3.7 — Inventory of statistical tests\n",
    "\n",
    "This notebook contains the code examples from [Section 3.7 Inventory of statistical tests]() from the **No Bullshit Guide to Statistics**."
   ]
  },
  {
   "cell_type": "markdown",
   "id": "efce8e91-8824-4103-a526-02e23c794668",
   "metadata": {
    "tags": []
   },
   "source": [
    "#### Notebook setup"
   ]
  },
  {
   "cell_type": "code",
   "execution_count": 2,
   "id": "990de07d-c26f-4a29-935a-2b1dacc89b34",
   "metadata": {},
   "outputs": [],
   "source": [
    "# load Python modules\n",
    "import os\n",
    "import numpy as np\n",
    "import pandas as pd\n",
    "import seaborn as sns\n",
    "import matplotlib.pyplot as plt"
   ]
  },
  {
   "cell_type": "code",
   "execution_count": 3,
   "id": "09c5c296-f060-4d6d-af26-42243271bb59",
   "metadata": {},
   "outputs": [],
   "source": [
    "# Plot helper functions\n",
    "from plot_helpers import plot_pdf\n",
    "from plot_helpers import savefigure"
   ]
  },
  {
   "cell_type": "code",
   "execution_count": 4,
   "id": "3209c5be-cb6a-42c0-8bf8-949a4fc0ff39",
   "metadata": {},
   "outputs": [
    {
     "data": {
      "text/plain": [
       "<Figure size 640x480 with 0 Axes>"
      ]
     },
     "metadata": {},
     "output_type": "display_data"
    }
   ],
   "source": [
    "# Figures setup\n",
    "plt.clf()  # needed otherwise `sns.set_theme` doesn't work\n",
    "from plot_helpers import RCPARAMS\n",
    "RCPARAMS.update({'figure.figsize': (10, 3)})   # good for screen\n",
    "# RCPARAMS.update({'figure.figsize': (5, 1.6)})  # good for print\n",
    "sns.set_theme(\n",
    "    context=\"paper\",\n",
    "    style=\"whitegrid\",\n",
    "    palette=\"colorblind\",\n",
    "    rc=RCPARAMS,\n",
    ")\n",
    "\n",
    "# Useful colors\n",
    "snspal = sns.color_palette()\n",
    "blue, orange, purple = snspal[0], snspal[1], snspal[4]\n",
    "\n",
    "# High-resolution please\n",
    "%config InlineBackend.figure_format = 'retina'\n",
    "\n",
    "# Where to store figures\n",
    "DESTDIR = \"figures/stats/inventory\""
   ]
  },
  {
   "cell_type": "code",
   "execution_count": 5,
   "id": "df22d8d7-6814-4c3b-a3d3-2f31ab6b2f3b",
   "metadata": {},
   "outputs": [],
   "source": [
    "# set random seed for repeatability\n",
    "np.random.seed(42)"
   ]
  },
  {
   "cell_type": "code",
   "execution_count": 6,
   "id": "0094bec0-5f8e-4491-895f-17088545a5c3",
   "metadata": {},
   "outputs": [],
   "source": [
    "#######################################################"
   ]
  },
  {
   "cell_type": "markdown",
   "id": "0006d8b9-27c7-4b84-833f-473c69701aa1",
   "metadata": {},
   "source": [
    "## Definitions"
   ]
  },
  {
   "cell_type": "code",
   "execution_count": null,
   "id": "17976ab8-6ecf-422f-8521-2b6446ad54fd",
   "metadata": {},
   "outputs": [],
   "source": []
  },
  {
   "cell_type": "markdown",
   "id": "60f5efec-6d61-4eec-834f-2c8b12030989",
   "metadata": {},
   "source": [
    "## Assumptions"
   ]
  },
  {
   "cell_type": "code",
   "execution_count": null,
   "id": "ee650d35-27a6-4050-bfe8-56017e55cbd3",
   "metadata": {},
   "outputs": [],
   "source": []
  },
  {
   "cell_type": "markdown",
   "id": "c4a32cef-fed2-4672-a734-7d33e62ec492",
   "metadata": {},
   "source": [
    "## NHST procedure"
   ]
  },
  {
   "cell_type": "code",
   "execution_count": null,
   "id": "bafa7109-63e2-40f4-bbf0-f673e61af997",
   "metadata": {},
   "outputs": [],
   "source": []
  },
  {
   "cell_type": "markdown",
   "id": "6b2b017e-1504-4efe-98d3-d6bb2ec5d014",
   "metadata": {},
   "source": [
    "## Categorization of statistical test recipes"
   ]
  },
  {
   "cell_type": "code",
   "execution_count": null,
   "id": "7ea8367d-c0d9-4191-b9ee-4dd837ad863f",
   "metadata": {},
   "outputs": [],
   "source": []
  },
  {
   "cell_type": "code",
   "execution_count": null,
   "id": "18577713-c9da-4744-ab40-5e6919f12ea1",
   "metadata": {},
   "outputs": [],
   "source": []
  },
  {
   "cell_type": "markdown",
   "id": "dd80b2e4-4bfd-4518-b829-6c2a81180702",
   "metadata": {},
   "source": [
    "## Proportion tests\n",
    "### One proportion z-test\n",
    "### Binomial test?\n",
    "### Two proportions z-test"
   ]
  },
  {
   "cell_type": "code",
   "execution_count": null,
   "id": "a1536dd7-7a0e-4b04-9a3a-27ee53b2a5d6",
   "metadata": {},
   "outputs": [],
   "source": []
  },
  {
   "cell_type": "markdown",
   "id": "e48b5bc1-e7fe-4ea3-b010-805fd62ce6ee",
   "metadata": {},
   "source": [
    "## T-tests\n",
    "### One sample t-test\n",
    "### Welch's t-test (explain pooled variance as special case \"Two sample t-test\")\n",
    "### Two sample paired t-test"
   ]
  },
  {
   "cell_type": "code",
   "execution_count": null,
   "id": "8671588d-3913-49de-b7a6-945923629180",
   "metadata": {},
   "outputs": [],
   "source": []
  },
  {
   "cell_type": "markdown",
   "id": "446aadeb-8634-40e9-b44e-125c65260392",
   "metadata": {},
   "source": [
    "## Chi-square tests\n",
    "### Chi square test for goodness of fit\n",
    "### Chi square test of independence\n",
    "### Chi square test for homogeneity\n",
    "### Chi square test for variance (numeric)"
   ]
  },
  {
   "cell_type": "code",
   "execution_count": null,
   "id": "a10ae0b1-c0be-4374-93fa-002063ec2db5",
   "metadata": {},
   "outputs": [],
   "source": []
  },
  {
   "cell_type": "markdown",
   "id": "bf3d14b3-46fe-4a32-a1dd-49b27aa99328",
   "metadata": {},
   "source": [
    "## ANOVA tests\n",
    "### One way ANOVA\n",
    "### One-way repeated measures ANOVA\n",
    "### Two-way ANOVA"
   ]
  },
  {
   "cell_type": "code",
   "execution_count": null,
   "id": "acedaebc-0b63-459c-995e-75e171ecae8e",
   "metadata": {},
   "outputs": [],
   "source": []
  },
  {
   "cell_type": "markdown",
   "id": "85f49a76-c7b0-453a-b7e7-84fea9356770",
   "metadata": {},
   "source": [
    "## Nonparametric tests\n",
    "Use when assumptions for other tests not valid\n",
    "### Wilcoxon rank sum test\n",
    "### Wilcoxon matched-pairs signed-rank\n",
    "### Wilcoxon signed rank test"
   ]
  },
  {
   "cell_type": "code",
   "execution_count": null,
   "id": "e87ae770-32a9-4123-af97-6e83f325f8cf",
   "metadata": {},
   "outputs": [],
   "source": []
  },
  {
   "cell_type": "markdown",
   "id": "39d31627-bec0-4cc1-bbc7-28dccac4b7cb",
   "metadata": {},
   "source": [
    "## Explanations"
   ]
  },
  {
   "cell_type": "code",
   "execution_count": null,
   "id": "13846dee-2b78-4028-acbe-261489780081",
   "metadata": {},
   "outputs": [],
   "source": []
  },
  {
   "cell_type": "markdown",
   "id": "78c4434b-5ba6-451d-be1d-474f6f356e17",
   "metadata": {},
   "source": [
    "## Discussion"
   ]
  },
  {
   "cell_type": "code",
   "execution_count": null,
   "id": "bc5592c9-4393-413a-a9ff-9931b1786e84",
   "metadata": {},
   "outputs": [],
   "source": []
  },
  {
   "cell_type": "markdown",
   "id": "48e951d7-28e7-47a2-ad6c-dccf9d267b3f",
   "metadata": {},
   "source": [
    "## Exercises"
   ]
  },
  {
   "cell_type": "code",
   "execution_count": null,
   "id": "d3d8cb3a-db73-407d-bbbe-323c1bec7cb5",
   "metadata": {},
   "outputs": [],
   "source": []
  },
  {
   "cell_type": "markdown",
   "id": "ea6b1102-5175-4f59-b4b3-2870270c05eb",
   "metadata": {},
   "source": [
    "## Links"
   ]
  },
  {
   "cell_type": "code",
   "execution_count": null,
   "id": "53a74347-a1ee-4bf0-9e08-67441a0a4017",
   "metadata": {},
   "outputs": [],
   "source": []
  }
 ],
 "metadata": {
  "kernelspec": {
   "display_name": "Python 3 (ipykernel)",
   "language": "python",
   "name": "python3"
  },
  "language_info": {
   "codemirror_mode": {
    "name": "ipython",
    "version": 3
   },
   "file_extension": ".py",
   "mimetype": "text/x-python",
   "name": "python",
   "nbconvert_exporter": "python",
   "pygments_lexer": "ipython3",
   "version": "3.9.4"
  }
 },
 "nbformat": 4,
 "nbformat_minor": 5
}
