{
 "cells": [
  {
   "cell_type": "markdown",
   "id": "b73f3d18-88c7-499d-90a3-dd6954247cf3",
   "metadata": {
    "tags": []
   },
   "source": [
    "# Section 3.7 — Inventory of statistical tests\n",
    "\n",
    "This notebook contains the code examples from [Section 3.7 Inventory of statistical tests]() from the **No Bullshit Guide to Statistics**."
   ]
  },
  {
   "cell_type": "markdown",
   "id": "efce8e91-8824-4103-a526-02e23c794668",
   "metadata": {
    "tags": []
   },
   "source": [
    "#### Notebook setup"
   ]
  },
  {
   "cell_type": "code",
   "execution_count": 1,
   "id": "990de07d-c26f-4a29-935a-2b1dacc89b34",
   "metadata": {},
   "outputs": [],
   "source": [
    "# load Python modules\n",
    "import os\n",
    "import numpy as np\n",
    "import pandas as pd\n",
    "import seaborn as sns\n",
    "import matplotlib.pyplot as plt"
   ]
  },
  {
   "cell_type": "code",
   "execution_count": 2,
   "id": "09c5c296-f060-4d6d-af26-42243271bb59",
   "metadata": {},
   "outputs": [],
   "source": [
    "# Plot helper functions\n",
    "from ministats import plot_pdf"
   ]
  },
  {
   "cell_type": "code",
   "execution_count": 3,
   "id": "3209c5be-cb6a-42c0-8bf8-949a4fc0ff39",
   "metadata": {},
   "outputs": [
    {
     "data": {
      "text/plain": [
       "<Figure size 640x480 with 0 Axes>"
      ]
     },
     "metadata": {},
     "output_type": "display_data"
    }
   ],
   "source": [
    "# Figures setup\n",
    "plt.clf()  # needed otherwise `sns.set_theme` doesn't work\n",
    "from plot_helpers import RCPARAMS\n",
    "RCPARAMS.update({'figure.figsize': (10, 3)})   # good for screen\n",
    "# RCPARAMS.update({'figure.figsize': (5, 1.6)})  # good for print\n",
    "sns.set_theme(\n",
    "    context=\"paper\",\n",
    "    style=\"whitegrid\",\n",
    "    palette=\"colorblind\",\n",
    "    rc=RCPARAMS,\n",
    ")\n",
    "\n",
    "# Useful colors\n",
    "snspal = sns.color_palette()\n",
    "blue, orange, purple = snspal[0], snspal[1], snspal[4]\n",
    "\n",
    "# High-resolution please\n",
    "%config InlineBackend.figure_format = 'retina'\n",
    "\n",
    "# Where to store figures\n",
    "DESTDIR = \"figures/stats/inventory\""
   ]
  },
  {
   "cell_type": "code",
   "execution_count": 4,
   "id": "df22d8d7-6814-4c3b-a3d3-2f31ab6b2f3b",
   "metadata": {},
   "outputs": [],
   "source": [
    "# set random seed for repeatability\n",
    "np.random.seed(42)"
   ]
  },
  {
   "cell_type": "code",
   "execution_count": 5,
   "id": "0094bec0-5f8e-4491-895f-17088545a5c3",
   "metadata": {},
   "outputs": [],
   "source": [
    "#######################################################"
   ]
  },
  {
   "cell_type": "markdown",
   "id": "0006d8b9-27c7-4b84-833f-473c69701aa1",
   "metadata": {},
   "source": [
    "## Definitions"
   ]
  },
  {
   "cell_type": "code",
   "execution_count": null,
   "id": "17976ab8-6ecf-422f-8521-2b6446ad54fd",
   "metadata": {},
   "outputs": [],
   "source": []
  },
  {
   "cell_type": "markdown",
   "id": "60f5efec-6d61-4eec-834f-2c8b12030989",
   "metadata": {},
   "source": [
    "## Assumptions"
   ]
  },
  {
   "cell_type": "code",
   "execution_count": null,
   "id": "ee650d35-27a6-4050-bfe8-56017e55cbd3",
   "metadata": {},
   "outputs": [],
   "source": []
  },
  {
   "cell_type": "markdown",
   "id": "c4a32cef-fed2-4672-a734-7d33e62ec492",
   "metadata": {},
   "source": [
    "## NHST procedure"
   ]
  },
  {
   "cell_type": "code",
   "execution_count": null,
   "id": "bafa7109-63e2-40f4-bbf0-f673e61af997",
   "metadata": {},
   "outputs": [],
   "source": []
  },
  {
   "cell_type": "markdown",
   "id": "6b2b017e-1504-4efe-98d3-d6bb2ec5d014",
   "metadata": {},
   "source": [
    "## Categorization of statistical test recipes"
   ]
  },
  {
   "cell_type": "code",
   "execution_count": null,
   "id": "7ea8367d-c0d9-4191-b9ee-4dd837ad863f",
   "metadata": {},
   "outputs": [],
   "source": []
  },
  {
   "cell_type": "markdown",
   "id": "6f130cde-89cf-42da-811e-b3eddc4e9110",
   "metadata": {},
   "source": [
    "## Z-Tests"
   ]
  },
  {
   "cell_type": "markdown",
   "id": "fa73645b-e1d8-4f7b-a4e8-e1934b4b0eee",
   "metadata": {},
   "source": [
    "### One-sample $z$-test\n",
    "\n",
    "See the [examples/one_sample_z-test.ipynb](../examples/one_sample_z-test.ipynb) notebook."
   ]
  },
  {
   "cell_type": "markdown",
   "id": "dd80b2e4-4bfd-4518-b829-6c2a81180702",
   "metadata": {},
   "source": [
    "## Proportion tests\n",
    "### One-sample $z$-test for proportions\n",
    "### Binomial test\n",
    "### Two-sample $z$-test for proportions"
   ]
  },
  {
   "cell_type": "code",
   "execution_count": 6,
   "id": "a1536dd7-7a0e-4b04-9a3a-27ee53b2a5d6",
   "metadata": {},
   "outputs": [],
   "source": [
    "from statsmodels.stats.proportion import proportions_ztest"
   ]
  },
  {
   "cell_type": "markdown",
   "id": "ba53e1c4-cae1-426d-b1b8-0d457f75a199",
   "metadata": {},
   "source": [
    "## T-tests\n",
    "### One sample $t$-test\n",
    "\n",
    "See the [examples/one_sample_t-test.ipynb](../examples/one_sample_t-test.ipynb) notebook."
   ]
  },
  {
   "cell_type": "markdown",
   "id": "e30250f5-65f4-45e9-9b25-16fa54b19415",
   "metadata": {},
   "source": [
    "### Welch's two-sample $t$-test\n",
    "\n",
    "(explain pooled variance as special case \"Two sample t-test\", but inferior)"
   ]
  },
  {
   "cell_type": "markdown",
   "id": "df5b405a-ff4c-407d-9d98-3db15e2c6dea",
   "metadata": {},
   "source": [
    "### Paired $t$-test"
   ]
  },
  {
   "cell_type": "markdown",
   "id": "43949394-2804-4ff0-95e4-3c767ccf650c",
   "metadata": {},
   "source": [
    "## Chi-square tests"
   ]
  },
  {
   "cell_type": "markdown",
   "id": "ea488998-c741-4fb3-bef8-2c0e379dbd47",
   "metadata": {},
   "source": [
    "### Chi-square test for goodness of fit"
   ]
  },
  {
   "cell_type": "markdown",
   "id": "fb874467-4530-47d2-987f-d6a8491a3e21",
   "metadata": {},
   "source": [
    "#### Example: are digits of $\\pi$ random?"
   ]
  },
  {
   "cell_type": "code",
   "execution_count": 7,
   "id": "a73017db-cdc1-48d9-bbbc-c198b156d4ae",
   "metadata": {},
   "outputs": [
    {
     "data": {
      "text/plain": [
       "Power_divergenceResult(statistic=5.51852, pvalue=0.7869706202650393)"
      ]
     },
     "execution_count": 7,
     "metadata": {},
     "output_type": "execute_result"
    }
   ],
   "source": [
    "pidigits = [99959,  99757, 100026, 100230, 100230, 100359,  99548,  99800, 99985, 100106]\n",
    "# obtained using   np.bincount(list(str(sympy.N(sympy.pi, 1_000_000)).replace('.','')))\n",
    "\n",
    "os = pidigits           # observed\n",
    "es = [1_000_000/10]*10  # expected (uniform)\n",
    "\n",
    "from scipy.stats import chisquare\n",
    "chisquare(f_obs=os, f_exp=es)"
   ]
  },
  {
   "cell_type": "markdown",
   "id": "6d77685a-21d4-4880-8c7f-bc6157072cc0",
   "metadata": {},
   "source": [
    "See original blog post for useful historical context about this\n",
    "https://probabilityandstats.wordpress.com/2017/03/14/are-digits-of-pi-random/"
   ]
  },
  {
   "cell_type": "markdown",
   "id": "d8347ac2-58b9-4a59-81b9-e977fb4d4344",
   "metadata": {},
   "source": [
    "### Chi-square test of independence"
   ]
  },
  {
   "cell_type": "markdown",
   "id": "7f7ffac9-edb7-4aba-8049-dffb3133068a",
   "metadata": {},
   "source": [
    "### Chi-square test for homogeneity"
   ]
  },
  {
   "cell_type": "markdown",
   "id": "06daaac7-9360-4bdb-b628-02acf298a02d",
   "metadata": {},
   "source": [
    "### Chi-square test for the population variance"
   ]
  },
  {
   "cell_type": "markdown",
   "id": "d7b8903a-ceb5-43e4-a55c-59cf02c218d8",
   "metadata": {},
   "source": [
    "## Analysis of variance (ANOVA) tests"
   ]
  },
  {
   "cell_type": "markdown",
   "id": "a6d34d15-d6b0-402f-9b4f-731420a7245e",
   "metadata": {},
   "source": [
    "### One-way analysis of variance (ANOVA)"
   ]
  },
  {
   "cell_type": "markdown",
   "id": "d81f6809-8e80-4b6e-bb79-61b3e7097a1d",
   "metadata": {},
   "source": [
    "### Two-way ANOVA"
   ]
  },
  {
   "cell_type": "markdown",
   "id": "5b2c72cb-214e-4a6c-9b94-4cdd7d8dad9f",
   "metadata": {},
   "source": [
    "## Nonparametric tests\n",
    "Use when assumptions for other tests not valid"
   ]
  },
  {
   "cell_type": "markdown",
   "id": "2aa6fcdc-4c1c-45f1-b804-80dcea703123",
   "metadata": {},
   "source": [
    "### Sign test for the population median\n",
    "\n",
    "via https://vitalflux.com/sign-test-hypothesis-python-examples/"
   ]
  },
  {
   "cell_type": "code",
   "execution_count": 8,
   "id": "cf9dbb50-cae5-412f-af6f-54c8d38d58d5",
   "metadata": {},
   "outputs": [
    {
     "data": {
      "text/plain": [
       "BinomTestResult(k=6, n=15, alternative='two-sided', statistic=0.4, pvalue=0.6072387695312499)"
      ]
     },
     "execution_count": 8,
     "metadata": {},
     "output_type": "execute_result"
    }
   ],
   "source": [
    "from scipy.stats import binomtest\n",
    "\n",
    "n_pos = 6\n",
    "n_neg = 9\n",
    "n_min = min(n_pos, n_neg)\n",
    "n_tot = n_pos + n_neg\n",
    "\n",
    "# Calculate p-value (two-tailed) using the binomial test\n",
    "binomtest(k=n_min, n=n_tot, p=0.5, alternative='two-sided')"
   ]
  },
  {
   "cell_type": "code",
   "execution_count": 9,
   "id": "12fc9ecf-cff5-4634-a474-a27e46a24427",
   "metadata": {},
   "outputs": [
    {
     "data": {
      "text/plain": [
       "BinomTestResult(k=9, n=15, alternative='two-sided', statistic=0.6, pvalue=0.6072387695312499)"
      ]
     },
     "execution_count": 9,
     "metadata": {},
     "output_type": "execute_result"
    }
   ],
   "source": [
    "n_max = max(n_pos, n_neg)\n",
    "binomtest(k=n_max, n=n_tot, p=0.5, alternative='two-sided')"
   ]
  },
  {
   "cell_type": "markdown",
   "id": "d3b320a6-76b3-4e95-ae40-3ee2a8eeeb23",
   "metadata": {},
   "source": [
    "### One-sample Wilcoxon signed-rank test"
   ]
  },
  {
   "cell_type": "markdown",
   "id": "230382b3-e8a4-4d5c-9761-bac91c4aefc9",
   "metadata": {},
   "source": [
    "### Mann-Whitney U-test\n",
    "\n",
    "example via https://www.reneshbedre.com/blog/mann-whitney-u-test.html"
   ]
  },
  {
   "cell_type": "code",
   "execution_count": 18,
   "id": "eaea4fca-3d1f-41c3-978b-7d984ed17e30",
   "metadata": {},
   "outputs": [],
   "source": [
    "# dfw = pd.read_csv(\"https://reneshbedre.github.io/assets/posts/mann_whitney/genotype.csv\")\n",
    "# dfw.shape\n",
    "# dfw"
   ]
  },
  {
   "cell_type": "code",
   "execution_count": 17,
   "id": "92052071-c688-4871-a4a1-d8832c5a06ab",
   "metadata": {},
   "outputs": [],
   "source": [
    "# from scipy.stats import mannwhitneyu\n",
    "# mannwhitneyu(x=dfw[\"A\"], y=dfw[\"B\"], alternative=\"two-sided\")"
   ]
  },
  {
   "cell_type": "markdown",
   "id": "a73fd0c1-c058-435c-ad7b-5562613a101a",
   "metadata": {},
   "source": [
    "### Kruskal-Wallis analysis of variance by ranks"
   ]
  },
  {
   "cell_type": "markdown",
   "id": "264e1f3a-ca3f-4725-b8e2-3b0cde3583aa",
   "metadata": {},
   "source": [
    "## Resampling methods"
   ]
  },
  {
   "cell_type": "markdown",
   "id": "c675364e-c056-46d1-976b-594b5a0c321b",
   "metadata": {},
   "source": [
    "### Simulation tests"
   ]
  },
  {
   "cell_type": "code",
   "execution_count": 11,
   "id": "dafd91fd-5a2a-40d4-b2f8-8461caf29a6e",
   "metadata": {},
   "outputs": [
    {
     "data": {
      "text/plain": [
       "\u001b[0;32mdef\u001b[0m \u001b[0msimulation_test\u001b[0m\u001b[0;34m(\u001b[0m\u001b[0msample\u001b[0m\u001b[0;34m,\u001b[0m \u001b[0mrvH0\u001b[0m\u001b[0;34m,\u001b[0m \u001b[0mestfunc\u001b[0m\u001b[0;34m,\u001b[0m \u001b[0malt\u001b[0m\u001b[0;34m=\u001b[0m\u001b[0;34m\"two-sided\"\u001b[0m\u001b[0;34m)\u001b[0m\u001b[0;34m:\u001b[0m\u001b[0;34m\u001b[0m\n",
       "\u001b[0;34m\u001b[0m    \u001b[0;34m\"\"\"\u001b[0m\n",
       "\u001b[0;34m    Compute the p-value of the observed estimate `estfunc(sample)` under H0\u001b[0m\n",
       "\u001b[0;34m    described by the random variable `rvH0`.\u001b[0m\n",
       "\u001b[0;34m    \"\"\"\u001b[0m\u001b[0;34m\u001b[0m\n",
       "\u001b[0;34m\u001b[0m    \u001b[0;31m# 1. Compute the observed value of `estfunc`\u001b[0m\u001b[0;34m\u001b[0m\n",
       "\u001b[0;34m\u001b[0m    \u001b[0mobsest\u001b[0m \u001b[0;34m=\u001b[0m \u001b[0mestfunc\u001b[0m\u001b[0;34m(\u001b[0m\u001b[0msample\u001b[0m\u001b[0;34m)\u001b[0m\u001b[0;34m\u001b[0m\n",
       "\u001b[0;34m\u001b[0m    \u001b[0mn\u001b[0m \u001b[0;34m=\u001b[0m \u001b[0mlen\u001b[0m\u001b[0;34m(\u001b[0m\u001b[0msample\u001b[0m\u001b[0;34m)\u001b[0m\u001b[0;34m\u001b[0m\n",
       "\u001b[0;34m\u001b[0m\u001b[0;34m\u001b[0m\n",
       "\u001b[0;34m\u001b[0m    \u001b[0;31m# 2. Get sampling distribution of `estfunc` under H0\u001b[0m\u001b[0;34m\u001b[0m\n",
       "\u001b[0;34m\u001b[0m    \u001b[0msampl_dist_H0\u001b[0m \u001b[0;34m=\u001b[0m \u001b[0mgen_sampling_dist\u001b[0m\u001b[0;34m(\u001b[0m\u001b[0mrvH0\u001b[0m\u001b[0;34m,\u001b[0m \u001b[0mestfunc\u001b[0m\u001b[0;34m,\u001b[0m \u001b[0mn\u001b[0m\u001b[0;34m)\u001b[0m\u001b[0;34m\u001b[0m\n",
       "\u001b[0;34m\u001b[0m\u001b[0;34m\u001b[0m\n",
       "\u001b[0;34m\u001b[0m    \u001b[0;31m# 3. Compute the p-value\u001b[0m\u001b[0;34m\u001b[0m\n",
       "\u001b[0;34m\u001b[0m    \u001b[0mtails\u001b[0m \u001b[0;34m=\u001b[0m \u001b[0mtailvalues\u001b[0m\u001b[0;34m(\u001b[0m\u001b[0msampl_dist_H0\u001b[0m\u001b[0;34m,\u001b[0m \u001b[0mobsest\u001b[0m\u001b[0;34m,\u001b[0m \u001b[0malt\u001b[0m\u001b[0;34m=\u001b[0m\u001b[0malt\u001b[0m\u001b[0;34m)\u001b[0m\u001b[0;34m\u001b[0m\n",
       "\u001b[0;34m\u001b[0m    \u001b[0mpvalue\u001b[0m \u001b[0;34m=\u001b[0m \u001b[0mlen\u001b[0m\u001b[0;34m(\u001b[0m\u001b[0mtails\u001b[0m\u001b[0;34m)\u001b[0m \u001b[0;34m/\u001b[0m \u001b[0mlen\u001b[0m\u001b[0;34m(\u001b[0m\u001b[0msampl_dist_H0\u001b[0m\u001b[0;34m)\u001b[0m\u001b[0;34m\u001b[0m\n",
       "\u001b[0;34m\u001b[0m    \u001b[0;32mreturn\u001b[0m \u001b[0mpvalue\u001b[0m\u001b[0;34m\u001b[0m\u001b[0;34m\u001b[0m\u001b[0m\n"
      ]
     },
     "metadata": {},
     "output_type": "display_data"
    }
   ],
   "source": [
    "from ministats.hypothesis_tests import simulation_test\n",
    "\n",
    "%psource simulation_test"
   ]
  },
  {
   "cell_type": "markdown",
   "id": "f7b6200d-2787-4339-bb38-0b82042e6d29",
   "metadata": {},
   "source": [
    "### Two-sample permutation test"
   ]
  },
  {
   "cell_type": "code",
   "execution_count": 12,
   "id": "0b2f3e75-7212-4754-ba56-181664ae6d9d",
   "metadata": {},
   "outputs": [
    {
     "data": {
      "text/plain": [
       "\u001b[0;32mdef\u001b[0m \u001b[0mpermutation_test\u001b[0m\u001b[0;34m(\u001b[0m\u001b[0mxsample\u001b[0m\u001b[0;34m,\u001b[0m \u001b[0mysample\u001b[0m\u001b[0;34m,\u001b[0m \u001b[0mestfunc\u001b[0m\u001b[0;34m,\u001b[0m \u001b[0mP\u001b[0m\u001b[0;34m=\u001b[0m\u001b[0;36m10000\u001b[0m\u001b[0;34m)\u001b[0m\u001b[0;34m:\u001b[0m\u001b[0;34m\u001b[0m\n",
       "\u001b[0;34m\u001b[0m    \u001b[0;34m\"\"\"\u001b[0m\n",
       "\u001b[0;34m    Compute the p-value of the observed estimate `estfunc(xsample,ysample)`\u001b[0m\n",
       "\u001b[0;34m    under the null hypothesis where the group membership is randomized.\u001b[0m\n",
       "\u001b[0;34m    \"\"\"\u001b[0m\u001b[0;34m\u001b[0m\n",
       "\u001b[0;34m\u001b[0m    \u001b[0;31m# 1. Compute the observed value of `estfunc`\u001b[0m\u001b[0;34m\u001b[0m\n",
       "\u001b[0;34m\u001b[0m    \u001b[0mobsest\u001b[0m \u001b[0;34m=\u001b[0m \u001b[0mestfunc\u001b[0m\u001b[0;34m(\u001b[0m\u001b[0mxsample\u001b[0m\u001b[0;34m,\u001b[0m \u001b[0mysample\u001b[0m\u001b[0;34m)\u001b[0m\u001b[0;34m\u001b[0m\n",
       "\u001b[0;34m\u001b[0m\u001b[0;34m\u001b[0m\n",
       "\u001b[0;34m\u001b[0m    \u001b[0;31m# 2. Get sampling dist. of `estfunc` under H0\u001b[0m\u001b[0;34m\u001b[0m\n",
       "\u001b[0;34m\u001b[0m    \u001b[0mpestimates\u001b[0m \u001b[0;34m=\u001b[0m \u001b[0;34m[\u001b[0m\u001b[0;34m]\u001b[0m\u001b[0;34m\u001b[0m\n",
       "\u001b[0;34m\u001b[0m    \u001b[0;32mfor\u001b[0m \u001b[0mi\u001b[0m \u001b[0;32min\u001b[0m \u001b[0mrange\u001b[0m\u001b[0;34m(\u001b[0m\u001b[0;36m0\u001b[0m\u001b[0;34m,\u001b[0m \u001b[0mP\u001b[0m\u001b[0;34m)\u001b[0m\u001b[0;34m:\u001b[0m\u001b[0;34m\u001b[0m\n",
       "\u001b[0;34m\u001b[0m        \u001b[0mrsx\u001b[0m\u001b[0;34m,\u001b[0m \u001b[0mrsy\u001b[0m \u001b[0;34m=\u001b[0m \u001b[0mresample_under_H0\u001b[0m\u001b[0;34m(\u001b[0m\u001b[0mxsample\u001b[0m\u001b[0;34m,\u001b[0m \u001b[0mysample\u001b[0m\u001b[0;34m)\u001b[0m\u001b[0;34m\u001b[0m\n",
       "\u001b[0;34m\u001b[0m        \u001b[0mpestimate\u001b[0m \u001b[0;34m=\u001b[0m \u001b[0mestfunc\u001b[0m\u001b[0;34m(\u001b[0m\u001b[0mrsx\u001b[0m\u001b[0;34m,\u001b[0m \u001b[0mrsy\u001b[0m\u001b[0;34m)\u001b[0m\u001b[0;34m\u001b[0m\n",
       "\u001b[0;34m\u001b[0m        \u001b[0mpestimates\u001b[0m\u001b[0;34m.\u001b[0m\u001b[0mappend\u001b[0m\u001b[0;34m(\u001b[0m\u001b[0mpestimate\u001b[0m\u001b[0;34m)\u001b[0m\u001b[0;34m\u001b[0m\n",
       "\u001b[0;34m\u001b[0m\u001b[0;34m\u001b[0m\n",
       "\u001b[0;34m\u001b[0m    \u001b[0;31m# 3. Compute the p-value\u001b[0m\u001b[0;34m\u001b[0m\n",
       "\u001b[0;34m\u001b[0m    \u001b[0mtails\u001b[0m \u001b[0;34m=\u001b[0m \u001b[0mtailvalues\u001b[0m\u001b[0;34m(\u001b[0m\u001b[0mpestimates\u001b[0m\u001b[0;34m,\u001b[0m \u001b[0mobsest\u001b[0m\u001b[0;34m)\u001b[0m\u001b[0;34m\u001b[0m\n",
       "\u001b[0;34m\u001b[0m    \u001b[0mpvalue\u001b[0m \u001b[0;34m=\u001b[0m \u001b[0mlen\u001b[0m\u001b[0;34m(\u001b[0m\u001b[0mtails\u001b[0m\u001b[0;34m)\u001b[0m \u001b[0;34m/\u001b[0m \u001b[0mlen\u001b[0m\u001b[0;34m(\u001b[0m\u001b[0mpestimates\u001b[0m\u001b[0;34m)\u001b[0m\u001b[0;34m\u001b[0m\n",
       "\u001b[0;34m\u001b[0m    \u001b[0;32mreturn\u001b[0m \u001b[0mpvalue\u001b[0m\u001b[0;34m\u001b[0m\u001b[0;34m\u001b[0m\u001b[0m\n"
      ]
     },
     "metadata": {},
     "output_type": "display_data"
    }
   ],
   "source": [
    "from ministats.hypothesis_tests import permutation_test\n",
    "\n",
    "%psource permutation_test"
   ]
  },
  {
   "cell_type": "markdown",
   "id": "c645a866-0126-4e73-a258-fc4d68ea4452",
   "metadata": {},
   "source": [
    "### Permutation ANOVA"
   ]
  },
  {
   "cell_type": "code",
   "execution_count": 13,
   "id": "1f245a1b-8d1b-4832-8eb3-012c248ca348",
   "metadata": {},
   "outputs": [
    {
     "data": {
      "text/plain": [
       "\u001b[0;32mdef\u001b[0m \u001b[0mpermutation_anova\u001b[0m\u001b[0;34m(\u001b[0m\u001b[0msamples\u001b[0m\u001b[0;34m,\u001b[0m \u001b[0mP\u001b[0m\u001b[0;34m=\u001b[0m\u001b[0;36m10000\u001b[0m\u001b[0;34m,\u001b[0m \u001b[0malt\u001b[0m\u001b[0;34m=\u001b[0m\u001b[0;34m\"greater\"\u001b[0m\u001b[0;34m)\u001b[0m\u001b[0;34m:\u001b[0m\u001b[0;34m\u001b[0m\n",
       "\u001b[0;34m\u001b[0m    \u001b[0;34m\"\"\"\u001b[0m\n",
       "\u001b[0;34m    Compute the p-value of the observed F-statistic for `samples` list\u001b[0m\n",
       "\u001b[0;34m    under the null hypothesis where the group membership is randomized.\u001b[0m\n",
       "\u001b[0;34m    \"\"\"\u001b[0m\u001b[0;34m\u001b[0m\n",
       "\u001b[0;34m\u001b[0m    \u001b[0mns\u001b[0m \u001b[0;34m=\u001b[0m \u001b[0;34m[\u001b[0m\u001b[0mlen\u001b[0m\u001b[0;34m(\u001b[0m\u001b[0msample\u001b[0m\u001b[0;34m)\u001b[0m \u001b[0;32mfor\u001b[0m \u001b[0msample\u001b[0m \u001b[0;32min\u001b[0m \u001b[0msamples\u001b[0m\u001b[0;34m]\u001b[0m\u001b[0;34m\u001b[0m\n",
       "\u001b[0;34m\u001b[0m\u001b[0;34m\u001b[0m\n",
       "\u001b[0;34m\u001b[0m    \u001b[0;31m# 1. Compute the observed F-statistic\u001b[0m\u001b[0;34m\u001b[0m\n",
       "\u001b[0;34m\u001b[0m    \u001b[0mobsfstat\u001b[0m\u001b[0;34m,\u001b[0m \u001b[0m_\u001b[0m \u001b[0;34m=\u001b[0m \u001b[0mf_oneway\u001b[0m\u001b[0;34m(\u001b[0m\u001b[0;34m*\u001b[0m\u001b[0msamples\u001b[0m\u001b[0;34m)\u001b[0m\u001b[0;34m\u001b[0m\n",
       "\u001b[0;34m\u001b[0m\u001b[0;34m\u001b[0m\n",
       "\u001b[0;34m\u001b[0m    \u001b[0;31m# 2. Get sampling dist. of F-statistic under H0\u001b[0m\u001b[0;34m\u001b[0m\n",
       "\u001b[0;34m\u001b[0m    \u001b[0mpfstats\u001b[0m \u001b[0;34m=\u001b[0m \u001b[0;34m[\u001b[0m\u001b[0;34m]\u001b[0m\u001b[0;34m\u001b[0m\n",
       "\u001b[0;34m\u001b[0m    \u001b[0;32mfor\u001b[0m \u001b[0mi\u001b[0m \u001b[0;32min\u001b[0m \u001b[0mrange\u001b[0m\u001b[0;34m(\u001b[0m\u001b[0;36m0\u001b[0m\u001b[0;34m,\u001b[0m \u001b[0mP\u001b[0m\u001b[0;34m)\u001b[0m\u001b[0;34m:\u001b[0m\u001b[0;34m\u001b[0m\n",
       "\u001b[0;34m\u001b[0m        \u001b[0mvalues\u001b[0m \u001b[0;34m=\u001b[0m \u001b[0mnp\u001b[0m\u001b[0;34m.\u001b[0m\u001b[0mconcatenate\u001b[0m\u001b[0;34m(\u001b[0m\u001b[0msamples\u001b[0m\u001b[0;34m)\u001b[0m\u001b[0;34m\u001b[0m\n",
       "\u001b[0;34m\u001b[0m        \u001b[0mpvalues\u001b[0m \u001b[0;34m=\u001b[0m \u001b[0mnp\u001b[0m\u001b[0;34m.\u001b[0m\u001b[0mrandom\u001b[0m\u001b[0;34m.\u001b[0m\u001b[0mpermutation\u001b[0m\u001b[0;34m(\u001b[0m\u001b[0mvalues\u001b[0m\u001b[0;34m)\u001b[0m\u001b[0;34m\u001b[0m\n",
       "\u001b[0;34m\u001b[0m        \u001b[0mpsamples\u001b[0m \u001b[0;34m=\u001b[0m \u001b[0;34m[\u001b[0m\u001b[0;34m]\u001b[0m\u001b[0;34m\u001b[0m\n",
       "\u001b[0;34m\u001b[0m        \u001b[0mnstart\u001b[0m \u001b[0;34m=\u001b[0m \u001b[0;36m0\u001b[0m\u001b[0;34m\u001b[0m\n",
       "\u001b[0;34m\u001b[0m        \u001b[0;32mfor\u001b[0m \u001b[0mnstep\u001b[0m \u001b[0;32min\u001b[0m \u001b[0mns\u001b[0m\u001b[0;34m:\u001b[0m\u001b[0;34m\u001b[0m\n",
       "\u001b[0;34m\u001b[0m            \u001b[0mpsample\u001b[0m \u001b[0;34m=\u001b[0m \u001b[0mpvalues\u001b[0m\u001b[0;34m[\u001b[0m\u001b[0mnstart\u001b[0m\u001b[0;34m:\u001b[0m\u001b[0mnstart\u001b[0m\u001b[0;34m+\u001b[0m\u001b[0mnstep\u001b[0m\u001b[0;34m]\u001b[0m\u001b[0;34m\u001b[0m\n",
       "\u001b[0;34m\u001b[0m            \u001b[0mpsamples\u001b[0m\u001b[0;34m.\u001b[0m\u001b[0mappend\u001b[0m\u001b[0;34m(\u001b[0m\u001b[0mpsample\u001b[0m\u001b[0;34m)\u001b[0m\u001b[0;34m\u001b[0m\n",
       "\u001b[0;34m\u001b[0m            \u001b[0mnstart\u001b[0m \u001b[0;34m=\u001b[0m \u001b[0mnstart\u001b[0m \u001b[0;34m+\u001b[0m \u001b[0mnstep\u001b[0m\u001b[0;34m\u001b[0m\n",
       "\u001b[0;34m\u001b[0m        \u001b[0mpfstat\u001b[0m\u001b[0;34m,\u001b[0m \u001b[0m_\u001b[0m \u001b[0;34m=\u001b[0m \u001b[0mf_oneway\u001b[0m\u001b[0;34m(\u001b[0m\u001b[0;34m*\u001b[0m\u001b[0mpsamples\u001b[0m\u001b[0;34m)\u001b[0m\u001b[0;34m\u001b[0m\n",
       "\u001b[0;34m\u001b[0m        \u001b[0mpfstats\u001b[0m\u001b[0;34m.\u001b[0m\u001b[0mappend\u001b[0m\u001b[0;34m(\u001b[0m\u001b[0mpfstat\u001b[0m\u001b[0;34m)\u001b[0m\u001b[0;34m\u001b[0m\n",
       "\u001b[0;34m\u001b[0m\u001b[0;34m\u001b[0m\n",
       "\u001b[0;34m\u001b[0m    \u001b[0;31m# 3. Compute the p-value\u001b[0m\u001b[0;34m\u001b[0m\n",
       "\u001b[0;34m\u001b[0m    \u001b[0mtails\u001b[0m \u001b[0;34m=\u001b[0m \u001b[0mtailvalues\u001b[0m\u001b[0;34m(\u001b[0m\u001b[0mpfstats\u001b[0m\u001b[0;34m,\u001b[0m \u001b[0mobsfstat\u001b[0m\u001b[0;34m,\u001b[0m \u001b[0malt\u001b[0m\u001b[0;34m=\u001b[0m\u001b[0malt\u001b[0m\u001b[0;34m)\u001b[0m\u001b[0;34m\u001b[0m\n",
       "\u001b[0;34m\u001b[0m    \u001b[0mpvalue\u001b[0m \u001b[0;34m=\u001b[0m \u001b[0mlen\u001b[0m\u001b[0;34m(\u001b[0m\u001b[0mtails\u001b[0m\u001b[0;34m)\u001b[0m \u001b[0;34m/\u001b[0m \u001b[0mlen\u001b[0m\u001b[0;34m(\u001b[0m\u001b[0mpfstats\u001b[0m\u001b[0;34m)\u001b[0m\u001b[0;34m\u001b[0m\n",
       "\u001b[0;34m\u001b[0m    \u001b[0;32mreturn\u001b[0m \u001b[0mpvalue\u001b[0m\u001b[0;34m\u001b[0m\u001b[0;34m\u001b[0m\u001b[0m\n"
      ]
     },
     "metadata": {},
     "output_type": "display_data"
    }
   ],
   "source": [
    "from ministats import permutation_anova\n",
    "\n",
    "%psource permutation_anova"
   ]
  },
  {
   "cell_type": "code",
   "execution_count": 14,
   "id": "30673bfc-5d0e-4850-af7a-085bc05ff3c9",
   "metadata": {},
   "outputs": [
    {
     "data": {
      "text/plain": [
       "0.0297"
      ]
     },
     "execution_count": 14,
     "metadata": {},
     "output_type": "execute_result"
    }
   ],
   "source": [
    "# test on three samples\n",
    "from scipy.stats import norm\n",
    "\n",
    "# Random samples\n",
    "np.random.seed(43)\n",
    "sample1 = norm(loc=0).rvs(size=30)\n",
    "sample2 = norm(loc=0).rvs(size=30)\n",
    "sample3 = norm(loc=0.7).rvs(size=30)\n",
    "\n",
    "np.random.seed(45)\n",
    "permutation_anova([sample1, sample2, sample3])"
   ]
  },
  {
   "cell_type": "code",
   "execution_count": 15,
   "id": "07f1e9c8-d546-461d-b255-a18b646ecf13",
   "metadata": {},
   "outputs": [
    {
     "data": {
      "text/plain": [
       "F_onewayResult(statistic=3.6808227678358856, pvalue=0.029206733498721497)"
      ]
     },
     "execution_count": 15,
     "metadata": {},
     "output_type": "execute_result"
    }
   ],
   "source": [
    "# compare with analytical formula\n",
    "from scipy.stats import f_oneway\n",
    "\n",
    "f_oneway(sample1, sample2, sample3)"
   ]
  },
  {
   "cell_type": "markdown",
   "id": "cc2a22a6-a2ff-4baa-9a60-e142a76485db",
   "metadata": {},
   "source": [
    "## Equivalence tests\n",
    "\n",
    "See [examples/two_sample_equivalence_test.ipynb](../examples/two_sample_equivalence_test.ipynb) for an example."
   ]
  },
  {
   "cell_type": "markdown",
   "id": "19964546-f7d4-4d62-b118-1a1b1313edb2",
   "metadata": {},
   "source": [
    "## Distribution checks"
   ]
  },
  {
   "cell_type": "markdown",
   "id": "e4acc7f1-df5b-4c75-a98f-879915a55844",
   "metadata": {},
   "source": [
    "### Kolmogorov-Smirnov test"
   ]
  },
  {
   "cell_type": "markdown",
   "id": "5330b7f2-e647-4836-a93d-e1a552b063ff",
   "metadata": {},
   "source": [
    "### Shapiro-Wilk normality test"
   ]
  },
  {
   "cell_type": "markdown",
   "id": "27feddd6-5d2e-4dd3-b83f-918b2fd5ca43",
   "metadata": {},
   "source": [
    "### Discussion"
   ]
  },
  {
   "cell_type": "markdown",
   "id": "78c4434b-5ba6-451d-be1d-474f6f356e17",
   "metadata": {},
   "source": [
    "## Discussion"
   ]
  },
  {
   "cell_type": "code",
   "execution_count": null,
   "id": "bc5592c9-4393-413a-a9ff-9931b1786e84",
   "metadata": {},
   "outputs": [],
   "source": []
  },
  {
   "cell_type": "markdown",
   "id": "48e951d7-28e7-47a2-ad6c-dccf9d267b3f",
   "metadata": {},
   "source": [
    "## Exercises"
   ]
  },
  {
   "cell_type": "code",
   "execution_count": null,
   "id": "d3d8cb3a-db73-407d-bbbe-323c1bec7cb5",
   "metadata": {},
   "outputs": [],
   "source": []
  },
  {
   "cell_type": "markdown",
   "id": "ea6b1102-5175-4f59-b4b3-2870270c05eb",
   "metadata": {},
   "source": [
    "## Links"
   ]
  },
  {
   "cell_type": "code",
   "execution_count": null,
   "id": "53a74347-a1ee-4bf0-9e08-67441a0a4017",
   "metadata": {},
   "outputs": [],
   "source": []
  }
 ],
 "metadata": {
  "kernelspec": {
   "display_name": "Python 3 (ipykernel)",
   "language": "python",
   "name": "python3"
  },
  "language_info": {
   "codemirror_mode": {
    "name": "ipython",
    "version": 3
   },
   "file_extension": ".py",
   "mimetype": "text/x-python",
   "name": "python",
   "nbconvert_exporter": "python",
   "pygments_lexer": "ipython3",
   "version": "3.12.4"
  }
 },
 "nbformat": 4,
 "nbformat_minor": 5
}
