{
 "cells": [
  {
   "cell_type": "markdown",
   "id": "b73f3d18-88c7-499d-90a3-dd6954247cf3",
   "metadata": {
    "tags": []
   },
   "source": [
    "# Section 3.7 — Inventory of statistical tests\n",
    "\n",
    "This notebook contains the code examples from [Section 3.7 Inventory of statistical tests]() from the **No Bullshit Guide to Statistics**."
   ]
  },
  {
   "cell_type": "markdown",
   "id": "efce8e91-8824-4103-a526-02e23c794668",
   "metadata": {
    "jp-MarkdownHeadingCollapsed": true,
    "tags": []
   },
   "source": [
    "#### Notebook setup"
   ]
  },
  {
   "cell_type": "code",
   "execution_count": 1,
   "id": "990de07d-c26f-4a29-935a-2b1dacc89b34",
   "metadata": {},
   "outputs": [],
   "source": [
    "# load Python modules\n",
    "import os\n",
    "import numpy as np\n",
    "import pandas as pd\n",
    "import seaborn as sns\n",
    "import matplotlib.pyplot as plt"
   ]
  },
  {
   "cell_type": "code",
   "execution_count": 2,
   "id": "09c5c296-f060-4d6d-af26-42243271bb59",
   "metadata": {},
   "outputs": [],
   "source": [
    "# Plot helper functions\n",
    "from plot_helpers import plot_pdf\n",
    "from plot_helpers import savefigure"
   ]
  },
  {
   "cell_type": "code",
   "execution_count": 3,
   "id": "3209c5be-cb6a-42c0-8bf8-949a4fc0ff39",
   "metadata": {},
   "outputs": [
    {
     "data": {
      "text/plain": [
       "<Figure size 640x480 with 0 Axes>"
      ]
     },
     "metadata": {},
     "output_type": "display_data"
    }
   ],
   "source": [
    "# Figures setup\n",
    "plt.clf()  # needed otherwise `sns.set_theme` doesn't work\n",
    "from plot_helpers import RCPARAMS\n",
    "RCPARAMS.update({'figure.figsize': (10, 3)})   # good for screen\n",
    "# RCPARAMS.update({'figure.figsize': (5, 1.6)})  # good for print\n",
    "sns.set_theme(\n",
    "    context=\"paper\",\n",
    "    style=\"whitegrid\",\n",
    "    palette=\"colorblind\",\n",
    "    rc=RCPARAMS,\n",
    ")\n",
    "\n",
    "# Useful colors\n",
    "snspal = sns.color_palette()\n",
    "blue, orange, purple = snspal[0], snspal[1], snspal[4]\n",
    "\n",
    "# High-resolution please\n",
    "%config InlineBackend.figure_format = 'retina'\n",
    "\n",
    "# Where to store figures\n",
    "DESTDIR = \"figures/stats/inventory\""
   ]
  },
  {
   "cell_type": "code",
   "execution_count": 4,
   "id": "df22d8d7-6814-4c3b-a3d3-2f31ab6b2f3b",
   "metadata": {},
   "outputs": [],
   "source": [
    "# set random seed for repeatability\n",
    "np.random.seed(42)"
   ]
  },
  {
   "cell_type": "code",
   "execution_count": 5,
   "id": "0094bec0-5f8e-4491-895f-17088545a5c3",
   "metadata": {},
   "outputs": [],
   "source": [
    "#######################################################"
   ]
  },
  {
   "cell_type": "markdown",
   "id": "0006d8b9-27c7-4b84-833f-473c69701aa1",
   "metadata": {},
   "source": [
    "## Definitions"
   ]
  },
  {
   "cell_type": "code",
   "execution_count": null,
   "id": "17976ab8-6ecf-422f-8521-2b6446ad54fd",
   "metadata": {},
   "outputs": [],
   "source": []
  },
  {
   "cell_type": "markdown",
   "id": "60f5efec-6d61-4eec-834f-2c8b12030989",
   "metadata": {},
   "source": [
    "## Assumptions"
   ]
  },
  {
   "cell_type": "code",
   "execution_count": null,
   "id": "ee650d35-27a6-4050-bfe8-56017e55cbd3",
   "metadata": {},
   "outputs": [],
   "source": []
  },
  {
   "cell_type": "markdown",
   "id": "c4a32cef-fed2-4672-a734-7d33e62ec492",
   "metadata": {},
   "source": [
    "## NHST procedure"
   ]
  },
  {
   "cell_type": "code",
   "execution_count": null,
   "id": "bafa7109-63e2-40f4-bbf0-f673e61af997",
   "metadata": {},
   "outputs": [],
   "source": []
  },
  {
   "cell_type": "markdown",
   "id": "6b2b017e-1504-4efe-98d3-d6bb2ec5d014",
   "metadata": {},
   "source": [
    "## Categorization of statistical test recipes"
   ]
  },
  {
   "cell_type": "code",
   "execution_count": null,
   "id": "7ea8367d-c0d9-4191-b9ee-4dd837ad863f",
   "metadata": {},
   "outputs": [],
   "source": []
  },
  {
   "cell_type": "markdown",
   "id": "6f130cde-89cf-42da-811e-b3eddc4e9110",
   "metadata": {},
   "source": [
    "## Z-Tests"
   ]
  },
  {
   "cell_type": "markdown",
   "id": "fa73645b-e1d8-4f7b-a4e8-e1934b4b0eee",
   "metadata": {},
   "source": [
    "### One-sample $z$-test\n",
    "\n",
    "See the [examples/one_sample_z-test.ipynb](../examples/one_sample_z-test.ipynb) notebook."
   ]
  },
  {
   "cell_type": "code",
   "execution_count": null,
   "id": "6a0e243c-43ec-4607-b55e-0b4063fd2cb0",
   "metadata": {},
   "outputs": [],
   "source": []
  },
  {
   "cell_type": "markdown",
   "id": "dd80b2e4-4bfd-4518-b829-6c2a81180702",
   "metadata": {},
   "source": [
    "## Proportion tests\n",
    "### One-sample $z$-test for proportions\n",
    "### Binomial test\n",
    "### Two-sample $z$-test for proportions"
   ]
  },
  {
   "cell_type": "code",
   "execution_count": 6,
   "id": "a1536dd7-7a0e-4b04-9a3a-27ee53b2a5d6",
   "metadata": {},
   "outputs": [],
   "source": [
    "from statsmodels.stats.proportion import proportions_ztest"
   ]
  },
  {
   "cell_type": "code",
   "execution_count": null,
   "id": "864e531c-b031-4118-a556-ac095340fb49",
   "metadata": {},
   "outputs": [],
   "source": []
  },
  {
   "cell_type": "markdown",
   "id": "ba53e1c4-cae1-426d-b1b8-0d457f75a199",
   "metadata": {},
   "source": [
    "## T-tests\n",
    "### One sample $t$-test\n",
    "\n",
    "See the [examples/one_sample_t-test.ipynb](../examples/one_sample_t-test.ipynb) notebook."
   ]
  },
  {
   "cell_type": "markdown",
   "id": "e30250f5-65f4-45e9-9b25-16fa54b19415",
   "metadata": {},
   "source": [
    "### Welch's two-sample $t$-test\n",
    "\n",
    "(explain pooled variance as special case \"Two sample t-test\", but inferior)"
   ]
  },
  {
   "cell_type": "markdown",
   "id": "df5b405a-ff4c-407d-9d98-3db15e2c6dea",
   "metadata": {},
   "source": [
    "### Paired $t$-test"
   ]
  },
  {
   "cell_type": "code",
   "execution_count": null,
   "id": "8671588d-3913-49de-b7a6-945923629180",
   "metadata": {},
   "outputs": [],
   "source": []
  },
  {
   "cell_type": "markdown",
   "id": "43949394-2804-4ff0-95e4-3c767ccf650c",
   "metadata": {},
   "source": [
    "## Chi-square tests"
   ]
  },
  {
   "cell_type": "markdown",
   "id": "ea488998-c741-4fb3-bef8-2c0e379dbd47",
   "metadata": {},
   "source": [
    "### Chi-square test for goodness of fit"
   ]
  },
  {
   "cell_type": "markdown",
   "id": "d8347ac2-58b9-4a59-81b9-e977fb4d4344",
   "metadata": {},
   "source": [
    "### Chi-square test of independence"
   ]
  },
  {
   "cell_type": "markdown",
   "id": "7f7ffac9-edb7-4aba-8049-dffb3133068a",
   "metadata": {},
   "source": [
    "### Chi-square test for homogeneity"
   ]
  },
  {
   "cell_type": "markdown",
   "id": "06daaac7-9360-4bdb-b628-02acf298a02d",
   "metadata": {},
   "source": [
    "### Chi-square test for the population variance"
   ]
  },
  {
   "cell_type": "code",
   "execution_count": null,
   "id": "a10ae0b1-c0be-4374-93fa-002063ec2db5",
   "metadata": {},
   "outputs": [],
   "source": []
  },
  {
   "cell_type": "markdown",
   "id": "d7b8903a-ceb5-43e4-a55c-59cf02c218d8",
   "metadata": {},
   "source": [
    "## Analysis of variance (ANOVA) tests"
   ]
  },
  {
   "cell_type": "markdown",
   "id": "a6d34d15-d6b0-402f-9b4f-731420a7245e",
   "metadata": {},
   "source": [
    "### One-way analysis of variance (ANOVA)"
   ]
  },
  {
   "cell_type": "markdown",
   "id": "d81f6809-8e80-4b6e-bb79-61b3e7097a1d",
   "metadata": {},
   "source": [
    "### Two-way ANOVA"
   ]
  },
  {
   "cell_type": "code",
   "execution_count": null,
   "id": "acedaebc-0b63-459c-995e-75e171ecae8e",
   "metadata": {},
   "outputs": [],
   "source": []
  },
  {
   "cell_type": "markdown",
   "id": "5b2c72cb-214e-4a6c-9b94-4cdd7d8dad9f",
   "metadata": {},
   "source": [
    "## Nonparametric tests\n",
    "Use when assumptions for other tests not valid"
   ]
  },
  {
   "cell_type": "markdown",
   "id": "2aa6fcdc-4c1c-45f1-b804-80dcea703123",
   "metadata": {},
   "source": [
    "### Sign test for the population median"
   ]
  },
  {
   "cell_type": "markdown",
   "id": "d3b320a6-76b3-4e95-ae40-3ee2a8eeeb23",
   "metadata": {},
   "source": [
    "### One-sample Wilcoxon signed-rank test"
   ]
  },
  {
   "cell_type": "markdown",
   "id": "230382b3-e8a4-4d5c-9761-bac91c4aefc9",
   "metadata": {},
   "source": [
    "### Wilcoxon rank sum test"
   ]
  },
  {
   "cell_type": "markdown",
   "id": "a73fd0c1-c058-435c-ad7b-5562613a101a",
   "metadata": {},
   "source": [
    "### Kruskal-Wallis analysis of variance by ranks"
   ]
  },
  {
   "cell_type": "code",
   "execution_count": null,
   "id": "e87ae770-32a9-4123-af97-6e83f325f8cf",
   "metadata": {},
   "outputs": [],
   "source": []
  },
  {
   "cell_type": "markdown",
   "id": "264e1f3a-ca3f-4725-b8e2-3b0cde3583aa",
   "metadata": {},
   "source": [
    "## Resampling methods"
   ]
  },
  {
   "cell_type": "markdown",
   "id": "c675364e-c056-46d1-976b-594b5a0c321b",
   "metadata": {},
   "source": [
    "### Simulation tests"
   ]
  },
  {
   "cell_type": "markdown",
   "id": "f7b6200d-2787-4339-bb38-0b82042e6d29",
   "metadata": {},
   "source": [
    "### Two-sample permutation test"
   ]
  },
  {
   "cell_type": "markdown",
   "id": "c645a866-0126-4e73-a258-fc4d68ea4452",
   "metadata": {},
   "source": [
    "### Permutation ANOVA"
   ]
  },
  {
   "cell_type": "code",
   "execution_count": null,
   "id": "b5f47e38-3fcc-4922-ac4b-9b2d37775a99",
   "metadata": {},
   "outputs": [],
   "source": []
  },
  {
   "cell_type": "code",
   "execution_count": null,
   "id": "eeb8ad61-1fa0-43fb-b7b1-81a7f97294bd",
   "metadata": {},
   "outputs": [],
   "source": []
  },
  {
   "cell_type": "markdown",
   "id": "19964546-f7d4-4d62-b118-1a1b1313edb2",
   "metadata": {},
   "source": [
    "## Miscellaneous tests"
   ]
  },
  {
   "cell_type": "markdown",
   "id": "1a5cb0e4-3fd1-4e02-afaa-64d10e74dbab",
   "metadata": {},
   "source": [
    "### Equivalence tests"
   ]
  },
  {
   "cell_type": "markdown",
   "id": "e4acc7f1-df5b-4c75-a98f-879915a55844",
   "metadata": {},
   "source": [
    "### Kolmogorov-Smirnov test"
   ]
  },
  {
   "cell_type": "markdown",
   "id": "5330b7f2-e647-4836-a93d-e1a552b063ff",
   "metadata": {},
   "source": [
    "### Shapiro-Wilk normality test"
   ]
  },
  {
   "cell_type": "code",
   "execution_count": null,
   "id": "132b6aa7-2e47-4be6-97ad-c4f3f235b6a3",
   "metadata": {},
   "outputs": [],
   "source": []
  },
  {
   "cell_type": "markdown",
   "id": "39d31627-bec0-4cc1-bbc7-28dccac4b7cb",
   "metadata": {},
   "source": [
    "## Explanations"
   ]
  },
  {
   "cell_type": "code",
   "execution_count": null,
   "id": "13846dee-2b78-4028-acbe-261489780081",
   "metadata": {},
   "outputs": [],
   "source": []
  },
  {
   "cell_type": "markdown",
   "id": "78c4434b-5ba6-451d-be1d-474f6f356e17",
   "metadata": {},
   "source": [
    "## Discussion"
   ]
  },
  {
   "cell_type": "code",
   "execution_count": null,
   "id": "bc5592c9-4393-413a-a9ff-9931b1786e84",
   "metadata": {},
   "outputs": [],
   "source": []
  },
  {
   "cell_type": "markdown",
   "id": "48e951d7-28e7-47a2-ad6c-dccf9d267b3f",
   "metadata": {},
   "source": [
    "## Exercises"
   ]
  },
  {
   "cell_type": "code",
   "execution_count": null,
   "id": "d3d8cb3a-db73-407d-bbbe-323c1bec7cb5",
   "metadata": {},
   "outputs": [],
   "source": []
  },
  {
   "cell_type": "markdown",
   "id": "ea6b1102-5175-4f59-b4b3-2870270c05eb",
   "metadata": {},
   "source": [
    "## Links"
   ]
  },
  {
   "cell_type": "code",
   "execution_count": null,
   "id": "53a74347-a1ee-4bf0-9e08-67441a0a4017",
   "metadata": {},
   "outputs": [],
   "source": []
  }
 ],
 "metadata": {
  "kernelspec": {
   "display_name": "Python 3 (ipykernel)",
   "language": "python",
   "name": "python3"
  },
  "language_info": {
   "codemirror_mode": {
    "name": "ipython",
    "version": 3
   },
   "file_extension": ".py",
   "mimetype": "text/x-python",
   "name": "python",
   "nbconvert_exporter": "python",
   "pygments_lexer": "ipython3",
   "version": "3.9.4"
  }
 },
 "nbformat": 4,
 "nbformat_minor": 5
}
