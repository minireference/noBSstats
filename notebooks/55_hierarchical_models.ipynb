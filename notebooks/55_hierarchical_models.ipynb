{
 "cells": [
  {
   "cell_type": "markdown",
   "id": "c53eb8f5-80a7-4330-9f13-63220177fcc0",
   "metadata": {
    "editable": true,
    "slideshow": {
     "slide_type": ""
    },
    "tags": []
   },
   "source": [
    "# Section 5.5 — Hierarchical models\n",
    "\n",
    "This notebook contains the code examples from [Section 5.5 Hierarchical models]() from the **No Bullshit Guide to Statistics**.\n",
    "\n",
    "See also:\n",
    "- [03_hierarchical_model.ipynb](http://localhost:8888/lab/tree/notebooks/explorations/bambi-paper-main/original/03_hierarchical_model.ipynb)\n",
    "- https://github.com/fonnesbeck/pymc_sdss_2024/blob/main/notebooks/Section4-Hierarchical_Models.ipynb\n",
    "- "
   ]
  },
  {
   "cell_type": "markdown",
   "id": "a2d8dda2-58a9-424e-9fb3-32ad6e8777d8",
   "metadata": {
    "tags": []
   },
   "source": [
    "#### Notebook setup"
   ]
  },
  {
   "cell_type": "code",
   "execution_count": 1,
   "id": "aea0223e-aee9-4875-a714-897b6646baaa",
   "metadata": {},
   "outputs": [],
   "source": [
    "# load Python modules\n",
    "import os\n",
    "import numpy as np\n",
    "import pandas as pd\n",
    "import seaborn as sns\n",
    "import matplotlib.pyplot as plt"
   ]
  },
  {
   "cell_type": "code",
   "execution_count": 2,
   "id": "efd86c5a-c9d2-4eab-b67d-a65e39b23ef2",
   "metadata": {},
   "outputs": [
    {
     "data": {
      "text/plain": [
       "<Figure size 640x480 with 0 Axes>"
      ]
     },
     "metadata": {},
     "output_type": "display_data"
    }
   ],
   "source": [
    "# Figures setup\n",
    "plt.clf()  # needed otherwise `sns.set_theme` doesn\"t work\n",
    "from plot_helpers import RCPARAMS\n",
    "RCPARAMS.update({\"figure.figsize\": (5, 3)})   # good for screen\n",
    "# RCPARAMS.update({\"figure.figsize\": (5, 1.6)})  # good for print\n",
    "sns.set_theme(\n",
    "    context=\"paper\",\n",
    "    style=\"whitegrid\",\n",
    "    palette=\"colorblind\",\n",
    "    rc=RCPARAMS,\n",
    ")\n",
    "\n",
    "# High-resolution please\n",
    "%config InlineBackend.figure_format = \"retina\"\n",
    "\n",
    "# Where to store figures\n",
    "DESTDIR = \"figures/bayes/hierarchical\""
   ]
  },
  {
   "cell_type": "code",
   "execution_count": 3,
   "id": "df811a10-417d-4389-8bff-30e59b5f6aef",
   "metadata": {},
   "outputs": [],
   "source": [
    "# set random seed for repeatability\n",
    "np.random.seed(42)\n",
    "#######################################################"
   ]
  },
  {
   "cell_type": "markdown",
   "id": "a0f3e161-b8dd-48f3-9cd8-ee2bba2a1796",
   "metadata": {},
   "source": [
    "## Definitions"
   ]
  },
  {
   "cell_type": "markdown",
   "id": "0c4c6469-f0f1-481d-bc83-79d96006f42d",
   "metadata": {
    "editable": true,
    "slideshow": {
     "slide_type": ""
    },
    "tags": []
   },
   "source": [
    "## Model"
   ]
  },
  {
   "cell_type": "code",
   "execution_count": null,
   "id": "94aee1fe-b77d-48bd-a07a-4560b3922ce9",
   "metadata": {
    "editable": true,
    "slideshow": {
     "slide_type": ""
    },
    "tags": []
   },
   "outputs": [],
   "source": []
  },
  {
   "cell_type": "code",
   "execution_count": null,
   "id": "a000131f-8dde-450e-8f90-bec2eee2ae1a",
   "metadata": {},
   "outputs": [],
   "source": []
  },
  {
   "cell_type": "markdown",
   "id": "de3143ac-ae88-4b1a-95a2-dccc9e83ab67",
   "metadata": {},
   "source": [
    "## Example: radon levels\n",
    "\n",
    "https://bambinos.github.io/bambi/notebooks/radon_example.html\n",
    "\n",
    "- Description: Contains measurements of radon levels in homes across various counties.\n",
    "- Source: Featured in Andrew Gelman and Jennifer Hill's book Data Analysis Using Regression and Multilevel/Hierarchical Models.\n",
    "- Application: Demonstrates partial pooling and varying intercepts/slopes in hierarchical modeling.\n"
   ]
  },
  {
   "cell_type": "markdown",
   "id": "ac401559-b623-4804-a429-29f5b4322ab2",
   "metadata": {},
   "source": [
    "### Data"
   ]
  },
  {
   "cell_type": "code",
   "execution_count": 4,
   "id": "d11297b8-6049-498f-b7b3-b48a696d3c0d",
   "metadata": {},
   "outputs": [
    {
     "data": {
      "text/plain": [
       "county\n",
       "WILKIN               1\n",
       "MAHNOMEN             1\n",
       "MURRAY               1\n",
       "YELLOW MEDICINE      2\n",
       "LAC QUI PARLE        2\n",
       "                  ... \n",
       "WASHINGTON          46\n",
       "ANOKA               52\n",
       "DAKOTA              63\n",
       "HENNEPIN           105\n",
       "ST LOUIS           116\n",
       "Name: log_u, Length: 85, dtype: int64"
      ]
     },
     "execution_count": 4,
     "metadata": {},
     "output_type": "execute_result"
    }
   ],
   "source": [
    "radon = pd.read_csv(\"../datasets/radon.csv\")\n",
    "radon.groupby(\"county\")[\"log_u\"].count().sort_values()"
   ]
  },
  {
   "cell_type": "markdown",
   "id": "81689ac3-8ca7-4e9b-a0e5-c448f3c468d8",
   "metadata": {},
   "source": [
    "### Bayesian model\n",
    "TODO: add formulas"
   ]
  },
  {
   "cell_type": "markdown",
   "id": "4f3e0d9d-3710-45a2-83ab-0565aab76575",
   "metadata": {},
   "source": [
    "### Bambi model"
   ]
  },
  {
   "cell_type": "code",
   "execution_count": null,
   "id": "6e6ab53c-904e-4b67-8647-f4e90f0f21f9",
   "metadata": {},
   "outputs": [],
   "source": []
  },
  {
   "cell_type": "code",
   "execution_count": 5,
   "id": "072fb211-5266-4589-8ee6-37bd4f909764",
   "metadata": {},
   "outputs": [
    {
     "name": "stderr",
     "output_type": "stream",
     "text": [
      "WARNING (pytensor.tensor.blas): Using NumPy C-API based implementation for BLAS functions.\n"
     ]
    },
    {
     "data": {
      "text/plain": [
       "       Formula: log_radon ~ 0 + floor + log_u + (0 + floor|county)\n",
       "        Family: gaussian\n",
       "          Link: mu = identity\n",
       "  Observations: 919\n",
       "        Priors: \n",
       "    target = mu\n",
       "        Common-level effects\n",
       "            floor ~ Normal(mu: 0.0, sigma: 10.0)\n",
       "            log_u ~ Normal(mu: 0.0, sigma: 10.0)\n",
       "        \n",
       "        Group-level effects\n",
       "            floor|county ~ Normal(mu: 0.0, sigma: Exponential(lam: 1.0))\n",
       "        \n",
       "        Auxiliary parameters\n",
       "            sigma ~ Exponential(lam: 1.0)"
      ]
     },
     "execution_count": 5,
     "metadata": {},
     "output_type": "execute_result"
    }
   ],
   "source": [
    "import bambi as bmb\n",
    "covariate_priors = {\n",
    "    \"floor\": bmb.Prior(\"Normal\", mu=0, sigma=10),\n",
    "    \"log_u\": bmb.Prior(\"Normal\", mu=0, sigma=10),\n",
    "    \"floor|county\": bmb.Prior(\"Normal\", mu=0, sigma=bmb.Prior(\"Exponential\", lam=1)),\n",
    "    \"sigma\": bmb.Prior(\"Exponential\", lam=1),\n",
    "}\n",
    "\n",
    "covariate_model = bmb.Model(\n",
    "    formula=\"log_radon ~ 0 + floor + log_u + (0 + floor|county)\",\n",
    "    priors=covariate_priors,\n",
    "    data=radon,\n",
    "    noncentered=True\n",
    " )\n",
    "\n",
    "covariate_model"
   ]
  },
  {
   "cell_type": "markdown",
   "id": "a1357f68-4ae0-472e-bf6d-e41a901e7f51",
   "metadata": {},
   "source": [
    "### Model fitting and analysis"
   ]
  },
  {
   "cell_type": "code",
   "execution_count": 6,
   "id": "fc6b8155-8d2b-4521-aafc-08679e70a954",
   "metadata": {},
   "outputs": [
    {
     "name": "stderr",
     "output_type": "stream",
     "text": [
      "Auto-assigning NUTS sampler...\n",
      "Initializing NUTS using jitter+adapt_diag...\n",
      "Multiprocess sampling (4 chains in 4 jobs)\n",
      "NUTS: [sigma, floor, log_u, floor|county_sigma, floor|county_offset]\n"
     ]
    },
    {
     "data": {
      "application/vnd.jupyter.widget-view+json": {
       "model_id": "51e470f3b6b64d29b0b0647ef0a9e478",
       "version_major": 2,
       "version_minor": 0
      },
      "text/plain": [
       "Output()"
      ]
     },
     "metadata": {},
     "output_type": "display_data"
    },
    {
     "data": {
      "text/html": [
       "<pre style=\"white-space:pre;overflow-x:auto;line-height:normal;font-family:Menlo,'DejaVu Sans Mono',consolas,'Courier New',monospace\"></pre>\n"
      ],
      "text/plain": []
     },
     "metadata": {},
     "output_type": "display_data"
    },
    {
     "data": {
      "text/html": [
       "<pre style=\"white-space:pre;overflow-x:auto;line-height:normal;font-family:Menlo,'DejaVu Sans Mono',consolas,'Courier New',monospace\">\n",
       "</pre>\n"
      ],
      "text/plain": [
       "\n"
      ]
     },
     "metadata": {},
     "output_type": "display_data"
    },
    {
     "name": "stderr",
     "output_type": "stream",
     "text": [
      "Sampling 4 chains for 2_000 tune and 2_000 draw iterations (8_000 + 8_000 draws total) took 8 seconds.\n"
     ]
    }
   ],
   "source": [
    "covariate_results = covariate_model.fit(\n",
    "    draws=2000, \n",
    "    tune=2000,\n",
    "    target_accept=0.9,\n",
    "    chains=4,\n",
    ")"
   ]
  },
  {
   "cell_type": "markdown",
   "id": "6b302747-10e2-4070-b777-e03e38921978",
   "metadata": {},
   "source": [
    "### Compare to previous results"
   ]
  },
  {
   "cell_type": "markdown",
   "id": "50171a57-21f2-408d-9c05-5003a1ee7630",
   "metadata": {},
   "source": [
    "### Conclusions"
   ]
  },
  {
   "cell_type": "markdown",
   "id": "1008c69e-fb81-416e-b218-7f7480571c70",
   "metadata": {},
   "source": [
    "## Explanations"
   ]
  },
  {
   "cell_type": "markdown",
   "id": "09c13205-8a0d-4223-8963-2495bf49724a",
   "metadata": {},
   "source": [
    "## Discussion"
   ]
  },
  {
   "cell_type": "markdown",
   "id": "5d0fe5ae-881a-4264-a65b-43870de6ac74",
   "metadata": {},
   "source": [
    "## Exercises"
   ]
  },
  {
   "cell_type": "markdown",
   "id": "3d5a591d-d134-4ad5-bb57-7eeffcb4ed25",
   "metadata": {
    "editable": true,
    "slideshow": {
     "slide_type": ""
    },
    "tags": []
   },
   "source": [
    "## Links"
   ]
  },
  {
   "cell_type": "markdown",
   "id": "33a9c3f6-ff51-4dbf-94a3-115da563c33a",
   "metadata": {},
   "source": [
    "## EXTRA MATERIAL"
   ]
  },
  {
   "cell_type": "markdown",
   "id": "8cd3e1a7-b0af-4a86-83df-668398ec1d3b",
   "metadata": {},
   "source": [
    "### Radon levels\n",
    "\n",
    "cf. https://github.com/mitzimorris/brms_feb_28_2023/blob/main/brms_notebook.Rmd"
   ]
  },
  {
   "cell_type": "code",
   "execution_count": 7,
   "id": "5cb29685-6478-4f8b-b4a2-14cf79fb4014",
   "metadata": {},
   "outputs": [
    {
     "data": {
      "text/html": [
       "<div>\n",
       "<style scoped>\n",
       "    .dataframe tbody tr th:only-of-type {\n",
       "        vertical-align: middle;\n",
       "    }\n",
       "\n",
       "    .dataframe tbody tr th {\n",
       "        vertical-align: top;\n",
       "    }\n",
       "\n",
       "    .dataframe thead th {\n",
       "        text-align: right;\n",
       "    }\n",
       "</style>\n",
       "<table border=\"1\" class=\"dataframe\">\n",
       "  <thead>\n",
       "    <tr style=\"text-align: right;\">\n",
       "      <th></th>\n",
       "      <th>floor</th>\n",
       "      <th>county</th>\n",
       "      <th>log_radon</th>\n",
       "      <th>log_uranium</th>\n",
       "      <th>county_id</th>\n",
       "    </tr>\n",
       "  </thead>\n",
       "  <tbody>\n",
       "    <tr>\n",
       "      <th>0</th>\n",
       "      <td>1</td>\n",
       "      <td>AITKIN</td>\n",
       "      <td>0.788457</td>\n",
       "      <td>-0.689048</td>\n",
       "      <td>1</td>\n",
       "    </tr>\n",
       "    <tr>\n",
       "      <th>1</th>\n",
       "      <td>0</td>\n",
       "      <td>AITKIN</td>\n",
       "      <td>0.788457</td>\n",
       "      <td>-0.689048</td>\n",
       "      <td>1</td>\n",
       "    </tr>\n",
       "    <tr>\n",
       "      <th>2</th>\n",
       "      <td>0</td>\n",
       "      <td>AITKIN</td>\n",
       "      <td>1.064711</td>\n",
       "      <td>-0.689048</td>\n",
       "      <td>1</td>\n",
       "    </tr>\n",
       "    <tr>\n",
       "      <th>3</th>\n",
       "      <td>0</td>\n",
       "      <td>AITKIN</td>\n",
       "      <td>0.000000</td>\n",
       "      <td>-0.689048</td>\n",
       "      <td>1</td>\n",
       "    </tr>\n",
       "    <tr>\n",
       "      <th>4</th>\n",
       "      <td>0</td>\n",
       "      <td>ANOKA</td>\n",
       "      <td>1.131402</td>\n",
       "      <td>-0.847313</td>\n",
       "      <td>2</td>\n",
       "    </tr>\n",
       "    <tr>\n",
       "      <th>...</th>\n",
       "      <td>...</td>\n",
       "      <td>...</td>\n",
       "      <td>...</td>\n",
       "      <td>...</td>\n",
       "      <td>...</td>\n",
       "    </tr>\n",
       "    <tr>\n",
       "      <th>914</th>\n",
       "      <td>0</td>\n",
       "      <td>WRIGHT</td>\n",
       "      <td>1.856298</td>\n",
       "      <td>-0.090024</td>\n",
       "      <td>84</td>\n",
       "    </tr>\n",
       "    <tr>\n",
       "      <th>915</th>\n",
       "      <td>0</td>\n",
       "      <td>WRIGHT</td>\n",
       "      <td>1.504077</td>\n",
       "      <td>-0.090024</td>\n",
       "      <td>84</td>\n",
       "    </tr>\n",
       "    <tr>\n",
       "      <th>916</th>\n",
       "      <td>0</td>\n",
       "      <td>WRIGHT</td>\n",
       "      <td>1.609438</td>\n",
       "      <td>-0.090024</td>\n",
       "      <td>84</td>\n",
       "    </tr>\n",
       "    <tr>\n",
       "      <th>917</th>\n",
       "      <td>0</td>\n",
       "      <td>YELLOW MEDICINE</td>\n",
       "      <td>1.308333</td>\n",
       "      <td>0.355287</td>\n",
       "      <td>85</td>\n",
       "    </tr>\n",
       "    <tr>\n",
       "      <th>918</th>\n",
       "      <td>0</td>\n",
       "      <td>YELLOW MEDICINE</td>\n",
       "      <td>1.064711</td>\n",
       "      <td>0.355287</td>\n",
       "      <td>85</td>\n",
       "    </tr>\n",
       "  </tbody>\n",
       "</table>\n",
       "<p>919 rows × 5 columns</p>\n",
       "</div>"
      ],
      "text/plain": [
       "     floor                county  log_radon  log_uranium  county_id\n",
       "0        1  AITKIN                 0.788457    -0.689048          1\n",
       "1        0  AITKIN                 0.788457    -0.689048          1\n",
       "2        0  AITKIN                 1.064711    -0.689048          1\n",
       "3        0  AITKIN                 0.000000    -0.689048          1\n",
       "4        0  ANOKA                  1.131402    -0.847313          2\n",
       "..     ...                   ...        ...          ...        ...\n",
       "914      0  WRIGHT                 1.856298    -0.090024         84\n",
       "915      0  WRIGHT                 1.504077    -0.090024         84\n",
       "916      0  WRIGHT                 1.609438    -0.090024         84\n",
       "917      0  YELLOW MEDICINE        1.308333     0.355287         85\n",
       "918      0  YELLOW MEDICINE        1.064711     0.355287         85\n",
       "\n",
       "[919 rows x 5 columns]"
      ]
     },
     "execution_count": 7,
     "metadata": {},
     "output_type": "execute_result"
    }
   ],
   "source": [
    "mn_radon = pd.read_csv(\"../datasets/mn_radon.csv\")\n",
    "# radon[\"county_id\"] = radon[\"county_id\"].astype('category')\n",
    "mn_radon"
   ]
  },
  {
   "cell_type": "markdown",
   "id": "839ca00d-7a75-4768-a12b-26c9c8d71b8f",
   "metadata": {},
   "source": [
    "#### ALT manually downloaod radon"
   ]
  },
  {
   "cell_type": "code",
   "execution_count": 8,
   "id": "88bf438d-09d5-48b5-b302-f1e9db113f0f",
   "metadata": {},
   "outputs": [],
   "source": [
    "# # Get radon data\n",
    "# path = \"https://raw.githubusercontent.com/pymc-devs/pymc-examples/main/examples/data/srrs2.dat\"\n",
    "# radon_df = pd.read_csv(path)\n",
    "\n",
    "# import pymc as pm\n",
    "# # Get city data\n",
    "# city_df = pd.read_csv(pm.get_data(\"cty.dat\"))\n",
    "\n",
    "# # Strip spaces from column names\n",
    "# radon_df.columns = radon_df.columns.map(str.strip)\n",
    "\n",
    "# # Filter to keep observations for \"MN\" state only\n",
    "# df = radon_df[radon_df.state == \"MN\"].copy()\n",
    "# city_mn_df = city_df[city_df.st == \"MN\"].copy()\n",
    "\n",
    "# # Compute fips\n",
    "# df[\"fips\"] = 1_000 * df.stfips + df.cntyfips\n",
    "# city_mn_df[\"fips\"] = 1_000 * city_mn_df.stfips + city_mn_df.ctfips\n",
    "\n",
    "# # Merge data\n",
    "# df = df.merge(city_mn_df[[\"fips\", \"Uppm\"]], on=\"fips\")\n",
    "# df = df.drop_duplicates(subset=\"idnum\")\n",
    "\n",
    "# # Clean county names\n",
    "# df.county = df.county.map(str.strip)\n",
    "\n",
    "# # Compute log(radon + 0.1)\n",
    "# df[\"log_radon\"] = np.log(df[\"activity\"] + 0.1)\n",
    "\n",
    "# # Compute log of Uranium\n",
    "# df[\"log_u\"] = np.log(df[\"Uppm\"])\n",
    "\n",
    "# # Let's map floor. 0 -> Basement and 1 -> Floor\n",
    "# df[\"floor\"] = df[\"floor\"].map({0: \"basement\", 1: \"ground\"})\n",
    "\n",
    "# # Sort values by floor\n",
    "# df = df.sort_values(by=\"floor\")\n",
    "\n",
    "# # Reset index\n",
    "# df = df.reset_index(drop=True)\n",
    "# df\n",
    "\n",
    "# radon = df[[\"idnum\", \"state\", \"county\", \"floor\", \"log_radon\", \"log_u\"]]\n",
    "# radon.to_csv(\"../datasets/radon.csv\", index=False)"
   ]
  },
  {
   "cell_type": "code",
   "execution_count": 9,
   "id": "73249e7f-e7c8-409a-86c2-8e8eb2b1e453",
   "metadata": {},
   "outputs": [],
   "source": [
    "import bambi as bmb"
   ]
  },
  {
   "cell_type": "markdown",
   "id": "221c809e-1695-48e8-b8ea-7ecc09ac77f3",
   "metadata": {},
   "source": [
    "#### Complete pooling"
   ]
  },
  {
   "cell_type": "code",
   "execution_count": 10,
   "id": "41700bcb-a5b6-404f-93de-d334f66de424",
   "metadata": {},
   "outputs": [],
   "source": [
    "mod_cp = bmb.Model(\"log_radon ~ 1 + C(floor)\", data=mn_radon)"
   ]
  },
  {
   "cell_type": "code",
   "execution_count": 11,
   "id": "c9af9312-4ec5-413d-8ca4-30687e903bfc",
   "metadata": {},
   "outputs": [
    {
     "data": {
      "text/plain": [
       "       Formula: log_radon ~ 1 + C(floor)\n",
       "        Family: gaussian\n",
       "          Link: mu = identity\n",
       "  Observations: 919\n",
       "        Priors: \n",
       "    target = mu\n",
       "        Common-level effects\n",
       "            Intercept ~ Normal(mu: 1.2246, sigma: 2.3354)\n",
       "            C(floor) ~ Normal(mu: 0.0, sigma: 5.7237)\n",
       "        \n",
       "        Auxiliary parameters\n",
       "            sigma ~ HalfStudentT(nu: 4.0, sigma: 0.8529)"
      ]
     },
     "execution_count": 11,
     "metadata": {},
     "output_type": "execute_result"
    }
   ],
   "source": [
    "mod_cp"
   ]
  },
  {
   "cell_type": "code",
   "execution_count": 12,
   "id": "6b116815-83cc-47a7-b7c1-6294366337ec",
   "metadata": {},
   "outputs": [
    {
     "data": {
      "image/svg+xml": [
       "<?xml version=\"1.0\" encoding=\"UTF-8\" standalone=\"no\"?>\n",
       "<!DOCTYPE svg PUBLIC \"-//W3C//DTD SVG 1.1//EN\"\n",
       " \"http://www.w3.org/Graphics/SVG/1.1/DTD/svg11.dtd\">\n",
       "<!-- Generated by graphviz version 12.1.0 (20240811.2233)\n",
       " -->\n",
       "<!-- Pages: 1 -->\n",
       "<svg width=\"299pt\" height=\"385pt\"\n",
       " viewBox=\"0.00 0.00 298.54 384.95\" xmlns=\"http://www.w3.org/2000/svg\" xmlns:xlink=\"http://www.w3.org/1999/xlink\">\n",
       "<g id=\"graph0\" class=\"graph\" transform=\"scale(1 1) rotate(0) translate(4 380.95)\">\n",
       "<polygon fill=\"white\" stroke=\"none\" points=\"-4,4 -4,-380.95 294.54,-380.95 294.54,4 -4,4\"/>\n",
       "<g id=\"clust1\" class=\"cluster\">\n",
       "<title>clusterC(floor)_dim (1)</title>\n",
       "<path fill=\"none\" stroke=\"black\" d=\"M111.25,-247.13C111.25,-247.13 195.25,-247.13 195.25,-247.13 201.25,-247.13 207.25,-253.13 207.25,-259.13 207.25,-259.13 207.25,-356.95 207.25,-356.95 207.25,-362.95 201.25,-368.95 195.25,-368.95 195.25,-368.95 111.25,-368.95 111.25,-368.95 105.25,-368.95 99.25,-362.95 99.25,-356.95 99.25,-356.95 99.25,-259.13 99.25,-259.13 99.25,-253.13 105.25,-247.13 111.25,-247.13\"/>\n",
       "<text text-anchor=\"middle\" x=\"153.13\" y=\"-254.33\" font-family=\"Times,serif\" font-size=\"14.00\">C(floor)_dim (1)</text>\n",
       "</g>\n",
       "<g id=\"clust2\" class=\"cluster\">\n",
       "<title>cluster__obs__ (919)</title>\n",
       "<path fill=\"none\" stroke=\"black\" d=\"M52.25,-8C52.25,-8 144.25,-8 144.25,-8 150.25,-8 156.25,-14 156.25,-20 156.25,-20 156.25,-223.23 156.25,-223.23 156.25,-229.23 150.25,-235.23 144.25,-235.23 144.25,-235.23 52.25,-235.23 52.25,-235.23 46.25,-235.23 40.25,-229.23 40.25,-223.23 40.25,-223.23 40.25,-20 40.25,-20 40.25,-14 46.25,-8 52.25,-8\"/>\n",
       "<text text-anchor=\"middle\" x=\"108.88\" y=\"-15.2\" font-family=\"Times,serif\" font-size=\"14.00\">__obs__ (919)</text>\n",
       "</g>\n",
       "<!-- Intercept -->\n",
       "<g id=\"node1\" class=\"node\">\n",
       "<title>Intercept</title>\n",
       "<ellipse fill=\"none\" stroke=\"black\" cx=\"45.25\" cy=\"-320.29\" rx=\"45.25\" ry=\"40.66\"/>\n",
       "<text text-anchor=\"middle\" x=\"45.25\" y=\"-331.74\" font-family=\"Times,serif\" font-size=\"14.00\">Intercept</text>\n",
       "<text text-anchor=\"middle\" x=\"45.25\" y=\"-315.24\" font-family=\"Times,serif\" font-size=\"14.00\">~</text>\n",
       "<text text-anchor=\"middle\" x=\"45.25\" y=\"-298.74\" font-family=\"Times,serif\" font-size=\"14.00\">Normal</text>\n",
       "</g>\n",
       "<!-- mu -->\n",
       "<g id=\"node4\" class=\"node\">\n",
       "<title>mu</title>\n",
       "<polygon fill=\"none\" stroke=\"black\" points=\"143.38,-227.23 53.13,-227.23 53.13,-169.73 143.38,-169.73 143.38,-227.23\"/>\n",
       "<text text-anchor=\"middle\" x=\"98.25\" y=\"-209.93\" font-family=\"Times,serif\" font-size=\"14.00\">mu</text>\n",
       "<text text-anchor=\"middle\" x=\"98.25\" y=\"-193.43\" font-family=\"Times,serif\" font-size=\"14.00\">~</text>\n",
       "<text text-anchor=\"middle\" x=\"98.25\" y=\"-176.93\" font-family=\"Times,serif\" font-size=\"14.00\">Deterministic</text>\n",
       "</g>\n",
       "<!-- Intercept&#45;&gt;mu -->\n",
       "<g id=\"edge1\" class=\"edge\">\n",
       "<title>Intercept&#45;&gt;mu</title>\n",
       "<path fill=\"none\" stroke=\"black\" d=\"M61.73,-282.04C67.93,-268.02 74.99,-252.07 81.24,-237.95\"/>\n",
       "<polygon fill=\"black\" stroke=\"black\" points=\"84.37,-239.51 85.22,-228.95 77.97,-236.68 84.37,-239.51\"/>\n",
       "</g>\n",
       "<!-- sigma -->\n",
       "<g id=\"node2\" class=\"node\">\n",
       "<title>sigma</title>\n",
       "<ellipse fill=\"none\" stroke=\"black\" cx=\"227.25\" cy=\"-198.48\" rx=\"63.29\" ry=\"40.66\"/>\n",
       "<text text-anchor=\"middle\" x=\"227.25\" y=\"-209.93\" font-family=\"Times,serif\" font-size=\"14.00\">sigma</text>\n",
       "<text text-anchor=\"middle\" x=\"227.25\" y=\"-193.43\" font-family=\"Times,serif\" font-size=\"14.00\">~</text>\n",
       "<text text-anchor=\"middle\" x=\"227.25\" y=\"-176.93\" font-family=\"Times,serif\" font-size=\"14.00\">HalfStudentT</text>\n",
       "</g>\n",
       "<!-- log_radon -->\n",
       "<g id=\"node5\" class=\"node\">\n",
       "<title>log_radon</title>\n",
       "<ellipse fill=\"lightgrey\" stroke=\"black\" cx=\"98.25\" cy=\"-81.16\" rx=\"50.03\" ry=\"40.66\"/>\n",
       "<text text-anchor=\"middle\" x=\"98.25\" y=\"-92.61\" font-family=\"Times,serif\" font-size=\"14.00\">log_radon</text>\n",
       "<text text-anchor=\"middle\" x=\"98.25\" y=\"-76.11\" font-family=\"Times,serif\" font-size=\"14.00\">~</text>\n",
       "<text text-anchor=\"middle\" x=\"98.25\" y=\"-59.61\" font-family=\"Times,serif\" font-size=\"14.00\">Normal</text>\n",
       "</g>\n",
       "<!-- sigma&#45;&gt;log_radon -->\n",
       "<g id=\"edge4\" class=\"edge\">\n",
       "<title>sigma&#45;&gt;log_radon</title>\n",
       "<path fill=\"none\" stroke=\"black\" d=\"M190.98,-165.05C175.11,-150.86 156.41,-134.15 139.97,-119.45\"/>\n",
       "<polygon fill=\"black\" stroke=\"black\" points=\"142.53,-117.04 132.74,-112.99 137.86,-122.26 142.53,-117.04\"/>\n",
       "</g>\n",
       "<!-- C(floor) -->\n",
       "<g id=\"node3\" class=\"node\">\n",
       "<title>C(floor)</title>\n",
       "<ellipse fill=\"none\" stroke=\"black\" cx=\"151.25\" cy=\"-320.29\" rx=\"42.6\" ry=\"40.66\"/>\n",
       "<text text-anchor=\"middle\" x=\"151.25\" y=\"-331.74\" font-family=\"Times,serif\" font-size=\"14.00\">C(floor)</text>\n",
       "<text text-anchor=\"middle\" x=\"151.25\" y=\"-315.24\" font-family=\"Times,serif\" font-size=\"14.00\">~</text>\n",
       "<text text-anchor=\"middle\" x=\"151.25\" y=\"-298.74\" font-family=\"Times,serif\" font-size=\"14.00\">Normal</text>\n",
       "</g>\n",
       "<!-- C(floor)&#45;&gt;mu -->\n",
       "<g id=\"edge2\" class=\"edge\">\n",
       "<title>C(floor)&#45;&gt;mu</title>\n",
       "<path fill=\"none\" stroke=\"black\" d=\"M134.92,-282.37C128.72,-268.34 121.63,-252.33 115.36,-238.15\"/>\n",
       "<polygon fill=\"black\" stroke=\"black\" points=\"118.61,-236.83 111.36,-229.1 112.2,-239.66 118.61,-236.83\"/>\n",
       "</g>\n",
       "<!-- mu&#45;&gt;log_radon -->\n",
       "<g id=\"edge3\" class=\"edge\">\n",
       "<title>mu&#45;&gt;log_radon</title>\n",
       "<path fill=\"none\" stroke=\"black\" d=\"M98.25,-169.27C98.25,-158.44 98.25,-145.73 98.25,-133.41\"/>\n",
       "<polygon fill=\"black\" stroke=\"black\" points=\"101.75,-133.78 98.25,-123.78 94.75,-133.78 101.75,-133.78\"/>\n",
       "</g>\n",
       "</g>\n",
       "</svg>\n"
      ],
      "text/plain": [
       "<graphviz.graphs.Digraph at 0x30ac2bbc0>"
      ]
     },
     "execution_count": 12,
     "metadata": {},
     "output_type": "execute_result"
    }
   ],
   "source": [
    "mod_cp.build()\n",
    "mod_cp.graph()"
   ]
  },
  {
   "cell_type": "code",
   "execution_count": 13,
   "id": "2d288dae-83d8-4ae6-9b7e-4d3ce4f9e920",
   "metadata": {},
   "outputs": [
    {
     "name": "stderr",
     "output_type": "stream",
     "text": [
      "Auto-assigning NUTS sampler...\n",
      "Initializing NUTS using jitter+adapt_diag...\n",
      "Multiprocess sampling (4 chains in 4 jobs)\n",
      "NUTS: [sigma, Intercept, C(floor)]\n"
     ]
    },
    {
     "data": {
      "application/vnd.jupyter.widget-view+json": {
       "model_id": "4081a3c2ee6945d3b221649b05b8cea3",
       "version_major": 2,
       "version_minor": 0
      },
      "text/plain": [
       "Output()"
      ]
     },
     "metadata": {},
     "output_type": "display_data"
    },
    {
     "data": {
      "text/html": [
       "<pre style=\"white-space:pre;overflow-x:auto;line-height:normal;font-family:Menlo,'DejaVu Sans Mono',consolas,'Courier New',monospace\"></pre>\n"
      ],
      "text/plain": []
     },
     "metadata": {},
     "output_type": "display_data"
    },
    {
     "data": {
      "text/html": [
       "<pre style=\"white-space:pre;overflow-x:auto;line-height:normal;font-family:Menlo,'DejaVu Sans Mono',consolas,'Courier New',monospace\">\n",
       "</pre>\n"
      ],
      "text/plain": [
       "\n"
      ]
     },
     "metadata": {},
     "output_type": "display_data"
    },
    {
     "name": "stderr",
     "output_type": "stream",
     "text": [
      "Sampling 4 chains for 1_000 tune and 1_000 draw iterations (4_000 + 4_000 draws total) took 1 seconds.\n"
     ]
    }
   ],
   "source": [
    "idata_cp = mod_cp.fit()"
   ]
  },
  {
   "cell_type": "code",
   "execution_count": 14,
   "id": "56cb2955-43bc-455d-9811-b6e826907142",
   "metadata": {},
   "outputs": [
    {
     "data": {
      "text/html": [
       "<div>\n",
       "<style scoped>\n",
       "    .dataframe tbody tr th:only-of-type {\n",
       "        vertical-align: middle;\n",
       "    }\n",
       "\n",
       "    .dataframe tbody tr th {\n",
       "        vertical-align: top;\n",
       "    }\n",
       "\n",
       "    .dataframe thead th {\n",
       "        text-align: right;\n",
       "    }\n",
       "</style>\n",
       "<table border=\"1\" class=\"dataframe\">\n",
       "  <thead>\n",
       "    <tr style=\"text-align: right;\">\n",
       "      <th></th>\n",
       "      <th>mean</th>\n",
       "      <th>sd</th>\n",
       "      <th>hdi_3%</th>\n",
       "      <th>hdi_97%</th>\n",
       "      <th>mcse_mean</th>\n",
       "      <th>mcse_sd</th>\n",
       "      <th>ess_bulk</th>\n",
       "      <th>ess_tail</th>\n",
       "      <th>r_hat</th>\n",
       "    </tr>\n",
       "  </thead>\n",
       "  <tbody>\n",
       "    <tr>\n",
       "      <th>C(floor)[1]</th>\n",
       "      <td>-0.614</td>\n",
       "      <td>0.074</td>\n",
       "      <td>-0.756</td>\n",
       "      <td>-0.480</td>\n",
       "      <td>0.001</td>\n",
       "      <td>0.001</td>\n",
       "      <td>6146.0</td>\n",
       "      <td>3038.0</td>\n",
       "      <td>1.0</td>\n",
       "    </tr>\n",
       "    <tr>\n",
       "      <th>Intercept</th>\n",
       "      <td>1.326</td>\n",
       "      <td>0.030</td>\n",
       "      <td>1.268</td>\n",
       "      <td>1.379</td>\n",
       "      <td>0.000</td>\n",
       "      <td>0.000</td>\n",
       "      <td>5576.0</td>\n",
       "      <td>3154.0</td>\n",
       "      <td>1.0</td>\n",
       "    </tr>\n",
       "    <tr>\n",
       "      <th>sigma</th>\n",
       "      <td>0.823</td>\n",
       "      <td>0.019</td>\n",
       "      <td>0.789</td>\n",
       "      <td>0.860</td>\n",
       "      <td>0.000</td>\n",
       "      <td>0.000</td>\n",
       "      <td>6248.0</td>\n",
       "      <td>3292.0</td>\n",
       "      <td>1.0</td>\n",
       "    </tr>\n",
       "  </tbody>\n",
       "</table>\n",
       "</div>"
      ],
      "text/plain": [
       "              mean     sd  hdi_3%  hdi_97%  mcse_mean  mcse_sd  ess_bulk  \\\n",
       "C(floor)[1] -0.614  0.074  -0.756   -0.480      0.001    0.001    6146.0   \n",
       "Intercept    1.326  0.030   1.268    1.379      0.000    0.000    5576.0   \n",
       "sigma        0.823  0.019   0.789    0.860      0.000    0.000    6248.0   \n",
       "\n",
       "             ess_tail  r_hat  \n",
       "C(floor)[1]    3038.0    1.0  \n",
       "Intercept      3154.0    1.0  \n",
       "sigma          3292.0    1.0  "
      ]
     },
     "execution_count": 14,
     "metadata": {},
     "output_type": "execute_result"
    }
   ],
   "source": [
    "import arviz as az\n",
    "\n",
    "az.summary(idata_cp)"
   ]
  },
  {
   "cell_type": "code",
   "execution_count": 15,
   "id": "a6ca6800-1981-4e1b-bd3b-6332c148b2dd",
   "metadata": {},
   "outputs": [
    {
     "name": "stderr",
     "output_type": "stream",
     "text": [
      "/Users/ivan/Projects/Minireference/STATSbook/noBSstatsnotebooks/venv/lib/python3.12/site-packages/arviz/rcparams.py:368: FutureWarning: stats.hdi_prob is deprecated since 0.18.0, use stats.ci_prob instead\n",
      "  warnings.warn(\n",
      "Default computed for conditional variable: floor\n"
     ]
    },
    {
     "data": {
      "image/png": "[encoded data removed]",
      "text/plain": [
       "<Figure size 500x300 with 1 Axes>"
      ]
     },
     "metadata": {
      "image/png": {
       "height": 293,
       "width": 453
      }
     },
     "output_type": "display_data"
    }
   ],
   "source": [
    "bmb.interpret.plot_predictions(mod_cp, idata_cp, \"floor\");"
   ]
  },
  {
   "cell_type": "code",
   "execution_count": null,
   "id": "d55a3585-85c5-41c3-9af8-302ed9092311",
   "metadata": {},
   "outputs": [],
   "source": []
  },
  {
   "cell_type": "markdown",
   "id": "cb1c4113-fde7-4bd5-8671-8f7bdadf4ea8",
   "metadata": {},
   "source": [
    "#### No pooling"
   ]
  },
  {
   "cell_type": "code",
   "execution_count": 16,
   "id": "170bd5a2-ada6-49a9-b93e-8cb4ab204955",
   "metadata": {},
   "outputs": [],
   "source": [
    "mod_np = bmb.Model(\"log_radon ~ 1 + C(floor) + C(county_id)\", data=mn_radon)\n",
    "# mod_np"
   ]
  },
  {
   "cell_type": "code",
   "execution_count": 17,
   "id": "360e736c-3be0-41a9-8e66-c6cd4202095c",
   "metadata": {},
   "outputs": [
    {
     "name": "stderr",
     "output_type": "stream",
     "text": [
      "Auto-assigning NUTS sampler...\n",
      "Initializing NUTS using jitter+adapt_diag...\n",
      "Multiprocess sampling (4 chains in 4 jobs)\n",
      "NUTS: [sigma, Intercept, C(floor), C(county_id)]\n"
     ]
    },
    {
     "data": {
      "application/vnd.jupyter.widget-view+json": {
       "model_id": "f7514a80037c4553b16fac256909c3e2",
       "version_major": 2,
       "version_minor": 0
      },
      "text/plain": [
       "Output()"
      ]
     },
     "metadata": {},
     "output_type": "display_data"
    },
    {
     "data": {
      "text/html": [
       "<pre style=\"white-space:pre;overflow-x:auto;line-height:normal;font-family:Menlo,'DejaVu Sans Mono',consolas,'Courier New',monospace\"></pre>\n"
      ],
      "text/plain": []
     },
     "metadata": {},
     "output_type": "display_data"
    },
    {
     "data": {
      "text/html": [
       "<pre style=\"white-space:pre;overflow-x:auto;line-height:normal;font-family:Menlo,'DejaVu Sans Mono',consolas,'Courier New',monospace\">\n",
       "</pre>\n"
      ],
      "text/plain": [
       "\n"
      ]
     },
     "metadata": {},
     "output_type": "display_data"
    },
    {
     "name": "stderr",
     "output_type": "stream",
     "text": [
      "Sampling 4 chains for 1_000 tune and 1_000 draw iterations (4_000 + 4_000 draws total) took 5 seconds.\n",
      "The rhat statistic is larger than 1.01 for some parameters. This indicates problems during sampling. See https://arxiv.org/abs/1903.08008 for details\n",
      "The effective sample size per chain is smaller than 100 for some parameters.  A higher number is needed for reliable rhat and ess computation. See https://arxiv.org/abs/1903.08008 for details\n"
     ]
    }
   ],
   "source": [
    "idata_np = mod_np.fit()"
   ]
  },
  {
   "cell_type": "code",
   "execution_count": 18,
   "id": "452ee230-701b-4205-902a-58a5413cdb30",
   "metadata": {},
   "outputs": [
    {
     "name": "stderr",
     "output_type": "stream",
     "text": [
      "/Users/ivan/Projects/Minireference/STATSbook/noBSstatsnotebooks/venv/lib/python3.12/site-packages/arviz/rcparams.py:368: FutureWarning: stats.hdi_prob is deprecated since 0.18.0, use stats.ci_prob instead\n",
      "  warnings.warn(\n",
      "Default computed for conditional variable: floor, county_id\n"
     ]
    },
    {
     "data": {
      "image/png": "[encoded data removed]",
      "text/plain": [
       "<Figure size 500x300 with 1 Axes>"
      ]
     },
     "metadata": {
      "image/png": {
       "height": 293,
       "width": 452
      }
     },
     "output_type": "display_data"
    }
   ],
   "source": [
    "fig, axs = bmb.interpret.plot_predictions(mod_np, idata_np, [\"floor\", \"county_id\"]);\n",
    "axs[0].get_legend().remove()"
   ]
  },
  {
   "cell_type": "markdown",
   "id": "b68aa0a5-0efb-4064-9d1b-afcd95feeba4",
   "metadata": {},
   "source": [
    "#### Partial Pooling Model: varying slope\n",
    "\n",
    "The partial pooling formula estimates per-county intercepts which drawn\n",
    "from the same distribution which is estimated jointly with the rest of\n",
    "the model parameters. The `1` is the intercept co-efficient. The\n",
    "estimates across counties will all have the same slope.\n",
    "\n",
    "\n",
    "    log_radon ~ floor + (1 | county_id)\n"
   ]
  },
  {
   "cell_type": "code",
   "execution_count": 19,
   "id": "068600cb-b4f5-4ec4-82e8-480eee7e5a30",
   "metadata": {},
   "outputs": [
    {
     "ename": "KeyError",
     "evalue": "'county_id'",
     "output_type": "error",
     "traceback": [
      "\u001b[0;31m---------------------------------------------------------------------------\u001b[0m",
      "\u001b[0;31mKeyError\u001b[0m                                  Traceback (most recent call last)",
      "File \u001b[0;32m~/Projects/Minireference/STATSbook/noBSstatsnotebooks/venv/lib/python3.12/site-packages/pandas/core/indexes/base.py:3805\u001b[0m, in \u001b[0;36mIndex.get_loc\u001b[0;34m(self, key)\u001b[0m\n\u001b[1;32m   3804\u001b[0m \u001b[38;5;28;01mtry\u001b[39;00m:\n\u001b[0;32m-> 3805\u001b[0m     \u001b[38;5;28;01mreturn\u001b[39;00m \u001b[38;5;28;43mself\u001b[39;49m\u001b[38;5;241;43m.\u001b[39;49m\u001b[43m_engine\u001b[49m\u001b[38;5;241;43m.\u001b[39;49m\u001b[43mget_loc\u001b[49m\u001b[43m(\u001b[49m\u001b[43mcasted_key\u001b[49m\u001b[43m)\u001b[49m\n\u001b[1;32m   3806\u001b[0m \u001b[38;5;28;01mexcept\u001b[39;00m \u001b[38;5;167;01mKeyError\u001b[39;00m \u001b[38;5;28;01mas\u001b[39;00m err:\n",
      "File \u001b[0;32mindex.pyx:167\u001b[0m, in \u001b[0;36mpandas._libs.index.IndexEngine.get_loc\u001b[0;34m()\u001b[0m\n",
      "File \u001b[0;32mindex.pyx:196\u001b[0m, in \u001b[0;36mpandas._libs.index.IndexEngine.get_loc\u001b[0;34m()\u001b[0m\n",
      "File \u001b[0;32mpandas/_libs/hashtable_class_helper.pxi:7081\u001b[0m, in \u001b[0;36mpandas._libs.hashtable.PyObjectHashTable.get_item\u001b[0;34m()\u001b[0m\n",
      "File \u001b[0;32mpandas/_libs/hashtable_class_helper.pxi:7089\u001b[0m, in \u001b[0;36mpandas._libs.hashtable.PyObjectHashTable.get_item\u001b[0;34m()\u001b[0m\n",
      "\u001b[0;31mKeyError\u001b[0m: 'county_id'",
      "\nThe above exception was the direct cause of the following exception:\n",
      "\u001b[0;31mKeyError\u001b[0m                                  Traceback (most recent call last)",
      "File \u001b[0;32m~/Projects/Minireference/STATSbook/noBSstatsnotebooks/venv/lib/python3.12/site-packages/formulae/terms/call_resolver.py:131\u001b[0m, in \u001b[0;36mLazyVariable.eval\u001b[0;34m(self, data_mask, env)\u001b[0m\n\u001b[1;32m    130\u001b[0m \u001b[38;5;28;01mtry\u001b[39;00m:\n\u001b[0;32m--> 131\u001b[0m     result \u001b[38;5;241m=\u001b[39m \u001b[43mdata_mask\u001b[49m\u001b[43m[\u001b[49m\u001b[38;5;28;43mself\u001b[39;49m\u001b[38;5;241;43m.\u001b[39;49m\u001b[43mname\u001b[49m\u001b[43m]\u001b[49m\n\u001b[1;32m    132\u001b[0m \u001b[38;5;28;01mexcept\u001b[39;00m \u001b[38;5;167;01mKeyError\u001b[39;00m:\n",
      "File \u001b[0;32m~/Projects/Minireference/STATSbook/noBSstatsnotebooks/venv/lib/python3.12/site-packages/pandas/core/frame.py:4102\u001b[0m, in \u001b[0;36mDataFrame.__getitem__\u001b[0;34m(self, key)\u001b[0m\n\u001b[1;32m   4101\u001b[0m     \u001b[38;5;28;01mreturn\u001b[39;00m \u001b[38;5;28mself\u001b[39m\u001b[38;5;241m.\u001b[39m_getitem_multilevel(key)\n\u001b[0;32m-> 4102\u001b[0m indexer \u001b[38;5;241m=\u001b[39m \u001b[38;5;28;43mself\u001b[39;49m\u001b[38;5;241;43m.\u001b[39;49m\u001b[43mcolumns\u001b[49m\u001b[38;5;241;43m.\u001b[39;49m\u001b[43mget_loc\u001b[49m\u001b[43m(\u001b[49m\u001b[43mkey\u001b[49m\u001b[43m)\u001b[49m\n\u001b[1;32m   4103\u001b[0m \u001b[38;5;28;01mif\u001b[39;00m is_integer(indexer):\n",
      "File \u001b[0;32m~/Projects/Minireference/STATSbook/noBSstatsnotebooks/venv/lib/python3.12/site-packages/pandas/core/indexes/base.py:3812\u001b[0m, in \u001b[0;36mIndex.get_loc\u001b[0;34m(self, key)\u001b[0m\n\u001b[1;32m   3811\u001b[0m         \u001b[38;5;28;01mraise\u001b[39;00m InvalidIndexError(key)\n\u001b[0;32m-> 3812\u001b[0m     \u001b[38;5;28;01mraise\u001b[39;00m \u001b[38;5;167;01mKeyError\u001b[39;00m(key) \u001b[38;5;28;01mfrom\u001b[39;00m \u001b[38;5;21;01merr\u001b[39;00m\n\u001b[1;32m   3813\u001b[0m \u001b[38;5;28;01mexcept\u001b[39;00m \u001b[38;5;167;01mTypeError\u001b[39;00m:\n\u001b[1;32m   3814\u001b[0m     \u001b[38;5;66;03m# If we have a listlike key, _check_indexing_error will raise\u001b[39;00m\n\u001b[1;32m   3815\u001b[0m     \u001b[38;5;66;03m#  InvalidIndexError. Otherwise we fall through and re-raise\u001b[39;00m\n\u001b[1;32m   3816\u001b[0m     \u001b[38;5;66;03m#  the TypeError.\u001b[39;00m\n",
      "\u001b[0;31mKeyError\u001b[0m: 'county_id'",
      "\nDuring handling of the above exception, another exception occurred:\n",
      "\u001b[0;31mKeyError\u001b[0m                                  Traceback (most recent call last)",
      "Cell \u001b[0;32mIn[19], line 1\u001b[0m\n\u001b[0;32m----> 1\u001b[0m mod_pp1 \u001b[38;5;241m=\u001b[39m \u001b[43mbmb\u001b[49m\u001b[38;5;241;43m.\u001b[39;49m\u001b[43mModel\u001b[49m\u001b[43m(\u001b[49m\u001b[38;5;124;43m\"\u001b[39;49m\u001b[38;5;124;43mlog_radon ~ (1 | C(county_id)) + C(floor)\u001b[39;49m\u001b[38;5;124;43m\"\u001b[39;49m\u001b[43m,\u001b[49m\u001b[43m \u001b[49m\u001b[43mdata\u001b[49m\u001b[38;5;241;43m=\u001b[39;49m\u001b[43mradon\u001b[49m\u001b[43m)\u001b[49m\n\u001b[1;32m      2\u001b[0m mod_pp1\n",
      "File \u001b[0;32m~/Projects/Minireference/STATSbook/noBSstatsnotebooks/venv/lib/python3.12/site-packages/bambi/models.py:169\u001b[0m, in \u001b[0;36mModel.__init__\u001b[0;34m(self, formula, data, family, priors, link, categorical, potentials, dropna, auto_scale, noncentered, center_predictors, extra_namespace)\u001b[0m\n\u001b[1;32m    167\u001b[0m     design \u001b[38;5;241m=\u001b[39m remove_common_intercept(design)\n\u001b[1;32m    168\u001b[0m \u001b[38;5;28;01melse\u001b[39;00m:\n\u001b[0;32m--> 169\u001b[0m     design \u001b[38;5;241m=\u001b[39m \u001b[43mfm\u001b[49m\u001b[38;5;241;43m.\u001b[39;49m\u001b[43mdesign_matrices\u001b[49m\u001b[43m(\u001b[49m\n\u001b[1;32m    170\u001b[0m \u001b[43m        \u001b[49m\u001b[38;5;28;43mself\u001b[39;49m\u001b[38;5;241;43m.\u001b[39;49m\u001b[43mformula\u001b[49m\u001b[38;5;241;43m.\u001b[39;49m\u001b[43mmain\u001b[49m\u001b[43m,\u001b[49m\u001b[43m \u001b[49m\u001b[38;5;28;43mself\u001b[39;49m\u001b[38;5;241;43m.\u001b[39;49m\u001b[43mdata\u001b[49m\u001b[43m,\u001b[49m\u001b[43m \u001b[49m\u001b[43mna_action\u001b[49m\u001b[43m,\u001b[49m\u001b[43m \u001b[49m\u001b[38;5;241;43m1\u001b[39;49m\u001b[43m,\u001b[49m\u001b[43m \u001b[49m\u001b[43madditional_namespace\u001b[49m\n\u001b[1;32m    171\u001b[0m \u001b[43m    \u001b[49m\u001b[43m)\u001b[49m\n\u001b[1;32m    173\u001b[0m \u001b[38;5;28;01mif\u001b[39;00m design\u001b[38;5;241m.\u001b[39mresponse \u001b[38;5;129;01mis\u001b[39;00m \u001b[38;5;28;01mNone\u001b[39;00m:\n\u001b[1;32m    174\u001b[0m     \u001b[38;5;28;01mraise\u001b[39;00m \u001b[38;5;167;01mValueError\u001b[39;00m(\n\u001b[1;32m    175\u001b[0m         \u001b[38;5;124m\"\u001b[39m\u001b[38;5;124mNo outcome variable is set! \u001b[39m\u001b[38;5;124m\"\u001b[39m\n\u001b[1;32m    176\u001b[0m         \u001b[38;5;124m\"\u001b[39m\u001b[38;5;124mPlease specify an outcome variable using the formula interface.\u001b[39m\u001b[38;5;124m\"\u001b[39m\n\u001b[1;32m    177\u001b[0m     )\n",
      "File \u001b[0;32m~/Projects/Minireference/STATSbook/noBSstatsnotebooks/venv/lib/python3.12/site-packages/formulae/matrices.py:556\u001b[0m, in \u001b[0;36mdesign_matrices\u001b[0;34m(formula, data, na_action, env, extra_namespace)\u001b[0m\n\u001b[1;32m    553\u001b[0m     \u001b[38;5;28;01melse\u001b[39;00m:\n\u001b[1;32m    554\u001b[0m         \u001b[38;5;28;01mraise\u001b[39;00m \u001b[38;5;167;01mValueError\u001b[39;00m(\u001b[38;5;124mf\u001b[39m\u001b[38;5;124m\"\u001b[39m\u001b[38;5;124m'\u001b[39m\u001b[38;5;124mdata\u001b[39m\u001b[38;5;124m'\u001b[39m\u001b[38;5;124m contains \u001b[39m\u001b[38;5;132;01m{\u001b[39;00mincomplete_rows_n\u001b[38;5;132;01m}\u001b[39;00m\u001b[38;5;124m incomplete rows.\u001b[39m\u001b[38;5;124m\"\u001b[39m)\n\u001b[0;32m--> 556\u001b[0m design \u001b[38;5;241m=\u001b[39m \u001b[43mDesignMatrices\u001b[49m\u001b[43m(\u001b[49m\u001b[43mdescription\u001b[49m\u001b[43m,\u001b[49m\u001b[43m \u001b[49m\u001b[43mdata\u001b[49m\u001b[43m,\u001b[49m\u001b[43m \u001b[49m\u001b[43menv\u001b[49m\u001b[43m)\u001b[49m\n\u001b[1;32m    557\u001b[0m \u001b[38;5;28;01mreturn\u001b[39;00m design\n",
      "File \u001b[0;32m~/Projects/Minireference/STATSbook/noBSstatsnotebooks/venv/lib/python3.12/site-packages/formulae/matrices.py:54\u001b[0m, in \u001b[0;36mDesignMatrices.__init__\u001b[0;34m(self, model, data, env)\u001b[0m\n\u001b[1;32m     51\u001b[0m \u001b[38;5;28mself\u001b[39m\u001b[38;5;241m.\u001b[39mmodel \u001b[38;5;241m=\u001b[39m model\n\u001b[1;32m     53\u001b[0m \u001b[38;5;66;03m# Evaluate terms in the model\u001b[39;00m\n\u001b[0;32m---> 54\u001b[0m \u001b[38;5;28;43mself\u001b[39;49m\u001b[38;5;241;43m.\u001b[39;49m\u001b[43mmodel\u001b[49m\u001b[38;5;241;43m.\u001b[39;49m\u001b[43meval\u001b[49m\u001b[43m(\u001b[49m\u001b[43mdata\u001b[49m\u001b[43m,\u001b[49m\u001b[43m \u001b[49m\u001b[43menv\u001b[49m\u001b[43m)\u001b[49m\n\u001b[1;32m     56\u001b[0m \u001b[38;5;28;01mif\u001b[39;00m \u001b[38;5;28mself\u001b[39m\u001b[38;5;241m.\u001b[39mmodel\u001b[38;5;241m.\u001b[39mresponse:\n\u001b[1;32m     57\u001b[0m     \u001b[38;5;28mself\u001b[39m\u001b[38;5;241m.\u001b[39mresponse \u001b[38;5;241m=\u001b[39m ResponseMatrix(\u001b[38;5;28mself\u001b[39m\u001b[38;5;241m.\u001b[39mmodel\u001b[38;5;241m.\u001b[39mresponse)\n",
      "File \u001b[0;32m~/Projects/Minireference/STATSbook/noBSstatsnotebooks/venv/lib/python3.12/site-packages/formulae/terms/terms.py:1254\u001b[0m, in \u001b[0;36mModel.eval\u001b[0;34m(self, data, env)\u001b[0m\n\u001b[1;32m   1244\u001b[0m \u001b[38;5;250m\u001b[39m\u001b[38;5;124;03m\"\"\"Evaluates terms in the model.\u001b[39;00m\n\u001b[1;32m   1245\u001b[0m \n\u001b[1;32m   1246\u001b[0m \u001b[38;5;124;03mParameters\u001b[39;00m\n\u001b[0;32m   (...)\u001b[0m\n\u001b[1;32m   1251\u001b[0m \u001b[38;5;124;03m    The environment where values and functions are taken from.\u001b[39;00m\n\u001b[1;32m   1252\u001b[0m \u001b[38;5;124;03m\"\"\"\u001b[39;00m\n\u001b[1;32m   1253\u001b[0m \u001b[38;5;66;03m# Set types on all terms\u001b[39;00m\n\u001b[0;32m-> 1254\u001b[0m \u001b[38;5;28;43mself\u001b[39;49m\u001b[38;5;241;43m.\u001b[39;49m\u001b[43mset_types\u001b[49m\u001b[43m(\u001b[49m\u001b[43mdata\u001b[49m\u001b[43m,\u001b[49m\u001b[43m \u001b[49m\u001b[43menv\u001b[49m\u001b[43m)\u001b[49m\n\u001b[1;32m   1256\u001b[0m \u001b[38;5;66;03m# Evaluate common terms\u001b[39;00m\n\u001b[1;32m   1257\u001b[0m encodings \u001b[38;5;241m=\u001b[39m \u001b[38;5;28mself\u001b[39m\u001b[38;5;241m.\u001b[39m_get_encoding_bools()\n",
      "File \u001b[0;32m~/Projects/Minireference/STATSbook/noBSstatsnotebooks/venv/lib/python3.12/site-packages/formulae/terms/terms.py:1161\u001b[0m, in \u001b[0;36mModel.set_types\u001b[0;34m(self, data, env)\u001b[0m\n\u001b[1;32m   1149\u001b[0m \u001b[38;5;250m\u001b[39m\u001b[38;5;124;03m\"\"\"Set the type of the terms in the model.\u001b[39;00m\n\u001b[1;32m   1150\u001b[0m \n\u001b[1;32m   1151\u001b[0m \u001b[38;5;124;03mCalls ``.set_type()`` method on term in the model.\u001b[39;00m\n\u001b[0;32m   (...)\u001b[0m\n\u001b[1;32m   1158\u001b[0m \u001b[38;5;124;03m    The environment where values and functions are taken from.\u001b[39;00m\n\u001b[1;32m   1159\u001b[0m \u001b[38;5;124;03m\"\"\"\u001b[39;00m\n\u001b[1;32m   1160\u001b[0m \u001b[38;5;28;01mfor\u001b[39;00m term \u001b[38;5;129;01min\u001b[39;00m \u001b[38;5;28mself\u001b[39m\u001b[38;5;241m.\u001b[39mterms:\n\u001b[0;32m-> 1161\u001b[0m     \u001b[43mterm\u001b[49m\u001b[38;5;241;43m.\u001b[39;49m\u001b[43mset_type\u001b[49m\u001b[43m(\u001b[49m\u001b[43mdata\u001b[49m\u001b[43m,\u001b[49m\u001b[43m \u001b[49m\u001b[43menv\u001b[49m\u001b[43m)\u001b[49m\n",
      "File \u001b[0;32m~/Projects/Minireference/STATSbook/noBSstatsnotebooks/venv/lib/python3.12/site-packages/formulae/terms/terms.py:646\u001b[0m, in \u001b[0;36mGroupSpecificTerm.set_type\u001b[0;34m(self, data, env)\u001b[0m\n\u001b[1;32m    644\u001b[0m     component\u001b[38;5;241m.\u001b[39mset_type(data)\n\u001b[1;32m    645\u001b[0m \u001b[38;5;28;01melif\u001b[39;00m \u001b[38;5;28misinstance\u001b[39m(component, Call):\n\u001b[0;32m--> 646\u001b[0m     \u001b[43mcomponent\u001b[49m\u001b[38;5;241;43m.\u001b[39;49m\u001b[43mset_type\u001b[49m\u001b[43m(\u001b[49m\u001b[43mdata\u001b[49m\u001b[43m,\u001b[49m\u001b[43m \u001b[49m\u001b[43menv\u001b[49m\u001b[43m)\u001b[49m\n\u001b[1;32m    647\u001b[0m \u001b[38;5;28;01melse\u001b[39;00m:\n\u001b[1;32m    648\u001b[0m     \u001b[38;5;28;01mraise\u001b[39;00m \u001b[38;5;167;01mValueError\u001b[39;00m(\n\u001b[1;32m    649\u001b[0m         \u001b[38;5;124m\"\u001b[39m\u001b[38;5;124mCan\u001b[39m\u001b[38;5;124m'\u001b[39m\u001b[38;5;124mt set type on GroupSpecificTerm because at least one of the components \u001b[39m\u001b[38;5;124m\"\u001b[39m\n\u001b[1;32m    650\u001b[0m         \u001b[38;5;124mf\u001b[39m\u001b[38;5;124m\"\u001b[39m\u001b[38;5;124mis of the unexpected type \u001b[39m\u001b[38;5;132;01m{\u001b[39;00m\u001b[38;5;28mtype\u001b[39m(component)\u001b[38;5;132;01m}\u001b[39;00m\u001b[38;5;124m.\u001b[39m\u001b[38;5;124m\"\u001b[39m\n\u001b[1;32m    651\u001b[0m     )\n",
      "File \u001b[0;32m~/Projects/Minireference/STATSbook/noBSstatsnotebooks/venv/lib/python3.12/site-packages/formulae/terms/call.py:109\u001b[0m, in \u001b[0;36mCall.set_type\u001b[0;34m(self, data_mask, env)\u001b[0m\n\u001b[1;32m    107\u001b[0m transforms_env \u001b[38;5;241m=\u001b[39m Environment([{\u001b[38;5;241m*\u001b[39m\u001b[38;5;241m*\u001b[39mTRANSFORMS, \u001b[38;5;241m*\u001b[39m\u001b[38;5;241m*\u001b[39mENCODINGS}])\n\u001b[1;32m    108\u001b[0m \u001b[38;5;28mself\u001b[39m\u001b[38;5;241m.\u001b[39menv \u001b[38;5;241m=\u001b[39m transforms_env\u001b[38;5;241m.\u001b[39mwith_outer_namespace(env\u001b[38;5;241m.\u001b[39mnamespace)\n\u001b[0;32m--> 109\u001b[0m x \u001b[38;5;241m=\u001b[39m \u001b[38;5;28;43mself\u001b[39;49m\u001b[38;5;241;43m.\u001b[39;49m\u001b[43mcall\u001b[49m\u001b[38;5;241;43m.\u001b[39;49m\u001b[43meval\u001b[49m\u001b[43m(\u001b[49m\u001b[43mdata_mask\u001b[49m\u001b[43m,\u001b[49m\u001b[43m \u001b[49m\u001b[38;5;28;43mself\u001b[39;49m\u001b[38;5;241;43m.\u001b[39;49m\u001b[43menv\u001b[49m\u001b[43m)\u001b[49m\n\u001b[1;32m    111\u001b[0m \u001b[38;5;28;01mif\u001b[39;00m is_numeric_dtype(x):\n\u001b[1;32m    112\u001b[0m     \u001b[38;5;28mself\u001b[39m\u001b[38;5;241m.\u001b[39mkind \u001b[38;5;241m=\u001b[39m \u001b[38;5;124m\"\u001b[39m\u001b[38;5;124mnumeric\u001b[39m\u001b[38;5;124m\"\u001b[39m\n",
      "File \u001b[0;32m~/Projects/Minireference/STATSbook/noBSstatsnotebooks/venv/lib/python3.12/site-packages/formulae/terms/call_resolver.py:264\u001b[0m, in \u001b[0;36mLazyCall.eval\u001b[0;34m(self, data_mask, env)\u001b[0m\n\u001b[1;32m    261\u001b[0m \u001b[38;5;28;01mif\u001b[39;00m \u001b[38;5;28mself\u001b[39m\u001b[38;5;241m.\u001b[39mstateful_transform:\n\u001b[1;32m    262\u001b[0m     callee \u001b[38;5;241m=\u001b[39m \u001b[38;5;28mself\u001b[39m\u001b[38;5;241m.\u001b[39mstateful_transform\n\u001b[0;32m--> 264\u001b[0m args \u001b[38;5;241m=\u001b[39m [\u001b[43marg\u001b[49m\u001b[38;5;241;43m.\u001b[39;49m\u001b[43meval\u001b[49m\u001b[43m(\u001b[49m\u001b[43mdata_mask\u001b[49m\u001b[43m,\u001b[49m\u001b[43m \u001b[49m\u001b[43menv\u001b[49m\u001b[43m)\u001b[49m \u001b[38;5;28;01mfor\u001b[39;00m arg \u001b[38;5;129;01min\u001b[39;00m \u001b[38;5;28mself\u001b[39m\u001b[38;5;241m.\u001b[39margs]\n\u001b[1;32m    265\u001b[0m kwargs \u001b[38;5;241m=\u001b[39m {name: arg\u001b[38;5;241m.\u001b[39meval(data_mask, env) \u001b[38;5;28;01mfor\u001b[39;00m name, arg \u001b[38;5;129;01min\u001b[39;00m \u001b[38;5;28mself\u001b[39m\u001b[38;5;241m.\u001b[39mkwargs\u001b[38;5;241m.\u001b[39mitems()}\n\u001b[1;32m    267\u001b[0m \u001b[38;5;28;01mreturn\u001b[39;00m callee(\u001b[38;5;241m*\u001b[39margs, \u001b[38;5;241m*\u001b[39m\u001b[38;5;241m*\u001b[39mkwargs)\n",
      "File \u001b[0;32m~/Projects/Minireference/STATSbook/noBSstatsnotebooks/venv/lib/python3.12/site-packages/formulae/terms/call_resolver.py:136\u001b[0m, in \u001b[0;36mLazyVariable.eval\u001b[0;34m(self, data_mask, env)\u001b[0m\n\u001b[1;32m    134\u001b[0m         result \u001b[38;5;241m=\u001b[39m env\u001b[38;5;241m.\u001b[39mnamespace[\u001b[38;5;28mself\u001b[39m\u001b[38;5;241m.\u001b[39mname]\n\u001b[1;32m    135\u001b[0m     \u001b[38;5;28;01mexcept\u001b[39;00m \u001b[38;5;167;01mKeyError\u001b[39;00m \u001b[38;5;28;01mas\u001b[39;00m e:\n\u001b[0;32m--> 136\u001b[0m         \u001b[38;5;28;01mraise\u001b[39;00m e\n\u001b[1;32m    137\u001b[0m \u001b[38;5;28;01mreturn\u001b[39;00m result\n",
      "File \u001b[0;32m~/Projects/Minireference/STATSbook/noBSstatsnotebooks/venv/lib/python3.12/site-packages/formulae/terms/call_resolver.py:134\u001b[0m, in \u001b[0;36mLazyVariable.eval\u001b[0;34m(self, data_mask, env)\u001b[0m\n\u001b[1;32m    132\u001b[0m \u001b[38;5;28;01mexcept\u001b[39;00m \u001b[38;5;167;01mKeyError\u001b[39;00m:\n\u001b[1;32m    133\u001b[0m     \u001b[38;5;28;01mtry\u001b[39;00m:\n\u001b[0;32m--> 134\u001b[0m         result \u001b[38;5;241m=\u001b[39m \u001b[43menv\u001b[49m\u001b[38;5;241;43m.\u001b[39;49m\u001b[43mnamespace\u001b[49m\u001b[43m[\u001b[49m\u001b[38;5;28;43mself\u001b[39;49m\u001b[38;5;241;43m.\u001b[39;49m\u001b[43mname\u001b[49m\u001b[43m]\u001b[49m\n\u001b[1;32m    135\u001b[0m     \u001b[38;5;28;01mexcept\u001b[39;00m \u001b[38;5;167;01mKeyError\u001b[39;00m \u001b[38;5;28;01mas\u001b[39;00m e:\n\u001b[1;32m    136\u001b[0m         \u001b[38;5;28;01mraise\u001b[39;00m e\n",
      "File \u001b[0;32m~/Projects/Minireference/STATSbook/noBSstatsnotebooks/venv/lib/python3.12/site-packages/formulae/environment.py:17\u001b[0m, in \u001b[0;36mVarLookupDict.__getitem__\u001b[0;34m(self, key)\u001b[0m\n\u001b[1;32m     15\u001b[0m     \u001b[38;5;28;01mexcept\u001b[39;00m \u001b[38;5;167;01mKeyError\u001b[39;00m:\n\u001b[1;32m     16\u001b[0m         \u001b[38;5;28;01mpass\u001b[39;00m\n\u001b[0;32m---> 17\u001b[0m \u001b[38;5;28;01mraise\u001b[39;00m \u001b[38;5;167;01mKeyError\u001b[39;00m(key)\n",
      "\u001b[0;31mKeyError\u001b[0m: 'county_id'"
     ]
    }
   ],
   "source": [
    "mod_pp1 = bmb.Model(\"log_radon ~ (1 | C(county_id)) + C(floor)\", data=radon)\n",
    "mod_pp1"
   ]
  },
  {
   "cell_type": "code",
   "execution_count": null,
   "id": "6336949e-449a-4460-9c84-a48212f2124d",
   "metadata": {},
   "outputs": [],
   "source": [
    "idata_pp1 = mod_pp1.fit()"
   ]
  },
  {
   "cell_type": "code",
   "execution_count": null,
   "id": "96a9d401-70fb-43f7-a381-4ad5f47ef913",
   "metadata": {},
   "outputs": [],
   "source": [
    "az.plot_forest(idata_pp1, var_names=[\"1|C(county_id)\"], combined=True);"
   ]
  },
  {
   "cell_type": "markdown",
   "id": "75a09bd9-62b3-4918-885f-a6087e79b5cb",
   "metadata": {},
   "source": [
    "#### Partial Pooling Model 2: varying slope, varying intercept\n",
    "\n",
    "The varying-slope, varying intercept model adds `floor` to the\n",
    "group-level co-efficients. Now estimates across counties will all have\n",
    "varying slope.\n",
    "\n",
    "    log_radon ~ floor + (1 + floor | county_id)"
   ]
  },
  {
   "cell_type": "code",
   "execution_count": null,
   "id": "6cbd7127-47f8-4e03-879c-89a2f1772617",
   "metadata": {},
   "outputs": [],
   "source": [
    "mod_pp2 = bmb.Model(\"log_radon ~ (1 + C(floor) | C(county_id))\", data=mn_radon)\n",
    "mod_pp2"
   ]
  },
  {
   "cell_type": "code",
   "execution_count": null,
   "id": "f5df25ff-a39b-4204-844b-8ac09bb8872e",
   "metadata": {},
   "outputs": [],
   "source": [
    "idata_pp2 = mod_pp2.fit()"
   ]
  },
  {
   "cell_type": "code",
   "execution_count": null,
   "id": "30cab9ea-916b-419c-83df-1da00eccd9b0",
   "metadata": {},
   "outputs": [],
   "source": [
    "idata_pp2.posterior"
   ]
  },
  {
   "cell_type": "code",
   "execution_count": null,
   "id": "14227677-46d3-4428-8bc2-1487cf3e985f",
   "metadata": {
    "editable": true,
    "slideshow": {
     "slide_type": ""
    },
    "tags": []
   },
   "outputs": [],
   "source": [
    "az.plot_forest(idata_pp2, var_names=[\"1|C(county_id)\", \"C(floor)|C(county_id)\"], combined=True);"
   ]
  },
  {
   "cell_type": "code",
   "execution_count": null,
   "id": "39c39405-7870-4e88-8f6b-e4a678f6b46b",
   "metadata": {
    "editable": true,
    "slideshow": {
     "slide_type": ""
    },
    "tags": []
   },
   "outputs": [],
   "source": []
  },
  {
   "cell_type": "markdown",
   "id": "2da55bf0-b50d-43a9-8f52-10d718459a68",
   "metadata": {},
   "source": [
    "### Educaitonal data\n",
    "\n",
    "cf. https://mc-stan.org/users/documentation/case-studies/tutorial_rstanarm.html\n",
    "\n",
    "1.1 Data example\n",
    "We will be analyzing the Gcsemv dataset (Rasbash et al. 2000) from the mlmRev package in R. \n",
    "The data include the General Certificate of Secondary Education (GCSE) exam scores of 1,905 students from 73 schools in England on a science subject. The Gcsemv dataset consists of the following 5 variables:\n",
    "\n",
    "- school: school identifier\n",
    "- student: student identifier\n",
    "- gender: gender of a student (M: Male, F: Female)\n",
    "- written: total score on written paper\n",
    "- course: total score on coursework paper\n"
   ]
  },
  {
   "cell_type": "code",
   "execution_count": null,
   "id": "ff2cbb1e-99d0-4ba8-913a-b9ac655c84ea",
   "metadata": {
    "editable": true,
    "slideshow": {
     "slide_type": ""
    },
    "tags": []
   },
   "outputs": [],
   "source": [
    "import pyreadr\n",
    "\n",
    "# Gcsemv_r = pyreadr.read_r('/Users/ivan/Downloads/mlmRev/data/Gcsemv.rda')\n",
    "# Gcsemv_r[\"Gcsemv\"].dropna().to_csv(\"../datasets/gcsemv.csv\", index=False)\n",
    "\n",
    "gcsemv = pd.read_csv(\"../datasets/gcsemv.csv\")\n",
    "gcsemv.head()"
   ]
  },
  {
   "cell_type": "code",
   "execution_count": null,
   "id": "99f9cee9-2e9c-41a5-bab7-33cf186a4134",
   "metadata": {},
   "outputs": [],
   "source": [
    "import bambi as bmb\n",
    "m1 = bmb.Model(formula=\"course ~ 1 + (1 | school)\", data=gcsemv)\n",
    "m1"
   ]
  },
  {
   "cell_type": "code",
   "execution_count": null,
   "id": "a2c15943-c60b-41ab-9ba1-72287f5e5f49",
   "metadata": {},
   "outputs": [],
   "source": [
    "idata1 = m1.fit()"
   ]
  },
  {
   "cell_type": "code",
   "execution_count": null,
   "id": "aa8c1fb7-b7af-4123-9ff5-eb604c713c3a",
   "metadata": {},
   "outputs": [],
   "source": [
    "az.summary(idata1)"
   ]
  },
  {
   "cell_type": "code",
   "execution_count": null,
   "id": "b4a04125-5007-4fb4-b900-70b7d5708e37",
   "metadata": {},
   "outputs": [],
   "source": [
    "m3 = bmb.Model(formula=\"course ~ gender + (1 + gender|school)\", data=gcsemv)\n",
    "m3"
   ]
  },
  {
   "cell_type": "code",
   "execution_count": null,
   "id": "0107426b-b5cb-4f4f-b046-37dca8054f09",
   "metadata": {},
   "outputs": [],
   "source": [
    "m3.fit()"
   ]
  },
  {
   "cell_type": "markdown",
   "id": "cb40d826-7f57-4a98-a89d-d0ab1f9f8e4b",
   "metadata": {},
   "source": [
    "### Sleepstudy dataset\n",
    "\n",
    "- Description: Contains reaction times of subjects under sleep deprivation conditions.\n",
    "- Source: Featured in the R package lme4.\n",
    "- Application: Demonstrates linear mixed-effects modeling with random slopes and intercepts.\n",
    "\n",
    "\n",
    "https://bambinos.github.io/bambi/notebooks/sleepstudy.html"
   ]
  },
  {
   "cell_type": "code",
   "execution_count": null,
   "id": "60c65c68-1f32-4814-9969-e90f9ee0a30d",
   "metadata": {},
   "outputs": [],
   "source": [
    "sleepstudy = bmb.load_data(\"sleepstudy\")\n",
    "sleepstudy"
   ]
  },
  {
   "cell_type": "markdown",
   "id": "73638ee5-8637-4def-9af4-c1257b61137c",
   "metadata": {},
   "source": [
    "### Pigs dataset\n",
    "\n",
    "https://bambinos.github.io/bambi/notebooks/multi-level_regression.html"
   ]
  },
  {
   "cell_type": "code",
   "execution_count": null,
   "id": "985ccab8-058e-45ce-8ea8-12506d56958b",
   "metadata": {},
   "outputs": [],
   "source": [
    "import statsmodels.api as sm\n",
    "dietox = sm.datasets.get_rdataset(\"dietox\", \"geepack\").data\n",
    "dietox"
   ]
  },
  {
   "cell_type": "code",
   "execution_count": null,
   "id": "7ca3acf4-8054-4c94-8ade-b86c889b7537",
   "metadata": {},
   "outputs": [],
   "source": [
    "pigsmodel = bmb.Model(\"Weight ~ Time + (Time|Pig)\", dietox)\n",
    "pigsidata = pigsmodel.fit()"
   ]
  },
  {
   "cell_type": "code",
   "execution_count": null,
   "id": "293157e2-5ad9-4e7f-9a0e-fdbeccfe6c92",
   "metadata": {},
   "outputs": [],
   "source": [
    "az.summary(pigsidata, var_names=[\"Intercept\", \"Time\", \"1|Pig_sigma\", \"Time|Pig_sigma\", \"sigma\"])\n"
   ]
  },
  {
   "cell_type": "markdown",
   "id": "721ece3e-2f69-4b18-afc2-280304011f72",
   "metadata": {
    "editable": true,
    "slideshow": {
     "slide_type": ""
    },
    "tags": []
   },
   "source": [
    "### Tadpoles\n",
    "\n",
    "https://www.youtube.com/watch?v=iwVqiiXYeC4\n",
    "\n",
    "logistic regression model\n"
   ]
  },
  {
   "cell_type": "code",
   "execution_count": null,
   "id": "3d808eb6-d57b-495c-81e2-8a132d59ba73",
   "metadata": {},
   "outputs": [],
   "source": []
  }
 ],
 "metadata": {
  "kernelspec": {
   "display_name": "Python 3 (ipykernel)",
   "language": "python",
   "name": "python3"
  },
  "language_info": {
   "codemirror_mode": {
    "name": "ipython",
    "version": 3
   },
   "file_extension": ".py",
   "mimetype": "text/x-python",
   "name": "python",
   "nbconvert_exporter": "python",
   "pygments_lexer": "ipython3",
   "version": "3.12.4"
  }
 },
 "nbformat": 4,
 "nbformat_minor": 5
}
