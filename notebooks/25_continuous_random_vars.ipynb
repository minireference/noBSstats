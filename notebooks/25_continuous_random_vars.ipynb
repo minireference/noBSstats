{
 "cells": [
  {
   "cell_type": "markdown",
   "id": "e7d3faee-b4be-42ab-88e5-c115af614490",
   "metadata": {
    "tags": []
   },
   "source": [
    "# Section 2.5 — Continuous random variables\n",
    "\n",
    "This notebook contains all the code examples from [Section 2.5 Continuous random variables]() of the **No Bullshit Guide to Statistics**.\n",
    "\n",
    "Topics covered in this notebook:\n",
    "- Definitions of continuous random variables\n",
    "- Examples of random variables\n",
    "- Probability calculations\n",
    "- Computer models for random variables \n",
    "  - Overview of `scipy.stats` methods\n",
    "- Real-world example to demo probability applications\n",
    "- Discussion\n",
    "  - Bulk and tails of a the normal distribution\n"
   ]
  },
  {
   "cell_type": "markdown",
   "id": "c91d250a-73b0-4033-b6d0-5e9f870e6c2d",
   "metadata": {
    "tags": []
   },
   "source": [
    "#### Notebook setup\n",
    "\n",
    "We'll start by importing the Python modules we'll need for this notebook."
   ]
  },
  {
   "cell_type": "code",
   "execution_count": 1,
   "id": "8457739f-5b96-4dce-ab18-0a4f0d86e4f6",
   "metadata": {},
   "outputs": [],
   "source": [
    "# load Python modules\n",
    "import numpy as np\n",
    "import pandas as pd\n",
    "import seaborn as sns\n",
    "import matplotlib.pyplot as plt"
   ]
  },
  {
   "cell_type": "code",
   "execution_count": 2,
   "id": "79ed135c-adf8-466e-99c8-8120baf7e565",
   "metadata": {},
   "outputs": [],
   "source": [
    "# Figures setup\n",
    "sns.set_theme(\n",
    "    context=\"paper\",\n",
    "    style=\"whitegrid\",\n",
    "    palette=\"colorblind\",\n",
    "    rc={'figure.figsize': (7,4)},\n",
    ")\n",
    "\n",
    "# %config InlineBackend.figure_format = 'retina'"
   ]
  },
  {
   "cell_type": "code",
   "execution_count": 3,
   "id": "fffe8947-96a6-4b9d-afc0-69d77d207efe",
   "metadata": {},
   "outputs": [],
   "source": [
    "# set random seed for repeatability\n",
    "np.random.seed(3)"
   ]
  },
  {
   "cell_type": "code",
   "execution_count": null,
   "id": "fce3d9fd-21e5-4a83-9dec-aa43581b14b5",
   "metadata": {},
   "outputs": [],
   "source": []
  },
  {
   "cell_type": "code",
   "execution_count": null,
   "id": "2d8b1da5-c36b-40a9-82ae-ecf01a7be3a3",
   "metadata": {},
   "outputs": [],
   "source": []
  },
  {
   "cell_type": "markdown",
   "id": "3fd650e9-7b32-434e-856b-76a434d7af1d",
   "metadata": {},
   "source": [
    "## Definitions"
   ]
  },
  {
   "cell_type": "markdown",
   "id": "fe9ef2fc-2382-482a-8c86-8746168366a9",
   "metadata": {
    "tags": []
   },
   "source": [
    "\n",
    "### Random variables\n",
    "\n",
    "- *random variable* $X$:\n",
    "  a quantity that can take on different values.\n",
    "- **outcome**: a particular value $\\{X = x\\}$ or range of values $\\{a \\leq X \\leq b\\}$ that can occur as a result of observing the random variable $X$.\n",
    "- **sample space** $\\mathcal{X}$: describes the set of all possible outcomes of the random variable.\n",
    "- $f_X$: the *probability distribution function*\n",
    "  is a function that assigns probabilities to the different outcome in the sample space of a random variable.\n",
    "  The probability distribution function of the random variable $X$\n",
    "  is a function of the form $f_X: \\mathcal{X} \\to \\mathbb{R}$.\n",
    "- $F_X$:\n",
    "  the *cumulative distribution function* (CDF) tells us the probability of an outcome\n",
    "  less than or equal to a given value: $F_X(b) = Pr(\\{ X \\leq b \\})$.\n",
    "- $F_X^{-1}$:\n",
    "  the inverse cumulative distribution function computes contains the information\n",
    "  about the quantiles of the probability distribution.\n",
    "  The value $F_X^{-1}(q)=x_q$ tells how far you need to go in the sample space\n",
    "  so that the event $\\{ X \\leq x_q \\}$ contains a proportion $q$ of the total probability:\n",
    "  $\\Pr(\\{ X \\leq x_q \\})=q$.\n",
    "- $\\mathbb{E}_X[w]$:\n",
    "  the *expected value* of the function $w(X)$\n",
    "  computes the average value of $w(X)$ computed for all the possible values of the random variable $X$.\n",
    "\n",
    "\n",
    "\n"
   ]
  },
  {
   "cell_type": "code",
   "execution_count": null,
   "id": "f7fbc565-9697-4c44-86a9-aef8f7b686eb",
   "metadata": {},
   "outputs": [],
   "source": []
  },
  {
   "cell_type": "markdown",
   "id": "8e6a5299-a37a-4a2b-a538-d71e75641bd4",
   "metadata": {},
   "source": [
    "#### Example 1: Uniform distribution\n",
    "\n",
    "The [uniform distribution](https://en.wikipedia.org/wiki/Continuous_uniform_distribution) $\\mathcal{U}(0,1)$ is described by the following probability density function:\n",
    "$$\n",
    "  p_U(u) =\n",
    "  \\begin{cases}\n",
    "      1 & \\mathrm{for}\\ 0 \\le u \\le 1, \\\\\n",
    "      0 & \\mathrm{for}\\ u<0\\ \\mathrm{or}\\ u>1.\n",
    "  \\end{cases}\n",
    "$$\n",
    "where $U$ is the name of the random variable and $u$ are particular values it can take on.\n",
    "\n",
    "The above equation describes tells you how likely it is to observe $\\{U=u\\}$.\n",
    "For a uniform distribution $\\mathcal{U}(0,1)$, each $u$ between 0 and 1 is equally likely to occur,\n",
    "and values of $u$ outside this range have zero probability of occurring."
   ]
  },
  {
   "cell_type": "markdown",
   "id": "755c1422-b9b9-4a42-9126-9bc796afad92",
   "metadata": {},
   "source": [
    "**Computer simulation**\n",
    "\n",
    "- The continuous uniform family of distribution $\\mathcal{U}(\\alpha,\\beta)$,\n",
    "  which assigns equal probabilities to all outcomes in the interval $[\\alpha,\\beta]$.\n",
    "  To create a computer model for a continuous uniform distribution,\n",
    "  use the code `uniform(alpha,beta)`,\n",
    "  where `alpha` and `beta` are two floats.\n",
    "\n",
    "\n",
    "We'll introduce computer models for random variables is [Section 2.1.5 — Computer models for random variables](#computer_models) below, but since we're looking at a notebook, we can show a little preview of the calculations you'll learn by the end of the section."
   ]
  },
  {
   "cell_type": "code",
   "execution_count": 4,
   "id": "9ca958d7-089f-46b0-ae9e-003f4b0ab78e",
   "metadata": {},
   "outputs": [
    {
     "data": {
      "text/plain": [
       "0.3"
      ]
     },
     "execution_count": 4,
     "metadata": {},
     "output_type": "execute_result"
    }
   ],
   "source": [
    "# define the computer model `rvU` for the random variable U\n",
    "from scipy.stats import uniform\n",
    "rvU = uniform(0, 1)\n",
    "\n",
    "# use `quad` function to integrate rvU.pdf between 0.2 and 0.5\n",
    "from scipy.integrate import quad\n",
    "quad(rvU.pdf, 0.2, 0.5)[0]"
   ]
  },
  {
   "cell_type": "code",
   "execution_count": null,
   "id": "5f2f57b7-7d0a-4fbc-8b45-894eecbeb84b",
   "metadata": {},
   "outputs": [],
   "source": []
  },
  {
   "cell_type": "markdown",
   "id": "844f9986-4ad9-4ea1-95d0-51796ed332b4",
   "metadata": {},
   "source": [
    "#### Example 2: Normal distribution\n",
    "\n",
    "A random variable $N$ with a [normal distribution](https://en.wikipedia.org/wiki/Normal_distribution) \n",
    "$\\mathcal{N}(\\mu,\\sigma)$ is described by the probability density function:\n",
    "$$ \\Large\n",
    "    f_N(n) = \\tfrac{1}{\\sigma\\sqrt{2\\pi}} e^{\\small -\\tfrac{(n-\\mu)^2}{2\\sigma^2}}.\n",
    "$$\n",
    "\n",
    "The mean $\\mu$ (the Greek letter *mu*) and the standard deviation $\\sigma$ (the Greek letter *sigma*) are called the parameters of the distribution.\n",
    "\n",
    "The math notation $\\mathcal{N}(\\mu, \\sigma)$ is used to describe the whole family of normal probability distributions,\n",
    "and $N \\sim \\mathcal{N}(1000, 100)$ is a particular instance of the distribution with mean $\\mu = 1000$ and standard deviation $\\sigma = 100$."
   ]
  },
  {
   "cell_type": "markdown",
   "id": "9c889e69-1d12-4097-a07b-5802ca0aafe9",
   "metadata": {},
   "source": [
    "The code example below shows the calculation of the probability $\\Pr\\!\\left( \\{ 800 \\leq N \\leq 900 \\} \\right)$,\n",
    "which corresponds to the integral $\\int_{n=800}^{n=900} f_N(n) dn$."
   ]
  },
  {
   "cell_type": "code",
   "execution_count": 5,
   "id": "dd67fe43-155c-4a67-800e-2d28d3c67117",
   "metadata": {},
   "outputs": [
    {
     "data": {
      "text/plain": [
       "0.13590512198327784"
      ]
     },
     "execution_count": 5,
     "metadata": {},
     "output_type": "execute_result"
    }
   ],
   "source": [
    "# define the computer model `rvN` for the random variable N\n",
    "from scipy.stats import norm\n",
    "rvN = norm(1000, 100)\n",
    "\n",
    "# use `quad` function to integrate rvN.pdf between 800 and 900\n",
    "quad(rvN.pdf, 800, 900)[0]"
   ]
  },
  {
   "cell_type": "code",
   "execution_count": null,
   "id": "6cca4d95-e6c3-4329-8451-ac4c3824eae7",
   "metadata": {},
   "outputs": [],
   "source": []
  },
  {
   "cell_type": "code",
   "execution_count": null,
   "id": "920b595e-b459-40d3-b621-4ca9d8ddf79e",
   "metadata": {},
   "outputs": [],
   "source": []
  },
  {
   "cell_type": "markdown",
   "id": "35cf7132-d1d8-495f-b18f-e088e3c5fc6a",
   "metadata": {
    "tags": []
   },
   "source": [
    "## Calculations with random variables"
   ]
  },
  {
   "cell_type": "markdown",
   "id": "aa02b21b-514a-482a-a029-49f4f6a15835",
   "metadata": {},
   "source": [
    "### Example 1: mean and variance of the uniform distribution\n"
   ]
  },
  {
   "cell_type": "markdown",
   "id": "28410a0a-542c-4a96-bb99-b471e571fcd1",
   "metadata": {},
   "source": [
    "#### Mean\n",
    "\\begin{align*}\n",
    "    \\mu_U = \\mathbb{E}_U[U] \n",
    "        &=\t\\int_{-\\infty}^{\\infty}\tu f_U(u) \\; du\t\t\\\\\n",
    "        &=\t\\int_0^1 u f_U(u) \\; du\t\t\t\t\\\\\n",
    "        &=\t\\int_0^1 u \\cdot 1 \\; du\t= \t\\tfrac{1}{2}.\n",
    "\\end{align*}"
   ]
  },
  {
   "cell_type": "code",
   "execution_count": 6,
   "id": "1ab0b2fc-fc40-4784-9573-da414ab6a2b1",
   "metadata": {},
   "outputs": [
    {
     "data": {
      "text/latex": [
       "$\\displaystyle \\frac{1}{2}$"
      ],
      "text/plain": [
       "1/2"
      ]
     },
     "execution_count": 6,
     "metadata": {},
     "output_type": "execute_result"
    }
   ],
   "source": [
    "from sympy import symbols, integrate\n",
    "\n",
    "u = symbols('u')\n",
    "integrate(u * 1, (u,0,1))"
   ]
  },
  {
   "cell_type": "markdown",
   "id": "9aa421a2-69e4-44bb-bc24-c74583c43a7b",
   "metadata": {},
   "source": [
    "So the mean is $\\mu_U = \\frac{1}{2} = 0.5$."
   ]
  },
  {
   "cell_type": "markdown",
   "id": "b1810fda-46db-4237-aec4-f9f13293c036",
   "metadata": {},
   "source": [
    "#### Variance\n",
    "\n",
    "The formula for the variance is\n",
    "$$\n",
    "    \\sigma_U^2\n",
    "        = \\mathbb{E}_U\\!\\left[ (U-\\mu_U)^2 \\right]\n",
    "        = \\int_0^1 (u- \\tfrac{1}{2})^2 \\cdot f_U(u) \\; du.\n",
    "$$"
   ]
  },
  {
   "cell_type": "code",
   "execution_count": 7,
   "id": "8cdfcb36-fcea-49e1-8d38-030123ddee54",
   "metadata": {},
   "outputs": [
    {
     "data": {
      "text/latex": [
       "$\\displaystyle 0.0833333333333333$"
      ],
      "text/plain": [
       "0.0833333333333333"
      ]
     },
     "execution_count": 7,
     "metadata": {},
     "output_type": "execute_result"
    }
   ],
   "source": [
    "from sympy import symbols, integrate\n",
    "\n",
    "u = symbols('u')\n",
    "integrate( (u-1/2)**2 * 1, (u,0,1) )"
   ]
  },
  {
   "cell_type": "markdown",
   "id": "9aaacc47-d31d-4634-910b-c3da5ce0ae77",
   "metadata": {},
   "source": [
    "So the variance of $U$ is $\\sigma_U^2 = \\frac{1}{12} = 0.08\\overline{3}$.\n",
    "\n",
    "We can compute the standard deviation $\\sigma_U$ by taking the square root of the variance."
   ]
  },
  {
   "cell_type": "code",
   "execution_count": 8,
   "id": "ab25793c-0443-4022-a3bb-e44774f18afc",
   "metadata": {},
   "outputs": [
    {
     "data": {
      "text/plain": [
       "0.2886751345948128"
      ]
     },
     "execution_count": 8,
     "metadata": {},
     "output_type": "execute_result"
    }
   ],
   "source": [
    "import numpy as np\n",
    "np.sqrt(0.0833333333333333)"
   ]
  },
  {
   "cell_type": "code",
   "execution_count": null,
   "id": "556133c4-5ffb-422b-80e3-d203ddb99b04",
   "metadata": {},
   "outputs": [],
   "source": []
  },
  {
   "cell_type": "markdown",
   "id": "25b3333b-b387-4698-b351-7731cfca0cc7",
   "metadata": {},
   "source": [
    "### Example 2: mean and variance of a normal distribution"
   ]
  },
  {
   "cell_type": "markdown",
   "id": "ff86118d-794a-4a36-941b-dd8660e6c33c",
   "metadata": {},
   "source": [
    "$$\n",
    "    p_N(n)\n",
    "      = \\tfrac{1}{\\sigma\\sqrt{2\\pi}} e^{-\\tfrac{(n-\\mu)^2}{2\\sigma^2}}\n",
    "      = \\tfrac{1}{100\\sqrt{2\\pi}} e^{-\\tfrac{(n-1000)^2}{2\\cdot100^2}}.\n",
    "$$"
   ]
  },
  {
   "cell_type": "code",
   "execution_count": 9,
   "id": "614d0d72-b1df-42b0-9533-d0583a6e1c5a",
   "metadata": {},
   "outputs": [],
   "source": [
    "import numpy as np\n",
    "\n",
    "mu = 1000\n",
    "sigma = 100\n",
    "\n",
    "def fN(n):\n",
    "    z = (n - mu)/sigma\n",
    "    C = sigma * np.sqrt(2*np.pi)\n",
    "    return 1 / C * np.exp(-1/2 * z**2)"
   ]
  },
  {
   "cell_type": "markdown",
   "id": "b5eca329-479a-4534-b631-de38c20b4bfd",
   "metadata": {},
   "source": [
    "The mean of $N$ is"
   ]
  },
  {
   "cell_type": "code",
   "execution_count": 10,
   "id": "522bbcba-8161-4a15-8ff5-cd7f2f0bce63",
   "metadata": {},
   "outputs": [
    {
     "data": {
      "text/plain": [
       "1000.0000000000002"
      ]
     },
     "execution_count": 10,
     "metadata": {},
     "output_type": "execute_result"
    }
   ],
   "source": [
    "from scipy.integrate import quad\n",
    "\n",
    "def n_times_fN(n):\n",
    "    return n * fN(n)\n",
    "\n",
    "muN = quad(n_times_fN, 0, 3000)[0]\n",
    "muN"
   ]
  },
  {
   "cell_type": "markdown",
   "id": "f1d74ce1-9665-45ee-a6c7-6ffc97f659c6",
   "metadata": {},
   "source": [
    "The standard deviation of $N$ is"
   ]
  },
  {
   "cell_type": "code",
   "execution_count": 11,
   "id": "873b7417-857a-40a8-955c-fdee3279c89d",
   "metadata": {},
   "outputs": [
    {
     "data": {
      "text/plain": [
       "100.0"
      ]
     },
     "execution_count": 11,
     "metadata": {},
     "output_type": "execute_result"
    }
   ],
   "source": [
    "def n_minus_mu_sq_times_fN(n):\n",
    "    return (n-muN)**2 * fN(n)\n",
    "\n",
    "sigma_sq = quad(n_minus_mu_sq_times_fN, 0, 2000)[0]\n",
    "sigmaN = np.sqrt(sigma_sq)\n",
    "sigmaN"
   ]
  },
  {
   "cell_type": "code",
   "execution_count": null,
   "id": "d9ad0130-1d13-40f3-badb-5c18beb89de7",
   "metadata": {},
   "outputs": [],
   "source": []
  },
  {
   "cell_type": "code",
   "execution_count": null,
   "id": "f51c3190-52f3-479f-ae32-9417d6fffe3f",
   "metadata": {},
   "outputs": [],
   "source": []
  },
  {
   "cell_type": "markdown",
   "id": "de4a6004-f4b4-47f0-b409-1209853248d7",
   "metadata": {},
   "source": [
    "### Skewness and kurtosis"
   ]
  },
  {
   "cell_type": "code",
   "execution_count": 12,
   "id": "fed2fdf0-856d-4d77-b439-e9baf4c5ab7f",
   "metadata": {},
   "outputs": [],
   "source": [
    "from scipy.stats import norm\n",
    "\n",
    "mu = 0     # position of the centre\n",
    "sigma = 1  # dispersion\n",
    "rvZ = norm(mu, sigma)"
   ]
  },
  {
   "cell_type": "code",
   "execution_count": 13,
   "id": "d06806a1-a878-4ff3-bbe1-b0b0af7a3934",
   "metadata": {},
   "outputs": [
    {
     "data": {
      "text/plain": [
       "(array(0.), array(1.), array(0.), array(0.))"
      ]
     },
     "execution_count": 13,
     "metadata": {},
     "output_type": "execute_result"
    }
   ],
   "source": [
    "mean, var, skew, kurt = rvZ.stats(moments=\"mvsk\")\n",
    "mean, var, skew, kurt"
   ]
  },
  {
   "cell_type": "code",
   "execution_count": null,
   "id": "6b3f0b14-9ab1-4240-99a4-64c86ad6a6dc",
   "metadata": {},
   "outputs": [],
   "source": []
  },
  {
   "cell_type": "markdown",
   "id": "c8e0861e-c992-47db-a1d2-d8fdea586e9e",
   "metadata": {},
   "source": [
    "<a name=\"computer_models\"></a>\n",
    "\n",
    "## Computer models for random variables\n",
    "\n",
    "- `<model>`: the family of probability distributions\n",
    "- `<params>`: parameters of the model—specific value of the control knobs we choose in the general family of distributions to create a particular distribution\n",
    "- `<model>(<params>)`: a particular instance of probability model created by choosing a model family `<model>` and the model parameters `<params>`.\n",
    "  - example 1: uniform family of distribution $\\mathcal{U}(\\alpha,\\beta)$ with parameters $\\alpha$ and $\\beta$.  \n",
    "  - example 2: normal family of distribution $\\mathcal{N}(\\mu,\\sigma)$ with parameters $\\mu$ and $\\sigma$.\n",
    "- $\\sim$: math shorthand symbol that stands for \"is distributed according to.\"\n",
    "  For example $X \\sim \\texttt{model}(\\theta)$ means the random variable $X$\n",
    "  is distributed according to model instance $\\texttt{model}$ and parameters $\\theta$.\n"
   ]
  },
  {
   "cell_type": "code",
   "execution_count": 14,
   "id": "8d7d6007-5ebf-4269-9d5b-bbc208ee60df",
   "metadata": {},
   "outputs": [],
   "source": [
    "from scipy.stats import norm\n",
    "\n",
    "# create a normal random variable with mean 1000 and std 100\n",
    "rvN = norm(1000, 100)"
   ]
  },
  {
   "cell_type": "code",
   "execution_count": 15,
   "id": "d0ff511e-df45-43fa-a51d-aa8ac93f99e8",
   "metadata": {},
   "outputs": [
    {
     "data": {
      "text/plain": [
       "scipy.stats._distn_infrastructure.rv_frozen"
      ]
     },
     "execution_count": 15,
     "metadata": {},
     "output_type": "execute_result"
    }
   ],
   "source": [
    "type(rvN)"
   ]
  },
  {
   "cell_type": "code",
   "execution_count": 16,
   "id": "3db25a22-3944-4d26-84f9-191d19674038",
   "metadata": {},
   "outputs": [],
   "source": [
    "## see all attributes and methods:\n",
    "# [attr for attr in dir(rvN) if \"__\" not in attr] "
   ]
  },
  {
   "cell_type": "markdown",
   "id": "48f711e7-3209-42bc-ab14-303f09ae6889",
   "metadata": {},
   "source": [
    "### Plotting the probability density function"
   ]
  },
  {
   "cell_type": "code",
   "execution_count": 17,
   "id": "de2ba710-5656-41f0-ba55-32d701326176",
   "metadata": {},
   "outputs": [
    {
     "data": {
      "text/plain": [
       "<AxesSubplot:>"
      ]
     },
     "execution_count": 17,
     "metadata": {},
     "output_type": "execute_result"
    },
    {
     "data": {
      "image/png": "[encoded data removed]",
      "text/plain": [
       "<Figure size 504x288 with 1 Axes>"
      ]
     },
     "metadata": {},
     "output_type": "display_data"
    }
   ],
   "source": [
    "ns = np.linspace(0, 2000, 10000)\n",
    "fNs = rvN.pdf(ns)\n",
    "sns.lineplot(x=ns, y=fNs, label=\"pdf of $N$\")"
   ]
  },
  {
   "cell_type": "markdown",
   "id": "3896f2b3-6c0e-4195-968e-136cbb041ac7",
   "metadata": {},
   "source": [
    "The cumulative distribution is the integral of the probability density function:\n",
    "$$\n",
    "   F_N(b) = \\textrm{Pr}(N \\leq b) = \\int_{-\\infty}^b f_N(n) \\, dn\n",
    "$$\n"
   ]
  },
  {
   "cell_type": "code",
   "execution_count": 18,
   "id": "07324208-d232-4d2a-afb0-bb2d9f19a64f",
   "metadata": {},
   "outputs": [
    {
     "data": {
      "text/plain": [
       "<AxesSubplot:>"
      ]
     },
     "execution_count": 18,
     "metadata": {},
     "output_type": "execute_result"
    },
    {
     "data": {
      "image/png": "[encoded data removed]",
      "text/plain": [
       "<Figure size 504x288 with 1 Axes>"
      ]
     },
     "metadata": {},
     "output_type": "display_data"
    }
   ],
   "source": [
    "ns = np.linspace(0, 2000, 10000)\n",
    "FNs = rvN.cdf(ns)\n",
    "sns.lineplot(x=ns, y=FNs, label=\"CDF of $N$\")"
   ]
  },
  {
   "cell_type": "markdown",
   "id": "29bccc30-5422-40d9-8f03-ee198345304b",
   "metadata": {},
   "source": [
    "### Properties of the distribution"
   ]
  },
  {
   "cell_type": "code",
   "execution_count": 19,
   "id": "bd9cb7ad-f9d5-4c5f-819c-4a2edc88d6f3",
   "metadata": {},
   "outputs": [
    {
     "data": {
      "text/plain": [
       "1000.0"
      ]
     },
     "execution_count": 19,
     "metadata": {},
     "output_type": "execute_result"
    }
   ],
   "source": [
    "rvN.mean()"
   ]
  },
  {
   "cell_type": "code",
   "execution_count": 20,
   "id": "b774a3c6-d486-4949-97df-3c3d044edb71",
   "metadata": {},
   "outputs": [
    {
     "data": {
      "text/plain": [
       "100.0"
      ]
     },
     "execution_count": 20,
     "metadata": {},
     "output_type": "execute_result"
    }
   ],
   "source": [
    "rvN.std()"
   ]
  },
  {
   "cell_type": "code",
   "execution_count": 21,
   "id": "40a64e43-de9f-4bb7-ba0f-d1efe820b32d",
   "metadata": {},
   "outputs": [
    {
     "data": {
      "text/plain": [
       "10000.0"
      ]
     },
     "execution_count": 21,
     "metadata": {},
     "output_type": "execute_result"
    }
   ],
   "source": [
    "rvN.var()"
   ]
  },
  {
   "cell_type": "code",
   "execution_count": 22,
   "id": "a5b50d69-d34a-44c6-8790-c34d9794db0b",
   "metadata": {},
   "outputs": [
    {
     "data": {
      "text/plain": [
       "100.0"
      ]
     },
     "execution_count": 22,
     "metadata": {},
     "output_type": "execute_result"
    }
   ],
   "source": [
    "np.sqrt( rvN.var() )  # = rvN.std()"
   ]
  },
  {
   "cell_type": "code",
   "execution_count": 23,
   "id": "35a58265-75f9-4b9d-bcdd-cf435cde143e",
   "metadata": {},
   "outputs": [
    {
     "data": {
      "text/plain": [
       "1000.0"
      ]
     },
     "execution_count": 23,
     "metadata": {},
     "output_type": "execute_result"
    }
   ],
   "source": [
    "rvN.median()"
   ]
  },
  {
   "cell_type": "code",
   "execution_count": 24,
   "id": "e998e091-ac69-4b08-95a5-533b8cad5709",
   "metadata": {},
   "outputs": [
    {
     "data": {
      "text/plain": [
       "(-inf, inf)"
      ]
     },
     "execution_count": 24,
     "metadata": {},
     "output_type": "execute_result"
    }
   ],
   "source": [
    "rvN.support()"
   ]
  },
  {
   "cell_type": "markdown",
   "id": "dab26f01-5df7-419c-8775-8fba56a079f5",
   "metadata": {},
   "source": [
    "### Computing probabilities\n",
    "\n",
    "Suppose you want to compute the probability of the outcome $\\{ a \\leq N \\leq b \\}$\n",
    "for the random variable $N$."
   ]
  },
  {
   "cell_type": "code",
   "execution_count": 25,
   "id": "adf0d86a-3b2c-4bb0-90f6-6d51cdb95db2",
   "metadata": {},
   "outputs": [
    {
     "data": {
      "text/plain": [
       "0.9544997361036417"
      ]
     },
     "execution_count": 25,
     "metadata": {},
     "output_type": "execute_result"
    }
   ],
   "source": [
    "# Pr({800 < N < 1200}) = integral of f_N between 800 and 1200\n",
    "quad(rvN.pdf, 800, 1200)[0]"
   ]
  },
  {
   "cell_type": "code",
   "execution_count": 26,
   "id": "9ea40e98-edb8-4d5f-8325-66bdfce879e0",
   "metadata": {},
   "outputs": [
    {
     "data": {
      "text/plain": [
       "0.9544997361036416"
      ]
     },
     "execution_count": 26,
     "metadata": {},
     "output_type": "execute_result"
    }
   ],
   "source": [
    "# Pr({800 < N < 1200}) = F_N(1200) - F_N(800)\n",
    "rvN.cdf(1200) - rvN.cdf(800)"
   ]
  },
  {
   "cell_type": "code",
   "execution_count": null,
   "id": "3063fd0b-20b8-4cc7-97c7-55c174bf5b0a",
   "metadata": {},
   "outputs": [],
   "source": []
  },
  {
   "cell_type": "markdown",
   "id": "79955e32-cdc5-4816-bec0-a9cdfe533e2e",
   "metadata": {
    "tags": [],
    "toc-hr-collapsed": true
   },
   "source": [
    "### Computing quantiles\n",
    "\n",
    "The inverse question is to find the interval $(-\\infty, n_q]$ that contains proportion $q$ of the total probability.\n",
    "\n",
    "For example the $q=0.25$ quantile is located at"
   ]
  },
  {
   "cell_type": "code",
   "execution_count": 27,
   "id": "77843fb5-ae02-4be1-aa4b-fad02e73731a",
   "metadata": {},
   "outputs": [
    {
     "data": {
      "text/plain": [
       "932.5510249803918"
      ]
     },
     "execution_count": 27,
     "metadata": {},
     "output_type": "execute_result"
    }
   ],
   "source": [
    "# first quartile\n",
    "rvN.ppf(0.25)"
   ]
  },
  {
   "cell_type": "code",
   "execution_count": 28,
   "id": "6bffd007-165f-4d5b-9778-45d9c7c147ef",
   "metadata": {},
   "outputs": [
    {
     "data": {
      "text/plain": [
       "0.25"
      ]
     },
     "execution_count": 28,
     "metadata": {},
     "output_type": "execute_result"
    }
   ],
   "source": [
    "# verify that Pr({N<=932.5510249803918)}) == 0.25\n",
    "rvN.cdf(932.5510249803918)"
   ]
  },
  {
   "cell_type": "code",
   "execution_count": 29,
   "id": "c5dbef0a-77e2-4c85-a8be-d9efa311f3a4",
   "metadata": {},
   "outputs": [
    {
     "data": {
      "text/plain": [
       "1000.0"
      ]
     },
     "execution_count": 29,
     "metadata": {},
     "output_type": "execute_result"
    }
   ],
   "source": [
    "# second quartile == median\n",
    "rvN.ppf(0.5)"
   ]
  },
  {
   "cell_type": "code",
   "execution_count": 30,
   "id": "ec16ae01-ba0f-48dd-9c37-6774540cdeb3",
   "metadata": {},
   "outputs": [
    {
     "data": {
      "text/plain": [
       "1067.4489750196083"
      ]
     },
     "execution_count": 30,
     "metadata": {},
     "output_type": "execute_result"
    }
   ],
   "source": [
    "# third quartile\n",
    "rvN.ppf(0.75)"
   ]
  },
  {
   "cell_type": "code",
   "execution_count": null,
   "id": "120d2e92-8b6b-47fb-8d34-60a7b5174414",
   "metadata": {},
   "outputs": [],
   "source": []
  },
  {
   "cell_type": "markdown",
   "id": "46e95611-f1ec-4335-bff1-f98efc7f5a67",
   "metadata": {},
   "source": [
    "#### Left tail"
   ]
  },
  {
   "cell_type": "code",
   "execution_count": 31,
   "id": "0ee01618-a9a1-41a9-b37c-39fbbd74982a",
   "metadata": {},
   "outputs": [
    {
     "data": {
      "text/plain": [
       "835.5146373048527"
      ]
     },
     "execution_count": 31,
     "metadata": {},
     "output_type": "execute_result"
    }
   ],
   "source": [
    "rvN.ppf(0.05)"
   ]
  },
  {
   "cell_type": "markdown",
   "id": "4a0256a4-b58a-4700-9b58-744590b9d6c0",
   "metadata": {},
   "source": [
    "#### Right tail"
   ]
  },
  {
   "cell_type": "code",
   "execution_count": 32,
   "id": "6078173c-125a-4dbf-953c-35b9655c0b76",
   "metadata": {},
   "outputs": [
    {
     "data": {
      "text/plain": [
       "1164.4853626951472"
      ]
     },
     "execution_count": 32,
     "metadata": {},
     "output_type": "execute_result"
    }
   ],
   "source": [
    "rvN.ppf(0.95)"
   ]
  },
  {
   "cell_type": "code",
   "execution_count": null,
   "id": "326bb65e-d75e-4978-aac7-1a76a24635de",
   "metadata": {},
   "outputs": [],
   "source": []
  },
  {
   "cell_type": "markdown",
   "id": "d2073b9d-28bb-4896-bd3e-071b9b6e2c8a",
   "metadata": {},
   "source": [
    "#### Computing confidence intervals\n",
    "\n",
    "To compute a 90% confidence interval for the random variable $N$,\n",
    "we can use the `rvN.interval()` method."
   ]
  },
  {
   "cell_type": "code",
   "execution_count": 33,
   "id": "a8476ca1-d095-44b4-bccd-319f76fa3b71",
   "metadata": {},
   "outputs": [
    {
     "data": {
      "text/plain": [
       "(835.5146373048527, 1164.4853626951472)"
      ]
     },
     "execution_count": 33,
     "metadata": {},
     "output_type": "execute_result"
    }
   ],
   "source": [
    "rvN.interval(0.90)"
   ]
  },
  {
   "cell_type": "markdown",
   "id": "20e06afa-9ddd-432c-ae4d-3d74c623859b",
   "metadata": {},
   "source": [
    "Note the method `rvN.interval(0.90)` is just a shortcut for computing `(rvN.ppf(0.05),rvN.ppf(0.95))`."
   ]
  },
  {
   "cell_type": "code",
   "execution_count": null,
   "id": "2c83257e-b5f0-415b-b2a5-02cbe0cca1f8",
   "metadata": {},
   "outputs": [],
   "source": []
  },
  {
   "cell_type": "markdown",
   "id": "bb6a3542-c6ec-4171-8cd3-9d7ae8adbfd4",
   "metadata": {},
   "source": [
    "### Generating random observations\n",
    "\n",
    "Let's say you want to generate $n=10$ observations from the random variable $N$.\n",
    "You can do this by calling the method `rvN.rvs(n)`."
   ]
  },
  {
   "cell_type": "code",
   "execution_count": 34,
   "id": "6846c94b-f486-4a4c-9651-737a3dae67f2",
   "metadata": {},
   "outputs": [
    {
     "data": {
      "text/plain": [
       "array([1178.86284734, 1043.65098505, 1009.64974681,  813.65072966,\n",
       "        972.26117975,  964.52410207,  991.72585185,  937.29993232,\n",
       "        995.6181831 ,  952.27819696])"
      ]
     },
     "execution_count": 34,
     "metadata": {},
     "output_type": "execute_result"
    }
   ],
   "source": [
    "ns = rvN.rvs(10)\n",
    "ns"
   ]
  },
  {
   "cell_type": "code",
   "execution_count": 35,
   "id": "8ecad29b-e495-4581-ae1f-003fe6a437ea",
   "metadata": {},
   "outputs": [
    {
     "data": {
      "text/plain": [
       "985.9521754922469"
      ]
     },
     "execution_count": 35,
     "metadata": {},
     "output_type": "execute_result"
    }
   ],
   "source": [
    "ns_mean = sum(ns) / len(ns)\n",
    "ns_mean"
   ]
  },
  {
   "cell_type": "code",
   "execution_count": null,
   "id": "c267cb3a-9b54-461b-9c7d-01bde8cd978e",
   "metadata": {},
   "outputs": [],
   "source": []
  },
  {
   "cell_type": "markdown",
   "id": "d88419d9-d74b-4adc-b72f-decda0953749",
   "metadata": {},
   "source": [
    "### Computing expectations\n",
    "\n",
    "Suppose the distributor accepts only bottles contain between 800 ml and 1200 ml,\n",
    "and you'll receive a receive payment of $\\$2$ for each bottle.\n",
    "Bottles outside that range get rejected and you don't get paid for them."
   ]
  },
  {
   "cell_type": "code",
   "execution_count": 36,
   "id": "c58cd607-b983-4fb2-a612-8f81b9240a7c",
   "metadata": {},
   "outputs": [],
   "source": [
    "def payment(n):\n",
    "    if 800 <= n and n <= 1200:\n",
    "        return 2\n",
    "    else:\n",
    "        return 0"
   ]
  },
  {
   "cell_type": "code",
   "execution_count": 37,
   "id": "b58ba04c-be72-42cd-b7ad-d862d98e7d76",
   "metadata": {},
   "outputs": [
    {
     "data": {
      "text/plain": [
       "2"
      ]
     },
     "execution_count": 37,
     "metadata": {},
     "output_type": "execute_result"
    }
   ],
   "source": [
    "# get paid if in spec\n",
    "payment(1050)"
   ]
  },
  {
   "cell_type": "code",
   "execution_count": 38,
   "id": "c41d9fb7-ee27-4af4-a70f-b6ff3dcef7c1",
   "metadata": {},
   "outputs": [
    {
     "data": {
      "text/plain": [
       "0"
      ]
     },
     "execution_count": 38,
     "metadata": {},
     "output_type": "execute_result"
    }
   ],
   "source": [
    "# don't get paid if out of spec\n",
    "payment(1250)"
   ]
  },
  {
   "cell_type": "code",
   "execution_count": 39,
   "id": "1724e8b2-3510-4ad2-9131-8038cf2decf2",
   "metadata": {},
   "outputs": [
    {
     "data": {
      "text/plain": [
       "1.9089994722069916"
      ]
     },
     "execution_count": 39,
     "metadata": {},
     "output_type": "execute_result"
    }
   ],
   "source": [
    "# expected value of payment\n",
    "rvN.expect(payment, lb=0, ub=2000)"
   ]
  },
  {
   "cell_type": "markdown",
   "id": "ad31a2f0-4bb0-425b-8a58-1875734c01c2",
   "metadata": {},
   "source": [
    "Visually speaking, only parts of the probability mass of the random variable \"count\" towards the payment, the subset of the values inside the yellow region shown below."
   ]
  },
  {
   "cell_type": "code",
   "execution_count": 40,
   "id": "d59a55dc-de1e-441c-93f8-8b19c74ebb14",
   "metadata": {},
   "outputs": [
    {
     "data": {
      "text/plain": [
       "<AxesSubplot:>"
      ]
     },
     "execution_count": 40,
     "metadata": {},
     "output_type": "execute_result"
    },
    {
     "data": {
      "image/png": "[encoded data removed]",
      "text/plain": [
       "<Figure size 504x288 with 1 Axes>"
      ]
     },
     "metadata": {},
     "output_type": "display_data"
    }
   ],
   "source": [
    "xs = np.linspace(0, 2000, 1000)\n",
    "ys = [payment(x)/500 for x in xs]\n",
    "\n",
    "sns.lineplot(x=xs, y=rvN.pdf(xs))\n",
    "sns.lineplot(x=xs, y=ys, label=\"payment(x)\")"
   ]
  },
  {
   "cell_type": "code",
   "execution_count": null,
   "id": "346ba351-9a31-4eeb-8545-61396fe86925",
   "metadata": {},
   "outputs": [],
   "source": []
  },
  {
   "cell_type": "code",
   "execution_count": null,
   "id": "d31396b2-a6dd-4d5e-a478-0a7ab9fea4c2",
   "metadata": {},
   "outputs": [],
   "source": []
  },
  {
   "cell_type": "code",
   "execution_count": null,
   "id": "7194436f-94a8-45df-9ec8-89478dce0d24",
   "metadata": {},
   "outputs": [],
   "source": []
  },
  {
   "cell_type": "code",
   "execution_count": null,
   "id": "47e2a7c3-1141-4dab-9b65-b15b25eafd72",
   "metadata": {},
   "outputs": [],
   "source": []
  },
  {
   "cell_type": "markdown",
   "id": "f5a2be2a-2f13-4b55-bc2f-00659018635b",
   "metadata": {},
   "source": [
    "## Multiple random variables"
   ]
  },
  {
   "cell_type": "markdown",
   "id": "dfae9785-11dd-488b-bf27-a5b55860d77b",
   "metadata": {},
   "source": [
    "### Joint probability density functions"
   ]
  },
  {
   "cell_type": "code",
   "execution_count": 41,
   "id": "6ea0c8f4-e075-4765-bce4-8f907c7c85bd",
   "metadata": {},
   "outputs": [],
   "source": [
    "# via https://stackoverflow.com/questions/38698277/plot-normal-distribution-in-3d\n",
    "from mpl_toolkits.mplot3d import Axes3D\n",
    "from scipy.stats import multivariate_normal\n",
    "\n",
    "# parameters\n",
    "mu = [1000, 10]\n",
    "Sigma = [[200**2, 18**2], [18**2, 2**2]]\n",
    "\n",
    "\n",
    "# multivariate normal\n",
    "rvXY = multivariate_normal(mu, Sigma)"
   ]
  },
  {
   "cell_type": "code",
   "execution_count": 42,
   "id": "c641939e-1f45-413d-9903-65402ee95521",
   "metadata": {},
   "outputs": [],
   "source": [
    "from scipy.stats.contingency import margins\n",
    "\n",
    "# sample space\n",
    "xmin = 0\n",
    "xmax = 2000\n",
    "ymin = 0\n",
    "ymax = 20\n",
    "\n",
    "# create two 1D grid with 100 points in each dimension\n",
    "xs = np.linspace(xmin, xmax, 500)\n",
    "ys = np.linspace(ymin, ymax, 500)\n",
    "X, Y = np.meshgrid(xs, ys)\n",
    "pos = np.empty(X.shape + (2,))\n",
    "pos[:, :, 0] = X\n",
    "pos[:, :, 1] = Y\n",
    "\n",
    "# compute the joint-probability density function values\n",
    "fXY = rvXY.pdf(pos)\n",
    "\n",
    "# compute marginal distibutoins\n",
    "fXm, fYm = margins(fXY)\n",
    "fX = fXm.flatten()\n",
    "fY = fYm.flatten()"
   ]
  },
  {
   "cell_type": "code",
   "execution_count": null,
   "id": "ce8b3879-6099-42a4-9f7a-db82bbd8a8c6",
   "metadata": {},
   "outputs": [],
   "source": []
  },
  {
   "cell_type": "code",
   "execution_count": 43,
   "id": "4b37e8e4-2b28-4e05-a3c2-86e2f9a0ceaa",
   "metadata": {},
   "outputs": [
    {
     "data": {
      "text/plain": [
       "Text(0, 0.5, '$y$')"
      ]
     },
     "execution_count": 43,
     "metadata": {},
     "output_type": "execute_result"
    },
    {
     "data": {
      "image/png": "[encoded data removed]",
      "text/plain": [
       "<Figure size 504x288 with 1 Axes>"
      ]
     },
     "metadata": {},
     "output_type": "display_data"
    }
   ],
   "source": [
    "from matplotlib import cm\n",
    "from matplotlib import gridspec\n",
    "\n",
    "\n",
    "# contour plot\n",
    "gs = gridspec.GridSpec(2, 2, width_ratios=[3, 1], height_ratios=[1, 4])\n",
    "fig = plt.figure()\n",
    "ax = plt.subplot(gs[1,0])\n",
    "# Filled Contour\n",
    "cax = ax.contourf(fXY, origin = 'lower',\n",
    "                  extent = (xmin, xmax, ymin, ymax),\n",
    "                  cmap = \"Greys\")\n",
    "\n",
    "ax.set_xlabel('$x$')\n",
    "ax.set_ylabel('$y$')"
   ]
  },
  {
   "cell_type": "code",
   "execution_count": 44,
   "id": "692ee5da-78ce-4c2d-8371-f534355d9b62",
   "metadata": {},
   "outputs": [],
   "source": [
    "# # ALT 2. Manually iterate over (x,y) input pairs unravelled list of coords\n",
    "# from matplotlib import cm\n",
    "\n",
    "# xys = np.vstack([item.ravel() for item in [X, Y]])\n",
    "# print(\"xys has shape\", xys.shape)\n",
    "\n",
    "# # temporary store for values of rvXY.pdf(xy)\n",
    "# fXYs = np.ndarray(xys.shape[1])\n",
    "# for i, xy in enumerate(xys.T):\n",
    "#     fXYs[i] = rvXY.pdf(xy)\n",
    "# Z = fXYs.reshape(X.shape) \n",
    "\n",
    "# # Create contour plot\n",
    "# gs = gridspec.GridSpec(2, 2, width_ratios=[3, 1], height_ratios=[1, 4])\n",
    "# fig = plt.figure()\n",
    "# ax = plt.subplot(gs[1,0])\n",
    "# cax = ax.contourf(Z, origin = 'lower',\n",
    "#                   extent = (xmin, xmax, ymin, ymax),\n",
    "#                   cmap = \"Greys\")"
   ]
  },
  {
   "cell_type": "code",
   "execution_count": null,
   "id": "b5c94d75-0f1c-458f-b674-1f70d07a7098",
   "metadata": {},
   "outputs": [],
   "source": []
  },
  {
   "cell_type": "markdown",
   "id": "0cc5f449-23dd-4239-8567-f12f74117f1c",
   "metadata": {},
   "source": [
    "### Marginal density functions"
   ]
  },
  {
   "cell_type": "code",
   "execution_count": 45,
   "id": "05f8c28c-87f6-408e-8274-1eb3559bdd0f",
   "metadata": {},
   "outputs": [
    {
     "data": {
      "image/png": "[encoded data removed]",
      "text/plain": [
       "<Figure size 504x288 with 3 Axes>"
      ]
     },
     "metadata": {},
     "output_type": "display_data"
    }
   ],
   "source": [
    "# contour plot\n",
    "gs = gridspec.GridSpec(2, 2, width_ratios=[3, 1], height_ratios=[1, 4])\n",
    "fig = plt.figure()\n",
    "ax = plt.subplot(gs[1,0])\n",
    "# Filled Contour\n",
    "cax = ax.contourf(fXY, origin = 'lower',\n",
    "                  extent = (xmin, xmax, ymin, ymax),\n",
    "                  cmap = \"Greys\")\n",
    "\n",
    "ax.set_xlabel('$x$')\n",
    "ax.set_ylabel('$y$')\n",
    "# # Contour Lines\n",
    "# ax.contour(fXY, origin = 'lower',\n",
    "#            extent = (xmin, xmax, ymin, ymax),\n",
    "#            cmap = cm.bone)\n",
    "\n",
    "# Turn off all axes\n",
    "# ax.axis('off')\n",
    "\n",
    "# Create X-marginal (top)\n",
    "axt = plt.subplot(gs[0,0], sharex = ax, frameon = False, xlim = (xmin, xmax), ylim=(0, 1.4*fX.max()))\n",
    "axt.plot(xs, fX, color = 'black')\n",
    "axt.fill_between(xs, 0, fX, alpha=.5, color = 'gray')\n",
    "axt.tick_params(labelbottom=False)\n",
    "axt.tick_params(labelleft=False)\n",
    "\n",
    "# Create Y-marginal (right)\n",
    "axr = plt.subplot(gs[1,1], sharey = ax, frameon = False, xlim = (0, 1.4*fY.max()), ylim=(ymin, ymax))\n",
    "axr.plot(fY, ys, color = 'black')\n",
    "axr.fill_betweenx(ys, 0, fY, alpha = .5, color = 'gray')\n",
    "axr.tick_params(labelbottom=False)\n",
    "axr.tick_params(labelleft=False)\n",
    "\n",
    "#Bring the marginals closer to the contour plot\n",
    "fig.tight_layout(pad = 0.3)"
   ]
  },
  {
   "cell_type": "code",
   "execution_count": 46,
   "id": "392058e7-dbef-43da-8188-1f916bbe3e40",
   "metadata": {},
   "outputs": [
    {
     "data": {
      "text/plain": [
       "Text(0.5, 0, '$p_{XY}$')"
      ]
     },
     "execution_count": 46,
     "metadata": {},
     "output_type": "execute_result"
    },
    {
     "data": {
      "image/png": "[encoded data removed]",
      "text/plain": [
       "<Figure size 504x288 with 1 Axes>"
      ]
     },
     "metadata": {},
     "output_type": "display_data"
    }
   ],
   "source": [
    "# 3D surface plot\n",
    "fig = plt.figure()\n",
    "ax = plt.axes(projection='3d')\n",
    "ax.plot_surface(X, Y, fXY, cmap='Greys', linewidth=0)\n",
    "ax.view_init(elev=40., azim=-40)\n",
    "ax.set_xlabel('x')\n",
    "ax.set_ylabel('y')\n",
    "ax.set_zlabel('$p_{XY}$')"
   ]
  },
  {
   "cell_type": "code",
   "execution_count": null,
   "id": "4561769b-746d-4c16-8e79-f7e848f44de3",
   "metadata": {},
   "outputs": [],
   "source": []
  },
  {
   "cell_type": "markdown",
   "id": "598712ad-f6ca-4513-a9a0-b643b58af55a",
   "metadata": {
    "tags": []
   },
   "source": [
    "### Conditional probability density functions"
   ]
  },
  {
   "cell_type": "code",
   "execution_count": 47,
   "id": "78ea3a6f-326d-485f-891d-db7f56c6240e",
   "metadata": {},
   "outputs": [],
   "source": [
    "# tslices = [18, 20, 22]\n",
    "\n",
    "\n",
    "# # RSCH: how to get slice at t of the kde approx surface of kprod data as a function\n",
    "\n",
    "# # verts[i] is a list of (x, y) pairs defining polygon i.\n",
    "# verts = [polygon_under_graph(x, poisson.pmf(l, x)) for l in lambdas]\n",
    "# facecolors = plt.colormaps['viridis_r'](np.linspace(0, 1, len(verts)))\n",
    "\n",
    "# poly = PolyCollection(verts, facecolors=facecolors, alpha=.7)\n",
    "# ax.add_collection3d(poly, zs=lambdas, zdir='y')\n",
    "\n",
    "# ax.set(xlim=(0, 10), ylim=(1, 9), zlim=(0, 0.35),\n",
    "#        xlabel='x', ylabel=r'$\\lambda$', zlabel='probability')\n"
   ]
  },
  {
   "cell_type": "code",
   "execution_count": 48,
   "id": "57c5ed21-0638-4cd2-ac53-72a21c825185",
   "metadata": {},
   "outputs": [],
   "source": [
    "from mpl_toolkits.mplot3d import Axes3D\n",
    "from matplotlib.collections import PolyCollection\n",
    "from scipy.stats import poisson\n",
    "from scipy.stats import multivariate_normal\n",
    "\n",
    "\n",
    "# parameters\n",
    "mu = [1000, 10]\n",
    "Sigma = [[200**2, 18**2], [18**2, 2**2]]\n",
    "\n",
    "\n",
    "# multivariate normal\n",
    "rvXY = multivariate_normal(mu, Sigma)\n",
    "\n",
    "# sample space\n",
    "xmin = 0\n",
    "xmax = 2000\n",
    "ymin = 0\n",
    "ymax = 20\n",
    "\n",
    "# create two 1D grid with 100 points in each dimension\n",
    "xs = np.linspace(xmin, xmax, 500)\n",
    "ys = np.linspace(ymin, ymax, 500)\n",
    "X, Y = np.meshgrid(xs, ys)\n",
    "pos = np.empty(X.shape + (2,))\n",
    "pos[:, :, 0] = X\n",
    "pos[:, :, 1] = Y\n",
    "\n",
    "# compute the joint-probability density function values\n",
    "fXY = rvXY.pdf(pos)"
   ]
  },
  {
   "cell_type": "code",
   "execution_count": 49,
   "id": "7ce33aba-5189-47d2-a790-152debd7036e",
   "metadata": {},
   "outputs": [
    {
     "data": {
      "text/plain": [
       "250"
      ]
     },
     "execution_count": 49,
     "metadata": {},
     "output_type": "execute_result"
    }
   ],
   "source": [
    "def find_nearest1(array, value):\n",
    "    idx,val = min(enumerate(array), key=lambda x: abs(x[1]-value))\n",
    "    return idx\n",
    "\n",
    "find_nearest1(xs, 1000)"
   ]
  },
  {
   "cell_type": "code",
   "execution_count": 50,
   "id": "62812916-1c5f-416e-a94f-cfc4c3411e1e",
   "metadata": {},
   "outputs": [],
   "source": [
    "def polygon_under_graph(x, y):\n",
    "    \"\"\"\n",
    "    Construct the vertex list which defines the polygon filling the space under\n",
    "    the (x, y) line graph. This assumes x is in ascending order.\n",
    "    \"\"\"\n",
    "    return [(x[0], 0.), *zip(x, y), (x[-1], 0.)]\n"
   ]
  },
  {
   "cell_type": "code",
   "execution_count": 51,
   "id": "dcf9585a-22f4-484a-8b5a-74bae05a696c",
   "metadata": {},
   "outputs": [
    {
     "data": {
      "image/png": "[encoded data removed]",
      "text/plain": [
       "<Figure size 504x288 with 1 Axes>"
      ]
     },
     "metadata": {},
     "output_type": "display_data"
    }
   ],
   "source": [
    "ax = plt.figure().add_subplot(projection='3d')\n",
    "\n",
    "# x-coordinates of the slices\n",
    "xcuts = range(400, 1600, 100)\n",
    "ys = np.linspace(ymin, ymax, 1000)\n",
    "\n",
    "# verts[i] is a list of (x, y) pairs defining polygon i.\n",
    "verts = []\n",
    "for xcut in xcuts:\n",
    "    # y = rvXY.pdf((xcut,ys))  # TODO: figure out how to do properly\n",
    "    xidx = find_nearest1(xs, xcut)\n",
    "    fXY_at_xcut = fXY[xidx,:]\n",
    "    vert = polygon_under_graph(ys, fXY_at_xcut)\n",
    "    verts.append(vert)\n",
    "\n",
    "facecolors = plt.colormaps['viridis_r'](np.linspace(0, 1, len(verts)))\n",
    "\n",
    "poly = PolyCollection(verts, facecolors=facecolors, alpha=.7)\n",
    "ax.add_collection3d(poly, zs=xcuts, zdir='x')\n",
    "\n",
    "_ = ax.set(xlim=(xmin, xmax), ylim=(ymin, ymax), zlim=(0, 0.0007),\n",
    "       xlabel='x', ylabel=r'$y$', zlabel='probability')\n"
   ]
  },
  {
   "cell_type": "code",
   "execution_count": 52,
   "id": "4b56fa1d-6751-42f6-ba07-a366fe93f5e3",
   "metadata": {},
   "outputs": [
    {
     "data": {
      "image/png": "[encoded data removed]",
      "text/plain": [
       "<Figure size 504x288 with 1 Axes>"
      ]
     },
     "metadata": {},
     "output_type": "display_data"
    }
   ],
   "source": [
    "ax = plt.figure().add_subplot(projection='3d')\n",
    "\n",
    "# x-coordinates of the slices\n",
    "xcuts = range(400, 1600, 100)\n",
    "ys = np.linspace(ymin, ymax, 1000)\n",
    "\n",
    "# verts[i] is a list of (x, y) pairs defining polygon i.\n",
    "verts = []\n",
    "for xcut in xcuts:\n",
    "    # y = rvXY.pdf((xcut,ys))  # TODO: figure out how to do properly\n",
    "    xidx = find_nearest1(xs, xcut)\n",
    "    fXY_at_xcut = fXY[xidx,:]\n",
    "    fYgiven_xcut = fXY_at_xcut/np.sum(fXY_at_xcut)\n",
    "    vert = polygon_under_graph(ys, fYgiven_xcut)\n",
    "    verts.append(vert)\n",
    "\n",
    "facecolors = plt.colormaps['viridis_r'](np.linspace(0, 1, len(verts)))\n",
    "\n",
    "poly = PolyCollection(verts, facecolors=facecolors, alpha=.7)\n",
    "ax.add_collection3d(poly, zs=xcuts, zdir='x')\n",
    "\n",
    "_ = ax.set(xlim=(xmin, xmax), ylim=(ymin, ymax), zlim=(0, 0.02),\n",
    "       xlabel='x', ylabel=r'$y$', zlabel='probability')\n"
   ]
  },
  {
   "cell_type": "code",
   "execution_count": 53,
   "id": "399813d0-11b2-4f16-a3d2-db619edbec69",
   "metadata": {},
   "outputs": [],
   "source": [
    "#verts"
   ]
  },
  {
   "cell_type": "code",
   "execution_count": null,
   "id": "ceb02692-baad-40dd-8051-2453bb92e570",
   "metadata": {},
   "outputs": [],
   "source": []
  },
  {
   "cell_type": "code",
   "execution_count": null,
   "id": "2ad30484-beb2-45a0-b7b3-8a078d8f7f1e",
   "metadata": {},
   "outputs": [],
   "source": []
  },
  {
   "cell_type": "markdown",
   "id": "5c15fe6f-1631-40bf-be96-1ae6a2df7cb3",
   "metadata": {},
   "source": [
    "### Examples"
   ]
  },
  {
   "cell_type": "markdown",
   "id": "14b77d5e-715e-4d03-bb3f-5090b05ef39d",
   "metadata": {},
   "source": [
    "#### Example 1: Multivariable uniform"
   ]
  },
  {
   "cell_type": "code",
   "execution_count": 54,
   "id": "ef2e8bfc-7d7f-463c-906e-4fd2aaeddd5f",
   "metadata": {},
   "outputs": [],
   "source": [
    "xmin = 0\n",
    "xmax = 100\n",
    "ymin = 0\n",
    "ymax = 10\n",
    "\n",
    "# joint pdf of = uniform(100, 200) x uniform(10,20)\n",
    "def fUV(x,y):\n",
    "    A = (xmax-xmin) * (ymax-ymin)\n",
    "    if xmin <= x and x <= xmax and ymin <= y and y <= ymax:\n",
    "        return 1/A\n",
    "    else:\n",
    "        return 0.0\n"
   ]
  },
  {
   "cell_type": "code",
   "execution_count": 55,
   "id": "440d6e1c-3e82-4cba-8b30-91c311b27992",
   "metadata": {},
   "outputs": [],
   "source": [
    "from scipy.stats import uniform\n",
    "\n",
    "rvU = uniform(0,100)\n",
    "rvV = uniform(0,10)\n",
    "\n",
    "# joint pdf of = uniform(0,100) x uniform(0,10)\n",
    "def fUV(u,v):\n",
    "    return rvU.pdf(u) * rvV.pdf(v)\n"
   ]
  },
  {
   "cell_type": "code",
   "execution_count": 56,
   "id": "da6c7689-5755-4729-b71d-67903d2e0ffe",
   "metadata": {},
   "outputs": [
    {
     "data": {
      "text/plain": [
       "0.001"
      ]
     },
     "execution_count": 56,
     "metadata": {},
     "output_type": "execute_result"
    }
   ],
   "source": [
    "fUV(70,10)"
   ]
  },
  {
   "cell_type": "code",
   "execution_count": 57,
   "id": "ff7b9776-1c8d-4b6b-9dbd-02faeb098929",
   "metadata": {},
   "outputs": [
    {
     "data": {
      "text/plain": [
       "1.0000000000000004"
      ]
     },
     "execution_count": 57,
     "metadata": {},
     "output_type": "execute_result"
    }
   ],
   "source": [
    "from scipy.integrate import dblquad\n",
    "\n",
    "dblquad(fUV, 0, 20, 0, 300)[0]"
   ]
  },
  {
   "cell_type": "code",
   "execution_count": 58,
   "id": "683f35d2-cf68-4293-aed0-dc9e8ea08e0a",
   "metadata": {},
   "outputs": [
    {
     "data": {
      "text/plain": [
       "(0.0, 0.002)"
      ]
     },
     "execution_count": 58,
     "metadata": {},
     "output_type": "execute_result"
    },
    {
     "data": {
      "image/png": "[encoded data removed]",
      "text/plain": [
       "<Figure size 864x432 with 1 Axes>"
      ]
     },
     "metadata": {},
     "output_type": "display_data"
    }
   ],
   "source": [
    "from mpl_toolkits.mplot3d import axes3d\n",
    "\n",
    "fig1a = plt.figure(figsize=(12,6))\n",
    "ax1a = fig1a.add_subplot(111, projection='3d')\n",
    "\n",
    "us = np.arange(-10,110,1)\n",
    "vs = np.arange(-3,16,0.1)\n",
    "Us,Vs = np.meshgrid(us,vs)\n",
    "fUVuv = np.vectorize(fUV)(Us,Vs)\n",
    "\n",
    "# Plot a basic wireframe\n",
    "# ax.plot_wireframe(X, Y, fUxy, rstride=10, cstride=20)\n",
    "ax1a.plot_surface(Us, Vs, fUVuv, cmap=\"Greys\")#  rstride=10, cstride=20)\n",
    "ax1a.set_box_aspect((10,4,2))\n",
    "ax1a.set_zlim(0,0.002)"
   ]
  },
  {
   "cell_type": "code",
   "execution_count": 59,
   "id": "18d6dc98-4478-4199-959c-557b9be18a19",
   "metadata": {},
   "outputs": [
    {
     "data": {
      "text/plain": [
       "<matplotlib.contour.QuadContourSet at 0x133c2b700>"
      ]
     },
     "execution_count": 59,
     "metadata": {},
     "output_type": "execute_result"
    },
    {
     "data": {
      "image/png": "[encoded data removed]",
      "text/plain": [
       "<Figure size 504x288 with 1 Axes>"
      ]
     },
     "metadata": {},
     "output_type": "display_data"
    }
   ],
   "source": [
    "fig1b = plt.figure()\n",
    "ax1b = fig1b.add_subplot(111)\n",
    "ax1b.contourf(Us, Vs, fUVuv, cmap=\"Greys\")"
   ]
  },
  {
   "cell_type": "code",
   "execution_count": null,
   "id": "2d52d6f3-59af-4632-bf79-c54854e6ccd3",
   "metadata": {},
   "outputs": [],
   "source": []
  },
  {
   "cell_type": "markdown",
   "id": "09721312-1767-4828-a6b5-d5329ab592e9",
   "metadata": {},
   "source": [
    "#### Example 2: Kombucha volume increasing with temperature\n",
    "\n",
    "Consider now the joint sample space $(N,T)$,\n",
    "where $T$ describes the temperature of the Kombucha that is going into the bottles,\n",
    "and $N$ describes the volume that goes into each bottle.\n",
    "\n",
    "Suppose the temperature random variable is normally distributed with standard deviation $\\sigma_T = 2$\n",
    "around the mean of $\\mu_T = 20$,\n",
    "which is written mathematically as $T \\sim \\mathcal{N}(20,2)$.\n",
    "The variability of the volume of kombucha depends on the temperature $t$,\n",
    "and is described by the random variable $N \\sim \\mathcal{N}(\\mu_N,75)$,\n",
    "where $\\mu_N = 1000 + 35(t-20)$.\n",
    "In other words,\n",
    "the conditional distribution $f_{N|T}(n|t)$ is distributed according to:\n",
    "$$\n",
    "   f_{N|T} = \\mathcal{N}(1000 + 35(T-20), 75).\n",
    "$$\n",
    "\n",
    "By studying the dependence between the bottling temperature and the variation in the volume,\n",
    "you might be able to improve the reliability of the kombucha bottling process.\n",
    "Recall that your distributor only pays for bottles that are within \"spec\" (mean of 1000 +/- 2 times std = $[800,1200]$)."
   ]
  },
  {
   "cell_type": "code",
   "execution_count": 60,
   "id": "14d1e780-b3c0-49ca-aeb9-eb034bb29ed1",
   "metadata": {},
   "outputs": [],
   "source": [
    "from scipy.stats import norm\n",
    "\n",
    "rvT = norm(20,2)\n",
    "\n",
    "# joint pdf f_{NT}(n,t) = f_{N|T}(n|t) * f_T(t)\n",
    "def fNT2(n,t):\n",
    "    fNgivent = norm(1000+35*(t-20), 75)  # = f_{N|T=t}\n",
    "    return fNgivent.pdf(n) * rvT.pdf(t)\n"
   ]
  },
  {
   "cell_type": "code",
   "execution_count": 61,
   "id": "9380ec83-f177-47c0-b7fd-8468e753ae22",
   "metadata": {},
   "outputs": [],
   "source": [
    "ts = np.arange(15,25,0.2)\n",
    "ns = np.arange(700,1300,10)\n",
    "Ts, Ns = np.meshgrid(ts,ns)\n",
    "fNT2nt = np.vectorize(fNT2)(Ns,Ts)"
   ]
  },
  {
   "cell_type": "code",
   "execution_count": 62,
   "id": "de63b9a4-1f43-4062-b0d0-f0edc77cc862",
   "metadata": {},
   "outputs": [
    {
     "data": {
      "text/plain": [
       "<matplotlib.contour.QuadContourSet at 0x133dbc880>"
      ]
     },
     "execution_count": 62,
     "metadata": {},
     "output_type": "execute_result"
    },
    {
     "data": {
      "image/png": "[encoded data removed]",
      "text/plain": [
       "<Figure size 504x288 with 1 Axes>"
      ]
     },
     "metadata": {},
     "output_type": "display_data"
    }
   ],
   "source": [
    "fig2 = plt.figure()\n",
    "ax2 = fig2.add_subplot(111)\n",
    "ax2.contourf(Ts, Ns, fNT2nt, cmap=\"Greys\")"
   ]
  },
  {
   "cell_type": "code",
   "execution_count": 75,
   "id": "40002a6b-877a-4323-a05f-7fb6424206b9",
   "metadata": {},
   "outputs": [
    {
     "data": {
      "image/png": "[encoded data removed]",
      "text/plain": [
       "<Figure size 360x216 with 1 Axes>"
      ]
     },
     "metadata": {},
     "output_type": "display_data"
    }
   ],
   "source": [
    "filename = \"figures/prob/joint_pdf_f_NT_temp_dep_mean.pdf\"\n",
    "\n",
    "with plt.rc_context({\"figure.figsize\":(5,3)}):\n",
    "    fig2 = plt.figure()\n",
    "    ax2 = fig2.add_subplot(111)\n",
    "    ax2.contourf(Ts, Ns, fNT2nt, cmap=\"Greys\")\n",
    "    ax2.set_xlabel('$t$')\n",
    "    ax2.set_ylabel('$n$')\n",
    "    fig2.tight_layout()\n",
    "    fig2.savefig(filename, dpi=300, bbox_inches=\"tight\", pad_inches=0)"
   ]
  },
  {
   "cell_type": "code",
   "execution_count": null,
   "id": "feee3f9b-229a-48da-b69f-a4b589693740",
   "metadata": {},
   "outputs": [],
   "source": []
  },
  {
   "cell_type": "markdown",
   "id": "9aba8e58-c4bd-459d-b992-bc7b16a2d45b",
   "metadata": {},
   "source": [
    "#### Example 3: Temperature-dependent variability\n",
    "\n",
    "Consider now an alternative scenario in which the **variance** of the volume of kombucha $N$\n",
    "varies with temperature.\n",
    "The temperature random variable is $T \\sim \\mathcal{N}(20,2)$.\n",
    "And the volume of kombucha is described by the random variable $N \\sim \\mathcal{N}(1000,\\sigma_N)$,\n",
    "where $\\sigma_N = 100 + 5(t-20)$.\n",
    "In other words,\n",
    "the conditional distribution $f_{N|T}(n|t)$ is distributed according to:\n",
    "$$\n",
    "   f_{N|T} = \\mathcal{N}(1000, 100 + 5(t-20)).\n",
    "$$\n"
   ]
  },
  {
   "cell_type": "code",
   "execution_count": 64,
   "id": "fc9a6cf4-12f8-45e4-ab9d-f8080db04094",
   "metadata": {},
   "outputs": [],
   "source": [
    "from scipy.stats import norm\n",
    "\n",
    "rvT = norm(20,2)\n",
    "\n",
    "infos = {}\n",
    "# joint pdf f_{NT}(n,t) = f_{N|T}(n|t) * f_T(t)\n",
    "def fNT3(n,t):\n",
    "    fNgivent = norm(1000, 100 + 14*(t-20))\n",
    "    return fNgivent.pdf(n) * rvT.pdf(t)\n"
   ]
  },
  {
   "cell_type": "code",
   "execution_count": 65,
   "id": "86ec1897-018c-4173-9ef2-5cc038ebe1cd",
   "metadata": {},
   "outputs": [],
   "source": [
    "ts = np.arange(15,25,0.2)\n",
    "ns = np.arange(700,1300,10)\n",
    "Ts, Ns = np.meshgrid(ts,ns)\n",
    "fNT3nt = np.vectorize(fNT3)(Ns,Ts)"
   ]
  },
  {
   "cell_type": "code",
   "execution_count": 66,
   "id": "0ce202e6-56e4-445c-aadd-40c3dffefb62",
   "metadata": {},
   "outputs": [
    {
     "data": {
      "text/plain": [
       "<matplotlib.contour.QuadContourSet at 0x134329340>"
      ]
     },
     "execution_count": 66,
     "metadata": {},
     "output_type": "execute_result"
    },
    {
     "data": {
      "image/png": "[encoded data removed]",
      "text/plain": [
       "<Figure size 504x288 with 1 Axes>"
      ]
     },
     "metadata": {},
     "output_type": "display_data"
    }
   ],
   "source": [
    "fig3 = plt.figure()\n",
    "ax3 = fig3.add_subplot(111)\n",
    "ax3.contourf(Ts, Ns, fNT3nt, cmap=\"Greys\")"
   ]
  },
  {
   "cell_type": "code",
   "execution_count": 67,
   "id": "a5348b80-40ae-4fb4-b26b-067d1554ce5b",
   "metadata": {},
   "outputs": [
    {
     "data": {
      "image/png": "[encoded data removed]",
      "text/plain": [
       "<Figure size 360x144 with 1 Axes>"
      ]
     },
     "metadata": {},
     "output_type": "display_data"
    }
   ],
   "source": [
    "filename = \"figures/prob/joint_pdf_f_NT_temp_dep_variance.pdf\"\n",
    "\n",
    "with plt.rc_context({\"figure.figsize\":(5,2)}):\n",
    "    fig3 = plt.figure()\n",
    "    ax3 = fig3.add_subplot(111)\n",
    "    ax3.contourf(Ts, Ns, fNT3nt, cmap=\"Greys\")\n",
    "    ax3.set_xlabel('$t$')\n",
    "    ax3.set_ylabel('$n$')\n",
    "    fig3.tight_layout()\n",
    "    fig3.savefig(filename, dpi=300, bbox_inches=\"tight\", pad_inches=0)"
   ]
  },
  {
   "cell_type": "code",
   "execution_count": 68,
   "id": "0a5138cc-b429-47cc-b744-83594169dde0",
   "metadata": {},
   "outputs": [],
   "source": [
    "## ALT. Plot a basic wireframe\n",
    "# from mpl_toolkits.mplot3d import axes3d\n",
    "# fig = plt.figure(figsize=(12,6))\n",
    "# ax = fig.add_subplot(111, projection='3d')\n",
    "# # ax.plot_wireframe(X, Y, fUxy, rstride=10, cstride=20)\n",
    "# ax.plot_surface(X, Y, fNT2xy, cmap=\"Greys\")#  rstride=10, cstride=20)\n",
    "# ax.set_box_aspect((10,4,2))\n",
    "# # ax.set_zlim(0,0.002)"
   ]
  },
  {
   "cell_type": "markdown",
   "id": "6ca238c5-9450-47cf-a5f3-b225c607664a",
   "metadata": {},
   "source": [
    "### Useful probability formulas"
   ]
  },
  {
   "cell_type": "markdown",
   "id": "1fcb9cfe-d33d-4de2-b54f-d3239b157992",
   "metadata": {},
   "source": [
    "### Multivariable expectation\n",
    "                                "
   ]
  },
  {
   "cell_type": "markdown",
   "id": "482f08f5-8b94-435e-a028-4da65d5cb184",
   "metadata": {},
   "source": [
    "### Independent, identically distributed random variabls"
   ]
  },
  {
   "cell_type": "code",
   "execution_count": null,
   "id": "5a64af4b-6da1-4fa4-8ff5-b4dbc038ac9b",
   "metadata": {},
   "outputs": [],
   "source": []
  },
  {
   "cell_type": "code",
   "execution_count": null,
   "id": "576b3b2c-f25b-423d-b4cd-7357f766be17",
   "metadata": {},
   "outputs": [],
   "source": []
  },
  {
   "cell_type": "code",
   "execution_count": null,
   "id": "7d274baf-58c4-412b-b125-f7bc3d644990",
   "metadata": {},
   "outputs": [],
   "source": []
  },
  {
   "cell_type": "markdown",
   "id": "2a013ec1-0cdf-4049-9e19-c382a5ac59a5",
   "metadata": {},
   "source": [
    "## Discussion"
   ]
  },
  {
   "cell_type": "markdown",
   "id": "8eee63d2-1b86-43dc-9de5-060d2af5f21b",
   "metadata": {},
   "source": [
    "### Bulk of the normal distribution\n",
    "\n",
    "How much of the total probability \"weight\" lies within $k$ standard deviations of the mean?\n",
    "\n",
    "$$\n",
    "\\textrm{Pr}(\\mu_N - k\\sigma_N \\leq N \\leq \\mu_N + k\\sigma_N) \\ = \\ p_k.\n",
    "$$"
   ]
  },
  {
   "cell_type": "code",
   "execution_count": 69,
   "id": "082263f7-9235-47d1-a657-c9c85ea4c54c",
   "metadata": {},
   "outputs": [],
   "source": [
    "from scipy.integrate import quad\n",
    "from scipy.stats import norm\n",
    "rvN = norm(1000, 100)"
   ]
  },
  {
   "cell_type": "code",
   "execution_count": 70,
   "id": "4582bb0a-bf31-4634-83fb-35dfd3bc5d04",
   "metadata": {},
   "outputs": [
    {
     "name": "stdout",
     "output_type": "stream",
     "text": [
      "p_1 = Pr( N in [900.0, 1100.0] ) = 0.683\n",
      "p_2 = Pr( N in [800.0, 1200.0] ) = 0.954\n",
      "p_3 = Pr( N in [700.0, 1300.0] ) = 0.997\n"
     ]
    }
   ],
   "source": [
    "mu = rvN.mean()    # mean of the random variable\n",
    "sigma = rvN.std()  # standard deviaiton of the random variable\n",
    "\n",
    "for k in [1, 2, 3]:\n",
    "    I_k = [mu - k*sigma, mu + k*sigma]\n",
    "    p_k = quad(rvN.pdf, *I_k)[0]\n",
    "    print(f\"p_{k} = Pr( N in {I_k} ) = {p_k:.3f}\")"
   ]
  },
  {
   "cell_type": "markdown",
   "id": "62ea4abe-8778-4039-a2f7-3c89c7356fc1",
   "metadata": {},
   "source": [
    "The code below highlights the interval $I_k$ and computes the probability $p_k$.\n",
    "Change the value of $k$ to get different plots."
   ]
  },
  {
   "cell_type": "code",
   "execution_count": 71,
   "id": "02884fee-f9a2-4cfe-9d95-d21c78d91d78",
   "metadata": {},
   "outputs": [
    {
     "name": "stdout",
     "output_type": "stream",
     "text": [
      "You already have plot_helpers.py, so we can proceed.\n"
     ]
    }
   ],
   "source": [
    "# Download the `plot_helpers.py` module from the book's main github repo:\n",
    "import os, requests\n",
    "if not os.path.exists(\"plot_helpers.py\"):\n",
    "    resp = requests.get(\"https://raw.githubusercontent.com/minireference/noBSstatsnotebooks/main/notebooks/plot_helpers.py\")\n",
    "    with open(\"plot_helpers.py\", \"w\") as f:\n",
    "        f.write(resp.text)\n",
    "    print(\"Downloaded `plot_helpers.py` module to current directory:\", os.getcwd())\n",
    "else:\n",
    "    print(\"You already have plot_helpers.py, so we can proceed.\")\n"
   ]
  },
  {
   "cell_type": "code",
   "execution_count": 72,
   "id": "8630ddf5-bb8f-480e-9bc9-9d20fbd433e9",
   "metadata": {},
   "outputs": [
    {
     "data": {
      "text/plain": [
       "0.9544997361036417"
      ]
     },
     "execution_count": 72,
     "metadata": {},
     "output_type": "execute_result"
    },
    {
     "data": {
      "image/png": "[encoded data removed]",
      "text/plain": [
       "<Figure size 504x288 with 1 Axes>"
      ]
     },
     "metadata": {},
     "output_type": "display_data"
    }
   ],
   "source": [
    "from plot_helpers import calc_prob_and_plot\n",
    "\n",
    "k = 2              # number of standard deviations around the mean\n",
    "\n",
    "# values of x in the interval 𝜇 ± k𝜎 = [𝜇-k𝜎, 𝜇+k𝜎]\n",
    "I_k = [mu-k*sigma, mu+k*sigma]\n",
    "p_k, _ = calc_prob_and_plot(rvN, *I_k)\n",
    "p_k"
   ]
  },
  {
   "cell_type": "markdown",
   "id": "9e6636f4-e845-4923-a814-65676907460e",
   "metadata": {},
   "source": [
    "Try changing the value of the variable `k` to 1 or 3 in the above code cell."
   ]
  },
  {
   "cell_type": "code",
   "execution_count": null,
   "id": "89dfaf4c-7869-4bc3-bd90-8e07197367b5",
   "metadata": {},
   "outputs": [],
   "source": []
  },
  {
   "cell_type": "markdown",
   "id": "d9f90c41-32a4-4e51-988e-139b9c2af66b",
   "metadata": {},
   "source": [
    "### Tails of the normal distribution\n",
    "\n",
    "We're often interested in tail ends of the distribution, which contain the unlikely events."
   ]
  },
  {
   "cell_type": "code",
   "execution_count": 73,
   "id": "5488f830-f961-43a1-84d9-c95d5cbf754d",
   "metadata": {},
   "outputs": [
    {
     "name": "stdout",
     "output_type": "stream",
     "text": [
      "Pr( N<900.0 or N>1100.0 ) = 0.3173\n",
      "Pr( N<800.0 or N>1200.0 ) = 0.0455\n",
      "Pr( N<700.0 or N>1300.0 ) = 0.0027\n"
     ]
    }
   ],
   "source": [
    "mu = rvN.mean()    # mean of the random variable\n",
    "sigma = rvN.std()  # standard deviaiton of the random variable\n",
    "\n",
    "for k in [1, 2, 3]:\n",
    "    # compute the probability in the left tail (-∞,𝜇-k𝜎]\n",
    "    x_l = mu - k*sigma\n",
    "    p_l = quad(rvN.pdf, rvN.ppf(0.0000000001), x_l)[0]\n",
    "    # compute the probability in the right tail [𝜇+k𝜎,∞)\n",
    "    x_r = mu + k*sigma\n",
    "    p_r = quad(rvN.pdf, x_r, rvN.ppf(0.9999999999))[0]\n",
    "    # add together to get total probability in the tails\n",
    "    p_tails = p_l + p_r\n",
    "    print(f\"Pr( N<{x_l} or N>{x_r} ) = {p_tails:.4f}\")"
   ]
  },
  {
   "cell_type": "code",
   "execution_count": null,
   "id": "23e96f1c-4ee9-41b2-9816-1e7833ecbda6",
   "metadata": {},
   "outputs": [],
   "source": []
  },
  {
   "cell_type": "markdown",
   "id": "df7e46f1-ca97-4184-9717-6a43687d9f5f",
   "metadata": {},
   "source": [
    "The code below highlights the tails of the distribution and computes the sum of their probability."
   ]
  },
  {
   "cell_type": "code",
   "execution_count": 74,
   "id": "5dfe05b1-cf93-454d-8c8e-0c1dac816677",
   "metadata": {},
   "outputs": [
    {
     "name": "stdout",
     "output_type": "stream",
     "text": [
      "Pr( {N<800.0} ∪ {N>1200.0} ) = 0.0455\n"
     ]
    },
    {
     "data": {
      "image/png": "[encoded data removed]",
      "text/plain": [
       "<Figure size 504x288 with 1 Axes>"
      ]
     },
     "metadata": {},
     "output_type": "display_data"
    }
   ],
   "source": [
    "from plot_helpers import calc_prob_and_plot_tails\n",
    "\n",
    "mu = rvN.mean()    # mean of the random variable\n",
    "sigma = rvN.std()  # standard deviaiton of the random variable\n",
    "\n",
    "\n",
    "k = 2              # number of standard deviations around the mean\n",
    "\n",
    "# the distribution's left tail (-∞,𝜇-k𝜎]\n",
    "x_l = mu - k*sigma\n",
    "# the distribution's right tail [𝜇+k𝜎,∞)\n",
    "x_r = mu + k*sigma\n",
    "p_tails, _ = calc_prob_and_plot_tails(rvN, x_l, x_r, xlims=[600, 1400])\n",
    "\n",
    "print(f\"Pr( {{N<{x_l}}} ∪ {{N>{x_r}}} ) = {p_tails:.4f}\")"
   ]
  },
  {
   "cell_type": "markdown",
   "id": "95366c69-fcdd-4f3b-982f-90bb45640ae2",
   "metadata": {},
   "source": [
    "Try changing the value of the variable `k` in the above code cell."
   ]
  },
  {
   "cell_type": "markdown",
   "id": "ef0d2bd8-62a5-4d93-a56f-783096bda7fb",
   "metadata": {},
   "source": [
    "The above calculations leads us to an important rule of thumb: the values of the 5% tail of the distribution are $k=2$ standard deviations away from the mean (more precisely, we should use $k=1.96$ to get exactly 5%). We'll use this facts later in STATS to define a *cutoff value* for events that are unlikely to occur by chance."
   ]
  },
  {
   "cell_type": "code",
   "execution_count": null,
   "id": "6dc6a19e-0691-4032-9f1a-17b4b3ea58d8",
   "metadata": {},
   "outputs": [],
   "source": []
  },
  {
   "cell_type": "code",
   "execution_count": null,
   "id": "8385af02-bd26-49b2-8989-060045ae01ed",
   "metadata": {},
   "outputs": [],
   "source": []
  }
 ],
 "metadata": {
  "kernelspec": {
   "display_name": "Python 3 (ipykernel)",
   "language": "python",
   "name": "python3"
  },
  "language_info": {
   "codemirror_mode": {
    "name": "ipython",
    "version": 3
   },
   "file_extension": ".py",
   "mimetype": "text/x-python",
   "name": "python",
   "nbconvert_exporter": "python",
   "pygments_lexer": "ipython3",
   "version": "3.9.4"
  }
 },
 "nbformat": 4,
 "nbformat_minor": 5
}
