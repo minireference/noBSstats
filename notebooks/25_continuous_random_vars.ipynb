{
 "cells": [
  {
   "cell_type": "markdown",
   "id": "e7d3faee-b4be-42ab-88e5-c115af614490",
   "metadata": {
    "tags": []
   },
   "source": [
    "# Section 2.5 — Continuous random variables\n",
    "\n",
    "This notebook contains all the code examples from [Section 2.5 Continuous random variables]() of the **No Bullshit Guide to Statistics**.\n",
    "\n",
    "Topics covered in this notebook:\n",
    "- Definitions of continuous random variables\n",
    "- Examples of random variables\n",
    "- Probability calculations\n",
    "- Computer models for random variables \n",
    "  - Overview of `scipy.stats` methods\n",
    "- Real-world example to demo probability applications\n",
    "- Discussion\n",
    "  - Bulk and tails of a the normal distribution\n"
   ]
  },
  {
   "cell_type": "markdown",
   "id": "c91d250a-73b0-4033-b6d0-5e9f870e6c2d",
   "metadata": {
    "tags": []
   },
   "source": [
    "#### Notebook setup\n",
    "\n",
    "We'll start by importing the Python modules we'll need for this notebook."
   ]
  },
  {
   "cell_type": "code",
   "execution_count": 1,
   "id": "8457739f-5b96-4dce-ab18-0a4f0d86e4f6",
   "metadata": {},
   "outputs": [],
   "source": [
    "# load Python modules\n",
    "import numpy as np\n",
    "import pandas as pd\n",
    "import seaborn as sns\n",
    "import matplotlib.pyplot as plt"
   ]
  },
  {
   "cell_type": "code",
   "execution_count": 2,
   "id": "79ed135c-adf8-466e-99c8-8120baf7e565",
   "metadata": {},
   "outputs": [],
   "source": [
    "# Figures setup\n",
    "sns.set_theme(\n",
    "    context=\"paper\",\n",
    "    style=\"whitegrid\",\n",
    "    palette=\"colorblind\",\n",
    "    rc={'figure.figsize': (7,4)},\n",
    ")\n",
    "\n",
    "# %config InlineBackend.figure_format = 'retina'"
   ]
  },
  {
   "cell_type": "code",
   "execution_count": 3,
   "id": "fffe8947-96a6-4b9d-afc0-69d77d207efe",
   "metadata": {},
   "outputs": [],
   "source": [
    "# set random seed for repeatability\n",
    "np.random.seed(3)"
   ]
  },
  {
   "cell_type": "code",
   "execution_count": null,
   "id": "fce3d9fd-21e5-4a83-9dec-aa43581b14b5",
   "metadata": {},
   "outputs": [],
   "source": []
  },
  {
   "cell_type": "code",
   "execution_count": null,
   "id": "2d8b1da5-c36b-40a9-82ae-ecf01a7be3a3",
   "metadata": {},
   "outputs": [],
   "source": []
  },
  {
   "cell_type": "markdown",
   "id": "3fd650e9-7b32-434e-856b-76a434d7af1d",
   "metadata": {},
   "source": [
    "## Definitions"
   ]
  },
  {
   "cell_type": "markdown",
   "id": "fe9ef2fc-2382-482a-8c86-8746168366a9",
   "metadata": {
    "tags": []
   },
   "source": [
    "\n",
    "### Random variables\n",
    "\n",
    "- *random variable* $X$:\n",
    "  a quantity that can take on different values.\n",
    "- **outcome**: a particular value $\\{X = x\\}$ or range of values $\\{a \\leq X \\leq b\\}$ that can occur as a result of observing the random variable $X$.\n",
    "- **sample space** $\\mathcal{X}$: describes the set of all possible outcomes of the random variable.\n",
    "- $f_X$: the *probability distribution function*\n",
    "  is a function that assigns probabilities to the different outcome in the sample space of a random variable.\n",
    "  The probability distribution function of the random variable $X$\n",
    "  is a function of the form $f_X: \\mathcal{X} \\to \\mathbb{R}$.\n",
    "- $F_X$:\n",
    "  the *cumulative distribution function* (CDF) tells us the probability of an outcome\n",
    "  less than or equal to a given value: $F_X(b) = Pr(\\{ X \\leq b \\})$.\n",
    "- $F_X^{-1}$:\n",
    "  the inverse cumulative distribution function computes contains the information\n",
    "  about the quantiles of the probability distribution.\n",
    "  The value $F_X^{-1}(q)=x_q$ tells how far you need to go in the sample space\n",
    "  so that the event $\\{ X \\leq x_q \\}$ contains a proportion $q$ of the total probability:\n",
    "  $\\Pr(\\{ X \\leq x_q \\})=q$.\n",
    "- $\\mathbb{E}_X[w]$:\n",
    "  the *expected value* of the function $w(X)$\n",
    "  computes the average value of $w(X)$ computed for all the possible values of the random variable $X$.\n",
    "\n",
    "\n",
    "\n"
   ]
  },
  {
   "cell_type": "code",
   "execution_count": null,
   "id": "f7fbc565-9697-4c44-86a9-aef8f7b686eb",
   "metadata": {},
   "outputs": [],
   "source": []
  },
  {
   "cell_type": "markdown",
   "id": "8e6a5299-a37a-4a2b-a538-d71e75641bd4",
   "metadata": {},
   "source": [
    "#### Example 1: Uniform distribution\n",
    "\n",
    "The [uniform distribution](https://en.wikipedia.org/wiki/Continuous_uniform_distribution) $\\mathcal{U}(0,1)$ is described by the following probability density function:\n",
    "$$\n",
    "  p_U(u) =\n",
    "  \\begin{cases}\n",
    "      1 & \\mathrm{for}\\ 0 \\le u \\le 1, \\\\\n",
    "      0 & \\mathrm{for}\\ u<0\\ \\mathrm{or}\\ u>1.\n",
    "  \\end{cases}\n",
    "$$\n",
    "where $U$ is the name of the random variable and $u$ are particular values it can take on.\n",
    "\n",
    "The above equation describes tells you how likely it is to observe $\\{U=u\\}$.\n",
    "For a uniform distribution $\\mathcal{U}(0,1)$, each $u$ between 0 and 1 is equally likely to occur,\n",
    "and values of $u$ outside this range have zero probability of occurring."
   ]
  },
  {
   "cell_type": "markdown",
   "id": "755c1422-b9b9-4a42-9126-9bc796afad92",
   "metadata": {},
   "source": [
    "**Computer simulation**\n",
    "\n",
    "- The continuous uniform family of distribution $\\mathcal{U}(\\alpha,\\beta)$,\n",
    "  which assigns equal probabilities to all outcomes in the interval $[\\alpha,\\beta]$.\n",
    "  To create a computer model for a continuous uniform distribution,\n",
    "  use the code `uniform(alpha,beta)`,\n",
    "  where `alpha` and `beta` are two floats.\n",
    "\n",
    "\n",
    "We'll introduce computer models for random variables is [Section 2.1.5 — Computer models for random variables](#computer_models) below, but since we're looking at a notebook, we can show a little preview of the calculations you'll learn by the end of the section."
   ]
  },
  {
   "cell_type": "code",
   "execution_count": 4,
   "id": "9ca958d7-089f-46b0-ae9e-003f4b0ab78e",
   "metadata": {},
   "outputs": [
    {
     "data": {
      "text/plain": [
       "0.3"
      ]
     },
     "execution_count": 4,
     "metadata": {},
     "output_type": "execute_result"
    }
   ],
   "source": [
    "# define the computer model `rvU` for the random variable U\n",
    "from scipy.stats import uniform\n",
    "rvU = uniform(0, 1)\n",
    "\n",
    "# use `quad` function to integrate rvU.pdf between 0.2 and 0.5\n",
    "from scipy.integrate import quad\n",
    "quad(rvU.pdf, 0.2, 0.5)[0]"
   ]
  },
  {
   "cell_type": "code",
   "execution_count": null,
   "id": "5f2f57b7-7d0a-4fbc-8b45-894eecbeb84b",
   "metadata": {},
   "outputs": [],
   "source": []
  },
  {
   "cell_type": "markdown",
   "id": "844f9986-4ad9-4ea1-95d0-51796ed332b4",
   "metadata": {},
   "source": [
    "#### Example 2: Normal distribution\n",
    "\n",
    "A random variable $N$ with a [normal distribution](https://en.wikipedia.org/wiki/Normal_distribution) \n",
    "$\\mathcal{N}(\\mu,\\sigma)$ is described by the probability density function:\n",
    "$$ \\Large\n",
    "    f_N(n) = \\tfrac{1}{\\sigma\\sqrt{2\\pi}} e^{\\small -\\tfrac{(n-\\mu)^2}{2\\sigma^2}}.\n",
    "$$\n",
    "\n",
    "The mean $\\mu$ (the Greek letter *mu*) and the standard deviation $\\sigma$ (the Greek letter *sigma*) are called the parameters of the distribution.\n",
    "\n",
    "The math notation $\\mathcal{N}(\\mu, \\sigma)$ is used to describe the whole family of normal probability distributions,\n",
    "and $N \\sim \\mathcal{N}(1000, 100)$ is a particular instance of the distribution with mean $\\mu = 1000$ and standard deviation $\\sigma = 100$."
   ]
  },
  {
   "cell_type": "markdown",
   "id": "9c889e69-1d12-4097-a07b-5802ca0aafe9",
   "metadata": {},
   "source": [
    "The code example below shows the calculation of the probability $\\Pr\\!\\left( \\{ 800 \\leq N \\leq 900 \\} \\right)$,\n",
    "which corresponds to the integral $\\int_{n=800}^{n=900} f_N(n) dn$."
   ]
  },
  {
   "cell_type": "code",
   "execution_count": 5,
   "id": "dd67fe43-155c-4a67-800e-2d28d3c67117",
   "metadata": {},
   "outputs": [
    {
     "data": {
      "text/plain": [
       "0.13590512198327784"
      ]
     },
     "execution_count": 5,
     "metadata": {},
     "output_type": "execute_result"
    }
   ],
   "source": [
    "# define the computer model `rvN` for the random variable N\n",
    "from scipy.stats import norm\n",
    "rvN = norm(1000, 100)\n",
    "\n",
    "# use `quad` function to integrate rvN.pdf between 800 and 900\n",
    "quad(rvN.pdf, 800, 900)[0]"
   ]
  },
  {
   "cell_type": "code",
   "execution_count": null,
   "id": "6cca4d95-e6c3-4329-8451-ac4c3824eae7",
   "metadata": {},
   "outputs": [],
   "source": []
  },
  {
   "cell_type": "code",
   "execution_count": null,
   "id": "920b595e-b459-40d3-b621-4ca9d8ddf79e",
   "metadata": {},
   "outputs": [],
   "source": []
  },
  {
   "cell_type": "markdown",
   "id": "35cf7132-d1d8-495f-b18f-e088e3c5fc6a",
   "metadata": {
    "tags": [],
    "toc-hr-collapsed": true
   },
   "source": [
    "## Calculations with random variables"
   ]
  },
  {
   "cell_type": "markdown",
   "id": "aa02b21b-514a-482a-a029-49f4f6a15835",
   "metadata": {},
   "source": [
    "### Example 1: mean and variance of the uniform distribution\n"
   ]
  },
  {
   "cell_type": "markdown",
   "id": "28410a0a-542c-4a96-bb99-b471e571fcd1",
   "metadata": {},
   "source": [
    "#### Mean\n",
    "\\begin{align*}\n",
    "    \\mu_U = \\mathbb{E}_U[U] \n",
    "        &=\t\\int_{-\\infty}^{\\infty}\tu f_U(u) \\; du\t\t\\\\\n",
    "        &=\t\\int_0^1 u f_U(u) \\; du\t\t\t\t\\\\\n",
    "        &=\t\\int_0^1 u \\cdot 1 \\; du\t= \t\\tfrac{1}{2}.\n",
    "\\end{align*}"
   ]
  },
  {
   "cell_type": "code",
   "execution_count": 6,
   "id": "1ab0b2fc-fc40-4784-9573-da414ab6a2b1",
   "metadata": {},
   "outputs": [
    {
     "data": {
      "text/latex": [
       "$\\displaystyle \\frac{1}{2}$"
      ],
      "text/plain": [
       "1/2"
      ]
     },
     "execution_count": 6,
     "metadata": {},
     "output_type": "execute_result"
    }
   ],
   "source": [
    "from sympy import symbols, integrate\n",
    "\n",
    "u = symbols('u')\n",
    "integrate(u * 1, (u,0,1))"
   ]
  },
  {
   "cell_type": "markdown",
   "id": "9aa421a2-69e4-44bb-bc24-c74583c43a7b",
   "metadata": {},
   "source": [
    "So the mean is $\\mu_U = \\frac{1}{2} = 0.5$."
   ]
  },
  {
   "cell_type": "markdown",
   "id": "b1810fda-46db-4237-aec4-f9f13293c036",
   "metadata": {},
   "source": [
    "#### Variance\n",
    "\n",
    "The formula for the variance is\n",
    "$$\n",
    "    \\sigma_U^2\n",
    "        = \\mathbb{E}_U\\!\\left[ (U-\\mu_U)^2 \\right]\n",
    "        = \\int_0^1 (u- \\tfrac{1}{2})^2 \\cdot f_U(u) \\; du.\n",
    "$$"
   ]
  },
  {
   "cell_type": "code",
   "execution_count": 7,
   "id": "8cdfcb36-fcea-49e1-8d38-030123ddee54",
   "metadata": {},
   "outputs": [
    {
     "data": {
      "text/latex": [
       "$\\displaystyle 0.0833333333333333$"
      ],
      "text/plain": [
       "0.0833333333333333"
      ]
     },
     "execution_count": 7,
     "metadata": {},
     "output_type": "execute_result"
    }
   ],
   "source": [
    "from sympy import symbols, integrate\n",
    "\n",
    "u = symbols('u')\n",
    "integrate( (u-1/2)**2 * 1, (u,0,1) )"
   ]
  },
  {
   "cell_type": "markdown",
   "id": "9aaacc47-d31d-4634-910b-c3da5ce0ae77",
   "metadata": {},
   "source": [
    "So the variance of $U$ is $\\sigma_U^2 = \\frac{1}{12} = 0.08\\overline{3}$.\n",
    "\n",
    "We can compute the standard deviation $\\sigma_U$ by taking the square root of the variance."
   ]
  },
  {
   "cell_type": "code",
   "execution_count": 8,
   "id": "ab25793c-0443-4022-a3bb-e44774f18afc",
   "metadata": {},
   "outputs": [
    {
     "data": {
      "text/plain": [
       "0.2886751345948128"
      ]
     },
     "execution_count": 8,
     "metadata": {},
     "output_type": "execute_result"
    }
   ],
   "source": [
    "import numpy as np\n",
    "np.sqrt(0.0833333333333333)"
   ]
  },
  {
   "cell_type": "code",
   "execution_count": null,
   "id": "556133c4-5ffb-422b-80e3-d203ddb99b04",
   "metadata": {},
   "outputs": [],
   "source": []
  },
  {
   "cell_type": "markdown",
   "id": "25b3333b-b387-4698-b351-7731cfca0cc7",
   "metadata": {},
   "source": [
    "### Example 2: mean and variance of a normal distribution"
   ]
  },
  {
   "cell_type": "markdown",
   "id": "ff86118d-794a-4a36-941b-dd8660e6c33c",
   "metadata": {},
   "source": [
    "$$\n",
    "    p_N(n)\n",
    "      = \\tfrac{1}{\\sigma\\sqrt{2\\pi}} e^{-\\tfrac{(n-\\mu)^2}{2\\sigma^2}}\n",
    "      = \\tfrac{1}{100\\sqrt{2\\pi}} e^{-\\tfrac{(n-1000)^2}{2\\cdot100^2}}.\n",
    "$$"
   ]
  },
  {
   "cell_type": "code",
   "execution_count": 9,
   "id": "614d0d72-b1df-42b0-9533-d0583a6e1c5a",
   "metadata": {},
   "outputs": [],
   "source": [
    "import numpy as np\n",
    "\n",
    "mu = 1000\n",
    "sigma = 100\n",
    "\n",
    "def fN(n):\n",
    "    z = (n - mu)/sigma\n",
    "    C = sigma * np.sqrt(2*np.pi)\n",
    "    return 1 / C * np.exp(-1/2 * z**2)"
   ]
  },
  {
   "cell_type": "markdown",
   "id": "b5eca329-479a-4534-b631-de38c20b4bfd",
   "metadata": {},
   "source": [
    "The mean of $N$ is"
   ]
  },
  {
   "cell_type": "code",
   "execution_count": 10,
   "id": "522bbcba-8161-4a15-8ff5-cd7f2f0bce63",
   "metadata": {},
   "outputs": [
    {
     "data": {
      "text/plain": [
       "1000.0"
      ]
     },
     "execution_count": 10,
     "metadata": {},
     "output_type": "execute_result"
    }
   ],
   "source": [
    "from scipy.integrate import quad\n",
    "\n",
    "def n_times_fN(n):\n",
    "    return n * fN(n)\n",
    "\n",
    "muN = quad(n_times_fN, -2000, 4000)[0]\n",
    "muN"
   ]
  },
  {
   "cell_type": "markdown",
   "id": "f1d74ce1-9665-45ee-a6c7-6ffc97f659c6",
   "metadata": {},
   "source": [
    "The standard deviation of $N$ is"
   ]
  },
  {
   "cell_type": "code",
   "execution_count": 11,
   "id": "873b7417-857a-40a8-955c-fdee3279c89d",
   "metadata": {},
   "outputs": [
    {
     "data": {
      "text/plain": [
       "100.00000000000001"
      ]
     },
     "execution_count": 11,
     "metadata": {},
     "output_type": "execute_result"
    }
   ],
   "source": [
    "def n_minus_mu_sq_times_fN(n):\n",
    "    return (n-muN)**2 * fN(n)\n",
    "\n",
    "sigma_sq = quad(n_minus_mu_sq_times_fN, -2000, 4000)[0]\n",
    "sigmaN = np.sqrt(sigma_sq)\n",
    "sigmaN"
   ]
  },
  {
   "cell_type": "code",
   "execution_count": null,
   "id": "d9ad0130-1d13-40f3-badb-5c18beb89de7",
   "metadata": {},
   "outputs": [],
   "source": []
  },
  {
   "cell_type": "code",
   "execution_count": null,
   "id": "f51c3190-52f3-479f-ae32-9417d6fffe3f",
   "metadata": {},
   "outputs": [],
   "source": []
  },
  {
   "cell_type": "markdown",
   "id": "de4a6004-f4b4-47f0-b409-1209853248d7",
   "metadata": {},
   "source": [
    "### Skewness and kurtosis"
   ]
  },
  {
   "cell_type": "code",
   "execution_count": 12,
   "id": "fed2fdf0-856d-4d77-b439-e9baf4c5ab7f",
   "metadata": {},
   "outputs": [],
   "source": [
    "from scipy.stats import norm\n",
    "\n",
    "mu = 0     # position of the centre\n",
    "sigma = 1  # dispersion\n",
    "rvZ = norm(mu, sigma)"
   ]
  },
  {
   "cell_type": "code",
   "execution_count": 13,
   "id": "d06806a1-a878-4ff3-bbe1-b0b0af7a3934",
   "metadata": {},
   "outputs": [
    {
     "data": {
      "text/plain": [
       "(array(0.), array(1.), array(0.), array(0.))"
      ]
     },
     "execution_count": 13,
     "metadata": {},
     "output_type": "execute_result"
    }
   ],
   "source": [
    "mean, var, skew, kurt = rvZ.stats(moments=\"mvsk\")\n",
    "mean, var, skew, kurt"
   ]
  },
  {
   "cell_type": "code",
   "execution_count": null,
   "id": "6b3f0b14-9ab1-4240-99a4-64c86ad6a6dc",
   "metadata": {},
   "outputs": [],
   "source": []
  },
  {
   "cell_type": "markdown",
   "id": "c8e0861e-c992-47db-a1d2-d8fdea586e9e",
   "metadata": {},
   "source": [
    "<a name=\"computer_models\"></a>\n",
    "\n",
    "## Computer models for random variables\n",
    "\n",
    "- `<model>`: the family of probability distributions\n",
    "- `<params>`: parameters of the model—specific value of the control knobs we choose in the general family of distributions to create a particular distribution\n",
    "- `<model>(<params>)`: a particular instance of probability model created by choosing a model family `<model>` and the model parameters `<params>`.\n",
    "  - example 1: uniform family of distribution $\\mathcal{U}(\\alpha,\\beta)$ with parameters $\\alpha$ and $\\beta$.  \n",
    "  - example 2: normal family of distribution $\\mathcal{N}(\\mu,\\sigma)$ with parameters $\\mu$ and $\\sigma$.\n",
    "- $\\sim$: math shorthand symbol that stands for \"is distributed according to.\"\n",
    "  For example $X \\sim \\texttt{model}(\\theta)$ means the random variable $X$\n",
    "  is distributed according to model instance $\\texttt{model}$ and parameters $\\theta$.\n"
   ]
  },
  {
   "cell_type": "code",
   "execution_count": 14,
   "id": "8d7d6007-5ebf-4269-9d5b-bbc208ee60df",
   "metadata": {},
   "outputs": [],
   "source": [
    "from scipy.stats import norm\n",
    "\n",
    "# create a normal random variable with mean 1000 and std 100\n",
    "rvN = norm(1000, 100)"
   ]
  },
  {
   "cell_type": "code",
   "execution_count": 15,
   "id": "d0ff511e-df45-43fa-a51d-aa8ac93f99e8",
   "metadata": {},
   "outputs": [
    {
     "data": {
      "text/plain": [
       "scipy.stats._distn_infrastructure.rv_frozen"
      ]
     },
     "execution_count": 15,
     "metadata": {},
     "output_type": "execute_result"
    }
   ],
   "source": [
    "type(rvN)"
   ]
  },
  {
   "cell_type": "code",
   "execution_count": 16,
   "id": "3db25a22-3944-4d26-84f9-191d19674038",
   "metadata": {},
   "outputs": [],
   "source": [
    "## see all attributes and methods:\n",
    "# [attr for attr in dir(rvN) if \"__\" not in attr] "
   ]
  },
  {
   "cell_type": "markdown",
   "id": "48f711e7-3209-42bc-ab14-303f09ae6889",
   "metadata": {},
   "source": [
    "### Plotting the probability functions"
   ]
  },
  {
   "cell_type": "code",
   "execution_count": 17,
   "id": "de2ba710-5656-41f0-ba55-32d701326176",
   "metadata": {},
   "outputs": [
    {
     "data": {
      "text/plain": [
       "<AxesSubplot:>"
      ]
     },
     "execution_count": 17,
     "metadata": {},
     "output_type": "execute_result"
    },
    {
     "data": {
      "image/png": "[encoded data removed]",
      "text/plain": [
       "<Figure size 504x288 with 1 Axes>"
      ]
     },
     "metadata": {},
     "output_type": "display_data"
    }
   ],
   "source": [
    "ns = np.linspace(0, 2000, 10000)\n",
    "fNs = rvN.pdf(ns)\n",
    "sns.lineplot(x=ns, y=fNs, label=\"pdf of $N$\")"
   ]
  },
  {
   "cell_type": "markdown",
   "id": "3896f2b3-6c0e-4195-968e-136cbb041ac7",
   "metadata": {},
   "source": [
    "The cumulative distribution is the integral of the probability density function:\n",
    "$$\n",
    "   F_N(b) = \\textrm{Pr}(N \\leq b) = \\int_{-\\infty}^b f_N(n) \\, dn\n",
    "$$\n"
   ]
  },
  {
   "cell_type": "code",
   "execution_count": 18,
   "id": "07324208-d232-4d2a-afb0-bb2d9f19a64f",
   "metadata": {},
   "outputs": [
    {
     "data": {
      "text/plain": [
       "<AxesSubplot:>"
      ]
     },
     "execution_count": 18,
     "metadata": {},
     "output_type": "execute_result"
    },
    {
     "data": {
      "image/png": "[encoded data removed]",
      "text/plain": [
       "<Figure size 504x288 with 1 Axes>"
      ]
     },
     "metadata": {},
     "output_type": "display_data"
    }
   ],
   "source": [
    "ns = np.linspace(0, 2000, 10000)\n",
    "FNs = rvN.cdf(ns)\n",
    "sns.lineplot(x=ns, y=FNs, label=\"CDF of $N$\")"
   ]
  },
  {
   "cell_type": "markdown",
   "id": "29bccc30-5422-40d9-8f03-ee198345304b",
   "metadata": {},
   "source": [
    "### Properties of the distribution"
   ]
  },
  {
   "cell_type": "code",
   "execution_count": 19,
   "id": "bd9cb7ad-f9d5-4c5f-819c-4a2edc88d6f3",
   "metadata": {},
   "outputs": [
    {
     "data": {
      "text/plain": [
       "1000.0"
      ]
     },
     "execution_count": 19,
     "metadata": {},
     "output_type": "execute_result"
    }
   ],
   "source": [
    "rvN.mean()"
   ]
  },
  {
   "cell_type": "code",
   "execution_count": 20,
   "id": "b774a3c6-d486-4949-97df-3c3d044edb71",
   "metadata": {},
   "outputs": [
    {
     "data": {
      "text/plain": [
       "100.0"
      ]
     },
     "execution_count": 20,
     "metadata": {},
     "output_type": "execute_result"
    }
   ],
   "source": [
    "rvN.std()"
   ]
  },
  {
   "cell_type": "code",
   "execution_count": 21,
   "id": "40a64e43-de9f-4bb7-ba0f-d1efe820b32d",
   "metadata": {},
   "outputs": [
    {
     "data": {
      "text/plain": [
       "10000.0"
      ]
     },
     "execution_count": 21,
     "metadata": {},
     "output_type": "execute_result"
    }
   ],
   "source": [
    "rvN.var()"
   ]
  },
  {
   "cell_type": "code",
   "execution_count": 22,
   "id": "a5b50d69-d34a-44c6-8790-c34d9794db0b",
   "metadata": {},
   "outputs": [
    {
     "data": {
      "text/plain": [
       "100.0"
      ]
     },
     "execution_count": 22,
     "metadata": {},
     "output_type": "execute_result"
    }
   ],
   "source": [
    "np.sqrt( rvN.var() )  # = rvN.std()"
   ]
  },
  {
   "cell_type": "code",
   "execution_count": 23,
   "id": "35a58265-75f9-4b9d-bcdd-cf435cde143e",
   "metadata": {},
   "outputs": [
    {
     "data": {
      "text/plain": [
       "1000.0"
      ]
     },
     "execution_count": 23,
     "metadata": {},
     "output_type": "execute_result"
    }
   ],
   "source": [
    "rvN.median()"
   ]
  },
  {
   "cell_type": "code",
   "execution_count": 24,
   "id": "e998e091-ac69-4b08-95a5-533b8cad5709",
   "metadata": {},
   "outputs": [
    {
     "data": {
      "text/plain": [
       "(-inf, inf)"
      ]
     },
     "execution_count": 24,
     "metadata": {},
     "output_type": "execute_result"
    }
   ],
   "source": [
    "rvN.support()"
   ]
  },
  {
   "cell_type": "markdown",
   "id": "dab26f01-5df7-419c-8775-8fba56a079f5",
   "metadata": {},
   "source": [
    "### Computing probabilities\n",
    "\n",
    "Suppose you want to compute the probability of the outcome $\\{ a \\leq N \\leq b \\}$\n",
    "for the random variable $N$."
   ]
  },
  {
   "cell_type": "code",
   "execution_count": 25,
   "id": "adf0d86a-3b2c-4bb0-90f6-6d51cdb95db2",
   "metadata": {},
   "outputs": [
    {
     "data": {
      "text/plain": [
       "0.9544997361036417"
      ]
     },
     "execution_count": 25,
     "metadata": {},
     "output_type": "execute_result"
    }
   ],
   "source": [
    "# Pr({800 < N < 1200}) = integral of f_N between 800 and 1200\n",
    "quad(rvN.pdf, 800, 1200)[0]"
   ]
  },
  {
   "cell_type": "code",
   "execution_count": 26,
   "id": "9ea40e98-edb8-4d5f-8325-66bdfce879e0",
   "metadata": {},
   "outputs": [
    {
     "data": {
      "text/plain": [
       "0.9544997361036416"
      ]
     },
     "execution_count": 26,
     "metadata": {},
     "output_type": "execute_result"
    }
   ],
   "source": [
    "# Pr({800 < N < 1200}) = F_N(1200) - F_N(800)\n",
    "rvN.cdf(1200) - rvN.cdf(800)"
   ]
  },
  {
   "cell_type": "code",
   "execution_count": null,
   "id": "3063fd0b-20b8-4cc7-97c7-55c174bf5b0a",
   "metadata": {},
   "outputs": [],
   "source": []
  },
  {
   "cell_type": "markdown",
   "id": "79955e32-cdc5-4816-bec0-a9cdfe533e2e",
   "metadata": {
    "tags": [],
    "toc-hr-collapsed": true
   },
   "source": [
    "### Computing quantiles\n",
    "\n",
    "The inverse question is to find the interval $(-\\infty, n_q]$ that contains proportion $q$ of the total probability.\n",
    "\n",
    "For example the $q=0.25$ quantile is located at"
   ]
  },
  {
   "cell_type": "code",
   "execution_count": 27,
   "id": "77843fb5-ae02-4be1-aa4b-fad02e73731a",
   "metadata": {},
   "outputs": [
    {
     "data": {
      "text/plain": [
       "932.5510249803918"
      ]
     },
     "execution_count": 27,
     "metadata": {},
     "output_type": "execute_result"
    }
   ],
   "source": [
    "# first quartile\n",
    "rvN.ppf(0.25)"
   ]
  },
  {
   "cell_type": "code",
   "execution_count": 28,
   "id": "6bffd007-165f-4d5b-9778-45d9c7c147ef",
   "metadata": {},
   "outputs": [
    {
     "data": {
      "text/plain": [
       "0.25"
      ]
     },
     "execution_count": 28,
     "metadata": {},
     "output_type": "execute_result"
    }
   ],
   "source": [
    "# verify that Pr({N<=932.5510249803918)}) == 0.25\n",
    "rvN.cdf(932.5510249803918)"
   ]
  },
  {
   "cell_type": "code",
   "execution_count": 29,
   "id": "c5dbef0a-77e2-4c85-a8be-d9efa311f3a4",
   "metadata": {},
   "outputs": [
    {
     "data": {
      "text/plain": [
       "1000.0"
      ]
     },
     "execution_count": 29,
     "metadata": {},
     "output_type": "execute_result"
    }
   ],
   "source": [
    "# second quartile == median\n",
    "rvN.ppf(0.5)"
   ]
  },
  {
   "cell_type": "code",
   "execution_count": 30,
   "id": "ec16ae01-ba0f-48dd-9c37-6774540cdeb3",
   "metadata": {},
   "outputs": [
    {
     "data": {
      "text/plain": [
       "1067.4489750196083"
      ]
     },
     "execution_count": 30,
     "metadata": {},
     "output_type": "execute_result"
    }
   ],
   "source": [
    "# third quartile\n",
    "rvN.ppf(0.75)"
   ]
  },
  {
   "cell_type": "code",
   "execution_count": null,
   "id": "120d2e92-8b6b-47fb-8d34-60a7b5174414",
   "metadata": {},
   "outputs": [],
   "source": []
  },
  {
   "cell_type": "markdown",
   "id": "46e95611-f1ec-4335-bff1-f98efc7f5a67",
   "metadata": {},
   "source": [
    "#### Left tail"
   ]
  },
  {
   "cell_type": "code",
   "execution_count": 31,
   "id": "0ee01618-a9a1-41a9-b37c-39fbbd74982a",
   "metadata": {},
   "outputs": [
    {
     "data": {
      "text/plain": [
       "835.5146373048527"
      ]
     },
     "execution_count": 31,
     "metadata": {},
     "output_type": "execute_result"
    }
   ],
   "source": [
    "rvN.ppf(0.05)"
   ]
  },
  {
   "cell_type": "markdown",
   "id": "4a0256a4-b58a-4700-9b58-744590b9d6c0",
   "metadata": {},
   "source": [
    "#### Right tail"
   ]
  },
  {
   "cell_type": "code",
   "execution_count": 32,
   "id": "6078173c-125a-4dbf-953c-35b9655c0b76",
   "metadata": {},
   "outputs": [
    {
     "data": {
      "text/plain": [
       "1164.4853626951472"
      ]
     },
     "execution_count": 32,
     "metadata": {},
     "output_type": "execute_result"
    }
   ],
   "source": [
    "rvN.ppf(0.95)"
   ]
  },
  {
   "cell_type": "code",
   "execution_count": null,
   "id": "326bb65e-d75e-4978-aac7-1a76a24635de",
   "metadata": {},
   "outputs": [],
   "source": []
  },
  {
   "cell_type": "markdown",
   "id": "d2073b9d-28bb-4896-bd3e-071b9b6e2c8a",
   "metadata": {},
   "source": [
    "#### Computing confidence intervals\n",
    "\n",
    "To compute a 90% confidence interval for the random variable $N$,\n",
    "we can use the `rvN.interval()` method."
   ]
  },
  {
   "cell_type": "code",
   "execution_count": 33,
   "id": "a8476ca1-d095-44b4-bccd-319f76fa3b71",
   "metadata": {},
   "outputs": [
    {
     "data": {
      "text/plain": [
       "(835.5146373048527, 1164.4853626951472)"
      ]
     },
     "execution_count": 33,
     "metadata": {},
     "output_type": "execute_result"
    }
   ],
   "source": [
    "rvN.interval(0.90)"
   ]
  },
  {
   "cell_type": "markdown",
   "id": "20e06afa-9ddd-432c-ae4d-3d74c623859b",
   "metadata": {},
   "source": [
    "Note the method `rvN.interval(0.90)` is just a shortcut for computing `(rvN.ppf(0.05),rvN.ppf(0.95))`."
   ]
  },
  {
   "cell_type": "code",
   "execution_count": null,
   "id": "2c83257e-b5f0-415b-b2a5-02cbe0cca1f8",
   "metadata": {},
   "outputs": [],
   "source": []
  },
  {
   "cell_type": "markdown",
   "id": "bb6a3542-c6ec-4171-8cd3-9d7ae8adbfd4",
   "metadata": {},
   "source": [
    "### Generating random observations\n",
    "\n",
    "Let's say you want to generate $n=10$ observations from the random variable $N$.\n",
    "You can do this by calling the method `rvN.rvs(n)`."
   ]
  },
  {
   "cell_type": "code",
   "execution_count": 34,
   "id": "6846c94b-f486-4a4c-9651-737a3dae67f2",
   "metadata": {},
   "outputs": [
    {
     "data": {
      "text/plain": [
       "array([1178.86284734, 1043.65098505, 1009.64974681,  813.65072966,\n",
       "        972.26117975,  964.52410207,  991.72585185,  937.29993232,\n",
       "        995.6181831 ,  952.27819696])"
      ]
     },
     "execution_count": 34,
     "metadata": {},
     "output_type": "execute_result"
    }
   ],
   "source": [
    "ns = rvN.rvs(10)\n",
    "ns"
   ]
  },
  {
   "cell_type": "code",
   "execution_count": 35,
   "id": "8ecad29b-e495-4581-ae1f-003fe6a437ea",
   "metadata": {},
   "outputs": [
    {
     "data": {
      "text/plain": [
       "985.9521754922469"
      ]
     },
     "execution_count": 35,
     "metadata": {},
     "output_type": "execute_result"
    }
   ],
   "source": [
    "ns_mean = sum(ns) / len(ns)\n",
    "ns_mean"
   ]
  },
  {
   "cell_type": "code",
   "execution_count": null,
   "id": "c267cb3a-9b54-461b-9c7d-01bde8cd978e",
   "metadata": {},
   "outputs": [],
   "source": []
  },
  {
   "cell_type": "markdown",
   "id": "d88419d9-d74b-4adc-b72f-decda0953749",
   "metadata": {},
   "source": [
    "### Computing expectations\n",
    "\n",
    "Suppose the distributor accepts only bottles contain between 800 ml and 1200 ml,\n",
    "and you'll receive a receive payment of $\\$2$ for each bottle.\n",
    "Bottles outside that range get rejected and you don't get paid for them."
   ]
  },
  {
   "cell_type": "code",
   "execution_count": 36,
   "id": "c58cd607-b983-4fb2-a612-8f81b9240a7c",
   "metadata": {},
   "outputs": [],
   "source": [
    "def payment(n):\n",
    "    if 800 <= n and n <= 1200:\n",
    "        return 2\n",
    "    else:\n",
    "        return 0"
   ]
  },
  {
   "cell_type": "code",
   "execution_count": 37,
   "id": "b58ba04c-be72-42cd-b7ad-d862d98e7d76",
   "metadata": {},
   "outputs": [
    {
     "data": {
      "text/plain": [
       "2"
      ]
     },
     "execution_count": 37,
     "metadata": {},
     "output_type": "execute_result"
    }
   ],
   "source": [
    "# get paid if in spec\n",
    "payment(1050)"
   ]
  },
  {
   "cell_type": "code",
   "execution_count": 38,
   "id": "c41d9fb7-ee27-4af4-a70f-b6ff3dcef7c1",
   "metadata": {},
   "outputs": [
    {
     "data": {
      "text/plain": [
       "0"
      ]
     },
     "execution_count": 38,
     "metadata": {},
     "output_type": "execute_result"
    }
   ],
   "source": [
    "# don't get paid if out of spec\n",
    "payment(1250)"
   ]
  },
  {
   "cell_type": "code",
   "execution_count": 39,
   "id": "1724e8b2-3510-4ad2-9131-8038cf2decf2",
   "metadata": {},
   "outputs": [
    {
     "data": {
      "text/plain": [
       "1.9089994722069916"
      ]
     },
     "execution_count": 39,
     "metadata": {},
     "output_type": "execute_result"
    }
   ],
   "source": [
    "# expected value of payment\n",
    "rvN.expect(payment, lb=0, ub=2000)"
   ]
  },
  {
   "cell_type": "markdown",
   "id": "ad31a2f0-4bb0-425b-8a58-1875734c01c2",
   "metadata": {},
   "source": [
    "Visually speaking, only parts of the probability mass of the random variable \"count\" towards the payment, the subset of the values inside the yellow region shown below."
   ]
  },
  {
   "cell_type": "code",
   "execution_count": 40,
   "id": "d59a55dc-de1e-441c-93f8-8b19c74ebb14",
   "metadata": {},
   "outputs": [
    {
     "data": {
      "text/plain": [
       "<AxesSubplot:>"
      ]
     },
     "execution_count": 40,
     "metadata": {},
     "output_type": "execute_result"
    },
    {
     "data": {
      "image/png": "[encoded data removed]",
      "text/plain": [
       "<Figure size 504x288 with 1 Axes>"
      ]
     },
     "metadata": {},
     "output_type": "display_data"
    }
   ],
   "source": [
    "xs = np.linspace(0, 2000, 1000)\n",
    "ys = [payment(x)/500 for x in xs]\n",
    "\n",
    "sns.lineplot(x=xs, y=rvN.pdf(xs))\n",
    "sns.lineplot(x=xs, y=ys, label=\"payment(x)\")"
   ]
  },
  {
   "cell_type": "code",
   "execution_count": null,
   "id": "346ba351-9a31-4eeb-8545-61396fe86925",
   "metadata": {},
   "outputs": [],
   "source": []
  },
  {
   "cell_type": "markdown",
   "id": "f5a2be2a-2f13-4b55-bc2f-00659018635b",
   "metadata": {},
   "source": [
    "## Multiple random variables\n",
    "\n",
    "See [25d_continuous_multiple_random_vars.ipynb](./25d_continuous_multiple_random_vars.ipynb)."
   ]
  },
  {
   "cell_type": "markdown",
   "id": "2a013ec1-0cdf-4049-9e19-c382a5ac59a5",
   "metadata": {},
   "source": [
    "## Discussion"
   ]
  },
  {
   "cell_type": "code",
   "execution_count": null,
   "id": "b6b19152-8dce-4355-9a85-11551cb698cb",
   "metadata": {},
   "outputs": [],
   "source": []
  },
  {
   "cell_type": "markdown",
   "id": "8eee63d2-1b86-43dc-9de5-060d2af5f21b",
   "metadata": {},
   "source": [
    "### Bulk of the normal distribution\n",
    "\n",
    "How much of the total probability \"weight\" lies within $k$ standard deviations of the mean?\n",
    "\n",
    "$$\n",
    "\\textrm{Pr}(\\mu_N - k\\sigma_N \\leq N \\leq \\mu_N + k\\sigma_N) \\ = \\ p_k.\n",
    "$$"
   ]
  },
  {
   "cell_type": "code",
   "execution_count": 41,
   "id": "082263f7-9235-47d1-a657-c9c85ea4c54c",
   "metadata": {},
   "outputs": [],
   "source": [
    "from scipy.integrate import quad\n",
    "from scipy.stats import norm\n",
    "rvN = norm(1000, 100)"
   ]
  },
  {
   "cell_type": "code",
   "execution_count": 42,
   "id": "4582bb0a-bf31-4634-83fb-35dfd3bc5d04",
   "metadata": {},
   "outputs": [
    {
     "name": "stdout",
     "output_type": "stream",
     "text": [
      "p_1 = Pr( N in [900.0, 1100.0] ) = 0.683\n",
      "p_2 = Pr( N in [800.0, 1200.0] ) = 0.954\n",
      "p_3 = Pr( N in [700.0, 1300.0] ) = 0.997\n"
     ]
    }
   ],
   "source": [
    "mu = rvN.mean()    # mean of the random variable\n",
    "sigma = rvN.std()  # standard deviaiton of the random variable\n",
    "\n",
    "for k in [1, 2, 3]:\n",
    "    I_k = [mu - k*sigma, mu + k*sigma]\n",
    "    p_k = quad(rvN.pdf, *I_k)[0]\n",
    "    print(f\"p_{k} = Pr( N in {I_k} ) = {p_k:.3f}\")"
   ]
  },
  {
   "cell_type": "markdown",
   "id": "62ea4abe-8778-4039-a2f7-3c89c7356fc1",
   "metadata": {},
   "source": [
    "The code below highlights the interval $I_k$ and computes the probability $p_k$.\n",
    "Change the value of $k$ to get different plots."
   ]
  },
  {
   "cell_type": "code",
   "execution_count": 43,
   "id": "02884fee-f9a2-4cfe-9d95-d21c78d91d78",
   "metadata": {},
   "outputs": [
    {
     "name": "stdout",
     "output_type": "stream",
     "text": [
      "You already have plot_helpers.py, so we can proceed.\n"
     ]
    }
   ],
   "source": [
    "# Download the `plot_helpers.py` module from the book's main github repo:\n",
    "import os, requests\n",
    "if not os.path.exists(\"plot_helpers.py\"):\n",
    "    resp = requests.get(\"https://raw.githubusercontent.com/minireference/noBSstatsnotebooks/main/notebooks/plot_helpers.py\")\n",
    "    with open(\"plot_helpers.py\", \"w\") as f:\n",
    "        f.write(resp.text)\n",
    "    print(\"Downloaded `plot_helpers.py` module to current directory:\", os.getcwd())\n",
    "else:\n",
    "    print(\"You already have plot_helpers.py, so we can proceed.\")\n"
   ]
  },
  {
   "cell_type": "code",
   "execution_count": 44,
   "id": "8630ddf5-bb8f-480e-9bc9-9d20fbd433e9",
   "metadata": {},
   "outputs": [
    {
     "data": {
      "text/plain": [
       "0.9544997361036417"
      ]
     },
     "execution_count": 44,
     "metadata": {},
     "output_type": "execute_result"
    },
    {
     "data": {
      "image/png": "[encoded data removed]",
      "text/plain": [
       "<Figure size 504x288 with 1 Axes>"
      ]
     },
     "metadata": {},
     "output_type": "display_data"
    }
   ],
   "source": [
    "from plot_helpers import calc_prob_and_plot\n",
    "\n",
    "k = 2              # number of standard deviations around the mean\n",
    "\n",
    "# values of x in the interval 𝜇 ± k𝜎 = [𝜇-k𝜎, 𝜇+k𝜎]\n",
    "I_k = [mu-k*sigma, mu+k*sigma]\n",
    "p_k, _ = calc_prob_and_plot(rvN, *I_k)\n",
    "p_k"
   ]
  },
  {
   "cell_type": "markdown",
   "id": "9e6636f4-e845-4923-a814-65676907460e",
   "metadata": {},
   "source": [
    "Try changing the value of the variable `k` to 1 or 3 in the above code cell."
   ]
  },
  {
   "cell_type": "code",
   "execution_count": null,
   "id": "89dfaf4c-7869-4bc3-bd90-8e07197367b5",
   "metadata": {},
   "outputs": [],
   "source": []
  },
  {
   "cell_type": "markdown",
   "id": "d9f90c41-32a4-4e51-988e-139b9c2af66b",
   "metadata": {},
   "source": [
    "### Tails of the normal distribution\n",
    "\n",
    "We're often interested in tail ends of the distribution, which contain the unlikely events."
   ]
  },
  {
   "cell_type": "code",
   "execution_count": 45,
   "id": "5488f830-f961-43a1-84d9-c95d5cbf754d",
   "metadata": {},
   "outputs": [
    {
     "name": "stdout",
     "output_type": "stream",
     "text": [
      "Pr( N<900.0 or N>1100.0 ) = 0.3173\n",
      "Pr( N<800.0 or N>1200.0 ) = 0.0455\n",
      "Pr( N<700.0 or N>1300.0 ) = 0.0027\n"
     ]
    }
   ],
   "source": [
    "mu = rvN.mean()    # mean of the random variable\n",
    "sigma = rvN.std()  # standard deviaiton of the random variable\n",
    "\n",
    "for k in [1, 2, 3]:\n",
    "    # compute the probability in the left tail (-∞,𝜇-k𝜎]\n",
    "    x_l = mu - k*sigma\n",
    "    p_l = quad(rvN.pdf, rvN.ppf(0.0000000001), x_l)[0]\n",
    "    # compute the probability in the right tail [𝜇+k𝜎,∞)\n",
    "    x_r = mu + k*sigma\n",
    "    p_r = quad(rvN.pdf, x_r, rvN.ppf(0.9999999999))[0]\n",
    "    # add together to get total probability in the tails\n",
    "    p_tails = p_l + p_r\n",
    "    print(f\"Pr( N<{x_l} or N>{x_r} ) = {p_tails:.4f}\")"
   ]
  },
  {
   "cell_type": "code",
   "execution_count": null,
   "id": "23e96f1c-4ee9-41b2-9816-1e7833ecbda6",
   "metadata": {},
   "outputs": [],
   "source": []
  },
  {
   "cell_type": "markdown",
   "id": "df7e46f1-ca97-4184-9717-6a43687d9f5f",
   "metadata": {},
   "source": [
    "The code below highlights the tails of the distribution and computes the sum of their probability."
   ]
  },
  {
   "cell_type": "code",
   "execution_count": 46,
   "id": "5dfe05b1-cf93-454d-8c8e-0c1dac816677",
   "metadata": {},
   "outputs": [
    {
     "name": "stdout",
     "output_type": "stream",
     "text": [
      "Pr( {N<800.0} ∪ {N>1200.0} ) = 0.0455\n"
     ]
    },
    {
     "data": {
      "image/png": "[encoded data removed]",
      "text/plain": [
       "<Figure size 504x288 with 1 Axes>"
      ]
     },
     "metadata": {},
     "output_type": "display_data"
    }
   ],
   "source": [
    "from plot_helpers import calc_prob_and_plot_tails\n",
    "\n",
    "mu = rvN.mean()    # mean of the random variable\n",
    "sigma = rvN.std()  # standard deviaiton of the random variable\n",
    "\n",
    "\n",
    "k = 2              # number of standard deviations around the mean\n",
    "\n",
    "# the distribution's left tail (-∞,𝜇-k𝜎]\n",
    "x_l = mu - k*sigma\n",
    "# the distribution's right tail [𝜇+k𝜎,∞)\n",
    "x_r = mu + k*sigma\n",
    "p_tails, _ = calc_prob_and_plot_tails(rvN, x_l, x_r, xlims=[600, 1400])\n",
    "\n",
    "print(f\"Pr( {{N<{x_l}}} ∪ {{N>{x_r}}} ) = {p_tails:.4f}\")"
   ]
  },
  {
   "cell_type": "markdown",
   "id": "95366c69-fcdd-4f3b-982f-90bb45640ae2",
   "metadata": {},
   "source": [
    "Try changing the value of the variable `k` in the above code cell."
   ]
  },
  {
   "cell_type": "markdown",
   "id": "ef0d2bd8-62a5-4d93-a56f-783096bda7fb",
   "metadata": {},
   "source": [
    "The above calculations leads us to an important rule of thumb: the values of the 5% tail of the distribution are $k=2$ standard deviations away from the mean (more precisely, we should use $k=1.96$ to get exactly 5%). We'll use this facts later in STATS to define a *cutoff value* for events that are unlikely to occur by chance."
   ]
  },
  {
   "cell_type": "code",
   "execution_count": null,
   "id": "6dc6a19e-0691-4032-9f1a-17b4b3ea58d8",
   "metadata": {},
   "outputs": [],
   "source": []
  },
  {
   "cell_type": "code",
   "execution_count": null,
   "id": "8385af02-bd26-49b2-8989-060045ae01ed",
   "metadata": {},
   "outputs": [],
   "source": []
  }
 ],
 "metadata": {
  "kernelspec": {
   "display_name": "Python 3 (ipykernel)",
   "language": "python",
   "name": "python3"
  },
  "language_info": {
   "codemirror_mode": {
    "name": "ipython",
    "version": 3
   },
   "file_extension": ".py",
   "mimetype": "text/x-python",
   "name": "python",
   "nbconvert_exporter": "python",
   "pygments_lexer": "ipython3",
   "version": "3.9.4"
  }
 },
 "nbformat": 4,
 "nbformat_minor": 5
}
