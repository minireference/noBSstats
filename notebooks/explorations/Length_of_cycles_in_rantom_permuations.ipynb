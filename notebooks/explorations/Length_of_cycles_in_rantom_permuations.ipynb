{
 "cells": [
  {
   "cell_type": "markdown",
   "id": "c7231594-7a83-4ed4-841f-03f704886980",
   "metadata": {},
   "source": [
    "# Longest cycle length in random permutations"
   ]
  },
  {
   "cell_type": "code",
   "execution_count": 1,
   "id": "5ed6c0a2-2847-4c5c-b23a-dc3d358d9f8c",
   "metadata": {},
   "outputs": [
    {
     "name": "stdout",
     "output_type": "stream",
     "text": [
      "Requirement already satisfied: permutation in /Users/ivan/Projects/Minireference/STATSbook/noBSstatsnotebooks/venv/lib/python3.9/site-packages (0.4.0)\n",
      "Requirement already satisfied: numpy in /Users/ivan/Projects/Minireference/STATSbook/noBSstatsnotebooks/venv/lib/python3.9/site-packages (1.24.2)\n",
      "\n",
      "\u001b[1m[\u001b[0m\u001b[34;49mnotice\u001b[0m\u001b[1;39;49m]\u001b[0m\u001b[39;49m A new release of pip is available: \u001b[0m\u001b[31;49m23.0\u001b[0m\u001b[39;49m -> \u001b[0m\u001b[32;49m23.2.1\u001b[0m\n",
      "\u001b[1m[\u001b[0m\u001b[34;49mnotice\u001b[0m\u001b[1;39;49m]\u001b[0m\u001b[39;49m To update, run: \u001b[0m\u001b[32;49mpip3.9 install --upgrade pip\u001b[0m\n",
      "Note: you may need to restart the kernel to use updated packages.\n"
     ]
    }
   ],
   "source": [
    "%pip install permutation numpy"
   ]
  },
  {
   "cell_type": "code",
   "execution_count": 2,
   "id": "b1a08be5-6e52-472c-a0bc-c6a177855cb7",
   "metadata": {},
   "outputs": [],
   "source": [
    "# nice lib for representing permutations\n",
    "from permutation import Permutation \n",
    "\n",
    "# for generating all possible permutations of n elements\n",
    "from itertools import permutations\n",
    "\n",
    "# in case you need numpy.random.permutation for simulations for larger n\n",
    "# cf. https://docs.scipy.org/doc/numpy-1.15.1/reference/generated/numpy.random.permutation.html\n",
    "import numpy as np"
   ]
  },
  {
   "cell_type": "code",
   "execution_count": null,
   "id": "f0833c23-089e-4522-988d-ea13cd182a5f",
   "metadata": {},
   "outputs": [],
   "source": []
  },
  {
   "cell_type": "markdown",
   "id": "a0b0b805-f5c2-46a2-9bc2-522683bf9024",
   "metadata": {},
   "source": [
    "## Context\n",
    "\n",
    "The cycle notation for permutations is what you would get if you were working\n",
    "on **a compute environment with only a single extra memory register**.\n",
    "This is equivalent to perform a random shuffling of $n$ boxes with one hand.\n",
    "This is conceptually similar to an sorting algorithm performed in-place (not allowed to create any additional data structures)."
   ]
  },
  {
   "cell_type": "code",
   "execution_count": null,
   "id": "97ee1597-d8fc-4fb6-a16f-fbefcf4f7723",
   "metadata": {},
   "outputs": [],
   "source": []
  },
  {
   "cell_type": "markdown",
   "id": "5af869d3-d0da-44e2-9b28-bd47b7aaf7e7",
   "metadata": {},
   "source": [
    "## Case $n=4$"
   ]
  },
  {
   "cell_type": "code",
   "execution_count": 3,
   "id": "1666bfaf-ca93-4f0d-a247-e503f5084b1b",
   "metadata": {},
   "outputs": [
    {
     "data": {
      "text/plain": [
       "'1'"
      ]
     },
     "execution_count": 3,
     "metadata": {},
     "output_type": "execute_result"
    }
   ],
   "source": [
    "# the identity permutation\n",
    "p = Permutation(1,2,3,4)\n",
    "str(p)"
   ]
  },
  {
   "cell_type": "markdown",
   "id": "0312157c-92c7-4c1b-a02e-56caf37bf7b6",
   "metadata": {},
   "source": [
    "^ special symbol to describe a permutation with no cycles (don't do any shuffling at all).\n"
   ]
  },
  {
   "cell_type": "code",
   "execution_count": 4,
   "id": "adb92b6c-e2ff-49db-8c89-f34302a5c8ad",
   "metadata": {},
   "outputs": [
    {
     "data": {
      "text/plain": [
       "[]"
      ]
     },
     "execution_count": 4,
     "metadata": {},
     "output_type": "execute_result"
    }
   ],
   "source": [
    "p.to_cycles()"
   ]
  },
  {
   "cell_type": "code",
   "execution_count": null,
   "id": "e972195d-81ee-454e-aa2a-5588cd0d27fd",
   "metadata": {},
   "outputs": [],
   "source": []
  },
  {
   "cell_type": "code",
   "execution_count": 5,
   "id": "fc0f7b63-1658-4455-bd4f-034da3eca88a",
   "metadata": {},
   "outputs": [
    {
     "data": {
      "text/plain": [
       "'(1 2 3 4)'"
      ]
     },
     "execution_count": 5,
     "metadata": {},
     "output_type": "execute_result"
    }
   ],
   "source": [
    "p2 = Permutation(2,3,4,1)\n",
    "str(p2)"
   ]
  },
  {
   "cell_type": "markdown",
   "id": "f648b732-85c3-4cd8-8841-d83e3c6d43d4",
   "metadata": {},
   "source": [
    "Cycle notation that describes the instructions:\n",
    "- Take 1 and put it in the place of 2, while picking up 2\n",
    "- put 2 in the place of 3, and pick up 3\n",
    "- put 3 down in the place of 4, and pick it up 4\n",
    "- put 4 down in the original place that was left vacant when you picked up 1 \n"
   ]
  },
  {
   "cell_type": "code",
   "execution_count": 6,
   "id": "b079a125-fbd8-422e-97fd-90d8ada90536",
   "metadata": {},
   "outputs": [
    {
     "data": {
      "text/plain": [
       "[(1, 2, 3, 4)]"
      ]
     },
     "execution_count": 6,
     "metadata": {},
     "output_type": "execute_result"
    }
   ],
   "source": [
    "p2.to_cycles()"
   ]
  },
  {
   "cell_type": "markdown",
   "id": "561934aa-2a0e-40ac-a69b-48ee5a1ed1c8",
   "metadata": {},
   "source": [
    "The permutation `p2` has one cycle of length four."
   ]
  },
  {
   "cell_type": "code",
   "execution_count": 7,
   "id": "82e42402-aaea-4be8-bff8-3caae4df3965",
   "metadata": {},
   "outputs": [
    {
     "name": "stdout",
     "output_type": "stream",
     "text": [
      "4\n"
     ]
    }
   ],
   "source": [
    "for c in p2.to_cycles():\n",
    "    print(len(c))"
   ]
  },
  {
   "cell_type": "code",
   "execution_count": null,
   "id": "e783fbf4-bb0b-43d7-858a-39ebcdc5dd94",
   "metadata": {},
   "outputs": [],
   "source": []
  },
  {
   "cell_type": "code",
   "execution_count": 8,
   "id": "e8da23b5-1ab3-41bc-b182-9caad306cda8",
   "metadata": {},
   "outputs": [
    {
     "data": {
      "text/plain": [
       "'(1 2)(3 4)'"
      ]
     },
     "execution_count": 8,
     "metadata": {},
     "output_type": "execute_result"
    }
   ],
   "source": [
    "p3 = Permutation(2,1,4,3)\n",
    "str(p3)"
   ]
  },
  {
   "cell_type": "markdown",
   "id": "2ece3f56-431c-4738-b157-1631142b6b4d",
   "metadata": {},
   "source": [
    "Cycle notation that describes the instructions:\n",
    "- Take 1 and put it in the place of 2\n",
    "- put 2 in the place that was left vacant when you picked up 1\n",
    "\n",
    "then \n",
    "\n",
    "- Take 3 and put it in the place of 4\n",
    "- put 4 in the place that was left vacant when you picked up 3\n"
   ]
  },
  {
   "cell_type": "code",
   "execution_count": null,
   "id": "72a505d5-e355-4437-a652-ee6f75a3c42e",
   "metadata": {},
   "outputs": [],
   "source": []
  },
  {
   "cell_type": "markdown",
   "id": "894e932a-43d8-4b76-bb6b-a8da51d9fa38",
   "metadata": {},
   "source": [
    "### All possible permutations of 4 items"
   ]
  },
  {
   "cell_type": "code",
   "execution_count": 9,
   "id": "96196f78-2023-4c5a-b342-f4600bf3b81b",
   "metadata": {},
   "outputs": [
    {
     "data": {
      "text/plain": [
       "[(1, 2, 3, 4),\n",
       " (1, 2, 4, 3),\n",
       " (1, 3, 2, 4),\n",
       " (1, 3, 4, 2),\n",
       " (1, 4, 2, 3),\n",
       " (1, 4, 3, 2),\n",
       " (2, 1, 3, 4),\n",
       " (2, 1, 4, 3),\n",
       " (2, 3, 1, 4),\n",
       " (2, 3, 4, 1),\n",
       " (2, 4, 1, 3),\n",
       " (2, 4, 3, 1),\n",
       " (3, 1, 2, 4),\n",
       " (3, 1, 4, 2),\n",
       " (3, 2, 1, 4),\n",
       " (3, 2, 4, 1),\n",
       " (3, 4, 1, 2),\n",
       " (3, 4, 2, 1),\n",
       " (4, 1, 2, 3),\n",
       " (4, 1, 3, 2),\n",
       " (4, 2, 1, 3),\n",
       " (4, 2, 3, 1),\n",
       " (4, 3, 1, 2),\n",
       " (4, 3, 2, 1)]"
      ]
     },
     "execution_count": 9,
     "metadata": {},
     "output_type": "execute_result"
    }
   ],
   "source": [
    "randomps = permutations([1,2,3,4])\n",
    "list(randomps)"
   ]
  },
  {
   "cell_type": "code",
   "execution_count": 10,
   "id": "5712e63b-13fb-45d6-8db9-0c0ac3ab8670",
   "metadata": {},
   "outputs": [
    {
     "name": "stdout",
     "output_type": "stream",
     "text": [
      "1\n",
      "(3 4)\n",
      "(2 3)\n",
      "(2 3 4)\n",
      "(2 4 3)\n",
      "(2 4)\n",
      "(1 2)\n",
      "(1 2)(3 4)\n",
      "(1 2 3)\n",
      "(1 2 3 4)\n",
      "(1 2 4 3)\n",
      "(1 2 4)\n",
      "(1 3 2)\n",
      "(1 3 4 2)\n",
      "(1 3)\n",
      "(1 3 4)\n",
      "(1 3)(2 4)\n",
      "(1 3 2 4)\n",
      "(1 4 3 2)\n",
      "(1 4 2)\n",
      "(1 4 3)\n",
      "(1 4)\n",
      "(1 4 2 3)\n",
      "(1 4)(2 3)\n"
     ]
    }
   ],
   "source": [
    "randomps = permutations([1,2,3,4])\n",
    "for randomp in randomps:\n",
    "    rp = Permutation(*randomp)\n",
    "    print(rp)"
   ]
  },
  {
   "cell_type": "code",
   "execution_count": null,
   "id": "61c4e5f9-f79d-433c-9457-69395adabc76",
   "metadata": {},
   "outputs": [],
   "source": []
  },
  {
   "cell_type": "code",
   "execution_count": null,
   "id": "4d769d9d-8ef2-4ae5-a69b-105f49ca93a5",
   "metadata": {},
   "outputs": [],
   "source": []
  },
  {
   "cell_type": "markdown",
   "id": "ca82d461-0044-4b38-b82b-c2e4830f396a",
   "metadata": {},
   "source": [
    "### Length of cycles"
   ]
  },
  {
   "cell_type": "code",
   "execution_count": 11,
   "id": "9be3257c-7877-49fe-baf6-0ace81554f3c",
   "metadata": {
    "scrolled": true
   },
   "outputs": [
    {
     "name": "stdout",
     "output_type": "stream",
     "text": [
      "1 cycle lenghts []\n",
      "(3 4) cycle lenghts [2]\n",
      "(2 3) cycle lenghts [2]\n",
      "(2 3 4) cycle lenghts [3]\n",
      "(2 4 3) cycle lenghts [3]\n",
      "(2 4) cycle lenghts [2]\n",
      "(1 2) cycle lenghts [2]\n",
      "(1 2)(3 4) cycle lenghts [2, 2]\n",
      "(1 2 3) cycle lenghts [3]\n",
      "(1 2 3 4) cycle lenghts [4]\n",
      "(1 2 4 3) cycle lenghts [4]\n",
      "(1 2 4) cycle lenghts [3]\n",
      "(1 3 2) cycle lenghts [3]\n",
      "(1 3 4 2) cycle lenghts [4]\n",
      "(1 3) cycle lenghts [2]\n",
      "(1 3 4) cycle lenghts [3]\n",
      "(1 3)(2 4) cycle lenghts [2, 2]\n",
      "(1 3 2 4) cycle lenghts [4]\n",
      "(1 4 3 2) cycle lenghts [4]\n",
      "(1 4 2) cycle lenghts [3]\n",
      "(1 4 3) cycle lenghts [3]\n",
      "(1 4) cycle lenghts [2]\n",
      "(1 4 2 3) cycle lenghts [4]\n",
      "(1 4)(2 3) cycle lenghts [2, 2]\n"
     ]
    }
   ],
   "source": [
    "def cycle_lengths(p):\n",
    "    clengths = []\n",
    "    for c in p.to_cycles():\n",
    "        clength = len(c)\n",
    "        clengths.append(clength)\n",
    "    return clengths\n",
    "\n",
    "randomps = permutations([1,2,3,4])\n",
    "for randomp in randomps:\n",
    "    rp = Permutation(*randomp)\n",
    "    rp_clengths = cycle_lengths(rp)\n",
    "    print(rp, \"cycle lenghts\", rp_clengths)"
   ]
  },
  {
   "cell_type": "code",
   "execution_count": null,
   "id": "0814a766-d63c-4fb7-b208-54c0afc6f0aa",
   "metadata": {},
   "outputs": [],
   "source": []
  },
  {
   "cell_type": "code",
   "execution_count": null,
   "id": "62cc35b6-0163-4723-bcf0-382b28ae2199",
   "metadata": {},
   "outputs": [],
   "source": []
  },
  {
   "cell_type": "code",
   "execution_count": null,
   "id": "b28910c8-65c2-4946-b9fc-6301b4dcf15f",
   "metadata": {},
   "outputs": [],
   "source": []
  },
  {
   "cell_type": "code",
   "execution_count": null,
   "id": "d85c6dd9-020a-43af-9666-84fc43268660",
   "metadata": {},
   "outputs": [],
   "source": []
  },
  {
   "cell_type": "code",
   "execution_count": null,
   "id": "0843c6bc-44e4-49f1-9e63-622732a12721",
   "metadata": {},
   "outputs": [],
   "source": []
  },
  {
   "cell_type": "code",
   "execution_count": null,
   "id": "12aa65d9-4207-401d-80fc-6ecb469957dc",
   "metadata": {},
   "outputs": [],
   "source": []
  },
  {
   "cell_type": "code",
   "execution_count": null,
   "id": "d1705bb6-7d91-4325-a4b5-2650de79ba71",
   "metadata": {},
   "outputs": [],
   "source": []
  },
  {
   "cell_type": "code",
   "execution_count": null,
   "id": "000a155a-cfae-41ab-b8c6-79a606431d59",
   "metadata": {},
   "outputs": [],
   "source": []
  },
  {
   "cell_type": "code",
   "execution_count": null,
   "id": "5a0c1a61-9153-4848-93b1-346f5dca9db2",
   "metadata": {},
   "outputs": [],
   "source": []
  },
  {
   "cell_type": "code",
   "execution_count": null,
   "id": "2c5adf9e-6b99-4b7f-a813-72c2492a96a5",
   "metadata": {},
   "outputs": [],
   "source": []
  },
  {
   "cell_type": "code",
   "execution_count": null,
   "id": "9ed07690-dfae-420c-871c-0a64d2bc1e5c",
   "metadata": {},
   "outputs": [],
   "source": []
  },
  {
   "cell_type": "code",
   "execution_count": null,
   "id": "2df6612b-2405-451f-affd-70fe42879cf4",
   "metadata": {},
   "outputs": [],
   "source": []
  },
  {
   "cell_type": "code",
   "execution_count": null,
   "id": "c6853a7b-cf22-4640-81cb-dc59060bc902",
   "metadata": {},
   "outputs": [],
   "source": []
  },
  {
   "cell_type": "code",
   "execution_count": null,
   "id": "6b76d777-fd9c-4715-b090-8247a0781933",
   "metadata": {},
   "outputs": [],
   "source": []
  },
  {
   "cell_type": "code",
   "execution_count": null,
   "id": "fbdea859-2b40-426a-825b-29322cf64ba1",
   "metadata": {},
   "outputs": [],
   "source": []
  },
  {
   "cell_type": "code",
   "execution_count": null,
   "id": "10da27f0-0913-4890-bd3d-bff3c00ed6c9",
   "metadata": {},
   "outputs": [],
   "source": []
  },
  {
   "cell_type": "code",
   "execution_count": null,
   "id": "d63d981b-5df0-45f8-b61c-43c2b7a26e87",
   "metadata": {},
   "outputs": [],
   "source": []
  },
  {
   "cell_type": "code",
   "execution_count": null,
   "id": "153fce40-73d4-4cd8-b7b8-ac664d500be2",
   "metadata": {},
   "outputs": [],
   "source": []
  },
  {
   "cell_type": "code",
   "execution_count": null,
   "id": "2eabf7e2-2085-4130-bb40-f96753a21ba3",
   "metadata": {},
   "outputs": [],
   "source": []
  },
  {
   "cell_type": "code",
   "execution_count": null,
   "id": "ec88050d-86ed-45aa-bcd6-5bcd2c7caf3f",
   "metadata": {},
   "outputs": [],
   "source": []
  },
  {
   "cell_type": "code",
   "execution_count": null,
   "id": "0be1345e-73a8-446a-9826-fb8ad147943d",
   "metadata": {},
   "outputs": [],
   "source": []
  },
  {
   "cell_type": "code",
   "execution_count": null,
   "id": "a02a757c-dd15-4347-b499-7df48a6930df",
   "metadata": {},
   "outputs": [],
   "source": []
  },
  {
   "cell_type": "code",
   "execution_count": null,
   "id": "edd98481-0f89-49bc-bb88-841d53159abb",
   "metadata": {},
   "outputs": [],
   "source": []
  },
  {
   "cell_type": "code",
   "execution_count": null,
   "id": "2fac454d-5680-4923-9577-9fef3009aa84",
   "metadata": {},
   "outputs": [],
   "source": []
  },
  {
   "cell_type": "code",
   "execution_count": null,
   "id": "e8e42ae5-f13a-42e9-af83-616d68b25887",
   "metadata": {},
   "outputs": [],
   "source": []
  },
  {
   "cell_type": "code",
   "execution_count": null,
   "id": "42d1c926-df18-4868-96a5-9bac290bc926",
   "metadata": {},
   "outputs": [],
   "source": []
  },
  {
   "cell_type": "code",
   "execution_count": null,
   "id": "6e19df13-08de-40a1-bbed-652cb8cd2ece",
   "metadata": {},
   "outputs": [],
   "source": []
  },
  {
   "cell_type": "code",
   "execution_count": null,
   "id": "450d1685-c65c-4e8a-8e83-1ba02d0e8546",
   "metadata": {},
   "outputs": [],
   "source": []
  },
  {
   "cell_type": "code",
   "execution_count": null,
   "id": "bff1b0f3-6555-4304-8936-0515b0f7d6eb",
   "metadata": {},
   "outputs": [],
   "source": []
  },
  {
   "cell_type": "code",
   "execution_count": null,
   "id": "fd0cec69-0953-41b9-bb7a-a991fe6f9948",
   "metadata": {},
   "outputs": [],
   "source": []
  },
  {
   "cell_type": "markdown",
   "id": "11592d8c-7ec4-4e0b-9057-ca4af92bc756",
   "metadata": {},
   "source": [
    "Hint 1: think about how well the  strategy \"if I see name `j` when I open a box, then I will next open `j`s box\" strategy\n",
    "for various permutations that the warden might choose when shuffling the boxes.\n"
   ]
  },
  {
   "cell_type": "code",
   "execution_count": null,
   "id": "e679fc97-229b-48d6-af87-7cf81d102bef",
   "metadata": {},
   "outputs": [],
   "source": []
  },
  {
   "cell_type": "code",
   "execution_count": null,
   "id": "b4891d1f-711e-49c4-9db9-345b71a95574",
   "metadata": {},
   "outputs": [],
   "source": []
  },
  {
   "cell_type": "code",
   "execution_count": null,
   "id": "c2af3920-4528-4f17-a677-e24ae4a07d33",
   "metadata": {},
   "outputs": [],
   "source": []
  },
  {
   "cell_type": "code",
   "execution_count": null,
   "id": "74216446-57fd-425b-80cc-3b9d7de88784",
   "metadata": {},
   "outputs": [],
   "source": []
  },
  {
   "cell_type": "code",
   "execution_count": null,
   "id": "837ee461-dcc9-456a-bc96-a8ab64d1ac96",
   "metadata": {},
   "outputs": [],
   "source": []
  },
  {
   "cell_type": "code",
   "execution_count": null,
   "id": "0550a75b-76dc-4a69-a33e-25ff408e2607",
   "metadata": {},
   "outputs": [],
   "source": []
  },
  {
   "cell_type": "code",
   "execution_count": null,
   "id": "81cd6b4c-b84f-4958-b95d-9a93f7727522",
   "metadata": {},
   "outputs": [],
   "source": []
  },
  {
   "cell_type": "code",
   "execution_count": null,
   "id": "a03aae78-244e-4c6c-849a-070d6bc2e543",
   "metadata": {},
   "outputs": [],
   "source": []
  },
  {
   "cell_type": "code",
   "execution_count": null,
   "id": "a5506fac-2cc1-4493-940c-170b7c211ef1",
   "metadata": {},
   "outputs": [],
   "source": []
  },
  {
   "cell_type": "code",
   "execution_count": null,
   "id": "7f8ef818-8989-49ba-a3dc-95a33cba591e",
   "metadata": {},
   "outputs": [],
   "source": []
  },
  {
   "cell_type": "code",
   "execution_count": null,
   "id": "c707088a-24da-43e4-957d-6414e0ff7fae",
   "metadata": {},
   "outputs": [],
   "source": []
  },
  {
   "cell_type": "code",
   "execution_count": null,
   "id": "07b142ab-5f9c-4f14-9d27-4c0da0c54469",
   "metadata": {},
   "outputs": [],
   "source": []
  },
  {
   "cell_type": "code",
   "execution_count": null,
   "id": "df6ad552-6068-45ae-bab1-9d6574899b56",
   "metadata": {},
   "outputs": [],
   "source": []
  },
  {
   "cell_type": "code",
   "execution_count": null,
   "id": "f3bb7c5f-5805-4f07-9979-993c797830ce",
   "metadata": {},
   "outputs": [],
   "source": []
  },
  {
   "cell_type": "code",
   "execution_count": null,
   "id": "e58ce3d9-8987-4647-8a36-077f4bd79b34",
   "metadata": {},
   "outputs": [],
   "source": []
  },
  {
   "cell_type": "code",
   "execution_count": null,
   "id": "9f4c49f0-9265-4e7e-8a58-ee572f6027af",
   "metadata": {},
   "outputs": [],
   "source": []
  },
  {
   "cell_type": "code",
   "execution_count": null,
   "id": "ec12b9e3-3f8d-4241-a801-76664a48ac1b",
   "metadata": {},
   "outputs": [],
   "source": []
  },
  {
   "cell_type": "code",
   "execution_count": null,
   "id": "d9cb17f6-1162-4d8d-b28b-a32e5fdccf8c",
   "metadata": {},
   "outputs": [],
   "source": []
  },
  {
   "cell_type": "code",
   "execution_count": null,
   "id": "b0f2d6f3-6bb5-449d-8067-ea5917f56b00",
   "metadata": {},
   "outputs": [],
   "source": []
  },
  {
   "cell_type": "code",
   "execution_count": null,
   "id": "b319f860-189e-49fe-b706-81bc6b96d4e4",
   "metadata": {},
   "outputs": [],
   "source": []
  },
  {
   "cell_type": "code",
   "execution_count": null,
   "id": "8e424a60-b32a-4d63-bb0a-8bb01aa1c5ae",
   "metadata": {},
   "outputs": [],
   "source": []
  },
  {
   "cell_type": "code",
   "execution_count": null,
   "id": "a6df9995-f42c-4a18-a2d6-17f712601cc2",
   "metadata": {},
   "outputs": [],
   "source": []
  },
  {
   "cell_type": "code",
   "execution_count": null,
   "id": "2960ed93-ee86-4e32-8fc7-9e21496d29ef",
   "metadata": {},
   "outputs": [],
   "source": []
  },
  {
   "cell_type": "code",
   "execution_count": null,
   "id": "c42603a5-463f-4826-b1d0-22ee7c16065f",
   "metadata": {},
   "outputs": [],
   "source": []
  },
  {
   "cell_type": "code",
   "execution_count": null,
   "id": "8366835a-7ed2-4a34-a95c-17689cab00d0",
   "metadata": {},
   "outputs": [],
   "source": []
  },
  {
   "cell_type": "code",
   "execution_count": null,
   "id": "3e0a95d5-9868-4b6d-86a3-b95e77fad2c6",
   "metadata": {},
   "outputs": [],
   "source": []
  },
  {
   "cell_type": "code",
   "execution_count": null,
   "id": "f55dbd7e-8241-424e-afa6-49b6c3636a77",
   "metadata": {},
   "outputs": [],
   "source": []
  },
  {
   "cell_type": "code",
   "execution_count": null,
   "id": "2a41b4d5-ece0-412f-8470-43bb44641e2d",
   "metadata": {},
   "outputs": [],
   "source": []
  },
  {
   "cell_type": "code",
   "execution_count": null,
   "id": "8a2e8a71-ce94-4aee-b888-7697f82b1820",
   "metadata": {},
   "outputs": [],
   "source": []
  },
  {
   "cell_type": "code",
   "execution_count": null,
   "id": "f3876d85-171d-43cf-935d-de1b8759299b",
   "metadata": {},
   "outputs": [],
   "source": []
  },
  {
   "cell_type": "markdown",
   "id": "507fa8a0-b62f-4da2-90fa-a2bce3e67573",
   "metadata": {},
   "source": [
    "Hint 2: describe the case when the  strategy \"if I see name `j` when I open a box, then I will next open `j`s box\" works and when it fails."
   ]
  },
  {
   "cell_type": "code",
   "execution_count": null,
   "id": "45101eee-0eee-45a4-b6b4-e02d28728657",
   "metadata": {},
   "outputs": [],
   "source": []
  },
  {
   "cell_type": "code",
   "execution_count": null,
   "id": "14ffee74-478a-4062-845b-425bb183ce68",
   "metadata": {},
   "outputs": [],
   "source": []
  },
  {
   "cell_type": "code",
   "execution_count": null,
   "id": "13369d9d-4d54-4ee5-aca4-7e8dcae9d5cf",
   "metadata": {},
   "outputs": [],
   "source": []
  },
  {
   "cell_type": "code",
   "execution_count": null,
   "id": "6a96e9f2-c080-4250-a08b-9795d4f06deb",
   "metadata": {},
   "outputs": [],
   "source": []
  },
  {
   "cell_type": "code",
   "execution_count": null,
   "id": "109ac1b2-70ff-42ed-a569-282c86928cbc",
   "metadata": {},
   "outputs": [],
   "source": []
  },
  {
   "cell_type": "code",
   "execution_count": null,
   "id": "083aa1d4-1fab-4e98-954d-7e0c0656e406",
   "metadata": {},
   "outputs": [],
   "source": []
  },
  {
   "cell_type": "code",
   "execution_count": null,
   "id": "0960c4e1-f5f6-4d08-9dd2-a2d9c3e8ea3b",
   "metadata": {},
   "outputs": [],
   "source": []
  },
  {
   "cell_type": "code",
   "execution_count": null,
   "id": "4aa3577f-e9f1-4fc3-9fe2-716b4512f10f",
   "metadata": {},
   "outputs": [],
   "source": []
  },
  {
   "cell_type": "code",
   "execution_count": null,
   "id": "77a2b5d8-c8e9-49b1-a35f-3811d217d4b8",
   "metadata": {},
   "outputs": [],
   "source": []
  },
  {
   "cell_type": "code",
   "execution_count": null,
   "id": "013995bf-7844-4c8c-b24d-26ddbade1bd9",
   "metadata": {},
   "outputs": [],
   "source": []
  },
  {
   "cell_type": "code",
   "execution_count": null,
   "id": "b4178f9e-d9f3-45dc-ba31-ea2529f60272",
   "metadata": {},
   "outputs": [],
   "source": []
  },
  {
   "cell_type": "code",
   "execution_count": null,
   "id": "0b3df98f-9f52-4483-87e7-87d66664fe05",
   "metadata": {},
   "outputs": [],
   "source": []
  },
  {
   "cell_type": "code",
   "execution_count": null,
   "id": "38c8a8c0-2e48-4b87-94aa-44f4e2913f19",
   "metadata": {},
   "outputs": [],
   "source": []
  },
  {
   "cell_type": "code",
   "execution_count": null,
   "id": "3f444e47-3fa3-48a7-903e-8a8703a844cd",
   "metadata": {},
   "outputs": [],
   "source": []
  },
  {
   "cell_type": "code",
   "execution_count": null,
   "id": "e5a702a7-fc1f-433a-a71a-8dd60d42f832",
   "metadata": {},
   "outputs": [],
   "source": []
  },
  {
   "cell_type": "code",
   "execution_count": null,
   "id": "0f8d0e9d-cb0e-48b3-b5c9-de0197acb8cc",
   "metadata": {},
   "outputs": [],
   "source": []
  },
  {
   "cell_type": "code",
   "execution_count": null,
   "id": "f39e9592-5018-4a52-89d9-82de84d386ff",
   "metadata": {},
   "outputs": [],
   "source": []
  },
  {
   "cell_type": "code",
   "execution_count": null,
   "id": "c3db6755-19b1-40f9-bd66-6154d396ed30",
   "metadata": {},
   "outputs": [],
   "source": []
  },
  {
   "cell_type": "code",
   "execution_count": null,
   "id": "008179d1-30ec-4285-ae52-dd7e22d7b386",
   "metadata": {},
   "outputs": [],
   "source": []
  },
  {
   "cell_type": "code",
   "execution_count": null,
   "id": "c50057fe-a717-4df1-839b-fd8d27b0a93d",
   "metadata": {},
   "outputs": [],
   "source": []
  },
  {
   "cell_type": "code",
   "execution_count": null,
   "id": "55cc94ce-849b-46de-9235-cc37c535b58c",
   "metadata": {},
   "outputs": [],
   "source": []
  },
  {
   "cell_type": "code",
   "execution_count": null,
   "id": "603e09e0-11f7-4e6e-b83b-b91617998660",
   "metadata": {},
   "outputs": [],
   "source": []
  },
  {
   "cell_type": "code",
   "execution_count": null,
   "id": "36ec87aa-9dee-444a-9f9c-ee794802dbb5",
   "metadata": {},
   "outputs": [],
   "source": []
  },
  {
   "cell_type": "code",
   "execution_count": null,
   "id": "d080c3e9-6748-4aea-8a0b-82963a3d0738",
   "metadata": {},
   "outputs": [],
   "source": []
  },
  {
   "cell_type": "code",
   "execution_count": null,
   "id": "8abc7031-438c-4214-80c8-fe45227c1a4f",
   "metadata": {},
   "outputs": [],
   "source": []
  },
  {
   "cell_type": "code",
   "execution_count": null,
   "id": "37301fc5-fe0b-4350-b4cd-97d3a053b06f",
   "metadata": {},
   "outputs": [],
   "source": []
  },
  {
   "cell_type": "code",
   "execution_count": 12,
   "id": "c581bd17-881d-4c1f-ae03-397050f7a2d3",
   "metadata": {},
   "outputs": [
    {
     "name": "stdout",
     "output_type": "stream",
     "text": [
      "1 longest cycle 0\n",
      "(3 4) longest cycle 2\n",
      "(2 3) longest cycle 2\n",
      "(2 3 4) longest cycle 3\n",
      "(2 4 3) longest cycle 3\n",
      "(2 4) longest cycle 2\n",
      "(1 2) longest cycle 2\n",
      "(1 2)(3 4) longest cycle 2\n",
      "(1 2 3) longest cycle 3\n",
      "(1 2 3 4) longest cycle 4\n",
      "(1 2 4 3) longest cycle 4\n",
      "(1 2 4) longest cycle 3\n",
      "(1 3 2) longest cycle 3\n",
      "(1 3 4 2) longest cycle 4\n",
      "(1 3) longest cycle 2\n",
      "(1 3 4) longest cycle 3\n",
      "(1 3)(2 4) longest cycle 2\n",
      "(1 3 2 4) longest cycle 4\n",
      "(1 4 3 2) longest cycle 4\n",
      "(1 4 2) longest cycle 3\n",
      "(1 4 3) longest cycle 3\n",
      "(1 4) longest cycle 2\n",
      "(1 4 2 3) longest cycle 4\n",
      "(1 4)(2 3) longest cycle 2\n"
     ]
    }
   ],
   "source": [
    "def max_cycle_length(p):\n",
    "    clengths = []\n",
    "    for c in p.to_cycles():\n",
    "        clength = len(c)\n",
    "        clengths.append(clength)\n",
    "    if len(clengths) == 0:\n",
    "        return 0\n",
    "    else:\n",
    "        return max(clengths)\n",
    "\n",
    "randomps = permutations([1,2,3,4])\n",
    "for randomp in randomps:\n",
    "    rp = Permutation(*randomp)\n",
    "    rp_clengths_max = max_cycle_length(rp)\n",
    "    print(rp, \"longest cycle\", rp_clengths_max)"
   ]
  },
  {
   "cell_type": "code",
   "execution_count": null,
   "id": "4a6aaa03-a87f-414e-8ac3-c303b69f0146",
   "metadata": {},
   "outputs": [],
   "source": []
  },
  {
   "cell_type": "code",
   "execution_count": null,
   "id": "fc31c1ff-4bca-4b0f-8244-87aa2cd7706b",
   "metadata": {},
   "outputs": [],
   "source": []
  },
  {
   "cell_type": "code",
   "execution_count": null,
   "id": "cd21b818-4f21-4192-91be-40e3072e30cc",
   "metadata": {},
   "outputs": [],
   "source": []
  },
  {
   "cell_type": "code",
   "execution_count": null,
   "id": "f003a211-1948-4a68-a3c8-680826e9d015",
   "metadata": {},
   "outputs": [],
   "source": []
  },
  {
   "cell_type": "code",
   "execution_count": null,
   "id": "dc15d345-d3a0-4b13-b963-bae989f9ab5c",
   "metadata": {},
   "outputs": [],
   "source": []
  },
  {
   "cell_type": "code",
   "execution_count": null,
   "id": "e2b48a4b-0a4f-410f-ab2a-34e6f3a3137d",
   "metadata": {},
   "outputs": [],
   "source": []
  },
  {
   "cell_type": "code",
   "execution_count": null,
   "id": "8d00a0ba-edac-4609-9d9b-2a032b0854a5",
   "metadata": {},
   "outputs": [],
   "source": []
  },
  {
   "cell_type": "code",
   "execution_count": null,
   "id": "fe2a2fba-9e6a-46be-bb38-67d3d45e4251",
   "metadata": {},
   "outputs": [],
   "source": []
  },
  {
   "cell_type": "code",
   "execution_count": null,
   "id": "41c285a5-6de2-4d48-9ab1-83e65df31b2c",
   "metadata": {},
   "outputs": [],
   "source": []
  },
  {
   "cell_type": "code",
   "execution_count": null,
   "id": "e61d3b89-c71a-4944-a730-0a308fd6c8db",
   "metadata": {},
   "outputs": [],
   "source": []
  },
  {
   "cell_type": "code",
   "execution_count": null,
   "id": "a5321ea6-f338-4e15-a5fd-fefd7d460ca8",
   "metadata": {},
   "outputs": [],
   "source": []
  },
  {
   "cell_type": "code",
   "execution_count": null,
   "id": "f611e3f4-8c47-4fb0-bad0-a630c346cdcf",
   "metadata": {},
   "outputs": [],
   "source": []
  },
  {
   "cell_type": "code",
   "execution_count": null,
   "id": "8e39e56f-af72-48ae-9519-df997d8a0dc4",
   "metadata": {},
   "outputs": [],
   "source": []
  },
  {
   "cell_type": "code",
   "execution_count": null,
   "id": "d12b7f04-dcb4-4595-a0e7-909b3414c4d6",
   "metadata": {},
   "outputs": [],
   "source": []
  },
  {
   "cell_type": "code",
   "execution_count": null,
   "id": "184f3f5d-2499-4b70-8318-9b4b3301f2c8",
   "metadata": {},
   "outputs": [],
   "source": []
  },
  {
   "cell_type": "code",
   "execution_count": null,
   "id": "e92788b2-a2ae-446a-8a7b-d2e54c132f19",
   "metadata": {},
   "outputs": [],
   "source": []
  },
  {
   "cell_type": "code",
   "execution_count": null,
   "id": "1b371428-0a3d-442a-b613-c9579a24b858",
   "metadata": {},
   "outputs": [],
   "source": []
  },
  {
   "cell_type": "code",
   "execution_count": null,
   "id": "99df3111-88fe-4cb1-af07-7a82d10e384e",
   "metadata": {},
   "outputs": [],
   "source": []
  },
  {
   "cell_type": "code",
   "execution_count": null,
   "id": "107df664-f6b5-45fc-889f-5426abe7a975",
   "metadata": {},
   "outputs": [],
   "source": []
  },
  {
   "cell_type": "code",
   "execution_count": null,
   "id": "60add7d7-ff01-4b28-8415-3d244759a630",
   "metadata": {},
   "outputs": [],
   "source": []
  },
  {
   "cell_type": "code",
   "execution_count": null,
   "id": "ad029b6a-a9c9-4ae9-82a4-c9965d7ce69f",
   "metadata": {},
   "outputs": [],
   "source": []
  },
  {
   "cell_type": "code",
   "execution_count": null,
   "id": "efe7b685-33b9-4c30-b03d-dd1a769664a5",
   "metadata": {},
   "outputs": [],
   "source": []
  },
  {
   "cell_type": "code",
   "execution_count": null,
   "id": "3cb8cdaa-99c6-48a4-b7e0-d13ff7e9d0b5",
   "metadata": {},
   "outputs": [],
   "source": []
  },
  {
   "cell_type": "code",
   "execution_count": null,
   "id": "6557dd4e-482d-4b76-bf11-480673864b53",
   "metadata": {},
   "outputs": [],
   "source": []
  },
  {
   "cell_type": "markdown",
   "id": "c2b23513-a58d-4c4c-bfe3-a098ea2074f1",
   "metadata": {},
   "source": [
    "Hint 3: count the cases when the strategy \"if I see name `j` when I open a box, then I will next open `j`s box\" works and when it fails."
   ]
  },
  {
   "cell_type": "code",
   "execution_count": null,
   "id": "66918f9c-50a8-4f99-b86c-f0e4c92a4d99",
   "metadata": {},
   "outputs": [],
   "source": []
  },
  {
   "cell_type": "code",
   "execution_count": null,
   "id": "a5ceb32b-0941-4c17-8732-11d9c67b3895",
   "metadata": {},
   "outputs": [],
   "source": []
  },
  {
   "cell_type": "code",
   "execution_count": null,
   "id": "61cf4775-01d7-4d86-b659-8b65328e96df",
   "metadata": {},
   "outputs": [],
   "source": []
  },
  {
   "cell_type": "code",
   "execution_count": null,
   "id": "15850ed1-4b94-4d81-8cc5-a143795fb41e",
   "metadata": {},
   "outputs": [],
   "source": []
  },
  {
   "cell_type": "code",
   "execution_count": null,
   "id": "36b09cb2-186f-4012-bb77-33762e6b7e43",
   "metadata": {},
   "outputs": [],
   "source": []
  },
  {
   "cell_type": "code",
   "execution_count": null,
   "id": "7b0cd9a1-786b-41e1-a305-65a39a52de70",
   "metadata": {},
   "outputs": [],
   "source": []
  },
  {
   "cell_type": "code",
   "execution_count": null,
   "id": "7e2b1399-60e2-4500-9f60-3dae5b10f530",
   "metadata": {},
   "outputs": [],
   "source": []
  },
  {
   "cell_type": "code",
   "execution_count": null,
   "id": "0b1d6e10-6bd7-4910-a273-ab362ef2fef5",
   "metadata": {},
   "outputs": [],
   "source": []
  },
  {
   "cell_type": "code",
   "execution_count": null,
   "id": "bd9866f1-8762-4eb9-a3f9-f7ed617247a3",
   "metadata": {},
   "outputs": [],
   "source": []
  },
  {
   "cell_type": "code",
   "execution_count": null,
   "id": "5fd1313b-eb35-42e7-bfe8-a564802860c7",
   "metadata": {},
   "outputs": [],
   "source": []
  },
  {
   "cell_type": "code",
   "execution_count": null,
   "id": "2d133392-902e-40b0-bd9d-44fe7a2ae541",
   "metadata": {},
   "outputs": [],
   "source": []
  },
  {
   "cell_type": "code",
   "execution_count": null,
   "id": "729e1d0b-d0cc-486f-8b9c-54a91dcb6d62",
   "metadata": {},
   "outputs": [],
   "source": []
  },
  {
   "cell_type": "code",
   "execution_count": null,
   "id": "199ea712-9baf-460a-9df3-fea704a2df2c",
   "metadata": {},
   "outputs": [],
   "source": []
  },
  {
   "cell_type": "code",
   "execution_count": null,
   "id": "4187b870-a059-4752-a31e-0307ac0605aa",
   "metadata": {},
   "outputs": [],
   "source": []
  },
  {
   "cell_type": "markdown",
   "id": "0720998f-19d3-4f80-a8be-73d30995ac4f",
   "metadata": {},
   "source": []
  },
  {
   "cell_type": "code",
   "execution_count": null,
   "id": "556489b3-a326-451b-83c7-e89c61e65c78",
   "metadata": {},
   "outputs": [],
   "source": []
  },
  {
   "cell_type": "code",
   "execution_count": null,
   "id": "9bd167a6-4b38-4b7e-a2a9-003c34bb8641",
   "metadata": {},
   "outputs": [],
   "source": []
  },
  {
   "cell_type": "code",
   "execution_count": null,
   "id": "1dc996b7-dde2-4bea-b3ba-b8a45c35b557",
   "metadata": {},
   "outputs": [],
   "source": []
  },
  {
   "cell_type": "code",
   "execution_count": null,
   "id": "2fe30090-0076-4e03-9536-091184ec724c",
   "metadata": {},
   "outputs": [],
   "source": []
  },
  {
   "cell_type": "code",
   "execution_count": null,
   "id": "dfa7a01c-be69-479e-89be-3d1d934798b6",
   "metadata": {},
   "outputs": [],
   "source": []
  },
  {
   "cell_type": "code",
   "execution_count": null,
   "id": "2ce0f48d-3a91-4a34-b671-28a4225812a4",
   "metadata": {},
   "outputs": [],
   "source": []
  },
  {
   "cell_type": "code",
   "execution_count": null,
   "id": "29a79513-31a3-4157-a99f-9d2be0d7807f",
   "metadata": {},
   "outputs": [],
   "source": []
  },
  {
   "cell_type": "code",
   "execution_count": null,
   "id": "2f09d113-bdb5-4898-8324-f34fd6b3d775",
   "metadata": {},
   "outputs": [],
   "source": []
  },
  {
   "cell_type": "code",
   "execution_count": null,
   "id": "cfb52d9d-c757-4bb9-9b47-7237d5dc1fdc",
   "metadata": {},
   "outputs": [],
   "source": []
  },
  {
   "cell_type": "code",
   "execution_count": null,
   "id": "a1ffe56f-c7fa-4099-a5c0-78b773fc589a",
   "metadata": {},
   "outputs": [],
   "source": []
  },
  {
   "cell_type": "code",
   "execution_count": null,
   "id": "149f6099-d3d2-43d0-87e8-94fc548714c7",
   "metadata": {},
   "outputs": [],
   "source": []
  },
  {
   "cell_type": "code",
   "execution_count": null,
   "id": "f1bca966-3bdc-4680-b178-a4ff0bd78ddd",
   "metadata": {},
   "outputs": [],
   "source": []
  },
  {
   "cell_type": "code",
   "execution_count": null,
   "id": "4ef9ae8c-df99-4557-9700-5bb00eb926cc",
   "metadata": {},
   "outputs": [],
   "source": []
  },
  {
   "cell_type": "code",
   "execution_count": null,
   "id": "8234bd52-f074-4432-8a09-f099e9fea995",
   "metadata": {},
   "outputs": [],
   "source": []
  },
  {
   "cell_type": "code",
   "execution_count": 13,
   "id": "23bf6e29-cfee-4147-9254-81b4f321cd97",
   "metadata": {},
   "outputs": [
    {
     "data": {
      "text/plain": [
       "array([0, 2, 2, 3, 3, 2, 2, 2, 3, 4, 4, 3, 3, 4, 2, 3, 2, 4, 4, 3, 3, 2,\n",
       "       4, 2])"
      ]
     },
     "execution_count": 13,
     "metadata": {},
     "output_type": "execute_result"
    }
   ],
   "source": [
    "maxclens = []\n",
    "\n",
    "randomps = permutations([1,2,3,4])\n",
    "for randomp in randomps:\n",
    "    rp = Permutation(*randomp)\n",
    "    rp_clengths_max = max_cycle_length(rp)\n",
    "    maxclens.append(rp_clengths_max)\n",
    "\n",
    "maxclens = np.array(maxclens)\n",
    "maxclens"
   ]
  },
  {
   "cell_type": "code",
   "execution_count": null,
   "id": "83b94ac0-c998-48c2-9f4a-b52f26bdc251",
   "metadata": {},
   "outputs": [],
   "source": []
  },
  {
   "cell_type": "code",
   "execution_count": null,
   "id": "0495a310-a4d7-4ebe-b022-c7248a527c01",
   "metadata": {},
   "outputs": [],
   "source": []
  },
  {
   "cell_type": "code",
   "execution_count": null,
   "id": "ef991819-c5a0-4613-a0ce-8e93e0b739a9",
   "metadata": {},
   "outputs": [],
   "source": []
  },
  {
   "cell_type": "code",
   "execution_count": null,
   "id": "e6aa6a38-7fd3-4036-a1d4-7d950fe6b671",
   "metadata": {},
   "outputs": [],
   "source": []
  },
  {
   "cell_type": "code",
   "execution_count": null,
   "id": "0b755771-7e6c-4dbf-8174-6ad460355751",
   "metadata": {},
   "outputs": [],
   "source": []
  },
  {
   "cell_type": "code",
   "execution_count": null,
   "id": "34bbf5f7-5968-42e3-ae7a-8994545f782a",
   "metadata": {},
   "outputs": [],
   "source": []
  },
  {
   "cell_type": "code",
   "execution_count": null,
   "id": "a30531d7-3423-4afd-9adf-e20a73952148",
   "metadata": {},
   "outputs": [],
   "source": []
  },
  {
   "cell_type": "code",
   "execution_count": null,
   "id": "42254a23-a133-47f5-9fdf-b97137daf5ae",
   "metadata": {},
   "outputs": [],
   "source": []
  },
  {
   "cell_type": "code",
   "execution_count": null,
   "id": "bdd750b1-ee21-46fe-9308-e156bb50fd07",
   "metadata": {},
   "outputs": [],
   "source": []
  },
  {
   "cell_type": "code",
   "execution_count": null,
   "id": "207280aa-effd-4edd-bbdd-6696bf4390bf",
   "metadata": {},
   "outputs": [],
   "source": []
  },
  {
   "cell_type": "code",
   "execution_count": null,
   "id": "c0b8ec00-35cd-4401-88dc-1e8bf71e4ffe",
   "metadata": {},
   "outputs": [],
   "source": []
  },
  {
   "cell_type": "code",
   "execution_count": null,
   "id": "bab87247-0d93-45b1-a0b9-a40c48172035",
   "metadata": {},
   "outputs": [],
   "source": []
  },
  {
   "cell_type": "code",
   "execution_count": null,
   "id": "ae2d66e5-a109-4b77-8a49-6ce0434b1d81",
   "metadata": {},
   "outputs": [],
   "source": []
  },
  {
   "cell_type": "code",
   "execution_count": null,
   "id": "15d0011d-9167-4b6d-a1f1-f88057b68f51",
   "metadata": {},
   "outputs": [],
   "source": []
  },
  {
   "cell_type": "code",
   "execution_count": null,
   "id": "9775d792-e800-4010-9e03-b13157fb4da8",
   "metadata": {},
   "outputs": [],
   "source": []
  },
  {
   "cell_type": "code",
   "execution_count": null,
   "id": "28b2d1d3-8c8f-4d7d-925e-26e22d082464",
   "metadata": {},
   "outputs": [],
   "source": []
  },
  {
   "cell_type": "code",
   "execution_count": null,
   "id": "2a93e12f-0b55-403b-8581-71fcbcf556ec",
   "metadata": {},
   "outputs": [],
   "source": []
  },
  {
   "cell_type": "code",
   "execution_count": null,
   "id": "bf4e01c6-152d-46ee-8195-feab059f53ce",
   "metadata": {},
   "outputs": [],
   "source": []
  },
  {
   "cell_type": "code",
   "execution_count": null,
   "id": "4301cf16-e25b-4e0e-b79f-1156024b0a0a",
   "metadata": {},
   "outputs": [],
   "source": []
  },
  {
   "cell_type": "code",
   "execution_count": null,
   "id": "a19ae684-9f7c-4e28-868f-0d47e8a9f494",
   "metadata": {},
   "outputs": [],
   "source": []
  },
  {
   "cell_type": "code",
   "execution_count": null,
   "id": "5c4a0983-4fc6-4bf3-98a4-66e799a8bdda",
   "metadata": {},
   "outputs": [],
   "source": []
  },
  {
   "cell_type": "code",
   "execution_count": null,
   "id": "427226d8-6cd6-40f5-80c7-6ad291e50395",
   "metadata": {},
   "outputs": [],
   "source": []
  },
  {
   "cell_type": "code",
   "execution_count": null,
   "id": "fd70fc69-740f-4860-99d2-ad3a7a90cf7f",
   "metadata": {},
   "outputs": [],
   "source": []
  },
  {
   "cell_type": "code",
   "execution_count": null,
   "id": "72ca8e61-4dc7-4345-adcb-32f61b7bacd0",
   "metadata": {},
   "outputs": [],
   "source": []
  },
  {
   "cell_type": "markdown",
   "id": "3aacd938-d890-46e6-b556-2985400851b4",
   "metadata": {},
   "source": [
    "Hint 4: Try doing some stats on the array `maxclens`"
   ]
  },
  {
   "cell_type": "code",
   "execution_count": null,
   "id": "05f65046-f870-4268-b183-9ec7708d8c1c",
   "metadata": {},
   "outputs": [],
   "source": []
  },
  {
   "cell_type": "code",
   "execution_count": null,
   "id": "1e2b5d57-a1fd-45f7-97c9-32de4f745ad7",
   "metadata": {},
   "outputs": [],
   "source": []
  },
  {
   "cell_type": "code",
   "execution_count": null,
   "id": "2746c51a-bfd8-458b-9662-750d540dd700",
   "metadata": {},
   "outputs": [],
   "source": []
  },
  {
   "cell_type": "code",
   "execution_count": null,
   "id": "8625ea3d-488d-4a73-adbc-be816ac5bde7",
   "metadata": {},
   "outputs": [],
   "source": []
  },
  {
   "cell_type": "code",
   "execution_count": null,
   "id": "9690f117-3a5a-4252-b0b3-9f2e97abc1ce",
   "metadata": {},
   "outputs": [],
   "source": []
  },
  {
   "cell_type": "code",
   "execution_count": null,
   "id": "885ec0de-0ce2-4442-8d83-e4a9ce3cd432",
   "metadata": {},
   "outputs": [],
   "source": []
  },
  {
   "cell_type": "code",
   "execution_count": null,
   "id": "8586899b-a84a-4025-bd35-c8b3862b45f1",
   "metadata": {},
   "outputs": [],
   "source": []
  },
  {
   "cell_type": "code",
   "execution_count": null,
   "id": "65ad6972-6374-4e8b-8414-a29592f7b0f9",
   "metadata": {},
   "outputs": [],
   "source": []
  },
  {
   "cell_type": "code",
   "execution_count": null,
   "id": "c592b05f-105a-4bc3-8382-53df567bc82f",
   "metadata": {},
   "outputs": [],
   "source": []
  },
  {
   "cell_type": "code",
   "execution_count": null,
   "id": "aa462881-6b9b-4ef7-8486-51738a69911a",
   "metadata": {},
   "outputs": [],
   "source": []
  },
  {
   "cell_type": "code",
   "execution_count": null,
   "id": "3b5a4fc2-e451-43c8-9262-78653bc02a10",
   "metadata": {},
   "outputs": [],
   "source": []
  },
  {
   "cell_type": "code",
   "execution_count": null,
   "id": "e61ec7e9-7378-45ae-bbbc-286411876eb6",
   "metadata": {},
   "outputs": [],
   "source": []
  },
  {
   "cell_type": "code",
   "execution_count": null,
   "id": "831e46a5-2cc0-4373-9437-ee0fa6d4d3d7",
   "metadata": {},
   "outputs": [],
   "source": []
  },
  {
   "cell_type": "code",
   "execution_count": null,
   "id": "468f8926-aed8-4ed5-96a6-689ee5c5b27a",
   "metadata": {},
   "outputs": [],
   "source": []
  },
  {
   "cell_type": "code",
   "execution_count": null,
   "id": "f6fa4095-f243-4716-9b58-bda722bbcbd1",
   "metadata": {},
   "outputs": [],
   "source": []
  },
  {
   "cell_type": "code",
   "execution_count": null,
   "id": "f7e40332-83f7-4d40-86ba-12a073d49857",
   "metadata": {},
   "outputs": [],
   "source": []
  },
  {
   "cell_type": "code",
   "execution_count": null,
   "id": "4296c491-ba7b-4043-8f93-d586295ddfca",
   "metadata": {},
   "outputs": [],
   "source": []
  },
  {
   "cell_type": "code",
   "execution_count": null,
   "id": "0a9cb626-1e3f-444d-8cc3-7c7b3b6c99f1",
   "metadata": {},
   "outputs": [],
   "source": []
  },
  {
   "cell_type": "code",
   "execution_count": null,
   "id": "5800cc30-6853-417d-b090-912bfab043f2",
   "metadata": {},
   "outputs": [],
   "source": []
  },
  {
   "cell_type": "code",
   "execution_count": null,
   "id": "64916e96-f808-4ba7-86da-c7de12583d67",
   "metadata": {},
   "outputs": [],
   "source": []
  },
  {
   "cell_type": "code",
   "execution_count": null,
   "id": "aa2ad342-d8b1-4b4f-ad6d-352cb8951fa5",
   "metadata": {},
   "outputs": [],
   "source": []
  },
  {
   "cell_type": "code",
   "execution_count": null,
   "id": "6cc06808-9ff6-4d0c-a44f-c90828274045",
   "metadata": {},
   "outputs": [],
   "source": []
  },
  {
   "cell_type": "code",
   "execution_count": null,
   "id": "7a5fb47c-a117-4f1e-98fd-ce0ac63d9b16",
   "metadata": {},
   "outputs": [],
   "source": []
  },
  {
   "cell_type": "code",
   "execution_count": null,
   "id": "cdf71ff9-10a9-4d12-bfb0-9fab678b0bd0",
   "metadata": {},
   "outputs": [],
   "source": []
  },
  {
   "cell_type": "code",
   "execution_count": null,
   "id": "a51a41f7-fc16-4ad4-865c-ba536c2f6189",
   "metadata": {},
   "outputs": [],
   "source": []
  },
  {
   "cell_type": "code",
   "execution_count": null,
   "id": "af105e1b-9758-42d4-8158-4a00648914d5",
   "metadata": {},
   "outputs": [],
   "source": []
  },
  {
   "cell_type": "code",
   "execution_count": null,
   "id": "95a7856a-c5bd-4b2b-97dc-4055f997948b",
   "metadata": {},
   "outputs": [],
   "source": []
  },
  {
   "cell_type": "code",
   "execution_count": null,
   "id": "ffc41342-22ad-4e56-9904-a1dd13cfdb12",
   "metadata": {},
   "outputs": [],
   "source": []
  },
  {
   "cell_type": "code",
   "execution_count": null,
   "id": "a33549b2-261f-40c0-81e6-bace56ca3f09",
   "metadata": {},
   "outputs": [],
   "source": []
  },
  {
   "cell_type": "code",
   "execution_count": null,
   "id": "80c94f7f-b325-4a51-b301-403c6334f26d",
   "metadata": {},
   "outputs": [],
   "source": []
  },
  {
   "cell_type": "code",
   "execution_count": null,
   "id": "94bdf5c0-087e-46be-a2bb-d46e5d1b29e5",
   "metadata": {},
   "outputs": [],
   "source": []
  },
  {
   "cell_type": "code",
   "execution_count": null,
   "id": "4e295bfe-b07f-48cb-9d6a-86dded178f8f",
   "metadata": {},
   "outputs": [],
   "source": []
  },
  {
   "cell_type": "code",
   "execution_count": 14,
   "id": "6ded08d0-48d8-482f-8b19-c9da3be8a9a3",
   "metadata": {},
   "outputs": [
    {
     "data": {
      "text/plain": [
       "0.4166666666666667"
      ]
     },
     "execution_count": 14,
     "metadata": {},
     "output_type": "execute_result"
    }
   ],
   "source": [
    "sum(maxclens <= 2) / len(maxclens)"
   ]
  },
  {
   "cell_type": "code",
   "execution_count": null,
   "id": "3c42e1af-30ed-461e-8f9a-48b382fce7fb",
   "metadata": {},
   "outputs": [],
   "source": []
  }
 ],
 "metadata": {
  "kernelspec": {
   "display_name": "Python 3 (ipykernel)",
   "language": "python",
   "name": "python3"
  },
  "language_info": {
   "codemirror_mode": {
    "name": "ipython",
    "version": 3
   },
   "file_extension": ".py",
   "mimetype": "text/x-python",
   "name": "python",
   "nbconvert_exporter": "python",
   "pygments_lexer": "ipython3",
   "version": "3.9.4"
  }
 },
 "nbformat": 4,
 "nbformat_minor": 5
}
