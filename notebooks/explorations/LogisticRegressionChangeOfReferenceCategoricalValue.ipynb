{
 "cells": [
  {
   "cell_type": "markdown",
   "metadata": {
    "id": "JV4wDxjMS3Wm"
   },
   "source": [
    "# Logistic Regressin custom reference category\n",
    "\n",
    "When reporting odds ratios for categorical variables in a logistic regression model, one category is chosen as the \"reference\" and odd ratios are reported for others, relative to this reference.\n",
    "\n",
    "What if we want to report numbers using another category as the base case?"
   ]
  },
  {
   "cell_type": "code",
   "execution_count": 22,
   "metadata": {
    "colab": {
     "base_uri": "https://localhost:8080/"
    },
    "id": "92dLLn719tr3",
    "outputId": "c4300b9f-6ff8-458b-de84-4fec723c5030"
   },
   "outputs": [],
   "source": [
    "import matplotlib.pyplot as plt\n",
    "import numpy as np\n",
    "import scipy\n",
    "import pandas as pd\n",
    "import statsmodels.api as sm\n",
    "import statsmodels.formula.api as smf"
   ]
  },
  {
   "cell_type": "markdown",
   "metadata": {
    "id": "chuc6NWhAFt6"
   },
   "source": [
    "# Logistic Regression\n",
    "\n",
    "Consider this excellent writeup of the statistical analysis of an admissions data set:\n",
    "\n",
    "https://stats.idre.ucla.edu/r/dae/logit-regression/\n",
    "\n",
    "cf.  also https://stats.oarc.ucla.edu/stata/dae/logistic-regression/"
   ]
  },
  {
   "cell_type": "code",
   "execution_count": 2,
   "metadata": {
    "colab": {
     "base_uri": "https://localhost:8080/",
     "height": 423
    },
    "id": "OmIrR4FO_kWV",
    "outputId": "2d332d0e-ce3a-4dd5-bd42-209dff142e52"
   },
   "outputs": [
    {
     "data": {
      "text/html": [
       "<div>\n",
       "<style scoped>\n",
       "    .dataframe tbody tr th:only-of-type {\n",
       "        vertical-align: middle;\n",
       "    }\n",
       "\n",
       "    .dataframe tbody tr th {\n",
       "        vertical-align: top;\n",
       "    }\n",
       "\n",
       "    .dataframe thead th {\n",
       "        text-align: right;\n",
       "    }\n",
       "</style>\n",
       "<table border=\"1\" class=\"dataframe\">\n",
       "  <thead>\n",
       "    <tr style=\"text-align: right;\">\n",
       "      <th></th>\n",
       "      <th>admit</th>\n",
       "      <th>gre</th>\n",
       "      <th>gpa</th>\n",
       "      <th>rank</th>\n",
       "    </tr>\n",
       "  </thead>\n",
       "  <tbody>\n",
       "    <tr>\n",
       "      <th>0</th>\n",
       "      <td>0</td>\n",
       "      <td>380</td>\n",
       "      <td>3.61</td>\n",
       "      <td>3</td>\n",
       "    </tr>\n",
       "    <tr>\n",
       "      <th>1</th>\n",
       "      <td>1</td>\n",
       "      <td>660</td>\n",
       "      <td>3.67</td>\n",
       "      <td>3</td>\n",
       "    </tr>\n",
       "    <tr>\n",
       "      <th>2</th>\n",
       "      <td>1</td>\n",
       "      <td>800</td>\n",
       "      <td>4.00</td>\n",
       "      <td>1</td>\n",
       "    </tr>\n",
       "    <tr>\n",
       "      <th>3</th>\n",
       "      <td>1</td>\n",
       "      <td>640</td>\n",
       "      <td>3.19</td>\n",
       "      <td>4</td>\n",
       "    </tr>\n",
       "    <tr>\n",
       "      <th>4</th>\n",
       "      <td>0</td>\n",
       "      <td>520</td>\n",
       "      <td>2.93</td>\n",
       "      <td>4</td>\n",
       "    </tr>\n",
       "    <tr>\n",
       "      <th>...</th>\n",
       "      <td>...</td>\n",
       "      <td>...</td>\n",
       "      <td>...</td>\n",
       "      <td>...</td>\n",
       "    </tr>\n",
       "    <tr>\n",
       "      <th>395</th>\n",
       "      <td>0</td>\n",
       "      <td>620</td>\n",
       "      <td>4.00</td>\n",
       "      <td>2</td>\n",
       "    </tr>\n",
       "    <tr>\n",
       "      <th>396</th>\n",
       "      <td>0</td>\n",
       "      <td>560</td>\n",
       "      <td>3.04</td>\n",
       "      <td>3</td>\n",
       "    </tr>\n",
       "    <tr>\n",
       "      <th>397</th>\n",
       "      <td>0</td>\n",
       "      <td>460</td>\n",
       "      <td>2.63</td>\n",
       "      <td>2</td>\n",
       "    </tr>\n",
       "    <tr>\n",
       "      <th>398</th>\n",
       "      <td>0</td>\n",
       "      <td>700</td>\n",
       "      <td>3.65</td>\n",
       "      <td>2</td>\n",
       "    </tr>\n",
       "    <tr>\n",
       "      <th>399</th>\n",
       "      <td>0</td>\n",
       "      <td>600</td>\n",
       "      <td>3.89</td>\n",
       "      <td>3</td>\n",
       "    </tr>\n",
       "  </tbody>\n",
       "</table>\n",
       "<p>400 rows × 4 columns</p>\n",
       "</div>"
      ],
      "text/plain": [
       "     admit  gre   gpa  rank\n",
       "0        0  380  3.61     3\n",
       "1        1  660  3.67     3\n",
       "2        1  800  4.00     1\n",
       "3        1  640  3.19     4\n",
       "4        0  520  2.93     4\n",
       "..     ...  ...   ...   ...\n",
       "395      0  620  4.00     2\n",
       "396      0  560  3.04     3\n",
       "397      0  460  2.63     2\n",
       "398      0  700  3.65     2\n",
       "399      0  600  3.89     3\n",
       "\n",
       "[400 rows x 4 columns]"
      ]
     },
     "execution_count": 2,
     "metadata": {},
     "output_type": "execute_result"
    }
   ],
   "source": [
    "# data = whether students got admitted (admit=1) or not (admit=0) based on their gre and gpa scores, and the rank of their instutution\n",
    "# raw_data = pd.read_csv('https://stats.idre.ucla.edu/stat/data/binary.csv')\n",
    "raw_data = pd.read_csv('./data/binary.csv')\n",
    "raw_data"
   ]
  },
  {
   "cell_type": "code",
   "execution_count": 3,
   "metadata": {
    "colab": {
     "base_uri": "https://localhost:8080/"
    },
    "id": "S7IgiiZ0DY9m",
    "outputId": "39e9e5b5-8455-4b58-83ff-ee8305da5909"
   },
   "outputs": [
    {
     "name": "stdout",
     "output_type": "stream",
     "text": [
      "<class 'pandas.core.frame.DataFrame'>\n",
      "RangeIndex: 400 entries, 0 to 399\n",
      "Data columns (total 4 columns):\n",
      " #   Column  Non-Null Count  Dtype  \n",
      "---  ------  --------------  -----  \n",
      " 0   admit   400 non-null    int64  \n",
      " 1   gre     400 non-null    int64  \n",
      " 2   gpa     400 non-null    float64\n",
      " 3   rank    400 non-null    int64  \n",
      "dtypes: float64(1), int64(3)\n",
      "memory usage: 12.6 KB\n"
     ]
    }
   ],
   "source": [
    "raw_data.info()"
   ]
  },
  {
   "cell_type": "code",
   "execution_count": 4,
   "metadata": {
    "colab": {
     "base_uri": "https://localhost:8080/",
     "height": 300
    },
    "id": "0rU9jIaP_wl4",
    "outputId": "20ba85fd-2b51-41b8-f6bb-72c2a0c49e03"
   },
   "outputs": [
    {
     "data": {
      "text/html": [
       "<div>\n",
       "<style scoped>\n",
       "    .dataframe tbody tr th:only-of-type {\n",
       "        vertical-align: middle;\n",
       "    }\n",
       "\n",
       "    .dataframe tbody tr th {\n",
       "        vertical-align: top;\n",
       "    }\n",
       "\n",
       "    .dataframe thead th {\n",
       "        text-align: right;\n",
       "    }\n",
       "</style>\n",
       "<table border=\"1\" class=\"dataframe\">\n",
       "  <thead>\n",
       "    <tr style=\"text-align: right;\">\n",
       "      <th></th>\n",
       "      <th>admit</th>\n",
       "      <th>gre</th>\n",
       "      <th>gpa</th>\n",
       "      <th>rank</th>\n",
       "    </tr>\n",
       "  </thead>\n",
       "  <tbody>\n",
       "    <tr>\n",
       "      <th>count</th>\n",
       "      <td>400.000000</td>\n",
       "      <td>400.000000</td>\n",
       "      <td>400.000000</td>\n",
       "      <td>400.00000</td>\n",
       "    </tr>\n",
       "    <tr>\n",
       "      <th>mean</th>\n",
       "      <td>0.317500</td>\n",
       "      <td>587.700000</td>\n",
       "      <td>3.389900</td>\n",
       "      <td>2.48500</td>\n",
       "    </tr>\n",
       "    <tr>\n",
       "      <th>std</th>\n",
       "      <td>0.466087</td>\n",
       "      <td>115.516536</td>\n",
       "      <td>0.380567</td>\n",
       "      <td>0.94446</td>\n",
       "    </tr>\n",
       "    <tr>\n",
       "      <th>min</th>\n",
       "      <td>0.000000</td>\n",
       "      <td>220.000000</td>\n",
       "      <td>2.260000</td>\n",
       "      <td>1.00000</td>\n",
       "    </tr>\n",
       "    <tr>\n",
       "      <th>25%</th>\n",
       "      <td>0.000000</td>\n",
       "      <td>520.000000</td>\n",
       "      <td>3.130000</td>\n",
       "      <td>2.00000</td>\n",
       "    </tr>\n",
       "    <tr>\n",
       "      <th>50%</th>\n",
       "      <td>0.000000</td>\n",
       "      <td>580.000000</td>\n",
       "      <td>3.395000</td>\n",
       "      <td>2.00000</td>\n",
       "    </tr>\n",
       "    <tr>\n",
       "      <th>75%</th>\n",
       "      <td>1.000000</td>\n",
       "      <td>660.000000</td>\n",
       "      <td>3.670000</td>\n",
       "      <td>3.00000</td>\n",
       "    </tr>\n",
       "    <tr>\n",
       "      <th>max</th>\n",
       "      <td>1.000000</td>\n",
       "      <td>800.000000</td>\n",
       "      <td>4.000000</td>\n",
       "      <td>4.00000</td>\n",
       "    </tr>\n",
       "  </tbody>\n",
       "</table>\n",
       "</div>"
      ],
      "text/plain": [
       "            admit         gre         gpa       rank\n",
       "count  400.000000  400.000000  400.000000  400.00000\n",
       "mean     0.317500  587.700000    3.389900    2.48500\n",
       "std      0.466087  115.516536    0.380567    0.94446\n",
       "min      0.000000  220.000000    2.260000    1.00000\n",
       "25%      0.000000  520.000000    3.130000    2.00000\n",
       "50%      0.000000  580.000000    3.395000    2.00000\n",
       "75%      1.000000  660.000000    3.670000    3.00000\n",
       "max      1.000000  800.000000    4.000000    4.00000"
      ]
     },
     "execution_count": 4,
     "metadata": {},
     "output_type": "execute_result"
    }
   ],
   "source": [
    " raw_data.describe()"
   ]
  },
  {
   "cell_type": "code",
   "execution_count": 5,
   "metadata": {
    "id": "RG89eQPTON4Q"
   },
   "outputs": [],
   "source": [
    "# convert rank to categorical\n",
    "# via https://stackoverflow.com/a/39092877\n",
    "mydata = raw_data.copy()\n",
    "mydata['rank'] = pd.Categorical(mydata['rank'])"
   ]
  },
  {
   "cell_type": "code",
   "execution_count": 6,
   "metadata": {
    "colab": {
     "base_uri": "https://localhost:8080/",
     "height": 143
    },
    "id": "iELKnVRTCx4Q",
    "outputId": "28f38308-4c30-42a4-ae65-f16ead7210eb"
   },
   "outputs": [
    {
     "data": {
      "text/html": [
       "<div>\n",
       "<style scoped>\n",
       "    .dataframe tbody tr th:only-of-type {\n",
       "        vertical-align: middle;\n",
       "    }\n",
       "\n",
       "    .dataframe tbody tr th {\n",
       "        vertical-align: top;\n",
       "    }\n",
       "\n",
       "    .dataframe thead th {\n",
       "        text-align: right;\n",
       "    }\n",
       "</style>\n",
       "<table border=\"1\" class=\"dataframe\">\n",
       "  <thead>\n",
       "    <tr style=\"text-align: right;\">\n",
       "      <th>rank</th>\n",
       "      <th>1</th>\n",
       "      <th>2</th>\n",
       "      <th>3</th>\n",
       "      <th>4</th>\n",
       "    </tr>\n",
       "    <tr>\n",
       "      <th>admit</th>\n",
       "      <th></th>\n",
       "      <th></th>\n",
       "      <th></th>\n",
       "      <th></th>\n",
       "    </tr>\n",
       "  </thead>\n",
       "  <tbody>\n",
       "    <tr>\n",
       "      <th>0</th>\n",
       "      <td>28</td>\n",
       "      <td>97</td>\n",
       "      <td>93</td>\n",
       "      <td>55</td>\n",
       "    </tr>\n",
       "    <tr>\n",
       "      <th>1</th>\n",
       "      <td>33</td>\n",
       "      <td>54</td>\n",
       "      <td>28</td>\n",
       "      <td>12</td>\n",
       "    </tr>\n",
       "  </tbody>\n",
       "</table>\n",
       "</div>"
      ],
      "text/plain": [
       "rank    1   2   3   4\n",
       "admit                \n",
       "0      28  97  93  55\n",
       "1      33  54  28  12"
      ]
     },
     "execution_count": 6,
     "metadata": {},
     "output_type": "execute_result"
    }
   ],
   "source": [
    "mydata_crosstab = pd.crosstab(\n",
    "    mydata['admit'],\n",
    "    mydata['rank'], \n",
    "    margins = False\n",
    ")\n",
    "mydata_crosstab"
   ]
  },
  {
   "cell_type": "code",
   "execution_count": null,
   "metadata": {
    "id": "UJRY2F3TDqva"
   },
   "outputs": [],
   "source": [
    "\n"
   ]
  },
  {
   "cell_type": "code",
   "execution_count": 7,
   "metadata": {
    "colab": {
     "base_uri": "https://localhost:8080/"
    },
    "id": "ueewKc_bEko1",
    "outputId": "0173a1d9-7440-4659-ef06-9e9b9b30e160"
   },
   "outputs": [
    {
     "data": {
      "text/plain": [
       "admit       int64\n",
       "gre         int64\n",
       "gpa       float64\n",
       "rank     category\n",
       "dtype: object"
      ]
     },
     "execution_count": 7,
     "metadata": {},
     "output_type": "execute_result"
    }
   ],
   "source": [
    "mydata.dtypes"
   ]
  },
  {
   "cell_type": "code",
   "execution_count": 25,
   "metadata": {
    "colab": {
     "base_uri": "https://localhost:8080/"
    },
    "id": "WKx28mlNErEq",
    "outputId": "0a272b6d-3921-4fe1-f36f-05d8f917903e"
   },
   "outputs": [
    {
     "name": "stdout",
     "output_type": "stream",
     "text": [
      "Optimization terminated successfully.\n",
      "         Current function value: 0.573147\n",
      "         Iterations 6\n"
     ]
    },
    {
     "data": {
      "text/plain": [
       "<statsmodels.discrete.discrete_model.BinaryResultsWrapper at 0x1347b5d30>"
      ]
     },
     "execution_count": 25,
     "metadata": {},
     "output_type": "execute_result"
    }
   ],
   "source": [
    "mylogit = smf.logit(\n",
    "    'admit ~ gre + gpa + rank',\n",
    "    data=mydata\n",
    ").fit()\n",
    "\n",
    "mylogit"
   ]
  },
  {
   "cell_type": "code",
   "execution_count": 26,
   "metadata": {
    "colab": {
     "base_uri": "https://localhost:8080/",
     "height": 338
    },
    "id": "hIO9udjZPlyd",
    "outputId": "2dd259fc-21ce-4e03-c36f-f6d0ce3f4984"
   },
   "outputs": [
    {
     "data": {
      "text/html": [
       "<table class=\"simpletable\">\n",
       "<caption>Logit Regression Results</caption>\n",
       "<tr>\n",
       "  <th>Dep. Variable:</th>         <td>admit</td>      <th>  No. Observations:  </th>  <td>   400</td>  \n",
       "</tr>\n",
       "<tr>\n",
       "  <th>Model:</th>                 <td>Logit</td>      <th>  Df Residuals:      </th>  <td>   394</td>  \n",
       "</tr>\n",
       "<tr>\n",
       "  <th>Method:</th>                 <td>MLE</td>       <th>  Df Model:          </th>  <td>     5</td>  \n",
       "</tr>\n",
       "<tr>\n",
       "  <th>Date:</th>            <td>Sun, 26 May 2024</td> <th>  Pseudo R-squ.:     </th>  <td>0.08292</td> \n",
       "</tr>\n",
       "<tr>\n",
       "  <th>Time:</th>                <td>09:38:50</td>     <th>  Log-Likelihood:    </th> <td> -229.26</td> \n",
       "</tr>\n",
       "<tr>\n",
       "  <th>converged:</th>             <td>True</td>       <th>  LL-Null:           </th> <td> -249.99</td> \n",
       "</tr>\n",
       "<tr>\n",
       "  <th>Covariance Type:</th>     <td>nonrobust</td>    <th>  LLR p-value:       </th> <td>7.578e-08</td>\n",
       "</tr>\n",
       "</table>\n",
       "<table class=\"simpletable\">\n",
       "<tr>\n",
       "      <td></td>         <th>coef</th>     <th>std err</th>      <th>z</th>      <th>P>|z|</th>  <th>[0.025</th>    <th>0.975]</th>  \n",
       "</tr>\n",
       "<tr>\n",
       "  <th>Intercept</th> <td>   -3.9900</td> <td>    1.140</td> <td>   -3.500</td> <td> 0.000</td> <td>   -6.224</td> <td>   -1.756</td>\n",
       "</tr>\n",
       "<tr>\n",
       "  <th>rank[T.2]</th> <td>   -0.6754</td> <td>    0.316</td> <td>   -2.134</td> <td> 0.033</td> <td>   -1.296</td> <td>   -0.055</td>\n",
       "</tr>\n",
       "<tr>\n",
       "  <th>rank[T.3]</th> <td>   -1.3402</td> <td>    0.345</td> <td>   -3.881</td> <td> 0.000</td> <td>   -2.017</td> <td>   -0.663</td>\n",
       "</tr>\n",
       "<tr>\n",
       "  <th>rank[T.4]</th> <td>   -1.5515</td> <td>    0.418</td> <td>   -3.713</td> <td> 0.000</td> <td>   -2.370</td> <td>   -0.733</td>\n",
       "</tr>\n",
       "<tr>\n",
       "  <th>gre</th>       <td>    0.0023</td> <td>    0.001</td> <td>    2.070</td> <td> 0.038</td> <td>    0.000</td> <td>    0.004</td>\n",
       "</tr>\n",
       "<tr>\n",
       "  <th>gpa</th>       <td>    0.8040</td> <td>    0.332</td> <td>    2.423</td> <td> 0.015</td> <td>    0.154</td> <td>    1.454</td>\n",
       "</tr>\n",
       "</table>"
      ],
      "text/latex": [
       "\\begin{center}\n",
       "\\begin{tabular}{lclc}\n",
       "\\toprule\n",
       "\\textbf{Dep. Variable:}   &      admit       & \\textbf{  No. Observations:  } &      400    \\\\\n",
       "\\textbf{Model:}           &      Logit       & \\textbf{  Df Residuals:      } &      394    \\\\\n",
       "\\textbf{Method:}          &       MLE        & \\textbf{  Df Model:          } &        5    \\\\\n",
       "\\textbf{Date:}            & Sun, 26 May 2024 & \\textbf{  Pseudo R-squ.:     } &  0.08292    \\\\\n",
       "\\textbf{Time:}            &     09:38:50     & \\textbf{  Log-Likelihood:    } &   -229.26   \\\\\n",
       "\\textbf{converged:}       &       True       & \\textbf{  LL-Null:           } &   -249.99   \\\\\n",
       "\\textbf{Covariance Type:} &    nonrobust     & \\textbf{  LLR p-value:       } & 7.578e-08   \\\\\n",
       "\\bottomrule\n",
       "\\end{tabular}\n",
       "\\begin{tabular}{lcccccc}\n",
       "                   & \\textbf{coef} & \\textbf{std err} & \\textbf{z} & \\textbf{P$> |$z$|$} & \\textbf{[0.025} & \\textbf{0.975]}  \\\\\n",
       "\\midrule\n",
       "\\textbf{Intercept} &      -3.9900  &        1.140     &    -3.500  &         0.000        &       -6.224    &       -1.756     \\\\\n",
       "\\textbf{rank[T.2]} &      -0.6754  &        0.316     &    -2.134  &         0.033        &       -1.296    &       -0.055     \\\\\n",
       "\\textbf{rank[T.3]} &      -1.3402  &        0.345     &    -3.881  &         0.000        &       -2.017    &       -0.663     \\\\\n",
       "\\textbf{rank[T.4]} &      -1.5515  &        0.418     &    -3.713  &         0.000        &       -2.370    &       -0.733     \\\\\n",
       "\\textbf{gre}       &       0.0023  &        0.001     &     2.070  &         0.038        &        0.000    &        0.004     \\\\\n",
       "\\textbf{gpa}       &       0.8040  &        0.332     &     2.423  &         0.015        &        0.154    &        1.454     \\\\\n",
       "\\bottomrule\n",
       "\\end{tabular}\n",
       "%\\caption{Logit Regression Results}\n",
       "\\end{center}"
      ],
      "text/plain": [
       "<class 'statsmodels.iolib.summary.Summary'>\n",
       "\"\"\"\n",
       "                           Logit Regression Results                           \n",
       "==============================================================================\n",
       "Dep. Variable:                  admit   No. Observations:                  400\n",
       "Model:                          Logit   Df Residuals:                      394\n",
       "Method:                           MLE   Df Model:                            5\n",
       "Date:                Sun, 26 May 2024   Pseudo R-squ.:                 0.08292\n",
       "Time:                        09:38:50   Log-Likelihood:                -229.26\n",
       "converged:                       True   LL-Null:                       -249.99\n",
       "Covariance Type:            nonrobust   LLR p-value:                 7.578e-08\n",
       "==============================================================================\n",
       "                 coef    std err          z      P>|z|      [0.025      0.975]\n",
       "------------------------------------------------------------------------------\n",
       "Intercept     -3.9900      1.140     -3.500      0.000      -6.224      -1.756\n",
       "rank[T.2]     -0.6754      0.316     -2.134      0.033      -1.296      -0.055\n",
       "rank[T.3]     -1.3402      0.345     -3.881      0.000      -2.017      -0.663\n",
       "rank[T.4]     -1.5515      0.418     -3.713      0.000      -2.370      -0.733\n",
       "gre            0.0023      0.001      2.070      0.038       0.000       0.004\n",
       "gpa            0.8040      0.332      2.423      0.015       0.154       1.454\n",
       "==============================================================================\n",
       "\"\"\""
      ]
     },
     "execution_count": 26,
     "metadata": {},
     "output_type": "execute_result"
    }
   ],
   "source": [
    "mylogit.summary()"
   ]
  },
  {
   "cell_type": "code",
   "execution_count": 27,
   "metadata": {
    "colab": {
     "base_uri": "https://localhost:8080/",
     "height": 342
    },
    "id": "mL-4zteTFycJ",
    "outputId": "23a6cfc8-626f-45da-c874-728488959b0d"
   },
   "outputs": [
    {
     "data": {
      "text/html": [
       "<table class=\"simpletable\">\n",
       "<tr>\n",
       "        <td>Model:</td>              <td>Logit</td>           <td>Method:</td>          <td>MLE</td>   \n",
       "</tr>\n",
       "<tr>\n",
       "  <td>Dependent Variable:</td>       <td>admit</td>      <td>Pseudo R-squared:</td>    <td>0.083</td>  \n",
       "</tr>\n",
       "<tr>\n",
       "         <td>Date:</td>        <td>2024-05-26 09:38</td>       <td>AIC:</td>         <td>470.5175</td> \n",
       "</tr>\n",
       "<tr>\n",
       "   <td>No. Observations:</td>         <td>400</td>             <td>BIC:</td>         <td>494.4663</td> \n",
       "</tr>\n",
       "<tr>\n",
       "       <td>Df Model:</td>              <td>5</td>         <td>Log-Likelihood:</td>    <td>-229.26</td> \n",
       "</tr>\n",
       "<tr>\n",
       "     <td>Df Residuals:</td>           <td>394</td>           <td>LL-Null:</td>        <td>-249.99</td> \n",
       "</tr>\n",
       "<tr>\n",
       "      <td>Converged:</td>           <td>1.0000</td>        <td>LLR p-value:</td>    <td>7.5782e-08</td>\n",
       "</tr>\n",
       "<tr>\n",
       "    <td>No. Iterations:</td>        <td>6.0000</td>           <td>Scale:</td>         <td>1.0000</td>  \n",
       "</tr>\n",
       "</table>\n",
       "<table class=\"simpletable\">\n",
       "<tr>\n",
       "      <td></td>       <th>Coef.</th>  <th>Std.Err.</th>    <th>z</th>     <th>P>|z|</th> <th>[0.025</th>  <th>0.975]</th> \n",
       "</tr>\n",
       "<tr>\n",
       "  <th>Intercept</th> <td>-3.9900</td>  <td>1.1400</td>  <td>-3.5001</td> <td>0.0005</td> <td>-6.2242</td> <td>-1.7557</td>\n",
       "</tr>\n",
       "<tr>\n",
       "  <th>rank[T.2]</th> <td>-0.6754</td>  <td>0.3165</td>  <td>-2.1342</td> <td>0.0328</td> <td>-1.2958</td> <td>-0.0551</td>\n",
       "</tr>\n",
       "<tr>\n",
       "  <th>rank[T.3]</th> <td>-1.3402</td>  <td>0.3453</td>  <td>-3.8812</td> <td>0.0001</td> <td>-2.0170</td> <td>-0.6634</td>\n",
       "</tr>\n",
       "<tr>\n",
       "  <th>rank[T.4]</th> <td>-1.5515</td>  <td>0.4178</td>  <td>-3.7131</td> <td>0.0002</td> <td>-2.3704</td> <td>-0.7325</td>\n",
       "</tr>\n",
       "<tr>\n",
       "  <th>gre</th>       <td>0.0023</td>   <td>0.0011</td>  <td>2.0699</td>  <td>0.0385</td> <td>0.0001</td>  <td>0.0044</td> \n",
       "</tr>\n",
       "<tr>\n",
       "  <th>gpa</th>       <td>0.8040</td>   <td>0.3318</td>  <td>2.4231</td>  <td>0.0154</td> <td>0.1537</td>  <td>1.4544</td> \n",
       "</tr>\n",
       "</table><br/>\n"
      ],
      "text/latex": [
       "\\begin{table}\n",
       "\\caption{Results: Logit}\n",
       "\\label{}\n",
       "\\begin{center}\n",
       "\\begin{tabular}{llll}\n",
       "\\hline\n",
       "Model:              & Logit            & Method:           & MLE         \\\\\n",
       "Dependent Variable: & admit            & Pseudo R-squared: & 0.083       \\\\\n",
       "Date:               & 2024-05-26 09:38 & AIC:              & 470.5175    \\\\\n",
       "No. Observations:   & 400              & BIC:              & 494.4663    \\\\\n",
       "Df Model:           & 5                & Log-Likelihood:   & -229.26     \\\\\n",
       "Df Residuals:       & 394              & LL-Null:          & -249.99     \\\\\n",
       "Converged:          & 1.0000           & LLR p-value:      & 7.5782e-08  \\\\\n",
       "No. Iterations:     & 6.0000           & Scale:            & 1.0000      \\\\\n",
       "\\hline\n",
       "\\end{tabular}\n",
       "\\end{center}\n",
       "\n",
       "\\begin{center}\n",
       "\\begin{tabular}{lrrrrrr}\n",
       "\\hline\n",
       "          &   Coef. & Std.Err. &       z & P$> |$z$|$ &  [0.025 &  0.975]  \\\\\n",
       "\\hline\n",
       "Intercept & -3.9900 &   1.1400 & -3.5001 &      0.0005 & -6.2242 & -1.7557  \\\\\n",
       "rank[T.2] & -0.6754 &   0.3165 & -2.1342 &      0.0328 & -1.2958 & -0.0551  \\\\\n",
       "rank[T.3] & -1.3402 &   0.3453 & -3.8812 &      0.0001 & -2.0170 & -0.6634  \\\\\n",
       "rank[T.4] & -1.5515 &   0.4178 & -3.7131 &      0.0002 & -2.3704 & -0.7325  \\\\\n",
       "gre       &  0.0023 &   0.0011 &  2.0699 &      0.0385 &  0.0001 &  0.0044  \\\\\n",
       "gpa       &  0.8040 &   0.3318 &  2.4231 &      0.0154 &  0.1537 &  1.4544  \\\\\n",
       "\\hline\n",
       "\\end{tabular}\n",
       "\\end{center}\n",
       "\\end{table}\n",
       "\\bigskip\n"
      ],
      "text/plain": [
       "<class 'statsmodels.iolib.summary2.Summary'>\n",
       "\"\"\"\n",
       "                         Results: Logit\n",
       "=================================================================\n",
       "Model:              Logit            Method:           MLE       \n",
       "Dependent Variable: admit            Pseudo R-squared: 0.083     \n",
       "Date:               2024-05-26 09:38 AIC:              470.5175  \n",
       "No. Observations:   400              BIC:              494.4663  \n",
       "Df Model:           5                Log-Likelihood:   -229.26   \n",
       "Df Residuals:       394              LL-Null:          -249.99   \n",
       "Converged:          1.0000           LLR p-value:      7.5782e-08\n",
       "No. Iterations:     6.0000           Scale:            1.0000    \n",
       "------------------------------------------------------------------\n",
       "               Coef.   Std.Err.     z     P>|z|    [0.025   0.975]\n",
       "------------------------------------------------------------------\n",
       "Intercept     -3.9900    1.1400  -3.5001  0.0005  -6.2242  -1.7557\n",
       "rank[T.2]     -0.6754    0.3165  -2.1342  0.0328  -1.2958  -0.0551\n",
       "rank[T.3]     -1.3402    0.3453  -3.8812  0.0001  -2.0170  -0.6634\n",
       "rank[T.4]     -1.5515    0.4178  -3.7131  0.0002  -2.3704  -0.7325\n",
       "gre            0.0023    0.0011   2.0699  0.0385   0.0001   0.0044\n",
       "gpa            0.8040    0.3318   2.4231  0.0154   0.1537   1.4544\n",
       "=================================================================\n",
       "\n",
       "\"\"\""
      ]
     },
     "execution_count": 27,
     "metadata": {},
     "output_type": "execute_result"
    }
   ],
   "source": [
    "mylogit.summary2()"
   ]
  },
  {
   "cell_type": "code",
   "execution_count": 28,
   "metadata": {
    "id": "xAwggjiSG39p"
   },
   "outputs": [],
   "source": [
    "# mylogit.__dict__"
   ]
  },
  {
   "cell_type": "code",
   "execution_count": 29,
   "metadata": {
    "colab": {
     "base_uri": "https://localhost:8080/",
     "height": 237
    },
    "id": "VtTOFSIEIi4l",
    "outputId": "75e8ac43-dbae-4e86-f5e8-068a23ac59c6"
   },
   "outputs": [
    {
     "data": {
      "text/plain": [
       "Intercept   -3.989979\n",
       "rank[T.2]   -0.675443\n",
       "rank[T.3]   -1.340204\n",
       "rank[T.4]   -1.551464\n",
       "gre          0.002264\n",
       "gpa          0.804038\n",
       "dtype: float64"
      ]
     },
     "execution_count": 29,
     "metadata": {},
     "output_type": "execute_result"
    }
   ],
   "source": [
    "mylogit.params"
   ]
  },
  {
   "cell_type": "code",
   "execution_count": null,
   "metadata": {
    "id": "y4X5jBrHIotc"
   },
   "outputs": [],
   "source": []
  },
  {
   "cell_type": "code",
   "execution_count": null,
   "metadata": {
    "id": "0JuhMQsyOkP2"
   },
   "outputs": [],
   "source": []
  },
  {
   "cell_type": "code",
   "execution_count": null,
   "metadata": {
    "id": "P4x0Skj2PxYj"
   },
   "outputs": [],
   "source": []
  },
  {
   "cell_type": "markdown",
   "metadata": {
    "id": "4bKgDH66PyOv"
   },
   "source": [
    "The above model uses the rank=1 as the reference category an the log odds reported are with respect to this catrgory\n",
    "\n",
    "log(accept|rank=1)/log(accept|rank=2) = rank[T.2] \t-0.675443\n",
    "\n",
    "etc. for others\n",
    "rank[T.3] \t-1.340204\n",
    "rank[T.4] \t-1.551464\n",
    "\n",
    "\n",
    "\n",
    "## Statement of the problem\n",
    "\n",
    "How can we obtain the log odds with respect to another reference category, e.g. rank=2 "
   ]
  },
  {
   "cell_type": "code",
   "execution_count": 13,
   "metadata": {
    "id": "ccomVWKFOkV2"
   },
   "outputs": [],
   "source": [
    "\n",
    "# Option one: custom function that permutes categories to put rank 2 as reference\n",
    "# https://www.statsmodels.org/stable/example_formulas.html#functions"
   ]
  },
  {
   "cell_type": "code",
   "execution_count": 14,
   "metadata": {
    "id": "zVgwtrMTOuYO"
   },
   "outputs": [],
   "source": [
    "# Option 2: order categoricals so rank=2 comes first in the list at creation time\n",
    "mydata2 = raw_data.copy()\n",
    "mydata2['rank'] = pd.Categorical(mydata2['rank'], categories=[2,1,3,4])"
   ]
  },
  {
   "cell_type": "code",
   "execution_count": 15,
   "metadata": {
    "colab": {
     "base_uri": "https://localhost:8080/",
     "height": 393
    },
    "id": "NkLDcATEQvE8",
    "outputId": "31f3b51c-2ace-4b93-e06a-7c2e71ac06d9"
   },
   "outputs": [
    {
     "name": "stdout",
     "output_type": "stream",
     "text": [
      "Optimization terminated successfully.\n",
      "         Current function value: 0.573147\n",
      "         Iterations 6\n"
     ]
    },
    {
     "data": {
      "text/html": [
       "<table class=\"simpletable\">\n",
       "<caption>MNLogit Regression Results</caption>\n",
       "<tr>\n",
       "  <th>Dep. Variable:</th>         <td>admit</td>      <th>  No. Observations:  </th>  <td>   400</td>  \n",
       "</tr>\n",
       "<tr>\n",
       "  <th>Model:</th>                <td>MNLogit</td>     <th>  Df Residuals:      </th>  <td>   394</td>  \n",
       "</tr>\n",
       "<tr>\n",
       "  <th>Method:</th>                 <td>MLE</td>       <th>  Df Model:          </th>  <td>     5</td>  \n",
       "</tr>\n",
       "<tr>\n",
       "  <th>Date:</th>            <td>Fri, 24 May 2024</td> <th>  Pseudo R-squ.:     </th>  <td>0.08292</td> \n",
       "</tr>\n",
       "<tr>\n",
       "  <th>Time:</th>                <td>12:26:27</td>     <th>  Log-Likelihood:    </th> <td> -229.26</td> \n",
       "</tr>\n",
       "<tr>\n",
       "  <th>converged:</th>             <td>True</td>       <th>  LL-Null:           </th> <td> -249.99</td> \n",
       "</tr>\n",
       "<tr>\n",
       "  <th>Covariance Type:</th>     <td>nonrobust</td>    <th>  LLR p-value:       </th> <td>7.578e-08</td>\n",
       "</tr>\n",
       "</table>\n",
       "<table class=\"simpletable\">\n",
       "<tr>\n",
       "   <th>admit=1</th>     <th>coef</th>     <th>std err</th>      <th>z</th>      <th>P>|z|</th>  <th>[0.025</th>    <th>0.975]</th>  \n",
       "</tr>\n",
       "<tr>\n",
       "  <th>Intercept</th> <td>   -4.6654</td> <td>    1.109</td> <td>   -4.205</td> <td> 0.000</td> <td>   -6.840</td> <td>   -2.491</td>\n",
       "</tr>\n",
       "<tr>\n",
       "  <th>rank[T.1]</th> <td>    0.6754</td> <td>    0.316</td> <td>    2.134</td> <td> 0.033</td> <td>    0.055</td> <td>    1.296</td>\n",
       "</tr>\n",
       "<tr>\n",
       "  <th>rank[T.3]</th> <td>   -0.6648</td> <td>    0.283</td> <td>   -2.346</td> <td> 0.019</td> <td>   -1.220</td> <td>   -0.109</td>\n",
       "</tr>\n",
       "<tr>\n",
       "  <th>rank[T.4]</th> <td>   -0.8760</td> <td>    0.367</td> <td>   -2.389</td> <td> 0.017</td> <td>   -1.595</td> <td>   -0.157</td>\n",
       "</tr>\n",
       "<tr>\n",
       "  <th>gre</th>       <td>    0.0023</td> <td>    0.001</td> <td>    2.070</td> <td> 0.038</td> <td>    0.000</td> <td>    0.004</td>\n",
       "</tr>\n",
       "<tr>\n",
       "  <th>gpa</th>       <td>    0.8040</td> <td>    0.332</td> <td>    2.423</td> <td> 0.015</td> <td>    0.154</td> <td>    1.454</td>\n",
       "</tr>\n",
       "</table>"
      ],
      "text/latex": [
       "\\begin{center}\n",
       "\\begin{tabular}{lclc}\n",
       "\\toprule\n",
       "\\textbf{Dep. Variable:}   &      admit       & \\textbf{  No. Observations:  } &      400    \\\\\n",
       "\\textbf{Model:}           &     MNLogit      & \\textbf{  Df Residuals:      } &      394    \\\\\n",
       "\\textbf{Method:}          &       MLE        & \\textbf{  Df Model:          } &        5    \\\\\n",
       "\\textbf{Date:}            & Fri, 24 May 2024 & \\textbf{  Pseudo R-squ.:     } &  0.08292    \\\\\n",
       "\\textbf{Time:}            &     12:26:27     & \\textbf{  Log-Likelihood:    } &   -229.26   \\\\\n",
       "\\textbf{converged:}       &       True       & \\textbf{  LL-Null:           } &   -249.99   \\\\\n",
       "\\textbf{Covariance Type:} &    nonrobust     & \\textbf{  LLR p-value:       } & 7.578e-08   \\\\\n",
       "\\bottomrule\n",
       "\\end{tabular}\n",
       "\\begin{tabular}{ccccccc}\n",
       " \\textbf{admit=1}  & \\textbf{coef} & \\textbf{std err} & \\textbf{z} & \\textbf{P$> |$z$|$} & \\textbf{[0.025} & \\textbf{0.975]}  \\\\\n",
       "\\midrule\n",
       "\\bottomrule\n",
       "\\end{tabular}\n",
       "\\begin{tabular}{lcccccc}\n",
       "\\textbf{Intercept} &      -4.6654  &        1.109     &    -4.205  &         0.000        &       -6.840    &       -2.491     \\\\\n",
       "\\textbf{rank[T.1]} &       0.6754  &        0.316     &     2.134  &         0.033        &        0.055    &        1.296     \\\\\n",
       "\\textbf{rank[T.3]} &      -0.6648  &        0.283     &    -2.346  &         0.019        &       -1.220    &       -0.109     \\\\\n",
       "\\textbf{rank[T.4]} &      -0.8760  &        0.367     &    -2.389  &         0.017        &       -1.595    &       -0.157     \\\\\n",
       "\\textbf{gre}       &       0.0023  &        0.001     &     2.070  &         0.038        &        0.000    &        0.004     \\\\\n",
       "\\textbf{gpa}       &       0.8040  &        0.332     &     2.423  &         0.015        &        0.154    &        1.454     \\\\\n",
       "\\bottomrule\n",
       "\\end{tabular}\n",
       "%\\caption{MNLogit Regression Results}\n",
       "\\end{center}"
      ],
      "text/plain": [
       "<class 'statsmodels.iolib.summary.Summary'>\n",
       "\"\"\"\n",
       "                          MNLogit Regression Results                          \n",
       "==============================================================================\n",
       "Dep. Variable:                  admit   No. Observations:                  400\n",
       "Model:                        MNLogit   Df Residuals:                      394\n",
       "Method:                           MLE   Df Model:                            5\n",
       "Date:                Fri, 24 May 2024   Pseudo R-squ.:                 0.08292\n",
       "Time:                        12:26:27   Log-Likelihood:                -229.26\n",
       "converged:                       True   LL-Null:                       -249.99\n",
       "Covariance Type:            nonrobust   LLR p-value:                 7.578e-08\n",
       "==============================================================================\n",
       "   admit=1       coef    std err          z      P>|z|      [0.025      0.975]\n",
       "------------------------------------------------------------------------------\n",
       "Intercept     -4.6654      1.109     -4.205      0.000      -6.840      -2.491\n",
       "rank[T.1]      0.6754      0.316      2.134      0.033       0.055       1.296\n",
       "rank[T.3]     -0.6648      0.283     -2.346      0.019      -1.220      -0.109\n",
       "rank[T.4]     -0.8760      0.367     -2.389      0.017      -1.595      -0.157\n",
       "gre            0.0023      0.001      2.070      0.038       0.000       0.004\n",
       "gpa            0.8040      0.332      2.423      0.015       0.154       1.454\n",
       "==============================================================================\n",
       "\"\"\""
      ]
     },
     "execution_count": 15,
     "metadata": {},
     "output_type": "execute_result"
    }
   ],
   "source": [
    "mylogit2 = smf.mnlogit(\n",
    "    'admit ~ gre + gpa + rank',\n",
    "    data=mydata2\n",
    ").fit()\n",
    "\n",
    "mylogit2.summary()"
   ]
  },
  {
   "cell_type": "code",
   "execution_count": 16,
   "metadata": {
    "colab": {
     "base_uri": "https://localhost:8080/",
     "height": 237
    },
    "id": "QYI0mzPQRMVg",
    "outputId": "e9c925b2-e837-4d5b-aac2-196a502f8b1c"
   },
   "outputs": [
    {
     "data": {
      "text/html": [
       "<div>\n",
       "<style scoped>\n",
       "    .dataframe tbody tr th:only-of-type {\n",
       "        vertical-align: middle;\n",
       "    }\n",
       "\n",
       "    .dataframe tbody tr th {\n",
       "        vertical-align: top;\n",
       "    }\n",
       "\n",
       "    .dataframe thead th {\n",
       "        text-align: right;\n",
       "    }\n",
       "</style>\n",
       "<table border=\"1\" class=\"dataframe\">\n",
       "  <thead>\n",
       "    <tr style=\"text-align: right;\">\n",
       "      <th></th>\n",
       "      <th>0</th>\n",
       "    </tr>\n",
       "  </thead>\n",
       "  <tbody>\n",
       "    <tr>\n",
       "      <th>Intercept</th>\n",
       "      <td>-4.665422</td>\n",
       "    </tr>\n",
       "    <tr>\n",
       "      <th>rank[T.1]</th>\n",
       "      <td>0.675443</td>\n",
       "    </tr>\n",
       "    <tr>\n",
       "      <th>rank[T.3]</th>\n",
       "      <td>-0.664761</td>\n",
       "    </tr>\n",
       "    <tr>\n",
       "      <th>rank[T.4]</th>\n",
       "      <td>-0.876021</td>\n",
       "    </tr>\n",
       "    <tr>\n",
       "      <th>gre</th>\n",
       "      <td>0.002264</td>\n",
       "    </tr>\n",
       "    <tr>\n",
       "      <th>gpa</th>\n",
       "      <td>0.804038</td>\n",
       "    </tr>\n",
       "  </tbody>\n",
       "</table>\n",
       "</div>"
      ],
      "text/plain": [
       "                  0\n",
       "Intercept -4.665422\n",
       "rank[T.1]  0.675443\n",
       "rank[T.3] -0.664761\n",
       "rank[T.4] -0.876021\n",
       "gre        0.002264\n",
       "gpa        0.804038"
      ]
     },
     "execution_count": 16,
     "metadata": {},
     "output_type": "execute_result"
    }
   ],
   "source": [
    "mylogit2.params"
   ]
  },
  {
   "cell_type": "code",
   "execution_count": 17,
   "metadata": {
    "colab": {
     "base_uri": "https://localhost:8080/"
    },
    "id": "n2MbafKGSquS",
    "outputId": "a488ad99-6998-464f-ebdf-e27e8d70a26d"
   },
   "outputs": [
    {
     "data": {
      "text/plain": [
       "-4.665422001294611"
      ]
     },
     "execution_count": 17,
     "metadata": {},
     "output_type": "execute_result"
    }
   ],
   "source": [
    "mylogit2.params[0]['Intercept']"
   ]
  },
  {
   "cell_type": "code",
   "execution_count": null,
   "metadata": {
    "id": "Xy-oWT07UR4E"
   },
   "outputs": [],
   "source": []
  },
  {
   "cell_type": "code",
   "execution_count": 18,
   "metadata": {
    "colab": {
     "base_uri": "https://localhost:8080/"
    },
    "id": "SjOvxhgfWjlr",
    "outputId": "855e4d13-d37c-46c2-f22c-ec088868f1f8"
   },
   "outputs": [
    {
     "data": {
      "text/plain": [
       "-0.664760988504329"
      ]
     },
     "execution_count": 18,
     "metadata": {},
     "output_type": "execute_result"
    }
   ],
   "source": [
    "# Option 3: calculate odds ratio R3/R2 based on data from mylogit\n",
    "# using arighmetic in log-space\n",
    "\n",
    "# From mylogit we have log odds\n",
    "#  log(R2/R1) = -0.675443\n",
    "#  log(R3/R1) = -1.340204\n",
    "\n",
    "log_R2_over_R1 = mylogit.params[0]['rank[T.2]']\n",
    "log_R3_over_R1 = mylogit.params[0]['rank[T.3]']\n",
    "\n",
    "# We want\n",
    "#  log(R3/R2)\n",
    "\n",
    "# in the odds-space (ratios of probs) the  calculatin is\n",
    "#    R3/R2 = (R3/R1) / (R2/R1) = R3_over_R1/R2_over_R1\n",
    "# in log-space\n",
    "#    log(R3/R2) = log(R3/R1) - log(R2/R1) = log_R2_over_R1 -log_R3_over_R1\n",
    "\n",
    "log_R3_over_R2 = log_R3_over_R1 - log_R2_over_R1\n",
    "log_R3_over_R2"
   ]
  },
  {
   "cell_type": "code",
   "execution_count": 19,
   "metadata": {
    "colab": {
     "base_uri": "https://localhost:8080/"
    },
    "id": "PxwVTHKOYqAn",
    "outputId": "e4a6528b-bd0b-481f-e2cf-0546e9f5a217"
   },
   "outputs": [
    {
     "data": {
      "text/plain": [
       "True"
      ]
     },
     "execution_count": 19,
     "metadata": {},
     "output_type": "execute_result"
    }
   ],
   "source": [
    "# check (by comparing to value obtained in mylogit2 where rank=2 is the reference)\n",
    "np.isclose(log_R3_over_R2, mylogit2.params[0]['rank[T.3]'])"
   ]
  },
  {
   "cell_type": "code",
   "execution_count": null,
   "metadata": {
    "id": "O8IBI_YaXkXy"
   },
   "outputs": [],
   "source": []
  },
  {
   "cell_type": "code",
   "execution_count": 20,
   "metadata": {
    "colab": {
     "base_uri": "https://localhost:8080/"
    },
    "id": "_1ZvKJQpZS01",
    "outputId": "4db4b82d-42d9-4335-8151-56264fe8e411"
   },
   "outputs": [
    {
     "data": {
      "text/plain": [
       "0.5143964596821655"
      ]
     },
     "execution_count": 20,
     "metadata": {},
     "output_type": "execute_result"
    }
   ],
   "source": [
    "# Option 4: calculate odds ratio R3/R2 based on data from mylogit\n",
    "# using arighmetic in probability space\n",
    "\n",
    "# From mylogit we have log odds\n",
    "#  log(R2/R1) = -0.675443\n",
    "#  log(R3/R1) = -1.340204\n",
    "\n",
    "R2_over_R1 = np.exp(mylogit.params[0]['rank[T.2]'])\n",
    "R3_over_R1 = np.exp(mylogit.params[0]['rank[T.3]'])\n",
    "\n",
    "# We want\n",
    "#  R3/R2\n",
    "\n",
    "# in the odds-space (ratios of probs) the  calculatin is\n",
    "#    R3/R2 = (R3/R1) / (R2/R1) = R3_over_R1/R2_over_R1\n",
    "\n",
    "R3_over_R2 = R3_over_R1/R2_over_R1\n",
    "R3_over_R2"
   ]
  },
  {
   "cell_type": "code",
   "execution_count": 21,
   "metadata": {
    "colab": {
     "base_uri": "https://localhost:8080/"
    },
    "id": "kb08xkUXaDdD",
    "outputId": "cabc7708-05e8-4efc-8024-b74c125b3fa7"
   },
   "outputs": [
    {
     "data": {
      "text/plain": [
       "True"
      ]
     },
     "execution_count": 21,
     "metadata": {},
     "output_type": "execute_result"
    }
   ],
   "source": [
    "# check (by comparing log of odds ratio to value obtained in mylogit2)\n",
    "np.isclose(np.log(R3_over_R2), mylogit2.params[0]['rank[T.3]'])"
   ]
  },
  {
   "cell_type": "code",
   "execution_count": null,
   "metadata": {
    "id": "UOHOGrWHaFdB"
   },
   "outputs": [],
   "source": []
  }
 ],
 "metadata": {
  "colab": {
   "name": "LogisticRegressionChangeOfReferenceCategoricalValue.ipynb",
   "provenance": []
  },
  "kernelspec": {
   "display_name": "Python 3 (ipykernel)",
   "language": "python",
   "name": "python3"
  },
  "language_info": {
   "codemirror_mode": {
    "name": "ipython",
    "version": 3
   },
   "file_extension": ".py",
   "mimetype": "text/x-python",
   "name": "python",
   "nbconvert_exporter": "python",
   "pygments_lexer": "ipython3",
   "version": "3.9.4"
  }
 },
 "nbformat": 4,
 "nbformat_minor": 4
}
