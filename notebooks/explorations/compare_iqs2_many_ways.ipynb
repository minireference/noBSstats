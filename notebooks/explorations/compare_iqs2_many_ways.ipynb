{
 "cells": [
  {
   "cell_type": "markdown",
   "id": "542a7cbf-232e-405e-9714-297abbfd3dea",
   "metadata": {},
   "source": [
    "# Analysis of the `iqs2` dataset  \n",
    "\n",
    "\n",
    "We'll now use from original BEST paper\n",
    "\n",
    "Data taken from `BESTexample-original.R` in `BEST.zip`\n",
    "via https://web.archive.org/web/20170708173718/https://www.indiana.edu/~kruschke/BEST/\n",
    "\n",
    "Steps following Matti Vuorre's [blog post](https://mvuorre.github.io/posts/2017-01-02-how-to-compare-two-groups-with-robust-bayesian-estimation-using-r-stan-and-brms/) see also [src](https://github.com/mvuorre/mvuorre.github.io/tree/main/posts/2017-01-02-how-to-compare-two-groups-with-robust-bayesian-estimation-using-r-stan-and-brms) notebook."
   ]
  },
  {
   "cell_type": "code",
   "execution_count": null,
   "id": "69ea2619-780e-4117-9904-a62e163a650d",
   "metadata": {},
   "outputs": [],
   "source": []
  },
  {
   "cell_type": "markdown",
   "id": "a6149e6b-bf48-4143-9e19-0b1db6b105e1",
   "metadata": {},
   "source": [
    "### Data"
   ]
  },
  {
   "cell_type": "code",
   "execution_count": 1,
   "id": "329372c0-3b95-494a-b0ac-89b9aede5b1e",
   "metadata": {},
   "outputs": [
    {
     "ename": "NameError",
     "evalue": "name 'pd' is not defined",
     "output_type": "error",
     "traceback": [
      "\u001b[0;31m---------------------------------------------------------------------------\u001b[0m",
      "\u001b[0;31mNameError\u001b[0m                                 Traceback (most recent call last)",
      "Cell \u001b[0;32mIn[1], line 1\u001b[0m\n\u001b[0;32m----> 1\u001b[0m iqs2 \u001b[38;5;241m=\u001b[39m \u001b[43mpd\u001b[49m\u001b[38;5;241m.\u001b[39mread_csv(\u001b[38;5;124m\"\u001b[39m\u001b[38;5;124m../datasets/iqs2.csv\u001b[39m\u001b[38;5;124m\"\u001b[39m)\n\u001b[1;32m      2\u001b[0m iqs2\u001b[38;5;241m.\u001b[39mgroupby(\u001b[38;5;124m\"\u001b[39m\u001b[38;5;124mgroup\u001b[39m\u001b[38;5;124m\"\u001b[39m)\u001b[38;5;241m.\u001b[39mdescribe()\n",
      "\u001b[0;31mNameError\u001b[0m: name 'pd' is not defined"
     ]
    }
   ],
   "source": [
    "iqs2 = pd.read_csv(\"../datasets/iqs2.csv\")\n",
    "iqs2.groupby(\"group\").describe()"
   ]
  },
  {
   "cell_type": "code",
   "execution_count": null,
   "id": "ce553b50-d548-48e5-9327-63a19cc24471",
   "metadata": {},
   "outputs": [],
   "source": [
    "sns.histplot(data=iqs2, x=\"iq\", hue=\"group\");"
   ]
  },
  {
   "cell_type": "markdown",
   "id": "93758497-049b-46ba-a650-9b3fe17e46b2",
   "metadata": {},
   "source": [
    "### BEST model 1: un-shifted exponential prior on nu"
   ]
  },
  {
   "cell_type": "code",
   "execution_count": null,
   "id": "c99a55bd-7e7d-492c-8e85-5ab3f0b572bf",
   "metadata": {},
   "outputs": [],
   "source": [
    "import bambi as bmb\n",
    "import pymc as pm\n",
    "\n",
    "#######################################################\n",
    "formula1 = bmb.Formula(\"iq ~ 0 + group\",\n",
    "                       \"sigma ~ 0 + group\")\n",
    "\n",
    "iqs_mean, iqs_std = iqs2[\"iq\"].mean(), iqs2[\"iq\"].std()\n",
    "sigma_low = np.log(iqs_std / 1000)\n",
    "sigma_up = np.log(iqs_std * 1000)\n",
    "\n",
    "priors1 = {\n",
    "    \"group\": bmb.Prior(\"Normal\", mu=iqs_mean, sigma=1000*iqs_std),\n",
    "    \"sigma\": {\"group\": bmb.Prior(\"Uniform\", lower=sigma_low, upper=sigma_up)},\n",
    "    \"nu\": bmb.Prior(\"Exponential\", lam=1/29),\n",
    "}\n",
    "\n",
    "\n",
    "# Build model\n",
    "mod1 = bmb.Model(formula=formula1,\n",
    "                 family=\"t\",\n",
    "                 priors=priors1,\n",
    "                 data=iqs2)\n",
    "mod1"
   ]
  },
  {
   "cell_type": "code",
   "execution_count": null,
   "id": "cc62489f-ab6c-43da-9267-139492583a21",
   "metadata": {},
   "outputs": [],
   "source": [
    "mod1.build()\n",
    "mod1.backend.model"
   ]
  },
  {
   "cell_type": "code",
   "execution_count": null,
   "id": "cb6026ce-0e07-40e3-8e24-716d1673e38e",
   "metadata": {},
   "outputs": [],
   "source": [
    "mod1.graph()"
   ]
  },
  {
   "cell_type": "code",
   "execution_count": null,
   "id": "d777d008-31a1-4fe2-bdf0-c09c06b8fbfe",
   "metadata": {},
   "outputs": [],
   "source": [
    "idata1 = mod1.fit(draws=10000)"
   ]
  },
  {
   "cell_type": "code",
   "execution_count": null,
   "id": "cef89af6-11db-4c3b-a7ed-aa7a9fde195c",
   "metadata": {},
   "outputs": [],
   "source": [
    "az.plot_trace(idata1);"
   ]
  },
  {
   "cell_type": "code",
   "execution_count": null,
   "id": "8773895e-0893-4c45-99ab-76c228b3ce85",
   "metadata": {
    "editable": true,
    "slideshow": {
     "slide_type": ""
    },
    "tags": []
   },
   "outputs": [],
   "source": [
    "# Calculate relevant quantities\n",
    "\n",
    "# Difference posterior of the difference between means\n",
    "post1 = idata1[\"posterior\"]\n",
    "\n",
    "post1_dmeans = post1[\"group\"][:,:,1] - post1[\"group\"][:,:,0]\n",
    "# ALT. post1[\"group\"].sel(group_dim=\"treat\") - post1[\"group\"].sel(group_dim=\"ctrl\")\n",
    "post1[\"dmeans\"] = post1_dmeans\n",
    "\n",
    "# Sigmas from log-sigmas\n",
    "post1[\"sigma_treat\"] = np.exp(post1[\"sigma_group\"][:,:,1])\n",
    "post1[\"sigma_ctrl\"] = np.exp(post1[\"sigma_group\"][:,:,0])\n",
    "\n",
    "# # log-nu from nu\n",
    "post1[\"log_nu\"] = np.log10(post1[\"nu\"])\n",
    "\n",
    "# Difference in standard deviations\n",
    "post1[\"dstd\"] = post1[\"sigma_treat\"] - post1[\"sigma_ctrl\"]\n",
    "\n",
    "# Effect size\n",
    "var_pooled = (post1[\"sigma_treat\"]**2 + post1[\"sigma_ctrl\"]**2) / 2\n",
    "post1[\"cohend\"] = post1[\"dmeans\"] / np.sqrt(var_pooled)"
   ]
  },
  {
   "cell_type": "code",
   "execution_count": null,
   "id": "18da2584-63a8-49a0-9e13-6444065289bd",
   "metadata": {},
   "outputs": [],
   "source": [
    "import arviz as az\n",
    "az.summary(idata1, kind=\"stats\", hdi_prob=0.95)"
   ]
  },
  {
   "cell_type": "code",
   "execution_count": null,
   "id": "5e27b527-1393-42fb-ae7e-ce100c8ce190",
   "metadata": {},
   "outputs": [],
   "source": [
    "az.plot_posterior(idata1, round_to=4, hdi_prob=0.95, point_estimate=\"mode\");"
   ]
  },
  {
   "cell_type": "markdown",
   "id": "43d917c1-5c45-4fbd-a948-1cce6bdc98d7",
   "metadata": {},
   "source": [
    "## BEST model from external library"
   ]
  },
  {
   "cell_type": "code",
   "execution_count": null,
   "id": "15ea31b0-c599-41e5-9828-c96763ab2e24",
   "metadata": {},
   "outputs": [],
   "source": [
    "(1/1000) ** 2 == 0.000001"
   ]
  },
  {
   "cell_type": "code",
   "execution_count": null,
   "id": "d1126499-4a5a-48aa-b841-ad2e66343b3b",
   "metadata": {
    "scrolled": true
   },
   "outputs": [],
   "source": [
    "import best\n",
    "\n",
    "treated = iqs2[iqs2[\"group\"]==\"treat\"][\"iq\"].values\n",
    "controls = iqs2[iqs2[\"group\"]==\"ctrl\"][\"iq\"].values\n",
    "best_out = best.analyze_two(treated, controls, version=\"v1\", n_samples=10000)\n",
    "best_out"
   ]
  },
  {
   "cell_type": "code",
   "execution_count": null,
   "id": "fedd16b4-4ead-4408-984b-be466748d37c",
   "metadata": {},
   "outputs": [],
   "source": [
    "# best.plot_all(best_out);"
   ]
  },
  {
   "cell_type": "markdown",
   "id": "42497b85-def1-47fb-9b1d-81a9a9d6e33c",
   "metadata": {},
   "source": [
    "### BEST model 2: shifted exponential prior on nu"
   ]
  },
  {
   "cell_type": "code",
   "execution_count": null,
   "id": "fc6eb1b5-38eb-4076-946e-1d09368af968",
   "metadata": {},
   "outputs": [],
   "source": [
    "import bambi as bmb\n",
    "import pymc as pm\n",
    "\n",
    "#######################################################\n",
    "formula1 = bmb.Formula(\"iq ~ 0 + group\",\n",
    "                       \"sigma ~ 0 + group\")\n",
    "\n",
    "\n",
    "iqs_mean, iqs_std = iqs2[\"iq\"].mean(), iqs2[\"iq\"].std()\n",
    "sigma_low = np.log(iqs_std / 1000)\n",
    "sigma_up = np.log(iqs_std * 1000)\n",
    "\n",
    "def TruncatedExponential(name, lam, *args, dims=None, **kwargs):\n",
    "    exp = pm.Exponential.dist(lam=lam)\n",
    "    return pm.Truncated(name, exp, lower=1, *args, dims=dims, **kwargs)\n",
    "\n",
    "priors2 = {\n",
    "    \"group\": bmb.Prior(\"Normal\", mu=iqs_mean, sigma=1000*iqs_std),\n",
    "    \"sigma\": {\"group\": bmb.Prior(\"Uniform\", lower=sigma_low, upper=sigma_up)},\n",
    "    \"nu\": bmb.Prior(\"TruncatedExponential\", lam=1/29, dist=TruncatedExponential),\n",
    "}\n",
    "\n",
    "# Build model\n",
    "mod2 = bmb.Model(formula=formula1,\n",
    "                 family=\"t\",\n",
    "                 priors=priors2,\n",
    "                 data=iqs2)\n",
    "mod2"
   ]
  },
  {
   "cell_type": "code",
   "execution_count": null,
   "id": "ffaaa623-d809-4a2b-b399-c78261e464e8",
   "metadata": {},
   "outputs": [],
   "source": [
    "mod2.build()\n",
    "mod2.backend.model"
   ]
  },
  {
   "cell_type": "code",
   "execution_count": null,
   "id": "9d4cc77a-6ae9-4ac5-9143-a18cfb1fc758",
   "metadata": {},
   "outputs": [],
   "source": [
    "#mod2.plot_priors(var_names=[\"nu\"])"
   ]
  },
  {
   "cell_type": "code",
   "execution_count": null,
   "id": "296a92ca-cf99-43ae-8eaa-8c5cdb36a56e",
   "metadata": {},
   "outputs": [],
   "source": [
    "mod2.graph()"
   ]
  },
  {
   "cell_type": "code",
   "execution_count": null,
   "id": "24ec4fbc-466d-4e98-9331-4d476f0a613c",
   "metadata": {},
   "outputs": [],
   "source": [
    "idata2 = mod2.fit(draws=10000)"
   ]
  },
  {
   "cell_type": "code",
   "execution_count": null,
   "id": "f726cc2f-3646-40cf-b03c-f63160196b99",
   "metadata": {},
   "outputs": [],
   "source": [
    "az.plot_trace(idata1);"
   ]
  },
  {
   "cell_type": "code",
   "execution_count": null,
   "id": "8e3052c6-b3f1-41e5-84e5-931669965d5d",
   "metadata": {
    "editable": true,
    "slideshow": {
     "slide_type": ""
    },
    "tags": []
   },
   "outputs": [],
   "source": [
    "# Calculate relevant quantities\n",
    "\n",
    "# Difference posterior of the difference between means\n",
    "post2 = idata2[\"posterior\"]\n",
    "\n",
    "post2_dmeans = post2[\"group\"][:,:,1] - post1[\"group\"][:,:,0]\n",
    "# ALT. post2[\"group\"].sel(group_dim=\"treat\") - post2[\"group\"].sel(group_dim=\"ctrl\")\n",
    "post2[\"dmeans\"] = post2_dmeans\n",
    "\n",
    "# Sigmas from log-sigmas\n",
    "post2[\"sigma_treat\"] = np.exp(post2[\"sigma_group\"][:,:,1])\n",
    "post2[\"sigma_ctrl\"] = np.exp(post2[\"sigma_group\"][:,:,0])\n",
    "\n",
    "# # log-nu from nu\n",
    "post2[\"log_nu\"] = np.log10(post2[\"nu\"])\n",
    "\n",
    "# Difference in standard deviations\n",
    "post2[\"dstd\"] = post2[\"sigma_treat\"] - post2[\"sigma_ctrl\"]\n",
    "\n",
    "# Effect size\n",
    "var_pooled = (post2[\"sigma_treat\"]**2 + post2[\"sigma_ctrl\"]**2) / 2\n",
    "post2[\"cohend\"] = post2[\"dmeans\"] / np.sqrt(var_pooled)"
   ]
  },
  {
   "cell_type": "code",
   "execution_count": null,
   "id": "03b8c492-39ca-4c00-ba2e-6c8df468cb92",
   "metadata": {},
   "outputs": [],
   "source": [
    "import arviz as az\n",
    "az.summary(idata2, kind=\"stats\", hdi_prob=0.95)"
   ]
  },
  {
   "cell_type": "code",
   "execution_count": null,
   "id": "cdf01c77-3f73-44ca-bc2f-2eb69d321799",
   "metadata": {},
   "outputs": [],
   "source": [
    "az.plot_posterior(idata2, round_to=3, hdi_prob=0.95, point_estimate=\"mode\");"
   ]
  },
  {
   "cell_type": "markdown",
   "id": "e8a2e14c-e2a0-478b-a575-49c68d0e2228",
   "metadata": {},
   "source": [
    "## Comparison"
   ]
  },
  {
   "cell_type": "code",
   "execution_count": null,
   "id": "7dde6dc1-cc71-45ec-8a77-99899797ec8a",
   "metadata": {},
   "outputs": [],
   "source": [
    "# az.plot_forest([idata1,idata2], model_names=[\"unshifted\", \"shifted\"], combined=True,\n",
    "#               var_names=[\"dmeans\", \"dstd\", \"cohend\", \"nu\"])"
   ]
  },
  {
   "cell_type": "markdown",
   "id": "bba6dd1f-57d6-4bda-9fde-55fb15f7882b",
   "metadata": {},
   "source": [
    "### Other analyses"
   ]
  },
  {
   "cell_type": "code",
   "execution_count": null,
   "id": "7fd30551-9c71-4e44-bb33-e4dbd8658e41",
   "metadata": {},
   "outputs": [],
   "source": []
  },
  {
   "cell_type": "markdown",
   "id": "23e42e04-1e05-4710-bfe5-a3cd7f7ca819",
   "metadata": {},
   "source": [
    "#### Equal variances t-test"
   ]
  },
  {
   "cell_type": "code",
   "execution_count": null,
   "id": "945c2e2c-e3d6-49a3-90b2-e3756996b6b3",
   "metadata": {},
   "outputs": [],
   "source": [
    "from scipy.stats import ttest_ind\n",
    "\n",
    "treated = iqs2[iqs2[\"group\"]==\"treat\"][\"iq\"].values\n",
    "controls = iqs2[iqs2[\"group\"]==\"ctrl\"][\"iq\"].values\n",
    "\n",
    "res_eqvar = ttest_ind(treated, controls, equal_var=True)\n",
    "res_eqvar.statistic, res_eqvar.pvalue"
   ]
  },
  {
   "cell_type": "code",
   "execution_count": null,
   "id": "0c89916f-9608-4f97-9fa0-270fd9b2f714",
   "metadata": {},
   "outputs": [],
   "source": [
    "ci_eqvar = res_eqvar.confidence_interval(confidence_level=0.95)\n",
    "[ci_eqvar.low, ci_eqvar.high]"
   ]
  },
  {
   "cell_type": "markdown",
   "id": "2278a120-4503-4dfc-8266-dd2e86c48b8d",
   "metadata": {},
   "source": [
    "#### Equivalent results using a linear model"
   ]
  },
  {
   "cell_type": "code",
   "execution_count": null,
   "id": "8c3fecaa-eb01-4a09-bbb9-6dfaf780a01f",
   "metadata": {},
   "outputs": [],
   "source": [
    "import statsmodels.formula.api as smf\n",
    "res_ols = smf.ols(\"iq ~ 1 + C(group)\", data=iqs2).fit()\n",
    "res_ols.tvalues[\"C(group)[T.treat]\"], res_ols.pvalues[\"C(group)[T.treat]\"]"
   ]
  },
  {
   "cell_type": "code",
   "execution_count": null,
   "id": "71828d61-2283-47a4-8569-e012ad7d9d6d",
   "metadata": {},
   "outputs": [],
   "source": [
    "res_ols.conf_int().loc[\"C(group)[T.treat]\",:].values"
   ]
  },
  {
   "cell_type": "markdown",
   "id": "fd16e2d5-6461-4ddf-9b6a-95d88fed93c1",
   "metadata": {},
   "source": [
    "#### Unequal variances t-test"
   ]
  },
  {
   "cell_type": "code",
   "execution_count": null,
   "id": "fd497aad-92f0-468a-8764-bb14194177ca",
   "metadata": {},
   "outputs": [],
   "source": [
    "res_uneqvar = ttest_ind(treated, controls, equal_var=False)\n",
    "res_uneqvar.statistic, res_uneqvar.pvalue"
   ]
  },
  {
   "cell_type": "code",
   "execution_count": null,
   "id": "1f80bcdf-4cb1-4e9b-8a4c-19abfe69ee98",
   "metadata": {},
   "outputs": [],
   "source": [
    "ci_uneqvar = res_uneqvar.confidence_interval(confidence_level=0.95)\n",
    "[ci_uneqvar.low, ci_uneqvar.high]"
   ]
  },
  {
   "cell_type": "markdown",
   "id": "d26242c2-e2c3-4cb2-ac01-c206b0a21a56",
   "metadata": {},
   "source": [
    "#### Equivalent results using a linear model with unequal variances\n",
    "\n",
    "Using generalized least squares to reproduce the unequal variance case."
   ]
  },
  {
   "cell_type": "code",
   "execution_count": null,
   "id": "3ac14628-057b-4760-8419-0423da27b6b9",
   "metadata": {},
   "outputs": [],
   "source": [
    "n_t, var_t = len(treated), treated.var(ddof=1)\n",
    "n_c, var_c = len(controls), controls.var(ddof=1)\n",
    "sigma2s = [var_t]*n_t + [var_c]*n_c\n",
    "\n",
    "res_gls = smf.gls(\"iq ~ 1 + C(group)\", data=iqs2, sigma=sigma2s).fit()\n",
    "res_gls.tvalues[\"C(group)[T.treat]\"], res_gls.pvalues[\"C(group)[T.treat]\"]"
   ]
  },
  {
   "cell_type": "code",
   "execution_count": null,
   "id": "9156311b-db70-4a4a-80eb-c3f4d1e03942",
   "metadata": {},
   "outputs": [],
   "source": [
    "res_gls.conf_int().loc[\"C(group)[T.treat]\",:].values"
   ]
  },
  {
   "cell_type": "markdown",
   "id": "83d39802-dd86-4aa9-8c49-0f2b3944966c",
   "metadata": {},
   "source": [
    "#### Bayesian equal variances model"
   ]
  },
  {
   "cell_type": "code",
   "execution_count": null,
   "id": "bfb95bd8-1d60-44ef-bc54-4f1ba115d9c0",
   "metadata": {},
   "outputs": [],
   "source": [
    "import bambi as bmb\n",
    "\n",
    "mod_eqvar = bmb.Model(\"iq ~ 1 + group\", data=iqs2)\n",
    "mod_eqvar"
   ]
  },
  {
   "cell_type": "code",
   "execution_count": null,
   "id": "f6b7d772-39f7-467c-bbd5-0fd44ae2f472",
   "metadata": {},
   "outputs": [],
   "source": [
    "mod_eqvar.build()\n",
    "mod_eqvar.backend.model"
   ]
  },
  {
   "cell_type": "code",
   "execution_count": null,
   "id": "060cb5ec-2cc1-435c-b49b-8420c1c11493",
   "metadata": {},
   "outputs": [],
   "source": [
    "idata_eqvar = mod_eqvar.fit(draws=2000)"
   ]
  },
  {
   "cell_type": "code",
   "execution_count": null,
   "id": "4cc66adb-e6cd-496f-929c-5ab9f2b0aa24",
   "metadata": {},
   "outputs": [],
   "source": [
    "import arviz as az\n",
    "\n",
    "az.summary(idata_eqvar, kind=\"stats\", hdi_prob=0.95)"
   ]
  },
  {
   "cell_type": "markdown",
   "id": "f899b26a-d53f-4124-aa2f-c74d897840cd",
   "metadata": {},
   "source": [
    "#### Bayesian unequal variances model"
   ]
  },
  {
   "cell_type": "code",
   "execution_count": null,
   "id": "bb56cb62-7202-4602-92fd-6b4d11bb4c87",
   "metadata": {},
   "outputs": [],
   "source": [
    "formula = bmb.Formula(\"iq ~ 1 + group\",\n",
    "                      \"sigma ~ 1 + group\")\n",
    "mod_uneqvar = bmb.Model(formula, data=iqs2)\n",
    "print(mod_uneqvar)"
   ]
  },
  {
   "cell_type": "code",
   "execution_count": null,
   "id": "64433029-f1bb-49f0-b066-bd0bd3d3bc68",
   "metadata": {},
   "outputs": [],
   "source": [
    "mod_uneqvar.build()\n",
    "mod_uneqvar.backend.model"
   ]
  },
  {
   "cell_type": "code",
   "execution_count": null,
   "id": "854eb539-eb56-4716-89c5-cd8e0244baeb",
   "metadata": {},
   "outputs": [],
   "source": [
    "idata_uneqvar = mod_uneqvar.fit(draws=2000)"
   ]
  },
  {
   "cell_type": "code",
   "execution_count": null,
   "id": "1410239f-48e6-4771-95fd-6a0aea2ea0ab",
   "metadata": {},
   "outputs": [],
   "source": [
    "az.summary(idata_uneqvar, kind=\"stats\", hdi_prob=0.95)"
   ]
  },
  {
   "cell_type": "code",
   "execution_count": null,
   "id": "319efa4d-b22c-4b0b-a23c-b552133c6066",
   "metadata": {},
   "outputs": [],
   "source": []
  },
  {
   "cell_type": "markdown",
   "id": "361e9c2b-7e6d-4969-90e3-2efe8a8613f7",
   "metadata": {},
   "source": [
    "### Robust Bayesian Estimation"
   ]
  },
  {
   "cell_type": "code",
   "execution_count": null,
   "id": "3e89be47-cba3-4cb9-8b16-82306dd9e767",
   "metadata": {},
   "outputs": [],
   "source": [
    "formula = bmb.Formula(\"iq ~ 1 + group\",\n",
    "                      \"sigma ~ group\")\n",
    "mod_robust = bmb.Model(formula, family=\"t\", data=iqs2)\n",
    "print(mod_robust)"
   ]
  },
  {
   "cell_type": "code",
   "execution_count": null,
   "id": "36632cc5-a5bd-4d26-8c21-6f44048e2a8d",
   "metadata": {},
   "outputs": [],
   "source": [
    "mod_robust.build()\n",
    "# mod_robust.backend.model\n",
    "mod_robust.graph()"
   ]
  },
  {
   "cell_type": "code",
   "execution_count": null,
   "id": "97e799fa-ef40-4446-a687-e05ac6abfb60",
   "metadata": {
    "editable": true,
    "slideshow": {
     "slide_type": ""
    },
    "tags": []
   },
   "outputs": [],
   "source": [
    "idata_robust = mod_robust.fit(draws=1000)"
   ]
  },
  {
   "cell_type": "code",
   "execution_count": null,
   "id": "cdd63048-ab48-4fe9-9b69-cea3e6dc9951",
   "metadata": {
    "editable": true,
    "slideshow": {
     "slide_type": ""
    },
    "tags": []
   },
   "outputs": [],
   "source": [
    "az.summary(idata_robust, kind=\"stats\", hdi_prob=0.95)"
   ]
  },
  {
   "cell_type": "code",
   "execution_count": null,
   "id": "f43cecd0-caab-44d1-a7ef-e9e4d999148c",
   "metadata": {},
   "outputs": [],
   "source": [
    "az.plot_posterior(idata_robust);"
   ]
  },
  {
   "cell_type": "code",
   "execution_count": null,
   "id": "1cb5546d-ee50-466a-ab4e-abadfb344a44",
   "metadata": {},
   "outputs": [],
   "source": [
    "# p-value\n",
    "postD = idata_robust[\"posterior\"][\"group\"][0].values.flatten()\n",
    "np.sum(postD < 0) / len(postD)"
   ]
  },
  {
   "cell_type": "code",
   "execution_count": null,
   "id": "fefd008e-20ef-4e4a-b885-191463b41e81",
   "metadata": {
    "editable": true,
    "slideshow": {
     "slide_type": ""
    },
    "tags": []
   },
   "outputs": [],
   "source": [
    "# from scipy.stats import expon\n",
    "# rvE = expon(scale=29, loc=1)\n",
    "# xs = np.linspace(0, 200 ,1000)\n",
    "# sns.lineplot(x=xs, y=rvE.pdf(xs))"
   ]
  },
  {
   "cell_type": "markdown",
   "id": "eb2daf69-8fa3-41de-a611-5352f68a0531",
   "metadata": {},
   "source": [
    "### Robust Bayesian estimation without intercept"
   ]
  },
  {
   "cell_type": "code",
   "execution_count": null,
   "id": "5b2e8176-9109-476f-a27e-6ba03fe0fbd4",
   "metadata": {},
   "outputs": [],
   "source": [
    "5*np.sqrt((np.var(treated,ddof=1) + np.var(controls,ddof=1))/2)"
   ]
  },
  {
   "cell_type": "code",
   "execution_count": null,
   "id": "4f58e6f4-63f9-4e08-af30-85689092f122",
   "metadata": {},
   "outputs": [],
   "source": [
    "5*iqs2[\"iq\"].std(ddof=0)"
   ]
  },
  {
   "cell_type": "code",
   "execution_count": null,
   "id": "f6430be9-6fc9-4684-afb2-aab34daa5ca2",
   "metadata": {},
   "outputs": [],
   "source": [
    "formula = bmb.Formula(\"iq ~ 0 + group\",\n",
    "                      \"sigma ~ 0 + group\")\n",
    "mod_robust2 = bmb.Model(formula, family=\"t\", data=iqs2)\n",
    "print(mod_robust2)"
   ]
  },
  {
   "cell_type": "code",
   "execution_count": null,
   "id": "062560a6-6ebf-4fe5-838e-22dcb32916a3",
   "metadata": {},
   "outputs": [],
   "source": [
    "mod_robust2.build()\n",
    "# mod_robust2.backend.model\n",
    "mod_robust2.graph()"
   ]
  },
  {
   "cell_type": "code",
   "execution_count": null,
   "id": "721c5f34-5205-4c0a-96cf-7307af48a6d0",
   "metadata": {
    "editable": true,
    "slideshow": {
     "slide_type": ""
    },
    "tags": []
   },
   "outputs": [],
   "source": [
    "idata_robust2 = mod_robust2.fit(draws=2000)\n",
    "\n",
    "post_robust2 = idata_robust2[\"posterior\"]\n",
    "dmeans_robust2 = post_robust2[\"group\"][:,:,1] - post_robust2[\"group\"][:,:,0]\n",
    "# ALT. post_robust2[\"group\"].sel(group_dim=\"treat\") - post_robust2[\"group\"].sel(group_dim=\"ctrl\")\n",
    "post_robust2[\"dmeans\"] = dmeans_robust2"
   ]
  },
  {
   "cell_type": "code",
   "execution_count": null,
   "id": "641ea2b1-0212-48bf-95d3-34f598cc7245",
   "metadata": {
    "editable": true,
    "slideshow": {
     "slide_type": ""
    },
    "tags": []
   },
   "outputs": [],
   "source": [
    "az.summary(idata_robust2, kind=\"stats\", hdi_prob=0.95)"
   ]
  },
  {
   "cell_type": "code",
   "execution_count": null,
   "id": "64c75398-ca6f-4217-9476-d44f9f3e1831",
   "metadata": {},
   "outputs": [],
   "source": [
    "az.plot_posterior(idata_robust);"
   ]
  }
 ],
 "metadata": {
  "kernelspec": {
   "display_name": "Python 3 (ipykernel)",
   "language": "python",
   "name": "python3"
  },
  "language_info": {
   "codemirror_mode": {
    "name": "ipython",
    "version": 3
   },
   "file_extension": ".py",
   "mimetype": "text/x-python",
   "name": "python",
   "nbconvert_exporter": "python",
   "pygments_lexer": "ipython3",
   "version": "3.12.4"
  }
 },
 "nbformat": 4,
 "nbformat_minor": 5
}
