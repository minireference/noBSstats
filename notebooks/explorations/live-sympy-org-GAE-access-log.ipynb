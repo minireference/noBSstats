{
 "cells": [
  {
   "cell_type": "markdown",
   "id": "3bfd9943-08ed-4457-b4eb-9e1ad1197919",
   "metadata": {},
   "source": [
    "## What percentage of live users are on mobile?"
   ]
  },
  {
   "cell_type": "code",
   "execution_count": 1,
   "id": "854245de-7c09-4f95-a362-fdc07d40c55b",
   "metadata": {},
   "outputs": [],
   "source": [
    "# %pip install user-agents\n",
    "from user_agents import parse"
   ]
  },
  {
   "cell_type": "code",
   "execution_count": 2,
   "id": "52d5b180-d3c2-412f-92da-b39f9f47d161",
   "metadata": {},
   "outputs": [],
   "source": [
    "import pandas as pd"
   ]
  },
  {
   "cell_type": "code",
   "execution_count": 3,
   "id": "6dd53ea1-dba5-4c9c-b5ca-c8fec83adb84",
   "metadata": {},
   "outputs": [],
   "source": [
    "# small \n",
    "# df = pd.read_csv(\"downloaded-logs-20220728-155658.csv\")\n",
    "\n",
    "# large (10K rows)\n",
    "rawdf = pd.read_csv(\"sympy-GAE-data/downloaded-logs-20220728-160156.csv\")"
   ]
  },
  {
   "cell_type": "code",
   "execution_count": 4,
   "id": "e2e7943c-c24a-47dc-a10d-3393d15ada3f",
   "metadata": {},
   "outputs": [
    {
     "data": {
      "text/plain": [
       "Index(['httpRequest.status', 'insertId', 'labels.clone_id', 'logName',\n",
       "       'operation.first', 'operation.id', 'operation.last',\n",
       "       'operation.producer', 'protoPayload.appEngineRelease',\n",
       "       'protoPayload.appId', 'protoPayload.cost', 'protoPayload.endTime',\n",
       "       'protoPayload.finished', 'protoPayload.first', 'protoPayload.host',\n",
       "       'protoPayload.httpVersion', 'protoPayload.instanceIndex',\n",
       "       'protoPayload.ip', 'protoPayload.latency', 'protoPayload.method',\n",
       "       'protoPayload.referrer', 'protoPayload.requestId',\n",
       "       'protoPayload.resource', 'protoPayload.responseSize',\n",
       "       'protoPayload.spanId', 'protoPayload.startTime', 'protoPayload.status',\n",
       "       'protoPayload.traceId', 'protoPayload.traceSampled',\n",
       "       'protoPayload.userAgent', 'protoPayload.versionId', 'receiveLocation',\n",
       "       'receiveTimestamp', 'receivedLocation', 'resource.labels.module_id',\n",
       "       'resource.labels.project_id', 'resource.labels.version_id',\n",
       "       'resource.labels.zone', 'resource.type', 'spanId', 'timestamp', 'trace',\n",
       "       'traceSampled'],\n",
       "      dtype='object')"
      ]
     },
     "execution_count": 4,
     "metadata": {},
     "output_type": "execute_result"
    }
   ],
   "source": [
    "rawdf.columns"
   ]
  },
  {
   "cell_type": "code",
   "execution_count": 5,
   "id": "b1943a51-4365-4d72-8b8f-c4663adb6a80",
   "metadata": {},
   "outputs": [
    {
     "data": {
      "text/plain": [
       "(10000, 43)"
      ]
     },
     "execution_count": 5,
     "metadata": {},
     "output_type": "execute_result"
    }
   ],
   "source": [
    "rawdf.shape"
   ]
  },
  {
   "cell_type": "code",
   "execution_count": 6,
   "id": "e4a0d0ef-8dc0-4625-a795-8dd3bcb2d780",
   "metadata": {},
   "outputs": [],
   "source": [
    "columns_to_extract = {\n",
    "    \"httpRequest.status\": \"status\",\n",
    "    \"protoPayload.ip\": \"ip\",\n",
    "    \"protoPayload.startTime\": \"time\",\n",
    "    \"protoPayload.host\": \"host\",\n",
    "    \"protoPayload.referrer\": \"referrer\",\n",
    "    \"protoPayload.userAgent\": \"userAgent\",\n",
    "}\n",
    "\n",
    "df = rawdf.copy()[columns_to_extract.keys()]\n",
    "df.columns = columns_to_extract.values()\n",
    "# df"
   ]
  },
  {
   "cell_type": "code",
   "execution_count": null,
   "id": "1cc9252b-7e3c-49b9-a127-3b26fe31d7eb",
   "metadata": {},
   "outputs": [],
   "source": []
  },
  {
   "cell_type": "markdown",
   "id": "7da1b8d5-64cf-4e09-bc27-80b3e52c0f12",
   "metadata": {
    "tags": []
   },
   "source": [
    "### Exploring referrer"
   ]
  },
  {
   "cell_type": "code",
   "execution_count": 7,
   "id": "085b83ed-4415-49c2-b5b8-aca70ee22f25",
   "metadata": {},
   "outputs": [
    {
     "name": "stdout",
     "output_type": "stream",
     "text": [
      "http://certik.github.io/                                                                       186\n",
      "http://man.hubwiz.com/                                                                          61\n",
      "http://mattpap.github.io/                                                                       29\n",
      "http://devdoc.net/                                                                              24\n",
      "http://www.devdoc.net/                                                                          21\n",
      "https://live.sympy.org/                                                                          4\n",
      "http://devdoc.net/python/sympy-1.0/_modules/sympy/functions/special/bessel.html                  2\n",
      "https://python-videos-for-beginners.readthedocs.io/en/latest/                                    2\n",
      "http://www.caacle.com/                                                                           2\n",
      "https://docs-sympy-org.translate.goog/                                                           2\n",
      "http://devdoc.net/python/sympy-1.0/tutorial/solvers.html                                         1\n",
      "http://www.devdoc.net/python/sympy-1.0/_modules/sympy/printing/pretty/pretty_symbology.html      1\n",
      "http://www.caacle.com/sympy-docs-html-1.4/modules/physics/continuum_mechanics/index.html         1\n",
      "http://devdoc.net/python/sympy-1.0/                                                              1\n",
      "http://devdoc.net/python/sympy-1.0/tutorial/calculus.html                                        1\n",
      "http://devdoc.net/python/sympy-1.0/modules/evalf.html                                            1\n",
      "http://devdoc.net/python/sympy-1.0/tutorial/manipulation.html                                    1\n",
      "http://devdoc.net/python/sympy-1.0/tutorial/index.html                                           1\n",
      "http://devdoc.net/python/sympy-1.0/modules/solvers/ode.html                                      1\n",
      "http://devdoc.net/python/sympy-1.0/modules/solvers/pde.html                                      1\n",
      "http://devdoc.net/python/sympy-1.0/modules/solvers/solvers.html                                  1\n",
      "http://devdoc.net/python/sympy-1.0/modules/solvers/solveset.html                                 1\n",
      "http://devdoc.net/python/sympy-1.0/modules/calculus/index.html                                   1\n",
      "http://devdoc.net/python/sympy-1.0/modules/vector/index.html                                     1\n",
      "http://devdoc.net/python/sympy-1.0/modules/vector/basics.html                                    1\n",
      "http://192.168.31.165:28120/                                                                     1\n",
      "Name: referrer, dtype: int64\n"
     ]
    }
   ],
   "source": [
    "with pd.option_context('display.max_rows', None):\n",
    "    df2 = df.dropna(subset=[\"referrer\"])\n",
    "    rdf = df2[~df2['referrer'].str.contains(\"docs\\.sympy\\.org|www\\.osgeo\\.cn\")]\n",
    "    print(rdf[\"referrer\"].value_counts())"
   ]
  },
  {
   "cell_type": "markdown",
   "id": "200a2746-8dd3-4ac4-8131-af90e737c7a6",
   "metadata": {
    "tags": []
   },
   "source": [
    "### Exploring user agent fields"
   ]
  },
  {
   "cell_type": "code",
   "execution_count": 8,
   "id": "56aee44c-0548-4a83-8df0-a6992b510cf7",
   "metadata": {},
   "outputs": [
    {
     "data": {
      "text/plain": [
       "Mozilla/5.0 (Windows NT 10.0; Win64; x64) AppleWebKit/537.36 (KHTML, like Gecko) Chrome/103.0.0.0 Safari/537.36                           3104\n",
       "Mozilla/5.0 (Macintosh; Intel Mac OS X 10_15_7) AppleWebKit/537.36 (KHTML, like Gecko) Chrome/103.0.0.0 Safari/537.36                      650\n",
       "Mozilla/5.0 (Windows NT 10.0; Win64; x64; rv:102.0) Gecko/20100101 Firefox/102.0                                                           620\n",
       "Mozilla/5.0 (Windows NT 10.0; Win64; x64) AppleWebKit/537.36 (KHTML, like Gecko) Chrome/103.0.5060.134 Safari/537.36 Edg/103.0.1264.71     577\n",
       "Mozilla/5.0 (X11; Ubuntu; Linux x86_64; rv:102.0) Gecko/20100101 Firefox/102.0                                                             376\n",
       "Mozilla/5.0 (X11; Linux x86_64; rv:102.0) Gecko/20100101 Firefox/102.0                                                                     304\n",
       "Mozilla/5.0 (X11; Linux x86_64) AppleWebKit/537.36 (KHTML, like Gecko) Chrome/103.0.0.0 Safari/537.36                                      281\n",
       "Mozilla/5.0 (Macintosh; Intel Mac OS X 10_15_7) AppleWebKit/605.1.15 (KHTML, like Gecko) Version/15.5 Safari/605.1.15                      233\n",
       "Mozilla/5.0 (compatible; AhrefsBot/7.0; +http://ahrefs.com/robot/)                                                                         214\n",
       "Mozilla/5.0 (Macintosh; Intel Mac OS X 10.15; rv:102.0) Gecko/20100101 Firefox/102.0                                                       150\n",
       "Name: userAgent, dtype: int64"
      ]
     },
     "execution_count": 8,
     "metadata": {},
     "output_type": "execute_result"
    }
   ],
   "source": [
    "uas = df[\"userAgent\"].value_counts()\n",
    "uas[0:10]"
   ]
  },
  {
   "cell_type": "code",
   "execution_count": 9,
   "id": "b2856f90-307c-4c15-825d-8f45bc625408",
   "metadata": {},
   "outputs": [
    {
     "data": {
      "text/plain": [
       "'Mozilla/5.0 (iPhone; CPU iPhone OS 15_5 like Mac OS X) AppleWebKit/605.1.15 (KHTML, like Gecko) Version/15.5 Mobile/15E148 Safari/604.1'"
      ]
     },
     "execution_count": 9,
     "metadata": {},
     "output_type": "execute_result"
    }
   ],
   "source": [
    "df.loc[585,\"userAgent\"]"
   ]
  },
  {
   "cell_type": "code",
   "execution_count": 10,
   "id": "c0fb9957-8516-414e-bb38-c33d1ec55bd2",
   "metadata": {},
   "outputs": [],
   "source": [
    "ua = parse(df.loc[585,\"userAgent\"])"
   ]
  },
  {
   "cell_type": "code",
   "execution_count": 11,
   "id": "067ddf59-a8bf-4930-95cf-2dd8edcb7338",
   "metadata": {},
   "outputs": [
    {
     "data": {
      "text/plain": [
       "('Mobile Safari', '15.5')"
      ]
     },
     "execution_count": 11,
     "metadata": {},
     "output_type": "execute_result"
    }
   ],
   "source": [
    "ua.browser.family, ua.browser.version_string"
   ]
  },
  {
   "cell_type": "code",
   "execution_count": 12,
   "id": "b95315a2-2c39-4a14-a175-b1cce6b207ac",
   "metadata": {},
   "outputs": [
    {
     "data": {
      "text/plain": [
       "('iOS', '15.5')"
      ]
     },
     "execution_count": 12,
     "metadata": {},
     "output_type": "execute_result"
    }
   ],
   "source": [
    "ua.os.family, ua.os.version_string"
   ]
  },
  {
   "cell_type": "code",
   "execution_count": 13,
   "id": "2dfa2c44-f61e-4a9e-9a0e-1c932cf0334f",
   "metadata": {},
   "outputs": [
    {
     "data": {
      "text/plain": [
       "('iPhone', 'Apple', 'iPhone')"
      ]
     },
     "execution_count": 13,
     "metadata": {},
     "output_type": "execute_result"
    }
   ],
   "source": [
    "ua.device.family, ua.device.brand, ua.device.model "
   ]
  },
  {
   "cell_type": "code",
   "execution_count": 14,
   "id": "71e2deab-39ad-4935-b71f-557c6855bf01",
   "metadata": {},
   "outputs": [
    {
     "data": {
      "text/plain": [
       "True"
      ]
     },
     "execution_count": 14,
     "metadata": {},
     "output_type": "execute_result"
    }
   ],
   "source": [
    "ua.is_mobile"
   ]
  },
  {
   "cell_type": "code",
   "execution_count": 15,
   "id": "f1864729-8112-4bae-84d0-de42124e3c90",
   "metadata": {},
   "outputs": [
    {
     "data": {
      "text/html": [
       "<div>\n",
       "<style scoped>\n",
       "    .dataframe tbody tr th:only-of-type {\n",
       "        vertical-align: middle;\n",
       "    }\n",
       "\n",
       "    .dataframe tbody tr th {\n",
       "        vertical-align: top;\n",
       "    }\n",
       "\n",
       "    .dataframe thead th {\n",
       "        text-align: right;\n",
       "    }\n",
       "</style>\n",
       "<table border=\"1\" class=\"dataframe\">\n",
       "  <thead>\n",
       "    <tr style=\"text-align: right;\">\n",
       "      <th></th>\n",
       "      <th>status</th>\n",
       "      <th>ip</th>\n",
       "      <th>time</th>\n",
       "      <th>host</th>\n",
       "      <th>referrer</th>\n",
       "      <th>userAgent</th>\n",
       "      <th>browser</th>\n",
       "      <th>browser.version</th>\n",
       "      <th>os</th>\n",
       "      <th>os.version</th>\n",
       "      <th>device.family</th>\n",
       "      <th>device.brand</th>\n",
       "      <th>device.model</th>\n",
       "      <th>mobile</th>\n",
       "    </tr>\n",
       "  </thead>\n",
       "  <tbody>\n",
       "    <tr>\n",
       "      <th>0</th>\n",
       "      <td>304</td>\n",
       "      <td>85.220.88.150</td>\n",
       "      <td>2022-07-28T19:38:41.509223Z</td>\n",
       "      <td>live.sympy.org</td>\n",
       "      <td>https://docs.sympy.org/</td>\n",
       "      <td>Mozilla/5.0 (X11; Linux x86_64; rv:102.0) Geck...</td>\n",
       "      <td>Firefox</td>\n",
       "      <td>102.0</td>\n",
       "      <td>Linux</td>\n",
       "      <td></td>\n",
       "      <td>Other</td>\n",
       "      <td>None</td>\n",
       "      <td>None</td>\n",
       "      <td>False</td>\n",
       "    </tr>\n",
       "    <tr>\n",
       "      <th>1</th>\n",
       "      <td>304</td>\n",
       "      <td>179.56.107.1</td>\n",
       "      <td>2022-07-28T19:37:06.643810Z</td>\n",
       "      <td>live.sympy.org</td>\n",
       "      <td>https://docs.sympy.org/</td>\n",
       "      <td>Mozilla/5.0 (Windows NT 10.0; Win64; x64) Appl...</td>\n",
       "      <td>Chrome</td>\n",
       "      <td>103.0.0</td>\n",
       "      <td>Windows</td>\n",
       "      <td>10</td>\n",
       "      <td>Other</td>\n",
       "      <td>None</td>\n",
       "      <td>None</td>\n",
       "      <td>False</td>\n",
       "    </tr>\n",
       "    <tr>\n",
       "      <th>2</th>\n",
       "      <td>304</td>\n",
       "      <td>190.60.236.18</td>\n",
       "      <td>2022-07-28T19:36:58.918386Z</td>\n",
       "      <td>live.sympy.org</td>\n",
       "      <td>https://docs.sympy.org/</td>\n",
       "      <td>Mozilla/5.0 (Windows NT 10.0; Win64; x64) Appl...</td>\n",
       "      <td>Edge</td>\n",
       "      <td>103.0.1264</td>\n",
       "      <td>Windows</td>\n",
       "      <td>10</td>\n",
       "      <td>Other</td>\n",
       "      <td>None</td>\n",
       "      <td>None</td>\n",
       "      <td>False</td>\n",
       "    </tr>\n",
       "    <tr>\n",
       "      <th>3</th>\n",
       "      <td>200</td>\n",
       "      <td>62.131.13.95</td>\n",
       "      <td>2022-07-28T19:36:51.189129Z</td>\n",
       "      <td>live.sympy.org</td>\n",
       "      <td>https://docs.sympy.org/</td>\n",
       "      <td>Mozilla/5.0 (Macintosh; Intel Mac OS X 10_15_7...</td>\n",
       "      <td>Safari</td>\n",
       "      <td>15.5</td>\n",
       "      <td>Mac OS X</td>\n",
       "      <td>10.15.7</td>\n",
       "      <td>Mac</td>\n",
       "      <td>Apple</td>\n",
       "      <td>Mac</td>\n",
       "      <td>False</td>\n",
       "    </tr>\n",
       "    <tr>\n",
       "      <th>4</th>\n",
       "      <td>304</td>\n",
       "      <td>2601:44:203:42c0:256c:616e:27c:89cd</td>\n",
       "      <td>2022-07-28T19:36:43.705907Z</td>\n",
       "      <td>live.sympy.org</td>\n",
       "      <td>https://docs.sympy.org/</td>\n",
       "      <td>Mozilla/5.0 (X11; Linux x86_64) AppleWebKit/53...</td>\n",
       "      <td>Chrome</td>\n",
       "      <td>103.0.5060</td>\n",
       "      <td>Linux</td>\n",
       "      <td></td>\n",
       "      <td>Other</td>\n",
       "      <td>None</td>\n",
       "      <td>None</td>\n",
       "      <td>False</td>\n",
       "    </tr>\n",
       "    <tr>\n",
       "      <th>...</th>\n",
       "      <td>...</td>\n",
       "      <td>...</td>\n",
       "      <td>...</td>\n",
       "      <td>...</td>\n",
       "      <td>...</td>\n",
       "      <td>...</td>\n",
       "      <td>...</td>\n",
       "      <td>...</td>\n",
       "      <td>...</td>\n",
       "      <td>...</td>\n",
       "      <td>...</td>\n",
       "      <td>...</td>\n",
       "      <td>...</td>\n",
       "      <td>...</td>\n",
       "    </tr>\n",
       "    <tr>\n",
       "      <th>9995</th>\n",
       "      <td>304</td>\n",
       "      <td>183.227.183.58</td>\n",
       "      <td>2022-07-26T09:53:34.314241Z</td>\n",
       "      <td>live.sympy.org</td>\n",
       "      <td>https://www.osgeo.cn/sympy/modules/vector/fiel...</td>\n",
       "      <td>Mozilla/5.0 (iPhone; CPU iPhone OS 15_5 like M...</td>\n",
       "      <td>Mobile Safari UI/WKWebView</td>\n",
       "      <td></td>\n",
       "      <td>iOS</td>\n",
       "      <td>15.5</td>\n",
       "      <td>iPhone</td>\n",
       "      <td>Apple</td>\n",
       "      <td>iPhone</td>\n",
       "      <td>True</td>\n",
       "    </tr>\n",
       "    <tr>\n",
       "      <th>9996</th>\n",
       "      <td>204</td>\n",
       "      <td>131.188.6.165</td>\n",
       "      <td>2022-07-26T09:53:26.765839Z</td>\n",
       "      <td>live.sympy.org</td>\n",
       "      <td>https://docs.sympy.org/</td>\n",
       "      <td>Mozilla/5.0 (Windows NT 10.0; rv:102.0) Gecko/...</td>\n",
       "      <td>Firefox</td>\n",
       "      <td>102.0</td>\n",
       "      <td>Windows</td>\n",
       "      <td>10</td>\n",
       "      <td>Other</td>\n",
       "      <td>None</td>\n",
       "      <td>None</td>\n",
       "      <td>False</td>\n",
       "    </tr>\n",
       "    <tr>\n",
       "      <th>9997</th>\n",
       "      <td>304</td>\n",
       "      <td>80.194.16.22</td>\n",
       "      <td>2022-07-26T09:53:19.975565Z</td>\n",
       "      <td>live.sympy.org</td>\n",
       "      <td>https://docs.sympy.org/</td>\n",
       "      <td>Mozilla/5.0 (Macintosh; Intel Mac OS X 10_14_6...</td>\n",
       "      <td>Chrome</td>\n",
       "      <td>103.0.0</td>\n",
       "      <td>Mac OS X</td>\n",
       "      <td>10.14.6</td>\n",
       "      <td>Mac</td>\n",
       "      <td>Apple</td>\n",
       "      <td>Mac</td>\n",
       "      <td>False</td>\n",
       "    </tr>\n",
       "    <tr>\n",
       "      <th>9998</th>\n",
       "      <td>304</td>\n",
       "      <td>199.101.192.35</td>\n",
       "      <td>2022-07-26T09:53:14.354415Z</td>\n",
       "      <td>live.sympy.org</td>\n",
       "      <td>https://docs.sympy.org/</td>\n",
       "      <td>Mozilla/5.0 (Macintosh; Intel Mac OS X 10_15_7...</td>\n",
       "      <td>Chrome</td>\n",
       "      <td>103.0.0</td>\n",
       "      <td>Mac OS X</td>\n",
       "      <td>10.15.7</td>\n",
       "      <td>Mac</td>\n",
       "      <td>Apple</td>\n",
       "      <td>Mac</td>\n",
       "      <td>False</td>\n",
       "    </tr>\n",
       "    <tr>\n",
       "      <th>9999</th>\n",
       "      <td>304</td>\n",
       "      <td>199.101.192.35</td>\n",
       "      <td>2022-07-26T09:53:06.473629Z</td>\n",
       "      <td>live.sympy.org</td>\n",
       "      <td>https://www.osgeo.cn/</td>\n",
       "      <td>Mozilla/5.0 (Macintosh; Intel Mac OS X 10_15_7...</td>\n",
       "      <td>Chrome</td>\n",
       "      <td>103.0.0</td>\n",
       "      <td>Mac OS X</td>\n",
       "      <td>10.15.7</td>\n",
       "      <td>Mac</td>\n",
       "      <td>Apple</td>\n",
       "      <td>Mac</td>\n",
       "      <td>False</td>\n",
       "    </tr>\n",
       "  </tbody>\n",
       "</table>\n",
       "<p>10000 rows × 14 columns</p>\n",
       "</div>"
      ],
      "text/plain": [
       "      status                                   ip  \\\n",
       "0        304                        85.220.88.150   \n",
       "1        304                         179.56.107.1   \n",
       "2        304                        190.60.236.18   \n",
       "3        200                         62.131.13.95   \n",
       "4        304  2601:44:203:42c0:256c:616e:27c:89cd   \n",
       "...      ...                                  ...   \n",
       "9995     304                       183.227.183.58   \n",
       "9996     204                        131.188.6.165   \n",
       "9997     304                         80.194.16.22   \n",
       "9998     304                       199.101.192.35   \n",
       "9999     304                       199.101.192.35   \n",
       "\n",
       "                             time            host  \\\n",
       "0     2022-07-28T19:38:41.509223Z  live.sympy.org   \n",
       "1     2022-07-28T19:37:06.643810Z  live.sympy.org   \n",
       "2     2022-07-28T19:36:58.918386Z  live.sympy.org   \n",
       "3     2022-07-28T19:36:51.189129Z  live.sympy.org   \n",
       "4     2022-07-28T19:36:43.705907Z  live.sympy.org   \n",
       "...                           ...             ...   \n",
       "9995  2022-07-26T09:53:34.314241Z  live.sympy.org   \n",
       "9996  2022-07-26T09:53:26.765839Z  live.sympy.org   \n",
       "9997  2022-07-26T09:53:19.975565Z  live.sympy.org   \n",
       "9998  2022-07-26T09:53:14.354415Z  live.sympy.org   \n",
       "9999  2022-07-26T09:53:06.473629Z  live.sympy.org   \n",
       "\n",
       "                                               referrer  \\\n",
       "0                               https://docs.sympy.org/   \n",
       "1                               https://docs.sympy.org/   \n",
       "2                               https://docs.sympy.org/   \n",
       "3                               https://docs.sympy.org/   \n",
       "4                               https://docs.sympy.org/   \n",
       "...                                                 ...   \n",
       "9995  https://www.osgeo.cn/sympy/modules/vector/fiel...   \n",
       "9996                            https://docs.sympy.org/   \n",
       "9997                            https://docs.sympy.org/   \n",
       "9998                            https://docs.sympy.org/   \n",
       "9999                              https://www.osgeo.cn/   \n",
       "\n",
       "                                              userAgent  \\\n",
       "0     Mozilla/5.0 (X11; Linux x86_64; rv:102.0) Geck...   \n",
       "1     Mozilla/5.0 (Windows NT 10.0; Win64; x64) Appl...   \n",
       "2     Mozilla/5.0 (Windows NT 10.0; Win64; x64) Appl...   \n",
       "3     Mozilla/5.0 (Macintosh; Intel Mac OS X 10_15_7...   \n",
       "4     Mozilla/5.0 (X11; Linux x86_64) AppleWebKit/53...   \n",
       "...                                                 ...   \n",
       "9995  Mozilla/5.0 (iPhone; CPU iPhone OS 15_5 like M...   \n",
       "9996  Mozilla/5.0 (Windows NT 10.0; rv:102.0) Gecko/...   \n",
       "9997  Mozilla/5.0 (Macintosh; Intel Mac OS X 10_14_6...   \n",
       "9998  Mozilla/5.0 (Macintosh; Intel Mac OS X 10_15_7...   \n",
       "9999  Mozilla/5.0 (Macintosh; Intel Mac OS X 10_15_7...   \n",
       "\n",
       "                         browser browser.version        os os.version  \\\n",
       "0                        Firefox           102.0     Linux              \n",
       "1                         Chrome         103.0.0   Windows         10   \n",
       "2                           Edge      103.0.1264   Windows         10   \n",
       "3                         Safari            15.5  Mac OS X    10.15.7   \n",
       "4                         Chrome      103.0.5060     Linux              \n",
       "...                          ...             ...       ...        ...   \n",
       "9995  Mobile Safari UI/WKWebView                       iOS       15.5   \n",
       "9996                     Firefox           102.0   Windows         10   \n",
       "9997                      Chrome         103.0.0  Mac OS X    10.14.6   \n",
       "9998                      Chrome         103.0.0  Mac OS X    10.15.7   \n",
       "9999                      Chrome         103.0.0  Mac OS X    10.15.7   \n",
       "\n",
       "     device.family device.brand device.model  mobile  \n",
       "0            Other         None         None   False  \n",
       "1            Other         None         None   False  \n",
       "2            Other         None         None   False  \n",
       "3              Mac        Apple          Mac   False  \n",
       "4            Other         None         None   False  \n",
       "...            ...          ...          ...     ...  \n",
       "9995        iPhone        Apple       iPhone    True  \n",
       "9996         Other         None         None   False  \n",
       "9997           Mac        Apple          Mac   False  \n",
       "9998           Mac        Apple          Mac   False  \n",
       "9999           Mac        Apple          Mac   False  \n",
       "\n",
       "[10000 rows x 14 columns]"
      ]
     },
     "execution_count": 15,
     "metadata": {},
     "output_type": "execute_result"
    }
   ],
   "source": [
    "def userAgent2cols(row):\n",
    "    userAgent = row[\"userAgent\"]\n",
    "    ua = parse(userAgent)\n",
    "    return (ua.browser.family, ua.browser.version_string,\n",
    "            ua.os.family, ua.os.version_string,\n",
    "            ua.device.family, ua.device.brand, ua.device.model,\n",
    "            ua.is_mobile)\n",
    "\n",
    "ua_cols = [\"browser\", \"browser.version\",\n",
    "           \"os\", \"os.version\",\n",
    "           \"device.family\", \"device.brand\", \"device.model\",\n",
    "           \"mobile\"]\n",
    "df[ua_cols] = df[[\"userAgent\"]].apply(userAgent2cols, axis=1, result_type='expand')\n",
    "df"
   ]
  },
  {
   "cell_type": "code",
   "execution_count": null,
   "id": "a9bdb68b-7d78-4606-b1fd-769b33d1f916",
   "metadata": {},
   "outputs": [],
   "source": []
  },
  {
   "cell_type": "code",
   "execution_count": 16,
   "id": "76dfdafc-32a1-475e-9be9-3bdc7f8ff5a3",
   "metadata": {},
   "outputs": [
    {
     "data": {
      "text/plain": [
       "False    0.9335\n",
       "True     0.0665\n",
       "Name: mobile, dtype: float64"
      ]
     },
     "execution_count": 16,
     "metadata": {},
     "output_type": "execute_result"
    }
   ],
   "source": [
    "df[\"mobile\"].value_counts(normalize=True)"
   ]
  },
  {
   "cell_type": "code",
   "execution_count": 17,
   "id": "360cebdb-d0ea-46d0-9b34-ebc309d7f0e4",
   "metadata": {},
   "outputs": [],
   "source": [
    "# select only mobile visitors\n",
    "mdf = df[df[\"mobile\"] == True]"
   ]
  },
  {
   "cell_type": "code",
   "execution_count": 18,
   "id": "352dbe41-87c8-4270-9cb4-ced871539395",
   "metadata": {},
   "outputs": [
    {
     "data": {
      "text/plain": [
       "os       os.version\n",
       "Android  10             84\n",
       "         11            135\n",
       "         12            121\n",
       "         4.4.4           1\n",
       "         5.0             4\n",
       "         6.0.1          33\n",
       "         7.0            15\n",
       "         7.1.1           3\n",
       "         7.1.2           1\n",
       "         8.0.0          25\n",
       "         8.1.0          12\n",
       "         9              57\n",
       "iOS      10.2.1          1\n",
       "         11.1.1          1\n",
       "         12.5            1\n",
       "         12.5.5          1\n",
       "         13.3            1\n",
       "         13.5.1          2\n",
       "         14.3            1\n",
       "         14.4            1\n",
       "         14.4.2          1\n",
       "         14.6            1\n",
       "         14.7.1          1\n",
       "         14.8            2\n",
       "         14.8.1          4\n",
       "         15.0.2          6\n",
       "         15.1            2\n",
       "         15.2            3\n",
       "         15.2.1          1\n",
       "         15.3.1          4\n",
       "         15.4            4\n",
       "         15.4.1         10\n",
       "         15.5          106\n",
       "         15.6           14\n",
       "         16.0            4\n",
       "         9.1             2\n",
       "dtype: int64"
      ]
     },
     "execution_count": 18,
     "metadata": {},
     "output_type": "execute_result"
    }
   ],
   "source": [
    "mdf.groupby([\"os\", \"os.version\"])[[\"os\", \"os.version\"]].value_counts()"
   ]
  },
  {
   "cell_type": "code",
   "execution_count": null,
   "id": "8f27fad1-33a5-44cb-ad8a-70653baf5523",
   "metadata": {},
   "outputs": [],
   "source": []
  },
  {
   "cell_type": "code",
   "execution_count": null,
   "id": "d646710d-52fe-47fc-b10c-d1aa2e36d6cb",
   "metadata": {},
   "outputs": [],
   "source": []
  }
 ],
 "metadata": {
  "kernelspec": {
   "display_name": "Python 3 (ipykernel)",
   "language": "python",
   "name": "python3"
  },
  "language_info": {
   "codemirror_mode": {
    "name": "ipython",
    "version": 3
   },
   "file_extension": ".py",
   "mimetype": "text/x-python",
   "name": "python",
   "nbconvert_exporter": "python",
   "pygments_lexer": "ipython3",
   "version": "3.9.4"
  }
 },
 "nbformat": 4,
 "nbformat_minor": 5
}
