{
 "cells": [
  {
   "cell_type": "markdown",
   "id": "af979b57-b54b-40b6-997e-37d62c6303c5",
   "metadata": {},
   "source": [
    "# Half-width of a normal distirbution\n",
    "\n",
    "We can obtain an intuitive understanding of the parameter $\\sigma$ for the\n",
    "Normal distribution family $\\mathcal{N}(\\mu,\\sigma)$,\n",
    "if we think of the concept of \"half-width\" for any probability density function."
   ]
  },
  {
   "cell_type": "markdown",
   "id": "45053d53-9844-40ad-b88f-3ae9b212409d",
   "metadata": {},
   "source": [
    "Let's start by creating an example random variable."
   ]
  },
  {
   "cell_type": "code",
   "execution_count": 1,
   "id": "8607e5b1-2e5b-433f-8fef-a5e59a5ce2bc",
   "metadata": {},
   "outputs": [],
   "source": [
    "from scipy.stats.distributions import norm\n",
    "\n",
    "mu = 1000\n",
    "sigma = 100\n",
    "\n",
    "rvN = norm(mu, sigma)"
   ]
  },
  {
   "cell_type": "markdown",
   "id": "31bb084f-2142-402e-af0f-1277f32b16da",
   "metadata": {},
   "source": [
    "## Plot pdf"
   ]
  },
  {
   "cell_type": "code",
   "execution_count": 2,
   "id": "698650ad-ff0c-45ec-9a6f-a5124b148cbf",
   "metadata": {},
   "outputs": [
    {
     "data": {
      "text/plain": [
       "<AxesSubplot:xlabel='x', ylabel='$f_{X}$'>"
      ]
     },
     "execution_count": 2,
     "metadata": {},
     "output_type": "execute_result"
    },
    {
     "data": {
      "image/png": "[encoded data removed]",
      "text/plain": [
       "<Figure size 504x288 with 1 Axes>"
      ]
     },
     "metadata": {},
     "output_type": "display_data"
    }
   ],
   "source": [
    "from plot_helpers import plot_pdf\n",
    "plot_pdf(rvN)"
   ]
  },
  {
   "cell_type": "markdown",
   "id": "ec2ab41a-5612-4ae0-9b7c-0f0720983003",
   "metadata": {},
   "source": [
    "## Calculate the max-height of the pdf"
   ]
  },
  {
   "cell_type": "code",
   "execution_count": 3,
   "id": "2841e9cd-85b0-4c89-8e9f-eb0809ba36a3",
   "metadata": {},
   "outputs": [],
   "source": [
    "from scipy.optimize import minimize"
   ]
  },
  {
   "cell_type": "markdown",
   "id": "dc399276-684c-4cb1-8781-8b0c4292a0ed",
   "metadata": {},
   "source": [
    "We first find the location where the function `rvN.pdf` reaches it's maximum,\n",
    "which is called written $\\textrm{argmax} f_N$ in math notation."
   ]
  },
  {
   "cell_type": "code",
   "execution_count": 4,
   "id": "f2a93799-8f04-4862-b7ab-2fa9fe21a7ad",
   "metadata": {},
   "outputs": [
    {
     "name": "stdout",
     "output_type": "stream",
     "text": [
      " final_simplex: (array([[ 999.99999046],\n",
      "       [1000.00008392]]), array([-0.00398942, -0.00398942]))\n",
      "           fun: -0.003989422804014309\n",
      "       message: 'Optimization terminated successfully.'\n",
      "          nfev: 40\n",
      "           nit: 20\n",
      "        status: 0\n",
      "       success: True\n",
      "             x: array([999.99999046])\n"
     ]
    },
    {
     "data": {
      "text/plain": [
       "999.9999904632568"
      ]
     },
     "execution_count": 4,
     "metadata": {},
     "output_type": "execute_result"
    }
   ],
   "source": [
    "def negativefN(n):\n",
    "    return -1*rvN.pdf(n)\n",
    "\n",
    "res = minimize(negativefN, x0=980.0, method=\"Nelder-Mead\")\n",
    "print(res)\n",
    "\n",
    "\n",
    "# maximum value of the pdf f_N is located at n=\n",
    "argmax_fN = res.x[0]\n",
    "argmax_fN"
   ]
  },
  {
   "cell_type": "markdown",
   "id": "f22f45bd-ecd2-4b67-9168-b39606493c39",
   "metadata": {},
   "source": [
    "The value of the function at it's maximum is written $\\textrm{max} f_N$\n",
    "and obtained by evaluating the function at its argmax."
   ]
  },
  {
   "cell_type": "code",
   "execution_count": 5,
   "id": "6275d2b3-520f-4e35-b4de-262826ae82ff",
   "metadata": {},
   "outputs": [
    {
     "data": {
      "text/plain": [
       "0.003989422804014309"
      ]
     },
     "execution_count": 5,
     "metadata": {},
     "output_type": "execute_result"
    }
   ],
   "source": [
    "max_fN = rvN.pdf(argmax_fN)\n",
    "max_fN"
   ]
  },
  {
   "cell_type": "markdown",
   "id": "41a2f295-bb17-456f-8cb0-aa411fb8e16f",
   "metadata": {},
   "source": [
    "The notion of half-width of a distribution,\n",
    "describes the width of the distribution at as measured from the points points where\n",
    "it reaches half of it's maximum value.\n",
    "\n",
    "To find the half-width,\n",
    "we start by first finding the half-height."
   ]
  },
  {
   "cell_type": "code",
   "execution_count": 6,
   "id": "bf5f0c85-47f8-422e-927b-1144489a589b",
   "metadata": {},
   "outputs": [
    {
     "data": {
      "text/plain": [
       "0.0019947114020071547"
      ]
     },
     "execution_count": 6,
     "metadata": {},
     "output_type": "execute_result"
    }
   ],
   "source": [
    "half_height = max_fN / 2\n",
    "half_height"
   ]
  },
  {
   "cell_type": "markdown",
   "id": "cd27b05e-443a-4086-bd19-29e30a57adf8",
   "metadata": {},
   "source": [
    "We must now find the values $n_l$ and $n_r$,\n",
    "where $f_N(n) =$ `rvN.pdf(n)` equals the half-height.\n",
    "\n",
    "Since there are two values of $n$ that satisfy $f_N(n) =$ half-height,\n",
    "we'll call the two solutions $n_l$ and $n_r$."
   ]
  },
  {
   "cell_type": "code",
   "execution_count": 8,
   "id": "5fa1d608-e7f1-4217-a393-3306923138d4",
   "metadata": {},
   "outputs": [
    {
     "data": {
      "text/plain": [
       "882.2589977484522"
      ]
     },
     "execution_count": 12,
     "metadata": {},
     "output_type": "execute_result"
    }
   ],
   "source": [
    "from scipy.optimize import root\n",
    "\n",
    "def inverse_pdf(x, p):\n",
    "    err = rvN.pdf(x) - p\n",
    "    return err\n",
    "\n",
    "res = root(inverse_pdf, x0=[990], args=(half_height))\n",
    "n_l = res.x[0]\n",
    "n_l"
   ]
  },
  {
   "cell_type": "code",
   "execution_count": 9,
   "id": "cd94ad5a-2dff-4652-8e4b-e5ed7bf1ef75",
   "metadata": {},
   "outputs": [
    {
     "data": {
      "text/plain": [
       "1117.7410022515478"
      ]
     },
     "execution_count": 13,
     "metadata": {},
     "output_type": "execute_result"
    }
   ],
   "source": [
    "res = root(inverse_pdf, x0=[1010], args=(half_height))\n",
    "n_r = res.x[0]\n",
    "n_r"
   ]
  },
  {
   "cell_type": "markdown",
   "id": "16e45d3b-9f99-49a0-98fa-b3cfab0eb9bd",
   "metadata": {},
   "source": [
    "We calculate the half width as half of the width of the distribution,\n",
    "meaning half of the distance from $n_l$ to $n_r$."
   ]
  },
  {
   "cell_type": "code",
   "execution_count": 15,
   "id": "89a243c8-39e3-47d7-ab94-3c2313417b1b",
   "metadata": {},
   "outputs": [
    {
     "data": {
      "text/plain": [
       "117.7410022515478"
      ]
     },
     "execution_count": 15,
     "metadata": {},
     "output_type": "execute_result"
    }
   ],
   "source": [
    "half_width = (n_r - n_l) / 2\n",
    "half_width"
   ]
  },
  {
   "cell_type": "markdown",
   "id": "18fb160f-c88f-4372-b326-6a40ae272762",
   "metadata": {},
   "source": [
    "We observe that the half width of the distribution (a purely geometrical, look-at-the-graph quantity) is approximately equal to the standard deviation of the distribution $\\sigma=100$.\n",
    "\n",
    "The half-width interpretation for $\\sigma$ is accurate to < 20%, so don't use it for any numerical calculations, but still good as general concept."
   ]
  },
  {
   "cell_type": "code",
   "execution_count": null,
   "id": "3095b9fe-d4d5-4720-a4a0-b86fdfd12e38",
   "metadata": {},
   "outputs": [],
   "source": []
  }
 ],
 "metadata": {
  "kernelspec": {
   "display_name": "Python 3 (ipykernel)",
   "language": "python",
   "name": "python3"
  },
  "language_info": {
   "codemirror_mode": {
    "name": "ipython",
    "version": 3
   },
   "file_extension": ".py",
   "mimetype": "text/x-python",
   "name": "python",
   "nbconvert_exporter": "python",
   "pygments_lexer": "ipython3",
   "version": "3.9.4"
  }
 },
 "nbformat": 4,
 "nbformat_minor": 5
}
