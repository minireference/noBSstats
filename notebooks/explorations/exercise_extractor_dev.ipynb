{
 "cells": [
  {
   "cell_type": "markdown",
   "id": "a442ed33-4f2a-421a-8e0d-f119394e2410",
   "metadata": {},
   "source": [
    "# Exercise parser"
   ]
  },
  {
   "cell_type": "code",
   "execution_count": 1,
   "id": "4513e74e-58fc-429c-b216-6e2ebff0aa61",
   "metadata": {},
   "outputs": [],
   "source": [
    "# %pip install texsoup"
   ]
  },
  {
   "cell_type": "code",
   "execution_count": 2,
   "id": "5435f8c8-4434-4d7d-ad7e-00dcadff80c5",
   "metadata": {},
   "outputs": [],
   "source": [
    "import os\n",
    "import TexSoup\n"
   ]
  },
  {
   "cell_type": "code",
   "execution_count": 3,
   "id": "ecfae3d0-5097-48a0-8041-9322be66ef10",
   "metadata": {},
   "outputs": [],
   "source": [
    "soup = TexSoup.TexSoup(\"\"\"\n",
    "\\begin{document}\n",
    "\n",
    "\\section{Hello \\textit{world}.}\n",
    "\n",
    "\\subsection{Watermelon}\n",
    "\n",
    "(n.) A sacred fruit. Also known as:\n",
    "\n",
    "\\begin{itemize}\n",
    "\\item red lemon\n",
    "\\item life\n",
    "\\end{itemize}\n",
    "\n",
    "Here is the prevalence of each synonym.\n",
    "\n",
    "\\begin{tabular}{c c}\n",
    "red lemon & uncommon \\\\\n",
    "life & common\n",
    "\\end{tabular}\n",
    "\n",
    "\\end{document}\n",
    "\"\"\")"
   ]
  },
  {
   "cell_type": "code",
   "execution_count": 4,
   "id": "b4ab15be-88e7-4b44-8d53-6c69b90ab04a",
   "metadata": {},
   "outputs": [
    {
     "data": {
      "text/plain": [
       "\\section{Hello \textit{world}.}"
      ]
     },
     "execution_count": 4,
     "metadata": {},
     "output_type": "execute_result"
    }
   ],
   "source": [
    ">>> soup.section  # grabs the first `section`"
   ]
  },
  {
   "cell_type": "code",
   "execution_count": 5,
   "id": "0c18063e-5cdf-4fa0-914b-17b4a4075b7f",
   "metadata": {},
   "outputs": [
    {
     "data": {
      "text/plain": [
       "'section'"
      ]
     },
     "execution_count": 5,
     "metadata": {},
     "output_type": "execute_result"
    }
   ],
   "source": [
    ">>> soup.section.name"
   ]
  },
  {
   "cell_type": "code",
   "execution_count": 6,
   "id": "2684511d-8668-467b-8198-ea3cb4acdafe",
   "metadata": {},
   "outputs": [
    {
     "data": {
      "text/plain": [
       "'section'"
      ]
     },
     "execution_count": 6,
     "metadata": {},
     "output_type": "execute_result"
    }
   ],
   "source": [
    "'section'\n",
    "\n",
    "# >>> soup.section.string\n",
    "# 'Hello \\\\textit{world}.'\n",
    "# >>> soup.section.parent.name\n",
    "# 'document'\n",
    "# >>> soup.tabular\n",
    "# \\begin{tabular}{c c}\n",
    "# red lemon & uncommon \\\\\n",
    "# life & common\n",
    "# \\end{tabular}\n",
    "# >>> soup.tabular.args[0]\n",
    "# 'c c'\n",
    "# >>> soup.item\n",
    "# \\item red lemon\n",
    "# # >>> list(soup.find_all('item'))\n",
    "# # [\\item red lemon, \\item life]"
   ]
  },
  {
   "cell_type": "code",
   "execution_count": 3,
   "id": "99700fca-2f7a-4ede-b920-6e4c3bf21c04",
   "metadata": {},
   "outputs": [],
   "source": [
    "DIR = \"/Users/ivan/Projects/Minireference/STATSbook/statsprobs/\"\n",
    "FILENAMES = [\n",
    "    \"chapter31_1_estimators.tex\",\n",
    "    \"chapter31_2_sampling_dists.tex\",\n",
    "    \"chapter31_3_approximations.tex\",\n",
    "    \"chapter31_4_mean.tex\",\n",
    "    \"chapter31_5_variance.tex\",\n",
    "    \"chapter31_6_dmeans.tex\",\n",
    "    \"chapter31_7_final.tex\",\n",
    "    \"chapter32_confidence_intervals.tex\",\n",
    "]"
   ]
  },
  {
   "cell_type": "code",
   "execution_count": 8,
   "id": "f8d3e259-8157-473b-aab5-2a29229e7249",
   "metadata": {},
   "outputs": [],
   "source": [
    "filename = FILENAMES[0]\n",
    "filepath = os.path.join(DIR, filename)"
   ]
  },
  {
   "cell_type": "code",
   "execution_count": 9,
   "id": "c740868d-326e-4024-9f17-84b37f5ec5b7",
   "metadata": {},
   "outputs": [],
   "source": [
    "texsrc = open(filepath).read()\n",
    "soup = TexSoup.TexSoup(texsrc)"
   ]
  },
  {
   "cell_type": "code",
   "execution_count": 10,
   "id": "8e733b8a-becf-47f1-9098-c4f08cd1d895",
   "metadata": {},
   "outputs": [
    {
     "name": "stdout",
     "output_type": "stream",
     "text": [
      "\\begin{exercise}\n",
      "\t\tCompute the sample mean from Batch 01 and Batch 04 of the kombucha dataset \\tt{datasets/kombucha.csv}.\n",
      "\t\t%\t\\begin{hint}\n",
      "\t\t%\t\tHint\n",
      "\t\t%\t\\end{hint}\n",
      "\t\t%\t\\begin{eanswer}ans\\end{eanswer}\n",
      "\t\t%\t\\begin{esolution}\n",
      "\t\t%\t\tSolutoin\n",
      "\t\t%\t\\end{esolution}\n",
      "\t\\end{exercise}\n",
      "\\begin{exercise}\n",
      "\t\tCompute the sample variance from Batch 02 and Batch 08 of the kombucha dataset \\tt{datasets/kombucha.csv}.\n",
      "\t\t%\t\\begin{hint}\n",
      "\t\t%\t\tHint\n",
      "\t\t%\t\\end{hint}\n",
      "\t\t%\t\\begin{eanswer}ans\\end{eanswer}\n",
      "\t\t%\t\\begin{esolution}\n",
      "\t\t%\t\tSolutoin\n",
      "\t\t%\t\\end{esolution}\n",
      "\t\\end{exercise}\n",
      "\\begin{exercise}\n",
      "\t\tCompute the difference between the means of the sleep \\tt{score}s \n",
      "\t\tfor the doctors working in \\tt{rural} locations and \\tt{urban} locations\n",
      "\t\tin the doctors dataset \\tt{datasets/doctors.csv}.\n",
      "\n",
      "\t\t\\begin{hint}\n",
      "\t\t\tUse the code \\tt{scoresR = doctors[doctors[\"location\"]==\"rural\"][\"score\"]}\n",
      "\t\t\tto extract the score variable from all doctors in \\tt{rural} location.\n",
      "\t\t\\end{hint}\n",
      "\t\t%\t\\begin{eanswer}ans\\end{eanswer}\n",
      "\t\t%\t\\begin{esolution}\n",
      "\t\t%\t\tSolutoin\n",
      "\t\t%\t\\end{esolution}\n",
      "\t\\end{exercise}\n"
     ]
    }
   ],
   "source": [
    "exercises = soup.exercises.find_all(\"exercise\")\n",
    "for exercise in exercises:\n",
    "    print(exercise)"
   ]
  },
  {
   "cell_type": "code",
   "execution_count": 11,
   "id": "cc453e06-f455-4efb-ad84-ec7d6ee8614e",
   "metadata": {},
   "outputs": [
    {
     "data": {
      "text/plain": [
       "['Compute the difference between the means of the sleep',\n",
       " 'score',\n",
       " 's \\n\\t\\tfor the doctors working in',\n",
       " 'rural',\n",
       " 'locations and',\n",
       " 'urban',\n",
       " 'locations\\n\\t\\tin the doctors dataset',\n",
       " 'datasets/doctors.csv',\n",
       " '.',\n",
       " 'Use the code',\n",
       " 'scoresR = doctors',\n",
       " '[',\n",
       " 'doctors',\n",
       " '[',\n",
       " '\"location\"',\n",
       " ']',\n",
       " '==\"rural\"',\n",
       " ']',\n",
       " '[',\n",
       " '\"score\"',\n",
       " ']',\n",
       " 'to extract the score variable from all doctors in',\n",
       " 'rural',\n",
       " 'location.']"
      ]
     },
     "execution_count": 11,
     "metadata": {},
     "output_type": "execute_result"
    }
   ],
   "source": [
    "lines = exercise.text\n",
    "outlines = []\n",
    "\n",
    "for line in lines:\n",
    "    line = line.strip()\n",
    "    if line.startswith(\"%\"):\n",
    "        continue\n",
    "    else:\n",
    "        outlines.append(line)\n",
    "outlines"
   ]
  },
  {
   "cell_type": "code",
   "execution_count": 12,
   "id": "cb69c0f7-f87e-4f2e-ae92-4ffe8003416c",
   "metadata": {},
   "outputs": [
    {
     "data": {
      "text/plain": [
       "[\\tt{score},\n",
       " \\tt{rural},\n",
       " \\tt{urban},\n",
       " \\tt{datasets/doctors.csv},\n",
       " \\begin{hint}\n",
       " \t\t\tUse the code \\tt{scoresR = doctors[doctors[\"location\"]==\"rural\"][\"score\"]}\n",
       " \t\t\tto extract the score variable from all doctors in \\tt{rural} location.\n",
       " \t\t\\end{hint}]"
      ]
     },
     "execution_count": 12,
     "metadata": {},
     "output_type": "execute_result"
    }
   ],
   "source": [
    "exercise.children"
   ]
  },
  {
   "cell_type": "code",
   "execution_count": 4,
   "id": "c4c9932c-9268-44df-973b-dc6b312ff2bf",
   "metadata": {},
   "outputs": [
    {
     "name": "stdout",
     "output_type": "stream",
     "text": [
      "## Exercises 1\n",
      "\n",
      "\n",
      "### Exercise 3.1\n",
      "\n",
      "Compute the sample mean from Batch 01 and Batch 04 of the kombucha dataset `datasets/kombucha.csv` .\n",
      "\n",
      "\n",
      "### Exercise 3.2\n",
      "\n",
      "Compute the sample variance from Batch 02 and Batch 08 of the kombucha dataset `datasets/kombucha.csv` .\n",
      "\n",
      "\n",
      "### Exercise 3.3\n",
      "\n",
      "Compute the difference between the means of the sleep `score` s \n",
      "for the doctors working in `rural` locations and `urban` locations\n",
      "in the doctors dataset `datasets/doctors.csv` . \\begin{hint}\n",
      "Use the code \\tt{doctors[doctors[\"location\"]==\"rural\"]} to select\n",
      "the subset of the doctors working in a \\tt{rural} location.\n",
      "\\end{hint} \n",
      "\n",
      "\n",
      "## Exercises 2\n",
      "\n",
      "\n",
      "### Exercise 3.4\n",
      "\n",
      "Generate $N=10k$ observations from the sampling distribution of the estimator `std` for samples of size $n=20$ from the population `rvK`  $= K \\sim \\calN(1000,10)$ .\n",
      "Plot a histogram.\n",
      "\n",
      "\n",
      "### Exercise 3.5\n",
      "\n",
      "Generate the sampling distributions of the estimator `mean` for samples of size $n=10$ , $n=30$ , and $n=100$ from the kombucha population `rvK`  $= K \\sim \\calN(1000,10)$ .\n",
      "Plot a histogram for each.\n",
      "Plot also the probability density function of the normal approximations\n",
      "predicted by the central limit theorem for each case. \\begin{hint}\n",
      "Code block XX shows an example of a combined plot a histogram and the probability density function on the same axis.\n",
      "\\end{hint} \n",
      "\n",
      "\n",
      "### Exercise 3.6\n",
      "\n",
      "Generate sampling distribution of the sample mean for samples of size $n=30$ from the standard uniform model `rvU`  $= U \\sim \\calU(0,1)$ .\n",
      "Plot a histogram.\n",
      "Compare your result with Figure~ \\ref{fig:sampling_dist_of_Ubar} on page \\pageref{fig:sampling_dist_of_Ubar} .\n",
      "Plot the prediction of the central limit theorem on the same axis.\n",
      "\n",
      "\n",
      "## Exercises 3\n",
      "\n",
      "\n",
      "### Exercise 3.7\n",
      "\n",
      "Use the bootstrap procedure to obtain approximations to the sampling distribution of the mean\n",
      "from the sample of apple weights in the dataset `datasets/apples.csv` .\n",
      "Based on your result,\n",
      "what can you say about the unknown population mean $\\mu_A$ ?\n",
      "\n",
      "\n",
      "### Exercise 3.8\n",
      "\n",
      "Compute bootstrap distribution for the sample mean from Batch 04 of the kombucha dataset,\n",
      "and plot a histogram.\n",
      "Do you think Batch 04 is a regular batch or an irregular batch of production?\n",
      "\n",
      "\n",
      "## Exercises 4\n",
      "\n",
      "\n",
      "### Exercise 3.9\n",
      "\n",
      "Describe your uncertainty about the unknown population mean $\\mu_A$ based on sample of apple weights from the dataset `datasets/apples.csv` : **a)** find an analytical formula in terms Student's $t$ -distribution, **b)** use bootstrap estimation, **c)** compare your answers from part a) and b) graphically.\n",
      "\n",
      "\n",
      "## Exercises 5\n",
      "\n",
      "\n",
      "### Exercise 3.10\n",
      "\n",
      "Under regular operations,\n",
      "the kombucha volume is described by the model `rvK`  $= K \\sim \\calN(1000,10)$ . **a)** Plot the probability density function for the sampling distribution of the variance for samples of size $n=40$ from the population $K$ . **b)** Compute the sample variance of Batch 08 from the kombucha dataset. **c)** Compare the observed value in b) to the sampling distribution in a).\n",
      "Does it look like this is a regular batch or irregular batch?\n",
      "\n",
      "\n",
      "### Exercise 3.11\n",
      "\n",
      "Compute the bootstrap approximation for sampling distribution of the variance\n",
      "from Batch 08 of the kombucha dataset.\n",
      "Plot a histogram.\n",
      "\n",
      "\n",
      "## Exercises 6\n",
      "\n",
      "\n",
      "### Exercise 3.12\n",
      "\n",
      "Describe the uncertainty about the difference between means `dmeans(scoresR,scoresU)` ,\n",
      "where `scoresR` and `scoresU` are sleep scores of the rural and urban doctors\n",
      "from the doctors dataset `datasets/apples.csv` . **a)** Find an analytical formula in terms Student's $t$ -distribution. **b)** Use bootstrap estimation. **c)** Compare your answers from part a) and b) graphically.\n",
      "\n",
      "\n",
      "## Exercises 7\n",
      "\n",
      "\n",
      "### Exercise 3.13\n",
      "\n",
      "Generate the sampling distribution of the median for samples of size $n=30$ from the population `rvK`  $= K \\sim \\calN(1000,10)$ .\n",
      "\n",
      "\n",
      "### Exercise 3.14\n",
      "\n",
      "Generate the sampling distribution of `P90` , the 90 \\textsuperscript{th} percentile estimator,\n",
      "from samples of size $n=30$ from `rvK`  $= K \\sim \\calN(1000,10)$ .\n",
      "Calculate the standard error $\\stderr{\\tt{P90}}$ of the estimator.\n",
      "\n",
      "\n",
      "### Exercise 3.15\n",
      "\n",
      "Explain each of these concepts in your own words: **a)** estimate; **b)** estimator; **c)** sampling distribution; **d)** standard error.\n",
      "\n",
      "\n",
      "## Exercises 8\n",
      "\n",
      "\n",
      "### Exercise 3.16\n",
      "\n",
      "Compute a confidence 90\\%confidence interval for the population mean\n",
      "based on the sample from Batch~04 of the `kombucha` dataset.\n",
      "\n",
      "\n",
      "### Exercise 3.17\n",
      "\n",
      "Calculate a confidence 90\\%confidence interval for the for population variance\n",
      "based on the sample from Batch~05 of the `kombucha` dataset.\n",
      "\n",
      "\n",
      "### Exercise 3.18\n",
      "\n",
      "Compute a 95\\%confidence interval for the difference between rural and city sleep scores in the doctors dataset. **a)** Use analytical approximation formula in terms Student's $t$ -distribution. **b)** Use bootstrap estimation.\n",
      "\n",
      "\n",
      "### Exercise 3.19\n",
      "\n",
      "Calculate a 80\\%confidence interval for the difference between lecture and debate groups the students dataset.\n",
      "\n",
      "\n",
      "### Exercise 3.20\n",
      "\n",
      "As part of a lab experiment,\n",
      "sixty-four two-week old rats were given a vitamin D supplement for a period of one month,\n",
      "and their weights were recored at the end of the month (30 days).\n",
      "The sample mean was $89.60$ \\;g with standard deviation $12.96$ \\;g.\n",
      "Calculate a 95\\%confidence interval for the mean weight for rats undergoing this treatment based on: **a)** The normal model. **b)** Student's $t$ -distribution. **c)** Compare your answers in a) and b) and comment on the relevance of using Student's $t$ -distribution in this case. \\begin{eanswer}a) $\\CI{\\mu,0.95} = [86.42,92.78]$;\n",
      " b) $\\CI{\\mu,0.95}=[86.36, 92.84]$.\\end{eanswer}  \\begin{esolution}\n",
      "We have observed the sample mean $\\overline{\\mathbf{x}} = 89.60$\n",
      "and sample standard deviation $s_{\\mathbf{x}} =12.96$ from this sample of size $n=64$.\n",
      "The estimated standard error is $\\stderrhat{\\overline{\\mathbf{x}}} = \\frac{12.96}{\\sqrt{64}} = 1.62$.\n",
      "%\n",
      "To answer \\textbf{a)} we'll use the pivotal quantity\n",
      "$z = \\frac{ \\overline{\\mathbf{x}} - \\mu}{ \\stderrhat{\\overline{\\mathbf{x}}} } \\sim \\calN(0,1)$.\n",
      "To find the 95\\% confidence interval,\n",
      "we need to find the values $z_\\ell$ and $z_u$ such that $\\Pr(\\{z_\\ell \\leq Z \\leq z_u\\}) = 0.95$.\n",
      "We can use the inverse CDF of the standard normal $F^{-1}_Z$\n",
      "to find 2.5\\textsuperscript{th} percentile $z_\\ell = F^{-1}_Z(0.025)=-1.96 = \\tt{norm.ppf(0.025)}$\n",
      "and the 97.5\\textsuperscript{th} percentile $z_u  = F^{-1}_Z(0.975)= 1.96$.\n",
      "The confidence interval expressed in terms of the pivotal quantity \n",
      "is $-1.96 \\leq \\frac{ \\overline{\\mathbf{x}} - \\mu}{ \\stderrhat{\\overline{\\mathbf{x}}} } \\leq 1.96$,\n",
      "which is equivalent to $\\overline{\\mathbf{x}} - 1.96\\,\\stderrhat{\\overline{\\mathbf{x}}} \\leq \\mu \\leq \\overline{\\mathbf{x}} + 1.96\\,\\stderrhat{\\overline{\\mathbf{x}}}$.\n",
      "Plugging in the numbers we obtain \n",
      "$\\CI{\\mu,0.95} = \\{  86.42 \\leq \\mu \\leq 92.78 \\}$,\n",
      "or using interval notation $\\CI{\\mu,0.95} = [86.42,92.78]$.\n",
      "%\n",
      "To answer \\textbf{b)} we'll use the pivotal quantity\n",
      "$t = \\frac{ \\overline{\\mathbf{x}} - \\mu}{ \\stderrhat{\\overline{\\mathbf{x}}} } \\sim \\Tdist(n-1)$,\n",
      "where $\\Tdist(n-1)$ is Student's $t$-distribution with $\\nu=n-1=63$ degrees of freedom.\n",
      "Using the inverse CDF of the Student's $t$-distribution $F^{-1}_{T}$,\n",
      "we find 2.5\\textsuperscript{th} percentile $t_\\ell = F^{-1}_{T_\\nu}(0.025)=-1.998 = \\tt{tdist.ppf(0.025,df=63)}$\n",
      "and the 97.5\\textsuperscript{th} percentile $t_u  = F^{-1}_{T_\\nu}(0.975)= 1.998 = \\tt{tdist.ppf(0.975,df=63)}$,\n",
      "which then leads us to\n",
      "$\\CI{\\mu,0.95} = [\\overline{\\mathbf{x}} - 1.998\\,\\stderrhat{\\overline{\\mathbf{x}}}, \\overline{\\mathbf{x}} + 1.998\\,\\stderrhat{\\overline{\\mathbf{x}}}] = [86.36, 92.84]$.\n",
      "%\n",
      "Note the answers in \\textbf{a)} and \\textbf{b)} are very similar,\n",
      "since Student's $t$-distribution with $\\nu=63$ is very similar to the normal distribution\n",
      "(less need for heavy tails when sample size is large).\n",
      "\\end{esolution} \n",
      "\n",
      "\n"
     ]
    }
   ],
   "source": [
    "chcounter = 3\n",
    "seccounter = 1\n",
    "ecounter = 1\n",
    "\n",
    "mdlines = []\n",
    "\n",
    "for filename in FILENAMES:\n",
    "    mdlines.append(f\"## Exercises {seccounter}\")\n",
    "    mdlines.extend([\"\", \"\"])\n",
    "    filepath = os.path.join(DIR, filename)\n",
    "    texsrc = open(filepath).read()\n",
    "    soup = TexSoup.TexSoup(texsrc)\n",
    "    exercises = soup.exercises.find_all(\"exercise\")\n",
    "    for exercise in exercises:\n",
    "        mdlines.append(f\"### Exercise {chcounter}.{ecounter}\")\n",
    "        mdlines.append(\"\")\n",
    "        # print(exercise.string[0:4])\n",
    "        contents = \"\"\n",
    "        for el in exercise.contents:\n",
    "            if type(el) == TexSoup.utils.Token:\n",
    "                el = el.replace(\"\\t\",\"\")\n",
    "                text = el.strip()\n",
    "                if text.startswith(\"%\"):\n",
    "                    continue\n",
    "                contents += text\n",
    "            elif type(el) == TexSoup.data.TexNode:\n",
    "                if hasattr(el, \"name\") and el.name == \"tt\":\n",
    "                    contents += \" `\" + el.string + \"` \"\n",
    "                elif hasattr(el, \"name\") and el.name == \"textbf\":\n",
    "                    contents += \" **\" + el.string + \"** \"\n",
    "                else:\n",
    "                    elstr = str(el)\n",
    "                    elstr = elstr.replace(\"\\t\",\"\")\n",
    "                    contents += \" \" + elstr + \" \"\n",
    "        mdlines.append(contents)\n",
    "        \n",
    "        mdlines.extend([\"\", \"\"])\n",
    "        ecounter += 1\n",
    "    seccounter += 1\n",
    "\n",
    "        \n",
    "print(\"\\n\".join(mdlines))"
   ]
  },
  {
   "cell_type": "code",
   "execution_count": null,
   "id": "dcc93718-6fd8-4585-a587-fdc946f55515",
   "metadata": {},
   "outputs": [],
   "source": []
  }
 ],
 "metadata": {
  "kernelspec": {
   "display_name": "Python 3 (ipykernel)",
   "language": "python",
   "name": "python3"
  },
  "language_info": {
   "codemirror_mode": {
    "name": "ipython",
    "version": 3
   },
   "file_extension": ".py",
   "mimetype": "text/x-python",
   "name": "python",
   "nbconvert_exporter": "python",
   "pygments_lexer": "ipython3",
   "version": "3.9.4"
  }
 },
 "nbformat": 4,
 "nbformat_minor": 5
}
