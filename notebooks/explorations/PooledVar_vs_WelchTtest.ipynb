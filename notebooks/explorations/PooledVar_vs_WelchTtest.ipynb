{
 "cells": [
  {
   "cell_type": "markdown",
   "id": "2b65bc37-6058-4e04-b517-048c4587b3b9",
   "metadata": {},
   "source": [
    "## Pooled variances considered harmful\n",
    "\n",
    "This answer from stack overflow provides lots of useful info about why\n",
    "we don't want to use t-test with pooled variances:\n",
    "https://math.stackexchange.com/a/3442883/46349\n"
   ]
  },
  {
   "cell_type": "code",
   "execution_count": 3,
   "id": "84bf3882-8ba6-429c-ba8f-3287c8cf83e2",
   "metadata": {},
   "outputs": [],
   "source": [
    "import numpy as np\n",
    "from scipy.stats import ttest_ind\n",
    "from scipy.stats import norm\n"
   ]
  },
  {
   "cell_type": "code",
   "execution_count": 12,
   "id": "a639ea2a-e5e6-4387-8ae5-b1e60754d384",
   "metadata": {},
   "outputs": [],
   "source": [
    "# models for pathological case   sigma1 >> sigma2  and  n1 << n2\n",
    "mu1, sigma1, n1 = 100, 20, 10\n",
    "mu2, sigma2, n2 = 100,  5, 40"
   ]
  },
  {
   "cell_type": "code",
   "execution_count": 13,
   "id": "f4dd270b-ad01-4851-80e5-191de63d979e",
   "metadata": {},
   "outputs": [
    {
     "data": {
      "text/plain": [
       "0.2926"
      ]
     },
     "execution_count": 13,
     "metadata": {},
     "output_type": "execute_result"
    }
   ],
   "source": [
    "np.random.seed(1119)\n",
    "\n",
    "N = 5000\n",
    "pvalues_pooled = np.zeros(N)\n",
    "for i in range(0,N):\n",
    "    x1 = norm(mu1, sigma1).rvs(n1)\n",
    "    x2 = norm(mu2, sigma2).rvs(n2)\n",
    "    res = ttest_ind(x1, x2, equal_var=True)  # Pooled variences t-test\n",
    "    pvalues_pooled[i] = res.pvalue\n",
    "\n",
    "np.mean(pvalues_pooled < 0.05)"
   ]
  },
  {
   "cell_type": "code",
   "execution_count": 11,
   "id": "eef86004-951d-4d6d-988b-8ae1d53c4961",
   "metadata": {},
   "outputs": [
    {
     "data": {
      "text/plain": [
       "0.0508"
      ]
     },
     "execution_count": 11,
     "metadata": {},
     "output_type": "execute_result"
    }
   ],
   "source": [
    "np.random.seed(1119)\n",
    "\n",
    "N = 5000\n",
    "pvalues_welch = np.zeros(N)\n",
    "for i in range(0,N):\n",
    "    x1 = norm(mu1, sigma1).rvs(n1)\n",
    "    x2 = norm(mu2, sigma2).rvs(n2)\n",
    "    res = ttest_ind(x1, x2, equal_var=False)  # Welch's t-test\n",
    "    pvalues_welch[i] = res.pvalue\n",
    "\n",
    "np.mean(pvalues_welch < 0.05)"
   ]
  },
  {
   "cell_type": "code",
   "execution_count": null,
   "id": "378701c1-8d40-4cd0-aa10-77c10745476c",
   "metadata": {},
   "outputs": [],
   "source": []
  }
 ],
 "metadata": {
  "kernelspec": {
   "display_name": "Python 3 (ipykernel)",
   "language": "python",
   "name": "python3"
  },
  "language_info": {
   "codemirror_mode": {
    "name": "ipython",
    "version": 3
   },
   "file_extension": ".py",
   "mimetype": "text/x-python",
   "name": "python",
   "nbconvert_exporter": "python",
   "pygments_lexer": "ipython3",
   "version": "3.9.4"
  }
 },
 "nbformat": 4,
 "nbformat_minor": 5
}
