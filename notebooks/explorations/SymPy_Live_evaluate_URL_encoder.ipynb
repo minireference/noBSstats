{
 "cells": [
  {
   "cell_type": "markdown",
   "id": "576b2540-9bbe-4583-9b44-988d821d8065",
   "metadata": {},
   "source": [
    "# SymPy Live Short URL generator"
   ]
  },
  {
   "cell_type": "code",
   "execution_count": 1,
   "id": "b1ccd30e-db28-49d2-bf8d-802825a98a7a",
   "metadata": {},
   "outputs": [],
   "source": [
    "from urllib.parse import quote\n",
    "from urllib.parse import parse_qs"
   ]
  },
  {
   "cell_type": "code",
   "execution_count": null,
   "id": "2f2c07ed-236b-44c1-9cc0-881ec07a5f4e",
   "metadata": {},
   "outputs": [],
   "source": []
  },
  {
   "cell_type": "markdown",
   "id": "b2401744-cc8a-4551-9314-2264739ccd8a",
   "metadata": {},
   "source": [
    "\n",
    "The function `hist_to_qs` works similar to the cold in the code in `live-core.js` in the old `sympy-live` repo:\n",
    "- https://github.com/sympy/sympy-web-static/blob/master/sympy-live/javascript/live-core.js#L1149-L1151\n",
    "- https://github.com/sympy/sympy-web-static/blob/master/sympy-live/javascript/live-core.js#L1120-L1125\n"
   ]
  },
  {
   "cell_type": "code",
   "execution_count": 2,
   "id": "0d7c95c0-beeb-479d-ab4f-be6bdcb1faf9",
   "metadata": {},
   "outputs": [],
   "source": [
    "from urllib.parse import quote\n",
    "\n",
    "BASE_URL = \"https://live.sympy.org/\"\n",
    "SAFE_CHARS = \"-_.!~*'()\"  # according to `encodeURIComponent` in JS\n",
    "\n",
    "def hist_to_qs(codein):\n",
    "    codein = codein.strip()\n",
    "    cells = codein.split(\"\\n\\n\")\n",
    "    cellouts = []\n",
    "    for cell in cells:\n",
    "        lines = cell.split(\"\\n\")\n",
    "        cellout = \"\"\n",
    "        for line in lines:\n",
    "            cellout += line + \"\\n\"\n",
    "        cellouts.append(cellout)\n",
    "    codeout = \"#--\\n\".join(cellouts)\n",
    "    return \"evaluate=\" + quote(codeout, safe=SAFE_CHARS)"
   ]
  },
  {
   "cell_type": "markdown",
   "id": "f629d611-2381-4739-9036-7b076d089701",
   "metadata": {},
   "source": [
    "### Test case 1"
   ]
  },
  {
   "cell_type": "code",
   "execution_count": 3,
   "id": "2e1fc533-6e38-4ada-abed-54eb3a4bf169",
   "metadata": {},
   "outputs": [
    {
     "name": "stdout",
     "output_type": "stream",
     "text": [
      "https://live.sympy.org/?evaluate=diff(sin(x)%2C%20x)%0A\n"
     ]
    }
   ],
   "source": [
    "in1 = \"\"\"\n",
    "diff(sin(x), x)\n",
    "\"\"\"\n",
    "exp1 = \"evaluate=diff(sin(x)%2C%20x)%0A\"\n",
    "out1 = hist_to_qs(in1)\n",
    "assert out1 == exp1\n",
    "url1 = BASE_URL + \"?\" + out1\n",
    "print(url1)"
   ]
  },
  {
   "cell_type": "markdown",
   "id": "8c222047-8240-45c8-bda2-a7a37398d32e",
   "metadata": {},
   "source": [
    "### Test case 2"
   ]
  },
  {
   "cell_type": "code",
   "execution_count": 4,
   "id": "e821fc60-1a03-457b-8efe-2b9c8e602e63",
   "metadata": {},
   "outputs": [
    {
     "name": "stdout",
     "output_type": "stream",
     "text": [
      "https://live.sympy.org/?evaluate=x%20%3D%203%0Ay%20%3D%205%0A%23--%0Ax%20%2B%20y%0A\n"
     ]
    }
   ],
   "source": [
    "in2 = \"\"\"\n",
    "x = 3\n",
    "y = 5\n",
    "\n",
    "x + y\n",
    "\"\"\"\n",
    "exp2 = \"evaluate=x%20%3D%203%0Ay%20%3D%205%0A%23--%0Ax%20%2B%20y%0A\"\n",
    "out2 = hist_to_qs(in2)\n",
    "assert out2 == exp2\n",
    "url2 = BASE_URL + \"?\" + out2\n",
    "print(url2)"
   ]
  },
  {
   "cell_type": "code",
   "execution_count": null,
   "id": "d2ca8221-0c6e-45d2-bfd0-3d7c6a5997fb",
   "metadata": {},
   "outputs": [],
   "source": []
  },
  {
   "cell_type": "markdown",
   "id": "465ab11e-97f8-4bb4-96b5-fd016aedb3f9",
   "metadata": {},
   "source": [
    "### Test case 3"
   ]
  },
  {
   "cell_type": "code",
   "execution_count": 5,
   "id": "617cacd2-87a0-4110-abb7-3e992c6dc444",
   "metadata": {},
   "outputs": [
    {
     "name": "stdout",
     "output_type": "stream",
     "text": [
      "https://live.sympy.org/?evaluate=A%20%3D%20Matrix(%5B%0A%20%20%5B1%2C%204%2C%205%5D%2C%0A%20%20%5B3%2C%202%2C%205%5D%2C%0A%20%20%5B2%2C%201%2C%203%5D%5D)%0A%23--%0AA%0A%23--%0Adef%20crd(A)%3A%0A%20%20%20%20%22%22%22%0A%20%20%20%20Computes%20the%20CR%20decomposition%20of%20the%20matrix%20A.%0A%20%20%20%20%22%22%22%0A%20%20%20%20rrefA%2C%20licols%20%3D%20A.rref()%20%20%23%20compute%20RREF(A)%0A%20%20%20%20C%20%3D%20A%5B%3A%2C%20licols%5D%20%20%20%20%20%20%20%20%20%20%23%20linearly%20indep.%20cols%20of%20A%0A%20%20%20%20r%20%3D%20len(licols)%20%20%20%20%20%20%20%20%20%20%20%23%20%3D%20rank(A)%0A%20%20%20%20R%20%3D%20rrefA%5B0%3Ar%2C%20%3A%5D%20%20%20%20%20%20%20%20%20%23%20non-zero%20rows%20in%20RREF(A)%0A%20%20%20%20return%20C%2C%20R%0A%23--%0AC%2C%20R%20%3D%20crd(A)%0A%23--%0AC%0A%23--%0AR%0A%23--%0AC*R%0A\n"
     ]
    }
   ],
   "source": [
    "in3 = '''\n",
    "A = Matrix([\n",
    "  [1, 4, 5],\n",
    "  [3, 2, 5],\n",
    "  [2, 1, 3]])\n",
    "\n",
    "A\n",
    "\n",
    "def crd(A):\n",
    "    \"\"\"\n",
    "    Computes the CR decomposition of the matrix A.\n",
    "    \"\"\"\n",
    "    rrefA, licols = A.rref()  # compute RREF(A)\n",
    "    C = A[:, licols]          # linearly indep. cols of A\n",
    "    r = len(licols)           # = rank(A)\n",
    "    R = rrefA[0:r, :]         # non-zero rows in RREF(A)\n",
    "    return C, R\n",
    "\n",
    "C, R = crd(A)\n",
    "\n",
    "C\n",
    "\n",
    "R\n",
    "\n",
    "C*R\n",
    "'''\n",
    "exp3 = \"evaluate=A%20%3D%20Matrix(%5B%0A%20%20%5B1%2C%204%2C%205%5D%2C%0A%20%20%5B3%2C%202%2C%205%5D%2C%0A%20%20%5B2%2C%201%2C%203%5D%5D)%0A%23--%0AA%0A%23--%0Adef%20crd(A)%3A%0A%20%20%20%20%22%22%22%0A%20%20%20%20Computes%20the%20CR%20decomposition%20of%20the%20matrix%20A.%0A%20%20%20%20%22%22%22%0A%20%20%20%20rrefA%2C%20licols%20%3D%20A.rref()%20%20%23%20compute%20RREF(A)%0A%20%20%20%20C%20%3D%20A%5B%3A%2C%20licols%5D%20%20%20%20%20%20%20%20%20%20%23%20linearly%20indep.%20cols%20of%20A%0A%20%20%20%20r%20%3D%20len(licols)%20%20%20%20%20%20%20%20%20%20%20%23%20%3D%20rank(A)%0A%20%20%20%20R%20%3D%20rrefA%5B0%3Ar%2C%20%3A%5D%20%20%20%20%20%20%20%20%20%23%20non-zero%20rows%20in%20RREF(A)%0A%20%20%20%20return%20C%2C%20R%0A%23--%0AC%2C%20R%20%3D%20crd(A)%0A%23--%0AC%0A%23--%0AR%0A%23--%0AC*R%0A\"\n",
    "out3 = hist_to_qs(in3)\n",
    "assert out3 == exp3\n",
    "url3 = BASE_URL + \"?\" + out3\n",
    "print(url3)"
   ]
  },
  {
   "cell_type": "code",
   "execution_count": null,
   "id": "1506580e-6dad-48d7-aa9b-253bdf9b0604",
   "metadata": {},
   "outputs": [],
   "source": []
  },
  {
   "cell_type": "code",
   "execution_count": null,
   "id": "7d4820b3-787a-4f7f-8620-9eb14c73353d",
   "metadata": {},
   "outputs": [],
   "source": []
  },
  {
   "cell_type": "code",
   "execution_count": 6,
   "id": "cdf9ec44-c394-4404-afe0-08fe145820e0",
   "metadata": {},
   "outputs": [],
   "source": [
    "# debugging\n",
    "# parse_qs(out2)"
   ]
  },
  {
   "cell_type": "code",
   "execution_count": null,
   "id": "f04555f5-5f24-41f5-9e7d-fed76b8a3a63",
   "metadata": {},
   "outputs": [],
   "source": []
  },
  {
   "cell_type": "code",
   "execution_count": null,
   "id": "cfa2c287-3d4d-4c26-9e8d-b976a2c9f3e3",
   "metadata": {},
   "outputs": [],
   "source": []
  }
 ],
 "metadata": {
  "kernelspec": {
   "display_name": "Python 3 (ipykernel)",
   "language": "python",
   "name": "python3"
  },
  "language_info": {
   "codemirror_mode": {
    "name": "ipython",
    "version": 3
   },
   "file_extension": ".py",
   "mimetype": "text/x-python",
   "name": "python",
   "nbconvert_exporter": "python",
   "pygments_lexer": "ipython3",
   "version": "3.9.4"
  }
 },
 "nbformat": 4,
 "nbformat_minor": 5
}
