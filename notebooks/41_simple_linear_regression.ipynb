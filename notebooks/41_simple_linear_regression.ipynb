{
 "cells": [
  {
   "cell_type": "markdown",
   "id": "20494dde-6150-4220-9a0e-804415d7b5c6",
   "metadata": {
    "tags": []
   },
   "source": [
    "# Section 4.1 — Simple linear regression\n",
    "\n",
    "This notebook contains the code examples from [Section 4.1 Simple linear regression]() from the **No Bullshit Guide to Statistics**."
   ]
  },
  {
   "cell_type": "markdown",
   "id": "f1aec2b4-6686-4991-8aa4-7d510c1b7564",
   "metadata": {
    "tags": []
   },
   "source": [
    "#### Notebook setup"
   ]
  },
  {
   "cell_type": "code",
   "execution_count": null,
   "id": "0003a9e7-21c7-47a5-bdec-3bd3ca2a79f4",
   "metadata": {},
   "outputs": [],
   "source": [
    "# load Python modules\n",
    "import os\n",
    "import numpy as np\n",
    "import pandas as pd\n",
    "import seaborn as sns\n",
    "import matplotlib.pyplot as plt"
   ]
  },
  {
   "cell_type": "code",
   "execution_count": null,
   "id": "8e67e0e7-4f48-4c48-a49d-3cdf22cbd014",
   "metadata": {},
   "outputs": [],
   "source": [
    "# Figures setup\n",
    "plt.clf()  # needed otherwise `sns.set_theme` doesn\"t work\n",
    "from plot_helpers import RCPARAMS\n",
    "RCPARAMS.update({\"figure.figsize\": (5, 3)})   # good for screen\n",
    "# RCPARAMS.update({\"figure.figsize\": (5, 1.6)})  # good for print\n",
    "sns.set_theme(\n",
    "    context=\"paper\",\n",
    "    style=\"whitegrid\",\n",
    "    palette=\"colorblind\",\n",
    "    rc=RCPARAMS,\n",
    ")\n",
    "\n",
    "# High-resolution please\n",
    "%config InlineBackend.figure_format = \"retina\"\n",
    "\n",
    "# Where to store figures\n",
    "DESTDIR = \"figures/lm/simple\""
   ]
  },
  {
   "cell_type": "code",
   "execution_count": null,
   "id": "c8453a57-77d1-4e38-bd7e-a1d9e1a6ed0e",
   "metadata": {},
   "outputs": [],
   "source": [
    "from ministats import plot_residuals\n",
    "from ministats import plot_residuals2\n",
    "from ministats.utils import savefigure"
   ]
  },
  {
   "cell_type": "code",
   "execution_count": null,
   "id": "efc0e89b-72bf-4658-8f8a-a3d85bee00b6",
   "metadata": {},
   "outputs": [],
   "source": [
    "# set random seed for repeatability\n",
    "np.random.seed(42)"
   ]
  },
  {
   "cell_type": "code",
   "execution_count": null,
   "id": "ff85a934-a014-4e3e-b18a-a8054186c4aa",
   "metadata": {},
   "outputs": [],
   "source": [
    "import warnings\n",
    "# silence kurtosistest warning when using n < 20\n",
    "warnings.filterwarnings(\"ignore\", category=UserWarning)"
   ]
  },
  {
   "cell_type": "markdown",
   "id": "6347dbe9-60ad-4baa-9163-1175d8fef2e0",
   "metadata": {},
   "source": [
    "$\\def\\stderr#1{\\mathbf{se}_{#1}}$\n",
    "$\\def\\stderrhat#1{\\hat{\\mathbf{se}}_{#1}}$\n",
    "$\\newcommand{\\Mean}{\\textbf{Mean}}$\n",
    "$\\newcommand{\\Var}{\\textbf{Var}}$\n",
    "$\\newcommand{\\Std}{\\textbf{Std}}$\n",
    "$\\newcommand{\\Freq}{\\textbf{Freq}}$\n",
    "$\\newcommand{\\RelFreq}{\\textbf{RelFreq}}$\n",
    "$\\newcommand{\\DMeans}{\\textbf{DMeans}}$\n",
    "$\\newcommand{\\Prop}{\\textbf{Prop}}$\n",
    "$\\newcommand{\\DProps}{\\textbf{DProps}}$\n",
    "\n",
    "$$\n",
    "\\newcommand{\\CI}[1]{\\textbf{CI}_{#1}}\n",
    "\\newcommand{\\CIL}[1]{\\textbf{L}_{#1}}\n",
    "\\newcommand{\\CIU}[1]{\\textbf{U}_{#1}}\n",
    "\\newcommand{\\ci}[1]{\\textbf{ci}_{#1}}\n",
    "\\newcommand{\\cil}[1]{\\textbf{l}_{#1}}\n",
    "\\newcommand{\\ciu}[1]{\\textbf{u}_{#1}}\n",
    "$$\n",
    "\n",
    "\n",
    "(this cell contains the macro definitions like $\\stderr{\\overline{\\mathbf{x}}}$, $\\stderrhat{}$, $\\Mean$, ...)"
   ]
  },
  {
   "cell_type": "markdown",
   "id": "57fe7cf6-4fb2-4bfa-b622-4754023519b4",
   "metadata": {},
   "source": [
    "## Definitions"
   ]
  },
  {
   "cell_type": "code",
   "execution_count": null,
   "id": "dea83d93-b998-4c22-87a4-8564b9d806a4",
   "metadata": {},
   "outputs": [],
   "source": []
  },
  {
   "cell_type": "markdown",
   "id": "e7443894-c4f9-42b7-aac1-4c09bc8b3dad",
   "metadata": {},
   "source": [
    "## Linear model"
   ]
  },
  {
   "cell_type": "code",
   "execution_count": null,
   "id": "ce17881f-1dad-4c16-a9f2-148802cf6575",
   "metadata": {},
   "outputs": [],
   "source": [
    "from scipy.stats import norm\n",
    "\n",
    "# Define the linear model function\n",
    "def linear_model(x):\n",
    "    return 30 + 5 * x\n",
    "\n",
    "# Define sigma for the normal distribution\n",
    "sigma = 8\n",
    "\n",
    "with sns.axes_style(\"ticks\"):\n",
    "    fig, ax = plt.subplots(figsize=(5, 3))\n",
    "\n",
    "    # Plot the linear model\n",
    "    xs = np.linspace(0, 8, 200)\n",
    "    ys = linear_model(xs)\n",
    "    sns.lineplot(x=xs, y=ys, ax=ax, label=r\"$\\mu_Y(x) = \\beta_0 + \\beta_1x$\", linewidth=2)\n",
    "    \n",
    "    # Plot Gaussian distributions at specified x positions and add sigma lines\n",
    "    x_positions = range(1,8)\n",
    "    for x_pos in x_positions:\n",
    "        y_pos = linear_model(x_pos)\n",
    "        ys = np.linspace(y_pos-3.5*sigma, y_pos+3.5*sigma, 100)\n",
    "        pdf = 0.7*norm(loc=y_pos, scale=sigma).pdf(ys)\n",
    "        ax.fill_betweenx(ys, x_pos - pdf * sigma, x_pos, color=\"grey\", alpha=0.5)\n",
    "        # Draw vertical sigma line and label it on the opposite side of the Gaussian shape\n",
    "        ax.plot([x_pos, x_pos], [y_pos, y_pos - sigma], \"k\", lw=1)\n",
    "        ax.text(x_pos + 0.06, y_pos - sigma / 2, r\"$\\sigma$\", fontsize=12, va=\"center\")\n",
    "\n",
    "    # y-intercept\n",
    "    ax.text(0 - 0.15, 30, r\"$\\beta_0$\", fontsize=10, va=\"center\", ha=\"right\")\n",
    "\n",
    "    # Set up x-axis\n",
    "    ax.set_xlim([0, 8])\n",
    "    ax.set_xlabel(\"$x$\")\n",
    "    ax.set_xticklabels([])\n",
    "    \n",
    "    # Set up y-axis\n",
    "    ax.set_ylim([0, 100])\n",
    "    ax.set_ylabel(\"$y$\")\n",
    "    ax.set_yticks(range(0,110,10))\n",
    "    ax.set_yticklabels([])\n",
    "    \n",
    "    ax.legend(loc=\"upper left\")\n",
    "\n",
    "filename = os.path.join(DESTDIR, \"linear_model_xy_with_gaussians.pdf\")\n",
    "savefigure(fig, filename)"
   ]
  },
  {
   "cell_type": "code",
   "execution_count": null,
   "id": "fde83114-92ce-46ab-9747-8ac3ca290c75",
   "metadata": {},
   "outputs": [],
   "source": []
  },
  {
   "cell_type": "markdown",
   "id": "1cd8f0bd-44ab-4a22-a2c9-0620867c4021",
   "metadata": {},
   "source": [
    "## Example: students score as a function of effort"
   ]
  },
  {
   "cell_type": "code",
   "execution_count": null,
   "id": "0faf48ee-9e3c-487b-b736-e1077da3ded1",
   "metadata": {},
   "outputs": [],
   "source": [
    "students = pd.read_csv(\"../datasets/students.csv\")\n",
    "students.head()"
   ]
  },
  {
   "cell_type": "code",
   "execution_count": null,
   "id": "eb60f3c0-6542-435e-987d-47a94189133e",
   "metadata": {},
   "outputs": [],
   "source": [
    "efforts = students[\"effort\"]\n",
    "scores = students[\"score\"]\n",
    "sns.scatterplot(x=efforts, y=scores)\n",
    "\n",
    "filename = os.path.join(DESTDIR, \"students_scores_vs_effort_scatterplot.pdf\")\n",
    "savefigure(plt.gcf(), filename)"
   ]
  },
  {
   "cell_type": "markdown",
   "id": "3301ce65-8924-43e1-b32b-7f65c9eb6730",
   "metadata": {},
   "source": [
    "#### Compute the correlation"
   ]
  },
  {
   "cell_type": "code",
   "execution_count": null,
   "id": "6bdbc4db-8b05-46a7-bd45-c92340e29e59",
   "metadata": {},
   "outputs": [],
   "source": [
    "np.corrcoef(efforts, scores)[0,1]\n",
    "# ALT. students[[\"effort\",\"score\"]].corr()\n",
    "# np.corrcoef"
   ]
  },
  {
   "cell_type": "code",
   "execution_count": null,
   "id": "684f0165-82ce-4ffb-88ba-565ef4d44ef8",
   "metadata": {},
   "outputs": [],
   "source": []
  },
  {
   "cell_type": "code",
   "execution_count": null,
   "id": "c43474e1-8f93-44b1-94be-0d48c1926a0d",
   "metadata": {},
   "outputs": [],
   "source": []
  },
  {
   "cell_type": "markdown",
   "id": "a8cdc401-f346-4895-a94a-a1b6ba40e80c",
   "metadata": {},
   "source": [
    "## Parameter estimation using least squares"
   ]
  },
  {
   "cell_type": "code",
   "execution_count": null,
   "id": "e59e24ff-9929-470a-a806-9ee34bd6f8b5",
   "metadata": {},
   "outputs": [],
   "source": [
    "meaneffort = efforts.mean()\n",
    "meanscore = scores.mean()\n",
    "num = np.sum( (efforts-meaneffort)*(scores-meanscore) )\n",
    "denom = np.sum( (efforts - meaneffort)**2 )\n",
    "b1 = num / denom\n",
    "b1"
   ]
  },
  {
   "cell_type": "code",
   "execution_count": null,
   "id": "d981271d-23e5-41ea-b183-bf2e100aaa42",
   "metadata": {},
   "outputs": [],
   "source": [
    "b0 = meanscore - b1*meaneffort\n",
    "b0"
   ]
  },
  {
   "cell_type": "code",
   "execution_count": null,
   "id": "952198ee-e18e-47a7-8f95-b1d4867491d2",
   "metadata": {},
   "outputs": [],
   "source": [
    "es = np.linspace(5, 12)\n",
    "shats = b0 + b1*es\n",
    "sns.lineplot(x=es, y=shats)\n",
    "sns.scatterplot(x=efforts, y=scores)\n",
    "\n",
    "filename = os.path.join(DESTDIR, \"students_scores_vs_effort_with_line.pdf\")\n",
    "savefigure(plt.gcf(), filename)"
   ]
  },
  {
   "cell_type": "code",
   "execution_count": null,
   "id": "9072ddc2-ca81-4e89-af5e-fd3e0a372684",
   "metadata": {},
   "outputs": [],
   "source": [
    "# # ALT.\n",
    "# sns.regplot(x=efforts, y=scores, ci=None);"
   ]
  },
  {
   "cell_type": "code",
   "execution_count": null,
   "id": "c0333d0d-3bbb-40be-9f5c-31633ca44d47",
   "metadata": {},
   "outputs": [],
   "source": []
  },
  {
   "cell_type": "markdown",
   "id": "ad4296f7-3168-465a-8a40-34814a4da2fd",
   "metadata": {},
   "source": [
    "### Least squares optimization for the parameters\n",
    "\n",
    "How do we find the parameter estimates of the model?"
   ]
  },
  {
   "cell_type": "code",
   "execution_count": null,
   "id": "22bae225-2f19-4d52-b6c3-846601924af6",
   "metadata": {},
   "outputs": [],
   "source": [
    "plot_residuals(efforts, scores, b0, b1)\n",
    "sns.scatterplot(x=efforts, y=scores)\n",
    "es = np.linspace(5, 12.2)\n",
    "shats = b0 + b1*es\n",
    "sns.lineplot(x=es, y=shats, color=\"C4\");\n",
    "\n",
    "filename = os.path.join(DESTDIR, \"students_scores_with_residuals.pdf\")\n",
    "savefigure(plt.gcf(), filename)"
   ]
  },
  {
   "cell_type": "code",
   "execution_count": null,
   "id": "4b9b4a2e-9381-480a-a4c4-effbd6feb266",
   "metadata": {},
   "outputs": [],
   "source": [
    "ax = sns.scatterplot(x=efforts, y=scores, zorder=4)\n",
    "es = np.linspace(5, 12.2)\n",
    "shats = b0 + b1*es\n",
    "sns.lineplot(x=es, y=shats, color=\"C4\", zorder=5)\n",
    "plot_residuals2(efforts, scores, b0, b1, ax=ax);\n",
    "\n",
    "filename = os.path.join(DESTDIR, \"students_scores_with_residuals_squared.pdf\")\n",
    "savefigure(plt.gcf(), filename)"
   ]
  },
  {
   "cell_type": "code",
   "execution_count": null,
   "id": "153c3c83-59fb-4be9-9ca8-93e47be9f39c",
   "metadata": {},
   "outputs": [],
   "source": []
  },
  {
   "cell_type": "markdown",
   "id": "501e159d-bdef-431e-8b72-341a8f82e68e",
   "metadata": {},
   "source": [
    "### Estimating the standard deviation parameter"
   ]
  },
  {
   "cell_type": "code",
   "execution_count": null,
   "id": "9552b0f9-da10-4126-81e3-fd1e2ca4ff01",
   "metadata": {},
   "outputs": [],
   "source": [
    "scorehats = b0 + b1*efforts\n",
    "residuals = scores - scorehats\n",
    "residuals[0:4]"
   ]
  },
  {
   "cell_type": "code",
   "execution_count": null,
   "id": "38ec4501-725a-4aa5-851d-83fd22f5180a",
   "metadata": {},
   "outputs": [],
   "source": [
    "SSR = np.sum( residuals**2 )\n",
    "n = len(students)\n",
    "sigmahat = np.sqrt( SSR / (n-2) )\n",
    "sigmahat"
   ]
  },
  {
   "cell_type": "code",
   "execution_count": null,
   "id": "2f51c3af-5aca-4983-b204-0571e081d1b7",
   "metadata": {},
   "outputs": [],
   "source": []
  },
  {
   "cell_type": "markdown",
   "id": "dab93b33-23f6-42b1-b391-5acfc3c914b4",
   "metadata": {},
   "source": [
    "## Model diagnostics"
   ]
  },
  {
   "cell_type": "markdown",
   "id": "9924b412-c55b-4b56-b249-2cb0431b7367",
   "metadata": {},
   "source": [
    "### Residuals plots"
   ]
  },
  {
   "cell_type": "code",
   "execution_count": null,
   "id": "049114e7-725e-43f4-be0f-b7789fa55eba",
   "metadata": {},
   "outputs": [],
   "source": [
    "scorehats = b0 + b1*efforts\n",
    "residuals = scores - scorehats"
   ]
  },
  {
   "cell_type": "code",
   "execution_count": null,
   "id": "b4b06e60-78dc-44c5-9536-c5dde59ea7c0",
   "metadata": {},
   "outputs": [],
   "source": [
    "ax = sns.scatterplot(x=efforts, y=residuals, color=\"red\")\n",
    "ax.set_ylabel(\"residuals ($r_i = s_i - \\\\hat{s}_i$)\")\n",
    "ax.axhline(y=0, color=\"b\", linestyle=\"dashed\");\n",
    "\n",
    "filename = os.path.join(DESTDIR, \"residuals_plot_vs_effort.pdf\")\n",
    "savefigure(plt.gcf(), filename)"
   ]
  },
  {
   "cell_type": "code",
   "execution_count": null,
   "id": "5b615934-6b73-40f6-a82e-fb7f8bddf270",
   "metadata": {},
   "outputs": [],
   "source": [
    "# # ALT.\n",
    "# sns.residplot(data=students, x=\"effort\", y=\"score\", lowess=True, color=\"g\");"
   ]
  },
  {
   "cell_type": "code",
   "execution_count": null,
   "id": "adcd86d8-7c7c-4096-a427-df34c5e2fb95",
   "metadata": {},
   "outputs": [],
   "source": [
    "from statsmodels.graphics.api import qqplot\n",
    "with plt.rc_context({\"figure.figsize\":(4,3)}):\n",
    "    qqplot(residuals, line=\"s\")\n",
    "\n",
    "plt.xlabel(\"theoretical quantiles (normal)\")\n",
    "plt.ylabel(\"residuals quantiles\")\n",
    "filename = os.path.join(DESTDIR, \"residuals_plot_vs_effort_qqplot.pdf\")\n",
    "savefigure(plt.gcf(), filename)"
   ]
  },
  {
   "cell_type": "code",
   "execution_count": null,
   "id": "bc5aabf2-909f-4d83-a99f-3e8c4c97438e",
   "metadata": {},
   "outputs": [],
   "source": []
  },
  {
   "cell_type": "markdown",
   "id": "f5e7818e-b84d-4abe-b9ea-501b6bf58c81",
   "metadata": {},
   "source": [
    "### Sum of squares quantities"
   ]
  },
  {
   "cell_type": "markdown",
   "id": "ba0bc0c3-cd94-4307-8229-cd5f9ce8ca0c",
   "metadata": {},
   "source": [
    "#### Sum of squared residuals"
   ]
  },
  {
   "cell_type": "code",
   "execution_count": null,
   "id": "04b46a45-91d2-4b79-b517-c26bd64d3569",
   "metadata": {},
   "outputs": [],
   "source": [
    "SSR = np.sum( residuals**2 )\n",
    "SSR"
   ]
  },
  {
   "cell_type": "markdown",
   "id": "7b312aae-b5a5-4885-b895-f150b46d0ed4",
   "metadata": {},
   "source": [
    "#### Explained sum of squares"
   ]
  },
  {
   "cell_type": "code",
   "execution_count": null,
   "id": "b9826308-f007-4b3c-8dab-b9b9faf429b4",
   "metadata": {},
   "outputs": [],
   "source": [
    "meanscore = scores.mean()\n",
    "ESS = np.sum( (scorehats-meanscore)**2 ) \n",
    "ESS"
   ]
  },
  {
   "cell_type": "markdown",
   "id": "2a478a24-3655-409a-b361-a30595008191",
   "metadata": {},
   "source": [
    "#### Total sum of squares"
   ]
  },
  {
   "cell_type": "code",
   "execution_count": null,
   "id": "7440d1e9-ea30-433a-9cb9-4c6e9f0a225b",
   "metadata": {},
   "outputs": [],
   "source": [
    "TSS = np.sum( (scores - meanscore)**2 )\n",
    "TSS"
   ]
  },
  {
   "cell_type": "code",
   "execution_count": null,
   "id": "7431957c-b885-4776-af2c-0021c5f00e46",
   "metadata": {},
   "outputs": [],
   "source": [
    "SSR + ESS  # == TSS"
   ]
  },
  {
   "cell_type": "code",
   "execution_count": null,
   "id": "023c1a69-5b4f-4e89-a138-7d5afa9c3961",
   "metadata": {},
   "outputs": [],
   "source": []
  },
  {
   "cell_type": "markdown",
   "id": "ca9304ff-2bed-4ded-822e-cbb5e2c649eb",
   "metadata": {},
   "source": [
    "### Coefficient of determination $R^2$"
   ]
  },
  {
   "cell_type": "code",
   "execution_count": null,
   "id": "9b5953c2-2648-4b7e-8428-f545d11d6069",
   "metadata": {},
   "outputs": [],
   "source": [
    "R2 = ESS / TSS\n",
    "R2"
   ]
  },
  {
   "cell_type": "code",
   "execution_count": null,
   "id": "20138887-4d75-4ff8-b301-52eb25ccb069",
   "metadata": {},
   "outputs": [],
   "source": []
  },
  {
   "cell_type": "markdown",
   "id": "f35de5db-31d5-442b-a4e7-04c2eef4b2d5",
   "metadata": {},
   "source": [
    "#### Related to the Pearson correlation coefficient"
   ]
  },
  {
   "cell_type": "code",
   "execution_count": null,
   "id": "820cb7c6-5363-42a4-88b8-8522fcfac9e8",
   "metadata": {},
   "outputs": [],
   "source": [
    "efforts = students[\"effort\"]\n",
    "scores = students[\"score\"]\n",
    "pearson_r = efforts.corr(scores)\n",
    "pearson_r**2"
   ]
  },
  {
   "cell_type": "code",
   "execution_count": null,
   "id": "cfd5e2cb-b2d6-4dc0-a27c-7450497309f8",
   "metadata": {},
   "outputs": [],
   "source": [
    "# ALT.\n",
    "from scipy.stats import pearsonr\n",
    "r = pearsonr(efforts, scores)[0]\n",
    "r**2"
   ]
  },
  {
   "cell_type": "code",
   "execution_count": null,
   "id": "d2c01505-2e78-4f3b-b958-66d2ccd10060",
   "metadata": {},
   "outputs": [],
   "source": []
  },
  {
   "cell_type": "markdown",
   "id": "d731beff-a38f-488c-a13e-959974e587e0",
   "metadata": {},
   "source": [
    "## Using linear models to make predictions"
   ]
  },
  {
   "cell_type": "code",
   "execution_count": null,
   "id": "2a99284b-9a32-4d2a-842d-1bbbf1c1de1b",
   "metadata": {},
   "outputs": [],
   "source": [
    "def predict(x, b0, b1):\n",
    "    yhat = b0 + b1*x\n",
    "    return yhat"
   ]
  },
  {
   "cell_type": "code",
   "execution_count": null,
   "id": "2b17dce7-8770-449a-b3d9-ea29376d4bcf",
   "metadata": {},
   "outputs": [],
   "source": []
  },
  {
   "cell_type": "markdown",
   "id": "45323116-e99e-404a-908f-51947a44f5c4",
   "metadata": {},
   "source": [
    "### Confidence interval for the mean\n",
    "\n",
    "TODO: add formulas"
   ]
  },
  {
   "cell_type": "markdown",
   "id": "72580f06-cc06-4508-8e19-f4ab4ffec433",
   "metadata": {},
   "source": [
    "### Confidence interval for observations\n",
    "\n",
    "TODO: add formulas"
   ]
  },
  {
   "cell_type": "code",
   "execution_count": null,
   "id": "43226a8f-d841-4c96-b92e-4af3278f8dff",
   "metadata": {},
   "outputs": [],
   "source": []
  },
  {
   "cell_type": "markdown",
   "id": "540c471c-6f07-4ce8-b522-75c26c49015f",
   "metadata": {},
   "source": [
    "### Example:predicting students' scores"
   ]
  },
  {
   "cell_type": "markdown",
   "id": "c7e6848f-8989-42aa-b625-89b354311ea6",
   "metadata": {},
   "source": [
    "Predict the `score` of a new student who invests 9 hours of `effort` per week."
   ]
  },
  {
   "cell_type": "code",
   "execution_count": null,
   "id": "6fbde103-7d85-40db-9c2e-0c067812fd67",
   "metadata": {},
   "outputs": [],
   "source": [
    "neweffort = 9\n",
    "scorehat = predict(neweffort, b0=32.5, b1=4.5)\n",
    "scorehat"
   ]
  },
  {
   "cell_type": "markdown",
   "id": "534148da-bc04-4aad-bee3-6c9d0feda50d",
   "metadata": {},
   "source": [
    "#### Confidence interval for the mean score"
   ]
  },
  {
   "cell_type": "code",
   "execution_count": null,
   "id": "a1e3cdda-cb29-4347-8dcd-c4899e1bfaf4",
   "metadata": {},
   "outputs": [],
   "source": [
    "#######################################################\n",
    "newdev = (neweffort - efforts.mean())**2\n",
    "sum_dev2 = np.sum((efforts - efforts.mean())**2)\n",
    "se_meanscore = sigmahat*np.sqrt(1/n + newdev/sum_dev2)\n",
    "se_meanscore"
   ]
  },
  {
   "cell_type": "code",
   "execution_count": null,
   "id": "935ccb42-cef8-4f89-8d07-f757ad7f89a3",
   "metadata": {},
   "outputs": [],
   "source": [
    "from scipy.stats import t as tdist\n",
    "alpha = 0.1\n",
    "t_l, t_u = tdist(df=n-2).ppf([alpha/2, 1-alpha/2])\n",
    "[scorehat + t_l*se_meanscore, scorehat + t_u*se_meanscore]"
   ]
  },
  {
   "cell_type": "code",
   "execution_count": null,
   "id": "da9dbebd-9978-4e4c-b18e-d7a3ba6a2a2d",
   "metadata": {},
   "outputs": [],
   "source": []
  },
  {
   "cell_type": "code",
   "execution_count": null,
   "id": "2e49b614-3226-4af5-8d27-62bd957a45b2",
   "metadata": {},
   "outputs": [],
   "source": []
  },
  {
   "cell_type": "code",
   "execution_count": null,
   "id": "20871151-8003-4496-8767-04b229af274f",
   "metadata": {},
   "outputs": [],
   "source": []
  },
  {
   "cell_type": "code",
   "execution_count": null,
   "id": "9b7b00a2-7bdb-4ce4-89f4-a6be7254add9",
   "metadata": {},
   "outputs": [],
   "source": [
    "from ministats import plot_lm_simple\n",
    "\n",
    "plot_lm_simple(efforts, scores, ci_mean=True)\n",
    "\n",
    "filename = os.path.join(DESTDIR, \"prediction_mean_score_vs_effort.pdf\")\n",
    "savefigure(plt.gcf(), filename)"
   ]
  },
  {
   "cell_type": "code",
   "execution_count": null,
   "id": "472c33e6-a9f7-4e45-bccb-5065aec94b3a",
   "metadata": {},
   "outputs": [],
   "source": []
  },
  {
   "cell_type": "markdown",
   "id": "800ed5b2-d423-4bce-a2e2-78eb4d374cac",
   "metadata": {},
   "source": [
    "#### Confidence interval for predicted scores"
   ]
  },
  {
   "cell_type": "code",
   "execution_count": null,
   "id": "7a270705-c584-472e-90de-d4bc9d5ef7b3",
   "metadata": {},
   "outputs": [],
   "source": [
    "se_score = sigmahat*np.sqrt(1 + 1/n + newdev/sum_dev2)\n",
    "se_score"
   ]
  },
  {
   "cell_type": "code",
   "execution_count": null,
   "id": "84fbdc93-356c-4159-9498-05c117bfbfbe",
   "metadata": {},
   "outputs": [],
   "source": [
    "alpha = 0.1\n",
    "t_l, t_u = tdist(df=n-2).ppf([alpha/2, 1-alpha/2])\n",
    "[scorehat + t_l*se_score, scorehat + t_u*se_score]"
   ]
  },
  {
   "cell_type": "code",
   "execution_count": null,
   "id": "e7e54e7d-91a4-47c9-b042-f380f26d4d2a",
   "metadata": {},
   "outputs": [],
   "source": [
    "plot_lm_simple(efforts, scores, ci_obs=True)\n",
    "\n",
    "filename = os.path.join(DESTDIR, \"prediction_values_score_vs_effort.pdf\")\n",
    "savefigure(plt.gcf(), filename)"
   ]
  },
  {
   "cell_type": "code",
   "execution_count": null,
   "id": "01d1f942-5c43-4394-b14b-6264f1a05d15",
   "metadata": {},
   "outputs": [],
   "source": []
  },
  {
   "cell_type": "markdown",
   "id": "8752341a-df9c-4325-bfb5-aea7a35fda4c",
   "metadata": {},
   "source": [
    "### Prediction caveats"
   ]
  },
  {
   "cell_type": "code",
   "execution_count": null,
   "id": "f702bbb0-6183-47c7-a518-4f37dd21452f",
   "metadata": {},
   "outputs": [],
   "source": [
    "efforts.min(), efforts.max()"
   ]
  },
  {
   "cell_type": "markdown",
   "id": "fb90f63d-e38b-4d60-9901-e86214f61ec6",
   "metadata": {},
   "source": [
    "It's not OK to extrapolate the validity of the model outside of the range of values where we have observed data.\n",
    "\n",
    "For example, there is no reason to believe in the model's predictions about an `effort` of `20` hours per week:"
   ]
  },
  {
   "cell_type": "code",
   "execution_count": null,
   "id": "a2610956-4524-4d7b-ab9b-1ec3be0d4f8f",
   "metadata": {},
   "outputs": [],
   "source": [
    "predict(20, b0=32.5, b1=4.5)"
   ]
  },
  {
   "cell_type": "markdown",
   "id": "a7548226-36a5-479f-96f3-1bd0d56a11cb",
   "metadata": {},
   "source": [
    "Indeed, the model predicts the grade will be above 100\\% which is impossible."
   ]
  },
  {
   "cell_type": "code",
   "execution_count": null,
   "id": "29b167c3-264d-4263-b376-c6dae6dc4f6a",
   "metadata": {},
   "outputs": [],
   "source": []
  },
  {
   "cell_type": "markdown",
   "id": "f9750c79-f006-4fa7-a5ec-9505233bde37",
   "metadata": {},
   "source": [
    "## Explanations"
   ]
  },
  {
   "cell_type": "markdown",
   "id": "e76300a3-4f02-4d8e-a702-0521ae1e11c9",
   "metadata": {},
   "source": [
    "### Strategies for fitting linear models\n",
    "\n",
    "- **Calculus**\n",
    "  We can obtain the analytical formulas ...\n",
    "- **Numerical optimization**\n",
    "- **Linear algebra**"
   ]
  },
  {
   "cell_type": "markdown",
   "id": "b8988bdc-c87d-4772-86ed-4802493cf8c1",
   "metadata": {},
   "source": [
    "### Software for fitting linear models\n",
    "\n",
    "- `scipy`\n",
    "- `statsmodels`\n",
    "- `scikit-learn`"
   ]
  },
  {
   "cell_type": "markdown",
   "id": "a7af56d6-3463-4594-bece-a129e490e060",
   "metadata": {},
   "source": [
    "### Fitting linear models with `statsmodels`"
   ]
  },
  {
   "cell_type": "code",
   "execution_count": null,
   "id": "158d9715-a7b8-4a99-898c-7398a4ff8bdd",
   "metadata": {},
   "outputs": [],
   "source": [
    "import statsmodels.formula.api as smf\n",
    "\n",
    "lm1 = smf.ols(\"score ~ 1 + effort\", data=students).fit()"
   ]
  },
  {
   "cell_type": "code",
   "execution_count": null,
   "id": "0b524743-a95d-427f-8c7c-31af9c09accd",
   "metadata": {},
   "outputs": [],
   "source": [
    "type(lm1)"
   ]
  },
  {
   "cell_type": "markdown",
   "id": "b6213071-9a13-425a-8ec7-38a537ced1d0",
   "metadata": {},
   "source": [
    "#### Estimated parameters for the model"
   ]
  },
  {
   "cell_type": "code",
   "execution_count": null,
   "id": "7c1d84c6-1dcb-40f4-85b1-166d91301b20",
   "metadata": {},
   "outputs": [],
   "source": [
    "lm1.params"
   ]
  },
  {
   "cell_type": "code",
   "execution_count": null,
   "id": "fcb95f2a-16f3-428d-8742-b2b645dc1968",
   "metadata": {},
   "outputs": [],
   "source": [
    "type(lm1.params)"
   ]
  },
  {
   "cell_type": "markdown",
   "id": "b2985eee-6259-4624-955c-5f2e9b67d199",
   "metadata": {},
   "source": [
    "We often want to extract the intercept and slope parameters\n",
    "for use in subsequent calculations."
   ]
  },
  {
   "cell_type": "code",
   "execution_count": null,
   "id": "9885cbb8-9ff1-4f98-9c34-2b8f48b6a2f8",
   "metadata": {},
   "outputs": [],
   "source": [
    "b0 = lm1.params[\"Intercept\"]  # = lm1.params[0]\n",
    "b1 = lm1.params[\"effort\"]     # = lm1.params[1]\n",
    "b0, b1"
   ]
  },
  {
   "cell_type": "markdown",
   "id": "2fe873b2-628a-46b8-8181-a6cb9736271c",
   "metadata": {},
   "source": [
    "The estimate $\\widehat{\\sigma}$ is obtained by taking the square root of the `.scale` attribute."
   ]
  },
  {
   "cell_type": "code",
   "execution_count": null,
   "id": "624c96d6-c597-40ad-84f0-172a52addc42",
   "metadata": {},
   "outputs": [],
   "source": [
    "sigmahat = np.sqrt(lm1.scale)\n",
    "sigmahat"
   ]
  },
  {
   "cell_type": "markdown",
   "id": "bd5af1f4-23eb-48ff-aa2f-376e37616f11",
   "metadata": {},
   "source": [
    "#### Model fitted values"
   ]
  },
  {
   "cell_type": "code",
   "execution_count": null,
   "id": "19cc1c7d-eeb3-45e4-a23a-7da7ac246636",
   "metadata": {},
   "outputs": [],
   "source": [
    "lm1.fittedvalues  # == scorehats"
   ]
  },
  {
   "cell_type": "markdown",
   "id": "bbe98d16-9627-41b6-95b9-2b927aca768d",
   "metadata": {},
   "source": [
    "#### Residuals"
   ]
  },
  {
   "cell_type": "code",
   "execution_count": null,
   "id": "28210c74-de27-4f87-9708-e1acc63ff151",
   "metadata": {},
   "outputs": [],
   "source": [
    "lm1.resid  # == scores - scorehats"
   ]
  },
  {
   "cell_type": "markdown",
   "id": "e680cbde-2f34-4a94-91cd-b5aa948e4b93",
   "metadata": {},
   "source": [
    "#### Sum-of-squared quantities"
   ]
  },
  {
   "cell_type": "code",
   "execution_count": null,
   "id": "392aea3a-20e6-4ebe-aa0d-986ce1788555",
   "metadata": {},
   "outputs": [],
   "source": [
    "# SSR     # ESS     # TSS              # R2\n",
    "lm1.ssr,  lm1.ess,  lm1.centered_tss,  lm1.rsquared"
   ]
  },
  {
   "cell_type": "markdown",
   "id": "b9d50e93-c941-4492-b37c-b5fd6f32fd60",
   "metadata": {},
   "source": [
    "#### Predictions"
   ]
  },
  {
   "cell_type": "markdown",
   "id": "3e353da0-4df5-4d31-8ad7-927d8896748d",
   "metadata": {},
   "source": [
    "Predict the `score` of a new student who invests 9 hours of `effort` per week."
   ]
  },
  {
   "cell_type": "code",
   "execution_count": null,
   "id": "0bc6f072-ef74-48fd-be78-f9b188992335",
   "metadata": {},
   "outputs": [],
   "source": [
    "lm1.predict({\"effort\":9})"
   ]
  },
  {
   "cell_type": "code",
   "execution_count": null,
   "id": "794ae7b8-0f82-4875-8ef0-f5538f2f00aa",
   "metadata": {},
   "outputs": [],
   "source": [
    "pred = lm1.get_prediction({\"effort\":9})\n",
    "pred.se_mean, pred.conf_int(alpha=0.1)"
   ]
  },
  {
   "cell_type": "code",
   "execution_count": null,
   "id": "78095328-2588-42b5-b018-bb9e4c55fafb",
   "metadata": {},
   "outputs": [],
   "source": [
    "pred.se_obs, pred.conf_int(obs=True, alpha=0.1)"
   ]
  },
  {
   "cell_type": "code",
   "execution_count": null,
   "id": "4c0c7e09-6cd7-47b7-b245-0d5bafab5e7b",
   "metadata": {},
   "outputs": [],
   "source": []
  },
  {
   "cell_type": "markdown",
   "id": "f81287e4-9e2e-4597-8fc3-bf37233aba90",
   "metadata": {},
   "source": [
    "#### Model summary table"
   ]
  },
  {
   "cell_type": "code",
   "execution_count": null,
   "id": "c731096d-7984-4eaa-bc27-5e9706362817",
   "metadata": {},
   "outputs": [],
   "source": [
    "lm1.summary()"
   ]
  },
  {
   "cell_type": "code",
   "execution_count": null,
   "id": "1c6cd833-22f9-48b0-a708-e445ace07a25",
   "metadata": {},
   "outputs": [],
   "source": []
  },
  {
   "cell_type": "markdown",
   "id": "c8b49a27-ebcb-4f79-9964-3e6888c013dd",
   "metadata": {},
   "source": [
    "## Alternative methods for fitting linear models (optional)"
   ]
  },
  {
   "cell_type": "markdown",
   "id": "00729ed9-496d-4972-bc57-26bbba6854a8",
   "metadata": {},
   "source": [
    "### Numerical optimization"
   ]
  },
  {
   "cell_type": "code",
   "execution_count": null,
   "id": "bdb829b1-dc9f-4b81-992e-458dca4f2a5a",
   "metadata": {},
   "outputs": [],
   "source": [
    "from scipy.optimize import minimize\n",
    "\n",
    "def ssr(betas, xdata, ydata):\n",
    "    yhat = betas[0] + betas[1]*xdata\n",
    "    resid = ydata - yhat\n",
    "    return np.sum(resid**2)\n",
    "\n",
    "optres = minimize(ssr, x0=[0,0], args=(efforts,scores))\n",
    "beta0, beta1 = optres.x\n",
    "beta0, beta1"
   ]
  },
  {
   "cell_type": "markdown",
   "id": "bfd31017-43dd-45bf-85b9-6ea21ba2a328",
   "metadata": {},
   "source": [
    "### Linear algebra\n",
    "\n",
    "linear algebra solution using `numpy`\n"
   ]
  },
  {
   "cell_type": "code",
   "execution_count": null,
   "id": "90cff548-1025-46fa-b61d-3a64cce93670",
   "metadata": {},
   "outputs": [],
   "source": [
    "import numpy as np\n",
    "\n",
    "# Prepare the design matrix \n",
    "X = np.ndarray((n,2))\n",
    "X[:,0] = 1\n",
    "X[:,1] = efforts\n",
    "X"
   ]
  },
  {
   "cell_type": "markdown",
   "id": "a2dbb0a2-c8a0-43b9-9d1f-4fe3666564b3",
   "metadata": {},
   "source": [
    "We obtain the least squares solution using the Moore–Penrose inverse formula:\n",
    "\n",
    "$$\n",
    "    \\vec{\\beta} = (X^{\\sf T} X)^{-1}X^{\\sf T}\\; \\mathbf{y}\n",
    "$$"
   ]
  },
  {
   "cell_type": "code",
   "execution_count": null,
   "id": "8dcf0355-1e30-46ac-9143-43ba1033a47c",
   "metadata": {},
   "outputs": [],
   "source": [
    "lares = np.linalg.inv(X.T.dot(X)).dot(X.T).dot(scores)\n",
    "beta0, beta1 = lares\n",
    "beta0, beta1"
   ]
  },
  {
   "cell_type": "code",
   "execution_count": null,
   "id": "76ef533b-8a39-4132-b4f6-ecad90326d08",
   "metadata": {},
   "outputs": [],
   "source": []
  },
  {
   "cell_type": "markdown",
   "id": "da9560bd-c0d3-4a26-be68-9ac0cd109a73",
   "metadata": {},
   "source": [
    "### Fitting linear models using `scipy`\n",
    "\n",
    "The helper function `scipy.stats.linregress` ..."
   ]
  },
  {
   "cell_type": "code",
   "execution_count": null,
   "id": "7c475b96-1f59-4a86-ab92-70204c7d6ca5",
   "metadata": {},
   "outputs": [],
   "source": [
    "from scipy.stats import linregress\n",
    "\n",
    "scipyres = linregress(efforts, scores)\n",
    "scipyres.intercept, scipyres.slope"
   ]
  },
  {
   "cell_type": "code",
   "execution_count": null,
   "id": "0d224f71-7e2d-4e82-a8ed-3c9ffffec061",
   "metadata": {},
   "outputs": [],
   "source": []
  },
  {
   "cell_type": "markdown",
   "id": "edbfb72c-9f9e-4264-b8a4-6bc948b356e9",
   "metadata": {},
   "source": [
    "### Fitting linear models using `scikit-learn`\n",
    "\n",
    "The class `sklearn.linear_model.LinearRegression` ..."
   ]
  },
  {
   "cell_type": "code",
   "execution_count": null,
   "id": "8afb8fbd-394d-4499-abe5-876d4320f2a8",
   "metadata": {},
   "outputs": [],
   "source": [
    "from sklearn.linear_model import LinearRegression\n",
    "\n",
    "sklmodel = LinearRegression()\n",
    "sklmodel.fit(efforts.values[:,np.newaxis], scores)\n",
    "sklmodel.intercept_, sklmodel.coef_"
   ]
  },
  {
   "cell_type": "markdown",
   "id": "fd55a6ae-657a-4400-9193-278ca24bbedc",
   "metadata": {},
   "source": [
    "### Using the low-level `statsmodels` API\n",
    "\n"
   ]
  },
  {
   "cell_type": "code",
   "execution_count": null,
   "id": "cde350a9-d87f-4b86-9425-7f32014e95c7",
   "metadata": {},
   "outputs": [],
   "source": [
    "import statsmodels.api as sm\n",
    "\n",
    "X = sm.add_constant(efforts)\n",
    "y = scores\n",
    "smres = sm.OLS(y,X).fit()\n",
    "smres.params[\"const\"], smres.params[\"effort\"]"
   ]
  },
  {
   "cell_type": "code",
   "execution_count": null,
   "id": "23b02e2c-23ad-4448-a154-13a1741b3638",
   "metadata": {},
   "outputs": [],
   "source": []
  },
  {
   "cell_type": "markdown",
   "id": "c98de59b-280e-4b3b-99d6-60c55cd5704e",
   "metadata": {},
   "source": [
    "## Discussion"
   ]
  },
  {
   "cell_type": "code",
   "execution_count": null,
   "id": "471f929e-725b-4a5b-bcf6-b8563d37b144",
   "metadata": {},
   "outputs": [],
   "source": []
  },
  {
   "cell_type": "markdown",
   "id": "4e9f83b9-eb7f-416f-bbd5-1db458edd3f2",
   "metadata": {
    "tags": []
   },
   "source": [
    "#### Examples of non-linear relationships\n",
    "\n",
    "Hare are some examples of the different possible relationships between the `effort` and `score` variables.\n",
    "\n",
    "![nonlinear relantionships](./attachments/lm/ELV_as_function_of_stats_hours.png)"
   ]
  },
  {
   "cell_type": "code",
   "execution_count": null,
   "id": "b94a2930-a11c-49da-8aa0-eafa80ac3b4d",
   "metadata": {},
   "outputs": [],
   "source": []
  },
  {
   "cell_type": "code",
   "execution_count": null,
   "id": "8671c0d8-83d6-4182-b812-a03f1b1e948a",
   "metadata": {},
   "outputs": [],
   "source": []
  },
  {
   "cell_type": "markdown",
   "id": "fe84a1ce-9ce4-4c68-a853-82e9808b17fa",
   "metadata": {},
   "source": [
    "## Exercises"
   ]
  },
  {
   "cell_type": "code",
   "execution_count": null,
   "id": "ed756017-4d8b-4bbd-a04b-c42b06a8f054",
   "metadata": {},
   "outputs": [],
   "source": []
  },
  {
   "cell_type": "markdown",
   "id": "007d3a15-3934-496d-9ff3-008dc3e0add7",
   "metadata": {},
   "source": [
    "## Links"
   ]
  },
  {
   "cell_type": "code",
   "execution_count": null,
   "id": "4cdfab1b-2d5f-4ed5-8b77-9f1ddd92e56c",
   "metadata": {},
   "outputs": [],
   "source": []
  },
  {
   "cell_type": "code",
   "execution_count": null,
   "id": "0e3f73e9-8c56-4bfe-9512-0bc8f5ee7eac",
   "metadata": {},
   "outputs": [],
   "source": [
    "\n"
   ]
  },
  {
   "cell_type": "markdown",
   "id": "1051653e-ba2e-482b-9c57-7d80d69256ea",
   "metadata": {},
   "source": [
    "### (bonus) Formula for standard error of coefficients"
   ]
  },
  {
   "cell_type": "code",
   "execution_count": null,
   "id": "2ff84cbf-5847-4800-9585-976b0e15f16e",
   "metadata": {},
   "outputs": [],
   "source": [
    "lm1.bse"
   ]
  },
  {
   "cell_type": "markdown",
   "id": "4ae2fb12-711a-49bd-8b6d-238ae3ec487e",
   "metadata": {},
   "source": [
    "Formula using summations\n",
    "\n",
    "$$\n",
    "    se(\\beta_0) = \\hat{\\sigma} \\cdot \\sqrt{ \\frac{1}{n} + \\frac{\\overline{x}^2}{\\sum (x_i - \\overline{x})^2}  }\n",
    "    \\qquad\n",
    "    se(\\beta_1) = \\hat{\\sigma} \\cdot \\sqrt{\\frac{1}{\\sum (x_i - \\overline{x})^2}}\n",
    "$$\n",
    "\n",
    "TODO: show derivation why these formulas are equiv. to matrix formulas below when p=1"
   ]
  },
  {
   "cell_type": "code",
   "execution_count": null,
   "id": "ca7e9100-e055-46c8-aa40-7817d47a3964",
   "metadata": {},
   "outputs": [],
   "source": [
    "sum_dev2 = np.sum((efforts - efforts.mean())**2)\n",
    "se_Intercept = sigmahat * np.sqrt(1/n + efforts.mean()**2/sum_dev2)\n",
    "se_b_effort = sigmahat/np.sqrt(sum_dev2)\n",
    "se_Intercept, se_b_effort"
   ]
  },
  {
   "cell_type": "markdown",
   "id": "b9042d51-4fa9-4bc6-b4aa-e0ae7366c14d",
   "metadata": {},
   "source": [
    "Alternative formula using design matrix\n",
    "\n",
    "$$\n",
    "    [se(\\beta_0), se(\\beta_1)]\n",
    "    =\n",
    "    \\hat{\\sigma} \\cdot \\text{diag}\\left( \\sqrt{ (X^T X)^{-1} } \\right)\n",
    "$$\n",
    "\n",
    "where $X$ is the design matrix."
   ]
  },
  {
   "cell_type": "code",
   "execution_count": null,
   "id": "ee227c76-478a-44d8-bb00-83725a780e73",
   "metadata": {},
   "outputs": [],
   "source": [
    "# construct the design matrix for the model \n",
    "X = sm.add_constant(students[[\"effort\"]])\n",
    "# calculate the diagonal of the inverse-covariance matrix\n",
    "inv_covs = np.diag(np.linalg.inv(X.T.dot(X)))\n",
    "np.sqrt(sigmahat**2 * inv_covs)"
   ]
  },
  {
   "cell_type": "code",
   "execution_count": null,
   "id": "ca759744-befe-4297-a72c-a3f3f2c50d2e",
   "metadata": {},
   "outputs": [],
   "source": []
  }
 ],
 "metadata": {
  "kernelspec": {
   "display_name": "Python 3 (ipykernel)",
   "language": "python",
   "name": "python3"
  },
  "language_info": {
   "codemirror_mode": {
    "name": "ipython",
    "version": 3
   },
   "file_extension": ".py",
   "mimetype": "text/x-python",
   "name": "python",
   "nbconvert_exporter": "python",
   "pygments_lexer": "ipython3",
   "version": "3.9.4"
  }
 },
 "nbformat": 4,
 "nbformat_minor": 5
}
