{
 "cells": [
  {
   "cell_type": "markdown",
   "id": "d80ed812-7ebc-466c-83a4-ec2913e984a4",
   "metadata": {
    "tags": []
   },
   "source": [
    "# Section 2.4 — Calculus prerequisites\n",
    "\n",
    "This notebook contains all the code examples from [Section 2.4 Calculus prerequisites]() of the **No Bullshit Guide to Statistics**.\n",
    "\n",
    "Topics covered in this notebook:\n",
    "\n",
    "- Math definitions\n",
    "- Sets\n",
    "- Functions\n",
    "- Integrals as area calculations\n",
    "- Numerical integration using the `scipy.integrate` functions `quad` and `trapz`\n",
    "- Symbolic integration using the `sympy` function `integrate`\n",
    "- Bonus calculus topics\n",
    "  - Limits\n",
    "  - Derivatives\n",
    "  - Fundamental theorem of calculus"
   ]
  },
  {
   "cell_type": "code",
   "execution_count": null,
   "id": "bb064b8a-41fc-4668-83cd-c6390f0fbde5",
   "metadata": {},
   "outputs": [],
   "source": []
  },
  {
   "cell_type": "code",
   "execution_count": null,
   "id": "eb417e47-4664-4135-a640-fef172895546",
   "metadata": {},
   "outputs": [],
   "source": []
  },
  {
   "cell_type": "code",
   "execution_count": null,
   "id": "442a4c64-6c71-4c26-8521-1d733ca6064e",
   "metadata": {},
   "outputs": [],
   "source": []
  },
  {
   "cell_type": "markdown",
   "id": "11519500-38bf-4fa2-9608-731100e597e4",
   "metadata": {
    "tags": []
   },
   "source": [
    "## Calculus prerequisites\n",
    "\n",
    "(see formulas and definitions in the book)"
   ]
  },
  {
   "cell_type": "markdown",
   "id": "b5674d6f-dc46-4605-9040-f6c177c30f9a",
   "metadata": {},
   "source": [
    "### Sets\n"
   ]
  },
  {
   "cell_type": "code",
   "execution_count": 8,
   "id": "c34f1539-0a8c-4dd2-aa68-3ecf16541012",
   "metadata": {},
   "outputs": [
    {
     "name": "stdout",
     "output_type": "stream",
     "text": [
      "S ∪ T = {1, 2, 3, 4, 5, 6}\n",
      "S ∩ T = {3}\n",
      "S \\ T = {1, 2}\n"
     ]
    }
   ],
   "source": [
    "S = {1, 2, 3}\n",
    "T = {3, 4, 5, 6}\n",
    "\n",
    "print(\"S ∪ T =\", S.union(T))\n",
    "print(\"S ∩ T =\", S.intersection(T))\n",
    "print(\"S \\ T =\", S.difference(T))"
   ]
  },
  {
   "cell_type": "code",
   "execution_count": null,
   "id": "1fbcd008-cf4b-468b-a118-b7c83c105ca3",
   "metadata": {},
   "outputs": [],
   "source": []
  },
  {
   "cell_type": "markdown",
   "id": "a500e30c-002c-439d-b3c0-0655b8c106be",
   "metadata": {},
   "source": [
    "### Functions\n",
    "\n",
    "In Python, we define functions using the `def` keyword.\n",
    "\n",
    "For example, the code cell below defines the function $g(x)=x$,\n",
    "then evaluate it for the input $x=4$."
   ]
  },
  {
   "cell_type": "code",
   "execution_count": 9,
   "id": "7ec0f838-e494-4926-a731-66de3fc92813",
   "metadata": {},
   "outputs": [
    {
     "data": {
      "text/plain": [
       "4"
      ]
     },
     "execution_count": 9,
     "metadata": {},
     "output_type": "execute_result"
    }
   ],
   "source": [
    "# define the function g that takes input x\n",
    "def g(x):\n",
    "    return x\n",
    "\n",
    "# calling the function g on input x=4\n",
    "g(4)"
   ]
  },
  {
   "cell_type": "markdown",
   "id": "e26d2242-9aee-4530-bd8f-a6b36bc5c46c",
   "metadata": {},
   "source": [
    "#### Plotting the graph of the function $g(x)$\n",
    "\n",
    "The graph of the function $g(x)$ is obtained by plotting a line that passes through the set of input-output coordinate pairs $(x, g(x))$."
   ]
  },
  {
   "cell_type": "code",
   "execution_count": 10,
   "id": "bc163ff7-3687-493e-a1f1-2bcb76f448c0",
   "metadata": {},
   "outputs": [
    {
     "data": {
      "text/plain": [
       "<AxesSubplot:>"
      ]
     },
     "execution_count": 10,
     "metadata": {},
     "output_type": "execute_result"
    },
    {
     "data": {
      "image/png": "[encoded data removed]",
      "text/plain": [
       "<Figure size 504x288 with 1 Axes>"
      ]
     },
     "metadata": {},
     "output_type": "display_data"
    }
   ],
   "source": [
    "import numpy as np\n",
    "import seaborn as sns\n",
    "\n",
    "xs = np.linspace(0, 10, 100)\n",
    "gxs = g(xs)\n",
    "\n",
    "sns.lineplot(x=xs, y=gxs, label=\"Graph of the function g(x)\")"
   ]
  },
  {
   "cell_type": "markdown",
   "id": "e767ff00-6a23-4819-bb2f-d7e84d3b9023",
   "metadata": {},
   "source": [
    "The function `linspace(0,10,100)` creates an array of `100` points in the interval $[0,10]$.\n",
    "We store this sequence of inputs into the variable `xs`.\n",
    "Next, we computer the output value $y = g(x)$ for each of the inputs in the array `xs`,\n",
    "and store the result in the array `gxs`.\n",
    "Finally, we use the function `sns.lineplot()` to generate the plot."
   ]
  },
  {
   "cell_type": "code",
   "execution_count": null,
   "id": "65e8c1a6-dcd1-43c4-9e57-6b7ccca88660",
   "metadata": {},
   "outputs": [],
   "source": []
  },
  {
   "cell_type": "code",
   "execution_count": 11,
   "id": "c7e95f29-717c-4950-a0de-7619456940f0",
   "metadata": {},
   "outputs": [
    {
     "data": {
      "text/plain": [
       "2.0"
      ]
     },
     "execution_count": 11,
     "metadata": {},
     "output_type": "execute_result"
    }
   ],
   "source": [
    "import numpy as np\n",
    "\n",
    "np.sqrt(4)"
   ]
  },
  {
   "cell_type": "code",
   "execution_count": 12,
   "id": "d3a66d31-f14f-4703-a802-332651e61dd6",
   "metadata": {},
   "outputs": [
    {
     "data": {
      "text/plain": [
       "1.3862943611198906"
      ]
     },
     "execution_count": 12,
     "metadata": {},
     "output_type": "execute_result"
    }
   ],
   "source": [
    "np.log(4)"
   ]
  },
  {
   "cell_type": "markdown",
   "id": "42286f46-40df-4faa-b5f2-798d1a2b2df5",
   "metadata": {},
   "source": [
    "Examples of function-followed-by-inverse-function calculations:"
   ]
  },
  {
   "cell_type": "code",
   "execution_count": 13,
   "id": "9b90309b-8772-4ac8-b514-0e42d1983520",
   "metadata": {},
   "outputs": [
    {
     "data": {
      "text/plain": [
       "4.0"
      ]
     },
     "execution_count": 13,
     "metadata": {},
     "output_type": "execute_result"
    }
   ],
   "source": [
    "np.sqrt(4)**2"
   ]
  },
  {
   "cell_type": "code",
   "execution_count": 14,
   "id": "587cf98e-ed21-47b8-91ac-ef0f3921a8d3",
   "metadata": {},
   "outputs": [
    {
     "data": {
      "text/plain": [
       "4.0"
      ]
     },
     "execution_count": 14,
     "metadata": {},
     "output_type": "execute_result"
    }
   ],
   "source": [
    "np.exp(np.log(4))"
   ]
  },
  {
   "cell_type": "markdown",
   "id": "bd992b7e-3ca4-40b3-8a2a-4fed34a5c57c",
   "metadata": {
    "tags": []
   },
   "source": [
    "### Computing integrals geometrically\n",
    "\n",
    "\n",
    "See Figure 2.15 in the book that shows the integral under $f(x) = 3$ between $a=0$ and $b=5$.\n",
    "\n",
    "\n",
    "\n",
    "See also Figure 2.16 that shows the integral under $g(x) = x$ between $a=0$ and $b=5$.\n"
   ]
  },
  {
   "cell_type": "code",
   "execution_count": null,
   "id": "aef82d23-6297-43c2-9c7f-e8c4f4185ca2",
   "metadata": {},
   "outputs": [],
   "source": []
  },
  {
   "cell_type": "markdown",
   "id": "454b4625-b331-4fe1-94cb-01d5c1b011b4",
   "metadata": {
    "tags": [],
    "toc-hr-collapsed": true
   },
   "source": [
    "### Computing integrals numerically using SciPy `integrate` methods\n",
    "\n",
    "There are numerous ways to compute integrals in Python. \n",
    "Computing integrals \"numerically\" means we're splitting the region of integration into thousands or millions of sub-regions, computing the areas of these sub-regions, and adding up the result.\n",
    "\n",
    "We'll now show some examples using two of the functions form the module `sympy.integrate`:\n",
    "- `quad(f,a,b)`: high-level function for computing areas (quadratures)\n",
    "- `trapz(ys,xs)`: low-level function for computing integral using trapezoid approximation\n",
    "\n"
   ]
  },
  {
   "cell_type": "markdown",
   "id": "9586acbe-5cdf-4886-8b66-1857d6169c2c",
   "metadata": {},
   "source": [
    "We'll start with the `quad` function."
   ]
  },
  {
   "cell_type": "code",
   "execution_count": 15,
   "id": "4e3e1410-ac2a-46f6-99ed-252e04d17c75",
   "metadata": {},
   "outputs": [],
   "source": [
    "from scipy.integrate import quad"
   ]
  },
  {
   "cell_type": "code",
   "execution_count": 16,
   "id": "dfabfdfb-53f6-4279-9e99-5cfbf7036974",
   "metadata": {},
   "outputs": [
    {
     "data": {
      "text/plain": [
       "3"
      ]
     },
     "execution_count": 16,
     "metadata": {},
     "output_type": "execute_result"
    }
   ],
   "source": [
    "# define the constant function f(x) = c\n",
    "def f(x):\n",
    "    c = 3\n",
    "    return c\n",
    "\n",
    "# call the funtion f with input x=333\n",
    "f(333)"
   ]
  },
  {
   "cell_type": "code",
   "execution_count": 17,
   "id": "997e5b7f-67fa-4e6f-8379-222e534ea8c1",
   "metadata": {},
   "outputs": [
    {
     "data": {
      "text/plain": [
       "(15.0, 1.6653345369377348e-13)"
      ]
     },
     "execution_count": 17,
     "metadata": {},
     "output_type": "execute_result"
    }
   ],
   "source": [
    "quad(f, 0, 5)"
   ]
  },
  {
   "cell_type": "markdown",
   "id": "00a1265e-a517-4632-a46a-9a75f0fffbbd",
   "metadata": {},
   "source": [
    "The function `quad` returns two numbers as output: the value of the integral and a precision parameter.\n",
    "In output of the code, tells us the value of the integral is $\\int_0^5 3 dx$ is `15.0` and guarantees the accuracy of this value up to an error of $10^{-13}$.\n",
    "\n",
    "Since we're usually only interested in the value of the integral, we often select the first output of `quad` so you'll see the code like `quad(...)[0]` in all the code examples below."
   ]
  },
  {
   "cell_type": "code",
   "execution_count": 18,
   "id": "c0eec4ec-b171-4f45-9912-68bfbb2902b0",
   "metadata": {},
   "outputs": [
    {
     "data": {
      "text/plain": [
       "15.0"
      ]
     },
     "execution_count": 18,
     "metadata": {},
     "output_type": "execute_result"
    }
   ],
   "source": [
    "quad(f, 0, 5)[0]"
   ]
  },
  {
   "cell_type": "code",
   "execution_count": null,
   "id": "e37ff37d-0c95-4a76-9fca-68d4e0966325",
   "metadata": {},
   "outputs": [],
   "source": [
    "\n"
   ]
  },
  {
   "cell_type": "code",
   "execution_count": null,
   "id": "bfeb3770-dfd0-4233-aa1f-328940b8f78f",
   "metadata": {},
   "outputs": [],
   "source": []
  },
  {
   "cell_type": "code",
   "execution_count": 19,
   "id": "693a8ae5-4698-44a1-a50c-abede82c1b17",
   "metadata": {},
   "outputs": [
    {
     "data": {
      "text/plain": [
       "10"
      ]
     },
     "execution_count": 19,
     "metadata": {},
     "output_type": "execute_result"
    }
   ],
   "source": [
    "# define the function g(x) = x (line with slope 1)\n",
    "def g(x):\n",
    "    return x\n",
    "\n",
    "# call the funtion g with input x=10\n",
    "g(10)"
   ]
  },
  {
   "cell_type": "code",
   "execution_count": 20,
   "id": "b59c3e9f-06fd-4858-924f-225d89c5242c",
   "metadata": {},
   "outputs": [
    {
     "data": {
      "text/plain": [
       "12.5"
      ]
     },
     "execution_count": 20,
     "metadata": {},
     "output_type": "execute_result"
    }
   ],
   "source": [
    "quad(g, 0, 5)[0]"
   ]
  },
  {
   "cell_type": "code",
   "execution_count": null,
   "id": "972e04a5-b304-41ae-8391-8a100eb58102",
   "metadata": {},
   "outputs": [],
   "source": []
  },
  {
   "cell_type": "markdown",
   "id": "cd2a3a44-40e2-480a-8371-430fe2eb4dc1",
   "metadata": {},
   "source": [
    "#### Trapezoid approximation\n",
    "\n",
    "Let's now use another approach based on the trapezoid approximation.\n",
    "\n",
    "We must build array of inputs $x$ and outputs $g(x)$ of the function,\n",
    "then pass it to `trapz` so it carries out the calculation."
   ]
  },
  {
   "cell_type": "code",
   "execution_count": 21,
   "id": "d564c1e4-e9f2-4629-9bfd-8e28e7613006",
   "metadata": {},
   "outputs": [],
   "source": [
    "from scipy.integrate import trapz"
   ]
  },
  {
   "cell_type": "code",
   "execution_count": 22,
   "id": "f0cd0ebb-d18b-40ca-a039-547ae82f2469",
   "metadata": {},
   "outputs": [
    {
     "data": {
      "text/plain": [
       "12.5"
      ]
     },
     "execution_count": 22,
     "metadata": {},
     "output_type": "execute_result"
    }
   ],
   "source": [
    "m = 1000\n",
    "xs = np.linspace(0, 5, m)\n",
    "gxs = g(xs)\n",
    "\n",
    "trapz(gxs, xs)"
   ]
  },
  {
   "cell_type": "code",
   "execution_count": null,
   "id": "9be44852-623a-4a37-829b-d52ac040a08b",
   "metadata": {},
   "outputs": [],
   "source": []
  },
  {
   "cell_type": "code",
   "execution_count": null,
   "id": "179609d7-1558-41fd-830d-60b5a5fa62a1",
   "metadata": {},
   "outputs": [],
   "source": []
  },
  {
   "cell_type": "markdown",
   "id": "7714eef9-dcb8-472e-a78a-80d90af4e8aa",
   "metadata": {
    "toc-hr-collapsed": true
   },
   "source": [
    "### Computing integrals symbolically using SymPy `integrate`"
   ]
  },
  {
   "cell_type": "code",
   "execution_count": 23,
   "id": "897d1cf2-260a-49eb-a09b-593b5890f188",
   "metadata": {},
   "outputs": [],
   "source": [
    "from sympy import symbols\n",
    "\n",
    "# define symbolic variables\n",
    "x, a, b, c = symbols('x a b c')"
   ]
  },
  {
   "cell_type": "markdown",
   "id": "b0953bfd-5ad5-435a-8898-3c158f6a251c",
   "metadata": {},
   "source": [
    "The `symbols` function creates SymPy symbolic variables.\n",
    "Unlike ordinary Python variables that hold a particular value,\n",
    "SymPy variables act as placeholders that can take on any value.\n",
    "\n",
    "We can use the symbolic variables to create expressions,\n",
    "just like we do with math variables in pen-and-paper calculations."
   ]
  },
  {
   "cell_type": "markdown",
   "id": "b0e4f26c-8238-4d28-9308-3b24b38cac6b",
   "metadata": {},
   "source": [
    "#### Constant function $f(x)=c$"
   ]
  },
  {
   "cell_type": "code",
   "execution_count": 24,
   "id": "1a60a4ff-b1d7-4244-80d5-cc656e7765d0",
   "metadata": {},
   "outputs": [
    {
     "data": {
      "text/latex": [
       "$\\displaystyle c$"
      ],
      "text/plain": [
       "c"
      ]
     },
     "execution_count": 24,
     "metadata": {},
     "output_type": "execute_result"
    }
   ],
   "source": [
    "fx = c\n",
    "fx"
   ]
  },
  {
   "cell_type": "markdown",
   "id": "161b4e91-2701-481b-96e2-1e0e98670f4e",
   "metadata": {},
   "source": [
    "We'll use the SymPy function `integrate` for computing integrals.\n",
    "We call this function\n",
    "by passing in the expression we want to integrate as the first argument.\n",
    "The second argument is a triple $(x,a,b)$,\n",
    "which specifies the variable of integration $x$,\n",
    "the lower limit of integration $a$,\n",
    "and the upper limit of integration $b$."
   ]
  },
  {
   "cell_type": "code",
   "execution_count": 25,
   "id": "4100a71d-b04e-45ef-86fa-2731406365a3",
   "metadata": {},
   "outputs": [
    {
     "data": {
      "text/latex": [
       "$\\displaystyle - a c + b c$"
      ],
      "text/plain": [
       "-a*c + b*c"
      ]
     },
     "execution_count": 25,
     "metadata": {},
     "output_type": "execute_result"
    }
   ],
   "source": [
    "from sympy import integrate\n",
    "\n",
    "integrate(fx, (x,a,b))  # = A_f(a,b)"
   ]
  },
  {
   "cell_type": "markdown",
   "id": "242886ed-48e9-4933-a20f-34aa68ca1976",
   "metadata": {},
   "source": [
    "The answer $c\\cdot (b-a)$ is the general expression for calculating the area under $f(x)=c$,\n",
    "for between any starting point $x=a$ and end point $x=b$.\n",
    "Geometrically, this is just a height-times-width formula for the area of a rectangle.\n",
    "\n",
    "To compute the specific integral between $a=0$ and $b=5$ under $f(x)=3$,\n",
    "we use the `subs` (substitute) method,\n",
    "passing in a Python dictionary of the values we want to \"plug\" into the general expression."
   ]
  },
  {
   "cell_type": "code",
   "execution_count": 26,
   "id": "47c5b357-5e23-4c90-83af-eb4e7e7302db",
   "metadata": {},
   "outputs": [
    {
     "data": {
      "text/latex": [
       "$\\displaystyle 15$"
      ],
      "text/plain": [
       "15"
      ]
     },
     "execution_count": 26,
     "metadata": {},
     "output_type": "execute_result"
    }
   ],
   "source": [
    "integrate(fx, (x,a,b)).subs({c:3, a:0, b:5})"
   ]
  },
  {
   "cell_type": "markdown",
   "id": "7253209e-3369-4759-849c-f88e52c3830a",
   "metadata": {},
   "source": [
    "The integral function $F_0(b) = \\int_0^b f(x) dx$ is obtained as follows."
   ]
  },
  {
   "cell_type": "code",
   "execution_count": 27,
   "id": "22c103a1-8025-4bb1-847e-40543af54f35",
   "metadata": {},
   "outputs": [
    {
     "data": {
      "text/latex": [
       "$\\displaystyle b c$"
      ],
      "text/plain": [
       "b*c"
      ]
     },
     "execution_count": 27,
     "metadata": {},
     "output_type": "execute_result"
    }
   ],
   "source": [
    "integrate(fx, (x,0,b))  # = F_0(b)"
   ]
  },
  {
   "cell_type": "code",
   "execution_count": null,
   "id": "11595cfa-c920-4993-a10e-e185bbc318f7",
   "metadata": {},
   "outputs": [],
   "source": []
  },
  {
   "cell_type": "markdown",
   "id": "153516d9-284d-477d-991b-6b3bd12e02ad",
   "metadata": {},
   "source": [
    "#### Line $g(x)=x$"
   ]
  },
  {
   "cell_type": "code",
   "execution_count": 28,
   "id": "2fb31f90-67c0-49c1-ad5f-5ce22389cd58",
   "metadata": {},
   "outputs": [
    {
     "data": {
      "text/latex": [
       "$\\displaystyle x$"
      ],
      "text/plain": [
       "x"
      ]
     },
     "execution_count": 28,
     "metadata": {},
     "output_type": "execute_result"
    }
   ],
   "source": [
    "gx = 1*x\n",
    "gx"
   ]
  },
  {
   "cell_type": "code",
   "execution_count": 29,
   "id": "8aeb83d2-9d2d-42c4-aed5-f59f6e6a2b2b",
   "metadata": {},
   "outputs": [
    {
     "data": {
      "text/latex": [
       "$\\displaystyle - \\frac{a^{2}}{2} + \\frac{b^{2}}{2}$"
      ],
      "text/plain": [
       "-a**2/2 + b**2/2"
      ]
     },
     "execution_count": 29,
     "metadata": {},
     "output_type": "execute_result"
    }
   ],
   "source": [
    "integrate(gx, (x,a,b))  # = A_g(a,b)"
   ]
  },
  {
   "cell_type": "code",
   "execution_count": 30,
   "id": "842512bb-69b1-4119-96b9-7c495febce7d",
   "metadata": {},
   "outputs": [
    {
     "data": {
      "text/latex": [
       "$\\displaystyle - \\frac{a^{2}}{2} + \\frac{b^{2}}{2}$"
      ],
      "text/plain": [
       "-a**2/2 + b**2/2"
      ]
     },
     "execution_count": 30,
     "metadata": {},
     "output_type": "execute_result"
    }
   ],
   "source": [
    "integrate(gx, (x,a,b))"
   ]
  },
  {
   "cell_type": "code",
   "execution_count": 31,
   "id": "bac12d09-4a01-42f7-8043-19585b47e2ae",
   "metadata": {},
   "outputs": [
    {
     "data": {
      "text/latex": [
       "$\\displaystyle \\frac{25}{2}$"
      ],
      "text/plain": [
       "25/2"
      ]
     },
     "execution_count": 31,
     "metadata": {},
     "output_type": "execute_result"
    }
   ],
   "source": [
    "integrate(gx, (x,a,b)).subs({a:0, b:5})"
   ]
  },
  {
   "cell_type": "code",
   "execution_count": 32,
   "id": "118fd47d-a082-4c56-a560-614bb3feff54",
   "metadata": {},
   "outputs": [
    {
     "data": {
      "text/latex": [
       "$\\displaystyle 12.5$"
      ],
      "text/plain": [
       "12.5000000000000"
      ]
     },
     "execution_count": 32,
     "metadata": {},
     "output_type": "execute_result"
    }
   ],
   "source": [
    "integrate(gx, (x,a,b)).subs({m:3, a:0, b:5}).evalf()"
   ]
  },
  {
   "cell_type": "markdown",
   "id": "442548df-1b5d-4d29-9f5b-cb33bd6f4f1d",
   "metadata": {},
   "source": [
    "Bonus: the integral function $G_0(b) = \\int_0^b g(x) dx$ is obtained as follows."
   ]
  },
  {
   "cell_type": "code",
   "execution_count": 33,
   "id": "2bc5e99a-cde9-4c28-905e-7b2d0a757fe1",
   "metadata": {},
   "outputs": [
    {
     "data": {
      "text/latex": [
       "$\\displaystyle \\frac{b^{2}}{2}$"
      ],
      "text/plain": [
       "b**2/2"
      ]
     },
     "execution_count": 33,
     "metadata": {},
     "output_type": "execute_result"
    }
   ],
   "source": [
    "integrate(gx, (x,0,b))  # = G_0(b)"
   ]
  },
  {
   "cell_type": "code",
   "execution_count": null,
   "id": "c46a6e08-55c9-4c28-8c6a-7975310d0baa",
   "metadata": {},
   "outputs": [],
   "source": []
  },
  {
   "cell_type": "code",
   "execution_count": null,
   "id": "e1b199aa-27cd-425e-9615-7e7111eaf974",
   "metadata": {},
   "outputs": [],
   "source": []
  },
  {
   "cell_type": "code",
   "execution_count": null,
   "id": "fa51c1e0-ea61-44e8-ad14-d948702c5fe3",
   "metadata": {},
   "outputs": [],
   "source": []
  },
  {
   "cell_type": "markdown",
   "id": "7500474d-e5c3-40c7-b026-354b3f4f4b6c",
   "metadata": {},
   "source": [
    "### Theoretical calculus topics\n",
    "\n",
    "\n"
   ]
  },
  {
   "cell_type": "code",
   "execution_count": 67,
   "id": "d1509370-cb2b-478b-8957-e32776c61904",
   "metadata": {},
   "outputs": [
    {
     "data": {
      "text/latex": [
       "$\\displaystyle x$"
      ],
      "text/plain": [
       "x"
      ]
     },
     "execution_count": 67,
     "metadata": {},
     "output_type": "execute_result"
    }
   ],
   "source": [
    "from sympy import symbols\n",
    "\n",
    "x, a, b, i, m, n = symbols(\"x a b i m n\")\n",
    "x"
   ]
  },
  {
   "cell_type": "markdown",
   "id": "bb99f89f-811e-4426-bfc8-5dfdaa3e50b3",
   "metadata": {},
   "source": [
    "Let's create a simple expression using the symbols."
   ]
  },
  {
   "cell_type": "code",
   "execution_count": 68,
   "id": "54ce9aaa-8136-46f8-b5cb-895b70fd7ff6",
   "metadata": {},
   "outputs": [
    {
     "data": {
      "text/latex": [
       "$\\displaystyle b + m x$"
      ],
      "text/plain": [
       "b + m*x"
      ]
     },
     "execution_count": 68,
     "metadata": {},
     "output_type": "execute_result"
    }
   ],
   "source": [
    "expr = b + m*x\n",
    "expr"
   ]
  },
  {
   "cell_type": "markdown",
   "id": "1939ce95-eddf-4b41-9155-b74241043b84",
   "metadata": {},
   "source": [
    "Let's look how SymPy represents this expression under the hood."
   ]
  },
  {
   "cell_type": "code",
   "execution_count": 69,
   "id": "2d678927-ed72-4c94-8c00-a044cb6eeacd",
   "metadata": {},
   "outputs": [
    {
     "data": {
      "text/plain": [
       "\"Add(Symbol('b'), Mul(Symbol('m'), Symbol('x')))\""
      ]
     },
     "execution_count": 69,
     "metadata": {},
     "output_type": "execute_result"
    }
   ],
   "source": [
    "from sympy import srepr\n",
    "\n",
    "srepr(expr)"
   ]
  },
  {
   "cell_type": "code",
   "execution_count": null,
   "id": "3119a864-95dc-467f-ad1f-e8c61377db67",
   "metadata": {},
   "outputs": [],
   "source": []
  },
  {
   "cell_type": "code",
   "execution_count": null,
   "id": "23fe23a8-d80b-4699-b0d9-6606b50b6e84",
   "metadata": {},
   "outputs": [],
   "source": []
  },
  {
   "cell_type": "markdown",
   "id": "95016e7e-95db-46ec-909e-070d2f6fd9c8",
   "metadata": {},
   "source": [
    "#### Limits\n"
   ]
  },
  {
   "cell_type": "code",
   "execution_count": 70,
   "id": "a664a374-080b-4d5b-9614-2956627ff42f",
   "metadata": {},
   "outputs": [
    {
     "data": {
      "text/latex": [
       "$\\displaystyle \\infty$"
      ],
      "text/plain": [
       "oo"
      ]
     },
     "execution_count": 70,
     "metadata": {},
     "output_type": "execute_result"
    }
   ],
   "source": [
    "from sympy import limit, exp, oo\n",
    "\n",
    "limit(exp(x)/x**100, x, oo) "
   ]
  },
  {
   "cell_type": "markdown",
   "id": "440ca738-d5c7-467c-a4c8-5e63655da44d",
   "metadata": {},
   "source": []
  },
  {
   "cell_type": "code",
   "execution_count": 71,
   "id": "5f376c3f-d8ef-4bed-a4ec-3b3463e6096a",
   "metadata": {},
   "outputs": [],
   "source": [
    "# # EXAMPLE 2: ... consider segtment of length (b-a) cut into n parts\n",
    "# delta = (b - a)/n\n",
    "\n",
    "# zero length...\n",
    "# limit(delta, n, oo)\n",
    "\n",
    "# but still add up to whole interval...\n",
    "# summation(delta, (i, 0, n-1))"
   ]
  },
  {
   "cell_type": "code",
   "execution_count": null,
   "id": "12e0a687-3a79-47fa-8d4f-2cfde3d61003",
   "metadata": {},
   "outputs": [],
   "source": []
  },
  {
   "cell_type": "code",
   "execution_count": null,
   "id": "c5c47599-fe3f-4207-9f4d-c8ad58f5790f",
   "metadata": {},
   "outputs": [],
   "source": []
  },
  {
   "cell_type": "markdown",
   "id": "baab2fae-7ac9-47b3-bda3-5400a8f0d294",
   "metadata": {},
   "source": [
    "#### Derivatives\n"
   ]
  },
  {
   "cell_type": "markdown",
   "id": "addae941-7fb4-4b12-8199-52d21c86678e",
   "metadata": {},
   "source": [
    "The derivative function of $f(x) = mx +b$ is $f'(x)=m$."
   ]
  },
  {
   "cell_type": "code",
   "execution_count": 72,
   "id": "cb40b354-0ad3-4bb7-bdf0-36d07d8b45b7",
   "metadata": {},
   "outputs": [
    {
     "data": {
      "text/latex": [
       "$\\displaystyle m$"
      ],
      "text/plain": [
       "m"
      ]
     },
     "execution_count": 72,
     "metadata": {},
     "output_type": "execute_result"
    }
   ],
   "source": [
    "from sympy import diff\n",
    "\n",
    "f = b + m*x\n",
    "\n",
    "diff(f, x)"
   ]
  },
  {
   "cell_type": "markdown",
   "id": "56614adc-2f3b-441f-9d8b-56ac85e82650",
   "metadata": {},
   "source": [
    "The derivative function of $f(x) = \\frac{c}{2}x^2$ is $f'(x)=cx$."
   ]
  },
  {
   "cell_type": "code",
   "execution_count": 73,
   "id": "0116e5ed-bda3-4c99-abb5-4f73de0115ce",
   "metadata": {},
   "outputs": [
    {
     "data": {
      "text/latex": [
       "$\\displaystyle c x$"
      ],
      "text/plain": [
       "c*x"
      ]
     },
     "execution_count": 73,
     "metadata": {},
     "output_type": "execute_result"
    }
   ],
   "source": [
    "f = c/2 * x**2\n",
    "\n",
    "diff(f, x)"
   ]
  },
  {
   "cell_type": "markdown",
   "id": "22068d2a-1e72-4fe3-b720-73038684d635",
   "metadata": {},
   "source": [
    "Here is another example of a complicated-looking function,\n",
    "that includes an exponential, a trigonometric, and a logarithmic function."
   ]
  },
  {
   "cell_type": "code",
   "execution_count": 74,
   "id": "d11d68ae-982e-485c-86a7-033b303d5a2e",
   "metadata": {},
   "outputs": [
    {
     "data": {
      "text/latex": [
       "$\\displaystyle e^{x} + \\log{\\left(x \\right)} + \\sin{\\left(x \\right)}$"
      ],
      "text/plain": [
       "exp(x) + log(x) + sin(x)"
      ]
     },
     "execution_count": 74,
     "metadata": {},
     "output_type": "execute_result"
    }
   ],
   "source": [
    "from sympy import log, exp, sin\n",
    "f = exp(x) + sin(x) + log(x)\n",
    "f"
   ]
  },
  {
   "cell_type": "code",
   "execution_count": 75,
   "id": "6d88c9a5-45b4-435b-8903-d25ec4872572",
   "metadata": {},
   "outputs": [
    {
     "data": {
      "text/latex": [
       "$\\displaystyle e^{x} + \\cos{\\left(x \\right)} + \\frac{1}{x}$"
      ],
      "text/plain": [
       "exp(x) + cos(x) + 1/x"
      ]
     },
     "execution_count": 75,
     "metadata": {},
     "output_type": "execute_result"
    }
   ],
   "source": [
    "diff(f)"
   ]
  },
  {
   "cell_type": "markdown",
   "id": "2ac7c4ce-6719-435c-825f-685ba5f002e9",
   "metadata": {},
   "source": [
    "#### Optimization algorithms\n",
    "\n",
    "See [wikipedia](https://en.wikipedia.org/wiki/Gradient_descent) for the description of the gradient descent algorithm.\n",
    "\n",
    "The code below implements a simplified version in one dimension, so we call it derivative descent."
   ]
  },
  {
   "cell_type": "code",
   "execution_count": 76,
   "id": "d2947e1b-f914-4767-bd09-f3857067a256",
   "metadata": {},
   "outputs": [],
   "source": [
    "def derivative_descent(f, x0=0, alpha=0.01, tol=1e-11):\n",
    "    \"\"\"\n",
    "    Computes the minimum of SymPy expression `f` using\n",
    "    the gradient descent algorithm in one dimension.\n",
    "    \"\"\"\n",
    "    x_i = x0\n",
    "    delta = float(\"inf\")\n",
    "    while delta > tol:\n",
    "        df_at_x_i = diff(f, x).subs({x:x_i})\n",
    "        x_next = x_i - alpha*df_at_x_i\n",
    "        delta = abs(x_next - x_i)\n",
    "        x_i = x_next\n",
    "    return x_i"
   ]
  },
  {
   "cell_type": "markdown",
   "id": "3c5f89ef-9e89-4a67-8688-101adbc69206",
   "metadata": {},
   "source": [
    "Let's find the minimum value of the function $f(x) = (x-5)^2$ using the `derivative_descent` algorithm."
   ]
  },
  {
   "cell_type": "code",
   "execution_count": 77,
   "id": "167ea5b6-50f2-464a-820f-ef88eb13daa1",
   "metadata": {},
   "outputs": [
    {
     "data": {
      "text/latex": [
       "$\\displaystyle 4.99999999951256$"
      ],
      "text/plain": [
       "4.99999999951256"
      ]
     },
     "execution_count": 77,
     "metadata": {},
     "output_type": "execute_result"
    }
   ],
   "source": [
    "f = (x-5)**2\n",
    "\n",
    "argmin_f = derivative_descent(f)\n",
    "argmin_f"
   ]
  },
  {
   "cell_type": "markdown",
   "id": "710735d9-1a96-4aa8-8e80-ca5e04ae435e",
   "metadata": {},
   "source": [
    "The solution is roughly accurate to roughly `tol`*10 = `1e-10`  decimals."
   ]
  },
  {
   "cell_type": "code",
   "execution_count": 78,
   "id": "010a961a-5ebb-4352-a5fd-e64517845e46",
   "metadata": {},
   "outputs": [
    {
     "data": {
      "text/plain": [
       "-4.874394221587863e-10"
      ]
     },
     "execution_count": 78,
     "metadata": {},
     "output_type": "execute_result"
    }
   ],
   "source": [
    "float(argmin_f - 5)"
   ]
  },
  {
   "cell_type": "markdown",
   "id": "f0ccd657-430b-4302-add3-67af6be333f3",
   "metadata": {},
   "source": [
    "#### Using SciPy optimization functions\n",
    "\n",
    "Let's solve the same optimization problem using the function `minimize` from `scipy.optimize`."
   ]
  },
  {
   "cell_type": "code",
   "execution_count": 79,
   "id": "0c838896-d141-41b0-bbf5-192c0d57b982",
   "metadata": {},
   "outputs": [
    {
     "data": {
      "text/plain": [
       "4.99999997455944"
      ]
     },
     "execution_count": 79,
     "metadata": {},
     "output_type": "execute_result"
    }
   ],
   "source": [
    "from scipy.optimize import minimize\n",
    "\n",
    "def f(x):\n",
    "    return (x-5)**2\n",
    "\n",
    "res = minimize(f, x0=0)\n",
    "\n",
    "res[\"x\"][0]  # = argmin f(x)"
   ]
  },
  {
   "cell_type": "code",
   "execution_count": null,
   "id": "605eaa81-a17c-48c2-868b-545777f53105",
   "metadata": {},
   "outputs": [],
   "source": []
  },
  {
   "cell_type": "markdown",
   "id": "73ae03e2-9206-4315-9948-4b853047dadd",
   "metadata": {},
   "source": [
    "#### Riemann sums\n",
    "\n",
    "See this [excerpt](https://minireference.com/static/excerpts/noBSmathphys_v5_preview.pdf#page=114) for a definition of the Riemann sum."
   ]
  },
  {
   "cell_type": "markdown",
   "id": "385afacf-60dd-4ee0-bcad-3f4236e3902d",
   "metadata": {},
   "source": [
    "#### Fundamental theorem of calculus\n"
   ]
  },
  {
   "cell_type": "code",
   "execution_count": 80,
   "id": "2509d105-2b69-4eae-b9b1-ce2baccc0500",
   "metadata": {},
   "outputs": [],
   "source": [
    "from sympy import diff, integrate, log, exp, sin\n",
    "\n",
    "f = log(x) + exp(x) + sin(x)"
   ]
  },
  {
   "cell_type": "code",
   "execution_count": 81,
   "id": "f6c970b9-fef3-4a1d-b7b8-f427e7b8297e",
   "metadata": {},
   "outputs": [
    {
     "data": {
      "text/latex": [
       "$\\displaystyle x \\log{\\left(x \\right)} - x + e^{x} - \\cos{\\left(x \\right)}$"
      ],
      "text/plain": [
       "x*log(x) - x + exp(x) - cos(x)"
      ]
     },
     "execution_count": 81,
     "metadata": {},
     "output_type": "execute_result"
    }
   ],
   "source": [
    "F = integrate(f)\n",
    "F"
   ]
  },
  {
   "cell_type": "code",
   "execution_count": 82,
   "id": "1590caea-8756-4ddc-956b-4a179f4aeadc",
   "metadata": {},
   "outputs": [
    {
     "data": {
      "text/latex": [
       "$\\displaystyle e^{x} + \\log{\\left(x \\right)} + \\sin{\\left(x \\right)}$"
      ],
      "text/plain": [
       "exp(x) + log(x) + sin(x)"
      ]
     },
     "execution_count": 82,
     "metadata": {},
     "output_type": "execute_result"
    }
   ],
   "source": [
    "diff(F)"
   ]
  },
  {
   "cell_type": "code",
   "execution_count": 83,
   "id": "674c33fb-9ece-472e-924f-12c58cb0988b",
   "metadata": {},
   "outputs": [
    {
     "data": {
      "text/plain": [
       "True"
      ]
     },
     "execution_count": 83,
     "metadata": {},
     "output_type": "execute_result"
    }
   ],
   "source": [
    "diff(integrate(f)) == f"
   ]
  },
  {
   "cell_type": "code",
   "execution_count": 84,
   "id": "8c7d7cb0-3a03-40b2-a85f-8402b78acb65",
   "metadata": {},
   "outputs": [
    {
     "data": {
      "text/plain": [
       "True"
      ]
     },
     "execution_count": 84,
     "metadata": {},
     "output_type": "execute_result"
    }
   ],
   "source": [
    "integrate(diff(f)) == f"
   ]
  },
  {
   "cell_type": "code",
   "execution_count": null,
   "id": "b2ec6f68-b5ee-486c-98c1-e20388cf65a8",
   "metadata": {},
   "outputs": [],
   "source": []
  }
 ],
 "metadata": {
  "kernelspec": {
   "display_name": "Python 3 (ipykernel)",
   "language": "python",
   "name": "python3"
  },
  "language_info": {
   "codemirror_mode": {
    "name": "ipython",
    "version": 3
   },
   "file_extension": ".py",
   "mimetype": "text/x-python",
   "name": "python",
   "nbconvert_exporter": "python",
   "pygments_lexer": "ipython3",
   "version": "3.9.4"
  }
 },
 "nbformat": 4,
 "nbformat_minor": 5
}
