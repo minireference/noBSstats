{
 "cells": [
  {
   "cell_type": "markdown",
   "id": "04670040-af7f-45dd-8d4f-7e078a8ff19c",
   "metadata": {
    "tags": []
   },
   "source": [
    "# Section 2.1 — Discrete random variables\n",
    "\n",
    "This notebook contains all the code examples from [Section 2.1 Discrete random variables]() of the **No Bullshit Guide to Statistics**.\n",
    "\n",
    "Topics covered in this notebook:\n",
    "\n",
    "- Definitions of discrete random variables\n",
    "- Examples of random variables\n",
    "- Probability calculations\n",
    "- Computer models for random variables \n",
    "  - Overview of `scipy.stats.distributions` methods\n",
    "- Real-world example to demo probability applications\n",
    "- Discussion\n",
    "  - Bulk and tails of a distribution\n"
   ]
  },
  {
   "cell_type": "markdown",
   "id": "3513c936-3866-47fd-b91d-c77ce2f9d143",
   "metadata": {
    "tags": []
   },
   "source": [
    "#### Notebook setup\n",
    "\n",
    "We'll start by importing the Python modules we need for this notebook."
   ]
  },
  {
   "cell_type": "code",
   "execution_count": 1,
   "id": "e9c19d1b-a7d6-4463-9bfe-b181f228bbf3",
   "metadata": {},
   "outputs": [],
   "source": [
    "# load Python modules\n",
    "import numpy as np\n",
    "import pandas as pd\n",
    "import seaborn as sns\n",
    "import matplotlib.pyplot as plt"
   ]
  },
  {
   "cell_type": "code",
   "execution_count": 2,
   "id": "71e57c73-4c33-485f-a3ea-e09ae908063c",
   "metadata": {},
   "outputs": [],
   "source": [
    "# Figures setup\n",
    "sns.set_theme(\n",
    "    context=\"paper\",\n",
    "    style=\"whitegrid\",\n",
    "    palette=\"colorblind\",\n",
    "    rc={'figure.figsize': (7,4)},\n",
    ")\n",
    "\n",
    "%config InlineBackend.figure_format = 'retina'"
   ]
  },
  {
   "cell_type": "code",
   "execution_count": 3,
   "id": "b6c150ec-72fc-449c-9d77-ddf01dcde9b7",
   "metadata": {},
   "outputs": [],
   "source": [
    "# set random seed for repeatability\n",
    "np.random.seed(3)"
   ]
  },
  {
   "cell_type": "code",
   "execution_count": null,
   "id": "908e1486-764f-4b7f-abdf-7e8de8353ace",
   "metadata": {},
   "outputs": [],
   "source": []
  },
  {
   "cell_type": "code",
   "execution_count": null,
   "id": "45f9317e-ad91-4606-b77b-0a271573ccc5",
   "metadata": {},
   "outputs": [],
   "source": []
  },
  {
   "cell_type": "markdown",
   "id": "cc325982-4362-4cee-abc3-648a07806400",
   "metadata": {},
   "source": [
    "## Definitions"
   ]
  },
  {
   "cell_type": "markdown",
   "id": "1320abb3-7570-46d9-b0f8-42c5dd50992f",
   "metadata": {
    "tags": []
   },
   "source": [
    "\n",
    "### Random variables\n",
    "\n",
    "- *random variable* $X$:\n",
    "  a quantity that can take on different values\n",
    "- *outcome*: a particular value $\\{X = x\\}$ or range of values $\\{a \\leq X \\leq b\\}$ that can occur as a result of observing the random variable $X$\n",
    "- *sample space* $\\mathcal{X}$: describes the set of all possible outcomes of the random variable.\n",
    "- $f_X$: the *probability mass function*\n",
    "  is a function that assigns probabilities to the different outcome\n",
    "  in the sample space of a discrete random variable.\n",
    "  The probability mass function of the random variable $X$\n",
    "  is a function of the form $f_X: \\mathcal{X} \\to [0,1]$.\n",
    "- $F_X$:\n",
    "  the *cumulative distribution function* (CDF) tells us the probability of an outcome\n",
    "  less than or equal to a given value: $F_X(b) = Pr(\\{ X \\leq b \\})$.\n",
    "- $\\mathbb{E}_X[w(X)]$:\n",
    "  the *expected value* of the function $w(X)$\n",
    "  computes the average value of $w(X)$ computed for all the possible values of the random variable $X$.\n",
    "\n",
    "\n",
    "\n"
   ]
  },
  {
   "cell_type": "markdown",
   "id": "1c90fcad-902e-45a2-a296-3bf9c2777ae4",
   "metadata": {},
   "source": [
    "#### Example 1: coin flip\n",
    "\n",
    "Consider the random variable $C$ that describes the outcome of a coin flip for a balanced (fair) coin.\n",
    "The sample space for the random variable $C$ is $\\{\\texttt{heads}, \\texttt{tails}\\}$.\n",
    "\n",
    "The probability mass function is\n",
    "$$\n",
    "    f_C(\\texttt{heads}) = 0.5\n",
    "    \\quad\n",
    "    \\textrm{and}\n",
    "    \\quad\n",
    "    f_C(\\texttt{tails}) = 0.5.\n",
    "$$"
   ]
  },
  {
   "cell_type": "code",
   "execution_count": 4,
   "id": "17575afb-8f60-4b7c-990e-daaa134fde67",
   "metadata": {},
   "outputs": [],
   "source": [
    "# define the probability mass function for the random variable C\n",
    "def fC(c):\n",
    "    if c in {\"heads\", \"tails\"}:\n",
    "        return 1/2\n",
    "    else:\n",
    "        return 0"
   ]
  },
  {
   "cell_type": "code",
   "execution_count": 5,
   "id": "2b692b8f-1280-454a-bad1-b40c411c3b8c",
   "metadata": {},
   "outputs": [
    {
     "name": "stdout",
     "output_type": "stream",
     "text": [
      "heads 0.5\n",
      "tails 0.5\n"
     ]
    }
   ],
   "source": [
    "# print the values of the probability mass function\n",
    "for c in [\"heads\", \"tails\"]:\n",
    "    print(c, fC(c))"
   ]
  },
  {
   "cell_type": "code",
   "execution_count": null,
   "id": "84905f6d-715e-4725-acf8-6e4b2968a4f9",
   "metadata": {},
   "outputs": [],
   "source": []
  },
  {
   "cell_type": "markdown",
   "id": "ae2794a3-a505-4377-80f8-2d09f153c0fe",
   "metadata": {},
   "source": [
    "#### Example 2: rolling a six-sided die\n",
    "\n",
    "The random outcome that occurs when we roll a six-sided die can be described as a random variable $D$\n",
    "which has the sample space $\\{1, 2, 3, 4, 5, 6\\}$.\n",
    "If we assume the die is fair,\n",
    "then each of the outcomes will have equal weight,\n",
    "so the probability mass function $f_D$ has the following values:\n",
    "\n",
    "$$\n",
    "    f_D(1)\\!=\\!\\tfrac{1}{6},\n",
    "    \\ \n",
    "    f_D(2)\\!=\\!\\tfrac{1}{6},\n",
    "    \\ \n",
    "    f_D(3)\\!=\\!\\tfrac{1}{6},\n",
    "    \\ \n",
    "    f_D(4)\\!=\\!\\tfrac{1}{6},\n",
    "    \\ \n",
    "    f_D(5)\\!=\\!\\tfrac{1}{6},\n",
    "    \\ \n",
    "    f_D(6)\\!=\\!\\tfrac{1}{6}.\n",
    "$$"
   ]
  },
  {
   "cell_type": "code",
   "execution_count": 6,
   "id": "c4621f3a-91f1-4459-9ff6-1c5b36a87826",
   "metadata": {},
   "outputs": [],
   "source": [
    "# define the probability mass function for the random variable D\n",
    "def fD(d):\n",
    "    if d in {1,2,3,4,5,6}:\n",
    "        return 1/6\n",
    "    else:\n",
    "        return 0"
   ]
  },
  {
   "cell_type": "code",
   "execution_count": 7,
   "id": "4d3a0349-a964-4200-91de-025407ff3b2a",
   "metadata": {},
   "outputs": [
    {
     "name": "stdout",
     "output_type": "stream",
     "text": [
      "1 0.16666666666666666\n",
      "2 0.16666666666666666\n",
      "3 0.16666666666666666\n",
      "4 0.16666666666666666\n",
      "5 0.16666666666666666\n",
      "6 0.16666666666666666\n"
     ]
    }
   ],
   "source": [
    "# print the values of probability mass function\n",
    "for d in range(1,6+1):\n",
    "    print(d, fD(d))"
   ]
  },
  {
   "cell_type": "markdown",
   "id": "592c34fa-98eb-4c72-8929-98a3474d9f6d",
   "metadata": {},
   "source": [
    "Note the Python function `range(a,b)` is equivalent to the list of values `[a,a+1,a+2,...,b-1]` and does not include the upper limit `b`.\n",
    "If we want to have a range of values that includes `b` we use\n",
    "`range(a,b+1)` which produces `[a,a+1,a+2,...,b-1,b]`.\n",
    "You'll see this `+1` added in numerous code examples below."
   ]
  },
  {
   "cell_type": "code",
   "execution_count": null,
   "id": "3f343911-3d2a-4f82-98ae-d8f7bcd9dcd1",
   "metadata": {},
   "outputs": [],
   "source": []
  },
  {
   "cell_type": "markdown",
   "id": "0fa47df0-203d-4ea0-8b83-4d9f8a245db0",
   "metadata": {},
   "source": [
    "#### Example 3: hard disk failures\n",
    "\n",
    "We can model the number of hard disk failures expected to occur in a given data centre as a random variable $H$ distributed according to the Poisson distribution.\n",
    "$$\n",
    "    f_H(h) = \\frac{\\lambda^{h}e^{-\\lambda }}{h!}, \\ \\ \\textrm{for }  h \\in \\{0, 1, 2, 3, \\ldots \\},\n",
    "$$\n",
    "\n",
    "where $\\lambda$ is a parameter of the distribution.\n",
    "\n",
    "In this example, we know parameter is $\\lambda = 20$,\n",
    "which we'll denote as `lam = 20` in Python.\n",
    "\n",
    "The probability mass function for the random variable $H \\sim \\textrm{Pois}(\\lambda=20)$ is computed using the following Python function `fH`."
   ]
  },
  {
   "cell_type": "code",
   "execution_count": 8,
   "id": "743fd1de-db63-4ff9-9e53-c091f2eb8abd",
   "metadata": {},
   "outputs": [],
   "source": [
    "import numpy as np\n",
    "\n",
    "def fH(h):\n",
    "    lam = 20\n",
    "    return lam**h * np.exp(-lam) / np.math.factorial(h)"
   ]
  },
  {
   "cell_type": "markdown",
   "id": "f4676465-e113-4800-95d5-dccb6d9cc514",
   "metadata": {},
   "source": [
    "We can use the function `fH` to compute the probability of simple outcomes like $\\{H=23\\}$."
   ]
  },
  {
   "cell_type": "code",
   "execution_count": 9,
   "id": "069a1661-76dd-46ef-a460-80adf44640b5",
   "metadata": {},
   "outputs": [
    {
     "data": {
      "text/plain": [
       "0.06688147366240181"
      ]
     },
     "execution_count": 9,
     "metadata": {},
     "output_type": "execute_result"
    }
   ],
   "source": [
    "fH(23)"
   ]
  },
  {
   "cell_type": "markdown",
   "id": "8602d4f1-7bf8-4426-8306-7f79bafa3daf",
   "metadata": {},
   "source": [
    "The probability of a composite outcome is the sum of the probabilities of the individual elements.\n",
    "To compute the probability of the composite outcome $\\{18 \\leq H \\leq 22\\}$,\n",
    "we use the following Python expression:"
   ]
  },
  {
   "cell_type": "code",
   "execution_count": 10,
   "id": "d9e9494a-f5f4-4174-819d-0c87f473e3bb",
   "metadata": {},
   "outputs": [
    {
     "data": {
      "text/plain": [
       "0.42358294520135187"
      ]
     },
     "execution_count": 10,
     "metadata": {},
     "output_type": "execute_result"
    }
   ],
   "source": [
    "sum([fH(h) for h in range(18,22+1)])"
   ]
  },
  {
   "cell_type": "markdown",
   "id": "36adbb4c-68f6-469d-a188-1c0b74ec0a1e",
   "metadata": {},
   "source": [
    "The code below verifies that the Python function `fH` satisfies Kolmogorov's second axiom,\n",
    "which demands that the total probability is $1$."
   ]
  },
  {
   "cell_type": "code",
   "execution_count": 11,
   "id": "f27493d0-fc3a-4618-852a-0285e9558224",
   "metadata": {},
   "outputs": [
    {
     "data": {
      "text/plain": [
       "1.0"
      ]
     },
     "execution_count": 11,
     "metadata": {},
     "output_type": "execute_result"
    }
   ],
   "source": [
    "sum([fH(h) for h in range(0,100+1)])"
   ]
  },
  {
   "cell_type": "markdown",
   "id": "117f0d67-0a49-4b5a-bbb0-796f850b66a5",
   "metadata": {},
   "source": [
    "Note we calculated the summation only until $h=100$ and not until $h=\\infty$.\n",
    "In general,\n",
    "it's it's not possible to do summation until infinity on computers.\n",
    "Stopping the summation at $h=100$ is okay in this case,\n",
    "because the probability values $f_H(101)$, $f_H(102)$, etc. are very small numbers,\n",
    "`fH(101) = 5.544e-38` which is a negligible number,\n",
    "when added to the answer `1.0`."
   ]
  },
  {
   "cell_type": "code",
   "execution_count": 12,
   "id": "bddd4cb1-ebb6-4940-a697-2ed8d5e85aa0",
   "metadata": {},
   "outputs": [
    {
     "data": {
      "text/plain": [
       "1.0"
      ]
     },
     "execution_count": 12,
     "metadata": {},
     "output_type": "execute_result"
    }
   ],
   "source": [
    "1.0 + fH(101)"
   ]
  },
  {
   "cell_type": "markdown",
   "id": "de7fee62-de1f-478a-bcf6-bf226dc2dd6a",
   "metadata": {
    "tags": []
   },
   "source": [
    "## Calculations with random variables"
   ]
  },
  {
   "cell_type": "markdown",
   "id": "a26fc799-91c8-4834-ab21-429bc79114ca",
   "metadata": {},
   "source": [
    "### Example 4: expected winnings from the die game\n"
   ]
  },
  {
   "cell_type": "code",
   "execution_count": 13,
   "id": "a7fef396-8990-421d-963d-1d8337763d63",
   "metadata": {},
   "outputs": [],
   "source": [
    "def w(d):\n",
    "    if d == 6:\n",
    "        return 5\n",
    "    else:\n",
    "        return 0"
   ]
  },
  {
   "cell_type": "code",
   "execution_count": 14,
   "id": "0cb17e8f-100e-4195-8706-8527952deb69",
   "metadata": {},
   "outputs": [
    {
     "data": {
      "text/plain": [
       "0.8333333333333333"
      ]
     },
     "execution_count": 14,
     "metadata": {},
     "output_type": "execute_result"
    }
   ],
   "source": [
    "# expected value of w(D)\n",
    "sum([w(d)*fD(d) for d in range(1,6+1)])"
   ]
  },
  {
   "cell_type": "markdown",
   "id": "89566268-f5b6-40b9-8611-e710b6a5d043",
   "metadata": {},
   "source": [
    "### Example 5: mean and variance of six-sided die\n"
   ]
  },
  {
   "cell_type": "markdown",
   "id": "74a063da-79a0-413c-9e4d-26bc6aa2c28f",
   "metadata": {},
   "source": [
    "#### Mean\n",
    "\n",
    "The formula for the mean is given by:\n",
    "$$\n",
    "  \\mu_D \\ = \\ \\mathbb{E}_D[D] = \\sum_{d=1}^{6}  d \\cdot f_{D}(d).\n",
    "$$\n",
    "\n",
    "In code, this gives:"
   ]
  },
  {
   "cell_type": "code",
   "execution_count": 15,
   "id": "d5d80678-6ce9-43b0-a49b-9739045e419a",
   "metadata": {},
   "outputs": [
    {
     "data": {
      "text/plain": [
       "3.5"
      ]
     },
     "execution_count": 15,
     "metadata": {},
     "output_type": "execute_result"
    }
   ],
   "source": [
    "sum([d*fD(d) for d in range(1,6+1)])"
   ]
  },
  {
   "cell_type": "markdown",
   "id": "62a4aec3-8a00-46f6-93b6-ab5969224d05",
   "metadata": {},
   "source": [
    "So the mean is $\\mu_D = \\frac{21}{6} = 3.5$."
   ]
  },
  {
   "cell_type": "markdown",
   "id": "6a6b7340-2527-4b61-ae08-1fc304739146",
   "metadata": {
    "tags": []
   },
   "source": [
    "#### Variance\n",
    "\n",
    "The formula for the variance is\n",
    "$$\n",
    "    \\sigma_D^2\n",
    "        = \\mathbb{E}_D\\!\\left[ (D-\\mu_D)^2 \\right]\n",
    "        = \\sum_{d=1}^{6} \\; (d-3.5)^2 \\cdot f_D(d).\n",
    "$$"
   ]
  },
  {
   "cell_type": "code",
   "execution_count": 16,
   "id": "8fa94cb2-cd60-4650-9dd1-bb4121c352b2",
   "metadata": {},
   "outputs": [
    {
     "data": {
      "text/plain": [
       "2.9166666666666665"
      ]
     },
     "execution_count": 16,
     "metadata": {},
     "output_type": "execute_result"
    }
   ],
   "source": [
    "sum([(d-3.5)**2 * fD(d) for d in range(1,7)])"
   ]
  },
  {
   "cell_type": "markdown",
   "id": "32fb6c90-216a-4ea2-a6e8-4776f53c90e8",
   "metadata": {},
   "source": [
    "So the variance of $D$ is $\\sigma_D^2 = 2.91\\overline{6}$.\n",
    "\n",
    "We can compute the standard deviation $\\sigma_D$ by taking the square root of the variance."
   ]
  },
  {
   "cell_type": "code",
   "execution_count": 17,
   "id": "c2fc635a-dd6f-41b5-b068-34772e759c23",
   "metadata": {},
   "outputs": [
    {
     "data": {
      "text/plain": [
       "1.707825127659933"
      ]
     },
     "execution_count": 17,
     "metadata": {},
     "output_type": "execute_result"
    }
   ],
   "source": [
    "import numpy as np\n",
    "np.sqrt(2.9166666666666665)"
   ]
  },
  {
   "cell_type": "markdown",
   "id": "e7d22e27-1c16-45f0-8a06-aad28bb8041c",
   "metadata": {},
   "source": [
    "### Example 6: mean and variance of hard disks failures\n"
   ]
  },
  {
   "cell_type": "markdown",
   "id": "4c7b0e42-d163-4680-b3c6-0f049d0290c9",
   "metadata": {},
   "source": [
    "#### Mean\n",
    "\n",
    "The formula for the mean is given by:\n",
    "$$\n",
    "  \\mu_H \\ = \\ \\mathbb{E}_H[H] = \\sum_{h=0}^{\\infty}  h \\cdot f_{H}(h).\n",
    "$$\n",
    "\n",
    "In code, we'll use the upper limit of $h=100$ instead of $h$ all the way to infinity."
   ]
  },
  {
   "cell_type": "code",
   "execution_count": 18,
   "id": "22b82e34-119f-4777-b030-dc621345f7fd",
   "metadata": {},
   "outputs": [
    {
     "data": {
      "text/plain": [
       "20.0"
      ]
     },
     "execution_count": 18,
     "metadata": {},
     "output_type": "execute_result"
    }
   ],
   "source": [
    "sum([h*fH(h) for h in range(0,100+1)])"
   ]
  },
  {
   "cell_type": "markdown",
   "id": "375ebef7-8135-4eb5-a97e-09d00dd0d63c",
   "metadata": {},
   "source": [
    "So the mean is $\\mu_H = 20.0$.\n",
    "Indeed, this is what we expect since we constructed this random variable with mean parameters $\\lambda=20$."
   ]
  },
  {
   "cell_type": "markdown",
   "id": "44641e43-9131-4832-8549-8c38823d230f",
   "metadata": {
    "tags": []
   },
   "source": [
    "#### Variance\n",
    "\n",
    "The formula for the variance is\n",
    "$$\n",
    "    \\sigma_H^2\n",
    "        = \\mathbb{E}_H\\!\\left[ (H-\\mu_H)^2 \\right]\n",
    "        = \\sum_{h=0}^{\\infty} (h-20)^2 \\cdot f_H(h).\n",
    "$$"
   ]
  },
  {
   "cell_type": "code",
   "execution_count": 19,
   "id": "a962779f-88df-40b1-aaaa-cc79bdbf4b71",
   "metadata": {},
   "outputs": [
    {
     "data": {
      "text/plain": [
       "19.999999999999996"
      ]
     },
     "execution_count": 19,
     "metadata": {},
     "output_type": "execute_result"
    }
   ],
   "source": [
    "sum([(h-20)**2 * fH(h) for h in range(0,100)])"
   ]
  },
  {
   "cell_type": "markdown",
   "id": "7ab5879a-bdb7-4604-94aa-dc2f570746cd",
   "metadata": {},
   "source": [
    "Due to numerical rounding errors in the above computation, we end up with a number that differs (in the 15th decimal) from the correct answer $20$.\n",
    "The variance of $H$ is $\\sigma_H^2 = 20.0$.\n",
    "\n",
    "We can compute the standard deviation $\\sigma_H$ by taking the square root of the variance."
   ]
  },
  {
   "cell_type": "code",
   "execution_count": 20,
   "id": "4749dc6c-daf5-455d-b4f2-12a769178361",
   "metadata": {},
   "outputs": [
    {
     "data": {
      "text/plain": [
       "4.47213595499958"
      ]
     },
     "execution_count": 20,
     "metadata": {},
     "output_type": "execute_result"
    }
   ],
   "source": [
    "import numpy as np\n",
    "np.sqrt(20)"
   ]
  },
  {
   "cell_type": "markdown",
   "id": "b3b58d65-917e-40eb-9ebf-52e32bbc82f5",
   "metadata": {},
   "source": [
    "Intuitively, the $\\sigma_H$ tells us the width of distribution is approximately 5,\n",
    "and the most likely outcomes will be in the interval\n",
    "$[\\mu_H - \\sigma_H, \\mu_H + \\sigma_H] = [15, 25]$."
   ]
  },
  {
   "cell_type": "markdown",
   "id": "10b88e05-e08c-4faa-9a59-a59a91248eab",
   "metadata": {},
   "source": [
    "<a name=\"computer_models\"></a>\n",
    "\n",
    "## Computer models for random variables\n",
    "\n",
    "- `<model>`: the family of probability distributions\n",
    "  - Examples: `randint`, `poisson`, `uniform`, `norm`, etc.\n",
    "- `<params>`: parameters of the model—specific value of the control knobs we choose to create a particular distribution\n",
    "  - Examples: `alpha`,`beta`,`lam`, `mu`, `sigma`, etc.\n",
    "- `<model>(<params>)`: the probability model from the family `<model>` initialized with parameters `<params>`\n",
    "- $\\sim$: math shorthand symbol that stands for \"is distributed according to.\"\n",
    "  For example $X \\sim \\mathcal{M}(\\theta)$ means the random variable $X$\n",
    "  is distributed according to the probability model $\\mathcal{M}$ with parameters $\\theta$.\n"
   ]
  },
  {
   "cell_type": "markdown",
   "id": "69579998-9a27-41f2-b74c-0f90f83c2289",
   "metadata": {},
   "source": [
    "### Examples of probability models and their computer implementations\n",
    "\n",
    "- The discrete uniform family of distribution $\\mathcal{U}_d(\\alpha,\\beta)$\n",
    "  assigns equal probabilities to all outcomes in the range $[\\alpha, \\alpha+1, \\ldots, \\beta]$.\n",
    "  To create a computer model for a discrete uniform distribution,\n",
    "  use the code `randint(alpha, beta+1)`,\n",
    "  where `alpha` and `beta` are two integers.\n",
    "  - Examples 2: we can model the outcome of a six-sided die roll $D \\sim \\mathcal{U}_d(1,6)$ as `rvD = randint(1,6+1)`.\n",
    "- The Poisson family of distribution $\\textrm{Pois}(\\lambda)$\n",
    "  describes the count of occurrences when the average rate is $\\lambda$.\n",
    "  To create a computer model for a Poisson random variable\n",
    "  use the code `poisson(lam)`,\n",
    "  where `lam` (short for *lambda*) describes the expected number of occurrences.\n",
    "  - Examples 3: we can model the number of hard disk failures $H \\sim \\textrm{Pois}(20)$ as `rvH = poisson(20)`.\n",
    "- The continuous uniform family of distribution $\\mathcal{U}(\\alpha,\\beta)$,\n",
    "  which assigns equal probabilities to all outcomes in the interval $[\\alpha,\\beta]$.\n",
    "  To create a computer model for a continuous uniform distribution,\n",
    "  use the code `uniform(alpha, beta)`,\n",
    "  where `alpha` and `beta` are two floats.\n",
    "- The normal family of distribution $\\mathcal{N}(\\mu,\\sigma)$ corresponds to\n",
    "  a bell-shaped curve centred at $\\mu$ whose width is proportional to $\\sigma$.\n",
    "  To create a computer model for a normal random variable\n",
    "  use the code `norm(mu, sigma)`,\n",
    "  where `mu` is the mean and `sigma` is the standard deviation.\n"
   ]
  },
  {
   "cell_type": "markdown",
   "id": "fd3f67e2-6b0e-45eb-9c5c-2ab66abe5053",
   "metadata": {},
   "source": [
    "## Hard disks example\n",
    "\n",
    "Let's now work through a detailed example to show how the computer model for the Poisson variable\n",
    "can help us do all kinds of computations with relevance to the real-world.\n",
    "\n",
    "The first thing we'll do is import the `poisson` model from `scipy.stats.distributions` \n",
    "and create a random variable object `rvH` by initializing the Poisson model with parameter $\\lambda = 20$."
   ]
  },
  {
   "cell_type": "code",
   "execution_count": 21,
   "id": "6405e0bf-d890-4594-9868-c556309ac569",
   "metadata": {},
   "outputs": [],
   "source": [
    "# import the poisson model\n",
    "from scipy.stats.distributions import poisson\n",
    "\n",
    "# create a Poisson random variable with mean parameter 20\n",
    "rvH = poisson(20)"
   ]
  },
  {
   "cell_type": "markdown",
   "id": "4086cf01-92e5-4f81-93e9-a9f3fc28291d",
   "metadata": {},
   "source": [
    "The methods on the random variable object `rvH`' will allow you to do anything you might want to do with the random variable $H$, as we'll now see..."
   ]
  },
  {
   "cell_type": "code",
   "execution_count": 22,
   "id": "77ae2c44-4e64-4146-aaa5-5607f0889617",
   "metadata": {},
   "outputs": [
    {
     "data": {
      "text/plain": [
       "scipy.stats._distn_infrastructure.rv_frozen"
      ]
     },
     "execution_count": 22,
     "metadata": {},
     "output_type": "execute_result"
    }
   ],
   "source": [
    "# what type of object is rvH?\n",
    "type(rvH)"
   ]
  },
  {
   "cell_type": "markdown",
   "id": "68522ed2-38ee-44ea-b1c0-655ff6979012",
   "metadata": {},
   "source": [
    "The above line tells us some information about the internal implementation of the Python object `rvH`,\n",
    "which is the Python implementation of the random variable $H \\sim \\textrm{Pois}(20)$.\n",
    "The `rvH` object is an instance of the class `rv_frozen` (frozen random variable).\n",
    "Ignore the frozen part. The key part is that it's a random variable."
   ]
  },
  {
   "cell_type": "code",
   "execution_count": null,
   "id": "c5f84b19-a840-42aa-997e-2e77dd7772a6",
   "metadata": {},
   "outputs": [],
   "source": []
  },
  {
   "cell_type": "markdown",
   "id": "4dbad8f3-9b29-4bd8-b4ee-180c4ca0f477",
   "metadata": {},
   "source": [
    "### Compute probabilities of simple outcomes"
   ]
  },
  {
   "cell_type": "code",
   "execution_count": 23,
   "id": "8937df3c-e6cc-4796-80d2-9670a8d06173",
   "metadata": {},
   "outputs": [
    {
     "data": {
      "text/plain": [
       "0.0888353173920848"
      ]
     },
     "execution_count": 23,
     "metadata": {},
     "output_type": "execute_result"
    }
   ],
   "source": [
    "rvH.pmf(20)"
   ]
  },
  {
   "cell_type": "code",
   "execution_count": 24,
   "id": "1a8ef341-754a-403a-9e03-91cd98c41c8b",
   "metadata": {},
   "outputs": [
    {
     "data": {
      "text/plain": [
       "0.08460506418293791"
      ]
     },
     "execution_count": 24,
     "metadata": {},
     "output_type": "execute_result"
    }
   ],
   "source": [
    "rvH.pmf(21)"
   ]
  },
  {
   "cell_type": "code",
   "execution_count": 25,
   "id": "1712ebd0-27b9-4ce8-a7f3-b499770d09fa",
   "metadata": {},
   "outputs": [
    {
     "data": {
      "text/plain": [
       "0.07691369471176195"
      ]
     },
     "execution_count": 25,
     "metadata": {},
     "output_type": "execute_result"
    }
   ],
   "source": [
    "rvH.pmf(22)"
   ]
  },
  {
   "cell_type": "code",
   "execution_count": null,
   "id": "88b5f441-8907-4896-b1c2-74d2c3e5357b",
   "metadata": {},
   "outputs": [],
   "source": []
  },
  {
   "cell_type": "markdown",
   "id": "cdc97b4b-082b-43c2-a7b7-cdd57f8944bb",
   "metadata": {},
   "source": [
    "### Properties of the distribution"
   ]
  },
  {
   "cell_type": "code",
   "execution_count": 26,
   "id": "d14a2b78-ca2b-418c-aa14-9a5e986b2958",
   "metadata": {},
   "outputs": [
    {
     "data": {
      "text/plain": [
       "20.0"
      ]
     },
     "execution_count": 26,
     "metadata": {},
     "output_type": "execute_result"
    }
   ],
   "source": [
    "rvH.mean()"
   ]
  },
  {
   "cell_type": "code",
   "execution_count": 27,
   "id": "88e50554-aaf8-47b9-84a2-4f20b1be4dfe",
   "metadata": {},
   "outputs": [
    {
     "data": {
      "text/plain": [
       "4.47213595499958"
      ]
     },
     "execution_count": 27,
     "metadata": {},
     "output_type": "execute_result"
    }
   ],
   "source": [
    "rvH.std()"
   ]
  },
  {
   "cell_type": "code",
   "execution_count": 28,
   "id": "b20f9338-4840-4c23-ba34-db0e0bff56c8",
   "metadata": {
    "tags": []
   },
   "outputs": [
    {
     "data": {
      "text/plain": [
       "4.47213595499958"
      ]
     },
     "execution_count": 28,
     "metadata": {},
     "output_type": "execute_result"
    }
   ],
   "source": [
    "np.sqrt( rvH.var() )  # = rvH.std()"
   ]
  },
  {
   "cell_type": "code",
   "execution_count": 29,
   "id": "e0269151-3a06-4c11-8abb-3d81f40dc2d4",
   "metadata": {},
   "outputs": [
    {
     "data": {
      "text/plain": [
       "20.0"
      ]
     },
     "execution_count": 29,
     "metadata": {},
     "output_type": "execute_result"
    }
   ],
   "source": [
    "rvH.median()"
   ]
  },
  {
   "cell_type": "code",
   "execution_count": 30,
   "id": "49069a77-b771-41c2-946a-f39f29b5a94c",
   "metadata": {},
   "outputs": [
    {
     "data": {
      "text/plain": [
       "(0, inf)"
      ]
     },
     "execution_count": 30,
     "metadata": {},
     "output_type": "execute_result"
    }
   ],
   "source": [
    "# show the sample space the random variable\n",
    "rvH.support()"
   ]
  },
  {
   "cell_type": "markdown",
   "id": "52158f59-901b-4956-ac3b-c2fa2dea3b44",
   "metadata": {},
   "source": [
    "The concept of *support* (of a probability distribution) is a fancy math way to talk about \"the interval of values where the probability distribution is non-zero.\" The above result tells us the support of the random variable `rvH` is all natural numbers $\\{0,1,2,3,\\ldots\\}$."
   ]
  },
  {
   "cell_type": "code",
   "execution_count": null,
   "id": "30eeb4c2-7be7-468f-81fe-c71992fa3b98",
   "metadata": {},
   "outputs": [],
   "source": []
  },
  {
   "cell_type": "markdown",
   "id": "a00c26ea-3d21-4c1f-927c-eba69f92f8fb",
   "metadata": {},
   "source": [
    "### Computing probabilities of complex outcomes\n",
    "\n",
    "Suppose you want to compute the probability of the outcome $\\{ a \\leq N \\leq b \\}$\n",
    "for the random variable $H$."
   ]
  },
  {
   "cell_type": "code",
   "execution_count": 31,
   "id": "e205fea3-a086-46e0-8954-da66a1c15c05",
   "metadata": {},
   "outputs": [
    {
     "data": {
      "text/plain": [
       "0.782950746174042"
      ]
     },
     "execution_count": 31,
     "metadata": {},
     "output_type": "execute_result"
    }
   ],
   "source": [
    "# Pr({15 <= H <= 25}) = sum of f_H between 15 and 25\n",
    "sum([rvH.pmf(x) for x in range(15, 25+1)])"
   ]
  },
  {
   "cell_type": "code",
   "execution_count": 32,
   "id": "730e8e76-5cb8-4d11-a81c-a636c95d3306",
   "metadata": {},
   "outputs": [
    {
     "data": {
      "text/plain": [
       "0.7829507461740455"
      ]
     },
     "execution_count": 32,
     "metadata": {},
     "output_type": "execute_result"
    }
   ],
   "source": [
    "# Pr({15 <= H <= 25}) = F_H(25) - F_H(14)\n",
    "rvH.cdf(25) - rvH.cdf(14)"
   ]
  },
  {
   "cell_type": "code",
   "execution_count": null,
   "id": "e741e094-6865-46d4-adac-c94487444d39",
   "metadata": {},
   "outputs": [],
   "source": []
  },
  {
   "cell_type": "markdown",
   "id": "6467ac6e-a0bd-460d-ab07-7b42f6bbd6e4",
   "metadata": {},
   "source": [
    "### Plotting the probability mass function"
   ]
  },
  {
   "cell_type": "markdown",
   "id": "068b6515-e043-468f-abc0-075f86f14a4c",
   "metadata": {},
   "source": [
    "We'll use the `stem` plot from the Matplotlib library to plot probability mass functions\n",
    "for discrete random variables.\n",
    "\n",
    "To create a stem-plot of the probability mass function $f_H$, we can use the following three step procedure:\n",
    "1. create a range of inputs `hs` for the plot\n",
    "2. compute the value of $f_H$ for each of the inputs and store in an array of values `fHs`\n",
    "3. plot the values `fHs` using `plt.stem`\n",
    "\n",
    "If you've never seen this three-step pattern used to generate plots in Python,\n",
    "you should check out the [Python tutorial notebook](../tutorials/python_tutorial.ipynb),\n",
    "in particular the section \"Plotting function graphs\"."
   ]
  },
  {
   "cell_type": "code",
   "execution_count": 33,
   "id": "0b49db0e-72ec-4d30-8682-791260daa87c",
   "metadata": {},
   "outputs": [
    {
     "data": {
      "text/plain": [
       "<StemContainer object of 3 artists>"
      ]
     },
     "execution_count": 33,
     "metadata": {},
     "output_type": "execute_result"
    },
    {
     "data": {
      "image/png": "[encoded data removed]",
      "text/plain": [
       "<Figure size 504x288 with 1 Axes>"
      ]
     },
     "metadata": {
      "image/png": {
       "height": 249,
       "width": 430
      }
     },
     "output_type": "display_data"
    }
   ],
   "source": [
    "import matplotlib.pyplot as plt\n",
    "import numpy as np\n",
    "\n",
    "# 1. array of input values for the plot\n",
    "hs = np.arange(0, 40)\n",
    "\n",
    "# 2. compute f_H(h) for each h in hs\n",
    "fHs = rvH.pmf(hs)\n",
    "\n",
    "# 3. stem plot please\n",
    "plt.stem(fHs)"
   ]
  },
  {
   "cell_type": "markdown",
   "id": "806dacee-062f-44a9-830e-7c7413944610",
   "metadata": {},
   "source": [
    "Note the graph of the probability mass function corresponds to a discrete set of points,\n",
    "and is not defined for values in between the integers.\n",
    "This makes sense,\n",
    "since we can't have 20.3 hard disk failures—only integers are allowed."
   ]
  },
  {
   "cell_type": "code",
   "execution_count": 34,
   "id": "84ed029a-b79e-4f81-a59d-c47f3ab894d7",
   "metadata": {},
   "outputs": [],
   "source": [
    "# filename = \"figures/pmf_plot_poisson_mu20.pdf\"\n",
    "\n",
    "# fig, ax = plt.subplots()\n",
    "# ax.stem(fHs, label=\"pmf of $H$\", basefmt=\" \")\n",
    "# ax.set_xlabel('h')\n",
    "# ax.set_ylabel('$f_H$')\n",
    "# ax.legend()\n",
    "# # plt.title()\n",
    "# # plt.xticks(hs)\n",
    "# ax.figure.tight_layout()\n",
    "# ax.figure.savefig(filename, dpi=300, bbox_inches=\"tight\", pad_inches=0)\n"
   ]
  },
  {
   "cell_type": "code",
   "execution_count": null,
   "id": "9014fd80-627a-40ea-acd0-91fc1f7bd359",
   "metadata": {},
   "outputs": [],
   "source": []
  },
  {
   "cell_type": "markdown",
   "id": "d02d0e5c-b4b1-4033-80f4-06e6d28e3d5e",
   "metadata": {
    "tags": [],
    "toc-hr-collapsed": true
   },
   "source": [
    "### Computing quantiles\n",
    "\n",
    "Let's try to find the smallest interval $[0, h_q]$ that contains at least proportion $q$ of the total probability.\n",
    "\n",
    "For example, the $q=0.95$ quantile is located at..."
   ]
  },
  {
   "cell_type": "code",
   "execution_count": 35,
   "id": "9593baf0-9b56-4d27-80ec-7ee33da4a78d",
   "metadata": {},
   "outputs": [
    {
     "data": {
      "text/plain": [
       "28.0"
      ]
     },
     "execution_count": 35,
     "metadata": {},
     "output_type": "execute_result"
    }
   ],
   "source": [
    "# find value of h such that Pr({H <= h}) > 0.95\n",
    "rvH.ppf(0.95)"
   ]
  },
  {
   "cell_type": "code",
   "execution_count": 36,
   "id": "b80383ea-7ed1-4143-96dc-6f619ea350db",
   "metadata": {},
   "outputs": [
    {
     "data": {
      "text/plain": [
       "0.9656664781059899"
      ]
     },
     "execution_count": 36,
     "metadata": {},
     "output_type": "execute_result"
    }
   ],
   "source": [
    "# verify that Pr({H <= 28)}) > 0.95\n",
    "rvH.cdf(28)"
   ]
  },
  {
   "cell_type": "markdown",
   "id": "8518b078-5c1b-4abd-bc14-06babdc4a70f",
   "metadata": {},
   "source": [
    "Note by choosing $h=28$ we're overshooting the target 0.95 a little bit,\n",
    "but this is often the case when working with discrete probability distributions.\n",
    "The previous value at $h=27$ gives `rvH.cdf(27)` $=F_H(27) = 0.9475$,\n",
    "which is less than 0.95, so we pick $h=28$ as the first value that satisfies $F_H(h) \\geq 0.95$."
   ]
  },
  {
   "cell_type": "code",
   "execution_count": null,
   "id": "921123ce-4ddd-4a07-bf9d-ef1454ec9e94",
   "metadata": {},
   "outputs": [],
   "source": []
  },
  {
   "cell_type": "markdown",
   "id": "fa9d8838-24f4-4043-adfb-dbaad57ea3ce",
   "metadata": {},
   "source": [
    "### Generating random observations\n",
    "\n",
    "Let's say you want to generate $n=12$ observations from the random variable $H$.\n",
    "You can do this by calling the method `rvH.rvs(12)`."
   ]
  },
  {
   "cell_type": "code",
   "execution_count": 37,
   "id": "37e4bd7c-9a66-4c31-9929-593ac69c52cf",
   "metadata": {},
   "outputs": [
    {
     "data": {
      "text/plain": [
       "array([21, 17, 14, 10, 22, 22, 17, 17, 19, 21, 17, 18])"
      ]
     },
     "execution_count": 37,
     "metadata": {},
     "output_type": "execute_result"
    }
   ],
   "source": [
    "rvH.rvs(12)"
   ]
  },
  {
   "cell_type": "code",
   "execution_count": null,
   "id": "533e90b5-2b5c-4b2d-8463-7c46db61a6f1",
   "metadata": {},
   "outputs": [],
   "source": []
  },
  {
   "cell_type": "markdown",
   "id": "fc652c59-5c6f-4174-b4f5-e080c2c1d40e",
   "metadata": {},
   "source": [
    "### Computing expectations\n",
    "\n",
    "Let's say we want to estimate of the total cost we should budget for replacement hard disks, given a base price of \\\\$200/disk and a bulk discount of \\\\$150/disk when buying 20 or more disks."
   ]
  },
  {
   "cell_type": "code",
   "execution_count": 38,
   "id": "ae7acb26-3ad7-41e1-a35a-84d9d7e4e938",
   "metadata": {},
   "outputs": [],
   "source": [
    "def cost(h):\n",
    "    if h >= 20:\n",
    "        return 150*h\n",
    "    else:\n",
    "        return 200*h"
   ]
  },
  {
   "cell_type": "code",
   "execution_count": 39,
   "id": "345fc508-95b5-4df0-a100-78463f4497f0",
   "metadata": {},
   "outputs": [
    {
     "data": {
      "text/plain": [
       "3381.4219494471417"
      ]
     },
     "execution_count": 39,
     "metadata": {},
     "output_type": "execute_result"
    }
   ],
   "source": [
    "# expected cost of replacement\n",
    "sum([cost(h)*rvH.pmf(h) for h in range(0,100+1)])"
   ]
  },
  {
   "cell_type": "markdown",
   "id": "ce294109-0c22-4cf6-a7b5-3efbd91823d0",
   "metadata": {},
   "source": [
    "Another option for computing the expected value is to use the method `rvH.expect()`.\n",
    "If you try `rvH.expect(cost)` we get an error \"*ValueError: The truth value of an array with more than one element is ambiguous.*\" This happens because of the way NumPy tries to\n",
    "evaluate the expression—it will pass in the entire vector of inputs `h` to the function,\n",
    "and then the expression `h >= 20` causes a problem when `h` is a vector."
   ]
  },
  {
   "cell_type": "code",
   "execution_count": 40,
   "id": "6b1f49df-8b4f-4e1e-a93b-f6c3e9fd9e37",
   "metadata": {},
   "outputs": [],
   "source": [
    "# doesn't work!\n",
    "# rvH.expect(cost)"
   ]
  },
  {
   "cell_type": "markdown",
   "id": "c5228687-edf1-4a1a-8f24-5ded699ec9cc",
   "metadata": {},
   "source": [
    "The code below shows how to convert the function `cost` to a vector-friendly equivalent function `vcost`, which we can ten use in the `rvH.expect` method."
   ]
  },
  {
   "cell_type": "code",
   "execution_count": 41,
   "id": "52f29daa-e2fd-4e57-9b23-5987dc85b2ab",
   "metadata": {},
   "outputs": [
    {
     "data": {
      "text/plain": [
       "3381.4219494471427"
      ]
     },
     "execution_count": 41,
     "metadata": {},
     "output_type": "execute_result"
    }
   ],
   "source": [
    "vcost = np.vectorize(cost)\n",
    "rvH.expect(vcost)"
   ]
  },
  {
   "cell_type": "code",
   "execution_count": null,
   "id": "08ddf1a0-1c78-4d1c-8386-2a3f78062c43",
   "metadata": {},
   "outputs": [],
   "source": []
  },
  {
   "cell_type": "markdown",
   "id": "c3bfb7dd-6a80-48c3-a042-8c02cd857dbf",
   "metadata": {},
   "source": [
    "#### Cumulative distribution function\n",
    "\n",
    "The cumulative distribution is the sum of the probability mass function up to given value $b$:\n",
    "\n",
    "$$\n",
    "   F_H(b) = \\textrm{Pr}(H \\leq b) = \\sum_{h=0}^{h=b} f_H(h).\n",
    "$$\n"
   ]
  },
  {
   "cell_type": "code",
   "execution_count": 42,
   "id": "34bfa609-f204-4f00-9bc7-e84a3466dae5",
   "metadata": {},
   "outputs": [
    {
     "data": {
      "text/plain": [
       "<AxesSubplot:>"
      ]
     },
     "execution_count": 42,
     "metadata": {},
     "output_type": "execute_result"
    },
    {
     "data": {
      "image/png": "[encoded data removed]",
      "text/plain": [
       "<Figure size 504x288 with 1 Axes>"
      ]
     },
     "metadata": {
      "image/png": {
       "height": 249,
       "width": 425
      }
     },
     "output_type": "display_data"
    }
   ],
   "source": [
    "hs = np.linspace(0, 40, 1000)\n",
    "FHs = rvH.cdf(hs)\n",
    "\n",
    "sns.lineplot(x=hs, y=FHs, label=\"CDF of $H$\")"
   ]
  },
  {
   "cell_type": "code",
   "execution_count": null,
   "id": "ac858cb9-4ec1-483a-b98e-0db9c4deaf97",
   "metadata": {},
   "outputs": [],
   "source": []
  },
  {
   "cell_type": "code",
   "execution_count": null,
   "id": "5d9324d2-8bf8-4b5d-8039-b9df93f8df07",
   "metadata": {},
   "outputs": [],
   "source": []
  },
  {
   "cell_type": "code",
   "execution_count": null,
   "id": "7d4ab56e-e9dc-4b0d-ab4d-689a79cec1c5",
   "metadata": {},
   "outputs": [],
   "source": []
  },
  {
   "cell_type": "code",
   "execution_count": null,
   "id": "8464df39-a2a2-40f7-9710-78e816e87e42",
   "metadata": {},
   "outputs": [],
   "source": []
  },
  {
   "cell_type": "markdown",
   "id": "4fccfe60-ce35-4f38-805e-c42fa30315ef",
   "metadata": {},
   "source": [
    "## Discussion"
   ]
  },
  {
   "cell_type": "markdown",
   "id": "9df6ce10-ea05-4590-97bd-d11bdcff0076",
   "metadata": {},
   "source": [
    "### Bulk of the distribution\n",
    "\n",
    "We want to find an interval `I_95` (a subset of the sample space) that contains 95% of the observations of the random variable $H$. \n",
    "In other words, we want to find the integers `a` and `b` such that \n",
    "$$\n",
    "   \\sum_{h=a}^{h=b} f_H(h) = f_H(a) + f_H(a+1) + \\cdots + f_H(b) \\geq 0.95. \n",
    "$$\n",
    "\n",
    "We can obtain this interval by calling the `interval` method on the `rvH` object."
   ]
  },
  {
   "cell_type": "code",
   "execution_count": 43,
   "id": "c7669274-e9db-4441-a5f8-9c9406b07c16",
   "metadata": {},
   "outputs": [
    {
     "data": {
      "text/plain": [
       "(12.0, 29.0)"
      ]
     },
     "execution_count": 43,
     "metadata": {},
     "output_type": "execute_result"
    }
   ],
   "source": [
    "I_95 = rvH.interval(0.95)\n",
    "I_95"
   ]
  },
  {
   "cell_type": "markdown",
   "id": "5c9724b5-963d-4533-848b-a9d3a52745b6",
   "metadata": {},
   "source": [
    "The interval `I_95 = [a,b]` should contains at least 0.95 of the probability (the bulk of the distribution).\n",
    "Let's verify this by computing the sum of $f_H$ for all the values in that interval: $f_H(a) + f_H(a+1) + \\cdots + f_H(b)$."
   ]
  },
  {
   "cell_type": "code",
   "execution_count": 44,
   "id": "2299cab3-3c1c-4f1a-ad70-9a9c7d1d8b01",
   "metadata": {},
   "outputs": [
    {
     "data": {
      "text/plain": [
       "0.9567949608871587"
      ]
     },
     "execution_count": 44,
     "metadata": {},
     "output_type": "execute_result"
    }
   ],
   "source": [
    "a = int(I_95[0])  # left boundary `a` as an integer\n",
    "b = int(I_95[1])  # right boundary `b` as an integer\n",
    "sum([rvH.pmf(h) for h in range(a,b+1)])"
   ]
  },
  {
   "cell_type": "markdown",
   "id": "45ac5944-1431-4462-8cf6-f90afbd59ec4",
   "metadata": {},
   "source": [
    "Another way to verify that the interval `I_95 = [a,b]` satisfies the contains-95%-of-the-probability condition is to use the `rvH.cdf` method, since\n",
    "$$\n",
    "   \\sum_{h=a}^{h=b} f_H(h) = F_H(b) - F_H(a-1).\n",
    "$$"
   ]
  },
  {
   "cell_type": "code",
   "execution_count": 45,
   "id": "dbe26270-c4e9-4846-8ff6-5965d5d7d63f",
   "metadata": {},
   "outputs": [
    {
     "data": {
      "text/plain": [
       "0.9567949608871623"
      ]
     },
     "execution_count": 45,
     "metadata": {},
     "output_type": "execute_result"
    }
   ],
   "source": [
    "rvH.cdf(b) - rvH.cdf(a-1)"
   ]
  },
  {
   "cell_type": "code",
   "execution_count": null,
   "id": "c9011778-800b-4947-974c-ad04afc3db84",
   "metadata": {},
   "outputs": [],
   "source": []
  },
  {
   "cell_type": "markdown",
   "id": "36281d4c-dfa0-42d9-b1b9-a6895f2bac96",
   "metadata": {},
   "source": [
    "Under the hood, the method `rvH.interval(0.95)` consists of two calls to the method `rvH.ppf()`,\n",
    "which are used to obtain the positions of the left and right boundaries of the interval.\n",
    "The logic is as follows. If the interval `I_95` is to contain 0.95 of the probability,\n",
    "then the weight in the remainder is at most 0.05.\n",
    "We'll split this remainder into left and right \"tails,\"\n",
    "each one accounting for 0.025 of of the weight.\n",
    "\n",
    "- We can obtain the left-boundary of the interval `I_95` from the values $F_X^{-1}(0.025)$,\n",
    "  which reports the interval $[0,a]$ that contains at least 0.025.\n",
    "- To find the right boundary we can use the value of $b = F_X^{-1}(0.975)$"
   ]
  },
  {
   "cell_type": "code",
   "execution_count": 46,
   "id": "e37ee97f-04bf-40ee-9c50-87282a299ea0",
   "metadata": {},
   "outputs": [
    {
     "data": {
      "text/plain": [
       "(12.0, 29.0)"
      ]
     },
     "execution_count": 46,
     "metadata": {},
     "output_type": "execute_result"
    }
   ],
   "source": [
    "# a             b\n",
    "rvH.ppf(0.025), rvH.ppf(0.975)"
   ]
  },
  {
   "cell_type": "code",
   "execution_count": null,
   "id": "2f4c905c-8489-4f3a-ad15-a6f7081f069a",
   "metadata": {},
   "outputs": [],
   "source": []
  },
  {
   "cell_type": "code",
   "execution_count": 47,
   "id": "c80ffb13-93d6-4941-886f-ff2b0fafbe12",
   "metadata": {},
   "outputs": [
    {
     "data": {
      "image/png": "[encoded data removed]",
      "text/plain": [
       "<Figure size 504x288 with 1 Axes>"
      ]
     },
     "metadata": {
      "image/png": {
       "height": 281,
       "width": 495
      }
     },
     "output_type": "display_data"
    }
   ],
   "source": [
    "filename = \"figures/pmf_plot_poisson_mu20_bulk.pdf\"\n",
    "\n",
    "hs = np.arange(0, 40)\n",
    "fHs = rvH.pmf(hs)\n",
    "\n",
    "# mask all non-bulk\n",
    "fHs[0:a] = np.nan\n",
    "fHs[b+1:] = np.nan\n",
    "\n",
    "fig, ax = plt.subplots()\n",
    "ax.stem(fHs, label=\"Bulk of the pmf $f_H$\", basefmt=\" \")\n",
    "ax.set_xlabel('h')\n",
    "ax.set_ylabel('$f_H$')\n",
    "ax.set_ylim([0, 0.1])\n",
    "ax.legend()\n",
    "# plt.title()\n",
    "plt.xticks(hs)\n",
    "ax.figure.tight_layout()\n",
    "ax.figure.savefig(filename, dpi=300, bbox_inches=\"tight\", pad_inches=0)"
   ]
  },
  {
   "cell_type": "markdown",
   "id": "2a8b1a26-f87e-4f0b-8859-9b393f04278d",
   "metadata": {},
   "source": [
    "### Tails of the distribution\n",
    "\n",
    "Conversely,\n",
    "the \"tails\" of the distribution contain the unlikely outcomes for the random variable.\n",
    "The complement of the interval `I_95 = [a,b]` contains at most 5% of the probability."
   ]
  },
  {
   "cell_type": "markdown",
   "id": "633e66c8-487a-45aa-b399-9fda7e0666f5",
   "metadata": {},
   "source": [
    "#### Left tail\n",
    "\n",
    "The left tail is the interval `[0,a-1]` which contains less than 2.5% of the probability."
   ]
  },
  {
   "cell_type": "code",
   "execution_count": 48,
   "id": "7f75cf16-6dca-485e-a32b-2e3e28f33b9b",
   "metadata": {},
   "outputs": [
    {
     "data": {
      "text/plain": [
       "0.021386821587280218"
      ]
     },
     "execution_count": 48,
     "metadata": {},
     "output_type": "execute_result"
    }
   ],
   "source": [
    "sum([rvH.pmf(h) for h in range(0,(a-1)+1)])"
   ]
  },
  {
   "cell_type": "code",
   "execution_count": null,
   "id": "d2d20763-281f-4dbc-b9b1-74ba9b5cea22",
   "metadata": {},
   "outputs": [],
   "source": []
  },
  {
   "cell_type": "markdown",
   "id": "64a1fb7a-1dcb-46f0-b253-501690a32068",
   "metadata": {},
   "source": [
    "#### Right tail\n",
    "\n",
    "The right tail is the interval `[b+1,np.inf]` which also contains less than 2.5% of the probability."
   ]
  },
  {
   "cell_type": "code",
   "execution_count": 49,
   "id": "41073a63-6ecd-4738-96eb-81bebe3f149b",
   "metadata": {},
   "outputs": [
    {
     "data": {
      "text/plain": [
       "0.0218182175255574"
      ]
     },
     "execution_count": 49,
     "metadata": {},
     "output_type": "execute_result"
    }
   ],
   "source": [
    "sum([rvH.pmf(h) for h in range(b+1,1000)])"
   ]
  },
  {
   "cell_type": "markdown",
   "id": "9012135b-eac4-4d62-9fc6-926b96830957",
   "metadata": {},
   "source": [
    "We can verify the combined weight of the two tails is less than 5%."
   ]
  },
  {
   "cell_type": "code",
   "execution_count": 50,
   "id": "a59d533f-5247-4322-b3df-2d790e118418",
   "metadata": {},
   "outputs": [
    {
     "data": {
      "text/plain": [
       "0.043205039112837615"
      ]
     },
     "execution_count": 50,
     "metadata": {},
     "output_type": "execute_result"
    }
   ],
   "source": [
    "sum([rvH.pmf(h) for h in range(0,(a-1)+1)]) \\\n",
    "  + sum([rvH.pmf(h) for h in range(b+1,1000)])"
   ]
  },
  {
   "cell_type": "code",
   "execution_count": null,
   "id": "4f6c8311-778b-4dc1-b1df-42c3b18809b0",
   "metadata": {},
   "outputs": [],
   "source": []
  },
  {
   "cell_type": "code",
   "execution_count": 51,
   "id": "96e18db8-895a-4425-8019-fe57279b8ff9",
   "metadata": {},
   "outputs": [
    {
     "data": {
      "image/png": "[encoded data removed]",
      "text/plain": [
       "<Figure size 504x288 with 1 Axes>"
      ]
     },
     "metadata": {
      "image/png": {
       "height": 281,
       "width": 495
      }
     },
     "output_type": "display_data"
    }
   ],
   "source": [
    "filename = \"figures/pmf_plot_poisson_mu20_tails.pdf\"\n",
    "\n",
    "hs = np.arange(0, 40)\n",
    "fHs = rvH.pmf(hs)\n",
    "\n",
    "# mask all non-bulk\n",
    "fHs[a:b+1] = np.nan\n",
    "\n",
    "fig, ax = plt.subplots()\n",
    "ax.stem(fHs, label=\"Tails of the pmf $f_H$\", markerfmt='ro', linefmt='r-', basefmt=\" \")\n",
    "ax.set_xlabel('h')\n",
    "ax.set_ylabel('$f_H$')\n",
    "ax.set_ylim([0, 0.1])\n",
    "ax.legend()\n",
    "# plt.title()\n",
    "plt.xticks(hs)\n",
    "ax.figure.tight_layout()\n",
    "ax.figure.savefig(filename, dpi=300, bbox_inches=\"tight\", pad_inches=0)"
   ]
  },
  {
   "cell_type": "code",
   "execution_count": null,
   "id": "1e9c680b-96fc-4c90-982f-15a1c4b12d53",
   "metadata": {},
   "outputs": [],
   "source": []
  },
  {
   "cell_type": "code",
   "execution_count": null,
   "id": "101fdda7-be4b-47a3-94ad-64fb8a60eb4b",
   "metadata": {},
   "outputs": [],
   "source": []
  },
  {
   "cell_type": "markdown",
   "id": "68a38b9b-5311-4384-aea9-3f603130e43e",
   "metadata": {},
   "source": [
    "# Figures only"
   ]
  },
  {
   "cell_type": "code",
   "execution_count": 52,
   "id": "08096f97-3ed5-47c3-8a60-56ddcf009f74",
   "metadata": {},
   "outputs": [],
   "source": [
    "from plot_helpers import plot_pmf"
   ]
  },
  {
   "cell_type": "code",
   "execution_count": 53,
   "id": "a1c6d6e6-5bb7-4396-adbc-a6e70243ed13",
   "metadata": {},
   "outputs": [
    {
     "data": {
      "text/plain": [
       "<AxesSubplot:xlabel='x', ylabel='$f_X$'>"
      ]
     },
     "execution_count": 53,
     "metadata": {},
     "output_type": "execute_result"
    },
    {
     "data": {
      "image/png": "[encoded data removed]",
      "text/plain": [
       "<Figure size 504x288 with 1 Axes>"
      ]
     },
     "metadata": {
      "image/png": {
       "height": 268,
       "width": 449
      }
     },
     "output_type": "display_data"
    }
   ],
   "source": [
    "plot_pmf(rvH, xlims=[0,40])"
   ]
  },
  {
   "cell_type": "code",
   "execution_count": 54,
   "id": "1eb421ce-0a42-4776-85a8-f4a428e2c158",
   "metadata": {},
   "outputs": [
    {
     "data": {
      "text/plain": [
       "(4, 5)"
      ]
     },
     "execution_count": 54,
     "metadata": {},
     "output_type": "execute_result"
    }
   ],
   "source": [
    "from scipy.stats.distributions import randint\n",
    "\n",
    "X = randint(4,6)\n",
    "X.support()"
   ]
  },
  {
   "cell_type": "code",
   "execution_count": null,
   "id": "416a5a1d-aa2e-4c3a-9517-e2d45f224b53",
   "metadata": {},
   "outputs": [],
   "source": []
  }
 ],
 "metadata": {
  "kernelspec": {
   "display_name": "Python 3 (ipykernel)",
   "language": "python",
   "name": "python3"
  },
  "language_info": {
   "codemirror_mode": {
    "name": "ipython",
    "version": 3
   },
   "file_extension": ".py",
   "mimetype": "text/x-python",
   "name": "python",
   "nbconvert_exporter": "python",
   "pygments_lexer": "ipython3",
   "version": "3.9.4"
  },
  "toc-autonumbering": false
 },
 "nbformat": 4,
 "nbformat_minor": 5
}
