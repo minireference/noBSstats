{
 "cells": [
  {
   "cell_type": "markdown",
   "id": "04670040-af7f-45dd-8d4f-7e078a8ff19c",
   "metadata": {
    "tags": []
   },
   "source": [
    "# Section 2.1 — Discrete random variables\n",
    "\n",
    "This notebook contains all the code examples from [Section 2.1 Discrete random variables](https://minireference.com/static/excerpts/noBSstats/noBSstats_ch02_PROB.pdf#page=10) of the **No Bullshit Guide to Statistics**.\n",
    "\n",
    "Topics covered in this notebook:\n",
    "\n",
    "- Definitions of discrete random variables\n",
    "- Examples of random variables\n",
    "- Cumulative probability distribution\n",
    "- Expectation calculations\n",
    "- Computer models for random variables \n",
    "  - Overview of `scipy.stats` methods\n",
    "- Real-world scenario involving probability calculations\n",
    "- Discussion topics:\n",
    "  - Bulk and tails of a distribution\n",
    "  - Illustration of the *frequentist* interpretation of probability\n"
   ]
  },
  {
   "cell_type": "markdown",
   "id": "3513c936-3866-47fd-b91d-c77ce2f9d143",
   "metadata": {
    "tags": []
   },
   "source": [
    "#### Notebook setup\n",
    "\n",
    "We'll start by importing the Python modules we need for this notebook."
   ]
  },
  {
   "cell_type": "code",
   "execution_count": 1,
   "id": "e9c19d1b-a7d6-4463-9bfe-b181f228bbf3",
   "metadata": {},
   "outputs": [],
   "source": [
    "import numpy as np               # numerical calculations\n",
    "import matplotlib.pyplot as plt  # generic plotting functions\n",
    "import seaborn as sns            # plotting distributions"
   ]
  },
  {
   "cell_type": "code",
   "execution_count": 2,
   "id": "71e57c73-4c33-485f-a3ea-e09ae908063c",
   "metadata": {},
   "outputs": [],
   "source": [
    "# Figures setup\n",
    "sns.set_theme(\n",
    "    context=\"paper\",\n",
    "    style=\"whitegrid\",\n",
    "    palette=\"colorblind\",\n",
    "    rc={'figure.figsize': (7,4)},\n",
    ")\n",
    "\n",
    "%config InlineBackend.figure_format = 'retina'"
   ]
  },
  {
   "cell_type": "code",
   "execution_count": 3,
   "id": "b6c150ec-72fc-449c-9d77-ddf01dcde9b7",
   "metadata": {},
   "outputs": [],
   "source": [
    "# simple float __repr__\n",
    "np.set_printoptions(legacy='1.25')\n",
    "\n",
    "# set random seed for repeatability\n",
    "np.random.seed(3)"
   ]
  },
  {
   "cell_type": "markdown",
   "id": "cc325982-4362-4cee-abc3-648a07806400",
   "metadata": {},
   "source": [
    "## Definitions"
   ]
  },
  {
   "cell_type": "markdown",
   "id": "1320abb3-7570-46d9-b0f8-42c5dd50992f",
   "metadata": {
    "tags": []
   },
   "source": [
    "\n",
    "### Random variables\n",
    "\n",
    "- *random variable* $X$:\n",
    "  a quantity that can take on different values\n",
    "- *outcome*: a particular value $\\{X = x\\}$ or range of values $\\{a \\leq X \\leq b\\}$ that can occur as a result of observing the random variable $X$\n",
    "- *sample space* $\\mathcal{X}$: describes the set of all possible outcomes of the random variable.\n",
    "- $f_X$: the *probability mass function*\n",
    "  is a function that assigns probabilities to the different outcomes\n",
    "  in the sample space of a discrete random variable.\n",
    "  The probability mass function of the random variable $X$\n",
    "  is a function of the form $f_X: \\mathcal{X} \\to [0,1]$.\n"
   ]
  },
  {
   "cell_type": "markdown",
   "id": "1c90fcad-902e-45a2-a296-3bf9c2777ae4",
   "metadata": {},
   "source": [
    "#### Example 1: coin toss\n",
    "\n",
    "Consider the random variable $C$ that describes the outcome of a coin toss for a balanced (fair) coin.\n",
    "The sample space for the random variable $C$ is $\\{\\texttt{heads}, \\texttt{tails}\\}$.\n",
    "\n",
    "The probability mass function is\n",
    "\n",
    "$$\n",
    "    f_C(\\texttt{heads}) = 0.5\n",
    "    \\quad\n",
    "    \\textrm{and}\n",
    "    \\quad\n",
    "    f_C(\\texttt{tails}) = 0.5.\n",
    "$$"
   ]
  },
  {
   "cell_type": "markdown",
   "id": "87528677-5e60-4755-8c4b-baa2634ef44e",
   "metadata": {},
   "source": [
    "The following code defines the Python function `fC` that corresponds to the \n",
    "probability mass function $f_C$ for the random variable $C$."
   ]
  },
  {
   "cell_type": "code",
   "execution_count": 4,
   "id": "17575afb-8f60-4b7c-990e-daaa134fde67",
   "metadata": {},
   "outputs": [],
   "source": [
    "def fC(c):\n",
    "    if c in [\"heads\", \"tails\"]:\n",
    "        return 1/2\n",
    "    else:\n",
    "        return 0"
   ]
  },
  {
   "cell_type": "code",
   "execution_count": 5,
   "id": "dfa04700-33de-481d-8ea7-61721042f76d",
   "metadata": {},
   "outputs": [
    {
     "data": {
      "text/plain": [
       "0.5"
      ]
     },
     "execution_count": 5,
     "metadata": {},
     "output_type": "execute_result"
    }
   ],
   "source": [
    "fC(\"heads\")"
   ]
  },
  {
   "cell_type": "code",
   "execution_count": 6,
   "id": "8d427bab-76d9-4a97-8cb7-be70f7fe06f5",
   "metadata": {},
   "outputs": [
    {
     "data": {
      "text/plain": [
       "0.5"
      ]
     },
     "execution_count": 6,
     "metadata": {},
     "output_type": "execute_result"
    }
   ],
   "source": [
    "fC(\"tails\")"
   ]
  },
  {
   "cell_type": "markdown",
   "id": "616162c3-74da-433f-a989-6fd1949a1f4c",
   "metadata": {},
   "source": [
    "Let's print the values of the probability mass function\n",
    "for the two values in the sample space: `heads` and `tails`."
   ]
  },
  {
   "cell_type": "code",
   "execution_count": 7,
   "id": "2b692b8f-1280-454a-bad1-b40c411c3b8c",
   "metadata": {},
   "outputs": [
    {
     "name": "stdout",
     "output_type": "stream",
     "text": [
      "The probability of getting heads is 0.5\n",
      "The probability of getting tails is 0.5\n"
     ]
    }
   ],
   "source": [
    "for c in [\"heads\", \"tails\"]:\n",
    "    print(\"The probability of getting\", c, \"is\", fC(c))"
   ]
  },
  {
   "cell_type": "markdown",
   "id": "ae2794a3-a505-4377-80f8-2d09f153c0fe",
   "metadata": {},
   "source": [
    "#### Example 2: rolling a six-sided die\n",
    "\n",
    "The random outcome that occurs when we roll a six-sided die can be described as a random variable $D$\n",
    "which has the sample space $\\{1, 2, 3, 4, 5, 6\\}$.\n",
    "If we assume the die is fair,\n",
    "then each of the outcomes will have equal weight,\n",
    "so the probability mass function $f_D$ has the following values:\n",
    "\n",
    "$$\n",
    "    f_D(1)\\!=\\!\\tfrac{1}{6},\n",
    "    \\ \n",
    "    f_D(2)\\!=\\!\\tfrac{1}{6},\n",
    "    \\ \n",
    "    f_D(3)\\!=\\!\\tfrac{1}{6},\n",
    "    \\ \n",
    "    f_D(4)\\!=\\!\\tfrac{1}{6},\n",
    "    \\ \n",
    "    f_D(5)\\!=\\!\\tfrac{1}{6},\n",
    "    \\ \n",
    "    f_D(6)\\!=\\!\\tfrac{1}{6}.\n",
    "$$"
   ]
  },
  {
   "cell_type": "markdown",
   "id": "43571d8c-9556-46f6-9a1c-80ab66f44645",
   "metadata": {},
   "source": [
    "Let's define the probability mass function $f_D$ for the random variable $D$ as a Python function ..."
   ]
  },
  {
   "cell_type": "code",
   "execution_count": 8,
   "id": "c4621f3a-91f1-4459-9ff6-1c5b36a87826",
   "metadata": {},
   "outputs": [],
   "source": [
    "def fD(d):\n",
    "    if d in [1,2,3,4,5,6]:\n",
    "        return 1/6\n",
    "    else:\n",
    "        return 0"
   ]
  },
  {
   "cell_type": "markdown",
   "id": "27974226-0f93-43ab-95fa-7fa0610c2756",
   "metadata": {},
   "source": [
    "... and print the values of `fD` for all individual outcomes in the sample space $\\{1,2,3,4,5,6\\}$:"
   ]
  },
  {
   "cell_type": "code",
   "execution_count": 9,
   "id": "4d3a0349-a964-4200-91de-025407ff3b2a",
   "metadata": {},
   "outputs": [
    {
     "name": "stdout",
     "output_type": "stream",
     "text": [
      "The probability of rolling a 1 is 0.16666666666666666\n",
      "The probability of rolling a 2 is 0.16666666666666666\n",
      "The probability of rolling a 3 is 0.16666666666666666\n",
      "The probability of rolling a 4 is 0.16666666666666666\n",
      "The probability of rolling a 5 is 0.16666666666666666\n",
      "The probability of rolling a 6 is 0.16666666666666666\n"
     ]
    }
   ],
   "source": [
    "for d in range(1,6+1):\n",
    "    print(\"The probability of rolling a\", d, \"is\", fD(d))"
   ]
  },
  {
   "cell_type": "markdown",
   "id": "592c34fa-98eb-4c72-8929-98a3474d9f6d",
   "metadata": {},
   "source": [
    "Note the Python function `range(a,b)` is equivalent to the list of values `[a,a+1,a+2,...,b-1]`,\n",
    "which does not include the upper limit `b`.\n",
    "If we want to have a range of values that includes `b` we use\n",
    "`range(a,b+1)` which produces `[a,a+1,a+2,...,b-1,b]`.\n",
    "You'll see this `+1` added in code examples\n",
    "whenever we use the Python function `range` to iterate over a list of values."
   ]
  },
  {
   "cell_type": "markdown",
   "id": "0fa47df0-203d-4ea0-8b83-4d9f8a245db0",
   "metadata": {},
   "source": [
    "#### Example 3: hard disk failures\n",
    "\n",
    "We can model the number of hard disk failures expected to occur in a given data centre as a random variable $H$ distributed according to the Poisson model.\n",
    "The probability mass function of the Poisson distribution is described by the following equation:\n",
    "\n",
    "$$\n",
    "    f_H(h) = \\frac{\\lambda^{h}e^{-\\lambda }}{h!}, \\ \\ \\textrm{for }  h \\in \\{0, 1, 2, 3, \\ldots \\},\n",
    "$$\n",
    "\n",
    "where $\\lambda$ is a parameter of the distribution.\n",
    "\n",
    "In this example, we know parameter is $\\lambda = 20$,\n",
    "which we'll denote as `lam = 20` in Python.\n",
    "\n",
    "The probability mass function for the random variable $H \\sim \\textrm{Pois}(\\lambda=20)$ is computed using the following Python function `fH`."
   ]
  },
  {
   "cell_type": "code",
   "execution_count": 10,
   "id": "743fd1de-db63-4ff9-9e53-c091f2eb8abd",
   "metadata": {},
   "outputs": [],
   "source": [
    "import numpy as np\n",
    "import math\n",
    "\n",
    "def fH(h):\n",
    "    lam = 20\n",
    "    return lam**h * np.exp(-lam) / math.factorial(h)"
   ]
  },
  {
   "cell_type": "markdown",
   "id": "7fc92b45-0b3e-4b8a-9922-b3713a164c1e",
   "metadata": {},
   "source": [
    "The code above uses the function `np.exp` from the NumPy module to do the $e^x$ calculation,\n",
    "and `math.factorial` for the $n!$ calculation."
   ]
  },
  {
   "cell_type": "markdown",
   "id": "f4676465-e113-4800-95d5-dccb6d9cc514",
   "metadata": {},
   "source": [
    "We can use the function `fH` to compute the probability of simple outcomes like $\\{H=23\\}$,\n",
    "the probability of getting exactly 23 hard disc failures in a month."
   ]
  },
  {
   "cell_type": "code",
   "execution_count": 11,
   "id": "069a1661-76dd-46ef-a460-80adf44640b5",
   "metadata": {},
   "outputs": [
    {
     "data": {
      "text/plain": [
       "0.06688147366240181"
      ]
     },
     "execution_count": 11,
     "metadata": {},
     "output_type": "execute_result"
    }
   ],
   "source": [
    "fH(23)"
   ]
  },
  {
   "cell_type": "markdown",
   "id": "8602d4f1-7bf8-4426-8306-7f79bafa3daf",
   "metadata": {},
   "source": [
    "The probability of an event is the sum of the probabilities of the individual outcomes.\n",
    "To compute the probability of the event $\\{18 \\leq H \\leq 22\\}$,\n",
    "we must find the probability of getting either 18, 19, 20, 21, and 22 hard disk failures,\n",
    "and sum together the probabilities of the individual outcomes,\n",
    "to find the the probability of the event."
   ]
  },
  {
   "cell_type": "code",
   "execution_count": 12,
   "id": "54609f1d-dbe0-4dea-8d74-a1a0a3235088",
   "metadata": {},
   "outputs": [
    {
     "data": {
      "text/plain": [
       "0.42358294520135187"
      ]
     },
     "execution_count": 12,
     "metadata": {},
     "output_type": "execute_result"
    }
   ],
   "source": [
    "probs = []\n",
    "for h in range(18,22+1):\n",
    "    prob = fH(h)\n",
    "    probs.append(prob)\n",
    "\n",
    "sum(probs)"
   ]
  },
  {
   "cell_type": "markdown",
   "id": "c59bcabb-1cc2-4738-9b40-e53b60ac9f6e",
   "metadata": {},
   "source": [
    "We can write the above steps more succinctly\n",
    "and find the event in a single line of code\n",
    "using python's list-comprehension syntax:"
   ]
  },
  {
   "cell_type": "code",
   "execution_count": 13,
   "id": "8ec30bc7-8a83-4be7-918f-01a8fda33cc1",
   "metadata": {},
   "outputs": [
    {
     "data": {
      "text/plain": [
       "0.42358294520135187"
      ]
     },
     "execution_count": 13,
     "metadata": {},
     "output_type": "execute_result"
    }
   ],
   "source": [
    "sum([fH(h) for h in range(18,22+1)])"
   ]
  },
  {
   "cell_type": "markdown",
   "id": "36adbb4c-68f6-469d-a188-1c0b74ec0a1e",
   "metadata": {},
   "source": [
    "The code below verifies that the Python function `fH` satisfies Kolmogorov's second axiom,\n",
    "which demands that the total probability must be one:\n",
    "$\\sum_{h=0}^{h=\\infty} f_H(h) = 1$."
   ]
  },
  {
   "cell_type": "code",
   "execution_count": 14,
   "id": "f27493d0-fc3a-4618-852a-0285e9558224",
   "metadata": {},
   "outputs": [
    {
     "data": {
      "text/plain": [
       "1.0"
      ]
     },
     "execution_count": 14,
     "metadata": {},
     "output_type": "execute_result"
    }
   ],
   "source": [
    "sum([fH(h) for h in range(0,100+1)])"
   ]
  },
  {
   "cell_type": "markdown",
   "id": "117f0d67-0a49-4b5a-bbb0-796f850b66a5",
   "metadata": {},
   "source": [
    "Note we calculated the summation only until $h=100$ and not until $h=\\infty$.\n",
    "In general,\n",
    "it's it's not possible to do summation until infinity on computers.\n",
    "Stopping the summation at $h=100$ is okay in this case,\n",
    "because the probability values $f_H(101)$, $f_H(102)$, etc. are very small numbers,\n",
    "`fH(101) = 5.544e-38` which is a negligible number,\n",
    "when added to the answer `1.0`."
   ]
  },
  {
   "cell_type": "code",
   "execution_count": 15,
   "id": "bddd4cb1-ebb6-4940-a697-2ed8d5e85aa0",
   "metadata": {},
   "outputs": [
    {
     "data": {
      "text/plain": [
       "1.0"
      ]
     },
     "execution_count": 15,
     "metadata": {},
     "output_type": "execute_result"
    }
   ],
   "source": [
    "1.0 + fH(101)"
   ]
  },
  {
   "cell_type": "markdown",
   "id": "7501fdd6-274f-4d17-ba9b-511129346166",
   "metadata": {},
   "source": [
    "**Plotting the probability mass function**\n",
    "\n",
    "We use the `stem` plot from the Matplotlib library to plot the probability mass functions of discrete random variables.\n",
    "To create a stem-plot of the probability mass function $f_H$,\n",
    "we follow a three-step procedure:\n",
    "\n",
    "1. Create a range of inputs `hs` for the plot.\n",
    "2. Compute the value of $f_H$ for each of the inputs and store as list of values `fHs`.\n",
    "3. Plot the values `fHs` by calling the function `plt.stem`.\n",
    "\n",
    "We'll use this three-step procedure whenever we want to generate plots in Python.\n",
    "For more details about this,\n",
    "check out the section \"Plotting function graphs\" in the [Python tutorial notebook](../tutorials/python_tutorial.ipynb),\n",
    "which whos other examples."
   ]
  },
  {
   "cell_type": "code",
   "execution_count": 16,
   "id": "cae19c5b-1516-4f88-9162-89d50dc318fe",
   "metadata": {},
   "outputs": [
    {
     "data": {
      "image/png": "[encoded data removed]",
      "text/plain": [
       "<Figure size 700x400 with 1 Axes>"
      ]
     },
     "metadata": {
      "image/png": {
       "height": 351,
       "width": 597
      }
     },
     "output_type": "display_data"
    }
   ],
   "source": [
    "# 1. create a list of input values = the range of outcomes we want to show in the plot\n",
    "hs = range(0, 40+1)\n",
    "\n",
    "# 2. compute fH(h) for each h in the list inputs = the probabilities for each outcome\n",
    "fHs = [fH(h) for h in hs]\n",
    "\n",
    "# 3. create the stem plot\n",
    "plt.stem(hs, fHs);"
   ]
  },
  {
   "cell_type": "markdown",
   "id": "ce203936-add8-447b-9fd5-0ce5917bfaad",
   "metadata": {},
   "source": [
    "Note the graph of the probability mass function corresponds to a discrete set of points,\n",
    "and is not defined for values in between the integers.\n",
    "This makes sense,\n",
    "since we can't have 20.3 hard disk failures—only integers are allowed."
   ]
  },
  {
   "cell_type": "markdown",
   "id": "de7fee62-de1f-478a-bcf6-bf226dc2dd6a",
   "metadata": {
    "tags": []
   },
   "source": [
    "## Cumulative distribution function and its inverse\n",
    "\n",
    "We'll now discuss two other functions associated with a random variable $X$,\n",
    "which are obtained from its probability mass function $f_X$."
   ]
  },
  {
   "cell_type": "markdown",
   "id": "43e85b67-369b-436b-a364-1d0f4021f27e",
   "metadata": {
    "tags": []
   },
   "source": [
    "### Cumulative distribution function\n",
    "\n",
    "The *cumulative distribution function* $F_X$ of the random variable $X$\n",
    "describes the probability of outcomes that are smaller than or equal to some value $b$:\n",
    "\n",
    "$$\n",
    "   F_X(b) = \\textrm{Pr}(\\{X \\leq b\\}).\n",
    "$$\n",
    "\n",
    "The cumulative distribution function is often abbreviated as CDF."
   ]
  },
  {
   "cell_type": "markdown",
   "id": "03963298-7bcb-41b8-b4c9-6ab0611657ad",
   "metadata": {},
   "source": [
    "For example,\n",
    "the cumulative distribution function of the random variable $H$ is given by:\n",
    "\n",
    "$$\n",
    "   F_H(b) = \\textrm{Pr}(\\{H \\leq b\\}) = \\sum_{h=0}^{h=b} f_H(h).\n",
    "$$\n",
    "\n",
    "The code below compute the CDF using a summation."
   ]
  },
  {
   "cell_type": "code",
   "execution_count": 17,
   "id": "317c2bcd-ce3a-4263-a7b8-66974f507bd1",
   "metadata": {},
   "outputs": [],
   "source": [
    "def FH(b):\n",
    "    intb = int(b)\n",
    "    return sum([fH(h) for h in range(0,intb+1)])"
   ]
  },
  {
   "cell_type": "markdown",
   "id": "2e9ce8c7-ee53-4dc4-8fe6-ff064563d3b8",
   "metadata": {},
   "source": [
    "Evaluating the function $F_H(21) =$ `FH(21)` ..."
   ]
  },
  {
   "cell_type": "code",
   "execution_count": 18,
   "id": "ca5ea774-5964-4281-98c8-3e9dc8a23e26",
   "metadata": {},
   "outputs": [
    {
     "data": {
      "text/plain": [
       "0.6436976484142636"
      ]
     },
     "execution_count": 18,
     "metadata": {},
     "output_type": "execute_result"
    }
   ],
   "source": [
    "FH(21)"
   ]
  },
  {
   "cell_type": "markdown",
   "id": "a65c0a25-6c22-4b6f-b952-74594c889915",
   "metadata": {},
   "source": [
    "... is equivalent to computing the summation $\\sum_{h=0}^{h=21} f_H(h)$."
   ]
  },
  {
   "cell_type": "code",
   "execution_count": 19,
   "id": "41240bf2-d2d3-436f-a6d1-5ada5afdcb64",
   "metadata": {},
   "outputs": [
    {
     "data": {
      "text/plain": [
       "0.6436976484142636"
      ]
     },
     "execution_count": 19,
     "metadata": {},
     "output_type": "execute_result"
    }
   ],
   "source": [
    "sum([fH(h) for h in range(0,21+1)])"
   ]
  },
  {
   "cell_type": "markdown",
   "id": "73656090-c975-41b6-897c-9d591f446a1c",
   "metadata": {},
   "source": [
    "The cumulative distribution function is defined for non-integer values,\n",
    "with it's value staying constant for all fractional values all the way until the next integers value:\n",
    "\n",
    "$$\n",
    "  F_H(21) = F_H(21.1) = F_H(21.9) = F_H(21.9999).\n",
    "$$"
   ]
  },
  {
   "cell_type": "code",
   "execution_count": 20,
   "id": "2bfe47a0-aaca-4b06-91a5-68a1d3f91940",
   "metadata": {},
   "outputs": [
    {
     "data": {
      "text/plain": [
       "(0.6436976484142636,\n",
       " 0.6436976484142636,\n",
       " 0.6436976484142636,\n",
       " 0.6436976484142636)"
      ]
     },
     "execution_count": 20,
     "metadata": {},
     "output_type": "execute_result"
    }
   ],
   "source": [
    "FH(21), FH(21.1), FH(21.9), FH(21.9999)"
   ]
  },
  {
   "cell_type": "markdown",
   "id": "68d8e792-4751-42a9-8a0c-53c309d3e4a5",
   "metadata": {},
   "source": [
    "#### Plotting the cumulative distribution function\n",
    "\n",
    "We can use the Seaborn function `lineplot` to plot the graph of the function $F_H$.\n",
    "Recall the three-step procedure we use when plotting functions in Python:\n",
    "\n",
    "1. Create a range of inputs `hs` for the plot.  \n",
    "   For this plot, we'll use a continuous range of inputs obtained from the NumPy `linspace` function.\n",
    "2. Compute the value of $F_H =$ `FH` for each of the inputs and store the results as list of values `FHs`.\n",
    "3. Plot the values `FHs` by calling the `sns.lineplot`."
   ]
  },
  {
   "cell_type": "code",
   "execution_count": 21,
   "id": "c6b476b3-ae39-4326-a342-929c62710e4a",
   "metadata": {},
   "outputs": [
    {
     "data": {
      "image/png": "[encoded data removed]",
      "text/plain": [
       "<Figure size 700x400 with 1 Axes>"
      ]
     },
     "metadata": {
      "image/png": {
       "height": 351,
       "width": 591
      }
     },
     "output_type": "display_data"
    }
   ],
   "source": [
    "hs = np.linspace(0, 40, 1000)\n",
    "FHs = [FH(h) for h in hs]\n",
    "sns.lineplot(x=hs, y=FHs, label=\"CDF of $H$\");"
   ]
  },
  {
   "cell_type": "markdown",
   "id": "7edd1a36-ae30-48ed-b049-af47d62088f8",
   "metadata": {},
   "source": [
    "### Inverse of the cumulative distribution function\n",
    "\n",
    "The *inverse cumulative distribution function* (inverse-CDF) $F^{-1}_X$\n",
    "tells us the positions of the quantiles of the random variable $X$.\n",
    "The value $F_X^{-1}(q)=x_q$ tells how far you need to go in the sample space\n",
    "so that the outcome $\\{ X \\leq x_q \\}$ contains at least proportion $q$\n",
    "of the total probability: $F_X(x_q) \\geq q$.\n",
    "\n",
    "The code below shows how to calculate the inverse of the cumulative distribution function $F_H^{-1}(q)$ for the random variable $H$, by searching for the first value $b$ that satisfies the requirement $F_H(b) \\geq q$."
   ]
  },
  {
   "cell_type": "code",
   "execution_count": 22,
   "id": "0be9b59d-3249-446f-aa4d-b32cddbadab3",
   "metadata": {},
   "outputs": [],
   "source": [
    "def invFH(q):\n",
    "    for b in range(0, 200):\n",
    "        if FH(b) >= q:\n",
    "            return b"
   ]
  },
  {
   "cell_type": "markdown",
   "id": "ffab6656-85f0-4fc2-83b1-684c7d76ca2e",
   "metadata": {},
   "source": [
    "For example, let's compute $F^{-1}_X(0.5)$ (the median of $H$):"
   ]
  },
  {
   "cell_type": "code",
   "execution_count": 23,
   "id": "a1df92ca-b9be-4bb1-a8b4-731540aeb8de",
   "metadata": {},
   "outputs": [
    {
     "data": {
      "text/plain": [
       "20"
      ]
     },
     "execution_count": 23,
     "metadata": {},
     "output_type": "execute_result"
    }
   ],
   "source": [
    "invFH(0.5)"
   ]
  },
  {
   "cell_type": "markdown",
   "id": "df9e4296-f3ac-4feb-8a77-dea882b3ecbb",
   "metadata": {},
   "source": [
    "We can check this answer by computing the value of the cumulative distribution function $F_H(20)$,\n",
    "and verifying that it is indeed greater than $0.5$."
   ]
  },
  {
   "cell_type": "code",
   "execution_count": 24,
   "id": "8a6ee752-6ea8-4520-8b93-cc7feae19df4",
   "metadata": {},
   "outputs": [
    {
     "data": {
      "text/plain": [
       "0.5590925842313252"
      ]
     },
     "execution_count": 24,
     "metadata": {},
     "output_type": "execute_result"
    }
   ],
   "source": [
    "FH(20)"
   ]
  },
  {
   "cell_type": "markdown",
   "id": "2ada3ccc-9a80-4afa-8faf-11e7794b2eba",
   "metadata": {},
   "source": [
    "#### Plotting the inverse-CDF\n"
   ]
  },
  {
   "cell_type": "code",
   "execution_count": 25,
   "id": "08adba5f-1fb9-4c54-9d02-3be95dbab1d3",
   "metadata": {},
   "outputs": [
    {
     "data": {
      "image/png": "[encoded data removed]",
      "text/plain": [
       "<Figure size 700x400 with 1 Axes>"
      ]
     },
     "metadata": {
      "image/png": {
       "height": 351,
       "width": 587
      }
     },
     "output_type": "display_data"
    }
   ],
   "source": [
    "qs = np.linspace(0, 0.9999, 1000)\n",
    "invFHs = [invFH(q) for q in qs]\n",
    "sns.lineplot(x=qs, y=invFHs, label=\"Plot of the inverse-CDF of $H$\");"
   ]
  },
  {
   "cell_type": "markdown",
   "id": "df0c4e21-a676-4312-9e18-6c130dec3f84",
   "metadata": {},
   "source": [
    "Note the graph of the inverse-CDF $F_H^{-1}$ corresponds to a flipped version of the graph of the CDF $F_H$.\n",
    "Indeed, $F_H$ and $F_H^{-1}$ contain the same information."
   ]
  },
  {
   "cell_type": "markdown",
   "id": "9172cda7-0426-4aad-849f-b47e42882d4b",
   "metadata": {},
   "source": [
    "## Expectation calculations\n",
    "\n",
    "\n",
    "### Definitions\n",
    "\n",
    "Suppose we're interested in calculating some value $w(X)$,\n",
    "which depends on the random variable $X$.\n",
    "The function $w \\colon \\mathcal{X} \\to \\mathbb{R}$\n",
    "assigns different \"winning\" amounts to the different outcomes of the random variable $X$.\n",
    "\n",
    "The *expected value* of $w(X)$ is obtained by computing the average of $w(X)$\n",
    "over all the possible outcomes $x$ of the random variable $X$:\n",
    "\n",
    "$$\n",
    "    \\mathbb{E}_X[w(X)] = \\sum_{x \\in \\mathcal{X}} w(x)f_X(x).\n",
    "$$\n",
    "\n",
    "The math shorthand symbol $\\mathbb{E}_X$ describes the expected value of a quantity that depends on the random variable $X$."
   ]
  },
  {
   "cell_type": "markdown",
   "id": "a26fc799-91c8-4834-ab21-429bc79114ca",
   "metadata": {},
   "source": [
    "#### Example 4: expected winnings from the die game\n"
   ]
  },
  {
   "cell_type": "markdown",
   "id": "03e133da-fc9f-41db-a357-9cf62163cd4c",
   "metadata": {},
   "source": [
    "Consider the game of chance with a six-sided die\n",
    "that costs $\\$1$ to play per round.\n",
    "You win $\\$5$ if you roll a ${6}$\n",
    "and you win nothing if you roll any other number.\n",
    "In other words,\n",
    "the winnings function $w$ for this game is\n",
    "\n",
    "$$\n",
    "    w({1}) = w({2}) = w({3}) = w({4}) = w({5}) = \\$0\t\\quad \\textrm{and} \\quad \tw({6}) = \\$5.\n",
    "$$\n",
    "\n",
    "Let's encode encode this winning (payout) as a Python function."
   ]
  },
  {
   "cell_type": "code",
   "execution_count": 26,
   "id": "a7fef396-8990-421d-963d-1d8337763d63",
   "metadata": {},
   "outputs": [],
   "source": [
    "def w(d):\n",
    "    if d == 6:\n",
    "        return 5\n",
    "    else:\n",
    "        return 0"
   ]
  },
  {
   "cell_type": "markdown",
   "id": "14825b36-6f5b-4679-a3b7-8a4dbe231384",
   "metadata": {},
   "source": [
    "The expected value of $w(D)$ is computed as follows:"
   ]
  },
  {
   "cell_type": "code",
   "execution_count": 27,
   "id": "0cb17e8f-100e-4195-8706-8527952deb69",
   "metadata": {},
   "outputs": [
    {
     "data": {
      "text/plain": [
       "0.8333333333333333"
      ]
     },
     "execution_count": 27,
     "metadata": {},
     "output_type": "execute_result"
    }
   ],
   "source": [
    "sum([w(d)*fD(d) for d in range(1,6+1)])"
   ]
  },
  {
   "cell_type": "markdown",
   "id": "96b47cd1-4e16-416b-aa45-0c9faec2352e",
   "metadata": {},
   "source": [
    "### Measures of centre and dispersion\n",
    "\n",
    "The mean of the discrete random variable $X$ with probability mass function $f_X$ is defined as:\n",
    "\n",
    "$$\n",
    "    \\mu_X = \\mathbb{E}_X[X] = \\sum_{x \\in \\mathcal{X}}  x \\cdot f_{X}(x).\n",
    "$$\n",
    "\n",
    "\n",
    "The variance of a discrete random variable is defined as follows:\n",
    "\n",
    "$$\n",
    "    \\sigma_X^2\n",
    "    =\n",
    "    \\mathbb{E}_X[(X-\\mu_X)^2]\n",
    "    =\n",
    "    \\sum_{x \\in \\mathcal{X}}  (X-\\mu_X)^2 \\cdot f_{X}(x).\n",
    "$$\n",
    "\n",
    "The variance formula calculates the average squared distance of the outcomes from the mean,\n",
    "which is a measure of the dispersion of the distribution.\n"
   ]
  },
  {
   "cell_type": "markdown",
   "id": "89566268-f5b6-40b9-8611-e710b6a5d043",
   "metadata": {},
   "source": [
    "#### Example 5: mean and variance of six-sided die\n"
   ]
  },
  {
   "cell_type": "markdown",
   "id": "74a063da-79a0-413c-9e4d-26bc6aa2c28f",
   "metadata": {},
   "source": [
    "The formula for the mean of $D$ is given by:\n",
    "\n",
    "$$\n",
    "  \\mu_D \\ = \\ \\mathbb{E}_D[D] = \\sum_{d=1}^{d=6}  d \\cdot f_{D}(d).\n",
    "$$\n",
    "\n",
    "In code, this gives:"
   ]
  },
  {
   "cell_type": "code",
   "execution_count": 28,
   "id": "d5d80678-6ce9-43b0-a49b-9739045e419a",
   "metadata": {},
   "outputs": [
    {
     "data": {
      "text/plain": [
       "3.5"
      ]
     },
     "execution_count": 28,
     "metadata": {},
     "output_type": "execute_result"
    }
   ],
   "source": [
    "sum([d*fD(d) for d in range(1,6+1)])"
   ]
  },
  {
   "cell_type": "markdown",
   "id": "62a4aec3-8a00-46f6-93b6-ab5969224d05",
   "metadata": {},
   "source": [
    "So the mean of the random variable $D$ is $\\mu_D = \\frac{21}{6} = 3.5$."
   ]
  },
  {
   "cell_type": "markdown",
   "id": "6a6b7340-2527-4b61-ae08-1fc304739146",
   "metadata": {
    "tags": []
   },
   "source": [
    "The formula for the variance of $D$ is\n",
    "\n",
    "$$\n",
    "    \\sigma_D^2\n",
    "        = \\mathbb{E}_D\\!\\left[ (D-\\mu_D)^2 \\right]\n",
    "        = \\sum_{d=1}^{d=6} \\; (d-3.5)^2 \\cdot f_D(d).\n",
    "$$"
   ]
  },
  {
   "cell_type": "code",
   "execution_count": 29,
   "id": "8fa94cb2-cd60-4650-9dd1-bb4121c352b2",
   "metadata": {},
   "outputs": [
    {
     "data": {
      "text/plain": [
       "2.9166666666666665"
      ]
     },
     "execution_count": 29,
     "metadata": {},
     "output_type": "execute_result"
    }
   ],
   "source": [
    "sum([(d-3.5)**2 * fD(d) for d in range(1,6+1)])"
   ]
  },
  {
   "cell_type": "markdown",
   "id": "32fb6c90-216a-4ea2-a6e8-4776f53c90e8",
   "metadata": {},
   "source": [
    "So the variance of $D$ is $\\sigma_D^2 = 2.91\\overline{6}$.\n",
    "\n",
    "We can compute the standard deviation $\\sigma_D$ by taking the square root of the variance."
   ]
  },
  {
   "cell_type": "code",
   "execution_count": 30,
   "id": "c2fc635a-dd6f-41b5-b068-34772e759c23",
   "metadata": {},
   "outputs": [
    {
     "data": {
      "text/plain": [
       "1.707825127659933"
      ]
     },
     "execution_count": 30,
     "metadata": {},
     "output_type": "execute_result"
    }
   ],
   "source": [
    "import numpy as np\n",
    "np.sqrt(2.9166666666666665)"
   ]
  },
  {
   "cell_type": "markdown",
   "id": "e7d22e27-1c16-45f0-8a06-aad28bb8041c",
   "metadata": {},
   "source": [
    "#### Example 6: mean and variance of hard disks failures\n"
   ]
  },
  {
   "cell_type": "markdown",
   "id": "4c7b0e42-d163-4680-b3c6-0f049d0290c9",
   "metadata": {},
   "source": [
    "The formula for the mean of $H$ is given by:\n",
    "\n",
    "$$\n",
    "  \\mu_H \\ = \\ \\mathbb{E}_H[H] = \\sum_{h=0}^{h=\\infty}  h \\cdot f_{H}(h).\n",
    "$$\n",
    "\n",
    "In code, we'll use the upper limit of $h=100$ instead of $h=\\infty$ since the answer is the same (values $h\\cdot f_H(h)$ for $h \\geq 101$ are negligibly small)."
   ]
  },
  {
   "cell_type": "code",
   "execution_count": 31,
   "id": "22b82e34-119f-4777-b030-dc621345f7fd",
   "metadata": {},
   "outputs": [
    {
     "data": {
      "text/plain": [
       "20.0"
      ]
     },
     "execution_count": 31,
     "metadata": {},
     "output_type": "execute_result"
    }
   ],
   "source": [
    "sum([h*fH(h) for h in range(0,100+1)])"
   ]
  },
  {
   "cell_type": "markdown",
   "id": "375ebef7-8135-4eb5-a97e-09d00dd0d63c",
   "metadata": {},
   "source": [
    "So the mean of the random variable $H$ is $\\mu_H = 20.0$.\n",
    "Indeed, this is what we expect since we constructed this random variable with parameter $\\lambda=20$."
   ]
  },
  {
   "cell_type": "markdown",
   "id": "44641e43-9131-4832-8549-8c38823d230f",
   "metadata": {
    "tags": []
   },
   "source": [
    "The formula for the variance of $H$ is\n",
    "\n",
    "$$\n",
    "    \\sigma_H^2\n",
    "        = \\mathbb{E}_H\\!\\left[ (H-\\mu_H)^2 \\right]\n",
    "        = \\sum_{h=0}^{h=\\infty} (h-20)^2 \\cdot f_H(h).\n",
    "$$"
   ]
  },
  {
   "cell_type": "code",
   "execution_count": 32,
   "id": "a962779f-88df-40b1-aaaa-cc79bdbf4b71",
   "metadata": {},
   "outputs": [
    {
     "data": {
      "text/plain": [
       "19.999999999999996"
      ]
     },
     "execution_count": 32,
     "metadata": {},
     "output_type": "execute_result"
    }
   ],
   "source": [
    "sum([(h-20)**2 * fH(h) for h in range(0,100)])"
   ]
  },
  {
   "cell_type": "markdown",
   "id": "7ab5879a-bdb7-4604-94aa-dc2f570746cd",
   "metadata": {},
   "source": [
    "Due to numerical rounding errors in the above computation, we end up with a number that differs (in the 15th decimal) from the correct answer $20$.\n",
    "The variance of $H$ is $\\sigma_H^2 = 20.0$.\n",
    "\n",
    "We can compute the standard deviation $\\sigma_H$ by taking the square root of the variance."
   ]
  },
  {
   "cell_type": "code",
   "execution_count": 33,
   "id": "4749dc6c-daf5-455d-b4f2-12a769178361",
   "metadata": {},
   "outputs": [
    {
     "data": {
      "text/plain": [
       "4.47213595499958"
      ]
     },
     "execution_count": 33,
     "metadata": {},
     "output_type": "execute_result"
    }
   ],
   "source": [
    "import numpy as np\n",
    "np.sqrt(20)"
   ]
  },
  {
   "cell_type": "markdown",
   "id": "b3b58d65-917e-40eb-9ebf-52e32bbc82f5",
   "metadata": {},
   "source": [
    "Intuitively,\n",
    "the standard deviation $\\sigma_H$ tells us the width of the distribution is approximately 5,\n",
    "and the most likely outcomes will be in the interval\n",
    "$[\\mu_H - \\sigma_H, \\mu_H + \\sigma_H] = [15, 25]$."
   ]
  },
  {
   "cell_type": "markdown",
   "id": "10b88e05-e08c-4faa-9a59-a59a91248eab",
   "metadata": {},
   "source": [
    "<a name=\"computer_models\"></a>\n",
    "\n",
    "## Computer models for random variables\n",
    "\n",
    "We saw in the above examples how to define Python functions `fC`, `fD`, `fH`,\n",
    "which correspond to the probability mass functions $f_C$, $f_D$, $f_H$ of the random variables $C$, $D$, $H$.\n",
    "But we don't have to create all our computer models by ourselves!\n",
    "The Python module `scipy.stats` contains pre-defined code for all the probability distributions that we'll use in this book.\n",
    "\n",
    "Here is the general terminology we use initializing on of these pre-defined models:\n",
    "\n",
    "- `<model>`: the family of probability distributions\n",
    "  - Examples: `randint`, `poisson`, `norm`, etc.,\n",
    "    which we import from `scipy.stats`.\n",
    "- `<params>`: parameters of the model—specific value of the control knobs we choose to create a particular distribution:\n",
    "  - Examples: `alpha`, `beta`, `lam`, `mu`, `sigma`, etc.\n",
    "- `<model>(<params>)`: the probability model from the family `<model>` initialized with parameters `<params>`\n",
    "  - Examples: `randint(1,6+1)`, `poisson(20)`, `normal(10,3)`\n",
    "\n",
    "\n",
    "The math shorthand symbol \"$\\sim$\" stands for \"is distributed according to.\"\n",
    "For example,\n",
    "$X \\sim \\mathcal{M}(\\theta)$ means the random variable $X$\n",
    "is distributed according to the probability model $\\mathcal{M}$ with parameters $\\theta$.\n"
   ]
  },
  {
   "cell_type": "markdown",
   "id": "69579998-9a27-41f2-b74c-0f90f83c2289",
   "metadata": {},
   "source": [
    "### Examples of probability models and their computer implementations\n",
    "\n",
    "- The discrete uniform family of distribution $\\mathcal{U}_d(\\alpha,\\beta)$\n",
    "  assigns equal probabilities to all outcomes in the range $[\\alpha, \\alpha+1, \\ldots, \\beta]$.\n",
    "  To create a computer model for a discrete uniform distribution,\n",
    "  use the code `randint(alpha,beta+1)`,\n",
    "  where `alpha` and `beta` are two integers.\n",
    "  - Examples 2: we can model the outcome of a six-sided die roll $D \\sim \\mathcal{U}_d(1,6)$ as `rvD = randint(1,6+1)`.\n",
    "- The Poisson family of distribution $\\textrm{Pois}(\\lambda)$\n",
    "  describes the count of occurrences when the average rate is $\\lambda$.\n",
    "  To create a computer model for a Poisson random variable\n",
    "  use the code `poisson(lam)`,\n",
    "  where `lam` (short for *lambda*) describes the average number of occurrences.\n",
    "  - Examples 3: we can represent the number of hard disk failures $H \\sim \\textrm{Pois}(20)$ using the computer model `rvH = poisson(20)`.\n",
    "- The normal family of distribution $\\mathcal{N}(\\mu,\\sigma)$ corresponds to\n",
    "  a bell-shaped curve centred at $\\mu$ whose width is proportional to $\\sigma$.\n",
    "  To create a computer model for a normal random variable $\\mathcal{N}(\\mu,\\sigma)$,\n",
    "  use the code `norm(mu,sigma)`,\n",
    "  where `mu` = $\\mu$ is the mean and `sigma` = $\\sigma$ is the standard deviation.\n"
   ]
  },
  {
   "cell_type": "code",
   "execution_count": 34,
   "id": "04ae1839-4e92-4aa9-951f-04207aeadc29",
   "metadata": {},
   "outputs": [],
   "source": [
    "# # BONUS: see all attributes and methods:\n",
    "# [attr for attr in dir(rvH) if \"__\" not in attr] "
   ]
  },
  {
   "cell_type": "markdown",
   "id": "20c56b1d-86c0-4b16-95f4-f3ce036691f4",
   "metadata": {},
   "source": [
    "TODO: table of methods"
   ]
  },
  {
   "cell_type": "markdown",
   "id": "fd3f67e2-6b0e-45eb-9c5c-2ab66abe5053",
   "metadata": {},
   "source": [
    "## Hard disks example\n",
    "\n",
    "Let's now look at a a real-world scenario in which we'll use the computer model for the Poisson variable to do all kinds of computations with relevance to the real-world.\n",
    "\n",
    "The first thing we'll do is import the `poisson` model from `scipy.stats`:"
   ]
  },
  {
   "cell_type": "code",
   "execution_count": 35,
   "id": "6405e0bf-d890-4594-9868-c556309ac569",
   "metadata": {},
   "outputs": [],
   "source": [
    "from scipy.stats import poisson"
   ]
  },
  {
   "cell_type": "markdown",
   "id": "0bea20b5-0313-49de-9743-6c6ed483b84b",
   "metadata": {},
   "source": [
    "Next,\n",
    "create a random variable object `rvH` by initializing the Poisson model with parameter $\\lambda = 20$."
   ]
  },
  {
   "cell_type": "code",
   "execution_count": 36,
   "id": "81c00e39-f072-40db-9190-f30149c32d48",
   "metadata": {},
   "outputs": [],
   "source": [
    "rvH = poisson(20)"
   ]
  },
  {
   "cell_type": "markdown",
   "id": "4086cf01-92e5-4f81-93e9-a9f3fc28291d",
   "metadata": {},
   "source": [
    "The methods on the random variable object `rvH`  allow us to do anything we might want to do with the random variable $H$, as we'll now see below..."
   ]
  },
  {
   "cell_type": "markdown",
   "id": "4dbad8f3-9b29-4bd8-b4ee-180c4ca0f477",
   "metadata": {},
   "source": [
    "### Compute probabilities of simple outcomes"
   ]
  },
  {
   "cell_type": "markdown",
   "id": "9124a4d3-0953-47a5-9f42-cc4f89170747",
   "metadata": {},
   "source": [
    "To compute the value of $f_H$,\n",
    "we simply call the `pmf` method on the random variable object `rvH`."
   ]
  },
  {
   "cell_type": "code",
   "execution_count": 37,
   "id": "8937df3c-e6cc-4796-80d2-9670a8d06173",
   "metadata": {},
   "outputs": [
    {
     "data": {
      "text/plain": [
       "0.0888353173920848"
      ]
     },
     "execution_count": 37,
     "metadata": {},
     "output_type": "execute_result"
    }
   ],
   "source": [
    "rvH.pmf(20)"
   ]
  },
  {
   "cell_type": "code",
   "execution_count": 38,
   "id": "1a8ef341-754a-403a-9e03-91cd98c41c8b",
   "metadata": {},
   "outputs": [
    {
     "data": {
      "text/plain": [
       "0.0846050641829373"
      ]
     },
     "execution_count": 38,
     "metadata": {},
     "output_type": "execute_result"
    }
   ],
   "source": [
    "rvH.pmf(21)"
   ]
  },
  {
   "cell_type": "code",
   "execution_count": 39,
   "id": "1712ebd0-27b9-4ce8-a7f3-b499770d09fa",
   "metadata": {},
   "outputs": [
    {
     "data": {
      "text/plain": [
       "0.07691369471176195"
      ]
     },
     "execution_count": 39,
     "metadata": {},
     "output_type": "execute_result"
    }
   ],
   "source": [
    "rvH.pmf(22)"
   ]
  },
  {
   "cell_type": "markdown",
   "id": "cdc97b4b-082b-43c2-a7b7-cdd57f8944bb",
   "metadata": {},
   "source": [
    "### Properties of the distribution"
   ]
  },
  {
   "cell_type": "markdown",
   "id": "d0b5ace1-9b8a-4ab9-a042-5df75f4b37ab",
   "metadata": {},
   "source": [
    "The mean $\\mu_H$ of the distribution is obtained using:"
   ]
  },
  {
   "cell_type": "code",
   "execution_count": 40,
   "id": "d14a2b78-ca2b-418c-aa14-9a5e986b2958",
   "metadata": {},
   "outputs": [
    {
     "data": {
      "text/plain": [
       "20.0"
      ]
     },
     "execution_count": 40,
     "metadata": {},
     "output_type": "execute_result"
    }
   ],
   "source": [
    "rvH.mean()"
   ]
  },
  {
   "cell_type": "markdown",
   "id": "fb78e787-b933-4d54-a4f2-2a3f9e7ec44b",
   "metadata": {},
   "source": [
    "The standard deviation $\\sigma_H$ is obtained using:"
   ]
  },
  {
   "cell_type": "code",
   "execution_count": 41,
   "id": "88e50554-aaf8-47b9-84a2-4f20b1be4dfe",
   "metadata": {},
   "outputs": [
    {
     "data": {
      "text/plain": [
       "4.47213595499958"
      ]
     },
     "execution_count": 41,
     "metadata": {},
     "output_type": "execute_result"
    }
   ],
   "source": [
    "rvH.std()"
   ]
  },
  {
   "cell_type": "markdown",
   "id": "d656e35f-1778-46c3-9dcc-272104e81503",
   "metadata": {},
   "source": [
    "Alternatively,\n",
    "we can compute the standard deviation $\\sigma_H$ by taking the square root of the variance:"
   ]
  },
  {
   "cell_type": "code",
   "execution_count": 42,
   "id": "b20f9338-4840-4c23-ba34-db0e0bff56c8",
   "metadata": {
    "tags": []
   },
   "outputs": [
    {
     "data": {
      "text/plain": [
       "4.47213595499958"
      ]
     },
     "execution_count": 42,
     "metadata": {},
     "output_type": "execute_result"
    }
   ],
   "source": [
    "np.sqrt( rvH.var() )"
   ]
  },
  {
   "cell_type": "markdown",
   "id": "6bf19916-20b0-4ff3-9673-127be91700ae",
   "metadata": {},
   "source": [
    "The median of the distribution is the position of the $q=0.5$ quantile, $F_H^{-1}\\big(\\frac{1}{2}\\big)$:"
   ]
  },
  {
   "cell_type": "code",
   "execution_count": 43,
   "id": "e0269151-3a06-4c11-8abb-3d81f40dc2d4",
   "metadata": {},
   "outputs": [
    {
     "data": {
      "text/plain": [
       "20.0"
      ]
     },
     "execution_count": 43,
     "metadata": {},
     "output_type": "execute_result"
    }
   ],
   "source": [
    "rvH.median()"
   ]
  },
  {
   "cell_type": "markdown",
   "id": "bdd29e95-de28-4c01-a6ee-b99acb0620f1",
   "metadata": {},
   "source": [
    "The sample space the random variable is described by:"
   ]
  },
  {
   "cell_type": "code",
   "execution_count": 44,
   "id": "49069a77-b771-41c2-946a-f39f29b5a94c",
   "metadata": {},
   "outputs": [
    {
     "data": {
      "text/plain": [
       "(0, inf)"
      ]
     },
     "execution_count": 44,
     "metadata": {},
     "output_type": "execute_result"
    }
   ],
   "source": [
    "rvH.support()"
   ]
  },
  {
   "cell_type": "markdown",
   "id": "52158f59-901b-4956-ac3b-c2fa2dea3b44",
   "metadata": {},
   "source": [
    "The concept of *support* (of a probability distribution) is a fancy math way to talk about \"the interval of values where the probability distribution is non-zero.\" The above result tells us the support of the random variable `rvH` is all integers between $0$ and $\\infty$."
   ]
  },
  {
   "cell_type": "markdown",
   "id": "a00c26ea-3d21-4c1f-927c-eba69f92f8fb",
   "metadata": {},
   "source": [
    "### Computing probabilities of events\n",
    "\n",
    "Suppose you want to compute the probability of the event $\\{ a \\leq N \\leq b \\}$\n",
    "for the random variable $H$.\n",
    "\n",
    "For example,\n",
    "\n",
    "$$\n",
    "  \\textrm{Pr}(\\{15 \\leq H \\leq 25\\}) = \\sum_{h=15}^{h=25} f_H(h),\n",
    "$$\n",
    "\n",
    "is the sum of `f_H` between 15 and 25:"
   ]
  },
  {
   "cell_type": "code",
   "execution_count": 45,
   "id": "e205fea3-a086-46e0-8954-da66a1c15c05",
   "metadata": {},
   "outputs": [
    {
     "data": {
      "text/plain": [
       "0.7829507461740415"
      ]
     },
     "execution_count": 45,
     "metadata": {},
     "output_type": "execute_result"
    }
   ],
   "source": [
    "sum([rvH.pmf(x) for x in range(15, 25+1)])"
   ]
  },
  {
   "cell_type": "markdown",
   "id": "7b24f782-388a-4993-ac1f-8a610aef287b",
   "metadata": {},
   "source": [
    "An alternative approach \n",
    "\n",
    "$$\n",
    "  \\textrm{Pr}(\\{15 \\leq H \\leq 25\\}) = F_H(25) - F_H(15-1).\n",
    "$$\n"
   ]
  },
  {
   "cell_type": "code",
   "execution_count": 46,
   "id": "730e8e76-5cb8-4d11-a81c-a636c95d3306",
   "metadata": {},
   "outputs": [
    {
     "data": {
      "text/plain": [
       "0.7829507461740454"
      ]
     },
     "execution_count": 46,
     "metadata": {},
     "output_type": "execute_result"
    }
   ],
   "source": [
    "rvH.cdf(25) - rvH.cdf(15-1)"
   ]
  },
  {
   "cell_type": "markdown",
   "id": "6467ac6e-a0bd-460d-ab07-7b42f6bbd6e4",
   "metadata": {},
   "source": [
    "### Plotting the probability mass function"
   ]
  },
  {
   "cell_type": "markdown",
   "id": "068b6515-e043-468f-abc0-075f86f14a4c",
   "metadata": {},
   "source": [
    "Let's create a `stem` plot of the probability mass function $f_H$.\n",
    "Recall the three-step procedure for plotting:\n",
    "\n",
    "1. Create a range of inputs `hs` for the plot.\n",
    "2. Compute the value of $f_H$ for the `hs` inputs and store result in an array `fHs`.\n",
    "3. Plot the `fHs` values using `plt.stem`.\n",
    "\n",
    "Instead of using ordinary list of values as we did previously,\n",
    "we'll use the NumPy arrays for the calculations,\n",
    "which are much more efficient."
   ]
  },
  {
   "cell_type": "code",
   "execution_count": 47,
   "id": "0b49db0e-72ec-4d30-8682-791260daa87c",
   "metadata": {},
   "outputs": [
    {
     "data": {
      "image/png": "[encoded data removed]",
      "text/plain": [
       "<Figure size 700x400 with 1 Axes>"
      ]
     },
     "metadata": {
      "image/png": {
       "height": 351,
       "width": 597
      }
     },
     "output_type": "display_data"
    }
   ],
   "source": [
    "import numpy as np\n",
    "\n",
    "# 1. array of input values for the plot\n",
    "hs = range(0, 40+1)\n",
    "\n",
    "# 2. compute f_H for the array of inputs `hs`\n",
    "fHs = rvH.pmf(hs)\n",
    "\n",
    "# 3. create the stem plot\n",
    "plt.stem(hs, fHs);"
   ]
  },
  {
   "cell_type": "markdown",
   "id": "806dacee-062f-44a9-830e-7c7413944610",
   "metadata": {},
   "source": [
    "Some comments on the code we used to produce graph:\n",
    "\n",
    "1. The command `range(a,b+1)` produces a `list` of inputs from `a` until `b`.\n",
    "2. Note we call the method `rvH.pmf` with the entire list of inputs,\n",
    "   and `rvH.pmf` computes the outputs for each element in the list in one step.\n",
    "   This is a common pattern in scientific computing:\n",
    "   most of the functions in NumPy and SciPy can be called with `array` inputs (vectors)\n",
    "   and return `array` outputs,\n",
    "   which makes them very efficient when doing large-scale calculations\n",
    "   (e.g. computations with millions of inputs)."
   ]
  },
  {
   "cell_type": "markdown",
   "id": "04759e0d-9b88-4bcb-b389-e9030bbf491a",
   "metadata": {},
   "source": [
    "The helper method `plot_pmf` defined in the `ministats` module\n",
    "can also be used to generate this graph.\n",
    "To use it,\n",
    "just pass any random variable object as input,\n",
    "and the function will figure out an appropriate settings for the plot."
   ]
  },
  {
   "cell_type": "code",
   "execution_count": 48,
   "id": "649e21e2-0f37-4db6-b232-194d098d0d88",
   "metadata": {},
   "outputs": [
    {
     "name": "stdout",
     "output_type": "stream",
     "text": [
      "\n",
      "\u001b[1m[\u001b[0m\u001b[34;49mnotice\u001b[0m\u001b[1;39;49m]\u001b[0m\u001b[39;49m A new release of pip is available: \u001b[0m\u001b[31;49m24.0\u001b[0m\u001b[39;49m -> \u001b[0m\u001b[32;49m25.2\u001b[0m\n",
      "\u001b[1m[\u001b[0m\u001b[34;49mnotice\u001b[0m\u001b[1;39;49m]\u001b[0m\u001b[39;49m To update, run: \u001b[0m\u001b[32;49mpip install --upgrade pip\u001b[0m\n",
      "Note: you may need to restart the kernel to use updated packages.\n"
     ]
    }
   ],
   "source": [
    "%pip install -q ministats"
   ]
  },
  {
   "cell_type": "code",
   "execution_count": 49,
   "id": "e6887d85-3e88-4c36-ba04-6f31c868cef0",
   "metadata": {},
   "outputs": [
    {
     "data": {
      "image/png": "[encoded data removed]",
      "text/plain": [
       "<Figure size 700x400 with 1 Axes>"
      ]
     },
     "metadata": {
      "image/png": {
       "height": 368,
       "width": 617
      }
     },
     "output_type": "display_data"
    }
   ],
   "source": [
    "# import the `plot_pmf` helper function from the `ministats` module\n",
    "from ministats import plot_pmf\n",
    "\n",
    "plot_pmf(rvH);"
   ]
  },
  {
   "cell_type": "markdown",
   "id": "f4b9d502-a12f-4c2b-9ce1-cd97540a3a6f",
   "metadata": {},
   "source": [
    "You can control the resulting plot by passing optional arguments like `xlims`, `ylims`, `rv_name` (default to X), etc. Type in `help(plot_pmf)` so learn about all these options."
   ]
  },
  {
   "cell_type": "markdown",
   "id": "d02d0e5c-b4b1-4033-80f4-06e6d28e3d5e",
   "metadata": {
    "tags": [],
    "toc-hr-collapsed": true
   },
   "source": [
    "### Computing quantiles\n",
    "\n",
    "Recall the inverse cumulative distribution function $F^{-1}_X$,\n",
    "which tells us the positions of the quantiles of the random variable $X$.\n",
    "The value $F_X^{-1}(q)=x_q$ tells the smallest $x_q$ such that $F_X(x_q) \\geq q$.\n",
    "We use the method `rvH.ppf(q)` (short for *percentile point function*)\n",
    "to obtain values of inverse-CDF.\n",
    "\n",
    "Let's try to find the smallest interval $[0, h_q]$ that contains at least proportion $q$ of the total probability.\n",
    "For example, the $q=0.95$ quantile corresponds to the value $h$ such that $\\textrm{Pr}(\\{H \\leq h\\}) \\geq 0.95$."
   ]
  },
  {
   "cell_type": "code",
   "execution_count": 50,
   "id": "9593baf0-9b56-4d27-80ec-7ee33da4a78d",
   "metadata": {},
   "outputs": [
    {
     "data": {
      "text/plain": [
       "28.0"
      ]
     },
     "execution_count": 50,
     "metadata": {},
     "output_type": "execute_result"
    }
   ],
   "source": [
    "rvH.ppf(0.95)"
   ]
  },
  {
   "cell_type": "markdown",
   "id": "88ef842c-de31-450b-8661-30040f2c4b1e",
   "metadata": {},
   "source": [
    "We can verify that answer is correct by computing $\\textrm{Pr}(\\{H \\leq 28\\}) = F_H(28)$:"
   ]
  },
  {
   "cell_type": "code",
   "execution_count": 51,
   "id": "b80383ea-7ed1-4143-96dc-6f619ea350db",
   "metadata": {},
   "outputs": [
    {
     "data": {
      "text/plain": [
       "0.9656664781059899"
      ]
     },
     "execution_count": 51,
     "metadata": {},
     "output_type": "execute_result"
    }
   ],
   "source": [
    "rvH.cdf(28)"
   ]
  },
  {
   "cell_type": "markdown",
   "id": "8518b078-5c1b-4abd-bc14-06babdc4a70f",
   "metadata": {},
   "source": [
    "Note by choosing $h=28$ we're overshooting the target 0.95 a little bit.\n",
    "This is often the case when calling the `ppf` methods of discrete random variables.\n",
    "The previous value at $h=27$ gives `rvH.cdf(27)` $=F_H(27) = 0.9475$,\n",
    "which is less than 0.95, so we pick $h=28$ as the smallest value that satisfies $F_H(h) \\geq 0.95$."
   ]
  },
  {
   "cell_type": "markdown",
   "id": "fa9d8838-24f4-4043-adfb-dbaad57ea3ce",
   "metadata": {},
   "source": [
    "### Generating random observations\n",
    "\n",
    "Let's say you want to generate $n=12$ observations from the random variable $H$.\n",
    "You can do this by calling the method `rvH.rvs(12)`."
   ]
  },
  {
   "cell_type": "code",
   "execution_count": 52,
   "id": "37e4bd7c-9a66-4c31-9929-593ac69c52cf",
   "metadata": {},
   "outputs": [
    {
     "data": {
      "text/plain": [
       "array([23, 15, 21, 25, 15, 17, 19, 21, 17, 19, 16, 21])"
      ]
     },
     "execution_count": 52,
     "metadata": {},
     "output_type": "execute_result"
    }
   ],
   "source": [
    "np.random.seed(42)\n",
    "\n",
    "rvH.rvs(12)"
   ]
  },
  {
   "cell_type": "markdown",
   "id": "88fdfc45-043a-4b76-ac6c-fb576773f4ea",
   "metadata": {},
   "source": [
    "If you rerun the above code cell another time,\n",
    "you'll see 12 different numbers.\n",
    "This is the whole point of the `rvs` method (*random variates* generator):\n",
    "each time you call it, you'll see a different set of observations."
   ]
  },
  {
   "cell_type": "markdown",
   "id": "fc652c59-5c6f-4174-b4f5-e080c2c1d40e",
   "metadata": {},
   "source": [
    "### Computing expectations\n",
    "\n",
    "Let's say we want to estimate of the total cost we should budget for replacement hard disks, given a base price of \\\\$200/disk and a bulk discount of \\\\$150/disk when buying 20 or more disks.\n",
    "\n",
    "The replacement cost for `h` disks is described by the following Python function."
   ]
  },
  {
   "cell_type": "code",
   "execution_count": 53,
   "id": "ae7acb26-3ad7-41e1-a35a-84d9d7e4e938",
   "metadata": {},
   "outputs": [],
   "source": [
    "def cost(h):\n",
    "    if h >= 20:\n",
    "        return 150*h\n",
    "    else:\n",
    "        return 200*h"
   ]
  },
  {
   "cell_type": "markdown",
   "id": "472b6e1e-2213-4f3f-8bcb-e59aa8cc6000",
   "metadata": {},
   "source": [
    "To calculate the expected cost of replacement disks,\n",
    "we compute the `sum` of `cost(h)*h` for all possible outcomes `h`."
   ]
  },
  {
   "cell_type": "code",
   "execution_count": 54,
   "id": "345fc508-95b5-4df0-a100-78463f4497f0",
   "metadata": {},
   "outputs": [
    {
     "data": {
      "text/plain": [
       "3381.421949447139"
      ]
     },
     "execution_count": 54,
     "metadata": {},
     "output_type": "execute_result"
    }
   ],
   "source": [
    "sum([cost(h)*rvH.pmf(h) for h in range(0,100+1)])"
   ]
  },
  {
   "cell_type": "markdown",
   "id": "ce294109-0c22-4cf6-a7b5-3efbd91823d0",
   "metadata": {},
   "source": [
    "Another option for computing the expected value is to use the method `rvH.expect()`.\n",
    "If we try calling `rvH.expect(cost)`,\n",
    "we'll get an error \"*ValueError: The truth value of an array with more than one element is ambiguous.*\"\n",
    "\n",
    "This error occurs because the Python function `w` chokes\n",
    "if we pass it an `array` of inputs to evaluate,\n",
    "which is what the method `rvD.expect` does (for efficiency reasons)."
   ]
  },
  {
   "cell_type": "code",
   "execution_count": 55,
   "id": "6b1f49df-8b4f-4e1e-a93b-f6c3e9fd9e37",
   "metadata": {},
   "outputs": [],
   "source": [
    "# doesn't work!\n",
    "# rvH.expect(cost)"
   ]
  },
  {
   "cell_type": "markdown",
   "id": "c5228687-edf1-4a1a-8f24-5ded699ec9cc",
   "metadata": {},
   "source": [
    "We can easily solve this by \"vectorizing\" the function using the NumPy helper method `vectorize`,\n",
    "which makes any Python function work with vector inputs (arrays of numbers).\n",
    "The code below shows how to convert the function `cost`\n",
    "to a vector-friendly equivalent function `vcost`,\n",
    "which we can ten use in the `rvH.expect` method."
   ]
  },
  {
   "cell_type": "code",
   "execution_count": 56,
   "id": "52f29daa-e2fd-4e57-9b23-5987dc85b2ab",
   "metadata": {},
   "outputs": [
    {
     "data": {
      "text/plain": [
       "3381.42194944714"
      ]
     },
     "execution_count": 56,
     "metadata": {},
     "output_type": "execute_result"
    }
   ],
   "source": [
    "vcost = np.vectorize(cost)\n",
    "rvH.expect(vcost)"
   ]
  },
  {
   "cell_type": "markdown",
   "id": "7c208fd8-5f9e-47a5-8a7e-3ddc2addd25a",
   "metadata": {},
   "source": [
    "### Additional visualizations (bonus topic)\n",
    "\n",
    "We already saw how to plot the probability mass function $f_H$ above,\n",
    "but what about plotting cumulative distribution function $F_H$ and its inverse $F_H^{-1}$?"
   ]
  },
  {
   "cell_type": "markdown",
   "id": "c3bfb7dd-6a80-48c3-a042-8c02cd857dbf",
   "metadata": {
    "tags": []
   },
   "source": [
    "#### Plotting the cumulative distribution function\n",
    "\n",
    "The cumulative distribution function $F_H(b) =$ `rvH.cdf(b)` is a continuous function (defined for all inputs $b$), so we can use the Seaborn function `lineplot` to graph it."
   ]
  },
  {
   "cell_type": "code",
   "execution_count": 57,
   "id": "34bfa609-f204-4f00-9bc7-e84a3466dae5",
   "metadata": {},
   "outputs": [
    {
     "data": {
      "image/png": "[encoded data removed]",
      "text/plain": [
       "<Figure size 700x400 with 1 Axes>"
      ]
     },
     "metadata": {
      "image/png": {
       "height": 351,
       "width": 591
      }
     },
     "output_type": "display_data"
    }
   ],
   "source": [
    "hs = np.linspace(0, 40, 1000)\n",
    "FHs = rvH.cdf(hs)\n",
    "sns.lineplot(x=hs, y=FHs, label=\"CDF of $H$\");"
   ]
  },
  {
   "cell_type": "markdown",
   "id": "ab212bc1-f00d-48e8-b097-2a847c4b5565",
   "metadata": {
    "tags": []
   },
   "source": [
    "#### Plotting the inverse of the cumulative distribution function\n",
    "\n",
    "The inverse of the cumulative distribution $F_H^{-1}(q) =$ `rvH.ppf(q)` is a also a continuous function,\n",
    "so we'll use a similar approach as for the CDF."
   ]
  },
  {
   "cell_type": "code",
   "execution_count": 58,
   "id": "7d4ab56e-e9dc-4b0d-ab4d-689a79cec1c5",
   "metadata": {},
   "outputs": [
    {
     "data": {
      "image/png": "[encoded data removed]",
      "text/plain": [
       "<Figure size 700x400 with 1 Axes>"
      ]
     },
     "metadata": {
      "image/png": {
       "height": 351,
       "width": 587
      }
     },
     "output_type": "display_data"
    }
   ],
   "source": [
    "qs = np.linspace(0, 1, 1000)\n",
    "invFHs = rvH.ppf(qs)\n",
    "sns.lineplot(x=qs, y=invFHs, label=\"Inverse-CDF of $H$\");"
   ]
  },
  {
   "cell_type": "markdown",
   "id": "4fccfe60-ce35-4f38-805e-c42fa30315ef",
   "metadata": {},
   "source": [
    "## Discussion"
   ]
  },
  {
   "cell_type": "markdown",
   "id": "9df6ce10-ea05-4590-97bd-d11bdcff0076",
   "metadata": {},
   "source": [
    "### Bulk of the distribution\n",
    "\n",
    "We want to find an interval $[a,b]$ (a subset of the sample space $\\mathcal{H}$)\n",
    "that contains the most likely observations of the random variable $H$.\n",
    "Recall the math interval notation $[a,b]$ describes all numbers between $a$ and $b$,\n",
    "including the endpoints $a$ and $b$.\n",
    "Specifically,\n",
    "we'll find an interval that contains the middle 95% of the observations of the random variable $H$,\n",
    "which means we're looking for the integers `a` and `b` such that:\n",
    "\n",
    "$$\n",
    "   \\textrm{Pr}(\\{a \\leq H \\leq b\\})\n",
    "   = \\sum_{h=a}^{h=b} f_H(h)\n",
    "   = f_H(a) + f_H(a+1) + \\cdots + f_H(b) \\geq 0.95. \n",
    "$$\n",
    "\n",
    "We can obtain this upper and lower limits by calling the `ppf` method on the `rvH` object."
   ]
  },
  {
   "cell_type": "code",
   "execution_count": 59,
   "id": "e37ee97f-04bf-40ee-9c50-87282a299ea0",
   "metadata": {},
   "outputs": [
    {
     "data": {
      "text/plain": [
       "[12.0, 29.0]"
      ]
     },
     "execution_count": 59,
     "metadata": {},
     "output_type": "execute_result"
    }
   ],
   "source": [
    "a = rvH.ppf(0.025)\n",
    "b = rvH.ppf(0.975)\n",
    "[a, b]"
   ]
  },
  {
   "cell_type": "markdown",
   "id": "36281d4c-dfa0-42d9-b1b9-a6895f2bac96",
   "metadata": {},
   "source": [
    "The logic is as follows: if we want the interval to contain the middle 0.95 of the probability,\n",
    "we can split the remaining 0.05 into left and right \"tails\" accounting for 0.025 of the probability each.\n",
    "\n",
    "- We can obtain the left-boundary of the interval from the value $F_X^{-1}(0.025)$,\n",
    "  which reports the interval $[0,a]$ that contains at least 0.025 of the probability.\n",
    "- To find the right boundary `b` we compute the value $F_X^{-1}(0.975)$.\n",
    "\n",
    "We'll convert the limits to integers,\n",
    "so we can use them in summation calculations."
   ]
  },
  {
   "cell_type": "code",
   "execution_count": 60,
   "id": "9b5e4c0e-68a0-4407-b3ca-efc738df12e0",
   "metadata": {},
   "outputs": [
    {
     "data": {
      "text/plain": [
       "[12, 29]"
      ]
     },
     "execution_count": 60,
     "metadata": {},
     "output_type": "execute_result"
    }
   ],
   "source": [
    "a = int(a)  # left boundary `a` as an integer\n",
    "b = int(b)  # right boundary `b` as an integer\n",
    "[a,b]"
   ]
  },
  {
   "cell_type": "markdown",
   "id": "5c9724b5-963d-4533-848b-a9d3a52745b6",
   "metadata": {},
   "source": [
    "The interval $[a,b]$ should contain at least 0.95 of the probability (the bulk of the distribution).\n",
    "Let's verify this by computing the sum of $f_H$ for all the values in that interval: $f_H(a) + f_H(a+1) + \\cdots + f_H(b)$."
   ]
  },
  {
   "cell_type": "code",
   "execution_count": 61,
   "id": "2299cab3-3c1c-4f1a-ad70-9a9c7d1d8b01",
   "metadata": {},
   "outputs": [
    {
     "data": {
      "text/plain": [
       "0.9567949608871579"
      ]
     },
     "execution_count": 61,
     "metadata": {},
     "output_type": "execute_result"
    }
   ],
   "source": [
    "sum([rvH.pmf(h) for h in range(a,b+1)])"
   ]
  },
  {
   "cell_type": "markdown",
   "id": "45ac5944-1431-4462-8cf6-f90afbd59ec4",
   "metadata": {},
   "source": [
    "Another way to verify that the interval $[a,b]$ contains 95% of the probability\n",
    "is to use the cumulative distribution function $F_H =$ `rvH.cdf`, since\n",
    "\n",
    "$$\n",
    "   \\textrm{Pr}(\\{a \\leq H \\leq b\\})\n",
    "   = F_H(b) - F_H(a-1).\n",
    "$$"
   ]
  },
  {
   "cell_type": "code",
   "execution_count": 62,
   "id": "dbe26270-c4e9-4846-8ff6-5965d5d7d63f",
   "metadata": {},
   "outputs": [
    {
     "data": {
      "text/plain": [
       "0.9567949608871623"
      ]
     },
     "execution_count": 62,
     "metadata": {},
     "output_type": "execute_result"
    }
   ],
   "source": [
    "rvH.cdf(b) - rvH.cdf(a-1)"
   ]
  },
  {
   "cell_type": "markdown",
   "id": "39f314fd-cf34-45c6-8d43-18894f1f668c",
   "metadata": {},
   "source": [
    "#### Visualizing the interval $[a,b]$\n",
    "\n",
    "The code below generates a stem plot for the subset of $f_H$ values within the interval $[a,b]$."
   ]
  },
  {
   "cell_type": "code",
   "execution_count": 63,
   "id": "c80ffb13-93d6-4941-886f-ff2b0fafbe12",
   "metadata": {},
   "outputs": [
    {
     "name": "stdout",
     "output_type": "stream",
     "text": [
      "The bulk of the distibution:\n"
     ]
    },
    {
     "data": {
      "image/png": "[encoded data removed]",
      "text/plain": [
       "<Figure size 700x400 with 1 Axes>"
      ]
     },
     "metadata": {
      "image/png": {
       "height": 373,
       "width": 617
      }
     },
     "output_type": "display_data"
    }
   ],
   "source": [
    "hs = np.arange(0, 40+1)\n",
    "fHs = rvH.pmf(hs)\n",
    "\n",
    "# Remove values that are smaller than `a` or greater than `b`\n",
    "fHs[0:a] = np.nan\n",
    "fHs[b+1:] = np.nan\n",
    "\n",
    "fig, ax = plt.subplots()\n",
    "ax.stem(fHs, label=\"Middle 95% of the pmf $f_H$\", basefmt=\" \")\n",
    "ax.set_xlabel('h')\n",
    "ax.set_ylabel('$f_H$')\n",
    "ax.set_ylim([0, 0.1])\n",
    "ax.legend()\n",
    "plt.xticks(hs)\n",
    "print(\"The bulk of the distibution:\")"
   ]
  },
  {
   "cell_type": "markdown",
   "id": "2a8b1a26-f87e-4f0b-8859-9b393f04278d",
   "metadata": {},
   "source": [
    "### Tails of the distribution\n",
    "\n",
    "Conversely,\n",
    "the \"tails\" of the distribution contain the unlikely outcomes for the random variable.\n",
    "The complement of the interval `[a,b]` contains at most 5% of the probability."
   ]
  },
  {
   "cell_type": "markdown",
   "id": "633e66c8-487a-45aa-b399-9fda7e0666f5",
   "metadata": {},
   "source": [
    "#### Left tail\n",
    "\n",
    "The left tail of the distribution $f_H$ is the interval `[0,a-1]`,\n",
    "which contains less than 2.5% of the probability."
   ]
  },
  {
   "cell_type": "code",
   "execution_count": 64,
   "id": "7f75cf16-6dca-485e-a32b-2e3e28f33b9b",
   "metadata": {},
   "outputs": [
    {
     "data": {
      "text/plain": [
       "0.021386821587280218"
      ]
     },
     "execution_count": 64,
     "metadata": {},
     "output_type": "execute_result"
    }
   ],
   "source": [
    "sum([rvH.pmf(h) for h in range(0,(a-1)+1)])"
   ]
  },
  {
   "cell_type": "markdown",
   "id": "64a1fb7a-1dcb-46f0-b253-501690a32068",
   "metadata": {},
   "source": [
    "#### Right tail\n",
    "\n",
    "The right tail of the distribution $f_H$ is the interval `[b+1,np.inf]`,\n",
    "which contains less than 2.5% of the probability."
   ]
  },
  {
   "cell_type": "code",
   "execution_count": 65,
   "id": "41073a63-6ecd-4738-96eb-81bebe3f149b",
   "metadata": {},
   "outputs": [
    {
     "data": {
      "text/plain": [
       "0.021818217525557397"
      ]
     },
     "execution_count": 65,
     "metadata": {},
     "output_type": "execute_result"
    }
   ],
   "source": [
    "sum([rvH.pmf(h) for h in range(b+1,1000)])"
   ]
  },
  {
   "cell_type": "markdown",
   "id": "9012135b-eac4-4d62-9fc6-926b96830957",
   "metadata": {},
   "source": [
    "We can verify the combined weight of the two tails is less than 5%."
   ]
  },
  {
   "cell_type": "code",
   "execution_count": 66,
   "id": "a59d533f-5247-4322-b3df-2d790e118418",
   "metadata": {},
   "outputs": [
    {
     "data": {
      "text/plain": [
       "0.043205039112837615"
      ]
     },
     "execution_count": 66,
     "metadata": {},
     "output_type": "execute_result"
    }
   ],
   "source": [
    "sum([rvH.pmf(h) for h in range(0,(a-1)+1)]) \\\n",
    "  + sum([rvH.pmf(h) for h in range(b+1,1000)])"
   ]
  },
  {
   "cell_type": "markdown",
   "id": "46c08de6-398b-45ad-a8cf-7adab9f54426",
   "metadata": {},
   "source": [
    "#### Visualizing the tails of the distribution\n",
    "\n",
    "The code below generates a stem plot for tails of the distribution $f_H$,\n",
    "which consists of values outside the interval `I_95`."
   ]
  },
  {
   "cell_type": "code",
   "execution_count": 67,
   "id": "96e18db8-895a-4425-8019-fe57279b8ff9",
   "metadata": {},
   "outputs": [
    {
     "name": "stdout",
     "output_type": "stream",
     "text": [
      "The tails of the distibution:\n"
     ]
    },
    {
     "data": {
      "image/png": "[encoded data removed]",
      "text/plain": [
       "<Figure size 700x400 with 1 Axes>"
      ]
     },
     "metadata": {
      "image/png": {
       "height": 373,
       "width": 617
      }
     },
     "output_type": "display_data"
    }
   ],
   "source": [
    "hs = np.arange(0, 40+1)\n",
    "fHs = rvH.pmf(hs)\n",
    "\n",
    "# mask the bulk of the distribution\n",
    "fHs[a:b+1] = np.nan\n",
    "\n",
    "fig, ax = plt.subplots()\n",
    "ax.stem(fHs, label=\"Tails of $f_H$\", markerfmt='ro', linefmt='r-', basefmt=\" \")\n",
    "ax.set_xlabel('h')\n",
    "ax.set_ylabel('$f_H$')\n",
    "ax.set_ylim([0, 0.1])\n",
    "ax.legend()\n",
    "plt.xticks(hs)\n",
    "print(\"The tails of the distibution:\")"
   ]
  },
  {
   "cell_type": "markdown",
   "id": "6eba1293-e04a-4e63-8625-5cd3645d4147",
   "metadata": {},
   "source": [
    "## Frequentist interpretation of probability theory\n",
    "\n",
    "Recall the random variable $C$ that describes a coin toss.\n",
    "We can interpret the probability values that the probability mass function $f_C$\n",
    "assigns to different outcomes in terms of relative frequencies of observed outcomes\n",
    "in a hypothetical experiment in which we toss the coin many, many times.\n",
    "\n",
    "Consider a sequence of $n$ observations from a coin toss: $(c_1, c_2, c_3, \\ldots, c_n)$.\n",
    "Each $c_i$ is either `heads` or `tails`.\n",
    "\n",
    "$$\n",
    "    \\textrm{RelFreq}(\\texttt{heads})\n",
    "    = \\frac{ \\textrm{count of } c_i = \\texttt{heads} }{  n }\n",
    "    \\qquad \\textrm{and} \\qquad\n",
    "    \\textrm{RelFreq}(\\texttt{tails})\n",
    "    = \\frac{ \\textrm{count of } c_i = \\texttt{tails} }{  n }.\n",
    "$$\n",
    "\n",
    "If we generate larger and larger sets of observations,\n",
    "for example $n=100$, $n=1000$, or $n=10\\,000$,\n",
    "we will observe that the relative frequencies of the two outcomes \n",
    "get close to $\\frac{1}{2}$ and $\\frac{1}{2}$.\n",
    "\n",
    "![](./attachments/panel_n_coin_flips.png)\n",
    "\n",
    "\n",
    "So when we say $f_C(\\texttt{heads}) = \\frac{1}{2}$ and $f_C(\\texttt{tails}) = \\frac{1}{2}$,\n",
    "what we are saying is that if were to perform the hypothetical experiment infinitely many times,\n",
    "we'll observe:\n",
    "    \n",
    "$$\n",
    "    f_C(\\texttt{heads})\n",
    "    = \\frac{ \\textrm{count of } c_i = \\texttt{heads} }{  n }\n",
    "      \\textrm{ as } n \\textrm{ goes to infinity}\n",
    "    = \\tfrac{1}{2}.\n",
    "$$\n",
    "\n",
    "and\n",
    "\n",
    "$$\n",
    "    f_C(\\texttt{tails})\n",
    "    = \\frac{ \\textrm{count of } c_i = \\texttt{tails} }{  n }\n",
    "      \\textrm{ as } n \\textrm{ goes to infinity}\n",
    "    = \\tfrac{1}{2}.\n",
    "$$\n"
   ]
  },
  {
   "cell_type": "markdown",
   "id": "fc8f7438-898c-4e51-b7f9-6737e62163fb",
   "metadata": {},
   "source": [
    "## Bayesian interpretation of probability theory\n",
    "\n",
    "TODO?\n",
    "\n",
    "state of knowledge"
   ]
  }
 ],
 "metadata": {
  "kernelspec": {
   "display_name": "Python 3 (ipykernel)",
   "language": "python",
   "name": "python3"
  },
  "language_info": {
   "codemirror_mode": {
    "name": "ipython",
    "version": 3
   },
   "file_extension": ".py",
   "mimetype": "text/x-python",
   "name": "python",
   "nbconvert_exporter": "python",
   "pygments_lexer": "ipython3",
   "version": "3.12.4"
  },
  "toc-autonumbering": true
 },
 "nbformat": 4,
 "nbformat_minor": 5
}
