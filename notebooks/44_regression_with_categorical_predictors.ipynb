{
 "cells": [
  {
   "cell_type": "markdown",
   "id": "3ec95fa0-da20-41dc-820e-2f33f262f4e2",
   "metadata": {
    "tags": []
   },
   "source": [
    "# Section 4.4 — Regression with categorical predictors\n",
    "\n",
    "This notebook contains the code examples from [Section 4.4 Regression with categorical predictors]() from the **No Bullshit Guide to Statistics**."
   ]
  },
  {
   "cell_type": "markdown",
   "id": "eb4d1856-22a1-4634-87d7-5fc091d93e12",
   "metadata": {
    "tags": []
   },
   "source": [
    "#### Notebook setup"
   ]
  },
  {
   "cell_type": "code",
   "execution_count": 1,
   "id": "0003a9e7-21c7-47a5-bdec-3bd3ca2a79f4",
   "metadata": {},
   "outputs": [],
   "source": [
    "# load Python modules\n",
    "import os\n",
    "import numpy as np\n",
    "import pandas as pd\n",
    "import seaborn as sns\n",
    "import matplotlib.pyplot as plt"
   ]
  },
  {
   "cell_type": "code",
   "execution_count": 2,
   "id": "8e67e0e7-4f48-4c48-a49d-3cdf22cbd014",
   "metadata": {},
   "outputs": [
    {
     "data": {
      "text/plain": [
       "<Figure size 640x480 with 0 Axes>"
      ]
     },
     "metadata": {},
     "output_type": "display_data"
    }
   ],
   "source": [
    "# Figures setup\n",
    "plt.clf()  # needed otherwise `sns.set_theme` doesn't work\n",
    "from plot_helpers import RCPARAMS\n",
    "# RCPARAMS.update({'figure.figsize': (10, 3)})   # good for screen\n",
    "RCPARAMS.update({'figure.figsize': (5, 1.6)})  # good for print\n",
    "sns.set_theme(\n",
    "    context=\"paper\",\n",
    "    style=\"whitegrid\",\n",
    "    palette=\"colorblind\",\n",
    "    rc=RCPARAMS,\n",
    ")\n",
    "\n",
    "# High-resolution please\n",
    "%config InlineBackend.figure_format = 'retina'\n",
    "\n",
    "# Where to store figures\n",
    "DESTDIR = \"figures/lm/categorical\""
   ]
  },
  {
   "cell_type": "code",
   "execution_count": 3,
   "id": "efc0e89b-72bf-4658-8f8a-a3d85bee00b6",
   "metadata": {},
   "outputs": [],
   "source": [
    "# set random seed for repeatability\n",
    "np.random.seed(42)\n",
    "#######################################################"
   ]
  },
  {
   "cell_type": "code",
   "execution_count": 4,
   "id": "2470aa14-ec23-4179-bef1-e6588524ef33",
   "metadata": {},
   "outputs": [],
   "source": [
    "import statsmodels.formula.api as smf\n",
    "from patsy import dmatrix"
   ]
  },
  {
   "cell_type": "code",
   "execution_count": 5,
   "id": "3ac4d6cf-4021-4ba7-9313-fcf62009d7c1",
   "metadata": {},
   "outputs": [],
   "source": [
    "\n",
    "doctors = pd.read_csv(\"../datasets/doctors.csv\")"
   ]
  },
  {
   "cell_type": "markdown",
   "id": "7e958a8b-2f67-47d5-8d8d-38b75d17ace0",
   "metadata": {},
   "source": [
    "## Example 1: binary predictor variable"
   ]
  },
  {
   "cell_type": "code",
   "execution_count": 6,
   "id": "0b8fb1f1-2cd8-42bd-a6c3-a2fd26cc0a51",
   "metadata": {},
   "outputs": [
    {
     "data": {
      "text/plain": [
       "Intercept        52.956522\n",
       "C(loc)[T.urb]    -6.992885\n",
       "dtype: float64"
      ]
     },
     "execution_count": 6,
     "metadata": {},
     "output_type": "execute_result"
    }
   ],
   "source": [
    "lm3 = smf.ols(\"score ~ C(loc)\", data=doctors).fit()\n",
    "lm3.params"
   ]
  },
  {
   "cell_type": "code",
   "execution_count": 7,
   "id": "0d387c44-e840-4c8f-bd8e-8683321558a5",
   "metadata": {},
   "outputs": [
    {
     "data": {
      "text/plain": [
       "array([[1., 0.],\n",
       "       [1., 1.],\n",
       "       [1., 1.],\n",
       "       [1., 1.],\n",
       "       [1., 0.]])"
      ]
     },
     "execution_count": 7,
     "metadata": {},
     "output_type": "execute_result"
    }
   ],
   "source": [
    "dmatrix(\"C(loc)\", doctors)[0:5]"
   ]
  },
  {
   "cell_type": "code",
   "execution_count": null,
   "id": "fabc0640-55a1-4070-a6d8-141a13be4c79",
   "metadata": {},
   "outputs": [],
   "source": []
  },
  {
   "cell_type": "markdown",
   "id": "1ea2698a-3fb1-4e24-bd91-ad8dac684d92",
   "metadata": {},
   "source": [
    "## Dummy coding for categorical predictors"
   ]
  },
  {
   "cell_type": "code",
   "execution_count": 8,
   "id": "2798634d-f280-4f96-861c-b5bef2df8ffd",
   "metadata": {},
   "outputs": [
    {
     "data": {
      "text/html": [
       "<div>\n",
       "<style scoped>\n",
       "    .dataframe tbody tr th:only-of-type {\n",
       "        vertical-align: middle;\n",
       "    }\n",
       "\n",
       "    .dataframe tbody tr th {\n",
       "        vertical-align: top;\n",
       "    }\n",
       "\n",
       "    .dataframe thead th {\n",
       "        text-align: right;\n",
       "    }\n",
       "</style>\n",
       "<table border=\"1\" class=\"dataframe\">\n",
       "  <thead>\n",
       "    <tr style=\"text-align: right;\">\n",
       "      <th></th>\n",
       "      <th>group</th>\n",
       "    </tr>\n",
       "  </thead>\n",
       "  <tbody>\n",
       "    <tr>\n",
       "      <th>0</th>\n",
       "      <td>A</td>\n",
       "    </tr>\n",
       "    <tr>\n",
       "      <th>1</th>\n",
       "      <td>B</td>\n",
       "    </tr>\n",
       "    <tr>\n",
       "      <th>2</th>\n",
       "      <td>A</td>\n",
       "    </tr>\n",
       "    <tr>\n",
       "      <th>3</th>\n",
       "      <td>C</td>\n",
       "    </tr>\n",
       "    <tr>\n",
       "      <th>4</th>\n",
       "      <td>C</td>\n",
       "    </tr>\n",
       "    <tr>\n",
       "      <th>5</th>\n",
       "      <td>B</td>\n",
       "    </tr>\n",
       "  </tbody>\n",
       "</table>\n",
       "</div>"
      ],
      "text/plain": [
       "  group\n",
       "0     A\n",
       "1     B\n",
       "2     A\n",
       "3     C\n",
       "4     C\n",
       "5     B"
      ]
     },
     "execution_count": 8,
     "metadata": {},
     "output_type": "execute_result"
    }
   ],
   "source": [
    "groups = [\"A\", \"B\", \"A\", \"C\", \"C\", \"B\"]\n",
    "df = pd.DataFrame({\"group\":groups})\n",
    "df"
   ]
  },
  {
   "cell_type": "code",
   "execution_count": 9,
   "id": "5c716800-6ba1-4c12-8de6-b6ca79479632",
   "metadata": {},
   "outputs": [
    {
     "data": {
      "text/plain": [
       "DesignMatrix with shape (6, 3)\n",
       "  Intercept  C(group)[T.B]  C(group)[T.C]\n",
       "          1              0              0\n",
       "          1              1              0\n",
       "          1              0              0\n",
       "          1              0              1\n",
       "          1              0              1\n",
       "          1              1              0\n",
       "  Terms:\n",
       "    'Intercept' (column 0)\n",
       "    'C(group)' (columns 1:3)"
      ]
     },
     "execution_count": 9,
     "metadata": {},
     "output_type": "execute_result"
    }
   ],
   "source": [
    "dmatrix(\"C(group)\", df)"
   ]
  },
  {
   "cell_type": "code",
   "execution_count": null,
   "id": "16391b6d-8faf-4b15-84c5-d224e009702b",
   "metadata": {},
   "outputs": [],
   "source": []
  },
  {
   "cell_type": "markdown",
   "id": "fd88cc7e-42e0-40f5-b702-ff955d8885ac",
   "metadata": {},
   "source": [
    "## Example 2: predictors with three levels"
   ]
  },
  {
   "cell_type": "code",
   "execution_count": 10,
   "id": "cb4cf820-e779-459e-a845-54a723837933",
   "metadata": {},
   "outputs": [
    {
     "data": {
      "text/plain": [
       "Intercept         46.545455\n",
       "C(work)[T.eld]     4.569930\n",
       "C(work)[T.hos]     2.668831\n",
       "dtype: float64"
      ]
     },
     "execution_count": 10,
     "metadata": {},
     "output_type": "execute_result"
    }
   ],
   "source": [
    "lm4 = smf.ols(\"score ~ C(work)\", data=doctors).fit()\n",
    "lm4.params"
   ]
  },
  {
   "cell_type": "code",
   "execution_count": 11,
   "id": "0c335837-4b59-4f9f-bd76-4ebba97fa916",
   "metadata": {},
   "outputs": [
    {
     "data": {
      "text/plain": [
       "(0.007721762574919189, 0.5953116925291042, 0.5526627461285702)"
      ]
     },
     "execution_count": 11,
     "metadata": {},
     "output_type": "execute_result"
    }
   ],
   "source": [
    "lm4.rsquared, lm4.fvalue, lm4.f_pvalue"
   ]
  },
  {
   "cell_type": "code",
   "execution_count": 12,
   "id": "990c883b-96e1-423b-903a-c8f8fc72415d",
   "metadata": {},
   "outputs": [
    {
     "data": {
      "text/plain": [
       "0    hos\n",
       "1    cli\n",
       "2    hos\n",
       "3    eld\n",
       "4    cli\n",
       "5    cli\n",
       "6    hos\n",
       "Name: work, dtype: object"
      ]
     },
     "execution_count": 12,
     "metadata": {},
     "output_type": "execute_result"
    }
   ],
   "source": [
    "doctors[\"work\"].head(7)"
   ]
  },
  {
   "cell_type": "code",
   "execution_count": 13,
   "id": "0ac1b4c5-3a5a-4d33-ae79-661544f73bf1",
   "metadata": {},
   "outputs": [
    {
     "data": {
      "text/plain": [
       "DesignMatrix with shape (156, 3)\n",
       "  Intercept  C(work)[T.eld]  C(work)[T.hos]\n",
       "          1               0               1\n",
       "          1               0               0\n",
       "          1               0               1\n",
       "          1               1               0\n",
       "          1               0               0\n",
       "          1               0               0\n",
       "          1               0               1\n",
       "          1               0               0\n",
       "          1               0               0\n",
       "          1               0               1\n",
       "          1               0               0\n",
       "          1               0               0\n",
       "          1               1               0\n",
       "          1               0               1\n",
       "          1               0               0\n",
       "          1               0               0\n",
       "          1               0               0\n",
       "          1               0               0\n",
       "          1               0               1\n",
       "          1               0               0\n",
       "          1               1               0\n",
       "          1               0               1\n",
       "          1               0               0\n",
       "          1               1               0\n",
       "          1               0               1\n",
       "          1               1               0\n",
       "          1               0               1\n",
       "          1               0               0\n",
       "          1               0               1\n",
       "          1               1               0\n",
       "  [126 rows omitted]\n",
       "  Terms:\n",
       "    'Intercept' (column 0)\n",
       "    'C(work)' (columns 1:3)\n",
       "  (to view full data, use np.asarray(this_obj))"
      ]
     },
     "execution_count": 13,
     "metadata": {},
     "output_type": "execute_result"
    }
   ],
   "source": [
    "dmatrix(\"C(work)\", doctors)"
   ]
  },
  {
   "cell_type": "code",
   "execution_count": null,
   "id": "8756c0e5-b667-43ab-8a4b-3a61f6961380",
   "metadata": {},
   "outputs": [],
   "source": []
  },
  {
   "cell_type": "markdown",
   "id": "4d0382a6-0da5-422a-95a1-f3b5a2919d3a",
   "metadata": {},
   "source": [
    "## Example 3: mix of numerical and categorical predictors"
   ]
  },
  {
   "cell_type": "code",
   "execution_count": 14,
   "id": "d31a52b9-c562-471e-afd5-157100f68511",
   "metadata": {},
   "outputs": [
    {
     "data": {
      "text/plain": [
       "Intercept         62.933582\n",
       "C(loc)[T.urb]     -5.399745\n",
       "C(work)[T.eld]     2.956527\n",
       "C(work)[T.hos]     1.456601\n",
       "alc               -1.776628\n",
       "weed              -0.863727\n",
       "exrc               1.780325\n",
       "dtype: float64"
      ]
     },
     "execution_count": 14,
     "metadata": {},
     "output_type": "execute_result"
    }
   ],
   "source": [
    "lm5 = smf.ols(\"score ~ C(loc) + C(work) + alc + weed + exrc\", data=doctors).fit()\n",
    "lm5.params"
   ]
  },
  {
   "cell_type": "code",
   "execution_count": null,
   "id": "dddd0ee1-d24a-4bc5-a914-b863e9d385b2",
   "metadata": {},
   "outputs": [],
   "source": []
  },
  {
   "cell_type": "code",
   "execution_count": 15,
   "id": "0acda7d3-6549-4fb9-a9c3-ab267ab4f012",
   "metadata": {},
   "outputs": [
    {
     "data": {
      "text/plain": [
       "{'jb': 2.3215538201646178,\n",
       " 'jbpv': 0.3132427248919656,\n",
       " 'skew': 0.23209278641160938,\n",
       " 'kurtosis': 3.3764224756333663,\n",
       " 'omni': 2.7903807171543233,\n",
       " 'omnipv': 0.24778586371305433,\n",
       " 'condno': 50.507630925076725,\n",
       " 'mineigval': 15.37535445319753}"
      ]
     },
     "execution_count": 15,
     "metadata": {},
     "output_type": "execute_result"
    }
   ],
   "source": [
    "lm5.summary()\n",
    "lm5.diagn"
   ]
  },
  {
   "cell_type": "markdown",
   "id": "95b7a0a9-7643-45f5-9a33-29d5ab6e362e",
   "metadata": {},
   "source": [
    "## Everything is a linear model"
   ]
  },
  {
   "cell_type": "markdown",
   "id": "8aa4e35f-2009-40fa-89fb-6f3ae00ab848",
   "metadata": {},
   "source": [
    "### One-sample t-test as a linear model"
   ]
  },
  {
   "cell_type": "code",
   "execution_count": 16,
   "id": "8536c7bd-f234-4b19-a919-dbc5eeca9baa",
   "metadata": {},
   "outputs": [
    {
     "data": {
      "text/plain": [
       "TtestResult(statistic=3.087703149420272, pvalue=0.0037056653503329618, df=39)"
      ]
     },
     "execution_count": 16,
     "metadata": {},
     "output_type": "execute_result"
    }
   ],
   "source": [
    "from scipy.stats import ttest_1samp\n",
    "\n",
    "kombucha = pd.read_csv(\"../datasets/kombucha.csv\")\n",
    "ksample04 = kombucha[kombucha[\"batch\"]==4][\"volume\"]\n",
    "\n",
    "ttest_1samp(ksample04, popmean=1000)"
   ]
  },
  {
   "cell_type": "code",
   "execution_count": 17,
   "id": "d5beedf4-d9e0-4f85-98a7-5aa6b255d153",
   "metadata": {},
   "outputs": [
    {
     "data": {
      "text/plain": [
       "(3.0877031494203044, 0.003705665350332633, 39.0)"
      ]
     },
     "execution_count": 17,
     "metadata": {},
     "output_type": "execute_result"
    }
   ],
   "source": [
    "# Prepare zero-centered data (volume - 1000)\n",
    "kdat04 = pd.DataFrame()\n",
    "kdat04[\"zcvolume\"] = ksample04 - 1000\n",
    "\n",
    "# linear model with only an intercept\n",
    "lmk = smf.ols(\"zcvolume ~ 1\", data=kdat04).fit()\n",
    "lmk.tvalues[0], lmk.pvalues[0], lmk.df_resid\n",
    "#######################################################"
   ]
  },
  {
   "cell_type": "code",
   "execution_count": null,
   "id": "918356fd-05f7-4b5a-80c4-e82b1468ccdf",
   "metadata": {},
   "outputs": [],
   "source": []
  },
  {
   "cell_type": "markdown",
   "id": "8e5fb56b-1b04-4fc7-ac61-ed71a5457b10",
   "metadata": {},
   "source": [
    "### Two-sample t-test as a linear model"
   ]
  },
  {
   "cell_type": "markdown",
   "id": "a04f9761-95a7-4a96-b89d-fdcb381002dd",
   "metadata": {},
   "source": [
    "#### East vs. West electricity prices"
   ]
  },
  {
   "cell_type": "code",
   "execution_count": 18,
   "id": "d9e1d86e-278e-4020-801d-17c99dd5fbc7",
   "metadata": {},
   "outputs": [
    {
     "data": {
      "text/plain": [
       "(5.022875513276465, 0.00012497067987678488)"
      ]
     },
     "execution_count": 18,
     "metadata": {},
     "output_type": "execute_result"
    }
   ],
   "source": [
    "from scipy.stats import ttest_ind\n",
    "\n",
    "eprices = pd.read_csv(\"../datasets/eprices.csv\")\n",
    "pricesW = eprices[eprices[\"loc\"]==\"West\"][\"price\"]\n",
    "pricesE = eprices[eprices[\"loc\"]==\"East\"][\"price\"]\n",
    "tstat, pval = ttest_ind(pricesW,pricesE,equal_var=True)\n",
    "tstat, pval"
   ]
  },
  {
   "cell_type": "code",
   "execution_count": 19,
   "id": "b2eb6e57-9938-4caa-a21f-03eb51ea8053",
   "metadata": {},
   "outputs": [
    {
     "data": {
      "text/plain": [
       "(5.02287551327646, 0.00012497067987678602)"
      ]
     },
     "execution_count": 19,
     "metadata": {},
     "output_type": "execute_result"
    }
   ],
   "source": [
    "lme = smf.ols(\"price ~ C(loc)\", data=eprices).fit()\n",
    "lme.tvalues[1], lme.pvalues[1]"
   ]
  },
  {
   "cell_type": "code",
   "execution_count": 37,
   "id": "47312033-6f11-476b-8da8-8f5104c2b22b",
   "metadata": {},
   "outputs": [
    {
     "data": {
      "image/png": "[encoded data removed]",
      "text/plain": [
       "<Figure size 500x300 with 1 Axes>"
      ]
     },
     "metadata": {
      "image/png": {
       "height": 293,
       "width": 450
      }
     },
     "output_type": "display_data"
    }
   ],
   "source": [
    "with plt.rc_context({\"figure.figsize\":(5,3)}):\n",
    "    sns.stripplot(data=eprices, x=\"loc\", y=\"price\", hue=\"loc\", jitter=0, alpha=0.3)\n",
    "    sns.pointplot(data=eprices, x=\"loc\", y=\"price\", hue=\"loc\", estimator=\"mean\",\n",
    "                  errorbar=None, marker=\"D\")"
   ]
  },
  {
   "cell_type": "markdown",
   "id": "0a1f56d5-a6cf-4d45-a6bd-0590eb9f3bc7",
   "metadata": {},
   "source": [
    "#### Urban vs. Rural doctors"
   ]
  },
  {
   "cell_type": "code",
   "execution_count": 24,
   "id": "4e39e263-864a-4a13-ac26-82399ca300bc",
   "metadata": {},
   "outputs": [
    {
     "data": {
      "text/plain": [
       "(-1.9657612140164198, 0.05112460353979369)"
      ]
     },
     "execution_count": 24,
     "metadata": {},
     "output_type": "execute_result"
    }
   ],
   "source": [
    "from scipy.stats import ttest_ind\n",
    "\n",
    "scoresR = doctors[doctors[\"loc\"]==\"rur\"][\"score\"]\n",
    "scoresU = doctors[doctors[\"loc\"]==\"urb\"][\"score\"]\n",
    "\n",
    "tstat, pval = ttest_ind(scoresU, scoresR, equal_var=True)\n",
    "tstat, pval"
   ]
  },
  {
   "cell_type": "code",
   "execution_count": 21,
   "id": "90438cea-92e3-4812-9fc6-42d3e5cc8e48",
   "metadata": {},
   "outputs": [
    {
     "data": {
      "text/plain": [
       "(-1.9657612140164218, 0.051124603539793465)"
      ]
     },
     "execution_count": 21,
     "metadata": {},
     "output_type": "execute_result"
    }
   ],
   "source": [
    "lm3 = smf.ols(\"score ~ C(loc)\", data=doctors).fit()\n",
    "lm3.tvalues[1], lm3.pvalues[1]"
   ]
  },
  {
   "cell_type": "code",
   "execution_count": 35,
   "id": "a95eef1d-22cf-4386-983d-f06d06a09a5f",
   "metadata": {},
   "outputs": [
    {
     "data": {
      "image/png": "[encoded data removed]",
      "text/plain": [
       "<Figure size 500x300 with 1 Axes>"
      ]
     },
     "metadata": {
      "image/png": {
       "height": 294,
       "width": 456
      }
     },
     "output_type": "display_data"
    }
   ],
   "source": [
    "with plt.rc_context({\"figure.figsize\":(5,3)}):\n",
    "    sns.stripplot(data=doctors, x=\"loc\", y=\"score\", hue=\"loc\", jitter=0, alpha=0.3)\n",
    "    sns.pointplot(data=doctors, x=\"loc\", y=\"score\", hue=\"loc\", estimator=\"mean\",\n",
    "                  errorbar=None, marker=\"D\")"
   ]
  },
  {
   "cell_type": "markdown",
   "id": "35d57c02-b45e-4be2-9f0b-34b187ced78f",
   "metadata": {},
   "source": [
    "### One-way ANOVA as a linear model"
   ]
  },
  {
   "cell_type": "code",
   "execution_count": 22,
   "id": "f1d97ed0-ade1-43b4-bcdc-4cc0bc20d6b5",
   "metadata": {},
   "outputs": [
    {
     "data": {
      "text/plain": [
       "F_onewayResult(statistic=0.5953116925291182, pvalue=0.5526627461285608)"
      ]
     },
     "execution_count": 22,
     "metadata": {},
     "output_type": "execute_result"
    }
   ],
   "source": [
    "from scipy.stats import f_oneway\n",
    "\n",
    "scoresH = doctors[doctors[\"work\"]==\"hos\"][\"score\"]\n",
    "scoresC = doctors[doctors[\"work\"]==\"cli\"][\"score\"]\n",
    "scoresE = doctors[doctors[\"work\"]==\"eld\"][\"score\"]\n",
    "\n",
    "f_oneway(scoresH, scoresC, scoresE)"
   ]
  },
  {
   "cell_type": "code",
   "execution_count": 23,
   "id": "9f36e42f-2c0b-4004-8010-14c195da9428",
   "metadata": {},
   "outputs": [
    {
     "data": {
      "text/plain": [
       "(0.5953116925291042, 0.5526627461285702)"
      ]
     },
     "execution_count": 23,
     "metadata": {},
     "output_type": "execute_result"
    }
   ],
   "source": [
    "lm4 = smf.ols(\"score ~ C(work)\", data=doctors).fit()\n",
    "lm4.fvalue, lm4.f_pvalue"
   ]
  },
  {
   "cell_type": "code",
   "execution_count": null,
   "id": "e28c786e-10b8-46b0-b5a9-3f2643e00dc4",
   "metadata": {},
   "outputs": [],
   "source": []
  },
  {
   "cell_type": "markdown",
   "id": "8a87c545-6d42-4d74-bd80-181ea11bb8bf",
   "metadata": {},
   "source": [
    "## Explanations"
   ]
  },
  {
   "cell_type": "code",
   "execution_count": null,
   "id": "d8bcad13-bec2-4b5b-9948-b9f04e66114f",
   "metadata": {},
   "outputs": [],
   "source": []
  },
  {
   "cell_type": "markdown",
   "id": "3344c852-4447-4198-8066-4fc7aa2f7ade",
   "metadata": {},
   "source": [
    "## Discussion"
   ]
  },
  {
   "cell_type": "code",
   "execution_count": null,
   "id": "ddcc6e09-b005-4d0c-9904-9e3bc2744103",
   "metadata": {},
   "outputs": [],
   "source": []
  },
  {
   "cell_type": "markdown",
   "id": "d914c900-3034-4c76-88b2-a8e87463e0b6",
   "metadata": {},
   "source": [
    "## Exercises"
   ]
  },
  {
   "cell_type": "code",
   "execution_count": null,
   "id": "16923be2-98af-4c68-b971-04310ced50f7",
   "metadata": {},
   "outputs": [],
   "source": []
  },
  {
   "cell_type": "markdown",
   "id": "43985137-9b84-4846-8ae9-0c40ae939f78",
   "metadata": {},
   "source": [
    "## Links"
   ]
  },
  {
   "cell_type": "code",
   "execution_count": null,
   "id": "1fbc0de1-619f-4caf-8b3c-4dc74d5acbd8",
   "metadata": {},
   "outputs": [],
   "source": []
  }
 ],
 "metadata": {
  "kernelspec": {
   "display_name": "Python 3 (ipykernel)",
   "language": "python",
   "name": "python3"
  },
  "language_info": {
   "codemirror_mode": {
    "name": "ipython",
    "version": 3
   },
   "file_extension": ".py",
   "mimetype": "text/x-python",
   "name": "python",
   "nbconvert_exporter": "python",
   "pygments_lexer": "ipython3",
   "version": "3.9.4"
  }
 },
 "nbformat": 4,
 "nbformat_minor": 5
}
