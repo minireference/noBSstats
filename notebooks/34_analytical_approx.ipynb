{
 "cells": [
  {
   "cell_type": "markdown",
   "id": "30a5a5f4-0b65-4591-aa62-c70bb80aeeab",
   "metadata": {
    "tags": []
   },
   "source": [
    "# Section 3.4 — Hypothesis testing using analytical approximations\n",
    "\n",
    "This notebook contains the code examples from [Section 3.4 Hypothesis testing using analytical approximations]() of the **No Bullshit Guide to Statistics**."
   ]
  },
  {
   "cell_type": "markdown",
   "id": "5e07acb5-a496-4350-9bc3-8284464ee445",
   "metadata": {
    "tags": []
   },
   "source": [
    "#### Notebook setup"
   ]
  },
  {
   "cell_type": "code",
   "execution_count": 71,
   "id": "b58d5072-3fea-47a6-b7b7-e10547f56aca",
   "metadata": {},
   "outputs": [],
   "source": [
    "# load Python modules\n",
    "import os\n",
    "import numpy as np\n",
    "import pandas as pd\n",
    "import seaborn as sns\n",
    "import matplotlib.pyplot as plt"
   ]
  },
  {
   "cell_type": "code",
   "execution_count": 72,
   "id": "7c60d47d-273b-414d-84a7-5cabdb05b873",
   "metadata": {},
   "outputs": [],
   "source": [
    "# Plot helper functions\n",
    "from plot_helpers import nicebins\n",
    "from plot_helpers import plot_pdf\n",
    "from plot_helpers import savefigure\n"
   ]
  },
  {
   "cell_type": "code",
   "execution_count": 73,
   "id": "fc01b8b7-219c-455f-a346-ccbad01434a8",
   "metadata": {},
   "outputs": [
    {
     "data": {
      "text/plain": [
       "<Figure size 500x160 with 0 Axes>"
      ]
     },
     "metadata": {},
     "output_type": "display_data"
    }
   ],
   "source": [
    "# Figures setup\n",
    "plt.clf()  # needed otherwise `sns.set_theme` doesn't work\n",
    "from plot_helpers import RCPARAMS\n",
    "# RCPARAMS.update({'figure.figsize': (10, 3)})   # good for screen\n",
    "RCPARAMS.update({'figure.figsize': (5, 1.6)})  # good for print\n",
    "sns.set_theme(\n",
    "    context=\"paper\",\n",
    "    style=\"whitegrid\",\n",
    "    palette=\"colorblind\",\n",
    "    rc=RCPARAMS,\n",
    ")\n",
    "\n",
    "# Useful colors\n",
    "snspal = sns.color_palette()\n",
    "blue, orange, purple = snspal[0], snspal[1], snspal[4]\n",
    "# red = sns.color_palette(\"tab10\")[3]\n",
    "\n",
    "# High-resolution please\n",
    "%config InlineBackend.figure_format = 'retina'\n",
    "\n",
    "# Where to store figures\n",
    "DESTDIR = \"figures/stats/intro_to_NHST\""
   ]
  },
  {
   "cell_type": "code",
   "execution_count": 74,
   "id": "67af6911-1abe-47c1-83d0-cd91a21f53ee",
   "metadata": {},
   "outputs": [],
   "source": [
    "# set random seed for repeatability\n",
    "np.random.seed(42)"
   ]
  },
  {
   "cell_type": "markdown",
   "id": "ba19dd3c-b27a-443e-91de-ee637635ab92",
   "metadata": {},
   "source": [
    "$\\def\\stderr#1{\\mathbf{se}_{#1}}$\n",
    "$\\def\\stderrhat#1{\\hat{\\mathbf{se}}_{#1}}$\n",
    "$\\newcommand{\\Mean}{\\textbf{Mean}}$\n",
    "$\\newcommand{\\Var}{\\textbf{Var}}$\n",
    "$\\newcommand{\\Std}{\\textbf{Std}}$\n",
    "$\\newcommand{\\Freq}{\\textbf{Freq}}$\n",
    "$\\newcommand{\\RelFreq}{\\textbf{RelFreq}}$\n",
    "$\\newcommand{\\DMeans}{\\textbf{DMeans}}$\n",
    "$\\newcommand{\\Prop}{\\textbf{Prop}}$\n",
    "$\\newcommand{\\DProps}{\\textbf{DProps}}$\n",
    "\n",
    "$$\n",
    "\\newcommand{\\CI}[1]{\\textbf{CI}_{#1}}\n",
    "\\newcommand{\\CIL}[1]{\\textbf{L}_{#1}}\n",
    "\\newcommand{\\CIU}[1]{\\textbf{U}_{#1}}\n",
    "\\newcommand{\\ci}[1]{\\textbf{ci}_{#1}}\n",
    "\\newcommand{\\cil}[1]{\\textbf{l}_{#1}}\n",
    "\\newcommand{\\ciu}[1]{\\textbf{u}_{#1}}\n",
    "$$\n",
    "\n",
    "\n",
    "(this cell contains the macro definitions like $\\stderr{\\overline{\\mathbf{x}}}$, $\\stderrhat{}$, $\\Mean$, ...)"
   ]
  },
  {
   "cell_type": "markdown",
   "id": "7b4a377c-a39a-4826-a3d5-010b8d733150",
   "metadata": {},
   "source": [
    "## Definitions\n",
    "\n",
    "- test statistic\n",
    "\n",
    "- sampling distribution of the test statistic\n",
    "\n",
    "- pivotal transformation\n",
    "\n",
    "- reference distributions\n",
    "\n"
   ]
  },
  {
   "cell_type": "code",
   "execution_count": 75,
   "id": "e3af2500-ae30-4e4b-bccb-9bf9fdfb747b",
   "metadata": {},
   "outputs": [],
   "source": [
    "def mean(sample):\n",
    "    return sum(sample) / len(sample)\n",
    "\n",
    "def var(sample):\n",
    "    xbar = mean(sample)\n",
    "    sumsqdevs = sum([(xi-xbar)**2 for xi in sample])\n",
    "    return sumsqdevs / (len(sample)-1)\n",
    "\n",
    "def std(sample):\n",
    "    s2 = var(sample)\n",
    "    return np.sqrt(s2)"
   ]
  },
  {
   "cell_type": "markdown",
   "id": "074ef566-a496-47a6-af17-2d1914a90c47",
   "metadata": {},
   "source": [
    "## Formulas"
   ]
  },
  {
   "cell_type": "markdown",
   "id": "19caadcf-baf0-46d4-b505-fa0bbd2a5489",
   "metadata": {},
   "source": [
    "### Selecting the tails of a probability distribution"
   ]
  },
  {
   "cell_type": "code",
   "execution_count": 76,
   "id": "c481068b-6800-4d69-9bec-eb33dcb4d4b2",
   "metadata": {},
   "outputs": [],
   "source": [
    "# CUTTABLE"
   ]
  },
  {
   "cell_type": "code",
   "execution_count": 77,
   "id": "e8c94750-b05c-4c76-aa3b-6181c6fb5af2",
   "metadata": {},
   "outputs": [],
   "source": [
    "def tailprobs(rv, obs, alt=\"two-sided\"):\n",
    "    \"\"\"\n",
    "    Calculate the probability of all outcomes of the random variable `rv`\n",
    "    that are equal or more extreme than the observed value `obs`.\n",
    "    \"\"\"\n",
    "    if alt == \"greater\":\n",
    "        pvalue = 1 - rv.cdf(obs)\n",
    "    elif alt == \"less\":\n",
    "        pvalue = rv.cdf(obs)\n",
    "    elif alt == \"two-sided\":\n",
    "        mean = rv.mean()\n",
    "        dev = abs(obs - mean)\n",
    "        pleft = rv.cdf(mean - dev)\n",
    "        pright = 1 - rv.cdf(mean + dev)\n",
    "        pvalue = 2 * min(pleft, pright)\n",
    "    return pvalue"
   ]
  },
  {
   "cell_type": "markdown",
   "id": "25005772-9c54-4134-aad1-b5ca8abe70ad",
   "metadata": {},
   "source": [
    "#### Right tail $p$-value calculation"
   ]
  },
  {
   "cell_type": "code",
   "execution_count": 78,
   "id": "92d3d48b-df52-484d-8a6a-eb8a03940867",
   "metadata": {},
   "outputs": [
    {
     "data": {
      "text/plain": [
       "0.02275013194817921"
      ]
     },
     "execution_count": 78,
     "metadata": {},
     "output_type": "execute_result"
    }
   ],
   "source": [
    "from scipy.stats import norm\n",
    "rvZ = norm(0,1)\n",
    "\n",
    "tailprobs(rvZ, 2, alt=\"greater\")"
   ]
  },
  {
   "cell_type": "code",
   "execution_count": 79,
   "id": "bd7d4eb2-d6a3-4515-9399-f87155d0922f",
   "metadata": {},
   "outputs": [
    {
     "data": {
      "text/plain": [
       "0.02275013194817921"
      ]
     },
     "execution_count": 79,
     "metadata": {},
     "output_type": "execute_result"
    }
   ],
   "source": [
    "1 - rvZ.cdf(2)"
   ]
  },
  {
   "cell_type": "code",
   "execution_count": 80,
   "id": "cd0c0ca4-244c-4de9-a357-2d393992fdd6",
   "metadata": {},
   "outputs": [
    {
     "data": {
      "text/plain": [
       "0.02275013194817598"
      ]
     },
     "execution_count": 80,
     "metadata": {},
     "output_type": "execute_result"
    }
   ],
   "source": [
    "from scipy.integrate import quad\n",
    "quad(rvZ.pdf, 2, np.infty)[0]"
   ]
  },
  {
   "cell_type": "markdown",
   "id": "3a33b92b-1fca-4bf4-a315-ecaaf78e627e",
   "metadata": {},
   "source": [
    "#### Two-sided $p$-value calculation"
   ]
  },
  {
   "cell_type": "code",
   "execution_count": 81,
   "id": "4306d2d1-0c37-4bf9-a31b-22ba409b6337",
   "metadata": {},
   "outputs": [
    {
     "data": {
      "text/plain": [
       "0.04550026389635839"
      ]
     },
     "execution_count": 81,
     "metadata": {},
     "output_type": "execute_result"
    }
   ],
   "source": [
    "from scipy.stats import norm\n",
    "rvZ = norm(0,1)\n",
    "\n",
    "tailprobs(rvZ, 2)"
   ]
  },
  {
   "cell_type": "code",
   "execution_count": 82,
   "id": "86d269f4-6b6a-4aba-a586-8165fdc2a201",
   "metadata": {},
   "outputs": [
    {
     "data": {
      "text/plain": [
       "0.0455002638963584"
      ]
     },
     "execution_count": 82,
     "metadata": {},
     "output_type": "execute_result"
    }
   ],
   "source": [
    "# left tail       # right tail\n",
    "rvZ.cdf(-2)   +   (1 - rvZ.cdf(2))"
   ]
  },
  {
   "cell_type": "markdown",
   "id": "ca66441e-2925-456c-9db3-8f1476d9bc95",
   "metadata": {},
   "source": [
    "(CUTTABLE) Note the function `tailprobs` computes the answer the question \"values of `rv` that deviate from the mean as much as `obs` or more,\" which we can illustrate with \"two standard deviations away from the mean\" calculations when the sampling distribution is a normal centred at 3."
   ]
  },
  {
   "cell_type": "code",
   "execution_count": 83,
   "id": "425002df-bfed-4ce8-95fe-bb5eeb26095c",
   "metadata": {},
   "outputs": [
    {
     "data": {
      "text/plain": [
       "0.04550026389635839"
      ]
     },
     "execution_count": 83,
     "metadata": {},
     "output_type": "execute_result"
    }
   ],
   "source": [
    "rvZ3 = norm(3, 1)\n",
    "\n",
    "tailprobs(rvZ3, 3+2)"
   ]
  },
  {
   "cell_type": "code",
   "execution_count": 84,
   "id": "a8cf6d5a-a932-41f9-a96d-626e35faf529",
   "metadata": {},
   "outputs": [],
   "source": [
    "# /CUTTABLE\n"
   ]
  },
  {
   "cell_type": "markdown",
   "id": "75f4b0c5-96f0-40cb-a733-e44df4fbae5d",
   "metadata": {
    "tags": []
   },
   "source": []
  },
  {
   "cell_type": "code",
   "execution_count": 85,
   "id": "2fe43c93-9ac1-4990-bc00-8b4e664bd4b2",
   "metadata": {},
   "outputs": [
    {
     "name": "stdout",
     "output_type": "stream",
     "text": [
      "Saved figure to figures/stats/intro_to_NHST/panel_p-values_z_left_twotailed_right_tests.pdf\n",
      "Saved figure to figures/stats/intro_to_NHST/panel_p-values_z_left_twotailed_right_tests.png\n"
     ]
    },
    {
     "data": {
      "image/png": "[encoded data removed]",
      "text/plain": [
       "<Figure size 700x200 with 3 Axes>"
      ]
     },
     "metadata": {
      "image/png": {
       "height": 187,
       "width": 691
      }
     },
     "output_type": "display_data"
    }
   ],
   "source": [
    "# FIGURES ONLY\n",
    "filename = os.path.join(DESTDIR, \"panel_p-values_z_left_twotailed_right_tests.pdf\")\n",
    "    \n",
    "from scipy.stats import t as tdist\n",
    "rvT = tdist(9)\n",
    "\n",
    "xs = np.linspace(-4, 4, 1000)\n",
    "ys = rvT.pdf(xs)\n",
    "\n",
    "with plt.rc_context({\"figure.figsize\":(7,2)}), sns.axes_style(\"ticks\"):\n",
    "    fig, (ax3, ax1, ax2) = plt.subplots(1,3)\n",
    "\n",
    "    # RIGHT\n",
    "    title = '(a) right-tailed test'\n",
    "    ax3.set_title(title, fontsize=13)#, y=-0.26)\n",
    "    sns.lineplot(x=xs, y=ys, ax=ax3)\n",
    "    ax3.set_xlim(-4, 4)\n",
    "    ax3.set_ylim(0, 0.42)\n",
    "    ax3.set_xticks([2])\n",
    "    ax3.set_xticklabels([])\n",
    "    ax3.set_yticks([])\n",
    "\n",
    "    # highlight the right tail\n",
    "    mask = (xs > 2)\n",
    "    ax3.fill_between(xs[mask], y1=ys[mask], alpha=0.6, facecolor=\"red\")\n",
    "    ax3.text(2, -0.03, \"$z$\", va=\"top\", ha=\"center\")\n",
    "\n",
    "\n",
    "    # LEFT\n",
    "    title = '(b) left-tailed test'\n",
    "    ax1.set_title(title, fontsize=13) #, y=-0.26)\n",
    "    sns.lineplot(x=xs, y=ys, ax=ax1)\n",
    "    ax1.set_xlim(-4, 4)\n",
    "    ax1.set_ylim(0, 0.42)\n",
    "    ax1.set_xticks([-2])\n",
    "    ax1.set_xticklabels([])\n",
    "    ax1.set_yticks([])\n",
    "\n",
    "    # highlight the left tail\n",
    "    mask = (xs < -2)\n",
    "    ax1.fill_between(xs[mask], y1=ys[mask], alpha=0.6, facecolor=\"red\")\n",
    "    ax1.text(-2, -0.03, r\"$z$\", va=\"top\", ha=\"center\")\n",
    "\n",
    "\n",
    "\n",
    "    # TWO-TAILED\n",
    "    title = '(c) two-tailed test'\n",
    "    ax2.set_title(title, fontsize=13)#, y=-0.26)\n",
    "    sns.lineplot(x=xs, y=ys, ax=ax2)\n",
    "    ax2.set_xlim(-4, 4)\n",
    "    ax2.set_ylim(0, 0.42)\n",
    "    ax2.set_xticks([-2,2])\n",
    "    ax2.set_xticklabels([])\n",
    "    ax2.set_yticks([])\n",
    "\n",
    "    # highlight the left and right tails\n",
    "    mask = (xs < -2)\n",
    "    ax2.fill_between(xs[mask], y1=ys[mask], alpha=0.6, facecolor=\"red\")\n",
    "    ax2.text(-2, -0.03, r\"$-|z|$\", va=\"top\", ha=\"center\")\n",
    "    mask = (xs > 2)\n",
    "    ax2.fill_between(xs[mask], y1=ys[mask], alpha=0.6, facecolor=\"red\")\n",
    "    ax2.text(2, -0.03, r\"$|z|$\", va=\"top\", ha=\"center\")\n",
    "\n",
    "savefigure(fig, filename)"
   ]
  },
  {
   "cell_type": "code",
   "execution_count": null,
   "id": "05044f33-e880-49b7-90ce-25604bc2e954",
   "metadata": {},
   "outputs": [],
   "source": []
  },
  {
   "cell_type": "markdown",
   "id": "333605f4-6390-41f7-9235-d144349dc8e6",
   "metadata": {},
   "source": [
    "## Test for the sample mean (known variance)"
   ]
  },
  {
   "cell_type": "markdown",
   "id": "a7b53c6c-224f-44a3-8dd8-7094ce7fc55c",
   "metadata": {},
   "source": [
    "### Analytical approximation for the sample mean\n",
    "\n",
    "If the theoretical distribution under the null is normally distributed $X_0 \\sim \\mathcal{N}(\\mu_{X_0}, \\sigma_{X_0})$,\n",
    "then the central limit theorem tells us the sampling distribution of the mean\n",
    "is described by the formula\n",
    "  \n",
    "$$\n",
    "    \\overline{\\mathbf{X}}_0 \\sim \\mathcal{N}(\\mu_{X_0}, \\frac{\\sigma_{X_0}}{\\sqrt{n}}).\n",
    "$$"
   ]
  },
  {
   "cell_type": "markdown",
   "id": "f9a9a70d-0263-47f7-9f68-ca92f2593904",
   "metadata": {},
   "source": [
    "#### Kombucha bottling process\n",
    "\n",
    "We'll use the kombucha scenario for all the examples in this section.\n",
    "Recall, the probability distirbution of the kombucha volume is described by\n",
    "the theoretical model $K_0 \\sim \\mathcal{N}(\\mu_{K_0} = 1000, \\sigma_{K_0}=10)$\n",
    "when the production line is working as expected.\n",
    "\n",
    "We can use central limit theorem to obtain the sampling distribution of the mean since the parameters $\\mu_{K_0}$ and $\\sigma_{K_0}$ are known:\n",
    "\n",
    "$$\n",
    "    \\overline{\\mathbf{K}}_0 \\sim \\mathcal{N}(\\mu_{K_0}, \\frac{\\sigma_{K_0}}{\\sqrt{n}}).\n",
    "$$"
   ]
  },
  {
   "cell_type": "code",
   "execution_count": 86,
   "id": "96f0db44-70a3-41a2-9f03-ad1f6a509f2e",
   "metadata": {},
   "outputs": [],
   "source": [
    "# parameters of the theoretical model for the kombucha volumes\n",
    "muK0 = 1000   # population mean (expected kombucha volume)\n",
    "sigmaK0 = 10  # population standard deviation"
   ]
  },
  {
   "cell_type": "markdown",
   "id": "662a459b-8b60-4660-a00c-e25b711cc270",
   "metadata": {},
   "source": [
    "### Example 1N: test for the mean of Batch 04"
   ]
  },
  {
   "cell_type": "code",
   "execution_count": 87,
   "id": "6e9b0245-8f56-4a82-a87f-b285efda57b5",
   "metadata": {},
   "outputs": [
    {
     "data": {
      "text/plain": [
       "40"
      ]
     },
     "execution_count": 87,
     "metadata": {},
     "output_type": "execute_result"
    }
   ],
   "source": [
    "kombucha = pd.read_csv(\"../datasets/kombucha.csv\")\n",
    "batch04 = kombucha[kombucha[\"batch\"]==4]\n",
    "ksample04 = batch04[\"volume\"]\n",
    "# sample size\n",
    "n04 = len(ksample04)\n",
    "n04"
   ]
  },
  {
   "cell_type": "code",
   "execution_count": 88,
   "id": "1e4cc1f2-8e33-42d9-a7f9-e5b4cb5b6ebb",
   "metadata": {},
   "outputs": [
    {
     "data": {
      "text/plain": [
       "1003.8335"
      ]
     },
     "execution_count": 88,
     "metadata": {},
     "output_type": "execute_result"
    }
   ],
   "source": [
    "# observed mean\n",
    "obsmean04 = mean(ksample04)\n",
    "obsmean04"
   ]
  },
  {
   "cell_type": "code",
   "execution_count": 89,
   "id": "fe40948b-5d39-45d7-9082-a5e409d617f3",
   "metadata": {},
   "outputs": [
    {
     "data": {
      "text/plain": [
       "1.5811388300841895"
      ]
     },
     "execution_count": 89,
     "metadata": {},
     "output_type": "execute_result"
    }
   ],
   "source": [
    "# standard error of the mean\n",
    "se04 = sigmaK0 / np.sqrt(n04)\n",
    "se04"
   ]
  },
  {
   "cell_type": "code",
   "execution_count": 90,
   "id": "adb26b7a-6f30-4ab3-9ceb-0917a0ddd215",
   "metadata": {},
   "outputs": [
    {
     "data": {
      "text/plain": [
       "2.42451828205107"
      ]
     },
     "execution_count": 90,
     "metadata": {},
     "output_type": "execute_result"
    }
   ],
   "source": [
    "# compute the z statistic \n",
    "obsz04 = (obsmean04 - muK0) / se04\n",
    "obsz04"
   ]
  },
  {
   "cell_type": "code",
   "execution_count": 91,
   "id": "22fbdb4d-b259-485c-a88b-4b553d0e6822",
   "metadata": {},
   "outputs": [
    {
     "data": {
      "text/plain": [
       "0.015328711497996425"
      ]
     },
     "execution_count": 91,
     "metadata": {},
     "output_type": "execute_result"
    }
   ],
   "source": [
    "from scipy.stats import norm\n",
    "rvZ = norm(0,1)\n",
    "pvalue04 = tailprobs(rvZ, obsz04, alt=\"two-sided\")\n",
    "pvalue04"
   ]
  },
  {
   "cell_type": "code",
   "execution_count": null,
   "id": "de8188e2-6fa5-41b9-88b2-fa2a250d8907",
   "metadata": {},
   "outputs": [],
   "source": []
  },
  {
   "cell_type": "code",
   "execution_count": 92,
   "id": "9325ee6a-96c2-4fc5-9371-4988beecc7fb",
   "metadata": {},
   "outputs": [
    {
     "name": "stdout",
     "output_type": "stream",
     "text": [
      "Saved figure to figures/stats/intro_to_NHST/p-value_tails_kombucha_obsz04.pdf\n",
      "Saved figure to figures/stats/intro_to_NHST/p-value_tails_kombucha_obsz04.png\n"
     ]
    },
    {
     "data": {
      "image/png": "[encoded data removed]",
      "text/plain": [
       "<Figure size 500x160 with 1 Axes>"
      ]
     },
     "metadata": {
      "image/png": {
       "height": 152,
       "width": 489
      }
     },
     "output_type": "display_data"
    }
   ],
   "source": [
    "filename = os.path.join(DESTDIR, \"p-value_tails_kombucha_obsz04.pdf\")\n",
    "from plot_helpers import calc_prob_and_plot_tails\n",
    "_, ax = calc_prob_and_plot_tails(rvZ, -obsz04, obsz04, xlims=[-4,4])\n",
    "ax.set_title(None)\n",
    "ax.set_xlabel(\"$z$\")\n",
    "ax.set_ylabel(\"$f_Z$\")\n",
    "savefigure(ax, filename)"
   ]
  },
  {
   "cell_type": "markdown",
   "id": "6a6b2cb1-72fe-4a26-b127-2623a8321059",
   "metadata": {},
   "source": [
    "#### Alternative calculations\n"
   ]
  },
  {
   "cell_type": "markdown",
   "id": "85ab0cd7-7d3c-4b81-b866-b606b20dbd7e",
   "metadata": {},
   "source": [
    "Using direct evaluation of the cumulative distribution function $F_Z$."
   ]
  },
  {
   "cell_type": "code",
   "execution_count": 93,
   "id": "de514794-c8d7-48b1-a716-6abb093f3df7",
   "metadata": {},
   "outputs": [
    {
     "data": {
      "text/plain": [
       "0.015328711497996476"
      ]
     },
     "execution_count": 93,
     "metadata": {},
     "output_type": "execute_result"
    }
   ],
   "source": [
    "# left tail       +  # right tail \n",
    "rvZ.cdf(-obsz04)  +  (1 - rvZ.cdf(obsz04))"
   ]
  },
  {
   "cell_type": "markdown",
   "id": "c43ff647-7485-435c-a397-64f7e36c4a00",
   "metadata": {},
   "source": [
    "Note also the pivotal transformation to the standard $Z$ is not necessary.\n",
    "We could have obtained the same $p$-value directly from the sampling distribution of the mean,\n",
    "which is described by a non-standard normal distribution:\n",
    "\n",
    "$$\n",
    "  \\overline{\\mathbf{K}}_0 = \\mathcal{N}(\\texttt{loc}=\\mu_{K_0},\\; \\texttt{scale}=\\stderr{\\overline{\\mathbf{k}}_{04},0})\n",
    "$$\n",
    "\n"
   ]
  },
  {
   "cell_type": "code",
   "execution_count": 94,
   "id": "62eea6c8-2170-4a83-9822-573e1689f419",
   "metadata": {},
   "outputs": [
    {
     "data": {
      "text/plain": [
       "0.015328711497996425"
      ]
     },
     "execution_count": 94,
     "metadata": {},
     "output_type": "execute_result"
    }
   ],
   "source": [
    "from scipy.stats import norm\n",
    "rvKbar0 = norm(loc=muK0, scale=se04)\n",
    "tailprobs(rvKbar0, obsmean04)"
   ]
  },
  {
   "cell_type": "code",
   "execution_count": 95,
   "id": "6a295db5-b848-4d4c-a111-0bc5a508153d",
   "metadata": {},
   "outputs": [
    {
     "name": "stdout",
     "output_type": "stream",
     "text": [
      "Saved figure to figures/stats/intro_to_NHST/p-value_tails_Example1N_Kbar0.pdf\n",
      "Saved figure to figures/stats/intro_to_NHST/p-value_tails_Example1N_Kbar0.png\n"
     ]
    },
    {
     "data": {
      "image/png": "[encoded data removed]",
      "text/plain": [
       "<Figure size 500x160 with 1 Axes>"
      ]
     },
     "metadata": {
      "image/png": {
       "height": 149,
       "width": 491
      }
     },
     "output_type": "display_data"
    }
   ],
   "source": [
    "filename = os.path.join(DESTDIR, \"p-value_tails_Example1N_Kbar0.pdf\")\n",
    "from plot_helpers import calc_prob_and_plot_tails\n",
    "dev = abs(obsmean04-muK0)\n",
    "_, ax = calc_prob_and_plot_tails(rvKbar0, muK0-dev, muK0+dev)\n",
    "ax.set_title(None)\n",
    "ax.set_xlabel(\"$\\overline{k}$\")\n",
    "savefigure(ax, filename)"
   ]
  },
  {
   "cell_type": "markdown",
   "id": "3b92780c-0115-4cdc-b434-dceccf1ba16f",
   "metadata": {},
   "source": [
    "The $p$-value we obtain is exactly the same."
   ]
  },
  {
   "cell_type": "code",
   "execution_count": null,
   "id": "2a561a3e-c026-46b0-bb49-32cb8f902eef",
   "metadata": {},
   "outputs": [],
   "source": []
  },
  {
   "cell_type": "markdown",
   "id": "025a4677-b15b-4337-90da-8c97ebaa1c30",
   "metadata": {},
   "source": [
    "### Example 2N: test for the mean of Batch 01"
   ]
  },
  {
   "cell_type": "code",
   "execution_count": 96,
   "id": "8cc35509-05ae-4145-8355-bf333d24ee46",
   "metadata": {},
   "outputs": [
    {
     "data": {
      "text/plain": [
       "40"
      ]
     },
     "execution_count": 96,
     "metadata": {},
     "output_type": "execute_result"
    }
   ],
   "source": [
    "kombucha = pd.read_csv(\"../datasets/kombucha.csv\")\n",
    "ksample01 = kombucha[kombucha[\"batch\"]==1][\"volume\"]\n",
    "n01 = len(ksample01)\n",
    "n01"
   ]
  },
  {
   "cell_type": "code",
   "execution_count": 97,
   "id": "c545b472-0b52-436d-a65b-8da63eac834f",
   "metadata": {},
   "outputs": [
    {
     "data": {
      "text/plain": [
       "999.10375"
      ]
     },
     "execution_count": 97,
     "metadata": {},
     "output_type": "execute_result"
    }
   ],
   "source": [
    "# observed mean\n",
    "obsmean01 = mean(ksample01)\n",
    "obsmean01"
   ]
  },
  {
   "cell_type": "code",
   "execution_count": 98,
   "id": "a8ec20f3-6c7a-4315-beb0-460abcbe8ec5",
   "metadata": {},
   "outputs": [
    {
     "data": {
      "text/plain": [
       "1.5811388300841895"
      ]
     },
     "execution_count": 98,
     "metadata": {},
     "output_type": "execute_result"
    }
   ],
   "source": [
    "# standard error of the mean\n",
    "se01 = sigmaK0 / np.sqrt(n01)\n",
    "se01"
   ]
  },
  {
   "cell_type": "markdown",
   "id": "3f742bc3-8f5b-41a1-884f-b8cf94f87968",
   "metadata": {},
   "source": [
    "Note the standard error is the same as `se04` we calculated in Example 1N.\n",
    "This is because the sample size is the same,\n",
    "and we're relying on the same assumptions about the standard deviation of the theoretical distribution."
   ]
  },
  {
   "cell_type": "code",
   "execution_count": 99,
   "id": "41ce093b-eb3b-4992-9ca1-987881853631",
   "metadata": {},
   "outputs": [
    {
     "data": {
      "text/plain": [
       "-0.5668382705851878"
      ]
     },
     "execution_count": 99,
     "metadata": {},
     "output_type": "execute_result"
    }
   ],
   "source": [
    "# compute the z statistic \n",
    "obsz01 = (obsmean01 - muK0) / se01\n",
    "obsz01"
   ]
  },
  {
   "cell_type": "code",
   "execution_count": 100,
   "id": "a2913d26-037a-4b1f-924f-deac97c64595",
   "metadata": {},
   "outputs": [
    {
     "data": {
      "text/plain": [
       "0.5708240666473916"
      ]
     },
     "execution_count": 100,
     "metadata": {},
     "output_type": "execute_result"
    }
   ],
   "source": [
    "from scipy.stats import norm\n",
    "\n",
    "rvZ = norm(0,1)\n",
    "#######################################################\n",
    "pvalue01 = tailprobs(rvZ, obsz01, alt=\"two-sided\")\n",
    "pvalue01"
   ]
  },
  {
   "cell_type": "markdown",
   "id": "b331f08a-011b-4817-9f7a-e7c47f1c74df",
   "metadata": {},
   "source": [
    "The $p$-value is large,\n",
    "so there is no reason to reject $H_0$.\n",
    "We conclude that Batch 01 must be regular."
   ]
  },
  {
   "cell_type": "code",
   "execution_count": 101,
   "id": "9abdd7f1-0e20-44f7-9d23-89dca3273471",
   "metadata": {},
   "outputs": [
    {
     "name": "stdout",
     "output_type": "stream",
     "text": [
      "Saved figure to figures/stats/intro_to_NHST/p-value_tails_kombucha_obsz01.pdf\n",
      "Saved figure to figures/stats/intro_to_NHST/p-value_tails_kombucha_obsz01.png\n"
     ]
    },
    {
     "data": {
      "image/png": "[encoded data removed]",
      "text/plain": [
       "<Figure size 500x160 with 1 Axes>"
      ]
     },
     "metadata": {
      "image/png": {
       "height": 152,
       "width": 489
      }
     },
     "output_type": "display_data"
    }
   ],
   "source": [
    "filename = os.path.join(DESTDIR, \"p-value_tails_kombucha_obsz01.pdf\")\n",
    "from plot_helpers import calc_prob_and_plot_tails\n",
    "_, ax= calc_prob_and_plot_tails(rvZ, obsz01, -obsz01, xlims=[-4,4])\n",
    "ax.set_title(None)\n",
    "ax.set_xlabel(\"$z$\")\n",
    "ax.set_ylabel(\"$f_Z$\")\n",
    "savefigure(ax, filename)"
   ]
  },
  {
   "cell_type": "code",
   "execution_count": null,
   "id": "37fe5dc2-0624-4e8e-90f7-14b3b3d53a61",
   "metadata": {},
   "outputs": [],
   "source": []
  },
  {
   "cell_type": "code",
   "execution_count": null,
   "id": "b0fb9aa3-78fd-4f5f-a4cd-996d90cb27cc",
   "metadata": {},
   "outputs": [],
   "source": []
  },
  {
   "cell_type": "markdown",
   "id": "d4a7d1a9-ff3a-423e-875c-0959e50d531d",
   "metadata": {},
   "source": [
    "## Tests with estimated population variance\n",
    "\n",
    "alt. \"Test for the sample mean (unknown variance)\""
   ]
  },
  {
   "cell_type": "markdown",
   "id": "5816aa1b-505f-48c0-b9e5-170c0f698dc6",
   "metadata": {},
   "source": [
    "### Analytical approximation based on Student's $t$-distribution\n",
    "\n",
    "Consider again a theoretical distribution $X_0 \\sim \\mathcal{N}(\\mu_{X_0}, \\sigma_{X_0})$,\n",
    "but this time assume that $\\sigma_{X_0}$ is not known.\n",
    "\n",
    "The sampling distribution of the mean $\\overline{\\mathbf{X}}_0$ for samples of size $n$,\n",
    "after applying the location-scale transformation,\n",
    "can be modelled in terms of the standard $t$-distribution with $n-1$ degrees of freedom:\n",
    "\n",
    "$$\n",
    "    T_0  = \n",
    "    \\frac{ \\overline{\\mathbf{X}}_0-\\mu_{X_0} }{ \\stderrhat{\\overline{\\mathbf{x}}} }\n",
    "    \\;\\; \\sim \\;\\;  \\mathcal{T}(\\tt{df}=n-1, \\; \\tt{loc}=0, \\; \\tt{scale}=1).\n",
    "$$\n"
   ]
  },
  {
   "cell_type": "markdown",
   "id": "4ab08da3-53d7-4727-be04-fddf8e6c40d2",
   "metadata": {},
   "source": [
    "### Example 1T: test for the mean of Batch 04"
   ]
  },
  {
   "cell_type": "markdown",
   "id": "bbc19c93-6fd2-4395-853f-0077199f015d",
   "metadata": {},
   "source": [
    "#### Assume we know mean, but not variance"
   ]
  },
  {
   "cell_type": "code",
   "execution_count": 102,
   "id": "45b7498d-3984-41d3-82d4-4cfab85165a2",
   "metadata": {},
   "outputs": [
    {
     "data": {
      "text/plain": [
       "40"
      ]
     },
     "execution_count": 102,
     "metadata": {},
     "output_type": "execute_result"
    }
   ],
   "source": [
    "kombucha = pd.read_csv(\"../datasets/kombucha.csv\")\n",
    "ksample04 = kombucha[kombucha[\"batch\"]==4][\"volume\"]\n",
    "n04 = len(ksample04)\n",
    "n04"
   ]
  },
  {
   "cell_type": "code",
   "execution_count": 103,
   "id": "dc1d4282-e492-481e-b172-1507b28396d6",
   "metadata": {},
   "outputs": [
    {
     "data": {
      "text/plain": [
       "7.85217413955834"
      ]
     },
     "execution_count": 103,
     "metadata": {},
     "output_type": "execute_result"
    }
   ],
   "source": [
    "# estimated standard error of the mean\n",
    "s04 = std(ksample04)\n",
    "s04"
   ]
  },
  {
   "cell_type": "code",
   "execution_count": 104,
   "id": "f2adf8f5-7b42-4cf5-866a-c27078b94e38",
   "metadata": {},
   "outputs": [
    {
     "data": {
      "text/plain": [
       "1.2415377432638601"
      ]
     },
     "execution_count": 104,
     "metadata": {},
     "output_type": "execute_result"
    }
   ],
   "source": [
    "sehat04 = s04 / np.sqrt(n04)\n",
    "sehat04"
   ]
  },
  {
   "cell_type": "markdown",
   "id": "eb1cf0ce-d6e0-4d72-8da7-9976a164d62e",
   "metadata": {},
   "source": [
    "Recall the value `se04` = $\\stderr{\\overline{\\mathbf{k}}_{04},0}=\\frac{\\sigma_{K_0}}{\\sqrt{40}} = 1.58$,\n",
    "which we obtained by assuming the population standard deviation is known.\n",
    "We see that `sehat04` is an underestimate, because the sample standard deviation `s04` happens to be smaller than the true population standard deviation $\\sigma_{K_0} = 10$.\n"
   ]
  },
  {
   "cell_type": "code",
   "execution_count": 105,
   "id": "32b0b8b3-2335-4602-9c36-e814fa570418",
   "metadata": {},
   "outputs": [
    {
     "data": {
      "text/plain": [
       "1003.8335"
      ]
     },
     "execution_count": 105,
     "metadata": {},
     "output_type": "execute_result"
    }
   ],
   "source": [
    "# observed sample mean\n",
    "obsmean04 = mean(ksample04)\n",
    "obsmean04"
   ]
  },
  {
   "cell_type": "code",
   "execution_count": 106,
   "id": "031151ee-c7ad-4286-b04e-845d91c2bb99",
   "metadata": {},
   "outputs": [
    {
     "data": {
      "text/plain": [
       "3.087703149420272"
      ]
     },
     "execution_count": 106,
     "metadata": {},
     "output_type": "execute_result"
    }
   ],
   "source": [
    "# compute the t statistic \n",
    "obst04 = (obsmean04 - muK0) / sehat04\n",
    "obst04"
   ]
  },
  {
   "cell_type": "code",
   "execution_count": 107,
   "id": "69d75884-d878-4b2e-9c9b-e254d5bef18f",
   "metadata": {},
   "outputs": [
    {
     "data": {
      "text/plain": [
       "0.0037056653503328985"
      ]
     },
     "execution_count": 107,
     "metadata": {},
     "output_type": "execute_result"
    }
   ],
   "source": [
    "from scipy.stats import t as tdist\n",
    "\n",
    "df04 = n04 - 1  # n-1 degrees of freedom\n",
    "rvT04 = tdist(df04)\n",
    "pvalue04t = tailprobs(rvT04, obst04, alt=\"two-sided\")\n",
    "pvalue04t"
   ]
  },
  {
   "cell_type": "code",
   "execution_count": 108,
   "id": "a46949e2-a953-40c7-a5b5-62fd3d4e8b5f",
   "metadata": {},
   "outputs": [],
   "source": [
    "# no figure because too small"
   ]
  },
  {
   "cell_type": "markdown",
   "id": "5f3dc04b-cabe-4fc3-a7da-c54170b3661a",
   "metadata": {},
   "source": [
    "#### Effect size estimates"
   ]
  },
  {
   "cell_type": "code",
   "execution_count": 109,
   "id": "00aed7d1-92d9-40f3-bf6c-595737bf6fba",
   "metadata": {},
   "outputs": [
    {
     "data": {
      "text/plain": [
       "3.833499999999958"
      ]
     },
     "execution_count": 109,
     "metadata": {},
     "output_type": "execute_result"
    }
   ],
   "source": [
    "obsmean04 - muK0"
   ]
  },
  {
   "cell_type": "code",
   "execution_count": 110,
   "id": "b6fa92bb-8842-4955-bcff-59b9b41f19fd",
   "metadata": {},
   "outputs": [
    {
     "data": {
      "text/plain": [
       "[1.74166394645777, 5.9253360535422255]"
      ]
     },
     "execution_count": 110,
     "metadata": {},
     "output_type": "execute_result"
    }
   ],
   "source": [
    "from stats_helpers import ci_mean\n",
    "\n",
    "ci_mean(ksample04-muK0, alpha=0.1, method=\"a\")"
   ]
  },
  {
   "cell_type": "code",
   "execution_count": null,
   "id": "049593b2-1cf2-4005-9bd5-0a454fc4124a",
   "metadata": {},
   "outputs": [],
   "source": []
  },
  {
   "cell_type": "code",
   "execution_count": null,
   "id": "fc4fc132-aac4-4d25-a170-73923c265cda",
   "metadata": {},
   "outputs": [],
   "source": []
  },
  {
   "cell_type": "markdown",
   "id": "7eeef73a-7a3d-494c-87f9-c890413ae507",
   "metadata": {},
   "source": [
    "### Example 2T: test for the mean of Batch 01"
   ]
  },
  {
   "cell_type": "code",
   "execution_count": 111,
   "id": "21d6e783-1183-44d3-af89-8fa28f45560c",
   "metadata": {},
   "outputs": [],
   "source": [
    "kombucha = pd.read_csv(\"../datasets/kombucha.csv\")\n",
    "ksample01 = kombucha[kombucha[\"batch\"]==1][\"volume\"]"
   ]
  },
  {
   "cell_type": "code",
   "execution_count": 112,
   "id": "8e360b87-f6ce-48a2-81cb-5939a58fb838",
   "metadata": {},
   "outputs": [
    {
     "data": {
      "text/plain": [
       "1.5446402654597249"
      ]
     },
     "execution_count": 112,
     "metadata": {},
     "output_type": "execute_result"
    }
   ],
   "source": [
    "# estimated standard error of the mean\n",
    "s01 = std(ksample01)\n",
    "n01 = len(ksample01)\n",
    "sehat01 = s01 / np.sqrt(n01)\n",
    "sehat01"
   ]
  },
  {
   "cell_type": "markdown",
   "id": "7c1f6dc7-a18c-436d-992d-b56d9ee4de68",
   "metadata": {},
   "source": [
    "cf. `se01` = $\\stderr{\\overline{\\mathbf{k}}_{01},0}=\\frac{\\sigma_{K_0}}{\\sqrt{40}} = 1.58$,"
   ]
  },
  {
   "cell_type": "code",
   "execution_count": 113,
   "id": "c4a07f13-a7ca-4645-a8bc-96e406231060",
   "metadata": {},
   "outputs": [
    {
     "data": {
      "text/plain": [
       "999.10375"
      ]
     },
     "execution_count": 113,
     "metadata": {},
     "output_type": "execute_result"
    }
   ],
   "source": [
    "# observed sample mean\n",
    "obsmean01 = mean(ksample01)\n",
    "obsmean01"
   ]
  },
  {
   "cell_type": "code",
   "execution_count": 114,
   "id": "316a8c9d-81f5-4181-8143-95aa64bd91e6",
   "metadata": {},
   "outputs": [
    {
     "data": {
      "text/plain": [
       "-0.5802321874169595"
      ]
     },
     "execution_count": 114,
     "metadata": {},
     "output_type": "execute_result"
    }
   ],
   "source": [
    "# compute the t statistic \n",
    "obst01 = (obsmean01 - muK0) / sehat01\n",
    "obst01"
   ]
  },
  {
   "cell_type": "code",
   "execution_count": 115,
   "id": "5e88761e-5781-487d-b3f5-c1dc5c3768f1",
   "metadata": {},
   "outputs": [
    {
     "data": {
      "text/plain": [
       "0.5650956637295477"
      ]
     },
     "execution_count": 115,
     "metadata": {},
     "output_type": "execute_result"
    }
   ],
   "source": [
    "from scipy.stats import t as tdist\n",
    "\n",
    "df01 = n01 - 1  # n-1 degrees of freedom\n",
    "rvT01 = tdist(df01)\n",
    "pvalue01t = tailprobs(rvT01, obst01, alt=\"two-sided\")\n",
    "pvalue01t"
   ]
  },
  {
   "cell_type": "code",
   "execution_count": 116,
   "id": "26b72601-c25d-417f-991b-01d90d1c0ff6",
   "metadata": {},
   "outputs": [
    {
     "name": "stdout",
     "output_type": "stream",
     "text": [
      "Saved figure to figures/stats/intro_to_NHST/p-value_tails_kombucha_obst01.pdf\n",
      "Saved figure to figures/stats/intro_to_NHST/p-value_tails_kombucha_obst01.png\n"
     ]
    },
    {
     "data": {
      "image/png": "[encoded data removed]",
      "text/plain": [
       "<Figure size 500x160 with 1 Axes>"
      ]
     },
     "metadata": {
      "image/png": {
       "height": 152,
       "width": 489
      }
     },
     "output_type": "display_data"
    }
   ],
   "source": [
    "filename = os.path.join(DESTDIR, \"p-value_tails_kombucha_obst01.pdf\")\n",
    "from plot_helpers import calc_prob_and_plot_tails\n",
    "_, ax = calc_prob_and_plot_tails(rvT01, obst01, -obst01, xlims=[-4,4])\n",
    "ax.set_title(None)\n",
    "ax.set_xlabel(\"$t$\")\n",
    "ax.set_ylabel(\"$f_{T}$\")\n",
    "savefigure(ax, filename)"
   ]
  },
  {
   "cell_type": "code",
   "execution_count": null,
   "id": "3a7e7cb8-5445-4336-9703-6d6ae5480605",
   "metadata": {},
   "outputs": [],
   "source": []
  },
  {
   "cell_type": "code",
   "execution_count": null,
   "id": "37f4256c-663c-4bea-8a9b-6ac94b7af908",
   "metadata": {},
   "outputs": [],
   "source": []
  },
  {
   "cell_type": "markdown",
   "id": "3dc6a366-db3a-422b-8f11-9ce73172df6e",
   "metadata": {},
   "source": [
    "## Test for the sample variance"
   ]
  },
  {
   "cell_type": "markdown",
   "id": "4219e202-ce03-417f-99fa-118c22fc0574",
   "metadata": {},
   "source": [
    "### Formula for sampling distribution of the variance"
   ]
  },
  {
   "cell_type": "markdown",
   "id": "6b4ecac4-8850-43af-a102-c131bd5e50e3",
   "metadata": {},
   "source": [
    "#### Chi-square test for variance\n",
    "\n",
    "If the theoretical distribution under the null hypothesis is normal\n",
    "$K_0 \\sim \\mathcal{N}(\\mu_{K_0}, \\sigma_{K_0})$,\n",
    "then the sampling distribution of variance for samples of size $n$\n",
    "is described by a scaled chi-square distribution:\n",
    "\n",
    "$$\n",
    "    S_{\\mathbf{K},0}^2\n",
    "    \\;\\; \\sim \\;\\;\n",
    "    \\chi^2(\\tt{df}\\!=\\!n-1, \\; \\tt{scale}\\!=\\!\\tfrac{ \\sigma_{K_0}^2 }{ n-1 } )\n",
    "    \\; = \\;\n",
    "    \\tfrac{ \\sigma_{K_0}^2 }{ n-1 } \n",
    "    \\cdot \\chi^2(n-1).\n",
    "$$\n",
    "\n"
   ]
  },
  {
   "cell_type": "markdown",
   "id": "e25fdd14-7703-4a67-9df0-ffaf3e3ba1b1",
   "metadata": {},
   "source": [
    "### Example 3X: test for the variance of Batch 02"
   ]
  },
  {
   "cell_type": "code",
   "execution_count": 117,
   "id": "27534026-b43f-4493-a56e-4c3e1614e95e",
   "metadata": {},
   "outputs": [
    {
     "data": {
      "text/plain": [
       "20"
      ]
     },
     "execution_count": 117,
     "metadata": {},
     "output_type": "execute_result"
    }
   ],
   "source": [
    "kombucha = pd.read_csv(\"../datasets/kombucha.csv\")\n",
    "ksample02 = kombucha[kombucha[\"batch\"]==2][\"volume\"]\n",
    "n02 = len(ksample02)\n",
    "n02"
   ]
  },
  {
   "cell_type": "code",
   "execution_count": 118,
   "id": "757d3b7c-3429-4b97-ad87-dc290e0fc16f",
   "metadata": {},
   "outputs": [
    {
     "data": {
      "text/plain": [
       "124.31760105263136"
      ]
     },
     "execution_count": 118,
     "metadata": {},
     "output_type": "execute_result"
    }
   ],
   "source": [
    "obsvar02 = var(ksample02)\n",
    "obsvar02"
   ]
  },
  {
   "cell_type": "markdown",
   "id": "9d0301ad-3cf9-4507-a835-e33ee97fc280",
   "metadata": {},
   "source": [
    "We can now compute the $q$-statistic,\n",
    "which is the observed sample variance estimate $s_{\\mathbf{k}_{02}}^2 = 124.32$\n",
    "divided by the scale factor $\\tfrac{ \\sigma_{K_0}^2 }{ n-1 }$."
   ]
  },
  {
   "cell_type": "code",
   "execution_count": 119,
   "id": "8ba6201b-6e96-4f74-9984-517397cc3721",
   "metadata": {},
   "outputs": [
    {
     "data": {
      "text/plain": [
       "23.62034419999996"
      ]
     },
     "execution_count": 119,
     "metadata": {},
     "output_type": "execute_result"
    }
   ],
   "source": [
    "obsq02 = (n02-1) * obsvar02 / sigmaK0**2\n",
    "obsq02"
   ]
  },
  {
   "cell_type": "code",
   "execution_count": 120,
   "id": "5b065f7a-8f39-4894-8da0-db6cf6074052",
   "metadata": {},
   "outputs": [
    {
     "data": {
      "text/plain": [
       "0.2111207328360385"
      ]
     },
     "execution_count": 120,
     "metadata": {},
     "output_type": "execute_result"
    }
   ],
   "source": [
    "from scipy.stats import chi2\n",
    "\n",
    "rvX2 = chi2(n02 - 1)\n",
    "pvalue02 = tailprobs(rvX2, obsq02, alt=\"greater\")\n",
    "pvalue02"
   ]
  },
  {
   "cell_type": "markdown",
   "id": "d922b6d2-9da4-413f-8b03-387acf126d38",
   "metadata": {},
   "source": [
    "The $p$-value is large,\n",
    "so there is no reason to reject $H_0$."
   ]
  },
  {
   "cell_type": "code",
   "execution_count": null,
   "id": "76187ead-3167-4b29-a0bc-6a7329624a30",
   "metadata": {},
   "outputs": [],
   "source": []
  },
  {
   "cell_type": "code",
   "execution_count": 121,
   "id": "83708079-b5ab-409d-b4c7-18f6695d30bd",
   "metadata": {},
   "outputs": [
    {
     "name": "stdout",
     "output_type": "stream",
     "text": [
      "Saved figure to figures/stats/intro_to_NHST/p-value_right_tail_kombucha_obsq02.pdf\n",
      "Saved figure to figures/stats/intro_to_NHST/p-value_right_tail_kombucha_obsq02.png\n"
     ]
    },
    {
     "data": {
      "image/png": "[encoded data removed]",
      "text/plain": [
       "<Figure size 500x160 with 1 Axes>"
      ]
     },
     "metadata": {
      "image/png": {
       "height": 150,
       "width": 495
      }
     },
     "output_type": "display_data"
    }
   ],
   "source": [
    "filename = os.path.join(DESTDIR, \"p-value_right_tail_kombucha_obsq02.pdf\")\n",
    "_, ax = calc_prob_and_plot_tails(rvX2, 0, obsq02, xlims=[0,50])\n",
    "ax.set_title(None)\n",
    "ax.set_xlabel(\"$q$\")\n",
    "ax.set_ylabel(\"$f_{\\chi^2}$\")\n",
    "savefigure(ax, filename)"
   ]
  },
  {
   "cell_type": "markdown",
   "id": "df0b1a40-a609-4b84-b625-443f6f905a87",
   "metadata": {},
   "source": [
    "### Example 4X: test for the variance of Batch 08"
   ]
  },
  {
   "cell_type": "code",
   "execution_count": 122,
   "id": "b93b69a2-e77c-41f8-9645-5efd74f9351e",
   "metadata": {},
   "outputs": [
    {
     "data": {
      "text/plain": [
       "40"
      ]
     },
     "execution_count": 122,
     "metadata": {},
     "output_type": "execute_result"
    }
   ],
   "source": [
    "kombucha = pd.read_csv(\"../datasets/kombucha.csv\")\n",
    "ksample08 = kombucha[kombucha[\"batch\"]==8][\"volume\"]\n",
    "n08 = len(ksample08)\n",
    "n08"
   ]
  },
  {
   "cell_type": "code",
   "execution_count": 123,
   "id": "72337e1f-a903-4e34-a622-6e753d361641",
   "metadata": {},
   "outputs": [
    {
     "data": {
      "text/plain": [
       "169.9979220512824"
      ]
     },
     "execution_count": 123,
     "metadata": {},
     "output_type": "execute_result"
    }
   ],
   "source": [
    "obsvar08 = var(ksample08)\n",
    "obsvar08"
   ]
  },
  {
   "cell_type": "code",
   "execution_count": 124,
   "id": "5671b1df-deec-4f39-b537-8ad93f17c6a4",
   "metadata": {},
   "outputs": [
    {
     "data": {
      "text/plain": [
       "66.29918960000013"
      ]
     },
     "execution_count": 124,
     "metadata": {},
     "output_type": "execute_result"
    }
   ],
   "source": [
    "obsq08 = (n08-1) * obsvar08 / sigmaK0**2\n",
    "obsq08"
   ]
  },
  {
   "cell_type": "code",
   "execution_count": 125,
   "id": "aae19d51-0def-4b1a-8a65-9bab35139338",
   "metadata": {},
   "outputs": [
    {
     "data": {
      "text/plain": [
       "0.0041211873587608805"
      ]
     },
     "execution_count": 125,
     "metadata": {},
     "output_type": "execute_result"
    }
   ],
   "source": [
    "from scipy.stats import chi2\n",
    "\n",
    "rvX2 = chi2(n08 - 1)\n",
    "pvalue08 = tailprobs(rvX2, obsq08, alt=\"greater\")\n",
    "pvalue08"
   ]
  },
  {
   "cell_type": "markdown",
   "id": "6295b901-8311-4e7a-8e9b-821855b2042a",
   "metadata": {},
   "source": [
    "The $p$-value is vary small,\n",
    "so we reject $H_0$.\n",
    "According to our analysis based on the sample variance from Batch 08,\n",
    "this batch seems to be irregular: it has an abnormally large variance."
   ]
  },
  {
   "cell_type": "markdown",
   "id": "c874751e-119d-4814-aaa6-a6879d80d0c6",
   "metadata": {},
   "source": [
    "#### Effect size estimates"
   ]
  },
  {
   "cell_type": "code",
   "execution_count": 126,
   "id": "5eac0589-7948-4ac1-a679-eefd5f2858bc",
   "metadata": {},
   "outputs": [
    {
     "data": {
      "text/plain": [
       "69.99792205128239"
      ]
     },
     "execution_count": 126,
     "metadata": {},
     "output_type": "execute_result"
    }
   ],
   "source": [
    "obsvar08 - sigmaK0**2"
   ]
  },
  {
   "cell_type": "code",
   "execution_count": 127,
   "id": "5b58a2d0-89b8-4884-be75-e20851fa16a1",
   "metadata": {},
   "outputs": [
    {
     "data": {
      "text/plain": [
       "[121.48888239061654, 258.019779302895]"
      ]
     },
     "execution_count": 127,
     "metadata": {},
     "output_type": "execute_result"
    }
   ],
   "source": [
    "from stats_helpers import ci_var\n",
    "\n",
    "civar08 = ci_var(ksample08, alpha=0.1, method=\"a\")\n",
    "civar08"
   ]
  },
  {
   "cell_type": "code",
   "execution_count": 128,
   "id": "b8d72a98-3778-4075-9d07-1b0c4632e5a5",
   "metadata": {},
   "outputs": [
    {
     "data": {
      "text/plain": [
       "array([ 21.48888239, 158.0197793 ])"
      ]
     },
     "execution_count": 128,
     "metadata": {},
     "output_type": "execute_result"
    }
   ],
   "source": [
    "np.subtract(civar08, sigmaK0**2)"
   ]
  },
  {
   "cell_type": "markdown",
   "id": "39dffe7f-c056-4b6e-baf8-c9f4d6bf3b60",
   "metadata": {},
   "source": [
    "Compare this to the bootstrap confidence interval for the effect size \n",
    "$\\ci{\\Delta,0.9}^* = [17.37,117.99]$, which we obtained earlier in [Section 3.3](./33_intro_to_NHST.ipynb)."
   ]
  },
  {
   "cell_type": "code",
   "execution_count": null,
   "id": "96d2f90b-c04c-407a-b772-618f40dd811d",
   "metadata": {},
   "outputs": [],
   "source": []
  },
  {
   "cell_type": "code",
   "execution_count": null,
   "id": "ffc2e86c-897b-44db-bf15-034653c757c7",
   "metadata": {},
   "outputs": [],
   "source": []
  },
  {
   "cell_type": "markdown",
   "id": "ee94b5e9-65e9-4ae0-b7db-0102f10a39e5",
   "metadata": {},
   "source": [
    "## Alternative calculation methods"
   ]
  },
  {
   "cell_type": "markdown",
   "id": "409d614d-8da9-4561-8b35-7b49ea111deb",
   "metadata": {},
   "source": [
    "### Using `scipy.stats.ttest_1samp` for one-sample $t$-test"
   ]
  },
  {
   "cell_type": "code",
   "execution_count": 129,
   "id": "63019ddc-07a3-42bb-acdf-8d65e1458919",
   "metadata": {},
   "outputs": [
    {
     "data": {
      "text/plain": [
       "0.0037056653503329618"
      ]
     },
     "execution_count": 129,
     "metadata": {},
     "output_type": "execute_result"
    }
   ],
   "source": [
    "# ALT. using existing function `scipy.stats`\n",
    "from scipy.stats import ttest_1samp\n",
    "res = ttest_1samp(ksample04, popmean=muK0)\n",
    "res.pvalue"
   ]
  },
  {
   "cell_type": "code",
   "execution_count": 130,
   "id": "59d8c1d7-6d92-4890-a716-4f46214b5701",
   "metadata": {},
   "outputs": [
    {
     "data": {
      "text/plain": [
       "array([1.74166395, 5.92533605])"
      ]
     },
     "execution_count": 130,
     "metadata": {},
     "output_type": "execute_result"
    }
   ],
   "source": [
    "ci04 = res.confidence_interval(confidence_level=0.9)\n",
    "np.array([ci04.low, ci04.high]) - muK0"
   ]
  },
  {
   "cell_type": "code",
   "execution_count": null,
   "id": "3ab5f187-98c7-41ec-8374-a0f4f6084205",
   "metadata": {},
   "outputs": [],
   "source": []
  },
  {
   "cell_type": "code",
   "execution_count": 131,
   "id": "ca3b6da6-2b30-4354-9af1-026b1a5b4d0a",
   "metadata": {},
   "outputs": [
    {
     "data": {
      "text/plain": [
       "0.5650956637295477"
      ]
     },
     "execution_count": 131,
     "metadata": {},
     "output_type": "execute_result"
    }
   ],
   "source": [
    "# ALT. using existing function `scipy.stats`\n",
    "from scipy.stats import ttest_1samp\n",
    "ttest_1samp(ksample01, popmean=muK0).pvalue"
   ]
  },
  {
   "cell_type": "code",
   "execution_count": null,
   "id": "6b8647d5-9e85-47e7-9fd7-7600858244e1",
   "metadata": {},
   "outputs": [],
   "source": []
  },
  {
   "cell_type": "markdown",
   "id": "da17a6b0-252a-4b2c-9bea-4cbddede33d0",
   "metadata": {},
   "source": [
    "### Bootstrap estimate of the standard error\n",
    "\n",
    "Another way to obtain the standard error of the mean\n",
    "(the standard deviation sampling distribution of the mean)\n",
    "is to use the bootstrap approach.\n",
    "\n",
    "\n",
    "TODO: import formulas"
   ]
  },
  {
   "cell_type": "markdown",
   "id": "b85af6aa-078a-4a02-9f0c-a71871d0985a",
   "metadata": {},
   "source": [
    "#### Example 1BT: test for the mean of Batch 04"
   ]
  },
  {
   "cell_type": "code",
   "execution_count": 132,
   "id": "65005726-e0a2-421c-aada-27842968d6eb",
   "metadata": {},
   "outputs": [],
   "source": [
    "kombucha = pd.read_csv(\"../datasets/kombucha.csv\")\n",
    "ksample04 = kombucha[kombucha[\"batch\"]==4][\"volume\"]\n",
    "n04 = len(ksample04)"
   ]
  },
  {
   "cell_type": "code",
   "execution_count": 133,
   "id": "ed62b815-5faf-458e-9849-85cb09a76892",
   "metadata": {},
   "outputs": [
    {
     "data": {
      "text/plain": [
       "1.2252842390160474"
      ]
     },
     "execution_count": 133,
     "metadata": {},
     "output_type": "execute_result"
    }
   ],
   "source": [
    "# bootstrap estimate for standard error of the mean\n",
    "from stats_helpers import gen_boot_dist\n",
    "kbars_boot04 = gen_boot_dist(ksample04, estfunc=mean)\n",
    "sehat_boot04 = std(kbars_boot04)\n",
    "sehat_boot04"
   ]
  },
  {
   "cell_type": "code",
   "execution_count": 134,
   "id": "3769ca83-069b-407f-8712-4f3b44fc8fbe",
   "metadata": {},
   "outputs": [
    {
     "data": {
      "text/plain": [
       "3.128661805915673"
      ]
     },
     "execution_count": 134,
     "metadata": {},
     "output_type": "execute_result"
    }
   ],
   "source": [
    "# compute the t statistic using bootstrap se\n",
    "obst04bt = (obsmean04 - muK0) / sehat_boot04\n",
    "obst04bt"
   ]
  },
  {
   "cell_type": "code",
   "execution_count": 135,
   "id": "5316bae0-aae8-4b97-8602-68fe70e7a248",
   "metadata": {},
   "outputs": [
    {
     "data": {
      "text/plain": [
       "0.012147863549560177"
      ]
     },
     "execution_count": 135,
     "metadata": {},
     "output_type": "execute_result"
    }
   ],
   "source": [
    "from scipy.stats import t as tdist\n",
    "rvT04 = tdist(n04 - 1)\n",
    "pvalue04bt = tailprobs(rvT, obst04bt, alt=\"two-sided\")\n",
    "pvalue04bt"
   ]
  },
  {
   "cell_type": "markdown",
   "id": "78df6c04-514c-4515-9ef8-5700de0861e9",
   "metadata": {},
   "source": [
    "The $p$-value is very small,\n",
    "so our decision is to reject $H_0$."
   ]
  },
  {
   "cell_type": "code",
   "execution_count": null,
   "id": "275cff66-0f71-46ed-ac3f-4448936397f0",
   "metadata": {},
   "outputs": [],
   "source": []
  },
  {
   "cell_type": "markdown",
   "id": "660fa68f-0140-4d7d-91f9-47466f4c881c",
   "metadata": {},
   "source": [
    "#### Example 2BT: test for the mean of Batch 01"
   ]
  },
  {
   "cell_type": "code",
   "execution_count": 136,
   "id": "90aa8990-0fa7-4e80-9206-d62c34a3990e",
   "metadata": {},
   "outputs": [],
   "source": [
    "kombucha = pd.read_csv(\"../datasets/kombucha.csv\")\n",
    "ksample01 = kombucha[kombucha[\"batch\"]==1][\"volume\"]\n",
    "n01 = len(ksample01)"
   ]
  },
  {
   "cell_type": "code",
   "execution_count": 137,
   "id": "178af06b-310a-43f1-94c1-daa0b9c5ed1f",
   "metadata": {},
   "outputs": [
    {
     "data": {
      "text/plain": [
       "1.5501517384893604"
      ]
     },
     "execution_count": 137,
     "metadata": {},
     "output_type": "execute_result"
    }
   ],
   "source": [
    "# bootstrap estimate for standard error of the mean\n",
    "from stats_helpers import gen_boot_dist\n",
    "kbars_boot01 = gen_boot_dist(ksample01, estfunc=mean)\n",
    "sehat_boot01 = std(kbars_boot01)\n",
    "sehat_boot01"
   ]
  },
  {
   "cell_type": "code",
   "execution_count": 138,
   "id": "c02d1766-5a31-4963-9603-62d545742e1e",
   "metadata": {},
   "outputs": [
    {
     "data": {
      "text/plain": [
       "-0.5781692061148894"
      ]
     },
     "execution_count": 138,
     "metadata": {},
     "output_type": "execute_result"
    }
   ],
   "source": [
    "# compute the t statistic using bootstrap se\n",
    "obst01bt = (obsmean01 - muK0) / sehat_boot01\n",
    "obst01bt"
   ]
  },
  {
   "cell_type": "code",
   "execution_count": 139,
   "id": "0a858812-cd15-4b32-adfb-a3d7f4f1ed6e",
   "metadata": {},
   "outputs": [
    {
     "data": {
      "text/plain": [
       "0.5664736858023267"
      ]
     },
     "execution_count": 139,
     "metadata": {},
     "output_type": "execute_result"
    }
   ],
   "source": [
    "from scipy.stats import t as tdist\n",
    "\n",
    "rvT01 = tdist(n01-1)\n",
    "#######################################################\n",
    "pvalue01bt = tailprobs(rvT01, obst01bt, alt=\"two-sided\")\n",
    "pvalue01bt"
   ]
  },
  {
   "cell_type": "markdown",
   "id": "50db8103-3aee-430e-bf2a-c1ca6ef1262d",
   "metadata": {},
   "source": [
    "The $p$-value is very large,\n",
    "so we have no reason to reject $H_0$."
   ]
  },
  {
   "cell_type": "markdown",
   "id": "42ac5876-b647-40b4-a2fb-cdb076158660",
   "metadata": {},
   "source": [
    "## Explanations"
   ]
  },
  {
   "cell_type": "markdown",
   "id": "49f3d0fe-9883-4882-bd2b-9dfdc8e1bf4f",
   "metadata": {},
   "source": [
    "## Discussion"
   ]
  },
  {
   "cell_type": "markdown",
   "id": "aae871ab-49ae-447a-8446-2f2a10a727d3",
   "metadata": {},
   "source": [
    "## Exercises"
   ]
  },
  {
   "cell_type": "markdown",
   "id": "1cfd6e18-3d31-4250-8a00-c41ea856523b",
   "metadata": {},
   "source": [
    "#### Exercise NN: use integration to obtain of the probability ..."
   ]
  },
  {
   "cell_type": "code",
   "execution_count": 140,
   "id": "f59740a9-ba2b-4fea-af5d-6a3963d28f63",
   "metadata": {},
   "outputs": [
    {
     "data": {
      "text/plain": [
       "0.015328711497995967"
      ]
     },
     "execution_count": 140,
     "metadata": {},
     "output_type": "execute_result"
    }
   ],
   "source": [
    "from scipy.integrate import quad\n",
    "fZ = rvZ.pdf\n",
    "oo = np.infty\n",
    "# left tail                 # right tail\n",
    "quad(fZ, -oo, -obsz04)[0] + quad(fZ, obsz04, oo)[0]"
   ]
  },
  {
   "cell_type": "code",
   "execution_count": null,
   "id": "a2962a44-db0a-4c36-92fd-a28bedd9ba7b",
   "metadata": {},
   "outputs": [],
   "source": []
  },
  {
   "cell_type": "markdown",
   "id": "fd895fdd-d741-424c-8615-30c0a0b43902",
   "metadata": {},
   "source": [
    "## Links"
   ]
  },
  {
   "cell_type": "code",
   "execution_count": null,
   "id": "481ff71e-160c-4399-a001-9ed65c765b9e",
   "metadata": {},
   "outputs": [],
   "source": []
  },
  {
   "cell_type": "code",
   "execution_count": null,
   "id": "54d19451-e36e-45b6-b558-5b87af06d688",
   "metadata": {},
   "outputs": [],
   "source": []
  },
  {
   "cell_type": "code",
   "execution_count": null,
   "id": "11dbf3d4-2c33-4c46-8f27-5fa733aaf84f",
   "metadata": {},
   "outputs": [],
   "source": []
  }
 ],
 "metadata": {
  "kernelspec": {
   "display_name": "Python 3 (ipykernel)",
   "language": "python",
   "name": "python3"
  },
  "language_info": {
   "codemirror_mode": {
    "name": "ipython",
    "version": 3
   },
   "file_extension": ".py",
   "mimetype": "text/x-python",
   "name": "python",
   "nbconvert_exporter": "python",
   "pygments_lexer": "ipython3",
   "version": "3.9.4"
  }
 },
 "nbformat": 4,
 "nbformat_minor": 5
}
