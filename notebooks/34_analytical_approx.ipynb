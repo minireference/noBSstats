{
 "cells": [
  {
   "cell_type": "markdown",
   "id": "30a5a5f4-0b65-4591-aa62-c70bb80aeeab",
   "metadata": {
    "tags": []
   },
   "source": [
    "# Section 3.4 — Hypothesis testing using analytical approximations\n",
    "\n",
    "This notebook contains the code examples from [Section 3.4 Hypothesis testing using analytical approximations]() of the **No Bullshit Guide to Statistics**."
   ]
  },
  {
   "cell_type": "markdown",
   "id": "5e07acb5-a496-4350-9bc3-8284464ee445",
   "metadata": {
    "jp-MarkdownHeadingCollapsed": true,
    "tags": []
   },
   "source": [
    "#### Notebook setup"
   ]
  },
  {
   "cell_type": "code",
   "execution_count": 1,
   "id": "b58d5072-3fea-47a6-b7b7-e10547f56aca",
   "metadata": {},
   "outputs": [],
   "source": [
    "# load Python modules\n",
    "import os\n",
    "import numpy as np\n",
    "import pandas as pd\n",
    "import seaborn as sns\n",
    "import matplotlib.pyplot as plt"
   ]
  },
  {
   "cell_type": "code",
   "execution_count": 2,
   "id": "7c60d47d-273b-414d-84a7-5cabdb05b873",
   "metadata": {},
   "outputs": [],
   "source": [
    "# Plot helper functions\n",
    "from plot_helpers import nicebins\n",
    "from plot_helpers import plot_pdf\n",
    "from plot_helpers import savefigure\n"
   ]
  },
  {
   "cell_type": "code",
   "execution_count": 3,
   "id": "fc01b8b7-219c-455f-a346-ccbad01434a8",
   "metadata": {},
   "outputs": [
    {
     "data": {
      "text/plain": [
       "<Figure size 640x480 with 0 Axes>"
      ]
     },
     "metadata": {},
     "output_type": "display_data"
    }
   ],
   "source": [
    "# Figures setup\n",
    "plt.clf()  # needed otherwise `sns.set_theme` doesn't work\n",
    "from plot_helpers import RCPARAMS\n",
    "# RCPARAMS.update({'figure.figsize': (10, 3)})   # good for screen\n",
    "RCPARAMS.update({'figure.figsize': (5, 1.6)})  # good for print\n",
    "sns.set_theme(\n",
    "    context=\"paper\",\n",
    "    style=\"whitegrid\",\n",
    "    palette=\"colorblind\",\n",
    "    rc=RCPARAMS,\n",
    ")\n",
    "\n",
    "# Useful colors\n",
    "snspal = sns.color_palette()\n",
    "blue, orange, purple = snspal[0], snspal[1], snspal[4]\n",
    "# red = sns.color_palette(\"tab10\")[3]\n",
    "\n",
    "# High-resolution please\n",
    "%config InlineBackend.figure_format = 'retina'\n",
    "\n",
    "# Where to store figures\n",
    "DESTDIR = \"figures/stats/intro_to_NHST\""
   ]
  },
  {
   "cell_type": "code",
   "execution_count": 4,
   "id": "67af6911-1abe-47c1-83d0-cd91a21f53ee",
   "metadata": {},
   "outputs": [],
   "source": [
    "# set random seed for repeatability\n",
    "np.random.seed(42)"
   ]
  },
  {
   "cell_type": "markdown",
   "id": "ba19dd3c-b27a-443e-91de-ee637635ab92",
   "metadata": {},
   "source": [
    "$\\def\\stderr#1{\\mathbf{se}_{#1}}$\n",
    "$\\def\\stderrhat#1{\\hat{\\mathbf{se}}_{#1}}$\n",
    "$\\newcommand{\\Mean}{\\textbf{Mean}}$\n",
    "$\\newcommand{\\Var}{\\textbf{Var}}$\n",
    "$\\newcommand{\\Std}{\\textbf{Std}}$\n",
    "$\\newcommand{\\Freq}{\\textbf{Freq}}$\n",
    "$\\newcommand{\\RelFreq}{\\textbf{RelFreq}}$\n",
    "$\\newcommand{\\DMeans}{\\textbf{DMeans}}$\n",
    "$\\newcommand{\\Prop}{\\textbf{Prop}}$\n",
    "$\\newcommand{\\DProps}{\\textbf{DProps}}$\n",
    "\n",
    "$$\n",
    "\\newcommand{\\CI}[1]{\\textbf{CI}_{#1}}\n",
    "\\newcommand{\\CIL}[1]{\\textbf{L}_{#1}}\n",
    "\\newcommand{\\CIU}[1]{\\textbf{U}_{#1}}\n",
    "\\newcommand{\\ci}[1]{\\textbf{ci}_{#1}}\n",
    "\\newcommand{\\cil}[1]{\\textbf{l}_{#1}}\n",
    "\\newcommand{\\ciu}[1]{\\textbf{u}_{#1}}\n",
    "$$\n",
    "\n",
    "\n",
    "(this cell contains the macro definitions like $\\stderr{\\overline{\\mathbf{x}}}$, $\\stderrhat{}$, $\\Mean$, ...)"
   ]
  },
  {
   "cell_type": "markdown",
   "id": "c5aba2cc-1974-46d4-b7df-02f252d13657",
   "metadata": {},
   "source": [
    "## Definitions"
   ]
  },
  {
   "cell_type": "markdown",
   "id": "7412a148-c457-47c2-8bbe-f6dcbd41c6b5",
   "metadata": {},
   "source": [
    "### Context \n",
    "- test statistic\n",
    "\n",
    "- sampling distribution of the test statistic\n",
    "\n",
    "- pivotal transformation\n",
    "\n",
    "- reference distributions"
   ]
  },
  {
   "cell_type": "code",
   "execution_count": 5,
   "id": "e3af2500-ae30-4e4b-bccb-9bf9fdfb747b",
   "metadata": {},
   "outputs": [],
   "source": [
    "def mean(sample):\n",
    "    return sum(sample) / len(sample)\n",
    "\n",
    "def var(sample):\n",
    "    xbar = mean(sample)\n",
    "    sumsqdevs = sum([(xi-xbar)**2 for xi in sample])\n",
    "    return sumsqdevs / (len(sample)-1)\n",
    "\n",
    "def std(sample):\n",
    "    s2 = var(sample)\n",
    "    return np.sqrt(s2)"
   ]
  },
  {
   "cell_type": "code",
   "execution_count": null,
   "id": "469f158b-3a46-4a6d-99d3-f57b033a51ec",
   "metadata": {},
   "outputs": [],
   "source": []
  },
  {
   "cell_type": "code",
   "execution_count": null,
   "id": "09e8a13a-fc52-49ce-97ab-cdda24cd716d",
   "metadata": {},
   "outputs": [],
   "source": []
  },
  {
   "cell_type": "markdown",
   "id": "25c2a28a-bb0b-4929-830d-93cf7105ba33",
   "metadata": {},
   "source": [
    "### Analytical approximations"
   ]
  },
  {
   "cell_type": "code",
   "execution_count": 6,
   "id": "053c36b5-08f5-4e79-8400-b83657cb15aa",
   "metadata": {},
   "outputs": [],
   "source": [
    "# theoretical model for the kombucha volumes\n",
    "muX0 = 1000   # population mean (expected kombucha volume)\n",
    "sigmaX0 = 10  # population standard deviation"
   ]
  },
  {
   "cell_type": "code",
   "execution_count": 7,
   "id": "d9f7eca8-94aa-4274-a319-d1f1439352c2",
   "metadata": {},
   "outputs": [],
   "source": [
    "sample = [1005.19,  987.31, 1002.4,  991.96,\n",
    "          1000.17, 1003.94, 1012.79]\n",
    "n = len(sample)  # sample size"
   ]
  },
  {
   "cell_type": "code",
   "execution_count": null,
   "id": "02876dae-cd21-416d-abd0-a44a80f7766b",
   "metadata": {},
   "outputs": [],
   "source": []
  },
  {
   "cell_type": "markdown",
   "id": "5ffceaf0-88c9-498b-b3d5-858326db49d8",
   "metadata": {},
   "source": [
    "#### Normal approximation to the sample mean"
   ]
  },
  {
   "cell_type": "code",
   "execution_count": 8,
   "id": "25e31cb5-9c4b-4bd8-b65f-5b3180225058",
   "metadata": {},
   "outputs": [],
   "source": [
    "from scipy.stats import norm\n",
    "\n",
    "sigmaX0 = 10  # population standard deviation\n",
    "se = sigmaX0 / np.sqrt(n)\n",
    "rvNXbar_0 = norm(loc=muX0, scale=se)"
   ]
  },
  {
   "cell_type": "code",
   "execution_count": 9,
   "id": "40c7f9f7-c52e-4018-ad07-b47568ad0002",
   "metadata": {},
   "outputs": [
    {
     "data": {
      "image/png": "[encoded data removed]",
      "text/plain": [
       "<Figure size 500x160 with 1 Axes>"
      ]
     },
     "metadata": {
      "image/png": {
       "height": 185,
       "width": 465
      }
     },
     "output_type": "display_data"
    }
   ],
   "source": [
    "ax = plot_pdf(rvNXbar_0, xlims=[980, 1020])\n",
    "ax.set_ylabel(\"$f_{\\overline{\\mathbf{X}}}$\")\n",
    "_ = ax.set_xlabel(\"$\\overline{\\mathbf{x}}$\")"
   ]
  },
  {
   "cell_type": "code",
   "execution_count": null,
   "id": "0428b2f4-e426-48d5-9498-67982845b446",
   "metadata": {},
   "outputs": [],
   "source": []
  },
  {
   "cell_type": "markdown",
   "id": "a91ac548-c523-4d24-b67b-ba0c23a36db3",
   "metadata": {},
   "source": [
    "#### Student's $t$-approximation to the sample mean"
   ]
  },
  {
   "cell_type": "code",
   "execution_count": 10,
   "id": "6a85b680-0de8-4274-882f-0cb7c7cf9c67",
   "metadata": {},
   "outputs": [],
   "source": [
    "from scipy.stats import t as tdist\n",
    "\n",
    "muX0 = 1000      # population mean (expected kombucha volume)\n",
    "sigmaX0 = 10     # population standard deviation\n",
    "n = len(sample)  # sample size\n",
    "sehat = std(sample) / np.sqrt(n)\n",
    "rvTXbar_0 = tdist(df=n-1, loc=muX0, scale=sehat)"
   ]
  },
  {
   "cell_type": "code",
   "execution_count": 11,
   "id": "7900fde0-001f-47d1-9f65-421b4e304491",
   "metadata": {},
   "outputs": [
    {
     "data": {
      "image/png": "[encoded data removed]",
      "text/plain": [
       "<Figure size 500x160 with 1 Axes>"
      ]
     },
     "metadata": {
      "image/png": {
       "height": 185,
       "width": 459
      }
     },
     "output_type": "display_data"
    }
   ],
   "source": [
    "ax = plot_pdf(rvTXbar_0, xlims=[980, 1020])\n",
    "ax.set_ylabel(\"$f_{\\overline{\\mathbf{X}}}$\")\n",
    "_ = ax.set_xlabel(\"$\\overline{\\mathbf{x}}$\")"
   ]
  },
  {
   "cell_type": "code",
   "execution_count": null,
   "id": "8d578b87-40c9-4dcc-9a33-035ad393cff6",
   "metadata": {},
   "outputs": [],
   "source": []
  },
  {
   "cell_type": "markdown",
   "id": "c9dcc4c6-23cc-4089-8a4a-2de0c86a1e0d",
   "metadata": {},
   "source": [
    "#### The $\\chi^2$-approximation to the sample variance"
   ]
  },
  {
   "cell_type": "code",
   "execution_count": 12,
   "id": "0806170e-94a8-4e5a-82dd-73a7b0041b58",
   "metadata": {},
   "outputs": [],
   "source": [
    "from scipy.stats import chi2\n",
    "sigmaX0 = 10     # population standard deviation\n",
    "n = len(sample)  # sample size\n",
    "scale = sigmaX0**2 / (n-1)\n",
    "rvQS2_0 = chi2(df=n-1, scale=scale)"
   ]
  },
  {
   "cell_type": "code",
   "execution_count": 13,
   "id": "d56ca400-ba4b-4c4a-8725-f1c5b4c8d62b",
   "metadata": {},
   "outputs": [
    {
     "data": {
      "image/png": "[encoded data removed]",
      "text/plain": [
       "<Figure size 500x160 with 1 Axes>"
      ]
     },
     "metadata": {
      "image/png": {
       "height": 189,
       "width": 468
      }
     },
     "output_type": "display_data"
    }
   ],
   "source": [
    "ax = plot_pdf(rvQS2_0, rv_name=\"Q\")\n",
    "ax.set_ylabel(\"$f_{S^2_{\\mathbf{X}}}$\")\n",
    "_ = ax.set_xlabel(\"$s^2_{\\mathbf{x}}$\")"
   ]
  },
  {
   "cell_type": "code",
   "execution_count": null,
   "id": "d4ad6aa2-c0de-4718-9986-5b245819cb34",
   "metadata": {},
   "outputs": [],
   "source": []
  },
  {
   "cell_type": "markdown",
   "id": "826a3621-20d5-4a56-a156-cfbc9a4ec7a1",
   "metadata": {},
   "source": [
    "### Calculating $p$-values"
   ]
  },
  {
   "cell_type": "code",
   "execution_count": 14,
   "id": "6e3f3598-98f5-465f-846d-a05ccbda729a",
   "metadata": {},
   "outputs": [
    {
     "name": "stdout",
     "output_type": "stream",
     "text": [
      "Saved figure to figures/stats/intro_to_NHST/panel_p-values_theta_left_twotailed_right_tests.pdf\n",
      "Saved figure to figures/stats/intro_to_NHST/panel_p-values_theta_left_twotailed_right_tests.png\n"
     ]
    },
    {
     "data": {
      "image/png": "[encoded data removed]",
      "text/plain": [
       "<Figure size 900x230 with 3 Axes>"
      ]
     },
     "metadata": {
      "image/png": {
       "height": 216,
       "width": 889
      }
     },
     "output_type": "display_data"
    }
   ],
   "source": [
    "# FIGURES ONLY\n",
    "filename = os.path.join(DESTDIR, \"panel_p-values_theta_left_twotailed_right_tests.pdf\")\n",
    "    \n",
    "from scipy.stats import t as tdist\n",
    "rvT = tdist(9)\n",
    "\n",
    "xs = np.linspace(-4, 4, 1000)\n",
    "ys = rvT.pdf(xs)\n",
    "\n",
    "with plt.rc_context({\"figure.figsize\":(9,2.3)}), sns.axes_style(\"ticks\"):\n",
    "    fig, (ax3, ax1, ax2) = plt.subplots(1,3)\n",
    "    ax3.set_ylabel(\"$f_{\\widehat{\\Theta}_0}$\")\n",
    "\n",
    "    # RIGHT\n",
    "    title = '(a) right-tailed test'\n",
    "    ax3.set_title(title, fontsize=13)#, y=-0.26)\n",
    "    sns.lineplot(x=xs, y=ys, ax=ax3)\n",
    "    ax3.set_xlim(-4, 4)\n",
    "    ax3.set_ylim(0, 0.42)\n",
    "    ax3.set_xticks([0,2])\n",
    "    ax3.set_xticklabels([])\n",
    "    ax3.set_yticks([])\n",
    "    ax3.spines[['right', 'top']].set_visible(False)\n",
    "\n",
    "    # highlight the right tail\n",
    "    mask = (xs > 2)\n",
    "    ax3.fill_between(xs[mask], y1=ys[mask], alpha=0.6, facecolor=\"red\")\n",
    "    ax3.vlines([2], ymin=0, ymax=rvT.pdf(2), linestyle=\"-\", alpha=0.5, color=\"red\")\n",
    "    ax3.text(2, -0.03, r\"$\\hat{\\theta}_{\\mathbf{x}}$\", va=\"top\", ha=\"center\")\n",
    "    ax3.text(0, -0.04, r\"$\\theta_0$\", va=\"top\", ha=\"center\")\n",
    "\n",
    "\n",
    "    # LEFT\n",
    "    title = '(b) left-tailed test'\n",
    "    ax1.set_title(title, fontsize=13) #, y=-0.26)\n",
    "    sns.lineplot(x=xs, y=ys, ax=ax1)\n",
    "    ax1.set_xlim(-4, 4)\n",
    "    ax1.set_ylim(0, 0.42)\n",
    "    ax1.set_xticks([-2,0])\n",
    "    ax1.set_xticklabels([])\n",
    "    ax1.set_yticks([])\n",
    "    ax1.spines[['left', 'right', 'top']].set_visible(False)\n",
    "\n",
    "    # highlight the left tail\n",
    "    mask = (xs < -2)\n",
    "    ax1.fill_between(xs[mask], y1=ys[mask], alpha=0.6, facecolor=\"red\")\n",
    "    ax1.vlines([-2], ymin=0, ymax=rvT.pdf(-2), linestyle=\"-\", alpha=0.5, color=\"red\")\n",
    "    ax1.text(-2, -0.03, r\"$\\hat{\\theta}_{\\mathbf{x}}$\", va=\"top\", ha=\"center\")\n",
    "    ax1.text(0, -0.04, r\"$\\theta_0$\", va=\"top\", ha=\"center\")\n",
    "\n",
    "\n",
    "    # TWO-TAILED\n",
    "    title = '(c) two-tailed test'\n",
    "    ax2.set_title(title, fontsize=13)#, y=-0.26)\n",
    "    sns.lineplot(x=xs, y=ys, ax=ax2)\n",
    "    ax2.set_xlim(-4, 4)\n",
    "    ax2.set_ylim(0, 0.42)\n",
    "    ax2.set_xticks([-2,0,2])\n",
    "    ax2.set_xticklabels([])\n",
    "    ax2.set_yticks([])\n",
    "    ax2.spines[['left', 'right', 'top']].set_visible(False)\n",
    "\n",
    "    # highlight the left and right tails\n",
    "    mask = (xs < -2)\n",
    "    ax2.fill_between(xs[mask], y1=ys[mask], alpha=0.6, facecolor=\"red\")\n",
    "    ax2.vlines([-2], ymin=0, ymax=rvT.pdf(-2), linestyle=\"-\", alpha=0.5, color=\"red\")\n",
    "    # ax2.text(-2, -0.03, r\"$-|\\hat{\\theta}_{\\mathbf{x}}|$\", va=\"top\", ha=\"center\")\n",
    "    ax2.text(-2, -0.03, r\"$\\theta_0$-dev\", va=\"top\", ha=\"center\")\n",
    "    mask = (xs > 2)\n",
    "    ax2.fill_between(xs[mask], y1=ys[mask], alpha=0.6, facecolor=\"red\")\n",
    "    ax2.vlines([2], ymin=0, ymax=rvT.pdf(2), linestyle=\"-\", alpha=0.5, color=\"red\")\n",
    "    ax2.text(2, -0.03, r\"$\\theta_0$+dev\", va=\"top\", ha=\"center\")\n",
    "    ax2.text(0, -0.04, r\"$\\theta_0$\", va=\"top\", ha=\"center\")\n",
    "\n",
    "savefigure(fig, filename)"
   ]
  },
  {
   "cell_type": "markdown",
   "id": "73241fe1-e224-47df-ade3-0140998edc6f",
   "metadata": {},
   "source": [
    "### Pivotal transformations"
   ]
  },
  {
   "cell_type": "markdown",
   "id": "2b6b5cb4-cdbd-4f0f-b393-3df097d79a6b",
   "metadata": {},
   "source": [
    "### Calculating $p$-values for standardized test statistics"
   ]
  },
  {
   "cell_type": "code",
   "execution_count": 15,
   "id": "2fe43c93-9ac1-4990-bc00-8b4e664bd4b2",
   "metadata": {},
   "outputs": [
    {
     "name": "stdout",
     "output_type": "stream",
     "text": [
      "Saved figure to figures/stats/intro_to_NHST/panel_p-values_t_left_twotailed_right_tests.pdf\n",
      "Saved figure to figures/stats/intro_to_NHST/panel_p-values_t_left_twotailed_right_tests.png\n"
     ]
    },
    {
     "data": {
      "image/png": "[encoded data removed]",
      "text/plain": [
       "<Figure size 900x230 with 3 Axes>"
      ]
     },
     "metadata": {
      "image/png": {
       "height": 216,
       "width": 889
      }
     },
     "output_type": "display_data"
    }
   ],
   "source": [
    "# FIGURES ONLY\n",
    "filename = os.path.join(DESTDIR, \"panel_p-values_t_left_twotailed_right_tests.pdf\")\n",
    "    \n",
    "from scipy.stats import t as tdist\n",
    "rvT = tdist(9)\n",
    "\n",
    "xs = np.linspace(-4, 4, 1000)\n",
    "ys = rvT.pdf(xs)\n",
    "\n",
    "with plt.rc_context({\"figure.figsize\":(9,2.3)}), sns.axes_style(\"ticks\"):\n",
    "    fig, (ax3, ax1, ax2) = plt.subplots(1,3)\n",
    "    ax3.set_ylabel(\"$f_{T_0}$\")\n",
    "\n",
    "    # RIGHT\n",
    "    title = '(a) right-tailed test'\n",
    "    ax3.set_title(title, fontsize=13)#, y=-0.26)\n",
    "    sns.lineplot(x=xs, y=ys, ax=ax3)\n",
    "    ax3.set_xlim(-4, 4)\n",
    "    ax3.set_ylim(0, 0.42)\n",
    "    ax3.set_xticks([0,2])\n",
    "    ax3.set_xticklabels([])\n",
    "    ax3.set_yticks([])\n",
    "    ax3.spines[['right', 'top']].set_visible(False)\n",
    "\n",
    "    # highlight the right tail\n",
    "    mask = (xs > 2)\n",
    "    ax3.fill_between(xs[mask], y1=ys[mask], alpha=0.6, facecolor=\"red\")\n",
    "    ax3.vlines([2], ymin=0, ymax=rvT.pdf(2), linestyle=\"-\", alpha=0.5, color=\"red\")\n",
    "    ax3.text(2, -0.03, \"$t_{\\mathbf{x}}$\", va=\"top\", ha=\"center\")\n",
    "    ax3.text(0, -0.04, r\"$0$\", va=\"top\", ha=\"center\")\n",
    "\n",
    "    # LEFT\n",
    "    title = '(b) left-tailed test'\n",
    "    ax1.set_title(title, fontsize=13) #, y=-0.26)\n",
    "    sns.lineplot(x=xs, y=ys, ax=ax1)\n",
    "    ax1.set_xlim(-4, 4)\n",
    "    ax1.set_ylim(0, 0.42)\n",
    "    ax1.set_xticks([-2,0])\n",
    "    ax1.set_xticklabels([])\n",
    "    ax1.set_yticks([])\n",
    "    ax1.spines[['left', 'right', 'top']].set_visible(False)\n",
    "\n",
    "    # highlight the left tail\n",
    "    mask = (xs < -2)\n",
    "    ax1.fill_between(xs[mask], y1=ys[mask], alpha=0.6, facecolor=\"red\")\n",
    "    ax1.vlines([-2], ymin=0, ymax=rvT.pdf(-2), linestyle=\"-\", alpha=0.5, color=\"red\")\n",
    "    ax1.text(-2, -0.03, r\"$t_{\\mathbf{x}}$\", va=\"top\", ha=\"center\")\n",
    "    ax1.text(0, -0.04, r\"$0$\", va=\"top\", ha=\"center\")\n",
    "\n",
    "\n",
    "    # TWO-TAILED\n",
    "    title = '(c) two-tailed test'\n",
    "    ax2.set_title(title, fontsize=13)#, y=-0.26)\n",
    "    sns.lineplot(x=xs, y=ys, ax=ax2)\n",
    "    ax2.set_xlim(-4, 4)\n",
    "    ax2.set_ylim(0, 0.42)\n",
    "    ax2.set_xticks([-2,0,2])\n",
    "    ax2.set_xticklabels([])\n",
    "    ax2.set_yticks([])\n",
    "    ax2.spines[['left', 'right', 'top']].set_visible(False)\n",
    "\n",
    "    # highlight the left and right tails\n",
    "    mask = (xs < -2)\n",
    "    ax2.fill_between(xs[mask], y1=ys[mask], alpha=0.6, facecolor=\"red\")\n",
    "    ax2.vlines([-2], ymin=0, ymax=rvT.pdf(-2), linestyle=\"-\", alpha=0.5, color=\"red\")\n",
    "    ax2.text(-2, -0.03, r\"$-|t_{\\mathbf{x}}|$\", va=\"top\", ha=\"center\")\n",
    "    mask = (xs > 2)\n",
    "    ax2.fill_between(xs[mask], y1=ys[mask], alpha=0.6, facecolor=\"red\")\n",
    "    ax2.vlines([2], ymin=0, ymax=rvT.pdf(2), linestyle=\"-\", alpha=0.5, color=\"red\")\n",
    "    ax2.text(2, -0.03, r\"$|t_{\\mathbf{x}}|$\", va=\"top\", ha=\"center\")\n",
    "    ax2.text(0, -0.04, r\"$0$\", va=\"top\", ha=\"center\")\n",
    "\n",
    "\n",
    "savefigure(fig, filename)"
   ]
  },
  {
   "cell_type": "code",
   "execution_count": null,
   "id": "05044f33-e880-49b7-90ce-25604bc2e954",
   "metadata": {},
   "outputs": [],
   "source": []
  },
  {
   "cell_type": "markdown",
   "id": "333605f4-6390-41f7-9235-d144349dc8e6",
   "metadata": {},
   "source": [
    "## Test for the mean (known variance)"
   ]
  },
  {
   "cell_type": "markdown",
   "id": "a7b53c6c-224f-44a3-8dd8-7094ce7fc55c",
   "metadata": {},
   "source": [
    "### Analytical approximation for the sample mean\n",
    "\n",
    "If the theoretical distribution under the null is normally distributed $X_0 \\sim \\mathcal{N}(\\mu_{X_0}, \\sigma_{X_0})$,\n",
    "then the central limit theorem tells us the sampling distribution of the mean\n",
    "is described by the formula\n",
    "  \n",
    "$$\n",
    "    \\overline{\\mathbf{X}}_0 \\sim \\mathcal{N}(\\mu_{X_0}, \\frac{\\sigma_{X_0}}{\\sqrt{n}}).\n",
    "$$"
   ]
  },
  {
   "cell_type": "markdown",
   "id": "f9a9a70d-0263-47f7-9f68-ca92f2593904",
   "metadata": {},
   "source": [
    "#### Kombucha bottling process\n",
    "\n",
    "We'll use the kombucha scenario for all the examples in this section.\n",
    "Recall, the probability distirbution of the kombucha volume is described by\n",
    "the theoretical model $K_0 \\sim \\mathcal{N}(\\mu_{K_0} = 1000, \\sigma_{K_0}=10)$\n",
    "when the production line is working as expected.\n",
    "\n",
    "We can use central limit theorem to obtain the sampling distribution of the mean since the parameters $\\mu_{K_0}$ and $\\sigma_{K_0}$ are known:\n",
    "\n",
    "$$\n",
    "    \\overline{\\mathbf{K}}_0 \\sim \\mathcal{N}(\\mu_{K_0}, \\frac{\\sigma_{K_0}}{\\sqrt{n}}).\n",
    "$$"
   ]
  },
  {
   "cell_type": "code",
   "execution_count": 16,
   "id": "96f0db44-70a3-41a2-9f03-ad1f6a509f2e",
   "metadata": {},
   "outputs": [],
   "source": [
    "# parameters of the theoretical model for the kombucha volumes\n",
    "muK0 = 1000   # population mean (expected kombucha volume)\n",
    "sigmaK0 = 10  # population standard deviation"
   ]
  },
  {
   "cell_type": "markdown",
   "id": "662a459b-8b60-4660-a00c-e25b711cc270",
   "metadata": {},
   "source": [
    "### Example 1N: test for the mean of Batch 04"
   ]
  },
  {
   "cell_type": "code",
   "execution_count": 17,
   "id": "6e9b0245-8f56-4a82-a87f-b285efda57b5",
   "metadata": {},
   "outputs": [
    {
     "data": {
      "text/plain": [
       "40"
      ]
     },
     "execution_count": 17,
     "metadata": {},
     "output_type": "execute_result"
    }
   ],
   "source": [
    "kombucha = pd.read_csv(\"../datasets/kombucha.csv\")\n",
    "batch04 = kombucha[kombucha[\"batch\"]==4]\n",
    "ksample04 = batch04[\"volume\"]\n",
    "# sample size\n",
    "n04 = len(ksample04)\n",
    "n04"
   ]
  },
  {
   "cell_type": "code",
   "execution_count": 18,
   "id": "1e4cc1f2-8e33-42d9-a7f9-e5b4cb5b6ebb",
   "metadata": {},
   "outputs": [
    {
     "data": {
      "text/plain": [
       "1003.8335"
      ]
     },
     "execution_count": 18,
     "metadata": {},
     "output_type": "execute_result"
    }
   ],
   "source": [
    "# observed mean\n",
    "obsmean04 = mean(ksample04)\n",
    "obsmean04"
   ]
  },
  {
   "cell_type": "code",
   "execution_count": 19,
   "id": "fe40948b-5d39-45d7-9082-a5e409d617f3",
   "metadata": {},
   "outputs": [
    {
     "data": {
      "text/plain": [
       "1.5811388300841895"
      ]
     },
     "execution_count": 19,
     "metadata": {},
     "output_type": "execute_result"
    }
   ],
   "source": [
    "# standard error of the mean\n",
    "se04 = sigmaK0 / np.sqrt(n04)\n",
    "se04"
   ]
  },
  {
   "cell_type": "code",
   "execution_count": 20,
   "id": "adb26b7a-6f30-4ab3-9ceb-0917a0ddd215",
   "metadata": {},
   "outputs": [
    {
     "data": {
      "text/plain": [
       "2.42451828205107"
      ]
     },
     "execution_count": 20,
     "metadata": {},
     "output_type": "execute_result"
    }
   ],
   "source": [
    "# compute the z statistic \n",
    "obsz04 = (obsmean04 - muK0) / se04\n",
    "obsz04"
   ]
  },
  {
   "cell_type": "markdown",
   "id": "e9cb8285-4b18-4103-8c7a-187595095430",
   "metadata": {},
   "source": [
    "Using direct evaluation of the cumulative distribution function $F_Z$."
   ]
  },
  {
   "cell_type": "code",
   "execution_count": 21,
   "id": "b103e4be-044f-4be4-b00b-2b524373550e",
   "metadata": {},
   "outputs": [],
   "source": [
    "from scipy.stats import norm\n",
    "rvZ = norm(0,1)"
   ]
  },
  {
   "cell_type": "code",
   "execution_count": 22,
   "id": "129706cd-23e7-40cf-bbaf-4b06a09240f0",
   "metadata": {},
   "outputs": [
    {
     "data": {
      "text/plain": [
       "0.015328711497996476"
      ]
     },
     "execution_count": 22,
     "metadata": {},
     "output_type": "execute_result"
    }
   ],
   "source": [
    "#          left tail         +  right tail \n",
    "pvalue04 = rvZ.cdf(-obsz04)  +  (1 - rvZ.cdf(obsz04))\n",
    "pvalue04"
   ]
  },
  {
   "cell_type": "code",
   "execution_count": 23,
   "id": "9325ee6a-96c2-4fc5-9371-4988beecc7fb",
   "metadata": {},
   "outputs": [
    {
     "name": "stdout",
     "output_type": "stream",
     "text": [
      "Saved figure to figures/stats/intro_to_NHST/p-value_tails_kombucha_obsz04.pdf\n",
      "Saved figure to figures/stats/intro_to_NHST/p-value_tails_kombucha_obsz04.png\n"
     ]
    },
    {
     "data": {
      "image/png": "[encoded data removed]",
      "text/plain": [
       "<Figure size 500x160 with 1 Axes>"
      ]
     },
     "metadata": {
      "image/png": {
       "height": 152,
       "width": 489
      }
     },
     "output_type": "display_data"
    }
   ],
   "source": [
    "filename = os.path.join(DESTDIR, \"p-value_tails_kombucha_obsz04.pdf\")\n",
    "from plot_helpers import calc_prob_and_plot_tails\n",
    "_, ax = calc_prob_and_plot_tails(rvZ, -obsz04, obsz04, xlims=[-4,4])\n",
    "ax.set_title(None)\n",
    "ax.set_xlabel(\"$z$\")\n",
    "ax.set_ylabel(\"$f_{Z_0}$\")\n",
    "savefigure(ax, filename)"
   ]
  },
  {
   "cell_type": "markdown",
   "id": "6a6b2cb1-72fe-4a26-b127-2623a8321059",
   "metadata": {},
   "source": [
    "#### Alternative calculation without pivotal transformation\n"
   ]
  },
  {
   "cell_type": "markdown",
   "id": "c43ff647-7485-435c-a397-64f7e36c4a00",
   "metadata": {},
   "source": [
    "Note also the pivotal transformation to the standard $Z$ is not necessary.\n",
    "We could have obtained the same $p$-value directly from the sampling distribution of the mean,\n",
    "which is described by a non-standard normal distribution:\n",
    "\n",
    "$$\n",
    "  \\overline{\\mathbf{K}}_0 = \\mathcal{N}(\\texttt{loc}=\\mu_{K_0},\\; \\texttt{scale}=\\stderr{\\overline{\\mathbf{k}}_{04},0})\n",
    "$$\n",
    "\n"
   ]
  },
  {
   "cell_type": "code",
   "execution_count": 24,
   "id": "75226b49-9389-47e1-8521-df5dc0c7b33b",
   "metadata": {},
   "outputs": [],
   "source": [
    "from scipy.stats import norm\n",
    "rvKbar0 = norm(loc=muK0, scale=se04)\n",
    "#######################################################"
   ]
  },
  {
   "cell_type": "code",
   "execution_count": 25,
   "id": "0a08070b-d745-4272-bc0e-816fe77ab952",
   "metadata": {},
   "outputs": [
    {
     "data": {
      "text/plain": [
       "3.833499999999958"
      ]
     },
     "execution_count": 25,
     "metadata": {},
     "output_type": "execute_result"
    }
   ],
   "source": [
    "dev = abs(obsmean04 - muK0)\n",
    "dev"
   ]
  },
  {
   "cell_type": "code",
   "execution_count": 26,
   "id": "b2a2a4da-2afd-4d27-b36f-5f18d32be343",
   "metadata": {},
   "outputs": [
    {
     "data": {
      "text/plain": [
       "0.015328711497996476"
      ]
     },
     "execution_count": 26,
     "metadata": {},
     "output_type": "execute_result"
    }
   ],
   "source": [
    "# left tail            +  right tail \n",
    "rvKbar0.cdf(muK0-dev)  +  (1 - rvKbar0.cdf(muK0+dev))"
   ]
  },
  {
   "cell_type": "code",
   "execution_count": 27,
   "id": "6a295db5-b848-4d4c-a111-0bc5a508153d",
   "metadata": {},
   "outputs": [
    {
     "name": "stdout",
     "output_type": "stream",
     "text": [
      "Saved figure to figures/stats/intro_to_NHST/p-value_tails_Example1N_Kbar0.pdf\n",
      "Saved figure to figures/stats/intro_to_NHST/p-value_tails_Example1N_Kbar0.png\n"
     ]
    },
    {
     "data": {
      "image/png": "[encoded data removed]",
      "text/plain": [
       "<Figure size 500x160 with 1 Axes>"
      ]
     },
     "metadata": {
      "image/png": {
       "height": 149,
       "width": 491
      }
     },
     "output_type": "display_data"
    }
   ],
   "source": [
    "filename = os.path.join(DESTDIR, \"p-value_tails_Example1N_Kbar0.pdf\")\n",
    "from plot_helpers import calc_prob_and_plot_tails\n",
    "dev = abs(obsmean04-muK0)\n",
    "_, ax = calc_prob_and_plot_tails(rvKbar0, muK0-dev, muK0+dev)\n",
    "ax.set_title(None)\n",
    "ax.set_xlabel(\"$\\overline{k}$\")\n",
    "savefigure(ax, filename)"
   ]
  },
  {
   "cell_type": "markdown",
   "id": "3b92780c-0115-4cdc-b434-dceccf1ba16f",
   "metadata": {},
   "source": [
    "The $p$-value we obtain is exactly the same."
   ]
  },
  {
   "cell_type": "code",
   "execution_count": null,
   "id": "2a561a3e-c026-46b0-bb49-32cb8f902eef",
   "metadata": {},
   "outputs": [],
   "source": []
  },
  {
   "cell_type": "markdown",
   "id": "025a4677-b15b-4337-90da-8c97ebaa1c30",
   "metadata": {},
   "source": [
    "### Example 2N: test for the mean of Batch 01"
   ]
  },
  {
   "cell_type": "code",
   "execution_count": 28,
   "id": "8cc35509-05ae-4145-8355-bf333d24ee46",
   "metadata": {},
   "outputs": [
    {
     "data": {
      "text/plain": [
       "40"
      ]
     },
     "execution_count": 28,
     "metadata": {},
     "output_type": "execute_result"
    }
   ],
   "source": [
    "kombucha = pd.read_csv(\"../datasets/kombucha.csv\")\n",
    "ksample01 = kombucha[kombucha[\"batch\"]==1][\"volume\"]\n",
    "n01 = len(ksample01)\n",
    "n01"
   ]
  },
  {
   "cell_type": "code",
   "execution_count": 29,
   "id": "c545b472-0b52-436d-a65b-8da63eac834f",
   "metadata": {},
   "outputs": [
    {
     "data": {
      "text/plain": [
       "999.10375"
      ]
     },
     "execution_count": 29,
     "metadata": {},
     "output_type": "execute_result"
    }
   ],
   "source": [
    "# observed mean\n",
    "obsmean01 = mean(ksample01)\n",
    "obsmean01"
   ]
  },
  {
   "cell_type": "code",
   "execution_count": 30,
   "id": "a8ec20f3-6c7a-4315-beb0-460abcbe8ec5",
   "metadata": {},
   "outputs": [
    {
     "data": {
      "text/plain": [
       "1.5811388300841895"
      ]
     },
     "execution_count": 30,
     "metadata": {},
     "output_type": "execute_result"
    }
   ],
   "source": [
    "# standard error of the mean\n",
    "se01 = sigmaK0 / np.sqrt(n01)\n",
    "se01"
   ]
  },
  {
   "cell_type": "markdown",
   "id": "3f742bc3-8f5b-41a1-884f-b8cf94f87968",
   "metadata": {},
   "source": [
    "Note the standard error is the same as `se04` we calculated in Example 1N.\n",
    "This is because the sample size is the same,\n",
    "and we're relying on the same assumptions about the standard deviation of the theoretical distribution."
   ]
  },
  {
   "cell_type": "code",
   "execution_count": 31,
   "id": "41ce093b-eb3b-4992-9ca1-987881853631",
   "metadata": {},
   "outputs": [
    {
     "data": {
      "text/plain": [
       "-0.5668382705851878"
      ]
     },
     "execution_count": 31,
     "metadata": {},
     "output_type": "execute_result"
    }
   ],
   "source": [
    "# compute the z statistic \n",
    "obsz01 = (obsmean01 - muK0) / se01\n",
    "obsz01"
   ]
  },
  {
   "cell_type": "code",
   "execution_count": 32,
   "id": "ff2202c4-f8d6-45a2-a483-5d0f210c3f69",
   "metadata": {},
   "outputs": [],
   "source": [
    "from scipy.stats import norm\n",
    "\n",
    "rvZ = norm(0,1)\n",
    "#######################################################"
   ]
  },
  {
   "cell_type": "code",
   "execution_count": 33,
   "id": "d064094d-7a34-4f4a-9e89-450b9c62c213",
   "metadata": {},
   "outputs": [
    {
     "data": {
      "text/plain": [
       "0.5708240666473916"
      ]
     },
     "execution_count": 33,
     "metadata": {},
     "output_type": "execute_result"
    }
   ],
   "source": [
    "#          left tail              +  right tail \n",
    "pvalue01 = rvZ.cdf(-abs(obsz01))  +  (1 - rvZ.cdf(abs(obsz01)))\n",
    "pvalue01"
   ]
  },
  {
   "cell_type": "markdown",
   "id": "b331f08a-011b-4817-9f7a-e7c47f1c74df",
   "metadata": {},
   "source": [
    "The $p$-value is large,\n",
    "so there is no reason to reject $H_0$.\n",
    "We conclude that Batch 01 must be regular."
   ]
  },
  {
   "cell_type": "code",
   "execution_count": 34,
   "id": "9abdd7f1-0e20-44f7-9d23-89dca3273471",
   "metadata": {},
   "outputs": [
    {
     "name": "stdout",
     "output_type": "stream",
     "text": [
      "Saved figure to figures/stats/intro_to_NHST/p-value_tails_kombucha_obsz01.pdf\n",
      "Saved figure to figures/stats/intro_to_NHST/p-value_tails_kombucha_obsz01.png\n"
     ]
    },
    {
     "data": {
      "image/png": "[encoded data removed]",
      "text/plain": [
       "<Figure size 500x160 with 1 Axes>"
      ]
     },
     "metadata": {
      "image/png": {
       "height": 152,
       "width": 489
      }
     },
     "output_type": "display_data"
    }
   ],
   "source": [
    "filename = os.path.join(DESTDIR, \"p-value_tails_kombucha_obsz01.pdf\")\n",
    "from plot_helpers import calc_prob_and_plot_tails\n",
    "_, ax= calc_prob_and_plot_tails(rvZ, obsz01, -obsz01, xlims=[-4,4])\n",
    "ax.set_title(None)\n",
    "ax.set_xlabel(\"$z$\")\n",
    "ax.set_ylabel(\"$f_Z$\")\n",
    "savefigure(ax, filename)"
   ]
  },
  {
   "cell_type": "code",
   "execution_count": null,
   "id": "37fe5dc2-0624-4e8e-90f7-14b3b3d53a61",
   "metadata": {},
   "outputs": [],
   "source": []
  },
  {
   "cell_type": "code",
   "execution_count": null,
   "id": "b0fb9aa3-78fd-4f5f-a4cd-996d90cb27cc",
   "metadata": {},
   "outputs": [],
   "source": []
  },
  {
   "cell_type": "markdown",
   "id": "d4a7d1a9-ff3a-423e-875c-0959e50d531d",
   "metadata": {},
   "source": [
    "## Test for the mean (unknown variance)"
   ]
  },
  {
   "cell_type": "markdown",
   "id": "5816aa1b-505f-48c0-b9e5-170c0f698dc6",
   "metadata": {},
   "source": [
    "### Analytical approximation based on Student's $t$-distribution\n",
    "\n",
    "Consider again a theoretical distribution $X_0 \\sim \\mathcal{N}(\\mu_{X_0}, \\sigma_{X_0})$,\n",
    "but this time assume that $\\sigma_{X_0}$ is not known.\n",
    "\n",
    "The sampling distribution of the mean $\\overline{\\mathbf{X}}_0$ for samples of size $n$,\n",
    "after applying the location-scale transformation,\n",
    "can be modelled in terms of the standard $t$-distribution with $n-1$ degrees of freedom:\n",
    "\n",
    "$$\n",
    "    T_0  = \n",
    "    \\frac{ \\overline{\\mathbf{X}}_0-\\mu_{X_0} }{ \\stderrhat{\\overline{\\mathbf{x}}} }\n",
    "    \\;\\; \\sim \\;\\;  \\mathcal{T}(\\tt{df}=n-1, \\; \\tt{loc}=0, \\; \\tt{scale}=1).\n",
    "$$\n"
   ]
  },
  {
   "cell_type": "markdown",
   "id": "4ab08da3-53d7-4727-be04-fddf8e6c40d2",
   "metadata": {},
   "source": [
    "### Example 1T: test for the mean of Batch 04"
   ]
  },
  {
   "cell_type": "markdown",
   "id": "bbc19c93-6fd2-4395-853f-0077199f015d",
   "metadata": {},
   "source": [
    "#### Assume we know mean, but not variance"
   ]
  },
  {
   "cell_type": "code",
   "execution_count": 35,
   "id": "45b7498d-3984-41d3-82d4-4cfab85165a2",
   "metadata": {},
   "outputs": [
    {
     "data": {
      "text/plain": [
       "40"
      ]
     },
     "execution_count": 35,
     "metadata": {},
     "output_type": "execute_result"
    }
   ],
   "source": [
    "kombucha = pd.read_csv(\"../datasets/kombucha.csv\")\n",
    "ksample04 = kombucha[kombucha[\"batch\"]==4][\"volume\"]\n",
    "n04 = len(ksample04)\n",
    "n04"
   ]
  },
  {
   "cell_type": "code",
   "execution_count": 36,
   "id": "dc1d4282-e492-481e-b172-1507b28396d6",
   "metadata": {},
   "outputs": [
    {
     "data": {
      "text/plain": [
       "7.85217413955834"
      ]
     },
     "execution_count": 36,
     "metadata": {},
     "output_type": "execute_result"
    }
   ],
   "source": [
    "# estimated standard error of the mean\n",
    "s04 = std(ksample04)\n",
    "s04"
   ]
  },
  {
   "cell_type": "code",
   "execution_count": 37,
   "id": "f2adf8f5-7b42-4cf5-866a-c27078b94e38",
   "metadata": {},
   "outputs": [
    {
     "data": {
      "text/plain": [
       "1.2415377432638601"
      ]
     },
     "execution_count": 37,
     "metadata": {},
     "output_type": "execute_result"
    }
   ],
   "source": [
    "sehat04 = s04 / np.sqrt(n04)\n",
    "sehat04"
   ]
  },
  {
   "cell_type": "markdown",
   "id": "eb1cf0ce-d6e0-4d72-8da7-9976a164d62e",
   "metadata": {},
   "source": [
    "Recall the value `se04` = $\\stderr{\\overline{\\mathbf{k}}_{04},0}=\\frac{\\sigma_{K_0}}{\\sqrt{40}} = 1.58$,\n",
    "which we obtained by assuming the population standard deviation is known.\n",
    "We see that `sehat04` is an underestimate, because the sample standard deviation `s04` happens to be smaller than the true population standard deviation $\\sigma_{K_0} = 10$.\n"
   ]
  },
  {
   "cell_type": "code",
   "execution_count": 38,
   "id": "32b0b8b3-2335-4602-9c36-e814fa570418",
   "metadata": {},
   "outputs": [
    {
     "data": {
      "text/plain": [
       "1003.8335"
      ]
     },
     "execution_count": 38,
     "metadata": {},
     "output_type": "execute_result"
    }
   ],
   "source": [
    "# observed sample mean\n",
    "obsmean04 = mean(ksample04)\n",
    "obsmean04"
   ]
  },
  {
   "cell_type": "code",
   "execution_count": 39,
   "id": "031151ee-c7ad-4286-b04e-845d91c2bb99",
   "metadata": {},
   "outputs": [
    {
     "data": {
      "text/plain": [
       "3.087703149420272"
      ]
     },
     "execution_count": 39,
     "metadata": {},
     "output_type": "execute_result"
    }
   ],
   "source": [
    "# compute the t statistic \n",
    "obst04 = (obsmean04 - muK0) / sehat04\n",
    "obst04"
   ]
  },
  {
   "cell_type": "code",
   "execution_count": 40,
   "id": "2cc32206-78d3-456a-9070-1c53d38770e6",
   "metadata": {},
   "outputs": [
    {
     "data": {
      "text/plain": [
       "0.00370566535033293"
      ]
     },
     "execution_count": 40,
     "metadata": {},
     "output_type": "execute_result"
    }
   ],
   "source": [
    "from scipy.stats import t as tdist\n",
    "\n",
    "df04 = n04 - 1  # n-1 degrees of freedom\n",
    "rvT04 = tdist(df04)\n",
    "\n",
    "#           left tail          +  right tail \n",
    "pvalue04t = rvT04.cdf(-obst04) +  (1-rvT04.cdf(obst04))\n",
    "pvalue04t"
   ]
  },
  {
   "cell_type": "code",
   "execution_count": 41,
   "id": "a46949e2-a953-40c7-a5b5-62fd3d4e8b5f",
   "metadata": {},
   "outputs": [],
   "source": [
    "# no figure because too small"
   ]
  },
  {
   "cell_type": "markdown",
   "id": "5f3dc04b-cabe-4fc3-a7da-c54170b3661a",
   "metadata": {},
   "source": [
    "#### Effect size estimates"
   ]
  },
  {
   "cell_type": "code",
   "execution_count": 42,
   "id": "00aed7d1-92d9-40f3-bf6c-595737bf6fba",
   "metadata": {},
   "outputs": [
    {
     "data": {
      "text/plain": [
       "3.833499999999958"
      ]
     },
     "execution_count": 42,
     "metadata": {},
     "output_type": "execute_result"
    }
   ],
   "source": [
    "obsmean04 - muK0"
   ]
  },
  {
   "cell_type": "code",
   "execution_count": 43,
   "id": "b6fa92bb-8842-4955-bcff-59b9b41f19fd",
   "metadata": {},
   "outputs": [
    {
     "data": {
      "text/plain": [
       "[1.74166394645777, 5.9253360535422255]"
      ]
     },
     "execution_count": 43,
     "metadata": {},
     "output_type": "execute_result"
    }
   ],
   "source": [
    "from stats_helpers import ci_mean\n",
    "\n",
    "ci_mean(ksample04-muK0, alpha=0.1, method=\"a\")"
   ]
  },
  {
   "cell_type": "code",
   "execution_count": null,
   "id": "049593b2-1cf2-4005-9bd5-0a454fc4124a",
   "metadata": {},
   "outputs": [],
   "source": []
  },
  {
   "cell_type": "code",
   "execution_count": null,
   "id": "fc4fc132-aac4-4d25-a170-73923c265cda",
   "metadata": {},
   "outputs": [],
   "source": []
  },
  {
   "cell_type": "markdown",
   "id": "7eeef73a-7a3d-494c-87f9-c890413ae507",
   "metadata": {},
   "source": [
    "### Example 2T: test for the mean of Batch 01"
   ]
  },
  {
   "cell_type": "code",
   "execution_count": 44,
   "id": "21d6e783-1183-44d3-af89-8fa28f45560c",
   "metadata": {},
   "outputs": [],
   "source": [
    "kombucha = pd.read_csv(\"../datasets/kombucha.csv\")\n",
    "ksample01 = kombucha[kombucha[\"batch\"]==1][\"volume\"]"
   ]
  },
  {
   "cell_type": "code",
   "execution_count": 45,
   "id": "8e360b87-f6ce-48a2-81cb-5939a58fb838",
   "metadata": {},
   "outputs": [
    {
     "data": {
      "text/plain": [
       "1.5446402654597249"
      ]
     },
     "execution_count": 45,
     "metadata": {},
     "output_type": "execute_result"
    }
   ],
   "source": [
    "# estimated standard error of the mean\n",
    "s01 = std(ksample01)\n",
    "n01 = len(ksample01)\n",
    "sehat01 = s01 / np.sqrt(n01)\n",
    "sehat01"
   ]
  },
  {
   "cell_type": "markdown",
   "id": "7c1f6dc7-a18c-436d-992d-b56d9ee4de68",
   "metadata": {},
   "source": [
    "cf. `se01` = $\\stderr{\\overline{\\mathbf{k}}_{01},0}=\\frac{\\sigma_{K_0}}{\\sqrt{40}} = 1.58$,"
   ]
  },
  {
   "cell_type": "code",
   "execution_count": 46,
   "id": "c4a07f13-a7ca-4645-a8bc-96e406231060",
   "metadata": {},
   "outputs": [
    {
     "data": {
      "text/plain": [
       "999.10375"
      ]
     },
     "execution_count": 46,
     "metadata": {},
     "output_type": "execute_result"
    }
   ],
   "source": [
    "# observed sample mean\n",
    "obsmean01 = mean(ksample01)\n",
    "obsmean01"
   ]
  },
  {
   "cell_type": "code",
   "execution_count": 47,
   "id": "316a8c9d-81f5-4181-8143-95aa64bd91e6",
   "metadata": {},
   "outputs": [
    {
     "data": {
      "text/plain": [
       "-0.5802321874169595"
      ]
     },
     "execution_count": 47,
     "metadata": {},
     "output_type": "execute_result"
    }
   ],
   "source": [
    "# compute the t statistic \n",
    "obst01 = (obsmean01 - muK0) / sehat01\n",
    "obst01"
   ]
  },
  {
   "cell_type": "code",
   "execution_count": 48,
   "id": "c46777d0-e5b4-46de-871a-0fdd2d97503b",
   "metadata": {},
   "outputs": [],
   "source": [
    "from scipy.stats import t as tdist\n",
    "\n",
    "df01 = n01 - 1  # n-1 degrees of freedom\n",
    "rvT01 = tdist(df01)"
   ]
  },
  {
   "cell_type": "code",
   "execution_count": 49,
   "id": "bd67e7d2-2a40-4573-b000-c009d9d304ea",
   "metadata": {},
   "outputs": [
    {
     "data": {
      "text/plain": [
       "0.5650956637295477"
      ]
     },
     "execution_count": 49,
     "metadata": {},
     "output_type": "execute_result"
    }
   ],
   "source": [
    "#######################################################\n",
    "#           left tail          +  right tail \n",
    "pvalue01t = rvT01.cdf(-abs(obst01)) + 1-rvT01.cdf(abs(obst01))\n",
    "pvalue01t"
   ]
  },
  {
   "cell_type": "code",
   "execution_count": 50,
   "id": "5159fd17-7a79-4020-8349-8cdfd1686684",
   "metadata": {},
   "outputs": [],
   "source": [
    "# # ALT. compute right tail and double the value\n",
    "# p_right = 1 - rvT01.cdf(abs(obst01))\n",
    "# pvalue01t = 2 * p_right \n",
    "# pvalue01t"
   ]
  },
  {
   "cell_type": "code",
   "execution_count": 51,
   "id": "26b72601-c25d-417f-991b-01d90d1c0ff6",
   "metadata": {},
   "outputs": [
    {
     "name": "stdout",
     "output_type": "stream",
     "text": [
      "Saved figure to figures/stats/intro_to_NHST/p-value_tails_kombucha_obst01.pdf\n",
      "Saved figure to figures/stats/intro_to_NHST/p-value_tails_kombucha_obst01.png\n"
     ]
    },
    {
     "data": {
      "image/png": "[encoded data removed]",
      "text/plain": [
       "<Figure size 500x160 with 1 Axes>"
      ]
     },
     "metadata": {
      "image/png": {
       "height": 152,
       "width": 489
      }
     },
     "output_type": "display_data"
    }
   ],
   "source": [
    "filename = os.path.join(DESTDIR, \"p-value_tails_kombucha_obst01.pdf\")\n",
    "from plot_helpers import calc_prob_and_plot_tails\n",
    "_, ax = calc_prob_and_plot_tails(rvT01, obst01, -obst01, xlims=[-4,4])\n",
    "ax.set_title(None)\n",
    "ax.set_xlabel(\"$t$\")\n",
    "ax.set_ylabel(\"$f_{T}$\")\n",
    "savefigure(ax, filename)"
   ]
  },
  {
   "cell_type": "code",
   "execution_count": null,
   "id": "3a7e7cb8-5445-4336-9703-6d6ae5480605",
   "metadata": {},
   "outputs": [],
   "source": []
  },
  {
   "cell_type": "code",
   "execution_count": null,
   "id": "37f4256c-663c-4bea-8a9b-6ac94b7af908",
   "metadata": {},
   "outputs": [],
   "source": []
  },
  {
   "cell_type": "markdown",
   "id": "3dc6a366-db3a-422b-8f11-9ce73172df6e",
   "metadata": {},
   "source": [
    "## Test for the variance"
   ]
  },
  {
   "cell_type": "markdown",
   "id": "4219e202-ce03-417f-99fa-118c22fc0574",
   "metadata": {},
   "source": [
    "### Formula for sampling distribution of the variance"
   ]
  },
  {
   "cell_type": "markdown",
   "id": "6b4ecac4-8850-43af-a102-c131bd5e50e3",
   "metadata": {},
   "source": [
    "#### Chi-square test for variance\n",
    "\n",
    "If the theoretical distribution under the null hypothesis is normal\n",
    "$K_0 \\sim \\mathcal{N}(\\mu_{K_0}, \\sigma_{K_0})$,\n",
    "then the sampling distribution of variance for samples of size $n$\n",
    "is described by a scaled chi-square distribution:\n",
    "\n",
    "$$\n",
    "    S_{\\mathbf{K},0}^2\n",
    "    \\;\\; \\sim \\;\\;\n",
    "    \\chi^2(\\tt{df}\\!=\\!n-1, \\; \\tt{scale}\\!=\\!\\tfrac{ \\sigma_{K_0}^2 }{ n-1 } )\n",
    "    \\; = \\;\n",
    "    \\tfrac{ \\sigma_{K_0}^2 }{ n-1 } \n",
    "    \\cdot \\chi^2(n-1).\n",
    "$$\n",
    "\n"
   ]
  },
  {
   "cell_type": "markdown",
   "id": "e25fdd14-7703-4a67-9df0-ffaf3e3ba1b1",
   "metadata": {},
   "source": [
    "### Example 3X: test for the variance of Batch 02"
   ]
  },
  {
   "cell_type": "code",
   "execution_count": 52,
   "id": "27534026-b43f-4493-a56e-4c3e1614e95e",
   "metadata": {},
   "outputs": [
    {
     "data": {
      "text/plain": [
       "20"
      ]
     },
     "execution_count": 52,
     "metadata": {},
     "output_type": "execute_result"
    }
   ],
   "source": [
    "kombucha = pd.read_csv(\"../datasets/kombucha.csv\")\n",
    "ksample02 = kombucha[kombucha[\"batch\"]==2][\"volume\"]\n",
    "n02 = len(ksample02)\n",
    "n02"
   ]
  },
  {
   "cell_type": "code",
   "execution_count": 53,
   "id": "757d3b7c-3429-4b97-ad87-dc290e0fc16f",
   "metadata": {},
   "outputs": [
    {
     "data": {
      "text/plain": [
       "124.31760105263136"
      ]
     },
     "execution_count": 53,
     "metadata": {},
     "output_type": "execute_result"
    }
   ],
   "source": [
    "obsvar02 = var(ksample02)\n",
    "obsvar02"
   ]
  },
  {
   "cell_type": "markdown",
   "id": "9d0301ad-3cf9-4507-a835-e33ee97fc280",
   "metadata": {},
   "source": [
    "We can now compute the $q$-statistic,\n",
    "which is the observed sample variance estimate $s_{\\mathbf{k}_{02}}^2 = 124.32$\n",
    "divided by the scale factor $\\tfrac{ \\sigma_{K_0}^2 }{ n-1 }$."
   ]
  },
  {
   "cell_type": "code",
   "execution_count": 54,
   "id": "8ba6201b-6e96-4f74-9984-517397cc3721",
   "metadata": {},
   "outputs": [
    {
     "data": {
      "text/plain": [
       "23.62034419999996"
      ]
     },
     "execution_count": 54,
     "metadata": {},
     "output_type": "execute_result"
    }
   ],
   "source": [
    "obsq02 = (n02-1) * obsvar02 / sigmaK0**2\n",
    "obsq02"
   ]
  },
  {
   "cell_type": "code",
   "execution_count": 55,
   "id": "e445d99d-9977-4288-b89b-d1c68b6e5691",
   "metadata": {},
   "outputs": [
    {
     "data": {
      "text/plain": [
       "0.2111207328360385"
      ]
     },
     "execution_count": 55,
     "metadata": {},
     "output_type": "execute_result"
    }
   ],
   "source": [
    "from scipy.stats import chi2\n",
    "\n",
    "rvX2 = chi2(n02 - 1)\n",
    "pvalue02 = 1 - rvX2.cdf(obsq02)\n",
    "pvalue02"
   ]
  },
  {
   "cell_type": "markdown",
   "id": "d922b6d2-9da4-413f-8b03-387acf126d38",
   "metadata": {},
   "source": [
    "The $p$-value is large,\n",
    "so there is no reason to reject $H_0$."
   ]
  },
  {
   "cell_type": "code",
   "execution_count": null,
   "id": "76187ead-3167-4b29-a0bc-6a7329624a30",
   "metadata": {},
   "outputs": [],
   "source": []
  },
  {
   "cell_type": "code",
   "execution_count": 56,
   "id": "83708079-b5ab-409d-b4c7-18f6695d30bd",
   "metadata": {},
   "outputs": [
    {
     "name": "stdout",
     "output_type": "stream",
     "text": [
      "Saved figure to figures/stats/intro_to_NHST/p-value_right_tail_kombucha_obsq02.pdf\n",
      "Saved figure to figures/stats/intro_to_NHST/p-value_right_tail_kombucha_obsq02.png\n"
     ]
    },
    {
     "data": {
      "image/png": "[encoded data removed]",
      "text/plain": [
       "<Figure size 500x160 with 1 Axes>"
      ]
     },
     "metadata": {
      "image/png": {
       "height": 150,
       "width": 495
      }
     },
     "output_type": "display_data"
    }
   ],
   "source": [
    "filename = os.path.join(DESTDIR, \"p-value_right_tail_kombucha_obsq02.pdf\")\n",
    "_, ax = calc_prob_and_plot_tails(rvX2, 0, obsq02, xlims=[0,50])\n",
    "ax.set_title(None)\n",
    "ax.set_xlabel(\"$q$\")\n",
    "ax.set_ylabel(\"$f_{\\chi^2}$\")\n",
    "savefigure(ax, filename)"
   ]
  },
  {
   "cell_type": "markdown",
   "id": "df0b1a40-a609-4b84-b625-443f6f905a87",
   "metadata": {},
   "source": [
    "### Example 4X: test for the variance of Batch 08"
   ]
  },
  {
   "cell_type": "code",
   "execution_count": 57,
   "id": "b93b69a2-e77c-41f8-9645-5efd74f9351e",
   "metadata": {},
   "outputs": [
    {
     "data": {
      "text/plain": [
       "40"
      ]
     },
     "execution_count": 57,
     "metadata": {},
     "output_type": "execute_result"
    }
   ],
   "source": [
    "kombucha = pd.read_csv(\"../datasets/kombucha.csv\")\n",
    "ksample08 = kombucha[kombucha[\"batch\"]==8][\"volume\"]\n",
    "n08 = len(ksample08)\n",
    "n08"
   ]
  },
  {
   "cell_type": "code",
   "execution_count": 58,
   "id": "72337e1f-a903-4e34-a622-6e753d361641",
   "metadata": {},
   "outputs": [
    {
     "data": {
      "text/plain": [
       "169.9979220512824"
      ]
     },
     "execution_count": 58,
     "metadata": {},
     "output_type": "execute_result"
    }
   ],
   "source": [
    "obsvar08 = var(ksample08)\n",
    "obsvar08"
   ]
  },
  {
   "cell_type": "code",
   "execution_count": 59,
   "id": "5671b1df-deec-4f39-b537-8ad93f17c6a4",
   "metadata": {},
   "outputs": [
    {
     "data": {
      "text/plain": [
       "66.29918960000013"
      ]
     },
     "execution_count": 59,
     "metadata": {},
     "output_type": "execute_result"
    }
   ],
   "source": [
    "obsq08 = (n08-1) * obsvar08 / sigmaK0**2\n",
    "obsq08"
   ]
  },
  {
   "cell_type": "code",
   "execution_count": 60,
   "id": "849c4ac6-18e9-4443-82cd-c38ddea01003",
   "metadata": {},
   "outputs": [
    {
     "data": {
      "text/plain": [
       "0.0041211873587608805"
      ]
     },
     "execution_count": 60,
     "metadata": {},
     "output_type": "execute_result"
    }
   ],
   "source": [
    "from scipy.stats import chi2\n",
    "\n",
    "rvX2 = chi2(n08 - 1)\n",
    "pvalue08 = 1 - rvX2.cdf(obsq08)\n",
    "pvalue08"
   ]
  },
  {
   "cell_type": "markdown",
   "id": "6295b901-8311-4e7a-8e9b-821855b2042a",
   "metadata": {},
   "source": [
    "The $p$-value is vary small,\n",
    "so we reject $H_0$.\n",
    "According to our analysis based on the sample variance from Batch 08,\n",
    "this batch seems to be irregular: it has an abnormally large variance."
   ]
  },
  {
   "cell_type": "markdown",
   "id": "c874751e-119d-4814-aaa6-a6879d80d0c6",
   "metadata": {},
   "source": [
    "#### Effect size estimates\n",
    "\n",
    "We can estimate the effect size using the formula $\\widehat{\\Delta} = s^2_{\\mathbf{k}_{08}} / \\sigma_{K_0}^2$."
   ]
  },
  {
   "cell_type": "code",
   "execution_count": 61,
   "id": "5eac0589-7948-4ac1-a679-eefd5f2858bc",
   "metadata": {},
   "outputs": [
    {
     "data": {
      "text/plain": [
       "1.699979220512824"
      ]
     },
     "execution_count": 61,
     "metadata": {},
     "output_type": "execute_result"
    }
   ],
   "source": [
    "obsvar08 / sigmaK0**2"
   ]
  },
  {
   "cell_type": "markdown",
   "id": "0c21c9da-a01e-4f0f-9af0-faaf177b6d8b",
   "metadata": {},
   "source": [
    "We can also obtain confidence interval for the effect size $\\ci{\\Delta,0.9}$\n",
    "by first computing a 90\\% confidence interval for the variance $\\ci{\\sigma^2,0.9}$,\n",
    "then dividing by the theoretical variance $\\sigma_{K_0}^2$."
   ]
  },
  {
   "cell_type": "code",
   "execution_count": 62,
   "id": "5b58a2d0-89b8-4884-be75-e20851fa16a1",
   "metadata": {},
   "outputs": [
    {
     "data": {
      "text/plain": [
       "[1.2148888239061655, 2.58019779302895]"
      ]
     },
     "execution_count": 62,
     "metadata": {},
     "output_type": "execute_result"
    }
   ],
   "source": [
    "from stats_helpers import ci_var\n",
    "civar08 = ci_var(ksample08, alpha=0.1, method=\"a\")\n",
    "ci_l = civar08[0] / sigmaK0**2\n",
    "ci_u = civar08[1] / sigmaK0**2\n",
    "[ci_l, ci_u]"
   ]
  },
  {
   "cell_type": "markdown",
   "id": "39dffe7f-c056-4b6e-baf8-c9f4d6bf3b60",
   "metadata": {},
   "source": [
    "Compare this to the bootstrap confidence interval for the effect size $\\ci{\\Delta,0.9}^* = [1.17, 2.18]$ ,\n",
    "which we obtained earlier in [Section 3.3](./33_intro_to_NHST.ipynb)."
   ]
  },
  {
   "cell_type": "code",
   "execution_count": null,
   "id": "96d2f90b-c04c-407a-b772-618f40dd811d",
   "metadata": {},
   "outputs": [],
   "source": []
  },
  {
   "cell_type": "markdown",
   "id": "ee94b5e9-65e9-4ae0-b7db-0102f10a39e5",
   "metadata": {},
   "source": [
    "## Alternative calculation methods"
   ]
  },
  {
   "cell_type": "markdown",
   "id": "409d614d-8da9-4561-8b35-7b49ea111deb",
   "metadata": {},
   "source": [
    "### Using `scipy.stats.ttest_1samp` for one-sample $t$-test"
   ]
  },
  {
   "cell_type": "code",
   "execution_count": 63,
   "id": "63019ddc-07a3-42bb-acdf-8d65e1458919",
   "metadata": {},
   "outputs": [
    {
     "data": {
      "text/plain": [
       "0.0037056653503329618"
      ]
     },
     "execution_count": 63,
     "metadata": {},
     "output_type": "execute_result"
    }
   ],
   "source": [
    "# ALT. using existing function `scipy.stats`\n",
    "from scipy.stats import ttest_1samp\n",
    "res = ttest_1samp(ksample04, popmean=muK0)\n",
    "res.pvalue"
   ]
  },
  {
   "cell_type": "code",
   "execution_count": 64,
   "id": "59d8c1d7-6d92-4890-a716-4f46214b5701",
   "metadata": {},
   "outputs": [
    {
     "data": {
      "text/plain": [
       "array([1.74166395, 5.92533605])"
      ]
     },
     "execution_count": 64,
     "metadata": {},
     "output_type": "execute_result"
    }
   ],
   "source": [
    "ci04 = res.confidence_interval(confidence_level=0.9)\n",
    "np.array([ci04.low, ci04.high]) - muK0"
   ]
  },
  {
   "cell_type": "markdown",
   "id": "6b21f086-8b3f-4cdf-a1f3-f4c8834e2b6b",
   "metadata": {},
   "source": [
    "We see the $p$-value and the 90\\% confidence interval are same the ones we calculated earlier in Example 1T."
   ]
  },
  {
   "cell_type": "code",
   "execution_count": null,
   "id": "6b8647d5-9e85-47e7-9fd7-7600858244e1",
   "metadata": {},
   "outputs": [],
   "source": []
  },
  {
   "cell_type": "markdown",
   "id": "da17a6b0-252a-4b2c-9bea-4cbddede33d0",
   "metadata": {},
   "source": [
    "### Bootstrap estimate of the standard error\n",
    "\n",
    "Another way to obtain the standard error of the mean\n",
    "(the standard deviation of the sampling distribution of the mean)\n",
    "is to use the bootstrap estimate.\n",
    "\n",
    "See problems PNN and PMM in the notebook [chapter3_problems.ipynb](../problems/chapter3_problems.ipynb).\n"
   ]
  },
  {
   "cell_type": "code",
   "execution_count": null,
   "id": "c855a2e8-1795-4680-abfa-d7097e5c3a44",
   "metadata": {},
   "outputs": [],
   "source": []
  },
  {
   "cell_type": "code",
   "execution_count": null,
   "id": "3c49c1e5-d0fb-4564-85b4-6f86948e7d08",
   "metadata": {},
   "outputs": [],
   "source": []
  },
  {
   "cell_type": "markdown",
   "id": "42ac5876-b647-40b4-a2fb-cdb076158660",
   "metadata": {},
   "source": [
    "## Explanations"
   ]
  },
  {
   "cell_type": "code",
   "execution_count": null,
   "id": "fd5eb352-5a3f-4676-ab8b-58bfba9c879f",
   "metadata": {},
   "outputs": [],
   "source": []
  },
  {
   "cell_type": "markdown",
   "id": "d8a1a609-071b-4c40-8292-34cd5de15ef7",
   "metadata": {},
   "source": [
    "#### Helper function for calculating $p$-values"
   ]
  },
  {
   "cell_type": "code",
   "execution_count": 65,
   "id": "e8c94750-b05c-4c76-aa3b-6181c6fb5af2",
   "metadata": {},
   "outputs": [],
   "source": [
    "def tailprobs(rvH0, obs, alt=\"two-sided\"):\n",
    "    \"\"\"\n",
    "    Calculate the probability of all outcomes of the random variable `rvH0`\n",
    "    that are equal or more extreme than the observed value `obs`.\n",
    "    \"\"\"\n",
    "    assert alt in [\"greater\", \"less\", \"two-sided\"]\n",
    "    if alt == \"greater\":\n",
    "        pvalue = 1 - rvH0.cdf(obs)\n",
    "    elif alt == \"less\":\n",
    "        pvalue = rvH0.cdf(obs)\n",
    "    elif alt == \"two-sided\":  # assumes distribution is symmetric\n",
    "        meanH0 = rvH0.mean()\n",
    "        obsdev = abs(obs - meanH0)\n",
    "        pleft = rvH0.cdf(meanH0 - obsdev)\n",
    "        pright = 1 - rvH0.cdf(meanH0 + obsdev)\n",
    "        pvalue = pleft + pright\n",
    "    return pvalue"
   ]
  },
  {
   "cell_type": "markdown",
   "id": "3dea919f-620e-4009-b28e-1d3c70d924bc",
   "metadata": {},
   "source": [
    "#### One-sided $p$-value calculation example\n",
    "\n",
    "Reusing the variables `n02=20` and `obsq02=23.62` we calculated in Example 3X above,\n",
    "we can calculate the $p$-value by calling the helper function `tailprobs`\n",
    "with the option `alt=\"greater\"`:"
   ]
  },
  {
   "cell_type": "code",
   "execution_count": 66,
   "id": "9e3c985d-e127-415a-ab2f-b42b81b3fa05",
   "metadata": {},
   "outputs": [
    {
     "data": {
      "text/plain": [
       "0.2111207328360385"
      ]
     },
     "execution_count": 66,
     "metadata": {},
     "output_type": "execute_result"
    }
   ],
   "source": [
    "rvX2 = chi2(n02 - 1)\n",
    "tailprobs(rvX2, obsq02, alt=\"greater\")"
   ]
  },
  {
   "cell_type": "markdown",
   "id": "d274d212-40e2-497a-b9a6-5af9eb123a58",
   "metadata": {},
   "source": [
    "The value we obtained is identical to the value `pvalue02` we obtained in Example 3X,\n",
    "so we know the function `tailprobs` works as expected for $p$-value calculations of type (a),\n",
    "where we want to detect only positive deviations from the expected distribution under $H_0$."
   ]
  },
  {
   "cell_type": "markdown",
   "id": "bb5368ee-9282-4441-a055-962536712576",
   "metadata": {},
   "source": [
    "#### Two-sided $p$-value calculation example\n",
    "\n",
    "Reusing the variable `obsz04` we calculated in Example 1N above,\n",
    "we can calculate the $p$-value by calling the function `tailprobs`\n",
    "with the option `alt=\"two-sided\"`:"
   ]
  },
  {
   "cell_type": "code",
   "execution_count": 67,
   "id": "5d737427-890b-4d53-ba68-00467130b4cc",
   "metadata": {},
   "outputs": [
    {
     "data": {
      "text/plain": [
       "0.015328711497996476"
      ]
     },
     "execution_count": 67,
     "metadata": {},
     "output_type": "execute_result"
    }
   ],
   "source": [
    "rvZ = norm(0,1)\n",
    "tailprobs(rvZ, obsz04, alt=\"two-sided\")"
   ]
  },
  {
   "cell_type": "markdown",
   "id": "7d92fe44-79be-40e6-812c-147ae266c3d9",
   "metadata": {},
   "source": [
    "The value we obtained is identical to the value `pvalue04` we obtained in Example 1N,\n",
    "so we know the function `tailprobs` works as expected for $p$-value calculations of type (c),\n",
    "where we want to detect both positive and negative deviations from the expected distribution under $H_0$."
   ]
  },
  {
   "cell_type": "code",
   "execution_count": null,
   "id": "fe668b91-7ff1-4725-a0b6-3fcba495ba11",
   "metadata": {},
   "outputs": [],
   "source": []
  },
  {
   "cell_type": "markdown",
   "id": "49f3d0fe-9883-4882-bd2b-9dfdc8e1bf4f",
   "metadata": {},
   "source": [
    "## Discussion"
   ]
  },
  {
   "cell_type": "code",
   "execution_count": null,
   "id": "00a83943-1270-4654-bd66-94f99c8678cb",
   "metadata": {},
   "outputs": [],
   "source": []
  },
  {
   "cell_type": "code",
   "execution_count": null,
   "id": "8b16dc54-9c3c-419f-aad3-fefe248d2170",
   "metadata": {},
   "outputs": [],
   "source": []
  },
  {
   "cell_type": "markdown",
   "id": "88506f97-ed42-4d43-96c8-4f553032afd1",
   "metadata": {},
   "source": [
    "### Statistical modelling and assumptions"
   ]
  },
  {
   "cell_type": "code",
   "execution_count": null,
   "id": "cb3f2a80-b7a6-424b-934a-700595ab387e",
   "metadata": {},
   "outputs": [],
   "source": []
  },
  {
   "cell_type": "code",
   "execution_count": null,
   "id": "b95de85d-7817-42f6-a89b-5f79858bc416",
   "metadata": {},
   "outputs": [],
   "source": []
  },
  {
   "cell_type": "markdown",
   "id": "aae871ab-49ae-447a-8446-2f2a10a727d3",
   "metadata": {},
   "source": [
    "## Exercises"
   ]
  },
  {
   "cell_type": "markdown",
   "id": "1cfd6e18-3d31-4250-8a00-c41ea856523b",
   "metadata": {},
   "source": [
    "#### Exercise NN: use integration to obtain of the probability ..."
   ]
  },
  {
   "cell_type": "code",
   "execution_count": 68,
   "id": "f59740a9-ba2b-4fea-af5d-6a3963d28f63",
   "metadata": {},
   "outputs": [
    {
     "data": {
      "text/plain": [
       "0.015328711497995967"
      ]
     },
     "execution_count": 68,
     "metadata": {},
     "output_type": "execute_result"
    }
   ],
   "source": [
    "from scipy.integrate import quad\n",
    "fZ = rvZ.pdf\n",
    "oo = np.infty\n",
    "# left tail                 # right tail\n",
    "quad(fZ, -oo, -obsz04)[0] + quad(fZ, obsz04, oo)[0]"
   ]
  },
  {
   "cell_type": "code",
   "execution_count": null,
   "id": "a2962a44-db0a-4c36-92fd-a28bedd9ba7b",
   "metadata": {},
   "outputs": [],
   "source": []
  },
  {
   "cell_type": "markdown",
   "id": "fd895fdd-d741-424c-8615-30c0a0b43902",
   "metadata": {},
   "source": [
    "## Links"
   ]
  },
  {
   "cell_type": "code",
   "execution_count": null,
   "id": "481ff71e-160c-4399-a001-9ed65c765b9e",
   "metadata": {},
   "outputs": [],
   "source": []
  },
  {
   "cell_type": "code",
   "execution_count": null,
   "id": "54d19451-e36e-45b6-b558-5b87af06d688",
   "metadata": {},
   "outputs": [],
   "source": []
  },
  {
   "cell_type": "code",
   "execution_count": null,
   "id": "99eb70e1-bb91-426b-b322-e4fd1b5dea61",
   "metadata": {},
   "outputs": [],
   "source": []
  },
  {
   "cell_type": "code",
   "execution_count": null,
   "id": "adf8f0f8-e3f1-4977-91d4-1e5aa753b576",
   "metadata": {},
   "outputs": [],
   "source": []
  }
 ],
 "metadata": {
  "kernelspec": {
   "display_name": "Python 3 (ipykernel)",
   "language": "python",
   "name": "python3"
  },
  "language_info": {
   "codemirror_mode": {
    "name": "ipython",
    "version": 3
   },
   "file_extension": ".py",
   "mimetype": "text/x-python",
   "name": "python",
   "nbconvert_exporter": "python",
   "pygments_lexer": "ipython3",
   "version": "3.9.4"
  }
 },
 "nbformat": 4,
 "nbformat_minor": 5
}
