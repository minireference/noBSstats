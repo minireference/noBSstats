{
 "cells": [
  {
   "cell_type": "markdown",
   "id": "40bf4288-f241-4bea-b823-83caf7fc3964",
   "metadata": {},
   "source": [
    "# Section 2.3 — Discrete probability distributions\n",
    "\n",
    "This notebook contains all the code examples from [Section 2.3 Discrete probability distributions]() in the **No Bullshit Guide to Statistics**.\n"
   ]
  },
  {
   "cell_type": "code",
   "execution_count": null,
   "id": "f6144b54-dbfb-448e-9044-3b0f464c4767",
   "metadata": {},
   "outputs": [],
   "source": []
  },
  {
   "cell_type": "markdown",
   "id": "55249c07-178a-48b9-9d23-59105b763d0d",
   "metadata": {
    "tags": []
   },
   "source": [
    "#### Notebook setup"
   ]
  },
  {
   "cell_type": "code",
   "execution_count": 1,
   "id": "7e12e5d4-7bc9-4549-80d0-2046f68a2fed",
   "metadata": {},
   "outputs": [],
   "source": [
    "# load Python modules\n",
    "import numpy as np\n",
    "import pandas as pd\n",
    "import seaborn as sns\n",
    "import matplotlib.pyplot as plt"
   ]
  },
  {
   "cell_type": "code",
   "execution_count": 2,
   "id": "a5c98fe9-bd4f-4567-9ccf-78cd79df80f1",
   "metadata": {},
   "outputs": [],
   "source": [
    "# Figures setup\n",
    "sns.set_theme(\n",
    "    context=\"paper\",\n",
    "    style=\"whitegrid\",\n",
    "    palette=\"colorblind\",\n",
    "    rc={'figure.figsize': (7,4)},\n",
    ")\n",
    "\n",
    "%config InlineBackend.figure_format = 'retina'\n",
    "\n",
    "# # silence annoying warnings\n",
    "# import warnings; warnings.filterwarnings('ignore')"
   ]
  },
  {
   "cell_type": "code",
   "execution_count": 3,
   "id": "65359250-332a-4e6b-b744-ee6d988edebe",
   "metadata": {},
   "outputs": [],
   "source": [
    "# set random seed for repeatability\n",
    "np.random.seed(42)"
   ]
  }
 ],
 "metadata": {
  "kernelspec": {
   "display_name": "Python 3 (ipykernel)",
   "language": "python",
   "name": "python3"
  },
  "language_info": {
   "codemirror_mode": {
    "name": "ipython",
    "version": 3
   },
   "file_extension": ".py",
   "mimetype": "text/x-python",
   "name": "python",
   "nbconvert_exporter": "python",
   "pygments_lexer": "ipython3",
   "version": "3.9.4"
  }
 },
 "nbformat": 4,
 "nbformat_minor": 5
}
