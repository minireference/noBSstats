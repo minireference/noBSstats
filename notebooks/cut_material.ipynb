{
 "cells": [
  {
   "cell_type": "code",
   "execution_count": null,
   "id": "9bf4d6aa-4d92-4963-9647-106ee08f9631",
   "metadata": {},
   "outputs": [],
   "source": []
  },
  {
   "cell_type": "markdown",
   "id": "547457a3-5f87-4d40-8a37-50172b757c11",
   "metadata": {},
   "source": [
    "# CUT MATERIAL"
   ]
  },
  {
   "cell_type": "code",
   "execution_count": 101,
   "id": "c3874da3-aa10-444b-a790-2b7e334efab3",
   "metadata": {},
   "outputs": [
    {
     "data": {
      "text/plain": [
       "-a + b"
      ]
     },
     "execution_count": 101,
     "metadata": {},
     "output_type": "execute_result"
    }
   ],
   "source": [
    "# uniform distribution U(0,1)\n",
    "from sympy import symbols, integrate, Integral, simplify\n",
    "x, a, b = symbols('x a b')\n",
    "fU = 1\n",
    "\n",
    "simplify( integrate(fU, (x,a,b)) )"
   ]
  },
  {
   "cell_type": "code",
   "execution_count": 102,
   "id": "e3ae1b9f-d2aa-4cc1-bb67-2fbfa26902bc",
   "metadata": {},
   "outputs": [
    {
     "data": {
      "text/plain": [
       "Integral(1, x)"
      ]
     },
     "execution_count": 102,
     "metadata": {},
     "output_type": "execute_result"
    }
   ],
   "source": [
    "Integral(fU, x)"
   ]
  },
  {
   "cell_type": "code",
   "execution_count": 103,
   "id": "3862ce03-18a8-4a02-b0fe-7a9ccd4420bb",
   "metadata": {},
   "outputs": [
    {
     "data": {
      "text/plain": [
       "x"
      ]
     },
     "execution_count": 103,
     "metadata": {},
     "output_type": "execute_result"
    }
   ],
   "source": [
    "Integral(fU, x).doit()"
   ]
  },
  {
   "cell_type": "markdown",
   "id": "ba982911-6481-43df-96f8-e0680be9d047",
   "metadata": {
    "tags": []
   },
   "source": [
    "## Random process examples using Python (bonus material)\n",
    "\n",
    "Let's look at some simple examples of two random events: a coin flip and a die roll.\n",
    "We'll use the Python module `random` to generate random numbers."
   ]
  },
  {
   "cell_type": "code",
   "execution_count": 104,
   "id": "08358863-1d67-40da-b80f-adc5e13c6e1f",
   "metadata": {},
   "outputs": [
    {
     "data": {
      "text/plain": [
       "0.5670733506857556"
      ]
     },
     "execution_count": 104,
     "metadata": {},
     "output_type": "execute_result"
    }
   ],
   "source": [
    "import random\n",
    "\n",
    "random.random() # random number between 0 (inclusive) and 1 (non-inclusive)"
   ]
  },
  {
   "cell_type": "markdown",
   "id": "6d018861-8158-46cc-bceb-475caf29fbc5",
   "metadata": {},
   "source": [
    "\n",
    "\n"
   ]
  },
  {
   "cell_type": "markdown",
   "id": "0267f833-0916-4738-b10c-02dfbaa22515",
   "metadata": {
    "tags": []
   },
   "source": [
    "### Coin flip example\n",
    "\n",
    "The code example below shows a function that performs the equivalent of a coin flip."
   ]
  },
  {
   "cell_type": "code",
   "execution_count": 105,
   "id": "01ae8527-e8fc-481d-8d7c-246db5950b7e",
   "metadata": {},
   "outputs": [
    {
     "data": {
      "text/plain": [
       "'heads'"
      ]
     },
     "execution_count": 105,
     "metadata": {},
     "output_type": "execute_result"
    }
   ],
   "source": [
    "def flip_coin():\n",
    "    r = random.random()  # a number in the range [0,1)\n",
    "    if r < 0.5:\n",
    "        return \"heads\"\n",
    "    else:\n",
    "        return \"tails\"\n",
    "\n",
    "flip_coin()"
   ]
  },
  {
   "cell_type": "markdown",
   "id": "9dfbff66-1ee7-4010-b978-a23a98042814",
   "metadata": {
    "tags": []
   },
   "source": [
    "#### Flipping a coin many times"
   ]
  },
  {
   "cell_type": "markdown",
   "id": "fa8c9f80-942d-4a97-8d37-d7c96bc92447",
   "metadata": {},
   "source": [
    "Let's see what happens if we flip the coin many times."
   ]
  },
  {
   "cell_type": "code",
   "execution_count": 106,
   "id": "5568e16a-b77f-46f1-b476-93bd82b6b468",
   "metadata": {
    "tags": []
   },
   "outputs": [
    {
     "name": "stdout",
     "output_type": "stream",
     "text": [
      "heads     982\n",
      "tails    1018\n",
      "dtype: int64\n"
     ]
    },
    {
     "data": {
      "text/plain": [
       "<AxesSubplot:>"
      ]
     },
     "execution_count": 106,
     "metadata": {},
     "output_type": "execute_result"
    },
    {
     "data": {
      "image/png": "[encoded data removed]",
      "text/plain": [
       "<Figure size 504x288 with 1 Axes>"
      ]
     },
     "metadata": {
      "image/png": {
       "height": 249,
       "width": 437
      }
     },
     "output_type": "display_data"
    }
   ],
   "source": [
    "flips = [flip_coin() for _ in range(0, 2000)]\n",
    "heads = [flip for flip in flips if flip == \"heads\"]\n",
    "\n",
    "len(heads)/len(flips)\n",
    "\n",
    "# plot a horizontal bar chart of the number of outcomes\n",
    "s = pd.Series(flips)\n",
    "print(s.value_counts().sort_index())\n",
    "s.value_counts().sort_index().plot(kind=\"barh\")"
   ]
  },
  {
   "cell_type": "code",
   "execution_count": null,
   "id": "06c4e121-a934-42da-b16c-192de54dc177",
   "metadata": {},
   "outputs": [],
   "source": []
  },
  {
   "cell_type": "code",
   "execution_count": null,
   "id": "760780bb-8dde-4e48-9f29-8ead081c5ae6",
   "metadata": {},
   "outputs": [],
   "source": []
  },
  {
   "cell_type": "markdown",
   "id": "45629836-7e6d-4dd0-9e45-db50774489ed",
   "metadata": {},
   "source": [
    "### Six-sided die example"
   ]
  },
  {
   "cell_type": "code",
   "execution_count": 107,
   "id": "e9a68c19-4e5b-40dd-b48f-7a15c25f6261",
   "metadata": {},
   "outputs": [
    {
     "data": {
      "text/plain": [
       "6"
      ]
     },
     "execution_count": 107,
     "metadata": {},
     "output_type": "execute_result"
    }
   ],
   "source": [
    "def roll_die():\n",
    "    r = random.random()*6  # a number in the range [0,6)\n",
    "    rint = int(r)          # convert to integer in {0,1,2,3,4,5}\n",
    "    value = rint + 1       # convert to integer in {1,2,3,4,5,6}\n",
    "    return value\n",
    "\n",
    "roll_die()"
   ]
  },
  {
   "cell_type": "markdown",
   "id": "53578af9-6ccb-4788-aea6-aaa8f417e388",
   "metadata": {},
   "source": [
    "Let's see what happens if we roll the die many times."
   ]
  },
  {
   "cell_type": "code",
   "execution_count": 108,
   "id": "62f1b899-be7f-4d99-8d9a-978449283abe",
   "metadata": {},
   "outputs": [
    {
     "name": "stdout",
     "output_type": "stream",
     "text": [
      "1    1011\n",
      "2    1037\n",
      "3     974\n",
      "4    1014\n",
      "5     983\n",
      "6     981\n",
      "dtype: int64\n"
     ]
    },
    {
     "data": {
      "text/plain": [
       "<AxesSubplot:>"
      ]
     },
     "execution_count": 108,
     "metadata": {},
     "output_type": "execute_result"
    },
    {
     "data": {
      "image/png": "[encoded data removed]",
      "text/plain": [
       "<Figure size 504x288 with 1 Axes>"
      ]
     },
     "metadata": {
      "image/png": {
       "height": 245,
       "width": 432
      }
     },
     "output_type": "display_data"
    }
   ],
   "source": [
    "\n",
    "rolls = [roll_die() for _ in range(0, 6000)]\n",
    "ds = pd.Series(rolls)\n",
    "print(ds.value_counts().sort_index())\n",
    "ds.value_counts().sort_index().plot(kind=\"bar\")"
   ]
  },
  {
   "cell_type": "markdown",
   "id": "a8e30efd-5764-4dbe-a28c-488dd284888e",
   "metadata": {},
   "source": [
    " "
   ]
  },
  {
   "cell_type": "markdown",
   "id": "af4bae12-041e-4893-a4f8-f0dafaa0d0e5",
   "metadata": {},
   "source": [
    " "
   ]
  },
  {
   "cell_type": "markdown",
   "id": "60355897-c08f-40e2-9c3b-3b96557c37d5",
   "metadata": {},
   "source": [
    "#### Intentionally skipped"
   ]
  },
  {
   "cell_type": "code",
   "execution_count": 109,
   "id": "741e31e7-1624-4dc3-8c7e-caf33cfdefd5",
   "metadata": {},
   "outputs": [
    {
     "data": {
      "text/plain": [
       "1000.0"
      ]
     },
     "execution_count": 109,
     "metadata": {},
     "output_type": "execute_result"
    }
   ],
   "source": [
    "rvN.moment(1)  # = rvN.mean()"
   ]
  },
  {
   "cell_type": "code",
   "execution_count": 110,
   "id": "02c714a8-3b17-4a35-a87a-5f2fb1c5f6b6",
   "metadata": {},
   "outputs": [
    {
     "data": {
      "text/plain": [
       "True"
      ]
     },
     "execution_count": 110,
     "metadata": {},
     "output_type": "execute_result"
    }
   ],
   "source": [
    "# Let's verify the formula:\n",
    "# E[(x-𝜇)^2]  = E[X^2]         -   E[X]^2\n",
    "#               second moment      first moment squared\n",
    "rvN.var()    == rvN.moment(2)  -   rvN.moment(1)**2"
   ]
  },
  {
   "cell_type": "code",
   "execution_count": null,
   "id": "6df61e9a-bd5b-4469-b4fe-8cdefc9fd2e2",
   "metadata": {},
   "outputs": [],
   "source": []
  },
  {
   "cell_type": "code",
   "execution_count": 111,
   "id": "c9bf8abf-539f-4f81-ba2d-8463ec2ebe8b",
   "metadata": {},
   "outputs": [
    {
     "data": {
      "image/png": "[encoded data removed]",
      "text/plain": [
       "<Figure size 504x288 with 1 Axes>"
      ]
     },
     "metadata": {
      "image/png": {
       "height": 263,
       "width": 435
      }
     },
     "output_type": "display_data"
    }
   ],
   "source": [
    "from scipy.stats.distributions import norm\n",
    "\n",
    "# 1. choose the parameters:\n",
    "mean = 1000   # 𝜇 (mu)    = where is its center?\n",
    "std = 100     # 𝜎 (sigma) = how spread out is it?\n",
    "\n",
    "# 2. create a normal random variable\n",
    "rvN = norm(mean, std)\n",
    "\n",
    "# 3. plot it's probability density function (pdf)\n",
    "x = np.linspace(rvN.ppf(0.001), rvN.ppf(0.999), 10000)\n",
    "y = rvN.pdf(x)\n",
    "ax = sns.lineplot(x=x, y=y)\n",
    "title = 'Probability density for the normal distribution $\\mathcal{N}('+ str(mean) + ',' + str(std) + ')$'\n",
    "ax.set_title(title)\n",
    "ax.set_xlim(300,1700)\n",
    "plt.xticks(np.arange(400,1700,100))\n",
    "_ = ax.set_ylim(0, 0.006)"
   ]
  },
  {
   "cell_type": "code",
   "execution_count": null,
   "id": "8f10676a-997b-4382-8dd5-ea5871447566",
   "metadata": {},
   "outputs": [],
   "source": []
  },
  {
   "cell_type": "code",
   "execution_count": 112,
   "id": "1989f473-bd8d-402e-870a-526f8a1b44e2",
   "metadata": {},
   "outputs": [
    {
     "data": {
      "text/plain": [
       "array(6.02410872)"
      ]
     },
     "execution_count": 112,
     "metadata": {},
     "output_type": "execute_result"
    }
   ],
   "source": [
    "rvN.entropy()"
   ]
  },
  {
   "cell_type": "code",
   "execution_count": 113,
   "id": "a86a1a91-b1a1-4f3a-abd6-f26a385073e9",
   "metadata": {},
   "outputs": [
    {
     "data": {
      "text/plain": [
       "6.024108719192764"
      ]
     },
     "execution_count": 113,
     "metadata": {},
     "output_type": "execute_result"
    }
   ],
   "source": [
    "0.5*np.log(2*np.pi*sigma**2) + 0.5"
   ]
  },
  {
   "cell_type": "code",
   "execution_count": null,
   "id": "cfe00679-72ca-4e81-a581-7fdb75d000c5",
   "metadata": {},
   "outputs": [],
   "source": []
  }
 ],
 "metadata": {
  "kernelspec": {
   "display_name": "Python 3 (ipykernel)",
   "language": "python",
   "name": "python3"
  },
  "language_info": {
   "codemirror_mode": {
    "name": "ipython",
    "version": 3
   },
   "file_extension": ".py",
   "mimetype": "text/x-python",
   "name": "python",
   "nbconvert_exporter": "python",
   "pygments_lexer": "ipython3",
   "version": "3.9.4"
  }
 },
 "nbformat": 4,
 "nbformat_minor": 5
}
