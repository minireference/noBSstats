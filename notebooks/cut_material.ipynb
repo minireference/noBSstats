{
 "cells": [
  {
   "cell_type": "code",
   "execution_count": null,
   "id": "9bf4d6aa-4d92-4963-9647-106ee08f9631",
   "metadata": {},
   "outputs": [],
   "source": []
  },
  {
   "cell_type": "markdown",
   "id": "1e45aa07-ec4d-4b3d-bb18-5ada32b61dc2",
   "metadata": {},
   "source": [
    "\n",
    "### Why do we need probability theory in statistics?\n",
    "\n",
    "Probability theory provides us with some essential tools needed for statistics:\n",
    "  - modelling: describe a population as a probability distribution\n",
    "  - sampling distributions: distributions obtained for random samples from a population\n",
    "\n",
    "Additionally, artificially introduced randomness is the basis for two of the most important statistics \"kung fu\" techniques:\n",
    "\n",
    "- **random selection** = if you collect a sample of size n randomly selected from a population, then compute statistics from the sample, you can then make inferences about the whole population.\n",
    "- **random assignment** = create two roughly equivalent groups by randomly assigning participants into group A or group B. This random split is the basis for a statistical experiment that compares an intervention group and a control group. Given the participants were randomly assigned to the two groups, we can hope they are roughly equally distributed on all dimensions (similar distribution of all confounding variables), so that any differences observed between groups can be attributed to the intervention. Calculating the difference statistic intervention-control give an estimate of the effect size of this intervention."
   ]
  },
  {
   "cell_type": "markdown",
   "id": "547457a3-5f87-4d40-8a37-50172b757c11",
   "metadata": {},
   "source": [
    "# CUT MATERIAL from 21_prob_theory.ipynb"
   ]
  },
  {
   "cell_type": "code",
   "execution_count": 1,
   "id": "c690bd54-f8ae-4e5d-8740-166bbb2ad968",
   "metadata": {},
   "outputs": [],
   "source": [
    "# load Python modules\n",
    "import numpy as np\n",
    "import pandas as pd\n",
    "import seaborn as sns\n",
    "import matplotlib.pyplot as plt"
   ]
  },
  {
   "cell_type": "code",
   "execution_count": 2,
   "id": "32ccb8ff-5be1-468e-a0be-2054c93c9557",
   "metadata": {},
   "outputs": [],
   "source": [
    "# Figures setup\n",
    "sns.set_theme(\n",
    "    context=\"paper\",\n",
    "    style=\"whitegrid\",\n",
    "    palette=\"colorblind\",\n",
    "    rc={'figure.figsize': (7,4)},\n",
    ")\n",
    "\n",
    "%config InlineBackend.figure_format = 'retina'\n",
    "\n",
    "# # silence annoying warnings\n",
    "# import warnings; warnings.filterwarnings('ignore')"
   ]
  },
  {
   "cell_type": "code",
   "execution_count": 3,
   "id": "ff23944f-afba-46d5-8abb-30416062d1ab",
   "metadata": {},
   "outputs": [],
   "source": [
    "# set random seed for repeatability\n",
    "np.random.seed(42)"
   ]
  },
  {
   "cell_type": "markdown",
   "id": "4f7e9324-9917-4205-84fe-4344bbd6a794",
   "metadata": {},
   "source": [
    "### Computing prob integrals using quad"
   ]
  },
  {
   "cell_type": "markdown",
   "id": "e3cf0e26-6e7b-4c81-8c6f-78f1bf3e39c0",
   "metadata": {},
   "source": [
    "#### Uniform"
   ]
  },
  {
   "cell_type": "code",
   "execution_count": 4,
   "id": "df923011-4915-4ed1-a5b6-1903913b2072",
   "metadata": {},
   "outputs": [],
   "source": [
    "def fU(u):\n",
    "    if 0 <= u and u <= 1:\n",
    "        return 1.0\n",
    "    else:\n",
    "        return 0.0"
   ]
  },
  {
   "cell_type": "code",
   "execution_count": 6,
   "id": "a80be2db-c225-4905-827b-39b12d34bc6d",
   "metadata": {},
   "outputs": [
    {
     "data": {
      "text/plain": [
       "0.9999999999999999"
      ]
     },
     "execution_count": 6,
     "metadata": {},
     "output_type": "execute_result"
    }
   ],
   "source": [
    "from scipy.integrate import quad\n",
    "quad(fU, -10, 10)[0]"
   ]
  },
  {
   "cell_type": "code",
   "execution_count": 7,
   "id": "d5a7d980-d2aa-4870-9ff9-e9bb763b58bc",
   "metadata": {},
   "outputs": [
    {
     "data": {
      "text/plain": [
       "0.3"
      ]
     },
     "execution_count": 7,
     "metadata": {},
     "output_type": "execute_result"
    }
   ],
   "source": [
    "quad(fU, 0.2, 0.5)[0]"
   ]
  },
  {
   "cell_type": "markdown",
   "id": "25c9dc83-3c6a-4b52-8da7-c7af0594fbe1",
   "metadata": {},
   "source": [
    "#### Normal"
   ]
  },
  {
   "cell_type": "code",
   "execution_count": 8,
   "id": "1d020f93-b8aa-483e-95fd-e31141ca4521",
   "metadata": {},
   "outputs": [],
   "source": [
    "mu = 1000\n",
    "sigma = 100\n",
    "\n",
    "def fN(n):\n",
    "    z = (n - mu)/sigma\n",
    "    C = sigma * np.sqrt(2*np.pi)\n",
    "    return 1 / C * np.exp(-1/2 * z**2)"
   ]
  },
  {
   "cell_type": "code",
   "execution_count": 9,
   "id": "d39ce1b1-a7ca-4369-b2e8-c0d6dd3f6964",
   "metadata": {},
   "outputs": [
    {
     "data": {
      "text/plain": [
       "1.0000000000000002"
      ]
     },
     "execution_count": 9,
     "metadata": {},
     "output_type": "execute_result"
    }
   ],
   "source": [
    "quad(fN, 0, 2000)[0]"
   ]
  },
  {
   "cell_type": "markdown",
   "id": "f32a4b70-b107-4916-b598-1ae84ec3f847",
   "metadata": {},
   "source": [
    "We're using limits of integration 0 and 2000 because that function is practically zero outside this range, and function `quad` [needs](https://stackoverflow.com/questions/63673369/while-using-scipy-integrate-quad-increasing-bound-of-a-positive-function-decrea) finite limits of integration to work properly."
   ]
  },
  {
   "cell_type": "code",
   "execution_count": 10,
   "id": "da9597d1-acdd-4799-b433-db50831f0d6a",
   "metadata": {
    "tags": []
   },
   "outputs": [
    {
     "data": {
      "text/plain": [
       "0.13590512198327784"
      ]
     },
     "execution_count": 10,
     "metadata": {},
     "output_type": "execute_result"
    }
   ],
   "source": [
    "quad(fN, 800, 900)[0]"
   ]
  },
  {
   "cell_type": "markdown",
   "id": "b0c83691-6b18-4f94-8b32-26da78503d64",
   "metadata": {},
   "source": [
    "### Computing prob integrals using trapz"
   ]
  },
  {
   "cell_type": "code",
   "execution_count": 13,
   "id": "6d24978f-972c-4e69-9c84-2b6d6f8c3a9d",
   "metadata": {},
   "outputs": [],
   "source": [
    "from scipy.integrate import trapz"
   ]
  },
  {
   "cell_type": "code",
   "execution_count": 14,
   "id": "9412ab9c-7f20-45e9-918a-2f2fb2736f64",
   "metadata": {},
   "outputs": [
    {
     "data": {
      "text/plain": [
       "0.1359051331713763"
      ]
     },
     "execution_count": 14,
     "metadata": {},
     "output_type": "execute_result"
    }
   ],
   "source": [
    "m = 1000\n",
    "ns = np.linspace(800, 900, m)\n",
    "fNs = fN(ns)\n",
    "\n",
    "trapz(fNs, ns)"
   ]
  },
  {
   "cell_type": "code",
   "execution_count": 15,
   "id": "aac05c8c-64a6-4ac3-9f90-73e84c93a57d",
   "metadata": {},
   "outputs": [
    {
     "data": {
      "text/plain": [
       "-1.118809847544533e-08"
      ]
     },
     "execution_count": 15,
     "metadata": {},
     "output_type": "execute_result"
    }
   ],
   "source": [
    "# how different \n",
    "quad(fN, 800, 900)[0] - trapz(fNs, ns)"
   ]
  },
  {
   "cell_type": "code",
   "execution_count": null,
   "id": "0ae5684e-a307-494e-a1d0-b6e01aa3edb3",
   "metadata": {},
   "outputs": [],
   "source": []
  },
  {
   "cell_type": "markdown",
   "id": "7c310600-8aed-4f66-9bb3-c2c3c63a6711",
   "metadata": {},
   "source": [
    "## Using prob models"
   ]
  },
  {
   "cell_type": "code",
   "execution_count": 16,
   "id": "c3874da3-aa10-444b-a790-2b7e334efab3",
   "metadata": {},
   "outputs": [
    {
     "data": {
      "text/latex": [
       "$\\displaystyle - a + b$"
      ],
      "text/plain": [
       "-a + b"
      ]
     },
     "execution_count": 16,
     "metadata": {},
     "output_type": "execute_result"
    }
   ],
   "source": [
    "# uniform distribution U(0,1)\n",
    "from sympy import symbols, integrate, Integral, simplify\n",
    "x, a, b = symbols('x a b')\n",
    "fU = 1\n",
    "\n",
    "simplify( integrate(fU, (x,a,b)) )"
   ]
  },
  {
   "cell_type": "code",
   "execution_count": 17,
   "id": "e3ae1b9f-d2aa-4cc1-bb67-2fbfa26902bc",
   "metadata": {},
   "outputs": [
    {
     "data": {
      "text/latex": [
       "$\\displaystyle \\int 1\\, dx$"
      ],
      "text/plain": [
       "Integral(1, x)"
      ]
     },
     "execution_count": 17,
     "metadata": {},
     "output_type": "execute_result"
    }
   ],
   "source": [
    "Integral(fU, x)"
   ]
  },
  {
   "cell_type": "code",
   "execution_count": 18,
   "id": "3862ce03-18a8-4a02-b0fe-7a9ccd4420bb",
   "metadata": {},
   "outputs": [
    {
     "data": {
      "text/latex": [
       "$\\displaystyle x$"
      ],
      "text/plain": [
       "x"
      ]
     },
     "execution_count": 18,
     "metadata": {},
     "output_type": "execute_result"
    }
   ],
   "source": [
    "Integral(fU, x).doit()"
   ]
  },
  {
   "cell_type": "markdown",
   "id": "ba982911-6481-43df-96f8-e0680be9d047",
   "metadata": {
    "tags": []
   },
   "source": [
    "## Random process examples using Python (bonus material)\n",
    "\n",
    "Let's look at some simple examples of two random events: a coin flip and a die roll.\n",
    "We'll use the Python module `random` to generate random numbers."
   ]
  },
  {
   "cell_type": "code",
   "execution_count": 19,
   "id": "08358863-1d67-40da-b80f-adc5e13c6e1f",
   "metadata": {},
   "outputs": [
    {
     "data": {
      "text/plain": [
       "0.7740103861305342"
      ]
     },
     "execution_count": 19,
     "metadata": {},
     "output_type": "execute_result"
    }
   ],
   "source": [
    "import random\n",
    "\n",
    "random.random() # random number between 0 (inclusive) and 1 (non-inclusive)"
   ]
  },
  {
   "cell_type": "markdown",
   "id": "6d018861-8158-46cc-bceb-475caf29fbc5",
   "metadata": {},
   "source": [
    "\n",
    "\n"
   ]
  },
  {
   "cell_type": "markdown",
   "id": "0267f833-0916-4738-b10c-02dfbaa22515",
   "metadata": {
    "tags": []
   },
   "source": [
    "### Coin flip example\n",
    "\n",
    "The code example below shows a function that performs the equivalent of a coin flip."
   ]
  },
  {
   "cell_type": "code",
   "execution_count": 20,
   "id": "01ae8527-e8fc-481d-8d7c-246db5950b7e",
   "metadata": {},
   "outputs": [
    {
     "data": {
      "text/plain": [
       "'tails'"
      ]
     },
     "execution_count": 20,
     "metadata": {},
     "output_type": "execute_result"
    }
   ],
   "source": [
    "def flip_coin():\n",
    "    r = random.random()  # a number in the range [0,1)\n",
    "    if r < 0.5:\n",
    "        return \"heads\"\n",
    "    else:\n",
    "        return \"tails\"\n",
    "\n",
    "flip_coin()"
   ]
  },
  {
   "cell_type": "markdown",
   "id": "9dfbff66-1ee7-4010-b978-a23a98042814",
   "metadata": {
    "tags": []
   },
   "source": [
    "#### Flipping a coin many times"
   ]
  },
  {
   "cell_type": "markdown",
   "id": "fa8c9f80-942d-4a97-8d37-d7c96bc92447",
   "metadata": {},
   "source": [
    "Let's see what happens if we flip the coin many times."
   ]
  },
  {
   "cell_type": "code",
   "execution_count": 21,
   "id": "5568e16a-b77f-46f1-b476-93bd82b6b468",
   "metadata": {
    "tags": []
   },
   "outputs": [
    {
     "name": "stdout",
     "output_type": "stream",
     "text": [
      "heads     976\n",
      "tails    1024\n",
      "dtype: int64\n"
     ]
    },
    {
     "data": {
      "text/plain": [
       "<AxesSubplot:>"
      ]
     },
     "execution_count": 21,
     "metadata": {},
     "output_type": "execute_result"
    },
    {
     "data": {
      "image/png": "[encoded data removed]",
      "text/plain": [
       "<Figure size 504x288 with 1 Axes>"
      ]
     },
     "metadata": {
      "image/png": {
       "height": 249,
       "width": 437
      }
     },
     "output_type": "display_data"
    }
   ],
   "source": [
    "flips = [flip_coin() for _ in range(0, 2000)]\n",
    "heads = [flip for flip in flips if flip == \"heads\"]\n",
    "\n",
    "len(heads)/len(flips)\n",
    "\n",
    "# plot a horizontal bar chart of the number of outcomes\n",
    "s = pd.Series(flips)\n",
    "print(s.value_counts().sort_index())\n",
    "s.value_counts().sort_index().plot(kind=\"barh\")"
   ]
  },
  {
   "cell_type": "code",
   "execution_count": null,
   "id": "06c4e121-a934-42da-b16c-192de54dc177",
   "metadata": {},
   "outputs": [],
   "source": []
  },
  {
   "cell_type": "code",
   "execution_count": null,
   "id": "760780bb-8dde-4e48-9f29-8ead081c5ae6",
   "metadata": {},
   "outputs": [],
   "source": []
  },
  {
   "cell_type": "markdown",
   "id": "45629836-7e6d-4dd0-9e45-db50774489ed",
   "metadata": {},
   "source": [
    "### Six-sided die example"
   ]
  },
  {
   "cell_type": "code",
   "execution_count": null,
   "id": "e9a68c19-4e5b-40dd-b48f-7a15c25f6261",
   "metadata": {},
   "outputs": [],
   "source": [
    "def roll_die():\n",
    "    r = random.random()*6  # a number in the range [0,6)\n",
    "    rint = int(r)          # convert to integer in {0,1,2,3,4,5}\n",
    "    value = rint + 1       # convert to integer in {1,2,3,4,5,6}\n",
    "    return value\n",
    "\n",
    "roll_die()"
   ]
  },
  {
   "cell_type": "markdown",
   "id": "53578af9-6ccb-4788-aea6-aaa8f417e388",
   "metadata": {},
   "source": [
    "Let's see what happens if we roll the die many times."
   ]
  },
  {
   "cell_type": "code",
   "execution_count": null,
   "id": "62f1b899-be7f-4d99-8d9a-978449283abe",
   "metadata": {},
   "outputs": [],
   "source": [
    "\n",
    "rolls = [roll_die() for _ in range(0, 6000)]\n",
    "ds = pd.Series(rolls)\n",
    "print(ds.value_counts().sort_index())\n",
    "ds.value_counts().sort_index().plot(kind=\"bar\")"
   ]
  },
  {
   "cell_type": "markdown",
   "id": "a8e30efd-5764-4dbe-a28c-488dd284888e",
   "metadata": {},
   "source": [
    " "
   ]
  },
  {
   "cell_type": "markdown",
   "id": "af4bae12-041e-4893-a4f8-f0dafaa0d0e5",
   "metadata": {},
   "source": [
    " "
   ]
  },
  {
   "cell_type": "markdown",
   "id": "60355897-c08f-40e2-9c3b-3b96557c37d5",
   "metadata": {},
   "source": [
    "#### Intentionally skipped"
   ]
  },
  {
   "cell_type": "code",
   "execution_count": null,
   "id": "741e31e7-1624-4dc3-8c7e-caf33cfdefd5",
   "metadata": {},
   "outputs": [],
   "source": [
    "rvN.moment(1)  # = rvN.mean()"
   ]
  },
  {
   "cell_type": "code",
   "execution_count": null,
   "id": "02c714a8-3b17-4a35-a87a-5f2fb1c5f6b6",
   "metadata": {},
   "outputs": [],
   "source": [
    "# Let's verify the formula:\n",
    "# E[(x-𝜇)^2]  = E[X^2]         -   E[X]^2\n",
    "#               second moment      first moment squared\n",
    "rvN.var()    == rvN.moment(2)  -   rvN.moment(1)**2"
   ]
  },
  {
   "cell_type": "code",
   "execution_count": null,
   "id": "6df61e9a-bd5b-4469-b4fe-8cdefc9fd2e2",
   "metadata": {},
   "outputs": [],
   "source": []
  },
  {
   "cell_type": "code",
   "execution_count": null,
   "id": "c9bf8abf-539f-4f81-ba2d-8463ec2ebe8b",
   "metadata": {},
   "outputs": [],
   "source": [
    "from scipy.stats.distributions import norm\n",
    "\n",
    "# 1. choose the parameters:\n",
    "mean = 1000   # 𝜇 (mu)    = where is its center?\n",
    "std = 100     # 𝜎 (sigma) = how spread out is it?\n",
    "\n",
    "# 2. create a normal random variable\n",
    "rvN = norm(mean, std)\n",
    "\n",
    "# 3. plot it's probability density function (pdf)\n",
    "x = np.linspace(rvN.ppf(0.001), rvN.ppf(0.999), 10000)\n",
    "y = rvN.pdf(x)\n",
    "ax = sns.lineplot(x=x, y=y)\n",
    "title = 'Probability density for the normal distribution $\\mathcal{N}('+ str(mean) + ',' + str(std) + ')$'\n",
    "ax.set_title(title)\n",
    "ax.set_xlim(300,1700)\n",
    "plt.xticks(np.arange(400,1700,100))\n",
    "_ = ax.set_ylim(0, 0.006)"
   ]
  },
  {
   "cell_type": "code",
   "execution_count": null,
   "id": "8f10676a-997b-4382-8dd5-ea5871447566",
   "metadata": {},
   "outputs": [],
   "source": []
  },
  {
   "cell_type": "code",
   "execution_count": null,
   "id": "1989f473-bd8d-402e-870a-526f8a1b44e2",
   "metadata": {},
   "outputs": [],
   "source": [
    "rvN.entropy()"
   ]
  },
  {
   "cell_type": "code",
   "execution_count": null,
   "id": "a86a1a91-b1a1-4f3a-abd6-f26a385073e9",
   "metadata": {},
   "outputs": [],
   "source": [
    "0.5*np.log(2*np.pi*sigma**2) + 0.5"
   ]
  },
  {
   "cell_type": "code",
   "execution_count": null,
   "id": "cfe00679-72ca-4e81-a581-7fdb75d000c5",
   "metadata": {},
   "outputs": [],
   "source": []
  }
 ],
 "metadata": {
  "kernelspec": {
   "display_name": "Python 3 (ipykernel)",
   "language": "python",
   "name": "python3"
  },
  "language_info": {
   "codemirror_mode": {
    "name": "ipython",
    "version": 3
   },
   "file_extension": ".py",
   "mimetype": "text/x-python",
   "name": "python",
   "nbconvert_exporter": "python",
   "pygments_lexer": "ipython3",
   "version": "3.9.4"
  }
 },
 "nbformat": 4,
 "nbformat_minor": 5
}
