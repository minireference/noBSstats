{
 "cells": [
  {
   "cell_type": "code",
   "execution_count": null,
   "id": "954a5a73-6c70-48ac-bc4f-b8b77e7b3d48",
   "metadata": {},
   "outputs": [],
   "source": []
  },
  {
   "cell_type": "code",
   "execution_count": 1,
   "id": "758f5b18-2764-4146-a405-047d35b4c09c",
   "metadata": {},
   "outputs": [],
   "source": [
    "# load Python modules\n",
    "import numpy as np\n",
    "import pandas as pd\n",
    "import seaborn as sns\n",
    "import matplotlib.pyplot as plt\n",
    "%config InlineBackend.figure_format = 'retina'\n",
    "\n",
    "from plot_helpers import generate_pdf_panel\n",
    "from plot_helpers import plot_pdf\n",
    "from plot_helpers import plot_pdf_and_cdf"
   ]
  },
  {
   "cell_type": "code",
   "execution_count": null,
   "id": "467cfefb-4806-4fc8-90ad-6e8a7221dab5",
   "metadata": {},
   "outputs": [],
   "source": []
  },
  {
   "cell_type": "code",
   "execution_count": null,
   "id": "2886f983-56c0-44c3-b8ac-fde2f4917fc2",
   "metadata": {},
   "outputs": [],
   "source": [
    "# # stats\n",
    "# mean, var, skew, kurt = rvF.stats(moments='mvsk')\n",
    "# mean, var, skew, kurt"
   ]
  },
  {
   "cell_type": "markdown",
   "id": "1e45aa07-ec4d-4b3d-bb18-5ada32b61dc2",
   "metadata": {},
   "source": [
    "\n",
    "### Why do we need probability theory in statistics?\n",
    "\n",
    "Probability theory provides us with some essential tools needed for statistics:\n",
    "  - modelling: describe a population as a probability distribution\n",
    "  - sampling distributions: distributions obtained for random samples from a population\n",
    "\n",
    "Additionally, artificially introduced randomness is the basis for two of the most important statistics \"kung fu\" techniques:\n",
    "\n",
    "- **random selection** = if you collect a sample of size n randomly selected from a population, then compute statistics from the sample, you can then make inferences about the whole population.\n",
    "- **random assignment** = create two roughly equivalent groups by randomly assigning participants into group A or group B. This random split is the basis for a statistical experiment that compares an intervention group and a control group. Given the participants were randomly assigned to the two groups, we can hope they are roughly equally distributed on all dimensions (similar distribution of all confounding variables), so that any differences observed between groups can be attributed to the intervention. Calculating the difference statistic intervention-control give an estimate of the effect size of this intervention."
   ]
  },
  {
   "cell_type": "markdown",
   "id": "547457a3-5f87-4d40-8a37-50172b757c11",
   "metadata": {},
   "source": [
    "# CUT MATERIAL from 21_prob_theory.ipynb"
   ]
  },
  {
   "cell_type": "code",
   "execution_count": null,
   "id": "c690bd54-f8ae-4e5d-8740-166bbb2ad968",
   "metadata": {},
   "outputs": [],
   "source": [
    "# load Python modules\n",
    "import numpy as np\n",
    "import pandas as pd\n",
    "import seaborn as sns\n",
    "import matplotlib.pyplot as plt"
   ]
  },
  {
   "cell_type": "code",
   "execution_count": null,
   "id": "32ccb8ff-5be1-468e-a0be-2054c93c9557",
   "metadata": {},
   "outputs": [],
   "source": [
    "# Figures setup\n",
    "sns.set_theme(\n",
    "    context=\"paper\",\n",
    "    style=\"whitegrid\",\n",
    "    palette=\"colorblind\",\n",
    "    rc={'figure.figsize': (7,4)},\n",
    ")\n",
    "\n",
    "%config InlineBackend.figure_format = 'retina'\n",
    "\n",
    "# # silence annoying warnings\n",
    "# import warnings; warnings.filterwarnings('ignore')"
   ]
  },
  {
   "cell_type": "code",
   "execution_count": null,
   "id": "ff23944f-afba-46d5-8abb-30416062d1ab",
   "metadata": {},
   "outputs": [],
   "source": [
    "# set random seed for repeatability\n",
    "np.random.seed(42)"
   ]
  },
  {
   "cell_type": "markdown",
   "id": "4f7e9324-9917-4205-84fe-4344bbd6a794",
   "metadata": {},
   "source": [
    "### Computing prob integrals using quad"
   ]
  },
  {
   "cell_type": "markdown",
   "id": "e3cf0e26-6e7b-4c81-8c6f-78f1bf3e39c0",
   "metadata": {},
   "source": [
    "#### Uniform"
   ]
  },
  {
   "cell_type": "code",
   "execution_count": null,
   "id": "df923011-4915-4ed1-a5b6-1903913b2072",
   "metadata": {},
   "outputs": [],
   "source": [
    "def fU(u):\n",
    "    if 0 <= u and u <= 1:\n",
    "        return 1.0\n",
    "    else:\n",
    "        return 0.0"
   ]
  },
  {
   "cell_type": "code",
   "execution_count": null,
   "id": "a80be2db-c225-4905-827b-39b12d34bc6d",
   "metadata": {},
   "outputs": [],
   "source": [
    "from scipy.integrate import quad\n",
    "quad(fU, -10, 10)[0]"
   ]
  },
  {
   "cell_type": "code",
   "execution_count": null,
   "id": "d5a7d980-d2aa-4870-9ff9-e9bb763b58bc",
   "metadata": {},
   "outputs": [],
   "source": [
    "quad(fU, 0.2, 0.5)[0]"
   ]
  },
  {
   "cell_type": "markdown",
   "id": "25c9dc83-3c6a-4b52-8da7-c7af0594fbe1",
   "metadata": {},
   "source": [
    "#### Normal"
   ]
  },
  {
   "cell_type": "code",
   "execution_count": null,
   "id": "1d020f93-b8aa-483e-95fd-e31141ca4521",
   "metadata": {},
   "outputs": [],
   "source": [
    "mu = 1000\n",
    "sigma = 100\n",
    "\n",
    "def fN(n):\n",
    "    z = (n - mu)/sigma\n",
    "    C = sigma * np.sqrt(2*np.pi)\n",
    "    return 1 / C * np.exp(-1/2 * z**2)"
   ]
  },
  {
   "cell_type": "code",
   "execution_count": null,
   "id": "d39ce1b1-a7ca-4369-b2e8-c0d6dd3f6964",
   "metadata": {},
   "outputs": [],
   "source": [
    "quad(fN, 0, 2000)[0]"
   ]
  },
  {
   "cell_type": "markdown",
   "id": "f32a4b70-b107-4916-b598-1ae84ec3f847",
   "metadata": {},
   "source": [
    "We're using limits of integration 0 and 2000 because that function is practically zero outside this range, and function `quad` [needs](https://stackoverflow.com/questions/63673369/while-using-scipy-integrate-quad-increasing-bound-of-a-positive-function-decrea) finite limits of integration to work properly."
   ]
  },
  {
   "cell_type": "code",
   "execution_count": null,
   "id": "da9597d1-acdd-4799-b433-db50831f0d6a",
   "metadata": {
    "tags": []
   },
   "outputs": [],
   "source": [
    "quad(fN, 800, 900)[0]"
   ]
  },
  {
   "cell_type": "markdown",
   "id": "b0c83691-6b18-4f94-8b32-26da78503d64",
   "metadata": {},
   "source": [
    "### Computing prob integrals using trapz"
   ]
  },
  {
   "cell_type": "code",
   "execution_count": null,
   "id": "6d24978f-972c-4e69-9c84-2b6d6f8c3a9d",
   "metadata": {},
   "outputs": [],
   "source": [
    "from scipy.integrate import trapz"
   ]
  },
  {
   "cell_type": "code",
   "execution_count": null,
   "id": "9412ab9c-7f20-45e9-918a-2f2fb2736f64",
   "metadata": {},
   "outputs": [],
   "source": [
    "m = 1000\n",
    "ns = np.linspace(800, 900, m)\n",
    "fNs = fN(ns)\n",
    "\n",
    "trapz(fNs, ns)"
   ]
  },
  {
   "cell_type": "code",
   "execution_count": null,
   "id": "aac05c8c-64a6-4ac3-9f90-73e84c93a57d",
   "metadata": {},
   "outputs": [],
   "source": [
    "# how different \n",
    "quad(fN, 800, 900)[0] - trapz(fNs, ns)"
   ]
  },
  {
   "cell_type": "code",
   "execution_count": null,
   "id": "0ae5684e-a307-494e-a1d0-b6e01aa3edb3",
   "metadata": {},
   "outputs": [],
   "source": []
  },
  {
   "cell_type": "markdown",
   "id": "7c310600-8aed-4f66-9bb3-c2c3c63a6711",
   "metadata": {},
   "source": [
    "## Using prob models"
   ]
  },
  {
   "cell_type": "code",
   "execution_count": null,
   "id": "c3874da3-aa10-444b-a790-2b7e334efab3",
   "metadata": {},
   "outputs": [],
   "source": [
    "# uniform distribution U(0,1)\n",
    "from sympy import symbols, integrate, Integral, simplify\n",
    "x, a, b = symbols('x a b')\n",
    "fU = 1\n",
    "\n",
    "simplify( integrate(fU, (x,a,b)) )"
   ]
  },
  {
   "cell_type": "code",
   "execution_count": null,
   "id": "e3ae1b9f-d2aa-4cc1-bb67-2fbfa26902bc",
   "metadata": {},
   "outputs": [],
   "source": [
    "Integral(fU, x)"
   ]
  },
  {
   "cell_type": "code",
   "execution_count": null,
   "id": "3862ce03-18a8-4a02-b0fe-7a9ccd4420bb",
   "metadata": {},
   "outputs": [],
   "source": [
    "Integral(fU, x).doit()"
   ]
  },
  {
   "cell_type": "markdown",
   "id": "ba982911-6481-43df-96f8-e0680be9d047",
   "metadata": {
    "tags": []
   },
   "source": [
    "## Random process examples using Python (bonus material)\n",
    "\n",
    "Let's look at some simple examples of two random events: a coin flip and a die roll.\n",
    "We'll use the Python module `random` to generate random numbers."
   ]
  },
  {
   "cell_type": "code",
   "execution_count": null,
   "id": "08358863-1d67-40da-b80f-adc5e13c6e1f",
   "metadata": {},
   "outputs": [],
   "source": [
    "import random\n",
    "\n",
    "random.random() # random number between 0 (inclusive) and 1 (non-inclusive)"
   ]
  },
  {
   "cell_type": "markdown",
   "id": "6d018861-8158-46cc-bceb-475caf29fbc5",
   "metadata": {},
   "source": [
    "\n",
    "\n"
   ]
  },
  {
   "cell_type": "markdown",
   "id": "0267f833-0916-4738-b10c-02dfbaa22515",
   "metadata": {
    "tags": []
   },
   "source": [
    "### Coin flip example\n",
    "\n",
    "The code example below shows a function that performs the equivalent of a coin flip."
   ]
  },
  {
   "cell_type": "code",
   "execution_count": null,
   "id": "01ae8527-e8fc-481d-8d7c-246db5950b7e",
   "metadata": {},
   "outputs": [],
   "source": [
    "def flip_coin():\n",
    "    r = random.random()  # a number in the range [0,1)\n",
    "    if r < 0.5:\n",
    "        return \"heads\"\n",
    "    else:\n",
    "        return \"tails\"\n",
    "\n",
    "flip_coin()"
   ]
  },
  {
   "cell_type": "markdown",
   "id": "9dfbff66-1ee7-4010-b978-a23a98042814",
   "metadata": {
    "tags": []
   },
   "source": [
    "#### Flipping a coin many times"
   ]
  },
  {
   "cell_type": "markdown",
   "id": "fa8c9f80-942d-4a97-8d37-d7c96bc92447",
   "metadata": {},
   "source": [
    "Let's see what happens if we flip the coin many times."
   ]
  },
  {
   "cell_type": "code",
   "execution_count": null,
   "id": "5568e16a-b77f-46f1-b476-93bd82b6b468",
   "metadata": {
    "tags": []
   },
   "outputs": [],
   "source": [
    "flips = [flip_coin() for _ in range(0, 2000)]\n",
    "heads = [flip for flip in flips if flip == \"heads\"]\n",
    "\n",
    "len(heads)/len(flips)\n",
    "\n",
    "# plot a horizontal bar chart of the number of outcomes\n",
    "s = pd.Series(flips)\n",
    "print(s.value_counts().sort_index())\n",
    "s.value_counts().sort_index().plot(kind=\"barh\")"
   ]
  },
  {
   "cell_type": "code",
   "execution_count": null,
   "id": "06c4e121-a934-42da-b16c-192de54dc177",
   "metadata": {},
   "outputs": [],
   "source": []
  },
  {
   "cell_type": "code",
   "execution_count": null,
   "id": "760780bb-8dde-4e48-9f29-8ead081c5ae6",
   "metadata": {},
   "outputs": [],
   "source": []
  },
  {
   "cell_type": "markdown",
   "id": "45629836-7e6d-4dd0-9e45-db50774489ed",
   "metadata": {},
   "source": [
    "### Six-sided die example"
   ]
  },
  {
   "cell_type": "code",
   "execution_count": null,
   "id": "e9a68c19-4e5b-40dd-b48f-7a15c25f6261",
   "metadata": {},
   "outputs": [],
   "source": [
    "def roll_die():\n",
    "    r = random.random()*6  # a number in the range [0,6)\n",
    "    rint = int(r)          # convert to integer in {0,1,2,3,4,5}\n",
    "    value = rint + 1       # convert to integer in {1,2,3,4,5,6}\n",
    "    return value\n",
    "\n",
    "roll_die()"
   ]
  },
  {
   "cell_type": "markdown",
   "id": "53578af9-6ccb-4788-aea6-aaa8f417e388",
   "metadata": {},
   "source": [
    "Let's see what happens if we roll the die many times."
   ]
  },
  {
   "cell_type": "code",
   "execution_count": null,
   "id": "62f1b899-be7f-4d99-8d9a-978449283abe",
   "metadata": {},
   "outputs": [],
   "source": [
    "\n",
    "rolls = [roll_die() for _ in range(0, 6000)]\n",
    "ds = pd.Series(rolls)\n",
    "print(ds.value_counts().sort_index())\n",
    "ds.value_counts().sort_index().plot(kind=\"bar\")"
   ]
  },
  {
   "cell_type": "markdown",
   "id": "a8e30efd-5764-4dbe-a28c-488dd284888e",
   "metadata": {},
   "source": [
    " "
   ]
  },
  {
   "cell_type": "markdown",
   "id": "af4bae12-041e-4893-a4f8-f0dafaa0d0e5",
   "metadata": {},
   "source": [
    " "
   ]
  },
  {
   "cell_type": "markdown",
   "id": "60355897-c08f-40e2-9c3b-3b96557c37d5",
   "metadata": {},
   "source": [
    "#### Intentionally skipped"
   ]
  },
  {
   "cell_type": "code",
   "execution_count": null,
   "id": "741e31e7-1624-4dc3-8c7e-caf33cfdefd5",
   "metadata": {},
   "outputs": [],
   "source": [
    "rvN.moment(1)  # = rvN.mean()"
   ]
  },
  {
   "cell_type": "code",
   "execution_count": null,
   "id": "02c714a8-3b17-4a35-a87a-5f2fb1c5f6b6",
   "metadata": {},
   "outputs": [],
   "source": [
    "# Let's verify the formula:\n",
    "# E[(x-𝜇)^2]  = E[X^2]         -   E[X]^2\n",
    "#               second moment      first moment squared\n",
    "rvN.var()    == rvN.moment(2)  -   rvN.moment(1)**2"
   ]
  },
  {
   "cell_type": "code",
   "execution_count": null,
   "id": "6df61e9a-bd5b-4469-b4fe-8cdefc9fd2e2",
   "metadata": {},
   "outputs": [],
   "source": []
  },
  {
   "cell_type": "code",
   "execution_count": null,
   "id": "c9bf8abf-539f-4f81-ba2d-8463ec2ebe8b",
   "metadata": {},
   "outputs": [],
   "source": [
    "from scipy.stats import norm\n",
    "\n",
    "# 1. choose the parameters:\n",
    "mean = 1000   # 𝜇 (mu)    = where is its center?\n",
    "std = 100     # 𝜎 (sigma) = how spread out is it?\n",
    "\n",
    "# 2. create a normal random variable\n",
    "rvN = norm(mean, std)\n",
    "\n",
    "# 3. plot it's probability density function (pdf)\n",
    "x = np.linspace(rvN.ppf(0.001), rvN.ppf(0.999), 10000)\n",
    "y = rvN.pdf(x)\n",
    "ax = sns.lineplot(x=x, y=y)\n",
    "title = 'Probability density for the normal distribution $\\mathcal{N}('+ str(mean) + ',' + str(std) + ')$'\n",
    "ax.set_title(title)\n",
    "ax.set_xlim(300,1700)\n",
    "plt.xticks(np.arange(400,1700,100))\n",
    "_ = ax.set_ylim(0, 0.006)"
   ]
  },
  {
   "cell_type": "code",
   "execution_count": null,
   "id": "8f10676a-997b-4382-8dd5-ea5871447566",
   "metadata": {},
   "outputs": [],
   "source": []
  },
  {
   "cell_type": "code",
   "execution_count": null,
   "id": "1989f473-bd8d-402e-870a-526f8a1b44e2",
   "metadata": {},
   "outputs": [],
   "source": [
    "rvN.entropy()"
   ]
  },
  {
   "cell_type": "code",
   "execution_count": null,
   "id": "a86a1a91-b1a1-4f3a-abd6-f26a385073e9",
   "metadata": {},
   "outputs": [],
   "source": [
    "0.5*np.log(2*np.pi*sigma**2) + 0.5"
   ]
  },
  {
   "cell_type": "code",
   "execution_count": null,
   "id": "cfe00679-72ca-4e81-a581-7fdb75d000c5",
   "metadata": {},
   "outputs": [],
   "source": []
  },
  {
   "cell_type": "markdown",
   "id": "6b86f869-0d1d-47d1-bee4-fac4f1c4fde9",
   "metadata": {},
   "source": [
    "#### EARLY ATTEMPTS AT EXPECTATIONS CALCULATIONS"
   ]
  },
  {
   "cell_type": "code",
   "execution_count": null,
   "id": "1b0c54e0-fe27-4b1c-9420-90a73a89298d",
   "metadata": {},
   "outputs": [],
   "source": [
    "from sympy import Rational\n",
    "integrate( (u-Rational(1,2))**2, (u,0,1) )"
   ]
  },
  {
   "cell_type": "code",
   "execution_count": null,
   "id": "c5d8a316-ece1-4bfb-aa84-c45ff266e57a",
   "metadata": {},
   "outputs": [],
   "source": [
    "from scipy.stats import uniform\n",
    "\n",
    "xs = np.linspace(0, 1, 1000)\n",
    "rvU = uniform(0, 1)"
   ]
  },
  {
   "cell_type": "code",
   "execution_count": null,
   "id": "ff55108c-bd23-4b03-a37b-b6246b242b32",
   "metadata": {},
   "outputs": [],
   "source": [
    "from scipy.integrate import trapz\n",
    "\n",
    "# mean\n",
    "y1 = xs*rvU.pdf(xs)\n",
    "mu = trapz(y1, xs)\n",
    "mu"
   ]
  },
  {
   "cell_type": "code",
   "execution_count": null,
   "id": "c12734ba-fa53-42b6-a23f-5141a8521909",
   "metadata": {},
   "outputs": [],
   "source": [
    "# variance\n",
    "y2 = (xs-mu)**2 * rvU.pdf(xs)\n",
    "sigma2 = trapz(y2, xs)\n",
    "sigma2"
   ]
  },
  {
   "cell_type": "code",
   "execution_count": null,
   "id": "a7493bae-be29-43f7-8a4c-cbb729f771f9",
   "metadata": {},
   "outputs": [],
   "source": [
    "rvU.var()"
   ]
  },
  {
   "cell_type": "markdown",
   "id": "4f276f31-1a84-496d-bd10-797f2ee8641c",
   "metadata": {
    "tags": []
   },
   "source": [
    "#### Alt"
   ]
  },
  {
   "cell_type": "code",
   "execution_count": null,
   "id": "89c16c65-12e4-41b2-ac0d-eaade8f2f1c4",
   "metadata": {},
   "outputs": [],
   "source": [
    "from scipy.stats import uniform\n",
    "\n",
    "rvU = uniform(0, 1)\n",
    "\n",
    "def xpU(x):\n",
    "    return x*rvU.pdf(x)\n",
    "\n",
    "quad(xpU, 0, 1)[0]"
   ]
  },
  {
   "cell_type": "code",
   "execution_count": null,
   "id": "2f7e2f50-cdcc-41f6-9c58-50872832d436",
   "metadata": {},
   "outputs": [],
   "source": []
  },
  {
   "cell_type": "code",
   "execution_count": null,
   "id": "ff70100b-7d96-407b-bf04-ec31bbe4f1e9",
   "metadata": {},
   "outputs": [],
   "source": [
    "def xpU(x):\n",
    "    muX = rvU.mean()\n",
    "    return x*rvU.pdf(x)\n",
    "\n",
    "quad(xpU, 0, 1)[0]"
   ]
  },
  {
   "cell_type": "code",
   "execution_count": null,
   "id": "9d655059-1fe7-4655-b8fb-e53b3298e543",
   "metadata": {},
   "outputs": [],
   "source": [
    "from scipy.integrate import simpson\n",
    "\n",
    "xs = np.linspace(0, 1, 1000)\n",
    "rvU = uniform(0, 1)\n",
    "\n",
    "\n",
    "simpson(xs*rvU.pdf(xs), xs)"
   ]
  },
  {
   "cell_type": "code",
   "execution_count": null,
   "id": "4f9e36a0-fb7a-4884-a888-dee505e1326a",
   "metadata": {},
   "outputs": [],
   "source": []
  },
  {
   "cell_type": "code",
   "execution_count": null,
   "id": "520153f5-046d-4727-92e6-ca364062be35",
   "metadata": {},
   "outputs": [],
   "source": []
  },
  {
   "cell_type": "code",
   "execution_count": null,
   "id": "082f1724-bdef-4eb0-8114-c3618897328c",
   "metadata": {},
   "outputs": [],
   "source": []
  },
  {
   "cell_type": "markdown",
   "id": "807328c7-e8ef-40ba-a0a5-7b630e7b18f9",
   "metadata": {},
   "source": [
    "### Example probability calculation\n",
    "\n",
    "What is the probability of observing a value between 800 and 900."
   ]
  },
  {
   "cell_type": "code",
   "execution_count": null,
   "id": "f06b44df-8480-49b4-8b9e-1f30656c84ef",
   "metadata": {},
   "outputs": [],
   "source": [
    "from plot_helpers import calc_prob_and_plot\n",
    "\n",
    "from scipy.stats import norm\n",
    "\n",
    "rvN = norm(1000, 100)"
   ]
  },
  {
   "cell_type": "code",
   "execution_count": null,
   "id": "88689837-9257-4374-b048-08be41bb7db3",
   "metadata": {},
   "outputs": [],
   "source": [
    "from scipy.integrate import quad\n",
    "\n",
    "# Pr(800 < X < 900) = integral of f_X between 800 and 900\n",
    "quad(rvN.pdf, 800, 900)[0]"
   ]
  },
  {
   "cell_type": "code",
   "execution_count": null,
   "id": "e55bcf8a-5c2e-4610-8d69-0b3d17e1e057",
   "metadata": {},
   "outputs": [],
   "source": [
    "calc_prob_and_plot(rvN, 600, 1000)"
   ]
  },
  {
   "cell_type": "code",
   "execution_count": null,
   "id": "8a05d0f0-5a0d-41c2-b477-16b107b333f2",
   "metadata": {},
   "outputs": [],
   "source": []
  },
  {
   "cell_type": "code",
   "execution_count": null,
   "id": "b4273f25-2988-45a1-b7c2-7b81a7571165",
   "metadata": {},
   "outputs": [],
   "source": []
  },
  {
   "cell_type": "code",
   "execution_count": null,
   "id": "71a85b23-e5e9-45d4-87ba-3169b27eeb05",
   "metadata": {},
   "outputs": [],
   "source": []
  },
  {
   "cell_type": "code",
   "execution_count": null,
   "id": "83ca3046-704e-4cc0-90fe-172b9f27b5c3",
   "metadata": {},
   "outputs": [],
   "source": []
  },
  {
   "cell_type": "code",
   "execution_count": null,
   "id": "4816cfb3-cf82-4277-8222-c0ffc18df937",
   "metadata": {},
   "outputs": [],
   "source": [
    "# what type of object is rvH?\n",
    "type(rvH)"
   ]
  },
  {
   "cell_type": "markdown",
   "id": "48742ded-ee4d-4555-8370-f027816e612c",
   "metadata": {},
   "source": [
    "The above line tells us some information about the internal implementation of the Python object `rvH`,\n",
    "which is the Python implementation of the random variable $H \\sim \\textrm{Pois}(20)$.\n",
    "The `rvH` object is an instance of the class `rv_frozen` (frozen random variable).\n",
    "Ignore the frozen part. The key part is that it's a random variable."
   ]
  }
 ],
 "metadata": {
  "kernelspec": {
   "display_name": "Python 3 (ipykernel)",
   "language": "python",
   "name": "python3"
  },
  "language_info": {
   "codemirror_mode": {
    "name": "ipython",
    "version": 3
   },
   "file_extension": ".py",
   "mimetype": "text/x-python",
   "name": "python",
   "nbconvert_exporter": "python",
   "pygments_lexer": "ipython3",
   "version": "3.9.4"
  }
 },
 "nbformat": 4,
 "nbformat_minor": 5
}
