{
 "cells": [
  {
   "cell_type": "markdown",
   "id": "b73f3d18-88c7-499d-90a3-dd6954247cf3",
   "metadata": {
    "tags": []
   },
   "source": [
    "# Section 3.4 — Analytical approximation methods\n",
    "\n",
    "This notebook contains the code examples from [Section 3.4 Analytical approximation methods]() of the **No Bullshit Guide to Statistics**."
   ]
  },
  {
   "cell_type": "markdown",
   "id": "efce8e91-8824-4103-a526-02e23c794668",
   "metadata": {
    "tags": []
   },
   "source": [
    "#### Notebook setup"
   ]
  },
  {
   "cell_type": "code",
   "execution_count": 1,
   "id": "990de07d-c26f-4a29-935a-2b1dacc89b34",
   "metadata": {},
   "outputs": [],
   "source": [
    "# load Python modules\n",
    "import os\n",
    "import numpy as np\n",
    "import pandas as pd\n",
    "import seaborn as sns\n",
    "import matplotlib.pyplot as plt"
   ]
  },
  {
   "cell_type": "code",
   "execution_count": 2,
   "id": "7783f6e8-55e3-434a-af93-08e37582479a",
   "metadata": {},
   "outputs": [],
   "source": [
    "# Plot helper functions\n",
    "from plot_helpers import calc_prob_and_plot_tails\n",
    "from plot_helpers import plot_pdf\n",
    "from plot_helpers import savefigure"
   ]
  },
  {
   "cell_type": "code",
   "execution_count": 3,
   "id": "3209c5be-cb6a-42c0-8bf8-949a4fc0ff39",
   "metadata": {},
   "outputs": [],
   "source": [
    "# Figures setup\n",
    "sns.set_theme(\n",
    "    context=\"paper\",\n",
    "    style=\"whitegrid\",\n",
    "    palette=\"colorblind\",\n",
    "    rc={'figure.figsize': (7,4)},\n",
    ")\n",
    "blue, orange  = sns.color_palette()[0], sns.color_palette()[1]\n",
    "red = sns.color_palette(\"tab10\")[3]\n",
    "DESTDIR = \"figures/stats/NHST\"\n",
    "\n",
    "%config InlineBackend.figure_format = 'retina'"
   ]
  },
  {
   "cell_type": "code",
   "execution_count": 4,
   "id": "df22d8d7-6814-4c3b-a3d3-2f31ab6b2f3b",
   "metadata": {},
   "outputs": [],
   "source": [
    "# set random seed for repeatability\n",
    "np.random.seed(42)"
   ]
  },
  {
   "cell_type": "code",
   "execution_count": 5,
   "id": "ad416305-607b-48ca-9036-afc85ac05ff9",
   "metadata": {},
   "outputs": [],
   "source": [
    "#######################################################"
   ]
  },
  {
   "cell_type": "markdown",
   "id": "0414f201-9361-412b-b834-86fd400eeb53",
   "metadata": {},
   "source": [
    "## Definitions"
   ]
  },
  {
   "cell_type": "code",
   "execution_count": 6,
   "id": "0f1c44a2-3ad6-41ca-8917-729f8841b9ca",
   "metadata": {},
   "outputs": [],
   "source": [
    "def mean(sample):\n",
    "    return sum(sample) / len(sample)\n",
    "\n",
    "def var(sample):\n",
    "    xbar = mean(sample)\n",
    "    sumsqdevs = sum([(xi-xbar)**2 for xi in sample])\n",
    "    return sumsqdevs / (len(sample)-1)\n",
    "\n",
    "def std(sample):\n",
    "    s2 = var(sample)\n",
    "    return np.sqrt(s2)\n",
    "\n",
    "def dmeans(xsample, ysample):\n",
    "    dhat = mean(xsample) - mean(ysample)\n",
    "    return dhat"
   ]
  },
  {
   "cell_type": "markdown",
   "id": "4585ea79-6125-4e7d-b1f0-1d1d9465b631",
   "metadata": {},
   "source": [
    "### Formulas"
   ]
  },
  {
   "cell_type": "code",
   "execution_count": null,
   "id": "7c8b5a1a-308c-4564-b575-6dfc376a56a9",
   "metadata": {},
   "outputs": [],
   "source": []
  },
  {
   "cell_type": "markdown",
   "id": "36c292c5-ed8f-47a8-aca9-1d0c5155f286",
   "metadata": {},
   "source": [
    "## Comparing one group to a theoretical model\n",
    "\n",
    "Reminder of kombucha bottling scenario where \n",
    "theory: $K \\sim \\mathcal{N}(1000,10)$, samples: ⑤ kombucha"
   ]
  },
  {
   "cell_type": "code",
   "execution_count": 7,
   "id": "975764d9-a4f0-4b85-9454-8b95fdeb3cef",
   "metadata": {},
   "outputs": [],
   "source": [
    "muK = 1000\n",
    "sigmaK = 10"
   ]
  },
  {
   "cell_type": "markdown",
   "id": "cd03820f-b18e-493b-b7bd-c5f3a06dbe2b",
   "metadata": {},
   "source": [
    "### Analytical approximation for sample mean"
   ]
  },
  {
   "cell_type": "markdown",
   "id": "62203b1d-b45e-4705-a9a7-b6095066d70b",
   "metadata": {},
   "source": [
    "### Example 1: test for a difference in means"
   ]
  },
  {
   "cell_type": "code",
   "execution_count": 8,
   "id": "03a310a3-4b29-452b-87b3-c9e413eecc37",
   "metadata": {},
   "outputs": [
    {
     "data": {
      "text/plain": [
       "1003.8335"
      ]
     },
     "execution_count": 8,
     "metadata": {},
     "output_type": "execute_result"
    }
   ],
   "source": [
    "kombucha = pd.read_csv(\"../datasets/kombucha.csv\")\n",
    "batch04 = kombucha[kombucha[\"batch\"]==4]\n",
    "ksample04 = batch04[\"volume\"]\n",
    "n04 = len(ksample04)\n",
    "\n",
    "# observed mean\n",
    "obsmean04 = mean(ksample04)\n",
    "obsmean04"
   ]
  },
  {
   "cell_type": "markdown",
   "id": "81a4ee33-9897-483b-87ee-78f66b570141",
   "metadata": {},
   "source": [
    "#### Assume we know complete model"
   ]
  },
  {
   "cell_type": "code",
   "execution_count": 9,
   "id": "22fe9749-1cc3-4b1d-944d-abbb48b74af7",
   "metadata": {},
   "outputs": [
    {
     "data": {
      "text/plain": [
       "2.42451828205107"
      ]
     },
     "execution_count": 9,
     "metadata": {},
     "output_type": "execute_result"
    }
   ],
   "source": [
    "from scipy.stats import norm\n",
    "\n",
    "# standard error of the mean\n",
    "se = sigmaK / np.sqrt(n04)\n",
    "\n",
    "# compute the z statistic \n",
    "obsz = (obsmean04 - muK) / se\n",
    "obsz"
   ]
  },
  {
   "cell_type": "code",
   "execution_count": 10,
   "id": "109f41db-6c68-4fa1-9455-9ef5f359a883",
   "metadata": {},
   "outputs": [
    {
     "data": {
      "text/plain": [
       "0.015328711497996528"
      ]
     },
     "execution_count": 10,
     "metadata": {},
     "output_type": "execute_result"
    }
   ],
   "source": [
    "from scipy.stats import norm\n",
    "rvZ = norm(0,1)\n",
    "pvalue = 2 * (1 - rvZ.cdf(obsz))\n",
    "pvalue"
   ]
  },
  {
   "cell_type": "code",
   "execution_count": 11,
   "id": "0810d036-b6ec-4f6c-8e8f-7857673d61cb",
   "metadata": {},
   "outputs": [
    {
     "data": {
      "image/png": "[encoded data removed]",
      "text/plain": [
       "<Figure size 504x288 with 1 Axes>"
      ]
     },
     "metadata": {
      "image/png": {
       "height": 263,
       "width": 430
      }
     },
     "output_type": "display_data"
    }
   ],
   "source": [
    "_ = calc_prob_and_plot_tails(rvZ, -obsz, obsz, xlims=[-4,4])"
   ]
  },
  {
   "cell_type": "code",
   "execution_count": null,
   "id": "b80559f6-31d3-4468-b179-0696e36b7b2f",
   "metadata": {},
   "outputs": [],
   "source": []
  },
  {
   "cell_type": "markdown",
   "id": "70e4c076-dec7-49c2-ab6d-8dfe09fe138c",
   "metadata": {},
   "source": [
    "#### Assume we know mean, but not variance"
   ]
  },
  {
   "cell_type": "code",
   "execution_count": 12,
   "id": "dc6bd2b7-70ce-4d00-b43c-b734a6331288",
   "metadata": {},
   "outputs": [
    {
     "data": {
      "text/plain": [
       "3.087703149420272"
      ]
     },
     "execution_count": 12,
     "metadata": {},
     "output_type": "execute_result"
    }
   ],
   "source": [
    "# estimated standard error of the mean\n",
    "s04 = std(ksample04)\n",
    "sehat = s04 / np.sqrt(n04)\n",
    "\n",
    "# compute the t statistic \n",
    "obst = (obsmean04 - muK) / sehat\n",
    "obst"
   ]
  },
  {
   "cell_type": "code",
   "execution_count": 13,
   "id": "a54a01e9-f953-4d41-9e5c-e3c3502709de",
   "metadata": {},
   "outputs": [
    {
     "data": {
      "text/plain": [
       "0.0037056653503328985"
      ]
     },
     "execution_count": 13,
     "metadata": {},
     "output_type": "execute_result"
    }
   ],
   "source": [
    "from scipy.stats import t as tdist\n",
    "\n",
    "df = n04 - 1  # n-1 degrees of freedom\n",
    "rvT = tdist(df)\n",
    "pvalue = 2 * (1 - rvT.cdf(obst))\n",
    "pvalue"
   ]
  },
  {
   "cell_type": "code",
   "execution_count": 14,
   "id": "d4ed88d0-f3c2-4699-bded-1c00c92d500d",
   "metadata": {},
   "outputs": [
    {
     "data": {
      "image/png": "[encoded data removed]",
      "text/plain": [
       "<Figure size 504x288 with 1 Axes>"
      ]
     },
     "metadata": {
      "image/png": {
       "height": 263,
       "width": 430
      }
     },
     "output_type": "display_data"
    }
   ],
   "source": [
    "_ = calc_prob_and_plot_tails(rvT, -obst, obst, xlims=[-4,4])"
   ]
  },
  {
   "cell_type": "code",
   "execution_count": 15,
   "id": "a7018eb9-ec97-4ab3-acf5-43d2d6e72a93",
   "metadata": {},
   "outputs": [
    {
     "data": {
      "text/plain": [
       "0.0037056653503329618"
      ]
     },
     "execution_count": 15,
     "metadata": {},
     "output_type": "execute_result"
    }
   ],
   "source": [
    "# ALT. using existing function `scipy.stats`\n",
    "from scipy.stats import ttest_1samp\n",
    "ttest_1samp(ksample04, popmean=1000).pvalue"
   ]
  },
  {
   "cell_type": "code",
   "execution_count": null,
   "id": "c3c6556e-2443-4ea2-aaf0-08bc4862b710",
   "metadata": {},
   "outputs": [],
   "source": []
  },
  {
   "cell_type": "code",
   "execution_count": null,
   "id": "fe713641-a806-4202-a6f1-b7302fbbd2d4",
   "metadata": {},
   "outputs": [],
   "source": []
  },
  {
   "cell_type": "markdown",
   "id": "936fa553-804c-4121-a49e-7d2fbbc4976e",
   "metadata": {},
   "source": [
    "### Analytical approximation for sample variance"
   ]
  },
  {
   "cell_type": "markdown",
   "id": "535577f4-a9a9-4a1a-b260-f81009fbe91f",
   "metadata": {},
   "source": [
    "### Chi-square test for variance\n",
    "\n",
    "see also:\n",
    " - https://www.itl.nist.gov/div898/handbook/eda/section3/eda358.htm\n",
    " - https://openpress.usask.ca/introtoappliedstatsforpsych/chapter/9-5-chi-squared-test-for-variance-or-standard-deviation/\n"
   ]
  },
  {
   "cell_type": "markdown",
   "id": "a47ec579-1fea-4cb4-b22e-ee11ba4fe5c0",
   "metadata": {},
   "source": [
    "### Example 2: test for a difference in variance"
   ]
  },
  {
   "cell_type": "code",
   "execution_count": 16,
   "id": "3b9c5427-8941-4704-b733-caadcbedb250",
   "metadata": {},
   "outputs": [
    {
     "data": {
      "text/plain": [
       "20"
      ]
     },
     "execution_count": 16,
     "metadata": {},
     "output_type": "execute_result"
    }
   ],
   "source": [
    "kombucha = pd.read_csv(\"../datasets/kombucha.csv\")\n",
    "batch02 = kombucha[kombucha[\"batch\"]==2]\n",
    "ksample02 = batch02[\"volume\"]\n",
    "n02 = ksample02.count()\n",
    "n02"
   ]
  },
  {
   "cell_type": "code",
   "execution_count": 17,
   "id": "b31ee357-2d56-47f8-bd23-a45e93780265",
   "metadata": {},
   "outputs": [
    {
     "data": {
      "text/plain": [
       "124.31760105263136"
      ]
     },
     "execution_count": 17,
     "metadata": {},
     "output_type": "execute_result"
    }
   ],
   "source": [
    "obsvar02 = var(ksample02)\n",
    "obsvar02"
   ]
  },
  {
   "cell_type": "code",
   "execution_count": 18,
   "id": "b681cd36-d4c4-4753-b36e-1052e8568d16",
   "metadata": {},
   "outputs": [
    {
     "data": {
      "text/plain": [
       "23.62034419999996"
      ]
     },
     "execution_count": 18,
     "metadata": {},
     "output_type": "execute_result"
    }
   ],
   "source": [
    "obschi2 = (n02-1) * obsvar02 / sigmaK**2\n",
    "obschi2"
   ]
  },
  {
   "cell_type": "code",
   "execution_count": 19,
   "id": "07143e57-c33c-4d16-b6fd-f7c9498de049",
   "metadata": {},
   "outputs": [
    {
     "data": {
      "text/plain": [
       "0.2111207328360385"
      ]
     },
     "execution_count": 19,
     "metadata": {},
     "output_type": "execute_result"
    }
   ],
   "source": [
    "from scipy.stats import chi2\n",
    "\n",
    "df = n02 - 1\n",
    "rvX2 = chi2(df)\n",
    "\n",
    "pvalue = 1 - rvX2.cdf(obschi2)\n",
    "pvalue"
   ]
  },
  {
   "cell_type": "code",
   "execution_count": 20,
   "id": "517b2487-a93c-43ee-8046-f8e1c36951a3",
   "metadata": {},
   "outputs": [
    {
     "data": {
      "image/png": "[encoded data removed]",
      "text/plain": [
       "<Figure size 504x288 with 1 Axes>"
      ]
     },
     "metadata": {
      "image/png": {
       "height": 264,
       "width": 430
      }
     },
     "output_type": "display_data"
    }
   ],
   "source": [
    "# plot tails\n",
    "_ = calc_prob_and_plot_tails(rvX2, 0, obschi2, xlims=[0,50])"
   ]
  },
  {
   "cell_type": "code",
   "execution_count": 21,
   "id": "674ac906-0d0c-4a61-aeb1-2a6e60c7ca17",
   "metadata": {},
   "outputs": [],
   "source": [
    "# TODO: ksample08\n"
   ]
  },
  {
   "cell_type": "markdown",
   "id": "b78df195-18f9-4fd2-a55a-cafe8a31593b",
   "metadata": {},
   "source": [
    "## Comparing two groups"
   ]
  },
  {
   "cell_type": "markdown",
   "id": "f5c0b82b-f09f-4ddf-b68c-e0a8b83de125",
   "metadata": {},
   "source": [
    "\n",
    "We'll now look at another approach for answering Question 1:\n",
    "using and analytical approximation,\n",
    "which is the way normally taught in STATS 101 courses.\n",
    "How likely or unlikely is the observed difference $d=130$ under the null hypothesis?\n",
    "\n",
    "- Analytical approximations are math models for describing the sampling distribution under $H_0$\n",
    "  - Real sampling distributions: obtained by repeated sampling from $H_0$\n",
    "  - Analytical approximation: probability model based on estimated parameters\n",
    "- Based on this assumption we can use the theoretical model for the difference between group means\n",
    "  that we developed earlier, we can obtain a **closed form expression** for the sampling distribution of $D$.\n",
    "- In particular, the probability model for the two groups under $H_0$ are:\n",
    "  $$ \n",
    "       H_0: \\qquad X_S = \\mathcal{N}(\\color{red}{\\mu_0}, \\sigma_S)\n",
    "       \\quad \\textrm{and} \\quad\n",
    "       X_{NS} = \\mathcal{N}(\\color{red}{\\mu_0}, \\sigma_{NS}), \\quad\n",
    "  $$\n",
    "  from which we can derive the model for $D = \\overline{\\mathbf{X}}_S - \\overline{\\mathbf{X}}_{NS}$:\n",
    "  $$ \n",
    "     D  \\sim \\mathcal{N}\\!\\left( \\color{red}{0}, \\  \\sqrt{ \\tfrac{\\sigma^2_S}{n_S} + \\tfrac{\\sigma^2_{NS}}{n_{NS}} } \\right)\n",
    "  $$\n",
    "  In words, the sampling distribution of the difference between group means is\n",
    "  normally distributed with mean $\\mu_D = 0$ and standard deviation $\\sigma_D$,\n",
    "  which depends on the variance of the two groups $\\sigma^2_S$ and $\\sigma^2_{NS}$.\n",
    "  Recall we obtained this expression earlier when we discussed difference of means between groups A and B.\n",
    "- However, the population variances $\\sigma^2_S$ and $\\sigma^2_{NS}$ are unknown,\n",
    "  and we only have the estimated variances $s_S^2$ and $s_{NS}^2$,\n",
    "  which we calculated from the sample.\n",
    "- That's OK though, since the sample variances are estimates for the population variances.\n",
    "  There are two common ways to obtain an approximation for $\\sigma^2_D$:\n",
    "  - Unpooled variance: $\\sigma^2_D \\approx s^2_u = \\tfrac{s^2_S}{n_S} + \\tfrac{s^2_{NS}}{n_{NS}}$\n",
    "    (follows from the general rule of probability theory)\n",
    "  - Pooled variance: $\\sigma^2_D \\approx s^2_p =  \\frac{(n_S-1)s_S^2 \\; + \\; (n_{NS}-1)s_{NS}^2}{n_S + n_{NS} - 2}$\n",
    "    (takes advantage of assumption that both samples come from the same population under $H_0$)\n",
    "- NEW CONCEPT: **Student's $t$-distribution** is a model for $D$ which takes into account\n",
    "  we are using $s_S^2$ and $s_{NS}^2$ instead of $\\sigma_S^2$ and $\\sigma_{NS}^2$.\n",
    "- NEW CONCEPT: **degrees of freedom**, denoted `df` in code or $\\nu$ (Greek letter *nu*) in equations,\n",
    "  is the parameter of Student's $t$-distribution dependent on the sample size used to estimate quantities.\n"
   ]
  },
  {
   "cell_type": "markdown",
   "id": "76055cda-1900-43bf-8a30-1de7dca5c4cd",
   "metadata": {},
   "source": [
    "### Example 3: comparing East and West electricity prices"
   ]
  },
  {
   "cell_type": "code",
   "execution_count": 22,
   "id": "acb34ec9-5bbf-440f-ae14-36ea29828376",
   "metadata": {},
   "outputs": [
    {
     "data": {
      "text/plain": [
       "3.0"
      ]
     },
     "execution_count": 22,
     "metadata": {},
     "output_type": "execute_result"
    }
   ],
   "source": [
    "eprices = pd.read_csv(\"../datasets/eprices.csv\")\n",
    "pricesW = eprices[eprices[\"end\"]==\"West\"][\"price\"]\n",
    "pricesE = eprices[eprices[\"end\"]==\"East\"][\"price\"]\n",
    "\n",
    "# Calculate the observed difference between means\n",
    "dprices = dmeans(pricesW, pricesE)\n",
    "dprices"
   ]
  },
  {
   "cell_type": "markdown",
   "id": "445c3e72-6e84-40f0-8707-a6cc45ba4a20",
   "metadata": {
    "tags": []
   },
   "source": [
    "#### Welch's t-test (unpooled variances)"
   ]
  },
  {
   "cell_type": "markdown",
   "id": "f1111ac4-b4c7-4424-b2c2-5514f8c9872c",
   "metadata": {
    "tags": []
   },
   "source": [
    "We'll now show the [$t$-test](https://statkat.com/stattest.php?&t=9) procedure\n",
    "known as Welch's t-test,\n",
    "which allows the variances in the two groups to be different.\n",
    "\n",
    "We'll talk about the $t$-test with pooled variances later on."
   ]
  },
  {
   "cell_type": "markdown",
   "id": "246e68e9-03e8-4a39-a9eb-939d93bd2657",
   "metadata": {},
   "source": [
    "Welch's $t$-test differs only in steps 4 through 6 as shown below:"
   ]
  },
  {
   "cell_type": "code",
   "execution_count": 23,
   "id": "a306e863-5020-41bf-bdd1-7661004102a6",
   "metadata": {},
   "outputs": [],
   "source": [
    "# Calculate the sample size and the standard deviation for each group\n",
    "nW, nE = len(pricesW), len(pricesE)\n",
    "stdW, stdE = std(pricesW), std(pricesE)"
   ]
  },
  {
   "cell_type": "code",
   "execution_count": 24,
   "id": "77529183-3587-4151-961d-12e08c10e27c",
   "metadata": {},
   "outputs": [
    {
     "data": {
      "text/plain": [
       "0.5972674401486561"
      ]
     },
     "execution_count": 24,
     "metadata": {},
     "output_type": "execute_result"
    }
   ],
   "source": [
    "# Compute the standard error of the estimator D (Welch's t-test)\n",
    "seDprices = np.sqrt(stdW**2/nW + stdE**2/nE)\n",
    "seDprices"
   ]
  },
  {
   "cell_type": "code",
   "execution_count": 25,
   "id": "e7b6612c-c573-4243-8708-cd8c39c5a9f8",
   "metadata": {},
   "outputs": [
    {
     "data": {
      "text/plain": [
       "12.59281702723103"
      ]
     },
     "execution_count": 25,
     "metadata": {},
     "output_type": "execute_result"
    }
   ],
   "source": [
    "def calcdf(stdX, n, stdY, m):\n",
    "    vX = stdX**2 / n\n",
    "    vY = stdY**2 / m\n",
    "    df = (vX + vY)**2 / (vX**2/(n-1) + vY**2/(m-1))\n",
    "    return df\n",
    "    \n",
    "# Obtain the degrees of freedom from the crazy formula\n",
    "df = calcdf(stdW, nW, stdE, nE)\n",
    "df"
   ]
  },
  {
   "cell_type": "code",
   "execution_count": 26,
   "id": "7fb2d349-6f50-4f2f-8c05-c13088831133",
   "metadata": {},
   "outputs": [],
   "source": [
    "# Compute the value of the t-statistic\n",
    "obst = (dprices - 0) / seDprices"
   ]
  },
  {
   "cell_type": "code",
   "execution_count": 27,
   "id": "b1cdd7cd-d2f0-43d6-9f6b-059a8ce1c3df",
   "metadata": {},
   "outputs": [
    {
     "data": {
      "text/plain": [
       "0.0002570338337217614"
      ]
     },
     "execution_count": 27,
     "metadata": {},
     "output_type": "execute_result"
    }
   ],
   "source": [
    "from stats_helpers import tailprobs\n",
    "# Calculate the p-value\n",
    "rvT = tdist(df)\n",
    "pvalue = tailprobs(rvT, obst, alternative=\"two-sided\")\n",
    "pvalue"
   ]
  },
  {
   "cell_type": "code",
   "execution_count": 28,
   "id": "180dd392-709e-42ee-ad4d-1e6a85b3f458",
   "metadata": {},
   "outputs": [
    {
     "data": {
      "text/plain": [
       "0.0002570338337217609"
      ]
     },
     "execution_count": 28,
     "metadata": {},
     "output_type": "execute_result"
    }
   ],
   "source": [
    "# ALT. compute using existing function in `scipy.stats`\n",
    "from scipy.stats import ttest_ind\n",
    "result1 = ttest_ind(pricesW, pricesE, equal_var=False)\n",
    "result1.pvalue"
   ]
  },
  {
   "cell_type": "code",
   "execution_count": null,
   "id": "d5fa05c8-9dde-4575-b020-709090db0005",
   "metadata": {},
   "outputs": [],
   "source": []
  },
  {
   "cell_type": "markdown",
   "id": "2281a977-f877-4a4f-9d90-4578e2055845",
   "metadata": {
    "tags": []
   },
   "source": [
    "#### T-test with pooled variances"
   ]
  },
  {
   "cell_type": "code",
   "execution_count": 29,
   "id": "b4f48a1f-27ee-4780-92dc-a8fb2aaf7a35",
   "metadata": {},
   "outputs": [],
   "source": [
    "# Compute the pooled variance and standard error of estimator D\n",
    "pooled_var = ((nW-1)*stdW**2 + (nE-1)*stdE**2) / (nW + nE - 2)\n",
    "pooled_std = np.sqrt(pooled_var)\n",
    "pooled_seDprices = pooled_std * np.sqrt(1/nW + 1/nE)"
   ]
  },
  {
   "cell_type": "code",
   "execution_count": 30,
   "id": "2193f7c6-2df6-4f5e-bc42-973bf3578888",
   "metadata": {},
   "outputs": [
    {
     "data": {
      "text/plain": [
       "16"
      ]
     },
     "execution_count": 30,
     "metadata": {},
     "output_type": "execute_result"
    }
   ],
   "source": [
    "# Obtain the degrees of freedom\n",
    "df2 = nW + nW - 2\n",
    "df2"
   ]
  },
  {
   "cell_type": "code",
   "execution_count": 31,
   "id": "657a175c-af04-4118-bb77-c01c344269c9",
   "metadata": {},
   "outputs": [],
   "source": [
    "# Compute the value of the t-statistic\n",
    "obst2 = (dprices - 0) / pooled_seDprices"
   ]
  },
  {
   "cell_type": "code",
   "execution_count": 32,
   "id": "8d0d1d10-fac5-4a00-b8df-ff1d05204bce",
   "metadata": {},
   "outputs": [
    {
     "data": {
      "text/plain": [
       "0.0001249706798767125"
      ]
     },
     "execution_count": 32,
     "metadata": {},
     "output_type": "execute_result"
    }
   ],
   "source": [
    "from stats_helpers import tailprobs\n",
    "\n",
    "# Calculate the p-value\n",
    "rvT2 = tdist(df2)\n",
    "pvalue2 = tailprobs(rvT2, obst2, alternative=\"two-sided\")\n",
    "pvalue2"
   ]
  },
  {
   "cell_type": "code",
   "execution_count": 33,
   "id": "25625ae9-4f3e-4b04-8377-c9ed93a0ecb0",
   "metadata": {},
   "outputs": [
    {
     "data": {
      "text/plain": [
       "0.00012497067987678488"
      ]
     },
     "execution_count": 33,
     "metadata": {},
     "output_type": "execute_result"
    }
   ],
   "source": [
    "# ALT. compute using existing function in `scipy.stats`\n",
    "from scipy.stats import ttest_ind\n",
    "result2 = ttest_ind(pricesW, pricesE, equal_var=True)\n",
    "result2.pvalue"
   ]
  },
  {
   "cell_type": "code",
   "execution_count": null,
   "id": "b6ad596c-4f0b-4743-8cf1-f861258a2e2f",
   "metadata": {},
   "outputs": [],
   "source": []
  },
  {
   "cell_type": "code",
   "execution_count": null,
   "id": "e9d8d53b-c23e-4b8f-be61-f368cdf7a762",
   "metadata": {},
   "outputs": [],
   "source": []
  },
  {
   "cell_type": "markdown",
   "id": "e133098a-64d6-46de-896a-ffe3bd9b35e8",
   "metadata": {},
   "source": [
    "### Example 4: comparing rural and urban sleep scores"
   ]
  },
  {
   "cell_type": "code",
   "execution_count": 34,
   "id": "58610853-f982-4abe-be04-20e68e5114e1",
   "metadata": {},
   "outputs": [],
   "source": [
    "# TODO"
   ]
  },
  {
   "cell_type": "code",
   "execution_count": null,
   "id": "5feb0cd1-b734-4bfd-9097-98d17684e741",
   "metadata": {},
   "outputs": [],
   "source": []
  },
  {
   "cell_type": "markdown",
   "id": "bf33935a-a0cd-4b02-8a62-1a438eb414b2",
   "metadata": {},
   "source": [
    "## Explanations"
   ]
  },
  {
   "cell_type": "markdown",
   "id": "a7eee3ad-717a-4c41-a1af-7d63e39ee4a1",
   "metadata": {},
   "source": [
    "### Statistical modelling assumptions"
   ]
  },
  {
   "cell_type": "markdown",
   "id": "0a57f3b7-2d71-44bd-94e4-967fc14b7a10",
   "metadata": {},
   "source": [
    "### One tailed and two-tailed hypotheses\n",
    "\n",
    "One-sided and two-sided tests ..."
   ]
  },
  {
   "cell_type": "code",
   "execution_count": 35,
   "id": "313277e0-c010-49ea-9d26-47cd6f102a78",
   "metadata": {},
   "outputs": [
    {
     "name": "stdout",
     "output_type": "stream",
     "text": [
      "Saved figure to figures/stats/NHST/panel_p-values_left_twotailed_right_tests.pdf\n",
      "Saved figure to figures/stats/NHST/panel_p-values_left_twotailed_right_tests.png\n"
     ]
    },
    {
     "data": {
      "image/png": "[encoded data removed]",
      "text/plain": [
       "<Figure size 504x144 with 3 Axes>"
      ]
     },
     "metadata": {
      "image/png": {
       "height": 133,
       "width": 497
      }
     },
     "output_type": "display_data"
    }
   ],
   "source": [
    "filename = os.path.join(DESTDIR, \"panel_p-values_left_twotailed_right_tests.pdf\")\n",
    "    \n",
    "from scipy.stats import t as tdist\n",
    "rvT = tdist(9)\n",
    "\n",
    "xs = np.linspace(-4, 4, 1000)\n",
    "ys = rvT.pdf(xs)\n",
    "\n",
    "with plt.rc_context({\"figure.figsize\":(7,2)}), sns.axes_style(\"ticks\"):\n",
    "    fig, (ax1, ax2, ax3) = plt.subplots(1,3)\n",
    "\n",
    "\n",
    "    # LEFT\n",
    "    title = '(a) left-tailed test'\n",
    "    ax1.set_title(title, fontsize=13) #, y=-0.26)\n",
    "    sns.lineplot(x=xs, y=ys, ax=ax1)\n",
    "    ax1.set_xlim(-4, 4)\n",
    "    ax1.set_ylim(0, 0.42)\n",
    "    ax1.set_xticks([-2])\n",
    "    ax1.set_xticklabels([])\n",
    "    ax1.set_yticks([])\n",
    "\n",
    "    # highlight the left tail\n",
    "    mask = (xs < -2)\n",
    "    ax1.fill_between(xs[mask], y1=ys[mask], alpha=0.6, facecolor=\"red\")\n",
    "    ax1.text(-2, -0.03, r\"$t$\", verticalalignment=\"top\", horizontalalignment=\"center\")\n",
    "\n",
    "\n",
    "\n",
    "    # TWO-TAILED\n",
    "    title = '(b) two-tailed test'\n",
    "    ax2.set_title(title, fontsize=13)#, y=-0.26)\n",
    "    sns.lineplot(x=xs, y=ys, ax=ax2)\n",
    "    ax2.set_xlim(-4, 4)\n",
    "    ax2.set_ylim(0, 0.42)\n",
    "    ax2.set_xticks([-2,2])\n",
    "    ax2.set_xticklabels([])\n",
    "    ax2.set_yticks([])\n",
    "\n",
    "    # highlight the left and right tails\n",
    "    mask = (xs < -2)\n",
    "    ax2.fill_between(xs[mask], y1=ys[mask], alpha=0.6, facecolor=\"red\")\n",
    "    ax2.text(-2, -0.03, r\"$-|t|$\", verticalalignment=\"top\", horizontalalignment=\"center\")\n",
    "    mask = (xs > 2)\n",
    "    ax2.fill_between(xs[mask], y1=ys[mask], alpha=0.6, facecolor=\"red\")\n",
    "    ax2.text(2, -0.03, r\"$|t|$\", verticalalignment=\"top\", horizontalalignment=\"center\")\n",
    "\n",
    "\n",
    "\n",
    "    # RIGHT\n",
    "    title = '(c) right-tailed test'\n",
    "    ax3.set_title(title, fontsize=13)#, y=-0.26)\n",
    "    sns.lineplot(x=xs, y=ys, ax=ax3)\n",
    "    ax3.set_xlim(-4, 4)\n",
    "    ax3.set_ylim(0, 0.42)\n",
    "    ax3.set_xticks([2])\n",
    "    ax3.set_xticklabels([])\n",
    "    ax3.set_yticks([])\n",
    "\n",
    "    # highlight the right tail\n",
    "    mask = (xs > 2)\n",
    "    ax3.fill_between(xs[mask], y1=ys[mask], alpha=0.6, facecolor=\"red\")\n",
    "    ax3.text(2, -0.03, \"$t$\", verticalalignment=\"top\", horizontalalignment=\"center\")\n",
    "\n",
    "\n",
    "savefigure(fig, filename)"
   ]
  },
  {
   "cell_type": "code",
   "execution_count": null,
   "id": "20a7af71-8a28-47dc-9b1f-9141801b4d33",
   "metadata": {},
   "outputs": [],
   "source": []
  },
  {
   "cell_type": "code",
   "execution_count": null,
   "id": "92572582-ce35-4f0d-bae4-0d40de4c709b",
   "metadata": {},
   "outputs": [],
   "source": []
  },
  {
   "cell_type": "code",
   "execution_count": null,
   "id": "1fb45456-c867-46c3-aca0-2d293a36a1a8",
   "metadata": {},
   "outputs": [],
   "source": []
  },
  {
   "cell_type": "markdown",
   "id": "427b12a5-8c74-499e-9fa5-76578f3727dd",
   "metadata": {},
   "source": [
    "## Discussion\n",
    "### Hypothesis testing using confidence intervals\n",
    "### Comparison to resampling methods\n",
    "### Other statistical methods"
   ]
  },
  {
   "cell_type": "markdown",
   "id": "e5a7fc16-e0fd-4a47-be1b-b8a473579b60",
   "metadata": {},
   "source": [
    "## Exercises\n",
    "## Links"
   ]
  },
  {
   "cell_type": "code",
   "execution_count": null,
   "id": "8ff1be32-1536-4db1-a5ff-815fcd5b15c0",
   "metadata": {},
   "outputs": [],
   "source": []
  },
  {
   "cell_type": "markdown",
   "id": "d360d132-834a-4435-9347-586d25ab8a8b",
   "metadata": {},
   "source": [
    "# IMPORTED OLD WRITEUP"
   ]
  },
  {
   "cell_type": "markdown",
   "id": "1e96fbdb-9ff0-4f09-b2b1-8a5bb4a027b4",
   "metadata": {
    "tags": []
   },
   "source": [
    "### Student's t-test (pooled variance)\n",
    "\n",
    "[Student's $t$-test for comparison of the difference between two groups means](https://statkat.com/stattest.php?&t=9) is a procedure that makes use of the pooled variance $s^2_p$. \n",
    "Recall $H_0$ states there is no difference between the two groups.\n",
    "This means we can think of $s_S^2$ and $s_{NS}^2$ as two independent estimates of the population variance,\n",
    "so we can combine them (pool them together) to obtain an estimate $s^2_p$.\n",
    "\n",
    "#### Black-box approach\n",
    "The `scipy.stats` function `ttest_ind` will perform all the steps of Student's $t$-test procedure,\n",
    "without the need for us to understand the details."
   ]
  },
  {
   "cell_type": "code",
   "execution_count": 36,
   "id": "12027307-a10e-42f7-8c89-ee05a2e1be09",
   "metadata": {},
   "outputs": [],
   "source": [
    "# from scipy.stats import ttest_ind\n",
    "\n",
    "# # extract data for two groups\n",
    "# xS = data[data[\"group\"]==\"S\"]['ELV']\n",
    "# xNS = data[data[\"group\"]==\"NS\"]['ELV']\n",
    "\n",
    "# # run the complete t-test procedure for ind-ependent samples:\n",
    "# result = ttest_ind(xS, xNS)\n",
    "# result.pvalue"
   ]
  },
  {
   "cell_type": "markdown",
   "id": "ebd780cf-c255-4bb3-8a73-a703dd535227",
   "metadata": {},
   "source": [
    "The $p$-value is less than 0.05 so our decision is to **reject the null hypothesis**."
   ]
  },
  {
   "cell_type": "markdown",
   "id": "742a96f3-acc6-4662-83db-8f1f9bc4d9f1",
   "metadata": {
    "tags": []
   },
   "source": [
    "#### Student's t-test under the hood\n",
    "\n",
    "The computations hidden behind the function `ttest_ind` involve a six step procedure that makes use of the pooled variance $s^2_p$."
   ]
  },
  {
   "cell_type": "code",
   "execution_count": null,
   "id": "f046a3e0-b61e-4e4b-9342-b343320e386d",
   "metadata": {},
   "outputs": [],
   "source": []
  },
  {
   "cell_type": "code",
   "execution_count": null,
   "id": "38636dfd-5d89-48b8-bb17-9bd37908429b",
   "metadata": {},
   "outputs": [],
   "source": []
  },
  {
   "cell_type": "markdown",
   "id": "b995c886-ec75-4ec9-a44f-f1e337553ff1",
   "metadata": {},
   "source": [
    "### Summary of Question 1\n",
    "\n",
    "We saw two ways to answer Question 1 (is there really a difference between group means) and obtain the $p$-value.\n",
    "We interpreted the small $p$-values as evidence that the observed difference, $d=130$, is unlikely to be due to chance under $H_0$, so we rejected the null hypothesis.\n",
    "Note this whole procedure is just a sanity check—we haven't touched the alternative hypothesis at all yet,\n",
    "and for all we know the stats training could have the effect of decreasing ELV!\n"
   ]
  },
  {
   "cell_type": "code",
   "execution_count": null,
   "id": "3a07e85c-f838-4a7d-9b5f-22de91e06c6b",
   "metadata": {},
   "outputs": [],
   "source": []
  },
  {
   "cell_type": "markdown",
   "id": "c3a85eff-8ace-4454-a1b2-dec424ac2cc4",
   "metadata": {},
   "source": [
    "## Estimating the effect size\n",
    "\n",
    "- Question 2 of Amy's statistical investigation is to estimate the difference in ELV gained by stats training.\n",
    "- NEW CONCEPT: **effect size** is a measure of difference between intervention and control groups.\n",
    "- We assume the data of **Group S** and **Group NS** come from different populations with means $\\mu_S$ and $\\mu_{NS}$.\n",
    "- We're interested in estimating the difference between population means, denoted $\\Delta = \\mu_S - \\mu_{NS}$.\n",
    "- By analyzing the sample, we have obtained an estimate $d=130$ for the unknown $\\Delta$,\n",
    "  but we know our data contains lots of variability, so we know our estimate might be off.\n",
    "- We want an answer to Question 2 (What is the estimated difference between group means?)\n",
    "  that takes into account the variability of the data.\n",
    "- NEW CONCEPT: **confidence interval** is a way to describe a range of values for an estimate\n",
    "  that takes into account the variability of the data.\n",
    "- We want to provide an answer to Question 2 in the form of a confidence interval that tells\n",
    "  us a range of values where we believe the true value of $\\Delta$ falls.\n",
    "- Similar to how we showed two approaches for hypothesis testing,\n",
    "  we'll work on effect size estimation using two approaches: bootstrap estimation and analytical approximation methods.\n"
   ]
  },
  {
   "cell_type": "code",
   "execution_count": null,
   "id": "51526097-4dac-4260-82d9-00cbe2a816fa",
   "metadata": {},
   "outputs": [],
   "source": []
  },
  {
   "cell_type": "markdown",
   "id": "6fe434e3-fabe-4670-969f-2bb523699c38",
   "metadata": {},
   "source": [
    "### Approach 2: Confidence intervals using analytical approximations\n",
    "\n",
    "  - Assumption: the variance of the two populations is the same (or approximately equal)\n",
    "  - Using the theoretical model for the populations,\n",
    "    we can obtain a formula for CI of effect size $\\Delta$:\n",
    "    $$\n",
    "    \\textrm{CI}_{(1-\\alpha)}\n",
    "    = \\left[ d - t^*\\!\\cdot\\!\\sigma_D, \\, \n",
    "             d + t^*\\!\\cdot\\!\\sigma_D\n",
    "      \\right].\n",
    "    $$\n",
    "    The confidence interval is centred at $d$,\n",
    "    with width proportional to the standard deviation $\\sigma_D$.\n",
    "    The constant $t^*$ denotes the value of the inverse CDF of Student's $t$-distribution\n",
    "    with appropriate number of degrees of freedom `df` evaluated at $1-\\frac{\\alpha}{2}$.\n",
    "    For a 90% confidence interval, we choose $\\alpha=0.10$,\n",
    "    which gives $(1-\\frac{\\alpha}{2}) = 0.95$, $t^* = F_{T_{\\textrm{df}}}^{-1}\\left(0.95\\right)$.\n",
    "  - We can use the two different analytical approximations to obtain a formula for $\\sigma_D$\n",
    "    just as we did in the hypothesis testing:\n",
    "    - Pooled variance: $\\sigma^2_p =  \\frac{(n_S-1)s_S^2 + (n_{NS}-1)s_{NS}^2}{n_S + n_{NS} - 2}$,\n",
    "      and `df` = $n_S + n_{NS} -2$\n",
    "    - Unpooled variance: $\\sigma^2_u = \\tfrac{s^2_A}{n_A} + \\tfrac{s^2_B}{n_B}$, and `df` = [...](https://en.wikipedia.org/wiki/Student%27s_t-test#Equal_or_unequal_sample_sizes,_unequal_variances_(sX1_%3E_2sX2_or_sX2_%3E_2sX1))"
   ]
  },
  {
   "cell_type": "markdown",
   "id": "2127fc6b-e0da-4a12-8f1b-8f34d8a35294",
   "metadata": {},
   "source": [
    "#### Using pooled variance\n",
    "\n",
    "The calculations are similar to Student's t-test for hypothesis testing."
   ]
  },
  {
   "cell_type": "code",
   "execution_count": 37,
   "id": "b59e0ff3-2d05-45f6-b199-f49dc57a1f46",
   "metadata": {},
   "outputs": [],
   "source": [
    "# from scipy.stats import t\n",
    "\n",
    "# d = np.mean(xS) - np.mean(xNS)\n",
    "\n",
    "# nS, nNS = len(xS), len(xNS)\n",
    "# stdS, stdNS = stdev(xS), stdev(xNS)\n",
    "# var_pooled = ((nS-1)*stdS**2 + (nNS-1)*stdNS**2)/(nS + nNS - 2)\n",
    "# std_pooled = np.sqrt(var_pooled)\n",
    "# std_err = std_pooled * np.sqrt(1/nS + 1/nNS)\n",
    "\n",
    "# df = nS + nNS - 2\n",
    "\n",
    "# # for 90% confidence interval, need 10% in tails\n",
    "# alpha = 0.10\n",
    "\n",
    "# # now use inverse-CDF of Students t-distribution\n",
    "# tstar = abs(t(df).ppf(alpha/2))\n",
    "\n",
    "# CI_tpooled = [d - tstar*std_err, d + tstar*std_err]\n",
    "# CI_tpooled"
   ]
  },
  {
   "cell_type": "markdown",
   "id": "c0872d91-3824-430b-af77-6450baade842",
   "metadata": {
    "tags": []
   },
   "source": [
    "#### Using unpooled variance\n",
    "\n",
    "The calculations are similar to the Welch's t-test for hypothesis testing."
   ]
  },
  {
   "cell_type": "code",
   "execution_count": 38,
   "id": "b8018f17-1b81-4a53-9626-299c56a13ea1",
   "metadata": {},
   "outputs": [],
   "source": [
    "# d = np.mean(xS) - np.mean(xNS)\n",
    "\n",
    "# nS, nNS = len(xS), len(xNS)\n",
    "# stdS, stdNS = stdev(xS), stdev(xNS)\n",
    "# stdD = np.sqrt(stdS**2/nS + stdNS**2/nNS)\n",
    "\n",
    "# df = (stdS**2/nS + stdNS**2/nNS)**2 / \\\n",
    "#     ((stdS**2/nS)**2/(nS-1) + (stdNS**2/nNS)**2/(nNS-1) )\n",
    "\n",
    "# # for 90% confidence interval, need 10% in tails\n",
    "# alpha = 0.10\n",
    "\n",
    "# # now use inverse-CDF of Students t-distribution\n",
    "# tstar = abs(t(df).ppf(alpha/2))\n",
    "\n",
    "# CI_tunpooled = [d - tstar*stdD, d + tstar*stdD]\n",
    "# CI_tunpooled"
   ]
  },
  {
   "cell_type": "code",
   "execution_count": null,
   "id": "dd454080-5649-4d4b-8422-8174695485f6",
   "metadata": {},
   "outputs": [],
   "source": []
  },
  {
   "cell_type": "code",
   "execution_count": null,
   "id": "0aec3453-1181-47e5-87e8-1f1ca0bb6565",
   "metadata": {},
   "outputs": [],
   "source": []
  },
  {
   "cell_type": "code",
   "execution_count": null,
   "id": "7bc47997-3012-4bff-ae74-b36ccdd15b88",
   "metadata": {},
   "outputs": [],
   "source": []
  },
  {
   "cell_type": "markdown",
   "id": "3d127352-f6e9-4f70-8300-0c3427b06949",
   "metadata": {},
   "source": [
    "\n",
    "## Comparison of resampling methods and analytical approximations\n",
    "\n",
    "In this notebook we saw two different approaches for doing statistical analysis: resampling methods and analytical approximations. This is a general pattern in statistics where there is not only one correct answer: multiple approaches to data analysis are valid, and you need to think about the specifics of each situation. We'll learn about both approaches in the book.\n",
    "\n",
    "Analytical approximations are currently taught in most stats courses (STAT 101). Historically, analytical approximations have been used more widely because they require only simple arithmetic calculations: statistic practitioners (scientists, engineers, etc.) simply need to compute sample statistics, plug them into a formula, and obtain a $p$-value. This convenience comes at the cost of numerous assumptions about the data distribution, which often don't hold in practice (e.g. assuming population is normal, when it isn't).\n",
    "\n",
    "In recent years, resampling methods like the permutation test and bootstrap estimation are becoming more popular, widely used in industry, and increasingly also taught at universities (see this [blog post](https://minireference.com/blog/fixing-the-introductory-statistics-curriculum/) about the *modern statistics* curriculum). **The main advantage so resampling methods is that they require less modelling assumptions.** Procedures like the permutation test can be applied broadly to any scenario where two groups are being compared, and don't require developing specific formulas for different cases. Resampling methods are easier to understand since the they are directly related to the sampling distribution, and there are no formulas to memorize.\n",
    "\n",
    "Understanding resampling methods requires some basic familiarity with programming, but the skills required are not advanced: knowledge of variables, expressions, and basic `for` loop is sufficient. If you were able to follow the code examples described above (see `resample_under_H0`, `permutation_test`, and `bootstrap_stat`), then you've already **seen all the code you will need for the entire book!**  I've prepared a [python tutorial](https://nobsstats.com/tutorials/python_tutorial.html) to make readers with no prior experience with Python will be able to quickly pick up the syntax."
   ]
  },
  {
   "cell_type": "code",
   "execution_count": null,
   "id": "11f78dd9-7f75-40a6-afb7-87c980fc9fce",
   "metadata": {},
   "outputs": [],
   "source": []
  },
  {
   "cell_type": "code",
   "execution_count": null,
   "id": "47a4aec6-d407-4fec-924c-7d8032602a8d",
   "metadata": {},
   "outputs": [],
   "source": []
  },
  {
   "cell_type": "code",
   "execution_count": null,
   "id": "618493e2-19d3-4b5a-b1d5-e5a38446005e",
   "metadata": {},
   "outputs": [],
   "source": []
  },
  {
   "cell_type": "code",
   "execution_count": null,
   "id": "52cd545e-60a8-4536-bdb3-e919334041fb",
   "metadata": {},
   "outputs": [],
   "source": []
  },
  {
   "cell_type": "code",
   "execution_count": null,
   "id": "44f41cca-91a5-4c4b-a3cd-4188f1c3c876",
   "metadata": {},
   "outputs": [],
   "source": []
  },
  {
   "cell_type": "code",
   "execution_count": null,
   "id": "1d1c4422-ced9-4106-b1e5-bc6363ea344b",
   "metadata": {},
   "outputs": [],
   "source": []
  },
  {
   "cell_type": "code",
   "execution_count": null,
   "id": "1aac796d-c9bd-4ec0-8087-9ec2e6bdfc41",
   "metadata": {},
   "outputs": [],
   "source": []
  },
  {
   "cell_type": "code",
   "execution_count": null,
   "id": "0568f66c-cfc7-4d16-82ab-a0fc13f967a3",
   "metadata": {},
   "outputs": [],
   "source": []
  }
 ],
 "metadata": {
  "kernelspec": {
   "display_name": "Python 3 (ipykernel)",
   "language": "python",
   "name": "python3"
  },
  "language_info": {
   "codemirror_mode": {
    "name": "ipython",
    "version": 3
   },
   "file_extension": ".py",
   "mimetype": "text/x-python",
   "name": "python",
   "nbconvert_exporter": "python",
   "pygments_lexer": "ipython3",
   "version": "3.9.4"
  }
 },
 "nbformat": 4,
 "nbformat_minor": 5
}
