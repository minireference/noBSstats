{
 "cells": [
  {
   "cell_type": "markdown",
   "id": "b73f3d18-88c7-499d-90a3-dd6954247cf3",
   "metadata": {
    "tags": []
   },
   "source": [
    "# Section 3.5 — Statistical design and error analysis\n",
    "\n",
    "This notebook contains the code examples from [Section 3.5 Statistical design and error analysis]() of the **No Bullshit Guide to Statistics**."
   ]
  },
  {
   "cell_type": "markdown",
   "id": "efce8e91-8824-4103-a526-02e23c794668",
   "metadata": {
    "tags": []
   },
   "source": [
    "#### Notebook setup"
   ]
  },
  {
   "cell_type": "code",
   "execution_count": 1,
   "id": "990de07d-c26f-4a29-935a-2b1dacc89b34",
   "metadata": {},
   "outputs": [],
   "source": [
    "# load Python modules\n",
    "import os\n",
    "import numpy as np\n",
    "import pandas as pd\n",
    "import seaborn as sns\n",
    "import matplotlib.pyplot as plt"
   ]
  },
  {
   "cell_type": "code",
   "execution_count": 2,
   "id": "09c5c296-f060-4d6d-af26-42243271bb59",
   "metadata": {},
   "outputs": [],
   "source": [
    "# Plot helper functions\n",
    "from plot_helpers import plot_pdf\n",
    "from plot_helpers import savefigure"
   ]
  },
  {
   "cell_type": "code",
   "execution_count": 3,
   "id": "3209c5be-cb6a-42c0-8bf8-949a4fc0ff39",
   "metadata": {},
   "outputs": [
    {
     "data": {
      "text/plain": [
       "<Figure size 640x480 with 0 Axes>"
      ]
     },
     "metadata": {},
     "output_type": "display_data"
    }
   ],
   "source": [
    "# Figures setup\n",
    "plt.clf()  # needed otherwise `sns.set_theme` doesn't work\n",
    "from plot_helpers import RCPARAMS\n",
    "RCPARAMS.update({'figure.figsize': (10, 3)})   # good for screen\n",
    "# RCPARAMS.update({'figure.figsize': (5, 1.6)})  # good for print\n",
    "sns.set_theme(\n",
    "    context=\"paper\",\n",
    "    style=\"whitegrid\",\n",
    "    palette=\"colorblind\",\n",
    "    rc=RCPARAMS,\n",
    ")\n",
    "\n",
    "# Useful colors\n",
    "snspal = sns.color_palette()\n",
    "blue, orange, purple = snspal[0], snspal[1], snspal[4]\n",
    "\n",
    "# High-resolution please\n",
    "%config InlineBackend.figure_format = 'retina'\n",
    "\n",
    "# Where to store figures\n",
    "DESTDIR = \"figures/stats/design\""
   ]
  },
  {
   "cell_type": "code",
   "execution_count": 4,
   "id": "df22d8d7-6814-4c3b-a3d3-2f31ab6b2f3b",
   "metadata": {},
   "outputs": [],
   "source": [
    "# set random seed for repeatability\n",
    "np.random.seed(42)"
   ]
  },
  {
   "cell_type": "code",
   "execution_count": 5,
   "id": "0094bec0-5f8e-4491-895f-17088545a5c3",
   "metadata": {},
   "outputs": [],
   "source": [
    "#######################################################"
   ]
  },
  {
   "cell_type": "markdown",
   "id": "0006d8b9-27c7-4b84-833f-473c69701aa1",
   "metadata": {},
   "source": [
    "## Definitions"
   ]
  },
  {
   "cell_type": "code",
   "execution_count": null,
   "id": "17976ab8-6ecf-422f-8521-2b6446ad54fd",
   "metadata": {},
   "outputs": [],
   "source": []
  },
  {
   "cell_type": "markdown",
   "id": "60f5efec-6d61-4eec-834f-2c8b12030989",
   "metadata": {},
   "source": [
    "## Hypothesis testing as a decision rule"
   ]
  },
  {
   "cell_type": "code",
   "execution_count": null,
   "id": "ee650d35-27a6-4050-bfe8-56017e55cbd3",
   "metadata": {},
   "outputs": [],
   "source": []
  },
  {
   "cell_type": "code",
   "execution_count": null,
   "id": "6c5e912c-69a3-4cb5-b341-54f6b577f919",
   "metadata": {},
   "outputs": [],
   "source": []
  },
  {
   "cell_type": "markdown",
   "id": "c4a32cef-fed2-4672-a734-7d33e62ec492",
   "metadata": {},
   "source": [
    "## Statistical design"
   ]
  },
  {
   "cell_type": "code",
   "execution_count": null,
   "id": "7f4006c3-c039-4373-89b3-b3297fb8140c",
   "metadata": {},
   "outputs": [],
   "source": []
  },
  {
   "cell_type": "code",
   "execution_count": 6,
   "id": "8eaf6585-6c54-460d-99ea-c1b14f0ec281",
   "metadata": {},
   "outputs": [],
   "source": [
    "# FIGURE\n",
    "\n",
    "d_small = 0.20\n",
    "d_medium = 0.50\n",
    "d_large = 0.80\n",
    "\n"
   ]
  },
  {
   "cell_type": "code",
   "execution_count": null,
   "id": "bafa7109-63e2-40f4-bbf0-f673e61af997",
   "metadata": {},
   "outputs": [],
   "source": []
  },
  {
   "cell_type": "markdown",
   "id": "6b2b017e-1504-4efe-98d3-d6bb2ec5d014",
   "metadata": {},
   "source": [
    "## Example 1: detect kombuncha volume deviation from theory"
   ]
  },
  {
   "cell_type": "code",
   "execution_count": null,
   "id": "f4d1a4d9-2de2-4cf3-89a8-b9f13f5e4756",
   "metadata": {},
   "outputs": [],
   "source": []
  },
  {
   "cell_type": "code",
   "execution_count": 7,
   "id": "c99da393-5004-41d0-b4b8-0f6c71648310",
   "metadata": {},
   "outputs": [
    {
     "data": {
      "text/plain": [
       "51.009448579637365"
      ]
     },
     "execution_count": 7,
     "metadata": {},
     "output_type": "execute_result"
    }
   ],
   "source": [
    "from statsmodels.stats.power import tt_solve_power\n",
    "\n",
    "min_delta = 4\n",
    "std_pop = 10\n",
    "d = min_delta / std_pop\n",
    "\n",
    "n = tt_solve_power(effect_size=d, nobs=None, alpha=0.05, power=0.8, alternative='two-sided')\n",
    "n"
   ]
  },
  {
   "cell_type": "code",
   "execution_count": 8,
   "id": "08d71740-97d4-478f-ab25-2da6665e4b8c",
   "metadata": {},
   "outputs": [
    {
     "data": {
      "text/plain": [
       "51"
      ]
     },
     "execution_count": 8,
     "metadata": {},
     "output_type": "execute_result"
    }
   ],
   "source": [
    "n = int(n)\n",
    "n"
   ]
  },
  {
   "cell_type": "code",
   "execution_count": 9,
   "id": "b48c7e04-cbf8-409f-b0e0-3f801847dda0",
   "metadata": {},
   "outputs": [],
   "source": [
    "#######################################################\n",
    "kombuchapop = pd.read_csv(\"../datasets/kombuchapop.csv\")\n",
    "batch55pop = kombuchapop[kombuchapop[\"batch\"]==55]\n",
    "kpop55 = batch55pop[\"volume\"]"
   ]
  },
  {
   "cell_type": "code",
   "execution_count": 10,
   "id": "11604bc1-389f-4888-a6d3-f7ba6b1dadf5",
   "metadata": {},
   "outputs": [
    {
     "data": {
      "text/plain": [
       "array([ 986.93,  997.65,  999.11,  994.12, 1004.86, 1012.  ,  988.35,\n",
       "       1000.79, 1012.09,  988.39,  985.64,  994.23,  990.63, 1011.05,\n",
       "       1008.73, 1007.68,  987.89, 1002.74,  996.04,  986.46, 1005.77,\n",
       "       1024.76,  986.84,  986.43,  998.54, 1006.27,  995.14,  999.45,\n",
       "       1006.04, 1006.13, 1011.93, 1000.7 , 1012.77,  994.04,  996.23,\n",
       "        987.79,  977.65, 1006.07,  995.5 , 1012.98,  980.8 ,  976.5 ,\n",
       "        988.78,  989.33, 1012.49, 1004.41,  997.59, 1005.93, 1008.5 ,\n",
       "       1008.73,  988.63])"
      ]
     },
     "execution_count": 10,
     "metadata": {},
     "output_type": "execute_result"
    }
   ],
   "source": [
    "np.random.seed(42)\n",
    "ksample55 = kpop55.sample(n)\n",
    "ksample55.values"
   ]
  },
  {
   "cell_type": "code",
   "execution_count": 11,
   "id": "f797a295-94b7-4c9d-943a-1777646dd216",
   "metadata": {},
   "outputs": [
    {
     "data": {
      "text/plain": [
       "0.3211"
      ]
     },
     "execution_count": 11,
     "metadata": {},
     "output_type": "execute_result"
    }
   ],
   "source": [
    "from stats_helpers import simulation_test_mean\n",
    "\n",
    "simulation_test_mean(ksample55, mu0=1000, sigma0=10)"
   ]
  },
  {
   "cell_type": "code",
   "execution_count": 12,
   "id": "276dfd83-202f-47b1-bd6f-fc3cfc2f924c",
   "metadata": {},
   "outputs": [
    {
     "data": {
      "text/plain": [
       "0.3485870547277571"
      ]
     },
     "execution_count": 12,
     "metadata": {},
     "output_type": "execute_result"
    }
   ],
   "source": [
    "from stats_helpers import ttest_mean\n",
    "\n",
    "ttest_mean(ksample55, mu0=1000)"
   ]
  },
  {
   "cell_type": "markdown",
   "id": "d6ad0e2b-f46d-4184-81e1-0bda70d88d7f",
   "metadata": {},
   "source": [
    "## Example 2: comparison of East vs. West electricity prices "
   ]
  },
  {
   "cell_type": "code",
   "execution_count": 13,
   "id": "bb6e803a-50cb-41b7-a321-a4bcc95940db",
   "metadata": {},
   "outputs": [],
   "source": [
    "eprices = pd.read_csv(\"../datasets/eprices.csv\")"
   ]
  },
  {
   "cell_type": "code",
   "execution_count": 14,
   "id": "14c743a0-888a-4e9e-82cc-d7fe9cbc1d06",
   "metadata": {},
   "outputs": [
    {
     "data": {
      "text/html": [
       "<div>\n",
       "<style scoped>\n",
       "    .dataframe tbody tr th:only-of-type {\n",
       "        vertical-align: middle;\n",
       "    }\n",
       "\n",
       "    .dataframe tbody tr th {\n",
       "        vertical-align: top;\n",
       "    }\n",
       "\n",
       "    .dataframe thead tr th {\n",
       "        text-align: left;\n",
       "    }\n",
       "\n",
       "    .dataframe thead tr:last-of-type th {\n",
       "        text-align: right;\n",
       "    }\n",
       "</style>\n",
       "<table border=\"1\" class=\"dataframe\">\n",
       "  <thead>\n",
       "    <tr>\n",
       "      <th></th>\n",
       "      <th colspan=\"8\" halign=\"left\">price</th>\n",
       "    </tr>\n",
       "    <tr>\n",
       "      <th></th>\n",
       "      <th>count</th>\n",
       "      <th>mean</th>\n",
       "      <th>std</th>\n",
       "      <th>min</th>\n",
       "      <th>25%</th>\n",
       "      <th>50%</th>\n",
       "      <th>75%</th>\n",
       "      <th>max</th>\n",
       "    </tr>\n",
       "    <tr>\n",
       "      <th>end</th>\n",
       "      <th></th>\n",
       "      <th></th>\n",
       "      <th></th>\n",
       "      <th></th>\n",
       "      <th></th>\n",
       "      <th></th>\n",
       "      <th></th>\n",
       "      <th></th>\n",
       "    </tr>\n",
       "  </thead>\n",
       "  <tbody>\n",
       "    <tr>\n",
       "      <th>East</th>\n",
       "      <td>9.0</td>\n",
       "      <td>6.155556</td>\n",
       "      <td>0.877655</td>\n",
       "      <td>4.8</td>\n",
       "      <td>5.5</td>\n",
       "      <td>6.3</td>\n",
       "      <td>6.5</td>\n",
       "      <td>7.7</td>\n",
       "    </tr>\n",
       "    <tr>\n",
       "      <th>West</th>\n",
       "      <td>9.0</td>\n",
       "      <td>9.155556</td>\n",
       "      <td>1.562139</td>\n",
       "      <td>6.8</td>\n",
       "      <td>8.3</td>\n",
       "      <td>8.6</td>\n",
       "      <td>10.0</td>\n",
       "      <td>11.8</td>\n",
       "    </tr>\n",
       "  </tbody>\n",
       "</table>\n",
       "</div>"
      ],
      "text/plain": [
       "     price                                               \n",
       "     count      mean       std  min  25%  50%   75%   max\n",
       "end                                                      \n",
       "East   9.0  6.155556  0.877655  4.8  5.5  6.3   6.5   7.7\n",
       "West   9.0  9.155556  1.562139  6.8  8.3  8.6  10.0  11.8"
      ]
     },
     "execution_count": 14,
     "metadata": {},
     "output_type": "execute_result"
    }
   ],
   "source": [
    "eprices.groupby(\"end\").describe()"
   ]
  },
  {
   "cell_type": "code",
   "execution_count": 15,
   "id": "8273179d-2986-49c1-85c6-8ab550732448",
   "metadata": {},
   "outputs": [
    {
     "data": {
      "text/plain": [
       "0.5133625312934842"
      ]
     },
     "execution_count": 15,
     "metadata": {},
     "output_type": "execute_result"
    }
   ],
   "source": [
    "from statsmodels.stats.power import TTestIndPower\n",
    "from statsmodels.stats.power import ttest_power\n",
    "\n",
    "Delta_min = 1\n",
    "std_guess = 1\n",
    "\n",
    "d = Delta_min / std_guess \n",
    "\n",
    "# Calculate the power of a t-test for two independent samples\n",
    "TTestIndPower().power(effect_size=d, nobs1=9, alpha=0.05, ratio=1, alternative='two-sided')"
   ]
  },
  {
   "cell_type": "code",
   "execution_count": 16,
   "id": "2ca86833-e203-4d77-8571-104b6c7999b6",
   "metadata": {},
   "outputs": [
    {
     "name": "stdout",
     "output_type": "stream",
     "text": [
      "Help on method power in module statsmodels.stats.power:\n",
      "\n",
      "power(effect_size, nobs1, alpha, ratio=1, df=None, alternative='two-sided') method of statsmodels.stats.power.TTestIndPower instance\n",
      "    Calculate the power of a t-test for two independent sample\n",
      "    \n",
      "    Parameters\n",
      "    ----------\n",
      "    effect_size : float\n",
      "        standardized effect size, difference between the two means divided\n",
      "        by the standard deviation. `effect_size` has to be positive.\n",
      "    nobs1 : int or float\n",
      "        number of observations of sample 1. The number of observations of\n",
      "        sample two is ratio times the size of sample 1,\n",
      "        i.e. ``nobs2 = nobs1 * ratio``\n",
      "    alpha : float in interval (0,1)\n",
      "        significance level, e.g. 0.05, is the probability of a type I\n",
      "        error, that is wrong rejections if the Null Hypothesis is true.\n",
      "    ratio : float\n",
      "        ratio of the number of observations in sample 2 relative to\n",
      "        sample 1. see description of nobs1\n",
      "        The default for ratio is 1; to solve for ratio given the other\n",
      "        arguments, it has to be explicitly set to None.\n",
      "    df : int or float\n",
      "        degrees of freedom. By default this is None, and the df from the\n",
      "        ttest with pooled variance is used, ``df = (nobs1 - 1 + nobs2 - 1)``\n",
      "    alternative : str, 'two-sided' (default), 'larger', 'smaller'\n",
      "        extra argument to choose whether the power is calculated for a\n",
      "        two-sided (default) or one sided test. The one-sided test can be\n",
      "        either 'larger', 'smaller'.\n",
      "    \n",
      "    Returns\n",
      "    -------\n",
      "    power : float\n",
      "        Power of the test, e.g. 0.8, is one minus the probability of a\n",
      "        type II error. Power is the probability that the test correctly\n",
      "        rejects the Null Hypothesis if the Alternative Hypothesis is true.\n",
      "\n"
     ]
    }
   ],
   "source": [
    "help(TTestIndPower().power)"
   ]
  },
  {
   "cell_type": "code",
   "execution_count": null,
   "id": "a00c4570-abde-4d62-b575-390c66484185",
   "metadata": {},
   "outputs": [],
   "source": []
  },
  {
   "cell_type": "code",
   "execution_count": null,
   "id": "78113317-ab66-4344-a0a9-c79cca99d4e2",
   "metadata": {},
   "outputs": [],
   "source": []
  },
  {
   "cell_type": "markdown",
   "id": "39d31627-bec0-4cc1-bbc7-28dccac4b7cb",
   "metadata": {},
   "source": [
    "## Explanations"
   ]
  },
  {
   "cell_type": "markdown",
   "id": "5ef4838f-7a57-41b6-bc18-0dc079b4098c",
   "metadata": {},
   "source": [
    "### Probability models for NHST\n",
    "\n",
    "### Unique value proposition of NHST"
   ]
  },
  {
   "cell_type": "code",
   "execution_count": null,
   "id": "68919297-d45f-403e-bc58-7d58a564c0f8",
   "metadata": {},
   "outputs": [],
   "source": []
  },
  {
   "cell_type": "markdown",
   "id": "c929dc44-f28a-4341-bd8d-01061f1de316",
   "metadata": {},
   "source": [
    "### One-sided and two-sided rejection regions"
   ]
  },
  {
   "cell_type": "code",
   "execution_count": 17,
   "id": "78b3263a-93b4-4ea3-be9a-90f64f77c6af",
   "metadata": {},
   "outputs": [
    {
     "name": "stdout",
     "output_type": "stream",
     "text": [
      "Saved figure to figures/stats/design/panel_rejection_regions_left_twotailed_right.pdf\n",
      "Saved figure to figures/stats/design/panel_rejection_regions_left_twotailed_right.png\n"
     ]
    },
    {
     "data": {
      "image/png": "[encoded data removed]",
      "text/plain": [
       "<Figure size 700x200 with 3 Axes>"
      ]
     },
     "metadata": {
      "image/png": {
       "height": 187,
       "width": 691
      }
     },
     "output_type": "display_data"
    }
   ],
   "source": [
    "filename = os.path.join(DESTDIR, \"panel_rejection_regions_left_twotailed_right.pdf\")\n",
    "    \n",
    "from scipy.stats import t as tdist\n",
    "rvT = tdist(9)\n",
    "\n",
    "xs = np.linspace(-4, 4, 1000)\n",
    "ys = rvT.pdf(xs)\n",
    "\n",
    "with plt.rc_context({\"figure.figsize\":(7,2)}), sns.axes_style(\"ticks\"):\n",
    "    fig, (ax3, ax1, ax2) = plt.subplots(1,3)\n",
    "\n",
    "    # RIGHT\n",
    "    title = '(a) right-tailed region'\n",
    "    ax3.set_title(title, fontsize=13)#, y=-0.26)\n",
    "    sns.lineplot(x=xs, y=ys, ax=ax3)\n",
    "    ax3.set_xlim(-4, 4)\n",
    "    ax3.set_ylim(0, 0.42)\n",
    "    ax3.set_xticks([2])\n",
    "    ax3.set_xticklabels([])\n",
    "    ax3.set_yticks([])\n",
    "\n",
    "    # highlight the right tail\n",
    "    mask = (xs > 2)\n",
    "    ax3.fill_between(xs[mask], y1=ys[mask], alpha=0.6, facecolor=\"red\")\n",
    "    ax3.text(2, -0.03, r\"$\\mathrm{CV}_{\\alpha}$\", verticalalignment=\"top\", horizontalalignment=\"center\")\n",
    "\n",
    "\n",
    "    # LEFT\n",
    "    title = '(b) left-tailed region'\n",
    "    ax1.set_title(title, fontsize=13) #, y=-0.26)\n",
    "    sns.lineplot(x=xs, y=ys, ax=ax1)\n",
    "    ax1.set_xlim(-4, 4)\n",
    "    ax1.set_ylim(0, 0.42)\n",
    "    ax1.set_xticks([-2])\n",
    "    ax1.set_xticklabels([])\n",
    "    ax1.set_yticks([])\n",
    "\n",
    "    # highlight the left tail\n",
    "    mask = (xs < -2)\n",
    "    ax1.fill_between(xs[mask], y1=ys[mask], alpha=0.6, facecolor=\"red\")\n",
    "    ax1.text(-2, -0.03, r\"$-\\mathrm{CV}_{\\alpha}$\", verticalalignment=\"top\", horizontalalignment=\"center\")\n",
    "\n",
    "\n",
    "    # TWO-TAILED\n",
    "    title = '(c) two-tailed region'\n",
    "    ax2.set_title(title, fontsize=13)#, y=-0.26)\n",
    "    sns.lineplot(x=xs, y=ys, ax=ax2)\n",
    "    ax2.set_xlim(-4, 4)\n",
    "    ax2.set_ylim(0, 0.42)\n",
    "    ax2.set_xticks([-2,2])\n",
    "    ax2.set_xticklabels([])\n",
    "    ax2.set_yticks([])\n",
    "\n",
    "    # highlight the left and right tails\n",
    "    mask = (xs < -2)\n",
    "    ax2.fill_between(xs[mask], y1=ys[mask], alpha=0.6, facecolor=\"red\")\n",
    "    ax2.text(-2, -0.03, r\"$-\\mathrm{CV}_{\\alpha}$\", verticalalignment=\"top\", horizontalalignment=\"center\")\n",
    "    mask = (xs > 2)\n",
    "    ax2.fill_between(xs[mask], y1=ys[mask], alpha=0.6, facecolor=\"red\")\n",
    "    ax2.text(2, -0.03, r\"$\\mathrm{CV}_{\\alpha}$\", verticalalignment=\"top\", horizontalalignment=\"center\")\n",
    "\n",
    "\n",
    "savefigure(fig, filename)"
   ]
  },
  {
   "cell_type": "code",
   "execution_count": null,
   "id": "6a119435-da6f-4e19-94e2-08a976c9f968",
   "metadata": {},
   "outputs": [],
   "source": []
  },
  {
   "cell_type": "markdown",
   "id": "5c98699f-c891-4f7a-bd1c-316c37c28839",
   "metadata": {},
   "source": [
    "### Statistical design calculations"
   ]
  },
  {
   "cell_type": "markdown",
   "id": "3cc4d98c-becb-465d-8a66-63deda59f178",
   "metadata": {},
   "source": [
    "#### Sample size calculation"
   ]
  },
  {
   "cell_type": "code",
   "execution_count": 18,
   "id": "3674453a-56e5-4a44-9537-bcb2f76bf2bd",
   "metadata": {},
   "outputs": [
    {
     "name": "stdout",
     "output_type": "stream",
     "text": [
      "Required sample size (statsmodels): 64\n"
     ]
    }
   ],
   "source": [
    "import pingouin as pg\n",
    "from statsmodels.stats import power\n",
    "\n",
    "# deisng parameters  \n",
    "EFFECT_SIZE = 0.5\n",
    "ALPHA = 0.05 \n",
    "POWER = 0.8\n",
    "\n",
    "# using statsmodels\n",
    "power_analysis = power.TTestIndPower()\n",
    "sample_size = power_analysis.solve_power(effect_size=EFFECT_SIZE, \n",
    "                                         power=POWER, \n",
    "                                         alpha=ALPHA)\n",
    "\n",
    "print(f'Required sample size (statsmodels): {sample_size:.0f}')"
   ]
  },
  {
   "cell_type": "code",
   "execution_count": 19,
   "id": "23011920-190e-44c5-9b09-933049fce883",
   "metadata": {},
   "outputs": [
    {
     "name": "stdout",
     "output_type": "stream",
     "text": [
      "Required sample size (pingouin): 64\n"
     ]
    }
   ],
   "source": [
    "# using pingouin\n",
    "sample_size = pg.power_ttest(d=EFFECT_SIZE, \n",
    "                             alpha=ALPHA, \n",
    "                             power=POWER, \n",
    "                             n=None)\n",
    "\n",
    "print(f'Required sample size (pingouin): {sample_size:.0f}')"
   ]
  },
  {
   "cell_type": "code",
   "execution_count": 20,
   "id": "abb34683-d0f7-4502-a4c1-d868641f0158",
   "metadata": {},
   "outputs": [
    {
     "name": "stdout",
     "output_type": "stream",
     "text": [
      "Number in *each* group: 16.71472\n"
     ]
    }
   ],
   "source": [
    "from statsmodels.stats.power import tt_ind_solve_power\n",
    "\n",
    "mean_diff, sd_diff = 0.5, 0.5\n",
    "std_effect_size = mean_diff / sd_diff\n",
    "\n",
    "n = tt_ind_solve_power(effect_size=std_effect_size, alpha=0.05, power=0.8, ratio=1, alternative='two-sided')\n",
    "print('Number in *each* group: {:.5f}'.format(n))"
   ]
  },
  {
   "cell_type": "code",
   "execution_count": 21,
   "id": "295d8831-ded6-4e19-9e29-e9a25bb98608",
   "metadata": {},
   "outputs": [
    {
     "data": {
      "text/plain": [
       "51.009448579637365"
      ]
     },
     "execution_count": 21,
     "metadata": {},
     "output_type": "execute_result"
    }
   ],
   "source": [
    "from statsmodels.stats.power import tt_solve_power\n",
    "\n",
    "min_delta = 4\n",
    "std_pop = 10\n",
    "d = min_delta / std_pop\n",
    "\n",
    "tt_solve_power(effect_size=d, nobs=None, alpha=0.05, power=0.8, alternative='two-sided')"
   ]
  },
  {
   "cell_type": "markdown",
   "id": "cb198d4b-fce8-48f3-9868-ce11931f93b8",
   "metadata": {},
   "source": [
    "#### Understanding the design formula"
   ]
  },
  {
   "cell_type": "code",
   "execution_count": null,
   "id": "aa2f22ab-ca10-4a2a-807f-374d11643981",
   "metadata": {},
   "outputs": [],
   "source": []
  },
  {
   "cell_type": "code",
   "execution_count": null,
   "id": "08d9a9a5-81b0-4822-8ac1-afa345449f6c",
   "metadata": {},
   "outputs": [],
   "source": []
  },
  {
   "cell_type": "code",
   "execution_count": null,
   "id": "13846dee-2b78-4028-acbe-261489780081",
   "metadata": {},
   "outputs": [],
   "source": []
  },
  {
   "cell_type": "markdown",
   "id": "78c4434b-5ba6-451d-be1d-474f6f356e17",
   "metadata": {},
   "source": [
    "## Discussion"
   ]
  },
  {
   "cell_type": "markdown",
   "id": "0b5e1f47-a5b2-4638-aa3a-3f9e51e9acca",
   "metadata": {},
   "source": [
    "### Different types of power\n",
    "\n",
    "### Different types of effect size size\n",
    "\n",
    "### Limitations of NHST\n",
    "\n",
    "### Perils of the NHST procedure\n"
   ]
  },
  {
   "cell_type": "code",
   "execution_count": null,
   "id": "4022353c-2a2e-4cbd-8e07-25ef1f7ad4ae",
   "metadata": {},
   "outputs": [],
   "source": []
  },
  {
   "cell_type": "code",
   "execution_count": null,
   "id": "bc5592c9-4393-413a-a9ff-9931b1786e84",
   "metadata": {},
   "outputs": [],
   "source": []
  },
  {
   "cell_type": "markdown",
   "id": "48e951d7-28e7-47a2-ad6c-dccf9d267b3f",
   "metadata": {},
   "source": [
    "## Exercises"
   ]
  },
  {
   "cell_type": "markdown",
   "id": "ea6b1102-5175-4f59-b4b3-2870270c05eb",
   "metadata": {},
   "source": [
    "## Links"
   ]
  },
  {
   "cell_type": "code",
   "execution_count": null,
   "id": "53a74347-a1ee-4bf0-9e08-67441a0a4017",
   "metadata": {},
   "outputs": [],
   "source": []
  }
 ],
 "metadata": {
  "kernelspec": {
   "display_name": "Python 3 (ipykernel)",
   "language": "python",
   "name": "python3"
  },
  "language_info": {
   "codemirror_mode": {
    "name": "ipython",
    "version": 3
   },
   "file_extension": ".py",
   "mimetype": "text/x-python",
   "name": "python",
   "nbconvert_exporter": "python",
   "pygments_lexer": "ipython3",
   "version": "3.9.4"
  }
 },
 "nbformat": 4,
 "nbformat_minor": 5
}
