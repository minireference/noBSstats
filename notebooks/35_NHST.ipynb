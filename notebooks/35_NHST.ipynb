{
 "cells": [
  {
   "cell_type": "markdown",
   "id": "b73f3d18-88c7-499d-90a3-dd6954247cf3",
   "metadata": {
    "tags": []
   },
   "source": [
    "# Section 3.5 — Null hypothesis significance testing\n",
    "\n",
    "This notebook contains the code examples from [Section 3.5 Null hypothesis significance testing]() of the **No Bullshit Guide to Statistics**."
   ]
  },
  {
   "cell_type": "markdown",
   "id": "efce8e91-8824-4103-a526-02e23c794668",
   "metadata": {
    "jp-MarkdownHeadingCollapsed": true,
    "tags": []
   },
   "source": [
    "#### Notebook setup"
   ]
  },
  {
   "cell_type": "code",
   "execution_count": 1,
   "id": "990de07d-c26f-4a29-935a-2b1dacc89b34",
   "metadata": {},
   "outputs": [],
   "source": [
    "# load Python modules\n",
    "import os\n",
    "import numpy as np\n",
    "import pandas as pd\n",
    "import seaborn as sns\n",
    "import matplotlib.pyplot as plt"
   ]
  },
  {
   "cell_type": "code",
   "execution_count": 2,
   "id": "09c5c296-f060-4d6d-af26-42243271bb59",
   "metadata": {},
   "outputs": [],
   "source": [
    "# Plot helper functions\n",
    "from plot_helpers import plot_pdf\n",
    "from plot_helpers import savefigure"
   ]
  },
  {
   "cell_type": "code",
   "execution_count": 3,
   "id": "3209c5be-cb6a-42c0-8bf8-949a4fc0ff39",
   "metadata": {},
   "outputs": [
    {
     "data": {
      "text/plain": [
       "<Figure size 640x480 with 0 Axes>"
      ]
     },
     "metadata": {},
     "output_type": "display_data"
    }
   ],
   "source": [
    "# Figures setup\n",
    "plt.clf()  # needed otherwise `sns.set_theme` doesn't work\n",
    "from plot_helpers import RCPARAMS\n",
    "RCPARAMS.update({'figure.figsize': (10, 3)})   # good for screen\n",
    "# RCPARAMS.update({'figure.figsize': (5, 1.6)})  # good for print\n",
    "sns.set_theme(\n",
    "    context=\"paper\",\n",
    "    style=\"whitegrid\",\n",
    "    palette=\"colorblind\",\n",
    "    rc=RCPARAMS,\n",
    ")\n",
    "\n",
    "# Useful colors\n",
    "snspal = sns.color_palette()\n",
    "blue, orange, purple = snspal[0], snspal[1], snspal[4]\n",
    "\n",
    "# High-resolution please\n",
    "%config InlineBackend.figure_format = 'retina'\n",
    "\n",
    "# Where to store figures\n",
    "DESTDIR = \"figures/stats/NHST\""
   ]
  },
  {
   "cell_type": "code",
   "execution_count": 4,
   "id": "df22d8d7-6814-4c3b-a3d3-2f31ab6b2f3b",
   "metadata": {},
   "outputs": [],
   "source": [
    "# set random seed for repeatability\n",
    "np.random.seed(42)"
   ]
  },
  {
   "cell_type": "code",
   "execution_count": 5,
   "id": "0094bec0-5f8e-4491-895f-17088545a5c3",
   "metadata": {},
   "outputs": [],
   "source": [
    "#######################################################"
   ]
  },
  {
   "cell_type": "markdown",
   "id": "0006d8b9-27c7-4b84-833f-473c69701aa1",
   "metadata": {},
   "source": [
    "## Definitions"
   ]
  },
  {
   "cell_type": "code",
   "execution_count": null,
   "id": "17976ab8-6ecf-422f-8521-2b6446ad54fd",
   "metadata": {},
   "outputs": [],
   "source": []
  },
  {
   "cell_type": "markdown",
   "id": "60f5efec-6d61-4eec-834f-2c8b12030989",
   "metadata": {},
   "source": [
    "## Hypothesis testing as a decision rule"
   ]
  },
  {
   "cell_type": "code",
   "execution_count": null,
   "id": "ee650d35-27a6-4050-bfe8-56017e55cbd3",
   "metadata": {},
   "outputs": [],
   "source": []
  },
  {
   "cell_type": "markdown",
   "id": "c4a32cef-fed2-4672-a734-7d33e62ec492",
   "metadata": {},
   "source": [
    "## NHST procedure"
   ]
  },
  {
   "cell_type": "code",
   "execution_count": null,
   "id": "bafa7109-63e2-40f4-bbf0-f673e61af997",
   "metadata": {},
   "outputs": [],
   "source": []
  },
  {
   "cell_type": "markdown",
   "id": "6b2b017e-1504-4efe-98d3-d6bb2ec5d014",
   "metadata": {},
   "source": [
    "## Example 1: detect kombuncha volume deviation from theory"
   ]
  },
  {
   "cell_type": "code",
   "execution_count": null,
   "id": "f4d1a4d9-2de2-4cf3-89a8-b9f13f5e4756",
   "metadata": {},
   "outputs": [],
   "source": []
  },
  {
   "cell_type": "code",
   "execution_count": null,
   "id": "4d6b9846-911e-4232-bffc-bc7863d1a273",
   "metadata": {},
   "outputs": [],
   "source": []
  },
  {
   "cell_type": "code",
   "execution_count": null,
   "id": "f797a295-94b7-4c9d-943a-1777646dd216",
   "metadata": {},
   "outputs": [],
   "source": []
  },
  {
   "cell_type": "markdown",
   "id": "d6ad0e2b-f46d-4184-81e1-0bda70d88d7f",
   "metadata": {},
   "source": [
    "## Example 3: comparison of East vs. West electricity prices "
   ]
  },
  {
   "cell_type": "code",
   "execution_count": null,
   "id": "bb6e803a-50cb-41b7-a321-a4bcc95940db",
   "metadata": {},
   "outputs": [],
   "source": []
  },
  {
   "cell_type": "code",
   "execution_count": null,
   "id": "14c743a0-888a-4e9e-82cc-d7fe9cbc1d06",
   "metadata": {},
   "outputs": [],
   "source": []
  },
  {
   "cell_type": "code",
   "execution_count": null,
   "id": "8273179d-2986-49c1-85c6-8ab550732448",
   "metadata": {},
   "outputs": [],
   "source": []
  },
  {
   "cell_type": "code",
   "execution_count": null,
   "id": "2ca86833-e203-4d77-8571-104b6c7999b6",
   "metadata": {},
   "outputs": [],
   "source": []
  },
  {
   "cell_type": "markdown",
   "id": "39d31627-bec0-4cc1-bbc7-28dccac4b7cb",
   "metadata": {},
   "source": [
    "## Explanations"
   ]
  },
  {
   "cell_type": "markdown",
   "id": "5ef4838f-7a57-41b6-bc18-0dc079b4098c",
   "metadata": {},
   "source": [
    "### Probability models for NHST\n",
    "\n",
    "### Unique value proposition of NHST"
   ]
  },
  {
   "cell_type": "code",
   "execution_count": null,
   "id": "68919297-d45f-403e-bc58-7d58a564c0f8",
   "metadata": {},
   "outputs": [],
   "source": []
  },
  {
   "cell_type": "markdown",
   "id": "c929dc44-f28a-4341-bd8d-01061f1de316",
   "metadata": {},
   "source": [
    "### One-sided and two-sided rejection regions"
   ]
  },
  {
   "cell_type": "code",
   "execution_count": 6,
   "id": "78b3263a-93b4-4ea3-be9a-90f64f77c6af",
   "metadata": {},
   "outputs": [
    {
     "name": "stdout",
     "output_type": "stream",
     "text": [
      "Saved figure to figures/stats/NHST/panel_rejection_regions_left_twotailed_right.pdf\n",
      "Saved figure to figures/stats/NHST/panel_rejection_regions_left_twotailed_right.png\n"
     ]
    },
    {
     "data": {
      "image/png": "[encoded data removed]",
      "text/plain": [
       "<Figure size 700x200 with 3 Axes>"
      ]
     },
     "metadata": {
      "image/png": {
       "height": 187,
       "width": 691
      }
     },
     "output_type": "display_data"
    }
   ],
   "source": [
    "filename = os.path.join(DESTDIR, \"panel_rejection_regions_left_twotailed_right.pdf\")\n",
    "    \n",
    "from scipy.stats import t as tdist\n",
    "rvT = tdist(9)\n",
    "\n",
    "xs = np.linspace(-4, 4, 1000)\n",
    "ys = rvT.pdf(xs)\n",
    "\n",
    "with plt.rc_context({\"figure.figsize\":(7,2)}), sns.axes_style(\"ticks\"):\n",
    "    fig, (ax1, ax2, ax3) = plt.subplots(1,3)\n",
    "\n",
    "\n",
    "    # LEFT\n",
    "    title = '(a) left-tailed region'\n",
    "    ax1.set_title(title, fontsize=13) #, y=-0.26)\n",
    "    sns.lineplot(x=xs, y=ys, ax=ax1)\n",
    "    ax1.set_xlim(-4, 4)\n",
    "    ax1.set_ylim(0, 0.42)\n",
    "    ax1.set_xticks([-2])\n",
    "    ax1.set_xticklabels([])\n",
    "    ax1.set_yticks([])\n",
    "\n",
    "    # highlight the left tail\n",
    "    mask = (xs < -2)\n",
    "    ax1.fill_between(xs[mask], y1=ys[mask], alpha=0.6, facecolor=\"red\")\n",
    "    ax1.text(-2, -0.03, r\"$-\\mathrm{CV}_{\\alpha}$\", verticalalignment=\"top\", horizontalalignment=\"center\")\n",
    "\n",
    "\n",
    "\n",
    "    # TWO-TAILED\n",
    "    title = '(b) two-tailed region'\n",
    "    ax2.set_title(title, fontsize=13)#, y=-0.26)\n",
    "    sns.lineplot(x=xs, y=ys, ax=ax2)\n",
    "    ax2.set_xlim(-4, 4)\n",
    "    ax2.set_ylim(0, 0.42)\n",
    "    ax2.set_xticks([-2,2])\n",
    "    ax2.set_xticklabels([])\n",
    "    ax2.set_yticks([])\n",
    "\n",
    "    # highlight the left and right tails\n",
    "    mask = (xs < -2)\n",
    "    ax2.fill_between(xs[mask], y1=ys[mask], alpha=0.6, facecolor=\"red\")\n",
    "    ax2.text(-2, -0.03, r\"$-\\mathrm{CV}_{\\alpha}$\", verticalalignment=\"top\", horizontalalignment=\"center\")\n",
    "    mask = (xs > 2)\n",
    "    ax2.fill_between(xs[mask], y1=ys[mask], alpha=0.6, facecolor=\"red\")\n",
    "    ax2.text(2, -0.03, r\"$\\mathrm{CV}_{\\alpha}$\", verticalalignment=\"top\", horizontalalignment=\"center\")\n",
    "\n",
    "\n",
    "    # RIGHT\n",
    "    title = '(c) right-tailed region'\n",
    "    ax3.set_title(title, fontsize=13)#, y=-0.26)\n",
    "    sns.lineplot(x=xs, y=ys, ax=ax3)\n",
    "    ax3.set_xlim(-4, 4)\n",
    "    ax3.set_ylim(0, 0.42)\n",
    "    ax3.set_xticks([2])\n",
    "    ax3.set_xticklabels([])\n",
    "    ax3.set_yticks([])\n",
    "\n",
    "    # highlight the right tail\n",
    "    mask = (xs > 2)\n",
    "    ax3.fill_between(xs[mask], y1=ys[mask], alpha=0.6, facecolor=\"red\")\n",
    "    ax3.text(2, -0.03, r\"$\\mathrm{CV}_{\\alpha}$\", verticalalignment=\"top\", horizontalalignment=\"center\")\n",
    "\n",
    "savefigure(fig, filename)"
   ]
  },
  {
   "cell_type": "code",
   "execution_count": null,
   "id": "6a119435-da6f-4e19-94e2-08a976c9f968",
   "metadata": {},
   "outputs": [],
   "source": []
  },
  {
   "cell_type": "markdown",
   "id": "5c98699f-c891-4f7a-bd1c-316c37c28839",
   "metadata": {},
   "source": [
    "### Statistical design calculations"
   ]
  },
  {
   "cell_type": "markdown",
   "id": "3cc4d98c-becb-465d-8a66-63deda59f178",
   "metadata": {},
   "source": [
    "#### Sample size calculation"
   ]
  },
  {
   "cell_type": "code",
   "execution_count": 7,
   "id": "7ece875f-9a2e-4382-bc8b-dfe72353f9cb",
   "metadata": {},
   "outputs": [
    {
     "name": "stdout",
     "output_type": "stream",
     "text": [
      "Required sample size (statsmodels): 64\n",
      "Required sample size (pingouin): 64\n"
     ]
    },
    {
     "name": "stderr",
     "output_type": "stream",
     "text": [
      "/Users/ivan/Projects/Minireference/STATSbook/noBSstatsnotebooks/venv/lib/python3.9/site-packages/scipy/stats/_continuous_distns.py:6832: RuntimeWarning: invalid value encountered in _nct_sf\n",
      "  return np.clip(_boost._nct_sf(x, df, nc), 0, 1)\n",
      "/Users/ivan/Projects/Minireference/STATSbook/noBSstatsnotebooks/venv/lib/python3.9/site-packages/scipy/stats/_continuous_distns.py:6826: RuntimeWarning: invalid value encountered in _nct_cdf\n",
      "  return np.clip(_boost._nct_cdf(x, df, nc), 0, 1)\n"
     ]
    }
   ],
   "source": [
    "import pingouin as pg\n",
    "from statsmodels.stats import power\n",
    "\n",
    "# deisng parameters  \n",
    "EFFECT_SIZE = 0.5\n",
    "ALPHA = 0.05 \n",
    "POWER = 0.8\n",
    "\n",
    "# using statsmodels\n",
    "power_analysis = power.TTestIndPower()\n",
    "sample_size = power_analysis.solve_power(effect_size=EFFECT_SIZE, \n",
    "                                         power=POWER, \n",
    "                                         alpha=ALPHA)\n",
    "\n",
    "print(f'Required sample size (statsmodels): {sample_size:.0f}')\n",
    "\n",
    "# using pingouin\n",
    "sample_size = pg.power_ttest(d=EFFECT_SIZE, \n",
    "                             alpha=ALPHA, \n",
    "                             power=POWER, \n",
    "                             n=None)\n",
    "\n",
    "print(f'Required sample size (pingouin): {sample_size:.0f}')"
   ]
  },
  {
   "cell_type": "markdown",
   "id": "cb198d4b-fce8-48f3-9868-ce11931f93b8",
   "metadata": {},
   "source": [
    "#### Understanding the design formula"
   ]
  },
  {
   "cell_type": "code",
   "execution_count": 9,
   "id": "aa2f22ab-ca10-4a2a-807f-374d11643981",
   "metadata": {},
   "outputs": [
    {
     "data": {
      "text/plain": [
       "'0.13.5'"
      ]
     },
     "execution_count": 9,
     "metadata": {},
     "output_type": "execute_result"
    }
   ],
   "source": [
    "import statsmodels\n",
    "statsmodels.__version__"
   ]
  },
  {
   "cell_type": "code",
   "execution_count": null,
   "id": "08d9a9a5-81b0-4822-8ac1-afa345449f6c",
   "metadata": {},
   "outputs": [],
   "source": []
  },
  {
   "cell_type": "code",
   "execution_count": null,
   "id": "13846dee-2b78-4028-acbe-261489780081",
   "metadata": {},
   "outputs": [],
   "source": []
  },
  {
   "cell_type": "markdown",
   "id": "78c4434b-5ba6-451d-be1d-474f6f356e17",
   "metadata": {},
   "source": [
    "## Discussion"
   ]
  },
  {
   "cell_type": "markdown",
   "id": "0b5e1f47-a5b2-4638-aa3a-3f9e51e9acca",
   "metadata": {},
   "source": [
    "### Different types of power\n",
    "\n",
    "### Different types of effect size size\n",
    "\n",
    "### Limitations of NHST\n",
    "\n",
    "### Perils of the NHST procedure\n"
   ]
  },
  {
   "cell_type": "code",
   "execution_count": null,
   "id": "4022353c-2a2e-4cbd-8e07-25ef1f7ad4ae",
   "metadata": {},
   "outputs": [],
   "source": []
  },
  {
   "cell_type": "code",
   "execution_count": null,
   "id": "bc5592c9-4393-413a-a9ff-9931b1786e84",
   "metadata": {},
   "outputs": [],
   "source": []
  },
  {
   "cell_type": "markdown",
   "id": "48e951d7-28e7-47a2-ad6c-dccf9d267b3f",
   "metadata": {},
   "source": [
    "## Exercises"
   ]
  },
  {
   "cell_type": "markdown",
   "id": "ea6b1102-5175-4f59-b4b3-2870270c05eb",
   "metadata": {},
   "source": [
    "## Links"
   ]
  },
  {
   "cell_type": "code",
   "execution_count": null,
   "id": "53a74347-a1ee-4bf0-9e08-67441a0a4017",
   "metadata": {},
   "outputs": [],
   "source": []
  }
 ],
 "metadata": {
  "kernelspec": {
   "display_name": "Python 3 (ipykernel)",
   "language": "python",
   "name": "python3"
  },
  "language_info": {
   "codemirror_mode": {
    "name": "ipython",
    "version": 3
   },
   "file_extension": ".py",
   "mimetype": "text/x-python",
   "name": "python",
   "nbconvert_exporter": "python",
   "pygments_lexer": "ipython3",
   "version": "3.9.4"
  }
 },
 "nbformat": 4,
 "nbformat_minor": 5
}
