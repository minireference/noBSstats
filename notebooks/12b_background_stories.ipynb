{
 "cells": [
  {
   "cell_type": "markdown",
   "id": "8ffa99ef-8509-4d6d-bff1-b40f7bb4572f",
   "metadata": {},
   "source": [
    "# Background stories for the example datasets\n",
    "\n",
    "Links\n",
    "\n",
    "- https://riptutorial.com/pandas/example/15180/read-nginx-access-log--multiple-quotechars-\n",
    "- [ParseNginxAccessLogs.ipynb](./explorations/ParseNginxAccessLogs.ipynb)"
   ]
  },
  {
   "cell_type": "code",
   "execution_count": 2,
   "id": "600d1294-f406-4930-a613-f23ef10182db",
   "metadata": {},
   "outputs": [],
   "source": [
    "import pandas as pd"
   ]
  },
  {
   "cell_type": "code",
   "execution_count": null,
   "id": "2013bf0e-2743-4b01-9d5b-6c11ca418e7e",
   "metadata": {},
   "outputs": [],
   "source": []
  },
  {
   "cell_type": "code",
   "execution_count": null,
   "id": "6d0e3ef8-2230-472d-87c4-9296f195a593",
   "metadata": {},
   "outputs": [],
   "source": []
  },
  {
   "cell_type": "code",
   "execution_count": null,
   "id": "4afaad4f-c11f-4dac-abf7-8640e762f334",
   "metadata": {},
   "outputs": [],
   "source": []
  },
  {
   "cell_type": "markdown",
   "id": "2f59dd8b-c678-4f4f-aa0a-ec2d4b115b3d",
   "metadata": {
    "tags": []
   },
   "source": [
    "## Collecting the website visitors dataset\n",
    "\n",
    "Remore shell  \n",
    "`zcat /var/log/nginx/access.log.*.gz > /tmp/access_logs.txt`\n",
    "\n",
    "\n",
    "Local shell  \n",
    "`scp minireference.com:/tmp/access_logs.txt data/access_logs.txt`"
   ]
  },
  {
   "cell_type": "code",
   "execution_count": 2,
   "id": "9451f9e5-3f54-4003-9e75-d9ef0e840e7a",
   "metadata": {},
   "outputs": [],
   "source": [
    "# access_logs = open(\"data/access_logs.txt\")\n",
    "# df = pd.read_csv(\n",
    "#     access_logs,\n",
    "#     sep=r'\\s(?=(?:[^\"]*\"[^\"]*\")*[^\"]*$)(?![^\\[]*\\])',\n",
    "#     engine='python',\n",
    "#     usecols=[0, 3, 4, 5, 6, 7, 8],\n",
    "#     names=['ip', 'time', 'request', 'status', 'size', 'referer', 'user_agent'],\n",
    "#     na_values='-',\n",
    "#     header=None\n",
    "# )"
   ]
  },
  {
   "cell_type": "code",
   "execution_count": 11,
   "id": "51a7b6c2-857a-4d10-be5d-67754bd3e7ce",
   "metadata": {},
   "outputs": [
    {
     "data": {
      "text/html": [
       "<div>\n",
       "<style scoped>\n",
       "    .dataframe tbody tr th:only-of-type {\n",
       "        vertical-align: middle;\n",
       "    }\n",
       "\n",
       "    .dataframe tbody tr th {\n",
       "        vertical-align: top;\n",
       "    }\n",
       "\n",
       "    .dataframe thead th {\n",
       "        text-align: right;\n",
       "    }\n",
       "</style>\n",
       "<table border=\"1\" class=\"dataframe\">\n",
       "  <thead>\n",
       "    <tr style=\"text-align: right;\">\n",
       "      <th></th>\n",
       "      <th>IP address</th>\n",
       "      <th>version</th>\n",
       "      <th>bought</th>\n",
       "    </tr>\n",
       "  </thead>\n",
       "  <tbody>\n",
       "    <tr>\n",
       "      <th>0</th>\n",
       "      <td>135.185.92.4</td>\n",
       "      <td>B</td>\n",
       "      <td>0</td>\n",
       "    </tr>\n",
       "    <tr>\n",
       "      <th>1</th>\n",
       "      <td>14.75.235.1</td>\n",
       "      <td>A</td>\n",
       "      <td>0</td>\n",
       "    </tr>\n",
       "    <tr>\n",
       "      <th>2</th>\n",
       "      <td>50.132.244.139</td>\n",
       "      <td>B</td>\n",
       "      <td>0</td>\n",
       "    </tr>\n",
       "    <tr>\n",
       "      <th>3</th>\n",
       "      <td>144.181.130.234</td>\n",
       "      <td>A</td>\n",
       "      <td>0</td>\n",
       "    </tr>\n",
       "    <tr>\n",
       "      <th>4</th>\n",
       "      <td>90.92.5.100</td>\n",
       "      <td>B</td>\n",
       "      <td>1</td>\n",
       "    </tr>\n",
       "  </tbody>\n",
       "</table>\n",
       "</div>"
      ],
      "text/plain": [
       "        IP address version  bought\n",
       "0     135.185.92.4       B       0\n",
       "1      14.75.235.1       A       0\n",
       "2   50.132.244.139       B       0\n",
       "3  144.181.130.234       A       0\n",
       "4      90.92.5.100       B       1"
      ]
     },
     "execution_count": 11,
     "metadata": {},
     "output_type": "execute_result"
    }
   ],
   "source": [
    "visitors = pd.read_csv(\"../datasets/visitors.csv\")\n",
    "visitors.head()"
   ]
  },
  {
   "cell_type": "markdown",
   "id": "e3e81bb7-f48f-46ed-abff-dc7798a7f27c",
   "metadata": {},
   "source": [
    "- A VIEWS = CONTAINS /static/images/homepage/bgA.jpg\n",
    "- B VIEWS = CONTAINS /static/images/homepage/bgB.jpg\n",
    "- A CONVERSIONS = CONTAINS /static/images/homepage/bgA.jpg and /thankyou\n",
    "- B CONVERSIONS = CONTAINS /static/images/homepage/bgB.jpg and /thankyou\n",
    "- p_A = A CONVERSIONS / A VIEWS\n",
    "- p_B = B CONVERSIONS / B VIEWS\n"
   ]
  },
  {
   "cell_type": "code",
   "execution_count": 12,
   "id": "ad6e7f3a-1c55-4f46-9eb8-d7bdad98fe94",
   "metadata": {},
   "outputs": [
    {
     "data": {
      "text/plain": [
       "version  bought\n",
       "A        0         0.953649\n",
       "         1         0.046351\n",
       "B        0         0.943205\n",
       "         1         0.056795\n",
       "Name: bought, dtype: float64"
      ]
     },
     "execution_count": 12,
     "metadata": {},
     "output_type": "execute_result"
    }
   ],
   "source": [
    "visitors.groupby(\"version\") \\\n",
    "         [\"bought\"].value_counts(normalize=True)"
   ]
  },
  {
   "cell_type": "code",
   "execution_count": 17,
   "id": "c6c49b35-581c-48bb-9098-f57f63fde678",
   "metadata": {},
   "outputs": [
    {
     "data": {
      "text/plain": [
       "version\n",
       "A    0.046351\n",
       "B    0.056795\n",
       "dtype: float64"
      ]
     },
     "execution_count": 17,
     "metadata": {},
     "output_type": "execute_result"
    }
   ],
   "source": [
    "visitors.groupby(\"version\") \\\n",
    "         [\"bought\"].agg([\"sum\", \"count\"]) \\\n",
    "         .eval(\"sum/count\")"
   ]
  },
  {
   "cell_type": "markdown",
   "id": "225fe681-959b-48e8-b844-092bce87beee",
   "metadata": {},
   "source": [
    "## Collecting the electricity prices dataset"
   ]
  },
  {
   "cell_type": "code",
   "execution_count": 4,
   "id": "ba7b6999-3cbc-43bd-aeaa-89282d14df08",
   "metadata": {},
   "outputs": [],
   "source": [
    "# xE = [7.7, 5.9,  7, 4.8, 6.3, 6.3, 5.5, 5.4, 6.5]\n",
    "# xW = [11.8, 10, 11, 8.6, 8.3, 9.4,   8, 6.8, 8.5]"
   ]
  },
  {
   "cell_type": "code",
   "execution_count": 5,
   "id": "88e204b2-74a5-44ae-b9a1-4c8650ce86a2",
   "metadata": {},
   "outputs": [
    {
     "data": {
      "text/html": [
       "<div>\n",
       "<style scoped>\n",
       "    .dataframe tbody tr th:only-of-type {\n",
       "        vertical-align: middle;\n",
       "    }\n",
       "\n",
       "    .dataframe tbody tr th {\n",
       "        vertical-align: top;\n",
       "    }\n",
       "\n",
       "    .dataframe thead th {\n",
       "        text-align: right;\n",
       "    }\n",
       "</style>\n",
       "<table border=\"1\" class=\"dataframe\">\n",
       "  <thead>\n",
       "    <tr style=\"text-align: right;\">\n",
       "      <th></th>\n",
       "      <th>end</th>\n",
       "      <th>price</th>\n",
       "    </tr>\n",
       "  </thead>\n",
       "  <tbody>\n",
       "    <tr>\n",
       "      <th>0</th>\n",
       "      <td>East</td>\n",
       "      <td>7.7</td>\n",
       "    </tr>\n",
       "    <tr>\n",
       "      <th>1</th>\n",
       "      <td>East</td>\n",
       "      <td>5.9</td>\n",
       "    </tr>\n",
       "    <tr>\n",
       "      <th>2</th>\n",
       "      <td>East</td>\n",
       "      <td>7.0</td>\n",
       "    </tr>\n",
       "    <tr>\n",
       "      <th>3</th>\n",
       "      <td>East</td>\n",
       "      <td>4.8</td>\n",
       "    </tr>\n",
       "    <tr>\n",
       "      <th>4</th>\n",
       "      <td>East</td>\n",
       "      <td>6.3</td>\n",
       "    </tr>\n",
       "  </tbody>\n",
       "</table>\n",
       "</div>"
      ],
      "text/plain": [
       "    end  price\n",
       "0  East    7.7\n",
       "1  East    5.9\n",
       "2  East    7.0\n",
       "3  East    4.8\n",
       "4  East    6.3"
      ]
     },
     "execution_count": 5,
     "metadata": {},
     "output_type": "execute_result"
    }
   ],
   "source": [
    "eprices = pd.read_csv(\"../datasets/eprices.csv\")\n",
    "eprices.head()"
   ]
  },
  {
   "cell_type": "code",
   "execution_count": null,
   "id": "40c583a8-e134-4e8f-9062-78305111c048",
   "metadata": {},
   "outputs": [],
   "source": []
  },
  {
   "cell_type": "markdown",
   "id": "94e33e7d-37d7-4aa0-b4a1-d6bc7b935d21",
   "metadata": {},
   "source": [
    "## Collecting the students dataset"
   ]
  },
  {
   "cell_type": "code",
   "execution_count": 8,
   "id": "07d6cf3f-f0a4-4976-9e20-2247ee1057d6",
   "metadata": {},
   "outputs": [
    {
     "name": "stdout",
     "output_type": "stream",
     "text": [
      "           background curriculum  effort  score\n",
      "student_ID                                     \n",
      "1                arts     debate   10.96   75.0\n",
      "2             science    lecture    8.69   75.0\n",
      "3                arts     debate    8.60   67.0\n",
      "4                arts    lecture    7.92   70.3\n",
      "5             science     debate    9.90   76.1\n"
     ]
    }
   ],
   "source": [
    "students = pd.read_csv(\"../datasets/students.csv\", index_col=\"student_ID\")\n",
    "print(students.head())"
   ]
  },
  {
   "cell_type": "code",
   "execution_count": null,
   "id": "c496900b-c337-4f78-bdff-29a8f9c8d89b",
   "metadata": {},
   "outputs": [],
   "source": []
  },
  {
   "cell_type": "markdown",
   "id": "b33a4449-79aa-4ef2-8a5b-e1229a7ab891",
   "metadata": {},
   "source": [
    "```\n",
    "SELECT <which variables> FROM <which table>;\n",
    "SELECT <which variables> FROM <which table> WHERE <conditions>;\n",
    "\n",
    "e.g. \n",
    "SELECT student_id, time_on_task FROM learner_analytics;\n",
    "SELECT student_id, scrore FROM student_final_grades;\n",
    "\n",
    "AGGREGATE total effort\n",
    "JOIN effort and score tables\n",
    "```"
   ]
  },
  {
   "cell_type": "code",
   "execution_count": 3,
   "id": "033da46a-69ae-4e16-b639-5198747587bf",
   "metadata": {},
   "outputs": [
    {
     "data": {
      "text/html": [
       "<div>\n",
       "<style scoped>\n",
       "    .dataframe tbody tr th:only-of-type {\n",
       "        vertical-align: middle;\n",
       "    }\n",
       "\n",
       "    .dataframe tbody tr th {\n",
       "        vertical-align: top;\n",
       "    }\n",
       "\n",
       "    .dataframe thead th {\n",
       "        text-align: right;\n",
       "    }\n",
       "</style>\n",
       "<table border=\"1\" class=\"dataframe\">\n",
       "  <thead>\n",
       "    <tr style=\"text-align: right;\">\n",
       "      <th></th>\n",
       "      <th>background</th>\n",
       "      <th>curriculum</th>\n",
       "      <th>effort</th>\n",
       "      <th>score</th>\n",
       "    </tr>\n",
       "    <tr>\n",
       "      <th>student_ID</th>\n",
       "      <th></th>\n",
       "      <th></th>\n",
       "      <th></th>\n",
       "      <th></th>\n",
       "    </tr>\n",
       "  </thead>\n",
       "  <tbody>\n",
       "    <tr>\n",
       "      <th>1</th>\n",
       "      <td>arts</td>\n",
       "      <td>debate</td>\n",
       "      <td>10.96</td>\n",
       "      <td>75.0</td>\n",
       "    </tr>\n",
       "    <tr>\n",
       "      <th>2</th>\n",
       "      <td>science</td>\n",
       "      <td>lecture</td>\n",
       "      <td>8.69</td>\n",
       "      <td>75.0</td>\n",
       "    </tr>\n",
       "    <tr>\n",
       "      <th>3</th>\n",
       "      <td>arts</td>\n",
       "      <td>debate</td>\n",
       "      <td>8.60</td>\n",
       "      <td>67.0</td>\n",
       "    </tr>\n",
       "    <tr>\n",
       "      <th>4</th>\n",
       "      <td>arts</td>\n",
       "      <td>lecture</td>\n",
       "      <td>7.92</td>\n",
       "      <td>70.3</td>\n",
       "    </tr>\n",
       "    <tr>\n",
       "      <th>5</th>\n",
       "      <td>science</td>\n",
       "      <td>debate</td>\n",
       "      <td>9.90</td>\n",
       "      <td>76.1</td>\n",
       "    </tr>\n",
       "    <tr>\n",
       "      <th>6</th>\n",
       "      <td>business</td>\n",
       "      <td>debate</td>\n",
       "      <td>10.80</td>\n",
       "      <td>79.8</td>\n",
       "    </tr>\n",
       "    <tr>\n",
       "      <th>7</th>\n",
       "      <td>science</td>\n",
       "      <td>lecture</td>\n",
       "      <td>7.81</td>\n",
       "      <td>72.7</td>\n",
       "    </tr>\n",
       "    <tr>\n",
       "      <th>8</th>\n",
       "      <td>business</td>\n",
       "      <td>lecture</td>\n",
       "      <td>9.13</td>\n",
       "      <td>75.4</td>\n",
       "    </tr>\n",
       "    <tr>\n",
       "      <th>9</th>\n",
       "      <td>business</td>\n",
       "      <td>lecture</td>\n",
       "      <td>5.21</td>\n",
       "      <td>57.0</td>\n",
       "    </tr>\n",
       "    <tr>\n",
       "      <th>10</th>\n",
       "      <td>science</td>\n",
       "      <td>lecture</td>\n",
       "      <td>7.71</td>\n",
       "      <td>69.0</td>\n",
       "    </tr>\n",
       "    <tr>\n",
       "      <th>11</th>\n",
       "      <td>business</td>\n",
       "      <td>debate</td>\n",
       "      <td>9.82</td>\n",
       "      <td>70.4</td>\n",
       "    </tr>\n",
       "    <tr>\n",
       "      <th>12</th>\n",
       "      <td>arts</td>\n",
       "      <td>debate</td>\n",
       "      <td>11.53</td>\n",
       "      <td>96.2</td>\n",
       "    </tr>\n",
       "    <tr>\n",
       "      <th>13</th>\n",
       "      <td>science</td>\n",
       "      <td>debate</td>\n",
       "      <td>7.10</td>\n",
       "      <td>62.9</td>\n",
       "    </tr>\n",
       "    <tr>\n",
       "      <th>14</th>\n",
       "      <td>science</td>\n",
       "      <td>lecture</td>\n",
       "      <td>6.39</td>\n",
       "      <td>57.6</td>\n",
       "    </tr>\n",
       "    <tr>\n",
       "      <th>15</th>\n",
       "      <td>arts</td>\n",
       "      <td>debate</td>\n",
       "      <td>12.00</td>\n",
       "      <td>84.3</td>\n",
       "    </tr>\n",
       "  </tbody>\n",
       "</table>\n",
       "</div>"
      ],
      "text/plain": [
       "           background curriculum  effort  score\n",
       "student_ID                                     \n",
       "1                arts     debate   10.96   75.0\n",
       "2             science    lecture    8.69   75.0\n",
       "3                arts     debate    8.60   67.0\n",
       "4                arts    lecture    7.92   70.3\n",
       "5             science     debate    9.90   76.1\n",
       "6            business     debate   10.80   79.8\n",
       "7             science    lecture    7.81   72.7\n",
       "8            business    lecture    9.13   75.4\n",
       "9            business    lecture    5.21   57.0\n",
       "10            science    lecture    7.71   69.0\n",
       "11           business     debate    9.82   70.4\n",
       "12               arts     debate   11.53   96.2\n",
       "13            science     debate    7.10   62.9\n",
       "14            science    lecture    6.39   57.6\n",
       "15               arts     debate   12.00   84.3"
      ]
     },
     "execution_count": 3,
     "metadata": {},
     "output_type": "execute_result"
    }
   ],
   "source": [
    "students = pd.read_csv(\"../datasets/students.csv\", index_col=\"student_ID\")\n",
    "students"
   ]
  },
  {
   "cell_type": "code",
   "execution_count": 4,
   "id": "32f70f64-54ae-4d14-912f-0108f6b8a4d8",
   "metadata": {},
   "outputs": [],
   "source": [
    "xD = students[students[\"curriculum\"]==\"debate\"][\"score\"].values\n",
    "xL = students[students[\"curriculum\"]==\"lecture\"][\"score\"].values"
   ]
  },
  {
   "cell_type": "code",
   "execution_count": 6,
   "id": "b9f7d7f6-dfaa-46ea-94e5-88d7941c4b37",
   "metadata": {},
   "outputs": [
    {
     "data": {
      "text/plain": [
       "(76.4625, 68.14285714285714, 8.319642857142867)"
      ]
     },
     "execution_count": 6,
     "metadata": {},
     "output_type": "execute_result"
    }
   ],
   "source": [
    "import numpy as np\n",
    "np.mean(xD), np.mean(xL), np.mean(xD) -np.mean(xL)"
   ]
  },
  {
   "cell_type": "code",
   "execution_count": 7,
   "id": "6ff750e2-9f55-46f7-b394-0b5d0fc2604d",
   "metadata": {},
   "outputs": [
    {
     "data": {
      "text/plain": [
       "Ttest_indResult(statistic=1.7197867420465698, pvalue=0.10917234443214315)"
      ]
     },
     "execution_count": 7,
     "metadata": {},
     "output_type": "execute_result"
    }
   ],
   "source": [
    "from scipy.stats import ttest_ind\n",
    "\n",
    "ttest_ind(xD, xL)"
   ]
  },
  {
   "cell_type": "code",
   "execution_count": null,
   "id": "312fecba-6717-4079-b26e-31cbfce9338d",
   "metadata": {},
   "outputs": [],
   "source": []
  }
 ],
 "metadata": {
  "kernelspec": {
   "display_name": "Python 3 (ipykernel)",
   "language": "python",
   "name": "python3"
  },
  "language_info": {
   "codemirror_mode": {
    "name": "ipython",
    "version": 3
   },
   "file_extension": ".py",
   "mimetype": "text/x-python",
   "name": "python",
   "nbconvert_exporter": "python",
   "pygments_lexer": "ipython3",
   "version": "3.9.4"
  }
 },
 "nbformat": 4,
 "nbformat_minor": 5
}
