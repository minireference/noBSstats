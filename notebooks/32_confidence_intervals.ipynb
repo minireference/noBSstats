{
 "cells": [
  {
   "cell_type": "markdown",
   "id": "b73f3d18-88c7-499d-90a3-dd6954247cf3",
   "metadata": {
    "tags": []
   },
   "source": [
    "# Section 3.2 — Confidence intervals\n",
    "\n",
    "This notebook contains the code examples from [Section 3.2 Confidence intervals]() of the **No Bullshit Guide to Statistics**.\n"
   ]
  },
  {
   "cell_type": "markdown",
   "id": "efce8e91-8824-4103-a526-02e23c794668",
   "metadata": {
    "tags": []
   },
   "source": [
    "#### Notebook setup"
   ]
  },
  {
   "cell_type": "code",
   "execution_count": 1,
   "id": "990de07d-c26f-4a29-935a-2b1dacc89b34",
   "metadata": {},
   "outputs": [],
   "source": [
    "# load Python modules\n",
    "import os\n",
    "import numpy as np\n",
    "import pandas as pd\n",
    "import seaborn as sns\n",
    "import matplotlib.pyplot as plt"
   ]
  },
  {
   "cell_type": "code",
   "execution_count": 2,
   "id": "9c117451-42db-4542-81a7-7b47b02686e1",
   "metadata": {},
   "outputs": [],
   "source": [
    "# Plot helper functions\n",
    "from plot_helpers import plot_pdf\n",
    "from plot_helpers import savefigure"
   ]
  },
  {
   "cell_type": "code",
   "execution_count": 3,
   "id": "3209c5be-cb6a-42c0-8bf8-949a4fc0ff39",
   "metadata": {},
   "outputs": [
    {
     "data": {
      "text/plain": [
       "<Figure size 640x480 with 0 Axes>"
      ]
     },
     "metadata": {},
     "output_type": "display_data"
    }
   ],
   "source": [
    "# Figures setup\n",
    "plt.clf()  # needed otherwise `sns.set_theme` doesn't work\n",
    "from plot_helpers import RCPARAMS\n",
    "RCPARAMS.update({'figure.figsize': (10, 3)})   # good for screen\n",
    "# RCPARAMS.update({'figure.figsize': (5, 1.6)})  # good for print\n",
    "sns.set_theme(\n",
    "    context=\"paper\",\n",
    "    style=\"whitegrid\",\n",
    "    palette=\"colorblind\",\n",
    "    rc=RCPARAMS,\n",
    ")\n",
    "\n",
    "# Useful colors\n",
    "# snspal = sns.color_palette()\n",
    "# blue, orange, purple = snspal[0], snspal[1], snspal[4]\n",
    "\n",
    "# High-resolution please\n",
    "%config InlineBackend.figure_format = 'retina'\n",
    "\n",
    "# Where to store figures\n",
    "DESTDIR = \"figures/stats/confidence_intervals\""
   ]
  },
  {
   "cell_type": "code",
   "execution_count": 4,
   "id": "df22d8d7-6814-4c3b-a3d3-2f31ab6b2f3b",
   "metadata": {},
   "outputs": [],
   "source": [
    "# set random seed for repeatability\n",
    "np.random.seed(42)"
   ]
  },
  {
   "cell_type": "code",
   "execution_count": 5,
   "id": "7eb1c12f-d13f-4412-8324-13485c0a398d",
   "metadata": {},
   "outputs": [],
   "source": [
    "#######################################################"
   ]
  },
  {
   "cell_type": "markdown",
   "id": "9ee8aad0-01a7-4aff-819f-9de0d15d52c3",
   "metadata": {},
   "source": [
    "$\\def\\stderr#1{\\mathbf{se}_{#1}}$\n",
    "$\\def\\stderrhat#1{\\hat{\\mathbf{se}}_{#1}}$\n",
    "$\\newcommand{\\Mean}{\\textbf{Mean}}$\n",
    "$\\newcommand{\\Var}{\\textbf{Var}}$\n",
    "$\\newcommand{\\Std}{\\textbf{Std}}$\n",
    "$\\newcommand{\\Freq}{\\textbf{Freq}}$\n",
    "$\\newcommand{\\RelFreq}{\\textbf{RelFreq}}$\n",
    "$\\newcommand{\\DMeans}{\\textbf{DMeans}}$\n",
    "$\\newcommand{\\Prop}{\\textbf{Prop}}$\n",
    "$\\newcommand{\\DProps}{\\textbf{DProps}}$\n",
    "\n",
    "$$\n",
    "\\newcommand{\\CI}[1]{\\textbf{CI}_{#1}}\n",
    "\\newcommand{\\CIL}[1]{\\textbf{L}_{#1}}\n",
    "\\newcommand{\\CIU}[1]{\\textbf{U}_{#1}}\n",
    "\\newcommand{\\ci}[1]{\\textbf{ci}_{#1}}\n",
    "\\newcommand{\\cil}[1]{\\textbf{l}_{#1}}\n",
    "\\newcommand{\\ciu}[1]{\\textbf{u}_{#1}}\n",
    "$$\n",
    "\n",
    "\n",
    "(this cell contains the macro definitions like $\\stderr{\\overline{\\mathbf{x}}}$, $\\stderrhat{}$, $\\Mean$, ...)"
   ]
  },
  {
   "cell_type": "markdown",
   "id": "576f7dfd-7b94-4dd1-82c1-b55358f06534",
   "metadata": {},
   "source": [
    " "
   ]
  },
  {
   "cell_type": "markdown",
   "id": "8804a09a-f4ad-4ff6-a449-1ee3ee3431aa",
   "metadata": {},
   "source": [
    "## Definitions\n",
    "\n"
   ]
  },
  {
   "cell_type": "markdown",
   "id": "a1bf2a92-b549-4964-8970-0c8c7fedab26",
   "metadata": {},
   "source": [
    "### Review of estimators\n",
    "\n",
    "Recall all the estimators (functions that take samples as inputs) we defined in the previous section."
   ]
  },
  {
   "cell_type": "code",
   "execution_count": 6,
   "id": "9b1b521e-fc25-4278-8573-14986d326423",
   "metadata": {},
   "outputs": [],
   "source": [
    "def mean(sample):\n",
    "    return sum(sample) / len(sample)\n",
    "\n",
    "def var(sample):\n",
    "    xbar = mean(sample)\n",
    "    sumsqdevs = sum([(xi-xbar)**2 for xi in sample])\n",
    "    return sumsqdevs / (len(sample)-1)\n",
    "\n",
    "def std(sample):\n",
    "    s2 = var(sample)\n",
    "    return np.sqrt(s2)\n",
    "\n",
    "def dmeans(xsample, ysample):\n",
    "    dhat = mean(xsample) - mean(ysample)\n",
    "    return dhat"
   ]
  },
  {
   "cell_type": "code",
   "execution_count": null,
   "id": "8cdfce52-53ee-4779-a4ba-c4f5ed37fe23",
   "metadata": {},
   "outputs": [],
   "source": []
  },
  {
   "cell_type": "markdown",
   "id": "c377cc41-d81f-4978-b735-845dc158ec71",
   "metadata": {},
   "source": [
    "### Interpreting confidence intervals"
   ]
  },
  {
   "cell_type": "code",
   "execution_count": 7,
   "id": "3d723491-4af8-4f1e-9abb-5747d98908da",
   "metadata": {},
   "outputs": [
    {
     "name": "stdout",
     "output_type": "stream",
     "text": [
      "Saved figure to figures/stats/confidence_intervals/confidence_intervals_mean_rvX_n20.pdf\n",
      "Saved figure to figures/stats/confidence_intervals/confidence_intervals_mean_rvX_n20.png\n"
     ]
    },
    {
     "data": {
      "image/png": "[encoded data removed]",
      "text/plain": [
       "<Figure size 900x300 with 1 Axes>"
      ]
     },
     "metadata": {
      "image/png": {
       "height": 291,
       "width": 890
      }
     },
     "output_type": "display_data"
    }
   ],
   "source": [
    "filename = os.path.join(DESTDIR, \"confidence_intervals_mean_rvX_n20.pdf\")\n",
    "\n",
    "from scipy.stats import norm\n",
    "from plot_helpers import gen_samples\n",
    "import seaborn as sns\n",
    "import matplotlib.pyplot as plt\n",
    "import warnings\n",
    "palette = sns.color_palette(palette=[\"#ff0000\", \"#000000\"])\n",
    "\n",
    "N = 50\n",
    "n = 20\n",
    "\n",
    "rvX = norm(100,10)\n",
    "\n",
    "# Generate N=50 samples of size n=20 from a normal dist\n",
    "np.random.seed(47)\n",
    "samples_df = gen_samples(rvX, n=n, N=N)\n",
    "samples_df.columns = range(1,N+1)\n",
    "df2 = samples_df.melt(var_name=\"sample\", value_name=\"n\")\n",
    "\n",
    "def confint(data):\n",
    "    \"\"\"\n",
    "    Compute 90% confidence interval.\n",
    "    Note:  1.729 = tdist(19).ppf(0.95)\n",
    "    \"\"\"\n",
    "    n = len(data)\n",
    "    mean = data.mean()\n",
    "    std = data.std(ddof=1)\n",
    "    se = std / np.sqrt(n)\n",
    "    return [mean - 1.729*se, mean + 1.729*se]\n",
    "\n",
    "# Add new column to indicate if CI contains mean or not\n",
    "for sidx in range(1,N+1):\n",
    "    sample = df2[df2[\"sample\"]==sidx][\"n\"].values\n",
    "    C_L, C_U = confint(sample)\n",
    "    if C_L <= rvX.mean() and rvX.mean() <= C_U:\n",
    "        outcome = 1  # includes population mean\n",
    "    else:\n",
    "        outcome = 0  # doesn't include population mean\n",
    "    df2.loc[df2[\"sample\"]==sidx,\"success\"] = outcome\n",
    "\n",
    "\n",
    "with warnings.catch_warnings(), plt.rc_context({\"figure.figsize\":(9,3)}):\n",
    "    warnings.filterwarnings('ignore', category=UserWarning)    \n",
    "    ax = sns.pointplot(x=\"sample\", y=\"n\", hue=\"success\", data=df2,\n",
    "                       errorbar=confint, palette=palette,\n",
    "                       join=False, capsize=0.5, markers=\" \", errwidth=1)\n",
    "    ax.set_ylabel(\"$\\mu_X$\") # \"$\\overline{\\mathbf{x}}$\"\n",
    "    ax.axhline(y=rvX.mean(), color='b', label='Mean', linestyle='--', linewidth=1)\n",
    "    ax.legend([],[], frameon=False)\n",
    "    savefigure(ax, filename)"
   ]
  },
  {
   "cell_type": "code",
   "execution_count": null,
   "id": "81b96dfa-157f-4fc4-9a17-ab01432d212f",
   "metadata": {},
   "outputs": [],
   "source": []
  },
  {
   "cell_type": "code",
   "execution_count": null,
   "id": "6163a33b-8079-4915-86ef-62f616309872",
   "metadata": {},
   "outputs": [],
   "source": []
  },
  {
   "cell_type": "code",
   "execution_count": null,
   "id": "d362a16d-8123-456f-a1d7-f9f335ff4068",
   "metadata": {},
   "outputs": [],
   "source": []
  },
  {
   "cell_type": "markdown",
   "id": "ed5f2ae6-914b-4698-a536-6cfb1ba8bb30",
   "metadata": {},
   "source": [
    "## Confidence interval constructions\n",
    "\n",
    "$$\n",
    " \\CI{1-\\alpha} = \\left[\n",
    "         F^{-1}\\big(\\tfrac{\\alpha}{2}\\big),\n",
    "         F^{-1}\\big(1-\\tfrac{\\alpha}{2}\\big)\n",
    "      \\right]\n",
    "$$"
   ]
  },
  {
   "cell_type": "code",
   "execution_count": null,
   "id": "5fa8afe8-6df4-4fca-87ea-0197d3088f25",
   "metadata": {},
   "outputs": [],
   "source": []
  },
  {
   "cell_type": "code",
   "execution_count": null,
   "id": "4e385ba1-a3e7-4a37-9a36-3926ea366bd2",
   "metadata": {},
   "outputs": [],
   "source": []
  },
  {
   "cell_type": "markdown",
   "id": "a206431c-b7b9-4222-95b4-3648a5e43652",
   "metadata": {},
   "source": [
    "### Bootstrap confidence intervals"
   ]
  },
  {
   "cell_type": "code",
   "execution_count": 8,
   "id": "6eb374f1-e8e7-402b-9de6-f26571ad1392",
   "metadata": {},
   "outputs": [
    {
     "data": {
      "text/plain": [
       "[2.7142857142857144, 5.285714285714286]"
      ]
     },
     "execution_count": 8,
     "metadata": {},
     "output_type": "execute_result"
    }
   ],
   "source": [
    "xsample = [1,2,3,4,5,6,7]\n",
    "\n",
    "from stats_helpers import gen_boot_dist\n",
    "xbars_boot = gen_boot_dist(xsample, estfunc=mean)\n",
    "\n",
    "[np.percentile(xbars_boot,5),\n",
    " np.percentile(xbars_boot,95)]"
   ]
  },
  {
   "cell_type": "code",
   "execution_count": 9,
   "id": "b4de9937-e298-432b-a0e1-9b6309b68efc",
   "metadata": {},
   "outputs": [
    {
     "data": {
      "text/plain": [
       "[2.7142857142857144, 5.285714285714286]"
      ]
     },
     "execution_count": 9,
     "metadata": {},
     "output_type": "execute_result"
    }
   ],
   "source": [
    "[np.quantile(xbars_boot,0.05),\n",
    " np.quantile(xbars_boot,0.95)]"
   ]
  },
  {
   "cell_type": "code",
   "execution_count": null,
   "id": "18c7437d-4c40-4d65-bcac-c39c227f7a3a",
   "metadata": {},
   "outputs": [],
   "source": []
  },
  {
   "cell_type": "markdown",
   "id": "192ead41-4d8e-4f42-9721-6113f06b337c",
   "metadata": {},
   "source": [
    "### Analytical approximations\n",
    "\n",
    "$$\n",
    "    z_\\ell = F_{Z}^{-1}(\\tfrac{\\alpha}{2})\n",
    "    \\qquad \\text{and} \\qquad\n",
    "    z_u = F_{Z}^{-1}(1-\\tfrac{\\alpha}{2}).\n",
    "$$"
   ]
  },
  {
   "cell_type": "code",
   "execution_count": 1,
   "id": "2074e320-1f1e-4644-ab95-f5539ffa6248",
   "metadata": {},
   "outputs": [
    {
     "data": {
      "text/plain": [
       "1.6448536269514722"
      ]
     },
     "execution_count": 1,
     "metadata": {},
     "output_type": "execute_result"
    }
   ],
   "source": [
    "from scipy.stats import norm\n",
    "rvZ = norm(0,1)\n",
    "\n",
    "rvZ.ppf(0.95)"
   ]
  },
  {
   "cell_type": "code",
   "execution_count": 2,
   "id": "1641ff00-8d37-4775-b87b-2aab41e1df5d",
   "metadata": {},
   "outputs": [
    {
     "data": {
      "text/plain": [
       "1.6448536269514722"
      ]
     },
     "execution_count": 2,
     "metadata": {},
     "output_type": "execute_result"
    }
   ],
   "source": [
    "norm.ppf(0.95)"
   ]
  },
  {
   "cell_type": "code",
   "execution_count": 13,
   "id": "2294d702-d860-44f8-803e-f8f26aafc9f7",
   "metadata": {},
   "outputs": [
    {
     "data": {
      "text/plain": [
       "[-1.6448536269514729, 1.6448536269514722]"
      ]
     },
     "execution_count": 13,
     "metadata": {},
     "output_type": "execute_result"
    }
   ],
   "source": [
    "alpha = 0.1\n",
    "z_l = norm.ppf(alpha/2)\n",
    "z_u = norm.ppf(1-alpha/2)\n",
    "[z_l, z_u]"
   ]
  },
  {
   "cell_type": "code",
   "execution_count": 10,
   "id": "1267b9a2-2c2b-451a-8ed6-c63039c7d59f",
   "metadata": {},
   "outputs": [
    {
     "data": {
      "text/plain": [
       "[-1.9431802803927818, 1.9431802803927816]"
      ]
     },
     "execution_count": 10,
     "metadata": {},
     "output_type": "execute_result"
    }
   ],
   "source": [
    "from scipy.stats import t as tdist\n",
    "[tdist.ppf(0.05, df=6), tdist.ppf(0.95, df=6)]"
   ]
  },
  {
   "cell_type": "code",
   "execution_count": 11,
   "id": "3c3ab679-29d4-4bbb-bcb3-21e6d1eab15d",
   "metadata": {},
   "outputs": [
    {
     "data": {
      "text/plain": [
       "[1.6353828943279067, 12.591587243743977]"
      ]
     },
     "execution_count": 11,
     "metadata": {},
     "output_type": "execute_result"
    }
   ],
   "source": [
    "from scipy.stats import chi2\n",
    "[chi2.ppf(0.05, df=6), chi2.ppf(0.95, df=6)]"
   ]
  },
  {
   "cell_type": "code",
   "execution_count": 10,
   "id": "642d6dff-4d16-46e3-a974-568a193fdc2f",
   "metadata": {},
   "outputs": [],
   "source": []
  },
  {
   "cell_type": "code",
   "execution_count": null,
   "id": "005be463-1509-4708-ac5f-c56240dee9e8",
   "metadata": {},
   "outputs": [],
   "source": []
  },
  {
   "cell_type": "code",
   "execution_count": null,
   "id": "1f74fc06-3b78-451d-9a2d-7ee4040b8ccc",
   "metadata": {},
   "outputs": [],
   "source": []
  },
  {
   "cell_type": "code",
   "execution_count": null,
   "id": "85ea3308-0fdd-4160-aa32-76ce533fbe0a",
   "metadata": {},
   "outputs": [],
   "source": []
  },
  {
   "cell_type": "markdown",
   "id": "be83782d-7e0e-41cb-932c-a64bdf286eb8",
   "metadata": {},
   "source": [
    "## Confidence interval for the population mean"
   ]
  },
  {
   "cell_type": "markdown",
   "id": "8e77d959-17fe-4326-8c45-e0b4b88ba2e8",
   "metadata": {},
   "source": [
    "### Example 1: confidence interval for the mean apple weight"
   ]
  },
  {
   "cell_type": "code",
   "execution_count": 12,
   "id": "19f03cfe-53c5-4628-8e56-d86d0c904de0",
   "metadata": {},
   "outputs": [
    {
     "data": {
      "text/plain": [
       "array([205., 182., 192., 189., 217., 192., 210., 240., 225., 191., 193.,\n",
       "       209., 167., 183., 210., 198., 239., 188., 179., 182., 200., 197.,\n",
       "       245., 192., 201., 218., 198., 211., 208., 217.])"
      ]
     },
     "execution_count": 12,
     "metadata": {},
     "output_type": "execute_result"
    }
   ],
   "source": [
    "apples = pd.read_csv(\"../datasets/apples.csv\")\n",
    "asample = apples[\"weight\"]\n",
    "asample.values"
   ]
  },
  {
   "cell_type": "code",
   "execution_count": 13,
   "id": "7e44c422-b1d5-4a6b-a2e4-fc6258c6b142",
   "metadata": {},
   "outputs": [
    {
     "data": {
      "text/plain": [
       "(30, 202.6, 3.3959407817427336)"
      ]
     },
     "execution_count": 13,
     "metadata": {},
     "output_type": "execute_result"
    }
   ],
   "source": [
    "n = asample.count()\n",
    "abar = mean(asample)\n",
    "asehat = std(asample) / np.sqrt(n)\n",
    "n,   abar,  asehat"
   ]
  },
  {
   "cell_type": "code",
   "execution_count": 14,
   "id": "727f3e94-c318-49d6-87a3-5cd87760e6ce",
   "metadata": {},
   "outputs": [
    {
     "data": {
      "text/plain": [
       "[196.82986523723363, 208.37013476276636]"
      ]
     },
     "execution_count": 14,
     "metadata": {},
     "output_type": "execute_result"
    }
   ],
   "source": [
    "from scipy.stats import t as tdist\n",
    "rvT = tdist(n-1)\n",
    "t_05 = rvT.ppf(0.05)\n",
    "t_95 = rvT.ppf(0.95)\n",
    "[abar + t_05*asehat, abar + t_95*asehat]"
   ]
  },
  {
   "cell_type": "code",
   "execution_count": 15,
   "id": "9732828c-5d46-4f05-b4df-95481fa4f432",
   "metadata": {},
   "outputs": [
    {
     "data": {
      "text/plain": [
       "(196.82986523723363, 208.37013476276636)"
      ]
     },
     "execution_count": 15,
     "metadata": {},
     "output_type": "execute_result"
    }
   ],
   "source": [
    "# ALT. use the statsmodels function\n",
    "import statsmodels.stats.api as sms\n",
    "sms.DescrStatsW(asample).tconfint_mean(alpha=0.1)"
   ]
  },
  {
   "cell_type": "code",
   "execution_count": null,
   "id": "505aaf15-18e9-4ad8-82bb-06ce662d307c",
   "metadata": {},
   "outputs": [],
   "source": []
  },
  {
   "cell_type": "markdown",
   "id": "7ee0e59f-5d0a-4802-994a-2e68676060fe",
   "metadata": {},
   "source": [
    "#### Bootstrap confidence interval for the mean"
   ]
  },
  {
   "cell_type": "code",
   "execution_count": 16,
   "id": "5413cfde-9b7a-42d2-a310-1340052b5bcc",
   "metadata": {},
   "outputs": [
    {
     "data": {
      "text/plain": [
       "[197.23333333333332, 208.26666666666668]"
      ]
     },
     "execution_count": 16,
     "metadata": {},
     "output_type": "execute_result"
    }
   ],
   "source": [
    "np.random.seed(50)\n",
    "abars_boot = gen_boot_dist(asample, estfunc=mean)\n",
    "[np.percentile(abars_boot,5),\n",
    " np.percentile(abars_boot,95)]"
   ]
  },
  {
   "cell_type": "code",
   "execution_count": null,
   "id": "c0ffcdeb-8986-4f32-a8ca-99bcff904527",
   "metadata": {},
   "outputs": [],
   "source": []
  },
  {
   "cell_type": "code",
   "execution_count": 17,
   "id": "3dbf1ce8-d61f-493c-a16e-09c297eb1b05",
   "metadata": {},
   "outputs": [
    {
     "data": {
      "text/plain": [
       "[197.23333333333332, 208.23333333333332]"
      ]
     },
     "execution_count": 17,
     "metadata": {},
     "output_type": "execute_result"
    }
   ],
   "source": [
    "# ALT. use the `bootstrap` function from `scipy.stats`\n",
    "from scipy.stats import bootstrap\n",
    "\n",
    "np.random.seed(50)\n",
    "res = bootstrap((asample,), statistic=mean,\n",
    "                confidence_level=0.9, n_resamples=10000,\n",
    "                vectorized=False, method='percentile')\n",
    "[res.confidence_interval.low,\n",
    " res.confidence_interval.high]"
   ]
  },
  {
   "cell_type": "code",
   "execution_count": null,
   "id": "718057e5-d5bc-476a-a2b1-3f2f63e9c1cb",
   "metadata": {},
   "outputs": [],
   "source": []
  },
  {
   "cell_type": "code",
   "execution_count": null,
   "id": "5594bd57-5471-4755-a2cf-601612d4a59d",
   "metadata": {},
   "outputs": [],
   "source": [
    "#######################################################\n",
    "def ci_mean(sample, method=\"analytical\"):\n",
    "    ..."
   ]
  },
  {
   "cell_type": "code",
   "execution_count": null,
   "id": "18883e9b-4328-4666-be29-65f44f400456",
   "metadata": {},
   "outputs": [],
   "source": []
  },
  {
   "cell_type": "markdown",
   "id": "30c12ec5-ebad-41d8-840d-2a57dc41c15b",
   "metadata": {},
   "source": [
    "## Confidence interval for the population variance"
   ]
  },
  {
   "cell_type": "markdown",
   "id": "ea65d04a-bf4c-4cef-a41c-c5316b2a0cd2",
   "metadata": {},
   "source": [
    "### Example 2: confidence interval for the variance of apple weights"
   ]
  },
  {
   "cell_type": "code",
   "execution_count": 45,
   "id": "64451695-f7d1-465e-a372-068c7740d91e",
   "metadata": {},
   "outputs": [
    {
     "data": {
      "text/plain": [
       "(30, 345.9724137931035)"
      ]
     },
     "execution_count": 45,
     "metadata": {},
     "output_type": "execute_result"
    }
   ],
   "source": [
    "apples = pd.read_csv(\"../datasets/apples.csv\")\n",
    "asample = apples[\"weight\"]\n",
    "n = asample.count()\n",
    "s2 = var(asample)\n",
    "n,   s2"
   ]
  },
  {
   "cell_type": "code",
   "execution_count": 19,
   "id": "fc23a5d0-b72d-44fd-aca3-a688b77e7d53",
   "metadata": {},
   "outputs": [
    {
     "data": {
      "text/plain": [
       "[235.7592779198888, 566.5796548600426]"
      ]
     },
     "execution_count": 19,
     "metadata": {},
     "output_type": "execute_result"
    }
   ],
   "source": [
    "from scipy.stats import chi2\n",
    "rvX2 = chi2(n-1)\n",
    "x2_05 = rvX2.ppf(0.05)\n",
    "x2_95 = rvX2.ppf(0.95)\n",
    "[(n-1)*s2/x2_95, (n-1)*s2/x2_05]"
   ]
  },
  {
   "cell_type": "code",
   "execution_count": null,
   "id": "7b4f7329-e873-48b2-9903-b32a7a78e637",
   "metadata": {},
   "outputs": [],
   "source": []
  },
  {
   "cell_type": "markdown",
   "id": "95666c33-ad11-4b58-9377-639cb90b170d",
   "metadata": {},
   "source": [
    "#### Bootstrap confidence interval for the variance"
   ]
  },
  {
   "cell_type": "code",
   "execution_count": 20,
   "id": "d0a1c718-59ad-4421-9f8f-59dd6a1d34f9",
   "metadata": {},
   "outputs": [
    {
     "data": {
      "text/plain": [
       "[196.387816091954, 480.82183908046]"
      ]
     },
     "execution_count": 20,
     "metadata": {},
     "output_type": "execute_result"
    }
   ],
   "source": [
    "np.random.seed(53)\n",
    "avars_boot = gen_boot_dist(asample, estfunc=var)\n",
    "[np.percentile(avars_boot,5),\n",
    " np.percentile(avars_boot,95)]"
   ]
  },
  {
   "cell_type": "code",
   "execution_count": null,
   "id": "332ba387-70ee-4d9a-8c6e-70325db77cb7",
   "metadata": {},
   "outputs": [],
   "source": []
  },
  {
   "cell_type": "code",
   "execution_count": 21,
   "id": "db2b2e3d-59d9-4cd8-b4c8-7d56fd9a2daa",
   "metadata": {},
   "outputs": [
    {
     "data": {
      "text/plain": [
       "[196.7790229885057, 484.6086781609193]"
      ]
     },
     "execution_count": 21,
     "metadata": {},
     "output_type": "execute_result"
    }
   ],
   "source": [
    "# ALT. use the `bootstrap` function from `scipy.stats`\n",
    "from scipy.stats import bootstrap\n",
    "\n",
    "np.random.seed(53)\n",
    "res = bootstrap((asample,), statistic=var,\n",
    "                confidence_level=0.9, n_resamples=10000,\n",
    "                vectorized=False, method='percentile')\n",
    "[res.confidence_interval.low,\n",
    " res.confidence_interval.high]"
   ]
  },
  {
   "cell_type": "code",
   "execution_count": null,
   "id": "75ad4237-3966-45fc-b926-8854f0ad0bc3",
   "metadata": {},
   "outputs": [],
   "source": [
    "#######################################################\n",
    "def ci_var(sample, method=\"analytical\"):\n",
    "    ..."
   ]
  },
  {
   "cell_type": "code",
   "execution_count": null,
   "id": "3bc3074f-d35b-45d1-b4d0-12c46d2b5fd4",
   "metadata": {},
   "outputs": [],
   "source": []
  },
  {
   "cell_type": "markdown",
   "id": "92e31c38-0109-4d38-93e5-28fdf7f7337d",
   "metadata": {},
   "source": [
    "## Confidence interval for the difference between means"
   ]
  },
  {
   "cell_type": "code",
   "execution_count": null,
   "id": "8f7c475a-5f5d-4756-8680-2d9438c8f0c4",
   "metadata": {},
   "outputs": [],
   "source": [
    "\n"
   ]
  },
  {
   "cell_type": "markdown",
   "id": "b6fd7daa-e69e-4c0d-9852-3c7811bbde1b",
   "metadata": {},
   "source": [
    "### Example 3: confidence interval for difference in electricity prices"
   ]
  },
  {
   "cell_type": "code",
   "execution_count": 43,
   "id": "bc914471-36a2-48f9-8a82-6f09d814f741",
   "metadata": {},
   "outputs": [
    {
     "data": {
      "text/plain": [
       "'7.7,5.9,7.0,4.8,6.3,6.3,5.5,5.4,6.5'"
      ]
     },
     "execution_count": 43,
     "metadata": {},
     "output_type": "execute_result"
    }
   ],
   "source": [
    "eprices = pd.read_csv(\"../datasets/eprices.csv\")\n",
    "pricesW = eprices[eprices[\"end\"]==\"West\"][\"price\"]\n",
    "pricesE = eprices[eprices[\"end\"]==\"East\"][\"price\"]\n",
    "\",\".join(map(str,pricesE.values))"
   ]
  },
  {
   "cell_type": "code",
   "execution_count": 23,
   "id": "aedb1d76-9c43-475a-8d65-a910ba492432",
   "metadata": {},
   "outputs": [
    {
     "data": {
      "text/plain": [
       "(1.5621388471508475, 9, 0.8776547030454391, 9)"
      ]
     },
     "execution_count": 23,
     "metadata": {},
     "output_type": "execute_result"
    }
   ],
   "source": [
    "# sample size and std in West and East\n",
    "stdW, nW = pricesW.std(), pricesW.count()\n",
    "stdE, nE = pricesE.std(), pricesE.count()\n",
    "stdW, nW, stdE, nE"
   ]
  },
  {
   "cell_type": "code",
   "execution_count": 24,
   "id": "ecb42738-74c7-46cf-8243-d4c6081e037e",
   "metadata": {},
   "outputs": [
    {
     "data": {
      "text/plain": [
       "3.0"
      ]
     },
     "execution_count": 24,
     "metadata": {},
     "output_type": "execute_result"
    }
   ],
   "source": [
    "# center of the CI\n",
    "dhat = dmeans(pricesW, pricesE)\n",
    "dhat"
   ]
  },
  {
   "cell_type": "code",
   "execution_count": 25,
   "id": "c69b9f59-1293-4fd3-8871-bfd22a97bdc6",
   "metadata": {},
   "outputs": [
    {
     "data": {
      "text/plain": [
       "0.5972674401486562"
      ]
     },
     "execution_count": 25,
     "metadata": {},
     "output_type": "execute_result"
    }
   ],
   "source": [
    "# standard error\n",
    "seD = np.sqrt(stdW**2/nW + stdE**2/nE)\n",
    "seD"
   ]
  },
  {
   "cell_type": "code",
   "execution_count": 26,
   "id": "1cdcfafb-3ebd-40ba-aa95-6fc133bf1617",
   "metadata": {},
   "outputs": [
    {
     "data": {
      "text/plain": [
       "12.59281702723103"
      ]
     },
     "execution_count": 26,
     "metadata": {},
     "output_type": "execute_result"
    }
   ],
   "source": [
    "# degrees of freedom\n",
    "from stats_helpers import calcdf\n",
    "df = calcdf(stdW, nW, stdE, nE)\n",
    "df"
   ]
  },
  {
   "cell_type": "code",
   "execution_count": 27,
   "id": "4c3d9b24-bb78-4ef9-9d02-e8127f0c28bf",
   "metadata": {},
   "outputs": [
    {
     "data": {
      "text/plain": [
       "[1.9396575883681457, 4.060342411631854]"
      ]
     },
     "execution_count": 27,
     "metadata": {},
     "output_type": "execute_result"
    }
   ],
   "source": [
    "from scipy.stats import t as tdist\n",
    "rvT = tdist(df)\n",
    "t_05 = rvT.ppf(0.05)\n",
    "t_95 = rvT.ppf(0.95)\n",
    "\n",
    "[dhat + t_05*seD, dhat + t_95*seD]"
   ]
  },
  {
   "cell_type": "code",
   "execution_count": null,
   "id": "607143e3-2e62-449c-8ca1-480d1127c6cc",
   "metadata": {},
   "outputs": [],
   "source": []
  },
  {
   "cell_type": "code",
   "execution_count": 38,
   "id": "bdaa86f6-e19a-40d2-b085-41652c03ffca",
   "metadata": {},
   "outputs": [
    {
     "data": {
      "text/plain": [
       "(1.9396575883681464, 4.060342411631853)"
      ]
     },
     "execution_count": 38,
     "metadata": {},
     "output_type": "execute_result"
    }
   ],
   "source": [
    "# ALT1. using statsmodels\n",
    "import statsmodels.stats.api as sms\n",
    "statsW = sms.DescrStatsW(pricesW)\n",
    "statsE = sms.DescrStatsW(pricesE)\n",
    "cm = sms.CompareMeans(statsW, statsE)\n",
    "cm.tconfint_diff(alpha=0.1, usevar='unequal')"
   ]
  },
  {
   "cell_type": "code",
   "execution_count": null,
   "id": "4df212b0-e359-4a20-9159-d509d3d30f71",
   "metadata": {},
   "outputs": [],
   "source": []
  },
  {
   "cell_type": "code",
   "execution_count": 29,
   "id": "52e7620d-1afe-4fd2-9dd2-d26d28de7482",
   "metadata": {},
   "outputs": [
    {
     "data": {
      "text/plain": [
       "array([1.93965759, 4.06034241])"
      ]
     },
     "execution_count": 29,
     "metadata": {},
     "output_type": "execute_result"
    }
   ],
   "source": [
    "# ALT2. using pingouin\n",
    "import pingouin as pg\n",
    "res = pg.ttest(pricesW, pricesE, confidence=0.9, correction=True)\n",
    "res[\"CI90%\"].values[0]"
   ]
  },
  {
   "cell_type": "code",
   "execution_count": null,
   "id": "7fea1078-9650-41dd-bae1-9dc9587a0132",
   "metadata": {},
   "outputs": [],
   "source": []
  },
  {
   "cell_type": "code",
   "execution_count": null,
   "id": "0627f437-461d-4684-ae50-200623148956",
   "metadata": {},
   "outputs": [],
   "source": []
  },
  {
   "cell_type": "markdown",
   "id": "85104720-655c-40c2-9830-0f1f333f8481",
   "metadata": {},
   "source": [
    "#### Bootstrap confidence interval"
   ]
  },
  {
   "cell_type": "code",
   "execution_count": 30,
   "id": "df045afe-6d9a-4f18-aa04-d771c341da10",
   "metadata": {},
   "outputs": [
    {
     "data": {
      "text/plain": [
       "[2.0666666666666664, 3.933888888888892]"
      ]
     },
     "execution_count": 30,
     "metadata": {},
     "output_type": "execute_result"
    }
   ],
   "source": [
    "# compute bootstrap estimates for mean in each group\n",
    "np.random.seed(42)\n",
    "meanW_boot = gen_boot_dist(pricesW, estfunc=mean)\n",
    "meanE_boot = gen_boot_dist(pricesE, estfunc=mean)\n",
    "\n",
    "# compute the difference between means of bootstrap samples\n",
    "dmeans_boot = np.subtract(meanW_boot, meanE_boot)\n",
    "\n",
    "[np.percentile(dmeans_boot,5),\n",
    " np.percentile(dmeans_boot,95)]"
   ]
  },
  {
   "cell_type": "code",
   "execution_count": null,
   "id": "442d32d8-9854-4c5e-abd0-deef50534d56",
   "metadata": {},
   "outputs": [],
   "source": []
  },
  {
   "cell_type": "code",
   "execution_count": null,
   "id": "28a3c7dc-871b-4c77-b25b-f306623c2440",
   "metadata": {},
   "outputs": [],
   "source": [
    "#######################################################\n",
    "def ci_dmeans(xsample, ysample, method=\"analytical\"):\n",
    "    ..."
   ]
  },
  {
   "cell_type": "code",
   "execution_count": null,
   "id": "5414b0fb-c41f-4340-aeb3-11ca569b61e1",
   "metadata": {},
   "outputs": [],
   "source": []
  },
  {
   "cell_type": "markdown",
   "id": "70b98315-1136-41b0-bb79-1796f85108a9",
   "metadata": {},
   "source": [
    "## Verify coverage probabilities"
   ]
  },
  {
   "cell_type": "code",
   "execution_count": null,
   "id": "a87280d8-7dab-4f2b-8dd6-251a83d1a2a1",
   "metadata": {},
   "outputs": [],
   "source": [
    "N = 1000\n",
    "\n"
   ]
  },
  {
   "cell_type": "code",
   "execution_count": null,
   "id": "15ba3306-8a64-4cdd-b31b-8e10574e6c2d",
   "metadata": {},
   "outputs": [],
   "source": []
  },
  {
   "cell_type": "markdown",
   "id": "bae0f654-4ea8-4b67-97a8-f5eeac56fd38",
   "metadata": {},
   "source": [
    "## Explanations"
   ]
  },
  {
   "cell_type": "code",
   "execution_count": 1,
   "id": "6e772a81-af0c-4838-ab5d-929f8517ad8a",
   "metadata": {},
   "outputs": [],
   "source": [
    "### Point and interval estimates"
   ]
  },
  {
   "cell_type": "markdown",
   "id": "45473913-fddc-40e2-b774-8d636782d55f",
   "metadata": {},
   "source": [
    "### Frequentist interpretation\n",
    "\n",
    "Guarantees for confidence intervals given in terms of $\\mathbb{E}_\\mathbf{X}$, the expectation over a random sample $\\mathbf{X}$. These guarantees can be interpreted as long-term average error rates if the statistical procedure were performed many times (frequentist paradigm).\n",
    "Note in the frequentist paradigm gives no guarantee about any specific confidence interval—only gives guarantee about the performance of the procedure we used for computing the CIs."
   ]
  },
  {
   "cell_type": "markdown",
   "id": "e63a1caa-d079-4ee7-b9a9-c4f7684ac988",
   "metadata": {},
   "source": [
    "#### Simulation to check coverage of CIs for population mean\n",
    "\n"
   ]
  },
  {
   "cell_type": "code",
   "execution_count": null,
   "id": "cee61727-8ffb-4970-b452-04f25304b242",
   "metadata": {},
   "outputs": [],
   "source": []
  },
  {
   "cell_type": "markdown",
   "id": "477bdc6d-4895-442c-a74a-e94ef1dd5257",
   "metadata": {},
   "source": [
    "#### Simulation to check coverage of CIs for population variance\n",
    "\n"
   ]
  },
  {
   "cell_type": "code",
   "execution_count": null,
   "id": "2f3db54f-062d-4b09-9124-5e9575e5fc1f",
   "metadata": {},
   "outputs": [],
   "source": []
  },
  {
   "cell_type": "markdown",
   "id": "1ab22261-2f16-451a-a94d-25423ad30e6c",
   "metadata": {},
   "source": [
    "### Assumptions\n",
    "\n",
    "condensed mention of:    (full discussion of assumptions in Sec 3.4)\n",
    "Parametric model assumption (conceptual)  cf. nonparametric methods\n",
    "\n",
    "- (NORM): the population is normally distributed (normality test)\n",
    "- (LARGEn): the sample size is “large enough” for approximate normality\n",
    "- (EQVAR): the variance in two groups is the same\n"
   ]
  },
  {
   "cell_type": "code",
   "execution_count": null,
   "id": "e94d280e-07ae-4ba4-a3e2-d797a4c39ecc",
   "metadata": {},
   "outputs": [],
   "source": []
  },
  {
   "cell_type": "markdown",
   "id": "55903ffc-11fa-4bd0-bc36-756919b670ce",
   "metadata": {},
   "source": [
    "## Discussion"
   ]
  },
  {
   "cell_type": "markdown",
   "id": "ff6dee4c-ab05-42db-9186-395e4edfb227",
   "metadata": {},
   "source": [
    "### Comparing analytical formulas and bootstrap estimates\n"
   ]
  },
  {
   "cell_type": "code",
   "execution_count": null,
   "id": "b221347b-2f11-4bd8-98f9-9ce2f55cfb04",
   "metadata": {},
   "outputs": [],
   "source": []
  },
  {
   "cell_type": "markdown",
   "id": "d3a3dc8a-6816-49de-9fc0-d2e9ab2242ce",
   "metadata": {},
   "source": [
    "### Alternative bootstrap confidence intervals\n",
    "\n",
    "Mention more advanced bootstrap methods like BCa exist (--> see problem PZZ)"
   ]
  },
  {
   "cell_type": "code",
   "execution_count": 69,
   "id": "df59343a-67f3-43d9-9f19-2e53b416f296",
   "metadata": {},
   "outputs": [
    {
     "data": {
      "text/plain": [
       "[209.05314631209967, 507.2625697525476]"
      ]
     },
     "execution_count": 69,
     "metadata": {},
     "output_type": "execute_result"
    },
    {
     "data": {
      "image/png": "[encoded data removed]",
      "text/plain": [
       "<Figure size 1000x300 with 1 Axes>"
      ]
     },
     "metadata": {
      "image/png": {
       "height": 274,
       "width": 850
      }
     },
     "output_type": "display_data"
    }
   ],
   "source": [
    "# Parametric boostrap 1: assume normal model for the population\n",
    "avars_boot = gen_boot_dist(asample, estfunc=var)\n",
    "\n",
    "n = asample.count()\n",
    "abar = mean(asample)\n",
    "astd = std(asample)\n",
    "rvNS2 = norm(abar, astd)\n",
    "\n",
    "from stats_helpers import gen_sampling_dist\n",
    "avars_pboot1 = gen_sampling_dist(rvNS2, estfunc=var, n=n)\n",
    "\n",
    "sns.histplot(avars_pboot1, bins=30)\n",
    "\n",
    "[np.percentile(avars_pboot1,5),\n",
    " np.percentile(avars_pboot1,95)]"
   ]
  },
  {
   "cell_type": "code",
   "execution_count": 70,
   "id": "76ef43f9-2b5d-4c86-99ff-0c1ed732e386",
   "metadata": {},
   "outputs": [
    {
     "data": {
      "text/plain": [
       "[210.33357410710911, 506.8653582525075]"
      ]
     },
     "execution_count": 70,
     "metadata": {},
     "output_type": "execute_result"
    },
    {
     "data": {
      "image/png": "[encoded data removed]",
      "text/plain": [
       "<Figure size 1000x300 with 1 Axes>"
      ]
     },
     "metadata": {
      "image/png": {
       "height": 274,
       "width": 850
      }
     },
     "output_type": "display_data"
    }
   ],
   "source": [
    "# Parametric boostrap 2: direct modelling of var using scaled chi-square model\n",
    "# This is a random idea based on Example 4 in cut_material/discovering_estimator_formulas.tex\n",
    "avars_boot = gen_boot_dist(asample, estfunc=var)\n",
    "\n",
    "n = asample.count()\n",
    "df = n-1\n",
    "scale = var(asample) / (n-1)\n",
    "\n",
    "from scipy.stats import chi2\n",
    "rvS2 = chi2(df=df, scale=scale)\n",
    "\n",
    "from stats_helpers import gen_sampling_dist\n",
    "avars_pboot2 = rvS2.rvs(10000)\n",
    "\n",
    "sns.histplot(avars_pboot2, bins=30)\n",
    "\n",
    "[np.percentile(avars_pboot2,5),\n",
    " np.percentile(avars_pboot2,95)]"
   ]
  },
  {
   "cell_type": "code",
   "execution_count": 67,
   "id": "348f9711-9ee3-40a8-a75b-d6a03cd8dacc",
   "metadata": {},
   "outputs": [
    {
     "data": {
      "text/plain": [
       "[207.33614942528772, 495.1658045977013]"
      ]
     },
     "execution_count": 67,
     "metadata": {},
     "output_type": "execute_result"
    },
    {
     "data": {
      "image/png": "[encoded data removed]",
      "text/plain": [
       "<Figure size 1000x300 with 1 Axes>"
      ]
     },
     "metadata": {
      "image/png": {
       "height": 274,
       "width": 844
      }
     },
     "output_type": "display_data"
    }
   ],
   "source": [
    "# Basic bootstrap (a.k.a. reversed)\n",
    "from scipy.stats import bootstrap\n",
    "\n",
    "np.random.seed(53)\n",
    "res = bootstrap((asample,), statistic=var,\n",
    "                confidence_level=0.9, n_resamples=10000,\n",
    "                vectorized=False, method='basic')\n",
    "\n",
    "sns.histplot(res.bootstrap_distribution, bins=30)\n",
    "\n",
    "[res.confidence_interval.low,\n",
    " res.confidence_interval.high]"
   ]
  },
  {
   "cell_type": "code",
   "execution_count": 68,
   "id": "bbccaeb7-0e99-4e48-823f-fee58a0bbad6",
   "metadata": {},
   "outputs": [
    {
     "data": {
      "text/plain": [
       "[232.2572752146944, 540.9365165895359]"
      ]
     },
     "execution_count": 68,
     "metadata": {},
     "output_type": "execute_result"
    },
    {
     "data": {
      "image/png": "[encoded data removed]",
      "text/plain": [
       "<Figure size 1000x300 with 1 Axes>"
      ]
     },
     "metadata": {
      "image/png": {
       "height": 274,
       "width": 844
      }
     },
     "output_type": "display_data"
    }
   ],
   "source": [
    "# BCa = Bias-Corrected accelerated\n",
    "from scipy.stats import bootstrap\n",
    "\n",
    "np.random.seed(53)\n",
    "res = bootstrap((asample,), statistic=var,\n",
    "                confidence_level=0.9, n_resamples=10000,\n",
    "                vectorized=False, method='bca')\n",
    "\n",
    "sns.histplot(res.bootstrap_distribution, bins=30)\n",
    "\n",
    "[res.confidence_interval.low,\n",
    " res.confidence_interval.high]"
   ]
  },
  {
   "cell_type": "markdown",
   "id": "03c0a671-159e-4fbc-a8d4-03caea5081b9",
   "metadata": {},
   "source": [
    "Very close to the analytical approximation we obtained\n",
    "in terms of the chi-square reference distribution $[235.8, 566.6]$."
   ]
  },
  {
   "cell_type": "code",
   "execution_count": null,
   "id": "ef8d8b1b-c4c0-4785-9a67-06bb1358330f",
   "metadata": {},
   "outputs": [],
   "source": []
  },
  {
   "cell_type": "markdown",
   "id": "fbd031d5-4329-493b-bec2-0e9eaec86fb5",
   "metadata": {},
   "source": [
    "### Factors that influence confidence intervals\n",
    "\n",
    "- n\n",
    "- model\n",
    "- estimator\n"
   ]
  },
  {
   "cell_type": "code",
   "execution_count": null,
   "id": "799fe446-c369-4741-9995-8464bc898e68",
   "metadata": {},
   "outputs": [],
   "source": []
  },
  {
   "cell_type": "markdown",
   "id": "adba3c87-19fc-4f40-9eec-56528067cf1c",
   "metadata": {},
   "source": [
    "## CUT MATERIAL "
   ]
  },
  {
   "cell_type": "code",
   "execution_count": null,
   "id": "935850df-c9b0-47bd-af8f-84068317f92e",
   "metadata": {},
   "outputs": [],
   "source": [
    "xsample = [1,2,3,4,5,6,7]\n",
    "n = len(xsample)\n",
    "xbar = mean(xsample) \n",
    "sehat = std(xsample) / np.sqrt(n)\n",
    "\n",
    "from scipy.stats import t as tdist\n",
    "rvTXbar = tdist(df=n-1, loc=xbar, scale=sehat)\n",
    "[rvTXbar.ppf(0.05), rvTXbar.ppf(0.95)]"
   ]
  }
 ],
 "metadata": {
  "kernelspec": {
   "display_name": "Python 3 (ipykernel)",
   "language": "python",
   "name": "python3"
  },
  "language_info": {
   "codemirror_mode": {
    "name": "ipython",
    "version": 3
   },
   "file_extension": ".py",
   "mimetype": "text/x-python",
   "name": "python",
   "nbconvert_exporter": "python",
   "pygments_lexer": "ipython3",
   "version": "3.9.4"
  }
 },
 "nbformat": 4,
 "nbformat_minor": 5
}
