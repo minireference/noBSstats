{
 "cells": [
  {
   "cell_type": "markdown",
   "id": "b73f3d18-88c7-499d-90a3-dd6954247cf3",
   "metadata": {
    "tags": []
   },
   "source": [
    "# Section 3.2 — Confidence intervals\n",
    "\n",
    "This notebook contains the code examples from [Section 3.2 Confidence intervals]() of the **No Bullshit Guide to Statistics**. Use the \"rocket\" icon at the top-right to make the code cells interactive (Live Code), or run this notebook an ephemeral JupyterLab cloud instance (Binder)."
   ]
  },
  {
   "cell_type": "markdown",
   "id": "efce8e91-8824-4103-a526-02e23c794668",
   "metadata": {
    "tags": []
   },
   "source": [
    "#### Notebook setup"
   ]
  },
  {
   "cell_type": "code",
   "execution_count": 1,
   "id": "990de07d-c26f-4a29-935a-2b1dacc89b34",
   "metadata": {},
   "outputs": [],
   "source": [
    "# load Python modules\n",
    "import os\n",
    "import numpy as np\n",
    "import pandas as pd\n",
    "import seaborn as sns\n",
    "import matplotlib.pyplot as plt"
   ]
  },
  {
   "cell_type": "code",
   "execution_count": 2,
   "id": "9c117451-42db-4542-81a7-7b47b02686e1",
   "metadata": {},
   "outputs": [],
   "source": [
    "# Plot helper functions\n",
    "from ministats import plot_pdf"
   ]
  },
  {
   "cell_type": "code",
   "execution_count": 3,
   "id": "3209c5be-cb6a-42c0-8bf8-949a4fc0ff39",
   "metadata": {},
   "outputs": [
    {
     "data": {
      "text/plain": [
       "<Figure size 640x480 with 0 Axes>"
      ]
     },
     "metadata": {},
     "output_type": "display_data"
    }
   ],
   "source": [
    "# Figures setup\n",
    "plt.clf()  # needed otherwise `sns.set_theme` doesn't work\n",
    "from plot_helpers import RCPARAMS\n",
    "RCPARAMS.update({'figure.figsize': (10, 3)})   # good for screen\n",
    "# RCPARAMS.update({'figure.figsize': (5, 1.6)})  # good for print\n",
    "sns.set_theme(\n",
    "    context=\"paper\",\n",
    "    style=\"whitegrid\",\n",
    "    palette=\"colorblind\",\n",
    "    rc=RCPARAMS,\n",
    ")\n",
    "\n",
    "# High-resolution please\n",
    "%config InlineBackend.figure_format = 'retina'\n",
    "\n",
    "# Where to store figures\n",
    "DESTDIR = \"figures/stats/confidence_intervals\""
   ]
  },
  {
   "cell_type": "code",
   "execution_count": 4,
   "id": "df22d8d7-6814-4c3b-a3d3-2f31ab6b2f3b",
   "metadata": {},
   "outputs": [],
   "source": [
    "# simple float __repr__\n",
    "np.set_printoptions(legacy='1.25')\n",
    "\n",
    "# set random seed for repeatability\n",
    "np.random.seed(42)"
   ]
  },
  {
   "cell_type": "markdown",
   "id": "9ee8aad0-01a7-4aff-819f-9de0d15d52c3",
   "metadata": {},
   "source": [
    "$\\def\\stderr#1{\\mathbf{se}_{#1}}$\n",
    "$\\def\\stderrhat#1{\\hat{\\mathbf{se}}_{#1}}$\n",
    "$\\newcommand{\\Mean}{\\textbf{Mean}}$\n",
    "$\\newcommand{\\Var}{\\textbf{Var}}$\n",
    "$\\newcommand{\\Std}{\\textbf{Std}}$\n",
    "$\\newcommand{\\Freq}{\\textbf{Freq}}$\n",
    "$\\newcommand{\\RelFreq}{\\textbf{RelFreq}}$\n",
    "$\\newcommand{\\DMeans}{\\textbf{DMeans}}$\n",
    "$\\newcommand{\\Prop}{\\textbf{Prop}}$\n",
    "$\\newcommand{\\DProps}{\\textbf{DProps}}$\n",
    "\n",
    "$$\n",
    "\\newcommand{\\CI}[1]{\\textbf{CI}_{#1}}\n",
    "\\newcommand{\\CIL}[1]{\\textbf{L}_{#1}}\n",
    "\\newcommand{\\CIU}[1]{\\textbf{U}_{#1}}\n",
    "\\newcommand{\\ci}[1]{\\textbf{ci}_{#1}}\n",
    "\\newcommand{\\cil}[1]{\\textbf{l}_{#1}}\n",
    "\\newcommand{\\ciu}[1]{\\textbf{u}_{#1}}\n",
    "$$\n",
    "\n",
    "\n",
    "(this cell contains the macro definitions like $\\stderr{\\overline{\\mathbf{x}}}$, $\\stderrhat{}$, $\\Mean$, ...)"
   ]
  },
  {
   "cell_type": "markdown",
   "id": "8804a09a-f4ad-4ff6-a449-1ee3ee3431aa",
   "metadata": {},
   "source": [
    "## Definitions\n",
    "\n"
   ]
  },
  {
   "cell_type": "markdown",
   "id": "a1bf2a92-b549-4964-8970-0c8c7fedab26",
   "metadata": {},
   "source": [
    "### Review of estimators\n",
    "\n",
    "Recall all the estimators (functions that take samples as inputs) we defined in the previous section."
   ]
  },
  {
   "cell_type": "code",
   "execution_count": 5,
   "id": "9b1b521e-fc25-4278-8573-14986d326423",
   "metadata": {},
   "outputs": [],
   "source": [
    "def mean(sample):\n",
    "    return sum(sample) / len(sample)\n",
    "\n",
    "def var(sample):\n",
    "    xbar = mean(sample)\n",
    "    sumsqdevs = sum([(xi-xbar)**2 for xi in sample])\n",
    "    return sumsqdevs / (len(sample)-1)\n",
    "\n",
    "def std(sample):\n",
    "    s2 = var(sample)\n",
    "    return np.sqrt(s2)\n",
    "\n",
    "def dmeans(xsample, ysample):\n",
    "    dhat = mean(xsample) - mean(ysample)\n",
    "    return dhat"
   ]
  },
  {
   "cell_type": "markdown",
   "id": "c377cc41-d81f-4978-b735-845dc158ec71",
   "metadata": {},
   "source": [
    "### Interpreting confidence intervals\n",
    "\n",
    "\n",
    "Illustration of 90% confidence intervals for the population mean.\n",
    "The plot shows confidence intervals \n",
    "$\\ci{\\theta,0.9,1}$, $\\ci{\\theta,0.9,2}$, $\\ci{\\theta,0.9,3}$, $\\ldots$,\n",
    "$\\ci{\\theta,0.9,50}$,\n",
    "which we computed from 50 different samples\n",
    "of size $n=20$ taken from the population $X \\sim \\mathcal{N}(100,10)$.\n",
    "The true population mean is $\\mu_X = 100$.\n",
    "Intervals that don't include $\\mu_X$ are drawn in light red.\n",
    "      \n",
    "![](./attachments/confidence_intervals_mean_rvX_n20.png)"
   ]
  },
  {
   "cell_type": "markdown",
   "id": "ed5f2ae6-914b-4698-a536-6cfb1ba8bb30",
   "metadata": {},
   "source": [
    "## Confidence interval constructions\n",
    "\n",
    "Ingredients:\n",
    "\n",
    "- knowledge of the sampling distribution $\\widehat{\\Theta}$ of the estimator\n",
    "- knowledge of the inverse cumulative distribution function (inverse-CDF)\n",
    "  of the sampling distributions $F^{-1}_{\\widehat{\\Theta}}$\n",
    "\n",
    "\n",
    "Procedure:\n",
    "\n",
    "- calculate the $\\tfrac{\\alpha}{2}$-quantile, \n",
    "  $F^{-1}_{\\widehat{\\Theta}}(\\tfrac{\\alpha}{2})$,\n",
    "  and the $(1-\\tfrac{\\alpha}{2})$-quantile,\n",
    "  $F^{-1}_{\\widehat{\\Theta}}(1-\\tfrac{\\alpha}{2})$\n",
    "  of the sampling distribution\n",
    "- use a pivotal quantity to convert the quantiles of the sampling distribution\n",
    "  and obtain the lower bound and upper bounds of the confidence interval\n",
    "\n",
    "\n",
    "Recall the two methods for approximating sampling distributions:\n",
    "analytical approximation formulas (based on probability distributions)\n",
    "and the bootstrap estimation procedure (based on computation),\n",
    "which we learned in [Section 3.1](./31_estimators.ipynb).\n",
    "We'll now learn how to compute confidence intervals based on these approximation methods."
   ]
  },
  {
   "cell_type": "markdown",
   "id": "a206431c-b7b9-4222-95b4-3648a5e43652",
   "metadata": {},
   "source": [
    "### Bootstrap confidence intervals"
   ]
  },
  {
   "cell_type": "code",
   "execution_count": 6,
   "id": "f09b1d63-e143-428a-97e5-5d9a1864a5c5",
   "metadata": {},
   "outputs": [
    {
     "data": {
      "text/plain": [
       "3.0"
      ]
     },
     "execution_count": 6,
     "metadata": {},
     "output_type": "execute_result"
    }
   ],
   "source": [
    "np.random.seed(42)\n",
    "xsample = [1,2,3,4,5]\n",
    "mean(xsample)"
   ]
  },
  {
   "cell_type": "code",
   "execution_count": 7,
   "id": "867d95b8-bf61-4410-bc4d-172fb110343d",
   "metadata": {},
   "outputs": [
    {
     "data": {
      "text/plain": [
       "[4.4, 3.2, 3.6, 3.2, 2.6]"
      ]
     },
     "execution_count": 7,
     "metadata": {},
     "output_type": "execute_result"
    }
   ],
   "source": [
    "from ministats import gen_boot_dist\n",
    "xbars_boot = gen_boot_dist(xsample, estfunc=mean, B=100)\n",
    "xbars_boot[0:5]  # first five bootstrap means"
   ]
  },
  {
   "cell_type": "code",
   "execution_count": 8,
   "id": "bde49404-ab5f-4a16-af5f-7171c9d1afb9",
   "metadata": {},
   "outputs": [
    {
     "data": {
      "text/plain": [
       "[1.8, 4.2]"
      ]
     },
     "execution_count": 8,
     "metadata": {},
     "output_type": "execute_result"
    }
   ],
   "source": [
    "[np.percentile(xbars_boot,5),\n",
    " np.percentile(xbars_boot,95)]"
   ]
  },
  {
   "cell_type": "code",
   "execution_count": 9,
   "id": "b4de9937-e298-432b-a0e1-9b6309b68efc",
   "metadata": {},
   "outputs": [
    {
     "data": {
      "text/plain": [
       "[1.8, 4.2]"
      ]
     },
     "execution_count": 9,
     "metadata": {},
     "output_type": "execute_result"
    }
   ],
   "source": [
    "[np.quantile(xbars_boot,0.05),\n",
    " np.quantile(xbars_boot,0.95)]"
   ]
  },
  {
   "cell_type": "markdown",
   "id": "192ead41-4d8e-4f42-9721-6113f06b337c",
   "metadata": {},
   "source": [
    "### Analytical approximations\n",
    "\n",
    "$$\n",
    "    z_\\ell = F_{Z}^{-1}(\\tfrac{\\alpha}{2})\n",
    "    \\qquad \\text{and} \\qquad\n",
    "    z_u = F_{Z}^{-1}(1-\\tfrac{\\alpha}{2}).\n",
    "$$"
   ]
  },
  {
   "cell_type": "code",
   "execution_count": 10,
   "id": "22230786-20a5-44f1-aa1e-6aea59e6bd73",
   "metadata": {},
   "outputs": [
    {
     "data": {
      "text/plain": [
       "1.644853626951472"
      ]
     },
     "execution_count": 10,
     "metadata": {},
     "output_type": "execute_result"
    }
   ],
   "source": [
    "from scipy.stats import norm\n",
    "\n",
    "rvZ = norm(loc=0, scale=1)\n",
    "z_u = rvZ.ppf(0.95)\n",
    "z_u"
   ]
  },
  {
   "cell_type": "code",
   "execution_count": 11,
   "id": "06cbc68f-6076-47e9-9edd-68ff36e0cacd",
   "metadata": {},
   "outputs": [
    {
     "data": {
      "text/plain": [
       "1.644853626951472"
      ]
     },
     "execution_count": 11,
     "metadata": {},
     "output_type": "execute_result"
    }
   ],
   "source": [
    "rvZ = norm(0, 1)\n",
    "z_u = rvZ.ppf(0.95)\n",
    "z_u"
   ]
  },
  {
   "cell_type": "markdown",
   "id": "78ebc7ef-30df-47c3-85fa-cad7b8ebf976",
   "metadata": {},
   "source": [
    "#### Default parameters"
   ]
  },
  {
   "cell_type": "code",
   "execution_count": 12,
   "id": "ade1892b-eda2-47ed-8772-2796bac9cc6a",
   "metadata": {},
   "outputs": [
    {
     "data": {
      "text/plain": [
       "1.644853626951472"
      ]
     },
     "execution_count": 12,
     "metadata": {},
     "output_type": "execute_result"
    }
   ],
   "source": [
    "rvZ = norm()\n",
    "z_u = rvZ.ppf(0.95)\n",
    "z_u"
   ]
  },
  {
   "cell_type": "markdown",
   "id": "7a38818e-0852-4385-8f48-70adf98625b9",
   "metadata": {},
   "source": [
    "#### Class methods"
   ]
  },
  {
   "cell_type": "code",
   "execution_count": 13,
   "id": "06e31f0c-18a6-4af3-8b5c-ac1b953696ad",
   "metadata": {},
   "outputs": [
    {
     "data": {
      "text/plain": [
       "1.644853626951472"
      ]
     },
     "execution_count": 13,
     "metadata": {},
     "output_type": "execute_result"
    }
   ],
   "source": [
    "z_u = norm.ppf(0.95, loc=0, scale=1)\n",
    "z_u"
   ]
  },
  {
   "cell_type": "code",
   "execution_count": 14,
   "id": "1641ff00-8d37-4775-b87b-2aab41e1df5d",
   "metadata": {},
   "outputs": [
    {
     "data": {
      "text/plain": [
       "1.644853626951472"
      ]
     },
     "execution_count": 14,
     "metadata": {},
     "output_type": "execute_result"
    }
   ],
   "source": [
    "z_u = norm.ppf(0.95)\n",
    "z_u"
   ]
  },
  {
   "cell_type": "markdown",
   "id": "e37721cb-ec95-4bc1-95e5-82ad9d27706f",
   "metadata": {},
   "source": [
    "#### Construct 90% confidence interval for the Z distribution"
   ]
  },
  {
   "cell_type": "code",
   "execution_count": 15,
   "id": "2294d702-d860-44f8-803e-f8f26aafc9f7",
   "metadata": {},
   "outputs": [
    {
     "data": {
      "text/plain": [
       "[-1.6448536269514729, 1.644853626951472]"
      ]
     },
     "execution_count": 15,
     "metadata": {},
     "output_type": "execute_result"
    }
   ],
   "source": [
    "alpha = 0.1\n",
    "z_l = norm.ppf(alpha/2)\n",
    "z_u = norm.ppf(1-alpha/2)\n",
    "[z_l, z_u]"
   ]
  },
  {
   "cell_type": "markdown",
   "id": "c3fdc7d1-7367-43d9-a9b9-899f692710d5",
   "metadata": {},
   "source": [
    "#### Other standard reference distributions\n",
    "\n",
    "Just call class method, since by default `loc=0` and `scale=1`."
   ]
  },
  {
   "cell_type": "code",
   "execution_count": 16,
   "id": "1267b9a2-2c2b-451a-8ed6-c63039c7d59f",
   "metadata": {},
   "outputs": [
    {
     "data": {
      "text/plain": [
       "1.9431802805153022"
      ]
     },
     "execution_count": 16,
     "metadata": {},
     "output_type": "execute_result"
    }
   ],
   "source": [
    "# 95th percentile of the t distribution\n",
    "from scipy.stats import t as tdist\n",
    "rvT = tdist(df=6, loc=0, scale=1)\n",
    "rvT.ppf(0.95)"
   ]
  },
  {
   "cell_type": "code",
   "execution_count": 17,
   "id": "3c3ab679-29d4-4bbb-bcb3-21e6d1eab15d",
   "metadata": {},
   "outputs": [
    {
     "data": {
      "text/plain": [
       "12.591587243743977"
      ]
     },
     "execution_count": 17,
     "metadata": {},
     "output_type": "execute_result"
    }
   ],
   "source": [
    "# 95th percentile of the chi-square distribution\n",
    "from scipy.stats import chi2\n",
    "rvQ = chi2(df=6, loc=0, scale=1)\n",
    "rvQ.ppf(0.95)"
   ]
  },
  {
   "cell_type": "markdown",
   "id": "be83782d-7e0e-41cb-932c-a64bdf286eb8",
   "metadata": {},
   "source": [
    "## Confidence interval for the population mean\n",
    "\n",
    "$$\n",
    "    T = \\frac{\\overline{\\mathbf{X}} - \\mu_X}{ \\stderrhat{\\overline{\\mathbf{x}}} }\n",
    "    \\sim \\mathcal{T}(n-1).\n",
    "$$\n",
    "\n",
    "To build a $(1-\\alpha)$ confidence interval,\n",
    "we first calculate the $\\frac{\\alpha}{2}$ and $(1-\\frac{\\alpha}{2})$ quantiles of Student's $t$-distribution:\n",
    "\n",
    "$$\n",
    "    t_\\ell = F_{T}^{-1}(\\tfrac{\\alpha}{2})\n",
    "    \\qquad \\text{and} \\qquad\n",
    "    t_u = F_{T}^{-1}(1-\\tfrac{\\alpha}{2}).\n",
    "$$"
   ]
  },
  {
   "cell_type": "markdown",
   "id": "8e77d959-17fe-4326-8c45-e0b4b88ba2e8",
   "metadata": {},
   "source": [
    "### Example 1: confidence interval for the mean apple weight"
   ]
  },
  {
   "cell_type": "code",
   "execution_count": 18,
   "id": "19f03cfe-53c5-4628-8e56-d86d0c904de0",
   "metadata": {},
   "outputs": [
    {
     "data": {
      "text/plain": [
       "array([205., 182., 192., 189., 217., 192., 210., 240., 225., 191., 193.,\n",
       "       209., 167., 183., 210., 198., 239., 188., 179., 182., 200., 197.,\n",
       "       245., 192., 201., 218., 198., 211., 208., 217.])"
      ]
     },
     "execution_count": 18,
     "metadata": {},
     "output_type": "execute_result"
    }
   ],
   "source": [
    "apples = pd.read_csv(\"../datasets/apples.csv\")\n",
    "asample = apples[\"weight\"]\n",
    "asample.values"
   ]
  },
  {
   "cell_type": "markdown",
   "id": "97645188-8d17-44b0-af22-7255a52d9612",
   "metadata": {},
   "source": [
    "The sample mean is:"
   ]
  },
  {
   "cell_type": "code",
   "execution_count": 19,
   "id": "bfaf64ae-ae1c-4bb3-bb43-735db3e5a614",
   "metadata": {},
   "outputs": [
    {
     "data": {
      "text/plain": [
       "202.6"
      ]
     },
     "execution_count": 19,
     "metadata": {},
     "output_type": "execute_result"
    }
   ],
   "source": [
    "abar = mean(asample)\n",
    "abar"
   ]
  },
  {
   "cell_type": "markdown",
   "id": "b24ff734-d4ad-4162-834c-8a6fb2ef9fd4",
   "metadata": {},
   "source": [
    "#### Analytical confidence interval for the mean"
   ]
  },
  {
   "cell_type": "code",
   "execution_count": 20,
   "id": "7e44c422-b1d5-4a6b-a2e4-fc6258c6b142",
   "metadata": {},
   "outputs": [
    {
     "data": {
      "text/plain": [
       "(30, 202.6, 3.3959407817427336)"
      ]
     },
     "execution_count": 20,
     "metadata": {},
     "output_type": "execute_result"
    }
   ],
   "source": [
    "n = asample.count()\n",
    "asehat = std(asample) / np.sqrt(n)\n",
    "n,   abar,  asehat"
   ]
  },
  {
   "cell_type": "code",
   "execution_count": 21,
   "id": "727f3e94-c318-49d6-87a3-5cd87760e6ce",
   "metadata": {},
   "outputs": [
    {
     "data": {
      "text/plain": [
       "[196.82986523723363, 208.37013476276636]"
      ]
     },
     "execution_count": 21,
     "metadata": {},
     "output_type": "execute_result"
    }
   ],
   "source": [
    "from scipy.stats import t as tdist\n",
    "rvT = tdist(df=n-1)\n",
    "t_05 = rvT.ppf(0.05)\n",
    "t_95 = rvT.ppf(0.95)\n",
    "[abar + t_05*asehat, abar + t_95*asehat]"
   ]
  },
  {
   "cell_type": "markdown",
   "id": "4520eef9-8d79-456b-ab6e-7b6617282d90",
   "metadata": {},
   "source": [
    "We would normally report this interval as $[197, 208]$ without too many decimals."
   ]
  },
  {
   "cell_type": "markdown",
   "id": "7ee0e59f-5d0a-4802-994a-2e68676060fe",
   "metadata": {},
   "source": [
    "#### Bootstrap confidence interval for the mean"
   ]
  },
  {
   "cell_type": "code",
   "execution_count": 22,
   "id": "5413cfde-9b7a-42d2-a310-1340052b5bcc",
   "metadata": {},
   "outputs": [
    {
     "data": {
      "text/plain": [
       "[197.23333333333332, 208.26666666666668]"
      ]
     },
     "execution_count": 22,
     "metadata": {},
     "output_type": "execute_result"
    }
   ],
   "source": [
    "np.random.seed(50)\n",
    "\n",
    "# generate the bootstrap distribution of the mean\n",
    "abars_boot = gen_boot_dist(asample, estfunc=mean)\n",
    "\n",
    "# construct the confidence interval\n",
    "[np.percentile(abars_boot,5),\n",
    " np.percentile(abars_boot,95)]"
   ]
  },
  {
   "cell_type": "markdown",
   "id": "51a32242-05db-4980-9e77-1a7fc7225a47",
   "metadata": {},
   "source": [
    "### Reusable procedure"
   ]
  },
  {
   "cell_type": "code",
   "execution_count": 23,
   "id": "5594bd57-5471-4755-a2cf-601612d4a59d",
   "metadata": {},
   "outputs": [],
   "source": [
    "def ci_mean(sample, alpha=0.1, method=\"a\"):\n",
    "    \"\"\"\n",
    "    Compute confidence interval for the population mean.\n",
    "    - method=\"a\" analytical approx. based on Student's t-dist\n",
    "    - method=\"b\" approx. based on bootstrap estimation\n",
    "    \"\"\"\n",
    "    assert method in [\"a\", \"b\"]\n",
    "    if method == \"a\":        # analytical approximation\n",
    "        from scipy.stats import t as tdist\n",
    "        n = len(sample)\n",
    "        xbar = np.mean(sample)\n",
    "        sehat = np.std(sample, ddof=1) / np.sqrt(n)\n",
    "        t_l = tdist(df=n-1).ppf(alpha/2)\n",
    "        t_u = tdist(df=n-1).ppf(1-alpha/2)\n",
    "        return [xbar + t_l*sehat, xbar + t_u*sehat]\n",
    "    elif method == \"b\":          # bootstrap estimation\n",
    "        xbars_boot = gen_boot_dist(sample, estfunc=mean)\n",
    "        return [np.quantile(xbars_boot, alpha/2),\n",
    "                np.quantile(xbars_boot, 1-alpha/2)]\n",
    "\n",
    "# ALT.\n",
    "# from ministats import ci_mean"
   ]
  },
  {
   "cell_type": "markdown",
   "id": "00167401-7f22-4e8f-b652-c3a64ba5c9ee",
   "metadata": {},
   "source": [
    "### Verify coverage probability"
   ]
  },
  {
   "cell_type": "code",
   "execution_count": 24,
   "id": "a87280d8-7dab-4f2b-8dd6-251a83d1a2a1",
   "metadata": {},
   "outputs": [
    {
     "name": "stdout",
     "output_type": "stream",
     "text": [
      "Coverage proportion of analytical approx. CIs: 0.89\n",
      "Coverage proportion of bootstrap CIs: 0.86\n"
     ]
    }
   ],
   "source": [
    "np.random.seed(42)\n",
    "\n",
    "N = 100  # change to N=1000 for more accuracy\n",
    "n = 20\n",
    "\n",
    "from scipy.stats import norm\n",
    "muK = 1000\n",
    "sigmaK = 10\n",
    "rvK = norm(muK, sigmaK)\n",
    "\n",
    "acount, bcount = 0, 0\n",
    "for j in range(0, N):\n",
    "    ksample = rvK.rvs(n)\n",
    "    cia = ci_mean(ksample, alpha=0.1, method=\"a\")\n",
    "    if cia[0] <= muK <= cia[1]:\n",
    "        acount += 1\n",
    "    cib = ci_mean(ksample, alpha=0.1, method=\"b\")\n",
    "    if cib[0] <= muK <= cib[1]:\n",
    "        bcount += 1\n",
    "\n",
    "print(\"Coverage proportion of analytical approx. CIs:\", acount/N)\n",
    "print(\"Coverage proportion of bootstrap CIs:\", bcount/N)"
   ]
  },
  {
   "cell_type": "markdown",
   "id": "30c12ec5-ebad-41d8-840d-2a57dc41c15b",
   "metadata": {},
   "source": [
    "## Confidence interval for the population variance"
   ]
  },
  {
   "cell_type": "markdown",
   "id": "ea65d04a-bf4c-4cef-a41c-c5316b2a0cd2",
   "metadata": {},
   "source": [
    "### Example 2: confidence interval for the variance of apple weights"
   ]
  },
  {
   "cell_type": "code",
   "execution_count": 25,
   "id": "64451695-f7d1-465e-a372-068c7740d91e",
   "metadata": {},
   "outputs": [
    {
     "data": {
      "text/plain": [
       "(30, 345.9724137931035)"
      ]
     },
     "execution_count": 25,
     "metadata": {},
     "output_type": "execute_result"
    }
   ],
   "source": [
    "apples = pd.read_csv(\"../datasets/apples.csv\")\n",
    "asample = apples[\"weight\"]\n",
    "n = asample.count()\n",
    "s2 = var(asample)\n",
    "n,   s2"
   ]
  },
  {
   "cell_type": "code",
   "execution_count": 26,
   "id": "fc23a5d0-b72d-44fd-aca3-a688b77e7d53",
   "metadata": {},
   "outputs": [
    {
     "data": {
      "text/plain": [
       "[235.75927791988897, 566.5796548600426]"
      ]
     },
     "execution_count": 26,
     "metadata": {},
     "output_type": "execute_result"
    }
   ],
   "source": [
    "from scipy.stats import chi2\n",
    "rvX2 = chi2(df=n-1, loc=0, scale=1)\n",
    "q_05 = rvX2.ppf(0.05)\n",
    "q_95 = rvX2.ppf(0.95)\n",
    "[(n-1)*s2/q_95, (n-1)*s2/q_05]"
   ]
  },
  {
   "cell_type": "markdown",
   "id": "95666c33-ad11-4b58-9377-639cb90b170d",
   "metadata": {},
   "source": [
    "#### Bootstrap confidence interval for the variance"
   ]
  },
  {
   "cell_type": "code",
   "execution_count": 27,
   "id": "d0a1c718-59ad-4421-9f8f-59dd6a1d34f9",
   "metadata": {},
   "outputs": [
    {
     "data": {
      "text/plain": [
       "[196.387816091954, 480.82183908046]"
      ]
     },
     "execution_count": 27,
     "metadata": {},
     "output_type": "execute_result"
    }
   ],
   "source": [
    "np.random.seed(53)\n",
    "\n",
    "# generate the bootstrap distribution of the variance\n",
    "avars_boot = gen_boot_dist(asample, estfunc=var)\n",
    "\n",
    "# construct the confidence interval\n",
    "[np.percentile(avars_boot,5),\n",
    " np.percentile(avars_boot,95)]"
   ]
  },
  {
   "cell_type": "markdown",
   "id": "5bbe6107-a326-4ba4-866a-92bba380f97b",
   "metadata": {},
   "source": [
    "### Reusable procedure"
   ]
  },
  {
   "cell_type": "code",
   "execution_count": 28,
   "id": "75ad4237-3966-45fc-b926-8854f0ad0bc3",
   "metadata": {},
   "outputs": [],
   "source": [
    "def ci_var(sample, alpha=0.1, method=\"a\"):\n",
    "    \"\"\"\n",
    "    Compute confidence interval for the population variance.\n",
    "    - method=\"a\" analytical approx. based on chi-square dist\n",
    "    - method=\"b\" approx. based on bootstrap estimation\n",
    "    \"\"\"\n",
    "    assert method in [\"a\", \"b\"]\n",
    "    if method == \"a\":        # analytical approximation\n",
    "        n = len(sample)\n",
    "        s2 = np.var(sample, ddof=1)\n",
    "        q_l = chi2(df=n-1).ppf(alpha/2)\n",
    "        q_u = chi2(df=n-1).ppf(1-alpha/2)\n",
    "        return [(n-1)*s2/q_u, (n-1)*s2/q_l]\n",
    "    elif method == \"b\":          # bootstrap estimation\n",
    "        vars_boot = gen_boot_dist(sample, estfunc=var)\n",
    "        return [np.quantile(vars_boot, alpha/2),\n",
    "                np.quantile(vars_boot, 1-alpha/2)]\n",
    "\n",
    "# ALT.\n",
    "# from ministats import ci_var"
   ]
  },
  {
   "cell_type": "markdown",
   "id": "2d532894-c770-46f6-9197-32d80a98109b",
   "metadata": {},
   "source": [
    "### Verify coverage probability"
   ]
  },
  {
   "cell_type": "code",
   "execution_count": 29,
   "id": "1c3c2542-c00b-4e30-9284-40e1ff852e85",
   "metadata": {},
   "outputs": [
    {
     "name": "stdout",
     "output_type": "stream",
     "text": [
      "Coverage proportion of analytical approx. CIs: 0.89\n",
      "Coverage proportion of bootstrap CIs: 0.81\n"
     ]
    }
   ],
   "source": [
    "np.random.seed(42)\n",
    "\n",
    "N = 100  # change to N=1000 for more accuracty\n",
    "n = 20\n",
    "\n",
    "from scipy.stats import norm\n",
    "muK = 1000\n",
    "sigmaK = 10\n",
    "rvK = norm(muK, sigmaK)\n",
    "\n",
    "acount, bcount = 0, 0\n",
    "for j in range(0, N):\n",
    "    ksample = rvK.rvs(n)\n",
    "    cia = ci_var(ksample, alpha=0.1, method=\"a\")\n",
    "    if cia[0] <= sigmaK**2 <= cia[1]:\n",
    "        acount += 1\n",
    "    cib = ci_var(ksample, alpha=0.1, method=\"b\")\n",
    "    if cib[0] <= sigmaK**2 <= cib[1]:\n",
    "        bcount += 1\n",
    "\n",
    "print(\"Coverage proportion of analytical approx. CIs:\", acount/N)\n",
    "print(\"Coverage proportion of bootstrap CIs:\", bcount/N)"
   ]
  },
  {
   "cell_type": "markdown",
   "id": "92e31c38-0109-4d38-93e5-28fdf7f7337d",
   "metadata": {},
   "source": [
    "## Confidence interval for the difference between means"
   ]
  },
  {
   "cell_type": "markdown",
   "id": "b6fd7daa-e69e-4c0d-9852-3c7811bbde1b",
   "metadata": {},
   "source": [
    "### Example 3: confidence interval for difference in electricity prices"
   ]
  },
  {
   "cell_type": "code",
   "execution_count": 30,
   "id": "bc914471-36a2-48f9-8a82-6f09d814f741",
   "metadata": {},
   "outputs": [],
   "source": [
    "eprices = pd.read_csv(\"../datasets/eprices.csv\")\n",
    "pricesW = eprices[eprices[\"loc\"]==\"West\"][\"price\"]\n",
    "pricesE = eprices[eprices[\"loc\"]==\"East\"][\"price\"]"
   ]
  },
  {
   "cell_type": "markdown",
   "id": "4de8d692-f78f-404f-9105-9fda698d5dc1",
   "metadata": {},
   "source": [
    "The difference between sample means $\\hat{d} = \\overline{\\mathbf{x}}_W - \\overline{\\mathbf{x}}_E$ is:"
   ]
  },
  {
   "cell_type": "code",
   "execution_count": 31,
   "id": "ecb42738-74c7-46cf-8243-d4c6081e037e",
   "metadata": {},
   "outputs": [
    {
     "data": {
      "text/plain": [
       "3.0000000000000018"
      ]
     },
     "execution_count": 31,
     "metadata": {},
     "output_type": "execute_result"
    }
   ],
   "source": [
    "dhat = dmeans(pricesW, pricesE)\n",
    "dhat"
   ]
  },
  {
   "cell_type": "markdown",
   "id": "e4ee498d-490d-4541-837f-bdc13af32a46",
   "metadata": {},
   "source": [
    "The estimate $\\hat{d}$ will be the center of the confidence interval."
   ]
  },
  {
   "cell_type": "markdown",
   "id": "845572ab-cb85-443f-ac5f-c7b2fc5069a7",
   "metadata": {},
   "source": [
    "Now let's compute the parameters we need to know to calculate the standard error\n",
    "of the sampling distribution."
   ]
  },
  {
   "cell_type": "code",
   "execution_count": 32,
   "id": "aedb1d76-9c43-475a-8d65-a910ba492432",
   "metadata": {},
   "outputs": [
    {
     "data": {
      "text/plain": [
       "(1.5621388471508475, 9, 0.8776547030454391, 9)"
      ]
     },
     "execution_count": 32,
     "metadata": {},
     "output_type": "execute_result"
    }
   ],
   "source": [
    "# sample size and std in West and East\n",
    "stdW, nW = pricesW.std(), pricesW.count()\n",
    "stdE, nE = pricesE.std(), pricesE.count()\n",
    "stdW, nW, stdE, nE"
   ]
  },
  {
   "cell_type": "code",
   "execution_count": 33,
   "id": "c69b9f59-1293-4fd3-8871-bfd22a97bdc6",
   "metadata": {},
   "outputs": [
    {
     "data": {
      "text/plain": [
       "0.5972674401486562"
      ]
     },
     "execution_count": 33,
     "metadata": {},
     "output_type": "execute_result"
    }
   ],
   "source": [
    "# standard error\n",
    "seD = np.sqrt(stdW**2/nW + stdE**2/nE)\n",
    "seD"
   ]
  },
  {
   "cell_type": "code",
   "execution_count": 34,
   "id": "1cdcfafb-3ebd-40ba-aa95-6fc133bf1617",
   "metadata": {},
   "outputs": [
    {
     "data": {
      "text/plain": [
       "12.59281702723103"
      ]
     },
     "execution_count": 34,
     "metadata": {},
     "output_type": "execute_result"
    }
   ],
   "source": [
    "# degrees of freedom\n",
    "from ministats import calcdf\n",
    "\n",
    "dfD = calcdf(stdW, nW, stdE, nE)\n",
    "dfD"
   ]
  },
  {
   "cell_type": "code",
   "execution_count": 35,
   "id": "4c3d9b24-bb78-4ef9-9d02-e8127f0c28bf",
   "metadata": {},
   "outputs": [
    {
     "data": {
      "text/plain": [
       "[1.9396575883681475, 4.060342411631856]"
      ]
     },
     "execution_count": 35,
     "metadata": {},
     "output_type": "execute_result"
    }
   ],
   "source": [
    "from scipy.stats import t as tdist\n",
    "\n",
    "# calculate the quantiles of the t-distribution \n",
    "rvT = tdist(df=dfD)\n",
    "t_05 = rvT.ppf(0.05)\n",
    "t_95 = rvT.ppf(0.95)\n",
    "\n",
    "# construct the confidence interval\n",
    "[dhat + t_05*seD, dhat + t_95*seD]"
   ]
  },
  {
   "cell_type": "markdown",
   "id": "85104720-655c-40c2-9830-0f1f333f8481",
   "metadata": {},
   "source": [
    "#### Bootstrap confidence interval"
   ]
  },
  {
   "cell_type": "code",
   "execution_count": 36,
   "id": "df045afe-6d9a-4f18-aa04-d771c341da10",
   "metadata": {},
   "outputs": [
    {
     "data": {
      "text/plain": [
       "[2.0666666666666664, 3.933888888888892]"
      ]
     },
     "execution_count": 36,
     "metadata": {},
     "output_type": "execute_result"
    }
   ],
   "source": [
    "# compute bootstrap estimates for mean in each group\n",
    "np.random.seed(42)\n",
    "meanW_boot = gen_boot_dist(pricesW, estfunc=mean)\n",
    "meanE_boot = gen_boot_dist(pricesE, estfunc=mean)\n",
    "\n",
    "# compute the difference between means of bootstrap samples\n",
    "dmeans_boot = np.subtract(meanW_boot, meanE_boot)\n",
    "\n",
    "# construct the confidence interval\n",
    "[np.percentile(dmeans_boot,5),\n",
    " np.percentile(dmeans_boot,95)]"
   ]
  },
  {
   "cell_type": "markdown",
   "id": "80e072d7-44de-44ba-bec2-c24aeb59c52c",
   "metadata": {},
   "source": [
    "### Reusable procedure"
   ]
  },
  {
   "cell_type": "code",
   "execution_count": 37,
   "id": "28a3c7dc-871b-4c77-b25b-f306623c2440",
   "metadata": {},
   "outputs": [],
   "source": [
    "def ci_dmeans(xsample, ysample, alpha=0.1, method=\"a\"):\n",
    "    \"\"\"\n",
    "    Compute confidence interval for the difference between population means.\n",
    "    - method=\"a\" analytical approx. based on Student's t-dist\n",
    "    - method=\"b\" approx. based on bootstrap estimation\n",
    "    \"\"\"\n",
    "    assert method in [\"a\", \"b\"]\n",
    "    if method == \"a\":        # analytical approximation\n",
    "        stdX, n = np.std(xsample, ddof=1), len(xsample)\n",
    "        stdY, m = np.std(ysample, ddof=1), len(ysample)\n",
    "        dhat = np.mean(xsample) - np.mean(ysample)\n",
    "        seD = np.sqrt(stdX**2/n + stdY**2/m)\n",
    "        dfD = calcdf(stdX, n, stdY, m)\n",
    "        t_l = tdist(df=dfD).ppf(alpha/2)\n",
    "        t_u = tdist(df=dfD).ppf(1-alpha/2)\n",
    "        return [dhat + t_l*seD, dhat + t_u*seD]\n",
    "    elif method == \"b\":          # bootstrap estimation\n",
    "        xbars_boot = gen_boot_dist(xsample, np.mean)\n",
    "        ybars_boot = gen_boot_dist(ysample, np.mean)\n",
    "        dmeans_boot = np.subtract(xbars_boot,ybars_boot)\n",
    "        return [np.quantile(dmeans_boot, alpha/2),\n",
    "                np.quantile(dmeans_boot, 1-alpha/2)]\n",
    "\n",
    "# ALT.\n",
    "# from ministats import ci_dmeans"
   ]
  },
  {
   "cell_type": "markdown",
   "id": "164ec32b-39b0-4d35-bb39-ad81925a1dda",
   "metadata": {},
   "source": [
    "### Verify the coverage probability"
   ]
  },
  {
   "cell_type": "code",
   "execution_count": 38,
   "id": "1a888559-ec22-488a-8f9b-b742da55d4da",
   "metadata": {},
   "outputs": [
    {
     "name": "stdout",
     "output_type": "stream",
     "text": [
      "Coverage proportion of analytical approx. CIs: 0.85\n",
      "Coverage proportion of bootstrap CIs: 0.84\n"
     ]
    }
   ],
   "source": [
    "np.random.seed(42)\n",
    "\n",
    "N = 100  # change to N=1000 for more accuracty\n",
    "n = 20\n",
    "\n",
    "from scipy.stats import norm\n",
    "muX, muY = 120, 100\n",
    "sigmaX, sigmaY = 10, 10\n",
    "rvX = norm(muX, sigmaX)\n",
    "rvY = norm(muY, sigmaY)\n",
    "\n",
    "acount, bcount = 0, 0\n",
    "for j in range(0, N):\n",
    "    xsample = rvX.rvs(n)\n",
    "    ysample = rvY.rvs(n)\n",
    "    cia = ci_dmeans(xsample, ysample, alpha=0.1, method=\"a\")\n",
    "    if cia[0] <= muX - muY <= cia[1]:\n",
    "        acount += 1\n",
    "    cib = ci_dmeans(xsample, ysample, alpha=0.1, method=\"b\")\n",
    "    if cib[0] <= muX - muY <= cib[1]:\n",
    "        bcount += 1\n",
    "\n",
    "print(\"Coverage proportion of analytical approx. CIs:\", acount/N)\n",
    "print(\"Coverage proportion of bootstrap CIs:\", bcount/N)"
   ]
  },
  {
   "cell_type": "markdown",
   "id": "b2c10685-9aaa-4530-b168-ca353654db05",
   "metadata": {},
   "source": [
    "## Alternative calculation methods"
   ]
  },
  {
   "cell_type": "markdown",
   "id": "5f6d4f1c-1d2f-4be0-a417-747af449cfb8",
   "metadata": {},
   "source": [
    "### Using `scipy.stats.bootstrap` for confidence intervals"
   ]
  },
  {
   "cell_type": "markdown",
   "id": "f079ef67-4bd9-48ed-aefe-801df60f32c4",
   "metadata": {
    "tags": []
   },
   "source": [
    "#### One-sample bootstrap confidence interval"
   ]
  },
  {
   "cell_type": "code",
   "execution_count": 39,
   "id": "3dbf1ce8-d61f-493c-a16e-09c297eb1b05",
   "metadata": {},
   "outputs": [
    {
     "data": {
      "text/plain": [
       "[197.23333333333332, 208.26666666666668]"
      ]
     },
     "execution_count": 39,
     "metadata": {},
     "output_type": "execute_result"
    }
   ],
   "source": [
    "from scipy.stats import bootstrap\n",
    "\n",
    "np.random.seed(50)\n",
    "res = bootstrap([asample], statistic=mean,\n",
    "                confidence_level=0.9, n_resamples=5000,\n",
    "                vectorized=False, method=\"percentile\")\n",
    "[res.confidence_interval.low,\n",
    " res.confidence_interval.high]"
   ]
  },
  {
   "cell_type": "markdown",
   "id": "0c3e625e-1868-4ca6-812d-62a96747aa4d",
   "metadata": {},
   "source": [
    "Note the result is the same as ...\n",
    "\n",
    "Using the function `scipy.stats.bootstrap` requires lots of keyword arguments,\n",
    "because it is a very powerful tool you can use for all kinds of bootstrap calculations.\n",
    "Let's go over the arguments one by one:\n",
    "\n",
    "- Instead of giving the input `asample` directly as the first argument,\n",
    "  we pass in a list of length one `[asample]`\n",
    "  which tells the function that we want a single-sample calculation\n",
    "- `statistic`: specify the estimator we want to compute confidence interval for\n",
    "- `confidence_level`: the confidence level $(1-\\alpha)$\n",
    "- `n_resamples`: the number of bootstrap samples we want to generate\n",
    "- `vectorized=False`: turns off vectorized inputs,\n",
    "  which is a performance optimization that we don't need for this calculation\n",
    "- `method=\"percentile\"`: select the percentile bootstrap method,\n",
    "  as opposed to one of the other bootstrap methods that are available\n",
    "\n",
    "The `bootstrap` function returns a result object. We can access the attributes of this object to obtain the limits of the confidence interval. Note the result is identical to the bootstrap estimate we obtained from the function `gen_boot_dist` followed by `np.percentile` calculations."
   ]
  },
  {
   "cell_type": "markdown",
   "id": "e91ec4fa-bd2a-403f-8830-bbb705fb3d1a",
   "metadata": {},
   "source": [
    "#### Two-sample bootstrap confidence interval?"
   ]
  },
  {
   "cell_type": "code",
   "execution_count": 40,
   "id": "442d32d8-9854-4c5e-abd0-deef50534d56",
   "metadata": {},
   "outputs": [
    {
     "data": {
      "text/plain": [
       "[2.0666666666666664, 3.933888888888892]"
      ]
     },
     "execution_count": 40,
     "metadata": {},
     "output_type": "execute_result"
    }
   ],
   "source": [
    "# two-sample test `scipy.stats`\n",
    "from scipy.stats import bootstrap\n",
    "\n",
    "np.random.seed(42)\n",
    "res = bootstrap([pricesW, pricesE], statistic=dmeans,\n",
    "                confidence_level=0.9, n_resamples=5000,\n",
    "                vectorized=False, method=\"percentile\")\n",
    "[res.confidence_interval.low,\n",
    " res.confidence_interval.high]"
   ]
  },
  {
   "cell_type": "markdown",
   "id": "252c5eab-0781-4035-b1bf-ffc1ff13cfed",
   "metadata": {},
   "source": [
    "Note the result is the same as ..."
   ]
  },
  {
   "cell_type": "markdown",
   "id": "6c75b578-018f-4fbf-8c7d-189c909fe377",
   "metadata": {},
   "source": [
    "### Using `statsmodels` for confidence intervals"
   ]
  },
  {
   "cell_type": "markdown",
   "id": "d31dbf64-6e24-4a90-a816-68b0c1ef2040",
   "metadata": {
    "tags": []
   },
   "source": [
    "The Python libraries `statsmodels`, `scipy.stats`, and `pingouin`\n",
    "provide predefined functions for computing confidence intervals.\n",
    "We'll now show some of these \"alternative computations\"\n",
    "based on predefined functions so you'll learn a little bit\n",
    "about the tools for statistical analysis that are available to you.\n",
    "\n",
    "We'll also use these alternative computations to confirm\n",
    "that the calculations we did from first principles are correct.\n",
    "\n",
    "Note however these are \"optional\" reading materials, and you can skip\n",
    "any code cells that start with an `# ALT` comment without loss of generality."
   ]
  },
  {
   "cell_type": "code",
   "execution_count": 41,
   "id": "9732828c-5d46-4f05-b4df-95481fa4f432",
   "metadata": {},
   "outputs": [
    {
     "data": {
      "text/plain": [
       "(196.82986523723363, 208.37013476276636)"
      ]
     },
     "execution_count": 41,
     "metadata": {},
     "output_type": "execute_result"
    }
   ],
   "source": [
    "import statsmodels.stats.api as sms\n",
    "sms.DescrStatsW(asample).tconfint_mean(alpha=0.1)"
   ]
  },
  {
   "cell_type": "markdown",
   "id": "ad95e595-e3b4-49e6-ba8d-3c6189f74439",
   "metadata": {
    "tags": []
   },
   "source": [
    "#### Two-sample confidence intervals"
   ]
  },
  {
   "cell_type": "code",
   "execution_count": 42,
   "id": "bdaa86f6-e19a-40d2-b085-41652c03ffca",
   "metadata": {},
   "outputs": [
    {
     "data": {
      "text/plain": [
       "(1.9396575883681475, 4.060342411631854)"
      ]
     },
     "execution_count": 42,
     "metadata": {},
     "output_type": "execute_result"
    }
   ],
   "source": [
    "import statsmodels.stats.api as sms\n",
    "\n",
    "statsW = sms.DescrStatsW(pricesW)\n",
    "statsE = sms.DescrStatsW(pricesE)\n",
    "cm = sms.CompareMeans(statsW, statsE)\n",
    "cm.tconfint_diff(alpha=0.1, usevar=\"unequal\")"
   ]
  },
  {
   "cell_type": "markdown",
   "id": "42c92c6b-4621-4723-9df9-500f3e858402",
   "metadata": {},
   "source": [
    "Note the result is the same as ...\n",
    "\n",
    "In the above code example, the functions `sms.DescrStatsW` compute the descriptive statistics\n",
    "for the two samples, then `sms.CompareMeans` performs the comparison of means statistical analysis.\n",
    "We call the method `tconfint_diff` to extract the 90\\% confidence interval from the result."
   ]
  },
  {
   "cell_type": "markdown",
   "id": "6ddf9e5f-0ff4-41ba-8933-7a407dce7d9a",
   "metadata": {},
   "source": [
    "As you can see,\n",
    "the numbers we obtain from the `statsmodels`\n",
    "is exactly the same as the confidence interval we computed manually."
   ]
  },
  {
   "cell_type": "markdown",
   "id": "1b539df9-9a54-4ef9-adac-1ae1f1ce3663",
   "metadata": {},
   "source": [
    "### Using `pingouin` for confidence intervals"
   ]
  },
  {
   "cell_type": "code",
   "execution_count": 43,
   "id": "718057e5-d5bc-476a-a2b1-3f2f63e9c1cb",
   "metadata": {},
   "outputs": [
    {
     "data": {
      "text/plain": [
       "array([197.27, 208.3 ])"
      ]
     },
     "execution_count": 43,
     "metadata": {},
     "output_type": "execute_result"
    }
   ],
   "source": [
    "import pingouin as pg\n",
    "\n",
    "pg.compute_bootci(asample, func=mean,\n",
    "                  confidence=0.9, n_boot=5000,\n",
    "                  method=\"per\", seed=50)"
   ]
  },
  {
   "cell_type": "code",
   "execution_count": 44,
   "id": "52e7620d-1afe-4fd2-9dd2-d26d28de7482",
   "metadata": {},
   "outputs": [
    {
     "data": {
      "text/plain": [
       "array([1.93965759, 4.06034241])"
      ]
     },
     "execution_count": 44,
     "metadata": {},
     "output_type": "execute_result"
    }
   ],
   "source": [
    "import pingouin as pg\n",
    "\n",
    "res = pg.ttest(pricesW, pricesE, confidence=0.9, correction=True)\n",
    "res[\"CI90%\"].values[0]"
   ]
  },
  {
   "cell_type": "markdown",
   "id": "1472a4fc-7f2a-404d-8582-c44492cf0d12",
   "metadata": {},
   "source": [
    "Note the results are the same as ..."
   ]
  },
  {
   "cell_type": "markdown",
   "id": "bae0f654-4ea8-4b67-97a8-f5eeac56fd38",
   "metadata": {},
   "source": [
    "## Explanations"
   ]
  },
  {
   "cell_type": "markdown",
   "id": "0076e09e-0360-4144-a05d-1d585d20687b",
   "metadata": {},
   "source": [
    "### One-sided confidence intervals"
   ]
  },
  {
   "cell_type": "code",
   "execution_count": 45,
   "id": "dda2cfa0-57c8-4836-a1a1-46b222dfdd42",
   "metadata": {},
   "outputs": [],
   "source": [
    "# TODO add code example"
   ]
  },
  {
   "cell_type": "markdown",
   "id": "edfde13a-4f61-4b51-83b8-2cc8475b0159",
   "metadata": {},
   "source": [
    "### Point and interval estimates\n",
    "\n",
    "terminology...\n"
   ]
  },
  {
   "cell_type": "markdown",
   "id": "45473913-fddc-40e2-b774-8d636782d55f",
   "metadata": {},
   "source": [
    "### Frequentist interpretation\n",
    "\n",
    "Guarantees for confidence intervals given in terms of $\\mathbb{E}_\\mathbf{X}$, the expectation over a random sample $\\mathbf{X}$. These guarantees can be interpreted as long-term average error rates if the statistical procedure were performed many times (frequentist paradigm).\n",
    "Note in the frequentist paradigm gives no guarantee about any specific confidence interval—only gives guarantee about the performance of the procedure we used for computing the CIs."
   ]
  },
  {
   "cell_type": "markdown",
   "id": "1ab22261-2f16-451a-a94d-25423ad30e6c",
   "metadata": {},
   "source": [
    "### Assumptions\n",
    "\n",
    "condensed mention of:    (full discussion of assumptions in Sec 3.4)\n",
    "Parametric model assumption (conceptual)  cf. nonparametric methods\n",
    "\n",
    "- (NORM): the population is normally distributed (normality test)\n",
    "- (LARGEn): the sample size is “large enough” for approximate normality\n",
    "- (EQVAR): the variance in two groups is the same\n"
   ]
  },
  {
   "cell_type": "markdown",
   "id": "55903ffc-11fa-4bd0-bc36-756919b670ce",
   "metadata": {},
   "source": [
    "## Discussion"
   ]
  },
  {
   "cell_type": "markdown",
   "id": "ff6dee4c-ab05-42db-9186-395e4edfb227",
   "metadata": {},
   "source": [
    "### Misconceptions about confidence intervals\n",
    "\n",
    "See main text."
   ]
  },
  {
   "cell_type": "markdown",
   "id": "dd027a87-4a4c-43ac-9cdb-b451300b090d",
   "metadata": {},
   "source": [
    "### Comparing analytical formulas and bootstrap estimates\n",
    "\n",
    "See main text."
   ]
  },
  {
   "cell_type": "markdown",
   "id": "d3a3dc8a-6816-49de-9fc0-d2e9ab2242ce",
   "metadata": {},
   "source": [
    "### Advanced bootstrap methods\n",
    "\n",
    "Mention more advanced bootstrap methods like BCa exist (--> see problem PZZ)"
   ]
  },
  {
   "cell_type": "code",
   "execution_count": 46,
   "id": "bbccaeb7-0e99-4e48-823f-fee58a0bbad6",
   "metadata": {},
   "outputs": [
    {
     "data": {
      "text/plain": [
       "[197.6, 208.46666666666667]"
      ]
     },
     "execution_count": 46,
     "metadata": {},
     "output_type": "execute_result"
    }
   ],
   "source": [
    "# BCa = Bias-Corrected accelerated mean\n",
    "from scipy.stats import bootstrap\n",
    "\n",
    "np.random.seed(53)\n",
    "res = bootstrap([asample], statistic=mean,\n",
    "                confidence_level=0.9, n_resamples=5000,\n",
    "                vectorized=False, method=\"bca\")\n",
    "\n",
    "# sns.histplot(res.bootstrap_distribution, bins=30)\n",
    "\n",
    "[res.confidence_interval.low,\n",
    " res.confidence_interval.high]"
   ]
  },
  {
   "cell_type": "code",
   "execution_count": 47,
   "id": "476b648b-07ee-468a-a1ea-95ce6763917a",
   "metadata": {},
   "outputs": [
    {
     "data": {
      "text/plain": [
       "[231.29845557680545, 541.4179333052508]"
      ]
     },
     "execution_count": 47,
     "metadata": {},
     "output_type": "execute_result"
    }
   ],
   "source": [
    "# BCa = Bias-Corrected accelerated var\n",
    "from scipy.stats import bootstrap\n",
    "\n",
    "np.random.seed(53)\n",
    "res = bootstrap([asample], statistic=var,\n",
    "                confidence_level=0.9, n_resamples=5000,\n",
    "                vectorized=False, method=\"bca\")\n",
    "\n",
    "# sns.histplot(res.bootstrap_distribution, bins=30)\n",
    "\n",
    "[res.confidence_interval.low,\n",
    " res.confidence_interval.high]"
   ]
  },
  {
   "cell_type": "markdown",
   "id": "03c0a671-159e-4fbc-a8d4-03caea5081b9",
   "metadata": {},
   "source": [
    "This interval is very close to the analytical approximation we obtained\n",
    "in terms of the chi-square reference distribution $[235.8, 566.6]$."
   ]
  },
  {
   "cell_type": "markdown",
   "id": "fe65344d-3007-4691-b284-0cb1d1119d7a",
   "metadata": {},
   "source": [
    "### Evaluation of confidence interval methods\n",
    "\n",
    "Rows:\n",
    "- uniform\n",
    "- norm\n",
    "- skewed ?\n",
    "- long tailed (exp)\n",
    "- bimodal\n",
    "\n",
    "Cols:\n",
    "- analytical approx\n",
    "- percentile bootstrap\n",
    "- basic bootstrap\n",
    "- BCa\n",
    "\n"
   ]
  },
  {
   "cell_type": "code",
   "execution_count": 48,
   "id": "79e53f7e-3cea-4b0f-9aa0-a844df5f56a7",
   "metadata": {},
   "outputs": [],
   "source": [
    "from scipy.stats import uniform, norm, lognorm, expon\n",
    "from ministats.probs import mixnorms\n",
    "\n",
    "# different populations to use for simulation\n",
    "POPULATIONS = {      \n",
    "    \"U\": uniform(),\n",
    "    \"Z\": norm(),\n",
    "    \"S\": lognorm(0.3),\n",
    "    \"E\": expon(loc=0, scale=1/5),\n",
    "    \"B\": mixnorms(locs=[3,6.2], scales=[1,1], weights=[0.4,0.6]),\n",
    "}\n",
    "\n",
    "METHODS = [\n",
    "    \"a\",           # analytical approximation\n",
    "    \"percentile\",  # percentile bootstrap\n",
    "    \"bca\",         # bias-corrected accelerated bootstrap\n",
    "]"
   ]
  },
  {
   "cell_type": "code",
   "execution_count": 49,
   "id": "47b6e405-f36c-4fd2-aa46-d481e9816fe0",
   "metadata": {},
   "outputs": [],
   "source": [
    "# TODO: plot pdfs of U Z S E and B"
   ]
  },
  {
   "cell_type": "markdown",
   "id": "4446500e-8f2a-4e6a-8467-6cf762f78219",
   "metadata": {},
   "source": [
    "#### Coverage probabilities for population mean"
   ]
  },
  {
   "cell_type": "code",
   "execution_count": 50,
   "id": "8669a4ad-ef3c-4461-ba1a-e4cc8101a30d",
   "metadata": {},
   "outputs": [
    {
     "name": "stdout",
     "output_type": "stream",
     "text": [
      "loaded cached results from  simdata/simulate_ci_props_mean__ns_20_40__alpha_0.1__seed_42.csv\n"
     ]
    },
    {
     "data": {
      "text/html": [
       "<div>\n",
       "<style scoped>\n",
       "    .dataframe tbody tr th:only-of-type {\n",
       "        vertical-align: middle;\n",
       "    }\n",
       "\n",
       "    .dataframe tbody tr th {\n",
       "        vertical-align: top;\n",
       "    }\n",
       "\n",
       "    .dataframe thead tr th {\n",
       "        text-align: left;\n",
       "    }\n",
       "\n",
       "    .dataframe thead tr:last-of-type th {\n",
       "        text-align: right;\n",
       "    }\n",
       "</style>\n",
       "<table border=\"1\" class=\"dataframe\">\n",
       "  <thead>\n",
       "    <tr>\n",
       "      <th></th>\n",
       "      <th>property</th>\n",
       "      <th colspan=\"3\" halign=\"left\">wbar</th>\n",
       "      <th colspan=\"3\" halign=\"left\">cov</th>\n",
       "    </tr>\n",
       "    <tr>\n",
       "      <th></th>\n",
       "      <th>method</th>\n",
       "      <th>a</th>\n",
       "      <th>percentile</th>\n",
       "      <th>bca</th>\n",
       "      <th>a</th>\n",
       "      <th>percentile</th>\n",
       "      <th>bca</th>\n",
       "    </tr>\n",
       "    <tr>\n",
       "      <th>population</th>\n",
       "      <th>n</th>\n",
       "      <th></th>\n",
       "      <th></th>\n",
       "      <th></th>\n",
       "      <th></th>\n",
       "      <th></th>\n",
       "      <th></th>\n",
       "    </tr>\n",
       "  </thead>\n",
       "  <tbody>\n",
       "    <tr>\n",
       "      <th rowspan=\"2\" valign=\"top\">U</th>\n",
       "      <th>20</th>\n",
       "      <td>0.220841</td>\n",
       "      <td>0.204631</td>\n",
       "      <td>0.205162</td>\n",
       "      <td>0.893</td>\n",
       "      <td>0.867</td>\n",
       "      <td>0.885</td>\n",
       "    </tr>\n",
       "    <tr>\n",
       "      <th>40</th>\n",
       "      <td>0.153680</td>\n",
       "      <td>0.148055</td>\n",
       "      <td>0.148230</td>\n",
       "      <td>0.900</td>\n",
       "      <td>0.888</td>\n",
       "      <td>0.896</td>\n",
       "    </tr>\n",
       "    <tr>\n",
       "      <th rowspan=\"2\" valign=\"top\">Z</th>\n",
       "      <th>20</th>\n",
       "      <td>0.770453</td>\n",
       "      <td>0.714570</td>\n",
       "      <td>0.716912</td>\n",
       "      <td>0.884</td>\n",
       "      <td>0.851</td>\n",
       "      <td>0.855</td>\n",
       "    </tr>\n",
       "    <tr>\n",
       "      <th>40</th>\n",
       "      <td>0.526034</td>\n",
       "      <td>0.506770</td>\n",
       "      <td>0.507304</td>\n",
       "      <td>0.905</td>\n",
       "      <td>0.899</td>\n",
       "      <td>0.887</td>\n",
       "    </tr>\n",
       "    <tr>\n",
       "      <th rowspan=\"2\" valign=\"top\">S</th>\n",
       "      <th>20</th>\n",
       "      <td>0.243806</td>\n",
       "      <td>0.225700</td>\n",
       "      <td>0.229662</td>\n",
       "      <td>0.886</td>\n",
       "      <td>0.868</td>\n",
       "      <td>0.859</td>\n",
       "    </tr>\n",
       "    <tr>\n",
       "      <th>40</th>\n",
       "      <td>0.169247</td>\n",
       "      <td>0.163001</td>\n",
       "      <td>0.164269</td>\n",
       "      <td>0.902</td>\n",
       "      <td>0.890</td>\n",
       "      <td>0.892</td>\n",
       "    </tr>\n",
       "    <tr>\n",
       "      <th rowspan=\"2\" valign=\"top\">E</th>\n",
       "      <th>20</th>\n",
       "      <td>0.148030</td>\n",
       "      <td>0.136761</td>\n",
       "      <td>0.144141</td>\n",
       "      <td>0.874</td>\n",
       "      <td>0.849</td>\n",
       "      <td>0.858</td>\n",
       "    </tr>\n",
       "    <tr>\n",
       "      <th>40</th>\n",
       "      <td>0.104478</td>\n",
       "      <td>0.100534</td>\n",
       "      <td>0.103630</td>\n",
       "      <td>0.877</td>\n",
       "      <td>0.866</td>\n",
       "      <td>0.862</td>\n",
       "    </tr>\n",
       "    <tr>\n",
       "      <th rowspan=\"2\" valign=\"top\">B</th>\n",
       "      <th>20</th>\n",
       "      <td>1.419609</td>\n",
       "      <td>1.316295</td>\n",
       "      <td>1.320754</td>\n",
       "      <td>0.902</td>\n",
       "      <td>0.884</td>\n",
       "      <td>0.903</td>\n",
       "    </tr>\n",
       "    <tr>\n",
       "      <th>40</th>\n",
       "      <td>0.983444</td>\n",
       "      <td>0.947381</td>\n",
       "      <td>0.948994</td>\n",
       "      <td>0.908</td>\n",
       "      <td>0.902</td>\n",
       "      <td>0.905</td>\n",
       "    </tr>\n",
       "  </tbody>\n",
       "</table>\n",
       "</div>"
      ],
      "text/plain": [
       "property           wbar                         cov                  \n",
       "method                a percentile       bca      a percentile    bca\n",
       "population n                                                         \n",
       "U          20  0.220841   0.204631  0.205162  0.893      0.867  0.885\n",
       "           40  0.153680   0.148055  0.148230  0.900      0.888  0.896\n",
       "Z          20  0.770453   0.714570  0.716912  0.884      0.851  0.855\n",
       "           40  0.526034   0.506770  0.507304  0.905      0.899  0.887\n",
       "S          20  0.243806   0.225700  0.229662  0.886      0.868  0.859\n",
       "           40  0.169247   0.163001  0.164269  0.902      0.890  0.892\n",
       "E          20  0.148030   0.136761  0.144141  0.874      0.849  0.858\n",
       "           40  0.104478   0.100534  0.103630  0.877      0.866  0.862\n",
       "B          20  1.419609   1.316295  1.320754  0.902      0.884  0.903\n",
       "           40  0.983444   0.947381  0.948994  0.908      0.902  0.905"
      ]
     },
     "execution_count": 50,
     "metadata": {},
     "output_type": "execute_result"
    }
   ],
   "source": [
    "from ministats.simulations import simulate_ci_props\n",
    "restults_mean = simulate_ci_props(POPULATIONS, methods=METHODS,\n",
    "                                  ns=[20,40], param=\"mean\",\n",
    "                                  alpha=0.1, N=1000, seed=42)\n",
    "restults_mean"
   ]
  },
  {
   "cell_type": "markdown",
   "id": "6e42ad27-ac28-43bd-9a50-86b9793abb96",
   "metadata": {},
   "source": [
    "#### Coverage probabilities for population variance\n"
   ]
  },
  {
   "cell_type": "code",
   "execution_count": 51,
   "id": "00d38ddb-72ae-4ba1-9649-e5a7f1dcd014",
   "metadata": {},
   "outputs": [
    {
     "name": "stdout",
     "output_type": "stream",
     "text": [
      "loaded cached results from  simdata/simulate_ci_props_var__ns_20_40__alpha_0.1__seed_43.csv\n"
     ]
    },
    {
     "data": {
      "text/html": [
       "<div>\n",
       "<style scoped>\n",
       "    .dataframe tbody tr th:only-of-type {\n",
       "        vertical-align: middle;\n",
       "    }\n",
       "\n",
       "    .dataframe tbody tr th {\n",
       "        vertical-align: top;\n",
       "    }\n",
       "\n",
       "    .dataframe thead tr th {\n",
       "        text-align: left;\n",
       "    }\n",
       "\n",
       "    .dataframe thead tr:last-of-type th {\n",
       "        text-align: right;\n",
       "    }\n",
       "</style>\n",
       "<table border=\"1\" class=\"dataframe\">\n",
       "  <thead>\n",
       "    <tr>\n",
       "      <th></th>\n",
       "      <th>property</th>\n",
       "      <th colspan=\"3\" halign=\"left\">wbar</th>\n",
       "      <th colspan=\"3\" halign=\"left\">cov</th>\n",
       "    </tr>\n",
       "    <tr>\n",
       "      <th></th>\n",
       "      <th>method</th>\n",
       "      <th>a</th>\n",
       "      <th>percentile</th>\n",
       "      <th>bca</th>\n",
       "      <th>a</th>\n",
       "      <th>percentile</th>\n",
       "      <th>bca</th>\n",
       "    </tr>\n",
       "    <tr>\n",
       "      <th>population</th>\n",
       "      <th>n</th>\n",
       "      <th></th>\n",
       "      <th></th>\n",
       "      <th></th>\n",
       "      <th></th>\n",
       "      <th></th>\n",
       "      <th></th>\n",
       "    </tr>\n",
       "  </thead>\n",
       "  <tbody>\n",
       "    <tr>\n",
       "      <th rowspan=\"2\" valign=\"top\">U</th>\n",
       "      <th>20</th>\n",
       "      <td>0.103879</td>\n",
       "      <td>0.056794</td>\n",
       "      <td>0.058629</td>\n",
       "      <td>0.983</td>\n",
       "      <td>0.855</td>\n",
       "      <td>0.857</td>\n",
       "    </tr>\n",
       "    <tr>\n",
       "      <th>40</th>\n",
       "      <td>0.066634</td>\n",
       "      <td>0.039478</td>\n",
       "      <td>0.040195</td>\n",
       "      <td>0.993</td>\n",
       "      <td>0.884</td>\n",
       "      <td>0.889</td>\n",
       "    </tr>\n",
       "    <tr>\n",
       "      <th rowspan=\"2\" valign=\"top\">Z</th>\n",
       "      <th>20</th>\n",
       "      <td>1.270557</td>\n",
       "      <td>0.938189</td>\n",
       "      <td>1.052797</td>\n",
       "      <td>0.898</td>\n",
       "      <td>0.825</td>\n",
       "      <td>0.840</td>\n",
       "    </tr>\n",
       "    <tr>\n",
       "      <th>40</th>\n",
       "      <td>0.805057</td>\n",
       "      <td>0.696148</td>\n",
       "      <td>0.757683</td>\n",
       "      <td>0.893</td>\n",
       "      <td>0.845</td>\n",
       "      <td>0.865</td>\n",
       "    </tr>\n",
       "    <tr>\n",
       "      <th rowspan=\"2\" valign=\"top\">S</th>\n",
       "      <th>20</th>\n",
       "      <td>0.128223</td>\n",
       "      <td>0.106803</td>\n",
       "      <td>0.122465</td>\n",
       "      <td>0.795</td>\n",
       "      <td>0.730</td>\n",
       "      <td>0.757</td>\n",
       "    </tr>\n",
       "    <tr>\n",
       "      <th>40</th>\n",
       "      <td>0.084739</td>\n",
       "      <td>0.087967</td>\n",
       "      <td>0.100327</td>\n",
       "      <td>0.804</td>\n",
       "      <td>0.828</td>\n",
       "      <td>0.826</td>\n",
       "    </tr>\n",
       "    <tr>\n",
       "      <th rowspan=\"2\" valign=\"top\">E</th>\n",
       "      <th>20</th>\n",
       "      <td>0.050138</td>\n",
       "      <td>0.054894</td>\n",
       "      <td>0.064792</td>\n",
       "      <td>0.625</td>\n",
       "      <td>0.661</td>\n",
       "      <td>0.711</td>\n",
       "    </tr>\n",
       "    <tr>\n",
       "      <th>40</th>\n",
       "      <td>0.032610</td>\n",
       "      <td>0.045849</td>\n",
       "      <td>0.054231</td>\n",
       "      <td>0.640</td>\n",
       "      <td>0.756</td>\n",
       "      <td>0.804</td>\n",
       "    </tr>\n",
       "    <tr>\n",
       "      <th rowspan=\"2\" valign=\"top\">B</th>\n",
       "      <th>20</th>\n",
       "      <td>4.332483</td>\n",
       "      <td>2.601501</td>\n",
       "      <td>2.774900</td>\n",
       "      <td>0.961</td>\n",
       "      <td>0.846</td>\n",
       "      <td>0.861</td>\n",
       "    </tr>\n",
       "    <tr>\n",
       "      <th>40</th>\n",
       "      <td>2.824281</td>\n",
       "      <td>1.862927</td>\n",
       "      <td>1.947506</td>\n",
       "      <td>0.976</td>\n",
       "      <td>0.893</td>\n",
       "      <td>0.872</td>\n",
       "    </tr>\n",
       "  </tbody>\n",
       "</table>\n",
       "</div>"
      ],
      "text/plain": [
       "property           wbar                         cov                  \n",
       "method                a percentile       bca      a percentile    bca\n",
       "population n                                                         \n",
       "U          20  0.103879   0.056794  0.058629  0.983      0.855  0.857\n",
       "           40  0.066634   0.039478  0.040195  0.993      0.884  0.889\n",
       "Z          20  1.270557   0.938189  1.052797  0.898      0.825  0.840\n",
       "           40  0.805057   0.696148  0.757683  0.893      0.845  0.865\n",
       "S          20  0.128223   0.106803  0.122465  0.795      0.730  0.757\n",
       "           40  0.084739   0.087967  0.100327  0.804      0.828  0.826\n",
       "E          20  0.050138   0.054894  0.064792  0.625      0.661  0.711\n",
       "           40  0.032610   0.045849  0.054231  0.640      0.756  0.804\n",
       "B          20  4.332483   2.601501  2.774900  0.961      0.846  0.861\n",
       "           40  2.824281   1.862927  1.947506  0.976      0.893  0.872"
      ]
     },
     "execution_count": 51,
     "metadata": {},
     "output_type": "execute_result"
    }
   ],
   "source": [
    "from ministats.simulations import simulate_ci_props\n",
    "restults_var = simulate_ci_props(POPULATIONS, methods=METHODS,\n",
    "                                 ns=[20,40], param=\"var\",\n",
    "                                 alpha=0.1, N=1000, seed=43)\n",
    "restults_var"
   ]
  }
 ],
 "metadata": {
  "kernelspec": {
   "display_name": "Python 3 (ipykernel)",
   "language": "python",
   "name": "python3"
  },
  "language_info": {
   "codemirror_mode": {
    "name": "ipython",
    "version": 3
   },
   "file_extension": ".py",
   "mimetype": "text/x-python",
   "name": "python",
   "nbconvert_exporter": "python",
   "pygments_lexer": "ipython3",
   "version": "3.12.4"
  }
 },
 "nbformat": 4,
 "nbformat_minor": 5
}
