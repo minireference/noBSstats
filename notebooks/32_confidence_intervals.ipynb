{
 "cells": [
  {
   "cell_type": "markdown",
   "id": "b73f3d18-88c7-499d-90a3-dd6954247cf3",
   "metadata": {
    "tags": []
   },
   "source": [
    "# Section 3.2 — Confidence intervals\n",
    "\n",
    "This notebook contains the code examples from [Section 3.2 Confidence intervals]() of the **No Bullshit Guide to Statistics**. Use the \"rocket\" icon at the top-right to make the code cells interactive (Live Code), or run this notebook an ephemeral JupyterLab cloud instance (Binder)."
   ]
  },
  {
   "cell_type": "markdown",
   "id": "efce8e91-8824-4103-a526-02e23c794668",
   "metadata": {
    "tags": []
   },
   "source": [
    "#### Notebook setup"
   ]
  },
  {
   "cell_type": "code",
   "execution_count": 1,
   "id": "990de07d-c26f-4a29-935a-2b1dacc89b34",
   "metadata": {},
   "outputs": [],
   "source": [
    "# load Python modules\n",
    "import os\n",
    "import numpy as np\n",
    "import pandas as pd\n",
    "import seaborn as sns\n",
    "import matplotlib.pyplot as plt"
   ]
  },
  {
   "cell_type": "code",
   "execution_count": 2,
   "id": "9c117451-42db-4542-81a7-7b47b02686e1",
   "metadata": {},
   "outputs": [],
   "source": [
    "# Plot helper functions\n",
    "from plot_helpers import plot_pdf\n",
    "from plot_helpers import savefigure"
   ]
  },
  {
   "cell_type": "code",
   "execution_count": 3,
   "id": "3209c5be-cb6a-42c0-8bf8-949a4fc0ff39",
   "metadata": {},
   "outputs": [
    {
     "data": {
      "text/plain": [
       "<Figure size 640x480 with 0 Axes>"
      ]
     },
     "metadata": {},
     "output_type": "display_data"
    }
   ],
   "source": [
    "# Figures setup\n",
    "plt.clf()  # needed otherwise `sns.set_theme` doesn't work\n",
    "from plot_helpers import RCPARAMS\n",
    "RCPARAMS.update({'figure.figsize': (10, 3)})   # good for screen\n",
    "# RCPARAMS.update({'figure.figsize': (5, 1.6)})  # good for print\n",
    "sns.set_theme(\n",
    "    context=\"paper\",\n",
    "    style=\"whitegrid\",\n",
    "    palette=\"colorblind\",\n",
    "    rc=RCPARAMS,\n",
    ")\n",
    "\n",
    "# Useful colors\n",
    "# snspal = sns.color_palette()\n",
    "# blue, orange, purple = snspal[0], snspal[1], snspal[4]\n",
    "\n",
    "# High-resolution please\n",
    "%config InlineBackend.figure_format = 'retina'\n",
    "\n",
    "# Where to store figures\n",
    "DESTDIR = \"figures/stats/confidence_intervals\""
   ]
  },
  {
   "cell_type": "code",
   "execution_count": 4,
   "id": "df22d8d7-6814-4c3b-a3d3-2f31ab6b2f3b",
   "metadata": {},
   "outputs": [],
   "source": [
    "# set random seed for repeatability\n",
    "np.random.seed(42)"
   ]
  },
  {
   "cell_type": "code",
   "execution_count": 5,
   "id": "7eb1c12f-d13f-4412-8324-13485c0a398d",
   "metadata": {},
   "outputs": [],
   "source": [
    "#######################################################"
   ]
  },
  {
   "cell_type": "markdown",
   "id": "9ee8aad0-01a7-4aff-819f-9de0d15d52c3",
   "metadata": {},
   "source": [
    "$\\def\\stderr#1{\\mathbf{se}_{#1}}$\n",
    "$\\def\\stderrhat#1{\\hat{\\mathbf{se}}_{#1}}$\n",
    "$\\newcommand{\\Mean}{\\textbf{Mean}}$\n",
    "$\\newcommand{\\Var}{\\textbf{Var}}$\n",
    "$\\newcommand{\\Std}{\\textbf{Std}}$\n",
    "$\\newcommand{\\Freq}{\\textbf{Freq}}$\n",
    "$\\newcommand{\\RelFreq}{\\textbf{RelFreq}}$\n",
    "$\\newcommand{\\DMeans}{\\textbf{DMeans}}$\n",
    "$\\newcommand{\\Prop}{\\textbf{Prop}}$\n",
    "$\\newcommand{\\DProps}{\\textbf{DProps}}$\n",
    "\n",
    "$$\n",
    "\\newcommand{\\CI}[1]{\\textbf{CI}_{#1}}\n",
    "\\newcommand{\\CIL}[1]{\\textbf{L}_{#1}}\n",
    "\\newcommand{\\CIU}[1]{\\textbf{U}_{#1}}\n",
    "\\newcommand{\\ci}[1]{\\textbf{ci}_{#1}}\n",
    "\\newcommand{\\cil}[1]{\\textbf{l}_{#1}}\n",
    "\\newcommand{\\ciu}[1]{\\textbf{u}_{#1}}\n",
    "$$\n",
    "\n",
    "\n",
    "(this cell contains the macro definitions like $\\stderr{\\overline{\\mathbf{x}}}$, $\\stderrhat{}$, $\\Mean$, ...)"
   ]
  },
  {
   "cell_type": "markdown",
   "id": "576f7dfd-7b94-4dd1-82c1-b55358f06534",
   "metadata": {},
   "source": [
    " "
   ]
  },
  {
   "cell_type": "markdown",
   "id": "8804a09a-f4ad-4ff6-a449-1ee3ee3431aa",
   "metadata": {},
   "source": [
    "## Definitions\n",
    "\n"
   ]
  },
  {
   "cell_type": "markdown",
   "id": "a1bf2a92-b549-4964-8970-0c8c7fedab26",
   "metadata": {},
   "source": [
    "### Review of estimators\n",
    "\n",
    "Recall all the estimators (functions that take samples as inputs) we defined in the previous section."
   ]
  },
  {
   "cell_type": "code",
   "execution_count": 6,
   "id": "9b1b521e-fc25-4278-8573-14986d326423",
   "metadata": {},
   "outputs": [],
   "source": [
    "def mean(sample):\n",
    "    return sum(sample) / len(sample)\n",
    "\n",
    "def var(sample):\n",
    "    xbar = mean(sample)\n",
    "    sumsqdevs = sum([(xi-xbar)**2 for xi in sample])\n",
    "    return sumsqdevs / (len(sample)-1)\n",
    "\n",
    "def std(sample):\n",
    "    s2 = var(sample)\n",
    "    return np.sqrt(s2)\n",
    "\n",
    "def dmeans(xsample, ysample):\n",
    "    dhat = mean(xsample) - mean(ysample)\n",
    "    return dhat"
   ]
  },
  {
   "cell_type": "code",
   "execution_count": null,
   "id": "8cdfce52-53ee-4779-a4ba-c4f5ed37fe23",
   "metadata": {},
   "outputs": [],
   "source": []
  },
  {
   "cell_type": "markdown",
   "id": "c377cc41-d81f-4978-b735-845dc158ec71",
   "metadata": {},
   "source": [
    "### Interpreting confidence intervals"
   ]
  },
  {
   "cell_type": "code",
   "execution_count": 7,
   "id": "3d723491-4af8-4f1e-9abb-5747d98908da",
   "metadata": {},
   "outputs": [
    {
     "name": "stdout",
     "output_type": "stream",
     "text": [
      "Saved figure to figures/stats/confidence_intervals/confidence_intervals_mean_rvX_n20.pdf\n",
      "Saved figure to figures/stats/confidence_intervals/confidence_intervals_mean_rvX_n20.png\n"
     ]
    },
    {
     "data": {
      "image/png": "[encoded data removed]",
      "text/plain": [
       "<Figure size 900x300 with 1 Axes>"
      ]
     },
     "metadata": {
      "image/png": {
       "height": 291,
       "width": 890
      }
     },
     "output_type": "display_data"
    }
   ],
   "source": [
    "# FIGURES ONLY\n",
    "filename = os.path.join(DESTDIR, \"confidence_intervals_mean_rvX_n20.pdf\")\n",
    "\n",
    "from scipy.stats import norm\n",
    "from plot_helpers import gen_samples\n",
    "import seaborn as sns\n",
    "import matplotlib.pyplot as plt\n",
    "import warnings\n",
    "palette = sns.color_palette(palette=[\"#ff8080\", \"#000000\"])\n",
    "\n",
    "N = 50\n",
    "n = 20\n",
    "\n",
    "rvX = norm(100,10)\n",
    "\n",
    "# Generate N=50 samples of size n=20 from a normal dist\n",
    "np.random.seed(47)\n",
    "samples_df = gen_samples(rvX, n=n, N=N)\n",
    "samples_df.columns = range(1,N+1)\n",
    "df2 = samples_df.melt(var_name=\"sample\", value_name=\"n\")\n",
    "\n",
    "def confint(data):\n",
    "    \"\"\"\n",
    "    Compute 90% confidence interval.\n",
    "    Note:  1.729 = tdist(19).ppf(0.95)\n",
    "    \"\"\"\n",
    "    n = len(data)\n",
    "    mean = data.mean()\n",
    "    std = data.std(ddof=1)\n",
    "    se = std / np.sqrt(n)\n",
    "    return [mean - 1.729*se, mean + 1.729*se]\n",
    "\n",
    "# Add new column to indicate if CI contains mean or not\n",
    "for sidx in range(1,N+1):\n",
    "    sample = df2[df2[\"sample\"]==sidx][\"n\"].values\n",
    "    C_L, C_U = confint(sample)\n",
    "    if C_L <= rvX.mean() and rvX.mean() <= C_U:\n",
    "        outcome = 1  # includes population mean\n",
    "    else:\n",
    "        outcome = 0  # doesn't include population mean\n",
    "    df2.loc[df2[\"sample\"]==sidx,\"success\"] = outcome\n",
    "\n",
    "\n",
    "with warnings.catch_warnings(), plt.rc_context({\"figure.figsize\":(9,3)}):\n",
    "    warnings.filterwarnings('ignore', category=UserWarning)    \n",
    "    ax = sns.pointplot(x=\"sample\", y=\"n\", hue=\"success\", data=df2,\n",
    "                       errorbar=confint, palette=palette,\n",
    "                       join=False, capsize=0.5, markers=\" \", errwidth=1)\n",
    "    ax.set_ylabel(\"$\\mu_X$\") # \"$\\overline{\\mathbf{x}}$\"\n",
    "    ax.axhline(y=rvX.mean(), color='b', label='Mean', linestyle='--', linewidth=1)\n",
    "    ax.legend([],[], frameon=False)\n",
    "    savefigure(ax, filename)"
   ]
  },
  {
   "cell_type": "code",
   "execution_count": null,
   "id": "81b96dfa-157f-4fc4-9a17-ab01432d212f",
   "metadata": {},
   "outputs": [],
   "source": []
  },
  {
   "cell_type": "code",
   "execution_count": null,
   "id": "6163a33b-8079-4915-86ef-62f616309872",
   "metadata": {},
   "outputs": [],
   "source": []
  },
  {
   "cell_type": "code",
   "execution_count": null,
   "id": "d362a16d-8123-456f-a1d7-f9f335ff4068",
   "metadata": {},
   "outputs": [],
   "source": []
  },
  {
   "cell_type": "markdown",
   "id": "ed5f2ae6-914b-4698-a536-6cfb1ba8bb30",
   "metadata": {},
   "source": [
    "## Confidence interval constructions\n",
    "\n",
    "Ingredients:\n",
    "\n",
    "- knowledge of the sampling distribution $\\widehat{\\Theta}$ of the estimator\n",
    "- knowledge of the inverse cumulative distribution function (inverse-CDF)\n",
    "  of the sampling distributions $F^{-1}_{\\widehat{\\Theta}}$\n",
    "\n",
    "\n",
    "Procedure:\n",
    "\n",
    "- calculate the $\\tfrac{\\alpha}{2}$-quantile, \n",
    "  $F^{-1}_{\\widehat{\\Theta}}(\\tfrac{\\alpha}{2})$,\n",
    "  and the $(1-\\tfrac{\\alpha}{2})$-quantile,\n",
    "  $F^{-1}_{\\widehat{\\Theta}}(1-\\tfrac{\\alpha}{2})$\n",
    "  of the sampling distribution\n",
    "- use a pivotal quantity to convert the quantiles of the sampling distribution\n",
    "  and obtain the lower bound and upper bounds of the confidence interval\n",
    "\n",
    "\n",
    "Recall the two methods for approximating sampling distributions:\n",
    "analytical approximation formulas (based on probability distributions)\n",
    "and the bootstrap estimation procedure (based on computation),\n",
    "which we learned in [Section 3.1](./31_estimators.ipynb).\n",
    "We'll now learn how to compute confidence intervals based on these approximation methods."
   ]
  },
  {
   "cell_type": "markdown",
   "id": "a206431c-b7b9-4222-95b4-3648a5e43652",
   "metadata": {},
   "source": [
    "### Bootstrap confidence intervals"
   ]
  },
  {
   "cell_type": "code",
   "execution_count": 8,
   "id": "f09b1d63-e143-428a-97e5-5d9a1864a5c5",
   "metadata": {},
   "outputs": [
    {
     "data": {
      "text/plain": [
       "3.0"
      ]
     },
     "execution_count": 8,
     "metadata": {},
     "output_type": "execute_result"
    }
   ],
   "source": [
    "np.random.seed(42)\n",
    "xsample = [1,2,3,4,5]\n",
    "mean(xsample)"
   ]
  },
  {
   "cell_type": "code",
   "execution_count": 9,
   "id": "867d95b8-bf61-4410-bc4d-172fb110343d",
   "metadata": {},
   "outputs": [
    {
     "data": {
      "text/plain": [
       "[4.4, 3.2, 3.6, 3.2, 2.6]"
      ]
     },
     "execution_count": 9,
     "metadata": {},
     "output_type": "execute_result"
    }
   ],
   "source": [
    "from stats_helpers import gen_boot_dist\n",
    "xbars_boot = gen_boot_dist(xsample, estfunc=mean,B=100)\n",
    "xbars_boot[0:5]  # first five bootstrap means"
   ]
  },
  {
   "cell_type": "code",
   "execution_count": 10,
   "id": "bde49404-ab5f-4a16-af5f-7171c9d1afb9",
   "metadata": {},
   "outputs": [
    {
     "data": {
      "text/plain": [
       "[1.8, 4.2]"
      ]
     },
     "execution_count": 10,
     "metadata": {},
     "output_type": "execute_result"
    }
   ],
   "source": [
    "[np.percentile(xbars_boot,5),\n",
    " np.percentile(xbars_boot,95)]"
   ]
  },
  {
   "cell_type": "code",
   "execution_count": 11,
   "id": "b4de9937-e298-432b-a0e1-9b6309b68efc",
   "metadata": {},
   "outputs": [
    {
     "data": {
      "text/plain": [
       "[1.8, 4.2]"
      ]
     },
     "execution_count": 11,
     "metadata": {},
     "output_type": "execute_result"
    }
   ],
   "source": [
    "[np.quantile(xbars_boot,0.05),\n",
    " np.quantile(xbars_boot,0.95)]"
   ]
  },
  {
   "cell_type": "code",
   "execution_count": null,
   "id": "18c7437d-4c40-4d65-bcac-c39c227f7a3a",
   "metadata": {},
   "outputs": [],
   "source": []
  },
  {
   "cell_type": "markdown",
   "id": "192ead41-4d8e-4f42-9721-6113f06b337c",
   "metadata": {},
   "source": [
    "### Analytical approximations\n",
    "\n",
    "$$\n",
    "    z_\\ell = F_{Z}^{-1}(\\tfrac{\\alpha}{2})\n",
    "    \\qquad \\text{and} \\qquad\n",
    "    z_u = F_{Z}^{-1}(1-\\tfrac{\\alpha}{2}).\n",
    "$$"
   ]
  },
  {
   "cell_type": "code",
   "execution_count": 12,
   "id": "22230786-20a5-44f1-aa1e-6aea59e6bd73",
   "metadata": {},
   "outputs": [
    {
     "data": {
      "text/plain": [
       "1.6448536269514722"
      ]
     },
     "execution_count": 12,
     "metadata": {},
     "output_type": "execute_result"
    }
   ],
   "source": [
    "from scipy.stats import norm\n",
    "\n",
    "rvZ = norm(loc=0, scale=1)\n",
    "rvZ.ppf(0.95)"
   ]
  },
  {
   "cell_type": "code",
   "execution_count": 13,
   "id": "06cbc68f-6076-47e9-9edd-68ff36e0cacd",
   "metadata": {},
   "outputs": [
    {
     "data": {
      "text/plain": [
       "1.6448536269514722"
      ]
     },
     "execution_count": 13,
     "metadata": {},
     "output_type": "execute_result"
    }
   ],
   "source": [
    "rvZ = norm(0, 1)\n",
    "rvZ.ppf(0.95)"
   ]
  },
  {
   "cell_type": "code",
   "execution_count": null,
   "id": "9f256afd-f588-4234-971a-c1c4ff3942fa",
   "metadata": {},
   "outputs": [],
   "source": []
  },
  {
   "cell_type": "markdown",
   "id": "78ebc7ef-30df-47c3-85fa-cad7b8ebf976",
   "metadata": {},
   "source": [
    "#### Default parameters"
   ]
  },
  {
   "cell_type": "code",
   "execution_count": 14,
   "id": "ade1892b-eda2-47ed-8772-2796bac9cc6a",
   "metadata": {},
   "outputs": [
    {
     "data": {
      "text/plain": [
       "1.6448536269514722"
      ]
     },
     "execution_count": 14,
     "metadata": {},
     "output_type": "execute_result"
    }
   ],
   "source": [
    "rvZ = norm()\n",
    "rvZ.ppf(0.95)"
   ]
  },
  {
   "cell_type": "code",
   "execution_count": null,
   "id": "0965726d-dff5-4dae-b1e4-9f38a7a9c67c",
   "metadata": {},
   "outputs": [],
   "source": []
  },
  {
   "cell_type": "markdown",
   "id": "7a38818e-0852-4385-8f48-70adf98625b9",
   "metadata": {},
   "source": [
    "#### Class methods"
   ]
  },
  {
   "cell_type": "code",
   "execution_count": 15,
   "id": "06e31f0c-18a6-4af3-8b5c-ac1b953696ad",
   "metadata": {},
   "outputs": [
    {
     "data": {
      "text/plain": [
       "1.6448536269514722"
      ]
     },
     "execution_count": 15,
     "metadata": {},
     "output_type": "execute_result"
    }
   ],
   "source": [
    "norm.ppf(0.95, loc=0, scale=1)"
   ]
  },
  {
   "cell_type": "code",
   "execution_count": 16,
   "id": "1641ff00-8d37-4775-b87b-2aab41e1df5d",
   "metadata": {},
   "outputs": [
    {
     "data": {
      "text/plain": [
       "1.6448536269514722"
      ]
     },
     "execution_count": 16,
     "metadata": {},
     "output_type": "execute_result"
    }
   ],
   "source": [
    "norm.ppf(0.95)"
   ]
  },
  {
   "cell_type": "code",
   "execution_count": null,
   "id": "39be1549-0a5b-4acf-be7e-0943269a9337",
   "metadata": {},
   "outputs": [],
   "source": []
  },
  {
   "cell_type": "markdown",
   "id": "e37721cb-ec95-4bc1-95e5-82ad9d27706f",
   "metadata": {},
   "source": [
    "#### Construct 90% confidence interval distribution"
   ]
  },
  {
   "cell_type": "code",
   "execution_count": 17,
   "id": "2294d702-d860-44f8-803e-f8f26aafc9f7",
   "metadata": {},
   "outputs": [
    {
     "data": {
      "text/plain": [
       "[-1.6448536269514729, 1.6448536269514722]"
      ]
     },
     "execution_count": 17,
     "metadata": {},
     "output_type": "execute_result"
    }
   ],
   "source": [
    "alpha = 0.1\n",
    "z_l = norm.ppf(alpha/2)\n",
    "z_u = norm.ppf(1-alpha/2)\n",
    "[z_l, z_u]"
   ]
  },
  {
   "cell_type": "code",
   "execution_count": null,
   "id": "b8e3ebd8-10e2-4abb-9b03-9f4f483610e2",
   "metadata": {},
   "outputs": [],
   "source": []
  },
  {
   "cell_type": "markdown",
   "id": "c3fdc7d1-7367-43d9-a9b9-899f692710d5",
   "metadata": {},
   "source": [
    "#### Other reference distributions"
   ]
  },
  {
   "cell_type": "code",
   "execution_count": 18,
   "id": "1267b9a2-2c2b-451a-8ed6-c63039c7d59f",
   "metadata": {},
   "outputs": [
    {
     "data": {
      "text/plain": [
       "1.9431802803927816"
      ]
     },
     "execution_count": 18,
     "metadata": {},
     "output_type": "execute_result"
    }
   ],
   "source": [
    "from scipy.stats import t as tdist\n",
    "tdist.ppf(0.95, df=6)"
   ]
  },
  {
   "cell_type": "markdown",
   "id": "fc5ac8d0-1109-48ac-940b-7fc026905eba",
   "metadata": {},
   "source": [
    "#### 95th percentile of the chi-square distribution"
   ]
  },
  {
   "cell_type": "code",
   "execution_count": 19,
   "id": "3c3ab679-29d4-4bbb-bcb3-21e6d1eab15d",
   "metadata": {},
   "outputs": [
    {
     "data": {
      "text/plain": [
       "12.591587243743977"
      ]
     },
     "execution_count": 19,
     "metadata": {},
     "output_type": "execute_result"
    }
   ],
   "source": [
    "from scipy.stats import chi2\n",
    "chi2.ppf(0.95, df=6)"
   ]
  },
  {
   "cell_type": "code",
   "execution_count": null,
   "id": "642d6dff-4d16-46e3-a974-568a193fdc2f",
   "metadata": {},
   "outputs": [],
   "source": []
  },
  {
   "cell_type": "code",
   "execution_count": null,
   "id": "005be463-1509-4708-ac5f-c56240dee9e8",
   "metadata": {},
   "outputs": [],
   "source": []
  },
  {
   "cell_type": "code",
   "execution_count": null,
   "id": "1f74fc06-3b78-451d-9a2d-7ee4040b8ccc",
   "metadata": {},
   "outputs": [],
   "source": []
  },
  {
   "cell_type": "code",
   "execution_count": null,
   "id": "85ea3308-0fdd-4160-aa32-76ce533fbe0a",
   "metadata": {},
   "outputs": [],
   "source": []
  },
  {
   "cell_type": "markdown",
   "id": "be83782d-7e0e-41cb-932c-a64bdf286eb8",
   "metadata": {},
   "source": [
    "## Confidence interval for the population mean\n",
    "\n",
    "$$\n",
    "    T = \\frac{\\overline{\\mathbf{X}} - \\mu_X}{ \\stderrhat{\\overline{\\mathbf{x}}} }\n",
    "    \\sim \\mathcal{T}(n-1).\n",
    "$$\n",
    "\n",
    "To build a $(1-\\alpha)$ confidence interval,\n",
    "we first calculate the $\\frac{\\alpha}{2}$ and $(1-\\frac{\\alpha}{2})$ quantiles of Student's $t$-distribution:\n",
    "\n",
    "$$\n",
    "    t_\\ell = F_{T}^{-1}(\\tfrac{\\alpha}{2})\n",
    "    \\qquad \\text{and} \\qquad\n",
    "    t_u = F_{T}^{-1}(1-\\tfrac{\\alpha}{2}).\n",
    "$$"
   ]
  },
  {
   "cell_type": "markdown",
   "id": "8e77d959-17fe-4326-8c45-e0b4b88ba2e8",
   "metadata": {},
   "source": [
    "### Example 1: confidence interval for the mean apple weight"
   ]
  },
  {
   "cell_type": "code",
   "execution_count": 20,
   "id": "19f03cfe-53c5-4628-8e56-d86d0c904de0",
   "metadata": {},
   "outputs": [
    {
     "data": {
      "text/plain": [
       "array([205., 182., 192., 189., 217., 192., 210., 240., 225., 191., 193.,\n",
       "       209., 167., 183., 210., 198., 239., 188., 179., 182., 200., 197.,\n",
       "       245., 192., 201., 218., 198., 211., 208., 217.])"
      ]
     },
     "execution_count": 20,
     "metadata": {},
     "output_type": "execute_result"
    }
   ],
   "source": [
    "apples = pd.read_csv(\"../datasets/apples.csv\")\n",
    "asample = apples[\"weight\"]\n",
    "asample.values"
   ]
  },
  {
   "cell_type": "markdown",
   "id": "b24ff734-d4ad-4162-834c-8a6fb2ef9fd4",
   "metadata": {},
   "source": [
    "#### Analytical confidence interval for the mean"
   ]
  },
  {
   "cell_type": "code",
   "execution_count": 21,
   "id": "7e44c422-b1d5-4a6b-a2e4-fc6258c6b142",
   "metadata": {},
   "outputs": [
    {
     "data": {
      "text/plain": [
       "(30, 202.6, 3.3959407817427336)"
      ]
     },
     "execution_count": 21,
     "metadata": {},
     "output_type": "execute_result"
    }
   ],
   "source": [
    "n = asample.count()\n",
    "abar = mean(asample)\n",
    "asehat = std(asample) / np.sqrt(n)\n",
    "n,   abar,  asehat"
   ]
  },
  {
   "cell_type": "code",
   "execution_count": 22,
   "id": "727f3e94-c318-49d6-87a3-5cd87760e6ce",
   "metadata": {},
   "outputs": [
    {
     "data": {
      "text/plain": [
       "[196.82986523723363, 208.37013476276636]"
      ]
     },
     "execution_count": 22,
     "metadata": {},
     "output_type": "execute_result"
    }
   ],
   "source": [
    "from scipy.stats import t as tdist\n",
    "rvT = tdist(n-1)\n",
    "t_05 = rvT.ppf(0.05)\n",
    "t_95 = rvT.ppf(0.95)\n",
    "[abar + t_05*asehat, abar + t_95*asehat]"
   ]
  },
  {
   "cell_type": "code",
   "execution_count": null,
   "id": "70c2752f-63a7-45ab-b01e-1a4bde3b2ffb",
   "metadata": {},
   "outputs": [],
   "source": []
  },
  {
   "cell_type": "markdown",
   "id": "7ee0e59f-5d0a-4802-994a-2e68676060fe",
   "metadata": {},
   "source": [
    "#### Bootstrap confidence interval for the mean"
   ]
  },
  {
   "cell_type": "code",
   "execution_count": 23,
   "id": "5413cfde-9b7a-42d2-a310-1340052b5bcc",
   "metadata": {},
   "outputs": [
    {
     "data": {
      "text/plain": [
       "[197.23333333333332, 208.26666666666668]"
      ]
     },
     "execution_count": 23,
     "metadata": {},
     "output_type": "execute_result"
    }
   ],
   "source": [
    "np.random.seed(50)\n",
    "abars_boot = gen_boot_dist(asample, estfunc=mean)\n",
    "[np.percentile(abars_boot,5),\n",
    " np.percentile(abars_boot,95)]"
   ]
  },
  {
   "cell_type": "code",
   "execution_count": null,
   "id": "c0ffcdeb-8986-4f32-a8ca-99bcff904527",
   "metadata": {},
   "outputs": [],
   "source": []
  },
  {
   "cell_type": "markdown",
   "id": "51a32242-05db-4980-9e77-1a7fc7225a47",
   "metadata": {},
   "source": [
    "### Reusable procedure"
   ]
  },
  {
   "cell_type": "code",
   "execution_count": 24,
   "id": "5594bd57-5471-4755-a2cf-601612d4a59d",
   "metadata": {},
   "outputs": [],
   "source": [
    "def ci_mean(sample, alpha=0.1, method=\"a\"):\n",
    "    \"\"\"\n",
    "    Compute the confidence interval for the population mean.\n",
    "    \"\"\"\n",
    "    assert method in [\"a\", \"b\"]\n",
    "    if method == \"a\":        # analytical approximation\n",
    "        n = len(sample)\n",
    "        xbar = np.mean(sample)\n",
    "        sehat = np.std(sample, ddof=1) / np.sqrt(n)\n",
    "        t_l = tdist.ppf(alpha/2, df=n-1)\n",
    "        t_u = tdist.ppf(1-alpha/2, df=n-1)\n",
    "        return [xbar + t_l*sehat, xbar + t_u*sehat]\n",
    "    elif method == \"b\":          # bootstrap estimation\n",
    "        xbars_boot = gen_boot_dist(sample, estfunc=mean)\n",
    "        return [np.quantile(xbars_boot, alpha/2),\n",
    "                np.quantile(xbars_boot, 1-alpha/2)]\n",
    "\n",
    "# ALT.\n",
    "# from stats_helpers import ci_mean"
   ]
  },
  {
   "cell_type": "markdown",
   "id": "00167401-7f22-4e8f-b652-c3a64ba5c9ee",
   "metadata": {},
   "source": [
    "### Verify coverage probability"
   ]
  },
  {
   "cell_type": "code",
   "execution_count": 25,
   "id": "a87280d8-7dab-4f2b-8dd6-251a83d1a2a1",
   "metadata": {},
   "outputs": [
    {
     "name": "stdout",
     "output_type": "stream",
     "text": [
      "Coverage proportion of analytical approx. CIs: 0.89\n",
      "Coverage proportion of bootstrap CIs: 0.86\n"
     ]
    }
   ],
   "source": [
    "np.random.seed(42)\n",
    "\n",
    "N = 100  # change to N=1000 for more accuracty\n",
    "n = 20\n",
    "\n",
    "from scipy.stats import norm\n",
    "muK = 1000\n",
    "sigmaK = 10\n",
    "rvK = norm(muK, sigmaK)\n",
    "\n",
    "acount, bcount = 0, 0\n",
    "for j in range(0, N):\n",
    "    ksample = rvK.rvs(n)\n",
    "    cia = ci_mean(ksample, alpha=0.1, method=\"a\")\n",
    "    if cia[0] <= muK <= cia[1]:\n",
    "        acount += 1\n",
    "    cib = ci_mean(ksample, alpha=0.1, method=\"b\")\n",
    "    if cib[0] <= muK <= cib[1]:\n",
    "        bcount += 1\n",
    "\n",
    "print(\"Coverage proportion of analytical approx. CIs:\", acount/N)\n",
    "print(\"Coverage proportion of bootstrap CIs:\", bcount/N)"
   ]
  },
  {
   "cell_type": "code",
   "execution_count": null,
   "id": "18883e9b-4328-4666-be29-65f44f400456",
   "metadata": {},
   "outputs": [],
   "source": []
  },
  {
   "cell_type": "markdown",
   "id": "27fd78fe-7236-4952-9666-4d86b2d7501d",
   "metadata": {
    "tags": []
   },
   "source": [
    "### Alternative computations (optional)"
   ]
  },
  {
   "cell_type": "markdown",
   "id": "fd3b59ce-c21e-430f-a0e5-e7cb078718b4",
   "metadata": {
    "tags": []
   },
   "source": [
    "The Python libraries `statsmodels`, `scipy.stats`, and `pingouin`\n",
    "provide predefined functions for computing confidence intervals.\n",
    "We'll now show some of these \"alternative computations\"\n",
    "based on predefined functions so you'll learn a little bit\n",
    "about the tools for statistical analysis that are available to you.\n",
    "\n",
    "We'll also use these alternative computations to confirm\n",
    "that the calculations we did from first principles are correct.\n",
    "\n",
    "Note however these are \"optional\" reading materials, and you can skip\n",
    "any code cells that start with an `# ALT` comment without loss of generality."
   ]
  },
  {
   "cell_type": "code",
   "execution_count": 26,
   "id": "9732828c-5d46-4f05-b4df-95481fa4f432",
   "metadata": {},
   "outputs": [
    {
     "data": {
      "text/plain": [
       "(196.82986523723363, 208.37013476276636)"
      ]
     },
     "execution_count": 26,
     "metadata": {},
     "output_type": "execute_result"
    }
   ],
   "source": [
    "# ALT1. use the statsmodels function\n",
    "import statsmodels.stats.api as sms\n",
    "sms.DescrStatsW(asample).tconfint_mean(alpha=0.1)"
   ]
  },
  {
   "cell_type": "code",
   "execution_count": 27,
   "id": "3dbf1ce8-d61f-493c-a16e-09c297eb1b05",
   "metadata": {},
   "outputs": [
    {
     "data": {
      "text/plain": [
       "[197.23333333333332, 208.26666666666668]"
      ]
     },
     "execution_count": 27,
     "metadata": {},
     "output_type": "execute_result"
    }
   ],
   "source": [
    "# ALT2. use the `bootstrap` function from `scipy.stats`\n",
    "from scipy.stats import bootstrap\n",
    "\n",
    "np.random.seed(50)\n",
    "res = bootstrap((asample,), statistic=mean,\n",
    "                confidence_level=0.9, n_resamples=5000,\n",
    "                vectorized=False, method=\"percentile\")\n",
    "[res.confidence_interval.low,\n",
    " res.confidence_interval.high]"
   ]
  },
  {
   "cell_type": "markdown",
   "id": "8c3a34fc-79a3-411a-802e-7d9acf77c550",
   "metadata": {},
   "source": [
    "Using the function `scipy.stats.bootstrap` requires lots of keyword arguments,\n",
    "because it is a very powerful tool you can use for all kinds of bootstrap calculations.\n",
    "Let's go over the arguments one by one:\n",
    "\n",
    "- Instead of giving the input `asample` directly as the first argument,\n",
    "  we pass in a tuple of length one `(asample,)`\n",
    "  which tells the function that we want a single-sample calculation\n",
    "- `statistic`: specify the estimator we want to compute confidence interval for\n",
    "- `confidence_level`: the confidence level $(1-\\alpha)$\n",
    "- `n_resamples`: the number of bootstrap samples we want to generate\n",
    "- `vectorized=False`: turns off vectorized inputs,\n",
    "  which is a performance optimization that we don't need for this calculation\n",
    "- `method=\"percentile\"`: select the percentile bootstrap method,\n",
    "  as opposed to one of the other bootstrap methods that are available\n",
    "\n",
    "The `bootstrap` function returns a result object. We can access the attributes of this object to obtain the limits of the confidence interval. Note the result is identical to the bootstrap estimate we obtained from the function `gen_boot_dist` followed by `np.percentile` calculations."
   ]
  },
  {
   "cell_type": "code",
   "execution_count": 28,
   "id": "718057e5-d5bc-476a-a2b1-3f2f63e9c1cb",
   "metadata": {},
   "outputs": [
    {
     "data": {
      "text/plain": [
       "array([197.27, 208.3 ])"
      ]
     },
     "execution_count": 28,
     "metadata": {},
     "output_type": "execute_result"
    }
   ],
   "source": [
    "# ALT3. use the `compute_bootci` function from `pingouin`\n",
    "from pingouin import compute_bootci\n",
    "\n",
    "compute_bootci(asample, func=mean,\n",
    "               confidence=0.9, n_boot=5000,\n",
    "               method=\"per\", seed=50)"
   ]
  },
  {
   "cell_type": "code",
   "execution_count": null,
   "id": "04a85534-cb73-4149-b14f-7efb223ed87a",
   "metadata": {},
   "outputs": [],
   "source": []
  },
  {
   "cell_type": "markdown",
   "id": "30c12ec5-ebad-41d8-840d-2a57dc41c15b",
   "metadata": {},
   "source": [
    "## Confidence interval for the population variance"
   ]
  },
  {
   "cell_type": "markdown",
   "id": "ea65d04a-bf4c-4cef-a41c-c5316b2a0cd2",
   "metadata": {},
   "source": [
    "### Example 2: confidence interval for the variance of apple weights"
   ]
  },
  {
   "cell_type": "code",
   "execution_count": 29,
   "id": "64451695-f7d1-465e-a372-068c7740d91e",
   "metadata": {},
   "outputs": [
    {
     "data": {
      "text/plain": [
       "(30, 345.9724137931035)"
      ]
     },
     "execution_count": 29,
     "metadata": {},
     "output_type": "execute_result"
    }
   ],
   "source": [
    "apples = pd.read_csv(\"../datasets/apples.csv\")\n",
    "asample = apples[\"weight\"]\n",
    "n = asample.count()\n",
    "s2 = var(asample)\n",
    "n,   s2"
   ]
  },
  {
   "cell_type": "code",
   "execution_count": 30,
   "id": "fc23a5d0-b72d-44fd-aca3-a688b77e7d53",
   "metadata": {},
   "outputs": [
    {
     "data": {
      "text/plain": [
       "[235.7592779198888, 566.5796548600426]"
      ]
     },
     "execution_count": 30,
     "metadata": {},
     "output_type": "execute_result"
    }
   ],
   "source": [
    "from scipy.stats import chi2\n",
    "rvX2 = chi2(n-1)\n",
    "q_05 = rvX2.ppf(0.05)\n",
    "q_95 = rvX2.ppf(0.95)\n",
    "[(n-1)*s2/q_95, (n-1)*s2/q_05]"
   ]
  },
  {
   "cell_type": "code",
   "execution_count": null,
   "id": "7b4f7329-e873-48b2-9903-b32a7a78e637",
   "metadata": {},
   "outputs": [],
   "source": []
  },
  {
   "cell_type": "markdown",
   "id": "95666c33-ad11-4b58-9377-639cb90b170d",
   "metadata": {},
   "source": [
    "#### Bootstrap confidence interval for the variance"
   ]
  },
  {
   "cell_type": "code",
   "execution_count": 31,
   "id": "d0a1c718-59ad-4421-9f8f-59dd6a1d34f9",
   "metadata": {},
   "outputs": [
    {
     "data": {
      "text/plain": [
       "[196.387816091954, 480.82183908046]"
      ]
     },
     "execution_count": 31,
     "metadata": {},
     "output_type": "execute_result"
    }
   ],
   "source": [
    "np.random.seed(53)\n",
    "avars_boot = gen_boot_dist(asample, estfunc=var)\n",
    "[np.percentile(avars_boot,5),\n",
    " np.percentile(avars_boot,95)]"
   ]
  },
  {
   "cell_type": "code",
   "execution_count": null,
   "id": "332ba387-70ee-4d9a-8c6e-70325db77cb7",
   "metadata": {},
   "outputs": [],
   "source": []
  },
  {
   "cell_type": "markdown",
   "id": "5bbe6107-a326-4ba4-866a-92bba380f97b",
   "metadata": {},
   "source": [
    "### Reusable procedure"
   ]
  },
  {
   "cell_type": "code",
   "execution_count": 32,
   "id": "75ad4237-3966-45fc-b926-8854f0ad0bc3",
   "metadata": {},
   "outputs": [],
   "source": [
    "def ci_var(sample, alpha=0.1, method=\"a\"):\n",
    "    \"\"\"\n",
    "    Compute the confidence interval for the population variance.\n",
    "    \"\"\"\n",
    "    assert method in [\"a\", \"b\"]\n",
    "    if method == \"a\":        # analytical approximation\n",
    "        n = len(sample)\n",
    "        s2 = np.var(sample, ddof=1)\n",
    "        q_l = chi2.ppf(alpha/2, df=n-1)\n",
    "        q_u = chi2.ppf(1-alpha/2, df=n-1)\n",
    "        return [(n-1)*s2/q_u, (n-1)*s2/q_l]\n",
    "    elif method == \"b\":          # bootstrap estimation\n",
    "        vars_boot = gen_boot_dist(sample, estfunc=var)\n",
    "        return [np.quantile(vars_boot, alpha/2),\n",
    "                np.quantile(vars_boot, 1-alpha/2)]\n",
    "\n",
    "# ALT.\n",
    "# from stats_helpers import ci_var"
   ]
  },
  {
   "cell_type": "markdown",
   "id": "2d532894-c770-46f6-9197-32d80a98109b",
   "metadata": {},
   "source": [
    "### Verify coverage probability"
   ]
  },
  {
   "cell_type": "code",
   "execution_count": 33,
   "id": "1c3c2542-c00b-4e30-9284-40e1ff852e85",
   "metadata": {},
   "outputs": [
    {
     "name": "stdout",
     "output_type": "stream",
     "text": [
      "Coverage proportion of analytical approx. CIs: 0.89\n",
      "Coverage proportion of bootstrap CIs: 0.81\n"
     ]
    }
   ],
   "source": [
    "np.random.seed(42)\n",
    "\n",
    "N = 100  # change to N=1000 for more accuracty\n",
    "n = 20\n",
    "\n",
    "from scipy.stats import norm\n",
    "muK = 1000\n",
    "sigmaK = 10\n",
    "rvK = norm(muK, sigmaK)\n",
    "\n",
    "acount, bcount = 0, 0\n",
    "for j in range(0, N):\n",
    "    ksample = rvK.rvs(n)\n",
    "    cia = ci_var(ksample, alpha=0.1, method=\"a\")\n",
    "    if cia[0] <= sigmaK**2 <= cia[1]:\n",
    "        acount += 1\n",
    "    cib = ci_var(ksample, alpha=0.1, method=\"b\")\n",
    "    if cib[0] <= sigmaK**2 <= cib[1]:\n",
    "        bcount += 1\n",
    "\n",
    "print(\"Coverage proportion of analytical approx. CIs:\", acount/N)\n",
    "print(\"Coverage proportion of bootstrap CIs:\", bcount/N)"
   ]
  },
  {
   "cell_type": "code",
   "execution_count": null,
   "id": "3bc3074f-d35b-45d1-b4d0-12c46d2b5fd4",
   "metadata": {},
   "outputs": [],
   "source": []
  },
  {
   "cell_type": "markdown",
   "id": "b539e872-4485-4756-9f3f-b2104549bf82",
   "metadata": {
    "tags": []
   },
   "source": [
    "### Alternative computations (optional)"
   ]
  },
  {
   "cell_type": "code",
   "execution_count": 34,
   "id": "db2b2e3d-59d9-4cd8-b4c8-7d56fd9a2daa",
   "metadata": {},
   "outputs": [
    {
     "data": {
      "text/plain": [
       "[196.387816091954, 480.82183908046]"
      ]
     },
     "execution_count": 34,
     "metadata": {},
     "output_type": "execute_result"
    }
   ],
   "source": [
    "# ALT1. use the `bootstrap` function from `scipy.stats`\n",
    "from scipy.stats import bootstrap\n",
    "\n",
    "np.random.seed(53)\n",
    "res = bootstrap((asample,), statistic=var,\n",
    "                confidence_level=0.9, n_resamples=5000,\n",
    "                vectorized=False, method=\"percentile\")\n",
    "[res.confidence_interval.low,\n",
    " res.confidence_interval.high]"
   ]
  },
  {
   "cell_type": "markdown",
   "id": "ffddd658-a6de-48a7-9bf1-fd370c0100c7",
   "metadata": {},
   "source": [
    "Note we just changed the argument `statistic` to the function `bootstrap`."
   ]
  },
  {
   "cell_type": "code",
   "execution_count": 35,
   "id": "0028a3bc-9819-4874-9943-d11f05a22311",
   "metadata": {},
   "outputs": [
    {
     "data": {
      "text/plain": [
       "array([193.13, 487.84])"
      ]
     },
     "execution_count": 35,
     "metadata": {},
     "output_type": "execute_result"
    }
   ],
   "source": [
    "# ALT2. use the `compute_bootci` function from `pingouin`\n",
    "from pingouin import compute_bootci\n",
    "\n",
    "compute_bootci(asample, func=var,\n",
    "               confidence=0.9, n_boot=5000,\n",
    "               method=\"per\", seed=53)"
   ]
  },
  {
   "cell_type": "code",
   "execution_count": null,
   "id": "c77d35a0-a8bc-4e1d-abb8-8b89be9a46d6",
   "metadata": {},
   "outputs": [],
   "source": []
  },
  {
   "cell_type": "markdown",
   "id": "92e31c38-0109-4d38-93e5-28fdf7f7337d",
   "metadata": {},
   "source": [
    "## Confidence interval for the difference between means"
   ]
  },
  {
   "cell_type": "markdown",
   "id": "b6fd7daa-e69e-4c0d-9852-3c7811bbde1b",
   "metadata": {},
   "source": [
    "### Example 3: confidence interval for difference in electricity prices"
   ]
  },
  {
   "cell_type": "code",
   "execution_count": 36,
   "id": "bc914471-36a2-48f9-8a82-6f09d814f741",
   "metadata": {},
   "outputs": [],
   "source": [
    "eprices = pd.read_csv(\"../datasets/eprices.csv\")\n",
    "pricesW = eprices[eprices[\"end\"]==\"West\"][\"price\"]\n",
    "pricesE = eprices[eprices[\"end\"]==\"East\"][\"price\"]"
   ]
  },
  {
   "cell_type": "code",
   "execution_count": 37,
   "id": "aedb1d76-9c43-475a-8d65-a910ba492432",
   "metadata": {},
   "outputs": [
    {
     "data": {
      "text/plain": [
       "(1.5621388471508475, 9, 0.8776547030454391, 9)"
      ]
     },
     "execution_count": 37,
     "metadata": {},
     "output_type": "execute_result"
    }
   ],
   "source": [
    "# sample size and std in West and East\n",
    "stdW, nW = pricesW.std(), pricesW.count()\n",
    "stdE, nE = pricesE.std(), pricesE.count()\n",
    "stdW, nW, stdE, nE"
   ]
  },
  {
   "cell_type": "code",
   "execution_count": 38,
   "id": "ecb42738-74c7-46cf-8243-d4c6081e037e",
   "metadata": {},
   "outputs": [
    {
     "data": {
      "text/plain": [
       "3.0"
      ]
     },
     "execution_count": 38,
     "metadata": {},
     "output_type": "execute_result"
    }
   ],
   "source": [
    "# center of the CI\n",
    "dhat = dmeans(pricesW, pricesE)\n",
    "dhat"
   ]
  },
  {
   "cell_type": "code",
   "execution_count": 39,
   "id": "c69b9f59-1293-4fd3-8871-bfd22a97bdc6",
   "metadata": {},
   "outputs": [
    {
     "data": {
      "text/plain": [
       "0.5972674401486562"
      ]
     },
     "execution_count": 39,
     "metadata": {},
     "output_type": "execute_result"
    }
   ],
   "source": [
    "# standard error\n",
    "seD = np.sqrt(stdW**2/nW + stdE**2/nE)\n",
    "seD"
   ]
  },
  {
   "cell_type": "code",
   "execution_count": 40,
   "id": "1cdcfafb-3ebd-40ba-aa95-6fc133bf1617",
   "metadata": {},
   "outputs": [
    {
     "data": {
      "text/plain": [
       "12.59281702723103"
      ]
     },
     "execution_count": 40,
     "metadata": {},
     "output_type": "execute_result"
    }
   ],
   "source": [
    "# degrees of freedom\n",
    "from stats_helpers import calcdf\n",
    "df = calcdf(stdW, nW, stdE, nE)\n",
    "df"
   ]
  },
  {
   "cell_type": "code",
   "execution_count": 41,
   "id": "4c3d9b24-bb78-4ef9-9d02-e8127f0c28bf",
   "metadata": {},
   "outputs": [
    {
     "data": {
      "text/plain": [
       "[1.9396575883681457, 4.060342411631854]"
      ]
     },
     "execution_count": 41,
     "metadata": {},
     "output_type": "execute_result"
    }
   ],
   "source": [
    "from scipy.stats import t as tdist\n",
    "rvT = tdist(df)\n",
    "t_05 = rvT.ppf(0.05)\n",
    "t_95 = rvT.ppf(0.95)\n",
    "\n",
    "[dhat + t_05*seD, dhat + t_95*seD]"
   ]
  },
  {
   "cell_type": "code",
   "execution_count": null,
   "id": "0627f437-461d-4684-ae50-200623148956",
   "metadata": {},
   "outputs": [],
   "source": []
  },
  {
   "cell_type": "markdown",
   "id": "85104720-655c-40c2-9830-0f1f333f8481",
   "metadata": {},
   "source": [
    "#### Bootstrap confidence interval"
   ]
  },
  {
   "cell_type": "code",
   "execution_count": 42,
   "id": "df045afe-6d9a-4f18-aa04-d771c341da10",
   "metadata": {},
   "outputs": [
    {
     "data": {
      "text/plain": [
       "[2.0666666666666664, 3.933888888888892]"
      ]
     },
     "execution_count": 42,
     "metadata": {},
     "output_type": "execute_result"
    }
   ],
   "source": [
    "# compute bootstrap estimates for mean in each group\n",
    "np.random.seed(42)\n",
    "meanW_boot = gen_boot_dist(pricesW, estfunc=mean)\n",
    "meanE_boot = gen_boot_dist(pricesE, estfunc=mean)\n",
    "\n",
    "# compute the difference between means of bootstrap samples\n",
    "dmeans_boot = np.subtract(meanW_boot, meanE_boot)\n",
    "\n",
    "[np.percentile(dmeans_boot,5),\n",
    " np.percentile(dmeans_boot,95)]"
   ]
  },
  {
   "cell_type": "code",
   "execution_count": null,
   "id": "05659417-e91f-4ab7-bac3-105bc5abce42",
   "metadata": {},
   "outputs": [],
   "source": []
  },
  {
   "cell_type": "markdown",
   "id": "80e072d7-44de-44ba-bec2-c24aeb59c52c",
   "metadata": {},
   "source": [
    "### Reusable procedure"
   ]
  },
  {
   "cell_type": "code",
   "execution_count": 43,
   "id": "28a3c7dc-871b-4c77-b25b-f306623c2440",
   "metadata": {},
   "outputs": [],
   "source": [
    "def ci_dmeans(xsample, ysample, alpha=0.1, method=\"a\"):\n",
    "    \"\"\"\n",
    "    Compute the confidence interval for the difference between means.\n",
    "    \"\"\"\n",
    "    assert method in [\"a\", \"b\"]\n",
    "    if method == \"a\":        # analytical approximation\n",
    "        stdX, n = np.std(xsample, ddof=1), len(xsample)\n",
    "        stdY, m = np.std(ysample, ddof=1), len(ysample)\n",
    "        dhat = np.mean(xsample) - np.mean(ysample)\n",
    "        seD = np.sqrt(stdX**2/n + stdY**2/m)\n",
    "        df = calcdf(stdX, n, stdY, m)\n",
    "        t_l = tdist.ppf(alpha/2, df=df)\n",
    "        t_u = tdist.ppf(1-alpha/2, df=df)\n",
    "        return [dhat + t_l*seD, dhat + t_u*seD]\n",
    "    elif method == \"b\":          # bootstrap estimation\n",
    "        xbars_boot = gen_boot_dist(xsample, np.mean)\n",
    "        ybars_boot = gen_boot_dist(ysample, np.mean)\n",
    "        dmeans_boot = np.subtract(xbars_boot, ybars_boot)\n",
    "        return [np.quantile(dmeans_boot, alpha/2),\n",
    "                np.quantile(dmeans_boot, 1-alpha/2)]\n",
    "\n",
    "# ALT.\n",
    "# from stats_helpers import ci_dmeans"
   ]
  },
  {
   "cell_type": "code",
   "execution_count": null,
   "id": "5414b0fb-c41f-4340-aeb3-11ca569b61e1",
   "metadata": {},
   "outputs": [],
   "source": []
  },
  {
   "cell_type": "markdown",
   "id": "164ec32b-39b0-4d35-bb39-ad81925a1dda",
   "metadata": {},
   "source": [
    "### Verify the coverage probability"
   ]
  },
  {
   "cell_type": "code",
   "execution_count": 44,
   "id": "1a888559-ec22-488a-8f9b-b742da55d4da",
   "metadata": {},
   "outputs": [
    {
     "name": "stdout",
     "output_type": "stream",
     "text": [
      "Coverage proportion of analytical approx. CIs: 0.85\n",
      "Coverage proportion of bootstrap CIs: 0.84\n"
     ]
    }
   ],
   "source": [
    "np.random.seed(42)\n",
    "\n",
    "N = 100  # change to N=1000 for more accuracty\n",
    "n = 20\n",
    "\n",
    "from scipy.stats import norm\n",
    "muX, muY = 120, 100\n",
    "sigmaX, sigmaY = 10, 10\n",
    "rvX = norm(muX, sigmaX)\n",
    "rvY = norm(muY, sigmaY)\n",
    "\n",
    "acount, bcount = 0, 0\n",
    "for j in range(0, N):\n",
    "    xsample = rvX.rvs(n)\n",
    "    ysample = rvY.rvs(n)\n",
    "    cia = ci_dmeans(xsample, ysample, alpha=0.1, method=\"a\")\n",
    "    if cia[0] <= muX - muY <= cia[1]:\n",
    "        acount += 1\n",
    "    cib = ci_dmeans(xsample, ysample, alpha=0.1, method=\"b\")\n",
    "    if cib[0] <= muX - muY <= cib[1]:\n",
    "        bcount += 1\n",
    "\n",
    "print(\"Coverage proportion of analytical approx. CIs:\", acount/N)\n",
    "print(\"Coverage proportion of bootstrap CIs:\", bcount/N)"
   ]
  },
  {
   "cell_type": "code",
   "execution_count": null,
   "id": "15ba3306-8a64-4cdd-b31b-8e10574e6c2d",
   "metadata": {},
   "outputs": [],
   "source": []
  },
  {
   "cell_type": "markdown",
   "id": "0881722b-ccc9-4050-aa0a-f460a36fc188",
   "metadata": {
    "tags": []
   },
   "source": [
    "### Alternative computations (optional)"
   ]
  },
  {
   "cell_type": "code",
   "execution_count": 45,
   "id": "bdaa86f6-e19a-40d2-b085-41652c03ffca",
   "metadata": {},
   "outputs": [
    {
     "data": {
      "text/plain": [
       "(1.9396575883681464, 4.060342411631853)"
      ]
     },
     "execution_count": 45,
     "metadata": {},
     "output_type": "execute_result"
    }
   ],
   "source": [
    "# ALT1. using `statsmodels`\n",
    "import statsmodels.stats.api as sms\n",
    "\n",
    "statsW = sms.DescrStatsW(pricesW)\n",
    "statsE = sms.DescrStatsW(pricesE)\n",
    "cm = sms.CompareMeans(statsW, statsE)\n",
    "cm.tconfint_diff(alpha=0.1, usevar=\"unequal\")"
   ]
  },
  {
   "cell_type": "markdown",
   "id": "d1dba5ef-947d-4dac-9d76-2270c3cf8fa4",
   "metadata": {},
   "source": [
    "In the above code example, the functions `sms.DescrStatsW` compute the descriptive statistics\n",
    "for the two samples, then `sms.CompareMeans` performs the comparison of means statistical analysis.\n",
    "We call the method `tconfint_diff` to extract the 90\\% confidence interval from the result."
   ]
  },
  {
   "cell_type": "code",
   "execution_count": 46,
   "id": "52e7620d-1afe-4fd2-9dd2-d26d28de7482",
   "metadata": {},
   "outputs": [
    {
     "data": {
      "text/plain": [
       "array([1.93965759, 4.06034241])"
      ]
     },
     "execution_count": 46,
     "metadata": {},
     "output_type": "execute_result"
    }
   ],
   "source": [
    "# ALT2. using `pingouin`\n",
    "import pingouin as pg\n",
    "\n",
    "res = pg.ttest(pricesW, pricesE, confidence=0.9, correction=True)\n",
    "res[\"CI90%\"].values[0]"
   ]
  },
  {
   "cell_type": "markdown",
   "id": "a364458e-f576-483b-8ec0-68b37e14ef46",
   "metadata": {},
   "source": [
    "As you can see,\n",
    "the numbers we obtain from the `statsmodels` and `pingouin` functions\n",
    "are exactly the same as the confidence interval we computed manually."
   ]
  },
  {
   "cell_type": "code",
   "execution_count": 47,
   "id": "442d32d8-9854-4c5e-abd0-deef50534d56",
   "metadata": {},
   "outputs": [
    {
     "data": {
      "text/plain": [
       "[2.0666666666666664, 3.933888888888892]"
      ]
     },
     "execution_count": 47,
     "metadata": {},
     "output_type": "execute_result"
    }
   ],
   "source": [
    "# ALT3. use `bootstrap` function from `scipy.stats`\n",
    "from scipy.stats import bootstrap\n",
    "\n",
    "np.random.seed(42)\n",
    "res = bootstrap((pricesW, pricesE), statistic=dmeans,\n",
    "                confidence_level=0.9, n_resamples=5000,\n",
    "                vectorized=False, method=\"percentile\")\n",
    "[res.confidence_interval.low,\n",
    " res.confidence_interval.high]"
   ]
  },
  {
   "cell_type": "code",
   "execution_count": null,
   "id": "9f866cda-5579-4ebc-af26-01dc1edf2902",
   "metadata": {},
   "outputs": [],
   "source": []
  },
  {
   "cell_type": "code",
   "execution_count": null,
   "id": "8f83ebbe-148e-4db3-a0e3-8cbcf6c29184",
   "metadata": {},
   "outputs": [],
   "source": []
  },
  {
   "cell_type": "markdown",
   "id": "bae0f654-4ea8-4b67-97a8-f5eeac56fd38",
   "metadata": {},
   "source": [
    "## Explanations"
   ]
  },
  {
   "cell_type": "markdown",
   "id": "0076e09e-0360-4144-a05d-1d585d20687b",
   "metadata": {},
   "source": [
    "### One-sided confidence intervals"
   ]
  },
  {
   "cell_type": "code",
   "execution_count": null,
   "id": "dda2cfa0-57c8-4836-a1a1-46b222dfdd42",
   "metadata": {},
   "outputs": [],
   "source": []
  },
  {
   "cell_type": "markdown",
   "id": "edfde13a-4f61-4b51-83b8-2cc8475b0159",
   "metadata": {},
   "source": [
    "### Point and interval estimates\n",
    "\n",
    "terminology...\n"
   ]
  },
  {
   "cell_type": "markdown",
   "id": "45473913-fddc-40e2-b774-8d636782d55f",
   "metadata": {},
   "source": [
    "### Frequentist interpretation\n",
    "\n",
    "Guarantees for confidence intervals given in terms of $\\mathbb{E}_\\mathbf{X}$, the expectation over a random sample $\\mathbf{X}$. These guarantees can be interpreted as long-term average error rates if the statistical procedure were performed many times (frequentist paradigm).\n",
    "Note in the frequentist paradigm gives no guarantee about any specific confidence interval—only gives guarantee about the performance of the procedure we used for computing the CIs."
   ]
  },
  {
   "cell_type": "code",
   "execution_count": null,
   "id": "2f3db54f-062d-4b09-9124-5e9575e5fc1f",
   "metadata": {},
   "outputs": [],
   "source": []
  },
  {
   "cell_type": "markdown",
   "id": "1ab22261-2f16-451a-a94d-25423ad30e6c",
   "metadata": {},
   "source": [
    "### Assumptions\n",
    "\n",
    "condensed mention of:    (full discussion of assumptions in Sec 3.4)\n",
    "Parametric model assumption (conceptual)  cf. nonparametric methods\n",
    "\n",
    "- (NORM): the population is normally distributed (normality test)\n",
    "- (LARGEn): the sample size is “large enough” for approximate normality\n",
    "- (EQVAR): the variance in two groups is the same\n"
   ]
  },
  {
   "cell_type": "code",
   "execution_count": null,
   "id": "e94d280e-07ae-4ba4-a3e2-d797a4c39ecc",
   "metadata": {},
   "outputs": [],
   "source": []
  },
  {
   "cell_type": "markdown",
   "id": "55903ffc-11fa-4bd0-bc36-756919b670ce",
   "metadata": {},
   "source": [
    "## Discussion"
   ]
  },
  {
   "cell_type": "markdown",
   "id": "ff6dee4c-ab05-42db-9186-395e4edfb227",
   "metadata": {},
   "source": [
    "### Misconceptions about confidence intervals\n",
    "\n",
    "See main text."
   ]
  },
  {
   "cell_type": "markdown",
   "id": "dd027a87-4a4c-43ac-9cdb-b451300b090d",
   "metadata": {},
   "source": [
    "### Comparing analytical formulas and bootstrap estimates\n"
   ]
  },
  {
   "cell_type": "code",
   "execution_count": null,
   "id": "b221347b-2f11-4bd8-98f9-9ce2f55cfb04",
   "metadata": {},
   "outputs": [],
   "source": []
  },
  {
   "cell_type": "markdown",
   "id": "d3a3dc8a-6816-49de-9fc0-d2e9ab2242ce",
   "metadata": {},
   "source": [
    "### Alternative bootstrap confidence intervals\n",
    "\n",
    "Mention more advanced bootstrap methods like BCa exist (--> see problem PZZ)"
   ]
  },
  {
   "cell_type": "code",
   "execution_count": 48,
   "id": "df59343a-67f3-43d9-9f19-2e53b416f296",
   "metadata": {},
   "outputs": [
    {
     "data": {
      "text/plain": [
       "[211.43896604814086, 506.76570124346426]"
      ]
     },
     "execution_count": 48,
     "metadata": {},
     "output_type": "execute_result"
    },
    {
     "data": {
      "image/png": "[encoded data removed]",
      "text/plain": [
       "<Figure size 1000x300 with 1 Axes>"
      ]
     },
     "metadata": {
      "image/png": {
       "height": 274,
       "width": 850
      }
     },
     "output_type": "display_data"
    }
   ],
   "source": [
    "# Parametric boostrap 1: assume normal model for the population\n",
    "avars_boot = gen_boot_dist(asample, estfunc=var)\n",
    "\n",
    "n = asample.count()\n",
    "abar = mean(asample)\n",
    "astd = std(asample)\n",
    "rvNS2 = norm(abar, astd)\n",
    "\n",
    "from stats_helpers import gen_sampling_dist\n",
    "avars_pboot1 = gen_sampling_dist(rvNS2, estfunc=var, n=n)\n",
    "\n",
    "sns.histplot(avars_pboot1, bins=30)\n",
    "\n",
    "[np.percentile(avars_pboot1,5),\n",
    " np.percentile(avars_pboot1,95)]"
   ]
  },
  {
   "cell_type": "code",
   "execution_count": 49,
   "id": "76ef43f9-2b5d-4c86-99ff-0c1ed732e386",
   "metadata": {},
   "outputs": [
    {
     "data": {
      "text/plain": [
       "[212.76908831801552, 511.8854254249474]"
      ]
     },
     "execution_count": 49,
     "metadata": {},
     "output_type": "execute_result"
    },
    {
     "data": {
      "image/png": "[encoded data removed]",
      "text/plain": [
       "<Figure size 1000x300 with 1 Axes>"
      ]
     },
     "metadata": {
      "image/png": {
       "height": 276,
       "width": 844
      }
     },
     "output_type": "display_data"
    }
   ],
   "source": [
    "# Parametric boostrap 2: direct modelling of var using scaled chi-square model\n",
    "# This is a random idea based on Example 4 in cut_material/discovering_estimator_formulas.tex\n",
    "avars_boot = gen_boot_dist(asample, estfunc=var)\n",
    "\n",
    "n = asample.count()\n",
    "df = n-1\n",
    "scale = var(asample) / (n-1)\n",
    "\n",
    "from scipy.stats import chi2\n",
    "rvS2 = chi2(df=df, scale=scale)\n",
    "\n",
    "from stats_helpers import gen_sampling_dist\n",
    "avars_pboot2 = rvS2.rvs(5000)\n",
    "\n",
    "sns.histplot(avars_pboot2, bins=30)\n",
    "\n",
    "[np.percentile(avars_pboot2,5),\n",
    " np.percentile(avars_pboot2,95)]"
   ]
  },
  {
   "cell_type": "code",
   "execution_count": 50,
   "id": "348f9711-9ee3-40a8-a75b-d6a03cd8dacc",
   "metadata": {},
   "outputs": [
    {
     "data": {
      "text/plain": [
       "[211.122988505747, 495.557011494253]"
      ]
     },
     "execution_count": 50,
     "metadata": {},
     "output_type": "execute_result"
    }
   ],
   "source": [
    "# Basic bootstrap (a.k.a. reversed)\n",
    "from scipy.stats import bootstrap\n",
    "\n",
    "np.random.seed(53)\n",
    "res = bootstrap((asample,), statistic=var,\n",
    "                confidence_level=0.9, n_resamples=5000,\n",
    "                vectorized=False, method=\"basic\")\n",
    "\n",
    "# sns.histplot(res.bootstrap_distribution, bins=30)\n",
    "\n",
    "[res.confidence_interval.low,\n",
    " res.confidence_interval.high]"
   ]
  },
  {
   "cell_type": "code",
   "execution_count": 51,
   "id": "bbccaeb7-0e99-4e48-823f-fee58a0bbad6",
   "metadata": {},
   "outputs": [
    {
     "data": {
      "text/plain": [
       "[231.29845557680545, 541.4179333052508]"
      ]
     },
     "execution_count": 51,
     "metadata": {},
     "output_type": "execute_result"
    }
   ],
   "source": [
    "# BCa = Bias-Corrected accelerated\n",
    "from scipy.stats import bootstrap\n",
    "\n",
    "np.random.seed(53)\n",
    "res = bootstrap((asample,), statistic=var,\n",
    "                confidence_level=0.9, n_resamples=5000,\n",
    "                vectorized=False, method=\"bca\")\n",
    "\n",
    "# sns.histplot(res.bootstrap_distribution, bins=30)\n",
    "\n",
    "[res.confidence_interval.low,\n",
    " res.confidence_interval.high]"
   ]
  },
  {
   "cell_type": "code",
   "execution_count": null,
   "id": "14e6c248-fd9c-442b-b4a2-a3cac0433a95",
   "metadata": {},
   "outputs": [],
   "source": []
  },
  {
   "cell_type": "markdown",
   "id": "03c0a671-159e-4fbc-a8d4-03caea5081b9",
   "metadata": {},
   "source": [
    "This interval is very close to the analytical approximation we obtained\n",
    "in terms of the chi-square reference distribution $[235.8, 566.6]$."
   ]
  },
  {
   "cell_type": "markdown",
   "id": "fe65344d-3007-4691-b284-0cb1d1119d7a",
   "metadata": {},
   "source": [
    "### Evaluation of confidence interval methods\n",
    "\n",
    "Rows:\n",
    "- uniform\n",
    "- norm\n",
    "- skewed ?\n",
    "- long tailed (exp)\n",
    "- bimodal\n",
    "\n",
    "Cols:\n",
    "- analytical approx\n",
    "- percentile bootstrap\n",
    "- basic bootstrap\n",
    "- BCa\n",
    "\n"
   ]
  },
  {
   "cell_type": "code",
   "execution_count": 52,
   "id": "b90f7217-28d8-42f7-bc95-30d540f6e2b8",
   "metadata": {},
   "outputs": [
    {
     "data": {
      "text/plain": [
       "<AxesSubplot: xlabel='x', ylabel='$f_{X}$'>"
      ]
     },
     "execution_count": 52,
     "metadata": {},
     "output_type": "execute_result"
    },
    {
     "data": {
      "image/png": "[encoded data removed]",
      "text/plain": [
       "<Figure size 1000x300 with 1 Axes>"
      ]
     },
     "metadata": {
      "image/png": {
       "height": 295,
       "width": 847
      }
     },
     "output_type": "display_data"
    }
   ],
   "source": [
    "from scipy.stats import norm\n",
    "\n",
    "class mixnorms(object):\n",
    "    \"\"\"\n",
    "    Custom class to represent mixture of normals.\n",
    "    \"\"\"\n",
    "\n",
    "    def __init__(self, locs, scales, weights):\n",
    "        assert len(locs) == len(scales)\n",
    "        assert len(locs) == len(weights)\n",
    "        self.locs = locs\n",
    "        self.scales = scales\n",
    "        self.weights = weights\n",
    "\n",
    "    def pdf(self, x):\n",
    "        rvNs = [norm(loc, scale) for loc, scale in zip(self.locs, self.scales)]\n",
    "        terms = [w*rvN.pdf(x) for w, rvN in zip(self.weights, rvNs)]\n",
    "        return sum(terms)\n",
    "    \n",
    "    def mean(self):\n",
    "        return sum([w*loc for w, loc in zip(self.weights, self.locs)])\n",
    "\n",
    "    def var(self):\n",
    "        # via https://stats.stackexchange.com/a/604872/62481\n",
    "        assert len(self.weights) == 2\n",
    "        wA = self.weights[0]\n",
    "        muA = self.locs[0]\n",
    "        sigmaA = self.scales[0]\n",
    "        wB = self.weights[1]\n",
    "        muB = self.locs[1]\n",
    "        sigmaB = self.scales[1]\n",
    "        return wA*sigmaA**2 + wB*sigmaB**2 + wA*wB*(muA-muB)**2\n",
    "\n",
    "    def rvs(self, n):\n",
    "        rvNs = [norm(loc, scale) for loc, scale in zip(self.locs, self.scales)]\n",
    "        ids = range(0,len(self.weights))\n",
    "        choices = np.random.choice(ids, n, p=self.weights)\n",
    "        values = np.zeros(n)\n",
    "        for i, choice in enumerate(choices):\n",
    "            rvN = rvNs[choice]\n",
    "            values[i] = rvN.rvs(1)\n",
    "        return values\n",
    "\n",
    "\n",
    "rvB = mixnorms(locs=[3,6.2], scales=[1,1], weights=[0.4,0.6])\n",
    "plot_pdf(rvB, xlims=[0,10])\n",
    "# var(rvB.rvs(30000)), rvB.var()\n",
    "\n",
    "# rvS = lognorm(0.3)\n",
    "# plot_pdf(rvS)\n",
    "\n",
    "# rvE = expon(loc=0, scale=1/5)\n",
    "# plot_pdf(rvE)"
   ]
  },
  {
   "cell_type": "code",
   "execution_count": 53,
   "id": "79e53f7e-3cea-4b0f-9aa0-a844df5f56a7",
   "metadata": {},
   "outputs": [],
   "source": [
    "from scipy.stats import uniform, norm, lognorm, expon\n",
    "\n",
    "pops = {\n",
    "    \"U\": uniform(),\n",
    "    \"Z\": norm(),\n",
    "    \"S\": lognorm(0.3),\n",
    "    \"E\": expon(loc=0, scale=1/5),\n",
    "    \"B\": mixnorms(locs=[3,6.2], scales=[1,1], weights=[0.4,0.6]),\n",
    "}\n",
    "\n",
    "cols = {\n",
    "    \"a\": \"analytical approx.\",\n",
    "    \"percentile\": \"percentile bootstrap\",\n",
    "    \"basic\": \"basic bootstrap\",\n",
    "    \"bca\": \"BCA\",\n",
    "}"
   ]
  },
  {
   "cell_type": "code",
   "execution_count": null,
   "id": "47b6e405-f36c-4fd2-aa46-d481e9816fe0",
   "metadata": {},
   "outputs": [],
   "source": []
  },
  {
   "cell_type": "markdown",
   "id": "4446500e-8f2a-4e6a-8467-6cf762f78219",
   "metadata": {},
   "source": [
    "#### Coverage probabilities for population mean"
   ]
  },
  {
   "cell_type": "code",
   "execution_count": 54,
   "id": "8669a4ad-ef3c-4461-ba1a-e4cc8101a30d",
   "metadata": {},
   "outputs": [
    {
     "data": {
      "text/html": [
       "<div>\n",
       "<style scoped>\n",
       "    .dataframe tbody tr th:only-of-type {\n",
       "        vertical-align: middle;\n",
       "    }\n",
       "\n",
       "    .dataframe tbody tr th {\n",
       "        vertical-align: top;\n",
       "    }\n",
       "\n",
       "    .dataframe thead th {\n",
       "        text-align: right;\n",
       "    }\n",
       "</style>\n",
       "<table border=\"1\" class=\"dataframe\">\n",
       "  <thead>\n",
       "    <tr style=\"text-align: right;\">\n",
       "      <th></th>\n",
       "      <th>Unnamed: 0</th>\n",
       "      <th>analytical approx.</th>\n",
       "      <th>percentile bootstrap</th>\n",
       "      <th>basic bootstrap</th>\n",
       "      <th>BCA</th>\n",
       "    </tr>\n",
       "  </thead>\n",
       "  <tbody>\n",
       "    <tr>\n",
       "      <th>0</th>\n",
       "      <td>U</td>\n",
       "      <td>0.886</td>\n",
       "      <td>0.852</td>\n",
       "      <td>0.839</td>\n",
       "      <td>0.872</td>\n",
       "    </tr>\n",
       "    <tr>\n",
       "      <th>1</th>\n",
       "      <td>Z</td>\n",
       "      <td>0.905</td>\n",
       "      <td>0.874</td>\n",
       "      <td>0.873</td>\n",
       "      <td>0.874</td>\n",
       "    </tr>\n",
       "    <tr>\n",
       "      <th>2</th>\n",
       "      <td>S</td>\n",
       "      <td>0.906</td>\n",
       "      <td>0.885</td>\n",
       "      <td>0.891</td>\n",
       "      <td>0.880</td>\n",
       "    </tr>\n",
       "    <tr>\n",
       "      <th>3</th>\n",
       "      <td>E</td>\n",
       "      <td>0.884</td>\n",
       "      <td>0.866</td>\n",
       "      <td>0.858</td>\n",
       "      <td>0.869</td>\n",
       "    </tr>\n",
       "    <tr>\n",
       "      <th>4</th>\n",
       "      <td>B</td>\n",
       "      <td>0.876</td>\n",
       "      <td>0.851</td>\n",
       "      <td>0.837</td>\n",
       "      <td>0.863</td>\n",
       "    </tr>\n",
       "  </tbody>\n",
       "</table>\n",
       "</div>"
      ],
      "text/plain": [
       "  Unnamed: 0  analytical approx.  percentile bootstrap  basic bootstrap    BCA\n",
       "0          U               0.886                 0.852            0.839  0.872\n",
       "1          Z               0.905                 0.874            0.873  0.874\n",
       "2          S               0.906                 0.885            0.891  0.880\n",
       "3          E               0.884                 0.866            0.858  0.869\n",
       "4          B               0.876                 0.851            0.837  0.863"
      ]
     },
     "execution_count": 54,
     "metadata": {},
     "output_type": "execute_result"
    }
   ],
   "source": [
    "filename = os.path.join(\"mydataset\", \"results_mean_n20.csv\")\n",
    "from stats_helpers import boot_ci, ci_mean\n",
    "\n",
    "# simulation parameters\n",
    "N = 1000       # number of simulations\n",
    "n = 20        # sample size\n",
    "alpha = 0.1   # target error level\n",
    "B = 5000      # number of bootstrap samples\n",
    "\n",
    "if os.path.exists(filename):\n",
    "    # load simulation results\n",
    "    results_mean_n20 = pd.read_csv(filename)\n",
    "else:\n",
    "    # run simulation\n",
    "    results_mean_n20 = pd.DataFrame(index=pops.keys(), columns=cols.values())\n",
    "    for pop in pops.keys():\n",
    "        print(f\"Evaluating rv{pop} ...\")\n",
    "        rv = pops[pop]\n",
    "        pop_mean = rv.mean()\n",
    "        counts = {'a':0, 'percentile':0, 'basic':0, 'bca':0}\n",
    "        for j in range(0, N):\n",
    "            sample = rv.rvs(n)\n",
    "            for method in cols.keys():\n",
    "                if method == \"a\":\n",
    "                    ci = ci_mean(sample, alpha=alpha, method=\"a\")\n",
    "                else:\n",
    "                    ci = boot_ci(sample, estfunc=np.mean, alpha=alpha, method=method, B=B)\n",
    "                if ci[0] <= pop_mean <= ci[1]:\n",
    "                    counts[method] += 1\n",
    "        for method in counts.keys():\n",
    "            results_mean_n20.loc[pop, cols[method]] = counts[method] / N\n",
    "    results_mean_n20.to_csv(filename)\n",
    "\n",
    "results_mean_n20"
   ]
  },
  {
   "cell_type": "code",
   "execution_count": 55,
   "id": "3ff5ed9f-5f88-474e-be1c-e45ba7b50ed9",
   "metadata": {},
   "outputs": [],
   "source": [
    "# print(results_mean_n20.to_latex())"
   ]
  },
  {
   "cell_type": "code",
   "execution_count": null,
   "id": "246b067d-f3bc-47d1-a1f7-53eeb67a2ee7",
   "metadata": {},
   "outputs": [],
   "source": []
  },
  {
   "cell_type": "code",
   "execution_count": 56,
   "id": "f54b52a6-7f30-4a8e-b361-e97075069324",
   "metadata": {},
   "outputs": [
    {
     "data": {
      "text/html": [
       "<div>\n",
       "<style scoped>\n",
       "    .dataframe tbody tr th:only-of-type {\n",
       "        vertical-align: middle;\n",
       "    }\n",
       "\n",
       "    .dataframe tbody tr th {\n",
       "        vertical-align: top;\n",
       "    }\n",
       "\n",
       "    .dataframe thead th {\n",
       "        text-align: right;\n",
       "    }\n",
       "</style>\n",
       "<table border=\"1\" class=\"dataframe\">\n",
       "  <thead>\n",
       "    <tr style=\"text-align: right;\">\n",
       "      <th></th>\n",
       "      <th>Unnamed: 0</th>\n",
       "      <th>analytical approx.</th>\n",
       "      <th>percentile bootstrap</th>\n",
       "      <th>basic bootstrap</th>\n",
       "      <th>BCA</th>\n",
       "    </tr>\n",
       "  </thead>\n",
       "  <tbody>\n",
       "    <tr>\n",
       "      <th>0</th>\n",
       "      <td>U</td>\n",
       "      <td>0.903</td>\n",
       "      <td>0.894</td>\n",
       "      <td>0.890</td>\n",
       "      <td>0.899</td>\n",
       "    </tr>\n",
       "    <tr>\n",
       "      <th>1</th>\n",
       "      <td>Z</td>\n",
       "      <td>0.911</td>\n",
       "      <td>0.901</td>\n",
       "      <td>0.905</td>\n",
       "      <td>0.905</td>\n",
       "    </tr>\n",
       "    <tr>\n",
       "      <th>2</th>\n",
       "      <td>S</td>\n",
       "      <td>0.895</td>\n",
       "      <td>0.878</td>\n",
       "      <td>0.882</td>\n",
       "      <td>0.884</td>\n",
       "    </tr>\n",
       "    <tr>\n",
       "      <th>3</th>\n",
       "      <td>E</td>\n",
       "      <td>0.880</td>\n",
       "      <td>0.870</td>\n",
       "      <td>0.862</td>\n",
       "      <td>0.876</td>\n",
       "    </tr>\n",
       "    <tr>\n",
       "      <th>4</th>\n",
       "      <td>B</td>\n",
       "      <td>0.907</td>\n",
       "      <td>0.889</td>\n",
       "      <td>0.882</td>\n",
       "      <td>0.900</td>\n",
       "    </tr>\n",
       "  </tbody>\n",
       "</table>\n",
       "</div>"
      ],
      "text/plain": [
       "  Unnamed: 0  analytical approx.  percentile bootstrap  basic bootstrap    BCA\n",
       "0          U               0.903                 0.894            0.890  0.899\n",
       "1          Z               0.911                 0.901            0.905  0.905\n",
       "2          S               0.895                 0.878            0.882  0.884\n",
       "3          E               0.880                 0.870            0.862  0.876\n",
       "4          B               0.907                 0.889            0.882  0.900"
      ]
     },
     "execution_count": 56,
     "metadata": {},
     "output_type": "execute_result"
    }
   ],
   "source": [
    "filename = os.path.join(\"mydataset\", \"results_mean_n40.csv\")\n",
    "from stats_helpers import boot_ci, ci_mean\n",
    "\n",
    "# simulation parameters\n",
    "N = 1000      # number of simulations\n",
    "n = 40        # sample size\n",
    "alpha = 0.1   # target error level\n",
    "B = 5000      # number of bootstrap samples\n",
    "\n",
    "if os.path.exists(filename):\n",
    "    # load simulation results\n",
    "    results_mean_n40 = pd.read_csv(filename)\n",
    "else:\n",
    "    # run simulation\n",
    "    results_mean_n40 = pd.DataFrame(index=pops.keys(), columns=cols.values())\n",
    "    for pop in pops.keys():\n",
    "        print(f\"Evaluating rv{pop} ...\")\n",
    "        rv = pops[pop]\n",
    "        pop_mean = rv.mean()\n",
    "        counts = {'a':0, 'percentile':0, 'basic':0, 'bca':0}\n",
    "        # TODO widths\n",
    "        for j in range(0, N):\n",
    "            sample = rv.rvs(n)\n",
    "            for method in cols.keys():\n",
    "                if method == \"a\":\n",
    "                    ci = ci_mean(sample, alpha=alpha, method=\"a\")\n",
    "                else:\n",
    "                    ci = boot_ci(sample, estfunc=np.mean, alpha=alpha, method=method, B=B)\n",
    "                if ci[0] <= pop_mean <= ci[1]:\n",
    "                    counts[method] += 1\n",
    "        for method in counts.keys():\n",
    "            results_mean_n40.loc[pop, cols[method]] = counts[method] / N\n",
    "    results_mean_n40.to_csv(filename)\n",
    "\n",
    "results_mean_n40"
   ]
  },
  {
   "cell_type": "code",
   "execution_count": 57,
   "id": "e36f0121-9869-4dd6-9c57-1b7b1c1aa1eb",
   "metadata": {},
   "outputs": [],
   "source": [
    "# print(results_mean_n40.to_latex())"
   ]
  },
  {
   "cell_type": "code",
   "execution_count": 58,
   "id": "7c4f0abf-8529-46bc-8224-9c918265ce0f",
   "metadata": {},
   "outputs": [
    {
     "data": {
      "text/plain": [
       "array([[0., 0.],\n",
       "       [0., 0.],\n",
       "       [0., 0.]])"
      ]
     },
     "execution_count": 58,
     "metadata": {},
     "output_type": "execute_result"
    }
   ],
   "source": [
    "widths = np.zeros((3,2))\n",
    "widths "
   ]
  },
  {
   "cell_type": "markdown",
   "id": "6e42ad27-ac28-43bd-9a50-86b9793abb96",
   "metadata": {},
   "source": [
    "#### Coverage probabilities for population variance\n"
   ]
  },
  {
   "cell_type": "code",
   "execution_count": 59,
   "id": "00d38ddb-72ae-4ba1-9649-e5a7f1dcd014",
   "metadata": {},
   "outputs": [
    {
     "data": {
      "text/html": [
       "<div>\n",
       "<style scoped>\n",
       "    .dataframe tbody tr th:only-of-type {\n",
       "        vertical-align: middle;\n",
       "    }\n",
       "\n",
       "    .dataframe tbody tr th {\n",
       "        vertical-align: top;\n",
       "    }\n",
       "\n",
       "    .dataframe thead th {\n",
       "        text-align: right;\n",
       "    }\n",
       "</style>\n",
       "<table border=\"1\" class=\"dataframe\">\n",
       "  <thead>\n",
       "    <tr style=\"text-align: right;\">\n",
       "      <th></th>\n",
       "      <th>Unnamed: 0</th>\n",
       "      <th>analytical approx.</th>\n",
       "      <th>percentile bootstrap</th>\n",
       "      <th>basic bootstrap</th>\n",
       "      <th>BCA</th>\n",
       "    </tr>\n",
       "  </thead>\n",
       "  <tbody>\n",
       "    <tr>\n",
       "      <th>0</th>\n",
       "      <td>U</td>\n",
       "      <td>0.982</td>\n",
       "      <td>0.861</td>\n",
       "      <td>0.848</td>\n",
       "      <td>0.881</td>\n",
       "    </tr>\n",
       "    <tr>\n",
       "      <th>1</th>\n",
       "      <td>Z</td>\n",
       "      <td>0.917</td>\n",
       "      <td>0.809</td>\n",
       "      <td>0.813</td>\n",
       "      <td>0.833</td>\n",
       "    </tr>\n",
       "    <tr>\n",
       "      <th>2</th>\n",
       "      <td>S</td>\n",
       "      <td>0.828</td>\n",
       "      <td>0.747</td>\n",
       "      <td>0.748</td>\n",
       "      <td>0.788</td>\n",
       "    </tr>\n",
       "    <tr>\n",
       "      <th>3</th>\n",
       "      <td>E</td>\n",
       "      <td>0.623</td>\n",
       "      <td>0.656</td>\n",
       "      <td>0.663</td>\n",
       "      <td>0.710</td>\n",
       "    </tr>\n",
       "    <tr>\n",
       "      <th>4</th>\n",
       "      <td>B</td>\n",
       "      <td>0.970</td>\n",
       "      <td>0.873</td>\n",
       "      <td>0.852</td>\n",
       "      <td>0.858</td>\n",
       "    </tr>\n",
       "  </tbody>\n",
       "</table>\n",
       "</div>"
      ],
      "text/plain": [
       "  Unnamed: 0  analytical approx.  percentile bootstrap  basic bootstrap    BCA\n",
       "0          U               0.982                 0.861            0.848  0.881\n",
       "1          Z               0.917                 0.809            0.813  0.833\n",
       "2          S               0.828                 0.747            0.748  0.788\n",
       "3          E               0.623                 0.656            0.663  0.710\n",
       "4          B               0.970                 0.873            0.852  0.858"
      ]
     },
     "execution_count": 59,
     "metadata": {},
     "output_type": "execute_result"
    }
   ],
   "source": [
    "filename = os.path.join(\"mydataset\", \"results_var_n20.csv\")\n",
    "\n",
    "from stats_helpers import boot_ci, ci_var\n",
    "\n",
    "# simulation parameters\n",
    "N = 1000      # number of simulations\n",
    "n = 20        # sample size\n",
    "alpha = 0.1   # target error level\n",
    "B = 5000      # number of bootstrap samples\n",
    "\n",
    "if os.path.exists(filename):\n",
    "    # load simulation results\n",
    "    results_var_n20 = pd.read_csv(filename)\n",
    "else:\n",
    "    # run simulation\n",
    "    results_var_n20 = pd.DataFrame(index=pops.keys(), columns=cols.values())\n",
    "    for pop in pops.keys():\n",
    "        print(f\"Evaluating rv{pop} ...\")\n",
    "        rv = pops[pop]\n",
    "        pop_var = rv.var()\n",
    "        counts = {'a':0, 'percentile':0, 'basic':0, 'bca':0}\n",
    "        for j in range(0, N):\n",
    "            sample = rv.rvs(n)\n",
    "            for method in cols.keys():\n",
    "                if method == \"a\":\n",
    "                    ci = ci_var(sample, alpha=alpha, method=\"a\")\n",
    "                else:\n",
    "                    ci = boot_ci(sample, estfunc=var, alpha=alpha, method=method, B=B)\n",
    "                if ci[0] <= pop_var <= ci[1]:\n",
    "                    counts[method] += 1\n",
    "        for method in counts.keys():\n",
    "            results_var_n20.loc[pop, cols[method]] = counts[method] / N\n",
    "    results_var_n20.to_csv(filename)\n",
    "\n",
    "results_var_n20"
   ]
  },
  {
   "cell_type": "code",
   "execution_count": 60,
   "id": "0da2fcc6-afc6-4419-afe0-22c4d39158f6",
   "metadata": {},
   "outputs": [],
   "source": [
    "# print(results_var_n20.to_latex())"
   ]
  },
  {
   "cell_type": "code",
   "execution_count": null,
   "id": "37732a36-5e6e-4c3c-bc1d-1fd0b387a158",
   "metadata": {},
   "outputs": [],
   "source": []
  },
  {
   "cell_type": "code",
   "execution_count": 61,
   "id": "64c94789-9f77-4c13-8df4-2f724af7ddd5",
   "metadata": {},
   "outputs": [
    {
     "data": {
      "text/html": [
       "<div>\n",
       "<style scoped>\n",
       "    .dataframe tbody tr th:only-of-type {\n",
       "        vertical-align: middle;\n",
       "    }\n",
       "\n",
       "    .dataframe tbody tr th {\n",
       "        vertical-align: top;\n",
       "    }\n",
       "\n",
       "    .dataframe thead th {\n",
       "        text-align: right;\n",
       "    }\n",
       "</style>\n",
       "<table border=\"1\" class=\"dataframe\">\n",
       "  <thead>\n",
       "    <tr style=\"text-align: right;\">\n",
       "      <th></th>\n",
       "      <th>Unnamed: 0</th>\n",
       "      <th>analytical approx.</th>\n",
       "      <th>percentile bootstrap</th>\n",
       "      <th>basic bootstrap</th>\n",
       "      <th>BCA</th>\n",
       "    </tr>\n",
       "  </thead>\n",
       "  <tbody>\n",
       "    <tr>\n",
       "      <th>0</th>\n",
       "      <td>U</td>\n",
       "      <td>0.985</td>\n",
       "      <td>0.878</td>\n",
       "      <td>0.860</td>\n",
       "      <td>0.883</td>\n",
       "    </tr>\n",
       "    <tr>\n",
       "      <th>1</th>\n",
       "      <td>Z</td>\n",
       "      <td>0.873</td>\n",
       "      <td>0.836</td>\n",
       "      <td>0.839</td>\n",
       "      <td>0.849</td>\n",
       "    </tr>\n",
       "    <tr>\n",
       "      <th>2</th>\n",
       "      <td>S</td>\n",
       "      <td>0.806</td>\n",
       "      <td>0.800</td>\n",
       "      <td>0.802</td>\n",
       "      <td>0.832</td>\n",
       "    </tr>\n",
       "    <tr>\n",
       "      <th>3</th>\n",
       "      <td>E</td>\n",
       "      <td>0.633</td>\n",
       "      <td>0.730</td>\n",
       "      <td>0.731</td>\n",
       "      <td>0.777</td>\n",
       "    </tr>\n",
       "    <tr>\n",
       "      <th>4</th>\n",
       "      <td>B</td>\n",
       "      <td>0.974</td>\n",
       "      <td>0.873</td>\n",
       "      <td>0.871</td>\n",
       "      <td>0.876</td>\n",
       "    </tr>\n",
       "  </tbody>\n",
       "</table>\n",
       "</div>"
      ],
      "text/plain": [
       "  Unnamed: 0  analytical approx.  percentile bootstrap  basic bootstrap    BCA\n",
       "0          U               0.985                 0.878            0.860  0.883\n",
       "1          Z               0.873                 0.836            0.839  0.849\n",
       "2          S               0.806                 0.800            0.802  0.832\n",
       "3          E               0.633                 0.730            0.731  0.777\n",
       "4          B               0.974                 0.873            0.871  0.876"
      ]
     },
     "execution_count": 61,
     "metadata": {},
     "output_type": "execute_result"
    }
   ],
   "source": [
    "filename = os.path.join(\"mydataset\", \"results_var_n40.csv\")\n",
    "from stats_helpers import boot_ci, ci_var\n",
    "\n",
    "# simulation parameters\n",
    "N = 1000      # number of simulations\n",
    "n = 40        # sample size\n",
    "alpha = 0.1   # target error level\n",
    "B = 5000      # number of bootstrap samples\n",
    "if os.path.exists(filename):\n",
    "    results_var_n40 = pd.read_csv(filename)\n",
    "else:\n",
    "    # run simulation\n",
    "    results_var_n40 = pd.DataFrame(index=pops.keys(), columns=cols.values())\n",
    "    for pop in pops.keys():\n",
    "        print(f\"Evaluating rv{pop} ...\")\n",
    "        rv = pops[pop]\n",
    "        pop_var = rv.var()\n",
    "        counts = {'a':0, 'percentile':0, 'basic':0, 'bca':0}\n",
    "        widths\n",
    "        for j in range(0, N):\n",
    "            sample = rv.rvs(n)\n",
    "            for method in cols.keys():\n",
    "                if method == \"a\":\n",
    "                    ci = ci_var(sample, alpha=alpha, method=\"a\")\n",
    "                else:\n",
    "                    ci = boot_ci(sample, estfunc=var, alpha=alpha, method=method, B=B)\n",
    "                if ci[0] <= pop_var <= ci[1]:\n",
    "                    counts[method] += 1\n",
    "        for method in counts.keys():\n",
    "            results_var_n40.loc[pop, cols[method]] = counts[method] / N\n",
    "    results_var_n40.to_csv(filename)\n",
    "\n",
    "results_var_n40"
   ]
  },
  {
   "cell_type": "code",
   "execution_count": 62,
   "id": "6a06619a-92fd-4c1b-94a3-d99049cfa8a5",
   "metadata": {},
   "outputs": [],
   "source": [
    "# print(results_var_n40.to_latex())"
   ]
  },
  {
   "cell_type": "code",
   "execution_count": null,
   "id": "dbeca97a-47e7-471d-acde-a2c09501ce4c",
   "metadata": {},
   "outputs": [],
   "source": [
    "\n"
   ]
  },
  {
   "cell_type": "markdown",
   "id": "adba3c87-19fc-4f40-9eec-56528067cf1c",
   "metadata": {},
   "source": [
    "## CUT MATERIAL "
   ]
  },
  {
   "cell_type": "code",
   "execution_count": 63,
   "id": "935850df-c9b0-47bd-af8f-84068317f92e",
   "metadata": {},
   "outputs": [
    {
     "data": {
      "text/plain": [
       "[2.4133999449331136, 5.586600055066886]"
      ]
     },
     "execution_count": 63,
     "metadata": {},
     "output_type": "execute_result"
    }
   ],
   "source": [
    "xsample = [1,2,3,4,5,6,7]\n",
    "n = len(xsample)\n",
    "xbar = mean(xsample) \n",
    "sehat = std(xsample) / np.sqrt(n)\n",
    "\n",
    "from scipy.stats import t as tdist\n",
    "rvTXbar = tdist(df=n-1, loc=xbar, scale=sehat)\n",
    "[rvTXbar.ppf(0.05), rvTXbar.ppf(0.95)]"
   ]
  },
  {
   "cell_type": "code",
   "execution_count": null,
   "id": "3492c2a9-617c-41f8-a076-830a7a608f69",
   "metadata": {},
   "outputs": [],
   "source": []
  },
  {
   "cell_type": "markdown",
   "id": "2c54cea9-e6d5-492e-a3c0-70d624a8cc3d",
   "metadata": {},
   "source": [
    "### Factors that influence confidence intervals\n",
    "\n",
    "- n\n",
    "- model\n",
    "- estimator\n"
   ]
  },
  {
   "cell_type": "code",
   "execution_count": null,
   "id": "cbf6194d-6264-44ad-86ed-4ef7f479bbee",
   "metadata": {},
   "outputs": [],
   "source": []
  }
 ],
 "metadata": {
  "kernelspec": {
   "display_name": "Python 3 (ipykernel)",
   "language": "python",
   "name": "python3"
  },
  "language_info": {
   "codemirror_mode": {
    "name": "ipython",
    "version": 3
   },
   "file_extension": ".py",
   "mimetype": "text/x-python",
   "name": "python",
   "nbconvert_exporter": "python",
   "pygments_lexer": "ipython3",
   "version": "3.9.4"
  }
 },
 "nbformat": 4,
 "nbformat_minor": 5
}
