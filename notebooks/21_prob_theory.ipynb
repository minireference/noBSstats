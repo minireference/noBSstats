{
 "cells": [
  {
   "cell_type": "markdown",
   "id": "52448d99-2956-43ae-b20d-977ac127dd2f",
   "metadata": {},
   "source": [
    " "
   ]
  },
  {
   "cell_type": "markdown",
   "id": "13ab9fda-b113-4bf8-99a6-1b47ff4b140b",
   "metadata": {},
   "source": [
    "# Section 2.1 — Probability theory\n",
    "\n",
    "This notebook contains all the code examples from [Section 2.1 Probability theory]() in the **No Bullshit Guide to Statistics**.\n",
    "\n",
    "Topics covered in this notebook:\n",
    "- Examples of random variables\n",
    "- Calculus review\n",
    "  - Math definitions\n",
    "  - Numerical integration using the `scipy.integrate` functions `quad` and `trapz`\n",
    "  - Symbolic integration using the `sympy` function `integrate`\n",
    "- Probability calculations\n",
    "- Probability models for real-world quantities\n",
    "- Computer models for random variables \n",
    "  - Overview of `scipy.stats.distributions` methods\n",
    "  - Example of calculations\n",
    "- Discussion\n",
    "  - More calculus topics\n",
    "  - Bulk and tails of the normal distribution\n",
    "  - Interpretations of probability theory\n"
   ]
  },
  {
   "cell_type": "markdown",
   "id": "56152588-42c8-40e1-abc4-1a0a656a53dd",
   "metadata": {},
   "source": [
    " "
   ]
  },
  {
   "cell_type": "markdown",
   "id": "89fcfb6e-6077-490b-bda4-05b1389230fb",
   "metadata": {
    "jp-MarkdownHeadingCollapsed": true,
    "tags": []
   },
   "source": [
    "#### Notebook setup\n",
    "\n",
    "We'll start by importing the Python modules we'll need for this notebook."
   ]
  },
  {
   "cell_type": "code",
   "execution_count": 1,
   "id": "8457739f-5b96-4dce-ab18-0a4f0d86e4f6",
   "metadata": {},
   "outputs": [],
   "source": [
    "# load Python modules\n",
    "import numpy as np\n",
    "import pandas as pd\n",
    "import seaborn as sns\n",
    "import matplotlib.pyplot as plt"
   ]
  },
  {
   "cell_type": "code",
   "execution_count": 2,
   "id": "79ed135c-adf8-466e-99c8-8120baf7e565",
   "metadata": {},
   "outputs": [],
   "source": [
    "# Figures setup\n",
    "sns.set_theme(\n",
    "    context=\"paper\",\n",
    "    style=\"whitegrid\",\n",
    "    palette=\"colorblind\",\n",
    "    rc={'figure.figsize': (7,4)},\n",
    ")\n",
    "\n",
    "# %config InlineBackend.figure_format = 'retina'"
   ]
  },
  {
   "cell_type": "code",
   "execution_count": 3,
   "id": "fffe8947-96a6-4b9d-afc0-69d77d207efe",
   "metadata": {},
   "outputs": [],
   "source": [
    "# set random seed for repeatability\n",
    "np.random.seed(3)"
   ]
  },
  {
   "cell_type": "code",
   "execution_count": null,
   "id": "ec1bb66a-6fca-4fb4-8090-8bdfd37dce87",
   "metadata": {},
   "outputs": [],
   "source": []
  },
  {
   "cell_type": "markdown",
   "id": "0c260793-1894-4a60-86df-868783a48921",
   "metadata": {
    "tags": []
   },
   "source": [
    "### What is probability theory?\n",
    "\n",
    "- definition: **probability theory is a language for describing uncertainty, variability, and randomness**\n",
    "\n",
    "- Originally the study of \"randomness\" and \"expectations\" started to quantify random events in gambling.\n",
    "\n",
    "- Later extended to as a general purpose tool to model any process that contains uncertainty:\n",
    "  - random variables = described by probability distribution (CDF, pmf/pdf) modelled as a math function with parameters $\\theta$\n",
    "  - noise = can be modelled as a random variable\n",
    "  - sampling = variations due to random selection of a subset from the population\n",
    "  - beliefs = can be described as probability distributions\n",
    "\n",
    "\n",
    "- Probability theory is an essential tool for statistics.\n",
    "\n",
    "- Probability theory is also a foundational subject that used in physics, machine learning, biology, optimization, algorithms, etc. (side note: in terms of usefulness, I'd say probability theory is up there with linear algebra—you need to know this shit!)\n",
    "\n"
   ]
  },
  {
   "cell_type": "markdown",
   "id": "99ecd474-14af-4f96-85e5-c10d23a90f93",
   "metadata": {},
   "source": [
    " "
   ]
  },
  {
   "cell_type": "markdown",
   "id": "648979a0-d013-4518-a284-74a3396eb83d",
   "metadata": {},
   "source": [
    "## Definitions"
   ]
  },
  {
   "cell_type": "markdown",
   "id": "c98d95b6-3778-4bf9-b5d9-80353de87e92",
   "metadata": {},
   "source": [
    "\n",
    "### Random variables\n",
    "\n",
    "- *random variable* $X$:\n",
    "  a quantity that can take on different values.\n",
    "- **outcome**: a particular value $\\{X = x\\}$ or range of values $\\{a \\leq X \\leq b\\}$ that can occur\n",
    "\t\t\t\t\tas a result of observing the random variable $X$.\n",
    "- **sample space** $\\mathcal{X}$: describes the set of all possible outcomes of the random variable.\n",
    "- **$f_X$**: the \\emph{probability distribution function}\n",
    "  is a function that assigns probabilities to the different outcome in the sample space of a random variable.\n",
    "  The probability distribution function of the random variable $X$\n",
    "  is a function of the form $f_X: \\mathcal{X} \\to \\mathbb{R}$.\n",
    "- $F_X$:\n",
    "  the \\emph{cumulative distribution function} (CDF) tells us the probability of an outcome\n",
    "  less than or equal to a given value: $F_X(b) = Pr(\\{ X \\leq b \\})$.\n",
    "- $F_X^{-1}$:\n",
    "  the inverse cumulative distribution function computes contains the information\n",
    "  about the quantiles of the probability distribution.\n",
    "  The value $F_X^{-1}(q)=x_q$ tells how far you need to go in the sample space\n",
    "  so that the event $\\{ X \\leq x_q \\}$ contains a proportion $q$ of the total probability:\n",
    "  $\\Pr(\\{ X \\leq x_q \\})=q$.\n",
    "- $\\mathbb{E}_X[w]$:\n",
    "  the *expected value* of the function $w(X)$\n",
    "  computes the average value of $w(X)$ computed for all the possible values of the random variable $X$.\n",
    "\n",
    "\n",
    "\n"
   ]
  },
  {
   "cell_type": "markdown",
   "id": "195d9baa-62fc-4bfc-b7a9-79a1599bff6b",
   "metadata": {},
   "source": [
    "#### Example 1: Uniform distribution\n",
    "\n",
    "The [uniform distribution](https://en.wikipedia.org/wiki/Continuous_uniform_distribution) $\\mathcal{U}(0,1)$ is described by the following probability density function:\n",
    "$$\n",
    "  p_U(u) =\n",
    "  \\begin{cases}\n",
    "      1 & \\mathrm{for}\\ 0 \\le u \\le 1, \\\\\n",
    "      0 & \\mathrm{for}\\ u<0\\ \\mathrm{or}\\ u>1.\n",
    "  \\end{cases}\n",
    "$$\n",
    "where $U$ is the name of the random variable and $u$ are particular values it can take on.\n",
    "\n",
    "The above equation describes tells you how likely it is to observe $\\{U=u\\}$.\n",
    "For a uniform distribution $\\mathcal{U}(0,1)$, each $u$ between 0 and 1 is equally likely to occur,\n",
    "and values of $u$ outside this range have zero probability of occurring."
   ]
  },
  {
   "cell_type": "code",
   "execution_count": 4,
   "id": "a0a09085-2333-4cb2-937d-a032ae867f5e",
   "metadata": {},
   "outputs": [
    {
     "data": {
      "text/plain": [
       "0.5"
      ]
     },
     "execution_count": 4,
     "metadata": {},
     "output_type": "execute_result"
    }
   ],
   "source": [
    "from scipy.stats.distributions import uniform\n",
    "\n",
    "rvU = uniform(0, 1)\n",
    "\n",
    "from scipy.integrate import quad\n",
    "quad(rvU.pdf, 0, 0.5)[0]"
   ]
  },
  {
   "cell_type": "code",
   "execution_count": null,
   "id": "e47f5dac-721d-488c-a374-aed135538d32",
   "metadata": {},
   "outputs": [],
   "source": []
  },
  {
   "cell_type": "markdown",
   "id": "116337d1-fa73-411d-a797-92cbed7c89fa",
   "metadata": {},
   "source": [
    "#### Example 2: Normal distribution\n",
    "\n",
    "A random variable $N$ with a [normal distribution](https://en.wikipedia.org/wiki/Normal_distribution) \n",
    "$\\mathcal{N}(\\mu,\\sigma)$ is described by the probability density function:\n",
    "$$ \\Large\n",
    "    p_N(n) = \\tfrac{1}{\\sigma\\sqrt{2\\pi}} e^{\\small -\\tfrac{(n-\\mu)^2}{2\\sigma^2}}.\n",
    "$$\n",
    "\n",
    "The mean $\\mu$ (the Greek letter *mu*) and the standard deviation $\\sigma$ (the Greek letter *sigma*) are called the parameters of the distribution.\n",
    "\n",
    "The math notation $\\mathcal{N}(\\mu, \\sigma)$ is used to describe the whole family of normal probability distributions,\n",
    "and $N \\sim \\mathcal{N}(1000, 100)$ is a particular instance of the distribution with mean $\\mu = 1000$ and standard deviation $\\sigma = 100$."
   ]
  },
  {
   "cell_type": "code",
   "execution_count": 5,
   "id": "4c0c9928-4540-47a3-b414-b7c77b73a0ad",
   "metadata": {},
   "outputs": [
    {
     "data": {
      "text/plain": [
       "0.13590512198327784"
      ]
     },
     "execution_count": 5,
     "metadata": {},
     "output_type": "execute_result"
    }
   ],
   "source": [
    "from scipy.stats.distributions import norm\n",
    "\n",
    "rvN = norm(1000, 100)\n",
    "\n",
    "quad(rvN.pdf, 800, 900)[0]"
   ]
  },
  {
   "cell_type": "code",
   "execution_count": null,
   "id": "d0a12572-3437-4153-a34a-5593287ab25d",
   "metadata": {},
   "outputs": [],
   "source": []
  },
  {
   "cell_type": "markdown",
   "id": "c99e3f3e-427a-489d-9426-1022cfc8dca5",
   "metadata": {},
   "source": [
    "#### Example 3: Coin flip\n",
    "\n",
    "Consider the random variable $C$ that describes the outcome of a coin flip for a balanced (fair) coin.\n",
    "The sample space for the random variable $C$ is $\\{\\texttt{heads}, \\texttt{tails}\\}$.\n",
    "\n",
    "The probability mass function is\n",
    "$$\n",
    "    f_C(\\texttt{heads}) = 0.5\n",
    "    \\quad\n",
    "    \\textrm{and}\n",
    "    \\quad\n",
    "    f_C(\\texttt{tails}) = 0.5.\n",
    "$$"
   ]
  },
  {
   "cell_type": "code",
   "execution_count": 6,
   "id": "031e8d9b-badd-4806-b58b-92d34bb6ae35",
   "metadata": {},
   "outputs": [],
   "source": [
    "from scipy.stats.distributions import randint\n",
    "\n",
    "rvC = randint(0, 2)"
   ]
  },
  {
   "cell_type": "code",
   "execution_count": 7,
   "id": "c17efc41-d159-4e98-926f-826721cfc87f",
   "metadata": {},
   "outputs": [
    {
     "name": "stdout",
     "output_type": "stream",
     "text": [
      "0 0.5\n",
      "1 0.5\n"
     ]
    }
   ],
   "source": [
    "for c in range(0,2):\n",
    "    print(c, rvC.pmf(c))"
   ]
  },
  {
   "cell_type": "markdown",
   "id": "d5370a96-93bc-4d8b-a783-2a8c16a9d214",
   "metadata": {},
   "source": [
    "#### Example 4: Rolling a six-sided die\n",
    "\n",
    "The random outcome that occurs when we roll a six-sided die can be described as a random variable $D$\n",
    "which has the sample space $\\{1, 2, 3, 4, 5, 6\\}$.\n",
    "If we assume the die is fair,\n",
    "then each of the outcomes will have equal weight,\n",
    "so the probability mass function $f_D$ has the following values:\n",
    "\n",
    "$$\n",
    "    f_D(1)\\!=\\!\\tfrac{1}{6},\n",
    "    \\ \n",
    "    f_D(2)\\!=\\!\\tfrac{1}{6},\n",
    "    \\ \n",
    "    f_D(3)\\!=\\!\\tfrac{1}{6},\n",
    "    \\ \n",
    "    f_D(4)\\!=\\!\\tfrac{1}{6},\n",
    "    \\ \n",
    "    f_D(5)\\!=\\!\\tfrac{1}{6},\n",
    "    \\ \n",
    "    f_D(6)\\!=\\!\\tfrac{1}{6}.\n",
    "$$"
   ]
  },
  {
   "cell_type": "code",
   "execution_count": 8,
   "id": "95349f80-c4e7-4535-ae92-6da787bded7b",
   "metadata": {},
   "outputs": [],
   "source": [
    "rvD = randint(1, 7)"
   ]
  },
  {
   "cell_type": "code",
   "execution_count": 9,
   "id": "956f370c-92da-4d79-89ba-868e253fa233",
   "metadata": {},
   "outputs": [
    {
     "name": "stdout",
     "output_type": "stream",
     "text": [
      "1 0.16666666666666666\n",
      "2 0.16666666666666666\n",
      "3 0.16666666666666666\n",
      "4 0.16666666666666666\n",
      "5 0.16666666666666666\n",
      "6 0.16666666666666666\n"
     ]
    }
   ],
   "source": [
    "for d in range(1,7):\n",
    "    print(d, rvD.pmf(d))"
   ]
  },
  {
   "cell_type": "code",
   "execution_count": null,
   "id": "89a4e435-6a20-4aca-a859-e82a41f85a0a",
   "metadata": {},
   "outputs": [],
   "source": []
  },
  {
   "cell_type": "markdown",
   "id": "9606a75f-b544-4031-9073-28eac8001e6b",
   "metadata": {
    "tags": []
   },
   "source": [
    "## Calculus prerequisites\n",
    "\n",
    "(see formulas and definitions in the book)"
   ]
  },
  {
   "cell_type": "markdown",
   "id": "049f568a-e7fe-4d6e-93b9-a9c27af63ff0",
   "metadata": {},
   "source": [
    "### Sets\n"
   ]
  },
  {
   "cell_type": "code",
   "execution_count": 10,
   "id": "5234a73c-4b74-4b2a-a60a-054f6f6cd1e5",
   "metadata": {},
   "outputs": [
    {
     "name": "stdout",
     "output_type": "stream",
     "text": [
      "S ∪ T = {1, 2, 3, 4, 5, 6}\n",
      "S ∩ T = {3}\n",
      "S \\ T = {1, 2}\n"
     ]
    }
   ],
   "source": [
    "S = {1, 2, 3}\n",
    "T = {3, 4, 5, 6}\n",
    "\n",
    "print(\"S ∪ T =\", S.union(T))\n",
    "print(\"S ∩ T =\", S.intersection(T))\n",
    "print(\"S \\ T =\", S.difference(T))"
   ]
  },
  {
   "cell_type": "code",
   "execution_count": null,
   "id": "ab0f3c18-2a80-4c43-8bcb-9b037da214a7",
   "metadata": {},
   "outputs": [],
   "source": []
  },
  {
   "cell_type": "markdown",
   "id": "b5c8971c-6862-4f2f-96fa-b49bae9d2bcd",
   "metadata": {},
   "source": [
    "### Functions\n",
    "\n",
    "In Python, we define functions using the `def` keyword.\n",
    "\n",
    "For example, the code cell below defines the function $g(x)=x$,\n",
    "then evaluate it for the input $x=4$."
   ]
  },
  {
   "cell_type": "code",
   "execution_count": 11,
   "id": "16b15b73-7067-4bb5-9c56-740a68e263fd",
   "metadata": {},
   "outputs": [
    {
     "data": {
      "text/plain": [
       "4"
      ]
     },
     "execution_count": 11,
     "metadata": {},
     "output_type": "execute_result"
    }
   ],
   "source": [
    "# define the function g that takes input x\n",
    "def g(x):\n",
    "    return x\n",
    "\n",
    "# calling the function g on input x=4\n",
    "g(4)"
   ]
  },
  {
   "cell_type": "markdown",
   "id": "7e56f503-b93c-4926-b6e2-d64f7a16440a",
   "metadata": {},
   "source": [
    "#### Plotting the graph of the function $g(x)$\n",
    "\n",
    "The graph of the function $g(x)$ is obtained by plotting a line that passes through the set of input-output coordinate pairs $(x, g(x))$."
   ]
  },
  {
   "cell_type": "code",
   "execution_count": 12,
   "id": "2ebeb6a2-034e-4055-8614-5b20a31b4d12",
   "metadata": {},
   "outputs": [
    {
     "data": {
      "text/plain": [
       "<AxesSubplot:>"
      ]
     },
     "execution_count": 12,
     "metadata": {},
     "output_type": "execute_result"
    },
    {
     "data": {
      "image/png": "[encoded data removed]",
      "text/plain": [
       "<Figure size 504x288 with 1 Axes>"
      ]
     },
     "metadata": {},
     "output_type": "display_data"
    }
   ],
   "source": [
    "import numpy as np\n",
    "import seaborn as sns\n",
    "\n",
    "xs = np.linspace(0, 10, 100)\n",
    "ys = g(xs)\n",
    "\n",
    "\n",
    "sns.lineplot(x=xs, y=ys, label=\"Graph of the function g(x)\")"
   ]
  },
  {
   "cell_type": "markdown",
   "id": "262d9368-bbae-45ce-b0b1-35449aed8b7f",
   "metadata": {},
   "source": [
    "The function `linspace(0,10,100)` creates an array of `100` points in the interval $[0,10]$.\n",
    "We store this sequence of inputs into the variable `xs`.\n",
    "Next, we computer the output value $y = g(x)$ for each of the inputs in the array `xs`,\n",
    "and store the result in the array `ys`.\n",
    "Finally, we use the function `sns.lineplot()` to generate the plot."
   ]
  },
  {
   "cell_type": "code",
   "execution_count": null,
   "id": "b856e67f-4607-44fe-bb6c-e55f5d558f2a",
   "metadata": {},
   "outputs": [],
   "source": []
  },
  {
   "cell_type": "code",
   "execution_count": 13,
   "id": "69b1c4c8-b36e-4e6d-952b-aac42708282a",
   "metadata": {
    "tags": []
   },
   "outputs": [],
   "source": [
    "# import matplotlib.pyplot as plt\n",
    "# filename = \"figures/graph_of_function_g_eq_x.pdf\"\n",
    "\n",
    "# with plt.rc_context({\"figure.figsize\":(4,4)}):\n",
    "#     ax = sns.lineplot(x=xs, y=ys, label=\"Graph of the function g(x)\")\n",
    "#     ax.figure.tight_layout()\n",
    "#     ax.set_xlabel('x')\n",
    "#     ax.set_ylabel('g(x)')\n",
    "#     ax.figure.savefig(filename, dpi=300, bbox_inches=\"tight\", pad_inches=0)"
   ]
  },
  {
   "cell_type": "code",
   "execution_count": 14,
   "id": "0a6c38db-2e10-40a8-a9ab-6c55f69e48fd",
   "metadata": {},
   "outputs": [
    {
     "data": {
      "text/plain": [
       "2.0"
      ]
     },
     "execution_count": 14,
     "metadata": {},
     "output_type": "execute_result"
    }
   ],
   "source": [
    "import numpy as np\n",
    "\n",
    "np.sqrt(4)"
   ]
  },
  {
   "cell_type": "code",
   "execution_count": 15,
   "id": "01333717-7e32-461a-bdd5-0c69c2f09678",
   "metadata": {},
   "outputs": [
    {
     "data": {
      "text/plain": [
       "1.3862943611198906"
      ]
     },
     "execution_count": 15,
     "metadata": {},
     "output_type": "execute_result"
    }
   ],
   "source": [
    "np.log(4)"
   ]
  },
  {
   "cell_type": "markdown",
   "id": "0765af2f-075e-4d00-9789-3ae6e1c4796f",
   "metadata": {},
   "source": [
    "Examples of function-followed-by-inverse-function calculations:"
   ]
  },
  {
   "cell_type": "code",
   "execution_count": 16,
   "id": "35f6fac1-5ec2-42fd-b51f-b59555d33e2f",
   "metadata": {},
   "outputs": [
    {
     "data": {
      "text/plain": [
       "4.0"
      ]
     },
     "execution_count": 16,
     "metadata": {},
     "output_type": "execute_result"
    }
   ],
   "source": [
    "np.sqrt(4)**2"
   ]
  },
  {
   "cell_type": "code",
   "execution_count": 17,
   "id": "ca7244c5-888c-492c-ac8d-f164aab18d71",
   "metadata": {},
   "outputs": [
    {
     "data": {
      "text/plain": [
       "4.0"
      ]
     },
     "execution_count": 17,
     "metadata": {},
     "output_type": "execute_result"
    }
   ],
   "source": [
    "np.exp(np.log(4))"
   ]
  },
  {
   "cell_type": "markdown",
   "id": "c86f8f6d-7f65-44d1-88df-c5b5a80d8304",
   "metadata": {
    "tags": []
   },
   "source": [
    "### Computing integrals geometrically\n",
    "\n",
    "\n",
    "See Figure 2.15 in the book that shows the integral under $f(x) = 3$ between $a=0$ and $b=5$.\n",
    "\n",
    "\n",
    "\n",
    "See also Figure 2.16 that shows the integral under $g(x) = x$ between $a=0$ and $b=5$.\n"
   ]
  },
  {
   "cell_type": "code",
   "execution_count": null,
   "id": "efb528dd-d41e-4beb-ab8d-2617797e680b",
   "metadata": {},
   "outputs": [],
   "source": []
  },
  {
   "cell_type": "markdown",
   "id": "a40ad6e2-d0b3-4ba5-af5d-f920c54e3ae7",
   "metadata": {
    "tags": [],
    "toc-hr-collapsed": true
   },
   "source": [
    "### Computing integrals numerically using SciPy `integrate` methods\n",
    "\n",
    "There are numerous ways to compute integrals in Python. \n",
    "Computing integrals \"numerically\" means we're splitting the region of integration into thousands or millions of sub-regions, computing the areas of these sub-regions, and adding up the result.\n",
    "\n",
    "We'll now show some examples using two of the functions form the module `sympy.integrate`:\n",
    "- `quad(f,a,b)`: high-level function for computing areas (quadratures)\n",
    "- `trapz(ys,xs)`: low-level function for computing integral using trapezoid approximation\n",
    "\n"
   ]
  },
  {
   "cell_type": "markdown",
   "id": "96bedc97-5fb9-4837-8f35-847378fba728",
   "metadata": {},
   "source": [
    "We'll start with the `quad` function."
   ]
  },
  {
   "cell_type": "code",
   "execution_count": 18,
   "id": "fbaf559f-f0d6-4d65-8a5d-cbc131b4ca2d",
   "metadata": {},
   "outputs": [],
   "source": [
    "from scipy.integrate import quad"
   ]
  },
  {
   "cell_type": "code",
   "execution_count": 19,
   "id": "b0718d15-4329-4f0b-b81c-84bb7c3a439e",
   "metadata": {},
   "outputs": [
    {
     "data": {
      "text/plain": [
       "3"
      ]
     },
     "execution_count": 19,
     "metadata": {},
     "output_type": "execute_result"
    }
   ],
   "source": [
    "# define the constant function f(x) = c\n",
    "def f(x):\n",
    "    c = 3\n",
    "    return c\n",
    "\n",
    "# call the funtion f with input x=333\n",
    "f(333)"
   ]
  },
  {
   "cell_type": "code",
   "execution_count": 20,
   "id": "02571185-2677-4d02-9ef7-76182faed4b2",
   "metadata": {},
   "outputs": [
    {
     "data": {
      "text/plain": [
       "(15.0, 1.6653345369377348e-13)"
      ]
     },
     "execution_count": 20,
     "metadata": {},
     "output_type": "execute_result"
    }
   ],
   "source": [
    "quad(f, 0, 5)"
   ]
  },
  {
   "cell_type": "markdown",
   "id": "1104bf0e-c6f3-4ab5-ba7b-4f01368ebe1e",
   "metadata": {},
   "source": [
    "The function `quad` returns two numbers as output: the value of the integral and a precision parameter.\n",
    "In output of the code, tells us the value of the integral is $\\int_0^5 3 dx$ is `15.0` and guarantees the accuracy of this value up to an error of $10^{-13}$.\n",
    "\n",
    "Since we're usually only interested in the value of the integral, we often select the first output of `quad` so you'll see the code like `quad(...)[0]` in all the code examples below."
   ]
  },
  {
   "cell_type": "code",
   "execution_count": 21,
   "id": "d7c3f8a3-9c6b-4380-9cfb-dee4b0e66369",
   "metadata": {},
   "outputs": [
    {
     "data": {
      "text/plain": [
       "15.0"
      ]
     },
     "execution_count": 21,
     "metadata": {},
     "output_type": "execute_result"
    }
   ],
   "source": [
    "quad(f, 0, 5)[0]"
   ]
  },
  {
   "cell_type": "code",
   "execution_count": null,
   "id": "ac31e9ee-2aa4-4cba-be3c-6c811ed60310",
   "metadata": {},
   "outputs": [],
   "source": [
    "\n"
   ]
  },
  {
   "cell_type": "code",
   "execution_count": null,
   "id": "a34633e5-f389-4dde-b3ac-a34b030c7222",
   "metadata": {},
   "outputs": [],
   "source": []
  },
  {
   "cell_type": "code",
   "execution_count": 22,
   "id": "4f23509d-764f-4305-9e03-86104041e116",
   "metadata": {},
   "outputs": [
    {
     "data": {
      "text/plain": [
       "10"
      ]
     },
     "execution_count": 22,
     "metadata": {},
     "output_type": "execute_result"
    }
   ],
   "source": [
    "# define the function g(x) = x (line with slope 1)\n",
    "def g(x):\n",
    "    return x\n",
    "\n",
    "# call the funtion g with input x=10\n",
    "g(10)"
   ]
  },
  {
   "cell_type": "code",
   "execution_count": 23,
   "id": "d6590ff6-3c7b-452f-9025-f35fa406260d",
   "metadata": {},
   "outputs": [
    {
     "data": {
      "text/plain": [
       "12.5"
      ]
     },
     "execution_count": 23,
     "metadata": {},
     "output_type": "execute_result"
    }
   ],
   "source": [
    "quad(g, 0, 5)[0]"
   ]
  },
  {
   "cell_type": "code",
   "execution_count": null,
   "id": "ce8a312f-0c29-4be9-af55-8015f730c771",
   "metadata": {},
   "outputs": [],
   "source": []
  },
  {
   "cell_type": "markdown",
   "id": "73dc5c29-87a4-4779-8af2-d6f499155190",
   "metadata": {},
   "source": [
    "#### Trapezoid approximation\n",
    "\n",
    "Let's now use another approach based on the trapezoid approximation.\n",
    "\n",
    "We must build array of inputs... outputs ... "
   ]
  },
  {
   "cell_type": "code",
   "execution_count": 24,
   "id": "cc523062-7c22-43bc-b01c-465e79f0e733",
   "metadata": {},
   "outputs": [],
   "source": [
    "from scipy.integrate import trapz"
   ]
  },
  {
   "cell_type": "code",
   "execution_count": 25,
   "id": "99afe86a-91c8-40d1-987f-5fa47f055d67",
   "metadata": {},
   "outputs": [
    {
     "data": {
      "text/plain": [
       "12.5"
      ]
     },
     "execution_count": 25,
     "metadata": {},
     "output_type": "execute_result"
    }
   ],
   "source": [
    "m = 1000\n",
    "xs = np.linspace(0, 5, m)\n",
    "gxs = g(xs)\n",
    "\n",
    "trapz(gxs, xs)"
   ]
  },
  {
   "cell_type": "code",
   "execution_count": null,
   "id": "47238507-0dae-4118-b244-5551a69fbe6f",
   "metadata": {},
   "outputs": [],
   "source": []
  },
  {
   "cell_type": "code",
   "execution_count": null,
   "id": "769e3158-5a8d-46ed-a754-8c579308d1be",
   "metadata": {},
   "outputs": [],
   "source": []
  },
  {
   "cell_type": "markdown",
   "id": "5a7e8f39-a245-4407-9972-da326cfd0d4b",
   "metadata": {
    "toc-hr-collapsed": true
   },
   "source": [
    "### Computing integrals symbolically using SymPy `integrate`"
   ]
  },
  {
   "cell_type": "code",
   "execution_count": 26,
   "id": "83a1f88b-247d-4487-81a6-12615721821f",
   "metadata": {},
   "outputs": [],
   "source": [
    "from sympy import symbols, integrate\n",
    "\n",
    "# define symbolic variables\n",
    "x, a, b, c = symbols('x a b c')"
   ]
  },
  {
   "cell_type": "markdown",
   "id": "19fd2a27-962e-4f76-92e3-17f1d83620c0",
   "metadata": {},
   "source": [
    "TODO: explain what above lines"
   ]
  },
  {
   "cell_type": "markdown",
   "id": "d2dd3424-020d-44cf-a5d1-c95b188b08a2",
   "metadata": {},
   "source": [
    "#### Constant function $f(x)=c$"
   ]
  },
  {
   "cell_type": "code",
   "execution_count": 27,
   "id": "5d921897-544e-4796-83b1-70951fbc149a",
   "metadata": {},
   "outputs": [
    {
     "data": {
      "text/latex": [
       "$\\displaystyle c$"
      ],
      "text/plain": [
       "c"
      ]
     },
     "execution_count": 27,
     "metadata": {},
     "output_type": "execute_result"
    }
   ],
   "source": [
    "fx = c\n",
    "fx"
   ]
  },
  {
   "cell_type": "code",
   "execution_count": 28,
   "id": "8f4bf0e6-f338-43d7-8413-1661c1b6df24",
   "metadata": {},
   "outputs": [
    {
     "data": {
      "text/latex": [
       "$\\displaystyle - a c + b c$"
      ],
      "text/plain": [
       "-a*c + b*c"
      ]
     },
     "execution_count": 28,
     "metadata": {},
     "output_type": "execute_result"
    }
   ],
   "source": [
    "integrate(fx, (x,a,b))  # = A_f(a,b)"
   ]
  },
  {
   "cell_type": "markdown",
   "id": "65c3e41c-7997-41c0-a6fb-93eff3920ffa",
   "metadata": {},
   "source": [
    "The answer $c\\cdot (b-a)$ is the general expression for calculating the area under $f(x)=c$,\n",
    "for between any starting point $x=a$ and end point $x=b$.\n",
    "Geometrically, this is just a height-times-width formula for the area of a rectangle.\n",
    "\n",
    "To compute the specific integral between $a=0$ and $b=5$ under $f(x)=3$,\n",
    "we use the `subs` (substitute) method,\n",
    "passing in a Python dictionary of the values we want to \"plug\" into the general expression."
   ]
  },
  {
   "cell_type": "code",
   "execution_count": 29,
   "id": "27c26434-fe7e-4ef2-af64-1cd2d46afd40",
   "metadata": {},
   "outputs": [
    {
     "data": {
      "text/latex": [
       "$\\displaystyle 15$"
      ],
      "text/plain": [
       "15"
      ]
     },
     "execution_count": 29,
     "metadata": {},
     "output_type": "execute_result"
    }
   ],
   "source": [
    "integrate(fx, (x,a,b)).subs({c:3, a:0, b:5})"
   ]
  },
  {
   "cell_type": "markdown",
   "id": "d0b12835-5d06-4612-89f4-430fd5834dea",
   "metadata": {},
   "source": [
    "The integral function $F_0(b) = \\int_0^b f(x) dx$ is obtained as follows."
   ]
  },
  {
   "cell_type": "code",
   "execution_count": 30,
   "id": "100bf52d-e5df-4f5b-8ff6-a0fa78fac398",
   "metadata": {},
   "outputs": [
    {
     "data": {
      "text/latex": [
       "$\\displaystyle b c$"
      ],
      "text/plain": [
       "b*c"
      ]
     },
     "execution_count": 30,
     "metadata": {},
     "output_type": "execute_result"
    }
   ],
   "source": [
    "integrate(fx, (x,0,b))  # = F_0(b)"
   ]
  },
  {
   "cell_type": "code",
   "execution_count": null,
   "id": "c75175f7-b86c-45cd-92e1-e0b077b5f930",
   "metadata": {},
   "outputs": [],
   "source": []
  },
  {
   "cell_type": "markdown",
   "id": "eb91213c-7698-44e0-8505-d84e3915c3cc",
   "metadata": {},
   "source": [
    "#### Line $g(x)=x$"
   ]
  },
  {
   "cell_type": "code",
   "execution_count": 31,
   "id": "3d2cbe0b-eb2c-4b39-82d0-144b53f551e9",
   "metadata": {},
   "outputs": [
    {
     "data": {
      "text/latex": [
       "$\\displaystyle x$"
      ],
      "text/plain": [
       "x"
      ]
     },
     "execution_count": 31,
     "metadata": {},
     "output_type": "execute_result"
    }
   ],
   "source": [
    "gx = 1*x\n",
    "gx"
   ]
  },
  {
   "cell_type": "code",
   "execution_count": 32,
   "id": "85ab30d0-5b90-4eb1-a79a-a1bb820fa91e",
   "metadata": {},
   "outputs": [
    {
     "data": {
      "text/latex": [
       "$\\displaystyle - \\frac{a^{2}}{2} + \\frac{b^{2}}{2}$"
      ],
      "text/plain": [
       "-a**2/2 + b**2/2"
      ]
     },
     "execution_count": 32,
     "metadata": {},
     "output_type": "execute_result"
    }
   ],
   "source": [
    "integrate(gx, (x,a,b))  # = A_g(a,b)"
   ]
  },
  {
   "cell_type": "code",
   "execution_count": 33,
   "id": "824ab2d7-9c09-4148-ae35-ac4d81459b8f",
   "metadata": {},
   "outputs": [
    {
     "data": {
      "text/latex": [
       "$\\displaystyle \\frac{25}{2}$"
      ],
      "text/plain": [
       "25/2"
      ]
     },
     "execution_count": 33,
     "metadata": {},
     "output_type": "execute_result"
    }
   ],
   "source": [
    "integrate(gx, (x,a,b)).subs({a:0, b:5})"
   ]
  },
  {
   "cell_type": "code",
   "execution_count": 34,
   "id": "726103ec-a9fa-4a02-8c9d-75511a0bcc9a",
   "metadata": {},
   "outputs": [
    {
     "data": {
      "text/latex": [
       "$\\displaystyle 12.5$"
      ],
      "text/plain": [
       "12.5000000000000"
      ]
     },
     "execution_count": 34,
     "metadata": {},
     "output_type": "execute_result"
    }
   ],
   "source": [
    "integrate(gx, (x,a,b)).subs({m:3, a:0, b:5}).evalf()"
   ]
  },
  {
   "cell_type": "markdown",
   "id": "d1220705-16a0-4910-87e7-ae350a58e438",
   "metadata": {},
   "source": [
    "Bonus: the integral function $G_0(b) = \\int_0^b g(x) dx$ is obtained as follows."
   ]
  },
  {
   "cell_type": "code",
   "execution_count": 35,
   "id": "aea1b7ee-132b-4321-a6b1-d3025203b4ac",
   "metadata": {},
   "outputs": [
    {
     "data": {
      "text/latex": [
       "$\\displaystyle \\frac{b^{2}}{2}$"
      ],
      "text/plain": [
       "b**2/2"
      ]
     },
     "execution_count": 35,
     "metadata": {},
     "output_type": "execute_result"
    }
   ],
   "source": [
    "integrate(gx, (x,0,b))  # = G_0(b)"
   ]
  },
  {
   "cell_type": "code",
   "execution_count": null,
   "id": "e729d391-a369-4966-ae03-3e447c775ff8",
   "metadata": {},
   "outputs": [],
   "source": []
  },
  {
   "cell_type": "code",
   "execution_count": null,
   "id": "bbb5ac84-08b3-4645-b96b-da1e546b7ee3",
   "metadata": {},
   "outputs": [],
   "source": []
  },
  {
   "cell_type": "code",
   "execution_count": null,
   "id": "7e1ea552-5459-41c8-b5fe-674e1549384c",
   "metadata": {},
   "outputs": [],
   "source": []
  },
  {
   "cell_type": "markdown",
   "id": "d83abb4c-0b97-45b9-89d1-a6169182c8f7",
   "metadata": {
    "tags": [],
    "toc-hr-collapsed": true
   },
   "source": [
    "## Calculations with random variables"
   ]
  },
  {
   "cell_type": "markdown",
   "id": "f48a6dc8-68e6-469a-a4c2-a7ca5c2311f7",
   "metadata": {},
   "source": [
    "### Example 1: mean and variance of the uniform distribution\n"
   ]
  },
  {
   "cell_type": "markdown",
   "id": "3a24a7d9-59e1-4b18-9aad-b1e6f5c74a26",
   "metadata": {},
   "source": [
    "#### Mean\n",
    "\\begin{align*}\n",
    "    \\mu_U = \\mathbb{E}_U[U] \n",
    "        &=\t\\int_{-\\infty}^{\\infty}\tu f_U(u) \\; du\t\t\\\\\n",
    "        &=\t\\int_0^1 u f_U(u) \\; du\t\t\t\t\\\\\n",
    "        &=\t\\int_0^1 u \\cdot 1 \\; du\t= \t\\tfrac{1}{2}.\n",
    "\\end{align*}"
   ]
  },
  {
   "cell_type": "code",
   "execution_count": 36,
   "id": "5ee52ac6-871e-4500-bae1-90aa3f65bd5c",
   "metadata": {},
   "outputs": [
    {
     "data": {
      "text/latex": [
       "$\\displaystyle \\frac{1}{2}$"
      ],
      "text/plain": [
       "1/2"
      ]
     },
     "execution_count": 36,
     "metadata": {},
     "output_type": "execute_result"
    }
   ],
   "source": [
    "from sympy import symbols, integrate\n",
    "\n",
    "u = symbols('u')\n",
    "integrate(u * 1, (u,0,1))"
   ]
  },
  {
   "cell_type": "markdown",
   "id": "52133171-2b52-4dff-83e3-c30df0c40e3b",
   "metadata": {},
   "source": [
    "So the mean is $\\mu_U = \\frac{1}{2} = 0.5$."
   ]
  },
  {
   "cell_type": "markdown",
   "id": "51eeed6e-1dbc-4b33-8aeb-62c528e7995c",
   "metadata": {},
   "source": [
    "#### Variance\n",
    "\n",
    "The formula for the variance is\n",
    "$$\n",
    "    \\sigma_U^2\n",
    "        = \\mathbb{E}_U\\!\\left[ (U-\\mu_U)^2 \\right]\n",
    "        = \\int_0^1 (u- \\tfrac{1}{2})^2 \\cdot f_U(u) \\; du.\n",
    "$$"
   ]
  },
  {
   "cell_type": "code",
   "execution_count": 37,
   "id": "62e2c4fe-c171-4585-8493-7be4474b5d63",
   "metadata": {},
   "outputs": [
    {
     "data": {
      "text/latex": [
       "$\\displaystyle 0.0833333333333333$"
      ],
      "text/plain": [
       "0.0833333333333333"
      ]
     },
     "execution_count": 37,
     "metadata": {},
     "output_type": "execute_result"
    }
   ],
   "source": [
    "from sympy import symbols, integrate\n",
    "\n",
    "u = symbols('u')\n",
    "integrate( (u-1/2)**2 * 1, (u,0,1) )"
   ]
  },
  {
   "cell_type": "markdown",
   "id": "4ee4c338-4a69-4d13-b2f6-14b781275ad6",
   "metadata": {},
   "source": [
    "So the variance of $U$ is $\\sigma_U^2 = \\frac{1}{12} = 0.08\\overline{3}$.\n",
    "\n",
    "We can compute the standard deviation $\\sigma_U$ by taking the square root of the variance."
   ]
  },
  {
   "cell_type": "code",
   "execution_count": 38,
   "id": "612eb676-693c-4478-aec6-dc3838b4c209",
   "metadata": {},
   "outputs": [
    {
     "data": {
      "text/plain": [
       "0.2886751345948128"
      ]
     },
     "execution_count": 38,
     "metadata": {},
     "output_type": "execute_result"
    }
   ],
   "source": [
    "import numpy as np\n",
    "np.sqrt(0.0833333333333333)"
   ]
  },
  {
   "cell_type": "code",
   "execution_count": null,
   "id": "b8fe9439-58d9-40f5-991e-227cce1e3802",
   "metadata": {},
   "outputs": [],
   "source": []
  },
  {
   "cell_type": "markdown",
   "id": "7aa7a72d-f700-4dbf-8876-2e8485011460",
   "metadata": {},
   "source": [
    "### Example 2: mean and variance of a normal distribution"
   ]
  },
  {
   "cell_type": "markdown",
   "id": "6f7ed5b1-40db-4a2d-8802-93cd3c1d51b5",
   "metadata": {},
   "source": [
    "$$\n",
    "    p_N(n)\n",
    "      = \\tfrac{1}{\\sigma\\sqrt{2\\pi}} e^{-\\tfrac{(n-\\mu)^2}{2\\sigma^2}}\n",
    "      = \\tfrac{1}{100\\sqrt{2\\pi}} e^{-\\tfrac{(n-1000)^2}{2\\cdot100^2}}.\n",
    "$$"
   ]
  },
  {
   "cell_type": "code",
   "execution_count": 39,
   "id": "c0e290ea-837b-4ca6-aa46-27da3f6702de",
   "metadata": {},
   "outputs": [],
   "source": [
    "import numpy as np\n",
    "\n",
    "mu = 1000\n",
    "sigma = 100\n",
    "\n",
    "def fN(n):\n",
    "    z = (n - mu)/sigma\n",
    "    C = sigma * np.sqrt(2*np.pi)\n",
    "    return 1 / C * np.exp(-1/2 * z**2)"
   ]
  },
  {
   "cell_type": "markdown",
   "id": "ae456bcc-2062-4e1b-afc2-3a3c9129723e",
   "metadata": {},
   "source": [
    "The mean of $N$ is"
   ]
  },
  {
   "cell_type": "code",
   "execution_count": 40,
   "id": "af20076e-687a-4707-bfe5-4fc2e378e7b2",
   "metadata": {},
   "outputs": [
    {
     "data": {
      "text/plain": [
       "1000.0"
      ]
     },
     "execution_count": 40,
     "metadata": {},
     "output_type": "execute_result"
    }
   ],
   "source": [
    "from scipy.integrate import quad\n",
    "\n",
    "def n_times_fN(n):\n",
    "    return n * fN(n)\n",
    "\n",
    "muN = quad(n_times_fN, -2000, 4000)[0]\n",
    "muN"
   ]
  },
  {
   "cell_type": "markdown",
   "id": "1456ac28-cab4-460b-95c4-0603b9ec4d81",
   "metadata": {},
   "source": [
    "The standard deviation of $N$ is"
   ]
  },
  {
   "cell_type": "code",
   "execution_count": 41,
   "id": "b6ead996-8006-4d01-8104-11516f8ba214",
   "metadata": {},
   "outputs": [
    {
     "data": {
      "text/plain": [
       "100.00000000000001"
      ]
     },
     "execution_count": 41,
     "metadata": {},
     "output_type": "execute_result"
    }
   ],
   "source": [
    "def n_minus_mu_sq_times_fN(n):\n",
    "    return (n-muN)**2 * fN(n)\n",
    "\n",
    "sigma_sq = quad(n_minus_mu_sq_times_fN, -2000, 4000)[0]\n",
    "sigmaN = np.sqrt(sigma_sq)\n",
    "sigmaN"
   ]
  },
  {
   "cell_type": "code",
   "execution_count": null,
   "id": "da95b57e-3a3f-4ec2-88fe-3caa7933f16c",
   "metadata": {},
   "outputs": [],
   "source": []
  },
  {
   "cell_type": "code",
   "execution_count": null,
   "id": "bd14bbe2-9723-4c02-80eb-80f1f3e06d79",
   "metadata": {},
   "outputs": [],
   "source": []
  },
  {
   "cell_type": "markdown",
   "id": "a2e5fe10-e034-4237-b8d4-f35546b301d7",
   "metadata": {},
   "source": [
    "## Probability models\n",
    "\n",
    "In probability theory, we model data as instances of a **random variable** $X$ described by a **probability distribution** $f_X$ (a math function) with particular parameters (usually denoted with Greek letters like $\\theta$, $\\mu$, $\\sigma$, etc.).\n",
    "\n",
    "Multiple different ways to specify and interact with probability distributions:\n",
    "- exact math model function (CDF from which we can extract pdf density function or pmf mass function). Math models allow us the most options: `rvs`, `cdf`, `pdf/pmf`, and stats like `mean`, `median`, `var/std`, `quartiles`.\n",
    "- random draws form a generative process\n",
    "- random draws from a real world process\n",
    "- data for an entire population (census)\n",
    "- sample data from a population\n",
    "- synthetic data obtained by resampling\n",
    "  - bootstrap estimation for any distribution\n",
    "  - permutation test for no-difference-between-groups hypotheses"
   ]
  },
  {
   "cell_type": "code",
   "execution_count": null,
   "id": "723ade10-d7e0-4ce3-a85b-8325ce781d47",
   "metadata": {},
   "outputs": [],
   "source": []
  },
  {
   "cell_type": "markdown",
   "id": "0ed04145-6cc3-4272-b33f-1d68e0dc6e0e",
   "metadata": {},
   "source": [
    "## Computer models for random variables\n",
    "\n",
    "- `<model>`: the family of probability distributions\n",
    "- `<params>`: parameters of the model—specific value of the control knobs we choose in the general family of distributions to create a particular distribution\n",
    "- `<model>(<params>)`: a particular instance of probability model created by choosing a model family `<model>` and the model parameters `<params>`.\n",
    "  - example 1: uniform family of distribution $\\mathcal{U}(\\alpha,\\beta)$ with parameters $\\alpha$ and $\\beta$.  \n",
    "  - example 2: normal family of distribution $\\mathcal{N}(\\mu,\\sigma)$ with parameters $\\mu$ and $\\sigma$.\n",
    "- $\\sim$: math shorthand symbol that stands for \"is distributed according to.\"\n",
    "  For example $X \\sim \\texttt{model}(\\theta)$ means the random variable $X$\n",
    "  is distributed according to model instance $\\texttt{model}$ and parameters $\\theta$.\n"
   ]
  },
  {
   "cell_type": "code",
   "execution_count": 42,
   "id": "2a414276-7cd7-4a72-929a-b953f7caa3b6",
   "metadata": {},
   "outputs": [],
   "source": [
    "from scipy.stats.distributions import norm\n",
    "\n",
    "# create a normal random variable with mean 1000 and std 100\n",
    "rvN = norm(1000, 100)"
   ]
  },
  {
   "cell_type": "code",
   "execution_count": 43,
   "id": "451feff9-7068-4711-9f19-f94b9e47f786",
   "metadata": {},
   "outputs": [
    {
     "data": {
      "text/plain": [
       "scipy.stats._distn_infrastructure.rv_frozen"
      ]
     },
     "execution_count": 43,
     "metadata": {},
     "output_type": "execute_result"
    }
   ],
   "source": [
    "type(rvN)"
   ]
  },
  {
   "cell_type": "code",
   "execution_count": 44,
   "id": "779bd77e-f31b-4109-a275-e1c5981b4836",
   "metadata": {},
   "outputs": [],
   "source": [
    "## see all attributes and methods:\n",
    "# [attr for attr in dir(rvN) if \"__\" not in attr] "
   ]
  },
  {
   "cell_type": "markdown",
   "id": "b6ac6ab9-4f20-4214-80c0-503f31502993",
   "metadata": {},
   "source": [
    "### Plotting the probability functions"
   ]
  },
  {
   "cell_type": "code",
   "execution_count": 45,
   "id": "9b3ed1a8-0f9f-47f4-9a71-4938ccd7d5bb",
   "metadata": {},
   "outputs": [
    {
     "data": {
      "text/plain": [
       "<AxesSubplot:>"
      ]
     },
     "execution_count": 45,
     "metadata": {},
     "output_type": "execute_result"
    },
    {
     "data": {
      "image/png": "[encoded data removed]",
      "text/plain": [
       "<Figure size 504x288 with 1 Axes>"
      ]
     },
     "metadata": {},
     "output_type": "display_data"
    }
   ],
   "source": [
    "ns = np.linspace(0, 2000, 10000)\n",
    "fNs = rvN.pdf(ns)\n",
    "sns.lineplot(x=ns, y=fNs, label=\"pdf of $N$\")"
   ]
  },
  {
   "cell_type": "code",
   "execution_count": 46,
   "id": "ff2022db-2ac3-4977-bc32-d843d8b01e44",
   "metadata": {},
   "outputs": [],
   "source": [
    "# import matplotlib.pyplot as plt\n",
    "# filename = \"figures/plot_of_pdf_of_rvN.pdf\"\n",
    "\n",
    "# with plt.rc_context({\"figure.figsize\":(7,3)}):\n",
    "#     ns = np.linspace(0, 2000, 10000)\n",
    "#     fNs = rvN.pdf(ns)\n",
    "#     ax = sns.lineplot(x=ns, y=fNs, label=\"pdf of $N$\")\n",
    "#     ax.figure.tight_layout()\n",
    "#     ax.figure.savefig(filename, dpi=300, bbox_inches=\"tight\", pad_inches=0)"
   ]
  },
  {
   "cell_type": "markdown",
   "id": "7d4478a2-8b50-46b8-bbbf-563928180ea6",
   "metadata": {},
   "source": [
    "The cumulative distribution is the integral of the probability density function:\n",
    "$$\n",
    "   F_N(b) = \\textrm{Pr}(N \\leq b) = \\int_{-\\infty}^b f_N(n) \\, dn\n",
    "$$\n"
   ]
  },
  {
   "cell_type": "code",
   "execution_count": 47,
   "id": "707b2274-d4dc-4bd5-a687-e7b70a1d5d70",
   "metadata": {},
   "outputs": [
    {
     "data": {
      "text/plain": [
       "<AxesSubplot:>"
      ]
     },
     "execution_count": 47,
     "metadata": {},
     "output_type": "execute_result"
    },
    {
     "data": {
      "image/png": "[encoded data removed]",
      "text/plain": [
       "<Figure size 504x288 with 1 Axes>"
      ]
     },
     "metadata": {},
     "output_type": "display_data"
    }
   ],
   "source": [
    "ns = np.linspace(0, 2000, 10000)\n",
    "FNs = rvN.cdf(ns)\n",
    "sns.lineplot(x=ns, y=FNs, label=\"CDF of $N$\")"
   ]
  },
  {
   "cell_type": "code",
   "execution_count": 48,
   "id": "42087a20-b36b-4074-baec-8b213d0dd329",
   "metadata": {},
   "outputs": [],
   "source": [
    "# import matplotlib.pyplot as plt\n",
    "# filename = \"figures/plot_of_CDF_of_rvN.pdf\"\n",
    "\n",
    "# with plt.rc_context({\"figure.figsize\":(7,3)}):\n",
    "#     ns = np.linspace(0, 2000, 10000)\n",
    "#     FNs = rvN.cdf(ns)\n",
    "#     ax = sns.lineplot(x=ns, y=FNs, label=\"CDF of $N$\")\n",
    "#     ax.figure.tight_layout()\n",
    "#     ax.figure.savefig(filename, dpi=300, bbox_inches=\"tight\", pad_inches=0)"
   ]
  },
  {
   "cell_type": "markdown",
   "id": "14e6bcd9-8fe3-4137-b79e-3dc9235cc887",
   "metadata": {},
   "source": [
    "### Properties of the distribution"
   ]
  },
  {
   "cell_type": "code",
   "execution_count": 49,
   "id": "4e24d016-2bbc-4321-9e54-b716ecfa59e8",
   "metadata": {},
   "outputs": [
    {
     "data": {
      "text/plain": [
       "1000.0"
      ]
     },
     "execution_count": 49,
     "metadata": {},
     "output_type": "execute_result"
    }
   ],
   "source": [
    "rvN.mean()"
   ]
  },
  {
   "cell_type": "code",
   "execution_count": 50,
   "id": "defa1b19-43de-4286-b879-3a3d8f739eec",
   "metadata": {},
   "outputs": [
    {
     "data": {
      "text/plain": [
       "100.0"
      ]
     },
     "execution_count": 50,
     "metadata": {},
     "output_type": "execute_result"
    }
   ],
   "source": [
    "rvN.std()"
   ]
  },
  {
   "cell_type": "code",
   "execution_count": 51,
   "id": "8e62709a-dbae-43ae-8e7e-305e91e7c6d1",
   "metadata": {},
   "outputs": [
    {
     "data": {
      "text/plain": [
       "10000.0"
      ]
     },
     "execution_count": 51,
     "metadata": {},
     "output_type": "execute_result"
    }
   ],
   "source": [
    "rvN.var()"
   ]
  },
  {
   "cell_type": "code",
   "execution_count": 52,
   "id": "aa19c9ef-3478-41eb-978f-6b90ddeba717",
   "metadata": {},
   "outputs": [
    {
     "data": {
      "text/plain": [
       "100.0"
      ]
     },
     "execution_count": 52,
     "metadata": {},
     "output_type": "execute_result"
    }
   ],
   "source": [
    "np.sqrt( rvN.var() )  # = rvN.std()"
   ]
  },
  {
   "cell_type": "code",
   "execution_count": 53,
   "id": "05dfa6f8-da10-4d30-8fe9-a8e532c9571b",
   "metadata": {},
   "outputs": [
    {
     "data": {
      "text/plain": [
       "1000.0"
      ]
     },
     "execution_count": 53,
     "metadata": {},
     "output_type": "execute_result"
    }
   ],
   "source": [
    "rvN.median()"
   ]
  },
  {
   "cell_type": "code",
   "execution_count": 54,
   "id": "0ae671ea-e27b-4902-bc68-60b208372585",
   "metadata": {},
   "outputs": [
    {
     "data": {
      "text/plain": [
       "(-inf, inf)"
      ]
     },
     "execution_count": 54,
     "metadata": {},
     "output_type": "execute_result"
    }
   ],
   "source": [
    "rvN.support()"
   ]
  },
  {
   "cell_type": "markdown",
   "id": "d86a0b67-7ceb-4eaa-bc0a-5f3d5b00515f",
   "metadata": {},
   "source": [
    "### Computing probabilities\n",
    "\n",
    "Suppose you want to compute the probability of the outcome $\\{ a \\leq N \\leq b \\}$\n",
    "for the random variable $N$."
   ]
  },
  {
   "cell_type": "code",
   "execution_count": 55,
   "id": "14b23329-798a-41e4-8f85-f7b825dbd48a",
   "metadata": {},
   "outputs": [
    {
     "data": {
      "text/plain": [
       "0.9544997361036417"
      ]
     },
     "execution_count": 55,
     "metadata": {},
     "output_type": "execute_result"
    }
   ],
   "source": [
    "# Pr({800 < N < 1200}) = integral of f_N between 800 and 1200\n",
    "quad(rvN.pdf, 800, 1200)[0]"
   ]
  },
  {
   "cell_type": "code",
   "execution_count": 56,
   "id": "f2e9ef4d-b14b-4692-bfe0-ed880371a6a5",
   "metadata": {},
   "outputs": [
    {
     "data": {
      "text/plain": [
       "0.9544997361036416"
      ]
     },
     "execution_count": 56,
     "metadata": {},
     "output_type": "execute_result"
    }
   ],
   "source": [
    "# Pr({800 < N < 1200}) = F_N(1200) - F_N(800)\n",
    "rvN.cdf(1200) - rvN.cdf(800)"
   ]
  },
  {
   "cell_type": "code",
   "execution_count": null,
   "id": "f6cbb822-b73d-4ec7-84e6-fcd1e903b77c",
   "metadata": {},
   "outputs": [],
   "source": []
  },
  {
   "cell_type": "markdown",
   "id": "786cb309-d652-4e2d-9da7-e601fc991d73",
   "metadata": {
    "tags": [],
    "toc-hr-collapsed": true
   },
   "source": [
    "### Computing quantiles\n",
    "\n",
    "The inverse question is to find the interval $(-\\infty, n_q]$ that contains proportion $q$ of the total probability.\n",
    "\n",
    "For example the $q=0.25$ quantile is located at"
   ]
  },
  {
   "cell_type": "code",
   "execution_count": 57,
   "id": "a008580f-ee0a-4980-b23a-59923a14affa",
   "metadata": {},
   "outputs": [
    {
     "data": {
      "text/plain": [
       "932.5510249803918"
      ]
     },
     "execution_count": 57,
     "metadata": {},
     "output_type": "execute_result"
    }
   ],
   "source": [
    "# first quartile\n",
    "rvN.ppf(0.25)"
   ]
  },
  {
   "cell_type": "code",
   "execution_count": 58,
   "id": "59233351-ae79-4387-8953-e6875653045c",
   "metadata": {},
   "outputs": [
    {
     "data": {
      "text/plain": [
       "0.25"
      ]
     },
     "execution_count": 58,
     "metadata": {},
     "output_type": "execute_result"
    }
   ],
   "source": [
    "# verify that Pr({N<932.5510249803918)}) == 0.25\n",
    "rvN.cdf(932.5510249803918)"
   ]
  },
  {
   "cell_type": "code",
   "execution_count": 59,
   "id": "af6966db-c9f7-491a-bdf7-c753a1985359",
   "metadata": {},
   "outputs": [
    {
     "data": {
      "text/plain": [
       "1000.0"
      ]
     },
     "execution_count": 59,
     "metadata": {},
     "output_type": "execute_result"
    }
   ],
   "source": [
    "# second quartile == median\n",
    "rvN.ppf(0.5)"
   ]
  },
  {
   "cell_type": "code",
   "execution_count": 60,
   "id": "4fef8673-2306-428a-b14a-e567bcc51000",
   "metadata": {},
   "outputs": [
    {
     "data": {
      "text/plain": [
       "1067.4489750196083"
      ]
     },
     "execution_count": 60,
     "metadata": {},
     "output_type": "execute_result"
    }
   ],
   "source": [
    "# third quartile\n",
    "rvN.ppf(0.75)"
   ]
  },
  {
   "cell_type": "code",
   "execution_count": null,
   "id": "106ccb9d-3131-4171-be05-efda3ff948b6",
   "metadata": {},
   "outputs": [],
   "source": []
  },
  {
   "cell_type": "markdown",
   "id": "7ac886cc-5905-46f8-b638-6edb3ae16441",
   "metadata": {},
   "source": [
    "#### Left tail"
   ]
  },
  {
   "cell_type": "code",
   "execution_count": 61,
   "id": "70be3a14-8f7c-4755-908d-6b0ca79895ff",
   "metadata": {},
   "outputs": [
    {
     "data": {
      "text/plain": [
       "835.5146373048527"
      ]
     },
     "execution_count": 61,
     "metadata": {},
     "output_type": "execute_result"
    }
   ],
   "source": [
    "rvN.ppf(0.05)"
   ]
  },
  {
   "cell_type": "markdown",
   "id": "17bf5d4b-8a90-4d59-a870-71f7daa05863",
   "metadata": {},
   "source": [
    "#### Right tail"
   ]
  },
  {
   "cell_type": "code",
   "execution_count": 62,
   "id": "20e33eb5-c206-4f11-ad65-43d11cab2b67",
   "metadata": {},
   "outputs": [
    {
     "data": {
      "text/plain": [
       "1164.4853626951472"
      ]
     },
     "execution_count": 62,
     "metadata": {},
     "output_type": "execute_result"
    }
   ],
   "source": [
    "rvN.ppf(0.95)"
   ]
  },
  {
   "cell_type": "code",
   "execution_count": null,
   "id": "80dc0e5f-dc51-4f19-bb38-ad04917d4abc",
   "metadata": {},
   "outputs": [],
   "source": []
  },
  {
   "cell_type": "markdown",
   "id": "41084621-46f2-4de9-8dc1-dd985a47c5ea",
   "metadata": {},
   "source": [
    "#### Computing confidence intervals\n",
    "\n",
    "To compute a 90% confidence interval for the random variable $N$,\n",
    "we can use the `rvN.interval()` method."
   ]
  },
  {
   "cell_type": "code",
   "execution_count": 63,
   "id": "ba395f75-294c-4993-9749-3f84e1b86ff0",
   "metadata": {},
   "outputs": [
    {
     "data": {
      "text/plain": [
       "(835.5146373048527, 1164.4853626951472)"
      ]
     },
     "execution_count": 63,
     "metadata": {},
     "output_type": "execute_result"
    }
   ],
   "source": [
    "rvN.interval(0.90)"
   ]
  },
  {
   "cell_type": "markdown",
   "id": "fd8ba1b5-3fce-498e-aed1-57f7406610dc",
   "metadata": {},
   "source": [
    "Note the method `rvN.interval(0.90)` is just a shortcut for computing `(rvN.ppf(0.05),rvN.ppf(0.95))`."
   ]
  },
  {
   "cell_type": "code",
   "execution_count": null,
   "id": "750d71e4-c89a-44b7-b515-0c5053d5c808",
   "metadata": {},
   "outputs": [],
   "source": []
  },
  {
   "cell_type": "markdown",
   "id": "971da36b-b1a1-4a06-95d7-26ae8c9552bc",
   "metadata": {},
   "source": [
    "### Generating random observations\n",
    "\n",
    "Let's say you want to generate $n=10$ observations from the random variable $N$.\n",
    "You can do this by calling the method `rvN.rvs(n)`."
   ]
  },
  {
   "cell_type": "code",
   "execution_count": 64,
   "id": "a15f61a9-01bb-4dbf-a96c-ac90f923002b",
   "metadata": {},
   "outputs": [
    {
     "data": {
      "text/plain": [
       "array([1178.86284734, 1043.65098505, 1009.64974681,  813.65072966,\n",
       "        972.26117975,  964.52410207,  991.72585185,  937.29993232,\n",
       "        995.6181831 ,  952.27819696])"
      ]
     },
     "execution_count": 64,
     "metadata": {},
     "output_type": "execute_result"
    }
   ],
   "source": [
    "ns = rvN.rvs(10)\n",
    "ns"
   ]
  },
  {
   "cell_type": "code",
   "execution_count": 65,
   "id": "72942a3a-10fd-4552-9fab-7e33a821e535",
   "metadata": {},
   "outputs": [
    {
     "data": {
      "text/plain": [
       "985.9521754922469"
      ]
     },
     "execution_count": 65,
     "metadata": {},
     "output_type": "execute_result"
    }
   ],
   "source": [
    "ns_mean = sum(ns)/len(ns)\n",
    "ns_mean"
   ]
  },
  {
   "cell_type": "code",
   "execution_count": null,
   "id": "65292481-9442-48ed-8102-d40d00f9539d",
   "metadata": {},
   "outputs": [],
   "source": []
  },
  {
   "cell_type": "markdown",
   "id": "e82e7841-1a6d-42e1-9d27-b60fabe1cfde",
   "metadata": {},
   "source": [
    "### Computing expectations\n",
    "\n",
    "Suppose the distributor accepts only bottles contain between 800 ml and 1200 ml,\n",
    "and you'll receive a receive payment of $\\$2$ for each bottle.\n",
    "Bottles outside that range get rejected and you don't get paid for them."
   ]
  },
  {
   "cell_type": "code",
   "execution_count": 66,
   "id": "eacdaf49-6541-4e4f-835f-00b67a8dec73",
   "metadata": {},
   "outputs": [],
   "source": [
    "def payment(n):\n",
    "    if 800 <= n and n <= 1200:\n",
    "        return 2\n",
    "    else:\n",
    "        return 0"
   ]
  },
  {
   "cell_type": "code",
   "execution_count": 67,
   "id": "72f80a26-5066-4b6e-85a1-c60158e94836",
   "metadata": {},
   "outputs": [
    {
     "data": {
      "text/plain": [
       "2"
      ]
     },
     "execution_count": 67,
     "metadata": {},
     "output_type": "execute_result"
    }
   ],
   "source": [
    "# get paid if in spec\n",
    "payment(1050)"
   ]
  },
  {
   "cell_type": "code",
   "execution_count": 68,
   "id": "b86379f4-d8e7-4a0a-a5c2-f6ba22a09b68",
   "metadata": {},
   "outputs": [
    {
     "data": {
      "text/plain": [
       "0"
      ]
     },
     "execution_count": 68,
     "metadata": {},
     "output_type": "execute_result"
    }
   ],
   "source": [
    "# don't get paid if out of spec\n",
    "payment(1250)"
   ]
  },
  {
   "cell_type": "code",
   "execution_count": 69,
   "id": "48a9a1c2-be51-4c58-9184-74804f16539c",
   "metadata": {},
   "outputs": [
    {
     "data": {
      "text/plain": [
       "1.9089994722069916"
      ]
     },
     "execution_count": 69,
     "metadata": {},
     "output_type": "execute_result"
    }
   ],
   "source": [
    "rvN.expect(payment, lb=0, ub=2000)"
   ]
  },
  {
   "cell_type": "code",
   "execution_count": 70,
   "id": "dc53c7bf-67a6-4803-b3c3-73524dcd42d5",
   "metadata": {},
   "outputs": [
    {
     "data": {
      "text/plain": [
       "<AxesSubplot:>"
      ]
     },
     "execution_count": 70,
     "metadata": {},
     "output_type": "execute_result"
    },
    {
     "data": {
      "image/png": "[encoded data removed]",
      "text/plain": [
       "<Figure size 504x288 with 1 Axes>"
      ]
     },
     "metadata": {},
     "output_type": "display_data"
    }
   ],
   "source": [
    "xs = np.linspace(0, 2000, 1000)\n",
    "ys = [payment(x)/500 for x in xs]\n",
    "\n",
    "sns.lineplot(x=xs, y=rvN.pdf(xs))\n",
    "sns.lineplot(x=xs, y=ys, label=\"payment(x)\")"
   ]
  },
  {
   "cell_type": "code",
   "execution_count": null,
   "id": "3d5aaae1-f5b3-4608-81ae-676772471e03",
   "metadata": {},
   "outputs": [],
   "source": []
  },
  {
   "cell_type": "code",
   "execution_count": null,
   "id": "c37f1c00-8f22-41e5-b20b-eb7a22d800c9",
   "metadata": {},
   "outputs": [],
   "source": []
  },
  {
   "cell_type": "code",
   "execution_count": null,
   "id": "0b416342-d349-4c75-b4ac-25b5ea64840f",
   "metadata": {},
   "outputs": [],
   "source": []
  },
  {
   "cell_type": "markdown",
   "id": "c6a58de0-c8a0-4be8-95a7-8c006c13e5cc",
   "metadata": {},
   "source": [
    "## Discussion"
   ]
  },
  {
   "cell_type": "markdown",
   "id": "64a4cde5-906a-4510-8602-01f33e7a5677",
   "metadata": {},
   "source": [
    "### Theoretical calculus topics\n",
    "\n",
    "\n"
   ]
  },
  {
   "cell_type": "code",
   "execution_count": 71,
   "id": "1505340d-ff6d-4226-aae6-7bc43ed48a98",
   "metadata": {},
   "outputs": [
    {
     "data": {
      "text/latex": [
       "$\\displaystyle x$"
      ],
      "text/plain": [
       "x"
      ]
     },
     "execution_count": 71,
     "metadata": {},
     "output_type": "execute_result"
    }
   ],
   "source": [
    "from sympy import symbols\n",
    "\n",
    "x, a, b, i, m, n = symbols(\"x a b i m n\")\n",
    "x"
   ]
  },
  {
   "cell_type": "code",
   "execution_count": 72,
   "id": "41a21c89-58e5-4eac-ae11-27e582ffd2ae",
   "metadata": {},
   "outputs": [
    {
     "data": {
      "text/latex": [
       "$\\displaystyle b + m x$"
      ],
      "text/plain": [
       "b + m*x"
      ]
     },
     "execution_count": 72,
     "metadata": {},
     "output_type": "execute_result"
    }
   ],
   "source": [
    "expr = b + m*x\n",
    "expr"
   ]
  },
  {
   "cell_type": "code",
   "execution_count": 73,
   "id": "9dd6b212-cb40-4dda-a919-5aaecbb1ad59",
   "metadata": {},
   "outputs": [
    {
     "data": {
      "text/plain": [
       "\"Add(Symbol('b'), Mul(Symbol('m'), Symbol('x')))\""
      ]
     },
     "execution_count": 73,
     "metadata": {},
     "output_type": "execute_result"
    }
   ],
   "source": [
    "from sympy import srepr\n",
    "\n",
    "srepr(expr)"
   ]
  },
  {
   "cell_type": "code",
   "execution_count": null,
   "id": "6564c87f-7af2-439d-bc2b-d9f49f217a76",
   "metadata": {},
   "outputs": [],
   "source": []
  },
  {
   "cell_type": "code",
   "execution_count": null,
   "id": "c87be6da-0fa4-495d-8028-e36e81c98034",
   "metadata": {},
   "outputs": [],
   "source": []
  },
  {
   "cell_type": "markdown",
   "id": "ce5d3c16-440a-4e8e-b77a-1485ab624500",
   "metadata": {},
   "source": [
    "#### Limits\n"
   ]
  },
  {
   "cell_type": "code",
   "execution_count": 74,
   "id": "938e3a46-8b20-4f79-b66f-ee5dbc642a6c",
   "metadata": {},
   "outputs": [
    {
     "data": {
      "text/latex": [
       "$\\displaystyle \\infty$"
      ],
      "text/plain": [
       "oo"
      ]
     },
     "execution_count": 74,
     "metadata": {},
     "output_type": "execute_result"
    }
   ],
   "source": [
    "from sympy import limit, exp, oo\n",
    "\n",
    "limit(exp(x)/x**100, x, oo) "
   ]
  },
  {
   "cell_type": "markdown",
   "id": "564ed51a-d2a1-4207-89b7-15375c75495e",
   "metadata": {},
   "source": []
  },
  {
   "cell_type": "code",
   "execution_count": 75,
   "id": "2f94504e-e215-472c-866a-3ec98762d49a",
   "metadata": {},
   "outputs": [],
   "source": [
    "# # EXAMPLE 2: ... consider segtment of length delta\n",
    "# delta = (b - a)/n\n",
    "\n",
    "# zero length...\n",
    "# limit(delta, n, oo)\n",
    "\n",
    "# but still add up to whole interval...\n",
    "# summation(delta, (i, 0, n-1))"
   ]
  },
  {
   "cell_type": "code",
   "execution_count": null,
   "id": "bc1ea315-8205-4e70-b147-21c0abdfa2e1",
   "metadata": {},
   "outputs": [],
   "source": []
  },
  {
   "cell_type": "code",
   "execution_count": null,
   "id": "d00eb7f0-3c3f-45ea-a0dd-cf8f4f506f34",
   "metadata": {},
   "outputs": [],
   "source": []
  },
  {
   "cell_type": "markdown",
   "id": "184153c4-cc60-472a-b084-bd38234b455d",
   "metadata": {},
   "source": [
    "#### Derivatives\n"
   ]
  },
  {
   "cell_type": "code",
   "execution_count": 76,
   "id": "d19bca0f-3096-4181-ab5e-3623f4acb662",
   "metadata": {},
   "outputs": [
    {
     "data": {
      "text/latex": [
       "$\\displaystyle m$"
      ],
      "text/plain": [
       "m"
      ]
     },
     "execution_count": 76,
     "metadata": {},
     "output_type": "execute_result"
    }
   ],
   "source": [
    "from sympy import diff\n",
    "\n",
    "f = b + m*x\n",
    "\n",
    "diff(f, x)"
   ]
  },
  {
   "cell_type": "markdown",
   "id": "dc6213e0-695e-4e31-8831-dce728c313ed",
   "metadata": {},
   "source": [
    "The derivative function of $f(x) = mx +b$ is $f'(x)=m$."
   ]
  },
  {
   "cell_type": "code",
   "execution_count": 77,
   "id": "224837c3-911f-46d4-9e60-edab2eeeab10",
   "metadata": {},
   "outputs": [
    {
     "data": {
      "text/latex": [
       "$\\displaystyle c x$"
      ],
      "text/plain": [
       "c*x"
      ]
     },
     "execution_count": 77,
     "metadata": {},
     "output_type": "execute_result"
    }
   ],
   "source": [
    "f = c/2 * x**2\n",
    "\n",
    "diff(f, x)"
   ]
  },
  {
   "cell_type": "markdown",
   "id": "535d3841-8fbb-4e92-879e-84b0b6368862",
   "metadata": {},
   "source": [
    "The derivative function of $f(x) = \\frac{c}{2}x^2$ is $f'(x)=cx$."
   ]
  },
  {
   "cell_type": "code",
   "execution_count": 78,
   "id": "d424db80-1388-4fd8-b74a-9d907bc3aa33",
   "metadata": {},
   "outputs": [
    {
     "data": {
      "text/latex": [
       "$\\displaystyle e^{x} + \\log{\\left(x \\right)} + \\sin{\\left(x \\right)}$"
      ],
      "text/plain": [
       "exp(x) + log(x) + sin(x)"
      ]
     },
     "execution_count": 78,
     "metadata": {},
     "output_type": "execute_result"
    }
   ],
   "source": [
    "from sympy import log, exp, sin\n",
    "f = exp(x) + sin(x) + log(x)\n",
    "f"
   ]
  },
  {
   "cell_type": "code",
   "execution_count": 79,
   "id": "f647205c-1ca6-4205-a5ad-543d3ae9d76b",
   "metadata": {},
   "outputs": [
    {
     "data": {
      "text/latex": [
       "$\\displaystyle e^{x} + \\cos{\\left(x \\right)} + \\frac{1}{x}$"
      ],
      "text/plain": [
       "exp(x) + cos(x) + 1/x"
      ]
     },
     "execution_count": 79,
     "metadata": {},
     "output_type": "execute_result"
    }
   ],
   "source": [
    "diff(f)"
   ]
  },
  {
   "cell_type": "markdown",
   "id": "6a673144-3e5d-4a54-89d3-455fed74d4b7",
   "metadata": {},
   "source": [
    "#### Optimization algorithms\n",
    "\n"
   ]
  },
  {
   "cell_type": "code",
   "execution_count": 80,
   "id": "6ea73503-0877-4c4c-b5a7-21481166778f",
   "metadata": {},
   "outputs": [],
   "source": [
    "def derivative_descent(f, x0=0, alpha=0.01, tol=1e-11):\n",
    "    \"\"\"\n",
    "    Computes the minimum of SymPy expression `f` using\n",
    "    the gradient descent algorithm in one dimension.\n",
    "    \"\"\"\n",
    "    x_i = x0\n",
    "    delta = float(\"inf\")\n",
    "    while delta > tol:\n",
    "        # print('current', x_i, delta)\n",
    "        df_at_x_i = diff(f, x).subs({x:x_i})\n",
    "        x_next = x_i - alpha*df_at_x_i\n",
    "        delta = abs(x_next - x_i)\n",
    "        x_i = x_next\n",
    "    return x_i"
   ]
  },
  {
   "cell_type": "markdown",
   "id": "6dea2da4-d42d-4798-bb0c-6bc99fd5ef8e",
   "metadata": {},
   "source": [
    "Let's find the minimum value of the function $f(x) = (x-5)^2$ using the `derivative_descent` algorithm."
   ]
  },
  {
   "cell_type": "code",
   "execution_count": 81,
   "id": "e145e8fb-a5f3-41ed-a656-81afba3db19a",
   "metadata": {},
   "outputs": [
    {
     "data": {
      "text/latex": [
       "$\\displaystyle 4.99999999951256$"
      ],
      "text/plain": [
       "4.99999999951256"
      ]
     },
     "execution_count": 81,
     "metadata": {},
     "output_type": "execute_result"
    }
   ],
   "source": [
    "f = (x-5)**2\n",
    "\n",
    "argmin_f = derivative_descent(f)\n",
    "argmin_f"
   ]
  },
  {
   "cell_type": "markdown",
   "id": "af7b2898-ca43-4d8e-a6ae-ee8a109d325a",
   "metadata": {},
   "source": [
    "The solution is roughly accurate to roughly `tol`*10 = `1e-10`  decimals."
   ]
  },
  {
   "cell_type": "code",
   "execution_count": 82,
   "id": "f1b70160-6756-4a34-bd31-e9a13bf2d2af",
   "metadata": {},
   "outputs": [
    {
     "data": {
      "text/plain": [
       "-4.874394221587863e-10"
      ]
     },
     "execution_count": 82,
     "metadata": {},
     "output_type": "execute_result"
    }
   ],
   "source": [
    "float(argmin_f - 5)"
   ]
  },
  {
   "cell_type": "markdown",
   "id": "5420a5da-c2a8-4288-ba7b-c4f2b7d6335f",
   "metadata": {},
   "source": [
    "#### Using SciPy optimization functions\n",
    "\n",
    "Let's solve the same optimization problem using the function `minimize` from `scipy.optimize`."
   ]
  },
  {
   "cell_type": "code",
   "execution_count": 83,
   "id": "5c15ca53-64a9-4696-a10b-a253b8e67643",
   "metadata": {},
   "outputs": [
    {
     "data": {
      "text/plain": [
       "4.99999997455944"
      ]
     },
     "execution_count": 83,
     "metadata": {},
     "output_type": "execute_result"
    }
   ],
   "source": [
    "from scipy.optimize import minimize\n",
    "\n",
    "def f(x):\n",
    "    return (x-5)**2\n",
    "\n",
    "res = minimize(f, x0=0)\n",
    "\n",
    "res[\"x\"][0]  # = argmin f(x)"
   ]
  },
  {
   "cell_type": "code",
   "execution_count": null,
   "id": "2c8285de-e55f-43f1-ad42-abdaec94fdab",
   "metadata": {},
   "outputs": [],
   "source": []
  },
  {
   "cell_type": "markdown",
   "id": "4eb31e7c-35c3-4361-8f59-f7e0c71d6e1d",
   "metadata": {},
   "source": [
    "#### Riemann sums\n"
   ]
  },
  {
   "cell_type": "markdown",
   "id": "f3488faa-d158-45a3-b626-b5a2367635db",
   "metadata": {},
   "source": [
    "#### Fundamental theorem of calculus\n"
   ]
  },
  {
   "cell_type": "code",
   "execution_count": 84,
   "id": "460dcf48-7efd-4415-b24b-2d2375131a47",
   "metadata": {},
   "outputs": [],
   "source": [
    "from sympy import diff, integrate, log, exp, sin\n",
    "\n",
    "f = log(x) + exp(x) + sin(x)"
   ]
  },
  {
   "cell_type": "code",
   "execution_count": 85,
   "id": "cbef93f5-710d-4091-a79a-ffc89670c03b",
   "metadata": {},
   "outputs": [
    {
     "data": {
      "text/latex": [
       "$\\displaystyle x \\log{\\left(x \\right)} - x + e^{x} - \\cos{\\left(x \\right)}$"
      ],
      "text/plain": [
       "x*log(x) - x + exp(x) - cos(x)"
      ]
     },
     "execution_count": 85,
     "metadata": {},
     "output_type": "execute_result"
    }
   ],
   "source": [
    "F = integrate(f)\n",
    "F"
   ]
  },
  {
   "cell_type": "code",
   "execution_count": 86,
   "id": "5068d969-549a-4431-99f5-16e0cb539f29",
   "metadata": {},
   "outputs": [
    {
     "data": {
      "text/latex": [
       "$\\displaystyle e^{x} + \\log{\\left(x \\right)} + \\sin{\\left(x \\right)}$"
      ],
      "text/plain": [
       "exp(x) + log(x) + sin(x)"
      ]
     },
     "execution_count": 86,
     "metadata": {},
     "output_type": "execute_result"
    }
   ],
   "source": [
    "diff(F)"
   ]
  },
  {
   "cell_type": "code",
   "execution_count": 87,
   "id": "b6d913a6-8a63-41da-91e8-500f18626781",
   "metadata": {},
   "outputs": [
    {
     "data": {
      "text/plain": [
       "True"
      ]
     },
     "execution_count": 87,
     "metadata": {},
     "output_type": "execute_result"
    }
   ],
   "source": [
    "diff(integrate(f)) == f"
   ]
  },
  {
   "cell_type": "code",
   "execution_count": 88,
   "id": "b87f7673-fc84-4c2a-a3ec-4678e26913c8",
   "metadata": {},
   "outputs": [
    {
     "data": {
      "text/plain": [
       "True"
      ]
     },
     "execution_count": 88,
     "metadata": {},
     "output_type": "execute_result"
    }
   ],
   "source": [
    "integrate(diff(f)) == f"
   ]
  },
  {
   "cell_type": "code",
   "execution_count": null,
   "id": "d2c48f6b-5270-4941-92ad-282b8fc850a2",
   "metadata": {},
   "outputs": [],
   "source": []
  },
  {
   "cell_type": "code",
   "execution_count": null,
   "id": "338e1222-443c-4f6d-b3b5-70570650481d",
   "metadata": {},
   "outputs": [],
   "source": []
  },
  {
   "cell_type": "markdown",
   "id": "cb1480aa-9d45-482d-9ca5-48da845471a0",
   "metadata": {},
   "source": [
    "### Bulk of the normal distribution\n",
    "\n",
    "How much of the total probability \"weight\" lies within $k$ standard deviations of the mean?\n",
    "\n",
    "$$\n",
    "\\textrm{Pr}(\\mu_N - k\\sigma_N \\leq N \\leq \\mu_N + k\\sigma_N) \\ = \\ p_k.\n",
    "$$"
   ]
  },
  {
   "cell_type": "code",
   "execution_count": 89,
   "id": "007c04c9-9ecb-4b66-9058-48e9e4389b0c",
   "metadata": {},
   "outputs": [],
   "source": [
    "from scipy.integrate import quad\n",
    "from scipy.stats.distributions import norm\n",
    "rvN = norm(1000, 100)"
   ]
  },
  {
   "cell_type": "code",
   "execution_count": 90,
   "id": "aa829f73-b91c-460f-a753-d0f655b1f30b",
   "metadata": {},
   "outputs": [
    {
     "name": "stdout",
     "output_type": "stream",
     "text": [
      "p_1 = Pr( N in [900.0, 1100.0] ) = 0.683\n",
      "p_2 = Pr( N in [800.0, 1200.0] ) = 0.954\n",
      "p_3 = Pr( N in [700.0, 1300.0] ) = 0.997\n"
     ]
    }
   ],
   "source": [
    "mu = rvN.mean()    # mean of the random variable\n",
    "sigma = rvN.std()  # standard deviaiton of the random variable\n",
    "\n",
    "for k in [1, 2, 3]:\n",
    "    I_k = [mu - k*sigma, mu + k*sigma]\n",
    "    p_k = quad(rvN.pdf, *I_k)[0]\n",
    "    print(f\"p_{k} = Pr( N in {I_k} ) = {p_k:.3f}\")"
   ]
  },
  {
   "cell_type": "markdown",
   "id": "8abafcf6-5a6c-4c88-b54a-38b76417cee8",
   "metadata": {},
   "source": [
    "The code below highlights the interval $I_k$ and computes the probability $p_k$.\n",
    "Change the value of $k$ to get different plots."
   ]
  },
  {
   "cell_type": "code",
   "execution_count": 91,
   "id": "c152cee9-4653-454c-9829-fcbb3689019e",
   "metadata": {},
   "outputs": [
    {
     "data": {
      "text/plain": [
       "0.9544997361036417"
      ]
     },
     "execution_count": 91,
     "metadata": {},
     "output_type": "execute_result"
    },
    {
     "data": {
      "image/png": "[encoded data removed]",
      "text/plain": [
       "<Figure size 504x288 with 1 Axes>"
      ]
     },
     "metadata": {},
     "output_type": "display_data"
    }
   ],
   "source": [
    "from plot_helpers import calc_prob_and_plot\n",
    "\n",
    "k = 2              # number of standard deviations around the mean\n",
    "\n",
    "# values of x in the interval 𝜇 ± k𝜎 = [𝜇-k𝜎, 𝜇+k𝜎]\n",
    "I_k = [mu-k*sigma, mu+k*sigma]\n",
    "p_k, _ = calc_prob_and_plot(rvN, *I_k)\n",
    "p_k"
   ]
  },
  {
   "cell_type": "markdown",
   "id": "7d830e36-b267-4bfc-8ced-3e5bc03176e9",
   "metadata": {},
   "source": [
    "Try changing the value of the variable `k` in the above code cell."
   ]
  },
  {
   "cell_type": "code",
   "execution_count": null,
   "id": "a13e1db3-a97f-4d33-9654-a1f437dc5f32",
   "metadata": {},
   "outputs": [],
   "source": []
  },
  {
   "cell_type": "markdown",
   "id": "0d698d2c-eace-4b51-a04a-30a64e675ba2",
   "metadata": {},
   "source": [
    "### Tails of the normal distribution\n",
    "\n",
    "We're often interested in tail ends of the distribution, which contain the unlikely events."
   ]
  },
  {
   "cell_type": "code",
   "execution_count": 92,
   "id": "2b34a8ec-70e4-48ac-ba23-42017bc3a01f",
   "metadata": {},
   "outputs": [
    {
     "name": "stdout",
     "output_type": "stream",
     "text": [
      "Pr( N<900.0 or N>1100.0 ) = 0.3173\n",
      "Pr( N<800.0 or N>1200.0 ) = 0.0455\n",
      "Pr( N<700.0 or N>1300.0 ) = 0.0027\n"
     ]
    }
   ],
   "source": [
    "mu = rvN.mean()    # mean of the random variable\n",
    "sigma = rvN.std()  # standard deviaiton of the random variable\n",
    "\n",
    "for k in [1, 2, 3]:\n",
    "        # compute the probability in the left tail (-∞,𝜇-k𝜎]\n",
    "        x_l = mu - k*sigma\n",
    "        p_l = quad(rvN.pdf, rvN.ppf(0.0000000001), x_l)[0]\n",
    "        # compute the probability in the right tail [𝜇+k𝜎,∞)\n",
    "        x_r = mu + k*sigma\n",
    "        p_r = quad(rvN.pdf, x_r, rvN.ppf(0.9999999999))[0]\n",
    "        # add together to get total probability in the tails\n",
    "        p_tails = p_l + p_r\n",
    "        print(f\"Pr( N<{x_l} or N>{x_r} ) = {p_tails:.4f}\")"
   ]
  },
  {
   "cell_type": "code",
   "execution_count": null,
   "id": "4b10a5b9-4c93-4bbe-93c0-81c696420352",
   "metadata": {},
   "outputs": [],
   "source": []
  },
  {
   "cell_type": "markdown",
   "id": "898d21bb-ac46-4ebb-b09d-c66bb1c5d300",
   "metadata": {},
   "source": [
    "The code below highlights the tails of the distribution and computes the sum of their probability."
   ]
  },
  {
   "cell_type": "code",
   "execution_count": 93,
   "id": "a28f3a1f-784e-42dc-b43f-47ba09d44d80",
   "metadata": {},
   "outputs": [
    {
     "name": "stdout",
     "output_type": "stream",
     "text": [
      "Pr( {N<800.0} ∪ {N>1200.0} ) = 0.0455\n"
     ]
    },
    {
     "data": {
      "image/png": "[encoded data removed]",
      "text/plain": [
       "<Figure size 504x288 with 1 Axes>"
      ]
     },
     "metadata": {},
     "output_type": "display_data"
    }
   ],
   "source": [
    "from plot_helpers import calc_prob_and_plot_tails\n",
    "\n",
    "mu = rvN.mean()    # mean of the random variable\n",
    "sigma = rvN.std()  # standard deviaiton of the random variable\n",
    "\n",
    "\n",
    "k = 2              # number of standard deviations around the mean\n",
    "\n",
    "# the distribution's left tail (-∞,𝜇-k𝜎]\n",
    "x_l = mu - k*sigma\n",
    "# the distribution's right tail [𝜇+k𝜎,∞)\n",
    "x_r = mu + k*sigma\n",
    "p_tails, _ = calc_prob_and_plot_tails(rvN, x_l, x_r, xlims=[600, 1400])\n",
    "\n",
    "print(f\"Pr( {{N<{x_l}}} ∪ {{N>{x_r}}} ) = {p_tails:.4f}\")"
   ]
  },
  {
   "cell_type": "markdown",
   "id": "42cd6c77-aaf6-4c23-a0a8-b3173b4c2686",
   "metadata": {},
   "source": [
    "Try changing the value of the variable `k` in the above code cell."
   ]
  },
  {
   "cell_type": "markdown",
   "id": "e674977d-f01b-4975-b068-a63b12338d55",
   "metadata": {},
   "source": [
    "The above calculations leads us to an important rule of thumb: the values of the 5% tail of the distribution are $k=2$ standard deviations away from the mean (more precisely, we should use $k=1.96$ to get exactly 5%). We'll use this facts later in STATS to define a *cutoff value* for events that are unlikely to occur by chance."
   ]
  },
  {
   "cell_type": "code",
   "execution_count": null,
   "id": "bc69cb96-5763-4aa2-80e6-bdd4e6cf6ec7",
   "metadata": {},
   "outputs": [],
   "source": []
  },
  {
   "cell_type": "code",
   "execution_count": null,
   "id": "a090fa3a-af0f-4580-9841-a40c45c2938b",
   "metadata": {},
   "outputs": [],
   "source": []
  },
  {
   "cell_type": "code",
   "execution_count": null,
   "id": "204dd179-8bc5-4220-b329-04994a7c974d",
   "metadata": {},
   "outputs": [],
   "source": []
  },
  {
   "cell_type": "markdown",
   "id": "aa6b927d-117e-49f4-9852-dbb6778753d5",
   "metadata": {},
   "source": [
    "# FIGURES GEN"
   ]
  },
  {
   "cell_type": "code",
   "execution_count": 94,
   "id": "e1cef219-b048-4c05-b607-ca71ed857b33",
   "metadata": {},
   "outputs": [],
   "source": [
    "from plot_helpers import plot_pdf_and_cdf"
   ]
  },
  {
   "cell_type": "code",
   "execution_count": 95,
   "id": "327a0877-8ff7-4462-bd43-b80c30abb912",
   "metadata": {},
   "outputs": [
    {
     "data": {
      "text/plain": [
       "(<Figure size 504x288 with 2 Axes>,\n",
       " array([<AxesSubplot:title={'center':'Probability density function'}>,\n",
       "        <AxesSubplot:title={'center':'Cumulative distribution function'}>],\n",
       "       dtype=object))"
      ]
     },
     "execution_count": 95,
     "metadata": {},
     "output_type": "execute_result"
    },
    {
     "data": {
      "image/png": "[encoded data removed]",
      "text/plain": [
       "<Figure size 504x288 with 2 Axes>"
      ]
     },
     "metadata": {},
     "output_type": "display_data"
    }
   ],
   "source": [
    "from scipy.stats.distributions import uniform\n",
    "rvU = uniform(0, 1)\n",
    "plot_pdf_and_cdf(rvU, 0.7, rv_name=\"U\")"
   ]
  },
  {
   "cell_type": "code",
   "execution_count": 96,
   "id": "73d6c6ba-cb3b-4068-8b91-2e79a7d3761c",
   "metadata": {},
   "outputs": [],
   "source": [
    "# filename = \"figures/uniform_pdf_and_CDF_until_b.pdf\"\n",
    "\n",
    "# with plt.rc_context({\"figure.figsize\":(10,5)}):\n",
    "#     fig, axs = plot_pdf_and_cdf(rvU, 0.7, rv_name=\"U\")\n",
    "#     fig.tight_layout()\n",
    "#     fig.savefig(filename, dpi=300, bbox_inches=\"tight\", pad_inches=0)"
   ]
  },
  {
   "cell_type": "code",
   "execution_count": 97,
   "id": "e36c9380-f094-47f5-a686-e0dbab73add8",
   "metadata": {},
   "outputs": [
    {
     "data": {
      "text/plain": [
       "(<Figure size 504x288 with 2 Axes>,\n",
       " array([<AxesSubplot:title={'center':'Probability density function'}>,\n",
       "        <AxesSubplot:title={'center':'Cumulative distribution function'}>],\n",
       "       dtype=object))"
      ]
     },
     "execution_count": 97,
     "metadata": {},
     "output_type": "execute_result"
    },
    {
     "data": {
      "image/png": "[encoded data removed]",
      "text/plain": [
       "<Figure size 504x288 with 2 Axes>"
      ]
     },
     "metadata": {},
     "output_type": "display_data"
    }
   ],
   "source": [
    "from scipy.stats.distributions import norm\n",
    "mean = 1000\n",
    "std = 100\n",
    "rvN = norm(mean, std)\n",
    "\n",
    "plot_pdf_and_cdf(rvN, 1100, rv_name=\"N\")"
   ]
  },
  {
   "cell_type": "code",
   "execution_count": 98,
   "id": "6436ce93-7d19-4b5f-88ed-5b94c4cde72f",
   "metadata": {},
   "outputs": [],
   "source": [
    "# filename = \"figures/normal_pdf_and_CDF_until_b.pdf\"\n",
    "\n",
    "# from scipy.stats.distributions import norm\n",
    "# mean = 1000\n",
    "# std = 100\n",
    "# rvN = norm(mean, std)\n",
    "\n",
    "# with plt.rc_context({\"figure.figsize\":(10,5)}):\n",
    "#     fig, axs = plot_pdf_and_cdf(rvN, 1100, rv_name=\"N\")\n",
    "#     fig.tight_layout()\n",
    "#     fig.savefig(filename, dpi=300, bbox_inches=\"tight\", pad_inches=0)"
   ]
  },
  {
   "cell_type": "code",
   "execution_count": null,
   "id": "1182af41-37c8-40a0-acb9-32b6a62ff86e",
   "metadata": {},
   "outputs": [],
   "source": []
  },
  {
   "cell_type": "code",
   "execution_count": null,
   "id": "93f66f32-645d-409e-8b4f-67d612e2a35a",
   "metadata": {},
   "outputs": [],
   "source": []
  },
  {
   "cell_type": "code",
   "execution_count": null,
   "id": "146b851a-4bf3-4a44-a176-32649818efa6",
   "metadata": {},
   "outputs": [],
   "source": []
  },
  {
   "cell_type": "code",
   "execution_count": 99,
   "id": "6957b5ef-ddba-4562-bd6c-474844e569f8",
   "metadata": {
    "tags": []
   },
   "outputs": [
    {
     "name": "stdout",
     "output_type": "stream",
     "text": [
      "n = 1 interval contains 0.6826894921370859\n",
      "n = 2 interval contains 0.9544997361036417\n",
      "n = 3 interval contains 0.99730020393674\n"
     ]
    },
    {
     "data": {
      "image/png": "[encoded data removed]",
      "text/plain": [
       "<Figure size 864x216 with 3 Axes>"
      ]
     },
     "metadata": {},
     "output_type": "display_data"
    }
   ],
   "source": [
    "import matplotlib.pyplot as plt\n",
    "from plot_helpers import calc_prob_and_plot\n",
    "\n",
    "filename = \"figures/bulk_of_the_distribution_panel.pdf\"\n",
    "\n",
    "mu = rvN.mean()    # mean of the random variable\n",
    "sigma = rvN.std()  # standard deviaiton of the random variable\n",
    "\n",
    "with plt.rc_context({\"figure.figsize\":(12,3)}):\n",
    "    fig, axs = plt.subplots(1, 3)\n",
    "    ax1, ax2, ax3 = axs\n",
    "\n",
    "    n = 1\n",
    "    bulk_interval1 = [mu-n*sigma, mu+n*sigma]\n",
    "    p1, ax1 = calc_prob_and_plot(rvN, *bulk_interval1, xlims=[600, 1400], ax=ax1,\n",
    "                                 title=\"(a) Pr({$\\mu-\\sigma \\leq N \\leq \\mu+\\sigma$})\")\n",
    "    print(\"n =\", n, \"interval contains\", p1)\n",
    "\n",
    "    n = 2\n",
    "    bulk_interval2 = [mu-n*sigma, mu+n*sigma]\n",
    "    p2, ax2 = calc_prob_and_plot(rvN, *bulk_interval2, xlims=[600, 1400], ax=ax2,\n",
    "                                 title=\"(b) Pr({$\\mu-2\\sigma \\leq N \\leq \\mu+2\\sigma$})\")\n",
    "    print(\"n =\", n, \"interval contains\", p2)\n",
    "\n",
    "    n = 3\n",
    "    bulk_interval3 = [mu-n*sigma, mu+n*sigma]\n",
    "    p3, ax2 = calc_prob_and_plot(rvN, *bulk_interval3, xlims=[600, 1400], ax=ax3,\n",
    "                                 title=\"(c) Pr({$\\mu-3\\sigma \\leq N \\leq \\mu+3\\sigma$})\")\n",
    "    print(\"n =\", n, \"interval contains\", p3)\n",
    "    \n",
    "    fig.tight_layout()\n",
    "    fig.savefig(filename, dpi=300, bbox_inches=\"tight\", pad_inches=0)\n"
   ]
  },
  {
   "cell_type": "code",
   "execution_count": 100,
   "id": "4099fb64-6a29-460c-9b0c-ce990a554d9a",
   "metadata": {},
   "outputs": [
    {
     "name": "stdout",
     "output_type": "stream",
     "text": [
      "p1=0.6826894921370859\n",
      "p2=0.04550026389615838\n",
      "p3=0.002699796063060157\n",
      "\n"
     ]
    },
    {
     "data": {
      "image/png": "[encoded data removed]",
      "text/plain": [
       "<Figure size 864x216 with 3 Axes>"
      ]
     },
     "metadata": {},
     "output_type": "display_data"
    }
   ],
   "source": [
    "filename = \"figures/tails_of_the_distribution_panel.pdf\"\n",
    "\n",
    "\n",
    "from plot_helpers import calc_prob_and_plot_tails\n",
    "\n",
    "\n",
    "\n",
    "\n",
    "mu = rvN.mean()    # mean of the random variable\n",
    "sigma = rvN.std()  # standard deviaiton of the random variable\n",
    "\n",
    "\n",
    "with plt.rc_context({\"figure.figsize\":(12,3)}):\n",
    "    fig, axs = plt.subplots(1, 3)\n",
    "    ax1, ax2, ax3 = axs\n",
    "\n",
    "    n = 1\n",
    "    x_l = mu-n*sigma\n",
    "    x_r = mu+n*sigma\n",
    "    title1 = \"(a) Pr( {$N \\leq \\mu-\\sigma$} $\\cup$ {$N \\geq \\mu+\\sigma$} )\"\n",
    "    p2, ax1 = calc_prob_and_plot_tails(rvN, x_l, x_r, xlims=[600, 1400],\n",
    "                                      ax=ax1, title=title1)\n",
    "\n",
    "    n = 2\n",
    "    x_l = mu-n*sigma\n",
    "    x_r = mu+n*sigma\n",
    "    title2 = \"(b) Pr( {$N \\leq \\mu-2\\sigma$} $\\cup$ {$N \\geq \\mu+2\\sigma$} )\"\n",
    "    p2, ax2 = calc_prob_and_plot_tails(rvN, x_l, x_r, xlims=[600, 1400],\n",
    "                                      ax=ax2, title=title2)\n",
    "\n",
    "    n = 3\n",
    "    x_l = mu-n*sigma\n",
    "    x_r = mu+n*sigma\n",
    "    title3 = \"(c) Pr( {$N \\leq \\mu-3\\sigma$} $\\cup$ {$N \\geq \\mu+3\\sigma$} )\"\n",
    "    p3, ax3 = calc_prob_and_plot_tails(rvN, x_l, x_r, xlims=[600, 1400],\n",
    "                                      ax=ax3, title=title3)\n",
    "\n",
    "    print(f\"{p1=}\\n\",f\"{p2=}\\n\",f\"{p3=}\\n\", sep=\"\")\n",
    "\n",
    "    fig.tight_layout()\n",
    "    fig.savefig(filename, dpi=300, bbox_inches=\"tight\", pad_inches=0)\n"
   ]
  },
  {
   "cell_type": "code",
   "execution_count": null,
   "id": "e094c230-f036-492d-a845-4f2d37f414ef",
   "metadata": {},
   "outputs": [],
   "source": []
  },
  {
   "cell_type": "code",
   "execution_count": 101,
   "id": "324b012d-9284-4175-8423-8836ba586fb8",
   "metadata": {},
   "outputs": [
    {
     "data": {
      "image/png": "[encoded data removed]",
      "text/plain": [
       "<Figure size 504x216 with 1 Axes>"
      ]
     },
     "metadata": {},
     "output_type": "display_data"
    }
   ],
   "source": [
    "filename = \"figures/plot_of_trapezoid_under_chi2_df_eq_8.pdf\"\n",
    "\n",
    "import matplotlib.pyplot as plt\n",
    "from scipy.stats.distributions import chi2\n",
    "\n",
    "n = 10\n",
    "\n",
    "X2 = chi2(df=8)\n",
    "f = X2.pdf\n",
    "\n",
    "a = 0\n",
    "b = 25\n",
    "\n",
    "\n",
    "with plt.rc_context({\"figure.figsize\":(7,3)}):\n",
    "\n",
    "    # x and y values for the trapezoid rule\n",
    "    xs = np.linspace(a, b, n+1)\n",
    "    ys = f(xs)\n",
    "\n",
    "    # X and Y values for plotting y=f(x)\n",
    "    X = np.linspace(a, b, 10000)\n",
    "    Y = f(X)\n",
    "    plt.plot(X,Y)\n",
    "    plt.xticks(range(0,b-1))\n",
    "    ax = plt.gca()\n",
    "    # ax.set_title('Approximation to the area under $f(x)$ using n = {} trapezoids.'.format(n), y=0, pad=-30)\n",
    "\n",
    "\n",
    "    for i in range(n):\n",
    "        xcoords = [xs[i], xs[i],    xs[i+1],    xs[i+1] ]\n",
    "        ycoords = [0,     f(xs[i]), f(xs[i+1]), 0      ]\n",
    "        alpha = 0.2 if i%2==1 else 0.3\n",
    "        plt.fill(xcoords, ycoords, 'b', edgecolor='b', alpha=alpha)\n",
    "        if i == 2:\n",
    "            plt.plot(xs[i],   0,          marker=\"o\", markersize=4, markeredgecolor=\"b\", markerfacecolor=\"b\")\n",
    "            plt.text(xs[i],   0,          '$(x_i, 0)$', ha='right', va='top')\n",
    "            plt.plot(xs[i],   f(xs[i]),    marker=\"o\", markersize=4, markeredgecolor=\"b\", markerfacecolor=\"b\")\n",
    "            plt.text(xs[i],   f(xs[i]),    '$(x_i, f(x_i))$', ha='right')\n",
    "            plt.plot(xs[i+1], 0,          marker=\"o\", markersize=4, markeredgecolor=\"b\", markerfacecolor=\"b\")\n",
    "            plt.text(xs[i+1], 0,          '$(x_i+\\Delta x, 0)$', ha='left', va='top')\n",
    "            plt.plot(xs[i+1], f(xs[i+1]),  marker=\"o\", markersize=4, markeredgecolor=\"b\", markerfacecolor=\"b\")\n",
    "            plt.text(xs[i+1], f(xs[i+1]), '$(x_i+\\Delta x, f(x_i+\\Delta x))$')\n",
    "\n",
    "\n",
    "    ax.figure.tight_layout()\n",
    "    ax.figure.savefig(filename, dpi=300, bbox_inches=\"tight\", pad_inches=0)\n"
   ]
  },
  {
   "cell_type": "code",
   "execution_count": null,
   "id": "c6da7524-290f-4fbf-b556-594bae609540",
   "metadata": {},
   "outputs": [],
   "source": []
  },
  {
   "cell_type": "code",
   "execution_count": null,
   "id": "c0378d80-0f01-43f7-a99e-02fc61df9d99",
   "metadata": {},
   "outputs": [],
   "source": []
  },
  {
   "cell_type": "code",
   "execution_count": null,
   "id": "25118601-edaa-483c-ae3b-2097e414a759",
   "metadata": {},
   "outputs": [],
   "source": []
  },
  {
   "cell_type": "markdown",
   "id": "69949600-58b6-448b-bfaf-52c1e7e41feb",
   "metadata": {},
   "source": [
    "# CUT MATERIAL"
   ]
  },
  {
   "cell_type": "markdown",
   "id": "0702c3aa-292b-4192-9b30-ad8e630e00e6",
   "metadata": {
    "tags": []
   },
   "source": [
    "#### CUT EXAMPLE PLOT OF PDF (used to be in Calculus section)"
   ]
  },
  {
   "cell_type": "code",
   "execution_count": 102,
   "id": "a75c4e3f-056e-4cac-bdc9-12a7d089743a",
   "metadata": {},
   "outputs": [
    {
     "data": {
      "text/plain": [
       "<AxesSubplot:>"
      ]
     },
     "execution_count": 102,
     "metadata": {},
     "output_type": "execute_result"
    },
    {
     "data": {
      "image/png": "[encoded data removed]",
      "text/plain": [
       "<Figure size 504x288 with 1 Axes>"
      ]
     },
     "metadata": {},
     "output_type": "display_data"
    }
   ],
   "source": [
    "from scipy.stats.distributions import norm\n",
    "\n",
    "# define normally distributed random variable with 𝜇=1000 and 𝜎=100\n",
    "rvN = norm(1000, 100)\n",
    "\n",
    "ns = np.linspace(0, 2000, 10000)\n",
    "fNs = rvN.pdf(ns)\n",
    "sns.lineplot(x=ns, y=fNs, label=\"Probability density function $f_N$\")"
   ]
  },
  {
   "cell_type": "code",
   "execution_count": 103,
   "id": "03542a7c-9987-4e00-bb6c-436bad3a3147",
   "metadata": {
    "tags": []
   },
   "outputs": [],
   "source": [
    "# import matplotlib.pyplot as plt\n",
    "# filename = \"figures/graph_of_pdf_of_rvN.pdf\"\n",
    "\n",
    "# with plt.rc_context({\"figure.figsize\":(7,3)}):\n",
    "#     x = np.linspace(0, 2000, 10000)\n",
    "#     fN = rvN.pdf(x)\n",
    "#     ax = sns.lineplot(x=x, y=fN)\n",
    "#     ax.figure.tight_layout()\n",
    "#     ax.set_title(\"Probability density function for the distribution $\\mathcal{N}(1000,100)$\")\n",
    "#     ax.set_xlabel('$x$')\n",
    "#     ax.set_ylabel('$f_N(x)$')\n",
    "#     ax.figure.savefig(filename, dpi=300, bbox_inches=\"tight\", pad_inches=0)"
   ]
  },
  {
   "cell_type": "markdown",
   "id": "c5a8725b-9cf7-4de4-a4f9-33687eaa18dd",
   "metadata": {},
   "source": [
    "### Example probability calculation\n",
    "\n",
    "What is the probability of observing a value between 800 and 900."
   ]
  },
  {
   "cell_type": "code",
   "execution_count": null,
   "id": "b3ac540d-38f5-4170-9432-c9446d44c8c9",
   "metadata": {},
   "outputs": [],
   "source": []
  },
  {
   "cell_type": "code",
   "execution_count": 104,
   "id": "421683db-96e2-41b4-9404-47621b8d58ee",
   "metadata": {},
   "outputs": [
    {
     "data": {
      "text/plain": [
       "0.13590512198327784"
      ]
     },
     "execution_count": 104,
     "metadata": {},
     "output_type": "execute_result"
    }
   ],
   "source": [
    "from scipy.integrate import quad\n",
    "\n",
    "# Pr(800 < X < 900) = integral of f_X between 800 and 900\n",
    "quad(rvN.pdf, 800, 900)[0]"
   ]
  },
  {
   "cell_type": "code",
   "execution_count": 105,
   "id": "b8d56133-3946-438f-9583-cb9df5051cfd",
   "metadata": {},
   "outputs": [
    {
     "data": {
      "text/plain": [
       "(0.49996832875816705,\n",
       " <AxesSubplot:title={'center':'Probability density for the random variable norm(1000, 100) between 600 and 1000'}>)"
      ]
     },
     "execution_count": 105,
     "metadata": {},
     "output_type": "execute_result"
    },
    {
     "data": {
      "image/png": "[encoded data removed]",
      "text/plain": [
       "<Figure size 504x288 with 1 Axes>"
      ]
     },
     "metadata": {},
     "output_type": "display_data"
    }
   ],
   "source": [
    "calc_prob_and_plot(rvN, 600, 1000)"
   ]
  },
  {
   "cell_type": "code",
   "execution_count": null,
   "id": "fd48b3a7-0cc2-4a42-bfc8-adbc6ecdb2dd",
   "metadata": {},
   "outputs": [],
   "source": []
  },
  {
   "cell_type": "markdown",
   "id": "2979dede-d8c2-45cc-bf92-27c2c74c02fc",
   "metadata": {},
   "source": [
    "### Cumulative density function (CDF)\n"
   ]
  },
  {
   "cell_type": "code",
   "execution_count": 106,
   "id": "bf2ca09d-d984-4fc0-9195-c39871d52b9c",
   "metadata": {},
   "outputs": [
    {
     "data": {
      "text/plain": [
       "0.13590512198327787"
      ]
     },
     "execution_count": 106,
     "metadata": {},
     "output_type": "execute_result"
    }
   ],
   "source": [
    "# Pr(800 < X < 900) = F(900) - F(800)\n",
    "rvN.cdf(900) - rvN.cdf(800)"
   ]
  },
  {
   "cell_type": "code",
   "execution_count": null,
   "id": "5bfd7f29-73d2-4265-8f84-a913662d5fda",
   "metadata": {},
   "outputs": [],
   "source": []
  },
  {
   "cell_type": "markdown",
   "id": "403a0357-6a53-4f23-9740-133f7bfb1e27",
   "metadata": {},
   "source": [
    "### The inverse-CDF function"
   ]
  },
  {
   "cell_type": "code",
   "execution_count": 107,
   "id": "aa86a8f2-b405-4620-b9ff-f460d7e3e855",
   "metadata": {},
   "outputs": [
    {
     "data": {
      "text/plain": [
       "1025.33471031358"
      ]
     },
     "execution_count": 107,
     "metadata": {},
     "output_type": "execute_result"
    }
   ],
   "source": [
    "rvN.ppf(0.6)"
   ]
  },
  {
   "cell_type": "code",
   "execution_count": 108,
   "id": "3990737f-2734-4f06-83ab-ef7cf5ec0205",
   "metadata": {},
   "outputs": [
    {
     "data": {
      "text/plain": [
       "0.6000000000000001"
      ]
     },
     "execution_count": 108,
     "metadata": {},
     "output_type": "execute_result"
    }
   ],
   "source": [
    "rvN.cdf(1025.33471031358)"
   ]
  },
  {
   "cell_type": "markdown",
   "id": "148d367a-276a-4fce-81e2-d082ceafece8",
   "metadata": {},
   "source": []
  },
  {
   "cell_type": "markdown",
   "id": "18b46987-1520-4887-b24b-327597a44a1e",
   "metadata": {},
   "source": [
    "#### EARLY ATTEMPTS AT EXPECTATIONS CALCULATIONS"
   ]
  },
  {
   "cell_type": "code",
   "execution_count": 109,
   "id": "6831978d-4075-4d79-8c78-b89e49f6689b",
   "metadata": {},
   "outputs": [
    {
     "data": {
      "text/latex": [
       "$\\displaystyle \\frac{1}{12}$"
      ],
      "text/plain": [
       "1/12"
      ]
     },
     "execution_count": 109,
     "metadata": {},
     "output_type": "execute_result"
    }
   ],
   "source": [
    "from sympy import Rational\n",
    "integrate( (u-Rational(1,2))**2, (u,0,1) )"
   ]
  },
  {
   "cell_type": "code",
   "execution_count": 110,
   "id": "a17f07b1-e22c-4f2e-ac19-249d03424844",
   "metadata": {},
   "outputs": [],
   "source": [
    "from scipy.stats.distributions import uniform\n",
    "\n",
    "xs = np.linspace(0, 1, 1000)\n",
    "rvU = uniform(0, 1)"
   ]
  },
  {
   "cell_type": "code",
   "execution_count": 111,
   "id": "15a97647-55c4-4ea2-a534-f1493f8eef6b",
   "metadata": {},
   "outputs": [
    {
     "data": {
      "text/plain": [
       "0.5"
      ]
     },
     "execution_count": 111,
     "metadata": {},
     "output_type": "execute_result"
    }
   ],
   "source": [
    "from scipy.integrate import trapz\n",
    "\n",
    "# mean\n",
    "y1 = xs*rvU.pdf(xs)\n",
    "mu = trapz(y1, xs)\n",
    "mu"
   ]
  },
  {
   "cell_type": "code",
   "execution_count": 112,
   "id": "82d1bf5a-8a6b-4c3b-a5a5-3782a3474a35",
   "metadata": {},
   "outputs": [
    {
     "data": {
      "text/plain": [
       "0.08333350033383399"
      ]
     },
     "execution_count": 112,
     "metadata": {},
     "output_type": "execute_result"
    }
   ],
   "source": [
    "# variance\n",
    "y2 = (xs-mu)**2 * rvU.pdf(xs)\n",
    "sigma2 = trapz(y2, xs)\n",
    "sigma2"
   ]
  },
  {
   "cell_type": "code",
   "execution_count": 113,
   "id": "09164ad8-5dc5-4bb3-a89c-f52c366bea7c",
   "metadata": {},
   "outputs": [
    {
     "data": {
      "text/plain": [
       "0.08333333333333333"
      ]
     },
     "execution_count": 113,
     "metadata": {},
     "output_type": "execute_result"
    }
   ],
   "source": [
    "rvU.var()"
   ]
  },
  {
   "cell_type": "markdown",
   "id": "b4fab152-0257-4302-ba2a-823c0fc58585",
   "metadata": {
    "tags": []
   },
   "source": [
    "#### Alt"
   ]
  },
  {
   "cell_type": "code",
   "execution_count": 114,
   "id": "ccdecc4a-fb99-47b6-95f6-1751e8539d73",
   "metadata": {},
   "outputs": [
    {
     "data": {
      "text/plain": [
       "0.5"
      ]
     },
     "execution_count": 114,
     "metadata": {},
     "output_type": "execute_result"
    }
   ],
   "source": [
    "from scipy.stats.distributions import uniform\n",
    "\n",
    "rvU = uniform(0, 1)\n",
    "\n",
    "def xpU(x):\n",
    "    return x*rvU.pdf(x)\n",
    "\n",
    "quad(xpU, 0, 1)[0]"
   ]
  },
  {
   "cell_type": "code",
   "execution_count": null,
   "id": "127a7059-2e75-40ca-a98c-d244e04e1b37",
   "metadata": {},
   "outputs": [],
   "source": []
  },
  {
   "cell_type": "code",
   "execution_count": 115,
   "id": "7d5bab43-6392-4922-98ee-30c8539f45aa",
   "metadata": {},
   "outputs": [
    {
     "data": {
      "text/plain": [
       "0.5"
      ]
     },
     "execution_count": 115,
     "metadata": {},
     "output_type": "execute_result"
    }
   ],
   "source": [
    "def xpU(x):\n",
    "    muX = rvU.mean()\n",
    "    return x*rvU.pdf(x)\n",
    "\n",
    "quad(xpU, 0, 1)[0]"
   ]
  },
  {
   "cell_type": "code",
   "execution_count": 116,
   "id": "1f053c9e-9824-46ca-b485-b3e0fcf9801b",
   "metadata": {},
   "outputs": [
    {
     "data": {
      "text/plain": [
       "0.5"
      ]
     },
     "execution_count": 116,
     "metadata": {},
     "output_type": "execute_result"
    }
   ],
   "source": [
    "from scipy.integrate import simpson\n",
    "\n",
    "xs = np.linspace(0, 1, 1000)\n",
    "rvU = uniform(0, 1)\n",
    "\n",
    "\n",
    "simpson(xs*rvU.pdf(xs), xs)"
   ]
  },
  {
   "cell_type": "code",
   "execution_count": null,
   "id": "f753fbc1-657d-46ad-8cff-fa252272dbf2",
   "metadata": {},
   "outputs": [],
   "source": []
  },
  {
   "cell_type": "code",
   "execution_count": null,
   "id": "0b6caa12-588a-402b-914b-9e58658adf88",
   "metadata": {},
   "outputs": [],
   "source": []
  },
  {
   "cell_type": "code",
   "execution_count": null,
   "id": "0b65fac1-3cd1-493b-97b8-7c647efb8412",
   "metadata": {},
   "outputs": [],
   "source": []
  },
  {
   "cell_type": "code",
   "execution_count": null,
   "id": "0f8133b1-0c7b-4d02-b1c2-ca53113308fc",
   "metadata": {},
   "outputs": [],
   "source": []
  },
  {
   "cell_type": "code",
   "execution_count": null,
   "id": "fffec83d-881b-4c2a-87ac-d1457ba96f56",
   "metadata": {},
   "outputs": [],
   "source": []
  }
 ],
 "metadata": {
  "kernelspec": {
   "display_name": "Python 3 (ipykernel)",
   "language": "python",
   "name": "python3"
  },
  "language_info": {
   "codemirror_mode": {
    "name": "ipython",
    "version": 3
   },
   "file_extension": ".py",
   "mimetype": "text/x-python",
   "name": "python",
   "nbconvert_exporter": "python",
   "pygments_lexer": "ipython3",
   "version": "3.9.4"
  },
  "toc-autonumbering": true
 },
 "nbformat": 4,
 "nbformat_minor": 5
}
