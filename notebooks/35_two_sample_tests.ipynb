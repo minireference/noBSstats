{
 "cells": [
  {
   "cell_type": "markdown",
   "id": "b73f3d18-88c7-499d-90a3-dd6954247cf3",
   "metadata": {
    "tags": []
   },
   "source": [
    "# Section 3.5 — Two-sample hypothesis tests\n",
    "\n",
    "This notebook contains the code examples from [Section 3.5 Two-sample hypothesis tests]() of the **No Bullshit Guide to Statistics**."
   ]
  },
  {
   "cell_type": "markdown",
   "id": "efce8e91-8824-4103-a526-02e23c794668",
   "metadata": {
    "tags": []
   },
   "source": [
    "#### Notebook setup"
   ]
  },
  {
   "cell_type": "code",
   "execution_count": 1,
   "id": "990de07d-c26f-4a29-935a-2b1dacc89b34",
   "metadata": {},
   "outputs": [],
   "source": [
    "# load Python modules\n",
    "import os\n",
    "import numpy as np\n",
    "import pandas as pd\n",
    "import seaborn as sns\n",
    "import matplotlib.pyplot as plt"
   ]
  },
  {
   "cell_type": "code",
   "execution_count": null,
   "id": "b2e20994-0800-4a50-90d7-fe706be037bf",
   "metadata": {},
   "outputs": [],
   "source": [
    "%pip install --quiet ministats"
   ]
  },
  {
   "cell_type": "code",
   "execution_count": 2,
   "id": "2ae5e519-3e7b-4218-aebd-bbb7790783cd",
   "metadata": {},
   "outputs": [],
   "source": [
    "# Plot helper functions\n",
    "from ministats import nicebins\n",
    "from ministats import plot_pdf\n",
    "from ministats.utils import savefigure\n",
    "\n",
    "# Stats helper functions\n",
    "from ministats import tailvalues\n",
    "from ministats import tailprobs"
   ]
  },
  {
   "cell_type": "code",
   "execution_count": 3,
   "id": "3209c5be-cb6a-42c0-8bf8-949a4fc0ff39",
   "metadata": {},
   "outputs": [
    {
     "data": {
      "text/plain": [
       "<Figure size 640x480 with 0 Axes>"
      ]
     },
     "metadata": {},
     "output_type": "display_data"
    }
   ],
   "source": [
    "# Figures setup\n",
    "plt.clf()  # needed otherwise `sns.set_theme` doesn't work\n",
    "from plot_helpers import RCPARAMS\n",
    "# RCPARAMS.update({'figure.figsize': (10, 3)})   # good for screen\n",
    "RCPARAMS.update({'figure.figsize': (5, 1.6)})  # good for print\n",
    "sns.set_theme(\n",
    "    context=\"paper\",\n",
    "    style=\"whitegrid\",\n",
    "    palette=\"colorblind\",\n",
    "    rc=RCPARAMS,\n",
    ")\n",
    "\n",
    "# Useful colors\n",
    "snspal = sns.color_palette()\n",
    "blue, orange, purple = snspal[0], snspal[1], snspal[4]\n",
    "# red = sns.color_palette(\"tab10\")[3]\n",
    "\n",
    "# High-resolution please\n",
    "%config InlineBackend.figure_format = 'retina'\n",
    "\n",
    "# Where to store figures\n",
    "DESTDIR = \"figures/stats/two_sample_tests\""
   ]
  },
  {
   "cell_type": "code",
   "execution_count": 4,
   "id": "df22d8d7-6814-4c3b-a3d3-2f31ab6b2f3b",
   "metadata": {},
   "outputs": [],
   "source": [
    "# simple float __repr__\n",
    "np.set_printoptions(legacy='1.25')\n",
    "\n",
    "# set random seed for repeatability\n",
    "np.random.seed(42)"
   ]
  },
  {
   "cell_type": "markdown",
   "id": "94d9cb52-34ec-416a-a883-850cf725f8a6",
   "metadata": {},
   "source": [
    "$\\def\\stderr#1{\\mathbf{se}_{#1}}$\n",
    "$\\def\\stderrhat#1{\\hat{\\mathbf{se}}_{#1}}$\n",
    "$\\newcommand{\\Mean}{\\textbf{Mean}}$\n",
    "$\\newcommand{\\Var}{\\textbf{Var}}$\n",
    "$\\newcommand{\\Std}{\\textbf{Std}}$\n",
    "$\\newcommand{\\Freq}{\\textbf{Freq}}$\n",
    "$\\newcommand{\\RelFreq}{\\textbf{RelFreq}}$\n",
    "$\\newcommand{\\DMeans}{\\textbf{DMeans}}$\n",
    "$\\newcommand{\\Prop}{\\textbf{Prop}}$\n",
    "$\\newcommand{\\DProps}{\\textbf{DProps}}$\n",
    "\n",
    "$$\n",
    "\\newcommand{\\CI}[1]{\\textbf{CI}_{#1}}\n",
    "\\newcommand{\\CIL}[1]{\\textbf{L}_{#1}}\n",
    "\\newcommand{\\CIU}[1]{\\textbf{U}_{#1}}\n",
    "\\newcommand{\\ci}[1]{\\textbf{ci}_{#1}}\n",
    "\\newcommand{\\cil}[1]{\\textbf{l}_{#1}}\n",
    "\\newcommand{\\ciu}[1]{\\textbf{u}_{#1}}\n",
    "$$\n",
    "\n",
    "\n",
    "(this cell contains the macro definitions like $\\stderr{\\overline{\\mathbf{x}}}$, $\\stderrhat{}$, $\\Mean$, ...)"
   ]
  },
  {
   "cell_type": "markdown",
   "id": "a4359b21-fcb5-41ac-b46b-b8dcc9abe182",
   "metadata": {},
   "source": [
    "## Definitions\n",
    "\n",
    "\n",
    "- **Populations**.\n",
    "    We'll label the two unknown populations $X$ and $Y$.\n",
    "    and assume the arbitrary model family $\\mathcal{M}$ with mean parameter\n",
    "    $X \\sim \\mathcal{M}(\\mu_X)$ and $Y \\sim \\mathcal{M}(\\mu_Y)$.\n",
    "\n",
    "- **Parameters**.\n",
    "    The means of the two populations $\\mu_X$ and $\\mu_Y$ are unknown,\n",
    "    and what we want to study...\n",
    "\n",
    "- **Samples**.\n",
    "    We assume the two samples $\\mathbf{x} = (x_1, x_2, \\ldots, x_n)$\n",
    "    and $\\mathbf{y} = (y_1, y_2, \\ldots, y_m)$\n",
    "    are randomly selected from the populations $X$ and $Y$.\n",
    "\n",
    "- **Estimate** (statistic) $\\hat{d} = \\overline{\\mathbf{x}} - \\overline{\\mathbf{y}}$:\n",
    "    the difference between means of the two samples $\\mathbf{x}$ and $\\mathbf{y}$.\n",
    "\n",
    "- **Estimator** $\\DMeans$:\n",
    "    the function  that computes the difference between means from two samples,\n",
    "    $\\hat{d} = \\DMeans(\\mathbf{x},\\mathbf{y}) =  \\overline{\\mathbf{x}} - \\overline{\\mathbf{y}}$.\n",
    "    the function we use to compute the estimate $\\hat{d}$.\n",
    "\n",
    "- **Sampling distribution** $\\hat{D} = \\DMeans(\\mathbf{X}, \\mathbf{Y})$:\n",
    "    the difference between means computed from two random samples $\\mathbf{X}$ and $\\mathbf{Y}$.\n",
    "\n"
   ]
  },
  {
   "cell_type": "code",
   "execution_count": 5,
   "id": "0f1c44a2-3ad6-41ca-8917-729f8841b9ca",
   "metadata": {},
   "outputs": [],
   "source": [
    "def mean(sample):\n",
    "    return sum(sample) / len(sample)\n",
    "\n",
    "def var(sample):\n",
    "    xbar = mean(sample)\n",
    "    sumsqdevs = sum([(xi-xbar)**2 for xi in sample])\n",
    "    return sumsqdevs / (len(sample)-1)\n",
    "\n",
    "def std(sample):\n",
    "    s2 = var(sample)\n",
    "    return np.sqrt(s2)\n",
    "\n",
    "def dmeans(xsample, ysample):\n",
    "    dhat = mean(xsample) - mean(ysample)\n",
    "    return dhat"
   ]
  },
  {
   "cell_type": "markdown",
   "id": "fc84bc99-c424-4a45-8ecb-2b8955c39bce",
   "metadata": {},
   "source": [
    "## Comparing two groups\n",
    "\n",
    "Description of the problem: compare two group based on sample means computed from each group."
   ]
  },
  {
   "cell_type": "markdown",
   "id": "a712bdf4-9715-4057-8f43-b6d9833db313",
   "metadata": {},
   "source": [
    "### Computing $p$-values"
   ]
  },
  {
   "cell_type": "code",
   "execution_count": 6,
   "id": "4aa0d4a5-dcfb-41ca-920a-74ab7b249576",
   "metadata": {},
   "outputs": [
    {
     "name": "stdout",
     "output_type": "stream",
     "text": [
      "Saved figure to figures/stats/two_sample_tests/panel_D0_hist_and_dist_twosided_pvalues.pdf\n",
      "Saved figure to figures/stats/two_sample_tests/panel_D0_hist_and_dist_twosided_pvalues.png\n"
     ]
    },
    {
     "data": {
      "image/png": "[encoded data removed]",
      "text/plain": [
       "<Figure size 700x200 with 2 Axes>"
      ]
     },
     "metadata": {
      "image/png": {
       "height": 187,
       "width": 689
      }
     },
     "output_type": "display_data"
    }
   ],
   "source": [
    "filename = os.path.join(DESTDIR, \"panel_D0_hist_and_dist_twosided_pvalues.pdf\")\n",
    "\n",
    "from scipy.stats import t as tdist\n",
    "rvT = tdist(df=9)\n",
    "\n",
    "xs = np.linspace(-4, 4, 1000)\n",
    "ys = rvT.pdf(xs)\n",
    "\n",
    "N = 100000\n",
    "np.random.seed(42)\n",
    "ts = rvT.rvs(N)\n",
    "\n",
    "bins = nicebins(xs, 2, nbins=50)\n",
    "\n",
    "\n",
    "with plt.rc_context({\"figure.figsize\":(7,2)}), sns.axes_style(\"ticks\"):\n",
    "    fig, (ax1, ax2) = plt.subplots(1,2)\n",
    "\n",
    "    # D0 hist\n",
    "    sns.histplot(ts, ax=ax1, bins=bins, alpha=0.3)\n",
    "    ax1.set_title(\"(a) permutation test\")\n",
    "    ax1.set_xlim(-4, 4)\n",
    "    ax1.set_xticks([2])\n",
    "    ax1.set_xticklabels([])\n",
    "    ax1.set_yticks([])\n",
    "    ax1.set_ylabel(r\"$f_{\\widehat{D}_0}$\")\n",
    "    # highlight the left and right tails\n",
    "    tailvaluesl = [t for t in ts if t <= -2]\n",
    "    sns.histplot(tailvaluesl, bins=bins, ax=ax1, color=\"red\")\n",
    "    ax1.text(-2.3, -630, r\"$-|\\hat{d}|$\", verticalalignment=\"top\", horizontalalignment=\"center\")\n",
    "    tailvaluesr = [t for t in ts if t >= 2]\n",
    "    sns.histplot(tailvaluesr, bins=bins, ax=ax1, color=\"red\")\n",
    "    ax1.text(2, -630, r\"$|\\hat{d}|$\", verticalalignment=\"top\", horizontalalignment=\"center\")\n",
    "    # ax1.axvline(2, color=\"red\")\n",
    "\n",
    "    \n",
    "    # D0 dist\n",
    "    sns.lineplot(x=xs, y=ys, ax=ax2)\n",
    "    ax2.set_title(\"(b) analytical apprixmation\")\n",
    "    ax2.set_xlim(-4, 4)\n",
    "    ax2.set_ylim(0, 0.42)\n",
    "    ax2.set_xticks([-2,2])\n",
    "    ax2.set_xticklabels([])\n",
    "    ax2.set_yticks([])\n",
    "    ax2.set_ylabel(r\"$f_{\\widehat{D}_0}$\")\n",
    "    # highlight the left and right tails\n",
    "    mask = (xs < -2)\n",
    "    ax2.fill_between(xs[mask], y1=ys[mask], alpha=0.6, facecolor=\"red\")\n",
    "    ax2.text(-2, -0.03, r\"$-|\\hat{d}|$\", verticalalignment=\"top\", horizontalalignment=\"center\")\n",
    "    mask = (xs > 2)\n",
    "    ax2.fill_between(xs[mask], y1=ys[mask], alpha=0.6, facecolor=\"red\")\n",
    "    ax2.text(2, -0.03, r\"$|\\hat{d}|$\", verticalalignment=\"top\", horizontalalignment=\"center\")\n",
    "\n",
    "savefigure(fig, filename, tight_layout_kwargs={\"w_pad\":5})"
   ]
  },
  {
   "cell_type": "markdown",
   "id": "54af362f-7b70-4ada-ad82-8930073b4d87",
   "metadata": {},
   "source": [
    "## Permutation test for comparing two populations\n",
    "\n",
    "The **permutations test** is a computational approach for comparing two group.\n",
    "The permutation test takes it's name from the action of mixing up the group-membership labels\n",
    "and computing a statistic which is a way to generate samples from the null hypothesis\n",
    "in situations where the null hypothesis states there is no difference between two groups."
   ]
  },
  {
   "cell_type": "markdown",
   "id": "f6aaf7c0-c851-4d0e-b997-6d1d11f95a36",
   "metadata": {},
   "source": [
    "#### Permutations"
   ]
  },
  {
   "cell_type": "code",
   "execution_count": 7,
   "id": "3b1f3e3a-94af-4360-b03f-767537022e76",
   "metadata": {},
   "outputs": [
    {
     "data": {
      "text/plain": [
       "array([4, 6, 3, 7, 2, 1, 5])"
      ]
     },
     "execution_count": 7,
     "metadata": {},
     "output_type": "execute_result"
    }
   ],
   "source": [
    "np.random.seed(43)\n",
    "np.random.permutation([1,2,3,4,5,6,7])"
   ]
  },
  {
   "cell_type": "code",
   "execution_count": 8,
   "id": "c39eddc3-dc1b-4866-a6df-32fc3b20dff7",
   "metadata": {},
   "outputs": [
    {
     "data": {
      "text/plain": [
       "array([6, 3, 2, 1, 5, 7, 4])"
      ]
     },
     "execution_count": 8,
     "metadata": {},
     "output_type": "execute_result"
    }
   ],
   "source": [
    "np.random.seed(45)\n",
    "np.random.permutation([1,2,3,4,5,6,7])"
   ]
  },
  {
   "cell_type": "markdown",
   "id": "cf2cc894-31f0-4321-965a-a86e76623513",
   "metadata": {},
   "source": [
    "#### Resampling under the null hypothesis"
   ]
  },
  {
   "cell_type": "code",
   "execution_count": 9,
   "id": "7b8e359e-183a-4f98-98d7-6841aabcb49b",
   "metadata": {},
   "outputs": [],
   "source": [
    "def resample_under_H0(xsample, ysample):\n",
    "    \"\"\"\n",
    "    Generate new samples from a random permutation of\n",
    "    the values in the samples `xsample` and `xsample`.\n",
    "    \"\"\"\n",
    "    values = np.concatenate((xsample, ysample))\n",
    "    pvalues = np.random.permutation(values)\n",
    "    pxsample = pvalues[0:len(xsample)]\n",
    "    pysample = pvalues[len(xsample):]\n",
    "    return pxsample, pysample"
   ]
  },
  {
   "cell_type": "code",
   "execution_count": 10,
   "id": "35c47e1f-277b-4da4-810e-30238bf6e7c5",
   "metadata": {},
   "outputs": [
    {
     "data": {
      "text/plain": [
       "(array([4, 6, 3]), array([7, 2, 1, 5]))"
      ]
     },
     "execution_count": 10,
     "metadata": {},
     "output_type": "execute_result"
    }
   ],
   "source": [
    "# example 1\n",
    "np.random.seed(43)\n",
    "resample_under_H0([1,2,3], [4,5,6,7])"
   ]
  },
  {
   "cell_type": "code",
   "execution_count": 11,
   "id": "67d4df8c-6f7d-418f-a39c-cafd6e8fc155",
   "metadata": {},
   "outputs": [
    {
     "data": {
      "text/plain": [
       "(array([6, 3, 2]), array([1, 5, 7, 4]))"
      ]
     },
     "execution_count": 11,
     "metadata": {},
     "output_type": "execute_result"
    }
   ],
   "source": [
    "# example 2\n",
    "np.random.seed(45)\n",
    "resample_under_H0([1,2,3], [4,5,6,7])"
   ]
  },
  {
   "cell_type": "markdown",
   "id": "f6d3405b-f30f-4846-9e7c-f926476777da",
   "metadata": {},
   "source": [
    "The function `resample_under_H0` gives us a way to generate samples from the null hypothesis.\n",
    "We can then compute the value of the `dmeans` statistic for these samples. We used the assumption of \"no difference\" under the null hypothesis, and translated this to the \"forget the labels\" interpretation."
   ]
  },
  {
   "cell_type": "markdown",
   "id": "f260fc64-47a9-48c7-840e-c926e0cb965c",
   "metadata": {},
   "source": [
    "### Example 5P: electricity prices\n",
    "\n",
    "The probability model under the alternative hypothesis\n",
    "describes two populations with different parameters:\n",
    "\n",
    "$$\n",
    "   H_A: \\qquad X_W = \\mathcal{N}(\\color{blue}{\\mu_W}, \\sigma_W)\n",
    "   \\quad \\textrm{and} \\quad\n",
    "   X_{E} = \\mathcal{N}(\\color{orange}{\\mu_{E}}, \\sigma_{E})\n",
    "$$\n",
    "\n",
    "Under the null hypothesis the populations have the same mean:\n",
    "\n",
    "$$ \n",
    "   H_0: \\qquad X_W = \\mathcal{N}(\\color{red}{\\mu_0}, \\sigma_W)\n",
    "   \\quad \\textrm{and} \\quad\n",
    "   X_{E} = \\mathcal{N}(\\color{red}{\\mu_0}, \\sigma_{E})\n",
    "$$\n",
    "\n",
    "\n",
    "\n",
    "\n",
    "\n",
    "\n",
    "\n"
   ]
  },
  {
   "cell_type": "code",
   "execution_count": 12,
   "id": "bf2b9cdb-9098-412f-86d7-422dabe07668",
   "metadata": {},
   "outputs": [
    {
     "data": {
      "text/html": [
       "<div>\n",
       "<style scoped>\n",
       "    .dataframe tbody tr th:only-of-type {\n",
       "        vertical-align: middle;\n",
       "    }\n",
       "\n",
       "    .dataframe tbody tr th {\n",
       "        vertical-align: top;\n",
       "    }\n",
       "\n",
       "    .dataframe thead th {\n",
       "        text-align: right;\n",
       "    }\n",
       "</style>\n",
       "<table border=\"1\" class=\"dataframe\">\n",
       "  <thead>\n",
       "    <tr style=\"text-align: right;\">\n",
       "      <th></th>\n",
       "      <th>loc</th>\n",
       "      <th>price</th>\n",
       "    </tr>\n",
       "  </thead>\n",
       "  <tbody>\n",
       "    <tr>\n",
       "      <th>0</th>\n",
       "      <td>East</td>\n",
       "      <td>7.7</td>\n",
       "    </tr>\n",
       "    <tr>\n",
       "      <th>1</th>\n",
       "      <td>East</td>\n",
       "      <td>5.9</td>\n",
       "    </tr>\n",
       "    <tr>\n",
       "      <th>2</th>\n",
       "      <td>East</td>\n",
       "      <td>7.0</td>\n",
       "    </tr>\n",
       "    <tr>\n",
       "      <th>3</th>\n",
       "      <td>East</td>\n",
       "      <td>4.8</td>\n",
       "    </tr>\n",
       "    <tr>\n",
       "      <th>4</th>\n",
       "      <td>East</td>\n",
       "      <td>6.3</td>\n",
       "    </tr>\n",
       "    <tr>\n",
       "      <th>5</th>\n",
       "      <td>East</td>\n",
       "      <td>6.3</td>\n",
       "    </tr>\n",
       "    <tr>\n",
       "      <th>6</th>\n",
       "      <td>East</td>\n",
       "      <td>5.5</td>\n",
       "    </tr>\n",
       "    <tr>\n",
       "      <th>7</th>\n",
       "      <td>East</td>\n",
       "      <td>5.4</td>\n",
       "    </tr>\n",
       "    <tr>\n",
       "      <th>8</th>\n",
       "      <td>East</td>\n",
       "      <td>6.5</td>\n",
       "    </tr>\n",
       "    <tr>\n",
       "      <th>9</th>\n",
       "      <td>West</td>\n",
       "      <td>11.8</td>\n",
       "    </tr>\n",
       "    <tr>\n",
       "      <th>10</th>\n",
       "      <td>West</td>\n",
       "      <td>10.0</td>\n",
       "    </tr>\n",
       "    <tr>\n",
       "      <th>11</th>\n",
       "      <td>West</td>\n",
       "      <td>11.0</td>\n",
       "    </tr>\n",
       "    <tr>\n",
       "      <th>12</th>\n",
       "      <td>West</td>\n",
       "      <td>8.6</td>\n",
       "    </tr>\n",
       "    <tr>\n",
       "      <th>13</th>\n",
       "      <td>West</td>\n",
       "      <td>8.3</td>\n",
       "    </tr>\n",
       "    <tr>\n",
       "      <th>14</th>\n",
       "      <td>West</td>\n",
       "      <td>9.4</td>\n",
       "    </tr>\n",
       "    <tr>\n",
       "      <th>15</th>\n",
       "      <td>West</td>\n",
       "      <td>8.0</td>\n",
       "    </tr>\n",
       "    <tr>\n",
       "      <th>16</th>\n",
       "      <td>West</td>\n",
       "      <td>6.8</td>\n",
       "    </tr>\n",
       "    <tr>\n",
       "      <th>17</th>\n",
       "      <td>West</td>\n",
       "      <td>8.5</td>\n",
       "    </tr>\n",
       "  </tbody>\n",
       "</table>\n",
       "</div>"
      ],
      "text/plain": [
       "     loc  price\n",
       "0   East    7.7\n",
       "1   East    5.9\n",
       "2   East    7.0\n",
       "3   East    4.8\n",
       "4   East    6.3\n",
       "5   East    6.3\n",
       "6   East    5.5\n",
       "7   East    5.4\n",
       "8   East    6.5\n",
       "9   West   11.8\n",
       "10  West   10.0\n",
       "11  West   11.0\n",
       "12  West    8.6\n",
       "13  West    8.3\n",
       "14  West    9.4\n",
       "15  West    8.0\n",
       "16  West    6.8\n",
       "17  West    8.5"
      ]
     },
     "execution_count": 12,
     "metadata": {},
     "output_type": "execute_result"
    }
   ],
   "source": [
    "eprices = pd.read_csv(\"../datasets/eprices.csv\")\n",
    "eprices"
   ]
  },
  {
   "cell_type": "code",
   "execution_count": 13,
   "id": "3c3de314-7dd5-4459-a51f-5ccf0afbdd72",
   "metadata": {},
   "outputs": [
    {
     "data": {
      "text/html": [
       "<div>\n",
       "<style scoped>\n",
       "    .dataframe tbody tr th:only-of-type {\n",
       "        vertical-align: middle;\n",
       "    }\n",
       "\n",
       "    .dataframe tbody tr th {\n",
       "        vertical-align: top;\n",
       "    }\n",
       "\n",
       "    .dataframe thead th {\n",
       "        text-align: right;\n",
       "    }\n",
       "</style>\n",
       "<table border=\"1\" class=\"dataframe\">\n",
       "  <thead>\n",
       "    <tr style=\"text-align: right;\">\n",
       "      <th></th>\n",
       "      <th>count</th>\n",
       "      <th>mean</th>\n",
       "      <th>std</th>\n",
       "      <th>min</th>\n",
       "      <th>25%</th>\n",
       "      <th>50%</th>\n",
       "      <th>75%</th>\n",
       "      <th>max</th>\n",
       "    </tr>\n",
       "    <tr>\n",
       "      <th>loc</th>\n",
       "      <th></th>\n",
       "      <th></th>\n",
       "      <th></th>\n",
       "      <th></th>\n",
       "      <th></th>\n",
       "      <th></th>\n",
       "      <th></th>\n",
       "      <th></th>\n",
       "    </tr>\n",
       "  </thead>\n",
       "  <tbody>\n",
       "    <tr>\n",
       "      <th>East</th>\n",
       "      <td>9.0</td>\n",
       "      <td>6.155556</td>\n",
       "      <td>0.877655</td>\n",
       "      <td>4.8</td>\n",
       "      <td>5.5</td>\n",
       "      <td>6.3</td>\n",
       "      <td>6.5</td>\n",
       "      <td>7.7</td>\n",
       "    </tr>\n",
       "    <tr>\n",
       "      <th>West</th>\n",
       "      <td>9.0</td>\n",
       "      <td>9.155556</td>\n",
       "      <td>1.562139</td>\n",
       "      <td>6.8</td>\n",
       "      <td>8.3</td>\n",
       "      <td>8.6</td>\n",
       "      <td>10.0</td>\n",
       "      <td>11.8</td>\n",
       "    </tr>\n",
       "  </tbody>\n",
       "</table>\n",
       "</div>"
      ],
      "text/plain": [
       "      count      mean       std  min  25%  50%   75%   max\n",
       "loc                                                       \n",
       "East    9.0  6.155556  0.877655  4.8  5.5  6.3   6.5   7.7\n",
       "West    9.0  9.155556  1.562139  6.8  8.3  8.6  10.0  11.8"
      ]
     },
     "execution_count": 13,
     "metadata": {},
     "output_type": "execute_result"
    }
   ],
   "source": [
    "eprices.groupby(\"loc\")[\"price\"].describe()"
   ]
  },
  {
   "cell_type": "code",
   "execution_count": 14,
   "id": "332f8c36-7743-4900-8c86-97ee39013d5d",
   "metadata": {},
   "outputs": [
    {
     "data": {
      "text/plain": [
       "3.0000000000000018"
      ]
     },
     "execution_count": 14,
     "metadata": {},
     "output_type": "execute_result"
    }
   ],
   "source": [
    "pricesW = eprices[eprices[\"loc\"]==\"West\"][\"price\"]\n",
    "pricesE = eprices[eprices[\"loc\"]==\"East\"][\"price\"]\n",
    "\n",
    "# 1. Calculate the observed difference between means\n",
    "dprice = dmeans(pricesW, pricesE)\n",
    "dprice"
   ]
  },
  {
   "cell_type": "markdown",
   "id": "a197a4fc-f57d-4a03-95f6-2cf96ff6450a",
   "metadata": {},
   "source": [
    "Our goal is to determine how *likely* or *unlikely* the observed value $\\hat{d}=3$\n",
    "is under the null hypothesis $H_0$.\n",
    "This means we need to obtain the sampling distribution of $\\hat{D}$ under $H_0$,\n",
    "which we can do using the permutation test."
   ]
  },
  {
   "cell_type": "markdown",
   "id": "6e1c1862-6687-4890-b2ec-c38f07a4bb98",
   "metadata": {},
   "source": [
    "Let's look at some of the differences we can expect to observe under $H_0$."
   ]
  },
  {
   "cell_type": "code",
   "execution_count": 15,
   "id": "a0e42a38-46e6-434d-abc7-b9d5a3eb4ff2",
   "metadata": {},
   "outputs": [
    {
     "data": {
      "text/plain": [
       "1.6444444444444475"
      ]
     },
     "execution_count": 15,
     "metadata": {},
     "output_type": "execute_result"
    }
   ],
   "source": [
    "#######################################################\n",
    "np.random.seed(31)\n",
    "# generate new samples by shuffling the labels\n",
    "ppricesW, ppricesE = resample_under_H0(pricesW, pricesE)\n",
    "\n",
    "# Compute the difference in means for the bootstrap samples\n",
    "pdhat0 = dmeans(ppricesW, ppricesE)\n",
    "pdhat0"
   ]
  },
  {
   "cell_type": "markdown",
   "id": "3964f30a-4020-426c-858c-6103891d4ebc",
   "metadata": {},
   "source": [
    "#### Running a permutation test\n",
    "\n",
    "We can repeat the resampling procedure `10000` times to get the sampling distribution of $\\widehat{D}_0$ under $H_0$,\n",
    "as illustrated in the code procedure below."
   ]
  },
  {
   "cell_type": "code",
   "execution_count": 16,
   "id": "28c3ed49-60cc-4c5a-b3c3-134ab19aa60a",
   "metadata": {},
   "outputs": [],
   "source": [
    "np.random.seed(42)\n",
    "\n",
    "# 2. Obtain the sampling distribution under H0\n",
    "P = 10000\n",
    "pdhats0 = []\n",
    "for i in range(0, P):\n",
    "    ps1, ps2 = resample_under_H0(pricesW, pricesE)\n",
    "    pdhat0 = dmeans(ps1, ps2)\n",
    "    pdhats0.append(pdhat0)"
   ]
  },
  {
   "cell_type": "markdown",
   "id": "755d3c56-f648-4475-ad5d-d6af0b9cd0cf",
   "metadata": {},
   "source": [
    "Now that we have the sampling distribution $\\widehat{D}_0$,\n",
    "we can see where the observed value $\\hat{d}= 3$ `=dprice` falls within this distribution.\n",
    "The $p$-value is the probability of observing value `dprice=3` or more extreme under the null hypothesis."
   ]
  },
  {
   "cell_type": "code",
   "execution_count": 17,
   "id": "87c5d08e-e576-4a47-b1f8-6a24ca9325d9",
   "metadata": {},
   "outputs": [
    {
     "data": {
      "text/plain": [
       "0.0002"
      ]
     },
     "execution_count": 17,
     "metadata": {},
     "output_type": "execute_result"
    }
   ],
   "source": [
    "# 3. Compute the p-value \n",
    "tails = tailvalues(pdhats0, dprice)\n",
    "pvalue = len(tails) / len(pdhats0)\n",
    "pvalue"
   ]
  },
  {
   "cell_type": "code",
   "execution_count": 18,
   "id": "f4549e45-c709-4006-b538-2925a88ada01",
   "metadata": {},
   "outputs": [
    {
     "name": "stdout",
     "output_type": "stream",
     "text": [
      "Saved figure to figures/stats/two_sample_tests/hist_p-value_dmeans_eprices.pdf\n",
      "Saved figure to figures/stats/two_sample_tests/hist_p-value_dmeans_eprices.png\n"
     ]
    },
    {
     "data": {
      "image/png": "[encoded data removed]",
      "text/plain": [
       "<Figure size 500x160 with 1 Axes>"
      ]
     },
     "metadata": {
      "image/png": {
       "height": 150,
       "width": 489
      }
     },
     "output_type": "display_data"
    }
   ],
   "source": [
    "filename = os.path.join(DESTDIR, \"hist_p-value_dmeans_eprices.pdf\")\n",
    "\n",
    "# plot the sampling distribution in blue\n",
    "bins = nicebins(pdhats0, dprice)\n",
    "ax = sns.histplot(pdhats0, bins=bins, alpha=0.3)\n",
    "\n",
    "# plot red line for the observed statistic\n",
    "plt.axvline(dprice, color=\"red\")\n",
    "\n",
    "# plot the values that are equal or more extreme in red\n",
    "sns.histplot(tails, ax=ax, bins=bins, color=\"red\")\n",
    "ax.set_ylabel(r\"$f_{\\widehat{D}_0}$\")\n",
    "\n",
    "savefigure(ax, filename)"
   ]
  },
  {
   "cell_type": "markdown",
   "id": "878bef08-2e52-4f4a-9ba3-6f2f8a7615a2",
   "metadata": {},
   "source": [
    "#### Effect size estimates"
   ]
  },
  {
   "cell_type": "code",
   "execution_count": 19,
   "id": "df6a1a32-b0d2-41c1-8b75-56c815dcc3e1",
   "metadata": {},
   "outputs": [
    {
     "data": {
      "text/plain": [
       "3.0000000000000018"
      ]
     },
     "execution_count": 19,
     "metadata": {},
     "output_type": "execute_result"
    }
   ],
   "source": [
    "dprice = dmeans(pricesW, pricesE)\n",
    "dprice"
   ]
  },
  {
   "cell_type": "markdown",
   "id": "3fccc655-9fa9-40ad-972e-aa6314c851e0",
   "metadata": {},
   "source": [
    "The bootstrap confidence interval for the effect size \n",
    "$\\ci{\\Delta,0.9}^*$ tells us a range of plausible values for the effect size."
   ]
  },
  {
   "cell_type": "code",
   "execution_count": 20,
   "id": "34787347-0c05-4811-a719-2a3716ee602f",
   "metadata": {},
   "outputs": [
    {
     "data": {
      "text/plain": [
       "[2.0777777777777775, 3.9555555555555557]"
      ]
     },
     "execution_count": 20,
     "metadata": {},
     "output_type": "execute_result"
    }
   ],
   "source": [
    "from ministats import ci_dmeans\n",
    "\n",
    "np.random.seed(45)\n",
    "ci_dmeans(pricesW, pricesE, alpha=0.1, method=\"b\")"
   ]
  },
  {
   "cell_type": "markdown",
   "id": "5bec01be-365a-4cea-9f6c-fa36efbe0c68",
   "metadata": {},
   "source": [
    "The 90% confidence interval $\\ci{\\Delta,0.9}^* = [2.08, 3.96]$ describes an interval of numbers\n",
    "that should contain the difference between group means $\\Delta$ at least 90\\% of the time:\n",
    "\n",
    "$$\n",
    "    \\textrm{Pr}_{\\mathbf{X}}\\big(\\{ \\Delta \\in \\ci{\\Delta,0.9}^* \\}\\big) \\geq 0.9.\n",
    "$$\n"
   ]
  },
  {
   "cell_type": "markdown",
   "id": "f989751b-5b7b-460f-86a5-dd08d79a8d40",
   "metadata": {},
   "source": [
    "### Reusable function"
   ]
  },
  {
   "cell_type": "code",
   "execution_count": 21,
   "id": "8aa76ffa-8a28-445d-b3fc-7743197516f4",
   "metadata": {},
   "outputs": [],
   "source": [
    "def permutation_test_dmeans(xsample, ysample, P=10000):\n",
    "    # 1. Compute the observed difference between means\n",
    "    obsdhat = dmeans(xsample, ysample)\n",
    "\n",
    "    # 2. Get sampling dist. of `dmeans` under H0\n",
    "    pdhats0 = []\n",
    "    for i in range(0, P):\n",
    "        psx, psy = resample_under_H0(xsample, ysample)\n",
    "        pdhat0 = dmeans(psx, psy)\n",
    "        pdhats0.append(pdhat0)\n",
    "\n",
    "    # 3. Compute the p-value\n",
    "    tails = tailvalues(pdhats0, obsdhat, alt=\"two-sided\")\n",
    "    pvalue = len(tails) / len(pdhats0)\n",
    "    return pvalue"
   ]
  },
  {
   "cell_type": "code",
   "execution_count": 22,
   "id": "b2022284-7a81-4f46-864b-c3360605de92",
   "metadata": {},
   "outputs": [
    {
     "data": {
      "text/plain": [
       "0.0002"
      ]
     },
     "execution_count": 22,
     "metadata": {},
     "output_type": "execute_result"
    }
   ],
   "source": [
    "np.random.seed(42)\n",
    "\n",
    "permutation_test_dmeans(pricesW, pricesE)"
   ]
  },
  {
   "cell_type": "markdown",
   "id": "c20685a1-84e4-4698-b048-b7d8a238cdb1",
   "metadata": {},
   "source": [
    "### Example 6P: lecture and debate curriculums"
   ]
  },
  {
   "cell_type": "code",
   "execution_count": 23,
   "id": "905ef6e3-622f-4aa0-9494-e11ddc63f10c",
   "metadata": {},
   "outputs": [
    {
     "data": {
      "text/html": [
       "<div>\n",
       "<style scoped>\n",
       "    .dataframe tbody tr th:only-of-type {\n",
       "        vertical-align: middle;\n",
       "    }\n",
       "\n",
       "    .dataframe tbody tr th {\n",
       "        vertical-align: top;\n",
       "    }\n",
       "\n",
       "    .dataframe thead th {\n",
       "        text-align: right;\n",
       "    }\n",
       "</style>\n",
       "<table border=\"1\" class=\"dataframe\">\n",
       "  <thead>\n",
       "    <tr style=\"text-align: right;\">\n",
       "      <th></th>\n",
       "      <th>student_ID</th>\n",
       "      <th>background</th>\n",
       "      <th>curriculum</th>\n",
       "      <th>effort</th>\n",
       "      <th>score</th>\n",
       "    </tr>\n",
       "  </thead>\n",
       "  <tbody>\n",
       "    <tr>\n",
       "      <th>0</th>\n",
       "      <td>1</td>\n",
       "      <td>arts</td>\n",
       "      <td>debate</td>\n",
       "      <td>10.96</td>\n",
       "      <td>75.0</td>\n",
       "    </tr>\n",
       "    <tr>\n",
       "      <th>1</th>\n",
       "      <td>2</td>\n",
       "      <td>science</td>\n",
       "      <td>lecture</td>\n",
       "      <td>8.69</td>\n",
       "      <td>75.0</td>\n",
       "    </tr>\n",
       "    <tr>\n",
       "      <th>2</th>\n",
       "      <td>3</td>\n",
       "      <td>arts</td>\n",
       "      <td>debate</td>\n",
       "      <td>8.60</td>\n",
       "      <td>67.0</td>\n",
       "    </tr>\n",
       "    <tr>\n",
       "      <th>3</th>\n",
       "      <td>4</td>\n",
       "      <td>arts</td>\n",
       "      <td>lecture</td>\n",
       "      <td>7.92</td>\n",
       "      <td>70.3</td>\n",
       "    </tr>\n",
       "    <tr>\n",
       "      <th>4</th>\n",
       "      <td>5</td>\n",
       "      <td>science</td>\n",
       "      <td>debate</td>\n",
       "      <td>9.90</td>\n",
       "      <td>76.1</td>\n",
       "    </tr>\n",
       "    <tr>\n",
       "      <th>5</th>\n",
       "      <td>6</td>\n",
       "      <td>business</td>\n",
       "      <td>debate</td>\n",
       "      <td>10.80</td>\n",
       "      <td>79.8</td>\n",
       "    </tr>\n",
       "    <tr>\n",
       "      <th>6</th>\n",
       "      <td>7</td>\n",
       "      <td>science</td>\n",
       "      <td>lecture</td>\n",
       "      <td>7.81</td>\n",
       "      <td>72.7</td>\n",
       "    </tr>\n",
       "    <tr>\n",
       "      <th>7</th>\n",
       "      <td>8</td>\n",
       "      <td>business</td>\n",
       "      <td>lecture</td>\n",
       "      <td>9.13</td>\n",
       "      <td>75.4</td>\n",
       "    </tr>\n",
       "    <tr>\n",
       "      <th>8</th>\n",
       "      <td>9</td>\n",
       "      <td>business</td>\n",
       "      <td>lecture</td>\n",
       "      <td>5.21</td>\n",
       "      <td>57.0</td>\n",
       "    </tr>\n",
       "    <tr>\n",
       "      <th>9</th>\n",
       "      <td>10</td>\n",
       "      <td>science</td>\n",
       "      <td>lecture</td>\n",
       "      <td>7.71</td>\n",
       "      <td>69.0</td>\n",
       "    </tr>\n",
       "    <tr>\n",
       "      <th>10</th>\n",
       "      <td>11</td>\n",
       "      <td>business</td>\n",
       "      <td>debate</td>\n",
       "      <td>9.82</td>\n",
       "      <td>70.4</td>\n",
       "    </tr>\n",
       "    <tr>\n",
       "      <th>11</th>\n",
       "      <td>12</td>\n",
       "      <td>arts</td>\n",
       "      <td>debate</td>\n",
       "      <td>11.53</td>\n",
       "      <td>96.2</td>\n",
       "    </tr>\n",
       "    <tr>\n",
       "      <th>12</th>\n",
       "      <td>13</td>\n",
       "      <td>science</td>\n",
       "      <td>debate</td>\n",
       "      <td>7.10</td>\n",
       "      <td>62.9</td>\n",
       "    </tr>\n",
       "    <tr>\n",
       "      <th>13</th>\n",
       "      <td>14</td>\n",
       "      <td>science</td>\n",
       "      <td>lecture</td>\n",
       "      <td>6.39</td>\n",
       "      <td>57.6</td>\n",
       "    </tr>\n",
       "    <tr>\n",
       "      <th>14</th>\n",
       "      <td>15</td>\n",
       "      <td>arts</td>\n",
       "      <td>debate</td>\n",
       "      <td>12.00</td>\n",
       "      <td>84.3</td>\n",
       "    </tr>\n",
       "  </tbody>\n",
       "</table>\n",
       "</div>"
      ],
      "text/plain": [
       "    student_ID background curriculum  effort  score\n",
       "0            1       arts     debate   10.96   75.0\n",
       "1            2    science    lecture    8.69   75.0\n",
       "2            3       arts     debate    8.60   67.0\n",
       "3            4       arts    lecture    7.92   70.3\n",
       "4            5    science     debate    9.90   76.1\n",
       "5            6   business     debate   10.80   79.8\n",
       "6            7    science    lecture    7.81   72.7\n",
       "7            8   business    lecture    9.13   75.4\n",
       "8            9   business    lecture    5.21   57.0\n",
       "9           10    science    lecture    7.71   69.0\n",
       "10          11   business     debate    9.82   70.4\n",
       "11          12       arts     debate   11.53   96.2\n",
       "12          13    science     debate    7.10   62.9\n",
       "13          14    science    lecture    6.39   57.6\n",
       "14          15       arts     debate   12.00   84.3"
      ]
     },
     "execution_count": 23,
     "metadata": {},
     "output_type": "execute_result"
    }
   ],
   "source": [
    "students = pd.read_csv(\"../datasets/students.csv\")\n",
    "students"
   ]
  },
  {
   "cell_type": "code",
   "execution_count": 24,
   "id": "2a0e1148-64f9-4593-b0b8-11b9fb4cd16f",
   "metadata": {},
   "outputs": [
    {
     "data": {
      "text/html": [
       "<div>\n",
       "<style scoped>\n",
       "    .dataframe tbody tr th:only-of-type {\n",
       "        vertical-align: middle;\n",
       "    }\n",
       "\n",
       "    .dataframe tbody tr th {\n",
       "        vertical-align: top;\n",
       "    }\n",
       "\n",
       "    .dataframe thead th {\n",
       "        text-align: right;\n",
       "    }\n",
       "</style>\n",
       "<table border=\"1\" class=\"dataframe\">\n",
       "  <thead>\n",
       "    <tr style=\"text-align: right;\">\n",
       "      <th></th>\n",
       "      <th>count</th>\n",
       "      <th>mean</th>\n",
       "      <th>std</th>\n",
       "      <th>min</th>\n",
       "      <th>25%</th>\n",
       "      <th>50%</th>\n",
       "      <th>75%</th>\n",
       "      <th>max</th>\n",
       "    </tr>\n",
       "    <tr>\n",
       "      <th>curriculum</th>\n",
       "      <th></th>\n",
       "      <th></th>\n",
       "      <th></th>\n",
       "      <th></th>\n",
       "      <th></th>\n",
       "      <th></th>\n",
       "      <th></th>\n",
       "      <th></th>\n",
       "    </tr>\n",
       "  </thead>\n",
       "  <tbody>\n",
       "    <tr>\n",
       "      <th>debate</th>\n",
       "      <td>8.0</td>\n",
       "      <td>76.462500</td>\n",
       "      <td>10.519633</td>\n",
       "      <td>62.9</td>\n",
       "      <td>69.55</td>\n",
       "      <td>75.55</td>\n",
       "      <td>80.925</td>\n",
       "      <td>96.2</td>\n",
       "    </tr>\n",
       "    <tr>\n",
       "      <th>lecture</th>\n",
       "      <td>7.0</td>\n",
       "      <td>68.142857</td>\n",
       "      <td>7.758406</td>\n",
       "      <td>57.0</td>\n",
       "      <td>63.30</td>\n",
       "      <td>70.30</td>\n",
       "      <td>73.850</td>\n",
       "      <td>75.4</td>\n",
       "    </tr>\n",
       "  </tbody>\n",
       "</table>\n",
       "</div>"
      ],
      "text/plain": [
       "            count       mean        std   min    25%    50%     75%   max\n",
       "curriculum                                                               \n",
       "debate        8.0  76.462500  10.519633  62.9  69.55  75.55  80.925  96.2\n",
       "lecture       7.0  68.142857   7.758406  57.0  63.30  70.30  73.850  75.4"
      ]
     },
     "execution_count": 24,
     "metadata": {},
     "output_type": "execute_result"
    }
   ],
   "source": [
    "students.groupby(\"curriculum\")[\"score\"].describe()"
   ]
  },
  {
   "cell_type": "code",
   "execution_count": 25,
   "id": "c5653c23-590b-4416-b3fe-0034401ad34a",
   "metadata": {},
   "outputs": [
    {
     "data": {
      "text/plain": [
       "8.319642857142867"
      ]
     },
     "execution_count": 25,
     "metadata": {},
     "output_type": "execute_result"
    }
   ],
   "source": [
    "studentsD = students[students[\"curriculum\"]==\"debate\"]\n",
    "studentsL = students[students[\"curriculum\"]==\"lecture\"]\n",
    "scoresD = studentsD[\"score\"]\n",
    "scoresL = studentsL[\"score\"]\n",
    "\n",
    "# observed difference between score means\n",
    "dscore = dmeans(scoresD, scoresL)\n",
    "dscore"
   ]
  },
  {
   "cell_type": "markdown",
   "id": "0cdce2ae-ede5-4141-82c8-da8525d8ebf7",
   "metadata": {},
   "source": [
    "Our goal is to determine how *likely* or *unlikely* this observed value $\\hat{d}_s=8.32$ is under the null hypothesis $H_0$. This means we need to obtain the sampling distribution of $\\hat{D}_0$ under $H_0$, which we can do using the permutation test."
   ]
  },
  {
   "cell_type": "code",
   "execution_count": 26,
   "id": "c2323d19-eb1f-4b49-8036-b8a628f6da2a",
   "metadata": {},
   "outputs": [
    {
     "data": {
      "text/plain": [
       "0.1115"
      ]
     },
     "execution_count": 26,
     "metadata": {},
     "output_type": "execute_result"
    }
   ],
   "source": [
    "np.random.seed(43)\n",
    "pvalue = permutation_test_dmeans(scoresD, scoresL)\n",
    "pvalue"
   ]
  },
  {
   "cell_type": "code",
   "execution_count": 27,
   "id": "72914186-cbc3-43e7-8624-148b3ced6eb8",
   "metadata": {},
   "outputs": [
    {
     "name": "stdout",
     "output_type": "stream",
     "text": [
      "Saved figure to figures/stats/two_sample_tests/hist_p-value_dmeans_students.pdf\n",
      "Saved figure to figures/stats/two_sample_tests/hist_p-value_dmeans_students.png\n"
     ]
    },
    {
     "data": {
      "image/png": "[encoded data removed]",
      "text/plain": [
       "<Figure size 500x160 with 1 Axes>"
      ]
     },
     "metadata": {
      "image/png": {
       "height": 150,
       "width": 489
      }
     },
     "output_type": "display_data"
    }
   ],
   "source": [
    "# FIGURES ONLY\n",
    "filename = os.path.join(DESTDIR, \"hist_p-value_dmeans_students.pdf\")\n",
    "\n",
    "# generate sampling distribution under H0\n",
    "np.random.seed(43)\n",
    "pdhats = []\n",
    "P = 10000\n",
    "for i in range(0, P):\n",
    "    rs1, rs2 = resample_under_H0(scoresD, scoresL)\n",
    "    pdhat = dmeans(rs1, rs2)\n",
    "    pdhats.append(pdhat)\n",
    "    \n",
    "# plot the sampling distribution in blue\n",
    "bins = nicebins(pdhats, dscore)\n",
    "ax = sns.histplot(pdhats, bins=bins, alpha=0.3)\n",
    "\n",
    "# plot red line for the observed statistic\n",
    "plt.axvline(dscore, color=\"red\")\n",
    "\n",
    "# plot the values that are equal or more extreme in red\n",
    "tails = tailvalues(pdhats, dscore)\n",
    "# print( len(tails) / len(pdhats) )\n",
    "sns.histplot(tails, bins=bins, ax=ax, color=\"red\")\n",
    "ax.set_ylabel(r\"$f_{\\widehat{D}_0}$\")\n",
    "\n",
    "savefigure(ax, filename)"
   ]
  },
  {
   "cell_type": "markdown",
   "id": "772d0bfc-b2a8-49ff-b029-9fc7b24cb950",
   "metadata": {},
   "source": [
    "## Analytical approximation methods"
   ]
  },
  {
   "cell_type": "markdown",
   "id": "933330d3-8480-49f0-8e59-171ad1fb1945",
   "metadata": {},
   "source": [
    "We'll now look at another approach for computing the sampling distribution of the difference between means estimator, using an analytical approximations based on Student's $t$-distribution.\n",
    "This is called the \"two-sample $t$-test\" and it is procedure most commonly taught approach in STATS 101 courses.\n",
    "\n",
    "How likely or unlikely is the observed difference $d=3$ under the null hypothesis $H_0$?\n",
    "\n",
    "- Analytical approximations are math models for describing the sampling distribution under $H_0$\n",
    "\n",
    "  - Real sampling distributions: obtained by repeated sampling from $H_0$  \n",
    "  - Analytical approximation: math model based on estimated parameters\n",
    "\n",
    "\n",
    "- Based on this assumption we can use the theoretical model for the difference between group means\n",
    "  (we assumed the two unknown populations are normally distributed),\n",
    "  we can obtain a **closed form expression** for the sampling distribution of $D_0$.\n",
    "\n",
    "\n",
    "- In particular, the probability model for the two groups under $H_0$ are:\n",
    "  \n",
    "  $$ \n",
    "       H_0: \\qquad X = \\mathcal{N}({\\color{red}{\\mu_0}}, \\sigma_X)\n",
    "       \\quad \\textrm{and} \\quad\n",
    "       Y = \\mathcal{N}({\\color{red}{\\mu_0}}, \\sigma_Y), \\quad\n",
    "  $$\n",
    "  \n",
    "  from which we can derive the model for $D = \\overline{\\mathbf{X}} - \\overline{\\mathbf{Y}}$:\n",
    "  \n",
    "  $$ \n",
    "     D_0  \\sim \\mathcal{N}\\!\\left( {\\color{red}{0}}, \\;  \\stderr{\\hat{d}} \\right)\n",
    "  $$\n",
    "  In words, the sampling distribution of the difference between group means is\n",
    "  normally distributed with mean $\\Delta = 0$ and standard deviation $\\stderrhat{\\hat{d}}$,\n",
    "  described by the formula:\n",
    "  \n",
    "  $$\n",
    "\t\\stderr{\\hat{d}}\n",
    "\t\t% \\; = \\; \\sqrt{  \\stderr{\\overline{\\mathbf{x}}}^2 + \\stderr{\\overline{\\mathbf{y}}}^2 }\n",
    "    \t   = \\sqrt{ \\tfrac{\\sigma_X^2}{n} + \\tfrac{\\sigma_Y^2}{m} }\\;.\n",
    "  $$\n",
    "  The standard error of the difference between means\n",
    "  depends on the variance of the two groups $\\sigma_X^2$ and $\\sigma_Y^2$.\n",
    "  Recall we've seen this expression earlier in Section 3.1 and Section 3.2 as well."
   ]
  },
  {
   "cell_type": "markdown",
   "id": "913fdf62-2444-423e-9640-a26b71b28c61",
   "metadata": {},
   "source": [
    "- **Problem 1:** the population variances $\\sigma_X^2$ and $\\sigma_Y^2$ are unknown,\n",
    "  and we only have the estimated variances $s_{\\mathbf{x}}$ and $s_{\\mathbf{y}}$,\n",
    "  which we calculated from the samples $\\mathbf{x}$ and $\\mathbf{y}$.\n",
    "\n",
    "- **Solution 1:** use **plug in estimate** and \n",
    "  We can obtain an approximation to the standard error of the difference between means estimator\n",
    "  using the plug-in principle,\n",
    "  which states we can use search-and-replace the population parameters\n",
    "  $\\sigma_X^2$ and $\\sigma_Y^2$ with the estimates $s_{\\mathbf{x}}$ and $s_{\\mathbf{y}}$:\n",
    "  \n",
    "  $$\n",
    "\t\\stderrhat{\\hat{d}}\n",
    "\t\t% \\; = \\; \\sqrt{  \\stderrhat{\\overline{\\mathbf{x}}}^2 + \\stderrhat{\\overline{\\mathbf{y}}}^2 }\n",
    "    \t   = \\sqrt{ \\tfrac{s_{\\mathbf{x}}^2}{n} + \\tfrac{s_{\\mathbf{y}}^2}{m} }\\;.\n",
    "  $$\n",
    "\n",
    "\n",
    "- **Problem 2:** the estimated standard error $\\stderrhat{\\hat{d}}$\n",
    "  tends to underestimate the true standard error $\\stderr{\\hat{d}}$,\n",
    "  so when we use the basic normal model\n",
    "  $\\mathcal{N}\\!\\left(\\tt{loc}=0, \\tt{scale}=\\stderrhat{\\hat{d}} \\right)$\n",
    "  the approximation is off (not enough weight in the tails).\n",
    "\n",
    "- **Solution 2:** use **Student's $t$-distribution**.\n",
    "  We can define a new model for the $D_0 = \\overline{\\mathbf{X}} - \\overline{\\mathbf{Y}}$\n",
    "  based on Student's $t$-distribution:\n",
    "  $$ \n",
    "     D_0  \\sim \\mathcal{T}\\!\\left(\\tt{df}=\\nu_d, \\; \\tt{loc}={\\color{red}{0}}, \\;  \\tt{scale}=\\stderrhat{\\hat{d}} \\right)\n",
    "  $$\n",
    "  In words, the sampling distribution of the difference between group means\n",
    "  can be modeled as Student's $t$-distribution with $\\nu_d$ degrees of freedom,\n",
    "  centered at $0$, with scale parameter $\\stderrhat{\\hat{d}}$.\n",
    "\n",
    "- The **degrees of freedom** parameter, denoted $\\nu_d$ (Greek letter *nu*) in equations (`df` in code)\n",
    "  determines the \"weight\" in the tails of the distribution.\n",
    "  It is computed by a complicated formula that depends on the sample sizes $n$ and $m$,\n",
    "  and the sample standard deviations $s_{\\mathbf{x}}$ and $s_{\\mathbf{y}}$."
   ]
  },
  {
   "cell_type": "code",
   "execution_count": 28,
   "id": "c43d74a6-044a-4dd8-9bce-1c2475b65a07",
   "metadata": {},
   "outputs": [
    {
     "name": "stdout",
     "output_type": "stream",
     "text": [
      "Saved figure to figures/stats/two_sample_tests/panel_D0_and_T0_twosided_pvalues.pdf\n",
      "Saved figure to figures/stats/two_sample_tests/panel_D0_and_T0_twosided_pvalues.png\n"
     ]
    },
    {
     "data": {
      "image/png": "[encoded data removed]",
      "text/plain": [
       "<Figure size 700x200 with 2 Axes>"
      ]
     },
     "metadata": {
      "image/png": {
       "height": 189,
       "width": 689
      }
     },
     "output_type": "display_data"
    }
   ],
   "source": [
    "filename = os.path.join(DESTDIR, \"panel_D0_and_T0_twosided_pvalues.pdf\")\n",
    "\n",
    "from scipy.stats import t as tdist\n",
    "rvT = tdist(df=9)\n",
    "xs = np.linspace(-4, 4, 1000)\n",
    "ys = rvT.pdf(xs)\n",
    "\n",
    "with plt.rc_context({\"figure.figsize\":(7,2)}), sns.axes_style(\"ticks\"):\n",
    "    fig, (ax1, ax2) = plt.subplots(1,2)\n",
    "\n",
    "    # D0\n",
    "    sns.lineplot(x=xs, y=ys, ax=ax1)\n",
    "    ax1.set_xlim(-4, 4)\n",
    "    ax1.set_ylim(0, 0.42)\n",
    "    ax1.set_xticks([2])\n",
    "    ax1.set_xticklabels([])\n",
    "    ax1.set_yticks([])\n",
    "    ax1.set_ylabel(r\"$f_{\\widehat{D}_0}$\")\n",
    "    # highlight the left and right tails\n",
    "    mask = (xs < -2)\n",
    "    ax1.fill_between(xs[mask], y1=ys[mask], alpha=0.6, facecolor=\"red\")\n",
    "    ax1.text(-2, -0.03, r\"$-|\\hat{d}|$\", verticalalignment=\"top\", horizontalalignment=\"center\")\n",
    "    mask = (xs > 2)\n",
    "    ax1.fill_between(xs[mask], y1=ys[mask], alpha=0.6, facecolor=\"red\")\n",
    "    ax1.text(2, -0.03, r\"$|\\hat{d}|$\", verticalalignment=\"top\", horizontalalignment=\"center\")\n",
    "\n",
    "    # T0\n",
    "    sns.lineplot(x=xs, y=ys, ax=ax2)\n",
    "    ax2.set_xlim(-4, 4)\n",
    "    ax2.set_ylim(0, 0.42)\n",
    "    ax2.set_xticks([-2,2])\n",
    "    ax2.set_xticklabels([])\n",
    "    ax2.set_yticks([])\n",
    "    ax2.set_ylabel(\"$f_{T_0}$\")\n",
    "    # highlight the left and right tails\n",
    "    mask = (xs < -2)\n",
    "    ax2.fill_between(xs[mask], y1=ys[mask], alpha=0.6, facecolor=\"red\")\n",
    "    ax2.text(-2, -0.03, r\"$-|t|$\", verticalalignment=\"top\", horizontalalignment=\"center\")\n",
    "    mask = (xs > 2)\n",
    "    ax2.fill_between(xs[mask], y1=ys[mask], alpha=0.6, facecolor=\"red\")\n",
    "    ax2.text(2, -0.03, r\"$|t|$\", verticalalignment=\"top\", horizontalalignment=\"center\")\n",
    "\n",
    "savefigure(fig, filename, tight_layout_kwargs={\"w_pad\":5})"
   ]
  },
  {
   "cell_type": "markdown",
   "id": "8b377e4c-8e70-4816-aa24-9ed3fa813078",
   "metadata": {},
   "source": [
    "### Example 5T: comparing East and West electricity prices"
   ]
  },
  {
   "cell_type": "code",
   "execution_count": 29,
   "id": "bdd63e3e-be90-40e9-8d5e-78deb342174c",
   "metadata": {},
   "outputs": [
    {
     "data": {
      "text/plain": [
       "3.0000000000000018"
      ]
     },
     "execution_count": 29,
     "metadata": {},
     "output_type": "execute_result"
    }
   ],
   "source": [
    "eprices = pd.read_csv(\"../datasets/eprices.csv\")\n",
    "pricesW = eprices[eprices[\"loc\"]==\"West\"][\"price\"]\n",
    "pricesE = eprices[eprices[\"loc\"]==\"East\"][\"price\"]\n",
    "\n",
    "# Calculate the observed difference between means\n",
    "dprice = dmeans(pricesW, pricesE)\n",
    "dprice"
   ]
  },
  {
   "cell_type": "markdown",
   "id": "c561b05b-e173-4472-a541-bd739037a17e",
   "metadata": {
    "tags": []
   },
   "source": [
    "#### Two-sample t-test"
   ]
  },
  {
   "cell_type": "markdown",
   "id": "4347a5fc-3757-470f-972f-97b8382667c9",
   "metadata": {
    "tags": []
   },
   "source": [
    "We'll now show the data, probability modeling, and calculation steps \n",
    "of the \"two-sample $t$-test for comparing group means.\n",
    "The two-sample [$t$-test](https://statkat.com/stattest.php?&t=9)\n",
    "is also known as Welch's t-test.\n",
    "\n",
    "<!-- which allows the variances in the two groups to be different. \n",
    "We'll talk about the $t$-test with pooled variances later on. \n",
    "Welch's $t$-test differs only in steps 4 through 6 as shown below:\n",
    "-->"
   ]
  },
  {
   "cell_type": "code",
   "execution_count": 30,
   "id": "9b66c31a-44f3-444d-a5c7-59c4068f935c",
   "metadata": {},
   "outputs": [],
   "source": [
    "# Calculate the sample size and the standard deviation for each group\n",
    "nW, nE = len(pricesW), len(pricesE)\n",
    "stdW, stdE = std(pricesW), std(pricesE)"
   ]
  },
  {
   "cell_type": "code",
   "execution_count": 31,
   "id": "fdaab257-8850-4606-b4d0-67ae8fe5bf4f",
   "metadata": {},
   "outputs": [
    {
     "data": {
      "text/plain": [
       "0.5972674401486561"
      ]
     },
     "execution_count": 31,
     "metadata": {},
     "output_type": "execute_result"
    }
   ],
   "source": [
    "# Compute the standard error of the estimator D\n",
    "seD = np.sqrt(stdW**2/nW + stdE**2/nE)\n",
    "seD"
   ]
  },
  {
   "cell_type": "code",
   "execution_count": 32,
   "id": "c4e3fa73-594d-49a8-bdce-c06c06c4dbd3",
   "metadata": {},
   "outputs": [
    {
     "data": {
      "text/plain": [
       "5.022875513276466"
      ]
     },
     "execution_count": 32,
     "metadata": {},
     "output_type": "execute_result"
    }
   ],
   "source": [
    "# Compute the value of the t-statistic\n",
    "obst = (dprice - 0) / seD\n",
    "obst"
   ]
  },
  {
   "cell_type": "code",
   "execution_count": 33,
   "id": "e4176334-7576-4e21-89e5-19a11130a016",
   "metadata": {},
   "outputs": [
    {
     "data": {
      "text/plain": [
       "12.59281702723103"
      ]
     },
     "execution_count": 33,
     "metadata": {},
     "output_type": "execute_result"
    }
   ],
   "source": [
    "from ministats import calcdf\n",
    "    \n",
    "# Obtain the degrees of freedom from the crazy formula\n",
    "dfD = calcdf(stdW, nW, stdE, nE)\n",
    "dfD"
   ]
  },
  {
   "cell_type": "code",
   "execution_count": 34,
   "id": "e9a4c66e-0f6c-49f3-8f62-8a3349e1d0d0",
   "metadata": {},
   "outputs": [
    {
     "data": {
      "text/plain": [
       "0.00025703383372176815"
      ]
     },
     "execution_count": 34,
     "metadata": {},
     "output_type": "execute_result"
    }
   ],
   "source": [
    "# Calculate the p-value\n",
    "\n",
    "from scipy.stats import t as tdist\n",
    "rvT0 = tdist(df=dfD)\n",
    "from ministats import tailprobs\n",
    "pvalue = tailprobs(rvT0, obst, alt=\"two-sided\")\n",
    "pvalue"
   ]
  },
  {
   "cell_type": "code",
   "execution_count": 35,
   "id": "e0ea86bc-2a3d-4015-903b-d7fa33ae0a2a",
   "metadata": {},
   "outputs": [],
   "source": [
    "# # SKIP BECAUSE TOO SMALL\n",
    "# filename = os.path.join(DESTDIR, \"rvT0_p-value_dmeans_eprices.pdf\")\n",
    "# from ministats import calc_prob_and_plot_tails\n",
    "# _, ax = calc_prob_and_plot_tails(rvT0, -obst, obst, xlims=[-4,4])\n",
    "# ax.set_title(None)\n",
    "# ax.set_xlabel(\"$t$\")\n",
    "# ax.set_ylabel(\"$f_{T_0}$\")\n",
    "# savefigure(ax, filename)"
   ]
  },
  {
   "cell_type": "markdown",
   "id": "e220333b-e537-4fcc-abfb-350d7d33c3d2",
   "metadata": {},
   "source": [
    "#### Effect size estimates"
   ]
  },
  {
   "cell_type": "code",
   "execution_count": 36,
   "id": "6aff4960-80cb-4bda-bbbf-c15f21f5eb4a",
   "metadata": {},
   "outputs": [
    {
     "data": {
      "text/plain": [
       "3.0000000000000018"
      ]
     },
     "execution_count": 36,
     "metadata": {},
     "output_type": "execute_result"
    }
   ],
   "source": [
    "dprice = dmeans(pricesW, pricesE)\n",
    "dprice"
   ]
  },
  {
   "cell_type": "markdown",
   "id": "50faa947-1013-4509-8019-77946f10e94c",
   "metadata": {},
   "source": [
    "The confidence interval for the effect size \n",
    "$\\ci{\\Delta,0.9}$ tells us a range of plausible values for the effect size."
   ]
  },
  {
   "cell_type": "code",
   "execution_count": 37,
   "id": "850036ef-c3c6-4413-95a8-6d72fafbf43e",
   "metadata": {},
   "outputs": [
    {
     "data": {
      "text/plain": [
       "[1.9396575883681466, 4.060342411631854]"
      ]
     },
     "execution_count": 37,
     "metadata": {},
     "output_type": "execute_result"
    }
   ],
   "source": [
    "from ministats import ci_dmeans\n",
    "\n",
    "ci_dmeans(pricesW, pricesE, alpha=0.1, method=\"a\")"
   ]
  },
  {
   "cell_type": "markdown",
   "id": "16a17b31-93bd-428f-8dc8-27f1d1bf3966",
   "metadata": {},
   "source": [
    "The 90% confidence interval $\\ci{\\Delta,0.9} = [1.94, 4.06]$ describes an interval of numbers\n",
    "that should contain the difference between group means $\\Delta$ at least 90\\% of the time:\n",
    "\n",
    "$$\n",
    "    \\textrm{Pr}_{\\mathbf{X}}\\big(\\{ \\Delta \\in \\ci{\\Delta,0.9} \\}\\big) \\geq 0.9.\n",
    "$$\n"
   ]
  },
  {
   "cell_type": "markdown",
   "id": "a56cd92f-fc6c-41fd-9713-566ead9adffa",
   "metadata": {},
   "source": [
    "### Reusable procedure for two-sample $t$-test"
   ]
  },
  {
   "cell_type": "code",
   "execution_count": 38,
   "id": "3e110eef-f234-4995-b35b-29e9e1389003",
   "metadata": {},
   "outputs": [],
   "source": [
    "def ttest_dmeans(xsample, ysample):\n",
    "    # Calculate the observed difference between means\n",
    "    obsdhat = mean(xsample) - mean(ysample)\n",
    "\n",
    "    # Calculate the sample sizes and the stds\n",
    "    n, m = len(xsample), len(ysample)\n",
    "    sx, sy = std(xsample), std(ysample)\n",
    "\n",
    "    # Calculate the standard error, the degrees of\n",
    "    # freedom, the null model, and the t-statistic\n",
    "    seD = np.sqrt(sx**2/n + sy**2/m)\n",
    "    dfD = calcdf(sx, n, sy, m)\n",
    "    obst = (obsdhat - 0) / seD\n",
    "\n",
    "    # Calculate the p-value from the t-distribution\n",
    "    rvT0 = tdist(df=dfD)\n",
    "    pvalue = tailprobs(rvT0, obst, alt=\"two-sided\")\n",
    "    return pvalue\n"
   ]
  },
  {
   "cell_type": "markdown",
   "id": "d5b54c8e-066b-481a-ae15-c7fbfd48c39e",
   "metadata": {},
   "source": [
    "Verify we get the same $p$-value\n",
    "when using the standard error formula."
   ]
  },
  {
   "cell_type": "code",
   "execution_count": 39,
   "id": "a03568fb-7625-4f3c-9d8a-5657462ea88c",
   "metadata": {},
   "outputs": [
    {
     "data": {
      "text/plain": [
       "0.00025703383372176815"
      ]
     },
     "execution_count": 39,
     "metadata": {},
     "output_type": "execute_result"
    }
   ],
   "source": [
    "ttest_dmeans(pricesW, pricesE)"
   ]
  },
  {
   "cell_type": "markdown",
   "id": "eb9c2ebd-fdec-453a-9f93-ade105b28800",
   "metadata": {},
   "source": [
    "### Example 6T: comparing rural and urban sleep scores"
   ]
  },
  {
   "cell_type": "code",
   "execution_count": 40,
   "id": "9939cb73-fde4-4b64-998d-3c667ea769ee",
   "metadata": {},
   "outputs": [
    {
     "data": {
      "text/plain": [
       "8.319642857142867"
      ]
     },
     "execution_count": 40,
     "metadata": {},
     "output_type": "execute_result"
    }
   ],
   "source": [
    "students = pd.read_csv(\"../datasets/students.csv\")\n",
    "# students\n",
    "# students.groupby(\"curriculum\")[\"score\"].describe()\n",
    "\n",
    "scoresD = students[students[\"curriculum\"]==\"debate\"][\"score\"]\n",
    "scoresL = students[students[\"curriculum\"]==\"lecture\"][\"score\"]\n",
    "\n",
    "# observed difference between score means\n",
    "dscores = dmeans(scoresD, scoresL)\n",
    "dscores"
   ]
  },
  {
   "cell_type": "code",
   "execution_count": 41,
   "id": "f778b1cd-d6d3-4284-90aa-f2d698fa96c2",
   "metadata": {},
   "outputs": [
    {
     "data": {
      "text/plain": [
       "0.10307495448387402"
      ]
     },
     "execution_count": 41,
     "metadata": {},
     "output_type": "execute_result"
    }
   ],
   "source": [
    "ttest_dmeans(scoresD, scoresL)"
   ]
  },
  {
   "cell_type": "code",
   "execution_count": 42,
   "id": "02c5d4d6-8cd1-44eb-98b0-423efb8d7d66",
   "metadata": {},
   "outputs": [
    {
     "name": "stdout",
     "output_type": "stream",
     "text": [
      "0.10307495448387402\n",
      "Saved figure to figures/stats/two_sample_tests/rvT0_p-value_dmeans_student_scores.pdf\n",
      "Saved figure to figures/stats/two_sample_tests/rvT0_p-value_dmeans_student_scores.png\n"
     ]
    },
    {
     "data": {
      "image/png": "[encoded data removed]",
      "text/plain": [
       "<Figure size 500x160 with 1 Axes>"
      ]
     },
     "metadata": {
      "image/png": {
       "height": 151,
       "width": 489
      }
     },
     "output_type": "display_data"
    }
   ],
   "source": [
    "# FIGURES ONLY\n",
    "filename = os.path.join(DESTDIR, \"rvT0_p-value_dmeans_student_scores.pdf\")\n",
    "\n",
    "# T-TEST ANALYSIS\n",
    "nD, nL = len(scoresD), len(scoresL)\n",
    "stdD, stdL = std(scoresD), std(scoresL)\n",
    "seDDL = np.sqrt(stdD**2/nD + stdL**2/nL)\n",
    "\n",
    "obstDL = (dscores - 0) / seDDL\n",
    "\n",
    "from ministats import calcdf\n",
    "dfDL = calcdf(stdD, nD, stdL, nL)\n",
    "rvT0DL = tdist(df=dfDL)\n",
    "pvalueDL = tailprobs(rvT0DL, obstDL, alt=\"two-sided\")\n",
    "print(pvalueDL)\n",
    "\n",
    "from ministats import calc_prob_and_plot_tails\n",
    "_, ax = calc_prob_and_plot_tails(rvT0DL, -obstDL, obstDL, xlims=[-4,4])\n",
    "ax.set_title(None)\n",
    "ax.set_xlabel(\"$t$\")\n",
    "ax.set_ylabel(\"$f_{T_0}$\")\n",
    "\n",
    "savefigure(ax, filename)"
   ]
  },
  {
   "cell_type": "markdown",
   "id": "66da53c9-b4af-45a7-998c-d78298aa34b9",
   "metadata": {},
   "source": [
    "## Alternative calculation methods"
   ]
  },
  {
   "cell_type": "markdown",
   "id": "3196833b-3e56-45f0-87aa-8e1e30368899",
   "metadata": {},
   "source": [
    "### Two-sample $t$-test using pooled variance\n",
    "#### Pooled variance formulas\n",
    "\n",
    "\n",
    "<!--\n",
    "\n",
    "There are two common ways to obtain an approximation for $\\sigma^2_D$:\n",
    "  - Unpooled variance: $\\sigma^2_D \\approx s^2_u = \\tfrac{s^2_S}{n_S} + \\tfrac{s^2_{NS}}{n_{NS}}$\n",
    "    (follows from the general rule of probability theory)\n",
    "  - Pooled variance: $\\sigma^2_D \\approx s^2_p =  \\frac{(n_S-1)s_S^2 \\; + \\; (n_{NS}-1)s_{NS}^2}{n_S + n_{NS} - 2}$\n",
    "    (takes advantage of assumption that both samples come from the same population under $H_0$)\n",
    "--> "
   ]
  },
  {
   "cell_type": "markdown",
   "id": "f728776b-32a0-4f28-bfbf-6329d549d6af",
   "metadata": {
    "tags": []
   },
   "source": [
    "#### Example 5T revisited with pooled variance"
   ]
  },
  {
   "cell_type": "code",
   "execution_count": 43,
   "id": "f1d80e78-b7c9-4fc1-ad52-a32834788c50",
   "metadata": {},
   "outputs": [],
   "source": [
    "# TODO make self contained"
   ]
  },
  {
   "cell_type": "code",
   "execution_count": 44,
   "id": "5bf202f9-e2e3-4cfe-a24b-a046d6a7ae2d",
   "metadata": {},
   "outputs": [
    {
     "data": {
      "text/plain": [
       "0.5972674401486561"
      ]
     },
     "execution_count": 44,
     "metadata": {},
     "output_type": "execute_result"
    }
   ],
   "source": [
    "# Compute the pooled variance and standard error of estimator D\n",
    "varp = ((nW-1)*stdW**2 + (nE-1)*stdE**2) / (nW + nE - 2)\n",
    "stdp = np.sqrt(varp)\n",
    "seDp = stdp * np.sqrt(1/nW + 1/nE)\n",
    "seDp"
   ]
  },
  {
   "cell_type": "code",
   "execution_count": 45,
   "id": "87de7bb4-c097-4f3d-ad32-d172d9afb0b9",
   "metadata": {},
   "outputs": [
    {
     "data": {
      "text/plain": [
       "5.022875513276466"
      ]
     },
     "execution_count": 45,
     "metadata": {},
     "output_type": "execute_result"
    }
   ],
   "source": [
    "# Compute the value of the t-statistic\n",
    "obstp = (dprice - 0) / seDp\n",
    "obstp"
   ]
  },
  {
   "cell_type": "code",
   "execution_count": 46,
   "id": "e02fa7fd-0f7b-430e-b154-9488fb3e1ef2",
   "metadata": {},
   "outputs": [
    {
     "data": {
      "text/plain": [
       "16"
      ]
     },
     "execution_count": 46,
     "metadata": {},
     "output_type": "execute_result"
    }
   ],
   "source": [
    "# Obtain the degrees of freedom\n",
    "dfDp = nW + nW - 2\n",
    "dfDp"
   ]
  },
  {
   "cell_type": "code",
   "execution_count": 47,
   "id": "4baee966-55b0-446e-81f2-5d4412281b92",
   "metadata": {},
   "outputs": [
    {
     "data": {
      "text/plain": [
       "0.00012497067987674856"
      ]
     },
     "execution_count": 47,
     "metadata": {},
     "output_type": "execute_result"
    }
   ],
   "source": [
    "from scipy.stats import t as tdist\n",
    "from ministats import tailprobs\n",
    "\n",
    "# Calculate the p-value\n",
    "rvT0p = tdist(df=dfDp)\n",
    "pvaluep = tailprobs(rvT0p, obstp, alt=\"two-sided\")\n",
    "pvaluep"
   ]
  },
  {
   "cell_type": "markdown",
   "id": "3e7231dd-7d82-4121-ac6e-422456f94edc",
   "metadata": {},
   "source": [
    "### Using `scipy.stats.ttest_ind` for two-sample $t$-tests"
   ]
  },
  {
   "cell_type": "markdown",
   "id": "845b77d7-b9d1-425c-b1c1-d64a5ee96d70",
   "metadata": {},
   "source": [
    "Alternatively,\n",
    "we can use `scipy.stats.ttest_ind` to obtain the $p$-value.\n",
    "\n",
    "Use `equal_var=False` to obtain the Welsh value."
   ]
  },
  {
   "cell_type": "code",
   "execution_count": 48,
   "id": "03bc51e5-93f6-48d5-91d2-cc9fbb583626",
   "metadata": {},
   "outputs": [
    {
     "data": {
      "text/plain": [
       "0.00025703383372176116"
      ]
     },
     "execution_count": 48,
     "metadata": {},
     "output_type": "execute_result"
    }
   ],
   "source": [
    "# ALT. compute using existing function in `scipy.stats`\n",
    "from scipy.stats import ttest_ind\n",
    "res1 = ttest_ind(pricesW, pricesE, equal_var=False)\n",
    "res1.pvalue"
   ]
  },
  {
   "cell_type": "markdown",
   "id": "7f8e00f4-8767-445a-9391-a5d506b6398f",
   "metadata": {},
   "source": [
    "Use `equal_var=True` to obtain the pooled variance value."
   ]
  },
  {
   "cell_type": "code",
   "execution_count": 49,
   "id": "363cdf63-41a9-4931-ad77-46b5cb7a85be",
   "metadata": {
    "scrolled": true
   },
   "outputs": [
    {
     "data": {
      "text/plain": [
       "0.00012497067987678488"
      ]
     },
     "execution_count": 49,
     "metadata": {},
     "output_type": "execute_result"
    }
   ],
   "source": [
    "# ALT. compute using existing function in `scipy.stats`\n",
    "from scipy.stats import ttest_ind\n",
    "res2 = ttest_ind(pricesW, pricesE, equal_var=True)\n",
    "res2.pvalue"
   ]
  },
  {
   "cell_type": "markdown",
   "id": "7bec331f-daf4-445e-b99f-f68eac41763e",
   "metadata": {},
   "source": [
    "### Using `scipy.stats.ttest_ind` for permutation test"
   ]
  },
  {
   "cell_type": "markdown",
   "id": "b6f08acb-ee2b-456c-9049-333fdac4a645",
   "metadata": {
    "jp-MarkdownHeadingCollapsed": true,
    "tags": []
   },
   "source": [
    "You can use the SciPy implementation of permutation test,\n",
    "by calling `ttest_ind(..., permutations=10000)` to perform a permutation test, then obtain the $p$-value."
   ]
  },
  {
   "cell_type": "code",
   "execution_count": 50,
   "id": "4b95d02f-c685-4e76-a55b-a3f0df9630f3",
   "metadata": {},
   "outputs": [
    {
     "name": "stderr",
     "output_type": "stream",
     "text": [
      "/var/folders/yp/48zx9brn6mj6vmy50smb844w0000gn/T/ipykernel_3140/472059880.py:4: DeprecationWarning: Arguments {'permutations'} are deprecated, whether passed by position or keyword. They will be removed in SciPy 1.17.0. Use ``method`` to perform a permutation test.\n",
      "  ttest_ind(pricesW, pricesE, permutations=10000).pvalue\n"
     ]
    },
    {
     "data": {
      "text/plain": [
       "0.00029997000299970003"
      ]
     },
     "execution_count": 50,
     "metadata": {},
     "output_type": "execute_result"
    }
   ],
   "source": [
    "from scipy.stats import ttest_ind\n",
    "\n",
    "np.random.seed(42)\n",
    "ttest_ind(pricesW, pricesE, permutations=10000).pvalue"
   ]
  },
  {
   "cell_type": "markdown",
   "id": "12e7e90e-d613-469b-bc61-7aff3f0427c8",
   "metadata": {},
   "source": [
    "Note the $p$-value we obtained form the two methods may be different.\n",
    "This can happen when using the permutations test,\n",
    "because we use randomness as part of the calculation."
   ]
  },
  {
   "cell_type": "markdown",
   "id": "965d46da-c8cb-4ef2-88f8-02e99b3bef90",
   "metadata": {},
   "source": [
    "### Using `statsmodels` for two-sample $t$-tests"
   ]
  },
  {
   "cell_type": "code",
   "execution_count": 51,
   "id": "df4d905a-a637-4db5-a34f-4f3b8916ff11",
   "metadata": {},
   "outputs": [
    {
     "data": {
      "text/plain": [
       "(5.022875513276465, 0.00025703383372176073, 12.592817027231032)"
      ]
     },
     "execution_count": 51,
     "metadata": {},
     "output_type": "execute_result"
    }
   ],
   "source": [
    "import statsmodels.stats.api as sms\n",
    "\n",
    "statsW = sms.DescrStatsW(pricesW)\n",
    "statsE = sms.DescrStatsW(pricesE)\n",
    "cm = sms.CompareMeans(statsW, statsE)\n",
    "\n",
    "# Welch's t-test\n",
    "cm.ttest_ind(alternative=\"two-sided\", usevar=\"unequal\")"
   ]
  },
  {
   "cell_type": "code",
   "execution_count": 52,
   "id": "8b365d05-766b-45da-a0cc-f052bf4ca9ec",
   "metadata": {},
   "outputs": [
    {
     "data": {
      "text/plain": [
       "(5.022875513276465, 0.00012497067987678488, 16.0)"
      ]
     },
     "execution_count": 52,
     "metadata": {},
     "output_type": "execute_result"
    }
   ],
   "source": [
    "# T-test with pooled variance\n",
    "cm.ttest_ind(alternative=\"two-sided\", usevar=\"pooled\")"
   ]
  },
  {
   "cell_type": "markdown",
   "id": "57c2df9d-b031-4ad7-9023-5cad5ec0c65b",
   "metadata": {},
   "source": [
    "## Explanations"
   ]
  },
  {
   "cell_type": "markdown",
   "id": "14cf00d4-9ad1-4011-a6dd-42f364ae12d5",
   "metadata": {},
   "source": [
    "### Statistical modelling assumptions"
   ]
  },
  {
   "cell_type": "markdown",
   "id": "cdd0be58-77e6-4376-bf4e-c7a828725b73",
   "metadata": {
    "tags": []
   },
   "source": [
    "\n",
    "- INDEP:\n",
    "- NORMAL:\n",
    "- LARGEn:\n",
    "- EQVAR:"
   ]
  },
  {
   "cell_type": "markdown",
   "id": "fd524160-68f1-4e98-a6ed-7b20551184e8",
   "metadata": {},
   "source": [
    "### Standardized effect size\n",
    "\n",
    "It is sometimes useful to report the effect size using a \"standardized\" measure for effect sizes.\n",
    "\n",
    "Cohen's $d$ is one such measure, and it is defined as the difference between two means divided by the pooled standard deviation.\n",
    "\n",
    "$$\n",
    "  d = \\frac{\\overline{\\mathbf{x}} - \\overline{\\mathbf{y}} }{ s_{p} }.\n",
    "$$\n",
    "where the pooled variance is defined as\n",
    "$s_{p}^2 = [(n -1)s_{\\mathbf{x}}^2 + (m -1)s_{\\mathbf{y}}^2]/(n + m -2)$.\n"
   ]
  },
  {
   "cell_type": "code",
   "execution_count": 53,
   "id": "47a849a1-1fb1-43c0-98ee-05effb471d52",
   "metadata": {},
   "outputs": [],
   "source": [
    "def cohend2(sample1, sample2):\n",
    "    \"\"\"\n",
    "    Cohen's d measure of effect size for two independent samples.\n",
    "    \"\"\"\n",
    "    n1, n2 = len(sample1), len(sample2)\n",
    "    mean1, mean2 = mean(sample1), mean(sample2)\n",
    "    var1, var2 = var(sample1), var(sample2)\n",
    "    # calculate the pooled variance and std\n",
    "    var_pooled = ((n1-1)*var1+(n2-1)*var2) / (n1+n2-2)\n",
    "    std_pooled = np.sqrt(var_pooled)\n",
    "    d = (mean1 - mean2) / std_pooled\n",
    "    return d"
   ]
  },
  {
   "cell_type": "markdown",
   "id": "212373ae-b92a-4f22-9da8-dcbcad7a78cf",
   "metadata": {},
   "source": [
    "We interpret the value of Cohen's $d$ using the [reference table](https://en.wikipedia.org/wiki/Effect_size#Cohen's_d) of values:\n",
    "\n",
    "| Cohen's d   | Effect size |\n",
    "| ----------- | ----------- |\n",
    "| 0.01        | very small  |\n",
    "| 0.20        | small       |\n",
    "| 0.50        | medium      |\n",
    "| 0.80        | large       |\n"
   ]
  },
  {
   "cell_type": "markdown",
   "id": "c73873a8-6d78-4d11-bb03-6d0826f83045",
   "metadata": {},
   "source": [
    "Effect size for mean deviation of kombucha Batch 04 from expected value $\\mu_K=1000$."
   ]
  },
  {
   "cell_type": "code",
   "execution_count": 54,
   "id": "e6a31934-1b94-49df-947e-7fcb62dd6f9c",
   "metadata": {},
   "outputs": [
    {
     "data": {
      "text/plain": [
       "2.3678062243290996"
      ]
     },
     "execution_count": 54,
     "metadata": {},
     "output_type": "execute_result"
    }
   ],
   "source": [
    "cohend2(pricesW, pricesE)"
   ]
  },
  {
   "cell_type": "markdown",
   "id": "1a1d5e24-4f29-4f57-ba28-6b93b9a01656",
   "metadata": {},
   "source": [
    "## Discussion\n",
    "### Comparison to resampling methods"
   ]
  },
  {
   "cell_type": "markdown",
   "id": "671146cf-ee43-4789-a71b-26f86e5770c5",
   "metadata": {},
   "source": [
    "## Exercises\n",
    "\n",
    "See notebook [exercises_35_two_sample_tests.ipynb](../exercises/exercises_35_two_sample_tests.ipynb)."
   ]
  },
  {
   "cell_type": "markdown",
   "id": "214b6048-abf3-4463-bf87-a9c67750c59c",
   "metadata": {},
   "source": [
    "## Links"
   ]
  },
  {
   "cell_type": "markdown",
   "id": "3ef0dd4b-6518-4afb-9add-e49d980cd0c8",
   "metadata": {},
   "source": [
    "* [Permutation Methods: A Basis for Exact Inference](https://projecteuclid.org/journals/statistical-science/volume-19/issue-4/Permutation-Methods-A-Basis-for-Exact-Inference/10.1214/088342304000000396.full) by Michael D. Ernst\n",
    "\n",
    "* Nice animation https://commons.wikimedia.org/wiki/File:Permutation_test_example_animation.gif  \n",
    "  via https://en.wikipedia.org/wiki/Permutation_test"
   ]
  }
 ],
 "metadata": {
  "kernelspec": {
   "display_name": "Python 3 (ipykernel)",
   "language": "python",
   "name": "python3"
  },
  "language_info": {
   "codemirror_mode": {
    "name": "ipython",
    "version": 3
   },
   "file_extension": ".py",
   "mimetype": "text/x-python",
   "name": "python",
   "nbconvert_exporter": "python",
   "pygments_lexer": "ipython3",
   "version": "3.12.4"
  }
 },
 "nbformat": 4,
 "nbformat_minor": 5
}
