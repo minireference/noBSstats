{
 "cells": [
  {
   "cell_type": "markdown",
   "id": "b73f3d18-88c7-499d-90a3-dd6954247cf3",
   "metadata": {
    "tags": []
   },
   "source": [
    "# Section 3.1 — Estimates and estimators\n",
    "\n",
    "This notebook contains the code examples from [Section 3.1 Estimates and estimators]() of the **No Bullshit Guide to Statistics**.\n",
    "\n",
    "We'll begin our study of inferential statistics by introducing **estimators**,\n",
    "which are the math tools used for computing **confidence intervals** and running **hypothesis tests**.\n",
    "\n",
    "![simplified_estimators.png](../stats_overview/figures/simplified_estimators.png)"
   ]
  },
  {
   "cell_type": "markdown",
   "id": "efce8e91-8824-4103-a526-02e23c794668",
   "metadata": {
    "tags": []
   },
   "source": [
    "#### Notebook setup"
   ]
  },
  {
   "cell_type": "code",
   "execution_count": 1,
   "id": "990de07d-c26f-4a29-935a-2b1dacc89b34",
   "metadata": {},
   "outputs": [],
   "source": [
    "# load Python modules\n",
    "import os\n",
    "import numpy as np\n",
    "import pandas as pd\n",
    "import matplotlib.pyplot as plt\n",
    "import seaborn as sns"
   ]
  },
  {
   "cell_type": "code",
   "execution_count": 2,
   "id": "a6ae85fb-c762-490d-ba9e-5976f0bfb4d5",
   "metadata": {},
   "outputs": [],
   "source": [
    "# Plot helper functions\n",
    "from plot_helpers import plot_pdf\n",
    "from plot_helpers import savefigure"
   ]
  },
  {
   "cell_type": "code",
   "execution_count": 3,
   "id": "896b6583-0773-4ce5-ae08-af5ce0193cca",
   "metadata": {},
   "outputs": [
    {
     "data": {
      "text/plain": [
       "<Figure size 432x288 with 0 Axes>"
      ]
     },
     "metadata": {},
     "output_type": "display_data"
    }
   ],
   "source": [
    "# Figures setup\n",
    "plt.clf()  # needed otherwise `sns.set_theme` doesn't work\n",
    "from plot_helpers import RCPARAMS\n",
    "RCPARAMS.update({'figure.figsize': (10, 3)})   # good for screen\n",
    "# RCPARAMS.update({'figure.figsize': (5, 1.6)})  # good for print\n",
    "sns.set_theme(\n",
    "    context=\"paper\",\n",
    "    style=\"whitegrid\",\n",
    "    palette=\"colorblind\",\n",
    "    rc=RCPARAMS,\n",
    ")\n",
    "\n",
    "# Useful colors\n",
    "snspal = sns.color_palette()\n",
    "blue, orange, purple = snspal[0], snspal[1], snspal[4]\n",
    "\n",
    "# High-resolution please\n",
    "%config InlineBackend.figure_format = 'retina'\n",
    "\n",
    "# Where to store figures\n",
    "DESTDIR = \"figures/stats/estimators\""
   ]
  },
  {
   "cell_type": "code",
   "execution_count": 4,
   "id": "df22d8d7-6814-4c3b-a3d3-2f31ab6b2f3b",
   "metadata": {},
   "outputs": [],
   "source": [
    "# set random seed for repeatability\n",
    "np.random.seed(42)"
   ]
  },
  {
   "cell_type": "code",
   "execution_count": 5,
   "id": "732928e1-64df-41a8-9ee7-6cc0688641d0",
   "metadata": {},
   "outputs": [],
   "source": [
    "#######################################################"
   ]
  },
  {
   "cell_type": "markdown",
   "id": "9ee8aad0-01a7-4aff-819f-9de0d15d52c3",
   "metadata": {},
   "source": [
    "$\\def\\stderr#1{\\mathbf{se}_{#1}}$\n",
    "$\\def\\stderrhat#1{\\hat{\\mathbf{se}}_{#1}}$\n",
    "$\\newcommand{\\Mean}{\\textbf{Mean}}$\n",
    "$\\newcommand{\\Var}{\\textbf{Var}}$\n",
    "$\\newcommand{\\Std}{\\textbf{Std}}$\n",
    "$\\newcommand{\\Freq}{\\textbf{Freq}}$\n",
    "$\\newcommand{\\RelFreq}{\\textbf{RelFreq}}$\n",
    "$\\newcommand{\\DMeans}{\\textbf{DMeans}}$\n",
    "$\\newcommand{\\Prop}{\\textbf{Prop}}$\n",
    "$\\newcommand{\\DProps}{\\textbf{DProps}}$\n",
    "\n",
    "\n",
    "(this cell contains the macro definitions $\\stderr{\\theta}$, $\\stderrhat{}$, $\\Mean$, ...)"
   ]
  },
  {
   "cell_type": "markdown",
   "id": "576f7dfd-7b94-4dd1-82c1-b55358f06534",
   "metadata": {},
   "source": []
  },
  {
   "cell_type": "markdown",
   "id": "8804a09a-f4ad-4ff6-a449-1ee3ee3431aa",
   "metadata": {},
   "source": [
    "## Statistical inference context\n",
    "\n",
    "DATA:\n",
    "- population\n",
    "- sample\n",
    "- statistic\n",
    "\n",
    "PROB:\n",
    "- probability model\n",
    "- model family\n",
    "- parameters\n",
    "\n",
    "\n",
    "Statistical inference is the use the values of the statistics obtained from the sample $\\mathbf{x} = (x_1, x_2, \\ldots, x_n)$ to estimate the population parameters $\\theta$. For example,\n",
    "the sample mean $\\overline{\\mathbf{x}}=\\Mean(\\mathbf{x})$ is an estimate of the population mean $\\mu$,\n",
    "and the sample variance $s_{\\mathbf{x}}^2=\\Var(\\mathbf{x})$ is an estimate of the population variance $\\sigma^2$."
   ]
  },
  {
   "cell_type": "markdown",
   "id": "e5d5f270-ee83-42f7-bba5-0dccb2d7a4be",
   "metadata": {},
   "source": [
    "## Estimators\n",
    "\n",
    "- We use the term \"estimator\" to describe a function $g$ that takes samples as inputs\n",
    "  and produces parameter estimates as outputs.\n",
    "  Written mathematically, and estimator is a function of the form:\n",
    "  $$\n",
    "   g \\colon \\underbrace{\\mathcal{X}\\times \\mathcal{X}\\times \\cdots \\times \\mathcal{X}}_{n \\textrm{ copies}}\n",
    "   \\quad \\to \\quad \\mathbb{R},\n",
    "  $$\n",
    "  where $n$ is the samples size and $\\mathcal{X}$ denotes the possible values of the random variable $X$.\n",
    "- We give different names to estimates, depending on the use case:\n",
    "  - **statistic** = a quantity computed from a sample (e.g. descriptive statistics)\n",
    "  - **parameter estimates** = statistics that estimate population parameters\n",
    "  - **test statistic** = an estimate used as part of hypothesis testing procedure\n",
    "- The **value** of the estimator $\\hat{\\theta} = g(\\mathbf{x})$ is computed from a particular sample\n",
    "  $\\mathbf{x} = (x_1, x_2, \\ldots, x_n)$.\n",
    "- The **sampling distribution** of the estimator $g$ is the distribution of $\\hat{\\Theta} = g(\\mathbf{X})$,\n",
    "  where $\\mathbf{X} = (X_1, X_2, \\ldots, X_n)$ is a *random sample*."
   ]
  },
  {
   "cell_type": "markdown",
   "id": "9c7a3a4e-1796-407e-a0ac-0492a17c9178",
   "metadata": {},
   "source": [
    " "
   ]
  },
  {
   "cell_type": "markdown",
   "id": "21ebea5e-9857-4e6b-aca5-68d475a07c1e",
   "metadata": {},
   "source": [
    "Let's start with some estimators you're already familiar with (discussed in [descriptive statistics](./13_descriptive_statistics.ipynb)):"
   ]
  },
  {
   "cell_type": "markdown",
   "id": "cd0daa61-a700-4147-bfa7-b828557243d5",
   "metadata": {
    "tags": []
   },
   "source": [
    "### Sample mean estimator\n",
    "\n",
    "  - estimator: $\\overline{\\mathbf{x}} = \\Mean(\\mathbf{x}) = \\frac{1}{n}\\sum_{i=1}^n x_i$\n",
    "  - gives an estimate for the population mean $\\mu$"
   ]
  },
  {
   "cell_type": "code",
   "execution_count": 6,
   "id": "cdf63b86-eb30-452e-9cb5-0205b75f87e0",
   "metadata": {},
   "outputs": [],
   "source": [
    "def mean(sample):\n",
    "    return sum(sample) / len(sample)\n",
    "\n",
    "# ALT. use .mean() method on a Pandas series\n",
    "# ALT. use np.mean(sample)"
   ]
  },
  {
   "cell_type": "code",
   "execution_count": null,
   "id": "a06fe0fd-4eea-422a-84a6-221e6086f661",
   "metadata": {},
   "outputs": [],
   "source": []
  },
  {
   "cell_type": "markdown",
   "id": "b9753ab0-53dd-4488-98b0-572cbb6ed1ba",
   "metadata": {},
   "source": [
    "### Sample variance and standard deviation\n",
    "\n",
    "  - estimator: $s_{\\mathbf{x}}^2 = \\Var(\\mathbf{x}) = \\frac{1}{n-1}\\sum_{i=1}^n (x_i-\\overline{\\mathbf{x}})^2$\n",
    "  - gives an estimate for the population variance $\\sigma^2$\n",
    "  - note the denominator is $(n-1)$ and not $n$ "
   ]
  },
  {
   "cell_type": "code",
   "execution_count": 7,
   "id": "12904756-3603-4d08-9f83-b3b89eaaf15c",
   "metadata": {},
   "outputs": [],
   "source": [
    "def var(sample):\n",
    "    xbar = mean(sample)\n",
    "    sumsqdevs = sum([(xi-xbar)**2 for xi in sample])\n",
    "    return sumsqdevs / (len(sample)-1)\n",
    "\n",
    "# ALT. use .var() method on a Pandas series\n",
    "# ALT. use np.var(sample, ddof=1)"
   ]
  },
  {
   "cell_type": "markdown",
   "id": "f9d76471-490e-4565-a360-1a4056a01588",
   "metadata": {},
   "source": [
    "The standard deviation $s_{\\mathbf{x}}^2$ is the square root of the sample variance:\n",
    "$$\n",
    "  \\sqrt{s_{\\mathbf{x}}^2}\n",
    "   =  s_{\\mathbf{x}}\n",
    "   = \\Std(\\mathbf{x})\n",
    "   = \\sqrt{ \\frac{1}{n-1}\\sum_{i=1}^n (x_i-\\overline{\\mathbf{x}})^2 }.\n",
    "$$\n",
    "\n",
    "We can now define a Python function `std` for computing the standard deviation by taking the square root of the variance:"
   ]
  },
  {
   "cell_type": "code",
   "execution_count": 8,
   "id": "df34d935-0955-4d26-908d-7e73624aaa63",
   "metadata": {},
   "outputs": [],
   "source": [
    "def std(sample):\n",
    "    s2 = var(sample)\n",
    "    return np.sqrt(s2)\n",
    "\n",
    "# ALT. use .std() method on a Pandas series\n",
    "# ALT. use np.std(sample, ddof=1)"
   ]
  },
  {
   "cell_type": "code",
   "execution_count": null,
   "id": "6b3fba80-f8cc-4b9f-addf-ac2401d27a31",
   "metadata": {},
   "outputs": [],
   "source": []
  },
  {
   "cell_type": "markdown",
   "id": "b1e11988-8bab-4a9d-bc41-d76db7a27658",
   "metadata": {},
   "source": [
    "### Example 1: apple weight mean and variance\n"
   ]
  },
  {
   "cell_type": "code",
   "execution_count": 9,
   "id": "4ec1ec89-7533-43c0-8ac7-9a5b1e31f135",
   "metadata": {},
   "outputs": [
    {
     "data": {
      "text/plain": [
       "30"
      ]
     },
     "execution_count": 9,
     "metadata": {},
     "output_type": "execute_result"
    }
   ],
   "source": [
    "apples = pd.read_csv(\"../datasets/apples.csv\")\n",
    "asample = apples[\"weight\"]\n",
    "asample.count()"
   ]
  },
  {
   "cell_type": "code",
   "execution_count": 10,
   "id": "e7f40d92-5a93-49ea-addb-3eec2200eee5",
   "metadata": {},
   "outputs": [
    {
     "data": {
      "text/plain": [
       "pandas.core.series.Series"
      ]
     },
     "execution_count": 10,
     "metadata": {},
     "output_type": "execute_result"
    }
   ],
   "source": [
    "type(asample)"
   ]
  },
  {
   "cell_type": "code",
   "execution_count": 11,
   "id": "785595bc-8451-40ff-9399-3befef812bd4",
   "metadata": {},
   "outputs": [],
   "source": [
    "# asample"
   ]
  },
  {
   "cell_type": "code",
   "execution_count": 12,
   "id": "72acb04d-244b-4e2e-ada3-cfbbd9fdb472",
   "metadata": {},
   "outputs": [
    {
     "data": {
      "text/plain": [
       "numpy.ndarray"
      ]
     },
     "execution_count": 12,
     "metadata": {},
     "output_type": "execute_result"
    }
   ],
   "source": [
    "type(asample.values)"
   ]
  },
  {
   "cell_type": "code",
   "execution_count": 13,
   "id": "58307291-8de5-4523-bdc0-49d8ecb9839e",
   "metadata": {},
   "outputs": [
    {
     "data": {
      "text/plain": [
       "array([205., 182., 192., 189., 217., 192., 210., 240., 225., 191., 193.,\n",
       "       209., 167., 183., 210., 198., 239., 188., 179., 182., 200., 197.,\n",
       "       245., 192., 201., 218., 198., 211., 208., 217.])"
      ]
     },
     "execution_count": 13,
     "metadata": {},
     "output_type": "execute_result"
    }
   ],
   "source": [
    "asample.values"
   ]
  },
  {
   "cell_type": "code",
   "execution_count": null,
   "id": "b7aad6bc-89fd-4eb6-b99d-1f23588b8b78",
   "metadata": {},
   "outputs": [],
   "source": []
  },
  {
   "cell_type": "markdown",
   "id": "27730ed2-b23b-4be6-86fd-3c374ad2141b",
   "metadata": {},
   "source": [
    "Next let's calculate the mean of the sample:"
   ]
  },
  {
   "cell_type": "code",
   "execution_count": 14,
   "id": "3811d738-1d44-47a4-9dc0-7c0bee3c3fe2",
   "metadata": {},
   "outputs": [
    {
     "data": {
      "text/plain": [
       "202.6"
      ]
     },
     "execution_count": 14,
     "metadata": {},
     "output_type": "execute_result"
    }
   ],
   "source": [
    "mean(asample)"
   ]
  },
  {
   "cell_type": "markdown",
   "id": "79b50cf1-b621-4a28-9a0a-5b957088b1fa",
   "metadata": {},
   "source": [
    "Let's also calculate the variance of the apple weights,"
   ]
  },
  {
   "cell_type": "code",
   "execution_count": 15,
   "id": "0cb0ad30-8f99-468a-92aa-19842d31e6d6",
   "metadata": {},
   "outputs": [
    {
     "data": {
      "text/plain": [
       "345.9724137931035"
      ]
     },
     "execution_count": 15,
     "metadata": {},
     "output_type": "execute_result"
    }
   ],
   "source": [
    "var(asample)"
   ]
  },
  {
   "cell_type": "markdown",
   "id": "ca188c1f-6b5a-4dbb-bd7a-8db73512fb23",
   "metadata": {},
   "source": [
    "and their standard deviation:"
   ]
  },
  {
   "cell_type": "code",
   "execution_count": 16,
   "id": "70a3a606-4c73-4152-b7f8-a020338af4a0",
   "metadata": {},
   "outputs": [
    {
     "data": {
      "text/plain": [
       "18.60033370112223"
      ]
     },
     "execution_count": 16,
     "metadata": {},
     "output_type": "execute_result"
    }
   ],
   "source": [
    "std(asample)"
   ]
  },
  {
   "cell_type": "code",
   "execution_count": 17,
   "id": "f9c0d859-9b66-4be3-8722-3ae612982f5f",
   "metadata": {},
   "outputs": [
    {
     "data": {
      "text/plain": [
       "count     30.000000\n",
       "mean     202.600000\n",
       "std       18.600334\n",
       "min      167.000000\n",
       "25%      191.250000\n",
       "50%      199.000000\n",
       "75%      210.750000\n",
       "max      245.000000\n",
       "Name: weight, dtype: float64"
      ]
     },
     "execution_count": 17,
     "metadata": {},
     "output_type": "execute_result"
    }
   ],
   "source": [
    "# ALT. call `.describe` to get a five-point summary\n",
    "asample.describe()"
   ]
  },
  {
   "cell_type": "code",
   "execution_count": null,
   "id": "ecbcaa93-e8eb-4e92-8cbf-2e196ee0bc67",
   "metadata": {},
   "outputs": [],
   "source": []
  },
  {
   "cell_type": "markdown",
   "id": "6709a291-4e0a-4e00-acc2-5ed23bc4854d",
   "metadata": {},
   "source": [
    "### Example 2: kombucha volume mean and variance\n"
   ]
  },
  {
   "cell_type": "code",
   "execution_count": 18,
   "id": "ea343529-622d-4e7a-b222-483611f15753",
   "metadata": {},
   "outputs": [],
   "source": [
    "kombucha = pd.read_csv(\"../datasets/kombucha.csv\")\n",
    "# kombucha"
   ]
  },
  {
   "cell_type": "code",
   "execution_count": 19,
   "id": "80431b40-5739-42b9-bf59-0b56fbfb7656",
   "metadata": {},
   "outputs": [
    {
     "data": {
      "text/plain": [
       "40"
      ]
     },
     "execution_count": 19,
     "metadata": {},
     "output_type": "execute_result"
    }
   ],
   "source": [
    "batch01 = kombucha[kombucha[\"batch\"]==1]\n",
    "ksample = batch01[\"volume\"]\n",
    "ksample.count()"
   ]
  },
  {
   "cell_type": "code",
   "execution_count": 20,
   "id": "090cda55-6382-4a36-a2a6-73aa8d4eb2b3",
   "metadata": {},
   "outputs": [
    {
     "data": {
      "text/plain": [
       "array([1016.24,  993.88,  994.72,  989.27, 1008.65,  976.98, 1017.45,\n",
       "        992.39, 1003.19,  997.51, 1014.62,  979.4 ,  996.78,  996.16,\n",
       "       1011.34,  989.  ,  998.28,  991.22, 1000.42, 1005.83,  988.99,\n",
       "       1011.45, 1009.02, 1005.02, 1009.01,  993.16,  998.77,  990.64,\n",
       "        997.32, 1005.3 ,  993.08,  996.03,  993.13,  991.55,  993.29,\n",
       "        999.87,  988.83, 1002.34, 1016.6 , 1007.42])"
      ]
     },
     "execution_count": 20,
     "metadata": {},
     "output_type": "execute_result"
    }
   ],
   "source": [
    "ksample.values"
   ]
  },
  {
   "cell_type": "code",
   "execution_count": 21,
   "id": "e0d97e4d-cf70-401f-873f-6e65550f56ae",
   "metadata": {},
   "outputs": [
    {
     "data": {
      "text/plain": [
       "999.10375"
      ]
     },
     "execution_count": 21,
     "metadata": {},
     "output_type": "execute_result"
    }
   ],
   "source": [
    "mean(ksample)"
   ]
  },
  {
   "cell_type": "code",
   "execution_count": 22,
   "id": "ea28354f-1d80-4d5e-a427-5ec299f0939f",
   "metadata": {},
   "outputs": [
    {
     "data": {
      "text/plain": [
       "95.43654198717958"
      ]
     },
     "execution_count": 22,
     "metadata": {},
     "output_type": "execute_result"
    }
   ],
   "source": [
    "var(ksample)"
   ]
  },
  {
   "cell_type": "code",
   "execution_count": 23,
   "id": "08623f25-7ffe-4e56-a561-1f2653d33e22",
   "metadata": {},
   "outputs": [
    {
     "data": {
      "text/plain": [
       "9.769162808919686"
      ]
     },
     "execution_count": 23,
     "metadata": {},
     "output_type": "execute_result"
    }
   ],
   "source": [
    "std(ksample)"
   ]
  },
  {
   "cell_type": "code",
   "execution_count": null,
   "id": "2ca95e63-47c7-4609-9afe-616027c3bbb9",
   "metadata": {},
   "outputs": [],
   "source": []
  },
  {
   "cell_type": "code",
   "execution_count": null,
   "id": "f706f7d6-bb31-4091-b441-3870e3ae85f6",
   "metadata": {},
   "outputs": [],
   "source": []
  },
  {
   "cell_type": "markdown",
   "id": "7b4870cb-efb4-4fb4-8493-c3b350dc3388",
   "metadata": {},
   "source": [
    "### Difference between sample means estimator\n",
    "\n",
    "We'll now discuss an estimators that is specific for the comparison of the two groups.\n",
    "\n",
    "  - estimator: $\\hat{d} = \\DMeans(\\mathbf{x}_A, \\mathbf{x}_B) = \\Mean(\\mathbf{x}_A) - \\Mean(\\mathbf{x}_B) = \\overline{\\mathbf{x}}_A - \\overline{\\mathbf{x}}_B$\n",
    "  - gives an estimate for the difference between population means: $\\Delta =  \\mu_A - \\mu_B$"
   ]
  },
  {
   "cell_type": "code",
   "execution_count": 24,
   "id": "7100e5f2-38e1-4d3d-971f-fe88b2ffa94d",
   "metadata": {},
   "outputs": [],
   "source": [
    "def dmeans(xsample, ysample):\n",
    "    \"\"\"\n",
    "    Compute the difference between group means of the samples.\n",
    "    \"\"\"\n",
    "    dhat = mean(xsample) - mean(ysample)\n",
    "    return dhat"
   ]
  },
  {
   "cell_type": "code",
   "execution_count": null,
   "id": "41f0297f-1d77-4d76-acaf-8951c8605457",
   "metadata": {},
   "outputs": [],
   "source": []
  },
  {
   "cell_type": "markdown",
   "id": "d5bb63d9-532d-441b-a757-149e3397c38c",
   "metadata": {},
   "source": [
    "### Example 3: comparison of electricity prices\n",
    "\n",
    "Let's compute the difference between means of the East and West electricity prices."
   ]
  },
  {
   "cell_type": "code",
   "execution_count": 25,
   "id": "80b3b03b-7390-4d96-8b2d-39e3b45a818a",
   "metadata": {},
   "outputs": [
    {
     "name": "stdout",
     "output_type": "stream",
     "text": [
      "     end  price\n",
      "0   East    7.7\n",
      "1   East    5.9\n",
      "2   East    7.0\n",
      "3   East    4.8\n",
      "4   East    6.3\n",
      "5   East    6.3\n",
      "6   East    5.5\n",
      "7   East    5.4\n",
      "8   East    6.5\n",
      "9   West   11.8\n",
      "10  West   10.0\n",
      "11  West   11.0\n",
      "12  West    8.6\n",
      "13  West    8.3\n",
      "14  West    9.4\n",
      "15  West    8.0\n",
      "16  West    6.8\n",
      "17  West    8.5\n"
     ]
    }
   ],
   "source": [
    "eprices = pd.read_csv(\"../datasets/eprices.csv\")\n",
    "print(str(eprices))"
   ]
  },
  {
   "cell_type": "code",
   "execution_count": 26,
   "id": "6255e10e-7ccc-46e8-983a-3491f7fd474d",
   "metadata": {},
   "outputs": [
    {
     "data": {
      "text/plain": [
       "array([11.8, 10. , 11. ,  8.6,  8.3,  9.4,  8. ,  6.8,  8.5])"
      ]
     },
     "execution_count": 26,
     "metadata": {},
     "output_type": "execute_result"
    }
   ],
   "source": [
    "epricesW = eprices[eprices[\"end\"]==\"West\"]\n",
    "pricesW = epricesW[\"price\"]\n",
    "pricesW.values"
   ]
  },
  {
   "cell_type": "code",
   "execution_count": 27,
   "id": "4fb0bc7e-206d-4fd2-bc2a-4ee361296f88",
   "metadata": {},
   "outputs": [
    {
     "data": {
      "text/plain": [
       "array([7.7, 5.9, 7. , 4.8, 6.3, 6.3, 5.5, 5.4, 6.5])"
      ]
     },
     "execution_count": 27,
     "metadata": {},
     "output_type": "execute_result"
    }
   ],
   "source": [
    "epricesE = eprices[eprices[\"end\"]==\"East\"]\n",
    "pricesE = epricesE[\"price\"]\n",
    "pricesE.values"
   ]
  },
  {
   "cell_type": "markdown",
   "id": "6738bace-fa7d-4424-b063-b5c5d322a1a0",
   "metadata": {},
   "source": [
    "Let's calculate the mean of the prices in the East and the West:"
   ]
  },
  {
   "cell_type": "code",
   "execution_count": 28,
   "id": "ea107686-26b1-42df-9a0b-140de13a506d",
   "metadata": {},
   "outputs": [
    {
     "data": {
      "text/plain": [
       "(9.155555555555555, 6.155555555555555)"
      ]
     },
     "execution_count": 28,
     "metadata": {},
     "output_type": "execute_result"
    }
   ],
   "source": [
    "mean(pricesW), mean(pricesE)"
   ]
  },
  {
   "cell_type": "markdown",
   "id": "02c8b939-1c6b-40e8-a351-6c6f1818e5cf",
   "metadata": {},
   "source": [
    "To calculate the difference between means,\n",
    "we can simply subtract these two numbers $\\hat{d} = \\overline{\\mathbf{x}}_W - \\overline{\\mathbf{x}}_E$,\n",
    "or simply call the function `dmeans`\n",
    "which computes the estimate $\\hat{d} = \\textbf{DMeans}(\\tt{pricesW}, \\tt{pricesE})$."
   ]
  },
  {
   "cell_type": "code",
   "execution_count": 29,
   "id": "eb70b02e-2c62-497f-951a-a2883cf60882",
   "metadata": {},
   "outputs": [
    {
     "data": {
      "text/plain": [
       "3.0"
      ]
     },
     "execution_count": 29,
     "metadata": {},
     "output_type": "execute_result"
    }
   ],
   "source": [
    "dmeans(pricesW, pricesE)"
   ]
  },
  {
   "cell_type": "markdown",
   "id": "10a1a06f-c8f5-400f-9270-80dc7a912633",
   "metadata": {},
   "source": [
    "According to this estimate,\n",
    "the average price Rob can expect in the East end is three cents cheaper,\n",
    "on average,\n",
    "as compared to the average electricity price in the West.\n"
   ]
  },
  {
   "cell_type": "code",
   "execution_count": null,
   "id": "428bd3ce-19fb-4001-b62c-20958b4671a7",
   "metadata": {},
   "outputs": [],
   "source": []
  },
  {
   "cell_type": "code",
   "execution_count": null,
   "id": "6de365a6-ae60-4106-9378-0df622e5c22b",
   "metadata": {},
   "outputs": [],
   "source": []
  },
  {
   "cell_type": "code",
   "execution_count": null,
   "id": "adbbbf22-2dec-459f-874a-643530a3fe51",
   "metadata": {},
   "outputs": [],
   "source": []
  },
  {
   "cell_type": "markdown",
   "id": "401d6270-ac8d-4fab-8c55-3ad265614625",
   "metadata": {},
   "source": [
    " "
   ]
  },
  {
   "cell_type": "markdown",
   "id": "850996c2-d97f-48f1-82b1-c9258adb9aa6",
   "metadata": {},
   "source": [
    "## Sampling distributions\n",
    "\n",
    "\n",
    "TODO import definitions\n"
   ]
  },
  {
   "cell_type": "markdown",
   "id": "01b02fec-9914-469a-997b-9dea743719b9",
   "metadata": {},
   "source": [
    "### Examples of sampling distributions\n",
    "\n",
    "Let's look at the same estimators that we described in the previous section,\n",
    "but this time applied to *random* samples of size $n$:\n",
    "\n",
    "- Sample mean: $\\overline{\\mathbf{X}} = \\Mean(\\mathbf{X}) = \\tfrac{1}{n}\\sum_{i=1}^n X_i$\n",
    "- Sample variance: $S_{\\mathbf{X}}^2 = \\Var(\\mathbf{X}) = \\tfrac{1}{n-1}\\sum_{i=1}^n \\left(X_i - \\overline{\\mathbf{X}} \\right)^2$\n",
    "- Sample standard deviation: $S_{\\mathbf{X}} = \\sqrt{\\Var(\\mathbf{X})} = \\sqrt{\\tfrac{1}{n-1}\\sum_{i=1}^n \\left(X_i - \\overline{\\mathbf{X}} \\right)^2}$\n",
    "- Difference between sample means: $\\hat{D} = \\DMeans(\\mathbf{X}, \\mathbf{Y}) = \\overline{\\mathbf{X}} - \\overline{\\mathbf{Y}}$ \n",
    "\n",
    "Note these formulas is identical to the formulas we saw earlier.\n",
    "The only difference is that we're calculating the functions $g$, $h$, and $d$ based on a random sample $\\mathbf{X} = (X_1, X_2, \\ldots, X_n)$,\n",
    "instead of particular sample $\\mathbf{x} = (x_1, x_2, \\ldots, x_n)$."
   ]
  },
  {
   "cell_type": "code",
   "execution_count": null,
   "id": "29b8d70a-d168-4f99-ba5d-ffcab8c0e65f",
   "metadata": {},
   "outputs": [],
   "source": []
  },
  {
   "cell_type": "markdown",
   "id": "98c3da7b-4449-467d-8760-2fee6c584717",
   "metadata": {},
   "source": [
    "### Visualizing sampling distributions\n",
    "\n"
   ]
  },
  {
   "cell_type": "code",
   "execution_count": 30,
   "id": "2892a2c6-ab0a-4178-9741-8f9ea515fe33",
   "metadata": {},
   "outputs": [],
   "source": [
    "def gen_sampling_dist(rv, statfunc, n, N=10000):\n",
    "    stats = []\n",
    "    for i in range(0, N):\n",
    "        sample = rv.rvs(n)\n",
    "        stat = statfunc(sample)\n",
    "        stats.append(stat)\n",
    "    return stats"
   ]
  },
  {
   "cell_type": "code",
   "execution_count": null,
   "id": "0270f1fb-eeb9-4660-ad83-e4493e4fefcf",
   "metadata": {},
   "outputs": [],
   "source": []
  },
  {
   "cell_type": "markdown",
   "id": "9284d3fe-d6a8-46d7-9e72-7754ef67e6b1",
   "metadata": {},
   "source": [
    "#### Example 1 (cont): sampling distribution of the mean kombucha volume\n",
    "\n",
    "The probability distribution of the kombucha volume is know to\n",
    "be $K \\sim \\mathcal{N}(\\mu_K=1000, \\sigma_K=10)$.\n",
    "\n",
    "\n",
    "This is an usual case where we know the population parameters,\n",
    "but we'll investigate because it allows us to learn more about sampling distributions."
   ]
  },
  {
   "cell_type": "code",
   "execution_count": null,
   "id": "82fbf22a-84e1-4103-b4e3-989269d76f0e",
   "metadata": {},
   "outputs": [],
   "source": []
  },
  {
   "cell_type": "code",
   "execution_count": 31,
   "id": "a9cb10d3-3c6a-48d7-8067-e8f99ac6c555",
   "metadata": {},
   "outputs": [
    {
     "data": {
      "image/png": "[encoded data removed]",
      "text/plain": [
       "<Figure size 720x216 with 1 Axes>"
      ]
     },
     "metadata": {
      "image/png": {
       "height": 208,
       "width": 615
      }
     },
     "output_type": "display_data"
    }
   ],
   "source": [
    "from scipy.stats import norm\n",
    "muK = 1000\n",
    "sigmaK = 10\n",
    "rvK = norm(muK, sigmaK)\n",
    "\n",
    "_ = plot_pdf(rvK, xlims=[960,1040], rv_name=\"K\")"
   ]
  },
  {
   "cell_type": "raw",
   "id": "594b7a59-2803-449a-95ea-180c43b74212",
   "metadata": {},
   "source": [
    "# # NOT USED (decided no need to show pdf in the book)\n",
    "# filename = os.path.join(DESTDIR, \"plot_pdf_normal_mu1000_sigma10.pdf\")\n",
    "# savefigure(ax, filename)"
   ]
  },
  {
   "cell_type": "markdown",
   "id": "666e2959-0b03-4623-a4d8-b00bf876af4d",
   "metadata": {},
   "source": [
    "##### Sampling distribution of the sample mean"
   ]
  },
  {
   "cell_type": "code",
   "execution_count": 32,
   "id": "2da82019-6432-43a8-8d98-cedbad02f79a",
   "metadata": {},
   "outputs": [
    {
     "data": {
      "image/png": "[encoded data removed]",
      "text/plain": [
       "<Figure size 720x216 with 1 Axes>"
      ]
     },
     "metadata": {
      "image/png": {
       "height": 211,
       "width": 613
      }
     },
     "output_type": "display_data"
    }
   ],
   "source": [
    "np.random.seed(43)\n",
    "kbars = gen_sampling_dist(rvK, statfunc=mean, n=20)\n",
    "ax = sns.histplot(kbars, stat=\"density\", bins=100, color=orange)\n",
    "_ = ax.set_xlabel(\"$\\overline{\\mathbf{k}}$\")"
   ]
  },
  {
   "cell_type": "code",
   "execution_count": 33,
   "id": "667471ce-134c-4b02-98dd-f7aca3ef2b5d",
   "metadata": {},
   "outputs": [
    {
     "name": "stdout",
     "output_type": "stream",
     "text": [
      "Saved figure to figures/stats/estimators/sampling_dist_mean_rvK_n20.pdf\n",
      "Saved figure to figures/stats/estimators/sampling_dist_mean_rvK_n20.png\n"
     ]
    }
   ],
   "source": [
    "filename = os.path.join(DESTDIR, \"sampling_dist_mean_rvK_n20.pdf\")\n",
    "savefigure(ax, filename)"
   ]
  },
  {
   "cell_type": "code",
   "execution_count": 34,
   "id": "71040005-7e2a-47de-b8a7-9931353bdd3a",
   "metadata": {},
   "outputs": [
    {
     "data": {
      "text/plain": [
       "(999.9759718368696, 1000)"
      ]
     },
     "execution_count": 34,
     "metadata": {},
     "output_type": "execute_result"
    }
   ],
   "source": [
    "# observed,        expected    \n",
    "np.mean(kbars),    muK"
   ]
  },
  {
   "cell_type": "markdown",
   "id": "6b17c161-574f-469f-9027-3c3a067f0a59",
   "metadata": {},
   "source": [
    "Let's calculate the variance "
   ]
  },
  {
   "cell_type": "code",
   "execution_count": 35,
   "id": "35a501ff-1abb-44a1-a1d3-df65ed20e741",
   "metadata": {},
   "outputs": [
    {
     "data": {
      "text/plain": [
       "(2.208170264354007,)"
      ]
     },
     "execution_count": 35,
     "metadata": {},
     "output_type": "execute_result"
    }
   ],
   "source": [
    "# observed              expected\n",
    "np.std(kbars,ddof=1),   "
   ]
  },
  {
   "cell_type": "code",
   "execution_count": 36,
   "id": "accc7eaf-3136-4fca-a487-50c688f2741f",
   "metadata": {},
   "outputs": [
    {
     "data": {
      "text/plain": [
       "2.23606797749979"
      ]
     },
     "execution_count": 36,
     "metadata": {},
     "output_type": "execute_result"
    }
   ],
   "source": [
    "sigmaK / np.sqrt(20)"
   ]
  },
  {
   "cell_type": "code",
   "execution_count": null,
   "id": "3f8cd205-8ce0-4c23-bd2f-1ac0f855747f",
   "metadata": {},
   "outputs": [],
   "source": []
  },
  {
   "cell_type": "markdown",
   "id": "d1a2d260-0189-45bf-8e5a-9130647fb284",
   "metadata": {},
   "source": [
    "##### Sampling distribution of the sample variance"
   ]
  },
  {
   "cell_type": "code",
   "execution_count": 37,
   "id": "5ff90f1e-2330-421f-b6b9-62fbaea5033c",
   "metadata": {},
   "outputs": [
    {
     "data": {
      "image/png": "[encoded data removed]",
      "text/plain": [
       "<Figure size 720x216 with 1 Axes>"
      ]
     },
     "metadata": {
      "image/png": {
       "height": 212,
       "width": 613
      }
     },
     "output_type": "display_data"
    }
   ],
   "source": [
    "np.random.seed(44)\n",
    "kvars = gen_sampling_dist(rvK, statfunc=var, n=20)\n",
    "ax = sns.histplot(kvars, stat=\"density\", bins=100, color=orange)\n",
    "_ = ax.set_xlabel(\"$s^2_{\\mathbf{k}}$\")"
   ]
  },
  {
   "cell_type": "code",
   "execution_count": 38,
   "id": "9f9c295f-bca9-4864-aea0-4bcf6847b78d",
   "metadata": {},
   "outputs": [
    {
     "name": "stdout",
     "output_type": "stream",
     "text": [
      "Saved figure to figures/stats/estimators/sampling_dist_var_rvK_n20.pdf\n",
      "Saved figure to figures/stats/estimators/sampling_dist_var_rvK_n20.png\n"
     ]
    }
   ],
   "source": [
    "filename = os.path.join(DESTDIR, \"sampling_dist_var_rvK_n20.pdf\")\n",
    "savefigure(ax, filename)"
   ]
  },
  {
   "cell_type": "code",
   "execution_count": 39,
   "id": "99333769-27e5-40b5-8693-1899a628dfd4",
   "metadata": {},
   "outputs": [
    {
     "data": {
      "text/plain": [
       "(99.39922540353122, 100)"
      ]
     },
     "execution_count": 39,
     "metadata": {},
     "output_type": "execute_result"
    }
   ],
   "source": [
    "# observed        expected    \n",
    "np.mean(kvars),   sigmaK**2"
   ]
  },
  {
   "cell_type": "code",
   "execution_count": null,
   "id": "e6bf3701-e591-4551-8ae2-23598403ed6a",
   "metadata": {},
   "outputs": [],
   "source": []
  },
  {
   "cell_type": "code",
   "execution_count": null,
   "id": "58059581-cb09-4aed-9656-189e72629312",
   "metadata": {},
   "outputs": [],
   "source": []
  },
  {
   "cell_type": "code",
   "execution_count": null,
   "id": "321bdfe8-9954-4c07-8142-9ca9026c3232",
   "metadata": {},
   "outputs": [],
   "source": []
  },
  {
   "cell_type": "markdown",
   "id": "b68e4f3e-34bc-4beb-8778-56746a7683e0",
   "metadata": {},
   "source": [
    "### EDITME\n",
    "\n",
    "##### Ground truth for estimates\n",
    "\n",
    "Let's generate a particular sample to use in examples."
   ]
  },
  {
   "cell_type": "code",
   "execution_count": 40,
   "id": "5b898318-793d-4460-8e3b-3ad996393891",
   "metadata": {},
   "outputs": [],
   "source": [
    "kombucha = pd.read_csv(\"../datasets/kombucha.csv\")\n",
    "batch02 = kombucha[kombucha[\"batch\"]==2]\n",
    "ksample02 = batch02[\"volume\"]"
   ]
  },
  {
   "cell_type": "code",
   "execution_count": null,
   "id": "75910bae-e1e9-47e0-9564-b48c32d50926",
   "metadata": {},
   "outputs": [],
   "source": []
  },
  {
   "cell_type": "code",
   "execution_count": 41,
   "id": "faa14a1e-b607-488d-abc6-cf15c6ef3630",
   "metadata": {},
   "outputs": [
    {
     "data": {
      "text/plain": [
       "997.9069999999999"
      ]
     },
     "execution_count": 41,
     "metadata": {},
     "output_type": "execute_result"
    }
   ],
   "source": [
    "mean(ksample02)"
   ]
  },
  {
   "cell_type": "code",
   "execution_count": null,
   "id": "0974a47e-5433-4a64-b68f-95a8f2f175be",
   "metadata": {},
   "outputs": [],
   "source": []
  },
  {
   "cell_type": "code",
   "execution_count": 42,
   "id": "03aefbbb-73b6-4544-9a35-66a76fa2da30",
   "metadata": {},
   "outputs": [
    {
     "data": {
      "text/plain": [
       "(124.31760105263136, 11.149780314097285)"
      ]
     },
     "execution_count": 42,
     "metadata": {},
     "output_type": "execute_result"
    }
   ],
   "source": [
    "var(ksample02), std(ksample02)"
   ]
  },
  {
   "cell_type": "code",
   "execution_count": null,
   "id": "9d0261a5-d2af-4cdd-aac7-bde6e49841ae",
   "metadata": {},
   "outputs": [],
   "source": []
  },
  {
   "cell_type": "markdown",
   "id": "14f78a67-9767-4600-8d65-13df6eb799a1",
   "metadata": {},
   "source": [
    "#### EDITME\n",
    "\n",
    "\n",
    "##### Ground truth for sampling distributions\n",
    "\n",
    "The sampling distribution graphs we saw above represent the true sampling distributions\n",
    "for the estimators $\\Mean$, $\\Var$, etc.,\n",
    "generated from samples of size $n=20$ from the population\n",
    "$K \\sim \\mathcal{N}(\\mu_K=1000, \\sigma_K=10)$.\n",
    "\n",
    "We can therefore use them as the \"ground truth\" for the approximations techniques\n",
    "we'll learn about in the next two subsections."
   ]
  },
  {
   "cell_type": "code",
   "execution_count": null,
   "id": "111f64f4-2810-4a9e-9cea-7f6b5112ce41",
   "metadata": {},
   "outputs": [],
   "source": []
  },
  {
   "cell_type": "code",
   "execution_count": null,
   "id": "f4645156-daee-40fb-a795-5a1b354400cb",
   "metadata": {},
   "outputs": [],
   "source": []
  },
  {
   "cell_type": "markdown",
   "id": "6d268c4e-06bb-4c3e-995b-4646c5072c63",
   "metadata": {},
   "source": [
    "### Estimator properties\n",
    "\n",
    "- **bias**\n",
    "- **variance**\n",
    "  The square root of the variance of an estimator is called the **standard error**.\n",
    "\n",
    "\n",
    "![bias and variance](attachments/stats/estimators/bias_and_variance_targets.png)"
   ]
  },
  {
   "cell_type": "code",
   "execution_count": null,
   "id": "15e3ffe8-1114-4f0d-971b-cac6731a71d0",
   "metadata": {},
   "outputs": [],
   "source": []
  },
  {
   "cell_type": "code",
   "execution_count": null,
   "id": "4e0db908-ea4d-4b34-902a-3a520ae8ff4e",
   "metadata": {},
   "outputs": [],
   "source": []
  },
  {
   "cell_type": "markdown",
   "id": "bad1dc92-98d7-4c9f-9181-172df56bc5bc",
   "metadata": {},
   "source": [
    "### Analytical approximation formulas\n",
    "\n",
    "We can use probability theory formulas to come up with approximations\n",
    "for certain sampling distributions."
   ]
  },
  {
   "cell_type": "code",
   "execution_count": null,
   "id": "a5daf900-0b79-4b84-ad1a-e00a5779b062",
   "metadata": {},
   "outputs": [],
   "source": []
  },
  {
   "cell_type": "markdown",
   "id": "33a340c8-2576-4d86-b1c8-ac1faff8dcfe",
   "metadata": {},
   "source": [
    "### Bootstrap estimation"
   ]
  },
  {
   "cell_type": "code",
   "execution_count": 43,
   "id": "ac186810-4301-4b08-95ea-f4a4bf7f4f3d",
   "metadata": {},
   "outputs": [],
   "source": [
    "#######################################################\n",
    "def bootstrap_stat(sample, statfunc, B=5000):\n",
    "    \"\"\"\n",
    "    Compute the sampling distribiton of `statfunc`\n",
    "    from `B` bootstrap samples generated from `sample`.\n",
    "    \"\"\"\n",
    "    n = len(sample)\n",
    "    bstats = []\n",
    "    for i in range(0, B):\n",
    "        bsample = np.random.choice(sample, n, replace=True)\n",
    "        bstat = statfunc(bsample)\n",
    "        bstats.append(bstat)\n",
    "    return bstats"
   ]
  },
  {
   "cell_type": "code",
   "execution_count": null,
   "id": "ffde5ba3-70c6-4d1f-8c6e-c3157ca9d9ec",
   "metadata": {},
   "outputs": [],
   "source": []
  },
  {
   "cell_type": "markdown",
   "id": "3ff2b301-2f03-4454-9cce-c5389ba42a51",
   "metadata": {},
   "source": [
    "### EDIT ME\n",
    "\n",
    "#### Approximations \n",
    "\n",
    "\n",
    "\n",
    "Recall the sample `ksample02` that comes from Batch 02 of the kombucha bottling plant."
   ]
  },
  {
   "cell_type": "code",
   "execution_count": 44,
   "id": "fa34ea93-2bbd-4e01-8f76-1483f3b65cae",
   "metadata": {},
   "outputs": [],
   "source": [
    "# ksample02"
   ]
  },
  {
   "cell_type": "code",
   "execution_count": 45,
   "id": "f557bd6c-ac5a-4d23-a2ea-18b37768af2f",
   "metadata": {},
   "outputs": [
    {
     "data": {
      "text/plain": [
       "997.9070000000002"
      ]
     },
     "execution_count": 45,
     "metadata": {},
     "output_type": "execute_result"
    }
   ],
   "source": [
    "ksample02.mean()"
   ]
  },
  {
   "cell_type": "code",
   "execution_count": 46,
   "id": "b1b220a2-1edb-4e5e-9a16-f18b3cc0bc84",
   "metadata": {},
   "outputs": [
    {
     "data": {
      "text/plain": [
       "124.31760105263139"
      ]
     },
     "execution_count": 46,
     "metadata": {},
     "output_type": "execute_result"
    }
   ],
   "source": [
    "ksample02.var()"
   ]
  },
  {
   "cell_type": "code",
   "execution_count": null,
   "id": "6731747e-c5be-4ee4-a7a2-ca077baa6169",
   "metadata": {},
   "outputs": [],
   "source": []
  },
  {
   "cell_type": "code",
   "execution_count": null,
   "id": "0baf8e9e-844a-4922-8766-821cc0dd48ea",
   "metadata": {},
   "outputs": [],
   "source": []
  },
  {
   "cell_type": "markdown",
   "id": "05561e82-2ad9-4801-bcc0-8055fec5d8af",
   "metadata": {
    "tags": []
   },
   "source": [
    "## Sampling distribution of the mean\n",
    "\n",
    "The central limit theorem tells us everything we need to know about the sampling distribution of the sample mean estimator $\\Mean$,\n",
    "which corresponds to the random variable $\\overline{\\mathbf{X}} = \\Mean(\\mathbf{X})$.\n",
    "\n",
    "The central limit theorem states that the sampling distribution of the mean \n",
    "converges to a normal distribution as $n$ goes to infinity:\n",
    "$$\n",
    "    \\overline{\\mathbf{X}}\n",
    "    \\quad \\sim \\quad\n",
    "    \\mathcal{N}\\big(\\mu_X, \\tfrac{\\sigma_X}{\\sqrt{n}} \\big).\n",
    "$$\n",
    "Note the central limit theorem gives a sampling distribution of the sample mean\n",
    "computed from samples taken from **any** population $X \\sim \\mathcal{M}(\\theta)$."
   ]
  },
  {
   "cell_type": "markdown",
   "id": "bcc78abe-1d5c-41e1-a2e4-f46d41eaab3d",
   "metadata": {},
   "source": [
    "#### Verification of the CLT\n",
    "\n",
    "The true sampling distribution of the sample mean generated using simulation\n",
    "from thousands of samples of size $n=7$."
   ]
  },
  {
   "cell_type": "code",
   "execution_count": 47,
   "id": "e0533635-e300-483a-9874-dab21c0fc886",
   "metadata": {},
   "outputs": [
    {
     "data": {
      "image/png": "[encoded data removed]",
      "text/plain": [
       "<Figure size 720x216 with 1 Axes>"
      ]
     },
     "metadata": {
      "image/png": {
       "height": 211,
       "width": 609
      }
     },
     "output_type": "display_data"
    }
   ],
   "source": [
    "np.random.seed(48)\n",
    "kbars7 = gen_sampling_dist(rvK, statfunc=mean, n=7)\n",
    "ax = sns.histplot(kbars7, stat=\"density\", bins=100, color=orange)\n",
    "_ = ax.set_xlabel(\"$\\overline{\\mathbf{k}}$\")"
   ]
  },
  {
   "cell_type": "markdown",
   "id": "5e843b12-90fa-4727-aae5-683b4259a05f",
   "metadata": {},
   "source": [
    "Let's now superimpose a lineplot of the analytical approximation formula\n",
    "we obtain from the central limit theorem."
   ]
  },
  {
   "cell_type": "code",
   "execution_count": 48,
   "id": "344aa19c-d326-4172-a238-7e0209eec27f",
   "metadata": {},
   "outputs": [
    {
     "data": {
      "image/png": "[encoded data removed]",
      "text/plain": [
       "<Figure size 720x216 with 1 Axes>"
      ]
     },
     "metadata": {
      "image/png": {
       "height": 211,
       "width": 611
      }
     },
     "output_type": "display_data"
    }
   ],
   "source": [
    "# mean equal to the population mean\n",
    "muKbar = muK\n",
    "\n",
    "# standard error (according to CLT)\n",
    "seKbar = rvK.std() / np.sqrt(7)\n",
    "\n",
    "# sampling distribution of the mean according to CLT\n",
    "rvKbarCLT = norm(muKbar, seKbar)\n",
    "\n",
    "# plot hist and pdf superimposed\n",
    "ax = sns.histplot(kbars7, stat=\"density\", bins=100, color=orange)\n",
    "plot_pdf(rvKbarCLT, ax=ax, xlims=[985,1015], color=purple)\n",
    "_ = ax.set_xlabel(\"$\\overline{\\mathbf{k}}$\")"
   ]
  },
  {
   "cell_type": "code",
   "execution_count": 49,
   "id": "ffd02e2f-a0d1-4f73-81bf-4ef79de1582a",
   "metadata": {},
   "outputs": [
    {
     "name": "stdout",
     "output_type": "stream",
     "text": [
      "Saved figure to figures/stats/estimators/sampling_dist_mean_rvK_simulation_and_CLT_n7.pdf\n",
      "Saved figure to figures/stats/estimators/sampling_dist_mean_rvK_simulation_and_CLT_n7.png\n"
     ]
    }
   ],
   "source": [
    "filename = os.path.join(DESTDIR, \"sampling_dist_mean_rvK_simulation_and_CLT_n7.pdf\")\n",
    "savefigure(ax, filename)"
   ]
  },
  {
   "cell_type": "code",
   "execution_count": null,
   "id": "9e912074-c360-4da9-9b33-8cbfa3e47e87",
   "metadata": {},
   "outputs": [],
   "source": []
  },
  {
   "cell_type": "markdown",
   "id": "9ac90066-6825-4538-9dce-504812b8d47b",
   "metadata": {},
   "source": [
    "#### Analysis for sample of size $n=7$"
   ]
  },
  {
   "cell_type": "markdown",
   "id": "537fec08-af28-444a-ac75-7442e52576f4",
   "metadata": {},
   "source": [
    "##### True sampling distribution of the sample mean\n",
    "We start by running a simulation to obtain the true sampling distribution of the sample mean\n",
    "for samples of size $n=7$ from the population $N \\sim \\mathcal{N}(1000,100)$."
   ]
  },
  {
   "cell_type": "code",
   "execution_count": 50,
   "id": "8d28cfd8-34ed-43fe-a9f2-b2fcacd862eb",
   "metadata": {},
   "outputs": [
    {
     "data": {
      "image/png": "[encoded data removed]",
      "text/plain": [
       "<Figure size 720x216 with 1 Axes>"
      ]
     },
     "metadata": {
      "image/png": {
       "height": 211,
       "width": 609
      }
     },
     "output_type": "display_data"
    }
   ],
   "source": [
    "# np.random.seed(48)\n",
    "# kbars7 = gen_sampling_dist(rvK, statfunc=mean, n=7, N=50000)\n",
    "ax = sns.histplot(kbars7, stat=\"density\", bins=100, color=orange)\n",
    "_ = ax.set_xlabel(\"$\\overline{\\mathbf{k}}$\")"
   ]
  },
  {
   "cell_type": "markdown",
   "id": "ab281119-3e35-42a2-a45d-2fd6310909d5",
   "metadata": {},
   "source": [
    "##### A particular sample of size $n=7$"
   ]
  },
  {
   "cell_type": "markdown",
   "id": "408d8657-37d3-4ce1-9cbc-90137139ce5b",
   "metadata": {},
   "source": [
    "Next we generate a particular sample of size $n=7$,\n",
    "which is analogous to the operation of a statistical analysis in the real world,\n",
    "when we don't know the variance of the distribution."
   ]
  },
  {
   "cell_type": "code",
   "execution_count": 51,
   "id": "6d607f17-3800-48b2-8682-cea8c006124d",
   "metadata": {},
   "outputs": [],
   "source": [
    "kombucha = pd.read_csv(\"../datasets/kombucha.csv\")\n",
    "batch03 = kombucha[kombucha[\"batch\"]==3]\n",
    "ksample03 = batch03[\"volume\"]\n",
    "# ksample03"
   ]
  },
  {
   "cell_type": "code",
   "execution_count": 52,
   "id": "2c757596-0e59-4a52-bf08-12c114377980",
   "metadata": {},
   "outputs": [
    {
     "data": {
      "text/plain": [
       "1000.5371428571427"
      ]
     },
     "execution_count": 52,
     "metadata": {},
     "output_type": "execute_result"
    }
   ],
   "source": [
    "mean(ksample03)"
   ]
  },
  {
   "cell_type": "code",
   "execution_count": 53,
   "id": "9babb12e-1b69-4af2-b228-3ba9d5d57148",
   "metadata": {},
   "outputs": [
    {
     "data": {
      "text/plain": [
       "8.519494731273129"
      ]
     },
     "execution_count": 53,
     "metadata": {},
     "output_type": "execute_result"
    }
   ],
   "source": [
    "kstd7 = std(ksample03)\n",
    "kstd7"
   ]
  },
  {
   "cell_type": "code",
   "execution_count": 54,
   "id": "32d36aec-2704-4c93-be8b-e6f05781ba24",
   "metadata": {},
   "outputs": [
    {
     "data": {
      "text/plain": [
       "10"
      ]
     },
     "execution_count": 54,
     "metadata": {},
     "output_type": "execute_result"
    }
   ],
   "source": [
    "# the true population standard deviation\n",
    "sigmaK"
   ]
  },
  {
   "cell_type": "markdown",
   "id": "084427bb-4107-4f0c-8102-30f6ddbfcab1",
   "metadata": {},
   "source": [
    "##### Normal approximation to the sampling distribution"
   ]
  },
  {
   "cell_type": "markdown",
   "id": "a641e29f-23c8-4e36-894c-ece93a2892e4",
   "metadata": {},
   "source": [
    "We now obtain the best normal approximation based on the estimated standard error `sehat`\n",
    "that we computed from the data in `ksample03`."
   ]
  },
  {
   "cell_type": "code",
   "execution_count": 55,
   "id": "c3e85967-9e47-4988-a104-4220fa90acf3",
   "metadata": {},
   "outputs": [
    {
     "data": {
      "image/png": "[encoded data removed]",
      "text/plain": [
       "<Figure size 720x216 with 1 Axes>"
      ]
     },
     "metadata": {
      "image/png": {
       "height": 211,
       "width": 611
      }
     },
     "output_type": "display_data"
    }
   ],
   "source": [
    "# standard error estimated from `ksample03`\n",
    "sehat = std(ksample03) / np.sqrt(7)\n",
    "\n",
    "rvNKbar = norm(muK, sehat)\n",
    "\n",
    "ax = sns.histplot(kbars7, stat=\"density\", bins=100, color=orange)\n",
    "plot_pdf(rvNKbar, ax=ax, xlims=[985,1015], color=\"red\")\n",
    "_ = ax.set_xlabel(\"$\\overline{\\mathbf{k}}$\")"
   ]
  },
  {
   "cell_type": "code",
   "execution_count": 56,
   "id": "c23a3a84-7ca7-4dcc-82c7-55bbfc3a362f",
   "metadata": {},
   "outputs": [
    {
     "name": "stdout",
     "output_type": "stream",
     "text": [
      "Saved figure to figures/stats/estimators/sampling_dist_mean_rvK_and_normal_approx_n7.pdf\n",
      "Saved figure to figures/stats/estimators/sampling_dist_mean_rvK_and_normal_approx_n7.png\n"
     ]
    }
   ],
   "source": [
    "filename = os.path.join(DESTDIR, \"sampling_dist_mean_rvK_and_normal_approx_n7.pdf\")\n",
    "savefigure(ax, filename)"
   ]
  },
  {
   "cell_type": "markdown",
   "id": "aac63f8e-0800-4ccc-85d4-cc7e646c29d4",
   "metadata": {},
   "source": [
    "#### A better reference distribution\n",
    "\n",
    "Obtain Student's $t$-distribution based on the estimated standard error `sehat`\n",
    "that we computed from the data in `ksample03`."
   ]
  },
  {
   "cell_type": "code",
   "execution_count": 57,
   "id": "ccedd23b-7f8e-4dd6-8f40-6c63717500f4",
   "metadata": {},
   "outputs": [
    {
     "data": {
      "image/png": "[encoded data removed]",
      "text/plain": [
       "<Figure size 720x216 with 1 Axes>"
      ]
     },
     "metadata": {
      "image/png": {
       "height": 211,
       "width": 611
      }
     },
     "output_type": "display_data"
    }
   ],
   "source": [
    "from scipy.stats import t as tdist\n",
    "\n",
    "# standard error estimated from `ksample03`\n",
    "sehat = std(ksample03) / np.sqrt(7)\n",
    "df = 7 - 1  # (n-1) degrees of freedom\n",
    "\n",
    "rvKbar = tdist(df, loc=muK, scale=sehat)\n",
    "\n",
    "ax = sns.histplot(kbars7, stat=\"density\", bins=100, color=orange)\n",
    "plot_pdf(rvKbar, ax=ax, xlims=[985,1015], color=purple)\n",
    "_ = ax.set_xlabel(\"$\\overline{\\mathbf{k}}$\")"
   ]
  },
  {
   "cell_type": "code",
   "execution_count": 58,
   "id": "0e906f9a-82c2-450b-ad89-b2809d7b1af1",
   "metadata": {},
   "outputs": [
    {
     "name": "stdout",
     "output_type": "stream",
     "text": [
      "Saved figure to figures/stats/estimators/sampling_dist_mean_rvK_and_T_approx_n7.pdf\n",
      "Saved figure to figures/stats/estimators/sampling_dist_mean_rvK_and_T_approx_n7.png\n"
     ]
    }
   ],
   "source": [
    "filename = os.path.join(DESTDIR, \"sampling_dist_mean_rvK_and_T_approx_n7.pdf\")\n",
    "savefigure(ax, filename)"
   ]
  },
  {
   "cell_type": "code",
   "execution_count": null,
   "id": "86aeb29e-83e1-4a81-93f9-7a15f7bdaab4",
   "metadata": {},
   "outputs": [],
   "source": []
  },
  {
   "cell_type": "code",
   "execution_count": null,
   "id": "54277ab8-9ccb-41fb-9ef4-fa9ac89fdf37",
   "metadata": {},
   "outputs": [],
   "source": []
  },
  {
   "cell_type": "markdown",
   "id": "102c1145-80d4-457d-b261-dae6aa3b721b",
   "metadata": {},
   "source": [
    "#### Bootstrapped sampling distribution of the sample mean"
   ]
  },
  {
   "cell_type": "code",
   "execution_count": 59,
   "id": "d3b9c146-0589-4b54-b05b-8e1380c98983",
   "metadata": {},
   "outputs": [
    {
     "data": {
      "image/png": "[encoded data removed]",
      "text/plain": [
       "<Figure size 720x216 with 1 Axes>"
      ]
     },
     "metadata": {
      "image/png": {
       "height": 211,
       "width": 609
      }
     },
     "output_type": "display_data"
    }
   ],
   "source": [
    "np.random.seed(48)\n",
    "kbars7_boot = bootstrap_stat(ksample03, statfunc=mean)\n",
    "ax = sns.histplot(kbars7_boot, stat=\"density\")\n",
    "_ = ax.set_xlabel(\"$\\overline{\\mathbf{k}}$\")"
   ]
  },
  {
   "cell_type": "code",
   "execution_count": 60,
   "id": "1fb0cc71-2818-4f1f-b8a2-2a5af85b6026",
   "metadata": {},
   "outputs": [
    {
     "name": "stdout",
     "output_type": "stream",
     "text": [
      "Saved figure to figures/stats/estimators/bootstrap_dist_mean_kombucha_ksample03.pdf\n",
      "Saved figure to figures/stats/estimators/bootstrap_dist_mean_kombucha_ksample03.png\n"
     ]
    }
   ],
   "source": [
    "filename = os.path.join(DESTDIR, \"bootstrap_dist_mean_kombucha_ksample03.pdf\")\n",
    "savefigure(ax, filename)"
   ]
  },
  {
   "cell_type": "markdown",
   "id": "2b2014b3-fd4c-48c3-bc5f-20f75d31b89c",
   "metadata": {},
   "source": [
    "The expected value and the standard error of the sampling distribution\n",
    "we obtained using bootstrap estimation are:"
   ]
  },
  {
   "cell_type": "code",
   "execution_count": 61,
   "id": "b3adf544-8b83-40dc-8346-c3842de9cf5d",
   "metadata": {},
   "outputs": [
    {
     "data": {
      "text/plain": [
       "(1000.5607797142856, 2.9676036319065293)"
      ]
     },
     "execution_count": 61,
     "metadata": {},
     "output_type": "execute_result"
    }
   ],
   "source": [
    "np.mean(kbars7_boot), np.std(kbars7_boot, ddof=1)"
   ]
  },
  {
   "cell_type": "markdown",
   "id": "9c13d862-e1c2-4e0a-adc6-1cc62785996d",
   "metadata": {},
   "source": [
    "These numbers are pretty close to the true paramters,\n",
    "which we obtained using simulation."
   ]
  },
  {
   "cell_type": "code",
   "execution_count": 62,
   "id": "d6c27801-9690-46e7-8d3e-2cf406793fda",
   "metadata": {},
   "outputs": [
    {
     "data": {
      "text/plain": [
       "(999.9232910137121, 3.8212371387075468)"
      ]
     },
     "execution_count": 62,
     "metadata": {},
     "output_type": "execute_result"
    }
   ],
   "source": [
    "np.mean(kbars7), np.std(kbars7, ddof=1)"
   ]
  },
  {
   "cell_type": "code",
   "execution_count": null,
   "id": "81339e5d-f878-4d07-b177-935c60f63b2d",
   "metadata": {},
   "outputs": [],
   "source": []
  },
  {
   "cell_type": "code",
   "execution_count": null,
   "id": "f5495ffb-1e12-4e1b-8a76-7a8e7f9ab9fd",
   "metadata": {},
   "outputs": [],
   "source": []
  },
  {
   "cell_type": "markdown",
   "id": "6ff80edc-3910-4096-ae4c-2b1768cfa4d1",
   "metadata": {
    "tags": []
   },
   "source": [
    "## Sample variance estimator\n",
    "\n",
    "When the population is normally distributed $X \\sim \\mathcal{N}(\\mu,\\sigma)$,\n",
    "the sampling distribution of the sample variance $S_{\\mathbf{x}}^2$\n",
    "is described by a scaled version of the chi-square distribution:\n",
    "$$\n",
    "    S_{\\mathbf{x}}^2\n",
    "    \\;\\; \\sim \\;\\;\n",
    "    \\underbrace{\\frac{ \\sigma^2 }{ (n-1) } }_{\\tt{scale}} \\; \\cdot \\; \\chi^2_{(n-1)}\n",
    "$$\n",
    "where $n$ is the sample size and $\\chi^2_{(n-1)}$ is the chi-square distribution with $n-1$ degrees of freedom."
   ]
  },
  {
   "cell_type": "markdown",
   "id": "314034e3-eae0-40da-8620-d1d034301a31",
   "metadata": {},
   "source": [
    "#### Sampling distribution of the variance\n",
    "\n",
    "Let's start by plotting a histogram of the sampling distribution of the variance\n",
    "computed from samples of size $n=20$ from the random variable `rvK` = $K \\sim \\mathcal{N}(\\mu_K=1000,\\sigma_K=10)$."
   ]
  },
  {
   "cell_type": "code",
   "execution_count": 63,
   "id": "3071d68b-95b9-4cc9-a862-36d55c6e4e3b",
   "metadata": {},
   "outputs": [
    {
     "data": {
      "image/png": "[encoded data removed]",
      "text/plain": [
       "<Figure size 720x216 with 1 Axes>"
      ]
     },
     "metadata": {
      "image/png": {
       "height": 195,
       "width": 613
      }
     },
     "output_type": "display_data"
    }
   ],
   "source": [
    "np.random.seed(44)\n",
    "kvars20 = gen_sampling_dist(rvK, statfunc=var, n=20)\n",
    "ax = sns.histplot(kvars20, stat=\"density\", bins=100, color=orange)"
   ]
  },
  {
   "cell_type": "markdown",
   "id": "ab1882ec-1d2e-4115-99f4-b0f694130a46",
   "metadata": {},
   "source": [
    "Let's now superimpose the chi-square distribution with $20-1=19$ degrees of freedom,\n",
    "with scale parameter set to $\\sigma_N^2/(n-1)$."
   ]
  },
  {
   "cell_type": "code",
   "execution_count": 64,
   "id": "4ffd8359-5903-43ca-9542-f548711baae3",
   "metadata": {},
   "outputs": [
    {
     "data": {
      "image/png": "[encoded data removed]",
      "text/plain": [
       "<Figure size 720x216 with 1 Axes>"
      ]
     },
     "metadata": {
      "image/png": {
       "height": 212,
       "width": 615
      }
     },
     "output_type": "display_data"
    }
   ],
   "source": [
    "from scipy.stats import chi2\n",
    "\n",
    "df = 20 - 1\n",
    "scale = sigmaK**2 / (20-1)\n",
    "rvS2 = chi2(df, loc=0, scale=scale)\n",
    "\n",
    "ax = sns.histplot(kvars20, stat=\"density\", bins=100, color=orange)\n",
    "plot_pdf(rvS2, ax=ax, color=purple)\n",
    "_ = ax.set_xlabel(\"$s^2_{\\mathbf{k}}$\")"
   ]
  },
  {
   "cell_type": "code",
   "execution_count": 65,
   "id": "1b203bd6-122a-4533-b6ba-97a1556f4411",
   "metadata": {},
   "outputs": [
    {
     "name": "stdout",
     "output_type": "stream",
     "text": [
      "Saved figure to figures/stats/estimators/sampling_dist_var_rvK_and_X2_approx_n20.pdf\n",
      "Saved figure to figures/stats/estimators/sampling_dist_var_rvK_and_X2_approx_n20.png\n"
     ]
    }
   ],
   "source": [
    "filename = os.path.join(DESTDIR, \"sampling_dist_var_rvK_and_X2_approx_n20.pdf\")\n",
    "savefigure(ax, filename)"
   ]
  },
  {
   "cell_type": "code",
   "execution_count": null,
   "id": "253ad93a-c6f6-4394-89e8-db5f8634d834",
   "metadata": {},
   "outputs": [],
   "source": []
  },
  {
   "cell_type": "code",
   "execution_count": null,
   "id": "51547b72-be2b-4a04-9237-38e2f3e12ca8",
   "metadata": {},
   "outputs": [],
   "source": []
  },
  {
   "cell_type": "markdown",
   "id": "7c73e999-3d8e-46b6-a5cb-b0241ca1000b",
   "metadata": {},
   "source": [
    "#### Bootstrapped sampling distribution of the sample variance"
   ]
  },
  {
   "cell_type": "code",
   "execution_count": 66,
   "id": "76e39476-9374-492b-aee0-519e4024c570",
   "metadata": {},
   "outputs": [
    {
     "data": {
      "text/plain": [
       "(124.31760105263136, 100.0)"
      ]
     },
     "execution_count": 66,
     "metadata": {},
     "output_type": "execute_result"
    }
   ],
   "source": [
    "var(ksample02), rvK.var()"
   ]
  },
  {
   "cell_type": "code",
   "execution_count": 67,
   "id": "ead9ab5b-ce65-4fbd-b9ad-00e8abd3dd23",
   "metadata": {},
   "outputs": [
    {
     "data": {
      "image/png": "[encoded data removed]",
      "text/plain": [
       "<Figure size 720x216 with 1 Axes>"
      ]
     },
     "metadata": {
      "image/png": {
       "height": 212,
       "width": 613
      }
     },
     "output_type": "display_data"
    }
   ],
   "source": [
    "np.random.seed(49)\n",
    "kvars20_boot = bootstrap_stat(ksample02, statfunc=var)\n",
    "ax = sns.histplot(kvars20_boot, stat=\"density\")\n",
    "_ = ax.set_xlabel(\"$s^2_{\\mathbf{k}}$\")"
   ]
  },
  {
   "cell_type": "code",
   "execution_count": 68,
   "id": "d2ff209c-0f0f-460b-9ae9-85f2406d59d9",
   "metadata": {},
   "outputs": [
    {
     "name": "stdout",
     "output_type": "stream",
     "text": [
      "Saved figure to figures/stats/estimators/bootstrap_dist_var_kombucha_ksample02.pdf\n",
      "Saved figure to figures/stats/estimators/bootstrap_dist_var_kombucha_ksample02.png\n"
     ]
    }
   ],
   "source": [
    "filename = os.path.join(DESTDIR, \"bootstrap_dist_var_kombucha_ksample02.pdf\")\n",
    "savefigure(ax, filename)"
   ]
  },
  {
   "cell_type": "markdown",
   "id": "11c8f09f-6c9d-4ec9-9ed9-477c569af809",
   "metadata": {},
   "source": [
    "The expected value and the standard error of the sampling distribution\n",
    "we obtained using bootstrap estimation are:"
   ]
  },
  {
   "cell_type": "code",
   "execution_count": 69,
   "id": "64a5c34f-4109-4db8-8481-9f60dfde708f",
   "metadata": {},
   "outputs": [
    {
     "data": {
      "text/plain": [
       "(118.6780201503156, 35.967557751577104)"
      ]
     },
     "execution_count": 69,
     "metadata": {},
     "output_type": "execute_result"
    }
   ],
   "source": [
    "np.mean(kvars20_boot), np.std(kvars20_boot, ddof=1)"
   ]
  },
  {
   "cell_type": "markdown",
   "id": "55605e19-39ea-4b86-b4fe-0c83ecc2cdb8",
   "metadata": {},
   "source": [
    "The expected value is an underestimate of the true mean for the sampling distribution."
   ]
  },
  {
   "cell_type": "code",
   "execution_count": 70,
   "id": "b7da152b-3c9d-43e0-a11c-59135f94c3fc",
   "metadata": {},
   "outputs": [
    {
     "data": {
      "text/plain": [
       "99.39922540353122"
      ]
     },
     "execution_count": 70,
     "metadata": {},
     "output_type": "execute_result"
    }
   ],
   "source": [
    "np.mean(kvars20)"
   ]
  },
  {
   "cell_type": "markdown",
   "id": "f300323e-ca5e-4240-b83d-c106680dc054",
   "metadata": {},
   "source": [
    "The standard error $\\stderrhat{s_{\\mathbf{k}}^2}^b=35.97$ of the sampling distribution\n",
    "is also an overestimate of the true standard error."
   ]
  },
  {
   "cell_type": "code",
   "execution_count": 71,
   "id": "843b371e-e29d-41f9-bbcb-f9217e48b0e5",
   "metadata": {},
   "outputs": [
    {
     "data": {
      "text/plain": [
       "32.274956066682975"
      ]
     },
     "execution_count": 71,
     "metadata": {},
     "output_type": "execute_result"
    }
   ],
   "source": [
    "np.std(kvars20, ddof=1)"
   ]
  },
  {
   "cell_type": "code",
   "execution_count": null,
   "id": "f22c0244-efbb-4e09-ab17-a2f02701bc52",
   "metadata": {},
   "outputs": [],
   "source": []
  },
  {
   "cell_type": "markdown",
   "id": "20bb60cf-1946-4feb-ad51-0b80546d2591",
   "metadata": {
    "tags": []
   },
   "source": [
    "## Difference between means estimator\n"
   ]
  },
  {
   "cell_type": "markdown",
   "id": "20facfbe-8b64-4b76-9772-0b3e3cdd15d6",
   "metadata": {
    "tags": []
   },
   "source": [
    "Consider two normally distributed random variables $X$ and $Y$:\n",
    "$$ \n",
    "X \\sim \\mathcal{N}\\!\\left(\\mu_X, \\sigma_X \\right)\n",
    "\\qquad\n",
    "\\textrm{and}\n",
    "\\qquad\n",
    "Y \\sim \\mathcal{N}\\!\\left(\\mu_Y, \\sigma_Y \\right)\n",
    "$$\n",
    "that describe the probability distribution for two groups.\n",
    "\n",
    "- A sample of size $n$ from $X$ is denoted $\\mathbf{x} = (x_1, x_2, \\ldots, x_{n})$=`xsample`,\n",
    "  and let $\\mathbf{y} = (y_1, y_2, \\ldots, y_{m})$=`ysample` be a random sample of size $m$ from $Y$.\n",
    "- We can compute the mean in each group: $\\overline{\\mathbf{x}} = \\Mean(\\mathbf{x})$\n",
    "  and $\\overline{\\mathbf{y}} = \\Mean(\\mathbf{y})$\n",
    "- We can also compute the sample variance from each group:\n",
    "   $s_{\\mathbf{x}}^2 = \\Var(\\mathbf{x})$\n",
    "   and $s_{\\mathbf{y}}^2 = \\Var(\\mathbf{y})$.\n",
    "- The value of the difference between means estimator is $\\hat{d} = \\DMeans(\\mathbf{x}, \\mathbf{y}) = \\overline{\\mathbf{x}} - \\overline{\\mathbf{y}}$.\n",
    "  The value $\\hat{d}$ is an estimate of the true different between\n",
    "  population means $\\Delta = \\mu_X - \\mu_Y$.\n",
    "\n",
    "\n",
    "#### Sampling distribution of the estimator `dmeans`\n",
    "\n",
    "Consider now the random samples $\\mathbf{X} = (X_1, X_2, \\ldots, X_{n})$\n",
    "and $\\mathbf{Y} = (Y_1, Y_2, \\ldots, Y_{m})$.\n",
    "The **sampling distribution** of the different between means estimator\n",
    "is defined as\n",
    "$$\n",
    "  \\hat{D} = \\overline{\\mathbf{X}} - \\overline{\\mathbf{Y}}.\n",
    "$$\n",
    "\n",
    "By definition, the sampling distribution of the estimator is obtained by repeatedly generating samples `xsample` and `ysample` from the two distributions and computing `dmeans` on the random samples. For example, we can obtain the sampling distribution by generating $N=1000$ samples.\n",
    "\n",
    "#### Theoretical model for the sampling distribution\n",
    "\n",
    "Let's now use probability theory to build a theoretical model for the sampling distribution of the difference-between-means estimator `dmeans`.\n",
    "\n",
    "- The central limit theorem tells us the sample mean within the two group are\n",
    "  $$\n",
    "  \\overline{\\mathbf{X}} \\sim \\mathcal{N}\\!\\left(\\mu_X, \\tfrac{\\sigma_X}{\\sqrt{n}} \\right)\n",
    "  \\qquad \\textrm{and} \\qquad\n",
    "  \\overline{\\mathbf{Y}} \\sim \\mathcal{N}\\!\\left(\\mu_Y, \\tfrac{\\sigma_Y}{\\sqrt{m}} \\right).\n",
    "  $$\n",
    "\n",
    "- The rules of probability theory tells us that the [difference of two normal random variables](https://en.wikipedia.org/wiki/Sum_of_normally_distributed_random_variables#Independent_random_variables) requires subtracting their means and adding their variance, so we get:\n",
    "  $$\n",
    "  \\hat{D}\n",
    "    \\sim\n",
    "    \\mathcal{N}\\!\\left(\n",
    "        \\mu_X - \\mu_Y, \\;\n",
    "        \\sqrt{\\tfrac{\\sigma^2_X}{n} + \\tfrac{\\sigma^2_Y}{m}}\n",
    "    \\right).\n",
    "  $$\n",
    "\n",
    "In other words, the sampling distribution for the difference between means estimator $\\hat{D}$ has mean and standard error given by:\n",
    "$$ \n",
    "   \\mu_{\\hat{D}} = \\Delta = \\mu_X - \\mu_Y\n",
    "   \\qquad \\textrm{and} \\qquad\n",
    "   \\stderr{\\hat{D}} = \\sqrt{ \\tfrac{\\sigma^2_X}{n} + \\tfrac{\\sigma^2_Y}{m}  }.\n",
    "$$"
   ]
  },
  {
   "cell_type": "markdown",
   "id": "182f44ed-c5c7-40d2-9baa-24a0e959fe62",
   "metadata": {},
   "source": [
    "#### Example 1 (continued): difference between electricity prices\n",
    "\n",
    "Probability theory predicts the sampling distribution had mean ..."
   ]
  },
  {
   "cell_type": "code",
   "execution_count": 72,
   "id": "e5a03f42-30b0-49e9-87f3-aa9ff6d8fd44",
   "metadata": {},
   "outputs": [],
   "source": [
    "eprices = pd.read_csv(\"../datasets/eprices.csv\")\n",
    "pricesW = eprices[eprices[\"end\"]==\"West\"][\"price\"]\n",
    "pricesE = eprices[eprices[\"end\"]==\"East\"][\"price\"]\n",
    "\n",
    "# sample size and std in East\n",
    "nW = pricesW.count()\n",
    "stdW = pricesW.std()\n",
    "\n",
    "# sample size and std in West\n",
    "nE = pricesE.count()\n",
    "stdE = pricesE.std()"
   ]
  },
  {
   "cell_type": "code",
   "execution_count": 73,
   "id": "f5ce9079-fd2f-40dd-a3a2-6820b4a63aa5",
   "metadata": {},
   "outputs": [
    {
     "data": {
      "text/plain": [
       "0.5972674401486562"
      ]
     },
     "execution_count": 73,
     "metadata": {},
     "output_type": "execute_result"
    }
   ],
   "source": [
    "seD = np.sqrt(stdW**2/nW + stdE**2/nE)\n",
    "seD"
   ]
  },
  {
   "cell_type": "markdown",
   "id": "104fac08-a2a4-4b64-a803-18078a86c3df",
   "metadata": {},
   "source": [
    "The degrees of freedom of is obtained by the following formula\n",
    "$$\n",
    "\\nu_{\\hat{d}}\n",
    "    \\;\\; = \\;\\;\n",
    "    \\frac{ (\\stderrhat{\\overline{\\mathbf{x}}}^2 + \\stderrhat{\\overline{\\mathbf{y}}}^2)^2 }\n",
    "        { \\frac{\\stderrhat{\\overline{\\mathbf{x}}}^4}{n-1} + \\frac{\\stderrhat{\\overline{\\mathbf{y}}}^4}{m-1}\t}\\;.\n",
    "$$"
   ]
  },
  {
   "cell_type": "markdown",
   "id": "a01a7d35-972a-4a4c-8c9f-bff69df75203",
   "metadata": {},
   "source": [
    "Calculate the degrees of freedom parameter."
   ]
  },
  {
   "cell_type": "code",
   "execution_count": 74,
   "id": "0b8af909-3ef6-47d9-ad3f-53c5c9620b71",
   "metadata": {},
   "outputs": [
    {
     "data": {
      "text/plain": [
       "12.59281702723103"
      ]
     },
     "execution_count": 74,
     "metadata": {},
     "output_type": "execute_result"
    }
   ],
   "source": [
    "def calcdf(stdX, n, stdY, m):\n",
    "    vX = stdX**2 / n\n",
    "    vY = stdY**2 / m\n",
    "    df = (vX + vY)**2 / (vX**2/(n-1) + vY**2/(m-1))\n",
    "    return df\n",
    "\n",
    "df = calcdf(stdW, nW, stdE, nE)\n",
    "df"
   ]
  },
  {
   "cell_type": "code",
   "execution_count": 75,
   "id": "4b6af171-c98d-4150-89dc-6ce548aef535",
   "metadata": {},
   "outputs": [
    {
     "data": {
      "text/plain": [
       "3.0"
      ]
     },
     "execution_count": 75,
     "metadata": {},
     "output_type": "execute_result"
    }
   ],
   "source": [
    "dhat = dmeans(pricesW, pricesE)\n",
    "dhat"
   ]
  },
  {
   "cell_type": "code",
   "execution_count": 76,
   "id": "41fa7754-e343-45e8-829b-253b5eb5e50f",
   "metadata": {},
   "outputs": [
    {
     "data": {
      "image/png": "[encoded data removed]",
      "text/plain": [
       "<Figure size 720x216 with 1 Axes>"
      ]
     },
     "metadata": {
      "image/png": {
       "height": 208,
       "width": 606
      }
     },
     "output_type": "display_data"
    }
   ],
   "source": [
    "from scipy.stats import t as tdist\n",
    "rvD = tdist(df, loc=dhat, scale=seD)\n",
    "_ = plot_pdf(rvD, rv_name=\"D\", xlims=[-6,6], color=purple)"
   ]
  },
  {
   "cell_type": "markdown",
   "id": "cb8005e5-a342-411d-964e-acbf630723cb",
   "metadata": {},
   "source": [
    " \n",
    " "
   ]
  },
  {
   "cell_type": "code",
   "execution_count": null,
   "id": "a30eb13a-ba36-45a1-a95b-eab5c77f0105",
   "metadata": {},
   "outputs": [],
   "source": []
  },
  {
   "cell_type": "markdown",
   "id": "cb916c8b-bfbf-4fae-90ca-64f8e877125e",
   "metadata": {},
   "source": [
    "#### Bootstrapped sampling distribution of the difference between means"
   ]
  },
  {
   "cell_type": "code",
   "execution_count": 77,
   "id": "c025cbe2-c06d-4803-8033-601e405bb655",
   "metadata": {},
   "outputs": [
    {
     "data": {
      "image/png": "[encoded data removed]",
      "text/plain": [
       "<Figure size 720x216 with 1 Axes>"
      ]
     },
     "metadata": {
      "image/png": {
       "height": 195,
       "width": 607
      }
     },
     "output_type": "display_data"
    }
   ],
   "source": [
    "# compute bootstrap estimates for mean in each group\n",
    "meanW_boot = bootstrap_stat(pricesW, statfunc=mean)\n",
    "meanE_boot = bootstrap_stat(pricesE, statfunc=mean)\n",
    "\n",
    "# compute the difference between means from bootstrap samples\n",
    "dmeans_boot = []\n",
    "for bmeanW, bmeanE in zip(meanW_boot, meanE_boot):\n",
    "    d_boot = bmeanW - bmeanE\n",
    "    dmeans_boot.append(d_boot)\n",
    "\n",
    "ax = sns.histplot(dmeans_boot, stat=\"density\", bins=30)\n",
    "_ = ax.set_xlim([-6,6])"
   ]
  },
  {
   "cell_type": "code",
   "execution_count": 78,
   "id": "17383eb9-3428-4a05-aded-e42d6c822404",
   "metadata": {},
   "outputs": [
    {
     "name": "stdout",
     "output_type": "stream",
     "text": [
      "Saved figure to figures/stats/estimators/bootstrap_dist_eprices_dmeans.pdf\n",
      "Saved figure to figures/stats/estimators/bootstrap_dist_eprices_dmeans.png\n"
     ]
    }
   ],
   "source": [
    "filename = os.path.join(DESTDIR, \"bootstrap_dist_eprices_dmeans.pdf\")\n",
    "savefigure(ax, filename)"
   ]
  },
  {
   "cell_type": "code",
   "execution_count": 79,
   "id": "9c241316-272f-40f5-b366-8fe9dbf1f3e9",
   "metadata": {},
   "outputs": [
    {
     "data": {
      "text/plain": [
       "(3.004968888888889, 0.5630515179287545)"
      ]
     },
     "execution_count": 79,
     "metadata": {},
     "output_type": "execute_result"
    }
   ],
   "source": [
    "np.mean(dmeans_boot), np.std(dmeans_boot, ddof=1)"
   ]
  },
  {
   "cell_type": "code",
   "execution_count": null,
   "id": "f68c263f-ca3c-4090-a17f-c5ba1636af65",
   "metadata": {},
   "outputs": [],
   "source": []
  },
  {
   "cell_type": "code",
   "execution_count": null,
   "id": "eab978cc-4940-41c7-96e5-caac3ffc4611",
   "metadata": {},
   "outputs": [],
   "source": []
  },
  {
   "cell_type": "code",
   "execution_count": null,
   "id": "5a945825-adab-4c91-807d-3b615b2c4a4e",
   "metadata": {},
   "outputs": [],
   "source": []
  },
  {
   "cell_type": "markdown",
   "id": "b8e45de1-1dfe-40a7-9382-6430a0a3e82d",
   "metadata": {},
   "source": [
    "## Estimator applications\n",
    "\n",
    "- Parameter estimates\n",
    "- Confidence intervals (next section)\n",
    "- Test statistics (remainder of the sections in this chapter)\n",
    "\n",
    "TODO: import one-liner explanation for each of these"
   ]
  },
  {
   "cell_type": "code",
   "execution_count": null,
   "id": "5fa8afe8-6df4-4fca-87ea-0197d3088f25",
   "metadata": {},
   "outputs": [],
   "source": []
  },
  {
   "cell_type": "markdown",
   "id": "bae0f654-4ea8-4b67-97a8-f5eeac56fd38",
   "metadata": {},
   "source": [
    "## Explanations"
   ]
  },
  {
   "cell_type": "markdown",
   "id": "ba6ae3ee-c93e-4ecb-8e46-017b2f819391",
   "metadata": {},
   "source": [
    "### Unbiased estimator of the sample variance"
   ]
  },
  {
   "cell_type": "code",
   "execution_count": 80,
   "id": "6a0dde4a-20ff-45a4-936a-fd51e3fd8eac",
   "metadata": {},
   "outputs": [
    {
     "data": {
      "image/png": "[encoded data removed]",
      "text/plain": [
       "<Figure size 720x216 with 1 Axes>"
      ]
     },
     "metadata": {
      "image/png": {
       "height": 214,
       "width": 613
      }
     },
     "output_type": "display_data"
    }
   ],
   "source": [
    "np.random.seed(16)\n",
    "kvars = gen_sampling_dist(rvK, statfunc=var, n=20)\n",
    "ax = sns.histplot(kvars, stat=\"density\", color=orange)\n",
    "_ = ax.set_xlabel(\"$s^2_{\\mathbf{k}}$\")"
   ]
  },
  {
   "cell_type": "markdown",
   "id": "ae715233-9e0a-46dc-a910-2e6da972cbb0",
   "metadata": {},
   "source": [
    "This is an unbiased estimator of the sample variance,\n",
    "since its expected value equals the population variance:\n",
    "$\\mathbb{E}[S^2] \\approx \\sigma^2 = 100^2 = 10000$."
   ]
  },
  {
   "cell_type": "code",
   "execution_count": 81,
   "id": "27df213b-bf1c-4612-86bb-2b07a6a892f8",
   "metadata": {},
   "outputs": [
    {
     "data": {
      "text/plain": [
       "100.2961194772153"
      ]
     },
     "execution_count": 81,
     "metadata": {},
     "output_type": "execute_result"
    }
   ],
   "source": [
    "np.mean(kvars)"
   ]
  },
  {
   "cell_type": "markdown",
   "id": "9d74ee17-80a3-4d5a-9871-4c593925330d",
   "metadata": {},
   "source": [
    "#### Biased estimator of the sample variance\n",
    "\n",
    "Let's see what happens if we use the denominator $n$ instead of $(n-1)$ for the sample variance calculation."
   ]
  },
  {
   "cell_type": "code",
   "execution_count": 82,
   "id": "81b8cedd-eea1-4599-805b-61880a8dd284",
   "metadata": {},
   "outputs": [],
   "source": [
    "def s2tilde(sample):\n",
    "    xbar = mean(sample)\n",
    "    sumsqdevs = sum([(xi-xbar)**2 for xi in sample])\n",
    "    return sumsqdevs / len(sample)"
   ]
  },
  {
   "cell_type": "code",
   "execution_count": 83,
   "id": "c32e3467-2439-4a95-b027-3194e69e6370",
   "metadata": {},
   "outputs": [
    {
     "data": {
      "image/png": "[encoded data removed]",
      "text/plain": [
       "<Figure size 720x216 with 1 Axes>"
      ]
     },
     "metadata": {
      "image/png": {
       "height": 212,
       "width": 613
      }
     },
     "output_type": "display_data"
    }
   ],
   "source": [
    "np.random.seed(16)\n",
    "s2tildes = gen_sampling_dist(rvK, statfunc=s2tilde, n=20)\n",
    "ax = sns.histplot(s2tildes, stat=\"density\", color=orange)\n",
    "_ = ax.set_xlabel(\"$\\\\tilde{s}^2_{\\mathbf{k}}$\")"
   ]
  },
  {
   "cell_type": "markdown",
   "id": "c9239b34-d236-49d1-a2bf-59346d280c26",
   "metadata": {},
   "source": [
    "Note the expected value of the sampling distribution for this estimator does not equal the population variance, $\\mathbb{E}[\\tilde{S}^2] \\neq \\sigma^2 = 100^2 = 10000$."
   ]
  },
  {
   "cell_type": "code",
   "execution_count": 84,
   "id": "397dd24b-bf18-4866-b221-8405ea2828bf",
   "metadata": {},
   "outputs": [
    {
     "data": {
      "text/plain": [
       "95.28131350335453"
      ]
     },
     "execution_count": 84,
     "metadata": {},
     "output_type": "execute_result"
    }
   ],
   "source": [
    "np.mean(s2tildes)"
   ]
  },
  {
   "cell_type": "markdown",
   "id": "5e51f16d-0ea2-4c7d-a9eb-b218a684341c",
   "metadata": {},
   "source": [
    "We can correct the bias in this estimator by simply using the normalization factor\n",
    "$(n-1)$ in the formula instead of $n$."
   ]
  },
  {
   "cell_type": "markdown",
   "id": "a7feee59-76cf-4586-ba4b-4b48a130cb39",
   "metadata": {},
   "source": [
    "### Pivotal quantities\n",
    "\n",
    "Rephrase analytical approximations in terms of standard reference distributions, thanks to pivot transformation \n",
    "\n",
    "$$\n",
    "  Y \\;\\; = \\;\\; \\texttt{scale} \\cdot X \\; + \\; \\texttt{loc}.\n",
    "$$\n",
    "\n",
    "$$\n",
    "  X \\;\\; = \\;\\; \\frac{ Y - \\texttt{loc} }{ \\texttt{scale} }\n",
    "$$\n",
    "\n",
    "$$\n",
    " F_Y(y) = F_X\\left(  \\frac{ y - \\texttt{loc} }{ \\texttt{scale} }  \\right).\n",
    "$$\n",
    "\n",
    "\n",
    "\n"
   ]
  },
  {
   "cell_type": "markdown",
   "id": "6f2de0e3-de02-45e7-8ce7-fbfc865b0fe3",
   "metadata": {},
   "source": [
    "Recall the distribution for mean of kombucha volume,\n",
    "when we use the estimated standard deviation $s$ is given by the $t$-distribution.\n",
    "\n",
    "$$\n",
    "  \\overline{\\mathbf{K}}\n",
    "  \\;\\;\\; = \\;\\;\\;\n",
    "  \\stderrhat{\\overline{\\mathbf{k}}} \\cdot \\mathcal{T}(7-1)  \\;\\; + \\;\\; \\mu_K\n",
    "$$\n"
   ]
  },
  {
   "cell_type": "code",
   "execution_count": 85,
   "id": "e94d280e-07ae-4ba4-a3e2-d797a4c39ecc",
   "metadata": {},
   "outputs": [],
   "source": [
    "from scipy.stats import t as tdist\n",
    "rvT = tdist(7-1) # loc=0 and scale=1 by default"
   ]
  },
  {
   "cell_type": "code",
   "execution_count": 86,
   "id": "f6beec88-3ac1-45e8-8450-c64e0b9cc586",
   "metadata": {},
   "outputs": [
    {
     "data": {
      "text/plain": [
       "(1006.2571694064695, 1006.2571694064695)"
      ]
     },
     "execution_count": 86,
     "metadata": {},
     "output_type": "execute_result"
    }
   ],
   "source": [
    "rvKbar.ppf(0.95), rvT.ppf(0.95)*sehat + muK"
   ]
  },
  {
   "cell_type": "code",
   "execution_count": 87,
   "id": "0b2dfe45-224c-4678-9bfb-0b3f0d642334",
   "metadata": {},
   "outputs": [
    {
     "data": {
      "text/plain": [
       "(0.8062670118096588, 0.8062670118096588)"
      ]
     },
     "execution_count": 87,
     "metadata": {},
     "output_type": "execute_result"
    }
   ],
   "source": [
    "rvKbar.cdf(1003), rvT.cdf( (1003-muK)/sehat )"
   ]
  },
  {
   "cell_type": "code",
   "execution_count": null,
   "id": "81678c50-dda9-4a42-962d-7ed19d49de77",
   "metadata": {},
   "outputs": [],
   "source": []
  },
  {
   "cell_type": "markdown",
   "id": "5511efee-d307-465b-ad25-bfb37070c97e",
   "metadata": {},
   "source": [
    "Recall the sampling distribution of the variance..."
   ]
  },
  {
   "cell_type": "code",
   "execution_count": 88,
   "id": "c9ea8fa8-54af-4ea9-ae76-2f783a612557",
   "metadata": {},
   "outputs": [],
   "source": [
    "from scipy.stats import chi2\n",
    "rvX2 = chi2(20-1) # loc=0 and scale=1 by default"
   ]
  },
  {
   "cell_type": "code",
   "execution_count": 89,
   "id": "15487cec-1edd-49a6-bd3f-4f9b2882377a",
   "metadata": {},
   "outputs": [
    {
     "data": {
      "text/plain": [
       "(158.65014318761138, 158.65014318761138)"
      ]
     },
     "execution_count": 89,
     "metadata": {},
     "output_type": "execute_result"
    }
   ],
   "source": [
    "scale = sigmaK**2 / (20-1)\n",
    "rvS2.ppf(0.95), rvX2.ppf(0.95)*scale"
   ]
  },
  {
   "cell_type": "code",
   "execution_count": 90,
   "id": "16e5e7fd-26c8-4b2b-afed-803353105cb7",
   "metadata": {},
   "outputs": [
    {
     "data": {
      "text/plain": [
       "(0.9257325359937036, 0.9257325359937036)"
      ]
     },
     "execution_count": 90,
     "metadata": {},
     "output_type": "execute_result"
    }
   ],
   "source": [
    "rvS2.cdf(150), rvX2.cdf(150/scale)"
   ]
  },
  {
   "cell_type": "code",
   "execution_count": null,
   "id": "7a1d862e-70c2-418d-a190-a1030cf4cdd3",
   "metadata": {},
   "outputs": [],
   "source": []
  },
  {
   "cell_type": "markdown",
   "id": "55903ffc-11fa-4bd0-bc36-756919b670ce",
   "metadata": {},
   "source": [
    "## Discussion"
   ]
  },
  {
   "cell_type": "markdown",
   "id": "03200ecb-94cd-4985-aab1-bfbeeed640a2",
   "metadata": {
    "tags": []
   },
   "source": [
    "### Statistical assumptions\n",
    "\n",
    "- LARGEn:\n",
    "- NORMAL:\n",
    "- EQVAR:"
   ]
  },
  {
   "cell_type": "code",
   "execution_count": null,
   "id": "32be46a0-3418-49e3-9965-c0b6401d5d9d",
   "metadata": {},
   "outputs": [],
   "source": []
  },
  {
   "cell_type": "code",
   "execution_count": null,
   "id": "2809e7af-3847-47a1-90c1-736429c57df1",
   "metadata": {},
   "outputs": [],
   "source": []
  },
  {
   "cell_type": "code",
   "execution_count": null,
   "id": "8a2b7c85-ca22-40f6-bd1b-6c5f6af5b4b8",
   "metadata": {},
   "outputs": [],
   "source": []
  },
  {
   "cell_type": "code",
   "execution_count": null,
   "id": "bba69b60-9d1b-4aad-96c8-10113a686296",
   "metadata": {},
   "outputs": [],
   "source": []
  }
 ],
 "metadata": {
  "kernelspec": {
   "display_name": "Python 3 (ipykernel)",
   "language": "python",
   "name": "python3"
  },
  "language_info": {
   "codemirror_mode": {
    "name": "ipython",
    "version": 3
   },
   "file_extension": ".py",
   "mimetype": "text/x-python",
   "name": "python",
   "nbconvert_exporter": "python",
   "pygments_lexer": "ipython3",
   "version": "3.9.4"
  },
  "toc-autonumbering": true,
  "toc-showcode": false,
  "toc-showmarkdowntxt": false,
  "toc-showtags": false
 },
 "nbformat": 4,
 "nbformat_minor": 5
}
