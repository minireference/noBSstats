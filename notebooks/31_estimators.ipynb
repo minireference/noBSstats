{
 "cells": [
  {
   "cell_type": "markdown",
   "id": "b73f3d18-88c7-499d-90a3-dd6954247cf3",
   "metadata": {
    "tags": []
   },
   "source": [
    "# Section 3.2 — Estimators\n",
    "\n",
    "This notebook contains the code examples from [Section 3.1 Estimators]() of the **No Bullshit Guide to Statistics**.\n",
    "\n",
    "We'll begin our study of inferential statistics by introducing **estimators**,\n",
    "which are the math tools used for both **estimation**  and **hypothesis testing**.\n",
    "\n",
    "![simplified_estimators.png](../stats_overview/figures/simplified_estimators.png)"
   ]
  },
  {
   "cell_type": "markdown",
   "id": "efce8e91-8824-4103-a526-02e23c794668",
   "metadata": {
    "jp-MarkdownHeadingCollapsed": true,
    "tags": []
   },
   "source": [
    "#### Notebook setup"
   ]
  },
  {
   "cell_type": "code",
   "execution_count": 1,
   "id": "990de07d-c26f-4a29-935a-2b1dacc89b34",
   "metadata": {},
   "outputs": [],
   "source": [
    "# load Python modules\n",
    "import numpy as np\n",
    "import pandas as pd\n",
    "import seaborn as sns\n",
    "import matplotlib.pyplot as plt"
   ]
  },
  {
   "cell_type": "code",
   "execution_count": 2,
   "id": "3209c5be-cb6a-42c0-8bf8-949a4fc0ff39",
   "metadata": {},
   "outputs": [],
   "source": [
    "# Figures setup\n",
    "sns.set_theme(\n",
    "    context=\"paper\",\n",
    "    style=\"whitegrid\",\n",
    "    palette=\"colorblind\",\n",
    "    rc={'figure.figsize': (7,4)},\n",
    ")\n",
    "\n",
    "%config InlineBackend.figure_format = 'retina'"
   ]
  },
  {
   "cell_type": "code",
   "execution_count": 3,
   "id": "df22d8d7-6814-4c3b-a3d3-2f31ab6b2f3b",
   "metadata": {},
   "outputs": [],
   "source": [
    "# set random seed for repeatability\n",
    "np.random.seed(42)"
   ]
  },
  {
   "cell_type": "code",
   "execution_count": 4,
   "id": "6d66c0d4-b16d-46fa-bacf-9257c55ec363",
   "metadata": {},
   "outputs": [],
   "source": [
    "from plot_helpers import plot_pdf"
   ]
  },
  {
   "cell_type": "code",
   "execution_count": null,
   "id": "ad416305-607b-48ca-9036-afc85ac05ff9",
   "metadata": {},
   "outputs": [],
   "source": []
  },
  {
   "cell_type": "code",
   "execution_count": null,
   "id": "38e8136c-64cf-4164-a173-b9b0a5c5bcd2",
   "metadata": {},
   "outputs": [],
   "source": []
  },
  {
   "cell_type": "markdown",
   "id": "cec5a7ba-1470-4bed-a1a1-d32e5ca20d28",
   "metadata": {},
   "source": []
  },
  {
   "cell_type": "markdown",
   "id": "576f7dfd-7b94-4dd1-82c1-b55358f06534",
   "metadata": {},
   "source": [
    " "
   ]
  },
  {
   "cell_type": "markdown",
   "id": "8804a09a-f4ad-4ff6-a449-1ee3ee3431aa",
   "metadata": {},
   "source": [
    "$\\def\\stderr#1{\\mathbf{se}_{#1}}$\n",
    "$\\def\\stderrhat#1{\\hat{\\mathbf{se}}_{#1}}$\n",
    "$\\newcommand{\\Mean}{\\textbf{Mean}}$\n",
    "$\\newcommand{\\Var}{\\textbf{Var}}$\n",
    "$\\newcommand{\\Std}{\\textbf{Std}}$\n",
    "$\\newcommand{\\Freq}{\\textbf{Freq}}$\n",
    "$\\newcommand{\\RelFreq}{\\textbf{RelFreq}}$\n",
    "\n",
    "\n",
    "## Statistical inference context\n",
    "\n",
    "DATA:\n",
    "- population\n",
    "- sample\n",
    "- statistic\n",
    "\n",
    "PROB:\n",
    "- probability model\n",
    "- model family\n",
    "- parameters\n",
    "\n",
    "\n",
    "Statistical inference is the use the values of the statistics obtained from the sample $\\mathbf{x} = (x_1, x_2, \\ldots, x_n)$ to estimate the population parameters $\\theta$. For example,\n",
    "the sample mean $\\overline{\\mathbf{x}}=\\Mean(\\mathbf{x})$ is an estimate of the population mean $\\mu$,\n",
    "and the sample variance $s_{\\mathbf{x}}^2=\\Var(\\mathbf{x})$ is an estimate of the population variance $\\sigma^2$."
   ]
  },
  {
   "cell_type": "markdown",
   "id": "e5d5f270-ee83-42f7-bba5-0dccb2d7a4be",
   "metadata": {},
   "source": [
    "## Estimator definitions\n",
    "\n",
    "- We use the term \"estimator\" to describe a function $g$ that takes samples as inputs\n",
    "  and produces parameter estimates as outputs.\n",
    "  Written mathematically, and estimator is a function of the form:\n",
    "  $$\n",
    "   g \\colon \\underbrace{\\mathcal{X}\\times \\mathcal{X}\\times \\cdots \\times \\mathcal{X}}_{n \\textrm{ copies}}\n",
    "   \\quad \\to \\quad \\mathbb{R},\n",
    "  $$\n",
    "  where $n$ is the samples size and $\\mathcal{X}$ denotes the possible values of the random variable $X$.\n",
    "- We give different names to estimates, depending on the use case:\n",
    "  - **statistic** = a quantity computed from a sample (e.g. descriptive statistics)\n",
    "  - **parameter estimates** = statistics that estimate population parameters\n",
    "  - **test statistic** = an estimate used as part of hypothesis testing procedure\n",
    "- The **value** of the estimator $g(\\mathbf{x})$ is computed from a particular sample\n",
    "  $\\mathbf{x} = (x_1, x_2, \\ldots, x_n)$.\n",
    "- The **sampling distribution** of the estimator $g$ is the distribution of $g(\\mathbf{X})$,\n",
    "  where $\\mathbf{X} = (X_1, X_2, \\ldots, X_n)$ is a *random sample*."
   ]
  },
  {
   "cell_type": "markdown",
   "id": "3205a1ef-b5a9-4c59-9948-a5d075fafc21",
   "metadata": {},
   "source": [
    "### Example of estimators\n",
    "\n",
    "Let's start with some estimators you're already familiar with (discussed in [descriptive statistics](./13_descriptive_statistics.ipynb)):\n",
    "\n",
    "- **Sample mean**\n",
    "  - estimator: $\\overline{\\mathbf{x}} = g(\\mathbf{x}) = \\frac{1}{n}\\sum_{i=1}^n x_i$\n",
    "  - gives an estimate for the population mean $\\mu$\n"
   ]
  },
  {
   "cell_type": "code",
   "execution_count": 5,
   "id": "cdf63b86-eb30-452e-9cb5-0205b75f87e0",
   "metadata": {},
   "outputs": [],
   "source": [
    "def mean(sample):\n",
    "    return sum(sample) / len(sample)\n",
    "\n",
    "# ALT. use np.mean(sample)\n",
    "# ALT. use .mean() method on a Pandas series"
   ]
  },
  {
   "cell_type": "markdown",
   "id": "b9753ab0-53dd-4488-98b0-572cbb6ed1ba",
   "metadata": {},
   "source": [
    "- **Sample variance**\n",
    "  - estimator: $s_{\\mathbf{x}}^2 = h(\\mathbf{x}) = \\frac{1}{n-1}\\sum_{i=1}^n (x_i-\\overline{\\mathbf{x}})^2$\n",
    "  - gives an estimate for the population variance $\\sigma^2$\n",
    "  - note the denominator is $(n-1)$ and not $n$ "
   ]
  },
  {
   "cell_type": "code",
   "execution_count": 6,
   "id": "12904756-3603-4d08-9f83-b3b89eaaf15c",
   "metadata": {},
   "outputs": [],
   "source": [
    "def var(sample):\n",
    "    xbar = mean(sample)\n",
    "    sumdevs = sum( (xi-xbar)**2 for xi in sample )\n",
    "    return sumdevs/(len(sample)-1)\n",
    "\n",
    "# ALT. use np.var(sample, ddof=1)\n",
    "# ALT. use .var() method on a Pandas series"
   ]
  },
  {
   "cell_type": "markdown",
   "id": "7b4870cb-efb4-4fb4-8493-c3b350dc3388",
   "metadata": {},
   "source": [
    "In this notebook we'll develop some new estimators that are specific for the comparison of the two groups.\n",
    "\n",
    "- **Difference between sample means**\n",
    "  - estimator: $\\hat{d} = \\Mean(\\mathbf{x}_A) - \\Mean(\\mathbf{x}_B) = \\overline{\\mathbf{x}}_A - \\overline{\\mathbf{x}}_B$\n",
    "  - gives an estimate for the difference between population means: $\\Delta =  \\mu_A - \\mu_B$"
   ]
  },
  {
   "cell_type": "code",
   "execution_count": 7,
   "id": "7100e5f2-38e1-4d3d-971f-fe88b2ffa94d",
   "metadata": {},
   "outputs": [],
   "source": [
    "def dmeans(xA, xB):\n",
    "    \"\"\"\n",
    "    Estimator for the difference between group means.\n",
    "    \"\"\"\n",
    "    d = np.mean(xA) - np.mean(xB)\n",
    "    return d"
   ]
  },
  {
   "cell_type": "markdown",
   "id": "9c13ea3f-4986-41b7-a65a-35612b041017",
   "metadata": {},
   "source": [
    "#### Discrete values\n",
    "\n",
    "We'll also discuss estimators for working with samples of discrete values, based on counting:\n",
    "\n",
    "- **Sample proportion**\n",
    "  - estimator: $\\widehat{p} = \\RelFreq_{\\mathbf{x}}(1) = \\frac{ \\textrm{count of } 1\\textrm{s in } \\mathbf{x} }{n} = g(\\mathbf{x})$\n",
    "  - gives an estimate of the parameter $p$ for a Bernoulli population\n",
    "- **Difference between sample proportions**\n",
    "  - estimator: $\\hat{d} = \\widehat{p}_{\\mathbf{x}} - \\widehat{p}_{\\mathbf{y}} = d(\\mathbf{x}, \\mathbf{y})$\n",
    "  - gives an estimate for the difference between population proportions $\\delta = p_x - p_y$"
   ]
  },
  {
   "cell_type": "code",
   "execution_count": null,
   "id": "adbbbf22-2dec-459f-874a-643530a3fe51",
   "metadata": {},
   "outputs": [],
   "source": []
  },
  {
   "cell_type": "markdown",
   "id": "46b98fb6-d348-462b-8ce0-b1fb048bb6aa",
   "metadata": {},
   "source": [
    "## Estimator applications\n",
    "\n",
    "alksj"
   ]
  },
  {
   "cell_type": "markdown",
   "id": "401d6270-ac8d-4fab-8c55-3ad265614625",
   "metadata": {},
   "source": [
    " "
   ]
  },
  {
   "cell_type": "markdown",
   "id": "90fc85e9-f51e-4a13-b3de-82742afc6af9",
   "metadata": {},
   "source": [
    "## Sampling distributions\n",
    "\n",
    "\n",
    "### Examples of sampling distributions\n",
    "\n",
    "Let's look at the same estimators that we described in the previous section,\n",
    "but this time applied to *random* samples of size $n$:\n",
    "\n",
    "- Sample mean: $\\overline{\\mathbf{X}} = g(\\mathbf{X}) = \\tfrac{1}{n}\\sum_{i=1}^n X_i$\n",
    "- Sample variance: $S_{\\mathbf{X}}^2 = h(\\mathbf{X}) = \\tfrac{1}{n-1}\\sum_{i=1}^n \\left(X_i - \\overline{\\mathbf{X}} \\right)^2$\n",
    "- Difference between sample means: $\\hat{D} = d(\\mathbf{X}, \\mathbf{Y}) = \\overline{\\mathbf{X}} - \\overline{\\mathbf{Y}}$ \n",
    "- Sample proportion: $\\widehat{P} = g(\\mathbf{X}) = \\frac{1}{n}\\sum_{i=1}^n X_i$\n",
    "- Difference between proportions: $\\hat{D} = \\widehat{P}_{\\mathbf{X}} - \\widehat{P}_{\\mathbf{Y}} = d(\\mathbf{X}, \\mathbf{Y})$\n",
    "\n",
    "Note these formulas is identical to the formulas we saw earlier.\n",
    "The only difference is that we're calculating the functions $g$, $h$, and $d$ based on a random sample $\\mathbf{X} = (X_1, X_2, \\ldots, X_n)$,\n",
    "instead of particular sample $\\mathbf{x} = (x_1, x_2, \\ldots, x_n)$."
   ]
  },
  {
   "cell_type": "markdown",
   "id": "e7af3ff2-c496-46b9-b372-d28d025c71f0",
   "metadata": {},
   "source": [
    "### Estimator properties\n",
    "\n",
    "- bias\n",
    "- variance\n",
    "- standard error\n",
    "\n"
   ]
  },
  {
   "cell_type": "markdown",
   "id": "98c3da7b-4449-467d-8760-2fee6c584717",
   "metadata": {},
   "source": [
    "### Visualizing sampling distributions\n"
   ]
  },
  {
   "cell_type": "code",
   "execution_count": 8,
   "id": "2892a2c6-ab0a-4178-9741-8f9ea515fe33",
   "metadata": {},
   "outputs": [],
   "source": [
    "def gen_sampling_dist(rv, statfunc, n, N=1000):\n",
    "    stats = []\n",
    "    for i in range(0, N):\n",
    "        sample = rv.rvs(n)\n",
    "        stat = statfunc(sample)\n",
    "        stats.append(stat)\n",
    "    return stats"
   ]
  },
  {
   "cell_type": "code",
   "execution_count": null,
   "id": "0270f1fb-eeb9-4660-ad83-e4493e4fefcf",
   "metadata": {},
   "outputs": [],
   "source": []
  },
  {
   "cell_type": "code",
   "execution_count": null,
   "id": "8f8a92ef-a7ee-408f-a70f-d825a55572f3",
   "metadata": {},
   "outputs": [],
   "source": []
  },
  {
   "cell_type": "markdown",
   "id": "603dcdb9-afae-4348-930d-4ea240d7b575",
   "metadata": {},
   "source": [
    "## Bootstrap estimation"
   ]
  },
  {
   "cell_type": "code",
   "execution_count": 9,
   "id": "ac186810-4301-4b08-95ea-f4a4bf7f4f3d",
   "metadata": {},
   "outputs": [],
   "source": [
    "from statistics import mean\n",
    "\n",
    "def bootstrap_stat(sample, statfunc=mean, B=5000):\n",
    "    \"\"\"\n",
    "    Compute the sampling dist. of the `statfunc` estimator\n",
    "    from `B` bootstrap samples generated from `sample`.\n",
    "    \"\"\"\n",
    "    n = len(sample)\n",
    "    bstats = []\n",
    "    for i in range(0, B):\n",
    "        bsample = np.random.choice(sample, n, replace=True)\n",
    "        bstat = statfunc(bsample)\n",
    "        bstats.append(bstat)\n",
    "    return bstats\n"
   ]
  },
  {
   "cell_type": "code",
   "execution_count": null,
   "id": "84d229dd-2352-4fb8-a997-fca5cea65a0a",
   "metadata": {},
   "outputs": [],
   "source": []
  },
  {
   "cell_type": "code",
   "execution_count": null,
   "id": "89e81af9-2c05-4df3-b5e0-6fe5ae598784",
   "metadata": {},
   "outputs": [],
   "source": []
  },
  {
   "cell_type": "code",
   "execution_count": null,
   "id": "d3b9c146-0589-4b54-b05b-8e1380c98983",
   "metadata": {},
   "outputs": [],
   "source": []
  },
  {
   "cell_type": "code",
   "execution_count": null,
   "id": "b3adf544-8b83-40dc-8346-c3842de9cf5d",
   "metadata": {},
   "outputs": [],
   "source": []
  },
  {
   "cell_type": "markdown",
   "id": "3a47a0a0-c690-4619-b486-9c371f603c70",
   "metadata": {},
   "source": [
    "## Analytical derivations"
   ]
  },
  {
   "cell_type": "markdown",
   "id": "05561e82-2ad9-4801-bcc0-8055fec5d8af",
   "metadata": {
    "tags": []
   },
   "source": [
    "### Sample mean estimator\n"
   ]
  },
  {
   "cell_type": "markdown",
   "id": "6ff80edc-3910-4096-ae4c-2b1768cfa4d1",
   "metadata": {
    "tags": []
   },
   "source": [
    "### Sample variance estimator\n"
   ]
  },
  {
   "cell_type": "markdown",
   "id": "20bb60cf-1946-4feb-ad51-0b80546d2591",
   "metadata": {
    "tags": []
   },
   "source": [
    "### Difference between means estimator\n"
   ]
  },
  {
   "cell_type": "markdown",
   "id": "147655ec-8748-44ae-b872-d7167cd6b92a",
   "metadata": {
    "tags": []
   },
   "source": [
    "##### OLD Difference between group means\n",
    "\n",
    "Consider two normally distributed random variables $X_A$ and $X_B$:\n",
    "$$ \n",
    "X_A \\sim \\mathcal{N}\\!\\left(\\mu_A, \\sigma_A \\right)\n",
    "\\qquad\n",
    "\\textrm{and}\n",
    "\\qquad\n",
    "X_B \\sim \\mathcal{N}\\!\\left(\\mu_B, \\sigma_B \\right)\n",
    "$$\n",
    "that describe the probability distribution for groups A and B, respectively.\n",
    "\n",
    "- A sample of size $n_A$ from $X_A$ is denoted $\\mathbf{x}_A = (x_1, x_2, \\ldots, x_{n_A})$=`xA`,\n",
    "  and let $\\mathbf{x}_B = (x_1, x_2, \\ldots, x_{n_B})$=`xB` be a random sample of size $n_B$ from $X_B$.\n",
    "- We compute the mean in each group: $\\overline{\\mathbf{x}}_{A} = \\texttt{mean}(\\mathbf{x}_A)$\n",
    "  and $\\overline{\\mathbf{x}}_{B} = \\texttt{mean}(\\mathbf{x}_B)$\n",
    "- The value of the estimator is $\\hat{d} = \\overline{\\mathbf{x}}_{A} - \\overline{\\mathbf{x}}_{B}$"
   ]
  },
  {
   "cell_type": "markdown",
   "id": "f42d9e81-528e-4e48-9149-cc017c435ad2",
   "metadata": {},
   "source": [
    "Note the difference between group means is precisely the estimator Amy need for her analysis (**Group S** and **Group NS**). We intentionally use the labels **A** and **B** to illustrate the general case."
   ]
  },
  {
   "cell_type": "markdown",
   "id": "26f452a3-ce3d-43b5-b9b3-ccd90eae803d",
   "metadata": {},
   "source": [
    "#### Sampling distribution of the estimator `dmeans`\n",
    "\n",
    "How well does the estimate $\\hat{d}$ approximate the true value $\\Delta$?\n",
    "**What is the accuracy and variability of the estimates we can expect?**\n",
    "\n",
    "To answer these questions, consider the random samples\n",
    "$\\mathbf{X}_A = (X_1, X_2, \\ldots, X_{n_A})$\n",
    "and $\\mathbf{X}_B = (X_1, X_2, \\ldots, X_{n_B})$,\n",
    "then compute the **sampling distribution**: $\\hat{D} = \\overline{\\mathbf{X}}_A - \\overline{\\mathbf{X}}_{B}$.\n",
    "\n",
    "By definition, the sampling distribution of the estimator is obtained by repeatedly generating samples `xA` and `xB` from the two distributions and computing `dmeans` on the random samples. For example, we can obtain the sampling distribution by generating $N=1000$ samples."
   ]
  },
  {
   "cell_type": "markdown",
   "id": "9f8e179b-0f78-4b82-a462-037e8cf7cea4",
   "metadata": {
    "tags": []
   },
   "source": [
    "#### Theoretical model for the sampling distribution of `dmeans`"
   ]
  },
  {
   "cell_type": "markdown",
   "id": "967eaf3d-dc40-4113-b4c7-cc8957460ebc",
   "metadata": {},
   "source": [
    "Let's now use probability theory to build a theoretical model for the sampling distribution of the difference-between-means estimator `dmeans`.\n",
    "\n",
    "- The central limit theorem tells us the sample mean within the two group are\n",
    "  $$\n",
    "  \\overline{\\mathbf{X}}_A \\sim \\mathcal{N}\\!\\left(\\mu_A, \\tfrac{\\sigma_A}{\\sqrt{n_A}} \\right)\n",
    "  \\qquad \\textrm{and} \\qquad\n",
    "  \\overline{\\mathbf{X}}_B \\sim \\mathcal{N}\\!\\left(\\mu_B, \\tfrac{\\sigma_B}{\\sqrt{n_B}} \\right).\n",
    "  $$\n",
    "\n",
    "- The rules of probability theory tells us that the [difference of two normal random variables](https://en.wikipedia.org/wiki/Sum_of_normally_distributed_random_variables#Independent_random_variables) requires subtracting their means and adding their variance, so we get:\n",
    "  $$\n",
    "  D \\sim \\mathcal{N}\\!\\left(\\mu_A - \\mu_B, \\  \\sqrt{\\tfrac{\\sigma^2_A}{n_A} + \\tfrac{\\sigma^2_B}{n_B}} \\right).\n",
    "  $$\n",
    "\n",
    "In other words, the sampling distribution for the difference between means estimator $\\hat{D}$ has mean and standard deviation given by:\n",
    "$$ \n",
    "   \\mu_D = \\mu_A - \\mu_B\n",
    "   \\qquad \\textrm{and} \\qquad\n",
    "   \\sigma_D = \\sqrt{ \\tfrac{\\sigma^2_A}{n_A} + \\tfrac{\\sigma^2_B}{n_B}  }.\n",
    "$$"
   ]
  },
  {
   "cell_type": "markdown",
   "id": "182f44ed-c5c7-40d2-9baa-24a0e959fe62",
   "metadata": {},
   "source": [
    "Probability theory predicts the sampling distribution had mean ..."
   ]
  },
  {
   "cell_type": "code",
   "execution_count": 10,
   "id": "6a830d6f-ade5-478a-9c9a-93d63876480b",
   "metadata": {},
   "outputs": [],
   "source": [
    "# Dmean = muA - muB\n",
    "# Dmean"
   ]
  },
  {
   "cell_type": "markdown",
   "id": "e2b0bbc3-ffbd-4c6f-bce1-07d2201595a0",
   "metadata": {},
   "source": [
    "... and standard deviation:"
   ]
  },
  {
   "cell_type": "code",
   "execution_count": 11,
   "id": "38d0af20-f2b3-444b-93a5-a9a0fccd1c25",
   "metadata": {},
   "outputs": [],
   "source": [
    "# Dstd = np.sqrt(sigmaA**2/nA + sigmaB**2/nB)\n",
    "# Dstd"
   ]
  },
  {
   "cell_type": "markdown",
   "id": "a01a7d35-972a-4a4c-8c9f-bff69df75203",
   "metadata": {},
   "source": [
    "Let's plot the theoretical sampling distribution \n",
    "on top of the simulated data to see if they are a good fit."
   ]
  },
  {
   "cell_type": "code",
   "execution_count": 12,
   "id": "41fa7754-e343-45e8-829b-253b5eb5e50f",
   "metadata": {},
   "outputs": [],
   "source": [
    "# x = np.linspace(min(dmeans_sdist), max(dmeans_sdist), 10000)\n",
    "# D = norm(Dmean, Dstd).pdf(x)\n",
    "# label = 'Theoretical sampling distribuition'\n",
    "# sns.lineplot(x=x, y=D, ax=ax3, label=label, color=blue)\n",
    "# ax3.figure"
   ]
  },
  {
   "cell_type": "markdown",
   "id": "cb8005e5-a342-411d-964e-acbf630723cb",
   "metadata": {},
   "source": [
    " \n",
    " "
   ]
  },
  {
   "cell_type": "code",
   "execution_count": null,
   "id": "a30eb13a-ba36-45a1-a95b-eab5c77f0105",
   "metadata": {},
   "outputs": [],
   "source": []
  },
  {
   "cell_type": "markdown",
   "id": "ca516da1-3d7e-4ae9-844c-2ca65953e843",
   "metadata": {},
   "source": [
    "### Proportion estimator\n"
   ]
  },
  {
   "cell_type": "code",
   "execution_count": 13,
   "id": "ca8b811f-f054-4485-aaa6-7e87fdc6637f",
   "metadata": {},
   "outputs": [
    {
     "data": {
      "text/plain": [
       "0.046351084812623275"
      ]
     },
     "execution_count": 13,
     "metadata": {},
     "output_type": "execute_result"
    }
   ],
   "source": [
    "visitors = pd.read_csv(\"../datasets/visitors.csv\")\n",
    "xA = visitors[visitors[\"version\"]==\"A\"][\"bought\"].values\n",
    "phat = xA.mean()\n",
    "phat"
   ]
  },
  {
   "cell_type": "code",
   "execution_count": 14,
   "id": "93480499-22b3-413e-82d4-b6c888411675",
   "metadata": {},
   "outputs": [
    {
     "data": {
      "text/plain": [
       "0.04420266174931628"
      ]
     },
     "execution_count": 14,
     "metadata": {},
     "output_type": "execute_result"
    }
   ],
   "source": [
    "var = phat*(1-phat)\n",
    "var"
   ]
  },
  {
   "cell_type": "code",
   "execution_count": 15,
   "id": "adad8262-93e6-40ba-a3f3-b56c29cc0f0e",
   "metadata": {},
   "outputs": [
    {
     "data": {
      "text/plain": [
       "0.006602451710468567"
      ]
     },
     "execution_count": 15,
     "metadata": {},
     "output_type": "execute_result"
    }
   ],
   "source": [
    "n = len(xA)\n",
    "se_Phat = np.sqrt(var/n)\n",
    "se_Phat"
   ]
  },
  {
   "cell_type": "code",
   "execution_count": 16,
   "id": "8a766785-5c1f-44a2-8cc8-f31918801819",
   "metadata": {},
   "outputs": [
    {
     "data": {
      "text/plain": [
       "<AxesSubplot:xlabel='x', ylabel='$f_{X}$'>"
      ]
     },
     "execution_count": 16,
     "metadata": {},
     "output_type": "execute_result"
    },
    {
     "data": {
      "image/png": "[encoded data removed]",
      "text/plain": [
       "<Figure size 504x288 with 1 Axes>"
      ]
     },
     "metadata": {
      "image/png": {
       "height": 262,
       "width": 437
      }
     },
     "output_type": "display_data"
    }
   ],
   "source": [
    "from scipy.stats import norm\n",
    "Phat = norm(phat, se_Phat)\n",
    "plot_pdf(Phat)"
   ]
  },
  {
   "cell_type": "code",
   "execution_count": null,
   "id": "11e139f1-97db-439b-a999-028ac875ed6d",
   "metadata": {},
   "outputs": [],
   "source": []
  },
  {
   "cell_type": "markdown",
   "id": "eda4baf4-24da-4d52-84ec-9368e80c1c8b",
   "metadata": {},
   "source": [
    "### Difference between proportion estimator"
   ]
  },
  {
   "cell_type": "code",
   "execution_count": 17,
   "id": "63604788-e06f-4045-bae3-178f3e36b09c",
   "metadata": {},
   "outputs": [
    {
     "data": {
      "text/plain": [
       "(0.046351084812623275, 0.056795131845841784)"
      ]
     },
     "execution_count": 17,
     "metadata": {},
     "output_type": "execute_result"
    }
   ],
   "source": [
    "visitors = pd.read_csv(\"../datasets/visitors.csv\")\n",
    "xA = visitors[visitors[\"version\"]==\"A\"][\"bought\"].values\n",
    "xB = visitors[visitors[\"version\"]==\"B\"][\"bought\"].values\n",
    "pAhat = xA.mean()\n",
    "pBhat = xB.mean()\n",
    "pAhat, pBhat"
   ]
  },
  {
   "cell_type": "code",
   "execution_count": 18,
   "id": "3d972774-4d6e-400d-a0d6-103c28f4acbc",
   "metadata": {},
   "outputs": [
    {
     "data": {
      "text/plain": [
       "(1014, 986)"
      ]
     },
     "execution_count": 18,
     "metadata": {},
     "output_type": "execute_result"
    }
   ],
   "source": [
    "nA, nB = len(xA), len(xB)\n",
    "nA, nB"
   ]
  },
  {
   "cell_type": "code",
   "execution_count": 19,
   "id": "daf4eb12-c085-4e4c-8f38-a64622eeabfc",
   "metadata": {},
   "outputs": [
    {
     "data": {
      "text/plain": [
       "0.01044404703321851"
      ]
     },
     "execution_count": 19,
     "metadata": {},
     "output_type": "execute_result"
    }
   ],
   "source": [
    "d = pBhat - pAhat\n",
    "d"
   ]
  },
  {
   "cell_type": "code",
   "execution_count": 20,
   "id": "1be77970-0c2f-48b6-8408-774c9928ace2",
   "metadata": {},
   "outputs": [],
   "source": [
    "varA = pAhat*(1-pAhat)\n",
    "varB = pBhat*(1-pBhat)\n",
    "seD = np.sqrt(varA/nA + varB/nB)"
   ]
  },
  {
   "cell_type": "code",
   "execution_count": 21,
   "id": "566ccf64-265b-4cd3-acbe-54aa78993a86",
   "metadata": {},
   "outputs": [
    {
     "data": {
      "image/png": "[encoded data removed]",
      "text/plain": [
       "<Figure size 504x288 with 1 Axes>"
      ]
     },
     "metadata": {
      "image/png": {
       "height": 262,
       "width": 437
      }
     },
     "output_type": "display_data"
    }
   ],
   "source": [
    "from scipy.stats import norm\n",
    "Dhat = norm(d, seD)\n",
    "ax = plot_pdf(Dhat)"
   ]
  },
  {
   "cell_type": "code",
   "execution_count": null,
   "id": "22cad481-cf44-4cca-bfd3-bdcb8a94e777",
   "metadata": {},
   "outputs": [],
   "source": []
  },
  {
   "cell_type": "code",
   "execution_count": 22,
   "id": "c025cbe2-c06d-4803-8033-601e405bb655",
   "metadata": {},
   "outputs": [
    {
     "data": {
      "image/png": "[encoded data removed]",
      "text/plain": [
       "<Figure size 504x288 with 1 Axes>"
      ]
     },
     "execution_count": 22,
     "metadata": {
      "image/png": {
       "height": 262,
       "width": 437
      }
     },
     "output_type": "execute_result"
    }
   ],
   "source": [
    "# compute bootstrap estimates for mean in each group\n",
    "meanA_bstats = bootstrap_stat(xA, statfunc=np.mean)\n",
    "meanB_bstats = bootstrap_stat(xB, statfunc=np.mean)\n",
    "\n",
    "# compute the difference between means from bootstrap samples\n",
    "dprops_bstats = []\n",
    "for bmeanA, bmeanB in zip(meanA_bstats, meanB_bstats):\n",
    "    d_boot = bmeanB - bmeanA\n",
    "    dprops_bstats.append(d_boot)\n",
    "\n",
    "sns.histplot(dprops_bstats, stat=\"density\", ax=ax)\n",
    "ax.figure"
   ]
  },
  {
   "cell_type": "code",
   "execution_count": null,
   "id": "c9c969a1-0c74-4979-ad86-d3a2bab89af5",
   "metadata": {},
   "outputs": [],
   "source": []
  },
  {
   "cell_type": "markdown",
   "id": "ed5f2ae6-914b-4698-a536-6cfb1ba8bb30",
   "metadata": {},
   "source": [
    "## Confidence intervals"
   ]
  },
  {
   "cell_type": "markdown",
   "id": "b7b80298-bf8b-4f1f-94f3-e370d77d38f2",
   "metadata": {},
   "source": [
    "### Bootstrap confidence intervals"
   ]
  },
  {
   "cell_type": "markdown",
   "id": "fb4a2efb-3938-456d-bcae-fab7080adce2",
   "metadata": {},
   "source": [
    "### Analytical approximations"
   ]
  },
  {
   "cell_type": "code",
   "execution_count": null,
   "id": "49092bde-ff3a-4345-9e8d-72fab1639f6a",
   "metadata": {},
   "outputs": [],
   "source": []
  },
  {
   "cell_type": "code",
   "execution_count": null,
   "id": "6a0ae296-fdb8-4150-8530-dfd33d5997c5",
   "metadata": {},
   "outputs": [],
   "source": []
  },
  {
   "cell_type": "markdown",
   "id": "bae0f654-4ea8-4b67-97a8-f5eeac56fd38",
   "metadata": {},
   "source": [
    "## Explanations"
   ]
  },
  {
   "cell_type": "code",
   "execution_count": null,
   "id": "a3a01b76-c34b-4bd0-99ee-8d598ff859c3",
   "metadata": {},
   "outputs": [],
   "source": []
  },
  {
   "cell_type": "markdown",
   "id": "55903ffc-11fa-4bd0-bc36-756919b670ce",
   "metadata": {},
   "source": [
    "## Discussion"
   ]
  },
  {
   "cell_type": "code",
   "execution_count": null,
   "id": "cecb2c14-f50c-49e4-8197-a1f5c9eeb5db",
   "metadata": {},
   "outputs": [],
   "source": []
  },
  {
   "cell_type": "code",
   "execution_count": null,
   "id": "081f53a4-078f-49c3-b73d-e2d0b8e75a48",
   "metadata": {},
   "outputs": [],
   "source": []
  },
  {
   "cell_type": "code",
   "execution_count": null,
   "id": "e94d280e-07ae-4ba4-a3e2-d797a4c39ecc",
   "metadata": {},
   "outputs": [],
   "source": []
  },
  {
   "cell_type": "markdown",
   "id": "4d83094a-7616-4886-9c9a-b968c795ae14",
   "metadata": {},
   "source": [
    "# CUT MATERIAL"
   ]
  },
  {
   "cell_type": "code",
   "execution_count": null,
   "id": "77053a08-0744-4566-9ce0-71d5e85b5ceb",
   "metadata": {},
   "outputs": [],
   "source": []
  },
  {
   "cell_type": "markdown",
   "id": "e2ec59ca-d64e-43d0-b275-0a20713f8f36",
   "metadata": {},
   "source": [
    "## Example diff betweeen known Normals"
   ]
  },
  {
   "cell_type": "code",
   "execution_count": 23,
   "id": "04fbbf4c-3f2b-48fa-bd43-09f2721b44ca",
   "metadata": {},
   "outputs": [],
   "source": [
    "# example parameters for each group\n",
    "muA, sigmaA = 300, 10\n",
    "muB, sigmaB = 200, 20\n",
    "\n",
    "# size of samples for each group\n",
    "nA = 5\n",
    "nB = 4"
   ]
  },
  {
   "cell_type": "markdown",
   "id": "67294b57-bddf-4274-887b-9e0db9f8068b",
   "metadata": {},
   "source": [
    "#### Particular value of the estimator `dmeans`"
   ]
  },
  {
   "cell_type": "code",
   "execution_count": 24,
   "id": "bf56eda9-6746-4058-aea8-ffcac002dab4",
   "metadata": {},
   "outputs": [
    {
     "data": {
      "text/plain": [
       "117.48970206593862"
      ]
     },
     "execution_count": 24,
     "metadata": {},
     "output_type": "execute_result"
    }
   ],
   "source": [
    "xA = norm(muA, sigmaA).rvs(nA)  # random sample from Group A\n",
    "xB = norm(muB, sigmaB).rvs(nB)  # random sample from Group B\n",
    "\n",
    "d = dmeans(xA, xB)\n",
    "d"
   ]
  },
  {
   "cell_type": "markdown",
   "id": "53235b79-2c40-4b75-83af-e6f5060b6086",
   "metadata": {},
   "source": [
    "The value of $\\hat{d}$ computed from the samples is an estimate for the difference between means of two groups: $\\Delta =  \\mu_A - \\mu_{B}$ (which we know is $100$ in this example)."
   ]
  },
  {
   "cell_type": "code",
   "execution_count": 25,
   "id": "662f8ae3-1ef8-4805-8f3f-61aa550dc15f",
   "metadata": {},
   "outputs": [],
   "source": [
    "# MAYBE USE IN EXERCISE\n",
    "def gen_sampling_dist2(rvA, rvB, statfunc, nA, nB, N=1000):\n",
    "    stats = []\n",
    "    for i in range(0, N):\n",
    "        xA = rvA.rvs(nA)\n",
    "        xB = rvB.rvs(nB)\n",
    "        stat = statfunc(xA, xB)\n",
    "        stats.append(stat)\n",
    "    return stats"
   ]
  },
  {
   "cell_type": "code",
   "execution_count": 26,
   "id": "c3cc80f7-5323-41ee-ba14-bfd0154e30b2",
   "metadata": {},
   "outputs": [],
   "source": [
    "def get_sampling_dist(statfunc, meanA, stdA, nA, meanB, stdB, nB, N=1000):\n",
    "    \"\"\"\n",
    "    Obtain the sampling distribution of the statistic `statfunc`\n",
    "    from `N` random samples drawn from groups A and B with parmeters:\n",
    "      - Group A: `nA` values taken from `norm(meanA, stdA)`\n",
    "      - Group B: `nB` values taken from `norm(meanB, stdB)`\n",
    "    \"\"\"\n",
    "    stats = [] \n",
    "    for i in range(0, N):\n",
    "        xA = norm(meanA, stdA).rvs(nA)  # random sample from Group A\n",
    "        xB = norm(meanB, stdB).rvs(nB)  # random sample from Group B\n",
    "        stat = statfunc(xA, xB)         # evaluate `statfunc`\n",
    "        stats.append(stat)      # record the value of statfunc\n",
    "    return stats"
   ]
  },
  {
   "cell_type": "code",
   "execution_count": 27,
   "id": "bb2fb421-9fe8-473d-a16d-85cb3769931d",
   "metadata": {},
   "outputs": [
    {
     "name": "stdout",
     "output_type": "stream",
     "text": [
      "Generated 1000 values from `dmeans(XA, XB)`\n"
     ]
    }
   ],
   "source": [
    "# Generate the sampling distirbution for dmeans\n",
    "dmeans_sdist = get_sampling_dist(statfunc=dmeans,\n",
    "                                 meanA=muA, stdA=sigmaA, nA=nA,\n",
    "                                 meanB=muB, stdB=sigmaB, nB=nB)\n",
    "\n",
    "print(\"Generated\", len(dmeans_sdist), \"values from `dmeans(XA, XB)`\")"
   ]
  },
  {
   "cell_type": "code",
   "execution_count": 28,
   "id": "3d3cfdb7-bab8-4217-8071-b66e83d8a4eb",
   "metadata": {},
   "outputs": [
    {
     "data": {
      "text/plain": [
       "[87.8983846620313, 93.35915073139284, 104.48123797609409]"
      ]
     },
     "execution_count": 28,
     "metadata": {},
     "output_type": "execute_result"
    }
   ],
   "source": [
    "# first 3 values\n",
    "dmeans_sdist[0:3]"
   ]
  },
  {
   "cell_type": "markdown",
   "id": "a1875e51-730b-4ff3-bf12-d9035ef12737",
   "metadata": {},
   "source": [
    "#### Plot the sampling distribution of `dmeans`"
   ]
  },
  {
   "cell_type": "code",
   "execution_count": 29,
   "id": "f5093f77-f46a-4845-824d-0a41e037194b",
   "metadata": {},
   "outputs": [
    {
     "data": {
      "image/png": "[encoded data removed]",
      "text/plain": [
       "<Figure size 504x288 with 1 Axes>"
      ]
     },
     "metadata": {
      "image/png": {
       "height": 263,
       "width": 522
      }
     },
     "output_type": "display_data"
    }
   ],
   "source": [
    "ax3 = sns.histplot(dmeans_sdist, stat=\"density\")\n",
    "title3 = \"Samping distribution of D = mean($\\mathbf{X}_A$) - mean($\\mathbf{X}_B$) \" + \\\n",
    "         \"for samples of size $n_A$ = \" + str(nA) + \\\n",
    "         \" from $\\mathcal{N}$(\" + str(muA) + \",\" + str(sigmaA) + \")\" + \\\n",
    "         \" and $n_B$ = \" + str(nB) + \\\n",
    "         \" from $\\mathcal{N}$(\" + str(muB) + \",\" + str(sigmaB) + \")\"\n",
    "_ = ax3.set_title(title3)"
   ]
  }
 ],
 "metadata": {
  "kernelspec": {
   "display_name": "Python 3 (ipykernel)",
   "language": "python",
   "name": "python3"
  },
  "language_info": {
   "codemirror_mode": {
    "name": "ipython",
    "version": 3
   },
   "file_extension": ".py",
   "mimetype": "text/x-python",
   "name": "python",
   "nbconvert_exporter": "python",
   "pygments_lexer": "ipython3",
   "version": "3.9.4"
  }
 },
 "nbformat": 4,
 "nbformat_minor": 5
}
