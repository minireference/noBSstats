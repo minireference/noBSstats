{
 "cells": [
  {
   "cell_type": "markdown",
   "id": "b73f3d18-88c7-499d-90a3-dd6954247cf3",
   "metadata": {
    "tags": []
   },
   "source": [
    "# Section 3.1 — Estimators\n",
    "\n",
    "This notebook contains the code examples from [Section 3.1 Estimators]() of the **No Bullshit Guide to Statistics**.\n",
    "\n",
    "We'll begin our study of inferential statistics by introducing **estimators**,\n",
    "which are the math tools used for both **estimation**  and **hypothesis testing**.\n",
    "\n",
    "![simplified_estimators.png](../stats_overview/figures/simplified_estimators.png)"
   ]
  },
  {
   "cell_type": "markdown",
   "id": "efce8e91-8824-4103-a526-02e23c794668",
   "metadata": {
    "tags": []
   },
   "source": [
    "#### Notebook setup"
   ]
  },
  {
   "cell_type": "code",
   "execution_count": 1,
   "id": "990de07d-c26f-4a29-935a-2b1dacc89b34",
   "metadata": {},
   "outputs": [],
   "source": [
    "# load Python modules\n",
    "import os\n",
    "import numpy as np\n",
    "import pandas as pd\n",
    "import seaborn as sns\n",
    "import matplotlib.pyplot as plt"
   ]
  },
  {
   "cell_type": "code",
   "execution_count": 2,
   "id": "9c117451-42db-4542-81a7-7b47b02686e1",
   "metadata": {},
   "outputs": [],
   "source": [
    "# Plot helper functions\n",
    "from plot_helpers import plot_pdf\n",
    "from plot_helpers import savefigure"
   ]
  },
  {
   "cell_type": "code",
   "execution_count": 3,
   "id": "3209c5be-cb6a-42c0-8bf8-949a4fc0ff39",
   "metadata": {},
   "outputs": [],
   "source": [
    "# Figures setup\n",
    "sns.set_theme(\n",
    "    context=\"paper\",\n",
    "    style=\"whitegrid\",\n",
    "    palette=\"colorblind\",\n",
    "    rc={'figure.figsize': (5,2)},\n",
    ")\n",
    "blue, orange  = sns.color_palette()[0], sns.color_palette()[1]\n",
    "\n",
    "DESTDIR = \"figures/stats/estimators\"\n",
    "\n",
    "%config InlineBackend.figure_format = 'retina'"
   ]
  },
  {
   "cell_type": "code",
   "execution_count": null,
   "id": "732928e1-64df-41a8-9ee7-6cc0688641d0",
   "metadata": {},
   "outputs": [],
   "source": []
  },
  {
   "cell_type": "code",
   "execution_count": 4,
   "id": "df22d8d7-6814-4c3b-a3d3-2f31ab6b2f3b",
   "metadata": {},
   "outputs": [],
   "source": [
    "# set random seed for repeatability\n",
    "np.random.seed(42)"
   ]
  },
  {
   "cell_type": "markdown",
   "id": "9ee8aad0-01a7-4aff-819f-9de0d15d52c3",
   "metadata": {},
   "source": [
    "$\\def\\stderr#1{\\mathbf{se}_{#1}}$\n",
    "$\\def\\stderrhat#1{\\hat{\\mathbf{se}}_{#1}}$\n",
    "$\\newcommand{\\Mean}{\\textbf{Mean}}$\n",
    "$\\newcommand{\\Var}{\\textbf{Var}}$\n",
    "$\\newcommand{\\Std}{\\textbf{Std}}$\n",
    "$\\newcommand{\\Freq}{\\textbf{Freq}}$\n",
    "$\\newcommand{\\RelFreq}{\\textbf{RelFreq}}$\n",
    "$\\newcommand{\\DMeans}{\\textbf{DMeans}}$\n",
    "$\\newcommand{\\Prop}{\\textbf{Prop}}$\n",
    "$\\newcommand{\\DProps}{\\textbf{DProps}}$\n",
    "\n",
    "\n",
    "(this cell contains the macro definitions $\\stderr{}$, $\\stderrhat{}$, $\\Mean$, ...)"
   ]
  },
  {
   "cell_type": "markdown",
   "id": "576f7dfd-7b94-4dd1-82c1-b55358f06534",
   "metadata": {},
   "source": [
    " "
   ]
  },
  {
   "cell_type": "markdown",
   "id": "8804a09a-f4ad-4ff6-a449-1ee3ee3431aa",
   "metadata": {},
   "source": [
    "## Statistical inference context\n",
    "\n",
    "DATA:\n",
    "- population\n",
    "- sample\n",
    "- statistic\n",
    "\n",
    "PROB:\n",
    "- probability model\n",
    "- model family\n",
    "- parameters\n",
    "\n",
    "\n",
    "Statistical inference is the use the values of the statistics obtained from the sample $\\mathbf{x} = (x_1, x_2, \\ldots, x_n)$ to estimate the population parameters $\\theta$. For example,\n",
    "the sample mean $\\overline{\\mathbf{x}}=\\Mean(\\mathbf{x})$ is an estimate of the population mean $\\mu$,\n",
    "and the sample variance $s_{\\mathbf{x}}^2=\\Var(\\mathbf{x})$ is an estimate of the population variance $\\sigma^2$."
   ]
  },
  {
   "cell_type": "markdown",
   "id": "e5d5f270-ee83-42f7-bba5-0dccb2d7a4be",
   "metadata": {},
   "source": [
    "## Estimator definitions\n",
    "\n",
    "- We use the term \"estimator\" to describe a function $g$ that takes samples as inputs\n",
    "  and produces parameter estimates as outputs.\n",
    "  Written mathematically, and estimator is a function of the form:\n",
    "  $$\n",
    "   g \\colon \\underbrace{\\mathcal{X}\\times \\mathcal{X}\\times \\cdots \\times \\mathcal{X}}_{n \\textrm{ copies}}\n",
    "   \\quad \\to \\quad \\mathbb{R},\n",
    "  $$\n",
    "  where $n$ is the samples size and $\\mathcal{X}$ denotes the possible values of the random variable $X$.\n",
    "- We give different names to estimates, depending on the use case:\n",
    "  - **statistic** = a quantity computed from a sample (e.g. descriptive statistics)\n",
    "  - **parameter estimates** = statistics that estimate population parameters\n",
    "  - **test statistic** = an estimate used as part of hypothesis testing procedure\n",
    "- The **value** of the estimator $g(\\mathbf{x})$ is computed from a particular sample\n",
    "  $\\mathbf{x} = (x_1, x_2, \\ldots, x_n)$.\n",
    "- The **sampling distribution** of the estimator $g$ is the distribution of $g(\\mathbf{X})$,\n",
    "  where $\\mathbf{X} = (X_1, X_2, \\ldots, X_n)$ is a *random sample*."
   ]
  },
  {
   "cell_type": "markdown",
   "id": "9c7a3a4e-1796-407e-a0ac-0492a17c9178",
   "metadata": {},
   "source": [
    " "
   ]
  },
  {
   "cell_type": "markdown",
   "id": "118a6db9-812b-4583-94df-23496f82e3bb",
   "metadata": {},
   "source": [
    "### Estimators for numerical variables\n",
    "\n",
    "Let's start with some estimators you're already familiar with (discussed in [descriptive statistics](./13_descriptive_statistics.ipynb)):"
   ]
  },
  {
   "cell_type": "markdown",
   "id": "cd0daa61-a700-4147-bfa7-b828557243d5",
   "metadata": {},
   "source": [
    "#### Sample mean\n",
    "\n",
    "  - estimator: $\\overline{\\mathbf{x}} = \\Mean(\\mathbf{x}) = \\frac{1}{n}\\sum_{i=1}^n x_i$\n",
    "  - gives an estimate for the population mean $\\mu$"
   ]
  },
  {
   "cell_type": "code",
   "execution_count": 5,
   "id": "cdf63b86-eb30-452e-9cb5-0205b75f87e0",
   "metadata": {},
   "outputs": [],
   "source": [
    "def mean(sample):\n",
    "    return sum(sample) / len(sample)\n",
    "\n",
    "# ALT. use np.mean(sample)\n",
    "# ALT. use .mean() method on a Pandas series"
   ]
  },
  {
   "cell_type": "code",
   "execution_count": null,
   "id": "a06fe0fd-4eea-422a-84a6-221e6086f661",
   "metadata": {},
   "outputs": [],
   "source": []
  },
  {
   "cell_type": "markdown",
   "id": "b9753ab0-53dd-4488-98b0-572cbb6ed1ba",
   "metadata": {},
   "source": [
    "#### Sample variance\n",
    "\n",
    "  - estimator: $s_{\\mathbf{x}}^2 = \\Var(\\mathbf{x}) = \\frac{1}{n-1}\\sum_{i=1}^n (x_i-\\overline{\\mathbf{x}})^2$\n",
    "  - gives an estimate for the population variance $\\sigma^2$\n",
    "  - note the denominator is $(n-1)$ and not $n$ "
   ]
  },
  {
   "cell_type": "code",
   "execution_count": 6,
   "id": "12904756-3603-4d08-9f83-b3b89eaaf15c",
   "metadata": {},
   "outputs": [],
   "source": [
    "def var(sample):\n",
    "    xbar = mean(sample)\n",
    "    sumsqdevs = sum([(xi-xbar)**2 for xi in sample])\n",
    "    return sumsqdevs / (len(sample)-1)\n",
    "\n",
    "# ALT. use np.var(sample, ddof=1)\n",
    "# ALT. use .var() method on a Pandas series"
   ]
  },
  {
   "cell_type": "code",
   "execution_count": null,
   "id": "6b3fba80-f8cc-4b9f-addf-ac2401d27a31",
   "metadata": {},
   "outputs": [],
   "source": []
  },
  {
   "cell_type": "markdown",
   "id": "7b4870cb-efb4-4fb4-8493-c3b350dc3388",
   "metadata": {},
   "source": [
    "In this notebook we'll develop some new estimators that are specific for the comparison of the two groups.\n",
    "\n",
    "#### Difference between sample means\n",
    "  - estimator: $\\hat{d} = \\DMeans(\\mathbf{x}_A, \\mathbf{x}_B) = \\Mean(\\mathbf{x}_A) - \\Mean(\\mathbf{x}_B) = \\overline{\\mathbf{x}}_A - \\overline{\\mathbf{x}}_B$\n",
    "  - gives an estimate for the difference between population means: $\\Delta =  \\mu_A - \\mu_B$"
   ]
  },
  {
   "cell_type": "code",
   "execution_count": 7,
   "id": "7100e5f2-38e1-4d3d-971f-fe88b2ffa94d",
   "metadata": {},
   "outputs": [],
   "source": [
    "def dmeans(xsample, ysample):\n",
    "    \"\"\"\n",
    "    Compute the difference between group means of the samples.\n",
    "    \"\"\"\n",
    "    dhat = mean(xsample) - mean(ysample)\n",
    "    return dhat"
   ]
  },
  {
   "cell_type": "code",
   "execution_count": null,
   "id": "41f0297f-1d77-4d76-acaf-8951c8605457",
   "metadata": {},
   "outputs": [],
   "source": []
  },
  {
   "cell_type": "markdown",
   "id": "d5bb63d9-532d-441b-a757-149e3397c38c",
   "metadata": {},
   "source": [
    "#### Example 1: electricity prices means, variances, and difference between means\n"
   ]
  },
  {
   "cell_type": "code",
   "execution_count": 8,
   "id": "80b3b03b-7390-4d96-8b2d-39e3b45a818a",
   "metadata": {},
   "outputs": [],
   "source": [
    "eprices = pd.read_csv(\"../datasets/eprices.csv\")\n",
    "# eprices"
   ]
  },
  {
   "cell_type": "code",
   "execution_count": 9,
   "id": "6255e10e-7ccc-46e8-983a-3491f7fd474d",
   "metadata": {},
   "outputs": [
    {
     "data": {
      "text/plain": [
       "array([11.8, 10. , 11. ,  8.6,  8.3,  9.4,  8. ,  6.8,  8.5])"
      ]
     },
     "execution_count": 9,
     "metadata": {},
     "output_type": "execute_result"
    }
   ],
   "source": [
    "xW = eprices[\"West\"]\n",
    "xW.values"
   ]
  },
  {
   "cell_type": "code",
   "execution_count": 10,
   "id": "4fb0bc7e-206d-4fd2-bc2a-4ee361296f88",
   "metadata": {},
   "outputs": [
    {
     "data": {
      "text/plain": [
       "array([7.7, 5.9, 7. , 4.8, 6.3, 6.3, 5.5, 5.4, 6.5])"
      ]
     },
     "execution_count": 10,
     "metadata": {},
     "output_type": "execute_result"
    }
   ],
   "source": [
    "xE = eprices[\"East\"]\n",
    "xE.values"
   ]
  },
  {
   "cell_type": "markdown",
   "id": "6738bace-fa7d-4424-b063-b5c5d322a1a0",
   "metadata": {},
   "source": [
    "Next we calculate the mean of the prices in the West end:"
   ]
  },
  {
   "cell_type": "code",
   "execution_count": 11,
   "id": "ea107686-26b1-42df-9a0b-140de13a506d",
   "metadata": {},
   "outputs": [
    {
     "data": {
      "text/plain": [
       "9.155555555555555"
      ]
     },
     "execution_count": 11,
     "metadata": {},
     "output_type": "execute_result"
    }
   ],
   "source": [
    "mean(xW)"
   ]
  },
  {
   "cell_type": "markdown",
   "id": "e0d5d544-1cfc-41cb-a4ca-46b720c2f4ba",
   "metadata": {},
   "source": [
    "Let's also calculate the variance of the electricity prices in the West end:"
   ]
  },
  {
   "cell_type": "code",
   "execution_count": 12,
   "id": "bf03ff87-b315-4cb5-b0e1-2cc60c5db539",
   "metadata": {},
   "outputs": [
    {
     "data": {
      "text/plain": [
       "2.440277777777778"
      ]
     },
     "execution_count": 12,
     "metadata": {},
     "output_type": "execute_result"
    }
   ],
   "source": [
    "var(xW)"
   ]
  },
  {
   "cell_type": "markdown",
   "id": "b5517865-ab6d-4395-91af-e395f4ceb2f2",
   "metadata": {},
   "source": [
    "Similarly, we can calculate the mean and the variance of the electricity prices in the East end."
   ]
  },
  {
   "cell_type": "code",
   "execution_count": 13,
   "id": "f494d870-25ed-4f9b-88a8-94a939bc6fa4",
   "metadata": {},
   "outputs": [
    {
     "data": {
      "text/plain": [
       "(6.155555555555555, 0.7702777777777777)"
      ]
     },
     "execution_count": 13,
     "metadata": {},
     "output_type": "execute_result"
    }
   ],
   "source": [
    "mean(xE), var(xE)"
   ]
  },
  {
   "cell_type": "markdown",
   "id": "02c8b939-1c6b-40e8-a351-6c6f1818e5cf",
   "metadata": {},
   "source": [
    "Finally,\n",
    "we compute the estimate $\\hat{d} = \\textrm{DMeans}(\\tt{xW}, \\tt{xE})$."
   ]
  },
  {
   "cell_type": "code",
   "execution_count": 14,
   "id": "eb70b02e-2c62-497f-951a-a2883cf60882",
   "metadata": {},
   "outputs": [
    {
     "data": {
      "text/plain": [
       "3.0"
      ]
     },
     "execution_count": 14,
     "metadata": {},
     "output_type": "execute_result"
    }
   ],
   "source": [
    "dmeans(xW, xE)"
   ]
  },
  {
   "cell_type": "code",
   "execution_count": null,
   "id": "aa01e98a-26c3-4e4d-bbae-5b1df48cbf54",
   "metadata": {},
   "outputs": [],
   "source": []
  },
  {
   "cell_type": "code",
   "execution_count": null,
   "id": "428bd3ce-19fb-4001-b62c-20958b4671a7",
   "metadata": {},
   "outputs": [],
   "source": []
  },
  {
   "cell_type": "code",
   "execution_count": null,
   "id": "6de365a6-ae60-4106-9378-0df622e5c22b",
   "metadata": {},
   "outputs": [],
   "source": []
  },
  {
   "cell_type": "code",
   "execution_count": null,
   "id": "adbbbf22-2dec-459f-874a-643530a3fe51",
   "metadata": {},
   "outputs": [],
   "source": []
  },
  {
   "cell_type": "markdown",
   "id": "401d6270-ac8d-4fab-8c55-3ad265614625",
   "metadata": {},
   "source": [
    " "
   ]
  },
  {
   "cell_type": "markdown",
   "id": "850996c2-d97f-48f1-82b1-c9258adb9aa6",
   "metadata": {},
   "source": [
    "## Sampling distributions\n",
    "\n",
    "\n",
    "TODO import definitions\n"
   ]
  },
  {
   "cell_type": "markdown",
   "id": "01b02fec-9914-469a-997b-9dea743719b9",
   "metadata": {},
   "source": [
    "### Examples of sampling distributions\n",
    "\n",
    "Let's look at the same estimators that we described in the previous section,\n",
    "but this time applied to *random* samples of size $n$:\n",
    "\n",
    "- Sample mean: $\\overline{\\mathbf{X}} = \\Mean(\\mathbf{X}) = \\tfrac{1}{n}\\sum_{i=1}^n X_i$\n",
    "- Sample variance: $S_{\\mathbf{X}}^2 = \\Var(\\mathbf{X}) = \\tfrac{1}{n-1}\\sum_{i=1}^n \\left(X_i - \\overline{\\mathbf{X}} \\right)^2$\n",
    "- Difference between sample means: $\\hat{D} = \\DMeans(\\mathbf{X}, \\mathbf{Y}) = \\overline{\\mathbf{X}} - \\overline{\\mathbf{Y}}$ \n",
    "\n",
    "Note these formulas is identical to the formulas we saw earlier.\n",
    "The only difference is that we're calculating the functions $g$, $h$, and $d$ based on a random sample $\\mathbf{X} = (X_1, X_2, \\ldots, X_n)$,\n",
    "instead of particular sample $\\mathbf{x} = (x_1, x_2, \\ldots, x_n)$."
   ]
  },
  {
   "cell_type": "markdown",
   "id": "e7af3ff2-c496-46b9-b372-d28d025c71f0",
   "metadata": {},
   "source": [
    "### Estimator properties\n",
    "\n",
    "- **bias**\n",
    "- **variance**\n",
    "  The square root of the variance of an estimator is called the **standard error**.\n",
    "\n",
    "\n",
    "![bias and variance](attachments/stats/estimators/bias_and_variance_targets.png)"
   ]
  },
  {
   "cell_type": "code",
   "execution_count": null,
   "id": "29b8d70a-d168-4f99-ba5d-ffcab8c0e65f",
   "metadata": {},
   "outputs": [],
   "source": []
  },
  {
   "cell_type": "markdown",
   "id": "98c3da7b-4449-467d-8760-2fee6c584717",
   "metadata": {},
   "source": [
    "### Visualizing sampling distributions\n",
    "\n"
   ]
  },
  {
   "cell_type": "code",
   "execution_count": 15,
   "id": "2892a2c6-ab0a-4178-9741-8f9ea515fe33",
   "metadata": {},
   "outputs": [],
   "source": [
    "def gen_sampling_dist(rv, statfunc, n, N=10000):\n",
    "    stats = []\n",
    "    for i in range(0, N):\n",
    "        sample = rv.rvs(n)\n",
    "        stat = statfunc(sample)\n",
    "        stats.append(stat)\n",
    "    return stats"
   ]
  },
  {
   "cell_type": "code",
   "execution_count": null,
   "id": "0270f1fb-eeb9-4660-ad83-e4493e4fefcf",
   "metadata": {},
   "outputs": [],
   "source": []
  },
  {
   "cell_type": "markdown",
   "id": "9284d3fe-d6a8-46d7-9e72-7754ef67e6b1",
   "metadata": {},
   "source": [
    "#### Example 2: normally distributed population with known parameters"
   ]
  },
  {
   "cell_type": "code",
   "execution_count": 16,
   "id": "a9cb10d3-3c6a-48d7-8067-e8f99ac6c555",
   "metadata": {},
   "outputs": [
    {
     "data": {
      "image/png": "[encoded data removed]",
      "text/plain": [
       "<Figure size 360x144 with 1 Axes>"
      ]
     },
     "metadata": {
      "image/png": {
       "height": 153,
       "width": 338
      }
     },
     "output_type": "display_data"
    }
   ],
   "source": [
    "from scipy.stats import norm\n",
    "mu = 1000\n",
    "sigma = 100\n",
    "rvN = norm(mu, sigma)\n",
    "\n",
    "ax = plot_pdf(rvN, xlims=[600,1400], rv_name=\"N\")"
   ]
  },
  {
   "cell_type": "code",
   "execution_count": 17,
   "id": "13a8bbd9-e0d8-43c6-82b2-a8d70de683a1",
   "metadata": {},
   "outputs": [
    {
     "name": "stdout",
     "output_type": "stream",
     "text": [
      "Saved figure to figures/stats/estimators/plot_pdf_normal_mu1000_sigma100.pdf\n",
      "Saved figure to figures/stats/estimators/plot_pdf_normal_mu1000_sigma100.png\n"
     ]
    }
   ],
   "source": [
    "filename = os.path.join(DESTDIR, \"plot_pdf_normal_mu1000_sigma100.pdf\")\n",
    "savefigure(ax, filename)"
   ]
  },
  {
   "cell_type": "markdown",
   "id": "666e2959-0b03-4623-a4d8-b00bf876af4d",
   "metadata": {},
   "source": [
    "##### Sampling distribution of sample mean"
   ]
  },
  {
   "cell_type": "code",
   "execution_count": 18,
   "id": "2da82019-6432-43a8-8d98-cedbad02f79a",
   "metadata": {},
   "outputs": [
    {
     "data": {
      "image/png": "[encoded data removed]",
      "text/plain": [
       "<Figure size 360x144 with 1 Axes>"
      ]
     },
     "metadata": {
      "image/png": {
       "height": 154,
       "width": 336
      }
     },
     "output_type": "display_data"
    }
   ],
   "source": [
    "np.random.seed(43)\n",
    "nbars = gen_sampling_dist(rvN, statfunc=mean, n=20)\n",
    "ax = sns.histplot(nbars, stat=\"density\", bins=100)\n",
    "_ = ax.set_xlabel(\"$\\overline{\\mathbf{n}}$\")"
   ]
  },
  {
   "cell_type": "code",
   "execution_count": 19,
   "id": "667471ce-134c-4b02-98dd-f7aca3ef2b5d",
   "metadata": {},
   "outputs": [
    {
     "name": "stdout",
     "output_type": "stream",
     "text": [
      "Saved figure to figures/stats/estimators/sampling_dist_mean_n20_normal_mu1000_sigma100.pdf\n",
      "Saved figure to figures/stats/estimators/sampling_dist_mean_n20_normal_mu1000_sigma100.png\n"
     ]
    }
   ],
   "source": [
    "filename = os.path.join(DESTDIR, \"sampling_dist_mean_n20_normal_mu1000_sigma100.pdf\")\n",
    "savefigure(ax, filename)"
   ]
  },
  {
   "cell_type": "code",
   "execution_count": 20,
   "id": "71040005-7e2a-47de-b8a7-9931353bdd3a",
   "metadata": {},
   "outputs": [
    {
     "data": {
      "text/plain": [
       "(1000, 999.7597183686964)"
      ]
     },
     "execution_count": 20,
     "metadata": {},
     "output_type": "execute_result"
    }
   ],
   "source": [
    "# expected  observed\n",
    "mu,         np.mean(nbars)"
   ]
  },
  {
   "cell_type": "code",
   "execution_count": 21,
   "id": "35a501ff-1abb-44a1-a1d3-df65ed20e741",
   "metadata": {},
   "outputs": [
    {
     "data": {
      "text/plain": [
       "(500.0, 487.6015916377254)"
      ]
     },
     "execution_count": 21,
     "metadata": {},
     "output_type": "execute_result"
    }
   ],
   "source": [
    "# expected     observed\n",
    "sigma**2/20,   np.var(nbars, ddof=1)"
   ]
  },
  {
   "cell_type": "code",
   "execution_count": null,
   "id": "accc7eaf-3136-4fca-a487-50c688f2741f",
   "metadata": {},
   "outputs": [],
   "source": []
  },
  {
   "cell_type": "code",
   "execution_count": null,
   "id": "3f8cd205-8ce0-4c23-bd2f-1ac0f855747f",
   "metadata": {},
   "outputs": [],
   "source": []
  },
  {
   "cell_type": "markdown",
   "id": "d1a2d260-0189-45bf-8e5a-9130647fb284",
   "metadata": {},
   "source": [
    "##### Sampling distribution of sample variance"
   ]
  },
  {
   "cell_type": "code",
   "execution_count": 22,
   "id": "5ff90f1e-2330-421f-b6b9-62fbaea5033c",
   "metadata": {},
   "outputs": [
    {
     "data": {
      "image/png": "[encoded data removed]",
      "text/plain": [
       "<Figure size 360x144 with 1 Axes>"
      ]
     },
     "metadata": {
      "image/png": {
       "height": 157,
       "width": 351
      }
     },
     "output_type": "display_data"
    }
   ],
   "source": [
    "np.random.seed(44)\n",
    "nvars = gen_sampling_dist(rvN, statfunc=var, n=20)\n",
    "ax = sns.histplot(nvars, stat=\"density\", bins=100)\n",
    "_ = ax.set_xlabel(\"$s^2_{\\mathbf{n}}$\")"
   ]
  },
  {
   "cell_type": "code",
   "execution_count": 23,
   "id": "9f9c295f-bca9-4864-aea0-4bcf6847b78d",
   "metadata": {},
   "outputs": [
    {
     "name": "stdout",
     "output_type": "stream",
     "text": [
      "Saved figure to figures/stats/estimators/sampling_dist_var_n20_normal_mu1000_sigma100.pdf\n",
      "Saved figure to figures/stats/estimators/sampling_dist_var_n20_normal_mu1000_sigma100.png\n"
     ]
    }
   ],
   "source": [
    "filename = os.path.join(DESTDIR, \"sampling_dist_var_n20_normal_mu1000_sigma100.pdf\")\n",
    "savefigure(ax, filename)"
   ]
  },
  {
   "cell_type": "code",
   "execution_count": 24,
   "id": "99333769-27e5-40b5-8693-1899a628dfd4",
   "metadata": {},
   "outputs": [
    {
     "data": {
      "text/plain": [
       "(10000, 9939.922540353122)"
      ]
     },
     "execution_count": 24,
     "metadata": {},
     "output_type": "execute_result"
    }
   ],
   "source": [
    "# expected   observed\n",
    "sigma**2,    np.mean(nvars)"
   ]
  },
  {
   "cell_type": "code",
   "execution_count": null,
   "id": "e6bf3701-e591-4551-8ae2-23598403ed6a",
   "metadata": {},
   "outputs": [],
   "source": []
  },
  {
   "cell_type": "markdown",
   "id": "b00d1ca4-1145-460e-a805-1ecd3af09c80",
   "metadata": {
    "jp-MarkdownHeadingCollapsed": true,
    "tags": []
   },
   "source": [
    "##### Sampling distribution of sample median (optional)"
   ]
  },
  {
   "cell_type": "code",
   "execution_count": 25,
   "id": "eb6d21a3-4d8d-40b3-a134-113f5cfd5c7b",
   "metadata": {},
   "outputs": [
    {
     "data": {
      "image/png": "[encoded data removed]",
      "text/plain": [
       "<Figure size 360x144 with 1 Axes>"
      ]
     },
     "metadata": {
      "image/png": {
       "height": 155,
       "width": 336
      }
     },
     "output_type": "display_data"
    }
   ],
   "source": [
    "np.random.seed(44)\n",
    "nmedians = gen_sampling_dist(rvN, statfunc=np.median, n=20)\n",
    "ax = sns.histplot(nmedians, stat=\"density\", bins=100)\n",
    "_ = ax.set_xlabel(\"Median(${\\mathbf{n}}$)\")"
   ]
  },
  {
   "cell_type": "markdown",
   "id": "9e81b89a-debf-4051-b6c8-b03890f8a4a9",
   "metadata": {
    "jp-MarkdownHeadingCollapsed": true,
    "tags": []
   },
   "source": [
    "##### Sampling distribution of 90th percentile (optional)"
   ]
  },
  {
   "cell_type": "code",
   "execution_count": 26,
   "id": "cb64205e-30fd-4303-addf-14cd7c3a8761",
   "metadata": {},
   "outputs": [
    {
     "data": {
      "image/png": "[encoded data removed]",
      "text/plain": [
       "<Figure size 360x144 with 1 Axes>"
      ]
     },
     "metadata": {
      "image/png": {
       "height": 157,
       "width": 336
      }
     },
     "output_type": "display_data"
    }
   ],
   "source": [
    "def ninetypctile(sample):\n",
    "    return np.percentile(sample, 90)\n",
    "    \n",
    "ninetypctiles = gen_sampling_dist(rvN, statfunc=ninetypctile, n=30)\n",
    "ax = sns.histplot(ninetypctiles, stat=\"density\", bins=100)\n",
    "_ = ax.set_xlabel(\"90$^\\mathrm{th}$ percentile of ${\\mathbf{n}}$\")"
   ]
  },
  {
   "cell_type": "code",
   "execution_count": null,
   "id": "58059581-cb09-4aed-9656-189e72629312",
   "metadata": {},
   "outputs": [],
   "source": []
  },
  {
   "cell_type": "code",
   "execution_count": null,
   "id": "321bdfe8-9954-4c07-8142-9ca9026c3232",
   "metadata": {},
   "outputs": [],
   "source": []
  },
  {
   "cell_type": "markdown",
   "id": "b68e4f3e-34bc-4beb-8778-56746a7683e0",
   "metadata": {},
   "source": [
    "##### Ground truth for estimates\n",
    "\n",
    "Let's generate a particular sample to use in examples."
   ]
  },
  {
   "cell_type": "code",
   "execution_count": 27,
   "id": "9ae31c24-5702-4c3f-9c9b-08074e0d1f2b",
   "metadata": {},
   "outputs": [
    {
     "data": {
      "text/plain": [
       "array([ 915.19905242, 1130.59063579, 1092.42079662, 1064.04118012,\n",
       "        894.52630171, 1179.77607151,  898.72132495, 1082.36233243,\n",
       "        970.53496466,  940.75294285,  860.62729413, 1110.41796717,\n",
       "        906.76597141,  905.68435632, 1043.66062317, 1079.495827  ,\n",
       "       1071.95331527, 1008.76622566,  867.72515937, 1005.17939788])"
      ]
     },
     "execution_count": 27,
     "metadata": {},
     "output_type": "execute_result"
    }
   ],
   "source": [
    "np.random.seed(47)\n",
    "nsample20 = rvN.rvs(20)\n",
    "nsample20"
   ]
  },
  {
   "cell_type": "code",
   "execution_count": 28,
   "id": "75910bae-e1e9-47e0-9564-b48c32d50926",
   "metadata": {},
   "outputs": [],
   "source": [
    "# [round(n,2) for n in nsample20]"
   ]
  },
  {
   "cell_type": "code",
   "execution_count": 29,
   "id": "faa14a1e-b607-488d-abc6-cf15c6ef3630",
   "metadata": {},
   "outputs": [
    {
     "data": {
      "text/plain": [
       "1001.460087023688"
      ]
     },
     "execution_count": 29,
     "metadata": {},
     "output_type": "execute_result"
    }
   ],
   "source": [
    "mean(nsample20)"
   ]
  },
  {
   "cell_type": "code",
   "execution_count": 30,
   "id": "03aefbbb-73b6-4544-9a35-66a76fa2da30",
   "metadata": {},
   "outputs": [
    {
     "data": {
      "text/plain": [
       "9574.586463484658"
      ]
     },
     "execution_count": 30,
     "metadata": {},
     "output_type": "execute_result"
    }
   ],
   "source": [
    "var(nsample20)"
   ]
  },
  {
   "cell_type": "code",
   "execution_count": null,
   "id": "9d0261a5-d2af-4cdd-aac7-bde6e49841ae",
   "metadata": {},
   "outputs": [],
   "source": []
  },
  {
   "cell_type": "markdown",
   "id": "14f78a67-9767-4600-8d65-13df6eb799a1",
   "metadata": {},
   "source": [
    "##### Ground truth for sampling distributions\n",
    "\n",
    "The sampling distribution graphs we saw above represent the true sampling distributions\n",
    "for the estimators $\\Mean$, $\\Var$, etc.,\n",
    "generated from samples of size $n=20$ from the population\n",
    "$N \\sim \\mathcal{N}(\\mu_N=1000, \\sigma_N=100)$.\n",
    "\n",
    "We can therefore use them as the \"ground truth\" for the approximations techniques\n",
    "we'll learn about in the next two subsections."
   ]
  },
  {
   "cell_type": "code",
   "execution_count": null,
   "id": "111f64f4-2810-4a9e-9cea-7f6b5112ce41",
   "metadata": {},
   "outputs": [],
   "source": []
  },
  {
   "cell_type": "markdown",
   "id": "3a47a0a0-c690-4619-b486-9c371f603c70",
   "metadata": {},
   "source": [
    "## Analytical approximation formulas\n",
    "\n",
    "Use probability theory formulas to come up with approximation formulas for certain sampling distributions.\n",
    "\n",
    "\n",
    "### Statistical assumptions\n",
    "\n",
    "- LARGEn:\n",
    "- NORMAL:\n",
    "- EQVAR:\n",
    "\n",
    "\n"
   ]
  },
  {
   "cell_type": "markdown",
   "id": "05561e82-2ad9-4801-bcc0-8055fec5d8af",
   "metadata": {
    "tags": []
   },
   "source": [
    "### Sample mean estimator\n",
    "\n",
    "- CLT"
   ]
  },
  {
   "cell_type": "markdown",
   "id": "bcc78abe-1d5c-41e1-a2e4-f46d41eaab3d",
   "metadata": {},
   "source": [
    "#### Verification of the CLT\n",
    "\n",
    "The true sampling distribution of the sample mean generated using simulation\n",
    "from thousands of samples of size $n=20$."
   ]
  },
  {
   "cell_type": "code",
   "execution_count": 31,
   "id": "e0533635-e300-483a-9874-dab21c0fc886",
   "metadata": {},
   "outputs": [
    {
     "data": {
      "image/png": "[encoded data removed]",
      "text/plain": [
       "<Figure size 360x144 with 1 Axes>"
      ]
     },
     "metadata": {
      "image/png": {
       "height": 154,
       "width": 341
      }
     },
     "output_type": "display_data"
    }
   ],
   "source": [
    "n = 20\n",
    "nbars = gen_sampling_dist(rvN, statfunc=mean, n=n)\n",
    "ax = sns.histplot(nbars, stat=\"density\", bins=100)\n",
    "_ = ax.set_xlabel(\"$\\overline{\\mathbf{n}}$\")"
   ]
  },
  {
   "cell_type": "markdown",
   "id": "5e843b12-90fa-4727-aae5-683b4259a05f",
   "metadata": {},
   "source": [
    "Let's now superimpose a lineplot of the analytical approximation formula\n",
    "we obtain from the central limit theorem."
   ]
  },
  {
   "cell_type": "code",
   "execution_count": 32,
   "id": "344aa19c-d326-4172-a238-7e0209eec27f",
   "metadata": {},
   "outputs": [
    {
     "data": {
      "text/plain": [
       "(1000.0, 22.360679774997894, 22.360679774997894)"
      ]
     },
     "execution_count": 32,
     "metadata": {},
     "output_type": "execute_result"
    }
   ],
   "source": [
    "n = 20\n",
    "meanNbar = rvN.mean()\n",
    "seNbar = rvN.std() / np.sqrt(n)\n",
    "meanNbar, seNbar, 100/np.sqrt(20)"
   ]
  },
  {
   "cell_type": "code",
   "execution_count": 33,
   "id": "8b3f3e76-8b1b-4799-a09f-bf233a406dfd",
   "metadata": {},
   "outputs": [
    {
     "data": {
      "image/png": "[encoded data removed]",
      "text/plain": [
       "<Figure size 360x144 with 1 Axes>"
      ]
     },
     "execution_count": 33,
     "metadata": {
      "image/png": {
       "height": 154,
       "width": 336
      }
     },
     "output_type": "execute_result"
    }
   ],
   "source": [
    "rvNbar = norm(meanNbar, seNbar)\n",
    "xs = np.linspace(900, 1100, 1000)\n",
    "sns.lineplot(x=xs, y=rvNbar.pdf(xs), ax=ax, color=\"m\")\n",
    "ax.figure"
   ]
  },
  {
   "cell_type": "code",
   "execution_count": 34,
   "id": "ffd02e2f-a0d1-4f73-81bf-4ef79de1582a",
   "metadata": {},
   "outputs": [
    {
     "name": "stdout",
     "output_type": "stream",
     "text": [
      "Saved figure to figures/stats/estimators/sampling_dist_mean_exp_and_theory_n20_normal_mu1000_sigma100.pdf\n",
      "Saved figure to figures/stats/estimators/sampling_dist_mean_exp_and_theory_n20_normal_mu1000_sigma100.png\n"
     ]
    }
   ],
   "source": [
    "filename = os.path.join(DESTDIR, \"sampling_dist_mean_exp_and_theory_n20_normal_mu1000_sigma100.pdf\")\n",
    "savefigure(ax, filename)"
   ]
  },
  {
   "cell_type": "code",
   "execution_count": 35,
   "id": "cdf05d20-f9ba-4c9f-bbcc-a6bb6a94a6f4",
   "metadata": {},
   "outputs": [
    {
     "data": {
      "text/plain": [
       "array([ 970.94968267, 1011.21280471, 1125.07951228,  863.91100289,\n",
       "       1009.99328823,  995.20088969,  964.37703097])"
      ]
     },
     "execution_count": 35,
     "metadata": {},
     "output_type": "execute_result"
    }
   ],
   "source": [
    "np.random.seed(51)\n",
    "nsample7 = rvN.rvs(7)\n",
    "nsample7"
   ]
  },
  {
   "cell_type": "code",
   "execution_count": null,
   "id": "2c757596-0e59-4a52-bf08-12c114377980",
   "metadata": {},
   "outputs": [],
   "source": []
  },
  {
   "cell_type": "code",
   "execution_count": 36,
   "id": "9babb12e-1b69-4af2-b228-3ba9d5d57148",
   "metadata": {},
   "outputs": [
    {
     "data": {
      "text/plain": [
       "77.48623002231908"
      ]
     },
     "execution_count": 36,
     "metadata": {},
     "output_type": "execute_result"
    }
   ],
   "source": [
    "nvar = var(nsample7)\n",
    "nstd = np.sqrt(nvar)\n",
    "nstd"
   ]
  },
  {
   "cell_type": "code",
   "execution_count": 37,
   "id": "32d36aec-2704-4c93-be8b-e6f05781ba24",
   "metadata": {},
   "outputs": [
    {
     "data": {
      "text/plain": [
       "100"
      ]
     },
     "execution_count": 37,
     "metadata": {},
     "output_type": "execute_result"
    }
   ],
   "source": [
    "# the true population standard deviation\n",
    "sigma"
   ]
  },
  {
   "cell_type": "markdown",
   "id": "82d4b513-7be8-452b-8ccb-f9e8a11222c2",
   "metadata": {},
   "source": [
    "#### Normal approximation to the sample mean for small samples\n",
    "\n",
    "We start by running a simulation to obtain the true sampling distribution of the sample mean\n",
    "for samples of size $n=7$ from the population $N \\sim \\mathcal{N}(1000,100)$."
   ]
  },
  {
   "cell_type": "code",
   "execution_count": 38,
   "id": "8d28cfd8-34ed-43fe-a9f2-b2fcacd862eb",
   "metadata": {},
   "outputs": [
    {
     "data": {
      "image/png": "[encoded data removed]",
      "text/plain": [
       "<Figure size 360x144 with 1 Axes>"
      ]
     },
     "metadata": {
      "image/png": {
       "height": 140,
       "width": 336
      }
     },
     "output_type": "display_data"
    }
   ],
   "source": [
    "np.random.seed(48)\n",
    "nbars7 = gen_sampling_dist(rvN, statfunc=mean, n=7, N=50000)\n",
    "ax = sns.histplot(nbars7, stat=\"density\", bins=100, color=\"m\")"
   ]
  },
  {
   "cell_type": "markdown",
   "id": "408d8657-37d3-4ce1-9cbc-90137139ce5b",
   "metadata": {},
   "source": [
    "Next we generate a particular sample of size $n=7$,\n",
    "which is analogous to the operation of a statistical analysis in the real world,\n",
    "when we don't know the variance of the distribution."
   ]
  },
  {
   "cell_type": "code",
   "execution_count": 39,
   "id": "8ad1f445-f80d-4881-8afa-dbe781c32a0c",
   "metadata": {},
   "outputs": [
    {
     "data": {
      "text/plain": [
       "array([1051.94758406,  873.12496192, 1024.04200262,  919.60425682,\n",
       "       1001.73440996, 1039.4393831 , 1127.91322641])"
      ]
     },
     "execution_count": 39,
     "metadata": {},
     "output_type": "execute_result"
    }
   ],
   "source": [
    "np.random.seed(52)\n",
    "nsample7 = rvN.rvs(7)\n",
    "nsample7"
   ]
  },
  {
   "cell_type": "markdown",
   "id": "a641e29f-23c8-4e36-894c-ece93a2892e4",
   "metadata": {},
   "source": [
    "We now obtain the best normal approximation based on the estimated standard error `sehat`\n",
    "that we computed from the data in `nsample7`."
   ]
  },
  {
   "cell_type": "code",
   "execution_count": 40,
   "id": "c3e85967-9e47-4988-a104-4220fa90acf3",
   "metadata": {},
   "outputs": [
    {
     "data": {
      "image/png": "[encoded data removed]",
      "text/plain": [
       "<Figure size 360x144 with 1 Axes>"
      ]
     },
     "execution_count": 40,
     "metadata": {
      "image/png": {
       "height": 154,
       "width": 343
      }
     },
     "output_type": "execute_result"
    }
   ],
   "source": [
    "nstd = np.sqrt(var(nsample7))\n",
    "sehat = nstd / np.sqrt(7)\n",
    "rvY = norm(rvN.mean(), sehat)\n",
    "plot_pdf(rvY, ax=ax)\n",
    "_ = ax.set_xlabel(\"$\\overline{\\mathbf{n}}$\")\n",
    "ax.figure"
   ]
  },
  {
   "cell_type": "code",
   "execution_count": 41,
   "id": "c23a3a84-7ca7-4dcc-82c7-55bbfc3a362f",
   "metadata": {},
   "outputs": [
    {
     "name": "stdout",
     "output_type": "stream",
     "text": [
      "Saved figure to figures/stats/estimators/sampling_dist_mean_rvN_and_N_approx_from_nsample7.pdf\n",
      "Saved figure to figures/stats/estimators/sampling_dist_mean_rvN_and_N_approx_from_nsample7.png\n"
     ]
    }
   ],
   "source": [
    "filename = os.path.join(DESTDIR, \"sampling_dist_mean_rvN_and_N_approx_from_nsample7.pdf\")\n",
    "savefigure(ax, filename)"
   ]
  },
  {
   "cell_type": "markdown",
   "id": "aac63f8e-0800-4ccc-85d4-cc7e646c29d4",
   "metadata": {},
   "source": [
    "#### A better reference distribution\n",
    "\n",
    "Obtain Student's $t$-distribution based on the estimated standard error `sehat`\n",
    "that we computed from the data in `nsample7`."
   ]
  },
  {
   "cell_type": "code",
   "execution_count": 42,
   "id": "ccedd23b-7f8e-4dd6-8f40-6c63717500f4",
   "metadata": {},
   "outputs": [
    {
     "data": {
      "image/png": "[encoded data removed]",
      "text/plain": [
       "<Figure size 360x144 with 1 Axes>"
      ]
     },
     "execution_count": 42,
     "metadata": {
      "image/png": {
       "height": 135,
       "width": 346
      }
     },
     "output_type": "execute_result"
    }
   ],
   "source": [
    "from scipy.stats import t as tdist\n",
    "df = 7 - 1  # (n-1) degrees of freedom\n",
    "rvT = tdist(df, loc=rvN.mean(), scale=sehat)\n",
    "plot_pdf(rvT, ax=ax, xlims=[800,1200])\n",
    "_ = ax.set_xlabel(\"$\\overline{\\mathbf{n}}$\")\n",
    "ax.figure"
   ]
  },
  {
   "cell_type": "code",
   "execution_count": 43,
   "id": "0e906f9a-82c2-450b-ad89-b2809d7b1af1",
   "metadata": {},
   "outputs": [
    {
     "name": "stdout",
     "output_type": "stream",
     "text": [
      "Saved figure to figures/stats/estimators/sampling_dist_mean_rvN_and_T_approx_from_nsample7.pdf\n",
      "Saved figure to figures/stats/estimators/sampling_dist_mean_rvN_and_T_approx_from_nsample7.png\n"
     ]
    }
   ],
   "source": [
    "filename = os.path.join(DESTDIR, \"sampling_dist_mean_rvN_and_T_approx_from_nsample7.pdf\")\n",
    "savefigure(ax, filename)"
   ]
  },
  {
   "cell_type": "code",
   "execution_count": null,
   "id": "86aeb29e-83e1-4a81-93f9-7a15f7bdaab4",
   "metadata": {},
   "outputs": [],
   "source": []
  },
  {
   "cell_type": "code",
   "execution_count": null,
   "id": "54277ab8-9ccb-41fb-9ef4-fa9ac89fdf37",
   "metadata": {},
   "outputs": [],
   "source": []
  },
  {
   "cell_type": "code",
   "execution_count": null,
   "id": "81339e5d-f878-4d07-b177-935c60f63b2d",
   "metadata": {},
   "outputs": [],
   "source": []
  },
  {
   "cell_type": "code",
   "execution_count": null,
   "id": "f5495ffb-1e12-4e1b-8a76-7a8e7f9ab9fd",
   "metadata": {},
   "outputs": [],
   "source": []
  },
  {
   "cell_type": "markdown",
   "id": "6ff80edc-3910-4096-ae4c-2b1768cfa4d1",
   "metadata": {
    "tags": []
   },
   "source": [
    "### Sample variance estimator\n",
    "\n",
    "\n",
    "Chi-square\n",
    "\n"
   ]
  },
  {
   "cell_type": "code",
   "execution_count": 44,
   "id": "3071d68b-95b9-4cc9-a862-36d55c6e4e3b",
   "metadata": {},
   "outputs": [
    {
     "data": {
      "image/png": "[encoded data removed]",
      "text/plain": [
       "<Figure size 360x144 with 1 Axes>"
      ]
     },
     "metadata": {
      "image/png": {
       "height": 140,
       "width": 351
      }
     },
     "output_type": "display_data"
    }
   ],
   "source": [
    "np.random.seed(44)\n",
    "nvars = gen_sampling_dist(rvN, statfunc=var, n=20)\n",
    "ax = sns.histplot(nvars, stat=\"density\", bins=100)"
   ]
  },
  {
   "cell_type": "code",
   "execution_count": 45,
   "id": "4ffd8359-5903-43ca-9542-f548711baae3",
   "metadata": {},
   "outputs": [
    {
     "data": {
      "image/png": "[encoded data removed]",
      "text/plain": [
       "<Figure size 360x144 with 1 Axes>"
      ]
     },
     "execution_count": 45,
     "metadata": {
      "image/png": {
       "height": 157,
       "width": 353
      }
     },
     "output_type": "execute_result"
    }
   ],
   "source": [
    "from scipy.stats import chi2\n",
    "df = 20 - 1\n",
    "sigma = rvN.std()\n",
    "scale = sigma**2/(20-1)\n",
    "X2 = chi2(df, loc=0, scale=scale)\n",
    "plot_pdf(X2, ax=ax)\n",
    "_ = ax.set_xlabel(\"$s^2_{\\mathbf{n}}$\")\n",
    "ax.figure"
   ]
  },
  {
   "cell_type": "code",
   "execution_count": 46,
   "id": "1b203bd6-122a-4533-b6ba-97a1556f4411",
   "metadata": {},
   "outputs": [
    {
     "name": "stdout",
     "output_type": "stream",
     "text": [
      "Saved figure to figures/stats/estimators/sampling_dist_var_rvN_and_X2_approx_from_nsample20.pdf\n",
      "Saved figure to figures/stats/estimators/sampling_dist_var_rvN_and_X2_approx_from_nsample20.png\n"
     ]
    }
   ],
   "source": [
    "filename = os.path.join(DESTDIR, \"sampling_dist_var_rvN_and_X2_approx_from_nsample20.pdf\")\n",
    "savefigure(ax, filename)"
   ]
  },
  {
   "cell_type": "code",
   "execution_count": null,
   "id": "253ad93a-c6f6-4394-89e8-db5f8634d834",
   "metadata": {},
   "outputs": [],
   "source": []
  },
  {
   "cell_type": "code",
   "execution_count": null,
   "id": "a33637f7-4fde-4983-aa6f-90aa61938392",
   "metadata": {},
   "outputs": [],
   "source": []
  },
  {
   "cell_type": "code",
   "execution_count": null,
   "id": "f22c0244-efbb-4e09-ab17-a2f02701bc52",
   "metadata": {},
   "outputs": [],
   "source": []
  },
  {
   "cell_type": "markdown",
   "id": "20bb60cf-1946-4feb-ad51-0b80546d2591",
   "metadata": {
    "tags": []
   },
   "source": [
    "### Difference between means estimator\n"
   ]
  },
  {
   "cell_type": "markdown",
   "id": "20facfbe-8b64-4b76-9772-0b3e3cdd15d6",
   "metadata": {
    "tags": []
   },
   "source": [
    "Consider two normally distributed random variables $X$ and $Y$:\n",
    "$$ \n",
    "X \\sim \\mathcal{N}\\!\\left(\\mu_X, \\sigma_X \\right)\n",
    "\\qquad\n",
    "\\textrm{and}\n",
    "\\qquad\n",
    "Y \\sim \\mathcal{N}\\!\\left(\\mu_Y, \\sigma_Y \\right)\n",
    "$$\n",
    "that describe the probability distribution for two groups.\n",
    "\n",
    "- A sample of size $n$ from $X$ is denoted $\\mathbf{x} = (x_1, x_2, \\ldots, x_{n})$=`xsample`,\n",
    "  and let $\\mathbf{y} = (y_1, y_2, \\ldots, y_{m})$=`ysample` be a random sample of size $m$ from $Y$.\n",
    "- We can compute the mean in each group: $\\overline{\\mathbf{x}} = \\Mean(\\mathbf{x})$\n",
    "  and $\\overline{\\mathbf{y}} = \\Mean(\\mathbf{y})$\n",
    "- We can also compute the sample variance from each group:\n",
    "   $s_{\\mathbf{x}}^2 = \\Var(\\mathbf{x})$\n",
    "   and $s_{\\mathbf{y}}^2 = \\Var(\\mathbf{y})$.\n",
    "- The value of the difference between means estimator is $\\hat{d} = \\DMeans(\\mathbf{x}, \\mathbf{y}) = \\overline{\\mathbf{x}} - \\overline{\\mathbf{y}}$.\n",
    "  The value $\\hat{d}$ is an estimate of the true different between\n",
    "  population means $\\Delta = \\mu_X - \\mu_Y$.\n",
    "\n",
    "\n",
    "#### Sampling distribution of the estimator `dmeans`\n",
    "\n",
    "Consider now the random samples $\\mathbf{X} = (X_1, X_2, \\ldots, X_{n})$\n",
    "and $\\mathbf{Y} = (Y_1, Y_2, \\ldots, Y_{m})$.\n",
    "The **sampling distribution** of the different between means estimator\n",
    "is defined as\n",
    "$$\n",
    "  \\hat{D} = \\overline{\\mathbf{X}} - \\overline{\\mathbf{Y}}.\n",
    "$$\n",
    "\n",
    "By definition, the sampling distribution of the estimator is obtained by repeatedly generating samples `xsample` and `ysample` from the two distributions and computing `dmeans` on the random samples. For example, we can obtain the sampling distribution by generating $N=1000$ samples.\n",
    "\n",
    "#### Theoretical model for the sampling distribution\n",
    "\n",
    "Let's now use probability theory to build a theoretical model for the sampling distribution of the difference-between-means estimator `dmeans`.\n",
    "\n",
    "- The central limit theorem tells us the sample mean within the two group are\n",
    "  $$\n",
    "  \\overline{\\mathbf{X}} \\sim \\mathcal{N}\\!\\left(\\mu_X, \\tfrac{\\sigma_X}{\\sqrt{n}} \\right)\n",
    "  \\qquad \\textrm{and} \\qquad\n",
    "  \\overline{\\mathbf{Y}} \\sim \\mathcal{N}\\!\\left(\\mu_Y, \\tfrac{\\sigma_Y}{\\sqrt{m}} \\right).\n",
    "  $$\n",
    "\n",
    "- The rules of probability theory tells us that the [difference of two normal random variables](https://en.wikipedia.org/wiki/Sum_of_normally_distributed_random_variables#Independent_random_variables) requires subtracting their means and adding their variance, so we get:\n",
    "  $$\n",
    "  \\hat{D}\n",
    "    \\sim\n",
    "    \\mathcal{N}\\!\\left(\n",
    "        \\mu_X - \\mu_Y, \\;\n",
    "        \\sqrt{\\tfrac{\\sigma^2_X}{n} + \\tfrac{\\sigma^2_Y}{m}}\n",
    "    \\right).\n",
    "  $$\n",
    "\n",
    "In other words, the sampling distribution for the difference between means estimator $\\hat{D}$ has mean and standard error given by:\n",
    "$$ \n",
    "   \\mu_{\\hat{d}} = \\mu_X - \\mu_Y\n",
    "   \\qquad \\textrm{and} \\qquad\n",
    "   \\stderr{\\hat{d}} = \\sqrt{ \\tfrac{\\sigma^2_X}{n} + \\tfrac{\\sigma^2_Y}{m}  }.\n",
    "$$"
   ]
  },
  {
   "cell_type": "markdown",
   "id": "182f44ed-c5c7-40d2-9baa-24a0e959fe62",
   "metadata": {},
   "source": [
    "#### Example 1 (continued): difference between electricity prices\n",
    "\n",
    "Probability theory predicts the sampling distribution had mean ..."
   ]
  },
  {
   "cell_type": "code",
   "execution_count": 104,
   "id": "e5a03f42-30b0-49e9-87f3-aa9ff6d8fd44",
   "metadata": {},
   "outputs": [],
   "source": [
    "eprices = pd.read_csv(\"../datasets/eprices.csv\")\n",
    "xW = eprices[\"West\"]\n",
    "xE = eprices[\"East\"]\n",
    "\n",
    "n = len(xW)\n",
    "meanW = xW.mean()\n",
    "stdW = xW.std()\n",
    "\n",
    "m = len(xE)\n",
    "meanE = xE.mean()\n",
    "stdE = xE.std()\n"
   ]
  },
  {
   "cell_type": "code",
   "execution_count": 105,
   "id": "4b6af171-c98d-4150-89dc-6ce548aef535",
   "metadata": {},
   "outputs": [
    {
     "data": {
      "text/plain": [
       "3.000000000000001"
      ]
     },
     "execution_count": 105,
     "metadata": {},
     "output_type": "execute_result"
    }
   ],
   "source": [
    "d = meanW - meanE\n",
    "d"
   ]
  },
  {
   "cell_type": "code",
   "execution_count": 106,
   "id": "f5ce9079-fd2f-40dd-a3a2-6820b4a63aa5",
   "metadata": {},
   "outputs": [
    {
     "data": {
      "text/plain": [
       "0.5972674401486562"
      ]
     },
     "execution_count": 106,
     "metadata": {},
     "output_type": "execute_result"
    }
   ],
   "source": [
    "seD = np.sqrt(stdW**2/n + stdE**2/m)\n",
    "seD"
   ]
  },
  {
   "cell_type": "markdown",
   "id": "a01a7d35-972a-4a4c-8c9f-bff69df75203",
   "metadata": {},
   "source": [
    "Let's plot the theoretical sampling distribution \n",
    "on top of the simulated data to see if they are a good fit."
   ]
  },
  {
   "cell_type": "code",
   "execution_count": 145,
   "id": "0b8af909-3ef6-47d9-ad3f-53c5c9620b71",
   "metadata": {},
   "outputs": [],
   "source": [
    "def calcdf(stdX, n, stdY, m):\n",
    "    vX = stdX**2 / n\n",
    "    vY = stdY**2 / m\n",
    "    df = (vX+vY)**2 / (vX**2/(n-1) + vY**2/(m-1))\n",
    "    return df"
   ]
  },
  {
   "cell_type": "code",
   "execution_count": 141,
   "id": "e4142059-99dd-4bd2-9a97-368d18857a08",
   "metadata": {},
   "outputs": [
    {
     "data": {
      "text/plain": [
       "12.59281702723103"
      ]
     },
     "execution_count": 141,
     "metadata": {},
     "output_type": "execute_result"
    }
   ],
   "source": [
    "df = calcdf(stdW, n, stdE, m)\n",
    "df"
   ]
  },
  {
   "cell_type": "code",
   "execution_count": 147,
   "id": "41fa7754-e343-45e8-829b-253b5eb5e50f",
   "metadata": {},
   "outputs": [
    {
     "data": {
      "text/plain": [
       "<AxesSubplot:xlabel='d', ylabel='$f_{D}$'>"
      ]
     },
     "execution_count": 147,
     "metadata": {},
     "output_type": "execute_result"
    },
    {
     "data": {
      "image/png": "[encoded data removed]",
      "text/plain": [
       "<Figure size 360x144 with 1 Axes>"
      ]
     },
     "metadata": {
      "image/png": {
       "height": 153,
       "width": 329
      }
     },
     "output_type": "display_data"
    }
   ],
   "source": [
    "from scipy.stats import t as tdist\n",
    "rvD = tdist(df, loc=d, scale=seD)\n",
    "plot_pdf(rvD, rv_name=\"D\")"
   ]
  },
  {
   "cell_type": "markdown",
   "id": "cb8005e5-a342-411d-964e-acbf630723cb",
   "metadata": {},
   "source": [
    " \n",
    " "
   ]
  },
  {
   "cell_type": "markdown",
   "id": "104fac08-a2a4-4b64-a803-18078a86c3df",
   "metadata": {},
   "source": [
    "The degrees of freedom of is obtained by the following formula."
   ]
  },
  {
   "cell_type": "code",
   "execution_count": 94,
   "id": "a30eb13a-ba36-45a1-a95b-eab5c77f0105",
   "metadata": {},
   "outputs": [],
   "source": []
  },
  {
   "cell_type": "code",
   "execution_count": null,
   "id": "c9c969a1-0c74-4979-ad86-d3a2bab89af5",
   "metadata": {},
   "outputs": [],
   "source": []
  },
  {
   "cell_type": "markdown",
   "id": "a0cb25db-cf98-4aac-920d-7abf8ccc7af0",
   "metadata": {},
   "source": [
    "## Bootstrap estimation"
   ]
  },
  {
   "cell_type": "code",
   "execution_count": 50,
   "id": "ac186810-4301-4b08-95ea-f4a4bf7f4f3d",
   "metadata": {},
   "outputs": [],
   "source": [
    "from statistics import mean\n",
    "\n",
    "def bootstrap_stat(sample, statfunc=mean, B=5000):\n",
    "    \"\"\"\n",
    "    Compute the sampling dist. of the `statfunc` estimator\n",
    "    from `B` bootstrap samples generated from `sample`.\n",
    "    \"\"\"\n",
    "    n = len(sample)\n",
    "    bstats = []\n",
    "    for i in range(0, B):\n",
    "        bsample = np.random.choice(sample, n, replace=True)\n",
    "        bstat = statfunc(bsample)\n",
    "        bstats.append(bstat)\n",
    "    return bstats"
   ]
  },
  {
   "cell_type": "code",
   "execution_count": null,
   "id": "ffde5ba3-70c6-4d1f-8c6e-c3157ca9d9ec",
   "metadata": {},
   "outputs": [],
   "source": []
  },
  {
   "cell_type": "markdown",
   "id": "35ba9b93-d344-4385-9186-597e6b98ef0d",
   "metadata": {},
   "source": [
    "#### Example 3 (continued): normal distribution"
   ]
  },
  {
   "cell_type": "code",
   "execution_count": 51,
   "id": "fa34ea93-2bbd-4e01-8f76-1483f3b65cae",
   "metadata": {},
   "outputs": [
    {
     "data": {
      "text/plain": [
       "array([ 915.19905242, 1130.59063579, 1092.42079662, 1064.04118012,\n",
       "        894.52630171, 1179.77607151,  898.72132495, 1082.36233243,\n",
       "        970.53496466,  940.75294285,  860.62729413, 1110.41796717,\n",
       "        906.76597141,  905.68435632, 1043.66062317, 1079.495827  ,\n",
       "       1071.95331527, 1008.76622566,  867.72515937, 1005.17939788])"
      ]
     },
     "execution_count": 51,
     "metadata": {},
     "output_type": "execute_result"
    }
   ],
   "source": [
    "np.random.seed(47)\n",
    "nsample20 = rvN.rvs(20)\n",
    "nsample20"
   ]
  },
  {
   "cell_type": "code",
   "execution_count": 52,
   "id": "f557bd6c-ac5a-4d23-a2ea-18b37768af2f",
   "metadata": {},
   "outputs": [
    {
     "data": {
      "text/plain": [
       "1001.460087023688"
      ]
     },
     "execution_count": 52,
     "metadata": {},
     "output_type": "execute_result"
    }
   ],
   "source": [
    "nsample20.mean()"
   ]
  },
  {
   "cell_type": "markdown",
   "id": "c621d1f7-9ef8-4c82-935c-4b22fe1c812e",
   "metadata": {},
   "source": [
    "#### Bootstrapped sampling distribution of the sample mean"
   ]
  },
  {
   "cell_type": "code",
   "execution_count": 86,
   "id": "d3b9c146-0589-4b54-b05b-8e1380c98983",
   "metadata": {},
   "outputs": [
    {
     "data": {
      "text/plain": [
       "<AxesSubplot:xlabel='$\\\\overline{\\\\mathbf{n}}$', ylabel='Density'>"
      ]
     },
     "execution_count": 86,
     "metadata": {},
     "output_type": "execute_result"
    },
    {
     "data": {
      "image/png": "[encoded data removed]",
      "text/plain": [
       "<Figure size 360x144 with 1 Axes>"
      ]
     },
     "metadata": {
      "image/png": {
       "height": 154,
       "width": 336
      }
     },
     "output_type": "display_data"
    }
   ],
   "source": [
    "# np.random.seed(48)\n",
    "nsample20 = rvN.rvs(20)\n",
    "nbars_boot = bootstrap_stat(nsample20, statfunc=mean)\n",
    "ax = sns.histplot(nbars_boot, stat=\"density\")\n",
    "_ = ax.set_xlabel(\"$\\overline{\\mathbf{n}}$\")\n",
    "\n",
    "###\n",
    "\n",
    "sns.kdeplot(nbars, ax=ax, bw_adjust=1.5)"
   ]
  },
  {
   "cell_type": "code",
   "execution_count": null,
   "id": "d989f4a5-541f-46a0-a664-1f0d6a150a28",
   "metadata": {},
   "outputs": [],
   "source": []
  },
  {
   "cell_type": "code",
   "execution_count": 54,
   "id": "1fb0cc71-2818-4f1f-b8a2-2a5af85b6026",
   "metadata": {},
   "outputs": [
    {
     "name": "stdout",
     "output_type": "stream",
     "text": [
      "Saved figure to figures/stats/estimators/bootstrap_dist_mean_n20_normal_mu1000_sigma100.pdf\n",
      "Saved figure to figures/stats/estimators/bootstrap_dist_mean_n20_normal_mu1000_sigma100.png\n"
     ]
    }
   ],
   "source": [
    "filename = os.path.join(DESTDIR, \"bootstrap_dist_mean_n20_normal_mu1000_sigma100.pdf\")\n",
    "savefigure(ax, filename)"
   ]
  },
  {
   "cell_type": "code",
   "execution_count": 55,
   "id": "b3adf544-8b83-40dc-8346-c3842de9cf5d",
   "metadata": {},
   "outputs": [
    {
     "data": {
      "text/plain": [
       "(954.0847363626671, 20.73830807426356)"
      ]
     },
     "execution_count": 55,
     "metadata": {},
     "output_type": "execute_result"
    }
   ],
   "source": [
    "np.mean(nbars_boot), np.std(nbars_boot, ddof=1)"
   ]
  },
  {
   "cell_type": "code",
   "execution_count": null,
   "id": "d6c27801-9690-46e7-8d3e-2cf406793fda",
   "metadata": {},
   "outputs": [],
   "source": []
  },
  {
   "cell_type": "code",
   "execution_count": null,
   "id": "4aaf4412-49f7-46a1-8814-b7f50a5cb907",
   "metadata": {},
   "outputs": [],
   "source": []
  },
  {
   "cell_type": "markdown",
   "id": "4245936f-dc83-4276-90f3-6c605a25b0fb",
   "metadata": {},
   "source": [
    "#### Bootstrapped sampling distribution of the sample variance"
   ]
  },
  {
   "cell_type": "code",
   "execution_count": 56,
   "id": "1bd63bda-6da8-42fc-bac6-506e5d32ffe3",
   "metadata": {},
   "outputs": [],
   "source": [
    "# def fixvar(sample):\n",
    "#     xbar = mean(nsample20)\n",
    "#     sumsqdevs = sum([(xi-xbar)**2 for xi in sample])\n",
    "#     return sumsqdevs / (len(sample)-1)"
   ]
  },
  {
   "cell_type": "code",
   "execution_count": 93,
   "id": "ead9ab5b-ce65-4fbd-b9ad-00e8abd3dd23",
   "metadata": {},
   "outputs": [
    {
     "data": {
      "image/png": "[encoded data removed]",
      "text/plain": [
       "<Figure size 360x144 with 1 Axes>"
      ]
     },
     "metadata": {
      "image/png": {
       "height": 157,
       "width": 353
      }
     },
     "output_type": "display_data"
    }
   ],
   "source": [
    "#np.random.seed(48)\n",
    "nsample20 = rvN.rvs(20)\n",
    "nvars_boot = bootstrap_stat(nsample20, statfunc=var)\n",
    "ax = sns.histplot(nvars_boot, stat=\"density\")\n",
    "_ = ax.set_xlabel(\"$s^2_{\\mathbf{n}}$\")\n",
    "\n",
    "###\n",
    "\n",
    "df = 20 - 1\n",
    "sigma = rvN.std()\n",
    "scale = sigma**2/(20-1)\n",
    "X2 = chi2(df, loc=0, scale=scale)\n",
    "plot_pdf(X2, ax=ax)\n",
    "_ = ax.set_xlabel(\"$s^2_{\\mathbf{n}}$\")"
   ]
  },
  {
   "cell_type": "code",
   "execution_count": null,
   "id": "2976cd52-2ddc-461e-9c62-8a3d0aa32251",
   "metadata": {},
   "outputs": [],
   "source": []
  },
  {
   "cell_type": "code",
   "execution_count": null,
   "id": "97a8426a-f031-427c-a3d2-8596d9aac813",
   "metadata": {},
   "outputs": [],
   "source": []
  },
  {
   "cell_type": "code",
   "execution_count": 58,
   "id": "d2ff209c-0f0f-460b-9ae9-85f2406d59d9",
   "metadata": {},
   "outputs": [
    {
     "name": "stdout",
     "output_type": "stream",
     "text": [
      "Saved figure to figures/stats/estimators/bootstrap_dist_var_n20_normal_mu1000_sigma100.pdf\n",
      "Saved figure to figures/stats/estimators/bootstrap_dist_var_n20_normal_mu1000_sigma100.png\n"
     ]
    }
   ],
   "source": [
    "filename = os.path.join(DESTDIR, \"bootstrap_dist_var_n20_normal_mu1000_sigma100.pdf\")\n",
    "savefigure(ax, filename)"
   ]
  },
  {
   "cell_type": "code",
   "execution_count": 59,
   "id": "64a5c34f-4109-4db8-8481-9f60dfde708f",
   "metadata": {},
   "outputs": [
    {
     "data": {
      "text/plain": [
       "(7876.628639189339, 2376.619604888538)"
      ]
     },
     "execution_count": 59,
     "metadata": {},
     "output_type": "execute_result"
    }
   ],
   "source": [
    "np.mean(nvars_boot), np.std(nvars_boot, ddof=1)"
   ]
  },
  {
   "cell_type": "code",
   "execution_count": null,
   "id": "b7da152b-3c9d-43e0-a11c-59135f94c3fc",
   "metadata": {},
   "outputs": [],
   "source": []
  },
  {
   "cell_type": "code",
   "execution_count": null,
   "id": "1120a710-7c77-48a1-8dc6-f82f4aefa645",
   "metadata": {},
   "outputs": [],
   "source": []
  },
  {
   "cell_type": "code",
   "execution_count": null,
   "id": "843b371e-e29d-41f9-bbcb-f9217e48b0e5",
   "metadata": {},
   "outputs": [],
   "source": []
  },
  {
   "cell_type": "markdown",
   "id": "cb916c8b-bfbf-4fae-90ca-64f8e877125e",
   "metadata": {},
   "source": [
    "#### Bootstrapped sampling distribution of the difference between means"
   ]
  },
  {
   "cell_type": "code",
   "execution_count": 60,
   "id": "c025cbe2-c06d-4803-8033-601e405bb655",
   "metadata": {},
   "outputs": [
    {
     "data": {
      "text/plain": [
       "<AxesSubplot:ylabel='Density'>"
      ]
     },
     "execution_count": 60,
     "metadata": {},
     "output_type": "execute_result"
    },
    {
     "data": {
      "image/png": "[encoded data removed]",
      "text/plain": [
       "<Figure size 360x144 with 1 Axes>"
      ]
     },
     "metadata": {
      "image/png": {
       "height": 140,
       "width": 326
      }
     },
     "output_type": "display_data"
    }
   ],
   "source": [
    "eprices = pd.read_csv(\"../datasets/eprices.csv\")\n",
    "xW = eprices[\"West\"]\n",
    "xE = eprices[\"East\"]\n",
    "\n",
    "# compute bootstrap estimates for mean in each group\n",
    "meanW_bstats = bootstrap_stat(xW, statfunc=np.mean)\n",
    "meanE_bstats = bootstrap_stat(xE, statfunc=np.mean)\n",
    "\n",
    "# compute the difference between means from bootstrap samples\n",
    "dmeans_bstats = []\n",
    "for bmeanW, bmeanE in zip(meanW_bstats, meanE_bstats):\n",
    "    d_boot = bmeanW - bmeanE\n",
    "    dmeans_bstats.append(d_boot)\n",
    "\n",
    "sns.histplot(dmeans_bstats, stat=\"density\", bins=30)"
   ]
  },
  {
   "cell_type": "code",
   "execution_count": null,
   "id": "9c241316-272f-40f5-b366-8fe9dbf1f3e9",
   "metadata": {},
   "outputs": [],
   "source": []
  },
  {
   "cell_type": "code",
   "execution_count": null,
   "id": "f68c263f-ca3c-4090-a17f-c5ba1636af65",
   "metadata": {},
   "outputs": [],
   "source": []
  },
  {
   "cell_type": "markdown",
   "id": "b8e45de1-1dfe-40a7-9382-6430a0a3e82d",
   "metadata": {},
   "source": [
    "## Estimator applications\n",
    "\n",
    "- Parameter estimates\n",
    "- Effect size estimates\n",
    "- Confidence intervals\n",
    "- Test statistics\n",
    "\n",
    "TODO: import one-liner explanation for each of these\n"
   ]
  },
  {
   "cell_type": "markdown",
   "id": "ed5f2ae6-914b-4698-a536-6cfb1ba8bb30",
   "metadata": {},
   "source": [
    "## Confidence intervals\n",
    "\n",
    "$$\n",
    " CI = \\left[\n",
    "         F^{-1}\\big(\\tfrac{\\alpha}{2}\\big),\n",
    "         F^{-1}\\big(1-\\tfrac{\\alpha}{2}\\big)\n",
    "      \\right]\n",
    "$$"
   ]
  },
  {
   "cell_type": "code",
   "execution_count": 61,
   "id": "3d723491-4af8-4f1e-9abb-5747d98908da",
   "metadata": {},
   "outputs": [
    {
     "name": "stdout",
     "output_type": "stream",
     "text": [
      "Saved figure to figures/stats/estimators/confidence_intervals_mean_N50n20_normal_mu1000_sigma100.pdf\n",
      "Saved figure to figures/stats/estimators/confidence_intervals_mean_N50n20_normal_mu1000_sigma100.png\n"
     ]
    },
    {
     "data": {
      "image/png": "[encoded data removed]",
      "text/plain": [
       "<Figure size 648x216 with 1 Axes>"
      ]
     },
     "metadata": {
      "image/png": {
       "height": 209,
       "width": 639
      }
     },
     "output_type": "display_data"
    }
   ],
   "source": [
    "filename = os.path.join(DESTDIR, \"confidence_intervals_mean_N50n20_normal_mu1000_sigma100.pdf\")\n",
    "\n",
    "from scipy.stats import norm\n",
    "from plot_helpers import gen_samples\n",
    "import seaborn as sns\n",
    "import matplotlib.pyplot as plt\n",
    "import warnings\n",
    "palette = sns.color_palette(palette=[\"#ff0000\", \"#000000\"])\n",
    "\n",
    "\n",
    "N = 50\n",
    "n = 20\n",
    "\n",
    "# Generate N=50 samples of size n=20 from a normal dist\n",
    "rvN = norm(1000,100)\n",
    "np.random.seed(47)\n",
    "samples_df = gen_samples(rvN, n=n, N=N)\n",
    "samples_df.columns = range(0,N)\n",
    "df2 = samples_df.melt(var_name=\"sample\", value_name=\"n\")\n",
    "\n",
    "def confint(data):\n",
    "    \"\"\"\n",
    "    Compute 90% confidence interval.\n",
    "    Note:  1.729 = tdist(19).ppf(0.95)\n",
    "    \"\"\"\n",
    "    n = len(data)\n",
    "    mean = data.mean()\n",
    "    std = data.std(ddof=1)\n",
    "    se = std/np.sqrt(n)\n",
    "    return [mean - 1.729*se, mean + 1.729*se]\n",
    "\n",
    "# Add new column to indicate if CI contains mean or not\n",
    "for sidx in range(0,N):\n",
    "    sample = df2[df2[\"sample\"]==sidx][\"n\"].values\n",
    "    C_L, C_U = confint(sample)\n",
    "    if C_L <= 1000 and 1000 <= C_U:\n",
    "        outcome = 1  # includes 1000\n",
    "    else:\n",
    "        outcome = 0  # doesn't include 1000\n",
    "    df2.loc[df2[\"sample\"]==sidx,\"success\"] = outcome\n",
    "\n",
    "\n",
    "with warnings.catch_warnings(), plt.rc_context({\"figure.figsize\":(9,3)}):\n",
    "    warnings.filterwarnings('ignore', category=UserWarning)    \n",
    "    ax = sns.pointplot(x=\"sample\", y=\"n\", hue=\"success\", data=df2,\n",
    "                       errorbar=confint, palette=palette,\n",
    "                       join=False, capsize=0.5, markers=\" \", errwidth=1)\n",
    "    ax.set_ylabel(\"$\\overline{\\mathbf{n}}$\")\n",
    "    ax.axhline(y=1000, color='b', label='Mean', linestyle='--', linewidth=1)\n",
    "    ax.legend([],[], frameon=False)\n",
    "    savefigure(ax, filename)"
   ]
  },
  {
   "cell_type": "code",
   "execution_count": null,
   "id": "5fa8afe8-6df4-4fca-87ea-0197d3088f25",
   "metadata": {},
   "outputs": [],
   "source": []
  },
  {
   "cell_type": "markdown",
   "id": "192ead41-4d8e-4f42-9721-6113f06b337c",
   "metadata": {},
   "source": [
    "### Analytical approximations"
   ]
  },
  {
   "cell_type": "markdown",
   "id": "be83782d-7e0e-41cb-932c-a64bdf286eb8",
   "metadata": {},
   "source": [
    "#### Confidence interval for the sample mean"
   ]
  },
  {
   "cell_type": "code",
   "execution_count": 62,
   "id": "ad7483d8-3590-4452-bf8e-e5fc4a5f6df5",
   "metadata": {},
   "outputs": [
    {
     "data": {
      "text/plain": [
       "[975.1885651318993, 1045.583021493826]"
      ]
     },
     "execution_count": 62,
     "metadata": {},
     "output_type": "execute_result"
    }
   ],
   "source": [
    "n = 20\n",
    "xbar = mean(nsample20)\n",
    "xstd = np.std(nsample20, ddof=1)\n",
    "sehat = xstd / np.sqrt(n)\n",
    "\n",
    "from scipy.stats import t as tdist\n",
    "rvT = tdist(n-1)\n",
    "\n",
    "t_05 = abs(rvT.ppf(0.05))\n",
    "t_95 = abs(rvT.ppf(0.95))\n",
    "CI_mu_tdist = [xbar - t_05*sehat, xbar + t_95*sehat]\n",
    "CI_mu_tdist"
   ]
  },
  {
   "cell_type": "markdown",
   "id": "30c12ec5-ebad-41d8-840d-2a57dc41c15b",
   "metadata": {},
   "source": [
    "#### Confidence interval for the sample variance"
   ]
  },
  {
   "cell_type": "code",
   "execution_count": 63,
   "id": "6a0ae296-fdb8-4150-8530-dfd33d5997c5",
   "metadata": {},
   "outputs": [
    {
     "data": {
      "text/plain": [
       "[5223.357496252235, 15562.935206197804]"
      ]
     },
     "execution_count": 63,
     "metadata": {},
     "output_type": "execute_result"
    }
   ],
   "source": [
    "n = 20\n",
    "xvar = np.var(nsample20, ddof=1)\n",
    "\n",
    "from scipy.stats import chi2\n",
    "rvX2 = chi2(n-1)\n",
    "\n",
    "x2_05 = rvX2.ppf(0.05)\n",
    "x2_95 = rvX2.ppf(0.95)\n",
    "CI_sigma2_tdist = [(n-1)*xvar/x2_95, (n-1)*xvar/x2_05]\n",
    "CI_sigma2_tdist"
   ]
  },
  {
   "cell_type": "markdown",
   "id": "b7b80298-bf8b-4f1f-94f3-e370d77d38f2",
   "metadata": {},
   "source": [
    "### Bootstrap confidence intervals"
   ]
  },
  {
   "cell_type": "markdown",
   "id": "af8ea751-c651-4eee-a1d1-5135d5a468be",
   "metadata": {},
   "source": [
    "#### Confidence interval for the sample mean"
   ]
  },
  {
   "cell_type": "code",
   "execution_count": 64,
   "id": "5413cfde-9b7a-42d2-a310-1340052b5bcc",
   "metadata": {},
   "outputs": [
    {
     "data": {
      "text/plain": [
       "[976.5172687603595, 1042.374655048309]"
      ]
     },
     "execution_count": 64,
     "metadata": {},
     "output_type": "execute_result"
    }
   ],
   "source": [
    "np.random.seed(48)\n",
    "nbars_boot = bootstrap_stat(nsample20, statfunc=mean)\n",
    "CI_mu_boot = [np.percentile(nbars_boot,5),\n",
    "              np.percentile(nbars_boot,95)]\n",
    "CI_mu_boot"
   ]
  },
  {
   "cell_type": "code",
   "execution_count": 65,
   "id": "f598c582-21f7-43c7-b5c7-17a27bd8d96f",
   "metadata": {},
   "outputs": [
    {
     "data": {
      "text/plain": [
       "[963.6913925936195, 1037.764466936426]"
      ]
     },
     "execution_count": 65,
     "metadata": {},
     "output_type": "execute_result"
    }
   ],
   "source": [
    "# true\n",
    "[np.percentile(nbars,5),\n",
    " np.percentile(nbars,95)]"
   ]
  },
  {
   "cell_type": "markdown",
   "id": "dbc5ba9b-9d67-4cf9-9a10-cb6bd28d783a",
   "metadata": {},
   "source": [
    "#### Confidence interval for the sample variance"
   ]
  },
  {
   "cell_type": "code",
   "execution_count": 66,
   "id": "d0a1c718-59ad-4421-9f8f-59dd6a1d34f9",
   "metadata": {},
   "outputs": [
    {
     "data": {
      "text/plain": [
       "[4215.430503039237, 12031.108383721608]"
      ]
     },
     "execution_count": 66,
     "metadata": {},
     "output_type": "execute_result"
    }
   ],
   "source": [
    "np.random.seed(48)\n",
    "nvars_boot = bootstrap_stat(nsample20, statfunc=var)\n",
    "CI_sigma2_boot = [np.percentile(nvars_boot,5),\n",
    "                 np.percentile(nvars_boot,95)]\n",
    "CI_sigma2_boot"
   ]
  },
  {
   "cell_type": "code",
   "execution_count": 67,
   "id": "332ba387-70ee-4d9a-8c6e-70325db77cb7",
   "metadata": {},
   "outputs": [
    {
     "data": {
      "text/plain": [
       "[5310.333761562281, 15828.681531295735]"
      ]
     },
     "execution_count": 67,
     "metadata": {},
     "output_type": "execute_result"
    }
   ],
   "source": [
    "# true\n",
    "[np.percentile(nvars,5),\n",
    " np.percentile(nvars,95)]"
   ]
  },
  {
   "cell_type": "markdown",
   "id": "0455db01-f99f-4ae7-a33a-7a23a3acdf36",
   "metadata": {},
   "source": [
    "#### Confidence interval for the sample median (optional)"
   ]
  },
  {
   "cell_type": "code",
   "execution_count": 68,
   "id": "29e3b6fb-fe2b-4740-8173-7e3025449e31",
   "metadata": {},
   "outputs": [
    {
     "data": {
      "text/plain": [
       "[978.2342492842921, 1052.5881305930454]"
      ]
     },
     "execution_count": 68,
     "metadata": {},
     "output_type": "execute_result"
    }
   ],
   "source": [
    "nmedians_boot = bootstrap_stat(nsample20, statfunc=np.median)\n",
    "CI_median_boot = [np.percentile(nmedians_boot,5),\n",
    "                  np.percentile(nmedians_boot,95)]\n",
    "CI_median_boot"
   ]
  },
  {
   "cell_type": "code",
   "execution_count": 69,
   "id": "ebad84aa-49e0-4697-b2ef-ab4f5bd4908c",
   "metadata": {},
   "outputs": [
    {
     "data": {
      "text/plain": [
       "[955.463349365222, 1045.3475276397405]"
      ]
     },
     "execution_count": 69,
     "metadata": {},
     "output_type": "execute_result"
    }
   ],
   "source": [
    "# true\n",
    "[np.percentile(nmedians,5),\n",
    " np.percentile(nmedians,95)]"
   ]
  },
  {
   "cell_type": "markdown",
   "id": "89876ee3-2581-4200-9fa8-3d899be639fb",
   "metadata": {},
   "source": [
    "#### Confidence interval for the 90th percentile (optional)"
   ]
  },
  {
   "cell_type": "code",
   "execution_count": 70,
   "id": "ebe196b5-5cb0-458d-a22e-c00873e8304c",
   "metadata": {},
   "outputs": [
    {
     "data": {
      "text/plain": [
       "[1072.2722143940018, 1149.9386789312603]"
      ]
     },
     "execution_count": 70,
     "metadata": {},
     "output_type": "execute_result"
    }
   ],
   "source": [
    "ninetypctiles_boot = bootstrap_stat(nsample20, statfunc=ninetypctile)\n",
    "CI_ninetypctile_boot = [np.percentile(ninetypctiles_boot,5),\n",
    "                        np.percentile(ninetypctiles_boot,95)]\n",
    "CI_ninetypctile_boot"
   ]
  },
  {
   "cell_type": "code",
   "execution_count": 71,
   "id": "444678e3-52ce-4c8a-b0b0-f452c21b54f6",
   "metadata": {},
   "outputs": [
    {
     "data": {
      "text/plain": [
       "[1073.100079722891, 1169.462270540716]"
      ]
     },
     "execution_count": 71,
     "metadata": {},
     "output_type": "execute_result"
    }
   ],
   "source": [
    "# true\n",
    "[np.percentile(ninetypctiles,5),\n",
    " np.percentile(ninetypctiles,95)]"
   ]
  },
  {
   "cell_type": "code",
   "execution_count": null,
   "id": "fc52ae0d-a44e-41ae-80e7-686bf66c80f3",
   "metadata": {},
   "outputs": [],
   "source": []
  },
  {
   "cell_type": "code",
   "execution_count": null,
   "id": "a1252069-6fe9-4d75-a61f-8e0f751e8616",
   "metadata": {},
   "outputs": [],
   "source": []
  },
  {
   "cell_type": "markdown",
   "id": "bae0f654-4ea8-4b67-97a8-f5eeac56fd38",
   "metadata": {},
   "source": [
    "## Explanations"
   ]
  },
  {
   "cell_type": "markdown",
   "id": "ba6ae3ee-c93e-4ecb-8e46-017b2f819391",
   "metadata": {},
   "source": [
    "### Unbiased estimator of the sample variance"
   ]
  },
  {
   "cell_type": "code",
   "execution_count": 72,
   "id": "6a0dde4a-20ff-45a4-936a-fd51e3fd8eac",
   "metadata": {},
   "outputs": [
    {
     "data": {
      "text/plain": [
       "10029.611947721529"
      ]
     },
     "execution_count": 72,
     "metadata": {},
     "output_type": "execute_result"
    },
    {
     "data": {
      "image/png": "[encoded data removed]",
      "text/plain": [
       "<Figure size 360x144 with 1 Axes>"
      ]
     },
     "metadata": {
      "image/png": {
       "height": 157,
       "width": 351
      }
     },
     "output_type": "display_data"
    }
   ],
   "source": [
    "np.random.seed(16)\n",
    "nvars = gen_sampling_dist(rvN, statfunc=var, n=20)\n",
    "ax = sns.histplot(nvars, stat=\"density\")\n",
    "_ = ax.set_xlabel(\"$s^2_{\\mathbf{n}}$\")\n"
   ]
  },
  {
   "cell_type": "markdown",
   "id": "ae715233-9e0a-46dc-a910-2e6da972cbb0",
   "metadata": {},
   "source": [
    "This is an unbiased estimator of the sample variance,\n",
    "since its expected value equals the population variance:\n",
    "$\\mathbb{E}[S^2] \\approx \\sigma^2 = 100^2 = 10000$."
   ]
  },
  {
   "cell_type": "code",
   "execution_count": null,
   "id": "27df213b-bf1c-4612-86bb-2b07a6a892f8",
   "metadata": {},
   "outputs": [],
   "source": [
    "np.mean(nvars)"
   ]
  },
  {
   "cell_type": "markdown",
   "id": "9d74ee17-80a3-4d5a-9871-4c593925330d",
   "metadata": {},
   "source": [
    "#### Biased estimator of the sample variance\n",
    "\n",
    "Let's see what happens if we use the denominator $n$ instead of $(n-1)$ for the sample variance calculation."
   ]
  },
  {
   "cell_type": "code",
   "execution_count": 73,
   "id": "81b8cedd-eea1-4599-805b-61880a8dd284",
   "metadata": {},
   "outputs": [],
   "source": [
    "def s2tilde(sample):\n",
    "    xbar = mean(sample)\n",
    "    sumsqdevs = sum([(xi-xbar)**2 for xi in sample])\n",
    "    return sumsqdevs / len(sample)"
   ]
  },
  {
   "cell_type": "code",
   "execution_count": 74,
   "id": "1921a12e-f8d0-4716-ab57-38a2b700e205",
   "metadata": {},
   "outputs": [],
   "source": []
  },
  {
   "cell_type": "code",
   "execution_count": 75,
   "id": "c32e3467-2439-4a95-b027-3194e69e6370",
   "metadata": {},
   "outputs": [
    {
     "data": {
      "text/plain": [
       "9528.131350335454"
      ]
     },
     "execution_count": 75,
     "metadata": {},
     "output_type": "execute_result"
    },
    {
     "data": {
      "image/png": "[encoded data removed]",
      "text/plain": [
       "<Figure size 360x144 with 1 Axes>"
      ]
     },
     "metadata": {
      "image/png": {
       "height": 157,
       "width": 351
      }
     },
     "output_type": "display_data"
    }
   ],
   "source": [
    "np.random.seed(16)\n",
    "s2tildes = gen_sampling_dist(rvN, statfunc=s2tilde, n=20)\n",
    "ax = sns.histplot(s2tildes, stat=\"density\")\n",
    "_ = ax.set_xlabel(\"$\\\\tilde{s}^2_{\\mathbf{n}}$\")\n"
   ]
  },
  {
   "cell_type": "markdown",
   "id": "c9239b34-d236-49d1-a2bf-59346d280c26",
   "metadata": {},
   "source": [
    "The expected value of this estimator $\\mathbb{E}[\\tilde{S}^2]$ does not equal the population variance\n",
    "$\\sigma^2 = 100^2 = 10000$."
   ]
  },
  {
   "cell_type": "code",
   "execution_count": 83,
   "id": "397dd24b-bf18-4866-b221-8405ea2828bf",
   "metadata": {},
   "outputs": [
    {
     "data": {
      "text/plain": [
       "9528.131350335454"
      ]
     },
     "execution_count": 83,
     "metadata": {},
     "output_type": "execute_result"
    }
   ],
   "source": [
    "np.mean(s2tildes)"
   ]
  },
  {
   "cell_type": "markdown",
   "id": "5e51f16d-0ea2-4c7d-a9eb-b218a684341c",
   "metadata": {},
   "source": [
    "We can correct the bias in this estimator by simply using the normalization factor\n",
    "$(n-1)$ in the formula instead of $n$."
   ]
  },
  {
   "cell_type": "code",
   "execution_count": null,
   "id": "e041e2fa-1117-4364-9aac-25751ac384ab",
   "metadata": {},
   "outputs": [],
   "source": []
  },
  {
   "cell_type": "code",
   "execution_count": null,
   "id": "e94d280e-07ae-4ba4-a3e2-d797a4c39ecc",
   "metadata": {},
   "outputs": [],
   "source": []
  },
  {
   "cell_type": "markdown",
   "id": "55903ffc-11fa-4bd0-bc36-756919b670ce",
   "metadata": {},
   "source": [
    "## Discussion"
   ]
  },
  {
   "cell_type": "markdown",
   "id": "607019bf-3cb5-4317-a864-45481ab5d7a0",
   "metadata": {},
   "source": [
    "### Discovering estimator formulas"
   ]
  },
  {
   "cell_type": "code",
   "execution_count": null,
   "id": "c6505f4f-40fc-4fcf-b2ad-3867e73cb68a",
   "metadata": {},
   "outputs": [],
   "source": []
  },
  {
   "cell_type": "markdown",
   "id": "5d06d1ac-4bff-4497-8a08-fc6238f36383",
   "metadata": {},
   "source": [
    "#### Method of moments"
   ]
  },
  {
   "cell_type": "code",
   "execution_count": 77,
   "id": "f13003a2-3f5e-4e58-884d-826f880fd214",
   "metadata": {},
   "outputs": [
    {
     "data": {
      "text/plain": [
       "(1010.3857933128627, 88.72722772438432)"
      ]
     },
     "execution_count": 77,
     "metadata": {},
     "output_type": "execute_result"
    }
   ],
   "source": [
    "from scipy.stats import norm\n",
    "\n",
    "norm.fit(nsample20, method=\"MM\")"
   ]
  },
  {
   "cell_type": "code",
   "execution_count": 78,
   "id": "f6ff0575-7b4f-4e9a-8a42-0dbe068e4e87",
   "metadata": {},
   "outputs": [
    {
     "data": {
      "text/plain": [
       "(0, 6.022549491872384)"
      ]
     },
     "execution_count": 78,
     "metadata": {},
     "output_type": "execute_result"
    }
   ],
   "source": [
    "from scipy.stats import expon\n",
    "\n",
    "lam = 0.2\n",
    "esample20 = expon(0, 1/lam).rvs(20)\n",
    "\n",
    "expon.fit(esample20, floc=0, method=\"MM\")"
   ]
  },
  {
   "cell_type": "markdown",
   "id": "0321fd1e-f022-409e-bf50-c6e4ebc65e26",
   "metadata": {},
   "source": [
    "#### Maximum likelihood estimation"
   ]
  },
  {
   "cell_type": "code",
   "execution_count": 79,
   "id": "f9f68846-2356-4dce-bbbc-c18380d381b9",
   "metadata": {},
   "outputs": [
    {
     "data": {
      "text/plain": [
       "(1010.3857933128627, 88.72722772438432)"
      ]
     },
     "execution_count": 79,
     "metadata": {},
     "output_type": "execute_result"
    }
   ],
   "source": [
    "norm.fit(nsample20, method=\"MLE\")"
   ]
  },
  {
   "cell_type": "code",
   "execution_count": 80,
   "id": "3fce619d-b3b1-47af-9ab3-339e7624901a",
   "metadata": {},
   "outputs": [
    {
     "data": {
      "text/plain": [
       "(0.0, 6.0225667286941285)"
      ]
     },
     "execution_count": 80,
     "metadata": {},
     "output_type": "execute_result"
    }
   ],
   "source": [
    "expon.fit(esample20, floc=0, method=\"MLE\")"
   ]
  },
  {
   "cell_type": "code",
   "execution_count": null,
   "id": "e060a4fb-a003-43f6-b92b-d6d7589c27b4",
   "metadata": {},
   "outputs": [],
   "source": []
  },
  {
   "cell_type": "markdown",
   "id": "1c1245ed-c5fe-46e9-8a43-da8fee7df3b4",
   "metadata": {},
   "source": [
    "#### Bayesian estimators"
   ]
  },
  {
   "cell_type": "code",
   "execution_count": null,
   "id": "bdc34a5c-ebd4-4127-8cc1-2634b58e42fc",
   "metadata": {},
   "outputs": [],
   "source": []
  },
  {
   "cell_type": "code",
   "execution_count": null,
   "id": "d58ef36d-adb0-4fa9-9338-b65ecd7926d3",
   "metadata": {},
   "outputs": [],
   "source": []
  },
  {
   "cell_type": "code",
   "execution_count": null,
   "id": "ef6c48a3-e123-47f2-8b5f-851bbfcce90e",
   "metadata": {},
   "outputs": [],
   "source": []
  },
  {
   "cell_type": "code",
   "execution_count": null,
   "id": "ef8d8b1b-c4c0-4785-9a67-06bb1358330f",
   "metadata": {},
   "outputs": [],
   "source": []
  },
  {
   "cell_type": "code",
   "execution_count": null,
   "id": "32be46a0-3418-49e3-9965-c0b6401d5d9d",
   "metadata": {},
   "outputs": [],
   "source": []
  }
 ],
 "metadata": {
  "kernelspec": {
   "display_name": "Python 3 (ipykernel)",
   "language": "python",
   "name": "python3"
  },
  "language_info": {
   "codemirror_mode": {
    "name": "ipython",
    "version": 3
   },
   "file_extension": ".py",
   "mimetype": "text/x-python",
   "name": "python",
   "nbconvert_exporter": "python",
   "pygments_lexer": "ipython3",
   "version": "3.9.4"
  }
 },
 "nbformat": 4,
 "nbformat_minor": 5
}
