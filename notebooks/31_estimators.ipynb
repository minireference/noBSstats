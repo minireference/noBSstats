{
 "cells": [
  {
   "cell_type": "markdown",
   "id": "b73f3d18-88c7-499d-90a3-dd6954247cf3",
   "metadata": {
    "tags": []
   },
   "source": [
    "# Section 3.1 — Estimators\n",
    "\n",
    "This notebook contains the code examples from [Section 3.1 Estimators]() of the **No Bullshit Guide to Statistics**.\n",
    "\n",
    "We'll begin our study of inferential statistics by introducing **estimators**,\n",
    "which are the math tools used for both **estimation**  and **hypothesis testing**.\n",
    "\n",
    "![simplified_estimators.png](../stats_overview/figures/simplified_estimators.png)"
   ]
  },
  {
   "cell_type": "markdown",
   "id": "efce8e91-8824-4103-a526-02e23c794668",
   "metadata": {
    "tags": []
   },
   "source": [
    "#### Notebook setup"
   ]
  },
  {
   "cell_type": "code",
   "execution_count": 1,
   "id": "990de07d-c26f-4a29-935a-2b1dacc89b34",
   "metadata": {},
   "outputs": [],
   "source": [
    "# load Python modules\n",
    "import os\n",
    "import numpy as np\n",
    "import pandas as pd\n",
    "import seaborn as sns\n",
    "import matplotlib.pyplot as plt"
   ]
  },
  {
   "cell_type": "code",
   "execution_count": 2,
   "id": "9c117451-42db-4542-81a7-7b47b02686e1",
   "metadata": {},
   "outputs": [],
   "source": [
    "# Plot helper functions\n",
    "from plot_helpers import plot_pdf\n",
    "from plot_helpers import savefigure"
   ]
  },
  {
   "cell_type": "code",
   "execution_count": 3,
   "id": "3209c5be-cb6a-42c0-8bf8-949a4fc0ff39",
   "metadata": {},
   "outputs": [],
   "source": [
    "# Figures setup\n",
    "sns.set_theme(\n",
    "    context=\"paper\",\n",
    "    style=\"whitegrid\",\n",
    "    palette=\"colorblind\",\n",
    "    rc={'figure.figsize': (8,4)},\n",
    "    # rc={'figure.figsize': (5,2)},\n",
    ")\n",
    "blue, orange  = sns.color_palette()[0], sns.color_palette()[1]\n",
    "\n",
    "DESTDIR = \"figures/stats/estimators\"\n",
    "\n",
    "%config InlineBackend.figure_format = 'retina'"
   ]
  },
  {
   "cell_type": "code",
   "execution_count": null,
   "id": "732928e1-64df-41a8-9ee7-6cc0688641d0",
   "metadata": {},
   "outputs": [],
   "source": []
  },
  {
   "cell_type": "code",
   "execution_count": 4,
   "id": "df22d8d7-6814-4c3b-a3d3-2f31ab6b2f3b",
   "metadata": {},
   "outputs": [],
   "source": [
    "# set random seed for repeatability\n",
    "np.random.seed(42)"
   ]
  },
  {
   "cell_type": "markdown",
   "id": "9ee8aad0-01a7-4aff-819f-9de0d15d52c3",
   "metadata": {},
   "source": [
    "$\\def\\stderr#1{\\mathbf{se}_{#1}}$\n",
    "$\\def\\stderrhat#1{\\hat{\\mathbf{se}}_{#1}}$\n",
    "$\\newcommand{\\Mean}{\\textbf{Mean}}$\n",
    "$\\newcommand{\\Var}{\\textbf{Var}}$\n",
    "$\\newcommand{\\Std}{\\textbf{Std}}$\n",
    "$\\newcommand{\\Freq}{\\textbf{Freq}}$\n",
    "$\\newcommand{\\RelFreq}{\\textbf{RelFreq}}$\n",
    "$\\newcommand{\\DMeans}{\\textbf{DMeans}}$\n",
    "$\\newcommand{\\Prop}{\\textbf{Prop}}$\n",
    "$\\newcommand{\\DProps}{\\textbf{DProps}}$\n",
    "\n",
    "\n",
    "(this cell contains the macro definitions $\\stderr{}$, $\\stderrhat{}$, $\\Mean$, ...)"
   ]
  },
  {
   "cell_type": "markdown",
   "id": "576f7dfd-7b94-4dd1-82c1-b55358f06534",
   "metadata": {},
   "source": [
    " "
   ]
  },
  {
   "cell_type": "markdown",
   "id": "8804a09a-f4ad-4ff6-a449-1ee3ee3431aa",
   "metadata": {},
   "source": [
    "## Statistical inference context\n",
    "\n",
    "DATA:\n",
    "- population\n",
    "- sample\n",
    "- statistic\n",
    "\n",
    "PROB:\n",
    "- probability model\n",
    "- model family\n",
    "- parameters\n",
    "\n",
    "\n",
    "Statistical inference is the use the values of the statistics obtained from the sample $\\mathbf{x} = (x_1, x_2, \\ldots, x_n)$ to estimate the population parameters $\\theta$. For example,\n",
    "the sample mean $\\overline{\\mathbf{x}}=\\Mean(\\mathbf{x})$ is an estimate of the population mean $\\mu$,\n",
    "and the sample variance $s_{\\mathbf{x}}^2=\\Var(\\mathbf{x})$ is an estimate of the population variance $\\sigma^2$."
   ]
  },
  {
   "cell_type": "markdown",
   "id": "e5d5f270-ee83-42f7-bba5-0dccb2d7a4be",
   "metadata": {},
   "source": [
    "## Estimator definitions\n",
    "\n",
    "- We use the term \"estimator\" to describe a function $g$ that takes samples as inputs\n",
    "  and produces parameter estimates as outputs.\n",
    "  Written mathematically, and estimator is a function of the form:\n",
    "  $$\n",
    "   g \\colon \\underbrace{\\mathcal{X}\\times \\mathcal{X}\\times \\cdots \\times \\mathcal{X}}_{n \\textrm{ copies}}\n",
    "   \\quad \\to \\quad \\mathbb{R},\n",
    "  $$\n",
    "  where $n$ is the samples size and $\\mathcal{X}$ denotes the possible values of the random variable $X$.\n",
    "- We give different names to estimates, depending on the use case:\n",
    "  - **statistic** = a quantity computed from a sample (e.g. descriptive statistics)\n",
    "  - **parameter estimates** = statistics that estimate population parameters\n",
    "  - **test statistic** = an estimate used as part of hypothesis testing procedure\n",
    "- The **value** of the estimator $\\hat{\\theta} = g(\\mathbf{x})$ is computed from a particular sample\n",
    "  $\\mathbf{x} = (x_1, x_2, \\ldots, x_n)$.\n",
    "- The **sampling distribution** of the estimator $g$ is the distribution of $\\hat{\\Theta} = g(\\mathbf{X})$,\n",
    "  where $\\mathbf{X} = (X_1, X_2, \\ldots, X_n)$ is a *random sample*."
   ]
  },
  {
   "cell_type": "markdown",
   "id": "9c7a3a4e-1796-407e-a0ac-0492a17c9178",
   "metadata": {},
   "source": [
    " "
   ]
  },
  {
   "cell_type": "raw",
   "id": "a401f9b3-8bb4-4a78-a378-15c3bc772f41",
   "metadata": {},
   "source": [
    "### Estimators for numerical variables\n",
    "\n",
    "Let's start with some estimators you're already familiar with (discussed in [descriptive statistics](./13_descriptive_statistics.ipynb)):"
   ]
  },
  {
   "cell_type": "markdown",
   "id": "cd0daa61-a700-4147-bfa7-b828557243d5",
   "metadata": {
    "tags": []
   },
   "source": [
    "#### Sample mean\n",
    "\n",
    "  - estimator: $\\overline{\\mathbf{x}} = \\Mean(\\mathbf{x}) = \\frac{1}{n}\\sum_{i=1}^n x_i$\n",
    "  - gives an estimate for the population mean $\\mu$"
   ]
  },
  {
   "cell_type": "code",
   "execution_count": 5,
   "id": "cdf63b86-eb30-452e-9cb5-0205b75f87e0",
   "metadata": {},
   "outputs": [],
   "source": [
    "def mean(sample):\n",
    "    return sum(sample) / len(sample)\n",
    "\n",
    "# ALT. use np.mean(sample)\n",
    "# ALT. use .mean() method on a Pandas series"
   ]
  },
  {
   "cell_type": "code",
   "execution_count": null,
   "id": "a06fe0fd-4eea-422a-84a6-221e6086f661",
   "metadata": {},
   "outputs": [],
   "source": []
  },
  {
   "cell_type": "markdown",
   "id": "b9753ab0-53dd-4488-98b0-572cbb6ed1ba",
   "metadata": {},
   "source": [
    "#### Sample variance\n",
    "\n",
    "  - estimator: $s_{\\mathbf{x}}^2 = \\Var(\\mathbf{x}) = \\frac{1}{n-1}\\sum_{i=1}^n (x_i-\\overline{\\mathbf{x}})^2$\n",
    "  - gives an estimate for the population variance $\\sigma^2$\n",
    "  - note the denominator is $(n-1)$ and not $n$ "
   ]
  },
  {
   "cell_type": "code",
   "execution_count": 6,
   "id": "12904756-3603-4d08-9f83-b3b89eaaf15c",
   "metadata": {},
   "outputs": [],
   "source": [
    "def var(sample):\n",
    "    xbar = mean(sample)\n",
    "    sumsqdevs = sum([(xi-xbar)**2 for xi in sample])\n",
    "    return sumsqdevs / (len(sample)-1)\n",
    "\n",
    "# ALT. use np.var(sample, ddof=1)\n",
    "# ALT. use .var() method on a Pandas series"
   ]
  },
  {
   "cell_type": "code",
   "execution_count": null,
   "id": "6b3fba80-f8cc-4b9f-addf-ac2401d27a31",
   "metadata": {},
   "outputs": [],
   "source": []
  },
  {
   "cell_type": "markdown",
   "id": "6709a291-4e0a-4e00-acc2-5ed23bc4854d",
   "metadata": {},
   "source": [
    "#### Example 1: kombucha volume mean and variance\n"
   ]
  },
  {
   "cell_type": "code",
   "execution_count": 7,
   "id": "ea343529-622d-4e7a-b222-483611f15753",
   "metadata": {},
   "outputs": [],
   "source": [
    "kombucha = pd.read_csv(\"../datasets/kombucha.csv\")\n",
    "# kombucha"
   ]
  },
  {
   "cell_type": "code",
   "execution_count": 8,
   "id": "80431b40-5739-42b9-bf59-0b56fbfb7656",
   "metadata": {},
   "outputs": [
    {
     "data": {
      "text/plain": [
       "array([1016.24,  993.88,  994.72,  989.27, 1008.65,  976.98, 1017.45,\n",
       "        992.39, 1003.19,  997.51, 1014.62,  979.4 ,  996.78,  996.16,\n",
       "       1011.34,  989.  ,  998.28,  991.22, 1000.42, 1005.83,  988.99,\n",
       "       1011.45, 1009.02, 1005.02, 1009.01,  993.16,  998.77,  990.64,\n",
       "        997.32, 1005.3 ,  993.08,  996.03,  993.13,  991.55,  993.29,\n",
       "        999.87,  988.83, 1002.34, 1016.6 , 1007.42])"
      ]
     },
     "execution_count": 8,
     "metadata": {},
     "output_type": "execute_result"
    }
   ],
   "source": [
    "batch01 = kombucha[kombucha[\"batch\"]==1]\n",
    "ksample01 = batch01[\"volume\"].values\n",
    "ksample01"
   ]
  },
  {
   "cell_type": "code",
   "execution_count": 9,
   "id": "e0d97e4d-cf70-401f-873f-6e65550f56ae",
   "metadata": {},
   "outputs": [
    {
     "data": {
      "text/plain": [
       "999.10375"
      ]
     },
     "execution_count": 9,
     "metadata": {},
     "output_type": "execute_result"
    }
   ],
   "source": [
    "mean(ksample01)"
   ]
  },
  {
   "cell_type": "code",
   "execution_count": 10,
   "id": "ea28354f-1d80-4d5e-a427-5ec299f0939f",
   "metadata": {},
   "outputs": [
    {
     "data": {
      "text/plain": [
       "95.43654198717958"
      ]
     },
     "execution_count": 10,
     "metadata": {},
     "output_type": "execute_result"
    }
   ],
   "source": [
    "var(ksample01)"
   ]
  },
  {
   "cell_type": "code",
   "execution_count": 11,
   "id": "08623f25-7ffe-4e56-a561-1f2653d33e22",
   "metadata": {},
   "outputs": [
    {
     "data": {
      "text/plain": [
       "9.769162808919686"
      ]
     },
     "execution_count": 11,
     "metadata": {},
     "output_type": "execute_result"
    }
   ],
   "source": [
    "np.sqrt(var(ksample01))"
   ]
  },
  {
   "cell_type": "code",
   "execution_count": null,
   "id": "2ca95e63-47c7-4609-9afe-616027c3bbb9",
   "metadata": {},
   "outputs": [],
   "source": []
  },
  {
   "cell_type": "markdown",
   "id": "699b23e9-81ca-43be-bdc0-0a73c5269ff3",
   "metadata": {},
   "source": [
    "#### Example 2: apple weight mean and variance\n"
   ]
  },
  {
   "cell_type": "code",
   "execution_count": 12,
   "id": "4ec1ec89-7533-43c0-8ac7-9a5b1e31f135",
   "metadata": {},
   "outputs": [],
   "source": [
    "apples = pd.read_csv(\"../datasets/apples.csv\")\n",
    "# apples"
   ]
  },
  {
   "cell_type": "code",
   "execution_count": 13,
   "id": "6b05e021-91f3-43f3-95fd-f1e1beef07ab",
   "metadata": {},
   "outputs": [],
   "source": [
    "xA = apples[\"weight\"].values"
   ]
  },
  {
   "cell_type": "markdown",
   "id": "550be378-9faa-4119-af4f-ea586bc6e70d",
   "metadata": {},
   "source": [
    "Next we calculate the mean of the prices in the West end:"
   ]
  },
  {
   "cell_type": "code",
   "execution_count": 14,
   "id": "3811d738-1d44-47a4-9dc0-7c0bee3c3fe2",
   "metadata": {},
   "outputs": [
    {
     "data": {
      "text/plain": [
       "153.43474999999995"
      ]
     },
     "execution_count": 14,
     "metadata": {},
     "output_type": "execute_result"
    }
   ],
   "source": [
    "mean(xA)"
   ]
  },
  {
   "cell_type": "markdown",
   "id": "9c7c22d4-8771-48a2-b0a6-378a0be9d506",
   "metadata": {},
   "source": [
    "Let's also calculate the variance of the apple weights:"
   ]
  },
  {
   "cell_type": "code",
   "execution_count": 15,
   "id": "0cb0ad30-8f99-468a-92aa-19842d31e6d6",
   "metadata": {},
   "outputs": [
    {
     "data": {
      "text/plain": [
       "379.524625576923"
      ]
     },
     "execution_count": 15,
     "metadata": {},
     "output_type": "execute_result"
    }
   ],
   "source": [
    "var(xA)"
   ]
  },
  {
   "cell_type": "code",
   "execution_count": 16,
   "id": "70a3a606-4c73-4152-b7f8-a020338af4a0",
   "metadata": {},
   "outputs": [
    {
     "data": {
      "text/plain": [
       "19.48139177720429"
      ]
     },
     "execution_count": 16,
     "metadata": {},
     "output_type": "execute_result"
    }
   ],
   "source": [
    "np.sqrt(var(xA))"
   ]
  },
  {
   "cell_type": "code",
   "execution_count": null,
   "id": "f706f7d6-bb31-4091-b441-3870e3ae85f6",
   "metadata": {},
   "outputs": [],
   "source": []
  },
  {
   "cell_type": "markdown",
   "id": "7b4870cb-efb4-4fb4-8493-c3b350dc3388",
   "metadata": {},
   "source": [
    "In this notebook we'll develop some new estimators that are specific for the comparison of the two groups.\n",
    "\n",
    "#### Difference between sample means\n",
    "  - estimator: $\\hat{d} = \\DMeans(\\mathbf{x}_A, \\mathbf{x}_B) = \\Mean(\\mathbf{x}_A) - \\Mean(\\mathbf{x}_B) = \\overline{\\mathbf{x}}_A - \\overline{\\mathbf{x}}_B$\n",
    "  - gives an estimate for the difference between population means: $\\Delta =  \\mu_A - \\mu_B$"
   ]
  },
  {
   "cell_type": "code",
   "execution_count": 17,
   "id": "7100e5f2-38e1-4d3d-971f-fe88b2ffa94d",
   "metadata": {},
   "outputs": [],
   "source": [
    "def dmeans(xsample, ysample):\n",
    "    \"\"\"\n",
    "    Compute the difference between group means of the samples.\n",
    "    \"\"\"\n",
    "    dhat = mean(xsample) - mean(ysample)\n",
    "    return dhat"
   ]
  },
  {
   "cell_type": "code",
   "execution_count": null,
   "id": "41f0297f-1d77-4d76-acaf-8951c8605457",
   "metadata": {},
   "outputs": [],
   "source": []
  },
  {
   "cell_type": "markdown",
   "id": "d5bb63d9-532d-441b-a757-149e3397c38c",
   "metadata": {},
   "source": [
    "#### Example 3: electricity prices means, variances, and difference between means\n"
   ]
  },
  {
   "cell_type": "code",
   "execution_count": 18,
   "id": "80b3b03b-7390-4d96-8b2d-39e3b45a818a",
   "metadata": {},
   "outputs": [],
   "source": [
    "eprices = pd.read_csv(\"../datasets/eprices.csv\")\n",
    "# eprices"
   ]
  },
  {
   "cell_type": "code",
   "execution_count": 19,
   "id": "6255e10e-7ccc-46e8-983a-3491f7fd474d",
   "metadata": {},
   "outputs": [
    {
     "data": {
      "text/plain": [
       "array([11.8, 10. , 11. ,  8.6,  8.3,  9.4,  8. ,  6.8,  8.5])"
      ]
     },
     "execution_count": 19,
     "metadata": {},
     "output_type": "execute_result"
    }
   ],
   "source": [
    "xW = eprices[\"West\"]\n",
    "xW.values"
   ]
  },
  {
   "cell_type": "code",
   "execution_count": 20,
   "id": "4fb0bc7e-206d-4fd2-bc2a-4ee361296f88",
   "metadata": {},
   "outputs": [
    {
     "data": {
      "text/plain": [
       "array([7.7, 5.9, 7. , 4.8, 6.3, 6.3, 5.5, 5.4, 6.5])"
      ]
     },
     "execution_count": 20,
     "metadata": {},
     "output_type": "execute_result"
    }
   ],
   "source": [
    "xE = eprices[\"East\"]\n",
    "xE.values"
   ]
  },
  {
   "cell_type": "markdown",
   "id": "6738bace-fa7d-4424-b063-b5c5d322a1a0",
   "metadata": {},
   "source": [
    "Next we calculate the mean of the prices in the West end:"
   ]
  },
  {
   "cell_type": "code",
   "execution_count": 21,
   "id": "ea107686-26b1-42df-9a0b-140de13a506d",
   "metadata": {},
   "outputs": [
    {
     "data": {
      "text/plain": [
       "9.155555555555555"
      ]
     },
     "execution_count": 21,
     "metadata": {},
     "output_type": "execute_result"
    }
   ],
   "source": [
    "mean(xW)"
   ]
  },
  {
   "cell_type": "markdown",
   "id": "e0d5d544-1cfc-41cb-a4ca-46b720c2f4ba",
   "metadata": {},
   "source": [
    "Let's also calculate the variance of the electricity prices in the West end:"
   ]
  },
  {
   "cell_type": "code",
   "execution_count": 22,
   "id": "bf03ff87-b315-4cb5-b0e1-2cc60c5db539",
   "metadata": {},
   "outputs": [
    {
     "data": {
      "text/plain": [
       "2.440277777777778"
      ]
     },
     "execution_count": 22,
     "metadata": {},
     "output_type": "execute_result"
    }
   ],
   "source": [
    "var(xW)"
   ]
  },
  {
   "cell_type": "markdown",
   "id": "b5517865-ab6d-4395-91af-e395f4ceb2f2",
   "metadata": {},
   "source": [
    "Similarly, we can calculate the mean and the variance of the electricity prices in the East end."
   ]
  },
  {
   "cell_type": "code",
   "execution_count": 23,
   "id": "f494d870-25ed-4f9b-88a8-94a939bc6fa4",
   "metadata": {},
   "outputs": [
    {
     "data": {
      "text/plain": [
       "(6.155555555555555, 0.7702777777777777)"
      ]
     },
     "execution_count": 23,
     "metadata": {},
     "output_type": "execute_result"
    }
   ],
   "source": [
    "mean(xE), var(xE)"
   ]
  },
  {
   "cell_type": "markdown",
   "id": "02c8b939-1c6b-40e8-a351-6c6f1818e5cf",
   "metadata": {},
   "source": [
    "Finally,\n",
    "we compute the estimate $\\hat{d} = \\textrm{DMeans}(\\tt{xW}, \\tt{xE})$."
   ]
  },
  {
   "cell_type": "code",
   "execution_count": 24,
   "id": "eb70b02e-2c62-497f-951a-a2883cf60882",
   "metadata": {},
   "outputs": [
    {
     "data": {
      "text/plain": [
       "3.0"
      ]
     },
     "execution_count": 24,
     "metadata": {},
     "output_type": "execute_result"
    }
   ],
   "source": [
    "dmeans(xW, xE)"
   ]
  },
  {
   "cell_type": "markdown",
   "id": "10a1a06f-c8f5-400f-9270-80dc7a912633",
   "metadata": {},
   "source": [
    "According to this estimate,\n",
    "the average price Rob can expect in the East end is three cents cheaper,\n",
    "on average,\n",
    "as compared to the average electricity price in the West.\n"
   ]
  },
  {
   "cell_type": "code",
   "execution_count": null,
   "id": "428bd3ce-19fb-4001-b62c-20958b4671a7",
   "metadata": {},
   "outputs": [],
   "source": []
  },
  {
   "cell_type": "code",
   "execution_count": null,
   "id": "6de365a6-ae60-4106-9378-0df622e5c22b",
   "metadata": {},
   "outputs": [],
   "source": []
  },
  {
   "cell_type": "code",
   "execution_count": null,
   "id": "adbbbf22-2dec-459f-874a-643530a3fe51",
   "metadata": {},
   "outputs": [],
   "source": []
  },
  {
   "cell_type": "markdown",
   "id": "401d6270-ac8d-4fab-8c55-3ad265614625",
   "metadata": {},
   "source": [
    " "
   ]
  },
  {
   "cell_type": "markdown",
   "id": "850996c2-d97f-48f1-82b1-c9258adb9aa6",
   "metadata": {},
   "source": [
    "## Sampling distributions\n",
    "\n",
    "\n",
    "TODO import definitions\n"
   ]
  },
  {
   "cell_type": "markdown",
   "id": "01b02fec-9914-469a-997b-9dea743719b9",
   "metadata": {},
   "source": [
    "### Examples of sampling distributions\n",
    "\n",
    "Let's look at the same estimators that we described in the previous section,\n",
    "but this time applied to *random* samples of size $n$:\n",
    "\n",
    "- Sample mean: $\\overline{\\mathbf{X}} = \\Mean(\\mathbf{X}) = \\tfrac{1}{n}\\sum_{i=1}^n X_i$\n",
    "- Sample variance: $S_{\\mathbf{X}}^2 = \\Var(\\mathbf{X}) = \\tfrac{1}{n-1}\\sum_{i=1}^n \\left(X_i - \\overline{\\mathbf{X}} \\right)^2$\n",
    "- Difference between sample means: $\\hat{D} = \\DMeans(\\mathbf{X}, \\mathbf{Y}) = \\overline{\\mathbf{X}} - \\overline{\\mathbf{Y}}$ \n",
    "\n",
    "Note these formulas is identical to the formulas we saw earlier.\n",
    "The only difference is that we're calculating the functions $g$, $h$, and $d$ based on a random sample $\\mathbf{X} = (X_1, X_2, \\ldots, X_n)$,\n",
    "instead of particular sample $\\mathbf{x} = (x_1, x_2, \\ldots, x_n)$."
   ]
  },
  {
   "cell_type": "code",
   "execution_count": null,
   "id": "29b8d70a-d168-4f99-ba5d-ffcab8c0e65f",
   "metadata": {},
   "outputs": [],
   "source": []
  },
  {
   "cell_type": "markdown",
   "id": "98c3da7b-4449-467d-8760-2fee6c584717",
   "metadata": {},
   "source": [
    "### Visualizing sampling distributions\n",
    "\n"
   ]
  },
  {
   "cell_type": "code",
   "execution_count": 25,
   "id": "2892a2c6-ab0a-4178-9741-8f9ea515fe33",
   "metadata": {},
   "outputs": [],
   "source": [
    "def gen_sampling_dist(rv, statfunc, n, N=10000):\n",
    "    stats = []\n",
    "    for i in range(0, N):\n",
    "        sample = rv.rvs(n)\n",
    "        stat = statfunc(sample)\n",
    "        stats.append(stat)\n",
    "    return stats"
   ]
  },
  {
   "cell_type": "code",
   "execution_count": null,
   "id": "0270f1fb-eeb9-4660-ad83-e4493e4fefcf",
   "metadata": {},
   "outputs": [],
   "source": []
  },
  {
   "cell_type": "markdown",
   "id": "9284d3fe-d6a8-46d7-9e72-7754ef67e6b1",
   "metadata": {},
   "source": [
    "#### Example 1 (cont): sampling distribution of the mean kombucha volume\n",
    "\n",
    "The probability distribution of the kombucha volume is know to\n",
    "be $K \\sim \\mathcal{N}(\\mu_K=1000, \\sigma_K=10)$.\n",
    "\n",
    "\n",
    "This is an usual case where we know the population parameters,\n",
    "but we'll investigate because it allows us to learn more about sampling distributions."
   ]
  },
  {
   "cell_type": "code",
   "execution_count": 26,
   "id": "a9cb10d3-3c6a-48d7-8067-e8f99ac6c555",
   "metadata": {},
   "outputs": [
    {
     "data": {
      "image/png": "[encoded data removed]",
      "text/plain": [
       "<Figure size 576x288 with 1 Axes>"
      ]
     },
     "metadata": {
      "image/png": {
       "height": 262,
       "width": 506
      }
     },
     "output_type": "display_data"
    }
   ],
   "source": [
    "from scipy.stats import norm\n",
    "muK = 1000\n",
    "sigmaK = 10\n",
    "rvK = norm(muK, sigmaK)\n",
    "\n",
    "ax = plot_pdf(rvK, xlims=[960,1040], rv_name=\"K\")"
   ]
  },
  {
   "cell_type": "code",
   "execution_count": 27,
   "id": "13a8bbd9-e0d8-43c6-82b2-a8d70de683a1",
   "metadata": {},
   "outputs": [],
   "source": [
    "# # NOT USED (decided no need to show pdf in the book)\n",
    "# filename = os.path.join(DESTDIR, \"plot_pdf_normal_mu1000_sigma10.pdf\")\n",
    "# savefigure(ax, filename)"
   ]
  },
  {
   "cell_type": "markdown",
   "id": "666e2959-0b03-4623-a4d8-b00bf876af4d",
   "metadata": {},
   "source": [
    "##### Sampling distribution of the sample mean"
   ]
  },
  {
   "cell_type": "code",
   "execution_count": 28,
   "id": "2da82019-6432-43a8-8d98-cedbad02f79a",
   "metadata": {},
   "outputs": [
    {
     "ename": "NameError",
     "evalue": "name 'rvN' is not defined",
     "output_type": "error",
     "traceback": [
      "\u001b[0;31m---------------------------------------------------------------------------\u001b[0m",
      "\u001b[0;31mNameError\u001b[0m                                 Traceback (most recent call last)",
      "Input \u001b[0;32mIn [28]\u001b[0m, in \u001b[0;36m<module>\u001b[0;34m\u001b[0m\n\u001b[1;32m      1\u001b[0m np\u001b[38;5;241m.\u001b[39mrandom\u001b[38;5;241m.\u001b[39mseed(\u001b[38;5;241m43\u001b[39m)\n\u001b[0;32m----> 2\u001b[0m nbars \u001b[38;5;241m=\u001b[39m gen_sampling_dist(\u001b[43mrvN\u001b[49m, statfunc\u001b[38;5;241m=\u001b[39mmean, n\u001b[38;5;241m=\u001b[39m\u001b[38;5;241m20\u001b[39m)\n\u001b[1;32m      3\u001b[0m ax \u001b[38;5;241m=\u001b[39m sns\u001b[38;5;241m.\u001b[39mhistplot(nbars, stat\u001b[38;5;241m=\u001b[39m\u001b[38;5;124m\"\u001b[39m\u001b[38;5;124mdensity\u001b[39m\u001b[38;5;124m\"\u001b[39m, bins\u001b[38;5;241m=\u001b[39m\u001b[38;5;241m100\u001b[39m)\n\u001b[1;32m      4\u001b[0m _ \u001b[38;5;241m=\u001b[39m ax\u001b[38;5;241m.\u001b[39mset_xlabel(\u001b[38;5;124m\"\u001b[39m\u001b[38;5;124m$\u001b[39m\u001b[38;5;124m\\\u001b[39m\u001b[38;5;124moverline\u001b[39m\u001b[38;5;124m{\u001b[39m\u001b[38;5;124m\\\u001b[39m\u001b[38;5;124mmathbf\u001b[39m\u001b[38;5;132;01m{n}\u001b[39;00m\u001b[38;5;124m}$\u001b[39m\u001b[38;5;124m\"\u001b[39m)\n",
      "\u001b[0;31mNameError\u001b[0m: name 'rvN' is not defined"
     ]
    }
   ],
   "source": [
    "np.random.seed(43)\n",
    "nbars = gen_sampling_dist(rvN, statfunc=mean, n=20)\n",
    "ax = sns.histplot(nbars, stat=\"density\", bins=100)\n",
    "_ = ax.set_xlabel(\"$\\overline{\\mathbf{n}}$\")"
   ]
  },
  {
   "cell_type": "code",
   "execution_count": null,
   "id": "667471ce-134c-4b02-98dd-f7aca3ef2b5d",
   "metadata": {},
   "outputs": [],
   "source": [
    "filename = os.path.join(DESTDIR, \"sampling_dist_mean_n20_normal_mu1000_sigma100.pdf\")\n",
    "savefigure(ax, filename)"
   ]
  },
  {
   "cell_type": "code",
   "execution_count": null,
   "id": "71040005-7e2a-47de-b8a7-9931353bdd3a",
   "metadata": {},
   "outputs": [],
   "source": [
    "# expected  observed\n",
    "mu,         np.mean(nbars)"
   ]
  },
  {
   "cell_type": "code",
   "execution_count": null,
   "id": "35a501ff-1abb-44a1-a1d3-df65ed20e741",
   "metadata": {},
   "outputs": [],
   "source": [
    "# expected     observed\n",
    "sigma**2/20,   np.var(nbars, ddof=1)"
   ]
  },
  {
   "cell_type": "code",
   "execution_count": null,
   "id": "accc7eaf-3136-4fca-a487-50c688f2741f",
   "metadata": {},
   "outputs": [],
   "source": []
  },
  {
   "cell_type": "code",
   "execution_count": null,
   "id": "3f8cd205-8ce0-4c23-bd2f-1ac0f855747f",
   "metadata": {},
   "outputs": [],
   "source": []
  },
  {
   "cell_type": "markdown",
   "id": "d1a2d260-0189-45bf-8e5a-9130647fb284",
   "metadata": {},
   "source": [
    "##### Sampling distribution of the sample variance"
   ]
  },
  {
   "cell_type": "code",
   "execution_count": null,
   "id": "5ff90f1e-2330-421f-b6b9-62fbaea5033c",
   "metadata": {},
   "outputs": [],
   "source": [
    "np.random.seed(44)\n",
    "nvars = gen_sampling_dist(rvN, statfunc=var, n=20)\n",
    "ax = sns.histplot(nvars, stat=\"density\", bins=100)\n",
    "_ = ax.set_xlabel(\"$s^2_{\\mathbf{n}}$\")"
   ]
  },
  {
   "cell_type": "code",
   "execution_count": null,
   "id": "9f9c295f-bca9-4864-aea0-4bcf6847b78d",
   "metadata": {},
   "outputs": [],
   "source": [
    "filename = os.path.join(DESTDIR, \"sampling_dist_var_n20_normal_mu1000_sigma100.pdf\")\n",
    "savefigure(ax, filename)"
   ]
  },
  {
   "cell_type": "code",
   "execution_count": null,
   "id": "99333769-27e5-40b5-8693-1899a628dfd4",
   "metadata": {},
   "outputs": [],
   "source": [
    "# expected   observed\n",
    "sigma**2,    np.mean(nvars)"
   ]
  },
  {
   "cell_type": "code",
   "execution_count": null,
   "id": "e6bf3701-e591-4551-8ae2-23598403ed6a",
   "metadata": {},
   "outputs": [],
   "source": []
  },
  {
   "cell_type": "markdown",
   "id": "b00d1ca4-1145-460e-a805-1ecd3af09c80",
   "metadata": {
    "jp-MarkdownHeadingCollapsed": true,
    "tags": []
   },
   "source": [
    "##### Sampling distribution of sample median (optional)"
   ]
  },
  {
   "cell_type": "code",
   "execution_count": null,
   "id": "eb6d21a3-4d8d-40b3-a134-113f5cfd5c7b",
   "metadata": {},
   "outputs": [],
   "source": [
    "np.random.seed(44)\n",
    "nmedians = gen_sampling_dist(rvN, statfunc=np.median, n=20)\n",
    "ax = sns.histplot(nmedians, stat=\"density\", bins=100)\n",
    "_ = ax.set_xlabel(\"Median(${\\mathbf{n}}$)\")"
   ]
  },
  {
   "cell_type": "markdown",
   "id": "9e81b89a-debf-4051-b6c8-b03890f8a4a9",
   "metadata": {
    "jp-MarkdownHeadingCollapsed": true,
    "tags": []
   },
   "source": [
    "##### Sampling distribution of 90th percentile (optional)"
   ]
  },
  {
   "cell_type": "code",
   "execution_count": null,
   "id": "cb64205e-30fd-4303-addf-14cd7c3a8761",
   "metadata": {},
   "outputs": [],
   "source": [
    "def ninetypctile(sample):\n",
    "    return np.percentile(sample, 90)\n",
    "ninetypctiles = gen_sampling_dist(rvN, statfunc=ninetypctile, n=20)\n",
    "ax = sns.histplot(ninetypctiles, stat=\"density\", bins=100)\n",
    "_ = ax.set_xlabel(\"90$^\\mathrm{th}$ percentile of ${\\mathbf{n}}$\")"
   ]
  },
  {
   "cell_type": "code",
   "execution_count": null,
   "id": "58059581-cb09-4aed-9656-189e72629312",
   "metadata": {},
   "outputs": [],
   "source": []
  },
  {
   "cell_type": "code",
   "execution_count": null,
   "id": "321bdfe8-9954-4c07-8142-9ca9026c3232",
   "metadata": {},
   "outputs": [],
   "source": []
  },
  {
   "cell_type": "markdown",
   "id": "b68e4f3e-34bc-4beb-8778-56746a7683e0",
   "metadata": {},
   "source": [
    "##### Ground truth for estimates\n",
    "\n",
    "Let's generate a particular sample to use in examples."
   ]
  },
  {
   "cell_type": "code",
   "execution_count": null,
   "id": "9ae31c24-5702-4c3f-9c9b-08074e0d1f2b",
   "metadata": {},
   "outputs": [],
   "source": [
    "np.random.seed(47)\n",
    "nsample20 = rvN.rvs(20)\n",
    "nsample20"
   ]
  },
  {
   "cell_type": "code",
   "execution_count": null,
   "id": "75910bae-e1e9-47e0-9564-b48c32d50926",
   "metadata": {},
   "outputs": [],
   "source": [
    "# [round(n,2) for n in nsample20]"
   ]
  },
  {
   "cell_type": "code",
   "execution_count": null,
   "id": "faa14a1e-b607-488d-abc6-cf15c6ef3630",
   "metadata": {},
   "outputs": [],
   "source": [
    "mean(nsample20)"
   ]
  },
  {
   "cell_type": "code",
   "execution_count": null,
   "id": "03aefbbb-73b6-4544-9a35-66a76fa2da30",
   "metadata": {},
   "outputs": [],
   "source": [
    "var(nsample20)"
   ]
  },
  {
   "cell_type": "code",
   "execution_count": null,
   "id": "9d0261a5-d2af-4cdd-aac7-bde6e49841ae",
   "metadata": {},
   "outputs": [],
   "source": []
  },
  {
   "cell_type": "markdown",
   "id": "14f78a67-9767-4600-8d65-13df6eb799a1",
   "metadata": {},
   "source": [
    "##### Ground truth for sampling distributions\n",
    "\n",
    "The sampling distribution graphs we saw above represent the true sampling distributions\n",
    "for the estimators $\\Mean$, $\\Var$, etc.,\n",
    "generated from samples of size $n=20$ from the population\n",
    "$K \\sim \\mathcal{N}(\\mu_K=1000, \\sigma_K=10)$.\n",
    "\n",
    "We can therefore use them as the \"ground truth\" for the approximations techniques\n",
    "we'll learn about in the next two subsections."
   ]
  },
  {
   "cell_type": "code",
   "execution_count": null,
   "id": "111f64f4-2810-4a9e-9cea-7f6b5112ce41",
   "metadata": {},
   "outputs": [],
   "source": []
  },
  {
   "cell_type": "markdown",
   "id": "6d268c4e-06bb-4c3e-995b-4646c5072c63",
   "metadata": {},
   "source": [
    "### Estimator properties\n",
    "\n",
    "- **bias**\n",
    "- **variance**\n",
    "  The square root of the variance of an estimator is called the **standard error**.\n",
    "\n",
    "\n",
    "![bias and variance](attachments/stats/estimators/bias_and_variance_targets.png)"
   ]
  },
  {
   "cell_type": "code",
   "execution_count": null,
   "id": "15e3ffe8-1114-4f0d-971b-cac6731a71d0",
   "metadata": {},
   "outputs": [],
   "source": []
  },
  {
   "cell_type": "code",
   "execution_count": null,
   "id": "4e0db908-ea4d-4b34-902a-3a520ae8ff4e",
   "metadata": {},
   "outputs": [],
   "source": []
  },
  {
   "cell_type": "markdown",
   "id": "bad1dc92-98d7-4c9f-9181-172df56bc5bc",
   "metadata": {},
   "source": [
    "## Analytical approximation formulas\n",
    "\n",
    "Use probability theory formulas to come up with approximation formulas for certain sampling distributions."
   ]
  },
  {
   "cell_type": "markdown",
   "id": "05561e82-2ad9-4801-bcc0-8055fec5d8af",
   "metadata": {
    "tags": []
   },
   "source": [
    "### Sample mean estimator\n",
    "\n",
    "The central limit theorem tells us everything we need to know about the sampling distribution of the sample mean estimator $\\Mean$,\n",
    "which corresponds to the random variable $\\overline{\\mathbf{X}} = \\Mean(\\mathbf{X})$.\n",
    "\n",
    "The central limit theorem states that the sampling distribution of the mean \n",
    "converges to a normal distribution as $n$ goes to infinity:\n",
    "$$\n",
    "    \\overline{\\mathbf{X}}\n",
    "    \\quad \\sim \\quad\n",
    "    \\mathcal{N}\\big(\\mu_X, \\tfrac{\\sigma_X}{\\sqrt{n}} \\big).\n",
    "$$\n",
    "Note the central limit theorem gives a sampling distribution of the sample mean\n",
    "computed from samples taken from **any** population $X \\sim \\mathcal{M}(\\theta)$."
   ]
  },
  {
   "cell_type": "markdown",
   "id": "bcc78abe-1d5c-41e1-a2e4-f46d41eaab3d",
   "metadata": {},
   "source": [
    "#### Verification of the CLT\n",
    "\n",
    "The true sampling distribution of the sample mean generated using simulation\n",
    "from thousands of samples of size $n=20$."
   ]
  },
  {
   "cell_type": "code",
   "execution_count": null,
   "id": "e0533635-e300-483a-9874-dab21c0fc886",
   "metadata": {},
   "outputs": [],
   "source": [
    "n = 20\n",
    "nbars = gen_sampling_dist(rvN, statfunc=mean, n=n)\n",
    "ax = sns.histplot(nbars, stat=\"density\", bins=100)\n",
    "_ = ax.set_xlabel(\"$\\overline{\\mathbf{n}}$\")"
   ]
  },
  {
   "cell_type": "markdown",
   "id": "5e843b12-90fa-4727-aae5-683b4259a05f",
   "metadata": {},
   "source": [
    "Let's now superimpose a lineplot of the analytical approximation formula\n",
    "we obtain from the central limit theorem."
   ]
  },
  {
   "cell_type": "code",
   "execution_count": null,
   "id": "344aa19c-d326-4172-a238-7e0209eec27f",
   "metadata": {},
   "outputs": [],
   "source": [
    "# mean equal to the population mean\n",
    "meanNbar = rvN.mean()\n",
    "\n",
    "# standard error\n",
    "seNbar = rvN.std() / np.sqrt(n)\n",
    "\n",
    "# sampling distribution of the mean\n",
    "rvNbar = norm(meanNbar, seNbar)\n",
    "\n",
    "# plot pdf superimposed\n",
    "plot_pdf(rvNbar, ax=ax)\n",
    "ax.figure"
   ]
  },
  {
   "cell_type": "code",
   "execution_count": null,
   "id": "ffd02e2f-a0d1-4f73-81bf-4ef79de1582a",
   "metadata": {},
   "outputs": [],
   "source": [
    "filename = os.path.join(DESTDIR, \"sampling_dist_mean_exp_and_theory_n20_normal_mu1000_sigma100.pdf\")\n",
    "savefigure(ax, filename)"
   ]
  },
  {
   "cell_type": "code",
   "execution_count": null,
   "id": "9e912074-c360-4da9-9b33-8cbfa3e47e87",
   "metadata": {},
   "outputs": [],
   "source": []
  },
  {
   "cell_type": "markdown",
   "id": "9ac90066-6825-4538-9dce-504812b8d47b",
   "metadata": {},
   "source": [
    "#### Analysis for sample of size $n=7$"
   ]
  },
  {
   "cell_type": "markdown",
   "id": "537fec08-af28-444a-ac75-7442e52576f4",
   "metadata": {},
   "source": [
    "##### True sampling distribution of the sample mean\n",
    "We start by running a simulation to obtain the true sampling distribution of the sample mean\n",
    "for samples of size $n=7$ from the population $N \\sim \\mathcal{N}(1000,100)$."
   ]
  },
  {
   "cell_type": "code",
   "execution_count": null,
   "id": "8d28cfd8-34ed-43fe-a9f2-b2fcacd862eb",
   "metadata": {},
   "outputs": [],
   "source": [
    "np.random.seed(48)\n",
    "nbars7 = gen_sampling_dist(rvN, statfunc=mean, n=7, N=50000)\n",
    "ax = sns.histplot(nbars7, stat=\"density\", bins=100, color=\"m\")"
   ]
  },
  {
   "cell_type": "markdown",
   "id": "ab281119-3e35-42a2-a45d-2fd6310909d5",
   "metadata": {},
   "source": [
    "##### A particular sample of size $n=7$"
   ]
  },
  {
   "cell_type": "markdown",
   "id": "408d8657-37d3-4ce1-9cbc-90137139ce5b",
   "metadata": {},
   "source": [
    "Next we generate a particular sample of size $n=7$,\n",
    "which is analogous to the operation of a statistical analysis in the real world,\n",
    "when we don't know the variance of the distribution."
   ]
  },
  {
   "cell_type": "code",
   "execution_count": null,
   "id": "fffd2400-de81-4046-b6fa-83e69b2beb6d",
   "metadata": {},
   "outputs": [],
   "source": [
    "np.random.seed(52)\n",
    "nsample7 = rvN.rvs(7)\n",
    "nsample7"
   ]
  },
  {
   "cell_type": "code",
   "execution_count": null,
   "id": "2c757596-0e59-4a52-bf08-12c114377980",
   "metadata": {},
   "outputs": [],
   "source": [
    "mean(nsample7)"
   ]
  },
  {
   "cell_type": "code",
   "execution_count": null,
   "id": "9babb12e-1b69-4af2-b228-3ba9d5d57148",
   "metadata": {},
   "outputs": [],
   "source": [
    "nvar7 = var(nsample7)\n",
    "nstd7 = np.sqrt(nvar7)\n",
    "nstd7"
   ]
  },
  {
   "cell_type": "code",
   "execution_count": null,
   "id": "32d36aec-2704-4c93-be8b-e6f05781ba24",
   "metadata": {},
   "outputs": [],
   "source": [
    "# the true population standard deviation\n",
    "sigma"
   ]
  },
  {
   "cell_type": "markdown",
   "id": "084427bb-4107-4f0c-8102-30f6ddbfcab1",
   "metadata": {},
   "source": [
    "##### Normal approximation to the sampling distribution"
   ]
  },
  {
   "cell_type": "markdown",
   "id": "a641e29f-23c8-4e36-894c-ece93a2892e4",
   "metadata": {},
   "source": [
    "We now obtain the best normal approximation based on the estimated standard error `sehat`\n",
    "that we computed from the data in `nsample7`."
   ]
  },
  {
   "cell_type": "code",
   "execution_count": null,
   "id": "c3e85967-9e47-4988-a104-4220fa90acf3",
   "metadata": {},
   "outputs": [],
   "source": [
    "nstd7 = np.sqrt(var(nsample7))\n",
    "sehat = nstd7 / np.sqrt(7)\n",
    "\n",
    "rvY = norm(loc=rvN.mean(), scale=sehat)\n",
    "\n",
    "plot_pdf(rvY, ax=ax)\n",
    "_ = ax.set_xlabel(\"$\\overline{\\mathbf{n}}$\")\n",
    "ax.figure"
   ]
  },
  {
   "cell_type": "code",
   "execution_count": null,
   "id": "c23a3a84-7ca7-4dcc-82c7-55bbfc3a362f",
   "metadata": {},
   "outputs": [],
   "source": [
    "filename = os.path.join(DESTDIR, \"sampling_dist_mean_rvN_and_N_approx_from_nsample7.pdf\")\n",
    "savefigure(ax, filename)"
   ]
  },
  {
   "cell_type": "markdown",
   "id": "aac63f8e-0800-4ccc-85d4-cc7e646c29d4",
   "metadata": {},
   "source": [
    "#### A better reference distribution\n",
    "\n",
    "Obtain Student's $t$-distribution based on the estimated standard error `sehat`\n",
    "that we computed from the data in `nsample7`."
   ]
  },
  {
   "cell_type": "code",
   "execution_count": null,
   "id": "ccedd23b-7f8e-4dd6-8f40-6c63717500f4",
   "metadata": {},
   "outputs": [],
   "source": [
    "from scipy.stats import t as tdist\n",
    "\n",
    "nstd7 = np.sqrt(var(nsample7))\n",
    "sehat = nstd7 / np.sqrt(7)\n",
    "df = 7 - 1  # (n-1) degrees of freedom\n",
    "# alt. rvTkbar\n",
    "rvT = tdist(df, loc=rvN.mean(), scale=sehat)\n",
    "plot_pdf(rvT, ax=ax, xlims=[800,1200])\n",
    "_ = ax.set_xlabel(\"$\\overline{\\mathbf{n}}$\")\n",
    "ax.figure"
   ]
  },
  {
   "cell_type": "code",
   "execution_count": null,
   "id": "0e906f9a-82c2-450b-ad89-b2809d7b1af1",
   "metadata": {},
   "outputs": [],
   "source": [
    "filename = os.path.join(DESTDIR, \"sampling_dist_mean_rvN_and_T_approx_from_nsample7.pdf\")\n",
    "savefigure(ax, filename)"
   ]
  },
  {
   "cell_type": "code",
   "execution_count": null,
   "id": "86aeb29e-83e1-4a81-93f9-7a15f7bdaab4",
   "metadata": {},
   "outputs": [],
   "source": []
  },
  {
   "cell_type": "code",
   "execution_count": null,
   "id": "54277ab8-9ccb-41fb-9ef4-fa9ac89fdf37",
   "metadata": {},
   "outputs": [],
   "source": []
  },
  {
   "cell_type": "code",
   "execution_count": null,
   "id": "81339e5d-f878-4d07-b177-935c60f63b2d",
   "metadata": {},
   "outputs": [],
   "source": []
  },
  {
   "cell_type": "code",
   "execution_count": null,
   "id": "f5495ffb-1e12-4e1b-8a76-7a8e7f9ab9fd",
   "metadata": {},
   "outputs": [],
   "source": []
  },
  {
   "cell_type": "markdown",
   "id": "6ff80edc-3910-4096-ae4c-2b1768cfa4d1",
   "metadata": {
    "tags": []
   },
   "source": [
    "### Sample variance estimator\n",
    "\n",
    "When the population is normally distributed $X \\sim \\mathcal{N}(\\mu,\\sigma)$,\n",
    "the sampling distribution of the sample variance $S_{\\mathbf{x}}^2$\n",
    "is described by a scaled version of the chi-square distribution:\n",
    "$$\n",
    "    S_{\\mathbf{x}}^2\n",
    "    \\;\\; \\sim \\;\\;\n",
    "    \\underbrace{\\frac{ \\sigma^2 }{ (n-1) } }_{\\tt{scale}} \\; \\cdot \\; \\chi^2_{(n-1)}\n",
    "$$\n",
    "where $n$ is the sample size and $\\chi^2_{(n-1)}$ is the chi-square distribution with $n-1$ degrees of freedom."
   ]
  },
  {
   "cell_type": "markdown",
   "id": "314034e3-eae0-40da-8620-d1d034301a31",
   "metadata": {},
   "source": [
    "#### Sampling distribution of the variance\n",
    "\n",
    "Let's start by plotting a histogram of the sampling distribution of the variance\n",
    "computed from samples of size $n=20$ from the random variable `rvN` = $N \\sim \\mathcal{N}(\\mu_N,\\sigma_N)$."
   ]
  },
  {
   "cell_type": "code",
   "execution_count": null,
   "id": "3071d68b-95b9-4cc9-a862-36d55c6e4e3b",
   "metadata": {},
   "outputs": [],
   "source": [
    "np.random.seed(44)\n",
    "nvars = gen_sampling_dist(rvN, statfunc=var, n=20)\n",
    "ax = sns.histplot(nvars, stat=\"density\", bins=100)"
   ]
  },
  {
   "cell_type": "markdown",
   "id": "ab1882ec-1d2e-4115-99f4-b0f694130a46",
   "metadata": {},
   "source": [
    "Let's now superimpose the chi-square distribution with $20-1=19$ degrees of freedom,\n",
    "with scale parameter set to $\\sigma_N^2/(n-1)$."
   ]
  },
  {
   "cell_type": "code",
   "execution_count": null,
   "id": "4ffd8359-5903-43ca-9542-f548711baae3",
   "metadata": {},
   "outputs": [],
   "source": [
    "from scipy.stats import chi2\n",
    "df = 20 - 1\n",
    "sigma = rvN.std()\n",
    "scale = sigma**2/(20-1)\n",
    "rvS2 = chi2(df, loc=0, scale=scale)\n",
    "plot_pdf(rvS2, ax=ax)\n",
    "_ = ax.set_xlabel(\"$s^2_{\\mathbf{n}}$\")\n",
    "ax.figure"
   ]
  },
  {
   "cell_type": "code",
   "execution_count": null,
   "id": "1b203bd6-122a-4533-b6ba-97a1556f4411",
   "metadata": {},
   "outputs": [],
   "source": [
    "filename = os.path.join(DESTDIR, \"sampling_dist_var_rvN_and_X2_approx_from_nsample20.pdf\")\n",
    "savefigure(ax, filename)"
   ]
  },
  {
   "cell_type": "code",
   "execution_count": null,
   "id": "253ad93a-c6f6-4394-89e8-db5f8634d834",
   "metadata": {},
   "outputs": [],
   "source": []
  },
  {
   "cell_type": "code",
   "execution_count": null,
   "id": "a33637f7-4fde-4983-aa6f-90aa61938392",
   "metadata": {},
   "outputs": [],
   "source": []
  },
  {
   "cell_type": "code",
   "execution_count": null,
   "id": "f22c0244-efbb-4e09-ab17-a2f02701bc52",
   "metadata": {},
   "outputs": [],
   "source": []
  },
  {
   "cell_type": "markdown",
   "id": "20bb60cf-1946-4feb-ad51-0b80546d2591",
   "metadata": {
    "tags": []
   },
   "source": [
    "### Difference between means estimator\n"
   ]
  },
  {
   "cell_type": "markdown",
   "id": "20facfbe-8b64-4b76-9772-0b3e3cdd15d6",
   "metadata": {
    "tags": []
   },
   "source": [
    "Consider two normally distributed random variables $X$ and $Y$:\n",
    "$$ \n",
    "X \\sim \\mathcal{N}\\!\\left(\\mu_X, \\sigma_X \\right)\n",
    "\\qquad\n",
    "\\textrm{and}\n",
    "\\qquad\n",
    "Y \\sim \\mathcal{N}\\!\\left(\\mu_Y, \\sigma_Y \\right)\n",
    "$$\n",
    "that describe the probability distribution for two groups.\n",
    "\n",
    "- A sample of size $n$ from $X$ is denoted $\\mathbf{x} = (x_1, x_2, \\ldots, x_{n})$=`xsample`,\n",
    "  and let $\\mathbf{y} = (y_1, y_2, \\ldots, y_{m})$=`ysample` be a random sample of size $m$ from $Y$.\n",
    "- We can compute the mean in each group: $\\overline{\\mathbf{x}} = \\Mean(\\mathbf{x})$\n",
    "  and $\\overline{\\mathbf{y}} = \\Mean(\\mathbf{y})$\n",
    "- We can also compute the sample variance from each group:\n",
    "   $s_{\\mathbf{x}}^2 = \\Var(\\mathbf{x})$\n",
    "   and $s_{\\mathbf{y}}^2 = \\Var(\\mathbf{y})$.\n",
    "- The value of the difference between means estimator is $\\hat{d} = \\DMeans(\\mathbf{x}, \\mathbf{y}) = \\overline{\\mathbf{x}} - \\overline{\\mathbf{y}}$.\n",
    "  The value $\\hat{d}$ is an estimate of the true different between\n",
    "  population means $\\Delta = \\mu_X - \\mu_Y$.\n",
    "\n",
    "\n",
    "#### Sampling distribution of the estimator `dmeans`\n",
    "\n",
    "Consider now the random samples $\\mathbf{X} = (X_1, X_2, \\ldots, X_{n})$\n",
    "and $\\mathbf{Y} = (Y_1, Y_2, \\ldots, Y_{m})$.\n",
    "The **sampling distribution** of the different between means estimator\n",
    "is defined as\n",
    "$$\n",
    "  \\hat{D} = \\overline{\\mathbf{X}} - \\overline{\\mathbf{Y}}.\n",
    "$$\n",
    "\n",
    "By definition, the sampling distribution of the estimator is obtained by repeatedly generating samples `xsample` and `ysample` from the two distributions and computing `dmeans` on the random samples. For example, we can obtain the sampling distribution by generating $N=1000$ samples.\n",
    "\n",
    "#### Theoretical model for the sampling distribution\n",
    "\n",
    "Let's now use probability theory to build a theoretical model for the sampling distribution of the difference-between-means estimator `dmeans`.\n",
    "\n",
    "- The central limit theorem tells us the sample mean within the two group are\n",
    "  $$\n",
    "  \\overline{\\mathbf{X}} \\sim \\mathcal{N}\\!\\left(\\mu_X, \\tfrac{\\sigma_X}{\\sqrt{n}} \\right)\n",
    "  \\qquad \\textrm{and} \\qquad\n",
    "  \\overline{\\mathbf{Y}} \\sim \\mathcal{N}\\!\\left(\\mu_Y, \\tfrac{\\sigma_Y}{\\sqrt{m}} \\right).\n",
    "  $$\n",
    "\n",
    "- The rules of probability theory tells us that the [difference of two normal random variables](https://en.wikipedia.org/wiki/Sum_of_normally_distributed_random_variables#Independent_random_variables) requires subtracting their means and adding their variance, so we get:\n",
    "  $$\n",
    "  \\hat{D}\n",
    "    \\sim\n",
    "    \\mathcal{N}\\!\\left(\n",
    "        \\mu_X - \\mu_Y, \\;\n",
    "        \\sqrt{\\tfrac{\\sigma^2_X}{n} + \\tfrac{\\sigma^2_Y}{m}}\n",
    "    \\right).\n",
    "  $$\n",
    "\n",
    "In other words, the sampling distribution for the difference between means estimator $\\hat{D}$ has mean and standard error given by:\n",
    "$$ \n",
    "   \\mu_{\\hat{d}} = \\mu_X - \\mu_Y\n",
    "   \\qquad \\textrm{and} \\qquad\n",
    "   \\stderr{\\hat{d}} = \\sqrt{ \\tfrac{\\sigma^2_X}{n} + \\tfrac{\\sigma^2_Y}{m}  }.\n",
    "$$"
   ]
  },
  {
   "cell_type": "markdown",
   "id": "182f44ed-c5c7-40d2-9baa-24a0e959fe62",
   "metadata": {},
   "source": [
    "#### Example 1 (continued): difference between electricity prices\n",
    "\n",
    "Probability theory predicts the sampling distribution had mean ..."
   ]
  },
  {
   "cell_type": "code",
   "execution_count": null,
   "id": "e5a03f42-30b0-49e9-87f3-aa9ff6d8fd44",
   "metadata": {},
   "outputs": [],
   "source": [
    "eprices = pd.read_csv(\"../datasets/eprices.csv\")\n",
    "\n",
    "xW = eprices[\"West\"]\n",
    "nW = xW.count()\n",
    "stdW = xW.std()\n",
    "\n",
    "xE = eprices[\"East\"]\n",
    "nE = xE.count()\n",
    "stdE = xE.std()"
   ]
  },
  {
   "cell_type": "code",
   "execution_count": null,
   "id": "f5ce9079-fd2f-40dd-a3a2-6820b4a63aa5",
   "metadata": {},
   "outputs": [],
   "source": [
    "seD = np.sqrt(stdW**2/nW + stdE**2/nE)\n",
    "seD"
   ]
  },
  {
   "cell_type": "markdown",
   "id": "104fac08-a2a4-4b64-a803-18078a86c3df",
   "metadata": {},
   "source": [
    "The degrees of freedom of is obtained by the following formula\n",
    "$$\n",
    "\\nu_{\\hat{d}}\n",
    "    \\;\\; = \\;\\;\n",
    "    \\frac{ (\\stderrhat{\\overline{\\mathbf{x}}}^2 + \\stderrhat{\\overline{\\mathbf{y}}}^2)^2 }\n",
    "        { \\frac{\\stderrhat{\\overline{\\mathbf{x}}}^4}{n-1} + \\frac{\\stderrhat{\\overline{\\mathbf{y}}}^4}{m-1}\t}\\;.\n",
    "$$"
   ]
  },
  {
   "cell_type": "markdown",
   "id": "a01a7d35-972a-4a4c-8c9f-bff69df75203",
   "metadata": {},
   "source": [
    "Calculate the degrees of freedom parameter."
   ]
  },
  {
   "cell_type": "code",
   "execution_count": null,
   "id": "0b8af909-3ef6-47d9-ad3f-53c5c9620b71",
   "metadata": {},
   "outputs": [],
   "source": [
    "def calcdf(stdX, n, stdY, m):\n",
    "    vX = stdX**2 / n\n",
    "    vY = stdY**2 / m\n",
    "    df = (vX+vY)**2 / (vX**2/(n-1) + vY**2/(m-1))\n",
    "    return df\n",
    "\n",
    "df = calcdf(stdW, nW, stdE, nE)\n",
    "df"
   ]
  },
  {
   "cell_type": "code",
   "execution_count": null,
   "id": "4b6af171-c98d-4150-89dc-6ce548aef535",
   "metadata": {},
   "outputs": [],
   "source": [
    "# dmeans(xW, xE)\n",
    "dhat = xW.mean() - xE.mean()\n",
    "dhat"
   ]
  },
  {
   "cell_type": "code",
   "execution_count": null,
   "id": "41fa7754-e343-45e8-829b-253b5eb5e50f",
   "metadata": {},
   "outputs": [],
   "source": [
    "from scipy.stats import t as tdist\n",
    "rvD = tdist(df, loc=d, scale=seD)\n",
    "plot_pdf(rvD, rv_name=\"D\")"
   ]
  },
  {
   "cell_type": "markdown",
   "id": "cb8005e5-a342-411d-964e-acbf630723cb",
   "metadata": {},
   "source": [
    " \n",
    " "
   ]
  },
  {
   "cell_type": "code",
   "execution_count": null,
   "id": "a30eb13a-ba36-45a1-a95b-eab5c77f0105",
   "metadata": {},
   "outputs": [],
   "source": []
  },
  {
   "cell_type": "code",
   "execution_count": null,
   "id": "c9c969a1-0c74-4979-ad86-d3a2bab89af5",
   "metadata": {},
   "outputs": [],
   "source": []
  },
  {
   "cell_type": "markdown",
   "id": "a0cb25db-cf98-4aac-920d-7abf8ccc7af0",
   "metadata": {},
   "source": [
    "## Bootstrap estimation"
   ]
  },
  {
   "cell_type": "code",
   "execution_count": null,
   "id": "ac186810-4301-4b08-95ea-f4a4bf7f4f3d",
   "metadata": {},
   "outputs": [],
   "source": [
    "def bootstrap_stat(sample, statfunc, B=5000):\n",
    "    \"\"\"\n",
    "    Compute the sampling dist. of the `statfunc` estimator\n",
    "    from `B` bootstrap samples generated from `sample`.\n",
    "    \"\"\"\n",
    "    n = len(sample)\n",
    "    bstats = []\n",
    "    for i in range(0, B):\n",
    "        bsample = np.random.choice(sample, n, replace=True)\n",
    "        bstat = statfunc(bsample)\n",
    "        bstats.append(bstat)\n",
    "    return bstats"
   ]
  },
  {
   "cell_type": "code",
   "execution_count": null,
   "id": "ffde5ba3-70c6-4d1f-8c6e-c3157ca9d9ec",
   "metadata": {},
   "outputs": [],
   "source": []
  },
  {
   "cell_type": "markdown",
   "id": "35ba9b93-d344-4385-9186-597e6b98ef0d",
   "metadata": {},
   "source": [
    "#### Example 2 (continued): normal distribution\n",
    "\n",
    "Recall the sample `nsample20` we generated earlier."
   ]
  },
  {
   "cell_type": "code",
   "execution_count": null,
   "id": "fa34ea93-2bbd-4e01-8f76-1483f3b65cae",
   "metadata": {},
   "outputs": [],
   "source": [
    "nsample20"
   ]
  },
  {
   "cell_type": "code",
   "execution_count": null,
   "id": "f557bd6c-ac5a-4d23-a2ea-18b37768af2f",
   "metadata": {},
   "outputs": [],
   "source": [
    "nsample20.mean()"
   ]
  },
  {
   "cell_type": "code",
   "execution_count": null,
   "id": "b1b220a2-1edb-4e5e-9a16-f18b3cc0bc84",
   "metadata": {},
   "outputs": [],
   "source": [
    "nsample20.var()"
   ]
  },
  {
   "cell_type": "code",
   "execution_count": null,
   "id": "6731747e-c5be-4ee4-a7a2-ca077baa6169",
   "metadata": {},
   "outputs": [],
   "source": []
  },
  {
   "cell_type": "markdown",
   "id": "c621d1f7-9ef8-4c82-935c-4b22fe1c812e",
   "metadata": {},
   "source": [
    "#### Bootstrapped sampling distribution of the sample mean"
   ]
  },
  {
   "cell_type": "code",
   "execution_count": null,
   "id": "d3b9c146-0589-4b54-b05b-8e1380c98983",
   "metadata": {},
   "outputs": [],
   "source": [
    "np.random.seed(48)\n",
    "nbars_boot = bootstrap_stat(nsample20, statfunc=mean)\n",
    "ax = sns.histplot(nbars_boot, stat=\"density\")\n",
    "_ = ax.set_xlabel(\"$\\overline{\\mathbf{n}}$\")"
   ]
  },
  {
   "cell_type": "code",
   "execution_count": null,
   "id": "1fb0cc71-2818-4f1f-b8a2-2a5af85b6026",
   "metadata": {},
   "outputs": [],
   "source": [
    "filename = os.path.join(DESTDIR, \"bootstrap_dist_mean_n20_normal_mu1000_sigma100.pdf\")\n",
    "savefigure(ax, filename)"
   ]
  },
  {
   "cell_type": "markdown",
   "id": "4ec82f19-f374-4497-9f16-00cdc1ba821d",
   "metadata": {},
   "source": [
    "The expected value and the standard error of the sampling distribution\n",
    "we obtained using bootstrap estimation are:"
   ]
  },
  {
   "cell_type": "code",
   "execution_count": null,
   "id": "b3adf544-8b83-40dc-8346-c3842de9cf5d",
   "metadata": {},
   "outputs": [],
   "source": [
    "np.mean(nbars_boot), np.std(nbars_boot, ddof=1)"
   ]
  },
  {
   "cell_type": "markdown",
   "id": "db2b9f30-a8eb-493d-87c1-23f5c001a7ca",
   "metadata": {},
   "source": [
    "These numbers are pretty close to the true paramters,\n",
    "which we obtained using simulation."
   ]
  },
  {
   "cell_type": "code",
   "execution_count": null,
   "id": "d6c27801-9690-46e7-8d3e-2cf406793fda",
   "metadata": {},
   "outputs": [],
   "source": [
    "np.mean(nbars), np.std(nbars, ddof=1)"
   ]
  },
  {
   "cell_type": "code",
   "execution_count": null,
   "id": "4aaf4412-49f7-46a1-8814-b7f50a5cb907",
   "metadata": {},
   "outputs": [],
   "source": []
  },
  {
   "cell_type": "markdown",
   "id": "4245936f-dc83-4276-90f3-6c605a25b0fb",
   "metadata": {},
   "source": [
    "#### Bootstrapped sampling distribution of the sample variance"
   ]
  },
  {
   "cell_type": "code",
   "execution_count": null,
   "id": "ead9ab5b-ce65-4fbd-b9ad-00e8abd3dd23",
   "metadata": {},
   "outputs": [],
   "source": [
    "np.random.seed(49)\n",
    "nvars_boot = bootstrap_stat(nsample20, statfunc=var)\n",
    "ax = sns.histplot(nvars_boot, stat=\"density\")\n",
    "_ = ax.set_xlabel(\"$s^2_{\\mathbf{n}}$\")"
   ]
  },
  {
   "cell_type": "code",
   "execution_count": null,
   "id": "d2ff209c-0f0f-460b-9ae9-85f2406d59d9",
   "metadata": {},
   "outputs": [],
   "source": [
    "filename = os.path.join(DESTDIR, \"bootstrap_dist_var_n20_normal_mu1000_sigma100.pdf\")\n",
    "savefigure(ax, filename)"
   ]
  },
  {
   "cell_type": "markdown",
   "id": "e82e4ce3-bda0-4181-896d-03d8c9d9496b",
   "metadata": {},
   "source": [
    "The expected value and the standard error of the sampling distribution\n",
    "we obtained using bootstrap estimation are:"
   ]
  },
  {
   "cell_type": "code",
   "execution_count": null,
   "id": "64a5c34f-4109-4db8-8481-9f60dfde708f",
   "metadata": {},
   "outputs": [],
   "source": [
    "np.mean(nvars_boot), np.std(nvars_boot, ddof=1)"
   ]
  },
  {
   "cell_type": "markdown",
   "id": "5a120550-d26c-426a-be4a-96af34b6725e",
   "metadata": {},
   "source": [
    "The expected value is an underestimate of the true mean for the sampling distribution."
   ]
  },
  {
   "cell_type": "code",
   "execution_count": null,
   "id": "b7da152b-3c9d-43e0-a11c-59135f94c3fc",
   "metadata": {},
   "outputs": [],
   "source": [
    "np.mean(nvars)"
   ]
  },
  {
   "cell_type": "markdown",
   "id": "d356262e-751b-428e-ac3f-adf1291a045d",
   "metadata": {},
   "source": [
    "The standard error $\\stderrhat{s_{\\mathbf{n}}^2}^b=1807.41$ of the sampling distribution\n",
    "is also an underestimate of the true standard error."
   ]
  },
  {
   "cell_type": "code",
   "execution_count": null,
   "id": "843b371e-e29d-41f9-bbcb-f9217e48b0e5",
   "metadata": {},
   "outputs": [],
   "source": [
    "np.std(nvars, ddof=1)"
   ]
  },
  {
   "cell_type": "code",
   "execution_count": null,
   "id": "af893c9b-a88c-4aa2-87b9-be65c98d5ee8",
   "metadata": {},
   "outputs": [],
   "source": []
  },
  {
   "cell_type": "code",
   "execution_count": null,
   "id": "b7d43816-19af-4e06-b187-20d803983229",
   "metadata": {},
   "outputs": [],
   "source": []
  },
  {
   "cell_type": "markdown",
   "id": "cb916c8b-bfbf-4fae-90ca-64f8e877125e",
   "metadata": {},
   "source": [
    "#### Bootstrapped sampling distribution of the difference between means"
   ]
  },
  {
   "cell_type": "code",
   "execution_count": null,
   "id": "c025cbe2-c06d-4803-8033-601e405bb655",
   "metadata": {},
   "outputs": [],
   "source": [
    "eprices = pd.read_csv(\"../datasets/eprices.csv\")\n",
    "xW = eprices[\"West\"]\n",
    "xE = eprices[\"East\"]\n",
    "\n",
    "# compute bootstrap estimates for mean in each group\n",
    "meanW_boot = bootstrap_stat(xW, statfunc=mean)\n",
    "meanE_boot = bootstrap_stat(xE, statfunc=mean)\n",
    "\n",
    "# compute the difference between means from bootstrap samples\n",
    "dmeans_boot = []\n",
    "for bmeanW, bmeanE in zip(meanW_boot, meanE_boot):\n",
    "    d_boot = bmeanW - bmeanE\n",
    "    dmeans_boot.append(d_boot)\n",
    "\n",
    "ax = sns.histplot(dmeans_boot, stat=\"density\", bins=30)"
   ]
  },
  {
   "cell_type": "code",
   "execution_count": null,
   "id": "17383eb9-3428-4a05-aded-e42d6c822404",
   "metadata": {},
   "outputs": [],
   "source": [
    "filename = os.path.join(DESTDIR, \"bootstrap_dist_eprices_dmeans.pdf\")\n",
    "savefigure(ax, filename)"
   ]
  },
  {
   "cell_type": "code",
   "execution_count": null,
   "id": "9c241316-272f-40f5-b366-8fe9dbf1f3e9",
   "metadata": {},
   "outputs": [],
   "source": [
    "np.mean(dmeans_boot), np.std(dmeans_boot, ddof=1)"
   ]
  },
  {
   "cell_type": "code",
   "execution_count": null,
   "id": "f68c263f-ca3c-4090-a17f-c5ba1636af65",
   "metadata": {},
   "outputs": [],
   "source": []
  },
  {
   "cell_type": "markdown",
   "id": "b8e45de1-1dfe-40a7-9382-6430a0a3e82d",
   "metadata": {},
   "source": [
    "## Estimator applications\n",
    "\n",
    "- Parameter estimates\n",
    "- Confidence intervals (next section)\n",
    "- Test statistics (remainder of the sections in this chapter)\n",
    "\n",
    "TODO: import one-liner explanation for each of these"
   ]
  },
  {
   "cell_type": "code",
   "execution_count": null,
   "id": "5fa8afe8-6df4-4fca-87ea-0197d3088f25",
   "metadata": {},
   "outputs": [],
   "source": []
  },
  {
   "cell_type": "markdown",
   "id": "bae0f654-4ea8-4b67-97a8-f5eeac56fd38",
   "metadata": {},
   "source": [
    "## Explanations"
   ]
  },
  {
   "cell_type": "markdown",
   "id": "ba6ae3ee-c93e-4ecb-8e46-017b2f819391",
   "metadata": {},
   "source": [
    "### Unbiased estimator of the sample variance"
   ]
  },
  {
   "cell_type": "code",
   "execution_count": null,
   "id": "6a0dde4a-20ff-45a4-936a-fd51e3fd8eac",
   "metadata": {},
   "outputs": [],
   "source": [
    "np.random.seed(16)\n",
    "nvars = gen_sampling_dist(rvN, statfunc=var, n=20)\n",
    "ax = sns.histplot(nvars, stat=\"density\")\n",
    "_ = ax.set_xlabel(\"$s^2_{\\mathbf{n}}$\")"
   ]
  },
  {
   "cell_type": "markdown",
   "id": "ae715233-9e0a-46dc-a910-2e6da972cbb0",
   "metadata": {},
   "source": [
    "This is an unbiased estimator of the sample variance,\n",
    "since its expected value equals the population variance:\n",
    "$\\mathbb{E}[S^2] \\approx \\sigma^2 = 100^2 = 10000$."
   ]
  },
  {
   "cell_type": "code",
   "execution_count": null,
   "id": "27df213b-bf1c-4612-86bb-2b07a6a892f8",
   "metadata": {},
   "outputs": [],
   "source": [
    "np.mean(nvars)"
   ]
  },
  {
   "cell_type": "markdown",
   "id": "9d74ee17-80a3-4d5a-9871-4c593925330d",
   "metadata": {},
   "source": [
    "#### Biased estimator of the sample variance\n",
    "\n",
    "Let's see what happens if we use the denominator $n$ instead of $(n-1)$ for the sample variance calculation."
   ]
  },
  {
   "cell_type": "code",
   "execution_count": null,
   "id": "81b8cedd-eea1-4599-805b-61880a8dd284",
   "metadata": {},
   "outputs": [],
   "source": [
    "def s2tilde(sample):\n",
    "    xbar = mean(sample)\n",
    "    sumsqdevs = sum([(xi-xbar)**2 for xi in sample])\n",
    "    return sumsqdevs / len(sample)"
   ]
  },
  {
   "cell_type": "code",
   "execution_count": null,
   "id": "c32e3467-2439-4a95-b027-3194e69e6370",
   "metadata": {},
   "outputs": [],
   "source": [
    "np.random.seed(16)\n",
    "s2tildes = gen_sampling_dist(rvN, statfunc=s2tilde, n=20)\n",
    "ax = sns.histplot(s2tildes, stat=\"density\")\n",
    "_ = ax.set_xlabel(\"$\\\\tilde{s}^2_{\\mathbf{n}}$\")"
   ]
  },
  {
   "cell_type": "markdown",
   "id": "c9239b34-d236-49d1-a2bf-59346d280c26",
   "metadata": {},
   "source": [
    "Note the expected value of the sampling distribution for this estimator does not equal the population variance, $\\mathbb{E}[\\tilde{S}^2] \\neq \\sigma^2 = 100^2 = 10000$."
   ]
  },
  {
   "cell_type": "code",
   "execution_count": null,
   "id": "397dd24b-bf18-4866-b221-8405ea2828bf",
   "metadata": {},
   "outputs": [],
   "source": [
    "np.mean(s2tildes)"
   ]
  },
  {
   "cell_type": "markdown",
   "id": "5e51f16d-0ea2-4c7d-a9eb-b218a684341c",
   "metadata": {},
   "source": [
    "We can correct the bias in this estimator by simply using the normalization factor\n",
    "$(n-1)$ in the formula instead of $n$."
   ]
  },
  {
   "cell_type": "code",
   "execution_count": null,
   "id": "e041e2fa-1117-4364-9aac-25751ac384ab",
   "metadata": {},
   "outputs": [],
   "source": []
  },
  {
   "cell_type": "code",
   "execution_count": null,
   "id": "e94d280e-07ae-4ba4-a3e2-d797a4c39ecc",
   "metadata": {},
   "outputs": [],
   "source": []
  },
  {
   "cell_type": "markdown",
   "id": "55903ffc-11fa-4bd0-bc36-756919b670ce",
   "metadata": {},
   "source": [
    "## Discussion"
   ]
  },
  {
   "cell_type": "markdown",
   "id": "03200ecb-94cd-4985-aab1-bfbeeed640a2",
   "metadata": {
    "jp-MarkdownHeadingCollapsed": true,
    "tags": []
   },
   "source": [
    "### Statistical assumptions\n",
    "\n",
    "- LARGEn:\n",
    "- NORMAL:\n",
    "- EQVAR:"
   ]
  },
  {
   "cell_type": "markdown",
   "id": "607019bf-3cb5-4317-a864-45481ab5d7a0",
   "metadata": {},
   "source": [
    "### Discovering estimator formulas"
   ]
  },
  {
   "cell_type": "code",
   "execution_count": null,
   "id": "c6505f4f-40fc-4fcf-b2ad-3867e73cb68a",
   "metadata": {},
   "outputs": [],
   "source": []
  },
  {
   "cell_type": "markdown",
   "id": "5d06d1ac-4bff-4497-8a08-fc6238f36383",
   "metadata": {},
   "source": [
    "#### Method of moments"
   ]
  },
  {
   "cell_type": "code",
   "execution_count": null,
   "id": "f13003a2-3f5e-4e58-884d-826f880fd214",
   "metadata": {},
   "outputs": [],
   "source": [
    "from scipy.stats import norm\n",
    "\n",
    "norm.fit(nsample20, method=\"MM\")"
   ]
  },
  {
   "cell_type": "markdown",
   "id": "0321fd1e-f022-409e-bf50-c6e4ebc65e26",
   "metadata": {},
   "source": [
    "#### Maximum likelihood estimation"
   ]
  },
  {
   "cell_type": "code",
   "execution_count": null,
   "id": "f9f68846-2356-4dce-bbbc-c18380d381b9",
   "metadata": {},
   "outputs": [],
   "source": [
    "norm.fit(nsample20, method=\"MLE\")"
   ]
  },
  {
   "cell_type": "code",
   "execution_count": null,
   "id": "e060a4fb-a003-43f6-b92b-d6d7589c27b4",
   "metadata": {},
   "outputs": [],
   "source": []
  },
  {
   "cell_type": "markdown",
   "id": "1c1245ed-c5fe-46e9-8a43-da8fee7df3b4",
   "metadata": {},
   "source": [
    "#### Bayesian estimators"
   ]
  },
  {
   "cell_type": "code",
   "execution_count": null,
   "id": "bdc34a5c-ebd4-4127-8cc1-2634b58e42fc",
   "metadata": {},
   "outputs": [],
   "source": []
  },
  {
   "cell_type": "code",
   "execution_count": null,
   "id": "d58ef36d-adb0-4fa9-9338-b65ecd7926d3",
   "metadata": {},
   "outputs": [],
   "source": []
  },
  {
   "cell_type": "code",
   "execution_count": null,
   "id": "ef6c48a3-e123-47f2-8b5f-851bbfcce90e",
   "metadata": {},
   "outputs": [],
   "source": []
  },
  {
   "cell_type": "markdown",
   "id": "be210ce5-0cef-4ae4-a78a-3732957c0612",
   "metadata": {},
   "source": [
    "### Example: finding best fir exponential for data"
   ]
  },
  {
   "cell_type": "code",
   "execution_count": null,
   "id": "f6ff0575-7b4f-4e9a-8a42-0dbe068e4e87",
   "metadata": {},
   "outputs": [],
   "source": [
    "from scipy.stats import expon\n",
    "\n",
    "lam = 0.2\n",
    "esample20 = expon(0, 1/lam).rvs(20)\n",
    "\n",
    "mmloc, mmscale = expon.fit(esample20, floc=0, method=\"MM\")\n",
    "1/mmscale"
   ]
  },
  {
   "cell_type": "code",
   "execution_count": null,
   "id": "3fce619d-b3b1-47af-9ab3-339e7624901a",
   "metadata": {},
   "outputs": [],
   "source": [
    "mleloc, mlescale = expon.fit(esample20, floc=0, method=\"MLE\")\n",
    "1/mlescale"
   ]
  },
  {
   "cell_type": "code",
   "execution_count": null,
   "id": "32be46a0-3418-49e3-9965-c0b6401d5d9d",
   "metadata": {},
   "outputs": [],
   "source": []
  },
  {
   "cell_type": "code",
   "execution_count": null,
   "id": "2809e7af-3847-47a1-90c1-736429c57df1",
   "metadata": {},
   "outputs": [],
   "source": []
  },
  {
   "cell_type": "code",
   "execution_count": null,
   "id": "8a2b7c85-ca22-40f6-bd1b-6c5f6af5b4b8",
   "metadata": {},
   "outputs": [],
   "source": []
  },
  {
   "cell_type": "code",
   "execution_count": null,
   "id": "bba69b60-9d1b-4aad-96c8-10113a686296",
   "metadata": {},
   "outputs": [],
   "source": []
  }
 ],
 "metadata": {
  "kernelspec": {
   "display_name": "Python 3 (ipykernel)",
   "language": "python",
   "name": "python3"
  },
  "language_info": {
   "codemirror_mode": {
    "name": "ipython",
    "version": 3
   },
   "file_extension": ".py",
   "mimetype": "text/x-python",
   "name": "python",
   "nbconvert_exporter": "python",
   "pygments_lexer": "ipython3",
   "version": "3.9.4"
  }
 },
 "nbformat": 4,
 "nbformat_minor": 5
}
