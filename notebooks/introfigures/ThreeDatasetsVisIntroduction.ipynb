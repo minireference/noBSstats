{
 "cells": [
  {
   "cell_type": "code",
   "execution_count": 1,
   "id": "39ddb195",
   "metadata": {},
   "outputs": [],
   "source": [
    "import pandas as pd\n",
    "import matplotlib.pyplot as plt\n",
    "import seaborn as sns\n",
    "\n",
    "sns.set_context(\"talk\")  # BIG FONT (because figures likely to be used in small size)"
   ]
  },
  {
   "cell_type": "code",
   "execution_count": null,
   "id": "49eaf80a",
   "metadata": {},
   "outputs": [],
   "source": []
  },
  {
   "cell_type": "markdown",
   "id": "d2b4ad24",
   "metadata": {},
   "source": [
    "## Categorical two groups"
   ]
  },
  {
   "cell_type": "markdown",
   "id": "e9fb999c",
   "metadata": {},
   "source": [
    "Hack note: we're generating the data website manually by putting in thee values (to fake error bars, even though we have only one proporion)\n",
    "\n",
    "Model= verison A has 0.4 clickthrough; version B has 0.6 clickthrough"
   ]
  },
  {
   "cell_type": "code",
   "execution_count": 2,
   "id": "c78ffde5",
   "metadata": {},
   "outputs": [],
   "source": [
    "\n",
    "website = pd.DataFrame(\n",
    "[\n",
    "    [\"A\", 0.37],\n",
    "    [\"A\", 0.42],\n",
    "    [\"A\", 0.45],\n",
    "    [\"B\", 0.50],\n",
    "    [\"B\", 0.6],\n",
    "    [\"B\", 0.65],\n",
    "], columns=[\"version\", \"clickrate\"])\n",
    "# website"
   ]
  },
  {
   "cell_type": "code",
   "execution_count": 3,
   "id": "dd4fdbe2",
   "metadata": {},
   "outputs": [
    {
     "data": {
      "image/png": "[encoded data removed]",
      "text/plain": [
       "<Figure size 432x288 with 1 Axes>"
      ]
     },
     "metadata": {
      "needs_background": "light"
     },
     "output_type": "display_data"
    }
   ],
   "source": [
    "ax = sns.pointplot(x=\"version\", y=\"clickrate\",\n",
    "            capsize=.2,\n",
    "            data=website)\n",
    "plt.tight_layout()"
   ]
  },
  {
   "cell_type": "code",
   "execution_count": 4,
   "id": "cdbf3df5",
   "metadata": {},
   "outputs": [],
   "source": [
    "ax.get_figure().savefig('figures/compare_websites.png', dpi=75)"
   ]
  },
  {
   "cell_type": "code",
   "execution_count": null,
   "id": "6f67476b",
   "metadata": {},
   "outputs": [],
   "source": []
  },
  {
   "cell_type": "code",
   "execution_count": null,
   "id": "f7ad9041",
   "metadata": {},
   "outputs": [],
   "source": []
  },
  {
   "cell_type": "code",
   "execution_count": null,
   "id": "dc8ef807",
   "metadata": {},
   "outputs": [],
   "source": []
  },
  {
   "cell_type": "markdown",
   "id": "0147d2c0",
   "metadata": {},
   "source": [
    "## Continuous two groups"
   ]
  },
  {
   "cell_type": "code",
   "execution_count": 5,
   "id": "8e8e5d3a",
   "metadata": {},
   "outputs": [],
   "source": [
    "# raw lists of values\n",
    "xE = [7.7, 5.9,  7, 4.8, 6.3, 6.3, 5.5, 5.4, 6.5]\n",
    "xW = [11.8, 10, 11, 8.6, 8.3, 9.4,   8, 6.8, 8.5]"
   ]
  },
  {
   "cell_type": "code",
   "execution_count": 6,
   "id": "99a19b40",
   "metadata": {},
   "outputs": [],
   "source": [
    "# turn into a dataframe (wide data)\n",
    "eprices_raw = pd.DataFrame(list(zip(xW,xE)), columns =['West', 'East'])\n",
    "# eprices_raw"
   ]
  },
  {
   "cell_type": "code",
   "execution_count": 7,
   "id": "626fe160",
   "metadata": {},
   "outputs": [],
   "source": [
    "# tidy plz\n",
    "eprices = pd.melt(eprices_raw, var_name='location', value_name='price') \n",
    "# eprices"
   ]
  },
  {
   "cell_type": "code",
   "execution_count": null,
   "id": "6e459232",
   "metadata": {},
   "outputs": [],
   "source": []
  },
  {
   "cell_type": "code",
   "execution_count": 8,
   "id": "84c15959",
   "metadata": {},
   "outputs": [
    {
     "data": {
      "image/png": "[encoded data removed]",
      "text/plain": [
       "<Figure size 432x288 with 1 Axes>"
      ]
     },
     "metadata": {
      "needs_background": "light"
     },
     "output_type": "display_data"
    }
   ],
   "source": [
    "plt.figure()\n",
    "ax = sns.stripplot(x=\"location\", y=\"price\", data=eprices, jitter=0.01)"
   ]
  },
  {
   "cell_type": "code",
   "execution_count": 9,
   "id": "8e60cc46",
   "metadata": {},
   "outputs": [],
   "source": [
    "ax.get_figure().savefig('figures/compare_eprices.png', dpi=75)"
   ]
  },
  {
   "cell_type": "code",
   "execution_count": null,
   "id": "32756c46",
   "metadata": {},
   "outputs": [],
   "source": []
  },
  {
   "cell_type": "code",
   "execution_count": null,
   "id": "4234ac1b",
   "metadata": {},
   "outputs": [],
   "source": []
  },
  {
   "cell_type": "code",
   "execution_count": null,
   "id": "eb8bd7fe",
   "metadata": {},
   "outputs": [],
   "source": []
  },
  {
   "cell_type": "code",
   "execution_count": null,
   "id": "475d471a",
   "metadata": {},
   "outputs": [],
   "source": []
  },
  {
   "cell_type": "code",
   "execution_count": null,
   "id": "0a936e6a",
   "metadata": {},
   "outputs": [],
   "source": []
  },
  {
   "cell_type": "markdown",
   "id": "dd786612",
   "metadata": {},
   "source": [
    "## Linear model for grades vs effort"
   ]
  },
  {
   "cell_type": "code",
   "execution_count": 10,
   "id": "fec42c73",
   "metadata": {},
   "outputs": [
    {
     "data": {
      "text/html": [
       "<div>\n",
       "<style scoped>\n",
       "    .dataframe tbody tr th:only-of-type {\n",
       "        vertical-align: middle;\n",
       "    }\n",
       "\n",
       "    .dataframe tbody tr th {\n",
       "        vertical-align: top;\n",
       "    }\n",
       "\n",
       "    .dataframe thead th {\n",
       "        text-align: right;\n",
       "    }\n",
       "</style>\n",
       "<table border=\"1\" class=\"dataframe\">\n",
       "  <thead>\n",
       "    <tr style=\"text-align: right;\">\n",
       "      <th></th>\n",
       "      <th>background</th>\n",
       "      <th>curriculum</th>\n",
       "      <th>effort</th>\n",
       "      <th>score</th>\n",
       "    </tr>\n",
       "    <tr>\n",
       "      <th>student_ID</th>\n",
       "      <th></th>\n",
       "      <th></th>\n",
       "      <th></th>\n",
       "      <th></th>\n",
       "    </tr>\n",
       "  </thead>\n",
       "  <tbody>\n",
       "    <tr>\n",
       "      <th>1</th>\n",
       "      <td>arts</td>\n",
       "      <td>debate</td>\n",
       "      <td>10.96</td>\n",
       "      <td>75.0</td>\n",
       "    </tr>\n",
       "    <tr>\n",
       "      <th>2</th>\n",
       "      <td>science</td>\n",
       "      <td>lecture</td>\n",
       "      <td>8.69</td>\n",
       "      <td>75.0</td>\n",
       "    </tr>\n",
       "    <tr>\n",
       "      <th>3</th>\n",
       "      <td>arts</td>\n",
       "      <td>debate</td>\n",
       "      <td>8.60</td>\n",
       "      <td>67.0</td>\n",
       "    </tr>\n",
       "    <tr>\n",
       "      <th>4</th>\n",
       "      <td>arts</td>\n",
       "      <td>lecture</td>\n",
       "      <td>7.92</td>\n",
       "      <td>70.3</td>\n",
       "    </tr>\n",
       "    <tr>\n",
       "      <th>5</th>\n",
       "      <td>science</td>\n",
       "      <td>debate</td>\n",
       "      <td>9.90</td>\n",
       "      <td>76.1</td>\n",
       "    </tr>\n",
       "    <tr>\n",
       "      <th>6</th>\n",
       "      <td>business</td>\n",
       "      <td>debate</td>\n",
       "      <td>10.80</td>\n",
       "      <td>79.8</td>\n",
       "    </tr>\n",
       "    <tr>\n",
       "      <th>7</th>\n",
       "      <td>science</td>\n",
       "      <td>lecture</td>\n",
       "      <td>7.81</td>\n",
       "      <td>72.7</td>\n",
       "    </tr>\n",
       "    <tr>\n",
       "      <th>8</th>\n",
       "      <td>business</td>\n",
       "      <td>lecture</td>\n",
       "      <td>9.13</td>\n",
       "      <td>75.4</td>\n",
       "    </tr>\n",
       "    <tr>\n",
       "      <th>9</th>\n",
       "      <td>business</td>\n",
       "      <td>lecture</td>\n",
       "      <td>5.21</td>\n",
       "      <td>57.0</td>\n",
       "    </tr>\n",
       "    <tr>\n",
       "      <th>10</th>\n",
       "      <td>science</td>\n",
       "      <td>lecture</td>\n",
       "      <td>7.71</td>\n",
       "      <td>69.0</td>\n",
       "    </tr>\n",
       "    <tr>\n",
       "      <th>11</th>\n",
       "      <td>business</td>\n",
       "      <td>debate</td>\n",
       "      <td>9.82</td>\n",
       "      <td>70.4</td>\n",
       "    </tr>\n",
       "    <tr>\n",
       "      <th>12</th>\n",
       "      <td>arts</td>\n",
       "      <td>debate</td>\n",
       "      <td>11.53</td>\n",
       "      <td>96.2</td>\n",
       "    </tr>\n",
       "    <tr>\n",
       "      <th>13</th>\n",
       "      <td>science</td>\n",
       "      <td>debate</td>\n",
       "      <td>7.10</td>\n",
       "      <td>62.9</td>\n",
       "    </tr>\n",
       "    <tr>\n",
       "      <th>14</th>\n",
       "      <td>science</td>\n",
       "      <td>lecture</td>\n",
       "      <td>6.39</td>\n",
       "      <td>57.6</td>\n",
       "    </tr>\n",
       "    <tr>\n",
       "      <th>15</th>\n",
       "      <td>arts</td>\n",
       "      <td>debate</td>\n",
       "      <td>12.00</td>\n",
       "      <td>84.3</td>\n",
       "    </tr>\n",
       "  </tbody>\n",
       "</table>\n",
       "</div>"
      ],
      "text/plain": [
       "           background curriculum  effort  score\n",
       "student_ID                                     \n",
       "1                arts     debate   10.96   75.0\n",
       "2             science    lecture    8.69   75.0\n",
       "3                arts     debate    8.60   67.0\n",
       "4                arts    lecture    7.92   70.3\n",
       "5             science     debate    9.90   76.1\n",
       "6            business     debate   10.80   79.8\n",
       "7             science    lecture    7.81   72.7\n",
       "8            business    lecture    9.13   75.4\n",
       "9            business    lecture    5.21   57.0\n",
       "10            science    lecture    7.71   69.0\n",
       "11           business     debate    9.82   70.4\n",
       "12               arts     debate   11.53   96.2\n",
       "13            science     debate    7.10   62.9\n",
       "14            science    lecture    6.39   57.6\n",
       "15               arts     debate   12.00   84.3"
      ]
     },
     "execution_count": 10,
     "metadata": {},
     "output_type": "execute_result"
    }
   ],
   "source": [
    "# Load the grades dataset\n",
    "import io\n",
    "data_file = io.StringIO(\"\"\"\n",
    "student_ID,background,curriculum,effort,score\n",
    "1,arts,debate,10.96,75\n",
    "2,science,lecture,8.69,75\n",
    "3,arts,debate,8.6,67\n",
    "4,arts,lecture,7.92,70.3\n",
    "5,science,debate,9.9,76.1\n",
    "6,business,debate,10.8,79.8\n",
    "7,science,lecture,7.81,72.7\n",
    "8,business,lecture,9.13,75.4\n",
    "9,business,lecture,5.21,57\n",
    "10,science,lecture,7.71,69\n",
    "11,business,debate,9.82,70.4\n",
    "12,arts,debate,11.53,96.2\n",
    "13,science,debate,7.1,62.9\n",
    "14,science,lecture,6.39,57.6\n",
    "15,arts,debate,12,84.3\n",
    "\"\"\")\n",
    "grades = pd.read_csv(data_file, index_col=\"student_ID\")\n",
    "grades"
   ]
  },
  {
   "cell_type": "code",
   "execution_count": 11,
   "id": "b65eefc6",
   "metadata": {},
   "outputs": [
    {
     "data": {
      "text/plain": [
       "<Figure size 432x288 with 0 Axes>"
      ]
     },
     "metadata": {},
     "output_type": "display_data"
    },
    {
     "data": {
      "image/png": "[encoded data removed]",
      "text/plain": [
       "<Figure size 360x360 with 1 Axes>"
      ]
     },
     "metadata": {
      "needs_background": "light"
     },
     "output_type": "display_data"
    }
   ],
   "source": [
    "plt.figure()\n",
    "ax = sns.lmplot(x=\"effort\", y=\"score\", data=grades, ci=None)"
   ]
  },
  {
   "cell_type": "code",
   "execution_count": 12,
   "id": "b88b6c44",
   "metadata": {},
   "outputs": [],
   "source": [
    "ax.fig.savefig('figures/compare_score_vs_effort.png', dpi=75)"
   ]
  },
  {
   "cell_type": "code",
   "execution_count": null,
   "id": "a6b8dfb3",
   "metadata": {},
   "outputs": [],
   "source": []
  },
  {
   "cell_type": "code",
   "execution_count": null,
   "id": "83305ede",
   "metadata": {},
   "outputs": [],
   "source": []
  }
 ],
 "metadata": {
  "kernelspec": {
   "display_name": "Python 3",
   "language": "python",
   "name": "python3"
  },
  "language_info": {
   "codemirror_mode": {
    "name": "ipython",
    "version": 3
   },
   "file_extension": ".py",
   "mimetype": "text/x-python",
   "name": "python",
   "nbconvert_exporter": "python",
   "pygments_lexer": "ipython3",
   "version": "3.6.9"
  }
 },
 "nbformat": 4,
 "nbformat_minor": 5
}
