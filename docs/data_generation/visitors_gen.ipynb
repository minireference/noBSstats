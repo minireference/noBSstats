{
 "cells": [
  {
   "cell_type": "markdown",
   "id": "fbe734c2-5259-4b9b-b69e-180cee8b9a2c",
   "metadata": {},
   "source": [
    "# Generate the visitors dataset\n"
   ]
  },
  {
   "cell_type": "code",
   "execution_count": 1,
   "id": "4ec9e5e0-89bc-42d3-b72b-5bb5c4f7dcf3",
   "metadata": {},
   "outputs": [],
   "source": [
    "import numpy as np\n",
    "import pandas as pd\n",
    "import matplotlib.pyplot as plt\n",
    "import seaborn as sns"
   ]
  },
  {
   "cell_type": "code",
   "execution_count": 2,
   "id": "9a9e865c-a7ae-4e39-93ae-716f5b8efd19",
   "metadata": {},
   "outputs": [],
   "source": [
    "import sys"
   ]
  },
  {
   "cell_type": "code",
   "execution_count": 3,
   "id": "cbe16143-2593-46be-9421-9f52bc087905",
   "metadata": {},
   "outputs": [],
   "source": [
    "# %pip install Faker"
   ]
  },
  {
   "cell_type": "code",
   "execution_count": 4,
   "id": "f8eaf554-0ca3-4444-8c0a-d675c75955a7",
   "metadata": {},
   "outputs": [],
   "source": [
    "# tools for generating random data\n",
    "import datetime\n",
    "from faker import Faker\n",
    "import random\n",
    "from scipy.stats.distributions import bernoulli\n",
    "\n",
    "faker = Faker()"
   ]
  },
  {
   "cell_type": "code",
   "execution_count": null,
   "id": "ae81be50-cdaa-4093-97ea-bc7adb4f9db1",
   "metadata": {},
   "outputs": [],
   "source": []
  },
  {
   "cell_type": "code",
   "execution_count": 5,
   "id": "4f5cbf61-7bad-410a-9c0e-c5fd1aa6cc64",
   "metadata": {},
   "outputs": [],
   "source": [
    "Faker.seed(19)       # for IP addresses\n",
    "random.seed(33)      # for A/B assignment\n",
    "np.random.seed(55)   # for bought draw"
   ]
  },
  {
   "cell_type": "code",
   "execution_count": 6,
   "id": "96d333dd-57b1-4344-b643-d98274f78b61",
   "metadata": {},
   "outputs": [
    {
     "data": {
      "text/html": [
       "<div>\n",
       "<style scoped>\n",
       "    .dataframe tbody tr th:only-of-type {\n",
       "        vertical-align: middle;\n",
       "    }\n",
       "\n",
       "    .dataframe tbody tr th {\n",
       "        vertical-align: top;\n",
       "    }\n",
       "\n",
       "    .dataframe thead th {\n",
       "        text-align: right;\n",
       "    }\n",
       "</style>\n",
       "<table border=\"1\" class=\"dataframe\">\n",
       "  <thead>\n",
       "    <tr style=\"text-align: right;\">\n",
       "      <th></th>\n",
       "      <th>IP address</th>\n",
       "      <th>version</th>\n",
       "      <th>bought</th>\n",
       "    </tr>\n",
       "  </thead>\n",
       "  <tbody>\n",
       "    <tr>\n",
       "      <th>0</th>\n",
       "      <td>135.185.92.4</td>\n",
       "      <td>A</td>\n",
       "      <td>0</td>\n",
       "    </tr>\n",
       "    <tr>\n",
       "      <th>1</th>\n",
       "      <td>14.75.235.1</td>\n",
       "      <td>A</td>\n",
       "      <td>1</td>\n",
       "    </tr>\n",
       "    <tr>\n",
       "      <th>2</th>\n",
       "      <td>50.132.244.139</td>\n",
       "      <td>B</td>\n",
       "      <td>0</td>\n",
       "    </tr>\n",
       "    <tr>\n",
       "      <th>3</th>\n",
       "      <td>144.181.130.234</td>\n",
       "      <td>A</td>\n",
       "      <td>0</td>\n",
       "    </tr>\n",
       "    <tr>\n",
       "      <th>4</th>\n",
       "      <td>90.92.5.100</td>\n",
       "      <td>B</td>\n",
       "      <td>0</td>\n",
       "    </tr>\n",
       "  </tbody>\n",
       "</table>\n",
       "</div>"
      ],
      "text/plain": [
       "        IP address version  bought\n",
       "0     135.185.92.4       A       0\n",
       "1      14.75.235.1       A       1\n",
       "2   50.132.244.139       B       0\n",
       "3  144.181.130.234       A       0\n",
       "4      90.92.5.100       B       0"
      ]
     },
     "execution_count": 6,
     "metadata": {},
     "output_type": "execute_result"
    }
   ],
   "source": [
    "N = 2000  # number of visitors total\n",
    "rvA = bernoulli(p=0.06)  # A conversion (alternative)\n",
    "rvB = bernoulli(p=0.04)  # B conversion (baseline)\n",
    "\n",
    "\n",
    "visits_list = []\n",
    "\n",
    "tstart = datetime.datetime.now()\n",
    "\n",
    "for i in range(N):\n",
    "    dt = datetime.timedelta(seconds=random.randint(1, 30))\n",
    "    time = (tstart + dt).strftime('%d/%b/%Y:%H:%M:%S')\n",
    "    version = random.choice([\"A\", \"B\"])\n",
    "    ip = faker.ipv4()\n",
    "    if version == \"A\":\n",
    "        bought = rvA.rvs(1)[0]\n",
    "    elif version == \"B\":\n",
    "        bought = rvB.rvs(1)[0]\n",
    "    visit = (ip, version, bought)\n",
    "    visits_list.append(visit)\n",
    "\n",
    "visitors = pd.DataFrame(visits_list, columns=[\"IP address\", \"version\", \"bought\"])\n",
    "visitors.head()"
   ]
  },
  {
   "cell_type": "code",
   "execution_count": null,
   "id": "41447d8e-68ae-45af-be26-98412a33a077",
   "metadata": {},
   "outputs": [],
   "source": []
  },
  {
   "cell_type": "code",
   "execution_count": 19,
   "id": "02ca2d5a-2f83-4f25-b650-ea3d265ac915",
   "metadata": {},
   "outputs": [],
   "source": [
    "# visitors.to_csv(\"../datasets/visitors.csv\", index=False)"
   ]
  },
  {
   "cell_type": "code",
   "execution_count": 8,
   "id": "5369fad4-bd87-4d7d-9fc9-80a5193f36a6",
   "metadata": {},
   "outputs": [
    {
     "data": {
      "text/html": [
       "<div>\n",
       "<style scoped>\n",
       "    .dataframe tbody tr th:only-of-type {\n",
       "        vertical-align: middle;\n",
       "    }\n",
       "\n",
       "    .dataframe tbody tr th {\n",
       "        vertical-align: top;\n",
       "    }\n",
       "\n",
       "    .dataframe thead th {\n",
       "        text-align: right;\n",
       "    }\n",
       "</style>\n",
       "<table border=\"1\" class=\"dataframe\">\n",
       "  <thead>\n",
       "    <tr style=\"text-align: right;\">\n",
       "      <th></th>\n",
       "      <th>IP address</th>\n",
       "      <th>version</th>\n",
       "      <th>bought</th>\n",
       "    </tr>\n",
       "  </thead>\n",
       "  <tbody>\n",
       "    <tr>\n",
       "      <th>0</th>\n",
       "      <td>135.185.92.4</td>\n",
       "      <td>A</td>\n",
       "      <td>0</td>\n",
       "    </tr>\n",
       "    <tr>\n",
       "      <th>1</th>\n",
       "      <td>14.75.235.1</td>\n",
       "      <td>A</td>\n",
       "      <td>1</td>\n",
       "    </tr>\n",
       "    <tr>\n",
       "      <th>2</th>\n",
       "      <td>50.132.244.139</td>\n",
       "      <td>B</td>\n",
       "      <td>0</td>\n",
       "    </tr>\n",
       "    <tr>\n",
       "      <th>3</th>\n",
       "      <td>144.181.130.234</td>\n",
       "      <td>A</td>\n",
       "      <td>0</td>\n",
       "    </tr>\n",
       "    <tr>\n",
       "      <th>4</th>\n",
       "      <td>90.92.5.100</td>\n",
       "      <td>B</td>\n",
       "      <td>0</td>\n",
       "    </tr>\n",
       "  </tbody>\n",
       "</table>\n",
       "</div>"
      ],
      "text/plain": [
       "        IP address version  bought\n",
       "0     135.185.92.4       A       0\n",
       "1      14.75.235.1       A       1\n",
       "2   50.132.244.139       B       0\n",
       "3  144.181.130.234       A       0\n",
       "4      90.92.5.100       B       0"
      ]
     },
     "execution_count": 8,
     "metadata": {},
     "output_type": "execute_result"
    }
   ],
   "source": [
    "visitors = pd.read_csv(\"../datasets/visitors.csv\")\n",
    "visitors.head()"
   ]
  },
  {
   "cell_type": "code",
   "execution_count": 9,
   "id": "3c78b166-4ff8-407f-a190-a7eb2e4518f7",
   "metadata": {},
   "outputs": [
    {
     "data": {
      "text/plain": [
       "version  bought\n",
       "A        0          880\n",
       "         1           61\n",
       "B        0         1019\n",
       "         1           40\n",
       "Name: bought, dtype: int64"
      ]
     },
     "execution_count": 9,
     "metadata": {},
     "output_type": "execute_result"
    }
   ],
   "source": [
    "visitors.groupby(\"version\")[\"bought\"].value_counts()"
   ]
  },
  {
   "cell_type": "code",
   "execution_count": 10,
   "id": "815f3179-ddfb-44b7-a25d-2557473d2e5b",
   "metadata": {},
   "outputs": [
    {
     "data": {
      "text/html": [
       "<div>\n",
       "<style scoped>\n",
       "    .dataframe tbody tr th:only-of-type {\n",
       "        vertical-align: middle;\n",
       "    }\n",
       "\n",
       "    .dataframe tbody tr th {\n",
       "        vertical-align: top;\n",
       "    }\n",
       "\n",
       "    .dataframe thead th {\n",
       "        text-align: right;\n",
       "    }\n",
       "</style>\n",
       "<table border=\"1\" class=\"dataframe\">\n",
       "  <thead>\n",
       "    <tr style=\"text-align: right;\">\n",
       "      <th>bought</th>\n",
       "      <th>0</th>\n",
       "      <th>1</th>\n",
       "    </tr>\n",
       "    <tr>\n",
       "      <th>version</th>\n",
       "      <th></th>\n",
       "      <th></th>\n",
       "    </tr>\n",
       "  </thead>\n",
       "  <tbody>\n",
       "    <tr>\n",
       "      <th>A</th>\n",
       "      <td>880</td>\n",
       "      <td>61</td>\n",
       "    </tr>\n",
       "    <tr>\n",
       "      <th>B</th>\n",
       "      <td>1019</td>\n",
       "      <td>40</td>\n",
       "    </tr>\n",
       "  </tbody>\n",
       "</table>\n",
       "</div>"
      ],
      "text/plain": [
       "bought      0   1\n",
       "version          \n",
       "A         880  61\n",
       "B        1019  40"
      ]
     },
     "execution_count": 10,
     "metadata": {},
     "output_type": "execute_result"
    }
   ],
   "source": [
    "visitors.groupby(\"version\")[\"bought\"].value_counts().unstack()"
   ]
  },
  {
   "cell_type": "code",
   "execution_count": 11,
   "id": "54903fd2-2a8f-4a2f-a83d-99046e39d6b0",
   "metadata": {},
   "outputs": [
    {
     "data": {
      "text/html": [
       "<div>\n",
       "<style scoped>\n",
       "    .dataframe tbody tr th:only-of-type {\n",
       "        vertical-align: middle;\n",
       "    }\n",
       "\n",
       "    .dataframe tbody tr th {\n",
       "        vertical-align: top;\n",
       "    }\n",
       "\n",
       "    .dataframe thead th {\n",
       "        text-align: right;\n",
       "    }\n",
       "</style>\n",
       "<table border=\"1\" class=\"dataframe\">\n",
       "  <thead>\n",
       "    <tr style=\"text-align: right;\">\n",
       "      <th>bought</th>\n",
       "      <th>0</th>\n",
       "      <th>1</th>\n",
       "      <th>TOTAL</th>\n",
       "    </tr>\n",
       "    <tr>\n",
       "      <th>version</th>\n",
       "      <th></th>\n",
       "      <th></th>\n",
       "      <th></th>\n",
       "    </tr>\n",
       "  </thead>\n",
       "  <tbody>\n",
       "    <tr>\n",
       "      <th>A</th>\n",
       "      <td>880</td>\n",
       "      <td>61</td>\n",
       "      <td>941</td>\n",
       "    </tr>\n",
       "    <tr>\n",
       "      <th>B</th>\n",
       "      <td>1019</td>\n",
       "      <td>40</td>\n",
       "      <td>1059</td>\n",
       "    </tr>\n",
       "    <tr>\n",
       "      <th>TOTAL</th>\n",
       "      <td>1899</td>\n",
       "      <td>101</td>\n",
       "      <td>2000</td>\n",
       "    </tr>\n",
       "  </tbody>\n",
       "</table>\n",
       "</div>"
      ],
      "text/plain": [
       "bought      0    1  TOTAL\n",
       "version                  \n",
       "A         880   61    941\n",
       "B        1019   40   1059\n",
       "TOTAL    1899  101   2000"
      ]
     },
     "execution_count": 11,
     "metadata": {},
     "output_type": "execute_result"
    }
   ],
   "source": [
    "ct = pd.crosstab(index=visitors[\"version\"],\n",
    "                 columns=visitors[\"bought\"],\n",
    "                 margins=True, margins_name=\"TOTAL\")\n",
    "ct"
   ]
  },
  {
   "cell_type": "code",
   "execution_count": 12,
   "id": "0093ea9d-c946-42ba-b1ec-ed66b48e194d",
   "metadata": {},
   "outputs": [],
   "source": [
    "# print(ct.style.to_latex())"
   ]
  },
  {
   "cell_type": "code",
   "execution_count": 13,
   "id": "9e4c1460-0d5f-4b70-834e-be103d6e15cc",
   "metadata": {},
   "outputs": [
    {
     "data": {
      "text/plain": [
       "(0.06482465462274177, 0.03777148253068933)"
      ]
     },
     "execution_count": 13,
     "metadata": {},
     "output_type": "execute_result"
    }
   ],
   "source": [
    "pA = ct.loc[\"A\",1] / ct.loc[\"A\",\"TOTAL\"]\n",
    "pB = ct.loc[\"B\",1] / ct.loc[\"B\",\"TOTAL\"]\n",
    "pA, pB"
   ]
  },
  {
   "cell_type": "code",
   "execution_count": 14,
   "id": "17c130e7-3a29-4d68-8f83-4c92c0e334c6",
   "metadata": {},
   "outputs": [],
   "source": [
    "# print(ct.style.to_latex())"
   ]
  },
  {
   "cell_type": "code",
   "execution_count": 15,
   "id": "a2d65bab-17c8-479a-86df-0d9d0b588fff",
   "metadata": {},
   "outputs": [
    {
     "data": {
      "text/plain": [
       "0.06062241877578401"
      ]
     },
     "execution_count": 15,
     "metadata": {},
     "output_type": "execute_result"
    }
   ],
   "source": [
    "pA*(1-pA)"
   ]
  },
  {
   "cell_type": "code",
   "execution_count": 22,
   "id": "95665580-8151-4dd8-a5af-16490ab916b7",
   "metadata": {},
   "outputs": [
    {
     "data": {
      "text/plain": [
       "Text(0.5, 0, 'proportion bought')"
      ]
     },
     "execution_count": 22,
     "metadata": {},
     "output_type": "execute_result"
    },
    {
     "data": {
      "image/png": "[encoded data removed]",
      "text/plain": [
       "<Figure size 640x480 with 1 Axes>"
      ]
     },
     "metadata": {},
     "output_type": "display_data"
    }
   ],
   "source": [
    "ax = sns.barplot(data=visitors, x=\"bought\", y=\"version\", capsize=0.1)\n",
    "ax.set_xlabel(\"proportion bought\")"
   ]
  },
  {
   "cell_type": "code",
   "execution_count": 24,
   "id": "43387352-3ea3-4b23-a706-e9201c6d7d05",
   "metadata": {},
   "outputs": [],
   "source": [
    "# filename = \"figures/compare_visitors.pdf\"\n",
    "# ax.figure.tight_layout()\n",
    "# ax.figure.savefig(filename, dpi=300, bbox_inches=\"tight\", pad_inches=0)"
   ]
  },
  {
   "cell_type": "code",
   "execution_count": null,
   "id": "919225cb-9295-41fd-8847-53c66430d92c",
   "metadata": {},
   "outputs": [],
   "source": []
  },
  {
   "cell_type": "markdown",
   "id": "10810db3-ca32-4a8b-a754-065b94d58a33",
   "metadata": {},
   "source": [
    "# Full script\n",
    "\n",
    "TODO: generate fake web server log using https://github.com/kiritbasu/Fake-Apache-Log-Generator/blob/master/apache-fake-log-gen.py"
   ]
  },
  {
   "cell_type": "code",
   "execution_count": null,
   "id": "13dd151e-7dba-4287-bbed-428f383e236c",
   "metadata": {},
   "outputs": [],
   "source": []
  },
  {
   "cell_type": "code",
   "execution_count": null,
   "id": "d86a91d9-2548-4fab-ad31-90a5dd743f3d",
   "metadata": {},
   "outputs": [],
   "source": []
  },
  {
   "cell_type": "code",
   "execution_count": 18,
   "id": "c8f1be1c-425f-4fd9-a2bb-c141e7a06232",
   "metadata": {},
   "outputs": [
    {
     "data": {
      "text/plain": [
       "'Mozilla/5.0 (Macintosh; U; PPC Mac OS X 10_9_8 rv:4.0; pl-PL) AppleWebKit/535.3.7 (KHTML, like Gecko) Version/4.0 Safari/535.3.7'"
      ]
     },
     "execution_count": 18,
     "metadata": {},
     "output_type": "execute_result"
    }
   ],
   "source": [
    "faker.user_agent()"
   ]
  },
  {
   "cell_type": "code",
   "execution_count": null,
   "id": "5f930742-3189-4454-8ce9-3bd316c8f10e",
   "metadata": {},
   "outputs": [],
   "source": []
  }
 ],
 "metadata": {
  "kernelspec": {
   "display_name": "Python 3 (ipykernel)",
   "language": "python",
   "name": "python3"
  },
  "language_info": {
   "codemirror_mode": {
    "name": "ipython",
    "version": 3
   },
   "file_extension": ".py",
   "mimetype": "text/x-python",
   "name": "python",
   "nbconvert_exporter": "python",
   "pygments_lexer": "ipython3",
   "version": "3.9.4"
  }
 },
 "nbformat": 4,
 "nbformat_minor": 5
}
