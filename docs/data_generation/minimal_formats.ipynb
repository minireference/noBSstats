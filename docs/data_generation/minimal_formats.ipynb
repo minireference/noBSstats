{
 "cells": [
  {
   "cell_type": "markdown",
   "id": "0e511f7d-798c-4921-8df9-d3a573b30cc2",
   "metadata": {},
   "source": [
    "# Minimal dataset in various formats\n",
    "\n"
   ]
  },
  {
   "cell_type": "code",
   "execution_count": 28,
   "id": "e53dafad-fbe0-4ea8-8e5f-15f252a140ba",
   "metadata": {},
   "outputs": [],
   "source": [
    "import pandas as pd"
   ]
  },
  {
   "cell_type": "markdown",
   "id": "f5552960-e300-4a2c-aedb-a26f189902dd",
   "metadata": {},
   "source": [
    "## Minimal clean"
   ]
  },
  {
   "cell_type": "code",
   "execution_count": 29,
   "id": "4ba914b5-73bd-4f81-9125-aa9fca84dcaa",
   "metadata": {},
   "outputs": [
    {
     "data": {
      "text/html": [
       "<div>\n",
       "<style scoped>\n",
       "    .dataframe tbody tr th:only-of-type {\n",
       "        vertical-align: middle;\n",
       "    }\n",
       "\n",
       "    .dataframe tbody tr th {\n",
       "        vertical-align: top;\n",
       "    }\n",
       "\n",
       "    .dataframe thead th {\n",
       "        text-align: right;\n",
       "    }\n",
       "</style>\n",
       "<table border=\"1\" class=\"dataframe\">\n",
       "  <thead>\n",
       "    <tr style=\"text-align: right;\">\n",
       "      <th></th>\n",
       "      <th>x</th>\n",
       "      <th>y</th>\n",
       "      <th>team</th>\n",
       "      <th>level</th>\n",
       "    </tr>\n",
       "  </thead>\n",
       "  <tbody>\n",
       "    <tr>\n",
       "      <th>0</th>\n",
       "      <td>1.0</td>\n",
       "      <td>2.0</td>\n",
       "      <td>a</td>\n",
       "      <td>3</td>\n",
       "    </tr>\n",
       "    <tr>\n",
       "      <th>1</th>\n",
       "      <td>1.5</td>\n",
       "      <td>1.0</td>\n",
       "      <td>a</td>\n",
       "      <td>2</td>\n",
       "    </tr>\n",
       "    <tr>\n",
       "      <th>2</th>\n",
       "      <td>2.0</td>\n",
       "      <td>1.5</td>\n",
       "      <td>a</td>\n",
       "      <td>1</td>\n",
       "    </tr>\n",
       "    <tr>\n",
       "      <th>3</th>\n",
       "      <td>2.5</td>\n",
       "      <td>2.0</td>\n",
       "      <td>b</td>\n",
       "      <td>3</td>\n",
       "    </tr>\n",
       "    <tr>\n",
       "      <th>4</th>\n",
       "      <td>3.0</td>\n",
       "      <td>1.5</td>\n",
       "      <td>b</td>\n",
       "      <td>3</td>\n",
       "    </tr>\n",
       "  </tbody>\n",
       "</table>\n",
       "</div>"
      ],
      "text/plain": [
       "     x    y team  level\n",
       "0  1.0  2.0    a      3\n",
       "1  1.5  1.0    a      2\n",
       "2  2.0  1.5    a      1\n",
       "3  2.5  2.0    b      3\n",
       "4  3.0  1.5    b      3"
      ]
     },
     "execution_count": 29,
     "metadata": {},
     "output_type": "execute_result"
    }
   ],
   "source": [
    "records = [\n",
    "    [1.0, 2.0, \"a\", 3],\n",
    "    [1.5, 1.0, \"a\", 2],\n",
    "    [2.0, 1.5, \"a\", 1],\n",
    "    [2.5, 2.0, \"b\", 3],\n",
    "    [3.0, 1.5, \"b\", 3],\n",
    "]\n",
    "columns = [\"x\", \"y\", \"team\", \"level\"]\n",
    "\n",
    "minimal = pd.DataFrame(records, columns=columns)\n",
    "minimal"
   ]
  },
  {
   "cell_type": "code",
   "execution_count": 32,
   "id": "fa8dbcd1-d70d-4f61-b0a9-0f40a3e903c7",
   "metadata": {},
   "outputs": [],
   "source": [
    "# print(\n",
    "#     '\"x\": [' + \", \".join([str(el) for el in minimal[\"x\"].values]) + \"],\\n\" + \\\n",
    "#     '\"y\": [' + \", \".join([str(el) for el in minimal[\"y\"].values]) + \"],\\n\" + \\\n",
    "#     '\"team\": [' + \", \".join(['\"'+el+'\"' for el in minimal[\"group\"].values]) + \"],\\n\" + \\\n",
    "#     '\"level\": [' + \", \".join([str(el) for el in minimal[\"level\"].values]) + \"],\\n\"\n",
    "# )"
   ]
  },
  {
   "cell_type": "markdown",
   "id": "bf5e5bec-7c9e-4540-a08c-4e370288b11c",
   "metadata": {},
   "source": [
    "## Save `minimal` in various formats"
   ]
  },
  {
   "cell_type": "markdown",
   "id": "b942de58-49d5-4ce8-b341-8ed56cc7f075",
   "metadata": {},
   "source": [
    "### CSV"
   ]
  },
  {
   "cell_type": "code",
   "execution_count": 33,
   "id": "6718fa97-64a5-4210-bd41-5471868d405f",
   "metadata": {},
   "outputs": [],
   "source": [
    "# minimal.to_csv(\"../datasets/minimal.csv\", index=False)"
   ]
  },
  {
   "cell_type": "markdown",
   "id": "8f08363b-ab7b-4f9b-a794-46918a5adaea",
   "metadata": {},
   "source": [
    "### TSV"
   ]
  },
  {
   "cell_type": "code",
   "execution_count": 35,
   "id": "a10c0239-4364-41ee-9804-299562fead9a",
   "metadata": {},
   "outputs": [],
   "source": [
    "# minimal.to_csv(\"../datasets/formats/minimal.tsv\", index=False, sep=\"\\t\")"
   ]
  },
  {
   "cell_type": "markdown",
   "id": "2f7a6111-a958-4489-9821-f9ecb7541d71",
   "metadata": {},
   "source": [
    "### JSON"
   ]
  },
  {
   "cell_type": "code",
   "execution_count": 36,
   "id": "ed0cc004-e86d-4d4f-ab53-ee5e17e6683a",
   "metadata": {},
   "outputs": [],
   "source": [
    "# minimal.to_json(\"../datasets/formats/minimal.json\", orient=\"records\", indent=2)"
   ]
  },
  {
   "cell_type": "markdown",
   "id": "7fe6c145-9c03-416b-9c56-6593ee2a0a85",
   "metadata": {},
   "source": [
    "### XML"
   ]
  },
  {
   "cell_type": "code",
   "execution_count": 49,
   "id": "d24d19dc-27e2-4db6-82fa-f76f7f8dec13",
   "metadata": {},
   "outputs": [],
   "source": [
    "# minimal.to_xml(\"../datasets/formats/minimal.xml\", index=False,\n",
    "#                root_name=\"players\", row_name=\"player\")"
   ]
  },
  {
   "cell_type": "markdown",
   "id": "70778139-bf99-4130-9591-304e2f14a04c",
   "metadata": {},
   "source": [
    "### Spreadsheet formats\n",
    "\n",
    "LibreOffice, Excel (modern), and Excel (old)"
   ]
  },
  {
   "cell_type": "code",
   "execution_count": 39,
   "id": "56aa02b5-4e53-4f02-8a2e-23da171a97b4",
   "metadata": {},
   "outputs": [],
   "source": [
    "# minimal.to_excel(\"../datasets/formats/minimal.ods\", index=False)\n",
    "# minimal.to_excel(\"../datasets/formats/minimal.xlsx\", index=False)\n",
    "# minimal.to_excel(\"../datasets/formats/minimal.xls\", index=False)"
   ]
  },
  {
   "cell_type": "markdown",
   "id": "56805d2c-17be-41ea-afd6-0df10e24ff0a",
   "metadata": {},
   "source": [
    "### HTML table"
   ]
  },
  {
   "cell_type": "code",
   "execution_count": 41,
   "id": "808ae004-654c-428d-a8ab-16f3f79365e0",
   "metadata": {},
   "outputs": [],
   "source": [
    "# minimal.to_html(\"../datasets/formats/minimal.html\", index=False)"
   ]
  },
  {
   "cell_type": "markdown",
   "id": "0d932e0a-8fd9-46cd-8730-61bce8e9b14d",
   "metadata": {},
   "source": [
    "### SQLite3 database\n"
   ]
  },
  {
   "cell_type": "code",
   "execution_count": 42,
   "id": "d2cd7f63-7e24-4cdd-9182-f5d31f4541d0",
   "metadata": {},
   "outputs": [],
   "source": [
    "# !rm ../datasets/formats/minimal.sqlite"
   ]
  },
  {
   "cell_type": "code",
   "execution_count": 43,
   "id": "d47cf110-22ee-4176-b404-37bcd4498262",
   "metadata": {},
   "outputs": [],
   "source": [
    "# from sqlalchemy import create_engine\n",
    "# engine = create_engine(\"sqlite:///../datasets/formats/minimal.sqlite\")\n",
    "# minimal.to_sql(\"players\", con=engine, index=False)"
   ]
  },
  {
   "cell_type": "code",
   "execution_count": null,
   "id": "ecec49ab-d6b9-4706-8e43-295f3e90a07d",
   "metadata": {},
   "outputs": [],
   "source": []
  },
  {
   "cell_type": "markdown",
   "id": "408523d9-5b3a-42f8-aa3c-b9bf52d529a6",
   "metadata": {},
   "source": [
    "## Save `minimal` dataset with missing values and outlier"
   ]
  },
  {
   "cell_type": "code",
   "execution_count": 45,
   "id": "efe2e591-b159-4b85-896c-4c112c382278",
   "metadata": {},
   "outputs": [
    {
     "data": {
      "text/html": [
       "<div>\n",
       "<style scoped>\n",
       "    .dataframe tbody tr th:only-of-type {\n",
       "        vertical-align: middle;\n",
       "    }\n",
       "\n",
       "    .dataframe tbody tr th {\n",
       "        vertical-align: top;\n",
       "    }\n",
       "\n",
       "    .dataframe thead th {\n",
       "        text-align: right;\n",
       "    }\n",
       "</style>\n",
       "<table border=\"1\" class=\"dataframe\">\n",
       "  <thead>\n",
       "    <tr style=\"text-align: right;\">\n",
       "      <th></th>\n",
       "      <th>x</th>\n",
       "      <th>y</th>\n",
       "      <th>grp</th>\n",
       "      <th>lvl</th>\n",
       "    </tr>\n",
       "  </thead>\n",
       "  <tbody>\n",
       "    <tr>\n",
       "      <th>0</th>\n",
       "      <td>1.0</td>\n",
       "      <td>2.0</td>\n",
       "      <td>a</td>\n",
       "      <td>3.0</td>\n",
       "    </tr>\n",
       "    <tr>\n",
       "      <th>1</th>\n",
       "      <td>1.5</td>\n",
       "      <td>1.0</td>\n",
       "      <td>a</td>\n",
       "      <td>2.0</td>\n",
       "    </tr>\n",
       "    <tr>\n",
       "      <th>2</th>\n",
       "      <td>2.0</td>\n",
       "      <td>1.5</td>\n",
       "      <td>a</td>\n",
       "      <td>1.0</td>\n",
       "    </tr>\n",
       "    <tr>\n",
       "      <th>3</th>\n",
       "      <td>1.5</td>\n",
       "      <td>1.5</td>\n",
       "      <td>a</td>\n",
       "      <td>NaN</td>\n",
       "    </tr>\n",
       "    <tr>\n",
       "      <th>4</th>\n",
       "      <td>10.0</td>\n",
       "      <td>10.0</td>\n",
       "      <td>a</td>\n",
       "      <td>3.0</td>\n",
       "    </tr>\n",
       "    <tr>\n",
       "      <th>5</th>\n",
       "      <td>2.5</td>\n",
       "      <td>2.0</td>\n",
       "      <td>b</td>\n",
       "      <td>3.0</td>\n",
       "    </tr>\n",
       "    <tr>\n",
       "      <th>6</th>\n",
       "      <td>3.0</td>\n",
       "      <td>1.5</td>\n",
       "      <td>b</td>\n",
       "      <td>3.0</td>\n",
       "    </tr>\n",
       "    <tr>\n",
       "      <th>7</th>\n",
       "      <td>11.0</td>\n",
       "      <td>NaN</td>\n",
       "      <td>b</td>\n",
       "      <td>2.0</td>\n",
       "    </tr>\n",
       "  </tbody>\n",
       "</table>\n",
       "</div>"
      ],
      "text/plain": [
       "      x     y grp  lvl\n",
       "0   1.0   2.0   a  3.0\n",
       "1   1.5   1.0   a  2.0\n",
       "2   2.0   1.5   a  1.0\n",
       "3   1.5   1.5   a  NaN\n",
       "4  10.0  10.0   a  3.0\n",
       "5   2.5   2.0   b  3.0\n",
       "6   3.0   1.5   b  3.0\n",
       "7  11.0   NaN   b  2.0"
      ]
     },
     "execution_count": 45,
     "metadata": {},
     "output_type": "execute_result"
    }
   ],
   "source": [
    "from math import nan\n",
    "\n",
    "raw_records = [\n",
    "    [1.0, 2.0, \"a\", 3],\n",
    "    [1.5, 1.0, \"a\", 2],\n",
    "    [2.0, 1.5, \"a\", 1],\n",
    "    [1.5, 1.5, \"a\", None],\n",
    "    [ 10,  10, \"a\", 3],\n",
    "    [2.5, 2.0, \"b\", 3],\n",
    "    [3.0, 1.5, \"b\", 3],\n",
    "    [ 11, nan, \"b\", 2],\n",
    "]\n",
    "rawdf = pd.DataFrame(raw_records, columns=[\"x\", \"y\", \"grp\", \"lvl\"])\n",
    "rawdf"
   ]
  },
  {
   "cell_type": "code",
   "execution_count": null,
   "id": "c801eb0c-d5e8-48e3-a2b5-1618d97db639",
   "metadata": {},
   "outputs": [],
   "source": []
  },
  {
   "cell_type": "code",
   "execution_count": 46,
   "id": "825f6528-c055-42a9-abbb-4db8ca29788f",
   "metadata": {},
   "outputs": [
    {
     "data": {
      "text/plain": [
       "True"
      ]
     },
     "execution_count": 46,
     "metadata": {},
     "output_type": "execute_result"
    }
   ],
   "source": [
    "def containedin(df, DF):\n",
    "    \"\"\"Check if data frame `df` is containd in data frame `DF`.\"\"\"\n",
    "    for idx, row in df.iterrows():\n",
    "        row_in_DF = (row == DF).all(axis=1).any()\n",
    "        if ~row_in_DF:\n",
    "            return False\n",
    "    return True\n",
    "\n",
    "# make sure rawdf contains data from `minimal` (up to column renames)\n",
    "containedin(minimal, rawdf.rename(columns=dict(grp=\"team\", lvl=\"level\")))"
   ]
  },
  {
   "cell_type": "code",
   "execution_count": 47,
   "id": "738081ab-e3ca-46cd-9ca8-9169d57c17c2",
   "metadata": {},
   "outputs": [],
   "source": [
    "# rawdf.to_csv(\"../datasets/raw/minimal.csv\", index=False)"
   ]
  },
  {
   "cell_type": "code",
   "execution_count": null,
   "id": "dc74a0dc-0f3d-43fd-870e-1ddaedcc690e",
   "metadata": {},
   "outputs": [],
   "source": []
  }
 ],
 "metadata": {
  "kernelspec": {
   "display_name": "Python 3 (ipykernel)",
   "language": "python",
   "name": "python3"
  },
  "language_info": {
   "codemirror_mode": {
    "name": "ipython",
    "version": 3
   },
   "file_extension": ".py",
   "mimetype": "text/x-python",
   "name": "python",
   "nbconvert_exporter": "python",
   "pygments_lexer": "ipython3",
   "version": "3.9.4"
  }
 },
 "nbformat": 4,
 "nbformat_minor": 5
}
