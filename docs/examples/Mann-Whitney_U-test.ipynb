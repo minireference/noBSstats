{
 "cells": [
  {
   "cell_type": "markdown",
   "id": "229b9ce5-9ba8-406a-bb1a-5979d1e2a64f",
   "metadata": {},
   "source": [
    "# Mann-Whitney U-test\n",
    "\n",
    "The goal of the Mann-Whitney $U$-test to compare the medians two unknown population.\n",
    "\n",
    "This is the nonparametric counterpart of the [two-sample $t$-test](./two_sample_t-test.ipynb).\n"
   ]
  },
  {
   "cell_type": "code",
   "execution_count": 1,
   "id": "a75de327-d02b-47a0-bcc6-57cb317b9d7c",
   "metadata": {},
   "outputs": [],
   "source": [
    "import matplotlib.pyplot as plt\n",
    "import numpy as np\n",
    "import seaborn as sns\n",
    "import pandas as pd"
   ]
  },
  {
   "cell_type": "code",
   "execution_count": 2,
   "id": "1cf0b78f-2944-4e26-83b7-553b70f70398",
   "metadata": {},
   "outputs": [],
   "source": [
    "%matplotlib inline\n",
    "%config InlineBackend.figure_format = 'retina'"
   ]
  },
  {
   "cell_type": "markdown",
   "id": "074beb38-077f-4037-8441-5c645de0a100",
   "metadata": {},
   "source": [
    "$\\def\\stderr#1{\\mathbf{se}_{#1}}$\n",
    "$\\def\\stderrhat#1{\\hat{\\mathbf{se}}_{#1}}$\n",
    "$\\newcommand{\\Mean}{\\textbf{Mean}}$\n",
    "$\\newcommand{\\Var}{\\textbf{Var}}$\n",
    "$\\newcommand{\\Std}{\\textbf{Std}}$\n",
    "$\\newcommand{\\Freq}{\\textbf{Freq}}$\n",
    "$\\newcommand{\\RelFreq}{\\textbf{RelFreq}}$\n",
    "$\\newcommand{\\DMeans}{\\textbf{DMeans}}$\n",
    "$\\newcommand{\\Prop}{\\textbf{Prop}}$\n",
    "$\\newcommand{\\DProps}{\\textbf{DProps}}$\n",
    "$\\newcommand{\\med}{m}$\n",
    "$\\newcommand{\\Sgn}{\\textbf{Sgn}}$\n",
    "$\\newcommand{\\Rank}{\\textbf{Rank}}$"
   ]
  },
  {
   "cell_type": "markdown",
   "id": "09804789-d86e-4df9-a3d9-4106bfbf76d1",
   "metadata": {},
   "source": [
    "## Data\n",
    "Two samples of numerical or ordinal observations $\\mathbf{x}=[x_1, x_2, \\ldots, x_n]$\n",
    "and $\\mathbf{y}=[y_1, y_2,\\ldots, y_m]$ from independent populations."
   ]
  },
  {
   "cell_type": "markdown",
   "id": "d69a9922-b2a7-44f3-83f1-ed3713d71e8f",
   "metadata": {},
   "source": [
    "## Modeling assumptions\n",
    "\n",
    "We don't need to make any assumptions about the unknown populations."
   ]
  },
  {
   "cell_type": "markdown",
   "id": "b69c7ac0-31bd-479e-afb4-f9505bfca4ef",
   "metadata": {},
   "source": [
    "## Hypotheses\n",
    "\n",
    "We're testing $H_0: \\med_X = \\med_Y$ against $H_A: \\med_X \\neq \\med_Y$."
   ]
  },
  {
   "cell_type": "markdown",
   "id": "146b20c4-d535-46fe-86cc-8c2c52bfa39f",
   "metadata": {},
   "source": [
    "## Statistical design\n",
    "\n",
    "???"
   ]
  },
  {
   "cell_type": "code",
   "execution_count": null,
   "id": "31dea3e9-c468-48c4-ab99-874ac609cadd",
   "metadata": {},
   "outputs": [],
   "source": []
  },
  {
   "cell_type": "markdown",
   "id": "7674af35-fd9d-4608-970a-b74c27ca3475",
   "metadata": {},
   "source": [
    "## Test statistic\n",
    "\n",
    "Compute expressions $U_1 = \\sum_{i=1}^n \\Rank(x_i) - \\frac{n(n+1)}{2}$\n",
    "and  $U_2 = \\sum_{i=1}^m \\Rank(y_i) - \\frac{m(m+1)}{2}$,\n",
    "where $n$ and $m$ are the sample sizes.\n",
    "We then define $U = \\min(U_1, U_2)$."
   ]
  },
  {
   "cell_type": "markdown",
   "id": "46a6143a-ca4b-4568-bf5a-862a577c8c21",
   "metadata": {},
   "source": [
    "## Sampling distribution\n",
    "\n",
    "For small sample sizes,\n",
    "the exact sampling distribution is obtained through a computational procedure.\n",
    "For large samples,\n",
    "$U$ is approximately normally distributed."
   ]
  },
  {
   "cell_type": "markdown",
   "id": "15cf13c7-78bf-495a-baf8-2312c6210c2a",
   "metadata": {},
   "source": [
    "## P-value calculation"
   ]
  },
  {
   "cell_type": "code",
   "execution_count": 3,
   "id": "485f2583-bb09-4fa5-bbb3-6d0d191010ba",
   "metadata": {},
   "outputs": [],
   "source": [
    "from scipy.stats import mannwhitneyu\n",
    "\n",
    "# ALT.\n",
    "# from pingouin import mwu"
   ]
  },
  {
   "cell_type": "code",
   "execution_count": null,
   "id": "b8d34961-f391-4d3e-b034-255a865b5f05",
   "metadata": {},
   "outputs": [],
   "source": []
  },
  {
   "cell_type": "markdown",
   "id": "1d4c8b3d-5028-47ae-935e-7fda0667b710",
   "metadata": {},
   "source": [
    "## Examples"
   ]
  },
  {
   "cell_type": "markdown",
   "id": "3b991eb0-8635-4e6f-9340-6c5ae3e1cb9c",
   "metadata": {},
   "source": [
    "### Example 1\n",
    "\n",
    "The dataset `outliers2.csv` consists of measurements of soil score variable\n",
    "using a specialized equipment for calculating soil quality.\n",
    "\n",
    "The measurement apparatus has an upper limit beyound which it doesn't work,\n",
    "so all observations that exceed this limit are coded as the value 2500."
   ]
  },
  {
   "cell_type": "code",
   "execution_count": 4,
   "id": "c9d972a7-bf3d-4569-b9fe-83ef0dbb5c6e",
   "metadata": {},
   "outputs": [
    {
     "data": {
      "text/html": [
       "<div>\n",
       "<style scoped>\n",
       "    .dataframe tbody tr th:only-of-type {\n",
       "        vertical-align: middle;\n",
       "    }\n",
       "\n",
       "    .dataframe tbody tr th {\n",
       "        vertical-align: top;\n",
       "    }\n",
       "\n",
       "    .dataframe thead tr th {\n",
       "        text-align: left;\n",
       "    }\n",
       "\n",
       "    .dataframe thead tr:last-of-type th {\n",
       "        text-align: right;\n",
       "    }\n",
       "</style>\n",
       "<table border=\"1\" class=\"dataframe\">\n",
       "  <thead>\n",
       "    <tr>\n",
       "      <th></th>\n",
       "      <th colspan=\"8\" halign=\"left\">score</th>\n",
       "    </tr>\n",
       "    <tr>\n",
       "      <th></th>\n",
       "      <th>count</th>\n",
       "      <th>mean</th>\n",
       "      <th>std</th>\n",
       "      <th>min</th>\n",
       "      <th>25%</th>\n",
       "      <th>50%</th>\n",
       "      <th>75%</th>\n",
       "      <th>max</th>\n",
       "    </tr>\n",
       "    <tr>\n",
       "      <th>group</th>\n",
       "      <th></th>\n",
       "      <th></th>\n",
       "      <th></th>\n",
       "      <th></th>\n",
       "      <th></th>\n",
       "      <th></th>\n",
       "      <th></th>\n",
       "      <th></th>\n",
       "    </tr>\n",
       "  </thead>\n",
       "  <tbody>\n",
       "    <tr>\n",
       "      <th>A</th>\n",
       "      <td>14.0</td>\n",
       "      <td>482.857143</td>\n",
       "      <td>681.137833</td>\n",
       "      <td>26.0</td>\n",
       "      <td>82.50</td>\n",
       "      <td>153.5</td>\n",
       "      <td>715.75</td>\n",
       "      <td>2500.0</td>\n",
       "    </tr>\n",
       "    <tr>\n",
       "      <th>B</th>\n",
       "      <td>18.0</td>\n",
       "      <td>1213.611111</td>\n",
       "      <td>1099.014486</td>\n",
       "      <td>26.0</td>\n",
       "      <td>198.75</td>\n",
       "      <td>830.0</td>\n",
       "      <td>2500.00</td>\n",
       "      <td>2500.0</td>\n",
       "    </tr>\n",
       "  </tbody>\n",
       "</table>\n",
       "</div>"
      ],
      "text/plain": [
       "      score                                                                \n",
       "      count         mean          std   min     25%    50%      75%     max\n",
       "group                                                                      \n",
       "A      14.0   482.857143   681.137833  26.0   82.50  153.5   715.75  2500.0\n",
       "B      18.0  1213.611111  1099.014486  26.0  198.75  830.0  2500.00  2500.0"
      ]
     },
     "execution_count": 4,
     "metadata": {},
     "output_type": "execute_result"
    }
   ],
   "source": [
    "outliers2 = pd.read_csv(\"../datasets/outliers2.csv\")\n",
    "outliers2.groupby(\"group\").describe()"
   ]
  },
  {
   "cell_type": "code",
   "execution_count": 5,
   "id": "6d5e197c-f35b-479c-aebe-186eb726644f",
   "metadata": {},
   "outputs": [
    {
     "data": {
      "text/plain": [
       "<Axes: xlabel='group', ylabel='score'>"
      ]
     },
     "execution_count": 5,
     "metadata": {},
     "output_type": "execute_result"
    },
    {
     "data": {
      "image/png": "[encoded data removed]",
      "text/plain": [
       "<Figure size 640x480 with 1 Axes>"
      ]
     },
     "metadata": {
      "image/png": {
       "height": 432,
       "width": 580
      }
     },
     "output_type": "display_data"
    }
   ],
   "source": [
    "# plot observations\n",
    "sns.stripplot(data=outliers2, x=\"group\", y=\"score\", hue=\"group\")\n",
    "\n",
    "# show means and standard deviations\n",
    "sns.pointplot(data=outliers2, x=\"group\", y=\"score\", hue=\"group\", dodge=0.4,\n",
    "              estimator=\"mean\", errorbar=\"sd\", marker=\"D\",\n",
    "              markersize=5, err_kws={\"linewidth\":1})\n",
    "\n",
    "# show also medians\n",
    "sns.pointplot(data=outliers2, x=\"group\", y=\"score\", hue=\"group\", dodge=0.4,\n",
    "              estimator=\"median\", errorbar=None, marker=\"_\", markersize=10)"
   ]
  },
  {
   "cell_type": "code",
   "execution_count": 6,
   "id": "3eda6221-485e-41b1-a933-8a704fd92715",
   "metadata": {},
   "outputs": [],
   "source": [
    "scoresA = outliers2[outliers2[\"group\"]==\"A\"][\"score\"]\n",
    "scoresB = outliers2[outliers2[\"group\"]==\"B\"][\"score\"]"
   ]
  },
  {
   "cell_type": "markdown",
   "id": "3c8c7fbb-a5d2-449c-b49d-69d470b51024",
   "metadata": {},
   "source": [
    "#### Using a regular two-sample t-test"
   ]
  },
  {
   "cell_type": "code",
   "execution_count": 7,
   "id": "9d19d620-b91d-4904-a4db-ffda37f5bcb2",
   "metadata": {},
   "outputs": [
    {
     "data": {
      "text/plain": [
       "Ttest_indResult(statistic=-2.3080671633801986, pvalue=0.028387263383781086)"
      ]
     },
     "execution_count": 7,
     "metadata": {},
     "output_type": "execute_result"
    }
   ],
   "source": [
    "from scipy.stats import ttest_ind\n",
    "ttest_ind(scoresA, scoresB, equal_var=False)"
   ]
  },
  {
   "cell_type": "markdown",
   "id": "9c7a2417-7a6c-4e05-96b9-32bdfc0ab854",
   "metadata": {},
   "source": [
    "The outliers pull the mean in group B to a high value,\n",
    "which leads us to conclude there is a statistically significant difference between the two groups."
   ]
  },
  {
   "cell_type": "code",
   "execution_count": null,
   "id": "9445a663-6b25-4fdb-b5d6-96d50cb99ed1",
   "metadata": {},
   "outputs": [],
   "source": []
  },
  {
   "cell_type": "markdown",
   "id": "5c7b1504-f4a7-4aa1-a19e-c3b92055d06a",
   "metadata": {},
   "source": [
    "#### Using the Mann-Whitney U-test"
   ]
  },
  {
   "cell_type": "code",
   "execution_count": 8,
   "id": "2cdd35a1-1e75-42b4-bde1-be130218e8f4",
   "metadata": {},
   "outputs": [
    {
     "data": {
      "text/plain": [
       "MannwhitneyuResult(statistic=77.0, pvalue=0.06389372690752373)"
      ]
     },
     "execution_count": 8,
     "metadata": {},
     "output_type": "execute_result"
    }
   ],
   "source": [
    "from scipy.stats import mannwhitneyu\n",
    "\n",
    "mannwhitneyu(scoresA, scoresB)"
   ]
  },
  {
   "cell_type": "markdown",
   "id": "d0bfb724-188f-43c5-b793-56860d35f6d5",
   "metadata": {},
   "source": [
    "The Mann-Whitney $U$-test is better at ignoring the outliers,\n",
    "and correctly fails to reject the null.\n",
    "Indeed,\n",
    "looking at the graph, we see there is not a big difference between the two groups."
   ]
  },
  {
   "cell_type": "code",
   "execution_count": null,
   "id": "7be97955-5d4f-4779-a0ae-953b72672373",
   "metadata": {},
   "outputs": [],
   "source": []
  },
  {
   "cell_type": "code",
   "execution_count": null,
   "id": "1817c931-e541-4839-947c-29d7f7dd7ebc",
   "metadata": {},
   "outputs": [],
   "source": []
  },
  {
   "cell_type": "markdown",
   "id": "9ae28def-30d0-4b39-8365-e06ed7cf9081",
   "metadata": {},
   "source": [
    "## Confidence interval for the effect size"
   ]
  },
  {
   "cell_type": "code",
   "execution_count": null,
   "id": "77201c14-06b2-45f0-a652-ec9489fc7db3",
   "metadata": {},
   "outputs": [],
   "source": []
  },
  {
   "cell_type": "markdown",
   "id": "6be145e5-8cee-4d19-b215-807f690af3aa",
   "metadata": {},
   "source": [
    "## Related\n",
    "\n"
   ]
  },
  {
   "cell_type": "code",
   "execution_count": null,
   "id": "2385f46a-ec7b-4b74-a944-c46e6e5c861f",
   "metadata": {},
   "outputs": [],
   "source": []
  },
  {
   "cell_type": "markdown",
   "id": "aff7ca4d-e061-40ad-9a6f-0c48913a001f",
   "metadata": {},
   "source": [
    "## Discussion"
   ]
  },
  {
   "cell_type": "code",
   "execution_count": null,
   "id": "059f1063-5cb2-4ecd-bd5a-ff8c54eada63",
   "metadata": {},
   "outputs": [],
   "source": []
  },
  {
   "cell_type": "markdown",
   "id": "fa1f1c61-0742-4945-9618-8ec17f6263d7",
   "metadata": {},
   "source": [
    "## Links"
   ]
  },
  {
   "cell_type": "code",
   "execution_count": null,
   "id": "d47aacd1-d620-48de-b46f-d0a0b2ec4a11",
   "metadata": {},
   "outputs": [],
   "source": []
  },
  {
   "cell_type": "code",
   "execution_count": null,
   "id": "3aab082f-9cac-4105-8f95-6040a7c47df7",
   "metadata": {},
   "outputs": [],
   "source": []
  },
  {
   "cell_type": "code",
   "execution_count": null,
   "id": "d9ba3736-dd86-455d-96e4-5c730d67b556",
   "metadata": {},
   "outputs": [],
   "source": [
    "\n"
   ]
  },
  {
   "cell_type": "code",
   "execution_count": null,
   "id": "1f4afb5b-5107-47d5-b947-6bf7259425a4",
   "metadata": {},
   "outputs": [],
   "source": []
  },
  {
   "cell_type": "code",
   "execution_count": null,
   "id": "8746a0c5-f230-4a4d-b08f-1b54cef916ce",
   "metadata": {},
   "outputs": [],
   "source": []
  }
 ],
 "metadata": {
  "kernelspec": {
   "display_name": "Python 3 (ipykernel)",
   "language": "python",
   "name": "python3"
  },
  "language_info": {
   "codemirror_mode": {
    "name": "ipython",
    "version": 3
   },
   "file_extension": ".py",
   "mimetype": "text/x-python",
   "name": "python",
   "nbconvert_exporter": "python",
   "pygments_lexer": "ipython3",
   "version": "3.9.4"
  }
 },
 "nbformat": 4,
 "nbformat_minor": 5
}
