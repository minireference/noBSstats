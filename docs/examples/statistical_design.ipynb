{
 "cells": [
  {
   "cell_type": "markdown",
   "id": "3fe973c0-28ff-426d-a2b0-71469321184e",
   "metadata": {},
   "source": [
    "# Statistical design examples\n",
    "\n",
    "This notebooks shows various examples of statistical design calculations,\n",
    "which involve the trade-offs between four parameters of a scientific study:\n",
    "- Type I error rate $\\alpha$\n",
    "- Type II error rate $\\beta$\n",
    "- The unknown effect size we want to detect $\\Delta$\n",
    "- Sample size $n$\n"
   ]
  },
  {
   "cell_type": "markdown",
   "id": "5a84fd5c-2320-4b48-b5a0-0a6ef3f53ae7",
   "metadata": {},
   "source": [
    "## One-sample test\n",
    "- z-approx\n",
    "\n",
    "## Two-sample tests\n",
    "\n",
    "- z-approx formula\n",
    "- \n",
    "\n",
    "\n",
    "## ANOVA\n",
    "\n",
    "\n",
    "## Chi-square tests?\n",
    "\n",
    "\n",
    "## Linear regression?\n",
    "\n"
   ]
  }
 ],
 "metadata": {
  "kernelspec": {
   "display_name": "Python 3 (ipykernel)",
   "language": "python",
   "name": "python3"
  },
  "language_info": {
   "codemirror_mode": {
    "name": "ipython",
    "version": 3
   },
   "file_extension": ".py",
   "mimetype": "text/x-python",
   "name": "python",
   "nbconvert_exporter": "python",
   "pygments_lexer": "ipython3",
   "version": "3.9.4"
  }
 },
 "nbformat": 4,
 "nbformat_minor": 5
}
