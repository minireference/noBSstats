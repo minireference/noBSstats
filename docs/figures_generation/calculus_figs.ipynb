{
 "cells": [
  {
   "cell_type": "markdown",
   "id": "149081a0-1441-4a29-9421-a4730c8bcb2a",
   "metadata": {},
   "source": [
    "# Calculus figures generation\n",
    "\n",
    "This notebook contains all the figure generation code for [Section 2.4 Calculus prerequisites]() in the **No Bullshit Guide to Statistics**.\n",
    "\n",
    "(see formulas and definitions in the book)"
   ]
  },
  {
   "cell_type": "markdown",
   "id": "07f4097e-b701-449a-bb2e-0dbb9c50780c",
   "metadata": {},
   "source": [
    " "
   ]
  },
  {
   "cell_type": "markdown",
   "id": "f89abb55-f6ae-4a32-93b3-f19bc47ffede",
   "metadata": {
    "tags": []
   },
   "source": [
    "#### Notebook setup\n",
    "\n",
    "We'll start by importing the Python modules we'll need for this notebook."
   ]
  },
  {
   "cell_type": "code",
   "execution_count": 1,
   "id": "4c7427f4-8f2c-47c0-bd34-cf02b43b0aa6",
   "metadata": {},
   "outputs": [],
   "source": [
    "# load Python modules\n",
    "import numpy as np\n",
    "import pandas as pd\n",
    "import seaborn as sns\n",
    "import matplotlib.pyplot as plt"
   ]
  },
  {
   "cell_type": "code",
   "execution_count": 2,
   "id": "5657120e-34af-484b-a424-0101aa18b73e",
   "metadata": {},
   "outputs": [],
   "source": [
    "# Figures setup\n",
    "sns.set_theme(\n",
    "    context=\"paper\",\n",
    "    style=\"whitegrid\",\n",
    "    palette=\"colorblind\",\n",
    "    rc={'figure.figsize': (7,4)},\n",
    ")\n",
    "\n",
    "# %config InlineBackend.figure_format = 'retina'"
   ]
  },
  {
   "cell_type": "code",
   "execution_count": 3,
   "id": "8a392f8f-66e1-41b7-ad18-1c1b14b78333",
   "metadata": {},
   "outputs": [],
   "source": [
    "# set random seed for repeatability\n",
    "np.random.seed(3)"
   ]
  },
  {
   "cell_type": "markdown",
   "id": "24abb8c1-7899-40a3-a836-da5a58ffc606",
   "metadata": {
    "tags": []
   },
   "source": []
  },
  {
   "cell_type": "markdown",
   "id": "959254cc-73aa-4dda-822b-fc8a807f216f",
   "metadata": {},
   "source": [
    "### Sets\n"
   ]
  },
  {
   "cell_type": "code",
   "execution_count": 13,
   "id": "039751b6-6ebc-4489-8509-0e3106feb403",
   "metadata": {},
   "outputs": [
    {
     "name": "stdout",
     "output_type": "stream",
     "text": [
      "S ∪ T = {1, 2, 3, 4, 5, 6}\n",
      "S ∩ T = {3}\n",
      "S \\ T = {1, 2}\n"
     ]
    }
   ],
   "source": [
    "S = {1, 2, 3}\n",
    "T = {3, 4, 5, 6}\n",
    "\n",
    "print(\"S ∪ T =\", S.union(T))\n",
    "print(\"S ∩ T =\", S.intersection(T))\n",
    "print(\"S \\ T =\", S.difference(T))"
   ]
  },
  {
   "cell_type": "code",
   "execution_count": null,
   "id": "b0fe2010-88cf-4a39-88ea-08fb30dfa8a5",
   "metadata": {},
   "outputs": [],
   "source": []
  },
  {
   "cell_type": "markdown",
   "id": "633c98b9-ba34-426b-bb0a-e3fb65bb7667",
   "metadata": {},
   "source": [
    "### Functions"
   ]
  },
  {
   "cell_type": "code",
   "execution_count": 103,
   "id": "05e17703-352d-4dba-af89-800b9e6612df",
   "metadata": {},
   "outputs": [
    {
     "data": {
      "text/plain": [
       "16"
      ]
     },
     "execution_count": 103,
     "metadata": {},
     "output_type": "execute_result"
    }
   ],
   "source": [
    "# define the function g that takes input x\n",
    "def g(x):\n",
    "    return x**2\n",
    "\n",
    "# calling the function g on input x=4\n",
    "g(4)"
   ]
  },
  {
   "cell_type": "markdown",
   "id": "1878f876-48cc-4e3d-90da-82751d66e0be",
   "metadata": {},
   "source": [
    "#### Plotting the graph of the function $g(x)$"
   ]
  },
  {
   "cell_type": "code",
   "execution_count": 104,
   "id": "6477e5da-cedd-44dd-931d-69c67fdb8065",
   "metadata": {},
   "outputs": [
    {
     "data": {
      "text/plain": [
       "<AxesSubplot:>"
      ]
     },
     "execution_count": 104,
     "metadata": {},
     "output_type": "execute_result"
    },
    {
     "data": {
      "image/png": "[encoded data removed]",
      "text/plain": [
       "<Figure size 504x288 with 1 Axes>"
      ]
     },
     "metadata": {},
     "output_type": "display_data"
    }
   ],
   "source": [
    "import numpy as np\n",
    "import seaborn as sns\n",
    "\n",
    "xs = np.linspace(0, 10, 100)\n",
    "gxs = g(xs)\n",
    "\n",
    "sns.lineplot(x=xs, y=gxs, label=\"Graph of the function g(x)\")"
   ]
  },
  {
   "cell_type": "code",
   "execution_count": 112,
   "id": "2e9be25c-b23f-4804-98d3-440b34e0f101",
   "metadata": {
    "tags": []
   },
   "outputs": [],
   "source": [
    "# import matplotlib.pyplot as plt\n",
    "# filename = \"figures/graph_of_function_g_eq_x.pdf\"\n",
    "\n",
    "# with plt.rc_context({\"figure.figsize\":(4,2.7)}):\n",
    "#     ax = sns.lineplot(x=xs, y=gxs, label=\"Graph of the function g(x)\")\n",
    "#     ax.figure.tight_layout()\n",
    "#     ax.set_xlabel('x')\n",
    "#     ax.set_ylabel('g(x)')\n",
    "#     ax.figure.savefig(filename, dpi=300, bbox_inches=\"tight\", pad_inches=0)"
   ]
  },
  {
   "cell_type": "code",
   "execution_count": 17,
   "id": "6090c612-b08e-43f7-ae3d-d760615c1608",
   "metadata": {},
   "outputs": [
    {
     "data": {
      "text/plain": [
       "2.0"
      ]
     },
     "execution_count": 17,
     "metadata": {},
     "output_type": "execute_result"
    }
   ],
   "source": [
    "import numpy as np\n",
    "\n",
    "np.sqrt(4)"
   ]
  },
  {
   "cell_type": "code",
   "execution_count": 18,
   "id": "ee3996af-a947-4ead-b661-c41b25856997",
   "metadata": {},
   "outputs": [
    {
     "data": {
      "text/plain": [
       "1.3862943611198906"
      ]
     },
     "execution_count": 18,
     "metadata": {},
     "output_type": "execute_result"
    }
   ],
   "source": [
    "np.log(4)"
   ]
  },
  {
   "cell_type": "markdown",
   "id": "0af2613a-6927-4e0a-912c-211dc1bc515b",
   "metadata": {},
   "source": [
    "Examples of function-followed-by-inverse-function calculations:"
   ]
  },
  {
   "cell_type": "code",
   "execution_count": 19,
   "id": "24c8c1b6-fa0a-4db7-b1f9-0d9e0b51c66e",
   "metadata": {},
   "outputs": [
    {
     "data": {
      "text/plain": [
       "4.0"
      ]
     },
     "execution_count": 19,
     "metadata": {},
     "output_type": "execute_result"
    }
   ],
   "source": [
    "np.sqrt(4)**2"
   ]
  },
  {
   "cell_type": "code",
   "execution_count": 20,
   "id": "62802ac8-2a8d-403b-8153-b2867d71ef05",
   "metadata": {},
   "outputs": [
    {
     "data": {
      "text/plain": [
       "4.0"
      ]
     },
     "execution_count": 20,
     "metadata": {},
     "output_type": "execute_result"
    }
   ],
   "source": [
    "np.exp(np.log(4))"
   ]
  },
  {
   "cell_type": "markdown",
   "id": "9beb4963-2140-43ce-a085-d39b0d43d0d8",
   "metadata": {
    "tags": []
   },
   "source": [
    "### Computing integrals geometrically\n",
    "\n",
    "\n",
    "See Figure 2.15 in the book that shows the integral under $f(x) = 3$ between $a=0$ and $b=5$.\n",
    "\n",
    "\n",
    "\n",
    "See also Figure 2.16 that shows the integral under $g(x) = x$ between $a=0$ and $b=5$.\n"
   ]
  },
  {
   "cell_type": "code",
   "execution_count": null,
   "id": "9a0bf0ed-553f-4ff2-98c0-0dbc18a27791",
   "metadata": {},
   "outputs": [],
   "source": []
  },
  {
   "cell_type": "markdown",
   "id": "aba00776-e6ec-4173-831b-bd4f635cc9a2",
   "metadata": {
    "tags": [],
    "toc-hr-collapsed": true
   },
   "source": [
    "### Computing integrals numerically using SciPy `integrate` methods\n",
    "\n",
    "There are numerous ways to compute integrals in Python. \n",
    "Computing integrals \"numerically\" means we're splitting the region of integration into thousands or millions of sub-regions, computing the areas of these sub-regions, and adding up the result.\n",
    "\n",
    "We'll now show some examples using two of the functions form the module `sympy.integrate`:\n",
    "- `quad(f,a,b)`: high-level function for computing areas (quadratures)\n",
    "- `trapz(ys,xs)`: low-level function for computing integral using trapezoid approximation\n",
    "\n"
   ]
  },
  {
   "cell_type": "markdown",
   "id": "0401a2d8-3f6f-4a17-8f29-f19642fe51e7",
   "metadata": {},
   "source": [
    "We'll start with the `quad` function."
   ]
  },
  {
   "cell_type": "code",
   "execution_count": 21,
   "id": "bea0933a-2e67-4881-a717-b027f24bc78a",
   "metadata": {},
   "outputs": [],
   "source": [
    "from scipy.integrate import quad"
   ]
  },
  {
   "cell_type": "code",
   "execution_count": 22,
   "id": "8ee00bd0-8eda-4f63-ad73-7e6ea1322cc4",
   "metadata": {},
   "outputs": [
    {
     "data": {
      "text/plain": [
       "3"
      ]
     },
     "execution_count": 22,
     "metadata": {},
     "output_type": "execute_result"
    }
   ],
   "source": [
    "# define the constant function f(x) = c\n",
    "def f(x):\n",
    "    c = 3\n",
    "    return c\n",
    "\n",
    "# call the funtion f with input x=333\n",
    "f(333)"
   ]
  },
  {
   "cell_type": "code",
   "execution_count": 23,
   "id": "d2c74988-53cb-402e-9a42-c8f7b02fe1be",
   "metadata": {},
   "outputs": [
    {
     "data": {
      "text/plain": [
       "(15.0, 1.6653345369377348e-13)"
      ]
     },
     "execution_count": 23,
     "metadata": {},
     "output_type": "execute_result"
    }
   ],
   "source": [
    "quad(f, 0, 5)"
   ]
  },
  {
   "cell_type": "markdown",
   "id": "e6622542-34cc-4582-ac48-dae43f68009d",
   "metadata": {},
   "source": [
    "The function `quad` returns two numbers as output: the value of the integral and a precision parameter.\n",
    "In output of the code, tells us the value of the integral is $\\int_0^5 3 dx$ is `15.0` and guarantees the accuracy of this value up to an error of $10^{-13}$.\n",
    "\n",
    "Since we're usually only interested in the value of the integral, we often select the first output of `quad` so you'll see the code like `quad(...)[0]` in all the code examples below."
   ]
  },
  {
   "cell_type": "code",
   "execution_count": 24,
   "id": "66381b03-759e-4320-b573-4639f07edfec",
   "metadata": {},
   "outputs": [
    {
     "data": {
      "text/plain": [
       "15.0"
      ]
     },
     "execution_count": 24,
     "metadata": {},
     "output_type": "execute_result"
    }
   ],
   "source": [
    "quad(f, 0, 5)[0]"
   ]
  },
  {
   "cell_type": "code",
   "execution_count": null,
   "id": "4357453d-b3f4-4f87-814a-5f1f13728534",
   "metadata": {},
   "outputs": [],
   "source": [
    "\n"
   ]
  },
  {
   "cell_type": "code",
   "execution_count": null,
   "id": "f92bdbba-42b3-4166-a1d0-2e4f3fad9e71",
   "metadata": {},
   "outputs": [],
   "source": []
  },
  {
   "cell_type": "code",
   "execution_count": 25,
   "id": "c21b6110-9b81-45d3-9579-e931eacb8847",
   "metadata": {},
   "outputs": [
    {
     "data": {
      "text/plain": [
       "10"
      ]
     },
     "execution_count": 25,
     "metadata": {},
     "output_type": "execute_result"
    }
   ],
   "source": [
    "# define the function g(x) = x (line with slope 1)\n",
    "def g(x):\n",
    "    return x\n",
    "\n",
    "# call the funtion g with input x=10\n",
    "g(10)"
   ]
  },
  {
   "cell_type": "code",
   "execution_count": 26,
   "id": "3c557b96-6a63-4b2d-99d9-f7fa8af24558",
   "metadata": {},
   "outputs": [
    {
     "data": {
      "text/plain": [
       "12.5"
      ]
     },
     "execution_count": 26,
     "metadata": {},
     "output_type": "execute_result"
    }
   ],
   "source": [
    "quad(g, 0, 5)[0]"
   ]
  },
  {
   "cell_type": "code",
   "execution_count": null,
   "id": "8eaa1155-5d1c-495a-a91d-99a319666db6",
   "metadata": {},
   "outputs": [],
   "source": []
  },
  {
   "cell_type": "markdown",
   "id": "18f50a12-ad7d-44c7-ad69-320bd8b2866d",
   "metadata": {},
   "source": [
    "#### Trapezoid approximation\n",
    "\n",
    "Let's now use another approach based on the trapezoid approximation.\n",
    "\n",
    "We must build array of inputs $x$ and outputs $g(x)$ of the function,\n",
    "then pass it to `trapz` so it carries out the calculation."
   ]
  },
  {
   "cell_type": "code",
   "execution_count": 27,
   "id": "58463e9f-55ab-45c5-9f07-05855d158fe6",
   "metadata": {},
   "outputs": [
    {
     "data": {
      "image/png": "[encoded data removed]",
      "text/plain": [
       "<Figure size 504x216 with 1 Axes>"
      ]
     },
     "metadata": {},
     "output_type": "display_data"
    }
   ],
   "source": [
    "filename = \"figures/plot_of_trapezoid_under_chi2_df_eq_8.pdf\"\n",
    "\n",
    "import matplotlib.pyplot as plt\n",
    "from scipy.stats import chi2\n",
    "\n",
    "n = 10\n",
    "\n",
    "X2 = chi2(df=8)\n",
    "f = X2.pdf\n",
    "\n",
    "a = 0\n",
    "b = 25\n",
    "\n",
    "\n",
    "with plt.rc_context({\"figure.figsize\":(7,3)}):\n",
    "\n",
    "    # x and y values for the trapezoid rule\n",
    "    xs = np.linspace(a, b, n+1)\n",
    "    ys = f(xs)\n",
    "\n",
    "    # X and Y values for plotting y=f(x)\n",
    "    X = np.linspace(a, b, 10000)\n",
    "    Y = f(X)\n",
    "    plt.plot(X,Y)\n",
    "    plt.xticks(range(0,b-1))\n",
    "    ax = plt.gca()\n",
    "    # ax.set_title('Approximation to the area under $f(x)$ using n = {} trapezoids.'.format(n), y=0, pad=-30)\n",
    "\n",
    "\n",
    "    for i in range(n):\n",
    "        xcoords = [xs[i], xs[i],    xs[i+1],    xs[i+1] ]\n",
    "        ycoords = [0,     f(xs[i]), f(xs[i+1]), 0      ]\n",
    "        alpha = 0.2 if i%2==1 else 0.3\n",
    "        plt.fill(xcoords, ycoords, 'b', edgecolor='b', alpha=alpha)\n",
    "        if i == 2:\n",
    "            plt.plot(xs[i],   0,          marker=\"o\", markersize=4, markeredgecolor=\"b\", markerfacecolor=\"b\")\n",
    "            plt.text(xs[i],   0,          '$(x_i, 0)$', ha='right', va='top')\n",
    "            plt.plot(xs[i],   f(xs[i]),    marker=\"o\", markersize=4, markeredgecolor=\"b\", markerfacecolor=\"b\")\n",
    "            plt.text(xs[i],   f(xs[i]),    '$(x_i, f(x_i))$', ha='right')\n",
    "            plt.plot(xs[i+1], 0,          marker=\"o\", markersize=4, markeredgecolor=\"b\", markerfacecolor=\"b\")\n",
    "            plt.text(xs[i+1], 0,          '$(x_i+\\Delta x, 0)$', ha='left', va='top')\n",
    "            plt.plot(xs[i+1], f(xs[i+1]),  marker=\"o\", markersize=4, markeredgecolor=\"b\", markerfacecolor=\"b\")\n",
    "            plt.text(xs[i+1], f(xs[i+1]), '$(x_i+\\Delta x, f(x_i+\\Delta x))$')\n",
    "\n",
    "\n",
    "    ax.figure.tight_layout()\n",
    "    ax.figure.savefig(filename, dpi=300, bbox_inches=\"tight\", pad_inches=0)\n"
   ]
  },
  {
   "cell_type": "code",
   "execution_count": 28,
   "id": "ab4de73f-ebc7-44a7-923a-a045f1233e86",
   "metadata": {},
   "outputs": [],
   "source": [
    "from scipy.integrate import trapz"
   ]
  },
  {
   "cell_type": "code",
   "execution_count": 29,
   "id": "2a591424-a130-4305-9131-01d3127c12ec",
   "metadata": {},
   "outputs": [
    {
     "data": {
      "text/plain": [
       "12.5"
      ]
     },
     "execution_count": 29,
     "metadata": {},
     "output_type": "execute_result"
    }
   ],
   "source": [
    "m = 1000\n",
    "xs = np.linspace(0, 5, m)\n",
    "gxs = g(xs)\n",
    "\n",
    "trapz(gxs, xs)"
   ]
  },
  {
   "cell_type": "code",
   "execution_count": null,
   "id": "f6dcbb35-fc9d-43d2-ace9-78ae72fa24a8",
   "metadata": {},
   "outputs": [],
   "source": []
  },
  {
   "cell_type": "code",
   "execution_count": null,
   "id": "9aee1a57-5294-42e1-a800-4f669e6bd4cd",
   "metadata": {},
   "outputs": [],
   "source": []
  },
  {
   "cell_type": "markdown",
   "id": "bc43a9f8-2e89-493f-aa38-8dec15b37a17",
   "metadata": {
    "toc-hr-collapsed": true
   },
   "source": [
    "### Computing integrals symbolically using SymPy `integrate`"
   ]
  },
  {
   "cell_type": "code",
   "execution_count": 30,
   "id": "e0b21f09-3831-496f-9d40-159eed0f9d77",
   "metadata": {},
   "outputs": [],
   "source": [
    "from sympy import symbols\n",
    "\n",
    "# define symbolic variables\n",
    "x, a, b, c = symbols('x a b c')"
   ]
  },
  {
   "cell_type": "markdown",
   "id": "02da7cad-e7e7-45cb-87ca-4095879fddc2",
   "metadata": {},
   "source": [
    "The `symbols` function creates SymPy symbolic variables.\n",
    "Unlike ordinary Python variables that hold a particular value,\n",
    "SymPy variables act as placeholders that can take on any value.\n",
    "\n",
    "We can use the symbolic variables to create expressions,\n",
    "just like we do with math variables in pen-and-paper calculations."
   ]
  },
  {
   "cell_type": "markdown",
   "id": "5db28678-a672-4d2c-aba6-5755e5414a52",
   "metadata": {},
   "source": [
    "#### Constant function $f(x)=c$"
   ]
  },
  {
   "cell_type": "code",
   "execution_count": 31,
   "id": "cfd72bd7-9b07-4c9a-baa0-1e18ce3ba2ac",
   "metadata": {},
   "outputs": [
    {
     "data": {
      "text/latex": [
       "$\\displaystyle c$"
      ],
      "text/plain": [
       "c"
      ]
     },
     "execution_count": 31,
     "metadata": {},
     "output_type": "execute_result"
    }
   ],
   "source": [
    "fx = c\n",
    "fx"
   ]
  },
  {
   "cell_type": "markdown",
   "id": "22aa7b78-6344-4665-bd2d-0354369c6cfa",
   "metadata": {},
   "source": [
    "We'll use the SymPy function `integrate` for computing integrals.\n",
    "We call this function\n",
    "by passing in the expression we want to integrate as the first argument.\n",
    "The second argument is a triple $(x,a,b)$,\n",
    "which specifies the variable of integration $x$,\n",
    "the lower limit of integration $a$,\n",
    "and the upper limit of integration $b$."
   ]
  },
  {
   "cell_type": "code",
   "execution_count": 32,
   "id": "689ed82b-8a1d-47e3-9844-209e82de36c7",
   "metadata": {},
   "outputs": [
    {
     "data": {
      "text/latex": [
       "$\\displaystyle - a c + b c$"
      ],
      "text/plain": [
       "-a*c + b*c"
      ]
     },
     "execution_count": 32,
     "metadata": {},
     "output_type": "execute_result"
    }
   ],
   "source": [
    "from sympy import integrate\n",
    "\n",
    "integrate(fx, (x,a,b))  # = A_f(a,b)"
   ]
  },
  {
   "cell_type": "markdown",
   "id": "884abdd1-a74c-4ce1-b734-4624c770fa5f",
   "metadata": {},
   "source": [
    "The answer $c\\cdot (b-a)$ is the general expression for calculating the area under $f(x)=c$,\n",
    "for between any starting point $x=a$ and end point $x=b$.\n",
    "Geometrically, this is just a height-times-width formula for the area of a rectangle.\n",
    "\n",
    "To compute the specific integral between $a=0$ and $b=5$ under $f(x)=3$,\n",
    "we use the `subs` (substitute) method,\n",
    "passing in a Python dictionary of the values we want to \"plug\" into the general expression."
   ]
  },
  {
   "cell_type": "code",
   "execution_count": 33,
   "id": "9f997010-d299-4769-9800-b64ff355c834",
   "metadata": {},
   "outputs": [
    {
     "data": {
      "text/latex": [
       "$\\displaystyle 15$"
      ],
      "text/plain": [
       "15"
      ]
     },
     "execution_count": 33,
     "metadata": {},
     "output_type": "execute_result"
    }
   ],
   "source": [
    "integrate(fx, (x,a,b)).subs({c:3, a:0, b:5})"
   ]
  },
  {
   "cell_type": "markdown",
   "id": "b5075505-ed70-4f51-9cb0-a8c8f2231a8f",
   "metadata": {},
   "source": [
    "The integral function $F_0(b) = \\int_0^b f(x) dx$ is obtained as follows."
   ]
  },
  {
   "cell_type": "code",
   "execution_count": 34,
   "id": "648b9faa-c1b1-4402-ac1a-f9ddae5c304f",
   "metadata": {},
   "outputs": [
    {
     "data": {
      "text/latex": [
       "$\\displaystyle b c$"
      ],
      "text/plain": [
       "b*c"
      ]
     },
     "execution_count": 34,
     "metadata": {},
     "output_type": "execute_result"
    }
   ],
   "source": [
    "integrate(fx, (x,0,b))  # = F_0(b)"
   ]
  },
  {
   "cell_type": "code",
   "execution_count": null,
   "id": "335c1d81-f619-47f1-a487-30b82257c7bd",
   "metadata": {},
   "outputs": [],
   "source": []
  },
  {
   "cell_type": "markdown",
   "id": "26dd5de5-a6f8-4611-a025-c32f06128953",
   "metadata": {},
   "source": [
    "#### Line $g(x)=x$"
   ]
  },
  {
   "cell_type": "code",
   "execution_count": 35,
   "id": "ea9bf8bb-7813-44c8-8c49-19461af1fcd7",
   "metadata": {},
   "outputs": [
    {
     "data": {
      "text/latex": [
       "$\\displaystyle x$"
      ],
      "text/plain": [
       "x"
      ]
     },
     "execution_count": 35,
     "metadata": {},
     "output_type": "execute_result"
    }
   ],
   "source": [
    "gx = 1*x\n",
    "gx"
   ]
  },
  {
   "cell_type": "code",
   "execution_count": 36,
   "id": "33c79bb8-cac8-48e5-9c06-6d1d4fb0fe8a",
   "metadata": {},
   "outputs": [
    {
     "data": {
      "text/latex": [
       "$\\displaystyle - \\frac{a^{2}}{2} + \\frac{b^{2}}{2}$"
      ],
      "text/plain": [
       "-a**2/2 + b**2/2"
      ]
     },
     "execution_count": 36,
     "metadata": {},
     "output_type": "execute_result"
    }
   ],
   "source": [
    "integrate(gx, (x,a,b))  # = A_g(a,b)"
   ]
  },
  {
   "cell_type": "code",
   "execution_count": 37,
   "id": "246cea98-0062-42ed-bec4-40544bf39241",
   "metadata": {},
   "outputs": [
    {
     "data": {
      "text/latex": [
       "$\\displaystyle - \\frac{a^{2}}{2} + \\frac{b^{2}}{2}$"
      ],
      "text/plain": [
       "-a**2/2 + b**2/2"
      ]
     },
     "execution_count": 37,
     "metadata": {},
     "output_type": "execute_result"
    }
   ],
   "source": [
    "integrate(gx, (x,a,b))"
   ]
  },
  {
   "cell_type": "code",
   "execution_count": 38,
   "id": "3526c414-b234-4db7-ac79-eb10866a4ee0",
   "metadata": {},
   "outputs": [
    {
     "data": {
      "text/latex": [
       "$\\displaystyle \\frac{25}{2}$"
      ],
      "text/plain": [
       "25/2"
      ]
     },
     "execution_count": 38,
     "metadata": {},
     "output_type": "execute_result"
    }
   ],
   "source": [
    "integrate(gx, (x,a,b)).subs({a:0, b:5})"
   ]
  },
  {
   "cell_type": "code",
   "execution_count": 39,
   "id": "99fe1bd8-9c3a-424f-81db-71008f7aba28",
   "metadata": {},
   "outputs": [
    {
     "data": {
      "text/latex": [
       "$\\displaystyle 12.5$"
      ],
      "text/plain": [
       "12.5000000000000"
      ]
     },
     "execution_count": 39,
     "metadata": {},
     "output_type": "execute_result"
    }
   ],
   "source": [
    "integrate(gx, (x,a,b)).subs({m:3, a:0, b:5}).evalf()"
   ]
  },
  {
   "cell_type": "markdown",
   "id": "27dc7f9f-efcd-41d8-b292-8961a43e4cb9",
   "metadata": {},
   "source": [
    "Bonus: the integral function $G_0(b) = \\int_0^b g(x) dx$ is obtained as follows."
   ]
  },
  {
   "cell_type": "code",
   "execution_count": 40,
   "id": "fd51db7d-ee7f-4a65-bc77-9ffe37658b6d",
   "metadata": {},
   "outputs": [
    {
     "data": {
      "text/latex": [
       "$\\displaystyle \\frac{b^{2}}{2}$"
      ],
      "text/plain": [
       "b**2/2"
      ]
     },
     "execution_count": 40,
     "metadata": {},
     "output_type": "execute_result"
    }
   ],
   "source": [
    "integrate(gx, (x,0,b))  # = G_0(b)"
   ]
  },
  {
   "cell_type": "code",
   "execution_count": null,
   "id": "ab55d98e-9e84-44e4-ba51-0ad442877e82",
   "metadata": {},
   "outputs": [],
   "source": []
  },
  {
   "cell_type": "code",
   "execution_count": null,
   "id": "a9084dfa-8ebf-4fec-bc23-0c2bfff98ebc",
   "metadata": {},
   "outputs": [],
   "source": []
  },
  {
   "cell_type": "code",
   "execution_count": null,
   "id": "70de5eb9-cebd-4661-975c-31d16f9f3dbe",
   "metadata": {},
   "outputs": [],
   "source": []
  }
 ],
 "metadata": {
  "kernelspec": {
   "display_name": "Python 3 (ipykernel)",
   "language": "python",
   "name": "python3"
  },
  "language_info": {
   "codemirror_mode": {
    "name": "ipython",
    "version": 3
   },
   "file_extension": ".py",
   "mimetype": "text/x-python",
   "name": "python",
   "nbconvert_exporter": "python",
   "pygments_lexer": "ipython3",
   "version": "3.9.4"
  }
 },
 "nbformat": 4,
 "nbformat_minor": 5
}
