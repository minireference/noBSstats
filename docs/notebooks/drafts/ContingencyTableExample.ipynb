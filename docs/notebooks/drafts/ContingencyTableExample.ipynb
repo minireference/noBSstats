{
 "cells": [
  {
   "cell_type": "code",
   "execution_count": 1,
   "metadata": {
    "colab": {
     "base_uri": "https://localhost:8080/"
    },
    "executionInfo": {
     "elapsed": 3017,
     "status": "ok",
     "timestamp": 1617487288173,
     "user": {
      "displayName": "Ivan Savov",
      "photoUrl": "https://lh3.googleusercontent.com/a-/AOh14GgM13MuJiia2gUK23ZS4gJbjbYEAe1_3dxb5acpnQ=s64",
      "userId": "13320182563968762712"
     },
     "user_tz": 240
    },
    "id": "xjEo1xL_v8KD",
    "outputId": "d3b989e8-5b33-416a-908f-aee92ca7a789"
   },
   "outputs": [
    {
     "name": "stderr",
     "output_type": "stream",
     "text": [
      "/usr/local/lib/python3.7/dist-packages/statsmodels/tools/_testing.py:19: FutureWarning: pandas.util.testing is deprecated. Use the functions in the public API at pandas.testing instead.\n",
      "  import pandas.util.testing as tm\n"
     ]
    }
   ],
   "source": [
    "import matplotlib.pyplot as plt\n",
    "import numpy as np\n",
    "import scipy\n",
    "import pandas as pd\n",
    "import statsmodels.api as sm\n",
    "import statsmodels.formula.api as smf"
   ]
  },
  {
   "cell_type": "code",
   "execution_count": 7,
   "metadata": {
    "executionInfo": {
     "elapsed": 401,
     "status": "ok",
     "timestamp": 1617487364608,
     "user": {
      "displayName": "Ivan Savov",
      "photoUrl": "https://lh3.googleusercontent.com/a-/AOh14GgM13MuJiia2gUK23ZS4gJbjbYEAe1_3dxb5acpnQ=s64",
      "userId": "13320182563968762712"
     },
     "user_tz": 240
    },
    "id": "SFvxkzVUwTgT"
   },
   "outputs": [],
   "source": [
    "dataset = sm.datasets.sunspots.data.load_pandas()"
   ]
  },
  {
   "cell_type": "code",
   "execution_count": 8,
   "metadata": {
    "colab": {
     "base_uri": "https://localhost:8080/",
     "height": 424
    },
    "executionInfo": {
     "elapsed": 404,
     "status": "ok",
     "timestamp": 1617487370811,
     "user": {
      "displayName": "Ivan Savov",
      "photoUrl": "https://lh3.googleusercontent.com/a-/AOh14GgM13MuJiia2gUK23ZS4gJbjbYEAe1_3dxb5acpnQ=s64",
      "userId": "13320182563968762712"
     },
     "user_tz": 240
    },
    "id": "8dKyfK1Uwbds",
    "outputId": "b69c952b-575e-4ca0-8b21-fd610c27b810"
   },
   "outputs": [
    {
     "data": {
      "text/html": [
       "<div>\n",
       "<style scoped>\n",
       "    .dataframe tbody tr th:only-of-type {\n",
       "        vertical-align: middle;\n",
       "    }\n",
       "\n",
       "    .dataframe tbody tr th {\n",
       "        vertical-align: top;\n",
       "    }\n",
       "\n",
       "    .dataframe thead th {\n",
       "        text-align: right;\n",
       "    }\n",
       "</style>\n",
       "<table border=\"1\" class=\"dataframe\">\n",
       "  <thead>\n",
       "    <tr style=\"text-align: right;\">\n",
       "      <th></th>\n",
       "      <th>YEAR</th>\n",
       "      <th>SUNACTIVITY</th>\n",
       "    </tr>\n",
       "  </thead>\n",
       "  <tbody>\n",
       "    <tr>\n",
       "      <th>0</th>\n",
       "      <td>1700.0</td>\n",
       "      <td>5.0</td>\n",
       "    </tr>\n",
       "    <tr>\n",
       "      <th>1</th>\n",
       "      <td>1701.0</td>\n",
       "      <td>11.0</td>\n",
       "    </tr>\n",
       "    <tr>\n",
       "      <th>2</th>\n",
       "      <td>1702.0</td>\n",
       "      <td>16.0</td>\n",
       "    </tr>\n",
       "    <tr>\n",
       "      <th>3</th>\n",
       "      <td>1703.0</td>\n",
       "      <td>23.0</td>\n",
       "    </tr>\n",
       "    <tr>\n",
       "      <th>4</th>\n",
       "      <td>1704.0</td>\n",
       "      <td>36.0</td>\n",
       "    </tr>\n",
       "    <tr>\n",
       "      <th>...</th>\n",
       "      <td>...</td>\n",
       "      <td>...</td>\n",
       "    </tr>\n",
       "    <tr>\n",
       "      <th>304</th>\n",
       "      <td>2004.0</td>\n",
       "      <td>40.4</td>\n",
       "    </tr>\n",
       "    <tr>\n",
       "      <th>305</th>\n",
       "      <td>2005.0</td>\n",
       "      <td>29.8</td>\n",
       "    </tr>\n",
       "    <tr>\n",
       "      <th>306</th>\n",
       "      <td>2006.0</td>\n",
       "      <td>15.2</td>\n",
       "    </tr>\n",
       "    <tr>\n",
       "      <th>307</th>\n",
       "      <td>2007.0</td>\n",
       "      <td>7.5</td>\n",
       "    </tr>\n",
       "    <tr>\n",
       "      <th>308</th>\n",
       "      <td>2008.0</td>\n",
       "      <td>2.9</td>\n",
       "    </tr>\n",
       "  </tbody>\n",
       "</table>\n",
       "<p>309 rows × 2 columns</p>\n",
       "</div>"
      ],
      "text/plain": [
       "       YEAR  SUNACTIVITY\n",
       "0    1700.0          5.0\n",
       "1    1701.0         11.0\n",
       "2    1702.0         16.0\n",
       "3    1703.0         23.0\n",
       "4    1704.0         36.0\n",
       "..      ...          ...\n",
       "304  2004.0         40.4\n",
       "305  2005.0         29.8\n",
       "306  2006.0         15.2\n",
       "307  2007.0          7.5\n",
       "308  2008.0          2.9\n",
       "\n",
       "[309 rows x 2 columns]"
      ]
     },
     "execution_count": 8,
     "metadata": {
      "tags": []
     },
     "output_type": "execute_result"
    }
   ],
   "source": [
    "dataset.data"
   ]
  },
  {
   "cell_type": "code",
   "execution_count": 12,
   "metadata": {
    "colab": {
     "base_uri": "https://localhost:8080/",
     "height": 284
    },
    "executionInfo": {
     "elapsed": 694,
     "status": "ok",
     "timestamp": 1617487465668,
     "user": {
      "displayName": "Ivan Savov",
      "photoUrl": "https://lh3.googleusercontent.com/a-/AOh14GgM13MuJiia2gUK23ZS4gJbjbYEAe1_3dxb5acpnQ=s64",
      "userId": "13320182563968762712"
     },
     "user_tz": 240
    },
    "id": "t3Ptc2tkwphx",
    "outputId": "1f97f687-6cdb-476f-dd3e-5265638c9240"
   },
   "outputs": [
    {
     "data": {
      "text/plain": [
       "[<matplotlib.lines.Line2D at 0x7f862db2f390>]"
      ]
     },
     "execution_count": 12,
     "metadata": {
      "tags": []
     },
     "output_type": "execute_result"
    },
    {
     "data": {
      "image/png": "[encoded data removed]",
      "text/plain": [
       "<Figure size 432x288 with 1 Axes>"
      ]
     },
     "metadata": {
      "needs_background": "light",
      "tags": []
     },
     "output_type": "display_data"
    }
   ],
   "source": [
    "df = dataset.data\n",
    "plt.plot(df['YEAR'], df[\"SUNACTIVITY\"])"
   ]
  },
  {
   "cell_type": "code",
   "execution_count": 23,
   "metadata": {
    "executionInfo": {
     "elapsed": 474,
     "status": "ok",
     "timestamp": 1617488462161,
     "user": {
      "displayName": "Ivan Savov",
      "photoUrl": "https://lh3.googleusercontent.com/a-/AOh14GgM13MuJiia2gUK23ZS4gJbjbYEAe1_3dxb5acpnQ=s64",
      "userId": "13320182563968762712"
     },
     "user_tz": 240
    },
    "id": "eqZJM6sHwzRP"
   },
   "outputs": [],
   "source": [
    "csdf = sm.datasets.china_smoking.data.load_pandas().data"
   ]
  },
  {
   "cell_type": "code",
   "execution_count": 24,
   "metadata": {
    "colab": {
     "base_uri": "https://localhost:8080/",
     "height": 352
    },
    "executionInfo": {
     "elapsed": 507,
     "status": "ok",
     "timestamp": 1617488462768,
     "user": {
      "displayName": "Ivan Savov",
      "photoUrl": "https://lh3.googleusercontent.com/a-/AOh14GgM13MuJiia2gUK23ZS4gJbjbYEAe1_3dxb5acpnQ=s64",
      "userId": "13320182563968762712"
     },
     "user_tz": 240
    },
    "id": "0dznzrTG0oQl",
    "outputId": "2788919c-2d0e-4928-8454-c1cbac4e75f9"
   },
   "outputs": [
    {
     "data": {
      "text/html": [
       "<div>\n",
       "<style scoped>\n",
       "    .dataframe tbody tr th:only-of-type {\n",
       "        vertical-align: middle;\n",
       "    }\n",
       "\n",
       "    .dataframe tbody tr th {\n",
       "        vertical-align: top;\n",
       "    }\n",
       "\n",
       "    .dataframe thead th {\n",
       "        text-align: right;\n",
       "    }\n",
       "</style>\n",
       "<table border=\"1\" class=\"dataframe\">\n",
       "  <thead>\n",
       "    <tr style=\"text-align: right;\">\n",
       "      <th></th>\n",
       "      <th>smoking_yes_cancer_yes</th>\n",
       "      <th>smoking_yes_cancer_no</th>\n",
       "      <th>smoking_no_cancer_yes</th>\n",
       "      <th>smoking_no_cancer_no</th>\n",
       "    </tr>\n",
       "    <tr>\n",
       "      <th>Location</th>\n",
       "      <th></th>\n",
       "      <th></th>\n",
       "      <th></th>\n",
       "      <th></th>\n",
       "    </tr>\n",
       "  </thead>\n",
       "  <tbody>\n",
       "    <tr>\n",
       "      <th>Beijing</th>\n",
       "      <td>126</td>\n",
       "      <td>100</td>\n",
       "      <td>35</td>\n",
       "      <td>61</td>\n",
       "    </tr>\n",
       "    <tr>\n",
       "      <th>Shanghai</th>\n",
       "      <td>908</td>\n",
       "      <td>688</td>\n",
       "      <td>497</td>\n",
       "      <td>807</td>\n",
       "    </tr>\n",
       "    <tr>\n",
       "      <th>Shenyang</th>\n",
       "      <td>913</td>\n",
       "      <td>747</td>\n",
       "      <td>336</td>\n",
       "      <td>598</td>\n",
       "    </tr>\n",
       "    <tr>\n",
       "      <th>Nanjng</th>\n",
       "      <td>235</td>\n",
       "      <td>172</td>\n",
       "      <td>58</td>\n",
       "      <td>121</td>\n",
       "    </tr>\n",
       "    <tr>\n",
       "      <th>Harbin</th>\n",
       "      <td>402</td>\n",
       "      <td>308</td>\n",
       "      <td>121</td>\n",
       "      <td>215</td>\n",
       "    </tr>\n",
       "    <tr>\n",
       "      <th>Zhengzhou</th>\n",
       "      <td>182</td>\n",
       "      <td>156</td>\n",
       "      <td>72</td>\n",
       "      <td>98</td>\n",
       "    </tr>\n",
       "    <tr>\n",
       "      <th>Taiyuan</th>\n",
       "      <td>60</td>\n",
       "      <td>99</td>\n",
       "      <td>11</td>\n",
       "      <td>43</td>\n",
       "    </tr>\n",
       "    <tr>\n",
       "      <th>Nanchang</th>\n",
       "      <td>104</td>\n",
       "      <td>89</td>\n",
       "      <td>21</td>\n",
       "      <td>36</td>\n",
       "    </tr>\n",
       "  </tbody>\n",
       "</table>\n",
       "</div>"
      ],
      "text/plain": [
       "           smoking_yes_cancer_yes  ...  smoking_no_cancer_no\n",
       "Location                           ...                      \n",
       "Beijing                       126  ...                    61\n",
       "Shanghai                      908  ...                   807\n",
       "Shenyang                      913  ...                   598\n",
       "Nanjng                        235  ...                   121\n",
       "Harbin                        402  ...                   215\n",
       "Zhengzhou                     182  ...                    98\n",
       "Taiyuan                        60  ...                    43\n",
       "Nanchang                      104  ...                    36\n",
       "\n",
       "[8 rows x 4 columns]"
      ]
     },
     "execution_count": 24,
     "metadata": {
      "tags": []
     },
     "output_type": "execute_result"
    }
   ],
   "source": [
    "csdf"
   ]
  },
  {
   "cell_type": "code",
   "execution_count": 30,
   "metadata": {
    "colab": {
     "base_uri": "https://localhost:8080/"
    },
    "executionInfo": {
     "elapsed": 405,
     "status": "ok",
     "timestamp": 1617488542829,
     "user": {
      "displayName": "Ivan Savov",
      "photoUrl": "https://lh3.googleusercontent.com/a-/AOh14GgM13MuJiia2gUK23ZS4gJbjbYEAe1_3dxb5acpnQ=s64",
      "userId": "13320182563968762712"
     },
     "user_tz": 240
    },
    "id": "tvslpzXr0pDa",
    "outputId": "80fbc78a-7c08-4672-8b47-a09bf48ea2ba"
   },
   "outputs": [
    {
     "data": {
      "text/plain": [
       "Index(['Beijing', 'Shanghai', 'Shenyang', 'Nanjng', 'Harbin', 'Zhengzhou',\n",
       "       'Taiyuan', 'Nanchang'],\n",
       "      dtype='object', name='Location')"
      ]
     },
     "execution_count": 30,
     "metadata": {
      "tags": []
     },
     "output_type": "execute_result"
    }
   ],
   "source": [
    "csdf.index"
   ]
  },
  {
   "cell_type": "code",
   "execution_count": 35,
   "metadata": {
    "colab": {
     "base_uri": "https://localhost:8080/"
    },
    "executionInfo": {
     "elapsed": 461,
     "status": "ok",
     "timestamp": 1617488614916,
     "user": {
      "displayName": "Ivan Savov",
      "photoUrl": "https://lh3.googleusercontent.com/a-/AOh14GgM13MuJiia2gUK23ZS4gJbjbYEAe1_3dxb5acpnQ=s64",
      "userId": "13320182563968762712"
     },
     "user_tz": 240
    },
    "id": "DQmjJbhk06e3",
    "outputId": "aa377a93-64dc-431c-b429-e4e293af45c7"
   },
   "outputs": [
    {
     "data": {
      "text/plain": [
       "['Beijing',\n",
       " 'Shanghai',\n",
       " 'Shenyang',\n",
       " 'Nanjng',\n",
       " 'Harbin',\n",
       " 'Zhengzhou',\n",
       " 'Taiyuan',\n",
       " 'Nanchang']"
      ]
     },
     "execution_count": 35,
     "metadata": {
      "tags": []
     },
     "output_type": "execute_result"
    }
   ],
   "source": [
    "list(csdf.index)"
   ]
  },
  {
   "cell_type": "code",
   "execution_count": 37,
   "metadata": {
    "colab": {
     "base_uri": "https://localhost:8080/"
    },
    "executionInfo": {
     "elapsed": 638,
     "status": "ok",
     "timestamp": 1617488726466,
     "user": {
      "displayName": "Ivan Savov",
      "photoUrl": "https://lh3.googleusercontent.com/a-/AOh14GgM13MuJiia2gUK23ZS4gJbjbYEAe1_3dxb5acpnQ=s64",
      "userId": "13320182563968762712"
     },
     "user_tz": 240
    },
    "id": "WZmh_zZC1NpZ",
    "outputId": "43c90d73-683a-4db2-bf6e-1a039867ad47"
   },
   "outputs": [
    {
     "data": {
      "text/plain": [
       "smoking_yes_cancer_yes    126\n",
       "smoking_yes_cancer_no     100\n",
       "smoking_no_cancer_yes      35\n",
       "smoking_no_cancer_no       61\n",
       "Name: Beijing, dtype: int64"
      ]
     },
     "execution_count": 37,
     "metadata": {
      "tags": []
     },
     "output_type": "execute_result"
    }
   ],
   "source": [
    "csdf.loc['Beijing']"
   ]
  },
  {
   "cell_type": "code",
   "execution_count": 38,
   "metadata": {
    "colab": {
     "base_uri": "https://localhost:8080/"
    },
    "executionInfo": {
     "elapsed": 486,
     "status": "ok",
     "timestamp": 1617488775616,
     "user": {
      "displayName": "Ivan Savov",
      "photoUrl": "https://lh3.googleusercontent.com/a-/AOh14GgM13MuJiia2gUK23ZS4gJbjbYEAe1_3dxb5acpnQ=s64",
      "userId": "13320182563968762712"
     },
     "user_tz": 240
    },
    "id": "vtPKQQby1ybI",
    "outputId": "e1dc7deb-b838-4294-9568-012bc187b6e9"
   },
   "outputs": [
    {
     "data": {
      "text/plain": [
       "smoking_yes_cancer_yes    126\n",
       "smoking_yes_cancer_no     100\n",
       "smoking_no_cancer_yes      35\n",
       "smoking_no_cancer_no       61\n",
       "Name: Beijing, dtype: int64"
      ]
     },
     "execution_count": 38,
     "metadata": {
      "tags": []
     },
     "output_type": "execute_result"
    }
   ],
   "source": [
    "csdf.iloc[0]"
   ]
  },
  {
   "cell_type": "code",
   "execution_count": 40,
   "metadata": {
    "colab": {
     "base_uri": "https://localhost:8080/"
    },
    "executionInfo": {
     "elapsed": 472,
     "status": "ok",
     "timestamp": 1617488875442,
     "user": {
      "displayName": "Ivan Savov",
      "photoUrl": "https://lh3.googleusercontent.com/a-/AOh14GgM13MuJiia2gUK23ZS4gJbjbYEAe1_3dxb5acpnQ=s64",
      "userId": "13320182563968762712"
     },
     "user_tz": 240
    },
    "id": "nSxRtu6v2Aed",
    "outputId": "864e9c4b-494a-48aa-b851-ebd351691d41"
   },
   "outputs": [
    {
     "data": {
      "text/plain": [
       "pandas.core.frame.DataFrame"
      ]
     },
     "execution_count": 40,
     "metadata": {
      "tags": []
     },
     "output_type": "execute_result"
    }
   ],
   "source": [
    "type(csdf)"
   ]
  },
  {
   "cell_type": "code",
   "execution_count": 47,
   "metadata": {
    "executionInfo": {
     "elapsed": 497,
     "status": "ok",
     "timestamp": 1617490291186,
     "user": {
      "displayName": "Ivan Savov",
      "photoUrl": "https://lh3.googleusercontent.com/a-/AOh14GgM13MuJiia2gUK23ZS4gJbjbYEAe1_3dxb5acpnQ=s64",
      "userId": "13320182563968762712"
     },
     "user_tz": 240
    },
    "id": "9Rq6OU3X2XUH"
   },
   "outputs": [],
   "source": [
    "# from datetime import datetime\n",
    "\n",
    "# dates = pd.date_range(datetime.now(), periods=8, freq='M')\n",
    "# dates"
   ]
  },
  {
   "cell_type": "code",
   "execution_count": 48,
   "metadata": {
    "colab": {
     "base_uri": "https://localhost:8080/"
    },
    "executionInfo": {
     "elapsed": 533,
     "status": "ok",
     "timestamp": 1617490314351,
     "user": {
      "displayName": "Ivan Savov",
      "photoUrl": "https://lh3.googleusercontent.com/a-/AOh14GgM13MuJiia2gUK23ZS4gJbjbYEAe1_3dxb5acpnQ=s64",
      "userId": "13320182563968762712"
     },
     "user_tz": 240
    },
    "id": "Uh_jowKc2sAB",
    "outputId": "d77eb47a-5d4e-450e-9f4f-0e155b5121f1"
   },
   "outputs": [
    {
     "data": {
      "text/plain": [
       "array([[126, 100,  35,  61],\n",
       "       [908, 688, 497, 807],\n",
       "       [913, 747, 336, 598],\n",
       "       [235, 172,  58, 121],\n",
       "       [402, 308, 121, 215],\n",
       "       [182, 156,  72,  98],\n",
       "       [ 60,  99,  11,  43],\n",
       "       [104,  89,  21,  36]])"
      ]
     },
     "execution_count": 48,
     "metadata": {
      "tags": []
     },
     "output_type": "execute_result"
    }
   ],
   "source": [
    "csmat = np.asarray(csdf)\n",
    "csmat"
   ]
  },
  {
   "cell_type": "code",
   "execution_count": 51,
   "metadata": {
    "colab": {
     "base_uri": "https://localhost:8080/"
    },
    "executionInfo": {
     "elapsed": 591,
     "status": "ok",
     "timestamp": 1617490447697,
     "user": {
      "displayName": "Ivan Savov",
      "photoUrl": "https://lh3.googleusercontent.com/a-/AOh14GgM13MuJiia2gUK23ZS4gJbjbYEAe1_3dxb5acpnQ=s64",
      "userId": "13320182563968762712"
     },
     "user_tz": 240
    },
    "id": "aZhWc4ZN74IZ",
    "outputId": "7e61dd09-9e13-430a-a333-2199464df9d0"
   },
   "outputs": [
    {
     "name": "stdout",
     "output_type": "stream",
     "text": [
      "[array([[126, 100],\n",
      "       [ 35,  61]]),\n",
      " array([[908, 688],\n",
      "       [497, 807]]),\n",
      " array([[913, 747],\n",
      "       [336, 598]]),\n",
      " array([[235, 172],\n",
      "       [ 58, 121]]),\n",
      " array([[402, 308],\n",
      "       [121, 215]]),\n",
      " array([[182, 156],\n",
      "       [ 72,  98]]),\n",
      " array([[60, 99],\n",
      "       [11, 43]]),\n",
      " array([[104,  89],\n",
      "       [ 21,  36]])]\n"
     ]
    }
   ],
   "source": [
    "\n",
    "tables = [np.reshape(city.tolist(), (2, 2)) for city in csmat]\n",
    "\n",
    "import pprint\n",
    "pprint.pprint(tables)"
   ]
  },
  {
   "cell_type": "markdown",
   "metadata": {
    "id": "8Gjatyud80Qu"
   },
   "source": [
    "## Stratified 2x2 tables\n",
    "\n",
    "Stratification occurs when we have a collection of contingency tables defined by the same row and column factors. In the example below, we have a collection of 2x2 tables reflecting the joint distribution of smoking and lung cancer in each of several regions of China. It is possible that the tables all have a common odds ratio, even while the marginal probabilities vary among the strata. The ‘Breslow-Day’ procedure tests whether the data are consistent with a common odds ratio. It appears below as the Test of constant OR. The Mantel-Haenszel procedure tests whether this common odds ratio is equal to one. It appears below as the Test of OR=1. It is also possible to estimate the common odds and risk ratios and obtain confidence intervals for them. The summary method displays all of these results. Individual results can be obtained from the class methods and attributes.\n",
    "\n",
    "via https://www.statsmodels.org/stable/contingency_tables.html#stratified-2x2-tables\n"
   ]
  },
  {
   "cell_type": "code",
   "execution_count": 54,
   "metadata": {
    "executionInfo": {
     "elapsed": 533,
     "status": "ok",
     "timestamp": 1617490496434,
     "user": {
      "displayName": "Ivan Savov",
      "photoUrl": "https://lh3.googleusercontent.com/a-/AOh14GgM13MuJiia2gUK23ZS4gJbjbYEAe1_3dxb5acpnQ=s64",
      "userId": "13320182563968762712"
     },
     "user_tz": 240
    },
    "id": "6lFt8PWK8TJB"
   },
   "outputs": [],
   "source": [
    "st = sm.stats.StratifiedTable(tables)"
   ]
  },
  {
   "cell_type": "code",
   "execution_count": 55,
   "metadata": {
    "colab": {
     "base_uri": "https://localhost:8080/",
     "height": 283
    },
    "executionInfo": {
     "elapsed": 490,
     "status": "ok",
     "timestamp": 1617490503272,
     "user": {
      "displayName": "Ivan Savov",
      "photoUrl": "https://lh3.googleusercontent.com/a-/AOh14GgM13MuJiia2gUK23ZS4gJbjbYEAe1_3dxb5acpnQ=s64",
      "userId": "13320182563968762712"
     },
     "user_tz": 240
    },
    "id": "mWaIRuhG8gn9",
    "outputId": "dcbfeb2d-d20b-4380-dd04-ad0cba609ceb"
   },
   "outputs": [
    {
     "data": {
      "text/html": [
       "<table class=\"simpletable\">\n",
       "<tr>\n",
       "          <td></td>          <th>Estimate</th>    <th>LCB</th>    <th>UCB</th> \n",
       "</tr>\n",
       "<tr>\n",
       "  <th>Pooled odds</th>           <td>2.174</td>   <td>1.984</td> <td>2.383</td>\n",
       "</tr>\n",
       "<tr>\n",
       "  <th>Pooled log odds</th>       <td>0.777</td>   <td>0.685</td> <td>0.868</td>\n",
       "</tr>\n",
       "<tr>\n",
       "  <th>Pooled risk ratio</th>     <td>1.519</td>        <td></td>      <td></td>\n",
       "</tr>\n",
       "<tr>\n",
       "  <th></th>                           <td></td>        <td></td>      <td></td>\n",
       "</tr>\n",
       "<tr>\n",
       "          <td></td>         <th>Statistic</th> <th>P-value</th> <th></th>\n",
       "</tr>\n",
       "<tr>\n",
       "  <th>Test of OR=1</th>       <td>280.138</td>   <td>0.000</td> <td></td>\n",
       "</tr>\n",
       "<tr>\n",
       "  <th>Test constant OR</th>     <td>5.200</td>   <td>0.636</td> <td></td>\n",
       "</tr>\n",
       "<tr>\n",
       "          <td></td>           <th></th>   <th></th> <th></th>\n",
       "</tr>\n",
       "<tr>\n",
       "  <th>Number of tables</th>    <td>8</td> <td></td> <td></td>\n",
       "</tr>\n",
       "<tr>\n",
       "  <th>Min n</th>             <td>213</td> <td></td> <td></td>\n",
       "</tr>\n",
       "<tr>\n",
       "  <th>Max n</th>            <td>2900</td> <td></td> <td></td>\n",
       "</tr>\n",
       "<tr>\n",
       "  <th>Avg n</th>            <td>1052</td> <td></td> <td></td>\n",
       "</tr>\n",
       "<tr>\n",
       "  <th>Total n</th>          <td>8419</td> <td></td> <td></td>\n",
       "</tr>\n",
       "</table>"
      ],
      "text/plain": [
       "<class 'statsmodels.iolib.table.SimpleTable'>"
      ]
     },
     "execution_count": 55,
     "metadata": {
      "tags": []
     },
     "output_type": "execute_result"
    }
   ],
   "source": [
    "st.summary()"
   ]
  },
  {
   "cell_type": "code",
   "execution_count": null,
   "metadata": {
    "id": "5mYJnna78w_L"
   },
   "outputs": [],
   "source": []
  },
  {
   "cell_type": "code",
   "execution_count": null,
   "metadata": {
    "id": "ym1xfnsv8mRU"
   },
   "outputs": [],
   "source": []
  }
 ],
 "metadata": {
  "colab": {
   "authorship_tag": "ABX9TyM268dAgdC/yLfzKBGjaJNJ",
   "name": "ContingencyTableExample.ipynb",
   "provenance": []
  },
  "kernelspec": {
   "display_name": "Python 3 (ipykernel)",
   "language": "python",
   "name": "python3"
  },
  "language_info": {
   "codemirror_mode": {
    "name": "ipython",
    "version": 3
   },
   "file_extension": ".py",
   "mimetype": "text/x-python",
   "name": "python",
   "nbconvert_exporter": "python",
   "pygments_lexer": "ipython3",
   "version": "3.9.4"
  }
 },
 "nbformat": 4,
 "nbformat_minor": 4
}
