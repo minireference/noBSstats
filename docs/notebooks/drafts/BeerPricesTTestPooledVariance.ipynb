{
 "cells": [
  {
   "cell_type": "code",
   "execution_count": null,
   "metadata": {
    "colab": {
     "base_uri": "https://localhost:8080/"
    },
    "executionInfo": {
     "elapsed": 3794,
     "status": "ok",
     "timestamp": 1617806518624,
     "user": {
      "displayName": "Ivan Savov",
      "photoUrl": "https://lh3.googleusercontent.com/a-/AOh14GgM13MuJiia2gUK23ZS4gJbjbYEAe1_3dxb5acpnQ=s64",
      "userId": "13320182563968762712"
     },
     "user_tz": 240
    },
    "id": "_9EU0lPMpcoG",
    "outputId": "c858356c-ec2e-46be-8b69-46a09ed23a2d"
   },
   "outputs": [
    {
     "name": "stdout",
     "output_type": "stream",
     "text": [
      "Requirement already up-to-date: scipy in /usr/local/lib/python3.7/dist-packages (1.6.2)\n",
      "Requirement already satisfied, skipping upgrade: numpy<1.23.0,>=1.16.5 in /usr/local/lib/python3.7/dist-packages (from scipy) (1.19.5)\n"
     ]
    }
   ],
   "source": [
    "!pip install -U scipy"
   ]
  },
  {
   "cell_type": "code",
   "execution_count": null,
   "metadata": {
    "colab": {
     "base_uri": "https://localhost:8080/"
    },
    "executionInfo": {
     "elapsed": 3788,
     "status": "ok",
     "timestamp": 1617806518625,
     "user": {
      "displayName": "Ivan Savov",
      "photoUrl": "https://lh3.googleusercontent.com/a-/AOh14GgM13MuJiia2gUK23ZS4gJbjbYEAe1_3dxb5acpnQ=s64",
      "userId": "13320182563968762712"
     },
     "user_tz": 240
    },
    "id": "2lK-Js9L_-B0",
    "outputId": "097e5ae0-bb70-4bdf-a71a-9a67dbc42b21"
   },
   "outputs": [
    {
     "name": "stderr",
     "output_type": "stream",
     "text": [
      "/usr/local/lib/python3.7/dist-packages/statsmodels/tools/_testing.py:19: FutureWarning: pandas.util.testing is deprecated. Use the functions in the public API at pandas.testing instead.\n",
      "  import pandas.util.testing as tm\n"
     ]
    }
   ],
   "source": [
    "import numpy as np\n",
    "# import statsmodels as sm\n",
    "from statsmodels.stats.weightstats import ttest_ind\n",
    "# https://www.statsmodels.org/stable/generated/statsmodels.stats.weightstats.ttest_ind.html#statsmodels.stats.weightstats.ttest_ind\n",
    "\n",
    "from scipy.stats import ttest_ind_from_stats\n",
    "# https://docs.scipy.org/doc/scipy/reference/generated/scipy.stats.ttest_ind_from_stats.html\n"
   ]
  },
  {
   "cell_type": "code",
   "execution_count": null,
   "metadata": {
    "id": "sAJ9u8u-pcEL"
   },
   "outputs": [],
   "source": []
  },
  {
   "cell_type": "code",
   "execution_count": null,
   "metadata": {
    "colab": {
     "base_uri": "https://localhost:8080/"
    },
    "executionInfo": {
     "elapsed": 3782,
     "status": "ok",
     "timestamp": 1617806518629,
     "user": {
      "displayName": "Ivan Savov",
      "photoUrl": "https://lh3.googleusercontent.com/a-/AOh14GgM13MuJiia2gUK23ZS4gJbjbYEAe1_3dxb5acpnQ=s64",
      "userId": "13320182563968762712"
     },
     "user_tz": 240
    },
    "id": "m52qwHPaACf2",
    "outputId": "e703ebdb-f13b-4ca1-d0da-98c25d3f8967"
   },
   "outputs": [
    {
     "name": "stdout",
     "output_type": "stream",
     "text": [
      "mean East beer price 6.155555555555555\n",
      "standard deviation of East beer price 0.8776547030454391\n",
      "mean West beer price 9.155555555555555\n",
      "standard deviation of West beer price 1.5621388471508475\n",
      "difference in means East-West -3.0\n"
     ]
    }
   ],
   "source": [
    "# data from noBSstats NHST draft\n",
    "# see https://docs.google.com/spreadsheets/d/15EdOuy_Cb26xN1HCTSIktWhzYLFBjD4YirUTIL6EPGg/edit#gid=116739127\n",
    "xE = [7.7, 5.9,  7, 4.8, 6.3, 6.3, 5.5, 5.4, 6.5]\n",
    "xW = [11.8, 10, 11, 8.6, 8.3, 9.4,   8, 6.8, 8.5]\n",
    "\n",
    "xEmean = sum(xE) / len(xE)\n",
    "xEstd = np.std(xE, ddof=1)\n",
    "xWmean = sum(xW) / len(xW)\n",
    "xWstd = np.std(xW, ddof=1)\n",
    "\n",
    "d = xEmean - xWmean\n",
    "\n",
    "print('mean East beer price', xEmean)\n",
    "print('standard deviation of East beer price', xEstd)\n",
    "print('mean West beer price', xWmean)\n",
    "print('standard deviation of West beer price', xWstd)\n",
    "\n",
    "print('difference in means East-West', d)\n",
    "\n"
   ]
  },
  {
   "cell_type": "code",
   "execution_count": null,
   "metadata": {
    "id": "d5AOTg6tAuNd"
   },
   "outputs": [],
   "source": []
  },
  {
   "cell_type": "code",
   "execution_count": null,
   "metadata": {
    "id": "awV_2ku1A2Vy"
   },
   "outputs": [],
   "source": [
    "  "
   ]
  },
  {
   "cell_type": "code",
   "execution_count": null,
   "metadata": {
    "colab": {
     "base_uri": "https://localhost:8080/"
    },
    "executionInfo": {
     "elapsed": 3972,
     "status": "ok",
     "timestamp": 1617806518830,
     "user": {
      "displayName": "Ivan Savov",
      "photoUrl": "https://lh3.googleusercontent.com/a-/AOh14GgM13MuJiia2gUK23ZS4gJbjbYEAe1_3dxb5acpnQ=s64",
      "userId": "13320182563968762712"
     },
     "user_tz": 240
    },
    "id": "0h8fiY1HA91Z",
    "outputId": "0b9e9feb-4463-4d52-ce20-1de76daf2e7a"
   },
   "outputs": [
    {
     "name": "stdout",
     "output_type": "stream",
     "text": [
      "\n",
      "\n",
      "Using t-test with pooled variances from statsmodels...\n",
      "value of test statistic t = -5.022875513276463\n",
      "p-value of this t value is p =  6.248533993839267e-05\n",
      "df = 16.0\n"
     ]
    }
   ],
   "source": [
    "print(\"Using t-test with pooled variances from statsmodels...\")\n",
    "t, p_value, df = ttest_ind(\n",
    "    xE,\n",
    "    xW,\n",
    "    alternative='smaller',\n",
    "    usevar='pooled'\n",
    ")\n",
    "\n",
    "print(\"value of test statistic t =\", t)\n",
    "print(\"p-value of this t value is p = \", p_value)\n",
    "print('df =', df)\n"
   ]
  },
  {
   "cell_type": "code",
   "execution_count": null,
   "metadata": {
    "id": "25iSDYrUFioI"
   },
   "outputs": [],
   "source": []
  },
  {
   "cell_type": "code",
   "execution_count": null,
   "metadata": {
    "id": "RoxFJJmEpHy-"
   },
   "outputs": [],
   "source": []
  },
  {
   "cell_type": "code",
   "execution_count": null,
   "metadata": {
    "colab": {
     "base_uri": "https://localhost:8080/"
    },
    "executionInfo": {
     "elapsed": 459,
     "status": "ok",
     "timestamp": 1617806578818,
     "user": {
      "displayName": "Ivan Savov",
      "photoUrl": "https://lh3.googleusercontent.com/a-/AOh14GgM13MuJiia2gUK23ZS4gJbjbYEAe1_3dxb5acpnQ=s64",
      "userId": "13320182563968762712"
     },
     "user_tz": 240
    },
    "id": "jvVzptHmpH77",
    "outputId": "871c0c70-09c4-4c2c-d5c1-6db91c0ff6fd"
   },
   "outputs": [
    {
     "name": "stdout",
     "output_type": "stream",
     "text": [
      "\n",
      "\n",
      "Using t-test with pooled variances from scipy...\n",
      "value of test statistic t = -5.022875513276462\n",
      "p-value of this t value is p =  0.00012851691686088115\n"
     ]
    }
   ],
   "source": [
    "print(\"Using t-test with pooled variances from scipy...\")\n",
    "tstat, pval = ttest_ind_from_stats(\n",
    "    xEmean, xEstd, len(xE),\n",
    "    xWmean, xWstd, len(xW),\n",
    "    equal_var=False,\n",
    "    alternative='less'\n",
    ")\n",
    "\n",
    "\n",
    "print(\"value of test statistic t =\", tstat)\n",
    "print(\"p-value of this t value is p = \", pval)\n"
   ]
  },
  {
   "cell_type": "code",
   "execution_count": null,
   "metadata": {
    "id": "w0zHIGkUoqeh"
   },
   "outputs": [],
   "source": []
  },
  {
   "cell_type": "code",
   "execution_count": null,
   "metadata": {
    "id": "R7K2Rkpxo52c"
   },
   "outputs": [],
   "source": []
  },
  {
   "cell_type": "code",
   "execution_count": null,
   "metadata": {
    "id": "D47W_M6So7TE"
   },
   "outputs": [],
   "source": []
  },
  {
   "cell_type": "code",
   "execution_count": null,
   "metadata": {
    "id": "giS1ZjkTrSLL"
   },
   "outputs": [],
   "source": []
  }
 ],
 "metadata": {
  "colab": {
   "authorship_tag": "ABX9TyMe11sfr9+XVTCGRynPw7Nr",
   "collapsed_sections": [],
   "name": "BeerPricesTTestPooledVariance.ipynb",
   "provenance": []
  },
  "kernelspec": {
   "display_name": "Python 3 (ipykernel)",
   "language": "python",
   "name": "python3"
  },
  "language_info": {
   "codemirror_mode": {
    "name": "ipython",
    "version": 3
   },
   "file_extension": ".py",
   "mimetype": "text/x-python",
   "name": "python",
   "nbconvert_exporter": "python",
   "pygments_lexer": "ipython3",
   "version": "3.9.4"
  }
 },
 "nbformat": 4,
 "nbformat_minor": 4
}
