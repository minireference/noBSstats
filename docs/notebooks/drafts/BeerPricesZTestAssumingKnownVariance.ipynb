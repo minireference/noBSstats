{
 "cells": [
  {
   "cell_type": "code",
   "execution_count": 1,
   "metadata": {
    "executionInfo": {
     "elapsed": 430,
     "status": "ok",
     "timestamp": 1617806407191,
     "user": {
      "displayName": "Ivan Savov",
      "photoUrl": "https://lh3.googleusercontent.com/a-/AOh14GgM13MuJiia2gUK23ZS4gJbjbYEAe1_3dxb5acpnQ=s64",
      "userId": "13320182563968762712"
     },
     "user_tz": 240
    },
    "id": "_9EU0lPMpcoG"
   },
   "outputs": [],
   "source": [
    "#!pip install -U statsmodels==v0.12.2"
   ]
  },
  {
   "cell_type": "code",
   "execution_count": 2,
   "metadata": {
    "colab": {
     "base_uri": "https://localhost:8080/"
    },
    "executionInfo": {
     "elapsed": 2213,
     "status": "ok",
     "timestamp": 1617806408980,
     "user": {
      "displayName": "Ivan Savov",
      "photoUrl": "https://lh3.googleusercontent.com/a-/AOh14GgM13MuJiia2gUK23ZS4gJbjbYEAe1_3dxb5acpnQ=s64",
      "userId": "13320182563968762712"
     },
     "user_tz": 240
    },
    "id": "2lK-Js9L_-B0",
    "outputId": "2a5b98bb-85de-44ad-bfaf-4668dceec16b"
   },
   "outputs": [
    {
     "name": "stderr",
     "output_type": "stream",
     "text": [
      "/usr/local/lib/python3.7/dist-packages/statsmodels/tools/_testing.py:19: FutureWarning: pandas.util.testing is deprecated. Use the functions in the public API at pandas.testing instead.\n",
      "  import pandas.util.testing as tm\n"
     ]
    }
   ],
   "source": [
    "import numpy as np\n",
    "# import statsmodels as sm\n",
    "from statsmodels.stats.weightstats import _zstat_generic2\n",
    "\n",
    "# https://www.statsmodels.org/stable/stats.html?highlight=weightstats#module-statsmodels.stats.weightstats\n"
   ]
  },
  {
   "cell_type": "code",
   "execution_count": 2,
   "metadata": {
    "executionInfo": {
     "elapsed": 2216,
     "status": "ok",
     "timestamp": 1617806408985,
     "user": {
      "displayName": "Ivan Savov",
      "photoUrl": "https://lh3.googleusercontent.com/a-/AOh14GgM13MuJiia2gUK23ZS4gJbjbYEAe1_3dxb5acpnQ=s64",
      "userId": "13320182563968762712"
     },
     "user_tz": 240
    },
    "id": "sAJ9u8u-pcEL"
   },
   "outputs": [],
   "source": []
  },
  {
   "cell_type": "code",
   "execution_count": 3,
   "metadata": {
    "colab": {
     "base_uri": "https://localhost:8080/"
    },
    "executionInfo": {
     "elapsed": 2208,
     "status": "ok",
     "timestamp": 1617806408985,
     "user": {
      "displayName": "Ivan Savov",
      "photoUrl": "https://lh3.googleusercontent.com/a-/AOh14GgM13MuJiia2gUK23ZS4gJbjbYEAe1_3dxb5acpnQ=s64",
      "userId": "13320182563968762712"
     },
     "user_tz": 240
    },
    "id": "m52qwHPaACf2",
    "outputId": "35a9d6b4-e0e0-4fb3-a874-d81deecfe7c1"
   },
   "outputs": [
    {
     "name": "stdout",
     "output_type": "stream",
     "text": [
      "mean East beer price 6.155555555555555\n",
      "mean West beer price 9.155555555555555\n",
      "difference in means East-West -3.0\n"
     ]
    }
   ],
   "source": [
    "# data from noBSstats NHST draft\n",
    "# see https://docs.google.com/spreadsheets/d/15EdOuy_Cb26xN1HCTSIktWhzYLFBjD4YirUTIL6EPGg/edit#gid=116739127\n",
    "xE = [7.7, 5.9,  7, 4.8, 6.3, 6.3, 5.5, 5.4, 6.5]\n",
    "xW = [11.8, 10, 11, 8.6, 8.3, 9.4,   8, 6.8, 8.5]\n",
    "\n",
    "xEmean = sum(xE)/len(xE)\n",
    "xWmean = sum(xW)/len(xW)\n",
    "d = xEmean - xWmean\n",
    "\n",
    "print('mean East beer price', xEmean)\n",
    "print('mean West beer price', xWmean)\n",
    "print('difference in means East-West', d)\n",
    "\n"
   ]
  },
  {
   "cell_type": "code",
   "execution_count": 3,
   "metadata": {
    "executionInfo": {
     "elapsed": 2207,
     "status": "ok",
     "timestamp": 1617806408986,
     "user": {
      "displayName": "Ivan Savov",
      "photoUrl": "https://lh3.googleusercontent.com/a-/AOh14GgM13MuJiia2gUK23ZS4gJbjbYEAe1_3dxb5acpnQ=s64",
      "userId": "13320182563968762712"
     },
     "user_tz": 240
    },
    "id": "d5AOTg6tAuNd"
   },
   "outputs": [],
   "source": []
  },
  {
   "cell_type": "code",
   "execution_count": 3,
   "metadata": {
    "executionInfo": {
     "elapsed": 2208,
     "status": "ok",
     "timestamp": 1617806408989,
     "user": {
      "displayName": "Ivan Savov",
      "photoUrl": "https://lh3.googleusercontent.com/a-/AOh14GgM13MuJiia2gUK23ZS4gJbjbYEAe1_3dxb5acpnQ=s64",
      "userId": "13320182563968762712"
     },
     "user_tz": 240
    },
    "id": "awV_2ku1A2Vy"
   },
   "outputs": [],
   "source": []
  },
  {
   "cell_type": "code",
   "execution_count": 4,
   "metadata": {
    "colab": {
     "base_uri": "https://localhost:8080/"
    },
    "executionInfo": {
     "elapsed": 2203,
     "status": "ok",
     "timestamp": 1617806408990,
     "user": {
      "displayName": "Ivan Savov",
      "photoUrl": "https://lh3.googleusercontent.com/a-/AOh14GgM13MuJiia2gUK23ZS4gJbjbYEAe1_3dxb5acpnQ=s64",
      "userId": "13320182563968762712"
     },
     "user_tz": 240
    },
    "id": "0h8fiY1HA91Z",
    "outputId": "a9633c8e-62bc-4f6f-bd19-e1913faafd2c"
   },
   "outputs": [
    {
     "name": "stdout",
     "output_type": "stream",
     "text": [
      "diff between means is -3.0\n",
      "SE of the diff between means is 1.0540925533894598\n",
      "\n",
      "\n",
      "Using z-test since population var is assumed to be known known\n",
      "value of test statistic z = d/SE is -2.846049894151541\n",
      "p-value of this z-value is 0.002213262928959916\n"
     ]
    }
   ],
   "source": [
    "sigmasq = 5  # assumed to be known\n",
    "n = 9\n",
    "SE = np.sqrt(sigmasq/n + sigmasq/n)  # std. error of d ( = xEmean - xWmean)\n",
    "\n",
    "print('diff between means is', d)\n",
    "print('SE of the diff between means is', SE)\n",
    "\n",
    "print(\"\\n\\nUsing z-test since population var is assumed to be known known\")\n",
    "z, p_value = _zstat_generic2(\n",
    "    d,\n",
    "    SE,\n",
    "    'smaller'\n",
    ")\n",
    "print(\"value of test statistic z = d/SE is\", z)\n",
    "print(\"p-value of this z-value is\", p_value)\n"
   ]
  },
  {
   "cell_type": "code",
   "execution_count": 4,
   "metadata": {
    "executionInfo": {
     "elapsed": 2201,
     "status": "ok",
     "timestamp": 1617806408991,
     "user": {
      "displayName": "Ivan Savov",
      "photoUrl": "https://lh3.googleusercontent.com/a-/AOh14GgM13MuJiia2gUK23ZS4gJbjbYEAe1_3dxb5acpnQ=s64",
      "userId": "13320182563968762712"
     },
     "user_tz": 240
    },
    "id": "25iSDYrUFioI"
   },
   "outputs": [],
   "source": []
  },
  {
   "cell_type": "code",
   "execution_count": 4,
   "metadata": {
    "executionInfo": {
     "elapsed": 2203,
     "status": "ok",
     "timestamp": 1617806408994,
     "user": {
      "displayName": "Ivan Savov",
      "photoUrl": "https://lh3.googleusercontent.com/a-/AOh14GgM13MuJiia2gUK23ZS4gJbjbYEAe1_3dxb5acpnQ=s64",
      "userId": "13320182563968762712"
     },
     "user_tz": 240
    },
    "id": "RoxFJJmEpHy-"
   },
   "outputs": [],
   "source": []
  },
  {
   "cell_type": "code",
   "execution_count": 4,
   "metadata": {
    "executionInfo": {
     "elapsed": 2198,
     "status": "ok",
     "timestamp": 1617806408994,
     "user": {
      "displayName": "Ivan Savov",
      "photoUrl": "https://lh3.googleusercontent.com/a-/AOh14GgM13MuJiia2gUK23ZS4gJbjbYEAe1_3dxb5acpnQ=s64",
      "userId": "13320182563968762712"
     },
     "user_tz": 240
    },
    "id": "jvVzptHmpH77"
   },
   "outputs": [],
   "source": []
  }
 ],
 "metadata": {
  "colab": {
   "authorship_tag": "ABX9TyM5jQozQeHt5JY/fZhdcPoP",
   "collapsed_sections": [],
   "name": "BeerPricesZTestAssumingKnownVariance.ipynb",
   "provenance": []
  },
  "kernelspec": {
   "display_name": "Python 3 (ipykernel)",
   "language": "python",
   "name": "python3"
  },
  "language_info": {
   "codemirror_mode": {
    "name": "ipython",
    "version": 3
   },
   "file_extension": ".py",
   "mimetype": "text/x-python",
   "name": "python",
   "nbconvert_exporter": "python",
   "pygments_lexer": "ipython3",
   "version": "3.9.4"
  }
 },
 "nbformat": 4,
 "nbformat_minor": 4
}
