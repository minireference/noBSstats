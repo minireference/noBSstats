{
 "cells": [
  {
   "cell_type": "markdown",
   "id": "40bf4288-f241-4bea-b823-83caf7fc3964",
   "metadata": {},
   "source": [
    "# Section 2.3 — Inventory of discrete distributions\n",
    "\n",
    "This notebook contains all the code examples from [Section 2.3 Inventory of discrete distributions](https://minireference.com/static/excerpts/noBSstats/noBSstats_ch02_PROB.pdf#page=65) of the **No Bullshit Guide to Statistics**.\n"
   ]
  },
  {
   "cell_type": "markdown",
   "id": "8485d0e9-e241-48b2-86fd-1b187aeb9084",
   "metadata": {},
   "source": [
    "![](./attachments/prob_models_discrete_examples_panel.png)"
   ]
  },
  {
   "cell_type": "markdown",
   "id": "55249c07-178a-48b9-9d23-59105b763d0d",
   "metadata": {
    "tags": []
   },
   "source": [
    "#### Notebook setup"
   ]
  },
  {
   "cell_type": "code",
   "execution_count": 1,
   "id": "7e12e5d4-7bc9-4549-80d0-2046f68a2fed",
   "metadata": {},
   "outputs": [],
   "source": [
    "# load Python modules\n",
    "import numpy as np\n",
    "import pandas as pd\n",
    "import seaborn as sns\n",
    "import matplotlib.pyplot as plt"
   ]
  },
  {
   "cell_type": "code",
   "execution_count": 2,
   "id": "a5c98fe9-bd4f-4567-9ccf-78cd79df80f1",
   "metadata": {},
   "outputs": [],
   "source": [
    "# Figures setup\n",
    "sns.set_theme(\n",
    "    context=\"paper\",\n",
    "    style=\"whitegrid\",\n",
    "    palette=\"colorblind\",\n",
    "    rc={'figure.figsize': (7,5)},\n",
    ")\n",
    "\n",
    "%config InlineBackend.figure_format = 'retina'\n"
   ]
  },
  {
   "cell_type": "code",
   "execution_count": 3,
   "id": "65359250-332a-4e6b-b744-ee6d988edebe",
   "metadata": {},
   "outputs": [],
   "source": [
    "# set random seed for repeatability\n",
    "np.random.seed(42)"
   ]
  },
  {
   "cell_type": "code",
   "execution_count": 1,
   "id": "cd254ba0-60bf-4e88-9ae2-9d5b31304831",
   "metadata": {},
   "outputs": [
    {
     "name": "stdout",
     "output_type": "stream",
     "text": [
      "Requirement already satisfied: ministats in /Users/ivan/Projects/Minireference/software/ministats (0.2.0)\n",
      "Requirement already satisfied: matplotlib>=3.8.3 in /Users/ivan/Projects/Minireference/STATSbook/noBSstatsnotebooks/venv/lib/python3.9/site-packages (from ministats) (3.8.3)\n",
      "Requirement already satisfied: numpy>=1.26.4 in /Users/ivan/Projects/Minireference/STATSbook/noBSstatsnotebooks/venv/lib/python3.9/site-packages (from ministats) (1.26.4)\n",
      "Requirement already satisfied: scipy>=1.12.0 in /Users/ivan/Projects/Minireference/STATSbook/noBSstatsnotebooks/venv/lib/python3.9/site-packages (from ministats) (1.12.0)\n",
      "Requirement already satisfied: pandas>=2.2.1 in /Users/ivan/Projects/Minireference/STATSbook/noBSstatsnotebooks/venv/lib/python3.9/site-packages (from ministats) (2.2.1)\n",
      "Requirement already satisfied: pillow>=10.2.0 in /Users/ivan/Projects/Minireference/STATSbook/noBSstatsnotebooks/venv/lib/python3.9/site-packages (from ministats) (10.2.0)\n",
      "Requirement already satisfied: seaborn>=0.13.2 in /Users/ivan/Projects/Minireference/STATSbook/noBSstatsnotebooks/venv/lib/python3.9/site-packages (from ministats) (0.13.2)\n",
      "Requirement already satisfied: statsmodels>=0.14.1 in /Users/ivan/Projects/Minireference/STATSbook/noBSstatsnotebooks/venv/lib/python3.9/site-packages (from ministats) (0.14.1)\n",
      "Requirement already satisfied: kiwisolver>=1.3.1 in /Users/ivan/Projects/Minireference/STATSbook/noBSstatsnotebooks/venv/lib/python3.9/site-packages (from matplotlib>=3.8.3->ministats) (1.4.4)\n",
      "Requirement already satisfied: cycler>=0.10 in /Users/ivan/Projects/Minireference/STATSbook/noBSstatsnotebooks/venv/lib/python3.9/site-packages (from matplotlib>=3.8.3->ministats) (0.11.0)\n",
      "Requirement already satisfied: importlib-resources>=3.2.0 in /Users/ivan/Projects/Minireference/STATSbook/noBSstatsnotebooks/venv/lib/python3.9/site-packages (from matplotlib>=3.8.3->ministats) (5.12.0)\n",
      "Requirement already satisfied: pyparsing>=2.3.1 in /Users/ivan/Projects/Minireference/STATSbook/noBSstatsnotebooks/venv/lib/python3.9/site-packages (from matplotlib>=3.8.3->ministats) (3.0.9)\n",
      "Requirement already satisfied: fonttools>=4.22.0 in /Users/ivan/Projects/Minireference/STATSbook/noBSstatsnotebooks/venv/lib/python3.9/site-packages (from matplotlib>=3.8.3->ministats) (4.38.0)\n",
      "Requirement already satisfied: contourpy>=1.0.1 in /Users/ivan/Projects/Minireference/STATSbook/noBSstatsnotebooks/venv/lib/python3.9/site-packages (from matplotlib>=3.8.3->ministats) (1.0.7)\n",
      "Requirement already satisfied: python-dateutil>=2.7 in /Users/ivan/Projects/Minireference/STATSbook/noBSstatsnotebooks/venv/lib/python3.9/site-packages (from matplotlib>=3.8.3->ministats) (2.8.2)\n",
      "Requirement already satisfied: packaging>=20.0 in /Users/ivan/Projects/Minireference/STATSbook/noBSstatsnotebooks/venv/lib/python3.9/site-packages (from matplotlib>=3.8.3->ministats) (23.0)\n",
      "Requirement already satisfied: pytz>=2020.1 in /Users/ivan/Projects/Minireference/STATSbook/noBSstatsnotebooks/venv/lib/python3.9/site-packages (from pandas>=2.2.1->ministats) (2022.7.1)\n",
      "Requirement already satisfied: tzdata>=2022.7 in /Users/ivan/Projects/Minireference/STATSbook/noBSstatsnotebooks/venv/lib/python3.9/site-packages (from pandas>=2.2.1->ministats) (2024.1)\n",
      "Requirement already satisfied: patsy>=0.5.4 in /Users/ivan/Projects/Minireference/STATSbook/noBSstatsnotebooks/venv/lib/python3.9/site-packages (from statsmodels>=0.14.1->ministats) (0.5.6)\n",
      "Requirement already satisfied: zipp>=3.1.0 in /Users/ivan/Projects/Minireference/STATSbook/noBSstatsnotebooks/venv/lib/python3.9/site-packages (from importlib-resources>=3.2.0->matplotlib>=3.8.3->ministats) (3.13.0)\n",
      "Requirement already satisfied: six in /Users/ivan/Projects/Minireference/STATSbook/noBSstatsnotebooks/venv/lib/python3.9/site-packages (from patsy>=0.5.4->statsmodels>=0.14.1->ministats) (1.16.0)\n",
      "\n",
      "\u001b[1m[\u001b[0m\u001b[34;49mnotice\u001b[0m\u001b[1;39;49m]\u001b[0m\u001b[39;49m A new release of pip is available: \u001b[0m\u001b[31;49m23.0\u001b[0m\u001b[39;49m -> \u001b[0m\u001b[32;49m24.0\u001b[0m\n",
      "\u001b[1m[\u001b[0m\u001b[34;49mnotice\u001b[0m\u001b[1;39;49m]\u001b[0m\u001b[39;49m To update, run: \u001b[0m\u001b[32;49mpip3.9 install --upgrade pip\u001b[0m\n",
      "Note: you may need to restart the kernel to use updated packages.\n"
     ]
    }
   ],
   "source": [
    "%pip install ministats"
   ]
  },
  {
   "cell_type": "code",
   "execution_count": 2,
   "id": "11bfe870-d7e5-4924-856b-9ad435e1f783",
   "metadata": {},
   "outputs": [],
   "source": [
    "from ministats import plot_pmf\n",
    "from ministats import plot_cdf"
   ]
  },
  {
   "cell_type": "code",
   "execution_count": null,
   "id": "881b8426-bfbe-4833-86bf-97aef45e2062",
   "metadata": {},
   "outputs": [],
   "source": []
  },
  {
   "cell_type": "markdown",
   "id": "2129cec5-1bb6-4b12-a83e-052f77b0cad7",
   "metadata": {},
   "source": [
    "## Definitions"
   ]
  },
  {
   "cell_type": "markdown",
   "id": "9bb41c4a-9704-49f3-882b-43ddccb7502a",
   "metadata": {},
   "source": [
    "## Math prerequisites"
   ]
  },
  {
   "cell_type": "markdown",
   "id": "03869784-27b0-4f78-9e4f-35b6db792c28",
   "metadata": {},
   "source": [
    "### Combinatorics\n",
    "\n",
    "See SciPy docs:\n",
    "\n",
    "- https://docs.scipy.org/doc/scipy/reference/generated/scipy.special.factorial.html\n",
    "- https://docs.scipy.org/doc/scipy/reference/generated/scipy.special.perm.html\n",
    "- https://docs.scipy.org/doc/scipy/reference/generated/scipy.special.comb.html\n",
    "\n",
    "\n"
   ]
  },
  {
   "cell_type": "markdown",
   "id": "3cbf7de9-16ca-4c96-b4df-0d7dd23bdcd7",
   "metadata": {},
   "source": [
    "#### Factorial"
   ]
  },
  {
   "cell_type": "code",
   "execution_count": 5,
   "id": "b4e77c11-40c9-40fd-aede-2903373a351f",
   "metadata": {},
   "outputs": [],
   "source": [
    "from scipy.special import factorial\n",
    "# ALT.\n",
    "# from math import factorial"
   ]
  },
  {
   "cell_type": "code",
   "execution_count": 6,
   "id": "b5bc706b-472a-46ca-9aac-6f13c145210d",
   "metadata": {},
   "outputs": [
    {
     "data": {
      "text/plain": [
       "24.0"
      ]
     },
     "execution_count": 6,
     "metadata": {},
     "output_type": "execute_result"
    }
   ],
   "source": [
    "factorial(4)"
   ]
  },
  {
   "cell_type": "code",
   "execution_count": 7,
   "id": "e5aca81a-f934-42c8-8bf9-d6cef01609a3",
   "metadata": {},
   "outputs": [
    {
     "data": {
      "text/plain": [
       "(1.0, 2.0, 6.0)"
      ]
     },
     "execution_count": 7,
     "metadata": {},
     "output_type": "execute_result"
    }
   ],
   "source": [
    " factorial(1), factorial(2), factorial(3)"
   ]
  },
  {
   "cell_type": "code",
   "execution_count": 8,
   "id": "1d027084-a45f-4d0f-9776-5cd61ca4995b",
   "metadata": {},
   "outputs": [
    {
     "data": {
      "text/plain": [
       "[120.0, 720.0, 5040.0, 40320.0, 362880.0, 3628800.0, 39916800.0, 479001600.0]"
      ]
     },
     "execution_count": 8,
     "metadata": {},
     "output_type": "execute_result"
    }
   ],
   "source": [
    "[factorial(k) for k in [5,6,7,8,9,10,11,12]]"
   ]
  },
  {
   "cell_type": "code",
   "execution_count": 9,
   "id": "0c547329-55d9-4903-8bf1-58d0c3e365ce",
   "metadata": {},
   "outputs": [
    {
     "data": {
      "text/plain": [
       "1307674368000.0"
      ]
     },
     "execution_count": 9,
     "metadata": {},
     "output_type": "execute_result"
    }
   ],
   "source": [
    "factorial(15)"
   ]
  },
  {
   "cell_type": "code",
   "execution_count": 10,
   "id": "f55fef7f-344e-4c9a-b81e-48dc3ee02ccd",
   "metadata": {},
   "outputs": [
    {
     "data": {
      "text/plain": [
       "12.116499611123398"
      ]
     },
     "execution_count": 10,
     "metadata": {},
     "output_type": "execute_result"
    }
   ],
   "source": [
    "import numpy as np\n",
    "np.log(factorial(15))/np.log(10)"
   ]
  },
  {
   "cell_type": "markdown",
   "id": "b88c306e-b56b-42d8-862f-f65002f035c7",
   "metadata": {},
   "source": [
    "#### Permutations"
   ]
  },
  {
   "cell_type": "code",
   "execution_count": 11,
   "id": "c658abf1-d4f9-4dd6-be73-affa6b0ab1d2",
   "metadata": {},
   "outputs": [
    {
     "data": {
      "text/plain": [
       "20.0"
      ]
     },
     "execution_count": 11,
     "metadata": {},
     "output_type": "execute_result"
    }
   ],
   "source": [
    "from scipy.special import perm\n",
    "\n",
    "perm(5,2)"
   ]
  },
  {
   "cell_type": "code",
   "execution_count": 12,
   "id": "e2670019-a5a1-47d7-bb2d-67f516e44631",
   "metadata": {},
   "outputs": [
    {
     "data": {
      "text/plain": [
       "(5.0, 20.0, 60.0, 120.0, 120.0)"
      ]
     },
     "execution_count": 12,
     "metadata": {},
     "output_type": "execute_result"
    }
   ],
   "source": [
    "perm(5,1), perm(5,2), perm(5,3), perm(5,4), perm(5,5)"
   ]
  },
  {
   "cell_type": "markdown",
   "id": "1b41f07e-4142-4f2b-bb9d-c88a73221cf5",
   "metadata": {},
   "source": [
    "If you want to actually see, all the possible permutations we \n",
    "use the permutations function from `itertools`"
   ]
  },
  {
   "cell_type": "code",
   "execution_count": 13,
   "id": "cb93d07b-e7aa-4bc4-945c-39b3ba328c13",
   "metadata": {},
   "outputs": [
    {
     "data": {
      "text/plain": [
       "[(1, 2),\n",
       " (1, 3),\n",
       " (1, 4),\n",
       " (1, 5),\n",
       " (2, 1),\n",
       " (2, 3),\n",
       " (2, 4),\n",
       " (2, 5),\n",
       " (3, 1),\n",
       " (3, 2),\n",
       " (3, 4),\n",
       " (3, 5),\n",
       " (4, 1),\n",
       " (4, 2),\n",
       " (4, 3),\n",
       " (4, 5),\n",
       " (5, 1),\n",
       " (5, 2),\n",
       " (5, 3),\n",
       " (5, 4)]"
      ]
     },
     "execution_count": 13,
     "metadata": {},
     "output_type": "execute_result"
    }
   ],
   "source": [
    "from itertools import permutations\n",
    "n = 5\n",
    "nitems = range(1,n+1)\n",
    "k = 2\n",
    "list(permutations(nitems, k))"
   ]
  },
  {
   "cell_type": "code",
   "execution_count": null,
   "id": "a38b9585-e761-48cd-acab-384685aaeef5",
   "metadata": {},
   "outputs": [],
   "source": []
  },
  {
   "cell_type": "markdown",
   "id": "41039aae-d041-4255-8d10-aca557654755",
   "metadata": {},
   "source": [
    "#### Combinations"
   ]
  },
  {
   "cell_type": "code",
   "execution_count": 14,
   "id": "b04caf20-4cf8-4147-ac85-b9437f330c5e",
   "metadata": {},
   "outputs": [
    {
     "data": {
      "text/plain": [
       "10.0"
      ]
     },
     "execution_count": 14,
     "metadata": {},
     "output_type": "execute_result"
    }
   ],
   "source": [
    "from scipy.special import comb\n",
    "\n",
    "\n",
    "comb(5,2)"
   ]
  },
  {
   "cell_type": "code",
   "execution_count": 15,
   "id": "b7c79e08-e3ca-4ed3-891a-4fae17e496fa",
   "metadata": {},
   "outputs": [
    {
     "data": {
      "text/plain": [
       "[(1, 2),\n",
       " (1, 3),\n",
       " (1, 4),\n",
       " (1, 5),\n",
       " (2, 3),\n",
       " (2, 4),\n",
       " (2, 5),\n",
       " (3, 4),\n",
       " (3, 5),\n",
       " (4, 5)]"
      ]
     },
     "execution_count": 15,
     "metadata": {},
     "output_type": "execute_result"
    }
   ],
   "source": [
    "from itertools import combinations\n",
    "\n",
    "n = 5\n",
    "k = 2\n",
    "list(combinations(range(1,n+1), k))"
   ]
  },
  {
   "cell_type": "code",
   "execution_count": null,
   "id": "5abe9e88-74e5-45db-bd60-2a10fabd73e1",
   "metadata": {},
   "outputs": [],
   "source": []
  },
  {
   "cell_type": "code",
   "execution_count": null,
   "id": "d6616745-fad4-4dc3-82ea-d162ece214b9",
   "metadata": {},
   "outputs": [],
   "source": []
  },
  {
   "cell_type": "code",
   "execution_count": null,
   "id": "26936935-6e78-470f-9c33-c19622149458",
   "metadata": {},
   "outputs": [],
   "source": []
  },
  {
   "cell_type": "markdown",
   "id": "36a07755-430b-4f46-80ba-dad07ccd7d9b",
   "metadata": {},
   "source": [
    "### Summations using basic Python\n",
    "\n"
   ]
  },
  {
   "cell_type": "code",
   "execution_count": 16,
   "id": "b49b0bf7-4c10-4b49-8ad7-bbd63f86f7f8",
   "metadata": {},
   "outputs": [
    {
     "data": {
      "text/plain": [
       "[1, 2, 3, 4, 5, 6, 7, 8, 9, 10]"
      ]
     },
     "execution_count": 16,
     "metadata": {},
     "output_type": "execute_result"
    }
   ],
   "source": [
    "N = 10\n",
    "nums = range(1,N+1)\n",
    "list(nums)"
   ]
  },
  {
   "cell_type": "code",
   "execution_count": 17,
   "id": "92829a5a-17dc-4d8c-9383-9b568a44b1a9",
   "metadata": {},
   "outputs": [
    {
     "data": {
      "text/plain": [
       "55"
      ]
     },
     "execution_count": 17,
     "metadata": {},
     "output_type": "execute_result"
    }
   ],
   "source": [
    "sum(nums)"
   ]
  },
  {
   "cell_type": "code",
   "execution_count": 18,
   "id": "29a10098-e93e-4b7c-9d54-5cafcf9bab23",
   "metadata": {},
   "outputs": [
    {
     "data": {
      "text/plain": [
       "55.0"
      ]
     },
     "execution_count": 18,
     "metadata": {},
     "output_type": "execute_result"
    }
   ],
   "source": [
    "N*(N+1)/2  # formula"
   ]
  },
  {
   "cell_type": "code",
   "execution_count": 19,
   "id": "f15a33f2-216a-4a23-9a57-71c3f4ba1726",
   "metadata": {},
   "outputs": [
    {
     "data": {
      "text/plain": [
       "[1, 4, 9, 16, 25, 36, 49, 64, 81, 100]"
      ]
     },
     "execution_count": 19,
     "metadata": {},
     "output_type": "execute_result"
    }
   ],
   "source": [
    "squarednums = [num**2 for num in nums]\n",
    "squarednums"
   ]
  },
  {
   "cell_type": "code",
   "execution_count": 20,
   "id": "a71921d3-4465-4738-9178-967a2f82f137",
   "metadata": {},
   "outputs": [
    {
     "data": {
      "text/plain": [
       "385"
      ]
     },
     "execution_count": 20,
     "metadata": {},
     "output_type": "execute_result"
    }
   ],
   "source": [
    "sum(squarednums)"
   ]
  },
  {
   "cell_type": "code",
   "execution_count": 21,
   "id": "929e156f-1c32-472e-8e05-1c738435fd10",
   "metadata": {},
   "outputs": [
    {
     "data": {
      "text/plain": [
       "385.0"
      ]
     },
     "execution_count": 21,
     "metadata": {},
     "output_type": "execute_result"
    }
   ],
   "source": [
    "N*(N+1)*(2*N+1)/6  # formula"
   ]
  },
  {
   "cell_type": "code",
   "execution_count": null,
   "id": "063c0722-bc79-41d4-b661-3818c9753c9f",
   "metadata": {},
   "outputs": [],
   "source": []
  },
  {
   "cell_type": "code",
   "execution_count": 22,
   "id": "2e22cc9d-dec5-4b4f-a4eb-4afb00b184e7",
   "metadata": {},
   "outputs": [
    {
     "data": {
      "text/plain": [
       "[1, 8, 27, 64, 125, 216, 343, 512, 729, 1000]"
      ]
     },
     "execution_count": 22,
     "metadata": {},
     "output_type": "execute_result"
    }
   ],
   "source": [
    "cubednums = [num**3 for num in nums]\n",
    "cubednums"
   ]
  },
  {
   "cell_type": "code",
   "execution_count": 23,
   "id": "5aca109a-304f-446b-a4bd-3f95bbf8e676",
   "metadata": {},
   "outputs": [
    {
     "data": {
      "text/plain": [
       "3025"
      ]
     },
     "execution_count": 23,
     "metadata": {},
     "output_type": "execute_result"
    }
   ],
   "source": [
    "sum(cubednums)"
   ]
  },
  {
   "cell_type": "code",
   "execution_count": 24,
   "id": "95ab6a86-7a37-43aa-aa5d-a3e170208d7e",
   "metadata": {},
   "outputs": [
    {
     "data": {
      "text/plain": [
       "3025.0"
      ]
     },
     "execution_count": 24,
     "metadata": {},
     "output_type": "execute_result"
    }
   ],
   "source": [
    "( N*(N+1)/2 )**2  # formula"
   ]
  },
  {
   "cell_type": "code",
   "execution_count": null,
   "id": "70ace1f6-02f8-4521-9f84-b9d3b56879b2",
   "metadata": {},
   "outputs": [],
   "source": []
  },
  {
   "cell_type": "markdown",
   "id": "ba9a9b08-c93e-454f-b3bc-1793597ee9ba",
   "metadata": {},
   "source": [
    "#### Sum of the geometric series"
   ]
  },
  {
   "cell_type": "code",
   "execution_count": 25,
   "id": "4b89f242-8ee3-40fc-883f-8fc53379e4e3",
   "metadata": {},
   "outputs": [
    {
     "data": {
      "text/plain": [
       "1.0"
      ]
     },
     "execution_count": 25,
     "metadata": {},
     "output_type": "execute_result"
    }
   ],
   "source": [
    "a = 0.5\n",
    "r = 0.5\n",
    "\n",
    "sum([a*r**k for k in range(0,60)])"
   ]
  },
  {
   "cell_type": "code",
   "execution_count": null,
   "id": "c084fe09-cc46-4313-bf65-3ced58f9ec2d",
   "metadata": {},
   "outputs": [],
   "source": []
  },
  {
   "cell_type": "markdown",
   "id": "6e9f4657-df9c-45a6-a3d6-3031c4865060",
   "metadata": {},
   "source": [
    "### Summations using SymPy (bonus material)\n",
    "\n"
   ]
  },
  {
   "cell_type": "code",
   "execution_count": 26,
   "id": "8482405a-dac7-4a9f-9468-c8479704b6c1",
   "metadata": {},
   "outputs": [],
   "source": [
    "from sympy import symbols\n",
    "from sympy import summation\n",
    "from sympy import simplify\n",
    "\n",
    "k, N, r = symbols(\"k N r\")"
   ]
  },
  {
   "cell_type": "code",
   "execution_count": null,
   "id": "04edf5f8-10ac-4193-95fd-c6792deb4422",
   "metadata": {},
   "outputs": [],
   "source": []
  },
  {
   "cell_type": "markdown",
   "id": "f205d288-c649-4b34-9465-768790576ae3",
   "metadata": {},
   "source": [
    "#### Sum of arithmetic sequence"
   ]
  },
  {
   "cell_type": "code",
   "execution_count": 27,
   "id": "fc0acc86-0999-4690-8da6-e9be7f24fa77",
   "metadata": {},
   "outputs": [
    {
     "data": {
      "text/latex": [
       "$\\displaystyle \\frac{N^{2}}{2} + \\frac{N}{2}$"
      ],
      "text/plain": [
       "N**2/2 + N/2"
      ]
     },
     "execution_count": 27,
     "metadata": {},
     "output_type": "execute_result"
    }
   ],
   "source": [
    "a_k = k\n",
    "\n",
    "summation(a_k, (k,0, N))"
   ]
  },
  {
   "cell_type": "code",
   "execution_count": 28,
   "id": "ac1251f8-cfd0-4303-92aa-5c8c3e0cd0dd",
   "metadata": {},
   "outputs": [
    {
     "data": {
      "text/latex": [
       "$\\displaystyle \\frac{N \\left(N + 1\\right)}{2}$"
      ],
      "text/plain": [
       "N*(N + 1)/2"
      ]
     },
     "execution_count": 28,
     "metadata": {},
     "output_type": "execute_result"
    }
   ],
   "source": [
    "simplify(summation(a_k, (k,0, N)))"
   ]
  },
  {
   "cell_type": "code",
   "execution_count": null,
   "id": "b5bfe350-017f-4b7f-a2b4-4e32aeb5211e",
   "metadata": {},
   "outputs": [],
   "source": []
  },
  {
   "cell_type": "markdown",
   "id": "cccfa480-e245-4a87-9935-42582cc5b189",
   "metadata": {},
   "source": [
    "#### Sum of squares"
   ]
  },
  {
   "cell_type": "code",
   "execution_count": 29,
   "id": "7d82653a-75d5-42c8-b695-a3a342b44a13",
   "metadata": {},
   "outputs": [
    {
     "data": {
      "text/latex": [
       "$\\displaystyle \\frac{N \\left(2 N^{2} + 3 N + 1\\right)}{6}$"
      ],
      "text/plain": [
       "N*(2*N**2 + 3*N + 1)/6"
      ]
     },
     "execution_count": 29,
     "metadata": {},
     "output_type": "execute_result"
    }
   ],
   "source": [
    "b_k = k**2\n",
    "\n",
    "simplify(summation(b_k, (k,0, N)))"
   ]
  },
  {
   "cell_type": "code",
   "execution_count": null,
   "id": "d67b1a0e-f2f1-4245-9142-407267ed8b2e",
   "metadata": {},
   "outputs": [],
   "source": []
  },
  {
   "cell_type": "markdown",
   "id": "cf9c6764-d337-4a06-97fe-a046847e1aed",
   "metadata": {},
   "source": [
    "#### Sum of cubes"
   ]
  },
  {
   "cell_type": "code",
   "execution_count": 30,
   "id": "76289a4b-a924-4d88-b40b-e5a796c218bf",
   "metadata": {},
   "outputs": [
    {
     "data": {
      "text/latex": [
       "$\\displaystyle \\frac{N^{2} \\left(N^{2} + 2 N + 1\\right)}{4}$"
      ],
      "text/plain": [
       "N**2*(N**2 + 2*N + 1)/4"
      ]
     },
     "execution_count": 30,
     "metadata": {},
     "output_type": "execute_result"
    }
   ],
   "source": [
    "c_k = k**3\n",
    "\n",
    "simplify(summation(c_k, (k,0, N)))"
   ]
  },
  {
   "cell_type": "code",
   "execution_count": null,
   "id": "3f4b81be-3c53-415c-8dd0-2e8dfe2950d2",
   "metadata": {},
   "outputs": [],
   "source": []
  },
  {
   "cell_type": "markdown",
   "id": "44e77a99-e988-42b4-885f-94df5802fd8e",
   "metadata": {},
   "source": [
    "#### Geometric series"
   ]
  },
  {
   "cell_type": "code",
   "execution_count": 31,
   "id": "73f4f3bb-fe05-4a48-9a16-98f3e4d9a87b",
   "metadata": {},
   "outputs": [
    {
     "data": {
      "text/latex": [
       "$\\displaystyle \\begin{cases} N + 1 & \\text{for}\\: r = 1 \\\\\\frac{1 - r^{N + 1}}{1 - r} & \\text{otherwise} \\end{cases}$"
      ],
      "text/plain": [
       "Piecewise((N + 1, Eq(r, 1)), ((1 - r**(N + 1))/(1 - r), True))"
      ]
     },
     "execution_count": 31,
     "metadata": {},
     "output_type": "execute_result"
    }
   ],
   "source": [
    "g_k = r**k\n",
    "\n",
    "summation(g_k, (k,0, N))"
   ]
  },
  {
   "cell_type": "code",
   "execution_count": 32,
   "id": "04f1667c-82b3-464c-bc99-938bf679de1a",
   "metadata": {},
   "outputs": [],
   "source": [
    "# from sympy import limit, oo\n",
    "# limit( (1-r**(N+1))/(1-r), N, oo)\n",
    "# # doesn't work; need to specify assumption r < 1"
   ]
  },
  {
   "cell_type": "code",
   "execution_count": null,
   "id": "20c048eb-62e0-4004-b9eb-a6516aeb9936",
   "metadata": {},
   "outputs": [],
   "source": []
  },
  {
   "cell_type": "code",
   "execution_count": null,
   "id": "2b3c3322-5ff2-4cef-95b1-8d648323575b",
   "metadata": {},
   "outputs": [],
   "source": []
  },
  {
   "cell_type": "code",
   "execution_count": null,
   "id": "c4576ab1-e27a-4608-8cd9-27816a6b9f16",
   "metadata": {},
   "outputs": [],
   "source": []
  },
  {
   "cell_type": "code",
   "execution_count": null,
   "id": "f3cb9b8b-0996-4b0a-8587-bb349637372d",
   "metadata": {},
   "outputs": [],
   "source": []
  },
  {
   "cell_type": "code",
   "execution_count": null,
   "id": "e5b6f826-7f8c-4d2c-acb2-c2dcd2829f03",
   "metadata": {},
   "outputs": [],
   "source": []
  },
  {
   "cell_type": "markdown",
   "id": "fc8ced68-5771-4ba4-9a2c-b848aaefea50",
   "metadata": {},
   "source": [
    "## Discrete distributions reference"
   ]
  },
  {
   "cell_type": "markdown",
   "id": "037c3b85-2de0-4a46-9710-2182adc37a28",
   "metadata": {},
   "source": [
    "### Discrete uniform"
   ]
  },
  {
   "cell_type": "code",
   "execution_count": 33,
   "id": "842bf38f-41a7-459e-816d-e21886c3237e",
   "metadata": {},
   "outputs": [],
   "source": [
    "# import the model family\n",
    "from scipy.stats import randint\n",
    "\n",
    "# choose parameters\n",
    "alpha = 1  # start at\n",
    "beta = 4   # stop at\n",
    "\n",
    "# create the rv object\n",
    "rvU = randint(alpha, beta+1)\n",
    "\n",
    "# use one of the rv object's methods\n"
   ]
  },
  {
   "cell_type": "markdown",
   "id": "ad02ef60-7091-40b6-a783-17adb9445972",
   "metadata": {},
   "source": [
    "The limits of the sample space of the random variable `rvU`\n",
    "can be obtained by calling its `.support()` method."
   ]
  },
  {
   "cell_type": "code",
   "execution_count": 34,
   "id": "f36a447e-c267-4654-a13e-04bfccde5e4b",
   "metadata": {},
   "outputs": [
    {
     "data": {
      "text/plain": [
       "(1, 4)"
      ]
     },
     "execution_count": 34,
     "metadata": {},
     "output_type": "execute_result"
    }
   ],
   "source": [
    "rvU.support()"
   ]
  },
  {
   "cell_type": "code",
   "execution_count": 35,
   "id": "d6cd2cb3-75b0-4944-bb83-dee0fa212754",
   "metadata": {},
   "outputs": [
    {
     "data": {
      "text/plain": [
       "2.5"
      ]
     },
     "execution_count": 35,
     "metadata": {},
     "output_type": "execute_result"
    }
   ],
   "source": [
    "rvU.mean()"
   ]
  },
  {
   "cell_type": "code",
   "execution_count": 36,
   "id": "a945ef8c-6d26-4a57-8030-911ef9bf2312",
   "metadata": {},
   "outputs": [
    {
     "data": {
      "text/plain": [
       "1.25"
      ]
     },
     "execution_count": 36,
     "metadata": {},
     "output_type": "execute_result"
    }
   ],
   "source": [
    "rvU.var()"
   ]
  },
  {
   "cell_type": "code",
   "execution_count": 37,
   "id": "746df617-04df-4184-8db8-97eca29d6acd",
   "metadata": {},
   "outputs": [
    {
     "data": {
      "text/plain": [
       "1.118033988749895"
      ]
     },
     "execution_count": 37,
     "metadata": {},
     "output_type": "execute_result"
    }
   ],
   "source": [
    "rvU.std()  # = np.sqrt(rvU.var())"
   ]
  },
  {
   "cell_type": "code",
   "execution_count": null,
   "id": "7296b456-5576-4558-b871-decb0b588d8a",
   "metadata": {},
   "outputs": [],
   "source": []
  },
  {
   "cell_type": "markdown",
   "id": "ab02ddc3-c68b-4fcb-94e8-2dc31e5d6aad",
   "metadata": {},
   "source": [
    "#### Probability mass function"
   ]
  },
  {
   "cell_type": "code",
   "execution_count": 38,
   "id": "6e3383ea-69ff-45e2-a3cc-8587c93b5327",
   "metadata": {},
   "outputs": [
    {
     "name": "stdout",
     "output_type": "stream",
     "text": [
      "f_U( 1 )  =  0.25\n",
      "f_U( 2 )  =  0.25\n",
      "f_U( 3 )  =  0.25\n",
      "f_U( 4 )  =  0.25\n"
     ]
    }
   ],
   "source": [
    "for x in range(1,4+1):\n",
    "    print(\"f_U(\",x,\")  = \", rvU.pmf(x))"
   ]
  },
  {
   "cell_type": "markdown",
   "id": "c6702948-0fde-4526-98b6-7d2ca2cd47d5",
   "metadata": {},
   "source": [
    "To create a stem-plot of the probability mass function $f_U$,\n",
    "we can use the following three-step procedure:\n",
    "\n",
    "1. Create a range of inputs `xs` for the plot.\n",
    "2. Compute the value of $f_U =$ `rvU` for each of the inputs and store the results as list of values `fUs`.\n",
    "3. Plot the values `fUs` by calling the function `plt.stem(xs,fUs)`.\n"
   ]
  },
  {
   "cell_type": "code",
   "execution_count": 39,
   "id": "5d2a3040-c0df-40d2-b463-c5c2a89bdad3",
   "metadata": {},
   "outputs": [
    {
     "data": {
      "text/plain": [
       "<StemContainer object of 3 artists>"
      ]
     },
     "execution_count": 39,
     "metadata": {},
     "output_type": "execute_result"
    },
    {
     "data": {
      "image/png": "[encoded data removed]",
      "text/plain": [
       "<Figure size 504x288 with 1 Axes>"
      ]
     },
     "metadata": {
      "image/png": {
       "height": 249,
       "width": 428
      }
     },
     "output_type": "display_data"
    }
   ],
   "source": [
    "import numpy as np\n",
    "import matplotlib.pyplot as plt\n",
    "\n",
    "xs = np.arange(0,8+1)\n",
    "fUs = rvU.pmf(xs)\n",
    "plt.stem(xs, fUs, basefmt=\" \")"
   ]
  },
  {
   "cell_type": "code",
   "execution_count": 40,
   "id": "2bdc2396-095c-49f1-ba1c-38a2d5c6ab13",
   "metadata": {},
   "outputs": [
    {
     "data": {
      "text/plain": [
       "<AxesSubplot:xlabel='x', ylabel='$f_{X}$'>"
      ]
     },
     "execution_count": 40,
     "metadata": {},
     "output_type": "execute_result"
    },
    {
     "data": {
      "image/png": "[encoded data removed]",
      "text/plain": [
       "<Figure size 504x288 with 1 Axes>"
      ]
     },
     "metadata": {
      "image/png": {
       "height": 262,
       "width": 443
      }
     },
     "output_type": "display_data"
    }
   ],
   "source": [
    "# ALT\n",
    "plot_pmf(rvU, xlims=[0,8+1])"
   ]
  },
  {
   "cell_type": "code",
   "execution_count": null,
   "id": "db55c997-575f-4f13-8419-d87bcaa2e056",
   "metadata": {},
   "outputs": [],
   "source": []
  },
  {
   "cell_type": "markdown",
   "id": "e824af93-e537-4107-809c-5330f36b528d",
   "metadata": {},
   "source": [
    "#### Cumulative distribution function"
   ]
  },
  {
   "cell_type": "code",
   "execution_count": 41,
   "id": "f789b5fc-a23f-47e7-9687-5ae7b5880d6d",
   "metadata": {},
   "outputs": [
    {
     "name": "stdout",
     "output_type": "stream",
     "text": [
      "F_U( 1 )  =  0.25\n",
      "F_U( 2 )  =  0.5\n",
      "F_U( 3 )  =  0.75\n",
      "F_U( 4 )  =  1.0\n"
     ]
    }
   ],
   "source": [
    "for b in range(1,4+1):\n",
    "    print(\"F_U(\", b, \")  = \", rvU.cdf(b))"
   ]
  },
  {
   "cell_type": "code",
   "execution_count": 42,
   "id": "1bebc48e-aec6-4dbc-ac1e-c4dd854cf876",
   "metadata": {},
   "outputs": [
    {
     "data": {
      "text/plain": [
       "<AxesSubplot:>"
      ]
     },
     "execution_count": 42,
     "metadata": {},
     "output_type": "execute_result"
    },
    {
     "data": {
      "image/png": "[encoded data removed]",
      "text/plain": [
       "<Figure size 504x288 with 1 Axes>"
      ]
     },
     "metadata": {
      "image/png": {
       "height": 249,
       "width": 424
      }
     },
     "output_type": "display_data"
    }
   ],
   "source": [
    "import numpy as np\n",
    "import seaborn as sns\n",
    "\n",
    "xs = np.linspace(0,8,1000)\n",
    "FUs = rvU.cdf(xs)\n",
    "sns.lineplot(x=xs, y=FUs)"
   ]
  },
  {
   "cell_type": "code",
   "execution_count": 43,
   "id": "9cdd98e8-57a2-45cc-8d5f-119bbe482168",
   "metadata": {},
   "outputs": [
    {
     "data": {
      "text/plain": [
       "<AxesSubplot:xlabel='u', ylabel='$F_{U}$'>"
      ]
     },
     "execution_count": 43,
     "metadata": {},
     "output_type": "execute_result"
    },
    {
     "data": {
      "image/png": "[encoded data removed]",
      "text/plain": [
       "<Figure size 504x288 with 1 Axes>"
      ]
     },
     "metadata": {
      "image/png": {
       "height": 262,
       "width": 438
      }
     },
     "output_type": "display_data"
    }
   ],
   "source": [
    "# ALT\n",
    "plot_cdf(rvU, xlims=[0,8], rv_name=\"U\")"
   ]
  },
  {
   "cell_type": "markdown",
   "id": "9805a12b-823d-4d68-ac60-85deff98df5c",
   "metadata": {},
   "source": [
    "Let's generate 10 random observations from random variable `rvU`:"
   ]
  },
  {
   "cell_type": "code",
   "execution_count": 44,
   "id": "b3306050-55b1-45e3-b359-b8e45e958b0a",
   "metadata": {},
   "outputs": [
    {
     "data": {
      "text/plain": [
       "array([3, 4, 1, 3, 3, 4, 1, 1, 3, 2])"
      ]
     },
     "execution_count": 44,
     "metadata": {},
     "output_type": "execute_result"
    }
   ],
   "source": [
    "rvU.rvs(10)"
   ]
  },
  {
   "cell_type": "code",
   "execution_count": null,
   "id": "c84384f6-1f60-4c14-a95b-2dc846d90c37",
   "metadata": {},
   "outputs": [],
   "source": []
  },
  {
   "cell_type": "code",
   "execution_count": null,
   "id": "8e4e5d4b-41db-4962-b787-a6626c3b276c",
   "metadata": {},
   "outputs": [],
   "source": []
  },
  {
   "cell_type": "markdown",
   "id": "33be36ee-c782-4736-b973-c450020e3eef",
   "metadata": {},
   "source": [
    "### Bernoulli"
   ]
  },
  {
   "cell_type": "code",
   "execution_count": 45,
   "id": "89446a5c-5b0a-47a0-bfae-016d92ee2e1a",
   "metadata": {},
   "outputs": [],
   "source": [
    "from scipy.stats import bernoulli\n",
    "\n",
    "rvB = bernoulli(p=0.3)"
   ]
  },
  {
   "cell_type": "code",
   "execution_count": 46,
   "id": "b334b785-a28c-4c95-81a9-f79e3f9cd50e",
   "metadata": {},
   "outputs": [
    {
     "data": {
      "text/plain": [
       "(0, 1)"
      ]
     },
     "execution_count": 46,
     "metadata": {},
     "output_type": "execute_result"
    }
   ],
   "source": [
    "rvB.support()"
   ]
  },
  {
   "cell_type": "code",
   "execution_count": 47,
   "id": "6262186f-c851-472a-888e-8553a5014517",
   "metadata": {},
   "outputs": [
    {
     "data": {
      "text/plain": [
       "(0.3, 0.21)"
      ]
     },
     "execution_count": 47,
     "metadata": {},
     "output_type": "execute_result"
    }
   ],
   "source": [
    "rvB.mean(), rvB.var()"
   ]
  },
  {
   "cell_type": "code",
   "execution_count": 48,
   "id": "7db2b38e-1ab0-41d5-a397-03d85f2483e7",
   "metadata": {},
   "outputs": [
    {
     "data": {
      "text/plain": [
       "array([0, 0, 1, 0, 1, 0, 1, 1, 0, 0])"
      ]
     },
     "execution_count": 48,
     "metadata": {},
     "output_type": "execute_result"
    }
   ],
   "source": [
    "rvB.rvs(10)"
   ]
  },
  {
   "cell_type": "code",
   "execution_count": 49,
   "id": "bb7d666d-a9f8-49dd-bf92-366de5ce362a",
   "metadata": {},
   "outputs": [
    {
     "data": {
      "image/png": "[encoded data removed]",
      "text/plain": [
       "<Figure size 504x288 with 1 Axes>"
      ]
     },
     "metadata": {
      "image/png": {
       "height": 262,
       "width": 439
      }
     },
     "output_type": "display_data"
    }
   ],
   "source": [
    "plot_pmf(rvB, xlims=[0,5]);"
   ]
  },
  {
   "cell_type": "code",
   "execution_count": null,
   "id": "e2b75f45-61b9-445f-a3ec-f3b95c5d9a05",
   "metadata": {},
   "outputs": [],
   "source": []
  },
  {
   "cell_type": "code",
   "execution_count": null,
   "id": "d489756e-0a7d-4570-941b-d540d1f21faa",
   "metadata": {},
   "outputs": [],
   "source": []
  },
  {
   "cell_type": "markdown",
   "id": "a31c238a-7c82-4942-a27f-430221ee6d8a",
   "metadata": {},
   "source": [
    "### Poisson\n"
   ]
  },
  {
   "cell_type": "code",
   "execution_count": 50,
   "id": "04bfd33c-82f4-426a-94fe-04cf0fcead82",
   "metadata": {},
   "outputs": [],
   "source": [
    "from scipy.stats import poisson\n",
    "lam = 10\n",
    "rvP = poisson(lam)"
   ]
  },
  {
   "cell_type": "code",
   "execution_count": 51,
   "id": "95bcde60-9aa4-4c7a-a3b7-f6dbde07ec1d",
   "metadata": {},
   "outputs": [
    {
     "data": {
      "text/plain": [
       "0.11259903214902009"
      ]
     },
     "execution_count": 51,
     "metadata": {},
     "output_type": "execute_result"
    }
   ],
   "source": [
    "rvP.pmf(8)"
   ]
  },
  {
   "cell_type": "code",
   "execution_count": 52,
   "id": "7fc33d93-af0b-45fa-b2dd-cadba6a5db95",
   "metadata": {},
   "outputs": [
    {
     "data": {
      "text/plain": [
       "0.3328196787507191"
      ]
     },
     "execution_count": 52,
     "metadata": {},
     "output_type": "execute_result"
    }
   ],
   "source": [
    "rvP.cdf(8)"
   ]
  },
  {
   "cell_type": "code",
   "execution_count": 53,
   "id": "ecc82825-e0e8-4dfe-8a7b-f6ffe034b846",
   "metadata": {},
   "outputs": [],
   "source": [
    "## ALT. way to compute the value F_P(8) =\n",
    "# sum([rvP.pmf(x) for x in range(0,8+1)])"
   ]
  },
  {
   "cell_type": "code",
   "execution_count": 54,
   "id": "3bccf696-c56b-461b-9bb0-b9aaf1344199",
   "metadata": {},
   "outputs": [
    {
     "data": {
      "image/png": "[encoded data removed]",
      "text/plain": [
       "<Figure size 504x288 with 1 Axes>"
      ]
     },
     "metadata": {
      "image/png": {
       "height": 262,
       "width": 443
      }
     },
     "output_type": "display_data"
    }
   ],
   "source": [
    "plot_pmf(rvP, xlims=[0,30]);"
   ]
  },
  {
   "cell_type": "code",
   "execution_count": null,
   "id": "8cd32cff-6074-411f-b99c-462c996589de",
   "metadata": {},
   "outputs": [],
   "source": []
  },
  {
   "cell_type": "code",
   "execution_count": null,
   "id": "4627d185-519f-476e-b4e0-8a08a859ce73",
   "metadata": {},
   "outputs": [],
   "source": []
  },
  {
   "cell_type": "markdown",
   "id": "4202bdcc-5e66-421a-983d-4eab36bf498a",
   "metadata": {},
   "source": [
    "### Binomial\n",
    "\n",
    "We'll use the name `rvX` because `rvB` was already used for the Bernoulli random variable above."
   ]
  },
  {
   "cell_type": "code",
   "execution_count": 55,
   "id": "a71f0346-69de-40fe-a699-9bf0afe5fa34",
   "metadata": {},
   "outputs": [],
   "source": [
    "from scipy.stats import binom\n",
    "\n",
    "n = 20\n",
    "p = 0.14\n",
    "rvX = binom(n,p)\n"
   ]
  },
  {
   "cell_type": "code",
   "execution_count": 56,
   "id": "a9fc8fb8-d755-4fd1-95a6-15d5c07563b5",
   "metadata": {},
   "outputs": [
    {
     "data": {
      "text/plain": [
       "(0, 20)"
      ]
     },
     "execution_count": 56,
     "metadata": {},
     "output_type": "execute_result"
    }
   ],
   "source": [
    "rvX.support()"
   ]
  },
  {
   "cell_type": "code",
   "execution_count": 57,
   "id": "5ee2ca97-1bf3-435c-b8ab-21aa9bd1804b",
   "metadata": {},
   "outputs": [
    {
     "data": {
      "text/plain": [
       "(2.8000000000000003, 2.4080000000000004)"
      ]
     },
     "execution_count": 57,
     "metadata": {},
     "output_type": "execute_result"
    }
   ],
   "source": [
    "rvX.mean(), rvX.var()"
   ]
  },
  {
   "cell_type": "code",
   "execution_count": 58,
   "id": "6fdbf793-bf2d-41a2-80a9-0c32b2d3c470",
   "metadata": {},
   "outputs": [
    {
     "data": {
      "image/png": "[encoded data removed]",
      "text/plain": [
       "<Figure size 504x288 with 1 Axes>"
      ]
     },
     "metadata": {
      "image/png": {
       "height": 262,
       "width": 443
      }
     },
     "output_type": "display_data"
    }
   ],
   "source": [
    "plot_pmf(rvX, xlims=[0,30]);"
   ]
  },
  {
   "cell_type": "code",
   "execution_count": null,
   "id": "9b2e70d4-1d8a-49ae-b68f-6b628f443410",
   "metadata": {},
   "outputs": [],
   "source": []
  },
  {
   "cell_type": "code",
   "execution_count": null,
   "id": "727a37af-2842-4d13-9e3a-aed39220ede2",
   "metadata": {},
   "outputs": [],
   "source": []
  },
  {
   "cell_type": "markdown",
   "id": "9e291925-cb7b-4775-9d08-219f643ca4ba",
   "metadata": {},
   "source": [
    "### Geometric"
   ]
  },
  {
   "cell_type": "code",
   "execution_count": 59,
   "id": "07908ad8-9b67-45c4-943a-d00dfd2563b6",
   "metadata": {},
   "outputs": [],
   "source": [
    "from scipy.stats import geom\n",
    "\n",
    "rvG = geom(p = 0.2)"
   ]
  },
  {
   "cell_type": "code",
   "execution_count": 60,
   "id": "bc7a2783-eac3-4174-8815-03bc6fa47aa9",
   "metadata": {},
   "outputs": [
    {
     "data": {
      "text/plain": [
       "(1, inf)"
      ]
     },
     "execution_count": 60,
     "metadata": {},
     "output_type": "execute_result"
    }
   ],
   "source": [
    "rvG.support()"
   ]
  },
  {
   "cell_type": "code",
   "execution_count": 61,
   "id": "7c6a3f40-57c4-468e-bc59-031b84216e09",
   "metadata": {},
   "outputs": [
    {
     "data": {
      "text/plain": [
       "(5.0, 20.0)"
      ]
     },
     "execution_count": 61,
     "metadata": {},
     "output_type": "execute_result"
    }
   ],
   "source": [
    "rvG.mean(), rvG.var()"
   ]
  },
  {
   "cell_type": "code",
   "execution_count": 62,
   "id": "1fe8f241-bb00-4262-bef2-d3c2453ecf8e",
   "metadata": {},
   "outputs": [
    {
     "data": {
      "image/png": "[encoded data removed]",
      "text/plain": [
       "<Figure size 504x288 with 1 Axes>"
      ]
     },
     "metadata": {
      "image/png": {
       "height": 262,
       "width": 448
      }
     },
     "output_type": "display_data"
    }
   ],
   "source": [
    "plot_pmf(rvG, xlims=[0,40]);"
   ]
  },
  {
   "cell_type": "code",
   "execution_count": null,
   "id": "e31d96c4-32ec-43fa-9c23-7705c37841da",
   "metadata": {},
   "outputs": [],
   "source": []
  },
  {
   "cell_type": "code",
   "execution_count": null,
   "id": "cd2415fb-af9e-49e3-abf1-8537014c8c66",
   "metadata": {},
   "outputs": [],
   "source": []
  },
  {
   "cell_type": "markdown",
   "id": "28156f96-ec57-4e1c-bb88-7543116389cd",
   "metadata": {},
   "source": [
    "### Negative binomial"
   ]
  },
  {
   "cell_type": "code",
   "execution_count": 63,
   "id": "bce612f2-3487-4d7e-aedf-cb8f05aec0b3",
   "metadata": {},
   "outputs": [],
   "source": [
    "from scipy.stats import nbinom\n",
    "\n",
    "r = 10\n",
    "p = 0.5\n",
    "rvN = nbinom(r,p)"
   ]
  },
  {
   "cell_type": "code",
   "execution_count": 64,
   "id": "7b1d136b-01e7-4c07-af6b-712ffa3978ab",
   "metadata": {},
   "outputs": [
    {
     "data": {
      "text/plain": [
       "(0, inf)"
      ]
     },
     "execution_count": 64,
     "metadata": {},
     "output_type": "execute_result"
    }
   ],
   "source": [
    "rvN.support()"
   ]
  },
  {
   "cell_type": "code",
   "execution_count": 65,
   "id": "398c768d-cce5-4d28-9c69-ffa5837abd74",
   "metadata": {},
   "outputs": [
    {
     "data": {
      "text/plain": [
       "(10.0, 20.0)"
      ]
     },
     "execution_count": 65,
     "metadata": {},
     "output_type": "execute_result"
    }
   ],
   "source": [
    "rvN.mean(), rvN.var()"
   ]
  },
  {
   "cell_type": "code",
   "execution_count": 66,
   "id": "978f6467-f02b-40af-8613-d705b5357116",
   "metadata": {},
   "outputs": [
    {
     "data": {
      "image/png": "[encoded data removed]",
      "text/plain": [
       "<Figure size 504x288 with 1 Axes>"
      ]
     },
     "metadata": {
      "image/png": {
       "height": 262,
       "width": 443
      }
     },
     "output_type": "display_data"
    }
   ],
   "source": [
    "plot_pmf(rvN, xlims=[0,40]);"
   ]
  },
  {
   "cell_type": "code",
   "execution_count": null,
   "id": "735e145c-43e3-4539-8839-a834d8d3da04",
   "metadata": {},
   "outputs": [],
   "source": []
  },
  {
   "cell_type": "code",
   "execution_count": null,
   "id": "8ed75fa9-29d6-44bb-95b1-d3ac570a4bc0",
   "metadata": {},
   "outputs": [],
   "source": []
  },
  {
   "cell_type": "markdown",
   "id": "bec7c817-555b-4b3e-9dc0-cf7f5a27d22c",
   "metadata": {},
   "source": [
    "### Hypergeometric\n",
    "\n",
    "<!--\n",
    "# - arg1 = `internal M` = the total number of objects   == a+b\n",
    "# - arg2 = `internal n` = number of success objects     == a \n",
    "# - arg3 = `internal N` = number of draws               == n\n",
    "-->"
   ]
  },
  {
   "cell_type": "code",
   "execution_count": 67,
   "id": "1700b8c5-34ad-469e-bf1c-ac391edc437b",
   "metadata": {},
   "outputs": [],
   "source": [
    "from scipy.stats import hypergeom\n",
    "\n",
    "a = 30   # number of success balls\n",
    "b = 40   # number of failure balls\n",
    "n = 20   # how many we're drawing\n",
    "\n",
    "rvH = hypergeom(a+b, a, n)"
   ]
  },
  {
   "cell_type": "code",
   "execution_count": 68,
   "id": "c874026d-026d-4b34-bedb-6bf229a08a89",
   "metadata": {},
   "outputs": [
    {
     "data": {
      "text/plain": [
       "(0, 20)"
      ]
     },
     "execution_count": 68,
     "metadata": {},
     "output_type": "execute_result"
    }
   ],
   "source": [
    "rvH.support()"
   ]
  },
  {
   "cell_type": "code",
   "execution_count": 69,
   "id": "c6f19c4d-66ee-442f-b3b0-1512802fed67",
   "metadata": {},
   "outputs": [
    {
     "data": {
      "text/plain": [
       "(8.571428571428571, 3.54924578527063)"
      ]
     },
     "execution_count": 69,
     "metadata": {},
     "output_type": "execute_result"
    }
   ],
   "source": [
    "rvH.mean(), rvH.var()"
   ]
  },
  {
   "cell_type": "code",
   "execution_count": 70,
   "id": "67e717e1-10c9-4605-91b4-4dad1908af6c",
   "metadata": {},
   "outputs": [
    {
     "name": "stdout",
     "output_type": "stream",
     "text": [
      "mean = 8.571428571428571   std = 3.54924578527063\n"
     ]
    }
   ],
   "source": [
    "meanH, stdH = rvH.stats()\n",
    "print(\"mean =\", meanH, \"  std =\", stdH)"
   ]
  },
  {
   "cell_type": "code",
   "execution_count": 71,
   "id": "e7a3ed43-3762-4b3c-b8b3-29836dd00b8e",
   "metadata": {},
   "outputs": [
    {
     "data": {
      "image/png": "[encoded data removed]",
      "text/plain": [
       "<Figure size 504x288 with 1 Axes>"
      ]
     },
     "metadata": {
      "image/png": {
       "height": 262,
       "width": 448
      }
     },
     "output_type": "display_data"
    }
   ],
   "source": [
    "plot_pmf(rvH, xlims=[0,30]);"
   ]
  },
  {
   "cell_type": "code",
   "execution_count": null,
   "id": "16f442f8-83c8-45b6-91f0-e732a5bcd0d2",
   "metadata": {},
   "outputs": [],
   "source": []
  },
  {
   "cell_type": "markdown",
   "id": "254dd838-6f7c-4e4d-b50f-a255e790b397",
   "metadata": {},
   "source": [
    "##### Tomatoes salad probabilities"
   ]
  },
  {
   "cell_type": "code",
   "execution_count": 72,
   "id": "1c93806b-0a08-4996-9e4e-432c5e77af7c",
   "metadata": {},
   "outputs": [
    {
     "data": {
      "text/plain": [
       "(0.28571428571428575, 0.5714285714285715, 0.14285714285714288)"
      ]
     },
     "execution_count": 72,
     "metadata": {},
     "output_type": "execute_result"
    },
    {
     "data": {
      "image/png": "[encoded data removed]",
      "text/plain": [
       "<Figure size 504x288 with 1 Axes>"
      ]
     },
     "metadata": {
      "image/png": {
       "height": 266,
       "width": 439
      }
     },
     "output_type": "display_data"
    }
   ],
   "source": [
    "a = 3   # number of good tomatoes\n",
    "b = 4   # number of rotten tomatoes\n",
    "n = 2   # how many we're drawing\n",
    "\n",
    "rvHe = hypergeom(a+b, a, n)\n",
    "\n",
    "\n",
    "plot_pmf(rvHe, xlims=[0,3])\n",
    "\n",
    "rvHe.pmf(0), rvHe.pmf(1), rvHe.pmf(2)"
   ]
  },
  {
   "cell_type": "markdown",
   "id": "521e6cf5-b9d0-4d2c-96ee-f236a76e4d30",
   "metadata": {},
   "source": [
    "##### Number of dogs seen by Amy"
   ]
  },
  {
   "cell_type": "code",
   "execution_count": 73,
   "id": "94f2563c-a998-4647-ba59-4ff1561ded59",
   "metadata": {},
   "outputs": [],
   "source": [
    "a = 7        # number dogs\n",
    "b = 20 - 7   # number of other animals\n",
    "n = 12       # how many \"patients\" Amy will see today\n",
    "\n",
    "rvD = hypergeom(a+b, a, n)"
   ]
  },
  {
   "cell_type": "code",
   "execution_count": 74,
   "id": "c504efe6-855e-4026-88cb-464b8ff66252",
   "metadata": {},
   "outputs": [
    {
     "data": {
      "text/plain": [
       "0.2860681114551084"
      ]
     },
     "execution_count": 74,
     "metadata": {},
     "output_type": "execute_result"
    }
   ],
   "source": [
    "# Pr of exactly five dogs\n",
    "rvD.pmf(5)"
   ]
  },
  {
   "cell_type": "code",
   "execution_count": 75,
   "id": "70812cd8-73b8-4e1f-9d63-a8e0102561c3",
   "metadata": {},
   "outputs": [
    {
     "data": {
      "image/png": "[encoded data removed]",
      "text/plain": [
       "<Figure size 504x288 with 1 Axes>"
      ]
     },
     "metadata": {
      "image/png": {
       "height": 262,
       "width": 443
      }
     },
     "output_type": "display_data"
    }
   ],
   "source": [
    "plot_pmf(rvD, xlims=[0,10]);"
   ]
  },
  {
   "cell_type": "code",
   "execution_count": null,
   "id": "76ca4035-de83-462a-93fe-2e3c81b33c11",
   "metadata": {},
   "outputs": [],
   "source": []
  },
  {
   "cell_type": "markdown",
   "id": "6f1dfb41-bdb0-416a-b898-ccca90c90970",
   "metadata": {},
   "source": [
    "### Multinomial\n",
    "\n",
    "See [docs](https://docs.scipy.org/doc/scipy/reference/generated/scipy.stats.multinomial.html)."
   ]
  },
  {
   "cell_type": "code",
   "execution_count": 76,
   "id": "36f6d85f-1b7c-4682-a7d3-fc88b3e56027",
   "metadata": {},
   "outputs": [],
   "source": [
    "from scipy.stats import multinomial\n",
    "\n",
    "n = 10\n",
    "ps = [0.1, 0.5, 0.8]\n",
    "\n",
    "rvM = multinomial(n,ps)"
   ]
  },
  {
   "cell_type": "code",
   "execution_count": 77,
   "id": "46e643de-8579-4803-b90a-55ba7a4fd62a",
   "metadata": {},
   "outputs": [
    {
     "data": {
      "text/plain": [
       "array([[0, 6, 4]])"
      ]
     },
     "execution_count": 77,
     "metadata": {},
     "output_type": "execute_result"
    }
   ],
   "source": [
    "rvM.rvs()"
   ]
  },
  {
   "cell_type": "code",
   "execution_count": 78,
   "id": "3c7e3358-cfcf-47e0-9f70-4b5a33615977",
   "metadata": {},
   "outputs": [],
   "source": [
    "# TODO: 3D scatter plot of points in space"
   ]
  },
  {
   "cell_type": "code",
   "execution_count": null,
   "id": "57caa6e9-f9bd-4fc0-a041-1e66da097c85",
   "metadata": {},
   "outputs": [],
   "source": []
  },
  {
   "cell_type": "markdown",
   "id": "7c50e103-61b8-4dc0-9459-6988804d67c3",
   "metadata": {},
   "source": [
    "## Modelling real-world data using probability"
   ]
  },
  {
   "cell_type": "markdown",
   "id": "e174de27-c736-40d8-b490-eb5e7f3fe7d6",
   "metadata": {},
   "source": [
    "TODO: add simple inference and plots"
   ]
  },
  {
   "cell_type": "code",
   "execution_count": null,
   "id": "e6318a27-78f5-4b6e-bd89-0fa3a17febfc",
   "metadata": {},
   "outputs": [],
   "source": []
  },
  {
   "cell_type": "markdown",
   "id": "6ae9f9e6-0556-4d17-9cc2-24061558c6ce",
   "metadata": {},
   "source": [
    "## Discussion"
   ]
  },
  {
   "cell_type": "code",
   "execution_count": null,
   "id": "c87f0a26-6eb5-4ffe-980f-6c2d7dfb9112",
   "metadata": {},
   "outputs": [],
   "source": []
  },
  {
   "cell_type": "code",
   "execution_count": null,
   "id": "266fe9b6-d195-491b-a3c9-f9cc6ec6d952",
   "metadata": {},
   "outputs": [],
   "source": []
  }
 ],
 "metadata": {
  "kernelspec": {
   "display_name": "Python 3 (ipykernel)",
   "language": "python",
   "name": "python3"
  },
  "language_info": {
   "codemirror_mode": {
    "name": "ipython",
    "version": 3
   },
   "file_extension": ".py",
   "mimetype": "text/x-python",
   "name": "python",
   "nbconvert_exporter": "python",
   "pygments_lexer": "ipython3",
   "version": "3.9.4"
  }
 },
 "nbformat": 4,
 "nbformat_minor": 5
}
