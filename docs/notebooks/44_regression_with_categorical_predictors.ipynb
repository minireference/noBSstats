{
 "cells": [
  {
   "cell_type": "markdown",
   "id": "3ec95fa0-da20-41dc-820e-2f33f262f4e2",
   "metadata": {
    "tags": []
   },
   "source": [
    "# Section 4.4 — Regression with categorical predictors\n",
    "\n",
    "This notebook contains the code examples from [Section 4.4 Regression with categorical predictors]() from the **No Bullshit Guide to Statistics**."
   ]
  },
  {
   "cell_type": "markdown",
   "id": "eb4d1856-22a1-4634-87d7-5fc091d93e12",
   "metadata": {
    "tags": []
   },
   "source": [
    "#### Notebook setup"
   ]
  },
  {
   "cell_type": "code",
   "execution_count": 1,
   "id": "0003a9e7-21c7-47a5-bdec-3bd3ca2a79f4",
   "metadata": {},
   "outputs": [],
   "source": [
    "# load Python modules\n",
    "import os\n",
    "import numpy as np\n",
    "import pandas as pd\n",
    "import seaborn as sns\n",
    "import matplotlib.pyplot as plt"
   ]
  },
  {
   "cell_type": "code",
   "execution_count": 2,
   "id": "8e67e0e7-4f48-4c48-a49d-3cdf22cbd014",
   "metadata": {},
   "outputs": [
    {
     "data": {
      "text/plain": [
       "<Figure size 640x480 with 0 Axes>"
      ]
     },
     "metadata": {},
     "output_type": "display_data"
    }
   ],
   "source": [
    "# Figures setup\n",
    "plt.clf()  # needed otherwise `sns.set_theme` doesn't work\n",
    "from plot_helpers import RCPARAMS\n",
    "# RCPARAMS.update({'figure.figsize': (10, 3)})   # good for screen\n",
    "RCPARAMS.update({'figure.figsize': (5, 1.6)})    # good for print\n",
    "sns.set_theme(\n",
    "    context=\"paper\",\n",
    "    style=\"whitegrid\",\n",
    "    palette=\"colorblind\",\n",
    "    rc=RCPARAMS,\n",
    ")\n",
    "\n",
    "# High-resolution please\n",
    "%config InlineBackend.figure_format = 'retina'\n",
    "\n",
    "# Where to store figures\n",
    "DESTDIR = \"figures/lm/categorical\""
   ]
  },
  {
   "cell_type": "code",
   "execution_count": 3,
   "id": "efc0e89b-72bf-4658-8f8a-a3d85bee00b6",
   "metadata": {},
   "outputs": [],
   "source": [
    "#######################################################"
   ]
  },
  {
   "cell_type": "code",
   "execution_count": null,
   "id": "2470aa14-ec23-4179-bef1-e6588524ef33",
   "metadata": {},
   "outputs": [],
   "source": []
  },
  {
   "cell_type": "code",
   "execution_count": null,
   "id": "3ac4d6cf-4021-4ba7-9313-fcf62009d7c1",
   "metadata": {},
   "outputs": [],
   "source": [
    "\n"
   ]
  },
  {
   "cell_type": "markdown",
   "id": "42ea71c8-ed5c-4c83-bad1-1416fb4ec4ff",
   "metadata": {},
   "source": [
    "## Definitions"
   ]
  },
  {
   "cell_type": "code",
   "execution_count": 4,
   "id": "e1876f35-c7d2-4763-9503-69825a20971a",
   "metadata": {},
   "outputs": [],
   "source": [
    "import pandas as pd\n",
    "import statsmodels.formula.api as smf"
   ]
  },
  {
   "cell_type": "markdown",
   "id": "489465a5-4e95-467e-9ec7-e59a3c4905a6",
   "metadata": {},
   "source": [
    "### Design matrix for linear model `lm1`"
   ]
  },
  {
   "cell_type": "code",
   "execution_count": 5,
   "id": "e643d654-e46f-468c-968b-724eddad055f",
   "metadata": {},
   "outputs": [
    {
     "data": {
      "text/plain": [
       "array([[ 1.  , 10.96],\n",
       "       [ 1.  ,  8.69],\n",
       "       [ 1.  ,  8.6 ]])"
      ]
     },
     "execution_count": 5,
     "metadata": {},
     "output_type": "execute_result"
    }
   ],
   "source": [
    "students = pd.read_csv(\"../datasets/students.csv\")\n",
    "lm1 = smf.ols(\"score ~ 1 + effort\", data=students).fit()\n",
    "lm1.model.exog[0:3]"
   ]
  },
  {
   "cell_type": "code",
   "execution_count": 6,
   "id": "48af6be3-70bc-4dab-b4fe-948ddb26ccb9",
   "metadata": {},
   "outputs": [
    {
     "data": {
      "text/plain": [
       "array([10.96,  8.69,  8.6 ])"
      ]
     },
     "execution_count": 6,
     "metadata": {},
     "output_type": "execute_result"
    }
   ],
   "source": [
    "students[\"effort\"].values[0:3]"
   ]
  },
  {
   "cell_type": "markdown",
   "id": "cabb956d-4f1b-4c2a-a53a-6b8a63c3d3d5",
   "metadata": {},
   "source": [
    "### Design matrix for linear model `lm2`"
   ]
  },
  {
   "cell_type": "code",
   "execution_count": 7,
   "id": "9cf0d774-351c-43ef-9f1e-fad1026be750",
   "metadata": {},
   "outputs": [
    {
     "data": {
      "text/plain": [
       "array([[ 1. ,  0. ,  5. ,  0. ],\n",
       "       [ 1. , 20. ,  0. ,  4.5],\n",
       "       [ 1. ,  1. ,  0. ,  7. ]])"
      ]
     },
     "execution_count": 7,
     "metadata": {},
     "output_type": "execute_result"
    }
   ],
   "source": [
    "doctors = pd.read_csv(\"../datasets/doctors.csv\")\n",
    "formula = \"score ~ 1 + alc + weed + exrc\"\n",
    "lm2  = smf.ols(formula, data=doctors).fit()\n",
    "lm2.model.exog[0:3]"
   ]
  },
  {
   "cell_type": "code",
   "execution_count": 8,
   "id": "084bcb14-7df5-4c98-b367-4f72947c9cf5",
   "metadata": {},
   "outputs": [
    {
     "data": {
      "text/plain": [
       "array([[ 0. ,  5. ,  0. ],\n",
       "       [20. ,  0. ,  4.5],\n",
       "       [ 1. ,  0. ,  7. ]])"
      ]
     },
     "execution_count": 8,
     "metadata": {},
     "output_type": "execute_result"
    }
   ],
   "source": [
    "doctors[[\"alc\",\"weed\",\"exrc\"]].values[0:3]"
   ]
  },
  {
   "cell_type": "markdown",
   "id": "7e958a8b-2f67-47d5-8d8d-38b75d17ace0",
   "metadata": {},
   "source": [
    "## Example 1: binary predictor variable"
   ]
  },
  {
   "cell_type": "code",
   "execution_count": 9,
   "id": "0b8fb1f1-2cd8-42bd-a6c3-a2fd26cc0a51",
   "metadata": {},
   "outputs": [
    {
     "data": {
      "text/plain": [
       "Intercept        52.956522\n",
       "C(loc)[T.urb]    -6.992885\n",
       "dtype: float64"
      ]
     },
     "execution_count": 9,
     "metadata": {},
     "output_type": "execute_result"
    }
   ],
   "source": [
    "import statsmodels.formula.api as smf\n",
    "lmloc = smf.ols(\"score ~ 1 + C(loc)\", data=doctors).fit()\n",
    "lmloc.params"
   ]
  },
  {
   "cell_type": "markdown",
   "id": "61acc2ed-3ddf-4a3c-9ab3-8220c1851a53",
   "metadata": {},
   "source": [
    "![Visualization of the results of the model `lmloc`.](./attachments/lm/doctors_scores_vs_loc_with_line.png)"
   ]
  },
  {
   "cell_type": "code",
   "execution_count": 10,
   "id": "be3e3aea-19d7-4675-a519-cd4cb7b1af48",
   "metadata": {},
   "outputs": [
    {
     "data": {
      "text/plain": [
       "(52.95652173913044, 45.96363636363636, -6.992885375494076)"
      ]
     },
     "execution_count": 10,
     "metadata": {},
     "output_type": "execute_result"
    }
   ],
   "source": [
    "rur_mean = doctors[doctors[\"loc\"]==\"rur\"][\"score\"].mean()\n",
    "urb_mean = doctors[doctors[\"loc\"]==\"urb\"][\"score\"].mean()\n",
    "\n",
    "rur_mean, urb_mean, urb_mean - rur_mean"
   ]
  },
  {
   "cell_type": "markdown",
   "id": "2685f4be-e7c8-4030-82f3-8c4888817eff",
   "metadata": {},
   "source": [
    "### Encoding"
   ]
  },
  {
   "cell_type": "code",
   "execution_count": 11,
   "id": "0936fd56-2468-4685-adb4-f211036e4b48",
   "metadata": {},
   "outputs": [
    {
     "data": {
      "text/plain": [
       "0    rur\n",
       "1    urb\n",
       "2    urb\n",
       "3    urb\n",
       "4    rur\n",
       "Name: loc, dtype: object"
      ]
     },
     "execution_count": 11,
     "metadata": {},
     "output_type": "execute_result"
    }
   ],
   "source": [
    "doctors[\"loc\"][0:5]"
   ]
  },
  {
   "cell_type": "code",
   "execution_count": 12,
   "id": "0d387c44-e840-4c8f-bd8e-8683321558a5",
   "metadata": {},
   "outputs": [
    {
     "data": {
      "text/plain": [
       "array([[1., 0.],\n",
       "       [1., 1.],\n",
       "       [1., 1.],\n",
       "       [1., 1.],\n",
       "       [1., 0.]])"
      ]
     },
     "execution_count": 12,
     "metadata": {},
     "output_type": "execute_result"
    }
   ],
   "source": [
    "lmloc.model.exog[0:5]"
   ]
  },
  {
   "cell_type": "code",
   "execution_count": 13,
   "id": "fabc0640-55a1-4070-a6d8-141a13be4c79",
   "metadata": {},
   "outputs": [],
   "source": [
    "# ALT.\n",
    "# dmatrix(\"1 + C(loc)\", doctors)[0:5]"
   ]
  },
  {
   "cell_type": "markdown",
   "id": "1ea2698a-3fb1-4e24-bd91-ad8dac684d92",
   "metadata": {},
   "source": [
    "## Dummy coding for categorical predictors"
   ]
  },
  {
   "cell_type": "code",
   "execution_count": 14,
   "id": "2798634d-f280-4f96-861c-b5bef2df8ffd",
   "metadata": {},
   "outputs": [
    {
     "data": {
      "text/html": [
       "<div>\n",
       "<style scoped>\n",
       "    .dataframe tbody tr th:only-of-type {\n",
       "        vertical-align: middle;\n",
       "    }\n",
       "\n",
       "    .dataframe tbody tr th {\n",
       "        vertical-align: top;\n",
       "    }\n",
       "\n",
       "    .dataframe thead th {\n",
       "        text-align: right;\n",
       "    }\n",
       "</style>\n",
       "<table border=\"1\" class=\"dataframe\">\n",
       "  <thead>\n",
       "    <tr style=\"text-align: right;\">\n",
       "      <th></th>\n",
       "      <th>cat</th>\n",
       "    </tr>\n",
       "  </thead>\n",
       "  <tbody>\n",
       "    <tr>\n",
       "      <th>0</th>\n",
       "      <td>A</td>\n",
       "    </tr>\n",
       "    <tr>\n",
       "      <th>1</th>\n",
       "      <td>B</td>\n",
       "    </tr>\n",
       "    <tr>\n",
       "      <th>2</th>\n",
       "      <td>C</td>\n",
       "    </tr>\n",
       "    <tr>\n",
       "      <th>3</th>\n",
       "      <td>C</td>\n",
       "    </tr>\n",
       "  </tbody>\n",
       "</table>\n",
       "</div>"
      ],
      "text/plain": [
       "  cat\n",
       "0   A\n",
       "1   B\n",
       "2   C\n",
       "3   C"
      ]
     },
     "execution_count": 14,
     "metadata": {},
     "output_type": "execute_result"
    }
   ],
   "source": [
    "cats = [\"A\", \"B\", \"C\", \"C\"]\n",
    "catdf = pd.DataFrame({\"cat\":cats})\n",
    "catdf"
   ]
  },
  {
   "cell_type": "code",
   "execution_count": 15,
   "id": "5c716800-6ba1-4c12-8de6-b6ca79479632",
   "metadata": {},
   "outputs": [
    {
     "data": {
      "text/plain": [
       "DesignMatrix with shape (4, 3)\n",
       "  Intercept  C(cat)[T.B]  C(cat)[T.C]\n",
       "          1            0            0\n",
       "          1            1            0\n",
       "          1            0            1\n",
       "          1            0            1\n",
       "  Terms:\n",
       "    'Intercept' (column 0)\n",
       "    'C(cat)' (columns 1:3)"
      ]
     },
     "execution_count": 15,
     "metadata": {},
     "output_type": "execute_result"
    }
   ],
   "source": [
    "from patsy import dmatrix\n",
    "\n",
    "dmatrix(\"1 + C(cat)\", data=catdf)"
   ]
  },
  {
   "cell_type": "markdown",
   "id": "fd88cc7e-42e0-40f5-b702-ff955d8885ac",
   "metadata": {},
   "source": [
    "## Example 2: predictors with three levels"
   ]
  },
  {
   "cell_type": "code",
   "execution_count": 16,
   "id": "990c883b-96e1-423b-903a-c8f8fc72415d",
   "metadata": {},
   "outputs": [
    {
     "data": {
      "text/plain": [
       "0    hos\n",
       "1    cli\n",
       "2    hos\n",
       "3    eld\n",
       "4    cli\n",
       "Name: work, dtype: object"
      ]
     },
     "execution_count": 16,
     "metadata": {},
     "output_type": "execute_result"
    }
   ],
   "source": [
    "doctors = pd.read_csv(\"../datasets/doctors.csv\")\n",
    "doctors[\"work\"].head(5)"
   ]
  },
  {
   "cell_type": "code",
   "execution_count": 17,
   "id": "0ac1b4c5-3a5a-4d33-ae79-661544f73bf1",
   "metadata": {},
   "outputs": [
    {
     "data": {
      "text/plain": [
       "array([[1., 0., 1.],\n",
       "       [1., 0., 0.],\n",
       "       [1., 0., 1.],\n",
       "       [1., 1., 0.],\n",
       "       [1., 0., 0.]])"
      ]
     },
     "execution_count": 17,
     "metadata": {},
     "output_type": "execute_result"
    }
   ],
   "source": [
    "dmatrix(\"1 + C(work)\", data=doctors)[0:5]"
   ]
  },
  {
   "cell_type": "code",
   "execution_count": 18,
   "id": "cb4cf820-e779-459e-a845-54a723837933",
   "metadata": {},
   "outputs": [
    {
     "data": {
      "text/plain": [
       "Intercept         46.545455\n",
       "C(work)[T.eld]     4.569930\n",
       "C(work)[T.hos]     2.668831\n",
       "dtype: float64"
      ]
     },
     "execution_count": 18,
     "metadata": {},
     "output_type": "execute_result"
    }
   ],
   "source": [
    "lmw = smf.ols(\"score ~ 1 + C(work)\", data=doctors).fit()\n",
    "lmw.params"
   ]
  },
  {
   "cell_type": "markdown",
   "id": "58739fff-3bdf-49e4-86c3-e2fcfa1fd02a",
   "metadata": {},
   "source": [
    "![Visualization of the estimated parameters of the model `lmw`.](./attachments/lm/doctors_scores_vs_work_with_lines.png)"
   ]
  },
  {
   "cell_type": "code",
   "execution_count": 19,
   "id": "0c335837-4b59-4f9f-bd76-4ebba97fa916",
   "metadata": {},
   "outputs": [
    {
     "data": {
      "text/plain": [
       "0.0077217625749193"
      ]
     },
     "execution_count": 19,
     "metadata": {},
     "output_type": "execute_result"
    }
   ],
   "source": [
    "lmw.rsquared"
   ]
  },
  {
   "cell_type": "code",
   "execution_count": 20,
   "id": "3b83af28-a535-41ce-b663-0c80260a469d",
   "metadata": {},
   "outputs": [
    {
     "data": {
      "text/plain": [
       "(0.5953116925291129, 0.5526627461285702)"
      ]
     },
     "execution_count": 20,
     "metadata": {},
     "output_type": "execute_result"
    }
   ],
   "source": [
    "lmw.fvalue, lmw.f_pvalue"
   ]
  },
  {
   "cell_type": "code",
   "execution_count": null,
   "id": "8756c0e5-b667-43ab-8a4b-3a61f6961380",
   "metadata": {},
   "outputs": [],
   "source": []
  },
  {
   "cell_type": "markdown",
   "id": "4d0382a6-0da5-422a-95a1-f3b5a2919d3a",
   "metadata": {},
   "source": [
    "## Example 3: improved model for the sleep scores\n",
    "\n",
    "We can mix of numerical and categorical predictors"
   ]
  },
  {
   "cell_type": "code",
   "execution_count": 21,
   "id": "d31a52b9-c562-471e-afd5-157100f68511",
   "metadata": {},
   "outputs": [
    {
     "data": {
      "text/plain": [
       "Intercept        63.606961\n",
       "C(loc)[T.urb]    -5.002404\n",
       "alc              -1.784915\n",
       "weed             -0.840668\n",
       "exrc              1.783107\n",
       "dtype: float64"
      ]
     },
     "execution_count": 21,
     "metadata": {},
     "output_type": "execute_result"
    }
   ],
   "source": [
    "formula3 = \"score ~ 1 + alc + weed + exrc + C(loc)\"\n",
    "lm3 = smf.ols(formula3, data=doctors).fit()\n",
    "lm3.params"
   ]
  },
  {
   "cell_type": "code",
   "execution_count": 22,
   "id": "011a73b9-fab1-462b-815b-0615dadb859d",
   "metadata": {},
   "outputs": [
    {
     "data": {
      "text/plain": [
       "(0.8544615790287665, 1092.5985552344712)"
      ]
     },
     "execution_count": 22,
     "metadata": {},
     "output_type": "execute_result"
    }
   ],
   "source": [
    "lm3.rsquared, lm3.aic"
   ]
  },
  {
   "cell_type": "code",
   "execution_count": 23,
   "id": "2a2e2a9b-43b5-4700-9505-9addf22cd44c",
   "metadata": {},
   "outputs": [
    {
     "data": {
      "image/png": "[encoded data removed]",
      "text/plain": [
       "<Figure size 500x160 with 1 Axes>"
      ]
     },
     "metadata": {
      "image/png": {
       "height": 185,
       "width": 458
      }
     },
     "output_type": "display_data"
    }
   ],
   "source": [
    "from ministats import plot_partreg\n",
    "\n",
    "plot_partreg(lm3, \"alc\");"
   ]
  },
  {
   "cell_type": "code",
   "execution_count": 24,
   "id": "0acda7d3-6549-4fb9-a9c3-ab267ab4f012",
   "metadata": {},
   "outputs": [
    {
     "data": {
      "text/html": [
       "<table class=\"simpletable\">\n",
       "<caption>OLS Regression Results</caption>\n",
       "<tr>\n",
       "  <th>Dep. Variable:</th>          <td>score</td>      <th>  R-squared:         </th> <td>   0.854</td>\n",
       "</tr>\n",
       "<tr>\n",
       "  <th>Model:</th>                   <td>OLS</td>       <th>  Adj. R-squared:    </th> <td>   0.851</td>\n",
       "</tr>\n",
       "<tr>\n",
       "  <th>Method:</th>             <td>Least Squares</td>  <th>  F-statistic:       </th> <td>   221.6</td>\n",
       "</tr>\n",
       "<tr>\n",
       "  <th>Date:</th>             <td>Fri, 19 Jul 2024</td> <th>  Prob (F-statistic):</th> <td>4.18e-62</td>\n",
       "</tr>\n",
       "<tr>\n",
       "  <th>Time:</th>                 <td>09:45:06</td>     <th>  Log-Likelihood:    </th> <td> -541.30</td>\n",
       "</tr>\n",
       "<tr>\n",
       "  <th>No. Observations:</th>      <td>   156</td>      <th>  AIC:               </th> <td>   1093.</td>\n",
       "</tr>\n",
       "<tr>\n",
       "  <th>Df Residuals:</th>          <td>   151</td>      <th>  BIC:               </th> <td>   1108.</td>\n",
       "</tr>\n",
       "<tr>\n",
       "  <th>Df Model:</th>              <td>     4</td>      <th>                     </th>     <td> </td>   \n",
       "</tr>\n",
       "<tr>\n",
       "  <th>Covariance Type:</th>      <td>nonrobust</td>    <th>                     </th>     <td> </td>   \n",
       "</tr>\n",
       "</table>\n",
       "<table class=\"simpletable\">\n",
       "<tr>\n",
       "        <td></td>           <th>coef</th>     <th>std err</th>      <th>t</th>      <th>P>|t|</th>  <th>[0.025</th>    <th>0.975]</th>  \n",
       "</tr>\n",
       "<tr>\n",
       "  <th>Intercept</th>     <td>   63.6070</td> <td>    1.524</td> <td>   41.734</td> <td> 0.000</td> <td>   60.596</td> <td>   66.618</td>\n",
       "</tr>\n",
       "<tr>\n",
       "  <th>C(loc)[T.urb]</th> <td>   -5.0024</td> <td>    1.401</td> <td>   -3.572</td> <td> 0.000</td> <td>   -7.770</td> <td>   -2.235</td>\n",
       "</tr>\n",
       "<tr>\n",
       "  <th>alc</th>           <td>   -1.7849</td> <td>    0.068</td> <td>  -26.424</td> <td> 0.000</td> <td>   -1.918</td> <td>   -1.651</td>\n",
       "</tr>\n",
       "<tr>\n",
       "  <th>weed</th>          <td>   -0.8407</td> <td>    0.462</td> <td>   -1.821</td> <td> 0.071</td> <td>   -1.753</td> <td>    0.071</td>\n",
       "</tr>\n",
       "<tr>\n",
       "  <th>exrc</th>          <td>    1.7831</td> <td>    0.133</td> <td>   13.400</td> <td> 0.000</td> <td>    1.520</td> <td>    2.046</td>\n",
       "</tr>\n",
       "</table>\n",
       "<table class=\"simpletable\">\n",
       "<tr>\n",
       "  <th>Omnibus:</th>       <td> 4.325</td> <th>  Durbin-Watson:     </th> <td>   1.823</td>\n",
       "</tr>\n",
       "<tr>\n",
       "  <th>Prob(Omnibus):</th> <td> 0.115</td> <th>  Jarque-Bera (JB):  </th> <td>   4.038</td>\n",
       "</tr>\n",
       "<tr>\n",
       "  <th>Skew:</th>          <td> 0.279</td> <th>  Prob(JB):          </th> <td>   0.133</td>\n",
       "</tr>\n",
       "<tr>\n",
       "  <th>Kurtosis:</th>      <td> 3.556</td> <th>  Cond. No.          </th> <td>    46.2</td>\n",
       "</tr>\n",
       "</table><br/><br/>Notes:<br/>[1] Standard Errors assume that the covariance matrix of the errors is correctly specified."
      ],
      "text/latex": [
       "\\begin{center}\n",
       "\\begin{tabular}{lclc}\n",
       "\\toprule\n",
       "\\textbf{Dep. Variable:}    &      score       & \\textbf{  R-squared:         } &     0.854   \\\\\n",
       "\\textbf{Model:}            &       OLS        & \\textbf{  Adj. R-squared:    } &     0.851   \\\\\n",
       "\\textbf{Method:}           &  Least Squares   & \\textbf{  F-statistic:       } &     221.6   \\\\\n",
       "\\textbf{Date:}             & Fri, 19 Jul 2024 & \\textbf{  Prob (F-statistic):} &  4.18e-62   \\\\\n",
       "\\textbf{Time:}             &     09:45:06     & \\textbf{  Log-Likelihood:    } &   -541.30   \\\\\n",
       "\\textbf{No. Observations:} &         156      & \\textbf{  AIC:               } &     1093.   \\\\\n",
       "\\textbf{Df Residuals:}     &         151      & \\textbf{  BIC:               } &     1108.   \\\\\n",
       "\\textbf{Df Model:}         &           4      & \\textbf{                     } &             \\\\\n",
       "\\textbf{Covariance Type:}  &    nonrobust     & \\textbf{                     } &             \\\\\n",
       "\\bottomrule\n",
       "\\end{tabular}\n",
       "\\begin{tabular}{lcccccc}\n",
       "                       & \\textbf{coef} & \\textbf{std err} & \\textbf{t} & \\textbf{P$> |$t$|$} & \\textbf{[0.025} & \\textbf{0.975]}  \\\\\n",
       "\\midrule\n",
       "\\textbf{Intercept}     &      63.6070  &        1.524     &    41.734  &         0.000        &       60.596    &       66.618     \\\\\n",
       "\\textbf{C(loc)[T.urb]} &      -5.0024  &        1.401     &    -3.572  &         0.000        &       -7.770    &       -2.235     \\\\\n",
       "\\textbf{alc}           &      -1.7849  &        0.068     &   -26.424  &         0.000        &       -1.918    &       -1.651     \\\\\n",
       "\\textbf{weed}          &      -0.8407  &        0.462     &    -1.821  &         0.071        &       -1.753    &        0.071     \\\\\n",
       "\\textbf{exrc}          &       1.7831  &        0.133     &    13.400  &         0.000        &        1.520    &        2.046     \\\\\n",
       "\\bottomrule\n",
       "\\end{tabular}\n",
       "\\begin{tabular}{lclc}\n",
       "\\textbf{Omnibus:}       &  4.325 & \\textbf{  Durbin-Watson:     } &    1.823  \\\\\n",
       "\\textbf{Prob(Omnibus):} &  0.115 & \\textbf{  Jarque-Bera (JB):  } &    4.038  \\\\\n",
       "\\textbf{Skew:}          &  0.279 & \\textbf{  Prob(JB):          } &    0.133  \\\\\n",
       "\\textbf{Kurtosis:}      &  3.556 & \\textbf{  Cond. No.          } &     46.2  \\\\\n",
       "\\bottomrule\n",
       "\\end{tabular}\n",
       "%\\caption{OLS Regression Results}\n",
       "\\end{center}\n",
       "\n",
       "Notes: \\newline\n",
       " [1] Standard Errors assume that the covariance matrix of the errors is correctly specified."
      ],
      "text/plain": [
       "<class 'statsmodels.iolib.summary.Summary'>\n",
       "\"\"\"\n",
       "                            OLS Regression Results                            \n",
       "==============================================================================\n",
       "Dep. Variable:                  score   R-squared:                       0.854\n",
       "Model:                            OLS   Adj. R-squared:                  0.851\n",
       "Method:                 Least Squares   F-statistic:                     221.6\n",
       "Date:                Fri, 19 Jul 2024   Prob (F-statistic):           4.18e-62\n",
       "Time:                        09:45:06   Log-Likelihood:                -541.30\n",
       "No. Observations:                 156   AIC:                             1093.\n",
       "Df Residuals:                     151   BIC:                             1108.\n",
       "Df Model:                           4                                         \n",
       "Covariance Type:            nonrobust                                         \n",
       "=================================================================================\n",
       "                    coef    std err          t      P>|t|      [0.025      0.975]\n",
       "---------------------------------------------------------------------------------\n",
       "Intercept        63.6070      1.524     41.734      0.000      60.596      66.618\n",
       "C(loc)[T.urb]    -5.0024      1.401     -3.572      0.000      -7.770      -2.235\n",
       "alc              -1.7849      0.068    -26.424      0.000      -1.918      -1.651\n",
       "weed             -0.8407      0.462     -1.821      0.071      -1.753       0.071\n",
       "exrc              1.7831      0.133     13.400      0.000       1.520       2.046\n",
       "==============================================================================\n",
       "Omnibus:                        4.325   Durbin-Watson:                   1.823\n",
       "Prob(Omnibus):                  0.115   Jarque-Bera (JB):                4.038\n",
       "Skew:                           0.279   Prob(JB):                        0.133\n",
       "Kurtosis:                       3.556   Cond. No.                         46.2\n",
       "==============================================================================\n",
       "\n",
       "Notes:\n",
       "[1] Standard Errors assume that the covariance matrix of the errors is correctly specified.\n",
       "\"\"\""
      ]
     },
     "execution_count": 24,
     "metadata": {},
     "output_type": "execute_result"
    }
   ],
   "source": [
    "lm3.summary()"
   ]
  },
  {
   "cell_type": "markdown",
   "id": "279589fe-c618-4d0d-a74b-00159b18a992",
   "metadata": {},
   "source": [
    "#### Compare to the model without `loc` predictor"
   ]
  },
  {
   "cell_type": "code",
   "execution_count": 25,
   "id": "fcdc41f3-f096-4125-91b0-6b54ea8b65c1",
   "metadata": {},
   "outputs": [
    {
     "data": {
      "text/plain": [
       "(12.758115596295623, 0.0004759812308491827)"
      ]
     },
     "execution_count": 25,
     "metadata": {},
     "output_type": "execute_result"
    }
   ],
   "source": [
    "formula2 = \"score ~ 1 + alc + weed + exrc\"\n",
    "lm2 = smf.ols(formula2, data=doctors).fit()\n",
    "F, p, _ = lm3.compare_f_test(lm2)\n",
    "F, p"
   ]
  },
  {
   "cell_type": "markdown",
   "id": "95b7a0a9-7643-45f5-9a33-29d5ab6e362e",
   "metadata": {},
   "source": [
    "## Everything is a linear model"
   ]
  },
  {
   "cell_type": "markdown",
   "id": "8aa4e35f-2009-40fa-89fb-6f3ae00ab848",
   "metadata": {},
   "source": [
    "### One-sample t-test as a linear model"
   ]
  },
  {
   "cell_type": "code",
   "execution_count": 26,
   "id": "2ddd90ea-6f16-4eeb-b4c2-e19ea2a78416",
   "metadata": {},
   "outputs": [
    {
     "data": {
      "text/plain": [
       "1003.8335"
      ]
     },
     "execution_count": 26,
     "metadata": {},
     "output_type": "execute_result"
    }
   ],
   "source": [
    "kombucha = pd.read_csv(\"../datasets/kombucha.csv\")\n",
    "ksample04 = kombucha[kombucha[\"batch\"]==4][\"volume\"]\n",
    "ksample04.mean()"
   ]
  },
  {
   "cell_type": "code",
   "execution_count": 27,
   "id": "2d2ea4e1-5ed3-4720-8cc7-2588d49647ee",
   "metadata": {},
   "outputs": [
    {
     "data": {
      "text/plain": [
       "(3.087703149420272, 0.0037056653503329618)"
      ]
     },
     "execution_count": 27,
     "metadata": {},
     "output_type": "execute_result"
    }
   ],
   "source": [
    "from scipy.stats import ttest_1samp\n",
    "resk = ttest_1samp(ksample04, popmean=1000)\n",
    "resk.statistic, resk.pvalue"
   ]
  },
  {
   "cell_type": "code",
   "execution_count": 28,
   "id": "e0d5b027-2329-40e1-8c07-9a03a1bf0722",
   "metadata": {},
   "outputs": [],
   "source": [
    "# # ALT. using the helper function from `ministats`\n",
    "# from ministats import ttest_mean\n",
    "# ttest_mean(ksample04, mu0=1000)"
   ]
  },
  {
   "cell_type": "code",
   "execution_count": 29,
   "id": "d5beedf4-d9e0-4f85-98a7-5aa6b255d153",
   "metadata": {},
   "outputs": [
    {
     "data": {
      "text/plain": [
       "Intercept    3.8335\n",
       "dtype: float64"
      ]
     },
     "execution_count": 29,
     "metadata": {},
     "output_type": "execute_result"
    }
   ],
   "source": [
    "# Prepare zero-centered data (volume - 1000)\n",
    "kdat04 = pd.DataFrame()\n",
    "kdat04[\"zcvolume\"] = ksample04 - 1000\n",
    "\n",
    "# Fit linear model with only an intercept term\n",
    "import statsmodels.formula.api as smf\n",
    "lmk = smf.ols(\"zcvolume ~ 1\", data=kdat04).fit()\n",
    "lmk.params"
   ]
  },
  {
   "cell_type": "code",
   "execution_count": 30,
   "id": "918356fd-05f7-4b5a-80c4-e82b1468ccdf",
   "metadata": {},
   "outputs": [
    {
     "data": {
      "text/plain": [
       "(3.0877031494203044, 0.0037056653503326335)"
      ]
     },
     "execution_count": 30,
     "metadata": {},
     "output_type": "execute_result"
    }
   ],
   "source": [
    "lmk.tvalues.iloc[0], lmk.pvalues.iloc[0]"
   ]
  },
  {
   "cell_type": "markdown",
   "id": "8e5fb56b-1b04-4fc7-ac61-ed71a5457b10",
   "metadata": {},
   "source": [
    "### Two-sample t-test as a linear model"
   ]
  },
  {
   "cell_type": "markdown",
   "id": "a04f9761-95a7-4a96-b89d-fdcb381002dd",
   "metadata": {},
   "source": [
    "#### East vs. West electricity prices"
   ]
  },
  {
   "cell_type": "code",
   "execution_count": 31,
   "id": "7be03e6f-8a5e-4f9e-9036-c3790f179022",
   "metadata": {},
   "outputs": [
    {
     "data": {
      "text/plain": [
       "3.000000000000001"
      ]
     },
     "execution_count": 31,
     "metadata": {},
     "output_type": "execute_result"
    }
   ],
   "source": [
    "eprices = pd.read_csv(\"../datasets/eprices.csv\")\n",
    "pricesW = eprices[eprices[\"loc\"]==\"West\"][\"price\"]\n",
    "pricesE = eprices[eprices[\"loc\"]==\"East\"][\"price\"]\n",
    "pricesW.mean() - pricesE.mean()"
   ]
  },
  {
   "cell_type": "markdown",
   "id": "538c0cf0-bd1c-4736-8fa2-98ade6acfffb",
   "metadata": {},
   "source": [
    "#### Two-sample t-test with pooled variance"
   ]
  },
  {
   "cell_type": "code",
   "execution_count": 32,
   "id": "9129adff-c27b-4f58-8071-6deb7b2fee0a",
   "metadata": {},
   "outputs": [
    {
     "data": {
      "text/plain": [
       "(5.022875513276465, 0.00012497067987678488)"
      ]
     },
     "execution_count": 32,
     "metadata": {},
     "output_type": "execute_result"
    }
   ],
   "source": [
    "from scipy.stats import ttest_ind\n",
    "rese = ttest_ind(pricesW, pricesE, equal_var=True)\n",
    "rese.statistic, rese.pvalue"
   ]
  },
  {
   "cell_type": "code",
   "execution_count": 33,
   "id": "b638e26c-2495-4ca8-bf2b-452c77d9bf91",
   "metadata": {},
   "outputs": [
    {
     "data": {
      "text/plain": [
       "[1.957240525873166, 4.042759474126836]"
      ]
     },
     "execution_count": 33,
     "metadata": {},
     "output_type": "execute_result"
    }
   ],
   "source": [
    "ci_Delta = rese.confidence_interval(confidence_level=0.9)\n",
    "[ci_Delta.low, ci_Delta.high]"
   ]
  },
  {
   "cell_type": "markdown",
   "id": "e724c1cc-8fdd-4ec9-9f7c-018912a66f5e",
   "metadata": {},
   "source": [
    "#### Linear model approach"
   ]
  },
  {
   "cell_type": "code",
   "execution_count": 34,
   "id": "b2eb6e57-9938-4caa-a21f-03eb51ea8053",
   "metadata": {},
   "outputs": [
    {
     "name": "stdout",
     "output_type": "stream",
     "text": [
      "Intercept         6.155556\n",
      "C(loc)[T.West]    3.000000\n",
      "dtype: float64\n"
     ]
    },
    {
     "data": {
      "text/plain": [
       "(5.02287551327646, 0.00012497067987678602)"
      ]
     },
     "execution_count": 34,
     "metadata": {},
     "output_type": "execute_result"
    }
   ],
   "source": [
    "lme = smf.ols(\"price ~ 1 + C(loc)\", data=eprices).fit()\n",
    "print(lme.params)\n",
    "lme.tvalues.iloc[1], lme.pvalues.iloc[1]"
   ]
  },
  {
   "cell_type": "code",
   "execution_count": 35,
   "id": "741a7c9e-5460-4387-87bc-51364f6c54d4",
   "metadata": {},
   "outputs": [
    {
     "data": {
      "text/plain": [
       "array([1.95724053, 4.04275947])"
      ]
     },
     "execution_count": 35,
     "metadata": {},
     "output_type": "execute_result"
    }
   ],
   "source": [
    "lme.conf_int(alpha=0.1).iloc[1].values"
   ]
  },
  {
   "cell_type": "markdown",
   "id": "d629d447-a1a3-4807-af46-fe273e2d33e9",
   "metadata": {},
   "source": [
    "![Visualization of the comparison between the two groups.](./attachments/lm/plot_lm_ttest_for_eprices.png)"
   ]
  },
  {
   "cell_type": "markdown",
   "id": "0a1f56d5-a6cf-4d45-a6bd-0590eb9f3bc7",
   "metadata": {},
   "source": [
    "#### Example 1 (revisited): urban vs. rural doctors"
   ]
  },
  {
   "cell_type": "code",
   "execution_count": 36,
   "id": "4e39e263-864a-4a13-ac26-82399ca300bc",
   "metadata": {},
   "outputs": [
    {
     "data": {
      "text/plain": [
       "(-1.9657612140164198, 0.05112460353979369)"
      ]
     },
     "execution_count": 36,
     "metadata": {},
     "output_type": "execute_result"
    }
   ],
   "source": [
    "from scipy.stats import ttest_ind\n",
    "\n",
    "scoresR = doctors[doctors[\"loc\"]==\"rur\"][\"score\"]\n",
    "scoresU = doctors[doctors[\"loc\"]==\"urb\"][\"score\"]\n",
    "\n",
    "resloc = ttest_ind(scoresU, scoresR, equal_var=True)\n",
    "resloc.statistic, resloc.pvalue"
   ]
  },
  {
   "cell_type": "code",
   "execution_count": 37,
   "id": "90438cea-92e3-4812-9fc6-42d3e5cc8e48",
   "metadata": {},
   "outputs": [
    {
     "data": {
      "text/plain": [
       "(-1.9657612140164218, 0.051124603539793465)"
      ]
     },
     "execution_count": 37,
     "metadata": {},
     "output_type": "execute_result"
    }
   ],
   "source": [
    "lmloc = smf.ols(\"score ~ 1 + C(loc)\", data=doctors).fit()\n",
    "lmloc.tvalues.iloc[1], lmloc.pvalues.iloc[1]"
   ]
  },
  {
   "cell_type": "code",
   "execution_count": null,
   "id": "a95eef1d-22cf-4386-983d-f06d06a09a5f",
   "metadata": {},
   "outputs": [],
   "source": []
  },
  {
   "cell_type": "markdown",
   "id": "35d57c02-b45e-4be2-9f0b-34b187ced78f",
   "metadata": {},
   "source": [
    "### One-way ANOVA as a linear model"
   ]
  },
  {
   "cell_type": "code",
   "execution_count": 38,
   "id": "f1d97ed0-ade1-43b4-bcdc-4cc0bc20d6b5",
   "metadata": {},
   "outputs": [
    {
     "data": {
      "text/plain": [
       "(0.5953116925291182, 0.5526627461285608)"
      ]
     },
     "execution_count": 38,
     "metadata": {},
     "output_type": "execute_result"
    }
   ],
   "source": [
    "from scipy.stats import f_oneway\n",
    "\n",
    "scoresH = doctors[doctors[\"work\"]==\"hos\"][\"score\"]\n",
    "scoresC = doctors[doctors[\"work\"]==\"cli\"][\"score\"]\n",
    "scoresE = doctors[doctors[\"work\"]==\"eld\"][\"score\"]\n",
    "\n",
    "resw = f_oneway(scoresH, scoresC, scoresE)\n",
    "resw.statistic, resw.pvalue"
   ]
  },
  {
   "cell_type": "code",
   "execution_count": 39,
   "id": "9f36e42f-2c0b-4004-8010-14c195da9428",
   "metadata": {},
   "outputs": [
    {
     "name": "stdout",
     "output_type": "stream",
     "text": [
      "Intercept         46.545455\n",
      "C(work)[T.eld]     4.569930\n",
      "C(work)[T.hos]     2.668831\n",
      "dtype: float64\n"
     ]
    },
    {
     "data": {
      "text/plain": [
       "(0.5953116925291129, 0.5526627461285702)"
      ]
     },
     "execution_count": 39,
     "metadata": {},
     "output_type": "execute_result"
    }
   ],
   "source": [
    "lmw = smf.ols(\"score ~ 1 + C(work)\", data=doctors).fit()\n",
    "print(lmw.params)\n",
    "lmw.fvalue, lmw.f_pvalue"
   ]
  },
  {
   "cell_type": "code",
   "execution_count": 40,
   "id": "e28c786e-10b8-46b0-b5a9-3f2643e00dc4",
   "metadata": {},
   "outputs": [
    {
     "data": {
      "image/png": "[encoded data removed]",
      "text/plain": [
       "<Figure size 500x300 with 1 Axes>"
      ]
     },
     "metadata": {
      "image/png": {
       "height": 293,
       "width": 450
      }
     },
     "output_type": "display_data"
    }
   ],
   "source": [
    "from ministats.plots.figures import plot_lm_anova\n",
    "\n",
    "with plt.rc_context({\"figure.figsize\":(5,3), \"text.usetex\":True}):\n",
    "    ax = plot_lm_anova(doctors, x=\"work\", y=\"score\")\n",
    "    ax.set_ylim([31,69])    \n",
    "    sns.move_legend(ax, \"lower right\")"
   ]
  },
  {
   "cell_type": "code",
   "execution_count": 41,
   "id": "b3f362d8-6822-4cff-b487-4ee885e48e48",
   "metadata": {},
   "outputs": [],
   "source": [
    "# BONUS: print ANOVA table\n",
    "# import statsmodels.api as sm\n",
    "# sm.stats.anova_lm(lmw)"
   ]
  },
  {
   "cell_type": "markdown",
   "id": "76ff5742-41ec-4b4b-afbe-93486946f9cc",
   "metadata": {},
   "source": [
    "### Nonparametric tests"
   ]
  },
  {
   "cell_type": "markdown",
   "id": "bac99e0f-6e3f-4909-82cd-86ba10f5a83e",
   "metadata": {},
   "source": [
    "#### One-sample Wilcoxon signed-rank test"
   ]
  },
  {
   "cell_type": "code",
   "execution_count": 42,
   "id": "0dea5603-57d0-4711-8fad-ee5901f9d2e1",
   "metadata": {},
   "outputs": [
    {
     "data": {
      "text/plain": [
       "0.002770629538645153"
      ]
     },
     "execution_count": 42,
     "metadata": {},
     "output_type": "execute_result"
    }
   ],
   "source": [
    "kombucha = pd.read_csv(\"../datasets/kombucha.csv\")\n",
    "ksample04 = kombucha[kombucha[\"batch\"]==4][\"volume\"]\n",
    "\n",
    "# Zero-centered volumes\n",
    "zcksample04 = ksample04 - 1000\n",
    "\n",
    "from scipy.stats import wilcoxon\n",
    "reswil = wilcoxon(zcksample04)\n",
    "reswil.pvalue"
   ]
  },
  {
   "cell_type": "code",
   "execution_count": 43,
   "id": "2bd9e919-6e87-40a0-bfd0-02d9d71d4cc5",
   "metadata": {},
   "outputs": [
    {
     "data": {
      "text/plain": [
       "0.0022841508459744237"
      ]
     },
     "execution_count": 43,
     "metadata": {},
     "output_type": "execute_result"
    }
   ],
   "source": [
    "# Create a new data frame with the signed ranks of the volumes\n",
    "df_zcsr = pd.DataFrame()\n",
    "df_zcsr[\"zcvolume_sr\"] = np.sign(zcksample04) * zcksample04.abs().rank()\n",
    "\n",
    "lmwil = smf.ols(\"zcvolume_sr ~ 1\", data=df_zcsr).fit()\n",
    "lmwil.pvalues.iloc[0]"
   ]
  },
  {
   "cell_type": "markdown",
   "id": "8b7de036-eec2-40b3-811c-32ea50e1759d",
   "metadata": {},
   "source": [
    "#### Mann-Whitney U-test"
   ]
  },
  {
   "cell_type": "code",
   "execution_count": 44,
   "id": "3607228f-de2e-41bf-8ff9-b43d3073a5e4",
   "metadata": {},
   "outputs": [
    {
     "data": {
      "text/plain": [
       "0.050083369850737636"
      ]
     },
     "execution_count": 44,
     "metadata": {},
     "output_type": "execute_result"
    }
   ],
   "source": [
    "scoresR = doctors[doctors[\"loc\"]==\"rur\"][\"score\"]\n",
    "scoresU = doctors[doctors[\"loc\"]==\"urb\"][\"score\"]\n",
    "\n",
    "from scipy.stats import mannwhitneyu\n",
    "resmwu = mannwhitneyu(scoresU, scoresR)\n",
    "resmwu.pvalue"
   ]
  },
  {
   "cell_type": "code",
   "execution_count": 45,
   "id": "aaa78deb-562b-4cdb-8620-cc81248c2eee",
   "metadata": {},
   "outputs": [
    {
     "data": {
      "text/plain": [
       "0.049533887469988734"
      ]
     },
     "execution_count": 45,
     "metadata": {},
     "output_type": "execute_result"
    }
   ],
   "source": [
    "# Compute the (unsigned) ranks of the scores\n",
    "doctors[\"score_r\"] = doctors[\"score\"].rank()\n",
    "\n",
    "# Fit a linear model\n",
    "lmmwu = smf.ols(\"score_r ~ 1 + C(loc)\", data=doctors).fit()\n",
    "lmmwu.pvalues.iloc[1]"
   ]
  },
  {
   "cell_type": "markdown",
   "id": "97990a45-9f06-4120-83f0-0964d9a681d7",
   "metadata": {},
   "source": [
    "#### Kruskal-Wallis analysis of variance by ranks"
   ]
  },
  {
   "cell_type": "code",
   "execution_count": 46,
   "id": "d99bbdf8-648e-4fef-8015-edfd926ed1b3",
   "metadata": {},
   "outputs": [
    {
     "data": {
      "text/plain": [
       "0.4441051932875236"
      ]
     },
     "execution_count": 46,
     "metadata": {},
     "output_type": "execute_result"
    }
   ],
   "source": [
    "from scipy.stats import kruskal\n",
    "reskw = kruskal(scoresH, scoresC, scoresE)\n",
    "reskw.pvalue"
   ]
  },
  {
   "cell_type": "code",
   "execution_count": 47,
   "id": "01e32cc4-f8bc-4624-a9e3-f4d471687a13",
   "metadata": {},
   "outputs": [
    {
     "data": {
      "text/plain": [
       "0.44688872149660885"
      ]
     },
     "execution_count": 47,
     "metadata": {},
     "output_type": "execute_result"
    }
   ],
   "source": [
    "# Compute the (unsigned) ranks of the scores\n",
    "doctors[\"score_r\"] = doctors[\"score\"].rank()  \n",
    "\n",
    "lmkw = smf.ols(\"score_r ~ 1 + C(work)\", data=doctors).fit()\n",
    "lmkw.f_pvalue"
   ]
  },
  {
   "cell_type": "markdown",
   "id": "b8c697fd-e1ed-4bd4-8bc0-b2ee2e2aab3a",
   "metadata": {},
   "source": [
    "## Explanations"
   ]
  },
  {
   "cell_type": "code",
   "execution_count": null,
   "id": "b33000b3-fc65-4649-ad04-ae2213d5d1da",
   "metadata": {},
   "outputs": [],
   "source": []
  },
  {
   "cell_type": "markdown",
   "id": "4837083f-6af1-439b-a4a5-a402dc524464",
   "metadata": {},
   "source": [
    "### Dummy coding options"
   ]
  },
  {
   "cell_type": "code",
   "execution_count": 48,
   "id": "f97dade9-4cc2-4d74-ab15-72dff05d88e6",
   "metadata": {},
   "outputs": [
    {
     "data": {
      "text/plain": [
       "DesignMatrix with shape (4, 3)\n",
       "  Intercept  cat[T.B]  cat[T.C]\n",
       "          1         0         0\n",
       "          1         1         0\n",
       "          1         0         1\n",
       "          1         0         1\n",
       "  Terms:\n",
       "    'Intercept' (column 0)\n",
       "    'cat' (columns 1:3)"
      ]
     },
     "execution_count": 48,
     "metadata": {},
     "output_type": "execute_result"
    }
   ],
   "source": [
    "dmatrix(\"cat\", data=catdf)"
   ]
  },
  {
   "cell_type": "code",
   "execution_count": 49,
   "id": "94044a23-69d8-4ca3-ad16-0034319862cc",
   "metadata": {},
   "outputs": [
    {
     "data": {
      "text/plain": [
       "DesignMatrix with shape (4, 3)\n",
       "  Intercept  C(cat)[T.B]  C(cat)[T.C]\n",
       "          1            0            0\n",
       "          1            1            0\n",
       "          1            0            1\n",
       "          1            0            1\n",
       "  Terms:\n",
       "    'Intercept' (column 0)\n",
       "    'C(cat)' (columns 1:3)"
      ]
     },
     "execution_count": 49,
     "metadata": {},
     "output_type": "execute_result"
    }
   ],
   "source": [
    "dmatrix(\"C(cat)\", data=catdf)"
   ]
  },
  {
   "cell_type": "code",
   "execution_count": 50,
   "id": "865afa7a-8f87-4665-832d-0a8cd6e3b1e5",
   "metadata": {},
   "outputs": [
    {
     "data": {
      "text/plain": [
       "DesignMatrix with shape (4, 3)\n",
       "  Intercept  C(cat, Treatment)[T.B]  C(cat, Treatment)[T.C]\n",
       "          1                       0                       0\n",
       "          1                       1                       0\n",
       "          1                       0                       1\n",
       "          1                       0                       1\n",
       "  Terms:\n",
       "    'Intercept' (column 0)\n",
       "    'C(cat, Treatment)' (columns 1:3)"
      ]
     },
     "execution_count": 50,
     "metadata": {},
     "output_type": "execute_result"
    }
   ],
   "source": [
    "dmatrix(\"C(cat, Treatment)\", data=catdf)"
   ]
  },
  {
   "cell_type": "code",
   "execution_count": 51,
   "id": "d4e548a4-4e1d-4810-bf22-f75b338101f2",
   "metadata": {},
   "outputs": [
    {
     "data": {
      "text/plain": [
       "DesignMatrix with shape (4, 3)\n",
       "  Intercept  C(cat, Treatment('B'))[T.A]  C(cat, Treatment('B'))[T.C]\n",
       "          1                            1                            0\n",
       "          1                            0                            0\n",
       "          1                            0                            1\n",
       "          1                            0                            1\n",
       "  Terms:\n",
       "    'Intercept' (column 0)\n",
       "    \"C(cat, Treatment('B'))\" (columns 1:3)"
      ]
     },
     "execution_count": 51,
     "metadata": {},
     "output_type": "execute_result"
    }
   ],
   "source": [
    "dmatrix(\"C(cat, Treatment('B'))\", data=catdf)\n",
    "# ALT. dmatrix(\"C(cat, Treatment(1))\", data=catdf)"
   ]
  },
  {
   "cell_type": "markdown",
   "id": "8572cc82-f5e4-4504-818a-977be52704f6",
   "metadata": {},
   "source": [
    "### Avoiding perfect collinearity"
   ]
  },
  {
   "cell_type": "code",
   "execution_count": 52,
   "id": "4f9c01e4-b09f-4956-8251-3e0156c3ddb3",
   "metadata": {},
   "outputs": [],
   "source": [
    "df_col = pd.DataFrame()\n",
    "df_col[\"iscli\"] = (doctors[\"work\"] == \"cli\").astype(int)\n",
    "df_col[\"iseld\"] = (doctors[\"work\"] == \"eld\").astype(int)\n",
    "df_col[\"ishos\"] = (doctors[\"work\"] == \"hos\").astype(int)\n",
    "df_col[\"score\"] = doctors[\"score\"]"
   ]
  },
  {
   "cell_type": "code",
   "execution_count": 53,
   "id": "8cd5d537-9dd7-45ae-bc3c-4b294031187c",
   "metadata": {},
   "outputs": [
    {
     "data": {
      "text/plain": [
       "Intercept    36.718781\n",
       "iscli         9.826673\n",
       "iseld        14.396603\n",
       "ishos        12.495504\n",
       "dtype: float64"
      ]
     },
     "execution_count": 53,
     "metadata": {},
     "output_type": "execute_result"
    }
   ],
   "source": [
    "formula_col = \"score ~ 1 + iscli + iseld + ishos\"\n",
    "lm_col = smf.ols(formula_col, data=df_col).fit()\n",
    "lm_col.params"
   ]
  },
  {
   "cell_type": "code",
   "execution_count": 54,
   "id": "cb233ac0-d1e0-46f4-bbf5-e6efd6ce1a61",
   "metadata": {},
   "outputs": [
    {
     "data": {
      "text/plain": [
       "4594083276761821.0"
      ]
     },
     "execution_count": 54,
     "metadata": {},
     "output_type": "execute_result"
    }
   ],
   "source": [
    "lm_col.condition_number"
   ]
  },
  {
   "cell_type": "code",
   "execution_count": 55,
   "id": "69f7442c-80aa-4c6f-9837-303f8f3bdafb",
   "metadata": {},
   "outputs": [
    {
     "data": {
      "text/plain": [
       "Intercept    60.452901\n",
       "alc          -1.800101\n",
       "weed         -1.021552\n",
       "exrc          1.768289\n",
       "dtype: float64"
      ]
     },
     "execution_count": 55,
     "metadata": {},
     "output_type": "execute_result"
    }
   ],
   "source": [
    "lm2.params"
   ]
  },
  {
   "cell_type": "markdown",
   "id": "3344c852-4447-4198-8066-4fc7aa2f7ade",
   "metadata": {},
   "source": [
    "## Discussion"
   ]
  },
  {
   "cell_type": "markdown",
   "id": "b2856242-f800-4ca2-a5c3-30acefe87d16",
   "metadata": {},
   "source": [
    "### Other coding strategies for categorical variables"
   ]
  },
  {
   "cell_type": "code",
   "execution_count": 56,
   "id": "cf12fa8f-8fa7-4a1b-b955-5e71ded6246a",
   "metadata": {},
   "outputs": [
    {
     "data": {
      "text/plain": [
       "DesignMatrix with shape (4, 3)\n",
       "  C(cat)[A]  C(cat)[B]  C(cat)[C]\n",
       "          1          0          0\n",
       "          0          1          0\n",
       "          0          0          1\n",
       "          0          0          1\n",
       "  Terms:\n",
       "    'C(cat)' (columns 0:3)"
      ]
     },
     "execution_count": 56,
     "metadata": {},
     "output_type": "execute_result"
    }
   ],
   "source": [
    "dmatrix(\"0 + C(cat)\", data=catdf)"
   ]
  },
  {
   "cell_type": "code",
   "execution_count": 57,
   "id": "ddcc6e09-b005-4d0c-9904-9e3bc2744103",
   "metadata": {},
   "outputs": [
    {
     "data": {
      "text/plain": [
       "DesignMatrix with shape (4, 3)\n",
       "  Intercept  C(cat, Sum)[S.A]  C(cat, Sum)[S.B]\n",
       "          1                 1                 0\n",
       "          1                 0                 1\n",
       "          1                -1                -1\n",
       "          1                -1                -1\n",
       "  Terms:\n",
       "    'Intercept' (column 0)\n",
       "    'C(cat, Sum)' (columns 1:3)"
      ]
     },
     "execution_count": 57,
     "metadata": {},
     "output_type": "execute_result"
    }
   ],
   "source": [
    "dmatrix(\"1 + C(cat, Sum)\", data=catdf)"
   ]
  },
  {
   "cell_type": "code",
   "execution_count": 58,
   "id": "50f86603-2aea-45d3-8f69-5bbae9837d43",
   "metadata": {},
   "outputs": [
    {
     "data": {
      "text/plain": [
       "DesignMatrix with shape (4, 3)\n",
       "  Intercept  C(cat, Diff)[D.A]  C(cat, Diff)[D.B]\n",
       "          1           -0.66667           -0.33333\n",
       "          1            0.33333           -0.33333\n",
       "          1            0.33333            0.66667\n",
       "          1            0.33333            0.66667\n",
       "  Terms:\n",
       "    'Intercept' (column 0)\n",
       "    'C(cat, Diff)' (columns 1:3)"
      ]
     },
     "execution_count": 58,
     "metadata": {},
     "output_type": "execute_result"
    }
   ],
   "source": [
    "dmatrix(\"1+C(cat, Diff)\", data=catdf)"
   ]
  },
  {
   "cell_type": "code",
   "execution_count": 59,
   "id": "b17ed8ae-d9f4-4469-83f8-1c725d41abdc",
   "metadata": {},
   "outputs": [
    {
     "data": {
      "text/plain": [
       "DesignMatrix with shape (4, 3)\n",
       "  Intercept  C(cat, Helmert)[H.B]  C(cat, Helmert)[H.C]\n",
       "          1                    -1                    -1\n",
       "          1                     1                    -1\n",
       "          1                     0                     2\n",
       "          1                     0                     2\n",
       "  Terms:\n",
       "    'Intercept' (column 0)\n",
       "    'C(cat, Helmert)' (columns 1:3)"
      ]
     },
     "execution_count": 59,
     "metadata": {},
     "output_type": "execute_result"
    }
   ],
   "source": [
    "dmatrix(\"C(cat, Helmert)\", data=catdf)"
   ]
  },
  {
   "cell_type": "markdown",
   "id": "d914c900-3034-4c76-88b2-a8e87463e0b6",
   "metadata": {},
   "source": [
    "## Exercises"
   ]
  },
  {
   "cell_type": "markdown",
   "id": "31409a23-5a64-42bd-9b05-05ab7d87d3c3",
   "metadata": {},
   "source": [
    "### EXX: redo comparison of debate and lectures scores"
   ]
  },
  {
   "cell_type": "code",
   "execution_count": 60,
   "id": "5dce76a3-c754-44c3-b96c-49c18c41f3b8",
   "metadata": {},
   "outputs": [
    {
     "data": {
      "text/plain": [
       "(-1.7197867420465656, 0.10917234443214403)"
      ]
     },
     "execution_count": 60,
     "metadata": {},
     "output_type": "execute_result"
    }
   ],
   "source": [
    "students = pd.read_csv(\"../datasets/students.csv\")\n",
    "lmcu = smf.ols(\"score ~ 1 + C(curriculum)\", data=students).fit()\n",
    "lmcu.tvalues.iloc[1], lmcu.pvalues.iloc[1]"
   ]
  },
  {
   "cell_type": "markdown",
   "id": "66d6b1f1-989c-43e4-842b-75cb28f8e334",
   "metadata": {},
   "source": [
    "### EXX: model comparison"
   ]
  },
  {
   "cell_type": "code",
   "execution_count": 61,
   "id": "7af6e179-cbcb-42a6-820f-8eb890869a4f",
   "metadata": {},
   "outputs": [
    {
     "data": {
      "text/plain": [
       "(1.5158185269522577, 0.22299549360241236, 2.0)"
      ]
     },
     "execution_count": 61,
     "metadata": {},
     "output_type": "execute_result"
    }
   ],
   "source": [
    "formula3w = \"score ~ 1 + alc + weed + exrc + C(loc) + C(work)\"\n",
    "lm3w = smf.ols(formula3w, data=doctors).fit()\n",
    "\n",
    "formula3 = \"score ~ 1 + alc + weed + exrc + C(loc)\"\n",
    "lm3 = smf.ols(formula3, data=doctors).fit()\n",
    "\n",
    "lm3w.compare_f_test(lm3)"
   ]
  },
  {
   "cell_type": "markdown",
   "id": "632ade87-e67b-4c08-9806-b629b95a7737",
   "metadata": {},
   "source": [
    "The result is non-significant which means including the predictor `C(work)`\n",
    "in the model is not useful."
   ]
  },
  {
   "cell_type": "markdown",
   "id": "e3ad9810-cb7c-4eac-8e9c-05c01e8201ed",
   "metadata": {},
   "source": [
    "### EXX: run ANOVA test"
   ]
  },
  {
   "cell_type": "code",
   "execution_count": 62,
   "id": "95d77268-5954-4266-a030-2933a311aca0",
   "metadata": {},
   "outputs": [
    {
     "name": "stdout",
     "output_type": "stream",
     "text": [
      "107.22963883851017 3.091116115443299e-27\n"
     ]
    },
    {
     "data": {
      "text/plain": [
       "(107.22963883851006, 3.091116115443401e-27)"
      ]
     },
     "execution_count": 62,
     "metadata": {},
     "output_type": "execute_result"
    },
    {
     "data": {
      "image/png": "[encoded data removed]",
      "text/plain": [
       "<Figure size 800x600 with 1 Axes>"
      ]
     },
     "metadata": {
      "image/png": {
       "height": 524,
       "width": 686
      }
     },
     "output_type": "display_data"
    }
   ],
   "source": [
    "# Construct data as a pd.DataFrame\n",
    "np.random.seed(42)\n",
    "As = np.random.normal(0, 1, 20)\n",
    "Bs = np.random.normal(-2, 1, 20)\n",
    "Cs = np.random.normal(3, 1, 20)\n",
    "Ds = np.random.normal(1.5, 1, 20)\n",
    "\n",
    "dfABCD = pd.DataFrame()\n",
    "dfABCD[\"group\"] = [\"A\"]*20 + [\"B\"]*20 + [\"C\"]*20 + [\"D\"]*20\n",
    "dfABCD[\"value\"] = np.concatenate([As, Bs, Cs, Ds])\n",
    "\n",
    "with plt.rc_context({\"figure.figsize\":(8,6), \"text.usetex\":True}):\n",
    "    ax = plot_lm_anova(dfABCD, x=\"group\", y=\"value\")\n",
    "\n",
    "from scipy.stats import f_oneway\n",
    "resABCD = f_oneway(As, Bs, Cs, Ds)\n",
    "print(resABCD.statistic, resABCD.pvalue)\n",
    "\n",
    "lmabcd =  smf.ols(\"value ~ C(group)\", data=dfABCD).fit()\n",
    "lmabcd.fvalue, lmabcd.f_pvalue"
   ]
  },
  {
   "cell_type": "markdown",
   "id": "43985137-9b84-4846-8ae9-0c40ae939f78",
   "metadata": {},
   "source": [
    "## Links\n",
    "\n",
    "- Patsy and Statsmodels  https://www.youtube.com/watch?v=iEANEcWqAx4 \n",
    "- Tests as LMs: https://lindeloev.github.io/tests-as-linear/\n",
    "- https://stats.stackexchange.com/questions/59047/how-are-regression-the-t-test-and-the-anova-all-versions-of-the-general-linear\n",
    "- https://danielroelfs.com/blog/everything-is-a-linear-model/ via [HN](https://news.ycombinator.com/item?id=39420111)"
   ]
  }
 ],
 "metadata": {
  "kernelspec": {
   "display_name": "Python 3 (ipykernel)",
   "language": "python",
   "name": "python3"
  },
  "language_info": {
   "codemirror_mode": {
    "name": "ipython",
    "version": 3
   },
   "file_extension": ".py",
   "mimetype": "text/x-python",
   "name": "python",
   "nbconvert_exporter": "python",
   "pygments_lexer": "ipython3",
   "version": "3.9.4"
  }
 },
 "nbformat": 4,
 "nbformat_minor": 5
}
