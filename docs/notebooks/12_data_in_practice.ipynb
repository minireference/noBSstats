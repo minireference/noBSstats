{
 "cells": [
  {
   "cell_type": "markdown",
   "id": "4d2a6d0b-b364-4d30-afee-4eb74a1224f5",
   "metadata": {},
   "source": [
    "# Section 1.2 — Data in practice\n",
    "\n",
    "This notebook contains all the code from [Section 1.2 Data in practice](https://minireference.com/static/excerpts/noBSstats/noBSstats_ch01_DATA.pdf#page=34) of the **No Bullshit Guide to Statistics**."
   ]
  },
  {
   "cell_type": "markdown",
   "id": "0bda7d92-eaef-44b0-a733-57ecf583d8f7",
   "metadata": {},
   "source": [
    "## Getting started with JupyterLab"
   ]
  },
  {
   "cell_type": "markdown",
   "id": "27fd47cf-890d-46f6-9237-844973b1fc19",
   "metadata": {},
   "source": [
    "### Download and install JupyterLab Desktop\n",
    "Follow instructions in the [Python tutorial](./python_tutorial.ipynb) to install JupyterLab Desktop on your computer."
   ]
  },
  {
   "attachments": {},
   "cell_type": "markdown",
   "id": "c679a545-6ab0-4411-8821-58bf77e12113",
   "metadata": {},
   "source": [
    "### Download the `noBSstats` notebooks and datasets\n",
    "\n",
    "Go to URL https://github.com/minireference/noBSstats and use the Code dropdown button to download the ZIP archive of the entire repository.\n",
    "\n",
    "![](./attachments/data/repo-download-zip.png)\n"
   ]
  },
  {
   "cell_type": "markdown",
   "id": "55c2f359-ee74-4902-b534-6795416b894c",
   "metadata": {},
   "source": [
    "After downloading the ZIP archive,\n",
    "double-click on the file to extract its contents,\n",
    "and move the resulting folder `noBSstats` to a location on your computer\n",
    "where you normally keep your documents.\n",
    "\n",
    "The ZIP archive includes all the datasets and computational notebooks for the book.\n",
    "Use the **File browser** pane on the right \n",
    "to navigate to the location where you saved the `noBSstats` folder\n",
    "and explore the subfolders `datasets`, `notebooks`, `exercises`, `tutorials`, etc."
   ]
  },
  {
   "cell_type": "markdown",
   "id": "e44f6264-b28c-43cc-be0f-c858a53f5cb7",
   "metadata": {},
   "source": [
    "### Datasets for the book\n",
    "\n",
    "The `datasets` folder contains all the datasets used in examples and exercises throughout the book.\n",
    "\n",
    "| id | filename | relative path | url |\n",
    "| --- | --- | --- | --- |\n",
    "| 0 | players.csv | ../datasets/players.csv | https://noBSstats.com/datasets/players.csv |\n",
    "| 1 | apples.csv | ../datasets/apples.csv | https://noBSstats.com/datasets/apples.csv |\n",
    "| 2 | eprices.csv | ../datasets/eprices.csv | https://noBSstats.com/datasets/eprices.csv |\n",
    "| 2w | epriceswide.csv | ../datasets/epriceswide.csv | https://noBSstats.com/datasets/epriceswide.csv |\n",
    "| 3 | students.csv | ../datasets/students.csv | https://noBSstats.com/datasets/students.csv |\n",
    "| 4 | kombucha.csv | ../datasets/kombucha.csv | https://noBSstats.com/datasets/kombucha.csv |\n",
    "| 4p | kombuchapop.csv | ../datasets/kombuchapop.csv | https://noBSstats.com/datasets/kombuchapop.csv |\n",
    "| 5 | doctors.csv | ../datasets/doctors.csv | https://noBSstats.com/datasets/doctors.csv |\n",
    "| 6 | visitors.csv | ../datasets/visitors.csv | https://noBSstats.com/datasets/visitors.csv |\n",
    "| D | minimal.csv | ../datasets/minimal.csv | https://noBSstats.com/datasets/minimal.csv |\n"
   ]
  },
  {
   "cell_type": "markdown",
   "id": "56c5ad39-bef9-443c-b1c6-11bbacfb6fa2",
   "metadata": {},
   "source": [
    "### Interactive notebooks for each section\n",
    "\n",
    "\n",
    "The `notebooks` folder contains the jupyter notebooks associated with each section of the book,\n",
    "similar to the one you're currently looking at.\n",
    "\n",
    "| section | notebook name |\n",
    "| --- | --- |\n",
    "| Section 1.1 | 11_intro_to_data.ipynb |\n",
    "| Section 1.2 | 12_data_in_practice.ipynb |\n",
    "| Section 1.3 | 13_descriptive_statistics.ipynb |\n",
    "| Section 2.1 | 21_discrete_random_vars.ipynb |\n",
    "| Section 2.2 | 22_multiple_random_vars.ipynb |\n",
    "| Section 2.3 | 23_inventory_discrete_dists.ipynb |\n",
    "| Section 2.4 | 24_calculus_prerequisites.ipynb |\n",
    "| Section 2.5 | 25_continuous_random_vars.ipynb |\n",
    "| Section 2.6 | 26_inventory_continuous_dists.ipynb |\n",
    "| Section 2.7 | 27_random_var_generation.ipynb |\n",
    "| Section 2.8 | 28_random_samples.ipynb |\n",
    "| Section 3.1 | 31_estimators.ipynb |\n",
    "| Section 3.2 | 32_confidence_intervals.ipynb |\n",
    "| Section 3.3 | 33_intro_to_NHST.ipynb |\n",
    "| Section 3.4 | 34_analytical_approx.ipynb |\n",
    "| Section 3.5 | 35_two_sample_tests.ipynb |\n",
    "| Section 3.6 | 36_design.ipynb |\n",
    "| Section 3.7 | 37_inventory_stats_tests.ipynb |\n",
    "| Section 4.1 | 41_introduction_to_LMs.ipynb |"
   ]
  },
  {
   "cell_type": "markdown",
   "id": "4fba2d89-7c16-4eb4-91fe-2e38bd0077bc",
   "metadata": {},
   "source": [
    "### Exercises notebooks\n",
    "\n",
    "\n",
    "The `exercises` folder contains starter notebooks for the exercises in each section.\n",
    "\n",
    "| section | notebook name |\n",
    "| --- | --- |\n",
    "| Section 1.2 | exercises_12_practical_data.ipynb |\n",
    "| Section 1.3 | exercises_13_descr_stats.ipynb |\n",
    "| Section 2.1 | exercises_21_discrete_RVs.ipynb |\n",
    "| Section 3.1 | exercises_31_estimtors.ipynb |\n",
    "| Section 3.2 | exercises_32_confidence_intervals.ipynb |\n",
    "| Section 3.3 | exercises_33_intro_to_NHST.ipynb |\n",
    "| Section 3.5 | exercises_35_two_sample_tests.ipynb |\n"
   ]
  },
  {
   "cell_type": "markdown",
   "id": "ee8813fb-79df-488c-a521-1b67d95d85f7",
   "metadata": {},
   "source": [
    "## Data management with Pandas"
   ]
  },
  {
   "cell_type": "markdown",
   "id": "eb486b3c-180e-4eb1-84a0-01626f8f6f29",
   "metadata": {},
   "source": [
    "The first step is to import the Pandas library.\n",
    "We'll follow the standard convention of importing the `pandas` module under the alias `pd`."
   ]
  },
  {
   "cell_type": "code",
   "execution_count": 1,
   "id": "76f094e5-7915-4f9d-856d-e2fb95a1ec61",
   "metadata": {},
   "outputs": [],
   "source": [
    "import pandas as pd"
   ]
  },
  {
   "cell_type": "markdown",
   "id": "b1ad8925-598d-49f4-b542-4dbe8bdc45ff",
   "metadata": {},
   "source": [
    "### Loading datasets"
   ]
  },
  {
   "cell_type": "markdown",
   "id": "4103c857-5d9e-4bfc-9cdc-bea643fa88c9",
   "metadata": {},
   "source": [
    "#### Players dataset\n",
    "\n",
    "Consider the data file `players.csv` is located in the `datasets` directory.\n",
    "The file extension `.csv` tells us the file contains text data formatted as Comma-Separated Values (CSV).\n",
    "We can use the command `%pycat` to print the raw contents of the this file."
   ]
  },
  {
   "cell_type": "code",
   "execution_count": 2,
   "id": "9e96255f-22de-4bed-871c-4e4a2c49c4dc",
   "metadata": {},
   "outputs": [
    {
     "data": {
      "text/plain": [
       "\u001b[0musername\u001b[0m\u001b[0;34m,\u001b[0m\u001b[0mcountry\u001b[0m\u001b[0;34m,\u001b[0m\u001b[0mage\u001b[0m\u001b[0;34m,\u001b[0m\u001b[0mezlvl\u001b[0m\u001b[0;34m,\u001b[0m\u001b[0mtime\u001b[0m\u001b[0;34m,\u001b[0m\u001b[0mpoints\u001b[0m\u001b[0;34m,\u001b[0m\u001b[0mfinished\u001b[0m\u001b[0;34m\u001b[0m\n",
       "\u001b[0;34m\u001b[0m\u001b[0mmary\u001b[0m\u001b[0;34m,\u001b[0m\u001b[0mus\u001b[0m\u001b[0;34m,\u001b[0m\u001b[0;36m38\u001b[0m\u001b[0;34m,\u001b[0m\u001b[0;36m0\u001b[0m\u001b[0;34m,\u001b[0m\u001b[0;36m124.94\u001b[0m\u001b[0;34m,\u001b[0m\u001b[0;36m418\u001b[0m\u001b[0;34m,\u001b[0m\u001b[0;36m0\u001b[0m\u001b[0;34m\u001b[0m\n",
       "\u001b[0;34m\u001b[0m\u001b[0mjane\u001b[0m\u001b[0;34m,\u001b[0m\u001b[0mca\u001b[0m\u001b[0;34m,\u001b[0m\u001b[0;36m21\u001b[0m\u001b[0;34m,\u001b[0m\u001b[0;36m0\u001b[0m\u001b[0;34m,\u001b[0m\u001b[0;36m331.64\u001b[0m\u001b[0;34m,\u001b[0m\u001b[0;36m1149\u001b[0m\u001b[0;34m,\u001b[0m\u001b[0;36m1\u001b[0m\u001b[0;34m\u001b[0m\n",
       "\u001b[0;34m\u001b[0m\u001b[0memil\u001b[0m\u001b[0;34m,\u001b[0m\u001b[0mfr\u001b[0m\u001b[0;34m,\u001b[0m\u001b[0;36m52\u001b[0m\u001b[0;34m,\u001b[0m\u001b[0;36m1\u001b[0m\u001b[0;34m,\u001b[0m\u001b[0;36m324.61\u001b[0m\u001b[0;34m,\u001b[0m\u001b[0;36m1321\u001b[0m\u001b[0;34m,\u001b[0m\u001b[0;36m1\u001b[0m\u001b[0;34m\u001b[0m\n",
       "\u001b[0;34m\u001b[0m\u001b[0mivan\u001b[0m\u001b[0;34m,\u001b[0m\u001b[0mca\u001b[0m\u001b[0;34m,\u001b[0m\u001b[0;36m50\u001b[0m\u001b[0;34m,\u001b[0m\u001b[0;36m1\u001b[0m\u001b[0;34m,\u001b[0m\u001b[0;36m39.51\u001b[0m\u001b[0;34m,\u001b[0m\u001b[0;36m226\u001b[0m\u001b[0;34m,\u001b[0m\u001b[0;36m0\u001b[0m\u001b[0;34m\u001b[0m\n",
       "\u001b[0;34m\u001b[0m\u001b[0mhasan\u001b[0m\u001b[0;34m,\u001b[0m\u001b[0mtr\u001b[0m\u001b[0;34m,\u001b[0m\u001b[0;36m26\u001b[0m\u001b[0;34m,\u001b[0m\u001b[0;36m1\u001b[0m\u001b[0;34m,\u001b[0m\u001b[0;36m253.19\u001b[0m\u001b[0;34m,\u001b[0m\u001b[0;36m815\u001b[0m\u001b[0;34m,\u001b[0m\u001b[0;36m0\u001b[0m\u001b[0;34m\u001b[0m\n",
       "\u001b[0;34m\u001b[0m\u001b[0mjordan\u001b[0m\u001b[0;34m,\u001b[0m\u001b[0mus\u001b[0m\u001b[0;34m,\u001b[0m\u001b[0;36m45\u001b[0m\u001b[0;34m,\u001b[0m\u001b[0;36m0\u001b[0m\u001b[0;34m,\u001b[0m\u001b[0;36m28.49\u001b[0m\u001b[0;34m,\u001b[0m\u001b[0;36m206\u001b[0m\u001b[0;34m,\u001b[0m\u001b[0;36m0\u001b[0m\u001b[0;34m\u001b[0m\n",
       "\u001b[0;34m\u001b[0m\u001b[0msanjay\u001b[0m\u001b[0;34m,\u001b[0m\u001b[0mca\u001b[0m\u001b[0;34m,\u001b[0m\u001b[0;36m27\u001b[0m\u001b[0;34m,\u001b[0m\u001b[0;36m1\u001b[0m\u001b[0;34m,\u001b[0m\u001b[0;36m350.0\u001b[0m\u001b[0;34m,\u001b[0m\u001b[0;36m1401\u001b[0m\u001b[0;34m,\u001b[0m\u001b[0;36m1\u001b[0m\u001b[0;34m\u001b[0m\n",
       "\u001b[0;34m\u001b[0m\u001b[0mlena\u001b[0m\u001b[0;34m,\u001b[0m\u001b[0muk\u001b[0m\u001b[0;34m,\u001b[0m\u001b[0;36m23\u001b[0m\u001b[0;34m,\u001b[0m\u001b[0;36m0\u001b[0m\u001b[0;34m,\u001b[0m\u001b[0;36m408.76\u001b[0m\u001b[0;34m,\u001b[0m\u001b[0;36m1745\u001b[0m\u001b[0;34m,\u001b[0m\u001b[0;36m1\u001b[0m\u001b[0;34m\u001b[0m\n",
       "\u001b[0;34m\u001b[0m\u001b[0mshuo\u001b[0m\u001b[0;34m,\u001b[0m\u001b[0mcn\u001b[0m\u001b[0;34m,\u001b[0m\u001b[0;36m24\u001b[0m\u001b[0;34m,\u001b[0m\u001b[0;36m1\u001b[0m\u001b[0;34m,\u001b[0m\u001b[0;36m194.77\u001b[0m\u001b[0;34m,\u001b[0m\u001b[0;36m1043\u001b[0m\u001b[0;34m,\u001b[0m\u001b[0;36m0\u001b[0m\u001b[0;34m\u001b[0m\n",
       "\u001b[0;34m\u001b[0m\u001b[0mr0byn\u001b[0m\u001b[0;34m,\u001b[0m\u001b[0mus\u001b[0m\u001b[0;34m,\u001b[0m\u001b[0;36m59\u001b[0m\u001b[0;34m,\u001b[0m\u001b[0;36m0\u001b[0m\u001b[0;34m,\u001b[0m\u001b[0;36m255.55\u001b[0m\u001b[0;34m,\u001b[0m\u001b[0;36m1102\u001b[0m\u001b[0;34m,\u001b[0m\u001b[0;36m0\u001b[0m\u001b[0;34m\u001b[0m\n",
       "\u001b[0;34m\u001b[0m\u001b[0manna\u001b[0m\u001b[0;34m,\u001b[0m\u001b[0mpl\u001b[0m\u001b[0;34m,\u001b[0m\u001b[0;36m18\u001b[0m\u001b[0;34m,\u001b[0m\u001b[0;36m0\u001b[0m\u001b[0;34m,\u001b[0m\u001b[0;36m303.66\u001b[0m\u001b[0;34m,\u001b[0m\u001b[0;36m1209\u001b[0m\u001b[0;34m,\u001b[0m\u001b[0;36m1\u001b[0m\u001b[0;34m\u001b[0m\n",
       "\u001b[0;34m\u001b[0m\u001b[0mjoro\u001b[0m\u001b[0;34m,\u001b[0m\u001b[0mbg\u001b[0m\u001b[0;34m,\u001b[0m\u001b[0;36m22\u001b[0m\u001b[0;34m,\u001b[0m\u001b[0;36m1\u001b[0m\u001b[0;34m,\u001b[0m\u001b[0;36m381.97\u001b[0m\u001b[0;34m,\u001b[0m\u001b[0;36m1491\u001b[0m\u001b[0;34m,\u001b[0m\u001b[0;36m1\u001b[0m\u001b[0;34m\u001b[0m\u001b[0;34m\u001b[0m\u001b[0m\n"
      ]
     },
     "metadata": {},
     "output_type": "display_data"
    }
   ],
   "source": [
    "%pycat ../datasets/players.csv"
   ]
  },
  {
   "cell_type": "markdown",
   "id": "c067e18d-56b7-4597-b298-da88791358b5",
   "metadata": {},
   "source": [
    "We see the file contains 13 lines of text, and each line contains—as promised by the `.csv` file extension—values separated by commas.\n",
    "The first line in the data file is called the \"header\" and contains the names of the variable names."
   ]
  },
  {
   "cell_type": "markdown",
   "id": "a7ce329b-614e-4728-bf3c-f5918be36014",
   "metadata": {},
   "source": [
    "We can create a the data frame object from the players dataset located at `../datasets/players.csv`\n",
    "by calling the function `pd.read_csv`."
   ]
  },
  {
   "cell_type": "code",
   "execution_count": 3,
   "id": "21b7542c-71ab-46e4-989f-e84a31e4387d",
   "metadata": {},
   "outputs": [
    {
     "data": {
      "text/html": [
       "<div>\n",
       "<style scoped>\n",
       "    .dataframe tbody tr th:only-of-type {\n",
       "        vertical-align: middle;\n",
       "    }\n",
       "\n",
       "    .dataframe tbody tr th {\n",
       "        vertical-align: top;\n",
       "    }\n",
       "\n",
       "    .dataframe thead th {\n",
       "        text-align: right;\n",
       "    }\n",
       "</style>\n",
       "<table border=\"1\" class=\"dataframe\">\n",
       "  <thead>\n",
       "    <tr style=\"text-align: right;\">\n",
       "      <th></th>\n",
       "      <th>username</th>\n",
       "      <th>country</th>\n",
       "      <th>age</th>\n",
       "      <th>ezlvl</th>\n",
       "      <th>time</th>\n",
       "      <th>points</th>\n",
       "      <th>finished</th>\n",
       "    </tr>\n",
       "  </thead>\n",
       "  <tbody>\n",
       "    <tr>\n",
       "      <th>0</th>\n",
       "      <td>mary</td>\n",
       "      <td>us</td>\n",
       "      <td>38</td>\n",
       "      <td>0</td>\n",
       "      <td>124.94</td>\n",
       "      <td>418</td>\n",
       "      <td>0</td>\n",
       "    </tr>\n",
       "    <tr>\n",
       "      <th>1</th>\n",
       "      <td>jane</td>\n",
       "      <td>ca</td>\n",
       "      <td>21</td>\n",
       "      <td>0</td>\n",
       "      <td>331.64</td>\n",
       "      <td>1149</td>\n",
       "      <td>1</td>\n",
       "    </tr>\n",
       "    <tr>\n",
       "      <th>2</th>\n",
       "      <td>emil</td>\n",
       "      <td>fr</td>\n",
       "      <td>52</td>\n",
       "      <td>1</td>\n",
       "      <td>324.61</td>\n",
       "      <td>1321</td>\n",
       "      <td>1</td>\n",
       "    </tr>\n",
       "    <tr>\n",
       "      <th>3</th>\n",
       "      <td>ivan</td>\n",
       "      <td>ca</td>\n",
       "      <td>50</td>\n",
       "      <td>1</td>\n",
       "      <td>39.51</td>\n",
       "      <td>226</td>\n",
       "      <td>0</td>\n",
       "    </tr>\n",
       "    <tr>\n",
       "      <th>4</th>\n",
       "      <td>hasan</td>\n",
       "      <td>tr</td>\n",
       "      <td>26</td>\n",
       "      <td>1</td>\n",
       "      <td>253.19</td>\n",
       "      <td>815</td>\n",
       "      <td>0</td>\n",
       "    </tr>\n",
       "    <tr>\n",
       "      <th>5</th>\n",
       "      <td>jordan</td>\n",
       "      <td>us</td>\n",
       "      <td>45</td>\n",
       "      <td>0</td>\n",
       "      <td>28.49</td>\n",
       "      <td>206</td>\n",
       "      <td>0</td>\n",
       "    </tr>\n",
       "    <tr>\n",
       "      <th>6</th>\n",
       "      <td>sanjay</td>\n",
       "      <td>ca</td>\n",
       "      <td>27</td>\n",
       "      <td>1</td>\n",
       "      <td>350.00</td>\n",
       "      <td>1401</td>\n",
       "      <td>1</td>\n",
       "    </tr>\n",
       "    <tr>\n",
       "      <th>7</th>\n",
       "      <td>lena</td>\n",
       "      <td>uk</td>\n",
       "      <td>23</td>\n",
       "      <td>0</td>\n",
       "      <td>408.76</td>\n",
       "      <td>1745</td>\n",
       "      <td>1</td>\n",
       "    </tr>\n",
       "    <tr>\n",
       "      <th>8</th>\n",
       "      <td>shuo</td>\n",
       "      <td>cn</td>\n",
       "      <td>24</td>\n",
       "      <td>1</td>\n",
       "      <td>194.77</td>\n",
       "      <td>1043</td>\n",
       "      <td>0</td>\n",
       "    </tr>\n",
       "    <tr>\n",
       "      <th>9</th>\n",
       "      <td>r0byn</td>\n",
       "      <td>us</td>\n",
       "      <td>59</td>\n",
       "      <td>0</td>\n",
       "      <td>255.55</td>\n",
       "      <td>1102</td>\n",
       "      <td>0</td>\n",
       "    </tr>\n",
       "    <tr>\n",
       "      <th>10</th>\n",
       "      <td>anna</td>\n",
       "      <td>pl</td>\n",
       "      <td>18</td>\n",
       "      <td>0</td>\n",
       "      <td>303.66</td>\n",
       "      <td>1209</td>\n",
       "      <td>1</td>\n",
       "    </tr>\n",
       "    <tr>\n",
       "      <th>11</th>\n",
       "      <td>joro</td>\n",
       "      <td>bg</td>\n",
       "      <td>22</td>\n",
       "      <td>1</td>\n",
       "      <td>381.97</td>\n",
       "      <td>1491</td>\n",
       "      <td>1</td>\n",
       "    </tr>\n",
       "  </tbody>\n",
       "</table>\n",
       "</div>"
      ],
      "text/plain": [
       "   username country  age  ezlvl    time  points  finished\n",
       "0      mary      us   38      0  124.94     418         0\n",
       "1      jane      ca   21      0  331.64    1149         1\n",
       "2      emil      fr   52      1  324.61    1321         1\n",
       "3      ivan      ca   50      1   39.51     226         0\n",
       "4     hasan      tr   26      1  253.19     815         0\n",
       "5    jordan      us   45      0   28.49     206         0\n",
       "6    sanjay      ca   27      1  350.00    1401         1\n",
       "7      lena      uk   23      0  408.76    1745         1\n",
       "8      shuo      cn   24      1  194.77    1043         0\n",
       "9     r0byn      us   59      0  255.55    1102         0\n",
       "10     anna      pl   18      0  303.66    1209         1\n",
       "11     joro      bg   22      1  381.97    1491         1"
      ]
     },
     "execution_count": 3,
     "metadata": {},
     "output_type": "execute_result"
    }
   ],
   "source": [
    "players = pd.read_csv(\"../datasets/players.csv\")\n",
    "players"
   ]
  },
  {
   "cell_type": "code",
   "execution_count": null,
   "id": "af979ee8-9d7c-4fed-b672-d307de37a8ee",
   "metadata": {},
   "outputs": [],
   "source": []
  },
  {
   "cell_type": "markdown",
   "id": "b7fd0bad-4fd8-459b-8c8d-40fcc7fede3d",
   "metadata": {},
   "source": [
    "### Data frame properties\n",
    "\n",
    "What type of object is `players` ?"
   ]
  },
  {
   "cell_type": "code",
   "execution_count": 4,
   "id": "4f3a33fb-77df-4a7e-8ce6-9bd24249a77c",
   "metadata": {},
   "outputs": [
    {
     "data": {
      "text/plain": [
       "pandas.core.frame.DataFrame"
      ]
     },
     "execution_count": 4,
     "metadata": {},
     "output_type": "execute_result"
    }
   ],
   "source": [
    "type(players)"
   ]
  },
  {
   "cell_type": "markdown",
   "id": "88e385e1-ab09-4d8e-84ec-23fbb2487b43",
   "metadata": {},
   "source": [
    "The `players` data frame object has a bunch of useful properties (attributes)\n",
    "and functions (methods) \"attached\" to it,\n",
    "which we can access using the dot syntax."
   ]
  },
  {
   "cell_type": "code",
   "execution_count": null,
   "id": "6999ea65-a60a-4186-87bf-f44ba6285c93",
   "metadata": {},
   "outputs": [],
   "source": []
  },
  {
   "cell_type": "markdown",
   "id": "954bb4f0-7801-4dfb-8f6b-08be3f9a44cc",
   "metadata": {},
   "source": [
    "#### The shape of the `players` data frame"
   ]
  },
  {
   "cell_type": "code",
   "execution_count": 5,
   "id": "b0572b9f-07c7-437e-81fd-651af4610aeb",
   "metadata": {},
   "outputs": [
    {
     "data": {
      "text/plain": [
       "(12, 7)"
      ]
     },
     "execution_count": 5,
     "metadata": {},
     "output_type": "execute_result"
    }
   ],
   "source": [
    "players.shape"
   ]
  },
  {
   "cell_type": "code",
   "execution_count": null,
   "id": "b7eba3f2-eafc-4700-abc2-c4d01c4568ca",
   "metadata": {},
   "outputs": [],
   "source": []
  },
  {
   "cell_type": "markdown",
   "id": "e997e291-1307-410f-870c-c5629c79c8d4",
   "metadata": {},
   "source": [
    "#### The rows index"
   ]
  },
  {
   "cell_type": "code",
   "execution_count": 6,
   "id": "335eadc7-9eeb-47de-9381-df6413ebea2a",
   "metadata": {},
   "outputs": [
    {
     "data": {
      "text/plain": [
       "12"
      ]
     },
     "execution_count": 6,
     "metadata": {},
     "output_type": "execute_result"
    }
   ],
   "source": [
    "len(players.index)"
   ]
  },
  {
   "cell_type": "code",
   "execution_count": 7,
   "id": "da643e43-c7e7-4653-bb57-5197abf779f8",
   "metadata": {},
   "outputs": [
    {
     "data": {
      "text/plain": [
       "RangeIndex(start=0, stop=12, step=1)"
      ]
     },
     "execution_count": 7,
     "metadata": {},
     "output_type": "execute_result"
    }
   ],
   "source": [
    "players.index"
   ]
  },
  {
   "cell_type": "code",
   "execution_count": 8,
   "id": "c9ba7557-d34c-4ab6-a721-a11006431de5",
   "metadata": {},
   "outputs": [
    {
     "data": {
      "text/plain": [
       "[0, 1, 2, 3, 4, 5, 6, 7, 8, 9, 10, 11]"
      ]
     },
     "execution_count": 8,
     "metadata": {},
     "output_type": "execute_result"
    }
   ],
   "source": [
    "list(players.index)"
   ]
  },
  {
   "cell_type": "code",
   "execution_count": null,
   "id": "61adbfce-3ea3-4435-86e1-a2b8a7aa5272",
   "metadata": {},
   "outputs": [],
   "source": []
  },
  {
   "cell_type": "markdown",
   "id": "e1894342-c39d-4b2c-b630-2fd5feee7d76",
   "metadata": {},
   "source": [
    "#### The columns index"
   ]
  },
  {
   "cell_type": "code",
   "execution_count": 9,
   "id": "79fe6d75-0701-4910-92cc-4b966d1a00c6",
   "metadata": {},
   "outputs": [
    {
     "data": {
      "text/plain": [
       "7"
      ]
     },
     "execution_count": 9,
     "metadata": {},
     "output_type": "execute_result"
    }
   ],
   "source": [
    "len(players.columns)"
   ]
  },
  {
   "cell_type": "code",
   "execution_count": 10,
   "id": "291866b7-b1fc-4f81-924a-688517ff439c",
   "metadata": {},
   "outputs": [
    {
     "data": {
      "text/plain": [
       "Index(['username', 'country', 'age', 'ezlvl', 'time', 'points', 'finished'], dtype='object')"
      ]
     },
     "execution_count": 10,
     "metadata": {},
     "output_type": "execute_result"
    }
   ],
   "source": [
    "players.columns"
   ]
  },
  {
   "cell_type": "code",
   "execution_count": 11,
   "id": "4654bf7b-b414-4386-a305-8dfb3d9772bf",
   "metadata": {},
   "outputs": [
    {
     "data": {
      "text/plain": [
       "['username', 'country', 'age', 'ezlvl', 'time', 'points', 'finished']"
      ]
     },
     "execution_count": 11,
     "metadata": {},
     "output_type": "execute_result"
    }
   ],
   "source": [
    "list(players.columns)"
   ]
  },
  {
   "cell_type": "code",
   "execution_count": null,
   "id": "8608529e-4ff3-419e-b9c1-6c58c1489bed",
   "metadata": {},
   "outputs": [],
   "source": []
  },
  {
   "cell_type": "markdown",
   "id": "d503de0a-133a-48e2-b1b6-1b0f0671c5e2",
   "metadata": {},
   "source": [
    "#### Exploring data frame objects"
   ]
  },
  {
   "cell_type": "code",
   "execution_count": 12,
   "id": "45cf5451-8a56-489c-bc75-97b93496bd6f",
   "metadata": {},
   "outputs": [
    {
     "data": {
      "text/html": [
       "<div>\n",
       "<style scoped>\n",
       "    .dataframe tbody tr th:only-of-type {\n",
       "        vertical-align: middle;\n",
       "    }\n",
       "\n",
       "    .dataframe tbody tr th {\n",
       "        vertical-align: top;\n",
       "    }\n",
       "\n",
       "    .dataframe thead th {\n",
       "        text-align: right;\n",
       "    }\n",
       "</style>\n",
       "<table border=\"1\" class=\"dataframe\">\n",
       "  <thead>\n",
       "    <tr style=\"text-align: right;\">\n",
       "      <th></th>\n",
       "      <th>username</th>\n",
       "      <th>country</th>\n",
       "      <th>age</th>\n",
       "      <th>ezlvl</th>\n",
       "      <th>time</th>\n",
       "      <th>points</th>\n",
       "      <th>finished</th>\n",
       "    </tr>\n",
       "  </thead>\n",
       "  <tbody>\n",
       "    <tr>\n",
       "      <th>0</th>\n",
       "      <td>mary</td>\n",
       "      <td>us</td>\n",
       "      <td>38</td>\n",
       "      <td>0</td>\n",
       "      <td>124.94</td>\n",
       "      <td>418</td>\n",
       "      <td>0</td>\n",
       "    </tr>\n",
       "    <tr>\n",
       "      <th>1</th>\n",
       "      <td>jane</td>\n",
       "      <td>ca</td>\n",
       "      <td>21</td>\n",
       "      <td>0</td>\n",
       "      <td>331.64</td>\n",
       "      <td>1149</td>\n",
       "      <td>1</td>\n",
       "    </tr>\n",
       "    <tr>\n",
       "      <th>2</th>\n",
       "      <td>emil</td>\n",
       "      <td>fr</td>\n",
       "      <td>52</td>\n",
       "      <td>1</td>\n",
       "      <td>324.61</td>\n",
       "      <td>1321</td>\n",
       "      <td>1</td>\n",
       "    </tr>\n",
       "  </tbody>\n",
       "</table>\n",
       "</div>"
      ],
      "text/plain": [
       "  username country  age  ezlvl    time  points  finished\n",
       "0     mary      us   38      0  124.94     418         0\n",
       "1     jane      ca   21      0  331.64    1149         1\n",
       "2     emil      fr   52      1  324.61    1321         1"
      ]
     },
     "execution_count": 12,
     "metadata": {},
     "output_type": "execute_result"
    }
   ],
   "source": [
    "players.head(3)\n",
    "# players.tail(3)\n",
    "# players.sample(3)"
   ]
  },
  {
   "cell_type": "code",
   "execution_count": null,
   "id": "6eb9bee7-8b70-4389-8d0a-20a7f72b4a14",
   "metadata": {},
   "outputs": [],
   "source": []
  },
  {
   "cell_type": "markdown",
   "id": "e6e26de9-c514-4d62-bdbc-970aa4243e01",
   "metadata": {},
   "source": [
    "#### Data types"
   ]
  },
  {
   "cell_type": "code",
   "execution_count": 13,
   "id": "fc8b2e65-a6bf-4f49-b39d-c0c24b494b9c",
   "metadata": {},
   "outputs": [
    {
     "data": {
      "text/plain": [
       "username     object\n",
       "country      object\n",
       "age           int64\n",
       "ezlvl         int64\n",
       "time        float64\n",
       "points        int64\n",
       "finished      int64\n",
       "dtype: object"
      ]
     },
     "execution_count": 13,
     "metadata": {},
     "output_type": "execute_result"
    }
   ],
   "source": [
    "players.dtypes"
   ]
  },
  {
   "cell_type": "code",
   "execution_count": 14,
   "id": "fb124e93-c519-49e6-bf92-aeacec101041",
   "metadata": {},
   "outputs": [
    {
     "name": "stdout",
     "output_type": "stream",
     "text": [
      "<class 'pandas.core.frame.DataFrame'>\n",
      "RangeIndex: 12 entries, 0 to 11\n",
      "Data columns (total 7 columns):\n",
      " #   Column    Non-Null Count  Dtype  \n",
      "---  ------    --------------  -----  \n",
      " 0   username  12 non-null     object \n",
      " 1   country   12 non-null     object \n",
      " 2   age       12 non-null     int64  \n",
      " 3   ezlvl     12 non-null     int64  \n",
      " 4   time      12 non-null     float64\n",
      " 5   points    12 non-null     int64  \n",
      " 6   finished  12 non-null     int64  \n",
      "dtypes: float64(1), int64(4), object(2)\n",
      "memory usage: 800.0+ bytes\n"
     ]
    }
   ],
   "source": [
    "players.info()"
   ]
  },
  {
   "cell_type": "code",
   "execution_count": null,
   "id": "ca6eb058-6b92-43fa-8b1b-3175729a971b",
   "metadata": {},
   "outputs": [],
   "source": []
  },
  {
   "cell_type": "markdown",
   "id": "5182aa71-d792-449b-b73b-5e8e563e162c",
   "metadata": {},
   "source": [
    "### Accessing values in a DataFrame"
   ]
  },
  {
   "cell_type": "markdown",
   "id": "dd961bf9-0df9-450b-afd9-f4f81dacfe65",
   "metadata": {},
   "source": [
    "#### Selecting individual values\n",
    "\n",
    "The player with username `emil` has index `2` in the data frame.\n",
    "To see the value of the `points` variable for the player `emil`,\n",
    "we use the following expression based on the `.loc[]` selector syntax."
   ]
  },
  {
   "cell_type": "code",
   "execution_count": 15,
   "id": "79ea4191-d863-4f47-a44e-ff50d37d9152",
   "metadata": {},
   "outputs": [
    {
     "data": {
      "text/plain": [
       "1321"
      ]
     },
     "execution_count": 15,
     "metadata": {},
     "output_type": "execute_result"
    }
   ],
   "source": [
    "players.loc[2,\"points\"]"
   ]
  },
  {
   "cell_type": "code",
   "execution_count": null,
   "id": "c2db4a83-8eae-41a4-a26d-f109e7355187",
   "metadata": {},
   "outputs": [],
   "source": []
  },
  {
   "cell_type": "markdown",
   "id": "5317dead-58ce-4bd1-a23e-032ad2dc0544",
   "metadata": {},
   "source": [
    "#### Selecting entire rows\n",
    "\n",
    "Let's now select all the measurements we have for Sanjay (the player at index `6`)."
   ]
  },
  {
   "cell_type": "code",
   "execution_count": 16,
   "id": "d169e387-d129-45d7-947e-f5062d4cffff",
   "metadata": {},
   "outputs": [
    {
     "data": {
      "text/plain": [
       "username    sanjay\n",
       "country         ca\n",
       "age             27\n",
       "ezlvl            1\n",
       "time         350.0\n",
       "points        1401\n",
       "finished         1\n",
       "Name: 6, dtype: object"
      ]
     },
     "execution_count": 16,
     "metadata": {},
     "output_type": "execute_result"
    }
   ],
   "source": [
    "players.loc[6,:]  # == players.loc[6]"
   ]
  },
  {
   "cell_type": "code",
   "execution_count": null,
   "id": "9641ddd9-0b2c-43e7-afef-c8ee41504439",
   "metadata": {},
   "outputs": [],
   "source": []
  },
  {
   "cell_type": "markdown",
   "id": "4572689e-f470-4686-9cca-75c4ca9ef048",
   "metadata": {},
   "source": [
    "#### Selecting entire columns\n",
    "\n",
    "We use the square brackets to select columns from a data frame.\n",
    "For example,\n",
    "this is how we extract the `\"age\"` column from the `players` data frame."
   ]
  },
  {
   "cell_type": "code",
   "execution_count": 17,
   "id": "dce25ae2-06da-4841-bc11-2747855ebe71",
   "metadata": {},
   "outputs": [
    {
     "data": {
      "text/plain": [
       "0     38\n",
       "1     21\n",
       "2     52\n",
       "3     50\n",
       "4     26\n",
       "5     45\n",
       "6     27\n",
       "7     23\n",
       "8     24\n",
       "9     59\n",
       "10    18\n",
       "11    22\n",
       "Name: age, dtype: int64"
      ]
     },
     "execution_count": 17,
     "metadata": {},
     "output_type": "execute_result"
    }
   ],
   "source": [
    "players[\"age\"]"
   ]
  },
  {
   "cell_type": "code",
   "execution_count": null,
   "id": "4ad2d201-dcde-4dee-8dcf-6e925c2c46d8",
   "metadata": {},
   "outputs": [],
   "source": []
  },
  {
   "cell_type": "markdown",
   "id": "e524ab3e-6988-4bd0-a7c1-6a41415613f8",
   "metadata": {},
   "source": [
    "#### Selecting multiple columns\n",
    "\n",
    "We can select multiple columns by using list of column names inside the square brackets."
   ]
  },
  {
   "cell_type": "code",
   "execution_count": 18,
   "id": "dcbfcc05-209b-44f6-a4b5-cbee814d6b22",
   "metadata": {},
   "outputs": [
    {
     "data": {
      "text/html": [
       "<div>\n",
       "<style scoped>\n",
       "    .dataframe tbody tr th:only-of-type {\n",
       "        vertical-align: middle;\n",
       "    }\n",
       "\n",
       "    .dataframe tbody tr th {\n",
       "        vertical-align: top;\n",
       "    }\n",
       "\n",
       "    .dataframe thead th {\n",
       "        text-align: right;\n",
       "    }\n",
       "</style>\n",
       "<table border=\"1\" class=\"dataframe\">\n",
       "  <thead>\n",
       "    <tr style=\"text-align: right;\">\n",
       "      <th></th>\n",
       "      <th>username</th>\n",
       "      <th>country</th>\n",
       "    </tr>\n",
       "  </thead>\n",
       "  <tbody>\n",
       "    <tr>\n",
       "      <th>0</th>\n",
       "      <td>mary</td>\n",
       "      <td>us</td>\n",
       "    </tr>\n",
       "    <tr>\n",
       "      <th>1</th>\n",
       "      <td>jane</td>\n",
       "      <td>ca</td>\n",
       "    </tr>\n",
       "    <tr>\n",
       "      <th>2</th>\n",
       "      <td>emil</td>\n",
       "      <td>fr</td>\n",
       "    </tr>\n",
       "    <tr>\n",
       "      <th>3</th>\n",
       "      <td>ivan</td>\n",
       "      <td>ca</td>\n",
       "    </tr>\n",
       "    <tr>\n",
       "      <th>4</th>\n",
       "      <td>hasan</td>\n",
       "      <td>tr</td>\n",
       "    </tr>\n",
       "    <tr>\n",
       "      <th>5</th>\n",
       "      <td>jordan</td>\n",
       "      <td>us</td>\n",
       "    </tr>\n",
       "    <tr>\n",
       "      <th>6</th>\n",
       "      <td>sanjay</td>\n",
       "      <td>ca</td>\n",
       "    </tr>\n",
       "    <tr>\n",
       "      <th>7</th>\n",
       "      <td>lena</td>\n",
       "      <td>uk</td>\n",
       "    </tr>\n",
       "    <tr>\n",
       "      <th>8</th>\n",
       "      <td>shuo</td>\n",
       "      <td>cn</td>\n",
       "    </tr>\n",
       "    <tr>\n",
       "      <th>9</th>\n",
       "      <td>r0byn</td>\n",
       "      <td>us</td>\n",
       "    </tr>\n",
       "    <tr>\n",
       "      <th>10</th>\n",
       "      <td>anna</td>\n",
       "      <td>pl</td>\n",
       "    </tr>\n",
       "    <tr>\n",
       "      <th>11</th>\n",
       "      <td>joro</td>\n",
       "      <td>bg</td>\n",
       "    </tr>\n",
       "  </tbody>\n",
       "</table>\n",
       "</div>"
      ],
      "text/plain": [
       "   username country\n",
       "0      mary      us\n",
       "1      jane      ca\n",
       "2      emil      fr\n",
       "3      ivan      ca\n",
       "4     hasan      tr\n",
       "5    jordan      us\n",
       "6    sanjay      ca\n",
       "7      lena      uk\n",
       "8      shuo      cn\n",
       "9     r0byn      us\n",
       "10     anna      pl\n",
       "11     joro      bg"
      ]
     },
     "execution_count": 18,
     "metadata": {},
     "output_type": "execute_result"
    }
   ],
   "source": [
    "players[ [\"username\",\"country\"] ]"
   ]
  },
  {
   "cell_type": "code",
   "execution_count": null,
   "id": "32122190-3c00-4b0d-a3a6-b336893215d2",
   "metadata": {},
   "outputs": [],
   "source": []
  },
  {
   "cell_type": "markdown",
   "id": "1c99d726-0b2f-453b-85bb-04407be09efc",
   "metadata": {},
   "source": [
    "### Statistical calculations using Pandas"
   ]
  },
  {
   "cell_type": "markdown",
   "id": "2407e33b-a756-461a-b1a4-51a8dfc3c8d1",
   "metadata": {},
   "source": [
    "Let's extract the values from the `\"age\"` column from the `players` data frame\n",
    "and store them as new variable called `ages`.\n",
    "We intentionally choose the name `ages` (plural of the column name)\n",
    "to remember where the data comes from."
   ]
  },
  {
   "cell_type": "code",
   "execution_count": 19,
   "id": "4e5cd02d-f0bf-4bfe-a962-d27fc1f2cd86",
   "metadata": {},
   "outputs": [
    {
     "data": {
      "text/plain": [
       "0     38\n",
       "1     21\n",
       "2     52\n",
       "3     50\n",
       "4     26\n",
       "5     45\n",
       "6     27\n",
       "7     23\n",
       "8     24\n",
       "9     59\n",
       "10    18\n",
       "11    22\n",
       "Name: age, dtype: int64"
      ]
     },
     "execution_count": 19,
     "metadata": {},
     "output_type": "execute_result"
    }
   ],
   "source": [
    "ages = players[\"age\"]\n",
    "ages"
   ]
  },
  {
   "cell_type": "markdown",
   "id": "65af8d9b-a56a-480b-978f-8fa24adda3b8",
   "metadata": {},
   "source": [
    "The variable `ages` is a Pandas series object."
   ]
  },
  {
   "cell_type": "code",
   "execution_count": 20,
   "id": "c578912f-b3f5-4666-93c2-374014a96e7a",
   "metadata": {},
   "outputs": [
    {
     "data": {
      "text/plain": [
       "pandas.core.series.Series"
      ]
     },
     "execution_count": 20,
     "metadata": {},
     "output_type": "execute_result"
    }
   ],
   "source": [
    "type(ages)"
   ]
  },
  {
   "cell_type": "markdown",
   "id": "597cef01-9088-4bc0-b740-08ae469801c0",
   "metadata": {},
   "source": [
    "We can access individual values within the series `ages` using the square brackets."
   ]
  },
  {
   "cell_type": "code",
   "execution_count": 21,
   "id": "a83ee466-3a11-4b25-b5e4-ef8c3b45531a",
   "metadata": {},
   "outputs": [
    {
     "data": {
      "text/plain": [
       "27"
      ]
     },
     "execution_count": 21,
     "metadata": {},
     "output_type": "execute_result"
    }
   ],
   "source": [
    "ages[6]"
   ]
  },
  {
   "cell_type": "code",
   "execution_count": null,
   "id": "e913e22b-a027-4597-82ca-b7b241843469",
   "metadata": {},
   "outputs": [],
   "source": []
  },
  {
   "cell_type": "markdown",
   "id": "6a49bcad-85ad-4f7a-86fa-3ff48db22939",
   "metadata": {},
   "source": [
    "#### Series attributes"
   ]
  },
  {
   "cell_type": "markdown",
   "id": "611835ad-65d2-461b-8010-2c77da5c4b9f",
   "metadata": {},
   "source": [
    "The Pandas series `ages` has the same index as the `players` data frame."
   ]
  },
  {
   "cell_type": "code",
   "execution_count": 22,
   "id": "bb1fc8c7-acf2-4ef4-ae7c-0be77b80c9a3",
   "metadata": {},
   "outputs": [
    {
     "data": {
      "text/plain": [
       "RangeIndex(start=0, stop=12, step=1)"
      ]
     },
     "execution_count": 22,
     "metadata": {},
     "output_type": "execute_result"
    }
   ],
   "source": [
    "ages.index"
   ]
  },
  {
   "cell_type": "markdown",
   "id": "47570b57-7334-4f71-b8da-cf39cc5fb21f",
   "metadata": {},
   "source": [
    "The series `ages` also \"remembers\" the name of the column from which it was extracted."
   ]
  },
  {
   "cell_type": "code",
   "execution_count": 23,
   "id": "8e1d6363-9a8d-41e2-8295-e1fa0a043a6c",
   "metadata": {},
   "outputs": [
    {
     "data": {
      "text/plain": [
       "'age'"
      ]
     },
     "execution_count": 23,
     "metadata": {},
     "output_type": "execute_result"
    }
   ],
   "source": [
    "ages.name"
   ]
  },
  {
   "cell_type": "markdown",
   "id": "98c82748-7ba8-400f-a63b-aac7b4d4b611",
   "metadata": {},
   "source": [
    "We sometimes want to see the data without the index.\n",
    "We can do this by accessing the `.values` attribute of the series."
   ]
  },
  {
   "cell_type": "code",
   "execution_count": 24,
   "id": "4723230b-9a7b-446e-a13e-7b20757a20e8",
   "metadata": {},
   "outputs": [
    {
     "data": {
      "text/plain": [
       "array([38, 21, 52, 50, 26, 45, 27, 23, 24, 59, 18, 22])"
      ]
     },
     "execution_count": 24,
     "metadata": {},
     "output_type": "execute_result"
    }
   ],
   "source": [
    "ages.values"
   ]
  },
  {
   "cell_type": "code",
   "execution_count": null,
   "id": "fcaa8af3-c716-47b3-ba1e-2a6473c3c745",
   "metadata": {},
   "outputs": [],
   "source": []
  },
  {
   "cell_type": "markdown",
   "id": "24cdc03e-c282-4320-b01e-5ec4fee7f74c",
   "metadata": {},
   "source": [
    "#### Series methods"
   ]
  },
  {
   "cell_type": "code",
   "execution_count": 25,
   "id": "bc4fff74-3e24-48e9-8055-2a64056aba65",
   "metadata": {},
   "outputs": [
    {
     "data": {
      "text/plain": [
       "12"
      ]
     },
     "execution_count": 25,
     "metadata": {},
     "output_type": "execute_result"
    }
   ],
   "source": [
    "ages.count()"
   ]
  },
  {
   "cell_type": "markdown",
   "id": "a6b53b39-1f19-4b64-abe1-f1ed01de12f8",
   "metadata": {},
   "source": [
    "Alternatively,\n",
    "since series objects are list-like,\n",
    "we can use the Python build in function `len` to find the length of the series."
   ]
  },
  {
   "cell_type": "code",
   "execution_count": 26,
   "id": "2c91c906-0512-423d-9d5d-f3d68b6a41b0",
   "metadata": {},
   "outputs": [
    {
     "data": {
      "text/plain": [
       "12"
      ]
     },
     "execution_count": 26,
     "metadata": {},
     "output_type": "execute_result"
    }
   ],
   "source": [
    "len(ages)"
   ]
  },
  {
   "cell_type": "code",
   "execution_count": 27,
   "id": "eb6bd5c3-df22-4b70-9a52-85d4f8c901c2",
   "metadata": {},
   "outputs": [
    {
     "data": {
      "text/plain": [
       "405"
      ]
     },
     "execution_count": 27,
     "metadata": {},
     "output_type": "execute_result"
    }
   ],
   "source": [
    "ages.sum()"
   ]
  },
  {
   "cell_type": "markdown",
   "id": "add39412-89ac-4e9c-830a-e1b193bda3af",
   "metadata": {},
   "source": [
    "The average value of a list of $n$ values $\\mathbf{x} = [x_1, x_2, \\ldots, x_n]$\n",
    "is computed using the formula\n",
    "$\\overline{\\mathbf{x}} = \\tfrac{1}{n}\\!\\left(\tx_1 + x_2 + \\cdots + x_n\t\\right)$.\n",
    "This formula says that the average is computed by summing together all the values\n",
    "in the list $\\mathbf{x}$ and dividing by the length of the list $n$.\n",
    "\n",
    "The expression for computing the average age using Pandas methods is as follows:"
   ]
  },
  {
   "cell_type": "code",
   "execution_count": 28,
   "id": "dc793012-8a70-4462-b3d7-3e540242dd81",
   "metadata": {},
   "outputs": [
    {
     "data": {
      "text/plain": [
       "33.75"
      ]
     },
     "execution_count": 28,
     "metadata": {},
     "output_type": "execute_result"
    }
   ],
   "source": [
    "ages.sum() / ages.count()"
   ]
  },
  {
   "cell_type": "markdown",
   "id": "b89debb8-280a-42b5-a806-25f9357c7406",
   "metadata": {},
   "source": [
    "An equivalent,\n",
    "more direct,\n",
    "way to compute the arithmetic mean of the values in the series `ages`\n",
    "is to call its `.mean()` method."
   ]
  },
  {
   "cell_type": "code",
   "execution_count": 29,
   "id": "dd1483b4-484e-4e35-9efc-3964dcc41fa2",
   "metadata": {},
   "outputs": [
    {
     "data": {
      "text/plain": [
       "33.75"
      ]
     },
     "execution_count": 29,
     "metadata": {},
     "output_type": "execute_result"
    }
   ],
   "source": [
    "ages.mean()"
   ]
  },
  {
   "cell_type": "markdown",
   "id": "83db94e6-cc93-4576-a367-7302988f7f7f",
   "metadata": {},
   "source": [
    "The *standard deviation* (dispersion from the mean) is another common statistic\n",
    "that we might want to calculate for a variable in a dataset."
   ]
  },
  {
   "cell_type": "code",
   "execution_count": 30,
   "id": "94f54a17-c0db-4a26-8759-4804b30a0a19",
   "metadata": {},
   "outputs": [
    {
     "data": {
      "text/plain": [
       "14.28365244861157"
      ]
     },
     "execution_count": 30,
     "metadata": {},
     "output_type": "execute_result"
    }
   ],
   "source": [
    "ages.std()"
   ]
  },
  {
   "cell_type": "markdown",
   "id": "c7a25cd0-8825-4341-9b7c-3cacc68e95fa",
   "metadata": {},
   "source": [
    "Pandas series and data frames objects have numerous other methods for computing numerical\n",
    "data summaries, which are called the *descriptive statistics* of the variable.\n",
    "We'll learn more about those in [Section 1.3 Descriptive statistics](./13_descriptive_statistics.ipynb)."
   ]
  },
  {
   "cell_type": "code",
   "execution_count": null,
   "id": "655f2ec8-c550-4e58-82e7-9628a010aa79",
   "metadata": {},
   "outputs": [],
   "source": []
  },
  {
   "cell_type": "markdown",
   "id": "31855657-5fb3-4e39-a1a7-aa882c34c8b3",
   "metadata": {},
   "source": [
    "### Selecting only certain rows (filtering)\n",
    "\n",
    "We often want to select a subset of the rows of a data frame that fit one or more criteria.\n",
    "This is equivalent to \"filtering out\" the rows that don't satisfy these criteria.\n",
    "We use a two-step procedure for this:\n",
    "\n",
    "- **Step 1**: Build a \"selection mask\" series that consists of boolean values (`True` or `False`).\n",
    "- **Step 2**: Select the subset of rows from the data frame using the mask.\n",
    "  The result is a new data frame that contains only the rows that correspond to the `True` values in the selection mask."
   ]
  },
  {
   "cell_type": "markdown",
   "id": "db2c7071-0833-4ca3-bd90-24ff2d7c3000",
   "metadata": {},
   "source": [
    "To select only rows where `ezlvl` is `1`, we first build the boolean selection mask (**Step 1**)..."
   ]
  },
  {
   "cell_type": "code",
   "execution_count": 31,
   "id": "b98b49ca-ebc0-4e3f-808c-013d24ed94be",
   "metadata": {},
   "outputs": [
    {
     "data": {
      "text/plain": [
       "0     False\n",
       "1     False\n",
       "2      True\n",
       "3      True\n",
       "4      True\n",
       "5     False\n",
       "6      True\n",
       "7     False\n",
       "8      True\n",
       "9     False\n",
       "10    False\n",
       "11     True\n",
       "Name: ezlvl, dtype: bool"
      ]
     },
     "execution_count": 31,
     "metadata": {},
     "output_type": "execute_result"
    }
   ],
   "source": [
    "mask = players[\"ezlvl\"] == 1\n",
    "mask"
   ]
  },
  {
   "cell_type": "markdown",
   "id": "1ac1a6a6-6e24-4259-9cc4-7ff8598eb1f7",
   "metadata": {},
   "source": [
    "... then select the rows using the mask (**Step 2**)."
   ]
  },
  {
   "cell_type": "code",
   "execution_count": 32,
   "id": "f19c7d93-008c-40e2-ad37-31f4d76ae881",
   "metadata": {},
   "outputs": [
    {
     "data": {
      "text/html": [
       "<div>\n",
       "<style scoped>\n",
       "    .dataframe tbody tr th:only-of-type {\n",
       "        vertical-align: middle;\n",
       "    }\n",
       "\n",
       "    .dataframe tbody tr th {\n",
       "        vertical-align: top;\n",
       "    }\n",
       "\n",
       "    .dataframe thead th {\n",
       "        text-align: right;\n",
       "    }\n",
       "</style>\n",
       "<table border=\"1\" class=\"dataframe\">\n",
       "  <thead>\n",
       "    <tr style=\"text-align: right;\">\n",
       "      <th></th>\n",
       "      <th>username</th>\n",
       "      <th>country</th>\n",
       "      <th>age</th>\n",
       "      <th>ezlvl</th>\n",
       "      <th>time</th>\n",
       "      <th>points</th>\n",
       "      <th>finished</th>\n",
       "    </tr>\n",
       "  </thead>\n",
       "  <tbody>\n",
       "    <tr>\n",
       "      <th>2</th>\n",
       "      <td>emil</td>\n",
       "      <td>fr</td>\n",
       "      <td>52</td>\n",
       "      <td>1</td>\n",
       "      <td>324.61</td>\n",
       "      <td>1321</td>\n",
       "      <td>1</td>\n",
       "    </tr>\n",
       "    <tr>\n",
       "      <th>3</th>\n",
       "      <td>ivan</td>\n",
       "      <td>ca</td>\n",
       "      <td>50</td>\n",
       "      <td>1</td>\n",
       "      <td>39.51</td>\n",
       "      <td>226</td>\n",
       "      <td>0</td>\n",
       "    </tr>\n",
       "    <tr>\n",
       "      <th>4</th>\n",
       "      <td>hasan</td>\n",
       "      <td>tr</td>\n",
       "      <td>26</td>\n",
       "      <td>1</td>\n",
       "      <td>253.19</td>\n",
       "      <td>815</td>\n",
       "      <td>0</td>\n",
       "    </tr>\n",
       "    <tr>\n",
       "      <th>6</th>\n",
       "      <td>sanjay</td>\n",
       "      <td>ca</td>\n",
       "      <td>27</td>\n",
       "      <td>1</td>\n",
       "      <td>350.00</td>\n",
       "      <td>1401</td>\n",
       "      <td>1</td>\n",
       "    </tr>\n",
       "    <tr>\n",
       "      <th>8</th>\n",
       "      <td>shuo</td>\n",
       "      <td>cn</td>\n",
       "      <td>24</td>\n",
       "      <td>1</td>\n",
       "      <td>194.77</td>\n",
       "      <td>1043</td>\n",
       "      <td>0</td>\n",
       "    </tr>\n",
       "    <tr>\n",
       "      <th>11</th>\n",
       "      <td>joro</td>\n",
       "      <td>bg</td>\n",
       "      <td>22</td>\n",
       "      <td>1</td>\n",
       "      <td>381.97</td>\n",
       "      <td>1491</td>\n",
       "      <td>1</td>\n",
       "    </tr>\n",
       "  </tbody>\n",
       "</table>\n",
       "</div>"
      ],
      "text/plain": [
       "   username country  age  ezlvl    time  points  finished\n",
       "2      emil      fr   52      1  324.61    1321         1\n",
       "3      ivan      ca   50      1   39.51     226         0\n",
       "4     hasan      tr   26      1  253.19     815         0\n",
       "6    sanjay      ca   27      1  350.00    1401         1\n",
       "8      shuo      cn   24      1  194.77    1043         0\n",
       "11     joro      bg   22      1  381.97    1491         1"
      ]
     },
     "execution_count": 32,
     "metadata": {},
     "output_type": "execute_result"
    }
   ],
   "source": [
    "players[mask]"
   ]
  },
  {
   "cell_type": "markdown",
   "id": "4524e589-9513-4cee-b187-29729698aeca",
   "metadata": {},
   "source": [
    "The above two step process can be combined into a more compact expression:"
   ]
  },
  {
   "cell_type": "code",
   "execution_count": 33,
   "id": "31504f1d-4b9b-48b3-be84-96afe36b9db6",
   "metadata": {},
   "outputs": [
    {
     "data": {
      "text/html": [
       "<div>\n",
       "<style scoped>\n",
       "    .dataframe tbody tr th:only-of-type {\n",
       "        vertical-align: middle;\n",
       "    }\n",
       "\n",
       "    .dataframe tbody tr th {\n",
       "        vertical-align: top;\n",
       "    }\n",
       "\n",
       "    .dataframe thead th {\n",
       "        text-align: right;\n",
       "    }\n",
       "</style>\n",
       "<table border=\"1\" class=\"dataframe\">\n",
       "  <thead>\n",
       "    <tr style=\"text-align: right;\">\n",
       "      <th></th>\n",
       "      <th>username</th>\n",
       "      <th>country</th>\n",
       "      <th>age</th>\n",
       "      <th>ezlvl</th>\n",
       "      <th>time</th>\n",
       "      <th>points</th>\n",
       "      <th>finished</th>\n",
       "    </tr>\n",
       "  </thead>\n",
       "  <tbody>\n",
       "    <tr>\n",
       "      <th>2</th>\n",
       "      <td>emil</td>\n",
       "      <td>fr</td>\n",
       "      <td>52</td>\n",
       "      <td>1</td>\n",
       "      <td>324.61</td>\n",
       "      <td>1321</td>\n",
       "      <td>1</td>\n",
       "    </tr>\n",
       "    <tr>\n",
       "      <th>3</th>\n",
       "      <td>ivan</td>\n",
       "      <td>ca</td>\n",
       "      <td>50</td>\n",
       "      <td>1</td>\n",
       "      <td>39.51</td>\n",
       "      <td>226</td>\n",
       "      <td>0</td>\n",
       "    </tr>\n",
       "    <tr>\n",
       "      <th>4</th>\n",
       "      <td>hasan</td>\n",
       "      <td>tr</td>\n",
       "      <td>26</td>\n",
       "      <td>1</td>\n",
       "      <td>253.19</td>\n",
       "      <td>815</td>\n",
       "      <td>0</td>\n",
       "    </tr>\n",
       "    <tr>\n",
       "      <th>6</th>\n",
       "      <td>sanjay</td>\n",
       "      <td>ca</td>\n",
       "      <td>27</td>\n",
       "      <td>1</td>\n",
       "      <td>350.00</td>\n",
       "      <td>1401</td>\n",
       "      <td>1</td>\n",
       "    </tr>\n",
       "    <tr>\n",
       "      <th>8</th>\n",
       "      <td>shuo</td>\n",
       "      <td>cn</td>\n",
       "      <td>24</td>\n",
       "      <td>1</td>\n",
       "      <td>194.77</td>\n",
       "      <td>1043</td>\n",
       "      <td>0</td>\n",
       "    </tr>\n",
       "    <tr>\n",
       "      <th>11</th>\n",
       "      <td>joro</td>\n",
       "      <td>bg</td>\n",
       "      <td>22</td>\n",
       "      <td>1</td>\n",
       "      <td>381.97</td>\n",
       "      <td>1491</td>\n",
       "      <td>1</td>\n",
       "    </tr>\n",
       "  </tbody>\n",
       "</table>\n",
       "</div>"
      ],
      "text/plain": [
       "   username country  age  ezlvl    time  points  finished\n",
       "2      emil      fr   52      1  324.61    1321         1\n",
       "3      ivan      ca   50      1   39.51     226         0\n",
       "4     hasan      tr   26      1  253.19     815         0\n",
       "6    sanjay      ca   27      1  350.00    1401         1\n",
       "8      shuo      cn   24      1  194.77    1043         0\n",
       "11     joro      bg   22      1  381.97    1491         1"
      ]
     },
     "execution_count": 33,
     "metadata": {},
     "output_type": "execute_result"
    }
   ],
   "source": [
    "players[players[\"ezlvl\"]==1]"
   ]
  },
  {
   "cell_type": "code",
   "execution_count": null,
   "id": "f5d53572-26a4-43ce-bb17-f43130f398ab",
   "metadata": {},
   "outputs": [],
   "source": []
  },
  {
   "cell_type": "markdown",
   "id": "ea9a46c5-c979-499d-8e73-51df01fb4732",
   "metadata": {},
   "source": [
    "### Sorting data frames"
   ]
  },
  {
   "cell_type": "code",
   "execution_count": 34,
   "id": "236d91c8-0711-4997-a231-9da743918331",
   "metadata": {},
   "outputs": [
    {
     "data": {
      "text/html": [
       "<div>\n",
       "<style scoped>\n",
       "    .dataframe tbody tr th:only-of-type {\n",
       "        vertical-align: middle;\n",
       "    }\n",
       "\n",
       "    .dataframe tbody tr th {\n",
       "        vertical-align: top;\n",
       "    }\n",
       "\n",
       "    .dataframe thead th {\n",
       "        text-align: right;\n",
       "    }\n",
       "</style>\n",
       "<table border=\"1\" class=\"dataframe\">\n",
       "  <thead>\n",
       "    <tr style=\"text-align: right;\">\n",
       "      <th></th>\n",
       "      <th>username</th>\n",
       "      <th>country</th>\n",
       "      <th>age</th>\n",
       "      <th>ezlvl</th>\n",
       "      <th>time</th>\n",
       "      <th>points</th>\n",
       "      <th>finished</th>\n",
       "    </tr>\n",
       "  </thead>\n",
       "  <tbody>\n",
       "    <tr>\n",
       "      <th>7</th>\n",
       "      <td>lena</td>\n",
       "      <td>uk</td>\n",
       "      <td>23</td>\n",
       "      <td>0</td>\n",
       "      <td>408.76</td>\n",
       "      <td>1745</td>\n",
       "      <td>1</td>\n",
       "    </tr>\n",
       "    <tr>\n",
       "      <th>11</th>\n",
       "      <td>joro</td>\n",
       "      <td>bg</td>\n",
       "      <td>22</td>\n",
       "      <td>1</td>\n",
       "      <td>381.97</td>\n",
       "      <td>1491</td>\n",
       "      <td>1</td>\n",
       "    </tr>\n",
       "    <tr>\n",
       "      <th>6</th>\n",
       "      <td>sanjay</td>\n",
       "      <td>ca</td>\n",
       "      <td>27</td>\n",
       "      <td>1</td>\n",
       "      <td>350.00</td>\n",
       "      <td>1401</td>\n",
       "      <td>1</td>\n",
       "    </tr>\n",
       "    <tr>\n",
       "      <th>1</th>\n",
       "      <td>jane</td>\n",
       "      <td>ca</td>\n",
       "      <td>21</td>\n",
       "      <td>0</td>\n",
       "      <td>331.64</td>\n",
       "      <td>1149</td>\n",
       "      <td>1</td>\n",
       "    </tr>\n",
       "    <tr>\n",
       "      <th>2</th>\n",
       "      <td>emil</td>\n",
       "      <td>fr</td>\n",
       "      <td>52</td>\n",
       "      <td>1</td>\n",
       "      <td>324.61</td>\n",
       "      <td>1321</td>\n",
       "      <td>1</td>\n",
       "    </tr>\n",
       "    <tr>\n",
       "      <th>10</th>\n",
       "      <td>anna</td>\n",
       "      <td>pl</td>\n",
       "      <td>18</td>\n",
       "      <td>0</td>\n",
       "      <td>303.66</td>\n",
       "      <td>1209</td>\n",
       "      <td>1</td>\n",
       "    </tr>\n",
       "    <tr>\n",
       "      <th>9</th>\n",
       "      <td>r0byn</td>\n",
       "      <td>us</td>\n",
       "      <td>59</td>\n",
       "      <td>0</td>\n",
       "      <td>255.55</td>\n",
       "      <td>1102</td>\n",
       "      <td>0</td>\n",
       "    </tr>\n",
       "    <tr>\n",
       "      <th>4</th>\n",
       "      <td>hasan</td>\n",
       "      <td>tr</td>\n",
       "      <td>26</td>\n",
       "      <td>1</td>\n",
       "      <td>253.19</td>\n",
       "      <td>815</td>\n",
       "      <td>0</td>\n",
       "    </tr>\n",
       "    <tr>\n",
       "      <th>8</th>\n",
       "      <td>shuo</td>\n",
       "      <td>cn</td>\n",
       "      <td>24</td>\n",
       "      <td>1</td>\n",
       "      <td>194.77</td>\n",
       "      <td>1043</td>\n",
       "      <td>0</td>\n",
       "    </tr>\n",
       "    <tr>\n",
       "      <th>0</th>\n",
       "      <td>mary</td>\n",
       "      <td>us</td>\n",
       "      <td>38</td>\n",
       "      <td>0</td>\n",
       "      <td>124.94</td>\n",
       "      <td>418</td>\n",
       "      <td>0</td>\n",
       "    </tr>\n",
       "    <tr>\n",
       "      <th>3</th>\n",
       "      <td>ivan</td>\n",
       "      <td>ca</td>\n",
       "      <td>50</td>\n",
       "      <td>1</td>\n",
       "      <td>39.51</td>\n",
       "      <td>226</td>\n",
       "      <td>0</td>\n",
       "    </tr>\n",
       "    <tr>\n",
       "      <th>5</th>\n",
       "      <td>jordan</td>\n",
       "      <td>us</td>\n",
       "      <td>45</td>\n",
       "      <td>0</td>\n",
       "      <td>28.49</td>\n",
       "      <td>206</td>\n",
       "      <td>0</td>\n",
       "    </tr>\n",
       "  </tbody>\n",
       "</table>\n",
       "</div>"
      ],
      "text/plain": [
       "   username country  age  ezlvl    time  points  finished\n",
       "7      lena      uk   23      0  408.76    1745         1\n",
       "11     joro      bg   22      1  381.97    1491         1\n",
       "6    sanjay      ca   27      1  350.00    1401         1\n",
       "1      jane      ca   21      0  331.64    1149         1\n",
       "2      emil      fr   52      1  324.61    1321         1\n",
       "10     anna      pl   18      0  303.66    1209         1\n",
       "9     r0byn      us   59      0  255.55    1102         0\n",
       "4     hasan      tr   26      1  253.19     815         0\n",
       "8      shuo      cn   24      1  194.77    1043         0\n",
       "0      mary      us   38      0  124.94     418         0\n",
       "3      ivan      ca   50      1   39.51     226         0\n",
       "5    jordan      us   45      0   28.49     206         0"
      ]
     },
     "execution_count": 34,
     "metadata": {},
     "output_type": "execute_result"
    }
   ],
   "source": [
    "players.sort_values(\"time\", ascending=False)"
   ]
  },
  {
   "cell_type": "markdown",
   "id": "d6d9a33e-92f0-4e6d-9422-ff34feec8778",
   "metadata": {},
   "source": [
    "#### Ranking (optional material)\n",
    "\n",
    "We can also rank the players according to the `time` variable\n",
    "by using the method `.rank()` on the `\"time\"` column."
   ]
  },
  {
   "cell_type": "code",
   "execution_count": 35,
   "id": "c041f0a1-8be6-4f38-8aaf-80959d4f7f2b",
   "metadata": {},
   "outputs": [
    {
     "data": {
      "text/plain": [
       "0     10.0\n",
       "1      4.0\n",
       "2      5.0\n",
       "3     11.0\n",
       "4      8.0\n",
       "5     12.0\n",
       "6      3.0\n",
       "7      1.0\n",
       "8      9.0\n",
       "9      7.0\n",
       "10     6.0\n",
       "11     2.0\n",
       "Name: time, dtype: float64"
      ]
     },
     "execution_count": 35,
     "metadata": {},
     "output_type": "execute_result"
    }
   ],
   "source": [
    "players[\"time\"].rank(ascending=False)"
   ]
  },
  {
   "cell_type": "markdown",
   "id": "8065b764-f3f8-433f-a934-c8cc34a2c974",
   "metadata": {},
   "source": [
    "The *rank* of an element in a list tells us the position it appears in when the list is sorted.\n",
    "We see from the players-ranked-by-time results that the player at index `7` has rank `1` (first),\n",
    "and the player at index `5` is ranked `12` (last)."
   ]
  },
  {
   "cell_type": "code",
   "execution_count": null,
   "id": "7ee99eb3-dd20-41cd-b199-9cf8e3797b8c",
   "metadata": {},
   "outputs": [],
   "source": []
  },
  {
   "cell_type": "code",
   "execution_count": null,
   "id": "283b9332-17c9-4049-88ca-2992e81579b1",
   "metadata": {},
   "outputs": [],
   "source": []
  },
  {
   "cell_type": "markdown",
   "id": "699a6b63-e0b2-4b4a-9a4e-6761ac3e6274",
   "metadata": {},
   "source": [
    "## Data visualization with Seaborn"
   ]
  },
  {
   "cell_type": "markdown",
   "id": "f38dfe28-9eca-4b8b-9443-4f97fcb6c9a9",
   "metadata": {},
   "source": [
    "The first step is to import the `seaboarn` module\n",
    "under the alias `sns`."
   ]
  },
  {
   "cell_type": "code",
   "execution_count": 36,
   "id": "fa7acf92-e668-4c95-8e3b-bd63e2f51afc",
   "metadata": {},
   "outputs": [],
   "source": [
    "import seaborn as sns"
   ]
  },
  {
   "cell_type": "markdown",
   "id": "37893d72-5f29-4250-8de4-51e5777ba977",
   "metadata": {},
   "source": [
    "All the Seaborn functions are now available under `sns.`."
   ]
  },
  {
   "cell_type": "markdown",
   "id": "86e28560-e748-4dcc-a586-81701930c2ae",
   "metadata": {},
   "source": [
    "### Strip plot of the `time` variable\n",
    "\n",
    "To generate a strip plot,\n",
    "we pass the data frame `players` as the `data` argument to the Seaborn function `sns.stripplot`,\n",
    "and specify the column name `\"time\"` (in quotes) as the `x` argument."
   ]
  },
  {
   "cell_type": "code",
   "execution_count": 37,
   "id": "9908e51b-ad9a-4d93-b1ac-bb8e626e9a08",
   "metadata": {},
   "outputs": [
    {
     "data": {
      "image/png": "[encoded data removed]",
      "text/plain": [
       "<Figure size 640x480 with 1 Axes>"
      ]
     },
     "metadata": {},
     "output_type": "display_data"
    }
   ],
   "source": [
    "sns.stripplot(data=players, x=\"time\");"
   ]
  },
  {
   "cell_type": "markdown",
   "id": "c5dd114d-a7c7-4a30-b745-032076946511",
   "metadata": {},
   "source": [
    "We can enhance the strip plot by mapping the `ezlvl` variable to the colour (hue) of the points in the plot."
   ]
  },
  {
   "cell_type": "code",
   "execution_count": 38,
   "id": "aea8478f-28f7-4cab-acf6-5becf8f0c64b",
   "metadata": {},
   "outputs": [
    {
     "data": {
      "image/png": "[encoded data removed]",
      "text/plain": [
       "<Figure size 640x480 with 1 Axes>"
      ]
     },
     "metadata": {},
     "output_type": "display_data"
    }
   ],
   "source": [
    "sns.stripplot(data=players, x=\"time\", hue=\"ezlvl\");"
   ]
  },
  {
   "cell_type": "code",
   "execution_count": null,
   "id": "9cd286a2-ca33-4362-b1da-8d66f80e32f6",
   "metadata": {},
   "outputs": [],
   "source": []
  },
  {
   "cell_type": "markdown",
   "id": "c7a467e4-a930-4297-9690-96fa85963186",
   "metadata": {},
   "source": [
    "### Studying the effect of `ezlvl` on `time`\n",
    "\n",
    "The players dataset was collected as part of an experiment\n",
    "designed to answer the question \"Does the easy first level lead to an improvement in user retention?\"\n",
    "We want to compare the `time` variable (total time players spent in the game)\n",
    "of players who were shown the \"easy level\" version of the game (`ezlvl==1`)\n",
    "to the control group of played who played the regular vesion of the game (`ezlvl==0`)."
   ]
  },
  {
   "cell_type": "markdown",
   "id": "c217ece4-9ac6-448c-b9fa-a2cea4cd9ad3",
   "metadata": {},
   "source": [
    "The mean `time` in the intervention group is:"
   ]
  },
  {
   "cell_type": "code",
   "execution_count": 39,
   "id": "4e9d22f3-3334-4a8e-94a2-213a41b0e837",
   "metadata": {},
   "outputs": [
    {
     "data": {
      "text/plain": [
       "257.34166666666664"
      ]
     },
     "execution_count": 39,
     "metadata": {},
     "output_type": "execute_result"
    }
   ],
   "source": [
    "mean1 = players[players[\"ezlvl\"]==1][\"time\"].mean()\n",
    "mean1"
   ]
  },
  {
   "cell_type": "markdown",
   "id": "c8f99ac2-cc0d-4aca-80be-657dcd5fed5a",
   "metadata": {},
   "source": [
    "The mean `time` in the control group is: "
   ]
  },
  {
   "cell_type": "code",
   "execution_count": 40,
   "id": "8d45e9a2-504a-4a5a-91b5-e66f530abc14",
   "metadata": {},
   "outputs": [
    {
     "data": {
      "text/plain": [
       "242.17333333333332"
      ]
     },
     "execution_count": 40,
     "metadata": {},
     "output_type": "execute_result"
    }
   ],
   "source": [
    "mean0 = players[players[\"ezlvl\"]==0][\"time\"].mean()\n",
    "mean0"
   ]
  },
  {
   "cell_type": "markdown",
   "id": "79a0e65d-c23c-4c7a-bd61-da8d9c7d4486",
   "metadata": {},
   "source": [
    "Let's generate a strip plot of the `time` variable for the two groups of players."
   ]
  },
  {
   "cell_type": "code",
   "execution_count": 41,
   "id": "6de697f5-aadc-4376-8185-b4c85d95598c",
   "metadata": {},
   "outputs": [
    {
     "data": {
      "image/png": "[encoded data removed]",
      "text/plain": [
       "<Figure size 640x480 with 1 Axes>"
      ]
     },
     "metadata": {},
     "output_type": "display_data"
    }
   ],
   "source": [
    "sns.stripplot(data=players, x=\"time\", y=\"ezlvl\",\n",
    "              hue=\"ezlvl\", orient=\"h\", legend=None);"
   ]
  },
  {
   "cell_type": "code",
   "execution_count": 42,
   "id": "2af9c99b-f789-4286-92c6-849900eb597f",
   "metadata": {},
   "outputs": [],
   "source": [
    "# # BONUS. stripplot with markers for the group means \n",
    "# sns.stripplot(data=players, x=\"time\", y=\"ezlvl\",\n",
    "#               hue=\"ezlvl\", orient=\"h\", legend=None)\n",
    "# sns.stripplot(x=[mean0], y=[0], marker=\"D\", orient=\"h\", color=\"b\")\n",
    "# sns.stripplot(x=[mean1], y=[1], marker=\"D\", orient=\"h\", color=\"r\")"
   ]
  },
  {
   "cell_type": "code",
   "execution_count": null,
   "id": "f924d200-5cd5-4229-b164-cd09edda1ddc",
   "metadata": {},
   "outputs": [],
   "source": []
  },
  {
   "cell_type": "markdown",
   "id": "e7e01c96-885b-4325-8fad-6ea3fd668c2e",
   "metadata": {},
   "source": [
    "### Studying the relationship between `age` and `time`\n",
    "\n",
    "The secondary research question,\n",
    "is to look for a correlation between the `age` variable and the `time` variable."
   ]
  },
  {
   "cell_type": "code",
   "execution_count": 43,
   "id": "d26962ff-7d7a-47ea-9e0b-c5fb2d575fb3",
   "metadata": {},
   "outputs": [
    {
     "data": {
      "image/png": "[encoded data removed]",
      "text/plain": [
       "<Figure size 640x480 with 1 Axes>"
      ]
     },
     "metadata": {},
     "output_type": "display_data"
    }
   ],
   "source": [
    "sns.scatterplot(data=players, x=\"age\", y=\"time\");"
   ]
  },
  {
   "cell_type": "markdown",
   "id": "3c62c423-3f84-4677-9f31-295d4e5d1199",
   "metadata": {},
   "source": [
    "We can also create a linear regression plot using the `regplot` function."
   ]
  },
  {
   "cell_type": "code",
   "execution_count": 44,
   "id": "27358723-2590-41cb-bc3c-f02372f2aa6f",
   "metadata": {},
   "outputs": [
    {
     "data": {
      "image/png": "[encoded data removed]",
      "text/plain": [
       "<Figure size 640x480 with 1 Axes>"
      ]
     },
     "metadata": {},
     "output_type": "display_data"
    }
   ],
   "source": [
    "sns.regplot(data=players, x=\"age\", y=\"time\", ci=None);"
   ]
  },
  {
   "cell_type": "markdown",
   "id": "f2b0fed4-c775-4b27-a5ee-ec93bcd72c7f",
   "metadata": {},
   "source": [
    "We'll learn more about linear regression in [Chapter 4](./40_LINEAR_MODELS.md)."
   ]
  },
  {
   "cell_type": "code",
   "execution_count": null,
   "id": "7eba04b0-32dd-4419-a0d6-aef9785449a6",
   "metadata": {},
   "outputs": [],
   "source": []
  },
  {
   "cell_type": "markdown",
   "id": "a2b7d979-753f-4a23-944b-f6a429a3a7ea",
   "metadata": {},
   "source": [
    "## Real-world datasets\n",
    "\n",
    "Imagine you're a data scientist consulting with various clients.\n",
    "Clients come to you with datasets and real-world questions they want to answer using statistical analysis.\n",
    "The following table shows the complete list of the datasets\n",
    "that we'll use in examples and explanations in the rest of the book.\n",
    "The last column of the table tells us the sections of the book where each dataset will be discussed.\n",
    "\n",
    "\n",
    "| index | client name | filename          | shape  | sections           |\n",
    "|-------|-------------|-------------------|--------|--------------------|\n",
    "|       |             | `players.csv`     | 12x7   | 1.1, 1.2           |\n",
    "| 1     | Alice       | `apples.csv`      | 30x1   | 3.1, 3.2           |\n",
    "| 2     | Bob         | `eprices.csv`     | 18x2   | 3.1, 3.5           |\n",
    "| 3     | Charlotte   | `students.csv`    | 15x5   | 1.3, 3.1, 3.5, 4.1 |\n",
    "| 4     | Khalid      | `kombucha.csv`    | 347x2  | 3.1, 3.2, 3.3, 3.4 |\n",
    "| 5     | Dan         | `doctors.csv`     | 157x12 | 3.1, 3.2, 3.5, 4.1 |\n",
    "| 6     | Vanessa     | `visitors.csv`    | 2000x3 | 3.6                |\n",
    "|       |             | `minimal.csv`     | 5x4    | Appendix D         |\n",
    "\n",
    "\n",
    "Let's briefly describe the background story behind each dataset and state\n",
    "the statistical question that each client is interested in answering."
   ]
  },
  {
   "cell_type": "markdown",
   "id": "8c3c5b69-0c71-4fa5-bcea-489b3d468dc3",
   "metadata": {},
   "source": [
    "### Apple weights\n",
    "\n",
    "Alice runs an apple orchard.\n",
    "She collected a sample from the apples harvested this year (the *population*)\n",
    "and sent you the data in a CSV file called `apples.csv`.\n",
    "\n",
    "You start by loading the data into Pandas and looking at its characteristics."
   ]
  },
  {
   "cell_type": "code",
   "execution_count": 45,
   "id": "e1cecebc-3faf-4115-b970-c1557b15f60c",
   "metadata": {},
   "outputs": [
    {
     "data": {
      "text/plain": [
       "(30, 1)"
      ]
     },
     "execution_count": 45,
     "metadata": {},
     "output_type": "execute_result"
    }
   ],
   "source": [
    "apples = pd.read_csv(\"../datasets/apples.csv\")\n",
    "apples.shape"
   ]
  },
  {
   "cell_type": "markdown",
   "id": "9992bc9d-654e-4d7d-8f27-396aa56404ea",
   "metadata": {},
   "source": [
    "The first three observations in the apples dataset are:"
   ]
  },
  {
   "cell_type": "code",
   "execution_count": 46,
   "id": "a5f2a3cd-771d-448b-a18a-001508722d9b",
   "metadata": {},
   "outputs": [
    {
     "data": {
      "text/html": [
       "<div>\n",
       "<style scoped>\n",
       "    .dataframe tbody tr th:only-of-type {\n",
       "        vertical-align: middle;\n",
       "    }\n",
       "\n",
       "    .dataframe tbody tr th {\n",
       "        vertical-align: top;\n",
       "    }\n",
       "\n",
       "    .dataframe thead th {\n",
       "        text-align: right;\n",
       "    }\n",
       "</style>\n",
       "<table border=\"1\" class=\"dataframe\">\n",
       "  <thead>\n",
       "    <tr style=\"text-align: right;\">\n",
       "      <th></th>\n",
       "      <th>weight</th>\n",
       "    </tr>\n",
       "  </thead>\n",
       "  <tbody>\n",
       "    <tr>\n",
       "      <th>0</th>\n",
       "      <td>205.0</td>\n",
       "    </tr>\n",
       "    <tr>\n",
       "      <th>1</th>\n",
       "      <td>182.0</td>\n",
       "    </tr>\n",
       "    <tr>\n",
       "      <th>2</th>\n",
       "      <td>192.0</td>\n",
       "    </tr>\n",
       "  </tbody>\n",
       "</table>\n",
       "</div>"
      ],
      "text/plain": [
       "   weight\n",
       "0   205.0\n",
       "1   182.0\n",
       "2   192.0"
      ]
     },
     "execution_count": 46,
     "metadata": {},
     "output_type": "execute_result"
    }
   ],
   "source": [
    "apples.head(3)"
   ]
  },
  {
   "cell_type": "markdown",
   "id": "22e804b9-e286-4ec3-bcfd-9c202db8866b",
   "metadata": {},
   "source": [
    "The sample mean is:"
   ]
  },
  {
   "cell_type": "code",
   "execution_count": 47,
   "id": "2327178c-2c42-4301-901c-2ff8c3744a3f",
   "metadata": {},
   "outputs": [
    {
     "data": {
      "text/plain": [
       "202.6"
      ]
     },
     "execution_count": 47,
     "metadata": {},
     "output_type": "execute_result"
    }
   ],
   "source": [
    "apples['weight'].mean()"
   ]
  },
  {
   "cell_type": "code",
   "execution_count": 48,
   "id": "d9fd7ae8-73e5-4a03-b647-de96746490c0",
   "metadata": {},
   "outputs": [
    {
     "data": {
      "image/png": "[encoded data removed]",
      "text/plain": [
       "<Figure size 640x480 with 1 Axes>"
      ]
     },
     "metadata": {},
     "output_type": "display_data"
    }
   ],
   "source": [
    "sns.stripplot(data=apples, x=\"weight\", jitter=0, alpha=0.5);"
   ]
  },
  {
   "cell_type": "code",
   "execution_count": null,
   "id": "5ff1f730-fce3-4426-9e3a-faa912a4f6d9",
   "metadata": {},
   "outputs": [],
   "source": []
  },
  {
   "cell_type": "markdown",
   "id": "4386be8e-e22f-4e27-be40-e5cc902f1935",
   "metadata": {},
   "source": [
    "### Electricity prices\n",
    "\n",
    "Bob recently bought an electric car.\n",
    "He doesn't have a charging station for his car at home,\n",
    "so he goes to public charging stations to recharge the car's batteries.\n",
    "Bob lives downtown,\n",
    "so he can go either to the East End or West End of the city for charging.\n",
    "He wants to know which side of the city has cheaper prices.\n",
    "Are electricity prices cheaper in the East End or the West End of the city?\n",
    "\n",
    "To study this question,\n",
    "Bob collected electricity prices of East End and West End charging stations\n",
    "from a local price comparison website\n",
    "and provided you the prices in the dataset `eprices.csv`."
   ]
  },
  {
   "cell_type": "code",
   "execution_count": 49,
   "id": "e1cb38b5-9e33-43d2-8df5-02651f15c97f",
   "metadata": {},
   "outputs": [
    {
     "data": {
      "text/plain": [
       "(18, 2)"
      ]
     },
     "execution_count": 49,
     "metadata": {},
     "output_type": "execute_result"
    }
   ],
   "source": [
    "eprices = pd.read_csv(\"../datasets/eprices.csv\")\n",
    "eprices.shape"
   ]
  },
  {
   "cell_type": "markdown",
   "id": "fa6142e7-b0c0-47ed-a499-47c37f955ff6",
   "metadata": {},
   "source": [
    "The first three observations in the electricity prices dataset are:"
   ]
  },
  {
   "cell_type": "code",
   "execution_count": 50,
   "id": "09c27ccf-d3c3-4ffc-921f-0b6d0486de61",
   "metadata": {},
   "outputs": [
    {
     "data": {
      "text/html": [
       "<div>\n",
       "<style scoped>\n",
       "    .dataframe tbody tr th:only-of-type {\n",
       "        vertical-align: middle;\n",
       "    }\n",
       "\n",
       "    .dataframe tbody tr th {\n",
       "        vertical-align: top;\n",
       "    }\n",
       "\n",
       "    .dataframe thead th {\n",
       "        text-align: right;\n",
       "    }\n",
       "</style>\n",
       "<table border=\"1\" class=\"dataframe\">\n",
       "  <thead>\n",
       "    <tr style=\"text-align: right;\">\n",
       "      <th></th>\n",
       "      <th>loc</th>\n",
       "      <th>price</th>\n",
       "    </tr>\n",
       "  </thead>\n",
       "  <tbody>\n",
       "    <tr>\n",
       "      <th>0</th>\n",
       "      <td>East</td>\n",
       "      <td>7.7</td>\n",
       "    </tr>\n",
       "    <tr>\n",
       "      <th>1</th>\n",
       "      <td>East</td>\n",
       "      <td>5.9</td>\n",
       "    </tr>\n",
       "    <tr>\n",
       "      <th>2</th>\n",
       "      <td>East</td>\n",
       "      <td>7.0</td>\n",
       "    </tr>\n",
       "  </tbody>\n",
       "</table>\n",
       "</div>"
      ],
      "text/plain": [
       "    loc  price\n",
       "0  East    7.7\n",
       "1  East    5.9\n",
       "2  East    7.0"
      ]
     },
     "execution_count": 50,
     "metadata": {},
     "output_type": "execute_result"
    }
   ],
   "source": [
    "eprices.head(3)"
   ]
  },
  {
   "cell_type": "markdown",
   "id": "e5b2d7b9-92e0-4fe7-ab93-4acb525f0e4b",
   "metadata": {},
   "source": [
    "The average price in the West End is:"
   ]
  },
  {
   "cell_type": "code",
   "execution_count": 51,
   "id": "643f2c61-6c6a-465d-910b-4a00274d3d14",
   "metadata": {},
   "outputs": [
    {
     "data": {
      "text/plain": [
       "9.155555555555557"
      ]
     },
     "execution_count": 51,
     "metadata": {},
     "output_type": "execute_result"
    }
   ],
   "source": [
    "eprices[eprices[\"loc\"]==\"West\"][\"price\"].mean()"
   ]
  },
  {
   "cell_type": "markdown",
   "id": "d55dd0b9-2ea0-4676-9033-96947a8942f4",
   "metadata": {},
   "source": [
    "The average price in the East End is:"
   ]
  },
  {
   "cell_type": "code",
   "execution_count": 52,
   "id": "e84383de-3671-46ab-8dd8-792f08e8abc8",
   "metadata": {},
   "outputs": [
    {
     "data": {
      "text/plain": [
       "6.155555555555556"
      ]
     },
     "execution_count": 52,
     "metadata": {},
     "output_type": "execute_result"
    }
   ],
   "source": [
    "eprices[eprices[\"loc\"]==\"East\"][\"price\"].mean()"
   ]
  },
  {
   "cell_type": "markdown",
   "id": "246ec543-e0a3-4f34-aaf0-90ce2df0cd41",
   "metadata": {},
   "source": [
    "Let's create a strip plot of electricity prices along the $x$-axis\n",
    "and use the `loc` variable to control the $y$-position and colour of the points."
   ]
  },
  {
   "cell_type": "code",
   "execution_count": 53,
   "id": "feff15c1-db38-4d6c-a3c0-d5720ecff559",
   "metadata": {},
   "outputs": [
    {
     "data": {
      "image/png": "[encoded data removed]",
      "text/plain": [
       "<Figure size 640x480 with 1 Axes>"
      ]
     },
     "metadata": {},
     "output_type": "display_data"
    }
   ],
   "source": [
    "sns.stripplot(data=eprices, x=\"price\", y=\"loc\", hue=\"loc\");"
   ]
  },
  {
   "cell_type": "code",
   "execution_count": null,
   "id": "1e47d385-0ef6-4538-8c05-3a12e0fe5d95",
   "metadata": {},
   "outputs": [],
   "source": []
  },
  {
   "cell_type": "markdown",
   "id": "0cc55870-00cc-4f1c-b1ce-c5e479d70dc6",
   "metadata": {},
   "source": [
    "### Students' scores\n",
    "\n",
    "Charlotte is a science teacher who wants to test the effectiveness of a new teaching method\n",
    "in which material is presented in the form of a \"[scientific debate](https://www.youtube.com/watch?v=eVtCO84MDj8)\".\n",
    "Student actors initially express \"wrong\" opinions,\n",
    "which are then corrected by presenting the \"correct\" way to think about science concepts.\n",
    "This type of teaching is in contrast to the usual lecture method,\n",
    "in which the teacher presents only the correct facts.\n",
    "\n",
    "To compare the effectiveness of the two teaching methods,\n",
    "she has prepared two variants of her course:\n",
    "\n",
    "- In the `lecture` variant,\n",
    "  the video lessons present the material in the usual lecture format\n",
    "  that includes only correct facts and explanations.\n",
    "\n",
    "- In the `debate` variant,\n",
    "  the same material is covered through video lessons\n",
    "  in which student actors express multiple points of view,\n",
    "  including common misconceptions.\n",
    "\n",
    "Except for the different video lessons,\n",
    "the two variants of the course are identical:\n",
    "they cover the same topics,\n",
    "use the same total lecture time,\n",
    "and test students' knowledge using the same assessment items. \n",
    "\n",
    "\n",
    "Let's load the data file `students.csv` into Pandas and see what it looks like."
   ]
  },
  {
   "cell_type": "code",
   "execution_count": 54,
   "id": "1e22cee9-59fd-4747-9e52-6392336ac9dd",
   "metadata": {},
   "outputs": [
    {
     "data": {
      "text/plain": [
       "(15, 5)"
      ]
     },
     "execution_count": 54,
     "metadata": {},
     "output_type": "execute_result"
    }
   ],
   "source": [
    "students = pd.read_csv(\"../datasets/students.csv\")\n",
    "students.shape"
   ]
  },
  {
   "cell_type": "markdown",
   "id": "e9612ccd-7cfc-43f1-9699-5b02e0a3588c",
   "metadata": {},
   "source": [
    "The first five observations in the students dataset are:"
   ]
  },
  {
   "cell_type": "code",
   "execution_count": 55,
   "id": "71bc6a1f-f84b-4b03-b734-298a0c666865",
   "metadata": {},
   "outputs": [
    {
     "data": {
      "text/html": [
       "<div>\n",
       "<style scoped>\n",
       "    .dataframe tbody tr th:only-of-type {\n",
       "        vertical-align: middle;\n",
       "    }\n",
       "\n",
       "    .dataframe tbody tr th {\n",
       "        vertical-align: top;\n",
       "    }\n",
       "\n",
       "    .dataframe thead th {\n",
       "        text-align: right;\n",
       "    }\n",
       "</style>\n",
       "<table border=\"1\" class=\"dataframe\">\n",
       "  <thead>\n",
       "    <tr style=\"text-align: right;\">\n",
       "      <th></th>\n",
       "      <th>student_ID</th>\n",
       "      <th>background</th>\n",
       "      <th>curriculum</th>\n",
       "      <th>effort</th>\n",
       "      <th>score</th>\n",
       "    </tr>\n",
       "  </thead>\n",
       "  <tbody>\n",
       "    <tr>\n",
       "      <th>0</th>\n",
       "      <td>1</td>\n",
       "      <td>arts</td>\n",
       "      <td>debate</td>\n",
       "      <td>10.96</td>\n",
       "      <td>75.0</td>\n",
       "    </tr>\n",
       "    <tr>\n",
       "      <th>1</th>\n",
       "      <td>2</td>\n",
       "      <td>science</td>\n",
       "      <td>lecture</td>\n",
       "      <td>8.69</td>\n",
       "      <td>75.0</td>\n",
       "    </tr>\n",
       "    <tr>\n",
       "      <th>2</th>\n",
       "      <td>3</td>\n",
       "      <td>arts</td>\n",
       "      <td>debate</td>\n",
       "      <td>8.60</td>\n",
       "      <td>67.0</td>\n",
       "    </tr>\n",
       "    <tr>\n",
       "      <th>3</th>\n",
       "      <td>4</td>\n",
       "      <td>arts</td>\n",
       "      <td>lecture</td>\n",
       "      <td>7.92</td>\n",
       "      <td>70.3</td>\n",
       "    </tr>\n",
       "    <tr>\n",
       "      <th>4</th>\n",
       "      <td>5</td>\n",
       "      <td>science</td>\n",
       "      <td>debate</td>\n",
       "      <td>9.90</td>\n",
       "      <td>76.1</td>\n",
       "    </tr>\n",
       "  </tbody>\n",
       "</table>\n",
       "</div>"
      ],
      "text/plain": [
       "   student_ID background curriculum  effort  score\n",
       "0           1       arts     debate   10.96   75.0\n",
       "1           2    science    lecture    8.69   75.0\n",
       "2           3       arts     debate    8.60   67.0\n",
       "3           4       arts    lecture    7.92   70.3\n",
       "4           5    science     debate    9.90   76.1"
      ]
     },
     "execution_count": 55,
     "metadata": {},
     "output_type": "execute_result"
    }
   ],
   "source": [
    "students.head()"
   ]
  },
  {
   "cell_type": "markdown",
   "id": "3e5a6773-715d-470c-b54c-0ad3cce5d871",
   "metadata": {},
   "source": [
    "We're interested in comparing the two variants of the course,\n",
    "so we can generate a strip plot of the `score` variable,\n",
    "for the two groups defined by the `curriculum` variable."
   ]
  },
  {
   "cell_type": "code",
   "execution_count": 56,
   "id": "b04fc734-5008-44b5-af02-02c561fa54e1",
   "metadata": {},
   "outputs": [
    {
     "data": {
      "image/png": "[encoded data removed]",
      "text/plain": [
       "<Figure size 640x480 with 1 Axes>"
      ]
     },
     "metadata": {},
     "output_type": "display_data"
    }
   ],
   "source": [
    "sns.stripplot(data=students, x=\"score\", y=\"curriculum\", hue=\"curriculum\");"
   ]
  },
  {
   "cell_type": "code",
   "execution_count": 57,
   "id": "c23ab6ff-a758-466a-807f-2aa763328d25",
   "metadata": {},
   "outputs": [
    {
     "data": {
      "text/plain": [
       "68.14285714285714"
      ]
     },
     "execution_count": 57,
     "metadata": {},
     "output_type": "execute_result"
    }
   ],
   "source": [
    "lstudents = students[students[\"curriculum\"]==\"lecture\"]\n",
    "lstudents[\"score\"].mean()"
   ]
  },
  {
   "cell_type": "code",
   "execution_count": 58,
   "id": "153c01e5-6c06-4927-b328-0a87ca8ea964",
   "metadata": {},
   "outputs": [
    {
     "data": {
      "text/plain": [
       "76.4625"
      ]
     },
     "execution_count": 58,
     "metadata": {},
     "output_type": "execute_result"
    }
   ],
   "source": [
    "dstudents = students[students[\"curriculum\"]==\"debate\"]\n",
    "dstudents[\"score\"].mean()"
   ]
  },
  {
   "cell_type": "code",
   "execution_count": null,
   "id": "ae9b74b6-fc02-4477-a9cb-07165979e0d0",
   "metadata": {},
   "outputs": [],
   "source": []
  },
  {
   "cell_type": "markdown",
   "id": "df516b87-c900-42f7-a239-d6c7a3d819b7",
   "metadata": {},
   "source": [
    "### Kombucha volumes\n",
    "\n",
    "Khalid is responsible for the production line at a kombucha brewing company.\n",
    "He needs to make sure the volume of kombucha that goes into each bottle is exactly 1 litre (1000 ml),\n",
    "but because of day-to-day variations in the fermentation process,\n",
    "production batches may end up with under-filled or over-filled bottles.\n",
    "Sending such *irregular* batches to clients will cause problems for the company,\n",
    "so Khalid wants to find a way to detect when the brewing and bottling process is not working as expected.\n",
    "\n",
    "Khalid compiled the dataset `kombucha.csv`,\n",
    "which contains the volume measurements from samples taken from 10 different production batches,"
   ]
  },
  {
   "cell_type": "code",
   "execution_count": 59,
   "id": "1ddd1d6e-1303-4752-890a-fc060c009bdd",
   "metadata": {},
   "outputs": [
    {
     "data": {
      "text/plain": [
       "(347, 2)"
      ]
     },
     "execution_count": 59,
     "metadata": {},
     "output_type": "execute_result"
    }
   ],
   "source": [
    "kombucha = pd.read_csv(\"../datasets/kombucha.csv\")\n",
    "kombucha.shape"
   ]
  },
  {
   "cell_type": "code",
   "execution_count": 60,
   "id": "bcc7540e-e86c-4684-9eb6-0881e4d8c949",
   "metadata": {},
   "outputs": [
    {
     "data": {
      "text/plain": [
       "Index(['batch', 'volume'], dtype='object')"
      ]
     },
     "execution_count": 60,
     "metadata": {},
     "output_type": "execute_result"
    }
   ],
   "source": [
    "kombucha.columns"
   ]
  },
  {
   "cell_type": "markdown",
   "id": "11e5d39b-fe1b-4853-a4a6-64c631995c6e",
   "metadata": {},
   "source": [
    "The first three observations in the kombucha dataset are:"
   ]
  },
  {
   "cell_type": "code",
   "execution_count": 61,
   "id": "031a5465-9b35-4193-a4cc-48da41813b6a",
   "metadata": {},
   "outputs": [
    {
     "data": {
      "text/html": [
       "<div>\n",
       "<style scoped>\n",
       "    .dataframe tbody tr th:only-of-type {\n",
       "        vertical-align: middle;\n",
       "    }\n",
       "\n",
       "    .dataframe tbody tr th {\n",
       "        vertical-align: top;\n",
       "    }\n",
       "\n",
       "    .dataframe thead th {\n",
       "        text-align: right;\n",
       "    }\n",
       "</style>\n",
       "<table border=\"1\" class=\"dataframe\">\n",
       "  <thead>\n",
       "    <tr style=\"text-align: right;\">\n",
       "      <th></th>\n",
       "      <th>batch</th>\n",
       "      <th>volume</th>\n",
       "    </tr>\n",
       "  </thead>\n",
       "  <tbody>\n",
       "    <tr>\n",
       "      <th>0</th>\n",
       "      <td>1</td>\n",
       "      <td>1016.24</td>\n",
       "    </tr>\n",
       "    <tr>\n",
       "      <th>1</th>\n",
       "      <td>1</td>\n",
       "      <td>993.88</td>\n",
       "    </tr>\n",
       "    <tr>\n",
       "      <th>2</th>\n",
       "      <td>1</td>\n",
       "      <td>994.72</td>\n",
       "    </tr>\n",
       "  </tbody>\n",
       "</table>\n",
       "</div>"
      ],
      "text/plain": [
       "   batch   volume\n",
       "0      1  1016.24\n",
       "1      1   993.88\n",
       "2      1   994.72"
      ]
     },
     "execution_count": 61,
     "metadata": {},
     "output_type": "execute_result"
    }
   ],
   "source": [
    "kombucha.head(3)"
   ]
  },
  {
   "cell_type": "markdown",
   "id": "55e28ff9-0344-4f24-a6b5-3d1072ce53c2",
   "metadata": {},
   "source": [
    "Let's generate a combined strip plot of the observations from the different batches\n",
    "so that we can visually inspect the data."
   ]
  },
  {
   "cell_type": "code",
   "execution_count": 62,
   "id": "bcdd1b7e-846e-4fc7-b319-1543f6767d52",
   "metadata": {},
   "outputs": [
    {
     "data": {
      "image/png": "[encoded data removed]",
      "text/plain": [
       "<Figure size 640x480 with 1 Axes>"
      ]
     },
     "metadata": {},
     "output_type": "display_data"
    }
   ],
   "source": [
    "sns.stripplot(data=kombucha, x=\"batch\", y=\"volume\", alpha=0.3);"
   ]
  },
  {
   "cell_type": "markdown",
   "id": "ac8898e8-657f-4bdf-890a-8a9013518650",
   "metadata": {},
   "source": [
    "#### Average volume of the sample from Batch 01"
   ]
  },
  {
   "cell_type": "code",
   "execution_count": 63,
   "id": "826f42a6-9796-4e4c-9d74-a426e7a8c9db",
   "metadata": {},
   "outputs": [
    {
     "data": {
      "text/plain": [
       "999.10375"
      ]
     },
     "execution_count": 63,
     "metadata": {},
     "output_type": "execute_result"
    }
   ],
   "source": [
    "batch01 = kombucha[kombucha[\"batch\"]==1]\n",
    "ksample01 = batch01[\"volume\"]\n",
    "ksample01.mean()"
   ]
  },
  {
   "cell_type": "code",
   "execution_count": null,
   "id": "f6662db4-1244-4c9c-9a8f-6fc5c5ee65a4",
   "metadata": {},
   "outputs": [],
   "source": []
  },
  {
   "cell_type": "markdown",
   "id": "ef718e0e-3236-4ae2-becb-acc0471ec201",
   "metadata": {},
   "source": [
    "### Doctors' sleep study\n",
    "\n",
    "Dan is a data analyst working at the Ministry of Health.\n",
    "His current assignment is to look for ways to improve the health of family doctors.\n",
    "He collected the doctors dataset (`doctors.csv`),\n",
    "which contains data about the demographics, life habits, and health metrics\n",
    "of 224 family doctors that Dan randomly selected from the populations of family doctors in the country."
   ]
  },
  {
   "cell_type": "code",
   "execution_count": 64,
   "id": "33707e0f-27dc-4ee6-b9d6-6b285841f11c",
   "metadata": {},
   "outputs": [
    {
     "data": {
      "text/plain": [
       "(156, 12)"
      ]
     },
     "execution_count": 64,
     "metadata": {},
     "output_type": "execute_result"
    }
   ],
   "source": [
    "doctors = pd.read_csv(\"../datasets/doctors.csv\")\n",
    "doctors.shape"
   ]
  },
  {
   "cell_type": "markdown",
   "id": "a9edf9a6-717f-4a29-9753-6fa211f91d12",
   "metadata": {},
   "source": [
    "The first three observations in the doctors dataset are:"
   ]
  },
  {
   "cell_type": "code",
   "execution_count": 65,
   "id": "535253f3-3ac2-4177-a3d4-7399b4d305f8",
   "metadata": {},
   "outputs": [
    {
     "data": {
      "text/html": [
       "<div>\n",
       "<style scoped>\n",
       "    .dataframe tbody tr th:only-of-type {\n",
       "        vertical-align: middle;\n",
       "    }\n",
       "\n",
       "    .dataframe tbody tr th {\n",
       "        vertical-align: top;\n",
       "    }\n",
       "\n",
       "    .dataframe thead th {\n",
       "        text-align: right;\n",
       "    }\n",
       "</style>\n",
       "<table border=\"1\" class=\"dataframe\">\n",
       "  <thead>\n",
       "    <tr style=\"text-align: right;\">\n",
       "      <th></th>\n",
       "      <th>permit</th>\n",
       "      <th>name</th>\n",
       "      <th>loc</th>\n",
       "      <th>work</th>\n",
       "      <th>age</th>\n",
       "      <th>exp</th>\n",
       "      <th>hours</th>\n",
       "      <th>caf</th>\n",
       "      <th>alc</th>\n",
       "      <th>weed</th>\n",
       "      <th>exrc</th>\n",
       "      <th>score</th>\n",
       "    </tr>\n",
       "  </thead>\n",
       "  <tbody>\n",
       "    <tr>\n",
       "      <th>0</th>\n",
       "      <td>93273</td>\n",
       "      <td>Robert Snyder</td>\n",
       "      <td>rur</td>\n",
       "      <td>hos</td>\n",
       "      <td>26</td>\n",
       "      <td>2</td>\n",
       "      <td>21</td>\n",
       "      <td>2</td>\n",
       "      <td>0</td>\n",
       "      <td>5.0</td>\n",
       "      <td>0.0</td>\n",
       "      <td>63</td>\n",
       "    </tr>\n",
       "    <tr>\n",
       "      <th>1</th>\n",
       "      <td>90852</td>\n",
       "      <td>David Barnett</td>\n",
       "      <td>urb</td>\n",
       "      <td>cli</td>\n",
       "      <td>43</td>\n",
       "      <td>11</td>\n",
       "      <td>74</td>\n",
       "      <td>26</td>\n",
       "      <td>20</td>\n",
       "      <td>0.0</td>\n",
       "      <td>4.5</td>\n",
       "      <td>16</td>\n",
       "    </tr>\n",
       "    <tr>\n",
       "      <th>2</th>\n",
       "      <td>92744</td>\n",
       "      <td>Wesley Sanchez</td>\n",
       "      <td>urb</td>\n",
       "      <td>hos</td>\n",
       "      <td>30</td>\n",
       "      <td>1</td>\n",
       "      <td>63</td>\n",
       "      <td>25</td>\n",
       "      <td>1</td>\n",
       "      <td>0.0</td>\n",
       "      <td>7.0</td>\n",
       "      <td>58</td>\n",
       "    </tr>\n",
       "  </tbody>\n",
       "</table>\n",
       "</div>"
      ],
      "text/plain": [
       "   permit            name  loc work  age  exp  hours  caf  alc  weed  exrc  \\\n",
       "0   93273   Robert Snyder  rur  hos   26    2     21    2    0   5.0   0.0   \n",
       "1   90852   David Barnett  urb  cli   43   11     74   26   20   0.0   4.5   \n",
       "2   92744  Wesley Sanchez  urb  hos   30    1     63   25    1   0.0   7.0   \n",
       "\n",
       "   score  \n",
       "0     63  \n",
       "1     16  \n",
       "2     58  "
      ]
     },
     "execution_count": 65,
     "metadata": {},
     "output_type": "execute_result"
    }
   ],
   "source": [
    "doctors.head(3)"
   ]
  },
  {
   "cell_type": "markdown",
   "id": "2a746a70-b13b-42d3-84d5-a48173b0976e",
   "metadata": {},
   "source": [
    "Dan is interested in comparing the sleep scores of doctors in rural and urban locations,\n",
    "so he starts by generating a strip plot of the `score` variable for the two values of the `location` variable."
   ]
  },
  {
   "cell_type": "code",
   "execution_count": 66,
   "id": "026fe674-9309-4070-8272-706a291ced4b",
   "metadata": {},
   "outputs": [
    {
     "data": {
      "image/png": "[encoded data removed]",
      "text/plain": [
       "<Figure size 640x480 with 1 Axes>"
      ]
     },
     "metadata": {},
     "output_type": "display_data"
    }
   ],
   "source": [
    "sns.stripplot(data=doctors, x=\"score\", y=\"loc\", hue=\"loc\");"
   ]
  },
  {
   "cell_type": "markdown",
   "id": "60fe5a34-5142-448c-80d8-de73535588c3",
   "metadata": {},
   "source": [
    "#### Average sleep scores for doctors in different locations"
   ]
  },
  {
   "cell_type": "code",
   "execution_count": 67,
   "id": "cc533e20-5dc3-4e47-bc21-a014345fb0e2",
   "metadata": {},
   "outputs": [
    {
     "data": {
      "text/plain": [
       "45.96363636363636"
      ]
     },
     "execution_count": 67,
     "metadata": {},
     "output_type": "execute_result"
    }
   ],
   "source": [
    "udoctors = doctors[doctors[\"loc\"]==\"urb\"]\n",
    "udoctors[\"score\"].mean()"
   ]
  },
  {
   "cell_type": "code",
   "execution_count": 68,
   "id": "cd8cc610-939b-4f87-a8f4-261fb4bc73c9",
   "metadata": {},
   "outputs": [
    {
     "data": {
      "text/plain": [
       "52.95652173913044"
      ]
     },
     "execution_count": 68,
     "metadata": {},
     "output_type": "execute_result"
    }
   ],
   "source": [
    "rdoctors = doctors[doctors[\"loc\"]==\"rur\"]\n",
    "rdoctors[\"score\"].mean()"
   ]
  },
  {
   "cell_type": "markdown",
   "id": "77332a23-158f-439f-823a-cc2a50217988",
   "metadata": {},
   "source": [
    "We see doctors in `rur`al locations get better sleep, on average, than doctors in `urb`an locations."
   ]
  },
  {
   "cell_type": "code",
   "execution_count": null,
   "id": "ff1f681d-2903-415f-8922-90f53bf5c9da",
   "metadata": {},
   "outputs": [],
   "source": []
  },
  {
   "cell_type": "markdown",
   "id": "e43bd2b8-0957-4390-846b-0913fc56e802",
   "metadata": {},
   "source": [
    "### Website visitors\n",
    "\n",
    "Vanessa runs an e-commerce website and is about to launch a new design for the homepage.\n",
    "She wants to know if the new design is better or worse than the current design.\n",
    "Vanessa has access to the server logs from her website and is able to collect data about\n",
    "which visitors clicked the BUY NOW button and bought something.\n",
    "The term *conversion* is used when a visitor buys something,\n",
    "meaning they are \"converted\" from visitor to client.\n",
    "The *conversion rate* is the proportion of website visitors that become clients.\n",
    "\n",
    "Vanessa performed an experiment to check if the new website design is better than the current design\n",
    "when it comes to getting visitors to click the BUY NOW button.\n",
    "For the 2000 new visitors that the site received during the previous month,\n",
    "Vanessa randomly sent half of them to the new design (A for alternative),\n",
    "and the other half to the old design (B for baseline).\n",
    "She also recorded if a visitor bought a product during their visit to the website.\n",
    "\n",
    "The data consists of 2000 observations from visitors to the website from unique IP addresses.\n",
    "For each visitor,\n",
    "the column `version` contains which design they were presented with,\n",
    "and the column `bought` records whether the visitor purchased something or not.\n",
    "You use the usual Pandas commands to load the dataset `visitors.csv` to inspect it."
   ]
  },
  {
   "cell_type": "code",
   "execution_count": 69,
   "id": "5a297df3-0e5d-4c41-878d-2f5c0d58e676",
   "metadata": {},
   "outputs": [
    {
     "data": {
      "text/plain": [
       "(2000, 3)"
      ]
     },
     "execution_count": 69,
     "metadata": {},
     "output_type": "execute_result"
    }
   ],
   "source": [
    "visitors = pd.read_csv(\"../datasets/visitors.csv\")\n",
    "visitors.shape"
   ]
  },
  {
   "cell_type": "markdown",
   "id": "6e43f58c-4d38-49c5-9917-4deaea393d76",
   "metadata": {},
   "source": [
    "The first five observations in the visitors dataset are:"
   ]
  },
  {
   "cell_type": "code",
   "execution_count": 70,
   "id": "38897d8c-5284-45c0-bd5e-889a3651412f",
   "metadata": {},
   "outputs": [
    {
     "data": {
      "text/html": [
       "<div>\n",
       "<style scoped>\n",
       "    .dataframe tbody tr th:only-of-type {\n",
       "        vertical-align: middle;\n",
       "    }\n",
       "\n",
       "    .dataframe tbody tr th {\n",
       "        vertical-align: top;\n",
       "    }\n",
       "\n",
       "    .dataframe thead th {\n",
       "        text-align: right;\n",
       "    }\n",
       "</style>\n",
       "<table border=\"1\" class=\"dataframe\">\n",
       "  <thead>\n",
       "    <tr style=\"text-align: right;\">\n",
       "      <th></th>\n",
       "      <th>IP address</th>\n",
       "      <th>version</th>\n",
       "      <th>bought</th>\n",
       "    </tr>\n",
       "  </thead>\n",
       "  <tbody>\n",
       "    <tr>\n",
       "      <th>0</th>\n",
       "      <td>135.185.92.4</td>\n",
       "      <td>A</td>\n",
       "      <td>0</td>\n",
       "    </tr>\n",
       "    <tr>\n",
       "      <th>1</th>\n",
       "      <td>14.75.235.1</td>\n",
       "      <td>A</td>\n",
       "      <td>1</td>\n",
       "    </tr>\n",
       "    <tr>\n",
       "      <th>2</th>\n",
       "      <td>50.132.244.139</td>\n",
       "      <td>B</td>\n",
       "      <td>0</td>\n",
       "    </tr>\n",
       "    <tr>\n",
       "      <th>3</th>\n",
       "      <td>144.181.130.234</td>\n",
       "      <td>A</td>\n",
       "      <td>0</td>\n",
       "    </tr>\n",
       "    <tr>\n",
       "      <th>4</th>\n",
       "      <td>90.92.5.100</td>\n",
       "      <td>B</td>\n",
       "      <td>0</td>\n",
       "    </tr>\n",
       "  </tbody>\n",
       "</table>\n",
       "</div>"
      ],
      "text/plain": [
       "        IP address version  bought\n",
       "0     135.185.92.4       A       0\n",
       "1      14.75.235.1       A       1\n",
       "2   50.132.244.139       B       0\n",
       "3  144.181.130.234       A       0\n",
       "4      90.92.5.100       B       0"
      ]
     },
     "execution_count": 70,
     "metadata": {},
     "output_type": "execute_result"
    }
   ],
   "source": [
    "visitors.head(5)"
   ]
  },
  {
   "cell_type": "markdown",
   "id": "3905e2f0-6403-407a-8d80-461972ab8a22",
   "metadata": {},
   "source": [
    "The average (mean) conversion rate for version `A` of the website is:"
   ]
  },
  {
   "cell_type": "code",
   "execution_count": 71,
   "id": "2b58ae19-f611-4fa7-9dbf-ed4294a719d4",
   "metadata": {},
   "outputs": [
    {
     "data": {
      "text/plain": [
       "0.06482465462274177"
      ]
     },
     "execution_count": 71,
     "metadata": {},
     "output_type": "execute_result"
    }
   ],
   "source": [
    "visitors[visitors[\"version\"]==\"A\"][\"bought\"].mean()"
   ]
  },
  {
   "cell_type": "markdown",
   "id": "f20f599b-ac45-4efd-a738-78fe30cd2070",
   "metadata": {},
   "source": [
    "The average (mean) conversion rate for version `B` of the website is:"
   ]
  },
  {
   "cell_type": "code",
   "execution_count": 72,
   "id": "cc90aff5-a6e9-49ca-b0cc-3a1232be27cc",
   "metadata": {},
   "outputs": [
    {
     "data": {
      "text/plain": [
       "0.03777148253068933"
      ]
     },
     "execution_count": 72,
     "metadata": {},
     "output_type": "execute_result"
    }
   ],
   "source": [
    "visitors[visitors[\"version\"]==\"B\"][\"bought\"].mean()"
   ]
  },
  {
   "cell_type": "markdown",
   "id": "31e31b36-9309-4c1b-928c-1d071bc67272",
   "metadata": {},
   "source": [
    "We can represent the two conversion rates using a bar plot."
   ]
  },
  {
   "cell_type": "code",
   "execution_count": 73,
   "id": "cd1fdd35-0626-4689-89b7-31bd814d5289",
   "metadata": {},
   "outputs": [
    {
     "data": {
      "image/png": "[encoded data removed]",
      "text/plain": [
       "<Figure size 640x480 with 1 Axes>"
      ]
     },
     "metadata": {},
     "output_type": "display_data"
    }
   ],
   "source": [
    "sns.barplot(data=visitors, x=\"bought\", y=\"version\");"
   ]
  },
  {
   "cell_type": "markdown",
   "id": "1416230c-5abd-4f9b-9c41-1c0ede9ad03c",
   "metadata": {},
   "source": [
    "The black lines represent the estimates of the uncertainty of the true conversion rates\n",
    "that Seaborn automatically computed for us.\n",
    "Specifically,\n",
    "the black lines represent $95\\%$ *confidence intervals* for the true proportions.\n",
    "We'll learn about confidence intervals later in the book (Section 3.2)."
   ]
  },
  {
   "cell_type": "code",
   "execution_count": null,
   "id": "9779ae37-4981-4fef-82c9-2cfbe0ecaa47",
   "metadata": {},
   "outputs": [],
   "source": []
  },
  {
   "cell_type": "markdown",
   "id": "986f1565-ddb1-4f43-9864-d5996c3a8382",
   "metadata": {},
   "source": [
    "## Discussion"
   ]
  },
  {
   "cell_type": "markdown",
   "id": "fe24a4a3-acba-4265-b2e0-551f4fa4140e",
   "metadata": {},
   "source": [
    "### Data extraction\n",
    "\n",
    "See [Appendix D: Pandas tutorial](../tutorials/pandas_tutorial.ipynb)."
   ]
  },
  {
   "cell_type": "markdown",
   "id": "b2d683e9-85b8-4f16-99b9-12baef462b92",
   "metadata": {},
   "source": [
    "### Data transformations\n",
    "\n",
    "See [Appendix D: Pandas tutorial](../tutorials/pandas_tutorial.ipynb)."
   ]
  },
  {
   "cell_type": "markdown",
   "id": "8225d7d6-1bef-4eb9-93f6-817a6859aad4",
   "metadata": {},
   "source": [
    "### Tidy data"
   ]
  },
  {
   "cell_type": "code",
   "execution_count": 74,
   "id": "9b73ace0-3fd3-468f-aaa2-7d597a7105b6",
   "metadata": {},
   "outputs": [
    {
     "data": {
      "text/plain": [
       "(9, 2)"
      ]
     },
     "execution_count": 74,
     "metadata": {},
     "output_type": "execute_result"
    }
   ],
   "source": [
    "epriceswide = pd.read_csv(\"../datasets/epriceswide.csv\")\n",
    "epriceswide.shape"
   ]
  },
  {
   "cell_type": "markdown",
   "id": "dc10e1bd-ada6-4652-8db8-e0d27ea8d68b",
   "metadata": {},
   "source": [
    "The data frame `epriceswide` is not tidy,\n",
    "because each row contains multiple observations."
   ]
  },
  {
   "cell_type": "code",
   "execution_count": 75,
   "id": "4ab60af9-c5af-4caa-8d35-aa3306af5a9e",
   "metadata": {},
   "outputs": [
    {
     "data": {
      "text/html": [
       "<div>\n",
       "<style scoped>\n",
       "    .dataframe tbody tr th:only-of-type {\n",
       "        vertical-align: middle;\n",
       "    }\n",
       "\n",
       "    .dataframe tbody tr th {\n",
       "        vertical-align: top;\n",
       "    }\n",
       "\n",
       "    .dataframe thead th {\n",
       "        text-align: right;\n",
       "    }\n",
       "</style>\n",
       "<table border=\"1\" class=\"dataframe\">\n",
       "  <thead>\n",
       "    <tr style=\"text-align: right;\">\n",
       "      <th></th>\n",
       "      <th>East</th>\n",
       "      <th>West</th>\n",
       "    </tr>\n",
       "  </thead>\n",
       "  <tbody>\n",
       "    <tr>\n",
       "      <th>0</th>\n",
       "      <td>7.7</td>\n",
       "      <td>11.8</td>\n",
       "    </tr>\n",
       "    <tr>\n",
       "      <th>1</th>\n",
       "      <td>5.9</td>\n",
       "      <td>10.0</td>\n",
       "    </tr>\n",
       "    <tr>\n",
       "      <th>2</th>\n",
       "      <td>7.0</td>\n",
       "      <td>11.0</td>\n",
       "    </tr>\n",
       "    <tr>\n",
       "      <th>3</th>\n",
       "      <td>4.8</td>\n",
       "      <td>8.6</td>\n",
       "    </tr>\n",
       "    <tr>\n",
       "      <th>4</th>\n",
       "      <td>6.3</td>\n",
       "      <td>8.3</td>\n",
       "    </tr>\n",
       "    <tr>\n",
       "      <th>5</th>\n",
       "      <td>6.3</td>\n",
       "      <td>9.4</td>\n",
       "    </tr>\n",
       "    <tr>\n",
       "      <th>6</th>\n",
       "      <td>5.5</td>\n",
       "      <td>8.0</td>\n",
       "    </tr>\n",
       "    <tr>\n",
       "      <th>7</th>\n",
       "      <td>5.4</td>\n",
       "      <td>6.8</td>\n",
       "    </tr>\n",
       "    <tr>\n",
       "      <th>8</th>\n",
       "      <td>6.5</td>\n",
       "      <td>8.5</td>\n",
       "    </tr>\n",
       "  </tbody>\n",
       "</table>\n",
       "</div>"
      ],
      "text/plain": [
       "   East  West\n",
       "0   7.7  11.8\n",
       "1   5.9  10.0\n",
       "2   7.0  11.0\n",
       "3   4.8   8.6\n",
       "4   6.3   8.3\n",
       "5   6.3   9.4\n",
       "6   5.5   8.0\n",
       "7   5.4   6.8\n",
       "8   6.5   8.5"
      ]
     },
     "execution_count": 75,
     "metadata": {},
     "output_type": "execute_result"
    }
   ],
   "source": [
    "epriceswide"
   ]
  },
  {
   "cell_type": "markdown",
   "id": "3ca88ce6-1af7-4566-b97d-2fc8b17b6876",
   "metadata": {},
   "source": [
    "We can use the Pandas method `.melt` to convert the `epriceswide` data frame\n",
    "from \"wide\" format into \"long\" format,\n",
    "with one observation per row.\n",
    "\n",
    "The method `.melt` takes the argument `var_name`\n",
    "to specify the name of the variable that is encoded in the column positions,\n",
    "and the argument `value_name` to specify the name of the variable stored in the individual cells."
   ]
  },
  {
   "cell_type": "code",
   "execution_count": 76,
   "id": "e619045c-4217-4e03-97f8-0b923931b9a5",
   "metadata": {},
   "outputs": [
    {
     "data": {
      "text/html": [
       "<div>\n",
       "<style scoped>\n",
       "    .dataframe tbody tr th:only-of-type {\n",
       "        vertical-align: middle;\n",
       "    }\n",
       "\n",
       "    .dataframe tbody tr th {\n",
       "        vertical-align: top;\n",
       "    }\n",
       "\n",
       "    .dataframe thead th {\n",
       "        text-align: right;\n",
       "    }\n",
       "</style>\n",
       "<table border=\"1\" class=\"dataframe\">\n",
       "  <thead>\n",
       "    <tr style=\"text-align: right;\">\n",
       "      <th></th>\n",
       "      <th>loc</th>\n",
       "      <th>price</th>\n",
       "    </tr>\n",
       "  </thead>\n",
       "  <tbody>\n",
       "    <tr>\n",
       "      <th>0</th>\n",
       "      <td>East</td>\n",
       "      <td>7.7</td>\n",
       "    </tr>\n",
       "    <tr>\n",
       "      <th>1</th>\n",
       "      <td>East</td>\n",
       "      <td>5.9</td>\n",
       "    </tr>\n",
       "    <tr>\n",
       "      <th>2</th>\n",
       "      <td>East</td>\n",
       "      <td>7.0</td>\n",
       "    </tr>\n",
       "    <tr>\n",
       "      <th>3</th>\n",
       "      <td>East</td>\n",
       "      <td>4.8</td>\n",
       "    </tr>\n",
       "    <tr>\n",
       "      <th>4</th>\n",
       "      <td>East</td>\n",
       "      <td>6.3</td>\n",
       "    </tr>\n",
       "    <tr>\n",
       "      <th>5</th>\n",
       "      <td>East</td>\n",
       "      <td>6.3</td>\n",
       "    </tr>\n",
       "    <tr>\n",
       "      <th>6</th>\n",
       "      <td>East</td>\n",
       "      <td>5.5</td>\n",
       "    </tr>\n",
       "    <tr>\n",
       "      <th>7</th>\n",
       "      <td>East</td>\n",
       "      <td>5.4</td>\n",
       "    </tr>\n",
       "    <tr>\n",
       "      <th>8</th>\n",
       "      <td>East</td>\n",
       "      <td>6.5</td>\n",
       "    </tr>\n",
       "    <tr>\n",
       "      <th>9</th>\n",
       "      <td>West</td>\n",
       "      <td>11.8</td>\n",
       "    </tr>\n",
       "    <tr>\n",
       "      <th>10</th>\n",
       "      <td>West</td>\n",
       "      <td>10.0</td>\n",
       "    </tr>\n",
       "    <tr>\n",
       "      <th>11</th>\n",
       "      <td>West</td>\n",
       "      <td>11.0</td>\n",
       "    </tr>\n",
       "    <tr>\n",
       "      <th>12</th>\n",
       "      <td>West</td>\n",
       "      <td>8.6</td>\n",
       "    </tr>\n",
       "    <tr>\n",
       "      <th>13</th>\n",
       "      <td>West</td>\n",
       "      <td>8.3</td>\n",
       "    </tr>\n",
       "    <tr>\n",
       "      <th>14</th>\n",
       "      <td>West</td>\n",
       "      <td>9.4</td>\n",
       "    </tr>\n",
       "    <tr>\n",
       "      <th>15</th>\n",
       "      <td>West</td>\n",
       "      <td>8.0</td>\n",
       "    </tr>\n",
       "    <tr>\n",
       "      <th>16</th>\n",
       "      <td>West</td>\n",
       "      <td>6.8</td>\n",
       "    </tr>\n",
       "    <tr>\n",
       "      <th>17</th>\n",
       "      <td>West</td>\n",
       "      <td>8.5</td>\n",
       "    </tr>\n",
       "  </tbody>\n",
       "</table>\n",
       "</div>"
      ],
      "text/plain": [
       "     loc  price\n",
       "0   East    7.7\n",
       "1   East    5.9\n",
       "2   East    7.0\n",
       "3   East    4.8\n",
       "4   East    6.3\n",
       "5   East    6.3\n",
       "6   East    5.5\n",
       "7   East    5.4\n",
       "8   East    6.5\n",
       "9   West   11.8\n",
       "10  West   10.0\n",
       "11  West   11.0\n",
       "12  West    8.6\n",
       "13  West    8.3\n",
       "14  West    9.4\n",
       "15  West    8.0\n",
       "16  West    6.8\n",
       "17  West    8.5"
      ]
     },
     "execution_count": 76,
     "metadata": {},
     "output_type": "execute_result"
    }
   ],
   "source": [
    "epriceswide.melt(var_name=\"loc\", value_name=\"price\")"
   ]
  },
  {
   "cell_type": "markdown",
   "id": "9243dad7-fccf-4d75-adbd-8d4bc0a5c7be",
   "metadata": {},
   "source": [
    "The `.melt` operation transformed the implicit \"which column is the data in\" information\n",
    "into an explicit `loc` variable stored in a separate column.\n",
    "Each row in the transformed data frame contains only a single observation,\n",
    "so it is in tidy data format.\n"
   ]
  },
  {
   "cell_type": "markdown",
   "id": "a2767eab-237f-4013-bedb-a40c9e9a55b2",
   "metadata": {},
   "source": [
    "The melted-`epriceswide` is the same as `eprices` dataset that we saw earlier.\n",
    "We can confirm this using the `.equals` method."
   ]
  },
  {
   "cell_type": "code",
   "execution_count": 77,
   "id": "db381b87-1b56-4641-8171-29e8aa16268c",
   "metadata": {},
   "outputs": [
    {
     "data": {
      "text/plain": [
       "True"
      ]
     },
     "execution_count": 77,
     "metadata": {},
     "output_type": "execute_result"
    }
   ],
   "source": [
    "epriceslong = epriceswide.melt(var_name=\"loc\", value_name=\"price\")\n",
    "eprices.equals(epriceslong)"
   ]
  },
  {
   "cell_type": "code",
   "execution_count": null,
   "id": "58bf8c33-0328-4211-9227-06bacfc3d006",
   "metadata": {},
   "outputs": [],
   "source": []
  },
  {
   "cell_type": "markdown",
   "id": "cdf47739-8804-4544-8a81-98000c5ef3e6",
   "metadata": {},
   "source": [
    "### Data cleaning\n",
    "\n",
    "See [Appendix D: Pandas tutorial](../tutorials/pandas_tutorial.ipynb)."
   ]
  },
  {
   "cell_type": "code",
   "execution_count": null,
   "id": "ea401a4d-95ff-4cfb-9bf9-f405caca6a27",
   "metadata": {},
   "outputs": [],
   "source": []
  },
  {
   "cell_type": "code",
   "execution_count": null,
   "id": "cc536942-55f9-40e1-9635-5e578f45e1fc",
   "metadata": {},
   "outputs": [],
   "source": []
  },
  {
   "cell_type": "markdown",
   "id": "1acf2fac-32bb-4e9f-9443-b397d9457a1d",
   "metadata": {},
   "source": [
    "## Links\n",
    "\n",
    "\n",
    "TODO: import from Appendix D"
   ]
  },
  {
   "cell_type": "code",
   "execution_count": null,
   "id": "2d38f2ab-e812-4cbc-b99a-58904a542652",
   "metadata": {},
   "outputs": [],
   "source": []
  },
  {
   "cell_type": "code",
   "execution_count": null,
   "id": "c382938d-d3d5-4196-a0ad-d14219425cbc",
   "metadata": {},
   "outputs": [],
   "source": []
  }
 ],
 "metadata": {
  "kernelspec": {
   "display_name": "Python 3 (ipykernel)",
   "language": "python",
   "name": "python3"
  },
  "language_info": {
   "codemirror_mode": {
    "name": "ipython",
    "version": 3
   },
   "file_extension": ".py",
   "mimetype": "text/x-python",
   "name": "python",
   "nbconvert_exporter": "python",
   "pygments_lexer": "ipython3",
   "version": "3.9.4"
  },
  "toc-autonumbering": false,
  "toc-showcode": false,
  "toc-showmarkdowntxt": false,
  "toc-showtags": false
 },
 "nbformat": 4,
 "nbformat_minor": 5
}
