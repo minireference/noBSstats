{
 "cells": [
  {
   "cell_type": "markdown",
   "id": "b899c673-3e4f-4148-8994-8a44ecec9a20",
   "metadata": {},
   "source": [
    "# Bootstrap estimation of CI for the median\n",
    "\n",
    "via https://online.stat.psu.edu/stat500/lesson/11/11.2/11.2.1\n"
   ]
  },
  {
   "cell_type": "code",
   "execution_count": null,
   "id": "aa8398d5-d364-4bf2-a38c-1e2a9d01f52e",
   "metadata": {},
   "outputs": [],
   "source": [
    "sampling.distribution <- function(n = 100, B = 1000, mean = 5, sd = 1, confidence = 0.95) {\n",
    "  median <- rep(0, B)\n",
    "  for (i in 1:B) {\n",
    "    median[i] <- median(rnorm(n, mean = mean, sd = sd))\n",
    "  }\n",
    "  med.obs <- median(median)\n",
    "  c.l <- round((1 - confidence) / 2 * B, 0)\n",
    "  c.u <- round(B - (1 - confidence) / 2 * B, 0)\n",
    "  l <- sort(median)[c.l]\n",
    "  u <- sort(median)[c.u]\n",
    "  cat(c.l / 1000 * 100, \"-percentile:      \", l, \"\\n\")\n",
    "  cat(\"Median: \", med.obs, \"\\n\")\n",
    "  cat(c.u / 1000 * 100, \"-percentile:      \", u, \"\\n\")\n",
    "  return(median)\n",
    "}\n",
    " \n",
    "bootstrap.median <- function(data, B = 1000, confidence = 0.95) {\n",
    "  n <- length(data)\n",
    "  median <- rep(0, B)\n",
    "  for (i in 1:B) {\n",
    "    median[i] <- median(sample(data, size = n, replace = T))\n",
    "  }\n",
    "  med.obs <- median(median)\n",
    "  c.l <- round((1 - confidence) / 2 * B, 0)\n",
    "  c.u <- round(B - (1 - confidence) / 2 * B, 0)\n",
    "  l <- sort(median)[c.l]\n",
    "  u <- sort(median)[c.u]\n",
    "  cat(c.l / 1000 * 100, \"-percentile:      \", l, \"\\n\")\n",
    "  cat(\"Median: \", med.obs, \"\\n\")\n",
    "  cat(c.u / 1000 * 100, \"-percentile:      \", u, \"\\n\")\n",
    "  return(median)\n",
    "}"
   ]
  }
 ],
 "metadata": {
  "kernelspec": {
   "display_name": "Python 3 (ipykernel)",
   "language": "python",
   "name": "python3"
  },
  "language_info": {
   "codemirror_mode": {
    "name": "ipython",
    "version": 3
   },
   "file_extension": ".py",
   "mimetype": "text/x-python",
   "name": "python",
   "nbconvert_exporter": "python",
   "pygments_lexer": "ipython3",
   "version": "3.9.4"
  }
 },
 "nbformat": 4,
 "nbformat_minor": 5
}
