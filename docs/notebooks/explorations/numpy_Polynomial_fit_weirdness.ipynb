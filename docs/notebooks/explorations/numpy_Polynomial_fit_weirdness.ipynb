{
 "cells": [
  {
   "cell_type": "markdown",
   "id": "baf7f151-bfaf-4c7f-9c1d-a9123146713e",
   "metadata": {},
   "source": [
    "# Explore numpy Polynomial fits"
   ]
  },
  {
   "cell_type": "code",
   "execution_count": 1,
   "id": "4c449b87-e7e9-4681-9b78-8538032a1c78",
   "metadata": {},
   "outputs": [],
   "source": [
    "import numpy as np"
   ]
  },
  {
   "cell_type": "markdown",
   "id": "d681ff72-8fc2-4439-8605-b9e145a747b5",
   "metadata": {},
   "source": [
    "\n",
    "Hey y'all. I'm getting some weird behavior from numpy's Polynomial class.\n",
    "When I fit a 1st degree polynomial to x = [0,1] and y = [2,4] numpy gives me this: y = 2.99999 + 1x.\n",
    "which like... shouldn't it be y = 2 + 2x? \n",
    "does anybody here have experience w numpy polynomials?\n",
    "or any ideas what's going on? some kind of crazy rounding issue?\n"
   ]
  },
  {
   "cell_type": "markdown",
   "id": "7aa7f0ad-ad22-41f7-b66b-ac736c074e18",
   "metadata": {},
   "source": [
    "### Default `window`"
   ]
  },
  {
   "cell_type": "code",
   "execution_count": 2,
   "id": "3c760fe2-c1ee-48e8-9c5b-ee89ade0e53f",
   "metadata": {},
   "outputs": [
    {
     "name": "stdout",
     "output_type": "stream",
     "text": [
      "2.9999999999999996 + 1.0000000000000002·x¹\n"
     ]
    }
   ],
   "source": [
    "x = np.array([0,1])\n",
    "y = np.array([2,4])\n",
    "deg = 1\n",
    "pfit = np.polynomial.Polynomial.fit(x, y, deg)\n",
    "print(pfit)"
   ]
  },
  {
   "cell_type": "code",
   "execution_count": 3,
   "id": "616812b6-63ca-4b31-bb9a-e526bc11fdac",
   "metadata": {},
   "outputs": [
    {
     "data": {
      "text/plain": [
       "{'coef': array([3., 1.]),\n",
       " 'domain': array([0., 1.]),\n",
       " 'window': array([-1.,  1.])}"
      ]
     },
     "execution_count": 3,
     "metadata": {},
     "output_type": "execute_result"
    }
   ],
   "source": [
    "pfit.__dict__"
   ]
  },
  {
   "cell_type": "code",
   "execution_count": null,
   "id": "e203b81b-e0bf-4f84-a287-96de0d343e69",
   "metadata": {},
   "outputs": [],
   "source": []
  },
  {
   "cell_type": "code",
   "execution_count": null,
   "id": "e8524dcd-34cc-441f-81fd-e2aef297ea62",
   "metadata": {},
   "outputs": [],
   "source": []
  },
  {
   "cell_type": "markdown",
   "id": "742f33e2-3892-4614-adfa-0c2b5102d4e7",
   "metadata": {},
   "source": [
    "### Specify `window`"
   ]
  },
  {
   "cell_type": "code",
   "execution_count": 4,
   "id": "f75e5d56-d55e-4ffb-89e6-424d4a041dac",
   "metadata": {},
   "outputs": [
    {
     "name": "stdout",
     "output_type": "stream",
     "text": [
      "1.9999999999999998 + 1.9999999999999998·x¹\n"
     ]
    }
   ],
   "source": [
    "x = np.array([0,1])\n",
    "y = np.array([2,4])\n",
    "deg = 1\n",
    "pfit2 = np.polynomial.Polynomial.fit(x, y, deg, window=[0,1])\n",
    "print(pfit2)"
   ]
  },
  {
   "cell_type": "code",
   "execution_count": 5,
   "id": "c36953eb-1d07-46cd-962b-59230e0b17e7",
   "metadata": {},
   "outputs": [
    {
     "data": {
      "text/plain": [
       "{'coef': array([2., 2.]), 'domain': array([0., 1.]), 'window': array([0., 1.])}"
      ]
     },
     "execution_count": 5,
     "metadata": {},
     "output_type": "execute_result"
    }
   ],
   "source": [
    "pfit2.__dict__"
   ]
  },
  {
   "cell_type": "code",
   "execution_count": null,
   "id": "6299660a-d15f-4281-b430-d9e6bc6eac6a",
   "metadata": {},
   "outputs": [],
   "source": []
  },
  {
   "cell_type": "markdown",
   "id": "5924d6bc-1edc-49b6-9a51-02f54492933a",
   "metadata": {},
   "source": [
    "### Alt. solution using least squares (linear algebra)"
   ]
  },
  {
   "cell_type": "code",
   "execution_count": 6,
   "id": "3542acbb-272d-47fd-b577-eabe9b18145e",
   "metadata": {},
   "outputs": [
    {
     "data": {
      "text/plain": [
       "array([2., 2.])"
      ]
     },
     "execution_count": 6,
     "metadata": {},
     "output_type": "execute_result"
    }
   ],
   "source": [
    "# Alt. solution using least squares (linear algebra)\n",
    "x = np.array([0,1])\n",
    "y = np.array([2,4])\n",
    "X = np.vstack([x, np.ones(len(x))]).T\n",
    "betas = np.linalg.lstsq(X, y, rcond=None)[0]\n",
    "betas"
   ]
  },
  {
   "cell_type": "code",
   "execution_count": 7,
   "id": "58e4417a-4f14-4cff-adbf-8429c6b1c0d9",
   "metadata": {},
   "outputs": [
    {
     "data": {
      "text/plain": [
       "array([[0., 1.],\n",
       "       [1., 1.]])"
      ]
     },
     "execution_count": 7,
     "metadata": {},
     "output_type": "execute_result"
    }
   ],
   "source": [
    "X"
   ]
  },
  {
   "cell_type": "code",
   "execution_count": null,
   "id": "0ad0e6d7-e34d-48f9-be53-307dcd01d671",
   "metadata": {},
   "outputs": [],
   "source": []
  },
  {
   "cell_type": "code",
   "execution_count": 8,
   "id": "c7c7688d-299f-4909-abaa-5880e68bbc4b",
   "metadata": {},
   "outputs": [
    {
     "data": {
      "text/plain": [
       "array([[0., 1.],\n",
       "       [1., 1.],\n",
       "       [3., 1.]])"
      ]
     },
     "execution_count": 8,
     "metadata": {},
     "output_type": "execute_result"
    }
   ],
   "source": [
    "# Alt. solution using least squares (linear algebra)\n",
    "x = np.array([0,1,3])\n",
    "y = np.array([2,4,8])\n",
    "X = np.vstack([x, np.ones(len(x))]).T\n",
    "X"
   ]
  },
  {
   "cell_type": "code",
   "execution_count": 9,
   "id": "f543bc8b-0990-480e-be6e-c8f2eae8fe90",
   "metadata": {},
   "outputs": [
    {
     "data": {
      "text/plain": [
       "array([2., 2.])"
      ]
     },
     "execution_count": 9,
     "metadata": {},
     "output_type": "execute_result"
    }
   ],
   "source": [
    "betas = np.linalg.lstsq(X, y, rcond=None)[0]\n",
    "betas"
   ]
  },
  {
   "cell_type": "code",
   "execution_count": null,
   "id": "2885c8de-c2a8-4b0c-bd48-e0cfcd5d19c7",
   "metadata": {},
   "outputs": [],
   "source": []
  },
  {
   "cell_type": "code",
   "execution_count": null,
   "id": "30880912-4527-4b53-ad77-32587156c3df",
   "metadata": {},
   "outputs": [],
   "source": []
  },
  {
   "cell_type": "markdown",
   "id": "9098e0dd-90b9-40fb-a07f-3194e721f35a",
   "metadata": {},
   "source": [
    "### Confirm input space gets mapped to [-1,1] by default.."
   ]
  },
  {
   "cell_type": "code",
   "execution_count": 10,
   "id": "0b6a5ae4-417d-469f-931d-037ac6c21dbd",
   "metadata": {},
   "outputs": [
    {
     "name": "stdout",
     "output_type": "stream",
     "text": [
      "2.9999999999999996 + 1.0000000000000002·x¹\n"
     ]
    }
   ],
   "source": [
    "x = np.array([-1,1])\n",
    "y = np.array([2,4])\n",
    "deg = 1\n",
    "pfit3 = np.polynomial.Polynomial.fit(x, y, deg)\n",
    "print(pfit3)"
   ]
  },
  {
   "cell_type": "code",
   "execution_count": 11,
   "id": "c5b3d625-4fc8-44c3-ae33-b12d0a92174c",
   "metadata": {},
   "outputs": [
    {
     "data": {
      "text/plain": [
       "{'coef': array([3., 1.]),\n",
       " 'domain': array([-1.,  1.]),\n",
       " 'window': array([-1.,  1.])}"
      ]
     },
     "execution_count": 11,
     "metadata": {},
     "output_type": "execute_result"
    }
   ],
   "source": [
    "pfit3.__dict__"
   ]
  },
  {
   "cell_type": "code",
   "execution_count": null,
   "id": "52177e02-3556-491c-a77e-f83c288aa110",
   "metadata": {},
   "outputs": [],
   "source": []
  },
  {
   "cell_type": "code",
   "execution_count": null,
   "id": "aee8ec67-4851-4a99-a655-9aaef755ae90",
   "metadata": {},
   "outputs": [],
   "source": []
  }
 ],
 "metadata": {
  "kernelspec": {
   "display_name": "Python 3 (ipykernel)",
   "language": "python",
   "name": "python3"
  },
  "language_info": {
   "codemirror_mode": {
    "name": "ipython",
    "version": 3
   },
   "file_extension": ".py",
   "mimetype": "text/x-python",
   "name": "python",
   "nbconvert_exporter": "python",
   "pygments_lexer": "ipython3",
   "version": "3.9.4"
  }
 },
 "nbformat": 4,
 "nbformat_minor": 5
}
