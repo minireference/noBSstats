{
 "cells": [
  {
   "cell_type": "markdown",
   "id": "15d64020-9eee-4aaf-a80b-e4dd3d007c22",
   "metadata": {},
   "source": [
    "# Half a dozen ways to measure the difference in means in two groups in Bambi\n",
    "\n",
    "This notebook uses Python (Bambi) to reproduce the statistical analyses from the blog post [Half a dozen frequentist and Bayesian ways to measure the difference in means in two groups](https://www.andrewheiss.com/blog/2019/01/29/diff-means-half-dozen-ways/) by Andrew Heiss."
   ]
  },
  {
   "cell_type": "code",
   "execution_count": 1,
   "id": "5892f0e9-1dae-4373-b11f-e4d0eb24cdcd",
   "metadata": {
    "editable": true,
    "slideshow": {
     "slide_type": ""
    },
    "tags": []
   },
   "outputs": [],
   "source": [
    "import numpy as np\n",
    "import pandas as pd\n",
    "import seaborn as sns"
   ]
  },
  {
   "cell_type": "markdown",
   "id": "de2edf63-f146-4506-94c6-a319001e289b",
   "metadata": {
    "editable": true,
    "slideshow": {
     "slide_type": ""
    },
    "tags": []
   },
   "source": [
    "## Example movies genres\n",
    "\n",
    "see https://www.andrewheiss.com/blog/2019/01/29/diff-means-half-dozen-ways/\n",
    "\n",
    "see also https://bookdown.org/content/3686/metric-predicted-variable-on-one-or-two-groups.html#two-groups\n"
   ]
  },
  {
   "cell_type": "code",
   "execution_count": 2,
   "id": "b7abd526-ab35-4453-a317-040648778ed3",
   "metadata": {},
   "outputs": [
    {
     "data": {
      "text/html": [
       "<div>\n",
       "<style scoped>\n",
       "    .dataframe tbody tr th:only-of-type {\n",
       "        vertical-align: middle;\n",
       "    }\n",
       "\n",
       "    .dataframe tbody tr th {\n",
       "        vertical-align: top;\n",
       "    }\n",
       "\n",
       "    .dataframe thead th {\n",
       "        text-align: right;\n",
       "    }\n",
       "</style>\n",
       "<table border=\"1\" class=\"dataframe\">\n",
       "  <thead>\n",
       "    <tr style=\"text-align: right;\">\n",
       "      <th></th>\n",
       "      <th>title</th>\n",
       "      <th>year</th>\n",
       "      <th>rating</th>\n",
       "      <th>genre</th>\n",
       "      <th>genre_numeric</th>\n",
       "    </tr>\n",
       "  </thead>\n",
       "  <tbody>\n",
       "    <tr>\n",
       "      <th>0</th>\n",
       "      <td>Blowing Wild</td>\n",
       "      <td>1953</td>\n",
       "      <td>5.6</td>\n",
       "      <td>Action</td>\n",
       "      <td>1</td>\n",
       "    </tr>\n",
       "    <tr>\n",
       "      <th>1</th>\n",
       "      <td>No Way Back</td>\n",
       "      <td>1995</td>\n",
       "      <td>5.2</td>\n",
       "      <td>Action</td>\n",
       "      <td>1</td>\n",
       "    </tr>\n",
       "    <tr>\n",
       "      <th>2</th>\n",
       "      <td>New Jack City</td>\n",
       "      <td>1991</td>\n",
       "      <td>6.1</td>\n",
       "      <td>Action</td>\n",
       "      <td>1</td>\n",
       "    </tr>\n",
       "    <tr>\n",
       "      <th>3</th>\n",
       "      <td>Noigwon</td>\n",
       "      <td>1983</td>\n",
       "      <td>4.2</td>\n",
       "      <td>Action</td>\n",
       "      <td>1</td>\n",
       "    </tr>\n",
       "    <tr>\n",
       "      <th>4</th>\n",
       "      <td>Tarzan and the Jungle Boy</td>\n",
       "      <td>1968</td>\n",
       "      <td>5.2</td>\n",
       "      <td>Action</td>\n",
       "      <td>1</td>\n",
       "    </tr>\n",
       "  </tbody>\n",
       "</table>\n",
       "</div>"
      ],
      "text/plain": [
       "                       title  year  rating   genre  genre_numeric\n",
       "0               Blowing Wild  1953     5.6  Action              1\n",
       "1                No Way Back  1995     5.2  Action              1\n",
       "2              New Jack City  1991     6.1  Action              1\n",
       "3                    Noigwon  1983     4.2  Action              1\n",
       "4  Tarzan and the Jungle Boy  1968     5.2  Action              1"
      ]
     },
     "execution_count": 2,
     "metadata": {},
     "output_type": "execute_result"
    }
   ],
   "source": [
    "movies = pd.read_csv(\"../../datasets/movies.csv\")\n",
    "movies.head()"
   ]
  },
  {
   "cell_type": "code",
   "execution_count": 3,
   "id": "5596d372-a471-4954-8677-4a07c12f3953",
   "metadata": {
    "editable": true,
    "slideshow": {
     "slide_type": ""
    },
    "tags": []
   },
   "outputs": [
    {
     "data": {
      "text/plain": [
       "genre\n",
       "Action    5.2845\n",
       "Comedy    5.9670\n",
       "Name: rating, dtype: float64"
      ]
     },
     "execution_count": 3,
     "metadata": {},
     "output_type": "execute_result"
    }
   ],
   "source": [
    "movies.groupby(\"genre\")[\"rating\"].mean()"
   ]
  },
  {
   "cell_type": "code",
   "execution_count": 4,
   "id": "42f9676c-34b5-47c2-97ea-9ee24c2bce5c",
   "metadata": {},
   "outputs": [
    {
     "data": {
      "text/plain": [
       "TtestResult(statistic=-4.47525173500199, pvalue=9.976981171112134e-06, df=398.0)"
      ]
     },
     "execution_count": 4,
     "metadata": {},
     "output_type": "execute_result"
    }
   ],
   "source": [
    "from scipy.stats import ttest_ind\n",
    "\n",
    "actions = movies[movies[\"genre\"]==\"Action\"][\"rating\"]\n",
    "comedies = movies[movies[\"genre\"]==\"Comedy\"][\"rating\"]\n",
    "\n",
    "ttest_ind(actions, comedies, equal_var=True)"
   ]
  },
  {
   "cell_type": "code",
   "execution_count": 5,
   "id": "6f6367ca-d314-4c6a-b6da-db1c4d268157",
   "metadata": {},
   "outputs": [
    {
     "data": {
      "text/plain": [
       "TtestResult(statistic=-4.47525173500199, pvalue=9.978285839671783e-06, df=397.7995256063933)"
      ]
     },
     "execution_count": 5,
     "metadata": {},
     "output_type": "execute_result"
    }
   ],
   "source": [
    "ttest_ind(actions, comedies, equal_var=False)"
   ]
  },
  {
   "cell_type": "code",
   "execution_count": 6,
   "id": "d86c36fa-4fe2-47cf-8810-3cf438e2d882",
   "metadata": {},
   "outputs": [
    {
     "name": "stderr",
     "output_type": "stream",
     "text": [
      "WARNING (pytensor.tensor.blas): Using NumPy C-API based implementation for BLAS functions.\n"
     ]
    }
   ],
   "source": [
    "import bambi as bmb"
   ]
  },
  {
   "cell_type": "code",
   "execution_count": null,
   "id": "7b5ffdba-219a-4c0e-9a5b-9a080d5d29c5",
   "metadata": {},
   "outputs": [],
   "source": []
  },
  {
   "cell_type": "code",
   "execution_count": 7,
   "id": "4794cf1f-432c-4883-8bdd-908a5e4c3bc5",
   "metadata": {},
   "outputs": [
    {
     "name": "stdout",
     "output_type": "stream",
     "text": [
      "       Formula: rating ~ 1 + C(genre, levels=levels)\n",
      "        Family: gaussian\n",
      "          Link: mu = identity\n",
      "  Observations: 400\n",
      "        Priors: \n",
      "    target = mu\n",
      "        Common-level effects\n",
      "            Intercept ~ Normal(mu: 0.0, sigma: 5.0)\n",
      "            C(genre, levels=levels) ~ Normal(mu: 0.0, sigma: 1.0)\n",
      "        \n",
      "        Auxiliary parameters\n",
      "            sigma ~ HalfStudentT(nu: 4.0, sigma: 1.559)\n"
     ]
    }
   ],
   "source": [
    "# Model formula\n",
    "levels = [\"Comedy\", \"Action\"]\n",
    "formula = bmb.Formula(\"rating ~ 1 + C(genre, levels=levels)\")\n",
    "\n",
    "# Choose custom priors \n",
    "priors = {\n",
    "    \"Intercept\": bmb.Prior(\"Normal\", mu=0, sigma=5),\n",
    "    \"C(genre, levels=levels)\": bmb.Prior(\"Normal\", mu=0, sigma=1)\n",
    "}\n",
    "\n",
    "# Build model\n",
    "model_eq = bmb.Model(formula, priors=priors, data=movies)\n",
    "\n",
    "# Get model description\n",
    "print(model_eq)"
   ]
  },
  {
   "cell_type": "code",
   "execution_count": 8,
   "id": "134a2e72-e34a-4f11-965b-4a1b6bfc79bf",
   "metadata": {},
   "outputs": [],
   "source": [
    "# model_eq.build()\n",
    "# model_eq.graph()"
   ]
  },
  {
   "cell_type": "code",
   "execution_count": 9,
   "id": "b46f926b-b130-47eb-aa0a-9d19cde7c9eb",
   "metadata": {},
   "outputs": [
    {
     "name": "stderr",
     "output_type": "stream",
     "text": [
      "Auto-assigning NUTS sampler...\n",
      "Initializing NUTS using jitter+adapt_diag...\n",
      "Multiprocess sampling (4 chains in 4 jobs)\n",
      "NUTS: [sigma, Intercept, C(genre, levels=levels)]\n"
     ]
    },
    {
     "data": {
      "application/vnd.jupyter.widget-view+json": {
       "model_id": "b5b773a308d641139f6e9b0105f10cde",
       "version_major": 2,
       "version_minor": 0
      },
      "text/plain": [
       "Output()"
      ]
     },
     "metadata": {},
     "output_type": "display_data"
    },
    {
     "data": {
      "text/html": [
       "<pre style=\"white-space:pre;overflow-x:auto;line-height:normal;font-family:Menlo,'DejaVu Sans Mono',consolas,'Courier New',monospace\"></pre>\n"
      ],
      "text/plain": []
     },
     "metadata": {},
     "output_type": "display_data"
    },
    {
     "data": {
      "text/html": [
       "<pre style=\"white-space:pre;overflow-x:auto;line-height:normal;font-family:Menlo,'DejaVu Sans Mono',consolas,'Courier New',monospace\">\n",
       "</pre>\n"
      ],
      "text/plain": [
       "\n"
      ]
     },
     "metadata": {},
     "output_type": "display_data"
    },
    {
     "name": "stderr",
     "output_type": "stream",
     "text": [
      "Sampling 4 chains for 1_000 tune and 1_000 draw iterations (4_000 + 4_000 draws total) took 2 seconds.\n"
     ]
    }
   ],
   "source": [
    "# Fit the model using 1000 on each chain\n",
    "idata_eq = model_eq.fit(draws=1000)"
   ]
  },
  {
   "cell_type": "code",
   "execution_count": 10,
   "id": "05bff5ad-76ad-4340-b138-f2fc3b64b4c7",
   "metadata": {},
   "outputs": [
    {
     "data": {
      "text/html": [
       "<div>\n",
       "<style scoped>\n",
       "    .dataframe tbody tr th:only-of-type {\n",
       "        vertical-align: middle;\n",
       "    }\n",
       "\n",
       "    .dataframe tbody tr th {\n",
       "        vertical-align: top;\n",
       "    }\n",
       "\n",
       "    .dataframe thead th {\n",
       "        text-align: right;\n",
       "    }\n",
       "</style>\n",
       "<table border=\"1\" class=\"dataframe\">\n",
       "  <thead>\n",
       "    <tr style=\"text-align: right;\">\n",
       "      <th></th>\n",
       "      <th>median</th>\n",
       "      <th>mad</th>\n",
       "      <th>eti_3%</th>\n",
       "      <th>eti_97%</th>\n",
       "      <th>mcse_median</th>\n",
       "      <th>ess_median</th>\n",
       "      <th>ess_tail</th>\n",
       "      <th>r_hat</th>\n",
       "    </tr>\n",
       "  </thead>\n",
       "  <tbody>\n",
       "    <tr>\n",
       "      <th>C(genre, levels=levels)[Action]</th>\n",
       "      <td>-0.665</td>\n",
       "      <td>0.103</td>\n",
       "      <td>-0.946</td>\n",
       "      <td>-0.381</td>\n",
       "      <td>0.002</td>\n",
       "      <td>5424.641</td>\n",
       "      <td>3120.0</td>\n",
       "      <td>1.0</td>\n",
       "    </tr>\n",
       "    <tr>\n",
       "      <th>Intercept</th>\n",
       "      <td>5.956</td>\n",
       "      <td>0.074</td>\n",
       "      <td>5.759</td>\n",
       "      <td>6.159</td>\n",
       "      <td>0.002</td>\n",
       "      <td>5893.353</td>\n",
       "      <td>2979.0</td>\n",
       "      <td>1.0</td>\n",
       "    </tr>\n",
       "    <tr>\n",
       "      <th>sigma</th>\n",
       "      <td>1.527</td>\n",
       "      <td>0.036</td>\n",
       "      <td>1.433</td>\n",
       "      <td>1.638</td>\n",
       "      <td>0.001</td>\n",
       "      <td>4891.085</td>\n",
       "      <td>3497.0</td>\n",
       "      <td>1.0</td>\n",
       "    </tr>\n",
       "  </tbody>\n",
       "</table>\n",
       "</div>"
      ],
      "text/plain": [
       "                                 median    mad  eti_3%  eti_97%  mcse_median  \\\n",
       "C(genre, levels=levels)[Action]  -0.665  0.103  -0.946   -0.381        0.002   \n",
       "Intercept                         5.956  0.074   5.759    6.159        0.002   \n",
       "sigma                             1.527  0.036   1.433    1.638        0.001   \n",
       "\n",
       "                                 ess_median  ess_tail  r_hat  \n",
       "C(genre, levels=levels)[Action]    5424.641    3120.0    1.0  \n",
       "Intercept                          5893.353    2979.0    1.0  \n",
       "sigma                              4891.085    3497.0    1.0  "
      ]
     },
     "execution_count": 10,
     "metadata": {},
     "output_type": "execute_result"
    }
   ],
   "source": [
    "import arviz as az\n",
    "az.summary(idata_eq, stat_focus=\"median\")"
   ]
  },
  {
   "cell_type": "code",
   "execution_count": 11,
   "id": "25c8a409-ed98-4af3-9512-39000af1bb91",
   "metadata": {},
   "outputs": [
    {
     "data": {
      "image/png": "[encoded data removed]",
      "text/plain": [
       "<Figure size 640x480 with 1 Axes>"
      ]
     },
     "metadata": {},
     "output_type": "display_data"
    }
   ],
   "source": [
    "# JOINT PLOT\n",
    "Intercept_samples = idata_eq.posterior['Intercept'].values.flatten()\n",
    "sigma_samples = idata_eq.posterior['sigma'].values.flatten()\n",
    "ax = sns.kdeplot(x=Intercept_samples, y=sigma_samples, fill=False)"
   ]
  },
  {
   "cell_type": "code",
   "execution_count": 12,
   "id": "823b912c-cfca-40c3-87d6-9bd982f1b336",
   "metadata": {},
   "outputs": [
    {
     "data": {
      "image/png": "[encoded data removed]",
      "text/plain": [
       "<Figure size 640x480 with 1 Axes>"
      ]
     },
     "metadata": {},
     "output_type": "display_data"
    }
   ],
   "source": [
    "az.plot_pair(idata_eq, var_names=[\"Intercept\", \"sigma\"]);"
   ]
  },
  {
   "cell_type": "markdown",
   "id": "d4d9400b-cf1b-48c8-8a36-eeaad19838b3",
   "metadata": {},
   "source": [
    "### Regression, assuming unequal variances\n"
   ]
  },
  {
   "cell_type": "code",
   "execution_count": 13,
   "id": "77bca040-0804-4c98-8bde-87dc571112df",
   "metadata": {},
   "outputs": [
    {
     "name": "stdout",
     "output_type": "stream",
     "text": [
      "       Formula: rating ~ 1 + C(genre,levels=levels)\n",
      "                sigma ~ C(genre,levels=levels)\n",
      "        Family: gaussian\n",
      "          Link: mu = identity\n",
      "                sigma = log\n",
      "  Observations: 400\n",
      "        Priors: \n",
      "    target = mu\n",
      "        Common-level effects\n",
      "            Intercept ~ Normal(mu: 0.0, sigma: 5.0)\n",
      "            C(genre, levels=levels) ~ Normal(mu: 0.0, sigma: 1.0)\n",
      "    target = sigma\n",
      "        Common-level effects\n",
      "            sigma_Intercept ~ Normal(mu: 0.0, sigma: 1.0)\n",
      "            sigma_C(genre, levels=levels) ~ Cauchy(alpha: 0.0, beta: 1.0)\n"
     ]
    }
   ],
   "source": [
    "levels = [\"Comedy\", \"Action\"]\n",
    "formula_uneq = bmb.Formula(\"rating ~ 1 + C(genre,levels=levels)\",\n",
    "                           \"sigma ~ C(genre,levels=levels)\")\n",
    "\n",
    "priors = {\n",
    "    \"Intercept\": bmb.Prior(\"Normal\", mu=0, sigma=5),\n",
    "    \"C(genre, levels=levels)\": bmb.Prior(\"Normal\", mu=0, sigma=1),\n",
    "    \"sigma\": {\"C(genre, levels=levels)\": bmb.Prior(\"Cauchy\", alpha=0, beta=1)},\n",
    "}\n",
    "\n",
    "# Build model\n",
    "model_uneq = bmb.Model(formula_uneq, priors=priors, data=movies)\n",
    "\n",
    "# Get model description\n",
    "print(model_uneq)\n",
    "# model_uneq.build()\n",
    "# model_uneq.graph()"
   ]
  },
  {
   "cell_type": "code",
   "execution_count": 14,
   "id": "0b8bf8c4-7abf-4b48-b7ea-4b0136f2cd0a",
   "metadata": {},
   "outputs": [
    {
     "name": "stderr",
     "output_type": "stream",
     "text": [
      "Auto-assigning NUTS sampler...\n",
      "Initializing NUTS using jitter+adapt_diag...\n",
      "Multiprocess sampling (4 chains in 4 jobs)\n",
      "NUTS: [Intercept, C(genre, levels=levels), sigma_Intercept, sigma_C(genre, levels=levels)]\n"
     ]
    },
    {
     "data": {
      "application/vnd.jupyter.widget-view+json": {
       "model_id": "87caace17ad04e95a085647cc25a061b",
       "version_major": 2,
       "version_minor": 0
      },
      "text/plain": [
       "Output()"
      ]
     },
     "metadata": {},
     "output_type": "display_data"
    },
    {
     "data": {
      "text/html": [
       "<pre style=\"white-space:pre;overflow-x:auto;line-height:normal;font-family:Menlo,'DejaVu Sans Mono',consolas,'Courier New',monospace\"></pre>\n"
      ],
      "text/plain": []
     },
     "metadata": {},
     "output_type": "display_data"
    },
    {
     "data": {
      "text/html": [
       "<pre style=\"white-space:pre;overflow-x:auto;line-height:normal;font-family:Menlo,'DejaVu Sans Mono',consolas,'Courier New',monospace\">\n",
       "</pre>\n"
      ],
      "text/plain": [
       "\n"
      ]
     },
     "metadata": {},
     "output_type": "display_data"
    },
    {
     "name": "stderr",
     "output_type": "stream",
     "text": [
      "Sampling 4 chains for 1_000 tune and 1_000 draw iterations (4_000 + 4_000 draws total) took 4 seconds.\n"
     ]
    }
   ],
   "source": [
    "idata_uneq = model_uneq.fit(draws=1000)"
   ]
  },
  {
   "cell_type": "code",
   "execution_count": 15,
   "id": "ca54a1a4-8c33-4800-95f5-21d916c71a9d",
   "metadata": {},
   "outputs": [
    {
     "data": {
      "text/html": [
       "<div>\n",
       "<style scoped>\n",
       "    .dataframe tbody tr th:only-of-type {\n",
       "        vertical-align: middle;\n",
       "    }\n",
       "\n",
       "    .dataframe tbody tr th {\n",
       "        vertical-align: top;\n",
       "    }\n",
       "\n",
       "    .dataframe thead th {\n",
       "        text-align: right;\n",
       "    }\n",
       "</style>\n",
       "<table border=\"1\" class=\"dataframe\">\n",
       "  <thead>\n",
       "    <tr style=\"text-align: right;\">\n",
       "      <th></th>\n",
       "      <th>median</th>\n",
       "      <th>mad</th>\n",
       "      <th>eti_3%</th>\n",
       "      <th>eti_97%</th>\n",
       "      <th>mcse_median</th>\n",
       "      <th>ess_median</th>\n",
       "      <th>ess_tail</th>\n",
       "      <th>r_hat</th>\n",
       "    </tr>\n",
       "  </thead>\n",
       "  <tbody>\n",
       "    <tr>\n",
       "      <th>C(genre, levels=levels)[Action]</th>\n",
       "      <td>-0.667</td>\n",
       "      <td>0.108</td>\n",
       "      <td>-0.957</td>\n",
       "      <td>-0.374</td>\n",
       "      <td>0.003</td>\n",
       "      <td>6762.824</td>\n",
       "      <td>3161.0</td>\n",
       "      <td>1.0</td>\n",
       "    </tr>\n",
       "    <tr>\n",
       "      <th>Intercept</th>\n",
       "      <td>5.958</td>\n",
       "      <td>0.076</td>\n",
       "      <td>5.749</td>\n",
       "      <td>6.166</td>\n",
       "      <td>0.002</td>\n",
       "      <td>6614.842</td>\n",
       "      <td>3215.0</td>\n",
       "      <td>1.0</td>\n",
       "    </tr>\n",
       "    <tr>\n",
       "      <th>sigma_C(genre, levels=levels)[Action]</th>\n",
       "      <td>-0.022</td>\n",
       "      <td>0.048</td>\n",
       "      <td>-0.158</td>\n",
       "      <td>0.108</td>\n",
       "      <td>0.001</td>\n",
       "      <td>5576.759</td>\n",
       "      <td>3008.0</td>\n",
       "      <td>1.0</td>\n",
       "    </tr>\n",
       "    <tr>\n",
       "      <th>sigma_Intercept</th>\n",
       "      <td>0.434</td>\n",
       "      <td>0.034</td>\n",
       "      <td>0.340</td>\n",
       "      <td>0.532</td>\n",
       "      <td>0.001</td>\n",
       "      <td>6031.981</td>\n",
       "      <td>2772.0</td>\n",
       "      <td>1.0</td>\n",
       "    </tr>\n",
       "  </tbody>\n",
       "</table>\n",
       "</div>"
      ],
      "text/plain": [
       "                                       median    mad  eti_3%  eti_97%  \\\n",
       "C(genre, levels=levels)[Action]        -0.667  0.108  -0.957   -0.374   \n",
       "Intercept                               5.958  0.076   5.749    6.166   \n",
       "sigma_C(genre, levels=levels)[Action]  -0.022  0.048  -0.158    0.108   \n",
       "sigma_Intercept                         0.434  0.034   0.340    0.532   \n",
       "\n",
       "                                       mcse_median  ess_median  ess_tail  \\\n",
       "C(genre, levels=levels)[Action]              0.003    6762.824    3161.0   \n",
       "Intercept                                    0.002    6614.842    3215.0   \n",
       "sigma_C(genre, levels=levels)[Action]        0.001    5576.759    3008.0   \n",
       "sigma_Intercept                              0.001    6031.981    2772.0   \n",
       "\n",
       "                                       r_hat  \n",
       "C(genre, levels=levels)[Action]          1.0  \n",
       "Intercept                                1.0  \n",
       "sigma_C(genre, levels=levels)[Action]    1.0  \n",
       "sigma_Intercept                          1.0  "
      ]
     },
     "execution_count": 15,
     "metadata": {},
     "output_type": "execute_result"
    }
   ],
   "source": [
    "az.summary(idata_uneq, stat_focus=\"median\")"
   ]
  },
  {
   "cell_type": "code",
   "execution_count": 16,
   "id": "67d9328d-759d-4393-93dc-d282ec208352",
   "metadata": {},
   "outputs": [
    {
     "data": {
      "text/plain": [
       "0.97824023505121"
      ]
     },
     "execution_count": 16,
     "metadata": {},
     "output_type": "execute_result"
    }
   ],
   "source": [
    "np.exp(az.summary(idata_uneq, stat_focus=\"median\").loc[\"sigma_C(genre, levels=levels)[Action]\",\"median\"])"
   ]
  },
  {
   "cell_type": "code",
   "execution_count": null,
   "id": "6e249cd4-38fc-478f-aa66-26a828fe375b",
   "metadata": {},
   "outputs": [],
   "source": []
  },
  {
   "cell_type": "markdown",
   "id": "d5ebe190-9382-440a-81f7-93324f782aea",
   "metadata": {},
   "source": [
    "### BEST"
   ]
  },
  {
   "cell_type": "code",
   "execution_count": 17,
   "id": "f4eebda9-8075-4276-8ce2-3f89c828f938",
   "metadata": {},
   "outputs": [
    {
     "name": "stdout",
     "output_type": "stream",
     "text": [
      "       Formula: rating ~ 1 + C(genre,levels=levels)\n",
      "                sigma ~ C(genre,levels=levels)\n",
      "        Family: t\n",
      "          Link: mu = identity\n",
      "                sigma = log\n",
      "  Observations: 400\n",
      "        Priors: \n",
      "    target = mu\n",
      "        Common-level effects\n",
      "            Intercept ~ Normal(mu: 0.0, sigma: 5.0)\n",
      "            C(genre, levels=levels) ~ Normal(mu: 0.0, sigma: 1.0)\n",
      "        \n",
      "        Auxiliary parameters\n",
      "            nu ~ Exponential(lam: 0.0345)\n",
      "    target = sigma\n",
      "        Common-level effects\n",
      "            sigma_Intercept ~ Normal(mu: 0.0, sigma: 1.0)\n",
      "            sigma_C(genre, levels=levels) ~ Cauchy(alpha: 0.0, beta: 1.0)\n"
     ]
    }
   ],
   "source": [
    "levels = [\"Comedy\", \"Action\"]\n",
    "formula_best = bmb.Formula(\"rating ~ 1 + C(genre,levels=levels)\",\n",
    "                           \"sigma ~ C(genre,levels=levels)\")\n",
    "\n",
    "priors = {\n",
    "    \"Intercept\": bmb.Prior(\"Normal\", mu=0, sigma=5),\n",
    "    \"C(genre, levels=levels)\": bmb.Prior(\"Normal\", mu=0, sigma=1),\n",
    "    \"sigma\": {\"C(genre, levels=levels)\": bmb.Prior(\"Cauchy\", alpha=0, beta=1)},\n",
    "    \"nu\": bmb.Prior(\"Exponential\", lam=1/29),\n",
    "}\n",
    "\n",
    "# Build model\n",
    "model_best = bmb.Model(formula_best, priors=priors, family=\"t\", data=movies)\n",
    "\n",
    "# Get model description\n",
    "print(model_best)\n",
    "# model_best.build()\n",
    "# model_best.graph()"
   ]
  },
  {
   "cell_type": "code",
   "execution_count": 18,
   "id": "884d2000-7d20-4e08-af43-a6a4f7e610da",
   "metadata": {},
   "outputs": [
    {
     "name": "stderr",
     "output_type": "stream",
     "text": [
      "Auto-assigning NUTS sampler...\n",
      "Initializing NUTS using jitter+adapt_diag...\n",
      "Multiprocess sampling (4 chains in 4 jobs)\n",
      "NUTS: [nu, Intercept, C(genre, levels=levels), sigma_Intercept, sigma_C(genre, levels=levels)]\n"
     ]
    },
    {
     "data": {
      "application/vnd.jupyter.widget-view+json": {
       "model_id": "7e3aaac70ab5410a96cb9051dad74aa5",
       "version_major": 2,
       "version_minor": 0
      },
      "text/plain": [
       "Output()"
      ]
     },
     "metadata": {},
     "output_type": "display_data"
    },
    {
     "data": {
      "text/html": [
       "<pre style=\"white-space:pre;overflow-x:auto;line-height:normal;font-family:Menlo,'DejaVu Sans Mono',consolas,'Courier New',monospace\"></pre>\n"
      ],
      "text/plain": []
     },
     "metadata": {},
     "output_type": "display_data"
    },
    {
     "data": {
      "text/html": [
       "<pre style=\"white-space:pre;overflow-x:auto;line-height:normal;font-family:Menlo,'DejaVu Sans Mono',consolas,'Courier New',monospace\">\n",
       "</pre>\n"
      ],
      "text/plain": [
       "\n"
      ]
     },
     "metadata": {},
     "output_type": "display_data"
    },
    {
     "name": "stderr",
     "output_type": "stream",
     "text": [
      "Sampling 4 chains for 1_000 tune and 1_000 draw iterations (4_000 + 4_000 draws total) took 4 seconds.\n",
      "There were 9 divergences after tuning. Increase `target_accept` or reparameterize.\n"
     ]
    }
   ],
   "source": [
    "idata_best = model_best.fit(draws=1000)"
   ]
  },
  {
   "cell_type": "code",
   "execution_count": 19,
   "id": "2e48c489-dce5-43e2-a31c-316d8eb17268",
   "metadata": {},
   "outputs": [
    {
     "data": {
      "text/html": [
       "<div>\n",
       "<style scoped>\n",
       "    .dataframe tbody tr th:only-of-type {\n",
       "        vertical-align: middle;\n",
       "    }\n",
       "\n",
       "    .dataframe tbody tr th {\n",
       "        vertical-align: top;\n",
       "    }\n",
       "\n",
       "    .dataframe thead th {\n",
       "        text-align: right;\n",
       "    }\n",
       "</style>\n",
       "<table border=\"1\" class=\"dataframe\">\n",
       "  <thead>\n",
       "    <tr style=\"text-align: right;\">\n",
       "      <th></th>\n",
       "      <th>median</th>\n",
       "      <th>mad</th>\n",
       "      <th>eti_3%</th>\n",
       "      <th>eti_97%</th>\n",
       "      <th>mcse_median</th>\n",
       "      <th>ess_median</th>\n",
       "      <th>ess_tail</th>\n",
       "      <th>r_hat</th>\n",
       "    </tr>\n",
       "  </thead>\n",
       "  <tbody>\n",
       "    <tr>\n",
       "      <th>C(genre, levels=levels)[Action]</th>\n",
       "      <td>-0.681</td>\n",
       "      <td>0.101</td>\n",
       "      <td>-0.956</td>\n",
       "      <td>-0.402</td>\n",
       "      <td>0.003</td>\n",
       "      <td>4149.553</td>\n",
       "      <td>2807.0</td>\n",
       "      <td>1.0</td>\n",
       "    </tr>\n",
       "    <tr>\n",
       "      <th>Intercept</th>\n",
       "      <td>5.979</td>\n",
       "      <td>0.072</td>\n",
       "      <td>5.784</td>\n",
       "      <td>6.174</td>\n",
       "      <td>0.003</td>\n",
       "      <td>4135.636</td>\n",
       "      <td>3242.0</td>\n",
       "      <td>1.0</td>\n",
       "    </tr>\n",
       "    <tr>\n",
       "      <th>nu</th>\n",
       "      <td>31.440</td>\n",
       "      <td>13.696</td>\n",
       "      <td>9.918</td>\n",
       "      <td>107.195</td>\n",
       "      <td>0.579</td>\n",
       "      <td>3248.710</td>\n",
       "      <td>1885.0</td>\n",
       "      <td>1.0</td>\n",
       "    </tr>\n",
       "    <tr>\n",
       "      <th>sigma_C(genre, levels=levels)[Action]</th>\n",
       "      <td>-0.000</td>\n",
       "      <td>0.051</td>\n",
       "      <td>-0.144</td>\n",
       "      <td>0.148</td>\n",
       "      <td>0.002</td>\n",
       "      <td>3974.988</td>\n",
       "      <td>2595.0</td>\n",
       "      <td>1.0</td>\n",
       "    </tr>\n",
       "    <tr>\n",
       "      <th>sigma_Intercept</th>\n",
       "      <td>0.387</td>\n",
       "      <td>0.041</td>\n",
       "      <td>0.262</td>\n",
       "      <td>0.496</td>\n",
       "      <td>0.001</td>\n",
       "      <td>3561.065</td>\n",
       "      <td>2159.0</td>\n",
       "      <td>1.0</td>\n",
       "    </tr>\n",
       "  </tbody>\n",
       "</table>\n",
       "</div>"
      ],
      "text/plain": [
       "                                       median     mad  eti_3%  eti_97%  \\\n",
       "C(genre, levels=levels)[Action]        -0.681   0.101  -0.956   -0.402   \n",
       "Intercept                               5.979   0.072   5.784    6.174   \n",
       "nu                                     31.440  13.696   9.918  107.195   \n",
       "sigma_C(genre, levels=levels)[Action]  -0.000   0.051  -0.144    0.148   \n",
       "sigma_Intercept                         0.387   0.041   0.262    0.496   \n",
       "\n",
       "                                       mcse_median  ess_median  ess_tail  \\\n",
       "C(genre, levels=levels)[Action]              0.003    4149.553    2807.0   \n",
       "Intercept                                    0.003    4135.636    3242.0   \n",
       "nu                                           0.579    3248.710    1885.0   \n",
       "sigma_C(genre, levels=levels)[Action]        0.002    3974.988    2595.0   \n",
       "sigma_Intercept                              0.001    3561.065    2159.0   \n",
       "\n",
       "                                       r_hat  \n",
       "C(genre, levels=levels)[Action]          1.0  \n",
       "Intercept                                1.0  \n",
       "nu                                       1.0  \n",
       "sigma_C(genre, levels=levels)[Action]    1.0  \n",
       "sigma_Intercept                          1.0  "
      ]
     },
     "execution_count": 19,
     "metadata": {},
     "output_type": "execute_result"
    }
   ],
   "source": [
    "az.summary(idata_best, stat_focus=\"median\")"
   ]
  },
  {
   "cell_type": "markdown",
   "id": "6ceb1a9b-a1df-4b82-b57b-5da9ae230a5b",
   "metadata": {},
   "source": [
    "### BEST with priors on variables instead of difference\n",
    "\n",
    "\n"
   ]
  },
  {
   "cell_type": "code",
   "execution_count": 20,
   "id": "3a375fb8-e8b7-42b0-9488-4a7d51219806",
   "metadata": {
    "editable": true,
    "slideshow": {
     "slide_type": ""
    },
    "tags": []
   },
   "outputs": [
    {
     "name": "stdout",
     "output_type": "stream",
     "text": [
      "       Formula: rating ~ 0 + C(genre,levels=levels)\n",
      "                sigma ~ 0 + C(genre,levels=levels)\n",
      "        Family: t\n",
      "          Link: mu = identity\n",
      "                sigma = log\n",
      "  Observations: 400\n",
      "        Priors: \n",
      "    target = mu\n",
      "        Common-level effects\n",
      "            C(genre, levels=levels) ~ TruncatedNormal(mu: 6.0, sigma: 2.0, lower: 1.0, upper: 10.0)\n",
      "        \n",
      "        Auxiliary parameters\n",
      "            nu ~ Exponential(lam: 0.0345)\n",
      "    target = sigma\n",
      "        Common-level effects\n",
      "            sigma_C(genre, levels=levels) ~ Cauchy(alpha: 0.0, beta: 1.0)\n"
     ]
    }
   ],
   "source": [
    "levels = [\"Comedy\", \"Action\"]\n",
    "formula_best2 = bmb.Formula(\"rating ~ 0 + C(genre,levels=levels)\",\n",
    "                            \"sigma ~ 0 + C(genre,levels=levels)\")\n",
    "\n",
    "import pymc as pm\n",
    "import pytensor\n",
    "\n",
    "def ShiftedExp(name, lam,  **kwargs):\n",
    "    def shited_exp(lam, loc, size):\n",
    "        return pm.Exponential.dist(lam=lam) + loc\n",
    "    return pm.CustomDist(name, lam, 1, dist=shited_exp, **kwargs)\n",
    "\n",
    "priors = {\n",
    "    \"C(genre, levels=levels)\": bmb.Prior(\"TruncatedNormal\", mu=6, sigma=2, lower=1, upper=10),\n",
    "    \"sigma\": {\"C(genre, levels=levels)\": bmb.Prior(\"Cauchy\", alpha=0, beta=1)},\n",
    "    \"nu\": bmb.Prior(\"Exponential\", lam=1/29),\n",
    "    #\"nu\": bmb.Prior(\"ShiftedExp\", lam=1/29.0, dist=ShiftedExp),\n",
    "}\n",
    "\n",
    "# Build model\n",
    "model_best2 = bmb.Model(formula_best2, priors=priors, family=\"t\", data=movies)\n",
    "\n",
    "# Get model description\n",
    "print(model_best2)"
   ]
  },
  {
   "cell_type": "code",
   "execution_count": 21,
   "id": "9edfc966-7c1e-4181-b9e4-cfe642f131a7",
   "metadata": {
    "editable": true,
    "slideshow": {
     "slide_type": ""
    },
    "tags": []
   },
   "outputs": [
    {
     "data": {
      "image/svg+xml": [
       "<?xml version=\"1.0\" encoding=\"UTF-8\" standalone=\"no\"?>\n",
       "<!DOCTYPE svg PUBLIC \"-//W3C//DTD SVG 1.1//EN\"\n",
       " \"http://www.w3.org/Graphics/SVG/1.1/DTD/svg11.dtd\">\n",
       "<!-- Generated by graphviz version 12.1.0 (20240811.2233)\n",
       " -->\n",
       "<!-- Pages: 1 -->\n",
       "<svg width=\"524pt\" height=\"385pt\"\n",
       " viewBox=\"0.00 0.00 524.00 384.95\" xmlns=\"http://www.w3.org/2000/svg\" xmlns:xlink=\"http://www.w3.org/1999/xlink\">\n",
       "<g id=\"graph0\" class=\"graph\" transform=\"scale(1 1) rotate(0) translate(4 380.95)\">\n",
       "<polygon fill=\"white\" stroke=\"none\" points=\"-4,4 -4,-380.95 520,-380.95 520,4 -4,4\"/>\n",
       "<g id=\"clust1\" class=\"cluster\">\n",
       "<title>clusterC(genre, levels=levels)_dim (2)</title>\n",
       "<path fill=\"none\" stroke=\"black\" d=\"M20,-247.13C20,-247.13 214,-247.13 214,-247.13 220,-247.13 226,-253.13 226,-259.13 226,-259.13 226,-356.95 226,-356.95 226,-362.95 220,-368.95 214,-368.95 214,-368.95 20,-368.95 20,-368.95 14,-368.95 8,-362.95 8,-356.95 8,-356.95 8,-259.13 8,-259.13 8,-253.13 14,-247.13 20,-247.13\"/>\n",
       "<text text-anchor=\"middle\" x=\"130.62\" y=\"-254.33\" font-family=\"Times,serif\" font-size=\"14.00\">C(genre, levels=levels)_dim (2)</text>\n",
       "</g>\n",
       "<g id=\"clust2\" class=\"cluster\">\n",
       "<title>clustersigma_C(genre, levels=levels)_dim (2)</title>\n",
       "<path fill=\"none\" stroke=\"black\" d=\"M246,-247.13C246,-247.13 496,-247.13 496,-247.13 502,-247.13 508,-253.13 508,-259.13 508,-259.13 508,-356.95 508,-356.95 508,-362.95 502,-368.95 496,-368.95 496,-368.95 246,-368.95 246,-368.95 240,-368.95 234,-362.95 234,-356.95 234,-356.95 234,-259.13 234,-259.13 234,-253.13 240,-247.13 246,-247.13\"/>\n",
       "<text text-anchor=\"middle\" x=\"392.75\" y=\"-254.33\" font-family=\"Times,serif\" font-size=\"14.00\">sigma_C(genre, levels=levels)_dim (2)</text>\n",
       "</g>\n",
       "<g id=\"clust3\" class=\"cluster\">\n",
       "<title>cluster__obs__ (400)</title>\n",
       "<path fill=\"none\" stroke=\"black\" d=\"M149,-8C149,-8 339,-8 339,-8 345,-8 351,-14 351,-20 351,-20 351,-223.23 351,-223.23 351,-229.23 345,-235.23 339,-235.23 339,-235.23 149,-235.23 149,-235.23 143,-235.23 137,-229.23 137,-223.23 137,-223.23 137,-20 137,-20 137,-14 143,-8 149,-8\"/>\n",
       "<text text-anchor=\"middle\" x=\"303.62\" y=\"-15.2\" font-family=\"Times,serif\" font-size=\"14.00\">__obs__ (400)</text>\n",
       "</g>\n",
       "<!-- nu -->\n",
       "<g id=\"node1\" class=\"node\">\n",
       "<title>nu</title>\n",
       "<ellipse fill=\"none\" stroke=\"black\" cx=\"69\" cy=\"-198.48\" rx=\"57.45\" ry=\"40.66\"/>\n",
       "<text text-anchor=\"middle\" x=\"69\" y=\"-209.93\" font-family=\"Times,serif\" font-size=\"14.00\">nu</text>\n",
       "<text text-anchor=\"middle\" x=\"69\" y=\"-193.43\" font-family=\"Times,serif\" font-size=\"14.00\">~</text>\n",
       "<text text-anchor=\"middle\" x=\"69\" y=\"-176.93\" font-family=\"Times,serif\" font-size=\"14.00\">Exponential</text>\n",
       "</g>\n",
       "<!-- rating -->\n",
       "<g id=\"node5\" class=\"node\">\n",
       "<title>rating</title>\n",
       "<ellipse fill=\"lightgrey\" stroke=\"black\" cx=\"191\" cy=\"-81.16\" rx=\"46.32\" ry=\"40.66\"/>\n",
       "<text text-anchor=\"middle\" x=\"191\" y=\"-92.61\" font-family=\"Times,serif\" font-size=\"14.00\">rating</text>\n",
       "<text text-anchor=\"middle\" x=\"191\" y=\"-76.11\" font-family=\"Times,serif\" font-size=\"14.00\">~</text>\n",
       "<text text-anchor=\"middle\" x=\"191\" y=\"-59.61\" font-family=\"Times,serif\" font-size=\"14.00\">StudentT</text>\n",
       "</g>\n",
       "<!-- nu&#45;&gt;rating -->\n",
       "<g id=\"edge3\" class=\"edge\">\n",
       "<title>nu&#45;&gt;rating</title>\n",
       "<path fill=\"none\" stroke=\"black\" d=\"M102.98,-165.35C118.11,-151.05 136.02,-134.12 151.72,-119.28\"/>\n",
       "<polygon fill=\"black\" stroke=\"black\" points=\"153.74,-122.19 158.61,-112.78 148.93,-117.1 153.74,-122.19\"/>\n",
       "</g>\n",
       "<!-- C(genre, levels=levels) -->\n",
       "<g id=\"node2\" class=\"node\">\n",
       "<title>C(genre, levels=levels)</title>\n",
       "<ellipse fill=\"none\" stroke=\"black\" cx=\"117\" cy=\"-320.29\" rx=\"100.94\" ry=\"40.66\"/>\n",
       "<text text-anchor=\"middle\" x=\"117\" y=\"-331.74\" font-family=\"Times,serif\" font-size=\"14.00\">C(genre, levels=levels)</text>\n",
       "<text text-anchor=\"middle\" x=\"117\" y=\"-315.24\" font-family=\"Times,serif\" font-size=\"14.00\">~</text>\n",
       "<text text-anchor=\"middle\" x=\"117\" y=\"-298.74\" font-family=\"Times,serif\" font-size=\"14.00\">TruncatedNormal</text>\n",
       "</g>\n",
       "<!-- mu -->\n",
       "<g id=\"node6\" class=\"node\">\n",
       "<title>mu</title>\n",
       "<polygon fill=\"none\" stroke=\"black\" points=\"235.12,-227.23 144.88,-227.23 144.88,-169.73 235.12,-169.73 235.12,-227.23\"/>\n",
       "<text text-anchor=\"middle\" x=\"190\" y=\"-209.93\" font-family=\"Times,serif\" font-size=\"14.00\">mu</text>\n",
       "<text text-anchor=\"middle\" x=\"190\" y=\"-193.43\" font-family=\"Times,serif\" font-size=\"14.00\">~</text>\n",
       "<text text-anchor=\"middle\" x=\"190\" y=\"-176.93\" font-family=\"Times,serif\" font-size=\"14.00\">Deterministic</text>\n",
       "</g>\n",
       "<!-- C(genre, levels=levels)&#45;&gt;mu -->\n",
       "<g id=\"edge1\" class=\"edge\">\n",
       "<title>C(genre, levels=levels)&#45;&gt;mu</title>\n",
       "<path fill=\"none\" stroke=\"black\" d=\"M140.7,-280.39C149.14,-266.54 158.63,-250.96 167.01,-237.21\"/>\n",
       "<polygon fill=\"black\" stroke=\"black\" points=\"169.89,-239.21 172.1,-228.85 163.91,-235.57 169.89,-239.21\"/>\n",
       "</g>\n",
       "<!-- sigma_C(genre, levels=levels) -->\n",
       "<g id=\"node3\" class=\"node\">\n",
       "<title>sigma_C(genre, levels=levels)</title>\n",
       "<ellipse fill=\"none\" stroke=\"black\" cx=\"371\" cy=\"-320.29\" rx=\"129.05\" ry=\"40.66\"/>\n",
       "<text text-anchor=\"middle\" x=\"371\" y=\"-331.74\" font-family=\"Times,serif\" font-size=\"14.00\">sigma_C(genre, levels=levels)</text>\n",
       "<text text-anchor=\"middle\" x=\"371\" y=\"-315.24\" font-family=\"Times,serif\" font-size=\"14.00\">~</text>\n",
       "<text text-anchor=\"middle\" x=\"371\" y=\"-298.74\" font-family=\"Times,serif\" font-size=\"14.00\">Cauchy</text>\n",
       "</g>\n",
       "<!-- sigma -->\n",
       "<g id=\"node4\" class=\"node\">\n",
       "<title>sigma</title>\n",
       "<polygon fill=\"none\" stroke=\"black\" points=\"343.12,-227.23 252.88,-227.23 252.88,-169.73 343.12,-169.73 343.12,-227.23\"/>\n",
       "<text text-anchor=\"middle\" x=\"298\" y=\"-209.93\" font-family=\"Times,serif\" font-size=\"14.00\">sigma</text>\n",
       "<text text-anchor=\"middle\" x=\"298\" y=\"-193.43\" font-family=\"Times,serif\" font-size=\"14.00\">~</text>\n",
       "<text text-anchor=\"middle\" x=\"298\" y=\"-176.93\" font-family=\"Times,serif\" font-size=\"14.00\">Deterministic</text>\n",
       "</g>\n",
       "<!-- sigma_C(genre, levels=levels)&#45;&gt;sigma -->\n",
       "<g id=\"edge2\" class=\"edge\">\n",
       "<title>sigma_C(genre, levels=levels)&#45;&gt;sigma</title>\n",
       "<path fill=\"none\" stroke=\"black\" d=\"M347.1,-280.06C338.67,-266.22 329.21,-250.7 320.87,-237.01\"/>\n",
       "<polygon fill=\"black\" stroke=\"black\" points=\"324,-235.42 315.8,-228.7 318.02,-239.06 324,-235.42\"/>\n",
       "</g>\n",
       "<!-- sigma&#45;&gt;rating -->\n",
       "<g id=\"edge4\" class=\"edge\">\n",
       "<title>sigma&#45;&gt;rating</title>\n",
       "<path fill=\"none\" stroke=\"black\" d=\"M271.82,-169.27C258.44,-154.84 241.94,-137.06 227.35,-121.33\"/>\n",
       "<polygon fill=\"black\" stroke=\"black\" points=\"230.31,-119.38 220.94,-114.43 225.18,-124.14 230.31,-119.38\"/>\n",
       "</g>\n",
       "<!-- mu&#45;&gt;rating -->\n",
       "<g id=\"edge5\" class=\"edge\">\n",
       "<title>mu&#45;&gt;rating</title>\n",
       "<path fill=\"none\" stroke=\"black\" d=\"M190.24,-169.27C190.34,-158.44 190.45,-145.73 190.56,-133.41\"/>\n",
       "<polygon fill=\"black\" stroke=\"black\" points=\"194.05,-133.81 190.64,-123.78 187.05,-133.75 194.05,-133.81\"/>\n",
       "</g>\n",
       "</g>\n",
       "</svg>\n"
      ],
      "text/plain": [
       "<graphviz.graphs.Digraph at 0x3057cdfa0>"
      ]
     },
     "execution_count": 21,
     "metadata": {},
     "output_type": "execute_result"
    }
   ],
   "source": [
    "model_best2.build()\n",
    "model_best2.graph()"
   ]
  },
  {
   "cell_type": "code",
   "execution_count": 22,
   "id": "bf2f794a-7d9a-4101-b92a-2429754d28cc",
   "metadata": {},
   "outputs": [],
   "source": [
    "# model_best2.plot_priors();"
   ]
  },
  {
   "cell_type": "code",
   "execution_count": 23,
   "id": "88d36626-e4c3-4073-9745-5dc60aef140c",
   "metadata": {},
   "outputs": [
    {
     "name": "stderr",
     "output_type": "stream",
     "text": [
      "Auto-assigning NUTS sampler...\n",
      "Initializing NUTS using jitter+adapt_diag...\n",
      "Multiprocess sampling (4 chains in 4 jobs)\n",
      "NUTS: [nu, C(genre, levels=levels), sigma_C(genre, levels=levels)]\n"
     ]
    },
    {
     "data": {
      "application/vnd.jupyter.widget-view+json": {
       "model_id": "fcc5a0aa953c46baa9b1e77caf515559",
       "version_major": 2,
       "version_minor": 0
      },
      "text/plain": [
       "Output()"
      ]
     },
     "metadata": {},
     "output_type": "display_data"
    },
    {
     "data": {
      "text/html": [
       "<pre style=\"white-space:pre;overflow-x:auto;line-height:normal;font-family:Menlo,'DejaVu Sans Mono',consolas,'Courier New',monospace\"></pre>\n"
      ],
      "text/plain": []
     },
     "metadata": {},
     "output_type": "display_data"
    },
    {
     "data": {
      "text/html": [
       "<pre style=\"white-space:pre;overflow-x:auto;line-height:normal;font-family:Menlo,'DejaVu Sans Mono',consolas,'Courier New',monospace\">\n",
       "</pre>\n"
      ],
      "text/plain": [
       "\n"
      ]
     },
     "metadata": {},
     "output_type": "display_data"
    },
    {
     "name": "stderr",
     "output_type": "stream",
     "text": [
      "Sampling 4 chains for 1_000 tune and 1_000 draw iterations (4_000 + 4_000 draws total) took 3 seconds.\n",
      "There were 8 divergences after tuning. Increase `target_accept` or reparameterize.\n"
     ]
    }
   ],
   "source": [
    "idata_best2 = model_best2.fit(draws=1000)"
   ]
  },
  {
   "cell_type": "code",
   "execution_count": 24,
   "id": "e249fcff-d896-4f2b-b5e5-3c260122a9ef",
   "metadata": {},
   "outputs": [
    {
     "data": {
      "text/html": [
       "<div>\n",
       "<style scoped>\n",
       "    .dataframe tbody tr th:only-of-type {\n",
       "        vertical-align: middle;\n",
       "    }\n",
       "\n",
       "    .dataframe tbody tr th {\n",
       "        vertical-align: top;\n",
       "    }\n",
       "\n",
       "    .dataframe thead th {\n",
       "        text-align: right;\n",
       "    }\n",
       "</style>\n",
       "<table border=\"1\" class=\"dataframe\">\n",
       "  <thead>\n",
       "    <tr style=\"text-align: right;\">\n",
       "      <th></th>\n",
       "      <th>median</th>\n",
       "      <th>mad</th>\n",
       "      <th>eti_3%</th>\n",
       "      <th>eti_97%</th>\n",
       "      <th>mcse_median</th>\n",
       "      <th>ess_median</th>\n",
       "      <th>ess_tail</th>\n",
       "      <th>r_hat</th>\n",
       "    </tr>\n",
       "  </thead>\n",
       "  <tbody>\n",
       "    <tr>\n",
       "      <th>C(genre, levels=levels)[Comedy]</th>\n",
       "      <td>5.989</td>\n",
       "      <td>0.073</td>\n",
       "      <td>5.790</td>\n",
       "      <td>6.182</td>\n",
       "      <td>0.002</td>\n",
       "      <td>4099.678</td>\n",
       "      <td>3299.0</td>\n",
       "      <td>1.0</td>\n",
       "    </tr>\n",
       "    <tr>\n",
       "      <th>C(genre, levels=levels)[Action]</th>\n",
       "      <td>5.289</td>\n",
       "      <td>0.073</td>\n",
       "      <td>5.094</td>\n",
       "      <td>5.489</td>\n",
       "      <td>0.002</td>\n",
       "      <td>3880.445</td>\n",
       "      <td>2814.0</td>\n",
       "      <td>1.0</td>\n",
       "    </tr>\n",
       "    <tr>\n",
       "      <th>nu</th>\n",
       "      <td>30.963</td>\n",
       "      <td>13.557</td>\n",
       "      <td>9.682</td>\n",
       "      <td>107.996</td>\n",
       "      <td>0.392</td>\n",
       "      <td>3177.571</td>\n",
       "      <td>2494.0</td>\n",
       "      <td>1.0</td>\n",
       "    </tr>\n",
       "    <tr>\n",
       "      <th>sigma_C(genre, levels=levels)[Comedy]</th>\n",
       "      <td>0.385</td>\n",
       "      <td>0.041</td>\n",
       "      <td>0.268</td>\n",
       "      <td>0.497</td>\n",
       "      <td>0.001</td>\n",
       "      <td>3703.211</td>\n",
       "      <td>2374.0</td>\n",
       "      <td>1.0</td>\n",
       "    </tr>\n",
       "    <tr>\n",
       "      <th>sigma_C(genre, levels=levels)[Action]</th>\n",
       "      <td>0.384</td>\n",
       "      <td>0.038</td>\n",
       "      <td>0.279</td>\n",
       "      <td>0.490</td>\n",
       "      <td>0.001</td>\n",
       "      <td>3687.923</td>\n",
       "      <td>3277.0</td>\n",
       "      <td>1.0</td>\n",
       "    </tr>\n",
       "  </tbody>\n",
       "</table>\n",
       "</div>"
      ],
      "text/plain": [
       "                                       median     mad  eti_3%  eti_97%  \\\n",
       "C(genre, levels=levels)[Comedy]         5.989   0.073   5.790    6.182   \n",
       "C(genre, levels=levels)[Action]         5.289   0.073   5.094    5.489   \n",
       "nu                                     30.963  13.557   9.682  107.996   \n",
       "sigma_C(genre, levels=levels)[Comedy]   0.385   0.041   0.268    0.497   \n",
       "sigma_C(genre, levels=levels)[Action]   0.384   0.038   0.279    0.490   \n",
       "\n",
       "                                       mcse_median  ess_median  ess_tail  \\\n",
       "C(genre, levels=levels)[Comedy]              0.002    4099.678    3299.0   \n",
       "C(genre, levels=levels)[Action]              0.002    3880.445    2814.0   \n",
       "nu                                           0.392    3177.571    2494.0   \n",
       "sigma_C(genre, levels=levels)[Comedy]        0.001    3703.211    2374.0   \n",
       "sigma_C(genre, levels=levels)[Action]        0.001    3687.923    3277.0   \n",
       "\n",
       "                                       r_hat  \n",
       "C(genre, levels=levels)[Comedy]          1.0  \n",
       "C(genre, levels=levels)[Action]          1.0  \n",
       "nu                                       1.0  \n",
       "sigma_C(genre, levels=levels)[Comedy]    1.0  \n",
       "sigma_C(genre, levels=levels)[Action]    1.0  "
      ]
     },
     "execution_count": 24,
     "metadata": {},
     "output_type": "execute_result"
    }
   ],
   "source": [
    "az.summary(idata_best2, stat_focus=\"median\")"
   ]
  },
  {
   "cell_type": "code",
   "execution_count": 25,
   "id": "1c2f0f34-490f-4683-864e-6437fadeb53c",
   "metadata": {
    "editable": true,
    "slideshow": {
     "slide_type": ""
    },
    "tags": []
   },
   "outputs": [
    {
     "data": {
      "text/html": [
       "<div>\n",
       "<style scoped>\n",
       "    .dataframe tbody tr th:only-of-type {\n",
       "        vertical-align: middle;\n",
       "    }\n",
       "\n",
       "    .dataframe tbody tr th {\n",
       "        vertical-align: top;\n",
       "    }\n",
       "\n",
       "    .dataframe thead th {\n",
       "        text-align: right;\n",
       "    }\n",
       "</style>\n",
       "<table border=\"1\" class=\"dataframe\">\n",
       "  <thead>\n",
       "    <tr style=\"text-align: right;\">\n",
       "      <th></th>\n",
       "      <th>median</th>\n",
       "      <th>mad</th>\n",
       "      <th>eti_3%</th>\n",
       "      <th>eti_97%</th>\n",
       "      <th>mcse_median</th>\n",
       "      <th>ess_median</th>\n",
       "      <th>ess_tail</th>\n",
       "      <th>r_hat</th>\n",
       "    </tr>\n",
       "  </thead>\n",
       "  <tbody>\n",
       "    <tr>\n",
       "      <th>C(genre, levels=levels)[Comedy]</th>\n",
       "      <td>5.989</td>\n",
       "      <td>0.073</td>\n",
       "      <td>5.790</td>\n",
       "      <td>6.182</td>\n",
       "      <td>0.002</td>\n",
       "      <td>4099.678</td>\n",
       "      <td>3299.0</td>\n",
       "      <td>1.0</td>\n",
       "    </tr>\n",
       "    <tr>\n",
       "      <th>C(genre, levels=levels)[Action]</th>\n",
       "      <td>5.289</td>\n",
       "      <td>0.073</td>\n",
       "      <td>5.094</td>\n",
       "      <td>5.489</td>\n",
       "      <td>0.002</td>\n",
       "      <td>3880.445</td>\n",
       "      <td>2814.0</td>\n",
       "      <td>1.0</td>\n",
       "    </tr>\n",
       "    <tr>\n",
       "      <th>nu</th>\n",
       "      <td>30.963</td>\n",
       "      <td>13.557</td>\n",
       "      <td>9.682</td>\n",
       "      <td>107.996</td>\n",
       "      <td>0.392</td>\n",
       "      <td>3177.571</td>\n",
       "      <td>2494.0</td>\n",
       "      <td>1.0</td>\n",
       "    </tr>\n",
       "    <tr>\n",
       "      <th>sigma_C(genre, levels=levels)[Comedy]</th>\n",
       "      <td>0.385</td>\n",
       "      <td>0.041</td>\n",
       "      <td>0.268</td>\n",
       "      <td>0.497</td>\n",
       "      <td>0.001</td>\n",
       "      <td>3703.211</td>\n",
       "      <td>2374.0</td>\n",
       "      <td>1.0</td>\n",
       "    </tr>\n",
       "    <tr>\n",
       "      <th>sigma_C(genre, levels=levels)[Action]</th>\n",
       "      <td>0.384</td>\n",
       "      <td>0.038</td>\n",
       "      <td>0.279</td>\n",
       "      <td>0.490</td>\n",
       "      <td>0.001</td>\n",
       "      <td>3687.923</td>\n",
       "      <td>3277.0</td>\n",
       "      <td>1.0</td>\n",
       "    </tr>\n",
       "  </tbody>\n",
       "</table>\n",
       "</div>"
      ],
      "text/plain": [
       "                                       median     mad  eti_3%  eti_97%  \\\n",
       "C(genre, levels=levels)[Comedy]         5.989   0.073   5.790    6.182   \n",
       "C(genre, levels=levels)[Action]         5.289   0.073   5.094    5.489   \n",
       "nu                                     30.963  13.557   9.682  107.996   \n",
       "sigma_C(genre, levels=levels)[Comedy]   0.385   0.041   0.268    0.497   \n",
       "sigma_C(genre, levels=levels)[Action]   0.384   0.038   0.279    0.490   \n",
       "\n",
       "                                       mcse_median  ess_median  ess_tail  \\\n",
       "C(genre, levels=levels)[Comedy]              0.002    4099.678    3299.0   \n",
       "C(genre, levels=levels)[Action]              0.002    3880.445    2814.0   \n",
       "nu                                           0.392    3177.571    2494.0   \n",
       "sigma_C(genre, levels=levels)[Comedy]        0.001    3703.211    2374.0   \n",
       "sigma_C(genre, levels=levels)[Action]        0.001    3687.923    3277.0   \n",
       "\n",
       "                                       r_hat  \n",
       "C(genre, levels=levels)[Comedy]          1.0  \n",
       "C(genre, levels=levels)[Action]          1.0  \n",
       "nu                                       1.0  \n",
       "sigma_C(genre, levels=levels)[Comedy]    1.0  \n",
       "sigma_C(genre, levels=levels)[Action]    1.0  "
      ]
     },
     "execution_count": 25,
     "metadata": {},
     "output_type": "execute_result"
    }
   ],
   "source": [
    "az.summary(idata_best2, stat_focus=\"median\")"
   ]
  },
  {
   "cell_type": "code",
   "execution_count": 26,
   "id": "94c94e37-6392-44fd-bbc4-7fd870c1b32b",
   "metadata": {},
   "outputs": [
    {
     "data": {
      "text/plain": [
       "1.4681454416819895"
      ]
     },
     "execution_count": 26,
     "metadata": {},
     "output_type": "execute_result"
    }
   ],
   "source": [
    "np.exp(az.summary(idata_best2, stat_focus=\"median\").loc[\"sigma_C(genre, levels=levels)[Action]\",\"median\"])"
   ]
  },
  {
   "cell_type": "code",
   "execution_count": null,
   "id": "da00bb54-f7f1-4bd1-93be-9a18ce6294f7",
   "metadata": {
    "editable": true,
    "slideshow": {
     "slide_type": ""
    },
    "tags": []
   },
   "outputs": [],
   "source": []
  }
 ],
 "metadata": {
  "kernelspec": {
   "display_name": "Python 3 (ipykernel)",
   "language": "python",
   "name": "python3"
  },
  "language_info": {
   "codemirror_mode": {
    "name": "ipython",
    "version": 3
   },
   "file_extension": ".py",
   "mimetype": "text/x-python",
   "name": "python",
   "nbconvert_exporter": "python",
   "pygments_lexer": "ipython3",
   "version": "3.12.4"
  }
 },
 "nbformat": 4,
 "nbformat_minor": 5
}
