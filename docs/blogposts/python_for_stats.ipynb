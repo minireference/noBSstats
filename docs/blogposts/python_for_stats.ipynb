{
 "cells": [
  {
   "cell_type": "markdown",
   "id": "59db57ac-d174-4c88-b395-2204273a30f1",
   "metadata": {},
   "source": [
    "# Using Python for learning statistics Part 1"
   ]
  },
  {
   "cell_type": "markdown",
   "id": "282bf6aa-0555-4852-9a6b-1b58eb935b1c",
   "metadata": {},
   "source": [
    "This Juppyter notebook contains the code examples form the blog post [Python coding skills for statistics Part 1](https://docs.google.com/document/d/16WJnYeezBevUBvsYpbklW04ukvrtG_8QVdfsbd15pqg/edit).\n",
    "\n",
    "I've intentionally left empty code cells throughout the notebook,\n",
    "which you can use to try some Python commands on your own.\n",
    "For example,\n",
    "you can copy-paste some of the commands in previous cells,\n",
    "modify them and run to see what happens.\n",
    "Try to break things, that's the best way to learn!\n",
    "\n",
    "**To run a code cell, press** the play button in the menu bar, or use the keyboard shortcut **SHIFT+ENTER**."
   ]
  },
  {
   "cell_type": "code",
   "execution_count": null,
   "id": "ed5832a3-6014-47df-96f9-f0d969c94077",
   "metadata": {},
   "outputs": [],
   "source": []
  },
  {
   "cell_type": "markdown",
   "id": "3f689330-7def-4935-be79-520d1c0190b6",
   "metadata": {},
   "source": [
    "## What can python do for you?"
   ]
  },
  {
   "cell_type": "markdown",
   "id": "7bf445c3-2d7c-48ac-90be-84417d51f685",
   "metadata": {},
   "source": [
    "### Using Python as a calculator"
   ]
  },
  {
   "cell_type": "code",
   "execution_count": 1,
   "id": "6ff440f2-f2c4-4821-8af0-1bec72c2b608",
   "metadata": {
    "editable": true,
    "slideshow": {
     "slide_type": ""
    },
    "tags": []
   },
   "outputs": [
    {
     "data": {
      "text/plain": [
       "5.5"
      ]
     },
     "execution_count": 1,
     "metadata": {},
     "output_type": "execute_result"
    }
   ],
   "source": [
    "2.1 + 3.4"
   ]
  },
  {
   "cell_type": "code",
   "execution_count": 2,
   "id": "a5d156a0-ac2f-4271-95e6-1f22f499b535",
   "metadata": {},
   "outputs": [],
   "source": [
    "num1 = 2.1"
   ]
  },
  {
   "cell_type": "code",
   "execution_count": 3,
   "id": "1d87588a-e92e-4225-9ace-dbe533c4f4f6",
   "metadata": {},
   "outputs": [],
   "source": [
    "num2 = 3.4"
   ]
  },
  {
   "cell_type": "code",
   "execution_count": 4,
   "id": "a7eaa89b-cf12-477c-94b6-30641373ea55",
   "metadata": {},
   "outputs": [
    {
     "data": {
      "text/plain": [
       "5.5"
      ]
     },
     "execution_count": 4,
     "metadata": {},
     "output_type": "execute_result"
    }
   ],
   "source": [
    "num1 + num2"
   ]
  },
  {
   "cell_type": "code",
   "execution_count": null,
   "id": "27790060-6a22-4f9f-93e4-b85ff7273287",
   "metadata": {},
   "outputs": [],
   "source": []
  },
  {
   "cell_type": "markdown",
   "id": "678eddd7-8f7e-483b-ab28-eb28db48c6bd",
   "metadata": {},
   "source": [
    "Let's now compute the avarage of the numbers `num1` and `num2`."
   ]
  },
  {
   "cell_type": "code",
   "execution_count": 5,
   "id": "305c829d-680e-4652-8399-2f55b40bee57",
   "metadata": {
    "editable": true,
    "slideshow": {
     "slide_type": ""
    },
    "tags": []
   },
   "outputs": [
    {
     "data": {
      "text/plain": [
       "2.75"
      ]
     },
     "execution_count": 5,
     "metadata": {},
     "output_type": "execute_result"
    }
   ],
   "source": [
    "(num1 + num2) / 2"
   ]
  },
  {
   "cell_type": "code",
   "execution_count": null,
   "id": "08222c31-5369-4801-b65b-4733726f534b",
   "metadata": {
    "editable": true,
    "slideshow": {
     "slide_type": ""
    },
    "tags": []
   },
   "outputs": [],
   "source": []
  },
  {
   "cell_type": "code",
   "execution_count": null,
   "id": "d84a4c83-e628-4d28-a559-883c3af78a13",
   "metadata": {
    "editable": true,
    "slideshow": {
     "slide_type": ""
    },
    "tags": []
   },
   "outputs": [],
   "source": []
  },
  {
   "cell_type": "markdown",
   "id": "a63a1efe-8635-45a9-8beb-9c9d05fad193",
   "metadata": {},
   "source": [
    "### Powerful primitives and builtin functions"
   ]
  },
  {
   "cell_type": "code",
   "execution_count": 6,
   "id": "57b9fab6-d2bd-4ebf-a191-eb83f81d6a0b",
   "metadata": {},
   "outputs": [
    {
     "data": {
      "text/plain": [
       "75.0"
      ]
     },
     "execution_count": 6,
     "metadata": {},
     "output_type": "execute_result"
    }
   ],
   "source": [
    "grades = [80, 90, 70, 60]\n",
    "avg = sum(grades) / len(grades)\n",
    "avg"
   ]
  },
  {
   "cell_type": "code",
   "execution_count": null,
   "id": "1e3e7128-4902-4ee8-b83b-0e2bbfc31764",
   "metadata": {},
   "outputs": [],
   "source": []
  },
  {
   "cell_type": "markdown",
   "id": "719d9567-6585-4794-89ba-e314cc8e148e",
   "metadata": {},
   "source": [
    "### For loops"
   ]
  },
  {
   "cell_type": "code",
   "execution_count": 7,
   "id": "e097b267-e125-4f0f-bb06-5e6ef837fb48",
   "metadata": {},
   "outputs": [
    {
     "data": {
      "text/plain": [
       "75.0"
      ]
     },
     "execution_count": 7,
     "metadata": {},
     "output_type": "execute_result"
    }
   ],
   "source": [
    "total = 0\n",
    "for grade in grades:\n",
    "    total = total + grade\n",
    "avg = total / len(grades)\n",
    "avg"
   ]
  },
  {
   "cell_type": "code",
   "execution_count": null,
   "id": "31dca516-7c74-42a8-9b93-44098a0249df",
   "metadata": {
    "editable": true,
    "slideshow": {
     "slide_type": ""
    },
    "tags": []
   },
   "outputs": [],
   "source": []
  },
  {
   "cell_type": "markdown",
   "id": "960b0808-0fff-47eb-9d7e-9069d3074c14",
   "metadata": {
    "editable": true,
    "slideshow": {
     "slide_type": ""
    },
    "tags": []
   },
   "source": [
    "### Functions"
   ]
  },
  {
   "cell_type": "markdown",
   "id": "92fff3a7-8337-4f7a-945d-80b93292f18e",
   "metadata": {},
   "source": [
    "Python functions are ..."
   ]
  },
  {
   "cell_type": "markdown",
   "id": "31e5063f-59da-423e-a7ba-60f9e1906af3",
   "metadata": {},
   "source": [
    "To **define** the Python function,\n",
    "we use the `def` keyword followed by the function name,\n",
    "then we then specify the function input in parentheses,\n",
    "and end with the symbol `:`,\n",
    "which tells us \"body\" of the function is about to start.\n",
    "The function body is a four-spaces-indented code block that specifies all the\n",
    "calculations the function performs,\n",
    "and ends with a `return` statement for the output of the function.\n",
    "\n",
    "```\n",
    "def <fname>(<input>):\n",
    "    <fcalc 1>\n",
    "    <fcalc 2>\n",
    "    <fcalc ...>\n",
    "    return <output>\n",
    "```"
   ]
  },
  {
   "cell_type": "markdown",
   "id": "f5142273-ad49-459a-8b55-32ffccee1db1",
   "metadata": {},
   "source": [
    "#### Example 1: sample mean\n",
    "\n",
    "We want to define a Python function `mean` that computes the mean from a given sample (a list of values).\n",
    "\n",
    "The mathematical definition of the mean is $\\mathbf{Mean}(\\mathbf{x}) = \\frac{1}{n}  \\sum_{i=1}^{i=n} x_i$,\n",
    "where $\\mathbf{x} = [x_1, x_2, x_3, \\ldots, x_n]$ is a sample of size $n$ (a list of values).\n",
    "\n",
    "The code for the function is as follows:"
   ]
  },
  {
   "cell_type": "code",
   "execution_count": 8,
   "id": "ab6e7d58-79f9-4afd-9f85-b814b45eb1bb",
   "metadata": {
    "editable": true,
    "slideshow": {
     "slide_type": ""
    },
    "tags": []
   },
   "outputs": [],
   "source": [
    "def mean(values):\n",
    "    total = 0\n",
    "    for value in values:\n",
    "        total = total + value\n",
    "    avg = total / len(values)\n",
    "    return avg"
   ]
  },
  {
   "cell_type": "markdown",
   "id": "346a10de-ad20-425a-b65b-c471874a7d3e",
   "metadata": {
    "editable": true,
    "slideshow": {
     "slide_type": ""
    },
    "tags": []
   },
   "source": [
    "To **call** the function `mean` with input `grades`, we use the Python code `mean(grades)`."
   ]
  },
  {
   "cell_type": "code",
   "execution_count": 9,
   "id": "ab56d567-0758-4b70-9b97-fb2cd1283deb",
   "metadata": {
    "editable": true,
    "slideshow": {
     "slide_type": ""
    },
    "tags": []
   },
   "outputs": [
    {
     "data": {
      "text/plain": [
       "75.0"
      ]
     },
     "execution_count": 9,
     "metadata": {},
     "output_type": "execute_result"
    }
   ],
   "source": [
    "grades = [80, 90, 70, 60]\n",
    "mean(grades)"
   ]
  },
  {
   "cell_type": "code",
   "execution_count": null,
   "id": "bf781976-47b4-4a89-9f99-fdda0c48dd8a",
   "metadata": {},
   "outputs": [],
   "source": []
  },
  {
   "cell_type": "markdown",
   "id": "795538a1-fa68-43c8-b8ce-461d67d57842",
   "metadata": {
    "editable": true,
    "slideshow": {
     "slide_type": ""
    },
    "tags": []
   },
   "source": [
    "#### Exmample 2: math function (bonus topic)\n",
    "\n",
    "In math, \n",
    "a function is a mapping from input values (usually denoted x) to output values (usually denoted y).\n",
    "Consider the mapping that doubles the input and adds five to it,\n",
    "which we can express as the math function $f(x) = 2x+5$.\n",
    "For any input $x$,\n",
    "the output of the function $f$ is denoted $f(x)$ and is equal to $2x+5$.\n",
    "For example, $f(3)$ describes the output of the function when the input is $x=3$,\n",
    "and it is equal to $2(3)+5 = 6 + 5 = 11$.\n",
    "The Python equivalent of the math function $f(x) = 2x+5$ is shown below. "
   ]
  },
  {
   "cell_type": "code",
   "execution_count": 10,
   "id": "00fd3024-4329-4899-af02-2023a5e722f1",
   "metadata": {},
   "outputs": [],
   "source": [
    "def f(x):\n",
    "    y = 2*x + 5\n",
    "    return y"
   ]
  },
  {
   "cell_type": "markdown",
   "id": "87abe9ef-97b1-4744-816b-7619539eff4e",
   "metadata": {},
   "source": [
    "To **call** the function `f` with input `x`, we simply writhe `f(x)` in Python,\n",
    "which is the same as the math notation we use for \"evaluate the function at the value x.\""
   ]
  },
  {
   "cell_type": "code",
   "execution_count": 11,
   "id": "88d9656c-913f-4617-999b-d98460ec070d",
   "metadata": {},
   "outputs": [
    {
     "data": {
      "text/plain": [
       "11"
      ]
     },
     "execution_count": 11,
     "metadata": {},
     "output_type": "execute_result"
    }
   ],
   "source": [
    "f(3)"
   ]
  },
  {
   "cell_type": "code",
   "execution_count": null,
   "id": "5c4a84ba-e05d-4714-a525-8a2640147321",
   "metadata": {},
   "outputs": [],
   "source": []
  },
  {
   "cell_type": "markdown",
   "id": "2483aa87-3da4-4b21-9f1c-be9899ba851f",
   "metadata": {},
   "source": [
    "## Why do you need coding for statistics?"
   ]
  },
  {
   "cell_type": "markdown",
   "id": "3fdcf50f-49c5-4368-a924-ce53289cf298",
   "metadata": {},
   "source": [
    "### Data visualization"
   ]
  },
  {
   "cell_type": "code",
   "execution_count": 12,
   "id": "a70a4bc4-50a7-4b50-8706-b2295bf57eb4",
   "metadata": {},
   "outputs": [],
   "source": [
    "prices = [11.8, 10, 11, 8.6, 8.3, 9.4, 8, 6.8, 8.5]"
   ]
  },
  {
   "cell_type": "code",
   "execution_count": 13,
   "id": "5891ee22-6a6c-416d-a1bb-b283bb6a6519",
   "metadata": {},
   "outputs": [
    {
     "data": {
      "text/plain": [
       "<Axes: >"
      ]
     },
     "execution_count": 13,
     "metadata": {},
     "output_type": "execute_result"
    },
    {
     "data": {
      "image/png": "[encoded data removed]",
      "text/plain": [
       "<Figure size 640x480 with 1 Axes>"
      ]
     },
     "metadata": {},
     "output_type": "display_data"
    }
   ],
   "source": [
    "import seaborn as sns\n",
    "sns.stripplot(x=prices, jitter=0)"
   ]
  },
  {
   "cell_type": "code",
   "execution_count": 14,
   "id": "02caade4-678c-4681-893b-04e22a865903",
   "metadata": {},
   "outputs": [
    {
     "data": {
      "text/plain": [
       "<Axes: ylabel='Count'>"
      ]
     },
     "execution_count": 14,
     "metadata": {},
     "output_type": "execute_result"
    },
    {
     "data": {
      "image/png": "[encoded data removed]",
      "text/plain": [
       "<Figure size 640x480 with 1 Axes>"
      ]
     },
     "metadata": {},
     "output_type": "display_data"
    }
   ],
   "source": [
    "sns.histplot(x=prices)"
   ]
  },
  {
   "cell_type": "code",
   "execution_count": 15,
   "id": "8455cb4d-6c7b-4341-80a2-bd67126f5383",
   "metadata": {},
   "outputs": [
    {
     "data": {
      "text/plain": [
       "<Axes: >"
      ]
     },
     "execution_count": 15,
     "metadata": {},
     "output_type": "execute_result"
    },
    {
     "data": {
      "image/png": "[encoded data removed]",
      "text/plain": [
       "<Figure size 640x480 with 1 Axes>"
      ]
     },
     "metadata": {},
     "output_type": "display_data"
    }
   ],
   "source": [
    "sns.boxplot(x=prices)"
   ]
  },
  {
   "cell_type": "code",
   "execution_count": null,
   "id": "821cd7f4-9a4a-4c0f-b541-26c5b24abc6f",
   "metadata": {},
   "outputs": [],
   "source": []
  },
  {
   "cell_type": "code",
   "execution_count": null,
   "id": "8e2d5bc9-fb90-4076-af3a-5d1199767b42",
   "metadata": {},
   "outputs": [],
   "source": []
  },
  {
   "cell_type": "markdown",
   "id": "d501518b-8e77-4f7d-9346-82f3c071c1e0",
   "metadata": {},
   "source": [
    "### Descriptive statistics"
   ]
  },
  {
   "cell_type": "markdown",
   "id": "5727115b-f58d-44ca-bf14-98eca6ac0ea4",
   "metadata": {
    "editable": true,
    "slideshow": {
     "slide_type": ""
    },
    "tags": []
   },
   "source": [
    "#### Data manipulations using Pandas"
   ]
  },
  {
   "cell_type": "code",
   "execution_count": 16,
   "id": "e4b22ff8-db8a-413b-bc55-61f2b64a0de9",
   "metadata": {},
   "outputs": [
    {
     "name": "stdout",
     "output_type": "stream",
     "text": [
      "   East  West\n",
      "0   7.7  11.8\n",
      "1   5.9  10.0\n",
      "2   7.0  11.0\n",
      "3   4.8   8.6\n",
      "4   6.3   8.3\n",
      "5   6.3   9.4\n",
      "6   5.5   8.0\n",
      "7   5.4   6.8\n",
      "8   6.5   8.5\n"
     ]
    }
   ],
   "source": [
    "import pandas as pd\n",
    "epriceswide = pd.read_csv(\"https://nobsstats.com/datasets/epriceswide.csv\")\n",
    "print(epriceswide)"
   ]
  },
  {
   "cell_type": "code",
   "execution_count": 17,
   "id": "386037ed-cadc-455c-81b7-7877bbbbd706",
   "metadata": {},
   "outputs": [
    {
     "data": {
      "text/plain": [
       "pandas.core.frame.DataFrame"
      ]
     },
     "execution_count": 17,
     "metadata": {},
     "output_type": "execute_result"
    }
   ],
   "source": [
    "type(epriceswide)"
   ]
  },
  {
   "cell_type": "markdown",
   "id": "3b7b850f-2022-4a84-ab3b-bf7bf145cd7b",
   "metadata": {},
   "source": [
    "We want to extract only the second column which is called \"West\":"
   ]
  },
  {
   "cell_type": "code",
   "execution_count": 18,
   "id": "38c52689-1b5a-4053-8f76-c10a7b76cd72",
   "metadata": {
    "editable": true,
    "slideshow": {
     "slide_type": ""
    },
    "tags": []
   },
   "outputs": [
    {
     "data": {
      "text/plain": [
       "0    11.8\n",
       "1    10.0\n",
       "2    11.0\n",
       "3     8.6\n",
       "4     8.3\n",
       "5     9.4\n",
       "6     8.0\n",
       "7     6.8\n",
       "8     8.5\n",
       "Name: West, dtype: float64"
      ]
     },
     "execution_count": 18,
     "metadata": {},
     "output_type": "execute_result"
    }
   ],
   "source": [
    "pricesW = epriceswide[\"West\"]\n",
    "pricesW"
   ]
  },
  {
   "cell_type": "code",
   "execution_count": 19,
   "id": "927b21a6-7b75-4ac5-b93c-2b5632e0b608",
   "metadata": {
    "editable": true,
    "slideshow": {
     "slide_type": ""
    },
    "tags": []
   },
   "outputs": [
    {
     "data": {
      "text/plain": [
       "pandas.core.series.Series"
      ]
     },
     "execution_count": 19,
     "metadata": {},
     "output_type": "execute_result"
    }
   ],
   "source": [
    "type(pricesW)"
   ]
  },
  {
   "cell_type": "code",
   "execution_count": 20,
   "id": "cd3b487a-545b-4680-b315-2e7d0471d63d",
   "metadata": {},
   "outputs": [],
   "source": [
    "# # ALT. we can input data by specifying lists of values\n",
    "# pricesW = pd.Series([11.8,10,11,8.6,8.3,9.4,8,6.8,8.5])"
   ]
  },
  {
   "cell_type": "code",
   "execution_count": null,
   "id": "5cba1717-1e3b-4f94-b908-9c15381ce079",
   "metadata": {},
   "outputs": [],
   "source": []
  },
  {
   "cell_type": "markdown",
   "id": "a70b603e-1fcd-4271-8c56-ba75ba5b2b4e",
   "metadata": {},
   "source": [
    "#### Descriptive statistics using pandas"
   ]
  },
  {
   "cell_type": "code",
   "execution_count": 21,
   "id": "70075246-d2b0-48f0-9c26-b00b20c05bc7",
   "metadata": {
    "editable": true,
    "slideshow": {
     "slide_type": ""
    },
    "tags": []
   },
   "outputs": [
    {
     "data": {
      "text/plain": [
       "9"
      ]
     },
     "execution_count": 21,
     "metadata": {},
     "output_type": "execute_result"
    }
   ],
   "source": [
    "pricesW.count()"
   ]
  },
  {
   "cell_type": "code",
   "execution_count": 22,
   "id": "4bf01229-90ea-4352-a26e-7d4fa6c766c2",
   "metadata": {
    "editable": true,
    "slideshow": {
     "slide_type": ""
    },
    "tags": []
   },
   "outputs": [
    {
     "data": {
      "text/plain": [
       "9.155555555555557"
      ]
     },
     "execution_count": 22,
     "metadata": {},
     "output_type": "execute_result"
    }
   ],
   "source": [
    "pricesW.mean()"
   ]
  },
  {
   "cell_type": "code",
   "execution_count": 23,
   "id": "083041a3-4007-4ccd-aec5-2dbaba3fd41b",
   "metadata": {},
   "outputs": [
    {
     "data": {
      "text/plain": [
       "8.6"
      ]
     },
     "execution_count": 23,
     "metadata": {},
     "output_type": "execute_result"
    }
   ],
   "source": [
    "pricesW.median()"
   ]
  },
  {
   "cell_type": "code",
   "execution_count": 24,
   "id": "aaff543c-6428-48b7-922a-3b3273324402",
   "metadata": {
    "editable": true,
    "slideshow": {
     "slide_type": ""
    },
    "tags": []
   },
   "outputs": [
    {
     "data": {
      "text/plain": [
       "1.5621388471508475"
      ]
     },
     "execution_count": 24,
     "metadata": {},
     "output_type": "execute_result"
    }
   ],
   "source": [
    "pricesW.std()"
   ]
  },
  {
   "cell_type": "code",
   "execution_count": 25,
   "id": "81a08643-8207-4130-93f8-8e9227f54c2e",
   "metadata": {
    "editable": true,
    "slideshow": {
     "slide_type": ""
    },
    "tags": []
   },
   "outputs": [
    {
     "data": {
      "text/plain": [
       "count     9.000000\n",
       "mean      9.155556\n",
       "std       1.562139\n",
       "min       6.800000\n",
       "25%       8.300000\n",
       "50%       8.600000\n",
       "75%      10.000000\n",
       "max      11.800000\n",
       "Name: West, dtype: float64"
      ]
     },
     "execution_count": 25,
     "metadata": {},
     "output_type": "execute_result"
    }
   ],
   "source": [
    "pricesW.describe()"
   ]
  },
  {
   "cell_type": "code",
   "execution_count": null,
   "id": "0060b041-0300-4c5d-b92b-49e0b7f26511",
   "metadata": {
    "editable": true,
    "slideshow": {
     "slide_type": ""
    },
    "tags": []
   },
   "outputs": [],
   "source": []
  },
  {
   "cell_type": "markdown",
   "id": "345999ef-eab8-4c4d-b590-38cffc41460f",
   "metadata": {
    "editable": true,
    "slideshow": {
     "slide_type": ""
    },
    "tags": []
   },
   "source": [
    "### Data cleaning"
   ]
  },
  {
   "cell_type": "code",
   "execution_count": null,
   "id": "c63e5acf-1ba4-4ee7-a392-cea2a5be8b13",
   "metadata": {},
   "outputs": [],
   "source": []
  },
  {
   "cell_type": "markdown",
   "id": "d23d66f9-3842-41c4-b6d4-48e039a9c42b",
   "metadata": {},
   "source": [
    "## How much Python do you need to know?\n",
    "\n",
    "I remind you the key aspect is to learn how to use Python as a calculator.\n",
    "\n",
    "I talked about the `for`-loops and function definitions only to make sure you can **read Python code**,\n",
    "but you don't need to write any such code to learn statistics.\n",
    "As long as you know how to call functions and run code cells in a notebook,\n",
    "then you'll still benefit from all the educational power that Python has to offer.\n",
    "\n"
   ]
  },
  {
   "cell_type": "markdown",
   "id": "28fae377-556f-4e40-b477-5add145298ea",
   "metadata": {},
   "source": [
    "## Conclusion\n",
    "\n",
    "Python = good for your life!"
   ]
  },
  {
   "cell_type": "markdown",
   "id": "e959a84d-532e-4138-9652-239cf888d279",
   "metadata": {},
   "source": [
    "## Links\n",
    "\n",
    "- Book website [noBSstats.com](https://nobsstats.com/intro.html): contains all the notebooks, demos, and visualizations from the book.\n",
    "- [Detailed book outline](https://docs.google.com/document/d/1fwep23-95U-w1QMPU31nOvUnUXE2X3s_Dbk5JuLlKAY/edit): continuously updated list of the topics that are covered in each section\n",
    "- [Python tutorial](https://nobsstats.com/tutorials/python_tutorial.html): introduction to Python syntax, data types, functions and other constructs.\n",
    "  See also the [Pandas tutorial](https://nobsstats.com/tutorials/pandas_tutorial.html) (WIP) and the [Seaborn tutorial](https://nobsstats.com/tutorials/seaborn_tutorial.html) (WIP).\n",
    "- Previous blog posts about statistics book:\n",
    "  - [Outline of the stats curriculum research](https://minireference.com/blog/fixing-the-introductory-statistics-curriculum/)\n",
    "  - [Book proposal](https://minireference.com/blog/no-bullshit-guide-to-statistics-progress-update/)\n",
    "  - [Stats survey results](https://minireference.com/blog/what-stats-do-people-want-to-learn/)\n",
    "  - [Python coding skills for statistics - PART 2](https://docs.google.com/document/d/1XusbfJoZ7CQxbeWPPXMM84BA-VeUn8lkPUuUy7RcW8M/edit): probability and statistics procedures\n",
    "  - PART 3: coming soon"
   ]
  },
  {
   "cell_type": "code",
   "execution_count": null,
   "id": "87d99089-d5ef-4202-81ab-0b6634e21ede",
   "metadata": {},
   "outputs": [],
   "source": []
  },
  {
   "cell_type": "markdown",
   "id": "77d4957e-93ec-4dac-b79f-4ef446e01a44",
   "metadata": {
    "editable": true,
    "slideshow": {
     "slide_type": ""
    },
    "tags": []
   },
   "source": [
    "### Python error messages"
   ]
  },
  {
   "cell_type": "code",
   "execution_count": 26,
   "id": "9753d6e6-ed60-4991-b1ff-877bc0a3f8c7",
   "metadata": {
    "editable": true,
    "slideshow": {
     "slide_type": ""
    },
    "tags": [
     "raises-exception"
    ]
   },
   "outputs": [
    {
     "ename": "ZeroDivisionError",
     "evalue": "division by zero",
     "output_type": "error",
     "traceback": [
      "\u001b[0;31m---------------------------------------------------------------------------\u001b[0m",
      "\u001b[0;31mZeroDivisionError\u001b[0m                         Traceback (most recent call last)",
      "Cell \u001b[0;32mIn[26], line 1\u001b[0m\n\u001b[0;32m----> 1\u001b[0m \u001b[38;5;241;43m3\u001b[39;49m\u001b[38;5;241;43m/\u001b[39;49m\u001b[38;5;241;43m0\u001b[39;49m\n",
      "\u001b[0;31mZeroDivisionError\u001b[0m: division by zero"
     ]
    }
   ],
   "source": [
    "3/0"
   ]
  }
 ],
 "metadata": {
  "kernelspec": {
   "display_name": "Python 3 (ipykernel)",
   "language": "python",
   "name": "python3"
  },
  "language_info": {
   "codemirror_mode": {
    "name": "ipython",
    "version": 3
   },
   "file_extension": ".py",
   "mimetype": "text/x-python",
   "name": "python",
   "nbconvert_exporter": "python",
   "pygments_lexer": "ipython3",
   "version": "3.9.4"
  }
 },
 "nbformat": 4,
 "nbformat_minor": 5
}
