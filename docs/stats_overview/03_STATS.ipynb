{
 "cells": [
  {
   "cell_type": "markdown",
   "id": "2344313a-532d-4d6a-a0f5-b3635d40d120",
   "metadata": {},
   "source": [
    "# Chapter 3: Inferential statistics\n",
    "\n",
    "[Link to book outline](https://docs.google.com/document/d/1fwep23-95U-w1QMPU31nOvUnUXE2X3s_Dbk5JuLlKAY/edit#heading=h.chm9v0ef9ilf)\n",
    "\n",
    "See video explanations here:  \n",
    "[![](https://img.youtube.com/vi/DwjWJcA2Qss/mqdefault.jpg)](https://www.youtube.com/watch?v=DwjWJcA2Qss&list=PLGmu4KtWiH680gMQnSbSADBuLnoyBUVFg&index=3)\n",
    "\n",
    "Concept map:  \n",
    "![concepts_STATS.png](figures/conceptmaps/concepts_STATS.png)"
   ]
  },
  {
   "cell_type": "markdown",
   "id": "475176b1-cbc3-440f-8600-5a84cf5ff79e",
   "metadata": {
    "tags": []
   },
   "source": [
    "#### Notebook setup"
   ]
  },
  {
   "cell_type": "code",
   "execution_count": 1,
   "id": "4c99c1c2-be41-41d3-94a8-154a7998999f",
   "metadata": {},
   "outputs": [],
   "source": [
    "# loading Python modules\n",
    "import math\n",
    "import random\n",
    "import numpy as np\n",
    "import pandas as pd\n",
    "import seaborn as sns\n",
    "from scipy.stats import norm\n",
    "\n",
    "# set random seed for repeatability\n",
    "np.random.seed(42)\n",
    "\n",
    "# notebooks figs setup\n",
    "%matplotlib inline\n",
    "%config InlineBackend.figure_format='retina'\n",
    "import matplotlib.pyplot as plt\n",
    "sns.set(rc={'figure.figsize':(8,5)})\n",
    "blue, orange  = sns.color_palette()[0], sns.color_palette()[1]"
   ]
  },
  {
   "cell_type": "markdown",
   "id": "8d3c0e8c-9e68-4f2e-ae85-1146cb546576",
   "metadata": {},
   "source": [
    "## Overview\n",
    "\n",
    "- Main idea = learn about a population based on a sample\n",
    "- Recall Amy's two research questions about the employee lifetime value (ELV) data:\n",
    "  - Question 1 = Is there a difference between ELV of the two groups? → **hypothesis testing**\n",
    "  - Question 2 = How much difference in ELV does stats training provide? → **estimation**\n",
    "- Inferential statistics provides us with tools to answer both of these questions"
   ]
  },
  {
   "cell_type": "markdown",
   "id": "4ae8d8c7-49f3-4bda-bf07-adad118d88ee",
   "metadata": {},
   "source": [
    "## Estimators\n",
    "\n",
    "We'll begin our study of inferential statistics by introducing **estimators**,\n",
    "which are the math tools used for both **estimation**  and **hypothesis testing**.\n",
    "\n",
    "![simplified_estimators.png](./figures/simplified_estimators.png)"
   ]
  },
  {
   "cell_type": "markdown",
   "id": "cea32157-5715-4a61-bc6e-67f386e93567",
   "metadata": {},
   "source": [
    " "
   ]
  },
  {
   "cell_type": "markdown",
   "id": "0edad4f6-7fea-4f18-8198-393ec6ae7514",
   "metadata": {},
   "source": [
    " "
   ]
  },
  {
   "cell_type": "markdown",
   "id": "2b00a75f-4ebb-4e20-9476-fd6e1596b706",
   "metadata": {},
   "source": [
    "$\\def\\stderr#1{\\mathbf{se}_{#1}}$\n",
    "$\\def\\stderrhat#1{\\hat{\\mathbf{se}}_{#1}}$\n",
    "\n",
    "### Definitions\n",
    "\n",
    "- We use the term \"estimator\" to describe a function $g$ that takes samples as inputs\n",
    "  and produces parameter estimates as outputs.\n",
    "  Written mathematically, and estimator is a function of the form:\n",
    "  $$\n",
    "   g \\colon \\underbrace{\\mathcal{X}\\times \\mathcal{X}\\times \\cdots \\times \\mathcal{X}}_{n \\textrm{ copies}}\n",
    "   \\quad \\to \\quad \\mathbb{R},\n",
    "  $$\n",
    "  where $n$ is the samples size and $\\mathcal{X}$ denotes the possible values of the random variable $X$.\n",
    "- We give different names to estimates, depending on the use case:\n",
    "  - **statistic** = a quantity computed from a sample (e.g. descriptive statistics)\n",
    "  - **parameter estimates** = statistics that estimate population parameters\n",
    "  - **test statistic** = an estimate used as part of hypothesis testing procedure\n",
    "- The **value** of the estimator $g(\\mathbf{x})$ is computed from a particular sample\n",
    "  $\\mathbf{x} = (x_1, x_2, \\ldots, x_n)$.\n",
    "- The **sampling distribution** of the estimator $g$ is the distribution of $g(\\mathbf{X})$,\n",
    "  where $\\mathbf{X} = (X_1, X_2, \\ldots, X_n)$ is a *random sample*.\n",
    "- Example of estimators you're already familiar with (discussed in descriptive statistics):\n",
    "  - Sample mean\n",
    "    - estimator: $\\overline{\\mathbf{x}} = g(\\mathbf{x}) = \\frac{1}{n}\\sum_{i=1}^n x_i$\n",
    "    - gives an estimate for the population mean $\\mu$\n",
    "    - sampling distribution: $\\overline{\\mathbf{X}} = g(\\mathbf{X}) = \\frac{1}{n}\\sum_{i=1}^n X_i$\n",
    "  - Sample variance\n",
    "    - estimator: $s_{\\mathbf{x}}^2 = h(\\mathbf{x}) = \\frac{1}{n-1}\\sum_{i=1}^n (x_i-\\overline{\\mathbf{x}})^2$\n",
    "    - gives an estimate for the population variance $\\sigma^2$\n",
    "    - sampling distribution: $S_{\\mathbf{X}}^2 = h(\\mathbf{X}) = \\frac{1}{n-1}\\sum_{i=1}^n (X_i-\\overline{\\mathbf{X}})^2$\n",
    "    \n",
    "- In this notebook we focus on one estimator: **difference between group means**\n",
    "    - estimator: $d = \\texttt{mean}(\\mathbf{x}_A) - \\texttt{mean}(\\mathbf{x}_{B}) = \\overline{\\mathbf{x}}_{A} - \\overline{\\mathbf{x}}_{B}$\n",
    "    - gives an estimate for the difference between population means: $\\Delta =  \\mu_A - \\mu_{B}$\n",
    "    - sampling distribution: $D = \\overline{\\mathbf{X}}_A - \\overline{\\mathbf{X}}_{B}$, which is a random variable\n",
    "    \n",
    "<!-- CONVENTION: \n",
    "     In the book we'll use \\hat{d} and \\hat{D},\n",
    "     but in this notebook we'll keep the d and D to avoid changing notation -->"
   ]
  },
  {
   "cell_type": "markdown",
   "id": "8884d7c1-1930-4d1b-8f68-62a379a0dac2",
   "metadata": {},
   "source": [
    " "
   ]
  },
  {
   "cell_type": "markdown",
   "id": "30051605-7324-44f6-b8c2-dd9543ca05c2",
   "metadata": {},
   "source": [
    " "
   ]
  },
  {
   "cell_type": "markdown",
   "id": "9f7b8feb-955e-4f74-a9dd-8b2423788e3a",
   "metadata": {},
   "source": [
    "### Difference between group means\n",
    "\n",
    "Consider two normally distributed random variables $X_A$ and $X_B$:\n",
    "$$ \n",
    "X_A \\sim \\mathcal{N}\\!\\left(\\mu_A, \\sigma_A \\right)\n",
    "\\qquad\n",
    "\\textrm{and}\n",
    "\\qquad\n",
    "X_B \\sim \\mathcal{N}\\!\\left(\\mu_B, \\sigma_B \\right)\n",
    "$$\n",
    "that describe the probability distribution for groups A and B, respectively.\n",
    "\n",
    "- A sample of size $n_A$ from $X_A$ is denoted $\\mathbf{x}_A = (x_1, x_2, \\ldots, x_{n_A})$=`xA`,\n",
    "  and let $\\mathbf{x}_B = (x_1, x_2, \\ldots, x_{n_B})$=`xB` be a random sample of size $n_B$ from $X_B$.\n",
    "- We compute the mean in each group: $\\overline{\\mathbf{x}}_{A} = \\texttt{mean}(\\mathbf{x}_A)$\n",
    "  and $\\overline{\\mathbf{x}}_{B} = \\texttt{mean}(\\mathbf{x}_B)$\n",
    "- The value of the estimator is $d = \\overline{\\mathbf{x}}_{A} - \\overline{\\mathbf{x}}_{B}$"
   ]
  },
  {
   "cell_type": "code",
   "execution_count": 2,
   "id": "f7ce71c2-dc0e-4ff6-9c7b-3929f85bb2b0",
   "metadata": {},
   "outputs": [],
   "source": [
    "def dmeans(xA, xB):\n",
    "    \"\"\"\n",
    "    Estimator for the difference between group means.\n",
    "    \"\"\"\n",
    "    d = np.mean(xA) - np.mean(xB)\n",
    "    return d"
   ]
  },
  {
   "cell_type": "markdown",
   "id": "eae918f7-aaf1-4845-966e-1998dcb2eee6",
   "metadata": {},
   "source": [
    "Note the difference between group means is precisely the estimator Amy need for her analysis (**Group S** and **Group NS**). We intentionally use the labels **A** and **B** to illustrate the general case."
   ]
  },
  {
   "cell_type": "code",
   "execution_count": 3,
   "id": "c8cf0e95-3fa1-4bb1-af3c-89d395fcf2df",
   "metadata": {},
   "outputs": [],
   "source": [
    "# example parameters for each group\n",
    "muA, sigmaA = 300, 10\n",
    "muB, sigmaB = 200, 20\n",
    "\n",
    "# size of samples for each group\n",
    "nA = 5\n",
    "nB = 4"
   ]
  },
  {
   "cell_type": "markdown",
   "id": "4b8cce20-926c-4e6b-9587-ebd066d93d4e",
   "metadata": {},
   "source": [
    "#### Particular value of the estimator `dmeans`"
   ]
  },
  {
   "cell_type": "code",
   "execution_count": 4,
   "id": "6de5f5bc-775f-490c-8768-6bc8ed2feaee",
   "metadata": {},
   "outputs": [
    {
     "data": {
      "text/plain": [
       "96.37484873437"
      ]
     },
     "execution_count": 4,
     "metadata": {},
     "output_type": "execute_result"
    }
   ],
   "source": [
    "xA = norm(muA, sigmaA).rvs(nA)  # random sample from Group A\n",
    "xB = norm(muB, sigmaB).rvs(nB)  # random sample from Group B\n",
    "\n",
    "d = dmeans(xA, xB)\n",
    "d"
   ]
  },
  {
   "cell_type": "markdown",
   "id": "8dacba73-fd70-4eb0-adf8-bc93209f5854",
   "metadata": {},
   "source": [
    "The value of $d$ computed from the samples is an estimate for the difference between means of two groups: $\\Delta =  \\mu_A - \\mu_{B}$ (which we know is $100$ in this example)."
   ]
  },
  {
   "cell_type": "markdown",
   "id": "11fde38f-cda0-4771-b8d7-e7f4df4f1cf9",
   "metadata": {},
   "source": [
    "#### Sampling distribution of the estimator `dmeans`\n",
    "\n",
    "How well does the estimate $d$ approximate the true value $\\Delta$?\n",
    "**What is the accuracy and variability of the estimates we can expect?**\n",
    "\n",
    "To answer these questions, consider the random samples\n",
    "$\\mathbf{X}_A = (X_1, X_2, \\ldots, X_{n_A})$\n",
    "and $\\mathbf{X}_B = (X_1, X_2, \\ldots, X_{n_B})$,\n",
    "then compute the **sampling distribution**: $D = \\overline{\\mathbf{X}}_A - \\overline{\\mathbf{X}}_{B}$.\n",
    "\n",
    "By definition, the sampling distribution of the estimator is obtained by repeatedly generating samples `xA` and `xB` from the two distributions and computing `dmeans` on the random samples. For example, we can obtain the sampling distribution by generating $N=1000$ samples."
   ]
  },
  {
   "cell_type": "code",
   "execution_count": 5,
   "id": "16bb6456-0387-43d1-b897-6ccf738d15e9",
   "metadata": {},
   "outputs": [],
   "source": [
    "def get_sampling_dist(statfunc, meanA, stdA, nA, meanB, stdB, nB, N=1000):\n",
    "    \"\"\"\n",
    "    Obtain the sampling distribution of the statistic `statfunc`\n",
    "    from `N` random samples drawn from groups A and B with parmeters:\n",
    "      - Group A: `nA` values taken from `norm(meanA, stdA)`\n",
    "      - Group B: `nB` values taken from `norm(meanB, stdB)`\n",
    "    \"\"\"\n",
    "    stats = [] \n",
    "    for i in range(0, N):\n",
    "        xA = norm(meanA, stdA).rvs(nA)  # random sample from Group A\n",
    "        xB = norm(meanB, stdB).rvs(nB)  # random sample from Group B\n",
    "        stat = statfunc(xA, xB)         # evaluate `statfunc`\n",
    "        stats.append(stat)      # record the value of statfunc\n",
    "    return stats"
   ]
  },
  {
   "cell_type": "code",
   "execution_count": 6,
   "id": "0c3a4402-d4b6-44f5-a959-21c1f255c571",
   "metadata": {},
   "outputs": [
    {
     "name": "stdout",
     "output_type": "stream",
     "text": [
      "Generated 1000 values from `dmeans(XA, XB)`\n"
     ]
    }
   ],
   "source": [
    "# Generate the sampling distirbution for dmeans\n",
    "dmeans_sdist = get_sampling_dist(statfunc=dmeans,\n",
    "                                 meanA=muA, stdA=sigmaA, nA=nA,\n",
    "                                 meanB=muB, stdB=sigmaB, nB=nB)\n",
    "\n",
    "print(\"Generated\", len(dmeans_sdist), \"values from `dmeans(XA, XB)`\")"
   ]
  },
  {
   "cell_type": "code",
   "execution_count": 7,
   "id": "477c46e7-4d2b-4c1a-9d67-c76e24afc350",
   "metadata": {},
   "outputs": [
    {
     "data": {
      "text/plain": [
       "[110.81313499568878, 113.02015528478827, 108.81540875963461]"
      ]
     },
     "execution_count": 7,
     "metadata": {},
     "output_type": "execute_result"
    }
   ],
   "source": [
    "# first 3 values\n",
    "dmeans_sdist[0:3]"
   ]
  },
  {
   "cell_type": "markdown",
   "id": "2aaec55a-4028-4a19-92cd-8144803020ab",
   "metadata": {},
   "source": [
    "#### Plot the sampling distribution of `dmeans`"
   ]
  },
  {
   "cell_type": "code",
   "execution_count": 8,
   "id": "63f2d604-a600-4eb0-9364-2cdbfc998964",
   "metadata": {},
   "outputs": [
    {
     "data": {
      "image/png": "[encoded data removed]",
      "text/plain": [
       "<Figure size 800x500 with 1 Axes>"
      ]
     },
     "metadata": {
      "image/png": {
       "height": 455,
       "width": 911
      }
     },
     "output_type": "display_data"
    }
   ],
   "source": [
    "ax3 = sns.histplot(dmeans_sdist, stat=\"density\")\n",
    "title3 = \"Samping distribution of D = mean($\\mathbf{X}_A$) - mean($\\mathbf{X}_B$) \" + \\\n",
    "         \"for samples of size $n_A$ = \" + str(nA) + \\\n",
    "         \" from $\\mathcal{N}$(\" + str(muA) + \",\" + str(sigmaA) + \")\" + \\\n",
    "         \" and $n_B$ = \" + str(nB) + \\\n",
    "         \" from $\\mathcal{N}$(\" + str(muB) + \",\" + str(sigmaB) + \")\"\n",
    "_ = ax3.set_title(title3)"
   ]
  },
  {
   "cell_type": "markdown",
   "id": "275cc113-a231-4d84-bd4c-a4463f44cd46",
   "metadata": {
    "tags": []
   },
   "source": [
    "#### Theoretical model for the sampling distribution of `dmeans`"
   ]
  },
  {
   "cell_type": "markdown",
   "id": "19beeb68-bfd3-401a-b363-5ffa4b516653",
   "metadata": {},
   "source": [
    "Let's now use probability theory to build a theoretical model for the sampling distribution of the difference-between-means estimator `dmeans`.\n",
    "\n",
    "- The central limit theorem tells us the sample mean within the two group are\n",
    "  $$\n",
    "  \\overline{\\mathbf{X}}_A \\sim \\mathcal{N}\\!\\left(\\mu_A, \\tfrac{\\sigma_A}{\\sqrt{n_A}} \\right)\n",
    "  \\qquad \\textrm{and} \\qquad\n",
    "  \\overline{\\mathbf{X}}_B \\sim \\mathcal{N}\\!\\left(\\mu_B, \\tfrac{\\sigma_B}{\\sqrt{n_B}} \\right).\n",
    "  $$\n",
    "\n",
    "- The rules of probability theory tells us that the [difference of two normal random variables](https://en.wikipedia.org/wiki/Sum_of_normally_distributed_random_variables#Independent_random_variables) requires subtracting their means and adding their variance, so we get:\n",
    "  $$\n",
    "  D \\sim \\mathcal{N}\\!\\left(\\mu_A - \\mu_B, \\  \\sqrt{\\tfrac{\\sigma^2_A}{n_A} + \\tfrac{\\sigma^2_B}{n_B}} \\right).\n",
    "  $$\n",
    "\n",
    "In other words, the sampling distribution for the difference between means estimator $D$ has mean and standard deviation given by:\n",
    "$$ \n",
    "   \\mu_D = \\mu_A - \\mu_B\n",
    "   \\qquad \\textrm{and} \\qquad\n",
    "   \\sigma_D = \\sqrt{ \\tfrac{\\sigma^2_A}{n_A} + \\tfrac{\\sigma^2_B}{n_B}  }.\n",
    "$$"
   ]
  },
  {
   "cell_type": "markdown",
   "id": "c51e9c5c-cf6b-4346-bef4-1305083e885f",
   "metadata": {},
   "source": [
    "Probability theory predicts the sampling distribution had mean ..."
   ]
  },
  {
   "cell_type": "code",
   "execution_count": 9,
   "id": "7dfec21c-7ef1-4f19-9fa9-08492dad3117",
   "metadata": {},
   "outputs": [
    {
     "data": {
      "text/plain": [
       "100"
      ]
     },
     "execution_count": 9,
     "metadata": {},
     "output_type": "execute_result"
    }
   ],
   "source": [
    "Dmean = muA - muB\n",
    "Dmean"
   ]
  },
  {
   "cell_type": "markdown",
   "id": "4b20af0a-6f3d-42e7-b620-f0e9da4e691b",
   "metadata": {},
   "source": [
    "... and standard deviation:"
   ]
  },
  {
   "cell_type": "code",
   "execution_count": 10,
   "id": "3efdd191-8ff1-4666-97dd-7f92b3cf27bc",
   "metadata": {},
   "outputs": [
    {
     "data": {
      "text/plain": [
       "10.954451150103322"
      ]
     },
     "execution_count": 10,
     "metadata": {},
     "output_type": "execute_result"
    }
   ],
   "source": [
    "Dstd = np.sqrt(sigmaA**2/nA + sigmaB**2/nB)\n",
    "Dstd"
   ]
  },
  {
   "cell_type": "markdown",
   "id": "7e885820-bcae-4251-ad80-a6ce28ebac50",
   "metadata": {},
   "source": [
    "Let's plot the theoretical sampling distribution \n",
    "on top of the simulated data to see if they are a good fit."
   ]
  },
  {
   "cell_type": "code",
   "execution_count": 11,
   "id": "1ee97435-1c0f-40fd-bd5f-72a09e9252f7",
   "metadata": {},
   "outputs": [
    {
     "data": {
      "image/png": "[encoded data removed]",
      "text/plain": [
       "<Figure size 800x500 with 1 Axes>"
      ]
     },
     "execution_count": 11,
     "metadata": {
      "image/png": {
       "height": 455,
       "width": 911
      }
     },
     "output_type": "execute_result"
    }
   ],
   "source": [
    "x = np.linspace(min(dmeans_sdist), max(dmeans_sdist), 10000)\n",
    "D = norm(Dmean, Dstd).pdf(x)\n",
    "label = 'Theoretical sampling distribuition'\n",
    "sns.lineplot(x=x, y=D, ax=ax3, label=label, color=blue)\n",
    "ax3.figure"
   ]
  },
  {
   "cell_type": "markdown",
   "id": "3cd4f2b1-20c1-46b5-a70f-f33feda1c241",
   "metadata": {},
   "source": [
    " \n",
    " "
   ]
  },
  {
   "cell_type": "markdown",
   "id": "3bce802c-bf1e-44a8-8f2f-31c48b4137ab",
   "metadata": {},
   "source": [
    " "
   ]
  },
  {
   "cell_type": "markdown",
   "id": "488cf490-fd8e-4e3e-85ba-19d7612d8551",
   "metadata": {
    "tags": []
   },
   "source": [
    "### Regroup and reality check\n",
    "\n",
    "How are you doing, dear readers?\n",
    "I know this was a lot of math and code, but the good news is we're done now!\n",
    "The key things to remember is that we have multiple ways of computing the sampling distribution\n",
    "for an estimator: using simulation or using math.\n",
    "Depending on what you feel more comfortable with,\n",
    "you can obtain sampling distributions either by repeatedly generating random samples from the model and compute the estimator values then plotting a histogram, or use probability theory equations to obtain an analytical formula.\n",
    "\n",
    "\n",
    "#### Why are we doing all this modelling?\n",
    "\n",
    "The estimator `dmeans` we defined above measures the quantity we're interested in: \n",
    "the difference between the means of two groups (**Group S** and **Group NS** in Amy's statistical analysis of ELV data).\n",
    "\n",
    "Using the functions we developed above, we now have the ability to simulate the data from any two groups by simply choosing the appropriate parameters. In particular if we choose `stdS=266`, `nS=30`; and `stdNS=233`, `nNS=31`,\n",
    "we can generate random data that has similar variability to Amy ELV measurements."
   ]
  },
  {
   "cell_type": "markdown",
   "id": "12cb243c-0cc3-4905-881b-5ae813f550ba",
   "metadata": {},
   "source": [
    " "
   ]
  },
  {
   "cell_type": "markdown",
   "id": "090a4178-2782-469c-b207-20977708ef56",
   "metadata": {},
   "source": [
    "Okay, dear reader, we're about to jump into the deep end of the statistics pool: **hypothesis testing**,\n",
    "which is one of the two major ideas in the STATS 101 curriculum.\n",
    "Heads up this will get complicated, but we have to go into it because it is an essential procedure\n",
    "that is used widely in science, engineering, business, and other types of research.\n",
    "You need to trust me this one: it's worth knowing this stuff, even if it is boring.\n",
    "Don't worry about it though, since you have all the prerequisites needed to get through this!\n"
   ]
  },
  {
   "cell_type": "markdown",
   "id": "e3aa09dc-2367-4302-a190-fad6a801fa7a",
   "metadata": {},
   "source": [
    "____\n",
    "\n",
    "\n",
    "Recall Amy's research Question 1: \n",
    "\n",
    "Is there a difference between ELV of the employees in **Group S** and the employees in **Group NS**?\n"
   ]
  },
  {
   "cell_type": "markdown",
   "id": "9ad62302-9539-4fa3-ad55-dfffdd6f82d6",
   "metadata": {},
   "source": [
    "## Hypothesis testing\n",
    "\n",
    "- An approach to formulating research questions as **yes-no decisions** and a **procedure for making these decisions**\n",
    "- Hypothesis testing is a standardized procedure for doing statistical analysis  \n",
    "  (also, using stats jargon makes everything look more convincing ;)\n",
    "- We formulate research question as two **competing hypotheses**:\n",
    "  - **Null hypothesis $H_0$** = no effect.  \n",
    "    In our example: \"no difference between means,\" which can be written as $\\color{red}{\\mu_S = \\mu_{NS} = \\mu_0}$,\n",
    "    means the probability models for the two groups have the same mean $\\mu_0$:\n",
    "    $$ \n",
    "       H_0: \\qquad X_S = \\mathcal{N}(\\color{red}{\\mu_0}, \\sigma_S)\n",
    "       \\quad \\textrm{and} \\quad\n",
    "       X_{NS} = \\mathcal{N}(\\color{red}{\\mu_0}, \\sigma_{NS}) \\quad\n",
    "    $$\n",
    "  - **Alternative hypothesis $H_A$** = an effect exists.\n",
    "    In our example: \"the means for Group S is different from the mean of Group NS\"\n",
    "    can be written as $\\color{blue}{\\mu_S} \\neq \\color{orange}{\\mu_{NS}}$.\n",
    "    The probability models for the two groups with different means are:\n",
    "    $$ \n",
    "       H_A: \\qquad X_S = \\mathcal{N}(\\color{blue}{\\mu_S}, \\sigma_S)\n",
    "       \\quad \\textrm{and} \\quad\n",
    "       X_{NS} = \\mathcal{N}(\\color{orange}{\\mu_{NS}}, \\sigma_{NS})\n",
    "    $$\n",
    "- The purpose of hypothesis testing is to perform a basic sanity-check to show the difference between the group means\n",
    "  we observed ($d = \\overline{\\mathbf{x}}_{S} - \\overline{\\mathbf{x}}_{NS} = 130$) is **unlikely to have occurred by chance**.\n",
    "- NEW CONCEPT: the $p$-value is the probability of observing $d=130$ (or more extreme) under the null hypothesis."
   ]
  },
  {
   "cell_type": "code",
   "execution_count": null,
   "id": "9127c5da-f7b9-46f7-b98d-d555f28dc2a0",
   "metadata": {},
   "outputs": [],
   "source": []
  },
  {
   "cell_type": "markdown",
   "id": "629b4a3f-fc3d-442a-adde-20705129a6ad",
   "metadata": {},
   "source": [
    "### Overview of the hypothesis testing procedure\n",
    "\n",
    "Here is the high-level overview of the hypothesis testing procedure:\n",
    "- **inputs**: sample statistics computed from the observed data\n",
    "  (in our case the signal $\\overline{\\mathbf{x}}_S$, $\\overline{\\mathbf{x}}_{NS}$,\n",
    "   and our estimates of the noise $s^2_S$, and $s^2_{NS}$)\n",
    "- **outputs**: a decision that is one of: \"reject the null hypothesis\" or \"fail to reject the null hypothesis\"\n",
    "\n",
    "![hypothesis testing for overview.png](./figures/hypothesis%20testing%20for%20overview.png)\n",
    "\n",
    "We'll now look at two different approaches for computing the sampling distribution of\n",
    "the difference between group means statistic, $D = \\overline{\\mathbf{X}}_S - \\overline{\\mathbf{X}}_{NS}$:\n",
    "permutation tests and analytical approximations."
   ]
  },
  {
   "cell_type": "markdown",
   "id": "6a08478d-c1a9-4f25-a2dd-d69643dd34ad",
   "metadata": {
    "tags": []
   },
   "source": [
    "### Interpreting the result of a hypothesis test (optional)\n"
   ]
  },
  {
   "cell_type": "markdown",
   "id": "d5b67d44-d829-4edd-81a4-b695f17b32a6",
   "metadata": {
    "tags": []
   },
   "source": [
    "\n",
    "- The implication of rejecting the null hypothesis (no difference) is that there must be a difference between the group means.\n",
    "  In other words, the average ELV (employee lifetime value) for employees who took the statistics training (**Group S**) is different form\n",
    "  the average ELV for employees who didn't take the statistics training (**Group NS**),\n",
    "  which is what Amy is trying to show.\n",
    "  - Note that rejecting null hypothesis ($H_0$) is not the same as \"proving\" the alternative hypothesis ($H_A$);\n",
    "    we have just shown that the data is unlikely under the null hypothesis,\n",
    "    so there must be *some* difference between the groups.\n",
    "    The conclusion is that it's worth looking for *some* alternative hypothesis.\n",
    "  - The alternative hypothesis we picked above, $\\mu_S \\neq \\mu_{NS}$, is just a placeholder,\n",
    "    that includes desirable effect: $\\mu_S > \\mu_{NS}$ (stats training improves ELV),\n",
    "    but also includes the opposite effect: $\\mu_S < \\mu_{NS}$ (stats training decreases ELV).\n",
    "  - Using statistics jargon, when we reject the hypothesis $H_0$ we say we've observed a \"statistically significant\" result,\n",
    "    which sounds a lot more impressive than it actually is.\n",
    "    The null hypothesis testing procedure is used to just rule out \"occurred by chance\" scenario,\n",
    "    which is a very basic sanity check.    \n",
    "- The implication of failing to reject the null hypothesis is that the observed difference\n",
    "  between means is \"not significant,\" meaning it could have occurred by chance,\n",
    "  so there is no need to search for an alternative hypothesis.\n",
    "  - Note that \"failing to reject\" is not the same as \"proving\" the null hypothesis.\n",
    "  - Note also that \"failing to reject $H_0$\" doesn't mean we reject $H_A$.\n",
    "    In fact, the alternative hypothesis didn't play any role in the calculations whatsoever.\n",
    "\n",
    "\n",
    "I know all this sounds super complicated and roundabout (an it is!),\n",
    "but you will get a hang of it with practice.\n",
    "Trust me, you need to know this shit.\n"
   ]
  },
  {
   "cell_type": "markdown",
   "id": "647c49b2-879d-4b8d-bdaf-8495df322ae4",
   "metadata": {},
   "source": [
    " \n",
    " "
   ]
  },
  {
   "cell_type": "markdown",
   "id": "c9aec2ba-6bb5-4fdd-97b8-7b3e68e775e4",
   "metadata": {},
   "source": [
    " "
   ]
  },
  {
   "cell_type": "markdown",
   "id": "867f51f8-0d5f-42f8-9c34-2dff93017b2b",
   "metadata": {},
   "source": [
    "### Start by loading the data again...\n",
    "\n",
    "First things first, let's reload the cleaned data file that we prepared back in the notebook [01_DATA.ipynb](./01_DATA.ipynb)."
   ]
  },
  {
   "cell_type": "code",
   "execution_count": 12,
   "id": "b56e0926-a87b-4483-ae6d-47fd5ffbca10",
   "metadata": {},
   "outputs": [
    {
     "data": {
      "text/html": [
       "<div>\n",
       "<style scoped>\n",
       "    .dataframe tbody tr th:only-of-type {\n",
       "        vertical-align: middle;\n",
       "    }\n",
       "\n",
       "    .dataframe tbody tr th {\n",
       "        vertical-align: top;\n",
       "    }\n",
       "\n",
       "    .dataframe thead th {\n",
       "        text-align: right;\n",
       "    }\n",
       "</style>\n",
       "<table border=\"1\" class=\"dataframe\">\n",
       "  <thead>\n",
       "    <tr style=\"text-align: right;\">\n",
       "      <th></th>\n",
       "      <th>group</th>\n",
       "      <th>ELV</th>\n",
       "    </tr>\n",
       "  </thead>\n",
       "  <tbody>\n",
       "    <tr>\n",
       "      <th>0</th>\n",
       "      <td>NS</td>\n",
       "      <td>923.87</td>\n",
       "    </tr>\n",
       "    <tr>\n",
       "      <th>1</th>\n",
       "      <td>NS</td>\n",
       "      <td>751.38</td>\n",
       "    </tr>\n",
       "    <tr>\n",
       "      <th>2</th>\n",
       "      <td>NS</td>\n",
       "      <td>432.83</td>\n",
       "    </tr>\n",
       "    <tr>\n",
       "      <th>3</th>\n",
       "      <td>NS</td>\n",
       "      <td>1417.36</td>\n",
       "    </tr>\n",
       "    <tr>\n",
       "      <th>4</th>\n",
       "      <td>NS</td>\n",
       "      <td>973.24</td>\n",
       "    </tr>\n",
       "    <tr>\n",
       "      <th>...</th>\n",
       "      <td>...</td>\n",
       "      <td>...</td>\n",
       "    </tr>\n",
       "    <tr>\n",
       "      <th>56</th>\n",
       "      <td>S</td>\n",
       "      <td>931.61</td>\n",
       "    </tr>\n",
       "    <tr>\n",
       "      <th>57</th>\n",
       "      <td>S</td>\n",
       "      <td>1329.68</td>\n",
       "    </tr>\n",
       "    <tr>\n",
       "      <th>58</th>\n",
       "      <td>S</td>\n",
       "      <td>1293.03</td>\n",
       "    </tr>\n",
       "    <tr>\n",
       "      <th>59</th>\n",
       "      <td>S</td>\n",
       "      <td>1240.44</td>\n",
       "    </tr>\n",
       "    <tr>\n",
       "      <th>60</th>\n",
       "      <td>S</td>\n",
       "      <td>1105.59</td>\n",
       "    </tr>\n",
       "  </tbody>\n",
       "</table>\n",
       "<p>61 rows × 2 columns</p>\n",
       "</div>"
      ],
      "text/plain": [
       "   group      ELV\n",
       "0     NS   923.87\n",
       "1     NS   751.38\n",
       "2     NS   432.83\n",
       "3     NS  1417.36\n",
       "4     NS   973.24\n",
       "..   ...      ...\n",
       "56     S   931.61\n",
       "57     S  1329.68\n",
       "58     S  1293.03\n",
       "59     S  1240.44\n",
       "60     S  1105.59\n",
       "\n",
       "[61 rows x 2 columns]"
      ]
     },
     "execution_count": 12,
     "metadata": {},
     "output_type": "execute_result"
    }
   ],
   "source": [
    "data = pd.read_csv('data/employee_lifetime_values.csv')\n",
    "data"
   ]
  },
  {
   "cell_type": "code",
   "execution_count": 13,
   "id": "6aee10ba-81c5-4573-b472-7694a9b50d74",
   "metadata": {},
   "outputs": [
    {
     "data": {
      "text/html": [
       "<div>\n",
       "<style scoped>\n",
       "    .dataframe tbody tr th:only-of-type {\n",
       "        vertical-align: middle;\n",
       "    }\n",
       "\n",
       "    .dataframe tbody tr th {\n",
       "        vertical-align: top;\n",
       "    }\n",
       "\n",
       "    .dataframe thead tr th {\n",
       "        text-align: left;\n",
       "    }\n",
       "\n",
       "    .dataframe thead tr:last-of-type th {\n",
       "        text-align: right;\n",
       "    }\n",
       "</style>\n",
       "<table border=\"1\" class=\"dataframe\">\n",
       "  <thead>\n",
       "    <tr>\n",
       "      <th></th>\n",
       "      <th colspan=\"8\" halign=\"left\">ELV</th>\n",
       "    </tr>\n",
       "    <tr>\n",
       "      <th></th>\n",
       "      <th>count</th>\n",
       "      <th>mean</th>\n",
       "      <th>std</th>\n",
       "      <th>min</th>\n",
       "      <th>25%</th>\n",
       "      <th>50%</th>\n",
       "      <th>75%</th>\n",
       "      <th>max</th>\n",
       "    </tr>\n",
       "    <tr>\n",
       "      <th>group</th>\n",
       "      <th></th>\n",
       "      <th></th>\n",
       "      <th></th>\n",
       "      <th></th>\n",
       "      <th></th>\n",
       "      <th></th>\n",
       "      <th></th>\n",
       "      <th></th>\n",
       "    </tr>\n",
       "  </thead>\n",
       "  <tbody>\n",
       "    <tr>\n",
       "      <th>NS</th>\n",
       "      <td>31.0</td>\n",
       "      <td>1018.41129</td>\n",
       "      <td>265.815869</td>\n",
       "      <td>432.83</td>\n",
       "      <td>858.7750</td>\n",
       "      <td>990.130</td>\n",
       "      <td>1183.2750</td>\n",
       "      <td>1620.93</td>\n",
       "    </tr>\n",
       "    <tr>\n",
       "      <th>S</th>\n",
       "      <td>30.0</td>\n",
       "      <td>1148.43500</td>\n",
       "      <td>233.037704</td>\n",
       "      <td>623.06</td>\n",
       "      <td>1022.1375</td>\n",
       "      <td>1119.305</td>\n",
       "      <td>1279.8825</td>\n",
       "      <td>1716.61</td>\n",
       "    </tr>\n",
       "  </tbody>\n",
       "</table>\n",
       "</div>"
      ],
      "text/plain": [
       "        ELV                                                                  \\\n",
       "      count        mean         std     min        25%       50%        75%   \n",
       "group                                                                         \n",
       "NS     31.0  1018.41129  265.815869  432.83   858.7750   990.130  1183.2750   \n",
       "S      30.0  1148.43500  233.037704  623.06  1022.1375  1119.305  1279.8825   \n",
       "\n",
       "                \n",
       "           max  \n",
       "group           \n",
       "NS     1620.93  \n",
       "S      1716.61  "
      ]
     },
     "execution_count": 13,
     "metadata": {},
     "output_type": "execute_result"
    }
   ],
   "source": [
    "# remember the descriptive statistics\n",
    "data.groupby(\"group\").describe()"
   ]
  },
  {
   "cell_type": "code",
   "execution_count": 14,
   "id": "47a5f883-9a50-4088-9219-05974442cea7",
   "metadata": {},
   "outputs": [
    {
     "data": {
      "text/plain": [
       "130.02370967741933"
      ]
     },
     "execution_count": 14,
     "metadata": {},
     "output_type": "execute_result"
    }
   ],
   "source": [
    "def dmeans(sample):\n",
    "    \"\"\"\n",
    "    Compute the difference between groups means.\n",
    "    \"\"\"\n",
    "    xS = sample[sample[\"group\"]==\"S\"][\"ELV\"]\n",
    "    xNS = sample[sample[\"group\"]==\"NS\"][\"ELV\"]\n",
    "    d = np.mean(xS) - np.mean(xNS)\n",
    "    return d\n",
    "\n",
    "# the observed value in Amy's data\n",
    "dmeans(data)"
   ]
  },
  {
   "cell_type": "markdown",
   "id": "f972c612-60b6-4071-b9e6-74e482f4d002",
   "metadata": {},
   "source": [
    "Our goal is to determine how *likely* or *unlikely* this observed value $d=130$ is under the null hypothesis $H_0$.\n",
    "\n",
    "In the next two sections, we'll look at two different approaches for obtaining the sampling distribution of $D$ under $H_0$: permutation test and analytical approximations."
   ]
  },
  {
   "cell_type": "markdown",
   "id": "6b94bc95-2526-4eae-b73b-558f222574a6",
   "metadata": {},
   "source": [
    " "
   ]
  },
  {
   "cell_type": "markdown",
   "id": "c3e42b45-51bc-4798-8b20-435e6410c37c",
   "metadata": {},
   "source": [
    "## Approach 1: Permutation test for comparing two groups\n",
    "\n",
    "- The permutation test allow us to generate the sampling distribution under $H_0$\n",
    "  by reusing the sample $\\mathbf{x}$ that we have,\n",
    "  treating it as if it were a population.\n",
    "- Relevant probability distributions:\n",
    "  - Real sampling distribution: obtained from repeated samples from a hypothetical population under $H_0$.\n",
    "  - Approximate sampling distribution: obtained by **resampling data from the single sample we have**.\n",
    "- Recall Goal 1: make sure that the observed difference is unlikely to have occurred by chance under $H_0$\n",
    "  (the difference between group means $d=130$ cannot be explained by the natural variability of the distributions)\n",
    "  - We want to obtain an approximation of the sampling distribution under $H_0$\n",
    "  - The $H_0$ probability model describes a hypothetical scenario with **no difference between groups**,\n",
    "    which means data from **Group S** and **Group NS** comes the same distribution.\n",
    "  - To generate a new random sample $\\mathbf{x}^p$ from the $H_0$ model,\n",
    "    we can reuse the sample we have obtained $\\mathbf{x}$,\n",
    "    but randomly mix-up the group labels.\n",
    "    Since under the $H_0$ model, the **S** and **NS** populations are identical,\n",
    "    mixing up the labels should have no effect.\n",
    "  - The math term for \"mixing up\" is **permutation**, meaning \n",
    "    each value in the input is randomly reassigned to a new random place in the output."
   ]
  },
  {
   "cell_type": "code",
   "execution_count": 15,
   "id": "56852c1f-8e70-4300-b117-71d81d54a71a",
   "metadata": {},
   "outputs": [
    {
     "data": {
      "text/html": [
       "<div>\n",
       "<style scoped>\n",
       "    .dataframe tbody tr th:only-of-type {\n",
       "        vertical-align: middle;\n",
       "    }\n",
       "\n",
       "    .dataframe tbody tr th {\n",
       "        vertical-align: top;\n",
       "    }\n",
       "\n",
       "    .dataframe thead th {\n",
       "        text-align: right;\n",
       "    }\n",
       "</style>\n",
       "<table border=\"1\" class=\"dataframe\">\n",
       "  <thead>\n",
       "    <tr style=\"text-align: right;\">\n",
       "      <th></th>\n",
       "      <th>group</th>\n",
       "      <th>ELV</th>\n",
       "    </tr>\n",
       "  </thead>\n",
       "  <tbody>\n",
       "    <tr>\n",
       "      <th>0</th>\n",
       "      <td>S</td>\n",
       "      <td>923.87</td>\n",
       "    </tr>\n",
       "    <tr>\n",
       "      <th>1</th>\n",
       "      <td>NS</td>\n",
       "      <td>751.38</td>\n",
       "    </tr>\n",
       "    <tr>\n",
       "      <th>2</th>\n",
       "      <td>S</td>\n",
       "      <td>432.83</td>\n",
       "    </tr>\n",
       "    <tr>\n",
       "      <th>3</th>\n",
       "      <td>NS</td>\n",
       "      <td>1417.36</td>\n",
       "    </tr>\n",
       "    <tr>\n",
       "      <th>4</th>\n",
       "      <td>NS</td>\n",
       "      <td>973.24</td>\n",
       "    </tr>\n",
       "    <tr>\n",
       "      <th>...</th>\n",
       "      <td>...</td>\n",
       "      <td>...</td>\n",
       "    </tr>\n",
       "    <tr>\n",
       "      <th>56</th>\n",
       "      <td>S</td>\n",
       "      <td>931.61</td>\n",
       "    </tr>\n",
       "    <tr>\n",
       "      <th>57</th>\n",
       "      <td>NS</td>\n",
       "      <td>1329.68</td>\n",
       "    </tr>\n",
       "    <tr>\n",
       "      <th>58</th>\n",
       "      <td>NS</td>\n",
       "      <td>1293.03</td>\n",
       "    </tr>\n",
       "    <tr>\n",
       "      <th>59</th>\n",
       "      <td>S</td>\n",
       "      <td>1240.44</td>\n",
       "    </tr>\n",
       "    <tr>\n",
       "      <th>60</th>\n",
       "      <td>NS</td>\n",
       "      <td>1105.59</td>\n",
       "    </tr>\n",
       "  </tbody>\n",
       "</table>\n",
       "<p>61 rows × 2 columns</p>\n",
       "</div>"
      ],
      "text/plain": [
       "   group      ELV\n",
       "0      S   923.87\n",
       "1     NS   751.38\n",
       "2      S   432.83\n",
       "3     NS  1417.36\n",
       "4     NS   973.24\n",
       "..   ...      ...\n",
       "56     S   931.61\n",
       "57    NS  1329.68\n",
       "58    NS  1293.03\n",
       "59     S  1240.44\n",
       "60    NS  1105.59\n",
       "\n",
       "[61 rows x 2 columns]"
      ]
     },
     "execution_count": 15,
     "metadata": {},
     "output_type": "execute_result"
    }
   ],
   "source": [
    "def resample_under_H0(sample, groupcol=\"group\"):\n",
    "    \"\"\"\n",
    "    Return a copy of the dataframe `sample` with the labels in the column `groupcol`\n",
    "    modified based on a random permutation of the values in the original sample.\n",
    "    \"\"\"\n",
    "    resample = sample.copy()\n",
    "    labels = sample[groupcol].values\n",
    "    newlabels = np.random.permutation(labels)\n",
    "    resample[groupcol] = newlabels\n",
    "    return resample\n",
    "\n",
    "resample_under_H0(data)"
   ]
  },
  {
   "cell_type": "code",
   "execution_count": 16,
   "id": "76544753-3452-46ac-b124-9ebd264747b5",
   "metadata": {},
   "outputs": [
    {
     "data": {
      "text/plain": [
       "-29.60082795698918"
      ]
     },
     "execution_count": 16,
     "metadata": {},
     "output_type": "execute_result"
    }
   ],
   "source": [
    "# resample\n",
    "resample = resample_under_H0(data)\n",
    "\n",
    "# compute the difference in means for the new labels\n",
    "dmeans(resample)"
   ]
  },
  {
   "cell_type": "markdown",
   "id": "d276b11e-422f-4350-8817-62ba7ccd8880",
   "metadata": {},
   "source": [
    "The function `resample_under_H0` gives us a way to generate samples from the null hypothesis.\n",
    "We can then compute the value of the `dmeans` statistic for these samples. We used the assumption of \"no difference\" under the null hypothesis, and translated this to the \"forget the labels\" interpretation."
   ]
  },
  {
   "cell_type": "markdown",
   "id": "b920f947-f75a-4f7b-9830-3bd19947ac0b",
   "metadata": {},
   "source": [
    "#### Running a permutation test\n",
    "\n",
    "We can repeat the resampling procedure `10000` times to get the sampling distribution of $D$ under $H_0$,\n",
    "as illustrated in the code procedure below."
   ]
  },
  {
   "cell_type": "code",
   "execution_count": 17,
   "id": "80cd1b43-0e72-413b-addc-1a3466e981a5",
   "metadata": {},
   "outputs": [],
   "source": [
    "def permutation_test(sample, statfunc, groupcol=\"group\", permutations=10000):\n",
    "    \"\"\"\n",
    "    Compute the p-value of the observed `statfunc(sample)` under the null hypothesis\n",
    "    where the labels in the `groupcol` are randomized.\n",
    "    \"\"\"\n",
    "    # 1. compute the observed value of the statistic for the sample\n",
    "    obsstat = statfunc(sample)\n",
    "\n",
    "    # 2. generate the sampling distr. under H0\n",
    "    restats = []\n",
    "    for i in range(0, permutations):\n",
    "        resample = resample_under_H0(sample, groupcol=groupcol)\n",
    "        restat = statfunc(resample)\n",
    "        restats.append(restat)\n",
    "\n",
    "    # 3. compute p-value: how many `restat`s are equal-or-more-extreme than `obsstat`\n",
    "    tailstats = [restat for restat in restats \\\n",
    "                 if restat <= -abs(obsstat) or restat >= abs(obsstat)]\n",
    "    pvalue = len(tailstats) / len(restats)\n",
    "\n",
    "    return restats, pvalue\n",
    "\n",
    "\n",
    "sampling_dist, pvalue = permutation_test(data, statfunc=dmeans)"
   ]
  },
  {
   "cell_type": "code",
   "execution_count": 18,
   "id": "757a2682-142c-42d2-9aac-8a0c00ba6cd8",
   "metadata": {},
   "outputs": [
    {
     "data": {
      "image/png": "[encoded data removed]",
      "text/plain": [
       "<Figure size 800x500 with 1 Axes>"
      ]
     },
     "metadata": {
      "image/png": {
       "height": 432,
       "width": 699
      }
     },
     "output_type": "display_data"
    }
   ],
   "source": [
    "# plot the sampling distribution in blue\n",
    "sns.histplot(sampling_dist, bins=200)\n",
    "\n",
    "# plot red line for the observed statistic\n",
    "obsstat = dmeans(data)\n",
    "plt.axvline(obsstat, color='r')\n",
    "\n",
    "# plot the values that are equal or more extreme in red\n",
    "tailstats = [rs for rs in sampling_dist if rs <= -obsstat or rs >= obsstat]\n",
    "_ = sns.histplot(tailstats, bins=200, color=\"red\")"
   ]
  },
  {
   "cell_type": "markdown",
   "id": "89e4159f-d87e-4b07-901f-dbb647faabe4",
   "metadata": {},
   "source": [
    "- Once we have the sampling distribution of `D` under $H_0$,\n",
    "  we can see where the observed value $d=130$\n",
    "  falls within this distribution.\n",
    "- p-value: the probability of observing value $d=130$ or more extreme under the null hypothesis"
   ]
  },
  {
   "cell_type": "code",
   "execution_count": 19,
   "id": "3c672871-c5de-48dd-83bd-b300c38f0671",
   "metadata": {},
   "outputs": [
    {
     "data": {
      "text/plain": [
       "0.046"
      ]
     },
     "execution_count": 19,
     "metadata": {},
     "output_type": "execute_result"
    }
   ],
   "source": [
    "pvalue"
   ]
  },
  {
   "cell_type": "markdown",
   "id": "49e4fc1b-8e88-4073-86fb-954537c84023",
   "metadata": {},
   "source": [
    "We can now make the decision based on the $p$-value and a pre-determined threshold:\n",
    "\n",
    "- If the observed value $d$ is unlikely under $H_0$ ($p$-value less than 5% chance of occurring),\n",
    "  then our decision will be to \"reject the null hypothesis.\"\n",
    "- Otherwise, if the observed value $d$ is not that unusual ($p$-value greater than 5%),\n",
    "  we conclude that we have \"failed to reject the null hypothesis.\""
   ]
  },
  {
   "cell_type": "code",
   "execution_count": 20,
   "id": "b3a42f84-a0c4-4fd1-a492-1b59a20432d4",
   "metadata": {},
   "outputs": [
    {
     "name": "stdout",
     "output_type": "stream",
     "text": [
      "DECISION: Reject H0 ( p-value = 0.046 )\n",
      "There is a statistically significant difference between xS and xNS\n"
     ]
    }
   ],
   "source": [
    "if pvalue < 0.05:\n",
    "    print(\"DECISION: Reject H0\", \"( p-value =\", pvalue, \")\")\n",
    "    print(\"There is a statistically significant difference between xS and xNS\")\n",
    "else:\n",
    "    print(\"DECISION: Fail to reject H0\")\n",
    "    print(\"The difference between groups means could have occurred by chance\")    "
   ]
  },
  {
   "cell_type": "markdown",
   "id": "08d6fc50-9a64-4935-985c-f21db135fe32",
   "metadata": {
    "tags": []
   },
   "source": [
    "#### Permutations test using SciPy"
   ]
  },
  {
   "cell_type": "markdown",
   "id": "7b43bfc1-e293-4c7c-b193-ee8301dc20b3",
   "metadata": {
    "tags": []
   },
   "source": [
    "The above code was given only for educational purposes.\n",
    "In practice, you can use the SciPy implementation of permutation test,\n",
    "by calling `ttest_ind(..., permutations=10000)` to perform a permutation test, then obtain the $p$-value."
   ]
  },
  {
   "cell_type": "code",
   "execution_count": 21,
   "id": "29338c3b-a1bf-4dfa-930f-10411a7f63f1",
   "metadata": {},
   "outputs": [
    {
     "data": {
      "text/plain": [
       "0.044795520447955206"
      ]
     },
     "execution_count": 21,
     "metadata": {},
     "output_type": "execute_result"
    }
   ],
   "source": [
    "from scipy.stats import ttest_ind\n",
    "\n",
    "xS = data[data[\"group\"]==\"S\"][\"ELV\"]\n",
    "xNS = data[data[\"group\"]==\"NS\"][\"ELV\"]\n",
    "\n",
    "ttest_ind(xS, xNS, permutations=10000).pvalue"
   ]
  },
  {
   "cell_type": "markdown",
   "id": "44737412-ed43-4cb1-a262-80fe7ffd297e",
   "metadata": {},
   "source": [
    "Note the $p$-value we obtained form the two methods is slightly different:\n",
    "this is going to be the case for all resampling methods and simulations,\n",
    "since use randomness as part of the calculation."
   ]
  },
  {
   "cell_type": "markdown",
   "id": "5d566e88-c5bd-4e26-b875-aafaaba7f55a",
   "metadata": {
    "tags": []
   },
   "source": [
    "#### Discussion\n",
    "\n",
    "  - The procedure we used is called a **permutations test** for comparison of group means.\n",
    "  - The permutation test takes it's name from the action of mixing up the group-membership labels\n",
    "    and computing a statistic which is a way to generate samples from the null hypothesis\n",
    "    in situations where we're comparing two groups.\n",
    "  - Permutation tests are very versatile since we can use them for any estimator $g(\\mathbf{x})$.\n",
    "    For example, we could have used difference in medians by specifying the `median` as the input `statfunc`.\n"
   ]
  },
  {
   "cell_type": "markdown",
   "id": "d09540ba-f398-4c31-9ede-85f1d3d0096f",
   "metadata": {},
   "source": [
    " "
   ]
  },
  {
   "cell_type": "markdown",
   "id": "480e2112-8497-49c5-86c5-7ed0c63faf07",
   "metadata": {},
   "source": [
    " \n",
    " "
   ]
  },
  {
   "cell_type": "markdown",
   "id": "b059679b-d7ee-4cdc-bcb1-ecbf56ca1635",
   "metadata": {},
   "source": [
    "## Approach 2: Analytical approximations for hypothesis testing\n",
    "\n",
    "We'll now look at another approach for answering Question 1:\n",
    "using and analytical approximation,\n",
    "which is the way normally taught in STATS 101 courses.\n",
    "How likely or unlikely is the observed difference $d=130$ under the null hypothesis?\n",
    "\n",
    "- Analytical approximations are math models for describing the sampling distribution under $H_0$\n",
    "  - Real sampling distributions: obtained by repeated sampling from $H_0$\n",
    "  - Analytical approximation: probability model based on estimated parameters\n",
    "- Based on this assumption we can use the theoretical model for the difference between group means\n",
    "  that we developed earlier, we can obtain a **closed form expression** for the sampling distribution of $D$.\n",
    "- In particular, the probability model for the two groups under $H_0$ are:\n",
    "  $$ \n",
    "       H_0: \\qquad X_S = \\mathcal{N}(\\color{red}{\\mu_0}, \\sigma_S)\n",
    "       \\quad \\textrm{and} \\quad\n",
    "       X_{NS} = \\mathcal{N}(\\color{red}{\\mu_0}, \\sigma_{NS}), \\quad\n",
    "  $$\n",
    "  from which we can derive the model for $D = \\overline{\\mathbf{X}}_S - \\overline{\\mathbf{X}}_{NS}$:\n",
    "  $$ \n",
    "     D  \\sim \\mathcal{N}\\!\\left( \\color{red}{0}, \\  \\sqrt{ \\tfrac{\\sigma^2_S}{n_S} + \\tfrac{\\sigma^2_{NS}}{n_{NS}} } \\right)\n",
    "  $$\n",
    "  In words, the sampling distribution of the difference between group means is\n",
    "  normally distributed with mean $\\mu_D = 0$ and standard deviation $\\sigma_D$,\n",
    "  which depends on the variance of the two groups $\\sigma^2_S$ and $\\sigma^2_{NS}$.\n",
    "  Recall we obtained this expression earlier when we discussed difference of means between groups A and B.\n",
    "- However, the population variances $\\sigma^2_S$ and $\\sigma^2_{NS}$ are unknown,\n",
    "  and we only have the estimated variances $s_S^2$ and $s_{NS}^2$,\n",
    "  which we calculated from the sample.\n",
    "- That's OK though, since the sample variances are estimates for the population variances.\n",
    "  There are two common ways to obtain an approximation for $\\sigma^2_D$:\n",
    "  - Pooled variance: $\\sigma^2_D \\approx s^2_p =  \\frac{(n_S-1)s_S^2 \\; + \\; (n_{NS}-1)s_{NS}^2}{n_S + n_{NS} - 2}$\n",
    "    (takes advantage of assumption that both samples come from the same population under $H_0$)\n",
    "  - Unpooled variance: $\\sigma^2_D \\approx s^2_u = \\tfrac{s^2_S}{n_S} + \\tfrac{s^2_{NS}}{n_{NS}}$\n",
    "    (follows from the general rule of probability theory)\n",
    "- NEW CONCEPT: **Student's $t$-distribution** is a model for $D$ which takes into account\n",
    "  we are using $s_S^2$ and $s_{NS}^2$ instead of $\\sigma_S^2$ and $\\sigma_{NS}^2$.\n",
    "- NEW CONCEPT: **degrees of freedom**, denoted `df` in code or $\\nu$ (Greek letter *nu*) in equations,\n",
    "  is the parameter of Student's $t$-distribution dependent on the sample size used to estimate quantities.\n"
   ]
  },
  {
   "cell_type": "markdown",
   "id": "9b1c4932-63a2-4599-8d0a-852a9980776f",
   "metadata": {
    "tags": []
   },
   "source": [
    "### Student's t-test (pooled variance)\n",
    "\n",
    "[Student's $t$-test for comparison of the difference between two groups means](https://statkat.com/stattest.php?&t=9) is a procedure that makes use of the pooled variance $s^2_p$. \n",
    "Recall $H_0$ states there is no difference between the two groups.\n",
    "This means we can think of $s_S^2$ and $s_{NS}^2$ as two independent estimates of the population variance,\n",
    "so we can combine them (pool them together) to obtain an estimate $s^2_p$.\n",
    "\n",
    "#### Black-box approach\n",
    "The `scipy.stats` function `ttest_ind` will perform all the steps of Student's $t$-test procedure,\n",
    "without the need for us to understand the details."
   ]
  },
  {
   "cell_type": "code",
   "execution_count": 22,
   "id": "f44e657d-60c7-4b2c-b921-68b323c4f2e3",
   "metadata": {},
   "outputs": [
    {
     "data": {
      "text/plain": [
       "0.046999086677830995"
      ]
     },
     "execution_count": 22,
     "metadata": {},
     "output_type": "execute_result"
    }
   ],
   "source": [
    "from scipy.stats import ttest_ind\n",
    "\n",
    "# extract data for two groups\n",
    "xS = data[data[\"group\"]==\"S\"]['ELV']\n",
    "xNS = data[data[\"group\"]==\"NS\"]['ELV']\n",
    "\n",
    "# run the complete t-test procedure for ind-ependent samples:\n",
    "result = ttest_ind(xS, xNS)\n",
    "result.pvalue"
   ]
  },
  {
   "cell_type": "markdown",
   "id": "0b00bf6a-c8c3-4a5d-9059-303d6eb308de",
   "metadata": {},
   "source": [
    "The $p$-value is less than 0.05 so our decision is to **reject the null hypothesis**."
   ]
  },
  {
   "cell_type": "markdown",
   "id": "472c9d6d-135c-49ea-959e-78eac60f30f4",
   "metadata": {
    "tags": []
   },
   "source": [
    "#### Student's t-test under the hood\n",
    "\n",
    "The computations hidden behind the function `ttest_ind` involve a six step procedure that makes use of the pooled variance $s^2_p$."
   ]
  },
  {
   "cell_type": "code",
   "execution_count": 23,
   "id": "f8b5761c-d24c-4a5a-bb4e-351688deaa7b",
   "metadata": {},
   "outputs": [
    {
     "data": {
      "text/plain": [
       "0.04699908667783097"
      ]
     },
     "execution_count": 23,
     "metadata": {},
     "output_type": "execute_result"
    }
   ],
   "source": [
    "from statistics import stdev\n",
    "from scipy.stats import t as tdist\n",
    "\n",
    "# 1. calculate the mean in each group\n",
    "meanS, meanNS = np.mean(xS), np.mean(xNS)\n",
    "\n",
    "# 2. calculate d, the observed difference between means\n",
    "d = meanS - meanNS\n",
    "\n",
    "# 3. calculate the standard deviations in each group\n",
    "stdS, stdNS = stdev(xS), stdev(xNS)\n",
    "nS, nNS = len(xS), len(xNS)\n",
    "\n",
    "# 4. compute the pooled variance and standard error\n",
    "var_pooled = ((nS-1)*stdS**2 + (nNS-1)*stdNS**2)/(nS + nNS - 2)\n",
    "std_pooled = np.sqrt(var_pooled)\n",
    "std_err = std_pooled * np.sqrt(1/nS + 1/nNS)\n",
    "\n",
    "# 5. compute the value of the t-statistic\n",
    "tstat = d / std_err\n",
    "\n",
    "# 6. obtain the p-value for the t-statistic from a \n",
    "#    t-distribution with 31+30-2 = 59 degrees of freedom\n",
    "df = nS + nNS - 2\n",
    "pvalue = 2 * tdist(df).cdf(-abs(tstat))  # 2* because two-sided\n",
    "\n",
    "pvalue"
   ]
  },
  {
   "cell_type": "markdown",
   "id": "91dc3733-e979-4d05-b20a-ea430ea91114",
   "metadata": {
    "tags": []
   },
   "source": [
    "#### Welch's t-test (unpooled variances)\n",
    "\n",
    "An [alternative $t$-test procedure](https://statkat.com/stattest.php?&t=9) that doesn't assume the variances in the two groups are equal."
   ]
  },
  {
   "cell_type": "code",
   "execution_count": 24,
   "id": "441d978c-9cbc-4978-849a-216950b6f68f",
   "metadata": {},
   "outputs": [
    {
     "data": {
      "text/plain": [
       "0.04657901982704139"
      ]
     },
     "execution_count": 24,
     "metadata": {},
     "output_type": "execute_result"
    }
   ],
   "source": [
    "result2 = ttest_ind(xS, xNS, equal_var=False)\n",
    "result2.pvalue"
   ]
  },
  {
   "cell_type": "markdown",
   "id": "d7ef0c7f-76a6-481c-a4fd-c5eb3e42fae4",
   "metadata": {},
   "source": [
    "Welch's $t$-test differs only in steps 4 through 6 as shown below:"
   ]
  },
  {
   "cell_type": "code",
   "execution_count": 25,
   "id": "86a4e32b-fd38-4a26-9384-5166bc1097fc",
   "metadata": {},
   "outputs": [
    {
     "data": {
      "text/plain": [
       "0.04657901982704139"
      ]
     },
     "execution_count": 25,
     "metadata": {},
     "output_type": "execute_result"
    }
   ],
   "source": [
    "# 4'. compute the unpooled standard deviation of D\n",
    "stdD = np.sqrt(stdS**2/nS + stdNS**2/nNS)\n",
    "\n",
    "# 5'. compute the value of the t-statistic\n",
    "tstat = d / stdD\n",
    "\n",
    "# 6'. obtain the p-value from a t-distribution from\n",
    "# this crazy formula for the degrees of freedom:\n",
    "df = (stdS**2/nS + stdNS**2/nNS)**2 / \\\n",
    "    ((stdS**2/nS)**2/(nS-1) + (stdNS**2/nNS)**2/(nNS-1) )\n",
    "pvalue = 2 * tdist(df).cdf(-abs(tstat))  # 2* because two-sided\n",
    "\n",
    "pvalue"
   ]
  },
  {
   "cell_type": "code",
   "execution_count": null,
   "id": "38f6a601-456c-4e71-bf9f-d247cb6207a3",
   "metadata": {},
   "outputs": [],
   "source": []
  },
  {
   "cell_type": "markdown",
   "id": "d0af7232-9419-426c-9b96-717f7c3201d7",
   "metadata": {},
   "source": [
    "### Summary of Question 1\n",
    "\n",
    "We saw two ways to answer Question 1 (is there really a difference between group means) and obtain the $p$-value.\n",
    "We interpreted the small $p$-values as evidence that the observed difference, $d=130$, is unlikely to be due to chance under $H_0$, so we rejected the null hypothesis.\n",
    "Note this whole procedure is just a sanity check—we haven't touched the alternative hypothesis at all yet,\n",
    "and for all we know the stats training could have the effect of decreasing ELV!\n"
   ]
  },
  {
   "cell_type": "markdown",
   "id": "8e6c7d4f-ed07-4265-94ff-250bf78c4734",
   "metadata": {},
   "source": [
    " \n",
    "____"
   ]
  },
  {
   "cell_type": "markdown",
   "id": "f81172cf-31bb-43c0-92aa-5ca51b008cfa",
   "metadata": {},
   "source": [
    "It's time to study Question 2, which is to estimate the *magnitude* of the change in ELV obtained from completing the stats training. We call this the *effect size* in statistics."
   ]
  },
  {
   "cell_type": "markdown",
   "id": "1f3aa811-9da7-479e-904b-52fb0b43aa83",
   "metadata": {},
   "source": [
    " "
   ]
  },
  {
   "cell_type": "markdown",
   "id": "7ed5a673-f106-4ac5-8f64-0cb73eb0f4c1",
   "metadata": {},
   "source": [
    "## Estimating the effect size\n",
    "\n",
    "- Question 2 of Amy's statistical investigation is to estimate the difference in ELV gained by stats training.\n",
    "- NEW CONCEPT: **effect size** is a measure of difference between intervention and control groups.\n",
    "- We assume the data of **Group S** and **Group NS** come from different populations with means $\\mu_S$ and $\\mu_{NS}$.\n",
    "- We're interested in estimating the difference between population means, denoted $\\Delta = \\mu_S - \\mu_{NS}$.\n",
    "- By analyzing the sample, we have obtained an estimate $d=130$ for the unknown $\\Delta$,\n",
    "  but we know our data contains lots of variability, so we know our estimate might be off.\n",
    "- We want an answer to Question 2 (What is the estimated difference between group means?)\n",
    "  that takes into account the variability of the data.\n",
    "- NEW CONCEPT: **confidence interval** is a way to describe a range of values for an estimate\n",
    "  that takes into account the variability of the data.\n",
    "- We want to provide an answer to Question 2 in the form of a confidence interval that tells\n",
    "  us a range of values where we believe the true value of $\\Delta$ falls.\n",
    "- Similar to how we showed two approaches for hypothesis testing,\n",
    "  we'll work on effect size estimation using two approaches: bootstrap estimation and analytical approximation methods.\n"
   ]
  },
  {
   "cell_type": "markdown",
   "id": "04eaefcc-54a0-4b76-8d77-5d629ca3126a",
   "metadata": {},
   "source": [
    " "
   ]
  },
  {
   "cell_type": "markdown",
   "id": "fc34f5f0-3ca5-4212-9201-49acfbe26bea",
   "metadata": {},
   "source": [
    "### Approach 1: Confidence intervals using bootstrap estimation\n",
    "\n",
    "- We want to estimate the distribution of ELV values for the two groups,\n",
    "  and compute the difference between the means of these distributions.\n",
    "- Distributions:\n",
    "  - Real sampling distributions: obtained by repeated sampling from the populations\n",
    "  - Bootstrap sampling distributions: resampling data from the samples we have (with replacement)\n",
    "- Intuition: treat the samples as if they were the population\n",
    "- We'll compute $B=5000$ bootstrap samples from the two groups and compute the differences.\n",
    "  We'll then look at the distribution of the bootstrap sample differences to obtain\n",
    "  the confidence interval for the difference between population means $CI_{\\Delta}$."
   ]
  },
  {
   "cell_type": "code",
   "execution_count": 26,
   "id": "ac186810-4301-4b08-95ea-f4a4bf7f4f3d",
   "metadata": {},
   "outputs": [],
   "source": [
    "def bootstrap_stat(sample, statfunc, B=5000):\n",
    "    \"\"\"\n",
    "    Compute the bootstrap estimate of the function `statfunc`\n",
    "    from the data in `sample`.\n",
    "    \"\"\"\n",
    "    n = len(sample)\n",
    "    bstats = []\n",
    "    for i in range(0, B):\n",
    "        bsample = np.random.choice(sample, n)\n",
    "        bstat = statfunc(bsample)\n",
    "        bstats.append(bstat)\n",
    "    return bstats"
   ]
  },
  {
   "cell_type": "code",
   "execution_count": 27,
   "id": "c025cbe2-c06d-4803-8033-601e405bb655",
   "metadata": {},
   "outputs": [
    {
     "data": {
      "text/plain": [
       "<Axes: ylabel='Count'>"
      ]
     },
     "execution_count": 27,
     "metadata": {},
     "output_type": "execute_result"
    },
    {
     "data": {
      "image/png": "[encoded data removed]",
      "text/plain": [
       "<Figure size 800x500 with 1 Axes>"
      ]
     },
     "metadata": {
      "image/png": {
       "height": 432,
       "width": 699
      }
     },
     "output_type": "display_data"
    }
   ],
   "source": [
    "from statistics import mean\n",
    "\n",
    "# load data for two groups\n",
    "data = pd.read_csv('data/employee_lifetime_values.csv')\n",
    "xS = data[data[\"group\"]==\"S\"]['ELV']\n",
    "xNS = data[data[\"group\"]==\"NS\"]['ELV']\n",
    "\n",
    "# compute bootstrap estimates for mean in each group\n",
    "meanS_bstats = bootstrap_stat(xS, statfunc=mean)\n",
    "meanNS_bstats = bootstrap_stat(xNS, statfunc=mean)\n",
    "\n",
    "# compute the difference between means from bootstrap samples\n",
    "dmeans_bstats = []\n",
    "for bmeanS, bmeanNS in zip(meanS_bstats, meanNS_bstats):\n",
    "    d = bmeanS - bmeanNS \n",
    "    dmeans_bstats.append(d)\n",
    "\n",
    "sns.histplot(dmeans_bstats)"
   ]
  },
  {
   "cell_type": "code",
   "execution_count": 28,
   "id": "26827b00-6170-474b-b255-f5603ae0b5c4",
   "metadata": {},
   "outputs": [
    {
     "data": {
      "text/plain": [
       "[28.3957801075268, 237.55493602150537]"
      ]
     },
     "execution_count": 28,
     "metadata": {},
     "output_type": "execute_result"
    }
   ],
   "source": [
    "# 90% confidence interval for the difference in means\n",
    "CI_boot = [np.percentile(dmeans_bstats, 5),\n",
    "           np.percentile(dmeans_bstats, 95)]\n",
    "CI_boot"
   ]
  },
  {
   "cell_type": "markdown",
   "id": "705cfb2f-4200-45af-a889-a202bf489864",
   "metadata": {},
   "source": [
    "The 90% confidence interval `CI_boot` describes an interval of numbers\n",
    "that should contain the difference between group means $\\Delta$ at least 90\\% of the time:\n",
    "$$\n",
    "    \\textrm{Pr}_{R}\\big(\\{ \\Delta \\in \\textrm{CI}_{\\Delta} \\}\\big) \\geq 0.9.\n",
    "$$\n",
    "This is a little weird:\n",
    "in any given experiment,\n",
    "the unknown difference between groups $\\Delta$ either *is* or *isn't* in the interval $\\textrm{CI}_{\\Delta}$,\n",
    "so what is 90\\% probability referring to?\n",
    "The randomness $R$ describes repeated experiments using the same calculation procedure for calculating the confidence interval.\n",
    "So it is not a guarantee on any particular estimate,\n",
    "but reliability of the procedure in the long term.\n",
    "This is the *frequentist statistics* paradigm,\n",
    "in which \"quality guarantees\" are given about the procedure used to obtain the estimates,\n",
    "and not about particular outcomes of the procedure."
   ]
  },
  {
   "cell_type": "markdown",
   "id": "b8d4eb26-4331-41d1-b11f-abb013533d2a",
   "metadata": {
    "tags": []
   },
   "source": [
    "#### SciPy bootstrap method"
   ]
  },
  {
   "cell_type": "code",
   "execution_count": 29,
   "id": "a9037efd-5ea6-4dcb-aad8-89b34ef181b0",
   "metadata": {},
   "outputs": [
    {
     "data": {
      "text/plain": [
       "[26.55480537634374, 234.32339731182762]"
      ]
     },
     "execution_count": 29,
     "metadata": {},
     "output_type": "execute_result"
    }
   ],
   "source": [
    "from scipy.stats import bootstrap\n",
    "\n",
    "def dmeans2(sample1, sample2):\n",
    "    return np.mean(sample1) - np.mean(sample2)\n",
    "\n",
    "res = bootstrap((xS, xNS), statistic=dmeans2, vectorized=False,\n",
    "                confidence_level=0.9, n_resamples=5000, method='percentile')\n",
    "\n",
    "CI_boot2 = [res.confidence_interval.low, res.confidence_interval.high]\n",
    "CI_boot2"
   ]
  },
  {
   "cell_type": "markdown",
   "id": "10391280-53d6-4df8-a7d3-56f4faaa490e",
   "metadata": {},
   "source": [
    " "
   ]
  },
  {
   "cell_type": "markdown",
   "id": "d1038502-9f00-4fa0-97a8-1b995d351e77",
   "metadata": {},
   "source": [
    "### Approach 2: Confidence intervals using analytical approximations\n",
    "\n",
    "  - Assumption: the variance of the two populations is the same (or approximately equal)\n",
    "  - Using the theoretical model for the populations,\n",
    "    we can obtain a formula for CI of effect size $\\Delta$:\n",
    "    $$\n",
    "    \\textrm{CI}_{(1-\\alpha)}\n",
    "    = \\left[ d - t^*\\!\\cdot\\!\\sigma_D, \\, \n",
    "             d + t^*\\!\\cdot\\!\\sigma_D\n",
    "      \\right].\n",
    "    $$\n",
    "    The confidence interval is centred at $d$,\n",
    "    with width proportional to the standard deviation $\\sigma_D$.\n",
    "    The constant $t^*$ denotes the value of the inverse CDF of Student's $t$-distribution\n",
    "    with appropriate number of degrees of freedom `df` evaluated at $1-\\frac{\\alpha}{2}$.\n",
    "    For a 90% confidence interval, we choose $\\alpha=0.10$,\n",
    "    which gives $(1-\\frac{\\alpha}{2}) = 0.95$, $t^* = F_{T_{\\textrm{df}}}^{-1}\\left(0.95\\right)$.\n",
    "  - We can use the two different analytical approximations to obtain a formula for $\\sigma_D$\n",
    "    just as we did in the hypothesis testing:\n",
    "    - Pooled variance: $\\sigma^2_p =  \\frac{(n_S-1)s_S^2 + (n_{NS}-1)s_{NS}^2}{n_S + n_{NS} - 2}$,\n",
    "      and `df` = $n_S + n_{NS} -2$\n",
    "    - Unpooled variance: $\\sigma^2_u = \\tfrac{s^2_A}{n_A} + \\tfrac{s^2_B}{n_B}$, and `df` = [...](https://en.wikipedia.org/wiki/Student%27s_t-test#Equal_or_unequal_sample_sizes,_unequal_variances_(sX1_%3E_2sX2_or_sX2_%3E_2sX1))"
   ]
  },
  {
   "cell_type": "markdown",
   "id": "d4aaf569-3da6-4fe1-a143-24ad8ecee316",
   "metadata": {},
   "source": [
    "#### Using pooled variance\n",
    "\n",
    "The calculations are similar to Student's t-test for hypothesis testing."
   ]
  },
  {
   "cell_type": "code",
   "execution_count": 30,
   "id": "c97f00b5-e7a6-47a9-996a-7ea147136a11",
   "metadata": {},
   "outputs": [
    {
     "data": {
      "text/plain": [
       "[22.925130302086643, 237.12228905275202]"
      ]
     },
     "execution_count": 30,
     "metadata": {},
     "output_type": "execute_result"
    }
   ],
   "source": [
    "from scipy.stats import t\n",
    "\n",
    "d = np.mean(xS) - np.mean(xNS)\n",
    "\n",
    "nS, nNS = len(xS), len(xNS)\n",
    "stdS, stdNS = stdev(xS), stdev(xNS)\n",
    "var_pooled = ((nS-1)*stdS**2 + (nNS-1)*stdNS**2)/(nS + nNS - 2)\n",
    "std_pooled = np.sqrt(var_pooled)\n",
    "std_err = std_pooled * np.sqrt(1/nS + 1/nNS)\n",
    "\n",
    "df = nS + nNS - 2\n",
    "\n",
    "# for 90% confidence interval, need 10% in tails\n",
    "alpha = 0.10\n",
    "\n",
    "# now use inverse-CDF of Students t-distribution\n",
    "tstar = abs(t(df).ppf(alpha/2))\n",
    "\n",
    "CI_tpooled = [d - tstar*std_err, d + tstar*std_err]\n",
    "CI_tpooled"
   ]
  },
  {
   "cell_type": "markdown",
   "id": "5d5368a6-9fa9-494f-ad3b-c619e221f039",
   "metadata": {
    "tags": []
   },
   "source": [
    "#### Using unpooled variance\n",
    "\n",
    "The calculations are similar to the Welch's t-test for hypothesis testing."
   ]
  },
  {
   "cell_type": "code",
   "execution_count": 31,
   "id": "0302a7de-eade-4b87-9eb8-80689a6ab333",
   "metadata": {},
   "outputs": [
    {
     "data": {
      "text/plain": [
       "[23.14219839967336, 236.9052209551653]"
      ]
     },
     "execution_count": 31,
     "metadata": {},
     "output_type": "execute_result"
    }
   ],
   "source": [
    "d = np.mean(xS) - np.mean(xNS)\n",
    "\n",
    "nS, nNS = len(xS), len(xNS)\n",
    "stdS, stdNS = stdev(xS), stdev(xNS)\n",
    "stdD = np.sqrt(stdS**2/nS + stdNS**2/nNS)\n",
    "\n",
    "df = (stdS**2/nS + stdNS**2/nNS)**2 / \\\n",
    "    ((stdS**2/nS)**2/(nS-1) + (stdNS**2/nNS)**2/(nNS-1) )\n",
    "\n",
    "# for 90% confidence interval, need 10% in tails\n",
    "alpha = 0.10\n",
    "\n",
    "# now use inverse-CDF of Students t-distribution\n",
    "tstar = abs(t(df).ppf(alpha/2))\n",
    "\n",
    "CI_tunpooled = [d - tstar*stdD, d + tstar*stdD]\n",
    "CI_tunpooled"
   ]
  },
  {
   "cell_type": "markdown",
   "id": "d7d6f15e-49b2-4a26-85a8-ca4a8bda57e0",
   "metadata": {},
   "source": [
    "#### Summary of Question 2 results\n",
    "\n",
    "We now have all the information we need to give a precise and nuanced answer to Question 2: \"How big is the increase in ELV produced by stats training?\".\n",
    "\n",
    "The basic estimate of the difference is $130$ can be reported, and additionally can can report the 90% confidence interval for the difference between group means, that takes into account the variability in the data we have observed."
   ]
  },
  {
   "cell_type": "code",
   "execution_count": 32,
   "id": "41cfb68b-9dfe-4600-904d-e47507ce590a",
   "metadata": {},
   "outputs": [
    {
     "data": {
      "text/plain": [
       "([28.3957801075268, 237.55493602150537],\n",
       " [26.55480537634374, 234.32339731182762],\n",
       " [22.925130302086643, 237.12228905275202],\n",
       " [23.14219839967336, 236.9052209551653])"
      ]
     },
     "execution_count": 32,
     "metadata": {},
     "output_type": "execute_result"
    }
   ],
   "source": [
    "CI_boot, CI_boot2, CI_tpooled, CI_tunpooled"
   ]
  },
  {
   "cell_type": "markdown",
   "id": "02f55d31-745f-4715-be82-917eaa4f7c0e",
   "metadata": {},
   "source": [
    "Note the CIs obtained using different approaches are all similar (+/- 5 ELV points), so it doesn't matter much which approach we use.\n",
    "\n",
    "Note also the CIs are very wide: the observed difference is $d=130$,\n",
    "but the standard deviation of the measurements in the two groups are $s_S = 266$ and $s_{NS} = 233$,\n",
    "which is a lot of \"noise.\""
   ]
  },
  {
   "cell_type": "markdown",
   "id": "932203d4-df8d-43f0-bb0d-7d30c9fe2423",
   "metadata": {
    "jp-MarkdownHeadingCollapsed": true,
    "tags": []
   },
   "source": [
    "### Standardized effect size (optional)\n",
    "\n",
    "It is sometimes useful to report the effect size using a \"standardized\" measure for effect sizes.\n",
    "*Cohen's $d$* one such measure, and it is defined as the difference between two means divided by the pooled  standard deviation."
   ]
  },
  {
   "cell_type": "code",
   "execution_count": 33,
   "id": "49903978-ee65-4aa1-9743-70bc55df00bb",
   "metadata": {},
   "outputs": [
    {
     "data": {
      "text/plain": [
       "0.5195925482978414"
      ]
     },
     "execution_count": 33,
     "metadata": {},
     "output_type": "execute_result"
    }
   ],
   "source": [
    "def cohend(sample1, sample2):\n",
    "    \"\"\"\n",
    "    Compute Cohen's d measure of effect size for two independent samples.\n",
    "    \"\"\"\n",
    "    n1, n2 = len(sample1), len(sample2)\n",
    "    mean1, mean2 = np.mean(sample1), np.mean(sample2)\n",
    "    var1, var2 = np.var(sample1, ddof=1), np.var(sample2, ddof=1)\n",
    "    # calculate the pooled variance and standard deviaiton\n",
    "    var_pooled = ((n1-1)*var1 + (n2-1)*var2) / (n1 + n2 - 2)\n",
    "    std_pooled = np.sqrt(var_pooled)\n",
    "    # compute Cohen's d\n",
    "    cohend = (mean1 - mean2) / std_pooled\n",
    "    return cohend\n",
    "\n",
    "cohend(xS, xNS)"
   ]
  },
  {
   "cell_type": "markdown",
   "id": "54c8a8a0-9037-4035-8e66-c0b5143dc92f",
   "metadata": {},
   "source": [
    "We can interpret the value of Cohen's d obtained using the [reference table](https://en.wikipedia.org/wiki/Effect_size#Cohen's_d) of values:\n",
    "\n",
    "| Cohen's d   | Effect size |\n",
    "| ----------- | ----------- |\n",
    "| 0.01        | very small  |\n",
    "| 0.20        | small       |\n",
    "| 0.50        | medium      |\n",
    "| 0.80        | large       |\n",
    "\n",
    "We can therefore say the effect size of offering statistics training for employees has an **medium** effect size."
   ]
  },
  {
   "cell_type": "markdown",
   "id": "3b6116b6-e410-43c6-8d5a-0dab7c0d9c1b",
   "metadata": {},
   "source": [
    " "
   ]
  },
  {
   "cell_type": "markdown",
   "id": "d66d747d-675f-4f2d-bd57-7a1c924f175d",
   "metadata": {},
   "source": [
    " "
   ]
  },
  {
   "cell_type": "markdown",
   "id": "917f410a-a5ee-4f08-9175-22cc82e38f59",
   "metadata": {},
   "source": [
    "## Conclusion of Amy's statistical analysis\n",
    "\n",
    "Recall the two research questions that Amy set out to answer in the beginning of this video series:\n",
    "\n",
    "- Question 1: Is there a difference between the means in the two groups?\n",
    "- Question 2: How much does statistics training improve the ELV of employees?\n",
    "\n",
    "The statistical analysis we did allows us to answer these two questions as follows:\n",
    "\n",
    "- Answer 1: There is a statistically significant difference between Group S and Group NS, $p = 0.048$.\n",
    "- Answer 2: The estimated improvement in ELV is 130 points, which is corresponds to Cohen's d value of $0.52$ (medium effect size). A 90% confidence interval for the true effect size is $[28.4, 237.6]$.\n",
    "\n",
    "Note: we reported the numerical results obtained from resampling methods (Approach 1), but conclusions would be qualitatively the same if we reported results obtained from analytical approximations (Approach 2)."
   ]
  },
  {
   "cell_type": "markdown",
   "id": "a0fa2fe4-7a7e-435d-b9ae-25d46a66d3cb",
   "metadata": {},
   "source": [
    "### Using statistics for convincing others\n",
    "\n",
    "You may be wondering if all this probabilistic modelling and complicated statistical analysis was worth it to reach a conclusion that seems obvious in retrospect. Was all this work worth it? The purpose of all this work is to obtains something close to an objective conclusion. Without statistics it is very easy to fool ourselves and interpret patterns in data the way we want to, or alternatively, not see patterns that are present. By following the standard statistical procedures, we're less likely to fool ourselves, and more likely to be able to convince others.\n",
    "\n",
    "It can be very useful to imagine Amy explaining the results to a skeptical colleague. Suppose the colleague is very much against the idea of statistical training, and sees it as a distraction, saying things like \"We hire employees to do a job, not to play with Python.\" and \"I don't know any statistics and I'm doing my job just fine!\" You get the picture.\n",
    "\n",
    "Imagine Amy presenting her findings about how 100 hours of statistical training improves employee lifetime value (ELV) results after one year, and suggesting the statistical training be implemented for all new hires from now on. The skeptical colleague immediately rejects the idea and questions Amy's recommendation using emotional appeals about necessity, time wasting, and how statistics is a specialty topic that is not required for all employees. Instead of arguing based on opinions and emotions with her colleague, Amy explains her recommendation is based on a statistical experiment she conducted, and shows the results:\n",
    "\n",
    "- When the colleague asks if the observed difference could be due to chance, Amy says that this is unlikely, and quotes the $p$-value of 0.048 (less than 0.05), and interprets the result as saying the probability of the observed difference between **Group S** and **Group NS** being due to chance is less than 5%.\n",
    "\n",
    "- The skeptical colleague is forced to concede that statistical training does improve ELV, but then asks about the effect size of the improvement: \"How much more ELV can we expect if we provide statistics training?\" Amy is ready to answer quoting the observed difference of $130$ ELV points, and further specifies the 90% confidence interval of $[28.4, 237.6]$ for the improvement, meaning in the worst case there is 28 ELV points improvement.\n",
    "\n",
    "The skeptic is forced to back down from their objections, and the \"stats training for all\" program is adopted in the company. Not only was Amy able to win the argument using statistics, but she was also able to set appropriate expectations for the results. In other words, she hasn't promised a guaranteed +130 ELV improvement, but a realistic range of values that can be expected."
   ]
  },
  {
   "cell_type": "markdown",
   "id": "a5650e56-c208-4793-8e35-dc34c83b3cb0",
   "metadata": {},
   "source": [
    " "
   ]
  },
  {
   "cell_type": "markdown",
   "id": "99aeffee-f15d-45fd-a94e-2fb12fb90339",
   "metadata": {},
   "source": [
    " "
   ]
  },
  {
   "cell_type": "markdown",
   "id": "176aed11-2047-4934-8fa6-1b707207fbac",
   "metadata": {},
   "source": [
    "\n",
    "## Comparison of resampling methods and analytical approximations\n",
    "\n",
    "In this notebook we saw two different approaches for doing statistical analysis: resampling methods and analytical approximations. This is a general pattern in statistics where there is not only one correct answer: multiple approaches to data analysis are valid, and you need to think about the specifics of each situation. We'll learn about both approaches in the book.\n",
    "\n",
    "Analytical approximations are currently taught in most stats courses (STAT 101). Historically, analytical approximations have been used more widely because they require only simple arithmetic calculations: statistic practitioners (scientists, engineers, etc.) simply need to compute sample statistics, plug them into a formula, and obtain a $p$-value. This convenience comes at the cost of numerous assumptions about the data distribution, which often don't hold in practice (e.g. assuming population is normal, when it isn't).\n",
    "\n",
    "In recent years, resampling methods like the permutation test and bootstrap estimation are becoming more popular, widely used in industry, and increasingly also taught at universities (see this [blog post](https://minireference.com/blog/fixing-the-introductory-statistics-curriculum/) about the *modern statistics* curriculum). **The main advantage so resampling methods is that they require less modelling assumptions.** Procedures like the permutation test can be applied broadly to any scenario where two groups are being compared, and don't require developing specific formulas for different cases. Resampling methods are easier to understand since the they are directly related to the sampling distribution, and there are no formulas to memorize.\n",
    "\n",
    "Understanding resampling methods requires some basic familiarity with programming, but the skills required are not advanced: knowledge of variables, expressions, and basic `for` loop is sufficient. If you were able to follow the code examples described above (see `resample_under_H0`, `permutation_test`, and `bootstrap_stat`), then you've already **seen all the code you will need for the entire book!**  I've prepared a [python tutorial](https://nobsstats.com/tutorials/python_tutorial.html) to make readers with no prior experience with Python will be able to quickly pick up the syntax."
   ]
  },
  {
   "cell_type": "markdown",
   "id": "03028ef0-3cd1-4dab-b939-e9078c227aa3",
   "metadata": {},
   "source": [
    " \n",
    " "
   ]
  },
  {
   "cell_type": "markdown",
   "id": "f5e1da89-b855-4fc2-b885-aa72344d78a2",
   "metadata": {},
   "source": [
    "## Other statistics topics in the book\n",
    "\n",
    "The goal of this notebook was to focus on the two main ideas of inferential statistics ([Chapter 3](https://docs.google.com/document/d/1fwep23-95U-w1QMPU31nOvUnUXE2X3s_Dbk5JuLlKAY/edit#heading=h.uutryzqeo2av)): hypothesis testing and estimation. We didn't have time to cover many of the other important topics, which will be covered in the book (and in future [notebooks](https://nobsstats.com/notebooks/README.html)). Here is a list of some of these topics:\n",
    "\n",
    "- Null Hypothesis Significance Testing (NHST) procedure in full details (Type I and Type II error, power, sample size calculations) \n",
    "- Statistical assumptions behind analytical approximations\n",
    "- Inventory of statistical testing recipes (analytical approximations for different scenarios)\n",
    "- Experimental design (how to plan and conduct statistical experiments)\n",
    "- Misuses of statistics (caveats to watch out for, and mistakes to avoid)\n",
    "- Bayesian statistics (very deep topic; we'll cover only main ideas)\n",
    "- Practice problems and exercises (real knowledge is when you can do the calculations yourself)"
   ]
  },
  {
   "cell_type": "markdown",
   "id": "aa495eef-04bb-4bd1-a275-62a03b4e72cb",
   "metadata": {},
   "source": [
    " "
   ]
  },
  {
   "cell_type": "markdown",
   "id": "c69e08b6-a017-4de0-8d83-37e321bceada",
   "metadata": {},
   "source": [
    "___"
   ]
  },
  {
   "cell_type": "markdown",
   "id": "11e7ed6a-733b-4608-b4ed-4b94fbd8590f",
   "metadata": {},
   "source": [
    "So far our statistical analysis was limited to comparing two groups, which is referred to as **categorical predictor variable** in stats jargon.\n",
    "In the next notebook, we'll learn about statistical analysis with **continuous predictor variables**: instead of comparing stats vs. no-stats, we analyze what happens when variable amount of stats training is provided (a continuous predictor variable).\n",
    "\n",
    "Open the notebook [04_LINEAR_MODELS.ipynb](./04_LINEAR_MODELS.ipynb) when you're ready to continue."
   ]
  }
 ],
 "metadata": {
  "kernelspec": {
   "display_name": "Python 3 (ipykernel)",
   "language": "python",
   "name": "python3"
  },
  "language_info": {
   "codemirror_mode": {
    "name": "ipython",
    "version": 3
   },
   "file_extension": ".py",
   "mimetype": "text/x-python",
   "name": "python",
   "nbconvert_exporter": "python",
   "pygments_lexer": "ipython3",
   "version": "3.9.4"
  }
 },
 "nbformat": 4,
 "nbformat_minor": 5
}
