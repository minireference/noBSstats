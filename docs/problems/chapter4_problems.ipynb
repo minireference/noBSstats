{
 "cells": [
  {
   "cell_type": "markdown",
   "id": "59c40f70-a93d-494d-a72c-3c328af932c3",
   "metadata": {},
   "source": [
    "# Chapter 4 Problems"
   ]
  },
  {
   "cell_type": "code",
   "execution_count": 1,
   "id": "4801d353-684e-4096-978c-9a089741ee1a",
   "metadata": {},
   "outputs": [],
   "source": [
    "# load Python modules\n",
    "import os\n",
    "import numpy as np\n",
    "import pandas as pd\n",
    "import seaborn as sns\n",
    "import matplotlib.pyplot as plt\n",
    "from scipy.stats import norm\n",
    "import statsmodels.formula.api as smf"
   ]
  },
  {
   "cell_type": "code",
   "execution_count": 2,
   "id": "6a900e7c-116b-429c-b363-99fe261ea266",
   "metadata": {},
   "outputs": [],
   "source": [
    "# Useful colors\n",
    "snspal = sns.color_palette()\n",
    "blue, orange, purple = snspal[0], snspal[1], snspal[4]\n",
    "# red = sns.color_palette(\"tab10\")[3]\n",
    "\n",
    "# High-resolution please\n",
    "%config InlineBackend.figure_format = 'retina'"
   ]
  },
  {
   "cell_type": "code",
   "execution_count": 3,
   "id": "6f14ce0a-7c53-4369-a930-e6097e0afd20",
   "metadata": {},
   "outputs": [],
   "source": [
    "# set random seed for repeatability\n",
    "np.random.seed(42)"
   ]
  },
  {
   "cell_type": "markdown",
   "id": "bfb70a86-c507-42e0-b94e-47d9ff0af710",
   "metadata": {},
   "source": [
    "$\\def\\stderr#1{\\mathbf{se}_{#1}}$\n",
    "$\\def\\stderrhat#1{\\hat{\\mathbf{se}}_{#1}}$\n",
    "$\\newcommand{\\Mean}{\\textbf{Mean}}$\n",
    "$\\newcommand{\\Var}{\\textbf{Var}}$\n",
    "$\\newcommand{\\Std}{\\textbf{Std}}$\n",
    "$\\newcommand{\\Freq}{\\textbf{Freq}}$\n",
    "$\\newcommand{\\RelFreq}{\\textbf{RelFreq}}$\n",
    "$\\newcommand{\\DMeans}{\\textbf{DMeans}}$\n",
    "$\\newcommand{\\Prop}{\\textbf{Prop}}$\n",
    "$\\newcommand{\\DProps}{\\textbf{DProps}}$\n",
    "\n",
    "$$\n",
    "\\newcommand{\\CI}[1]{\\textbf{CI}_{#1}}\n",
    "\\newcommand{\\CIL}[1]{\\textbf{L}_{#1}}\n",
    "\\newcommand{\\CIU}[1]{\\textbf{U}_{#1}}\n",
    "\\newcommand{\\ci}[1]{\\textbf{ci}_{#1}}\n",
    "\\newcommand{\\cil}[1]{\\textbf{l}_{#1}}\n",
    "\\newcommand{\\ciu}[1]{\\textbf{u}_{#1}}\n",
    "$$\n",
    "\n",
    "\n",
    "(this cell contains the macro definitions like $\\stderr{\\overline{\\mathbf{x}}}$, $\\stderrhat{}$, $\\Mean$, ...)"
   ]
  },
  {
   "cell_type": "markdown",
   "id": "996c72af-c70c-4691-a1ca-8aeea3a703ba",
   "metadata": {},
   "source": [
    "### Problem 4.XX\n",
    "\n",
    "Investigate sensitivity of $F$-test for the model\n",
    "lmlong $y \\sim x_1 + x_2 + \\alpha*x_3 + \\mathcal{N}(0,1)$,\n",
    "versus the model \\tt{lmshort} $y \\sim x1 + x2 + \\mathcal{N}(0,1)$ \n",
    "where each x1 x2 and x3 are $\\mathcal{N}(0,1)$.\n",
    "How big does alpha have to be for \\tt{compare\\_f\\_test} to be significant?"
   ]
  },
  {
   "cell_type": "code",
   "execution_count": 4,
   "id": "df76df62-c226-4224-a88a-837e194fe7bd",
   "metadata": {},
   "outputs": [
    {
     "data": {
      "text/plain": [
       "(3.9402479702448003, 0.04999757068441112, 1.0)"
      ]
     },
     "execution_count": 4,
     "metadata": {},
     "output_type": "execute_result"
    }
   ],
   "source": [
    "np.random.seed(42)\n",
    "n = 100\n",
    "x1s = norm(0,1).rvs(n)\n",
    "x2s = norm(0,1).rvs(n)\n",
    "x3s = norm(0,1).rvs(n)\n",
    "\n",
    "alpha = 0.138702\n",
    "ys = x1s + x2s + alpha*x3s + norm(0,1).rvs(n)\n",
    "\n",
    "df_x1x2x3y = pd.DataFrame({\"x1\":x1s, \"x2\":x2s, \"x3\":x3s, \"y\":ys})\n",
    "\n",
    "lm_long = smf.ols(\"y ~ + 1 + x1 + x2 + x3\", data=df_x1x2x3y).fit()\n",
    "lm_short = smf.ols(\"y ~ + 1 + x1 + x2\", data=df_x1x2x3y).fit()\n",
    "lm_long.compare_f_test(lm_short)"
   ]
  },
  {
   "cell_type": "code",
   "execution_count": null,
   "id": "0a4169c7-bd8b-46ba-ae40-218fbb9a7c77",
   "metadata": {},
   "outputs": [],
   "source": []
  }
 ],
 "metadata": {
  "kernelspec": {
   "display_name": "Python 3 (ipykernel)",
   "language": "python",
   "name": "python3"
  },
  "language_info": {
   "codemirror_mode": {
    "name": "ipython",
    "version": 3
   },
   "file_extension": ".py",
   "mimetype": "text/x-python",
   "name": "python",
   "nbconvert_exporter": "python",
   "pygments_lexer": "ipython3",
   "version": "3.9.4"
  }
 },
 "nbformat": 4,
 "nbformat_minor": 5
}
