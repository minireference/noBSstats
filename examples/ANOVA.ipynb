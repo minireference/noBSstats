{
 "cells": [
  {
   "cell_type": "markdown",
   "id": "5b41ceb6-d385-4837-b5e0-5e21e643d6e6",
   "metadata": {},
   "source": [
    "# Analysis of variance (ANOVA)"
   ]
  },
  {
   "cell_type": "markdown",
   "id": "e41da4dc-40bc-4074-b3ca-5f2a2534fdcf",
   "metadata": {},
   "source": [
    "## Definitions"
   ]
  },
  {
   "cell_type": "markdown",
   "id": "442020c3-458a-469b-a82e-c7f3beafb812",
   "metadata": {},
   "source": [
    "## Formulas"
   ]
  },
  {
   "cell_type": "code",
   "execution_count": null,
   "id": "28207dfa-61a8-47a3-8fe1-9168cbc2f096",
   "metadata": {},
   "outputs": [],
   "source": [
    "\n"
   ]
  },
  {
   "cell_type": "markdown",
   "id": "60311b0a-7c91-4df0-be4a-accc69028d8c",
   "metadata": {},
   "source": [
    "## Example"
   ]
  },
  {
   "cell_type": "markdown",
   "id": "2edd0ff1-e544-41a3-845a-c0471e345d41",
   "metadata": {},
   "source": [
    "## Explanations"
   ]
  },
  {
   "cell_type": "markdown",
   "id": "bf5f1bcf-d993-47e8-9f1b-52902c63c9e3",
   "metadata": {},
   "source": [
    "## Discussion"
   ]
  },
  {
   "cell_type": "markdown",
   "id": "c6bfa142-4e3f-46a0-bbd9-212692dd1b3d",
   "metadata": {},
   "source": [
    "### Equivalence between ANOVA and OLS\n",
    "\n",
    "via https://stats.stackexchange.com/questions/175246/why-is-anova-equivalent-to-linear-regression"
   ]
  },
  {
   "cell_type": "code",
   "execution_count": 1,
   "id": "02532495-4998-4770-95ae-eabb34ebccb8",
   "metadata": {},
   "outputs": [],
   "source": [
    "import numpy as np\n",
    "from scipy.stats import randint, norm\n",
    "np.random.seed(124)  # Fix the seed\n",
    "\n",
    "x = randint(1,6).rvs(100) # Generate 100 random integer U[1,5]\n",
    "y = x + norm().rvs(100)   # Generate my response sample"
   ]
  },
  {
   "cell_type": "code",
   "execution_count": 2,
   "id": "299470ef-4adb-4a09-a4f1-407fe5271a8b",
   "metadata": {},
   "outputs": [
    {
     "data": {
      "text/plain": [
       "x\n",
       "1    1.114427\n",
       "2    1.958159\n",
       "3    2.844082\n",
       "4    4.198083\n",
       "5    5.410594\n",
       "Name: y, dtype: float64"
      ]
     },
     "execution_count": 2,
     "metadata": {},
     "output_type": "execute_result"
    },
    {
     "data": {
      "image/png": "[encoded data removed]",
      "text/plain": [
       "<Figure size 640x480 with 1 Axes>"
      ]
     },
     "metadata": {},
     "output_type": "display_data"
    }
   ],
   "source": [
    "import pandas as pd\n",
    "import seaborn as sns\n",
    "df = pd.DataFrame({\"x\":x, \"y\":y})\n",
    "sns.stripplot(data=df, x=\"x\", y=\"y\")\n",
    "df.groupby(\"x\")[\"y\"].mean()"
   ]
  },
  {
   "cell_type": "code",
   "execution_count": 3,
   "id": "585ab5cf-e63d-4724-89da-7ea1d224dcb7",
   "metadata": {},
   "outputs": [
    {
     "data": {
      "text/plain": [
       "F_onewayResult(statistic=62.07182379512491, pvalue=1.113218183344844e-25)"
      ]
     },
     "execution_count": 3,
     "metadata": {},
     "output_type": "execute_result"
    }
   ],
   "source": [
    "# One-way ANOVA\n",
    "from scipy.stats import f_oneway\n",
    "\n",
    "x1 = df[x==1][\"y\"]\n",
    "x2 = df[x==2][\"y\"]\n",
    "x3 = df[x==3][\"y\"]\n",
    "x4 = df[x==4][\"y\"]\n",
    "x5 = df[x==5][\"y\"]\n",
    "res = f_oneway(x1, x2, x3, x4, x5)\n",
    "res"
   ]
  },
  {
   "cell_type": "code",
   "execution_count": 4,
   "id": "5513855d-c644-4f70-ad71-b016d88b9310",
   "metadata": {},
   "outputs": [
    {
     "data": {
      "text/html": [
       "<div>\n",
       "<style scoped>\n",
       "    .dataframe tbody tr th:only-of-type {\n",
       "        vertical-align: middle;\n",
       "    }\n",
       "\n",
       "    .dataframe tbody tr th {\n",
       "        vertical-align: top;\n",
       "    }\n",
       "\n",
       "    .dataframe thead th {\n",
       "        text-align: right;\n",
       "    }\n",
       "</style>\n",
       "<table border=\"1\" class=\"dataframe\">\n",
       "  <thead>\n",
       "    <tr style=\"text-align: right;\">\n",
       "      <th></th>\n",
       "      <th>sum_sq</th>\n",
       "      <th>df</th>\n",
       "      <th>F</th>\n",
       "      <th>PR(&gt;F)</th>\n",
       "    </tr>\n",
       "  </thead>\n",
       "  <tbody>\n",
       "    <tr>\n",
       "      <th>C(x)</th>\n",
       "      <td>250.940237</td>\n",
       "      <td>4.0</td>\n",
       "      <td>62.071824</td>\n",
       "      <td>1.113218e-25</td>\n",
       "    </tr>\n",
       "    <tr>\n",
       "      <th>Residual</th>\n",
       "      <td>96.015072</td>\n",
       "      <td>95.0</td>\n",
       "      <td>NaN</td>\n",
       "      <td>NaN</td>\n",
       "    </tr>\n",
       "  </tbody>\n",
       "</table>\n",
       "</div>"
      ],
      "text/plain": [
       "              sum_sq    df          F        PR(>F)\n",
       "C(x)      250.940237   4.0  62.071824  1.113218e-25\n",
       "Residual   96.015072  95.0        NaN           NaN"
      ]
     },
     "execution_count": 4,
     "metadata": {},
     "output_type": "execute_result"
    }
   ],
   "source": [
    "import statsmodels.api as sm\n",
    "from statsmodels.formula.api import ols\n",
    "\n",
    "# get ANOVA table as R like output\n",
    "model = ols('y ~ C(x)', data=df).fit()\n",
    "anova_table = sm.stats.anova_lm(model, typ=2)\n",
    "anova_table"
   ]
  },
  {
   "cell_type": "code",
   "execution_count": null,
   "id": "dabd7b14-3d1b-4f79-96a5-184d01bf2138",
   "metadata": {},
   "outputs": [],
   "source": []
  },
  {
   "cell_type": "code",
   "execution_count": 5,
   "id": "8b272014-a42a-457d-9f4a-ee1971dd5c28",
   "metadata": {},
   "outputs": [
    {
     "data": {
      "text/html": [
       "<table class=\"simpletable\">\n",
       "<caption>OLS Regression Results</caption>\n",
       "<tr>\n",
       "  <th>Dep. Variable:</th>            <td>y</td>        <th>  R-squared:         </th> <td>   0.723</td>\n",
       "</tr>\n",
       "<tr>\n",
       "  <th>Model:</th>                   <td>OLS</td>       <th>  Adj. R-squared:    </th> <td>   0.712</td>\n",
       "</tr>\n",
       "<tr>\n",
       "  <th>Method:</th>             <td>Least Squares</td>  <th>  F-statistic:       </th> <td>   62.07</td>\n",
       "</tr>\n",
       "<tr>\n",
       "  <th>Date:</th>             <td>Tue, 21 Nov 2023</td> <th>  Prob (F-statistic):</th> <td>1.11e-25</td>\n",
       "</tr>\n",
       "<tr>\n",
       "  <th>Time:</th>                 <td>14:57:13</td>     <th>  Log-Likelihood:    </th> <td> -139.86</td>\n",
       "</tr>\n",
       "<tr>\n",
       "  <th>No. Observations:</th>      <td>   100</td>      <th>  AIC:               </th> <td>   289.7</td>\n",
       "</tr>\n",
       "<tr>\n",
       "  <th>Df Residuals:</th>          <td>    95</td>      <th>  BIC:               </th> <td>   302.7</td>\n",
       "</tr>\n",
       "<tr>\n",
       "  <th>Df Model:</th>              <td>     4</td>      <th>                     </th>     <td> </td>   \n",
       "</tr>\n",
       "<tr>\n",
       "  <th>Covariance Type:</th>      <td>nonrobust</td>    <th>                     </th>     <td> </td>   \n",
       "</tr>\n",
       "</table>\n",
       "<table class=\"simpletable\">\n",
       "<tr>\n",
       "      <td></td>         <th>coef</th>     <th>std err</th>      <th>t</th>      <th>P>|t|</th>  <th>[0.025</th>    <th>0.975]</th>  \n",
       "</tr>\n",
       "<tr>\n",
       "  <th>Intercept</th> <td>    1.1144</td> <td>    0.225</td> <td>    4.957</td> <td> 0.000</td> <td>    0.668</td> <td>    1.561</td>\n",
       "</tr>\n",
       "<tr>\n",
       "  <th>C(x)[T.2]</th> <td>    0.8437</td> <td>    0.304</td> <td>    2.772</td> <td> 0.007</td> <td>    0.239</td> <td>    1.448</td>\n",
       "</tr>\n",
       "<tr>\n",
       "  <th>C(x)[T.3]</th> <td>    1.7297</td> <td>    0.322</td> <td>    5.370</td> <td> 0.000</td> <td>    1.090</td> <td>    2.369</td>\n",
       "</tr>\n",
       "<tr>\n",
       "  <th>C(x)[T.4]</th> <td>    3.0837</td> <td>    0.350</td> <td>    8.802</td> <td> 0.000</td> <td>    2.388</td> <td>    3.779</td>\n",
       "</tr>\n",
       "<tr>\n",
       "  <th>C(x)[T.5]</th> <td>    4.2962</td> <td>    0.307</td> <td>   13.977</td> <td> 0.000</td> <td>    3.686</td> <td>    4.906</td>\n",
       "</tr>\n",
       "</table>\n",
       "<table class=\"simpletable\">\n",
       "<tr>\n",
       "  <th>Omnibus:</th>       <td> 3.712</td> <th>  Durbin-Watson:     </th> <td>   1.985</td>\n",
       "</tr>\n",
       "<tr>\n",
       "  <th>Prob(Omnibus):</th> <td> 0.156</td> <th>  Jarque-Bera (JB):  </th> <td>   3.318</td>\n",
       "</tr>\n",
       "<tr>\n",
       "  <th>Skew:</th>          <td>-0.444</td> <th>  Prob(JB):          </th> <td>   0.190</td>\n",
       "</tr>\n",
       "<tr>\n",
       "  <th>Kurtosis:</th>      <td> 3.084</td> <th>  Cond. No.          </th> <td>    5.87</td>\n",
       "</tr>\n",
       "</table><br/><br/>Notes:<br/>[1] Standard Errors assume that the covariance matrix of the errors is correctly specified."
      ],
      "text/latex": [
       "\\begin{center}\n",
       "\\begin{tabular}{lclc}\n",
       "\\toprule\n",
       "\\textbf{Dep. Variable:}    &        y         & \\textbf{  R-squared:         } &     0.723   \\\\\n",
       "\\textbf{Model:}            &       OLS        & \\textbf{  Adj. R-squared:    } &     0.712   \\\\\n",
       "\\textbf{Method:}           &  Least Squares   & \\textbf{  F-statistic:       } &     62.07   \\\\\n",
       "\\textbf{Date:}             & Tue, 21 Nov 2023 & \\textbf{  Prob (F-statistic):} &  1.11e-25   \\\\\n",
       "\\textbf{Time:}             &     14:57:13     & \\textbf{  Log-Likelihood:    } &   -139.86   \\\\\n",
       "\\textbf{No. Observations:} &         100      & \\textbf{  AIC:               } &     289.7   \\\\\n",
       "\\textbf{Df Residuals:}     &          95      & \\textbf{  BIC:               } &     302.7   \\\\\n",
       "\\textbf{Df Model:}         &           4      & \\textbf{                     } &             \\\\\n",
       "\\textbf{Covariance Type:}  &    nonrobust     & \\textbf{                     } &             \\\\\n",
       "\\bottomrule\n",
       "\\end{tabular}\n",
       "\\begin{tabular}{lcccccc}\n",
       "                   & \\textbf{coef} & \\textbf{std err} & \\textbf{t} & \\textbf{P$> |$t$|$} & \\textbf{[0.025} & \\textbf{0.975]}  \\\\\n",
       "\\midrule\n",
       "\\textbf{Intercept} &       1.1144  &        0.225     &     4.957  &         0.000        &        0.668    &        1.561     \\\\\n",
       "\\textbf{C(x)[T.2]} &       0.8437  &        0.304     &     2.772  &         0.007        &        0.239    &        1.448     \\\\\n",
       "\\textbf{C(x)[T.3]} &       1.7297  &        0.322     &     5.370  &         0.000        &        1.090    &        2.369     \\\\\n",
       "\\textbf{C(x)[T.4]} &       3.0837  &        0.350     &     8.802  &         0.000        &        2.388    &        3.779     \\\\\n",
       "\\textbf{C(x)[T.5]} &       4.2962  &        0.307     &    13.977  &         0.000        &        3.686    &        4.906     \\\\\n",
       "\\bottomrule\n",
       "\\end{tabular}\n",
       "\\begin{tabular}{lclc}\n",
       "\\textbf{Omnibus:}       &  3.712 & \\textbf{  Durbin-Watson:     } &    1.985  \\\\\n",
       "\\textbf{Prob(Omnibus):} &  0.156 & \\textbf{  Jarque-Bera (JB):  } &    3.318  \\\\\n",
       "\\textbf{Skew:}          & -0.444 & \\textbf{  Prob(JB):          } &    0.190  \\\\\n",
       "\\textbf{Kurtosis:}      &  3.084 & \\textbf{  Cond. No.          } &     5.87  \\\\\n",
       "\\bottomrule\n",
       "\\end{tabular}\n",
       "%\\caption{OLS Regression Results}\n",
       "\\end{center}\n",
       "\n",
       "Notes: \\newline\n",
       " [1] Standard Errors assume that the covariance matrix of the errors is correctly specified."
      ],
      "text/plain": [
       "<class 'statsmodels.iolib.summary.Summary'>\n",
       "\"\"\"\n",
       "                            OLS Regression Results                            \n",
       "==============================================================================\n",
       "Dep. Variable:                      y   R-squared:                       0.723\n",
       "Model:                            OLS   Adj. R-squared:                  0.712\n",
       "Method:                 Least Squares   F-statistic:                     62.07\n",
       "Date:                Tue, 21 Nov 2023   Prob (F-statistic):           1.11e-25\n",
       "Time:                        14:57:13   Log-Likelihood:                -139.86\n",
       "No. Observations:                 100   AIC:                             289.7\n",
       "Df Residuals:                      95   BIC:                             302.7\n",
       "Df Model:                           4                                         \n",
       "Covariance Type:            nonrobust                                         \n",
       "==============================================================================\n",
       "                 coef    std err          t      P>|t|      [0.025      0.975]\n",
       "------------------------------------------------------------------------------\n",
       "Intercept      1.1144      0.225      4.957      0.000       0.668       1.561\n",
       "C(x)[T.2]      0.8437      0.304      2.772      0.007       0.239       1.448\n",
       "C(x)[T.3]      1.7297      0.322      5.370      0.000       1.090       2.369\n",
       "C(x)[T.4]      3.0837      0.350      8.802      0.000       2.388       3.779\n",
       "C(x)[T.5]      4.2962      0.307     13.977      0.000       3.686       4.906\n",
       "==============================================================================\n",
       "Omnibus:                        3.712   Durbin-Watson:                   1.985\n",
       "Prob(Omnibus):                  0.156   Jarque-Bera (JB):                3.318\n",
       "Skew:                          -0.444   Prob(JB):                        0.190\n",
       "Kurtosis:                       3.084   Cond. No.                         5.87\n",
       "==============================================================================\n",
       "\n",
       "Notes:\n",
       "[1] Standard Errors assume that the covariance matrix of the errors is correctly specified.\n",
       "\"\"\""
      ]
     },
     "execution_count": 5,
     "metadata": {},
     "output_type": "execute_result"
    }
   ],
   "source": [
    "# MEANS\n",
    "# 1    1.114427\n",
    "# 2    1.958159\n",
    "# 3    2.844082\n",
    "# 4    4.198083\n",
    "# 5    5.410594\n",
    "\n",
    "# Ordinary Least Squares (OLS) model\n",
    "model = ols('y ~ C(x)', data=df).fit()\n",
    "model.summary()"
   ]
  },
  {
   "cell_type": "code",
   "execution_count": 6,
   "id": "084c9936-f6f8-4f05-b934-975b3272d13f",
   "metadata": {},
   "outputs": [
    {
     "data": {
      "text/plain": [
       "array([1.11442735, 0.84373124, 1.72965468, 3.0836561 , 4.29616654])"
      ]
     },
     "execution_count": 6,
     "metadata": {},
     "output_type": "execute_result"
    }
   ],
   "source": [
    "betas = model.params.values\n",
    "betas"
   ]
  },
  {
   "cell_type": "code",
   "execution_count": 7,
   "id": "5771d4d4-68d9-43a1-a8e4-d2955076cccf",
   "metadata": {},
   "outputs": [
    {
     "data": {
      "text/plain": [
       "array([1.11442735, 1.95815859, 2.84408203, 4.19808345, 5.41059388])"
      ]
     },
     "execution_count": 7,
     "metadata": {},
     "output_type": "execute_result"
    }
   ],
   "source": [
    "scaled_batas = np.concatenate([[betas[0]], betas[0]+betas[1:]])\n",
    "scaled_batas"
   ]
  },
  {
   "cell_type": "code",
   "execution_count": 8,
   "id": "20da12e3-3d56-46a9-839f-6befa2ac2923",
   "metadata": {},
   "outputs": [
    {
     "data": {
      "text/plain": [
       "array([ True,  True,  True,  True,  True])"
      ]
     },
     "execution_count": 8,
     "metadata": {},
     "output_type": "execute_result"
    }
   ],
   "source": [
    "# Check if the two results are numerically equivalent\n",
    "np.isclose(scaled_batas, df.groupby(\"x\")[\"y\"].mean().values)"
   ]
  },
  {
   "cell_type": "code",
   "execution_count": 9,
   "id": "ceb6dd7a-757b-433c-bef9-6db33445d88e",
   "metadata": {},
   "outputs": [],
   "source": [
    "# # Ordinary Least Squares (OLS) model (no intercept)\n",
    "# model = ols('y ~ C(x) -1', data=df).fit()\n",
    "# model.summary()"
   ]
  },
  {
   "cell_type": "code",
   "execution_count": null,
   "id": "0cfd8da5-bd7f-4126-8273-4dde11c5d2f8",
   "metadata": {},
   "outputs": [],
   "source": []
  },
  {
   "cell_type": "code",
   "execution_count": 70,
   "id": "d101924f-1212-4fb3-840f-e749c66bde57",
   "metadata": {},
   "outputs": [],
   "source": [
    "from scipy.stats.mstats import argstoarray\n",
    "data = argstoarray(x1.values, x2.values, x3.values, x4.values, x5.values)"
   ]
  },
  {
   "cell_type": "code",
   "execution_count": 48,
   "id": "3eb6d232-eb3f-4e39-b075-9a59f1cbf09e",
   "metadata": {},
   "outputs": [
    {
     "data": {
      "text/plain": [
       "250.9402371658938"
      ]
     },
     "execution_count": 48,
     "metadata": {},
     "output_type": "execute_result"
    }
   ],
   "source": [
    "data.count(axis=1)\n",
    "np.sum( data.count(axis=1) * ( data.mean(axis=1) - data.mean() )**2 )"
   ]
  },
  {
   "cell_type": "code",
   "execution_count": 65,
   "id": "a5b87e0e-58fb-41df-bbb5-1b25981eb9f6",
   "metadata": {},
   "outputs": [
    {
     "data": {
      "text/plain": [
       "96.01507202947789"
      ]
     },
     "execution_count": 65,
     "metadata": {},
     "output_type": "execute_result"
    }
   ],
   "source": [
    "# sswg manual compute\n",
    "gmeans = data.mean(axis=1)\n",
    "data_minus_gmeans = np.subtract(data.T, gmeans).T\n",
    "(data_minus_gmeans**2).sum()"
   ]
  },
  {
   "cell_type": "code",
   "execution_count": 69,
   "id": "7190e9f5-75da-4276-9e64-054fa1f90bdd",
   "metadata": {},
   "outputs": [
    {
     "data": {
      "text/plain": [
       "96.01507202947788"
      ]
     },
     "execution_count": 69,
     "metadata": {},
     "output_type": "execute_result"
    }
   ],
   "source": [
    "# sswg via parallel axis thm\n",
    "gmeans = data.mean(axis=1)\n",
    "np.sum( (data**2).sum(axis=1) - data.count(axis=1) * gmeans**2 )"
   ]
  },
  {
   "cell_type": "code",
   "execution_count": 45,
   "id": "66e95cb3-7eb8-4085-9679-8ba4ad9a62fd",
   "metadata": {},
   "outputs": [],
   "source": [
    "from scipy.stats import f as fdist\n",
    "\n",
    "def f_oneway(*args):\n",
    "    \"\"\"\n",
    "    Performs a 1-way ANOVA, returning an F-value and probability given\n",
    "    any number of groups.  From Heiman, pp.394-7.\n",
    "    \"\"\"\n",
    "    # Construct a single array of arguments: each row is a group\n",
    "    data = argstoarray(*args)\n",
    "    ngroups = len(data)\n",
    "    ntot = data.count()\n",
    "    sstot = (data**2).sum() - (data.sum())**2/float(ntot)\n",
    "    ssbg = (data.count(-1) * (data.mean(-1)-data.mean())**2).sum()\n",
    "    sswg = sstot-ssbg\n",
    "    print(ssbg, sswg, sstot)\n",
    "    dfbg = ngroups-1\n",
    "    dfwg = ntot - ngroups\n",
    "    msb = ssbg/float(dfbg)\n",
    "    msw = sswg/float(dfwg)\n",
    "    f = msb/msw\n",
    "    prob = fdist.sf(dfbg, dfwg, f)\n",
    "    return f, prob\n"
   ]
  },
  {
   "cell_type": "code",
   "execution_count": 46,
   "id": "f42c02af-e16c-4084-b3e2-7247aa775253",
   "metadata": {},
   "outputs": [
    {
     "name": "stdout",
     "output_type": "stream",
     "text": [
      "250.9402371658938 96.01507202947755 346.95530919537134\n"
     ]
    },
    {
     "data": {
      "text/plain": [
       "(62.07182379512513, 1.697371507321727e-08)"
      ]
     },
     "execution_count": 46,
     "metadata": {},
     "output_type": "execute_result"
    }
   ],
   "source": [
    "f_oneway(x1.values, x2.values, x3.values, x4.values, x5.values)"
   ]
  },
  {
   "cell_type": "code",
   "execution_count": null,
   "id": "d6a4ed5d-f7a5-45ef-9a03-4df3ca3b62f2",
   "metadata": {},
   "outputs": [],
   "source": []
  }
 ],
 "metadata": {
  "kernelspec": {
   "display_name": "Python 3 (ipykernel)",
   "language": "python",
   "name": "python3"
  },
  "language_info": {
   "codemirror_mode": {
    "name": "ipython",
    "version": 3
   },
   "file_extension": ".py",
   "mimetype": "text/x-python",
   "name": "python",
   "nbconvert_exporter": "python",
   "pygments_lexer": "ipython3",
   "version": "3.9.4"
  }
 },
 "nbformat": 4,
 "nbformat_minor": 5
}
