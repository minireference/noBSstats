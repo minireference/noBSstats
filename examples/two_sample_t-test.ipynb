{
 "cells": [
  {
   "cell_type": "markdown",
   "id": "229b9ce5-9ba8-406a-bb1a-5979d1e2a64f",
   "metadata": {},
   "source": [
    "# Welch's two-sample $t$-test\n",
    "\n",
    "The goal of Welch's two-sample $t$-test to check if the means two unknown population $X \\sim \\mathcal{N}(\\mu_X, \\sigma_X)$ and $Y \\sim \\mathcal{N}(\\mu_Y, \\sigma_Y)$\n",
    "are the same or different.\n",
    "\n",
    "For statistical design considerations related to two-sample tests,\n",
    "see the notebook [`statistical_design.ipynb`](./statistical_design.ipynb)."
   ]
  },
  {
   "cell_type": "code",
   "execution_count": 1,
   "id": "a75de327-d02b-47a0-bcc6-57cb317b9d7c",
   "metadata": {},
   "outputs": [],
   "source": [
    "import matplotlib.pyplot as plt\n",
    "import numpy as np\n",
    "import seaborn as sns\n",
    "import pandas as pd"
   ]
  },
  {
   "cell_type": "code",
   "execution_count": 2,
   "id": "1cf0b78f-2944-4e26-83b7-553b70f70398",
   "metadata": {},
   "outputs": [],
   "source": [
    "%matplotlib inline\n",
    "%config InlineBackend.figure_format = 'retina'"
   ]
  },
  {
   "cell_type": "markdown",
   "id": "074beb38-077f-4037-8441-5c645de0a100",
   "metadata": {},
   "source": [
    "$\\def\\stderr#1{\\mathbf{se}_{#1}}$\n",
    "$\\def\\stderrhat#1{\\widehat{\\mathbf{se}}_{#1}}$\n",
    "$\\newcommand{\\Mean}{\\textbf{Mean}}$\n",
    "$\\newcommand{\\Var}{\\textbf{Var}}$\n",
    "$\\newcommand{\\Std}{\\textbf{Std}}$\n",
    "$\\newcommand{\\Freq}{\\textbf{Freq}}$\n",
    "$\\newcommand{\\RelFreq}{\\textbf{RelFreq}}$\n",
    "$\\newcommand{\\DMeans}{\\textbf{DMeans}}$\n",
    "$\\newcommand{\\Prop}{\\textbf{Prop}}$\n",
    "$\\newcommand{\\DProps}{\\textbf{DProps}}$"
   ]
  },
  {
   "cell_type": "markdown",
   "id": "09804789-d86e-4df9-a3d9-4106bfbf76d1",
   "metadata": {},
   "source": [
    "## Data\n",
    "Two samples of numerical observations $\\mathbf{x}=[x_1, x_2, \\ldots, x_n]$\n",
    "and $\\mathbf{y}=[y_1, y_2,\\ldots, y_m]$ from independent populations."
   ]
  },
  {
   "cell_type": "markdown",
   "id": "d69a9922-b2a7-44f3-83f1-ed3713d71e8f",
   "metadata": {},
   "source": [
    "## Assumptions\n",
    "\n",
    "We assume the unknown populations are normally distributed $\\textbf{(NORM)}$,\n",
    "or the sample is large enough $\\textbf{(LARGEn)}$,\n",
    "so that the sampling distributions of the means in the two populations will be approximately normally distributed:\n",
    "\n",
    "$$\n",
    "  \\overline{\\mathbf{X}} \\sim \\mathcal{N}\\left(\\mu_X, \\frac{\\sigma_X}{n}\\right)\n",
    "  \\qquad\n",
    "  \\text{and}\n",
    "  \\qquad\n",
    "  \\overline{\\mathbf{Y}} \\sim \\mathcal{N}\\left(\\mu_Y, \\frac{\\sigma_Y}{n}\\right),\n",
    "$$\n",
    "where $\\sigma_X$ and $\\sigma_Y$ are the standard deviations of the unknown populations."
   ]
  },
  {
   "cell_type": "markdown",
   "id": "b69c7ac0-31bd-479e-afb4-f9505bfca4ef",
   "metadata": {},
   "source": [
    "## Hypotheses\n",
    "\n",
    "$H_0: \\mu_X = \\mu_Y$ and $H_A: \\mu_X \\neq \\mu_Y$."
   ]
  },
  {
   "cell_type": "code",
   "execution_count": null,
   "id": "31dea3e9-c468-48c4-ab99-874ac609cadd",
   "metadata": {},
   "outputs": [],
   "source": []
  },
  {
   "cell_type": "markdown",
   "id": "2caa546d-50f5-4242-bf3a-56b91d2fc749",
   "metadata": {},
   "source": [
    "## Estimates\n",
    "\n",
    "Compute the sample means\n",
    "$\\overline{\\mathbf{x}} = \\Mean(\\mathbf{x}) = \\frac{1}{n}\\sum_{i=1}^n x_i$,\n",
    "$\\overline{\\mathbf{y}} = \\Mean(\\mathbf{y}) = \\frac{1}{m}\\sum_{i=1}^m y_i$,\n",
    "and the observed difference between means\n",
    "$\\hat{d} = \\DMeans(\\mathbf{x}, \\mathbf{y}) = \\overline{\\mathbf{x}} - \\overline{\\mathbf{y}}$.\n",
    "\n",
    "We need to also compute the standard deviations\n",
    "$s_{\\mathbf{x}} = \\Std(\\mathbf{x}) = \\sqrt{ \\frac{1}{n-1}\\sum_{i=1}^n (x_i-\\overline{\\mathbf{x}})^2 }$\n",
    "and \n",
    "$s_{\\mathbf{y}} = \\Std(\\mathbf{y}) = \\sqrt{ \\frac{1}{m-1}\\sum_{i=1}^m (y_i-\\overline{\\mathbf{y}})^2 }$,\n",
    "which are estimates for the unknown population standard deviations $\\sigma_X$ and $\\sigma_Y$."
   ]
  },
  {
   "cell_type": "markdown",
   "id": "a2489bb2-2726-4c8b-8c7c-d6999ab7e6af",
   "metadata": {},
   "source": [
    "## Formulas\n",
    "\n",
    "The estimated standard error of the difference-between-means estimator is\n",
    "\n",
    "$$\n",
    "  \\stderrhat{\\hat{d}}\n",
    "        \\; = \\; \\sqrt{  \\stderrhat{\\overline{\\mathbf{x}}}^2 + \\stderrhat{\\overline{\\mathbf{y}}}^2 }\n",
    "        = \\sqrt{ \\tfrac{s_{\\mathbf{x}}^2}{n} + \\tfrac{s_{\\mathbf{y}}^2}{m} },\n",
    "$$\n",
    "\n",
    "where $s_{\\mathbf{x}}$ and $s_{\\mathbf{y}}$ are the sample standard deviations.\n",
    "\n",
    "\n",
    "The Welch--Satterthwaite formula for the degrees of freedom parameter $\\nu_d$ is\n",
    "\n",
    "$$\n",
    "\\nu_d\n",
    "    \\;\\; = \\;\\;\n",
    "    \\frac{ \t\\big(\\stderrhat{\\overline{\\mathbf{x}}}^2 + \\stderrhat{\\overline{\\mathbf{y}}}^2\\big)^2 }\n",
    "         {\t\\tfrac{\\stderrhat{\\overline{\\mathbf{x}}}^4}{n-1} + \\tfrac{\\stderrhat{\\overline{\\mathbf{y}}}^4}{m-1}\t}.\n",
    "$$\n",
    "\n",
    "In Python, we can calculate $\\nu_d$ by calling the helper function `calcdf`:\n",
    "$\\nu_d = \\tt{calcdf}(s_{\\mathbf{x}}, n, s_{\\mathbf{y}}, m)$."
   ]
  },
  {
   "cell_type": "markdown",
   "id": "ab880b56-b783-4c32-b2cd-8cb66b59f766",
   "metadata": {},
   "source": [
    "## Test statistic\n",
    "\n",
    "Compute the $t$-statistic $t = \\frac{\\hat{d} - 0}{ \\stderrhat{\\hat{d}} }$."
   ]
  },
  {
   "cell_type": "markdown",
   "id": "46a6143a-ca4b-4568-bf5a-862a577c8c21",
   "metadata": {},
   "source": [
    "## Sampling distribution\n",
    "\n",
    "Student's $t$-distribution with $\\nu_d$ degrees of freedom,\n",
    "where the degrees of freedom parameter is computed using\n",
    "the helper function `calcdf`:\n",
    "$\\nu_d = \\tt{calcdf}(s_{\\mathbf{x}}, n, s_{\\mathbf{y}}, m)$,\n",
    "which implements the Welch--Satterthwaite formula."
   ]
  },
  {
   "cell_type": "markdown",
   "id": "732aa06f-c15c-4709-a36a-f81b3fd4d5d0",
   "metadata": {},
   "source": [
    "## P-value calculation\n",
    "\n",
    "To obtain the $p$-value,\n",
    "we first compute the observed $t$-statistic,\n",
    "then calculate the tail probabilities in the two tails of the standard normal distribution $T_0 \\sim \\mathcal{T}(\\nu_d)$."
   ]
  },
  {
   "cell_type": "code",
   "execution_count": 3,
   "id": "37cd001f-96ab-44e5-bdf3-2df9bb2c4194",
   "metadata": {},
   "outputs": [],
   "source": [
    "from ministats import ttest_dmeans\n",
    "from scipy.stats import ttest_ind"
   ]
  },
  {
   "cell_type": "markdown",
   "id": "621379c6-d766-4f7d-a8aa-e63c9e52b7d3",
   "metadata": {},
   "source": [
    "Let's look at the source code of the function `ttest_dmeans`,\n",
    "which performs the steps of the two-sample t-test.\n",
    "\n",
    "```Python\n",
    "import numpy as np\n",
    "from scipy.stats import t as tdist\n",
    "from ministats import mean, std, calcdf, tailprobs\n",
    "\n",
    "def ttest_dmeans(xsample, ysample, alt=\"two-sided\"):\n",
    "    \"\"\"\n",
    "    T-test to detect difference between two populations means\n",
    "    based on the difference between sample means.\n",
    "    \"\"\"\n",
    "    # Calculate the observed difference between means\n",
    "    obsdhat = mean(xsample) - mean(ysample)\n",
    "\n",
    "    # Calculate the sample sizes and the stds\n",
    "    n, m = len(xsample), len(ysample)\n",
    "    sx, sy = std(xsample), std(ysample)\n",
    "\n",
    "    # Calculate the standard error, the degrees of\n",
    "    # freedom, the null model, and the t-statistic\n",
    "    seD = np.sqrt(sx**2/n + sy**2/m)\n",
    "    obst = (obsdhat - 0) / seD\n",
    "    dfD = calcdf(sx, n, sy, m)\n",
    "    rvT0 = tdist(df=dfD)\n",
    "\n",
    "    # Calculate the p-value from the t-distribution\n",
    "    pvalue = tailprobs(rvT0, obst, alt=alt)\n",
    "    return pvalue\n",
    "```\n",
    "\n",
    "See Section 3.5 in the **No Bullshit Guide to Statistics** for the detailed explanation of these steps.\n",
    "You can also check out the section **Analytical approximation methods** in the notebook [notebooks/35_two_sample_tests.ipynb](../notebooks/35_two_sample_tests.ipynb#Analytical-approximation-methods)."
   ]
  },
  {
   "cell_type": "markdown",
   "id": "971895b0-bb9b-4eae-b8a4-d76ac6796bb4",
   "metadata": {},
   "source": [
    "To perform the two-sample $t$-test on the samples `xs` and `ys`,\n",
    "we call `ttest_dmeans(xs, ys)` or `ttest_ind(xs, ys, equal_var=False)`,\n",
    "as we'll show in the [Examples](#Examples) section below."
   ]
  },
  {
   "cell_type": "code",
   "execution_count": null,
   "id": "b8d34961-f391-4d3e-b034-255a865b5f05",
   "metadata": {},
   "outputs": [],
   "source": []
  },
  {
   "cell_type": "markdown",
   "id": "4192e605-60fd-47db-8a1e-b7d88cb69469",
   "metadata": {},
   "source": [
    "## Effect size estimates"
   ]
  },
  {
   "cell_type": "code",
   "execution_count": 4,
   "id": "42a8f2a2-67b6-4ea6-a363-39363232c7de",
   "metadata": {},
   "outputs": [],
   "source": [
    "from ministats import ci_dmeans"
   ]
  },
  {
   "cell_type": "markdown",
   "id": "d8d0e2d7-309a-48d1-bbd8-a6d9eb2b8620",
   "metadata": {},
   "source": [
    "\n",
    "```Python\n",
    "import numpy as np\n",
    "from scipy.stats import t as tdist\n",
    "from ministats import calcdf\n",
    "\n",
    "def ci_dmeans(xsample, ysample, alpha=0.1):\n",
    "    \"\"\"\n",
    "    Compute confidence interval for the difference between population means.\n",
    "    \"\"\"\n",
    "    stdX, n = np.std(xsample, ddof=1), len(xsample)\n",
    "    stdY, m = np.std(ysample, ddof=1), len(ysample)\n",
    "    dhat = np.mean(xsample) - np.mean(ysample)\n",
    "    seD = np.sqrt(stdX**2/n + stdY**2/m)\n",
    "    dfD = calcdf(stdX, n, stdY, m)\n",
    "    t_l = tdist(df=dfD).ppf(alpha/2)\n",
    "    t_u = tdist(df=dfD).ppf(1-alpha/2)\n",
    "    return [dhat + t_l*seD, dhat + t_u*seD]\n",
    "```\n",
    "\n",
    "TODO: narrate code\n",
    "\n",
    "To use the function ..."
   ]
  },
  {
   "cell_type": "code",
   "execution_count": null,
   "id": "57a2e6d0-a08e-4efe-92aa-f0562ca008a8",
   "metadata": {},
   "outputs": [],
   "source": []
  },
  {
   "cell_type": "markdown",
   "id": "4e4ae187-80fd-4423-83d0-f6b33d95c711",
   "metadata": {},
   "source": [
    "## Related\n",
    "\n",
    "1. The two-sample t-test is an improved version of the two-sample z-test\n",
    "1. The Welch's two-sample t-test always a better option than the two-sample t-test with pooled variance\n",
    "1. An alternative approach for comparing two groups is to use the permutation test (TODO link to nb)\n",
    "1. Another alternative is to use the linear model (TODO: deep link to the everything is a LM)\n"
   ]
  },
  {
   "cell_type": "code",
   "execution_count": null,
   "id": "2385f46a-ec7b-4b74-a944-c46e6e5c861f",
   "metadata": {},
   "outputs": [],
   "source": []
  },
  {
   "cell_type": "markdown",
   "id": "c46e51cc-143b-4e0c-8872-c17a54e7810d",
   "metadata": {},
   "source": [
    "## Examples\n",
    "\n",
    "Let's start by generating some samples from the following three populations\n",
    "for use in the examples we present below.\n",
    "\n",
    "$$\n",
    "    A \\sim \\mathcal{N}(\\mu_A= 104, \\sigma_A=3),\n",
    "    \\qquad\n",
    "    B \\sim \\mathcal{N}(\\mu_B=100,\\sigma_B=5),\n",
    "    \\quad\n",
    "    \\text{and}\n",
    "    \\quad\n",
    "    C \\sim \\mathcal{N}(\\mu_C=100,\\sigma_C=5).\n",
    "$$\n",
    "\n",
    "Note populations $B$ and $C$ are identical.\n",
    "\n",
    "We'll now generate a samples of size $n=20$ from each of these populaitons\n",
    "and store them in a Pandas data frame called `data`."
   ]
  },
  {
   "cell_type": "code",
   "execution_count": 5,
   "id": "ab9c156b-0534-41f2-b7eb-3bfffab19822",
   "metadata": {},
   "outputs": [],
   "source": [
    "from scipy.stats import norm\n",
    "\n",
    "np.random.seed(42)\n",
    "\n",
    "n = 20   # sample size\n",
    "\n",
    "# Sample A: size = 20, population = N(104,3)\n",
    "avals = norm(104,3).rvs(n)\n",
    "dataA = pd.DataFrame({\"pop\":[\"A\"]*n, \"val\":avals})\n",
    "\n",
    "# Sample B: size=20, population = N(100,5)\n",
    "bvals = norm(100,5).rvs(n)\n",
    "dataB = pd.DataFrame({\"pop\":[\"B\"]*n, \"val\":bvals})\n",
    "\n",
    "# Sample C: size=20, same population as Sample B\n",
    "cvals = norm(100,5).rvs(n)\n",
    "dataC = pd.DataFrame({\"pop\":[\"C\"]*n, \"val\":cvals})\n",
    "\n",
    "data = pd.concat([dataA, dataB, dataC])"
   ]
  },
  {
   "cell_type": "markdown",
   "id": "f65e1b6e-01a6-44fd-b112-455ec9cb0226",
   "metadata": {},
   "source": [
    "### Example 1: populations are different"
   ]
  },
  {
   "cell_type": "markdown",
   "id": "00ff7da2-e598-478b-814c-1c98c1618741",
   "metadata": {},
   "source": [
    "We'll now apply the Welch's two-sample t-test to compare the samples from population A and B,\n",
    "which we know are different."
   ]
  },
  {
   "cell_type": "code",
   "execution_count": 6,
   "id": "6b4a06e4-4955-4758-ab57-bf20095e421d",
   "metadata": {},
   "outputs": [],
   "source": [
    "avals = data[data[\"pop\"]==\"A\"][\"val\"]\n",
    "bvals = data[data[\"pop\"]==\"B\"][\"val\"]"
   ]
  },
  {
   "cell_type": "markdown",
   "id": "c8ac3e92-07e7-4386-9cac-c66535302ba1",
   "metadata": {},
   "source": [
    "The sample means seem to reflect the difference between population means too..."
   ]
  },
  {
   "cell_type": "code",
   "execution_count": 7,
   "id": "93391dc9-2834-4ce9-a43b-fec486ddeca3",
   "metadata": {},
   "outputs": [
    {
     "data": {
      "text/plain": [
       "(103.48610431567451, 98.67012442302976)"
      ]
     },
     "execution_count": 7,
     "metadata": {},
     "output_type": "execute_result"
    }
   ],
   "source": [
    "avals.mean(), bvals.mean()"
   ]
  },
  {
   "cell_type": "markdown",
   "id": "f4e3de81-eb5a-49f3-8357-e844d5ed49b1",
   "metadata": {},
   "source": [
    "... but we must consider the difference between means relative to the standard deviations of the two samples."
   ]
  },
  {
   "cell_type": "code",
   "execution_count": 8,
   "id": "c210cff0-726c-47aa-bf5e-37f0bd43a89f",
   "metadata": {},
   "outputs": [
    {
     "data": {
      "text/plain": [
       "(2.880085264317079, 4.840193546088457)"
      ]
     },
     "execution_count": 8,
     "metadata": {},
     "output_type": "execute_result"
    }
   ],
   "source": [
    "avals.std(), bvals.std()"
   ]
  },
  {
   "cell_type": "markdown",
   "id": "6dfe35fa-fc47-43db-ab15-4bfe2abb6d0f",
   "metadata": {},
   "source": [
    "Here is a picture that shows the data points,\n",
    "the sample means, and the sample standard deviations for the two samples."
   ]
  },
  {
   "cell_type": "code",
   "execution_count": 9,
   "id": "591629c9-f6dc-442e-a0e9-ae83844714dd",
   "metadata": {},
   "outputs": [
    {
     "data": {
      "image/png": "[encoded data removed]",
      "text/plain": [
       "<Figure size 700x150 with 1 Axes>"
      ]
     },
     "metadata": {
      "image/png": {
       "height": 178,
       "width": 615
      }
     },
     "output_type": "display_data"
    }
   ],
   "source": [
    "import seaborn as sns\n",
    "\n",
    "data1 = data[data[\"pop\"].isin([\"A\",\"B\"])]\n",
    "with plt.rc_context({\"figure.figsize\":(7,1.5)}):\n",
    "    sns.stripplot(data=data1, x=\"val\", y=\"pop\", hue=\"pop\", jitter=0, alpha=0.5)\n",
    "    sns.pointplot(data=data1, x=\"val\", y=\"pop\", hue=\"pop\", dodge=0.5, estimator=\"mean\",\n",
    "                  errorbar=\"sd\", marker=\"D\", err_kws={\"linewidth\":1})"
   ]
  },
  {
   "cell_type": "markdown",
   "id": "48fdd480-771b-496c-a739-40dbf863183f",
   "metadata": {},
   "source": [
    "Let's now use the helper function `ttest_dmeans` to perform the two-sample t-test calculation\n",
    "and obtain the $p$-value."
   ]
  },
  {
   "cell_type": "code",
   "execution_count": 10,
   "id": "d51099e6-e01b-46f3-b4f4-8635f7f88d0e",
   "metadata": {},
   "outputs": [
    {
     "data": {
      "text/plain": [
       "0.0005953205918276521"
      ]
     },
     "execution_count": 10,
     "metadata": {},
     "output_type": "execute_result"
    }
   ],
   "source": [
    "from ministats import ttest_dmeans\n",
    "\n",
    "ttest_dmeans(avals, bvals)"
   ]
  },
  {
   "cell_type": "markdown",
   "id": "4a0c8c4b-bbdf-4ee0-85e9-a4080d4dfaa0",
   "metadata": {},
   "source": [
    "The $p$-value we obtain is 0.000595,\n",
    "which is below the cutoff value $\\alpha=0.05$,\n",
    "so our conclusion is **we reject the null hypothesis**:\n",
    "the difference between the means of the two unknown populations is statistically significant."
   ]
  },
  {
   "cell_type": "code",
   "execution_count": 11,
   "id": "03e1b127-a52b-40ba-b3c1-f173355bfc12",
   "metadata": {},
   "outputs": [],
   "source": [
    "# # ALT.\n",
    "# from scipy.stats import ttest_ind\n",
    "# ttest_ind(avals, bvals, equal_var=False)[1]"
   ]
  },
  {
   "cell_type": "markdown",
   "id": "732c379d-8d9f-457d-99c4-f7df544cee02",
   "metadata": {},
   "source": [
    "#### Effect size"
   ]
  },
  {
   "cell_type": "markdown",
   "id": "b723df9f-1960-4f76-b0b2-94b814eff636",
   "metadata": {},
   "source": [
    "The confidence interval for the effect size $\\Delta = \\mu_A - \\mu_B$ is"
   ]
  },
  {
   "cell_type": "code",
   "execution_count": 12,
   "id": "f2a108b5-4a49-4e5c-b2e9-42c06e218d21",
   "metadata": {},
   "outputs": [
    {
     "data": {
      "text/plain": [
       "[2.6805293784320785, 6.951430406857417]"
      ]
     },
     "execution_count": 12,
     "metadata": {},
     "output_type": "execute_result"
    }
   ],
   "source": [
    "ci_dmeans(avals, bvals, alpha=0.1, method='a')"
   ]
  },
  {
   "cell_type": "code",
   "execution_count": null,
   "id": "98d6f4b6-dce3-458d-a610-7fe6ba35aa94",
   "metadata": {},
   "outputs": [],
   "source": []
  },
  {
   "cell_type": "markdown",
   "id": "aa3a24ed-d585-4b3c-b5c0-f6ab6446819c",
   "metadata": {},
   "source": [
    "### Example 2: two samples from the same population"
   ]
  },
  {
   "cell_type": "markdown",
   "id": "869366ba-2513-4501-ae31-f98ee4dcb134",
   "metadata": {},
   "source": [
    "Let's now analyze the samples from populations B and C that come from the same distribution,\n",
    "which is the situation described by the null hypothesis."
   ]
  },
  {
   "cell_type": "code",
   "execution_count": 13,
   "id": "c7a49fb1-1994-4984-a60f-aff2997c9f17",
   "metadata": {},
   "outputs": [
    {
     "data": {
      "text/plain": [
       "(98.67012442302976, 99.86654813812206)"
      ]
     },
     "execution_count": 13,
     "metadata": {},
     "output_type": "execute_result"
    }
   ],
   "source": [
    "bvals = data[data[\"pop\"]==\"B\"][\"val\"]\n",
    "cvals = data[data[\"pop\"]==\"C\"][\"val\"]\n",
    "\n",
    "bvals.mean(), cvals.mean()"
   ]
  },
  {
   "cell_type": "code",
   "execution_count": 14,
   "id": "12503c15-5d7f-4fc3-8850-3f84a274d64b",
   "metadata": {},
   "outputs": [
    {
     "data": {
      "image/png": "[encoded data removed]",
      "text/plain": [
       "<Figure size 700x150 with 1 Axes>"
      ]
     },
     "metadata": {
      "image/png": {
       "height": 178,
       "width": 615
      }
     },
     "output_type": "display_data"
    }
   ],
   "source": [
    "data2 = data[data[\"pop\"].isin([\"B\", \"C\"])]\n",
    "\n",
    "with plt.rc_context({\"figure.figsize\":(7,1.5)}):\n",
    "    sns.stripplot(data=data2, x=\"val\", y=\"pop\", hue=\"pop\", jitter=0, alpha=0.5)\n",
    "    sns.pointplot(data=data2, x=\"val\", y=\"pop\", hue=\"pop\", dodge=0.5, estimator=\"mean\",\n",
    "                  errorbar=\"sd\", marker=\"D\", err_kws={\"linewidth\":1})"
   ]
  },
  {
   "cell_type": "code",
   "execution_count": 15,
   "id": "c016248d-e072-47ea-9b02-60f8fb674853",
   "metadata": {},
   "outputs": [
    {
     "data": {
      "text/plain": [
       "0.4045691564236631"
      ]
     },
     "execution_count": 15,
     "metadata": {},
     "output_type": "execute_result"
    }
   ],
   "source": [
    "from ministats import ttest_dmeans\n",
    "\n",
    "ttest_dmeans(bvals, cvals)"
   ]
  },
  {
   "cell_type": "markdown",
   "id": "78d553ed-6198-41b1-8324-4f322ff23866",
   "metadata": {},
   "source": [
    "The $p$-value we obtain is 0.40, which is above the cutoff value $\\alpha=0.05$\n",
    "so our conclusion is that we've **failed to reject the null hypothesis**:\n",
    "the means of two samples are not significantly different."
   ]
  },
  {
   "cell_type": "markdown",
   "id": "471c2a97-ee8b-40dc-bdcf-8abbb4f9ea7d",
   "metadata": {},
   "source": [
    "#### Effect size"
   ]
  },
  {
   "cell_type": "markdown",
   "id": "aebe4f7e-d37f-4b7c-b106-b2a4e7a3ceb4",
   "metadata": {},
   "source": [
    "The confidence interval for the effect size $\\Delta = \\mu_B - \\mu_C$ is"
   ]
  },
  {
   "cell_type": "code",
   "execution_count": 16,
   "id": "be6f4e4a-97f3-48a2-bbc2-b425af3a7ff6",
   "metadata": {},
   "outputs": [
    {
     "data": {
      "text/plain": [
       "[-3.590421559991184, 1.1975741298065947]"
      ]
     },
     "execution_count": 16,
     "metadata": {},
     "output_type": "execute_result"
    }
   ],
   "source": [
    "ci_dmeans(bvals, cvals, alpha=0.1, method='a')"
   ]
  },
  {
   "cell_type": "code",
   "execution_count": null,
   "id": "66352f08-4cc0-4842-8a8a-2118ce085002",
   "metadata": {},
   "outputs": [],
   "source": []
  },
  {
   "cell_type": "code",
   "execution_count": null,
   "id": "7be97955-5d4f-4779-a0ae-953b72672373",
   "metadata": {},
   "outputs": [],
   "source": []
  },
  {
   "cell_type": "markdown",
   "id": "e39aef25-d95b-4e66-bcb3-819c54f159e2",
   "metadata": {},
   "source": [
    "### Example 3: Lalonde dataset\n",
    "\n",
    "see original paper https://business.baylor.edu/scott_cunningham/teaching/lalonde-1986.pdf  \n",
    "and these links for more info: https://www.one-tab.com/page/h_npVXMeTp2T7Dm5fAlDqw\n"
   ]
  },
  {
   "cell_type": "code",
   "execution_count": 17,
   "id": "0e81390c-1b59-42a1-b8c0-9116aad37d97",
   "metadata": {},
   "outputs": [],
   "source": [
    "import pandas as pd\n",
    "lalonde = pd.read_csv(\"../datasets/lalonde.csv\")\n",
    "# lalonde.head()"
   ]
  },
  {
   "cell_type": "code",
   "execution_count": 18,
   "id": "df2d2479-e824-4f42-9242-65f71c55f082",
   "metadata": {},
   "outputs": [],
   "source": [
    "control = lalonde[lalonde[\"Training\"]==False]\n",
    "treated = lalonde[lalonde[\"Training\"]==True]\n",
    "# control.describe()\n",
    "# treated.describe()"
   ]
  },
  {
   "cell_type": "code",
   "execution_count": 19,
   "id": "97815158-d75f-4265-8aca-a45971600ea2",
   "metadata": {},
   "outputs": [
    {
     "data": {
      "text/plain": [
       "(6349.143530270271, 4554.801126)"
      ]
     },
     "execution_count": 19,
     "metadata": {},
     "output_type": "execute_result"
    }
   ],
   "source": [
    "# The means of the two groups\n",
    "treated[\"Wage_1978\"].mean(), control[\"Wage_1978\"].mean()"
   ]
  },
  {
   "cell_type": "code",
   "execution_count": 20,
   "id": "db56c395-a4ea-4480-b72b-457b03873090",
   "metadata": {},
   "outputs": [
    {
     "data": {
      "image/png": "[encoded data removed]",
      "text/plain": [
       "<Figure size 800x150 with 1 Axes>"
      ]
     },
     "metadata": {
      "image/png": {
       "height": 178,
       "width": 704
      }
     },
     "output_type": "display_data"
    }
   ],
   "source": [
    "with plt.rc_context({\"figure.figsize\":(8,1.5)}):\n",
    "    sns.stripplot(data=lalonde, x=\"Wage_1978\", y=\"Training\", hue=\"Training\",\n",
    "                  orient=\"h\", alpha=0.2)\n",
    "    sns.pointplot(data=lalonde, x=\"Wage_1978\", y=\"Training\", hue=\"Training\", dodge=0.5,\n",
    "                  orient=\"h\", estimator=\"mean\",\n",
    "                  errorbar=\"sd\", marker=\"D\", err_kws={\"linewidth\":1})\n",
    "    plt.legend().remove()"
   ]
  },
  {
   "cell_type": "code",
   "execution_count": 21,
   "id": "f0f9a248-ece6-45ca-9554-24785e57c755",
   "metadata": {},
   "outputs": [
    {
     "data": {
      "text/plain": [
       "TtestResult(statistic=2.674145513783345, pvalue=0.007892977714517335, df=307.1324931115885)"
      ]
     },
     "execution_count": 21,
     "metadata": {},
     "output_type": "execute_result"
    }
   ],
   "source": [
    "from scipy.stats import ttest_ind\n",
    "\n",
    "ttest_ind(treated[\"Wage_1978\"], control[\"Wage_1978\"], equal_var=False)"
   ]
  },
  {
   "cell_type": "markdown",
   "id": "90c4adbf-3874-4a7c-9a2c-43738b100c16",
   "metadata": {},
   "source": [
    "#### Effect size"
   ]
  },
  {
   "cell_type": "code",
   "execution_count": 22,
   "id": "b327cd11-31ea-4da0-863c-857332f1ca18",
   "metadata": {},
   "outputs": [
    {
     "data": {
      "text/plain": [
       "0.27271540735846456"
      ]
     },
     "execution_count": 22,
     "metadata": {},
     "output_type": "execute_result"
    }
   ],
   "source": [
    "from ministats import cohend2\n",
    "\n",
    "cohend2(treated[\"Wage_1978\"], control[\"Wage_1978\"])"
   ]
  },
  {
   "cell_type": "code",
   "execution_count": null,
   "id": "d9ba3736-dd86-455d-96e4-5c730d67b556",
   "metadata": {},
   "outputs": [],
   "source": []
  },
  {
   "cell_type": "markdown",
   "id": "f2e3e6fc-8e2c-4b19-9bd7-7d8ec49300e3",
   "metadata": {},
   "source": [
    "### Example 4: analysis of a dataset that contains outliers\n",
    "\n",
    "The dataset `outliers2.csv` consists of measurements of \"soil score\" variable\n",
    "using a specialized equipment for calculating soil quality.\n",
    "\n",
    "The measurement apparatus has an upper limit beyound which it doesn't function properly,\n",
    "so all observations that exceed this limit are recorded as the value 2500."
   ]
  },
  {
   "cell_type": "code",
   "execution_count": 23,
   "id": "136eb138-bda0-4a54-9ef3-8b263451318c",
   "metadata": {},
   "outputs": [
    {
     "data": {
      "text/html": [
       "<div>\n",
       "<style scoped>\n",
       "    .dataframe tbody tr th:only-of-type {\n",
       "        vertical-align: middle;\n",
       "    }\n",
       "\n",
       "    .dataframe tbody tr th {\n",
       "        vertical-align: top;\n",
       "    }\n",
       "\n",
       "    .dataframe thead tr th {\n",
       "        text-align: left;\n",
       "    }\n",
       "\n",
       "    .dataframe thead tr:last-of-type th {\n",
       "        text-align: right;\n",
       "    }\n",
       "</style>\n",
       "<table border=\"1\" class=\"dataframe\">\n",
       "  <thead>\n",
       "    <tr>\n",
       "      <th></th>\n",
       "      <th colspan=\"8\" halign=\"left\">score</th>\n",
       "    </tr>\n",
       "    <tr>\n",
       "      <th></th>\n",
       "      <th>count</th>\n",
       "      <th>mean</th>\n",
       "      <th>std</th>\n",
       "      <th>min</th>\n",
       "      <th>25%</th>\n",
       "      <th>50%</th>\n",
       "      <th>75%</th>\n",
       "      <th>max</th>\n",
       "    </tr>\n",
       "    <tr>\n",
       "      <th>group</th>\n",
       "      <th></th>\n",
       "      <th></th>\n",
       "      <th></th>\n",
       "      <th></th>\n",
       "      <th></th>\n",
       "      <th></th>\n",
       "      <th></th>\n",
       "      <th></th>\n",
       "    </tr>\n",
       "  </thead>\n",
       "  <tbody>\n",
       "    <tr>\n",
       "      <th>A</th>\n",
       "      <td>14.0</td>\n",
       "      <td>482.857143</td>\n",
       "      <td>681.137833</td>\n",
       "      <td>26.0</td>\n",
       "      <td>82.50</td>\n",
       "      <td>153.5</td>\n",
       "      <td>715.75</td>\n",
       "      <td>2500.0</td>\n",
       "    </tr>\n",
       "    <tr>\n",
       "      <th>B</th>\n",
       "      <td>18.0</td>\n",
       "      <td>1213.611111</td>\n",
       "      <td>1099.014486</td>\n",
       "      <td>26.0</td>\n",
       "      <td>198.75</td>\n",
       "      <td>830.0</td>\n",
       "      <td>2500.00</td>\n",
       "      <td>2500.0</td>\n",
       "    </tr>\n",
       "  </tbody>\n",
       "</table>\n",
       "</div>"
      ],
      "text/plain": [
       "      score                                                                \n",
       "      count         mean          std   min     25%    50%      75%     max\n",
       "group                                                                      \n",
       "A      14.0   482.857143   681.137833  26.0   82.50  153.5   715.75  2500.0\n",
       "B      18.0  1213.611111  1099.014486  26.0  198.75  830.0  2500.00  2500.0"
      ]
     },
     "execution_count": 23,
     "metadata": {},
     "output_type": "execute_result"
    }
   ],
   "source": [
    "outliers2 = pd.read_csv(\"../datasets/outliers2.csv\")\n",
    "outliers2.groupby(\"group\").describe()"
   ]
  },
  {
   "cell_type": "code",
   "execution_count": 24,
   "id": "32103648-5887-4475-a403-303c330d9868",
   "metadata": {},
   "outputs": [
    {
     "data": {
      "image/png": "[encoded data removed]",
      "text/plain": [
       "<Figure size 700x200 with 1 Axes>"
      ]
     },
     "metadata": {
      "image/png": {
       "height": 217,
       "width": 601
      }
     },
     "output_type": "display_data"
    }
   ],
   "source": [
    "with plt.rc_context({\"figure.figsize\":(7,2)}):\n",
    "    sns.stripplot(data=outliers2, x=\"score\", y=\"group\", hue=\"group\", jitter=0.2, alpha=0.5)\n",
    "    sns.pointplot(data=outliers2, x=\"score\", y=\"group\", hue=\"group\", dodge=0.5, estimator=\"mean\",\n",
    "                  errorbar=\"sd\", marker=\"D\", err_kws={\"linewidth\":1})"
   ]
  },
  {
   "cell_type": "markdown",
   "id": "a23b903a-97b5-4f1c-a74b-a75dff97da42",
   "metadata": {},
   "source": [
    "The effect of the outliers in group B is to pull the mean up,\n",
    "to a much higher value than where the other data points are."
   ]
  },
  {
   "cell_type": "code",
   "execution_count": 25,
   "id": "9d19d620-b91d-4904-a4db-ffda37f5bcb2",
   "metadata": {},
   "outputs": [
    {
     "data": {
      "text/plain": [
       "0.028387263383781086"
      ]
     },
     "execution_count": 25,
     "metadata": {},
     "output_type": "execute_result"
    }
   ],
   "source": [
    "from scipy.stats import ttest_ind\n",
    "\n",
    "scoresA = outliers2[outliers2[\"group\"]==\"A\"][\"score\"]\n",
    "scoresB = outliers2[outliers2[\"group\"]==\"B\"][\"score\"]\n",
    "obst, pvalue = ttest_ind(scoresA, scoresB, equal_var=False)\n",
    "pvalue"
   ]
  },
  {
   "cell_type": "markdown",
   "id": "14fb6175-47cb-402b-b688-3fc7c354de45",
   "metadata": {},
   "source": [
    "The outliers pull the mean in group B to a high value,\n",
    "which leads us to conclude there is a statistically significant difference between the two groups.\n",
    "This is because we're using the $t$-test when the normality assumption is not valid.\n",
    "\n",
    "See the example notebook [`Mann-Whitney_U-test.ipynb`](./Mann-Whitney_U-test.ipynb) for an analysis of this data\n",
    "using the nonparametric test for comparing two groups,\n",
    "which is more appropriate for data with outliers."
   ]
  },
  {
   "cell_type": "code",
   "execution_count": null,
   "id": "1817c931-e541-4839-947c-29d7f7dd7ebc",
   "metadata": {},
   "outputs": [],
   "source": []
  },
  {
   "cell_type": "code",
   "execution_count": null,
   "id": "77201c14-06b2-45f0-a652-ec9489fc7db3",
   "metadata": {},
   "outputs": [],
   "source": []
  },
  {
   "cell_type": "markdown",
   "id": "aff7ca4d-e061-40ad-9a6f-0c48913a001f",
   "metadata": {},
   "source": [
    "## Discussion"
   ]
  },
  {
   "cell_type": "code",
   "execution_count": null,
   "id": "059f1063-5cb2-4ecd-bd5a-ff8c54eada63",
   "metadata": {},
   "outputs": [],
   "source": []
  },
  {
   "cell_type": "markdown",
   "id": "fa1f1c61-0742-4945-9618-8ec17f6263d7",
   "metadata": {},
   "source": [
    "## Links\n",
    "\n",
    "1. For more details about the Welch's two-sample t-test,\n",
    "   see the notebook [`notebooks/35_two_sample_tests.ipynb`](../notebooks/35_two_sample_tests.ipynb),\n",
    "   which contains a more detailed derivation.\n",
    "\n",
    "1. See the Section 3.5 exercises notebook:\n",
    "   [exercises/exercises_35_two_sample_tests.ipynb](../exercises/exercises_35_two_sample_tests.ipynb)\n",
    "   for practice problems.\n",
    "\n",
    "   "
   ]
  },
  {
   "cell_type": "code",
   "execution_count": null,
   "id": "d47aacd1-d620-48de-b46f-d0a0b2ec4a11",
   "metadata": {},
   "outputs": [],
   "source": []
  },
  {
   "cell_type": "code",
   "execution_count": null,
   "id": "3aab082f-9cac-4105-8f95-6040a7c47df7",
   "metadata": {},
   "outputs": [],
   "source": []
  },
  {
   "cell_type": "code",
   "execution_count": null,
   "id": "dde0c95f-318d-4a63-9786-d6898fde3dc5",
   "metadata": {},
   "outputs": [],
   "source": []
  },
  {
   "cell_type": "code",
   "execution_count": null,
   "id": "1f4afb5b-5107-47d5-b947-6bf7259425a4",
   "metadata": {},
   "outputs": [],
   "source": []
  },
  {
   "cell_type": "code",
   "execution_count": null,
   "id": "8746a0c5-f230-4a4d-b08f-1b54cef916ce",
   "metadata": {},
   "outputs": [],
   "source": []
  }
 ],
 "metadata": {
  "kernelspec": {
   "display_name": "Python 3 (ipykernel)",
   "language": "python",
   "name": "python3"
  },
  "language_info": {
   "codemirror_mode": {
    "name": "ipython",
    "version": 3
   },
   "file_extension": ".py",
   "mimetype": "text/x-python",
   "name": "python",
   "nbconvert_exporter": "python",
   "pygments_lexer": "ipython3",
   "version": "3.9.4"
  }
 },
 "nbformat": 4,
 "nbformat_minor": 5
}
