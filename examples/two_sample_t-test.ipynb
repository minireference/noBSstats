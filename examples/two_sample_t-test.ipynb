{
 "cells": [
  {
   "cell_type": "markdown",
   "id": "229b9ce5-9ba8-406a-bb1a-5979d1e2a64f",
   "metadata": {},
   "source": [
    "# Welch's two-sample $t$-test\n",
    "\n",
    "The goal of Welch's two-sample $t$-test to check if the means two unknown population $X \\sim \\mathcal{N}(\\mu_X, \\sigma_X)$ and $Y \\sim \\mathcal{N}(\\mu_Y, \\sigma_Y)$\n",
    "are the same or different.\n",
    "\n",
    "We previously discussed this hypothesis test in [`notebooks/35_two_sample_tests.ipynb`](../notebooks/35_two_sample_tests.ipynb)."
   ]
  },
  {
   "cell_type": "code",
   "execution_count": 1,
   "id": "a75de327-d02b-47a0-bcc6-57cb317b9d7c",
   "metadata": {},
   "outputs": [],
   "source": [
    "import matplotlib.pyplot as plt\n",
    "import numpy as np\n",
    "import seaborn as sns\n",
    "import pandas as pd"
   ]
  },
  {
   "cell_type": "code",
   "execution_count": 2,
   "id": "1cf0b78f-2944-4e26-83b7-553b70f70398",
   "metadata": {},
   "outputs": [],
   "source": [
    "%matplotlib inline\n",
    "%config InlineBackend.figure_format = 'retina'"
   ]
  },
  {
   "cell_type": "markdown",
   "id": "074beb38-077f-4037-8441-5c645de0a100",
   "metadata": {},
   "source": [
    "$\\def\\stderr#1{\\mathbf{se}_{#1}}$\n",
    "$\\def\\stderrhat#1{\\hat{\\mathbf{se}}_{#1}}$\n",
    "$\\newcommand{\\Mean}{\\textbf{Mean}}$\n",
    "$\\newcommand{\\Var}{\\textbf{Var}}$\n",
    "$\\newcommand{\\Std}{\\textbf{Std}}$\n",
    "$\\newcommand{\\Freq}{\\textbf{Freq}}$\n",
    "$\\newcommand{\\RelFreq}{\\textbf{RelFreq}}$\n",
    "$\\newcommand{\\DMeans}{\\textbf{DMeans}}$\n",
    "$\\newcommand{\\Prop}{\\textbf{Prop}}$\n",
    "$\\newcommand{\\DProps}{\\textbf{DProps}}$"
   ]
  },
  {
   "cell_type": "markdown",
   "id": "09804789-d86e-4df9-a3d9-4106bfbf76d1",
   "metadata": {},
   "source": [
    "## Data\n",
    "Two samples of numerical observations $\\mathbf{x}=[x_1, x_2, \\ldots, x_n]$\n",
    "and $\\mathbf{y}=[y_1, y_2,\\ldots, y_m]$ from independent populations."
   ]
  },
  {
   "cell_type": "markdown",
   "id": "d69a9922-b2a7-44f3-83f1-ed3713d71e8f",
   "metadata": {},
   "source": [
    "## Modeling assumptions\n",
    "\n",
    "We assume the unknown populations are normally distributed $\\textbf{(NORM)}$,\n",
    "or the sample is large enough $\\textbf{(LARGEn)}$."
   ]
  },
  {
   "cell_type": "markdown",
   "id": "b69c7ac0-31bd-479e-afb4-f9505bfca4ef",
   "metadata": {},
   "source": [
    "## Hypotheses\n",
    "\n",
    "$H_0: \\mu_X = \\mu_Y$ and $H_A: \\mu_X \\neq \\mu_Y$."
   ]
  },
  {
   "cell_type": "markdown",
   "id": "146b20c4-d535-46fe-86cc-8c2c52bfa39f",
   "metadata": {},
   "source": [
    "## Statistical design\n",
    "\n",
    "for $n=5$ ...\n",
    "\n",
    "\n",
    "for $n=20$ ...\n"
   ]
  },
  {
   "cell_type": "code",
   "execution_count": null,
   "id": "31dea3e9-c468-48c4-ab99-874ac609cadd",
   "metadata": {},
   "outputs": [],
   "source": []
  },
  {
   "cell_type": "markdown",
   "id": "7674af35-fd9d-4608-970a-b74c27ca3475",
   "metadata": {},
   "source": [
    "## Estimates\n",
    "\n",
    "Compute the sample means\n",
    "$\\overline{\\mathbf{x}} = \\Mean(\\mathbf{x})$,\n",
    "$\\overline{\\mathbf{y}} = \\Mean(\\mathbf{y})$,\n",
    "and the difference between means\n",
    "$\\hat{d} = \\DMeans(\\mathbf{x}, \\mathbf{y}) = \\overline{\\mathbf{x}} - \\overline{\\mathbf{y}}$.\n",
    "\n",
    "## Formulas\n",
    "The estimated standard error of the difference between means estimator is\n",
    "\n",
    "$$\n",
    "  \\stderrhat{\\hat{d}}\n",
    "        \\; = \\; \\sqrt{  \\stderrhat{\\overline{\\mathbf{x}}}^2 + \\stderrhat{\\overline{\\mathbf{y}}}^2 }\n",
    "        = \\sqrt{ \\tfrac{s_{\\mathbf{x}}^2}{n} + \\tfrac{s_{\\mathbf{y}}^2}{m} },\n",
    "$$\n",
    "\n",
    "where $s_{\\mathbf{x}}$ and $s_{\\mathbf{y}}$ are the sample standard deviations."
   ]
  },
  {
   "cell_type": "markdown",
   "id": "ab880b56-b783-4c32-b2cd-8cb66b59f766",
   "metadata": {},
   "source": [
    "## Test statistic\n",
    "\n",
    "Compute the $t$-statistic $t = \\frac{\\hat{d} - 0}{ \\stderrhat{\\hat{d}} }$."
   ]
  },
  {
   "cell_type": "markdown",
   "id": "46a6143a-ca4b-4568-bf5a-862a577c8c21",
   "metadata": {},
   "source": [
    "## Sampling distribution\n",
    "\n",
    "Student's $t$-distribution with $\\nu_d$ degrees of freedom,\n",
    "where the degrees of freedom parameter is computed using\n",
    "the helper function `calcdf`:\n",
    "$\\nu_d = \\tt{calcdf}(s_{\\mathbf{x}}, n, s_{\\mathbf{y}}, m)$,\n",
    "which implements the Welch--Satterthwaite formula."
   ]
  },
  {
   "cell_type": "markdown",
   "id": "15cf13c7-78bf-495a-baf8-2312c6210c2a",
   "metadata": {},
   "source": [
    "## P-value calculation"
   ]
  },
  {
   "cell_type": "code",
   "execution_count": 3,
   "id": "485f2583-bb09-4fa5-bbb3-6d0d191010ba",
   "metadata": {},
   "outputs": [
    {
     "data": {
      "text/plain": [
       "\u001b[0;32mdef\u001b[0m \u001b[0mttest_dmeans\u001b[0m\u001b[0;34m(\u001b[0m\u001b[0mxsample\u001b[0m\u001b[0;34m,\u001b[0m \u001b[0mysample\u001b[0m\u001b[0;34m,\u001b[0m \u001b[0mequal_var\u001b[0m\u001b[0;34m=\u001b[0m\u001b[0;32mFalse\u001b[0m\u001b[0;34m,\u001b[0m \u001b[0malt\u001b[0m\u001b[0;34m=\u001b[0m\u001b[0;34m\"two-sided\"\u001b[0m\u001b[0;34m)\u001b[0m\u001b[0;34m:\u001b[0m\u001b[0;34m\u001b[0m\n",
       "\u001b[0;34m\u001b[0m    \u001b[0;34m\"\"\"\u001b[0m\n",
       "\u001b[0;34m    T-test to detect difference between two populations means\u001b[0m\n",
       "\u001b[0;34m    based on the difference between sample means.\u001b[0m\n",
       "\u001b[0;34m    \"\"\"\u001b[0m\u001b[0;34m\u001b[0m\n",
       "\u001b[0;34m\u001b[0m    \u001b[0;31m# Calculate the observed difference between means\u001b[0m\u001b[0;34m\u001b[0m\n",
       "\u001b[0;34m\u001b[0m    \u001b[0mobsdhat\u001b[0m \u001b[0;34m=\u001b[0m \u001b[0mmean\u001b[0m\u001b[0;34m(\u001b[0m\u001b[0mxsample\u001b[0m\u001b[0;34m)\u001b[0m \u001b[0;34m-\u001b[0m \u001b[0mmean\u001b[0m\u001b[0;34m(\u001b[0m\u001b[0mysample\u001b[0m\u001b[0;34m)\u001b[0m\u001b[0;34m\u001b[0m\n",
       "\u001b[0;34m\u001b[0m\u001b[0;34m\u001b[0m\n",
       "\u001b[0;34m\u001b[0m    \u001b[0;31m# Calculate the sample sizes and the stds\u001b[0m\u001b[0;34m\u001b[0m\n",
       "\u001b[0;34m\u001b[0m    \u001b[0mn\u001b[0m\u001b[0;34m,\u001b[0m \u001b[0mm\u001b[0m \u001b[0;34m=\u001b[0m \u001b[0mlen\u001b[0m\u001b[0;34m(\u001b[0m\u001b[0mxsample\u001b[0m\u001b[0;34m)\u001b[0m\u001b[0;34m,\u001b[0m \u001b[0mlen\u001b[0m\u001b[0;34m(\u001b[0m\u001b[0mysample\u001b[0m\u001b[0;34m)\u001b[0m\u001b[0;34m\u001b[0m\n",
       "\u001b[0;34m\u001b[0m    \u001b[0msx\u001b[0m\u001b[0;34m,\u001b[0m \u001b[0msy\u001b[0m \u001b[0;34m=\u001b[0m \u001b[0mstd\u001b[0m\u001b[0;34m(\u001b[0m\u001b[0mxsample\u001b[0m\u001b[0;34m)\u001b[0m\u001b[0;34m,\u001b[0m \u001b[0mstd\u001b[0m\u001b[0;34m(\u001b[0m\u001b[0mysample\u001b[0m\u001b[0;34m)\u001b[0m\u001b[0;34m\u001b[0m\n",
       "\u001b[0;34m\u001b[0m\u001b[0;34m\u001b[0m\n",
       "\u001b[0;34m\u001b[0m    \u001b[0;31m# Calculate the standard error, the degrees of\u001b[0m\u001b[0;34m\u001b[0m\n",
       "\u001b[0;34m\u001b[0m    \u001b[0;31m# freedom, the null model, and the t-statistic\u001b[0m\u001b[0;34m\u001b[0m\n",
       "\u001b[0;34m\u001b[0m    \u001b[0;32mif\u001b[0m \u001b[0;32mnot\u001b[0m \u001b[0mequal_var\u001b[0m\u001b[0;34m:\u001b[0m  \u001b[0;31m# Welch's t-test (default)\u001b[0m\u001b[0;34m\u001b[0m\n",
       "\u001b[0;34m\u001b[0m        \u001b[0mseD\u001b[0m \u001b[0;34m=\u001b[0m \u001b[0mnp\u001b[0m\u001b[0;34m.\u001b[0m\u001b[0msqrt\u001b[0m\u001b[0;34m(\u001b[0m\u001b[0msx\u001b[0m\u001b[0;34m**\u001b[0m\u001b[0;36m2\u001b[0m\u001b[0;34m/\u001b[0m\u001b[0mn\u001b[0m \u001b[0;34m+\u001b[0m \u001b[0msy\u001b[0m\u001b[0;34m**\u001b[0m\u001b[0;36m2\u001b[0m\u001b[0;34m/\u001b[0m\u001b[0mm\u001b[0m\u001b[0;34m)\u001b[0m\u001b[0;34m\u001b[0m\n",
       "\u001b[0;34m\u001b[0m        \u001b[0mobst\u001b[0m \u001b[0;34m=\u001b[0m \u001b[0;34m(\u001b[0m\u001b[0mobsdhat\u001b[0m \u001b[0;34m-\u001b[0m \u001b[0;36m0\u001b[0m\u001b[0;34m)\u001b[0m \u001b[0;34m/\u001b[0m \u001b[0mseD\u001b[0m\u001b[0;34m\u001b[0m\n",
       "\u001b[0;34m\u001b[0m        \u001b[0mdfD\u001b[0m \u001b[0;34m=\u001b[0m \u001b[0mcalcdf\u001b[0m\u001b[0;34m(\u001b[0m\u001b[0msx\u001b[0m\u001b[0;34m,\u001b[0m \u001b[0mn\u001b[0m\u001b[0;34m,\u001b[0m \u001b[0msy\u001b[0m\u001b[0;34m,\u001b[0m \u001b[0mm\u001b[0m\u001b[0;34m)\u001b[0m\u001b[0;34m\u001b[0m\n",
       "\u001b[0;34m\u001b[0m        \u001b[0mrvT0\u001b[0m \u001b[0;34m=\u001b[0m \u001b[0mtdist\u001b[0m\u001b[0;34m(\u001b[0m\u001b[0mdf\u001b[0m\u001b[0;34m=\u001b[0m\u001b[0mdfD\u001b[0m\u001b[0;34m)\u001b[0m\u001b[0;34m\u001b[0m\n",
       "\u001b[0;34m\u001b[0m    \u001b[0;32melse\u001b[0m\u001b[0;34m:\u001b[0m              \u001b[0;31m# Use pooled variance\u001b[0m\u001b[0;34m\u001b[0m\n",
       "\u001b[0;34m\u001b[0m        \u001b[0mvarp\u001b[0m \u001b[0;34m=\u001b[0m \u001b[0;34m(\u001b[0m\u001b[0;34m(\u001b[0m\u001b[0mn\u001b[0m\u001b[0;34m-\u001b[0m\u001b[0;36m1\u001b[0m\u001b[0;34m)\u001b[0m\u001b[0;34m*\u001b[0m\u001b[0msx\u001b[0m\u001b[0;34m**\u001b[0m\u001b[0;36m2\u001b[0m \u001b[0;34m+\u001b[0m \u001b[0;34m(\u001b[0m\u001b[0mm\u001b[0m\u001b[0;34m-\u001b[0m\u001b[0;36m1\u001b[0m\u001b[0;34m)\u001b[0m\u001b[0;34m*\u001b[0m\u001b[0msy\u001b[0m\u001b[0;34m**\u001b[0m\u001b[0;36m2\u001b[0m\u001b[0;34m)\u001b[0m \u001b[0;34m/\u001b[0m \u001b[0;34m(\u001b[0m\u001b[0mn\u001b[0m\u001b[0;34m+\u001b[0m\u001b[0mm\u001b[0m\u001b[0;34m-\u001b[0m\u001b[0;36m2\u001b[0m\u001b[0;34m)\u001b[0m\u001b[0;34m\u001b[0m\n",
       "\u001b[0;34m\u001b[0m        \u001b[0mstdp\u001b[0m \u001b[0;34m=\u001b[0m \u001b[0mnp\u001b[0m\u001b[0;34m.\u001b[0m\u001b[0msqrt\u001b[0m\u001b[0;34m(\u001b[0m\u001b[0mvarp\u001b[0m\u001b[0;34m)\u001b[0m\u001b[0;34m\u001b[0m\n",
       "\u001b[0;34m\u001b[0m        \u001b[0mseDp\u001b[0m \u001b[0;34m=\u001b[0m \u001b[0mstdp\u001b[0m \u001b[0;34m*\u001b[0m \u001b[0mnp\u001b[0m\u001b[0;34m.\u001b[0m\u001b[0msqrt\u001b[0m\u001b[0;34m(\u001b[0m\u001b[0;36m1\u001b[0m\u001b[0;34m/\u001b[0m\u001b[0mn\u001b[0m \u001b[0;34m+\u001b[0m \u001b[0;36m1\u001b[0m\u001b[0;34m/\u001b[0m\u001b[0mm\u001b[0m\u001b[0;34m)\u001b[0m\u001b[0;34m\u001b[0m\n",
       "\u001b[0;34m\u001b[0m        \u001b[0mobst\u001b[0m \u001b[0;34m=\u001b[0m \u001b[0;34m(\u001b[0m\u001b[0mobsdhat\u001b[0m \u001b[0;34m-\u001b[0m \u001b[0;36m0\u001b[0m\u001b[0;34m)\u001b[0m \u001b[0;34m/\u001b[0m \u001b[0mseDp\u001b[0m\u001b[0;34m\u001b[0m\n",
       "\u001b[0;34m\u001b[0m        \u001b[0mdfp\u001b[0m \u001b[0;34m=\u001b[0m \u001b[0mn\u001b[0m \u001b[0;34m+\u001b[0m \u001b[0mm\u001b[0m \u001b[0;34m-\u001b[0m \u001b[0;36m2\u001b[0m\u001b[0;34m\u001b[0m\n",
       "\u001b[0;34m\u001b[0m        \u001b[0mrvT0\u001b[0m \u001b[0;34m=\u001b[0m \u001b[0mtdist\u001b[0m\u001b[0;34m(\u001b[0m\u001b[0mdf\u001b[0m\u001b[0;34m=\u001b[0m\u001b[0mdfp\u001b[0m\u001b[0;34m)\u001b[0m\u001b[0;34m\u001b[0m\n",
       "\u001b[0;34m\u001b[0m\u001b[0;34m\u001b[0m\n",
       "\u001b[0;34m\u001b[0m    \u001b[0;31m# Calculate the p-value from the t-distribution\u001b[0m\u001b[0;34m\u001b[0m\n",
       "\u001b[0;34m\u001b[0m    \u001b[0mpvalue\u001b[0m \u001b[0;34m=\u001b[0m \u001b[0mtailprobs\u001b[0m\u001b[0;34m(\u001b[0m\u001b[0mrvT0\u001b[0m\u001b[0;34m,\u001b[0m \u001b[0mobst\u001b[0m\u001b[0;34m,\u001b[0m \u001b[0malt\u001b[0m\u001b[0;34m=\u001b[0m\u001b[0malt\u001b[0m\u001b[0;34m)\u001b[0m\u001b[0;34m\u001b[0m\n",
       "\u001b[0;34m\u001b[0m    \u001b[0;32mreturn\u001b[0m \u001b[0mpvalue\u001b[0m\u001b[0;34m\u001b[0m\u001b[0;34m\u001b[0m\u001b[0m\n"
      ]
     },
     "metadata": {},
     "output_type": "display_data"
    }
   ],
   "source": [
    "from stats_helpers import ttest_dmeans\n",
    "\n",
    "%psource ttest_dmeans"
   ]
  },
  {
   "cell_type": "markdown",
   "id": "971895b0-bb9b-4eae-b8a4-d76ac6796bb4",
   "metadata": {},
   "source": [
    "To perform the two-sample $t$-test on the samples `xs` and `ys`,\n",
    "we call `ttest_dmeans(xs, ys)`."
   ]
  },
  {
   "cell_type": "code",
   "execution_count": null,
   "id": "b8d34961-f391-4d3e-b034-255a865b5f05",
   "metadata": {},
   "outputs": [],
   "source": []
  },
  {
   "cell_type": "markdown",
   "id": "c46e51cc-143b-4e0c-8872-c17a54e7810d",
   "metadata": {},
   "source": [
    "## Examples\n",
    "\n",
    "For all the examples we present below,\n",
    "we assume the unknown distribution are normally distributed \n",
    "\n",
    "$$\n",
    "    \\texttt{rvX} = X \\sim \\mathcal{N}(\\mu_X,\\sigma_X)\n",
    "    \\qquad\n",
    "    \\text{and}\n",
    "    \\qquad\n",
    "    \\texttt{rvY} = Y \\sim \\mathcal{N}(\\mu_Y,\\sigma_Y).\n",
    "$$\n"
   ]
  },
  {
   "cell_type": "code",
   "execution_count": 4,
   "id": "ab9c156b-0534-41f2-b7eb-3bfffab19822",
   "metadata": {},
   "outputs": [],
   "source": [
    "from scipy.stats import norm"
   ]
  },
  {
   "cell_type": "markdown",
   "id": "f65e1b6e-01a6-44fd-b112-455ec9cb0226",
   "metadata": {},
   "source": [
    "### Example A: populations are different"
   ]
  },
  {
   "cell_type": "markdown",
   "id": "bf5b1a71-2ab2-4fc7-830c-a0030034dfa6",
   "metadata": {},
   "source": [
    "Suppose the $X$-population is normally distributed \n",
    "with mean $\\mu_{X}=104$\n",
    "and standard deviation $\\sigma_{X} = 3$,\n",
    "while the $Y$-population is normally distributed \n",
    "with mean $\\mu_{X}=100$\n",
    "and standard deviation $\\sigma_{X} = 5$\n",
    "\n",
    "$$\n",
    "    \\texttt{rvX} = X \\sim \\mathcal{N}(104,3)\n",
    "    \\qquad\n",
    "    \\text{and}\n",
    "    \\qquad\n",
    "    \\texttt{rvY} = Y \\sim \\mathcal{N}(100,5).\n",
    "$$"
   ]
  },
  {
   "cell_type": "code",
   "execution_count": 5,
   "id": "93391dc9-2834-4ce9-a43b-fec486ddeca3",
   "metadata": {},
   "outputs": [],
   "source": [
    "muXA = 104\n",
    "sigmaXA = 3\n",
    "rvXA = norm(muXA, sigmaXA)\n",
    "\n",
    "muYA = 100\n",
    "sigmaYA = 5\n",
    "rvYA = norm(muYA, sigmaYA)"
   ]
  },
  {
   "cell_type": "markdown",
   "id": "d563fb81-7b86-41e1-9a6a-c781d7cde415",
   "metadata": {},
   "source": [
    "Let's generate a sample `xAs` and `yAs` of size $n=20$ from the random variables $X = \\texttt{rvXA}$ and $Y = \\texttt{rvYA}$."
   ]
  },
  {
   "cell_type": "code",
   "execution_count": 6,
   "id": "af1f3781-3969-40ae-bc46-101b72732d4a",
   "metadata": {},
   "outputs": [
    {
     "data": {
      "text/plain": [
       "(array([105.49014246, 103.5852071 , 105.94306561, 108.56908957,\n",
       "        103.29753988, 103.29758913, 108.73763845, 106.30230419,\n",
       "        102.59157684, 105.62768013, 102.60974692, 102.60281074,\n",
       "        104.72588681,  98.26015927,  98.8252465 , 102.31313741,\n",
       "        100.96150664, 104.942742  , 101.27592777,  99.7630889 ]),\n",
       " array([107.32824384,  98.8711185 , 100.33764102,  92.87625907,\n",
       "         97.27808638, 100.55461295,  94.24503211, 101.87849009,\n",
       "         96.99680655,  98.54153125,  96.99146694, 109.26139092,\n",
       "         99.93251388,  94.71144536, 104.11272456,  93.89578175,\n",
       "        101.04431798,  90.20164938,  93.35906976, 100.98430618]))"
      ]
     },
     "execution_count": 6,
     "metadata": {},
     "output_type": "execute_result"
    }
   ],
   "source": [
    "np.random.seed(42)\n",
    "\n",
    "# generate a random sample of size n=20 from rvX\n",
    "n = 20\n",
    "xAs = rvXA.rvs(n)\n",
    "\n",
    "# generate a random sample of size m=20 from rvY\n",
    "m = 20\n",
    "yAs = rvYA.rvs(m)\n",
    "xAs, yAs"
   ]
  },
  {
   "cell_type": "code",
   "execution_count": 7,
   "id": "591629c9-f6dc-442e-a0e9-ae83844714dd",
   "metadata": {},
   "outputs": [
    {
     "data": {
      "image/png": "[encoded data removed]",
      "text/plain": [
       "<Figure size 700x100 with 1 Axes>"
      ]
     },
     "metadata": {
      "image/png": {
       "height": 120,
       "width": 581
      }
     },
     "output_type": "display_data"
    }
   ],
   "source": [
    "import seaborn as sns\n",
    "\n",
    "with plt.rc_context({\"figure.figsize\":(7,1)}):\n",
    "    sns.stripplot(x=xAs, jitter=0, alpha=0.5)\n",
    "    sns.stripplot(x=yAs, jitter=0, alpha=0.5)"
   ]
  },
  {
   "cell_type": "markdown",
   "id": "74fbd963-d101-4a22-949d-b06f708212d4",
   "metadata": {},
   "source": [
    "To obtain the $p$-value,\n",
    "we first compute the observed $t$-statistic,\n",
    "then calculate the tail probabilities in the two tails of the standard normal distribution $T_0 \\sim \\mathcal{T}(\\nu_d)$."
   ]
  },
  {
   "cell_type": "code",
   "execution_count": 8,
   "id": "b80ab201-a6c9-4325-85c4-15dc290bea12",
   "metadata": {},
   "outputs": [
    {
     "data": {
      "text/plain": [
       "(4.815979892644748, 0.0005953205918275417)"
      ]
     },
     "execution_count": 8,
     "metadata": {},
     "output_type": "execute_result"
    }
   ],
   "source": [
    "from scipy.stats import t as tdist\n",
    "from stats_helpers import calcdf\n",
    "\n",
    "# Calculate the sample statistics\n",
    "from stats_helpers import mean, std\n",
    "obsdhat = mean(xAs) - mean(yAs)\n",
    "sx, sy = std(xAs), std(yAs)\n",
    "\n",
    "# Calculate the standard error and the t-statistic\n",
    "seD = np.sqrt(sx**2/n + sy**2/m)\n",
    "obst = (obsdhat - 0) / seD\n",
    "\n",
    "# Calculate the degrees of freedom\n",
    "dfD = calcdf(sx, n, sy, m)\n",
    "\n",
    "rvT0 = tdist(df=dfD)\n",
    "pvalue = rvT0.cdf(-obst) + 1-rvT0.cdf(obst)\n",
    "obsdhat, pvalue"
   ]
  },
  {
   "cell_type": "markdown",
   "id": "48fdd480-771b-496c-a739-40dbf863183f",
   "metadata": {},
   "source": [
    "The helper function `ttest_dmeans` in the `stats_helpers` module performs\n",
    "exactly the same sequence of steps to compute the $p$-value."
   ]
  },
  {
   "cell_type": "code",
   "execution_count": 9,
   "id": "d76a7c12-eab2-4f44-8040-3d170b6f16d2",
   "metadata": {},
   "outputs": [
    {
     "data": {
      "text/plain": [
       "0.0005953205918276521"
      ]
     },
     "execution_count": 9,
     "metadata": {},
     "output_type": "execute_result"
    }
   ],
   "source": [
    "from stats_helpers import ttest_dmeans\n",
    "ttest_dmeans(xAs, yAs)"
   ]
  },
  {
   "cell_type": "markdown",
   "id": "4a0c8c4b-bbdf-4ee0-85e9-a4080d4dfaa0",
   "metadata": {},
   "source": [
    "The $p$-value we obtain is 0.000595,\n",
    "which is below the cutoff value $\\alpha=0.05$,\n",
    "so our conclusion is **we reject the null hypothesis**:\n",
    "the difference between the means of the two unknown populations is statistically significant."
   ]
  },
  {
   "cell_type": "code",
   "execution_count": null,
   "id": "98d6f4b6-dce3-458d-a610-7fe6ba35aa94",
   "metadata": {},
   "outputs": [],
   "source": []
  },
  {
   "cell_type": "markdown",
   "id": "aa3a24ed-d585-4b3c-b5c0-f6ab6446819c",
   "metadata": {},
   "source": [
    "### Example B: sample from a population as expected under $H_0$"
   ]
  },
  {
   "cell_type": "code",
   "execution_count": 10,
   "id": "58a77e58-f189-43e0-9414-4b47734f758c",
   "metadata": {},
   "outputs": [],
   "source": [
    "muXB = 100\n",
    "sigmaXB = 5\n",
    "rvXB = norm(muXB, sigmaXB)\n",
    "\n",
    "muYB = muXB\n",
    "sigmaYB = sigmaXB\n",
    "rvYB = norm(muYB, sigmaYB)"
   ]
  },
  {
   "cell_type": "markdown",
   "id": "869366ba-2513-4501-ae31-f98ee4dcb134",
   "metadata": {},
   "source": [
    "Let's generate a sample `xs` of size $n=20$ from the random variable $X = \\texttt{rvX}$,\n",
    "which has the same distribution as the theoretical distribution we expect under the null hypothesis."
   ]
  },
  {
   "cell_type": "code",
   "execution_count": 11,
   "id": "23763c28-4f29-4c62-b7e7-c3587d51c9f1",
   "metadata": {},
   "outputs": [],
   "source": [
    "# np.random.seed(32)  produces false positie\n",
    "np.random.seed(31)\n",
    "\n",
    "# generate a random sample of size n=20 from rvX\n",
    "n = 20\n",
    "xBs = rvXB.rvs(n)\n",
    "\n",
    "# generate a random sample of size m=20 from rvY\n",
    "m = 20\n",
    "yBs = rvYB.rvs(m)\n",
    "# xBs, yBs"
   ]
  },
  {
   "cell_type": "code",
   "execution_count": 12,
   "id": "12503c15-5d7f-4fc3-8850-3f84a274d64b",
   "metadata": {},
   "outputs": [
    {
     "data": {
      "image/png": "[encoded data removed]",
      "text/plain": [
       "<Figure size 700x100 with 1 Axes>"
      ]
     },
     "metadata": {
      "image/png": {
       "height": 120,
       "width": 567
      }
     },
     "output_type": "display_data"
    }
   ],
   "source": [
    "import seaborn as sns\n",
    "with plt.rc_context({\"figure.figsize\":(7,1)}):\n",
    "    sns.stripplot(x=xBs, jitter=0, alpha=0.5)\n",
    "    sns.stripplot(x=yBs, jitter=0, alpha=0.5)"
   ]
  },
  {
   "cell_type": "code",
   "execution_count": 13,
   "id": "c016248d-e072-47ea-9b02-60f8fb674853",
   "metadata": {},
   "outputs": [
    {
     "data": {
      "text/plain": [
       "0.28673199738563526"
      ]
     },
     "execution_count": 13,
     "metadata": {},
     "output_type": "execute_result"
    }
   ],
   "source": [
    "from stats_helpers import ttest_dmeans\n",
    "ttest_dmeans(xBs, yBs)"
   ]
  },
  {
   "cell_type": "markdown",
   "id": "78d553ed-6198-41b1-8324-4f322ff23866",
   "metadata": {},
   "source": [
    "The $p$-value we obtain is 0.28, which is above the cutoff value $\\alpha=0.05$\n",
    "so our conclusion is that we've **failed to reject the null hypothesis**:\n",
    "the means of two samples are not significantly different."
   ]
  },
  {
   "cell_type": "code",
   "execution_count": null,
   "id": "66352f08-4cc0-4842-8a8a-2118ce085002",
   "metadata": {},
   "outputs": [],
   "source": []
  },
  {
   "cell_type": "code",
   "execution_count": null,
   "id": "7be97955-5d4f-4779-a0ae-953b72672373",
   "metadata": {},
   "outputs": [],
   "source": []
  },
  {
   "cell_type": "code",
   "execution_count": null,
   "id": "1817c931-e541-4839-947c-29d7f7dd7ebc",
   "metadata": {},
   "outputs": [],
   "source": []
  },
  {
   "cell_type": "markdown",
   "id": "9ae28def-30d0-4b39-8365-e06ed7cf9081",
   "metadata": {},
   "source": [
    "## Confidence interval for the effect size"
   ]
  },
  {
   "cell_type": "code",
   "execution_count": 14,
   "id": "42a8f2a2-67b6-4ea6-a363-39363232c7de",
   "metadata": {},
   "outputs": [],
   "source": [
    "from stats_helpers import ci_dmeans"
   ]
  },
  {
   "cell_type": "markdown",
   "id": "fec125ff-bb49-4567-bd3f-ef55e3f83cb2",
   "metadata": {},
   "source": [
    "The confidence interval for the effect size $\\Delta = \\mu_X - \\mu_Y$ in Example A is"
   ]
  },
  {
   "cell_type": "code",
   "execution_count": 15,
   "id": "f2a108b5-4a49-4e5c-b2e9-42c06e218d21",
   "metadata": {},
   "outputs": [
    {
     "data": {
      "text/plain": [
       "[2.6805293784320785, 6.951430406857417]"
      ]
     },
     "execution_count": 15,
     "metadata": {},
     "output_type": "execute_result"
    }
   ],
   "source": [
    "ci_dmeans(xAs, yAs, alpha=0.1, method='a')"
   ]
  },
  {
   "cell_type": "markdown",
   "id": "db0a9b40-6ef1-4165-ac69-e3525267a602",
   "metadata": {},
   "source": [
    "The confidence interval for the effect size $\\Delta = \\mu_X - \\mu_Y$ in Example B is"
   ]
  },
  {
   "cell_type": "code",
   "execution_count": 16,
   "id": "be6f4e4a-97f3-48a2-bbc2-b425af3a7ff6",
   "metadata": {},
   "outputs": [
    {
     "data": {
      "text/plain": [
       "[-3.6180594963139185, 0.7920428862020961]"
      ]
     },
     "execution_count": 16,
     "metadata": {},
     "output_type": "execute_result"
    }
   ],
   "source": [
    "ci_dmeans(xBs, yBs, alpha=0.1, method='a')"
   ]
  },
  {
   "cell_type": "code",
   "execution_count": null,
   "id": "77201c14-06b2-45f0-a652-ec9489fc7db3",
   "metadata": {},
   "outputs": [],
   "source": []
  },
  {
   "cell_type": "markdown",
   "id": "6be145e5-8cee-4d19-b215-807f690af3aa",
   "metadata": {},
   "source": [
    "## Related\n",
    "\n"
   ]
  },
  {
   "cell_type": "code",
   "execution_count": null,
   "id": "2385f46a-ec7b-4b74-a944-c46e6e5c861f",
   "metadata": {},
   "outputs": [],
   "source": []
  },
  {
   "cell_type": "markdown",
   "id": "aff7ca4d-e061-40ad-9a6f-0c48913a001f",
   "metadata": {},
   "source": [
    "## Discussion"
   ]
  },
  {
   "cell_type": "code",
   "execution_count": null,
   "id": "059f1063-5cb2-4ecd-bd5a-ff8c54eada63",
   "metadata": {},
   "outputs": [],
   "source": []
  },
  {
   "cell_type": "markdown",
   "id": "fa1f1c61-0742-4945-9618-8ec17f6263d7",
   "metadata": {},
   "source": [
    "## Links"
   ]
  },
  {
   "cell_type": "code",
   "execution_count": null,
   "id": "d47aacd1-d620-48de-b46f-d0a0b2ec4a11",
   "metadata": {},
   "outputs": [],
   "source": []
  },
  {
   "cell_type": "code",
   "execution_count": null,
   "id": "3aab082f-9cac-4105-8f95-6040a7c47df7",
   "metadata": {},
   "outputs": [],
   "source": []
  },
  {
   "cell_type": "markdown",
   "id": "dc39812e-6ac2-4f70-8790-83a7c654e159",
   "metadata": {},
   "source": [
    "# Bonus examples\n",
    "\n",
    "## Lalonde dataset\n",
    "\n",
    "see original paper https://business.baylor.edu/scott_cunningham/teaching/lalonde-1986.pdf  \n",
    "and these links for more info: https://www.one-tab.com/page/h_npVXMeTp2T7Dm5fAlDqw\n"
   ]
  },
  {
   "cell_type": "code",
   "execution_count": 17,
   "id": "0e81390c-1b59-42a1-b8c0-9116aad37d97",
   "metadata": {},
   "outputs": [
    {
     "data": {
      "text/html": [
       "<div>\n",
       "<style scoped>\n",
       "    .dataframe tbody tr th:only-of-type {\n",
       "        vertical-align: middle;\n",
       "    }\n",
       "\n",
       "    .dataframe tbody tr th {\n",
       "        vertical-align: top;\n",
       "    }\n",
       "\n",
       "    .dataframe thead th {\n",
       "        text-align: right;\n",
       "    }\n",
       "</style>\n",
       "<table border=\"1\" class=\"dataframe\">\n",
       "  <thead>\n",
       "    <tr style=\"text-align: right;\">\n",
       "      <th></th>\n",
       "      <th>ID</th>\n",
       "      <th>Training</th>\n",
       "      <th>Age</th>\n",
       "      <th>Education_years</th>\n",
       "      <th>Married</th>\n",
       "      <th>No_Degree</th>\n",
       "      <th>Wage_1974</th>\n",
       "      <th>Wage_1975</th>\n",
       "      <th>Wage_1978</th>\n",
       "    </tr>\n",
       "  </thead>\n",
       "  <tbody>\n",
       "    <tr>\n",
       "      <th>0</th>\n",
       "      <td>0</td>\n",
       "      <td>False</td>\n",
       "      <td>23</td>\n",
       "      <td>10</td>\n",
       "      <td>0</td>\n",
       "      <td>1</td>\n",
       "      <td>0.00</td>\n",
       "      <td>0.00</td>\n",
       "      <td>0.000</td>\n",
       "    </tr>\n",
       "    <tr>\n",
       "      <th>1</th>\n",
       "      <td>1</td>\n",
       "      <td>False</td>\n",
       "      <td>26</td>\n",
       "      <td>12</td>\n",
       "      <td>0</td>\n",
       "      <td>0</td>\n",
       "      <td>0.00</td>\n",
       "      <td>0.00</td>\n",
       "      <td>12383.680</td>\n",
       "    </tr>\n",
       "    <tr>\n",
       "      <th>2</th>\n",
       "      <td>2</td>\n",
       "      <td>False</td>\n",
       "      <td>22</td>\n",
       "      <td>9</td>\n",
       "      <td>0</td>\n",
       "      <td>1</td>\n",
       "      <td>0.00</td>\n",
       "      <td>0.00</td>\n",
       "      <td>0.000</td>\n",
       "    </tr>\n",
       "    <tr>\n",
       "      <th>3</th>\n",
       "      <td>3</td>\n",
       "      <td>False</td>\n",
       "      <td>18</td>\n",
       "      <td>9</td>\n",
       "      <td>0</td>\n",
       "      <td>1</td>\n",
       "      <td>0.00</td>\n",
       "      <td>0.00</td>\n",
       "      <td>10740.080</td>\n",
       "    </tr>\n",
       "    <tr>\n",
       "      <th>4</th>\n",
       "      <td>4</td>\n",
       "      <td>False</td>\n",
       "      <td>45</td>\n",
       "      <td>11</td>\n",
       "      <td>0</td>\n",
       "      <td>1</td>\n",
       "      <td>0.00</td>\n",
       "      <td>0.00</td>\n",
       "      <td>11796.470</td>\n",
       "    </tr>\n",
       "    <tr>\n",
       "      <th>...</th>\n",
       "      <td>...</td>\n",
       "      <td>...</td>\n",
       "      <td>...</td>\n",
       "      <td>...</td>\n",
       "      <td>...</td>\n",
       "      <td>...</td>\n",
       "      <td>...</td>\n",
       "      <td>...</td>\n",
       "      <td>...</td>\n",
       "    </tr>\n",
       "    <tr>\n",
       "      <th>440</th>\n",
       "      <td>440</td>\n",
       "      <td>True</td>\n",
       "      <td>33</td>\n",
       "      <td>12</td>\n",
       "      <td>1</td>\n",
       "      <td>0</td>\n",
       "      <td>20279.95</td>\n",
       "      <td>10941.35</td>\n",
       "      <td>15952.600</td>\n",
       "    </tr>\n",
       "    <tr>\n",
       "      <th>441</th>\n",
       "      <td>441</td>\n",
       "      <td>True</td>\n",
       "      <td>25</td>\n",
       "      <td>14</td>\n",
       "      <td>1</td>\n",
       "      <td>0</td>\n",
       "      <td>35040.07</td>\n",
       "      <td>11536.57</td>\n",
       "      <td>36646.950</td>\n",
       "    </tr>\n",
       "    <tr>\n",
       "      <th>442</th>\n",
       "      <td>442</td>\n",
       "      <td>True</td>\n",
       "      <td>35</td>\n",
       "      <td>9</td>\n",
       "      <td>1</td>\n",
       "      <td>1</td>\n",
       "      <td>13602.43</td>\n",
       "      <td>13830.64</td>\n",
       "      <td>12803.970</td>\n",
       "    </tr>\n",
       "    <tr>\n",
       "      <th>443</th>\n",
       "      <td>443</td>\n",
       "      <td>True</td>\n",
       "      <td>35</td>\n",
       "      <td>8</td>\n",
       "      <td>1</td>\n",
       "      <td>1</td>\n",
       "      <td>13732.07</td>\n",
       "      <td>17976.15</td>\n",
       "      <td>3786.628</td>\n",
       "    </tr>\n",
       "    <tr>\n",
       "      <th>444</th>\n",
       "      <td>444</td>\n",
       "      <td>True</td>\n",
       "      <td>33</td>\n",
       "      <td>11</td>\n",
       "      <td>1</td>\n",
       "      <td>1</td>\n",
       "      <td>14660.71</td>\n",
       "      <td>25142.24</td>\n",
       "      <td>4181.942</td>\n",
       "    </tr>\n",
       "  </tbody>\n",
       "</table>\n",
       "<p>445 rows × 9 columns</p>\n",
       "</div>"
      ],
      "text/plain": [
       "      ID  Training  Age  Education_years  Married  No_Degree  Wage_1974  \\\n",
       "0      0     False   23               10        0          1       0.00   \n",
       "1      1     False   26               12        0          0       0.00   \n",
       "2      2     False   22                9        0          1       0.00   \n",
       "3      3     False   18                9        0          1       0.00   \n",
       "4      4     False   45               11        0          1       0.00   \n",
       "..   ...       ...  ...              ...      ...        ...        ...   \n",
       "440  440      True   33               12        1          0   20279.95   \n",
       "441  441      True   25               14        1          0   35040.07   \n",
       "442  442      True   35                9        1          1   13602.43   \n",
       "443  443      True   35                8        1          1   13732.07   \n",
       "444  444      True   33               11        1          1   14660.71   \n",
       "\n",
       "     Wage_1975  Wage_1978  \n",
       "0         0.00      0.000  \n",
       "1         0.00  12383.680  \n",
       "2         0.00      0.000  \n",
       "3         0.00  10740.080  \n",
       "4         0.00  11796.470  \n",
       "..         ...        ...  \n",
       "440   10941.35  15952.600  \n",
       "441   11536.57  36646.950  \n",
       "442   13830.64  12803.970  \n",
       "443   17976.15   3786.628  \n",
       "444   25142.24   4181.942  \n",
       "\n",
       "[445 rows x 9 columns]"
      ]
     },
     "execution_count": 17,
     "metadata": {},
     "output_type": "execute_result"
    }
   ],
   "source": [
    "import pandas as pd\n",
    "lalonde = pd.read_csv(\"../datasets/lalonde.csv\")\n",
    "lalonde"
   ]
  },
  {
   "cell_type": "code",
   "execution_count": 18,
   "id": "df2d2479-e824-4f42-9242-65f71c55f082",
   "metadata": {},
   "outputs": [],
   "source": [
    "control = lalonde[lalonde[\"Training\"]==False]\n",
    "treated = lalonde[lalonde[\"Training\"]==True]"
   ]
  },
  {
   "cell_type": "code",
   "execution_count": 19,
   "id": "14dfdfc7-3147-4076-ae8f-22451242695a",
   "metadata": {},
   "outputs": [
    {
     "data": {
      "text/html": [
       "<div>\n",
       "<style scoped>\n",
       "    .dataframe tbody tr th:only-of-type {\n",
       "        vertical-align: middle;\n",
       "    }\n",
       "\n",
       "    .dataframe tbody tr th {\n",
       "        vertical-align: top;\n",
       "    }\n",
       "\n",
       "    .dataframe thead th {\n",
       "        text-align: right;\n",
       "    }\n",
       "</style>\n",
       "<table border=\"1\" class=\"dataframe\">\n",
       "  <thead>\n",
       "    <tr style=\"text-align: right;\">\n",
       "      <th></th>\n",
       "      <th>ID</th>\n",
       "      <th>Age</th>\n",
       "      <th>Education_years</th>\n",
       "      <th>Married</th>\n",
       "      <th>No_Degree</th>\n",
       "      <th>Wage_1974</th>\n",
       "      <th>Wage_1975</th>\n",
       "      <th>Wage_1978</th>\n",
       "    </tr>\n",
       "  </thead>\n",
       "  <tbody>\n",
       "    <tr>\n",
       "      <th>count</th>\n",
       "      <td>260.000000</td>\n",
       "      <td>260.000000</td>\n",
       "      <td>260.000000</td>\n",
       "      <td>260.000000</td>\n",
       "      <td>260.000000</td>\n",
       "      <td>260.000000</td>\n",
       "      <td>260.000000</td>\n",
       "      <td>260.000000</td>\n",
       "    </tr>\n",
       "    <tr>\n",
       "      <th>mean</th>\n",
       "      <td>129.500000</td>\n",
       "      <td>25.053846</td>\n",
       "      <td>10.088462</td>\n",
       "      <td>0.153846</td>\n",
       "      <td>0.834615</td>\n",
       "      <td>2107.026658</td>\n",
       "      <td>1266.909002</td>\n",
       "      <td>4554.801126</td>\n",
       "    </tr>\n",
       "    <tr>\n",
       "      <th>std</th>\n",
       "      <td>75.199734</td>\n",
       "      <td>7.057745</td>\n",
       "      <td>1.614325</td>\n",
       "      <td>0.361497</td>\n",
       "      <td>0.372244</td>\n",
       "      <td>5687.905694</td>\n",
       "      <td>3102.982044</td>\n",
       "      <td>5483.835991</td>\n",
       "    </tr>\n",
       "    <tr>\n",
       "      <th>min</th>\n",
       "      <td>0.000000</td>\n",
       "      <td>17.000000</td>\n",
       "      <td>3.000000</td>\n",
       "      <td>0.000000</td>\n",
       "      <td>0.000000</td>\n",
       "      <td>0.000000</td>\n",
       "      <td>0.000000</td>\n",
       "      <td>0.000000</td>\n",
       "    </tr>\n",
       "    <tr>\n",
       "      <th>25%</th>\n",
       "      <td>64.750000</td>\n",
       "      <td>19.000000</td>\n",
       "      <td>9.000000</td>\n",
       "      <td>0.000000</td>\n",
       "      <td>1.000000</td>\n",
       "      <td>0.000000</td>\n",
       "      <td>0.000000</td>\n",
       "      <td>0.000000</td>\n",
       "    </tr>\n",
       "    <tr>\n",
       "      <th>50%</th>\n",
       "      <td>129.500000</td>\n",
       "      <td>24.000000</td>\n",
       "      <td>10.000000</td>\n",
       "      <td>0.000000</td>\n",
       "      <td>1.000000</td>\n",
       "      <td>0.000000</td>\n",
       "      <td>0.000000</td>\n",
       "      <td>3138.795500</td>\n",
       "    </tr>\n",
       "    <tr>\n",
       "      <th>75%</th>\n",
       "      <td>194.250000</td>\n",
       "      <td>28.000000</td>\n",
       "      <td>11.000000</td>\n",
       "      <td>0.000000</td>\n",
       "      <td>1.000000</td>\n",
       "      <td>139.424700</td>\n",
       "      <td>650.096475</td>\n",
       "      <td>7288.420000</td>\n",
       "    </tr>\n",
       "    <tr>\n",
       "      <th>max</th>\n",
       "      <td>259.000000</td>\n",
       "      <td>55.000000</td>\n",
       "      <td>14.000000</td>\n",
       "      <td>1.000000</td>\n",
       "      <td>1.000000</td>\n",
       "      <td>39570.680000</td>\n",
       "      <td>23031.980000</td>\n",
       "      <td>39483.530000</td>\n",
       "    </tr>\n",
       "  </tbody>\n",
       "</table>\n",
       "</div>"
      ],
      "text/plain": [
       "               ID         Age  Education_years     Married   No_Degree  \\\n",
       "count  260.000000  260.000000       260.000000  260.000000  260.000000   \n",
       "mean   129.500000   25.053846        10.088462    0.153846    0.834615   \n",
       "std     75.199734    7.057745         1.614325    0.361497    0.372244   \n",
       "min      0.000000   17.000000         3.000000    0.000000    0.000000   \n",
       "25%     64.750000   19.000000         9.000000    0.000000    1.000000   \n",
       "50%    129.500000   24.000000        10.000000    0.000000    1.000000   \n",
       "75%    194.250000   28.000000        11.000000    0.000000    1.000000   \n",
       "max    259.000000   55.000000        14.000000    1.000000    1.000000   \n",
       "\n",
       "          Wage_1974     Wage_1975     Wage_1978  \n",
       "count    260.000000    260.000000    260.000000  \n",
       "mean    2107.026658   1266.909002   4554.801126  \n",
       "std     5687.905694   3102.982044   5483.835991  \n",
       "min        0.000000      0.000000      0.000000  \n",
       "25%        0.000000      0.000000      0.000000  \n",
       "50%        0.000000      0.000000   3138.795500  \n",
       "75%      139.424700    650.096475   7288.420000  \n",
       "max    39570.680000  23031.980000  39483.530000  "
      ]
     },
     "execution_count": 19,
     "metadata": {},
     "output_type": "execute_result"
    }
   ],
   "source": [
    "control.describe()"
   ]
  },
  {
   "cell_type": "code",
   "execution_count": 20,
   "id": "97815158-d75f-4265-8aca-a45971600ea2",
   "metadata": {},
   "outputs": [
    {
     "data": {
      "text/html": [
       "<div>\n",
       "<style scoped>\n",
       "    .dataframe tbody tr th:only-of-type {\n",
       "        vertical-align: middle;\n",
       "    }\n",
       "\n",
       "    .dataframe tbody tr th {\n",
       "        vertical-align: top;\n",
       "    }\n",
       "\n",
       "    .dataframe thead th {\n",
       "        text-align: right;\n",
       "    }\n",
       "</style>\n",
       "<table border=\"1\" class=\"dataframe\">\n",
       "  <thead>\n",
       "    <tr style=\"text-align: right;\">\n",
       "      <th></th>\n",
       "      <th>ID</th>\n",
       "      <th>Age</th>\n",
       "      <th>Education_years</th>\n",
       "      <th>Married</th>\n",
       "      <th>No_Degree</th>\n",
       "      <th>Wage_1974</th>\n",
       "      <th>Wage_1975</th>\n",
       "      <th>Wage_1978</th>\n",
       "    </tr>\n",
       "  </thead>\n",
       "  <tbody>\n",
       "    <tr>\n",
       "      <th>count</th>\n",
       "      <td>185.000000</td>\n",
       "      <td>185.000000</td>\n",
       "      <td>185.000000</td>\n",
       "      <td>185.000000</td>\n",
       "      <td>185.000000</td>\n",
       "      <td>185.000000</td>\n",
       "      <td>185.000000</td>\n",
       "      <td>185.000000</td>\n",
       "    </tr>\n",
       "    <tr>\n",
       "      <th>mean</th>\n",
       "      <td>352.000000</td>\n",
       "      <td>25.816216</td>\n",
       "      <td>10.345946</td>\n",
       "      <td>0.189189</td>\n",
       "      <td>0.708108</td>\n",
       "      <td>2095.573689</td>\n",
       "      <td>1532.055314</td>\n",
       "      <td>6349.143530</td>\n",
       "    </tr>\n",
       "    <tr>\n",
       "      <th>std</th>\n",
       "      <td>53.549043</td>\n",
       "      <td>7.155019</td>\n",
       "      <td>2.010650</td>\n",
       "      <td>0.392722</td>\n",
       "      <td>0.455867</td>\n",
       "      <td>4886.620353</td>\n",
       "      <td>3219.250870</td>\n",
       "      <td>7867.402218</td>\n",
       "    </tr>\n",
       "    <tr>\n",
       "      <th>min</th>\n",
       "      <td>260.000000</td>\n",
       "      <td>17.000000</td>\n",
       "      <td>4.000000</td>\n",
       "      <td>0.000000</td>\n",
       "      <td>0.000000</td>\n",
       "      <td>0.000000</td>\n",
       "      <td>0.000000</td>\n",
       "      <td>0.000000</td>\n",
       "    </tr>\n",
       "    <tr>\n",
       "      <th>25%</th>\n",
       "      <td>306.000000</td>\n",
       "      <td>20.000000</td>\n",
       "      <td>9.000000</td>\n",
       "      <td>0.000000</td>\n",
       "      <td>0.000000</td>\n",
       "      <td>0.000000</td>\n",
       "      <td>0.000000</td>\n",
       "      <td>485.229800</td>\n",
       "    </tr>\n",
       "    <tr>\n",
       "      <th>50%</th>\n",
       "      <td>352.000000</td>\n",
       "      <td>25.000000</td>\n",
       "      <td>11.000000</td>\n",
       "      <td>0.000000</td>\n",
       "      <td>1.000000</td>\n",
       "      <td>0.000000</td>\n",
       "      <td>0.000000</td>\n",
       "      <td>4232.309000</td>\n",
       "    </tr>\n",
       "    <tr>\n",
       "      <th>75%</th>\n",
       "      <td>398.000000</td>\n",
       "      <td>29.000000</td>\n",
       "      <td>12.000000</td>\n",
       "      <td>0.000000</td>\n",
       "      <td>1.000000</td>\n",
       "      <td>1291.468000</td>\n",
       "      <td>1817.284000</td>\n",
       "      <td>9642.999000</td>\n",
       "    </tr>\n",
       "    <tr>\n",
       "      <th>max</th>\n",
       "      <td>444.000000</td>\n",
       "      <td>48.000000</td>\n",
       "      <td>16.000000</td>\n",
       "      <td>1.000000</td>\n",
       "      <td>1.000000</td>\n",
       "      <td>35040.070000</td>\n",
       "      <td>25142.240000</td>\n",
       "      <td>60307.930000</td>\n",
       "    </tr>\n",
       "  </tbody>\n",
       "</table>\n",
       "</div>"
      ],
      "text/plain": [
       "               ID         Age  Education_years     Married   No_Degree  \\\n",
       "count  185.000000  185.000000       185.000000  185.000000  185.000000   \n",
       "mean   352.000000   25.816216        10.345946    0.189189    0.708108   \n",
       "std     53.549043    7.155019         2.010650    0.392722    0.455867   \n",
       "min    260.000000   17.000000         4.000000    0.000000    0.000000   \n",
       "25%    306.000000   20.000000         9.000000    0.000000    0.000000   \n",
       "50%    352.000000   25.000000        11.000000    0.000000    1.000000   \n",
       "75%    398.000000   29.000000        12.000000    0.000000    1.000000   \n",
       "max    444.000000   48.000000        16.000000    1.000000    1.000000   \n",
       "\n",
       "          Wage_1974     Wage_1975     Wage_1978  \n",
       "count    185.000000    185.000000    185.000000  \n",
       "mean    2095.573689   1532.055314   6349.143530  \n",
       "std     4886.620353   3219.250870   7867.402218  \n",
       "min        0.000000      0.000000      0.000000  \n",
       "25%        0.000000      0.000000    485.229800  \n",
       "50%        0.000000      0.000000   4232.309000  \n",
       "75%     1291.468000   1817.284000   9642.999000  \n",
       "max    35040.070000  25142.240000  60307.930000  "
      ]
     },
     "execution_count": 20,
     "metadata": {},
     "output_type": "execute_result"
    }
   ],
   "source": [
    "treated.describe()"
   ]
  },
  {
   "cell_type": "code",
   "execution_count": 21,
   "id": "f0f9a248-ece6-45ca-9554-24785e57c755",
   "metadata": {},
   "outputs": [
    {
     "data": {
      "text/plain": [
       "Ttest_indResult(statistic=2.674145513783345, pvalue=0.007892977714517335)"
      ]
     },
     "execution_count": 21,
     "metadata": {},
     "output_type": "execute_result"
    }
   ],
   "source": [
    "from scipy.stats import ttest_ind\n",
    "\n",
    "ttest_ind(treated[\"Wage_1978\"], control[\"Wage_1978\"], equal_var=False)"
   ]
  },
  {
   "cell_type": "code",
   "execution_count": 22,
   "id": "b327cd11-31ea-4da0-863c-857332f1ca18",
   "metadata": {},
   "outputs": [
    {
     "data": {
      "text/plain": [
       "0.27271540735846456"
      ]
     },
     "execution_count": 22,
     "metadata": {},
     "output_type": "execute_result"
    }
   ],
   "source": [
    "from stats_helpers import cohend2\n",
    "\n",
    "cohend2(treated[\"Wage_1978\"], control[\"Wage_1978\"])"
   ]
  },
  {
   "cell_type": "code",
   "execution_count": null,
   "id": "d9ba3736-dd86-455d-96e4-5c730d67b556",
   "metadata": {},
   "outputs": [],
   "source": [
    "\n"
   ]
  },
  {
   "cell_type": "markdown",
   "id": "ee26eef7-7b9f-4c94-8412-94a4acaf1e14",
   "metadata": {},
   "source": [
    "## Example of t-test with outliers\n",
    "\n",
    "The dataset `outliers2.csv` consists of measurements of soil score variable\n",
    "using a specialized equipment for calculating soil quality.\n",
    "\n",
    "The measurement apparatus has an upper limit beyound which it doesn't work,\n",
    "so all observations that exceed this limit are coded as the value 2500."
   ]
  },
  {
   "cell_type": "code",
   "execution_count": 23,
   "id": "c9d972a7-bf3d-4569-b9fe-83ef0dbb5c6e",
   "metadata": {},
   "outputs": [
    {
     "data": {
      "text/html": [
       "<div>\n",
       "<style scoped>\n",
       "    .dataframe tbody tr th:only-of-type {\n",
       "        vertical-align: middle;\n",
       "    }\n",
       "\n",
       "    .dataframe tbody tr th {\n",
       "        vertical-align: top;\n",
       "    }\n",
       "\n",
       "    .dataframe thead tr th {\n",
       "        text-align: left;\n",
       "    }\n",
       "\n",
       "    .dataframe thead tr:last-of-type th {\n",
       "        text-align: right;\n",
       "    }\n",
       "</style>\n",
       "<table border=\"1\" class=\"dataframe\">\n",
       "  <thead>\n",
       "    <tr>\n",
       "      <th></th>\n",
       "      <th colspan=\"8\" halign=\"left\">score</th>\n",
       "    </tr>\n",
       "    <tr>\n",
       "      <th></th>\n",
       "      <th>count</th>\n",
       "      <th>mean</th>\n",
       "      <th>std</th>\n",
       "      <th>min</th>\n",
       "      <th>25%</th>\n",
       "      <th>50%</th>\n",
       "      <th>75%</th>\n",
       "      <th>max</th>\n",
       "    </tr>\n",
       "    <tr>\n",
       "      <th>group</th>\n",
       "      <th></th>\n",
       "      <th></th>\n",
       "      <th></th>\n",
       "      <th></th>\n",
       "      <th></th>\n",
       "      <th></th>\n",
       "      <th></th>\n",
       "      <th></th>\n",
       "    </tr>\n",
       "  </thead>\n",
       "  <tbody>\n",
       "    <tr>\n",
       "      <th>A</th>\n",
       "      <td>14.0</td>\n",
       "      <td>482.857143</td>\n",
       "      <td>681.137833</td>\n",
       "      <td>26.0</td>\n",
       "      <td>82.50</td>\n",
       "      <td>153.5</td>\n",
       "      <td>715.75</td>\n",
       "      <td>2500.0</td>\n",
       "    </tr>\n",
       "    <tr>\n",
       "      <th>B</th>\n",
       "      <td>18.0</td>\n",
       "      <td>1213.611111</td>\n",
       "      <td>1099.014486</td>\n",
       "      <td>26.0</td>\n",
       "      <td>198.75</td>\n",
       "      <td>830.0</td>\n",
       "      <td>2500.00</td>\n",
       "      <td>2500.0</td>\n",
       "    </tr>\n",
       "  </tbody>\n",
       "</table>\n",
       "</div>"
      ],
      "text/plain": [
       "      score                                                                \n",
       "      count         mean          std   min     25%    50%      75%     max\n",
       "group                                                                      \n",
       "A      14.0   482.857143   681.137833  26.0   82.50  153.5   715.75  2500.0\n",
       "B      18.0  1213.611111  1099.014486  26.0  198.75  830.0  2500.00  2500.0"
      ]
     },
     "execution_count": 23,
     "metadata": {},
     "output_type": "execute_result"
    },
    {
     "data": {
      "image/png": "[encoded data removed]",
      "text/plain": [
       "<Figure size 640x480 with 1 Axes>"
      ]
     },
     "metadata": {
      "image/png": {
       "height": 432,
       "width": 580
      }
     },
     "output_type": "display_data"
    }
   ],
   "source": [
    "outliers2 = pd.read_csv(\"../datasets/outliers2.csv\")\n",
    "sns.stripplot(data=outliers2, x=\"group\", y=\"score\", hue=\"group\")\n",
    "sns.pointplot(data=outliers2, x=\"group\", y=\"score\", hue=\"group\", dodge=0.4,\n",
    "              estimator=\"mean\", errorbar=\"sd\", marker=\"D\",\n",
    "              markersize=5, err_kws={\"linewidth\":1})\n",
    "outliers2.groupby(\"group\").describe()"
   ]
  },
  {
   "cell_type": "code",
   "execution_count": 24,
   "id": "3eda6221-485e-41b1-a933-8a704fd92715",
   "metadata": {},
   "outputs": [],
   "source": [
    "scoresA = outliers2[outliers2[\"group\"]==\"A\"][\"score\"]\n",
    "scoresB = outliers2[outliers2[\"group\"]==\"B\"][\"score\"]"
   ]
  },
  {
   "cell_type": "code",
   "execution_count": 25,
   "id": "9d19d620-b91d-4904-a4db-ffda37f5bcb2",
   "metadata": {},
   "outputs": [
    {
     "data": {
      "text/plain": [
       "Ttest_indResult(statistic=-2.3080671633801986, pvalue=0.028387263383781086)"
      ]
     },
     "execution_count": 25,
     "metadata": {},
     "output_type": "execute_result"
    }
   ],
   "source": [
    "from scipy.stats import ttest_ind\n",
    "ttest_ind(scoresA, scoresB, equal_var=False)"
   ]
  },
  {
   "cell_type": "markdown",
   "id": "5e90f562-a9eb-44ad-90c5-a95eb1613424",
   "metadata": {},
   "source": [
    "The outliers pull the mean in group B to a high value,\n",
    "which leads us to conclude there is a statistically significant difference between the two groups.\n",
    "This is because we're using the $t$-test when the normality assumption is not valid.\n",
    "\n",
    "See the notebook [`Mann-Whitney_U-test.ipynb`](./Mann-Whitney_U-test.ipynb) for an analysis of this data\n",
    "using the nonparametric test for comparing two groups,\n",
    "which is more appropriate for data with outliers."
   ]
  },
  {
   "cell_type": "code",
   "execution_count": null,
   "id": "dde0c95f-318d-4a63-9786-d6898fde3dc5",
   "metadata": {},
   "outputs": [],
   "source": []
  },
  {
   "cell_type": "code",
   "execution_count": null,
   "id": "1f4afb5b-5107-47d5-b947-6bf7259425a4",
   "metadata": {},
   "outputs": [],
   "source": []
  },
  {
   "cell_type": "code",
   "execution_count": null,
   "id": "8746a0c5-f230-4a4d-b08f-1b54cef916ce",
   "metadata": {},
   "outputs": [],
   "source": []
  }
 ],
 "metadata": {
  "kernelspec": {
   "display_name": "Python 3 (ipykernel)",
   "language": "python",
   "name": "python3"
  },
  "language_info": {
   "codemirror_mode": {
    "name": "ipython",
    "version": 3
   },
   "file_extension": ".py",
   "mimetype": "text/x-python",
   "name": "python",
   "nbconvert_exporter": "python",
   "pygments_lexer": "ipython3",
   "version": "3.9.4"
  }
 },
 "nbformat": 4,
 "nbformat_minor": 5
}
