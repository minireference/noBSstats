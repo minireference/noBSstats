{
 "cells": [
  {
   "cell_type": "markdown",
   "id": "229b9ce5-9ba8-406a-bb1a-5979d1e2a64f",
   "metadata": {},
   "source": [
    "### Two-sample equivalence test\n",
    "\n",
    "To perform two-sample equivalence test,\n",
    "we'll use the same procedure as Welch's two-sample $t$-test,\n",
    "but this time prove that two unknown population $X \\sim \\mathcal{N}(\\mu_X, \\sigma_X)$ and $Y \\sim \\mathcal{N}(\\mu_Y, \\sigma_Y)$\n",
    "are not different."
   ]
  },
  {
   "cell_type": "code",
   "execution_count": 1,
   "id": "a75de327-d02b-47a0-bcc6-57cb317b9d7c",
   "metadata": {},
   "outputs": [],
   "source": [
    "import matplotlib.pyplot as plt\n",
    "import numpy as np\n",
    "import seaborn as sns\n",
    "import pandas as pd"
   ]
  },
  {
   "cell_type": "code",
   "execution_count": 2,
   "id": "1cf0b78f-2944-4e26-83b7-553b70f70398",
   "metadata": {},
   "outputs": [],
   "source": [
    "%matplotlib inline\n",
    "%config InlineBackend.figure_format = 'retina'"
   ]
  },
  {
   "cell_type": "markdown",
   "id": "09804789-d86e-4df9-a3d9-4106bfbf76d1",
   "metadata": {},
   "source": [
    "#### Data\n",
    "Two samples of numerical observations $\\mathbf{x}=[x_1, x_2, \\ldots, x_n]$\n",
    "and $\\mathbf{y}=[y_1, y_2,\\ldots, y_m]$ from independent populations."
   ]
  },
  {
   "cell_type": "markdown",
   "id": "d69a9922-b2a7-44f3-83f1-ed3713d71e8f",
   "metadata": {},
   "source": [
    "#### Modeling assumptions\n",
    "\n",
    "We assume the unknown populations are normally distributed $\\textbf{(NORM)}$,\n",
    "or the sample is large enough $\\textbf{(LARGEn)}$."
   ]
  },
  {
   "cell_type": "markdown",
   "id": "b69c7ac0-31bd-479e-afb4-f9505bfca4ef",
   "metadata": {},
   "source": [
    "#### Hypotheses\n",
    "\n",
    "$H_0: |\\mu_X - \\mu_Y| \\geq \\Delta_{\\text{min}}$\n",
    "versus $H_A: |\\mu_X - \\mu_Y| < \\Delta_{\\text{min}}$."
   ]
  },
  {
   "cell_type": "markdown",
   "id": "146b20c4-d535-46fe-86cc-8c2c52bfa39f",
   "metadata": {},
   "source": [
    "#### Statistical design\n",
    "\n",
    "for $n=5$ ...\n",
    "\n",
    "\n",
    "for $n=20$ ...\n"
   ]
  },
  {
   "cell_type": "code",
   "execution_count": 3,
   "id": "31dea3e9-c468-48c4-ab99-874ac609cadd",
   "metadata": {},
   "outputs": [],
   "source": [
    "sesoi = 4"
   ]
  },
  {
   "cell_type": "markdown",
   "id": "7674af35-fd9d-4608-970a-b74c27ca3475",
   "metadata": {},
   "source": [
    "#### Estimates\n",
    "\n",
    "Compute the sample means\n",
    "$\\overline{\\mathbf{x}} = \\Mean(\\mathbf{x})$,\n",
    "$\\overline{\\mathbf{y}} = \\Mean(\\mathbf{y})$,\n",
    "and the difference between means\n",
    "$\\hat{d} = \\DMeans(\\mathbf{x}, \\mathbf{y}) = \\overline{\\mathbf{x}} - \\overline{\\mathbf{y}}$.\n",
    "\n",
    "#### Formulas\n",
    "The estimated standard error of the difference between means estimator is\n",
    "\n",
    "$$\n",
    "  \\stderrhat{\\hat{d}}\n",
    "        \\; = \\; \\sqrt{  \\stderrhat{\\overline{\\mathbf{x}}}^2 + \\stderrhat{\\overline{\\mathbf{y}}}^2 }\n",
    "        = \\sqrt{ \\tfrac{s_{\\mathbf{x}}^2}{n} + \\tfrac{s_{\\mathbf{y}}^2}{m} },\n",
    "$$\n",
    "\n",
    "where $s_{\\mathbf{x}}$ and $s_{\\mathbf{y}}$ are the sample standard deviations."
   ]
  },
  {
   "cell_type": "markdown",
   "id": "ab880b56-b783-4c32-b2cd-8cb66b59f766",
   "metadata": {},
   "source": [
    "#### Test statistic\n",
    "\n",
    "Compute the $t$-statistic $t = \\frac{\\hat{d} - 0}{ \\stderrhat{\\hat{d}} }$."
   ]
  },
  {
   "cell_type": "markdown",
   "id": "46a6143a-ca4b-4568-bf5a-862a577c8c21",
   "metadata": {},
   "source": [
    "#### Sampling distribution\n",
    "\n",
    "Student's $t$-distribution with $\\nu_d$ degrees of freedom,\n",
    "where the degrees of freedom parameter is computed using\n",
    "the helper function `calcdf`:\n",
    "$\\nu_d = \\tt{calcdf}(s_{\\mathbf{x}}, n, s_{\\mathbf{y}}, m)$,\n",
    "which implements the Welch--Satterthwaite formula."
   ]
  },
  {
   "cell_type": "markdown",
   "id": "15cf13c7-78bf-495a-baf8-2312c6210c2a",
   "metadata": {},
   "source": [
    "#### P-value calculation"
   ]
  },
  {
   "cell_type": "code",
   "execution_count": 4,
   "id": "485f2583-bb09-4fa5-bbb3-6d0d191010ba",
   "metadata": {},
   "outputs": [],
   "source": [
    "# from stats_helpers import tost_dmeans\n",
    "# %psource tost_dmeans"
   ]
  },
  {
   "cell_type": "markdown",
   "id": "971895b0-bb9b-4eae-b8a4-d76ac6796bb4",
   "metadata": {},
   "source": [
    "To perform the two-sample $t$-test on the samples `xs` and `ys`,\n",
    "we call `tost_dmeans(xs, ys)`."
   ]
  },
  {
   "cell_type": "code",
   "execution_count": null,
   "id": "b8d34961-f391-4d3e-b034-255a865b5f05",
   "metadata": {},
   "outputs": [],
   "source": []
  },
  {
   "cell_type": "markdown",
   "id": "c46e51cc-143b-4e0c-8872-c17a54e7810d",
   "metadata": {},
   "source": [
    "#### Examples\n",
    "\n",
    "For all the examples we present below,\n",
    "we assume the unknown distribution are normally distributed \n",
    "\n",
    "$$\n",
    "    \\texttt{rvX} = X \\sim \\mathcal{N}(\\mu_X,\\sigma_X)\n",
    "    \\qquad\n",
    "    \\text{and}\n",
    "    \\qquad\n",
    "    \\texttt{rvY} = Y \\sim \\mathcal{N}(\\mu_Y,\\sigma_Y).\n",
    "$$\n"
   ]
  },
  {
   "cell_type": "code",
   "execution_count": 5,
   "id": "ab9c156b-0534-41f2-b7eb-3bfffab19822",
   "metadata": {},
   "outputs": [],
   "source": [
    "from scipy.stats import norm"
   ]
  },
  {
   "cell_type": "markdown",
   "id": "f65e1b6e-01a6-44fd-b112-455ec9cb0226",
   "metadata": {},
   "source": [
    "##### Example A: populations are different"
   ]
  },
  {
   "cell_type": "markdown",
   "id": "bf5b1a71-2ab2-4fc7-830c-a0030034dfa6",
   "metadata": {},
   "source": [
    "Suppose the $X$-population is normally distributed \n",
    "with mean $\\mu_{X}=104$\n",
    "and standard deviation $\\sigma_{X} = 3$,\n",
    "while the $Y$-population is normally distributed \n",
    "with mean $\\mu_{X}=100$\n",
    "and standard deviation $\\sigma_{X} = 5$\n",
    "\n",
    "$$\n",
    "    \\texttt{rvX} = X \\sim \\mathcal{N}(104,3)\n",
    "    \\qquad\n",
    "    \\text{and}\n",
    "    \\qquad\n",
    "    \\texttt{rvY} = Y \\sim \\mathcal{N}(100,5).\n",
    "$$"
   ]
  },
  {
   "cell_type": "code",
   "execution_count": 6,
   "id": "93391dc9-2834-4ce9-a43b-fec486ddeca3",
   "metadata": {},
   "outputs": [],
   "source": [
    "muXA = 104\n",
    "sigmaXA = 3\n",
    "rvXA = norm(muXA, sigmaXA)\n",
    "\n",
    "muYA = 100\n",
    "sigmaYA = 5\n",
    "rvYA = norm(muYA, sigmaYA)"
   ]
  },
  {
   "cell_type": "markdown",
   "id": "d563fb81-7b86-41e1-9a6a-c781d7cde415",
   "metadata": {},
   "source": [
    "Let's generate a sample `xAs` and `yAs` of size $n=20$ from the random variables $X = \\texttt{rvXA}$ and $Y = \\texttt{rvYA}$."
   ]
  },
  {
   "cell_type": "code",
   "execution_count": 7,
   "id": "af1f3781-3969-40ae-bc46-101b72732d4a",
   "metadata": {},
   "outputs": [
    {
     "data": {
      "text/plain": [
       "(array([105.49014246, 103.5852071 , 105.94306561, 108.56908957,\n",
       "        103.29753988, 103.29758913, 108.73763845, 106.30230419,\n",
       "        102.59157684, 105.62768013, 102.60974692, 102.60281074,\n",
       "        104.72588681,  98.26015927,  98.8252465 , 102.31313741,\n",
       "        100.96150664, 104.942742  , 101.27592777,  99.7630889 ]),\n",
       " array([107.32824384,  98.8711185 , 100.33764102,  92.87625907,\n",
       "         97.27808638, 100.55461295,  94.24503211, 101.87849009,\n",
       "         96.99680655,  98.54153125,  96.99146694, 109.26139092,\n",
       "         99.93251388,  94.71144536, 104.11272456,  93.89578175,\n",
       "        101.04431798,  90.20164938,  93.35906976, 100.98430618]))"
      ]
     },
     "execution_count": 7,
     "metadata": {},
     "output_type": "execute_result"
    }
   ],
   "source": [
    "np.random.seed(42)\n",
    "\n",
    "# generate a random sample of size n=20 from rvX\n",
    "n = 20\n",
    "xAs = rvXA.rvs(n)\n",
    "\n",
    "# generate a random sample of size m=20 from rvY\n",
    "m = 20\n",
    "yAs = rvYA.rvs(m)\n",
    "xAs, yAs"
   ]
  },
  {
   "cell_type": "code",
   "execution_count": 8,
   "id": "399b3747-473f-4f0d-8c5b-fc10ac6f1256",
   "metadata": {},
   "outputs": [
    {
     "data": {
      "text/plain": [
       "4.815979892644748"
      ]
     },
     "execution_count": 8,
     "metadata": {},
     "output_type": "execute_result"
    }
   ],
   "source": [
    "dhatA = np.mean(xAs) - np.mean(yAs)\n",
    "dhatA"
   ]
  },
  {
   "cell_type": "code",
   "execution_count": 9,
   "id": "c169980c-7fff-427b-9226-c35f862bfa60",
   "metadata": {},
   "outputs": [
    {
     "data": {
      "image/png": "[encoded data removed]",
      "text/plain": [
       "<Figure size 700x100 with 1 Axes>"
      ]
     },
     "metadata": {
      "image/png": {
       "height": 120,
       "width": 567
      }
     },
     "output_type": "display_data"
    }
   ],
   "source": [
    "dAs = xAs - yAs\n",
    "with plt.rc_context({\"figure.figsize\":(7,1)}):\n",
    "    sns.stripplot(x=dAs, jitter=0, alpha=0.5)"
   ]
  },
  {
   "cell_type": "code",
   "execution_count": 10,
   "id": "591629c9-f6dc-442e-a0e9-ae83844714dd",
   "metadata": {},
   "outputs": [
    {
     "data": {
      "image/png": "[encoded data removed]",
      "text/plain": [
       "<Figure size 700x100 with 1 Axes>"
      ]
     },
     "metadata": {
      "image/png": {
       "height": 120,
       "width": 581
      }
     },
     "output_type": "display_data"
    }
   ],
   "source": [
    "import seaborn as sns\n",
    "\n",
    "with plt.rc_context({\"figure.figsize\":(7,1)}):\n",
    "    sns.stripplot(x=xAs, jitter=0, alpha=0.5)\n",
    "    sns.stripplot(x=yAs, jitter=0, alpha=0.5)"
   ]
  },
  {
   "cell_type": "markdown",
   "id": "74fbd963-d101-4a22-949d-b06f708212d4",
   "metadata": {},
   "source": [
    "To obtain the $p$-value,\n",
    "we first compute the observed $t$-statistic,\n",
    "then calculate the tail probabilities in the two tails of the standard normal distribution $T_0 \\sim \\mathcal{T}(\\nu_d)$."
   ]
  },
  {
   "cell_type": "code",
   "execution_count": 11,
   "id": "b80ab201-a6c9-4325-85c4-15dc290bea12",
   "metadata": {},
   "outputs": [
    {
     "name": "stdout",
     "output_type": "stream",
     "text": [
      "obst+ 0.6479055169799628   pvalue+ 0.7390885154632982\n",
      "obst- 7.000076915517506    pvalue- 3.7301428501557155e-08\n"
     ]
    },
    {
     "data": {
      "text/plain": [
       "0.7390885154632982"
      ]
     },
     "execution_count": 11,
     "metadata": {},
     "output_type": "execute_result"
    }
   ],
   "source": [
    "from scipy.stats import t as tdist\n",
    "from stats_helpers import calcdf\n",
    "\n",
    "# Calculate the sample statistics\n",
    "from stats_helpers import mean, std\n",
    "obsdhat = mean(xAs) - mean(yAs)\n",
    "sx, sy = std(xAs), std(yAs)\n",
    "\n",
    "# Calculate the standard error and the t-statistic\n",
    "seD = np.sqrt(sx**2/n + sy**2/m)\n",
    "\n",
    "# Calculate the degrees of freedom\n",
    "dfD = calcdf(sx, n, sy, m)\n",
    "\n",
    "# Positive hypothesis test\n",
    "obstplus = (obsdhat - sesoi) / seD\n",
    "rvT0plus = tdist(df=dfD)\n",
    "pvalueplus = rvT0plus.cdf(obstplus)\n",
    "print(\"obst+\", obstplus, \"  pvalue+\", pvalueplus)\n",
    "\n",
    "# Negative hypothesis test\n",
    "obstminus = (obsdhat - (-sesoi)) / seD\n",
    "rvT0minus = tdist(df=dfD)\n",
    "pvalueminus = 1 - rvT0minus.cdf(obstminus)\n",
    "print(\"obst-\", obstminus, \"   pvalue-\", pvalueminus)\n",
    "\n",
    "# the p-value is the largest of the two subtests\n",
    "pvalue = max(pvalueplus, pvalueminus)\n",
    "pvalue"
   ]
  },
  {
   "cell_type": "code",
   "execution_count": null,
   "id": "a381d950-23a7-46ec-a27a-d820683d9e81",
   "metadata": {},
   "outputs": [],
   "source": []
  },
  {
   "cell_type": "markdown",
   "id": "48fdd480-771b-496c-a739-40dbf863183f",
   "metadata": {},
   "source": [
    "The helper function `ttost_ind` in the `statsmodels` module performs\n",
    "exactly the same sequence of steps to compute the $p$-value."
   ]
  },
  {
   "cell_type": "code",
   "execution_count": 12,
   "id": "d76a7c12-eab2-4f44-8040-3d170b6f16d2",
   "metadata": {},
   "outputs": [
    {
     "data": {
      "text/plain": [
       "(0.7390885154633053,\n",
       " (7.000076915517528, 3.730142848917544e-08, 30.95572939468825),\n",
       " (0.6479055169799854, 0.7390885154633053, 30.95572939468825))"
      ]
     },
     "execution_count": 12,
     "metadata": {},
     "output_type": "execute_result"
    }
   ],
   "source": [
    "from statsmodels.stats.weightstats import ttost_ind\n",
    "\n",
    "ttost_ind(xAs, yAs, low=-sesoi, upp=sesoi, usevar='unequal')"
   ]
  },
  {
   "cell_type": "markdown",
   "id": "4a0c8c4b-bbdf-4ee0-85e9-a4080d4dfaa0",
   "metadata": {},
   "source": [
    "The $p$-value we obtain is 0.739,\n",
    "which is above the cutoff value $\\alpha=0.05$,\n",
    "so our conclusion is **we fail to reject the null hypothesis**:\n",
    "the means of the two unknown populations differ significantly from the smallest effect size of interest $\\Delta_{\\text{min}}$."
   ]
  },
  {
   "cell_type": "code",
   "execution_count": null,
   "id": "98d6f4b6-dce3-458d-a610-7fe6ba35aa94",
   "metadata": {},
   "outputs": [],
   "source": []
  },
  {
   "cell_type": "markdown",
   "id": "aa3a24ed-d585-4b3c-b5c0-f6ab6446819c",
   "metadata": {},
   "source": [
    "##### Example B: sample from a population as expected under $H_0$"
   ]
  },
  {
   "cell_type": "code",
   "execution_count": 13,
   "id": "58a77e58-f189-43e0-9414-4b47734f758c",
   "metadata": {},
   "outputs": [],
   "source": [
    "muXB = 100\n",
    "sigmaXB = 5\n",
    "rvXB = norm(muXB, sigmaXB)\n",
    "\n",
    "muYB = muXB\n",
    "sigmaYB = sigmaXB\n",
    "rvYB = norm(muYB, sigmaYB)"
   ]
  },
  {
   "cell_type": "markdown",
   "id": "869366ba-2513-4501-ae31-f98ee4dcb134",
   "metadata": {},
   "source": [
    "Let's generate a sample `xs` of size $n=20$ from the random variable $X = \\texttt{rvX}$,\n",
    "which has the same distribution as the theoretical distribution we expect under the null hypothesis."
   ]
  },
  {
   "cell_type": "code",
   "execution_count": 33,
   "id": "23763c28-4f29-4c62-b7e7-c3587d51c9f1",
   "metadata": {},
   "outputs": [
    {
     "data": {
      "text/plain": [
       "(98.49345582110894, 99.90646412616485, 3.913169794238548, 4.345144155915784)"
      ]
     },
     "execution_count": 33,
     "metadata": {},
     "output_type": "execute_result"
    }
   ],
   "source": [
    "np.random.seed(31)\n",
    "\n",
    "# generate a random sample of size n=20 from rvX\n",
    "n = 20\n",
    "xBs = rvXB.rvs(n)\n",
    "\n",
    "# generate a random sample of size m=20 from rvY\n",
    "m = 20\n",
    "yBs = rvYB.rvs(m)\n",
    "# xBs, yBs\n",
    "np.mean(xBs), np.mean(yBs), sxB, syB"
   ]
  },
  {
   "cell_type": "code",
   "execution_count": 15,
   "id": "feabe698-0a54-4bbd-8b96-326fd391d65d",
   "metadata": {},
   "outputs": [
    {
     "data": {
      "text/plain": [
       "-1.4130083050559108"
      ]
     },
     "execution_count": 15,
     "metadata": {},
     "output_type": "execute_result"
    }
   ],
   "source": [
    "obsdhatB = np.mean(xBs) - np.mean(yBs)\n",
    "obsdhatB"
   ]
  },
  {
   "cell_type": "code",
   "execution_count": 16,
   "id": "43b6dfee-ec28-46d0-b5c6-4a58811cd438",
   "metadata": {},
   "outputs": [
    {
     "data": {
      "text/plain": [
       "1.3075392073324235"
      ]
     },
     "execution_count": 16,
     "metadata": {},
     "output_type": "execute_result"
    }
   ],
   "source": [
    "sxB, syB = std(xBs), std(yBs)\n",
    "# Calculate the standard error and the t-statistic\n",
    "seDB = np.sqrt(sxB**2/n + syB**2/m)\n",
    "seDB"
   ]
  },
  {
   "cell_type": "code",
   "execution_count": 17,
   "id": "12503c15-5d7f-4fc3-8850-3f84a274d64b",
   "metadata": {},
   "outputs": [
    {
     "data": {
      "image/png": "[encoded data removed]",
      "text/plain": [
       "<Figure size 700x100 with 1 Axes>"
      ]
     },
     "metadata": {
      "image/png": {
       "height": 120,
       "width": 567
      }
     },
     "output_type": "display_data"
    }
   ],
   "source": [
    "import seaborn as sns\n",
    "with plt.rc_context({\"figure.figsize\":(7,1)}):\n",
    "    sns.stripplot(x=xBs, jitter=0, alpha=0.5)\n",
    "    sns.stripplot(x=yBs, jitter=0, alpha=0.5)"
   ]
  },
  {
   "cell_type": "code",
   "execution_count": 18,
   "id": "a3f9c9b0-3669-4515-8db9-b957cebd07e7",
   "metadata": {},
   "outputs": [
    {
     "data": {
      "image/png": "[encoded data removed]",
      "text/plain": [
       "<Figure size 700x100 with 1 Axes>"
      ]
     },
     "metadata": {
      "image/png": {
       "height": 120,
       "width": 580
      }
     },
     "output_type": "display_data"
    }
   ],
   "source": [
    "dfB = pd.DataFrame({\"x\": xBs, \"y\":yBs})\n",
    "with plt.rc_context({\"figure.figsize\":(7,1)}):\n",
    "    sns.stripplot(dfB, orient=\"h\")"
   ]
  },
  {
   "cell_type": "code",
   "execution_count": null,
   "id": "ec9aea59-392c-4f96-b999-e73140e84961",
   "metadata": {},
   "outputs": [],
   "source": []
  },
  {
   "cell_type": "code",
   "execution_count": 34,
   "id": "71ee13f9-e84b-437f-ae19-1d1c6c75736e",
   "metadata": {},
   "outputs": [
    {
     "name": "stdout",
     "output_type": "stream",
     "text": [
      "obsdhatB = -1.4130083050558824\n",
      "seDB = 1.3075392073324235   sesoi/seDB = 3.0591816884486405\n",
      "dfDB = 37.59083188299806\n",
      "obst+ = -4.139843971561842   pvalue+ = 9.438014051414072e-05\n",
      "obst- = 1.978519405335439    pvalue- = 0.02761615756744984\n"
     ]
    },
    {
     "data": {
      "text/plain": [
       "0.02761615756744984"
      ]
     },
     "execution_count": 34,
     "metadata": {},
     "output_type": "execute_result"
    }
   ],
   "source": [
    "from scipy.stats import t as tdist\n",
    "from stats_helpers import calcdf\n",
    "\n",
    "# Calculate the sample statistics\n",
    "from stats_helpers import mean, std\n",
    "obsdhatB = mean(xBs) - mean(yBs)\n",
    "print(\"obsdhatB =\", obsdhatB)\n",
    "sxB, syB = std(xBs), std(yBs)\n",
    "\n",
    "# Calculate the standard error and the t-statistic\n",
    "seDB = np.sqrt(sxB**2/n + syB**2/m)\n",
    "print(\"seDB =\", seDB, \"  sesoi/seDB =\", sesoi/seDB)\n",
    "\n",
    "# Calculate the degrees of freedom\n",
    "dfDB = calcdf(sxB, n, syB, m)\n",
    "print(\"dfDB =\", dfDB)\n",
    "\n",
    "# Positive hypothesis test\n",
    "obstplus = (obsdhatB - sesoi) / seDB\n",
    "rvT0plus = tdist(df=dfDB)\n",
    "pvalueplus = rvT0plus.cdf(obstplus)\n",
    "print(\"obst+ =\", obstplus, \"  pvalue+ =\", pvalueplus)\n",
    "\n",
    "# Negative hypothesis test\n",
    "obstminus = (obsdhatB - (-sesoi)) / seDB\n",
    "rvT0minus = tdist(df=dfDB)\n",
    "pvalueminus = 1 - rvT0minus.cdf(obstminus)\n",
    "print(\"obst- =\", obstminus, \"   pvalue- =\", pvalueminus)\n",
    "\n",
    "# the p-value is the largest of the two sub-tests\n",
    "pvalue = max(pvalueplus, pvalueminus)\n",
    "pvalue"
   ]
  },
  {
   "cell_type": "code",
   "execution_count": 25,
   "id": "c016248d-e072-47ea-9b02-60f8fb674853",
   "metadata": {},
   "outputs": [
    {
     "data": {
      "text/plain": [
       "(0.02761615756745112,\n",
       " (1.978519405335417, 0.02761615756745112, 37.59083188299806),\n",
       " (-4.139843971561863, 9.438014051413471e-05, 37.59083188299806))"
      ]
     },
     "execution_count": 25,
     "metadata": {},
     "output_type": "execute_result"
    }
   ],
   "source": [
    "from statsmodels.stats.weightstats import ttost_ind\n",
    "\n",
    "ttost_ind(xBs, yBs, low=-sesoi, upp=sesoi, usevar='unequal')"
   ]
  },
  {
   "cell_type": "markdown",
   "id": "78d553ed-6198-41b1-8324-4f322ff23866",
   "metadata": {},
   "source": [
    "The $p$-value we obtain is 0.0276, which is below the cutoff value $\\alpha=0.05$\n",
    "so our conclusion is that we've **reject the null hypothesis**:\n",
    "this means of two samples are not significantly different."
   ]
  },
  {
   "cell_type": "code",
   "execution_count": 32,
   "id": "66352f08-4cc0-4842-8a8a-2118ce085002",
   "metadata": {},
   "outputs": [
    {
     "data": {
      "text/plain": [
       "1.978519405335439"
      ]
     },
     "execution_count": 32,
     "metadata": {},
     "output_type": "execute_result"
    }
   ],
   "source": [
    "(4-1.4130083050558824)/seDB"
   ]
  },
  {
   "cell_type": "code",
   "execution_count": null,
   "id": "7be97955-5d4f-4779-a0ae-953b72672373",
   "metadata": {},
   "outputs": [],
   "source": []
  },
  {
   "cell_type": "code",
   "execution_count": null,
   "id": "1817c931-e541-4839-947c-29d7f7dd7ebc",
   "metadata": {},
   "outputs": [],
   "source": []
  },
  {
   "cell_type": "markdown",
   "id": "9ae28def-30d0-4b39-8365-e06ed7cf9081",
   "metadata": {},
   "source": [
    "#### Confidence interval for the effect size"
   ]
  },
  {
   "cell_type": "code",
   "execution_count": 21,
   "id": "42a8f2a2-67b6-4ea6-a363-39363232c7de",
   "metadata": {},
   "outputs": [],
   "source": [
    "from stats_helpers import ci_dmeans"
   ]
  },
  {
   "cell_type": "markdown",
   "id": "fec125ff-bb49-4567-bd3f-ef55e3f83cb2",
   "metadata": {},
   "source": [
    "The confidence interval for the effect size $\\Delta = \\mu_X - \\mu_Y$ in Example A is"
   ]
  },
  {
   "cell_type": "code",
   "execution_count": 22,
   "id": "f2a108b5-4a49-4e5c-b2e9-42c06e218d21",
   "metadata": {},
   "outputs": [
    {
     "data": {
      "text/plain": [
       "[2.6805293784320785, 6.951430406857417]"
      ]
     },
     "execution_count": 22,
     "metadata": {},
     "output_type": "execute_result"
    }
   ],
   "source": [
    "ci_dmeans(xAs, yAs, alpha=0.1, method='a')"
   ]
  },
  {
   "cell_type": "markdown",
   "id": "db0a9b40-6ef1-4165-ac69-e3525267a602",
   "metadata": {},
   "source": [
    "The confidence interval for the effect size $\\Delta = \\mu_X - \\mu_Y$ in Example B is"
   ]
  },
  {
   "cell_type": "code",
   "execution_count": 23,
   "id": "be6f4e4a-97f3-48a2-bbc2-b425af3a7ff6",
   "metadata": {},
   "outputs": [
    {
     "data": {
      "text/plain": [
       "[-3.6180594963139185, 0.7920428862020961]"
      ]
     },
     "execution_count": 23,
     "metadata": {},
     "output_type": "execute_result"
    }
   ],
   "source": [
    "ci_dmeans(xBs, yBs, alpha=0.1, method='a')"
   ]
  },
  {
   "cell_type": "code",
   "execution_count": null,
   "id": "77201c14-06b2-45f0-a652-ec9489fc7db3",
   "metadata": {},
   "outputs": [],
   "source": []
  },
  {
   "cell_type": "markdown",
   "id": "6be145e5-8cee-4d19-b215-807f690af3aa",
   "metadata": {},
   "source": [
    "#### Related\n",
    "\n"
   ]
  },
  {
   "cell_type": "code",
   "execution_count": null,
   "id": "2385f46a-ec7b-4b74-a944-c46e6e5c861f",
   "metadata": {},
   "outputs": [],
   "source": []
  },
  {
   "cell_type": "markdown",
   "id": "aff7ca4d-e061-40ad-9a6f-0c48913a001f",
   "metadata": {},
   "source": [
    "#### Discussion"
   ]
  },
  {
   "cell_type": "code",
   "execution_count": null,
   "id": "059f1063-5cb2-4ecd-bd5a-ff8c54eada63",
   "metadata": {},
   "outputs": [],
   "source": []
  },
  {
   "cell_type": "markdown",
   "id": "fa1f1c61-0742-4945-9618-8ec17f6263d7",
   "metadata": {},
   "source": [
    "#### Links"
   ]
  },
  {
   "cell_type": "code",
   "execution_count": null,
   "id": "d47aacd1-d620-48de-b46f-d0a0b2ec4a11",
   "metadata": {},
   "outputs": [],
   "source": []
  },
  {
   "cell_type": "code",
   "execution_count": null,
   "id": "3aab082f-9cac-4105-8f95-6040a7c47df7",
   "metadata": {},
   "outputs": [],
   "source": []
  },
  {
   "cell_type": "markdown",
   "id": "a5074f3a-1708-40af-a9f3-5f546ec32bae",
   "metadata": {},
   "source": [
    "#### Comprare with R\n",
    "\n",
    "```R\n",
    "> install.packages(\"TOSTER\")\n",
    "> library(TOSTER)\n",
    "> tsum_TOST(m1 = 98.49345582110894, sd1 = 3.913169794238548, n1 = 20,\n",
    "+           m2 = 99.90646412616485, sd2 = 4.345144155915784, n2 = 20,\n",
    "+           eqb = 4, alpha = 0.05, var.equal = FALSE)\n",
    "\n",
    "Welch Modified Two-Sample t-Test\n",
    "The equivalence test was significant, t(37.59) = 1.979, p = 2.76e-02\n",
    "The null hypothesis test was non-significant, t(37.59) = -1.081, p = 2.87e-01\n",
    "NHST: do not reject null significance hypothesis that the effect is equal to zero \n",
    "TOST: reject null equivalence hypothesis\n",
    "\n",
    "TOST Results \n",
    "                t    df p.value\n",
    "t-test     -1.081 37.59   0.287\n",
    "TOST Lower  1.979 37.59   0.028\n",
    "TOST Upper -4.140 37.59 < 0.001\n",
    "\n",
    "Effect Sizes \n",
    "               Estimate     SE              C.I. Conf. Level\n",
    "Raw             -1.4130 1.3075  [-3.6181, 0.792]         0.9\n",
    "Hedges g(av)    -0.3349 0.3412 [-0.8463, 0.1809]         0.9\n",
    "```"
   ]
  },
  {
   "cell_type": "code",
   "execution_count": null,
   "id": "f122ae0d-2725-40dd-9f6c-2c98a7a2848b",
   "metadata": {},
   "outputs": [],
   "source": []
  }
 ],
 "metadata": {
  "kernelspec": {
   "display_name": "Python 3 (ipykernel)",
   "language": "python",
   "name": "python3"
  },
  "language_info": {
   "codemirror_mode": {
    "name": "ipython",
    "version": 3
   },
   "file_extension": ".py",
   "mimetype": "text/x-python",
   "name": "python",
   "nbconvert_exporter": "python",
   "pygments_lexer": "ipython3",
   "version": "3.9.4"
  }
 },
 "nbformat": 4,
 "nbformat_minor": 5
}
