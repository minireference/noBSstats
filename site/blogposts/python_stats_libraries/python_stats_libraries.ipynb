{
 "cells": [
  {
   "cell_type": "markdown",
   "id": "959bf8b7-03c8-4268-9324-1793ec8e281b",
   "metadata": {},
   "source": [
    "# Python libraries for doing statistics\n",
    "\n",
    "\n",
    "\n",
    "see draft here: https://docs.google.com/document/d/1a-Ohl3hs7w8AiOr85PxW0DZP1ofFK02sk55IEw0zQPE/edit?tab=t.0\n",
    "\n",
    "\n",
    "Click [here](https://mybinder.org/v2/gh/minireference/noBSstats/HEAD?urlpath=%2Fdoc%2Ftree%2Fblogposts%2Fpython_stats_libraries.ipynb)\n",
    "to run the notebook interactively,\n",
    "so you can play with the code examples.\n",
    "\n"
   ]
  },
  {
   "cell_type": "markdown",
   "id": "c8caefd0-df8c-4757-be6e-844d6961a84d",
   "metadata": {
    "tags": []
   },
   "source": [
    "### Notebook setup"
   ]
  },
  {
   "cell_type": "code",
   "execution_count": 1,
   "id": "fee7a1de-830b-4e63-8a15-526bd95f30e9",
   "metadata": {},
   "outputs": [
    {
     "name": "stdout",
     "output_type": "stream",
     "text": [
      "\n",
      "\u001b[1m[\u001b[0m\u001b[34;49mnotice\u001b[0m\u001b[1;39;49m]\u001b[0m\u001b[39;49m A new release of pip is available: \u001b[0m\u001b[31;49m25.2\u001b[0m\u001b[39;49m -> \u001b[0m\u001b[32;49m25.3\u001b[0m\n",
      "\u001b[1m[\u001b[0m\u001b[34;49mnotice\u001b[0m\u001b[1;39;49m]\u001b[0m\u001b[39;49m To update, run: \u001b[0m\u001b[32;49mpip install --upgrade pip\u001b[0m\n",
      "Note: you may need to restart the kernel to use updated packages.\n"
     ]
    }
   ],
   "source": [
    "# Install stats library\n",
    "%pip install --quiet ministats "
   ]
  },
  {
   "cell_type": "code",
   "execution_count": 2,
   "id": "ad1db701-1cda-4156-b360-9a5ea8cd389d",
   "metadata": {},
   "outputs": [
    {
     "data": {
      "text/plain": [
       "<Figure size 640x480 with 0 Axes>"
      ]
     },
     "metadata": {},
     "output_type": "display_data"
    }
   ],
   "source": [
    "# Figures setup\n",
    "import matplotlib.pyplot as plt\n",
    "import seaborn as sns\n",
    "\n",
    "plt.clf()  # needed otherwise `sns.set_theme` doesn't work\n",
    "sns.set_theme(\n",
    "    style=\"whitegrid\",\n",
    "    rc={'figure.figsize': (7, 2)},\n",
    ")\n",
    "# High-resolution figures please\n",
    "%config InlineBackend.figure_format = 'retina'\n",
    "\n",
    "def savefig(fig, filename):\n",
    "    fig.tight_layout()\n",
    "    fig.savefig(filename, dpi=300, bbox_inches=\"tight\", pad_inches=0)"
   ]
  },
  {
   "cell_type": "markdown",
   "id": "27a16fef-02c1-407c-abd4-bd5da286b9a3",
   "metadata": {},
   "source": [
    "## Introduction"
   ]
  },
  {
   "cell_type": "markdown",
   "id": "1105f35b-09e6-463c-9723-3b7677a461fb",
   "metadata": {},
   "source": [
    "## Data management with Pandas"
   ]
  },
  {
   "cell_type": "markdown",
   "id": "c494681e-5921-4324-ae98-570615081f6b",
   "metadata": {},
   "source": [
    "## Numerical computing with NumPy"
   ]
  },
  {
   "cell_type": "markdown",
   "id": "8bbbbb77-aba0-403f-8290-01d3ed171366",
   "metadata": {},
   "source": [
    "## Scientific computing with SciPy"
   ]
  },
  {
   "cell_type": "markdown",
   "id": "eaa4c033-d154-4a67-a9fe-65cdf771067b",
   "metadata": {},
   "source": [
    "## Data visualization with Seaborn"
   ]
  },
  {
   "cell_type": "markdown",
   "id": "dc0db080-7b46-44c4-a38e-0640e2be0e40",
   "metadata": {},
   "source": [
    "## Frequentist statistics with Statsmodels"
   ]
  },
  {
   "cell_type": "markdown",
   "id": "952c83da-1eb7-49db-828e-195d86e83947",
   "metadata": {},
   "source": [
    "## Honorable mention: pingouin"
   ]
  },
  {
   "cell_type": "markdown",
   "id": "e9ca453e-daf8-43c8-b5b4-fe783fc385c0",
   "metadata": {},
   "source": [
    "## Bayesian statistics with Bambi (based on PyMC)"
   ]
  },
  {
   "cell_type": "markdown",
   "id": "44a891d7-41e1-45bf-ac6f-4d47b7e413d2",
   "metadata": {},
   "source": [
    "## Conclusion"
   ]
  },
  {
   "cell_type": "markdown",
   "id": "9cb8d6a8-b41e-423c-a23a-687e7a4e64ed",
   "metadata": {},
   "source": [
    "## Links"
   ]
  },
  {
   "cell_type": "code",
   "execution_count": null,
   "id": "4db0ea0a-adb1-4b15-82e9-f7bfbb0f6190",
   "metadata": {},
   "outputs": [],
   "source": []
  }
 ],
 "metadata": {
  "kernelspec": {
   "display_name": "Python 3 (ipykernel)",
   "language": "python",
   "name": "python3"
  },
  "language_info": {
   "codemirror_mode": {
    "name": "ipython",
    "version": 3
   },
   "file_extension": ".py",
   "mimetype": "text/x-python",
   "name": "python",
   "nbconvert_exporter": "python",
   "pygments_lexer": "ipython3",
   "version": "3.12.4"
  }
 },
 "nbformat": 4,
 "nbformat_minor": 5
}
