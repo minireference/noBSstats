{
 "cells": [
  {
   "cell_type": "markdown",
   "id": "09b45faf-3240-429f-9ba3-9a2185094d6f",
   "metadata": {},
   "source": [
    "# Cut material \n",
    "\n",
    "Imported stuff from [`python_tutorial.ipynb`](./python_tutorial.ipynb)."
   ]
  },
  {
   "cell_type": "code",
   "execution_count": null,
   "id": "9f5e7830-4708-4f00-91ef-e97afac0475a",
   "metadata": {},
   "outputs": [],
   "source": []
  },
  {
   "cell_type": "markdown",
   "id": "81c16d0a-d730-43ff-ab8a-e3283b746c82",
   "metadata": {},
   "source": [
    "## FROM PY TUTORIAL"
   ]
  },
  {
   "cell_type": "markdown",
   "id": "a4e9450d-c741-4a3d-aa9a-3e4937cf76a4",
   "metadata": {},
   "source": [
    "### Python for data science and statistics\n",
    "\n",
    "Python is a popular language for data analysis\n",
    "because of the numerous functions it provides for data management, \n",
    "data visualization, and statistics.\n",
    "\n",
    "Learning to use these Python functions will \n",
    " y\n",
    "\n",
    "Learning a few basic Python constructs like the `for` loop\n",
    "will enable you to simulate probability distributions and experimentally verify how statistics procedures work.\n",
    "This is a really big deal!\n",
    "If's good to know the statistical formula and recipes,\n",
    "but it's even better when you can run your own simulations and check when the formulas work and when they fail.\n",
    "\n",
    "Once you learn the basics of Python syntax,\n",
    "you'll have access to the best-in-class tools for\n",
    "data management (Pandas, see [pandas_tutorial.ipynb](./pandas_tutorial.ipynb)),\n",
    "data visualization (Seaborn, see [seaborn_tutorial.ipynb](./seaborn_tutorial.ipynb)),\n",
    "statistics (`scipy` and `statsmodels`).\n",
    "\n",
    "Don't worry there won't be any advanced math—just sums, products, exponents, logs, and square roots.\n",
    "Nothing fancy, I promise.\n",
    "If you've ever created a formula in a spreadsheet,\n",
    "then you're familiar with all the operations we'll see.\n",
    "In a spreadsheet formula you'd use `SUM(` in Python we write `sum(`.\n",
    "You see, it's nothing fancy.\n",
    "\n",
    "Yes, there will be a lot of code (paragraphs of Python commands) in this tutorial,\n",
    "but you can totally handle this.\n",
    "If you ever start to freak out an think \"OMG this is too complicated!\" remember that Python is just a fancy calculator."
   ]
  },
  {
   "cell_type": "markdown",
   "id": "6402c1f2-8752-4076-9894-7599457d0e2b",
   "metadata": {},
   "source": [
    "### Overview of the material in this tutorial\n",
    "\n",
    "We'll cover all essential topics required to get to know Python, including:\n",
    "\n",
    "- [Getting started](#Getting-started) where we'll install JupyterLab Desktop coding environment\n",
    "\n",
    "- [Expressions and variables](#Expressions-and-variables): basic building blocks of any program.\n",
    "\n",
    "- [Getting comfortable with Python](#Getting-comfortable-with-Python): looking around and getting help.\n",
    "\n",
    "- [Lists and for loops](#Lists-and-for-loops): repeating steps and procedures.\n",
    "\n",
    "- [Functions](#Functions) are reusable code blocks.\n",
    "\n",
    "- [Other data structures](#Other-data-structures): sets, tuples, etc.  \n",
    "  - [Boolean variables and conditional statements](#Boolean-variables-and-conditional-statements): conditional code execution.\n",
    "  - [Dictionaries](#Dictionaries) are a versatile way to store data.  \n",
    "\n",
    "- [Objects and classes](#Objects-and-classes): creating custom objects.\n",
    "\n",
    "- [Python grammar and syntax](#Python-grammar-and-syntax): review of all the syntax.\n",
    "\n",
    "- [Python libraries and modules](#Python-libraries-and-modules): learn why people say Python comes with \"batteries included\"\n",
    "\n",
    "After you're done with this tutorial, you'll be ready to read the other two:\n",
    "- Pandas (see [pandas_tutorial.ipynb](./pandas_tutorial.ipynb))\n",
    "- Seaborn (see [seaborn_tutorial.ipynb](./seaborn_tutorial.ipynb))  \n",
    "\n",
    "It's important for you to try solving the exercises that you'll encounter as you read along. The exercises are a great way to practice what you've been learning.\n",
    "\n"
   ]
  },
  {
   "cell_type": "code",
   "execution_count": null,
   "id": "3288af5c-2671-480a-b7e4-28e369b10a18",
   "metadata": {},
   "outputs": [],
   "source": []
  },
  {
   "cell_type": "code",
   "execution_count": 1,
   "id": "7a96667a-38eb-4275-9084-7695a5b88844",
   "metadata": {},
   "outputs": [],
   "source": [
    "## ALT. display both value and type on the same line (as a tuple)\n",
    "# score, type(score)"
   ]
  },
  {
   "cell_type": "code",
   "execution_count": null,
   "id": "04701230-d46d-4219-973c-57ffcf99ce31",
   "metadata": {},
   "outputs": [],
   "source": []
  },
  {
   "cell_type": "code",
   "execution_count": null,
   "id": "af0d6704-8a21-4ff1-abde-fd49307bd349",
   "metadata": {},
   "outputs": [],
   "source": []
  },
  {
   "cell_type": "code",
   "execution_count": null,
   "id": "367f79df-7641-4f9e-9113-7233cd16b8ff",
   "metadata": {},
   "outputs": [],
   "source": []
  },
  {
   "cell_type": "code",
   "execution_count": null,
   "id": "5d2df7ae-b1c1-4e45-a702-a247530ad39b",
   "metadata": {},
   "outputs": [],
   "source": []
  },
  {
   "cell_type": "code",
   "execution_count": null,
   "id": "9bb07b04-3ac7-49ed-8394-ee40e542262e",
   "metadata": {},
   "outputs": [],
   "source": []
  },
  {
   "cell_type": "code",
   "execution_count": null,
   "id": "3f5b2242-eb07-4126-af42-6d45fc0b18d7",
   "metadata": {},
   "outputs": [],
   "source": []
  },
  {
   "cell_type": "code",
   "execution_count": null,
   "id": "223d9867-b221-46a0-9528-fc0012ded71d",
   "metadata": {},
   "outputs": [],
   "source": []
  },
  {
   "cell_type": "markdown",
   "id": "c3596647-f291-4290-bff2-d8716c1f5e8d",
   "metadata": {},
   "source": [
    "### Note for Windows users\n",
    "\n",
    "If you're on macOS or Linux you can ignore this section—skip to the next section **Data management with Pandas**.\n",
    "\n",
    "File paths on Windows use the backslash character (`\\`) as path separator,\n",
    "while UNIX operating systems like Linux and macOS use forward slash separator `/` as path separator. \n",
    "\n",
    "If you you're on Windows you'll need to manually edit the code examples below to make them work by replacing all occurrences of \"`/`\" with \"`\\\\`\". The double backslash is required to get a literal backslash because the character `\\` has special meaning as an escape character."
   ]
  },
  {
   "cell_type": "code",
   "execution_count": 4,
   "id": "f880c1c6-8aac-4540-b775-0837b2c89d18",
   "metadata": {},
   "outputs": [
    {
     "name": "stdout",
     "output_type": "stream",
     "text": [
      "You're on a UNIX system (Linux or macOS).\n",
      "Enjoy civilization!\n"
     ]
    }
   ],
   "source": [
    "import os\n",
    "\n",
    "if os.path.sep == \"/\":\n",
    "    print(\"You're on a UNIX system (Linux or macOS).\")\n",
    "    print(\"Enjoy civilization!\")\n",
    "elif os.path.sep == \"\\\\\":\n",
    "    print(\"You're on Windows so you should use \\\\ as path separator.\")\n",
    "    print(\"Replace any occurence of / (forward slash) in paths with \\\\\\\\ (double-backslash).\")"
   ]
  },
  {
   "cell_type": "markdown",
   "id": "82c6db9c-6355-4872-a93c-18acbfeba600",
   "metadata": {},
   "source": [
    "The current working directory is a path on your computer where this notebook is running.\n",
    "The code cell below shows you can **get** you **c**urrent **w**orking **d**irectory."
   ]
  },
  {
   "cell_type": "code",
   "execution_count": 5,
   "id": "bab510f7-4d9a-4248-8699-bd161ee6f109",
   "metadata": {},
   "outputs": [
    {
     "data": {
      "text/plain": [
       "'/Users/ivan/Projects/Minireference/STATSbook/noBSstatsnotebooks/notebooks'"
      ]
     },
     "execution_count": 5,
     "metadata": {},
     "output_type": "execute_result"
    }
   ],
   "source": [
    "os.getcwd()"
   ]
  },
  {
   "cell_type": "markdown",
   "id": "7cb4b570-cc64-4dd8-9bce-3603db7debce",
   "metadata": {},
   "source": [
    "You're in the `notebooks/` directory, which is inside the parent directory `noBSstats/`.\n",
    "\n",
    "The datasets we'll be using in this notebook are located in the `datasets/` directory, which is sibling of the `notebooks/` directory, inside the parent `noBSstats/`. To access data file `minimal.csv` in the `datasets/` directory from the current directory, we must specify a path that includes the `..` directive (go to parent), then go into the `datasets` directory, then open the file `minimal.csv`.\n",
    "\n",
    "This combination of \"directions\" for getting to the file will look different if you're on a Windows system or on a UNIX system. The code below shows the correct path you should access."
   ]
  },
  {
   "cell_type": "code",
   "execution_count": 6,
   "id": "efdc6069-4069-4e78-9df5-4113cd9c8a12",
   "metadata": {},
   "outputs": [
    {
     "name": "stdout",
     "output_type": "stream",
     "text": [
      "The path to the file players.csv in the datasets/ directory is\n"
     ]
    },
    {
     "data": {
      "text/plain": [
       "'../datasets/players.csv'"
      ]
     },
     "execution_count": 6,
     "metadata": {},
     "output_type": "execute_result"
    }
   ],
   "source": [
    "if os.path.sep == \"/\":\n",
    "    # UNIX path separators\n",
    "    path = \"../datasets/players.csv\"\n",
    "else:\n",
    "    # Windows path separators\n",
    "    path = \"..\\\\datasets\\\\players.csv\"\n",
    "\n",
    "print(\"The path to the file players.csv in the datasets/ directory is\")\n",
    "path"
   ]
  },
  {
   "cell_type": "markdown",
   "id": "c46f1208-b523-4407-aa20-f93125316bef",
   "metadata": {},
   "source": [
    "All the code examples provided below assume you're on a UNIX system,\n",
    "hence the need to manually modify them to use double-backslashes in path strings for the code to work."
   ]
  },
  {
   "cell_type": "code",
   "execution_count": 14,
   "id": "c6556c4c-fec7-4732-a619-564ac4253f13",
   "metadata": {},
   "outputs": [],
   "source": [
    "# ALT.\n",
    "filepath = os.path.join(\"..\", \"datasets\", \"players.csv\")\n",
    "players = pd.read_csv(filepath)"
   ]
  },
  {
   "cell_type": "markdown",
   "id": "261920bf-40a2-46b4-a2e8-770dd0307fcc",
   "metadata": {},
   "source": [
    "### Converting lists to strings\n",
    "\n",
    "The code `\"\".join(msgs)` can be used to concatenate the a list of strings `msgs`."
   ]
  },
  {
   "cell_type": "code",
   "execution_count": 89,
   "id": "d47d3ede-f83b-4ba9-a9e4-01711eeace05",
   "metadata": {},
   "outputs": [
    {
     "data": {
      "text/plain": [
       "'HelloHiWhatsup?'"
      ]
     },
     "execution_count": 89,
     "metadata": {},
     "output_type": "execute_result"
    }
   ],
   "source": [
    "msgs = [\"Hello\", \"Hi\", \"Whatsup?\"]\n",
    "\"\".join(msgs)"
   ]
  },
  {
   "cell_type": "code",
   "execution_count": 90,
   "id": "c007ed21-d40d-440b-bec7-95399f1e4fc1",
   "metadata": {},
   "outputs": [
    {
     "data": {
      "text/plain": [
       "'Hello Hi Whatsup?'"
      ]
     },
     "execution_count": 90,
     "metadata": {},
     "output_type": "execute_result"
    }
   ],
   "source": [
    "# join-together using once space \" \" as separator\n",
    "\" \".join(msgs)"
   ]
  },
  {
   "cell_type": "code",
   "execution_count": null,
   "id": "3461c376-ec13-45a8-b944-5c5351fc9052",
   "metadata": {},
   "outputs": [],
   "source": []
  },
  {
   "cell_type": "markdown",
   "id": "6ed52327-271d-4505-9f30-7888a8dbe95a",
   "metadata": {},
   "source": [
    "### Example: file `open` and the `readlines()` method"
   ]
  },
  {
   "cell_type": "markdown",
   "id": "64aebb19-c420-4e5d-aa19-7f88b87f5fed",
   "metadata": {},
   "source": [
    "TODO: create a file called `story.txt` in the current working directory,\n",
    "and write a few lines in it.\n",
    "The code examples below are based on [this sample `story.txt`](https://raw.githubusercontent.com/minireference/noBSstatsnotebooks/main/tutorials/story.txt) (use save as if you want to have the same file)."
   ]
  },
  {
   "cell_type": "code",
   "execution_count": 97,
   "id": "f134a8b8-7809-43ed-9144-c99c331a931a",
   "metadata": {},
   "outputs": [
    {
     "data": {
      "text/plain": [
       "['This is a short story.\\n',\n",
       " 'It is very short.\\n',\n",
       " 'It has only four lines.\\n',\n",
       " 'It ends with the word cat.\\n']"
      ]
     },
     "execution_count": 97,
     "metadata": {},
     "output_type": "execute_result"
    }
   ],
   "source": [
    "file = open(\"story.txt\")\n",
    "lines = file.readlines()\n",
    "lines"
   ]
  },
  {
   "cell_type": "code",
   "execution_count": 98,
   "id": "8255f0f6-4939-4eda-964a-690f284d31ef",
   "metadata": {},
   "outputs": [
    {
     "name": "stdout",
     "output_type": "stream",
     "text": [
      "This is a short story.\n",
      "\n",
      "It is very short.\n",
      "\n",
      "It has only four lines.\n",
      "\n",
      "It ends with the word cat.\n",
      "\n"
     ]
    }
   ],
   "source": [
    "for line in lines:\n",
    "    print(line)"
   ]
  },
  {
   "cell_type": "code",
   "execution_count": 99,
   "id": "9d88841b-9584-4430-be06-9374d031181e",
   "metadata": {},
   "outputs": [
    {
     "name": "stdout",
     "output_type": "stream",
     "text": [
      "This is a short story.\n",
      "It is very short.\n",
      "It has only four lines.\n",
      "It ends with the word cat.\n"
     ]
    }
   ],
   "source": [
    "# we can pass a custom `end` keyword argument to avoid double newlines:\n",
    "for line in lines:\n",
    "    print(line, end=\"\")"
   ]
  },
  {
   "cell_type": "code",
   "execution_count": null,
   "id": "60099863-9c5d-4acf-afed-c956df934c98",
   "metadata": {},
   "outputs": [],
   "source": []
  },
  {
   "cell_type": "markdown",
   "id": "a4ee0116-9f4e-4921-b475-cb2ea89c4117",
   "metadata": {},
   "source": [
    "**Exercise**: write the code that counts the number of words in the string `text`.\n",
    "\n",
    "Here are some examples:\n",
    " - The number of words in `\"Hello world\"` is 2.\n",
    " - The number of words in `\"Whether it is nobler in the mind to suffer the slings and arrows of outrageous fortune, or to take arms against a sea of troubles, and by opposing end them?\"` is 30.\n",
    " - The number of words in `len.__doc__` is 8.\n",
    "\n",
    "Hint: the string method `.split()` might come in handy."
   ]
  },
  {
   "cell_type": "code",
   "execution_count": 100,
   "id": "fe066794-1839-4506-9c4b-03ac650afc2c",
   "metadata": {},
   "outputs": [],
   "source": [
    "text = \"Hello world\"\n",
    "\n",
    "# write here the code that counts the number of words in `text`\n",
    "# ..."
   ]
  },
  {
   "cell_type": "code",
   "execution_count": 101,
   "id": "4decb1cc-1628-4260-9375-3c9f6c195811",
   "metadata": {},
   "outputs": [
    {
     "data": {
      "text/plain": [
       "2"
      ]
     },
     "execution_count": 101,
     "metadata": {},
     "output_type": "execute_result"
    }
   ],
   "source": [
    "#@titlesolution\n",
    "text = \"Hello world\"\n",
    "# \n",
    "# text = len.__doc__\n",
    "# \n",
    "# text = \"\"\"Whether it is nobler in the mind to suffer\n",
    "# the slings and arrows of outrageous fortune,\n",
    "# or to take arms against a sea of troubles,\n",
    "# and by opposing end them?\"\"\"\n",
    "\n",
    "words = text.split()\n",
    "wordcount = 0\n",
    "for word in words:\n",
    "    wordcount = wordcount + 1\n",
    "wordcount"
   ]
  },
  {
   "cell_type": "code",
   "execution_count": null,
   "id": "4b6fefe9-bdf2-4670-b421-643907b46f84",
   "metadata": {},
   "outputs": [],
   "source": []
  },
  {
   "cell_type": "markdown",
   "id": "14fe4db2-3bf4-43df-8804-2692ffeffca5",
   "metadata": {},
   "source": [
    "**Exercise** write the Python code that `open`s the file `story.txt`, `read`s the contexts of the file to a string `text`, then computes their word count.\n",
    "\n",
    "Hint: reuse the code we saw earlier for opening file\n",
    "\n",
    "Hint 2: try the `.read()` method on file object\n",
    "\n",
    "Hint 3: reuse the code you wrote earlier for doing the word count of the string `text`"
   ]
  },
  {
   "cell_type": "code",
   "execution_count": 107,
   "id": "535a93f3-8e5e-4368-b578-6623a6ae4af5",
   "metadata": {},
   "outputs": [],
   "source": [
    "file = open(\"story.txt\")\n",
    "text = file.read()\n",
    "# ... (continue your code here)"
   ]
  },
  {
   "cell_type": "code",
   "execution_count": 108,
   "id": "3270bc4c-8896-4060-b191-cd1dc429a21c",
   "metadata": {},
   "outputs": [
    {
     "data": {
      "text/plain": [
       "20"
      ]
     },
     "execution_count": 108,
     "metadata": {},
     "output_type": "execute_result"
    }
   ],
   "source": [
    "#@titlesolution\n",
    "file = open(\"story.txt\")\n",
    "text = file.read()\n",
    "words = text.split()\n",
    "wordcount = 0\n",
    "for word in words:\n",
    "    wordcount = wordcount + 1\n",
    "wordcount"
   ]
  },
  {
   "cell_type": "code",
   "execution_count": null,
   "id": "bd464266-ee65-4606-9409-5e79e3ce244a",
   "metadata": {},
   "outputs": [],
   "source": []
  },
  {
   "cell_type": "markdown",
   "id": "8342e5d7-af43-4ee4-9602-966324a56c1b",
   "metadata": {
    "tags": []
   },
   "source": [
    "#### Example: bag of words representation\n",
    "\n",
    "Given the string `text`, we want to count the number of occurrences of each word in the text.\n",
    "The words \"HELLO\", \"Hello\", \"Hello,\" should all be considered the same as \"hello\".\n",
    "\n",
    "In other words, we want to convert all letters to lowercase and strip punctuation signs.\n",
    "\n",
    "Given the string `\"HELLO Hello Hello, hello\"`,\n",
    "the bag of words representation corresponds to the dictionary\n",
    "```\n",
    "wcounts = {\"hello\":4}\n",
    "```\n"
   ]
  },
  {
   "cell_type": "code",
   "execution_count": 104,
   "id": "4c294ff3-2848-4071-82dc-179d2938e6d1",
   "metadata": {},
   "outputs": [
    {
     "data": {
      "text/plain": [
       "{'hello': 1, 'world': 1}"
      ]
     },
     "execution_count": 104,
     "metadata": {},
     "output_type": "execute_result"
    }
   ],
   "source": [
    "text = \"Hello world\"\n",
    "# \n",
    "# text = len.__doc__\n",
    "# \n",
    "# text = \"\"\"Whether it is nobler in the mind to suffer\n",
    "# the slings and arrows of outrageous fortune,\n",
    "# or to take arms against a sea of troubles,\n",
    "# and by opposing end them?\"\"\"\n",
    "\n",
    "words = text.split()\n",
    "clean_words = [word.strip(\",.?\") for word in words]\n",
    "words_lower = [word.lower() for word in clean_words]\n",
    "\n",
    "wcounts = {}\n",
    "for word in words_lower:\n",
    "    if word not in wcounts:\n",
    "        wcounts[word] = 0\n",
    "    wcounts[word] += 1\n",
    "\n",
    "wcounts"
   ]
  },
  {
   "cell_type": "code",
   "execution_count": null,
   "id": "0dd554b3-61be-4e10-8e8c-65f222bef6a3",
   "metadata": {},
   "outputs": [],
   "source": []
  },
  {
   "cell_type": "markdown",
   "id": "c90d7d50-ebbe-4180-b52d-ca75c847c859",
   "metadata": {},
   "source": [
    "<a name=\"final_scores_and_grades_exercise\"></a>\n",
    "\n",
    "**Exercise** Write the Python code that computes the final score for each student,\n",
    "based on the data in [this spreadsheet](https://docs.google.com/spreadsheets/d/1_DRn3FXpLERVhO71pHsYbf_jwxQF8p54M6Niy3If3x0/edit#gid=0).\n",
    "The final score is computed as:\n",
    " - 50% homework assignments (each homework counts for 10%)\n",
    " - 20% midterm\n",
    " - 30% final\n",
    "\n",
    "Once you get the `score` for each student, \n",
    "you should also convert it to a letter `grade`.\n",
    "Print the student name, their final score, and their letter grade.\n",
    "\n",
    "Hint: use a for loop to iterate over all students\n",
    "\n",
    "Hint 2: reuse the code you wrote earlier for converting numeric `score` to letter `grade`"
   ]
  },
  {
   "cell_type": "code",
   "execution_count": 109,
   "id": "a3ace802-0462-4972-9133-b2da4773e9ef",
   "metadata": {},
   "outputs": [],
   "source": [
    "# via https://stackoverflow.com/a/33727897/127114\n",
    "# \n",
    "url_tpl = \"https://docs.google.com/spreadsheets/d/{key}/gviz/tq?tqx=out:csv&sheet={name}\"\n",
    "sheet_id = \"1_DRn3FXpLERVhO71pHsYbf_jwxQF8p54M6Niy3If3x0\"\n",
    "sheet_name = \"Grades\"\n",
    "url = url_tpl.format(key=sheet_id, name=sheet_name)\n",
    "\n",
    "import requests\n",
    "response = requests.get(url)\n",
    "\n",
    "# response.text"
   ]
  },
  {
   "cell_type": "code",
   "execution_count": 110,
   "id": "d943452b-ecdb-4a32-9c3d-43234c8ec463",
   "metadata": {},
   "outputs": [],
   "source": [
    "# Convert CSV text (contents of a file) to a list of dictionaries\n",
    "import csv, io\n",
    "studentsf = io.StringIO(response.text)\n",
    "rows = list(csv.DictReader(studentsf))\n",
    "# rows"
   ]
  },
  {
   "cell_type": "code",
   "execution_count": 111,
   "id": "51b7e3ff-6d6f-4012-9b35-fb76f6530488",
   "metadata": {},
   "outputs": [
    {
     "name": "stdout",
     "output_type": "stream",
     "text": [
      "<class 'dict'> 11 name = Haydon Jeffery got 12 on the first homework\n",
      "<class 'dict'> 11 name = Julie Beattie got 13 on the first homework\n",
      "<class 'dict'> 11 name = Malachy Hull got 15 on the first homework\n",
      "<class 'dict'> 11 name = Sheila Solis got 14 on the first homework\n",
      "<class 'dict'> 11 name = Joni Rowe got 12 on the first homework\n",
      "<class 'dict'> 11 name = Husna Millar got 11 on the first homework\n",
      "<class 'dict'> 11 name = Tonya Fleming got 11 on the first homework\n",
      "<class 'dict'> 11 name = Jak Rennie got 19 on the first homework\n",
      "<class 'dict'> 11 name = Noor Odonnell got 14 on the first homework\n",
      "<class 'dict'> 11 name = Krystal Dickerson got 13 on the first homework\n",
      "<class 'dict'> 11 name = Joe Pickett got 3 on the first homework\n",
      "<class 'dict'> 11 name = Alicia Rosario got 10 on the first homework\n",
      "<class 'dict'> 11 name = Ailish Hensley got 13 on the first homework\n",
      "<class 'dict'> 11 name = Aliyah Duncan got 12 on the first homework\n",
      "<class 'dict'> 11 name = Jad Kumar got 15 on the first homework\n",
      "<class 'dict'> 11 name = Margaret Parry got 14 on the first homework\n",
      "<class 'dict'> 11 name = Danica Chen got 11 on the first homework\n",
      "<class 'dict'> 11 name = Jose Hernandez got 13 on the first homework\n",
      "<class 'dict'> 11 name = Rimsha Carlson got 20 on the first homework\n",
      "<class 'dict'> 11 name = Giselle Thompson got 18 on the first homework\n"
     ]
    }
   ],
   "source": [
    "for row in rows:\n",
    "    # row is a dict containing a student's results\n",
    "    # the keys are ['id', 'name', 'hw1', 'hw2', 'hw3', 'midterm',\n",
    "    #               'hw4', 'hw5', 'final', 'score', 'grade']\n",
    "    # the values are strings\n",
    "    name = row[\"name\"]     # access value under the key \"name\" in this row\n",
    "    hw1 = int(row[\"hw1\"])  # access key \"hw1\" and convert it to `int`\n",
    "    print(type(row), len(row), \"name =\", name, \"got\", hw1, \"on the first homework\")\n",
    "    \n",
    "    # continue your code at the ... below\n",
    "    # PART 1: computing the final scrore\n",
    "    # PART 2: assigning a letter\n",
    "    # ..."
   ]
  },
  {
   "cell_type": "code",
   "execution_count": 112,
   "id": "47021217-4340-4642-8ffe-4b32318c9cc4",
   "metadata": {},
   "outputs": [
    {
     "name": "stdout",
     "output_type": "stream",
     "text": [
      "Processing results of Haydon Jeffery ...\n",
      "   - final score =  79.39999999999999\n",
      "   - final grade =  B+\n",
      "Processing results of Julie Beattie ...\n",
      "   - final score =  69.19999999999999\n",
      "   - final grade =  B-\n",
      "Processing results of Malachy Hull ...\n",
      "   - final score =  78.8\n",
      "   - final grade =  B+\n",
      "Processing results of Sheila Solis ...\n",
      "   - final score =  77.8\n",
      "   - final grade =  B+\n",
      "Processing results of Joni Rowe ...\n",
      "   - final score =  81.6\n",
      "   - final grade =  A-\n",
      "Processing results of Husna Millar ...\n",
      "   - final score =  77.89999999999999\n",
      "   - final grade =  B+\n",
      "Processing results of Tonya Fleming ...\n",
      "   - final score =  74.69999999999999\n",
      "   - final grade =  B\n",
      "Processing results of Jak Rennie ...\n",
      "   - final score =  86.2\n",
      "   - final grade =  A\n",
      "Processing results of Noor Odonnell ...\n",
      "   - final score =  79.5\n",
      "   - final grade =  B+\n",
      "Processing results of Krystal Dickerson ...\n",
      "   - final score =  78.2\n",
      "   - final grade =  B+\n",
      "Processing results of Joe Pickett ...\n",
      "   - final score =  46.0\n",
      "   - final grade =  F\n",
      "Processing results of Alicia Rosario ...\n",
      "   - final score =  77.3\n",
      "   - final grade =  B+\n",
      "Processing results of Ailish Hensley ...\n",
      "   - final score =  76.8\n",
      "   - final grade =  B+\n",
      "Processing results of Aliyah Duncan ...\n",
      "   - final score =  77.8\n",
      "   - final grade =  B+\n",
      "Processing results of Jad Kumar ...\n",
      "   - final score =  81.5\n",
      "   - final grade =  A-\n",
      "Processing results of Margaret Parry ...\n",
      "   - final score =  76.5\n",
      "   - final grade =  B+\n",
      "Processing results of Danica Chen ...\n",
      "   - final score =  79.4\n",
      "   - final grade =  B+\n",
      "Processing results of Jose Hernandez ...\n",
      "   - final score =  76.19999999999999\n",
      "   - final grade =  B+\n",
      "Processing results of Rimsha Carlson ...\n",
      "   - final score =  90.0\n",
      "   - final grade =  A\n",
      "Processing results of Giselle Thompson ...\n",
      "   - final score =  89.4\n",
      "   - final grade =  A\n"
     ]
    }
   ],
   "source": [
    "#@titlesolution\n",
    "import csv\n",
    "import io\n",
    "\n",
    "studentsf = io.StringIO(response.text)\n",
    "rows = list(csv.DictReader(studentsf))\n",
    "for row in rows:\n",
    "    # row is a dict containing a student's results\n",
    "    # the keys are ['id', 'name', 'hw1', 'hw2', 'hw3', 'midterm',\n",
    "    #               'hw4', 'hw5', 'final', 'score', 'grade']\n",
    "    # the values are strings\n",
    "    name = row[\"name\"]     # access value under the key \"name\" in this row\n",
    "    print(\"Processing results of\", name, \"...\")\n",
    "    \n",
    "    \n",
    "    # PART 1: computing the final scrore\n",
    "    ####################################################################################\n",
    "    # Convert all available student results to integers\n",
    "    hw1 = int(row[\"hw1\"])            # out of 20\n",
    "    hw2 = int(row[\"hw2\"])            # out of 20\n",
    "    hw3 = int(row[\"hw3\"])            # out of 20\n",
    "    midterm = int(row[\"midterm\"])    # out of 100\n",
    "    hw4 = int(row[\"hw4\"])            # out of 20\n",
    "    hw5 = int(row[\"hw5\"])            # out of 20\n",
    "    final = int(row[\"final\"])        # out of 100\n",
    "\n",
    "    # compute homeworks average out of 100,\n",
    "    # which is simple because each homework is out of 20 and there are 5 of them\n",
    "    homeworks = hw1 + hw2 + hw3 + hw4 + hw5\n",
    "    \n",
    "    # we now need to make a \"mix\" of homeworks, midterm, and final\n",
    "    # to create the student's final score (out of 100)\n",
    "    score = 0.5*homeworks + 0.2*midterm + 0.3*final\n",
    "    print(\"   - final score = \", score)\n",
    "    \n",
    "    \n",
    "    # PART 2: assigning a letter \n",
    "    ####################################################################################\n",
    "    if score >= 85:\n",
    "        grade = \"A\"\n",
    "    elif score >= 80:\n",
    "        grade = \"A-\"\n",
    "    elif score >= 75:\n",
    "        grade = \"B+\"\n",
    "    elif score >= 70:\n",
    "        grade = \"B\"\n",
    "    elif score >= 65:\n",
    "        grade = \"B-\"\n",
    "    elif score >= 60:\n",
    "        grade = \"C+\"\n",
    "    elif score >= 55:\n",
    "        grade = \"C\"\n",
    "    elif score >= 50:\n",
    "        grade = \"D\"\n",
    "    else:\n",
    "        grade = \"F\"\n",
    "    print(\"   - final grade = \", grade)\n",
    "    \n",
    "    \n",
    "    # PART 3: (optional) save the results in the `row` dictionary\n",
    "    ####################################################################################\n",
    "    row[\"score\"] = score\n",
    "    row[\"grade\"] = grade\n"
   ]
  },
  {
   "cell_type": "code",
   "execution_count": 113,
   "id": "2e84d030-f9a3-4dbb-88c6-9d18c387e85b",
   "metadata": {},
   "outputs": [],
   "source": [
    "# # Display last row\n",
    "# rows[-1]"
   ]
  },
  {
   "cell_type": "markdown",
   "id": "15d4b552-a4f3-477c-9d57-0392c6100542",
   "metadata": {},
   "source": [
    "### Lists of booleans\n",
    "\n",
    "Lists of `bool`eans can be \"joined\" together\n",
    "using `and` or `or` operations,\n",
    "but calling `all` and `any` list-related built-in functions.\n",
    "\n",
    "- `all(conditions)`: `and`-together all elements in list of conditions\n",
    "- `any(conditions)`: `or`-together all elements in list of conditions"
   ]
  },
  {
   "cell_type": "code",
   "execution_count": 91,
   "id": "57ed17ca-79e7-4c50-854a-3c222bf55f62",
   "metadata": {},
   "outputs": [],
   "source": [
    "# list of three conditions, all being True\n",
    "alltrue = [True, True, True]\n",
    "\n",
    "# list of conditions where only one condition is True\n",
    "onetrue = [True, False, False]\n",
    "\n",
    "# list of conditions that are all False\n",
    "allfalse = [False, False, False]"
   ]
  },
  {
   "cell_type": "code",
   "execution_count": 92,
   "id": "f1e13dd9-f092-4100-a794-40ec91ad1b1a",
   "metadata": {},
   "outputs": [
    {
     "data": {
      "text/plain": [
       "(True, False, False)"
      ]
     },
     "execution_count": 92,
     "metadata": {},
     "output_type": "execute_result"
    }
   ],
   "source": [
    "all(alltrue), all(onetrue), all(allfalse)"
   ]
  },
  {
   "cell_type": "code",
   "execution_count": 93,
   "id": "f01476f6-ec79-4e5b-b722-76e075d7b531",
   "metadata": {},
   "outputs": [
    {
     "data": {
      "text/plain": [
       "(True, True, False)"
      ]
     },
     "execution_count": 93,
     "metadata": {},
     "output_type": "execute_result"
    }
   ],
   "source": [
    "any(alltrue), any(onetrue), any(allfalse)"
   ]
  },
  {
   "cell_type": "code",
   "execution_count": null,
   "id": "c92a9a7d-a6b6-4d96-84fe-ef8b99625c80",
   "metadata": {},
   "outputs": [],
   "source": []
  },
  {
   "cell_type": "markdown",
   "id": "6fada858-1ea3-4505-a11b-e67f6e05e745",
   "metadata": {},
   "source": [
    "## Example function `head`\n",
    "\n",
    "We often want to print first few lines from a file to see what data it contains."
   ]
  },
  {
   "cell_type": "code",
   "execution_count": 89,
   "id": "29e553b6-c65b-42a4-8425-e824031b0d96",
   "metadata": {},
   "outputs": [],
   "source": [
    "# TODO"
   ]
  },
  {
   "cell_type": "code",
   "execution_count": null,
   "id": "847911b1-19a8-4d7e-acd4-44d220c8456f",
   "metadata": {},
   "outputs": [],
   "source": []
  },
  {
   "cell_type": "markdown",
   "id": "7cb14868-bd0b-43a3-a9aa-030209603619",
   "metadata": {},
   "source": [
    "## Function tricks"
   ]
  },
  {
   "cell_type": "markdown",
   "id": "9decd583-99e6-4180-9678-a4daa395636e",
   "metadata": {},
   "source": [
    "### Lambda functions\n",
    "\n",
    "Python supports and alternative syntax for defining functions,\n",
    "that is sometimes used to define simple functions.\n",
    "For example,\n",
    "let's say you need a function that computes the square of the input,\n",
    "which is written as $f(x) = x^2$ in math notation.\n",
    "\n",
    "You can use the standard Python syntax ...\n",
    "```Python\n",
    "def f(x):\n",
    "    return x**2\n",
    "f\n",
    "```\n",
    "\n",
    "... or you can use the `lambda` expression for defining that function:\n",
    "```Python\n",
    "lambda x: x**2\n",
    "```\n",
    "\n",
    "The general syntax is `lambda <function inputs>: <function output value>`."
   ]
  },
  {
   "cell_type": "markdown",
   "id": "4df8c33a-b608-4b88-b171-94f34d23b323",
   "metadata": {},
   "source": [
    "This `lambda`-shortcut for defining functions is useful\n",
    "when calling other functions that expect functions as their arguments.\n",
    "To illustrate what is going on,\n",
    "let's define a python function `plot_function(f)` that plots\n",
    "the graph of the function `f` it receives as its input.\n",
    "\n",
    "The graph of the function $f(x)$\n",
    "is the set of points $(x,f(x))$ in the Cartesian plane,\n",
    "over the interval of $x$ inputs (we'll use the $x$-limits -10 as the starting point and until x=10 as the end point)."
   ]
  },
  {
   "cell_type": "code",
   "execution_count": 149,
   "id": "701b92f6-9938-4517-8d32-65ea9a614100",
   "metadata": {},
   "outputs": [],
   "source": [
    "import numpy as np\n",
    "import matplotlib.pyplot as plt\n",
    "\n",
    "def plot_function(f, xlims=[-10,10]):\n",
    "    xstart, xend = xlims\n",
    "    xs = np.linspace(xstart, xend, 1000)\n",
    "    ys = [f(x) for x in xs]\n",
    "    plt.plot(xs,ys)    "
   ]
  },
  {
   "cell_type": "markdown",
   "id": "a4440447-e7d2-46c9-a5fd-fb2baf72d695",
   "metadata": {},
   "source": [
    "If we want to use the function `plot_function` to plot the graph of the function $f(x)=x^2$,\n",
    "we can define a Python function `f` using the standard `def`-syntax and then pass the function `f` to `plot_function` to generate the graph,\n",
    "as shown below:"
   ]
  },
  {
   "cell_type": "code",
   "execution_count": 150,
   "id": "4054433d-7f58-4862-98e8-3d8fb26079e5",
   "metadata": {},
   "outputs": [
    {
     "data": {
      "image/png": "[encoded data removed]",
      "text/plain": [
       "<Figure size 432x288 with 1 Axes>"
      ]
     },
     "metadata": {
      "needs_background": "light"
     },
     "output_type": "display_data"
    }
   ],
   "source": [
    "def f(x):\n",
    "    return x**2\n",
    "\n",
    "plot_function(f)"
   ]
  },
  {
   "cell_type": "markdown",
   "id": "084f1dcc-aa75-4bc9-b1d6-9ce88bcfca06",
   "metadata": {},
   "source": [
    "Alternatively,\n",
    "we can use the `lambda`-shortcut Python syntax to define the function inline,\n",
    "when calling `plot_function`."
   ]
  },
  {
   "cell_type": "code",
   "execution_count": 151,
   "id": "05462c86-3e6b-4da0-a9c7-722ece7c9c9a",
   "metadata": {},
   "outputs": [
    {
     "data": {
      "image/png": "[encoded data removed]",
      "text/plain": [
       "<Figure size 432x288 with 1 Axes>"
      ]
     },
     "metadata": {
      "needs_background": "light"
     },
     "output_type": "display_data"
    }
   ],
   "source": [
    "plot_function(lambda x: x**2)"
   ]
  },
  {
   "cell_type": "markdown",
   "id": "d6b0c4a3-6254-4fb4-99a8-6de99db9fd5a",
   "metadata": {},
   "source": [
    "The `lambda`-expression `lambda x: x**2` is equivalent to the Python function `f` we defined using the two-line `def`-statement.\n",
    "\n",
    "Both ways of defining `f` are the same `type` of object:"
   ]
  },
  {
   "cell_type": "code",
   "execution_count": 152,
   "id": "d41cdac7-7bb0-4c9d-baf1-34bdc62e7b59",
   "metadata": {},
   "outputs": [
    {
     "data": {
      "text/plain": [
       "function"
      ]
     },
     "execution_count": 152,
     "metadata": {},
     "output_type": "execute_result"
    }
   ],
   "source": [
    "type(f)"
   ]
  },
  {
   "cell_type": "code",
   "execution_count": 153,
   "id": "a8d6045c-712b-41b4-b040-8c3d7b4e3a3e",
   "metadata": {},
   "outputs": [
    {
     "data": {
      "text/plain": [
       "function"
      ]
     },
     "execution_count": 153,
     "metadata": {},
     "output_type": "execute_result"
    }
   ],
   "source": [
    "type(lambda x: x**2)"
   ]
  },
  {
   "cell_type": "code",
   "execution_count": null,
   "id": "ce38cc5a-4f64-43f1-86be-25688120a9d9",
   "metadata": {},
   "outputs": [],
   "source": []
  },
  {
   "cell_type": "markdown",
   "id": "ed1918c3-6c72-4a5f-90ca-dcb918442852",
   "metadata": {},
   "source": [
    "Since `f` and `lambda x: x**2` are both expressions of the type `function`,\n",
    "we can call both of them the same way (by passing in the argument in parentheses).\n",
    "\n",
    "For example, if we want to evaluate the function $f(x)$ at the input $x=3$,\n",
    "we can call `f(3)` ..."
   ]
  },
  {
   "cell_type": "code",
   "execution_count": 154,
   "id": "893317fb-6272-475f-8048-b61f82b22e57",
   "metadata": {},
   "outputs": [
    {
     "data": {
      "text/plain": [
       "9"
      ]
     },
     "execution_count": 154,
     "metadata": {},
     "output_type": "execute_result"
    }
   ],
   "source": [
    "f(3)"
   ]
  },
  {
   "cell_type": "markdown",
   "id": "282d9afc-9500-4417-a580-b7311262f1f1",
   "metadata": {},
   "source": [
    "or we could define the function $f(x)=x^2$ using an inline `lambda` expression,\n",
    "then call the result of the lambda expression by passing in the argument in parentheses."
   ]
  },
  {
   "cell_type": "code",
   "execution_count": 155,
   "id": "a117b214-6aef-45df-9fdf-d5d984174b20",
   "metadata": {},
   "outputs": [
    {
     "data": {
      "text/plain": [
       "9"
      ]
     },
     "execution_count": 155,
     "metadata": {},
     "output_type": "execute_result"
    }
   ],
   "source": [
    "(lambda x: x**2)(3)"
   ]
  },
  {
   "cell_type": "markdown",
   "id": "86e1f0f3-bd7e-402c-98e6-509cf9e884de",
   "metadata": {},
   "source": [
    "The `lambda`-shortcut for defining functions is not used often,\n",
    "but sometimes it is very convenient to be able to use inline function definition,\n",
    "so I want you to be familiar with this syntax."
   ]
  },
  {
   "cell_type": "markdown",
   "id": "cc3ea1c6-b4b4-4f05-80f2-02d8c45fada1",
   "metadata": {},
   "source": [
    "### Applying functions to lists (optional)\n",
    "\n",
    "Consider the math function $f(x)=x^2$.\n",
    "We'll identify the output of the function as the variable $y$.\n",
    "\n",
    "In Python, the function $f(x)=x^2$ is"
   ]
  },
  {
   "cell_type": "code",
   "execution_count": 156,
   "id": "9a0e9b2e-3b3f-4b50-b8a6-cc7eee511226",
   "metadata": {},
   "outputs": [],
   "source": [
    "def f(x):\n",
    "    return x**2"
   ]
  },
  {
   "cell_type": "markdown",
   "id": "be62bd97-d479-410a-9e12-fee3cf22f146",
   "metadata": {},
   "source": [
    "Suppose we want to compute the output values $y=f(x)$\n",
    "for each $x$ in the list of values $[1,2,3,4]$,\n",
    "which we'll call `xs` in the code."
   ]
  },
  {
   "cell_type": "code",
   "execution_count": 157,
   "id": "1c98bbc6-a1c7-4450-bf9f-beee5a9dddda",
   "metadata": {},
   "outputs": [],
   "source": [
    "xs = [1,2,3,4]"
   ]
  },
  {
   "cell_type": "markdown",
   "id": "e621d113-3fe4-46bf-af72-e4e07e550fb9",
   "metadata": {},
   "source": [
    "**Option A** You can use a `for` loop to compute the function output $y=f(x)$ for every $x$ in the list of values. First we create an empty list `ys` to store the outputs, then we `.append` to it the values one-by-one as we go though the for loop."
   ]
  },
  {
   "cell_type": "code",
   "execution_count": 158,
   "id": "ef74a6bc-9480-4b3c-bff8-19ca565ea8c2",
   "metadata": {},
   "outputs": [
    {
     "data": {
      "text/plain": [
       "[1, 4, 9, 16]"
      ]
     },
     "execution_count": 158,
     "metadata": {},
     "output_type": "execute_result"
    }
   ],
   "source": [
    "ys = []\n",
    "for x in xs:\n",
    "    y = f(x)\n",
    "    ys.append(y)\n",
    "\n",
    "ys"
   ]
  },
  {
   "cell_type": "markdown",
   "id": "f0cd1d5d-df89-4e37-9d3d-c97a8051f372",
   "metadata": {},
   "source": [
    "**Option B** \n",
    "We can shorten the code using the list comprehension syntax:"
   ]
  },
  {
   "cell_type": "code",
   "execution_count": 159,
   "id": "2bd5fd9b-128c-48b0-ab4b-9d3d47e97f76",
   "metadata": {},
   "outputs": [
    {
     "data": {
      "text/plain": [
       "[1, 4, 9, 16]"
      ]
     },
     "execution_count": 159,
     "metadata": {},
     "output_type": "execute_result"
    }
   ],
   "source": [
    "ys = [f(x) for x in xs]\n",
    "\n",
    "ys"
   ]
  },
  {
   "cell_type": "markdown",
   "id": "85a7071a-ad35-4f99-9abc-930bc69ba469",
   "metadata": {},
   "source": [
    "**Option C** \n",
    "A third alternative would be to use the function `map(f,xs)`\n",
    "which returns a list of the outputs `f(x)` for all `x` in the list `xs`."
   ]
  },
  {
   "cell_type": "code",
   "execution_count": 160,
   "id": "eb693e81-43d2-4595-a26d-99317308cf46",
   "metadata": {},
   "outputs": [
    {
     "data": {
      "text/plain": [
       "[1, 4, 9, 16]"
      ]
     },
     "execution_count": 160,
     "metadata": {},
     "output_type": "execute_result"
    }
   ],
   "source": [
    "ys = map(f, xs)\n",
    "\n",
    "list(ys)"
   ]
  },
  {
   "cell_type": "code",
   "execution_count": 161,
   "id": "c5c211a0-d0a3-4c36-b684-c1fd78bfeb3e",
   "metadata": {},
   "outputs": [],
   "source": [
    "# ALT. we can specify the function argument to map as a lambda expression\n",
    "# list(map(lambda x: x**2, xs))"
   ]
  },
  {
   "cell_type": "markdown",
   "id": "9c420024-42f5-4a43-b353-ad86a2acd63e",
   "metadata": {},
   "source": [
    "This notion of obtaining `ys` from `xs` for entire lists of values,\n",
    "instead of individual values like `x` and `y` is super useful.\n",
    "We'll see this idea come up again later on in this tutorial\n",
    "when we discuss the Python module NumPy,\n",
    "which allows you to do math operations with \"universal functions\"\n",
    "that do the right thing whether you input a number `x`,\n",
    "a list of numbers `xs`, or even more complicated data structures (e.g. two-dimensional matrices, or higher-dimensional tensors).\n",
    "\n",
    "<!-- The function `map` is sometimes called a higher order function,\n",
    "since it takes a function as one of its inputs. -->"
   ]
  },
  {
   "cell_type": "code",
   "execution_count": null,
   "id": "bfce20d7-82da-435a-a713-1401f3875917",
   "metadata": {},
   "outputs": [],
   "source": []
  },
  {
   "cell_type": "code",
   "execution_count": null,
   "id": "d478470f-add0-4b38-9a5d-71b52f563372",
   "metadata": {},
   "outputs": [],
   "source": []
  },
  {
   "attachments": {
    "d41cd497-3947-46de-8aee-5bfee616a406.png": {
     "image/png": "[encoded data removed]"
    },
    "f082c596-74ed-47c2-9081-8faf2984ccb2.png": {
     "image/png": "[encoded data removed]"
    }
   },
   "cell_type": "markdown",
   "id": "7a2a51fe-6bb2-448c-a6e7-761ae97f1707",
   "metadata": {},
   "source": [
    "## Running Python code interactively\n",
    "\n",
    "Notebooks are an example of \"interactive\" use of the Python interpreter.\n",
    "You enter some commands `2+3` in a code cell,\n",
    "press SHIFT+ENTER to run the code,\n",
    "and you see the result.\n",
    "\n",
    "There are several different ways you can access the Python interpreter.\n",
    "\n",
    "- `python` shell.\n",
    "  This is what you get in you install Python on your computer.\n",
    "  You can open a command prompt (terminal or cmd.exe) and type in the\n",
    "  command `python` to start the interactive Python shell.\n",
    "\n",
    "    ```\n",
    "    > python\n",
    "    Python 3.6.9 (default, Oct  6 2019, 21:40:49)\n",
    "    [GCC 4.2.1 Compatible Apple LLVM 9.1.0 (clang-902.0.39.1)] on darwin\n",
    "    Type \"help\", \"copyright\", \"credits\" or \"license\" for more information.\n",
    "    >>> 2+3\n",
    "    5\n",
    "    >>> \n",
    "    ```\n",
    "\n",
    "- `ipython` shell.\n",
    "   This is a fancier shell with line numbering and\n",
    "   many helpful commands.\n",
    "    ```\n",
    "    > ipython\n",
    "    Python 3.6.9 (default, Oct  6 2019, 21:40:49)\n",
    "    Type 'copyright', 'credits' or 'license' for more information\n",
    "    IPython 7.13.0 -- An enhanced Interactive Python. Type '?' for help.\n",
    "\n",
    "    In [1]: 2+3\n",
    "    Out[1]: 5\n",
    "\n",
    "    In [2]: \n",
    "    ```\n",
    "\n",
    "- Jupyter notebooks are web-based coding environments that allow you\n",
    "  to mix code cells and Markdown cells to create \"code documents.\"\n",
    "  Notebook files have an extension `.ipynb` and can be created using JupyterLab.\n",
    "  Several other systems like nbviewer, GitHub, VSCode, Google Colab,\n",
    "  can also be used \"open\" notebooks for viewing and \"run\" the notebooks interactively.  \n",
    "  <img src=\"attachment:f082c596-74ed-47c2-9081-8faf2984ccb2.png\" width=\"300\" alt=\"jupter-code-cell\">\n",
    "\n",
    "- Colab notebooks.\n",
    "  Google operates a service called \"Google Colaboratory\" (Colab for short)\n",
    "  that allows you to run Python code as Colab notebooks.\n",
    "  <img src=\"attachment:d41cd497-3947-46de-8aee-5bfee616a406.png\" width=\"200\" alt=\"colab code cell\">\n",
    "\n",
    "Note the \"Python calculator\" functionality works the same way in each case.\n",
    "The basic Python shell, the fancy `ipython` shell, and the notebook interface\n",
    "all offer a place to input your commands,\n",
    "they READ your command input,\n",
    "EVALUATE them (i.e. run them),\n",
    "PRINT the output of the commands execution.\n",
    "At the end of the READ-EVAL-PRINT steps,\n",
    "the Python in interpreter goes back into \"listening mode\" \n",
    "waiting for your next command input.\n",
    "\n",
    "The overall behaviour of the Python interpreter is an example of the\n",
    "READ-EVAL-PRINT Loop (REPL) that appears in professional human-computer interfaces.\n",
    "The command line prompt (terminal on UNIX or `cmd.exe` on Windows),\n",
    "database prompts,\n",
    "the JavaScript console in your browser,\n",
    "the Ruby interactive console `irb`,\n",
    "and any other interface which accepts commands.\n",
    "\n",
    "Given this multitude of choices,\n",
    "we've opted to use a Jypyter notebook to present this tutorial.\n",
    "Keep in mind you could run all the code examples in python shell,\n",
    "or ipython shell, or as a Colab notebook.\n",
    "\n",
    "While we're on the topic of running Python code,\n",
    "let's briefly mention the other ways Python applications can operate.\n",
    "This is completely out of scope for the remainder of the discussion in this tutorial,\n",
    "since we're just using Python as a fancy calculator,\n",
    "but I though I'd mention some of the other uses of Python codes."
   ]
  },
  {
   "cell_type": "code",
   "execution_count": 4,
   "id": "bdbe2f8d-86ec-49aa-ad6f-cfa95f598886",
   "metadata": {},
   "outputs": [
    {
     "data": {
      "text/html": [
       "<div>\n",
       "<style scoped>\n",
       "    .dataframe tbody tr th:only-of-type {\n",
       "        vertical-align: middle;\n",
       "    }\n",
       "\n",
       "    .dataframe tbody tr th {\n",
       "        vertical-align: top;\n",
       "    }\n",
       "\n",
       "    .dataframe thead th {\n",
       "        text-align: right;\n",
       "    }\n",
       "</style>\n",
       "<table border=\"1\" class=\"dataframe\">\n",
       "  <thead>\n",
       "    <tr style=\"text-align: right;\">\n",
       "      <th></th>\n",
       "      <th>student_ID</th>\n",
       "      <th>background</th>\n",
       "      <th>curriculum</th>\n",
       "      <th>effort</th>\n",
       "      <th>score</th>\n",
       "    </tr>\n",
       "  </thead>\n",
       "  <tbody>\n",
       "    <tr>\n",
       "      <th>0</th>\n",
       "      <td>1</td>\n",
       "      <td>arts</td>\n",
       "      <td>NaN</td>\n",
       "      <td>10.96</td>\n",
       "      <td>75</td>\n",
       "    </tr>\n",
       "    <tr>\n",
       "      <th>1</th>\n",
       "      <td>2</td>\n",
       "      <td>science</td>\n",
       "      <td>lecture</td>\n",
       "      <td>8.69</td>\n",
       "      <td>75</td>\n",
       "    </tr>\n",
       "  </tbody>\n",
       "</table>\n",
       "</div>"
      ],
      "text/plain": [
       "   student_ID background curriculum  effort  score\n",
       "0           1       arts        NaN   10.96     75\n",
       "1           2    science    lecture    8.69     75"
      ]
     },
     "execution_count": 4,
     "metadata": {},
     "output_type": "execute_result"
    }
   ],
   "source": [
    "import io\n",
    "import pandas as pd\n",
    "data2 = io.StringIO(\"\"\"\n",
    "student_ID,background,curriculum,effort,score\n",
    "1,arts,,10.96,75\n",
    "2,science,lecture,8.69,75\n",
    "\"\"\")\n",
    "df2 = pd.read_csv(data2)\n",
    "df2"
   ]
  },
  {
   "cell_type": "code",
   "execution_count": null,
   "id": "0452679d-5635-4bd5-83f1-167eb1656e7d",
   "metadata": {},
   "outputs": [],
   "source": []
  }
 ],
 "metadata": {
  "kernelspec": {
   "display_name": "Python 3 (ipykernel)",
   "language": "python",
   "name": "python3"
  },
  "language_info": {
   "codemirror_mode": {
    "name": "ipython",
    "version": 3
   },
   "file_extension": ".py",
   "mimetype": "text/x-python",
   "name": "python",
   "nbconvert_exporter": "python",
   "pygments_lexer": "ipython3",
   "version": "3.9.4"
  }
 },
 "nbformat": 4,
 "nbformat_minor": 5
}
