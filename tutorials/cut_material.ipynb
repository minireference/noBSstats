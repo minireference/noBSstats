{
 "cells": [
  {
   "cell_type": "markdown",
   "id": "09b45faf-3240-429f-9ba3-9a2185094d6f",
   "metadata": {},
   "source": [
    "# Cut material \n",
    "\n",
    "Imported stuff from [`python_tutorial.ipynb`](./python_tutorial.ipynb)."
   ]
  },
  {
   "cell_type": "code",
   "execution_count": null,
   "id": "9f5e7830-4708-4f00-91ef-e97afac0475a",
   "metadata": {},
   "outputs": [],
   "source": []
  },
  {
   "cell_type": "markdown",
   "id": "81c16d0a-d730-43ff-ab8a-e3283b746c82",
   "metadata": {},
   "source": [
    "## FROM PY TUTORIAL"
   ]
  },
  {
   "cell_type": "markdown",
   "id": "a4e9450d-c741-4a3d-aa9a-3e4937cf76a4",
   "metadata": {},
   "source": [
    "### Python for data science and statistics\n",
    "\n",
    "Python is a popular language for data analysis\n",
    "because of the numerous functions it provides for data management, \n",
    "data visualization, and statistics.\n",
    "\n",
    "Learning to use these Python functions will \n",
    " y\n",
    "\n",
    "Learning a few basic Python constructs like the `for` loop\n",
    "will enable you to simulate probability distributions and experimentally verify how statistics procedures work.\n",
    "This is a really big deal!\n",
    "If's good to know the statistical formula and recipes,\n",
    "but it's even better when you can run your own simulations and check when the formulas work and when they fail.\n",
    "\n",
    "Once you learn the basics of Python syntax,\n",
    "you'll have access to the best-in-class tools for\n",
    "data management (Pandas, see [pandas_tutorial.ipynb](./pandas_tutorial.ipynb)),\n",
    "data visualization (Seaborn, see [seaborn_tutorial.ipynb](./seaborn_tutorial.ipynb)),\n",
    "statistics (`scipy` and `statsmodels`).\n",
    "\n",
    "Don't worry there won't be any advanced math—just sums, products, exponents, logs, and square roots.\n",
    "Nothing fancy, I promise.\n",
    "If you've ever created a formula in a spreadsheet,\n",
    "then you're familiar with all the operations we'll see.\n",
    "In a spreadsheet formula you'd use `SUM(` in Python we write `sum(`.\n",
    "You see, it's nothing fancy.\n",
    "\n",
    "Yes, there will be a lot of code (paragraphs of Python commands) in this tutorial,\n",
    "but you can totally handle this.\n",
    "If you ever start to freak out an think \"OMG this is too complicated!\" remember that Python is just a fancy calculator."
   ]
  },
  {
   "cell_type": "markdown",
   "id": "76fb25dc-6cb8-47ab-ac84-13226e4d066e",
   "metadata": {},
   "source": [
    "\n",
    "All in all, learning Python gives lots of tools to help you understand math and science topics.\n",
    "\n",
    "---\n",
    "\n",
    "take advantage of everything Python has to offer for data analysis and statistics.\n",
    "\n",
    "You can run JupyterLab on your computer or run JupyterLab on a remote server using a [binder link](https://mybinder.org/v2/gh/minireference/noBSstats/HEAD?labpath=tutorials/python_tutorial.ipynb).\n",
    "\n",
    "[`bit.ly/pytut3`](https://bit.ly/pytut3)\n",
    "\n",
    "**Alternatives**: If you don't want to install anything on your computer yet, you have two other options for playing with this notebook:\n",
    "- Run JupyterLab instance in the cloud via the binder link. Click [here](https://mybinder.org/v2/gh/minireference/noBSstats/HEAD?labpath=tutorials/python_tutorial.ipynb) to launch an interactive notebook of this tutorial.\n",
    "- You can also enable the \"Live Code\" feature while reading this tutorial  online at [noBSstats.com](https://nobsstats.com/tutorials/python_tutorial.html). Use the rocket button in the top right, and choose the `Live Code` option to make all the cells in this notebook interactive.\n",
    "\n",
    "The notebook interface offers many useful features,\n",
    "but for now,\n",
    "I just want you to think of notebooks as an easy way to run Python code.\n"
   ]
  },
  {
   "cell_type": "markdown",
   "id": "8d0f538f-ed54-4b98-9abf-ffff3911fa3d",
   "metadata": {},
   "source": [
    "Here is another example of an expression that uses the function `len` to compute the length of a list of numbers."
   ]
  },
  {
   "cell_type": "code",
   "execution_count": 5,
   "id": "5fcd876f-644c-4b07-8447-ccbcdf61fcfb",
   "metadata": {},
   "outputs": [
    {
     "data": {
      "text/plain": [
       "3"
      ]
     },
     "execution_count": 5,
     "metadata": {},
     "output_type": "execute_result"
    }
   ],
   "source": [
    "len([1, 2, 3])"
   ]
  },
  {
   "cell_type": "markdown",
   "id": "7bafc472-ed17-4eb8-bedc-7509093a2aa8",
   "metadata": {},
   "source": [
    "Here the function `len` received the list of numbers `[1, 2, 3]` as input, and produced the output `3` as output, which is the length of the list."
   ]
  },
  {
   "cell_type": "code",
   "execution_count": null,
   "id": "b26855da-b4c0-421e-a2e8-132c1e2a8f6f",
   "metadata": {},
   "outputs": [],
   "source": []
  },
  {
   "cell_type": "markdown",
   "id": "cfd79197-1b41-40d8-ba75-c79c81d46759",
   "metadata": {},
   "source": [
    "To store the result of an expression as a variable,\n",
    "we use the assignment operator `=` as follows, from left to right:\n",
    "\n",
    "* we start by writing the name of the variable\n",
    "* then, we add the symbol `=` (which stands for **assign to**)\n",
    "* finally, we write an expression for the value we want to store in the variable\n"
   ]
  },
  {
   "cell_type": "code",
   "execution_count": null,
   "id": "3bc52183-385e-44af-8def-e0a16c2c4a95",
   "metadata": {},
   "outputs": [],
   "source": []
  },
  {
   "cell_type": "markdown",
   "id": "cb9cbc00-61da-4438-bd02-02b6b71d47b6",
   "metadata": {},
   "source": [
    "Running the above code cell doesn't print anything,\n",
    "because we have only defined variables: `score`, `average`, `scores`, `message`, and `above_the_average`, but we didn't display them."
   ]
  },
  {
   "cell_type": "markdown",
   "id": "49ac41dc-8ea2-4b09-8648-96884262292a",
   "metadata": {},
   "source": [
    "We'll use the generic variable name `obj` to refer to an object of any type."
   ]
  },
  {
   "cell_type": "code",
   "execution_count": null,
   "id": "c16ef0b0-f042-41c8-9f02-8ce12ec1e4e9",
   "metadata": {},
   "outputs": [],
   "source": []
  },
  {
   "cell_type": "markdown",
   "id": "412f5cfa-30f4-450a-84c6-75f6a47876ba",
   "metadata": {},
   "source": [
    "Notebooks allow us run Python commands interactively,\n",
    "which is the best way to learn!\n",
    "Try some Python commands to get a feeling of how code cells work.\n",
    "\n",
    "Remember you can click the play button in the toolbar\n",
    "(the first button in box (4) in the screenshot)\n",
    "or use the keyboard shortcut **SHIFT+ENTER** to run the code.\n",
    "\n",
    "I encourage you to play around with the notebook execution buttons in box (4).\n",
    "\n"
   ]
  },
  {
   "cell_type": "code",
   "execution_count": null,
   "id": "fc959a3d-8688-41ca-8fdc-b75e12a5213c",
   "metadata": {},
   "outputs": [],
   "source": []
  },
  {
   "cell_type": "markdown",
   "id": "e2919f6f-26c2-467b-8b1b-533e5b051020",
   "metadata": {},
   "source": [
    "## Review of math functions\n",
    "\n",
    "The Python syntax for functions is inspired by the syntax used for math functions,\n",
    "so we'll start with a quick overview the concepts of a function in mathematics.\n",
    "The convention in math to call functions with single letters like $f$, $g$, $h$, etc.\n",
    "We call denote the function inputs as $x$ and its outputs as $y$.\n",
    "\n",
    "We define the function $f$ by writing expression to compute for a given input $x$. \n",
    "\n",
    "$$ y = f(x) = \\text{some expression involving } x  $$\n",
    "\n",
    "For example $f(x) = 2x+3$.\n",
    "\n",
    "Once we have defined the function $f$,\n",
    "we can evaluate the function for any possible input $x$.\n",
    "For example,\n",
    "the value of the function $f$ when $x=5$ is\n",
    "denoted $f(5)$ and is equal to $2(5) +3 = 10 + 3 = 13$.\n",
    "In other words, $f(5) = 13$.\n",
    "\n",
    "\n",
    "## Python functions\n",
    "Functions in Python are similar to functions in math: \n",
    "\n",
    "...\n",
    "\n",
    "In the above example,\n",
    "we intentionally chose the function name,\n",
    "and the name of its input and output\n",
    "to highlight the connection with with the math function example we saw earlier.\n"
   ]
  },
  {
   "cell_type": "markdown",
   "id": "0b581e16-7884-41c8-bd7a-9c8e44369bd3",
   "metadata": {},
   "source": [
    "\n",
    "- `plotnine` another high-level library for data visualization base don the grammar of graphics principles\n",
    "- `scikit-learn` tools and algorithms for machine learning\n"
   ]
  },
  {
   "cell_type": "code",
   "execution_count": null,
   "id": "89fae464-22ba-4a23-8103-135147507b43",
   "metadata": {},
   "outputs": [],
   "source": []
  },
  {
   "cell_type": "code",
   "execution_count": null,
   "id": "29142e2c-2898-4ecf-91a4-abe9b13086ca",
   "metadata": {},
   "outputs": [],
   "source": []
  },
  {
   "cell_type": "code",
   "execution_count": null,
   "id": "c3156c2c-b74a-4e8e-a05b-dbaa0184fdeb",
   "metadata": {},
   "outputs": [],
   "source": []
  },
  {
   "cell_type": "code",
   "execution_count": null,
   "id": "1c810beb-433c-4905-be26-39dc0dc04f5b",
   "metadata": {},
   "outputs": [],
   "source": []
  },
  {
   "cell_type": "markdown",
   "id": "6402c1f2-8752-4076-9894-7599457d0e2b",
   "metadata": {},
   "source": [
    "### Overview of the material in this tutorial\n",
    "\n",
    "We'll cover all essential topics required to get to know Python, including:\n",
    "\n",
    "- [Getting started](#Getting-started) where we'll install JupyterLab Desktop coding environment\n",
    "\n",
    "- [Expressions and variables](#Expressions-and-variables): basic building blocks of any program.\n",
    "\n",
    "- [Getting comfortable with Python](#Getting-comfortable-with-Python): looking around and getting help.\n",
    "\n",
    "- [Lists and for loops](#Lists-and-for-loops): repeating steps and procedures.\n",
    "\n",
    "- [Functions](#Functions) are reusable code blocks.\n",
    "\n",
    "- [Other data structures](#Other-data-structures): sets, tuples, etc.  \n",
    "  - [Boolean variables and conditional statements](#Boolean-variables-and-conditional-statements): conditional code execution.\n",
    "  - [Dictionaries](#Dictionaries) are a versatile way to store data.  \n",
    "\n",
    "- [Objects and classes](#Objects-and-classes): creating custom objects.\n",
    "\n",
    "- [Python grammar and syntax](#Python-grammar-and-syntax): review of all the syntax.\n",
    "\n",
    "- [Python libraries and modules](#Python-libraries-and-modules): learn why people say Python comes with \"batteries included\"\n",
    "\n",
    "After you're done with this tutorial, you'll be ready to read the other two:\n",
    "- Pandas (see [pandas_tutorial.ipynb](./pandas_tutorial.ipynb))\n",
    "- Seaborn (see [seaborn_tutorial.ipynb](./seaborn_tutorial.ipynb))  \n",
    "\n",
    "It's important for you to try solving the exercises that you'll encounter as you read along. The exercises are a great way to practice what you've been learning.\n",
    "\n"
   ]
  },
  {
   "cell_type": "code",
   "execution_count": null,
   "id": "3288af5c-2671-480a-b7e4-28e369b10a18",
   "metadata": {},
   "outputs": [],
   "source": []
  },
  {
   "cell_type": "code",
   "execution_count": 1,
   "id": "7a96667a-38eb-4275-9084-7695a5b88844",
   "metadata": {},
   "outputs": [],
   "source": [
    "## ALT. display both value and type on the same line (as a tuple)\n",
    "# score, type(score)"
   ]
  },
  {
   "cell_type": "markdown",
   "id": "a838d3b7-b675-40cd-958d-2d7103f9be99",
   "metadata": {},
   "source": [
    "Python is a \"civilized\" language\n",
    " \n",
    " We'll now learn about some of these tools including, \"doc strings\" (help menus) and the different ways at learning\n",
    " \n",
    " at what attributes and methods are available to use.\n",
    "\n",
    " \n",
    "We'll now learn about some of these tools including,\n",
    "\n",
    "Above all, Python has a culture of being beginner friendly so \n",
    "\n",
    "This combination of tools allows programmers to answer common questions about Python objects and functions without leaving the JupyterLab environment. Basically, in Python all the necessary info is accessible directly in the coding environment.\n",
    "For example, at the end of this section you'll be able to answer the following questions on your own:\n",
    "\n",
    "- How many and what type of arguments does the function `print` expect?\n",
    "- What kind of optional, keyword arguments does the function `print` accept?\n",
    "- What attributes and methods does the Python object `obj` have?\n",
    "- What variables and functions are defined in the current namespace?\n",
    "\n",
    "More than 50% of any programmer's time is spent looking at help info and trying to understand the variables, functions, objects, and methods they are working with, so it's important for you to learn these meta-skills."
   ]
  },
  {
   "cell_type": "code",
   "execution_count": null,
   "id": "af0d6704-8a21-4ff1-abde-fd49307bd349",
   "metadata": {},
   "outputs": [],
   "source": []
  },
  {
   "cell_type": "code",
   "execution_count": null,
   "id": "367f79df-7641-4f9e-9113-7233cd16b8ff",
   "metadata": {},
   "outputs": [],
   "source": []
  },
  {
   "cell_type": "markdown",
   "id": "4e5327fb-7ab9-4df9-950c-d366770896ef",
   "metadata": {},
   "source": [
    "You can also add longer, multi-line comments using triple-quoted text."
   ]
  },
  {
   "cell_type": "code",
   "execution_count": 2,
   "id": "8ef94548-70bc-406c-8752-180ebb7f7730",
   "metadata": {},
   "outputs": [
    {
     "data": {
      "text/plain": [
       "'\\nThis is a longer comment,\\nwhich is written on two lines.\\n'"
      ]
     },
     "execution_count": 2,
     "metadata": {},
     "output_type": "execute_result"
    }
   ],
   "source": [
    "\"\"\"\n",
    "This is a longer comment,\n",
    "which is written on two lines.\n",
    "\"\"\""
   ]
  },
  {
   "cell_type": "markdown",
   "id": "5a016467-88b9-45c0-b0d4-56dbf20e84d5",
   "metadata": {},
   "source": [
    "The doc-strings we talked about earlier,\n",
    "were created by this kind of multi-line strings included in the source code of the functions `abs`, `len`, `sum`, `print`, etc."
   ]
  },
  {
   "cell_type": "code",
   "execution_count": 3,
   "id": "5d2df7ae-b1c1-4e45-a702-a247530ad39b",
   "metadata": {},
   "outputs": [],
   "source": [
    "#### More exceptions "
   ]
  },
  {
   "cell_type": "code",
   "execution_count": 4,
   "id": "9bb07b04-3ac7-49ed-8394-ee40e542262e",
   "metadata": {},
   "outputs": [],
   "source": [
    "\n",
    "# ValueError\n",
    "# int(\"zz\")\n",
    "\n",
    "# ZeroDivisionError\n",
    "# 5/0\n",
    "\n",
    "# KeyError\n",
    "# d = {}\n",
    "# d[\"zz\"]\n",
    "\n",
    "# ImportError\n",
    "# from math import zz\n",
    "\n",
    "# AttributeError\n",
    "# \"hello\".zz"
   ]
  },
  {
   "cell_type": "code",
   "execution_count": null,
   "id": "3f5b2242-eb07-4126-af42-6d45fc0b18d7",
   "metadata": {},
   "outputs": [],
   "source": []
  },
  {
   "cell_type": "markdown",
   "id": "4f61d173-211a-46fc-b3a4-56a3a42c2576",
   "metadata": {},
   "source": [
    "### Example: learning about the `print` function\n",
    "\n",
    "Let's say you're interested to know the options available for the function `print`,\n",
    "which we use to print Python expressions."
   ]
  },
  {
   "cell_type": "code",
   "execution_count": 5,
   "id": "c7189390-1a06-401b-97e8-220dc6330218",
   "metadata": {},
   "outputs": [
    {
     "data": {
      "text/plain": [
       "<function print>"
      ]
     },
     "execution_count": 5,
     "metadata": {},
     "output_type": "execute_result"
    }
   ],
   "source": [
    "# put cursor in the middle of function and press SHIFT+TAB\n",
    "print"
   ]
  },
  {
   "cell_type": "markdown",
   "id": "4aea108b-ba15-4680-90f3-a4fa7c53484b",
   "metadata": {},
   "source": [
    "You know this function accepts a variable and prints it,\n",
    "but what other keywords arguments does it take?"
   ]
  },
  {
   "cell_type": "markdown",
   "id": "363b01d6-fa14-4cea-a47e-fed55bff8121",
   "metadata": {},
   "source": [
    "Use the help() function on `print`"
   ]
  },
  {
   "cell_type": "code",
   "execution_count": 6,
   "id": "82c46a76-f668-41c5-b862-d1a1ec875880",
   "metadata": {},
   "outputs": [
    {
     "name": "stdout",
     "output_type": "stream",
     "text": [
      "Help on built-in function print in module builtins:\n",
      "\n",
      "print(...)\n",
      "    print(value, ..., sep=' ', end='\\n', file=sys.stdout, flush=False)\n",
      "    \n",
      "    Prints the values to a stream, or to sys.stdout by default.\n",
      "    Optional keyword arguments:\n",
      "    file:  a file-like object (stream); defaults to the current sys.stdout.\n",
      "    sep:   string inserted between values, default a space.\n",
      "    end:   string appended after the last value, default a newline.\n",
      "    flush: whether to forcibly flush the stream.\n",
      "\n"
     ]
    }
   ],
   "source": [
    "help(print)"
   ]
  },
  {
   "cell_type": "markdown",
   "id": "84b9be1b-e1a9-4905-8bc0-0ec24e35b08f",
   "metadata": {},
   "source": [
    "Reading the doc string of the `print` function suggests,\n",
    "we see `...` for the type of inputs accepted,\n",
    "which means `print` accepts multiple arguments.\n",
    "\n",
    "Here is an example that prints a string, an integer, a floating point number, and a list on the same line."
   ]
  },
  {
   "cell_type": "code",
   "execution_count": 7,
   "id": "8c0e323b-9c6f-431d-bdb8-aab3f6f2e13a",
   "metadata": {},
   "outputs": [],
   "source": [
    "# print?"
   ]
  },
  {
   "cell_type": "code",
   "execution_count": 8,
   "id": "45cfd3e3-17e8-4c22-9e72-83156264060c",
   "metadata": {},
   "outputs": [],
   "source": [
    "# print(print.__doc__)"
   ]
  },
  {
   "cell_type": "code",
   "execution_count": null,
   "id": "9fe10d9b-21d7-48a5-a690-46acbf9f8816",
   "metadata": {},
   "outputs": [],
   "source": []
  },
  {
   "cell_type": "markdown",
   "id": "e454f38f-296e-4a61-a4b5-fb267385924f",
   "metadata": {},
   "source": [
    "#### Application: changing the separator when printing multiple values\n",
    "\n",
    "We can choose a different separator between arguments of the `print` function\n",
    "by specifying the value for the keyword argument `sep`."
   ]
  },
  {
   "cell_type": "code",
   "execution_count": 9,
   "id": "a6cecf99-87b2-404b-83fa-c1f07e566153",
   "metadata": {},
   "outputs": [
    {
     "name": "stdout",
     "output_type": "stream",
     "text": [
      "3 2.3\n"
     ]
    }
   ],
   "source": [
    "x = 3\n",
    "y = 2.3\n",
    "print(x, y)"
   ]
  },
  {
   "cell_type": "code",
   "execution_count": 10,
   "id": "89fa112d-42ff-4766-ba0a-44baa991b400",
   "metadata": {},
   "outputs": [
    {
     "name": "stdout",
     "output_type": "stream",
     "text": [
      "3 --- 2.3\n"
     ]
    }
   ],
   "source": [
    "print(x, y, sep=\" --- \")"
   ]
  },
  {
   "cell_type": "code",
   "execution_count": null,
   "id": "7511a44a-d17b-4231-b733-4f3edaab350d",
   "metadata": {},
   "outputs": [],
   "source": []
  },
  {
   "cell_type": "markdown",
   "id": "8791431f-d0e2-49ab-af16-8f9bd5156264",
   "metadata": {},
   "source": [
    "### Question 2: Sample standard deviation\n",
    "\n",
    "The formula for the sample standard seviation of a list of numbers is:\n",
    "$$\n",
    "    \\text{std}(\\textbf{x}) = s\n",
    "    = \\sqrt{ \\tfrac{1}{n-1}\\sum_{i=1}^n (x_i-\\overline{x})^2 }\n",
    "    = \\sqrt{ \\tfrac{1}{n-1}\\left[ (x_1-\\overline{x})^2 + (x_2-\\overline{x})^2 + \\cdots + (x_n-\\overline{x})^2\\right]}.\n",
    "$$\n",
    "\n",
    "Note the division is by $(n-1)$ and not $n$. Strange, no? You'll have to wait until stats to see why this is the case.\n",
    "\n",
    "Write `compute_std(numbers)`: computes the sample standard deviation"
   ]
  },
  {
   "cell_type": "code",
   "execution_count": 11,
   "id": "5e3a7f23-d2fa-40df-929e-6d76cf06d221",
   "metadata": {},
   "outputs": [
    {
     "data": {
      "text/plain": [
       "29.011491975882016"
      ]
     },
     "execution_count": 11,
     "metadata": {},
     "output_type": "execute_result"
    }
   ],
   "source": [
    "import math\n",
    "\n",
    "def mean(numbers):\n",
    "    return sum(numbers)/len(numbers)\n",
    "\n",
    "def std(numbers):\n",
    "    \"\"\"\n",
    "    Computes the sample standard deviation (square root of the sample variance)\n",
    "    using a for loop.\n",
    "    \"\"\"\n",
    "    avg = mean(numbers) \n",
    "    total = 0\n",
    "    for number in numbers:\n",
    "        total = total + (number-avg)**2\n",
    "    var = total/(len(numbers)-1)    \n",
    "    return math.sqrt(var)\n",
    "\n",
    "numbers = list(range(0,100))\n",
    "std(numbers)"
   ]
  },
  {
   "cell_type": "code",
   "execution_count": 12,
   "id": "0f6a10fe-caff-4242-bcd8-402bf742f2e5",
   "metadata": {},
   "outputs": [
    {
     "data": {
      "text/plain": [
       "29.011491975882016"
      ]
     },
     "execution_count": 12,
     "metadata": {},
     "output_type": "execute_result"
    }
   ],
   "source": [
    "# compare to known good function...\n",
    "import statistics\n",
    "statistics.stdev(numbers)"
   ]
  },
  {
   "cell_type": "code",
   "execution_count": null,
   "id": "2b987984-255e-4cc1-af07-818cd41c21db",
   "metadata": {},
   "outputs": [],
   "source": []
  },
  {
   "cell_type": "code",
   "execution_count": null,
   "id": "b86a4f62-c68b-4932-83f1-07296ab7813e",
   "metadata": {},
   "outputs": [],
   "source": []
  },
  {
   "cell_type": "markdown",
   "id": "489ef88c-36b9-4345-9476-cf63d1c53e8e",
   "metadata": {},
   "source": [
    "Functions!\n",
    "Finally we get to the good stuff!\n",
    "\n",
    "Functions allow us to build chunks of reusable code that we can later reuse in other programs. \n",
    "\n"
   ]
  },
  {
   "cell_type": "code",
   "execution_count": null,
   "id": "485dc9ca-c2d8-41b8-877c-a0ba643aeef0",
   "metadata": {},
   "outputs": [],
   "source": []
  },
  {
   "cell_type": "code",
   "execution_count": 13,
   "id": "c6bd4735-9bb3-4ecc-beb6-02eaad95b31f",
   "metadata": {},
   "outputs": [],
   "source": [
    "# # ALT. using the `range` function\n",
    "# numbers = range(1,6)\n",
    "# squares = [n**2 for n in numbers]\n",
    "# squares"
   ]
  },
  {
   "cell_type": "code",
   "execution_count": null,
   "id": "f7acda1b-78e2-4ae6-be65-c23ce03a3b40",
   "metadata": {},
   "outputs": [],
   "source": []
  },
  {
   "cell_type": "code",
   "execution_count": null,
   "id": "93699e42-d851-4468-953f-8446119d38d9",
   "metadata": {},
   "outputs": [],
   "source": []
  },
  {
   "cell_type": "markdown",
   "id": "1e08c984-bc18-48e7-8986-50a4e0a241ba",
   "metadata": {},
   "source": [
    "## Sets\n",
    "\n",
    "Python sets are a representation of the mathematical sets,\n",
    "that is,\n",
    "collections of elements."
   ]
  },
  {
   "cell_type": "code",
   "execution_count": 14,
   "id": "e16e759b-3032-407f-8300-3d5e57b97397",
   "metadata": {},
   "outputs": [
    {
     "data": {
      "text/plain": [
       "set()"
      ]
     },
     "execution_count": 14,
     "metadata": {},
     "output_type": "execute_result"
    }
   ],
   "source": [
    "s = set()\n",
    "s"
   ]
  },
  {
   "cell_type": "code",
   "execution_count": 15,
   "id": "9f12589e-70c9-43f8-932e-fee5595b093f",
   "metadata": {},
   "outputs": [
    {
     "data": {
      "text/plain": [
       "{3, 5}"
      ]
     },
     "execution_count": 15,
     "metadata": {},
     "output_type": "execute_result"
    }
   ],
   "source": [
    "s.add(3)\n",
    "s.add(5)\n",
    "s"
   ]
  },
  {
   "cell_type": "code",
   "execution_count": 16,
   "id": "500df758-3e03-4671-9b2b-15209cec5001",
   "metadata": {},
   "outputs": [
    {
     "data": {
      "text/plain": [
       "True"
      ]
     },
     "execution_count": 16,
     "metadata": {},
     "output_type": "execute_result"
    }
   ],
   "source": [
    "3 in s"
   ]
  },
  {
   "cell_type": "code",
   "execution_count": 17,
   "id": "6bb25883-5ca0-48a1-9bf5-7fc56a8ad7ac",
   "metadata": {},
   "outputs": [
    {
     "name": "stdout",
     "output_type": "stream",
     "text": [
      "The set s contains the elements:\n",
      "3\n",
      "5\n"
     ]
    }
   ],
   "source": [
    "print(\"The set s contains the elements:\")\n",
    "for el in s:\n",
    "    print(el)"
   ]
  },
  {
   "cell_type": "markdown",
   "id": "e6df152a-5dff-4d18-a949-b769ded52658",
   "metadata": {},
   "source": [
    "Sets are sometimes useful when we want to keep track of which elements have been encountered, but don't care how many times."
   ]
  },
  {
   "cell_type": "code",
   "execution_count": 18,
   "id": "45147b28-ade8-4299-b0a2-4ccd34993000",
   "metadata": {},
   "outputs": [
    {
     "data": {
      "text/plain": [
       "{3, 5}"
      ]
     },
     "execution_count": 18,
     "metadata": {},
     "output_type": "execute_result"
    }
   ],
   "source": [
    "s.add(3)\n",
    "s.add(3)\n",
    "s"
   ]
  },
  {
   "cell_type": "markdown",
   "id": "7babd810-d49e-4716-8885-11e427acfad4",
   "metadata": {},
   "source": [
    "## Tuples\n",
    "\n",
    "Tuples are similar to lists but with less features."
   ]
  },
  {
   "cell_type": "code",
   "execution_count": 19,
   "id": "f821575c-c1db-46ea-972e-081add64c7c4",
   "metadata": {},
   "outputs": [
    {
     "data": {
      "text/plain": [
       "(2, 3)"
      ]
     },
     "execution_count": 19,
     "metadata": {},
     "output_type": "execute_result"
    }
   ],
   "source": [
    "2,3"
   ]
  },
  {
   "cell_type": "code",
   "execution_count": 20,
   "id": "48fd3e97-7206-4aa8-a810-f8d0f559e8cf",
   "metadata": {},
   "outputs": [
    {
     "data": {
      "text/plain": [
       "(2, 3)"
      ]
     },
     "execution_count": 20,
     "metadata": {},
     "output_type": "execute_result"
    }
   ],
   "source": [
    "(2,3)"
   ]
  },
  {
   "cell_type": "markdown",
   "id": "75a7f2e7-966a-436e-95d7-eea2608558a7",
   "metadata": {},
   "source": [
    "We can use the tuples syntax to assign to multiple variables on a single line:"
   ]
  },
  {
   "cell_type": "code",
   "execution_count": 21,
   "id": "5191c2b2-e541-40aa-a25a-bfbb01b6e54e",
   "metadata": {},
   "outputs": [],
   "source": [
    "x, y = 3, 4"
   ]
  },
  {
   "cell_type": "markdown",
   "id": "2d1ae3ad-7c0b-413e-87bb-3e90a5163b2e",
   "metadata": {},
   "source": [
    "We can also use tuples to \"swap\" two values."
   ]
  },
  {
   "cell_type": "code",
   "execution_count": 22,
   "id": "28044be9-8e9a-44eb-837e-fad54a16eb95",
   "metadata": {},
   "outputs": [],
   "source": [
    "# Swap the contexts of the variables x and y\n",
    "tmp = x\n",
    "y = x\n",
    "x = tmp"
   ]
  },
  {
   "cell_type": "code",
   "execution_count": 23,
   "id": "52d0b5d3-849e-47b0-b937-cb7448ae74f0",
   "metadata": {},
   "outputs": [],
   "source": [
    "# Equivalent operation on one line\n",
    "x, y = y, x"
   ]
  },
  {
   "cell_type": "code",
   "execution_count": null,
   "id": "ff23229e-4a70-4af1-ab8c-79225e4b422c",
   "metadata": {},
   "outputs": [],
   "source": []
  },
  {
   "cell_type": "code",
   "execution_count": null,
   "id": "127f22ab-614f-491b-9337-b0216dd4cb24",
   "metadata": {},
   "outputs": [],
   "source": []
  },
  {
   "cell_type": "markdown",
   "id": "2a1c0d28-ec55-4f60-97ac-59efef137d5a",
   "metadata": {},
   "source": [
    "## Defining new types of objects\n",
    "\n",
    "Using the Python keyword `class` can be used to define new kinds of objects.\n"
   ]
  },
  {
   "cell_type": "markdown",
   "id": "a5294678-ec20-40fc-919e-d8c7f64c6189",
   "metadata": {},
   "source": [
    "Let's create a custom class of objects `Interval` that represent intervals of real numbers like $[a,b] \\subset \\mathbb{R}$.\n",
    "We want to be able to use the new interval objects in `if` statements to check if a number $x$ is in the interval $[a,b]$ or not.\n",
    "\n",
    "Recall the `in` operator that we can use to check if an element is part of a list\n",
    "```Python\n",
    ">>> 3 in [1,2,3,4]\n",
    "True\n",
    "```\n",
    "\n",
    "we want the new objects of type `Interval` to test for membership.\n",
    "\n",
    "Example usage:\n",
    "```Python\n",
    ">>> 3 in Interval(2,4)\n",
    "True\n",
    ">>> 5 in Interval(2,4)\n",
    "False\n",
    "```\n",
    "The expression `x in Y` is corresponds to calling the method `__contains__` on the container object `Y`:\n",
    "`Y.__contains__(x)` and it will return a `bool`ean value (`True` or `False`).\n",
    "\n",
    "If we want to support checks like `3 in Interval(2,4)` we therefore have to implement \n",
    "the method `__contains__` on the `Interval` class."
   ]
  },
  {
   "cell_type": "code",
   "execution_count": 24,
   "id": "157a0a66-e352-418d-b919-7db7e290be53",
   "metadata": {},
   "outputs": [],
   "source": [
    "class Interval:\n",
    "    \"\"\"\n",
    "    Object that embodies the mathematical concept of an interval.\n",
    "    `Interval(a,b)` is equivalent to math interval [a,b] = {𝑥 | 𝑎 ≤ 𝑥 ≤ 𝑏}.\n",
    "    \"\"\"\n",
    "\n",
    "    def __init__(self, lowerbound, upperbound):\n",
    "        \"\"\"\n",
    "        This method is called when the object is created, and is used to\n",
    "        set the object attributes from the arguments passed in.\n",
    "        \"\"\"\n",
    "        self.lowerbound = lowerbound\n",
    "        self.upperbound = upperbound\n",
    "\n",
    "    def __str__(self):\n",
    "        \"\"\"\n",
    "        Return a representation of the interval as a string like \"[a,b]\".\n",
    "        \"\"\"\n",
    "        return \"[\" + str(self.lowerbound) + \",\" + str(self.upperbound) + \"]\"\n",
    "\n",
    "    def __contains__(self, x):\n",
    "        \"\"\"\n",
    "        This method is called to check membership using the `in` keyword.\n",
    "        \"\"\"\n",
    "        return self.lowerbound <= x and x <= self.upperbound\n",
    "\n",
    "    def __len__(self):\n",
    "        \"\"\"\n",
    "        This method will get called when you call `len` on the object.\n",
    "        \"\"\"\n",
    "        return self.upperbound - self.lowerbound\n"
   ]
  },
  {
   "cell_type": "markdown",
   "id": "4588d4af-3150-40bb-a625-e90c876092fc",
   "metadata": {},
   "source": [
    "Create an object that corresponds to the interval $[2,4]$."
   ]
  },
  {
   "cell_type": "code",
   "execution_count": 25,
   "id": "3d2c7f8a-b671-4f43-a139-0be575fbb12e",
   "metadata": {},
   "outputs": [
    {
     "data": {
      "text/plain": [
       "<__main__.Interval at 0x1113589d0>"
      ]
     },
     "execution_count": 25,
     "metadata": {},
     "output_type": "execute_result"
    }
   ],
   "source": [
    "interval2to4 = Interval(2,4)\n",
    "interval2to4"
   ]
  },
  {
   "cell_type": "code",
   "execution_count": 26,
   "id": "4023c898-42f8-4c71-b894-6f7d2ddfcaeb",
   "metadata": {},
   "outputs": [
    {
     "data": {
      "text/plain": [
       "__main__.Interval"
      ]
     },
     "execution_count": 26,
     "metadata": {},
     "output_type": "execute_result"
    }
   ],
   "source": [
    "type(interval2to4)"
   ]
  },
  {
   "cell_type": "code",
   "execution_count": 27,
   "id": "c9871fad-beea-47c5-8192-71d6bf105b5a",
   "metadata": {},
   "outputs": [
    {
     "data": {
      "text/plain": [
       "'[2,4]'"
      ]
     },
     "execution_count": 27,
     "metadata": {},
     "output_type": "execute_result"
    }
   ],
   "source": [
    "str(interval2to4)"
   ]
  },
  {
   "cell_type": "code",
   "execution_count": 28,
   "id": "98169b25-3b0a-41d3-9b2f-25d1011db642",
   "metadata": {},
   "outputs": [
    {
     "data": {
      "text/plain": [
       "True"
      ]
     },
     "execution_count": 28,
     "metadata": {},
     "output_type": "execute_result"
    }
   ],
   "source": [
    "3.3 in interval2to4"
   ]
  },
  {
   "cell_type": "code",
   "execution_count": 29,
   "id": "ed745907-30f6-4de1-b119-c83009b4e326",
   "metadata": {},
   "outputs": [
    {
     "data": {
      "text/plain": [
       "False"
      ]
     },
     "execution_count": 29,
     "metadata": {},
     "output_type": "execute_result"
    }
   ],
   "source": [
    "1 in interval2to4"
   ]
  },
  {
   "cell_type": "code",
   "execution_count": 30,
   "id": "096dad0a-a124-4f66-a188-95e291e147a5",
   "metadata": {},
   "outputs": [
    {
     "data": {
      "text/plain": [
       "2"
      ]
     },
     "execution_count": 30,
     "metadata": {},
     "output_type": "execute_result"
    }
   ],
   "source": [
    "len(interval2to4)"
   ]
  },
  {
   "cell_type": "code",
   "execution_count": null,
   "id": "d1459c2b-5963-4eb9-a88b-9cc916f0cfcd",
   "metadata": {},
   "outputs": [],
   "source": []
  },
  {
   "cell_type": "code",
   "execution_count": null,
   "id": "223d9867-b221-46a0-9528-fc0012ded71d",
   "metadata": {},
   "outputs": [],
   "source": []
  },
  {
   "cell_type": "markdown",
   "id": "c3596647-f291-4290-bff2-d8716c1f5e8d",
   "metadata": {},
   "source": [
    "### Note for Windows users\n",
    "\n",
    "If you're on macOS or Linux you can ignore this section—skip to the next section **Data management with Pandas**.\n",
    "\n",
    "File paths on Windows use the backslash character (`\\`) as path separator,\n",
    "while UNIX operating systems like Linux and macOS use forward slash separator `/` as path separator. \n",
    "\n",
    "If you you're on Windows you'll need to manually edit the code examples below to make them work by replacing all occurrences of \"`/`\" with \"`\\\\`\". The double backslash is required to get a literal backslash because the character `\\` has special meaning as an escape character."
   ]
  },
  {
   "cell_type": "code",
   "execution_count": 31,
   "id": "f880c1c6-8aac-4540-b775-0837b2c89d18",
   "metadata": {},
   "outputs": [
    {
     "name": "stdout",
     "output_type": "stream",
     "text": [
      "You're on a UNIX system (Linux or macOS).\n",
      "Enjoy civilization!\n"
     ]
    }
   ],
   "source": [
    "import os\n",
    "\n",
    "if os.path.sep == \"/\":\n",
    "    print(\"You're on a UNIX system (Linux or macOS).\")\n",
    "    print(\"Enjoy civilization!\")\n",
    "elif os.path.sep == \"\\\\\":\n",
    "    print(\"You're on Windows so you should use \\\\ as path separator.\")\n",
    "    print(\"Replace any occurence of / (forward slash) in paths with \\\\\\\\ (double-backslash).\")"
   ]
  },
  {
   "cell_type": "markdown",
   "id": "82c6db9c-6355-4872-a93c-18acbfeba600",
   "metadata": {},
   "source": [
    "The current working directory is a path on your computer where this notebook is running.\n",
    "The code cell below shows you can **get** you **c**urrent **w**orking **d**irectory."
   ]
  },
  {
   "cell_type": "code",
   "execution_count": 32,
   "id": "bab510f7-4d9a-4248-8699-bd161ee6f109",
   "metadata": {},
   "outputs": [
    {
     "data": {
      "text/plain": [
       "'/Users/ivan/Projects/Minireference/STATSbook/noBSstatsnotebooks/tutorials'"
      ]
     },
     "execution_count": 32,
     "metadata": {},
     "output_type": "execute_result"
    }
   ],
   "source": [
    "os.getcwd()"
   ]
  },
  {
   "cell_type": "markdown",
   "id": "7cb4b570-cc64-4dd8-9bce-3603db7debce",
   "metadata": {},
   "source": [
    "You're in the `notebooks/` directory, which is inside the parent directory `noBSstats/`.\n",
    "\n",
    "The datasets we'll be using in this notebook are located in the `datasets/` directory, which is sibling of the `notebooks/` directory, inside the parent `noBSstats/`. To access data file `minimal.csv` in the `datasets/` directory from the current directory, we must specify a path that includes the `..` directive (go to parent), then go into the `datasets` directory, then open the file `minimal.csv`.\n",
    "\n",
    "This combination of \"directions\" for getting to the file will look different if you're on a Windows system or on a UNIX system. The code below shows the correct path you should access."
   ]
  },
  {
   "cell_type": "code",
   "execution_count": 33,
   "id": "efdc6069-4069-4e78-9df5-4113cd9c8a12",
   "metadata": {},
   "outputs": [
    {
     "name": "stdout",
     "output_type": "stream",
     "text": [
      "The path to the file players.csv in the datasets/ directory is\n"
     ]
    },
    {
     "data": {
      "text/plain": [
       "'../datasets/players.csv'"
      ]
     },
     "execution_count": 33,
     "metadata": {},
     "output_type": "execute_result"
    }
   ],
   "source": [
    "if os.path.sep == \"/\":\n",
    "    # UNIX path separators\n",
    "    path = \"../datasets/players.csv\"\n",
    "else:\n",
    "    # Windows path separators\n",
    "    path = \"..\\\\datasets\\\\players.csv\"\n",
    "\n",
    "print(\"The path to the file players.csv in the datasets/ directory is\")\n",
    "path"
   ]
  },
  {
   "cell_type": "markdown",
   "id": "c46f1208-b523-4407-aa20-f93125316bef",
   "metadata": {},
   "source": [
    "All the code examples provided below assume you're on a UNIX system,\n",
    "hence the need to manually modify them to use double-backslashes in path strings for the code to work."
   ]
  },
  {
   "cell_type": "code",
   "execution_count": 34,
   "id": "c6556c4c-fec7-4732-a619-564ac4253f13",
   "metadata": {},
   "outputs": [],
   "source": [
    "# ALT.\n",
    "import os\n",
    "import pandas as pd\n",
    "filepath = os.path.join(\"..\", \"datasets\", \"players.csv\")\n",
    "players = pd.read_csv(filepath)"
   ]
  },
  {
   "cell_type": "code",
   "execution_count": null,
   "id": "451e5475-8aed-4a0d-81a9-f6f6a5d53e4c",
   "metadata": {},
   "outputs": [],
   "source": []
  },
  {
   "cell_type": "markdown",
   "id": "261920bf-40a2-46b4-a2e8-770dd0307fcc",
   "metadata": {},
   "source": [
    "### Converting lists to strings\n",
    "\n",
    "The code `\"\".join(msgs)` can be used to concatenate the a list of strings `msgs`."
   ]
  },
  {
   "cell_type": "code",
   "execution_count": 35,
   "id": "d47d3ede-f83b-4ba9-a9e4-01711eeace05",
   "metadata": {},
   "outputs": [
    {
     "data": {
      "text/plain": [
       "'HelloHiWhatsup?'"
      ]
     },
     "execution_count": 35,
     "metadata": {},
     "output_type": "execute_result"
    }
   ],
   "source": [
    "msgs = [\"Hello\", \"Hi\", \"Whatsup?\"]\n",
    "\"\".join(msgs)"
   ]
  },
  {
   "cell_type": "code",
   "execution_count": 36,
   "id": "c007ed21-d40d-440b-bec7-95399f1e4fc1",
   "metadata": {},
   "outputs": [
    {
     "data": {
      "text/plain": [
       "'Hello Hi Whatsup?'"
      ]
     },
     "execution_count": 36,
     "metadata": {},
     "output_type": "execute_result"
    }
   ],
   "source": [
    "# join-together using once space \" \" as separator\n",
    "\" \".join(msgs)"
   ]
  },
  {
   "cell_type": "code",
   "execution_count": null,
   "id": "3461c376-ec13-45a8-b944-5c5351fc9052",
   "metadata": {},
   "outputs": [],
   "source": []
  },
  {
   "cell_type": "markdown",
   "id": "6ed52327-271d-4505-9f30-7888a8dbe95a",
   "metadata": {},
   "source": [
    "### Example: file `open` and the `readlines()` method"
   ]
  },
  {
   "cell_type": "markdown",
   "id": "64aebb19-c420-4e5d-aa19-7f88b87f5fed",
   "metadata": {},
   "source": [
    "TODO: create a file called `story.txt` in the current working directory,\n",
    "and write a few lines in it.\n",
    "The code examples below are based on [this sample `story.txt`](https://raw.githubusercontent.com/minireference/noBSstatsnotebooks/main/tutorials/story.txt) (use save as if you want to have the same file)."
   ]
  },
  {
   "cell_type": "code",
   "execution_count": 37,
   "id": "f134a8b8-7809-43ed-9144-c99c331a931a",
   "metadata": {},
   "outputs": [
    {
     "data": {
      "text/plain": [
       "['This is a short story.\\n',\n",
       " 'It is very short.\\n',\n",
       " 'It has only four lines.\\n',\n",
       " 'It ends with the word cat.\\n']"
      ]
     },
     "execution_count": 37,
     "metadata": {},
     "output_type": "execute_result"
    }
   ],
   "source": [
    "file = open(\"story.txt\")\n",
    "lines = file.readlines()\n",
    "lines"
   ]
  },
  {
   "cell_type": "code",
   "execution_count": 38,
   "id": "8255f0f6-4939-4eda-964a-690f284d31ef",
   "metadata": {},
   "outputs": [
    {
     "name": "stdout",
     "output_type": "stream",
     "text": [
      "This is a short story.\n",
      "\n",
      "It is very short.\n",
      "\n",
      "It has only four lines.\n",
      "\n",
      "It ends with the word cat.\n",
      "\n"
     ]
    }
   ],
   "source": [
    "for line in lines:\n",
    "    print(line)"
   ]
  },
  {
   "cell_type": "code",
   "execution_count": 39,
   "id": "9d88841b-9584-4430-be06-9374d031181e",
   "metadata": {},
   "outputs": [
    {
     "name": "stdout",
     "output_type": "stream",
     "text": [
      "This is a short story.\n",
      "It is very short.\n",
      "It has only four lines.\n",
      "It ends with the word cat.\n"
     ]
    }
   ],
   "source": [
    "# we can pass a custom `end` keyword argument to avoid double newlines:\n",
    "for line in lines:\n",
    "    print(line, end=\"\")"
   ]
  },
  {
   "cell_type": "code",
   "execution_count": null,
   "id": "60099863-9c5d-4acf-afed-c956df934c98",
   "metadata": {},
   "outputs": [],
   "source": []
  },
  {
   "cell_type": "markdown",
   "id": "a4ee0116-9f4e-4921-b475-cb2ea89c4117",
   "metadata": {},
   "source": [
    "**Exercise**: write the code that counts the number of words in the string `text`.\n",
    "\n",
    "Here are some examples:\n",
    " - The number of words in `\"Hello world\"` is 2.\n",
    " - The number of words in `\"Whether it is nobler in the mind to suffer the slings and arrows of outrageous fortune, or to take arms against a sea of troubles, and by opposing end them?\"` is 30.\n",
    " - The number of words in `len.__doc__` is 8.\n",
    "\n",
    "Hint: the string method `.split()` might come in handy."
   ]
  },
  {
   "cell_type": "code",
   "execution_count": 40,
   "id": "fe066794-1839-4506-9c4b-03ac650afc2c",
   "metadata": {},
   "outputs": [],
   "source": [
    "text = \"Hello world\"\n",
    "\n",
    "# write here the code that counts the number of words in `text`\n",
    "# ..."
   ]
  },
  {
   "cell_type": "code",
   "execution_count": 41,
   "id": "4decb1cc-1628-4260-9375-3c9f6c195811",
   "metadata": {},
   "outputs": [
    {
     "data": {
      "text/plain": [
       "2"
      ]
     },
     "execution_count": 41,
     "metadata": {},
     "output_type": "execute_result"
    }
   ],
   "source": [
    "#@titlesolution\n",
    "text = \"Hello world\"\n",
    "# \n",
    "# text = len.__doc__\n",
    "# \n",
    "# text = \"\"\"Whether it is nobler in the mind to suffer\n",
    "# the slings and arrows of outrageous fortune,\n",
    "# or to take arms against a sea of troubles,\n",
    "# and by opposing end them?\"\"\"\n",
    "\n",
    "words = text.split()\n",
    "wordcount = 0\n",
    "for word in words:\n",
    "    wordcount = wordcount + 1\n",
    "wordcount"
   ]
  },
  {
   "cell_type": "code",
   "execution_count": null,
   "id": "4b6fefe9-bdf2-4670-b421-643907b46f84",
   "metadata": {},
   "outputs": [],
   "source": []
  },
  {
   "cell_type": "markdown",
   "id": "14fe4db2-3bf4-43df-8804-2692ffeffca5",
   "metadata": {},
   "source": [
    "**Exercise** write the Python code that `open`s the file `story.txt`, `read`s the contexts of the file to a string `text`, then computes their word count.\n",
    "\n",
    "Hint: reuse the code we saw earlier for opening file\n",
    "\n",
    "Hint 2: try the `.read()` method on file object\n",
    "\n",
    "Hint 3: reuse the code you wrote earlier for doing the word count of the string `text`"
   ]
  },
  {
   "cell_type": "code",
   "execution_count": 42,
   "id": "535a93f3-8e5e-4368-b578-6623a6ae4af5",
   "metadata": {},
   "outputs": [],
   "source": [
    "file = open(\"story.txt\")\n",
    "text = file.read()\n",
    "# ... (continue your code here)"
   ]
  },
  {
   "cell_type": "code",
   "execution_count": 43,
   "id": "3270bc4c-8896-4060-b191-cd1dc429a21c",
   "metadata": {},
   "outputs": [
    {
     "data": {
      "text/plain": [
       "20"
      ]
     },
     "execution_count": 43,
     "metadata": {},
     "output_type": "execute_result"
    }
   ],
   "source": [
    "#@titlesolution\n",
    "file = open(\"story.txt\")\n",
    "text = file.read()\n",
    "words = text.split()\n",
    "wordcount = 0\n",
    "for word in words:\n",
    "    wordcount = wordcount + 1\n",
    "wordcount"
   ]
  },
  {
   "cell_type": "code",
   "execution_count": null,
   "id": "bd464266-ee65-4606-9409-5e79e3ce244a",
   "metadata": {},
   "outputs": [],
   "source": []
  },
  {
   "cell_type": "markdown",
   "id": "8342e5d7-af43-4ee4-9602-966324a56c1b",
   "metadata": {
    "tags": []
   },
   "source": [
    "#### Example: bag of words representation\n",
    "\n",
    "Given the string `text`, we want to count the number of occurrences of each word in the text.\n",
    "The words \"HELLO\", \"Hello\", \"Hello,\" should all be considered the same as \"hello\".\n",
    "\n",
    "In other words, we want to convert all letters to lowercase and strip punctuation signs.\n",
    "\n",
    "Given the string `\"HELLO Hello Hello, hello\"`,\n",
    "the bag of words representation corresponds to the dictionary\n",
    "```\n",
    "wcounts = {\"hello\":4}\n",
    "```\n"
   ]
  },
  {
   "cell_type": "code",
   "execution_count": 44,
   "id": "4c294ff3-2848-4071-82dc-179d2938e6d1",
   "metadata": {},
   "outputs": [
    {
     "data": {
      "text/plain": [
       "{'hello': 1, 'world': 1}"
      ]
     },
     "execution_count": 44,
     "metadata": {},
     "output_type": "execute_result"
    }
   ],
   "source": [
    "text = \"Hello world\"\n",
    "# \n",
    "# text = len.__doc__\n",
    "# \n",
    "# text = \"\"\"Whether it is nobler in the mind to suffer\n",
    "# the slings and arrows of outrageous fortune,\n",
    "# or to take arms against a sea of troubles,\n",
    "# and by opposing end them?\"\"\"\n",
    "\n",
    "words = text.split()\n",
    "clean_words = [word.strip(\",.?\") for word in words]\n",
    "words_lower = [word.lower() for word in clean_words]\n",
    "\n",
    "wcounts = {}\n",
    "for word in words_lower:\n",
    "    if word not in wcounts:\n",
    "        wcounts[word] = 0\n",
    "    wcounts[word] += 1\n",
    "\n",
    "wcounts"
   ]
  },
  {
   "cell_type": "code",
   "execution_count": null,
   "id": "0dd554b3-61be-4e10-8e8c-65f222bef6a3",
   "metadata": {},
   "outputs": [],
   "source": []
  },
  {
   "cell_type": "markdown",
   "id": "c90d7d50-ebbe-4180-b52d-ca75c847c859",
   "metadata": {},
   "source": [
    "<a name=\"final_scores_and_grades_exercise\"></a>\n",
    "\n",
    "**Exercise** Write the Python code that computes the final score for each student,\n",
    "based on the data in [this spreadsheet](https://docs.google.com/spreadsheets/d/1_DRn3FXpLERVhO71pHsYbf_jwxQF8p54M6Niy3If3x0/edit#gid=0).\n",
    "The final score is computed as:\n",
    " - 50% homework assignments (each homework counts for 10%)\n",
    " - 20% midterm\n",
    " - 30% final\n",
    "\n",
    "Once you get the `score` for each student, \n",
    "you should also convert it to a letter `grade`.\n",
    "Print the student name, their final score, and their letter grade.\n",
    "\n",
    "Hint: use a for loop to iterate over all students\n",
    "\n",
    "Hint 2: reuse the code you wrote earlier for converting numeric `score` to letter `grade`"
   ]
  },
  {
   "cell_type": "code",
   "execution_count": 45,
   "id": "a3ace802-0462-4972-9133-b2da4773e9ef",
   "metadata": {},
   "outputs": [],
   "source": [
    "# via https://stackoverflow.com/a/33727897/127114\n",
    "# \n",
    "url_tpl = \"https://docs.google.com/spreadsheets/d/{key}/gviz/tq?tqx=out:csv&sheet={name}\"\n",
    "sheet_id = \"1_DRn3FXpLERVhO71pHsYbf_jwxQF8p54M6Niy3If3x0\"\n",
    "sheet_name = \"Grades\"\n",
    "url = url_tpl.format(key=sheet_id, name=sheet_name)\n",
    "\n",
    "import requests\n",
    "response = requests.get(url)\n",
    "\n",
    "# response.text"
   ]
  },
  {
   "cell_type": "code",
   "execution_count": 46,
   "id": "d943452b-ecdb-4a32-9c3d-43234c8ec463",
   "metadata": {},
   "outputs": [],
   "source": [
    "# Convert CSV text (contents of a file) to a list of dictionaries\n",
    "import csv, io\n",
    "studentsf = io.StringIO(response.text)\n",
    "rows = list(csv.DictReader(studentsf))\n",
    "# rows"
   ]
  },
  {
   "cell_type": "code",
   "execution_count": 47,
   "id": "51b7e3ff-6d6f-4012-9b35-fb76f6530488",
   "metadata": {},
   "outputs": [
    {
     "name": "stdout",
     "output_type": "stream",
     "text": [
      "<class 'dict'> 11 name = Haydon Jeffery got 12 on the first homework\n",
      "<class 'dict'> 11 name = Julie Beattie got 13 on the first homework\n",
      "<class 'dict'> 11 name = Malachy Hull got 15 on the first homework\n",
      "<class 'dict'> 11 name = Sheila Solis got 14 on the first homework\n",
      "<class 'dict'> 11 name = Joni Rowe got 12 on the first homework\n",
      "<class 'dict'> 11 name = Husna Millar got 11 on the first homework\n",
      "<class 'dict'> 11 name = Tonya Fleming got 11 on the first homework\n",
      "<class 'dict'> 11 name = Jak Rennie got 19 on the first homework\n",
      "<class 'dict'> 11 name = Noor Odonnell got 14 on the first homework\n",
      "<class 'dict'> 11 name = Krystal Dickerson got 13 on the first homework\n",
      "<class 'dict'> 11 name = Joe Pickett got 3 on the first homework\n",
      "<class 'dict'> 11 name = Alicia Rosario got 10 on the first homework\n",
      "<class 'dict'> 11 name = Ailish Hensley got 13 on the first homework\n",
      "<class 'dict'> 11 name = Aliyah Duncan got 12 on the first homework\n",
      "<class 'dict'> 11 name = Jad Kumar got 15 on the first homework\n",
      "<class 'dict'> 11 name = Margaret Parry got 14 on the first homework\n",
      "<class 'dict'> 11 name = Danica Chen got 11 on the first homework\n",
      "<class 'dict'> 11 name = Jose Hernandez got 13 on the first homework\n",
      "<class 'dict'> 11 name = Rimsha Carlson got 20 on the first homework\n",
      "<class 'dict'> 11 name = Giselle Thompson got 18 on the first homework\n"
     ]
    }
   ],
   "source": [
    "for row in rows:\n",
    "    # row is a dict containing a student's results\n",
    "    # the keys are ['id', 'name', 'hw1', 'hw2', 'hw3', 'midterm',\n",
    "    #               'hw4', 'hw5', 'final', 'score', 'grade']\n",
    "    # the values are strings\n",
    "    name = row[\"name\"]     # access value under the key \"name\" in this row\n",
    "    hw1 = int(row[\"hw1\"])  # access key \"hw1\" and convert it to `int`\n",
    "    print(type(row), len(row), \"name =\", name, \"got\", hw1, \"on the first homework\")\n",
    "    \n",
    "    # continue your code at the ... below\n",
    "    # PART 1: computing the final scrore\n",
    "    # PART 2: assigning a letter\n",
    "    # ..."
   ]
  },
  {
   "cell_type": "code",
   "execution_count": 48,
   "id": "47021217-4340-4642-8ffe-4b32318c9cc4",
   "metadata": {},
   "outputs": [
    {
     "name": "stdout",
     "output_type": "stream",
     "text": [
      "Processing results of Haydon Jeffery ...\n",
      "   - final score =  79.39999999999999\n",
      "   - final grade =  B+\n",
      "Processing results of Julie Beattie ...\n",
      "   - final score =  69.19999999999999\n",
      "   - final grade =  B-\n",
      "Processing results of Malachy Hull ...\n",
      "   - final score =  78.8\n",
      "   - final grade =  B+\n",
      "Processing results of Sheila Solis ...\n",
      "   - final score =  77.8\n",
      "   - final grade =  B+\n",
      "Processing results of Joni Rowe ...\n",
      "   - final score =  81.6\n",
      "   - final grade =  A-\n",
      "Processing results of Husna Millar ...\n",
      "   - final score =  77.89999999999999\n",
      "   - final grade =  B+\n",
      "Processing results of Tonya Fleming ...\n",
      "   - final score =  74.69999999999999\n",
      "   - final grade =  B\n",
      "Processing results of Jak Rennie ...\n",
      "   - final score =  86.2\n",
      "   - final grade =  A\n",
      "Processing results of Noor Odonnell ...\n",
      "   - final score =  79.5\n",
      "   - final grade =  B+\n",
      "Processing results of Krystal Dickerson ...\n",
      "   - final score =  78.2\n",
      "   - final grade =  B+\n",
      "Processing results of Joe Pickett ...\n",
      "   - final score =  46.0\n",
      "   - final grade =  F\n",
      "Processing results of Alicia Rosario ...\n",
      "   - final score =  77.3\n",
      "   - final grade =  B+\n",
      "Processing results of Ailish Hensley ...\n",
      "   - final score =  76.8\n",
      "   - final grade =  B+\n",
      "Processing results of Aliyah Duncan ...\n",
      "   - final score =  77.8\n",
      "   - final grade =  B+\n",
      "Processing results of Jad Kumar ...\n",
      "   - final score =  81.5\n",
      "   - final grade =  A-\n",
      "Processing results of Margaret Parry ...\n",
      "   - final score =  76.5\n",
      "   - final grade =  B+\n",
      "Processing results of Danica Chen ...\n",
      "   - final score =  79.4\n",
      "   - final grade =  B+\n",
      "Processing results of Jose Hernandez ...\n",
      "   - final score =  76.19999999999999\n",
      "   - final grade =  B+\n",
      "Processing results of Rimsha Carlson ...\n",
      "   - final score =  90.0\n",
      "   - final grade =  A\n",
      "Processing results of Giselle Thompson ...\n",
      "   - final score =  89.4\n",
      "   - final grade =  A\n"
     ]
    }
   ],
   "source": [
    "#@titlesolution\n",
    "import csv\n",
    "import io\n",
    "\n",
    "studentsf = io.StringIO(response.text)\n",
    "rows = list(csv.DictReader(studentsf))\n",
    "for row in rows:\n",
    "    # row is a dict containing a student's results\n",
    "    # the keys are ['id', 'name', 'hw1', 'hw2', 'hw3', 'midterm',\n",
    "    #               'hw4', 'hw5', 'final', 'score', 'grade']\n",
    "    # the values are strings\n",
    "    name = row[\"name\"]     # access value under the key \"name\" in this row\n",
    "    print(\"Processing results of\", name, \"...\")\n",
    "    \n",
    "    \n",
    "    # PART 1: computing the final scrore\n",
    "    ####################################################################################\n",
    "    # Convert all available student results to integers\n",
    "    hw1 = int(row[\"hw1\"])            # out of 20\n",
    "    hw2 = int(row[\"hw2\"])            # out of 20\n",
    "    hw3 = int(row[\"hw3\"])            # out of 20\n",
    "    midterm = int(row[\"midterm\"])    # out of 100\n",
    "    hw4 = int(row[\"hw4\"])            # out of 20\n",
    "    hw5 = int(row[\"hw5\"])            # out of 20\n",
    "    final = int(row[\"final\"])        # out of 100\n",
    "\n",
    "    # compute homeworks average out of 100,\n",
    "    # which is simple because each homework is out of 20 and there are 5 of them\n",
    "    homeworks = hw1 + hw2 + hw3 + hw4 + hw5\n",
    "    \n",
    "    # we now need to make a \"mix\" of homeworks, midterm, and final\n",
    "    # to create the student's final score (out of 100)\n",
    "    score = 0.5*homeworks + 0.2*midterm + 0.3*final\n",
    "    print(\"   - final score = \", score)\n",
    "    \n",
    "    \n",
    "    # PART 2: assigning a letter \n",
    "    ####################################################################################\n",
    "    if score >= 85:\n",
    "        grade = \"A\"\n",
    "    elif score >= 80:\n",
    "        grade = \"A-\"\n",
    "    elif score >= 75:\n",
    "        grade = \"B+\"\n",
    "    elif score >= 70:\n",
    "        grade = \"B\"\n",
    "    elif score >= 65:\n",
    "        grade = \"B-\"\n",
    "    elif score >= 60:\n",
    "        grade = \"C+\"\n",
    "    elif score >= 55:\n",
    "        grade = \"C\"\n",
    "    elif score >= 50:\n",
    "        grade = \"D\"\n",
    "    else:\n",
    "        grade = \"F\"\n",
    "    print(\"   - final grade = \", grade)\n",
    "    \n",
    "    \n",
    "    # PART 3: (optional) save the results in the `row` dictionary\n",
    "    ####################################################################################\n",
    "    row[\"score\"] = score\n",
    "    row[\"grade\"] = grade\n"
   ]
  },
  {
   "cell_type": "code",
   "execution_count": 49,
   "id": "2e84d030-f9a3-4dbb-88c6-9d18c387e85b",
   "metadata": {},
   "outputs": [],
   "source": [
    "# # Display last row\n",
    "# rows[-1]"
   ]
  },
  {
   "cell_type": "markdown",
   "id": "15d4b552-a4f3-477c-9d57-0392c6100542",
   "metadata": {},
   "source": [
    "### Lists of booleans\n",
    "\n",
    "Lists of `bool`eans can be \"joined\" together\n",
    "using `and` or `or` operations,\n",
    "but calling `all` and `any` list-related built-in functions.\n",
    "\n",
    "- `all(conditions)`: `and`-together all elements in list of conditions\n",
    "- `any(conditions)`: `or`-together all elements in list of conditions"
   ]
  },
  {
   "cell_type": "code",
   "execution_count": 50,
   "id": "57ed17ca-79e7-4c50-854a-3c222bf55f62",
   "metadata": {},
   "outputs": [],
   "source": [
    "# list of three conditions, all being True\n",
    "alltrue = [True, True, True]\n",
    "\n",
    "# list of conditions where only one condition is True\n",
    "onetrue = [True, False, False]\n",
    "\n",
    "# list of conditions that are all False\n",
    "allfalse = [False, False, False]"
   ]
  },
  {
   "cell_type": "code",
   "execution_count": 51,
   "id": "f1e13dd9-f092-4100-a794-40ec91ad1b1a",
   "metadata": {},
   "outputs": [
    {
     "data": {
      "text/plain": [
       "(True, False, False)"
      ]
     },
     "execution_count": 51,
     "metadata": {},
     "output_type": "execute_result"
    }
   ],
   "source": [
    "all(alltrue), all(onetrue), all(allfalse)"
   ]
  },
  {
   "cell_type": "code",
   "execution_count": 52,
   "id": "f01476f6-ec79-4e5b-b722-76e075d7b531",
   "metadata": {},
   "outputs": [
    {
     "data": {
      "text/plain": [
       "(True, True, False)"
      ]
     },
     "execution_count": 52,
     "metadata": {},
     "output_type": "execute_result"
    }
   ],
   "source": [
    "any(alltrue), any(onetrue), any(allfalse)"
   ]
  },
  {
   "cell_type": "code",
   "execution_count": null,
   "id": "c92a9a7d-a6b6-4d96-84fe-ef8b99625c80",
   "metadata": {},
   "outputs": [],
   "source": []
  },
  {
   "cell_type": "markdown",
   "id": "6fada858-1ea3-4505-a11b-e67f6e05e745",
   "metadata": {},
   "source": [
    "## Example function `head`\n",
    "\n",
    "We often want to print first few lines from a file to see what data it contains."
   ]
  },
  {
   "cell_type": "code",
   "execution_count": 53,
   "id": "29e553b6-c65b-42a4-8425-e824031b0d96",
   "metadata": {},
   "outputs": [],
   "source": [
    "# TODO"
   ]
  },
  {
   "cell_type": "code",
   "execution_count": null,
   "id": "847911b1-19a8-4d7e-acd4-44d220c8456f",
   "metadata": {},
   "outputs": [],
   "source": []
  },
  {
   "cell_type": "markdown",
   "id": "7cb14868-bd0b-43a3-a9aa-030209603619",
   "metadata": {},
   "source": [
    "## Function tricks"
   ]
  },
  {
   "cell_type": "markdown",
   "id": "9decd583-99e6-4180-9678-a4daa395636e",
   "metadata": {},
   "source": [
    "### Lambda functions\n",
    "\n",
    "Python supports and alternative syntax for defining functions,\n",
    "that is sometimes used to define simple functions.\n",
    "For example,\n",
    "let's say you need a function that computes the square of the input,\n",
    "which is written as $f(x) = x^2$ in math notation.\n",
    "\n",
    "You can use the standard Python syntax ...\n",
    "```Python\n",
    "def f(x):\n",
    "    return x**2\n",
    "f\n",
    "```\n",
    "\n",
    "... or you can use the `lambda` expression for defining that function:\n",
    "```Python\n",
    "lambda x: x**2\n",
    "```\n",
    "\n",
    "The general syntax is `lambda <function inputs>: <function output value>`."
   ]
  },
  {
   "cell_type": "markdown",
   "id": "4df8c33a-b608-4b88-b171-94f34d23b323",
   "metadata": {},
   "source": [
    "This `lambda`-shortcut for defining functions is useful\n",
    "when calling other functions that expect functions as their arguments.\n",
    "To illustrate what is going on,\n",
    "let's define a python function `plot_function(f)` that plots\n",
    "the graph of the function `f` it receives as its input.\n",
    "\n",
    "The graph of the function $f(x)$\n",
    "is the set of points $(x,f(x))$ in the Cartesian plane,\n",
    "over the interval of $x$ inputs (we'll use the $x$-limits -10 as the starting point and until x=10 as the end point)."
   ]
  },
  {
   "cell_type": "code",
   "execution_count": 54,
   "id": "701b92f6-9938-4517-8d32-65ea9a614100",
   "metadata": {},
   "outputs": [],
   "source": [
    "import numpy as np\n",
    "import matplotlib.pyplot as plt\n",
    "\n",
    "def plot_function(f, xlims=[-10,10]):\n",
    "    xstart, xend = xlims\n",
    "    xs = np.linspace(xstart, xend, 1000)\n",
    "    ys = [f(x) for x in xs]\n",
    "    plt.plot(xs,ys)    "
   ]
  },
  {
   "cell_type": "markdown",
   "id": "a4440447-e7d2-46c9-a5fd-fb2baf72d695",
   "metadata": {},
   "source": [
    "If we want to use the function `plot_function` to plot the graph of the function $f(x)=x^2$,\n",
    "we can define a Python function `f` using the standard `def`-syntax and then pass the function `f` to `plot_function` to generate the graph,\n",
    "as shown below:"
   ]
  },
  {
   "cell_type": "code",
   "execution_count": 55,
   "id": "4054433d-7f58-4862-98e8-3d8fb26079e5",
   "metadata": {},
   "outputs": [
    {
     "data": {
      "image/png": "[encoded data removed]",
      "text/plain": [
       "<Figure size 640x480 with 1 Axes>"
      ]
     },
     "metadata": {},
     "output_type": "display_data"
    }
   ],
   "source": [
    "def f(x):\n",
    "    return x**2\n",
    "\n",
    "plot_function(f)"
   ]
  },
  {
   "cell_type": "markdown",
   "id": "084f1dcc-aa75-4bc9-b1d6-9ce88bcfca06",
   "metadata": {},
   "source": [
    "Alternatively,\n",
    "we can use the `lambda`-shortcut Python syntax to define the function inline,\n",
    "when calling `plot_function`."
   ]
  },
  {
   "cell_type": "code",
   "execution_count": 56,
   "id": "05462c86-3e6b-4da0-a9c7-722ece7c9c9a",
   "metadata": {},
   "outputs": [
    {
     "data": {
      "image/png": "[encoded data removed]",
      "text/plain": [
       "<Figure size 640x480 with 1 Axes>"
      ]
     },
     "metadata": {},
     "output_type": "display_data"
    }
   ],
   "source": [
    "plot_function(lambda x: x**2)"
   ]
  },
  {
   "cell_type": "markdown",
   "id": "d6b0c4a3-6254-4fb4-99a8-6de99db9fd5a",
   "metadata": {},
   "source": [
    "The `lambda`-expression `lambda x: x**2` is equivalent to the Python function `f` we defined using the two-line `def`-statement.\n",
    "\n",
    "Both ways of defining `f` are the same `type` of object:"
   ]
  },
  {
   "cell_type": "code",
   "execution_count": 57,
   "id": "d41cdac7-7bb0-4c9d-baf1-34bdc62e7b59",
   "metadata": {},
   "outputs": [
    {
     "data": {
      "text/plain": [
       "function"
      ]
     },
     "execution_count": 57,
     "metadata": {},
     "output_type": "execute_result"
    }
   ],
   "source": [
    "type(f)"
   ]
  },
  {
   "cell_type": "code",
   "execution_count": 58,
   "id": "a8d6045c-712b-41b4-b040-8c3d7b4e3a3e",
   "metadata": {},
   "outputs": [
    {
     "data": {
      "text/plain": [
       "function"
      ]
     },
     "execution_count": 58,
     "metadata": {},
     "output_type": "execute_result"
    }
   ],
   "source": [
    "type(lambda x: x**2)"
   ]
  },
  {
   "cell_type": "code",
   "execution_count": null,
   "id": "ce38cc5a-4f64-43f1-86be-25688120a9d9",
   "metadata": {},
   "outputs": [],
   "source": []
  },
  {
   "cell_type": "markdown",
   "id": "ed1918c3-6c72-4a5f-90ca-dcb918442852",
   "metadata": {},
   "source": [
    "Since `f` and `lambda x: x**2` are both expressions of the type `function`,\n",
    "we can call both of them the same way (by passing in the argument in parentheses).\n",
    "\n",
    "For example, if we want to evaluate the function $f(x)$ at the input $x=3$,\n",
    "we can call `f(3)` ..."
   ]
  },
  {
   "cell_type": "code",
   "execution_count": 59,
   "id": "893317fb-6272-475f-8048-b61f82b22e57",
   "metadata": {},
   "outputs": [
    {
     "data": {
      "text/plain": [
       "9"
      ]
     },
     "execution_count": 59,
     "metadata": {},
     "output_type": "execute_result"
    }
   ],
   "source": [
    "f(3)"
   ]
  },
  {
   "cell_type": "markdown",
   "id": "282d9afc-9500-4417-a580-b7311262f1f1",
   "metadata": {},
   "source": [
    "or we could define the function $f(x)=x^2$ using an inline `lambda` expression,\n",
    "then call the result of the lambda expression by passing in the argument in parentheses."
   ]
  },
  {
   "cell_type": "code",
   "execution_count": 60,
   "id": "a117b214-6aef-45df-9fdf-d5d984174b20",
   "metadata": {},
   "outputs": [
    {
     "data": {
      "text/plain": [
       "9"
      ]
     },
     "execution_count": 60,
     "metadata": {},
     "output_type": "execute_result"
    }
   ],
   "source": [
    "(lambda x: x**2)(3)"
   ]
  },
  {
   "cell_type": "markdown",
   "id": "86e1f0f3-bd7e-402c-98e6-509cf9e884de",
   "metadata": {},
   "source": [
    "The `lambda`-shortcut for defining functions is not used often,\n",
    "but sometimes it is very convenient to be able to use inline function definition,\n",
    "so I want you to be familiar with this syntax."
   ]
  },
  {
   "cell_type": "markdown",
   "id": "cc3ea1c6-b4b4-4f05-80f2-02d8c45fada1",
   "metadata": {},
   "source": [
    "### Applying functions to lists (optional)\n",
    "\n",
    "Consider the math function $f(x)=x^2$.\n",
    "We'll identify the output of the function as the variable $y$.\n",
    "\n",
    "In Python, the function $f(x)=x^2$ is"
   ]
  },
  {
   "cell_type": "code",
   "execution_count": 61,
   "id": "9a0e9b2e-3b3f-4b50-b8a6-cc7eee511226",
   "metadata": {},
   "outputs": [],
   "source": [
    "def f(x):\n",
    "    return x**2"
   ]
  },
  {
   "cell_type": "markdown",
   "id": "be62bd97-d479-410a-9e12-fee3cf22f146",
   "metadata": {},
   "source": [
    "Suppose we want to compute the output values $y=f(x)$\n",
    "for each $x$ in the list of values $[1,2,3,4]$,\n",
    "which we'll call `xs` in the code."
   ]
  },
  {
   "cell_type": "code",
   "execution_count": 62,
   "id": "1c98bbc6-a1c7-4450-bf9f-beee5a9dddda",
   "metadata": {},
   "outputs": [],
   "source": [
    "xs = [1,2,3,4]"
   ]
  },
  {
   "cell_type": "markdown",
   "id": "e621d113-3fe4-46bf-af72-e4e07e550fb9",
   "metadata": {},
   "source": [
    "**Option A** You can use a `for` loop to compute the function output $y=f(x)$ for every $x$ in the list of values. First we create an empty list `ys` to store the outputs, then we `.append` to it the values one-by-one as we go though the for loop."
   ]
  },
  {
   "cell_type": "code",
   "execution_count": 63,
   "id": "ef74a6bc-9480-4b3c-bff8-19ca565ea8c2",
   "metadata": {},
   "outputs": [
    {
     "data": {
      "text/plain": [
       "[1, 4, 9, 16]"
      ]
     },
     "execution_count": 63,
     "metadata": {},
     "output_type": "execute_result"
    }
   ],
   "source": [
    "ys = []\n",
    "for x in xs:\n",
    "    y = f(x)\n",
    "    ys.append(y)\n",
    "\n",
    "ys"
   ]
  },
  {
   "cell_type": "markdown",
   "id": "f0cd1d5d-df89-4e37-9d3d-c97a8051f372",
   "metadata": {},
   "source": [
    "**Option B** \n",
    "We can shorten the code using the list comprehension syntax:"
   ]
  },
  {
   "cell_type": "code",
   "execution_count": 64,
   "id": "2bd5fd9b-128c-48b0-ab4b-9d3d47e97f76",
   "metadata": {},
   "outputs": [
    {
     "data": {
      "text/plain": [
       "[1, 4, 9, 16]"
      ]
     },
     "execution_count": 64,
     "metadata": {},
     "output_type": "execute_result"
    }
   ],
   "source": [
    "ys = [f(x) for x in xs]\n",
    "\n",
    "ys"
   ]
  },
  {
   "cell_type": "markdown",
   "id": "85a7071a-ad35-4f99-9abc-930bc69ba469",
   "metadata": {},
   "source": [
    "**Option C** \n",
    "A third alternative would be to use the function `map(f,xs)`\n",
    "which returns a list of the outputs `f(x)` for all `x` in the list `xs`."
   ]
  },
  {
   "cell_type": "code",
   "execution_count": 65,
   "id": "eb693e81-43d2-4595-a26d-99317308cf46",
   "metadata": {},
   "outputs": [
    {
     "data": {
      "text/plain": [
       "[1, 4, 9, 16]"
      ]
     },
     "execution_count": 65,
     "metadata": {},
     "output_type": "execute_result"
    }
   ],
   "source": [
    "ys = map(f, xs)\n",
    "\n",
    "list(ys)"
   ]
  },
  {
   "cell_type": "code",
   "execution_count": 66,
   "id": "c5c211a0-d0a3-4c36-b684-c1fd78bfeb3e",
   "metadata": {},
   "outputs": [],
   "source": [
    "# ALT. we can specify the function argument to map as a lambda expression\n",
    "# list(map(lambda x: x**2, xs))"
   ]
  },
  {
   "cell_type": "markdown",
   "id": "9c420024-42f5-4a43-b353-ad86a2acd63e",
   "metadata": {},
   "source": [
    "This notion of obtaining `ys` from `xs` for entire lists of values,\n",
    "instead of individual values like `x` and `y` is super useful.\n",
    "We'll see this idea come up again later on in this tutorial\n",
    "when we discuss the Python module NumPy,\n",
    "which allows you to do math operations with \"universal functions\"\n",
    "that do the right thing whether you input a number `x`,\n",
    "a list of numbers `xs`, or even more complicated data structures (e.g. two-dimensional matrices, or higher-dimensional tensors).\n",
    "\n",
    "<!-- The function `map` is sometimes called a higher order function,\n",
    "since it takes a function as one of its inputs. -->"
   ]
  },
  {
   "cell_type": "code",
   "execution_count": null,
   "id": "bfce20d7-82da-435a-a713-1401f3875917",
   "metadata": {},
   "outputs": [],
   "source": []
  },
  {
   "cell_type": "code",
   "execution_count": null,
   "id": "d478470f-add0-4b38-9a5d-71b52f563372",
   "metadata": {},
   "outputs": [],
   "source": []
  },
  {
   "attachments": {
    "d41cd497-3947-46de-8aee-5bfee616a406.png": {
     "image/png": "[encoded data removed]"
    },
    "f082c596-74ed-47c2-9081-8faf2984ccb2.png": {
     "image/png": "[encoded data removed]"
    }
   },
   "cell_type": "markdown",
   "id": "7a2a51fe-6bb2-448c-a6e7-761ae97f1707",
   "metadata": {},
   "source": [
    "## Running Python code interactively\n",
    "\n",
    "Notebooks are an example of \"interactive\" use of the Python interpreter.\n",
    "You enter some commands `2+3` in a code cell,\n",
    "press SHIFT+ENTER to run the code,\n",
    "and you see the result.\n",
    "\n",
    "There are several different ways you can access the Python interpreter.\n",
    "\n",
    "- `python` shell.\n",
    "  This is what you get in you install Python on your computer.\n",
    "  You can open a command prompt (terminal or cmd.exe) and type in the\n",
    "  command `python` to start the interactive Python shell.\n",
    "\n",
    "    ```\n",
    "    > python\n",
    "    Python 3.6.9 (default, Oct  6 2019, 21:40:49)\n",
    "    [GCC 4.2.1 Compatible Apple LLVM 9.1.0 (clang-902.0.39.1)] on darwin\n",
    "    Type \"help\", \"copyright\", \"credits\" or \"license\" for more information.\n",
    "    >>> 2+3\n",
    "    5\n",
    "    >>> \n",
    "    ```\n",
    "\n",
    "- `ipython` shell.\n",
    "   This is a fancier shell with line numbering and\n",
    "   many helpful commands.\n",
    "    ```\n",
    "    > ipython\n",
    "    Python 3.6.9 (default, Oct  6 2019, 21:40:49)\n",
    "    Type 'copyright', 'credits' or 'license' for more information\n",
    "    IPython 7.13.0 -- An enhanced Interactive Python. Type '?' for help.\n",
    "\n",
    "    In [1]: 2+3\n",
    "    Out[1]: 5\n",
    "\n",
    "    In [2]: \n",
    "    ```\n",
    "\n",
    "- Jupyter notebooks are web-based coding environments that allow you\n",
    "  to mix code cells and Markdown cells to create \"code documents.\"\n",
    "  Notebook files have an extension `.ipynb` and can be created using JupyterLab.\n",
    "  Several other systems like nbviewer, GitHub, VSCode, Google Colab,\n",
    "  can also be used \"open\" notebooks for viewing and \"run\" the notebooks interactively.  \n",
    "  <img src=\"attachment:f082c596-74ed-47c2-9081-8faf2984ccb2.png\" width=\"300\" alt=\"jupter-code-cell\">\n",
    "\n",
    "- Colab notebooks.\n",
    "  Google operates a service called \"Google Colaboratory\" (Colab for short)\n",
    "  that allows you to run Python code as Colab notebooks.\n",
    "  <img src=\"attachment:d41cd497-3947-46de-8aee-5bfee616a406.png\" width=\"200\" alt=\"colab code cell\">\n",
    "\n",
    "Note the \"Python calculator\" functionality works the same way in each case.\n",
    "The basic Python shell, the fancy `ipython` shell, and the notebook interface\n",
    "all offer a place to input your commands,\n",
    "they READ your command input,\n",
    "EVALUATE them (i.e. run them),\n",
    "PRINT the output of the commands execution.\n",
    "At the end of the READ-EVAL-PRINT steps,\n",
    "the Python in interpreter goes back into \"listening mode\" \n",
    "waiting for your next command input.\n",
    "\n",
    "The overall behaviour of the Python interpreter is an example of the\n",
    "READ-EVAL-PRINT Loop (REPL) that appears in professional human-computer interfaces.\n",
    "The command line prompt (terminal on UNIX or `cmd.exe` on Windows),\n",
    "database prompts,\n",
    "the JavaScript console in your browser,\n",
    "the Ruby interactive console `irb`,\n",
    "and any other interface which accepts commands.\n",
    "\n",
    "Given this multitude of choices,\n",
    "we've opted to use a Jypyter notebook to present this tutorial.\n",
    "Keep in mind you could run all the code examples in python shell,\n",
    "or ipython shell, or as a Colab notebook.\n",
    "\n",
    "While we're on the topic of running Python code,\n",
    "let's briefly mention the other ways Python applications can operate.\n",
    "This is completely out of scope for the remainder of the discussion in this tutorial,\n",
    "since we're just using Python as a fancy calculator,\n",
    "but I though I'd mention some of the other uses of Python codes."
   ]
  },
  {
   "cell_type": "code",
   "execution_count": 67,
   "id": "bdbe2f8d-86ec-49aa-ad6f-cfa95f598886",
   "metadata": {},
   "outputs": [
    {
     "data": {
      "text/html": [
       "<div>\n",
       "<style scoped>\n",
       "    .dataframe tbody tr th:only-of-type {\n",
       "        vertical-align: middle;\n",
       "    }\n",
       "\n",
       "    .dataframe tbody tr th {\n",
       "        vertical-align: top;\n",
       "    }\n",
       "\n",
       "    .dataframe thead th {\n",
       "        text-align: right;\n",
       "    }\n",
       "</style>\n",
       "<table border=\"1\" class=\"dataframe\">\n",
       "  <thead>\n",
       "    <tr style=\"text-align: right;\">\n",
       "      <th></th>\n",
       "      <th>student_ID</th>\n",
       "      <th>background</th>\n",
       "      <th>curriculum</th>\n",
       "      <th>effort</th>\n",
       "      <th>score</th>\n",
       "    </tr>\n",
       "  </thead>\n",
       "  <tbody>\n",
       "    <tr>\n",
       "      <th>0</th>\n",
       "      <td>1</td>\n",
       "      <td>arts</td>\n",
       "      <td>NaN</td>\n",
       "      <td>10.96</td>\n",
       "      <td>75</td>\n",
       "    </tr>\n",
       "    <tr>\n",
       "      <th>1</th>\n",
       "      <td>2</td>\n",
       "      <td>science</td>\n",
       "      <td>lecture</td>\n",
       "      <td>8.69</td>\n",
       "      <td>75</td>\n",
       "    </tr>\n",
       "  </tbody>\n",
       "</table>\n",
       "</div>"
      ],
      "text/plain": [
       "   student_ID background curriculum  effort  score\n",
       "0           1       arts        NaN   10.96     75\n",
       "1           2    science    lecture    8.69     75"
      ]
     },
     "execution_count": 67,
     "metadata": {},
     "output_type": "execute_result"
    }
   ],
   "source": [
    "import io\n",
    "import pandas as pd\n",
    "data2 = io.StringIO(\"\"\"\n",
    "student_ID,background,curriculum,effort,score\n",
    "1,arts,,10.96,75\n",
    "2,science,lecture,8.69,75\n",
    "\"\"\")\n",
    "df2 = pd.read_csv(data2)\n",
    "df2"
   ]
  },
  {
   "cell_type": "code",
   "execution_count": null,
   "id": "0452679d-5635-4bd5-83f1-167eb1656e7d",
   "metadata": {},
   "outputs": [],
   "source": []
  },
  {
   "cell_type": "code",
   "execution_count": null,
   "id": "7afc119c-9b62-4179-9f12-7421f7fe087f",
   "metadata": {},
   "outputs": [],
   "source": []
  },
  {
   "cell_type": "markdown",
   "id": "1fce2a08-27ed-4841-ba6a-a9dfd6907c40",
   "metadata": {},
   "source": [
    "# Bonus topics\n",
    "\n",
    "- writing standalone scripts (`argparse`)\n",
    "- Reading and writing files https://python-textbok.readthedocs.io/en/1.0/Python_Basics.html#files\n",
    "\n",
    "\n",
    "<!-- \n",
    "- `functools.partial` for currying functions (e.g sample-generator callables)\n",
    "- ???generic functions `*args` and `**kwargs`\n",
    "-->\n",
    "  \n",
    "\n"
   ]
  },
  {
   "cell_type": "markdown",
   "id": "08428872-c78d-4ca8-a6f5-7e19af2082c0",
   "metadata": {},
   "source": [
    "# Bonus topics"
   ]
  },
  {
   "cell_type": "markdown",
   "id": "0204704d-5e42-4374-8a28-bd5c33953e11",
   "metadata": {},
   "source": [
    "## Writing standalone scripts"
   ]
  },
  {
   "cell_type": "markdown",
   "id": "9748c381-f8fa-4dd3-b716-61b475516464",
   "metadata": {},
   "source": [
    "## For loop tricks\n",
    "\n",
    "Tricks:\n",
    "- `enumerate`: provides an index when iterating through a list.\n",
    "- `zip`: allows you to iterate over multiple lists in parallel."
   ]
  },
  {
   "cell_type": "markdown",
   "id": "7f0619a0-c968-482d-838e-a6d29f18e910",
   "metadata": {},
   "source": [
    "### Using `enumerate` to get `for`-loop with index\n",
    "\n",
    "Use `enumerate(somelist)` to iterate over tuples `(index, value)`,\n",
    "from a list of values from the list `somelist`.\n",
    "In each iteration, the `index` tells you the index of the `value`\n",
    "in the current iteration."
   ]
  },
  {
   "cell_type": "code",
   "execution_count": 68,
   "id": "7e3ebd68-cfb6-414b-acde-b7037fd024c1",
   "metadata": {},
   "outputs": [
    {
     "data": {
      "text/plain": [
       "[(0, 61), (1, 79), (2, 98), (3, 72)]"
      ]
     },
     "execution_count": 68,
     "metadata": {},
     "output_type": "execute_result"
    }
   ],
   "source": [
    "scores = [61, 79, 98, 72]\n",
    "list(enumerate(scores))"
   ]
  },
  {
   "cell_type": "code",
   "execution_count": 69,
   "id": "a7b75752-b8fa-4af4-8014-54098b2d1fda",
   "metadata": {},
   "outputs": [
    {
     "name": "stdout",
     "output_type": "stream",
     "text": [
      "Processing score 61 which is at index 0 in the list\n",
      "Processing score 79 which is at index 1 in the list\n",
      "Processing score 98 which is at index 2 in the list\n",
      "Processing score 72 which is at index 3 in the list\n"
     ]
    }
   ],
   "source": [
    "# example usage\n",
    "for idx, score in enumerate(scores):\n",
    "    # this for loop has two variables index and score\n",
    "    print(\"Processing score\", score, \"which is at index\", idx, \"in the list\")"
   ]
  },
  {
   "cell_type": "code",
   "execution_count": null,
   "id": "758c00c7-4f28-4fd6-ad6b-2d5129f9533b",
   "metadata": {},
   "outputs": [],
   "source": []
  },
  {
   "cell_type": "markdown",
   "id": "5ac76928-72fe-4b31-9c80-ad1909015758",
   "metadata": {},
   "source": [
    "### Using `zip`\n",
    "\n",
    "Use `zip(list1,list2)` to get an iterator over tuples `(value1, value2)`,\n",
    "where `value1` and `value2` are elements taken from `list1` and `list2`,\n",
    "in parallel, one at a time.\n",
    "\n",
    "The name \"zip\" is reference to the way a zipper joins together the teeth of the two sides of the zipper when it is closing."
   ]
  },
  {
   "cell_type": "code",
   "execution_count": 70,
   "id": "9125138e-11d9-4eeb-b2de-e497631c5248",
   "metadata": {},
   "outputs": [
    {
     "data": {
      "text/plain": [
       "[(1, 'a'), (2, 'b'), (3, 'c')]"
      ]
     },
     "execution_count": 70,
     "metadata": {},
     "output_type": "execute_result"
    }
   ],
   "source": [
    "# example 1\n",
    "list( zip([1,2,3], [\"a\",\"b\",\"c\"]) )"
   ]
  },
  {
   "cell_type": "code",
   "execution_count": 71,
   "id": "41b17ebb-0293-4729-83ce-eb1e2081b210",
   "metadata": {},
   "outputs": [
    {
     "data": {
      "text/plain": [
       "[(1, 4), (2, 5), (3, 6)]"
      ]
     },
     "execution_count": 71,
     "metadata": {},
     "output_type": "execute_result"
    }
   ],
   "source": [
    "# example 2\n",
    "list1 = [1, 2, 3]\n",
    "list2 = [4, 5, 6]\n",
    "\n",
    "list(zip(list1, list2))"
   ]
  },
  {
   "cell_type": "code",
   "execution_count": 72,
   "id": "577cd7d4-9b76-43dd-a009-6bcbb4724333",
   "metadata": {},
   "outputs": [
    {
     "name": "stdout",
     "output_type": "stream",
     "text": [
      "The sum of 1 and 4 is 5\n",
      "The sum of 2 and 5 is 7\n",
      "The sum of 3 and 6 is 9\n"
     ]
    }
   ],
   "source": [
    "# compute the sum of the matching values in two lists\n",
    "for value1, value2 in zip(list1, list2):\n",
    "    print(\"The sum of\", value1, \"and\", value2, \"is\", value1+value2)"
   ]
  },
  {
   "cell_type": "code",
   "execution_count": null,
   "id": "592e71ca-cf23-481c-a088-314ae1b19019",
   "metadata": {},
   "outputs": [],
   "source": []
  },
  {
   "cell_type": "markdown",
   "id": "8f5eacb3-d1f5-467c-ba1c-72cb36bde34c",
   "metadata": {},
   "source": [
    "## Functional programming helpers\n",
    "\n",
    "`functools.partial` for currying functions (e.g sample-generator callables)\n"
   ]
  },
  {
   "cell_type": "code",
   "execution_count": null,
   "id": "d1d6cf33-8cbf-495b-beb0-026a847c5926",
   "metadata": {},
   "outputs": [],
   "source": []
  },
  {
   "cell_type": "markdown",
   "id": "36d2207f-096b-46bb-a23b-7e0d13b56638",
   "metadata": {
    "tags": []
   },
   "source": [
    "## List-like objects = iterables\n",
    "\n",
    "The term \"iterable\" is used in Python to refer to any list-like object that can be used in a `for`-loop.\n",
    "\n",
    "Examples of iterables:\n",
    "- strings\n",
    "- dictionary keys, dictionary values, or dictionary (key,value) items\n",
    "- sets\n",
    "- `range` (lazy generator for lists of integers)\n",
    "\n",
    "<!--\n",
    "https://www.pythonlikeyoumeanit.com/Module2_EssentialsOfPython/Iterables.html#Functions-that-act-on-iterables\n",
    "-->"
   ]
  },
  {
   "cell_type": "code",
   "execution_count": 73,
   "id": "7be7f905-7a52-4b5a-938c-0495f5239cc9",
   "metadata": {},
   "outputs": [
    {
     "data": {
      "text/plain": [
       "range(0, 4)"
      ]
     },
     "execution_count": 73,
     "metadata": {},
     "output_type": "execute_result"
    }
   ],
   "source": [
    "range(0, 4)"
   ]
  },
  {
   "cell_type": "code",
   "execution_count": 74,
   "id": "0479c0c2-25ae-4558-b485-e1bd795cf221",
   "metadata": {},
   "outputs": [
    {
     "data": {
      "text/plain": [
       "[0, 1, 2, 3]"
      ]
     },
     "execution_count": 74,
     "metadata": {},
     "output_type": "execute_result"
    }
   ],
   "source": [
    "list(range(0, 4))"
   ]
  },
  {
   "cell_type": "code",
   "execution_count": null,
   "id": "d50e1ef2-1de8-4d58-a2ae-584c44f4504f",
   "metadata": {},
   "outputs": [],
   "source": []
  },
  {
   "cell_type": "markdown",
   "id": "15cc35e6-7dde-4ba6-b2f6-98f2ae3b2661",
   "metadata": {},
   "source": [
    "### Iterating over dictionaries\n",
    "\n"
   ]
  },
  {
   "cell_type": "code",
   "execution_count": 75,
   "id": "dff8f341-4f31-49bd-b71d-40ee7bedded3",
   "metadata": {},
   "outputs": [],
   "source": [
    "profile = {\"first_name\":\"Julie\", \"last_name\":\"Tremblay\", \"score\":98}"
   ]
  },
  {
   "cell_type": "code",
   "execution_count": 76,
   "id": "f80ef621-43f1-49fd-ba91-f5b47c9110fb",
   "metadata": {},
   "outputs": [
    {
     "data": {
      "text/plain": [
       "['first_name', 'last_name', 'score']"
      ]
     },
     "execution_count": 76,
     "metadata": {},
     "output_type": "execute_result"
    }
   ],
   "source": [
    "list(profile.keys())"
   ]
  },
  {
   "cell_type": "code",
   "execution_count": 77,
   "id": "8d106630-f11e-4d59-a54e-c54124b2dc05",
   "metadata": {},
   "outputs": [
    {
     "data": {
      "text/plain": [
       "['first_name', 'last_name', 'score']"
      ]
     },
     "execution_count": 77,
     "metadata": {},
     "output_type": "execute_result"
    }
   ],
   "source": [
    "# ALT.\n",
    "list(profile)"
   ]
  },
  {
   "cell_type": "code",
   "execution_count": 78,
   "id": "1cdf1f32-75bb-43ad-97fb-fdfd8414f5a4",
   "metadata": {},
   "outputs": [
    {
     "data": {
      "text/plain": [
       "['Julie', 'Tremblay', 98]"
      ]
     },
     "execution_count": 78,
     "metadata": {},
     "output_type": "execute_result"
    }
   ],
   "source": [
    "list(profile.values())"
   ]
  },
  {
   "cell_type": "code",
   "execution_count": 79,
   "id": "cd683981-bf71-456a-8c26-96c46e33e088",
   "metadata": {},
   "outputs": [
    {
     "data": {
      "text/plain": [
       "[('first_name', 'Julie'), ('last_name', 'Tremblay'), ('score', 98)]"
      ]
     },
     "execution_count": 79,
     "metadata": {},
     "output_type": "execute_result"
    }
   ],
   "source": [
    "list(profile.items())"
   ]
  },
  {
   "cell_type": "markdown",
   "id": "b205bc22-cdeb-4b5b-bea6-c7396f0197f0",
   "metadata": {},
   "source": [
    "We'll talk more about dictionaries [later on](#Dictionaries-and-other-data-structures)."
   ]
  },
  {
   "cell_type": "code",
   "execution_count": null,
   "id": "09deaee6-7c3a-4ce7-bbf2-685a97948fd3",
   "metadata": {},
   "outputs": [],
   "source": []
  },
  {
   "cell_type": "markdown",
   "id": "47f51643-1a02-4640-b883-821b6e49757b",
   "metadata": {
    "tags": []
   },
   "source": [
    "### Converting iterables to lists\n",
    "\n",
    "Under the hood, Python uses all kinds of list-like data structures called iterables\".\n",
    "We don't need to talk about these or understand how they work—all you need to know is they are behave like lists.\n",
    "\n",
    "In the code examples above,\n",
    "we converted several fancy list-like data structures into ordinary lists,\n",
    "by wrapping them in a call to the function `list`,\n",
    "in order to display the results.\n",
    "\n",
    "Let's look at why need to use `list(iterable)` when printing,\n",
    "instead of just `iterable`."
   ]
  },
  {
   "cell_type": "markdown",
   "id": "425cd4fd-2e22-4683-bebb-d5b01aeb1e13",
   "metadata": {},
   "source": [
    "For examples,\n",
    "the set of keys for a dictionary is a `dict_keys` iterable object:"
   ]
  },
  {
   "cell_type": "code",
   "execution_count": 80,
   "id": "6fb2839d-ed3e-4506-8aa0-1ee9b16d3a9e",
   "metadata": {},
   "outputs": [
    {
     "data": {
      "text/plain": [
       "dict_keys(['first_name', 'last_name', 'score'])"
      ]
     },
     "execution_count": 80,
     "metadata": {},
     "output_type": "execute_result"
    }
   ],
   "source": [
    "profile.keys()"
   ]
  },
  {
   "cell_type": "code",
   "execution_count": 81,
   "id": "d4441d9e-9017-4bd6-8d84-d574cea3bc1f",
   "metadata": {},
   "outputs": [
    {
     "data": {
      "text/plain": [
       "dict_keys"
      ]
     },
     "execution_count": 81,
     "metadata": {},
     "output_type": "execute_result"
    }
   ],
   "source": [
    "type(profile.keys())"
   ]
  },
  {
   "cell_type": "markdown",
   "id": "b356d4db-eb27-441d-88df-c6e50dd3e3ab",
   "metadata": {},
   "source": [
    "I know, right? What the hell is `dict_keys`?\n",
    "I certainly don't want to have to explain that...\n",
    "\n",
    "\n",
    "... so instead, you'll see this in the code:"
   ]
  },
  {
   "cell_type": "code",
   "execution_count": 82,
   "id": "0be25aa0-1e37-42e0-93bf-b5cd2211d27d",
   "metadata": {},
   "outputs": [
    {
     "data": {
      "text/plain": [
       "['first_name', 'last_name', 'score']"
      ]
     },
     "execution_count": 82,
     "metadata": {},
     "output_type": "execute_result"
    }
   ],
   "source": [
    "list(profile.keys())"
   ]
  },
  {
   "cell_type": "code",
   "execution_count": 83,
   "id": "5e94f5c6-bb30-4155-8b2a-24ad36b3358f",
   "metadata": {},
   "outputs": [
    {
     "data": {
      "text/plain": [
       "list"
      ]
     },
     "execution_count": 83,
     "metadata": {},
     "output_type": "execute_result"
    }
   ],
   "source": [
    "type(list(profile.keys()))"
   ]
  },
  {
   "cell_type": "code",
   "execution_count": null,
   "id": "4baaab91-24ec-404d-932c-b5d114d30dc1",
   "metadata": {},
   "outputs": [],
   "source": []
  },
  {
   "cell_type": "markdown",
   "id": "a563bc60-a41f-4812-b660-0c7fc3ea8f28",
   "metadata": {},
   "source": [
    "## Generic function arguments\n",
    "\n",
    "functions with `*args` and `**kwargs` arguments"
   ]
  },
  {
   "cell_type": "code",
   "execution_count": null,
   "id": "979fa47e-d96a-4492-9527-bd4bebd8ca42",
   "metadata": {},
   "outputs": [],
   "source": []
  },
  {
   "cell_type": "markdown",
   "id": "81543308-5dce-4dbf-b24f-3b7a085077d9",
   "metadata": {},
   "source": [
    "## Python programming\n",
    "\n",
    "Coding a.k.a. programming, software engineering, or software development is a broad topic,\n",
    "which is out of scope for this short tutorial.\n",
    "If you're interested to learn more about coding,\n",
    "see the article [What is code?](https://www.bloomberg.com/graphics/2015-paul-ford-what-is-code/) by Paul Ford.\n",
    "Think mobile apps, web apps, APIs, algorithms, CPUs, GPUs, SysOps, etc.\n",
    "There is a lot to learn about applications enabled by learning basic coding skills,\n",
    "it's almost like reading and writing skills.\n",
    "\n",
    "Learning programming usually takes several years,\n",
    "but you don't need to become a professional coder to start using Python for simple tasks,\n",
    "the same way you don't need to become a professional author to use writing for everyday tasks.\n",
    "If you reached this far in the tutorial,\n",
    "you know enough about basic Python to continue your journey.\n",
    "\n",
    "In particular, you can read the other two tutorials that appear in the **No Bullshit Guide to Statistics**:\n",
    "- Pandas (see [pandas_tutorial.ipynb](./pandas_tutorial.ipynb))\n",
    "- Seaborn (see [seaborn_tutorial.ipynb](./seaborn_tutorial.ipynb))  "
   ]
  },
  {
   "cell_type": "code",
   "execution_count": null,
   "id": "5229d202-2b30-4e07-b04a-05288acd30d3",
   "metadata": {},
   "outputs": [],
   "source": []
  },
  {
   "cell_type": "markdown",
   "id": "dc354d22-7cb2-40ae-882d-d00c584684cd",
   "metadata": {
    "tags": []
   },
   "source": []
  },
  {
   "cell_type": "code",
   "execution_count": null,
   "id": "aad5abc1-a911-4dcc-a947-99fb471a642e",
   "metadata": {},
   "outputs": [],
   "source": []
  },
  {
   "cell_type": "code",
   "execution_count": null,
   "id": "b453874d-f9d0-4bb3-9e59-6f9f159eb7ec",
   "metadata": {},
   "outputs": [],
   "source": []
  },
  {
   "cell_type": "code",
   "execution_count": null,
   "id": "5ffd1d05-5c37-48e5-80d0-df3cef7130c7",
   "metadata": {},
   "outputs": [],
   "source": []
  }
 ],
 "metadata": {
  "kernelspec": {
   "display_name": "Python 3 (ipykernel)",
   "language": "python",
   "name": "python3"
  },
  "language_info": {
   "codemirror_mode": {
    "name": "ipython",
    "version": 3
   },
   "file_extension": ".py",
   "mimetype": "text/x-python",
   "name": "python",
   "nbconvert_exporter": "python",
   "pygments_lexer": "ipython3",
   "version": "3.9.4"
  }
 },
 "nbformat": 4,
 "nbformat_minor": 5
}
