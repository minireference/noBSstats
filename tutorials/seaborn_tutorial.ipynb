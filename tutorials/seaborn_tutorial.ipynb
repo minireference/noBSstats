{
 "cells": [
  {
   "cell_type": "markdown",
   "id": "afeddd85-7c0a-4dd6-9fb0-401f9e8a2211",
   "metadata": {},
   "source": [
    "# Appendix E — Seaborn tutorial\n",
    "\n",
    "\n",
    "WIP"
   ]
  },
  {
   "cell_type": "markdown",
   "id": "c0a3ec94-4538-4339-9829-53e132307b43",
   "metadata": {},
   "source": [
    "# Links\n",
    "\n",
    "Here are some links to learning resources for Seaborn and data visualization techniques.\n",
    "\n",
    "\n",
    "## Official docs\n",
    "\n",
    "- An introduction to seaborn  \n",
    "  http://seaborn.pydata.org/introduction.html\n",
    "\n",
    "- Seaborn tutorials featuring lots of useful plot examples  \n",
    "  https://seaborn.pydata.org/tutorial.html\n",
    "\n",
    "- Gallery of data visualizations produced using Seaborn  \n",
    "  https://seaborn.pydata.org/examples/index.html\n",
    "\n",
    "\n",
    "\n",
    "## Tutorials\n",
    "\n",
    "- Python Seaborn Tutorial For Beginners  \n",
    "  https://www.datacamp.com/community/tutorials/seaborn-python-tutorial\n",
    "\n",
    "- The Ultimate Python Seaborn Tutorial  \n",
    "  https://elitedatascience.com/python-seaborn-tutorial\n",
    "  \n",
    "- Python Seaborn Tutorial  \n",
    "  https://www.geeksforgeeks.org/python-seaborn-tutorial/\n",
    "\n",
    "\n",
    "\n",
    "## Video tutorials\n",
    "\n",
    "- Intro to Seaborn by Kimberly Fessel  (excellent!)  \n",
    "  https://www.youtube.com/playlist?list=PLtPIclEQf-3cG31dxSMZ8KTcDG7zYng1j  \n",
    "  see also [notebooks](https://github.com/kimfetti/Videos/tree/master/Seaborn) from the videos.\n",
    "\n",
    "- Seaborn Tutorial 2021 by Derek Banas  \n",
    "  https://www.youtube.com/watch?v=6GUZXDef2U0\n",
    "  \n",
    "- Data Visualisation with Seaborn Crash Course by Valentine Mwangi  \n",
    "  https://www.youtube.com/watch?v=zafPvR4MmBA\n",
    "  See also the [colab notebook](https://colab.research.google.com/drive/1M0PT25aKwetQbADNxEfDQYpeJ0KKpr70) for the course.\n",
    "\n"
   ]
  },
  {
   "cell_type": "code",
   "execution_count": null,
   "id": "35e7bf9f-a76b-42c3-9627-1ff18f70c337",
   "metadata": {},
   "outputs": [],
   "source": []
  }
 ],
 "metadata": {
  "kernelspec": {
   "display_name": "Python 3 (ipykernel)",
   "language": "python",
   "name": "python3"
  },
  "language_info": {
   "codemirror_mode": {
    "name": "ipython",
    "version": 3
   },
   "file_extension": ".py",
   "mimetype": "text/x-python",
   "name": "python",
   "nbconvert_exporter": "python",
   "pygments_lexer": "ipython3",
   "version": "3.9.4"
  }
 },
 "nbformat": 4,
 "nbformat_minor": 5
}
