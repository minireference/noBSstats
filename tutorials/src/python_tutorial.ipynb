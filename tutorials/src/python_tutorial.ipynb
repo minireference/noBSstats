{
 "cells": [
  {
   "cell_type": "markdown",
   "id": "bbeb5139-9063-431f-a542-9cc550fdf80e",
   "metadata": {},
   "source": [
    "# Appendix C — Python tutorial\n",
    "\n",
    "Click the binder button [![Binder](https://mybinder.org/badge_logo.svg)](https://mybinder.org/v2/gh/minireference/noBSstats/HEAD?labpath=tutorials/python_tutorial.ipynb) or this link [`bit.ly/pytut3`](https://bit.ly/pytut3) to run this notebooks interactively.\n",
    "\n",
    "<!-- (highly recommended, for a hands-on experience, which is much better for learning). -->"
   ]
  },
  {
   "cell_type": "markdown",
   "id": "274ce8cd-0a05-46ba-9464-a2faf3bb47e5",
   "metadata": {},
   "source": [
    "# Introduciton\n",
    "\n",
    "## Python as a fancy calculator"
   ]
  },
  {
   "cell_type": "markdown",
   "id": "fb464c8f-ec24-44fd-8a79-0b5825d6948c",
   "metadata": {},
   "source": [
    "In this tutorial,\n",
    "I'll show you the basics of the Python programming language.\n",
    "Don't worry, learning Python is not complicated.\n",
    "You're not going to become a programmer or anything like that, \n",
    "you're just **learning to use Python as a calculator**."
   ]
  },
  {
   "cell_type": "markdown",
   "id": "ce623593-e1fe-43df-96e1-e3cd697d5539",
   "metadata": {},
   "source": [
    "**Calculator analogy.** Python commands are similar to the commands you give to a calculator.\n",
    "The same way a calculator has different buttons for the various arithmetic operations,\n",
    "the Python language has a number of commands you can \"run\" or \"execute.\"\n",
    "Python is more powerful than a calculator because you can input multiple lines of commands at once\n",
    "and allows you to do complicated multi-step calculations.\n",
    "\n",
    "<!-- Python allows you to perform procedures with multiple steps and repeatitions. -->"
   ]
  },
  {
   "cell_type": "markdown",
   "id": "8615be8f-f3f2-4c2e-bda6-40460e43ba9b",
   "metadata": {},
   "source": [
    "## Why learn Python?\n",
    "\n",
    "Here are some things you can do using Python:\n",
    "\n",
    "- Python is a very powerful \"basic\" calculator\n",
    "  that allows you to compute arithmetic expression involving math operations\n",
    "  like `+`, `-`, `*`, `/`, and other math functions.\n",
    "- Python is a useful graphical calculator:\n",
    "  you can plot functions and visualize data.\n",
    "- Python is an extensible, programmable calculator\n",
    "  that allows you to define new functions and operations.\n",
    "- Python gives you access to extension modules\n",
    "  for numerical computing (`numpy`),\n",
    "  scientific computing (`scipy`),\n",
    "  and symbolic math calculations (`sympy`).\n",
    "- Python provides functions for data management (`pandas`), \n",
    "  data visualization (`seaborn`),\n",
    "  and statistics (`statsmodels`).\n",
    "\n",
    "If any of these seems useful to you,\n",
    "then read on to get started learning Python!"
   ]
  },
  {
   "cell_type": "markdown",
   "id": "ac01c247-3476-4ce9-94e4-96796683f412",
   "metadata": {
    "tags": []
   },
   "source": [
    "# Getting started\n",
    "\n",
    "## Installing JupyterLab Desktop\n",
    "\n",
    "**JupyterLab** is a computing platform that makes it easy to run Python code in your browser. JupyterLab is provides a notebook interface that allows you run and edit Python commands interactively, which makes it the perfect tool for learning Python. \n",
    "\n",
    "**JupyterLab Desktop** is a convenient all-in-one application that you can install on your computer to run JupyterLab.\n",
    "You can download JupyterLab Desktop from the following page on GitHub:\n",
    "[`https://github.com/jupyterlab/jupyterlab-desktop`](https://github.com/jupyterlab/jupyterlab-desktop#jupyterlab-desktop).\n",
    "Choose the download link for your operating system.\n",
    "After the installation completes and you launch the JupyterLab application,\n",
    "you should see a launcher window similar to the one shown below.\n",
    "\n",
    "![](./attachments/jupyter-lab-desktop-launcher.png)\n",
    "\n",
    "The JupyterLab interface with the **File browser** shown in the left sidebar.\n",
    "The box (1) indicates the current working directory.\n",
    "The box (2) shows the list of files in the current directory.\n",
    "Use the **Python 3 (ipykernel)** button (3) to create a new Python 3 notebook."
   ]
  },
  {
   "cell_type": "markdown",
   "id": "1e6121d9-4a15-4b2a-b6eb-2928973e4417",
   "metadata": {
    "tags": []
   },
   "source": [
    "## Notebooks are interactive documents\n",
    "\n",
    "A Jupyter notebook consists of a sequence of cells,\n",
    "similar to how a text document consists of a series of paragraphs.\n",
    "The notebook you created has a single empty code cell,\n",
    "which is ready to accept Python commands.\n",
    "Type in the expression `2 + 3` into the cell\n",
    "then press **SHIFT+ENTER** to run the code.\n",
    "You should see the result of the calculation displayed on a new line immediately below your input.\n",
    "The cursor will automatically move to a new code cell,\n",
    "as shown in the screenshot below.\n",
    "\n",
    "![](./attachments/jupyter-lab-first-notebook.png)\n",
    "\n",
    "Box (1) shows a code cell and its output.\n",
    "The cursor is currently in the cell highlighted in box (2).\n",
    "The label (3) tells us the notebook filename is `Untitled.ipynb`.\n",
    "The buttons in box (4) control the notebook execution:\n",
    "**run**, **stop**, **restart**, and **run all**.\n",
    "The **play** button executes the code in the current cell,\n",
    "and is equivalent to pressing **SHIFT+ENTER**.\n",
    "The **stop** and **restart** buttons\n",
    "can be used to interrupt a computation that is stuck or taking too long.\n",
    "The **run all** button is useful when you want to rerun all the cells in the notebook from top to bottom."
   ]
  },
  {
   "cell_type": "markdown",
   "id": "bef4b786-c7ab-4a5c-822a-0dea036071c1",
   "metadata": {},
   "source": [
    "## Code cells contain Python commands\n",
    "\n",
    "The Python *command prompt* is where you enter Python commands.\n",
    "Each code cell in a notebook is a command prompt\n",
    "that allows you to enter Python commands and \"run\" them by pressing **SHIFT+ENTER**,\n",
    "or by clicking the play button in the toolbar.\n",
    "\n",
    "Let's see the example commands from screenshot again.\n",
    "We can make Python compute the sum of two numbers by entering `2+3` in a code cell,\n",
    "then pressing **SHIFT+ENTER**."
   ]
  },
  {
   "cell_type": "code",
   "execution_count": 1,
   "id": "aee41fcb-590e-46c1-9a78-a42123e8039f",
   "metadata": {},
   "outputs": [
    {
     "data": {
      "text/plain": [
       "5"
      ]
     },
     "execution_count": 1,
     "metadata": {},
     "output_type": "execute_result"
    }
   ],
   "source": [
    "2 + 3"
   ]
  },
  {
   "cell_type": "markdown",
   "id": "c04a2057-1046-4078-a193-3e0d31c28493",
   "metadata": {},
   "source": [
    "When you *run* a code cell,\n",
    "you're telling the computer to **evaluate** the Python commands it contains.\n",
    "Python then displays the result of the computation immediately below.\n",
    "In the above example,\n",
    "the input is the expression `2 + 3`,\n",
    "and the output is the number `5`.\n",
    "\n",
    "Let's now compute a more complicated math expression $(1+4)^2 - 3$,\n",
    "which is equivalent to the following Python expression:"
   ]
  },
  {
   "cell_type": "code",
   "execution_count": 2,
   "id": "5a6aed0f-42af-4d97-948e-d5ead5a03dcc",
   "metadata": {},
   "outputs": [
    {
     "data": {
      "text/plain": [
       "22"
      ]
     },
     "execution_count": 2,
     "metadata": {},
     "output_type": "execute_result"
    }
   ],
   "source": [
    "(1+4)**2 - 3"
   ]
  },
  {
   "cell_type": "markdown",
   "id": "719096a2-490a-45e1-85ba-f7503a384f0b",
   "metadata": {},
   "source": [
    "Note the Python syntax for math operations is similar to the notation we use in math:\n",
    "addition is `+`, subtraction is `-`, multiplication is `*`, division is `/`, and we use the parentheses `(` and `)` to tell Python to compute `1+4` first. The syntax for exponents is a little unusual: we use two multiplication signs (asterisks): $a^n$ = `a**n`.\n",
    "\n"
   ]
  },
  {
   "cell_type": "markdown",
   "id": "4a483666-7524-47bc-8c37-5ade0bf6baa3",
   "metadata": {},
   "source": [
    "Running a code cell is similar to using the EQUALS button on a calculator:\n",
    "whatever math expression you entered,\n",
    "the calculator will compute its value and display its result.\n",
    "The interaction with the Python interpreter is similar:\n",
    "you input some Python code (which can be written on multiple lines),\n",
    "then the computer runs your code\n",
    "and displays the result of the final calculation on the screen."
   ]
  },
  {
   "cell_type": "markdown",
   "id": "7cc40c9c-1d3d-4afe-b3d4-24e770ee36b1",
   "metadata": {},
   "source": [
    "### Your turn to try this!\n",
    "\n",
    "Try typing in an expression involving numbers and operations in the following cell, then run it by pressing **SHIFT+ENTER** or by using the **play** button in the toolbar."
   ]
  },
  {
   "cell_type": "code",
   "execution_count": null,
   "id": "d56aa3c9-1910-47dc-a1b4-ee1ff34d360d",
   "metadata": {},
   "outputs": [],
   "source": []
  },
  {
   "cell_type": "markdown",
   "id": "ff14e218-8887-4ee3-99d3-ad5203ca75dc",
   "metadata": {},
   "source": [
    "This remainder of this tutorial notebook contains many code cells\n",
    "pre-filled with examples of Python commands for you to run.\n",
    "You also edit the contents of any code cell,\n",
    "and re-run the code to see how the output changes.\n",
    "I encourage you to play with the code examples interactivity,\n",
    "because this is an excellent way to learn.\n",
    "Use the cell edit buttons (top-right corner in each cell)\n",
    "to duplicate the current cell,\n",
    "or insert a new blank cell at any point in the notebook.\n",
    "\n",
    "![cell operations](./attachments/cell-operations.png)\n"
   ]
  },
  {
   "cell_type": "markdown",
   "id": "79f306e8-dd3a-4db5-94a8-1a4aa0ba4102",
   "metadata": {},
   "source": [
    "# Expressions and variables\n",
    "\n",
    "Using Python involves computing Python expressions and manipulating data stored in variables. Let's see some of that."
   ]
  },
  {
   "cell_type": "markdown",
   "id": "665e4567-4fc1-4e0e-b49a-38ac3a543d2d",
   "metadata": {},
   "source": [
    "## Expressions\n",
    "\n",
    "A Python expression is an arbitrary combination of values, operators, and functions.\n",
    "We write expressions and ask Python to compute their value.\n",
    "Here is an example of an expression involving several math operations,\n",
    "like the ones we saw earlier."
   ]
  },
  {
   "cell_type": "code",
   "execution_count": 3,
   "id": "5a9ba864-b931-4b4f-9eba-853c528f9067",
   "metadata": {},
   "outputs": [
    {
     "data": {
      "text/plain": [
       "3.0"
      ]
     },
     "execution_count": 3,
     "metadata": {},
     "output_type": "execute_result"
    }
   ],
   "source": [
    "5**2 - 3*(1+7) + 12/6 "
   ]
  },
  {
   "cell_type": "markdown",
   "id": "13e413d7-ea52-4324-ae42-5dca9fc56a76",
   "metadata": {},
   "source": [
    "Let's now look at an example that shows other aspects of the Python syntax that you haven't seen before: lists and function calls.\n",
    "Here is an expression that computes the sum of a list of three numbers using the function `sum`."
   ]
  },
  {
   "cell_type": "code",
   "execution_count": 4,
   "id": "82a01e67-d23b-49f7-b29f-68fae23353c7",
   "metadata": {},
   "outputs": [
    {
     "data": {
      "text/plain": [
       "6"
      ]
     },
     "execution_count": 4,
     "metadata": {},
     "output_type": "execute_result"
    }
   ],
   "source": [
    "sum([1, 2, 3])"
   ]
  },
  {
   "cell_type": "markdown",
   "id": "0f04977b-585a-44fa-86d1-ab2a17c1490c",
   "metadata": {},
   "source": [
    "In Python,\n",
    "we define lists using the square brackets syntax `[ <elements> ]`.\n",
    "The code `[1,2,3]` defines a list of three elements: `1`, `2`, and `3`.\n",
    "The function `sum` compute the sum of the list of numbers.\n",
    "The brackets `( <inputs> )` are used to specify the inputs to the the function.\n",
    "\n",
    "We'll have a lot more to say about lists and functions later on.\n",
    "For now,\n",
    "I just wanted show you an expression that contains a lists and function\n",
    "to make it clear expressions can contain more than arithmetic operations."
   ]
  },
  {
   "cell_type": "markdown",
   "id": "84b5250b-e095-4c88-af4b-99d007d0e1e4",
   "metadata": {},
   "source": [
    "## Variables\n",
    "\n",
    "A variable is a **name** we use to refer to some value.\n",
    "This is similar to how variables are used in math:\n",
    "to represent constants, function inputs, function outputs, and all intermediate values in calculations.\n",
    "We use the assignment operator `=` to store values into variables,\n",
    "which we'll explain next."
   ]
  },
  {
   "cell_type": "markdown",
   "id": "04159e5c-6062-420b-9186-a6dd81127208",
   "metadata": {
    "tags": []
   },
   "source": [
    "### The assignment operator `=`"
   ]
  },
  {
   "cell_type": "markdown",
   "id": "da99271c-dea8-453e-99c0-87219dad6684",
   "metadata": {},
   "source": [
    "In all the code examples above,\n",
    "we computed various Python expressions,\n",
    "but we didn't do anything with the results.\n",
    "The more common pattern in Python,\n",
    "is to **store the result of an expression into a variable**.\n",
    "\n",
    "For example, here is the code that computes the expression `2+3`\n",
    "and stored the result in a variable named `x`."
   ]
  },
  {
   "cell_type": "code",
   "execution_count": 5,
   "id": "2c31a7d6-c751-4151-8e07-69833bbdbe95",
   "metadata": {},
   "outputs": [],
   "source": [
    "x = 2+3"
   ]
  },
  {
   "cell_type": "markdown",
   "id": "2eba69d4-b7e3-46e9-ab60-62addf264ee6",
   "metadata": {},
   "source": [
    "The result of this expression is that the value `5` gets saved in the variable `x`.\n",
    "The order in which Python evaluates this expression is right-to-left:\n",
    "Python first sees the expression `2+3` and computes its result `5`,\n",
    "then it sees the remainder of the statement `x =`,\n",
    "which tells it to store the result `5` into the variable `x`.\n",
    "The assignment statement doesn't have any output, so this code cell doesn't display anything."
   ]
  },
  {
   "cell_type": "markdown",
   "id": "5f831b20-c8c2-4fb4-a562-1f9a67b134f9",
   "metadata": {},
   "source": [
    "The meaning of assignment operator `=`\n",
    "is not the same as the meaning of the operator $=$ used for writing math equations.\n",
    "The assignment statement `x = 5` is a very specific type of equation,\n",
    "where we put the value `5` (the right hand side) into the variable `x` (the left hand side).\n",
    "It is true that after this statement `x` will be equal to `5`,\n",
    "but this is not the most useful way talk about this assignment statement.\n",
    "\n",
    "Here are some other, more useful ways to describe the assignment statement `x = 5`:\n",
    "\n",
    "- Set `x` to `5`.\n",
    "- Put `5` into `x`.\n",
    "- Record `5` under the name `x`.\n",
    "- Define `x` to be equal to `5`.\n",
    "- Store the value `5` into the variable `x`.\n",
    "- Save the value `5` into the memory location named `x`.\n",
    "\n",
    "In each of these,\n",
    "it is clear that `=` has the role of an active verb:\n",
    "to store the result of an expression into a particular variable."
   ]
  },
  {
   "cell_type": "markdown",
   "id": "fc3e1bd0-852f-445f-bead-f637bd11cea7",
   "metadata": {},
   "source": [
    "To display the contents of the variable `x`,\n",
    "we can write its name in a code cell."
   ]
  },
  {
   "cell_type": "code",
   "execution_count": 6,
   "id": "25c39e4c-4134-4d3f-a328-5bfd72e8fab8",
   "metadata": {},
   "outputs": [
    {
     "data": {
      "text/plain": [
       "5"
      ]
     },
     "execution_count": 6,
     "metadata": {},
     "output_type": "execute_result"
    }
   ],
   "source": [
    "x"
   ]
  },
  {
   "cell_type": "markdown",
   "id": "92af9b26-c142-45f0-a1d4-9cee99bd57f3",
   "metadata": {},
   "source": [
    "Note the variable `x`, which we defined in the previous code cell, is available in this cell. This is a defining feature of the computational notebook environment: **every code cell runs in a \"context\" that includes the results fron all the previous code cells**.\n",
    "\n",
    "Note also we didn't need to call any special function to display the contents of the variable. This is because, in a notebook interface, the value of **the last expression in each code block gets displayed automatically**.\n",
    "Later in the tutorial, we'll learn about the function `print` that you can use to display values in the middle of a code cell or to customize how values are displayed."
   ]
  },
  {
   "cell_type": "markdown",
   "id": "b8160009-dd87-411a-a040-68b33c7d82ad",
   "metadata": {},
   "source": [
    "We can combine the commands \"assign the result of `2+3` to `x`\" and \"display `x`\" into a single code cell, as shown below."
   ]
  },
  {
   "cell_type": "code",
   "execution_count": 7,
   "id": "9db5fbc6-7464-4a49-9f4c-fbc28aa8d8f4",
   "metadata": {},
   "outputs": [
    {
     "data": {
      "text/plain": [
       "5"
      ]
     },
     "execution_count": 7,
     "metadata": {},
     "output_type": "execute_result"
    }
   ],
   "source": [
    "x = 2+3\n",
    "x"
   ]
  },
  {
   "cell_type": "markdown",
   "id": "acd78c45-95d5-433a-9d13-5ae6e9dfbc7d",
   "metadata": {},
   "source": [
    "The first line in this code block computes the expression `2+3`\n",
    "and assigns the result to the variable `x`.\n",
    "The second line evaluates the variable `x` to display its contents."
   ]
  },
  {
   "cell_type": "markdown",
   "id": "3ca1a5e0-34a9-4a92-bd14-99956747ef32",
   "metadata": {},
   "source": [
    "**Exercise 1**: Imitate the above code block, to create another variable `y` that contains the value of the expression $(1+4)^2 - 3$, then display the contents of the variable `y`."
   ]
  },
  {
   "cell_type": "code",
   "execution_count": 8,
   "id": "979eec9d-eaaa-405e-9a9f-32a3ba4c3a50",
   "metadata": {},
   "outputs": [],
   "source": [
    "# put you answer in this code cell"
   ]
  },
  {
   "cell_type": "code",
   "execution_count": 9,
   "id": "04f3ebbf-02aa-44dd-9e7b-b767e088ad45",
   "metadata": {},
   "outputs": [
    {
     "data": {
      "text/plain": [
       "22"
      ]
     },
     "execution_count": 9,
     "metadata": {},
     "output_type": "execute_result"
    }
   ],
   "source": [
    "#@titlesolution Exercise 1 y-expression\n",
    "y = (1+4)**2 - 3\n",
    "y"
   ]
  },
  {
   "cell_type": "markdown",
   "id": "25cc03f3-09ca-41b5-9f5f-10045261da51",
   "metadata": {},
   "source": [
    "So to summarize,\n",
    "the syntax of an assignment statement is as follows:\n",
    "\n",
    "```Python\n",
    "<place> = <some expression>\n",
    "```\n",
    "\n",
    "The assignment operator (`=`) is used to store the value of the expression `<some expression>` into the memory location `<place>`, which is usually a variable name. Later in this tutorial, we'll learn how to store values in other places (inside containers like lists and dictionaries)."
   ]
  },
  {
   "cell_type": "markdown",
   "id": "6a634670-2ddd-4bc5-acfb-80017c02b9ce",
   "metadata": {
    "tags": []
   },
   "source": [
    "## Multi-line expressions\n",
    "\n",
    "Let's use what we have learned about Python variables and expressions\n",
    "to perform some real-world calculations."
   ]
  },
  {
   "cell_type": "markdown",
   "id": "31d09853-6ddf-4633-afd2-ac3224b15408",
   "metadata": {},
   "source": [
    "#### Example: Number of seconds in one week\n",
    "\n",
    "Let's say you need to calculate how many seconds there are in one week.\n",
    "We can do this using multi-step Python calculation,\n",
    "based on the following facts:\n",
    "there are $60$ seconds in one minute,\n",
    "$60$ minutes in one hour,\n",
    "$24$ hours in one day,\n",
    "and $7$ days in one week.\n",
    "\n",
    "Rather than trying to compute the answer in a single step,\n",
    "we can use several intermediate variables with descriptive names to help us perform the calculation step by step:"
   ]
  },
  {
   "cell_type": "code",
   "execution_count": 10,
   "id": "7ede33a7-e8d8-4c4f-b99e-33c60b79906c",
   "metadata": {},
   "outputs": [
    {
     "data": {
      "text/plain": [
       "604800"
      ]
     },
     "execution_count": 10,
     "metadata": {},
     "output_type": "execute_result"
    }
   ],
   "source": [
    "secs_in_1min = 60 \n",
    "secs_in_1hour = secs_in_1min * 60 \n",
    "secs_in_1day = secs_in_1hour * 24\n",
    "secs_in_1week = secs_in_1day * 7\n",
    "secs_in_1week"
   ]
  },
  {
   "cell_type": "markdown",
   "id": "99badcda-6d2a-420a-87bf-a6e173b39c3f",
   "metadata": {},
   "source": [
    "Note we can use the underscore `_` as part of variable names.\n",
    "This is a [common pattern](https://en.wikipedia.org/wiki/Snake_case) for variable names in Python code,\n",
    "because the name `some_name` is easier to read than `somename`."
   ]
  },
  {
   "cell_type": "markdown",
   "id": "460c613f-6e81-4f43-82de-9617566b7259",
   "metadata": {},
   "source": [
    "**Exercise 2**: Johnny weights 107 kg, and wants to know his weight in pounds `lbs`. One kilogram is equivalent to 2.2 lbs.\n",
    "Write the Python expression that computes Johnny's weight in pounds."
   ]
  },
  {
   "cell_type": "code",
   "execution_count": 11,
   "id": "f86b43af-81dd-45f3-bcdd-89051ba33dfb",
   "metadata": {},
   "outputs": [],
   "source": [
    "weight_in_kg = 107\n",
    "weight_in_lb = ... # replace ... with your answer"
   ]
  },
  {
   "cell_type": "code",
   "execution_count": 12,
   "id": "8c99ac7e-1037-4627-8108-6dd256e31f6c",
   "metadata": {},
   "outputs": [
    {
     "data": {
      "text/plain": [
       "235.4"
      ]
     },
     "execution_count": 12,
     "metadata": {},
     "output_type": "execute_result"
    }
   ],
   "source": [
    "#@titlesolution Exercise 2 weight-in-lbs\n",
    "weight_in_kg = 107\n",
    "weight_in_lb = 2.2 * weight_in_kg\n",
    "weight_in_lb"
   ]
  },
  {
   "cell_type": "markdown",
   "id": "30911d22-dc5f-4946-940b-77da250a6db0",
   "metadata": {},
   "source": [
    "**Exercise 3**: You're buying something that costs 57.00 dollars,\n",
    "and the government imposes a 10\\% tax on your purchase.\n",
    "Calculate the total you'll have to pay including the 10\\% tax."
   ]
  },
  {
   "cell_type": "code",
   "execution_count": 13,
   "id": "237560d6-99f1-4ae1-a24f-896bbe07b26d",
   "metadata": {},
   "outputs": [],
   "source": [
    "cost = 57.0\n",
    "taxes = ... # replace ... with your answer\n",
    "total = ... # replace ... with your answer"
   ]
  },
  {
   "cell_type": "code",
   "execution_count": 14,
   "id": "8ffc6245",
   "metadata": {},
   "outputs": [
    {
     "data": {
      "text/plain": [
       "62.7"
      ]
     },
     "execution_count": 14,
     "metadata": {},
     "output_type": "execute_result"
    }
   ],
   "source": [
    "#@titlesolution Exercise 3 calc-cost-plus-taxes\n",
    "cost = 57.00\n",
    "taxes = 0.10 * cost\n",
    "total = cost + taxes\n",
    "total"
   ]
  },
  {
   "cell_type": "markdown",
   "id": "3037b7cf",
   "metadata": {},
   "source": [
    "**Exercise 4**:\n",
    "The formula for converting temperatures from Celsius to Fahrenheit\n",
    "is $F = \\tfrac{9}{5} \\cdot C  + 32$.\n",
    "Given the variable `C` that contains the current temperature in Celsius,\n",
    "write the expression that calculates the current temperature in Fahrenheit and store the answer in a new variable named `F`."
   ]
  },
  {
   "cell_type": "code",
   "execution_count": 15,
   "id": "3210ba16-950d-4120-87cb-5327aeb40e82",
   "metadata": {},
   "outputs": [],
   "source": [
    "C = 20\n",
    "F = ... # replace ... with your answer"
   ]
  },
  {
   "cell_type": "markdown",
   "id": "c3046415-7507-476b-8188-a6fdbb5cc33b",
   "metadata": {},
   "source": [
    "Check your formula works by changing the value of `C`.\n",
    "When `C = 100`, the variable `F` should be `212`."
   ]
  },
  {
   "cell_type": "code",
   "execution_count": 16,
   "id": "3ff6d575-93f4-41b4-b433-2c71938f7cfc",
   "metadata": {},
   "outputs": [
    {
     "data": {
      "text/plain": [
       "212.0"
      ]
     },
     "execution_count": 16,
     "metadata": {},
     "output_type": "execute_result"
    }
   ],
   "source": [
    "#@titlesolution Exercise 4 temp-in-F\n",
    "C = 100\n",
    "F = (9/5 * C) + 32\n",
    "F"
   ]
  },
  {
   "cell_type": "markdown",
   "id": "363344af-c5e9-4c8b-8cf5-a8fcf4cc95da",
   "metadata": {
    "tags": []
   },
   "source": [
    "## Variable types\n",
    "\n",
    "Every variable in Python has a *type*,\n",
    "which tells you what kind of data it contains,\n",
    "and what kind of operations you can do with it.\n",
    "For example,\n",
    "there \n",
    "\n",
    "There are two types for storing numbers,\n",
    "and other types for storing text and binary data.\n",
    "There are also several types of container variables that store other variables.\n",
    "\n",
    "Here are the most common types of variables in Python:\n",
    "\n",
    "- **Integers** (`int`): used to store whole numbers like\n",
    "  `42`,`65`, `78`, `-4`, `-200`, etc.\n",
    "  Python integers are roughly equivalent to math set of integers $\\mathbb{Z}$.\n",
    "- **Floating point numbers** (`float`): used to store decimals like\n",
    "  `4.6`,`78.5`, `1000.0` = `1e3`, `0.001` = `1e-3`, `123.456` = `1.23456e2`, etc.\n",
    "- **Lists** (`list`): ordered container for other values.\n",
    "  For example, the list `[61, 79, 98, 72]` contains four integers.\n",
    "  The beginning and the end of the list are denoted by the square brackets `[` and `]`,\n",
    "  and its elements are separated by commas.\n",
    "- **Strings** (`str`): used to store text content like `\"Hello\"`, `\"Hello everyone\"`.\n",
    "  Strings are denoted using either double quotes `\"Hi\"` or single quotes `'Hi'`.\n",
    "- **Boolean values** (`bool`): logic variables with only two possible values,\n",
    "  `True` and `False`."
   ]
  },
  {
   "cell_type": "markdown",
   "id": "f681849b-5910-474d-8ca0-08d8baf87b0d",
   "metadata": {},
   "source": [
    "Let's look at some examples of the different types of variables:\n",
    "<!-- \n",
    "an `int`eger, a `float`ing point number, a `list`, a `str`ing,\n",
    "and a `bool`ean value. -->"
   ]
  },
  {
   "cell_type": "code",
   "execution_count": 17,
   "id": "cf6eba8f",
   "metadata": {},
   "outputs": [],
   "source": [
    "score = 98\n",
    "average = 77.5\n",
    "scores = [61, 79, 98, 72]\n",
    "message = \"Hello everyone\"\n",
    "above_the_average = True"
   ]
  },
  {
   "cell_type": "markdown",
   "id": "4578b957-6946-4db2-9a85-88decf12d0fa",
   "metadata": {},
   "source": [
    "Recall,\n",
    "when we want to display the *contents* of a variable,\n",
    "we write its name as the last line in a code cell.\n",
    "Let's see the contents the `score` variable:"
   ]
  },
  {
   "cell_type": "code",
   "execution_count": 18,
   "id": "298f5e87-1588-4d1d-936f-f416725ec033",
   "metadata": {},
   "outputs": [
    {
     "data": {
      "text/plain": [
       "98"
      ]
     },
     "execution_count": 18,
     "metadata": {},
     "output_type": "execute_result"
    }
   ],
   "source": [
    "score"
   ]
  },
  {
   "cell_type": "markdown",
   "id": "406b2440-a0b5-450e-903c-fd9707b865b0",
   "metadata": {},
   "source": [
    "To see the *type* of a variable,\n",
    "we can use the function `type` as follows:"
   ]
  },
  {
   "cell_type": "code",
   "execution_count": 19,
   "id": "727080f6-ea61-45e1-99de-1ae8e6a31969",
   "metadata": {},
   "outputs": [
    {
     "data": {
      "text/plain": [
       "int"
      ]
     },
     "execution_count": 19,
     "metadata": {},
     "output_type": "execute_result"
    }
   ],
   "source": [
    "type(score)"
   ]
  },
  {
   "cell_type": "markdown",
   "id": "81534283-5651-47b3-8551-2b37855ab41c",
   "metadata": {},
   "source": [
    "In this case, the variable `score` is of type `int` (integer)."
   ]
  },
  {
   "cell_type": "markdown",
   "id": "67eb671b-130b-4ca2-9de7-adffde6b5084",
   "metadata": {},
   "source": [
    "**Exercise 5**: Display the *contents* and the *type* of the variables\n",
    "`average`, `scores`, `message`, and `above_the_average` that we defined above."
   ]
  },
  {
   "cell_type": "code",
   "execution_count": 20,
   "id": "089a1e45-5d10-43a0-a66f-d06492af0b6f",
   "metadata": {},
   "outputs": [],
   "source": [
    "# put your answer here"
   ]
  },
  {
   "cell_type": "code",
   "execution_count": 21,
   "id": "6fe84d2f",
   "metadata": {},
   "outputs": [
    {
     "data": {
      "text/plain": [
       "bool"
      ]
     },
     "execution_count": 21,
     "metadata": {},
     "output_type": "execute_result"
    }
   ],
   "source": [
    "#@titlesolution Exercise 5 variable-types\n",
    "average         # print the value of `average`\n",
    "type(average)   # print the type of `average`\n",
    "\n",
    "scores\n",
    "type(scores)\n",
    "\n",
    "message\n",
    "type(message)\n",
    "\n",
    "above_the_average\n",
    "type(above_the_average)"
   ]
  },
  {
   "cell_type": "markdown",
   "id": "fd28e6b0-6a29-484b-a81f-b4e111041af5",
   "metadata": {
    "tags": []
   },
   "source": [
    "### Technical jargon: objects and their methods\n",
    "\n",
    "Every value in a Python program is an *object*.\n",
    "The function `type` tells you what kind of object it is.\n",
    "The term *object* is programming jargon used to describe\n",
    "the fundamental building blocks used to store data\n",
    "that also have certain functions \"attached\" to them,\n",
    "which are called *methods*.\n",
    "For example,\n",
    "every string object has a method `.upper()` that converts\n",
    "the string to uppercase (capital letters);\n",
    "calling `\"Hello\".upper()` produces `\"HELLO\"`.\n",
    "\n",
    "The `int`egers, `float`ing point numbers,\n",
    "`list`s, `str`ings, and `bool`eans\n",
    "are examples of different types of objects. \n",
    "Different object types have different  *affordances* (what you can do with them).\n",
    "For example,\n",
    "we can subtract numbers,\n",
    "but we can't subtract strings.\n",
    "Other types of objects that are often used in Python include **dictionaries**, **tuples**, **sets**, **functions**, etc.\n",
    "We'll encounter some of these object later in this tutorial,\n",
    "and talk more about *objects* and their *methods* as needed.\n",
    "The key point is that Python objects types\n",
    "are the different kinds of LEGOs available for you to play with,\n",
    "and remember that you can use the function `type` to find our what kind of object you're working with."
   ]
  },
  {
   "cell_type": "markdown",
   "id": "139e0683-9e47-45e3-a0e2-95877e73eaa4",
   "metadata": {},
   "source": [
    "# Functions\n",
    "\n",
    "Functions are essential building blocks in programming,\n",
    "since they allow us to encapsulate any sequence of operations\n",
    "as a reusable piece of functionality.\n",
    "You can think of functions as chunks of code that are defined once,\n",
    "and used multiple times by \"calling\" them from other places in the code."
   ]
  },
  {
   "cell_type": "markdown",
   "id": "a0d52a84-803e-4ecc-ac52-b857d2762766",
   "metadata": {},
   "source": [
    "## Calling functions\n",
    "\n",
    "The Python syntax for using the function `fun` on the input `<arg>`\n",
    "is the function name followed by the input in parentheses: `fun(<arg>)`.\n",
    "In programming, function inputs are called *arguments*.\n",
    "We can describe `fun(<arg>)` as *calling* the function `fun` with argument `<arg>`.\n",
    "Other synonyms for calling a function are *invoking*, *evaluating*, or *running* the function.\n",
    "The parentheses notation for calling functions is borrowed from mathematics,\n",
    "where $f(x)$ (read \"$f$ of $x$\") denotes the output of the function $f$ when the input is $x$."
   ]
  },
  {
   "cell_type": "markdown",
   "id": "1141e5bc-6662-45fe-bdf5-f447552a89a9",
   "metadata": {},
   "source": [
    "## Python built-in functions\n",
    "\n",
    "Python is a useful calculator because of the numerous functions it comes with,\n",
    "which are like different calculator buttons you can press to perform computations.\n",
    "Here is a short list of the most common Python functions:\n",
    "\n",
    "- `type(obj)`: tells us the type of the object `obj`\n",
    "- `sum(mylist)`: calculate the sum of the values in the list `mylist`\n",
    "- `print(obj1, obj2, ...)`: print the text representations of `obj1`, `obj2`, etc. separated by spaces\n",
    "- `len(obj)`: returns the length of the container object `obj`\n",
    "- `help(thing)`: display help info about the object `obj`\n",
    "- `range(a,b)`: creates a list of numbers `[a,a+1,...,b-1]`\n",
    "- `str(obj)`: converts the object `obj` to a text (`str`) representation\n",
    "\n",
    "We've already seen the functions `sum` and `type` in earlier code cells,\n",
    "and learn to use the other functions in later sections of this tutorial."
   ]
  },
  {
   "cell_type": "markdown",
   "id": "3385bba3-c07c-44a0-930a-656f215ef532",
   "metadata": {},
   "source": [
    "Some functions can accept multiple arguments,\n",
    "and we use commas to separate these arguments:\n",
    "`fun(arg1, arg2)`.\n",
    "For example,\n",
    "we can call the function `print` with multiple arguments in order to print them together on a single line."
   ]
  },
  {
   "cell_type": "code",
   "execution_count": 22,
   "id": "72abf873-08c2-4a47-a323-078b62390033",
   "metadata": {},
   "outputs": [
    {
     "name": "stdout",
     "output_type": "stream",
     "text": [
      "average 77.5\n"
     ]
    }
   ],
   "source": [
    "print(\"average\", average)"
   ]
  },
  {
   "cell_type": "markdown",
   "id": "3e638013-675d-4a93-9ba7-c7c8d5f8d78a",
   "metadata": {},
   "source": [
    "Some functions accept optional keyword arguments (options)\n",
    "that modify the function's behaviour.\n",
    "For example,\n",
    "the `print` function the keyword argument `sep` (separator)\n",
    "that determines what text will be used to separate the different arguments.\n",
    "The default value for `sep` is a single space `\" \"`.\n",
    "If we specify a different value for the `sep` keyword argument,\n",
    "then the function will use that value as the separator,\n",
    "as shown below."
   ]
  },
  {
   "cell_type": "code",
   "execution_count": 23,
   "id": "87991ad0-6269-4a50-ab83-c2bd987adfb6",
   "metadata": {},
   "outputs": [
    {
     "name": "stdout",
     "output_type": "stream",
     "text": [
      "average = 77.5\n"
     ]
    }
   ],
   "source": [
    "print(\"average\", average, sep=\" = \")"
   ]
  },
  {
   "cell_type": "markdown",
   "id": "4a597cb4-750b-4a28-940c-ef39ec3fe89b",
   "metadata": {},
   "source": [
    "## Python syntax for defining new functions\n",
    "\n",
    "Python makes it easy to define new functions,\n",
    "which is like adding new buttons to the calculator. \n",
    "A Python function takes certain variable(s) as input\n",
    "and produces a certain variable(s) as output.\n",
    "We can define a new function called `fun` using the following syntax:\n",
    "\n",
    "```Python\n",
    "def fun(<arg>):\n",
    "    <calculation step 1>\n",
    "    <calculation step 2>\n",
    "    return <output>\n",
    "```\n",
    "\n",
    "Let's go over the code line-by-line and explain all the new elements of syntax.\n",
    "We start with the Python keyword `def`,\n",
    "then give the name of the function, which is `fun` in this case.\n",
    "Next we specify the function arguments the function expects inside parentheses.\n",
    "In this example, the function `fun` takes a single input called `<arg>`.\n",
    "The colon `:` indicates the beginning of the function body.\n",
    "The function body is an indented code block that specifies\n",
    "the calculations that the function is supposed to perform.\n",
    "The last line in the function body is a `return` statement\n",
    "that tells us the output of the function. "
   ]
  },
  {
   "cell_type": "markdown",
   "id": "bc6cecdd-23b2-4a2d-8aed-4efd0beddb80",
   "metadata": {},
   "source": [
    "### Example 1\n",
    "\n",
    "Let's write a simple function named `double`,\n",
    "which expects a single number as input,\n",
    "and produces as output the number multiplied by two."
   ]
  },
  {
   "cell_type": "code",
   "execution_count": 24,
   "id": "6d4e3530",
   "metadata": {},
   "outputs": [],
   "source": [
    "def double(x):\n",
    "    y = 2*x\n",
    "    return y"
   ]
  },
  {
   "cell_type": "markdown",
   "id": "d79d687b-2b95-4dcb-ad7f-da90b39ab1bb",
   "metadata": {},
   "source": [
    "Note the body of the function is indented by four spaces.\n",
    "In Python,\n",
    "we use indentation to delimit when a code block starts and when it ends.\n",
    "This function's body contains two lines of code,\n",
    "but in general functions could contain dozens or even hundreds of lines of code."
   ]
  },
  {
   "cell_type": "markdown",
   "id": "2d867494-881b-48f9-8a7e-6531f272f16d",
   "metadata": {},
   "source": [
    "To call the function `double`,\n",
    "we use the function name followed by the\n",
    "function's input argument in parentheses,\n",
    "as we saw earlier."
   ]
  },
  {
   "cell_type": "code",
   "execution_count": 25,
   "id": "680f7ed9",
   "metadata": {},
   "outputs": [
    {
     "data": {
      "text/plain": [
       "12"
      ]
     },
     "execution_count": 25,
     "metadata": {},
     "output_type": "execute_result"
    }
   ],
   "source": [
    "double(6)"
   ]
  },
  {
   "cell_type": "markdown",
   "id": "14b83bea-7e4e-4123-b971-3f34a3416298",
   "metadata": {},
   "source": [
    "When Python sees the expression `double(6)` it recognizes it as a function call.\n",
    "It then looks for the definition of the function `double`\n",
    "and finds the `def` statement in the previous code cell,\n",
    "which tells us what steps need to be performed on the input.\n",
    "Visit the link [`tinyurl.com/bdzr69s9`](https://tinyurl.com/bdzr69s9)\n",
    "to see a visualization of what happens when we call the function `double`\n",
    "with different inputs."
   ]
  },
  {
   "cell_type": "markdown",
   "id": "cc1b3bc1-9947-4d62-a702-da823d14e93f",
   "metadata": {},
   "source": [
    "### Example 2\n",
    "\n",
    "Let's add a function that adds 10\\% tax to a given purchase `cost`\n",
    "and returns the total of cost plus taxes."
   ]
  },
  {
   "cell_type": "code",
   "execution_count": 26,
   "id": "42d6774a",
   "metadata": {},
   "outputs": [],
   "source": [
    "def add_taxes(cost):\n",
    "    taxes = 0.10 * cost\n",
    "    total = cost + taxes\n",
    "    return total"
   ]
  },
  {
   "cell_type": "code",
   "execution_count": 27,
   "id": "ffb9ee76-533a-49c8-80cb-70719fd9b4cf",
   "metadata": {},
   "outputs": [
    {
     "data": {
      "text/plain": [
       "62.7"
      ]
     },
     "execution_count": 27,
     "metadata": {},
     "output_type": "execute_result"
    }
   ],
   "source": [
    "add_taxes(57)"
   ]
  },
  {
   "cell_type": "markdown",
   "id": "9df04daf-4d51-49f5-a5db-ce7c2aece223",
   "metadata": {},
   "source": [
    "### Example 3\n",
    "\n",
    "The math formula for computing the mean (average value) of a list of numbers $[x_1, x_2, \\ldots, x_n]$ is: $\\overline{\\mathbf{x}} = \\left( x_1 + x_2 + \\cdots + x_n \\right) / n$.\n",
    "In words,\n",
    "the average value of a list of values is the sum of the values divided by the length of the list.\n",
    "Let's write the function `mean` that computes the mean of a list of numbers."
   ]
  },
  {
   "cell_type": "code",
   "execution_count": 28,
   "id": "a2752b71",
   "metadata": {},
   "outputs": [],
   "source": [
    "def mean(values):\n",
    "    avg = sum(values) / len(values)\n",
    "    return avg"
   ]
  },
  {
   "cell_type": "code",
   "execution_count": 29,
   "id": "e4da20dc-5c18-48a0-a487-194716256c20",
   "metadata": {},
   "outputs": [
    {
     "data": {
      "text/plain": [
       "2.5"
      ]
     },
     "execution_count": 29,
     "metadata": {},
     "output_type": "execute_result"
    }
   ],
   "source": [
    "mean([1,2,3,4])"
   ]
  },
  {
   "cell_type": "markdown",
   "id": "6b6b939c-7e65-4e3c-a9c0-7255e5b13592",
   "metadata": {},
   "source": [
    "### Exercise 6\n",
    "\n",
    "Write a Python function called `temp_C_to_F` that converts\n",
    "temperatures from Celsius `C` to Fahrenheit `F`.\n",
    "The formula for converting a temperature from Celsius to temperature in Fahrenheit\n",
    "is $F = \\tfrac{9}{5} \\cdot C  + 32$.\n",
    "\n",
    "Hint: You can reuse your code from **Exercise 4**."
   ]
  },
  {
   "cell_type": "code",
   "execution_count": 30,
   "id": "cbdb8946-991b-4851-b9fd-043ebf245d92",
   "metadata": {},
   "outputs": [],
   "source": [
    "def temp_C_to_F(C):\n",
    "    ...  # replace ... with your code"
   ]
  },
  {
   "cell_type": "code",
   "execution_count": 31,
   "id": "78964c7e",
   "metadata": {},
   "outputs": [
    {
     "data": {
      "text/plain": [
       "68.0"
      ]
     },
     "execution_count": 31,
     "metadata": {},
     "output_type": "execute_result"
    }
   ],
   "source": [
    "#@titlesolution Exercise 6 temp-C-to-F-function\n",
    "def temp_C_to_F(C):\n",
    "    F = (9/5 * C) + 32\n",
    "    return F\n",
    "\n",
    "temp_C_to_F(20)"
   ]
  },
  {
   "cell_type": "markdown",
   "id": "eb7b0ce3-f857-49b0-b59f-1935fc2e7517",
   "metadata": {},
   "source": [
    "In summary,\n",
    "you can think of the `def` keyword as way to add buttons to the Python calculator."
   ]
  },
  {
   "cell_type": "markdown",
   "id": "e0752b0b-2d68-4a03-8a9f-539f566a1e17",
   "metadata": {},
   "source": [
    "# Lists and `for`-loops\n",
    "\n",
    "Python allows us to easily manipulate data structures that contain thousands or millions of values.\n",
    "For example,\n",
    "a `list` is a ordered container for values\n",
    "that can be as large as the amount of memory you have in your computer.\n",
    "A `for`-loop is a programming concept that allows us to repeat some operation multiple times.\n",
    "We often combine lists and `for`-loops to perform calculations for each element in the list."
   ]
  },
  {
   "cell_type": "markdown",
   "id": "499f5589-9568-43a3-ba6c-ed43b3df568e",
   "metadata": {},
   "source": [
    "## Lists\n",
    "\n",
    "The Python syntax for create a list starts with an opening square bracket `[`,\n",
    "followed by the list elements separated by commas `,`,\n",
    "and ends with a closing bracket `]`.\n",
    "For example,\n",
    "here is the code to define the list `scores` which contains four integers."
   ]
  },
  {
   "cell_type": "code",
   "execution_count": 32,
   "id": "f76410af",
   "metadata": {},
   "outputs": [
    {
     "data": {
      "text/plain": [
       "[61, 79, 98, 72]"
      ]
     },
     "execution_count": 32,
     "metadata": {},
     "output_type": "execute_result"
    }
   ],
   "source": [
    "scores = [61, 79, 98, 72]\n",
    "scores"
   ]
  },
  {
   "cell_type": "markdown",
   "id": "cba309bc-7968-4f12-a0e1-83a1cfe57a72",
   "metadata": {},
   "source": [
    "A list has a length,\n",
    "which you can obtain by calling the function `len`."
   ]
  },
  {
   "cell_type": "code",
   "execution_count": 33,
   "id": "3847db1a",
   "metadata": {},
   "outputs": [
    {
     "data": {
      "text/plain": [
       "4"
      ]
     },
     "execution_count": 33,
     "metadata": {},
     "output_type": "execute_result"
    }
   ],
   "source": [
    "len(scores)"
   ]
  },
  {
   "cell_type": "markdown",
   "id": "a17d4c4c-67ac-43dc-8772-7a9a7b9cc48b",
   "metadata": {},
   "source": [
    "We use the `in` operator to check if a list contains a certain element."
   ]
  },
  {
   "cell_type": "code",
   "execution_count": 34,
   "id": "c10641d1-0b67-4848-81a2-03a3f7fafb39",
   "metadata": {},
   "outputs": [
    {
     "data": {
      "text/plain": [
       "True"
      ]
     },
     "execution_count": 34,
     "metadata": {},
     "output_type": "execute_result"
    }
   ],
   "source": [
    "98 in scores"
   ]
  },
  {
   "cell_type": "markdown",
   "id": "e7cd103d-861c-4be0-acc4-db1bf6d890f1",
   "metadata": {},
   "source": [
    "### Accessing elements of a list\n",
    "\n",
    "We access the individual elements within the list `scores`\n",
    "using the square brackets syntax `scores[<idx>]`,\n",
    "where `<idx>` is the the `0`-based index of the element we want to access.\n",
    "The first element of the list has index `0`,\n",
    "the second element has index `1`,\n",
    "and so on. \n",
    "The last element has index equal to the length of the list minus one."
   ]
  },
  {
   "cell_type": "code",
   "execution_count": 35,
   "id": "ae78304a",
   "metadata": {},
   "outputs": [
    {
     "data": {
      "text/plain": [
       "61"
      ]
     },
     "execution_count": 35,
     "metadata": {},
     "output_type": "execute_result"
    }
   ],
   "source": [
    "# first element in the list scores\n",
    "scores[0]"
   ]
  },
  {
   "cell_type": "code",
   "execution_count": 36,
   "id": "a89f88b9-88ce-4836-a78a-a4fda0c8762a",
   "metadata": {},
   "outputs": [
    {
     "data": {
      "text/plain": [
       "79"
      ]
     },
     "execution_count": 36,
     "metadata": {},
     "output_type": "execute_result"
    }
   ],
   "source": [
    "# second element in the list scores\n",
    "scores[1]"
   ]
  },
  {
   "cell_type": "code",
   "execution_count": 37,
   "id": "518f8065-6447-4398-bc39-d65cd5b3536c",
   "metadata": {},
   "outputs": [
    {
     "data": {
      "text/plain": [
       "72"
      ]
     },
     "execution_count": 37,
     "metadata": {},
     "output_type": "execute_result"
    }
   ],
   "source": [
    "# last element in the list scores\n",
    "scores[3]"
   ]
  },
  {
   "cell_type": "markdown",
   "id": "06b13868-3217-43a2-b3d2-dd0d49a87f15",
   "metadata": {},
   "source": [
    "Note the square brackets syntax is used in two completely different ways:\n",
    "to *define* lists and to *access* their elements."
   ]
  },
  {
   "cell_type": "markdown",
   "id": "1404bff9-7888-43b5-8951-6eedacbf2324",
   "metadata": {},
   "source": [
    "### List slicing\n",
    "\n",
    "We can extract a subset of a list using the \"slice\" syntax `a:b`,\n",
    "which corresponds to the range of indices `a`, `a+1`, ..., `b-1`.\n",
    "For example,\n",
    "if we want to extract the first three elements in the list `scores`,\n",
    "we can use the slice `0:3`,\n",
    "which is equivalent to the indices `0`, `1`, and `2`."
   ]
  },
  {
   "cell_type": "code",
   "execution_count": 38,
   "id": "a6110de9",
   "metadata": {},
   "outputs": [
    {
     "data": {
      "text/plain": [
       "[61, 79, 98]"
      ]
     },
     "execution_count": 38,
     "metadata": {},
     "output_type": "execute_result"
    }
   ],
   "source": [
    "scores[0:3]"
   ]
  },
  {
   "cell_type": "markdown",
   "id": "1d0df200-edcc-4cea-b6ba-10991d2ae66e",
   "metadata": {},
   "source": [
    "Note the result of selecting a slice from a list is another list."
   ]
  },
  {
   "cell_type": "markdown",
   "id": "294a683c-2862-454b-82cf-42f29c5a8b72",
   "metadata": {},
   "source": [
    "### List methods\n",
    "\n",
    "List objects can be modified using a their methods.\n",
    "Every list has the methods `.sort()`, `.append()`, `.pop()`, and `.reverse()`\n",
    "that are very useful.\n",
    "Let's look at some examples of these methods in action."
   ]
  },
  {
   "cell_type": "markdown",
   "id": "db527e4f-06e9-4b05-8310-35ae0b91a283",
   "metadata": {},
   "source": [
    "To sort the list of `scores`,\n",
    "you can call its `.sort()` method:"
   ]
  },
  {
   "cell_type": "code",
   "execution_count": 39,
   "id": "feb2d894",
   "metadata": {},
   "outputs": [
    {
     "data": {
      "text/plain": [
       "[61, 72, 79, 98]"
      ]
     },
     "execution_count": 39,
     "metadata": {},
     "output_type": "execute_result"
    }
   ],
   "source": [
    "scores.sort()\n",
    "scores"
   ]
  },
  {
   "cell_type": "markdown",
   "id": "cd303650-47fb-43ed-b9b5-36651faa7085",
   "metadata": {},
   "source": [
    "To add a new element `el` to the list (at the end),\n",
    "use the method `.append(el)`:"
   ]
  },
  {
   "cell_type": "code",
   "execution_count": 40,
   "id": "780efcce",
   "metadata": {},
   "outputs": [
    {
     "data": {
      "text/plain": [
       "[61, 72, 79, 98, 22]"
      ]
     },
     "execution_count": 40,
     "metadata": {},
     "output_type": "execute_result"
    }
   ],
   "source": [
    "scores.append(22)\n",
    "scores"
   ]
  },
  {
   "cell_type": "markdown",
   "id": "05e8a069-501b-4c2f-84fb-4a702b3b9c3f",
   "metadata": {},
   "source": [
    "The method `.pop()` extracts the last element of the list:"
   ]
  },
  {
   "cell_type": "code",
   "execution_count": 41,
   "id": "15a74b2b",
   "metadata": {},
   "outputs": [
    {
     "data": {
      "text/plain": [
       "22"
      ]
     },
     "execution_count": 41,
     "metadata": {},
     "output_type": "execute_result"
    }
   ],
   "source": [
    "scores.pop()"
   ]
  },
  {
   "cell_type": "markdown",
   "id": "6eef945c-3739-4389-b743-45705e4dee4b",
   "metadata": {},
   "source": [
    "You can think of `.pop()` as the \"undo method\" of the append operation."
   ]
  },
  {
   "cell_type": "markdown",
   "id": "c569a01e-5fcc-4dc0-8f1f-c9fdf0f22677",
   "metadata": {},
   "source": [
    "To reverse the order of elements in the list,\n",
    "call its `.reverse()` method:"
   ]
  },
  {
   "cell_type": "code",
   "execution_count": 42,
   "id": "407ec209",
   "metadata": {},
   "outputs": [
    {
     "data": {
      "text/plain": [
       "[98, 79, 72, 61]"
      ]
     },
     "execution_count": 42,
     "metadata": {},
     "output_type": "execute_result"
    }
   ],
   "source": [
    "scores.reverse()\n",
    "scores"
   ]
  },
  {
   "cell_type": "markdown",
   "id": "fd218d1d-9849-44ff-8ae5-82c6e8a31a58",
   "metadata": {},
   "source": [
    "Other useful list methods include `.insert(index,newel)` and `.remove(el)`,\n",
    "which allow to insert and remove objects at arbitrary locations in the list."
   ]
  },
  {
   "cell_type": "markdown",
   "id": "05039096-0088-4a74-8c44-3f6686441c35",
   "metadata": {},
   "source": [
    "### List-related builtin functions"
   ]
  },
  {
   "cell_type": "markdown",
   "id": "19eb9950-33f7-4187-b4f2-7918aa3cf1cb",
   "metadata": {},
   "source": [
    "Here are some Python built-in functions that work on lists:\n",
    "\n",
    "- `print`: print the contents of the list\n",
    "- `len`: calculate length of the list\n",
    "- `sorted`: return a copy of the list in sorted order\n",
    "- `sum`: add together all the values in a list of numbers\n",
    "- `max`: find the largest value in a list of numbers\n",
    "- `min`: find the smallest value in a list of numbers"
   ]
  },
  {
   "cell_type": "markdown",
   "id": "729699e7",
   "metadata": {},
   "source": [
    "## For loops\n",
    "\n",
    "The `for`-loop is a programming concept that allows us to repeat some operation or calculation multiple times.\n",
    "The most common use case of a for-loop is to perform some calculation for each element in a list. \n",
    "\n",
    "\n",
    "The syntax of a Python `for`-loop looks like like this:\n",
    "\n",
    "```Python\n",
    "for <element> in <container>:\n",
    "    <operation 1 using `element`>\n",
    "    <operation 2 using `element`>\n",
    "    <operation 3 using `element`>\n",
    "\n",
    "```\n",
    "\n",
    "This above code repeats operation 1, 2, and 3 **for each** element `<element>` in the list `<container>`.\n",
    "The operations we want to repeat are indented by four spaces,\n",
    "which indicates they are part of the body of the for loop.\n",
    "Recall we previously used indentation to delimit the function body."
   ]
  },
  {
   "cell_type": "markdown",
   "id": "a657df75-ca7c-434a-abcb-3ceeb251d657",
   "metadata": {},
   "source": [
    "### Example 1: Print all the scores\n",
    "\n",
    "We start with a basic example of a `for`-loop\n",
    "that simply prints the value of each element."
   ]
  },
  {
   "cell_type": "code",
   "execution_count": 43,
   "id": "56002dd2",
   "metadata": {},
   "outputs": [
    {
     "name": "stdout",
     "output_type": "stream",
     "text": [
      "61\n",
      "79\n",
      "98\n",
      "72\n"
     ]
    }
   ],
   "source": [
    "scores = [61, 79, 98, 72]\n",
    "\n",
    "for score in scores:\n",
    "    print(score)"
   ]
  },
  {
   "cell_type": "markdown",
   "id": "1990cc66-28ac-43eb-9942-2266aa84608b",
   "metadata": {},
   "source": [
    "A `for`-loop describes a certain action or actions that you want Python to repeat.\n",
    "The `for`-loop shown in the code cell above\n",
    "instructs Python to repeat the action `print(score)`\n",
    "for four times,\n",
    "once for each `score` in the list `scores`.\n",
    "We know this is the operation to be repeated\n",
    "because it is indented and hence \"inside\" the for loop."
   ]
  },
  {
   "cell_type": "markdown",
   "id": "856e9b19-5e3d-4f96-999c-d85ce82216e0",
   "metadata": {},
   "source": [
    "### Example 2: Compute the average score\n",
    "\n",
    "The math formula for computing the mean (average value) of a list of numbers\n",
    "$[x_1, x_2, \\ldots, x_n]$ is:\n",
    "$\\overline{\\mathbf{x}} = \\left( x_1 + x_2 + \\cdots + x_n \\right) / n$.\n",
    "We previously computed the average using the functions `sum` and `len`:\n",
    "`avg = sum(grades)/len(grades)`,\n",
    "but suppose we don't have access to the function `sum` for some reason,\n",
    "and we want to compute the sum of the grades using a `for`-loop."
   ]
  },
  {
   "cell_type": "code",
   "execution_count": 44,
   "id": "dfcd2e70",
   "metadata": {},
   "outputs": [
    {
     "data": {
      "text/plain": [
       "77.5"
      ]
     },
     "execution_count": 44,
     "metadata": {},
     "output_type": "execute_result"
    }
   ],
   "source": [
    "total = 0\n",
    "for score in scores:\n",
    "    total = total + score\n",
    "\n",
    "avg = total / len(scores)\n",
    "avg"
   ]
  },
  {
   "cell_type": "markdown",
   "id": "8a39ef9b-ba40-401d-a42c-8f30581431c8",
   "metadata": {},
   "source": [
    "On the first line,\n",
    "we define the temporary variable `total` (initially set to `0`),\n",
    "which we'll use to store the intermediate values of the sum after each iteration of the for loop.\n",
    "Next,\n",
    "the `for`-loop tells Python to go through the list `scores`.\n",
    "For each `score` in the list,\n",
    "we perform the operation `total = total + score`.\n",
    "When the for loop is finished,\n",
    "we have added all the `scores` to the `total`.\n",
    "In other words, we have obtained `total = sum(scores)`.\n",
    "To obtain the average,\n",
    "we divide `total` by the length of the list.\n",
    "\n",
    "Visit this link [`tinyurl.com/3bpx887v`](https://tinyurl.com/3bpx887v)\n",
    "to see a step-by-step visualization of the `for`-loop execution,\n",
    "which shows how the variable `total` grows after each iteration of the loop.\n",
    "See also this [blog post](https://minireference.com/blog/python-for-stats/#for-loops)\n",
    "which also talks about `for`-loops."
   ]
  },
  {
   "cell_type": "markdown",
   "id": "dfb40478",
   "metadata": {},
   "source": [
    "#### Loop variable names\n",
    "The name of the variable used for the `for`-loop is totally up to you,\n",
    "but you should choose logical names for elements of the list.\n",
    "For example if the list is called `objs`,\n",
    "it makes sense to use `obj` as the name of the loop variable:\n",
    "`for obj in objs: ...`.\n",
    "<!-- \n",
    "Given a list of profiles `profiles`,\n",
    "write the `for`-loop `for profile in profiles: ...`.\n",
    "Given a list of graph nodes `nodes`,\n",
    "use a for-loop like `for node in nodes: ...`, etc. -->"
   ]
  },
  {
   "cell_type": "markdown",
   "id": "0e043a84-8a9e-4bba-91f7-b1aebb63ec5f",
   "metadata": {},
   "source": [
    "### List comprehension (bonus topic)\n",
    "\n",
    "Very often when programming,\n",
    "we need to transform a list of values,\n",
    "by applying the same function `fun` to each value in a list.\n",
    "Using the standard `for`-loop syntax,\n",
    "this operation requires four lines of code:\n",
    "\n",
    "```Python\n",
    "newvalues = []\n",
    "for value in values:\n",
    "    newvalue = fun(value)\n",
    "    newvalues.append(newvalue)\n",
    "```\n",
    "\n",
    "This code uses a `for`-loop to apply the function `fun` to each \n",
    "element in the list `values`,\n",
    "and appends the transformed values to the list `newvalues`.\n",
    "\n",
    "This type of code occurs so often that Python\n",
    "provides a shorthand syntax for describing this type of list transformations:\n",
    "\n",
    "```Python\n",
    "newvalues = [fun(value) for value in values]\n",
    "```\n",
    "\n",
    "This is called the \"list comprehension syntax,\"\n",
    "and is the preferred way to express simple list transformations,\n",
    "since it easier to read and fits on a single line.\n",
    "Here is an example,\n",
    "of applying of the function `double` to a list of five integers."
   ]
  },
  {
   "cell_type": "code",
   "execution_count": 45,
   "id": "0366153c-0d85-464b-b258-f23bbaa2f379",
   "metadata": {},
   "outputs": [
    {
     "data": {
      "text/plain": [
       "[2, 4, 6, 8, 10]"
      ]
     },
     "execution_count": 45,
     "metadata": {},
     "output_type": "execute_result"
    }
   ],
   "source": [
    "numbers = [1, 2, 3, 4, 5]\n",
    "doubles = [double(number) for number in numbers]\n",
    "doubles"
   ]
  },
  {
   "cell_type": "markdown",
   "id": "e394d4f4-af3e-4bec-8ae5-34f6b1f4227a",
   "metadata": {
    "tags": []
   },
   "source": [
    "\n",
    "# Boolean variables and conditional statements\n",
    "\n",
    "Boolean variables can have one of two possible values, either `True` or `False`.\n",
    "We obtain boolean values when we perform numerical comparisons."
   ]
  },
  {
   "cell_type": "code",
   "execution_count": 46,
   "id": "ddae232f-1bee-4264-b2bd-cc845ab06c1a",
   "metadata": {},
   "outputs": [
    {
     "data": {
      "text/plain": [
       "True"
      ]
     },
     "execution_count": 46,
     "metadata": {},
     "output_type": "execute_result"
    }
   ],
   "source": [
    "x = 3\n",
    "x > 2  # Is x greater than 2?"
   ]
  },
  {
   "cell_type": "markdown",
   "id": "f34dcdb0-7faf-45fd-bf7d-c11370a685da",
   "metadata": {},
   "source": [
    "Other arithmetic comparisons include `<`, `>=`, `<=`, `==` (equal to), `!=` (not equal to)."
   ]
  },
  {
   "cell_type": "markdown",
   "id": "e4e17cad-290a-4006-a961-5e0b5c9b1ccf",
   "metadata": {},
   "source": [
    "The `in` operator can be used to check if an object is part of a list (or another kind of collection)."
   ]
  },
  {
   "cell_type": "code",
   "execution_count": 47,
   "id": "ee093a89-c0e8-4697-b851-730266148e36",
   "metadata": {},
   "outputs": [
    {
     "data": {
      "text/plain": [
       "True"
      ]
     },
     "execution_count": 47,
     "metadata": {},
     "output_type": "execute_result"
    }
   ],
   "source": [
    "x = 3\n",
    "x in [1,2,3,4]  # Is x in the list [1,2,3,4] ?"
   ]
  },
  {
   "cell_type": "markdown",
   "id": "2b37aea5-c91a-4515-b0f7-4094b76ff27a",
   "metadata": {},
   "source": [
    "Boolean expressions are used in conditional statements,\n",
    "which are blocks of Python code that may or may not be executed depending on the value of a boolean expression."
   ]
  },
  {
   "cell_type": "markdown",
   "id": "181541a8-3ede-4985-b712-2b443d532c72",
   "metadata": {},
   "source": [
    "## Conditional statements\n",
    "\n",
    "The Python keywords `if`, `elif`, and `else` \n",
    "to perform conditional code execution."
   ]
  },
  {
   "cell_type": "code",
   "execution_count": 48,
   "id": "aff62239-c311-4639-bcbb-3a67d617318a",
   "metadata": {},
   "outputs": [
    {
     "name": "stdout",
     "output_type": "stream",
     "text": [
      "This code will run\n"
     ]
    }
   ],
   "source": [
    "if True:\n",
    "    print(\"This code will run\")\n",
    "\n",
    "if False:\n",
    "    print(\"This code will not run\")"
   ]
  },
  {
   "cell_type": "code",
   "execution_count": 49,
   "id": "bb67abe5-01e6-413b-9f24-863e7270cca3",
   "metadata": {},
   "outputs": [
    {
     "name": "stdout",
     "output_type": "stream",
     "text": [
      "x is greater than 2\n"
     ]
    }
   ],
   "source": [
    "x = 3\n",
    "if x > 2:\n",
    "    print(\"x is greater than 2\")\n",
    "else:\n",
    "    print(\"x is less than or equal to 2\")"
   ]
  },
  {
   "cell_type": "markdown",
   "id": "c4129c72-7547-45f6-a31c-e0d9127e0a97",
   "metadata": {},
   "source": [
    "We can do multiple checks using `elif` statements."
   ]
  },
  {
   "cell_type": "code",
   "execution_count": 50,
   "id": "b0cb5ac6-acdc-4af4-b953-c2c5f072d53f",
   "metadata": {},
   "outputs": [
    {
     "name": "stdout",
     "output_type": "stream",
     "text": [
      "It's hot.\n"
     ]
    }
   ],
   "source": [
    "temp = 25\n",
    "\n",
    "if temp > 22:\n",
    "    print(\"It's hot.\")\n",
    "elif temp < 10:\n",
    "    print(\"It's cold.\")\n",
    "else:\n",
    "    print(\"It's OK.\")"
   ]
  },
  {
   "cell_type": "markdown",
   "id": "e05ed112-5aab-4db8-901e-4562d1658809",
   "metadata": {},
   "source": [
    "**Exercise 7**: Add another condition to the above code to print `It's very hot!` if the temperature is above 30."
   ]
  },
  {
   "cell_type": "code",
   "execution_count": 51,
   "id": "4149fb35-ddbb-44f3-9565-85d1c2aafe93",
   "metadata": {},
   "outputs": [
    {
     "name": "stdout",
     "output_type": "stream",
     "text": [
      "It's hot.\n"
     ]
    }
   ],
   "source": [
    "temp = 33\n",
    "\n",
    "# edit the code below to insert the new condition\n",
    "if temp > 22:\n",
    "    print(\"It's hot.\")\n",
    "elif temp < 10:\n",
    "    print(\"It's cold.\")\n",
    "else:\n",
    "    print(\"It's OK.\")"
   ]
  },
  {
   "cell_type": "code",
   "execution_count": 52,
   "id": "40af59c2-e90e-4bd9-953d-3fbeee946dd5",
   "metadata": {},
   "outputs": [
    {
     "name": "stdout",
     "output_type": "stream",
     "text": [
      "It's very hot!\n"
     ]
    }
   ],
   "source": [
    "#@titlesolution Exercise 7 temp-is-very-hot\n",
    "temp = 33\n",
    "\n",
    "if temp > 30:\n",
    "    print(\"It's very hot!\")\n",
    "elif temp > 22:\n",
    "    print(\"It's hot.\")\n",
    "elif temp < 10:\n",
    "    print(\"It's cold.\")\n",
    "else:\n",
    "    print(\"It's OK.\")"
   ]
  },
  {
   "cell_type": "markdown",
   "id": "1906dd11-042e-4f9f-9af3-7d67070c1018",
   "metadata": {},
   "source": [
    "## Boolean expressions\n",
    "\n",
    "You can use `bool` variables and the logical operations `and`, `or`, `not`, etc. to build more complicated boolean expressions (logical conjunctions, disjunctions, and negations)."
   ]
  },
  {
   "cell_type": "code",
   "execution_count": 53,
   "id": "a3fd0d1a-b256-495a-b747-b895a42e91fc",
   "metadata": {},
   "outputs": [
    {
     "data": {
      "text/plain": [
       "(True, False, False, False)"
      ]
     },
     "execution_count": 53,
     "metadata": {},
     "output_type": "execute_result"
    }
   ],
   "source": [
    "True and True, True and False, False and True, False and False"
   ]
  },
  {
   "cell_type": "code",
   "execution_count": 54,
   "id": "0204a343-689e-475e-82f2-bcccfea7f47d",
   "metadata": {},
   "outputs": [
    {
     "data": {
      "text/plain": [
       "(True, True, True, False)"
      ]
     },
     "execution_count": 54,
     "metadata": {},
     "output_type": "execute_result"
    }
   ],
   "source": [
    "True or True, True or False, False or True, False or False"
   ]
  },
  {
   "cell_type": "code",
   "execution_count": 55,
   "id": "b517fd0f",
   "metadata": {},
   "outputs": [
    {
     "data": {
      "text/plain": [
       "True"
      ]
     },
     "execution_count": 55,
     "metadata": {},
     "output_type": "execute_result"
    }
   ],
   "source": [
    "x = 3\n",
    "x >= 0 and x <= 10"
   ]
  },
  {
   "cell_type": "code",
   "execution_count": 56,
   "id": "0df03371-779f-4aa9-afdc-6c135f4fe26c",
   "metadata": {},
   "outputs": [
    {
     "data": {
      "text/plain": [
       "False"
      ]
     },
     "execution_count": 56,
     "metadata": {},
     "output_type": "execute_result"
    }
   ],
   "source": [
    "x < 0 or x > 10"
   ]
  },
  {
   "cell_type": "markdown",
   "id": "9db34712-53e1-412c-909a-41abe9a845f7",
   "metadata": {},
   "source": [
    "**Exercise 8**.\n",
    "The phase of water (at sea-level pressure = 1 atm = 101.3 kPa = 14.7 psi) ,\n",
    "depends on its temperature `temp`.\n",
    "The three possible phases of water are `\"gas\"` (water vapour), `\"liquid\"` (water), and `\"solid\"` (ice).\n",
    "The table below shows the phase of water depending on the temperature `temp`,\n",
    "expresses as math inequalities.\n",
    "\n",
    "```\n",
    "temp range          phase\n",
    "---------------     -----\n",
    "temp >= 100         gas\n",
    "0 <= temp < 100     liquid\n",
    "temp < 0            solid\n",
    "```\n",
    "\n",
    "Your task is to fill-in the `if-elif-else` statement in the code cell below,\n",
    "in order to print the correct phase string,\n",
    "depending on the value of the variables `temp`."
   ]
  },
  {
   "cell_type": "code",
   "execution_count": 57,
   "id": "e9ff9df7-38b0-4812-8cc6-ef053f725797",
   "metadata": {},
   "outputs": [],
   "source": [
    "# temperature in Celcius (int or float)\n",
    "temp = 90\n",
    "\n",
    "# if ...:\n",
    "#     print(....)\n",
    "# elif ...:\n",
    "#     print(....)\n",
    "# else:\n",
    "#     print(....)\n",
    "\n",
    "\n",
    "# uncomment the code if-elif-else statement above and replace:\n",
    "#   ... with conditions (translate math inequaility into Python code),\n",
    "#  .... with the appropriate phase string (one of \"gas\", \"liquid\", or \"solid\")"
   ]
  },
  {
   "cell_type": "code",
   "execution_count": 58,
   "id": "72f83a8b-264d-4413-9a74-cc707408a977",
   "metadata": {},
   "outputs": [
    {
     "name": "stdout",
     "output_type": "stream",
     "text": [
      "liquid\n"
     ]
    }
   ],
   "source": [
    "#@titlesolution Exercise 8 water-phases\n",
    "temp = 90\n",
    "\n",
    "if temp >= 100:\n",
    "    print(\"gas\")\n",
    "elif 0 <= temp < 100:\n",
    "    print(\"liquid\")\n",
    "else:\n",
    "    print(\"solid\")"
   ]
  },
  {
   "cell_type": "markdown",
   "id": "1057795c-4e61-42e2-b54c-d1be1879934f",
   "metadata": {},
   "source": [
    "**Exercise 9**.\n",
    "Teacher Joelle has computed the final scores of the students as a percentage (a `score` out of 100). The final grade was computed as a weighted combination of the student's average grade on the assignments, one midterm exam, and a final exam (more on this later).\n",
    "\n",
    "The school where she teachers, requires her to convert each student's `score` to a  letter grade, according to the following grading scale:\n",
    "\n",
    "```\n",
    "Grade         Numerical score interval\n",
    "A             90% – 100%\n",
    "B             70% – 89.999…%\n",
    "C             50% – 69.999…%\n",
    "F             0% – 49.999…%\n",
    "```\n",
    "Write the `if`-`elif`-`elif`-...-`else` statement\n",
    "that takes the `score` variable (an integer between 0 and 100),\n",
    "and prints the appropriate letter grade for that score."
   ]
  },
  {
   "cell_type": "code",
   "execution_count": 59,
   "id": "dd91cc5f-8079-4ee9-b36f-7d2177d8a1c6",
   "metadata": {},
   "outputs": [],
   "source": [
    "# student score as a percentage\n",
    "score = 90  # change value to test different conditions\n",
    "\n",
    "# if ...:\n",
    "#     print(.)\n",
    "# elif ...:\n",
    "#     print(.)\n",
    "# elif ...:\n",
    "#     print(.)\n",
    "# ......\n",
    "\n",
    "# Instructions:\n",
    "# uncomment the code if-elif-.. statement above and replace:\n",
    "#    ... with the appropriate conditions,\n",
    "#      . with the appropriate letter grades (strings), and\n",
    "# ...... with additional elif or else blocks to cover all the cases."
   ]
  },
  {
   "cell_type": "code",
   "execution_count": 60,
   "id": "5f32a484-b4c2-45e9-8b5c-348913e3eee8",
   "metadata": {},
   "outputs": [
    {
     "name": "stdout",
     "output_type": "stream",
     "text": [
      "A\n"
     ]
    }
   ],
   "source": [
    "#@titlesolution Exercise 9 student-letter-grades\n",
    "score = 91\n",
    "\n",
    "if score >= 90:\n",
    "    print(\"A\")\n",
    "elif score >= 70:\n",
    "    print(\"B\")\n",
    "elif score >= 50:\n",
    "    print(\"C\")\n",
    "else:\n",
    "    print(\"F\")"
   ]
  },
  {
   "cell_type": "markdown",
   "id": "60fdfc11-0acf-42af-bdc9-85d8f9a80ee9",
   "metadata": {},
   "source": [
    "## Inline if statements (bonus topic)\n",
    "\n",
    "We can also use if-else keywords to compute conditional expressions.\n",
    "The general syntax for these is:\n",
    "```Python\n",
    "<value1> if <condition> else <value2>\n",
    "```\n",
    "\n",
    "This expressions evaluates to `<value1>` if `<condition>` is True,\n",
    "else it evaluates to `<value2>` when `<condition>` is False."
   ]
  },
  {
   "cell_type": "code",
   "execution_count": 61,
   "id": "9c2ab462-9fd8-4054-95c3-d9c9777b8ca5",
   "metadata": {},
   "outputs": [
    {
     "data": {
      "text/plain": [
       "\"It's hot!\""
      ]
     },
     "execution_count": 61,
     "metadata": {},
     "output_type": "execute_result"
    }
   ],
   "source": [
    "temp = 25\n",
    "msg = \"It's hot!\" if temp > 22 else \"It's OK.\"\n",
    "msg"
   ]
  },
  {
   "cell_type": "markdown",
   "id": "0156f40d-161e-4033-93ee-e6939d53490d",
   "metadata": {},
   "source": [
    "\n",
    "# Other data structures\n",
    "\n",
    "We already discussed `list`s, which is the most important data structure (container for data) in Python.\n",
    "In this section we'll briefly introduce some other data structures you might encounter."
   ]
  },
  {
   "cell_type": "markdown",
   "id": "657f7ee0-2441-4e27-8f68-f158be75b648",
   "metadata": {},
   "source": [
    "## Strings\n",
    "\n",
    "In Python string object, type `str`,\n",
    "are a generic container for storing text.\n",
    "We create a string by enclosing some piece of text\n",
    "in single quotes `'` or double quotes `\"`."
   ]
  },
  {
   "cell_type": "code",
   "execution_count": 62,
   "id": "4938f4b0-0cd4-48fe-91ba-f2de8f88abe1",
   "metadata": {},
   "outputs": [
    {
     "data": {
      "text/plain": [
       "str"
      ]
     },
     "execution_count": 62,
     "metadata": {},
     "output_type": "execute_result"
    }
   ],
   "source": [
    "message = \"Hello everyone\"\n",
    "type(message)"
   ]
  },
  {
   "cell_type": "markdown",
   "id": "20f41526-ee09-4621-bcb9-454406812a8e",
   "metadata": {},
   "source": [
    "### String expressions\n",
    "\n",
    "Let's look at some expressions that involve strings."
   ]
  },
  {
   "cell_type": "markdown",
   "id": "26f7e714-af97-45f4-a74b-13d72ed40a85",
   "metadata": {},
   "source": [
    "For strings, the `+` operation means concatenate (combine)."
   ]
  },
  {
   "cell_type": "code",
   "execution_count": 63,
   "id": "cacec474-dbdf-4dd2-9ae9-c2f73266ffc6",
   "metadata": {},
   "outputs": [
    {
     "data": {
      "text/plain": [
       "'Hello julie'"
      ]
     },
     "execution_count": 63,
     "metadata": {},
     "output_type": "execute_result"
    }
   ],
   "source": [
    "name = \"julie\"\n",
    "message = \"Hello \" + name\n",
    "message"
   ]
  },
  {
   "cell_type": "code",
   "execution_count": 64,
   "id": "4ac8448a-7481-4ecf-96fe-48777dc3aa38",
   "metadata": {},
   "outputs": [
    {
     "data": {
      "text/plain": [
       "'Hi Julie Tremblay!'"
      ]
     },
     "execution_count": 64,
     "metadata": {},
     "output_type": "execute_result"
    }
   ],
   "source": [
    "first_name = \"Julie\"\n",
    "last_name = \"Tremblay\"\n",
    "full_name = first_name + \" \" + last_name\n",
    "message = \"Hi \" + full_name + \"!\"\n",
    "message"
   ]
  },
  {
   "cell_type": "markdown",
   "id": "9b3d5460-769f-48ef-aa16-5530e471522f",
   "metadata": {
    "tags": []
   },
   "source": [
    "### Strings are lists of characters\n",
    "\n",
    "You can think of the string `\"abc\"` a being equivalent to a list of three characters `[\"a\", \"b\", \"c\"]`,\n",
    "and use the usual list syntax to access the individual characters in the list.\n",
    "\n",
    "To illustrate this list-like behaviour of strings,\n",
    "let's define a string of length 26 that contains all the lowercase Latin letters."
   ]
  },
  {
   "cell_type": "code",
   "execution_count": 65,
   "id": "b4a766d5-8f1b-4973-a6c1-8fdfc28140cc",
   "metadata": {},
   "outputs": [
    {
     "data": {
      "text/plain": [
       "'abcdefghijklmnopqrstuvwxyz'"
      ]
     },
     "execution_count": 65,
     "metadata": {},
     "output_type": "execute_result"
    }
   ],
   "source": [
    "letters = \"abcdefghijklmnopqrstuvwxyz\"\n",
    "letters"
   ]
  },
  {
   "cell_type": "code",
   "execution_count": 66,
   "id": "22b75d6b-5459-4548-81d5-50bd9f1b7dbe",
   "metadata": {},
   "outputs": [
    {
     "data": {
      "text/plain": [
       "26"
      ]
     },
     "execution_count": 66,
     "metadata": {},
     "output_type": "execute_result"
    }
   ],
   "source": [
    "len(letters)"
   ]
  },
  {
   "cell_type": "markdown",
   "id": "2a91f138-6236-48e3-9c8d-13f1c2f47c98",
   "metadata": {},
   "source": [
    "We can access the individual characters within the using the square brackets.\n",
    "For example, the index of the letter `\"a\"` in the string `letters` is `0`:"
   ]
  },
  {
   "cell_type": "code",
   "execution_count": 67,
   "id": "6fbe60a9-7cb4-445b-8e60-51f24aaf30d3",
   "metadata": {},
   "outputs": [
    {
     "data": {
      "text/plain": [
       "'a'"
      ]
     },
     "execution_count": 67,
     "metadata": {},
     "output_type": "execute_result"
    }
   ],
   "source": [
    "letters[0]"
   ]
  },
  {
   "cell_type": "markdown",
   "id": "9b68ff0d-5e01-4cf4-8614-828208f6b91e",
   "metadata": {},
   "source": [
    "The index of the letter `\"b\"` in the string `letters` is `1`:"
   ]
  },
  {
   "cell_type": "code",
   "execution_count": 68,
   "id": "b85fb88e-75a9-4e15-8d38-d0d035f8de4c",
   "metadata": {},
   "outputs": [
    {
     "data": {
      "text/plain": [
       "'b'"
      ]
     },
     "execution_count": 68,
     "metadata": {},
     "output_type": "execute_result"
    }
   ],
   "source": [
    "letters[1]"
   ]
  },
  {
   "cell_type": "markdown",
   "id": "35f7b0f7-8095-4c36-875b-a2f781b5b3fe",
   "metadata": {},
   "source": [
    "The last element in list of 26 letters has index `25`"
   ]
  },
  {
   "cell_type": "code",
   "execution_count": 69,
   "id": "e91868f7-65b6-4914-85fb-37f593b469b9",
   "metadata": {},
   "outputs": [
    {
     "data": {
      "text/plain": [
       "'z'"
      ]
     },
     "execution_count": 69,
     "metadata": {},
     "output_type": "execute_result"
    }
   ],
   "source": [
    "letters[25]"
   ]
  },
  {
   "cell_type": "markdown",
   "id": "e7921a3f-dd3a-4784-ba41-84f13e6ca471",
   "metadata": {},
   "source": [
    "Alternatively,\n",
    "we can access the last letter using the negative index `-1`:"
   ]
  },
  {
   "cell_type": "code",
   "execution_count": 70,
   "id": "14a8ffb8-f13d-4a86-b157-e2a4ef608b2b",
   "metadata": {},
   "outputs": [
    {
     "data": {
      "text/plain": [
       "'z'"
      ]
     },
     "execution_count": 70,
     "metadata": {},
     "output_type": "execute_result"
    }
   ],
   "source": [
    "letters[-1]"
   ]
  },
  {
   "cell_type": "markdown",
   "id": "ad2b5cfb-6b53-4286-b8ba-2f9d3d5e6026",
   "metadata": {},
   "source": [
    "We can use slicing to get any substring that spans a particular range of indices.\n",
    "For example,\n",
    "the first four letters of the alphabet are are:"
   ]
  },
  {
   "cell_type": "code",
   "execution_count": 71,
   "id": "1f73b115-bbca-43a0-a9bc-ce7913d28624",
   "metadata": {},
   "outputs": [
    {
     "data": {
      "text/plain": [
       "'abcd'"
      ]
     },
     "execution_count": 71,
     "metadata": {},
     "output_type": "execute_result"
    }
   ],
   "source": [
    "letters[0:4]"
   ]
  },
  {
   "cell_type": "markdown",
   "id": "eb1ac6a2-6922-4a6c-89ae-b3952caa668c",
   "metadata": {},
   "source": [
    "The syntax `0:4` is a shorthand for the expression `slice(0,4)`,\n",
    "which corresponds to the range of indices from `0` (inclusive) to `4` (non-inclusinve): `[0,1,2,3]`."
   ]
  },
  {
   "cell_type": "markdown",
   "id": "0ec6ca56-1f63-47ce-8cf5-456581cd12c8",
   "metadata": {},
   "source": [
    "## Dictionaries\n",
    "\n",
    "One of the most useful data structure when programming is the associative array,\n",
    "which is called a dictionary (`dict`) in Python.\n",
    "A dictionary is a container of key-value pairs:\n",
    "we use the keys to access the different values in the container.\n",
    "<!-- mapping between a set of \"keys\" and a set of \"values\". -->\n",
    "\n",
    "For example,\n",
    "the code below defines dictionary `profile` that contains three keys-value pairs."
   ]
  },
  {
   "cell_type": "code",
   "execution_count": 72,
   "id": "2cbe5469-d441-4527-b8cc-df5d550f7f87",
   "metadata": {},
   "outputs": [
    {
     "data": {
      "text/plain": [
       "{'first_name': 'Julie', 'last_name': 'Tremblay', 'score': 98}"
      ]
     },
     "execution_count": 72,
     "metadata": {},
     "output_type": "execute_result"
    }
   ],
   "source": [
    "profile = {\"first_name\": \"Julie\",\n",
    "           \"last_name\": \"Tremblay\",\n",
    "           \"score\": 98}\n",
    "profile"
   ]
  },
  {
   "cell_type": "markdown",
   "id": "1446f2ff-12b2-4282-b7ce-8d39bdc458e5",
   "metadata": {},
   "source": [
    "Note the syntax for creating a dictionary is based on the curly braces `{` and `}`,\n",
    "and inside which we place `\"key\": value`, pairs separated by commas.\n",
    "We wrote the dictionary as multi-line expression, which helps with readability.\n",
    "\n",
    "In the dictionary example above, the keys are `\"first_name\"`, `\"last_name\"`, and `\"score\"`,\n",
    "and their associated values are `\"Julie\"`, `\"Tremblay\"` (stings), and `98` (an int)."
   ]
  },
  {
   "cell_type": "code",
   "execution_count": 73,
   "id": "6e56bd8a-15ba-496e-8a1a-86ca55939848",
   "metadata": {},
   "outputs": [
    {
     "data": {
      "text/plain": [
       "dict"
      ]
     },
     "execution_count": 73,
     "metadata": {},
     "output_type": "execute_result"
    }
   ],
   "source": [
    "type(profile)"
   ]
  },
  {
   "cell_type": "code",
   "execution_count": 74,
   "id": "7137d147-a739-4882-8795-e39770b436a9",
   "metadata": {},
   "outputs": [
    {
     "data": {
      "text/plain": [
       "dict_keys(['first_name', 'last_name', 'score'])"
      ]
     },
     "execution_count": 74,
     "metadata": {},
     "output_type": "execute_result"
    }
   ],
   "source": [
    "profile.keys()"
   ]
  },
  {
   "cell_type": "code",
   "execution_count": 75,
   "id": "cf558c1f-bb8a-43c5-9159-61c2de03dc8f",
   "metadata": {},
   "outputs": [
    {
     "data": {
      "text/plain": [
       "dict_values(['Julie', 'Tremblay', 98])"
      ]
     },
     "execution_count": 75,
     "metadata": {},
     "output_type": "execute_result"
    }
   ],
   "source": [
    "profile.values()"
   ]
  },
  {
   "cell_type": "markdown",
   "id": "4645a9a8-7a45-4927-abe6-7bfe6d6537b2",
   "metadata": {},
   "source": [
    "You access the value in the dictionary using the square brackets syntax.\n",
    "For example,\n",
    "here is how we can get the value associated with key `\"score\"` in the dictionary `profile`."
   ]
  },
  {
   "cell_type": "code",
   "execution_count": 76,
   "id": "292445ea-72b6-4adc-a06d-08d4e5d574d0",
   "metadata": {},
   "outputs": [
    {
     "data": {
      "text/plain": [
       "98"
      ]
     },
     "execution_count": 76,
     "metadata": {},
     "output_type": "execute_result"
    }
   ],
   "source": [
    "profile[\"score\"]"
   ]
  },
  {
   "cell_type": "markdown",
   "id": "c9829ba4-fd49-4d30-be8e-78a33e5d7dbf",
   "metadata": {},
   "source": [
    "We have seen the square bracket syntax earlier for accessing the values within a list.\n",
    "Indeed, lists and dictionaries are both containers objects,\n",
    "and we use square brackets syntax to access elements within them.\n",
    "\n",
    "**Side note**: You can think of a list as a special type of dictionary that has the integers `0`, `1`, `2`, as keys. Alternatively, you can think of dictionaries as \"fancy lists\" that allow keys to be arbitrary instead of being limited to sequential integer indices."
   ]
  },
  {
   "cell_type": "markdown",
   "id": "a57c81b0-085d-4276-b032-5957be335160",
   "metadata": {},
   "source": [
    "You can change the value associate with any key by assigning a new value to it:"
   ]
  },
  {
   "cell_type": "code",
   "execution_count": 77,
   "id": "cea52a07-c70b-497a-8bd6-a13231032aef",
   "metadata": {},
   "outputs": [
    {
     "data": {
      "text/plain": [
       "{'first_name': 'Julie', 'last_name': 'Tremblay', 'score': 77}"
      ]
     },
     "execution_count": 77,
     "metadata": {},
     "output_type": "execute_result"
    }
   ],
   "source": [
    "profile[\"score\"] = 77\n",
    "profile"
   ]
  },
  {
   "cell_type": "markdown",
   "id": "372c2d3b-7877-450f-9861-38896ebda440",
   "metadata": {},
   "source": [
    "You can also add a new key-value pair to the dictionary by assigning a value to a key that doesn't exist yet:"
   ]
  },
  {
   "cell_type": "code",
   "execution_count": 78,
   "id": "24b4ddb0-0087-4bf4-a994-64f57b98e685",
   "metadata": {},
   "outputs": [
    {
     "data": {
      "text/plain": [
       "{'first_name': 'Julie', 'last_name': 'Tremblay', 'score': 77, 'age': 42}"
      ]
     },
     "execution_count": 78,
     "metadata": {},
     "output_type": "execute_result"
    }
   ],
   "source": [
    "profile[\"age\"] = 42\n",
    "profile"
   ]
  },
  {
   "cell_type": "markdown",
   "id": "4c8b816f-1e00-4083-bc1d-03d9efbac403",
   "metadata": {},
   "source": [
    "Note the dictionary `profile` now has a new key `age`,\n",
    "with the value `42` stored under it."
   ]
  },
  {
   "cell_type": "markdown",
   "id": "6452fdc2-c54b-4f63-ad97-aa0ca5853db0",
   "metadata": {},
   "source": [
    "Recall the general syntax of an assignment statement is as follows:\n",
    "\n",
    "```Python\n",
    "<place> = <some expression>\n",
    "```\n",
    "\n",
    "In the above examples, the `<place>` refers the the location inside the `profile` dictionary identified by a particular key. In the first example,\n",
    " we assigned the value `77` to the place `profile[\"score\"]` which modified the value that was previously stored there. In the second example we assigned the value `42` to the new place `profile[\"age\"]`, so Python created it."
   ]
  },
  {
   "cell_type": "markdown",
   "id": "0d154da6-69d9-4e1b-b50c-75ffd2ab5cda",
   "metadata": {},
   "source": [
    "### Exercise 10: Creating a new profile dictionary\n",
    "\n",
    "Create a new dictionary called `profile2` with the same structure as `profile`\n",
    "containing the data for the user Alex Fortin with score 31."
   ]
  },
  {
   "cell_type": "code",
   "execution_count": 79,
   "id": "10f3f08a-12db-4fa0-b51a-c13731823284",
   "metadata": {},
   "outputs": [],
   "source": [
    "profile2 = ...  # replace ... with your answer"
   ]
  },
  {
   "cell_type": "code",
   "execution_count": 80,
   "id": "e0bd5689-068b-4240-a194-0cfa4d170240",
   "metadata": {},
   "outputs": [
    {
     "data": {
      "text/plain": [
       "{'first_name': 'Alex', 'last_name': 'Fortin', 'score': 31}"
      ]
     },
     "execution_count": 80,
     "metadata": {},
     "output_type": "execute_result"
    }
   ],
   "source": [
    "#@titlesolution Exercise 10 new-profile-dict\n",
    "profile2 = {\"first_name\": \"Alex\",\n",
    "            \"last_name\": \"Fortin\",\n",
    "            \"score\": 31}\n",
    "\n",
    "# ALT. can build up the dictionary \n",
    "profile2 = {}\n",
    "profile2[\"first_name\"] = \"Alex\"\n",
    "profile2[\"last_name\"] = \"Fortin\"\n",
    "profile2[\"score\"] = 31\n",
    "profile2"
   ]
  },
  {
   "cell_type": "markdown",
   "id": "f23b29aa-da69-46f1-aab8-f91c165432c6",
   "metadata": {},
   "source": [
    "## Objects and classes\n",
    "\n",
    "All the Python variables we've been using until now are different kinds of \"objects.\"\n",
    "An object is a the most general purpose \"container\" for data,\n",
    "that also provides functions for manipulating this data in the object.\n",
    "\n",
    "In particular:\n",
    "- **attributes**: data properties of the object\n",
    "- **methods**: functions attached to the object"
   ]
  },
  {
   "cell_type": "markdown",
   "id": "f155d7ca-1639-4d56-b588-8a54c7c7ebaf",
   "metadata": {},
   "source": [
    "### Examples"
   ]
  },
  {
   "cell_type": "markdown",
   "id": "f0cfcec7-5890-4cc3-98ef-2ff8004f45f9",
   "metadata": {},
   "source": [
    "#### Example 1: string objects"
   ]
  },
  {
   "cell_type": "code",
   "execution_count": 81,
   "id": "f6826b95-a9b5-45cf-bab9-a220f1e2d98c",
   "metadata": {},
   "outputs": [
    {
     "data": {
      "text/plain": [
       "str"
      ]
     },
     "execution_count": 81,
     "metadata": {},
     "output_type": "execute_result"
    }
   ],
   "source": [
    "msg = \"Hello world!\"\n",
    "\n",
    "type(msg)"
   ]
  },
  {
   "cell_type": "code",
   "execution_count": 82,
   "id": "6d9fa3e6-a77d-41e3-af0c-3ed9cca092d9",
   "metadata": {},
   "outputs": [],
   "source": [
    "# Uncomment the next line and press TAB after the dot\n",
    "# msg."
   ]
  },
  {
   "cell_type": "code",
   "execution_count": 83,
   "id": "2a9133a7-0f0e-4681-8d66-794551f616be",
   "metadata": {},
   "outputs": [
    {
     "data": {
      "text/plain": [
       "True"
      ]
     },
     "execution_count": 83,
     "metadata": {},
     "output_type": "execute_result"
    }
   ],
   "source": [
    "# Methods:\n",
    "msg.upper()\n",
    "msg.lower()\n",
    "msg.__len__()\n",
    "msg.isascii()\n",
    "msg.startswith(\"He\")\n",
    "msg.endswith(\"!\")"
   ]
  },
  {
   "cell_type": "markdown",
   "id": "0867ca2f-2a54-4eab-b2b3-ec4a35cd95bf",
   "metadata": {},
   "source": [
    "#### Example 2: file objects"
   ]
  },
  {
   "cell_type": "code",
   "execution_count": 84,
   "id": "2f2411b9-4ad2-4234-8593-7492e112649b",
   "metadata": {},
   "outputs": [
    {
     "data": {
      "text/plain": [
       "_io.TextIOWrapper"
      ]
     },
     "execution_count": 84,
     "metadata": {},
     "output_type": "execute_result"
    }
   ],
   "source": [
    "filename = \"message.txt\"\n",
    "file = open(filename, \"w\")\n",
    "\n",
    "type(file)"
   ]
  },
  {
   "cell_type": "code",
   "execution_count": 85,
   "id": "125f24ea-882e-4875-b475-f696e6d313b1",
   "metadata": {},
   "outputs": [],
   "source": [
    "# Uncomment the next line and press TAB after the dot\n",
    "# file."
   ]
  },
  {
   "cell_type": "code",
   "execution_count": 86,
   "id": "6ce0043e-6fc5-4ef0-8213-190ed5cc4229",
   "metadata": {},
   "outputs": [
    {
     "data": {
      "text/plain": [
       "'UTF-8'"
      ]
     },
     "execution_count": 86,
     "metadata": {},
     "output_type": "execute_result"
    }
   ],
   "source": [
    "# Attributes:\n",
    "file.name\n",
    "file.mode\n",
    "file.encoding"
   ]
  },
  {
   "cell_type": "code",
   "execution_count": 87,
   "id": "d3400e18-ccf7-446b-8270-57851594ac34",
   "metadata": {},
   "outputs": [],
   "source": [
    "# Methods:\n",
    "file.write(\"Hello world\\n\")\n",
    "file.writelines([\"line2\", \"and line3.\"])\n",
    "file.flush()\n",
    "file.close()"
   ]
  },
  {
   "cell_type": "markdown",
   "id": "fc7a0104-8902-4dd4-b293-f3efc8678859",
   "metadata": {},
   "source": [
    "## Type conversions\n",
    "\n",
    "We sometimes need to convert between variables of different types. The functions for conversing types are have the same name as the type of an object:\n",
    "\n",
    "- `int` : convert any expression into an `int`\n",
    "- `float`: convert any expression into a `float`\n",
    "- `str`: convert an expression to its text representation.\n",
    "\n",
    "<!-- cut to keep things simple:\n",
    "- `bool`: transform any expression into a `True` or `False`\n",
    "- `list`: transform an any iterable expression into a `list`\n",
    "-->"
   ]
  },
  {
   "cell_type": "markdown",
   "id": "caa0c86a-ce4f-425f-b91f-3fd6eed9cbce",
   "metadata": {},
   "source": [
    "#### Example: Converting `str` to `float`\n",
    "\n",
    "Suppose you're given the number `\"42.5\"` as a string."
   ]
  },
  {
   "cell_type": "code",
   "execution_count": 88,
   "id": "83c8e652-cf92-4870-b6f5-5f90a351adfd",
   "metadata": {},
   "outputs": [
    {
     "data": {
      "text/plain": [
       "str"
      ]
     },
     "execution_count": 88,
     "metadata": {},
     "output_type": "execute_result"
    }
   ],
   "source": [
    "type(\"42.5\")"
   ]
  },
  {
   "cell_type": "markdown",
   "id": "cfa61b11-0762-46ec-a020-420deab18fc7",
   "metadata": {},
   "source": [
    "To convert it to a floating point number,\n",
    "call the `float` function."
   ]
  },
  {
   "cell_type": "code",
   "execution_count": 89,
   "id": "cf095c04-70bd-483c-a995-c7cfb3c157b5",
   "metadata": {},
   "outputs": [
    {
     "data": {
      "text/plain": [
       "42.5"
      ]
     },
     "execution_count": 89,
     "metadata": {},
     "output_type": "execute_result"
    }
   ],
   "source": [
    "f = float(\"42.5\")\n",
    "f"
   ]
  },
  {
   "cell_type": "code",
   "execution_count": 90,
   "id": "d5233dd6-dd80-4fe4-9334-b3cbdeb3e3fa",
   "metadata": {},
   "outputs": [
    {
     "data": {
      "text/plain": [
       "float"
      ]
     },
     "execution_count": 90,
     "metadata": {},
     "output_type": "execute_result"
    }
   ],
   "source": [
    "type(f)"
   ]
  },
  {
   "cell_type": "markdown",
   "id": "fd49f7dc-c3a1-4df6-ab18-f88d703617ac",
   "metadata": {},
   "source": [
    "#### Exercise 11: Compute the sum of two strings\n",
    "\n",
    "Suppose we're given two numbers $m$ and $n$ and we want to compute their sum $m+n$.\n",
    "The two numbers are given to use given expressed as strings."
   ]
  },
  {
   "cell_type": "code",
   "execution_count": 91,
   "id": "66eab1bc-a797-4d00-8aa2-d615eb492bec",
   "metadata": {},
   "outputs": [
    {
     "name": "stdout",
     "output_type": "stream",
     "text": [
      "The variable mstr has value 2.1 and type <class 'str'>\n",
      "The variable nstr has value 3.4 and type <class 'str'>\n"
     ]
    }
   ],
   "source": [
    "mstr = \"2.1\"\n",
    "nstr = \"3.4\"\n",
    "print(\"The variable mstr has value\", mstr, \"and type\", type(mstr))\n",
    "print(\"The variable nstr has value\", nstr, \"and type\", type(nstr))"
   ]
  },
  {
   "cell_type": "markdown",
   "id": "d7cff6c2-d4f2-4a2f-853b-7153ccf2aed7",
   "metadata": {},
   "source": [
    "Let's try adding the two numbers together to see what happens..."
   ]
  },
  {
   "cell_type": "code",
   "execution_count": 92,
   "id": "b32fbd79-ef98-4af5-bb32-d441baea5407",
   "metadata": {},
   "outputs": [
    {
     "data": {
      "text/plain": [
       "'2.13.4'"
      ]
     },
     "execution_count": 92,
     "metadata": {},
     "output_type": "execute_result"
    }
   ],
   "source": [
    "mstr + nstr"
   ]
  },
  {
   "cell_type": "markdown",
   "id": "0604b718-3e8f-4d0d-935f-b4e3c3ad7073",
   "metadata": {},
   "source": [
    "This is because the addition operator `+` for strings means concatenate, not add.\n",
    "Python doesn't know automatically that the two text strings are mean to be numbers.\n",
    "\n",
    "We have to manually convert the strings to a Python numerical type (`float`) first,\n",
    "then we can add them together."
   ]
  },
  {
   "cell_type": "markdown",
   "id": "edae3c44-ebbf-487a-ab0b-783bb9218678",
   "metadata": {},
   "source": [
    "Write the Python code that converts the variables `mstr` and `nstr` to floating point numbers and add them together."
   ]
  },
  {
   "cell_type": "code",
   "execution_count": 93,
   "id": "0b40efd6-4363-4668-a30b-8f3566149076",
   "metadata": {},
   "outputs": [],
   "source": [
    "# put your solution here"
   ]
  },
  {
   "cell_type": "code",
   "execution_count": 94,
   "id": "2e222e82-84b1-4640-8522-3693f3965a7a",
   "metadata": {},
   "outputs": [
    {
     "name": "stdout",
     "output_type": "stream",
     "text": [
      "The variable mfloat has value 2.1 and type <class 'float'>\n",
      "The variable nfloat has value 3.4 and type <class 'float'>\n"
     ]
    },
    {
     "data": {
      "text/plain": [
       "5.5"
      ]
     },
     "execution_count": 94,
     "metadata": {},
     "output_type": "execute_result"
    }
   ],
   "source": [
    "#@titlesolution Exercise 11 sum-of-two-strings\n",
    "mfloat = float(mstr)\n",
    "nfloat = float(nstr)\n",
    "print(\"The variable mfloat has value\", mfloat, \"and type\", type(mfloat))\n",
    "print(\"The variable nfloat has value\", nfloat, \"and type\", type(nfloat))\n",
    "\n",
    "# compute the sum\n",
    "mfloat + nfloat"
   ]
  },
  {
   "cell_type": "markdown",
   "id": "548fd233-a485-409d-b4c8-e61bfd2ed7bb",
   "metadata": {},
   "source": [
    "**Exercise 12**. Write the Python code that converts values in the list `prices`\n",
    "to floating point numbers and add them together.\n",
    "\n",
    "Hint: use a `for`-loop or list comprehension syntax."
   ]
  },
  {
   "cell_type": "code",
   "execution_count": 95,
   "id": "20ceb250-9718-4446-8c64-fe3b9defe3d8",
   "metadata": {},
   "outputs": [],
   "source": [
    "prices = [\"22.2\", \"10.1\", \"33.3\"]\n",
    "\n",
    "# write here the code that computes the total price"
   ]
  },
  {
   "cell_type": "code",
   "execution_count": 96,
   "id": "8c9174d8-dff1-4b0e-b2a2-f983ecadeb34",
   "metadata": {},
   "outputs": [
    {
     "data": {
      "text/plain": [
       "65.6"
      ]
     },
     "execution_count": 96,
     "metadata": {},
     "output_type": "execute_result"
    }
   ],
   "source": [
    "#@titlesolution Exercise 12 str-prices-sum\n",
    "prices = [\"22.2\", \"10.1\", \"33.3\"]\n",
    "total = 0\n",
    "for price in prices:\n",
    "    total = total + float(price)\n",
    "total\n",
    "\n",
    "# ALT. using list comprehensions syntax\n",
    "prices_float = [float(price) for price in prices]\n",
    "sum(prices_float)"
   ]
  },
  {
   "cell_type": "markdown",
   "id": "802c696b-c4f4-4e52-be4c-6b64066c7b84",
   "metadata": {},
   "source": [
    "\n",
    "# Python libraries and modules\n",
    "\n",
    "Everything we discussed so far was using the Python built-in functions and data types,\n",
    "but that is only a small subset of all the functionality available when using Python.\n",
    "There are hundreds of Python libraries and modules that provide additional functions and data types\n",
    "for all kinds of applications. \n",
    "There are Python modules for processing different data files, making web requests, doing efficient numerical computing, statistics, etc.\n",
    "The list is almost endless,\n",
    "and the vast number of libraries and frameworks is all available to you behind a simple `import` statement.\n",
    "\n",
    "<!-- \n",
    "The golden rules of software development:\n",
    "\n",
    "  1. Don't write code because someone has **already solved the problem** you're trying to solve.\n",
    "  2. Don't write code because you can glue together one or more **libraries** to do what you want.\n",
    "  3. Don't write code because you can solve your problem by using some subset of the functionality in an existing **framework**.\n",
    "-->\n",
    "\n"
   ]
  },
  {
   "cell_type": "markdown",
   "id": "88f053a7-fe59-4b30-84d6-d4d7603ff612",
   "metadata": {},
   "source": [
    "## The `import` statement \n",
    "\n",
    "We use the `import` statement to load a python module and make it available in the current context.\n",
    "The code below shows how to import the module `<mod>` in the current notebook.\n",
    "\n",
    "```Python\n",
    "import <mod>\n",
    "```\n",
    "\n",
    "After this statement, we can now use the functions in the module `<mod>` by calling them using the prefix `<mod>.`,\n",
    "which is called the \"dot notation\" for accessing names within the *namespace* `<mod>`.\n",
    "\n",
    "For example, let's import the statistics module and use the function `statistics.mean` to compute the mean of three numbers."
   ]
  },
  {
   "cell_type": "code",
   "execution_count": 97,
   "id": "fac4bab4-c52e-49c5-9a80-ae5484649da4",
   "metadata": {},
   "outputs": [
    {
     "data": {
      "text/plain": [
       "3"
      ]
     },
     "execution_count": 97,
     "metadata": {},
     "output_type": "execute_result"
    }
   ],
   "source": [
    "import statistics\n",
    "\n",
    "statistics.mean([1,2,6])"
   ]
  },
  {
   "cell_type": "markdown",
   "id": "b60fd217-1f5a-4cc8-9702-73b96a5175af",
   "metadata": {},
   "source": [
    "A very common trick you'll see in Python notebooks,\n",
    "is to import python modules under an \"alias\" name,\n",
    "which is usually a shorter name that is faster to type.\n",
    "\n",
    "The alias-import statement looks like this:\n",
    "```Python\n",
    "import <mod> as <alias>\n",
    "```\n",
    "\n",
    "For example, let's import the statistics module under the alias `stats` and repeat the mean calculation we saw above."
   ]
  },
  {
   "cell_type": "code",
   "execution_count": 98,
   "id": "4c382060-350b-425a-a28c-e39704949454",
   "metadata": {},
   "outputs": [
    {
     "data": {
      "text/plain": [
       "3"
      ]
     },
     "execution_count": 98,
     "metadata": {},
     "output_type": "execute_result"
    }
   ],
   "source": [
    "import statistics as stats\n",
    "\n",
    "stats.mean([1,2,6])"
   ]
  },
  {
   "cell_type": "markdown",
   "id": "14f99427-2869-48ed-a38a-b9110f3cea3a",
   "metadata": {},
   "source": [
    "As you can imagine,\n",
    "if you're writing some Python code that requires a lot of statistics calculations,\n",
    "you'll appreciate the alias-import statement,\n",
    "since you call `stats.mean` and `stats.median`,\n",
    "instead of having to type the full module name each time,\n",
    "`statistics.mean`, `statistics.median`, etc."
   ]
  },
  {
   "cell_type": "markdown",
   "id": "e19f1bdb-c36d-41f9-b4b3-0422ab1288d1",
   "metadata": {},
   "source": [
    "## The standard library\n",
    "\n",
    "The [Python standard library](https://docs.python.org/3/library/) consists of several dozens of Python modules that come bundled with every Python installation.\n",
    "\n",
    "Here are some modules that come in handy.\n",
    "\n",
    "- `math`: math functions like `sqrt`, `sin`, `cos`, etc.\n",
    "- `random`: random number generation\n",
    "- `statistics`: descriptive statistics computed from lists of values\n",
    "- `re`: regular expressions (useful for matching patterns in strings)\n",
    "- `datetime`: manipulate dates and times\n",
    "- `urllib.parse`: manipulate URLs (used for web programming)\n",
    "- `json`: read and write JSON files\n",
    "- `csv`: read and write CSV files (see also Pandas, which can do this too)\n",
    "- `os` and `os.path`: manipulate file system paths\n",
    "- `sys`: access information about the current process and the operating system\n",
    "- `argparse`: for processing command line arguments when writing scripts\n",
    "\n",
    "There are also a some libraries that are not part of the standard library,\n",
    "but are very common:\n",
    "- `requests`: make HTTP requests and download files from the internet"
   ]
  },
  {
   "cell_type": "markdown",
   "id": "1d269503-8bc1-46e9-ac8c-44c2dbc63345",
   "metadata": {},
   "source": [
    "## Installing Python packages with `pip`\n",
    "\n",
    "We use the command `%pip` to install Python packages."
   ]
  },
  {
   "cell_type": "code",
   "execution_count": 99,
   "id": "61ff678e-c66a-4a26-bde0-76a8a0db48be",
   "metadata": {},
   "outputs": [],
   "source": [
    "# %pip install ministats"
   ]
  },
  {
   "cell_type": "markdown",
   "id": "5aed0f5a-54b2-4358-b332-7715dcdf1f86",
   "metadata": {},
   "source": [
    "## Scientific computing libraries\n",
    "\n",
    "- **NumPy** Numerical Python (NumPy) is a library\n",
    "  that provides high-performance arrays and matrices.\n",
    "  NumPy arrays allow mathematical operations to run very fast,\n",
    "  which is important when working with medium- and large- datasets.\n",
    "- **SciPy** Scientific Python (SciPy) is a library\n",
    "  that provides most functions used by scientists and engineers.\n",
    "  The module `scipy.stats` contains all the probability models we use in statistics.\n",
    "  See https://scipy-lectures.org/ for more info.\n",
    "- **SymPy** is a library for symbolic math calculations.\n",
    "  Using SymPy you can work with math expressions\n",
    "  just like when solving math problems using pen and paper.\n",
    "  SymPy calculations are useful because functions like\n",
    "  solve, simplify, expand, and factor can do the math for you.\n",
    "  See the [sympy_tutorial.pdf](https://minireference.com/static/tutorials/sympy_tutorial.pdf) for more info.\n",
    "- **Matplotlib** Powerful library for plotting functions and generating other graphs.\n"
   ]
  },
  {
   "cell_type": "markdown",
   "id": "d95ce302-0a66-4dff-b056-d24227e1dc42",
   "metadata": {},
   "source": [
    "## Data science libraries\n",
    "\n",
    "- `pandas`: a library for tabular data.\n",
    "  Pandas is the Swiss army knife of data manipulations,\n",
    "  and provides functions for loading data from various formats\n",
    "  (CSV files, spreadsheets, databases, etc.).\n",
    "  Once you have loaded your data,\n",
    "  Pandas provides all the functions you might need for data processing,\n",
    "  data cleaning, and descriptive statistics.\n",
    "  Check the [pandas_tutorial.ipynb](./pandas_tutorial.ipynb) notebook to learn more.\n",
    "\n",
    "- `statsmodels`: a statistical modelling library\n",
    "  that includes advanced statistical models and pre-defined\n",
    "  functions for performing statistical tests.\n",
    "\n",
    "- `seaborn` is a high-level library for statistical plots.\n",
    "  Seaborn allows you to generate beautiful data visualizations.\n",
    "  When working with data,\n",
    "  we often want to generate statistical visualizations like strip plots,\n",
    "  scatter plots, histograms, bar plots, box plots, etc.\n",
    "  The  Seaborn library offers functionality for creating such plots\n",
    "  and all kinds of other data visualizations.\n",
    "  See the [seaborn_tutorial.ipynb](./seaborn_tutorial.ipynb) notebook to learn more.\n"
   ]
  },
  {
   "cell_type": "markdown",
   "id": "55d6303a-20b6-433e-8d80-225bfc31ae53",
   "metadata": {},
   "source": [
    "# Getting comfortable with Python\n",
    "\n",
    "JupyterLab provides lots of tools for making learning Python easy for beginners,\n",
    "including documentation (help menus) and interactive ways to explore variable properties."
   ]
  },
  {
   "cell_type": "markdown",
   "id": "51f9ec1d-91e5-48e4-a4b4-e1dc4094a642",
   "metadata": {
    "tags": []
   },
   "source": [
    "## Showing the help info\n",
    "\n",
    "Every Python object has a \"docstring\" (documentation string) associated with it,\n",
    "which provides the help info about this object.\n",
    "There are three equivalent ways to view the docstring of any Python object `obj`\n",
    "(value, variable, function, module, etc.):\n",
    "\n",
    "- `help(obj)`: shows the docstring for the object `obj`\n",
    "- `obj?`: shortcut for `help(obj)`\n",
    "- press **SHIFT+TAB**: while the cursor is on top of a variable or function inside a code cell.\n",
    "\n",
    "There are also other methods for getting more detailed info about an object like\n",
    "`obj??`, `%psource obj`, `%pdef obj`, but we won't need these for now."
   ]
  },
  {
   "cell_type": "markdown",
   "id": "8d25cd79-db62-4884-ad74-b05ef62400a6",
   "metadata": {},
   "source": [
    "### Example: Learning about the `print` function\n",
    "\n",
    "Let's say want to learn more about the `print` function.\n",
    "Put the cursor in the middle of function and press **SHIFT+TAB**."
   ]
  },
  {
   "cell_type": "code",
   "execution_count": 100,
   "id": "9cdc17af-bf77-41e6-96fb-7ee20cbe0143",
   "metadata": {},
   "outputs": [
    {
     "data": {
      "text/plain": [
       "<function print>"
      ]
     },
     "execution_count": 100,
     "metadata": {},
     "output_type": "execute_result"
    }
   ],
   "source": [
    "print"
   ]
  },
  {
   "cell_type": "markdown",
   "id": "f20d48c3-25ba-4645-975d-4129dffb33d0",
   "metadata": {},
   "source": [
    "You know this function accepts one or more arguments and displays them,\n",
    "but the help menu shows complete information about other keywords arguments (options)\n",
    "you can use when calling this function.\n",
    "You can also use the `help` function to see the same information."
   ]
  },
  {
   "cell_type": "code",
   "execution_count": 101,
   "id": "7a02f218-c06c-415b-a169-db2eb383eb37",
   "metadata": {},
   "outputs": [
    {
     "name": "stdout",
     "output_type": "stream",
     "text": [
      "Help on built-in function print in module builtins:\n",
      "\n",
      "print(...)\n",
      "    print(value, ..., sep=' ', end='\\n', file=sys.stdout, flush=False)\n",
      "    \n",
      "    Prints the values to a stream, or to sys.stdout by default.\n",
      "    Optional keyword arguments:\n",
      "    file:  a file-like object (stream); defaults to the current sys.stdout.\n",
      "    sep:   string inserted between values, default a space.\n",
      "    end:   string appended after the last value, default a newline.\n",
      "    flush: whether to forcibly flush the stream.\n",
      "\n"
     ]
    }
   ],
   "source": [
    "help(print)"
   ]
  },
  {
   "cell_type": "markdown",
   "id": "858ca305-ca20-4a61-8c23-173417fabf59",
   "metadata": {},
   "source": [
    "The `...` in the doc string of the `print` function tells us it accepts multiple values.\n",
    "The keyword argument `sep` (separator) dictates the text that is inserted between values when they are printed,\n",
    "The keyword `end` controls what is printed at the end of the line (`\\n` means newline).\n",
    "Note we could have obtained the doc string using `print?` or using `print(print.__doc__)`."
   ]
  },
  {
   "cell_type": "markdown",
   "id": "103f9b37-8980-4b21-9326-8a1aea9f80c0",
   "metadata": {},
   "source": [
    "**Exercise 13**: Display the doc-string of the function `len`."
   ]
  },
  {
   "cell_type": "code",
   "execution_count": 102,
   "id": "bfba15e7-497a-4651-9df4-7ef28ee4b266",
   "metadata": {},
   "outputs": [
    {
     "data": {
      "text/plain": [
       "<function len(obj, /)>"
      ]
     },
     "execution_count": 102,
     "metadata": {},
     "output_type": "execute_result"
    }
   ],
   "source": [
    "len"
   ]
  },
  {
   "cell_type": "code",
   "execution_count": 103,
   "id": "fae81d0d-5ae9-4fc5-8c55-6b761e3e0372",
   "metadata": {},
   "outputs": [
    {
     "name": "stdout",
     "output_type": "stream",
     "text": [
      "Help on built-in function len in module builtins:\n",
      "\n",
      "len(obj, /)\n",
      "    Return the number of items in a container.\n",
      "\n"
     ]
    }
   ],
   "source": [
    "#@titlesolution Exercise 13 help-len\n",
    "help(len)"
   ]
  },
  {
   "cell_type": "markdown",
   "id": "07b966e8-7ad9-4cd7-b156-721df8a22f24",
   "metadata": {
    "tags": []
   },
   "source": [
    "## Python comments\n",
    "\n",
    "Comments are annotations in code cell intended for human readers.\n",
    "We write comments in Python by prefixing them with the character `#`.\n",
    "Python will ignores anything that comes after a `#` character."
   ]
  },
  {
   "cell_type": "code",
   "execution_count": 104,
   "id": "020ea4fd-c984-4723-8d5e-f9969430d631",
   "metadata": {},
   "outputs": [],
   "source": [
    "# this is a comment"
   ]
  },
  {
   "cell_type": "markdown",
   "id": "68dd1686-3262-4beb-ac24-a73cf4b27f1a",
   "metadata": {},
   "source": [
    "The text `# this is a comment` will be completely ignored by the Python interpreter.\n",
    "As far as Python is concerned,\n",
    "this above code cell is empty.\n",
    "Comments can be very useful to provide additional information\n",
    "that explains what the code is trying to do."
   ]
  },
  {
   "cell_type": "markdown",
   "id": "d757845d-a953-4a00-bd9b-e052783fd913",
   "metadata": {},
   "source": [
    "**Exercise 14**: Replace the `...`s in the following code cell\n",
    "with comments that explain the calculation\n",
    "\"adding 10\\% tax to a purchase that costs \\$57\"\n",
    "that is being computed."
   ]
  },
  {
   "cell_type": "code",
   "execution_count": 105,
   "id": "a2c68579-c5a8-491d-9d22-9cb0f0bba584",
   "metadata": {},
   "outputs": [
    {
     "data": {
      "text/plain": [
       "62.7"
      ]
     },
     "execution_count": 105,
     "metadata": {},
     "output_type": "execute_result"
    }
   ],
   "source": [
    "cost = 57.00           # ...\n",
    "taxes = 0.10 * cost    # ...\n",
    "total = cost + taxes   # ...\n",
    "total                  # ..."
   ]
  },
  {
   "cell_type": "code",
   "execution_count": 106,
   "id": "7e05651d-bd9f-4501-9a9b-5a39d266b3e4",
   "metadata": {},
   "outputs": [
    {
     "data": {
      "text/plain": [
       "62.7"
      ]
     },
     "execution_count": 106,
     "metadata": {},
     "output_type": "execute_result"
    }
   ],
   "source": [
    "#@titlesolution Exercise 14 cost-plus-taxes-total\n",
    "cost = 57.00           # price before taxes\n",
    "taxes = 0.10 * cost    # 10% taxes = 0.1 times the cost\n",
    "total = cost + taxes   # add taxes to cost and store the result in total\n",
    "total                  # print the total"
   ]
  },
  {
   "cell_type": "markdown",
   "id": "adeb5bcc-f16d-4b1d-92fb-9ae934d78fcd",
   "metadata": {
    "tags": []
   },
   "source": [
    "## Inspecting Python objects\n",
    "\n",
    "Suppose you have an unknown Python object `obj`.\n",
    "How can you find out what it is and learn what you can do with it?\n",
    "\n",
    "**Displaying the object** \n",
    "\n",
    "There are several ways to display information about the object `obj`.\n",
    "\n",
    "- `print(obj)`: converts the object to `str` and prints it\n",
    "- `type(obj)`: tells you what type of object it is\n",
    "- `repr(obj)`: similar to `print`, but shows the complete text representation (including quotes).\n",
    "   The output of `repr(obj)` usually contains all the information needed to reconstruct the object `obj`.\n",
    "\n",
    "\n",
    "**Auto-complete object attributes and methods**\n",
    "\n",
    "JupyterLab code cells provide an \"autocomplete\" feature\n",
    "for exploring the attributes and methods objects.\n",
    "To use the autocomplete functionality,\n",
    "start `obj.`  then press **TAB** button,\n",
    "and you will be presented with all the options available.\n",
    "Try it."
   ]
  },
  {
   "cell_type": "code",
   "execution_count": 107,
   "id": "1b84eed3-8910-4bf4-9a03-a9d3c1aeae49",
   "metadata": {},
   "outputs": [],
   "source": [
    "message = \"Hello everyone\"\n",
    "# message.    # place cursor after the dot and press the TAB button"
   ]
  },
  {
   "cell_type": "markdown",
   "id": "bc1c823c-4c68-4ed8-b2d0-b4c015f3371a",
   "metadata": {},
   "source": [
    "This autocomplete feature is used very often by programmers\n",
    "to find the attributes and methods they need to access.\n",
    "Examples of useful methods on the `mssage` object\n",
    "include `message.upper()`, `message.lower()`, `message.split()`,\n",
    "`message.replace(...)`, etc.\n",
    "\n",
    "<!--\n",
    "You can use `dir(obj)`: shows the \"directory\" of all the attributes and methods of the object `obj`\n",
    "-->"
   ]
  },
  {
   "cell_type": "markdown",
   "id": "ba3b0dce-57cd-4b1a-ad23-39fc124499c9",
   "metadata": {
    "tags": []
   },
   "source": [
    "## Python error messages\n",
    "\n",
    "Sometimes your code will cause an error\n",
    "and Python will display an error message describing the problem it encountered.\n",
    "You need to be mentally prepared for these errors,\n",
    "since they happen *a lot* and can be very discouraging to see.\n",
    "Examples of errors include `SyntaxError`, `NameError`, `TypeError`, etc.\n",
    "Error messages look scary,\n",
    "but really they are there to help you—if you read what the error message is telling you,\n",
    "you'll know exactly what you need fix in your code.\n",
    "The error message literally describes the problem!\n",
    "\n",
    "Let's look at an example expression that causes a Python exception.\n",
    "Suppose you're trying to compute the difference `5-3`,\n",
    "but you forgot the minus sign."
   ]
  },
  {
   "cell_type": "code",
   "execution_count": 108,
   "id": "99b808a8",
   "metadata": {
    "tags": [
     "raises-exception"
    ]
   },
   "outputs": [
    {
     "ename": "SyntaxError",
     "evalue": "invalid syntax (127674276.py, line 1)",
     "output_type": "error",
     "traceback": [
      "\u001b[0;36m  Cell \u001b[0;32mIn[108], line 1\u001b[0;36m\u001b[0m\n\u001b[0;31m    5 3\u001b[0m\n\u001b[0m      ^\u001b[0m\n\u001b[0;31mSyntaxError\u001b[0m\u001b[0;31m:\u001b[0m invalid syntax\n"
     ]
    }
   ],
   "source": [
    "5 3"
   ]
  },
  {
   "cell_type": "markdown",
   "id": "d89649cd-ec75-49cb-8f73-1cbc32f3c63c",
   "metadata": {},
   "source": [
    "The code cell above shows an example of a `SyntaxError` that\n",
    "occurs because Python expects some operator or separator between the two numbers.\n",
    "Python doesn't know what to do when you just put two numbers side-by-side,\n",
    "and it doesn't want to guess what your intention was (`53`? `5.3`?).\n",
    "\n",
    "You'll see these a threatening looking red message like this\n",
    "any time Python encounters an error while trying to run the commands you specified.\n",
    "We say the code \"raises\" or \"encountered\" an exception.\n",
    "This is nothing to be alarmed by.\n",
    "It usually means you made a typo,\n",
    "forgot a required syntax element,\n",
    "or tried to compute do something impossible.\n",
    "The way to read these red messages\n",
    "is to focus on the **explanation message that gets printed on the last line**.\n",
    "The error message usually tells you what you need to fix.\n",
    "The solution will be obvious for typos and syntax errors,\n",
    "but in some more complicated situations,\n",
    "you can  make an online search based on the error message to find what the problem is.\n",
    "In the above example,\n",
    "the fix is simple: to add the missing minus sign `5-3`."
   ]
  },
  {
   "cell_type": "markdown",
   "id": "d93987a8-ec15-4de0-8793-b87ac646d87c",
   "metadata": {
    "tags": []
   },
   "source": [
    "The three most common Python error messages are:\n",
    "\n",
    "- `SyntaxError`: you typed in something wrong (usually missing `,`, `\"`, or `]` or some other punctuation).\n",
    "- `NameError`: raised when a variable is not found in the current context.\n",
    "- `TypeError`: raised when a function or operation is applied to an object of incorrect type.\n",
    "\n",
    "Later on you might run into:\n",
    "`KeyError` when a key is not found in a dictionary,\n",
    "`ValueError` when a function gets an argument of correct type but improper value,\n",
    "`ImportError` when importing modules,\n",
    "and `AttributeError` when trying to access an object attribute that doesn't exist."
   ]
  },
  {
   "cell_type": "markdown",
   "id": "1e1ec716-7ed2-4be0-8012-9b8e58cb8c9b",
   "metadata": {
    "tags": []
   },
   "source": [
    "**Exercise 15: Let's break Python!**\n",
    "Try typing in Python commands that causes each of these exceptions:\n",
    " \n",
    " 1. `SyntaxError`   (hint: write an incomplete list expression)\n",
    " 2. `NameError`     (hint: try referring to a variable that doesn't exist)\n",
    " 3. `TypeError`     (hint: try to `sum` something that is not a list)"
   ]
  },
  {
   "cell_type": "code",
   "execution_count": 109,
   "id": "9aebce93-4124-4918-8f69-a69c457e3c9e",
   "metadata": {},
   "outputs": [],
   "source": [
    "#@titlesolution Exercise 15 cause-exceptions\n",
    "# SyntaxError if you forget to close the [ when creating a list\n",
    "# [1\n",
    "\n",
    "# NameError when referring to a variable that doesn't exist\n",
    "# zz + 3\n",
    "\n",
    "# TypeError computing the sum of a single number\n",
    "# sum(3)"
   ]
  },
  {
   "cell_type": "markdown",
   "id": "0195c13c-1488-4bf3-ad2f-40af772de4c1",
   "metadata": {},
   "source": [
    "## Python documentation\n",
    "\n",
    "The official Python documentation website is \n",
    "[`https://docs.python.org`](https://docs.python.org).\n",
    "This website provides tons of excellent learning resources and reference information for learning Python.\n",
    "Here are some useful links to essential topics for Python beginners:\n",
    "\n",
    "- Official Python tutorial: [`https://docs.python.org/3/tutorial/index.html`](https://docs.python.org/3/tutorial/index.html)\n",
    "- Built-in types: \n",
    "  [`int`](https://docs.python.org/3/library/functions.html#int),\n",
    "  [`float`](https://docs.python.org/3/library/functions.html#float),\n",
    "  [`str`](https://docs.python.org/3/library/functions.html#func-str),\n",
    "  [`list`](https://docs.python.org/3/library/functions.html#func-list),\n",
    "  [`dict`](https://docs.python.org/3/library/functions.html#func-dict).\n",
    "- [Functions docs](https://docs.python.org/3/library/functions.html):\n",
    "  [`abs`](https://docs.python.org/3/library/functions.html#abs),\n",
    "  [`len`](https://docs.python.org/3/library/functions.html#len),\n",
    "  [`type`](https://docs.python.org/3/library/functions.html#type),\n",
    "  [`print`](https://docs.python.org/3/library/functions.html#print),\n",
    "  [`sum`](https://docs.python.org/3/library/functions.html#sum),\n",
    "  [`max`](https://docs.python.org/3/library/functions.html#max).\n",
    "\n",
    "I encourage you to browse the site to familiarize yourself with the high quality information that is available in the official docs pages.\n",
    "\n",
    "When searching online, \n",
    "the official Python docs might now show up on the first page of results.\n",
    "Because of Python's popularity,\n",
    "there are hundreds of spammy websites that provide inferior information,\n",
    "wrapped in tons of advertisements and popups.\n",
    "These websites that are much inferior to the official documentation.\n",
    "When learning somethign new,\n",
    "you should always prefer the official docs,\n",
    "even if they don't appear first in the list of results on the page.\n",
    "[Stack overflow](https://stackoverflow.com/questions/tagged/python) discussions\n",
    "can be a good place to find answers to common Python questions.\n",
    "ChatGPT is also pretty good with Python code,\n",
    "so you can ask it to give you code examples or provide feedback on code you've written."
   ]
  },
  {
   "cell_type": "markdown",
   "id": "61ccae80-5c6b-4172-b3b6-653841214241",
   "metadata": {},
   "source": [
    "# Final review\n",
    "\n",
    "Okay we've reached the end of this tutorial,\n",
    "so let's to review of the new Python concepts we introduced in condensed form."
   ]
  },
  {
   "cell_type": "markdown",
   "id": "63d3d979-9dd8-4f2e-b895-0c3b61e3117a",
   "metadata": {},
   "source": [
    "## Python grammar and syntax review\n",
    "\n",
    "Learning Python is like learning a new language:\n",
    "- **nouns**: values of different types, usually referred to by name (named variables containing values) \n",
    "- **verbs**: functions and methods, including basic operators like `+`, `-`, etc.\n",
    "- **grammar**: rules about how to use nouns and verbs together\n",
    "- **adverbs**: keyword arguments (options) used to modify what a function does\n",
    "\n",
    "These parts are easy to understand with time, since the new concepts\n",
    "correspond to English words, so you'll get use to it all very quickly."
   ]
  },
  {
   "cell_type": "markdown",
   "id": "fd82d654-ddde-4ba7-8a9c-4bc57f4453a1",
   "metadata": {
    "jp-MarkdownHeadingCollapsed": true
   },
   "source": [
    "## Python keywords\n",
    "\n",
    "Here is a list of keywords that make up the Python language:\n",
    "\n",
    "    False      class      finally    is         return\n",
    "    None       continue   for        lambda     try\n",
    "    True       def        from       nonlocal   while\n",
    "    and        del        global     not        with\n",
    "    as         elif       if         or         yield\n",
    "    assert     else       import     pass\n",
    "    break      except     in         raise\n",
    "\n",
    "You've seen most of them, but not all of them.\n",
    "The ones you need to remember are:\n",
    "\n",
    "- `if`, `elif`, `else` used in conditional statements\n",
    "- `def` used to define a new function and the `return` statement that defines the output of the function\n",
    "- `for` for for loops and list-comprehension statements\n",
    "- the boolean values `True` and `False`\n",
    "- `or`, `and`, and `not` to create boolean expressions\n",
    "- `in` to check if element is part of container\n",
    "- `None` is a special keyword that represents the absence of a value\n",
    "- `import ...` and `from ... import ...` statements to import Python modules\n",
    "\n",
    "<!-- - `class` for defining new object types -->"
   ]
  },
  {
   "cell_type": "markdown",
   "id": "022525d9-4f1e-4808-a043-3fce9a368c63",
   "metadata": {},
   "source": [
    "## Python data types\n",
    "\n",
    "- `int`: naturals and integers\n",
    "- `float`: rational and real numbers\n",
    "- `list`: list of objects `[obj1, obj2, obj3, ...]`\n",
    "- `bool`: `True` or `False`\n",
    "- `str`: text strings\n",
    "- `dict`: associative array between keys and values\n",
    "  `{key1:value1, key2:value2, key3:value3, ...}`.\n",
    "- `tuple`: just like a list, but immutable (can't modify it)\n",
    "- `set`: list-like object that doesn't care about ordering and ignores duplicates\n",
    "- `NoneType`: Denotes the type of the `None` value,\n",
    "  which describes the absence of a value\n",
    "  (e.g. the output of a function that doesn't return any value).\n",
    "- `complex`: complex numbers $z=x+iy$\n"
   ]
  },
  {
   "cell_type": "markdown",
   "id": "a4cc9b01-bb31-4261-be97-08f05ade09ed",
   "metadata": {},
   "source": [
    "## All python built-in functions\n",
    "\n",
    "Essential functions:\n",
    "\n",
    "- `print(arg1, arg2, ...)`: display `str(arg1)`, `str(arg2)`, etc.\n",
    "- `type(obj)`: tells you what kind of object \n",
    "- `len(obj)`: length of the object (only for: `str`, `list`, `dict` objs)\n",
    "- `range(a,b)`: creates a list of numbers `[a,a+1,...,b-1]`\n",
    "- `help(obj)`: display info about the object, function, or method\n",
    "\n",
    "\n",
    "\n",
    "Looking around, learning, and debugging Python code:\n",
    "\n",
    "- `str(obj)`: display the string representation of the object.\n",
    "- `repr(obj)`: display the Python representation of the object.\n",
    "   Usually, you can copy-paste the output of `repr(obj)` into a Python\n",
    "   shell to re-create the object.\n",
    "- `help(obj)`: display info about the object, function, or method.\n",
    "  This is equivalent to calling object's docstring `obj.__doc__`.\n",
    "- `dir(obj)`: show complete list of attributes and methods of the object `obj`\n",
    "- `globals()`: display all variables in the Python global namespace\n",
    "- `locals()`: display local variables (within current scope,\n",
    "   e.g. local variables inside inside a function body)\n",
    "\n",
    "Built-in methods used for lists:\n",
    "\n",
    "- `len(obj)`: length of the object (only for: `str`, `list`, `dict` objs)\n",
    "- `sum(mylist)`: sum of the values in the list of numbers `mylist`\n",
    "- `all(mylist)`: true if all values in the list `mylist` are true\n",
    "- `any(mylist)`: true if any of the values in the list `mylist` are true\n",
    "- `enumerate(mylist)`: convert list of values to `mylist` to list of tuples `(i,mylist[i])` (use in for loop as `for i, item in enumerate(items):...`.\n",
    "- `zip(list1, list2)`: joint iteration over two lists\n",
    "- Low-level iterator methods: `iter()` and `next()` (out of scope for this tutorial. Just know that every time I said list-like, I meant \"any object that implements the iterator and iterable protocols).\n",
    "\n",
    "\n",
    "Input-output (I/O):\n",
    "\n",
    "- `input`: prompt user for input, returns the value user entered as a sting.\n",
    "- `print(arg1, arg2, ...)`: display `str(arg1)`, `str(arg2)`, etc.\n",
    "- `open(filepath,mode)`: open the file at `filepath` for `mode`-operations.\n",
    "  Use `mode=\"r\"` for reading text from a file,\n",
    "  and `mode=\"w\"` for writing text to a file.\n",
    "\n",
    "Advanced stuff:\n",
    "\n",
    "- Functional shit: `map()`, `eval()`, `exec()`\n",
    "- Meta-programming: `hasattr()`, `getattr()`, `setattr()` \n",
    "- Object oriented programming: `isinstance()`, `issubclass()`, `super()`"
   ]
  },
  {
   "cell_type": "markdown",
   "id": "d16614b2-850a-43a3-8b86-081bf71aa435",
   "metadata": {},
   "source": [
    "## Python punctuation\n",
    "\n",
    "The most confusing part of learning Python is the use of non-word punctuation characters, which have very specific meaning that has nothing to do with English punctuation marks.\n",
    "Let's review how the symbols `=([{*\"'#,.:` are used in various Python expressions.\n",
    "The meaning of these symbols changes depending on the context.\n",
    "\n",
    "\n",
    "Here is a complete, no-holds-barred list of the punctuation marks usage in the Python programming language. Like literally each of them. This list of symbols uses will help us close the review, since it reviews the Python syntax was used in all the sections in this tutorial.\n",
    "\n",
    "- Equal sign `=`\n",
    "  - assignment\n",
    "  - specify default keyword argument (in function definition)\n",
    "  - pass values for keyword arguments (in function call)\n",
    "\n",
    "<br>\n",
    "\n",
    "- Round brackets `()` are used for:\n",
    "  - calling functions\n",
    "  - defining tuples: `(1, 2, 3)`\n",
    "  - enforcing operation precedence: `result = (x + y) * z`\n",
    "  - defining functions (in combination with the `def` keyword, e.g. `def f(x): ...`)\n",
    "  - defining class\n",
    "  - creating object\n",
    "\n",
    "<br>\n",
    "\n",
    "- Curly-brackets (accolades) `{}`\n",
    "  - define dict literals: `mydict = {\"k1\":\"v1\", \"k2\":\"v2\"}`\n",
    "  - define sets: `{1,2,3}`\n",
    "\n",
    "<br>\n",
    "\n",
    "\n",
    "- Square brackets `[]` are used for:\n",
    "  - defining lists: `mylist = [1, 2, 3]`\n",
    "  - list indexing: `ages[3] = 29`\n",
    "  - dict access by key: `mydict[\"k1\"]` (used by `__getitem__` or `__setitem__`)\n",
    "  - list slice: `mylist[0:2]` (first two items in `mylist`)\n",
    "\n",
    "<br>\n",
    "\n",
    "\n",
    "- Quotes `\"` and `'` \n",
    "  - define string literals\n",
    "  - note raw string variant `r\"...\"` also exists\n",
    "\n",
    "<br>\n",
    "\n",
    "\n",
    "- Triple quotes `\"\"\"` and `'''`\n",
    "  - long string literals entire paragraphs\n",
    "\n",
    "<br>\n",
    "\n",
    "- Hash symbol `#`\n",
    "  - comment (Python ignores text after the `#` symbol)\n",
    "\n",
    "<br>\n",
    "\n",
    "- Colon `:`\n",
    "  - syntax for the beginning of indented block.  \n",
    "    The colon is used at the end of statements like `if`, `elif`, `else` `for`, etc.\n",
    "  - key: value separator in dict literals\n",
    "  - slice of indices `0:2` (first two items in a list)\n",
    "\n",
    "<br>\n",
    "\n",
    "\n",
    "- Period `.`\n",
    "  - decimal separator for floating point literals\n",
    "  - access object attributes\n",
    "  - access object methods\n",
    "\n",
    "<br>\n",
    "\n",
    "\n",
    "- Comma `,`\n",
    "  - element separator in `list`s and `tuple`s\n",
    "  - `key:value` separator when creating a `dict`\n",
    "  - separate function arguments in function definitions\n",
    "  - separate function arguments when calling functions\n",
    "\n",
    "<br>\n",
    "\n",
    "\n",
    "- Asterisk `*`\n",
    "  - multiplication operator \n",
    "  - (advanced) unpack elements of a list\n",
    "\n",
    "<br>\n",
    "\n",
    "\n",
    "- Double asterisk `**`\n",
    "  - exponent operator\n",
    "  - (advanced) unpack elements of a dict\n",
    "\n",
    "<br>\n",
    "\n",
    "\n",
    "- Semicolon `;` (rarely used)\n",
    "  - suppress the output of a command in a notebook environment\n",
    "  - (advanced) put multiple Python commands on single line\n",
    "\n",
    "<br>\n",
    "\n",
    "Don't worry if you didn't understand all the use cases listed. I've tried to make the list complete, so I've included some more advanced topics, labeled (advanced), which you'll learn about over time when you use Python."
   ]
  },
  {
   "cell_type": "markdown",
   "id": "38a6ce9d-14fd-4524-a0fc-37d61ea61e7f",
   "metadata": {},
   "source": [
    "# Discussion"
   ]
  },
  {
   "cell_type": "markdown",
   "id": "2f316571-2572-4913-894d-abe1c5279ade",
   "metadata": {},
   "source": [
    "Let's go over some of the things we skipped in the tutorial,\n",
    "because they were not essential for getting started.\n",
    "Now that you know a little bit about Python,\n",
    "it's worth mentioning some of these details,\n",
    "since it's useful context to see how this \"Python calculator\" business works.\n",
    "I also want to tell you about some of the cool Python applications\n",
    "you can look forward to if you choose to develop your Python skills further."
   ]
  },
  {
   "cell_type": "markdown",
   "id": "86279f2e-67c0-4646-8853-6717e710f92c",
   "metadata": {
    "tags": []
   },
   "source": [
    "## Applications\n",
    "\n",
    "Python is not just a calculator.\n",
    "Python can also be used for non-interactive programs and services.\n",
    "Python is a general-purpose programming language so it enables a lot of applications. The list below talks about some areas where Python programming is popular.\n",
    "\n",
    "- **Command line scripts**: you can put Python commands into a script\n",
    "  then run them on the command line (terminal on UNIX or or `cmd.exe` on Windows).\n",
    "  For example,\n",
    "  you can write a simple script that downloads a music video from YouTube,\n",
    "  extracts the audio, and saves it as an mp3 file you can listen to offline.\n",
    "\n",
    "<!-- by running the command\n",
    "  `youtube-dl <youtube_url>`.\n",
    "  If all you want is the audio, you can use some command-line options to specify \n",
    "  `youtube-dl --extract-audio --audio-format mp3 <youtube_url>` to extract the\n",
    "  audio track from the youtube video and save it as an mp3.\n",
    "  The author uses this type of command daily to make local copies of songs\n",
    "  to listen to them offline. -->\n",
    "\n",
    "- **Graphical user interface (GUI) programs**: many desktop applications are written in Python.\n",
    "  An example of a graphical, point-and-click application written in Python is `Calibre`,\n",
    "  which is a powerful eBook management library and eBook reader and eBook converter,\n",
    "  that supports all imaginable eBook formats.\n",
    "\n",
    "- **Web applications**: the [Django](https://www.djangoproject.com/) and [Flask](https://flask.palletsprojects.com/) frameworks are often used to build web applications.\n",
    "  Many of the websites you access every day have as server component written in Python.\n",
    "\n",
    "- **Machine learning systems**: create task-specific functions by using probabilistic models instead of code. Machine learning models undergo a training stage in which the model parameters are \"learned\" from the training data examples, after which the model can be queried to make predictions. \n",
    "\n",
    "\n",
    "\n",
    "\n",
    "\n",
    "I mention these examples so you'll know the other possibilities enabled by Python,\n",
    "beyond the basic \"use Python interactively like a calculator\" code examples\n",
    "that we saw in this tutorial.\n",
    "There is a lot of other useful stuff.\n",
    "We're at the end of this tutorial, but just the beginning of your journey to discover all the interesting thins you can do with Python."
   ]
  },
  {
   "cell_type": "markdown",
   "id": "ffcfa40e-f15a-45c4-9cfd-d59c3d6bd7b5",
   "metadata": {},
   "source": [
    "# Links\n",
    "\n",
    "I've collected the best learning resources for Python,\n",
    "which you can use to learn more about Python.\n",
    "\n",
    "\n",
    "## Python cheatsheets\n",
    "\n",
    "- Good quick reference  \n",
    "  https://gto76.github.io/python-cheatsheet/\n",
    "- https://ehmatthes.github.io/pcc_2e/cheat_sheets/cheat_sheets/\n",
    "- https://ipgp.github.io/scientific_python_cheat_sheet/\n",
    "- https://learnxinyminutes.com/docs/python/\n",
    "- https://perso.limsi.fr/pointal/_media/python:cours:mementopython3-english.pdf\n",
    "- https://www.pythoncheatsheet.org/\n",
    "- https://homepage.univie.ac.at/michael.blaschek/media/Cheatsheet_python.pdf\n",
    "- https://cheatsheets.quantecon.org/\n",
    "\n",
    "\n",
    "## Introductions and tutorials\n",
    "\n",
    "- Python tutorial by Russell A. Poldrack  \n",
    "  https://statsthinking21.github.io/statsthinking21-python/01-IntroductionToPython.html\n",
    "\n",
    "- Programming with Python by  Software Carpentry team:  \n",
    "  https://swcarpentry.github.io/python-novice-inflammation/\n",
    "\n",
    "- Official Python tutorial:  \n",
    "  https://docs.python.org/3.10/tutorial/\n",
    "\n",
    "- Python glossary:  \n",
    "  https://docs.python.org/3.10/glossary.html#glossary\n",
    "\n",
    "- Nice tutorial:  \n",
    "  https://www.pythonlikeyoumeanit.com/\n",
    "\n",
    "- Python data structures  \n",
    "  https://devopedia.org/python-data-structures\n",
    "\n",
    "- Further reading  \n",
    "  https://github.com/rasbt/python_reference\n",
    "\n",
    "- https://walkintheforest.com/Content/Introduction+to+Python/%F0%9F%90%8D+Introduction+to+Python\n",
    "\n",
    "- Online tutorial  \n",
    "  https://www.kaggle.com/learn/python\n",
    "\n",
    "- Complete list of all the Python builtins  \n",
    "  https://treyhunner.com/2019/05/python-builtins-worth-learning/  \n",
    "  via https://news.ycombinator.com/item?id=30621552\n",
    "\n",
    "- Video lectures from Pythong course by Chelsea Parlett Pelleriti\n",
    "  https://www.youtube.com/playlist?list=PLmxpwhh4FDm460ztGwXmIUcGmfNzf4NMW\n",
    "\n",
    "\n",
    "## Special topics\n",
    "\n",
    "- Stats-related python functions  \n",
    "  https://www.statology.org/python-guides/\n",
    "\n",
    "- https://github.com/mtlpy/mp-84-atelier/blob/main/ressources.md\n",
    "\n",
    "- Python types (`int`s, `float`s, and `bool`s)  \n",
    "  https://github.com/anthony-agbay/introduction-to-python/blob/main/modules/basic-python-types-ints-floats-bools/basic-python-types-ints-floats-bools.ipynb\n",
    "\n",
    "- Python string operations  \n",
    "  https://github.com/anthony-agbay/introduction-to-python/blob/main/modules/basic-python-types-strings/basic-python-types-strings.ipynb\n",
    "\n",
    "- Scientific computing  \n",
    "  https://devopedia.org/python-for-scientific-computing\n",
    "\n",
    "- about NaNs  \n",
    "  https://news.ycombinator.com/item?id=30558690\n",
    "\n",
    "\n",
    "\n",
    "## Books\n",
    "\n",
    "- Python book for beginners ([discussed here](https://news.ycombinator.com/item?id=27141644))  \n",
    "  https://learnpythontherightway.com/\n",
    "\n",
    "- https://automatetheboringstuff.com/\n",
    "\n",
    "- Object-Oriented Programming in Python  \n",
    "  https://python-textbok.readthedocs.io/en/1.0/index.html\n",
    "  \n",
    "  \n",
    "  \n",
    "Incoming:\n",
    "\n",
    "- https://docs.python.org/3/library/stdtypes.html\n",
    "- https://docs.python.org/3/library/functions.html\n"
   ]
  }
 ],
 "metadata": {
  "kernelspec": {
   "display_name": "Python 3 (ipykernel)",
   "language": "python",
   "name": "python3"
  },
  "language_info": {
   "codemirror_mode": {
    "name": "ipython",
    "version": 3
   },
   "file_extension": ".py",
   "mimetype": "text/x-python",
   "name": "python",
   "nbconvert_exporter": "python",
   "pygments_lexer": "ipython3",
   "version": "3.9.4"
  },
  "toc-autonumbering": false,
  "toc-showmarkdowntxt": false
 },
 "nbformat": 4,
 "nbformat_minor": 5
}
