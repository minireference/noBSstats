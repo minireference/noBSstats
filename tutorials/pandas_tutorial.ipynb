{
 "cells": [
  {
   "cell_type": "markdown",
   "id": "736776c9-ae71-4bf7-8fe5-46969e2627e1",
   "metadata": {},
   "source": [
    "# Appendix D — Pandas tutorial\n",
    "\n",
    "\n",
    "WIP\n",
    "\n",
    "See outline here https://docs.google.com/document/d/1fwep23-95U-w1QMPU31nOvUnUXE2X3s_Dbk5JuLlKAY/edit#bookmark=id.ilkd8xe322me"
   ]
  },
  {
   "cell_type": "code",
   "execution_count": null,
   "id": "7f19ba57-3e69-458b-b3b5-ba62853a6a34",
   "metadata": {},
   "outputs": [],
   "source": []
  },
  {
   "cell_type": "code",
   "execution_count": null,
   "id": "e11cec02-67fe-4edb-80d2-fe8088872636",
   "metadata": {},
   "outputs": [],
   "source": []
  },
  {
   "cell_type": "markdown",
   "id": "cc79ae4f-2690-44ab-a5f7-874f0e0e9059",
   "metadata": {},
   "source": [
    "#### Installing Pandas"
   ]
  },
  {
   "cell_type": "markdown",
   "id": "775c3399-8445-4f27-b22f-62eaebc465b4",
   "metadata": {},
   "source": [
    "First let's make sure pandas is installed using the `%pip` Jupyter command."
   ]
  },
  {
   "cell_type": "code",
   "execution_count": 1,
   "id": "39baf4b6-fd71-474b-a2ac-d9759b69e058",
   "metadata": {},
   "outputs": [],
   "source": [
    "# %pip install pandas"
   ]
  },
  {
   "cell_type": "markdown",
   "id": "6fa8115c-e24b-4777-8f1c-c9a43ac4bf81",
   "metadata": {},
   "source": [
    "We then import the `pandas` library as the alias `pd`."
   ]
  },
  {
   "cell_type": "code",
   "execution_count": 2,
   "id": "c5ef2f91-84b2-4e65-aca9-97e651940440",
   "metadata": {},
   "outputs": [],
   "source": [
    "import pandas as pd"
   ]
  },
  {
   "cell_type": "markdown",
   "id": "4d528bed-4bb1-4c0d-9386-4bfed905726c",
   "metadata": {},
   "source": [
    "## Pandas overview"
   ]
  },
  {
   "cell_type": "code",
   "execution_count": null,
   "id": "cd51cf8e-5a45-47e6-8966-3774d12c5844",
   "metadata": {},
   "outputs": [],
   "source": []
  },
  {
   "cell_type": "markdown",
   "id": "478b7388-7ffc-46e7-be1d-a1874e066b7e",
   "metadata": {},
   "source": [
    "## Series\n",
    "\n",
    "Pandas `pd.Series` objects are similar to Python lists `[3,5,7,9]`.\n",
    "They are containers for series of values."
   ]
  },
  {
   "cell_type": "code",
   "execution_count": 3,
   "id": "540424b8-c187-4b0c-81a0-7190da29a2ac",
   "metadata": {},
   "outputs": [
    {
     "data": {
      "text/plain": [
       "0    3\n",
       "1    5\n",
       "2    7\n",
       "3    9\n",
       "dtype: int64"
      ]
     },
     "execution_count": 3,
     "metadata": {},
     "output_type": "execute_result"
    }
   ],
   "source": [
    "s = pd.Series([3, 5, 7, 9])\n",
    "s"
   ]
  },
  {
   "cell_type": "markdown",
   "id": "e6c41723-f019-47d6-b7a0-f31338e53b8f",
   "metadata": {},
   "source": [
    "Python lists use integers for identifying the elements of the list\n",
    "(first = index `0`, second = index `1`, last = index `len(self)-1`).\n",
    "\n",
    "Pandas series support the same functionality.\n",
    "Here are some example of accessing individual values of the series using the default 0-base indexing."
   ]
  },
  {
   "cell_type": "code",
   "execution_count": 4,
   "id": "046e19c1-fa44-451d-a7a0-e4c2b86de234",
   "metadata": {},
   "outputs": [
    {
     "name": "stdout",
     "output_type": "stream",
     "text": [
      "First:  index = 0  value = 3\n",
      "Second: index = 1  value = 5\n",
      "Last:   index = 3  value = 9\n"
     ]
    }
   ],
   "source": [
    "print(\"First:  index =\", 0, \" value =\", s[0])\n",
    "print(\"Second: index =\", 1, \" value =\", s[1])\n",
    "print(\"Last:   index =\", len(s)-1, \" value =\", s[len(s)-1])"
   ]
  },
  {
   "cell_type": "markdown",
   "id": "12cdfdf4-77c7-492f-9140-a3676c71dce0",
   "metadata": {},
   "source": [
    "The series `index` attribute tells you all the possible indices for the series."
   ]
  },
  {
   "cell_type": "code",
   "execution_count": 5,
   "id": "36818882-cf0b-4b19-a177-47641b52db16",
   "metadata": {},
   "outputs": [
    {
     "data": {
      "text/plain": [
       "RangeIndex(start=0, stop=4, step=1)"
      ]
     },
     "execution_count": 5,
     "metadata": {},
     "output_type": "execute_result"
    }
   ],
   "source": [
    "s.index"
   ]
  },
  {
   "cell_type": "markdown",
   "id": "2a860c3e-1fd9-41ca-8e3d-d0eff3d7669e",
   "metadata": {},
   "source": [
    "The series `s` uses the default index `[0, 1, 2, 3]`, \n",
    "which consists of a range of integers, starting at 0,\n",
    "just like the index of a Python list with four elements."
   ]
  },
  {
   "cell_type": "code",
   "execution_count": 6,
   "id": "8cb5a73a-322c-4833-bc7d-84f2af410e36",
   "metadata": {},
   "outputs": [
    {
     "data": {
      "text/plain": [
       "array([3, 5, 7, 9])"
      ]
     },
     "execution_count": 6,
     "metadata": {},
     "output_type": "execute_result"
    }
   ],
   "source": [
    "s.values"
   ]
  },
  {
   "cell_type": "code",
   "execution_count": 7,
   "id": "64a411d2-cf6a-47a0-9a4e-201859286348",
   "metadata": {},
   "outputs": [
    {
     "data": {
      "text/plain": [
       "numpy.ndarray"
      ]
     },
     "execution_count": 7,
     "metadata": {},
     "output_type": "execute_result"
    }
   ],
   "source": [
    "type(s.values)"
   ]
  },
  {
   "cell_type": "markdown",
   "id": "371fc74b-3c23-4c43-9031-5e61c9d0be6b",
   "metadata": {},
   "source": [
    "In addition to accessing individual elements like this,"
   ]
  },
  {
   "cell_type": "code",
   "execution_count": 8,
   "id": "3a5ef5c6-fa3e-4412-96a7-7b0732e23606",
   "metadata": {},
   "outputs": [
    {
     "data": {
      "text/plain": [
       "3"
      ]
     },
     "execution_count": 8,
     "metadata": {},
     "output_type": "execute_result"
    }
   ],
   "source": [
    "s[0]"
   ]
  },
  {
   "cell_type": "markdown",
   "id": "be8ea2c4-0d19-42cf-802f-c5269f620013",
   "metadata": {},
   "source": [
    "we can also \"slice\" a series to obtain a new series that contains indices and values of the slice:"
   ]
  },
  {
   "cell_type": "code",
   "execution_count": 9,
   "id": "92dafe35-f932-4499-a68f-bdf21c7a2244",
   "metadata": {},
   "outputs": [
    {
     "data": {
      "text/plain": [
       "0    3\n",
       "1    5\n",
       "2    7\n",
       "dtype: int64"
      ]
     },
     "execution_count": 9,
     "metadata": {},
     "output_type": "execute_result"
    }
   ],
   "source": [
    "s[0:3]"
   ]
  },
  {
   "cell_type": "markdown",
   "id": "42d5c655-385d-435b-93b6-9cf43f3dcbea",
   "metadata": {},
   "source": [
    "Performing arithmetic operations on the series."
   ]
  },
  {
   "cell_type": "code",
   "execution_count": 10,
   "id": "14e5969d-820b-416f-833a-d28b8966aed6",
   "metadata": {},
   "outputs": [
    {
     "data": {
      "text/plain": [
       "24"
      ]
     },
     "execution_count": 10,
     "metadata": {},
     "output_type": "execute_result"
    }
   ],
   "source": [
    "s.sum()"
   ]
  },
  {
   "cell_type": "code",
   "execution_count": 11,
   "id": "a5d522e2-c931-4388-b90d-a9f3784ee060",
   "metadata": {},
   "outputs": [
    {
     "data": {
      "text/plain": [
       "0    0.125000\n",
       "1    0.208333\n",
       "2    0.291667\n",
       "3    0.375000\n",
       "dtype: float64"
      ]
     },
     "execution_count": 11,
     "metadata": {},
     "output_type": "execute_result"
    }
   ],
   "source": [
    "s / s.sum()"
   ]
  },
  {
   "cell_type": "code",
   "execution_count": 12,
   "id": "47696af8-c6b7-42cb-98e1-1286c520f3f2",
   "metadata": {},
   "outputs": [
    {
     "data": {
      "text/plain": [
       "6.0"
      ]
     },
     "execution_count": 12,
     "metadata": {},
     "output_type": "execute_result"
    }
   ],
   "source": [
    "s.mean()"
   ]
  },
  {
   "cell_type": "code",
   "execution_count": 13,
   "id": "7b1c8f16-e436-42d6-8a1d-f7d6d124c39d",
   "metadata": {},
   "outputs": [
    {
     "data": {
      "text/plain": [
       "2.581988897471611"
      ]
     },
     "execution_count": 13,
     "metadata": {},
     "output_type": "execute_result"
    }
   ],
   "source": [
    "s.std()"
   ]
  },
  {
   "cell_type": "markdown",
   "id": "285c5285-24d2-4b8c-8813-041a54cda8a4",
   "metadata": {},
   "source": [
    "We can also use arbitrary functions from `numpy` on a series,\n",
    "and Pandas will apply the function to the values in the series."
   ]
  },
  {
   "cell_type": "code",
   "execution_count": 14,
   "id": "b97270a5-1256-4871-8a01-47eeae205d69",
   "metadata": {},
   "outputs": [
    {
     "data": {
      "text/plain": [
       "0    1.098612\n",
       "1    1.609438\n",
       "2    1.945910\n",
       "3    2.197225\n",
       "dtype: float64"
      ]
     },
     "execution_count": 14,
     "metadata": {},
     "output_type": "execute_result"
    }
   ],
   "source": [
    "import numpy as np\n",
    "np.log(s)"
   ]
  },
  {
   "cell_type": "markdown",
   "id": "32b8403b-e230-471b-a9c8-d4bcfc7fc94e",
   "metadata": {
    "tags": []
   },
   "source": [
    "#### Bonus material 1"
   ]
  },
  {
   "cell_type": "code",
   "execution_count": 15,
   "id": "84a9f7f4-f72c-4e5c-81d4-5de40b2ad07b",
   "metadata": {},
   "outputs": [
    {
     "data": {
      "text/plain": [
       "0    0.3\n",
       "1    1.5\n",
       "2    2.2\n",
       "dtype: float64"
      ]
     },
     "execution_count": 15,
     "metadata": {},
     "output_type": "execute_result"
    }
   ],
   "source": [
    "# a series of float values\n",
    "s2 = pd.Series([0.3, 1.5, 2.2])\n",
    "s2"
   ]
  },
  {
   "cell_type": "code",
   "execution_count": 16,
   "id": "ac6ebaa3-38f6-4aaa-9ecf-04a5d5d8e3a6",
   "metadata": {},
   "outputs": [
    {
     "data": {
      "text/plain": [
       "0    a\n",
       "1    b\n",
       "2    b\n",
       "3    c\n",
       "dtype: object"
      ]
     },
     "execution_count": 16,
     "metadata": {},
     "output_type": "execute_result"
    }
   ],
   "source": [
    "# a series of categorical values\n",
    "s3 = pd.Series([\"a\", \"b\", \"b\", \"c\"])\n",
    "s3"
   ]
  },
  {
   "cell_type": "markdown",
   "id": "0b3d3f66-f4ba-48fe-ac20-16a79d59f3c5",
   "metadata": {
    "tags": []
   },
   "source": [
    "#### Bonus material 2"
   ]
  },
  {
   "cell_type": "markdown",
   "id": "42f7c22d-6c49-4c04-8437-f6e751903ac7",
   "metadata": {},
   "source": [
    "Pandas series allow arbitrary labels to be used as the index, not just integers.\n",
    "For example, we can use an series index that consists of string labels like (`\"x\"`, `\"y\"`, etc.)."
   ]
  },
  {
   "cell_type": "code",
   "execution_count": 17,
   "id": "46da87b3-2999-4745-9627-2b25e0e390c5",
   "metadata": {},
   "outputs": [
    {
     "data": {
      "text/plain": [
       "x    3\n",
       "y    5\n",
       "z    7\n",
       "t    9\n",
       "dtype: int64"
      ]
     },
     "execution_count": 17,
     "metadata": {},
     "output_type": "execute_result"
    }
   ],
   "source": [
    "s4 = pd.Series(index=[\"x\", \"y\", \"z\", \"t\"],\n",
    "               data =[ 3,   5,   7,   9 ])\n",
    "s4"
   ]
  },
  {
   "cell_type": "code",
   "execution_count": 18,
   "id": "461ccc4a-1088-418c-b308-35a11d439717",
   "metadata": {},
   "outputs": [
    {
     "data": {
      "text/plain": [
       "Index(['x', 'y', 'z', 't'], dtype='object')"
      ]
     },
     "execution_count": 18,
     "metadata": {},
     "output_type": "execute_result"
    }
   ],
   "source": [
    "s4.index"
   ]
  },
  {
   "cell_type": "code",
   "execution_count": 19,
   "id": "9f535a74-f20c-49d0-b6f3-09be02e09ff0",
   "metadata": {},
   "outputs": [
    {
     "data": {
      "text/plain": [
       "array([3, 5, 7, 9])"
      ]
     },
     "execution_count": 19,
     "metadata": {},
     "output_type": "execute_result"
    }
   ],
   "source": [
    "s4.values"
   ]
  },
  {
   "cell_type": "markdown",
   "id": "c7145fd4-ca68-4979-92ae-8d4e1df4041e",
   "metadata": {},
   "source": [
    "We can now use the string labels to access individual elements of the series."
   ]
  },
  {
   "cell_type": "code",
   "execution_count": 20,
   "id": "a3cedffa-2116-4015-b072-b0ccfe1698a1",
   "metadata": {},
   "outputs": [
    {
     "data": {
      "text/plain": [
       "5"
      ]
     },
     "execution_count": 20,
     "metadata": {},
     "output_type": "execute_result"
    }
   ],
   "source": [
    "s4[\"y\"]"
   ]
  },
  {
   "cell_type": "markdown",
   "id": "025ef25a-9088-49fa-a02a-42d11b30a516",
   "metadata": {},
   "source": [
    "In other words,\n",
    "Pandas series also act like Python `dict`ionary objects with arbitrary keys.\n",
    "Indeed any quantity that can be used as a `key` in a dictionary (a Python hashable object),\n",
    "can also be used as a label in a Pandas series.\n",
    "The list of `keys` of a Python dictionary is the same as the `index` of a Pandas series."
   ]
  },
  {
   "cell_type": "markdown",
   "id": "8629023a-d3d3-47dc-9df8-617c3382a223",
   "metadata": {},
   "source": [
    "\n",
    "\n"
   ]
  },
  {
   "cell_type": "code",
   "execution_count": null,
   "id": "e955f17f-34dd-4783-b515-1222e804f2a7",
   "metadata": {},
   "outputs": [],
   "source": []
  },
  {
   "cell_type": "markdown",
   "id": "10a7c795-4c47-4f7f-9eff-56242fda49df",
   "metadata": {},
   "source": [
    "## Data frames"
   ]
  },
  {
   "cell_type": "markdown",
   "id": "ca2176b3-031a-4d65-bb6b-71284d8c7924",
   "metadata": {},
   "source": [
    "Loading the dataset `minimal.csv`"
   ]
  },
  {
   "cell_type": "code",
   "execution_count": 21,
   "id": "93bc53ca-f553-45d8-8557-c6a91798aada",
   "metadata": {},
   "outputs": [],
   "source": [
    "# !cat \"../datasets/minimal.csv\""
   ]
  },
  {
   "cell_type": "code",
   "execution_count": 22,
   "id": "759fde87-5b15-4643-9ac7-8ea535f5bdcb",
   "metadata": {},
   "outputs": [
    {
     "data": {
      "text/html": [
       "<div>\n",
       "<style scoped>\n",
       "    .dataframe tbody tr th:only-of-type {\n",
       "        vertical-align: middle;\n",
       "    }\n",
       "\n",
       "    .dataframe tbody tr th {\n",
       "        vertical-align: top;\n",
       "    }\n",
       "\n",
       "    .dataframe thead th {\n",
       "        text-align: right;\n",
       "    }\n",
       "</style>\n",
       "<table border=\"1\" class=\"dataframe\">\n",
       "  <thead>\n",
       "    <tr style=\"text-align: right;\">\n",
       "      <th></th>\n",
       "      <th>x</th>\n",
       "      <th>y</th>\n",
       "      <th>team</th>\n",
       "      <th>level</th>\n",
       "    </tr>\n",
       "  </thead>\n",
       "  <tbody>\n",
       "    <tr>\n",
       "      <th>0</th>\n",
       "      <td>1.0</td>\n",
       "      <td>2.0</td>\n",
       "      <td>a</td>\n",
       "      <td>3</td>\n",
       "    </tr>\n",
       "    <tr>\n",
       "      <th>1</th>\n",
       "      <td>1.5</td>\n",
       "      <td>1.0</td>\n",
       "      <td>a</td>\n",
       "      <td>2</td>\n",
       "    </tr>\n",
       "    <tr>\n",
       "      <th>2</th>\n",
       "      <td>2.0</td>\n",
       "      <td>1.5</td>\n",
       "      <td>a</td>\n",
       "      <td>1</td>\n",
       "    </tr>\n",
       "    <tr>\n",
       "      <th>3</th>\n",
       "      <td>2.5</td>\n",
       "      <td>2.0</td>\n",
       "      <td>b</td>\n",
       "      <td>3</td>\n",
       "    </tr>\n",
       "    <tr>\n",
       "      <th>4</th>\n",
       "      <td>3.0</td>\n",
       "      <td>1.5</td>\n",
       "      <td>b</td>\n",
       "      <td>3</td>\n",
       "    </tr>\n",
       "  </tbody>\n",
       "</table>\n",
       "</div>"
      ],
      "text/plain": [
       "     x    y team  level\n",
       "0  1.0  2.0    a      3\n",
       "1  1.5  1.0    a      2\n",
       "2  2.0  1.5    a      1\n",
       "3  2.5  2.0    b      3\n",
       "4  3.0  1.5    b      3"
      ]
     },
     "execution_count": 22,
     "metadata": {},
     "output_type": "execute_result"
    }
   ],
   "source": [
    "df = pd.read_csv(\"../datasets/minimal.csv\")\n",
    "df"
   ]
  },
  {
   "cell_type": "code",
   "execution_count": 23,
   "id": "8bd41a92-1d3b-4fb1-9390-e8dc36a75c3f",
   "metadata": {},
   "outputs": [
    {
     "data": {
      "text/plain": [
       "x        float64\n",
       "y        float64\n",
       "team      object\n",
       "level      int64\n",
       "dtype: object"
      ]
     },
     "execution_count": 23,
     "metadata": {},
     "output_type": "execute_result"
    }
   ],
   "source": [
    "df.dtypes"
   ]
  },
  {
   "cell_type": "markdown",
   "id": "a281ff3a-f275-4ad6-9e6c-67e4615569c4",
   "metadata": {},
   "source": [
    "### Data frame properties"
   ]
  },
  {
   "cell_type": "code",
   "execution_count": 24,
   "id": "95fabac3-c0bb-4617-9993-2f768a6c1ca5",
   "metadata": {},
   "outputs": [
    {
     "data": {
      "text/plain": [
       "pandas.core.frame.DataFrame"
      ]
     },
     "execution_count": 24,
     "metadata": {},
     "output_type": "execute_result"
    }
   ],
   "source": [
    "type(df)"
   ]
  },
  {
   "cell_type": "code",
   "execution_count": 25,
   "id": "a8941ad8-6c1a-4140-b832-fbcf67683f86",
   "metadata": {},
   "outputs": [
    {
     "data": {
      "text/plain": [
       "RangeIndex(start=0, stop=5, step=1)"
      ]
     },
     "execution_count": 25,
     "metadata": {},
     "output_type": "execute_result"
    }
   ],
   "source": [
    "df.index"
   ]
  },
  {
   "cell_type": "code",
   "execution_count": 26,
   "id": "df0d2fd9-6392-4e3c-af0d-07fdd75d92b4",
   "metadata": {},
   "outputs": [
    {
     "data": {
      "text/plain": [
       "Index(['x', 'y', 'team', 'level'], dtype='object')"
      ]
     },
     "execution_count": 26,
     "metadata": {},
     "output_type": "execute_result"
    }
   ],
   "source": [
    "df.columns"
   ]
  },
  {
   "cell_type": "code",
   "execution_count": 27,
   "id": "4dc3e23e-3b31-447c-af44-09cc85e664a4",
   "metadata": {},
   "outputs": [
    {
     "data": {
      "text/plain": [
       "(5, 4)"
      ]
     },
     "execution_count": 27,
     "metadata": {},
     "output_type": "execute_result"
    }
   ],
   "source": [
    "df.shape"
   ]
  },
  {
   "cell_type": "code",
   "execution_count": 28,
   "id": "c34ed47a-eee0-4dfb-9c67-2851f2a0654a",
   "metadata": {},
   "outputs": [
    {
     "data": {
      "text/plain": [
       "x        float64\n",
       "y        float64\n",
       "team      object\n",
       "level      int64\n",
       "dtype: object"
      ]
     },
     "execution_count": 28,
     "metadata": {},
     "output_type": "execute_result"
    }
   ],
   "source": [
    "df.dtypes"
   ]
  },
  {
   "cell_type": "code",
   "execution_count": 29,
   "id": "203313ce-fd01-47e0-a720-4e8638a89c07",
   "metadata": {},
   "outputs": [
    {
     "name": "stdout",
     "output_type": "stream",
     "text": [
      "<class 'pandas.core.frame.DataFrame'>\n",
      "RangeIndex: 5 entries, 0 to 4\n",
      "Data columns (total 4 columns):\n",
      " #   Column  Non-Null Count  Dtype  \n",
      "---  ------  --------------  -----  \n",
      " 0   x       5 non-null      float64\n",
      " 1   y       5 non-null      float64\n",
      " 2   team    5 non-null      object \n",
      " 3   level   5 non-null      int64  \n",
      "dtypes: float64(2), int64(1), object(1)\n",
      "memory usage: 538.0 bytes\n"
     ]
    }
   ],
   "source": [
    "df.info(memory_usage=\"deep\")"
   ]
  },
  {
   "cell_type": "code",
   "execution_count": 30,
   "id": "f8e67c71-872b-4f6d-a389-288301dc028d",
   "metadata": {},
   "outputs": [],
   "source": [
    "# df.axes\n",
    "# df.memory_usage()\n",
    "# df.values"
   ]
  },
  {
   "cell_type": "code",
   "execution_count": null,
   "id": "4a9a0831-7926-455d-ab61-083fc25030de",
   "metadata": {},
   "outputs": [],
   "source": []
  },
  {
   "cell_type": "code",
   "execution_count": null,
   "id": "5a5ed249-a01e-4b89-a3e7-7a3df414a863",
   "metadata": {},
   "outputs": [],
   "source": []
  },
  {
   "cell_type": "markdown",
   "id": "a704e705-1b12-4eb4-864b-4fd499d86514",
   "metadata": {},
   "source": [
    "### Accessing and selecting values"
   ]
  },
  {
   "cell_type": "code",
   "execution_count": 31,
   "id": "1efde952-77d2-4f9f-b649-67795dc84d5a",
   "metadata": {},
   "outputs": [
    {
     "data": {
      "text/plain": [
       "1.5"
      ]
     },
     "execution_count": 31,
     "metadata": {},
     "output_type": "execute_result"
    }
   ],
   "source": [
    "df.loc[2, \"y\"]"
   ]
  },
  {
   "cell_type": "code",
   "execution_count": null,
   "id": "9246504a-96fc-4d52-8f3f-f6f7f37e1e86",
   "metadata": {},
   "outputs": [],
   "source": []
  },
  {
   "cell_type": "markdown",
   "id": "fffb6e41-8cfc-42c8-9e0f-9905ee82671a",
   "metadata": {},
   "source": [
    "#### Selecting entire rows"
   ]
  },
  {
   "cell_type": "code",
   "execution_count": 32,
   "id": "558392b6-aab8-4209-95dc-26ccc34d194e",
   "metadata": {},
   "outputs": [
    {
     "data": {
      "text/plain": [
       "x        2.0\n",
       "y        1.5\n",
       "team       a\n",
       "level      1\n",
       "Name: 2, dtype: object"
      ]
     },
     "execution_count": 32,
     "metadata": {},
     "output_type": "execute_result"
    }
   ],
   "source": [
    "row2 = df.loc[2,:]\n",
    "row2"
   ]
  },
  {
   "cell_type": "code",
   "execution_count": 33,
   "id": "7c1a300a-fb1c-491a-98c2-af2a96e64d63",
   "metadata": {},
   "outputs": [
    {
     "data": {
      "text/plain": [
       "pandas.core.series.Series"
      ]
     },
     "execution_count": 33,
     "metadata": {},
     "output_type": "execute_result"
    }
   ],
   "source": [
    "# Rows of the dataframe are Series objects\n",
    "type(row2)"
   ]
  },
  {
   "cell_type": "code",
   "execution_count": 34,
   "id": "a0182cfb-2747-4a1e-bec5-2d3fa9917e54",
   "metadata": {},
   "outputs": [
    {
     "data": {
      "text/plain": [
       "Index(['x', 'y', 'team', 'level'], dtype='object')"
      ]
     },
     "execution_count": 34,
     "metadata": {},
     "output_type": "execute_result"
    }
   ],
   "source": [
    "row2.index"
   ]
  },
  {
   "cell_type": "code",
   "execution_count": 35,
   "id": "0b4dc3d2-62d9-4753-ab9a-d18deef203a4",
   "metadata": {},
   "outputs": [
    {
     "data": {
      "text/plain": [
       "array([2.0, 1.5, 'a', 1], dtype=object)"
      ]
     },
     "execution_count": 35,
     "metadata": {},
     "output_type": "execute_result"
    }
   ],
   "source": [
    "row2.values"
   ]
  },
  {
   "cell_type": "code",
   "execution_count": 36,
   "id": "6705eefc-9bb2-4969-9333-272c1ee467d1",
   "metadata": {},
   "outputs": [
    {
     "data": {
      "text/plain": [
       "1.5"
      ]
     },
     "execution_count": 36,
     "metadata": {},
     "output_type": "execute_result"
    }
   ],
   "source": [
    "row2[\"y\"]"
   ]
  },
  {
   "cell_type": "markdown",
   "id": "4bc55d80-f593-4c93-9a23-4d3f1c39f541",
   "metadata": {},
   "source": [
    "#### Selecting entire columns"
   ]
  },
  {
   "cell_type": "code",
   "execution_count": 37,
   "id": "fb679e61-e7b6-4e23-933a-c73897b1e36a",
   "metadata": {},
   "outputs": [
    {
     "data": {
      "text/plain": [
       "0    2.0\n",
       "1    1.0\n",
       "2    1.5\n",
       "3    2.0\n",
       "4    1.5\n",
       "Name: y, dtype: float64"
      ]
     },
     "execution_count": 37,
     "metadata": {},
     "output_type": "execute_result"
    }
   ],
   "source": [
    "ys = df[\"y\"]\n",
    "ys"
   ]
  },
  {
   "cell_type": "code",
   "execution_count": 38,
   "id": "7f0ad5ce-a0a2-4dce-8031-475e56eb02b8",
   "metadata": {},
   "outputs": [
    {
     "data": {
      "text/plain": [
       "True"
      ]
     },
     "execution_count": 38,
     "metadata": {},
     "output_type": "execute_result"
    }
   ],
   "source": [
    "df[\"y\"].equals( df.loc[:,\"y\"] )"
   ]
  },
  {
   "cell_type": "code",
   "execution_count": 39,
   "id": "d55f1d41-0af6-47bd-ac30-56231bed7c5b",
   "metadata": {},
   "outputs": [
    {
     "data": {
      "text/plain": [
       "True"
      ]
     },
     "execution_count": 39,
     "metadata": {},
     "output_type": "execute_result"
    }
   ],
   "source": [
    "df[\"y\"].equals( df.y )"
   ]
  },
  {
   "cell_type": "code",
   "execution_count": 40,
   "id": "2e98f6a3-f92d-4d5d-b8c9-48e5dbf0d5b1",
   "metadata": {},
   "outputs": [
    {
     "data": {
      "text/plain": [
       "pandas.core.series.Series"
      ]
     },
     "execution_count": 40,
     "metadata": {},
     "output_type": "execute_result"
    }
   ],
   "source": [
    "type(ys)"
   ]
  },
  {
   "cell_type": "code",
   "execution_count": 41,
   "id": "aa7fdb1a-6710-469c-8600-d454516ad7ea",
   "metadata": {},
   "outputs": [
    {
     "data": {
      "text/plain": [
       "RangeIndex(start=0, stop=5, step=1)"
      ]
     },
     "execution_count": 41,
     "metadata": {},
     "output_type": "execute_result"
    }
   ],
   "source": [
    "ys.index"
   ]
  },
  {
   "cell_type": "code",
   "execution_count": 42,
   "id": "1349fd83-2af3-499d-b558-035025a0fda5",
   "metadata": {},
   "outputs": [
    {
     "data": {
      "text/plain": [
       "array([2. , 1. , 1.5, 2. , 1.5])"
      ]
     },
     "execution_count": 42,
     "metadata": {},
     "output_type": "execute_result"
    }
   ],
   "source": [
    "ys.values"
   ]
  },
  {
   "cell_type": "code",
   "execution_count": 43,
   "id": "6c188926-2c4e-4e4d-8b7f-836d47fc42e6",
   "metadata": {},
   "outputs": [
    {
     "data": {
      "text/plain": [
       "1.5"
      ]
     },
     "execution_count": 43,
     "metadata": {},
     "output_type": "execute_result"
    }
   ],
   "source": [
    "ys[2]"
   ]
  },
  {
   "cell_type": "code",
   "execution_count": 44,
   "id": "5e6376c5-6efc-47cf-8dfe-ffb6c2391371",
   "metadata": {},
   "outputs": [
    {
     "name": "stdout",
     "output_type": "stream",
     "text": [
      "     x    y\n",
      "0  1.0  2.0\n",
      "1  1.5  1.0\n",
      "2  2.0  1.5\n",
      "3  2.5  2.0\n",
      "4  3.0  1.5\n"
     ]
    }
   ],
   "source": [
    "print(df[[\"x\", \"y\"]])"
   ]
  },
  {
   "cell_type": "code",
   "execution_count": null,
   "id": "12cd8276-a3a2-4bae-8ed3-7ea72428e36d",
   "metadata": {},
   "outputs": [],
   "source": []
  },
  {
   "cell_type": "markdown",
   "id": "daef17d1-a78a-48f7-afc6-0ab1ea679969",
   "metadata": {},
   "source": [
    "#### Selecting subsets of rows\n"
   ]
  },
  {
   "cell_type": "code",
   "execution_count": 45,
   "id": "82d28dc5-e36d-40dd-907c-c60f30399631",
   "metadata": {},
   "outputs": [
    {
     "data": {
      "text/html": [
       "<div>\n",
       "<style scoped>\n",
       "    .dataframe tbody tr th:only-of-type {\n",
       "        vertical-align: middle;\n",
       "    }\n",
       "\n",
       "    .dataframe tbody tr th {\n",
       "        vertical-align: top;\n",
       "    }\n",
       "\n",
       "    .dataframe thead th {\n",
       "        text-align: right;\n",
       "    }\n",
       "</style>\n",
       "<table border=\"1\" class=\"dataframe\">\n",
       "  <thead>\n",
       "    <tr style=\"text-align: right;\">\n",
       "      <th></th>\n",
       "      <th>x</th>\n",
       "      <th>y</th>\n",
       "      <th>team</th>\n",
       "      <th>level</th>\n",
       "    </tr>\n",
       "  </thead>\n",
       "  <tbody>\n",
       "    <tr>\n",
       "      <th>0</th>\n",
       "      <td>1.0</td>\n",
       "      <td>2.0</td>\n",
       "      <td>a</td>\n",
       "      <td>3</td>\n",
       "    </tr>\n",
       "    <tr>\n",
       "      <th>1</th>\n",
       "      <td>1.5</td>\n",
       "      <td>1.0</td>\n",
       "      <td>a</td>\n",
       "      <td>2</td>\n",
       "    </tr>\n",
       "  </tbody>\n",
       "</table>\n",
       "</div>"
      ],
      "text/plain": [
       "     x    y team  level\n",
       "0  1.0  2.0    a      3\n",
       "1  1.5  1.0    a      2"
      ]
     },
     "execution_count": 45,
     "metadata": {},
     "output_type": "execute_result"
    }
   ],
   "source": [
    "df.head(2)\n",
    "# df.tail(2)\n",
    "# df.sample(3)"
   ]
  },
  {
   "cell_type": "markdown",
   "id": "d8376345-5cbf-4ed1-a385-69e628e2f065",
   "metadata": {},
   "source": [
    "To select only rows where `team` is `b`, we first build the boolean selection mask..."
   ]
  },
  {
   "cell_type": "code",
   "execution_count": 46,
   "id": "64459340-1e00-485f-946f-07242e4a191d",
   "metadata": {},
   "outputs": [
    {
     "data": {
      "text/plain": [
       "0    False\n",
       "1    False\n",
       "2    False\n",
       "3     True\n",
       "4     True\n",
       "Name: team, dtype: bool"
      ]
     },
     "execution_count": 46,
     "metadata": {},
     "output_type": "execute_result"
    }
   ],
   "source": [
    "mask = df[\"team\"] == \"b\"\n",
    "mask"
   ]
  },
  {
   "cell_type": "markdown",
   "id": "8a22e3c3-a123-4a60-a4ba-5c2f94ad8c47",
   "metadata": {},
   "source": [
    "... then select the rows using the mask."
   ]
  },
  {
   "cell_type": "code",
   "execution_count": 47,
   "id": "6c2c4298-58f4-4f67-8a30-c63b2cdde51b",
   "metadata": {},
   "outputs": [
    {
     "data": {
      "text/html": [
       "<div>\n",
       "<style scoped>\n",
       "    .dataframe tbody tr th:only-of-type {\n",
       "        vertical-align: middle;\n",
       "    }\n",
       "\n",
       "    .dataframe tbody tr th {\n",
       "        vertical-align: top;\n",
       "    }\n",
       "\n",
       "    .dataframe thead th {\n",
       "        text-align: right;\n",
       "    }\n",
       "</style>\n",
       "<table border=\"1\" class=\"dataframe\">\n",
       "  <thead>\n",
       "    <tr style=\"text-align: right;\">\n",
       "      <th></th>\n",
       "      <th>x</th>\n",
       "      <th>y</th>\n",
       "      <th>team</th>\n",
       "      <th>level</th>\n",
       "    </tr>\n",
       "  </thead>\n",
       "  <tbody>\n",
       "    <tr>\n",
       "      <th>3</th>\n",
       "      <td>2.5</td>\n",
       "      <td>2.0</td>\n",
       "      <td>b</td>\n",
       "      <td>3</td>\n",
       "    </tr>\n",
       "    <tr>\n",
       "      <th>4</th>\n",
       "      <td>3.0</td>\n",
       "      <td>1.5</td>\n",
       "      <td>b</td>\n",
       "      <td>3</td>\n",
       "    </tr>\n",
       "  </tbody>\n",
       "</table>\n",
       "</div>"
      ],
      "text/plain": [
       "     x    y team  level\n",
       "3  2.5  2.0    b      3\n",
       "4  3.0  1.5    b      3"
      ]
     },
     "execution_count": 47,
     "metadata": {},
     "output_type": "execute_result"
    }
   ],
   "source": [
    "df[mask]"
   ]
  },
  {
   "cell_type": "markdown",
   "id": "225d6c63-36cf-4962-b77c-3835f080f627",
   "metadata": {},
   "source": [
    "The above two step process can be combined into a more compact expression:"
   ]
  },
  {
   "cell_type": "code",
   "execution_count": 48,
   "id": "cc0e6eb4-af87-4a5d-b25f-54332c74925f",
   "metadata": {},
   "outputs": [
    {
     "data": {
      "text/html": [
       "<div>\n",
       "<style scoped>\n",
       "    .dataframe tbody tr th:only-of-type {\n",
       "        vertical-align: middle;\n",
       "    }\n",
       "\n",
       "    .dataframe tbody tr th {\n",
       "        vertical-align: top;\n",
       "    }\n",
       "\n",
       "    .dataframe thead th {\n",
       "        text-align: right;\n",
       "    }\n",
       "</style>\n",
       "<table border=\"1\" class=\"dataframe\">\n",
       "  <thead>\n",
       "    <tr style=\"text-align: right;\">\n",
       "      <th></th>\n",
       "      <th>x</th>\n",
       "      <th>y</th>\n",
       "      <th>team</th>\n",
       "      <th>level</th>\n",
       "    </tr>\n",
       "  </thead>\n",
       "  <tbody>\n",
       "    <tr>\n",
       "      <th>3</th>\n",
       "      <td>2.5</td>\n",
       "      <td>2.0</td>\n",
       "      <td>b</td>\n",
       "      <td>3</td>\n",
       "    </tr>\n",
       "    <tr>\n",
       "      <th>4</th>\n",
       "      <td>3.0</td>\n",
       "      <td>1.5</td>\n",
       "      <td>b</td>\n",
       "      <td>3</td>\n",
       "    </tr>\n",
       "  </tbody>\n",
       "</table>\n",
       "</div>"
      ],
      "text/plain": [
       "     x    y team  level\n",
       "3  2.5  2.0    b      3\n",
       "4  3.0  1.5    b      3"
      ]
     },
     "execution_count": 48,
     "metadata": {},
     "output_type": "execute_result"
    }
   ],
   "source": [
    "df[df[\"team\"]==\"b\"]"
   ]
  },
  {
   "cell_type": "code",
   "execution_count": 49,
   "id": "7d61034f-a592-499b-8ec3-fd9c64a3cc52",
   "metadata": {},
   "outputs": [
    {
     "data": {
      "text/html": [
       "<div>\n",
       "<style scoped>\n",
       "    .dataframe tbody tr th:only-of-type {\n",
       "        vertical-align: middle;\n",
       "    }\n",
       "\n",
       "    .dataframe tbody tr th {\n",
       "        vertical-align: top;\n",
       "    }\n",
       "\n",
       "    .dataframe thead th {\n",
       "        text-align: right;\n",
       "    }\n",
       "</style>\n",
       "<table border=\"1\" class=\"dataframe\">\n",
       "  <thead>\n",
       "    <tr style=\"text-align: right;\">\n",
       "      <th></th>\n",
       "      <th>x</th>\n",
       "      <th>y</th>\n",
       "      <th>team</th>\n",
       "      <th>level</th>\n",
       "    </tr>\n",
       "  </thead>\n",
       "  <tbody>\n",
       "    <tr>\n",
       "      <th>4</th>\n",
       "      <td>3.0</td>\n",
       "      <td>1.5</td>\n",
       "      <td>b</td>\n",
       "      <td>3</td>\n",
       "    </tr>\n",
       "  </tbody>\n",
       "</table>\n",
       "</div>"
      ],
      "text/plain": [
       "     x    y team  level\n",
       "4  3.0  1.5    b      3"
      ]
     },
     "execution_count": 49,
     "metadata": {},
     "output_type": "execute_result"
    }
   ],
   "source": [
    "df[(df[\"team\"] == \"b\") & (df[\"x\"] >= 3)]"
   ]
  },
  {
   "cell_type": "code",
   "execution_count": 50,
   "id": "0d4ad7bf-fe57-483e-8215-fc37750f32d7",
   "metadata": {},
   "outputs": [
    {
     "data": {
      "text/plain": [
       "0     True\n",
       "1     True\n",
       "2    False\n",
       "3     True\n",
       "4     True\n",
       "Name: level, dtype: bool"
      ]
     },
     "execution_count": 50,
     "metadata": {},
     "output_type": "execute_result"
    }
   ],
   "source": [
    "df[\"level\"].isin([2,3])"
   ]
  },
  {
   "cell_type": "code",
   "execution_count": null,
   "id": "1661d876-812a-4f29-86e9-06866b62d54f",
   "metadata": {},
   "outputs": [],
   "source": []
  },
  {
   "cell_type": "code",
   "execution_count": null,
   "id": "4768b0b9-7a2d-49f6-a5b1-bcd39654e869",
   "metadata": {},
   "outputs": [],
   "source": []
  },
  {
   "cell_type": "markdown",
   "id": "2186baab-248d-4411-8e42-f09ce0395957",
   "metadata": {},
   "source": [
    "### Creating data frames from scratch\n",
    "\n",
    "There are other ways to create a `pd.DataFrame` from Python data containers like dicts and lists."
   ]
  },
  {
   "cell_type": "markdown",
   "id": "ee84eb9a-8efc-4f50-9849-e4719b7c83d7",
   "metadata": {},
   "source": [
    "Creating a data frame from a dictionary of columns:"
   ]
  },
  {
   "cell_type": "code",
   "execution_count": 51,
   "id": "e6b61f53-77d1-41c1-bfde-482e3cf65dec",
   "metadata": {},
   "outputs": [
    {
     "data": {
      "text/html": [
       "<div>\n",
       "<style scoped>\n",
       "    .dataframe tbody tr th:only-of-type {\n",
       "        vertical-align: middle;\n",
       "    }\n",
       "\n",
       "    .dataframe tbody tr th {\n",
       "        vertical-align: top;\n",
       "    }\n",
       "\n",
       "    .dataframe thead th {\n",
       "        text-align: right;\n",
       "    }\n",
       "</style>\n",
       "<table border=\"1\" class=\"dataframe\">\n",
       "  <thead>\n",
       "    <tr style=\"text-align: right;\">\n",
       "      <th></th>\n",
       "      <th>x</th>\n",
       "      <th>y</th>\n",
       "      <th>team</th>\n",
       "      <th>level</th>\n",
       "    </tr>\n",
       "  </thead>\n",
       "  <tbody>\n",
       "    <tr>\n",
       "      <th>0</th>\n",
       "      <td>1.0</td>\n",
       "      <td>2.0</td>\n",
       "      <td>a</td>\n",
       "      <td>3</td>\n",
       "    </tr>\n",
       "    <tr>\n",
       "      <th>1</th>\n",
       "      <td>1.5</td>\n",
       "      <td>1.0</td>\n",
       "      <td>a</td>\n",
       "      <td>2</td>\n",
       "    </tr>\n",
       "    <tr>\n",
       "      <th>2</th>\n",
       "      <td>2.0</td>\n",
       "      <td>1.5</td>\n",
       "      <td>a</td>\n",
       "      <td>1</td>\n",
       "    </tr>\n",
       "    <tr>\n",
       "      <th>3</th>\n",
       "      <td>2.5</td>\n",
       "      <td>2.0</td>\n",
       "      <td>b</td>\n",
       "      <td>3</td>\n",
       "    </tr>\n",
       "    <tr>\n",
       "      <th>4</th>\n",
       "      <td>3.0</td>\n",
       "      <td>1.5</td>\n",
       "      <td>b</td>\n",
       "      <td>3</td>\n",
       "    </tr>\n",
       "  </tbody>\n",
       "</table>\n",
       "</div>"
      ],
      "text/plain": [
       "     x    y team  level\n",
       "0  1.0  2.0    a      3\n",
       "1  1.5  1.0    a      2\n",
       "2  2.0  1.5    a      1\n",
       "3  2.5  2.0    b      3\n",
       "4  3.0  1.5    b      3"
      ]
     },
     "execution_count": 51,
     "metadata": {},
     "output_type": "execute_result"
    }
   ],
   "source": [
    "dict_of_columns = {\n",
    "    \"x\": [1.0, 1.5, 2.0, 2.5, 3.0],\n",
    "    \"y\": [2.0, 1.0, 1.5, 2.0, 1.5],\n",
    "    \"team\": [\"a\", \"a\", \"a\", \"b\", \"b\"],\n",
    "    \"level\": [3, 2, 1, 3, 3],\n",
    "}\n",
    "\n",
    "df2 = pd.DataFrame(dict_of_columns)\n",
    "df2"
   ]
  },
  {
   "cell_type": "code",
   "execution_count": 52,
   "id": "7602ccd6-045c-47da-9b09-bf23e6b050e6",
   "metadata": {},
   "outputs": [
    {
     "data": {
      "text/plain": [
       "True"
      ]
     },
     "execution_count": 52,
     "metadata": {},
     "output_type": "execute_result"
    }
   ],
   "source": [
    "# df2 is identical to df loaded from minimal.csv\n",
    "df2.equals(df)"
   ]
  },
  {
   "cell_type": "markdown",
   "id": "8a529056-16c4-4aa0-9282-4bc4f2ff4ff3",
   "metadata": {},
   "source": [
    "Creating a data frame from a list of records (lists or tuples):"
   ]
  },
  {
   "cell_type": "code",
   "execution_count": 53,
   "id": "a961a690-7e50-4d2d-9b70-7c91f36fad80",
   "metadata": {},
   "outputs": [
    {
     "data": {
      "text/html": [
       "<div>\n",
       "<style scoped>\n",
       "    .dataframe tbody tr th:only-of-type {\n",
       "        vertical-align: middle;\n",
       "    }\n",
       "\n",
       "    .dataframe tbody tr th {\n",
       "        vertical-align: top;\n",
       "    }\n",
       "\n",
       "    .dataframe thead th {\n",
       "        text-align: right;\n",
       "    }\n",
       "</style>\n",
       "<table border=\"1\" class=\"dataframe\">\n",
       "  <thead>\n",
       "    <tr style=\"text-align: right;\">\n",
       "      <th></th>\n",
       "      <th>x</th>\n",
       "      <th>y</th>\n",
       "      <th>team</th>\n",
       "      <th>level</th>\n",
       "    </tr>\n",
       "  </thead>\n",
       "  <tbody>\n",
       "    <tr>\n",
       "      <th>0</th>\n",
       "      <td>1.0</td>\n",
       "      <td>2.0</td>\n",
       "      <td>a</td>\n",
       "      <td>3</td>\n",
       "    </tr>\n",
       "    <tr>\n",
       "      <th>1</th>\n",
       "      <td>1.5</td>\n",
       "      <td>1.0</td>\n",
       "      <td>a</td>\n",
       "      <td>2</td>\n",
       "    </tr>\n",
       "    <tr>\n",
       "      <th>2</th>\n",
       "      <td>2.0</td>\n",
       "      <td>1.5</td>\n",
       "      <td>a</td>\n",
       "      <td>1</td>\n",
       "    </tr>\n",
       "    <tr>\n",
       "      <th>3</th>\n",
       "      <td>2.5</td>\n",
       "      <td>2.0</td>\n",
       "      <td>b</td>\n",
       "      <td>3</td>\n",
       "    </tr>\n",
       "    <tr>\n",
       "      <th>4</th>\n",
       "      <td>3.0</td>\n",
       "      <td>1.5</td>\n",
       "      <td>b</td>\n",
       "      <td>3</td>\n",
       "    </tr>\n",
       "  </tbody>\n",
       "</table>\n",
       "</div>"
      ],
      "text/plain": [
       "     x    y team  level\n",
       "0  1.0  2.0    a      3\n",
       "1  1.5  1.0    a      2\n",
       "2  2.0  1.5    a      1\n",
       "3  2.5  2.0    b      3\n",
       "4  3.0  1.5    b      3"
      ]
     },
     "execution_count": 53,
     "metadata": {},
     "output_type": "execute_result"
    }
   ],
   "source": [
    "list_records = [\n",
    "    [1.0, 2.0, \"a\", 3],\n",
    "    [1.5, 1.0, \"a\", 2],\n",
    "    [2.0, 1.5, \"a\", 1],\n",
    "    [2.5, 2.0, \"b\", 3],\n",
    "    [3.0, 1.5, \"b\", 3],\n",
    "]\n",
    "columns = [\"x\", \"y\", \"team\", \"level\"]\n",
    "\n",
    "df3 = pd.DataFrame(list_records, columns=columns)\n",
    "df3"
   ]
  },
  {
   "cell_type": "code",
   "execution_count": 54,
   "id": "c3b95672-2fe4-4214-a0b3-ef27f14ed841",
   "metadata": {},
   "outputs": [
    {
     "data": {
      "text/plain": [
       "True"
      ]
     },
     "execution_count": 54,
     "metadata": {},
     "output_type": "execute_result"
    }
   ],
   "source": [
    "# df3 is identical to df loaded from minimal.csv\n",
    "df3.equals(df)"
   ]
  },
  {
   "cell_type": "markdown",
   "id": "5dcd28f9-553a-479f-8e3e-23a2ae867e60",
   "metadata": {},
   "source": [
    "Creating a data frame from a list of `dict`s:"
   ]
  },
  {
   "cell_type": "code",
   "execution_count": 55,
   "id": "c0a7e0eb-0a57-43c5-bfcf-9ebc08d7a98c",
   "metadata": {},
   "outputs": [
    {
     "data": {
      "text/html": [
       "<div>\n",
       "<style scoped>\n",
       "    .dataframe tbody tr th:only-of-type {\n",
       "        vertical-align: middle;\n",
       "    }\n",
       "\n",
       "    .dataframe tbody tr th {\n",
       "        vertical-align: top;\n",
       "    }\n",
       "\n",
       "    .dataframe thead th {\n",
       "        text-align: right;\n",
       "    }\n",
       "</style>\n",
       "<table border=\"1\" class=\"dataframe\">\n",
       "  <thead>\n",
       "    <tr style=\"text-align: right;\">\n",
       "      <th></th>\n",
       "      <th>x</th>\n",
       "      <th>y</th>\n",
       "      <th>team</th>\n",
       "      <th>level</th>\n",
       "    </tr>\n",
       "  </thead>\n",
       "  <tbody>\n",
       "    <tr>\n",
       "      <th>0</th>\n",
       "      <td>1.0</td>\n",
       "      <td>2.0</td>\n",
       "      <td>a</td>\n",
       "      <td>3</td>\n",
       "    </tr>\n",
       "    <tr>\n",
       "      <th>1</th>\n",
       "      <td>1.5</td>\n",
       "      <td>1.0</td>\n",
       "      <td>a</td>\n",
       "      <td>2</td>\n",
       "    </tr>\n",
       "    <tr>\n",
       "      <th>2</th>\n",
       "      <td>2.0</td>\n",
       "      <td>1.5</td>\n",
       "      <td>a</td>\n",
       "      <td>1</td>\n",
       "    </tr>\n",
       "    <tr>\n",
       "      <th>3</th>\n",
       "      <td>2.5</td>\n",
       "      <td>2.0</td>\n",
       "      <td>b</td>\n",
       "      <td>3</td>\n",
       "    </tr>\n",
       "    <tr>\n",
       "      <th>4</th>\n",
       "      <td>3.0</td>\n",
       "      <td>1.5</td>\n",
       "      <td>b</td>\n",
       "      <td>3</td>\n",
       "    </tr>\n",
       "  </tbody>\n",
       "</table>\n",
       "</div>"
      ],
      "text/plain": [
       "     x    y team  level\n",
       "0  1.0  2.0    a      3\n",
       "1  1.5  1.0    a      2\n",
       "2  2.0  1.5    a      1\n",
       "3  2.5  2.0    b      3\n",
       "4  3.0  1.5    b      3"
      ]
     },
     "execution_count": 55,
     "metadata": {},
     "output_type": "execute_result"
    }
   ],
   "source": [
    "dict_records = [\n",
    "    dict(x=1.0, y=2.0, team=\"a\", level=3),\n",
    "    dict(x=1.5, y=1.0, team=\"a\", level=2),\n",
    "    dict(x=2.0, y=1.5, team=\"a\", level=1),\n",
    "    dict(x=2.5, y=2.0, team=\"b\", level=3),\n",
    "    dict(x=3.0, y=1.5, team=\"b\", level=3),\n",
    "]\n",
    "df4 = pd.DataFrame(dict_records)\n",
    "df4"
   ]
  },
  {
   "cell_type": "code",
   "execution_count": 56,
   "id": "eb39924f-07f2-4108-8d14-f6ea076398a1",
   "metadata": {},
   "outputs": [
    {
     "data": {
      "text/plain": [
       "True"
      ]
     },
     "execution_count": 56,
     "metadata": {},
     "output_type": "execute_result"
    }
   ],
   "source": [
    "# df4 is identical to df loaded from minimal.csv\n",
    "df4.equals(df)"
   ]
  },
  {
   "cell_type": "code",
   "execution_count": 57,
   "id": "a9177ed4-8efb-41fb-a11e-f89068ed38a4",
   "metadata": {},
   "outputs": [
    {
     "data": {
      "text/plain": [
       "True"
      ]
     },
     "execution_count": 57,
     "metadata": {},
     "output_type": "execute_result"
    }
   ],
   "source": [
    "# Note dict(key=\"val\") is just an alternative syntax for {\"key\":\"val\"}\n",
    "dict(x=1.0, y=2.0, group=\"a\", level=3) == {\"x\":1.0, \"y\":2.0, \"group\":\"a\", \"level\":3}"
   ]
  },
  {
   "cell_type": "code",
   "execution_count": null,
   "id": "c750258f-7486-4f98-8d30-002b498e1996",
   "metadata": {},
   "outputs": [],
   "source": []
  },
  {
   "cell_type": "markdown",
   "id": "9716716e-e44b-47f7-b34d-934b93140325",
   "metadata": {},
   "source": [
    "### Exercises 1"
   ]
  },
  {
   "cell_type": "code",
   "execution_count": null,
   "id": "cc653f5a-26d9-43f2-b034-f09a22a7a7a5",
   "metadata": {},
   "outputs": [],
   "source": []
  },
  {
   "cell_type": "code",
   "execution_count": null,
   "id": "52b070f2-8a47-4951-8c50-90e7c8562152",
   "metadata": {},
   "outputs": [],
   "source": []
  },
  {
   "cell_type": "code",
   "execution_count": null,
   "id": "2899df1c-982e-406a-8e82-cbb2f5511cca",
   "metadata": {},
   "outputs": [],
   "source": []
  },
  {
   "cell_type": "markdown",
   "id": "dc4d4e97-28d0-4402-9a4a-25b817dc29aa",
   "metadata": {},
   "source": [
    "## Sorting, grouping and aggregation"
   ]
  },
  {
   "cell_type": "code",
   "execution_count": 58,
   "id": "6b16a47b-1240-40f8-bf7f-ae85c5823401",
   "metadata": {},
   "outputs": [
    {
     "data": {
      "text/plain": [
       "<pandas.core.groupby.generic.DataFrameGroupBy object at 0x117791cd0>"
      ]
     },
     "execution_count": 58,
     "metadata": {},
     "output_type": "execute_result"
    }
   ],
   "source": [
    "df.groupby(\"team\")"
   ]
  },
  {
   "cell_type": "code",
   "execution_count": 59,
   "id": "2186d05b-969d-40ea-ab89-0dbccc512760",
   "metadata": {},
   "outputs": [
    {
     "data": {
      "text/plain": [
       "<pandas.core.groupby.generic.SeriesGroupBy object at 0x117791820>"
      ]
     },
     "execution_count": 59,
     "metadata": {},
     "output_type": "execute_result"
    }
   ],
   "source": [
    "df.groupby(\"team\")[\"x\"]"
   ]
  },
  {
   "cell_type": "code",
   "execution_count": 60,
   "id": "6b851466-2414-4bcd-aaf5-ac63f0dc128a",
   "metadata": {},
   "outputs": [
    {
     "data": {
      "text/plain": [
       "team\n",
       "a    1.50\n",
       "b    2.75\n",
       "Name: x, dtype: float64"
      ]
     },
     "execution_count": 60,
     "metadata": {},
     "output_type": "execute_result"
    }
   ],
   "source": [
    "df.groupby(\"team\")[\"x\"].mean()"
   ]
  },
  {
   "cell_type": "code",
   "execution_count": 61,
   "id": "de9abf74-2452-4f98-a5e5-feb235a54eec",
   "metadata": {},
   "outputs": [
    {
     "data": {
      "text/html": [
       "<div>\n",
       "<style scoped>\n",
       "    .dataframe tbody tr th:only-of-type {\n",
       "        vertical-align: middle;\n",
       "    }\n",
       "\n",
       "    .dataframe tbody tr th {\n",
       "        vertical-align: top;\n",
       "    }\n",
       "\n",
       "    .dataframe thead th {\n",
       "        text-align: right;\n",
       "    }\n",
       "</style>\n",
       "<table border=\"1\" class=\"dataframe\">\n",
       "  <thead>\n",
       "    <tr style=\"text-align: right;\">\n",
       "      <th></th>\n",
       "      <th>sum</th>\n",
       "      <th>count</th>\n",
       "      <th>mean</th>\n",
       "    </tr>\n",
       "    <tr>\n",
       "      <th>team</th>\n",
       "      <th></th>\n",
       "      <th></th>\n",
       "      <th></th>\n",
       "    </tr>\n",
       "  </thead>\n",
       "  <tbody>\n",
       "    <tr>\n",
       "      <th>a</th>\n",
       "      <td>4.5</td>\n",
       "      <td>3</td>\n",
       "      <td>1.50</td>\n",
       "    </tr>\n",
       "    <tr>\n",
       "      <th>b</th>\n",
       "      <td>5.5</td>\n",
       "      <td>2</td>\n",
       "      <td>2.75</td>\n",
       "    </tr>\n",
       "  </tbody>\n",
       "</table>\n",
       "</div>"
      ],
      "text/plain": [
       "      sum  count  mean\n",
       "team                  \n",
       "a     4.5      3  1.50\n",
       "b     5.5      2  2.75"
      ]
     },
     "execution_count": 61,
     "metadata": {},
     "output_type": "execute_result"
    }
   ],
   "source": [
    "df.groupby(\"team\")[\"x\"].aggregate([\"sum\", \"count\", \"mean\"])"
   ]
  },
  {
   "cell_type": "code",
   "execution_count": 62,
   "id": "796e4978-d60d-4b3f-92a9-c9856161b508",
   "metadata": {},
   "outputs": [
    {
     "data": {
      "text/html": [
       "<div>\n",
       "<style scoped>\n",
       "    .dataframe tbody tr th:only-of-type {\n",
       "        vertical-align: middle;\n",
       "    }\n",
       "\n",
       "    .dataframe tbody tr th {\n",
       "        vertical-align: top;\n",
       "    }\n",
       "\n",
       "    .dataframe thead th {\n",
       "        text-align: right;\n",
       "    }\n",
       "</style>\n",
       "<table border=\"1\" class=\"dataframe\">\n",
       "  <thead>\n",
       "    <tr style=\"text-align: right;\">\n",
       "      <th></th>\n",
       "      <th>sum</th>\n",
       "      <th>count</th>\n",
       "      <th>mean</th>\n",
       "    </tr>\n",
       "    <tr>\n",
       "      <th>team</th>\n",
       "      <th></th>\n",
       "      <th></th>\n",
       "      <th></th>\n",
       "    </tr>\n",
       "  </thead>\n",
       "  <tbody>\n",
       "    <tr>\n",
       "      <th>a</th>\n",
       "      <td>4.5</td>\n",
       "      <td>3</td>\n",
       "      <td>1.50</td>\n",
       "    </tr>\n",
       "    <tr>\n",
       "      <th>b</th>\n",
       "      <td>5.5</td>\n",
       "      <td>2</td>\n",
       "      <td>2.75</td>\n",
       "    </tr>\n",
       "  </tbody>\n",
       "</table>\n",
       "</div>"
      ],
      "text/plain": [
       "      sum  count  mean\n",
       "team                  \n",
       "a     4.5      3  1.50\n",
       "b     5.5      2  2.75"
      ]
     },
     "execution_count": 62,
     "metadata": {},
     "output_type": "execute_result"
    }
   ],
   "source": [
    "df.groupby(\"team\")[\"x\"] \\\n",
    "  .agg([\"sum\", \"count\", \"mean\"])"
   ]
  },
  {
   "cell_type": "code",
   "execution_count": 63,
   "id": "acde877b-07cc-448c-b68f-77f65adfc1cd",
   "metadata": {},
   "outputs": [
    {
     "data": {
      "text/html": [
       "<div>\n",
       "<style scoped>\n",
       "    .dataframe tbody tr th:only-of-type {\n",
       "        vertical-align: middle;\n",
       "    }\n",
       "\n",
       "    .dataframe tbody tr th {\n",
       "        vertical-align: top;\n",
       "    }\n",
       "\n",
       "    .dataframe thead th {\n",
       "        text-align: right;\n",
       "    }\n",
       "</style>\n",
       "<table border=\"1\" class=\"dataframe\">\n",
       "  <thead>\n",
       "    <tr style=\"text-align: right;\">\n",
       "      <th></th>\n",
       "      <th>sum</th>\n",
       "      <th>count</th>\n",
       "      <th>mean</th>\n",
       "    </tr>\n",
       "    <tr>\n",
       "      <th>team</th>\n",
       "      <th></th>\n",
       "      <th></th>\n",
       "      <th></th>\n",
       "    </tr>\n",
       "  </thead>\n",
       "  <tbody>\n",
       "    <tr>\n",
       "      <th>a</th>\n",
       "      <td>4.5</td>\n",
       "      <td>3</td>\n",
       "      <td>1.50</td>\n",
       "    </tr>\n",
       "    <tr>\n",
       "      <th>b</th>\n",
       "      <td>5.5</td>\n",
       "      <td>2</td>\n",
       "      <td>2.75</td>\n",
       "    </tr>\n",
       "  </tbody>\n",
       "</table>\n",
       "</div>"
      ],
      "text/plain": [
       "      sum  count  mean\n",
       "team                  \n",
       "a     4.5      3  1.50\n",
       "b     5.5      2  2.75"
      ]
     },
     "execution_count": 63,
     "metadata": {},
     "output_type": "execute_result"
    }
   ],
   "source": [
    "(df\n",
    "  .groupby(\"team\")[\"x\"]\n",
    "  .agg([\"sum\", \"count\", \"mean\"])\n",
    ")"
   ]
  },
  {
   "cell_type": "code",
   "execution_count": null,
   "id": "48d9f7bd-2a19-43c8-b5bc-caa2c05ab91f",
   "metadata": {},
   "outputs": [],
   "source": []
  },
  {
   "cell_type": "code",
   "execution_count": null,
   "id": "3a0e7e05-1430-468f-9edf-9acb73981e83",
   "metadata": {},
   "outputs": [],
   "source": []
  },
  {
   "cell_type": "markdown",
   "id": "201a94ff-3285-48d4-b825-fb0dc4a110db",
   "metadata": {},
   "source": [
    "## Data transformations"
   ]
  },
  {
   "cell_type": "markdown",
   "id": "8575ef19-e577-4ef5-ada7-3790caea0c87",
   "metadata": {},
   "source": [
    "### Transpose"
   ]
  },
  {
   "cell_type": "markdown",
   "id": "98750ba5-f9dd-4608-ac8f-04d8e6b4a5a3",
   "metadata": {},
   "source": [
    "The transpose of a matrix corresponds to flipping the rows and the columns."
   ]
  },
  {
   "cell_type": "code",
   "execution_count": 64,
   "id": "4f210c4c-8492-4e9e-a887-b0ab4c9eddea",
   "metadata": {},
   "outputs": [
    {
     "data": {
      "text/html": [
       "<div>\n",
       "<style scoped>\n",
       "    .dataframe tbody tr th:only-of-type {\n",
       "        vertical-align: middle;\n",
       "    }\n",
       "\n",
       "    .dataframe tbody tr th {\n",
       "        vertical-align: top;\n",
       "    }\n",
       "\n",
       "    .dataframe thead th {\n",
       "        text-align: right;\n",
       "    }\n",
       "</style>\n",
       "<table border=\"1\" class=\"dataframe\">\n",
       "  <thead>\n",
       "    <tr style=\"text-align: right;\">\n",
       "      <th></th>\n",
       "      <th>0</th>\n",
       "      <th>1</th>\n",
       "      <th>2</th>\n",
       "      <th>3</th>\n",
       "      <th>4</th>\n",
       "    </tr>\n",
       "  </thead>\n",
       "  <tbody>\n",
       "    <tr>\n",
       "      <th>x</th>\n",
       "      <td>1.0</td>\n",
       "      <td>1.5</td>\n",
       "      <td>2.0</td>\n",
       "      <td>2.5</td>\n",
       "      <td>3.0</td>\n",
       "    </tr>\n",
       "    <tr>\n",
       "      <th>y</th>\n",
       "      <td>2.0</td>\n",
       "      <td>1.0</td>\n",
       "      <td>1.5</td>\n",
       "      <td>2.0</td>\n",
       "      <td>1.5</td>\n",
       "    </tr>\n",
       "    <tr>\n",
       "      <th>team</th>\n",
       "      <td>a</td>\n",
       "      <td>a</td>\n",
       "      <td>a</td>\n",
       "      <td>b</td>\n",
       "      <td>b</td>\n",
       "    </tr>\n",
       "    <tr>\n",
       "      <th>level</th>\n",
       "      <td>3</td>\n",
       "      <td>2</td>\n",
       "      <td>1</td>\n",
       "      <td>3</td>\n",
       "      <td>3</td>\n",
       "    </tr>\n",
       "  </tbody>\n",
       "</table>\n",
       "</div>"
      ],
      "text/plain": [
       "         0    1    2    3    4\n",
       "x      1.0  1.5  2.0  2.5  3.0\n",
       "y      2.0  1.0  1.5  2.0  1.5\n",
       "team     a    a    a    b    b\n",
       "level    3    2    1    3    3"
      ]
     },
     "execution_count": 64,
     "metadata": {},
     "output_type": "execute_result"
    }
   ],
   "source": [
    "dfT = df.transpose()\n",
    "dfT"
   ]
  },
  {
   "cell_type": "code",
   "execution_count": 65,
   "id": "99c17ef8-8240-4a16-a27a-ef39e898e8cb",
   "metadata": {},
   "outputs": [],
   "source": [
    "# add the columns to the index; result is series with a multi-index\n",
    "# df.stack()"
   ]
  },
  {
   "cell_type": "code",
   "execution_count": 66,
   "id": "f89591ca-c70e-43fd-bfe3-538241ef241e",
   "metadata": {},
   "outputs": [],
   "source": [
    "# ALT. way to do transpose\n",
    "# df.stack().reorder_levels([1,0]).unstack()"
   ]
  },
  {
   "cell_type": "code",
   "execution_count": null,
   "id": "391f0ce1-4881-4ac3-a882-7bd87b55004d",
   "metadata": {},
   "outputs": [],
   "source": []
  },
  {
   "cell_type": "code",
   "execution_count": null,
   "id": "bde7edff-f155-4eb1-ba2a-c8bfef29ea4b",
   "metadata": {},
   "outputs": [],
   "source": []
  },
  {
   "cell_type": "markdown",
   "id": "558fdf52-8117-44f5-b7bd-5076b8c33117",
   "metadata": {},
   "source": [
    "### Adding new columns"
   ]
  },
  {
   "cell_type": "code",
   "execution_count": 67,
   "id": "158d1af9-f755-43de-9c63-8348d773f1ca",
   "metadata": {},
   "outputs": [
    {
     "name": "stdout",
     "output_type": "stream",
     "text": [
      "     x    y team  level   xy\n",
      "0  1.0  2.0    a      3  2.0\n",
      "1  1.5  1.0    a      2  1.5\n",
      "2  2.0  1.5    a      1  3.0\n",
      "3  2.5  2.0    b      3  5.0\n",
      "4  3.0  1.5    b      3  4.5\n"
     ]
    }
   ],
   "source": [
    "df[\"xy\"] = df[\"x\"] * df[\"y\"]\n",
    "print(df)"
   ]
  },
  {
   "cell_type": "code",
   "execution_count": 68,
   "id": "5c920c17-565b-4f96-9095-0baa159ed49d",
   "metadata": {},
   "outputs": [],
   "source": [
    "# undo the modification\n",
    "df = df.drop(columns=[\"xy\"])"
   ]
  },
  {
   "cell_type": "code",
   "execution_count": 69,
   "id": "2b7b9118-33ef-4d7e-a134-80fb15d32de0",
   "metadata": {},
   "outputs": [],
   "source": [
    "df2 = df.copy()\n",
    "df2[\"xy\"] = df[\"x\"] * df[\"y\"]"
   ]
  },
  {
   "cell_type": "code",
   "execution_count": 70,
   "id": "e8848ed6-57c1-4eaf-81b1-9fb42c567b69",
   "metadata": {},
   "outputs": [],
   "source": [
    "df2 = df.assign(xy = df[\"x\"] * df[\"y\"])"
   ]
  },
  {
   "cell_type": "code",
   "execution_count": 71,
   "id": "9e634d79-2ae8-45e6-955f-0e25ffa556fe",
   "metadata": {},
   "outputs": [
    {
     "name": "stdout",
     "output_type": "stream",
     "text": [
      "     x    y team  level   xy  z         r\n",
      "0  1.0  2.0    A      3  2.0  1  2.236068\n",
      "1  1.5  1.0    A      2  1.5  1  1.802776\n",
      "2  2.0  1.5    A      1  3.0  1  2.500000\n",
      "3  2.5  2.0    B      3  5.0  1  3.201562\n",
      "4  3.0  1.5    B      3  4.5  1  3.354102\n"
     ]
    }
   ],
   "source": [
    "import numpy as np\n",
    "df3 = df.assign(xy = df[\"x\"] * df[\"y\"]) \\\n",
    "        .assign(z = 1) \\\n",
    "        .assign(r = np.sqrt(df[\"x\"]**2 + df[\"y\"]**2)) \\\n",
    "        .assign(team = df[\"team\"].str.upper())\n",
    "print(df3)"
   ]
  },
  {
   "cell_type": "code",
   "execution_count": null,
   "id": "7db58f08-9b9d-40bc-917c-fcc1dc5c8fa8",
   "metadata": {},
   "outputs": [],
   "source": []
  },
  {
   "cell_type": "markdown",
   "id": "b27d21f4-c8df-49c4-8384-5eff6bb4d215",
   "metadata": {
    "tags": []
   },
   "source": [
    "### Dropping rows and and columns"
   ]
  },
  {
   "cell_type": "code",
   "execution_count": 72,
   "id": "29c99426-140d-4d93-be2f-4420ac300273",
   "metadata": {},
   "outputs": [
    {
     "data": {
      "text/html": [
       "<div>\n",
       "<style scoped>\n",
       "    .dataframe tbody tr th:only-of-type {\n",
       "        vertical-align: middle;\n",
       "    }\n",
       "\n",
       "    .dataframe tbody tr th {\n",
       "        vertical-align: top;\n",
       "    }\n",
       "\n",
       "    .dataframe thead th {\n",
       "        text-align: right;\n",
       "    }\n",
       "</style>\n",
       "<table border=\"1\" class=\"dataframe\">\n",
       "  <thead>\n",
       "    <tr style=\"text-align: right;\">\n",
       "      <th></th>\n",
       "      <th>x</th>\n",
       "      <th>y</th>\n",
       "      <th>team</th>\n",
       "      <th>level</th>\n",
       "    </tr>\n",
       "  </thead>\n",
       "  <tbody>\n",
       "    <tr>\n",
       "      <th>1</th>\n",
       "      <td>1.5</td>\n",
       "      <td>1.0</td>\n",
       "      <td>a</td>\n",
       "      <td>2</td>\n",
       "    </tr>\n",
       "    <tr>\n",
       "      <th>3</th>\n",
       "      <td>2.5</td>\n",
       "      <td>2.0</td>\n",
       "      <td>b</td>\n",
       "      <td>3</td>\n",
       "    </tr>\n",
       "  </tbody>\n",
       "</table>\n",
       "</div>"
      ],
      "text/plain": [
       "     x    y team  level\n",
       "1  1.5  1.0    a      2\n",
       "3  2.5  2.0    b      3"
      ]
     },
     "execution_count": 72,
     "metadata": {},
     "output_type": "execute_result"
    }
   ],
   "source": [
    "df.drop([0,2,4])"
   ]
  },
  {
   "cell_type": "code",
   "execution_count": 73,
   "id": "7357a1bf-272b-4814-9e17-45abe88b609f",
   "metadata": {},
   "outputs": [
    {
     "data": {
      "text/html": [
       "<div>\n",
       "<style scoped>\n",
       "    .dataframe tbody tr th:only-of-type {\n",
       "        vertical-align: middle;\n",
       "    }\n",
       "\n",
       "    .dataframe tbody tr th {\n",
       "        vertical-align: top;\n",
       "    }\n",
       "\n",
       "    .dataframe thead th {\n",
       "        text-align: right;\n",
       "    }\n",
       "</style>\n",
       "<table border=\"1\" class=\"dataframe\">\n",
       "  <thead>\n",
       "    <tr style=\"text-align: right;\">\n",
       "      <th></th>\n",
       "      <th>x</th>\n",
       "      <th>y</th>\n",
       "      <th>team</th>\n",
       "    </tr>\n",
       "  </thead>\n",
       "  <tbody>\n",
       "    <tr>\n",
       "      <th>0</th>\n",
       "      <td>1.0</td>\n",
       "      <td>2.0</td>\n",
       "      <td>a</td>\n",
       "    </tr>\n",
       "    <tr>\n",
       "      <th>1</th>\n",
       "      <td>1.5</td>\n",
       "      <td>1.0</td>\n",
       "      <td>a</td>\n",
       "    </tr>\n",
       "    <tr>\n",
       "      <th>2</th>\n",
       "      <td>2.0</td>\n",
       "      <td>1.5</td>\n",
       "      <td>a</td>\n",
       "    </tr>\n",
       "    <tr>\n",
       "      <th>3</th>\n",
       "      <td>2.5</td>\n",
       "      <td>2.0</td>\n",
       "      <td>b</td>\n",
       "    </tr>\n",
       "    <tr>\n",
       "      <th>4</th>\n",
       "      <td>3.0</td>\n",
       "      <td>1.5</td>\n",
       "      <td>b</td>\n",
       "    </tr>\n",
       "  </tbody>\n",
       "</table>\n",
       "</div>"
      ],
      "text/plain": [
       "     x    y team\n",
       "0  1.0  2.0    a\n",
       "1  1.5  1.0    a\n",
       "2  2.0  1.5    a\n",
       "3  2.5  2.0    b\n",
       "4  3.0  1.5    b"
      ]
     },
     "execution_count": 73,
     "metadata": {},
     "output_type": "execute_result"
    }
   ],
   "source": [
    "df.drop(columns=[\"level\"])"
   ]
  },
  {
   "cell_type": "markdown",
   "id": "db73e5d1-10b4-4b09-804d-ee269006f05e",
   "metadata": {},
   "source": [
    "Other related methods `.dropna()` for removing rows with missing values,\n",
    "and `.drop_duplicates()` for removing rows that contain duplicate data."
   ]
  },
  {
   "cell_type": "markdown",
   "id": "c60c3cd9-95f9-4b82-9eb3-dd3fcbd01d5c",
   "metadata": {},
   "source": [
    "### Renaming columns and values\n",
    "\n",
    "To rename the columns of a data frame, we can use the `.rename()` method\n",
    "with the `columns` attribute set to a Python dictionary of the replacements we want to make."
   ]
  },
  {
   "cell_type": "code",
   "execution_count": 74,
   "id": "b1fa7206-bba4-49f1-b942-e016d219b3f6",
   "metadata": {},
   "outputs": [
    {
     "data": {
      "text/html": [
       "<div>\n",
       "<style scoped>\n",
       "    .dataframe tbody tr th:only-of-type {\n",
       "        vertical-align: middle;\n",
       "    }\n",
       "\n",
       "    .dataframe tbody tr th {\n",
       "        vertical-align: top;\n",
       "    }\n",
       "\n",
       "    .dataframe thead th {\n",
       "        text-align: right;\n",
       "    }\n",
       "</style>\n",
       "<table border=\"1\" class=\"dataframe\">\n",
       "  <thead>\n",
       "    <tr style=\"text-align: right;\">\n",
       "      <th></th>\n",
       "      <th>x</th>\n",
       "      <th>y</th>\n",
       "      <th>TEAM</th>\n",
       "      <th>LEVEL</th>\n",
       "    </tr>\n",
       "  </thead>\n",
       "  <tbody>\n",
       "    <tr>\n",
       "      <th>0</th>\n",
       "      <td>1.0</td>\n",
       "      <td>2.0</td>\n",
       "      <td>a</td>\n",
       "      <td>3</td>\n",
       "    </tr>\n",
       "    <tr>\n",
       "      <th>1</th>\n",
       "      <td>1.5</td>\n",
       "      <td>1.0</td>\n",
       "      <td>a</td>\n",
       "      <td>2</td>\n",
       "    </tr>\n",
       "    <tr>\n",
       "      <th>2</th>\n",
       "      <td>2.0</td>\n",
       "      <td>1.5</td>\n",
       "      <td>a</td>\n",
       "      <td>1</td>\n",
       "    </tr>\n",
       "    <tr>\n",
       "      <th>3</th>\n",
       "      <td>2.5</td>\n",
       "      <td>2.0</td>\n",
       "      <td>b</td>\n",
       "      <td>3</td>\n",
       "    </tr>\n",
       "    <tr>\n",
       "      <th>4</th>\n",
       "      <td>3.0</td>\n",
       "      <td>1.5</td>\n",
       "      <td>b</td>\n",
       "      <td>3</td>\n",
       "    </tr>\n",
       "  </tbody>\n",
       "</table>\n",
       "</div>"
      ],
      "text/plain": [
       "     x    y TEAM  LEVEL\n",
       "0  1.0  2.0    a      3\n",
       "1  1.5  1.0    a      2\n",
       "2  2.0  1.5    a      1\n",
       "3  2.5  2.0    b      3\n",
       "4  3.0  1.5    b      3"
      ]
     },
     "execution_count": 74,
     "metadata": {},
     "output_type": "execute_result"
    }
   ],
   "source": [
    "df.rename(columns={\"team\":\"TEAM\", \"level\":\"LEVEL\"})"
   ]
  },
  {
   "cell_type": "markdown",
   "id": "008288e4-2377-4d1e-b656-9b428aaceca5",
   "metadata": {},
   "source": [
    "To rename values, we can use the `replace` method,\n",
    "passing in a dictionary of replacements we want to for each column."
   ]
  },
  {
   "cell_type": "code",
   "execution_count": 75,
   "id": "3b082f42-377e-4242-b186-c81a2376fba4",
   "metadata": {},
   "outputs": [
    {
     "data": {
      "text/html": [
       "<div>\n",
       "<style scoped>\n",
       "    .dataframe tbody tr th:only-of-type {\n",
       "        vertical-align: middle;\n",
       "    }\n",
       "\n",
       "    .dataframe tbody tr th {\n",
       "        vertical-align: top;\n",
       "    }\n",
       "\n",
       "    .dataframe thead th {\n",
       "        text-align: right;\n",
       "    }\n",
       "</style>\n",
       "<table border=\"1\" class=\"dataframe\">\n",
       "  <thead>\n",
       "    <tr style=\"text-align: right;\">\n",
       "      <th></th>\n",
       "      <th>x</th>\n",
       "      <th>y</th>\n",
       "      <th>team</th>\n",
       "      <th>level</th>\n",
       "    </tr>\n",
       "  </thead>\n",
       "  <tbody>\n",
       "    <tr>\n",
       "      <th>0</th>\n",
       "      <td>1.0</td>\n",
       "      <td>2.0</td>\n",
       "      <td>A</td>\n",
       "      <td>3</td>\n",
       "    </tr>\n",
       "    <tr>\n",
       "      <th>1</th>\n",
       "      <td>1.5</td>\n",
       "      <td>1.0</td>\n",
       "      <td>A</td>\n",
       "      <td>2</td>\n",
       "    </tr>\n",
       "    <tr>\n",
       "      <th>2</th>\n",
       "      <td>2.0</td>\n",
       "      <td>1.5</td>\n",
       "      <td>A</td>\n",
       "      <td>1</td>\n",
       "    </tr>\n",
       "    <tr>\n",
       "      <th>3</th>\n",
       "      <td>2.5</td>\n",
       "      <td>2.0</td>\n",
       "      <td>B</td>\n",
       "      <td>3</td>\n",
       "    </tr>\n",
       "    <tr>\n",
       "      <th>4</th>\n",
       "      <td>3.0</td>\n",
       "      <td>1.5</td>\n",
       "      <td>B</td>\n",
       "      <td>3</td>\n",
       "    </tr>\n",
       "  </tbody>\n",
       "</table>\n",
       "</div>"
      ],
      "text/plain": [
       "     x    y team  level\n",
       "0  1.0  2.0    A      3\n",
       "1  1.5  1.0    A      2\n",
       "2  2.0  1.5    A      1\n",
       "3  2.5  2.0    B      3\n",
       "4  3.0  1.5    B      3"
      ]
     },
     "execution_count": 75,
     "metadata": {},
     "output_type": "execute_result"
    }
   ],
   "source": [
    "team_mapping = {\"a\":\"A\", \"b\":\"B\"}\n",
    "df.replace({\"team\":team_mapping})"
   ]
  },
  {
   "cell_type": "code",
   "execution_count": 76,
   "id": "f7fcf92b-7432-4b7a-9068-50eb3c9eacdc",
   "metadata": {},
   "outputs": [],
   "source": [
    "# # ALT. use str-methods to get uppercase letter\n",
    "# df.assign(team = df[\"team\"].str.upper())"
   ]
  },
  {
   "cell_type": "code",
   "execution_count": null,
   "id": "58856420-3e43-40bd-a641-936d4add8148",
   "metadata": {},
   "outputs": [],
   "source": []
  },
  {
   "cell_type": "markdown",
   "id": "e24ca7fb-3634-4d53-a031-268e67360161",
   "metadata": {},
   "source": [
    "### Reshaping data frames"
   ]
  },
  {
   "cell_type": "code",
   "execution_count": 77,
   "id": "dd97c00f-ec60-44b7-8b87-57a45aa42adf",
   "metadata": {},
   "outputs": [
    {
     "data": {
      "text/html": [
       "<div>\n",
       "<style scoped>\n",
       "    .dataframe tbody tr th:only-of-type {\n",
       "        vertical-align: middle;\n",
       "    }\n",
       "\n",
       "    .dataframe tbody tr th {\n",
       "        vertical-align: top;\n",
       "    }\n",
       "\n",
       "    .dataframe thead th {\n",
       "        text-align: right;\n",
       "    }\n",
       "</style>\n",
       "<table border=\"1\" class=\"dataframe\">\n",
       "  <thead>\n",
       "    <tr style=\"text-align: right;\">\n",
       "      <th></th>\n",
       "      <th>season</th>\n",
       "      <th>Episode 1</th>\n",
       "      <th>Episode 2</th>\n",
       "      <th>Episode 3</th>\n",
       "    </tr>\n",
       "  </thead>\n",
       "  <tbody>\n",
       "    <tr>\n",
       "      <th>0</th>\n",
       "      <td>Season 1</td>\n",
       "      <td>1000</td>\n",
       "      <td>2000</td>\n",
       "      <td>3000</td>\n",
       "    </tr>\n",
       "    <tr>\n",
       "      <th>1</th>\n",
       "      <td>Season 2</td>\n",
       "      <td>10000</td>\n",
       "      <td>20000</td>\n",
       "      <td>30000</td>\n",
       "    </tr>\n",
       "  </tbody>\n",
       "</table>\n",
       "</div>"
      ],
      "text/plain": [
       "     season  Episode 1  Episode 2  Episode 3\n",
       "0  Season 1       1000       2000       3000\n",
       "1  Season 2      10000      20000      30000"
      ]
     },
     "execution_count": 77,
     "metadata": {},
     "output_type": "execute_result"
    }
   ],
   "source": [
    "views_data = {\n",
    "    \"season\": [\"Season 1\", \"Season 2\"],\n",
    "    \"Episode 1\": [1000, 10000],\n",
    "    \"Episode 2\": [2000, 20000],\n",
    "    \"Episode 3\": [3000, 30000],\n",
    "}\n",
    "widedf = pd.DataFrame(views_data)\n",
    "widedf"
   ]
  },
  {
   "cell_type": "code",
   "execution_count": 78,
   "id": "0630572e-a78a-40c8-b04e-2e28820d6143",
   "metadata": {},
   "outputs": [
    {
     "data": {
      "text/html": [
       "<div>\n",
       "<style scoped>\n",
       "    .dataframe tbody tr th:only-of-type {\n",
       "        vertical-align: middle;\n",
       "    }\n",
       "\n",
       "    .dataframe tbody tr th {\n",
       "        vertical-align: top;\n",
       "    }\n",
       "\n",
       "    .dataframe thead th {\n",
       "        text-align: right;\n",
       "    }\n",
       "</style>\n",
       "<table border=\"1\" class=\"dataframe\">\n",
       "  <thead>\n",
       "    <tr style=\"text-align: right;\">\n",
       "      <th></th>\n",
       "      <th>season</th>\n",
       "      <th>episode</th>\n",
       "      <th>views</th>\n",
       "    </tr>\n",
       "  </thead>\n",
       "  <tbody>\n",
       "    <tr>\n",
       "      <th>0</th>\n",
       "      <td>Season 1</td>\n",
       "      <td>Episode 1</td>\n",
       "      <td>1000</td>\n",
       "    </tr>\n",
       "    <tr>\n",
       "      <th>1</th>\n",
       "      <td>Season 2</td>\n",
       "      <td>Episode 1</td>\n",
       "      <td>10000</td>\n",
       "    </tr>\n",
       "    <tr>\n",
       "      <th>2</th>\n",
       "      <td>Season 1</td>\n",
       "      <td>Episode 2</td>\n",
       "      <td>2000</td>\n",
       "    </tr>\n",
       "    <tr>\n",
       "      <th>3</th>\n",
       "      <td>Season 2</td>\n",
       "      <td>Episode 2</td>\n",
       "      <td>20000</td>\n",
       "    </tr>\n",
       "    <tr>\n",
       "      <th>4</th>\n",
       "      <td>Season 1</td>\n",
       "      <td>Episode 3</td>\n",
       "      <td>3000</td>\n",
       "    </tr>\n",
       "    <tr>\n",
       "      <th>5</th>\n",
       "      <td>Season 2</td>\n",
       "      <td>Episode 3</td>\n",
       "      <td>30000</td>\n",
       "    </tr>\n",
       "  </tbody>\n",
       "</table>\n",
       "</div>"
      ],
      "text/plain": [
       "     season    episode  views\n",
       "0  Season 1  Episode 1   1000\n",
       "1  Season 2  Episode 1  10000\n",
       "2  Season 1  Episode 2   2000\n",
       "3  Season 2  Episode 2  20000\n",
       "4  Season 1  Episode 3   3000\n",
       "5  Season 2  Episode 3  30000"
      ]
     },
     "execution_count": 78,
     "metadata": {},
     "output_type": "execute_result"
    }
   ],
   "source": [
    "longdf = widedf.melt(id_vars=[\"season\"],\n",
    "                     var_name=\"episode\",\n",
    "                     value_name=\"views\")\n",
    "longdf"
   ]
  },
  {
   "cell_type": "markdown",
   "id": "7f0618c4-f60b-4fe0-bef5-5493e297b2af",
   "metadata": {},
   "source": [
    "Let's see the same thing now but sorted by season then by episode:"
   ]
  },
  {
   "cell_type": "code",
   "execution_count": 79,
   "id": "c0235521-1a8d-4f6f-b4d7-f7e041790ab9",
   "metadata": {},
   "outputs": [
    {
     "data": {
      "text/html": [
       "<div>\n",
       "<style scoped>\n",
       "    .dataframe tbody tr th:only-of-type {\n",
       "        vertical-align: middle;\n",
       "    }\n",
       "\n",
       "    .dataframe tbody tr th {\n",
       "        vertical-align: top;\n",
       "    }\n",
       "\n",
       "    .dataframe thead th {\n",
       "        text-align: right;\n",
       "    }\n",
       "</style>\n",
       "<table border=\"1\" class=\"dataframe\">\n",
       "  <thead>\n",
       "    <tr style=\"text-align: right;\">\n",
       "      <th></th>\n",
       "      <th>season</th>\n",
       "      <th>episode</th>\n",
       "      <th>views</th>\n",
       "    </tr>\n",
       "  </thead>\n",
       "  <tbody>\n",
       "    <tr>\n",
       "      <th>0</th>\n",
       "      <td>Season 1</td>\n",
       "      <td>Episode 1</td>\n",
       "      <td>1000</td>\n",
       "    </tr>\n",
       "    <tr>\n",
       "      <th>1</th>\n",
       "      <td>Season 1</td>\n",
       "      <td>Episode 2</td>\n",
       "      <td>2000</td>\n",
       "    </tr>\n",
       "    <tr>\n",
       "      <th>2</th>\n",
       "      <td>Season 1</td>\n",
       "      <td>Episode 3</td>\n",
       "      <td>3000</td>\n",
       "    </tr>\n",
       "    <tr>\n",
       "      <th>3</th>\n",
       "      <td>Season 2</td>\n",
       "      <td>Episode 1</td>\n",
       "      <td>10000</td>\n",
       "    </tr>\n",
       "    <tr>\n",
       "      <th>4</th>\n",
       "      <td>Season 2</td>\n",
       "      <td>Episode 2</td>\n",
       "      <td>20000</td>\n",
       "    </tr>\n",
       "    <tr>\n",
       "      <th>5</th>\n",
       "      <td>Season 2</td>\n",
       "      <td>Episode 3</td>\n",
       "      <td>30000</td>\n",
       "    </tr>\n",
       "  </tbody>\n",
       "</table>\n",
       "</div>"
      ],
      "text/plain": [
       "     season    episode  views\n",
       "0  Season 1  Episode 1   1000\n",
       "1  Season 1  Episode 2   2000\n",
       "2  Season 1  Episode 3   3000\n",
       "3  Season 2  Episode 1  10000\n",
       "4  Season 2  Episode 2  20000\n",
       "5  Season 2  Episode 3  30000"
      ]
     },
     "execution_count": 79,
     "metadata": {},
     "output_type": "execute_result"
    }
   ],
   "source": [
    "longdf.sort_values( by=[\"season\", \"episode\"]) \\\n",
    "      .reset_index(drop=True)"
   ]
  },
  {
   "cell_type": "markdown",
   "id": "f42dc0e5-a61e-468c-95da-bde0cd103362",
   "metadata": {},
   "source": [
    "The method for the opposite transformation (converting long data to wide data) is called `pivot` and works like this:"
   ]
  },
  {
   "cell_type": "code",
   "execution_count": 80,
   "id": "272054fb-138d-4f8d-908a-207e19a5a1d8",
   "metadata": {},
   "outputs": [
    {
     "data": {
      "text/html": [
       "<div>\n",
       "<style scoped>\n",
       "    .dataframe tbody tr th:only-of-type {\n",
       "        vertical-align: middle;\n",
       "    }\n",
       "\n",
       "    .dataframe tbody tr th {\n",
       "        vertical-align: top;\n",
       "    }\n",
       "\n",
       "    .dataframe thead th {\n",
       "        text-align: right;\n",
       "    }\n",
       "</style>\n",
       "<table border=\"1\" class=\"dataframe\">\n",
       "  <thead>\n",
       "    <tr style=\"text-align: right;\">\n",
       "      <th>episode</th>\n",
       "      <th>Episode 1</th>\n",
       "      <th>Episode 2</th>\n",
       "      <th>Episode 3</th>\n",
       "    </tr>\n",
       "    <tr>\n",
       "      <th>season</th>\n",
       "      <th></th>\n",
       "      <th></th>\n",
       "      <th></th>\n",
       "    </tr>\n",
       "  </thead>\n",
       "  <tbody>\n",
       "    <tr>\n",
       "      <th>Season 1</th>\n",
       "      <td>1000</td>\n",
       "      <td>2000</td>\n",
       "      <td>3000</td>\n",
       "    </tr>\n",
       "    <tr>\n",
       "      <th>Season 2</th>\n",
       "      <td>10000</td>\n",
       "      <td>20000</td>\n",
       "      <td>30000</td>\n",
       "    </tr>\n",
       "  </tbody>\n",
       "</table>\n",
       "</div>"
      ],
      "text/plain": [
       "episode   Episode 1  Episode 2  Episode 3\n",
       "season                                   \n",
       "Season 1       1000       2000       3000\n",
       "Season 2      10000      20000      30000"
      ]
     },
     "execution_count": 80,
     "metadata": {},
     "output_type": "execute_result"
    }
   ],
   "source": [
    "longdf.pivot(index=\"season\",\n",
    "             columns=\"episode\",\n",
    "             values=\"views\")"
   ]
  },
  {
   "cell_type": "code",
   "execution_count": 81,
   "id": "558068eb-35da-4fbd-a16e-48ddd6cc15af",
   "metadata": {},
   "outputs": [],
   "source": [
    "# # ALT. to get *exactly* the same data frame as `widedf`\n",
    "# longdf.pivot(index=\"season\",\n",
    "#              columns=\"episode\",\n",
    "#              values=\"views\") \\\n",
    "#        .reset_index() \\\n",
    "#        .rename_axis(columns=None)"
   ]
  },
  {
   "cell_type": "code",
   "execution_count": null,
   "id": "f3c93510-3fe6-4ec5-a2d1-d28552054051",
   "metadata": {},
   "outputs": [],
   "source": []
  },
  {
   "cell_type": "markdown",
   "id": "6eaea9c5-274c-4a6c-bd62-9e82d383a6ab",
   "metadata": {},
   "source": [
    "### String methods"
   ]
  },
  {
   "cell_type": "code",
   "execution_count": null,
   "id": "6773fc0c-a23f-44d1-b41e-7e8cec49f01d",
   "metadata": {},
   "outputs": [],
   "source": []
  },
  {
   "cell_type": "markdown",
   "id": "148c184f-6331-4802-a61b-5580e3757293",
   "metadata": {},
   "source": [
    "### Merging data frames"
   ]
  },
  {
   "cell_type": "code",
   "execution_count": null,
   "id": "abe670d9-3efd-4370-a5dc-19494f3c07f1",
   "metadata": {},
   "outputs": [],
   "source": []
  },
  {
   "cell_type": "markdown",
   "id": "fe75fa07-acc1-4d1c-b513-c8e50428836a",
   "metadata": {},
   "source": [
    "### Type conversions"
   ]
  },
  {
   "cell_type": "code",
   "execution_count": null,
   "id": "3f61110c-03ce-4b01-a4f2-d118610bd1e1",
   "metadata": {},
   "outputs": [],
   "source": []
  },
  {
   "cell_type": "markdown",
   "id": "0c044513-5f02-456f-89f3-4390546283b8",
   "metadata": {},
   "source": [
    "### Creating dummy variables from categorical variables"
   ]
  },
  {
   "cell_type": "code",
   "execution_count": null,
   "id": "45f0b59e-b2a8-48b8-8e56-9391b204c44c",
   "metadata": {},
   "outputs": [],
   "source": []
  },
  {
   "cell_type": "code",
   "execution_count": null,
   "id": "cffad288-bb04-4b71-b73c-dfcd692bff41",
   "metadata": {},
   "outputs": [],
   "source": []
  },
  {
   "cell_type": "markdown",
   "id": "9d633651-1fcf-440b-8146-ea70c3c8aff9",
   "metadata": {},
   "source": [
    "## Data cleaning"
   ]
  },
  {
   "cell_type": "markdown",
   "id": "c2916f56-49d3-48fb-8a3d-e7cbb1f8de54",
   "metadata": {},
   "source": [
    "#### Standardize categorical values"
   ]
  },
  {
   "cell_type": "code",
   "execution_count": 82,
   "id": "155e757b-ddeb-4844-a04e-b29248624b87",
   "metadata": {},
   "outputs": [
    {
     "data": {
      "text/plain": [
       "0        D\n",
       "1      dog\n",
       "2      Dog\n",
       "3    doggo\n",
       "dtype: object"
      ]
     },
     "execution_count": 82,
     "metadata": {},
     "output_type": "execute_result"
    }
   ],
   "source": [
    "pets = pd.Series([\"D\", \"dog\", \"Dog\", \"doggo\"])\n",
    "pets"
   ]
  },
  {
   "cell_type": "code",
   "execution_count": 83,
   "id": "baac8401-db6e-4107-9169-41642482e61f",
   "metadata": {},
   "outputs": [
    {
     "data": {
      "text/plain": [
       "0    dog\n",
       "1    dog\n",
       "2    dog\n",
       "3    dog\n",
       "dtype: object"
      ]
     },
     "execution_count": 83,
     "metadata": {},
     "output_type": "execute_result"
    }
   ],
   "source": [
    "dogsubs = {\"D\":\"dog\", \"Dog\":\"dog\", \"doggo\":\"dog\"}\n",
    "pets.replace(dogsubs)"
   ]
  },
  {
   "cell_type": "code",
   "execution_count": 84,
   "id": "bb249647-ca90-4f7d-9b0b-72487e0b782c",
   "metadata": {},
   "outputs": [
    {
     "data": {
      "text/plain": [
       "dog    4\n",
       "dtype: int64"
      ]
     },
     "execution_count": 84,
     "metadata": {},
     "output_type": "execute_result"
    }
   ],
   "source": [
    "pets.replace(dogsubs).value_counts()"
   ]
  },
  {
   "cell_type": "code",
   "execution_count": null,
   "id": "b20a37d4-21cd-4068-8c68-8719d4bc268c",
   "metadata": {},
   "outputs": [],
   "source": []
  },
  {
   "cell_type": "markdown",
   "id": "aeb6238a-bd9c-4b10-bba7-5555a4e63768",
   "metadata": {},
   "source": [
    "#### Numerical values"
   ]
  },
  {
   "cell_type": "code",
   "execution_count": 85,
   "id": "47250e9c-4e21-4de1-9aef-3eccc64ff86d",
   "metadata": {},
   "outputs": [
    {
     "data": {
      "text/plain": [
       "1.2"
      ]
     },
     "execution_count": 85,
     "metadata": {},
     "output_type": "execute_result"
    }
   ],
   "source": [
    "float(\"1.2\")"
   ]
  },
  {
   "cell_type": "code",
   "execution_count": 86,
   "id": "891cbde3-6673-4349-8c07-fbbe0fd2901f",
   "metadata": {
    "tags": [
     "raises-exception"
    ]
   },
   "outputs": [
    {
     "ename": "ValueError",
     "evalue": "could not convert string to float: '1,2'",
     "output_type": "error",
     "traceback": [
      "\u001b[0;31m---------------------------------------------------------------------------\u001b[0m",
      "\u001b[0;31mValueError\u001b[0m                                Traceback (most recent call last)",
      "Cell \u001b[0;32mIn[86], line 1\u001b[0m\n\u001b[0;32m----> 1\u001b[0m \u001b[38;5;28;43mfloat\u001b[39;49m\u001b[43m(\u001b[49m\u001b[38;5;124;43m\"\u001b[39;49m\u001b[38;5;124;43m1,2\u001b[39;49m\u001b[38;5;124;43m\"\u001b[39;49m\u001b[43m)\u001b[49m\n",
      "\u001b[0;31mValueError\u001b[0m: could not convert string to float: '1,2'"
     ]
    }
   ],
   "source": [
    "float(\"1,2\")"
   ]
  },
  {
   "cell_type": "code",
   "execution_count": 87,
   "id": "3576293c-5950-41f5-bb36-95a761bdb70e",
   "metadata": {},
   "outputs": [
    {
     "data": {
      "text/plain": [
       "'1.2'"
      ]
     },
     "execution_count": 87,
     "metadata": {},
     "output_type": "execute_result"
    }
   ],
   "source": [
    "\"1,2\".replace(\",\", \".\")"
   ]
  },
  {
   "cell_type": "code",
   "execution_count": 88,
   "id": "3d9e19ad-96c5-4ae8-a3f1-b064b92f3d0d",
   "metadata": {
    "tags": [
     "raises-exception"
    ]
   },
   "outputs": [
    {
     "ename": "ValueError",
     "evalue": "could not convert string to float: '1. 2'",
     "output_type": "error",
     "traceback": [
      "\u001b[0;31m---------------------------------------------------------------------------\u001b[0m",
      "\u001b[0;31mValueError\u001b[0m                                Traceback (most recent call last)",
      "Cell \u001b[0;32mIn[88], line 1\u001b[0m\n\u001b[0;32m----> 1\u001b[0m \u001b[38;5;28;43mfloat\u001b[39;49m\u001b[43m(\u001b[49m\u001b[38;5;124;43m\"\u001b[39;49m\u001b[38;5;124;43m1. 2\u001b[39;49m\u001b[38;5;124;43m\"\u001b[39;49m\u001b[43m)\u001b[49m\n",
      "\u001b[0;31mValueError\u001b[0m: could not convert string to float: '1. 2'"
     ]
    }
   ],
   "source": [
    "float(\"1. 2\")"
   ]
  },
  {
   "cell_type": "code",
   "execution_count": 89,
   "id": "9fb41b61-7ff6-48b0-9382-c923eb645427",
   "metadata": {},
   "outputs": [
    {
     "data": {
      "text/plain": [
       "'1.2'"
      ]
     },
     "execution_count": 89,
     "metadata": {},
     "output_type": "execute_result"
    }
   ],
   "source": [
    "\"1. 2\".replace(\" \", \"\")"
   ]
  },
  {
   "cell_type": "code",
   "execution_count": 90,
   "id": "b8186797-9817-40e4-bc0f-8c7c754eabb2",
   "metadata": {},
   "outputs": [
    {
     "data": {
      "text/plain": [
       "0     1.2\n",
       "1     1,2\n",
       "2    1. 2\n",
       "dtype: object"
      ]
     },
     "execution_count": 90,
     "metadata": {},
     "output_type": "execute_result"
    }
   ],
   "source": [
    "ns = pd.Series([\"1.2\", \"1,2\", \"1. 2\"])\n",
    "ns"
   ]
  },
  {
   "cell_type": "code",
   "execution_count": 91,
   "id": "3b6be5b2-d4f4-4e75-b353-f95373fc5d13",
   "metadata": {
    "tags": [
     "raises-exception"
    ]
   },
   "outputs": [],
   "source": [
    "# ns.astype(float)"
   ]
  },
  {
   "cell_type": "code",
   "execution_count": 92,
   "id": "e421b006-a9e3-43f7-b2fe-5874ab43dcc7",
   "metadata": {
    "tags": []
   },
   "outputs": [
    {
     "data": {
      "text/plain": [
       "0    1.2\n",
       "1    1.2\n",
       "2    1.2\n",
       "dtype: float64"
      ]
     },
     "execution_count": 92,
     "metadata": {},
     "output_type": "execute_result"
    }
   ],
   "source": [
    "ns.str.replace(\",\", \".\") \\\n",
    "  .str.replace(\" \", \"\") \\\n",
    "  .astype(float)"
   ]
  },
  {
   "cell_type": "code",
   "execution_count": null,
   "id": "2bd08765-9837-4709-ace8-24d576f62cda",
   "metadata": {},
   "outputs": [],
   "source": []
  },
  {
   "cell_type": "markdown",
   "id": "b0e1abb6-8c27-4e06-b982-4d86adb8e5fd",
   "metadata": {},
   "source": [
    "Use the `.drop_duplicates()` method to remove duplicated rows."
   ]
  },
  {
   "cell_type": "code",
   "execution_count": null,
   "id": "64069ca6-daea-4136-a82f-df52b96858ef",
   "metadata": {},
   "outputs": [],
   "source": []
  },
  {
   "cell_type": "code",
   "execution_count": null,
   "id": "36bfca2a-090c-448c-8a5a-bd55e778e5ca",
   "metadata": {},
   "outputs": [],
   "source": []
  },
  {
   "cell_type": "markdown",
   "id": "8f9a4efd-706e-451d-bded-6a566bc29dc1",
   "metadata": {},
   "source": [
    "### Dealing with missing values"
   ]
  },
  {
   "cell_type": "code",
   "execution_count": 93,
   "id": "e63ac31b-4df5-4c88-a87a-f93f474cd8c1",
   "metadata": {},
   "outputs": [
    {
     "data": {
      "text/html": [
       "<div>\n",
       "<style scoped>\n",
       "    .dataframe tbody tr th:only-of-type {\n",
       "        vertical-align: middle;\n",
       "    }\n",
       "\n",
       "    .dataframe tbody tr th {\n",
       "        vertical-align: top;\n",
       "    }\n",
       "\n",
       "    .dataframe thead th {\n",
       "        text-align: right;\n",
       "    }\n",
       "</style>\n",
       "<table border=\"1\" class=\"dataframe\">\n",
       "  <thead>\n",
       "    <tr style=\"text-align: right;\">\n",
       "      <th></th>\n",
       "      <th>x</th>\n",
       "      <th>y</th>\n",
       "      <th>team</th>\n",
       "      <th>level</th>\n",
       "    </tr>\n",
       "  </thead>\n",
       "  <tbody>\n",
       "    <tr>\n",
       "      <th>0</th>\n",
       "      <td>1.0</td>\n",
       "      <td>2.0</td>\n",
       "      <td>a</td>\n",
       "      <td>3.0</td>\n",
       "    </tr>\n",
       "    <tr>\n",
       "      <th>1</th>\n",
       "      <td>1.5</td>\n",
       "      <td>1.0</td>\n",
       "      <td>a</td>\n",
       "      <td>2.0</td>\n",
       "    </tr>\n",
       "    <tr>\n",
       "      <th>2</th>\n",
       "      <td>2.0</td>\n",
       "      <td>1.5</td>\n",
       "      <td>a</td>\n",
       "      <td>1.0</td>\n",
       "    </tr>\n",
       "    <tr>\n",
       "      <th>3</th>\n",
       "      <td>1.5</td>\n",
       "      <td>1.5</td>\n",
       "      <td>a</td>\n",
       "      <td>NaN</td>\n",
       "    </tr>\n",
       "    <tr>\n",
       "      <th>4</th>\n",
       "      <td>2.5</td>\n",
       "      <td>2.0</td>\n",
       "      <td>b</td>\n",
       "      <td>3.0</td>\n",
       "    </tr>\n",
       "    <tr>\n",
       "      <th>5</th>\n",
       "      <td>3.0</td>\n",
       "      <td>1.5</td>\n",
       "      <td>b</td>\n",
       "      <td>3.0</td>\n",
       "    </tr>\n",
       "    <tr>\n",
       "      <th>6</th>\n",
       "      <td>11.0</td>\n",
       "      <td>NaN</td>\n",
       "      <td>NaN</td>\n",
       "      <td>2.0</td>\n",
       "    </tr>\n",
       "  </tbody>\n",
       "</table>\n",
       "</div>"
      ],
      "text/plain": [
       "      x    y team  level\n",
       "0   1.0  2.0    a    3.0\n",
       "1   1.5  1.0    a    2.0\n",
       "2   2.0  1.5    a    1.0\n",
       "3   1.5  1.5    a    NaN\n",
       "4   2.5  2.0    b    3.0\n",
       "5   3.0  1.5    b    3.0\n",
       "6  11.0  NaN  NaN    2.0"
      ]
     },
     "execution_count": 93,
     "metadata": {},
     "output_type": "execute_result"
    }
   ],
   "source": [
    "rawdf = pd.read_csv(\"../datasets/raw/minimal.csv\")\n",
    "rawdf"
   ]
  },
  {
   "cell_type": "code",
   "execution_count": null,
   "id": "f6ad0847-a042-4411-9497-447ecde2adbf",
   "metadata": {},
   "outputs": [],
   "source": []
  },
  {
   "cell_type": "code",
   "execution_count": 94,
   "id": "ec4a4a8f-37e0-40df-9a10-62382f6b0a12",
   "metadata": {},
   "outputs": [
    {
     "name": "stdout",
     "output_type": "stream",
     "text": [
      "<class 'pandas.core.frame.DataFrame'>\n",
      "RangeIndex: 7 entries, 0 to 6\n",
      "Data columns (total 4 columns):\n",
      " #   Column  Non-Null Count  Dtype  \n",
      "---  ------  --------------  -----  \n",
      " 0   x       7 non-null      float64\n",
      " 1   y       6 non-null      float64\n",
      " 2   team    6 non-null      object \n",
      " 3   level   6 non-null      float64\n",
      "dtypes: float64(3), object(1)\n",
      "memory usage: 352.0+ bytes\n"
     ]
    }
   ],
   "source": [
    "rawdf.info()"
   ]
  },
  {
   "cell_type": "code",
   "execution_count": 95,
   "id": "0641f4a9-ddb7-45de-a0c8-ef64418a1301",
   "metadata": {},
   "outputs": [
    {
     "name": "stdout",
     "output_type": "stream",
     "text": [
      "       x      y   team  level\n",
      "0  False  False  False  False\n",
      "1  False  False  False  False\n",
      "2  False  False  False  False\n",
      "3  False  False  False   True\n",
      "4  False  False  False  False\n",
      "5  False  False  False  False\n",
      "6  False   True   True  False\n"
     ]
    }
   ],
   "source": [
    "print(rawdf.isna())"
   ]
  },
  {
   "cell_type": "code",
   "execution_count": 96,
   "id": "eac55048-4db0-42b3-9e31-1ea28cf2b0cf",
   "metadata": {},
   "outputs": [
    {
     "data": {
      "text/plain": [
       "x        0\n",
       "y        1\n",
       "team     1\n",
       "level    1\n",
       "dtype: int64"
      ]
     },
     "execution_count": 96,
     "metadata": {},
     "output_type": "execute_result"
    }
   ],
   "source": [
    "rawdf.isna().sum(axis=\"rows\")"
   ]
  },
  {
   "cell_type": "code",
   "execution_count": 97,
   "id": "ab8be99e-3de9-4a9a-9baf-15315c8c90be",
   "metadata": {},
   "outputs": [
    {
     "data": {
      "text/plain": [
       "0    0\n",
       "1    0\n",
       "2    0\n",
       "3    1\n",
       "4    0\n",
       "5    0\n",
       "6    2\n",
       "dtype: int64"
      ]
     },
     "execution_count": 97,
     "metadata": {},
     "output_type": "execute_result"
    }
   ],
   "source": [
    "rawdf.isna().sum(axis=\"columns\")"
   ]
  },
  {
   "cell_type": "code",
   "execution_count": 98,
   "id": "1223b3ef-f41b-42e1-9c74-b373becd5de8",
   "metadata": {},
   "outputs": [],
   "source": [
    "# # ALT. convert to data types that have support <NA> values\n",
    "# tmpdf = pd.read_csv(\"../datasets/raw/minimal.csv\")\n",
    "# rawdf2 = tmpdf.convert_dtypes()\n",
    "# rawdf2.dtypes"
   ]
  },
  {
   "cell_type": "code",
   "execution_count": 99,
   "id": "d6912393-48a1-41c5-856c-0afe355a85c6",
   "metadata": {},
   "outputs": [
    {
     "data": {
      "text/plain": [
       "nan"
      ]
     },
     "execution_count": 99,
     "metadata": {},
     "output_type": "execute_result"
    }
   ],
   "source": [
    "float(\"NaN\")"
   ]
  },
  {
   "cell_type": "markdown",
   "id": "43fef319-e395-4b9e-8293-cf6174819c22",
   "metadata": {},
   "source": [
    "Remove rows that contain any missing values:"
   ]
  },
  {
   "cell_type": "code",
   "execution_count": 100,
   "id": "7e1f2d2a-a0f4-4ed3-add5-281f1f6cb2d9",
   "metadata": {},
   "outputs": [
    {
     "data": {
      "text/html": [
       "<div>\n",
       "<style scoped>\n",
       "    .dataframe tbody tr th:only-of-type {\n",
       "        vertical-align: middle;\n",
       "    }\n",
       "\n",
       "    .dataframe tbody tr th {\n",
       "        vertical-align: top;\n",
       "    }\n",
       "\n",
       "    .dataframe thead th {\n",
       "        text-align: right;\n",
       "    }\n",
       "</style>\n",
       "<table border=\"1\" class=\"dataframe\">\n",
       "  <thead>\n",
       "    <tr style=\"text-align: right;\">\n",
       "      <th></th>\n",
       "      <th>x</th>\n",
       "      <th>y</th>\n",
       "      <th>team</th>\n",
       "      <th>level</th>\n",
       "    </tr>\n",
       "  </thead>\n",
       "  <tbody>\n",
       "    <tr>\n",
       "      <th>0</th>\n",
       "      <td>1.0</td>\n",
       "      <td>2.0</td>\n",
       "      <td>a</td>\n",
       "      <td>3.0</td>\n",
       "    </tr>\n",
       "    <tr>\n",
       "      <th>1</th>\n",
       "      <td>1.5</td>\n",
       "      <td>1.0</td>\n",
       "      <td>a</td>\n",
       "      <td>2.0</td>\n",
       "    </tr>\n",
       "    <tr>\n",
       "      <th>2</th>\n",
       "      <td>2.0</td>\n",
       "      <td>1.5</td>\n",
       "      <td>a</td>\n",
       "      <td>1.0</td>\n",
       "    </tr>\n",
       "    <tr>\n",
       "      <th>4</th>\n",
       "      <td>2.5</td>\n",
       "      <td>2.0</td>\n",
       "      <td>b</td>\n",
       "      <td>3.0</td>\n",
       "    </tr>\n",
       "    <tr>\n",
       "      <th>5</th>\n",
       "      <td>3.0</td>\n",
       "      <td>1.5</td>\n",
       "      <td>b</td>\n",
       "      <td>3.0</td>\n",
       "    </tr>\n",
       "  </tbody>\n",
       "</table>\n",
       "</div>"
      ],
      "text/plain": [
       "     x    y team  level\n",
       "0  1.0  2.0    a    3.0\n",
       "1  1.5  1.0    a    2.0\n",
       "2  2.0  1.5    a    1.0\n",
       "4  2.5  2.0    b    3.0\n",
       "5  3.0  1.5    b    3.0"
      ]
     },
     "execution_count": 100,
     "metadata": {},
     "output_type": "execute_result"
    }
   ],
   "source": [
    "cleandf = rawdf.dropna(how=\"any\")\n",
    "cleandf"
   ]
  },
  {
   "cell_type": "code",
   "execution_count": 101,
   "id": "9ab2ce0a-f5d4-482b-ad9b-71dd5d3a0ee0",
   "metadata": {},
   "outputs": [],
   "source": [
    "# Raises warning\n",
    "# cleandf[\"level\"] = cleandf[\"level\"].astype(int)"
   ]
  },
  {
   "cell_type": "code",
   "execution_count": 102,
   "id": "d31f1e78-4ed6-4d7c-85b2-a449c899c3d7",
   "metadata": {},
   "outputs": [],
   "source": [
    "# Convert the level column to `int`\n",
    "cleandf = cleandf.assign(level = cleandf[\"level\"].astype(int))"
   ]
  },
  {
   "cell_type": "code",
   "execution_count": 103,
   "id": "3d474c99-4a3d-48a8-98ff-5e6d98dbaeeb",
   "metadata": {},
   "outputs": [],
   "source": [
    "# # Confirm `cleandf` is the same as `df` we worked with earlier\n",
    "# cleandf.reset_index(drop=True).equals(df)"
   ]
  },
  {
   "cell_type": "markdown",
   "id": "21c57651-0a6d-4b14-a853-aae052ce8f08",
   "metadata": {},
   "source": [
    "\n",
    "  "
   ]
  },
  {
   "cell_type": "markdown",
   "id": "16dd2998-8915-4499-b04c-02653279f49b",
   "metadata": {},
   "source": [
    "### Dealing with outliers"
   ]
  },
  {
   "cell_type": "code",
   "execution_count": 104,
   "id": "962bfd6f-73e6-44dd-830a-08a383b92ef9",
   "metadata": {},
   "outputs": [
    {
     "data": {
      "text/plain": [
       "0     1.0\n",
       "1     2.0\n",
       "2     3.0\n",
       "3     4.0\n",
       "4    50.0\n",
       "dtype: float64"
      ]
     },
     "execution_count": 104,
     "metadata": {},
     "output_type": "execute_result"
    }
   ],
   "source": [
    "xs = pd.Series([1.0, 2.0, 3.0, 4.0, 50.0])\n",
    "xs"
   ]
  },
  {
   "cell_type": "code",
   "execution_count": null,
   "id": "86e5204c-c262-4c57-a2f0-241a1210df87",
   "metadata": {},
   "outputs": [],
   "source": []
  },
  {
   "cell_type": "markdown",
   "id": "7e59d4e7-3022-4264-9d6f-236b6ab50e5c",
   "metadata": {},
   "source": [
    "Visual observation of the values in the series `xs` to \"see\" the outlier."
   ]
  },
  {
   "cell_type": "code",
   "execution_count": 105,
   "id": "fd979214-a8b1-4ceb-9413-fa5eadeb867f",
   "metadata": {},
   "outputs": [
    {
     "data": {
      "text/plain": [
       "<Axes: >"
      ]
     },
     "execution_count": 105,
     "metadata": {},
     "output_type": "execute_result"
    },
    {
     "data": {
      "image/png": "[encoded data removed]",
      "text/plain": [
       "<Figure size 640x480 with 1 Axes>"
      ]
     },
     "metadata": {},
     "output_type": "display_data"
    }
   ],
   "source": [
    "import seaborn as sns\n",
    "sns.stripplot(xs)"
   ]
  },
  {
   "cell_type": "code",
   "execution_count": 106,
   "id": "4abaa9b0-8466-4b03-8cd9-4793a6fa8e9d",
   "metadata": {},
   "outputs": [
    {
     "data": {
      "text/plain": [
       "(-1.0, 7.0)"
      ]
     },
     "execution_count": 106,
     "metadata": {},
     "output_type": "execute_result"
    }
   ],
   "source": [
    "# Tukey outliers limits for values in the `xs` series\n",
    "Q1, Q3 = xs.quantile([0.25, 0.75])\n",
    "IQR = Q3 - Q1\n",
    "xlim_low = Q1 - 1.5*IQR\n",
    "xlim_high = Q3 + 1.5*IQR\n",
    "(xlim_low, xlim_high)"
   ]
  },
  {
   "cell_type": "code",
   "execution_count": 107,
   "id": "74cbff3b-1b24-4cde-8eec-e58eb6e0050a",
   "metadata": {},
   "outputs": [],
   "source": [
    "# # ALT. 2-standard deviations Z-value outlier limits\n",
    "# xmean = xs.mean()\n",
    "# xstd = xs.std()\n",
    "# xlow = xmean - 2*xstd\n",
    "# xhigh = xmean + 2*xstd\n",
    "# (xlow, xhigh)"
   ]
  },
  {
   "cell_type": "markdown",
   "id": "d428a5a8-3f7a-42b1-8c10-c4e2482366ca",
   "metadata": {},
   "source": [
    "Let's build a mask that identifies outliers using the criterion \"values greater than 7\"."
   ]
  },
  {
   "cell_type": "code",
   "execution_count": 108,
   "id": "40820a6c-0ca9-42b0-a2ad-e6d920e8096c",
   "metadata": {},
   "outputs": [
    {
     "data": {
      "text/plain": [
       "0    False\n",
       "1    False\n",
       "2    False\n",
       "3    False\n",
       "4     True\n",
       "dtype: bool"
      ]
     },
     "execution_count": 108,
     "metadata": {},
     "output_type": "execute_result"
    }
   ],
   "source": [
    "outliers = (xs < -1.0) | (xs > 7.0)\n",
    "outliers"
   ]
  },
  {
   "cell_type": "markdown",
   "id": "c179443d-f13b-48a6-970d-55548b488323",
   "metadata": {},
   "source": [
    "The \"not outliers\" are the values we want to keep. The Python operator `~` is used for this."
   ]
  },
  {
   "cell_type": "code",
   "execution_count": 109,
   "id": "07423dac-5525-48f5-aeda-b4328c2846d3",
   "metadata": {},
   "outputs": [
    {
     "data": {
      "text/plain": [
       "0     True\n",
       "1     True\n",
       "2     True\n",
       "3     True\n",
       "4    False\n",
       "dtype: bool"
      ]
     },
     "execution_count": 109,
     "metadata": {},
     "output_type": "execute_result"
    }
   ],
   "source": [
    "~outliers"
   ]
  },
  {
   "cell_type": "code",
   "execution_count": 110,
   "id": "858c0e2d-7098-4ea1-8294-d720a6984c45",
   "metadata": {},
   "outputs": [
    {
     "data": {
      "text/plain": [
       "0    1.0\n",
       "1    2.0\n",
       "2    3.0\n",
       "3    4.0\n",
       "dtype: float64"
      ]
     },
     "execution_count": 110,
     "metadata": {},
     "output_type": "execute_result"
    }
   ],
   "source": [
    "xs[~outliers]"
   ]
  },
  {
   "cell_type": "markdown",
   "id": "f86059c2-2bc8-41eb-878d-478455d7128d",
   "metadata": {},
   "source": [
    "The mean computed from all the values:"
   ]
  },
  {
   "cell_type": "code",
   "execution_count": 111,
   "id": "5325d368-cdc4-44bd-885b-ea037eaa56a4",
   "metadata": {},
   "outputs": [
    {
     "data": {
      "text/plain": [
       "12.0"
      ]
     },
     "execution_count": 111,
     "metadata": {},
     "output_type": "execute_result"
    }
   ],
   "source": [
    "xs.mean()"
   ]
  },
  {
   "cell_type": "code",
   "execution_count": 112,
   "id": "fbf52225-84f5-4e99-acfb-68414eb70249",
   "metadata": {},
   "outputs": [
    {
     "data": {
      "text/plain": [
       "21.27204738618265"
      ]
     },
     "execution_count": 112,
     "metadata": {},
     "output_type": "execute_result"
    }
   ],
   "source": [
    "xs.std()"
   ]
  },
  {
   "cell_type": "markdown",
   "id": "ba8be373-d497-482c-9c3d-87ee96653e37",
   "metadata": {},
   "source": [
    "The mean computed without the outliers:"
   ]
  },
  {
   "cell_type": "code",
   "execution_count": 113,
   "id": "9383ad54-cd05-42e3-82b8-fd36b97f1a75",
   "metadata": {},
   "outputs": [
    {
     "data": {
      "text/plain": [
       "2.5"
      ]
     },
     "execution_count": 113,
     "metadata": {},
     "output_type": "execute_result"
    }
   ],
   "source": [
    "xs[~outliers].mean()"
   ]
  },
  {
   "cell_type": "code",
   "execution_count": 114,
   "id": "22455e56-2a67-4046-a071-56e40c7c917f",
   "metadata": {},
   "outputs": [
    {
     "data": {
      "text/plain": [
       "1.2909944487358056"
      ]
     },
     "execution_count": 114,
     "metadata": {},
     "output_type": "execute_result"
    }
   ],
   "source": [
    "xs[~outliers].std()"
   ]
  },
  {
   "cell_type": "code",
   "execution_count": null,
   "id": "9cfe052b-8510-4eac-bd20-64848d38fed6",
   "metadata": {},
   "outputs": [],
   "source": []
  },
  {
   "cell_type": "markdown",
   "id": "45e28aa4-35de-479c-8c52-4ac46fdd1a3e",
   "metadata": {},
   "source": [
    "## Data sources\n",
    "\n",
    "### Data file formats"
   ]
  },
  {
   "cell_type": "markdown",
   "id": "cf8f74f0-99a4-40c4-aa0a-f600157f8541",
   "metadata": {},
   "source": [
    "### CSV files\n",
    "\n",
    "Comma-Separated-Values are the most common format for tabular data.\n",
    "CSV files are regular text files that contain individual values (numeric or text) separated by commas. In many CSV files, the first line is a special header row that contains the names of the variables."
   ]
  },
  {
   "cell_type": "code",
   "execution_count": 115,
   "id": "27ba070f-7d2f-4cb5-945f-b6fde563b031",
   "metadata": {},
   "outputs": [
    {
     "name": "stdout",
     "output_type": "stream",
     "text": [
      "x,y,team,level\n",
      "1.0,2.0,a,3\n",
      "1.5,1.0,a,2\n",
      "2.0,1.5,a,1\n",
      "2.5,2.0,b,3\n",
      "3.0,1.5,b,3\n"
     ]
    }
   ],
   "source": [
    "!head ../datasets/minimal.csv"
   ]
  },
  {
   "cell_type": "code",
   "execution_count": 116,
   "id": "4612d568-d05b-40da-8a4c-1cb49f4975e5",
   "metadata": {},
   "outputs": [
    {
     "name": "stdout",
     "output_type": "stream",
     "text": [
      "     x    y team  level\n",
      "0  1.0  2.0    a      3\n",
      "1  1.5  1.0    a      2\n",
      "2  2.0  1.5    a      1\n",
      "3  2.5  2.0    b      3\n",
      "4  3.0  1.5    b      3\n"
     ]
    }
   ],
   "source": [
    "df = pd.read_csv(\"../datasets/minimal.csv\")\n",
    "print(df)"
   ]
  },
  {
   "cell_type": "markdown",
   "id": "d4926e8a-b9ec-4df3-91a3-a6ec73652c4f",
   "metadata": {},
   "source": [
    "### Spreadsheets files"
   ]
  },
  {
   "cell_type": "code",
   "execution_count": 117,
   "id": "6394d47b-f8dc-4e1d-b2d2-4f2b69b51c6a",
   "metadata": {},
   "outputs": [
    {
     "data": {
      "text/plain": [
       "True"
      ]
     },
     "execution_count": 117,
     "metadata": {},
     "output_type": "execute_result"
    }
   ],
   "source": [
    "odsdf = pd.read_excel(\"../datasets/formats/minimal.ods\",\n",
    "                      sheet_name=\"Sheet1\")\n",
    "odsdf.equals(df)"
   ]
  },
  {
   "cell_type": "code",
   "execution_count": 118,
   "id": "853ffa32-0f94-43d7-b866-cc3dd84d6a69",
   "metadata": {},
   "outputs": [
    {
     "data": {
      "text/plain": [
       "True"
      ]
     },
     "execution_count": 118,
     "metadata": {},
     "output_type": "execute_result"
    }
   ],
   "source": [
    "xlsxdf = pd.read_excel(\"../datasets/formats/minimal.xlsx\",\n",
    "                       sheet_name=\"Sheet1\")\n",
    "xlsxdf.equals(df)"
   ]
  },
  {
   "cell_type": "code",
   "execution_count": null,
   "id": "dd9714a1-4754-4f79-b1ee-3d6676e79de2",
   "metadata": {},
   "outputs": [],
   "source": []
  },
  {
   "cell_type": "markdown",
   "id": "e119a3f9-5bee-41fa-9975-8e255e584aab",
   "metadata": {},
   "source": [
    "### Other data formats"
   ]
  },
  {
   "cell_type": "markdown",
   "id": "1526dd07-ff82-4d8f-9178-69b4e8920d52",
   "metadata": {},
   "source": [
    "#### TSV\n",
    "\n",
    "The Tab-Separated-Values format is similar to CSV, but uses tabs as separators."
   ]
  },
  {
   "cell_type": "code",
   "execution_count": 119,
   "id": "b1ebf673-761c-4769-a933-8378713225fd",
   "metadata": {},
   "outputs": [
    {
     "name": "stdout",
     "output_type": "stream",
     "text": [
      "x\ty\tteam\tlevel\n",
      "1.0\t2.0\ta\t3\n",
      "1.5\t1.0\ta\t2\n",
      "2.0\t1.5\ta\t1\n",
      "2.5\t2.0\tb\t3\n",
      "3.0\t1.5\tb\t3\n"
     ]
    }
   ],
   "source": [
    "! head ../datasets/formats/minimal.tsv"
   ]
  },
  {
   "cell_type": "markdown",
   "id": "fa6730c6-76b2-44fc-8b68-31f91e6fcbd3",
   "metadata": {},
   "source": [
    "You can read a TSV file using the `pd.read_csv` by setting the appropriate value for `sep` (separator) argument. Note in Python strings, the TAB character is represented as `\\t`."
   ]
  },
  {
   "cell_type": "code",
   "execution_count": 120,
   "id": "3c7fcffc-8fe5-42f5-81e2-61043dc9c1e9",
   "metadata": {},
   "outputs": [
    {
     "data": {
      "text/html": [
       "<div>\n",
       "<style scoped>\n",
       "    .dataframe tbody tr th:only-of-type {\n",
       "        vertical-align: middle;\n",
       "    }\n",
       "\n",
       "    .dataframe tbody tr th {\n",
       "        vertical-align: top;\n",
       "    }\n",
       "\n",
       "    .dataframe thead th {\n",
       "        text-align: right;\n",
       "    }\n",
       "</style>\n",
       "<table border=\"1\" class=\"dataframe\">\n",
       "  <thead>\n",
       "    <tr style=\"text-align: right;\">\n",
       "      <th></th>\n",
       "      <th>x</th>\n",
       "      <th>y</th>\n",
       "      <th>team</th>\n",
       "      <th>level</th>\n",
       "    </tr>\n",
       "  </thead>\n",
       "  <tbody>\n",
       "    <tr>\n",
       "      <th>0</th>\n",
       "      <td>1.0</td>\n",
       "      <td>2.0</td>\n",
       "      <td>a</td>\n",
       "      <td>3</td>\n",
       "    </tr>\n",
       "    <tr>\n",
       "      <th>1</th>\n",
       "      <td>1.5</td>\n",
       "      <td>1.0</td>\n",
       "      <td>a</td>\n",
       "      <td>2</td>\n",
       "    </tr>\n",
       "    <tr>\n",
       "      <th>2</th>\n",
       "      <td>2.0</td>\n",
       "      <td>1.5</td>\n",
       "      <td>a</td>\n",
       "      <td>1</td>\n",
       "    </tr>\n",
       "    <tr>\n",
       "      <th>3</th>\n",
       "      <td>2.5</td>\n",
       "      <td>2.0</td>\n",
       "      <td>b</td>\n",
       "      <td>3</td>\n",
       "    </tr>\n",
       "    <tr>\n",
       "      <th>4</th>\n",
       "      <td>3.0</td>\n",
       "      <td>1.5</td>\n",
       "      <td>b</td>\n",
       "      <td>3</td>\n",
       "    </tr>\n",
       "  </tbody>\n",
       "</table>\n",
       "</div>"
      ],
      "text/plain": [
       "     x    y team  level\n",
       "0  1.0  2.0    a      3\n",
       "1  1.5  1.0    a      2\n",
       "2  2.0  1.5    a      1\n",
       "3  2.5  2.0    b      3\n",
       "4  3.0  1.5    b      3"
      ]
     },
     "execution_count": 120,
     "metadata": {},
     "output_type": "execute_result"
    }
   ],
   "source": [
    "tsvdf = pd.read_csv(\"../datasets/formats/minimal.tsv\", sep=\"\\t\")\n",
    "tsvdf"
   ]
  },
  {
   "cell_type": "code",
   "execution_count": 121,
   "id": "928e1c9f-78da-4c2a-b27f-81a8d913315a",
   "metadata": {},
   "outputs": [
    {
     "data": {
      "text/plain": [
       "True"
      ]
     },
     "execution_count": 121,
     "metadata": {},
     "output_type": "execute_result"
    }
   ],
   "source": [
    "tsvdf.equals(df)"
   ]
  },
  {
   "cell_type": "markdown",
   "id": "454696c2-f35f-4b1b-9168-80a310535471",
   "metadata": {},
   "source": [
    "#### JSON\n",
    "\n",
    "JavaScript Object Notation looks like this:"
   ]
  },
  {
   "cell_type": "code",
   "execution_count": 122,
   "id": "f8383427-4fb4-4aed-9496-44b2fba0c3f8",
   "metadata": {},
   "outputs": [
    {
     "name": "stdout",
     "output_type": "stream",
     "text": [
      "[\n",
      "  {\"x\":1.0, \"y\":2.0, \"team\":\"a\", \"level\":3},\n",
      "  {\"x\":1.5, \"y\":1.0, \"team\":\"a\", \"level\":2},\n",
      "  {\"x\":2.0, \"y\":1.5, \"team\":\"a\", \"level\":1},\n",
      "  {\"x\":2.5, \"y\":2.0, \"team\":\"b\", \"level\":3},\n",
      "  {\"x\":3.0, \"y\":1.5, \"team\":\"b\", \"level\":3}\n",
      "]"
     ]
    }
   ],
   "source": [
    "!head ../datasets/formats/minimal.json"
   ]
  },
  {
   "cell_type": "code",
   "execution_count": 123,
   "id": "c74b9cd1-5f64-4883-ac97-23c652645f6f",
   "metadata": {},
   "outputs": [
    {
     "data": {
      "text/plain": [
       "True"
      ]
     },
     "execution_count": 123,
     "metadata": {},
     "output_type": "execute_result"
    }
   ],
   "source": [
    "jsondf = pd.read_json(\"../datasets/formats/minimal.json\")\n",
    "jsondf.equals(df)"
   ]
  },
  {
   "cell_type": "code",
   "execution_count": null,
   "id": "2b7a5627-8f72-4904-9c2f-4f59b09e3133",
   "metadata": {},
   "outputs": [],
   "source": []
  },
  {
   "cell_type": "code",
   "execution_count": null,
   "id": "43dd6424-e175-4551-8d86-236db00950bb",
   "metadata": {},
   "outputs": [],
   "source": []
  },
  {
   "cell_type": "markdown",
   "id": "99861ce2-7845-43c1-bb1e-09ce93072be4",
   "metadata": {},
   "source": [
    "#### HTML tables"
   ]
  },
  {
   "cell_type": "code",
   "execution_count": 124,
   "id": "71ec2fae-7bca-4a2d-bf58-04211e0ad67f",
   "metadata": {},
   "outputs": [
    {
     "name": "stdout",
     "output_type": "stream",
     "text": [
      "<table>\n",
      "  <thead>\n",
      "    <tr>\n",
      "      <th>x</th>\n",
      "      <th>y</th>\n",
      "      <th>team</th>\n",
      "      <th>level</th>\n",
      "    </tr>\n",
      "  </thead>\n",
      "  <tbody>\n",
      "    <tr>\n",
      "      <td>1.0</td>\n",
      "      <td>2.0</td>\n",
      "      <td>a</td>\n",
      "      <td>3</td>\n",
      "    </tr>\n"
     ]
    }
   ],
   "source": [
    "!head -16 ../datasets/formats/minimal.html"
   ]
  },
  {
   "cell_type": "code",
   "execution_count": 125,
   "id": "b27d3139-3b33-4d82-8045-6080345c5df4",
   "metadata": {},
   "outputs": [
    {
     "data": {
      "text/plain": [
       "True"
      ]
     },
     "execution_count": 125,
     "metadata": {},
     "output_type": "execute_result"
    }
   ],
   "source": [
    "tables = pd.read_html(\"../datasets/formats/minimal.html\")\n",
    "htmldf = tables[0]\n",
    "htmldf.equals(df)"
   ]
  },
  {
   "cell_type": "code",
   "execution_count": 126,
   "id": "0ed58bd7-05e7-46b0-9df0-2361320bc922",
   "metadata": {},
   "outputs": [
    {
     "data": {
      "text/html": [
       "<div>\n",
       "<style scoped>\n",
       "    .dataframe tbody tr th:only-of-type {\n",
       "        vertical-align: middle;\n",
       "    }\n",
       "\n",
       "    .dataframe tbody tr th {\n",
       "        vertical-align: top;\n",
       "    }\n",
       "\n",
       "    .dataframe thead th {\n",
       "        text-align: right;\n",
       "    }\n",
       "</style>\n",
       "<table border=\"1\" class=\"dataframe\">\n",
       "  <thead>\n",
       "    <tr style=\"text-align: right;\">\n",
       "      <th></th>\n",
       "      <th>x</th>\n",
       "      <th>y</th>\n",
       "      <th>team</th>\n",
       "      <th>level</th>\n",
       "    </tr>\n",
       "  </thead>\n",
       "  <tbody>\n",
       "    <tr>\n",
       "      <th>0</th>\n",
       "      <td>1.0</td>\n",
       "      <td>2.0</td>\n",
       "      <td>a</td>\n",
       "      <td>3</td>\n",
       "    </tr>\n",
       "    <tr>\n",
       "      <th>1</th>\n",
       "      <td>1.5</td>\n",
       "      <td>1.0</td>\n",
       "      <td>a</td>\n",
       "      <td>2</td>\n",
       "    </tr>\n",
       "    <tr>\n",
       "      <th>2</th>\n",
       "      <td>2.0</td>\n",
       "      <td>1.5</td>\n",
       "      <td>a</td>\n",
       "      <td>1</td>\n",
       "    </tr>\n",
       "    <tr>\n",
       "      <th>3</th>\n",
       "      <td>2.5</td>\n",
       "      <td>2.0</td>\n",
       "      <td>b</td>\n",
       "      <td>3</td>\n",
       "    </tr>\n",
       "    <tr>\n",
       "      <th>4</th>\n",
       "      <td>3.0</td>\n",
       "      <td>1.5</td>\n",
       "      <td>b</td>\n",
       "      <td>3</td>\n",
       "    </tr>\n",
       "  </tbody>\n",
       "</table>\n",
       "</div>"
      ],
      "text/plain": [
       "     x    y team  level\n",
       "0  1.0  2.0    a      3\n",
       "1  1.5  1.0    a      2\n",
       "2  2.0  1.5    a      1\n",
       "3  2.5  2.0    b      3\n",
       "4  3.0  1.5    b      3"
      ]
     },
     "execution_count": 126,
     "metadata": {},
     "output_type": "execute_result"
    }
   ],
   "source": [
    "htmldf"
   ]
  },
  {
   "cell_type": "markdown",
   "id": "1b7318a7-a7d1-4934-8254-5aa8b3694527",
   "metadata": {},
   "source": [
    "#### XML\n",
    "\n",
    "The eXtensible Markup Language is another common data format."
   ]
  },
  {
   "cell_type": "code",
   "execution_count": 127,
   "id": "c76a94fe-c86f-40b3-beca-6fed44e5ee55",
   "metadata": {},
   "outputs": [
    {
     "name": "stdout",
     "output_type": "stream",
     "text": [
      "<?xml version='1.0' encoding='utf-8'?>\n",
      "<players>\n",
      "  <player>\n",
      "    <x>1.0</x>\n",
      "    <y>2.0</y>\n",
      "    <team>a</team>\n",
      "    <level>3</level>\n",
      "  </player>\n"
     ]
    }
   ],
   "source": [
    "!head -8 ../datasets/formats/minimal.xml"
   ]
  },
  {
   "cell_type": "code",
   "execution_count": 128,
   "id": "9f8aab0c-9a4d-45c7-8de8-013c1eb384a4",
   "metadata": {},
   "outputs": [
    {
     "data": {
      "text/plain": [
       "True"
      ]
     },
     "execution_count": 128,
     "metadata": {},
     "output_type": "execute_result"
    }
   ],
   "source": [
    "xmldf = pd.read_xml(\"../datasets/formats/minimal.xml\")\n",
    "xmldf.equals(df)"
   ]
  },
  {
   "cell_type": "code",
   "execution_count": null,
   "id": "5da6d87e-f120-455b-a866-fa813a2295b6",
   "metadata": {},
   "outputs": [],
   "source": []
  },
  {
   "cell_type": "code",
   "execution_count": null,
   "id": "a6889abe-266d-46ad-b54b-05a013d148d4",
   "metadata": {},
   "outputs": [],
   "source": []
  },
  {
   "cell_type": "markdown",
   "id": "14289170-5d3c-4519-98fa-bf37c00ac1d6",
   "metadata": {},
   "source": [
    "#### SQLite databases"
   ]
  },
  {
   "cell_type": "code",
   "execution_count": 129,
   "id": "6c9ac5d0-698a-461a-a68c-24dfa4b95fe7",
   "metadata": {},
   "outputs": [
    {
     "data": {
      "text/plain": [
       "True"
      ]
     },
     "execution_count": 129,
     "metadata": {},
     "output_type": "execute_result"
    }
   ],
   "source": [
    "from sqlalchemy import create_engine\n",
    "dbpath = \"../datasets/formats/minimal.sqlite\"\n",
    "engine = create_engine(\"sqlite:///\" + dbpath)\n",
    "sqldf = pd.read_sql_table(\"players\", con=engine)\n",
    "sqldf.equals(df)"
   ]
  },
  {
   "cell_type": "code",
   "execution_count": 130,
   "id": "b0a8306f-615b-4a17-b0cb-7232dab8c5c9",
   "metadata": {},
   "outputs": [
    {
     "data": {
      "text/plain": [
       "True"
      ]
     },
     "execution_count": 130,
     "metadata": {},
     "output_type": "execute_result"
    }
   ],
   "source": [
    "query = \"SELECT x, y, team, level FROM players;\"\n",
    "sqldf2 = pd.read_sql_query(query, con=engine)\n",
    "sqldf2.equals(df)"
   ]
  },
  {
   "cell_type": "code",
   "execution_count": null,
   "id": "1513c3bc-6ee3-4a37-b540-e712ccffcdfe",
   "metadata": {},
   "outputs": [],
   "source": []
  },
  {
   "cell_type": "code",
   "execution_count": null,
   "id": "f683188c-6d2f-4802-8e81-89b568b3b6ca",
   "metadata": {},
   "outputs": [],
   "source": []
  },
  {
   "cell_type": "code",
   "execution_count": null,
   "id": "e042fbf3-37b0-46c3-9a9b-263ea18f995d",
   "metadata": {},
   "outputs": [],
   "source": []
  },
  {
   "cell_type": "markdown",
   "id": "3ba9aca6-11bc-4997-a8e3-1acfe9b2789c",
   "metadata": {},
   "source": [
    "## Case studies\n",
    "\n",
    "Background stories for the example datasets\n",
    "\n",
    "Links\n",
    "\n",
    "- https://riptutorial.com/pandas/example/15180/read-nginx-access-log--multiple-quotechars-\n",
    "- [ParseNginxAccessLogs.ipynb](./explorations/ParseNginxAccessLogs.ipynb)"
   ]
  },
  {
   "cell_type": "markdown",
   "id": "a47c3f50-8c73-4b4e-8ab2-b24ad1d15864",
   "metadata": {
    "tags": []
   },
   "source": [
    "### Collecting the website visitors dataset\n",
    "\n",
    "Remore shell  \n",
    "`zcat /var/log/nginx/access.log.*.gz > /tmp/access_logs.txt`\n",
    "\n",
    "\n",
    "Local shell  \n",
    "`scp minireference.com:/tmp/access_logs.txt data/access_logs.txt`"
   ]
  },
  {
   "cell_type": "code",
   "execution_count": 131,
   "id": "9451f9e5-3f54-4003-9e75-d9ef0e840e7a",
   "metadata": {},
   "outputs": [],
   "source": [
    "# access_logs = open(\"data/access_logs.txt\")\n",
    "# df = pd.read_csv(\n",
    "#     access_logs,\n",
    "#     sep=r'\\s(?=(?:[^\"]*\"[^\"]*\")*[^\"]*$)(?![^\\[]*\\])',\n",
    "#     engine='python',\n",
    "#     usecols=[0, 3, 4, 5, 6, 7, 8],\n",
    "#     names=['ip', 'time', 'request', 'status', 'size', 'referer', 'user_agent'],\n",
    "#     na_values='-',\n",
    "#     header=None\n",
    "# )"
   ]
  },
  {
   "cell_type": "code",
   "execution_count": 132,
   "id": "51a7b6c2-857a-4d10-be5d-67754bd3e7ce",
   "metadata": {},
   "outputs": [
    {
     "data": {
      "text/html": [
       "<div>\n",
       "<style scoped>\n",
       "    .dataframe tbody tr th:only-of-type {\n",
       "        vertical-align: middle;\n",
       "    }\n",
       "\n",
       "    .dataframe tbody tr th {\n",
       "        vertical-align: top;\n",
       "    }\n",
       "\n",
       "    .dataframe thead th {\n",
       "        text-align: right;\n",
       "    }\n",
       "</style>\n",
       "<table border=\"1\" class=\"dataframe\">\n",
       "  <thead>\n",
       "    <tr style=\"text-align: right;\">\n",
       "      <th></th>\n",
       "      <th>IP address</th>\n",
       "      <th>version</th>\n",
       "      <th>bought</th>\n",
       "    </tr>\n",
       "  </thead>\n",
       "  <tbody>\n",
       "    <tr>\n",
       "      <th>0</th>\n",
       "      <td>135.185.92.4</td>\n",
       "      <td>B</td>\n",
       "      <td>0</td>\n",
       "    </tr>\n",
       "    <tr>\n",
       "      <th>1</th>\n",
       "      <td>14.75.235.1</td>\n",
       "      <td>A</td>\n",
       "      <td>0</td>\n",
       "    </tr>\n",
       "    <tr>\n",
       "      <th>2</th>\n",
       "      <td>50.132.244.139</td>\n",
       "      <td>B</td>\n",
       "      <td>0</td>\n",
       "    </tr>\n",
       "    <tr>\n",
       "      <th>3</th>\n",
       "      <td>144.181.130.234</td>\n",
       "      <td>A</td>\n",
       "      <td>0</td>\n",
       "    </tr>\n",
       "    <tr>\n",
       "      <th>4</th>\n",
       "      <td>90.92.5.100</td>\n",
       "      <td>B</td>\n",
       "      <td>1</td>\n",
       "    </tr>\n",
       "  </tbody>\n",
       "</table>\n",
       "</div>"
      ],
      "text/plain": [
       "        IP address version  bought\n",
       "0     135.185.92.4       B       0\n",
       "1      14.75.235.1       A       0\n",
       "2   50.132.244.139       B       0\n",
       "3  144.181.130.234       A       0\n",
       "4      90.92.5.100       B       1"
      ]
     },
     "execution_count": 132,
     "metadata": {},
     "output_type": "execute_result"
    }
   ],
   "source": [
    "visitors = pd.read_csv(\"../datasets/visitors.csv\")\n",
    "visitors.head()"
   ]
  },
  {
   "cell_type": "markdown",
   "id": "4c83791b-434d-4eb0-9b77-f2e1864b904b",
   "metadata": {},
   "source": [
    "- A VIEWS = CONTAINS /static/images/homepage/bgA.jpg\n",
    "- B VIEWS = CONTAINS /static/images/homepage/bgB.jpg\n",
    "- A CONVERSIONS = CONTAINS /static/images/homepage/bgA.jpg and /thankyou\n",
    "- B CONVERSIONS = CONTAINS /static/images/homepage/bgB.jpg and /thankyou\n",
    "- p_A = A CONVERSIONS / A VIEWS\n",
    "- p_B = B CONVERSIONS / B VIEWS\n"
   ]
  },
  {
   "cell_type": "code",
   "execution_count": 133,
   "id": "ad6e7f3a-1c55-4f46-9eb8-d7bdad98fe94",
   "metadata": {},
   "outputs": [
    {
     "data": {
      "text/plain": [
       "version  bought\n",
       "A        0         0.953649\n",
       "         1         0.046351\n",
       "B        0         0.943205\n",
       "         1         0.056795\n",
       "Name: bought, dtype: float64"
      ]
     },
     "execution_count": 133,
     "metadata": {},
     "output_type": "execute_result"
    }
   ],
   "source": [
    "visitors.groupby(\"version\") \\\n",
    "         [\"bought\"].value_counts(normalize=True)"
   ]
  },
  {
   "cell_type": "code",
   "execution_count": 134,
   "id": "c6c49b35-581c-48bb-9098-f57f63fde678",
   "metadata": {},
   "outputs": [
    {
     "data": {
      "text/plain": [
       "version\n",
       "A    0.046351\n",
       "B    0.056795\n",
       "dtype: float64"
      ]
     },
     "execution_count": 134,
     "metadata": {},
     "output_type": "execute_result"
    }
   ],
   "source": [
    "visitors.groupby(\"version\") \\\n",
    "         [\"bought\"].agg([\"sum\", \"count\"]) \\\n",
    "         .eval(\"sum/count\")"
   ]
  },
  {
   "cell_type": "markdown",
   "id": "514d9646-1cf6-4f52-9d78-005b3e25a9ef",
   "metadata": {},
   "source": [
    "### Collecting the electricity prices dataset"
   ]
  },
  {
   "cell_type": "code",
   "execution_count": 135,
   "id": "ba7b6999-3cbc-43bd-aeaa-89282d14df08",
   "metadata": {},
   "outputs": [],
   "source": [
    "# xE = [7.7, 5.9,  7, 4.8, 6.3, 6.3, 5.5, 5.4, 6.5]\n",
    "# xW = [11.8, 10, 11, 8.6, 8.3, 9.4,   8, 6.8, 8.5]"
   ]
  },
  {
   "cell_type": "code",
   "execution_count": 136,
   "id": "88e204b2-74a5-44ae-b9a1-4c8650ce86a2",
   "metadata": {},
   "outputs": [
    {
     "data": {
      "text/html": [
       "<div>\n",
       "<style scoped>\n",
       "    .dataframe tbody tr th:only-of-type {\n",
       "        vertical-align: middle;\n",
       "    }\n",
       "\n",
       "    .dataframe tbody tr th {\n",
       "        vertical-align: top;\n",
       "    }\n",
       "\n",
       "    .dataframe thead th {\n",
       "        text-align: right;\n",
       "    }\n",
       "</style>\n",
       "<table border=\"1\" class=\"dataframe\">\n",
       "  <thead>\n",
       "    <tr style=\"text-align: right;\">\n",
       "      <th></th>\n",
       "      <th>end</th>\n",
       "      <th>price</th>\n",
       "    </tr>\n",
       "  </thead>\n",
       "  <tbody>\n",
       "    <tr>\n",
       "      <th>0</th>\n",
       "      <td>East</td>\n",
       "      <td>7.7</td>\n",
       "    </tr>\n",
       "    <tr>\n",
       "      <th>1</th>\n",
       "      <td>East</td>\n",
       "      <td>5.9</td>\n",
       "    </tr>\n",
       "    <tr>\n",
       "      <th>2</th>\n",
       "      <td>East</td>\n",
       "      <td>7.0</td>\n",
       "    </tr>\n",
       "    <tr>\n",
       "      <th>3</th>\n",
       "      <td>East</td>\n",
       "      <td>4.8</td>\n",
       "    </tr>\n",
       "    <tr>\n",
       "      <th>4</th>\n",
       "      <td>East</td>\n",
       "      <td>6.3</td>\n",
       "    </tr>\n",
       "  </tbody>\n",
       "</table>\n",
       "</div>"
      ],
      "text/plain": [
       "    end  price\n",
       "0  East    7.7\n",
       "1  East    5.9\n",
       "2  East    7.0\n",
       "3  East    4.8\n",
       "4  East    6.3"
      ]
     },
     "execution_count": 136,
     "metadata": {},
     "output_type": "execute_result"
    }
   ],
   "source": [
    "eprices = pd.read_csv(\"../datasets/eprices.csv\")\n",
    "eprices.head()"
   ]
  },
  {
   "cell_type": "code",
   "execution_count": null,
   "id": "40c583a8-e134-4e8f-9062-78305111c048",
   "metadata": {},
   "outputs": [],
   "source": []
  },
  {
   "cell_type": "markdown",
   "id": "a5a05150-037c-4471-918c-9ee290209748",
   "metadata": {},
   "source": [
    "### Collecting the students dataset"
   ]
  },
  {
   "cell_type": "code",
   "execution_count": 137,
   "id": "07d6cf3f-f0a4-4976-9e20-2247ee1057d6",
   "metadata": {},
   "outputs": [
    {
     "name": "stdout",
     "output_type": "stream",
     "text": [
      "           background curriculum  effort  score\n",
      "student_ID                                     \n",
      "1                arts     debate   10.96   75.0\n",
      "2             science    lecture    8.69   75.0\n",
      "3                arts     debate    8.60   67.0\n",
      "4                arts    lecture    7.92   70.3\n",
      "5             science     debate    9.90   76.1\n"
     ]
    }
   ],
   "source": [
    "students = pd.read_csv(\"../datasets/students.csv\", index_col=\"student_ID\")\n",
    "print(students.head())"
   ]
  },
  {
   "cell_type": "code",
   "execution_count": null,
   "id": "c496900b-c337-4f78-bdff-29a8f9c8d89b",
   "metadata": {},
   "outputs": [],
   "source": []
  },
  {
   "cell_type": "markdown",
   "id": "da5b4d47-d7d8-4a65-894e-f1141022d649",
   "metadata": {},
   "source": [
    "```\n",
    "SELECT <which variables> FROM <which table>;\n",
    "SELECT <which variables> FROM <which table> WHERE <conditions>;\n",
    "\n",
    "e.g. \n",
    "SELECT student_id, time_on_task FROM learner_analytics;\n",
    "SELECT student_id, scrore FROM student_final_grades;\n",
    "\n",
    "AGGREGATE total effort\n",
    "JOIN effort and score tables\n",
    "```"
   ]
  },
  {
   "cell_type": "code",
   "execution_count": 138,
   "id": "033da46a-69ae-4e16-b639-5198747587bf",
   "metadata": {},
   "outputs": [
    {
     "data": {
      "text/html": [
       "<div>\n",
       "<style scoped>\n",
       "    .dataframe tbody tr th:only-of-type {\n",
       "        vertical-align: middle;\n",
       "    }\n",
       "\n",
       "    .dataframe tbody tr th {\n",
       "        vertical-align: top;\n",
       "    }\n",
       "\n",
       "    .dataframe thead th {\n",
       "        text-align: right;\n",
       "    }\n",
       "</style>\n",
       "<table border=\"1\" class=\"dataframe\">\n",
       "  <thead>\n",
       "    <tr style=\"text-align: right;\">\n",
       "      <th></th>\n",
       "      <th>background</th>\n",
       "      <th>curriculum</th>\n",
       "      <th>effort</th>\n",
       "      <th>score</th>\n",
       "    </tr>\n",
       "    <tr>\n",
       "      <th>student_ID</th>\n",
       "      <th></th>\n",
       "      <th></th>\n",
       "      <th></th>\n",
       "      <th></th>\n",
       "    </tr>\n",
       "  </thead>\n",
       "  <tbody>\n",
       "    <tr>\n",
       "      <th>1</th>\n",
       "      <td>arts</td>\n",
       "      <td>debate</td>\n",
       "      <td>10.96</td>\n",
       "      <td>75.0</td>\n",
       "    </tr>\n",
       "    <tr>\n",
       "      <th>2</th>\n",
       "      <td>science</td>\n",
       "      <td>lecture</td>\n",
       "      <td>8.69</td>\n",
       "      <td>75.0</td>\n",
       "    </tr>\n",
       "    <tr>\n",
       "      <th>3</th>\n",
       "      <td>arts</td>\n",
       "      <td>debate</td>\n",
       "      <td>8.60</td>\n",
       "      <td>67.0</td>\n",
       "    </tr>\n",
       "    <tr>\n",
       "      <th>4</th>\n",
       "      <td>arts</td>\n",
       "      <td>lecture</td>\n",
       "      <td>7.92</td>\n",
       "      <td>70.3</td>\n",
       "    </tr>\n",
       "    <tr>\n",
       "      <th>5</th>\n",
       "      <td>science</td>\n",
       "      <td>debate</td>\n",
       "      <td>9.90</td>\n",
       "      <td>76.1</td>\n",
       "    </tr>\n",
       "    <tr>\n",
       "      <th>6</th>\n",
       "      <td>business</td>\n",
       "      <td>debate</td>\n",
       "      <td>10.80</td>\n",
       "      <td>79.8</td>\n",
       "    </tr>\n",
       "    <tr>\n",
       "      <th>7</th>\n",
       "      <td>science</td>\n",
       "      <td>lecture</td>\n",
       "      <td>7.81</td>\n",
       "      <td>72.7</td>\n",
       "    </tr>\n",
       "    <tr>\n",
       "      <th>8</th>\n",
       "      <td>business</td>\n",
       "      <td>lecture</td>\n",
       "      <td>9.13</td>\n",
       "      <td>75.4</td>\n",
       "    </tr>\n",
       "    <tr>\n",
       "      <th>9</th>\n",
       "      <td>business</td>\n",
       "      <td>lecture</td>\n",
       "      <td>5.21</td>\n",
       "      <td>57.0</td>\n",
       "    </tr>\n",
       "    <tr>\n",
       "      <th>10</th>\n",
       "      <td>science</td>\n",
       "      <td>lecture</td>\n",
       "      <td>7.71</td>\n",
       "      <td>69.0</td>\n",
       "    </tr>\n",
       "    <tr>\n",
       "      <th>11</th>\n",
       "      <td>business</td>\n",
       "      <td>debate</td>\n",
       "      <td>9.82</td>\n",
       "      <td>70.4</td>\n",
       "    </tr>\n",
       "    <tr>\n",
       "      <th>12</th>\n",
       "      <td>arts</td>\n",
       "      <td>debate</td>\n",
       "      <td>11.53</td>\n",
       "      <td>96.2</td>\n",
       "    </tr>\n",
       "    <tr>\n",
       "      <th>13</th>\n",
       "      <td>science</td>\n",
       "      <td>debate</td>\n",
       "      <td>7.10</td>\n",
       "      <td>62.9</td>\n",
       "    </tr>\n",
       "    <tr>\n",
       "      <th>14</th>\n",
       "      <td>science</td>\n",
       "      <td>lecture</td>\n",
       "      <td>6.39</td>\n",
       "      <td>57.6</td>\n",
       "    </tr>\n",
       "    <tr>\n",
       "      <th>15</th>\n",
       "      <td>arts</td>\n",
       "      <td>debate</td>\n",
       "      <td>12.00</td>\n",
       "      <td>84.3</td>\n",
       "    </tr>\n",
       "  </tbody>\n",
       "</table>\n",
       "</div>"
      ],
      "text/plain": [
       "           background curriculum  effort  score\n",
       "student_ID                                     \n",
       "1                arts     debate   10.96   75.0\n",
       "2             science    lecture    8.69   75.0\n",
       "3                arts     debate    8.60   67.0\n",
       "4                arts    lecture    7.92   70.3\n",
       "5             science     debate    9.90   76.1\n",
       "6            business     debate   10.80   79.8\n",
       "7             science    lecture    7.81   72.7\n",
       "8            business    lecture    9.13   75.4\n",
       "9            business    lecture    5.21   57.0\n",
       "10            science    lecture    7.71   69.0\n",
       "11           business     debate    9.82   70.4\n",
       "12               arts     debate   11.53   96.2\n",
       "13            science     debate    7.10   62.9\n",
       "14            science    lecture    6.39   57.6\n",
       "15               arts     debate   12.00   84.3"
      ]
     },
     "execution_count": 138,
     "metadata": {},
     "output_type": "execute_result"
    }
   ],
   "source": [
    "students = pd.read_csv(\"../datasets/students.csv\", index_col=\"student_ID\")\n",
    "students"
   ]
  },
  {
   "cell_type": "code",
   "execution_count": 139,
   "id": "32f70f64-54ae-4d14-912f-0108f6b8a4d8",
   "metadata": {},
   "outputs": [],
   "source": [
    "xD = students[students[\"curriculum\"]==\"debate\"][\"score\"].values\n",
    "xL = students[students[\"curriculum\"]==\"lecture\"][\"score\"].values"
   ]
  },
  {
   "cell_type": "code",
   "execution_count": 140,
   "id": "b9f7d7f6-dfaa-46ea-94e5-88d7941c4b37",
   "metadata": {},
   "outputs": [
    {
     "data": {
      "text/plain": [
       "(76.4625, 68.14285714285714, 8.319642857142867)"
      ]
     },
     "execution_count": 140,
     "metadata": {},
     "output_type": "execute_result"
    }
   ],
   "source": [
    "import numpy as np\n",
    "np.mean(xD), np.mean(xL), np.mean(xD) -np.mean(xL)"
   ]
  },
  {
   "cell_type": "code",
   "execution_count": 141,
   "id": "6ff750e2-9f55-46f7-b394-0b5d0fc2604d",
   "metadata": {},
   "outputs": [
    {
     "data": {
      "text/plain": [
       "Ttest_indResult(statistic=1.7197867420465698, pvalue=0.10917234443214315)"
      ]
     },
     "execution_count": 141,
     "metadata": {},
     "output_type": "execute_result"
    }
   ],
   "source": [
    "from scipy.stats import ttest_ind\n",
    "\n",
    "ttest_ind(xD, xL)"
   ]
  },
  {
   "cell_type": "code",
   "execution_count": null,
   "id": "8ef32dec-e920-4e33-b512-ec7e78313c64",
   "metadata": {},
   "outputs": [],
   "source": []
  },
  {
   "cell_type": "markdown",
   "id": "4b0755ee-49e0-4ca8-ae95-5bfc974a79e3",
   "metadata": {},
   "source": [
    "### Collecting the apples dataset"
   ]
  },
  {
   "cell_type": "code",
   "execution_count": null,
   "id": "e4e32632-f1a9-448d-80ac-f6ae30589841",
   "metadata": {},
   "outputs": [],
   "source": []
  },
  {
   "cell_type": "markdown",
   "id": "f28c21f7-9209-48a7-b813-4f53695e8fa7",
   "metadata": {},
   "source": [
    "### Collecting the kombucha dataset"
   ]
  },
  {
   "cell_type": "code",
   "execution_count": null,
   "id": "afe18fd2-6a85-4152-a56b-9866a3e94685",
   "metadata": {},
   "outputs": [],
   "source": []
  },
  {
   "cell_type": "markdown",
   "id": "4865c86d-9664-4189-87ee-26d099535b9a",
   "metadata": {},
   "source": [
    "### Collecting the doctors dataset"
   ]
  },
  {
   "cell_type": "code",
   "execution_count": null,
   "id": "fb070963-d301-4446-a046-6f7ca92d1774",
   "metadata": {},
   "outputs": [],
   "source": []
  },
  {
   "cell_type": "markdown",
   "id": "1881f475-4de5-4e1c-8150-49c0996240d0",
   "metadata": {},
   "source": [
    "###  Collecting the players dataset"
   ]
  },
  {
   "cell_type": "code",
   "execution_count": null,
   "id": "bf164d31-d45b-4327-b35c-b9c866a8677c",
   "metadata": {},
   "outputs": [],
   "source": []
  },
  {
   "cell_type": "code",
   "execution_count": null,
   "id": "c5d73c81-52cb-492f-bfb5-3dfe395a167f",
   "metadata": {},
   "outputs": [],
   "source": []
  },
  {
   "cell_type": "markdown",
   "id": "23620dbf-bfff-4c5b-8f0b-26eaa1d53328",
   "metadata": {},
   "source": [
    "## Bonus topics\n",
    "\n",
    "### NumPy arrays\n",
    "\n",
    "Under the hood, Pandas `Series` and `DataFrame` objects are based on efficient numerical NumPy arrays.\n",
    "You generally won't need to interact with NumPy commands when working in Pandas,\n",
    "but sometimes useful to use the NumPy syntax to perform efficient selection of data."
   ]
  },
  {
   "cell_type": "code",
   "execution_count": 142,
   "id": "a843540a-c203-4e6e-a139-24c91e4b301a",
   "metadata": {},
   "outputs": [],
   "source": [
    "import numpy as np"
   ]
  },
  {
   "cell_type": "code",
   "execution_count": 143,
   "id": "91f67ba2-0282-4285-b716-6277a01bfa83",
   "metadata": {},
   "outputs": [
    {
     "data": {
      "text/plain": [
       "array([1, 3, 5, 7])"
      ]
     },
     "execution_count": 143,
     "metadata": {},
     "output_type": "execute_result"
    }
   ],
   "source": [
    "values = np.array([1, 3, 5, 7])\n",
    "values"
   ]
  },
  {
   "cell_type": "code",
   "execution_count": 144,
   "id": "2862ae23-0925-4ec8-947d-149182f175bd",
   "metadata": {},
   "outputs": [
    {
     "data": {
      "text/plain": [
       "array([-1,  1,  3,  5])"
      ]
     },
     "execution_count": 144,
     "metadata": {},
     "output_type": "execute_result"
    }
   ],
   "source": [
    "values - 2"
   ]
  },
  {
   "cell_type": "code",
   "execution_count": 145,
   "id": "a8d8003f-d1e4-4cf2-834b-41d8a2858efb",
   "metadata": {},
   "outputs": [
    {
     "data": {
      "text/plain": [
       "array([   2.71828183,   20.08553692,  148.4131591 , 1096.63315843])"
      ]
     },
     "execution_count": 145,
     "metadata": {},
     "output_type": "execute_result"
    }
   ],
   "source": [
    "np.exp(values)"
   ]
  },
  {
   "cell_type": "markdown",
   "id": "4d1e4056-c9ec-4b1c-b063-c957d1687737",
   "metadata": {},
   "source": [
    "#### Selecting a subset of the values"
   ]
  },
  {
   "cell_type": "code",
   "execution_count": 146,
   "id": "618b65da-0c5e-4d7d-8a93-1d9ef61a5cfd",
   "metadata": {},
   "outputs": [
    {
     "data": {
      "text/plain": [
       "array([ True,  True, False, False])"
      ]
     },
     "execution_count": 146,
     "metadata": {},
     "output_type": "execute_result"
    }
   ],
   "source": [
    "values < 4"
   ]
  },
  {
   "cell_type": "code",
   "execution_count": 147,
   "id": "841b17b0-67d9-4523-b43c-c3504a2a59a5",
   "metadata": {},
   "outputs": [
    {
     "data": {
      "text/plain": [
       "array([1, 3])"
      ]
     },
     "execution_count": 147,
     "metadata": {},
     "output_type": "execute_result"
    }
   ],
   "source": [
    "values[values < 4]"
   ]
  },
  {
   "cell_type": "markdown",
   "id": "7b4723b9-a75e-4c01-9321-1e3471e702e8",
   "metadata": {},
   "source": [
    "#### Create a list of evenly spaced numbers\n",
    "\n",
    "(often use when creating graphs)"
   ]
  },
  {
   "cell_type": "code",
   "execution_count": 148,
   "id": "dcdf0d19-2964-4639-a613-03e830236105",
   "metadata": {},
   "outputs": [
    {
     "data": {
      "text/plain": [
       "array([2. , 2.5, 3. , 3.5, 4. ])"
      ]
     },
     "execution_count": 148,
     "metadata": {},
     "output_type": "execute_result"
    }
   ],
   "source": [
    "np.linspace(2, 4, 5)"
   ]
  },
  {
   "cell_type": "code",
   "execution_count": 149,
   "id": "8e9199be-2cc7-4194-8166-1086320053b8",
   "metadata": {},
   "outputs": [],
   "source": [
    "# # ALT. use arange to create the same list\n",
    "# np.arange(2, 4+0.5, 0.5)"
   ]
  },
  {
   "cell_type": "code",
   "execution_count": null,
   "id": "b0f5a675-e062-44d3-b3cd-add4096f8f13",
   "metadata": {},
   "outputs": [],
   "source": []
  },
  {
   "cell_type": "markdown",
   "id": "3656adcc-2b10-454f-b360-7f740c47925d",
   "metadata": {},
   "source": [
    "### Index and sorting"
   ]
  },
  {
   "cell_type": "code",
   "execution_count": null,
   "id": "4ac1eb58-bf6d-47a5-b750-9720e8727570",
   "metadata": {},
   "outputs": [],
   "source": []
  },
  {
   "cell_type": "markdown",
   "id": "a56f9495-b001-487f-a58e-3409a862827a",
   "metadata": {},
   "source": [
    "### Pandas plot methods"
   ]
  },
  {
   "cell_type": "code",
   "execution_count": null,
   "id": "0745cbc0-5d54-4dac-b32d-93a85392f6b6",
   "metadata": {},
   "outputs": [],
   "source": []
  },
  {
   "cell_type": "code",
   "execution_count": null,
   "id": "ccf4face-14e8-4ef9-86a5-80e81d11b81d",
   "metadata": {},
   "outputs": [],
   "source": []
  },
  {
   "cell_type": "markdown",
   "id": "53f62c2c-94bd-40b0-b0b2-ee44b2843241",
   "metadata": {},
   "source": [
    "## Links\n",
    "\n",
    "I've collected the best learning resources for Pandas for you.\n",
    "\n",
    "\n",
    "### Music videos\n",
    "\n",
    "- https://www.youtube.com/watch?v=4NJlUribp3c\n",
    "\n",
    "\n",
    "\n",
    "\n",
    "### Cheatsheets\n",
    "\n",
    "- https://homepage.univie.ac.at/michael.blaschek/media/Cheatsheet_pandas.pdf\n",
    "\n",
    "- Data Wrangling with pandas Cheat Sheet\n",
    "  https://pandas.pydata.org/Pandas_Cheat_Sheet.pdf\n",
    "  \n",
    "- Pandas Basics from the Python For Data Science Cheat Sheet collection   \n",
    "  https://datacamp-community-prod.s3.amazonaws.com/dbed353d-2757-4617-8206-8767ab379ab3  \n",
    "  see also https://www.datacamp.com/blog/pandas-cheat-sheet-for-data-science-in-python\n",
    "\n",
    "- The `pandas` DataFrame Object  \n",
    "  https://www.webpages.uidaho.edu/~stevel/cheatsheets/Pandas%20DataFrame%20Notes_12pages.pdf\n",
    "\n",
    "\n",
    "\n",
    "\n",
    "\n",
    "### Tutorials\n",
    "\n",
    "- Essential basic functionality (very good)  \n",
    "  https://pandas.pydata.org/docs/user_guide/basics.html\n",
    "\n",
    "- 10 minutes to Pandas (official tutorial)  \n",
    "  https://pandas.pydata.org/pandas-docs/stable/user_guide/10min.html\n",
    "\n",
    "- Effective Pandas tutorial by Matt Harrison\n",
    "  (Use appropriate data types to save memory. Lots of examples of method chaining.)  \n",
    "  https://www.youtube.com/watch?v=zgbUk90aQ6A&t=526s\n",
    "\n",
    "\n",
    "- https://devopedia.org/pandas-dataframe-operations\n",
    "\n",
    "- Nice examople dataframe with variety of data types + compact reference of all operations  \n",
    "  https://dataframes.juliadata.org/stable/man/comparisons/#Comparison-with-the-Python-package-pandas  \n",
    "  see also https://github.com/bkamins/Julia-DataFrames-Tutorial/\n",
    "\n",
    "- Pandas: Python Data Analysis Library  \n",
    "  https://johnfoster.pge.utexas.edu/numerical-methods-book/ScientificPython_Pandas.html  \n",
    "  See also [notebook](https://github.com/johnfoster-pge-utexas/numerical-methods-book/blob/master/content/ScientificPython_Pandas.ipynb)\n",
    "  and [src](https://github.com/johnfoster-pge-utexas/numerical-methods-book/tree/master/content).\n",
    "\n",
    "- Pandas sections from *Python Data Science Handbook*\n",
    "  https://www.one-tab.com/page/OaSZriUtRg6wb7mppbamag  \n",
    "  via https://jakevdp.github.io/PythonDataScienceHandbook/\n",
    "\n",
    "- Pandas tutorials -- lots of details  \n",
    "  https://www.one-tab.com/page/Iw-cytCuTe-FiNZ7F1nrww\n",
    "\n",
    "- pandas Foundations notebooks from DataCamp  \n",
    "  https://trenton3983.github.io/files/projects/2019-01-24_pandas_dataframes/2019-01-24_pandas_dataframes.html  \n",
    "  https://trenton3983.github.io/files/projects/2019-02-04_manipulating_dataframes_with_pandas/2019-02-04_manipulating_dataframes_with_pandas.html\n",
    "\n",
    "- Lots of simple tasks\n",
    "  https://nbviewer.org/github/justmarkham/pandas-videos/blob/master/pandas.ipynb\n",
    "\n",
    "\n",
    "\n",
    "\n",
    "\n",
    "### Data cleaning\n",
    "\n",
    "- Tidying Data tutorial by Daniel Chen (Lots of examples of melt operations on real-world datasets)  \n",
    "  https://www.youtube.com/watch?v=iYie42M1ZyU\n",
    "  https://github.com/chendaniely/pydatadc_2018-tidy/blob/master/notebooks/tidy.ipynb\n",
    "\n",
    "- Data Cleaning lab from Applied & Computational Mathematics Emphasis (ACME) course  \n",
    "  https://acme.byu.edu/0000017c-ccff-da17-a5fd-cdff03570000/acmefiles-09-datacleaning-2021-pdf  \n",
    "  See more [materials here](https://acme.byu.edu/2021-2022-materials).\n",
    "\n",
    "- https://github.com/hxchua/datadoubleconfirm/blob/master/EuroPython/DataCleaning.ipynb\n",
    "\n",
    "- Nice visualizations for Pandas operations (click on examples)\n",
    "  https://pandastutor.com/vis.html\n",
    "\n",
    "\n",
    "\n",
    "\n",
    "\n",
    "### Articles\n",
    "\n",
    "- *pandas: a Foundational Python Library for Data Analysis and Statistics* by Wes McKinney  \n",
    "  https://www.dlr.de/sc/Portaldata/15/Resources/dokumente/pyhpc2011/submissions/pyhpc2011_submission_9.pdf\n",
    "\n",
    "- More Pandas articles and links  \n",
    "  https://www.one-tab.com/page/-EZFbibXRq2xZRYM9iUVDg\n",
    "\n",
    "- Good tips about `loc` vs. `[]`  \n",
    "  https://stackoverflow.com/a/48411543/127114\n",
    "\n",
    "\n",
    "\n",
    "\n",
    "\n",
    "### Books\n",
    "\n",
    "- https://store.metasnake.com/effective-pandas-book\n",
    "\n"
   ]
  },
  {
   "cell_type": "code",
   "execution_count": null,
   "id": "6ffd7766-8153-4706-922b-b7c88d878688",
   "metadata": {},
   "outputs": [],
   "source": []
  },
  {
   "cell_type": "code",
   "execution_count": null,
   "id": "fdb280f4-b0dd-407a-9317-e85c4984d57b",
   "metadata": {},
   "outputs": [],
   "source": []
  },
  {
   "cell_type": "code",
   "execution_count": null,
   "id": "4e29239a-2611-4f36-bec9-cd79b174870f",
   "metadata": {},
   "outputs": [],
   "source": []
  },
  {
   "cell_type": "code",
   "execution_count": null,
   "id": "85adb9a8-1e8a-4255-8e33-f535f2a61a61",
   "metadata": {},
   "outputs": [],
   "source": []
  },
  {
   "cell_type": "code",
   "execution_count": null,
   "id": "e7cbfddd-3181-4e4b-94d3-fbcc37c6dc68",
   "metadata": {},
   "outputs": [],
   "source": []
  },
  {
   "cell_type": "code",
   "execution_count": null,
   "id": "79c76271-96e3-44ec-804f-f89384912520",
   "metadata": {},
   "outputs": [],
   "source": []
  },
  {
   "cell_type": "code",
   "execution_count": null,
   "id": "1ea12d47-da49-489c-a477-2c10f777108b",
   "metadata": {},
   "outputs": [],
   "source": []
  },
  {
   "cell_type": "markdown",
   "id": "4be800fa-680e-4fe9-9cba-1e4dcdb0a088",
   "metadata": {},
   "source": [
    "# CUT MATERIAL"
   ]
  },
  {
   "cell_type": "markdown",
   "id": "d921cad9-773c-4d7c-a1b6-56344770a9bf",
   "metadata": {},
   "source": [
    "### Datasets for the book"
   ]
  },
  {
   "cell_type": "code",
   "execution_count": 150,
   "id": "ee815f98-1024-4537-93b1-07827969ceb8",
   "metadata": {},
   "outputs": [],
   "source": [
    "students = pd.read_csv(\"../datasets/students.csv\")"
   ]
  },
  {
   "cell_type": "code",
   "execution_count": 151,
   "id": "f70b5214-2f13-4766-8fc6-1f88d777ed42",
   "metadata": {},
   "outputs": [
    {
     "data": {
      "text/html": [
       "<div>\n",
       "<style scoped>\n",
       "    .dataframe tbody tr th:only-of-type {\n",
       "        vertical-align: middle;\n",
       "    }\n",
       "\n",
       "    .dataframe tbody tr th {\n",
       "        vertical-align: top;\n",
       "    }\n",
       "\n",
       "    .dataframe thead th {\n",
       "        text-align: right;\n",
       "    }\n",
       "</style>\n",
       "<table border=\"1\" class=\"dataframe\">\n",
       "  <thead>\n",
       "    <tr style=\"text-align: right;\">\n",
       "      <th></th>\n",
       "      <th>student_ID</th>\n",
       "      <th>background</th>\n",
       "      <th>curriculum</th>\n",
       "      <th>effort</th>\n",
       "      <th>score</th>\n",
       "    </tr>\n",
       "  </thead>\n",
       "  <tbody>\n",
       "    <tr>\n",
       "      <th>0</th>\n",
       "      <td>1</td>\n",
       "      <td>arts</td>\n",
       "      <td>debate</td>\n",
       "      <td>10.96</td>\n",
       "      <td>75.0</td>\n",
       "    </tr>\n",
       "    <tr>\n",
       "      <th>1</th>\n",
       "      <td>2</td>\n",
       "      <td>science</td>\n",
       "      <td>lecture</td>\n",
       "      <td>8.69</td>\n",
       "      <td>75.0</td>\n",
       "    </tr>\n",
       "    <tr>\n",
       "      <th>2</th>\n",
       "      <td>3</td>\n",
       "      <td>arts</td>\n",
       "      <td>debate</td>\n",
       "      <td>8.60</td>\n",
       "      <td>67.0</td>\n",
       "    </tr>\n",
       "    <tr>\n",
       "      <th>3</th>\n",
       "      <td>4</td>\n",
       "      <td>arts</td>\n",
       "      <td>lecture</td>\n",
       "      <td>7.92</td>\n",
       "      <td>70.3</td>\n",
       "    </tr>\n",
       "    <tr>\n",
       "      <th>4</th>\n",
       "      <td>5</td>\n",
       "      <td>science</td>\n",
       "      <td>debate</td>\n",
       "      <td>9.90</td>\n",
       "      <td>76.1</td>\n",
       "    </tr>\n",
       "  </tbody>\n",
       "</table>\n",
       "</div>"
      ],
      "text/plain": [
       "   student_ID background curriculum  effort  score\n",
       "0           1       arts     debate   10.96   75.0\n",
       "1           2    science    lecture    8.69   75.0\n",
       "2           3       arts     debate    8.60   67.0\n",
       "3           4       arts    lecture    7.92   70.3\n",
       "4           5    science     debate    9.90   76.1"
      ]
     },
     "execution_count": 151,
     "metadata": {},
     "output_type": "execute_result"
    }
   ],
   "source": [
    "students.head()"
   ]
  },
  {
   "cell_type": "code",
   "execution_count": null,
   "id": "c9ff5e84-54ec-4f1d-8489-d809ae54fc38",
   "metadata": {},
   "outputs": [],
   "source": []
  },
  {
   "cell_type": "markdown",
   "id": "dda00bd2-a8c1-427c-a4c8-d0e9f7d9955d",
   "metadata": {},
   "source": [
    "## Data pre-processing tasks\n",
    "\n",
    "- *Extract* the \"raw\" data from various data source formats\n",
    "  (spreadsheet, databases, files, web servers).\n",
    "- *Transform* the data by reshaping and cleaning it.\n",
    "- *Load* the data into the system used for statistical analysis."
   ]
  },
  {
   "cell_type": "markdown",
   "id": "b392267e-36c4-4079-acd3-767196ae94e7",
   "metadata": {},
   "source": [
    "## Extract\n"
   ]
  },
  {
   "cell_type": "markdown",
   "id": "7d67c114-81df-4d60-ae86-28b5f3fd6d5f",
   "metadata": {
    "tags": []
   },
   "source": [
    "### Extract data from different source formats"
   ]
  },
  {
   "cell_type": "markdown",
   "id": "56c01548-4d38-4c8f-b0e6-20dcb515080d",
   "metadata": {},
   "source": [
    "On UNIX systems (Linux and macOS) the command line program `head` can be used to show the first few lines of any file. The command `head` is very useful for exploring files—by printing the first few lines, you can get an idea of the format it is in.\n",
    "\n",
    "Unfortunately, on Windows the command `head` is not available, so instead of relying on command line tools, we'll write a simple Python function that called `head` that does the same thing as the command line tool: it prints the first few lines of a file. By default this function will print the first five lines of the file, but users can override the `count` argument to request a different number of lines to be printed."
   ]
  },
  {
   "cell_type": "code",
   "execution_count": 152,
   "id": "b95ce8d0-3033-49f1-b730-d003b5113122",
   "metadata": {},
   "outputs": [],
   "source": [
    "import os\n",
    "\n",
    "def head(path, count=7):\n",
    "    \"\"\"\n",
    "    Print the first `count` lines of the file at `path`.\n",
    "    \"\"\"\n",
    "    if (\"/\" in path) and (os.path.sep == \"\\\\\"):\n",
    "        # UNIX path  but  we're on Windows...\n",
    "        parts = os.path.split(\"/\")\n",
    "        path = os.path.join(parts)\n",
    "    datafile = open(path, \"r\")\n",
    "    lines = datafile.readlines()\n",
    "    for line in lines[0:count]:\n",
    "        print(line, end=\"\")\n"
   ]
  },
  {
   "cell_type": "markdown",
   "id": "36203ef8-6381-47d0-a0e8-79778353f7a6",
   "metadata": {},
   "source": [
    "The function `head` contains some special handling for Windows users.\n",
    "If the path is specified using the UNIX path separator `/`,\n",
    "it will be auto-corrected to use the Windows path separator `\\`."
   ]
  },
  {
   "cell_type": "markdown",
   "id": "da4f8301-1a1c-4e8f-8cf4-4038b79cda18",
   "metadata": {},
   "source": [
    "## Load\n",
    "\n",
    "Let's save the cleaned data to the file `mydata.csv` in a directory `mydataset`."
   ]
  },
  {
   "cell_type": "code",
   "execution_count": 153,
   "id": "0d8c146f-f1d3-4119-b80d-6a570e223058",
   "metadata": {},
   "outputs": [],
   "source": [
    "cleandf.to_csv(\"mydataset/mydata.csv\", index=False)"
   ]
  },
  {
   "cell_type": "code",
   "execution_count": 154,
   "id": "e113fd52-1904-484f-b676-9d3fd5be2e81",
   "metadata": {},
   "outputs": [
    {
     "name": "stdout",
     "output_type": "stream",
     "text": [
      "x,y,team,level\n",
      "1.0,2.0,a,3\n",
      "1.5,1.0,a,2\n",
      "2.0,1.5,a,1\n",
      "2.5,2.0,b,3\n",
      "3.0,1.5,b,3\n"
     ]
    }
   ],
   "source": [
    "head(\"mydataset/mydata.csv\")"
   ]
  },
  {
   "cell_type": "markdown",
   "id": "07585d7f-a39b-4689-86e2-2769c18317ab",
   "metadata": {},
   "source": [
    "Information about the dataset is provided in a text file `README.txt`."
   ]
  },
  {
   "cell_type": "code",
   "execution_count": 155,
   "id": "f92fc022-e418-4908-ae01-59c03cc59a26",
   "metadata": {},
   "outputs": [
    {
     "name": "stdout",
     "output_type": "stream",
     "text": [
      "Players dataset\n",
      "===============\n",
      "Description: Synthetic data used to show Pandas operations.\n",
      "Filename: mydata.csv\n",
      "Format: A CSV file with 5 rows and 4 columns.\n",
      "- x (numeric): horizontal position of the player.\n",
      "- y (numeric): vertical position of the player.\n",
      "- team (categorical): which team the player is in (a or b).\n",
      "- level (categorical): player strength (1, 2, or 3).\n",
      "Source: Synthetic data created by the author.\n",
      "License: CC0 (public domain)\n"
     ]
    }
   ],
   "source": [
    "head(\"mydataset/README.txt\", count=11)"
   ]
  }
 ],
 "metadata": {
  "kernelspec": {
   "display_name": "Python 3 (ipykernel)",
   "language": "python",
   "name": "python3"
  },
  "language_info": {
   "codemirror_mode": {
    "name": "ipython",
    "version": 3
   },
   "file_extension": ".py",
   "mimetype": "text/x-python",
   "name": "python",
   "nbconvert_exporter": "python",
   "pygments_lexer": "ipython3",
   "version": "3.9.4"
  }
 },
 "nbformat": 4,
 "nbformat_minor": 5
}
