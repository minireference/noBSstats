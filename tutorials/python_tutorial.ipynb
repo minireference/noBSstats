{
 "cells": [
  {
   "cell_type": "markdown",
   "id": "bbeb5139-9063-431f-a542-9cc550fdf80e",
   "metadata": {},
   "source": [
    "# Appendix C — Python tutorial"
   ]
  },
  {
   "cell_type": "markdown",
   "id": "274ce8cd-0a05-46ba-9464-a2faf3bb47e5",
   "metadata": {},
   "source": [
    "# Introduction"
   ]
  },
  {
   "cell_type": "markdown",
   "id": "fb464c8f-ec24-44fd-8a79-0b5825d6948c",
   "metadata": {},
   "source": [
    "In this tutorial you'll learn the basics of Python.\n",
    "Don't freak out, this is not a big deal.\n",
    "You're not becoming a programmer or anything,\n",
    "you'll just be learning how to use Python as a fancy calculator.\n"
   ]
  },
  {
   "cell_type": "markdown",
   "id": "ce623593-e1fe-43df-96e1-e3cd697d5539",
   "metadata": {},
   "source": [
    "**Calculator analogy** \n",
    "Python commands are similar to the commands you give to a calculator,\n",
    "but Python commands are more powerful since they allow you to define variables,functions, etc.\n",
    "The same way a calculator has different buttons for the various arithmetic operations,\n",
    "the Python language has a number of commands you can \"run\" or \"execute.\"\n",
    "Whereas calculators allow only simple arithmetic calculations of one expression (evaluated when you press = button),\n",
    "the Python prompt accepts entire \"paragraphs\" of commands allowing you to write complicated multi-step procedures.\n",
    "This is what people call \"coding\" or \"programming.\"\n",
    "\n",
    "Just like knowing how to use a calculator is helpful for doing lots of arithmetic operations,\n",
    "learning Python is helpful when you need to deal with repetitive operations and procedures.\n"
   ]
  },
  {
   "cell_type": "markdown",
   "id": "8615be8f-f3f2-4c2e-bda6-40460e43ba9b",
   "metadata": {},
   "source": [
    "## Why learn Python?\n",
    "\n",
    "First off, Python is a really good calculator.\n",
    "- expressions\n",
    "- for loops for repeated calculations\n",
    "- custom functions\n",
    "\n",
    "Also a scientific calculator\n",
    "- mathematical operations as functions\n",
    "- linear algebra with numpy\n",
    "- SymPy for symbolic math calculations. Very powerful stuff. See examples of solutions to math problems expressed as sympy commands in this [paper](https://arxiv.org/pdf/2112.15594.pdf#page=11) (see [this video](https://www.youtube.com/watch?v=9JZdAq8poww?t=169) for explainer).\n",
    "\n",
    "Not only that, but Python can be used as a graphical calculator\n",
    "- plot functions\n",
    "- data distributions\n",
    "\n",
    "You can also use Python for spreadsheet-like functionality,\n",
    "manipulate tabular data, compute totals, etc.\n"
   ]
  },
  {
   "cell_type": "markdown",
   "id": "41caa150-20ff-46ab-9835-d22188dbfdc8",
   "metadata": {},
   "source": [
    "### Python for statistics\n",
    "\n",
    "Once you learn the basics of Python syntax,\n",
    "you'll have access to the best-in-class Python libraries for\n",
    "data management (Pandas, see [pandas_tutorial.ipynb](./pandas_tutorial.ipynb))\n",
    "and data visualization (Seaborn, see [seaborn_tutorial.ipynb](./seaborn_tutorial.ipynb)),\n",
    "and (e.g. `statsmodels`) and machine learning (`scikit-learn`, `pytorch`, `huggingface`, etc.).\n",
    "\n",
    "In this tutorial,\n",
    "we'll focus on using Python for data calculations and procedures needed for statistics.\n",
    "Learning a few basic Python constructs like the `for` loop\n",
    "will enable you to simulate frequentist probability calculations\n",
    "and experimentally verify how statistics procedures work.\n",
    "This is a really big deal!\n",
    "If's good to know the statistical formula and recipes,\n",
    "but it's even better when you can run your own simulations and check when the formulas work and when they fail.\n",
    "\n",
    "Don't worry there won't be any advanced math—just sums, products, exponents, logs, and square roots.\n",
    "Nothing fancy, I promise.\n",
    "If you've ever created a formula in a spreadsheet,\n",
    "then you're familiar with all the operations we'll see.\n",
    "In a spreadsheet formula you'd use `SUM(` in Python we write `sum(`.\n",
    "You see, it's nothing fancy.\n",
    "\n",
    "Yes, there will be a lot of code (paragraphs of Python commands) in this tutorial,\n",
    "but you can totally handle this.\n",
    "\n",
    "If you ever start to freak out an think \"OMG this is too complicated!\" remember that Python is just a fancy calculator."
   ]
  },
  {
   "cell_type": "markdown",
   "id": "8663fe03-0f8d-4f61-8f54-3a5d60aac33e",
   "metadata": {},
   "source": [
    "## Overview\n",
    "\n",
    "TODO: redo as sentences\n",
    "\n",
    "1. Introduction\n",
    "1. Getting started\n",
    "1. Variables and expressions\n",
    "1. Getting to know Python\n",
    "1. Lists and for loops\n",
    "1. Functions\n",
    "1. Dictionaries and other data structures\n",
    "1. Objects and classes\n",
    "1. Python syntax review\n",
    "1. Bonus topics\n",
    "1. Python libraries and modules\n",
    "1. Links\n",
    "\n",
    "After this tutorial, you'll be ready to read the other two:\n",
    "- Pandas (see [pandas_tutorial.ipynb](./pandas_tutorial.ipynb))\n",
    "- Seaborn (see [seaborn_tutorial.ipynb](./seaborn_tutorial.ipynb))  "
   ]
  },
  {
   "cell_type": "markdown",
   "id": "fb80bd30-c442-4477-aa9b-dc20279a4e36",
   "metadata": {
    "tags": []
   },
   "source": [
    "# Getting started\n",
    "\n",
    "\n",
    "## Installing JupyterLab Desktop\n",
    "\n",
    "- TODO: Import screenshots from Sec 1.2\n",
    "- JupyterLab UI: file browser, notebooks, code cells, Markdown cells\n",
    "- Alternative: run JupyterLab instance in the cloud via mybinder\n"
   ]
  },
  {
   "cell_type": "markdown",
   "id": "bef4b786-c7ab-4a5c-822a-0dea036071c1",
   "metadata": {},
   "source": [
    "### Code cells contain Python commands\n",
    "\n",
    "The Python command prompt (each of the code cells in this notebook)\n",
    "allows you to enter Python commands and \"run\" them by pressing SHIFT + ENTER,\n",
    "or by clicking the play button in the toolbar.\n",
    "\n",
    "For example,\n",
    "you can make Python compute the sum of two numbers by entering `2+3` in a code cell,\n",
    "then pressing SHIFT + ENTER."
   ]
  },
  {
   "cell_type": "code",
   "execution_count": 1,
   "id": "aee41fcb-590e-46c1-9a78-a42123e8039f",
   "metadata": {},
   "outputs": [
    {
     "name": "stdout",
     "output_type": "stream",
     "text": [
      "5\n"
     ]
    }
   ],
   "source": [
    "x = 2 + 3\n",
    "print(x)"
   ]
  },
  {
   "cell_type": "markdown",
   "id": "c04a2057-1046-4078-a193-3e0d31c28493",
   "metadata": {},
   "source": [
    "In the first line of the above code cell, we set the variable `x` to the value `2 + 3` (the sum of two integers). On the second we call the `print` function to display the value the variable `x` to the screen."
   ]
  },
  {
   "cell_type": "markdown",
   "id": "a1075ef9-4a45-4c9e-b7b2-a9144531d94f",
   "metadata": {},
   "source": [
    "Note the print statement on the last line can be skipped,\n",
    "since notebook cells print the result of the last expression by default."
   ]
  },
  {
   "cell_type": "code",
   "execution_count": 2,
   "id": "0a037c8f-e1ab-476e-924d-861a08061b5b",
   "metadata": {},
   "outputs": [
    {
     "data": {
      "text/plain": [
       "5"
      ]
     },
     "execution_count": 2,
     "metadata": {},
     "output_type": "execute_result"
    }
   ],
   "source": [
    "x = 2 + 3\n",
    "x"
   ]
  },
  {
   "cell_type": "markdown",
   "id": "4a483666-7524-47bc-8c37-5ade0bf6baa3",
   "metadata": {},
   "source": [
    "When you run a code cell,\n",
    "you're telling the computer to \"execute\" the Python instructions in that cell,\n",
    "which means to do the actions described in the code,\n",
    "and print the result of the final value computed in that cell.\n",
    "\n",
    "Running a code cell is similar to using the EQUALS button on the calculator: whatever math expression you entered, the calculator will compute its value and display it as the output. The process is identical when you execute some Python code, but you're allowed to input multiple lines of commands at once. The computer will execute the lines of code one by one in the order it sees them.\n",
    "\n",
    "The result of final calculations in the cell gets automatically printed in the output cell right below the input cell. This feature allows you to skip the print statements, since the last output gets printed automatically for you. This makes it easy and fun to explore and \"poke around\" each example given in this notebook."
   ]
  },
  {
   "cell_type": "markdown",
   "id": "ff14e218-8887-4ee3-99d3-ad5203ca75dc",
   "metadata": {},
   "source": [
    " "
   ]
  },
  {
   "cell_type": "markdown",
   "id": "79f306e8-dd3a-4db5-94a8-1a4aa0ba4102",
   "metadata": {},
   "source": [
    "<a id=\"vars_and_expr\"></a>\n",
    "# Variables and expressions\n",
    "\n",
    "\n"
   ]
  },
  {
   "cell_type": "markdown",
   "id": "04159e5c-6062-420b-9186-a6dd81127208",
   "metadata": {
    "tags": []
   },
   "source": [
    "## Variables\n",
    "\n",
    "Similar to variables in math, a variable in Python is a convenient name we use to refer to any value: a constant, the input to a function `x`, the output of a function `y`, or any other intermediate value."
   ]
  },
  {
   "cell_type": "markdown",
   "id": "da99271c-dea8-453e-99c0-87219dad6684",
   "metadata": {},
   "source": [
    "To assign a value to a variable, you use the symbol `=` as follows, from left to right:\n",
    "\n",
    "* we start by writing the name of the variable\n",
    "* then, we add the symbol `=`\n",
    "* finally, we write the value of the variable"
   ]
  },
  {
   "cell_type": "code",
   "execution_count": 3,
   "id": "05261769",
   "metadata": {},
   "outputs": [
    {
     "name": "stdout",
     "output_type": "stream",
     "text": [
      "3\n"
     ]
    }
   ],
   "source": [
    "x = 3\n",
    "print(x)"
   ]
  },
  {
   "cell_type": "markdown",
   "id": "3ca1a5e0-34a9-4a92-bd14-99956747ef32",
   "metadata": {},
   "source": [
    "In the first line of the above code cell, we set the variable `x` to the value `3`. On the second we call the `print` function to display the value of x to the screen."
   ]
  },
  {
   "cell_type": "code",
   "execution_count": 4,
   "id": "2c31a7d6-c751-4151-8e07-69833bbdbe95",
   "metadata": {},
   "outputs": [
    {
     "data": {
      "text/plain": [
       "3"
      ]
     },
     "execution_count": 4,
     "metadata": {},
     "output_type": "execute_result"
    }
   ],
   "source": [
    "x = 3\n",
    "x"
   ]
  },
  {
   "cell_type": "markdown",
   "id": "db43e996-4b66-48dd-82fe-bcf37e3539ee",
   "metadata": {},
   "source": [
    "### Variables types\n",
    "\n",
    "There are multiple types of variables in Python:\n",
    "\n",
    "- **int** - integers ex: `34`,`65`, `78`, `-4`, etc. (rougly equivalent to $\\mathbb{Z}$)\n",
    "- **float** - ex: `4.6`,`78.5`, `1e-3` (full name is \"floating point number\"; similar to $\\mathbb{R}$ but only with finite precision)\n",
    "- **bool** a Boolean truth value with only two choices: `True` or `False`.\n",
    "- **string** - text ex: `'Hello'`, `'Hello everyone'`\n",
    "- **list** a sequence of values ​​- ex: `[69, 81, 92, 77]`. The beginning and the end of the list are denoted by the brackets `[` and `]`, and its elements are separated by commas.\n",
    "- **dictionary** a collection of key-value pairs. Each key is associated with a value - ex: `{'first_name': 'Julie', 'last_name': 'Tremblay', 'score': 98}`. Dictionaries are denoted by curly braces `{` and `}` inside which we place `'key': value`, pairs separated by commas.\n",
    "- **tuples**, **sets**, **functions**, **objects**, etc. These are other useful Python building blocks which we'll talk about in later sections."
   ]
  },
  {
   "cell_type": "markdown",
   "id": "c332034a-15a8-4165-a937-d7fe1ae0ae1a",
   "metadata": {},
   "source": [
    "Let's look at some examples with variables of different types:\n",
    "an `int`eger, a `float`ing point number, a `bool`ean value, a `str`ing,\n",
    "a list, and a `dict`ionary."
   ]
  },
  {
   "cell_type": "code",
   "execution_count": 5,
   "id": "cf6eba8f",
   "metadata": {},
   "outputs": [],
   "source": [
    "score = 98\n",
    "average = 77.5\n",
    "above_the_average = True\n",
    "message = \"Hello everyone\"\n",
    "scores = [61, 85, 92, 72]\n",
    "profile = {\"first_name\":\"Julie\", \"last_name\":\"Tremblay\", \"score\":98}"
   ]
  },
  {
   "cell_type": "code",
   "execution_count": 6,
   "id": "7c65e997-23f1-42ab-a268-2d1002c97d73",
   "metadata": {},
   "outputs": [],
   "source": [
    "level = 3\n",
    "health = 42.1\n",
    "alive = True\n",
    "name = \"Julie\"\n",
    "names = [\"Al\", \"Bo33\", \"Carine\", \"Julie\", \"Uma\", \"Zeno\"]\n",
    "player = {\"name\":\"Julie\", \"level\":3, \"team\":\"a\"}\n"
   ]
  },
  {
   "cell_type": "code",
   "execution_count": 7,
   "id": "4e2db4c0-435d-43b5-be52-d7d12e8cf5fa",
   "metadata": {},
   "outputs": [
    {
     "data": {
      "text/plain": [
       "14"
      ]
     },
     "execution_count": 7,
     "metadata": {},
     "output_type": "execute_result"
    }
   ],
   "source": [
    "len(message)"
   ]
  },
  {
   "cell_type": "code",
   "execution_count": 8,
   "id": "dce0db46",
   "metadata": {},
   "outputs": [
    {
     "data": {
      "text/plain": [
       "['Hello', 'everyone']"
      ]
     },
     "execution_count": 8,
     "metadata": {},
     "output_type": "execute_result"
    }
   ],
   "source": [
    "message.split()"
   ]
  },
  {
   "cell_type": "markdown",
   "id": "9eaac03f-c1a8-4343-a266-77c5b27d5ee0",
   "metadata": {
    "jp-MarkdownHeadingCollapsed": true,
    "tags": []
   },
   "source": [
    "You can explore the different methods available on any python object `int`, `float`, `str`, etc.  by starting to type the dot `.` after the name, e.g., `message.` then pressing the TAB button to get an \"autocomplete\" dropdown of all the methods available on the variable `message`. Most of these methods are common to all strings in Python."
   ]
  },
  {
   "cell_type": "markdown",
   "id": "6a634670-2ddd-4bc5-acfb-80017c02b9ce",
   "metadata": {
    "tags": []
   },
   "source": [
    "## Expressions\n",
    "\n",
    "Similar to expresisons in algebra, a Python expression is can be any combination of variables and operations:"
   ]
  },
  {
   "cell_type": "code",
   "execution_count": 9,
   "id": "4b0b2a40",
   "metadata": {},
   "outputs": [
    {
     "name": "stdout",
     "output_type": "stream",
     "text": [
      "The number of seconds in a week is 604800\n",
      "Hello Julie\n",
      "The average score is 77.5\n",
      "Hi Julie\n"
     ]
    }
   ],
   "source": [
    "# Expression involving numerical values\n",
    "secs_in_1min = 60 \n",
    "secs_in_1day = secs_in_1min * 60 * 24\n",
    "secs_in_1week = secs_in_1day * 7\n",
    "print(\"The number of seconds in a week is\", secs_in_1week)\n",
    "\n",
    "\n",
    "# Expression involving strings\n",
    "name = \"Julie\"\n",
    "message = \"Hello \" + name    # for strings, + means concatenate\n",
    "print(message)\n",
    "\n",
    "\n",
    "# Expression involving a list\n",
    "scores = [61, 85, 92, 72]\n",
    "average = sum(scores)/len(scores)\n",
    "#        `sum` computes the sum of values in the list\n",
    "#                and `len` gives you the length of the list\n",
    "print(\"The average score is\", average)\n",
    "\n",
    "\n",
    "# String expression using a values from a dictionary\n",
    "profile = {\"first_name\":\"Julie\", \"last_name\":\"Tremblay\", \"score\":98}\n",
    "message2 = \"Hi \" + profile[\"first_name\"]\n",
    "print(message2)"
   ]
  },
  {
   "cell_type": "markdown",
   "id": "c1ec63bc",
   "metadata": {},
   "source": [
    "Note in all the above examples, the code had the form:\n",
    "\n",
    "```Python\n",
    "var_name = <some expression>\n",
    "```\n",
    "which is the important new pattern you have to get used to in programming. Even though this looks like a math equation, the meaning you have to associate with it is much simpler—we are setting variable `var_name` to the value of the expression `<some expression>`.\n",
    "\n",
    "Don't worry about the lists and dictionary examples—I know they are complicated and we haven't explained all the syntax. We'll get to that in just a little bit. First let's practice computing some Python expresions."
   ]
  },
  {
   "cell_type": "code",
   "execution_count": 10,
   "id": "a5e056ed",
   "metadata": {},
   "outputs": [
    {
     "name": "stdout",
     "output_type": "stream",
     "text": [
      "3.4\n",
      "-2\n",
      "1.5\n"
     ]
    }
   ],
   "source": [
    "# Numeric expressions\n",
    "\n",
    "expr1 = 1 + 2.4\n",
    "print(expr1)  # 3.4\n",
    "\n",
    "expr2 = 4 - 6\n",
    "print(expr2)  # -2\n",
    "\n",
    "expr3 = 0.5 * 3\n",
    "print(expr3)  # 1.5"
   ]
  },
  {
   "cell_type": "markdown",
   "id": "7558be6a-c118-4d3f-ad95-87b003859961",
   "metadata": {},
   "source": [
    "Here is an expression that Python cannot compute,\n",
    "so it raises an exception."
   ]
  },
  {
   "cell_type": "code",
   "execution_count": 11,
   "id": "d10b2096",
   "metadata": {
    "tags": [
     "raises-exception"
    ]
   },
   "outputs": [
    {
     "ename": "ZeroDivisionError",
     "evalue": "division by zero",
     "output_type": "error",
     "traceback": [
      "\u001b[0;31m---------------------------------------------------------------------------\u001b[0m",
      "\u001b[0;31mZeroDivisionError\u001b[0m                         Traceback (most recent call last)",
      "Input \u001b[0;32mIn [11]\u001b[0m, in \u001b[0;36m<module>\u001b[0;34m\u001b[0m\n\u001b[0;32m----> 1\u001b[0m expr4 \u001b[38;5;241m=\u001b[39m \u001b[38;5;241;43m5\u001b[39;49m\u001b[38;5;241;43m/\u001b[39;49m\u001b[38;5;241;43m0\u001b[39;49m\n",
      "\u001b[0;31mZeroDivisionError\u001b[0m: division by zero"
     ]
    }
   ],
   "source": [
    "expr4 = 5/0"
   ]
  },
  {
   "cell_type": "markdown",
   "id": "648438a0-8086-46a5-975a-62ee1d2abd04",
   "metadata": {},
   "source": [
    "You'll see these threatening looking messages on a red background any time Python encounters an error when trying to run the commands you specified.\n",
    "This is nothing to be alarmed by.\n",
    "It usually means you made a typo (symbol not defined error),\n",
    "forgot a syntax element (e.g. `(`, `,`, `[`, `:`, etc.),\n",
    "or tried to compute something impossible like the `ZeroDivisionError` in the above example.\n",
    "\n",
    "The way to read these red messages is to focus on the name of the exception and the message that gets printed on the last line. This should tell you what you need to fix. The solution will be obvious for typos and syntax errors, but for more complicated situations requires googling and searching on stack overflow.\n"
   ]
  },
  {
   "cell_type": "markdown",
   "id": "3037b7cf",
   "metadata": {},
   "source": [
    "### Integration exercise\n",
    "\n",
    "Expression for converting a temperature in Celsius to temperature in Fahrenheit.\n"
   ]
  },
  {
   "cell_type": "code",
   "execution_count": 12,
   "id": "3ff6d575-93f4-41b4-b433-2c71938f7cfc",
   "metadata": {},
   "outputs": [
    {
     "data": {
      "text/plain": [
       "212.0"
      ]
     },
     "execution_count": 12,
     "metadata": {},
     "output_type": "execute_result"
    }
   ],
   "source": [
    "temp_C = 100\n",
    "temp_F = (temp_C * 9/5) + 32\n",
    "\n",
    "temp_F\n"
   ]
  },
  {
   "cell_type": "markdown",
   "id": "c3046415-7507-476b-8188-a6fdbb5cc33b",
   "metadata": {},
   "source": [
    "Test: if temp_C = 100 then value of expression should be temp_F = 212."
   ]
  },
  {
   "cell_type": "markdown",
   "id": "48abb8c8-6e9d-4df7-baf2-0e267798099d",
   "metadata": {},
   "source": [
    "### String expressions"
   ]
  },
  {
   "cell_type": "code",
   "execution_count": 13,
   "id": "1f198f72",
   "metadata": {},
   "outputs": [
    {
     "name": "stdout",
     "output_type": "stream",
     "text": [
      "Hello world\n",
      "Ai Ai Ai Caramba!\n"
     ]
    }
   ],
   "source": [
    "message3 = \"Hello\" + \" \" + \"world\"  # + means concatenate\n",
    "print(message3)\n",
    "\n",
    "message4 = \"Ai \" * 3                # * means repeat\n",
    "print(message4 + 'Caramba!') "
   ]
  },
  {
   "cell_type": "code",
   "execution_count": null,
   "id": "8ffc6245",
   "metadata": {},
   "outputs": [],
   "source": []
  },
  {
   "cell_type": "markdown",
   "id": "e2273da6",
   "metadata": {},
   "source": [
    "### Boolean expressions\n",
    "\n",
    "You can use `bool` variables and the logical operations `and`, `or`, `not`, etc. to build more complicated boolean expressions (disjunctions, conjunctions, negations, etc.)."
   ]
  },
  {
   "cell_type": "code",
   "execution_count": 14,
   "id": "b517fd0f",
   "metadata": {},
   "outputs": [
    {
     "name": "stdout",
     "output_type": "stream",
     "text": [
      "not True == False\n",
      "not False == True\n",
      "True and True == True\n",
      "True and False == False\n",
      "True or False == True\n",
      "False or False == False\n"
     ]
    }
   ],
   "source": [
    "print('not True ==', not True)\n",
    "print('not False ==', not False)\n",
    "print('True and True ==', True and True)\n",
    "print('True and False ==', True and False)\n",
    "print('True or False ==', True or False)\n",
    "print('False or False ==', False or False)"
   ]
  },
  {
   "cell_type": "code",
   "execution_count": null,
   "id": "b191c826-7a43-4147-b94c-86924d56b15b",
   "metadata": {},
   "outputs": [],
   "source": []
  },
  {
   "cell_type": "markdown",
   "id": "c50b1f33",
   "metadata": {},
   "source": [
    "## Types and type conversions\n",
    "\n",
    "The function `type` tells you the type of any variable, meaning what kind of number or object it is.\n",
    "Look back to the list above—the Python types are shown in **bold**."
   ]
  },
  {
   "cell_type": "code",
   "execution_count": 15,
   "id": "6fe84d2f",
   "metadata": {},
   "outputs": [
    {
     "data": {
      "text/plain": [
       "int"
      ]
     },
     "execution_count": 15,
     "metadata": {},
     "output_type": "execute_result"
    }
   ],
   "source": [
    "# an integer\n",
    "score = 98\n",
    "type(score)"
   ]
  },
  {
   "cell_type": "code",
   "execution_count": 16,
   "id": "4f9dcd41",
   "metadata": {},
   "outputs": [
    {
     "data": {
      "text/plain": [
       "float"
      ]
     },
     "execution_count": 16,
     "metadata": {},
     "output_type": "execute_result"
    }
   ],
   "source": [
    "# floating point number\n",
    "average = 77.5\n",
    "type(average)"
   ]
  },
  {
   "cell_type": "code",
   "execution_count": 17,
   "id": "5e0d3c71-045c-4416-9718-e9ae01a05d24",
   "metadata": {},
   "outputs": [
    {
     "data": {
      "text/plain": [
       "str"
      ]
     },
     "execution_count": 17,
     "metadata": {},
     "output_type": "execute_result"
    }
   ],
   "source": [
    "# a string\n",
    "name = \"Julie\"\n",
    "type(name)"
   ]
  },
  {
   "cell_type": "code",
   "execution_count": 18,
   "id": "d55fa3ab",
   "metadata": {},
   "outputs": [
    {
     "data": {
      "text/plain": [
       "bool"
      ]
     },
     "execution_count": 18,
     "metadata": {},
     "output_type": "execute_result"
    }
   ],
   "source": [
    "# a boolean value\n",
    "above_the_average = True\n",
    "type(above_the_average)"
   ]
  },
  {
   "cell_type": "markdown",
   "id": "01d75c5b",
   "metadata": {},
   "source": [
    "You can convert between each of these types using the function which has the same name as the type of an object\n",
    "\n",
    "- `int` : transform any expression into an int\n",
    "- `float`: transform any expression into a flaot\n",
    "- `str`: transform an expression to it's string representaiton (i.e. this is what the function `print` does).\n",
    "- `bool`: transform any expression into a `True` or `False`"
   ]
  },
  {
   "cell_type": "code",
   "execution_count": 19,
   "id": "eab60269-c8e0-46e6-bbb6-201f5fbd5568",
   "metadata": {},
   "outputs": [
    {
     "name": "stdout",
     "output_type": "stream",
     "text": [
      "The variable 42 has type <class 'int'>\n"
     ]
    }
   ],
   "source": [
    "n = int(\"42\")\n",
    "print(\"The variable\", n, \"has type\", type(n))"
   ]
  },
  {
   "cell_type": "code",
   "execution_count": 20,
   "id": "ee9445fe-10d9-44f3-a2a8-af41a4bd9a17",
   "metadata": {},
   "outputs": [
    {
     "name": "stdout",
     "output_type": "stream",
     "text": [
      "The variable 42.4 has type <class 'float'>\n"
     ]
    }
   ],
   "source": [
    "f = float(\"42.4\")\n",
    "print(\"The variable\", f, \"has type\", type(f))"
   ]
  },
  {
   "cell_type": "code",
   "execution_count": 21,
   "id": "7382553c-709b-4590-afea-24e51881eb64",
   "metadata": {},
   "outputs": [
    {
     "name": "stdout",
     "output_type": "stream",
     "text": [
      "The variable 100.123 has type <class 'str'>\n"
     ]
    }
   ],
   "source": [
    "s = str(100.123)\n",
    "print(\"The variable\", s, \"has type\", type(s))"
   ]
  },
  {
   "cell_type": "code",
   "execution_count": 22,
   "id": "dab3019b-ed97-49fe-a917-96d3381a5a33",
   "metadata": {},
   "outputs": [
    {
     "name": "stdout",
     "output_type": "stream",
     "text": [
      "The variable True has type <class 'bool'>\n"
     ]
    }
   ],
   "source": [
    "b = bool(1)\n",
    "print(\"The variable\", b, \"has type\", type(b))"
   ]
  },
  {
   "cell_type": "markdown",
   "id": "eddaa0d5-4dd6-44b9-a567-25a9094deded",
   "metadata": {},
   "source": [
    "### Example: converting to `float` to compute sum\n",
    "\n",
    "Suppose we're given two numbers $m$ and $n$ and we want to compute their sum $m+n$.\n",
    "The two numbers are given to use given expressed as strings."
   ]
  },
  {
   "cell_type": "code",
   "execution_count": 23,
   "id": "66eab1bc-a797-4d00-8aa2-d615eb492bec",
   "metadata": {},
   "outputs": [
    {
     "name": "stdout",
     "output_type": "stream",
     "text": [
      "The variable mstr has value 2.1 and type <class 'str'>\n",
      "The variable nstr has value 3.4 and type <class 'str'>\n"
     ]
    }
   ],
   "source": [
    "mstr = \"2.1\"\n",
    "nstr = \"3.4\"\n",
    "print(\"The variable mstr has value\", mstr, \"and type\", type(mstr))\n",
    "print(\"The variable nstr has value\", nstr, \"and type\", type(nstr))"
   ]
  },
  {
   "cell_type": "markdown",
   "id": "8c7c9d29-919e-4159-a892-fb4e3e51ea8d",
   "metadata": {},
   "source": [
    "Let's try adding the two numbers together to see what happens..."
   ]
  },
  {
   "cell_type": "code",
   "execution_count": 24,
   "id": "b32fbd79-ef98-4af5-bb32-d441baea5407",
   "metadata": {},
   "outputs": [
    {
     "data": {
      "text/plain": [
       "'2.13.4'"
      ]
     },
     "execution_count": 24,
     "metadata": {},
     "output_type": "execute_result"
    }
   ],
   "source": [
    "mstr + nstr"
   ]
  },
  {
   "cell_type": "markdown",
   "id": "3264a1d6-da64-4234-9cd8-4fe6766ff195",
   "metadata": {},
   "source": [
    "This is because the addition operator `+` for strings means concatenate...\n",
    "\n",
    "Python doesn't know automatically that the two text strings are mean to be numbers.\n",
    "We have to manually convert the strings to a Python numerical type (`float`) first,\n",
    "then we can do the addition."
   ]
  },
  {
   "cell_type": "code",
   "execution_count": 25,
   "id": "2e222e82-84b1-4640-8522-3693f3965a7a",
   "metadata": {},
   "outputs": [
    {
     "name": "stdout",
     "output_type": "stream",
     "text": [
      "The variable mfloat has value 2.1 and type <class 'float'>\n",
      "The variable nfloat has value 3.4 and type <class 'float'>\n"
     ]
    }
   ],
   "source": [
    "mfloat = float(mstr)\n",
    "nfloat = float(nstr)\n",
    "\n",
    "print(\"The variable mfloat has value\", mfloat, \"and type\", type(mfloat))\n",
    "print(\"The variable nfloat has value\", nfloat, \"and type\", type(nfloat))"
   ]
  },
  {
   "cell_type": "code",
   "execution_count": 26,
   "id": "78fbf652-2c8f-4fe7-8fff-02bde2f23036",
   "metadata": {},
   "outputs": [
    {
     "data": {
      "text/plain": [
       "5.5"
      ]
     },
     "execution_count": 26,
     "metadata": {},
     "output_type": "execute_result"
    }
   ],
   "source": [
    "# We can compute the sum:\n",
    "mfloat + nfloat"
   ]
  },
  {
   "cell_type": "code",
   "execution_count": 27,
   "id": "839ff5ba-64e7-4d74-97e3-57f6cf180e1a",
   "metadata": {},
   "outputs": [
    {
     "name": "stdout",
     "output_type": "stream",
     "text": [
      "If you divide an integrer by an integer in Python using the / operator...\n",
      "...you get a float number 1.2 has type <class 'float'>\n"
     ]
    }
   ],
   "source": [
    "# int/int --> float autoconversion\n",
    "print('If you divide an integrer by an integer in Python using the / operator...')\n",
    "print('...you get a float number', 6/5, 'has type', type(6/5))"
   ]
  },
  {
   "cell_type": "markdown",
   "id": "0e58d258",
   "metadata": {},
   "source": []
  },
  {
   "cell_type": "code",
   "execution_count": null,
   "id": "4e3bb6df",
   "metadata": {},
   "outputs": [],
   "source": []
  },
  {
   "cell_type": "markdown",
   "id": "9390f1a1",
   "metadata": {},
   "source": []
  },
  {
   "cell_type": "code",
   "execution_count": null,
   "id": "dfd2d628",
   "metadata": {},
   "outputs": [],
   "source": []
  },
  {
   "cell_type": "markdown",
   "id": "fe367c23",
   "metadata": {},
   "source": [
    "### Anything-to-str conversions\n"
   ]
  },
  {
   "cell_type": "code",
   "execution_count": 28,
   "id": "19b666d9-1513-42c4-87b4-f30a08af3e90",
   "metadata": {},
   "outputs": [
    {
     "data": {
      "text/plain": [
       "'42'"
      ]
     },
     "execution_count": 28,
     "metadata": {},
     "output_type": "execute_result"
    }
   ],
   "source": [
    "str(42)"
   ]
  },
  {
   "cell_type": "code",
   "execution_count": 29,
   "id": "a579aa8f-65cb-40cd-8caa-3a7548beefc2",
   "metadata": {},
   "outputs": [
    {
     "data": {
      "text/plain": [
       "'43.3'"
      ]
     },
     "execution_count": 29,
     "metadata": {},
     "output_type": "execute_result"
    }
   ],
   "source": [
    "str(43.3)"
   ]
  },
  {
   "cell_type": "code",
   "execution_count": 30,
   "id": "168d2c4d-fc83-444e-9bdf-4722922f0316",
   "metadata": {},
   "outputs": [
    {
     "data": {
      "text/plain": [
       "'True'"
      ]
     },
     "execution_count": 30,
     "metadata": {},
     "output_type": "execute_result"
    }
   ],
   "source": [
    "str(True)"
   ]
  },
  {
   "cell_type": "markdown",
   "id": "05b9a466",
   "metadata": {},
   "source": [
    "## Your turn to try this...\n",
    "\n",
    "Try typing in some Python code in this cell. If you've been simply reading until now, this is your chance to switch to \"active\" mode: use the rocket-button in the top right of the menu at the top, and choose the `Live Code` option to make all the cells in this notebook interactive, then try entering some Python commands in this code cell below:"
   ]
  },
  {
   "cell_type": "code",
   "execution_count": null,
   "id": "a0056503",
   "metadata": {},
   "outputs": [],
   "source": []
  },
  {
   "cell_type": "markdown",
   "id": "91dbdfba-e540-445d-99aa-f532aaa4922d",
   "metadata": {},
   "source": [
    "\n",
    "\n",
    "\n",
    "## Exercises\n",
    "\n",
    "- Review Python syntax cheatsheet [https://blog.finxter.com/wp-content/uploads/2020/07/Finxter_WorldsMostDensePythonCheatSheet.pdf](https://blog.finxter.com/wp-content/uploads/2020/07/Finxter_WorldsMostDensePythonCheatSheet.pdf)\n",
    "  - add single dot next to concepts you've hear about\n",
    "  - double dot next to python concepts you understand\n",
    "  - triple dot next to concepts you've used in your code\n",
    "- Try poking-around and explore expressions involving numbers (`int` and `float`),\n",
    "  strings (`str`), and booleans (`bool`).\n",
    "- Go through all quiz questions in reading material as notebooks:\n",
    "  - 03-Variables: [https://introductorypython.github.io/tutorials/03-Variables.html](https://introductorypython.github.io/tutorials/03-Variables.html)\n",
    "  - 04-Operarators: [https://introductorypython.github.io/tutorials/04-Operators.html](https://introductorypython.github.io/tutorials/04-Operators.html)\n",
    "  - 06-Data types: [https://introductorypython.github.io/tutorials/06-DataTypes.html](https://introductorypython.github.io/tutorials/06-DataTypes.html) \n",
    "  - Review Collections: Lists section. This is important because we can use lists\n",
    "    to represent vectors in Python, for example the two-dimensional vector can be defined as `v = [3,2]`\n",
    "  - Complete the section on for loops in 07-Loops notebook.\n",
    "    The for loop is important because it allows you to do operations for each element in the list."
   ]
  },
  {
   "cell_type": "markdown",
   "id": "bbc3fdf6-5935-4c67-8149-6ef89b95726a",
   "metadata": {},
   "source": [
    "# Getting to know Python"
   ]
  },
  {
   "cell_type": "markdown",
   "id": "73310010-7c02-4cb4-ac25-0b5ac9889d62",
   "metadata": {},
   "source": []
  },
  {
   "cell_type": "markdown",
   "id": "c75a4283-b57b-461e-807a-1c45a75ad93b",
   "metadata": {
    "tags": []
   },
   "source": [
    "### Getting help\n",
    "\n",
    "There are multiple ways to obtain helpful information Python modules, functions, and objects.\n",
    "\n",
    "#### Python doc-string\n",
    "- `?`\n",
    "- SHIFT + TAB while cursor on top of Python function \n",
    "- `help()`\n",
    "- `??`\n",
    "- `%psource`\n",
    "- `%pdef` \n",
    "\n",
    "#### Auto complete with attributes\n",
    "- `TAB` button\n",
    "- `dir()`\n",
    "- `__dict__`\n",
    "\n",
    "\n",
    "- online docs\n",
    "\n",
    "\n",
    "see also https://jakevdp.github.io/PythonDataScienceHandbook/01.01-help-and-documentation.html\n"
   ]
  },
  {
   "cell_type": "markdown",
   "id": "a003d0e2-f4ff-42c2-a8d1-e534f118cd4f",
   "metadata": {},
   "source": [
    "Let's say you're interested to know the options available for the function `print`,\n",
    "which we use to print Python expressions."
   ]
  },
  {
   "cell_type": "code",
   "execution_count": 31,
   "id": "14bcb38d-ba4a-46fe-8d48-4a635a674aaa",
   "metadata": {},
   "outputs": [
    {
     "data": {
      "text/plain": [
       "<function print>"
      ]
     },
     "execution_count": 31,
     "metadata": {},
     "output_type": "execute_result"
    }
   ],
   "source": [
    "# put cursor in the middle of function and press SHIFT+TAB\n",
    "print"
   ]
  },
  {
   "cell_type": "code",
   "execution_count": 32,
   "id": "32857b75-b3db-48f0-b233-c4fe42fccbdc",
   "metadata": {},
   "outputs": [
    {
     "name": "stdout",
     "output_type": "stream",
     "text": [
      "Hello\n"
     ]
    }
   ],
   "source": [
    "msg = \"Hello\"\n",
    "print(msg)"
   ]
  },
  {
   "cell_type": "markdown",
   "id": "5880d053-54ba-454d-bf30-857d4bf0282b",
   "metadata": {},
   "source": [
    "You know this function accepts a variable and prints it,\n",
    "but what other keywords arguments does it take?"
   ]
  },
  {
   "cell_type": "markdown",
   "id": "f8dcf334-2304-48d6-a59b-11ddc66764c3",
   "metadata": {},
   "source": [
    "Use the help() function on `print`"
   ]
  },
  {
   "cell_type": "code",
   "execution_count": 33,
   "id": "b9330d95-c29e-4fa6-a176-328808ab74a1",
   "metadata": {},
   "outputs": [
    {
     "name": "stdout",
     "output_type": "stream",
     "text": [
      "Help on built-in function print in module builtins:\n",
      "\n",
      "print(...)\n",
      "    print(value, ..., sep=' ', end='\\n', file=sys.stdout, flush=False)\n",
      "    \n",
      "    Prints the values to a stream, or to sys.stdout by default.\n",
      "    Optional keyword arguments:\n",
      "    file:  a file-like object (stream); defaults to the current sys.stdout.\n",
      "    sep:   string inserted between values, default a space.\n",
      "    end:   string appended after the last value, default a newline.\n",
      "    flush: whether to forcibly flush the stream.\n",
      "\n"
     ]
    }
   ],
   "source": [
    "help(print)"
   ]
  },
  {
   "cell_type": "code",
   "execution_count": 34,
   "id": "183134f0-0639-4e71-988e-623887f393a2",
   "metadata": {},
   "outputs": [
    {
     "data": {
      "text/plain": [
       "\u001b[0;31mDocstring:\u001b[0m\n",
       "print(value, ..., sep=' ', end='\\n', file=sys.stdout, flush=False)\n",
       "\n",
       "Prints the values to a stream, or to sys.stdout by default.\n",
       "Optional keyword arguments:\n",
       "file:  a file-like object (stream); defaults to the current sys.stdout.\n",
       "sep:   string inserted between values, default a space.\n",
       "end:   string appended after the last value, default a newline.\n",
       "flush: whether to forcibly flush the stream.\n",
       "\u001b[0;31mType:\u001b[0m      builtin_function_or_method\n"
      ]
     },
     "metadata": {},
     "output_type": "display_data"
    }
   ],
   "source": [
    "print?"
   ]
  },
  {
   "cell_type": "markdown",
   "id": "b4831054-df76-434b-8346-ac8d7a4fde5c",
   "metadata": {},
   "source": [
    "Another option is `print??` which will show even more help details.\n",
    "Others are `%pdef` and `%psource` "
   ]
  },
  {
   "cell_type": "code",
   "execution_count": 35,
   "id": "9ff316bd-e69e-41ec-afc3-fe85f276e3fe",
   "metadata": {},
   "outputs": [
    {
     "data": {
      "text/plain": [
       "'Hello'"
      ]
     },
     "execution_count": 35,
     "metadata": {},
     "output_type": "execute_result"
    }
   ],
   "source": [
    "# place cursor after dot, and press TAB button\n",
    "msg"
   ]
  },
  {
   "cell_type": "code",
   "execution_count": 36,
   "id": "bedcae03-5e1f-4dd4-9bb2-273db5b43b2d",
   "metadata": {},
   "outputs": [
    {
     "data": {
      "text/plain": [
       "'Hello'"
      ]
     },
     "execution_count": 36,
     "metadata": {},
     "output_type": "execute_result"
    }
   ],
   "source": [
    "msg = \"Hello\"\n",
    "msg"
   ]
  },
  {
   "cell_type": "code",
   "execution_count": 37,
   "id": "ed5f3657-7b0a-4f88-b0b0-c6e8c40d2991",
   "metadata": {},
   "outputs": [],
   "source": [
    "# print(print.__doc__)"
   ]
  },
  {
   "cell_type": "code",
   "execution_count": null,
   "id": "3e496261-e0b7-47ec-a8ca-652c2c60f1f4",
   "metadata": {},
   "outputs": [],
   "source": []
  },
  {
   "cell_type": "markdown",
   "id": "805a5565-86f3-41a0-953e-7ce3cb528b4a",
   "metadata": {},
   "source": [
    "### Errors\n",
    "Sometimes the executed commands will encounter an error,\n",
    "and Python will give an error message describing the problem encountered.\n",
    "Get psychologically ready for those, because they can be very discouraging.\n",
    "REJECTED!\n",
    "The computer doesn't like what you entered.\n",
    "\n",
    "Examples of errors include `SyntaxError`, `ValueError`, etc.\n",
    "The error messages look scary,\n",
    "but really they are there to help you—if you read what the error message tells you,\n",
    "you will know what needs to be fixed in your input.\n",
    "The error message literally describes the problem!"
   ]
  },
  {
   "cell_type": "markdown",
   "id": "f88d855c-144f-4dba-a3ed-860eb2f1c24f",
   "metadata": {},
   "source": [
    "The code cell below shows what happens when the code contains a math error."
   ]
  },
  {
   "cell_type": "code",
   "execution_count": 38,
   "id": "99b808a8",
   "metadata": {
    "tags": [
     "raises-exception"
    ]
   },
   "outputs": [
    {
     "ename": "ZeroDivisionError",
     "evalue": "division by zero",
     "output_type": "error",
     "traceback": [
      "\u001b[0;31m---------------------------------------------------------------------------\u001b[0m",
      "\u001b[0;31mZeroDivisionError\u001b[0m                         Traceback (most recent call last)",
      "Input \u001b[0;32mIn [38]\u001b[0m, in \u001b[0;36m<module>\u001b[0;34m\u001b[0m\n\u001b[0;32m----> 1\u001b[0m \u001b[38;5;241;43m3\u001b[39;49m\u001b[38;5;241;43m/\u001b[39;49m\u001b[38;5;241;43m0\u001b[39;49m\n",
      "\u001b[0;31mZeroDivisionError\u001b[0m: division by zero"
     ]
    }
   ],
   "source": [
    "3/0"
   ]
  },
  {
   "cell_type": "markdown",
   "id": "4148f585-b050-4227-ab9d-dbac792df860",
   "metadata": {},
   "source": [
    "Here we get an error since we're trying to compute an expression that contains a divide by zero error:\n",
    "Python tell us a `ZeroDivisionError: division by zero` has occurred.\n",
    "Indeed it's not possible to divide by zero."
   ]
  },
  {
   "cell_type": "markdown",
   "id": "a272ab4b-3c87-4114-b0de-3d8ef6c30e5b",
   "metadata": {
    "tags": []
   },
   "source": [
    "# Boolean variables and conditional statements\n",
    "\n",
    "Let's talk about boolean variables, which can take on one of two values: `True` or `False`. \n",
    "\n",
    "We obtain boolean values from various comparisons."
   ]
  },
  {
   "cell_type": "code",
   "execution_count": 39,
   "id": "ddae232f-1bee-4264-b2bd-cc845ab06c1a",
   "metadata": {},
   "outputs": [
    {
     "data": {
      "text/plain": [
       "True"
      ]
     },
     "execution_count": 39,
     "metadata": {},
     "output_type": "execute_result"
    }
   ],
   "source": [
    "3 > 2"
   ]
  },
  {
   "cell_type": "markdown",
   "id": "ec991c89-6dac-443b-bfcd-aeacd63714f2",
   "metadata": {},
   "source": [
    "Other arithmetic comparisons include `>=`, `<`, and `<=`, `==` (equal to), `!=` (not equal to)."
   ]
  },
  {
   "cell_type": "markdown",
   "id": "c2368c46-f1c6-4964-a582-272b670ebaf6",
   "metadata": {},
   "source": [
    "The `in` operator can be used to check if an object is part of a list (or another kind of collection)."
   ]
  },
  {
   "cell_type": "code",
   "execution_count": 40,
   "id": "ee093a89-c0e8-4697-b851-730266148e36",
   "metadata": {},
   "outputs": [
    {
     "data": {
      "text/plain": [
       "True"
      ]
     },
     "execution_count": 40,
     "metadata": {},
     "output_type": "execute_result"
    }
   ],
   "source": [
    "3 in [1,2,3,4]"
   ]
  },
  {
   "cell_type": "markdown",
   "id": "ae061026-8805-4af2-9b4e-44305a31cad8",
   "metadata": {
    "tags": []
   },
   "source": [
    "Additionally, there is a conventions about values are considered \"truthy\" (i.e. get converted to `True` when converted to boolean using `bool`) and which expressions are falsy (i.e. get converted to `False` when passed through `bool`)."
   ]
  },
  {
   "cell_type": "code",
   "execution_count": 41,
   "id": "e027a4f1",
   "metadata": {},
   "outputs": [
    {
     "data": {
      "text/plain": [
       "False"
      ]
     },
     "execution_count": 41,
     "metadata": {},
     "output_type": "execute_result"
    }
   ],
   "source": [
    "bool(0)"
   ]
  },
  {
   "cell_type": "code",
   "execution_count": 42,
   "id": "1f8c417f",
   "metadata": {},
   "outputs": [
    {
     "data": {
      "text/plain": [
       "True"
      ]
     },
     "execution_count": 42,
     "metadata": {},
     "output_type": "execute_result"
    }
   ],
   "source": [
    "bool(1)"
   ]
  },
  {
   "cell_type": "markdown",
   "id": "ea208eca-f3b6-44c0-9a26-1a3cb7d305ce",
   "metadata": {},
   "source": [
    "Any non-zero float is considered is truthy"
   ]
  },
  {
   "cell_type": "code",
   "execution_count": 43,
   "id": "2d75a51e-636e-4bea-a828-1488109f8794",
   "metadata": {},
   "outputs": [
    {
     "data": {
      "text/plain": [
       "True"
      ]
     },
     "execution_count": 43,
     "metadata": {},
     "output_type": "execute_result"
    }
   ],
   "source": [
    "bool(133.3)"
   ]
  },
  {
   "cell_type": "markdown",
   "id": "83a69f05-908c-4d80-bffb-5af30e30c896",
   "metadata": {},
   "source": [
    "Any non-empty string is considered truthy:"
   ]
  },
  {
   "cell_type": "code",
   "execution_count": 44,
   "id": "27b8807d",
   "metadata": {},
   "outputs": [
    {
     "data": {
      "text/plain": [
       "True"
      ]
     },
     "execution_count": 44,
     "metadata": {},
     "output_type": "execute_result"
    }
   ],
   "source": [
    "bool(\"something\")"
   ]
  },
  {
   "cell_type": "markdown",
   "id": "bbf24fd2-f304-40fe-9bc4-e2a81de715ff",
   "metadata": {},
   "source": [
    "But empty string is falsy:"
   ]
  },
  {
   "cell_type": "code",
   "execution_count": 45,
   "id": "cd1edeb7-51ba-4ee0-a1b4-3c3388e85b3a",
   "metadata": {},
   "outputs": [
    {
     "data": {
      "text/plain": [
       "False"
      ]
     },
     "execution_count": 45,
     "metadata": {},
     "output_type": "execute_result"
    }
   ],
   "source": [
    "bool(\"\")"
   ]
  },
  {
   "cell_type": "markdown",
   "id": "ccf3bd00-3b79-4ae6-bdbd-54456484a912",
   "metadata": {},
   "source": [
    "Boolean expressions are important to understand because they are used in conditional statements."
   ]
  },
  {
   "cell_type": "markdown",
   "id": "0cb9bdae-e22b-4566-a6a1-e7158de756c8",
   "metadata": {},
   "source": [
    "### Conditional statements\n",
    "\n",
    "Conditional control flow between code block alternatives\n"
   ]
  },
  {
   "cell_type": "code",
   "execution_count": 46,
   "id": "aff62239-c311-4639-bcbb-3a67d617318a",
   "metadata": {},
   "outputs": [
    {
     "name": "stdout",
     "output_type": "stream",
     "text": [
      "This code will run\n"
     ]
    }
   ],
   "source": [
    "if True:\n",
    "    print(\"This code will run\")\n",
    "\n",
    "if False:\n",
    "    print(\"This code will not run\")"
   ]
  },
  {
   "cell_type": "markdown",
   "id": "cfbafdbe-cfd7-4d48-a82c-8d2365ce208e",
   "metadata": {},
   "source": [
    "Can construct boolean values like `True` and `False` using various expressions that involve comparison,\n",
    "`==` equal to, `>` greater than, `<` less than, etc."
   ]
  },
  {
   "cell_type": "code",
   "execution_count": 47,
   "id": "8e09d077-d3f8-465f-92e2-f9b790a0e637",
   "metadata": {},
   "outputs": [
    {
     "data": {
      "text/plain": [
       "True"
      ]
     },
     "execution_count": 47,
     "metadata": {},
     "output_type": "execute_result"
    }
   ],
   "source": [
    "x = 3\n",
    "\n",
    "x > 2"
   ]
  },
  {
   "cell_type": "code",
   "execution_count": 48,
   "id": "bb67abe5-01e6-413b-9f24-863e7270cca3",
   "metadata": {},
   "outputs": [
    {
     "name": "stdout",
     "output_type": "stream",
     "text": [
      "x is greater than 2\n"
     ]
    }
   ],
   "source": [
    "if x > 2:\n",
    "    print(\"x is greater than 2\")\n",
    "else:\n",
    "    print(\"x is less than or equal to 2\")"
   ]
  },
  {
   "cell_type": "markdown",
   "id": "d0e825a2-b5f4-4d93-a24a-73503ed563ee",
   "metadata": {},
   "source": [
    "We can do multiple checks using `elif` statements."
   ]
  },
  {
   "cell_type": "code",
   "execution_count": 49,
   "id": "b0cb5ac6-acdc-4af4-b953-c2c5f072d53f",
   "metadata": {},
   "outputs": [
    {
     "name": "stdout",
     "output_type": "stream",
     "text": [
      "It's nice!\n"
     ]
    }
   ],
   "source": [
    "temp = 20 # in Celsius\n",
    "\n",
    "if temp >= 15:\n",
    "    print(\"It's nice!\")\n",
    "elif temp < 0:\n",
    "    print(\"It's cold!\")\n",
    "else:\n",
    "    print(\"It's OK.\")"
   ]
  },
  {
   "cell_type": "markdown",
   "id": "ed3262fa-7434-4cbd-a96c-1ae50549b3fb",
   "metadata": {},
   "source": [
    "Exercise: add another condition to the above code to print `It's hot` if the temperature is above 25."
   ]
  },
  {
   "cell_type": "code",
   "execution_count": null,
   "id": "40af59c2-e90e-4bd9-953d-3fbeee946dd5",
   "metadata": {},
   "outputs": [],
   "source": []
  },
  {
   "cell_type": "markdown",
   "id": "39c0ec7f-c3db-4391-80c4-dbf9c815aa7d",
   "metadata": {},
   "source": [
    "### Inline if statements\n",
    "\n",
    "We can also use if-else keywords to compute conditional expressions.\n",
    "The general syntax for these is:\n",
    "```Python\n",
    "<value1> if <condition> else <value2>\n",
    "```\n",
    "\n",
    "This expressions evaluates to `<value1>` if the `<condition>` is true,\n",
    "and to `<value2>` if `<condition>` is False.\n"
   ]
  },
  {
   "cell_type": "markdown",
   "id": "e0752b0b-2d68-4a03-8a9f-539f566a1e17",
   "metadata": {},
   "source": [
    "# Lists and for loops\n"
   ]
  },
  {
   "cell_type": "markdown",
   "id": "499f5589-9568-43a3-ba6c-ed43b3df568e",
   "metadata": {},
   "source": [
    "## Lists\n",
    "\n",
    "To create a list of two values:\n",
    "- start with an opening square bracket `[` ,\n",
    "- then put the first value,\n",
    "- comma `,`,\n",
    "- then the second value,\n",
    "- finally close the square bracket `]`"
   ]
  },
  {
   "cell_type": "code",
   "execution_count": 50,
   "id": "85ac2547",
   "metadata": {},
   "outputs": [
    {
     "data": {
      "text/plain": [
       "[3, 4]"
      ]
     },
     "execution_count": 50,
     "metadata": {},
     "output_type": "execute_result"
    }
   ],
   "source": [
    "first_val = 3\n",
    "second_val = 4\n",
    "\n",
    "my_list = [first_val, second_val]\n",
    "my_list"
   ]
  },
  {
   "cell_type": "code",
   "execution_count": 51,
   "id": "f76410af",
   "metadata": {},
   "outputs": [
    {
     "data": {
      "text/plain": [
       "[61.0, 85.0, 92.0, 72.0]"
      ]
     },
     "execution_count": 51,
     "metadata": {},
     "output_type": "execute_result"
    }
   ],
   "source": [
    "scores = [61.0, 85.0, 92.0, 72.0]  # define a list of floats\n",
    "scores"
   ]
  },
  {
   "cell_type": "code",
   "execution_count": 52,
   "id": "3847db1a",
   "metadata": {},
   "outputs": [
    {
     "data": {
      "text/plain": [
       "4"
      ]
     },
     "execution_count": 52,
     "metadata": {},
     "output_type": "execute_result"
    }
   ],
   "source": [
    "# lists have a \"length\"\n",
    "len(scores)"
   ]
  },
  {
   "cell_type": "code",
   "execution_count": 53,
   "id": "ae78304a",
   "metadata": {},
   "outputs": [
    {
     "data": {
      "text/plain": [
       "61.0"
      ]
     },
     "execution_count": 53,
     "metadata": {},
     "output_type": "execute_result"
    }
   ],
   "source": [
    "# elements of a list are acccessed using [ ] and 0-based index\n",
    "scores[0]  # first score"
   ]
  },
  {
   "cell_type": "code",
   "execution_count": 54,
   "id": "a6110de9",
   "metadata": {},
   "outputs": [
    {
     "data": {
      "text/plain": [
       "[61.0, 72.0, 85.0, 92.0]"
      ]
     },
     "execution_count": 54,
     "metadata": {},
     "output_type": "execute_result"
    }
   ],
   "source": [
    "# lists can be sorted\n",
    "sorted(scores)  # returns a new list of sorted scores"
   ]
  },
  {
   "cell_type": "code",
   "execution_count": 55,
   "id": "4a82c0ea",
   "metadata": {},
   "outputs": [
    {
     "data": {
      "text/plain": [
       "[61.0, 85.0, 92.0, 72.0]"
      ]
     },
     "execution_count": 55,
     "metadata": {},
     "output_type": "execute_result"
    }
   ],
   "source": [
    "scores"
   ]
  },
  {
   "cell_type": "code",
   "execution_count": 56,
   "id": "feb2d894",
   "metadata": {},
   "outputs": [
    {
     "data": {
      "text/plain": [
       "[61.0, 72.0, 85.0, 92.0]"
      ]
     },
     "execution_count": 56,
     "metadata": {},
     "output_type": "execute_result"
    }
   ],
   "source": [
    "scores.sort()  # in-place sort the list\n",
    "scores"
   ]
  },
  {
   "cell_type": "code",
   "execution_count": 57,
   "id": "407ec209",
   "metadata": {},
   "outputs": [
    {
     "data": {
      "text/plain": [
       "[92.0, 85.0, 72.0, 61.0]"
      ]
     },
     "execution_count": 57,
     "metadata": {},
     "output_type": "execute_result"
    }
   ],
   "source": [
    "scores.reverse()\n",
    "scores"
   ]
  },
  {
   "cell_type": "code",
   "execution_count": 58,
   "id": "780efcce",
   "metadata": {},
   "outputs": [],
   "source": [
    "scores.append(22)"
   ]
  },
  {
   "cell_type": "code",
   "execution_count": 59,
   "id": "7d1302f6",
   "metadata": {},
   "outputs": [
    {
     "data": {
      "text/plain": [
       "[92.0, 85.0, 72.0, 61.0, 22]"
      ]
     },
     "execution_count": 59,
     "metadata": {},
     "output_type": "execute_result"
    }
   ],
   "source": [
    "scores"
   ]
  },
  {
   "cell_type": "code",
   "execution_count": 60,
   "id": "f0c38a04",
   "metadata": {},
   "outputs": [
    {
     "data": {
      "text/plain": [
       "[92.0, 85.0, 25, 72.0, 61.0, 22]"
      ]
     },
     "execution_count": 60,
     "metadata": {},
     "output_type": "execute_result"
    }
   ],
   "source": [
    "scores.insert(2, 25)\n",
    "scores"
   ]
  },
  {
   "cell_type": "code",
   "execution_count": 61,
   "id": "15a74b2b",
   "metadata": {},
   "outputs": [
    {
     "data": {
      "text/plain": [
       "22"
      ]
     },
     "execution_count": 61,
     "metadata": {},
     "output_type": "execute_result"
    }
   ],
   "source": [
    "scores.pop()"
   ]
  },
  {
   "cell_type": "code",
   "execution_count": 62,
   "id": "a0435323-54c4-4c72-b46e-e4dd168da0f4",
   "metadata": {},
   "outputs": [
    {
     "data": {
      "text/plain": [
       "True"
      ]
     },
     "execution_count": 62,
     "metadata": {},
     "output_type": "execute_result"
    }
   ],
   "source": [
    "# list membership\n",
    "92 in scores"
   ]
  },
  {
   "cell_type": "markdown",
   "id": "bec18151",
   "metadata": {},
   "source": [
    "Just like `.sort()` method, lists have all kinds of useful methods `.insert`, `.remove`, `.pop`, `.reverse`, ...  \n",
    "\n",
    "You can see all those methods by starting to type `scores.` then pause for a second to see the auto-complete suggestions:"
   ]
  },
  {
   "cell_type": "code",
   "execution_count": 63,
   "id": "3a2e521a",
   "metadata": {},
   "outputs": [],
   "source": [
    "# scores."
   ]
  },
  {
   "cell_type": "code",
   "execution_count": 3,
   "id": "1ee1a4a0",
   "metadata": {},
   "outputs": [],
   "source": [
    "scores = [61.0, 85.0, 92.0, 72.0]\n",
    "scores.sort()"
   ]
  },
  {
   "cell_type": "code",
   "execution_count": 65,
   "id": "f92d9312-e879-490b-ae3f-801dd7c2fd6b",
   "metadata": {},
   "outputs": [],
   "source": [
    "# len(scores)\n",
    "# sum(scores)\n",
    "# any(scores)\n",
    "# all(scores)\n",
    "# append/extend/+/"
   ]
  },
  {
   "cell_type": "markdown",
   "id": "729699e7",
   "metadata": {},
   "source": [
    "## For loops\n",
    "\n",
    "repeat a code block multiple times for each element in an iterable\n",
    "code blocks (via indentation) with multiple expressions (these are indicated based on the text indentation of the code instructions)\n",
    "\n",
    "\n",
    "The \"for loop\" is a Python code construct of the form:\n",
    "```Python\n",
    "for el in <container>:\n",
    "    <operations on element `el`>\n",
    "\n",
    "```\n",
    "that allows to repeat a block of operations **for each element of the list**."
   ]
  },
  {
   "cell_type": "code",
   "execution_count": 4,
   "id": "56002dd2",
   "metadata": {},
   "outputs": [
    {
     "name": "stdout",
     "output_type": "stream",
     "text": [
      "61.0\n",
      "72.0\n",
      "85.0\n",
      "92.0\n"
     ]
    }
   ],
   "source": [
    "# Example 1: print all the scores\n",
    "for score in scores:\n",
    "    print(score)"
   ]
  },
  {
   "cell_type": "code",
   "execution_count": 5,
   "id": "dfcd2e70",
   "metadata": {},
   "outputs": [
    {
     "data": {
      "text/plain": [
       "77.5"
      ]
     },
     "execution_count": 5,
     "metadata": {},
     "output_type": "execute_result"
    }
   ],
   "source": [
    "# Example 2: compute the average score  ==  sum(scores)/len(scores)\n",
    "\n",
    "total = 0\n",
    "\n",
    "for score in scores:\n",
    "    total = total + score\n",
    "\n",
    "total / len(scores)"
   ]
  },
  {
   "cell_type": "markdown",
   "id": "dfb40478",
   "metadata": {},
   "source": [
    "The name of the variable used for the for loop is totally up to you, but in general you should choose logical names for elements of the list.\n",
    "\n",
    "Here is a for loop that uses the single-letter variable:"
   ]
  },
  {
   "cell_type": "code",
   "execution_count": 6,
   "id": "6961867c",
   "metadata": {},
   "outputs": [
    {
     "name": "stdout",
     "output_type": "stream",
     "text": [
      "61.0\n",
      "72.0\n",
      "85.0\n",
      "92.0\n"
     ]
    }
   ],
   "source": [
    "for s in scores:\n",
    "    print(s)\n"
   ]
  },
  {
   "cell_type": "code",
   "execution_count": 7,
   "id": "dd44a9c6",
   "metadata": {},
   "outputs": [
    {
     "data": {
      "text/plain": [
       "[61.0, 72.0, 85.0, 92.0]"
      ]
     },
     "execution_count": 7,
     "metadata": {},
     "output_type": "execute_result"
    }
   ],
   "source": [
    "scores"
   ]
  },
  {
   "cell_type": "code",
   "execution_count": null,
   "id": "e7af72da",
   "metadata": {},
   "outputs": [],
   "source": []
  },
  {
   "cell_type": "markdown",
   "id": "0e043a84-8a9e-4bba-91f7-b1aebb63ec5f",
   "metadata": {},
   "source": [
    "### List comprehension "
   ]
  },
  {
   "cell_type": "code",
   "execution_count": 8,
   "id": "76681dd1",
   "metadata": {},
   "outputs": [
    {
     "data": {
      "text/plain": [
       "[0.61, 0.72, 0.85, 0.92]"
      ]
     },
     "execution_count": 8,
     "metadata": {},
     "output_type": "execute_result"
    }
   ],
   "source": [
    "[score/100 for score in scores]"
   ]
  },
  {
   "cell_type": "markdown",
   "id": "d50a2e46",
   "metadata": {},
   "source": [
    "### Example: file open and readlines"
   ]
  },
  {
   "cell_type": "code",
   "execution_count": 10,
   "id": "425b6e31",
   "metadata": {},
   "outputs": [
    {
     "data": {
      "text/plain": [
       "['This is a short story.',\n",
       " 'It is very short.',\n",
       " 'It has only four lines.',\n",
       " 'It ends with the word cat.']"
      ]
     },
     "execution_count": 10,
     "metadata": {},
     "output_type": "execute_result"
    }
   ],
   "source": [
    "lines = open(\"story.txt\").read().splitlines()\n",
    "lines"
   ]
  },
  {
   "cell_type": "code",
   "execution_count": 11,
   "id": "9594aeae-04be-4c77-b5d6-b8d3c72470b8",
   "metadata": {},
   "outputs": [
    {
     "data": {
      "text/plain": [
       "['This is a short story.',\n",
       " 'It is very short.',\n",
       " 'It has only four lines.',\n",
       " 'It ends with the word cat.']"
      ]
     },
     "execution_count": 11,
     "metadata": {},
     "output_type": "execute_result"
    }
   ],
   "source": [
    "contents = open(\"story.txt\").read()\n",
    "lines = contents.splitlines()\n",
    "lines"
   ]
  },
  {
   "cell_type": "code",
   "execution_count": null,
   "id": "01d3983f",
   "metadata": {},
   "outputs": [],
   "source": []
  },
  {
   "cell_type": "markdown",
   "id": "b1f3e944-2202-4acb-a20c-ae6cfde8fe78",
   "metadata": {
    "tags": []
   },
   "source": [
    "### List-like iterable objects\n",
    "\n",
    "The term \"iterable\" is used in Python to refer to all objects that are list-like,\n",
    "and can be iterated using for loops.\n",
    "\n",
    "- strings\n",
    "- dictionaries (keys, values, and key:value items)\n",
    "- sets\n",
    "- `range` (lazy list of integers)\n",
    "\n",
    "https://www.pythonlikeyoumeanit.com/Module2_EssentialsOfPython/Iterables.html#Functions-that-act-on-iterables\n",
    "\n",
    "\n"
   ]
  },
  {
   "cell_type": "code",
   "execution_count": 12,
   "id": "1c5c9094-d5ad-41d3-84eb-454fecdaa5b1",
   "metadata": {},
   "outputs": [
    {
     "data": {
      "text/plain": [
       "range(0, 4)"
      ]
     },
     "execution_count": 12,
     "metadata": {},
     "output_type": "execute_result"
    }
   ],
   "source": [
    "range(0, 4)"
   ]
  },
  {
   "cell_type": "code",
   "execution_count": 13,
   "id": "0cf5ab82-b76b-435b-b225-60ae3ca7aa4d",
   "metadata": {},
   "outputs": [
    {
     "data": {
      "text/plain": [
       "[0, 1, 2, 3]"
      ]
     },
     "execution_count": 13,
     "metadata": {},
     "output_type": "execute_result"
    }
   ],
   "source": [
    "list(range(0, 4))"
   ]
  },
  {
   "cell_type": "markdown",
   "id": "6d54c9b3-1a3e-49b9-bc0f-b83496851842",
   "metadata": {},
   "source": [
    "#### Iterating over dictionaries\n",
    "\n"
   ]
  },
  {
   "cell_type": "code",
   "execution_count": 73,
   "id": "a9f6ff40-85bd-4073-be0c-46add2a6983b",
   "metadata": {},
   "outputs": [
    {
     "data": {
      "text/plain": [
       "['name', 'level', 'team']"
      ]
     },
     "execution_count": 73,
     "metadata": {},
     "output_type": "execute_result"
    }
   ],
   "source": [
    "player = {\"name\":\"Julie\", \"level\":3, \"team\":\"a\"}\n",
    "list(player.keys())"
   ]
  },
  {
   "cell_type": "code",
   "execution_count": 74,
   "id": "160ffab8-9cfe-4ced-b972-c56bbbbb41aa",
   "metadata": {},
   "outputs": [],
   "source": [
    "# # ALT.\n",
    "# list(player)"
   ]
  },
  {
   "cell_type": "code",
   "execution_count": 75,
   "id": "131daff9-cde5-431c-8422-5b71f491f266",
   "metadata": {},
   "outputs": [
    {
     "data": {
      "text/plain": [
       "['Julie', 3, 'a']"
      ]
     },
     "execution_count": 75,
     "metadata": {},
     "output_type": "execute_result"
    }
   ],
   "source": [
    "list(player.values())"
   ]
  },
  {
   "cell_type": "code",
   "execution_count": 76,
   "id": "abd1b2b1-d69f-4cb3-842d-c7a962eed73a",
   "metadata": {},
   "outputs": [
    {
     "data": {
      "text/plain": [
       "[('name', 'Julie'), ('level', 3), ('team', 'a')]"
      ]
     },
     "execution_count": 76,
     "metadata": {},
     "output_type": "execute_result"
    }
   ],
   "source": [
    "list(player.items())"
   ]
  },
  {
   "cell_type": "markdown",
   "id": "ed3c527a-323f-40f7-84fa-d70fcf94cb05",
   "metadata": {},
   "source": [
    "We'll talk more about dictionaries [later on](#Dictionaries-and-other-data-structures)."
   ]
  },
  {
   "cell_type": "markdown",
   "id": "9da5cf70-2ec9-4b04-acde-b1627fa64a28",
   "metadata": {
    "tags": []
   },
   "source": [
    "#### Strings are lists of characters"
   ]
  },
  {
   "cell_type": "code",
   "execution_count": 77,
   "id": "5f62f57d",
   "metadata": {},
   "outputs": [
    {
     "name": "stdout",
     "output_type": "stream",
     "text": [
      "The index of the letter `a` in the string letters is 0\n",
      "a\n",
      "The index of the letter `b` in the string letters is 1\n",
      "b\n",
      "The index of the last letter in the string letters is -1\n",
      "z\n",
      "The last element in list of 26 elments has index 25\n",
      "True\n",
      "\n",
      "\n",
      "\n",
      "\n",
      "The first four letters of the alphabet are: abcd\n"
     ]
    }
   ],
   "source": [
    "# Define a str of length 26 that contains all the lowercase Latin letters\n",
    "letters = \"abcdefghijklmnopqrstuvwxyz\"\n",
    "\n",
    "# Accessing individual characters within a string\n",
    "print(\"The index of the letter `a` in the string letters is 0\")\n",
    "first_letter = letters[0]  # a\n",
    "print(first_letter)\n",
    "\n",
    "print(\"The index of the letter `b` in the string letters is 1\")\n",
    "second_letter = letters[1]  # b\n",
    "print(second_letter)\n",
    "\n",
    "print(\"The index of the last letter in the string letters is -1\")\n",
    "last_letter = letters[-1]  # z\n",
    "print(last_letter)\n",
    "\n",
    "print(\"The last element in list of 26 elments has index 25\")\n",
    "print(letters[25] == \"z\")\n",
    "\n",
    "print('\\n\\n\\n')  # '\\n' is a special character (an escape sequence) that prints a newline\n",
    "                 # we'll use this kind of preint-nelines statements to logically\n",
    "                 # separate the out outplut lines\n",
    "\n",
    "# Slicing = getting the substring for a particular range of indices\n",
    "first_four = letters[0:4]\n",
    "print('The first four letters of the alphabet are:', first_four)\n",
    "# the notation 0:4 is sugar syntax for `slice(0,4)` and corresponds\n",
    "# to the range of indices for 0 to 4 (non-inclusinve): [0,1,2,3]."
   ]
  },
  {
   "cell_type": "markdown",
   "id": "8196408e-9d64-4b27-a6d1-58f32103a84a",
   "metadata": {},
   "source": [
    "#### Tricks for lists\n",
    "\n",
    "Tricks:\n",
    "- `enumerate`\n",
    "- `zip`"
   ]
  },
  {
   "cell_type": "code",
   "execution_count": 78,
   "id": "e8101dfa",
   "metadata": {},
   "outputs": [
    {
     "data": {
      "text/plain": [
       "<enumerate at 0x10e415b80>"
      ]
     },
     "execution_count": 78,
     "metadata": {},
     "output_type": "execute_result"
    }
   ],
   "source": [
    "enumerate(scores)"
   ]
  },
  {
   "cell_type": "code",
   "execution_count": 79,
   "id": "f49a6d1c",
   "metadata": {},
   "outputs": [
    {
     "name": "stdout",
     "output_type": "stream",
     "text": [
      "Processing score 61.0 which is at index 0 in the list\n",
      "Processing score 72.0 which is at index 1 in the list\n",
      "Processing score 85.0 which is at index 2 in the list\n",
      "Processing score 92.0 which is at index 3 in the list\n"
     ]
    }
   ],
   "source": [
    "# Bonus concept: use `enumerate` to get pairs (index, value) from a list\n",
    "# enumerate(scores) == [(0, 61.0), (1, 72.0), (2, 85.0), (3, 92.0)]\n",
    "\n",
    "# example\n",
    "for idx, score in enumerate(scores):\n",
    "    # this for loop has two variables index and score\n",
    "    print(\"Processing score\", score, \"which is at index\", idx, \"in the list\")"
   ]
  },
  {
   "cell_type": "code",
   "execution_count": 80,
   "id": "0a1fbbcf",
   "metadata": {},
   "outputs": [
    {
     "name": "stdout",
     "output_type": "stream",
     "text": [
      "Processing values 1 and 4\n",
      "Processing values 2 and 5\n",
      "Processing values 3 and 6\n"
     ]
    }
   ],
   "source": [
    "# New concept: use `zip(list1,list2)` to get pairs (value1, value2) from two lists \n",
    "# list(zip([1,2,3], ['a','b','c'])) == [(1, 'a'), (2, 'b'), (3, 'c')]\n",
    "\n",
    "# example\n",
    "list1 = [1, 2, 3]\n",
    "list2 = [4, 5, 6]\n",
    "\n",
    "for value1, value2 in zip(list1, list2):\n",
    "    print(\"Processing values\", value1, \"and\", value2)\n"
   ]
  },
  {
   "cell_type": "code",
   "execution_count": 81,
   "id": "0ef79303",
   "metadata": {},
   "outputs": [
    {
     "data": {
      "text/plain": [
       "[(1, 4), (2, 5), (3, 6)]"
      ]
     },
     "execution_count": 81,
     "metadata": {},
     "output_type": "execute_result"
    }
   ],
   "source": [
    "list1 = [1, 2, 3]\n",
    "list2 = [4, 5, 6]\n",
    "\n",
    "list(zip(list1, list2))"
   ]
  },
  {
   "cell_type": "markdown",
   "id": "cbc8d3ad",
   "metadata": {},
   "source": [
    "<a name=\"funcs\"></a>\n",
    "# Functions\n",
    "\n",
    "Functions are one of the most important concepts in math and programming.\n",
    "\n",
    "\n",
    "    y = f(x)  # common convention in math to call function inputs x, and outputs y\n",
    "\n",
    "We can also draw as `x -----f----> y` the function is a map from input values x to an output value y\n",
    "\n",
    "\n",
    "    def f(x):\n",
    "        <steps to compute y from x>\n",
    "        return y\n",
    "\n",
    "\n",
    "Functions!! Finally we get to the good stuff! The previous two sessions were important\n",
    "foundations, but now we get to unlocking the first superpower — modelling.\n",
    "Once you know the basic properties of 10 or so functions,\n",
    "you can build precise mathematical models for any real-world system.\n",
    "\n",
    "\n",
    "Functions are all over the place:\n",
    "- In high school math (the green book) we learn the basic vocabulary of y=f(x) functions\n",
    "  and their parameters, which allows us to describe any real world process\n",
    "- In calculus we analyze functions f(x) behaviour over time\n",
    "  (integral of f = sum of values of f(x) between x=start and x=finish;\n",
    "  and derivative of f at a = the slope of the graph of f(x) when x=a)\n",
    "- In linear algebra we study linear transformations, which are functions\n",
    "  that satisfy f(ax+by)=af(x)+bf(y), meaning a linear combination of inputs\n",
    "  produces the same linear combination of outputs.\n",
    "- In probability theory we use functions to describe the probability density of\n",
    "  a random variables. For example X = Normal(mu, sigma^2) is a random variable\n",
    "  whose density is described by the function p(x) = K*exp(-((x-mu)/sigma)^2/2)\n",
    "  in stats we talk about functions computed from samples (estimators)\n",
    "- In ML we learn about probabilistic models and use them to predict y from given input x\n",
    "\n",
    "\n",
    "\n",
    "see also https://www.pythonlikeyoumeanit.com/Module2_EssentialsOfPython/Functions.html"
   ]
  },
  {
   "cell_type": "markdown",
   "id": "dbb38e81",
   "metadata": {},
   "source": [
    "## Python functions\n",
    "\n",
    "reusable chunks of code that can be def-ined once, and used multiple times by \"calling\" them with different arguments\n",
    "\n",
    "\n",
    "\n",
    "Functions in Python are similar to functions in math: a transformation that takes certain inputs and produces certain outputs. The math functions you're familiar with take numbers as inputs and produce numebrs as outputs, but a Python function can take on any type of input and produce any type of output.\n",
    "\n",
    "Functions allow us to build chunks of reusable code that we can later reuse in other programs.\n",
    "\n",
    "We declare a function with the keyword `def`.\n",
    "\n",
    "```python\n",
    "def function_name(function inputs):\n",
    "    \"\"\"\n",
    "    doc string that describes what the function does (optional)\n",
    "    \"\"\"\n",
    "    <function body line 1>\n",
    "    <function body line 2>\n",
    "    <function body line ...>\n",
    "    <function body line n-1>\n",
    "    return <function output value>\n",
    "```\n",
    "\n",
    "We enter the name of the function, then define the functions arguments inside parentheses—the names of the variables that the function receives as inputs. Then the function body is written as an indented block of code (all lines start with four spaces indentation). The output of the function is specified using the `return` keyword. The return statement is usually the last line in the function body.\n",
    "\n",
    "Certain functions do not return a value (we call these _procedures_) and they consist of sequences of commands we want to execute, that don't have any outputs. FunctIons can also be attached to objects, in which case they are called _methods_. We'll talk about these layer on, for now let's focus on simple math-like functions that receive some input and produce output:\n",
    "\n",
    "#### Example 1\n",
    "\n",
    "A first example of a simple math-like function. The function is called `f`,\n",
    "takes numbers as inputs, and produces numbers as outputs:"
   ]
  },
  {
   "cell_type": "code",
   "execution_count": 82,
   "id": "6d4e3530",
   "metadata": {},
   "outputs": [
    {
     "data": {
      "text/plain": [
       "23"
      ]
     },
     "execution_count": 82,
     "metadata": {},
     "output_type": "execute_result"
    }
   ],
   "source": [
    "def f(x):\n",
    "    return 2*x + 3\n",
    "\n",
    "f(10)"
   ]
  },
  {
   "cell_type": "code",
   "execution_count": null,
   "id": "680f7ed9",
   "metadata": {},
   "outputs": [],
   "source": []
  },
  {
   "cell_type": "markdown",
   "id": "e5a345e3",
   "metadata": {},
   "source": [
    "#### Example 2"
   ]
  },
  {
   "cell_type": "code",
   "execution_count": 83,
   "id": "839dcba9",
   "metadata": {},
   "outputs": [
    {
     "name": "stdout",
     "output_type": "stream",
     "text": [
      "heads\n"
     ]
    }
   ],
   "source": [
    "# Example from Session 1\n",
    "import random\n",
    "\n",
    "def flip_coin():\n",
    "    r = random.random()\n",
    "    if r < 0.5:\n",
    "        print(\"heads\")\n",
    "    else:\n",
    "        print(\"tails\")\n",
    "\n",
    "flip_coin()  # no return value, but prints output"
   ]
  },
  {
   "cell_type": "markdown",
   "id": "6281a40b",
   "metadata": {},
   "source": [
    "#### Example 3\n",
    "\n",
    "Write a function `water_phase(temp)` that takes input temperature `temp` in Celcius,\n",
    "uses if/else statements to find what state water is in (assume pressure is 1atm).\n",
    "The function returns a string, which is one of \"Solid\", \"Liquid\", \"Gas\"."
   ]
  },
  {
   "cell_type": "code",
   "execution_count": 84,
   "id": "7c52924f",
   "metadata": {},
   "outputs": [],
   "source": [
    "def water_phase(temp):\n",
    "    \"\"\"\n",
    "    Returns phase of water at `temp`.\n",
    "    Input temp is temperature in Celcius (int or float)\n",
    "    temp must be greater than -273.15.\n",
    "    \"\"\"\n",
    "    if temp > 0 and temp < 100:\n",
    "        return 'Liquid'\n",
    "    elif temp <= 0:\n",
    "        return 'Solid'\n",
    "    elif temp >= 100:\n",
    "        return 'Gas'"
   ]
  },
  {
   "cell_type": "code",
   "execution_count": 85,
   "id": "8340bb31",
   "metadata": {},
   "outputs": [
    {
     "name": "stdout",
     "output_type": "stream",
     "text": [
      "True\n",
      "True\n",
      "True\n",
      "True\n"
     ]
    }
   ],
   "source": [
    "## tests to try: correct implementation of `water_phase` should return all True\n",
    "print( water_phase(20.0) == \"Liquid\" )\n",
    "print( water_phase(-20.0) == \"Solid\" )\n",
    "print( water_phase(200.0) == \"Gas\" )\n",
    "print( water_phase(0.0) in [\"Liquid\", \"Solid\"] )"
   ]
  },
  {
   "cell_type": "code",
   "execution_count": 86,
   "id": "120a86a9",
   "metadata": {},
   "outputs": [
    {
     "name": "stdout",
     "output_type": "stream",
     "text": [
      "Completed a total of 5100 checks...\n"
     ]
    },
    {
     "data": {
      "text/plain": [
       "True"
      ]
     },
     "execution_count": 86,
     "metadata": {},
     "output_type": "execute_result"
    }
   ],
   "source": [
    "## range tests\n",
    "results = []\n",
    "\n",
    "for temp in range(1, 100):\n",
    "    result = (water_phase(temp) == 'Liquid')\n",
    "    results.append(result)\n",
    "\n",
    "# temp <= 0\n",
    "for temp in range(-100, 1):\n",
    "    result = (water_phase(temp) == 'Solid')\n",
    "    results.append(result)\n",
    "\n",
    "# temp >= 100\n",
    "for temp in range(100, 5000):\n",
    "    result = (water_phase(temp) == 'Gas')\n",
    "    results.append(result)\n",
    "\n",
    "print('Completed a total of', len(results), 'checks...')\n",
    "all(results)  # True if all results are True"
   ]
  },
  {
   "cell_type": "code",
   "execution_count": 87,
   "id": "7c02226b",
   "metadata": {},
   "outputs": [
    {
     "data": {
      "text/plain": [
       "False"
      ]
     },
     "execution_count": 87,
     "metadata": {},
     "output_type": "execute_result"
    }
   ],
   "source": [
    "# any = OR for a list\n",
    "# all = AND for a list\n",
    "all([True, True, False])"
   ]
  },
  {
   "cell_type": "code",
   "execution_count": null,
   "id": "42d6774a",
   "metadata": {},
   "outputs": [],
   "source": []
  },
  {
   "cell_type": "markdown",
   "id": "2f8e8c62-c130-46cf-bda9-025d1097cc96",
   "metadata": {},
   "source": [
    "### List functions\n",
    "\n",
    "Your turn to play with lists now! Complete the code required to implement the functions `compute_mean` and `compute_std` below.\n",
    "\n",
    "\n",
    "#### Question 1: Mean\n",
    "\n",
    "The formula for the mean of a list of numbers $[x_1, x_2, \\ldots, x_n]$ is:\n",
    "$$\n",
    "    \\text{mean} = \\overline{x}\n",
    "    = \\frac{1}{n}\\sum_{i=1}^n x_i\n",
    "    = \\tfrac{1}{n} \\left[ x_1 + x_2 + \\cdots + x_n \\right].\n",
    "$$\n",
    "\n",
    "\n",
    "Write the function `mean(numbers)`: a function that computes the mean of a list of numbers"
   ]
  },
  {
   "cell_type": "code",
   "execution_count": 88,
   "id": "a2752b71",
   "metadata": {},
   "outputs": [
    {
     "data": {
      "text/plain": [
       "100.5"
      ]
     },
     "execution_count": 88,
     "metadata": {},
     "output_type": "execute_result"
    }
   ],
   "source": [
    "def mean(numbers):\n",
    "    \"\"\"\n",
    "    Computes the mean of the `numbers` list using a for loop.\n",
    "    \"\"\"\n",
    "    total = 0\n",
    "    for number in numbers:\n",
    "        total = total + number\n",
    "    return total / len(numbers)  \n",
    "\n",
    "\n",
    "mean([100,101])"
   ]
  },
  {
   "cell_type": "code",
   "execution_count": 89,
   "id": "b582a8bf",
   "metadata": {},
   "outputs": [
    {
     "name": "stdout",
     "output_type": "stream",
     "text": [
      "All tests passed. Good job y'all!\n"
     ]
    }
   ],
   "source": [
    "# TEST CODE (run this code to test you solution)\n",
    "\n",
    "def random_list(n=10, min=0.0, max=100.0):\n",
    "    \"\"\"Returns a list of length `n` of random floats between `min` and `max`.\"\"\"\n",
    "    import random\n",
    "    values = []\n",
    "    for i in range(n):\n",
    "        r = random.random()\n",
    "        value = min + r*(max-min)\n",
    "        values.append(value)\n",
    "    return values\n",
    "\n",
    "\n",
    "def test_mean(function):\n",
    "    \"\"\"\n",
    "    Run a few lists to check if value returned by `function` matches expected.\n",
    "    \"\"\"\n",
    "    import math, statistics\n",
    "    assert function([1,1,1]) == 1\n",
    "    assert function([61,72,85,92]) == 77.5\n",
    "    list10 = random_list(n=10)\n",
    "    assert math.isclose(function(list10), statistics.mean(list10))\n",
    "    list100 = random_list(n=100)\n",
    "    assert math.isclose(function(list100), statistics.mean(list100))\n",
    "    print(\"All tests passed. Good job y'all!\")\n",
    "\n",
    "\n",
    "# RUN TESTS\n",
    "test_mean(mean)"
   ]
  },
  {
   "cell_type": "code",
   "execution_count": 90,
   "id": "c545155f",
   "metadata": {},
   "outputs": [
    {
     "data": {
      "text/plain": [
       "False"
      ]
     },
     "execution_count": 90,
     "metadata": {},
     "output_type": "execute_result"
    }
   ],
   "source": [
    "(1 + 1e-15)  ==  1 "
   ]
  },
  {
   "cell_type": "code",
   "execution_count": 91,
   "id": "41655d45",
   "metadata": {},
   "outputs": [
    {
     "data": {
      "text/plain": [
       "True"
      ]
     },
     "execution_count": 91,
     "metadata": {},
     "output_type": "execute_result"
    }
   ],
   "source": [
    "import math\n",
    "math.isclose(1 + 1e-10, 1)"
   ]
  },
  {
   "cell_type": "code",
   "execution_count": null,
   "id": "898cdb91",
   "metadata": {},
   "outputs": [],
   "source": []
  },
  {
   "cell_type": "markdown",
   "id": "b7ba0463-a0dd-4b80-b0a9-eae8d9627e92",
   "metadata": {},
   "source": [
    "#### Question 2: Sample standard deviation\n",
    "\n",
    "The formula for the sample standard seviation of a list of numbers is:\n",
    "$$\n",
    "    \\text{std}(\\textbf{x}) = s\n",
    "    = \\sqrt{ \\tfrac{1}{n-1}\\sum_{i=1}^n (x_i-\\overline{x})^2 }\n",
    "    = \\sqrt{ \\tfrac{1}{n-1}\\left[ (x_1-\\overline{x})^2 + (x_2-\\overline{x})^2 + \\cdots + (x_n-\\overline{x})^2\\right]}.\n",
    "$$\n",
    "\n",
    "Note the division is by $(n-1)$ and not $n$. Strange, no? You'll have to wait until stats to see why this is the case.\n",
    "\n",
    "Write `compute_std(numbers)`: computes the sample standard deviation"
   ]
  },
  {
   "cell_type": "code",
   "execution_count": 92,
   "id": "d9a96ad2",
   "metadata": {},
   "outputs": [
    {
     "data": {
      "text/plain": [
       "29.011491975882016"
      ]
     },
     "execution_count": 92,
     "metadata": {},
     "output_type": "execute_result"
    }
   ],
   "source": [
    "import math\n",
    "\n",
    "def std(numbers):\n",
    "    \"\"\"\n",
    "    Computes the sample standard deviation (square root of the sample variance)\n",
    "    using a for loop.\n",
    "    \"\"\"\n",
    "    avg = mean(numbers) \n",
    "    total = 0\n",
    "    for number in numbers:\n",
    "        total = total + (number-avg)**2\n",
    "    var = total/(len(numbers)-1)    \n",
    "    return math.sqrt(var)\n",
    "\n",
    "numbers = list(range(0,100))\n",
    "std(numbers)"
   ]
  },
  {
   "cell_type": "code",
   "execution_count": 93,
   "id": "f3dedc7e",
   "metadata": {},
   "outputs": [
    {
     "data": {
      "text/plain": [
       "29.011491975882016"
      ]
     },
     "execution_count": 93,
     "metadata": {},
     "output_type": "execute_result"
    }
   ],
   "source": [
    "# compare to known good function...\n",
    "import statistics\n",
    "statistics.stdev(numbers)"
   ]
  },
  {
   "cell_type": "code",
   "execution_count": 94,
   "id": "85d86f5d",
   "metadata": {},
   "outputs": [
    {
     "name": "stdout",
     "output_type": "stream",
     "text": [
      "All tests passed. Good job y'all!\n"
     ]
    }
   ],
   "source": [
    "# TEST CODE (run this code to test you solution)\n",
    "\n",
    "def test_std(function):\n",
    "    \"\"\"\n",
    "    Run a few lists to check if value returned by `function` matches expected.\n",
    "    \"\"\"\n",
    "    import math, statistics\n",
    "    assert function([1,1,1]) == 0\n",
    "    assert math.isclose(function([61,72,85,92]), 13.771952173409064)\n",
    "    list10 = random_list(n=10)\n",
    "    assert math.isclose(function(list10), statistics.stdev(list10))\n",
    "    list100 = random_list(n=100)\n",
    "    assert math.isclose(function(list100), statistics.stdev(list100))\n",
    "    print(\"All tests passed. Good job y'all!\")\n",
    "\n",
    "\n",
    "# RUN TESTS\n",
    "test_std(std)"
   ]
  },
  {
   "cell_type": "code",
   "execution_count": null,
   "id": "45e1a6c2",
   "metadata": {},
   "outputs": [],
   "source": []
  },
  {
   "cell_type": "markdown",
   "id": "b86d8ef3",
   "metadata": {},
   "source": [
    "#### Exercise 2\n",
    "\n",
    "Write a Python function called `temp_convert` that converts C to F"
   ]
  },
  {
   "cell_type": "code",
   "execution_count": 95,
   "id": "78964c7e",
   "metadata": {},
   "outputs": [],
   "source": [
    "import math\n",
    "def temp_convert(temp_C):\n",
    "    \"\"\"\n",
    "    Convert the temprate temp_C to temp_F.\n",
    "    \"\"\"\n",
    "    pass\n",
    "\n"
   ]
  },
  {
   "cell_type": "markdown",
   "id": "add18ef9",
   "metadata": {},
   "source": []
  },
  {
   "cell_type": "markdown",
   "id": "b71992fd-c675-4da5-8ba5-12853290d10c",
   "metadata": {},
   "source": [
    "### Exercise 4"
   ]
  },
  {
   "cell_type": "code",
   "execution_count": 96,
   "id": "1a0aeed1",
   "metadata": {},
   "outputs": [],
   "source": [
    "import random\n",
    "def roll_die():\n",
    "    value = random.randint(1, 6)\n",
    "    return value"
   ]
  },
  {
   "cell_type": "code",
   "execution_count": 97,
   "id": "d76eaa2a",
   "metadata": {},
   "outputs": [
    {
     "data": {
      "text/plain": [
       "1"
      ]
     },
     "execution_count": 97,
     "metadata": {},
     "output_type": "execute_result"
    }
   ],
   "source": [
    "roll_die()"
   ]
  },
  {
   "cell_type": "code",
   "execution_count": 98,
   "id": "05c4361a",
   "metadata": {},
   "outputs": [],
   "source": [
    "for n in range(0,10000):\n",
    "    if roll_die() not in [1,2,3,4,5,6]:\n",
    "        print(\"error\")"
   ]
  },
  {
   "cell_type": "markdown",
   "id": "e3b1946f-3a5e-439a-9644-2efa7585b415",
   "metadata": {},
   "source": [
    "## Example function `head`\n",
    "\n",
    "We often want to print first few lines from a file to see what data it contains."
   ]
  },
  {
   "cell_type": "markdown",
   "id": "f879c77d-8472-4710-8ce8-af142093df68",
   "metadata": {},
   "source": [
    "## Lambda functions\n",
    "\n",
    "\n",
    "\n"
   ]
  },
  {
   "cell_type": "markdown",
   "id": "28b2078e-80d8-42ac-b247-67f8709d32e1",
   "metadata": {},
   "source": [
    "# Dictionaries and other data structures\n",
    "\n",
    "- Dictionaries\n",
    "- Sets\n",
    "- Tuples (use for swap operation)"
   ]
  },
  {
   "cell_type": "code",
   "execution_count": null,
   "id": "e8e2a019-417a-4004-b139-ba806ab47838",
   "metadata": {},
   "outputs": [],
   "source": []
  },
  {
   "cell_type": "markdown",
   "id": "5c9487e0-4aab-43cb-8723-d08c9d7216fd",
   "metadata": {},
   "source": [
    "# Objects and classes\n",
    "\n",
    "- object = general purpose data structure\n",
    "- attributes\n",
    "- methods\n",
    "- Application: custom interval class"
   ]
  },
  {
   "cell_type": "code",
   "execution_count": null,
   "id": "bdf730a4-ff33-4c88-b860-11351404fb32",
   "metadata": {},
   "outputs": [],
   "source": []
  },
  {
   "cell_type": "markdown",
   "id": "4da01409-9022-491a-a4b8-244383d8c901",
   "metadata": {},
   "source": [
    "# Python syntax review\n",
    "\n",
    "- Square brackets `[]` are used for:\n",
    "  - defining lists: `list = [1, 2, 3]`\n",
    "  - list indexing: `ages[3] = 29`\n",
    "  - dict indexing = `__getitem__` or `__setitem__`\n",
    "  - slicing\n",
    "\n",
    "\n",
    "- Round brackets `()` are used for:\n",
    "  - defining tuples: `(1, 2, 3)`\n",
    "  - enforcing operation precedence: `result = (x + y) * z`\n",
    "  - defining functions\n",
    "  - calling functions\n",
    "  - defining class\n",
    "  - creating object\n",
    "\n",
    "\n",
    "- Accolades `{}`\n",
    "  - define dict literals\n",
    "  - define sets\n",
    "\n",
    "\n",
    "- Quotes `\"` and `'` \n",
    "  - define string literals\n",
    "  - note raw string variant `r\"...\"` also exists\n",
    "\n",
    "\n",
    "- Triple quotes `\"\"\"` and `'''`\n",
    "  - long string literals entire paragraphs\n",
    "\n",
    "\n",
    "- Hash symbol `#`\n",
    "  - comment\n",
    "\n",
    "\n",
    "- colon `:`\n",
    "  - key: value separator in dict literals\n",
    "  - signal beginning of indented block\n",
    "  - slice of indices `0:3` (first four items)\n",
    "\n",
    "\n",
    "- period `.`\n",
    "  - decimal separator for floating point literals\n",
    "  - access object attributes\n",
    "  - access object methods\n",
    "\n",
    "\n",
    "- comma `,`\n",
    "  - element separator in lists, tuples, dicts\n",
    "  - separate function arguments\n",
    "\n",
    "\n",
    "- asterisk `*`\n",
    "  - multiplication\n",
    "  - (advanced) unpack elements of a list\n",
    "\n",
    "\n",
    "- double asterisk `**`\n",
    "  - exponent\n",
    "  - (advanced) unpack elements of a dict\n",
    "\n",
    "\n",
    "- equal sign `=`\n",
    "  - assignment\n",
    "  - define default keyword argument\n",
    "  - pass keyword arguments\n",
    "\n",
    "\n",
    "- semicolon `;`\n",
    "  - allows to put multiple Python commands on single line\n",
    "  - rarely used\n",
    "\n",
    "\n",
    "\n",
    "### Python keywords\n",
    "\n",
    "Here is a list of reserved keywords in Python:\n",
    "\n",
    "    False      class      finally    is         return\n",
    "    None       continue   for        lambda     try\n",
    "    True       def        from       nonlocal   while\n",
    "    and        del        global     not        with\n",
    "    as         elif       if         or         yield\n",
    "    assert     else       import     pass\n",
    "    break      except     in         raise\n",
    "\n"
   ]
  },
  {
   "cell_type": "markdown",
   "id": "f9c1faab-f572-4d05-bf4e-89a1cad27474",
   "metadata": {},
   "source": [
    "# Bonus topics\n",
    "\n",
    "- writing standalone scripts (`argparse`, example: turn `head` into script)\n",
    "- `functools.partial` for currying functions (e.g sample-generator callables)\n",
    "- ???generic functions `*args` and `**kwargs`\n",
    "- Reading and writing files https://python-textbok.readthedocs.io/en/1.0/Python_Basics.html#files\n",
    "\n"
   ]
  },
  {
   "cell_type": "markdown",
   "id": "802c696b-c4f4-4e52-be4c-6b64066c7b84",
   "metadata": {},
   "source": [
    "# Python libraries and modules\n",
    "\n",
    "Everything we discussed so far was using the Python built-in functions and data types,\n",
    "but that is only a small subset of all the functionality available when using Python.\n",
    "There are hundreds of Python libraries and modules that provide additional functions and data types\n",
    "for all kinds of applications. \n",
    "There are Python modules for processing different data files, making web requests, performing computations, etc.\n",
    "The list is almost endless,\n",
    "and the vast number of libraries and frameworks is all available to you behind a simple `import` statement."
   ]
  },
  {
   "cell_type": "markdown",
   "id": "88f053a7-fe59-4b30-84d6-d4d7603ff612",
   "metadata": {},
   "source": [
    "## The `import` statement \n",
    "\n",
    "We use the `import` statement to load a python module and make it available in the current context.\n",
    "The code below shows how to import the module `<mod>` in the current notebook.\n",
    "```Python\n",
    "import <mod>\n",
    "```\n",
    "After this statement, we can now use the functions in the module `<mod>` by calling them using the prefix `<mod>.`,\n",
    "which is called the \"dot notation\" for accessing within the namespace `<mod>`.\n",
    "\n",
    "For example, let's import the statistics module and use the function `statistics.mean` to compute the mean of three numbers."
   ]
  },
  {
   "cell_type": "code",
   "execution_count": 99,
   "id": "fac4bab4-c52e-49c5-9a80-ae5484649da4",
   "metadata": {},
   "outputs": [
    {
     "data": {
      "text/plain": [
       "3"
      ]
     },
     "execution_count": 99,
     "metadata": {},
     "output_type": "execute_result"
    }
   ],
   "source": [
    "import statistics\n",
    "\n",
    "statistics.mean([1,2,6])"
   ]
  },
  {
   "cell_type": "markdown",
   "id": "b60fd217-1f5a-4cc8-9702-73b96a5175af",
   "metadata": {},
   "source": [
    "A very common trick you'll see in Python notebooks,\n",
    "is to import python modules under an \"alias\" name,\n",
    "which is usually a shorter name that is faster to type.\n",
    "\n",
    "The alias-import statement looks like this:\n",
    "```Python\n",
    "import <mod> as <alias>\n",
    "```\n",
    "\n",
    "For example, let's import the statistics module under the alias `stats` and repeat the mean calculation we saw above."
   ]
  },
  {
   "cell_type": "code",
   "execution_count": 100,
   "id": "4c382060-350b-425a-a28c-e39704949454",
   "metadata": {},
   "outputs": [
    {
     "data": {
      "text/plain": [
       "3"
      ]
     },
     "execution_count": 100,
     "metadata": {},
     "output_type": "execute_result"
    }
   ],
   "source": [
    "import statistics as stats\n",
    "\n",
    "stats.mean([1,2,6])"
   ]
  },
  {
   "cell_type": "markdown",
   "id": "14f99427-2869-48ed-a38a-b9110f3cea3a",
   "metadata": {},
   "source": [
    "As you can imagine,\n",
    "if you're writing some Python code that requires calling a lot of statistics calculations,\n",
    "you'll appreciate the alias-import statement,\n",
    "since you call `stats.mean` and `stats.median` instead of having to type the\n",
    "full module name each time, `statistics.mean` and `statistics.median`."
   ]
  },
  {
   "cell_type": "markdown",
   "id": "e19f1bdb-c36d-41f9-b4b3-0422ab1288d1",
   "metadata": {},
   "source": [
    "## The standard library\n",
    "\n",
    "The [Python standard library](https://docs.python.org/3/library/) consists of several dozens of Python modules that come bundled with every Python installation.\n",
    "\n",
    "Here are some modules that come in handy.\n",
    "\n",
    "- `math`\n",
    "- `random`\n",
    "- `statistics`\n",
    "- `re` \n",
    "- `datetime`\n",
    "- `urllib.parse`\n",
    "- `json`, `csv`, `os.path`, \n",
    "- `functools`\n",
    "\n",
    "\n",
    "There are also a few libraries that are not part of the standard library,\n",
    "but almost as important:\n",
    "- `requests` download stuff from the web"
   ]
  },
  {
   "cell_type": "markdown",
   "id": "1d269503-8bc1-46e9-ac8c-44c2dbc63345",
   "metadata": {},
   "source": [
    "## Installing Python packages with `pip`\n",
    "\n",
    "TODO\n"
   ]
  },
  {
   "cell_type": "markdown",
   "id": "353c4153-4a8f-4512-88d7-a62bd125766b",
   "metadata": {},
   "source": [
    "## Scientific computing libraries\n",
    "\n",
    "\n",
    "### NumPy\n",
    "Numerical Python (NumPy) is a library that provides high-performance arrays and matrices. NumPy arrays allow mathematical operations to run very fast, which is important when working with medium- and large- datasets.\n",
    "\n",
    "#### Example: `linspace` and other numerical calculations\n",
    "\n",
    "\n",
    "### SciPy\n",
    "Scientific Python (SciPy) is a library that provides most common algorithms and special functions used by scientists and engineers. See https://scipy-lectures.org/\n",
    "\n",
    "\n",
    "### SymPy\n",
    "Symbolic math expressions.\n",
    "See [sympy_tutorial.pdf](https://minireference.com/static/tutorials/sympy_tutorial.pdf).\n",
    "\n",
    "### Matplotlib\n",
    "Powerful library for plotting points, lines, and other graphs.\n",
    "\n",
    "#### Examples: how to create reusable functions for plotting probability distributions\n",
    "- `plot_pdf_and_cdf`\n",
    "- `calc_prob_and_plot`\n",
    "- `calc_prob_and_plot_tails`\n"
   ]
  },
  {
   "cell_type": "code",
   "execution_count": null,
   "id": "ccb53f2d-1c37-40dc-b91e-29d56b4eeb9c",
   "metadata": {},
   "outputs": [],
   "source": []
  },
  {
   "cell_type": "markdown",
   "id": "d95ce302-0a66-4dff-b056-d24227e1dc42",
   "metadata": {},
   "source": [
    "## Data science libraries\n",
    "- `pandas` library for tabular data (See [pandas_tutorial.ipynb](./pandas_tutorial.ipynb) notebook)\n",
    "- `statsmodels` models for linear regression and other\n",
    "\n",
    "- `seaborn` high-level library for statistical plots (See [seaborn_tutorial.ipynb](./seaborn_tutorial.ipynb) notebook).\n",
    "- `plotnine` another high-level library for data visualization base don the grammar of graphics principles\n",
    "- `scikit-learn` tools and algorithms for machine learning\n"
   ]
  },
  {
   "cell_type": "markdown",
   "id": "38a6ce9d-14fd-4524-a0fc-37d61ea61e7f",
   "metadata": {},
   "source": [
    "# Discussion"
   ]
  },
  {
   "attachments": {
    "d41cd497-3947-46de-8aee-5bfee616a406.png": {
     "image/png": "[encoded data removed]"
    },
    "f082c596-74ed-47c2-9081-8faf2984ccb2.png": {
     "image/png": "[encoded data removed]"
    }
   },
   "cell_type": "markdown",
   "id": "f0a8d080-8801-4366-b0e9-d02c74ce962b",
   "metadata": {},
   "source": [
    "Let's go over some of the things we skipped in the tutorial,\n",
    "because they were not essential for getting started.\n",
    "Now that you know a little bit about Python,\n",
    "it's worth mentioning some of these details,\n",
    "since it's useful context to see how this \"Python calculator\" business works.\n",
    "I also want to tell you about some of the cool Python applications\n",
    "you can look forward to if you choose to develop your Python skills further.\n",
    "\n",
    "\n",
    "## Running Python code interactively\n",
    "\n",
    "Notebooks are an example of \"interactive\" use of the Python interpreter.\n",
    "You enter some commands `2+3` in a code cell,\n",
    "press SHIFT+ENTER to run the code,\n",
    "and you see the result.\n",
    "\n",
    "There are several different ways you can access the Python interpreter.\n",
    "\n",
    "- `python` shell.\n",
    "  This is what you get in you install Python on your computer.\n",
    "  You can open a command prompt (terminal or cmd.exe) and type in the\n",
    "  command `python` to start the interactive Python shell.\n",
    "\n",
    "    ```\n",
    "    > python\n",
    "    Python 3.6.9 (default, Oct  6 2019, 21:40:49)\n",
    "    [GCC 4.2.1 Compatible Apple LLVM 9.1.0 (clang-902.0.39.1)] on darwin\n",
    "    Type \"help\", \"copyright\", \"credits\" or \"license\" for more information.\n",
    "    >>> 2+3\n",
    "    5\n",
    "    >>> \n",
    "    ```\n",
    "\n",
    "- `ipython` shell.\n",
    "   This is a fancier shell with line numbering and\n",
    "   many helpful commands.\n",
    "    ```\n",
    "    > ipython\n",
    "    Python 3.6.9 (default, Oct  6 2019, 21:40:49)\n",
    "    Type 'copyright', 'credits' or 'license' for more information\n",
    "    IPython 7.13.0 -- An enhanced Interactive Python. Type '?' for help.\n",
    "\n",
    "    In [1]: 2+3\n",
    "    Out[1]: 5\n",
    "\n",
    "    In [2]: \n",
    "    ```\n",
    "\n",
    "- Jupyter notebooks are web-based coding environments that allow you\n",
    "  to mix code cells and Markdown cells to create \"code documents.\"\n",
    "  Notebook files have an extension `.ipynb` and can be created using JupyterLab.\n",
    "  Several other systems like nbviewer, GitHub, VSCode, Google Colab,\n",
    "  can also be used \"open\" notebooks for viewing and \"run\" the notebooks interactively.  \n",
    "  <img src=\"attachment:f082c596-74ed-47c2-9081-8faf2984ccb2.png\" width=\"300\" alt=\"jupter-code-cell\">\n",
    "\n",
    "- Colab notebooks.\n",
    "  Google operates a service called \"Google Colaboratory\" (Colab for short)\n",
    "  that allows you to run Python code as Colab notebooks.\n",
    "  <img src=\"attachment:d41cd497-3947-46de-8aee-5bfee616a406.png\" width=\"200\" alt=\"colab code cell\">\n",
    "\n",
    "Note the \"Python calculator\" functionality works the same way in each case.\n",
    "The basic Python shell, the fancy `ipython` shell, and the notebook interface\n",
    "all offer a place to input your commands,\n",
    "they READ your command input,\n",
    "EVALUATE them (i.e. run them),\n",
    "PRINT the output of the commands execution.\n",
    "At the end of the READ-EVAL-PRINT steps,\n",
    "the Python in interpreter goes back into \"listening mode\" \n",
    "waiting for your next command input.\n",
    "\n",
    "The overall behaviour of the Python interpreter is an example of the\n",
    "READ-EVAL-PRINT Loop (REPL) that appears in professional human-computer interfaces.\n",
    "The command line prompt (terminal on UNIX or `cmd.exe` on Windows),\n",
    "database prompts,\n",
    "the JavaScript console in your browser,\n",
    "the Ruby interactive console `irb`,\n",
    "and any other interface which accepts commands.\n",
    "\n",
    "Given this multitude of choices,\n",
    "we've opted to use a Jypyter notebook to present this tutorial.\n",
    "Keep in mind you could run all the code examples in python shell,\n",
    "or ipython shell, or as a Colab notebook.\n",
    "\n",
    "While we're on the topic of running Python code,\n",
    "let's briefly mention the other ways Python applications can operate.\n",
    "This is completely out of scope for the remainder of the discussion in this tutorial,\n",
    "since we're just using Python as a fancy calculator,\n",
    "but I though I'd mention some of the other uses of Python codes."
   ]
  },
  {
   "cell_type": "markdown",
   "id": "86279f2e-67c0-4646-8853-6717e710f92c",
   "metadata": {
    "tags": []
   },
   "source": [
    "## Python applications\n",
    "\n",
    "Python is not just a calculator.\n",
    "Python can also be used for non-interactive programs and services.\n",
    "Python is a general-purpose programming language so it enables a lot of applications. The list below talks about some areas where Python programming is currently being used.\n",
    "\n",
    "- command line scripts: you can put commands line scrips are written in Python,\n",
    "  then run them on the command line (terminal on UNIX or or `cmd.exe` on Windows).\n",
    "  For example, you can download any video from YouTube by running the command\n",
    "  `youtube-dl <youtube_url>`.\n",
    "  If all you want is the audio, you can use some command-line options to specify \n",
    "  `youtube-dl --extract-audio --audio-format mp3 <youtube_url>` to extract the\n",
    "  audio track from the youtube video and save it as an mp3.\n",
    "  The author uses this type of command daily to make local copies of songs\n",
    "  to listen to them offline.\n",
    "\n",
    "- graphical user interface (GUI) programs: many desktop applications are written in Python.\n",
    "  An example of a graphical, point-and-click application written in Python is `Calibre`,\n",
    "  which is a powerful eBook management library and eBook reader and eBook converter,\n",
    "  that supports all imaginable eBook formats.\n",
    "\n",
    "- web applications: the Django and Flask frameworks are often used to build web applications.\n",
    "  Many of the websites you access every day have as server component written in Python.\n",
    "\n",
    "- machine learning systems: create task-specific functions by using probabilistic models instead of code. Machine learning models undergo a training stage in which the model parameters are \"learned\" from the training data examples, after which the model can be queried to make predictions. \n",
    "\n",
    "\n",
    "\n",
    "\n",
    "\n",
    "I mention these examples so you'll know the other possibilities enabled by Python,\n",
    "beyond the basic \"use Python interactively like a calculator\" code examples\n",
    "that you'll show in the rest of this tutorial.\n",
    "There is a lot of useful stuff"
   ]
  },
  {
   "cell_type": "markdown",
   "id": "5b180a3c-5e17-43ca-9b3c-96034ac3c081",
   "metadata": {},
   "source": [
    "## Python programming\n",
    "\n",
    "Coding a.k.a. programming, software engineering, or software development is a broad topic,\n",
    "which is out of scope for this short tutorial.\n",
    "If you're interested to learn more about coding,\n",
    "see the article [What is code?](https://www.bloomberg.com/graphics/2015-paul-ford-what-is-code/) by Paul Ford.\n",
    "Think mobile apps, web apps, APIs, algorithms, CPUs, GPUs, TPUs, SysOps, etc.\n",
    "There is a lot to learn about applications enabled by learning basic coding skills,\n",
    "it's almost like reading and writing skills.\n",
    "\n",
    "Learning programming usually takes several years,\n",
    "but you don't need to become a professional coder to start using Python for simple tasks,\n",
    "the same way you don't need to become a professional author to use writing for everyday tasks."
   ]
  },
  {
   "cell_type": "code",
   "execution_count": null,
   "id": "42bec6ca-5a1d-469c-8652-01c7effe04c3",
   "metadata": {},
   "outputs": [],
   "source": []
  },
  {
   "cell_type": "markdown",
   "id": "ffcfa40e-f15a-45c4-9cfd-d59c3d6bd7b5",
   "metadata": {},
   "source": [
    "# Links\n",
    "\n",
    "I've collected the best learning resources for Python,\n",
    "which you can use to learn more about Python.\n",
    "\n",
    "\n",
    "## Python cheatsheets\n",
    "\n",
    "- Good quick reference  \n",
    "  https://gto76.github.io/python-cheatsheet/\n",
    "- https://ehmatthes.github.io/pcc_2e/cheat_sheets/cheat_sheets/\n",
    "- https://ipgp.github.io/scientific_python_cheat_sheet/\n",
    "- https://learnxinyminutes.com/docs/python/\n",
    "- https://perso.limsi.fr/pointal/_media/python:cours:mementopython3-english.pdf\n",
    "- https://www.pythoncheatsheet.org/\n",
    "- https://homepage.univie.ac.at/michael.blaschek/media/Cheatsheet_python.pdf\n",
    "- https://cheatsheets.quantecon.org/\n",
    "\n",
    "\n",
    "## Introductions and tutorials\n",
    "\n",
    "- Python tutorial by Russell A. Poldrack  \n",
    "  https://statsthinking21.github.io/statsthinking21-python/01-IntroductionToPython.html\n",
    "\n",
    "- Programming with Python by  Software Carpentry team:  \n",
    "  https://swcarpentry.github.io/python-novice-inflammation/\n",
    "\n",
    "- Official Python tutorial:\n",
    "  https://docs.python.org/3.10/tutorial/\n",
    "\n",
    "- Python glossary:\n",
    "  https://docs.python.org/3.10/glossary.html#glossary\n",
    "\n",
    "- Nice tutorial:  \n",
    "  https://www.pythonlikeyoumeanit.com/\n",
    "\n",
    "- Python data structures  \n",
    "  https://devopedia.org/python-data-structures\n",
    "\n",
    "- Further reading\n",
    "  https://github.com/rasbt/python_reference\n",
    "\n",
    "- https://walkintheforest.com/Content/Introduction+to+Python/%F0%9F%90%8D+Introduction+to+Python\n",
    "\n",
    "- Online tutorial \n",
    "  https://www.kaggle.com/learn/python\n",
    "\n",
    "- Complete list of all the Python builtins  \n",
    "  https://treyhunner.com/2019/05/python-builtins-worth-learning/  \n",
    "  via https://news.ycombinator.com/item?id=30621552\n",
    "\n",
    "\n",
    "\n",
    "\n",
    "## Special topics\n",
    "\n",
    "- Stats-related python functions  \n",
    "  https://www.statology.org/python-guides/\n",
    "\n",
    "- https://github.com/mtlpy/mp-84-atelier/blob/main/ressources.md\n",
    "\n",
    "\n",
    "- Python types (`int`s, `float`s, and `bool`s)    \n",
    "  https://github.com/anthony-agbay/introduction-to-python/blob/main/modules/basic-python-types-ints-floats-bools/basic-python-types-ints-floats-bools.ipynb\n",
    "\n",
    "- Python string operations  \n",
    "  https://github.com/anthony-agbay/introduction-to-python/blob/main/modules/basic-python-types-strings/basic-python-types-strings.ipynb\n",
    "\n",
    "- Scientific computing  \n",
    "  https://devopedia.org/python-for-scientific-computing\n",
    "\n",
    "- about NaNs\n",
    "  https://news.ycombinator.com/item?id=30558690\n",
    "\n",
    "\n",
    "\n",
    "## Books\n",
    "\n",
    "- Python book for beginners ([discussed here](https://news.ycombinator.com/item?id=27141644))  \n",
    "  https://learnpythontherightway.com/\n",
    "\n",
    "- https://automatetheboringstuff.com/\n",
    "\n",
    "- Object-Oriented Programming in Python  \n",
    "  https://python-textbok.readthedocs.io/en/1.0/index.html"
   ]
  },
  {
   "cell_type": "code",
   "execution_count": null,
   "id": "db84e8e5-ff79-43aa-a3bd-a85862945c49",
   "metadata": {},
   "outputs": [],
   "source": []
  }
 ],
 "metadata": {
  "kernelspec": {
   "display_name": "Python 3 (ipykernel)",
   "language": "python",
   "name": "python3"
  },
  "language_info": {
   "codemirror_mode": {
    "name": "ipython",
    "version": 3
   },
   "file_extension": ".py",
   "mimetype": "text/x-python",
   "name": "python",
   "nbconvert_exporter": "python",
   "pygments_lexer": "ipython3",
   "version": "3.9.4"
  },
  "toc-autonumbering": true,
  "toc-showmarkdowntxt": false
 },
 "nbformat": 4,
 "nbformat_minor": 5
}
