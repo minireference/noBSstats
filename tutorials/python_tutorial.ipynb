{
 "cells": [
  {
   "cell_type": "markdown",
   "id": "bbeb5139-9063-431f-a542-9cc550fdf80e",
   "metadata": {},
   "source": [
    "# Appendix C — Python tutorial"
   ]
  },
  {
   "cell_type": "markdown",
   "id": "274ce8cd-0a05-46ba-9464-a2faf3bb47e5",
   "metadata": {},
   "source": [
    "# Python as a fancy calculator"
   ]
  },
  {
   "cell_type": "markdown",
   "id": "fb464c8f-ec24-44fd-8a79-0b5825d6948c",
   "metadata": {},
   "source": [
    "In this tutorial you'll learn the basics of the Python programming language.\n",
    "Don't freak out, this is not a big deal.\n",
    "You're not going to become a programmer or anything,\n",
    "you're just learning how to use Python as *a fancy calculator*."
   ]
  },
  {
   "cell_type": "markdown",
   "id": "ce623593-e1fe-43df-96e1-e3cd697d5539",
   "metadata": {},
   "source": [
    "**Calculator analogy:** \n",
    "Python commands are similar to the commands you give to a calculator.\n",
    "The same way a calculator has different buttons for the various arithmetic operations,\n",
    "the Python language has a number of commands you can \"run\" or \"execute,\"\n",
    "but Python commands are more powerful\n",
    "because you can input multiple lines of Python commands at once.\n",
    "\n",
    "Just like knowing how to use a calculator is helpful for doing lots of arithmetic operations,\n",
    "learning Python is helpful when for describing multi-step procedures (Python programs)."
   ]
  },
  {
   "cell_type": "markdown",
   "id": "8615be8f-f3f2-4c2e-bda6-40460e43ba9b",
   "metadata": {},
   "source": [
    "## Why learn python?\n",
    "\n",
    "Let's use the python-as-a-calculator analogy \n",
    "\n",
    "Python is a really \"basic\" calculator:\n",
    "- expressions\n",
    "- mathematical operations as functions\n",
    "\n",
    "Python allows you to encode entire procedures (multi-step commands):\n",
    "- multi-step procedures\n",
    "- for loops used to repeat a given calculations\n",
    "\n",
    "\n",
    "Python is a an extensible calculator:\n",
    "- custom functions\n",
    "\n",
    "Also particularly good calculator for scientific computations\n",
    "- linear algebra with `numpy` module\n",
    "- optimization etc. using `scipy`\n",
    "- SymPy for symbolic math calculations. Very powerful stuff. See examples of solutions to math problems expressed as sympy commands in this [paper](https://arxiv.org/pdf/2112.15594.pdf#page=11) (see [this video](https://www.youtube.com/watch?v=9JZdAq8poww?t=169) for explainer).\n",
    "\n",
    "Python is also very useful as a graphical calculator:\n",
    "- plot functions\n",
    "- visualize data distributions\n",
    "\n",
    "All in all, learning Python will give you all kinds of options for doing math and science in general."
   ]
  },
  {
   "cell_type": "markdown",
   "id": "41caa150-20ff-46ab-9835-d22188dbfdc8",
   "metadata": {},
   "source": [
    "### Python for statistics\n",
    "\n",
    "Once you learn the basics of Python syntax,\n",
    "you'll have access to the best-in-class tools for\n",
    "data management (Pandas, see [pandas_tutorial.ipynb](./pandas_tutorial.ipynb)),\n",
    "data visualization (Seaborn, see [seaborn_tutorial.ipynb](./seaborn_tutorial.ipynb)),\n",
    "statistics (`scipy` and `statsmodels`),\n",
    "and machine learning (`scikit-learn`, `pytorch`, `huggingface`, etc.).\n",
    "\n",
    "In this tutorial,\n",
    "we'll focus on using Python for data calculations and procedures needed for statistics.\n",
    "Learning a few basic Python constructs like the `for` loop\n",
    "will enable you to simulate frequentist probability calculations\n",
    "and experimentally verify how statistics procedures work.\n",
    "This is a really big deal!\n",
    "If's good to know the statistical formula and recipes,\n",
    "but it's even better when you can run your own simulations and check when the formulas work and when they fail.\n",
    "\n",
    "Don't worry there won't be any advanced math—just sums, products, exponents, logs, and square roots.\n",
    "Nothing fancy, I promise.\n",
    "If you've ever created a formula in a spreadsheet,\n",
    "then you're familiar with all the operations we'll see.\n",
    "In a spreadsheet formula you'd use `SUM(` in Python we write `sum(`.\n",
    "You see, it's nothing fancy.\n",
    "\n",
    "Yes, there will be a lot of code (paragraphs of Python commands) in this tutorial,\n",
    "but you can totally handle this.\n",
    "\n",
    "If you ever start to freak out an think \"OMG this is too complicated!\" remember that Python is just a fancy calculator."
   ]
  },
  {
   "cell_type": "markdown",
   "id": "8663fe03-0f8d-4f61-8f54-3a5d60aac33e",
   "metadata": {},
   "source": [
    "**Overview** of the topics covered:\n",
    "\n",
    "TODO: make an outline using sentences\n",
    "<!--\n",
    "* Introduction\n",
    "* Getting started\n",
    "* Variables and expressions\n",
    "* Getting to know Python\n",
    "* Lists and for loops\n",
    "* Functions\n",
    "* Dictionaries\n",
    "* Other data structures\n",
    "* Objects and classes\n",
    "* Python syntax review\n",
    "* Bonus topics\n",
    "* Python libraries and modules\n",
    "* Links\n",
    "-->\n",
    "After this tutorial, you'll be ready to read the other two:\n",
    "- Pandas (see [pandas_tutorial.ipynb](./pandas_tutorial.ipynb))\n",
    "- Seaborn (see [seaborn_tutorial.ipynb](./seaborn_tutorial.ipynb))  "
   ]
  },
  {
   "cell_type": "markdown",
   "id": "fb80bd30-c442-4477-aa9b-dc20279a4e36",
   "metadata": {
    "tags": []
   },
   "source": [
    "# Getting started\n",
    "\n",
    "\n",
    "## Installing JupyterLab Desktop\n",
    "\n",
    "JupyterLab is a platform for interactive computing that makes it easy to run Python code.\n",
    "You can run JupyterLab on your local computer or on a remote server (mybinder or colab).\n",
    "JupyterLab is based on a notebook interface that allows you to mix text, code, and graphics,\n",
    "which makes it the perfect tool for learning Python.\n",
    "\n",
    "JupyterLab Desktop is a convenient all-in-one application that includes the Python interpreter,\n",
    "JupyterLab user interface, and most of the Python libraries you'll need for data analysis.\n",
    "You can download JupyterLab Desktop from the following page on GitHub:\n",
    "https://github.com/jupyterlab/jupyterlab-desktop#jupyterlab-desktop\n",
    "\n",
    "Choose the download link for your operating system.\n",
    "After the installation completes and you launch the JupyterLab application,\n",
    "you should see a launcher window similar to the one shown below:\n",
    "\n",
    "![](./attachments/jupyter-lab-desktop-launcher.png)\n",
    "\n",
    "Thee JupyterLab interface with the **File browser** shown in the left sidebar.\n",
    "The box labelled (1) indicates the current working directory,\n",
    "and the box labelled (2) shows the list of files in the current directory.\n",
    "The launcher window allows you to create new notebooks, labelled (3),\n",
    "with other options being Python console, terminal, text files, etc.\n",
    "The left sidebar currently shows the file browser,\n",
    "but it can also be used to show **Running Kernels** (4)\n",
    "or the **Table of Contents** (5) of the current notebook.\n",
    "\n",
    "\n",
    "Use the **Python 3 (ipykernel)** button under the to launch a new Python 3 notebook.\n",
    "A notebook consists of a sequence of cells,\n",
    "similar to how a text document consists of a series of paragraphs.\n",
    "The new document you created currently has a single empty code cell,\n",
    "which is ready to accept Python commands.\n",
    "Type in the expression `2 + 3` (without the quotes) into the cell\n",
    "then press SHIFT+ENTER to run the code.\n",
    "You should see the result of the calculation displayed immediately in the output cell,\n",
    "and the cursor will move to a new input cell.\n",
    "\n",
    "![](./attachments/jupyter-lab-first-notebook.png)\n",
    "\n",
    "A notebook with a code cell and its output labelled (1).\n",
    "The cursor is currently in the cell labelled (2).\n",
    "The the tab name labelled (3) shows the filename of this notebook is `Untitled.ipynb`.\n",
    "The buttons labelled (4) control the notebook execution: run, stop, restart, and run all.\n",
    "The dropdown (5) changes the current cell between Python code and Markdown text.\n",
    "There are many notebook features you can learn about over time,\n",
    "but you don't need any of these advanced features when getting started.\n",
    "You just want an easy way to run Python code,\n",
    "so you can try the experiment with the code blocks you'll see throughout the rest of the book.\n",
    "\n",
    "Try some Python commands to get a feeling of how notebooks work.\n",
    "Remember to use SHIFT + ENTER to run the code.\n",
    "\n",
    "I encourage you to play around with the notebook interface,\n",
    "in particular the buttons labeled (4) and (5).\n",
    "Try clicking on the notebook execution control buttons (4) to see what they do.\n",
    "The play button is equivalent to pressing SHIFT + ENTER.\n",
    "The stop button can be used to interrupt a computation that takes too long.\n",
    "The restart and run-all buttons are useful when you want to re-run all the cells from scratch.\n",
    "The dropdown (5) allows you to change the type of the current cell between code and Markdown text.\n",
    "Markdown is a simple text format that allows you to create headings (section titles, subtitles, etc) and math equations.\n",
    "Mixing Markdown cells and code cells is a great way to organize your statistical analysis notebooks\n",
    "to create a coherent narrative.\n",
    "\n",
    "\n",
    "\n",
    "\n",
    "\n",
    "\n",
    "- TODO: Import screenshots from Sec 1.2\n",
    "- JupyterLab UI: file browser, notebooks, code cells, Markdown cells\n",
    "- Alternative: run JupyterLab instance in the cloud via mybinder\n"
   ]
  },
  {
   "cell_type": "markdown",
   "id": "bef4b786-c7ab-4a5c-822a-0dea036071c1",
   "metadata": {},
   "source": [
    "### Code cells contain Python commands\n",
    "\n",
    "The Python command prompt (each of the code cells in this notebook)\n",
    "allows you to enter Python commands and \"run\" them by pressing SHIFT + ENTER,\n",
    "or by clicking the play button in the toolbar.\n",
    "\n",
    "For example,\n",
    "you can make Python compute the sum of two numbers by entering `2+3` in a code cell,\n",
    "then pressing SHIFT + ENTER."
   ]
  },
  {
   "cell_type": "code",
   "execution_count": 1,
   "id": "aee41fcb-590e-46c1-9a78-a42123e8039f",
   "metadata": {},
   "outputs": [
    {
     "data": {
      "text/plain": [
       "5"
      ]
     },
     "execution_count": 1,
     "metadata": {},
     "output_type": "execute_result"
    }
   ],
   "source": [
    "2 + 3"
   ]
  },
  {
   "cell_type": "markdown",
   "id": "c04a2057-1046-4078-a193-3e0d31c28493",
   "metadata": {},
   "source": [
    "In the above code cell, the input is the expression `2 + 3` (the sum of two integers),\n",
    "and the output is printed below.\n",
    "\n",
    "Let's now compute a more complicated math expression $(1+4)^2 - 3$,\n",
    "which is equivalent to the following Python expression:"
   ]
  },
  {
   "cell_type": "code",
   "execution_count": 2,
   "id": "5a6aed0f-42af-4d97-948e-d5ead5a03dcc",
   "metadata": {},
   "outputs": [
    {
     "data": {
      "text/plain": [
       "22"
      ]
     },
     "execution_count": 2,
     "metadata": {},
     "output_type": "execute_result"
    }
   ],
   "source": [
    "(1+4)**2 - 3"
   ]
  },
  {
   "cell_type": "markdown",
   "id": "719096a2-490a-45e1-85ba-f7503a384f0b",
   "metadata": {},
   "source": [
    "The Python syntax for math operations is identical to the notation we use in math:\n",
    "addition is `+`, subtraction is `-`, multiplication is `*`, division is `/`.\n",
    "The syntax for writing exponents is a little unusual, using two asterisks: $a^n$ = `a**n`."
   ]
  },
  {
   "cell_type": "markdown",
   "id": "4a483666-7524-47bc-8c37-5ade0bf6baa3",
   "metadata": {},
   "source": [
    "When you run a code cell,\n",
    "you're telling the computer to \"evaluate\" the Python instructions it contains.\n",
    "Python then prints the result of the expression in the output cell.\n",
    "\n",
    "Running a code cell is similar to using the EQUALS button on the calculator:\n",
    "whatever math expression you entered, the calculator will compute its value and display it as the output.\n",
    "The process is identical when you execute some Python code,\n",
    "but you're allowed to input multiple lines of commands at once.\n",
    "The computer will execute the lines of code one by one in the order it sees them.\n",
    "\n",
    "The result of final calculation in the cell gets automatically printed as the output, right below the input cell. This makes it easy and fun to explore and \"poke around\" each example given in this notebook."
   ]
  },
  {
   "cell_type": "markdown",
   "id": "7cc40c9c-1d3d-4afe-b3d4-24e770ee36b1",
   "metadata": {},
   "source": [
    "#### Your turn! to try this...\n",
    "\n",
    "Try typing in some Python code in this cell. If you've been simply reading until now, this is your chance to switch to \"active\" mode.\n",
    "\n",
    "If you're reading this online at [noBSstats.com](https://nobsstats.com/tutorials/python_tutorial.html), you can use the rocket-button in the top right of the menu at the top, and choose the `Live Code` option to make all the cells in this notebook interactive, then you can try modifying any of the above Python commands to calculate different expressions."
   ]
  },
  {
   "cell_type": "markdown",
   "id": "ff14e218-8887-4ee3-99d3-ad5203ca75dc",
   "metadata": {},
   "source": [
    " "
   ]
  },
  {
   "cell_type": "markdown",
   "id": "79f306e8-dd3a-4db5-94a8-1a4aa0ba4102",
   "metadata": {},
   "source": [
    "<a id=\"vars_and_expr\"></a>\n",
    "# Expressions and variables\n",
    "\n",
    "Python programming involves computing python expressions and manipulating the data stored in variables.\n",
    "It's time to learn about Python expressions and variables,\n",
    "starting with expressions."
   ]
  },
  {
   "cell_type": "markdown",
   "id": "665e4567-4fc1-4e0e-b49a-38ac3a543d2d",
   "metadata": {},
   "source": [
    "## Python expressions\n",
    "\n",
    "Let's start by showing some examples of Python expression."
   ]
  },
  {
   "cell_type": "code",
   "execution_count": 3,
   "id": "5a9ba864-b931-4b4f-9eba-853c528f9067",
   "metadata": {},
   "outputs": [
    {
     "data": {
      "text/plain": [
       "5"
      ]
     },
     "execution_count": 3,
     "metadata": {},
     "output_type": "execute_result"
    }
   ],
   "source": [
    "2+3"
   ]
  },
  {
   "cell_type": "code",
   "execution_count": 4,
   "id": "2b0bea6d-7e48-4c6a-a52c-4c7876fa22bc",
   "metadata": {},
   "outputs": [
    {
     "data": {
      "text/plain": [
       "'Hello world'"
      ]
     },
     "execution_count": 4,
     "metadata": {},
     "output_type": "execute_result"
    }
   ],
   "source": [
    "\"Hello \" + \"world\""
   ]
  },
  {
   "cell_type": "code",
   "execution_count": 5,
   "id": "c40d6bfa-9704-4197-a5ae-2eadf21cd904",
   "metadata": {},
   "outputs": [
    {
     "data": {
      "text/plain": [
       "str"
      ]
     },
     "execution_count": 5,
     "metadata": {},
     "output_type": "execute_result"
    }
   ],
   "source": [
    "type(\"hello\")"
   ]
  },
  {
   "cell_type": "code",
   "execution_count": 6,
   "id": "f8119b12-a593-48c2-b35f-6c6e8155c75b",
   "metadata": {},
   "outputs": [
    {
     "data": {
      "text/plain": [
       "'The sum is 5'"
      ]
     },
     "execution_count": 6,
     "metadata": {},
     "output_type": "execute_result"
    }
   ],
   "source": [
    "\"The sum is \" + str(2+3)"
   ]
  },
  {
   "cell_type": "markdown",
   "id": "13e413d7-ea52-4324-ae42-5dca9fc56a76",
   "metadata": {},
   "source": [
    "Here are two examples that involve list expressions (to be discussed later)."
   ]
  },
  {
   "cell_type": "code",
   "execution_count": 2,
   "id": "82a01e67-d23b-49f7-b29f-68fae23353c7",
   "metadata": {},
   "outputs": [
    {
     "data": {
      "text/plain": [
       "[1, 2, 3]"
      ]
     },
     "execution_count": 2,
     "metadata": {},
     "output_type": "execute_result"
    }
   ],
   "source": [
    "[1,2,3]"
   ]
  },
  {
   "cell_type": "code",
   "execution_count": 8,
   "id": "06933255-a951-4e61-a9d2-a45f24eb1abb",
   "metadata": {},
   "outputs": [
    {
     "data": {
      "text/plain": [
       "3"
      ]
     },
     "execution_count": 8,
     "metadata": {},
     "output_type": "execute_result"
    }
   ],
   "source": [
    "len([1,2,3])"
   ]
  },
  {
   "cell_type": "markdown",
   "id": "5cad1008-d83b-4e65-974b-43027c21783c",
   "metadata": {},
   "source": [
    "In a notebook, the last expression in the code cell will be printed automatically.\n",
    "\n",
    "If you want to print the value of some variable, we normally need to use the `print` function (to be discussed later), but when working in a notebook interface, we don't need to do that since \n",
    "the last statement in each code block gets printed automatically."
   ]
  },
  {
   "cell_type": "markdown",
   "id": "84b5250b-e095-4c88-af4b-99d007d0e1e4",
   "metadata": {},
   "source": [
    "## Variables\n",
    "\n",
    "Similar to variables in math, a variable in Python is a convenient name we use to refer to any value: a constant, the input to a function `x`, the output of a function `y`, or any other intermediate value.\n",
    "We use the assignment operator `=` to store values into variables."
   ]
  },
  {
   "cell_type": "markdown",
   "id": "04159e5c-6062-420b-9186-a6dd81127208",
   "metadata": {
    "tags": []
   },
   "source": [
    "### The assignment operator"
   ]
  },
  {
   "cell_type": "markdown",
   "id": "da99271c-dea8-453e-99c0-87219dad6684",
   "metadata": {},
   "source": [
    "In the above code examples,\n",
    "we computed the values of various expressions,\n",
    "but we didn't do anything with the result.\n",
    "The more common pattern in Python,\n",
    "is to **store** the result of an expression into some variable.\n",
    "\n",
    "To store the result of an expression in a variable,\n",
    "we use the assignment operator `=` as follows, from left to right:\n",
    "\n",
    "* we start by writing the name of the variable\n",
    "* then, we add the symbol `=` (which stands for **assign to**)\n",
    "* finally, we write an expression for the value we want to store in the variable\n",
    "\n",
    "For example, here is the code that computes the value of the expression `2+3`\n",
    "and stores the result in the variable `x`."
   ]
  },
  {
   "cell_type": "code",
   "execution_count": 3,
   "id": "2c31a7d6-c751-4151-8e07-69833bbdbe95",
   "metadata": {},
   "outputs": [],
   "source": [
    "x = 2+3"
   ]
  },
  {
   "cell_type": "markdown",
   "id": "2eba69d4-b7e3-46e9-ab60-62addf264ee6",
   "metadata": {},
   "source": [
    "This expression didn't print "
   ]
  },
  {
   "cell_type": "markdown",
   "id": "5f831b20-c8c2-4fb4-a562-1f9a67b134f9",
   "metadata": {},
   "source": [
    "Here are some other ways to describe the above code statement:\n",
    "\n",
    "- Store the result of `2+3` into the variable `x`\n",
    "- Put `5` into `x`\n",
    "- Save the value `5` into the memory location named `x`\n",
    "- Define `x` to be equal to `5`\n",
    "- Set `x` to `5`\n",
    "- Record the result of `2+3` in memory and make the name `x` point to it\n",
    "- Let `x` be equal to `5`\n",
    "\n",
    "Note the meaning of `=` is not the same as in math:\n",
    "we're not defining an equation but simply setting the contents of `x`."
   ]
  },
  {
   "cell_type": "markdown",
   "id": "fc3e1bd0-852f-445f-bead-f637bd11cea7",
   "metadata": {},
   "source": [
    "To display the contents of the variable `x`,\n",
    "we can simply enter its name."
   ]
  },
  {
   "cell_type": "code",
   "execution_count": 4,
   "id": "25c39e4c-4134-4d3f-a328-5bfd72e8fab8",
   "metadata": {},
   "outputs": [
    {
     "data": {
      "text/plain": [
       "5"
      ]
     },
     "execution_count": 4,
     "metadata": {},
     "output_type": "execute_result"
    }
   ],
   "source": [
    "x"
   ]
  },
  {
   "cell_type": "markdown",
   "id": "b8160009-dd87-411a-a040-68b33c7d82ad",
   "metadata": {},
   "source": [
    "We can combine the \"assign `2+3` to `x`\" and the \"display `x`\" commands into a single code cell,\n",
    "as shown below."
   ]
  },
  {
   "cell_type": "code",
   "execution_count": 5,
   "id": "9db5fbc6-7464-4a49-9f4c-fbc28aa8d8f4",
   "metadata": {},
   "outputs": [
    {
     "data": {
      "text/plain": [
       "5"
      ]
     },
     "execution_count": 5,
     "metadata": {},
     "output_type": "execute_result"
    }
   ],
   "source": [
    "x = 2+3\n",
    "x"
   ]
  },
  {
   "cell_type": "markdown",
   "id": "3ca1a5e0-34a9-4a92-bd14-99956747ef32",
   "metadata": {},
   "source": [
    "**Exercise 1**: Imitate the above statements, to create another variable `y` and that contains the value of the expression $(1+4)^2 - 3$, then display the contents of `y`."
   ]
  },
  {
   "cell_type": "code",
   "execution_count": 6,
   "id": "979eec9d-eaaa-405e-9a9f-32a3ba4c3a50",
   "metadata": {},
   "outputs": [],
   "source": [
    "# put you answer in this code cell\n"
   ]
  },
  {
   "cell_type": "code",
   "execution_count": 7,
   "id": "04f3ebbf-02aa-44dd-9e7b-b767e088ad45",
   "metadata": {},
   "outputs": [
    {
     "data": {
      "text/plain": [
       "22"
      ]
     },
     "execution_count": 7,
     "metadata": {},
     "output_type": "execute_result"
    }
   ],
   "source": [
    "#@titlesolution\n",
    "y = (1+4)**2 - 3\n",
    "y"
   ]
  },
  {
   "cell_type": "markdown",
   "id": "25cc03f3-09ca-41b5-9f5f-10045261da51",
   "metadata": {},
   "source": [
    "So to summarize,\n",
    "all the above code examples were based on the pattern:\n",
    "\n",
    "```Python\n",
    "<place> = <some expression>\n",
    "```\n",
    "which is the type of Python statement you'll see very often in programming.\n",
    "Even though this looks like a math equation, the meaning you have to associate with it is much simpler—we are storing the value of the expression `<some expression>` into the memory location `<place>`, which is usually a variable name, but later on we'll learn how to store values inside containers like lists and dicts."
   ]
  },
  {
   "cell_type": "code",
   "execution_count": null,
   "id": "74a358b5-470f-4a61-9e22-2019e57a0f7c",
   "metadata": {},
   "outputs": [],
   "source": []
  },
  {
   "cell_type": "code",
   "execution_count": null,
   "id": "55277f47-36cc-44bb-8a11-5b752bc8413d",
   "metadata": {},
   "outputs": [],
   "source": []
  },
  {
   "cell_type": "markdown",
   "id": "6a634670-2ddd-4bc5-acfb-80017c02b9ce",
   "metadata": {
    "tags": []
   },
   "source": [
    "## Multi-line expressions (Python code blocks)\n",
    "\n",
    "Let's now look at some longer code examples that show multiple steps of calculations,\n",
    "and intermediate values."
   ]
  },
  {
   "cell_type": "markdown",
   "id": "31d09853-6ddf-4633-afd2-ac3224b15408",
   "metadata": {},
   "source": [
    "### Numerical expressions\n",
    "\n",
    "\n",
    "#### Example: Number of seconds in one week\n",
    "\n",
    "Let's say we need to compute the number of seconds in a week.\n",
    "We ca do this using multi-step Python calculation,\n",
    "using the fact that there are $60$ seconds in one minute,\n",
    "$60$ minutes in one hour, \n",
    "and $24$ hours in one day,\n",
    "and $7$ days in one week."
   ]
  },
  {
   "cell_type": "code",
   "execution_count": 14,
   "id": "7ede33a7-e8d8-4c4f-b99e-33c60b79906c",
   "metadata": {},
   "outputs": [
    {
     "data": {
      "text/plain": [
       "604800"
      ]
     },
     "execution_count": 14,
     "metadata": {},
     "output_type": "execute_result"
    }
   ],
   "source": [
    "secs_in_1min = 60 \n",
    "secs_in_1hour = secs_in_1min * 60 \n",
    "secs_in_1day = secs_in_1hour * 24\n",
    "secs_in_1week = secs_in_1day * 7\n",
    "secs_in_1week"
   ]
  },
  {
   "cell_type": "markdown",
   "id": "30911d22-dc5f-4946-940b-77da250a6db0",
   "metadata": {},
   "source": [
    "**Exercise**: You're buying something that costs 57.0 dollars,\n",
    "and the local government imposes a 10\\% tax.\n",
    "Calculate the total of cost + taxes."
   ]
  },
  {
   "cell_type": "code",
   "execution_count": 15,
   "id": "8ffc6245",
   "metadata": {},
   "outputs": [
    {
     "data": {
      "text/plain": [
       "62.7"
      ]
     },
     "execution_count": 15,
     "metadata": {},
     "output_type": "execute_result"
    }
   ],
   "source": [
    "#@titlesolution\n",
    "cost = 57.00\n",
    "taxes = 0.10 * cost\n",
    "total = cost + taxes\n",
    "total"
   ]
  },
  {
   "cell_type": "code",
   "execution_count": null,
   "id": "ed97073c-f810-4903-ac9a-d630512ab519",
   "metadata": {},
   "outputs": [],
   "source": []
  },
  {
   "cell_type": "markdown",
   "id": "3037b7cf",
   "metadata": {},
   "source": [
    "**Exercise**:\n",
    "The formula for converting a temperature from Celsius to temperature in Fahrenheit\n",
    "is given by $F = \\tfrac{9}{5} \\cdot C  + 32$.\n",
    "Given the variable `C` which specifies the current temperature in Celsius,\n",
    "write the expression that calculates the current temperature in Fahrenheit\n",
    "and store it in the variable `F`."
   ]
  },
  {
   "cell_type": "code",
   "execution_count": 16,
   "id": "3210ba16-950d-4120-87cb-5327aeb40e82",
   "metadata": {},
   "outputs": [],
   "source": [
    "C = 20\n",
    "# F = ... (un-comment and put the correct expression here)"
   ]
  },
  {
   "cell_type": "markdown",
   "id": "c3046415-7507-476b-8188-a6fdbb5cc33b",
   "metadata": {},
   "source": [
    "Test: when `C = 100`, your answer `F` should be `212`."
   ]
  },
  {
   "cell_type": "code",
   "execution_count": 17,
   "id": "3ff6d575-93f4-41b4-b433-2c71938f7cfc",
   "metadata": {},
   "outputs": [
    {
     "data": {
      "text/plain": [
       "68.0"
      ]
     },
     "execution_count": 17,
     "metadata": {},
     "output_type": "execute_result"
    }
   ],
   "source": [
    "#@titlesolution\n",
    "C = 20\n",
    "F = (C * 9/5) + 32\n",
    "F"
   ]
  },
  {
   "cell_type": "code",
   "execution_count": null,
   "id": "e06e36e4-ce90-4317-a044-456e7259167b",
   "metadata": {},
   "outputs": [],
   "source": []
  },
  {
   "cell_type": "code",
   "execution_count": null,
   "id": "b4f8027a-f6bd-4fc7-9d28-4f337ed15e52",
   "metadata": {},
   "outputs": [],
   "source": []
  },
  {
   "cell_type": "markdown",
   "id": "42a47313-dd13-4788-9f3c-f5bd78dc1727",
   "metadata": {},
   "source": [
    "### String expressions"
   ]
  },
  {
   "cell_type": "code",
   "execution_count": 18,
   "id": "cacec474-dbdf-4dd2-9ae9-c2f73266ffc6",
   "metadata": {},
   "outputs": [
    {
     "data": {
      "text/plain": [
       "'Hello julie'"
      ]
     },
     "execution_count": 18,
     "metadata": {},
     "output_type": "execute_result"
    }
   ],
   "source": [
    "name = \"julie\"\n",
    "message = \"Hello \" + name    # for strings, + means concatenate\n",
    "message"
   ]
  },
  {
   "cell_type": "code",
   "execution_count": 19,
   "id": "4ac8448a-7481-4ecf-96fe-48777dc3aa38",
   "metadata": {},
   "outputs": [
    {
     "data": {
      "text/plain": [
       "'Hi Julie Tremblay!'"
      ]
     },
     "execution_count": 19,
     "metadata": {},
     "output_type": "execute_result"
    }
   ],
   "source": [
    "first_name = \"Julie\"\n",
    "last_name = \"Tremblay\"\n",
    "full_name = first_name + \" \" + last_name\n",
    "message = \"Hi \" + full_name + \"!\"\n",
    "message"
   ]
  },
  {
   "cell_type": "code",
   "execution_count": null,
   "id": "b191c826-7a43-4147-b94c-86924d56b15b",
   "metadata": {},
   "outputs": [],
   "source": []
  },
  {
   "cell_type": "markdown",
   "id": "e62017e4-6806-4b46-a4cc-d8330202a0d7",
   "metadata": {},
   "source": [
    "## Types and type conversions"
   ]
  },
  {
   "cell_type": "markdown",
   "id": "e8ca000e-284f-4dc8-996b-1ecf3462681b",
   "metadata": {
    "tags": []
   },
   "source": [
    "### Variables types\n",
    "\n",
    "There are multiple types of variables in Python:\n",
    "\n",
    "- **int** - integers ex: `34`,`65`, `78`, `-4`, etc. (rougly equivalent to $\\mathbb{Z}$)\n",
    "- **float** - ex: `4.6`,`78.5`, `1e-3` (full name is \"floating point number\"; similar to $\\mathbb{R}$ but only with finite precision)\n",
    "- **bool** a Boolean truth value with only two choices: `True` or `False`.\n",
    "- **string** - text content like `\"Hello\"`, `\"Hello everyone\"`.\n",
    "  Text strings are denoted using either double quotes `\"Hi\"` or single quotes `'Hi'`.\n",
    "- **list** a sequence of values like `[61, 79, 98, 72]`.\n",
    "  The beginning and the end of the list are denoted by the brackets `[` and `]`, and its elements are separated by commas.\n",
    "- **dictionary** a collection of key-value pairs.\n",
    "  Each key is associated with a value. For example `{\"first_name\": \"Julie\", \"last_name\": \"Tremblay\", \"score\": 98}`.\n",
    "  Dictionaries are denoted by curly braces `{` and `}` inside which we place `\"key\": value`, pairs separated by commas.\n",
    "- **tuples**, **sets**, **functions**, **objects**, etc. These are other useful Python building blocks which we'll talk about in later sections."
   ]
  },
  {
   "cell_type": "markdown",
   "id": "f681849b-5910-474d-8ca0-08d8baf87b0d",
   "metadata": {},
   "source": [
    "Let's look at some examples with variables of different types:\n",
    "an `int`eger, a `float`ing point number, a `bool`ean value, a `str`ing,\n",
    "a list, and a `dict`ionary."
   ]
  },
  {
   "cell_type": "code",
   "execution_count": 20,
   "id": "cf6eba8f",
   "metadata": {},
   "outputs": [],
   "source": [
    "score = 98\n",
    "average = 77.5\n",
    "above_the_average = True\n",
    "message = \"Hello everyone\"\n",
    "scores = [61, 79, 98, 72]\n",
    "profile = {\"first_name\":\"Julie\", \"last_name\":\"Tremblay\", \"score\":98}"
   ]
  },
  {
   "cell_type": "markdown",
   "id": "8beec74e-8d5e-41bf-9a17-aa2c99aa6abd",
   "metadata": {},
   "source": [
    "Running the above code cell doesn't print anything,\n",
    "because we have only defined variables: `score`, `average`, `above_the_average`, `message`, `scores`, and `profile` but not printed any of them."
   ]
  },
  {
   "cell_type": "markdown",
   "id": "4578b957-6946-4db2-9a85-88decf12d0fa",
   "metadata": {},
   "source": [
    "To display the value of any of these variables,\n",
    "we can use it's name on the command line.\n",
    "Let's see the contents the `score` variable:"
   ]
  },
  {
   "cell_type": "code",
   "execution_count": 21,
   "id": "298f5e87-1588-4d1d-936f-f416725ec033",
   "metadata": {},
   "outputs": [
    {
     "data": {
      "text/plain": [
       "98"
      ]
     },
     "execution_count": 21,
     "metadata": {},
     "output_type": "execute_result"
    }
   ],
   "source": [
    "score"
   ]
  },
  {
   "cell_type": "markdown",
   "id": "406b2440-a0b5-450e-903c-fd9707b865b0",
   "metadata": {},
   "source": [
    "The function `type` tells you the type of any variable, meaning what kind of number or object it is."
   ]
  },
  {
   "cell_type": "code",
   "execution_count": 22,
   "id": "727080f6-ea61-45e1-99de-1ae8e6a31969",
   "metadata": {},
   "outputs": [
    {
     "data": {
      "text/plain": [
       "int"
      ]
     },
     "execution_count": 22,
     "metadata": {},
     "output_type": "execute_result"
    }
   ],
   "source": [
    "type(score)"
   ]
  },
  {
   "cell_type": "markdown",
   "id": "8630ac5f-4492-4c98-bc43-a75716f087fd",
   "metadata": {},
   "source": [
    "\n",
    "Look back to the list shown above that contains examples of different types of Python objects.\n",
    "The `type`s are shown in **bold**.\n",
    "In this case the value `98` is of type **int**.\n",
    "\n",
    "Let's now look at the value and type of the variable `average`:"
   ]
  },
  {
   "cell_type": "code",
   "execution_count": 23,
   "id": "131ade02-b0c2-4bad-b223-4f428bfd108f",
   "metadata": {},
   "outputs": [],
   "source": [
    "## ALT. display both value and type on the same line (as a tuple)\n",
    "# score, type(score)"
   ]
  },
  {
   "cell_type": "code",
   "execution_count": 24,
   "id": "8b6c4044-8421-40c6-a8ca-c3b744373ab8",
   "metadata": {},
   "outputs": [
    {
     "data": {
      "text/plain": [
       "77.5"
      ]
     },
     "execution_count": 24,
     "metadata": {},
     "output_type": "execute_result"
    }
   ],
   "source": [
    "average"
   ]
  },
  {
   "cell_type": "code",
   "execution_count": 25,
   "id": "a3fd20c2-c3a5-4e4f-84bc-c2440ebb19f4",
   "metadata": {},
   "outputs": [
    {
     "data": {
      "text/plain": [
       "float"
      ]
     },
     "execution_count": 25,
     "metadata": {},
     "output_type": "execute_result"
    }
   ],
   "source": [
    "type(average)"
   ]
  },
  {
   "cell_type": "markdown",
   "id": "cfe62b3a-2d80-4b26-aab5-d1518d22b1e1",
   "metadata": {},
   "source": [
    "**Exercise**: try displaying the contents of the other variables, and their type"
   ]
  },
  {
   "cell_type": "code",
   "execution_count": 26,
   "id": "6fe84d2f",
   "metadata": {},
   "outputs": [
    {
     "data": {
      "text/plain": [
       "dict"
      ]
     },
     "execution_count": 26,
     "metadata": {},
     "output_type": "execute_result"
    }
   ],
   "source": [
    "#@titlesolution\n",
    "above_the_average\n",
    "type(above_the_average)\n",
    "\n",
    "message\n",
    "type(message)\n",
    "\n",
    "scores\n",
    "type(scores)\n",
    "\n",
    "profile\n",
    "type(profile)"
   ]
  },
  {
   "cell_type": "markdown",
   "id": "01d75c5b",
   "metadata": {},
   "source": [
    "### Type conversions\n",
    "\n",
    "You can convert between each of these types using the function which has the same name as the type of an object\n",
    "\n",
    "- `int` : transform any expression into an int\n",
    "- `float`: transform any expression into a flaot\n",
    "- `str`: transform an expression to it's string representaiton (i.e. this is what the function `print` does).\n",
    "- `bool`: transform any expression into a `True` or `False`\n",
    "- `list`: transform an any iterable expression into a list"
   ]
  },
  {
   "cell_type": "markdown",
   "id": "3f0b23b0-64ca-41d9-bf0d-ec91c1176011",
   "metadata": {},
   "source": [
    "#### Example 1: converting `str`ings to `float`s, and `float`s to `str`ings"
   ]
  },
  {
   "cell_type": "markdown",
   "id": "ff2de59a-50e6-45c7-b735-3295e9ac38ac",
   "metadata": {},
   "source": [
    "##### Converting `str` to `float`"
   ]
  },
  {
   "cell_type": "code",
   "execution_count": 27,
   "id": "cf095c04-70bd-483c-a995-c7cfb3c157b5",
   "metadata": {},
   "outputs": [
    {
     "data": {
      "text/plain": [
       "42.5"
      ]
     },
     "execution_count": 27,
     "metadata": {},
     "output_type": "execute_result"
    }
   ],
   "source": [
    "f = float(\"42.5\")\n",
    "f"
   ]
  },
  {
   "cell_type": "code",
   "execution_count": 28,
   "id": "d5233dd6-dd80-4fe4-9334-b3cbdeb3e3fa",
   "metadata": {},
   "outputs": [
    {
     "data": {
      "text/plain": [
       "float"
      ]
     },
     "execution_count": 28,
     "metadata": {},
     "output_type": "execute_result"
    }
   ],
   "source": [
    "type(f)"
   ]
  },
  {
   "cell_type": "code",
   "execution_count": null,
   "id": "c5ebb3ab-e3af-4008-bbbf-4cd7e00cb7f8",
   "metadata": {},
   "outputs": [],
   "source": []
  },
  {
   "cell_type": "markdown",
   "id": "fa45b306-d8aa-4394-aa7d-e3a4212d0d96",
   "metadata": {},
   "source": [
    "##### Converting `float` to `str`"
   ]
  },
  {
   "cell_type": "code",
   "execution_count": 29,
   "id": "7382553c-709b-4590-afea-24e51881eb64",
   "metadata": {},
   "outputs": [],
   "source": [
    "s = str(42.5)"
   ]
  },
  {
   "cell_type": "code",
   "execution_count": 30,
   "id": "61a8407b-6106-499b-9ba1-82b45866bf46",
   "metadata": {},
   "outputs": [
    {
     "data": {
      "text/plain": [
       "'42.5'"
      ]
     },
     "execution_count": 30,
     "metadata": {},
     "output_type": "execute_result"
    }
   ],
   "source": [
    "s"
   ]
  },
  {
   "cell_type": "code",
   "execution_count": 31,
   "id": "1e3f5f61-7924-438d-8d7c-3b861986f381",
   "metadata": {},
   "outputs": [
    {
     "data": {
      "text/plain": [
       "str"
      ]
     },
     "execution_count": 31,
     "metadata": {},
     "output_type": "execute_result"
    }
   ],
   "source": [
    "type(s)"
   ]
  },
  {
   "cell_type": "code",
   "execution_count": null,
   "id": "6cc0638b-6922-461e-910d-8b4e9987ad70",
   "metadata": {},
   "outputs": [],
   "source": []
  },
  {
   "cell_type": "markdown",
   "id": "88f00edf-b7ff-4617-a9e1-01fd0128c7e5",
   "metadata": {
    "jp-MarkdownHeadingCollapsed": true,
    "tags": []
   },
   "source": [
    "#### Example 2: converting iterables to lists\n",
    "\n",
    "Under the hood, Python uses all kinds of list-like data structures called iterables\".\n",
    "We don't need to talk about these or understand how they work—all you need to know is they are behave like lists.\n",
    "\n",
    "In the code examples below,\n",
    "I'll often convert these fancy list-like data structures into ordinary lists,\n",
    "which we can do by calling `list(iterable)`."
   ]
  },
  {
   "cell_type": "markdown",
   "id": "2ebdc381-cd46-4b7b-bd78-8f2d61184368",
   "metadata": {},
   "source": [
    "For examples, the set of keys for a dictionary is a `dict_keys` iterable object:"
   ]
  },
  {
   "cell_type": "code",
   "execution_count": 32,
   "id": "b9f71b2b-e8a2-4fa9-a3b8-0a5046f54fe6",
   "metadata": {},
   "outputs": [
    {
     "data": {
      "text/plain": [
       "dict_keys(['first_name', 'last_name', 'score'])"
      ]
     },
     "execution_count": 32,
     "metadata": {},
     "output_type": "execute_result"
    }
   ],
   "source": [
    "profile.keys()"
   ]
  },
  {
   "cell_type": "code",
   "execution_count": 33,
   "id": "74d98037-a2de-4beb-8a89-dd70edceca10",
   "metadata": {},
   "outputs": [
    {
     "data": {
      "text/plain": [
       "dict_keys"
      ]
     },
     "execution_count": 33,
     "metadata": {},
     "output_type": "execute_result"
    }
   ],
   "source": [
    "type(profile.keys())"
   ]
  },
  {
   "cell_type": "markdown",
   "id": "e6c92455-73cc-4b5d-aabc-d9b279bb51e0",
   "metadata": {},
   "source": [
    "I know, right? What the hell is that?\n",
    "I certainly don't want to have to explain that...\n",
    "\n",
    "\n",
    "... so instead, you'll see this in the code:"
   ]
  },
  {
   "cell_type": "code",
   "execution_count": 34,
   "id": "526f6562-8441-459e-ba21-1e0e51827f4d",
   "metadata": {},
   "outputs": [
    {
     "data": {
      "text/plain": [
       "['first_name', 'last_name', 'score']"
      ]
     },
     "execution_count": 34,
     "metadata": {},
     "output_type": "execute_result"
    }
   ],
   "source": [
    "list(profile.keys())"
   ]
  },
  {
   "cell_type": "code",
   "execution_count": 35,
   "id": "d30f5ca0-c86f-4d7c-8c9d-132817f282e4",
   "metadata": {},
   "outputs": [
    {
     "data": {
      "text/plain": [
       "list"
      ]
     },
     "execution_count": 35,
     "metadata": {},
     "output_type": "execute_result"
    }
   ],
   "source": [
    "type(list(profile.keys()))"
   ]
  },
  {
   "cell_type": "code",
   "execution_count": null,
   "id": "ce6e26f6-9bfe-4cb6-9eec-7999b574fe62",
   "metadata": {},
   "outputs": [],
   "source": []
  },
  {
   "cell_type": "markdown",
   "id": "eddaa0d5-4dd6-44b9-a567-25a9094deded",
   "metadata": {},
   "source": [
    "### Exercise: compute the sum of two strings\n",
    "\n",
    "Suppose we're given two numbers $m$ and $n$ and we want to compute their sum $m+n$.\n",
    "The two numbers are given to use given expressed as strings."
   ]
  },
  {
   "cell_type": "code",
   "execution_count": 36,
   "id": "66eab1bc-a797-4d00-8aa2-d615eb492bec",
   "metadata": {},
   "outputs": [
    {
     "name": "stdout",
     "output_type": "stream",
     "text": [
      "The variable mstr has value 2.1 and type <class 'str'>\n",
      "The variable nstr has value 3.4 and type <class 'str'>\n"
     ]
    }
   ],
   "source": [
    "mstr = \"2.1\"\n",
    "nstr = \"3.4\"\n",
    "print(\"The variable mstr has value\", mstr, \"and type\", type(mstr))\n",
    "print(\"The variable nstr has value\", nstr, \"and type\", type(nstr))"
   ]
  },
  {
   "cell_type": "markdown",
   "id": "8c7c9d29-919e-4159-a892-fb4e3e51ea8d",
   "metadata": {},
   "source": [
    "Let's try adding the two numbers together to see what happens..."
   ]
  },
  {
   "cell_type": "code",
   "execution_count": 37,
   "id": "b32fbd79-ef98-4af5-bb32-d441baea5407",
   "metadata": {},
   "outputs": [
    {
     "data": {
      "text/plain": [
       "'2.13.4'"
      ]
     },
     "execution_count": 37,
     "metadata": {},
     "output_type": "execute_result"
    }
   ],
   "source": [
    "mstr + nstr"
   ]
  },
  {
   "cell_type": "markdown",
   "id": "3264a1d6-da64-4234-9cd8-4fe6766ff195",
   "metadata": {},
   "source": [
    "This is because the addition operator `+` for strings means concatenate...\n",
    "\n",
    "Python doesn't know automatically that the two text strings are mean to be numbers.\n",
    "We have to manually convert the strings to a Python numerical type (`float`) first,\n",
    "then we can do the addition."
   ]
  },
  {
   "cell_type": "markdown",
   "id": "ec514e19-b520-4910-a521-f44b33796e94",
   "metadata": {},
   "source": [
    "**Exercise** write the Python code that converts the variables `mstr` and `nstr` to floating point numbers and add them together."
   ]
  },
  {
   "cell_type": "code",
   "execution_count": 38,
   "id": "2e222e82-84b1-4640-8522-3693f3965a7a",
   "metadata": {},
   "outputs": [
    {
     "name": "stdout",
     "output_type": "stream",
     "text": [
      "The variable mfloat has value 2.1 and type <class 'float'>\n",
      "The variable nfloat has value 3.4 and type <class 'float'>\n"
     ]
    },
    {
     "data": {
      "text/plain": [
       "5.5"
      ]
     },
     "execution_count": 38,
     "metadata": {},
     "output_type": "execute_result"
    }
   ],
   "source": [
    "#@titlesolution\n",
    "mfloat = float(mstr)\n",
    "nfloat = float(nstr)\n",
    "print(\"The variable mfloat has value\", mfloat, \"and type\", type(mfloat))\n",
    "print(\"The variable nfloat has value\", nfloat, \"and type\", type(nfloat))\n",
    "\n",
    "\n",
    "# compute the sum\n",
    "mfloat + nfloat"
   ]
  },
  {
   "cell_type": "code",
   "execution_count": null,
   "id": "78fbf652-2c8f-4fe7-8fff-02bde2f23036",
   "metadata": {},
   "outputs": [],
   "source": []
  },
  {
   "cell_type": "code",
   "execution_count": null,
   "id": "839ff5ba-64e7-4d74-97e3-57f6cf180e1a",
   "metadata": {},
   "outputs": [],
   "source": []
  },
  {
   "cell_type": "code",
   "execution_count": null,
   "id": "a0056503",
   "metadata": {},
   "outputs": [],
   "source": []
  },
  {
   "cell_type": "markdown",
   "id": "91dbdfba-e540-445d-99aa-f532aaa4922d",
   "metadata": {},
   "source": [
    "### Additional reading material\n",
    "\n",
    "- Review Python syntax cheatsheet [https://blog.finxter.com/wp-content/uploads/2020/07/Finxter_WorldsMostDensePythonCheatSheet.pdf](https://blog.finxter.com/wp-content/uploads/2020/07/Finxter_WorldsMostDensePythonCheatSheet.pdf)\n",
    "  - add single dot next to concepts you've hear about\n",
    "  - double dot next to python concepts you understand\n",
    "  - triple dot next to concepts you've used in your code\n",
    "- Try poking-around and explore expressions involving numbers (`int` and `float`)\n",
    "  and  strings (`str`).\n",
    "- Go through all quiz questions in reading material as notebooks:\n",
    "  - 03-Variables: [https://introductorypython.github.io/tutorials/03-Variables.html](https://introductorypython.github.io/tutorials/03-Variables.html)\n",
    "  - 04-Operarators: [https://introductorypython.github.io/tutorials/04-Operators.html](https://introductorypython.github.io/tutorials/04-Operators.html)\n",
    "<!--\n",
    "- 06-Data types: [https://introductorypython.github.io/tutorials/06-DataTypes.html](https://introductorypython.github.io/tutorials/06-DataTypes.html) \n",
    "  - Review Collections: Lists section. This is important because we can use lists\n",
    "    to represent vectors in Python, for example the two-dimensional vector can be defined as `v = [3,2]`\n",
    "  - Complete the section on for loops in 07-Loops notebook.\n",
    "    The for loop is important because it allows you to do operations for each element in the list.\n",
    "-->"
   ]
  },
  {
   "cell_type": "code",
   "execution_count": null,
   "id": "52ac7d89-3e6b-4a1e-bfde-7717f4d88569",
   "metadata": {},
   "outputs": [],
   "source": []
  },
  {
   "cell_type": "code",
   "execution_count": null,
   "id": "5605f5be-457b-4c0c-8cb5-f332508c9896",
   "metadata": {},
   "outputs": [],
   "source": []
  },
  {
   "cell_type": "markdown",
   "id": "bbc3fdf6-5935-4c67-8149-6ef89b95726a",
   "metadata": {},
   "source": [
    "# Getting comfortable with Python\n",
    "\n",
    "Python is a \"civilized\" language,\n",
    "which means it provides lots of help tools to make learning the language easy for beginners. We'll now learn about some of these tools including,\n",
    "\"doc strings\" (help menus) and introspection tools for looking at what attributes and methods are available to use.\n",
    "\n",
    "This combination of tools allows programmers to answer common questions about Python objects and functions without leaving the JupyterLab environment. Basically, in Python all the necessary info is accessible directly in the coding environment.\n",
    "For example, at the end of this section you'll be able to answer the following questions on your own:\n",
    "\n",
    "- How many and what type of arguments does the function `print` expect?\n",
    "- What kind of optional, keyword arguments does the function `print` accept?\n",
    "- What attributes and methods does the Python object `obj` have?\n",
    "- What variables and functions are defined in the current namespace?\n",
    "\n",
    "More than 50% of any programmer's time is spent looking at help info and trying to understand the variables, functions, objects, methods, they are working on, so it's important for you to learn these meta-skills."
   ]
  },
  {
   "cell_type": "markdown",
   "id": "b6c8cb80-f7d6-4802-a447-495b5272c09f",
   "metadata": {
    "tags": []
   },
   "source": [
    "## Showing the help info\n",
    "\n",
    "Every Python object has a \"docstring\" associated with it, that provides the helpful information about the object.\n",
    "\n",
    "There are three equivalent ways to view these docstring of any Python object `obj` (value, variable, function, module, etc.):\n",
    "\n",
    "- `help(obj)`: prints the docstring of the Python object `obj`\n",
    "- `obj?`\n",
    "- SHIFT + TAB: while cursor on top of Python variable \n",
    "\n",
    "\n",
    "There are also other methods for getting more detailed,\n",
    "as part of the menu `obj??`, `%psource obj`, `%pdef obj`,\n",
    "but you won't need this for now."
   ]
  },
  {
   "cell_type": "markdown",
   "id": "a003d0e2-f4ff-42c2-a8d1-e534f118cd4f",
   "metadata": {},
   "source": [
    "### Example: the `print` function\n",
    "Let's say you're interested to know the options available for the function `print`,\n",
    "which we use to print Python expressions."
   ]
  },
  {
   "cell_type": "code",
   "execution_count": 39,
   "id": "14bcb38d-ba4a-46fe-8d48-4a635a674aaa",
   "metadata": {},
   "outputs": [
    {
     "data": {
      "text/plain": [
       "<function print>"
      ]
     },
     "execution_count": 39,
     "metadata": {},
     "output_type": "execute_result"
    }
   ],
   "source": [
    "# put cursor in the middle of function and press SHIFT+TAB\n",
    "print"
   ]
  },
  {
   "cell_type": "markdown",
   "id": "5880d053-54ba-454d-bf30-857d4bf0282b",
   "metadata": {},
   "source": [
    "You know this function accepts a variable and prints it,\n",
    "but what other keywords arguments does it take?"
   ]
  },
  {
   "cell_type": "markdown",
   "id": "f8dcf334-2304-48d6-a59b-11ddc66764c3",
   "metadata": {},
   "source": [
    "Use the help() function on `print`"
   ]
  },
  {
   "cell_type": "code",
   "execution_count": 40,
   "id": "b9330d95-c29e-4fa6-a176-328808ab74a1",
   "metadata": {},
   "outputs": [
    {
     "name": "stdout",
     "output_type": "stream",
     "text": [
      "Help on built-in function print in module builtins:\n",
      "\n",
      "print(...)\n",
      "    print(value, ..., sep=' ', end='\\n', file=sys.stdout, flush=False)\n",
      "    \n",
      "    Prints the values to a stream, or to sys.stdout by default.\n",
      "    Optional keyword arguments:\n",
      "    file:  a file-like object (stream); defaults to the current sys.stdout.\n",
      "    sep:   string inserted between values, default a space.\n",
      "    end:   string appended after the last value, default a newline.\n",
      "    flush: whether to forcibly flush the stream.\n",
      "\n"
     ]
    }
   ],
   "source": [
    "help(print)"
   ]
  },
  {
   "cell_type": "markdown",
   "id": "4d4e163f-a569-4c67-a7ff-e878fdbf5a42",
   "metadata": {},
   "source": [
    "Reading the doc string of the `print` function suggests,\n",
    "we see `...` for the type of inputs accepted,\n",
    "which means `print` accepts multiple arguments.\n",
    "\n",
    "Here is an example that prints a string, an integer, a floating point number, and a list on the same line."
   ]
  },
  {
   "cell_type": "code",
   "execution_count": 61,
   "id": "183134f0-0639-4e71-988e-623887f393a2",
   "metadata": {},
   "outputs": [],
   "source": [
    "# print?"
   ]
  },
  {
   "cell_type": "code",
   "execution_count": 63,
   "id": "ed5f3657-7b0a-4f88-b0b0-c6e8c40d2991",
   "metadata": {},
   "outputs": [],
   "source": [
    "# print(print.__doc__)"
   ]
  },
  {
   "cell_type": "markdown",
   "id": "ca994386-bf1d-4116-a8c5-ac48168f23b5",
   "metadata": {},
   "source": [
    "#### Application: changing the separator when printing multiple values\n",
    "\n",
    "We can choose a different separator between arguments of the `print` function\n",
    "by specifying the value for the keyword argument `sep`."
   ]
  },
  {
   "cell_type": "code",
   "execution_count": 43,
   "id": "f6ed0b7c-1dad-42c1-8f93-ef4a674d8689",
   "metadata": {},
   "outputs": [
    {
     "name": "stdout",
     "output_type": "stream",
     "text": [
      "Hello everyone 98 77.5 [61, 79, 98, 72]\n",
      "Hello everyone --- 98 --- 77.5 --- [61, 79, 98, 72]\n"
     ]
    }
   ],
   "source": [
    "print(message, score, average, scores)\n",
    "print(message, score, average, scores, sep=\" --- \")"
   ]
  },
  {
   "cell_type": "markdown",
   "id": "b1b41fd2-cc9d-437b-9d90-d5e8a5040a53",
   "metadata": {},
   "source": []
  },
  {
   "cell_type": "markdown",
   "id": "9504e23c-9492-4a7b-89c8-6ddee256cfb5",
   "metadata": {},
   "source": [
    "#### Exercises"
   ]
  },
  {
   "cell_type": "markdown",
   "id": "bb0d917e-cf94-4a29-8b17-3476e5953274",
   "metadata": {},
   "source": [
    "**Exercise 1**: print the doc-string of the function `len`."
   ]
  },
  {
   "cell_type": "code",
   "execution_count": 44,
   "id": "fae81d0d-5ae9-4fc5-8c55-6b761e3e0372",
   "metadata": {},
   "outputs": [
    {
     "name": "stdout",
     "output_type": "stream",
     "text": [
      "Help on built-in function len in module builtins:\n",
      "\n",
      "len(obj, /)\n",
      "    Return the number of items in a container.\n",
      "\n"
     ]
    }
   ],
   "source": [
    "#@titlesolution\n",
    "help(len)"
   ]
  },
  {
   "cell_type": "markdown",
   "id": "6bf8cec7-ee28-42e1-9661-a7f5aba7df06",
   "metadata": {},
   "source": [
    "**Exercise 2**: print the doc-string of the function `sum`."
   ]
  },
  {
   "cell_type": "code",
   "execution_count": 45,
   "id": "6556a136-c3e8-4cdd-b7aa-78f3bc046c39",
   "metadata": {},
   "outputs": [
    {
     "name": "stdout",
     "output_type": "stream",
     "text": [
      "Help on built-in function sum in module builtins:\n",
      "\n",
      "sum(iterable, /, start=0)\n",
      "    Return the sum of a 'start' value (default: 0) plus an iterable of numbers\n",
      "    \n",
      "    When the iterable is empty, return the start value.\n",
      "    This function is intended specifically for use with numeric values and may\n",
      "    reject non-numeric types.\n",
      "\n"
     ]
    }
   ],
   "source": [
    "#@titlesolution\n",
    "help(sum)"
   ]
  },
  {
   "cell_type": "markdown",
   "id": "dcb2ebbe-aeb0-4077-8cd1-4035faeed858",
   "metadata": {},
   "source": [
    "**Exercise 3**:\n",
    "print the doc strings of other functions we've seen so far: `int`, `float`, `type`, etc."
   ]
  },
  {
   "cell_type": "code",
   "execution_count": 46,
   "id": "c14009f5-a885-456a-9db4-adad29d11c46",
   "metadata": {},
   "outputs": [],
   "source": [
    "#@titlesolution\n",
    "# help(len)\n",
    "# help(type)\n",
    "# help(int)"
   ]
  },
  {
   "cell_type": "code",
   "execution_count": null,
   "id": "093bbe81-6b82-43de-bf64-a09a6bfbfba8",
   "metadata": {},
   "outputs": [],
   "source": []
  },
  {
   "cell_type": "markdown",
   "id": "48c28226-6c60-4d02-bcb4-aece2ecfa92b",
   "metadata": {
    "tags": []
   },
   "source": [
    "### (sidenote) Python comments\n",
    "\n",
    "You can write comment in Python code using the character `#`.\n",
    "Comments can be very useful to provide additional information that explains what the code is trying to do."
   ]
  },
  {
   "cell_type": "code",
   "execution_count": 68,
   "id": "020ea4fd-c984-4723-8d5e-f9969430d631",
   "metadata": {},
   "outputs": [],
   "source": [
    "# this is a comment"
   ]
  },
  {
   "cell_type": "markdown",
   "id": "d06c1ac5-6725-4603-8566-96be555aeda8",
   "metadata": {},
   "source": [
    "You can also add longer, multi-line comments using triple-quoted text."
   ]
  },
  {
   "cell_type": "code",
   "execution_count": 69,
   "id": "d4b8d166-5d2c-4351-919f-a1eb29b86864",
   "metadata": {},
   "outputs": [
    {
     "data": {
      "text/plain": [
       "'\\nThis is a longer comment,\\nwhich is written on two lines.\\n'"
      ]
     },
     "execution_count": 69,
     "metadata": {},
     "output_type": "execute_result"
    }
   ],
   "source": [
    "\"\"\"\n",
    "This is a longer comment,\n",
    "which is written on two lines.\n",
    "\"\"\""
   ]
  },
  {
   "cell_type": "markdown",
   "id": "c9206f4f-fd04-47f2-9b71-46a4ef7522c1",
   "metadata": {},
   "source": [
    "The docstrings we talked about earlier,\n",
    "are exactly this kind of multi-line strings included in the source code of the functions `len`, `print`, etc."
   ]
  },
  {
   "cell_type": "markdown",
   "id": "1ef8ed01-26ee-4b1e-a8a6-7a8c3b7d4402",
   "metadata": {},
   "source": [
    "**Exercise 4**: replace the `...` in the code block with comments that\n",
    "explain the calculation \"adding 10\\% tax to a purchase that costs \\$57\"\n",
    "that is being computer."
   ]
  },
  {
   "cell_type": "code",
   "execution_count": 71,
   "id": "a2c68579-c5a8-491d-9d22-9cb0f0bba584",
   "metadata": {},
   "outputs": [
    {
     "data": {
      "text/plain": [
       "62.7"
      ]
     },
     "execution_count": 71,
     "metadata": {},
     "output_type": "execute_result"
    }
   ],
   "source": [
    "cost = 57.00           # ...\n",
    "taxes = 0.10 * cost    # ...\n",
    "total = cost + taxes   # ...\n",
    "total                  # ..."
   ]
  },
  {
   "cell_type": "code",
   "execution_count": 70,
   "id": "7e05651d-bd9f-4501-9a9b-5a39d266b3e4",
   "metadata": {},
   "outputs": [
    {
     "data": {
      "text/plain": [
       "62.7"
      ]
     },
     "execution_count": 70,
     "metadata": {},
     "output_type": "execute_result"
    }
   ],
   "source": [
    "cost = 57.00           # price before taxes\n",
    "taxes = 0.10 * cost    # 10% taxes = 0.1 times price\n",
    "total = cost + taxes   # add price + taxes and store the resutl in total\n",
    "total                  # print the total"
   ]
  },
  {
   "cell_type": "code",
   "execution_count": null,
   "id": "ea253ad3-ba28-4218-b94f-5e59dbc1764a",
   "metadata": {},
   "outputs": [],
   "source": []
  },
  {
   "cell_type": "markdown",
   "id": "bb990805-0790-4fa0-a0de-bb56c1c9e936",
   "metadata": {
    "tags": []
   },
   "source": [
    "## Inspecting Python objects\n",
    "\n",
    "Suppose you're given the Python object `obj` and you want to know what it is,\n",
    "and learn what you can do with it."
   ]
  },
  {
   "cell_type": "markdown",
   "id": "1691d425-29aa-43c6-a038-28e650ca7caf",
   "metadata": {
    "tags": []
   },
   "source": [
    "### Displaying the object\n",
    "\n",
    "There are several built-in functions that allow you to display information about the any object `obj`.\n",
    "\n",
    "- `type(obj)`: tells you what type of object it is\n",
    "- `print(obj)`: converts the object to `str` and prints it\n",
    "- `repr(obj)`: similar to print, but prints the complete string representation (including quotes).  \n",
    "   The output of `repr(obj)` contains all the information needed to reconstruct the object `obj`.\n",
    "\n",
    "We've already used both `type` and `print`, so there is nothing new here.\n",
    "I just wanted to remind you you can always use these functions as first line of inspection."
   ]
  },
  {
   "cell_type": "code",
   "execution_count": 65,
   "id": "6a218312-8d28-4a7b-8b25-84bd4862cd4d",
   "metadata": {},
   "outputs": [
    {
     "data": {
      "text/plain": [
       "int"
      ]
     },
     "execution_count": 65,
     "metadata": {},
     "output_type": "execute_result"
    }
   ],
   "source": [
    "obj = 3\n",
    "\n",
    "type(x)"
   ]
  },
  {
   "cell_type": "code",
   "execution_count": 66,
   "id": "5cb8b99c-b5b6-47db-91ce-57ab878f0a11",
   "metadata": {},
   "outputs": [
    {
     "name": "stdout",
     "output_type": "stream",
     "text": [
      "3\n"
     ]
    }
   ],
   "source": [
    "print(obj)"
   ]
  },
  {
   "cell_type": "code",
   "execution_count": 67,
   "id": "efd453a8-36b4-43c0-9ccf-d2efbcdf573b",
   "metadata": {},
   "outputs": [
    {
     "data": {
      "text/plain": [
       "'3'"
      ]
     },
     "execution_count": 67,
     "metadata": {},
     "output_type": "execute_result"
    }
   ],
   "source": [
    "repr(obj)"
   ]
  },
  {
   "cell_type": "code",
   "execution_count": null,
   "id": "4ff6d2eb-7a46-4d9b-b782-3065f46112bf",
   "metadata": {},
   "outputs": [],
   "source": []
  },
  {
   "cell_type": "code",
   "execution_count": null,
   "id": "c6b4748d-caab-46ab-88d1-ff2f25004895",
   "metadata": {},
   "outputs": [],
   "source": []
  },
  {
   "cell_type": "markdown",
   "id": "d29a3972-1345-4259-bc0c-8d20ef0b98c8",
   "metadata": {
    "tags": []
   },
   "source": [
    "### Auto-complete object attributes and methods\n",
    "\n",
    "JupyterLab notebook environment provides very useful \"autocomplete\" functionality that helps us look around at the attributes and methods of any object. \n",
    "\n",
    "- `TAB` button: type `obj.`  then press TAB button.\n",
    "- `dir(obj)`: shows the \"directory\" of all the attributes and methods of the object `obj`"
   ]
  },
  {
   "cell_type": "code",
   "execution_count": 50,
   "id": "d144138b-3806-42ee-a7fd-7b80849c48f9",
   "metadata": {},
   "outputs": [],
   "source": [
    "#score.  <TAB>"
   ]
  },
  {
   "cell_type": "code",
   "execution_count": 51,
   "id": "c9a86e46-e728-4601-b50e-dc5fb39eaf8e",
   "metadata": {},
   "outputs": [],
   "source": [
    "# score.numerator\n",
    "# score.denominator\n",
    "# score.as_integer_ratio()"
   ]
  },
  {
   "cell_type": "code",
   "execution_count": 53,
   "id": "1b84eed3-8910-4bf4-9a03-a9d3c1aeae49",
   "metadata": {},
   "outputs": [],
   "source": [
    "# message.   <TAB>"
   ]
  },
  {
   "cell_type": "code",
   "execution_count": 59,
   "id": "d0bed95d-0a8d-407a-9ae5-9b98020689a2",
   "metadata": {},
   "outputs": [],
   "source": [
    "# message.upper()\n",
    "# message.lower()\n",
    "# message.split()\n",
    "# message.replace(\"everyone\", \"world\")"
   ]
  },
  {
   "cell_type": "code",
   "execution_count": null,
   "id": "f6a27b46-5374-4892-94a1-03332c3e7c07",
   "metadata": {},
   "outputs": [],
   "source": []
  },
  {
   "cell_type": "code",
   "execution_count": null,
   "id": "5e0e680a-57e0-46ac-bd10-53b8e138d5dc",
   "metadata": {},
   "outputs": [],
   "source": []
  },
  {
   "cell_type": "markdown",
   "id": "296abfc8-919f-4173-b43b-6320ea6b0dd3",
   "metadata": {
    "tags": []
   },
   "source": [
    "\n",
    "\n",
    "\n",
    "  "
   ]
  },
  {
   "cell_type": "markdown",
   "id": "5ff5b86f-470d-478c-8152-b6db1c379b12",
   "metadata": {
    "tags": []
   },
   "source": [
    "### (bonus) See what's in the global namespace\n",
    "\n",
    "In a Jupyter notebook,\n",
    "you can run the command `%whos` to print all the variables and functions that defined in the current namespace."
   ]
  },
  {
   "cell_type": "code",
   "execution_count": null,
   "id": "3e496261-e0b7-47ec-a8ca-652c2c60f1f4",
   "metadata": {},
   "outputs": [],
   "source": [
    "# %whos"
   ]
  },
  {
   "cell_type": "markdown",
   "id": "d336754d-5886-442c-9d5f-8d52a8c89022",
   "metadata": {
    "tags": []
   },
   "source": [
    "We can obtain a similar output using the Python function `globals()`,\n",
    "which returns a dictionary of all the variables and functions in the global namespace."
   ]
  },
  {
   "cell_type": "code",
   "execution_count": null,
   "id": "2dc7468f-8a05-426f-ad26-ae91f430a25c",
   "metadata": {},
   "outputs": [],
   "source": [
    "## ALT. print variables names\n",
    "# [key for key in globals().keys() if not key.startswith(\"_\")]"
   ]
  },
  {
   "cell_type": "code",
   "execution_count": null,
   "id": "623ac254-9b87-46c9-ac15-3e99cb469dfb",
   "metadata": {},
   "outputs": [],
   "source": []
  },
  {
   "cell_type": "code",
   "execution_count": null,
   "id": "3a0558bf-74c5-4317-ac7e-f0f338a22369",
   "metadata": {},
   "outputs": [],
   "source": []
  },
  {
   "cell_type": "markdown",
   "id": "dcc58756-3cae-4794-a770-00b2ffc291b3",
   "metadata": {
    "tags": []
   },
   "source": [
    "## Python error messages\n",
    "\n",
    "Sometimes the executed commands will encounter an error,\n",
    "and Python will give an error message describing the problem encountered.\n",
    "Get psychologically ready for those, because they can be very discouraging.\n",
    "The computer doesn't like what you entered.\n",
    "Your input is [REJECTED](https://ballislife.com/wp-content/uploads/2014/10/bil-dorsey.jpg)!\n",
    "\n",
    "Examples of errors include `SyntaxError`, `ValueError`, etc.\n",
    "The error messages look scary,\n",
    "but really they are there to help you—if you read what the error message tells you,\n",
    "you will know what needs to be fixed in your input.\n",
    "The error message literally describes the problem!\n",
    "\n",
    "<!-- if you type invalid syntax, assign to non-existing variables, or otherwise input something that Python doesn't like, Python will throw an \"exception,\" which is like saying \"Yo, I don't understand this, or I can't run this, or the code refers to some data that doesn't exist, etc.\" You'll see the name of the error that occurred and a message to explain what went wrong. -->"
   ]
  },
  {
   "cell_type": "markdown",
   "id": "f88d855c-144f-4dba-a3ed-860eb2f1c24f",
   "metadata": {},
   "source": [
    "Let's look at an example expression that Python cannot compute,\n",
    "so it raises an exception.\n",
    "The code cell below shows an example error that occurs when you ask Pyhton to computer a math expressions that doesn't make sense."
   ]
  },
  {
   "cell_type": "code",
   "execution_count": null,
   "id": "99b808a8",
   "metadata": {
    "tags": [
     "raises-exception"
    ]
   },
   "outputs": [],
   "source": [
    "3/0"
   ]
  },
  {
   "cell_type": "markdown",
   "id": "ae9fcc34-2f6c-4e97-a3e7-311b2392f071",
   "metadata": {},
   "source": [
    "You'll see these threatening looking messages on a red background any time Python encounters an error when trying to run the commands you specified.\n",
    "This is nothing to be alarmed by.\n",
    "It usually means you made a typo (symbol not defined error),\n",
    "forgot a syntax element (e.g. `(`, `,`, `[`, `:`, etc.),\n",
    "or tried to compute something impossible like the `ZeroDivisionError` in the above example.\n",
    "\n",
    "We get an error since we're trying to compute an expression that contains a divide by zero error:\n",
    "Python tell us a `ZeroDivisionError: division by zero` has occurred.\n",
    "Indeed it's not possible to divide by zero.\n",
    "\n",
    "The way to read these red messages is to focus on the name of the exception and the message that gets printed on the last line. This should tell you what you need to fix. The solution will be obvious for typos and syntax errors, but for more complicated situations requires googling and searching on stack overflow."
   ]
  },
  {
   "cell_type": "code",
   "execution_count": null,
   "id": "fcfeecb6-3362-493b-a014-769d5a316c0e",
   "metadata": {},
   "outputs": [],
   "source": [
    "3/1"
   ]
  },
  {
   "cell_type": "markdown",
   "id": "d4ed9345-f645-4f34-b284-4ac78979efa2",
   "metadata": {
    "tags": []
   },
   "source": [
    "Below is a list of the most common error messages you are likely to encounter:\n",
    "\n",
    "- `SyntaxError`: you typed in something wrong (usually missing \" ] or some other punctuation)\n",
    "- `NameError`: Raised when a variable is not found in local or global scope.\n",
    "- `KeyError`: Raised when a key is not found in a dictionary.\n",
    "- `TypeError`: Raised when a function or operation is applied to an object of incorrect type.\t\n",
    "- `ValueError`: Raised when a function gets an argument of correct type but improper value.\n",
    "- `ZeroDivisionError`: Raised when the second operand of division or modulo operation is zero.\n",
    "- later on we'll also run into: `ImportError` and `AttributeError`\n",
    "\n",
    "There are many more error types. You can see a complete list by typing in the command `*Error?`."
   ]
  },
  {
   "cell_type": "markdown",
   "id": "6f2417c3-dd57-467a-82e8-a105b8fb4d0b",
   "metadata": {
    "tags": []
   },
   "source": [
    "**Exercise**: let's break Python! 🔨🔨🔨🔨🔨🔨  \n",
    "Try typing in Python commands that would causes one of the above errors."
   ]
  },
  {
   "cell_type": "code",
   "execution_count": null,
   "id": "9aebce93-4124-4918-8f69-a69c457e3c9e",
   "metadata": {},
   "outputs": [],
   "source": [
    "#@titlesolution\n",
    "\n",
    "# SyntaxError\n",
    "# {1\n",
    "\n",
    "# NameError\n",
    "# zz + 3\n",
    "\n",
    "# KeyError\n",
    "# d = {}\n",
    "# d[\"zz\"]\n",
    "\n",
    "# TypeError\n",
    "# sum(3)\n",
    "\n",
    "# ValueError\n",
    "# int(\"zz\")\n",
    "\n",
    "# ZeroDivisionError\n",
    "# 5/0\n",
    "\n",
    "# ImportError\n",
    "# from math import zz\n",
    "\n",
    "# AttributeError\n",
    "# \"hello\".zz"
   ]
  },
  {
   "cell_type": "code",
   "execution_count": null,
   "id": "ad657513-bb32-4c26-bcde-2c9aaa7cb63a",
   "metadata": {},
   "outputs": [],
   "source": []
  },
  {
   "cell_type": "code",
   "execution_count": null,
   "id": "64cfa87a-71d7-4ab7-a726-b71738be036a",
   "metadata": {},
   "outputs": [],
   "source": []
  },
  {
   "cell_type": "markdown",
   "id": "0aab73fc-76a0-4122-ab29-ebc84490b374",
   "metadata": {},
   "source": [
    "## Python documentation\n",
    "\n",
    "The official Python documentation website https://docs.python.org provides loads and loads of excellent information for learning Python.\n",
    "\n",
    "Here are some useful links:\n",
    "\n",
    "- main page https://docs.python.org/3/\n",
    "- tutorial https://docs.python.org/3/tutorial/index.html\n",
    "- example (built in functions and types from Lessons 1 through 3)\n",
    "  - len https://docs.python.org/3/library/functions.html#len\n",
    "  - type https://docs.python.org/3/library/functions.html#type\n",
    "  - print https://docs.python.org/3/library/functions.html#print \n",
    "  - int https://docs.python.org/3/library/functions.html#int \n",
    "  - float https://docs.python.org/3/library/functions.html#float \n",
    "  - str https://docs.python.org/3/library/functions.html#func-str\n",
    "  - list https://docs.python.org/3/library/functions.html#func-list\n",
    "  - dict https://docs.python.org/3/library/functions.html#func-dict \n",
    "  - sum https://docs.python.org/3/library/functions.html#sum \n",
    "  - max https://docs.python.org/3/library/functions.html#max\n",
    "  \n",
    "I encourage you to browse the site to familiarize yourself with the information that is available.\n",
    "\n",
    "Usually when you do a google search, the official Python docs will show up on the first page of results.\n",
    "Make sure to prefer reading the official documentation instead of other \"learn Python\" websites\n",
    "(currently the first few google search results that show up point to SEO-optimized, spammy, advertisementfull, websites \n",
    " which are inferior to the official documentation).\n",
    "Always prefer the official docs (even if it appears lower in the list of results on the page).\n",
    "Stack overflow discussions are also a good place to find answers to common Python questions."
   ]
  },
  {
   "cell_type": "code",
   "execution_count": null,
   "id": "9d3eeda6-1fd0-4751-9b4c-6dbcc9e0ee44",
   "metadata": {},
   "outputs": [],
   "source": []
  },
  {
   "cell_type": "code",
   "execution_count": null,
   "id": "f79106be-94a3-4246-a188-69e0498b60ab",
   "metadata": {},
   "outputs": [],
   "source": []
  },
  {
   "cell_type": "markdown",
   "id": "a272ab4b-3c87-4114-b0de-3d8ef6c30e5b",
   "metadata": {
    "tags": []
   },
   "source": [
    "# Boolean variables and conditional statements\n",
    "\n",
    "Let's talk about boolean variables, which can take on one of two values: `True` or `False`. \n",
    "\n",
    "We obtain boolean values from various comparisons."
   ]
  },
  {
   "cell_type": "markdown",
   "id": "f3914f2c-a35c-4a66-bcc3-f9e91b2e8d5a",
   "metadata": {},
   "source": [
    "### Boolean expressions\n",
    "\n",
    "You can use `bool` variables and the logical operations `and`, `or`, `not`, etc. to build more complicated boolean expressions (disjunctions, conjunctions, negations, etc.)."
   ]
  },
  {
   "cell_type": "code",
   "execution_count": null,
   "id": "b517fd0f",
   "metadata": {},
   "outputs": [],
   "source": [
    "print('not True ==', not True)\n",
    "print('not False ==', not False)\n",
    "print('True and True ==', True and True)\n",
    "print('True and False ==', True and False)\n",
    "print('True or False ==', True or False)\n",
    "print('False or False ==', False or False)"
   ]
  },
  {
   "cell_type": "code",
   "execution_count": null,
   "id": "ddae232f-1bee-4264-b2bd-cc845ab06c1a",
   "metadata": {},
   "outputs": [],
   "source": [
    "3 > 2"
   ]
  },
  {
   "cell_type": "markdown",
   "id": "ec991c89-6dac-443b-bfcd-aeacd63714f2",
   "metadata": {},
   "source": [
    "Other arithmetic comparisons include `>=`, `<`, and `<=`, `==` (equal to), `!=` (not equal to)."
   ]
  },
  {
   "cell_type": "markdown",
   "id": "c2368c46-f1c6-4964-a582-272b670ebaf6",
   "metadata": {},
   "source": [
    "The `in` operator can be used to check if an object is part of a list (or another kind of collection)."
   ]
  },
  {
   "cell_type": "code",
   "execution_count": null,
   "id": "ee093a89-c0e8-4697-b851-730266148e36",
   "metadata": {},
   "outputs": [],
   "source": [
    "3 in [1,2,3,4]"
   ]
  },
  {
   "cell_type": "markdown",
   "id": "ae061026-8805-4af2-9b4e-44305a31cad8",
   "metadata": {
    "tags": []
   },
   "source": [
    "Additionally, there is a conventions about values are considered \"truthy\" (i.e. get converted to `True` when converted to boolean using `bool`) and which expressions are falsy (i.e. get converted to `False` when passed through `bool`)."
   ]
  },
  {
   "cell_type": "code",
   "execution_count": null,
   "id": "e027a4f1",
   "metadata": {},
   "outputs": [],
   "source": [
    "bool(0)"
   ]
  },
  {
   "cell_type": "code",
   "execution_count": null,
   "id": "1f8c417f",
   "metadata": {},
   "outputs": [],
   "source": [
    "bool(1)"
   ]
  },
  {
   "cell_type": "markdown",
   "id": "ea208eca-f3b6-44c0-9a26-1a3cb7d305ce",
   "metadata": {},
   "source": [
    "Any non-zero float is considered is truthy"
   ]
  },
  {
   "cell_type": "code",
   "execution_count": null,
   "id": "2d75a51e-636e-4bea-a828-1488109f8794",
   "metadata": {},
   "outputs": [],
   "source": [
    "bool(133.3)"
   ]
  },
  {
   "cell_type": "markdown",
   "id": "83a69f05-908c-4d80-bffb-5af30e30c896",
   "metadata": {},
   "source": [
    "Any non-empty string is considered truthy:"
   ]
  },
  {
   "cell_type": "code",
   "execution_count": null,
   "id": "27b8807d",
   "metadata": {},
   "outputs": [],
   "source": [
    "bool(\"something\")"
   ]
  },
  {
   "cell_type": "markdown",
   "id": "bbf24fd2-f304-40fe-9bc4-e2a81de715ff",
   "metadata": {},
   "source": [
    "But empty string is falsy:"
   ]
  },
  {
   "cell_type": "code",
   "execution_count": null,
   "id": "cd1edeb7-51ba-4ee0-a1b4-3c3388e85b3a",
   "metadata": {},
   "outputs": [],
   "source": [
    "bool(\"\")"
   ]
  },
  {
   "cell_type": "markdown",
   "id": "ccf3bd00-3b79-4ae6-bdbd-54456484a912",
   "metadata": {},
   "source": [
    "Boolean expressions are important to understand because they are used in conditional statements."
   ]
  },
  {
   "cell_type": "markdown",
   "id": "0cb9bdae-e22b-4566-a6a1-e7158de756c8",
   "metadata": {},
   "source": [
    "### Conditional statements\n",
    "\n",
    "Conditional control flow between code block alternatives\n"
   ]
  },
  {
   "cell_type": "code",
   "execution_count": null,
   "id": "aff62239-c311-4639-bcbb-3a67d617318a",
   "metadata": {},
   "outputs": [],
   "source": [
    "if True:\n",
    "    print(\"This code will run\")\n",
    "\n",
    "if False:\n",
    "    print(\"This code will not run\")"
   ]
  },
  {
   "cell_type": "markdown",
   "id": "cfbafdbe-cfd7-4d48-a82c-8d2365ce208e",
   "metadata": {},
   "source": [
    "Can construct boolean values like `True` and `False` using various expressions that involve comparison,\n",
    "`==` equal to, `>` greater than, `<` less than, etc."
   ]
  },
  {
   "cell_type": "code",
   "execution_count": null,
   "id": "8e09d077-d3f8-465f-92e2-f9b790a0e637",
   "metadata": {},
   "outputs": [],
   "source": [
    "x = 3\n",
    "\n",
    "x > 2"
   ]
  },
  {
   "cell_type": "code",
   "execution_count": null,
   "id": "bb67abe5-01e6-413b-9f24-863e7270cca3",
   "metadata": {},
   "outputs": [],
   "source": [
    "if x > 2:\n",
    "    print(\"x is greater than 2\")\n",
    "else:\n",
    "    print(\"x is less than or equal to 2\")"
   ]
  },
  {
   "cell_type": "markdown",
   "id": "d0e825a2-b5f4-4d93-a24a-73503ed563ee",
   "metadata": {},
   "source": [
    "We can do multiple checks using `elif` statements."
   ]
  },
  {
   "cell_type": "code",
   "execution_count": null,
   "id": "b0cb5ac6-acdc-4af4-b953-c2c5f072d53f",
   "metadata": {},
   "outputs": [],
   "source": [
    "temp = 20\n",
    "\n",
    "if temp >= 15:\n",
    "    print(\"It's nice!\")\n",
    "elif temp < 0:\n",
    "    print(\"It's cold!\")\n",
    "else:\n",
    "    print(\"It's OK.\")"
   ]
  },
  {
   "cell_type": "markdown",
   "id": "ed3262fa-7434-4cbd-a96c-1ae50549b3fb",
   "metadata": {},
   "source": [
    "Exercise: add another condition to the above code to print `It's hot` if the temperature is above 25."
   ]
  },
  {
   "cell_type": "code",
   "execution_count": null,
   "id": "40af59c2-e90e-4bd9-953d-3fbeee946dd5",
   "metadata": {},
   "outputs": [],
   "source": []
  },
  {
   "cell_type": "markdown",
   "id": "39c0ec7f-c3db-4391-80c4-dbf9c815aa7d",
   "metadata": {},
   "source": [
    "### Inline if statements\n",
    "\n",
    "We can also use if-else keywords to compute conditional expressions.\n",
    "The general syntax for these is:\n",
    "```Python\n",
    "<value1> if <condition> else <value2>\n",
    "```\n",
    "\n",
    "This expressions evaluates to `<value1>` if the `<condition>` is true,\n",
    "and to `<value2>` if `<condition>` is False.\n"
   ]
  },
  {
   "cell_type": "code",
   "execution_count": null,
   "id": "9c2ab462-9fd8-4054-95c3-d9c9777b8ca5",
   "metadata": {},
   "outputs": [],
   "source": [
    "temp = 20\n",
    "msg = \"It's nice!\" if temp >= 15 else \"It's OK.\"\n",
    "print(msg)"
   ]
  },
  {
   "cell_type": "markdown",
   "id": "e0752b0b-2d68-4a03-8a9f-539f566a1e17",
   "metadata": {},
   "source": [
    "# Lists and for loops\n"
   ]
  },
  {
   "cell_type": "markdown",
   "id": "499f5589-9568-43a3-ba6c-ed43b3df568e",
   "metadata": {},
   "source": [
    "## Lists\n",
    "\n",
    "To create a list of two values:\n",
    "- start with an opening square bracket `[` ,\n",
    "- then put the first value,\n",
    "- comma `,`,\n",
    "- then the second value,\n",
    "- finally close the square bracket `]`"
   ]
  },
  {
   "cell_type": "code",
   "execution_count": null,
   "id": "85ac2547",
   "metadata": {},
   "outputs": [],
   "source": [
    "first_val = 3\n",
    "second_val = 4\n",
    "\n",
    "my_list = [first_val, second_val]\n",
    "my_list"
   ]
  },
  {
   "cell_type": "code",
   "execution_count": null,
   "id": "f76410af",
   "metadata": {},
   "outputs": [],
   "source": [
    "scores = [61, 79, 98, 72]  # define a list of ints\n",
    "scores"
   ]
  },
  {
   "cell_type": "code",
   "execution_count": null,
   "id": "3847db1a",
   "metadata": {},
   "outputs": [],
   "source": [
    "# lists have a \"length\"\n",
    "len(scores)"
   ]
  },
  {
   "cell_type": "code",
   "execution_count": null,
   "id": "ae78304a",
   "metadata": {},
   "outputs": [],
   "source": [
    "# elements of a list are acccessed using [ ] and 0-based index\n",
    "scores[0]  # first score"
   ]
  },
  {
   "cell_type": "code",
   "execution_count": null,
   "id": "a6110de9",
   "metadata": {},
   "outputs": [],
   "source": [
    "# lists can be sorted\n",
    "sorted(scores)  # returns a new list of sorted scores"
   ]
  },
  {
   "cell_type": "code",
   "execution_count": null,
   "id": "4a82c0ea",
   "metadata": {},
   "outputs": [],
   "source": [
    "scores"
   ]
  },
  {
   "cell_type": "code",
   "execution_count": null,
   "id": "feb2d894",
   "metadata": {},
   "outputs": [],
   "source": [
    "scores.sort()  # in-place sort the list\n",
    "scores"
   ]
  },
  {
   "cell_type": "markdown",
   "id": "cd303650-47fb-43ed-b9b5-36651faa7085",
   "metadata": {},
   "source": [
    "Just like `.sort()` method, lists have all kinds of useful methods `.append`, `.insert`, `.remove`, `.pop`, `.reverse`, ...  "
   ]
  },
  {
   "cell_type": "code",
   "execution_count": null,
   "id": "780efcce",
   "metadata": {},
   "outputs": [],
   "source": [
    "scores.append(22)"
   ]
  },
  {
   "cell_type": "code",
   "execution_count": null,
   "id": "f0c38a04",
   "metadata": {},
   "outputs": [],
   "source": [
    "scores.insert(2, 25)\n",
    "scores"
   ]
  },
  {
   "cell_type": "code",
   "execution_count": null,
   "id": "a3e4aacb-bb40-43b3-95c2-e7114b261ec3",
   "metadata": {},
   "outputs": [],
   "source": [
    "scores.remove(25)\n",
    "scores"
   ]
  },
  {
   "cell_type": "code",
   "execution_count": null,
   "id": "15a74b2b",
   "metadata": {},
   "outputs": [],
   "source": [
    "scores.pop()"
   ]
  },
  {
   "cell_type": "code",
   "execution_count": null,
   "id": "407ec209",
   "metadata": {},
   "outputs": [],
   "source": [
    "scores.reverse()\n",
    "scores"
   ]
  },
  {
   "cell_type": "code",
   "execution_count": null,
   "id": "7d1302f6",
   "metadata": {},
   "outputs": [],
   "source": [
    "scores"
   ]
  },
  {
   "cell_type": "code",
   "execution_count": null,
   "id": "a0435323-54c4-4c72-b46e-e4dd168da0f4",
   "metadata": {},
   "outputs": [],
   "source": [
    "# list membership\n",
    "98 in scores"
   ]
  },
  {
   "cell_type": "markdown",
   "id": "515fb839-ef94-45a3-b3f5-359f5cce4a24",
   "metadata": {},
   "source": [
    "You can see all those methods by starting to type `scores.` then pause for a second to see the auto-complete suggestions:"
   ]
  },
  {
   "cell_type": "code",
   "execution_count": null,
   "id": "3a2e521a",
   "metadata": {},
   "outputs": [],
   "source": [
    "# scores."
   ]
  },
  {
   "cell_type": "markdown",
   "id": "19eb9950-33f7-4187-b4f2-7918aa3cf1cb",
   "metadata": {},
   "source": [
    "We can also use the Python built-in methods on the list scores:"
   ]
  },
  {
   "cell_type": "code",
   "execution_count": null,
   "id": "f92d9312-e879-490b-ae3f-801dd7c2fd6b",
   "metadata": {},
   "outputs": [],
   "source": [
    "# print(scores)\n",
    "# len(scores)\n",
    "# sum(scores)\n",
    "# any(scores)\n",
    "# all(scores)"
   ]
  },
  {
   "cell_type": "markdown",
   "id": "729699e7",
   "metadata": {},
   "source": [
    "## For loops\n",
    "\n",
    "repeat a code block multiple times for each element in an iterable\n",
    "code blocks (via indentation) with multiple expressions (these are indicated based on the text indentation of the code instructions)\n",
    "\n",
    "\n",
    "The \"for loop\" is a Python code construct of the form:\n",
    "```Python\n",
    "for el in <container>:\n",
    "    <operations on element `el`>\n",
    "\n",
    "```\n",
    "that allows to repeat a block of operations **for each element of the list**."
   ]
  },
  {
   "cell_type": "code",
   "execution_count": null,
   "id": "56002dd2",
   "metadata": {},
   "outputs": [],
   "source": [
    "# Example 1: print all the scores\n",
    "for score in scores:\n",
    "    print(score)"
   ]
  },
  {
   "cell_type": "code",
   "execution_count": null,
   "id": "dfcd2e70",
   "metadata": {},
   "outputs": [],
   "source": [
    "# Example 2: compute the average score  ==  sum(scores)/len(scores)\n",
    "\n",
    "total = 0\n",
    "\n",
    "for score in scores:\n",
    "    total = total + score\n",
    "\n",
    "total / len(scores)"
   ]
  },
  {
   "cell_type": "markdown",
   "id": "dfb40478",
   "metadata": {},
   "source": [
    "The name of the variable used for the for loop is totally up to you, but in general you should choose logical names for elements of the list.\n",
    "\n",
    "Here is a for loop that uses the single-letter variable:"
   ]
  },
  {
   "cell_type": "code",
   "execution_count": null,
   "id": "6961867c",
   "metadata": {},
   "outputs": [],
   "source": [
    "for s in scores:\n",
    "    print(s)\n"
   ]
  },
  {
   "cell_type": "code",
   "execution_count": null,
   "id": "dd44a9c6",
   "metadata": {},
   "outputs": [],
   "source": [
    "scores"
   ]
  },
  {
   "cell_type": "code",
   "execution_count": null,
   "id": "e7af72da",
   "metadata": {},
   "outputs": [],
   "source": []
  },
  {
   "cell_type": "markdown",
   "id": "0e043a84-8a9e-4bba-91f7-b1aebb63ec5f",
   "metadata": {},
   "source": [
    "### List comprehension "
   ]
  },
  {
   "cell_type": "code",
   "execution_count": null,
   "id": "76681dd1",
   "metadata": {},
   "outputs": [],
   "source": [
    "[score/100 for score in scores]"
   ]
  },
  {
   "cell_type": "markdown",
   "id": "d50a2e46",
   "metadata": {},
   "source": [
    "### Example: file open and readlines"
   ]
  },
  {
   "cell_type": "code",
   "execution_count": null,
   "id": "425b6e31",
   "metadata": {},
   "outputs": [],
   "source": [
    "lines = open(\"story.txt\").read().splitlines()\n",
    "lines"
   ]
  },
  {
   "cell_type": "code",
   "execution_count": null,
   "id": "9594aeae-04be-4c77-b5d6-b8d3c72470b8",
   "metadata": {},
   "outputs": [],
   "source": [
    "file = open(\"story.txt\")\n",
    "contents = file.read()\n",
    "lines = contents.splitlines()\n",
    "lines"
   ]
  },
  {
   "cell_type": "code",
   "execution_count": null,
   "id": "01d3983f",
   "metadata": {},
   "outputs": [],
   "source": []
  },
  {
   "cell_type": "markdown",
   "id": "b1f3e944-2202-4acb-a20c-ae6cfde8fe78",
   "metadata": {
    "tags": []
   },
   "source": [
    "### List-like iterable objects\n",
    "\n",
    "The term \"iterable\" is used in Python to refer to all objects that are list-like,\n",
    "and can be iterated using for loops.\n",
    "\n",
    "- strings\n",
    "- dictionaries (keys, values, and key:value items)\n",
    "- sets\n",
    "- `range` (lazy list of integers)\n",
    "\n",
    "https://www.pythonlikeyoumeanit.com/Module2_EssentialsOfPython/Iterables.html#Functions-that-act-on-iterables\n",
    "\n",
    "\n"
   ]
  },
  {
   "cell_type": "code",
   "execution_count": null,
   "id": "1c5c9094-d5ad-41d3-84eb-454fecdaa5b1",
   "metadata": {},
   "outputs": [],
   "source": [
    "range(0, 4)"
   ]
  },
  {
   "cell_type": "code",
   "execution_count": null,
   "id": "0cf5ab82-b76b-435b-b225-60ae3ca7aa4d",
   "metadata": {},
   "outputs": [],
   "source": [
    "list(range(0, 4))"
   ]
  },
  {
   "cell_type": "markdown",
   "id": "6d54c9b3-1a3e-49b9-bc0f-b83496851842",
   "metadata": {},
   "source": [
    "#### Iterating over dictionaries\n",
    "\n"
   ]
  },
  {
   "cell_type": "code",
   "execution_count": null,
   "id": "a9f6ff40-85bd-4073-be0c-46add2a6983b",
   "metadata": {},
   "outputs": [],
   "source": [
    "player = {\"name\":\"Julie\", \"level\":3, \"team\":\"a\"}\n",
    "list(player.keys())"
   ]
  },
  {
   "cell_type": "code",
   "execution_count": null,
   "id": "160ffab8-9cfe-4ced-b972-c56bbbbb41aa",
   "metadata": {},
   "outputs": [],
   "source": [
    "# # ALT.\n",
    "# list(player)"
   ]
  },
  {
   "cell_type": "code",
   "execution_count": null,
   "id": "131daff9-cde5-431c-8422-5b71f491f266",
   "metadata": {},
   "outputs": [],
   "source": [
    "list(player.values())"
   ]
  },
  {
   "cell_type": "code",
   "execution_count": null,
   "id": "abd1b2b1-d69f-4cb3-842d-c7a962eed73a",
   "metadata": {},
   "outputs": [],
   "source": [
    "list(player.items())"
   ]
  },
  {
   "cell_type": "markdown",
   "id": "ed3c527a-323f-40f7-84fa-d70fcf94cb05",
   "metadata": {},
   "source": [
    "We'll talk more about dictionaries [later on](#Dictionaries-and-other-data-structures)."
   ]
  },
  {
   "cell_type": "markdown",
   "id": "9da5cf70-2ec9-4b04-acde-b1627fa64a28",
   "metadata": {
    "tags": []
   },
   "source": [
    "#### Strings are lists of characters"
   ]
  },
  {
   "cell_type": "code",
   "execution_count": null,
   "id": "5f62f57d",
   "metadata": {},
   "outputs": [],
   "source": [
    "# Define a str of length 26 that contains all the lowercase Latin letters\n",
    "letters = \"abcdefghijklmnopqrstuvwxyz\"\n",
    "\n",
    "# Accessing individual characters within a string\n",
    "print(\"The index of the letter `a` in the string letters is 0\")\n",
    "first_letter = letters[0]  # a\n",
    "print(first_letter)\n",
    "\n",
    "print(\"The index of the letter `b` in the string letters is 1\")\n",
    "second_letter = letters[1]  # b\n",
    "print(second_letter)\n",
    "\n",
    "print(\"The index of the last letter in the string letters is -1\")\n",
    "last_letter = letters[-1]  # z\n",
    "print(last_letter)\n",
    "\n",
    "print(\"The last element in list of 26 elments has index 25\")\n",
    "print(letters[25] == \"z\")\n",
    "\n",
    "print('\\n\\n\\n')  # '\\n' is a special character (an escape sequence) that prints a newline\n",
    "                 # we'll use this kind of preint-nelines statements to logically\n",
    "                 # separate the out outplut lines\n",
    "\n",
    "# Slicing = getting the substring for a particular range of indices\n",
    "first_four = letters[0:4]\n",
    "print('The first four letters of the alphabet are:', first_four)\n",
    "# the notation 0:4 is sugar syntax for `slice(0,4)` and corresponds\n",
    "# to the range of indices for 0 to 4 (non-inclusinve): [0,1,2,3]."
   ]
  },
  {
   "cell_type": "markdown",
   "id": "8196408e-9d64-4b27-a6d1-58f32103a84a",
   "metadata": {},
   "source": [
    "#### Tricks for lists\n",
    "\n",
    "Tricks:\n",
    "- `enumerate`\n",
    "- `zip`"
   ]
  },
  {
   "cell_type": "code",
   "execution_count": null,
   "id": "e8101dfa",
   "metadata": {},
   "outputs": [],
   "source": [
    "enumerate(scores)"
   ]
  },
  {
   "cell_type": "code",
   "execution_count": null,
   "id": "f49a6d1c",
   "metadata": {},
   "outputs": [],
   "source": [
    "# Bonus concept: use `enumerate` to get pairs (index, value) from a list\n",
    "# enumerate(scores) == [(0, 61.0), (1, 72.0), (2, 85.0), (3, 92.0)]\n",
    "\n",
    "# example\n",
    "for idx, score in enumerate(scores):\n",
    "    # this for loop has two variables index and score\n",
    "    print(\"Processing score\", score, \"which is at index\", idx, \"in the list\")"
   ]
  },
  {
   "cell_type": "code",
   "execution_count": null,
   "id": "0a1fbbcf",
   "metadata": {},
   "outputs": [],
   "source": [
    "# New concept: use `zip(list1,list2)` to get pairs (value1, value2) from two lists \n",
    "# list(zip([1,2,3], ['a','b','c'])) == [(1, 'a'), (2, 'b'), (3, 'c')]\n",
    "\n",
    "# example\n",
    "list1 = [1, 2, 3]\n",
    "list2 = [4, 5, 6]\n",
    "\n",
    "for value1, value2 in zip(list1, list2):\n",
    "    print(\"Processing values\", value1, \"and\", value2)\n"
   ]
  },
  {
   "cell_type": "code",
   "execution_count": null,
   "id": "0ef79303",
   "metadata": {},
   "outputs": [],
   "source": [
    "list1 = [1, 2, 3]\n",
    "list2 = [4, 5, 6]\n",
    "\n",
    "list(zip(list1, list2))"
   ]
  },
  {
   "cell_type": "markdown",
   "id": "cbc8d3ad",
   "metadata": {},
   "source": [
    "<a name=\"funcs\"></a>\n",
    "# Functions\n",
    "\n",
    "Functions are one of the most important concepts in math and programming.\n",
    "\n",
    "\n",
    "    y = f(x)  # common convention in math to call function inputs x, and outputs y\n",
    "\n",
    "We can also draw as `x -----f----> y` the function is a map from input values x to an output value y\n",
    "\n",
    "\n",
    "    def f(x):\n",
    "        <steps to compute y from x>\n",
    "        return y\n",
    "\n",
    "\n",
    "Functions!! Finally we get to the good stuff! The previous two sessions were important\n",
    "foundations, but now we get to unlocking the first superpower — modelling.\n",
    "Once you know the basic properties of 10 or so functions,\n",
    "you can build precise mathematical models for any real-world system.\n",
    "\n",
    "\n",
    "Functions are all over the place:\n",
    "- In high school math (the green book) we learn the basic vocabulary of $y=f(x)$ functions\n",
    "  and their parameters, which allows us to describe any real world process\n",
    "- In calculus we analyze functions $f(x)$ behaviour over time\n",
    "  (integral of f = sum of values of $f(x)$ between x=start and x=finish;\n",
    "  and derivative of f at a = the slope of the graph of f(x) when x=a)\n",
    "- In linear algebra we study linear transformations, which are functions\n",
    "  that satisfy $f(ax+by)=af(x)+bf(y)$, meaning a linear combination of inputs\n",
    "  produces the same linear combination of outputs.\n",
    "- In probability theory we use functions to describe the probability density of\n",
    "  a random variables. For example $X = \\mathcal{N}(\\mu, \\sigma^2)$ is a random variable\n",
    "  whose density is described by the function p(x) = K*exp(-((x-mu)/sigma)^2/2)\n",
    "  in stats we talk about functions computed from samples (estimators)\n",
    "- In ML we learn about probabilistic models and use them to predict y from given input x\n",
    "\n",
    "\n",
    "\n",
    "see also https://www.pythonlikeyoumeanit.com/Module2_EssentialsOfPython/Functions.html"
   ]
  },
  {
   "cell_type": "markdown",
   "id": "dbb38e81",
   "metadata": {},
   "source": [
    "## Python functions\n",
    "\n",
    "reusable chunks of code that can be def-ined once, and used multiple times by \"calling\" them with different arguments\n",
    "\n",
    "\n",
    "\n",
    "Functions in Python are similar to functions in math: a transformation that takes certain inputs and produces certain outputs. The math functions you're familiar with take numbers as inputs and produce numebrs as outputs, but a Python function can take on any type of input and produce any type of output.\n",
    "\n",
    "Functions allow us to build chunks of reusable code that we can later reuse in other programs.\n",
    "\n",
    "We declare a function with the keyword `def`.\n",
    "\n",
    "```python\n",
    "def function_name(<function inputs>):\n",
    "    \"\"\"\n",
    "    doc string that describes what the function does (optional)\n",
    "    \"\"\"\n",
    "    <function body line 1>\n",
    "    <function body line 2>\n",
    "    <function body line ...>\n",
    "    <function body line n-1>\n",
    "    return <function output value>\n",
    "```\n",
    "\n",
    "We enter the name of the function, then define the functions arguments inside parentheses—the names of the variables that the function receives as inputs. Then the function body is written as an indented block of code (all lines start with four spaces indentation). The output of the function is specified using the `return` keyword. The return statement is usually the last line in the function body.\n",
    "\n",
    "Certain functions do not return a value (we call these _procedures_) and they consist of sequences of commands we want to execute, that don't have any outputs. FunctIons can also be attached to objects, in which case they are called _methods_. We'll talk about these layer on, for now let's focus on simple math-like functions that receive some input and produce output:\n",
    "\n",
    "#### Example 1\n",
    "\n",
    "A first example of a simple math-like function. The function is called `f`,\n",
    "takes numbers as inputs, and produces numbers as outputs:"
   ]
  },
  {
   "cell_type": "code",
   "execution_count": null,
   "id": "6d4e3530",
   "metadata": {},
   "outputs": [],
   "source": [
    "def f(x):\n",
    "    return 2*x + 3\n",
    "\n",
    "f(10)"
   ]
  },
  {
   "cell_type": "code",
   "execution_count": null,
   "id": "680f7ed9",
   "metadata": {},
   "outputs": [],
   "source": []
  },
  {
   "cell_type": "markdown",
   "id": "e5a345e3",
   "metadata": {},
   "source": [
    "#### Example 2"
   ]
  },
  {
   "cell_type": "code",
   "execution_count": null,
   "id": "839dcba9",
   "metadata": {},
   "outputs": [],
   "source": [
    "import random\n",
    "\n",
    "def toss_coin():\n",
    "    r = random.random()\n",
    "    if r < 0.5:\n",
    "        print(\"heads\")\n",
    "    else:\n",
    "        print(\"tails\")\n",
    "\n",
    "toss_coin()  # no return value, but prints output"
   ]
  },
  {
   "cell_type": "markdown",
   "id": "6281a40b",
   "metadata": {},
   "source": [
    "#### Example 3\n",
    "\n",
    "Write a function `water_phase(temp)` that takes input temperature `temp` in Celcius,\n",
    "uses if/else statements to find what state water is in (assume pressure is 1atm).\n",
    "The function returns a string, which is one of \"Solid\", \"Liquid\", \"Gas\"."
   ]
  },
  {
   "cell_type": "code",
   "execution_count": null,
   "id": "7c52924f",
   "metadata": {},
   "outputs": [],
   "source": [
    "def water_phase(temp):\n",
    "    \"\"\"\n",
    "    Returns phase of water at `temp`.\n",
    "    Input temp is temperature in Celcius (int or float)\n",
    "    temp must be greater than -273.15.\n",
    "    \"\"\"\n",
    "    if temp > 0 and temp < 100:\n",
    "        return 'Liquid'\n",
    "    elif temp <= 0:\n",
    "        return 'Solid'\n",
    "    elif temp >= 100:\n",
    "        return 'Gas'"
   ]
  },
  {
   "cell_type": "code",
   "execution_count": null,
   "id": "8340bb31",
   "metadata": {},
   "outputs": [],
   "source": [
    "## tests to try: correct implementation of `water_phase` should return all True\n",
    "print( water_phase(20.0) == \"Liquid\" )\n",
    "print( water_phase(-20.0) == \"Solid\" )\n",
    "print( water_phase(200.0) == \"Gas\" )\n",
    "print( water_phase(0.0) in [\"Liquid\", \"Solid\"] )"
   ]
  },
  {
   "cell_type": "code",
   "execution_count": null,
   "id": "120a86a9",
   "metadata": {},
   "outputs": [],
   "source": [
    "## range tests\n",
    "results = []\n",
    "\n",
    "for temp in range(1, 100):\n",
    "    result = (water_phase(temp) == 'Liquid')\n",
    "    results.append(result)\n",
    "\n",
    "# temp <= 0\n",
    "for temp in range(-100, 1):\n",
    "    result = (water_phase(temp) == 'Solid')\n",
    "    results.append(result)\n",
    "\n",
    "# temp >= 100\n",
    "for temp in range(100, 5000):\n",
    "    result = (water_phase(temp) == 'Gas')\n",
    "    results.append(result)\n",
    "\n",
    "print('Completed a total of', len(results), 'checks...')\n",
    "all(results)  # True if all results are True"
   ]
  },
  {
   "cell_type": "code",
   "execution_count": null,
   "id": "42d6774a",
   "metadata": {},
   "outputs": [],
   "source": []
  },
  {
   "cell_type": "markdown",
   "id": "2f8e8c62-c130-46cf-bda9-025d1097cc96",
   "metadata": {},
   "source": [
    "### List functions\n",
    "\n",
    "Your turn to play with lists now! Complete the code required to implement the functions `compute_mean` and `compute_std` below.\n",
    "\n",
    "\n",
    "#### Question 1: Mean\n",
    "\n",
    "The formula for the mean of a list of numbers $[x_1, x_2, \\ldots, x_n]$ is:\n",
    "$$\n",
    "    \\text{mean} = \\overline{x}\n",
    "    = \\frac{1}{n}\\sum_{i=1}^n x_i\n",
    "    = \\tfrac{1}{n} \\left[ x_1 + x_2 + \\cdots + x_n \\right].\n",
    "$$\n",
    "\n",
    "\n",
    "Write the function `mean(numbers)`: a function that computes the mean of a list of numbers"
   ]
  },
  {
   "cell_type": "code",
   "execution_count": null,
   "id": "a2752b71",
   "metadata": {},
   "outputs": [],
   "source": [
    "def mean(numbers):\n",
    "    \"\"\"\n",
    "    Computes the mean of the `numbers` list using a for loop.\n",
    "    \"\"\"\n",
    "    total = 0\n",
    "    for number in numbers:\n",
    "        total = total + number\n",
    "    return total / len(numbers)  \n",
    "\n",
    "\n",
    "mean([100,101])"
   ]
  },
  {
   "cell_type": "code",
   "execution_count": null,
   "id": "b582a8bf",
   "metadata": {},
   "outputs": [],
   "source": [
    "# TEST CODE (run this code to test you solution)\n",
    "from test_helpers import test_mean\n",
    "\n",
    "# RUN TESTS\n",
    "test_mean(mean)"
   ]
  },
  {
   "cell_type": "code",
   "execution_count": null,
   "id": "898cdb91",
   "metadata": {},
   "outputs": [],
   "source": []
  },
  {
   "cell_type": "markdown",
   "id": "b7ba0463-a0dd-4b80-b0a9-eae8d9627e92",
   "metadata": {},
   "source": [
    "#### Question 2: Sample standard deviation\n",
    "\n",
    "The formula for the sample standard seviation of a list of numbers is:\n",
    "$$\n",
    "    \\text{std}(\\textbf{x}) = s\n",
    "    = \\sqrt{ \\tfrac{1}{n-1}\\sum_{i=1}^n (x_i-\\overline{x})^2 }\n",
    "    = \\sqrt{ \\tfrac{1}{n-1}\\left[ (x_1-\\overline{x})^2 + (x_2-\\overline{x})^2 + \\cdots + (x_n-\\overline{x})^2\\right]}.\n",
    "$$\n",
    "\n",
    "Note the division is by $(n-1)$ and not $n$. Strange, no? You'll have to wait until stats to see why this is the case.\n",
    "\n",
    "Write `compute_std(numbers)`: computes the sample standard deviation"
   ]
  },
  {
   "cell_type": "code",
   "execution_count": null,
   "id": "d9a96ad2",
   "metadata": {},
   "outputs": [],
   "source": [
    "import math\n",
    "\n",
    "def std(numbers):\n",
    "    \"\"\"\n",
    "    Computes the sample standard deviation (square root of the sample variance)\n",
    "    using a for loop.\n",
    "    \"\"\"\n",
    "    avg = mean(numbers) \n",
    "    total = 0\n",
    "    for number in numbers:\n",
    "        total = total + (number-avg)**2\n",
    "    var = total/(len(numbers)-1)    \n",
    "    return math.sqrt(var)\n",
    "\n",
    "numbers = list(range(0,100))\n",
    "std(numbers)"
   ]
  },
  {
   "cell_type": "code",
   "execution_count": null,
   "id": "f3dedc7e",
   "metadata": {},
   "outputs": [],
   "source": [
    "# compare to known good function...\n",
    "import statistics\n",
    "statistics.stdev(numbers)"
   ]
  },
  {
   "cell_type": "code",
   "execution_count": null,
   "id": "85d86f5d",
   "metadata": {},
   "outputs": [],
   "source": [
    "# TEST CODE (run this code to test you solution)\n",
    "from test_helpers import test_std\n",
    "\n",
    "# RUN TESTS\n",
    "test_std(std)"
   ]
  },
  {
   "cell_type": "code",
   "execution_count": null,
   "id": "45e1a6c2",
   "metadata": {},
   "outputs": [],
   "source": []
  },
  {
   "cell_type": "markdown",
   "id": "b86d8ef3",
   "metadata": {},
   "source": [
    "#### Exercise 2\n",
    "\n",
    "Write a Python function called `temp_convert` that converts C to F"
   ]
  },
  {
   "cell_type": "code",
   "execution_count": null,
   "id": "78964c7e",
   "metadata": {},
   "outputs": [],
   "source": [
    "import math\n",
    "def temp_convert(temp_C):\n",
    "    \"\"\"\n",
    "    Convert the temprate temp_C to temp_F.\n",
    "    \"\"\"\n",
    "    pass\n",
    "\n"
   ]
  },
  {
   "cell_type": "markdown",
   "id": "b71992fd-c675-4da5-8ba5-12853290d10c",
   "metadata": {},
   "source": [
    "### Exercise 4"
   ]
  },
  {
   "cell_type": "code",
   "execution_count": null,
   "id": "1a0aeed1",
   "metadata": {},
   "outputs": [],
   "source": [
    "import random\n",
    "def roll_die():\n",
    "    value = random.randint(1, 6)\n",
    "    return value"
   ]
  },
  {
   "cell_type": "code",
   "execution_count": null,
   "id": "d76eaa2a",
   "metadata": {},
   "outputs": [],
   "source": [
    "roll_die()"
   ]
  },
  {
   "cell_type": "markdown",
   "id": "e3b1946f-3a5e-439a-9644-2efa7585b415",
   "metadata": {},
   "source": [
    "## Example function `head`\n",
    "\n",
    "We often want to print first few lines from a file to see what data it contains."
   ]
  },
  {
   "cell_type": "code",
   "execution_count": null,
   "id": "a7480e9a-bb53-47eb-b87a-a0e0ce126318",
   "metadata": {},
   "outputs": [],
   "source": []
  },
  {
   "cell_type": "markdown",
   "id": "9b0a2730-aa81-4c64-84df-f4c039b9db3d",
   "metadata": {},
   "source": [
    "## Function tricks"
   ]
  },
  {
   "cell_type": "markdown",
   "id": "f879c77d-8472-4710-8ce8-af142093df68",
   "metadata": {},
   "source": [
    "### Lambda functions\n",
    "\n",
    "Python supports and alternative syntax for defining functions,\n",
    "that is sometimes used to define simple functions.\n",
    "For example,\n",
    "let's say you need a function that computes the square of the input,\n",
    "which is written as $f(x) = x^2$ in math notation.\n",
    "\n",
    "You can use the standard Python syntax ...\n",
    "```Python\n",
    "def f(x):\n",
    "    return x**2\n",
    "f\n",
    "```\n",
    "\n",
    "... or you can use the `lambda` expression for defining that function:\n",
    "```Python\n",
    "lambda x: x**2\n",
    "```\n",
    "\n",
    "The general syntax is `lambda <function inputs>: <function output value>`."
   ]
  },
  {
   "cell_type": "markdown",
   "id": "b548ea62-e756-4fd9-8d50-5c01ae17a101",
   "metadata": {},
   "source": [
    "This `lambda`-shortcut for defining functions is useful\n",
    "when calling other functions that expect functions as their arguments.\n",
    "To illustrate what is going on,\n",
    "let's define a python function `plot_function(f)` that plots\n",
    "the graph of the function `f` it receives as its input.\n",
    "\n",
    "The graph of the function $f(x)$\n",
    "is the set of points $(x,f(x))$ in the Cartesian plane,\n",
    "over the interval of $x$ inputs (we'll use the $x$-limits -10 as the starting point and until x=10 as the end point)."
   ]
  },
  {
   "cell_type": "code",
   "execution_count": null,
   "id": "fbd80edc-81cc-4c98-bc74-8352cbe49a7b",
   "metadata": {},
   "outputs": [],
   "source": [
    "import numpy as np\n",
    "import matplotlib.pyplot as plt\n",
    "\n",
    "def plot_function(f, xlims=[-10,10]):\n",
    "    xstart, xend = xlims\n",
    "    xs = np.linspace(xstart, xend, 1000)\n",
    "    ys = [f(x) for x in xs]\n",
    "    plt.plot(xs,ys)    "
   ]
  },
  {
   "cell_type": "markdown",
   "id": "522eb637-3129-49d3-bee1-24d7ebfb1868",
   "metadata": {},
   "source": [
    "If we want to use the function `plot_function` to plot the graph of the function $f(x)=x^2$,\n",
    "we can define a Python function `f` using the standard `def`-syntax and then pass the function `f` to `plot_function` to generate the graph,\n",
    "as shown below:"
   ]
  },
  {
   "cell_type": "code",
   "execution_count": null,
   "id": "f99918ad-ebeb-4542-b724-20c63a8f73d2",
   "metadata": {},
   "outputs": [],
   "source": [
    "def f(x):\n",
    "    return x**2\n",
    "\n",
    "plot_function(f)"
   ]
  },
  {
   "cell_type": "markdown",
   "id": "256d9951-1017-4f31-8cd6-84acf1a3c291",
   "metadata": {},
   "source": [
    "Alternatively,\n",
    "we can use the `lambda`-shortcut Python syntax to define the function inline,\n",
    "when calling `plot_function`."
   ]
  },
  {
   "cell_type": "code",
   "execution_count": null,
   "id": "1227574f-106c-4d7c-a153-60abc3237e13",
   "metadata": {},
   "outputs": [],
   "source": [
    "plot_function(lambda x: x**2)"
   ]
  },
  {
   "cell_type": "markdown",
   "id": "5a6bc0d4-a152-4d06-a4a1-e8b7df074e6d",
   "metadata": {},
   "source": [
    "The `lambda`-expression `lambda x: x**2` is equivalent to the Python function `f` we defined using the two-line `def`-statement.\n",
    "\n",
    "Both ways of defining `f` are the same `type` of object:"
   ]
  },
  {
   "cell_type": "code",
   "execution_count": null,
   "id": "dc92cb4d-1418-400c-b69f-cb1b32e34f2b",
   "metadata": {},
   "outputs": [],
   "source": [
    "type(f)"
   ]
  },
  {
   "cell_type": "code",
   "execution_count": null,
   "id": "85237b9d-a3e4-46f4-971e-04d86e76c637",
   "metadata": {},
   "outputs": [],
   "source": [
    "type(lambda x: x**2)"
   ]
  },
  {
   "cell_type": "code",
   "execution_count": null,
   "id": "9e3b2494-06e9-4cad-aee3-2780eaf68404",
   "metadata": {},
   "outputs": [],
   "source": []
  },
  {
   "cell_type": "markdown",
   "id": "75c745c6-619e-4faa-8806-28cf9ae6825a",
   "metadata": {},
   "source": [
    "Since `f` and `lambda x: x**2` are both expressions of the type `function`,\n",
    "we can call both of them the same way (by passing in the argument in parentheses).\n",
    "\n",
    "For example, if we want to evaluate the function $f(x)$ at the input $x=3$,\n",
    "we can call `f(3)` ..."
   ]
  },
  {
   "cell_type": "code",
   "execution_count": null,
   "id": "0c71db51-c3d2-411e-8f42-be5a22cb4ca9",
   "metadata": {},
   "outputs": [],
   "source": [
    "f(3)"
   ]
  },
  {
   "cell_type": "markdown",
   "id": "119d68b2-c456-44cb-844a-c8428d819158",
   "metadata": {},
   "source": [
    "or we could define the function $f(x)=x^2$ using an inline `lambda` expression,\n",
    "then call the result of the lambda expression by passing in the argument in parentheses."
   ]
  },
  {
   "cell_type": "code",
   "execution_count": null,
   "id": "eef3a105-c2bd-45df-ba64-0166443db622",
   "metadata": {},
   "outputs": [],
   "source": [
    "(lambda x: x**2)(3)"
   ]
  },
  {
   "cell_type": "markdown",
   "id": "b9b794b4-bc8f-4dbf-acf8-ec2a06254519",
   "metadata": {},
   "source": [
    "The `lambda`-shortcut for defining functions is not used often,\n",
    "but sometimes it is very convenient to be able to use inline function definition,\n",
    "so I want you to be familiar with this syntax."
   ]
  },
  {
   "cell_type": "markdown",
   "id": "b6250a0a-3286-48ba-b844-4eb939638bf3",
   "metadata": {},
   "source": [
    "### Applying functions to lists (optional)\n",
    "\n",
    "Consider the math function $f(x)=x^2$.\n",
    "We'll identify the output of the function as the variable $y$.\n",
    "\n",
    "In Python, the function $f(x)=x^2$ is"
   ]
  },
  {
   "cell_type": "code",
   "execution_count": null,
   "id": "29e47ecd-76e3-431d-86cb-9f84e464532d",
   "metadata": {},
   "outputs": [],
   "source": [
    "def f(x):\n",
    "    return x**2"
   ]
  },
  {
   "cell_type": "markdown",
   "id": "a0092d3f-404c-4324-80b9-31a00ae8b1e2",
   "metadata": {},
   "source": [
    "Suppose we want to compute the output values $y=f(x)$\n",
    "for each $x$ in the list of values $[1,2,3,4]$,\n",
    "which we'll call `xs` in the code."
   ]
  },
  {
   "cell_type": "code",
   "execution_count": null,
   "id": "3ef51f4b-26d8-4ae9-9d4c-c31f8498466d",
   "metadata": {},
   "outputs": [],
   "source": [
    "xs = [1,2,3,4]"
   ]
  },
  {
   "cell_type": "markdown",
   "id": "fc5b81ee-4290-45f1-8aa3-7e652f66c3e0",
   "metadata": {},
   "source": [
    "**Option A** You can use a `for` loop to compute the function output $y=f(x)$ for every $x$ in the list of values. First we create an empty list `ys` to store the outputs, then we `.append` to it the values one-by-one as we go though the for loop."
   ]
  },
  {
   "cell_type": "code",
   "execution_count": null,
   "id": "9d46fe06-3651-4b60-9c68-ace3fd6d99a4",
   "metadata": {},
   "outputs": [],
   "source": [
    "ys = []\n",
    "for x in xs:\n",
    "    y = f(x)\n",
    "    ys.append(y)\n",
    "\n",
    "ys"
   ]
  },
  {
   "cell_type": "markdown",
   "id": "d200963e-7d08-4dc8-9e44-8a030c829c5e",
   "metadata": {},
   "source": [
    "**Option B** \n",
    "We can shorten the code using the list comprehension syntax:"
   ]
  },
  {
   "cell_type": "code",
   "execution_count": null,
   "id": "86b7ebf0-986b-4b00-a8fa-bd17ad1a3d75",
   "metadata": {},
   "outputs": [],
   "source": [
    "ys = [f(x) for x in xs]\n",
    "\n",
    "ys"
   ]
  },
  {
   "cell_type": "markdown",
   "id": "d8a2f702-ff48-4e0c-95aa-45769373e781",
   "metadata": {},
   "source": [
    "**Option C** \n",
    "A third alternative would be to use the function `map(f,xs)`\n",
    "which returns a list of the outputs `f(x)` for all `x` in the list `xs`."
   ]
  },
  {
   "cell_type": "code",
   "execution_count": null,
   "id": "37d4b188-cff2-4097-907b-04063c8a1963",
   "metadata": {},
   "outputs": [],
   "source": [
    "ys = map(f, xs)\n",
    "\n",
    "list(ys)"
   ]
  },
  {
   "cell_type": "code",
   "execution_count": null,
   "id": "b6ad73b3-c272-4eaf-bfc1-28daa5dd478f",
   "metadata": {},
   "outputs": [],
   "source": [
    "# ALT. we can specify the function argument to map as a lambda expression\n",
    "# list(map(lambda x: x**2, xs))"
   ]
  },
  {
   "cell_type": "markdown",
   "id": "43971092-34ec-49b0-9547-5b0a5b8c0978",
   "metadata": {},
   "source": [
    "This notion of obtaining `ys` from `xs` for entire lists of values,\n",
    "instead of individual values like `x` and `y` is super useful.\n",
    "We'll see this idea come up again later on in this tutorial\n",
    "when we discuss the Python module NumPy,\n",
    "which allows you to do math operations with \"universal functions\"\n",
    "that do the right thing whether you input a number `x`,\n",
    "a list of numbers `xs`, or even more complicated data structures (e.g. two-dimensional matrices, or higher-dimensional tensors).\n",
    "\n",
    "<!-- The function `map` is sometimes called a higher order function,\n",
    "since it takes a function as one of its inputs. -->"
   ]
  },
  {
   "cell_type": "code",
   "execution_count": null,
   "id": "36c71805-e0ae-410b-9fa0-51dc75f8c066",
   "metadata": {},
   "outputs": [],
   "source": []
  },
  {
   "cell_type": "markdown",
   "id": "3794d642-f630-443c-b322-9d2f548e4884",
   "metadata": {},
   "source": [
    "# Dictionaries\n",
    "\n",
    "When programming in Python,\n",
    "one of the most commonly used data structures,\n",
    "are dictionaries `dict`,\n",
    "and other `dict`-like data structures.\n",
    "\n",
    "A dictionary is an associate array between a set of `keys` and a set of `values`.\n",
    "For example,\n",
    "the code below defines dictionary `d` that consists of the three keys-value pairs:"
   ]
  },
  {
   "cell_type": "code",
   "execution_count": null,
   "id": "2cbe5469-d441-4527-b8cc-df5d550f7f87",
   "metadata": {},
   "outputs": [],
   "source": [
    "d = {\"key1\":\"value1\", \"key2\":\"value2\", \"key3\":\"value3\"}"
   ]
  },
  {
   "cell_type": "code",
   "execution_count": null,
   "id": "d67f493f-3c41-468e-b282-2c693c2ce362",
   "metadata": {},
   "outputs": [],
   "source": [
    "d"
   ]
  },
  {
   "cell_type": "code",
   "execution_count": null,
   "id": "7137d147-a739-4882-8795-e39770b436a9",
   "metadata": {},
   "outputs": [],
   "source": [
    "d.keys()"
   ]
  },
  {
   "cell_type": "code",
   "execution_count": null,
   "id": "cf558c1f-bb8a-43c5-9159-61c2de03dc8f",
   "metadata": {},
   "outputs": [],
   "source": [
    "d.values()"
   ]
  },
  {
   "cell_type": "markdown",
   "id": "e3e47e0c-d2b5-4a7c-93d7-d05564ebff52",
   "metadata": {},
   "source": [
    "You access the value in the dictionary using the square brackets syntax.\n",
    "For example,\n",
    "to see the value associated with key `key1` in the dictionary `d`,\n",
    "we call:"
   ]
  },
  {
   "cell_type": "code",
   "execution_count": null,
   "id": "292445ea-72b6-4adc-a06d-08d4e5d574d0",
   "metadata": {},
   "outputs": [],
   "source": [
    "d[\"key1\"]"
   ]
  },
  {
   "cell_type": "markdown",
   "id": "d2c96a16-d763-48dc-a9ca-b92e469e0d69",
   "metadata": {},
   "source": [
    "You can change the value associate with any key by assigning a new value to it:"
   ]
  },
  {
   "cell_type": "code",
   "execution_count": null,
   "id": "cea52a07-c70b-497a-8bd6-a13231032aef",
   "metadata": {},
   "outputs": [],
   "source": [
    "d[\"key2\"] = \"newval2\"\n",
    "d"
   ]
  },
  {
   "cell_type": "markdown",
   "id": "28c11eeb-7459-4205-9d1e-37176d05c45a",
   "metadata": {},
   "source": [
    "### Exercise: creating a new profile dictionary\n",
    "\n",
    "Create a dictionary called `profile2` with the same structure as `profile`\n",
    "\n",
    "```Python\n",
    "profile = {\"first_name\":\"Julie\",\n",
    "           \"last_name\":\"Tremblay\",\n",
    "           \"score\":98}\n",
    "```\n",
    "\n",
    "but for the user \"Justin Trudeau\" with score 31."
   ]
  },
  {
   "cell_type": "code",
   "execution_count": null,
   "id": "e0bd5689-068b-4240-a194-0cfa4d170240",
   "metadata": {},
   "outputs": [],
   "source": [
    "profile2 = {}\n",
    "profile2[\"first_name\"] = \"Justin\"\n",
    "profile2[\"last_name\"] = \"Trudeau\"\n",
    "profile2[\"score\"] = 31\n",
    "\n",
    "profile2"
   ]
  },
  {
   "cell_type": "code",
   "execution_count": null,
   "id": "2035f8ac-71ec-4d01-a1cc-8d3b9f3670b4",
   "metadata": {},
   "outputs": [],
   "source": []
  },
  {
   "cell_type": "markdown",
   "id": "0156f40d-161e-4033-93ee-e6939d53490d",
   "metadata": {},
   "source": [
    "# Other data structures\n",
    "\n",
    "We already discussed `list`s and `dict`ionaries,\n",
    "which are the two most important data structures (containers for data) in Python.\n",
    "\n",
    "In this section we'll briefly introduce some other data structures you might encounter."
   ]
  },
  {
   "cell_type": "markdown",
   "id": "fb31d5b1-55dc-4f52-a6d0-cca85146ccec",
   "metadata": {},
   "source": [
    "## Sets"
   ]
  },
  {
   "cell_type": "code",
   "execution_count": null,
   "id": "e8e2a019-417a-4004-b139-ba806ab47838",
   "metadata": {},
   "outputs": [],
   "source": [
    "s = set()\n",
    "s"
   ]
  },
  {
   "cell_type": "code",
   "execution_count": null,
   "id": "ed497bbd-43fb-42d3-ada5-9fa129748072",
   "metadata": {},
   "outputs": [],
   "source": [
    "s.add(3)\n",
    "s.add(5)\n",
    "s"
   ]
  },
  {
   "cell_type": "code",
   "execution_count": null,
   "id": "e0aeddb7-b2c5-40b6-b0c3-ee6751f603ee",
   "metadata": {},
   "outputs": [],
   "source": [
    "3 in s"
   ]
  },
  {
   "cell_type": "code",
   "execution_count": null,
   "id": "a0ba1c57-fcd2-4eb1-b4b3-82b685f54b60",
   "metadata": {},
   "outputs": [],
   "source": [
    "print(\"The set s contains the elements:\")\n",
    "for el in s:\n",
    "    print(el)"
   ]
  },
  {
   "cell_type": "markdown",
   "id": "d081dd6f-30a6-4570-a014-7a9874e50e20",
   "metadata": {},
   "source": [
    "## Tuples\n",
    "\n",
    "Tuples are similar to lists but with less features."
   ]
  },
  {
   "cell_type": "code",
   "execution_count": null,
   "id": "9733ed7d-21c8-4745-8b31-352c2d3f3b67",
   "metadata": {},
   "outputs": [],
   "source": [
    "2,3"
   ]
  },
  {
   "cell_type": "code",
   "execution_count": null,
   "id": "0bc549ca-1c20-4777-9c62-41dc200c8b27",
   "metadata": {},
   "outputs": [],
   "source": [
    "(2,3)"
   ]
  },
  {
   "cell_type": "markdown",
   "id": "dcba01d5-56c0-4d42-abc0-5b12d5d2320a",
   "metadata": {},
   "source": [
    "We can use the tuples syntax to assign to multiple variables on a single line:"
   ]
  },
  {
   "cell_type": "code",
   "execution_count": null,
   "id": "cdf38d2e-e16f-422c-93e7-d5abbd6f0fe2",
   "metadata": {},
   "outputs": [],
   "source": [
    "x, y = 3, 4"
   ]
  },
  {
   "cell_type": "markdown",
   "id": "9fb0eb0a-a2be-4d77-88cd-bb5770cea9a5",
   "metadata": {},
   "source": [
    "We can also use tuples to \"swap\" two values."
   ]
  },
  {
   "cell_type": "code",
   "execution_count": null,
   "id": "73fa9f45-7b18-4601-86d4-c2f501708fe3",
   "metadata": {},
   "outputs": [],
   "source": [
    "# Swap the contexts of the variables x and y\n",
    "tmp = x\n",
    "y = x\n",
    "x = tmp"
   ]
  },
  {
   "cell_type": "code",
   "execution_count": null,
   "id": "a89051e1-1222-46b7-ad7d-28c9631486cf",
   "metadata": {},
   "outputs": [],
   "source": [
    "# Equivalent operation on one line\n",
    "x, y = y, x"
   ]
  },
  {
   "cell_type": "code",
   "execution_count": null,
   "id": "3e6a119b-1699-43e8-b6d8-d479ef2a4dcc",
   "metadata": {},
   "outputs": [],
   "source": []
  },
  {
   "cell_type": "markdown",
   "id": "6a381bc1-a4b4-45c5-80a9-558977288162",
   "metadata": {},
   "source": [
    "# Objects and classes\n",
    "\n",
    "All the Python variables we've been using until now are different kinds of \"objects.\"\n",
    "An object is a the most general purpose \"container\" for data,\n",
    "that also provides methods for manipulating this object.\n",
    "\n",
    "In particular:\n",
    "- attributes: data properties of the object\n",
    "- methods: functions attached to the object"
   ]
  },
  {
   "cell_type": "markdown",
   "id": "bc10b0fc-0d5b-4e0e-a3e9-44fdbaedb0fa",
   "metadata": {},
   "source": [
    "### Example 1: string objects"
   ]
  },
  {
   "cell_type": "code",
   "execution_count": null,
   "id": "f6826b95-a9b5-45cf-bab9-a220f1e2d98c",
   "metadata": {},
   "outputs": [],
   "source": [
    "msg = \"Hello\"\n",
    "\n",
    "type(msg)"
   ]
  },
  {
   "cell_type": "code",
   "execution_count": null,
   "id": "6d9fa3e6-a77d-41e3-af0c-3ed9cca092d9",
   "metadata": {},
   "outputs": [],
   "source": [
    "# Uncomment the next line and press TAB after the dot\n",
    "# msg."
   ]
  },
  {
   "cell_type": "code",
   "execution_count": null,
   "id": "0d773b9a-6df1-45f5-9086-58c0f4ee2151",
   "metadata": {},
   "outputs": [],
   "source": [
    "# Attributes\n"
   ]
  },
  {
   "cell_type": "code",
   "execution_count": null,
   "id": "2a9133a7-0f0e-4681-8d66-794551f616be",
   "metadata": {},
   "outputs": [],
   "source": [
    "# Methods:\n",
    "msg.upper()\n",
    "msg.lower()\n",
    "msg.__len__()\n",
    "msg.isascii()\n",
    "msg.startswith(\"He\")\n",
    "msg.endswith(\"lo\")"
   ]
  },
  {
   "cell_type": "code",
   "execution_count": null,
   "id": "eb7ace60-449b-4a40-8dd6-3b021483fa24",
   "metadata": {},
   "outputs": [],
   "source": []
  },
  {
   "cell_type": "markdown",
   "id": "8e30885b-e490-4bbb-993a-34de6d1b3ec7",
   "metadata": {},
   "source": [
    "### Example 2: file objects"
   ]
  },
  {
   "cell_type": "code",
   "execution_count": null,
   "id": "2f2411b9-4ad2-4234-8593-7492e112649b",
   "metadata": {},
   "outputs": [],
   "source": [
    "filename = \"message.txt\"\n",
    "file = open(filename, \"w\")\n",
    "\n",
    "type(file)"
   ]
  },
  {
   "cell_type": "code",
   "execution_count": null,
   "id": "125f24ea-882e-4875-b475-f696e6d313b1",
   "metadata": {},
   "outputs": [],
   "source": [
    "# Uncomment the next line and press TAB after the dot\n",
    "# file."
   ]
  },
  {
   "cell_type": "code",
   "execution_count": null,
   "id": "6ce0043e-6fc5-4ef0-8213-190ed5cc4229",
   "metadata": {},
   "outputs": [],
   "source": [
    "# Attributes\n",
    "file.name, file.mode, file.encoding"
   ]
  },
  {
   "cell_type": "code",
   "execution_count": null,
   "id": "d3400e18-ccf7-446b-8270-57851594ac34",
   "metadata": {},
   "outputs": [],
   "source": [
    "# Methods:\n",
    "file.write(\"Hello world\\n\")\n",
    "file.writelines([\"line2\", \"and line3.\"])\n",
    "file.flush()\n",
    "file.close()"
   ]
  },
  {
   "cell_type": "code",
   "execution_count": null,
   "id": "7096ad40-55fc-42bd-aebc-226f466ff5e5",
   "metadata": {},
   "outputs": [],
   "source": []
  },
  {
   "cell_type": "markdown",
   "id": "3d9cc1f3-bb7c-4f57-adb2-1068a7fda707",
   "metadata": {},
   "source": [
    "## Defining new types of objects\n",
    "\n",
    "Using the Python keyword `class` can be used to define new kinds of objects.\n"
   ]
  },
  {
   "cell_type": "markdown",
   "id": "e2194881-80d4-44e3-abbf-8c418725326e",
   "metadata": {},
   "source": [
    "**Exercise**: create a custom class of objects `Interval` that represent intervals of real numbers like $[a,b] \\subset \\mathbb{R}$.\n",
    "We want to be able to use the new interval objects in `if` statements to check if a number $x$ is in the interval $[a,b]$ or not.\n",
    "\n",
    "Recall the `in` operator that we can use to check if an element is part of a list\n",
    "```Python\n",
    ">>> 3 in [1,2,3,4]\n",
    "True\n",
    "```\n",
    "\n",
    "we want the new objects of type `Interval` to test for membership.\n",
    "\n",
    "Example usage:\n",
    "```Python\n",
    ">>> 3 in Interval(2,4)\n",
    "True\n",
    ">>> 5 in Interval(2,4)\n",
    "False\n",
    "```\n",
    "The expression `x in Y` is corresponds to calling the method `__contains__` on the container object `Y`:\n",
    "`Y.__contains__(x)` and it will return a `bool`ean value (`True` or `False`).\n",
    "\n",
    "If we want to support checks like `3 in Interval(2,4)` we therefore have to implement \n",
    "the method `__contains__` on the `Interval` class."
   ]
  },
  {
   "cell_type": "code",
   "execution_count": null,
   "id": "4bd62411-3349-4a29-ad7d-c3f70919d667",
   "metadata": {},
   "outputs": [],
   "source": [
    "class Interval:\n",
    "    \"\"\"\n",
    "    Object that embodies the mathematical concept of an interval.\n",
    "    `Interval(a,b)` is equivalent to math interval [a,b] = {𝑥 | 𝑎 ≤ 𝑥 ≤ 𝑏}.\n",
    "    \"\"\"\n",
    "\n",
    "    def __init__(self, lowerbound, upperbound):\n",
    "        \"\"\"\n",
    "        This method is called when the object is created, and is used to\n",
    "        set the object attributes from the arguments passed in.\n",
    "        \"\"\"\n",
    "        self.lowerbound = lowerbound\n",
    "        self.upperbound = upperbound\n",
    "\n",
    "    def __str__(self):\n",
    "        \"\"\"\n",
    "        Return a representation of the interval as a string like \"[a,b]\".\n",
    "        \"\"\"\n",
    "        return \"[\" + str(self.lowerbound) + \",\" + str(self.upperbound) + \"]\"\n",
    "\n",
    "    def __contains__(self, x):\n",
    "        \"\"\"\n",
    "        This method is called to check membership using the `in` keyword.\n",
    "        \"\"\"\n",
    "        return self.lowerbound <= x and x <= self.upperbound\n",
    "\n",
    "    def __len__(self):\n",
    "        \"\"\"\n",
    "        This method will get called when you call `len` on the object.\n",
    "        \"\"\"\n",
    "        return self.upperbound - self.lowerbound\n"
   ]
  },
  {
   "cell_type": "markdown",
   "id": "0b13b4eb-d65d-4269-8451-507224102069",
   "metadata": {},
   "source": [
    "Create an object that corresponds to the interval $[2,4]$."
   ]
  },
  {
   "cell_type": "code",
   "execution_count": null,
   "id": "46b56640-cd44-4ad5-9549-855d8bab8729",
   "metadata": {},
   "outputs": [],
   "source": [
    "interval2to4 = Interval(2,4)\n",
    "interval2to4"
   ]
  },
  {
   "cell_type": "code",
   "execution_count": null,
   "id": "8f0630f8-7334-48af-9b24-b64ecb949724",
   "metadata": {},
   "outputs": [],
   "source": [
    "type(interval2to4)"
   ]
  },
  {
   "cell_type": "code",
   "execution_count": null,
   "id": "3133b9b2-9805-4f99-9a31-67b55315e0ce",
   "metadata": {},
   "outputs": [],
   "source": [
    "str(interval2to4)"
   ]
  },
  {
   "cell_type": "code",
   "execution_count": null,
   "id": "fa340a71-734b-410c-ad87-0cfa38aebbf8",
   "metadata": {},
   "outputs": [],
   "source": [
    "3.3 in interval2to4"
   ]
  },
  {
   "cell_type": "code",
   "execution_count": null,
   "id": "c5f70080-1728-4101-aaf7-ce31b0d889ef",
   "metadata": {},
   "outputs": [],
   "source": [
    "1 in interval2to4"
   ]
  },
  {
   "cell_type": "code",
   "execution_count": null,
   "id": "d192fa9c-79a8-4ec1-abb3-bc4993328d33",
   "metadata": {},
   "outputs": [],
   "source": [
    "len(interval2to4)"
   ]
  },
  {
   "cell_type": "markdown",
   "id": "6597e195-78a6-4d37-bb1b-720045bd1559",
   "metadata": {},
   "source": [
    "# Python grammar and syntax review\n",
    "\n",
    "Learning Python is like learning a new language:\n",
    "- nouns: values (usually stored in variables)\n",
    "- verbs: functions and methods\n",
    "- adverbs: optional arguments passed to functions\n",
    "\n",
    "These parts are easy to understand with time, since the new concepts\n",
    "correspond to English words, so you'll get use to it all very quickly.\n",
    "\n",
    "Much harder is to learn (more confusing) is the part of syntax of the Python language\n",
    "that involves punctuation, which has very specific meaning, nothing to do with English punctuation.\n",
    "Let's review this shit.\n",
    "\n",
    "\n",
    "### Punctuation\n",
    "\n",
    "The symbols `=([{*\"'#,.:` are used in various Python expressions,\n",
    "and their meaning sometimes changes depending on the context.\n",
    "Let's now make a completer list of the usage for these punctuation marks.\n",
    "\n",
    "\n",
    "- equal sign `=`\n",
    "  - assignment\n",
    "  - specify default keyword argument (in function definition)\n",
    "  - pass values for keyword arguments (in function call)\n",
    "\n",
    "\n",
    "- Round brackets `()` are used for:\n",
    "  - calling functions\n",
    "  - defining tuples: `(1, 2, 3)`\n",
    "  - enforcing operation precedence: `result = (x + y) * z`\n",
    "  - defining functions (in combination with `def` keyword)\n",
    "  - defining class\n",
    "  - creating object\n",
    "\n",
    "\n",
    "- Curly-brackets (accolades) `{}`\n",
    "  - define dict literals: `mydict = {\"k1\":\"v1\", \"k2\":\"v2\"}`\n",
    "  - define sets: `{1,2,3}`\n",
    "\n",
    "\n",
    "- Square brackets `[]` are used for:\n",
    "  - defining lists: `mylist = [1, 2, 3]`\n",
    "  - list indexing: `ages[3] = 29`\n",
    "  - dict access by key: `mydict[\"k1\"]` (used by `__getitem__` or `__setitem__`)\n",
    "  - list slice: `mylist[0:2]` (first two items in `mylist`)\n",
    "\n",
    "\n",
    "- Quotes `\"` and `'` \n",
    "  - define string literals\n",
    "  - note raw string variant `r\"...\"` also exists\n",
    "\n",
    "\n",
    "- Triple quotes `\"\"\"` and `'''`\n",
    "  - long string literals entire paragraphs\n",
    "\n",
    "\n",
    "- Hash symbol `#`\n",
    "  - comment (Python ignores text after the `#` symbol)\n",
    "\n",
    "\n",
    "- colon `:`\n",
    "  - syntax for the beginning of indented block.\n",
    "    Used after `if`, `elif`, `else` `for`, `while`, `with`, etc.\n",
    "  - key: value separator in dict literals\n",
    "  - slice of indices `0:2` (first two items in a list)\n",
    "\n",
    "\n",
    "- period `.`\n",
    "  - decimal separator for floating point literals\n",
    "  - access object attributes\n",
    "  - access object methods\n",
    "\n",
    "\n",
    "- comma `,`\n",
    "  - element separator in lists, tuples, dicts\n",
    "  - separate function arguments\n",
    "\n",
    "\n",
    "- asterisk `*`\n",
    "  - multiplication\n",
    "  - (advanced) unpack elements of a list\n",
    "  \n",
    "\n",
    "- double asterisk `**`\n",
    "  - exponent\n",
    "  - (advanced) unpack elements of a dict\n",
    "\n",
    "\n",
    "- semicolon `;` (rarely used)\n",
    "  - allows to put multiple Python commands on single line"
   ]
  },
  {
   "cell_type": "markdown",
   "id": "bb541054-ae83-403f-ad6c-1f36fe9d3ce7",
   "metadata": {},
   "source": [
    "### Python keywords\n",
    "\n",
    "Here is a list of reserved keywords in Python:\n",
    "\n",
    "    False      class      finally    is         return\n",
    "    None       continue   for        lambda     try\n",
    "    True       def        from       nonlocal   while\n",
    "    and        del        global     not        with\n",
    "    as         elif       if         or         yield\n",
    "    assert     else       import     pass\n",
    "    break      except     in         raise"
   ]
  },
  {
   "cell_type": "markdown",
   "id": "21cecfe0-aba9-4915-aa32-da15292d0e6c",
   "metadata": {},
   "source": [
    "### Python built-in functions\n",
    "\n",
    "Essential functions:\n",
    "- `print(arg1, arg2, ...)`: display `str(arg1)`, `str(arg2)`, etc.\n",
    "- `type(obj)`: tells you what kind of object \n",
    "- `len(obj)`: length of the object (only for: `str`, `list`, `dict` objs)\n",
    "- `range(a,b)`: equivalent to the list `[a,a+1,...,b-1]`\n",
    "- `help(obj)`: display info about the object, function, or method\n",
    "\n",
    "\n",
    "Built-in types:\n",
    "- `bool`: `True` or `False`\n",
    "- `int`: naturals and integers\n",
    "- `float`: rational and real numbers\n",
    "- `complex`: complex numbers $z=x+iy$\n",
    "- `str`: text strings\n",
    "- `list`: list of objects `[obj1, obj2, obj3, ...]`\n",
    "- `dict`: associative array between keys and values\n",
    "  `{key1:value1, key2:value2, key3:value3, ...}`.\n",
    "- `set`: list-like object that doesn't care about ordering\n",
    "- `NoneType`: Denotes the type of the `None` value,\n",
    "  which describes the absence of a value\n",
    "  (e.g. the output of a function that doesn't return any value).\n",
    "\n",
    "\n",
    "Looking around, learning, and debugging Python code:\n",
    "- `str(obj)`: display the string representation of the object.\n",
    "- `repr(obj)`: display the Python representation of the object.\n",
    "   Usually, you can copy-paste the output of `repr(obj)` into a Python\n",
    "   shell to re-create the object.\n",
    "- `help(obj)`: display info about the object, function, or method.\n",
    "  This is equivalent to calling object's docstring `obj.__doc__`.\n",
    "- `dir(obj)`: show complete list of attributes and methods of the object `obj`\n",
    "- `globals()`: display all variables in the Python global namespace\n",
    "- `locals()`: display local variables (within current scope,\n",
    "   e.g. local variables inside inside a function body)\n",
    "\n",
    "Built-in methods used for lists:\n",
    "- `len(obj)`: length of the object (only for: `str`, `list`, `dict` objs)\n",
    "- `sum(li)`: sum of the values in the list of numbers `li`\n",
    "- `all(li)`: true if all values in the list `li` are true\n",
    "- `any(li)`: true if any of the values in the list `li` are true\n",
    "- `enumerate(li)`: convert list of values to `li` to list of tuples `(i,li[i])` (use in for loop as `for i, item in enumerate(items):...`.\n",
    "- `zip(li1, li2)`: joint iteration over two lists\n",
    "- Low-level iterator methods: `iter()` and `next()` (out of scope for this tutorial. Just know that every time I said list-like, I meant \"any object that implements the iterator and iterable protocols).\n",
    "\n",
    "\n",
    "Input-output (I/O):\n",
    "- `input`: prompt user for input, returns the value user entered as a sting.\n",
    "- `print(arg1, arg2, ...)`: display `str(arg1)`, `str(arg2)`, etc.\n",
    "- `open(filepath,mode)`: open the file at `filepath` for `mode`-operations.\n",
    "  Use `mode=\"r\"` for reading text from a file,\n",
    "  and `mode=\"w\"` for writing text to a file.\n",
    "\n",
    "Advanced stuff:\n",
    "- Functional shit: `map()`, `eval()`, `exec()`\n",
    "- Meta-programming: `hasattr()`, `getattr()`, `setattr()` \n",
    "- Object oriented programming: `isinstance()`, `issubclass()`, `super()`"
   ]
  },
  {
   "cell_type": "code",
   "execution_count": null,
   "id": "03d2227a-beb6-458c-bd11-db6252c9923f",
   "metadata": {},
   "outputs": [],
   "source": []
  },
  {
   "cell_type": "markdown",
   "id": "f9c1faab-f572-4d05-bf4e-89a1cad27474",
   "metadata": {},
   "source": [
    "# Bonus topics\n",
    "\n",
    "- writing standalone scripts (`argparse`, example: turn `head` into script)\n",
    "- `functools.partial` for currying functions (e.g sample-generator callables)\n",
    "- ???generic functions `*args` and `**kwargs`\n",
    "- Reading and writing files https://python-textbok.readthedocs.io/en/1.0/Python_Basics.html#files\n",
    "\n"
   ]
  },
  {
   "cell_type": "markdown",
   "id": "802c696b-c4f4-4e52-be4c-6b64066c7b84",
   "metadata": {},
   "source": [
    "# Python libraries and modules\n",
    "\n",
    "Everything we discussed so far was using the Python built-in functions and data types,\n",
    "but that is only a small subset of all the functionality available when using Python.\n",
    "There are hundreds of Python libraries and modules that provide additional functions and data types\n",
    "for all kinds of applications. \n",
    "There are Python modules for processing different data files, making web requests, performing computations, etc.\n",
    "The list is almost endless,\n",
    "and the vast number of libraries and frameworks is all available to you behind a simple `import` statement."
   ]
  },
  {
   "cell_type": "markdown",
   "id": "88f053a7-fe59-4b30-84d6-d4d7603ff612",
   "metadata": {},
   "source": [
    "## The `import` statement \n",
    "\n",
    "We use the `import` statement to load a python module and make it available in the current context.\n",
    "The code below shows how to import the module `<mod>` in the current notebook.\n",
    "```Python\n",
    "import <mod>\n",
    "```\n",
    "After this statement, we can now use the functions in the module `<mod>` by calling them using the prefix `<mod>.`,\n",
    "which is called the \"dot notation\" for accessing within the namespace `<mod>`.\n",
    "\n",
    "For example, let's import the statistics module and use the function `statistics.mean` to compute the mean of three numbers."
   ]
  },
  {
   "cell_type": "code",
   "execution_count": null,
   "id": "fac4bab4-c52e-49c5-9a80-ae5484649da4",
   "metadata": {},
   "outputs": [],
   "source": [
    "import statistics\n",
    "\n",
    "statistics.mean([1,2,6])"
   ]
  },
  {
   "cell_type": "markdown",
   "id": "b60fd217-1f5a-4cc8-9702-73b96a5175af",
   "metadata": {},
   "source": [
    "A very common trick you'll see in Python notebooks,\n",
    "is to import python modules under an \"alias\" name,\n",
    "which is usually a shorter name that is faster to type.\n",
    "\n",
    "The alias-import statement looks like this:\n",
    "```Python\n",
    "import <mod> as <alias>\n",
    "```\n",
    "\n",
    "For example, let's import the statistics module under the alias `stats` and repeat the mean calculation we saw above."
   ]
  },
  {
   "cell_type": "code",
   "execution_count": null,
   "id": "4c382060-350b-425a-a28c-e39704949454",
   "metadata": {},
   "outputs": [],
   "source": [
    "import statistics as stats\n",
    "\n",
    "stats.mean([1,2,6])"
   ]
  },
  {
   "cell_type": "markdown",
   "id": "14f99427-2869-48ed-a38a-b9110f3cea3a",
   "metadata": {},
   "source": [
    "As you can imagine,\n",
    "if you're writing some Python code that requires calling a lot of statistics calculations,\n",
    "you'll appreciate the alias-import statement,\n",
    "since you call `stats.mean` and `stats.median` instead of having to type the\n",
    "full module name each time, `statistics.mean` and `statistics.median`."
   ]
  },
  {
   "cell_type": "markdown",
   "id": "e19f1bdb-c36d-41f9-b4b3-0422ab1288d1",
   "metadata": {},
   "source": [
    "## The standard library\n",
    "\n",
    "The [Python standard library](https://docs.python.org/3/library/) consists of several dozens of Python modules that come bundled with every Python installation.\n",
    "\n",
    "Here are some modules that come in handy.\n",
    "\n",
    "- `math`\n",
    "- `random`\n",
    "- `statistics`\n",
    "- `re` \n",
    "- `datetime`\n",
    "- `urllib.parse`\n",
    "- `json`, `csv`, `os.path`, \n",
    "- `functools`\n",
    "\n",
    "\n",
    "There are also a few libraries that are not part of the standard library,\n",
    "but almost as important:\n",
    "- `requests` download stuff from the web"
   ]
  },
  {
   "cell_type": "markdown",
   "id": "1d269503-8bc1-46e9-ac8c-44c2dbc63345",
   "metadata": {},
   "source": [
    "## Installing Python packages with `pip`\n",
    "\n",
    "TODO\n"
   ]
  },
  {
   "cell_type": "markdown",
   "id": "353c4153-4a8f-4512-88d7-a62bd125766b",
   "metadata": {},
   "source": [
    "## Scientific computing libraries\n",
    "\n",
    "\n",
    "### NumPy\n",
    "Numerical Python (NumPy) is a library that provides high-performance arrays and matrices. NumPy arrays allow mathematical operations to run very fast, which is important when working with medium- and large- datasets.\n",
    "\n",
    "#### Example: `linspace` and other numerical calculations\n",
    "\n",
    "\n",
    "### SciPy\n",
    "Scientific Python (SciPy) is a library that provides most common algorithms and special functions used by scientists and engineers. See https://scipy-lectures.org/\n",
    "\n",
    "\n",
    "### SymPy\n",
    "Symbolic math expressions.\n",
    "See [sympy_tutorial.pdf](https://minireference.com/static/tutorials/sympy_tutorial.pdf).\n",
    "\n",
    "### Matplotlib\n",
    "Powerful library for plotting points, lines, and other graphs.\n",
    "\n",
    "#### Examples: how to create reusable functions for plotting probability distributions\n",
    "- `plot_pdf_and_cdf`\n",
    "- `calc_prob_and_plot`\n",
    "- `calc_prob_and_plot_tails`\n"
   ]
  },
  {
   "cell_type": "code",
   "execution_count": null,
   "id": "ccb53f2d-1c37-40dc-b91e-29d56b4eeb9c",
   "metadata": {},
   "outputs": [],
   "source": []
  },
  {
   "cell_type": "markdown",
   "id": "d95ce302-0a66-4dff-b056-d24227e1dc42",
   "metadata": {},
   "source": [
    "## Data science libraries\n",
    "- `pandas` library for tabular data (See [pandas_tutorial.ipynb](./pandas_tutorial.ipynb) notebook)\n",
    "- `statsmodels` models for linear regression and other\n",
    "\n",
    "- `seaborn` high-level library for statistical plots (See [seaborn_tutorial.ipynb](./seaborn_tutorial.ipynb) notebook).\n",
    "- `plotnine` another high-level library for data visualization base don the grammar of graphics principles\n",
    "- `scikit-learn` tools and algorithms for machine learning\n"
   ]
  },
  {
   "cell_type": "markdown",
   "id": "38a6ce9d-14fd-4524-a0fc-37d61ea61e7f",
   "metadata": {},
   "source": [
    "# Discussion"
   ]
  },
  {
   "attachments": {
    "d41cd497-3947-46de-8aee-5bfee616a406.png": {
     "image/png": "[encoded data removed]"
    },
    "f082c596-74ed-47c2-9081-8faf2984ccb2.png": {
     "image/png": "[encoded data removed]"
    }
   },
   "cell_type": "markdown",
   "id": "f0a8d080-8801-4366-b0e9-d02c74ce962b",
   "metadata": {},
   "source": [
    "Let's go over some of the things we skipped in the tutorial,\n",
    "because they were not essential for getting started.\n",
    "Now that you know a little bit about Python,\n",
    "it's worth mentioning some of these details,\n",
    "since it's useful context to see how this \"Python calculator\" business works.\n",
    "I also want to tell you about some of the cool Python applications\n",
    "you can look forward to if you choose to develop your Python skills further.\n",
    "\n",
    "\n",
    "## Running Python code interactively\n",
    "\n",
    "Notebooks are an example of \"interactive\" use of the Python interpreter.\n",
    "You enter some commands `2+3` in a code cell,\n",
    "press SHIFT+ENTER to run the code,\n",
    "and you see the result.\n",
    "\n",
    "There are several different ways you can access the Python interpreter.\n",
    "\n",
    "- `python` shell.\n",
    "  This is what you get in you install Python on your computer.\n",
    "  You can open a command prompt (terminal or cmd.exe) and type in the\n",
    "  command `python` to start the interactive Python shell.\n",
    "\n",
    "    ```\n",
    "    > python\n",
    "    Python 3.6.9 (default, Oct  6 2019, 21:40:49)\n",
    "    [GCC 4.2.1 Compatible Apple LLVM 9.1.0 (clang-902.0.39.1)] on darwin\n",
    "    Type \"help\", \"copyright\", \"credits\" or \"license\" for more information.\n",
    "    >>> 2+3\n",
    "    5\n",
    "    >>> \n",
    "    ```\n",
    "\n",
    "- `ipython` shell.\n",
    "   This is a fancier shell with line numbering and\n",
    "   many helpful commands.\n",
    "    ```\n",
    "    > ipython\n",
    "    Python 3.6.9 (default, Oct  6 2019, 21:40:49)\n",
    "    Type 'copyright', 'credits' or 'license' for more information\n",
    "    IPython 7.13.0 -- An enhanced Interactive Python. Type '?' for help.\n",
    "\n",
    "    In [1]: 2+3\n",
    "    Out[1]: 5\n",
    "\n",
    "    In [2]: \n",
    "    ```\n",
    "\n",
    "- Jupyter notebooks are web-based coding environments that allow you\n",
    "  to mix code cells and Markdown cells to create \"code documents.\"\n",
    "  Notebook files have an extension `.ipynb` and can be created using JupyterLab.\n",
    "  Several other systems like nbviewer, GitHub, VSCode, Google Colab,\n",
    "  can also be used \"open\" notebooks for viewing and \"run\" the notebooks interactively.  \n",
    "  <img src=\"attachment:f082c596-74ed-47c2-9081-8faf2984ccb2.png\" width=\"300\" alt=\"jupter-code-cell\">\n",
    "\n",
    "- Colab notebooks.\n",
    "  Google operates a service called \"Google Colaboratory\" (Colab for short)\n",
    "  that allows you to run Python code as Colab notebooks.\n",
    "  <img src=\"attachment:d41cd497-3947-46de-8aee-5bfee616a406.png\" width=\"200\" alt=\"colab code cell\">\n",
    "\n",
    "Note the \"Python calculator\" functionality works the same way in each case.\n",
    "The basic Python shell, the fancy `ipython` shell, and the notebook interface\n",
    "all offer a place to input your commands,\n",
    "they READ your command input,\n",
    "EVALUATE them (i.e. run them),\n",
    "PRINT the output of the commands execution.\n",
    "At the end of the READ-EVAL-PRINT steps,\n",
    "the Python in interpreter goes back into \"listening mode\" \n",
    "waiting for your next command input.\n",
    "\n",
    "The overall behaviour of the Python interpreter is an example of the\n",
    "READ-EVAL-PRINT Loop (REPL) that appears in professional human-computer interfaces.\n",
    "The command line prompt (terminal on UNIX or `cmd.exe` on Windows),\n",
    "database prompts,\n",
    "the JavaScript console in your browser,\n",
    "the Ruby interactive console `irb`,\n",
    "and any other interface which accepts commands.\n",
    "\n",
    "Given this multitude of choices,\n",
    "we've opted to use a Jypyter notebook to present this tutorial.\n",
    "Keep in mind you could run all the code examples in python shell,\n",
    "or ipython shell, or as a Colab notebook.\n",
    "\n",
    "While we're on the topic of running Python code,\n",
    "let's briefly mention the other ways Python applications can operate.\n",
    "This is completely out of scope for the remainder of the discussion in this tutorial,\n",
    "since we're just using Python as a fancy calculator,\n",
    "but I though I'd mention some of the other uses of Python codes."
   ]
  },
  {
   "cell_type": "markdown",
   "id": "86279f2e-67c0-4646-8853-6717e710f92c",
   "metadata": {
    "tags": []
   },
   "source": [
    "## Python applications\n",
    "\n",
    "Python is not just a calculator.\n",
    "Python can also be used for non-interactive programs and services.\n",
    "Python is a general-purpose programming language so it enables a lot of applications. The list below talks about some areas where Python programming is currently being used.\n",
    "\n",
    "- command line scripts: you can put commands line scrips are written in Python,\n",
    "  then run them on the command line (terminal on UNIX or or `cmd.exe` on Windows).\n",
    "  For example, you can download any video from YouTube by running the command\n",
    "  `youtube-dl <youtube_url>`.\n",
    "  If all you want is the audio, you can use some command-line options to specify \n",
    "  `youtube-dl --extract-audio --audio-format mp3 <youtube_url>` to extract the\n",
    "  audio track from the youtube video and save it as an mp3.\n",
    "  The author uses this type of command daily to make local copies of songs\n",
    "  to listen to them offline.\n",
    "\n",
    "- graphical user interface (GUI) programs: many desktop applications are written in Python.\n",
    "  An example of a graphical, point-and-click application written in Python is `Calibre`,\n",
    "  which is a powerful eBook management library and eBook reader and eBook converter,\n",
    "  that supports all imaginable eBook formats.\n",
    "\n",
    "- web applications: the Django and Flask frameworks are often used to build web applications.\n",
    "  Many of the websites you access every day have as server component written in Python.\n",
    "\n",
    "- machine learning systems: create task-specific functions by using probabilistic models instead of code. Machine learning models undergo a training stage in which the model parameters are \"learned\" from the training data examples, after which the model can be queried to make predictions. \n",
    "\n",
    "\n",
    "\n",
    "\n",
    "\n",
    "I mention these examples so you'll know the other possibilities enabled by Python,\n",
    "beyond the basic \"use Python interactively like a calculator\" code examples\n",
    "that you'll show in the rest of this tutorial.\n",
    "There is a lot of useful stuff"
   ]
  },
  {
   "cell_type": "markdown",
   "id": "5b180a3c-5e17-43ca-9b3c-96034ac3c081",
   "metadata": {},
   "source": [
    "## Python programming\n",
    "\n",
    "Coding a.k.a. programming, software engineering, or software development is a broad topic,\n",
    "which is out of scope for this short tutorial.\n",
    "If you're interested to learn more about coding,\n",
    "see the article [What is code?](https://www.bloomberg.com/graphics/2015-paul-ford-what-is-code/) by Paul Ford.\n",
    "Think mobile apps, web apps, APIs, algorithms, CPUs, GPUs, TPUs, SysOps, etc.\n",
    "There is a lot to learn about applications enabled by learning basic coding skills,\n",
    "it's almost like reading and writing skills.\n",
    "\n",
    "Learning programming usually takes several years,\n",
    "but you don't need to become a professional coder to start using Python for simple tasks,\n",
    "the same way you don't need to become a professional author to use writing for everyday tasks."
   ]
  },
  {
   "cell_type": "code",
   "execution_count": null,
   "id": "42bec6ca-5a1d-469c-8652-01c7effe04c3",
   "metadata": {},
   "outputs": [],
   "source": []
  },
  {
   "cell_type": "markdown",
   "id": "05ec9881-de4d-411f-98a2-b2ba9ffc78db",
   "metadata": {
    "jp-MarkdownHeadingCollapsed": true,
    "tags": []
   },
   "source": [
    "## Learning objectives\n",
    "\n",
    "In this tutorial you'll learn the following specific Python skills,\n",
    "which are required for probability and statistics calculations.\n",
    "\n",
    "- know how to define function (e.g. `fH` for Example 3 in Section 2.1)\n",
    "- understand list comprehension (e.g. `[fH(h) for h in range(0,5)]` for Example 3 in Section 2.1)\n",
    "- know built-in functions:\n",
    "  - `sum`\n",
    "  - `len`\n",
    "  - `range`\n",
    "- know the general pattern for plotting the graph of function `f` using `numpy` arrays:\n",
    "  1. `xs = np.linspace  OR  np.arange  OR  list` \n",
    "  2. `ys = f(xs)`  (\n",
    "  3. Call `plt.stem(ys)` or `sns.lineplot(x=xs, y=ys)`\n",
    "- (optional) understand when we need to use `vectorize(f)`\n",
    "- Robyn recommends the following concepts to be covered:\n",
    "   * Quotes around text (strings)\n",
    "   * Assigning variables \n",
    "   * Interpreting error messages\n",
    "   * `help(method)`\n",
    "   * Syntax for writing and running functions\n",
    "   * definitions/explanations for the following (all used in the DATA chapter): 'None', '0-based indexing', 'attributes', 'methods', 'object', 'instance', 'class,' 'module,' 'accessing columns as attributes'\n",
    "- Specific requirements from PROB chapter:\n",
    "  - range and summation\n",
    "- Specific requirements from STATS chapter:\n",
    "- Specific requirements from LINEAR MODELS chapter:"
   ]
  },
  {
   "cell_type": "markdown",
   "id": "ffcfa40e-f15a-45c4-9cfd-d59c3d6bd7b5",
   "metadata": {},
   "source": [
    "# Links\n",
    "\n",
    "I've collected the best learning resources for Python,\n",
    "which you can use to learn more about Python.\n",
    "\n",
    "\n",
    "## Python cheatsheets\n",
    "\n",
    "- Good quick reference  \n",
    "  https://gto76.github.io/python-cheatsheet/\n",
    "- https://ehmatthes.github.io/pcc_2e/cheat_sheets/cheat_sheets/\n",
    "- https://ipgp.github.io/scientific_python_cheat_sheet/\n",
    "- https://learnxinyminutes.com/docs/python/\n",
    "- https://perso.limsi.fr/pointal/_media/python:cours:mementopython3-english.pdf\n",
    "- https://www.pythoncheatsheet.org/\n",
    "- https://homepage.univie.ac.at/michael.blaschek/media/Cheatsheet_python.pdf\n",
    "- https://cheatsheets.quantecon.org/\n",
    "\n",
    "\n",
    "## Introductions and tutorials\n",
    "\n",
    "- Python tutorial by Russell A. Poldrack  \n",
    "  https://statsthinking21.github.io/statsthinking21-python/01-IntroductionToPython.html\n",
    "\n",
    "- Programming with Python by  Software Carpentry team:  \n",
    "  https://swcarpentry.github.io/python-novice-inflammation/\n",
    "\n",
    "- Official Python tutorial:  \n",
    "  https://docs.python.org/3.10/tutorial/\n",
    "\n",
    "- Python glossary:  \n",
    "  https://docs.python.org/3.10/glossary.html#glossary\n",
    "\n",
    "- Nice tutorial:  \n",
    "  https://www.pythonlikeyoumeanit.com/\n",
    "\n",
    "- Python data structures  \n",
    "  https://devopedia.org/python-data-structures\n",
    "\n",
    "- Further reading  \n",
    "  https://github.com/rasbt/python_reference\n",
    "\n",
    "- https://walkintheforest.com/Content/Introduction+to+Python/%F0%9F%90%8D+Introduction+to+Python\n",
    "\n",
    "- Online tutorial  \n",
    "  https://www.kaggle.com/learn/python\n",
    "\n",
    "- Complete list of all the Python builtins  \n",
    "  https://treyhunner.com/2019/05/python-builtins-worth-learning/  \n",
    "  via https://news.ycombinator.com/item?id=30621552\n",
    "\n",
    "\n",
    "\n",
    "\n",
    "## Special topics\n",
    "\n",
    "- Stats-related python functions  \n",
    "  https://www.statology.org/python-guides/\n",
    "\n",
    "- https://github.com/mtlpy/mp-84-atelier/blob/main/ressources.md\n",
    "\n",
    "- Python types (`int`s, `float`s, and `bool`s)  \n",
    "  https://github.com/anthony-agbay/introduction-to-python/blob/main/modules/basic-python-types-ints-floats-bools/basic-python-types-ints-floats-bools.ipynb\n",
    "\n",
    "- Python string operations  \n",
    "  https://github.com/anthony-agbay/introduction-to-python/blob/main/modules/basic-python-types-strings/basic-python-types-strings.ipynb\n",
    "\n",
    "- Scientific computing  \n",
    "  https://devopedia.org/python-for-scientific-computing\n",
    "\n",
    "- about NaNs  \n",
    "  https://news.ycombinator.com/item?id=30558690\n",
    "\n",
    "\n",
    "\n",
    "## Books\n",
    "\n",
    "- Python book for beginners ([discussed here](https://news.ycombinator.com/item?id=27141644))  \n",
    "  https://learnpythontherightway.com/\n",
    "\n",
    "- https://automatetheboringstuff.com/\n",
    "\n",
    "- Object-Oriented Programming in Python  \n",
    "  https://python-textbok.readthedocs.io/en/1.0/index.html\n",
    "  \n",
    "  \n",
    "  \n",
    "Incoming:\n",
    "\n",
    "- https://docs.python.org/3/library/stdtypes.html\n",
    "- https://docs.python.org/3/library/functions.html\n"
   ]
  },
  {
   "cell_type": "code",
   "execution_count": null,
   "id": "db84e8e5-ff79-43aa-a3bd-a85862945c49",
   "metadata": {},
   "outputs": [],
   "source": []
  }
 ],
 "metadata": {
  "kernelspec": {
   "display_name": "Python 3 (ipykernel)",
   "language": "python",
   "name": "python3"
  },
  "language_info": {
   "codemirror_mode": {
    "name": "ipython",
    "version": 3
   },
   "file_extension": ".py",
   "mimetype": "text/x-python",
   "name": "python",
   "nbconvert_exporter": "python",
   "pygments_lexer": "ipython3",
   "version": "3.9.4"
  },
  "toc-autonumbering": false,
  "toc-showmarkdowntxt": false
 },
 "nbformat": 4,
 "nbformat_minor": 5
}
