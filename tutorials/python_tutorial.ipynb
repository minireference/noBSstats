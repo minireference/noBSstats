{
 "cells": [
  {
   "cell_type": "markdown",
   "id": "bbeb5139-9063-431f-a542-9cc550fdf80e",
   "metadata": {},
   "source": [
    "# Appendix C — Python tutorial\n",
    "\n",
    "Click this binder button to run this notebooks interactively: [![Binder](https://mybinder.org/badge_logo.svg)](https://mybinder.org/v2/gh/minireference/noBSstats/main?urlpath=tree/./tutorials/python_tutorial.ipynb) (highly recommended, for a hands-on experience, which is much better for learning)."
   ]
  },
  {
   "cell_type": "markdown",
   "id": "274ce8cd-0a05-46ba-9464-a2faf3bb47e5",
   "metadata": {},
   "source": [
    "# Python as a fancy calculator"
   ]
  },
  {
   "cell_type": "markdown",
   "id": "fb464c8f-ec24-44fd-8a79-0b5825d6948c",
   "metadata": {},
   "source": [
    "In this tutorial I'll show you the basics of the Python programming language.\n",
    "Don't worry, learning Python is not complicated.\n",
    "You're not going to become a programmer or anything like that, \n",
    "you're just **learning to use Python as a calculator**."
   ]
  },
  {
   "cell_type": "markdown",
   "id": "ce623593-e1fe-43df-96e1-e3cd697d5539",
   "metadata": {},
   "source": [
    "#### Calculator analogy\n",
    "\n",
    "Python commands are similar to the commands you give to a calculator.\n",
    "The same way a calculator has different buttons for the various arithmetic operations,\n",
    "the Python language has a number of commands you can \"run\" or \"execute.\"\n",
    "Python is more powerful than a calculator because you can input multiple lines of commands at once,\n",
    "which allows us to do complicated multi-step calculations with a single Python command."
   ]
  },
  {
   "cell_type": "markdown",
   "id": "8615be8f-f3f2-4c2e-bda6-40460e43ba9b",
   "metadata": {},
   "source": [
    "## Why learn Python?\n",
    "\n",
    "Staying with the python-is-a-calculator analogy, I'd like to give you an idea of some of the things you can do when you use Python as a calculator.\n",
    "\n",
    "- Python is really good as a \"basic\" calculator,\n",
    "  which allows you to calculate any arithmetic expression involving math operations like `+`, `-`, `*`, `/`, `pow`, and more generally any math function.\n",
    "- Python programs allow you to represent procedures with multiple steps.\n",
    "- Python is also very useful as a graphical calculator, you can plot functions, and visualize data distributions.\n",
    "- Python is an extensible, programmable calculator, which means you can define custom functions that are useful for any given domain.\n",
    "- Using Python gives you access to extension modules\n",
    "  for numerical computing (`numpy`),\n",
    "  scientific computing (`scipy`),\n",
    "  and symbolic math calculations (`sympy`).\n",
    "- Python provides functions for data management (`pandas`), \n",
    "  data visualization (`seaborn`),\n",
    "  and statistics (`statsmodels`).\n",
    "\n",
    "All in all, learning Python gives lots of tools to help you understand math and science topics."
   ]
  },
  {
   "cell_type": "markdown",
   "id": "fb80bd30-c442-4477-aa9b-dc20279a4e36",
   "metadata": {
    "tags": []
   },
   "source": [
    "# Getting started\n",
    "\n",
    "\n",
    "## Installing JupyterLab Desktop\n",
    "\n",
    "**JupyterLab** is an interactive computing platform that makes it easy to run Python code.\n",
    "You can run JupyterLab on your computer or run JupyterLab on a remote server using a [binder link](https://mybinder.org/v2/gh/minireference/noBSstats/HEAD?labpath=tutorials/python_tutorial.ipynb).\n",
    "JupyterLab is based on a notebook interface that allows you to mix text, code, and graphics,\n",
    "which makes it the perfect tool for learning Python.\n",
    "\n",
    "**JupyterLab Desktop** is a convenient all-in-one application that you can install on your computer to take advantage of everything Python has to offer for data analysis and statistics.\n",
    "You can download JupyterLab Desktop from the following page on GitHub:\n",
    "https://github.com/jupyterlab/jupyterlab-desktop#jupyterlab-desktop\n",
    "\n",
    "Choose the download link for your operating system.\n",
    "\n",
    "<!-- TODO: mention need to choose \"Bundled Python environment\" during install steps\n",
    "% TODO: add instructions/screenshots for each operating system\n",
    "-->\n",
    "\n",
    "\n",
    "\n",
    "After the installation completes and you launch the JupyterLab application,\n",
    "you should see a launcher window similar to the one shown below:\n",
    "\n",
    "![](./attachments/jupyter-lab-desktop-launcher.png)\n",
    "\n",
    "The JupyterLab interface with the **File browser** shown in the left sidebar.\n",
    "The box labelled (1) indicates the current working directory.\n",
    "The box labelled (2) shows the list of files in the current directory.\n",
    "The Launcher tab allows us to create new notebooks, by clicking the button labelled (3). Use the **Python 3 (ipykernel)** button under the to create a new Python 3 notebook.\n",
    "\n",
    "A notebook consists of a sequence of cells,\n",
    "similar to how a text document consists of a series of paragraphs.\n",
    "The notebook you created currently has a single empty code cell,\n",
    "which is ready to accept Python commands.\n",
    "Type in the expression `2 + 3` into the cell\n",
    "then press **SHIFT+ENTER** to run the code.\n",
    "You should see the result of the calculation displayed on a new line immediately below your input.\n",
    "The cursor will automatically move to a new input cell,\n",
    "as shown in the screenshot below.\n",
    "\n",
    "![](./attachments/jupyter-lab-first-notebook.png)\n",
    "\n",
    "A notebook with a code cell and its output labelled (1).\n",
    "The cursor is currently in the cell labelled (2).\n",
    "The label (3) tells us notebook filename is `Untitled.ipynb`.\n",
    "The buttons labelled (4) control the notebook execution:\n",
    "**run**, **stop**, **restart**, and **run all**.\n",
    "\n",
    "\n",
    "The notebook interface offers many useful features,\n",
    "but for now,\n",
    "I just want you to think of notebooks as an easy way to run Python code.\n",
    "Notebooks allow us run Python commands interactively,\n",
    "which is the best way to learn!\n",
    "Try some Python commands to get a feeling of how notebooks work.\n",
    "Remember you can click the play button in the toolbar\n",
    "(the first button in the box labelled (4) in the above screenshot)\n",
    "or press the keyboard shortcut **SHIFT+ENTER** to run the code.\n",
    "\n",
    "I encourage you to play around with the notebook interface,\n",
    "in particular the buttons labeled (3) and (4).\n",
    "Try clicking on the notebook execution control buttons (4) to see what they do:\n",
    "- The play button is equivalent to pressing **SHIFT+ENTER**.\n",
    "- The stop button can be used to interrupt a computation that takes too long.\n",
    "- The run-all button are useful when you want to re-run all the cells from scratch. This is my favourite button! I use it often to recompute all the sequence of Python commands in the current notebook,\n",
    "from top to bottom.\n",
    "\n",
    "\n",
    "**Alternatives**: If you don't want to install anything on your computer yet, you have two other options for playing with this notebook:\n",
    "- Run JupyterLab instance in the cloud via the binder link. Click [here](https://mybinder.org/v2/gh/minireference/noBSstats/HEAD?labpath=tutorials/python_tutorial.ipynb) to launch an interactive notebook of this tutorial.\n",
    "- You can also enable the \"Live Code\" feature while reading this tutorial  online at [noBSstats.com](https://nobsstats.com/tutorials/python_tutorial.html). Use the rocket button in the top right, and choose the `Live Code` option to make all the cells in this notebook interactive."
   ]
  },
  {
   "cell_type": "markdown",
   "id": "bef4b786-c7ab-4a5c-822a-0dea036071c1",
   "metadata": {},
   "source": [
    "## Code cells contain Python commands\n",
    "\n",
    "The Python command prompt is where you enter Python commands.\n",
    "Each of the code cells in this notebook is a command prompt that allows you to enter Python commands and \"run\" them by pressing **SHIFT+ENTER**,\n",
    "or by clicking the play button in the toolbar.\n",
    "\n",
    "For example,\n",
    "you can make Python compute the sum of two numbers by entering `2+3` in a code cell,\n",
    "then pressing **SHIFT+ENTER**."
   ]
  },
  {
   "cell_type": "code",
   "execution_count": 1,
   "id": "aee41fcb-590e-46c1-9a78-a42123e8039f",
   "metadata": {},
   "outputs": [
    {
     "data": {
      "text/plain": [
       "5"
      ]
     },
     "execution_count": 1,
     "metadata": {},
     "output_type": "execute_result"
    }
   ],
   "source": [
    "2 + 3"
   ]
  },
  {
   "cell_type": "markdown",
   "id": "c04a2057-1046-4078-a193-3e0d31c28493",
   "metadata": {},
   "source": [
    "In the above code cell, the input is the expression `2 + 3` (the sum of two integers),\n",
    "and the output `5` is printed below.\n",
    "\n",
    "Let's now compute a more complicated math expression $(1+4)^2 - 3$,\n",
    "which is equivalent to the following Python expression:"
   ]
  },
  {
   "cell_type": "code",
   "execution_count": 2,
   "id": "5a6aed0f-42af-4d97-948e-d5ead5a03dcc",
   "metadata": {},
   "outputs": [
    {
     "data": {
      "text/plain": [
       "22"
      ]
     },
     "execution_count": 2,
     "metadata": {},
     "output_type": "execute_result"
    }
   ],
   "source": [
    "(1+4)**2 - 3"
   ]
  },
  {
   "cell_type": "markdown",
   "id": "719096a2-490a-45e1-85ba-f7503a384f0b",
   "metadata": {},
   "source": [
    "Note the Python syntax for math operations is identical to the notation we use in math:\n",
    "addition is `+`, subtraction is `-`, multiplication is `*`, division is `/`, and we use the parentheses `(` and `)` to tell Python to compute `1+4` first. The syntax for exponents is a little unusual: we use two asterisks for it: $a^n$ = `a**n`.\n",
    "\n"
   ]
  },
  {
   "cell_type": "markdown",
   "id": "4a483666-7524-47bc-8c37-5ade0bf6baa3",
   "metadata": {},
   "source": [
    "When you run a code cell,\n",
    "you're telling the computer to **evaluate the Python instructions** it contains.\n",
    "Python then prints the result of the expression in the output cell.\n",
    "\n",
    "Running a code cell is similar to using the EQUALS button on the calculator:\n",
    "whatever math expression you entered, the calculator will compute its value and display it as the output.\n",
    "The process is identical when you execute some Python code,\n",
    "but you're allowed to input multiple lines of commands at once.\n",
    "The computer will execute the lines of code, one by one, in the order it sees them.\n",
    "\n",
    "The result of the final calculation in the cell gets printed as the output of that cell. You can easily change the contents of any input cell, and re-run it to observe a new output. This interactivity makes it easy try new things by changing the code cell and re-running it to see what happens."
   ]
  },
  {
   "cell_type": "markdown",
   "id": "7cc40c9c-1d3d-4afe-b3d4-24e770ee36b1",
   "metadata": {},
   "source": [
    "## Your turn to try this!\n",
    "\n",
    "Try typing in an expression involving numbers and operations in the following cell, then run it by pressing **SHIFT+ENTER** or by using the Play button."
   ]
  },
  {
   "cell_type": "markdown",
   "id": "ff14e218-8887-4ee3-99d3-ad5203ca75dc",
   "metadata": {},
   "source": [
    " "
   ]
  },
  {
   "cell_type": "markdown",
   "id": "79f306e8-dd3a-4db5-94a8-1a4aa0ba4102",
   "metadata": {},
   "source": [
    "<a id=\"vars_and_expr\"></a>\n",
    "# Expressions and variables\n",
    "\n",
    "Python programming involves computing Python expressions and manipulating the data stored in variables. Let's see some of that."
   ]
  },
  {
   "cell_type": "markdown",
   "id": "665e4567-4fc1-4e0e-b49a-38ac3a543d2d",
   "metadata": {},
   "source": [
    "## Expressions\n",
    "\n",
    "All the code cells we looked at above are examples of Python expressions. A Python expression is any arbitrary sequence of values, operators, and functions that we can write and ask Python to compute for us.\n",
    "\n",
    "Here is an example of a complicated expression involving lots of math operations."
   ]
  },
  {
   "cell_type": "code",
   "execution_count": 3,
   "id": "5a9ba864-b931-4b4f-9eba-853c528f9067",
   "metadata": {},
   "outputs": [
    {
     "data": {
      "text/plain": [
       "3.0"
      ]
     },
     "execution_count": 3,
     "metadata": {},
     "output_type": "execute_result"
    }
   ],
   "source": [
    "5**2 - 3*(1+7) + 12/6 "
   ]
  },
  {
   "cell_type": "markdown",
   "id": "13e413d7-ea52-4324-ae42-5dca9fc56a76",
   "metadata": {},
   "source": [
    "Let's now look at some some expressions that involve other aspects of the Python syntax that you haven't seen before: lists and function calls.\n",
    "\n",
    "Here is an example of an expression that computes the sum of a list of three numbers by calling the Python function `sum`."
   ]
  },
  {
   "cell_type": "code",
   "execution_count": 4,
   "id": "82a01e67-d23b-49f7-b29f-68fae23353c7",
   "metadata": {},
   "outputs": [
    {
     "data": {
      "text/plain": [
       "6"
      ]
     },
     "execution_count": 4,
     "metadata": {},
     "output_type": "execute_result"
    }
   ],
   "source": [
    "sum([1, 2, 3])"
   ]
  },
  {
   "cell_type": "markdown",
   "id": "0f04977b-585a-44fa-86d1-ab2a17c1490c",
   "metadata": {},
   "source": [
    "In Python lists are defined using the square brackets,\n",
    "so `[1,2,3]` defines a list of three elements: `1`, `2`, and `3`.\n",
    "\n",
    "The function `sum` compute the sum of a list of numbers it is provided as input.\n",
    "Readers familiar with spreadsheets,\n",
    "will recognize the similarity between the Python function `sum(...)`\n",
    "as the equivalent of the spreadsheet function `SUM(...)`."
   ]
  },
  {
   "cell_type": "markdown",
   "id": "fbe4ebd2-9d86-4794-9fe5-0c001ef6177e",
   "metadata": {},
   "source": [
    "Here is another example of an expression that uses the function `len` to compute the length of a list of numbers."
   ]
  },
  {
   "cell_type": "code",
   "execution_count": 5,
   "id": "06933255-a951-4e61-a9d2-a45f24eb1abb",
   "metadata": {},
   "outputs": [
    {
     "data": {
      "text/plain": [
       "3"
      ]
     },
     "execution_count": 5,
     "metadata": {},
     "output_type": "execute_result"
    }
   ],
   "source": [
    "len([1, 2, 3])"
   ]
  },
  {
   "cell_type": "markdown",
   "id": "c11cfa56-a729-401e-902c-25f2d6ff0f0b",
   "metadata": {},
   "source": [
    "Here the function `len` received the list of numbers `[1, 2, 3]` as input, and produced the output `3` as output, which is the length of the list."
   ]
  },
  {
   "cell_type": "markdown",
   "id": "692e3486-1814-4456-9615-1e6d8b39edbf",
   "metadata": {},
   "source": [
    "We'll have a lot more to say about Python functions and Python lists later on, but for now I just wanted to give you some examples of expressions that do more that just arithmetic operations."
   ]
  },
  {
   "cell_type": "markdown",
   "id": "84b5250b-e095-4c88-af4b-99d007d0e1e4",
   "metadata": {},
   "source": [
    "## Variables\n",
    "\n",
    "A variable in Python is a convenient **name we use to refer to any value**.\n",
    "This is similar to how variables are used in math:\n",
    "to represent constants, function inputs, function outputs, and all intermediate values in calculations.\n",
    "We use the assignment operator `=` to store values into variables,\n",
    "which we'll explain next."
   ]
  },
  {
   "cell_type": "markdown",
   "id": "04159e5c-6062-420b-9186-a6dd81127208",
   "metadata": {
    "tags": []
   },
   "source": [
    "### The assignment operator `=`"
   ]
  },
  {
   "cell_type": "markdown",
   "id": "da99271c-dea8-453e-99c0-87219dad6684",
   "metadata": {},
   "source": [
    "In all the code examples above,\n",
    "we computed various Python expressions,\n",
    "but we didn't do anything with the result.\n",
    "The more common pattern in Python,\n",
    "is to **store the result of an expression into a variable**.\n",
    "\n",
    "To store the result of an expression as a variable,\n",
    "we use the assignment operator `=` as follows, from left to right:\n",
    "\n",
    "* we start by writing the name of the variable\n",
    "* then, we add the symbol `=` (which stands for **assign to**)\n",
    "* finally, we write an expression for the value we want to store in the variable\n",
    "\n",
    "For example, here is the code that computes the value of the expression `2+3`\n",
    "and stores the result in the variable `x`."
   ]
  },
  {
   "cell_type": "code",
   "execution_count": 6,
   "id": "2c31a7d6-c751-4151-8e07-69833bbdbe95",
   "metadata": {},
   "outputs": [],
   "source": [
    "x = 2+3"
   ]
  },
  {
   "cell_type": "markdown",
   "id": "2eba69d4-b7e3-46e9-ab60-62addf264ee6",
   "metadata": {},
   "source": [
    "This expression doesn't have any output: it just assigned value `5` to a the variable `x`."
   ]
  },
  {
   "cell_type": "markdown",
   "id": "5f831b20-c8c2-4fb4-a562-1f9a67b134f9",
   "metadata": {},
   "source": [
    "Note the meaning of `=` is not the same as in math:\n",
    "we're not writing an equation, \n",
    "but assigning the contents of `x`.\n",
    "\n",
    "Here are some other, equivalent ways to describe the assignment operation statement:\n",
    "\n",
    "- Store the result of `2+3` into the variable `x`.\n",
    "- Put `5` into `x`.\n",
    "- Save the value `5` into the memory location named `x`.\n",
    "- Define `x` to be equal to `5`.\n",
    "- Set `x` to `5`.\n",
    "- Record the result of `2+3` under the name `x`.\n",
    "- Let `x` be equal to `5`."
   ]
  },
  {
   "cell_type": "markdown",
   "id": "fc3e1bd0-852f-445f-bead-f637bd11cea7",
   "metadata": {},
   "source": [
    "To display the contents of the variable `x`,\n",
    "we can specify its name on the last line of a code cell."
   ]
  },
  {
   "cell_type": "code",
   "execution_count": 7,
   "id": "25c39e4c-4134-4d3f-a328-5bfd72e8fab8",
   "metadata": {},
   "outputs": [
    {
     "data": {
      "text/plain": [
       "5"
      ]
     },
     "execution_count": 7,
     "metadata": {},
     "output_type": "execute_result"
    }
   ],
   "source": [
    "x"
   ]
  },
  {
   "cell_type": "markdown",
   "id": "92af9b26-c142-45f0-a1d4-9cee99bd57f3",
   "metadata": {},
   "source": [
    "Note we didn't need to call any special function to display the contents of the variable. This is because, in a notebook interface, the value of **the last expression in each code block gets printed automatically**.\n",
    "\n",
    "Later in the tutorial, we'll learn about the function `print` you can use to print values in the middle of a code cell or to customize how values are displayed."
   ]
  },
  {
   "cell_type": "markdown",
   "id": "b8160009-dd87-411a-a040-68b33c7d82ad",
   "metadata": {},
   "source": [
    "We often combine the \"assign `2+3` to `x`\" and the \"display `x`\" commands into a single code cell,\n",
    "as shown below."
   ]
  },
  {
   "cell_type": "code",
   "execution_count": 8,
   "id": "9db5fbc6-7464-4a49-9f4c-fbc28aa8d8f4",
   "metadata": {},
   "outputs": [
    {
     "data": {
      "text/plain": [
       "5"
      ]
     },
     "execution_count": 8,
     "metadata": {},
     "output_type": "execute_result"
    }
   ],
   "source": [
    "x = 2+3\n",
    "x"
   ]
  },
  {
   "cell_type": "markdown",
   "id": "acd78c45-95d5-433a-9d13-5ae6e9dfbc7d",
   "metadata": {},
   "source": [
    "The first line in this code block assigns the value `5` to the variable `x`, then placing `x` on the second line results in the contents of that variable `x` being displayed."
   ]
  },
  {
   "cell_type": "markdown",
   "id": "3ca1a5e0-34a9-4a92-bd14-99956747ef32",
   "metadata": {},
   "source": [
    "**Exercise 1**: Imitate the above code block, to create another variable `y` that contains the value of the expression $(1+4)^2 - 3$, then display the contents of the variable `y`."
   ]
  },
  {
   "cell_type": "code",
   "execution_count": 9,
   "id": "979eec9d-eaaa-405e-9a9f-32a3ba4c3a50",
   "metadata": {},
   "outputs": [],
   "source": [
    "# put you answer in this code cell\n"
   ]
  },
  {
   "cell_type": "code",
   "execution_count": 10,
   "id": "04f3ebbf-02aa-44dd-9e7b-b767e088ad45",
   "metadata": {},
   "outputs": [
    {
     "data": {
      "text/plain": [
       "22"
      ]
     },
     "execution_count": 10,
     "metadata": {},
     "output_type": "execute_result"
    }
   ],
   "source": [
    "#@titlesolution Exercise 1 y-expression\n",
    "y = (1+4)**2 - 3\n",
    "y"
   ]
  },
  {
   "cell_type": "markdown",
   "id": "25cc03f3-09ca-41b5-9f5f-10045261da51",
   "metadata": {},
   "source": [
    "So to summarize,\n",
    "the syntax of an assignment statement is as follows:\n",
    "\n",
    "```Python\n",
    "<place> = <some expression>\n",
    "```\n",
    "\n",
    "The assignment operator (`=`) is used to store the value of the expression `<some expression>` into the memory location `<place>`, which is usually a variable name. Later in this tutorial, we'll learn how to store values in other places, like inside containers like lists and dictionaries."
   ]
  },
  {
   "cell_type": "markdown",
   "id": "6a634670-2ddd-4bc5-acfb-80017c02b9ce",
   "metadata": {
    "tags": []
   },
   "source": [
    "## Multi-line expressions (Python code blocks)\n",
    "\n",
    "Let's use what we have learned about variables and expressions to look at some examples of Python calculations with multiple steps."
   ]
  },
  {
   "cell_type": "markdown",
   "id": "31d09853-6ddf-4633-afd2-ac3224b15408",
   "metadata": {},
   "source": [
    "#### Example: Number of seconds in one week\n",
    "\n",
    "Let's say someone asks you to calculate how many seconds there are in one week.\n",
    "We can do this using multi-step Python calculation,\n",
    "knowing that there are $60$ seconds in one minute,\n",
    "$60$ minutes in one hour,\n",
    "$24$ hours in one day,\n",
    "and $7$ days in one week.\n",
    "\n",
    "Rather than trying to compute the answer in a single step,\n",
    "we can use several intermediate variables with descriptive names to help us perform the calculation step by step:"
   ]
  },
  {
   "cell_type": "code",
   "execution_count": 11,
   "id": "7ede33a7-e8d8-4c4f-b99e-33c60b79906c",
   "metadata": {},
   "outputs": [
    {
     "data": {
      "text/plain": [
       "604800"
      ]
     },
     "execution_count": 11,
     "metadata": {},
     "output_type": "execute_result"
    }
   ],
   "source": [
    "secs_in_1min = 60 \n",
    "secs_in_1hour = secs_in_1min * 60 \n",
    "secs_in_1day = secs_in_1hour * 24\n",
    "secs_in_1week = secs_in_1day * 7\n",
    "secs_in_1week"
   ]
  },
  {
   "cell_type": "markdown",
   "id": "99badcda-6d2a-420a-87bf-a6e173b39c3f",
   "metadata": {},
   "source": [
    "Note we use the underscore `_` as part of the variable name, which is a common pattern in Python code. The variable name `some_name` is easier to read than `somename`."
   ]
  },
  {
   "cell_type": "markdown",
   "id": "460c613f-6e81-4f43-82de-9617566b7259",
   "metadata": {},
   "source": [
    "**Exercise 2**: Johnny currently weights 107 kg, and wants to know his weight in pounds `lbs`. One kilogram is equivalent to 2.2 lbs.\n",
    "Write the Python expression that computes Johnny's weight in pounds."
   ]
  },
  {
   "cell_type": "code",
   "execution_count": 12,
   "id": "f86b43af-81dd-45f3-bcdd-89051ba33dfb",
   "metadata": {},
   "outputs": [],
   "source": [
    "weight_in_kg = 107\n",
    "weight_in_lb = ... # replace ... with your answer"
   ]
  },
  {
   "cell_type": "code",
   "execution_count": 13,
   "id": "8c99ac7e-1037-4627-8108-6dd256e31f6c",
   "metadata": {},
   "outputs": [
    {
     "data": {
      "text/plain": [
       "235.4"
      ]
     },
     "execution_count": 13,
     "metadata": {},
     "output_type": "execute_result"
    }
   ],
   "source": [
    "#@titlesolution Exercise 2 weight-in-lbs\n",
    "weight_in_kg = 107\n",
    "weight_in_lb = 2.2 * weight_in_kg\n",
    "weight_in_lb"
   ]
  },
  {
   "cell_type": "markdown",
   "id": "30911d22-dc5f-4946-940b-77da250a6db0",
   "metadata": {},
   "source": [
    "**Exercise 3**: You're buying something that costs 57.0 dollars,\n",
    "and the local government imposes a 10\\% tax on your purchase.\n",
    "Calculate the total you'll have to pay, which includes the cost and 10\\% taxes."
   ]
  },
  {
   "cell_type": "code",
   "execution_count": 14,
   "id": "237560d6-99f1-4ae1-a24f-896bbe07b26d",
   "metadata": {},
   "outputs": [],
   "source": [
    "cost = 57.0\n",
    "taxes = ... # replace ... with your answer\n",
    "total = ... # replace ... with your answer"
   ]
  },
  {
   "cell_type": "code",
   "execution_count": 15,
   "id": "8ffc6245",
   "metadata": {},
   "outputs": [
    {
     "data": {
      "text/plain": [
       "62.7"
      ]
     },
     "execution_count": 15,
     "metadata": {},
     "output_type": "execute_result"
    }
   ],
   "source": [
    "#@titlesolution Exercise 3 calc-cost-plus-taxes\n",
    "cost = 57.00\n",
    "taxes = 0.10 * cost\n",
    "total = cost + taxes\n",
    "total"
   ]
  },
  {
   "cell_type": "markdown",
   "id": "3037b7cf",
   "metadata": {},
   "source": [
    "**Exercise 4**:\n",
    "The formula for converting a temperature from Celsius to temperature in Fahrenheit\n",
    "is given by $F = \\tfrac{9}{5} \\cdot C  + 32$.\n",
    "Given the variable `C` that contains the current temperature in Celsius,\n",
    "write the expression that calculates the current temperature in Fahrenheit and store the answer in a new variable named `F`."
   ]
  },
  {
   "cell_type": "code",
   "execution_count": 16,
   "id": "3210ba16-950d-4120-87cb-5327aeb40e82",
   "metadata": {},
   "outputs": [],
   "source": [
    "C = 20\n",
    "F = ... # replace ... with your answer"
   ]
  },
  {
   "cell_type": "markdown",
   "id": "c3046415-7507-476b-8188-a6fdbb5cc33b",
   "metadata": {},
   "source": [
    "Test: when `C = 100`, your answer `F` should be `212`."
   ]
  },
  {
   "cell_type": "code",
   "execution_count": 17,
   "id": "3ff6d575-93f4-41b4-b433-2c71938f7cfc",
   "metadata": {},
   "outputs": [
    {
     "data": {
      "text/plain": [
       "68.0"
      ]
     },
     "execution_count": 17,
     "metadata": {},
     "output_type": "execute_result"
    }
   ],
   "source": [
    "#@titlesolution Exercise 4 temp-in-F\n",
    "C = 20\n",
    "F = (C * 9/5) + 32\n",
    "F"
   ]
  },
  {
   "cell_type": "markdown",
   "id": "e8ca000e-284f-4dc8-996b-1ecf3462681b",
   "metadata": {
    "tags": []
   },
   "source": [
    "## Variable types\n",
    "\n",
    "Every variable in Python has a *type*, which tells you what kind of data it contains. There are multiple types for storing numbers, and specialized types for storing text. There are also several types of container variables that store other variables.\n",
    "\n",
    "Here is list of the most common types of variables in Python:\n",
    "\n",
    "- **int** - integers ex: `34`,`65`, `78`, `-4`, etc. (roughly equivalent to math integers $\\mathbb{Z}$)\n",
    "- **float** - ex: `4.6`,`78.5`, `1e-3` (full name is \"floating point number\"; similar to $\\mathbb{R}$ but only with finite precision)\n",
    "- **list** - a sequence of values like `[61, 79, 98, 72]`.\n",
    "  The beginning and the end of the list are denoted by the square brackets `[` and `]`, and its elements are separated by commas.\n",
    "- **string** - text content like `\"Hello\"`, `\"Hello everyone\"`.\n",
    "  Text strings are denoted using either double quotes `\"Hi\"` or single quotes `'Hi'`.\n",
    "- **bool** - a Boolean truth value with only two choices: `True` or `False`.\n",
    "- Other types include **dictionary**, **tuple**, **set**, **function**, **object**, etc. These are other useful Python building blocks which we'll talk about in later sections."
   ]
  },
  {
   "cell_type": "markdown",
   "id": "f681849b-5910-474d-8ca0-08d8baf87b0d",
   "metadata": {},
   "source": [
    "Let's look at some examples with variables of different types:\n",
    "an `int`eger, a `float`ing point number, a `list`, a `str`ing,\n",
    "and `bool`ean value."
   ]
  },
  {
   "cell_type": "code",
   "execution_count": 18,
   "id": "cf6eba8f",
   "metadata": {},
   "outputs": [],
   "source": [
    "score = 98\n",
    "average = 77.5\n",
    "scores = [61, 79, 98, 72]\n",
    "message = \"Hello everyone\"\n",
    "above_the_average = True"
   ]
  },
  {
   "cell_type": "markdown",
   "id": "8beec74e-8d5e-41bf-9a17-aa2c99aa6abd",
   "metadata": {},
   "source": [
    "Running the above code cell doesn't print anything,\n",
    "because we have only defined variables: `score`, `average`, `scores`, `message`, and `above_the_average`, but we didn't display them."
   ]
  },
  {
   "cell_type": "markdown",
   "id": "4578b957-6946-4db2-9a85-88decf12d0fa",
   "metadata": {},
   "source": [
    "To display the value of any of these variables,\n",
    "we can use it's name on the command line.\n",
    "Let's see the contents the `score` variable:"
   ]
  },
  {
   "cell_type": "code",
   "execution_count": 19,
   "id": "298f5e87-1588-4d1d-936f-f416725ec033",
   "metadata": {},
   "outputs": [
    {
     "data": {
      "text/plain": [
       "98"
      ]
     },
     "execution_count": 19,
     "metadata": {},
     "output_type": "execute_result"
    }
   ],
   "source": [
    "score"
   ]
  },
  {
   "cell_type": "markdown",
   "id": "406b2440-a0b5-450e-903c-fd9707b865b0",
   "metadata": {},
   "source": [
    "The function `type` tells you the type of any variable, meaning what kind of number or object it is."
   ]
  },
  {
   "cell_type": "code",
   "execution_count": 20,
   "id": "727080f6-ea61-45e1-99de-1ae8e6a31969",
   "metadata": {},
   "outputs": [
    {
     "data": {
      "text/plain": [
       "int"
      ]
     },
     "execution_count": 20,
     "metadata": {},
     "output_type": "execute_result"
    }
   ],
   "source": [
    "type(score)"
   ]
  },
  {
   "cell_type": "markdown",
   "id": "81534283-5651-47b3-8551-2b37855ab41c",
   "metadata": {},
   "source": [
    "In this case, value of the variable `score` is `98` and it is of type **int** (integer)."
   ]
  },
  {
   "cell_type": "markdown",
   "id": "79b29d0c-dc4c-43b6-804d-d8da3c190023",
   "metadata": {},
   "source": [
    "Let's now look at the value and type of the variable `average`:"
   ]
  },
  {
   "cell_type": "code",
   "execution_count": 21,
   "id": "8b6c4044-8421-40c6-a8ca-c3b744373ab8",
   "metadata": {},
   "outputs": [
    {
     "data": {
      "text/plain": [
       "77.5"
      ]
     },
     "execution_count": 21,
     "metadata": {},
     "output_type": "execute_result"
    }
   ],
   "source": [
    "average"
   ]
  },
  {
   "cell_type": "code",
   "execution_count": 22,
   "id": "a3fd20c2-c3a5-4e4f-84bc-c2440ebb19f4",
   "metadata": {},
   "outputs": [
    {
     "data": {
      "text/plain": [
       "float"
      ]
     },
     "execution_count": 22,
     "metadata": {},
     "output_type": "execute_result"
    }
   ],
   "source": [
    "type(average)"
   ]
  },
  {
   "cell_type": "markdown",
   "id": "cfe62b3a-2d80-4b26-aab5-d1518d22b1e1",
   "metadata": {},
   "source": [
    "**Exercise 5**: Display the contents and the type of the other variables we defiend above."
   ]
  },
  {
   "cell_type": "code",
   "execution_count": 23,
   "id": "089a1e45-5d10-43a0-a66f-d06492af0b6f",
   "metadata": {},
   "outputs": [
    {
     "data": {
      "text/plain": [
       "Ellipsis"
      ]
     },
     "execution_count": 23,
     "metadata": {},
     "output_type": "execute_result"
    }
   ],
   "source": [
    "... # replace ... with your answer"
   ]
  },
  {
   "cell_type": "code",
   "execution_count": 24,
   "id": "6fe84d2f",
   "metadata": {},
   "outputs": [
    {
     "data": {
      "text/plain": [
       "bool"
      ]
     },
     "execution_count": 24,
     "metadata": {},
     "output_type": "execute_result"
    }
   ],
   "source": [
    "#@titlesolution Exercise 5 variable-types\n",
    "scores\n",
    "type(scores)\n",
    "\n",
    "message\n",
    "type(message)\n",
    "\n",
    "above_the_average\n",
    "type(above_the_average)"
   ]
  },
  {
   "cell_type": "markdown",
   "id": "500eaad4-2296-4ac0-aacf-9cb82f2c5084",
   "metadata": {},
   "source": [
    "### Python objects\n",
    "\n",
    "The value of every variable in Python is an *object*. The function `type` tells you what kind of object it is. The term \"object\" is used in programming to describe variables that are not simple containers for data but have additional information and *affordances* (what you can do with them) attached to them. For example, a `str`ing object knows how to convert itself to capital letters.\n",
    "\n",
    "Python is an object-oriented language, which means everything in Python is an object. The `int`egers, `float`ing point numbers, `list`s, `str`ings, and `bool`ean are examples of different types of objects. We'll use the generic variable name `obj` to refer to an object of any type."
   ]
  },
  {
   "cell_type": "markdown",
   "id": "bbc3fdf6-5935-4c67-8149-6ef89b95726a",
   "metadata": {},
   "source": [
    "# Getting comfortable with Python\n",
    "\n",
    "The JupyterLab environment provides lots of tools to make learning Python easy for beginners,\n",
    "which include documentation (help menus) and interactive ways to explore the properties of variables."
   ]
  },
  {
   "cell_type": "markdown",
   "id": "b6c8cb80-f7d6-4802-a447-495b5272c09f",
   "metadata": {
    "tags": []
   },
   "source": [
    "## Showing the help info\n",
    "\n",
    "Every Python object has a \"doc string\" (documentation string) associated with it, which provides the help info about this object.\n",
    "There are three equivalent ways to view the docstring of any Python object `obj` (value, variable, function, module, etc.):\n",
    "\n",
    "- `help(obj)`: prints the docstring of the Python object `obj`\n",
    "- `obj?`: shortcut for `help(obj)`\n",
    "- predd **SHIFT+TAB**: while the cursor is on top of Python variable or function inside a code block\n",
    "\n",
    "\n",
    "There are also other methods for getting more detailed info about an object like\n",
    "`obj??`, `%psource obj`, `%pdef obj`, but we won't need these for now."
   ]
  },
  {
   "cell_type": "markdown",
   "id": "a003d0e2-f4ff-42c2-a8d1-e534f118cd4f",
   "metadata": {},
   "source": [
    "### Example: learning about the `abs` function\n",
    "\n",
    "Let's say you're reading some Python code written by a friend,\n",
    "and they use the function `abs` in their code.\n",
    "Suppose you've never seen this function before,\n",
    "and you have no idea what it does."
   ]
  },
  {
   "cell_type": "code",
   "execution_count": 25,
   "id": "14bcb38d-ba4a-46fe-8d48-4a635a674aaa",
   "metadata": {},
   "outputs": [
    {
     "data": {
      "text/plain": [
       "3"
      ]
     },
     "execution_count": 25,
     "metadata": {},
     "output_type": "execute_result"
    }
   ],
   "source": [
    "# put cursor in the middle of function and press SHIFT+TAB\n",
    "abs(-3)"
   ]
  },
  {
   "cell_type": "markdown",
   "id": "f8dcf334-2304-48d6-a59b-11ddc66764c3",
   "metadata": {},
   "source": [
    "We can also obtain the same information using the `help()` function on `abs`."
   ]
  },
  {
   "cell_type": "code",
   "execution_count": 26,
   "id": "b9330d95-c29e-4fa6-a176-328808ab74a1",
   "metadata": {},
   "outputs": [
    {
     "name": "stdout",
     "output_type": "stream",
     "text": [
      "Help on built-in function abs in module builtins:\n",
      "\n",
      "abs(x, /)\n",
      "    Return the absolute value of the argument.\n",
      "\n"
     ]
    }
   ],
   "source": [
    "help(abs)"
   ]
  },
  {
   "cell_type": "markdown",
   "id": "4d4e163f-a569-4c67-a7ff-e878fdbf5a42",
   "metadata": {},
   "source": [
    "The help menu tells you that `abs(x)` is the absolute value function,\n",
    "which is written $|x|$ in math notation, and defined as\n",
    "\n",
    "$$\n",
    "  |x| = \\begin{cases} x & \\text{if } x \\geq 0 \\\\ -x & \\text{if } x < 0 \\end{cases}\n",
    "$$\n"
   ]
  },
  {
   "cell_type": "markdown",
   "id": "bfaa403c-d3f2-4d2e-bf18-fb348ae07c51",
   "metadata": {},
   "source": [
    "We refer to the help menu associated with an object as its \"doc string\",\n",
    "since the information is stored as `obj.__doc__`."
   ]
  },
  {
   "cell_type": "code",
   "execution_count": 27,
   "id": "ed5f3657-7b0a-4f88-b0b0-c6e8c40d2991",
   "metadata": {},
   "outputs": [
    {
     "data": {
      "text/plain": [
       "'Return the absolute value of the argument.'"
      ]
     },
     "execution_count": 27,
     "metadata": {},
     "output_type": "execute_result"
    }
   ],
   "source": [
    "abs.__doc__"
   ]
  },
  {
   "cell_type": "markdown",
   "id": "9504e23c-9492-4a7b-89c8-6ddee256cfb5",
   "metadata": {},
   "source": [
    "### Exercises"
   ]
  },
  {
   "cell_type": "markdown",
   "id": "bb0d917e-cf94-4a29-8b17-3476e5953274",
   "metadata": {},
   "source": [
    "**Exercise 6**: Display the doc-string of the function `len`."
   ]
  },
  {
   "cell_type": "code",
   "execution_count": 28,
   "id": "fae81d0d-5ae9-4fc5-8c55-6b761e3e0372",
   "metadata": {},
   "outputs": [
    {
     "name": "stdout",
     "output_type": "stream",
     "text": [
      "Help on built-in function len in module builtins:\n",
      "\n",
      "len(obj, /)\n",
      "    Return the number of items in a container.\n",
      "\n"
     ]
    }
   ],
   "source": [
    "#@titlesolution Exercise 6 help-len\n",
    "help(len)"
   ]
  },
  {
   "cell_type": "markdown",
   "id": "6bf8cec7-ee28-42e1-9661-a7f5aba7df06",
   "metadata": {},
   "source": [
    "**Exercise 7**: Display the doc-string of the function `sum`."
   ]
  },
  {
   "cell_type": "code",
   "execution_count": 29,
   "id": "6556a136-c3e8-4cdd-b7aa-78f3bc046c39",
   "metadata": {},
   "outputs": [
    {
     "name": "stdout",
     "output_type": "stream",
     "text": [
      "Help on built-in function sum in module builtins:\n",
      "\n",
      "sum(iterable, /, start=0)\n",
      "    Return the sum of a 'start' value (default: 0) plus an iterable of numbers\n",
      "    \n",
      "    When the iterable is empty, return the start value.\n",
      "    This function is intended specifically for use with numeric values and may\n",
      "    reject non-numeric types.\n",
      "\n"
     ]
    }
   ],
   "source": [
    "#@titlesolution Exercise 7 help-sum\n",
    "help(sum)"
   ]
  },
  {
   "cell_type": "markdown",
   "id": "dcb2ebbe-aeb0-4077-8cd1-4035faeed858",
   "metadata": {},
   "source": [
    "**Exercise 8**:\n",
    "Display the doc string of for the function `print`."
   ]
  },
  {
   "cell_type": "code",
   "execution_count": 30,
   "id": "c14009f5-a885-456a-9db4-adad29d11c46",
   "metadata": {},
   "outputs": [
    {
     "name": "stdout",
     "output_type": "stream",
     "text": [
      "Help on built-in function print in module builtins:\n",
      "\n",
      "print(...)\n",
      "    print(value, ..., sep=' ', end='\\n', file=sys.stdout, flush=False)\n",
      "    \n",
      "    Prints the values to a stream, or to sys.stdout by default.\n",
      "    Optional keyword arguments:\n",
      "    file:  a file-like object (stream); defaults to the current sys.stdout.\n",
      "    sep:   string inserted between values, default a space.\n",
      "    end:   string appended after the last value, default a newline.\n",
      "    flush: whether to forcibly flush the stream.\n",
      "\n"
     ]
    }
   ],
   "source": [
    "#@titlesolution Exercise 8 help-print\n",
    "help(print)"
   ]
  },
  {
   "cell_type": "markdown",
   "id": "48c28226-6c60-4d02-bcb4-aece2ecfa92b",
   "metadata": {
    "tags": []
   },
   "source": [
    "### (sidenote) Python comments\n",
    "\n",
    "You can write comment in Python code using the character `#`.\n",
    "Comments can be very useful to provide additional information that explains what the code is trying to do."
   ]
  },
  {
   "cell_type": "code",
   "execution_count": 31,
   "id": "020ea4fd-c984-4723-8d5e-f9969430d631",
   "metadata": {},
   "outputs": [],
   "source": [
    "# this is a comment"
   ]
  },
  {
   "cell_type": "markdown",
   "id": "1ef8ed01-26ee-4b1e-a8a6-7a8c3b7d4402",
   "metadata": {},
   "source": [
    "**Exercise 9**: replace the `...` in the code block with comments that\n",
    "explain the calculation \"adding 10\\% tax to a purchase that costs \\$57\"\n",
    "that is being computed."
   ]
  },
  {
   "cell_type": "code",
   "execution_count": 32,
   "id": "a2c68579-c5a8-491d-9d22-9cb0f0bba584",
   "metadata": {},
   "outputs": [
    {
     "data": {
      "text/plain": [
       "62.7"
      ]
     },
     "execution_count": 32,
     "metadata": {},
     "output_type": "execute_result"
    }
   ],
   "source": [
    "cost = 57.00           # ...\n",
    "taxes = 0.10 * cost    # ...\n",
    "total = cost + taxes   # ...\n",
    "total                  # ..."
   ]
  },
  {
   "cell_type": "code",
   "execution_count": 33,
   "id": "7e05651d-bd9f-4501-9a9b-5a39d266b3e4",
   "metadata": {},
   "outputs": [
    {
     "data": {
      "text/plain": [
       "62.7"
      ]
     },
     "execution_count": 33,
     "metadata": {},
     "output_type": "execute_result"
    }
   ],
   "source": [
    "#@titlesolution Exercise 9 cost-plus-taxes-total\n",
    "cost = 57.00           # price before taxes\n",
    "taxes = 0.10 * cost    # 10% taxes = 0.1 times the cost\n",
    "total = cost + taxes   # add taxes to cost and store the result in total\n",
    "total                  # print the total"
   ]
  },
  {
   "cell_type": "markdown",
   "id": "bb990805-0790-4fa0-a0de-bb56c1c9e936",
   "metadata": {
    "tags": []
   },
   "source": [
    "## Inspecting Python objects\n",
    "\n",
    "Suppose you're given the Python object `obj` and you want to know what it is,\n",
    "and learn what you can do with it."
   ]
  },
  {
   "cell_type": "markdown",
   "id": "1691d425-29aa-43c6-a038-28e650ca7caf",
   "metadata": {
    "tags": []
   },
   "source": [
    "### Displaying the object\n",
    "\n",
    "There are several built-in functions that allow you to display information about the any object `obj`.\n",
    "\n",
    "- `type(obj)`: tells you what type of object it is\n",
    "- `print(obj)`: converts the object to `str` and prints it\n",
    "- `repr(obj)`: similar to print, but prints the complete string representation (including quotes).  \n",
    "   The output of `repr(obj)` contains all the information needed to reconstruct the object `obj`.\n",
    "\n",
    "We've already used both `type` and `print`, so there is nothing new here.\n",
    "I just wanted to remind you you can always use these functions as first line of inspection."
   ]
  },
  {
   "cell_type": "code",
   "execution_count": 34,
   "id": "6a218312-8d28-4a7b-8b25-84bd4862cd4d",
   "metadata": {},
   "outputs": [
    {
     "data": {
      "text/plain": [
       "int"
      ]
     },
     "execution_count": 34,
     "metadata": {},
     "output_type": "execute_result"
    }
   ],
   "source": [
    "obj = 3\n",
    "\n",
    "type(x)"
   ]
  },
  {
   "cell_type": "code",
   "execution_count": 35,
   "id": "5cb8b99c-b5b6-47db-91ce-57ab878f0a11",
   "metadata": {},
   "outputs": [
    {
     "name": "stdout",
     "output_type": "stream",
     "text": [
      "3\n"
     ]
    }
   ],
   "source": [
    "print(obj)"
   ]
  },
  {
   "cell_type": "code",
   "execution_count": 36,
   "id": "efd453a8-36b4-43c0-9ccf-d2efbcdf573b",
   "metadata": {},
   "outputs": [
    {
     "data": {
      "text/plain": [
       "'3'"
      ]
     },
     "execution_count": 36,
     "metadata": {},
     "output_type": "execute_result"
    }
   ],
   "source": [
    "repr(obj)"
   ]
  },
  {
   "cell_type": "markdown",
   "id": "d29a3972-1345-4259-bc0c-8d20ef0b98c8",
   "metadata": {
    "tags": []
   },
   "source": [
    "### Auto-complete object attributes and methods\n",
    "\n",
    "JupyterLab notebook environment provides very useful \"autocomplete\" functionality that helps us look around at the attributes and methods of any object. \n",
    "\n",
    "- `TAB` button: type `obj.`  then press TAB button.\n",
    "- `dir(obj)`: shows the \"directory\" of all the attributes and methods of the object `obj`"
   ]
  },
  {
   "cell_type": "code",
   "execution_count": 37,
   "id": "1b84eed3-8910-4bf4-9a03-a9d3c1aeae49",
   "metadata": {},
   "outputs": [],
   "source": [
    "message = \"Hello everyone\"\n",
    "# message.   <TAB>"
   ]
  },
  {
   "cell_type": "code",
   "execution_count": 38,
   "id": "d0bed95d-0a8d-407a-9ae5-9b98020689a2",
   "metadata": {},
   "outputs": [],
   "source": [
    "# Examples of useful str methods\n",
    "# message.upper()\n",
    "# message.lower()\n",
    "# message.split()\n",
    "# message.replace(\"everyone\", \"world\")"
   ]
  },
  {
   "cell_type": "markdown",
   "id": "296abfc8-919f-4173-b43b-6320ea6b0dd3",
   "metadata": {
    "tags": []
   },
   "source": [
    "\n",
    "\n",
    "\n",
    "  "
   ]
  },
  {
   "cell_type": "markdown",
   "id": "5ff5b86f-470d-478c-8152-b6db1c379b12",
   "metadata": {
    "tags": []
   },
   "source": [
    "### (bonus) See what's in the global namespace\n",
    "\n",
    "In a Jupyter notebook,\n",
    "you can run the command `%whos` to print all the variables and functions that defined in the current namespace."
   ]
  },
  {
   "cell_type": "code",
   "execution_count": 39,
   "id": "3e496261-e0b7-47ec-a8ca-652c2c60f1f4",
   "metadata": {},
   "outputs": [],
   "source": [
    "# %whos"
   ]
  },
  {
   "cell_type": "markdown",
   "id": "dcc58756-3cae-4794-a770-00b2ffc291b3",
   "metadata": {
    "tags": []
   },
   "source": [
    "## Python error messages\n",
    "\n",
    "Sometimes the code you evaluate will cause an error\n",
    "and Python will print an error message describing the problem it encountered.\n",
    "You need to be mentally prepared for these errors,\n",
    "since they happen a lot and can be very discouraging at first.\n",
    "The computer doesn't like what you entered.\n",
    "The output is a big red box,\n",
    "that tells you your input was REJECTED!\n",
    "\n",
    "Examples of errors include `SyntaxError`, `ValueError`, etc.\n",
    "The error messages look scary,\n",
    "but really they are there to help you—if you read what the error message is telling you,\n",
    "you'll know exactly what you need fix in your input.\n",
    "The error message literally describes the problem!\n",
    "\n",
    "<!-- if you type invalid syntax, assign to non-existing variables, or otherwise input something that Python doesn't like, Python will throw an \"exception,\" which is like saying \"Yo, I don't understand this, or I can't run this, or the code refers to some data that doesn't exist, etc.\" You'll see the name of the error that occurred and a message to explain what went wrong. -->"
   ]
  },
  {
   "cell_type": "markdown",
   "id": "e0b49cc1-1e8d-4bdd-ba5a-9fbc994e2848",
   "metadata": {},
   "source": [
    "We'll now look at an example expression that Python cannot compute,\n",
    "so it raises an exception.\n",
    "The code cell below shows an example error that occurs when you ask Python to compute a math expressions that doesn't make sense."
   ]
  },
  {
   "cell_type": "code",
   "execution_count": 40,
   "id": "99b808a8",
   "metadata": {
    "tags": [
     "raises-exception"
    ]
   },
   "outputs": [
    {
     "ename": "ZeroDivisionError",
     "evalue": "division by zero",
     "output_type": "error",
     "traceback": [
      "\u001b[0;31m---------------------------------------------------------------------------\u001b[0m",
      "\u001b[0;31mZeroDivisionError\u001b[0m                         Traceback (most recent call last)",
      "Cell \u001b[0;32mIn[40], line 1\u001b[0m\n\u001b[0;32m----> 1\u001b[0m \u001b[38;5;241;43m3\u001b[39;49m\u001b[38;5;241;43m/\u001b[39;49m\u001b[38;5;241;43m0\u001b[39;49m\n",
      "\u001b[0;31mZeroDivisionError\u001b[0m: division by zero"
     ]
    }
   ],
   "source": [
    "3/0"
   ]
  },
  {
   "cell_type": "markdown",
   "id": "ae9fcc34-2f6c-4e97-a3e7-311b2392f071",
   "metadata": {},
   "source": [
    "You'll see these threatening looking messages on a red background any time Python encounters an error when trying to run the commands you specified.\n",
    "This is nothing to be alarmed by.\n",
    "It usually means you made a typo (symbol not defined error),\n",
    "forgot a syntax element (e.g. `(`, `,`, `[`, `:`, etc.),\n",
    "or tried to compute something impossible,\n",
    "like dividing a number by zero as in the above example.\n",
    "\n",
    "You get an error since you're trying to compute an expression that contains a division by zero. Python tells you that a `ZeroDivisionError: division by zero` has occurred.\n",
    "Indeed it's not possible to divide a number by zero.\n",
    "\n",
    "The way to read these red messages is to focus on the name of the **explanation message that gets printed on the last line**. The error message tells you what you need to fix. The solution will be obvious for typos and syntax errors, but for more complicated situations, you may need to search online to find what the problem is.\n",
    "\n",
    "In our example, we can fix the `3/0` by replacing it with `3/1`."
   ]
  },
  {
   "cell_type": "code",
   "execution_count": 41,
   "id": "fcfeecb6-3362-493b-a014-769d5a316c0e",
   "metadata": {},
   "outputs": [
    {
     "data": {
      "text/plain": [
       "3.0"
      ]
     },
     "execution_count": 41,
     "metadata": {},
     "output_type": "execute_result"
    }
   ],
   "source": [
    "3/1"
   ]
  },
  {
   "cell_type": "markdown",
   "id": "d4ed9345-f645-4f34-b284-4ac78979efa2",
   "metadata": {
    "tags": []
   },
   "source": [
    "The three most common error messages you are likely to encounter are:\n",
    "\n",
    "- `SyntaxError`: you typed in something wrong (usually missing \" ] or some other punctuation)\n",
    "- `NameError`: Raised when a variable is not found in local or global scope.\n",
    "- `TypeError`: Raised when a function or operation is applied to an object of incorrect type.\n",
    "\n",
    "Later on we'll also run into,\n",
    "`KeyError` when a key is not found in a dictionary,\n",
    "`ValueError` when a function gets an argument of correct type but improper value,\n",
    "`ImportError` when importing modules,\n",
    "and `AttributeError` when working with objects.\n",
    "There are many more error types.\n",
    "You can see a complete list by typing in the command `*Error?`."
   ]
  },
  {
   "cell_type": "markdown",
   "id": "6f2417c3-dd57-467a-82e8-a105b8fb4d0b",
   "metadata": {
    "tags": []
   },
   "source": [
    "**Exercise 10**: let's break Python! 🔨🔨🔨🔨🔨🔨  \n",
    "Try typing in Python commands that causes each of these exceptions:\n",
    " \n",
    " 1. `SyntaxError`   (hint: write an incomplete list expression)\n",
    " 2. `NameError`     (hint: try referring to a variable that doesn't exist)\n",
    " 3. `TypeError`     (hint: use the `abs` function on a non-number)"
   ]
  },
  {
   "cell_type": "code",
   "execution_count": 42,
   "id": "9aebce93-4124-4918-8f69-a69c457e3c9e",
   "metadata": {},
   "outputs": [],
   "source": [
    "#@titlesolution Exercise 10 cause-exceptions\n",
    "\n",
    "# SyntaxError if you forget to close the [ when creating a list\n",
    "# [1\n",
    "\n",
    "# SyntaxError when using a space\n",
    "# 3 4\n",
    "\n",
    "\n",
    "# NameError when referring to a variable that doesn't exist\n",
    "# zz + 3\n",
    "\n",
    "\n",
    "# TypeError computing the absolute value of a string\n",
    "# abs(\"zz\")\n",
    "\n",
    "# TypeError computing the sum of a single number\n",
    "# sum(3)"
   ]
  },
  {
   "cell_type": "markdown",
   "id": "0aab73fc-76a0-4122-ab29-ebc84490b374",
   "metadata": {},
   "source": [
    "## Python documentation\n",
    "\n",
    "The official Python documentation website https://docs.python.org provides loads and loads of excellent information for learning Python.\n",
    "\n",
    "Here are some useful links:\n",
    "\n",
    "- main page https://docs.python.org/3/\n",
    "- tutorial https://docs.python.org/3/tutorial/index.html\n",
    "- examples:\n",
    "  - abs https://docs.python.org/3/library/functions.html#abs\n",
    "  - len https://docs.python.org/3/library/functions.html#len\n",
    "  - type https://docs.python.org/3/library/functions.html#type\n",
    "  - print https://docs.python.org/3/library/functions.html#print \n",
    "  - int https://docs.python.org/3/library/functions.html#int \n",
    "  - float https://docs.python.org/3/library/functions.html#float \n",
    "  - str https://docs.python.org/3/library/functions.html#func-str\n",
    "  - list https://docs.python.org/3/library/functions.html#func-list\n",
    "  - dict https://docs.python.org/3/library/functions.html#func-dict \n",
    "  - sum https://docs.python.org/3/library/functions.html#sum \n",
    "  - max https://docs.python.org/3/library/functions.html#max\n",
    "  \n",
    "I encourage you to browse the site to familiarize yourself with the information that is available.\n",
    "\n",
    "Usually when you do a google search, the official Python docs will show up on the first page of results.\n",
    "Make sure to read the official documentation instead of other \"learn Python\" websites\n",
    "(currently the first few google search results that show up point to SEO-optimized, spammy, advertisementfull, websites \n",
    " which are inferior to the official documentation).\n",
    "Always prefer the official docs (even if it appears lower in the list of results on the page).\n",
    "[Stack overflow](https://stackoverflow.com/questions/tagged/python) discussions are also a good place to find answers to common Python questions."
   ]
  },
  {
   "cell_type": "markdown",
   "id": "139e0683-9e47-45e3-a0e2-95877e73eaa4",
   "metadata": {},
   "source": [
    "<a name=\"funcs\"></a>\n",
    "# Functions\n",
    "\n",
    "Functions are an important building block in programming,\n",
    "since they allow you to encapsulate any procedure as reusable piece of functionality. You can think of functions as reusable chunks of code that can be defined once, and used multiple times by \"calling\" them with different arguments."
   ]
  },
  {
   "cell_type": "markdown",
   "id": "029a3993-6fcf-433f-84cb-47a18ad27655",
   "metadata": {},
   "source": [
    "## Review of math functions\n",
    "\n",
    "Let's start with a quick overview the concepts of a function in mathematics,\n",
    "since the Python syntax for functions is inspired by the syntax used for math functions.\n",
    "The convention in math to call function $f$,\n",
    "denote the inputs of the function $x$,\n",
    "and its outputs $y$:\n",
    "\n",
    "$$ y = f(x) = \\text{some expression involving } x  $$\n",
    "\n",
    "We define the function $f$ by writing expression to compute for a given input $x$. For example $f(x) = 2x+3$.\n",
    "\n",
    "Once we have defined the function,\n",
    "we can evaluate the function for any possible input $x$.\n",
    "For example,\n",
    "the value of the function $f$ when $x=5$ is\n",
    "denoted $f(5)$ and is equal to $2(5) +3 = 10 + 3 = 13$.\n",
    "In other words, $f(5) = 13$."
   ]
  },
  {
   "cell_type": "markdown",
   "id": "4a597cb4-750b-4a28-940c-ef39ec3fe89b",
   "metadata": {},
   "source": [
    "## Python functions\n",
    "\n",
    "Functions in Python are similar to functions in math: \n",
    "a Python function takes certain variable as input\n",
    "and produces a certain variable as output.\n",
    "We define the function called `f` using the following syntax:\n",
    "\n",
    "```Python\n",
    "def f(x):\n",
    "    <steps to compute y from x>\n",
    "    return y\n",
    "```\n",
    "\n",
    "There are a lot of things going on in this code example,\n",
    "so let's go over the code line-by-line and explain all the new elements of syntax:\n",
    "\n",
    "- The Python keyword `def` is used to declare a function definition.\n",
    "- Next we give the name of the function `f`.\n",
    "- Next we specify the input(s) of the function (a.k.a. its *arguments*) inside parentheses.\n",
    "  In this example, the function `f` takes a single input called `x`.\n",
    "- The colon `:` indicates the beginning of a code block,\n",
    "  which contains the the function body.\n",
    "  The function body consists of one or more lines of code,\n",
    "  indented by four spaces.\n",
    "- The final line in function body is the `return` statement,\n",
    "  which indicates the output of the function."
   ]
  },
  {
   "cell_type": "code",
   "execution_count": null,
   "id": "a37c0dc6-9cc5-410c-8c65-c31e4a39e2e6",
   "metadata": {},
   "outputs": [],
   "source": []
  },
  {
   "cell_type": "markdown",
   "id": "bc6cecdd-23b2-4a2d-8aed-4efd0beddb80",
   "metadata": {},
   "source": [
    "### Example 1\n",
    "\n",
    "A first example of a simple math-like function. The function is called `f`,\n",
    "a number as input, and produces a number as output:"
   ]
  },
  {
   "cell_type": "code",
   "execution_count": 43,
   "id": "6d4e3530",
   "metadata": {},
   "outputs": [],
   "source": [
    "def f(x):\n",
    "    y = 2*x + 3\n",
    "    return y"
   ]
  },
  {
   "cell_type": "markdown",
   "id": "d79d687b-2b95-4dcb-ad7f-da90b39ab1bb",
   "metadata": {},
   "source": [
    "Note some of the above code is indented by four spaces.\n",
    "This is how we delimit what is \"inside\" the function body.\n",
    "This function's body contains two lines of code,\n",
    "but in general functions could contain dozens or even hundreds of lines of code."
   ]
  },
  {
   "cell_type": "markdown",
   "id": "2d867494-881b-48f9-8a7e-6531f272f16d",
   "metadata": {},
   "source": [
    "To call the function `f`,\n",
    "we use the function name,\n",
    "the pass in the argument(s) of the function in parentheses."
   ]
  },
  {
   "cell_type": "code",
   "execution_count": 44,
   "id": "680f7ed9",
   "metadata": {},
   "outputs": [
    {
     "data": {
      "text/plain": [
       "13"
      ]
     },
     "execution_count": 44,
     "metadata": {},
     "output_type": "execute_result"
    }
   ],
   "source": [
    "f(5)"
   ]
  },
  {
   "cell_type": "markdown",
   "id": "3305d4e6-8a15-4cab-b775-b254f42f7bb4",
   "metadata": {},
   "source": [
    "In the above example,\n",
    "we intentionally chose the function name,\n",
    "and the name of its input and output\n",
    "to highlight the connection with with the math function example we saw earlier.\n",
    "\n",
    "The In Python,\n",
    "we generally prefer to use more descriptive names (whole words)\n",
    "for function names and their inputs,\n",
    "as illustrated in the next example."
   ]
  },
  {
   "cell_type": "markdown",
   "id": "cc1b3bc1-9947-4d62-a702-da823d14e93f",
   "metadata": {},
   "source": [
    "### Example 2\n",
    "\n",
    "Let's write a function that adds 10\\% tax to a given purchase `cost`\n",
    "and returns the total of cost plus taxes."
   ]
  },
  {
   "cell_type": "code",
   "execution_count": 45,
   "id": "42d6774a",
   "metadata": {},
   "outputs": [],
   "source": [
    "def add_taxes(cost):\n",
    "    taxes = 0.10 * cost\n",
    "    total = cost + taxes\n",
    "    return total"
   ]
  },
  {
   "cell_type": "code",
   "execution_count": 46,
   "id": "ffb9ee76-533a-49c8-80cb-70719fd9b4cf",
   "metadata": {},
   "outputs": [
    {
     "data": {
      "text/plain": [
       "62.7"
      ]
     },
     "execution_count": 46,
     "metadata": {},
     "output_type": "execute_result"
    }
   ],
   "source": [
    "add_taxes(57)"
   ]
  },
  {
   "cell_type": "markdown",
   "id": "9df04daf-4d51-49f5-a5db-ce7c2aece223",
   "metadata": {},
   "source": [
    "### Example 3\n",
    "\n",
    "The math formula for computing the mean (average value) of a list of numbers $[x_1, x_2, \\ldots, x_n]$ is:\n",
    "$$\n",
    "    \\overline{x}\n",
    "    = \\left(\\sum_{i=1}^n x_i \\right) / n\n",
    "    =  \\left[ x_1 + x_2 + \\cdots + x_n \\right] / n.\n",
    "$$\n",
    "\n",
    "In words,\n",
    "the average value of a list of values is the sum of the values divided by the length of the list.\n",
    "\n",
    "\n",
    "Let's write the function `mean` that computes the mean of a list of numbers specified in the list `values`."
   ]
  },
  {
   "cell_type": "code",
   "execution_count": 47,
   "id": "a2752b71",
   "metadata": {},
   "outputs": [],
   "source": [
    "def mean(values):\n",
    "    avg = sum(values) / len(values)\n",
    "    return avg"
   ]
  },
  {
   "cell_type": "code",
   "execution_count": 48,
   "id": "acf11e48-89c4-4f76-bb24-668309c6bdbf",
   "metadata": {},
   "outputs": [
    {
     "data": {
      "text/plain": [
       "100.5"
      ]
     },
     "execution_count": 48,
     "metadata": {},
     "output_type": "execute_result"
    }
   ],
   "source": [
    "mean([100,101])"
   ]
  },
  {
   "cell_type": "code",
   "execution_count": 49,
   "id": "e4da20dc-5c18-48a0-a487-194716256c20",
   "metadata": {},
   "outputs": [
    {
     "data": {
      "text/plain": [
       "3.0"
      ]
     },
     "execution_count": 49,
     "metadata": {},
     "output_type": "execute_result"
    }
   ],
   "source": [
    "mean([1,2,3,4,5])"
   ]
  },
  {
   "cell_type": "markdown",
   "id": "6b6b939c-7e65-4e3c-a9c0-7255e5b13592",
   "metadata": {},
   "source": [
    "### Exercise 11\n",
    "\n",
    "Write a Python function called `temp_C_to_F` that converts\n",
    "temperature from Celsius `C` to a temperature in Fahrenheit `F`.\n",
    "Recall the formula for converting a temperature from Celsius to temperature in Fahrenheit\n",
    "is $F = \\tfrac{9}{5} \\cdot C  + 32$.\n",
    "\n",
    "Hint: You can reuse your code from **Exercise 4**."
   ]
  },
  {
   "cell_type": "code",
   "execution_count": 50,
   "id": "cbdb8946-991b-4851-b9fd-043ebf245d92",
   "metadata": {},
   "outputs": [],
   "source": [
    "def temp_C_to_F(C):\n",
    "    ...  # replace ... with your code"
   ]
  },
  {
   "cell_type": "code",
   "execution_count": 51,
   "id": "78964c7e",
   "metadata": {},
   "outputs": [
    {
     "data": {
      "text/plain": [
       "68.0"
      ]
     },
     "execution_count": 51,
     "metadata": {},
     "output_type": "execute_result"
    }
   ],
   "source": [
    "#@titlesolution Exercise 11 temp-C-to-F-function\n",
    "def temp_C_to_F(C):\n",
    "    F = (9/5 * C) + 32\n",
    "    return F\n",
    "\n",
    "temp_C_to_F(20)"
   ]
  },
  {
   "cell_type": "markdown",
   "id": "eb7b0ce3-f857-49b0-b59f-1935fc2e7517",
   "metadata": {},
   "source": [
    "**TODO**: mention functions like adding new buttons on the calculator.\n",
    "\n",
    "**TODO**: mention keyword arguments + default values?"
   ]
  },
  {
   "cell_type": "markdown",
   "id": "e0752b0b-2d68-4a03-8a9f-539f566a1e17",
   "metadata": {},
   "source": [
    "# Lists and for loops\n",
    "\n",
    "One of the main advantages of using programming language instead of a calculator\n",
    "is the ability to work with data structures and not just individual values.\n",
    "For example, a Python `list`, as a generic container that can contain any number of values. The `for`-loop is a programming concept that allows us to repeat some operation or calculation multiple times. The most common use case of a for-loop is to perform some calculation for each element in a list."
   ]
  },
  {
   "cell_type": "markdown",
   "id": "499f5589-9568-43a3-ba6c-ed43b3df568e",
   "metadata": {},
   "source": [
    "## Lists\n",
    "\n",
    "To create a list:\n",
    "- start with an opening square bracket `[` ,\n",
    "- then put the elements of the list separated by commas `,`\n",
    "- finally close the square bracket `]`\n",
    "\n",
    "For example, here is the code to define the list `scores` which contains four integers."
   ]
  },
  {
   "cell_type": "code",
   "execution_count": 52,
   "id": "f76410af",
   "metadata": {},
   "outputs": [
    {
     "data": {
      "text/plain": [
       "[61, 79, 98, 72]"
      ]
     },
     "execution_count": 52,
     "metadata": {},
     "output_type": "execute_result"
    }
   ],
   "source": [
    "scores = [61, 79, 98, 72]\n",
    "scores"
   ]
  },
  {
   "cell_type": "markdown",
   "id": "cba309bc-7968-4f12-a0e1-83a1cfe57a72",
   "metadata": {},
   "source": [
    "A list container has a length,\n",
    "which you can obtain by calling the `len` function."
   ]
  },
  {
   "cell_type": "code",
   "execution_count": 53,
   "id": "3847db1a",
   "metadata": {},
   "outputs": [
    {
     "data": {
      "text/plain": [
       "4"
      ]
     },
     "execution_count": 53,
     "metadata": {},
     "output_type": "execute_result"
    }
   ],
   "source": [
    "len(scores)"
   ]
  },
  {
   "cell_type": "markdown",
   "id": "a17d4c4c-67ac-43dc-8772-7a9a7b9cc48b",
   "metadata": {},
   "source": [
    "You check if a list contains a certain element using the `in` operator:"
   ]
  },
  {
   "cell_type": "code",
   "execution_count": 54,
   "id": "c10641d1-0b67-4848-81a2-03a3f7fafb39",
   "metadata": {},
   "outputs": [
    {
     "data": {
      "text/plain": [
       "True"
      ]
     },
     "execution_count": 54,
     "metadata": {},
     "output_type": "execute_result"
    }
   ],
   "source": [
    "98 in scores"
   ]
  },
  {
   "cell_type": "markdown",
   "id": "e7cd103d-861c-4be0-acc4-db1bf6d890f1",
   "metadata": {},
   "source": [
    "### List access syntax\n",
    "\n",
    "Elements of a the list are accessed using the square brackets `[<index>]`,\n",
    "where `<index>` is the the `0`-based index of the element we want to access:\n",
    "- The first element has index `0`.\n",
    "- The second element has index `1`.\n",
    "- The last element has index equal to the length of the list minus one."
   ]
  },
  {
   "cell_type": "code",
   "execution_count": 55,
   "id": "ae78304a",
   "metadata": {},
   "outputs": [
    {
     "data": {
      "text/plain": [
       "61"
      ]
     },
     "execution_count": 55,
     "metadata": {},
     "output_type": "execute_result"
    }
   ],
   "source": [
    "# first element in the list scores\n",
    "scores[0]"
   ]
  },
  {
   "cell_type": "code",
   "execution_count": 56,
   "id": "a89f88b9-88ce-4836-a78a-a4fda0c8762a",
   "metadata": {},
   "outputs": [
    {
     "data": {
      "text/plain": [
       "79"
      ]
     },
     "execution_count": 56,
     "metadata": {},
     "output_type": "execute_result"
    }
   ],
   "source": [
    "# second element in the list scores\n",
    "scores[1]"
   ]
  },
  {
   "cell_type": "code",
   "execution_count": 57,
   "id": "518f8065-6447-4398-bc39-d65cd5b3536c",
   "metadata": {},
   "outputs": [
    {
     "data": {
      "text/plain": [
       "72"
      ]
     },
     "execution_count": 57,
     "metadata": {},
     "output_type": "execute_result"
    }
   ],
   "source": [
    "# last element in the list scores\n",
    "scores[3]"
   ]
  },
  {
   "cell_type": "markdown",
   "id": "05f639fa-6ee9-46a4-8c20-dd4669867c85",
   "metadata": {},
   "source": [
    "Another way to access the last element in the list is to use the negative index `-1`:"
   ]
  },
  {
   "cell_type": "code",
   "execution_count": 58,
   "id": "6722a21a-f1bb-407f-a978-b8dba5ab838e",
   "metadata": {},
   "outputs": [
    {
     "data": {
      "text/plain": [
       "72"
      ]
     },
     "execution_count": 58,
     "metadata": {},
     "output_type": "execute_result"
    }
   ],
   "source": [
    "scores[-1]"
   ]
  },
  {
   "cell_type": "markdown",
   "id": "06b13868-3217-43a2-b3d2-dd0d49a87f15",
   "metadata": {},
   "source": [
    "Note the square brackets syntax is used for two completely different purposes:\n",
    "to define list objects,\n",
    "and to access their elements."
   ]
  },
  {
   "cell_type": "markdown",
   "id": "1404bff9-7888-43b5-8951-6eedacbf2324",
   "metadata": {},
   "source": [
    "### List slicing\n",
    "\n",
    "We can access a subset of the list using the \"slice\" syntax `a:b`,\n",
    "which corresponds to the range of indices `a`, `a+1`, ..., `b-1`.\n",
    "For example,\n",
    "if we want to extract the first three elements in the list `scores`,\n",
    "we can use the slice `0:3`,\n",
    "which is equivalent to requesting the range of indices `0`, `1`, and `2`."
   ]
  },
  {
   "cell_type": "code",
   "execution_count": 59,
   "id": "a6110de9",
   "metadata": {},
   "outputs": [
    {
     "data": {
      "text/plain": [
       "[61, 79, 98]"
      ]
     },
     "execution_count": 59,
     "metadata": {},
     "output_type": "execute_result"
    }
   ],
   "source": [
    "scores[0:3]"
   ]
  },
  {
   "cell_type": "markdown",
   "id": "1d0df200-edcc-4cea-b6ba-10991d2ae66e",
   "metadata": {},
   "source": [
    "Note the result of selecting a slice from a list is another list\n",
    "(a list that contains the subset of the original list that consists of elements whose index is included in the slice)."
   ]
  },
  {
   "cell_type": "markdown",
   "id": "294a683c-2862-454b-82cf-42f29c5a8b72",
   "metadata": {},
   "source": [
    "### List methods\n",
    "\n",
    "List objects can be modified using a their methods.\n",
    "Every list has the following useful methods:\n",
    "- `.sort()`: sort the list (in increasing order by default)\n",
    "- `.append()`: add one element to end of a list\n",
    "- `.pop()`: extract the last element from a list\n",
    "- `.reverse()`: reverse the order of elements in the list\n",
    "\n",
    "Let's look at some examples of these methods in action."
   ]
  },
  {
   "cell_type": "markdown",
   "id": "db527e4f-06e9-4b05-8310-35ae0b91a283",
   "metadata": {},
   "source": [
    "To sort the list of `scores`,\n",
    "you can call its `.sort()` method:"
   ]
  },
  {
   "cell_type": "code",
   "execution_count": 60,
   "id": "feb2d894",
   "metadata": {},
   "outputs": [
    {
     "data": {
      "text/plain": [
       "[61, 72, 79, 98]"
      ]
     },
     "execution_count": 60,
     "metadata": {},
     "output_type": "execute_result"
    }
   ],
   "source": [
    "scores.sort()\n",
    "scores"
   ]
  },
  {
   "cell_type": "markdown",
   "id": "cd303650-47fb-43ed-b9b5-36651faa7085",
   "metadata": {},
   "source": [
    "To add a new element `el` to the list (at the end),\n",
    "use the method `.append(el)`:"
   ]
  },
  {
   "cell_type": "code",
   "execution_count": 61,
   "id": "780efcce",
   "metadata": {},
   "outputs": [
    {
     "data": {
      "text/plain": [
       "[61, 72, 79, 98, 22]"
      ]
     },
     "execution_count": 61,
     "metadata": {},
     "output_type": "execute_result"
    }
   ],
   "source": [
    "scores.append(22)\n",
    "scores"
   ]
  },
  {
   "cell_type": "markdown",
   "id": "05e8a069-501b-4c2f-84fb-4a702b3b9c3f",
   "metadata": {},
   "source": [
    "The method `.pop()` extracts the last element of the list:"
   ]
  },
  {
   "cell_type": "code",
   "execution_count": 62,
   "id": "15a74b2b",
   "metadata": {},
   "outputs": [
    {
     "data": {
      "text/plain": [
       "22"
      ]
     },
     "execution_count": 62,
     "metadata": {},
     "output_type": "execute_result"
    }
   ],
   "source": [
    "scores.pop()"
   ]
  },
  {
   "cell_type": "markdown",
   "id": "6eef945c-3739-4389-b743-45705e4dee4b",
   "metadata": {},
   "source": [
    "You can think of `.pop()` as the \"undo method\" of the append operation."
   ]
  },
  {
   "cell_type": "markdown",
   "id": "c569a01e-5fcc-4dc0-8f1f-c9fdf0f22677",
   "metadata": {},
   "source": [
    "To reverse the order of elements in the list,\n",
    "call its `.reverse()` method:"
   ]
  },
  {
   "cell_type": "code",
   "execution_count": 63,
   "id": "407ec209",
   "metadata": {},
   "outputs": [
    {
     "data": {
      "text/plain": [
       "[98, 79, 72, 61]"
      ]
     },
     "execution_count": 63,
     "metadata": {},
     "output_type": "execute_result"
    }
   ],
   "source": [
    "scores.reverse()\n",
    "scores"
   ]
  },
  {
   "cell_type": "markdown",
   "id": "515fb839-ef94-45a3-b3f5-359f5cce4a24",
   "metadata": {},
   "source": [
    "Other useful list methods: `.insert(index,obj)`, `.remove(obj)`,\n",
    "and about a dozens more that might be useful once in a while.\n",
    "\n",
    "Recall you can see a complete list of all the methods on list objects by typing `scores.` then pressing the TAB button to trigger the auto-complete suggestions.\n",
    "Uncomment the following code block,\n",
    "place your cursor after the dot,\n",
    "and try pressing TAB to see what happens."
   ]
  },
  {
   "cell_type": "code",
   "execution_count": 64,
   "id": "3a2e521a",
   "metadata": {},
   "outputs": [],
   "source": [
    "# scores."
   ]
  },
  {
   "cell_type": "markdown",
   "id": "304cffa3-cfad-415b-8639-47f85d51bade",
   "metadata": {},
   "source": [
    "**Exercise 12**: The default behaviour of the method `.sort()` is to \n",
    "sort the elements in *increasing* order.\n",
    "Suppose you want sort the elements in *decreasing* order instead.\n",
    "You can pass a keyword argument to the method `.sort()`\n",
    "to request the sorting be done in \"revese\" order (decreasing instead of increasing).\n",
    "Consult the docstring of the `.sort()` method to find the name of the keyword argument\n",
    "that does this,\n",
    "then modify the code below to sort the elements of the list `scores` in decreasing order."
   ]
  },
  {
   "cell_type": "code",
   "execution_count": 65,
   "id": "408fa179-c9e9-4119-8c68-1b373436e7f6",
   "metadata": {},
   "outputs": [
    {
     "data": {
      "text/plain": [
       "[61, 72, 79, 98]"
      ]
     },
     "execution_count": 65,
     "metadata": {},
     "output_type": "execute_result"
    }
   ],
   "source": [
    "scores.sort()\n",
    "scores"
   ]
  },
  {
   "cell_type": "code",
   "execution_count": 66,
   "id": "7dacec28-0f47-43b7-b105-80b486fe8d05",
   "metadata": {},
   "outputs": [
    {
     "data": {
      "text/plain": [
       "[98, 79, 72, 61]"
      ]
     },
     "execution_count": 66,
     "metadata": {},
     "output_type": "execute_result"
    }
   ],
   "source": [
    "#@titlesolution Exercise 12 sorted-reverse\n",
    "# help(scores.sort)\n",
    "scores.sort(reverse=True)\n",
    "scores"
   ]
  },
  {
   "cell_type": "markdown",
   "id": "05039096-0088-4a74-8c44-3f6686441c35",
   "metadata": {},
   "source": [
    "### List-related builtin functions"
   ]
  },
  {
   "cell_type": "markdown",
   "id": "19eb9950-33f7-4187-b4f2-7918aa3cf1cb",
   "metadata": {},
   "source": [
    "Here are some of the Python built-in functions that work on lists:"
   ]
  },
  {
   "cell_type": "code",
   "execution_count": 67,
   "id": "562fa828-7888-4aad-93e2-c919ff86d022",
   "metadata": {},
   "outputs": [],
   "source": [
    "# generic:\n",
    "# print(scores)    # print the list `scores`\n",
    "# len(scores)      # the length of the list `scores`"
   ]
  },
  {
   "cell_type": "code",
   "execution_count": 68,
   "id": "d1731890-e68b-44ee-ace3-3ba0ab82cad7",
   "metadata": {},
   "outputs": [],
   "source": [
    "# numeric:\n",
    "# sorted(scores)   # return a copy of the list in sorted order\n",
    "# sum(scores)      # add together all the values in a list of numbers\n",
    "# max(scores)      # find the largest value in a list of numbers\n",
    "# min(scores)      # find the smallest value in a list of numbers"
   ]
  },
  {
   "cell_type": "markdown",
   "id": "729699e7",
   "metadata": {},
   "source": [
    "## For loops\n",
    "\n",
    "The `for`-loop is a programming concept that allows us to repeat some operation or calculation multiple times. The most common use case of a for-loop is to perform some calculation for each element in a list. \n",
    "\n",
    "\n",
    "The syntax of a Python `for`-loop looks like like this:\n",
    "\n",
    "```Python\n",
    "for <element> in <container>:\n",
    "    operation 1 using <element>\n",
    "    operation 2 using <element>\n",
    "    operation 3 using <element>\n",
    "\n",
    "```\n",
    "\n",
    "This above code repeats operation 1, 2, and 3 **for each** element `<element>` in the list `<container>`.\n",
    "\n",
    "Note the operations we want to repeat are indented by four spaces,\n",
    "which indicates they are part of the body of the for loop."
   ]
  },
  {
   "cell_type": "markdown",
   "id": "a657df75-ca7c-434a-abcb-3ceeb251d657",
   "metadata": {},
   "source": [
    "### Example 1: print all the scores"
   ]
  },
  {
   "cell_type": "code",
   "execution_count": 69,
   "id": "56002dd2",
   "metadata": {},
   "outputs": [
    {
     "name": "stdout",
     "output_type": "stream",
     "text": [
      "61\n",
      "79\n",
      "98\n",
      "72\n"
     ]
    }
   ],
   "source": [
    "scores = [61, 79, 98, 72]\n",
    "\n",
    "for score in scores:\n",
    "    print(score)"
   ]
  },
  {
   "cell_type": "markdown",
   "id": "856e9b19-5e3d-4f96-999c-d85ce82216e0",
   "metadata": {},
   "source": [
    "### Example 2: compute the average score\n",
    "\n",
    "Recall the formula for computing the mean (average) of a list of values $[x_0,x_1,x_2,\\ldots,x_{n-1}]$ is:\n",
    "\n",
    "$$\n",
    "    \\overline{x}\n",
    "      = \\text{mean}(\\mathbf{x})\n",
    "      = \\tfrac{1}{n} \\left[ x_0 + x_1 + x_2 + \\cdots + x_{n-1} \\right]\n",
    "$$\n",
    "\n",
    "We previously defined the function `mean` that computed the average using `sum` and `len` functions: `avg = sum(grades)/len(grades)`, but suppose we don't have access to the function `sum` for some reason, and so we must compute the `sum` using a for-loop.\n",
    "\n",
    "We'll use temporary variable `total` to store the partial sums of of the values in the list `scores`."
   ]
  },
  {
   "cell_type": "code",
   "execution_count": 70,
   "id": "dfcd2e70",
   "metadata": {},
   "outputs": [
    {
     "data": {
      "text/plain": [
       "77.5"
      ]
     },
     "execution_count": 70,
     "metadata": {},
     "output_type": "execute_result"
    }
   ],
   "source": [
    "total = 0\n",
    "for score in scores:\n",
    "    total = total + score\n",
    "\n",
    "avg = total / len(scores)\n",
    "avg"
   ]
  },
  {
   "cell_type": "markdown",
   "id": "8a39ef9b-ba40-401d-a42c-8f30581431c8",
   "metadata": {},
   "source": [
    "The first line defines the variable named `total` (initially containing 0),\n",
    "which we use to store the intermediate values of the sum at different steps.\n",
    "Next, the `for`-loop tells Python to go through the list `scores` and for each `score` in the list, perform the oprarion `total = total + score`.\n",
    "Note this statement is indented relative to the other code to indicate it is \"inside\" the for loop,\n",
    "which means it will be repeated for each element in the list.\n",
    "\n",
    "When the for loop is finished,\n",
    "we have added all the `scores` to the `total`,\n",
    "and we divide the total by the length of the list to obtain the average,\n",
    "which we then display on the last line."
   ]
  },
  {
   "cell_type": "markdown",
   "id": "dfb40478",
   "metadata": {},
   "source": [
    "#### Side note on list variable names\n",
    "The name of the variable used for the for loop is totally up to you, but in general you should choose logical names for elements of the list. Below is an example of a for loop that uses the single-letter variable `s` as the loop variable:"
   ]
  },
  {
   "cell_type": "code",
   "execution_count": 71,
   "id": "6961867c",
   "metadata": {},
   "outputs": [
    {
     "name": "stdout",
     "output_type": "stream",
     "text": [
      "61\n",
      "79\n",
      "98\n",
      "72\n"
     ]
    }
   ],
   "source": [
    "for s in scores:\n",
    "    print(s)"
   ]
  },
  {
   "cell_type": "markdown",
   "id": "096548fe-05ed-4e7d-b01c-9cdbff0c5299",
   "metadata": {},
   "source": [
    "By conventions,\n",
    "we usually call lists of `obj`-items `objs`,\n",
    "and use the name `obj` for the for-loop variable.\n",
    "Here are some examples:\n",
    " - given a list of profiles `profiles`,\n",
    "   use a the for-loop `for profile in profiles: ...`\n",
    " - given a list of graph nodes `nodes`,\n",
    "   use a the for-loop like `for node in nodes: ...`\n",
    " - etc.\n",
    "\n",
    "Anyone who is reading this Python code examples will\n",
    "immediately know that Python objects `profiles` and `nodes` are list-like,\n",
    "since they end in \"s\" and are used in `for` loops."
   ]
  },
  {
   "cell_type": "markdown",
   "id": "0e043a84-8a9e-4bba-91f7-b1aebb63ec5f",
   "metadata": {},
   "source": [
    "### List comprehension (bonus topic)\n",
    "\n",
    "Very often when programming,\n",
    "we need to transform a list of values,\n",
    "by applying the same operation to each value in a list of inputs,\n",
    "collecting the results in a new list of outputs.\n",
    "\n",
    "Using the standard `for`-loop syntax,\n",
    "this operation requires four lines of code:\n",
    "\n",
    "```Python\n",
    "newvalues = []\n",
    "for value in values:\n",
    "    newvalue = <some operation on `value`>\n",
    "    newvalues.append(newvalue)\n",
    "```\n",
    "\n",
    "This code start by creating an empty list called `newvalues`,\n",
    "the uses a `for`-loop to apply `<some operation>` to each \n",
    "element in the list `values`, accumulating the results in the `newvalues`.\n",
    "\n",
    "Python provides a shorthand syntax for writing operation as\n",
    "\n",
    "```Python\n",
    "newvalues = [<some operation on `value`> for value in values]\n",
    "```\n",
    "\n",
    "This is called the \"list comprehension\" syntax,\n",
    "and is used often in Python code.\n",
    "Note the code using list comprehension takes one line to express the entire transformation\n",
    "from `values` to `newvalues`."
   ]
  },
  {
   "cell_type": "markdown",
   "id": "2fb98cce-b86c-403b-b012-0cd4e8b1fa86",
   "metadata": {},
   "source": [
    "#### Example: compute the squares of the first five integers\n"
   ]
  },
  {
   "cell_type": "code",
   "execution_count": 72,
   "id": "0366153c-0d85-464b-b258-f23bbaa2f379",
   "metadata": {},
   "outputs": [
    {
     "data": {
      "text/plain": [
       "[1, 4, 9, 16, 25]"
      ]
     },
     "execution_count": 72,
     "metadata": {},
     "output_type": "execute_result"
    }
   ],
   "source": [
    "numbers = [1, 2, 3, 4, 5]\n",
    "squares = [n**2 for n in numbers]\n",
    "squares"
   ]
  },
  {
   "cell_type": "markdown",
   "id": "0156f40d-161e-4033-93ee-e6939d53490d",
   "metadata": {},
   "source": [
    "# Other data structures\n",
    "\n",
    "We already discussed `list`s, which is the most important data structure (container for data) in Python.\n",
    "\n",
    "In this section we'll briefly introduce some other data structures you might encounter."
   ]
  },
  {
   "cell_type": "markdown",
   "id": "657f7ee0-2441-4e27-8f68-f158be75b648",
   "metadata": {},
   "source": [
    "## Strings\n",
    "\n",
    "In Python string object, type `str`,\n",
    "are a generic container for storing text.\n",
    "We create a string by enclosing some piece of text\n",
    "in single quotes `'` or double quotes `\"`."
   ]
  },
  {
   "cell_type": "code",
   "execution_count": 73,
   "id": "4938f4b0-0cd4-48fe-91ba-f2de8f88abe1",
   "metadata": {},
   "outputs": [
    {
     "data": {
      "text/plain": [
       "str"
      ]
     },
     "execution_count": 73,
     "metadata": {},
     "output_type": "execute_result"
    }
   ],
   "source": [
    "message = \"Hello everyone\"\n",
    "type(message)"
   ]
  },
  {
   "cell_type": "markdown",
   "id": "20f41526-ee09-4621-bcb9-454406812a8e",
   "metadata": {},
   "source": [
    "### String expressions\n",
    "\n",
    "Let's look at some expressions that involve strings."
   ]
  },
  {
   "cell_type": "markdown",
   "id": "26f7e714-af97-45f4-a74b-13d72ed40a85",
   "metadata": {},
   "source": [
    "For strings, the `+` operation means concatenate (combine)."
   ]
  },
  {
   "cell_type": "code",
   "execution_count": 74,
   "id": "cacec474-dbdf-4dd2-9ae9-c2f73266ffc6",
   "metadata": {},
   "outputs": [
    {
     "data": {
      "text/plain": [
       "'Hello julie'"
      ]
     },
     "execution_count": 74,
     "metadata": {},
     "output_type": "execute_result"
    }
   ],
   "source": [
    "name = \"julie\"\n",
    "message = \"Hello \" + name\n",
    "message"
   ]
  },
  {
   "cell_type": "code",
   "execution_count": 75,
   "id": "4ac8448a-7481-4ecf-96fe-48777dc3aa38",
   "metadata": {},
   "outputs": [
    {
     "data": {
      "text/plain": [
       "'Hi Julie Tremblay!'"
      ]
     },
     "execution_count": 75,
     "metadata": {},
     "output_type": "execute_result"
    }
   ],
   "source": [
    "first_name = \"Julie\"\n",
    "last_name = \"Tremblay\"\n",
    "full_name = first_name + \" \" + last_name\n",
    "message = \"Hi \" + full_name + \"!\"\n",
    "message"
   ]
  },
  {
   "cell_type": "markdown",
   "id": "9b3d5460-769f-48ef-aa16-5530e471522f",
   "metadata": {
    "tags": []
   },
   "source": [
    "### Strings are lists of characters\n",
    "\n",
    "You can think of the string `\"abc\"` a being equivalent to a list of three characters `[\"a\", \"b\", \"c\"]`,\n",
    "and use the usual list syntax to access the individual characters in the list.\n",
    "\n",
    "To illustrate this list-like behaviour of strings,\n",
    "let's define a string of length 26 that contains all the lowercase Latin letters."
   ]
  },
  {
   "cell_type": "code",
   "execution_count": 76,
   "id": "b4a766d5-8f1b-4973-a6c1-8fdfc28140cc",
   "metadata": {},
   "outputs": [
    {
     "data": {
      "text/plain": [
       "'abcdefghijklmnopqrstuvwxyz'"
      ]
     },
     "execution_count": 76,
     "metadata": {},
     "output_type": "execute_result"
    }
   ],
   "source": [
    "letters = \"abcdefghijklmnopqrstuvwxyz\"\n",
    "letters"
   ]
  },
  {
   "cell_type": "code",
   "execution_count": 77,
   "id": "22b75d6b-5459-4548-81d5-50bd9f1b7dbe",
   "metadata": {},
   "outputs": [
    {
     "data": {
      "text/plain": [
       "26"
      ]
     },
     "execution_count": 77,
     "metadata": {},
     "output_type": "execute_result"
    }
   ],
   "source": [
    "len(letters)"
   ]
  },
  {
   "cell_type": "markdown",
   "id": "2a91f138-6236-48e3-9c8d-13f1c2f47c98",
   "metadata": {},
   "source": [
    "We can access the individual characters within the using the square brackets.\n",
    "For example, the index of the letter `\"a\"` in the string `letters` is `0`:"
   ]
  },
  {
   "cell_type": "code",
   "execution_count": 78,
   "id": "6fbe60a9-7cb4-445b-8e60-51f24aaf30d3",
   "metadata": {},
   "outputs": [
    {
     "data": {
      "text/plain": [
       "'a'"
      ]
     },
     "execution_count": 78,
     "metadata": {},
     "output_type": "execute_result"
    }
   ],
   "source": [
    "letters[0]"
   ]
  },
  {
   "cell_type": "markdown",
   "id": "9b68ff0d-5e01-4cf4-8614-828208f6b91e",
   "metadata": {},
   "source": [
    "The index of the letter `\"b\"` in the string `letters` is `1`:"
   ]
  },
  {
   "cell_type": "code",
   "execution_count": 79,
   "id": "b85fb88e-75a9-4e15-8d38-d0d035f8de4c",
   "metadata": {},
   "outputs": [
    {
     "data": {
      "text/plain": [
       "'b'"
      ]
     },
     "execution_count": 79,
     "metadata": {},
     "output_type": "execute_result"
    }
   ],
   "source": [
    "letters[1]"
   ]
  },
  {
   "cell_type": "markdown",
   "id": "35f7b0f7-8095-4c36-875b-a2f781b5b3fe",
   "metadata": {},
   "source": [
    "The last element in list of 26 letters has index `25`"
   ]
  },
  {
   "cell_type": "code",
   "execution_count": 80,
   "id": "e91868f7-65b6-4914-85fb-37f593b469b9",
   "metadata": {},
   "outputs": [
    {
     "data": {
      "text/plain": [
       "'z'"
      ]
     },
     "execution_count": 80,
     "metadata": {},
     "output_type": "execute_result"
    }
   ],
   "source": [
    "letters[25]"
   ]
  },
  {
   "cell_type": "markdown",
   "id": "e7921a3f-dd3a-4784-ba41-84f13e6ca471",
   "metadata": {},
   "source": [
    "Alternatively,\n",
    "we can access the last letter using the negative index `-1`:"
   ]
  },
  {
   "cell_type": "code",
   "execution_count": 81,
   "id": "14a8ffb8-f13d-4a86-b157-e2a4ef608b2b",
   "metadata": {},
   "outputs": [
    {
     "data": {
      "text/plain": [
       "'z'"
      ]
     },
     "execution_count": 81,
     "metadata": {},
     "output_type": "execute_result"
    }
   ],
   "source": [
    "letters[-1]"
   ]
  },
  {
   "cell_type": "markdown",
   "id": "ad2b5cfb-6b53-4286-b8ba-2f9d3d5e6026",
   "metadata": {},
   "source": [
    "We can use slicing to get any substring that spans a particular range of indices.\n",
    "For example,\n",
    "the first four letters of the alphabet are are:"
   ]
  },
  {
   "cell_type": "code",
   "execution_count": 82,
   "id": "1f73b115-bbca-43a0-a9bc-ce7913d28624",
   "metadata": {},
   "outputs": [
    {
     "data": {
      "text/plain": [
       "'abcd'"
      ]
     },
     "execution_count": 82,
     "metadata": {},
     "output_type": "execute_result"
    }
   ],
   "source": [
    "letters[0:4]"
   ]
  },
  {
   "cell_type": "markdown",
   "id": "eb1ac6a2-6922-4a6c-89ae-b3952caa668c",
   "metadata": {},
   "source": [
    "The syntax `0:4` is a shorthand for the expression `slice(0,4)`,\n",
    "which corresponds to the range of indices from `0` (inclusive) to `4` (non-inclusinve): `[0,1,2,3]`."
   ]
  },
  {
   "cell_type": "markdown",
   "id": "c9705024-a760-483d-830a-a9ab8cbdbbca",
   "metadata": {
    "tags": []
   },
   "source": [
    "## Boolean variables and conditional statements\n",
    "\n",
    "Boolean variables can have one of two possible values, either `True` or `False`.\n",
    "We obtain boolean values when we perform numerical comparisons."
   ]
  },
  {
   "cell_type": "code",
   "execution_count": 83,
   "id": "ddae232f-1bee-4264-b2bd-cc845ab06c1a",
   "metadata": {},
   "outputs": [
    {
     "data": {
      "text/plain": [
       "True"
      ]
     },
     "execution_count": 83,
     "metadata": {},
     "output_type": "execute_result"
    }
   ],
   "source": [
    "x = 3\n",
    "x > 2  # Is x greater than 2?"
   ]
  },
  {
   "cell_type": "markdown",
   "id": "a5825884-7a89-44e6-867f-177515bbcb6b",
   "metadata": {},
   "source": [
    "Other arithmetic comparisons include `<`, `>=`, `<=`, `==` (equal to), `!=` (not equal to)."
   ]
  },
  {
   "cell_type": "markdown",
   "id": "acd8cd7a-741b-4bf8-9f15-c279ce993be1",
   "metadata": {},
   "source": [
    "The `in` operator can be used to check if an object is part of a list (or another kind of collection)."
   ]
  },
  {
   "cell_type": "code",
   "execution_count": 84,
   "id": "ee093a89-c0e8-4697-b851-730266148e36",
   "metadata": {},
   "outputs": [
    {
     "data": {
      "text/plain": [
       "True"
      ]
     },
     "execution_count": 84,
     "metadata": {},
     "output_type": "execute_result"
    }
   ],
   "source": [
    "x = 3\n",
    "x in [1,2,3,4]  # Is x in the list [1,2,3,4] ?"
   ]
  },
  {
   "cell_type": "markdown",
   "id": "490ff213-feb5-482a-8e35-52ae9c4888a3",
   "metadata": {},
   "source": [
    "Boolean expressions are used in conditional statements,\n",
    "which are blocks of Python code that may or may not be executed depending on the value of a boolean expression."
   ]
  },
  {
   "cell_type": "markdown",
   "id": "06be47b0-ee8b-4aa1-919a-9b15fe94e105",
   "metadata": {},
   "source": [
    "### Conditional statements\n",
    "\n",
    "The Python keywords `if`, `elif`, and `else` \n",
    "to perform conditional code execution."
   ]
  },
  {
   "cell_type": "code",
   "execution_count": 85,
   "id": "aff62239-c311-4639-bcbb-3a67d617318a",
   "metadata": {},
   "outputs": [
    {
     "name": "stdout",
     "output_type": "stream",
     "text": [
      "This code will run\n"
     ]
    }
   ],
   "source": [
    "if True:\n",
    "    print(\"This code will run\")\n",
    "\n",
    "if False:\n",
    "    print(\"This code will not run\")"
   ]
  },
  {
   "cell_type": "code",
   "execution_count": 86,
   "id": "bb67abe5-01e6-413b-9f24-863e7270cca3",
   "metadata": {},
   "outputs": [
    {
     "name": "stdout",
     "output_type": "stream",
     "text": [
      "x is greater than 2\n"
     ]
    }
   ],
   "source": [
    "x = 3\n",
    "if x > 2:\n",
    "    print(\"x is greater than 2\")\n",
    "else:\n",
    "    print(\"x is less than or equal to 2\")"
   ]
  },
  {
   "cell_type": "markdown",
   "id": "3de861e8-0d22-4773-9631-c7b5d3bdb208",
   "metadata": {},
   "source": [
    "We can do multiple checks using `elif` statements."
   ]
  },
  {
   "cell_type": "code",
   "execution_count": 87,
   "id": "b0cb5ac6-acdc-4af4-b953-c2c5f072d53f",
   "metadata": {},
   "outputs": [
    {
     "name": "stdout",
     "output_type": "stream",
     "text": [
      "It's hot.\n"
     ]
    }
   ],
   "source": [
    "temp = 25\n",
    "\n",
    "if temp > 22:\n",
    "    print(\"It's hot.\")\n",
    "elif temp < 10:\n",
    "    print(\"It's cold.\")\n",
    "else:\n",
    "    print(\"It's OK.\")"
   ]
  },
  {
   "cell_type": "markdown",
   "id": "6fb43060-193e-4390-8109-25605f38d677",
   "metadata": {},
   "source": [
    "**Exercise 13**: add another condition to the above code to print `It's very hot!` if the temperature is above 30."
   ]
  },
  {
   "cell_type": "code",
   "execution_count": 88,
   "id": "4149fb35-ddbb-44f3-9565-85d1c2aafe93",
   "metadata": {},
   "outputs": [
    {
     "name": "stdout",
     "output_type": "stream",
     "text": [
      "It's hot.\n"
     ]
    }
   ],
   "source": [
    "temp = 33\n",
    "\n",
    "# edit the code below to insert the new condition\n",
    "if temp > 22:\n",
    "    print(\"It's hot.\")\n",
    "elif temp < 10:\n",
    "    print(\"It's cold.\")\n",
    "else:\n",
    "    print(\"It's OK.\")"
   ]
  },
  {
   "cell_type": "code",
   "execution_count": 89,
   "id": "40af59c2-e90e-4bd9-953d-3fbeee946dd5",
   "metadata": {},
   "outputs": [
    {
     "name": "stdout",
     "output_type": "stream",
     "text": [
      "It's very hot!\n"
     ]
    }
   ],
   "source": [
    "#@titlesolution Exercise 13 temp-is-very-hot\n",
    "temp = 33\n",
    "\n",
    "if temp > 30:\n",
    "    print(\"It's very hot!\")\n",
    "elif temp > 22:\n",
    "    print(\"It's hot.\")\n",
    "elif temp < 10:\n",
    "    print(\"It's cold.\")\n",
    "else:\n",
    "    print(\"It's OK.\")"
   ]
  },
  {
   "cell_type": "markdown",
   "id": "aea84d47-bfeb-4cbc-a991-0cd1de91e4ae",
   "metadata": {},
   "source": [
    "### Boolean expressions\n",
    "\n",
    "You can use `bool` variables and the logical operations `and`, `or`, `not`, etc. to build more complicated boolean expressions (logical conjunctions, disjunctions, and negations)."
   ]
  },
  {
   "cell_type": "code",
   "execution_count": 90,
   "id": "a3fd0d1a-b256-495a-b747-b895a42e91fc",
   "metadata": {},
   "outputs": [
    {
     "data": {
      "text/plain": [
       "(True, False, False, False)"
      ]
     },
     "execution_count": 90,
     "metadata": {},
     "output_type": "execute_result"
    }
   ],
   "source": [
    "True and True, True and False, False and True, False and False"
   ]
  },
  {
   "cell_type": "code",
   "execution_count": 91,
   "id": "0204a343-689e-475e-82f2-bcccfea7f47d",
   "metadata": {},
   "outputs": [
    {
     "data": {
      "text/plain": [
       "(True, True, True, False)"
      ]
     },
     "execution_count": 91,
     "metadata": {},
     "output_type": "execute_result"
    }
   ],
   "source": [
    "True or True, True or False, False or True, False or False"
   ]
  },
  {
   "cell_type": "code",
   "execution_count": 92,
   "id": "b517fd0f",
   "metadata": {},
   "outputs": [
    {
     "data": {
      "text/plain": [
       "True"
      ]
     },
     "execution_count": 92,
     "metadata": {},
     "output_type": "execute_result"
    }
   ],
   "source": [
    "x = 3\n",
    "x >= 0 and x <= 10"
   ]
  },
  {
   "cell_type": "code",
   "execution_count": 93,
   "id": "0df03371-779f-4aa9-afdc-6c135f4fe26c",
   "metadata": {},
   "outputs": [
    {
     "data": {
      "text/plain": [
       "False"
      ]
     },
     "execution_count": 93,
     "metadata": {},
     "output_type": "execute_result"
    }
   ],
   "source": [
    "x < 0 or x > 10"
   ]
  },
  {
   "cell_type": "markdown",
   "id": "83ff1fa9-c72d-4590-af3b-d54000ddb337",
   "metadata": {},
   "source": [
    "**Exercise 14**.\n",
    "The phase of water (at sea-level pressure = 1 atm = 101.3 kPa = 14.7 psi) ,\n",
    "depends on its temperature `temp`.\n",
    "The three possible phases of water are `\"gas\"` (water vapour), `\"liquid\"` (water), and `\"solid\"` (ice).\n",
    "The table below shows the phase of water depending on the temperature `temp`,\n",
    "expresses as math inequalities.\n",
    "\n",
    "```\n",
    "temp range          phase\n",
    "---------------     -----\n",
    "temp >= 100         gas\n",
    "0 <= temp < 100     liquid\n",
    "temp < 0            solid\n",
    "```\n",
    "\n",
    "Your task is to fill-in the `if-elif-else` statement in the code cell below,\n",
    "in order to print the correct phase string,\n",
    "depending on the value of the variables `temp`."
   ]
  },
  {
   "cell_type": "code",
   "execution_count": 94,
   "id": "e9ff9df7-38b0-4812-8cc6-ef053f725797",
   "metadata": {},
   "outputs": [],
   "source": [
    "# temperature in Celcius (int or float)\n",
    "temp = 90\n",
    "\n",
    "# if ...:\n",
    "#     print(....)\n",
    "# elif ...:\n",
    "#     print(....)\n",
    "# else:\n",
    "#     print(....)\n",
    "\n",
    "\n",
    "# uncomment the code if-elif-else statement above and replace:\n",
    "#   ... with conditions (translate math inequaility into Python code),\n",
    "#  .... with the appropriate phase string (one of \"gas\", \"liquid\", or \"solid\")"
   ]
  },
  {
   "cell_type": "code",
   "execution_count": 95,
   "id": "72f83a8b-264d-4413-9a74-cc707408a977",
   "metadata": {},
   "outputs": [
    {
     "name": "stdout",
     "output_type": "stream",
     "text": [
      "liquid\n"
     ]
    }
   ],
   "source": [
    "#@titlesolution Exercise 14 water-phases\n",
    "temp = 90\n",
    "\n",
    "if temp >= 100:\n",
    "    print(\"gas\")\n",
    "elif 0 <= temp < 100:\n",
    "    print(\"liquid\")\n",
    "else:\n",
    "    print(\"solid\")"
   ]
  },
  {
   "cell_type": "markdown",
   "id": "801585ff-490f-4883-b3f4-4015159bbacc",
   "metadata": {},
   "source": [
    "**Exercise 15**.\n",
    "Teacher Joelle has computed the final scores of the students as a percentage (a `score` out of 100). The final grade was computed as a weighted combination of the student's average grade on the assignments, one midterm exam, and a final exam (more on this later).\n",
    "\n",
    "The school where she teachers, requires her to convert each student's `score` to a  letter grade, according to the following grading scale:\n",
    "\n",
    "```\n",
    "Grade         Numerical score interval\n",
    "A             90% – 100%\n",
    "B             70% – 89.999…%\n",
    "C             50% – 69.999…%\n",
    "F             0% – 49.999…%\n",
    "```\n",
    "Write the `if`-`elif`-`elif`-...-`else` statement\n",
    "that takes the `score` variable (an integer between 0 and 100),\n",
    "and prints the appropriate letter grade for that score."
   ]
  },
  {
   "cell_type": "code",
   "execution_count": 96,
   "id": "dd91cc5f-8079-4ee9-b36f-7d2177d8a1c6",
   "metadata": {},
   "outputs": [],
   "source": [
    "# student score as a percentage\n",
    "score = 90  # change value to test different conditions\n",
    "\n",
    "# if ...:\n",
    "#     print(.)\n",
    "# elif ...:\n",
    "#     print(.)\n",
    "# elif ...:\n",
    "#     print(.)\n",
    "# ......\n",
    "\n",
    "# Instructions:\n",
    "# uncomment the code if-elif-.. statement above and replace:\n",
    "#    ... with the appropriate conditions,\n",
    "#      . with the appropriate letter grades (strings), and\n",
    "# ...... with additional elif or else blocks to cover all the cases."
   ]
  },
  {
   "cell_type": "code",
   "execution_count": 97,
   "id": "5f32a484-b4c2-45e9-8b5c-348913e3eee8",
   "metadata": {},
   "outputs": [
    {
     "name": "stdout",
     "output_type": "stream",
     "text": [
      "A\n"
     ]
    }
   ],
   "source": [
    "#@titlesolution Exercise 15 student-letter-grades\n",
    "score = 91\n",
    "\n",
    "if score >= 90:\n",
    "    print(\"A\")\n",
    "elif score >= 70:\n",
    "    print(\"B\")\n",
    "elif score >= 50:\n",
    "    print(\"C\")\n",
    "else:\n",
    "    print(\"F\")"
   ]
  },
  {
   "cell_type": "markdown",
   "id": "4469f7f1-222b-43db-8350-78be4f6193b3",
   "metadata": {},
   "source": [
    "### Inline if statements (bonus topic)\n",
    "\n",
    "We can also use if-else keywords to compute conditional expressions.\n",
    "The general syntax for these is:\n",
    "```Python\n",
    "<value1> if <condition> else <value2>\n",
    "```\n",
    "\n",
    "This expressions evaluates to `<value1>` if `<condition>` is True,\n",
    "else it evaluates to `<value2>` when `<condition>` is False."
   ]
  },
  {
   "cell_type": "code",
   "execution_count": 98,
   "id": "9c2ab462-9fd8-4054-95c3-d9c9777b8ca5",
   "metadata": {},
   "outputs": [
    {
     "data": {
      "text/plain": [
       "\"It's hot!\""
      ]
     },
     "execution_count": 98,
     "metadata": {},
     "output_type": "execute_result"
    }
   ],
   "source": [
    "temp = 25\n",
    "msg = \"It's hot!\" if temp > 22 else \"It's OK.\"\n",
    "msg"
   ]
  },
  {
   "cell_type": "markdown",
   "id": "0ec6ca56-1f63-47ce-8cf5-456581cd12c8",
   "metadata": {},
   "source": [
    "## Dictionaries\n",
    "\n",
    "One of the most useful data structure when programming is the associative array,\n",
    "which is called a dictionary (`dict`) in Python.\n",
    "A dictionary is a container of key-value pairs:\n",
    "we use the keys to access the different values in the container.\n",
    "<!-- mapping between a set of \"keys\" and a set of \"values\". -->\n",
    "\n",
    "For example,\n",
    "the code below defines dictionary `profile` that contains three keys-value pairs."
   ]
  },
  {
   "cell_type": "code",
   "execution_count": 99,
   "id": "2cbe5469-d441-4527-b8cc-df5d550f7f87",
   "metadata": {},
   "outputs": [
    {
     "data": {
      "text/plain": [
       "{'first_name': 'Julie', 'last_name': 'Tremblay', 'score': 98}"
      ]
     },
     "execution_count": 99,
     "metadata": {},
     "output_type": "execute_result"
    }
   ],
   "source": [
    "profile = {\"first_name\": \"Julie\",\n",
    "           \"last_name\": \"Tremblay\",\n",
    "           \"score\": 98}\n",
    "profile"
   ]
  },
  {
   "cell_type": "markdown",
   "id": "1446f2ff-12b2-4282-b7ce-8d39bdc458e5",
   "metadata": {},
   "source": [
    "Note the syntax for creating a dictionary is based on the curly braces `{` and `}`,\n",
    "and inside which we place `\"key\": value`, pairs separated by commas.\n",
    "We wrote the dictionary as multi-line expression, which helps with readability.\n",
    "\n",
    "In the dictionary example above, the keys are `\"first_name\"`, `\"last_name\"`, and `\"score\"`,\n",
    "and their associated values are `\"Julie\"`, `\"Tremblay\"` (stings), and `98` (an int)."
   ]
  },
  {
   "cell_type": "code",
   "execution_count": 100,
   "id": "6e56bd8a-15ba-496e-8a1a-86ca55939848",
   "metadata": {},
   "outputs": [
    {
     "data": {
      "text/plain": [
       "dict"
      ]
     },
     "execution_count": 100,
     "metadata": {},
     "output_type": "execute_result"
    }
   ],
   "source": [
    "type(profile)"
   ]
  },
  {
   "cell_type": "code",
   "execution_count": 101,
   "id": "7137d147-a739-4882-8795-e39770b436a9",
   "metadata": {},
   "outputs": [
    {
     "data": {
      "text/plain": [
       "dict_keys(['first_name', 'last_name', 'score'])"
      ]
     },
     "execution_count": 101,
     "metadata": {},
     "output_type": "execute_result"
    }
   ],
   "source": [
    "profile.keys()"
   ]
  },
  {
   "cell_type": "code",
   "execution_count": 102,
   "id": "cf558c1f-bb8a-43c5-9159-61c2de03dc8f",
   "metadata": {},
   "outputs": [
    {
     "data": {
      "text/plain": [
       "dict_values(['Julie', 'Tremblay', 98])"
      ]
     },
     "execution_count": 102,
     "metadata": {},
     "output_type": "execute_result"
    }
   ],
   "source": [
    "profile.values()"
   ]
  },
  {
   "cell_type": "markdown",
   "id": "4645a9a8-7a45-4927-abe6-7bfe6d6537b2",
   "metadata": {},
   "source": [
    "You access the value in the dictionary using the square brackets syntax.\n",
    "For example,\n",
    "here is how we can get the value associated with key `\"score\"` in the dictionary `profile`."
   ]
  },
  {
   "cell_type": "code",
   "execution_count": 103,
   "id": "292445ea-72b6-4adc-a06d-08d4e5d574d0",
   "metadata": {},
   "outputs": [
    {
     "data": {
      "text/plain": [
       "98"
      ]
     },
     "execution_count": 103,
     "metadata": {},
     "output_type": "execute_result"
    }
   ],
   "source": [
    "profile[\"score\"]"
   ]
  },
  {
   "cell_type": "markdown",
   "id": "c9829ba4-fd49-4d30-be8e-78a33e5d7dbf",
   "metadata": {},
   "source": [
    "We have seen the square bracket syntax earlier for accessing the values within a list.\n",
    "Indeed, lists and dictionaries are both containers objects,\n",
    "and we use square brackets syntax to access elements within them.\n",
    "\n",
    "**Side note**: You can think of a list as a special type of dictionary that has the integers `0`, `1`, `2`, as keys. Alternatively, you can think of dictionaries as \"fancy lists\" that allow keys to be arbitrary instead of being limited to sequential integer indices."
   ]
  },
  {
   "cell_type": "markdown",
   "id": "a57c81b0-085d-4276-b032-5957be335160",
   "metadata": {},
   "source": [
    "You can change the value associate with any key by assigning a new value to it:"
   ]
  },
  {
   "cell_type": "code",
   "execution_count": 104,
   "id": "cea52a07-c70b-497a-8bd6-a13231032aef",
   "metadata": {},
   "outputs": [
    {
     "data": {
      "text/plain": [
       "{'first_name': 'Julie', 'last_name': 'Tremblay', 'score': 77}"
      ]
     },
     "execution_count": 104,
     "metadata": {},
     "output_type": "execute_result"
    }
   ],
   "source": [
    "profile[\"score\"] = 77\n",
    "profile"
   ]
  },
  {
   "cell_type": "markdown",
   "id": "372c2d3b-7877-450f-9861-38896ebda440",
   "metadata": {},
   "source": [
    "You can also add a new key-value pair to the dictionary by assigning a value to a key that doesn't exist yet:"
   ]
  },
  {
   "cell_type": "code",
   "execution_count": 105,
   "id": "24b4ddb0-0087-4bf4-a994-64f57b98e685",
   "metadata": {},
   "outputs": [
    {
     "data": {
      "text/plain": [
       "{'first_name': 'Julie', 'last_name': 'Tremblay', 'score': 77, 'age': 42}"
      ]
     },
     "execution_count": 105,
     "metadata": {},
     "output_type": "execute_result"
    }
   ],
   "source": [
    "profile[\"age\"] = 42\n",
    "profile"
   ]
  },
  {
   "cell_type": "markdown",
   "id": "4c8b816f-1e00-4083-bc1d-03d9efbac403",
   "metadata": {},
   "source": [
    "Note the dictionary `profile` now has a new key `age`,\n",
    "with the value `42` stored under it."
   ]
  },
  {
   "cell_type": "markdown",
   "id": "6452fdc2-c54b-4f63-ad97-aa0ca5853db0",
   "metadata": {},
   "source": [
    "Recall the general syntax of an assignment statement is as follows:\n",
    "\n",
    "```Python\n",
    "<place> = <some expression>\n",
    "```\n",
    "\n",
    "In the above examples, the `<place>` refers the the location inside the `profile` dictionary identified by a particular key. In the first example,\n",
    " we assigned the value `77` to the place `profile[\"score\"]` which modified the value that was previously stored there. In the second example we assigned the value `42` to the new place `profile[\"age\"]`, so Python created it."
   ]
  },
  {
   "cell_type": "markdown",
   "id": "0d154da6-69d9-4e1b-b50c-75ffd2ab5cda",
   "metadata": {},
   "source": [
    "### Exercise 16: creating a new profile dictionary\n",
    "\n",
    "Create a new dictionary called `profile2` with the same structure as `profile`\n",
    "containing the data for the user Alex Fortin with score 31."
   ]
  },
  {
   "cell_type": "code",
   "execution_count": 106,
   "id": "10f3f08a-12db-4fa0-b51a-c13731823284",
   "metadata": {},
   "outputs": [],
   "source": [
    "profile2 = ...  # replace ... with your answer"
   ]
  },
  {
   "cell_type": "code",
   "execution_count": 107,
   "id": "e0bd5689-068b-4240-a194-0cfa4d170240",
   "metadata": {},
   "outputs": [
    {
     "data": {
      "text/plain": [
       "{'first_name': 'Alex', 'last_name': 'Fortin', 'score': 31}"
      ]
     },
     "execution_count": 107,
     "metadata": {},
     "output_type": "execute_result"
    }
   ],
   "source": [
    "#@titlesolution Exercise 16 new-profile-dict\n",
    "profile2 = {\"first_name\": \"Alex\",\n",
    "            \"last_name\": \"Fortin\",\n",
    "            \"score\": 31}\n",
    "\n",
    "# ALT. can build up the dictionary \n",
    "profile2 = {}\n",
    "profile2[\"first_name\"] = \"Alex\"\n",
    "profile2[\"last_name\"] = \"Fortin\"\n",
    "profile2[\"score\"] = 31\n",
    "profile2"
   ]
  },
  {
   "cell_type": "markdown",
   "id": "fc7a0104-8902-4dd4-b293-f3efc8678859",
   "metadata": {},
   "source": [
    "## Type conversions\n",
    "\n",
    "We sometimes need to convert between variables of different types. The functions for conversing types are have the same name as the type of an object:\n",
    "\n",
    "- `int` : convert any expression into an `int`\n",
    "- `float`: convert any expression into a `float`\n",
    "- `str`: convert an expression to its text representation.\n",
    "\n",
    "<!-- cut to keep things simple:\n",
    "- `bool`: transform any expression into a `True` or `False`\n",
    "- `list`: transform an any iterable expression into a `list`\n",
    "-->"
   ]
  },
  {
   "cell_type": "markdown",
   "id": "caa0c86a-ce4f-425f-b91f-3fd6eed9cbce",
   "metadata": {},
   "source": [
    "#### Example: converting `str` to `float`\n",
    "\n",
    "Suppose you're given the number `\"42.5\"` as a string."
   ]
  },
  {
   "cell_type": "code",
   "execution_count": 108,
   "id": "83c8e652-cf92-4870-b6f5-5f90a351adfd",
   "metadata": {},
   "outputs": [
    {
     "data": {
      "text/plain": [
       "str"
      ]
     },
     "execution_count": 108,
     "metadata": {},
     "output_type": "execute_result"
    }
   ],
   "source": [
    "type(\"42.5\")"
   ]
  },
  {
   "cell_type": "markdown",
   "id": "cfa61b11-0762-46ec-a020-420deab18fc7",
   "metadata": {},
   "source": [
    "To convert it to a floating point number,\n",
    "call the `float` function."
   ]
  },
  {
   "cell_type": "code",
   "execution_count": 109,
   "id": "cf095c04-70bd-483c-a995-c7cfb3c157b5",
   "metadata": {},
   "outputs": [
    {
     "data": {
      "text/plain": [
       "42.5"
      ]
     },
     "execution_count": 109,
     "metadata": {},
     "output_type": "execute_result"
    }
   ],
   "source": [
    "f = float(\"42.5\")\n",
    "f"
   ]
  },
  {
   "cell_type": "code",
   "execution_count": 110,
   "id": "d5233dd6-dd80-4fe4-9334-b3cbdeb3e3fa",
   "metadata": {},
   "outputs": [
    {
     "data": {
      "text/plain": [
       "float"
      ]
     },
     "execution_count": 110,
     "metadata": {},
     "output_type": "execute_result"
    }
   ],
   "source": [
    "type(f)"
   ]
  },
  {
   "cell_type": "markdown",
   "id": "fd49f7dc-c3a1-4df6-ab18-f88d703617ac",
   "metadata": {},
   "source": [
    "#### Exercise 17: compute the sum of two strings\n",
    "\n",
    "Suppose we're given two numbers $m$ and $n$ and we want to compute their sum $m+n$.\n",
    "The two numbers are given to use given expressed as strings."
   ]
  },
  {
   "cell_type": "code",
   "execution_count": 111,
   "id": "66eab1bc-a797-4d00-8aa2-d615eb492bec",
   "metadata": {},
   "outputs": [
    {
     "name": "stdout",
     "output_type": "stream",
     "text": [
      "The variable mstr has value 2.1 and type <class 'str'>\n",
      "The variable nstr has value 3.4 and type <class 'str'>\n"
     ]
    }
   ],
   "source": [
    "mstr = \"2.1\"\n",
    "nstr = \"3.4\"\n",
    "print(\"The variable mstr has value\", mstr, \"and type\", type(mstr))\n",
    "print(\"The variable nstr has value\", nstr, \"and type\", type(nstr))"
   ]
  },
  {
   "cell_type": "markdown",
   "id": "d7cff6c2-d4f2-4a2f-853b-7153ccf2aed7",
   "metadata": {},
   "source": [
    "Let's try adding the two numbers together to see what happens..."
   ]
  },
  {
   "cell_type": "code",
   "execution_count": 112,
   "id": "b32fbd79-ef98-4af5-bb32-d441baea5407",
   "metadata": {},
   "outputs": [
    {
     "data": {
      "text/plain": [
       "'2.13.4'"
      ]
     },
     "execution_count": 112,
     "metadata": {},
     "output_type": "execute_result"
    }
   ],
   "source": [
    "mstr + nstr"
   ]
  },
  {
   "cell_type": "markdown",
   "id": "0604b718-3e8f-4d0d-935f-b4e3c3ad7073",
   "metadata": {},
   "source": [
    "This is because the addition operator `+` for strings means concatenate, not add.\n",
    "Python doesn't know automatically that the two text strings are mean to be numbers.\n",
    "\n",
    "We have to manually convert the strings to a Python numerical type (`float`) first,\n",
    "then we can add them together."
   ]
  },
  {
   "cell_type": "markdown",
   "id": "edae3c44-ebbf-487a-ab0b-783bb9218678",
   "metadata": {},
   "source": [
    "Write the Python code that converts the variables `mstr` and `nstr` to floating point numbers and add them together."
   ]
  },
  {
   "cell_type": "code",
   "execution_count": 113,
   "id": "0b40efd6-4363-4668-a30b-8f3566149076",
   "metadata": {},
   "outputs": [],
   "source": [
    "# put your solution here"
   ]
  },
  {
   "cell_type": "code",
   "execution_count": 114,
   "id": "2e222e82-84b1-4640-8522-3693f3965a7a",
   "metadata": {},
   "outputs": [
    {
     "name": "stdout",
     "output_type": "stream",
     "text": [
      "The variable mfloat has value 2.1 and type <class 'float'>\n",
      "The variable nfloat has value 3.4 and type <class 'float'>\n"
     ]
    },
    {
     "data": {
      "text/plain": [
       "5.5"
      ]
     },
     "execution_count": 114,
     "metadata": {},
     "output_type": "execute_result"
    }
   ],
   "source": [
    "#@titlesolution Exercise 17 sum-of-two-strings\n",
    "mfloat = float(mstr)\n",
    "nfloat = float(nstr)\n",
    "print(\"The variable mfloat has value\", mfloat, \"and type\", type(mfloat))\n",
    "print(\"The variable nfloat has value\", nfloat, \"and type\", type(nfloat))\n",
    "\n",
    "# compute the sum\n",
    "mfloat + nfloat"
   ]
  },
  {
   "cell_type": "markdown",
   "id": "548fd233-a485-409d-b4c8-e61bfd2ed7bb",
   "metadata": {},
   "source": [
    "**Exercise 18**. Write the Python code that converts values in the list `prices`\n",
    "to floating point numbers and add them together.\n",
    "\n",
    "Hint: use a `for`-loop or list comprehension syntax."
   ]
  },
  {
   "cell_type": "code",
   "execution_count": 115,
   "id": "20ceb250-9718-4446-8c64-fe3b9defe3d8",
   "metadata": {},
   "outputs": [],
   "source": [
    "prices = [\"22.2\", \"10.1\", \"33.3\"]\n",
    "\n",
    "# write here the code that computes the total price"
   ]
  },
  {
   "cell_type": "code",
   "execution_count": 116,
   "id": "8c9174d8-dff1-4b0e-b2a2-f983ecadeb34",
   "metadata": {},
   "outputs": [
    {
     "data": {
      "text/plain": [
       "65.6"
      ]
     },
     "execution_count": 116,
     "metadata": {},
     "output_type": "execute_result"
    }
   ],
   "source": [
    "#@titlesolution Exercise 18 str-prices-sum\n",
    "prices = [\"22.2\", \"10.1\", \"33.3\"]\n",
    "total = 0\n",
    "for price in prices:\n",
    "    total = total + float(price)\n",
    "total\n",
    "\n",
    "# ALT. using list comprehensions syntax\n",
    "prices_float = [float(price) for price in prices]\n",
    "sum(prices_float)"
   ]
  },
  {
   "cell_type": "markdown",
   "id": "6a381bc1-a4b4-45c5-80a9-558977288162",
   "metadata": {},
   "source": [
    "# Objects and classes\n",
    "\n",
    "All the Python variables we've been using until now are different kinds of \"objects.\"\n",
    "An object is a the most general purpose \"container\" for data,\n",
    "that also provides functions for manipulating this data in the object.\n",
    "\n",
    "In particular:\n",
    "- **attributes**: data properties of the object\n",
    "- **methods**: functions attached to the object"
   ]
  },
  {
   "cell_type": "markdown",
   "id": "9570ce95-d62e-449f-a022-97eb26665301",
   "metadata": {},
   "source": [
    "## Examples"
   ]
  },
  {
   "cell_type": "markdown",
   "id": "bc10b0fc-0d5b-4e0e-a3e9-44fdbaedb0fa",
   "metadata": {},
   "source": [
    "### Example 1: string objects"
   ]
  },
  {
   "cell_type": "code",
   "execution_count": 117,
   "id": "f6826b95-a9b5-45cf-bab9-a220f1e2d98c",
   "metadata": {},
   "outputs": [
    {
     "data": {
      "text/plain": [
       "str"
      ]
     },
     "execution_count": 117,
     "metadata": {},
     "output_type": "execute_result"
    }
   ],
   "source": [
    "msg = \"Hello world!\"\n",
    "\n",
    "type(msg)"
   ]
  },
  {
   "cell_type": "code",
   "execution_count": 118,
   "id": "6d9fa3e6-a77d-41e3-af0c-3ed9cca092d9",
   "metadata": {},
   "outputs": [],
   "source": [
    "# Uncomment the next line and press TAB after the dot\n",
    "# msg."
   ]
  },
  {
   "cell_type": "code",
   "execution_count": 119,
   "id": "2a9133a7-0f0e-4681-8d66-794551f616be",
   "metadata": {},
   "outputs": [
    {
     "data": {
      "text/plain": [
       "True"
      ]
     },
     "execution_count": 119,
     "metadata": {},
     "output_type": "execute_result"
    }
   ],
   "source": [
    "# Methods:\n",
    "msg.upper()\n",
    "msg.lower()\n",
    "msg.__len__()\n",
    "msg.isascii()\n",
    "msg.startswith(\"He\")\n",
    "msg.endswith(\"!\")"
   ]
  },
  {
   "cell_type": "markdown",
   "id": "8e30885b-e490-4bbb-993a-34de6d1b3ec7",
   "metadata": {},
   "source": [
    "### Example 2: file objects"
   ]
  },
  {
   "cell_type": "code",
   "execution_count": 120,
   "id": "2f2411b9-4ad2-4234-8593-7492e112649b",
   "metadata": {},
   "outputs": [
    {
     "data": {
      "text/plain": [
       "_io.TextIOWrapper"
      ]
     },
     "execution_count": 120,
     "metadata": {},
     "output_type": "execute_result"
    }
   ],
   "source": [
    "filename = \"message.txt\"\n",
    "file = open(filename, \"w\")\n",
    "\n",
    "type(file)"
   ]
  },
  {
   "cell_type": "code",
   "execution_count": 121,
   "id": "125f24ea-882e-4875-b475-f696e6d313b1",
   "metadata": {},
   "outputs": [],
   "source": [
    "# Uncomment the next line and press TAB after the dot\n",
    "# file."
   ]
  },
  {
   "cell_type": "code",
   "execution_count": 122,
   "id": "6ce0043e-6fc5-4ef0-8213-190ed5cc4229",
   "metadata": {},
   "outputs": [
    {
     "data": {
      "text/plain": [
       "'UTF-8'"
      ]
     },
     "execution_count": 122,
     "metadata": {},
     "output_type": "execute_result"
    }
   ],
   "source": [
    "# Attributes:\n",
    "file.name\n",
    "file.mode\n",
    "file.encoding"
   ]
  },
  {
   "cell_type": "code",
   "execution_count": 123,
   "id": "d3400e18-ccf7-446b-8270-57851594ac34",
   "metadata": {},
   "outputs": [],
   "source": [
    "# Methods:\n",
    "file.write(\"Hello world\\n\")\n",
    "file.writelines([\"line2\", \"and line3.\"])\n",
    "file.flush()\n",
    "file.close()"
   ]
  },
  {
   "cell_type": "markdown",
   "id": "802c696b-c4f4-4e52-be4c-6b64066c7b84",
   "metadata": {},
   "source": [
    "# Python libraries and modules\n",
    "\n",
    "Everything we discussed so far was using the Python built-in functions and data types,\n",
    "but that is only a small subset of all the functionality available when using Python.\n",
    "There are hundreds of Python libraries and modules that provide additional functions and data types\n",
    "for all kinds of applications. \n",
    "There are Python modules for processing different data files, making web requests, doing efficient numerical computing, statistics, etc.\n",
    "The list is almost endless,\n",
    "and the vast number of libraries and frameworks is all available to you behind a simple `import` statement.\n",
    "\n",
    "<!-- \n",
    "The golden rules of software development:\n",
    "\n",
    "  1. Don't write code because someone has **already solved the problem** you're trying to solve.\n",
    "  2. Don't write code because you can glue together one or more **libraries** to do what you want.\n",
    "  3. Don't write code because you can solve your problem by using some subset of the functionality in an existing **framework**.\n",
    "-->\n",
    "\n"
   ]
  },
  {
   "cell_type": "markdown",
   "id": "88f053a7-fe59-4b30-84d6-d4d7603ff612",
   "metadata": {},
   "source": [
    "## The `import` statement \n",
    "\n",
    "We use the `import` statement to load a python module and make it available in the current context.\n",
    "The code below shows how to import the module `<mod>` in the current notebook.\n",
    "\n",
    "```Python\n",
    "import <mod>\n",
    "```\n",
    "\n",
    "After this statement, we can now use the functions in the module `<mod>` by calling them using the prefix `<mod>.`,\n",
    "which is called the \"dot notation\" for accessing names within the *namespace* `<mod>`.\n",
    "\n",
    "For example, let's import the statistics module and use the function `statistics.mean` to compute the mean of three numbers."
   ]
  },
  {
   "cell_type": "code",
   "execution_count": 124,
   "id": "fac4bab4-c52e-49c5-9a80-ae5484649da4",
   "metadata": {},
   "outputs": [
    {
     "data": {
      "text/plain": [
       "3"
      ]
     },
     "execution_count": 124,
     "metadata": {},
     "output_type": "execute_result"
    }
   ],
   "source": [
    "import statistics\n",
    "\n",
    "statistics.mean([1,2,6])"
   ]
  },
  {
   "cell_type": "markdown",
   "id": "b60fd217-1f5a-4cc8-9702-73b96a5175af",
   "metadata": {},
   "source": [
    "A very common trick you'll see in Python notebooks,\n",
    "is to import python modules under an \"alias\" name,\n",
    "which is usually a shorter name that is faster to type.\n",
    "\n",
    "The alias-import statement looks like this:\n",
    "```Python\n",
    "import <mod> as <alias>\n",
    "```\n",
    "\n",
    "For example, let's import the statistics module under the alias `stats` and repeat the mean calculation we saw above."
   ]
  },
  {
   "cell_type": "code",
   "execution_count": 125,
   "id": "4c382060-350b-425a-a28c-e39704949454",
   "metadata": {},
   "outputs": [
    {
     "data": {
      "text/plain": [
       "3"
      ]
     },
     "execution_count": 125,
     "metadata": {},
     "output_type": "execute_result"
    }
   ],
   "source": [
    "import statistics as stats\n",
    "\n",
    "stats.mean([1,2,6])"
   ]
  },
  {
   "cell_type": "markdown",
   "id": "14f99427-2869-48ed-a38a-b9110f3cea3a",
   "metadata": {},
   "source": [
    "As you can imagine,\n",
    "if you're writing some Python code that requires a lot of statistics calculations,\n",
    "you'll appreciate the alias-import statement,\n",
    "since you call `stats.mean` and `stats.median`,\n",
    "instead of having to type the full module name each time,\n",
    "`statistics.mean`, `statistics.median`, etc."
   ]
  },
  {
   "cell_type": "markdown",
   "id": "e19f1bdb-c36d-41f9-b4b3-0422ab1288d1",
   "metadata": {},
   "source": [
    "## The standard library\n",
    "\n",
    "The [Python standard library](https://docs.python.org/3/library/) consists of several dozens of Python modules that come bundled with every Python installation.\n",
    "\n",
    "Here are some modules that come in handy.\n",
    "\n",
    "- `math`: math functions like `sqrt`, `sin`, `cos`, etc.\n",
    "- `random`: random number generation\n",
    "- `statistics`: descriptive statistics computed from lists of values\n",
    "- `re`: regular expressions (useful for matching patterns in strings)\n",
    "- `datetime`: manipulate dates and times\n",
    "- `urllib.parse`: manipulate URLs (used for web programming)\n",
    "- `json`: read and write JSON files\n",
    "- `csv`: read and write CSV files (see also Pandas, which can do this too)\n",
    "- `os` and `os.path`: manipulate file system paths\n",
    "- `sys`: access information about the current process and the operating system\n",
    "- `argparse`: for processing command line arguments when writing scripts\n",
    "\n",
    "There are also a some libraries that are not part of the standard library,\n",
    "but are very common:\n",
    "- `requests`: make HTTP requests and download files from the internet"
   ]
  },
  {
   "cell_type": "markdown",
   "id": "1d269503-8bc1-46e9-ac8c-44c2dbc63345",
   "metadata": {},
   "source": [
    "## Installing Python packages with `pip`\n",
    "\n",
    "We use the command `%pip` to install Python packages."
   ]
  },
  {
   "cell_type": "code",
   "execution_count": 126,
   "id": "61ff678e-c66a-4a26-bde0-76a8a0db48be",
   "metadata": {},
   "outputs": [],
   "source": [
    "# %pip install ministats"
   ]
  },
  {
   "cell_type": "markdown",
   "id": "5aed0f5a-54b2-4358-b332-7715dcdf1f86",
   "metadata": {},
   "source": [
    "## Scientific computing libraries\n",
    "\n",
    "- **NumPy** Numerical Python (NumPy) is a library that provides high-performance arrays and matrices. NumPy arrays allow mathematical operations to run very fast, which is important when working with medium- and large- datasets.\n",
    "- **SciPy** Scientific Python (SciPy) is a library that provides most common algorithms and special functions used by scientists and engineers. See https://scipy-lectures.org/\n",
    "- **SymPy** Symbolic math expressions.\n",
    "  See [sympy_tutorial.pdf](https://minireference.com/static/tutorials/sympy_tutorial.pdf).\n",
    "- **Matplotlib** Powerful library for plotting points, lines, and other graphs."
   ]
  },
  {
   "cell_type": "markdown",
   "id": "d95ce302-0a66-4dff-b056-d24227e1dc42",
   "metadata": {},
   "source": [
    "## Data science libraries\n",
    "- `pandas` library for tabular data (See [pandas_tutorial.ipynb](./pandas_tutorial.ipynb) notebook)\n",
    "- `statsmodels` models for linear regression and other\n",
    "\n",
    "- `seaborn` high-level library for statistical plots (See [seaborn_tutorial.ipynb](./seaborn_tutorial.ipynb) notebook).\n",
    "\n",
    "<!-- \n",
    "- `plotnine` another high-level library for data visualization base don the grammar of graphics principles\n",
    "- `scikit-learn` tools and algorithms for machine learning\n",
    "-->"
   ]
  },
  {
   "cell_type": "markdown",
   "id": "61ccae80-5c6b-4172-b3b6-653841214241",
   "metadata": {},
   "source": [
    "# Final review\n",
    "\n",
    "Okay we've reached the end of this tutorial,\n",
    "so let's to review of the new Python concepts we introduced in condensed form."
   ]
  },
  {
   "cell_type": "markdown",
   "id": "63d3d979-9dd8-4f2e-b895-0c3b61e3117a",
   "metadata": {},
   "source": [
    "## Python grammar and syntax review\n",
    "\n",
    "Learning Python is like learning a new language:\n",
    "- **nouns**: values of different types, usually referred to by name (named variables containing values) \n",
    "- **verbs**: functions and methods, including basic operators like `+`, `-`, etc.\n",
    "- **grammar**: rules about how to use nouns and verbs together\n",
    "- **adverbs**: keyword arguments (options) used to modify what a function does\n",
    "\n",
    "These parts are easy to understand with time, since the new concepts\n",
    "correspond to English words, so you'll get use to it all very quickly."
   ]
  },
  {
   "cell_type": "markdown",
   "id": "fd82d654-ddde-4ba7-8a9c-4bc57f4453a1",
   "metadata": {
    "jp-MarkdownHeadingCollapsed": true
   },
   "source": [
    "## Python keywords\n",
    "\n",
    "Here is a list of keywords that make up the Python language:\n",
    "\n",
    "    False      class      finally    is         return\n",
    "    None       continue   for        lambda     try\n",
    "    True       def        from       nonlocal   while\n",
    "    and        del        global     not        with\n",
    "    as         elif       if         or         yield\n",
    "    assert     else       import     pass\n",
    "    break      except     in         raise\n",
    "\n",
    "You've seen most of them, but not all of them.\n",
    "The ones you need to remember are:\n",
    "\n",
    "- `if`, `elif`, `else` used in conditional statements\n",
    "- `def` used to define a new function and the `return` statement that defines the output of the function\n",
    "- `for` for for loops and list-comprehension statements\n",
    "- the boolean values `True` and `False`\n",
    "- `or`, `and`, and `not` to create boolean expressions\n",
    "- `in` to check if element is part of container\n",
    "- `None` = special value that corresponds to no value\n",
    "- `import ...` and `from ... import ...` statements to import Python modules\n",
    "\n",
    "<!-- - `class` for defining new object types -->"
   ]
  },
  {
   "cell_type": "markdown",
   "id": "022525d9-4f1e-4808-a043-3fce9a368c63",
   "metadata": {},
   "source": [
    "## Python data types\n",
    "\n",
    "- `int`: naturals and integers\n",
    "- `float`: rational and real numbers\n",
    "- `list`: list of objects `[obj1, obj2, obj3, ...]`\n",
    "- `bool`: `True` or `False`\n",
    "- `str`: text strings\n",
    "- `dict`: associative array between keys and values\n",
    "  `{key1:value1, key2:value2, key3:value3, ...}`.\n",
    "- `tuple`: just like a list, but immutable (can't modify it)\n",
    "- `set`: list-like object that doesn't care about ordering and ignores duplicates\n",
    "- `NoneType`: Denotes the type of the `None` value,\n",
    "  which describes the absence of a value\n",
    "  (e.g. the output of a function that doesn't return any value).\n",
    "- `complex`: complex numbers $z=x+iy$\n"
   ]
  },
  {
   "cell_type": "markdown",
   "id": "a4cc9b01-bb31-4261-be97-08f05ade09ed",
   "metadata": {},
   "source": [
    "## Python built-in functions\n",
    "\n",
    "Essential functions:\n",
    "- `print(arg1, arg2, ...)`: display `str(arg1)`, `str(arg2)`, etc.\n",
    "- `type(obj)`: tells you what kind of object \n",
    "- `len(obj)`: length of the object (only for: `str`, `list`, `dict` objs)\n",
    "- `range(a, b)`: equivalent to the list `[a,a+1,...,b-1]`\n",
    "- `help(obj)`: display info about the object, function, or method\n",
    "\n",
    "\n",
    "\n",
    "\n",
    "Looking around, learning, and debugging Python code:\n",
    "- `str(obj)`: display the string representation of the object.\n",
    "- `repr(obj)`: display the Python representation of the object.\n",
    "   Usually, you can copy-paste the output of `repr(obj)` into a Python\n",
    "   shell to re-create the object.\n",
    "- `help(obj)`: display info about the object, function, or method.\n",
    "  This is equivalent to calling object's docstring `obj.__doc__`.\n",
    "- `dir(obj)`: show complete list of attributes and methods of the object `obj`\n",
    "- `globals()`: display all variables in the Python global namespace\n",
    "- `locals()`: display local variables (within current scope,\n",
    "   e.g. local variables inside inside a function body)\n",
    "\n",
    "Built-in methods used for lists:\n",
    "- `len(obj)`: length of the object (only for: `str`, `list`, `dict` objs)\n",
    "- `sum(li)`: sum of the values in the list of numbers `li`\n",
    "- `all(li)`: true if all values in the list `li` are true\n",
    "- `any(li)`: true if any of the values in the list `li` are true\n",
    "- `enumerate(li)`: convert list of values to `li` to list of tuples `(i,li[i])` (use in for loop as `for i, item in enumerate(items):...`.\n",
    "- `zip(li1, li2)`: joint iteration over two lists\n",
    "- Low-level iterator methods: `iter()` and `next()` (out of scope for this tutorial. Just know that every time I said list-like, I meant \"any object that implements the iterator and iterable protocols).\n",
    "\n",
    "\n",
    "Input-output (I/O):\n",
    "- `input`: prompt user for input, returns the value user entered as a sting.\n",
    "- `print(arg1, arg2, ...)`: display `str(arg1)`, `str(arg2)`, etc.\n",
    "- `open(filepath,mode)`: open the file at `filepath` for `mode`-operations.\n",
    "  Use `mode=\"r\"` for reading text from a file,\n",
    "  and `mode=\"w\"` for writing text to a file.\n",
    "\n",
    "Advanced stuff:\n",
    "- Functional shit: `map()`, `eval()`, `exec()`\n",
    "- Meta-programming: `hasattr()`, `getattr()`, `setattr()` \n",
    "- Object oriented programming: `isinstance()`, `issubclass()`, `super()`"
   ]
  },
  {
   "cell_type": "markdown",
   "id": "d16614b2-850a-43a3-8b86-081bf71aa435",
   "metadata": {},
   "source": [
    "## Python punctuation\n",
    "\n",
    "The most confusing part of learning Python is the use of non-word punctuation characters, which have very specific meaning that has nothing to do with English punctuation marks.\n",
    "Let's review how the symbols `=([{*\"'#,.:` are used in various Python expressions.\n",
    "The meaning of these symbols changes depending on the context.\n",
    "\n",
    "\n",
    "Here is a complete, no-holds-barred list of the punctuation marks usage in the Python programming language. Like literally each of them. This list of symbols uses will help us close the review, since it reviews the Python syntax was used in all the sections in this tutorial.\n",
    "\n",
    "- Equal sign `=`\n",
    "  - assignment\n",
    "  - specify default keyword argument (in function definition)\n",
    "  - pass values for keyword arguments (in function call)\n",
    "\n",
    "<br>\n",
    "\n",
    "- Round brackets `()` are used for:\n",
    "  - calling functions\n",
    "  - defining tuples: `(1, 2, 3)`\n",
    "  - enforcing operation precedence: `result = (x + y) * z`\n",
    "  - defining functions (in combination with the `def` keyword, e.g. `def f(x): ...`)\n",
    "  - defining class\n",
    "  - creating object\n",
    "\n",
    "<br>\n",
    "\n",
    "- Curly-brackets (accolades) `{}`\n",
    "  - define dict literals: `mydict = {\"k1\":\"v1\", \"k2\":\"v2\"}`\n",
    "  - define sets: `{1,2,3}`\n",
    "\n",
    "<br>\n",
    "\n",
    "\n",
    "- Square brackets `[]` are used for:\n",
    "  - defining lists: `mylist = [1, 2, 3]`\n",
    "  - list indexing: `ages[3] = 29`\n",
    "  - dict access by key: `mydict[\"k1\"]` (used by `__getitem__` or `__setitem__`)\n",
    "  - list slice: `mylist[0:2]` (first two items in `mylist`)\n",
    "\n",
    "<br>\n",
    "\n",
    "\n",
    "- Quotes `\"` and `'` \n",
    "  - define string literals\n",
    "  - note raw string variant `r\"...\"` also exists\n",
    "\n",
    "<br>\n",
    "\n",
    "\n",
    "- Triple quotes `\"\"\"` and `'''`\n",
    "  - long string literals entire paragraphs\n",
    "\n",
    "<br>\n",
    "\n",
    "- Hash symbol `#`\n",
    "  - comment (Python ignores text after the `#` symbol)\n",
    "\n",
    "<br>\n",
    "\n",
    "- Colon `:`\n",
    "  - syntax for the beginning of indented block.  \n",
    "    The colon is used at the end of statements like `if`, `elif`, `else` `for`, etc.\n",
    "  - key: value separator in dict literals\n",
    "  - slice of indices `0:2` (first two items in a list)\n",
    "\n",
    "<br>\n",
    "\n",
    "\n",
    "- Period `.`\n",
    "  - decimal separator for floating point literals\n",
    "  - access object attributes\n",
    "  - access object methods\n",
    "\n",
    "<br>\n",
    "\n",
    "\n",
    "- Comma `,`\n",
    "  - element separator in `list`s and `tuple`s\n",
    "  - `key:value` separator when creating a `dict`\n",
    "  - separate function arguments in function definitions\n",
    "  - separate function arguments when calling functions\n",
    "\n",
    "<br>\n",
    "\n",
    "\n",
    "- Asterisk `*`\n",
    "  - multiplication operator \n",
    "  - (advanced) unpack elements of a list\n",
    "\n",
    "<br>\n",
    "\n",
    "\n",
    "- Double asterisk `**`\n",
    "  - exponent operator\n",
    "  - (advanced) unpack elements of a dict\n",
    "\n",
    "<br>\n",
    "\n",
    "\n",
    "- Semicolon `;` (rarely used)\n",
    "  - suppress the output of a command in a notebook environment\n",
    "  - (advanced) put multiple Python commands on single line\n",
    "\n",
    "<br>\n",
    "\n",
    "Don't worry if you didn't understand all the use cases listed. I've tried to make the list complete, so I've included some more advanced topics, labeled (advanced), which you'll learn about over time when you use Python."
   ]
  },
  {
   "cell_type": "markdown",
   "id": "38a6ce9d-14fd-4524-a0fc-37d61ea61e7f",
   "metadata": {},
   "source": [
    "# Discussion"
   ]
  },
  {
   "cell_type": "markdown",
   "id": "2f316571-2572-4913-894d-abe1c5279ade",
   "metadata": {},
   "source": [
    "Let's go over some of the things we skipped in the tutorial,\n",
    "because they were not essential for getting started.\n",
    "Now that you know a little bit about Python,\n",
    "it's worth mentioning some of these details,\n",
    "since it's useful context to see how this \"Python calculator\" business works.\n",
    "I also want to tell you about some of the cool Python applications\n",
    "you can look forward to if you choose to develop your Python skills further."
   ]
  },
  {
   "cell_type": "markdown",
   "id": "86279f2e-67c0-4646-8853-6717e710f92c",
   "metadata": {
    "tags": []
   },
   "source": [
    "## Applications\n",
    "\n",
    "Python is not just a calculator.\n",
    "Python can also be used for non-interactive programs and services.\n",
    "Python is a general-purpose programming language so it enables a lot of applications. The list below talks about some areas where Python programming is popular.\n",
    "\n",
    "- **Command line scripts**: you can put Python commands into a script\n",
    "  then run them on the command line (terminal on UNIX or or `cmd.exe` on Windows).\n",
    "  For example,\n",
    "  you can write a simple script that downloads a music video from YouTube,\n",
    "  extracts the audio, and saves it as an mp3 file you can listen to offline.\n",
    "\n",
    "<!-- by running the command\n",
    "  `youtube-dl <youtube_url>`.\n",
    "  If all you want is the audio, you can use some command-line options to specify \n",
    "  `youtube-dl --extract-audio --audio-format mp3 <youtube_url>` to extract the\n",
    "  audio track from the youtube video and save it as an mp3.\n",
    "  The author uses this type of command daily to make local copies of songs\n",
    "  to listen to them offline. -->\n",
    "\n",
    "- **Graphical user interface (GUI) programs**: many desktop applications are written in Python.\n",
    "  An example of a graphical, point-and-click application written in Python is `Calibre`,\n",
    "  which is a powerful eBook management library and eBook reader and eBook converter,\n",
    "  that supports all imaginable eBook formats.\n",
    "\n",
    "- **Web applications**: the [Django](https://www.djangoproject.com/) and [Flask](https://flask.palletsprojects.com/) frameworks are often used to build web applications.\n",
    "  Many of the websites you access every day have as server component written in Python.\n",
    "\n",
    "- **Machine learning systems**: create task-specific functions by using probabilistic models instead of code. Machine learning models undergo a training stage in which the model parameters are \"learned\" from the training data examples, after which the model can be queried to make predictions. \n",
    "\n",
    "\n",
    "\n",
    "\n",
    "\n",
    "I mention these examples so you'll know the other possibilities enabled by Python,\n",
    "beyond the basic \"use Python interactively like a calculator\" code examples\n",
    "that we saw in this tutorial.\n",
    "There is a lot of other useful stuff.\n",
    "We're at the end of this tutorial, but just the beginning of your journey to discover all the interesting thins you can do with Python."
   ]
  },
  {
   "cell_type": "markdown",
   "id": "ffcfa40e-f15a-45c4-9cfd-d59c3d6bd7b5",
   "metadata": {},
   "source": [
    "# Links\n",
    "\n",
    "I've collected the best learning resources for Python,\n",
    "which you can use to learn more about Python.\n",
    "\n",
    "\n",
    "## Python cheatsheets\n",
    "\n",
    "- Good quick reference  \n",
    "  https://gto76.github.io/python-cheatsheet/\n",
    "- https://ehmatthes.github.io/pcc_2e/cheat_sheets/cheat_sheets/\n",
    "- https://ipgp.github.io/scientific_python_cheat_sheet/\n",
    "- https://learnxinyminutes.com/docs/python/\n",
    "- https://perso.limsi.fr/pointal/_media/python:cours:mementopython3-english.pdf\n",
    "- https://www.pythoncheatsheet.org/\n",
    "- https://homepage.univie.ac.at/michael.blaschek/media/Cheatsheet_python.pdf\n",
    "- https://cheatsheets.quantecon.org/\n",
    "\n",
    "\n",
    "## Introductions and tutorials\n",
    "\n",
    "- Python tutorial by Russell A. Poldrack  \n",
    "  https://statsthinking21.github.io/statsthinking21-python/01-IntroductionToPython.html\n",
    "\n",
    "- Programming with Python by  Software Carpentry team:  \n",
    "  https://swcarpentry.github.io/python-novice-inflammation/\n",
    "\n",
    "- Official Python tutorial:  \n",
    "  https://docs.python.org/3.10/tutorial/\n",
    "\n",
    "- Python glossary:  \n",
    "  https://docs.python.org/3.10/glossary.html#glossary\n",
    "\n",
    "- Nice tutorial:  \n",
    "  https://www.pythonlikeyoumeanit.com/\n",
    "\n",
    "- Python data structures  \n",
    "  https://devopedia.org/python-data-structures\n",
    "\n",
    "- Further reading  \n",
    "  https://github.com/rasbt/python_reference\n",
    "\n",
    "- https://walkintheforest.com/Content/Introduction+to+Python/%F0%9F%90%8D+Introduction+to+Python\n",
    "\n",
    "- Online tutorial  \n",
    "  https://www.kaggle.com/learn/python\n",
    "\n",
    "- Complete list of all the Python builtins  \n",
    "  https://treyhunner.com/2019/05/python-builtins-worth-learning/  \n",
    "  via https://news.ycombinator.com/item?id=30621552\n",
    "\n",
    "- Video lectures from Pythong course by Chelsea Parlett Pelleriti\n",
    "  https://www.youtube.com/playlist?list=PLmxpwhh4FDm460ztGwXmIUcGmfNzf4NMW\n",
    "\n",
    "\n",
    "## Special topics\n",
    "\n",
    "- Stats-related python functions  \n",
    "  https://www.statology.org/python-guides/\n",
    "\n",
    "- https://github.com/mtlpy/mp-84-atelier/blob/main/ressources.md\n",
    "\n",
    "- Python types (`int`s, `float`s, and `bool`s)  \n",
    "  https://github.com/anthony-agbay/introduction-to-python/blob/main/modules/basic-python-types-ints-floats-bools/basic-python-types-ints-floats-bools.ipynb\n",
    "\n",
    "- Python string operations  \n",
    "  https://github.com/anthony-agbay/introduction-to-python/blob/main/modules/basic-python-types-strings/basic-python-types-strings.ipynb\n",
    "\n",
    "- Scientific computing  \n",
    "  https://devopedia.org/python-for-scientific-computing\n",
    "\n",
    "- about NaNs  \n",
    "  https://news.ycombinator.com/item?id=30558690\n",
    "\n",
    "\n",
    "\n",
    "## Books\n",
    "\n",
    "- Python book for beginners ([discussed here](https://news.ycombinator.com/item?id=27141644))  \n",
    "  https://learnpythontherightway.com/\n",
    "\n",
    "- https://automatetheboringstuff.com/\n",
    "\n",
    "- Object-Oriented Programming in Python  \n",
    "  https://python-textbok.readthedocs.io/en/1.0/index.html\n",
    "  \n",
    "  \n",
    "  \n",
    "Incoming:\n",
    "\n",
    "- https://docs.python.org/3/library/stdtypes.html\n",
    "- https://docs.python.org/3/library/functions.html\n"
   ]
  }
 ],
 "metadata": {
  "kernelspec": {
   "display_name": "Python 3 (ipykernel)",
   "language": "python",
   "name": "python3"
  },
  "language_info": {
   "codemirror_mode": {
    "name": "ipython",
    "version": 3
   },
   "file_extension": ".py",
   "mimetype": "text/x-python",
   "name": "python",
   "nbconvert_exporter": "python",
   "pygments_lexer": "ipython3",
   "version": "3.9.4"
  },
  "toc-autonumbering": false,
  "toc-showmarkdowntxt": false
 },
 "nbformat": 4,
 "nbformat_minor": 5
}
