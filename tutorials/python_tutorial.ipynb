{
 "cells": [
  {
   "cell_type": "markdown",
   "id": "bbeb5139-9063-431f-a542-9cc550fdf80e",
   "metadata": {},
   "source": [
    "# Appendix C — Python tutorial\n",
    "\n",
    "Click this binder button to run this notebooks interactively: [![Binder](https://mybinder.org/badge_logo.svg)](https://mybinder.org/v2/gh/minireference/noBSstats/main?urlpath=tree/./tutorials/python_tutorial.ipynb) (highly recommended, for a hands-on experience, which is much better for learning)."
   ]
  },
  {
   "cell_type": "markdown",
   "id": "274ce8cd-0a05-46ba-9464-a2faf3bb47e5",
   "metadata": {},
   "source": [
    "# Python as a fancy calculator"
   ]
  },
  {
   "cell_type": "markdown",
   "id": "fb464c8f-ec24-44fd-8a79-0b5825d6948c",
   "metadata": {},
   "source": [
    "In this tutorial I'll show you the basics of the Python programming language.\n",
    "Don't freak out, this is not a big deal.\n",
    "You're not going to become a programmer or anything,\n",
    "you're just **learning to use Python as a calculator**."
   ]
  },
  {
   "cell_type": "markdown",
   "id": "ce623593-e1fe-43df-96e1-e3cd697d5539",
   "metadata": {},
   "source": [
    "#### Calculator analogy\n",
    "\n",
    "Python commands are similar to the commands you give to a calculator.\n",
    "The same way a calculator has different buttons for the various arithmetic operations,\n",
    "the Python language has a number of commands you can \"run\" or \"execute.\"\n",
    "Python is more powerful than a calculator because you can input multiple lines of commands at once,\n",
    "and write more complicated expressions.\n",
    "\n",
    "The same way knowing how to use a calculator is very helpful for doing arithmetic operations,\n",
    "learning Python is very helpful when for doing arithmetic operations, but also doing more complicated multi-step calculations."
   ]
  },
  {
   "cell_type": "markdown",
   "id": "8615be8f-f3f2-4c2e-bda6-40460e43ba9b",
   "metadata": {
    "jp-MarkdownHeadingCollapsed": true
   },
   "source": [
    "## Why learn python?\n",
    "\n",
    "Staying with the python-is-a-calculator analogy, I'd like to give you an idea of some of the things you can do when you use Python as a calculator.\n",
    "\n",
    "- Python is really good as a \"basic\" calculator,\n",
    "  which allows you to do calculate any arithmetic expression involving math operations like `+`, `-`, `*`, `/`, `pow`, and more generally any math function.\n",
    "- Python programs allows you to represent procedures with multiple steps.\n",
    "- Python is also very useful as a graphical calculator, you can plot functions, and visualize data distributions.\n",
    "- Python is an extensible, programmable calculator, which means you can define custom functions that are useful for any given domain.\n",
    "- Python provides lots of extensions (modules) for scientific computations.\n",
    "  You can do advanced linear algebra using `numpy` module,\n",
    "  carry out optimization using `scipy`,\n",
    "  and use `sympy` for symbolic math calculations. Very powerful stuff.\n",
    "\n",
    "All in all, learning Python will give you all kinds of options for doing math and science."
   ]
  },
  {
   "cell_type": "markdown",
   "id": "41caa150-20ff-46ab-9835-d22188dbfdc8",
   "metadata": {},
   "source": [
    "### Python for statistics\n",
    "\n",
    "In this tutorial,\n",
    "you'll learn all the Python functions needed for statistics.\n",
    "Learning a few basic Python constructs like the `for` loop\n",
    "will enable you to simulate probability distributions and experimentally verify how statistics procedures work.\n",
    "This is a really big deal!\n",
    "If's good to know the statistical formula and recipes,\n",
    "but it's even better when you can run your own simulations and check when the formulas work and when they fail.\n",
    "\n",
    "Once you learn the basics of Python syntax,\n",
    "you'll have access to the best-in-class tools for\n",
    "data management (Pandas, see [pandas_tutorial.ipynb](./pandas_tutorial.ipynb)),\n",
    "data visualization (Seaborn, see [seaborn_tutorial.ipynb](./seaborn_tutorial.ipynb)),\n",
    "statistics (`scipy` and `statsmodels`),\n",
    "and machine learning (`scikit-learn`, `pytorch`, `huggingface`, etc.).\n",
    "\n",
    "Don't worry there won't be any advanced math—just sums, products, exponents, logs, and square roots.\n",
    "Nothing fancy, I promise.\n",
    "If you've ever created a formula in a spreadsheet,\n",
    "then you're familiar with all the operations we'll see.\n",
    "In a spreadsheet formula you'd use `SUM(` in Python we write `sum(`.\n",
    "You see, it's nothing fancy.\n",
    "\n",
    "Yes, there will be a lot of code (paragraphs of Python commands) in this tutorial,\n",
    "but you can totally handle this.\n",
    "If you ever start to freak out an think \"OMG this is too complicated!\" remember that Python is just a fancy calculator."
   ]
  },
  {
   "cell_type": "markdown",
   "id": "8663fe03-0f8d-4f61-8f54-3a5d60aac33e",
   "metadata": {},
   "source": [
    "### Overview of the material in this tutorial\n",
    "\n",
    "We'll cover all essential topics required to get to know Python, including:\n",
    "\n",
    "- [Getting started](#Getting-started) where we'll install JupyterLab Desktop coding environment\n",
    "- [Expressions and variables](#Expressions-and-variables): basic building blocks of any program.\n",
    "- [Getting comfortable with Python](#Getting-comfortable-with-Python): looking around and getting help.\n",
    "\n",
    "- [Lists and for loops](#Lists-and-for-loops): repeating steps and procedures.\n",
    "- [Functions](#Functions) are reusable code blocks.\n",
    "\n",
    "- [Other data structures](#Other-data-structures): sets, tuples, etc.\n",
    "  - [Boolean variables and conditional statements](#Boolean-variables-and-conditional-statements): conditional code execution.\n",
    "  - [Dictionaries](#Dictionaries) are a versatile way to store data.\n",
    "\n",
    "- [Objects and classes](#Objects-and-classes): creating custom objects.\n",
    "- [Python grammar and syntax](#Python-grammar-and-syntax): review of all the syntax.\n",
    "- [Python libraries and modules](#Python-libraries-and-modules): learn why people say Python comes with \"batteries included\"\n",
    "\n",
    "After you're done with this tutorial, you'll be ready to read the other two:\n",
    "- Pandas (see [pandas_tutorial.ipynb](./pandas_tutorial.ipynb))\n",
    "- Seaborn (see [seaborn_tutorial.ipynb](./seaborn_tutorial.ipynb))  \n",
    "\n",
    "It's important for you to try solving the exercises that you'll encounter as you read along. The exercises are a great way to practice what you've been learning."
   ]
  },
  {
   "cell_type": "markdown",
   "id": "fb80bd30-c442-4477-aa9b-dc20279a4e36",
   "metadata": {
    "tags": []
   },
   "source": [
    "# Getting started\n",
    "\n",
    "\n",
    "## Installing JupyterLab Desktop\n",
    "\n",
    "JupyterLab is a platform for interactive computing that makes it easy to run Python code.\n",
    "You can run JupyterLab on your local computer or on a remote server (mybinder or colab).\n",
    "JupyterLab is based on a notebook interface that allows you to mix text, code, and graphics,\n",
    "which makes it the perfect tool for learning Python.\n",
    "\n",
    "JupyterLab Desktop is a convenient all-in-one application that you can install on your computer to take advantage of everything Python has to offer for data analysis and statistics.\n",
    "You can download JupyterLab Desktop from the following page on GitHub:\n",
    "https://github.com/jupyterlab/jupyterlab-desktop#jupyterlab-desktop\n",
    "\n",
    "Choose the download link for your operating system.\n",
    "\n",
    "% TODO: mention need to choose \"Bundled Python environment\" during install steps\n",
    "% TODO: add instructions/screenshots for each operating system\n",
    "\n",
    "\n",
    "\n",
    "After the installation completes and you launch the JupyterLab application,\n",
    "you should see a launcher window similar to the one shown below:\n",
    "\n",
    "![](./attachments/jupyter-lab-desktop-launcher.png)\n",
    "\n",
    "The JupyterLab interface with the **File browser** shown in the left sidebar.\n",
    "The box labelled (1) indicates the current working directory.\n",
    "The box labelled (2) shows the list of files in the current directory.\n",
    "The Launcher tab allows us to create a new notebooks, by clicking the button labelled (3).\n",
    "\n",
    "\n",
    "Use the **Python 3 (ipykernel)** button under the to create a new Python 3 notebook,\n",
    "as shown in the above screenshot.\n",
    "A notebook consists of a sequence of cells,\n",
    "similar to how a text document consists of a series of paragraphs.\n",
    "The notebook you created currently consists of a single empty code cell,\n",
    "which is ready to accept Python commands.\n",
    "Type in the expression `2 + 3` (without the quotes) into the cell\n",
    "then press SHIFT+ENTER to run the code.\n",
    "You should see the result of the calculation displayed on a new line immediately below the input.\n",
    "The cursor will automatically move to a new input cell,\n",
    "as shown in the screenshot below.\n",
    "\n",
    "![](./attachments/jupyter-lab-first-notebook.png)\n",
    "\n",
    "A notebook with a code cell and its output labelled (1).\n",
    "The cursor is currently in the cell labelled (2).\n",
    "The the label (3) tells us notebook filename is `Untitled.ipynb`.\n",
    "The buttons labelled (4) control the notebook execution:\n",
    "**run**, **stop**, **restart**, and **run all**.\n",
    "\n",
    "\n",
    "The notebook interface offers many useful features,\n",
    "but for now,\n",
    "I just want you to think of notebooks as an easy way to run Python code.\n",
    "Notebooks will you to try Python commands interactively,\n",
    "which is the best way to learn!\n",
    "Try some Python commands to get a feeling of how notebooks work.\n",
    "Remember you can click the play button in the toolbar\n",
    "(the first button in the box labelled (4) in the above screenshot)\n",
    "or press the keyboard shortcutSHIFT+ENTER to run the code.\n",
    "\n",
    "I encourage you to play around with the notebook interface,\n",
    "in particular the buttons labeled (3) and (4).\n",
    "Try clicking on the notebook execution control buttons (4) to see what they do.\n",
    "The play button is equivalent to pressing SHIFT + ENTER.\n",
    "The stop button can be used to interrupt a computation that takes too long.\n",
    "The run-all button are useful when you want to re-run all the cells from scratch.\n",
    "This is my favourite button!\n",
    "I use it often to recompute all the sequence of Python commands in the current notebook,\n",
    "from top to bottom.\n",
    "\n",
    "\n",
    "**Alternatives**: If you don't want to install anything on your computer yet, you have two other options for playing with this notebook:\n",
    "- Run JupyterLab instance in the cloud via the mybinder links. Click [here](https://mybinder.org/v2/gh/minireference/noBSstatsnotebooks/main?urlpath=tree/./tutorials/python_tutorial.ipynb) to launch an interactive notebook of this tutorial.\n",
    "- You can also enable the \"Live Code\" feature while reading this tutorial  online at [noBSstats.com](https://nobsstats.com/tutorials/python_tutorial.html). Use the rocket button in the top right, and choose the `Live Code` option to make all the cells in this notebook interactive."
   ]
  },
  {
   "cell_type": "markdown",
   "id": "bef4b786-c7ab-4a5c-822a-0dea036071c1",
   "metadata": {},
   "source": [
    "### Code cells contain Python commands\n",
    "\n",
    "The Python command prompt is where you enter Python commands.\n",
    "Each of the code cells in this notebook is a command prompt that allows you to enter Python commands and \"run\" them by pressing **SHIFT + ENTER**,\n",
    "or by clicking the play button in the toolbar.\n",
    "\n",
    "For example,\n",
    "you can make Python compute the sum of two numbers by entering `2+3` in a code cell,\n",
    "then pressing **SHIFT + ENTER**."
   ]
  },
  {
   "cell_type": "code",
   "execution_count": 164,
   "id": "aee41fcb-590e-46c1-9a78-a42123e8039f",
   "metadata": {},
   "outputs": [
    {
     "data": {
      "text/plain": [
       "5"
      ]
     },
     "execution_count": 164,
     "metadata": {},
     "output_type": "execute_result"
    }
   ],
   "source": [
    "2 + 3"
   ]
  },
  {
   "cell_type": "markdown",
   "id": "c04a2057-1046-4078-a193-3e0d31c28493",
   "metadata": {},
   "source": [
    "In the above code cell, the input is the expression `2 + 3` (the sum of two integers),\n",
    "and the output `5` is printed below.\n",
    "\n",
    "Let's now compute a more complicated math expression $(1+4)^2 - 3$,\n",
    "which is equivalent to the following Python expression:"
   ]
  },
  {
   "cell_type": "code",
   "execution_count": 168,
   "id": "5a6aed0f-42af-4d97-948e-d5ead5a03dcc",
   "metadata": {},
   "outputs": [
    {
     "data": {
      "text/plain": [
       "22"
      ]
     },
     "execution_count": 168,
     "metadata": {},
     "output_type": "execute_result"
    }
   ],
   "source": [
    "(1+4)**2 - 3"
   ]
  },
  {
   "cell_type": "markdown",
   "id": "719096a2-490a-45e1-85ba-f7503a384f0b",
   "metadata": {},
   "source": [
    "The Python syntax for math operations is identical to the notation we use in math:\n",
    "addition is `+`, subtraction is `-`, multiplication is `*`, division is `/`.\n",
    "The syntax for writing exponents is a little unusual, using two asterisks: $a^n$ = `a**n`."
   ]
  },
  {
   "cell_type": "markdown",
   "id": "4a483666-7524-47bc-8c37-5ade0bf6baa3",
   "metadata": {},
   "source": [
    "When you run a code cell,\n",
    "you're telling the computer to **evaluate the Python instructions** it contains.\n",
    "Python then prints the result of the expression in the output cell.\n",
    "\n",
    "Running a code cell is similar to using the EQUALS button on the calculator:\n",
    "whatever math expression you entered, the calculator will compute its value and display it as the output.\n",
    "The process is identical when you execute some Python code,\n",
    "but you're allowed to input multiple lines of commands at once.\n",
    "The computer will execute the lines of code, one by one, in the order it sees them.\n",
    "\n",
    "The result of the final calculation in the cell gets printed as the output of that cell. You can easily change the contents of any input cell, and re-run it to observe a new output. This interactivity makes it easy to explore the code examples."
   ]
  },
  {
   "cell_type": "markdown",
   "id": "7cc40c9c-1d3d-4afe-b3d4-24e770ee36b1",
   "metadata": {},
   "source": [
    "#### Your turn to try this!\n",
    "\n",
    "Try typing in some Python code expression in this cell, then run it by pressing **SHIFT + ENTER** or using the Play button."
   ]
  },
  {
   "cell_type": "code",
   "execution_count": null,
   "id": "4c339f33-f854-4b32-871c-25348fcf9937",
   "metadata": {},
   "outputs": [],
   "source": []
  },
  {
   "cell_type": "markdown",
   "id": "ff14e218-8887-4ee3-99d3-ad5203ca75dc",
   "metadata": {},
   "source": [
    " "
   ]
  },
  {
   "cell_type": "markdown",
   "id": "79f306e8-dd3a-4db5-94a8-1a4aa0ba4102",
   "metadata": {},
   "source": [
    "<a id=\"vars_and_expr\"></a>\n",
    "# Expressions and variables\n",
    "\n",
    "Python programming involves computing Python expressions and manipulating the data stored in variables.\n",
    "It's time to learn about Python expressions and variables,\n",
    "starting with expressions."
   ]
  },
  {
   "cell_type": "markdown",
   "id": "665e4567-4fc1-4e0e-b49a-38ac3a543d2d",
   "metadata": {},
   "source": [
    "## Python expressions\n",
    "\n",
    "Let's start by showing a simple example of a Python expression,\n",
    "which computes the sum of two integers."
   ]
  },
  {
   "cell_type": "code",
   "execution_count": 173,
   "id": "5a9ba864-b931-4b4f-9eba-853c528f9067",
   "metadata": {},
   "outputs": [
    {
     "data": {
      "text/plain": [
       "5"
      ]
     },
     "execution_count": 173,
     "metadata": {},
     "output_type": "execute_result"
    }
   ],
   "source": [
    "2+3"
   ]
  },
  {
   "cell_type": "markdown",
   "id": "3446e3c4-1e0e-4543-b2b8-2abb75781ca7",
   "metadata": {},
   "source": [
    "In a notebook, the last expression in the code cell will be printed automatically.\n",
    "\n",
    "If you want to print the value of some variable, we normally need to use the `print` function (to be discussed later), but when working in a notebook interface, we don't need to do that since \n",
    "the last statement in each code block gets printed automatically."
   ]
  },
  {
   "cell_type": "markdown",
   "id": "13e413d7-ea52-4324-ae42-5dca9fc56a76",
   "metadata": {},
   "source": [
    "Here are two examples that involve list expressions and function calls (to be discussed later)."
   ]
  },
  {
   "cell_type": "code",
   "execution_count": 174,
   "id": "82a01e67-d23b-49f7-b29f-68fae23353c7",
   "metadata": {},
   "outputs": [
    {
     "data": {
      "text/plain": [
       "[1, 2, 3]"
      ]
     },
     "execution_count": 174,
     "metadata": {},
     "output_type": "execute_result"
    }
   ],
   "source": [
    "[1, 2, 3]"
   ]
  },
  {
   "cell_type": "code",
   "execution_count": 177,
   "id": "06933255-a951-4e61-a9d2-a45f24eb1abb",
   "metadata": {},
   "outputs": [
    {
     "data": {
      "text/plain": [
       "4"
      ]
     },
     "execution_count": 177,
     "metadata": {},
     "output_type": "execute_result"
    }
   ],
   "source": [
    "len([1, 2, 3, 6])"
   ]
  },
  {
   "cell_type": "code",
   "execution_count": 172,
   "id": "1979f586-2a90-4990-8d5b-5d5554970eec",
   "metadata": {},
   "outputs": [
    {
     "data": {
      "text/plain": [
       "6"
      ]
     },
     "execution_count": 172,
     "metadata": {},
     "output_type": "execute_result"
    }
   ],
   "source": [
    "sum([1, 2, 3])"
   ]
  },
  {
   "cell_type": "markdown",
   "id": "a6523231-6710-45dc-97ab-86b8fae59245",
   "metadata": {},
   "source": [
    "If you've every used a spreadsheet software before,\n",
    "you can think of the Python function `sum(...)`\n",
    "as the equivalent of the spreadsheet function `SUM(...)`."
   ]
  },
  {
   "cell_type": "code",
   "execution_count": null,
   "id": "4ed5ceb7-af16-4a02-9cf1-9846fc11b25f",
   "metadata": {},
   "outputs": [],
   "source": []
  },
  {
   "cell_type": "markdown",
   "id": "84b5250b-e095-4c88-af4b-99d007d0e1e4",
   "metadata": {},
   "source": [
    "## Variables\n",
    "\n",
    "Similar to variables in math, a variable in Python is a convenient name we use to refer to any value: a constant, the input to a function `x`, the output of a function `y`, or any other intermediate value.\n",
    "We use the assignment operator `=` to store values into variables."
   ]
  },
  {
   "cell_type": "markdown",
   "id": "04159e5c-6062-420b-9186-a6dd81127208",
   "metadata": {
    "tags": []
   },
   "source": [
    "### The assignment operator"
   ]
  },
  {
   "cell_type": "markdown",
   "id": "da99271c-dea8-453e-99c0-87219dad6684",
   "metadata": {},
   "source": [
    "In the above code examples,\n",
    "we computed the values of various expressions,\n",
    "but we didn't do anything with the result.\n",
    "The more common pattern in Python,\n",
    "is to **store** the result of an expression into some variable.\n",
    "\n",
    "To store the result of an expression in a variable,\n",
    "we use the assignment operator `=` as follows, from left to right:\n",
    "\n",
    "* we start by writing the name of the variable\n",
    "* then, we add the symbol `=` (which stands for **assign to**)\n",
    "* finally, we write an expression for the value we want to store in the variable\n",
    "\n",
    "For example, here is the code that computes the value of the expression `2+3`\n",
    "and stores the result in the variable `x`."
   ]
  },
  {
   "cell_type": "code",
   "execution_count": 9,
   "id": "2c31a7d6-c751-4151-8e07-69833bbdbe95",
   "metadata": {},
   "outputs": [],
   "source": [
    "x = 2+3"
   ]
  },
  {
   "cell_type": "markdown",
   "id": "2eba69d4-b7e3-46e9-ab60-62addf264ee6",
   "metadata": {},
   "source": [
    "This expression didn't print any output: it just assigned value `5` to a the variable `x`."
   ]
  },
  {
   "cell_type": "markdown",
   "id": "5f831b20-c8c2-4fb4-a562-1f9a67b134f9",
   "metadata": {},
   "source": [
    "Note the meaning of `=` is not the same as in math:\n",
    "we're not writing an equation, \n",
    "but assigning the contents of `x`.\n",
    "\n",
    "Here are some other, equivalent ways to describe the assignment operation statement:\n",
    "\n",
    "- Store the result of `2+3` into the variable `x`.\n",
    "- Put `5` into `x`.\n",
    "- Save the value `5` into the memory location named `x`.\n",
    "- Define `x` to be equal to `5`.\n",
    "- Set `x` to `5`.\n",
    "- Record the result of `2+3` under the name `x`.\n",
    "- Let `x` be equal to `5`."
   ]
  },
  {
   "cell_type": "markdown",
   "id": "fc3e1bd0-852f-445f-bead-f637bd11cea7",
   "metadata": {},
   "source": [
    "To display the contents of the variable `x`,\n",
    "we can specify its name on the last line of a code cell."
   ]
  },
  {
   "cell_type": "code",
   "execution_count": 10,
   "id": "25c39e4c-4134-4d3f-a328-5bfd72e8fab8",
   "metadata": {},
   "outputs": [
    {
     "data": {
      "text/plain": [
       "5"
      ]
     },
     "execution_count": 10,
     "metadata": {},
     "output_type": "execute_result"
    }
   ],
   "source": [
    "x"
   ]
  },
  {
   "cell_type": "markdown",
   "id": "b8160009-dd87-411a-a040-68b33c7d82ad",
   "metadata": {},
   "source": [
    "We often combine the \"assign `2+3` to `x`\" and the \"display `x`\" commands into a single code cell,\n",
    "as shown below."
   ]
  },
  {
   "cell_type": "code",
   "execution_count": 11,
   "id": "9db5fbc6-7464-4a49-9f4c-fbc28aa8d8f4",
   "metadata": {},
   "outputs": [
    {
     "data": {
      "text/plain": [
       "5"
      ]
     },
     "execution_count": 11,
     "metadata": {},
     "output_type": "execute_result"
    }
   ],
   "source": [
    "x = 2+3\n",
    "x"
   ]
  },
  {
   "cell_type": "markdown",
   "id": "3ca1a5e0-34a9-4a92-bd14-99956747ef32",
   "metadata": {},
   "source": [
    "**Exercise 1**: Imitate the above statements, to create another variable `y` that contains the value of the expression $(1+4)^2 - 3$, then display the contents of `y`."
   ]
  },
  {
   "cell_type": "code",
   "execution_count": 12,
   "id": "979eec9d-eaaa-405e-9a9f-32a3ba4c3a50",
   "metadata": {},
   "outputs": [],
   "source": [
    "# put you answer in this code cell\n"
   ]
  },
  {
   "cell_type": "code",
   "execution_count": 13,
   "id": "04f3ebbf-02aa-44dd-9e7b-b767e088ad45",
   "metadata": {},
   "outputs": [
    {
     "data": {
      "text/plain": [
       "22"
      ]
     },
     "execution_count": 13,
     "metadata": {},
     "output_type": "execute_result"
    }
   ],
   "source": [
    "#@titlesolution\n",
    "y = (1+4)**2 - 3\n",
    "y"
   ]
  },
  {
   "cell_type": "markdown",
   "id": "25cc03f3-09ca-41b5-9f5f-10045261da51",
   "metadata": {},
   "source": [
    "So to summarize,\n",
    "the syntax of an assignment statement is as follows:\n",
    "\n",
    "```Python\n",
    "<place> = <some expression>\n",
    "```\n",
    "\n",
    "The assignment operator (`=`) is used to store the value of the expression `<some expression>` into the memory location `<place>`, which is usually a variable name, but later on we'll learn how to store values inside containers like lists and dictionaries."
   ]
  },
  {
   "cell_type": "code",
   "execution_count": null,
   "id": "74a358b5-470f-4a61-9e22-2019e57a0f7c",
   "metadata": {},
   "outputs": [],
   "source": []
  },
  {
   "cell_type": "code",
   "execution_count": null,
   "id": "55277f47-36cc-44bb-8a11-5b752bc8413d",
   "metadata": {},
   "outputs": [],
   "source": []
  },
  {
   "cell_type": "markdown",
   "id": "6a634670-2ddd-4bc5-acfb-80017c02b9ce",
   "metadata": {
    "tags": []
   },
   "source": [
    "## Multi-line expressions (Python code blocks)\n",
    "\n",
    "Let's now look at some longer code examples that show multiple steps of calculations,\n",
    "and intermediate values."
   ]
  },
  {
   "cell_type": "markdown",
   "id": "31d09853-6ddf-4633-afd2-ac3224b15408",
   "metadata": {},
   "source": [
    "### Numerical expressions\n",
    "\n",
    "\n",
    "#### Example: Number of seconds in one week\n",
    "\n",
    "Let's say we need to find how many seconds there are in one week.\n",
    "We can do this using multi-step Python calculation,\n",
    "using the fact that there are $60$ seconds in one minute,\n",
    "$60$ minutes in one hour, \n",
    "and $24$ hours in one day,\n",
    "and $7$ days in one week."
   ]
  },
  {
   "cell_type": "code",
   "execution_count": 14,
   "id": "7ede33a7-e8d8-4c4f-b99e-33c60b79906c",
   "metadata": {},
   "outputs": [
    {
     "data": {
      "text/plain": [
       "604800"
      ]
     },
     "execution_count": 14,
     "metadata": {},
     "output_type": "execute_result"
    }
   ],
   "source": [
    "secs_in_1min = 60 \n",
    "secs_in_1hour = secs_in_1min * 60 \n",
    "secs_in_1day = secs_in_1hour * 24\n",
    "secs_in_1week = secs_in_1day * 7\n",
    "secs_in_1week"
   ]
  },
  {
   "cell_type": "markdown",
   "id": "99badcda-6d2a-420a-87bf-a6e173b39c3f",
   "metadata": {},
   "source": [
    "Note we use the underscore `_` as part of the variable name, which is a common pattern in Python code. The variable name `some_name` is easier to read than `somename`."
   ]
  },
  {
   "cell_type": "markdown",
   "id": "460c613f-6e81-4f43-82de-9617566b7259",
   "metadata": {},
   "source": [
    "**Exercise 2**: Johnny currently weights 90 kg, and wants to know his weight in pounds `lbs`. One kilogram is equivalent to 2.2 lbs.\n",
    "Write the Python expression that computes Johnny's weight in pounds."
   ]
  },
  {
   "cell_type": "code",
   "execution_count": 15,
   "id": "f86b43af-81dd-45f3-bcdd-89051ba33dfb",
   "metadata": {},
   "outputs": [],
   "source": [
    "weight_in_kg = 107\n",
    "weight_in_lb = ... # replace ... with your answer"
   ]
  },
  {
   "cell_type": "code",
   "execution_count": 16,
   "id": "8c99ac7e-1037-4627-8108-6dd256e31f6c",
   "metadata": {},
   "outputs": [
    {
     "data": {
      "text/plain": [
       "198.00000000000003"
      ]
     },
     "execution_count": 16,
     "metadata": {},
     "output_type": "execute_result"
    }
   ],
   "source": [
    "#@titlesolution\n",
    "weight_in_kg = 107\n",
    "weight_in_lb = 2.2 * weight_in_kg\n",
    "weight_in_lb"
   ]
  },
  {
   "cell_type": "markdown",
   "id": "30911d22-dc5f-4946-940b-77da250a6db0",
   "metadata": {},
   "source": [
    "**Exercise 3**: You're buying something that costs 57.0 dollars,\n",
    "and the local government imposes a 10\\% tax on your purchase.\n",
    "Calculate the total you'll have to pay, which includes the cost and 10\\% taxes."
   ]
  },
  {
   "cell_type": "code",
   "execution_count": 17,
   "id": "237560d6-99f1-4ae1-a24f-896bbe07b26d",
   "metadata": {},
   "outputs": [],
   "source": [
    "cost = 57.00\n",
    "taxes = ... # replace ... with your answer\n",
    "total = ... # replace ... with your answer"
   ]
  },
  {
   "cell_type": "code",
   "execution_count": 18,
   "id": "8ffc6245",
   "metadata": {},
   "outputs": [
    {
     "data": {
      "text/plain": [
       "62.7"
      ]
     },
     "execution_count": 18,
     "metadata": {},
     "output_type": "execute_result"
    }
   ],
   "source": [
    "#@titlesolution\n",
    "cost = 57.00\n",
    "taxes = 0.10 * cost\n",
    "total = cost + taxes\n",
    "total"
   ]
  },
  {
   "cell_type": "markdown",
   "id": "3037b7cf",
   "metadata": {},
   "source": [
    "**Exercise 4**:\n",
    "The formula for converting a temperature from Celsius to temperature in Fahrenheit\n",
    "is given by $F = \\tfrac{9}{5} \\cdot C  + 32$.\n",
    "Given the variable `C` which specifies the current temperature in Celsius,\n",
    "write the expression that calculates the current temperature in Fahrenheit\n",
    "and store it in the variable `F`."
   ]
  },
  {
   "cell_type": "code",
   "execution_count": 19,
   "id": "3210ba16-950d-4120-87cb-5327aeb40e82",
   "metadata": {},
   "outputs": [],
   "source": [
    "C = 20\n",
    "# F = ... # (un-comment and replace ... with the correct expression)"
   ]
  },
  {
   "cell_type": "markdown",
   "id": "c3046415-7507-476b-8188-a6fdbb5cc33b",
   "metadata": {},
   "source": [
    "Test: when `C = 100`, your answer `F` should be `212`."
   ]
  },
  {
   "cell_type": "code",
   "execution_count": 20,
   "id": "3ff6d575-93f4-41b4-b433-2c71938f7cfc",
   "metadata": {},
   "outputs": [
    {
     "data": {
      "text/plain": [
       "68.0"
      ]
     },
     "execution_count": 20,
     "metadata": {},
     "output_type": "execute_result"
    }
   ],
   "source": [
    "#@titlesolution\n",
    "C = 20\n",
    "F = (C * 9/5) + 32\n",
    "F"
   ]
  },
  {
   "cell_type": "code",
   "execution_count": null,
   "id": "e06e36e4-ce90-4317-a044-456e7259167b",
   "metadata": {},
   "outputs": [],
   "source": []
  },
  {
   "cell_type": "code",
   "execution_count": null,
   "id": "b191c826-7a43-4147-b94c-86924d56b15b",
   "metadata": {},
   "outputs": [],
   "source": []
  },
  {
   "cell_type": "markdown",
   "id": "e62017e4-6806-4b46-a4cc-d8330202a0d7",
   "metadata": {},
   "source": [
    "## Variable types"
   ]
  },
  {
   "cell_type": "markdown",
   "id": "e8ca000e-284f-4dc8-996b-1ecf3462681b",
   "metadata": {
    "tags": []
   },
   "source": [
    "### Most common variables types\n",
    "\n",
    "There are multiple types of variables in Python:\n",
    "\n",
    "- **int** - integers ex: `34`,`65`, `78`, `-4`, etc. (rougly equivalent to $\\mathbb{Z}$)\n",
    "- **float** - ex: `4.6`,`78.5`, `1e-3` (full name is \"floating point number\"; similar to $\\mathbb{R}$ but only with finite precision)\n",
    "- **bool** - a Boolean truth value with only two choices: `True` or `False`.\n",
    "- **string** - text content like `\"Hello\"`, `\"Hello everyone\"`.\n",
    "  Text strings are denoted using either double quotes `\"Hi\"` or single quotes `'Hi'`.\n",
    "- **list** a sequence of values like `[61, 79, 98, 72]`.\n",
    "  The beginning and the end of the list are denoted by the brackets `[` and `]`, and its elements are separated by commas.\n",
    "- Other types include **string**, **dictionary**, **tuples**, **sets**, **functions**, **objects**, etc. These are other useful Python building blocks which we'll talk about in later sections.\n",
    "<!-- \n",
    "- **dictionary** a collection of key-value pairs.\n",
    "  Each key is associated with a value. For example\n",
    "  ```Python\n",
    "  { \"first_name\": \"Julie\",\n",
    "    \"last_name\": \"Tremblay\",\n",
    "    \"score\": 98 }\n",
    "  ```\n",
    "  Dictionaries are denoted by curly braces `{` and `}` inside which we place `\"key\": value`, pairs separated by commas. Note we can write the dictionary as multi-line expression,\n",
    "  which helps with readability.\n",
    "  In the dictionary example above, the keys are `\"first_name\"`, `\"last_name\"`, and `\"score\"`,\n",
    "  and their associated values are `\"Julie\"`, `\"Tremblay\"` (stings), and `98` (an int).\n",
    "-->\n"
   ]
  },
  {
   "cell_type": "markdown",
   "id": "f681849b-5910-474d-8ca0-08d8baf87b0d",
   "metadata": {},
   "source": [
    "Let's look at some examples with variables of different types:\n",
    "an `int`eger, a `float`ing point number, a `bool`ean value, a `str`ing,\n",
    "a list, and a `dict`ionary."
   ]
  },
  {
   "cell_type": "code",
   "execution_count": 21,
   "id": "cf6eba8f",
   "metadata": {},
   "outputs": [],
   "source": [
    "score = 98\n",
    "average = 77.5\n",
    "above_the_average = True\n",
    "message = \"Hello everyone\"\n",
    "scores = [61, 79, 98, 72]"
   ]
  },
  {
   "cell_type": "markdown",
   "id": "8beec74e-8d5e-41bf-9a17-aa2c99aa6abd",
   "metadata": {},
   "source": [
    "Running the above code cell doesn't print anything,\n",
    "because we have only defined variables: `score`, `average`, `above_the_average`, `message`, `scores`, and `profile`, but not displayed any of them."
   ]
  },
  {
   "cell_type": "markdown",
   "id": "4578b957-6946-4db2-9a85-88decf12d0fa",
   "metadata": {},
   "source": [
    "To display the value of any of these variables,\n",
    "we can use it's name on the command line.\n",
    "Let's see the contents the `score` variable:"
   ]
  },
  {
   "cell_type": "code",
   "execution_count": 22,
   "id": "298f5e87-1588-4d1d-936f-f416725ec033",
   "metadata": {},
   "outputs": [
    {
     "data": {
      "text/plain": [
       "98"
      ]
     },
     "execution_count": 22,
     "metadata": {},
     "output_type": "execute_result"
    }
   ],
   "source": [
    "score"
   ]
  },
  {
   "cell_type": "markdown",
   "id": "406b2440-a0b5-450e-903c-fd9707b865b0",
   "metadata": {},
   "source": [
    "The function `type` tells you the type of any variable, meaning what kind of number or object it is."
   ]
  },
  {
   "cell_type": "code",
   "execution_count": 23,
   "id": "727080f6-ea61-45e1-99de-1ae8e6a31969",
   "metadata": {},
   "outputs": [
    {
     "data": {
      "text/plain": [
       "int"
      ]
     },
     "execution_count": 23,
     "metadata": {},
     "output_type": "execute_result"
    }
   ],
   "source": [
    "type(score)"
   ]
  },
  {
   "cell_type": "markdown",
   "id": "81534283-5651-47b3-8551-2b37855ab41c",
   "metadata": {},
   "source": [
    "In this case, value of the variable `score` is `98` and it is of type **int** (integer)."
   ]
  },
  {
   "cell_type": "code",
   "execution_count": 24,
   "id": "131ade02-b0c2-4bad-b223-4f428bfd108f",
   "metadata": {},
   "outputs": [],
   "source": [
    "## ALT. display both value and type on the same line (as a tuple)\n",
    "# score, type(score)"
   ]
  },
  {
   "cell_type": "markdown",
   "id": "79b29d0c-dc4c-43b6-804d-d8da3c190023",
   "metadata": {},
   "source": [
    "Let's now look at the value and type of the variable `average`:"
   ]
  },
  {
   "cell_type": "code",
   "execution_count": 25,
   "id": "8b6c4044-8421-40c6-a8ca-c3b744373ab8",
   "metadata": {},
   "outputs": [
    {
     "data": {
      "text/plain": [
       "77.5"
      ]
     },
     "execution_count": 25,
     "metadata": {},
     "output_type": "execute_result"
    }
   ],
   "source": [
    "average"
   ]
  },
  {
   "cell_type": "code",
   "execution_count": 26,
   "id": "a3fd20c2-c3a5-4e4f-84bc-c2440ebb19f4",
   "metadata": {},
   "outputs": [
    {
     "data": {
      "text/plain": [
       "float"
      ]
     },
     "execution_count": 26,
     "metadata": {},
     "output_type": "execute_result"
    }
   ],
   "source": [
    "type(average)"
   ]
  },
  {
   "cell_type": "markdown",
   "id": "cfe62b3a-2d80-4b26-aab5-d1518d22b1e1",
   "metadata": {},
   "source": [
    "**Exercise**: try displaying the contents of the other variables, and their type"
   ]
  },
  {
   "cell_type": "code",
   "execution_count": null,
   "id": "089a1e45-5d10-43a0-a66f-d06492af0b6f",
   "metadata": {},
   "outputs": [],
   "source": []
  },
  {
   "cell_type": "code",
   "execution_count": 27,
   "id": "6fe84d2f",
   "metadata": {},
   "outputs": [
    {
     "data": {
      "text/plain": [
       "list"
      ]
     },
     "execution_count": 27,
     "metadata": {},
     "output_type": "execute_result"
    }
   ],
   "source": [
    "#@titlesolution\n",
    "above_the_average\n",
    "type(above_the_average)\n",
    "\n",
    "message\n",
    "type(message)\n",
    "\n",
    "scores\n",
    "type(scores)"
   ]
  },
  {
   "cell_type": "code",
   "execution_count": null,
   "id": "5605f5be-457b-4c0c-8cb5-f332508c9896",
   "metadata": {},
   "outputs": [],
   "source": []
  },
  {
   "cell_type": "markdown",
   "id": "bbc3fdf6-5935-4c67-8149-6ef89b95726a",
   "metadata": {},
   "source": [
    "# Getting comfortable with Python\n",
    "\n",
    "Python is a \"civilized\" language,\n",
    "which means it provides lots of help tools to make learning the language easy for beginners. We'll now learn about some of these tools including,\n",
    "\"doc strings\" (help menus) and introspection tools for looking at what attributes and methods are available to use.\n",
    "\n",
    "This combination of tools allows programmers to answer common questions about Python objects and functions without leaving the JupyterLab environment. Basically, in Python all the necessary info is accessible directly in the coding environment.\n",
    "For example, at the end of this section you'll be able to answer the following questions on your own:\n",
    "\n",
    "- How many and what type of arguments does the function `print` expect?\n",
    "- What kind of optional, keyword arguments does the function `print` accept?\n",
    "- What attributes and methods does the Python object `obj` have?\n",
    "- What variables and functions are defined in the current namespace?\n",
    "\n",
    "More than 50% of any programmer's time is spent looking at help info and trying to understand the variables, functions, objects, and methods they are working with, so it's important for you to learn these meta-skills."
   ]
  },
  {
   "cell_type": "markdown",
   "id": "b6c8cb80-f7d6-4802-a447-495b5272c09f",
   "metadata": {
    "tags": []
   },
   "source": [
    "## Showing the help info\n",
    "\n",
    "Every Python object has a \"doc string\" associated with it, that provides the helpful information about the object.\n",
    "There are three equivalent ways to view these docstring of any Python object `obj` (value, variable, function, module, etc.):\n",
    "\n",
    "- `help(obj)`: prints the docstring of the Python object `obj`\n",
    "- `obj?`\n",
    "- SHIFT + TAB: while cursor on top of Python variable or function \n",
    "\n",
    "\n",
    "There are also other methods for getting more detailed,\n",
    "as part of the menu `obj??`, `%psource obj`, `%pdef obj`,\n",
    "but you won't need this for now."
   ]
  },
  {
   "cell_type": "markdown",
   "id": "a003d0e2-f4ff-42c2-a8d1-e534f118cd4f",
   "metadata": {},
   "source": [
    "### Example: learning about the `print` function\n",
    "\n",
    "Let's say you're interested to know the options available for the function `print`,\n",
    "which we use to print Python expressions."
   ]
  },
  {
   "cell_type": "code",
   "execution_count": 28,
   "id": "14bcb38d-ba4a-46fe-8d48-4a635a674aaa",
   "metadata": {},
   "outputs": [
    {
     "data": {
      "text/plain": [
       "<function print>"
      ]
     },
     "execution_count": 28,
     "metadata": {},
     "output_type": "execute_result"
    }
   ],
   "source": [
    "# put cursor in the middle of function and press SHIFT+TAB\n",
    "print"
   ]
  },
  {
   "cell_type": "markdown",
   "id": "5880d053-54ba-454d-bf30-857d4bf0282b",
   "metadata": {},
   "source": [
    "You know this function accepts a variable and prints it,\n",
    "but what other keywords arguments does it take?"
   ]
  },
  {
   "cell_type": "markdown",
   "id": "f8dcf334-2304-48d6-a59b-11ddc66764c3",
   "metadata": {},
   "source": [
    "Use the help() function on `print`"
   ]
  },
  {
   "cell_type": "code",
   "execution_count": 29,
   "id": "b9330d95-c29e-4fa6-a176-328808ab74a1",
   "metadata": {},
   "outputs": [
    {
     "name": "stdout",
     "output_type": "stream",
     "text": [
      "Help on built-in function print in module builtins:\n",
      "\n",
      "print(...)\n",
      "    print(value, ..., sep=' ', end='\\n', file=sys.stdout, flush=False)\n",
      "    \n",
      "    Prints the values to a stream, or to sys.stdout by default.\n",
      "    Optional keyword arguments:\n",
      "    file:  a file-like object (stream); defaults to the current sys.stdout.\n",
      "    sep:   string inserted between values, default a space.\n",
      "    end:   string appended after the last value, default a newline.\n",
      "    flush: whether to forcibly flush the stream.\n",
      "\n"
     ]
    }
   ],
   "source": [
    "help(print)"
   ]
  },
  {
   "cell_type": "markdown",
   "id": "4d4e163f-a569-4c67-a7ff-e878fdbf5a42",
   "metadata": {},
   "source": [
    "Reading the doc string of the `print` function suggests,\n",
    "we see `...` for the type of inputs accepted,\n",
    "which means `print` accepts multiple arguments.\n",
    "\n",
    "Here is an example that prints a string, an integer, a floating point number, and a list on the same line."
   ]
  },
  {
   "cell_type": "code",
   "execution_count": 30,
   "id": "183134f0-0639-4e71-988e-623887f393a2",
   "metadata": {},
   "outputs": [],
   "source": [
    "# print?"
   ]
  },
  {
   "cell_type": "code",
   "execution_count": 31,
   "id": "ed5f3657-7b0a-4f88-b0b0-c6e8c40d2991",
   "metadata": {},
   "outputs": [],
   "source": [
    "# print(print.__doc__)"
   ]
  },
  {
   "cell_type": "markdown",
   "id": "ca994386-bf1d-4116-a8c5-ac48168f23b5",
   "metadata": {},
   "source": [
    "#### Application: changing the separator when printing multiple values\n",
    "\n",
    "We can choose a different separator between arguments of the `print` function\n",
    "by specifying the value for the keyword argument `sep`."
   ]
  },
  {
   "cell_type": "code",
   "execution_count": 32,
   "id": "f6ed0b7c-1dad-42c1-8f93-ef4a674d8689",
   "metadata": {},
   "outputs": [
    {
     "name": "stdout",
     "output_type": "stream",
     "text": [
      "3 2.3\n"
     ]
    }
   ],
   "source": [
    "x = 3\n",
    "y = 2.3\n",
    "print(x, y)"
   ]
  },
  {
   "cell_type": "code",
   "execution_count": 33,
   "id": "c205cfcb-a425-4fd9-90e8-ab3c2c18e702",
   "metadata": {},
   "outputs": [
    {
     "name": "stdout",
     "output_type": "stream",
     "text": [
      "3 --- 2.3\n"
     ]
    }
   ],
   "source": [
    "print(x, y, sep=\" --- \")"
   ]
  },
  {
   "cell_type": "code",
   "execution_count": null,
   "id": "73f5ce60-305d-4d11-9e96-c1f1cc054840",
   "metadata": {},
   "outputs": [],
   "source": []
  },
  {
   "cell_type": "markdown",
   "id": "9504e23c-9492-4a7b-89c8-6ddee256cfb5",
   "metadata": {},
   "source": [
    "#### Exercises"
   ]
  },
  {
   "cell_type": "markdown",
   "id": "bb0d917e-cf94-4a29-8b17-3476e5953274",
   "metadata": {},
   "source": [
    "**Exercise 1**: print the doc-string of the function `len`."
   ]
  },
  {
   "cell_type": "code",
   "execution_count": 34,
   "id": "fae81d0d-5ae9-4fc5-8c55-6b761e3e0372",
   "metadata": {},
   "outputs": [
    {
     "name": "stdout",
     "output_type": "stream",
     "text": [
      "Help on built-in function len in module builtins:\n",
      "\n",
      "len(obj, /)\n",
      "    Return the number of items in a container.\n",
      "\n"
     ]
    }
   ],
   "source": [
    "#@titlesolution\n",
    "help(len)"
   ]
  },
  {
   "cell_type": "markdown",
   "id": "6bf8cec7-ee28-42e1-9661-a7f5aba7df06",
   "metadata": {},
   "source": [
    "**Exercise 2**: print the doc-string of the function `sum`."
   ]
  },
  {
   "cell_type": "code",
   "execution_count": 35,
   "id": "6556a136-c3e8-4cdd-b7aa-78f3bc046c39",
   "metadata": {},
   "outputs": [
    {
     "name": "stdout",
     "output_type": "stream",
     "text": [
      "Help on built-in function sum in module builtins:\n",
      "\n",
      "sum(iterable, /, start=0)\n",
      "    Return the sum of a 'start' value (default: 0) plus an iterable of numbers\n",
      "    \n",
      "    When the iterable is empty, return the start value.\n",
      "    This function is intended specifically for use with numeric values and may\n",
      "    reject non-numeric types.\n",
      "\n"
     ]
    }
   ],
   "source": [
    "#@titlesolution\n",
    "help(sum)"
   ]
  },
  {
   "cell_type": "markdown",
   "id": "dcb2ebbe-aeb0-4077-8cd1-4035faeed858",
   "metadata": {},
   "source": [
    "**Exercise 3**:\n",
    "print the doc strings of other functions we've seen so far: `int`, `float`, `type`, etc."
   ]
  },
  {
   "cell_type": "code",
   "execution_count": 36,
   "id": "c14009f5-a885-456a-9db4-adad29d11c46",
   "metadata": {},
   "outputs": [],
   "source": [
    "#@titlesolution\n",
    "# help(int)\n",
    "# help(float)\n",
    "# help(type)"
   ]
  },
  {
   "cell_type": "code",
   "execution_count": null,
   "id": "093bbe81-6b82-43de-bf64-a09a6bfbfba8",
   "metadata": {},
   "outputs": [],
   "source": []
  },
  {
   "cell_type": "markdown",
   "id": "48c28226-6c60-4d02-bcb4-aece2ecfa92b",
   "metadata": {
    "tags": []
   },
   "source": [
    "### (sidenote) Python comments\n",
    "\n",
    "You can write comment in Python code using the character `#`.\n",
    "Comments can be very useful to provide additional information that explains what the code is trying to do."
   ]
  },
  {
   "cell_type": "code",
   "execution_count": 37,
   "id": "020ea4fd-c984-4723-8d5e-f9969430d631",
   "metadata": {},
   "outputs": [],
   "source": [
    "# this is a comment"
   ]
  },
  {
   "cell_type": "markdown",
   "id": "d06c1ac5-6725-4603-8566-96be555aeda8",
   "metadata": {},
   "source": [
    "You can also add longer, multi-line comments using triple-quoted text."
   ]
  },
  {
   "cell_type": "code",
   "execution_count": 38,
   "id": "d4b8d166-5d2c-4351-919f-a1eb29b86864",
   "metadata": {},
   "outputs": [
    {
     "data": {
      "text/plain": [
       "'\\nThis is a longer comment,\\nwhich is written on two lines.\\n'"
      ]
     },
     "execution_count": 38,
     "metadata": {},
     "output_type": "execute_result"
    }
   ],
   "source": [
    "\"\"\"\n",
    "This is a longer comment,\n",
    "which is written on two lines.\n",
    "\"\"\""
   ]
  },
  {
   "cell_type": "markdown",
   "id": "c9206f4f-fd04-47f2-9b71-46a4ef7522c1",
   "metadata": {},
   "source": [
    "The docstrings we talked about earlier,\n",
    "are exactly this kind of multi-line strings included in the source code of the functions `len`, `print`, etc."
   ]
  },
  {
   "cell_type": "markdown",
   "id": "1ef8ed01-26ee-4b1e-a8a6-7a8c3b7d4402",
   "metadata": {},
   "source": [
    "**Exercise 4**: replace the `...` in the code block with comments that\n",
    "explain the calculation \"adding 10\\% tax to a purchase that costs \\$57\"\n",
    "that is being computer."
   ]
  },
  {
   "cell_type": "code",
   "execution_count": 39,
   "id": "a2c68579-c5a8-491d-9d22-9cb0f0bba584",
   "metadata": {},
   "outputs": [
    {
     "data": {
      "text/plain": [
       "62.7"
      ]
     },
     "execution_count": 39,
     "metadata": {},
     "output_type": "execute_result"
    }
   ],
   "source": [
    "cost = 57.00           # ...\n",
    "taxes = 0.10 * cost    # ...\n",
    "total = cost + taxes   # ...\n",
    "total                  # ..."
   ]
  },
  {
   "cell_type": "code",
   "execution_count": 40,
   "id": "7e05651d-bd9f-4501-9a9b-5a39d266b3e4",
   "metadata": {},
   "outputs": [
    {
     "data": {
      "text/plain": [
       "62.7"
      ]
     },
     "execution_count": 40,
     "metadata": {},
     "output_type": "execute_result"
    }
   ],
   "source": [
    "#@titlesolution\n",
    "cost = 57.00           # price before taxes\n",
    "taxes = 0.10 * cost    # 10% taxes = 0.1 times price\n",
    "total = cost + taxes   # add price + taxes and store the result in total\n",
    "total                  # print the total"
   ]
  },
  {
   "cell_type": "code",
   "execution_count": null,
   "id": "ea253ad3-ba28-4218-b94f-5e59dbc1764a",
   "metadata": {},
   "outputs": [],
   "source": []
  },
  {
   "cell_type": "markdown",
   "id": "bb990805-0790-4fa0-a0de-bb56c1c9e936",
   "metadata": {
    "tags": []
   },
   "source": [
    "## Inspecting Python objects\n",
    "\n",
    "Suppose you're given the Python object `obj` and you want to know what it is,\n",
    "and learn what you can do with it."
   ]
  },
  {
   "cell_type": "markdown",
   "id": "1691d425-29aa-43c6-a038-28e650ca7caf",
   "metadata": {
    "tags": []
   },
   "source": [
    "### Displaying the object\n",
    "\n",
    "There are several built-in functions that allow you to display information about the any object `obj`.\n",
    "\n",
    "- `type(obj)`: tells you what type of object it is\n",
    "- `print(obj)`: converts the object to `str` and prints it\n",
    "- `repr(obj)`: similar to print, but prints the complete string representation (including quotes).  \n",
    "   The output of `repr(obj)` contains all the information needed to reconstruct the object `obj`.\n",
    "\n",
    "We've already used both `type` and `print`, so there is nothing new here.\n",
    "I just wanted to remind you you can always use these functions as first line of inspection."
   ]
  },
  {
   "cell_type": "code",
   "execution_count": 41,
   "id": "6a218312-8d28-4a7b-8b25-84bd4862cd4d",
   "metadata": {},
   "outputs": [
    {
     "data": {
      "text/plain": [
       "int"
      ]
     },
     "execution_count": 41,
     "metadata": {},
     "output_type": "execute_result"
    }
   ],
   "source": [
    "obj = 3\n",
    "\n",
    "type(x)"
   ]
  },
  {
   "cell_type": "code",
   "execution_count": 42,
   "id": "5cb8b99c-b5b6-47db-91ce-57ab878f0a11",
   "metadata": {},
   "outputs": [
    {
     "name": "stdout",
     "output_type": "stream",
     "text": [
      "3\n"
     ]
    }
   ],
   "source": [
    "print(obj)"
   ]
  },
  {
   "cell_type": "code",
   "execution_count": 43,
   "id": "efd453a8-36b4-43c0-9ccf-d2efbcdf573b",
   "metadata": {},
   "outputs": [
    {
     "data": {
      "text/plain": [
       "'3'"
      ]
     },
     "execution_count": 43,
     "metadata": {},
     "output_type": "execute_result"
    }
   ],
   "source": [
    "repr(obj)"
   ]
  },
  {
   "cell_type": "code",
   "execution_count": null,
   "id": "c6b4748d-caab-46ab-88d1-ff2f25004895",
   "metadata": {},
   "outputs": [],
   "source": []
  },
  {
   "cell_type": "markdown",
   "id": "d29a3972-1345-4259-bc0c-8d20ef0b98c8",
   "metadata": {
    "tags": []
   },
   "source": [
    "### Auto-complete object attributes and methods\n",
    "\n",
    "JupyterLab notebook environment provides very useful \"autocomplete\" functionality that helps us look around at the attributes and methods of any object. \n",
    "\n",
    "- `TAB` button: type `obj.`  then press TAB button.\n",
    "- `dir(obj)`: shows the \"directory\" of all the attributes and methods of the object `obj`"
   ]
  },
  {
   "cell_type": "code",
   "execution_count": 44,
   "id": "1b84eed3-8910-4bf4-9a03-a9d3c1aeae49",
   "metadata": {},
   "outputs": [],
   "source": [
    "message = \"Hello everyone\"\n",
    "# message.   <TAB>"
   ]
  },
  {
   "cell_type": "code",
   "execution_count": 45,
   "id": "d0bed95d-0a8d-407a-9ae5-9b98020689a2",
   "metadata": {},
   "outputs": [],
   "source": [
    "# message.upper()\n",
    "# message.lower()\n",
    "# message.split()\n",
    "# message.replace(\"everyone\", \"world\")"
   ]
  },
  {
   "cell_type": "code",
   "execution_count": null,
   "id": "f6a27b46-5374-4892-94a1-03332c3e7c07",
   "metadata": {},
   "outputs": [],
   "source": []
  },
  {
   "cell_type": "code",
   "execution_count": null,
   "id": "5e0e680a-57e0-46ac-bd10-53b8e138d5dc",
   "metadata": {},
   "outputs": [],
   "source": []
  },
  {
   "cell_type": "markdown",
   "id": "296abfc8-919f-4173-b43b-6320ea6b0dd3",
   "metadata": {
    "tags": []
   },
   "source": [
    "\n",
    "\n",
    "\n",
    "  "
   ]
  },
  {
   "cell_type": "markdown",
   "id": "5ff5b86f-470d-478c-8152-b6db1c379b12",
   "metadata": {
    "tags": []
   },
   "source": [
    "### (bonus) See what's in the global namespace\n",
    "\n",
    "In a Jupyter notebook,\n",
    "you can run the command `%whos` to print all the variables and functions that defined in the current namespace."
   ]
  },
  {
   "cell_type": "code",
   "execution_count": 46,
   "id": "3e496261-e0b7-47ec-a8ca-652c2c60f1f4",
   "metadata": {},
   "outputs": [],
   "source": [
    "# %whos"
   ]
  },
  {
   "cell_type": "code",
   "execution_count": null,
   "id": "623ac254-9b87-46c9-ac15-3e99cb469dfb",
   "metadata": {},
   "outputs": [],
   "source": []
  },
  {
   "cell_type": "code",
   "execution_count": null,
   "id": "3a0558bf-74c5-4317-ac7e-f0f338a22369",
   "metadata": {},
   "outputs": [],
   "source": []
  },
  {
   "cell_type": "markdown",
   "id": "dcc58756-3cae-4794-a770-00b2ffc291b3",
   "metadata": {
    "tags": []
   },
   "source": [
    "## Python error messages\n",
    "\n",
    "Sometimes the command you evaluate will cause an error,\n",
    "and Python will print an error message describing the problem it encountered.\n",
    "You need to be mentally prepared for these errors, since they can be very discouraging to see.\n",
    "The computer doesn't like what you entered.\n",
    "The output is a big red box,\n",
    "that tells you your input is [REJECTED](https://ballislife.com/wp-content/uploads/2014/10/bil-dorsey.jpg)!\n",
    "\n",
    "Examples of errors include `SyntaxError`, `ValueError`, etc.\n",
    "The error messages look scary,\n",
    "but really they are there to help you—if you read what the error message is telling you,\n",
    "you'll know exactly what you need fix in your input.\n",
    "The error message literally describes the problem!\n",
    "\n",
    "<!-- if you type invalid syntax, assign to non-existing variables, or otherwise input something that Python doesn't like, Python will throw an \"exception,\" which is like saying \"Yo, I don't understand this, or I can't run this, or the code refers to some data that doesn't exist, etc.\" You'll see the name of the error that occurred and a message to explain what went wrong. -->"
   ]
  },
  {
   "cell_type": "markdown",
   "id": "e0b49cc1-1e8d-4bdd-ba5a-9fbc994e2848",
   "metadata": {},
   "source": [
    "Let's look at an example expression that Python cannot compute,\n",
    "so it raises an exception.\n",
    "The code cell below shows an example error that occurs when you ask Pyhton to computer a math expressions that doesn't make sense."
   ]
  },
  {
   "cell_type": "markdown",
   "id": "0833813d-acda-41d6-bab8-2179120003be",
   "metadata": {},
   "source": [
    "Let's look at an example of an error:"
   ]
  },
  {
   "cell_type": "code",
   "execution_count": 47,
   "id": "99b808a8",
   "metadata": {
    "tags": [
     "raises-exception"
    ]
   },
   "outputs": [
    {
     "ename": "ZeroDivisionError",
     "evalue": "division by zero",
     "output_type": "error",
     "traceback": [
      "\u001b[0;31m---------------------------------------------------------------------------\u001b[0m",
      "\u001b[0;31mZeroDivisionError\u001b[0m                         Traceback (most recent call last)",
      "Cell \u001b[0;32mIn[47], line 1\u001b[0m\n\u001b[0;32m----> 1\u001b[0m \u001b[38;5;241;43m3\u001b[39;49m\u001b[38;5;241;43m/\u001b[39;49m\u001b[38;5;241;43m0\u001b[39;49m\n",
      "\u001b[0;31mZeroDivisionError\u001b[0m: division by zero"
     ]
    }
   ],
   "source": [
    "3/0"
   ]
  },
  {
   "cell_type": "markdown",
   "id": "ae9fcc34-2f6c-4e97-a3e7-311b2392f071",
   "metadata": {},
   "source": [
    "You'll see these threatening looking messages on a red background any time Python encounters an error when trying to run the commands you specified.\n",
    "This is nothing to be alarmed by.\n",
    "It usually means you made a typo (symbol not defined error),\n",
    "forgot a syntax element (e.g. `(`, `,`, `[`, `:`, etc.),\n",
    "or tried to compute something impossible,\n",
    "like dividing a number by zero as in the above example.\n",
    "\n",
    "You get an error since you're trying to compute an expression that contains a division by zero. Python tell you a `ZeroDivisionError: division by zero` has occurred.\n",
    "Indeed it's not possible to divide a number by zero.\n",
    "\n",
    "The way to read these red messages is to focus on the name of the **explanation message that gets printed on the last line**. The error message tells you what you need to fix. The solution will be obvious for typos and syntax errors, but for more complicated situations, you may need to search online to find what the problems is.\n",
    "\n",
    "In our example, we can fix the `3/0` by replacing it with `3/1`."
   ]
  },
  {
   "cell_type": "code",
   "execution_count": 48,
   "id": "fcfeecb6-3362-493b-a014-769d5a316c0e",
   "metadata": {},
   "outputs": [
    {
     "data": {
      "text/plain": [
       "3.0"
      ]
     },
     "execution_count": 48,
     "metadata": {},
     "output_type": "execute_result"
    }
   ],
   "source": [
    "3/1"
   ]
  },
  {
   "cell_type": "markdown",
   "id": "d4ed9345-f645-4f34-b284-4ac78979efa2",
   "metadata": {
    "tags": []
   },
   "source": [
    "Here is a list of the most common error messages you are likely to encounter:\n",
    "\n",
    "- `SyntaxError`: you typed in something wrong (usually missing \" ] or some other punctuation)\n",
    "- `NameError`: Raised when a variable is not found in local or global scope.\n",
    "- `KeyError`: Raised when a key is not found in a dictionary.\n",
    "- `TypeError`: Raised when a function or operation is applied to an object of incorrect type.\t\n",
    "- `ValueError`: Raised when a function gets an argument of correct type but improper value.\n",
    "- `ZeroDivisionError`: Raised when the second operand of division or modulo operation is zero.\n",
    "- later on we'll also run into: `ImportError` and `AttributeError`\n",
    "\n",
    "There are many more error types. You can see a complete list by typing in the command `*Error?`."
   ]
  },
  {
   "cell_type": "markdown",
   "id": "6f2417c3-dd57-467a-82e8-a105b8fb4d0b",
   "metadata": {
    "tags": []
   },
   "source": [
    "**Exercise**: let's break Python! 🔨🔨🔨🔨🔨🔨  \n",
    "Try typing in Python commands that would causes one of the above errors."
   ]
  },
  {
   "cell_type": "code",
   "execution_count": 49,
   "id": "9aebce93-4124-4918-8f69-a69c457e3c9e",
   "metadata": {},
   "outputs": [],
   "source": [
    "#@titlesolution\n",
    "\n",
    "# SyntaxError\n",
    "# [1\n",
    "\n",
    "# NameError\n",
    "# zz + 3\n",
    "\n",
    "# TypeError\n",
    "# sum(3)\n",
    "\n",
    "# ValueError\n",
    "# int(\"zz\")\n",
    "\n",
    "# ZeroDivisionError\n",
    "# 5/0\n",
    "\n",
    "# KeyError\n",
    "# d = {}\n",
    "# d[\"zz\"]\n",
    "\n",
    "# ImportError\n",
    "# from math import zz\n",
    "\n",
    "# AttributeError\n",
    "# \"hello\".zz"
   ]
  },
  {
   "cell_type": "code",
   "execution_count": null,
   "id": "ad657513-bb32-4c26-bcde-2c9aaa7cb63a",
   "metadata": {},
   "outputs": [],
   "source": []
  },
  {
   "cell_type": "code",
   "execution_count": null,
   "id": "64cfa87a-71d7-4ab7-a726-b71738be036a",
   "metadata": {},
   "outputs": [],
   "source": []
  },
  {
   "cell_type": "markdown",
   "id": "0aab73fc-76a0-4122-ab29-ebc84490b374",
   "metadata": {},
   "source": [
    "## Python documentation\n",
    "\n",
    "The official Python documentation website https://docs.python.org provides loads and loads of excellent information for learning Python.\n",
    "\n",
    "Here are some useful links:\n",
    "\n",
    "- main page https://docs.python.org/3/\n",
    "- tutorial https://docs.python.org/3/tutorial/index.html\n",
    "- example (built in functions and types from Lessons 1 through 3)\n",
    "  - len https://docs.python.org/3/library/functions.html#len\n",
    "  - type https://docs.python.org/3/library/functions.html#type\n",
    "  - print https://docs.python.org/3/library/functions.html#print \n",
    "  - int https://docs.python.org/3/library/functions.html#int \n",
    "  - float https://docs.python.org/3/library/functions.html#float \n",
    "  - str https://docs.python.org/3/library/functions.html#func-str\n",
    "  - list https://docs.python.org/3/library/functions.html#func-list\n",
    "  - dict https://docs.python.org/3/library/functions.html#func-dict \n",
    "  - sum https://docs.python.org/3/library/functions.html#sum \n",
    "  - max https://docs.python.org/3/library/functions.html#max\n",
    "  \n",
    "I encourage you to browse the site to familiarize yourself with the information that is available.\n",
    "\n",
    "Usually when you do a google search, the official Python docs will show up on the first page of results.\n",
    "Make sure to prefer reading the official documentation instead of other \"learn Python\" websites\n",
    "(currently the first few google search results that show up point to SEO-optimized, spammy, advertisementfull, websites \n",
    " which are inferior to the official documentation).\n",
    "Always prefer the official docs (even if it appears lower in the list of results on the page).\n",
    "Stack overflow discussions are also a good place to find answers to common Python questions."
   ]
  },
  {
   "cell_type": "code",
   "execution_count": null,
   "id": "9d3eeda6-1fd0-4751-9b4c-6dbcc9e0ee44",
   "metadata": {},
   "outputs": [],
   "source": []
  },
  {
   "cell_type": "code",
   "execution_count": null,
   "id": "f79106be-94a3-4246-a188-69e0498b60ab",
   "metadata": {},
   "outputs": [],
   "source": []
  },
  {
   "cell_type": "code",
   "execution_count": null,
   "id": "f834828d-3726-4682-88ab-24b557b952b7",
   "metadata": {},
   "outputs": [],
   "source": []
  },
  {
   "cell_type": "markdown",
   "id": "e0752b0b-2d68-4a03-8a9f-539f566a1e17",
   "metadata": {},
   "source": [
    "# Lists and for loops\n"
   ]
  },
  {
   "cell_type": "markdown",
   "id": "499f5589-9568-43a3-ba6c-ed43b3df568e",
   "metadata": {},
   "source": [
    "## Lists\n",
    "\n",
    "To create a list:\n",
    "- start with an opening square bracket `[` ,\n",
    "- then put the elements of the list separated by commas `,`\n",
    "- finally close the square bracket `]`\n",
    "\n",
    "For example, `scores` is a list of `int`s that we've seen in several examples before."
   ]
  },
  {
   "cell_type": "code",
   "execution_count": 50,
   "id": "f76410af",
   "metadata": {},
   "outputs": [
    {
     "data": {
      "text/plain": [
       "[61, 79, 98, 72]"
      ]
     },
     "execution_count": 50,
     "metadata": {},
     "output_type": "execute_result"
    }
   ],
   "source": [
    "scores = [61, 79, 98, 72]\n",
    "scores"
   ]
  },
  {
   "cell_type": "markdown",
   "id": "cba309bc-7968-4f12-a0e1-83a1cfe57a72",
   "metadata": {},
   "source": [
    "A list container has a length,\n",
    "which you can obtain by calling the `len` function."
   ]
  },
  {
   "cell_type": "code",
   "execution_count": 51,
   "id": "3847db1a",
   "metadata": {},
   "outputs": [
    {
     "data": {
      "text/plain": [
       "4"
      ]
     },
     "execution_count": 51,
     "metadata": {},
     "output_type": "execute_result"
    }
   ],
   "source": [
    "len(scores)"
   ]
  },
  {
   "cell_type": "markdown",
   "id": "a17d4c4c-67ac-43dc-8772-7a9a7b9cc48b",
   "metadata": {},
   "source": [
    "You check if a list contains a certain element using the `in` operator:"
   ]
  },
  {
   "cell_type": "code",
   "execution_count": 52,
   "id": "c10641d1-0b67-4848-81a2-03a3f7fafb39",
   "metadata": {},
   "outputs": [
    {
     "data": {
      "text/plain": [
       "True"
      ]
     },
     "execution_count": 52,
     "metadata": {},
     "output_type": "execute_result"
    }
   ],
   "source": [
    "98 in scores"
   ]
  },
  {
   "cell_type": "code",
   "execution_count": null,
   "id": "a1150b3a-50c8-4461-8002-66122aec7792",
   "metadata": {},
   "outputs": [],
   "source": []
  },
  {
   "cell_type": "markdown",
   "id": "e7cd103d-861c-4be0-acc4-db1bf6d890f1",
   "metadata": {},
   "source": [
    "### List access syntax\n",
    "\n",
    "Elements of a the list are accessed using the square brackets `[<index>]`,\n",
    "where `<index>` is the the `0`-based index of the element we want to access:\n",
    "- The first element has index `0`.\n",
    "- The second element has index `1`.\n",
    "- The last element has index equal to the length of the list minus one."
   ]
  },
  {
   "cell_type": "code",
   "execution_count": 53,
   "id": "ae78304a",
   "metadata": {},
   "outputs": [
    {
     "data": {
      "text/plain": [
       "61"
      ]
     },
     "execution_count": 53,
     "metadata": {},
     "output_type": "execute_result"
    }
   ],
   "source": [
    "# first element in the list scores\n",
    "scores[0]"
   ]
  },
  {
   "cell_type": "code",
   "execution_count": 54,
   "id": "a89f88b9-88ce-4836-a78a-a4fda0c8762a",
   "metadata": {},
   "outputs": [
    {
     "data": {
      "text/plain": [
       "79"
      ]
     },
     "execution_count": 54,
     "metadata": {},
     "output_type": "execute_result"
    }
   ],
   "source": [
    "# second element in the list scores\n",
    "scores[1]"
   ]
  },
  {
   "cell_type": "code",
   "execution_count": 55,
   "id": "518f8065-6447-4398-bc39-d65cd5b3536c",
   "metadata": {},
   "outputs": [
    {
     "data": {
      "text/plain": [
       "72"
      ]
     },
     "execution_count": 55,
     "metadata": {},
     "output_type": "execute_result"
    }
   ],
   "source": [
    "# last element in the list scores\n",
    "scores[3]"
   ]
  },
  {
   "cell_type": "markdown",
   "id": "05f639fa-6ee9-46a4-8c20-dd4669867c85",
   "metadata": {},
   "source": [
    "Another way to access the last element in the list is to use the negative index `-1`:"
   ]
  },
  {
   "cell_type": "code",
   "execution_count": 56,
   "id": "6722a21a-f1bb-407f-a978-b8dba5ab838e",
   "metadata": {},
   "outputs": [
    {
     "data": {
      "text/plain": [
       "72"
      ]
     },
     "execution_count": 56,
     "metadata": {},
     "output_type": "execute_result"
    }
   ],
   "source": [
    "scores[-1]"
   ]
  },
  {
   "cell_type": "code",
   "execution_count": null,
   "id": "9bcdaf34-761a-4ad4-a496-038b4b9638b5",
   "metadata": {},
   "outputs": [],
   "source": []
  },
  {
   "cell_type": "markdown",
   "id": "1404bff9-7888-43b5-8951-6eedacbf2324",
   "metadata": {},
   "source": [
    "### List slicing\n",
    "\n",
    "We can access a subset of the list using the \"slice\" syntax `a:b`,\n",
    "which corresponds to the range of indices `a`, `a+1`, ..., `b-1`.\n",
    "For example,\n",
    "if we want to extract the first three elements in the list `scores`,\n",
    "we can use the slice `0:3`,\n",
    "which is equivalent to requesting the range of indices `0`, `1`, and `2`."
   ]
  },
  {
   "cell_type": "code",
   "execution_count": 57,
   "id": "a6110de9",
   "metadata": {},
   "outputs": [
    {
     "data": {
      "text/plain": [
       "[61, 79, 98]"
      ]
     },
     "execution_count": 57,
     "metadata": {},
     "output_type": "execute_result"
    }
   ],
   "source": [
    "scores[0:3]"
   ]
  },
  {
   "cell_type": "markdown",
   "id": "1d0df200-edcc-4cea-b6ba-10991d2ae66e",
   "metadata": {},
   "source": [
    "Note the result of selecting a slice from a list is another list\n",
    "(a list that contains the subset of the original list that consists of elements whose index is included in the slice)."
   ]
  },
  {
   "cell_type": "code",
   "execution_count": null,
   "id": "68f75aa1-d4a4-478a-85e7-c3c0ac0b30b1",
   "metadata": {},
   "outputs": [],
   "source": []
  },
  {
   "cell_type": "markdown",
   "id": "294a683c-2862-454b-82cf-42f29c5a8b72",
   "metadata": {},
   "source": [
    "### List methods\n",
    "\n",
    "List objects can be modified using a their methods.\n",
    "Every list has the following useful methods:\n",
    "- `.sort()`: sort the list (in increasing order by default)\n",
    "- `.append()`: add one element to end of a list\n",
    "- `.pop()`: extract the last element from a list\n",
    "- `.reverse()`: reverse the order of elements in the list\n",
    "\n",
    "Let's look at some examples of these methods in action."
   ]
  },
  {
   "cell_type": "markdown",
   "id": "db527e4f-06e9-4b05-8310-35ae0b91a283",
   "metadata": {},
   "source": [
    "To sort the list of `scores`,\n",
    "you can call its `.sort()` method:"
   ]
  },
  {
   "cell_type": "code",
   "execution_count": 58,
   "id": "feb2d894",
   "metadata": {},
   "outputs": [
    {
     "data": {
      "text/plain": [
       "[61, 72, 79, 98]"
      ]
     },
     "execution_count": 58,
     "metadata": {},
     "output_type": "execute_result"
    }
   ],
   "source": [
    "scores.sort()\n",
    "scores"
   ]
  },
  {
   "cell_type": "markdown",
   "id": "cd303650-47fb-43ed-b9b5-36651faa7085",
   "metadata": {},
   "source": [
    "To add a new element `el` to the list (at the end),\n",
    "use the method `.append(el)`:"
   ]
  },
  {
   "cell_type": "code",
   "execution_count": 59,
   "id": "780efcce",
   "metadata": {},
   "outputs": [
    {
     "data": {
      "text/plain": [
       "[61, 72, 79, 98, 22]"
      ]
     },
     "execution_count": 59,
     "metadata": {},
     "output_type": "execute_result"
    }
   ],
   "source": [
    "scores.append(22)\n",
    "scores"
   ]
  },
  {
   "cell_type": "markdown",
   "id": "05e8a069-501b-4c2f-84fb-4a702b3b9c3f",
   "metadata": {},
   "source": [
    "The method `.pop()` extracts the last element of the list:"
   ]
  },
  {
   "cell_type": "code",
   "execution_count": 60,
   "id": "15a74b2b",
   "metadata": {},
   "outputs": [
    {
     "data": {
      "text/plain": [
       "22"
      ]
     },
     "execution_count": 60,
     "metadata": {},
     "output_type": "execute_result"
    }
   ],
   "source": [
    "scores.pop()"
   ]
  },
  {
   "cell_type": "markdown",
   "id": "6eef945c-3739-4389-b743-45705e4dee4b",
   "metadata": {},
   "source": [
    "You can think of `.pop()` as the \"undo method\" of the append operation."
   ]
  },
  {
   "cell_type": "markdown",
   "id": "c569a01e-5fcc-4dc0-8f1f-c9fdf0f22677",
   "metadata": {},
   "source": [
    "To reverse the order of elements in the list,\n",
    "call its `.reverse()` method:"
   ]
  },
  {
   "cell_type": "code",
   "execution_count": 61,
   "id": "407ec209",
   "metadata": {},
   "outputs": [
    {
     "data": {
      "text/plain": [
       "[98, 79, 72, 61]"
      ]
     },
     "execution_count": 61,
     "metadata": {},
     "output_type": "execute_result"
    }
   ],
   "source": [
    "scores.reverse()\n",
    "scores"
   ]
  },
  {
   "cell_type": "code",
   "execution_count": null,
   "id": "7d1302f6",
   "metadata": {},
   "outputs": [],
   "source": []
  },
  {
   "cell_type": "markdown",
   "id": "515fb839-ef94-45a3-b3f5-359f5cce4a24",
   "metadata": {},
   "source": [
    "Other useful list methods: `.insert(index,obj)`, `.remove(obj)`,\n",
    "and about a dozens more that might be useful once in a while.\n",
    "\n",
    "Recall you can see a complete list of all the methods on list objects by typing `scores.` then pressing the TAB button to trigger the auto-complete suggestions.\n",
    "Uncomment the following code block,\n",
    "place your cursor after the dot,\n",
    "and try pressing TAB to see what happens."
   ]
  },
  {
   "cell_type": "code",
   "execution_count": 62,
   "id": "3a2e521a",
   "metadata": {},
   "outputs": [],
   "source": [
    "# scores."
   ]
  },
  {
   "cell_type": "code",
   "execution_count": null,
   "id": "f8f0764c-5349-4f10-b533-5f01f87e4c1e",
   "metadata": {},
   "outputs": [],
   "source": []
  },
  {
   "cell_type": "markdown",
   "id": "304cffa3-cfad-415b-8639-47f85d51bade",
   "metadata": {},
   "source": [
    "**Exercise**: The default behaviour of the method `.sort()` is to \n",
    "sort the elements in *increasing* order.\n",
    "Suppose you want sort the elements in *decreasing* order instead.\n",
    "You can pass a keyword argument to the method `.sort()`\n",
    "to request the sorting be done in \"revese\" order (decreasing instead of increasing).\n",
    "Consult the docstring of the `.sort()` method to find the name of the keyword argument\n",
    "that does this,\n",
    "then modify the code below to sort the elements of the list `scores` in decreasing order."
   ]
  },
  {
   "cell_type": "code",
   "execution_count": 63,
   "id": "408fa179-c9e9-4119-8c68-1b373436e7f6",
   "metadata": {},
   "outputs": [
    {
     "data": {
      "text/plain": [
       "[61, 72, 79, 98]"
      ]
     },
     "execution_count": 63,
     "metadata": {},
     "output_type": "execute_result"
    }
   ],
   "source": [
    "scores.sort()\n",
    "scores"
   ]
  },
  {
   "cell_type": "code",
   "execution_count": 64,
   "id": "7dacec28-0f47-43b7-b105-80b486fe8d05",
   "metadata": {},
   "outputs": [
    {
     "data": {
      "text/plain": [
       "[98, 79, 72, 61]"
      ]
     },
     "execution_count": 64,
     "metadata": {},
     "output_type": "execute_result"
    }
   ],
   "source": [
    "#@titlesolution\n",
    "# help(scores.sort)\n",
    "scores.sort(reverse=True)\n",
    "scores"
   ]
  },
  {
   "cell_type": "code",
   "execution_count": null,
   "id": "463463e5-9871-43a0-82cb-1e87774ec01d",
   "metadata": {},
   "outputs": [],
   "source": []
  },
  {
   "cell_type": "markdown",
   "id": "05039096-0088-4a74-8c44-3f6686441c35",
   "metadata": {},
   "source": [
    "### List-related builtin functions"
   ]
  },
  {
   "cell_type": "markdown",
   "id": "19eb9950-33f7-4187-b4f2-7918aa3cf1cb",
   "metadata": {},
   "source": [
    "Here are some of the Python built-in functions that work on lists:"
   ]
  },
  {
   "cell_type": "code",
   "execution_count": 65,
   "id": "562fa828-7888-4aad-93e2-c919ff86d022",
   "metadata": {},
   "outputs": [],
   "source": [
    "# generic:\n",
    "# print(scores)    # print the list `scores`\n",
    "# len(scores)      # the length of the list `scores`"
   ]
  },
  {
   "cell_type": "code",
   "execution_count": 66,
   "id": "d1731890-e68b-44ee-ace3-3ba0ab82cad7",
   "metadata": {},
   "outputs": [],
   "source": [
    "# numeric:\n",
    "# sorted(scores)   # return a copy of the list in sorted order\n",
    "# sum(scores)      # add together all the values in a list of numbers\n",
    "# max(scores)      # find the largest value in a list of numbers\n",
    "# min(scores)      # find the smallest value in a list of numbers"
   ]
  },
  {
   "cell_type": "code",
   "execution_count": null,
   "id": "b9f91b37-c0dd-4d20-a92c-71a8d315104c",
   "metadata": {},
   "outputs": [],
   "source": []
  },
  {
   "cell_type": "code",
   "execution_count": null,
   "id": "16e440f6-88d3-4081-b290-a5ab7a68e564",
   "metadata": {},
   "outputs": [],
   "source": []
  },
  {
   "cell_type": "markdown",
   "id": "729699e7",
   "metadata": {},
   "source": [
    "## For loops\n",
    "\n",
    "We often want to repeat some operation (or several operations) once for each element in a list.\n",
    "This is what the `for`-loop is for.\n",
    "\n",
    "The syntax of a for loop in Python looks like like this:\n",
    "```Python\n",
    "for <element> in <container>:\n",
    "    operation 1 using <element>\n",
    "    operation 2 using <element>\n",
    "    etc.\n",
    "\n",
    "```\n",
    "that allows to repeat a block of operations **for each** element `<element>` in the list `<container>`."
   ]
  },
  {
   "cell_type": "markdown",
   "id": "a657df75-ca7c-434a-abcb-3ceeb251d657",
   "metadata": {},
   "source": [
    "### Example 1: print all the scores"
   ]
  },
  {
   "cell_type": "code",
   "execution_count": 67,
   "id": "56002dd2",
   "metadata": {},
   "outputs": [
    {
     "name": "stdout",
     "output_type": "stream",
     "text": [
      "61\n",
      "79\n",
      "98\n",
      "72\n"
     ]
    }
   ],
   "source": [
    "scores = [61, 79, 98, 72]\n",
    "\n",
    "for score in scores:\n",
    "    print(score)"
   ]
  },
  {
   "cell_type": "code",
   "execution_count": null,
   "id": "237f4d2c-0be0-4289-8bbd-26c6b5446623",
   "metadata": {},
   "outputs": [],
   "source": []
  },
  {
   "cell_type": "markdown",
   "id": "856e9b19-5e3d-4f96-999c-d85ce82216e0",
   "metadata": {},
   "source": [
    "### Example 2: compute the average score\n",
    "\n",
    "If $\\mathbf{x}$ is a list of values $[x_0,x_1,x_2,\\ldots,x_{n-1}]$,\n",
    "the average of the list is defined as:\n",
    "\n",
    "$$\n",
    "    \\overline{x}\n",
    "      = \\text{mean}(\\mathbf{x})\n",
    "      = \\tfrac{1}{n} \\left[ x_0 + x_1 + x_2 + \\cdots + x_{n-1} \\right]\n",
    "$$\n",
    "\n",
    "In words,\n",
    "the average value of a list of values is the sum of the values divided by the length of the list, which is $\\texttt{len}(\\mathbf{x})$ in Python."
   ]
  },
  {
   "cell_type": "markdown",
   "id": "70ecd708-db34-4975-805d-ec4e83dc79d7",
   "metadata": {},
   "source": [
    "Let's write a `for` loop\n",
    "that computes the sum (the `total`) of the values in the list `scores`.\n",
    "We can then compute the average `avg` by dividing the `total` by the $n$,\n",
    "which is the length of the list."
   ]
  },
  {
   "cell_type": "code",
   "execution_count": 68,
   "id": "dfcd2e70",
   "metadata": {},
   "outputs": [
    {
     "data": {
      "text/plain": [
       "77.5"
      ]
     },
     "execution_count": 68,
     "metadata": {},
     "output_type": "execute_result"
    }
   ],
   "source": [
    "total = 0\n",
    "for score in scores:\n",
    "    total = total + score\n",
    "\n",
    "avg = total / len(scores)\n",
    "avg"
   ]
  },
  {
   "cell_type": "markdown",
   "id": "dfb40478",
   "metadata": {},
   "source": [
    "#### Sidenote\n",
    "The name of the variable used for the for loop is totally up to you, but in general you should choose logical names for elements of the list. Below is an example of a for loop that uses the single-letter variable `s` as the loop variable:"
   ]
  },
  {
   "cell_type": "code",
   "execution_count": 69,
   "id": "6961867c",
   "metadata": {},
   "outputs": [
    {
     "name": "stdout",
     "output_type": "stream",
     "text": [
      "61\n",
      "79\n",
      "98\n",
      "72\n"
     ]
    }
   ],
   "source": [
    "for s in scores:\n",
    "    print(s)"
   ]
  },
  {
   "cell_type": "markdown",
   "id": "096548fe-05ed-4e7d-b01c-9cdbff0c5299",
   "metadata": {},
   "source": [
    "By conventions,\n",
    "we usually call lists of `obj`-items `objs`,\n",
    "and use the name `obj` for the for-loop variable.\n",
    "Here are some examples:\n",
    " - given a list of profiles `profiles`,\n",
    "   use a the for-loop `for profile in profiles: ...`\n",
    " - given a list of graph nodes `nodes`,\n",
    "   use a the for-loop like `for node in nodes: ...`\n",
    " - etc.\n",
    "\n",
    "Anyone who is reading this Python code examples will\n",
    "immediately know that Python objects `profiles` and `nodes` are list-like,\n",
    "since they end in \"s\" and are used in `for` loops."
   ]
  },
  {
   "cell_type": "code",
   "execution_count": null,
   "id": "e7af72da",
   "metadata": {},
   "outputs": [],
   "source": []
  },
  {
   "cell_type": "code",
   "execution_count": null,
   "id": "53d96afa-2d58-4b82-a58d-e09e8f833e88",
   "metadata": {},
   "outputs": [],
   "source": []
  },
  {
   "cell_type": "markdown",
   "id": "0e043a84-8a9e-4bba-91f7-b1aebb63ec5f",
   "metadata": {},
   "source": [
    "### List comprehension (bonus topic)\n",
    "\n",
    "Very often when programming,\n",
    "we need to transform a list of values,\n",
    "by applying the same operation to each value in a list of inputs,\n",
    "and collecting the results in a new list of outputs.\n",
    "\n",
    "Using the standard `for`-loop syntax,\n",
    "this operation requires four lines of code:\n",
    "\n",
    "```Python\n",
    "newlist = []\n",
    "for value in values:\n",
    "    newvalue = <some operation on `value`>\n",
    "    newvalues.append(newvalue)\n",
    "```\n",
    "This code start by creating an empty list called `newlist`,\n",
    "the uses a `for`-loop to apply `<some operation>` to each \n",
    "element in the list `values`, accumulating the results in the `newlist`.\n",
    "\n",
    "Python provides a shorthand syntax for writing operation as\n",
    "\n",
    "```Python\n",
    "newlist = [<some operation on `value`> for value in values]\n",
    "```\n",
    "\n",
    "This is called the \"list comprehension\" syntax,\n",
    "and is used often in Python code.\n",
    "Note the code using list comprehension takes one line to express the entire transformation\n",
    "from `values` to `newlist`."
   ]
  },
  {
   "cell_type": "markdown",
   "id": "2fb98cce-b86c-403b-b012-0cd4e8b1fa86",
   "metadata": {},
   "source": [
    "#### Example: compute the squares of the first five integers\n"
   ]
  },
  {
   "cell_type": "code",
   "execution_count": 70,
   "id": "0366153c-0d85-464b-b258-f23bbaa2f379",
   "metadata": {},
   "outputs": [
    {
     "data": {
      "text/plain": [
       "[1, 4, 9, 16, 25]"
      ]
     },
     "execution_count": 70,
     "metadata": {},
     "output_type": "execute_result"
    }
   ],
   "source": [
    "numbers = [1, 2, 3, 4, 5]\n",
    "squares = [n**2 for n in numbers]\n",
    "squares"
   ]
  },
  {
   "cell_type": "code",
   "execution_count": 71,
   "id": "3bef5387-1393-4cb5-9d80-3c684a9651f0",
   "metadata": {},
   "outputs": [],
   "source": [
    "# # ALT. using the `range` function\n",
    "# numbers = range(1,6)\n",
    "# squares = [n**2 for n in numbers]\n",
    "# squares"
   ]
  },
  {
   "cell_type": "code",
   "execution_count": null,
   "id": "18dcdcc5-701d-4ce5-8acc-87a40d1a7e9d",
   "metadata": {},
   "outputs": [],
   "source": []
  },
  {
   "cell_type": "code",
   "execution_count": null,
   "id": "5c315aa6-2183-406b-9450-aa14a88597ac",
   "metadata": {},
   "outputs": [],
   "source": []
  },
  {
   "cell_type": "code",
   "execution_count": null,
   "id": "f2643d3c-c79e-47b5-94ac-b778294c77ee",
   "metadata": {},
   "outputs": [],
   "source": []
  },
  {
   "cell_type": "code",
   "execution_count": null,
   "id": "fdd0a674-7150-4c0f-8bb9-9e8de0df2270",
   "metadata": {},
   "outputs": [],
   "source": []
  },
  {
   "cell_type": "code",
   "execution_count": null,
   "id": "455f2656-a69c-43ef-a35d-36b774e807e4",
   "metadata": {},
   "outputs": [],
   "source": []
  },
  {
   "cell_type": "code",
   "execution_count": null,
   "id": "da98ba3b-f72c-4515-a300-58303f2be1c3",
   "metadata": {},
   "outputs": [],
   "source": []
  },
  {
   "cell_type": "code",
   "execution_count": null,
   "id": "cb2ade48-e5ac-42d0-a41b-bd6fc4a4e780",
   "metadata": {},
   "outputs": [],
   "source": []
  },
  {
   "cell_type": "code",
   "execution_count": null,
   "id": "6142c785-8908-467d-9764-c35d0367e604",
   "metadata": {},
   "outputs": [],
   "source": []
  },
  {
   "cell_type": "markdown",
   "id": "c4659d87-1def-459a-bf1a-1c099bd03168",
   "metadata": {},
   "source": [
    "<a name=\"funcs\"></a>\n",
    "# Functions\n",
    "\n",
    "Functions!\n",
    "Finally we get to the good stuff!\n",
    "Functions are an important building block in programming,\n",
    "since they allow you to encapsulate any multi-step program or procedure as reusable piece of functionality. You can think of functions as reusable chunks of code that can be defined once, and used multiple times by \"calling\" them with different arguments.\n",
    "<!-- Functions allow us to build chunks of reusable code that we can later reuse in other programs. -->\n",
    "\n",
    "Let's do a quick review the concepts of a function in mathematics,\n",
    "since the Python syntax for functions is inspired by math functions.\n",
    "The convention in math to call function $f$,\n",
    "denote the inputs of the function $x$, and its outputs $y$:\n",
    "\n",
    "$$ y = f(x) = \\text{some expression involving } x  $$\n",
    "\n",
    "Note we defined the function $f$ by simply writing some expression we need to compute, that depends on the input $x$. For example $f(x) = 2x+3$."
   ]
  },
  {
   "cell_type": "markdown",
   "id": "765c8d71-7ab2-4cf3-a949-e364dfb38be7",
   "metadata": {},
   "source": [
    "## Python functions\n",
    "\n",
    "Functions in Python are similar to functions in math: \n",
    "a Python function takes certain inputs and produces certain outputs.\n",
    "We define the function called `f` using the following syntax:\n",
    "\n",
    "```Python\n",
    "def f(x):\n",
    "    <steps to compute y from x>\n",
    "    return y\n",
    "```\n",
    "\n",
    "There are a lot of things going on in this code example,\n",
    "so let's go over the code line-by-line and explain all the new elements of syntax:\n",
    "\n",
    "- The Python keyword `def` is used to declare a function definition.\n",
    "- Next we see the name of the function `f`\n",
    "- Next we must specify the inputs of the function (a.k.a. arguments) inside parentheses.\n",
    "  In this example, the function `f`,\n",
    "  it takes only a single argument `x`.\n",
    "- The colon `:` indicates the beginning of a code block,\n",
    "  which contains the the function body.\n",
    "  The function body consists of one or more lines of code,\n",
    "  indented by four spaces,\n",
    "  just like the other types of code blocks we have seen.\n",
    "- The final line of the function `f`,\n",
    "  we use the `return` statement to indicate the output of the function.\n",
    "  The return statement is usually the last line in the function body.\n",
    "  \n"
   ]
  },
  {
   "cell_type": "markdown",
   "id": "68efd802-86b5-44b7-928b-cf6d883e2141",
   "metadata": {},
   "source": [
    "#### Example 1\n",
    "\n",
    "A first example of a simple math-like function. The function is called `f`,\n",
    "takes numbers as inputs, and produces numbers as outputs:"
   ]
  },
  {
   "cell_type": "code",
   "execution_count": 72,
   "id": "6d4e3530",
   "metadata": {},
   "outputs": [],
   "source": [
    "def f(x):\n",
    "    return 2*x + 3"
   ]
  },
  {
   "cell_type": "markdown",
   "id": "9be06b8b-0ab3-4f52-9927-95d1f939ca39",
   "metadata": {},
   "source": [
    "To call the function `f`,\n",
    "we use the function name,\n",
    "the pass in the argument(s) of the function in parentheses."
   ]
  },
  {
   "cell_type": "code",
   "execution_count": 73,
   "id": "680f7ed9",
   "metadata": {},
   "outputs": [
    {
     "data": {
      "text/plain": [
       "23"
      ]
     },
     "execution_count": 73,
     "metadata": {},
     "output_type": "execute_result"
    }
   ],
   "source": [
    "f(10)"
   ]
  },
  {
   "cell_type": "markdown",
   "id": "e5a345e3",
   "metadata": {},
   "source": [
    "### Example 2"
   ]
  },
  {
   "cell_type": "code",
   "execution_count": 74,
   "id": "42d6774a",
   "metadata": {},
   "outputs": [],
   "source": [
    "# TODO\n"
   ]
  },
  {
   "cell_type": "markdown",
   "id": "cbf57020-6506-4132-9212-740f1575a18e",
   "metadata": {},
   "source": [
    "## Statistics functions\n",
    "\n",
    "Your turn to play with lists now!\n",
    "Complete the code required to implement the functions `mean` and `std` below."
   ]
  },
  {
   "cell_type": "markdown",
   "id": "7be9064c-2ad6-4743-bcf2-929ba5e9f11d",
   "metadata": {},
   "source": [
    "### Question 1: Mean\n",
    "\n",
    "The formula for the mean of a list of numbers $[x_1, x_2, \\ldots, x_n]$ is:\n",
    "$$\n",
    "    \\text{mean} = \\overline{x}\n",
    "    = \\frac{1}{n}\\sum_{i=1}^n x_i\n",
    "    = \\tfrac{1}{n} \\left[ x_1 + x_2 + \\cdots + x_n \\right].\n",
    "$$\n",
    "\n",
    "\n",
    "Write the function `mean(numbers)`: a function that computes the mean of a list of numbers"
   ]
  },
  {
   "cell_type": "code",
   "execution_count": 75,
   "id": "a2752b71",
   "metadata": {},
   "outputs": [
    {
     "data": {
      "text/plain": [
       "100.5"
      ]
     },
     "execution_count": 75,
     "metadata": {},
     "output_type": "execute_result"
    }
   ],
   "source": [
    "def mean(numbers):\n",
    "    \"\"\"\n",
    "    Computes the mean of the `numbers` list using a for loop.\n",
    "    \"\"\"\n",
    "    total = 0\n",
    "    for number in numbers:\n",
    "        total = total + number\n",
    "    return total / len(numbers)  \n",
    "\n",
    "\n",
    "mean([100,101])"
   ]
  },
  {
   "cell_type": "code",
   "execution_count": 76,
   "id": "b582a8bf",
   "metadata": {},
   "outputs": [
    {
     "name": "stdout",
     "output_type": "stream",
     "text": [
      "All tests passed. Good job!\n"
     ]
    }
   ],
   "source": [
    "# TEST CODE (run this code to test you solution)\n",
    "from test_helpers import test_mean\n",
    "\n",
    "# RUN TESTS\n",
    "test_mean(mean)"
   ]
  },
  {
   "cell_type": "code",
   "execution_count": null,
   "id": "898cdb91",
   "metadata": {},
   "outputs": [],
   "source": []
  },
  {
   "cell_type": "markdown",
   "id": "b7ba0463-a0dd-4b80-b0a9-eae8d9627e92",
   "metadata": {},
   "source": [
    "### Question 2: Sample standard deviation\n",
    "\n",
    "The formula for the sample standard seviation of a list of numbers is:\n",
    "$$\n",
    "    \\text{std}(\\textbf{x}) = s\n",
    "    = \\sqrt{ \\tfrac{1}{n-1}\\sum_{i=1}^n (x_i-\\overline{x})^2 }\n",
    "    = \\sqrt{ \\tfrac{1}{n-1}\\left[ (x_1-\\overline{x})^2 + (x_2-\\overline{x})^2 + \\cdots + (x_n-\\overline{x})^2\\right]}.\n",
    "$$\n",
    "\n",
    "Note the division is by $(n-1)$ and not $n$. Strange, no? You'll have to wait until stats to see why this is the case.\n",
    "\n",
    "Write `compute_std(numbers)`: computes the sample standard deviation"
   ]
  },
  {
   "cell_type": "code",
   "execution_count": 77,
   "id": "d9a96ad2",
   "metadata": {},
   "outputs": [
    {
     "data": {
      "text/plain": [
       "29.011491975882016"
      ]
     },
     "execution_count": 77,
     "metadata": {},
     "output_type": "execute_result"
    }
   ],
   "source": [
    "import math\n",
    "\n",
    "def std(numbers):\n",
    "    \"\"\"\n",
    "    Computes the sample standard deviation (square root of the sample variance)\n",
    "    using a for loop.\n",
    "    \"\"\"\n",
    "    avg = mean(numbers) \n",
    "    total = 0\n",
    "    for number in numbers:\n",
    "        total = total + (number-avg)**2\n",
    "    var = total/(len(numbers)-1)    \n",
    "    return math.sqrt(var)\n",
    "\n",
    "numbers = list(range(0,100))\n",
    "std(numbers)"
   ]
  },
  {
   "cell_type": "code",
   "execution_count": 78,
   "id": "f3dedc7e",
   "metadata": {},
   "outputs": [
    {
     "data": {
      "text/plain": [
       "29.011491975882016"
      ]
     },
     "execution_count": 78,
     "metadata": {},
     "output_type": "execute_result"
    }
   ],
   "source": [
    "# compare to known good function...\n",
    "import statistics\n",
    "statistics.stdev(numbers)"
   ]
  },
  {
   "cell_type": "code",
   "execution_count": 79,
   "id": "85d86f5d",
   "metadata": {},
   "outputs": [
    {
     "name": "stdout",
     "output_type": "stream",
     "text": [
      "All tests passed. Good job!\n"
     ]
    }
   ],
   "source": [
    "# TEST CODE (run this code to test you solution)\n",
    "from test_helpers import test_std\n",
    "\n",
    "# RUN TESTS\n",
    "test_std(std)"
   ]
  },
  {
   "cell_type": "code",
   "execution_count": null,
   "id": "45e1a6c2",
   "metadata": {},
   "outputs": [],
   "source": []
  },
  {
   "cell_type": "markdown",
   "id": "b86d8ef3",
   "metadata": {},
   "source": [
    "#### Exercise 2\n",
    "\n",
    "Write a Python function called `temp_C_to_F` that converts C to F"
   ]
  },
  {
   "cell_type": "code",
   "execution_count": 80,
   "id": "cbdb8946-991b-4851-b9fd-043ebf245d92",
   "metadata": {},
   "outputs": [],
   "source": [
    "def temp_C_to_F(temp_C):\n",
    "    \"\"\"\n",
    "    Convert the temprate `temp_C` to Farenheit.\n",
    "    \"\"\"\n",
    "    pass  # replace `pass` with your code"
   ]
  },
  {
   "cell_type": "code",
   "execution_count": 81,
   "id": "78964c7e",
   "metadata": {},
   "outputs": [
    {
     "data": {
      "text/plain": [
       "100.03999999999999"
      ]
     },
     "execution_count": 81,
     "metadata": {},
     "output_type": "execute_result"
    }
   ],
   "source": [
    "#@titlesolution\n",
    "def temp_C_to_F(temp_C):\n",
    "    \"\"\"\n",
    "    Convert the temprate `temp_C` to Farenheit.\n",
    "    \"\"\"\n",
    "    temp_F = (temp_C * 9/5) + 32\n",
    "    return temp_F\n",
    "\n",
    "temp_C_to_F(37.8)"
   ]
  },
  {
   "cell_type": "code",
   "execution_count": null,
   "id": "6e88420a-7e02-4d34-b5e8-6f00bd4aaef4",
   "metadata": {},
   "outputs": [],
   "source": []
  },
  {
   "cell_type": "code",
   "execution_count": null,
   "id": "36c71805-e0ae-410b-9fa0-51dc75f8c066",
   "metadata": {},
   "outputs": [],
   "source": []
  },
  {
   "cell_type": "markdown",
   "id": "0156f40d-161e-4033-93ee-e6939d53490d",
   "metadata": {},
   "source": [
    "# Other data structures\n",
    "\n",
    "We already discussed `list`s, which is the most important data structure (container for data) in Python.\n",
    "\n",
    "In this section we'll briefly introduce some other data structures you might encounter."
   ]
  },
  {
   "cell_type": "markdown",
   "id": "657f7ee0-2441-4e27-8f68-f158be75b648",
   "metadata": {},
   "source": [
    "## Strings"
   ]
  },
  {
   "cell_type": "markdown",
   "id": "b912caf6-9362-42e7-b1a1-8e08f866ddcb",
   "metadata": {},
   "source": [
    "### String expressions\n",
    "\n",
    "Let's look at some expressions that involve strings."
   ]
  },
  {
   "cell_type": "code",
   "execution_count": 82,
   "id": "cacec474-dbdf-4dd2-9ae9-c2f73266ffc6",
   "metadata": {},
   "outputs": [
    {
     "data": {
      "text/plain": [
       "'Hello julie'"
      ]
     },
     "execution_count": 82,
     "metadata": {},
     "output_type": "execute_result"
    }
   ],
   "source": [
    "name = \"julie\"\n",
    "message = \"Hello \" + name    # for strings, + means concatenate\n",
    "message"
   ]
  },
  {
   "cell_type": "code",
   "execution_count": 83,
   "id": "4ac8448a-7481-4ecf-96fe-48777dc3aa38",
   "metadata": {},
   "outputs": [
    {
     "data": {
      "text/plain": [
       "'Hi Julie Tremblay!'"
      ]
     },
     "execution_count": 83,
     "metadata": {},
     "output_type": "execute_result"
    }
   ],
   "source": [
    "first_name = \"Julie\"\n",
    "last_name = \"Tremblay\"\n",
    "full_name = first_name + \" \" + last_name\n",
    "message = \"Hi \" + full_name + \"!\"\n",
    "message"
   ]
  },
  {
   "cell_type": "code",
   "execution_count": null,
   "id": "9056cdea-948b-435c-95ec-c961e35e1ff7",
   "metadata": {},
   "outputs": [],
   "source": []
  },
  {
   "cell_type": "markdown",
   "id": "9b3d5460-769f-48ef-aa16-5530e471522f",
   "metadata": {
    "tags": []
   },
   "source": [
    "### Strings are lists of characters\n",
    "\n",
    "You can think of the string `\"abc\"` a being equivalent to a list of three characters `[\"a\", \"b\", \"c\"]`,\n",
    "and use the usual list syntax to access the individual characters in the list.\n",
    "\n",
    "To illustrate this list-like behaviour of strings,\n",
    "let's define a string of length 26 that contains all the lowercase Latin letters."
   ]
  },
  {
   "cell_type": "code",
   "execution_count": 84,
   "id": "b4a766d5-8f1b-4973-a6c1-8fdfc28140cc",
   "metadata": {},
   "outputs": [
    {
     "data": {
      "text/plain": [
       "'abcdefghijklmnopqrstuvwxyz'"
      ]
     },
     "execution_count": 84,
     "metadata": {},
     "output_type": "execute_result"
    }
   ],
   "source": [
    "letters = \"abcdefghijklmnopqrstuvwxyz\"\n",
    "letters"
   ]
  },
  {
   "cell_type": "code",
   "execution_count": 85,
   "id": "22b75d6b-5459-4548-81d5-50bd9f1b7dbe",
   "metadata": {},
   "outputs": [
    {
     "data": {
      "text/plain": [
       "26"
      ]
     },
     "execution_count": 85,
     "metadata": {},
     "output_type": "execute_result"
    }
   ],
   "source": [
    "len(letters)"
   ]
  },
  {
   "cell_type": "markdown",
   "id": "2a91f138-6236-48e3-9c8d-13f1c2f47c98",
   "metadata": {},
   "source": [
    "We can access the individual characters within the using the square brackets.\n",
    "For example, the index of the letter `\"a\"` in the string `letters` is `0`:"
   ]
  },
  {
   "cell_type": "code",
   "execution_count": 86,
   "id": "6fbe60a9-7cb4-445b-8e60-51f24aaf30d3",
   "metadata": {},
   "outputs": [
    {
     "data": {
      "text/plain": [
       "'a'"
      ]
     },
     "execution_count": 86,
     "metadata": {},
     "output_type": "execute_result"
    }
   ],
   "source": [
    "letters[0]"
   ]
  },
  {
   "cell_type": "markdown",
   "id": "9b68ff0d-5e01-4cf4-8614-828208f6b91e",
   "metadata": {},
   "source": [
    "The index of the letter `\"b\"` in the string `letters` is `1`:"
   ]
  },
  {
   "cell_type": "code",
   "execution_count": 87,
   "id": "b85fb88e-75a9-4e15-8d38-d0d035f8de4c",
   "metadata": {},
   "outputs": [
    {
     "data": {
      "text/plain": [
       "'b'"
      ]
     },
     "execution_count": 87,
     "metadata": {},
     "output_type": "execute_result"
    }
   ],
   "source": [
    "letters[1]"
   ]
  },
  {
   "cell_type": "markdown",
   "id": "35f7b0f7-8095-4c36-875b-a2f781b5b3fe",
   "metadata": {},
   "source": [
    "The last element in list of 26 letters has index `25`"
   ]
  },
  {
   "cell_type": "code",
   "execution_count": 88,
   "id": "e91868f7-65b6-4914-85fb-37f593b469b9",
   "metadata": {},
   "outputs": [
    {
     "data": {
      "text/plain": [
       "'z'"
      ]
     },
     "execution_count": 88,
     "metadata": {},
     "output_type": "execute_result"
    }
   ],
   "source": [
    "letters[25]"
   ]
  },
  {
   "cell_type": "markdown",
   "id": "e7921a3f-dd3a-4784-ba41-84f13e6ca471",
   "metadata": {},
   "source": [
    "Alternatively,\n",
    "we can access the last letter using the negative index `-1`:"
   ]
  },
  {
   "cell_type": "code",
   "execution_count": 89,
   "id": "14a8ffb8-f13d-4a86-b157-e2a4ef608b2b",
   "metadata": {},
   "outputs": [
    {
     "data": {
      "text/plain": [
       "'z'"
      ]
     },
     "execution_count": 89,
     "metadata": {},
     "output_type": "execute_result"
    }
   ],
   "source": [
    "letters[-1]"
   ]
  },
  {
   "cell_type": "markdown",
   "id": "ad2b5cfb-6b53-4286-b8ba-2f9d3d5e6026",
   "metadata": {},
   "source": [
    "We can use slicing to get any substring that spans a particular range of indices.\n",
    "For example,\n",
    "the first four letters of the alphabet are are:"
   ]
  },
  {
   "cell_type": "code",
   "execution_count": 90,
   "id": "1f73b115-bbca-43a0-a9bc-ce7913d28624",
   "metadata": {},
   "outputs": [
    {
     "data": {
      "text/plain": [
       "'abcd'"
      ]
     },
     "execution_count": 90,
     "metadata": {},
     "output_type": "execute_result"
    }
   ],
   "source": [
    "letters[0:4]"
   ]
  },
  {
   "cell_type": "markdown",
   "id": "eb1ac6a2-6922-4a6c-89ae-b3952caa668c",
   "metadata": {},
   "source": [
    "The syntax `0:4` is a shorthand for the expression `slice(0,4)`,\n",
    "which corresponds to the range of indices from `0` (inclusive) to `4` (non-inclusinve): `[0,1,2,3]`."
   ]
  },
  {
   "cell_type": "code",
   "execution_count": null,
   "id": "547f6dce-9696-499f-926d-713d19d1efe3",
   "metadata": {},
   "outputs": [],
   "source": []
  },
  {
   "cell_type": "markdown",
   "id": "a811db78-66a4-43de-9fc5-0906a0ed8ee5",
   "metadata": {},
   "source": [
    "### Type conversions\n",
    "\n",
    "We sometimes need to convert between variables of different types. The functions for conversing types are have the same name as the type of an object:\n",
    "\n",
    "- `int` : convert any expression into an `int`\n",
    "- `float`: convert any expression into a `float`\n",
    "- `str`: convert an expression to its text representation.\n",
    "\n",
    "<!-- cut to keep things simple:\n",
    "\n",
    "- `bool`: transform any expression into a `True` or `False`\n",
    "- `list`: transform an any iterable expression into a `list`\n",
    "-->"
   ]
  },
  {
   "cell_type": "markdown",
   "id": "3e504a6b-8d51-4a7f-bd0f-05a87fcabfac",
   "metadata": {},
   "source": [
    "#### Example: converting `str` to `float`"
   ]
  },
  {
   "cell_type": "code",
   "execution_count": 91,
   "id": "83c8e652-cf92-4870-b6f5-5f90a351adfd",
   "metadata": {},
   "outputs": [
    {
     "data": {
      "text/plain": [
       "str"
      ]
     },
     "execution_count": 91,
     "metadata": {},
     "output_type": "execute_result"
    }
   ],
   "source": [
    "type(\"42.5\")"
   ]
  },
  {
   "cell_type": "code",
   "execution_count": 92,
   "id": "cf095c04-70bd-483c-a995-c7cfb3c157b5",
   "metadata": {},
   "outputs": [
    {
     "data": {
      "text/plain": [
       "42.5"
      ]
     },
     "execution_count": 92,
     "metadata": {},
     "output_type": "execute_result"
    }
   ],
   "source": [
    "f = float(\"42.5\")\n",
    "f"
   ]
  },
  {
   "cell_type": "code",
   "execution_count": 93,
   "id": "d5233dd6-dd80-4fe4-9334-b3cbdeb3e3fa",
   "metadata": {},
   "outputs": [
    {
     "data": {
      "text/plain": [
       "float"
      ]
     },
     "execution_count": 93,
     "metadata": {},
     "output_type": "execute_result"
    }
   ],
   "source": [
    "type(f)"
   ]
  },
  {
   "cell_type": "code",
   "execution_count": null,
   "id": "ce6e26f6-9bfe-4cb6-9eec-7999b574fe62",
   "metadata": {},
   "outputs": [],
   "source": []
  },
  {
   "cell_type": "markdown",
   "id": "34c1ceb9-35a9-47d2-81b9-706c677b3314",
   "metadata": {},
   "source": [
    "#### Exercise 6: compute the sum of two strings\n",
    "\n",
    "Suppose we're given two numbers $m$ and $n$ and we want to compute their sum $m+n$.\n",
    "The two numbers are given to use given expressed as strings."
   ]
  },
  {
   "cell_type": "code",
   "execution_count": 94,
   "id": "66eab1bc-a797-4d00-8aa2-d615eb492bec",
   "metadata": {},
   "outputs": [
    {
     "name": "stdout",
     "output_type": "stream",
     "text": [
      "The variable mstr has value 2.1 and type <class 'str'>\n",
      "The variable nstr has value 3.4 and type <class 'str'>\n"
     ]
    }
   ],
   "source": [
    "mstr = \"2.1\"\n",
    "nstr = \"3.4\"\n",
    "print(\"The variable mstr has value\", mstr, \"and type\", type(mstr))\n",
    "print(\"The variable nstr has value\", nstr, \"and type\", type(nstr))"
   ]
  },
  {
   "cell_type": "markdown",
   "id": "ac13c0a8-392b-45ec-aec7-0b82e3341d79",
   "metadata": {},
   "source": [
    "Let's try adding the two numbers together to see what happens..."
   ]
  },
  {
   "cell_type": "code",
   "execution_count": 95,
   "id": "b32fbd79-ef98-4af5-bb32-d441baea5407",
   "metadata": {},
   "outputs": [
    {
     "data": {
      "text/plain": [
       "'2.13.4'"
      ]
     },
     "execution_count": 95,
     "metadata": {},
     "output_type": "execute_result"
    }
   ],
   "source": [
    "mstr + nstr"
   ]
  },
  {
   "cell_type": "markdown",
   "id": "2653f4ba-df11-4326-9f5b-7d743f5b747b",
   "metadata": {},
   "source": [
    "This is because the addition operator `+` for strings means concatenate, not add.\n",
    "Python doesn't know automatically that the two text strings are mean to be numbers.\n",
    "\n",
    "We have to manually convert the strings to a Python numerical type (`float`) first,\n",
    "then we can add them together."
   ]
  },
  {
   "cell_type": "markdown",
   "id": "61d3c3ba-92f0-44cc-a804-c2cc76a92941",
   "metadata": {},
   "source": [
    "Write the Python code that converts the variables `mstr` and `nstr` to floating point numbers and add them together."
   ]
  },
  {
   "cell_type": "code",
   "execution_count": 96,
   "id": "2e222e82-84b1-4640-8522-3693f3965a7a",
   "metadata": {},
   "outputs": [
    {
     "name": "stdout",
     "output_type": "stream",
     "text": [
      "The variable mfloat has value 2.1 and type <class 'float'>\n",
      "The variable nfloat has value 3.4 and type <class 'float'>\n"
     ]
    },
    {
     "data": {
      "text/plain": [
       "5.5"
      ]
     },
     "execution_count": 96,
     "metadata": {},
     "output_type": "execute_result"
    }
   ],
   "source": [
    "#@titlesolution\n",
    "mfloat = float(mstr)\n",
    "nfloat = float(nstr)\n",
    "print(\"The variable mfloat has value\", mfloat, \"and type\", type(mfloat))\n",
    "print(\"The variable nfloat has value\", nfloat, \"and type\", type(nfloat))\n",
    "\n",
    "\n",
    "# compute the sum\n",
    "mfloat + nfloat"
   ]
  },
  {
   "cell_type": "markdown",
   "id": "5ce68f29-4825-4430-8798-d21f1f57cad9",
   "metadata": {},
   "source": [
    "**Exercise** write the Python code that converts a list of string variables `prices_str`\n",
    "to floating point numbers and add them together."
   ]
  },
  {
   "cell_type": "code",
   "execution_count": 97,
   "id": "20ceb250-9718-4446-8c64-fe3b9defe3d8",
   "metadata": {},
   "outputs": [],
   "source": [
    "prices_str = [\"22.2\", \"10.1\", \"33.3\"]\n",
    "\n",
    "# write here the code that computes the total price"
   ]
  },
  {
   "cell_type": "code",
   "execution_count": 98,
   "id": "8c9174d8-dff1-4b0e-b2a2-f983ecadeb34",
   "metadata": {},
   "outputs": [
    {
     "data": {
      "text/plain": [
       "65.6"
      ]
     },
     "execution_count": 98,
     "metadata": {},
     "output_type": "execute_result"
    }
   ],
   "source": [
    "#@titlesolution\n",
    "prices_str = [\"22.2\", \"10.1\", \"33.3\"]\n",
    "prices_float = [float(price) for price in prices_str]\n",
    "sum(prices_float)"
   ]
  },
  {
   "cell_type": "code",
   "execution_count": null,
   "id": "78fbf652-2c8f-4fe7-8fff-02bde2f23036",
   "metadata": {},
   "outputs": [],
   "source": []
  },
  {
   "cell_type": "markdown",
   "id": "c9705024-a760-483d-830a-a9ab8cbdbbca",
   "metadata": {
    "tags": []
   },
   "source": [
    "## Boolean variables and conditional statements\n",
    "\n",
    "Boolean variables can have one of two possible values, either `True` or `False`.\n",
    "We obtain boolean values when we perform numerical comparisons."
   ]
  },
  {
   "cell_type": "code",
   "execution_count": 99,
   "id": "ddae232f-1bee-4264-b2bd-cc845ab06c1a",
   "metadata": {},
   "outputs": [
    {
     "data": {
      "text/plain": [
       "True"
      ]
     },
     "execution_count": 99,
     "metadata": {},
     "output_type": "execute_result"
    }
   ],
   "source": [
    "x = 3\n",
    "x > 2  # Is x greater than 2?"
   ]
  },
  {
   "cell_type": "markdown",
   "id": "a5825884-7a89-44e6-867f-177515bbcb6b",
   "metadata": {},
   "source": [
    "Other arithmetic comparisons include `<`, `>=`, `<=`, `==` (equal to), `!=` (not equal to)."
   ]
  },
  {
   "cell_type": "markdown",
   "id": "acd8cd7a-741b-4bf8-9f15-c279ce993be1",
   "metadata": {},
   "source": [
    "The `in` operator can be used to check if an object is part of a list (or another kind of collection)."
   ]
  },
  {
   "cell_type": "code",
   "execution_count": 100,
   "id": "ee093a89-c0e8-4697-b851-730266148e36",
   "metadata": {},
   "outputs": [
    {
     "data": {
      "text/plain": [
       "True"
      ]
     },
     "execution_count": 100,
     "metadata": {},
     "output_type": "execute_result"
    }
   ],
   "source": [
    "x = 3\n",
    "x in [1,2,3,4]  # Is x in the list [1,2,3,4] ?"
   ]
  },
  {
   "cell_type": "markdown",
   "id": "490ff213-feb5-482a-8e35-52ae9c4888a3",
   "metadata": {},
   "source": [
    "Boolean expressions are used in conditional statements,\n",
    "which are blocks of Python code that may or may not be executed depending on the value of a boolean expression."
   ]
  },
  {
   "cell_type": "markdown",
   "id": "06be47b0-ee8b-4aa1-919a-9b15fe94e105",
   "metadata": {},
   "source": [
    "### Conditional statements\n",
    "\n",
    "Conditional control flow between code block alternatives.\n"
   ]
  },
  {
   "cell_type": "code",
   "execution_count": 101,
   "id": "aff62239-c311-4639-bcbb-3a67d617318a",
   "metadata": {},
   "outputs": [
    {
     "name": "stdout",
     "output_type": "stream",
     "text": [
      "This code will run\n"
     ]
    }
   ],
   "source": [
    "if True:\n",
    "    print(\"This code will run\")\n",
    "\n",
    "if False:\n",
    "    print(\"This code will not run\")"
   ]
  },
  {
   "cell_type": "code",
   "execution_count": 102,
   "id": "bb67abe5-01e6-413b-9f24-863e7270cca3",
   "metadata": {},
   "outputs": [
    {
     "name": "stdout",
     "output_type": "stream",
     "text": [
      "x is greater than 2\n"
     ]
    }
   ],
   "source": [
    "x = 3\n",
    "if x > 2:\n",
    "    print(\"x is greater than 2\")\n",
    "else:\n",
    "    print(\"x is less than or equal to 2\")"
   ]
  },
  {
   "cell_type": "markdown",
   "id": "3de861e8-0d22-4773-9631-c7b5d3bdb208",
   "metadata": {},
   "source": [
    "We can do multiple checks using `elif` statements."
   ]
  },
  {
   "cell_type": "code",
   "execution_count": 103,
   "id": "b0cb5ac6-acdc-4af4-b953-c2c5f072d53f",
   "metadata": {},
   "outputs": [
    {
     "name": "stdout",
     "output_type": "stream",
     "text": [
      "It's hot!\n"
     ]
    }
   ],
   "source": [
    "temp = 25\n",
    "\n",
    "if temp > 22:\n",
    "    print(\"It's hot!\")\n",
    "elif temp < 10:\n",
    "    print(\"It's cold!\")\n",
    "else:\n",
    "    print(\"It's OK.\")"
   ]
  },
  {
   "cell_type": "markdown",
   "id": "6fb43060-193e-4390-8109-25605f38d677",
   "metadata": {},
   "source": [
    "**Exercise**: add another condition to the above code to print `It's very hot` if the temperature is above 30."
   ]
  },
  {
   "cell_type": "code",
   "execution_count": null,
   "id": "40af59c2-e90e-4bd9-953d-3fbeee946dd5",
   "metadata": {},
   "outputs": [],
   "source": []
  },
  {
   "cell_type": "markdown",
   "id": "aea84d47-bfeb-4cbc-a991-0cd1de91e4ae",
   "metadata": {},
   "source": [
    "### Boolean expressions\n",
    "\n",
    "You can use `bool` variables and the logical operations `and`, `or`, `not`, etc. to build more complicated boolean expressions (logical conjunctions, disjunctions, and negations)."
   ]
  },
  {
   "cell_type": "code",
   "execution_count": 104,
   "id": "a3fd0d1a-b256-495a-b747-b895a42e91fc",
   "metadata": {},
   "outputs": [
    {
     "data": {
      "text/plain": [
       "(True, False, False, False)"
      ]
     },
     "execution_count": 104,
     "metadata": {},
     "output_type": "execute_result"
    }
   ],
   "source": [
    "True and True, True and False, False and True, False and False"
   ]
  },
  {
   "cell_type": "code",
   "execution_count": 105,
   "id": "0204a343-689e-475e-82f2-bcccfea7f47d",
   "metadata": {},
   "outputs": [
    {
     "data": {
      "text/plain": [
       "(True, True, True, False)"
      ]
     },
     "execution_count": 105,
     "metadata": {},
     "output_type": "execute_result"
    }
   ],
   "source": [
    "True or True, True or False, False or True, False or False"
   ]
  },
  {
   "cell_type": "code",
   "execution_count": 106,
   "id": "b517fd0f",
   "metadata": {},
   "outputs": [
    {
     "data": {
      "text/plain": [
       "True"
      ]
     },
     "execution_count": 106,
     "metadata": {},
     "output_type": "execute_result"
    }
   ],
   "source": [
    "x = 3\n",
    "x >= 0 and x <= 10"
   ]
  },
  {
   "cell_type": "code",
   "execution_count": 107,
   "id": "0df03371-779f-4aa9-afdc-6c135f4fe26c",
   "metadata": {},
   "outputs": [
    {
     "data": {
      "text/plain": [
       "False"
      ]
     },
     "execution_count": 107,
     "metadata": {},
     "output_type": "execute_result"
    }
   ],
   "source": [
    "x < 0 or x > 10"
   ]
  },
  {
   "cell_type": "code",
   "execution_count": null,
   "id": "d22cb77b-1651-4fdf-af9b-b3c55049d9ac",
   "metadata": {},
   "outputs": [],
   "source": []
  },
  {
   "cell_type": "markdown",
   "id": "83ff1fa9-c72d-4590-af3b-d54000ddb337",
   "metadata": {},
   "source": [
    "**Exercise 1**\n",
    "The phase of water (at sea-level pressure = 1 atm = 101.3 kPa = 14.7 psi) ,\n",
    "depends on its temperature `temp`.\n",
    "The three possible phases of water are `\"gas\"` (water vapour), `\"liquid\"` (water), and `\"solid\"` (ice).\n",
    "The table below shows the phase of water depending on the temperature `temp`,\n",
    "expresses as math inequalities.\n",
    "\n",
    "```\n",
    "temp range          phase\n",
    "---------------     -----\n",
    "temp >= 100         gas\n",
    "0 <= temp < 100     liquid\n",
    "temp < 0            solid\n",
    "```\n",
    "\n",
    "Your task is to fill-in the `if-elif-else` statement in the code cell below,\n",
    "in order to print the correct phase string,\n",
    "depending on the value of the variables `temp`."
   ]
  },
  {
   "cell_type": "code",
   "execution_count": 108,
   "id": "e9ff9df7-38b0-4812-8cc6-ef053f725797",
   "metadata": {},
   "outputs": [],
   "source": [
    "# temperature in Celcius (int or float)\n",
    "temp = 90\n",
    "\n",
    "# if ...:\n",
    "#     print(....)\n",
    "# elif ...:\n",
    "#     print(....)\n",
    "# else:\n",
    "#     print(....)\n",
    "\n",
    "\n",
    "# uncomment the code if-elif-else statement above and replace:\n",
    "#   ... with conditions (translate math inequaility into Python code),\n",
    "#  .... with the appropriate phase string (one of \"gas\", \"liquid\", or \"solid\")"
   ]
  },
  {
   "cell_type": "code",
   "execution_count": 109,
   "id": "72f83a8b-264d-4413-9a74-cc707408a977",
   "metadata": {},
   "outputs": [
    {
     "name": "stdout",
     "output_type": "stream",
     "text": [
      "liquid\n"
     ]
    }
   ],
   "source": [
    "#@titlesolution\n",
    "temp = 90\n",
    "\n",
    "if temp >= 100:\n",
    "    print(\"gas\")\n",
    "elif temp >= 0:\n",
    "    print(\"liquid\")\n",
    "else:\n",
    "    print(\"solid\")"
   ]
  },
  {
   "cell_type": "markdown",
   "id": "801585ff-490f-4883-b3f4-4015159bbacc",
   "metadata": {},
   "source": [
    "**Exercise 2**\n",
    "Teacher Joelle has computed the final scores of the students as a percentage (a `score` out of 100). The final grade was computed as a weighted combination of the student's average grade on the assignments, one midterm exam, and a final exam (more on this later).\n",
    "\n",
    "The school where she teachers, requires her to convert each student's `score` to a  letter grade, according to the following [grading scale](https://www.mcgill.ca/study/2022-2023/university_regulations_and_resources/undergraduate/gi_grading_and_grade_point_averages):\n",
    "```\n",
    "Grade         Numerical score interval\n",
    "A             85% – 100%\n",
    "A-            80% – 84.999…%\n",
    "B+            75% – 79.999…%\n",
    "B             70% – 74.999…%\n",
    "B-            65% – 69.999…%\n",
    "C+            60% – 64.999…%\n",
    "C             55% – 59.999…%\n",
    "D             50% – 54.999…%\n",
    "F             0% – 49.999…%\n",
    "```\n",
    "Write the if-elif-elif-.....-else statement that takes the score variable (an int between 0 and 100), and prints the appropriate letter grade for that score.\n"
   ]
  },
  {
   "cell_type": "code",
   "execution_count": 110,
   "id": "dd91cc5f-8079-4ee9-b36f-7d2177d8a1c6",
   "metadata": {},
   "outputs": [],
   "source": [
    "# student score as a percentage\n",
    "score = 90\n",
    "\n",
    "# if ...:\n",
    "#     print(....)\n",
    "# elif ...:\n",
    "#     print(....)\n",
    "# .....\n",
    "\n",
    "# uncomment the code if-elif-.. statement above and replace:\n",
    "#   ... with the appropriate conditions,\n",
    "#  .... with the appropriate letter grades (strings), and\n",
    "# ..... with additional elif blocks to cover all the cases."
   ]
  },
  {
   "cell_type": "code",
   "execution_count": 111,
   "id": "5f32a484-b4c2-45e9-8b5c-348913e3eee8",
   "metadata": {},
   "outputs": [
    {
     "name": "stdout",
     "output_type": "stream",
     "text": [
      "B\n"
     ]
    }
   ],
   "source": [
    "#@titlesolution\n",
    "score = 73\n",
    "\n",
    "if score >= 85:\n",
    "    print(\"A\")\n",
    "elif score >= 80:\n",
    "    print(\"A-\")\n",
    "elif score >= 75:\n",
    "    print(\"B+\")\n",
    "elif score >= 70:\n",
    "    print(\"B\")\n",
    "elif score >= 65:\n",
    "    print(\"B-\")\n",
    "elif score >= 60:\n",
    "    print(\"C+\")\n",
    "elif score >= 55:\n",
    "    print(\"C\")\n",
    "elif score >= 50:\n",
    "    print(\"D\")\n",
    "else:\n",
    "    print(\"F\")"
   ]
  },
  {
   "cell_type": "code",
   "execution_count": null,
   "id": "bb442304-6812-4c45-8d49-8976fb670cc3",
   "metadata": {},
   "outputs": [],
   "source": []
  },
  {
   "cell_type": "markdown",
   "id": "4469f7f1-222b-43db-8350-78be4f6193b3",
   "metadata": {},
   "source": [
    "### Inline if statements (bonus topic)\n",
    "\n",
    "We can also use if-else keywords to compute conditional expressions.\n",
    "The general syntax for these is:\n",
    "```Python\n",
    "<value1> if <condition> else <value2>\n",
    "```\n",
    "\n",
    "This expressions evaluates to `<value1>` if `<condition>` is True,\n",
    "else it evaluates to `<value2>` when `<condition>` is False."
   ]
  },
  {
   "cell_type": "code",
   "execution_count": 112,
   "id": "9c2ab462-9fd8-4054-95c3-d9c9777b8ca5",
   "metadata": {},
   "outputs": [
    {
     "data": {
      "text/plain": [
       "\"It's hot!\""
      ]
     },
     "execution_count": 112,
     "metadata": {},
     "output_type": "execute_result"
    }
   ],
   "source": [
    "temp = 25\n",
    "msg = \"It's hot!\" if temp > 22 else \"It's OK.\"\n",
    "msg"
   ]
  },
  {
   "cell_type": "code",
   "execution_count": null,
   "id": "7b5d624d-1343-4bc1-954d-8cfa335f5b7a",
   "metadata": {},
   "outputs": [],
   "source": []
  },
  {
   "cell_type": "code",
   "execution_count": null,
   "id": "a74b3a96-2300-425a-be54-2017b7c931f1",
   "metadata": {},
   "outputs": [],
   "source": []
  },
  {
   "cell_type": "markdown",
   "id": "0ec6ca56-1f63-47ce-8cf5-456581cd12c8",
   "metadata": {},
   "source": [
    "## Dictionaries\n",
    "\n",
    "When programming in Python,\n",
    "one of the most commonly used data structures,\n",
    "are dictionaries `dict`,\n",
    "and other `dict`-like data structures.\n",
    "\n",
    "A dictionary is an associate array between a set of `keys` and a set of `values`.\n",
    "For example,\n",
    "the code below defines dictionary `d` that consists of the three keys-value pairs:"
   ]
  },
  {
   "cell_type": "code",
   "execution_count": 113,
   "id": "2cbe5469-d441-4527-b8cc-df5d550f7f87",
   "metadata": {},
   "outputs": [],
   "source": [
    "d = {\"key1\":\"value1\", \"key2\":\"value2\", \"key3\":\"value3\"}"
   ]
  },
  {
   "cell_type": "code",
   "execution_count": 114,
   "id": "d67f493f-3c41-468e-b282-2c693c2ce362",
   "metadata": {},
   "outputs": [
    {
     "data": {
      "text/plain": [
       "{'key1': 'value1', 'key2': 'value2', 'key3': 'value3'}"
      ]
     },
     "execution_count": 114,
     "metadata": {},
     "output_type": "execute_result"
    }
   ],
   "source": [
    "d"
   ]
  },
  {
   "cell_type": "code",
   "execution_count": 115,
   "id": "7137d147-a739-4882-8795-e39770b436a9",
   "metadata": {},
   "outputs": [
    {
     "data": {
      "text/plain": [
       "dict_keys(['key1', 'key2', 'key3'])"
      ]
     },
     "execution_count": 115,
     "metadata": {},
     "output_type": "execute_result"
    }
   ],
   "source": [
    "d.keys()"
   ]
  },
  {
   "cell_type": "code",
   "execution_count": 116,
   "id": "cf558c1f-bb8a-43c5-9159-61c2de03dc8f",
   "metadata": {},
   "outputs": [
    {
     "data": {
      "text/plain": [
       "dict_values(['value1', 'value2', 'value3'])"
      ]
     },
     "execution_count": 116,
     "metadata": {},
     "output_type": "execute_result"
    }
   ],
   "source": [
    "d.values()"
   ]
  },
  {
   "cell_type": "markdown",
   "id": "4645a9a8-7a45-4927-abe6-7bfe6d6537b2",
   "metadata": {},
   "source": [
    "You access the value in the dictionary using the square brackets syntax.\n",
    "For example,\n",
    "to see the value associated with key `key1` in the dictionary `d`,\n",
    "we call:"
   ]
  },
  {
   "cell_type": "code",
   "execution_count": 117,
   "id": "292445ea-72b6-4adc-a06d-08d4e5d574d0",
   "metadata": {},
   "outputs": [
    {
     "data": {
      "text/plain": [
       "'value1'"
      ]
     },
     "execution_count": 117,
     "metadata": {},
     "output_type": "execute_result"
    }
   ],
   "source": [
    "d[\"key1\"]"
   ]
  },
  {
   "cell_type": "markdown",
   "id": "a57c81b0-085d-4276-b032-5957be335160",
   "metadata": {},
   "source": [
    "You can change the value associate with any key by assigning a new value to it:"
   ]
  },
  {
   "cell_type": "code",
   "execution_count": 118,
   "id": "cea52a07-c70b-497a-8bd6-a13231032aef",
   "metadata": {},
   "outputs": [
    {
     "data": {
      "text/plain": [
       "{'key1': 'value1', 'key2': 'newval2', 'key3': 'value3'}"
      ]
     },
     "execution_count": 118,
     "metadata": {},
     "output_type": "execute_result"
    }
   ],
   "source": [
    "d[\"key2\"] = \"newval2\"\n",
    "d"
   ]
  },
  {
   "cell_type": "markdown",
   "id": "0d154da6-69d9-4e1b-b50c-75ffd2ab5cda",
   "metadata": {},
   "source": [
    "### Exercise: creating a new profile dictionary\n",
    "\n",
    "Recall the `profile` dictionary we created earlier:\n",
    "\n",
    "```Python\n",
    "profile = {\"first_name\":\"Julie\",\n",
    "           \"last_name\":\"Tremblay\",\n",
    "           \"score\":98}\n",
    "```\n",
    "\n",
    "Create a dictionary called `profile2` with the same structure,\n",
    "but for the user `\"Justin Trudeau\"` with score `31`."
   ]
  },
  {
   "cell_type": "code",
   "execution_count": 119,
   "id": "e0bd5689-068b-4240-a194-0cfa4d170240",
   "metadata": {},
   "outputs": [
    {
     "data": {
      "text/plain": [
       "{'first_name': 'Justin', 'last_name': 'Trudeau', 'score': 31}"
      ]
     },
     "execution_count": 119,
     "metadata": {},
     "output_type": "execute_result"
    }
   ],
   "source": [
    "profile2 = {}\n",
    "profile2[\"first_name\"] = \"Justin\"\n",
    "profile2[\"last_name\"] = \"Trudeau\"\n",
    "profile2[\"score\"] = 31\n",
    "\n",
    "profile2"
   ]
  },
  {
   "cell_type": "code",
   "execution_count": null,
   "id": "2035f8ac-71ec-4d01-a1cc-8d3b9f3670b4",
   "metadata": {},
   "outputs": [],
   "source": []
  },
  {
   "cell_type": "markdown",
   "id": "fb31d5b1-55dc-4f52-a6d0-cca85146ccec",
   "metadata": {},
   "source": [
    "## Sets"
   ]
  },
  {
   "cell_type": "code",
   "execution_count": 120,
   "id": "e8e2a019-417a-4004-b139-ba806ab47838",
   "metadata": {},
   "outputs": [
    {
     "data": {
      "text/plain": [
       "set()"
      ]
     },
     "execution_count": 120,
     "metadata": {},
     "output_type": "execute_result"
    }
   ],
   "source": [
    "s = set()\n",
    "s"
   ]
  },
  {
   "cell_type": "code",
   "execution_count": 121,
   "id": "ed497bbd-43fb-42d3-ada5-9fa129748072",
   "metadata": {},
   "outputs": [
    {
     "data": {
      "text/plain": [
       "{3, 5}"
      ]
     },
     "execution_count": 121,
     "metadata": {},
     "output_type": "execute_result"
    }
   ],
   "source": [
    "s.add(3)\n",
    "s.add(5)\n",
    "s"
   ]
  },
  {
   "cell_type": "code",
   "execution_count": 122,
   "id": "e0aeddb7-b2c5-40b6-b0c3-ee6751f603ee",
   "metadata": {},
   "outputs": [
    {
     "data": {
      "text/plain": [
       "True"
      ]
     },
     "execution_count": 122,
     "metadata": {},
     "output_type": "execute_result"
    }
   ],
   "source": [
    "3 in s"
   ]
  },
  {
   "cell_type": "code",
   "execution_count": 123,
   "id": "a0ba1c57-fcd2-4eb1-b4b3-82b685f54b60",
   "metadata": {},
   "outputs": [
    {
     "name": "stdout",
     "output_type": "stream",
     "text": [
      "The set s contains the elements:\n",
      "3\n",
      "5\n"
     ]
    }
   ],
   "source": [
    "print(\"The set s contains the elements:\")\n",
    "for el in s:\n",
    "    print(el)"
   ]
  },
  {
   "cell_type": "code",
   "execution_count": null,
   "id": "8705d57a-10bf-44f5-91cf-4b0164ca93e0",
   "metadata": {},
   "outputs": [],
   "source": []
  },
  {
   "cell_type": "markdown",
   "id": "d081dd6f-30a6-4570-a014-7a9874e50e20",
   "metadata": {},
   "source": [
    "## Tuples\n",
    "\n",
    "Tuples are similar to lists but with less features."
   ]
  },
  {
   "cell_type": "code",
   "execution_count": 124,
   "id": "9733ed7d-21c8-4745-8b31-352c2d3f3b67",
   "metadata": {},
   "outputs": [
    {
     "data": {
      "text/plain": [
       "(2, 3)"
      ]
     },
     "execution_count": 124,
     "metadata": {},
     "output_type": "execute_result"
    }
   ],
   "source": [
    "2,3"
   ]
  },
  {
   "cell_type": "code",
   "execution_count": 125,
   "id": "0bc549ca-1c20-4777-9c62-41dc200c8b27",
   "metadata": {},
   "outputs": [
    {
     "data": {
      "text/plain": [
       "(2, 3)"
      ]
     },
     "execution_count": 125,
     "metadata": {},
     "output_type": "execute_result"
    }
   ],
   "source": [
    "(2,3)"
   ]
  },
  {
   "cell_type": "markdown",
   "id": "dcba01d5-56c0-4d42-abc0-5b12d5d2320a",
   "metadata": {},
   "source": [
    "We can use the tuples syntax to assign to multiple variables on a single line:"
   ]
  },
  {
   "cell_type": "code",
   "execution_count": 126,
   "id": "cdf38d2e-e16f-422c-93e7-d5abbd6f0fe2",
   "metadata": {},
   "outputs": [],
   "source": [
    "x, y = 3, 4"
   ]
  },
  {
   "cell_type": "markdown",
   "id": "9fb0eb0a-a2be-4d77-88cd-bb5770cea9a5",
   "metadata": {},
   "source": [
    "We can also use tuples to \"swap\" two values."
   ]
  },
  {
   "cell_type": "code",
   "execution_count": 127,
   "id": "73fa9f45-7b18-4601-86d4-c2f501708fe3",
   "metadata": {},
   "outputs": [],
   "source": [
    "# Swap the contexts of the variables x and y\n",
    "tmp = x\n",
    "y = x\n",
    "x = tmp"
   ]
  },
  {
   "cell_type": "code",
   "execution_count": 128,
   "id": "a89051e1-1222-46b7-ad7d-28c9631486cf",
   "metadata": {},
   "outputs": [],
   "source": [
    "# Equivalent operation on one line\n",
    "x, y = y, x"
   ]
  },
  {
   "cell_type": "code",
   "execution_count": null,
   "id": "3e6a119b-1699-43e8-b6d8-d479ef2a4dcc",
   "metadata": {},
   "outputs": [],
   "source": []
  },
  {
   "cell_type": "code",
   "execution_count": null,
   "id": "2d5cb5ba-0338-4a32-8c4d-42afe8f61a99",
   "metadata": {},
   "outputs": [],
   "source": []
  },
  {
   "cell_type": "markdown",
   "id": "6a381bc1-a4b4-45c5-80a9-558977288162",
   "metadata": {},
   "source": [
    "# Objects and classes\n",
    "\n",
    "All the Python variables we've been using until now are different kinds of \"objects.\"\n",
    "An object is a the most general purpose \"container\" for data,\n",
    "that also provides methods for manipulating this object.\n",
    "\n",
    "In particular:\n",
    "- attributes: data properties of the object\n",
    "- methods: functions attached to the object"
   ]
  },
  {
   "cell_type": "markdown",
   "id": "bc10b0fc-0d5b-4e0e-a3e9-44fdbaedb0fa",
   "metadata": {},
   "source": [
    "### Example 1: string objects"
   ]
  },
  {
   "cell_type": "code",
   "execution_count": 129,
   "id": "f6826b95-a9b5-45cf-bab9-a220f1e2d98c",
   "metadata": {},
   "outputs": [
    {
     "data": {
      "text/plain": [
       "str"
      ]
     },
     "execution_count": 129,
     "metadata": {},
     "output_type": "execute_result"
    }
   ],
   "source": [
    "msg = \"Hello\"\n",
    "\n",
    "type(msg)"
   ]
  },
  {
   "cell_type": "code",
   "execution_count": 130,
   "id": "6d9fa3e6-a77d-41e3-af0c-3ed9cca092d9",
   "metadata": {},
   "outputs": [],
   "source": [
    "# Uncomment the next line and press TAB after the dot\n",
    "# msg."
   ]
  },
  {
   "cell_type": "code",
   "execution_count": 131,
   "id": "0d773b9a-6df1-45f5-9086-58c0f4ee2151",
   "metadata": {},
   "outputs": [],
   "source": [
    "# Attributes\n"
   ]
  },
  {
   "cell_type": "code",
   "execution_count": 132,
   "id": "2a9133a7-0f0e-4681-8d66-794551f616be",
   "metadata": {},
   "outputs": [
    {
     "data": {
      "text/plain": [
       "True"
      ]
     },
     "execution_count": 132,
     "metadata": {},
     "output_type": "execute_result"
    }
   ],
   "source": [
    "# Methods:\n",
    "msg.upper()\n",
    "msg.lower()\n",
    "msg.__len__()\n",
    "msg.isascii()\n",
    "msg.startswith(\"He\")\n",
    "msg.endswith(\"lo\")"
   ]
  },
  {
   "cell_type": "code",
   "execution_count": null,
   "id": "eb7ace60-449b-4a40-8dd6-3b021483fa24",
   "metadata": {},
   "outputs": [],
   "source": []
  },
  {
   "cell_type": "markdown",
   "id": "8e30885b-e490-4bbb-993a-34de6d1b3ec7",
   "metadata": {},
   "source": [
    "### Example 2: file objects"
   ]
  },
  {
   "cell_type": "code",
   "execution_count": 133,
   "id": "2f2411b9-4ad2-4234-8593-7492e112649b",
   "metadata": {},
   "outputs": [
    {
     "data": {
      "text/plain": [
       "_io.TextIOWrapper"
      ]
     },
     "execution_count": 133,
     "metadata": {},
     "output_type": "execute_result"
    }
   ],
   "source": [
    "filename = \"message.txt\"\n",
    "file = open(filename, \"w\")\n",
    "\n",
    "type(file)"
   ]
  },
  {
   "cell_type": "code",
   "execution_count": 134,
   "id": "125f24ea-882e-4875-b475-f696e6d313b1",
   "metadata": {},
   "outputs": [],
   "source": [
    "# Uncomment the next line and press TAB after the dot\n",
    "# file."
   ]
  },
  {
   "cell_type": "code",
   "execution_count": 135,
   "id": "6ce0043e-6fc5-4ef0-8213-190ed5cc4229",
   "metadata": {},
   "outputs": [
    {
     "data": {
      "text/plain": [
       "('message.txt', 'w', 'UTF-8')"
      ]
     },
     "execution_count": 135,
     "metadata": {},
     "output_type": "execute_result"
    }
   ],
   "source": [
    "# Attributes\n",
    "file.name, file.mode, file.encoding"
   ]
  },
  {
   "cell_type": "code",
   "execution_count": 136,
   "id": "d3400e18-ccf7-446b-8270-57851594ac34",
   "metadata": {},
   "outputs": [],
   "source": [
    "# Methods:\n",
    "file.write(\"Hello world\\n\")\n",
    "file.writelines([\"line2\", \"and line3.\"])\n",
    "file.flush()\n",
    "file.close()"
   ]
  },
  {
   "cell_type": "code",
   "execution_count": null,
   "id": "7096ad40-55fc-42bd-aebc-226f466ff5e5",
   "metadata": {},
   "outputs": [],
   "source": []
  },
  {
   "cell_type": "markdown",
   "id": "3d9cc1f3-bb7c-4f57-adb2-1068a7fda707",
   "metadata": {},
   "source": [
    "## Defining new types of objects\n",
    "\n",
    "Using the Python keyword `class` can be used to define new kinds of objects.\n"
   ]
  },
  {
   "cell_type": "markdown",
   "id": "e2194881-80d4-44e3-abbf-8c418725326e",
   "metadata": {},
   "source": [
    "**Exercise**: create a custom class of objects `Interval` that represent intervals of real numbers like $[a,b] \\subset \\mathbb{R}$.\n",
    "We want to be able to use the new interval objects in `if` statements to check if a number $x$ is in the interval $[a,b]$ or not.\n",
    "\n",
    "Recall the `in` operator that we can use to check if an element is part of a list\n",
    "```Python\n",
    ">>> 3 in [1,2,3,4]\n",
    "True\n",
    "```\n",
    "\n",
    "we want the new objects of type `Interval` to test for membership.\n",
    "\n",
    "Example usage:\n",
    "```Python\n",
    ">>> 3 in Interval(2,4)\n",
    "True\n",
    ">>> 5 in Interval(2,4)\n",
    "False\n",
    "```\n",
    "The expression `x in Y` is corresponds to calling the method `__contains__` on the container object `Y`:\n",
    "`Y.__contains__(x)` and it will return a `bool`ean value (`True` or `False`).\n",
    "\n",
    "If we want to support checks like `3 in Interval(2,4)` we therefore have to implement \n",
    "the method `__contains__` on the `Interval` class."
   ]
  },
  {
   "cell_type": "code",
   "execution_count": 137,
   "id": "4bd62411-3349-4a29-ad7d-c3f70919d667",
   "metadata": {},
   "outputs": [],
   "source": [
    "class Interval:\n",
    "    \"\"\"\n",
    "    Object that embodies the mathematical concept of an interval.\n",
    "    `Interval(a,b)` is equivalent to math interval [a,b] = {𝑥 | 𝑎 ≤ 𝑥 ≤ 𝑏}.\n",
    "    \"\"\"\n",
    "\n",
    "    def __init__(self, lowerbound, upperbound):\n",
    "        \"\"\"\n",
    "        This method is called when the object is created, and is used to\n",
    "        set the object attributes from the arguments passed in.\n",
    "        \"\"\"\n",
    "        self.lowerbound = lowerbound\n",
    "        self.upperbound = upperbound\n",
    "\n",
    "    def __str__(self):\n",
    "        \"\"\"\n",
    "        Return a representation of the interval as a string like \"[a,b]\".\n",
    "        \"\"\"\n",
    "        return \"[\" + str(self.lowerbound) + \",\" + str(self.upperbound) + \"]\"\n",
    "\n",
    "    def __contains__(self, x):\n",
    "        \"\"\"\n",
    "        This method is called to check membership using the `in` keyword.\n",
    "        \"\"\"\n",
    "        return self.lowerbound <= x and x <= self.upperbound\n",
    "\n",
    "    def __len__(self):\n",
    "        \"\"\"\n",
    "        This method will get called when you call `len` on the object.\n",
    "        \"\"\"\n",
    "        return self.upperbound - self.lowerbound\n"
   ]
  },
  {
   "cell_type": "markdown",
   "id": "0b13b4eb-d65d-4269-8451-507224102069",
   "metadata": {},
   "source": [
    "Create an object that corresponds to the interval $[2,4]$."
   ]
  },
  {
   "cell_type": "code",
   "execution_count": 138,
   "id": "46b56640-cd44-4ad5-9549-855d8bab8729",
   "metadata": {},
   "outputs": [
    {
     "data": {
      "text/plain": [
       "<__main__.Interval at 0x1070baa30>"
      ]
     },
     "execution_count": 138,
     "metadata": {},
     "output_type": "execute_result"
    }
   ],
   "source": [
    "interval2to4 = Interval(2,4)\n",
    "interval2to4"
   ]
  },
  {
   "cell_type": "code",
   "execution_count": 139,
   "id": "8f0630f8-7334-48af-9b24-b64ecb949724",
   "metadata": {},
   "outputs": [
    {
     "data": {
      "text/plain": [
       "__main__.Interval"
      ]
     },
     "execution_count": 139,
     "metadata": {},
     "output_type": "execute_result"
    }
   ],
   "source": [
    "type(interval2to4)"
   ]
  },
  {
   "cell_type": "code",
   "execution_count": 140,
   "id": "3133b9b2-9805-4f99-9a31-67b55315e0ce",
   "metadata": {},
   "outputs": [
    {
     "data": {
      "text/plain": [
       "'[2,4]'"
      ]
     },
     "execution_count": 140,
     "metadata": {},
     "output_type": "execute_result"
    }
   ],
   "source": [
    "str(interval2to4)"
   ]
  },
  {
   "cell_type": "code",
   "execution_count": 141,
   "id": "fa340a71-734b-410c-ad87-0cfa38aebbf8",
   "metadata": {},
   "outputs": [
    {
     "data": {
      "text/plain": [
       "True"
      ]
     },
     "execution_count": 141,
     "metadata": {},
     "output_type": "execute_result"
    }
   ],
   "source": [
    "3.3 in interval2to4"
   ]
  },
  {
   "cell_type": "code",
   "execution_count": 142,
   "id": "c5f70080-1728-4101-aaf7-ce31b0d889ef",
   "metadata": {},
   "outputs": [
    {
     "data": {
      "text/plain": [
       "False"
      ]
     },
     "execution_count": 142,
     "metadata": {},
     "output_type": "execute_result"
    }
   ],
   "source": [
    "1 in interval2to4"
   ]
  },
  {
   "cell_type": "code",
   "execution_count": 143,
   "id": "d192fa9c-79a8-4ec1-abb3-bc4993328d33",
   "metadata": {},
   "outputs": [
    {
     "data": {
      "text/plain": [
       "2"
      ]
     },
     "execution_count": 143,
     "metadata": {},
     "output_type": "execute_result"
    }
   ],
   "source": [
    "len(interval2to4)"
   ]
  },
  {
   "cell_type": "code",
   "execution_count": null,
   "id": "82db02da-2c8c-45db-9955-f70748dceaa4",
   "metadata": {},
   "outputs": [],
   "source": []
  },
  {
   "cell_type": "markdown",
   "id": "802c696b-c4f4-4e52-be4c-6b64066c7b84",
   "metadata": {},
   "source": [
    "# Python libraries and modules\n",
    "\n",
    "Everything we discussed so far was using the Python built-in functions and data types,\n",
    "but that is only a small subset of all the functionality available when using Python.\n",
    "There are hundreds of Python libraries and modules that provide additional functions and data types\n",
    "for all kinds of applications. \n",
    "There are Python modules for processing different data files, making web requests, performing computations, etc.\n",
    "The list is almost endless,\n",
    "and the vast number of libraries and frameworks is all available to you behind a simple `import` statement.\n",
    "\n",
    "\n",
    "The three golden rules of software development:\n",
    "\n",
    "  1. Don't write code because someone has **already solved the problem** you're trying to solve.\n",
    "  2. Don't write code because you can glue together one or more **libraries** to do what you want.\n",
    "  3. Don't write code because you can solve your problem by using some subset of the functionality in an existing **framework**.\n",
    "\n",
    "\n"
   ]
  },
  {
   "cell_type": "markdown",
   "id": "88f053a7-fe59-4b30-84d6-d4d7603ff612",
   "metadata": {},
   "source": [
    "## The `import` statement \n",
    "\n",
    "We use the `import` statement to load a python module and make it available in the current context.\n",
    "The code below shows how to import the module `<mod>` in the current notebook.\n",
    "```Python\n",
    "import <mod>\n",
    "```\n",
    "After this statement, we can now use the functions in the module `<mod>` by calling them using the prefix `<mod>.`,\n",
    "which is called the \"dot notation\" for accessing within the namespace `<mod>`.\n",
    "\n",
    "For example, let's import the statistics module and use the function `statistics.mean` to compute the mean of three numbers."
   ]
  },
  {
   "cell_type": "code",
   "execution_count": 144,
   "id": "fac4bab4-c52e-49c5-9a80-ae5484649da4",
   "metadata": {},
   "outputs": [
    {
     "data": {
      "text/plain": [
       "3"
      ]
     },
     "execution_count": 144,
     "metadata": {},
     "output_type": "execute_result"
    }
   ],
   "source": [
    "import statistics\n",
    "\n",
    "statistics.mean([1,2,6])"
   ]
  },
  {
   "cell_type": "markdown",
   "id": "b60fd217-1f5a-4cc8-9702-73b96a5175af",
   "metadata": {},
   "source": [
    "A very common trick you'll see in Python notebooks,\n",
    "is to import python modules under an \"alias\" name,\n",
    "which is usually a shorter name that is faster to type.\n",
    "\n",
    "The alias-import statement looks like this:\n",
    "```Python\n",
    "import <mod> as <alias>\n",
    "```\n",
    "\n",
    "For example, let's import the statistics module under the alias `stats` and repeat the mean calculation we saw above."
   ]
  },
  {
   "cell_type": "code",
   "execution_count": 145,
   "id": "4c382060-350b-425a-a28c-e39704949454",
   "metadata": {},
   "outputs": [
    {
     "data": {
      "text/plain": [
       "3"
      ]
     },
     "execution_count": 145,
     "metadata": {},
     "output_type": "execute_result"
    }
   ],
   "source": [
    "import statistics as stats\n",
    "\n",
    "stats.mean([1,2,6])"
   ]
  },
  {
   "cell_type": "markdown",
   "id": "14f99427-2869-48ed-a38a-b9110f3cea3a",
   "metadata": {},
   "source": [
    "As you can imagine,\n",
    "if you're writing some Python code that requires calling a lot of statistics calculations,\n",
    "you'll appreciate the alias-import statement,\n",
    "since you call `stats.mean` and `stats.median` instead of having to type the\n",
    "full module name each time, `statistics.mean` and `statistics.median`."
   ]
  },
  {
   "cell_type": "markdown",
   "id": "e19f1bdb-c36d-41f9-b4b3-0422ab1288d1",
   "metadata": {},
   "source": [
    "## The standard library\n",
    "\n",
    "The [Python standard library](https://docs.python.org/3/library/) consists of several dozens of Python modules that come bundled with every Python installation.\n",
    "\n",
    "Here are some modules that come in handy.\n",
    "\n",
    "- `math`: math functions like `sqrt`, `sin`, `cos`, etc.\n",
    "- `random`: random number generations\n",
    "- `statistics`: descriptive statistics computed from lists of values.\n",
    "- `re`: regular expressions (useful for matching patterns in strings)\n",
    "- `datetime`: manipulate dates and times.\n",
    "- `urllib.parse`: manipulate URLs (used for web programming).\n",
    "- `json`: read and write JSON files.\n",
    "- `csv`: read and write CSV files (see also Pandas, which can do this too)\n",
    "- `os` and `os.path`: manipulate file system paths.\n",
    "- `sys`: access information about the current process and the operating system.\n",
    "\n",
    "There are also a few libraries that are not part of the standard library,\n",
    "but almost as important:\n",
    "- `requests`: make HTTP requests and download files from the internet."
   ]
  },
  {
   "cell_type": "markdown",
   "id": "1d269503-8bc1-46e9-ac8c-44c2dbc63345",
   "metadata": {},
   "source": [
    "## Installing Python packages with `pip`\n",
    "\n",
    "We use the command `pip` or `%pip` to install Python packages.\n"
   ]
  },
  {
   "cell_type": "markdown",
   "id": "353c4153-4a8f-4512-88d7-a62bd125766b",
   "metadata": {},
   "source": [
    "## Scientific computing libraries\n",
    "\n",
    "\n",
    "### NumPy\n",
    "Numerical Python (NumPy) is a library that provides high-performance arrays and matrices. NumPy arrays allow mathematical operations to run very fast, which is important when working with medium- and large- datasets.\n",
    "\n",
    "#### Example: `linspace` and other numerical calculations\n",
    "\n",
    "\n",
    "### SciPy\n",
    "Scientific Python (SciPy) is a library that provides most common algorithms and special functions used by scientists and engineers. See https://scipy-lectures.org/\n",
    "\n",
    "\n",
    "### SymPy\n",
    "Symbolic math expressions.\n",
    "See [sympy_tutorial.pdf](https://minireference.com/static/tutorials/sympy_tutorial.pdf).\n",
    "\n",
    "### Matplotlib\n",
    "Powerful library for plotting points, lines, and other graphs.\n",
    "\n",
    "#### Examples: how to create reusable functions for plotting probability distributions\n",
    "- `plot_pdf_and_cdf`\n",
    "- `calc_prob_and_plot`\n",
    "- `calc_prob_and_plot_tails`\n"
   ]
  },
  {
   "cell_type": "code",
   "execution_count": null,
   "id": "ccb53f2d-1c37-40dc-b91e-29d56b4eeb9c",
   "metadata": {},
   "outputs": [],
   "source": []
  },
  {
   "cell_type": "markdown",
   "id": "d95ce302-0a66-4dff-b056-d24227e1dc42",
   "metadata": {},
   "source": [
    "## Data science libraries\n",
    "- `pandas` library for tabular data (See [pandas_tutorial.ipynb](./pandas_tutorial.ipynb) notebook)\n",
    "- `statsmodels` models for linear regression and other\n",
    "\n",
    "- `seaborn` high-level library for statistical plots (See [seaborn_tutorial.ipynb](./seaborn_tutorial.ipynb) notebook).\n",
    "- `plotnine` another high-level library for data visualization base don the grammar of graphics principles\n",
    "- `scikit-learn` tools and algorithms for machine learning\n"
   ]
  },
  {
   "cell_type": "code",
   "execution_count": null,
   "id": "267705a6-4747-44f0-8ea7-beefa505cfb9",
   "metadata": {},
   "outputs": [],
   "source": []
  },
  {
   "cell_type": "markdown",
   "id": "6e68c890-8752-4860-8700-f45cf5c69020",
   "metadata": {},
   "source": [
    "# Bonus topics\n",
    "\n",
    "- writing standalone scripts (`argparse`, example: turn `head` into script)\n",
    "- `functools.partial` for currying functions (e.g sample-generator callables)\n",
    "- ???generic functions `*args` and `**kwargs`\n",
    "- Reading and writing files https://python-textbok.readthedocs.io/en/1.0/Python_Basics.html#files\n",
    "\n"
   ]
  },
  {
   "cell_type": "markdown",
   "id": "96e93a37-c8b8-483a-8752-59b882a3ddd6",
   "metadata": {},
   "source": [
    "## Writing standalone scripts"
   ]
  },
  {
   "cell_type": "markdown",
   "id": "a96b94a9-9bef-4528-90e4-401f9cee99cf",
   "metadata": {},
   "source": [
    "## For loop tricks\n",
    "\n",
    "Tricks:\n",
    "- `enumerate`: provides an index when iterating through a list.\n",
    "- `zip`: allows you to iterate over multiple lists in parallel."
   ]
  },
  {
   "cell_type": "markdown",
   "id": "71d3b73e-08be-4421-94ea-3e9ead235069",
   "metadata": {},
   "source": [
    "### Using `enumerate` to get `for`-loop with index\n",
    "\n",
    "Use `enumerate(somelist)` to iterate over tuples `(index, value)`,\n",
    "from a list of values from the list `somelist`.\n",
    "In each iteration, the `index` tells you the index of the `value`\n",
    "in the current iteration."
   ]
  },
  {
   "cell_type": "code",
   "execution_count": 146,
   "id": "e8101dfa",
   "metadata": {},
   "outputs": [
    {
     "data": {
      "text/plain": [
       "[(0, 61), (1, 79), (2, 98), (3, 72)]"
      ]
     },
     "execution_count": 146,
     "metadata": {},
     "output_type": "execute_result"
    }
   ],
   "source": [
    "list(enumerate(scores))"
   ]
  },
  {
   "cell_type": "code",
   "execution_count": 147,
   "id": "f49a6d1c",
   "metadata": {},
   "outputs": [
    {
     "name": "stdout",
     "output_type": "stream",
     "text": [
      "Processing score 61 which is at index 0 in the list\n",
      "Processing score 79 which is at index 1 in the list\n",
      "Processing score 98 which is at index 2 in the list\n",
      "Processing score 72 which is at index 3 in the list\n"
     ]
    }
   ],
   "source": [
    "# example usage\n",
    "for idx, score in enumerate(scores):\n",
    "    # this for loop has two variables index and score\n",
    "    print(\"Processing score\", score, \"which is at index\", idx, \"in the list\")"
   ]
  },
  {
   "cell_type": "code",
   "execution_count": null,
   "id": "7e227fb6-5027-44fe-ae5e-d070c9a5b048",
   "metadata": {},
   "outputs": [],
   "source": []
  },
  {
   "cell_type": "markdown",
   "id": "f0555495-d261-4a29-8915-53d56210a7f2",
   "metadata": {},
   "source": [
    "### Using `zip`\n",
    "\n",
    "Use `zip(list1,list2)` to get an iterator over tuples `(value1, value2)`,\n",
    "where `value1` and `value2` are elements taken from `list1` and `list2`,\n",
    "in parallel, one at a time.\n",
    "\n",
    "The name \"zip\" is reference to the way a zipper joins together the teeth of the two sides of the zipper when it is closing."
   ]
  },
  {
   "cell_type": "code",
   "execution_count": 148,
   "id": "571cbbae-6870-4040-8054-1c2013b10fa2",
   "metadata": {},
   "outputs": [
    {
     "data": {
      "text/plain": [
       "[(1, 'a'), (2, 'b'), (3, 'c')]"
      ]
     },
     "execution_count": 148,
     "metadata": {},
     "output_type": "execute_result"
    }
   ],
   "source": [
    "# example 1\n",
    "list( zip([1,2,3], [\"a\",\"b\",\"c\"]) )"
   ]
  },
  {
   "cell_type": "code",
   "execution_count": 149,
   "id": "0ef79303",
   "metadata": {},
   "outputs": [
    {
     "data": {
      "text/plain": [
       "[(1, 4), (2, 5), (3, 6)]"
      ]
     },
     "execution_count": 149,
     "metadata": {},
     "output_type": "execute_result"
    }
   ],
   "source": [
    "# example 2\n",
    "list1 = [1, 2, 3]\n",
    "list2 = [4, 5, 6]\n",
    "\n",
    "list(zip(list1, list2))"
   ]
  },
  {
   "cell_type": "code",
   "execution_count": 150,
   "id": "7181f631-ef97-4a95-82e1-717d9c1df407",
   "metadata": {},
   "outputs": [
    {
     "name": "stdout",
     "output_type": "stream",
     "text": [
      "The sum of 1 and 4 is 5\n",
      "The sum of 2 and 5 is 7\n",
      "The sum of 3 and 6 is 9\n"
     ]
    }
   ],
   "source": [
    "# compute the sum of the matching values in two lists\n",
    "for value1, value2 in zip(list1, list2):\n",
    "    print(\"The sum of\", value1, \"and\", value2, \"is\", value1+value2)"
   ]
  },
  {
   "cell_type": "code",
   "execution_count": null,
   "id": "899e0003-339f-4ecb-a3e1-d70756c7dc25",
   "metadata": {},
   "outputs": [],
   "source": []
  },
  {
   "cell_type": "markdown",
   "id": "2c6e4901-6bf3-49b0-8b19-cbc94d0269e9",
   "metadata": {},
   "source": [
    "## Functional programming helpers\n",
    "\n",
    "`functools.partial` for currying functions (e.g sample-generator callables)\n"
   ]
  },
  {
   "cell_type": "code",
   "execution_count": null,
   "id": "bb9a1645-e345-43cb-8edf-2e0d4c36263c",
   "metadata": {},
   "outputs": [],
   "source": []
  },
  {
   "cell_type": "markdown",
   "id": "c9fb5785-eb35-4079-8723-e434e5c6b41d",
   "metadata": {
    "tags": []
   },
   "source": [
    "## List-like objects = iterables\n",
    "\n",
    "The term \"iterable\" is used in Python to refer to any list-like object that can be used in a `for`-loop.\n",
    "\n",
    "Examples of iterables:\n",
    "- strings\n",
    "- dictionary keys, dictionary values, or dictionary (key,value) items\n",
    "- sets\n",
    "- `range` (lazy generator for lists of integers)\n",
    "\n",
    "<!--\n",
    "https://www.pythonlikeyoumeanit.com/Module2_EssentialsOfPython/Iterables.html#Functions-that-act-on-iterables\n",
    "-->"
   ]
  },
  {
   "cell_type": "code",
   "execution_count": 151,
   "id": "1c5c9094-d5ad-41d3-84eb-454fecdaa5b1",
   "metadata": {},
   "outputs": [
    {
     "data": {
      "text/plain": [
       "range(0, 4)"
      ]
     },
     "execution_count": 151,
     "metadata": {},
     "output_type": "execute_result"
    }
   ],
   "source": [
    "range(0, 4)"
   ]
  },
  {
   "cell_type": "code",
   "execution_count": 152,
   "id": "0cf5ab82-b76b-435b-b225-60ae3ca7aa4d",
   "metadata": {},
   "outputs": [
    {
     "data": {
      "text/plain": [
       "[0, 1, 2, 3]"
      ]
     },
     "execution_count": 152,
     "metadata": {},
     "output_type": "execute_result"
    }
   ],
   "source": [
    "list(range(0, 4))"
   ]
  },
  {
   "cell_type": "code",
   "execution_count": null,
   "id": "b9dbe0c4-2fd7-41c0-9efd-9c0842dc1a24",
   "metadata": {},
   "outputs": [],
   "source": []
  },
  {
   "cell_type": "markdown",
   "id": "8c582698-68fd-4fbe-8ef4-db651af3aa8d",
   "metadata": {},
   "source": [
    "### Iterating over dictionaries\n",
    "\n"
   ]
  },
  {
   "cell_type": "code",
   "execution_count": 153,
   "id": "a9f6ff40-85bd-4073-be0c-46add2a6983b",
   "metadata": {},
   "outputs": [],
   "source": [
    "profile = {\"first_name\":\"Julie\", \"last_name\":\"Tremblay\", \"score\":98}"
   ]
  },
  {
   "cell_type": "code",
   "execution_count": 154,
   "id": "1083f64a-db92-44ba-a2db-74c255411c57",
   "metadata": {},
   "outputs": [
    {
     "data": {
      "text/plain": [
       "['first_name', 'last_name', 'score']"
      ]
     },
     "execution_count": 154,
     "metadata": {},
     "output_type": "execute_result"
    }
   ],
   "source": [
    "list(profile.keys())"
   ]
  },
  {
   "cell_type": "code",
   "execution_count": 155,
   "id": "160ffab8-9cfe-4ced-b972-c56bbbbb41aa",
   "metadata": {},
   "outputs": [
    {
     "data": {
      "text/plain": [
       "['first_name', 'last_name', 'score']"
      ]
     },
     "execution_count": 155,
     "metadata": {},
     "output_type": "execute_result"
    }
   ],
   "source": [
    "# ALT.\n",
    "list(profile)"
   ]
  },
  {
   "cell_type": "code",
   "execution_count": 156,
   "id": "131daff9-cde5-431c-8422-5b71f491f266",
   "metadata": {},
   "outputs": [
    {
     "data": {
      "text/plain": [
       "['Julie', 'Tremblay', 98]"
      ]
     },
     "execution_count": 156,
     "metadata": {},
     "output_type": "execute_result"
    }
   ],
   "source": [
    "list(profile.values())"
   ]
  },
  {
   "cell_type": "code",
   "execution_count": 157,
   "id": "abd1b2b1-d69f-4cb3-842d-c7a962eed73a",
   "metadata": {},
   "outputs": [
    {
     "data": {
      "text/plain": [
       "[('first_name', 'Julie'), ('last_name', 'Tremblay'), ('score', 98)]"
      ]
     },
     "execution_count": 157,
     "metadata": {},
     "output_type": "execute_result"
    }
   ],
   "source": [
    "list(profile.items())"
   ]
  },
  {
   "cell_type": "markdown",
   "id": "6859b853-55a3-45e1-ba28-33de44b5ded6",
   "metadata": {},
   "source": [
    "We'll talk more about dictionaries [later on](#Dictionaries-and-other-data-structures)."
   ]
  },
  {
   "cell_type": "code",
   "execution_count": null,
   "id": "628d31cc-f7f7-403f-9993-e9fd73287502",
   "metadata": {},
   "outputs": [],
   "source": []
  },
  {
   "cell_type": "markdown",
   "id": "96d5f629-ffd4-417b-b447-08c1ce6459dc",
   "metadata": {
    "tags": []
   },
   "source": [
    "### Converting iterables to lists\n",
    "\n",
    "Under the hood, Python uses all kinds of list-like data structures called iterables\".\n",
    "We don't need to talk about these or understand how they work—all you need to know is they are behave like lists.\n",
    "\n",
    "In the code examples above,\n",
    "we converted several fancy list-like data structures into ordinary lists,\n",
    "by wrapping them in a call to the function `list`,\n",
    "in order to display the results.\n",
    "\n",
    "Let's look at why need to use `list(iterable)` when printing,\n",
    "instead of just `iterable`."
   ]
  },
  {
   "cell_type": "markdown",
   "id": "5096c77c-588f-4bb4-84b7-4ca595775def",
   "metadata": {},
   "source": [
    "For examples,\n",
    "the set of keys for a dictionary is a `dict_keys` iterable object:"
   ]
  },
  {
   "cell_type": "code",
   "execution_count": 158,
   "id": "b9f71b2b-e8a2-4fa9-a3b8-0a5046f54fe6",
   "metadata": {},
   "outputs": [
    {
     "data": {
      "text/plain": [
       "dict_keys(['first_name', 'last_name', 'score'])"
      ]
     },
     "execution_count": 158,
     "metadata": {},
     "output_type": "execute_result"
    }
   ],
   "source": [
    "profile.keys()"
   ]
  },
  {
   "cell_type": "code",
   "execution_count": 159,
   "id": "74d98037-a2de-4beb-8a89-dd70edceca10",
   "metadata": {},
   "outputs": [
    {
     "data": {
      "text/plain": [
       "dict_keys"
      ]
     },
     "execution_count": 159,
     "metadata": {},
     "output_type": "execute_result"
    }
   ],
   "source": [
    "type(profile.keys())"
   ]
  },
  {
   "cell_type": "markdown",
   "id": "86629923-9e51-4958-82aa-9583b212a8c5",
   "metadata": {},
   "source": [
    "I know, right? What the hell is `dict_keys`?\n",
    "I certainly don't want to have to explain that...\n",
    "\n",
    "\n",
    "... so instead, you'll see this in the code:"
   ]
  },
  {
   "cell_type": "code",
   "execution_count": 160,
   "id": "526f6562-8441-459e-ba21-1e0e51827f4d",
   "metadata": {},
   "outputs": [
    {
     "data": {
      "text/plain": [
       "['first_name', 'last_name', 'score']"
      ]
     },
     "execution_count": 160,
     "metadata": {},
     "output_type": "execute_result"
    }
   ],
   "source": [
    "list(profile.keys())"
   ]
  },
  {
   "cell_type": "code",
   "execution_count": 161,
   "id": "d30f5ca0-c86f-4d7c-8c9d-132817f282e4",
   "metadata": {},
   "outputs": [
    {
     "data": {
      "text/plain": [
       "list"
      ]
     },
     "execution_count": 161,
     "metadata": {},
     "output_type": "execute_result"
    }
   ],
   "source": [
    "type(list(profile.keys()))"
   ]
  },
  {
   "cell_type": "code",
   "execution_count": null,
   "id": "5d7cde25-4073-4225-892f-40a898606cb8",
   "metadata": {},
   "outputs": [],
   "source": []
  },
  {
   "cell_type": "markdown",
   "id": "2118f04b-6dcd-42c7-8f8e-7cb72a16030b",
   "metadata": {},
   "source": [
    "## Generic function arguments\n",
    "\n",
    "functions with `*args` and `**kwargs` arguments"
   ]
  },
  {
   "cell_type": "code",
   "execution_count": null,
   "id": "e9fdcaf8-ad07-4d18-adf3-251777890292",
   "metadata": {},
   "outputs": [],
   "source": []
  },
  {
   "cell_type": "markdown",
   "id": "61ccae80-5c6b-4172-b3b6-653841214241",
   "metadata": {},
   "source": [
    "# Final review\n",
    "\n",
    "Okay we've reached the end of this tutorial,\n",
    "so let's to review of the new Python concepts we introduced in condensed form."
   ]
  },
  {
   "cell_type": "markdown",
   "id": "63d3d979-9dd8-4f2e-b895-0c3b61e3117a",
   "metadata": {},
   "source": [
    "## Python grammar and syntax review\n",
    "\n",
    "Learning Python is like learning a new language:\n",
    "- nouns: values of different types, usually referred to by name (named variables containing values) \n",
    "- verbs: functions and methods, including basic operators like `+`, `-`, etc.\n",
    "- grammar: rules about how to use nouns and verbs together\n",
    "- adverbs: keyword arguments (options) used to modify what a function does\n",
    "\n",
    "These parts are easy to understand with time, since the new concepts\n",
    "correspond to English words, so you'll get use to it all very quickly."
   ]
  },
  {
   "cell_type": "markdown",
   "id": "fd82d654-ddde-4ba7-8a9c-4bc57f4453a1",
   "metadata": {
    "jp-MarkdownHeadingCollapsed": true
   },
   "source": [
    "## Python keywords\n",
    "\n",
    "Here is a list of keywords that make up the Python language:\n",
    "\n",
    "    False      class      finally    is         return\n",
    "    None       continue   for        lambda     try\n",
    "    True       def        from       nonlocal   while\n",
    "    and        del        global     not        with\n",
    "    as         elif       if         or         yield\n",
    "    assert     else       import     pass\n",
    "    break      except     in         raise\n",
    "\n",
    "You've seen most of them, but not all of them.\n",
    "The ones you need to remember are:\n",
    "\n",
    "- `if`, `elif`, `else` used in conditional statements\n",
    "- `def` used to define a new function and the `return` statement that defines the output of the function\n",
    "- the boolean values `True` and `False`\n",
    "- `None` = special value that corresponds to no value\n",
    "- `class` for defining new object types\n",
    "- `for` for for loops and list-comprehension statements\n",
    "- `import ...` and `from ... import ...` statements to import Python modules\n",
    "- `or` `and` and `not`\n",
    "- `in` to check if element is part of container\n",
    "- \n"
   ]
  },
  {
   "cell_type": "markdown",
   "id": "022525d9-4f1e-4808-a043-3fce9a368c63",
   "metadata": {},
   "source": [
    "## Python data types\n",
    "\n",
    "- `int`: naturals and integers\n",
    "- `float`: rational and real numbers\n",
    "- `list`: list of objects `[obj1, obj2, obj3, ...]`\n",
    "- `bool`: `True` or `False`\n",
    "- `str`: text strings\n",
    "- `dict`: associative array between keys and values\n",
    "  `{key1:value1, key2:value2, key3:value3, ...}`.\n",
    "- `tuple`: just like a list, but immutable (can't modify it)\n",
    "- `set`: list-like object that doesn't care about ordering\n",
    "- `NoneType`: Denotes the type of the `None` value,\n",
    "  which describes the absence of a value\n",
    "  (e.g. the output of a function that doesn't return any value).\n",
    "- `complex`: complex numbers $z=x+iy$\n"
   ]
  },
  {
   "cell_type": "markdown",
   "id": "a4cc9b01-bb31-4261-be97-08f05ade09ed",
   "metadata": {},
   "source": [
    "## Python built-in functions\n",
    "\n",
    "Essential functions:\n",
    "- `print(arg1, arg2, ...)`: display `str(arg1)`, `str(arg2)`, etc.\n",
    "- `type(obj)`: tells you what kind of object \n",
    "- `len(obj)`: length of the object (only for: `str`, `list`, `dict` objs)\n",
    "- `range(a,b)`: equivalent to the list `[a,a+1,...,b-1]`\n",
    "- `help(obj)`: display info about the object, function, or method\n",
    "\n",
    "\n",
    "\n",
    "\n",
    "Looking around, learning, and debugging Python code:\n",
    "- `str(obj)`: display the string representation of the object.\n",
    "- `repr(obj)`: display the Python representation of the object.\n",
    "   Usually, you can copy-paste the output of `repr(obj)` into a Python\n",
    "   shell to re-create the object.\n",
    "- `help(obj)`: display info about the object, function, or method.\n",
    "  This is equivalent to calling object's docstring `obj.__doc__`.\n",
    "- `dir(obj)`: show complete list of attributes and methods of the object `obj`\n",
    "- `globals()`: display all variables in the Python global namespace\n",
    "- `locals()`: display local variables (within current scope,\n",
    "   e.g. local variables inside inside a function body)\n",
    "\n",
    "Built-in methods used for lists:\n",
    "- `len(obj)`: length of the object (only for: `str`, `list`, `dict` objs)\n",
    "- `sum(li)`: sum of the values in the list of numbers `li`\n",
    "- `all(li)`: true if all values in the list `li` are true\n",
    "- `any(li)`: true if any of the values in the list `li` are true\n",
    "- `enumerate(li)`: convert list of values to `li` to list of tuples `(i,li[i])` (use in for loop as `for i, item in enumerate(items):...`.\n",
    "- `zip(li1, li2)`: joint iteration over two lists\n",
    "- Low-level iterator methods: `iter()` and `next()` (out of scope for this tutorial. Just know that every time I said list-like, I meant \"any object that implements the iterator and iterable protocols).\n",
    "\n",
    "\n",
    "Input-output (I/O):\n",
    "- `input`: prompt user for input, returns the value user entered as a sting.\n",
    "- `print(arg1, arg2, ...)`: display `str(arg1)`, `str(arg2)`, etc.\n",
    "- `open(filepath,mode)`: open the file at `filepath` for `mode`-operations.\n",
    "  Use `mode=\"r\"` for reading text from a file,\n",
    "  and `mode=\"w\"` for writing text to a file.\n",
    "\n",
    "Advanced stuff:\n",
    "- Functional shit: `map()`, `eval()`, `exec()`\n",
    "- Meta-programming: `hasattr()`, `getattr()`, `setattr()` \n",
    "- Object oriented programming: `isinstance()`, `issubclass()`, `super()`"
   ]
  },
  {
   "cell_type": "markdown",
   "id": "d16614b2-850a-43a3-8b86-081bf71aa435",
   "metadata": {},
   "source": [
    "## Python punctuation\n",
    "\n",
    "The most confusing part of learning Python is the use of non-word punctuation characters, which have very specific meaning that has nothing to do with English punctuation marks.\n",
    "Let's review how the symbols `=([{*\"'#,.:` are used in various Python expressions.\n",
    "The meaning of these symbols changes depending on the context.\n",
    "\n",
    "\n",
    "Here is a complete, no-holds-barred list of the punctuation marks usage in the Python programming language. Like literally each of them. This list of symbols uses will help us close the review, since it reviews the Python syntax was used in all the sections in this tutorial.\n",
    "\n",
    "- Equal sign `=`\n",
    "  - assignment\n",
    "  - specify default keyword argument (in function definition)\n",
    "  - pass values for keyword arguments (in function call)\n",
    "\n",
    "\n",
    "- Round brackets `()` are used for:\n",
    "  - calling functions\n",
    "  - defining tuples: `(1, 2, 3)`\n",
    "  - enforcing operation precedence: `result = (x + y) * z`\n",
    "  - defining functions (in combination with the `def` keyword, e.g. `def f(x): ...`)\n",
    "  - defining class\n",
    "  - creating object\n",
    "\n",
    "\n",
    "- Curly-brackets (accolades) `{}`\n",
    "  - define dict literals: `mydict = {\"k1\":\"v1\", \"k2\":\"v2\"}`\n",
    "  - define sets: `{1,2,3}`\n",
    "\n",
    "\n",
    "- Square brackets `[]` are used for:\n",
    "  - defining lists: `mylist = [1, 2, 3]`\n",
    "  - list indexing: `ages[3] = 29`\n",
    "  - dict access by key: `mydict[\"k1\"]` (used by `__getitem__` or `__setitem__`)\n",
    "  - list slice: `mylist[0:2]` (first two items in `mylist`)\n",
    "\n",
    "\n",
    "- Quotes `\"` and `'` \n",
    "  - define string literals\n",
    "  - note raw string variant `r\"...\"` also exists\n",
    "\n",
    "\n",
    "- Triple quotes `\"\"\"` and `'''`\n",
    "  - long string literals entire paragraphs\n",
    "\n",
    "\n",
    "- Hash symbol `#`\n",
    "  - comment (Python ignores text after the `#` symbol)\n",
    "\n",
    "\n",
    "- Colon `:`\n",
    "  - syntax for the beginning of indented block.  \n",
    "    The colon is used at the end of statements like `if`, `elif`, `else` `for`, etc.\n",
    "  - key: value separator in dict literals\n",
    "  - slice of indices `0:2` (first two items in a list)\n",
    "\n",
    "\n",
    "- Period `.`\n",
    "  - decimal separator for floating point literals\n",
    "  - access object attributes\n",
    "  - access object methods\n",
    "\n",
    "\n",
    "- Comma `,`\n",
    "  - element separator in `list`s and `tuple`s\n",
    "  - `key:value` separator when creating a `dict`\n",
    "  - separate function arguments in function definitions\n",
    "  - separate function arguments when calling functions\n",
    "\n",
    "\n",
    "- Asterisk `*`\n",
    "  - multiplication operator \n",
    "  - (advanced) unpack elements of a list\n",
    "  \n",
    "\n",
    "- Double asterisk `**`\n",
    "  - exponent operator\n",
    "  - (advanced) unpack elements of a dict\n",
    "\n",
    "\n",
    "- Semicolon `;` (rarely used)\n",
    "  - suppress the output of a command in a notebook environment\n",
    "  - (advanced) put multiple Python commands on single line\n",
    "  \n",
    " \n",
    "\n",
    "Don't worry if you didn't understand all the use cases listed. I've tried to make the list complete, so I've included some more advanced topics, labeled (advanced), which you'll learn about over time when you use Python."
   ]
  },
  {
   "cell_type": "code",
   "execution_count": null,
   "id": "03d2227a-beb6-458c-bd11-db6252c9923f",
   "metadata": {},
   "outputs": [],
   "source": []
  },
  {
   "cell_type": "markdown",
   "id": "38a6ce9d-14fd-4524-a0fc-37d61ea61e7f",
   "metadata": {},
   "source": [
    "# Discussion"
   ]
  },
  {
   "cell_type": "markdown",
   "id": "2f316571-2572-4913-894d-abe1c5279ade",
   "metadata": {},
   "source": [
    "Let's go over some of the things we skipped in the tutorial,\n",
    "because they were not essential for getting started.\n",
    "Now that you know a little bit about Python,\n",
    "it's worth mentioning some of these details,\n",
    "since it's useful context to see how this \"Python calculator\" business works.\n",
    "I also want to tell you about some of the cool Python applications\n",
    "you can look forward to if you choose to develop your Python skills further."
   ]
  },
  {
   "cell_type": "markdown",
   "id": "86279f2e-67c0-4646-8853-6717e710f92c",
   "metadata": {
    "tags": []
   },
   "source": [
    "## Applications\n",
    "\n",
    "Python is not just a calculator.\n",
    "Python can also be used for non-interactive programs and services.\n",
    "Python is a general-purpose programming language so it enables a lot of applications. The list below talks about some areas where Python programming is popular.\n",
    "\n",
    "- command line scripts: you can put commands line scrips are written in Python,\n",
    "  then run them on the command line (terminal on UNIX or or `cmd.exe` on Windows).\n",
    "  For example, you can download any video from YouTube by running the command\n",
    "  `youtube-dl <youtube_url>`.\n",
    "  If all you want is the audio, you can use some command-line options to specify \n",
    "  `youtube-dl --extract-audio --audio-format mp3 <youtube_url>` to extract the\n",
    "  audio track from the youtube video and save it as an mp3.\n",
    "  The author uses this type of command daily to make local copies of songs\n",
    "  to listen to them offline.\n",
    "\n",
    "- graphical user interface (GUI) programs: many desktop applications are written in Python.\n",
    "  An example of a graphical, point-and-click application written in Python is `Calibre`,\n",
    "  which is a powerful eBook management library and eBook reader and eBook converter,\n",
    "  that supports all imaginable eBook formats.\n",
    "\n",
    "- web applications: the [Django](https://www.djangoproject.com/) and [Flask](https://flask.palletsprojects.com/) frameworks are often used to build web applications.\n",
    "  Many of the websites you access every day have as server component written in Python.\n",
    "\n",
    "- machine learning systems: create task-specific functions by using probabilistic models instead of code. Machine learning models undergo a training stage in which the model parameters are \"learned\" from the training data examples, after which the model can be queried to make predictions. \n",
    "\n",
    "\n",
    "\n",
    "\n",
    "\n",
    "I mention these examples so you'll know the other possibilities enabled by Python,\n",
    "beyond the basic \"use Python interactively like a calculator\" code examples\n",
    "that we saw in this tutorial.\n",
    "\n",
    "There is a lot of other useful stuff.\n",
    "We're at the end of this tutorial, but just the beginning of your journey to discover all the interesting thins you can do with Python."
   ]
  },
  {
   "cell_type": "markdown",
   "id": "5b180a3c-5e17-43ca-9b3c-96034ac3c081",
   "metadata": {},
   "source": [
    "## Python programming\n",
    "\n",
    "Coding a.k.a. programming, software engineering, or software development is a broad topic,\n",
    "which is out of scope for this short tutorial.\n",
    "If you're interested to learn more about coding,\n",
    "see the article [What is code?](https://www.bloomberg.com/graphics/2015-paul-ford-what-is-code/) by Paul Ford.\n",
    "Think mobile apps, web apps, APIs, algorithms, CPUs, GPUs, TPUs, SysOps, etc.\n",
    "There is a lot to learn about applications enabled by learning basic coding skills,\n",
    "it's almost like reading and writing skills.\n",
    "\n",
    "Learning programming usually takes several years,\n",
    "but you don't need to become a professional coder to start using Python for simple tasks,\n",
    "the same way you don't need to become a professional author to use writing for everyday tasks.\n",
    "If you reached this far in the tutorial,\n",
    "you know enough about basic Python to continue your journey.\n",
    "\n",
    "In particular, you can read the other two tutorials that appear in the **No Bullshit Guide to Statistics**:\n",
    "- Pandas (see [pandas_tutorial.ipynb](./pandas_tutorial.ipynb))\n",
    "- Seaborn (see [seaborn_tutorial.ipynb](./seaborn_tutorial.ipynb))  "
   ]
  },
  {
   "cell_type": "code",
   "execution_count": null,
   "id": "42bec6ca-5a1d-469c-8652-01c7effe04c3",
   "metadata": {},
   "outputs": [],
   "source": []
  },
  {
   "cell_type": "markdown",
   "id": "05ec9881-de4d-411f-98a2-b2ba9ffc78db",
   "metadata": {
    "jp-MarkdownHeadingCollapsed": true,
    "tags": []
   },
   "source": [
    "## Learning objectives\n",
    "\n",
    "In this tutorial you'll learn the following specific Python skills,\n",
    "which are required for probability and statistics calculations.\n",
    "\n",
    "- know how to define function (e.g. `fH` for Example 3 in Section 2.1)\n",
    "- understand list comprehension (e.g. `[fH(h) for h in range(0,5)]` for Example 3 in Section 2.1)\n",
    "- know built-in functions:\n",
    "  - `sum`\n",
    "  - `len`\n",
    "  - `range`\n",
    "- know the general pattern for plotting the graph of function `f` using `numpy` arrays:\n",
    "  1. `xs = np.linspace  OR  np.arange  OR  list` \n",
    "  2. `ys = f(xs)`  (\n",
    "  3. Call `plt.stem(ys)` or `sns.lineplot(x=xs, y=ys)`\n",
    "- (optional) understand when we need to use `vectorize(f)`\n",
    "- Robyn recommends the following concepts to be covered:\n",
    "   * Quotes around text (strings)\n",
    "   * Assigning variables \n",
    "   * Interpreting error messages\n",
    "   * `help(method)`\n",
    "   * Syntax for writing and running functions\n",
    "   * definitions/explanations for the following (all used in the DATA chapter): 'None', '0-based indexing', 'attributes', 'methods', 'object', 'instance', 'class,' 'module,' 'accessing columns as attributes'\n",
    "- Specific requirements from PROB chapter:\n",
    "  - range and summation\n",
    "- Specific requirements from STATS chapter:\n",
    "- Specific requirements from LINEAR MODELS chapter:"
   ]
  },
  {
   "cell_type": "markdown",
   "id": "ffcfa40e-f15a-45c4-9cfd-d59c3d6bd7b5",
   "metadata": {},
   "source": [
    "# Links\n",
    "\n",
    "I've collected the best learning resources for Python,\n",
    "which you can use to learn more about Python.\n",
    "\n",
    "\n",
    "## Python cheatsheets\n",
    "\n",
    "- Good quick reference  \n",
    "  https://gto76.github.io/python-cheatsheet/\n",
    "- https://ehmatthes.github.io/pcc_2e/cheat_sheets/cheat_sheets/\n",
    "- https://ipgp.github.io/scientific_python_cheat_sheet/\n",
    "- https://learnxinyminutes.com/docs/python/\n",
    "- https://perso.limsi.fr/pointal/_media/python:cours:mementopython3-english.pdf\n",
    "- https://www.pythoncheatsheet.org/\n",
    "- https://homepage.univie.ac.at/michael.blaschek/media/Cheatsheet_python.pdf\n",
    "- https://cheatsheets.quantecon.org/\n",
    "\n",
    "\n",
    "## Introductions and tutorials\n",
    "\n",
    "- Python tutorial by Russell A. Poldrack  \n",
    "  https://statsthinking21.github.io/statsthinking21-python/01-IntroductionToPython.html\n",
    "\n",
    "- Programming with Python by  Software Carpentry team:  \n",
    "  https://swcarpentry.github.io/python-novice-inflammation/\n",
    "\n",
    "- Official Python tutorial:  \n",
    "  https://docs.python.org/3.10/tutorial/\n",
    "\n",
    "- Python glossary:  \n",
    "  https://docs.python.org/3.10/glossary.html#glossary\n",
    "\n",
    "- Nice tutorial:  \n",
    "  https://www.pythonlikeyoumeanit.com/\n",
    "\n",
    "- Python data structures  \n",
    "  https://devopedia.org/python-data-structures\n",
    "\n",
    "- Further reading  \n",
    "  https://github.com/rasbt/python_reference\n",
    "\n",
    "- https://walkintheforest.com/Content/Introduction+to+Python/%F0%9F%90%8D+Introduction+to+Python\n",
    "\n",
    "- Online tutorial  \n",
    "  https://www.kaggle.com/learn/python\n",
    "\n",
    "- Complete list of all the Python builtins  \n",
    "  https://treyhunner.com/2019/05/python-builtins-worth-learning/  \n",
    "  via https://news.ycombinator.com/item?id=30621552\n",
    "\n",
    "- Video lectures from Pythong course by Chelsea Parlett Pelleriti\n",
    "  https://www.youtube.com/playlist?list=PLmxpwhh4FDm460ztGwXmIUcGmfNzf4NMW\n",
    "\n",
    "\n",
    "## Special topics\n",
    "\n",
    "- Stats-related python functions  \n",
    "  https://www.statology.org/python-guides/\n",
    "\n",
    "- https://github.com/mtlpy/mp-84-atelier/blob/main/ressources.md\n",
    "\n",
    "- Python types (`int`s, `float`s, and `bool`s)  \n",
    "  https://github.com/anthony-agbay/introduction-to-python/blob/main/modules/basic-python-types-ints-floats-bools/basic-python-types-ints-floats-bools.ipynb\n",
    "\n",
    "- Python string operations  \n",
    "  https://github.com/anthony-agbay/introduction-to-python/blob/main/modules/basic-python-types-strings/basic-python-types-strings.ipynb\n",
    "\n",
    "- Scientific computing  \n",
    "  https://devopedia.org/python-for-scientific-computing\n",
    "\n",
    "- about NaNs  \n",
    "  https://news.ycombinator.com/item?id=30558690\n",
    "\n",
    "\n",
    "\n",
    "## Books\n",
    "\n",
    "- Python book for beginners ([discussed here](https://news.ycombinator.com/item?id=27141644))  \n",
    "  https://learnpythontherightway.com/\n",
    "\n",
    "- https://automatetheboringstuff.com/\n",
    "\n",
    "- Object-Oriented Programming in Python  \n",
    "  https://python-textbok.readthedocs.io/en/1.0/index.html\n",
    "  \n",
    "  \n",
    "  \n",
    "Incoming:\n",
    "\n",
    "- https://docs.python.org/3/library/stdtypes.html\n",
    "- https://docs.python.org/3/library/functions.html\n"
   ]
  },
  {
   "cell_type": "code",
   "execution_count": null,
   "id": "db84e8e5-ff79-43aa-a3bd-a85862945c49",
   "metadata": {},
   "outputs": [],
   "source": []
  },
  {
   "cell_type": "code",
   "execution_count": null,
   "id": "c77901f4-dd98-45f4-b4cc-3cfcda6c4e72",
   "metadata": {},
   "outputs": [],
   "source": []
  }
 ],
 "metadata": {
  "kernelspec": {
   "display_name": "Python 3 (ipykernel)",
   "language": "python",
   "name": "python3"
  },
  "language_info": {
   "codemirror_mode": {
    "name": "ipython",
    "version": 3
   },
   "file_extension": ".py",
   "mimetype": "text/x-python",
   "name": "python",
   "nbconvert_exporter": "python",
   "pygments_lexer": "ipython3",
   "version": "3.9.4"
  },
  "toc-autonumbering": false,
  "toc-showmarkdowntxt": false
 },
 "nbformat": 4,
 "nbformat_minor": 5
}
