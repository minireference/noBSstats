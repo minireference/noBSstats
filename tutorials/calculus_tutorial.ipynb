{
 "cells": [
  {
   "cell_type": "markdown",
   "id": "f4c9c7cc-2f7c-447c-8167-ac91290645b0",
   "metadata": {},
   "source": [
    "# Calculus tutorial\n",
    "\n",
    "Click the binder button [![Binder](https://mybinder.org/badge_logo.svg)](https://mybinder.org/v2/gh/minireference/noBSstats/HEAD?labpath=tutorials/calculus_tutorial.ipynb) or this link [`bit.ly/calctut3`](https://bit.ly/calctut3) to run this notebooks interactively."
   ]
  },
  {
   "cell_type": "markdown",
   "id": "e2e8068a-29ff-46d5-a528-678cb64184b7",
   "metadata": {},
   "source": [
    "**Abstract** Calculus is the study of functions ... \n",
    "\n"
   ]
  },
  {
   "cell_type": "code",
   "execution_count": null,
   "id": "318f6e7c-893d-455a-a0cc-444733a9813d",
   "metadata": {},
   "outputs": [],
   "source": []
  },
  {
   "cell_type": "code",
   "execution_count": null,
   "id": "d44cb44b-0011-4b8c-b489-4bd55bd7453f",
   "metadata": {},
   "outputs": [],
   "source": []
  }
 ],
 "metadata": {
  "kernelspec": {
   "display_name": "Python 3 (ipykernel)",
   "language": "python",
   "name": "python3"
  },
  "language_info": {
   "codemirror_mode": {
    "name": "ipython",
    "version": 3
   },
   "file_extension": ".py",
   "mimetype": "text/x-python",
   "name": "python",
   "nbconvert_exporter": "python",
   "pygments_lexer": "ipython3",
   "version": "3.9.4"
  }
 },
 "nbformat": 4,
 "nbformat_minor": 5
}
