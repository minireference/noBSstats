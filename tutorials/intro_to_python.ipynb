{
 "cells": [
  {
   "cell_type": "markdown",
   "id": "34448362-e2bb-4865-8220-2374061d0e63",
   "metadata": {},
   "source": [
    "# Appendix C — Introduction to Python\n",
    "\n",
    "It's time for you to learn the basics of Python.\n",
    "Don't freak out, this is not a big deal.\n",
    "You're not becoming a programmer or anything,\n",
    "you're just learning how to use a really good calculator.\n",
    "Just like knowing how to use a calculator is helpful for doing lots of arithmetic operations,\n",
    "learning Python is helpful when you need to deal with repetitive operations and procedures.\n",
    "\n",
    "The Python commands are similar to the commands you give to a calculator.\n",
    "Using Python requires learning about Python variables, expressions, functions, etc. which are different types of commands that Python understands.\n",
    "The same way a calculator has different buttons for the various arithmetic operations,\n",
    "the Python language has a number of commands you can \"run\" or \"execute.\"\n",
    "Whereas calculators allow only simple arithmetic calculations of one expression (evaluated when you press = button),\n",
    "the Python prompt accepts entire \"paragraphs\" of commands so you can write down more complicated multi-step calculations.\n",
    "This is what people call \"coding\".\n",
    "\n",
    "Coding a.k.a. programming, software engineering, or software development is a much broader topic that is out of scope for this short tutorial. See the article [What is code?](https://www.bloomberg.com/graphics/2015-paul-ford-what-is-code/) if you're interested. Think mobile apps, web apps, APIs, algorithms, CPUs, GPUs, TPUs, SysOps, etc. There is a lot to learn about applications enabled by learning basic coding skills, it's almost like reading and writing skills.\n",
    "\n",
    "In this tutorial,\n",
    "we focus on using Python for data calculations and procedures needed for statistics.\n",
    "Once you learn a bit of Python (this tutorial),\n",
    "you'll have access to the best-in-class Python libraries\n",
    "for data management (Pandas, see [intro_to_pandas.ipynb](./intro_to_pandas.ipynb))\n",
    "and data visualization (Seaborn, see [data_visualization_with_seaborn.ipynb](./data_visualization_with_seaborn.ipynb)).\n",
    "Learning a few basic Python constructs like the `for` loop\n",
    "will enable you to simulate frequentist probability calculations\n",
    "and experimentally verify how statistics procedures work.\n",
    "This is a really big deal.\n",
    "If's good to know the statistical formula and recipes,\n",
    "but it's even better when you can run your own simulations and check when the formulas work and when they fail.\n",
    "\n",
    "Don't worry there won't be any advanced math—just sums, products, exponents, logs, and square roots. Nothing fancy, I promise. If you've ever created a formula in a spreadsheet, then you're familiar with all the operations we'll see. In a spreadsheet formula you'd use `SUM(` in Python we wrire `sum(`. You see, it's nothing fancy. Yes, there will be a lot of code (paragraphs of Python commands) in this tutorial, but you can totally handle this. If you ever start to freak out an think \"OMG this is too complicated!\" remember that Python is just a fancy calculator."
   ]
  },
  {
   "cell_type": "markdown",
   "id": "bef4b786-c7ab-4a5c-822a-0dea036071c1",
   "metadata": {},
   "source": [
    "**Code cells run Python commands**\n",
    "The Python command prompt (each of the code cells in this notebook)\n",
    "allows you to enter Python commands and \"run\" them by clicking the play button\n",
    "in the toolbar or pressing SHIFT + ENTER.\n",
    "You can make Python calculate the value of 10 raised to the power 5 by entering `10**5` in a code cell."
   ]
  },
  {
   "cell_type": "markdown",
   "id": "c6cea0cc-e034-4fde-8439-dc4286cf4d5d",
   "metadata": {},
   "source": [
    "\n",
    "## Table of contents\n",
    "- Basics\n",
    "- Variables and expressions\n",
    "- Lists and for loops\n",
    "- Functions\n",
    "- Dictionaries and other data structures\n",
    "- Classes and objects\n",
    "- Syntax review\n",
    "\n",
    "- Python libraries:\n",
    "  - Best of stdlib: math, random, statistics, json, csv\n",
    "  - Numerical computing: numpy\n",
    "  - Scientific computing: scipy\n",
    "  - Extracting web content: requests and BeautifulSoup\n",
    "  - Pandas (see [intro_to_pandas.ipynb](./intro_to_pandas.ipynb))\n",
    "  - Seaborn (see [data_visualization_with_seaborn.ipynb](./data_visualization_with_seaborn.ipynb))  "
   ]
  },
  {
   "cell_type": "markdown",
   "id": "ff14e218-8887-4ee3-99d3-ad5203ca75dc",
   "metadata": {},
   "source": [
    "### Bonus topics (if time)\n",
    "\n",
    "  - Command line: similar to how in computing user interfaces click (or  double click) means \"run <program>\", a command line interface allows us to run programs by simply typing out their name, as in    program    and pressing. Enter. This is where the notion of \"calling a program/function\" comes from, you   just write it's name in a command line prompt and this is equivalent to \"calling it\" (making it run, just click clicking on it)\n",
    "  - Command line scripts: run any python code on command line using  python\n",
    "  myscript.py (or if configured as an executable script, simply ./myscript.py)\n",
    "  - Documentation: READMEs, __doc__ strings, and other technical altruism basics\n",
    "  - Debugging (intro to JupyterLab debugger)\n",
    "  - Code Testing (e.g. test_fun: a function that checks that `fun` returns the expected outputs on some set of inputs)\n",
    "  - Algorithms: different approaches for solving computational problem"
   ]
  },
  {
   "cell_type": "markdown",
   "id": "18bf2168-40c6-4926-87e2-dccaff5c8b78",
   "metadata": {},
   "source": [
    "# Basics\n",
    "\n",
    "Programming consists of writing down instructions for a computer. The instructions are also called \"commands\", \"code\", \"source code\", etc. Since this tutorial is about Python, all the instructions in the boxes you'll see below are written in the Python programming language. \n",
    "\n",
    "You can \"run\" the code in a given box by pressing the play button on the left side, or by pressing _Shift_ and _Enter_ keys at the same time. When you run a code cell, you're telling the computer to \"execute\" the Python instructions in that cell, which means to do the actions described in the code, and print the final value computed in that cell.\n",
    "\n",
    "Running a code cell is similar to using the EQUALS button on the calculator: whatever math expression you entered, the calculator will compute its value and display it as the output. The process is identical when you execute some Python code, but you're allowed to input multiple lines of commands at once. The computer will execute the lines of code one by one in the order it sees them.\n",
    "\n",
    "The result of final calculations in the cell gets automatically printed in the output cell right below the input cell. This feature allows you to skip the print statements, since the last output gets printed automatically for you. This makes it easy and fun to explore and \"poke around\" each example given in this notebook. Click the `[+ Code]` button below any cell to add a blank cell where you can try inputting some expressions and running them by pressing _Shift_ and _Enter_.\n",
    "\n",
    "\n",
    "\n",
    "### Errors\n",
    "Sometimes the executed commands will cause an error, and in these cases Python will give an error message describing the problem encountered. Get psychologically ready for those, because they can be very discouraging. REJECTED! The computer doesn't like what you entered. SyntaxError, ValueError, etc. The error messages look scary, but really they are there to help you—if you read what the error message tells you, you will know what needs to be fixed in your input. The error message literally describes the problem!"
   ]
  },
  {
   "cell_type": "code",
   "execution_count": 1,
   "id": "99b808a8",
   "metadata": {
    "tags": [
     "raises-exception"
    ]
   },
   "outputs": [
    {
     "ename": "ZeroDivisionError",
     "evalue": "division by zero",
     "output_type": "error",
     "traceback": [
      "\u001b[0;31m---------------------------------------------------------------------------\u001b[0m",
      "\u001b[0;31mZeroDivisionError\u001b[0m                         Traceback (most recent call last)",
      "Input \u001b[0;32mIn [1]\u001b[0m, in \u001b[0;36m<module>\u001b[0;34m\u001b[0m\n\u001b[0;32m----> 1\u001b[0m \u001b[38;5;241;43m3\u001b[39;49m\u001b[38;5;241;43m/\u001b[39;49m\u001b[38;5;241;43m0\u001b[39;49m\n",
      "\u001b[0;31mZeroDivisionError\u001b[0m: division by zero"
     ]
    }
   ],
   "source": [
    "3/0"
   ]
  },
  {
   "cell_type": "markdown",
   "id": "ab9f5efc-4b0c-4c51-bdcf-94be6669ef2d",
   "metadata": {},
   "source": [
    "Here we get an error since we're trying to compute an expression that contains a divide by zero error: Python tell us a `ZeroDivisionError: division by zero` has occurred, i.e., check your math expressions!"
   ]
  },
  {
   "cell_type": "markdown",
   "id": "79f306e8-dd3a-4db5-94a8-1a4aa0ba4102",
   "metadata": {},
   "source": [
    "# Variables and expressions\n",
    "\n",
    "\n"
   ]
  },
  {
   "cell_type": "markdown",
   "id": "04159e5c-6062-420b-9186-a6dd81127208",
   "metadata": {
    "tags": []
   },
   "source": [
    "## Variables\n",
    "\n",
    "Similar to variables in math, a variable in Python is a convenient name we use to refer to any value: a onstant `c`, the input to a funciton `x`, the output of a function `y`, or any other intermediate value."
   ]
  },
  {
   "cell_type": "markdown",
   "id": "da99271c-dea8-453e-99c0-87219dad6684",
   "metadata": {},
   "source": [
    "To assign a value to a variable, you use the symbol `=` as follows, from left to right:\n",
    "\n",
    "* we start by writing the name of the variable\n",
    "* then, we add the symbol `=`\n",
    "* finally, we write the value of the variable"
   ]
  },
  {
   "cell_type": "code",
   "execution_count": 2,
   "id": "05261769",
   "metadata": {},
   "outputs": [
    {
     "name": "stdout",
     "output_type": "stream",
     "text": [
      "3\n"
     ]
    }
   ],
   "source": [
    "x = 3\n",
    "print(x)"
   ]
  },
  {
   "cell_type": "markdown",
   "id": "3ca1a5e0-34a9-4a92-bd14-99956747ef32",
   "metadata": {},
   "source": [
    "In the first line of the above code cell, we set the variable `x` to the value `3`. On the second we call the `print` function to display the value of x to the screen."
   ]
  },
  {
   "cell_type": "markdown",
   "id": "db43e996-4b66-48dd-82fe-bcf37e3539ee",
   "metadata": {},
   "source": [
    "### Variables types\n",
    "\n",
    "There are multiple types of variables in Python:\n",
    "\n",
    "- **int** - integers ex: `34`,`65`, `78`, `-4`, etc. (rougly equivalent to $\\mathbb{Z}$)\n",
    "- **float** - ex: `4.6`,`78.5`, `1e-3` (full name is \"floating point number\"; similar to $\\mathbb{R}$ but only with finite precision)\n",
    "- **bool** a Boolean truth value with only two choices: `True` or `False`.\n",
    "- **string** - text ex: `'Hello'`, `'Hello everyone'`\n",
    "- **list** a sequence of values ​​- ex: `[69, 81, 92, 77]`. The beginning and the end of the list are denoted by the brackets `[` and `]`, and its elements are separated by commas.\n",
    "- **dictionary** a collection of key-value pairs. Each key is associated with a value - ex: `{'first_name': 'Julie', 'last_name': 'Tremblay', 'score': 98}`. Dictionaries are denoted by curly braces `{` and `}` inside which we place `'key': value`, pairs separated by commas.\n",
    "- **tuples**, **sets**, **functions**, etc. These are other useful Python building blocks which we'll talk about in later sections."
   ]
  },
  {
   "cell_type": "markdown",
   "id": "c332034a-15a8-4165-a937-d7fe1ae0ae1a",
   "metadata": {},
   "source": [
    "Let's look at some examples with variables of different types:\n",
    "an `int`eger, a `float`ing point number, a `bool`ean value, a `str`ing,\n",
    "a list, and a `dict`ionary."
   ]
  },
  {
   "cell_type": "code",
   "execution_count": 3,
   "id": "cf6eba8f",
   "metadata": {},
   "outputs": [],
   "source": [
    "score = 98\n",
    "average = 77.5\n",
    "above_the_average = True\n",
    "message = \"Hello everyone\"\n",
    "scores = [61, 85, 92, 72]\n",
    "profile = {\"first_name\":\"Julie\", \"last_name\":\"Tremblay\", \"score\":98}"
   ]
  },
  {
   "cell_type": "code",
   "execution_count": null,
   "id": "7c65e997-23f1-42ab-a268-2d1002c97d73",
   "metadata": {},
   "outputs": [],
   "source": []
  },
  {
   "cell_type": "code",
   "execution_count": 4,
   "id": "4e2db4c0-435d-43b5-be52-d7d12e8cf5fa",
   "metadata": {},
   "outputs": [
    {
     "data": {
      "text/plain": [
       "14"
      ]
     },
     "execution_count": 4,
     "metadata": {},
     "output_type": "execute_result"
    }
   ],
   "source": [
    "len(message)"
   ]
  },
  {
   "cell_type": "code",
   "execution_count": 5,
   "id": "dce0db46",
   "metadata": {},
   "outputs": [
    {
     "data": {
      "text/plain": [
       "['Hello', 'everyone']"
      ]
     },
     "execution_count": 5,
     "metadata": {},
     "output_type": "execute_result"
    }
   ],
   "source": [
    "message.split()"
   ]
  },
  {
   "cell_type": "markdown",
   "id": "9eaac03f-c1a8-4343-a266-77c5b27d5ee0",
   "metadata": {
    "jp-MarkdownHeadingCollapsed": true,
    "tags": []
   },
   "source": [
    "You can explore the different methods available on any python object `int`, `float`, `str`, etc.  by starting to type the dot `.` after the name, e.g., `message.` then pressing the TAB button to get an \"autocomplete\" dropdown of all the methods available on the variable `message`. Most of these methods are common to all strings in Python."
   ]
  },
  {
   "cell_type": "markdown",
   "id": "6a634670-2ddd-4bc5-acfb-80017c02b9ce",
   "metadata": {
    "tags": []
   },
   "source": [
    "## Expressions\n",
    "\n",
    "Similar to expresisons in algebra, a Python expression is can be any combination of variables and operations:"
   ]
  },
  {
   "cell_type": "code",
   "execution_count": 6,
   "id": "4b0b2a40",
   "metadata": {},
   "outputs": [
    {
     "name": "stdout",
     "output_type": "stream",
     "text": [
      "The number of seconds in a week is 604800\n",
      "Hello Julie\n",
      "The average score is 77.5\n",
      "Hi Julie\n"
     ]
    }
   ],
   "source": [
    "# Expression involving numerical values\n",
    "secs_in_1min = 60 \n",
    "secs_in_1day = secs_in_1min * 60 * 24\n",
    "secs_in_1week = secs_in_1day * 7\n",
    "print(\"The number of seconds in a week is\", secs_in_1week)\n",
    "\n",
    "\n",
    "# Expression involving strings\n",
    "name = \"Julie\"\n",
    "message = \"Hello \" + name    # for strings, + means concatenate\n",
    "print(message)\n",
    "\n",
    "\n",
    "# Expression involving a list\n",
    "scores = [61, 85, 92, 72]\n",
    "average = sum(scores)/len(scores)\n",
    "#        `sum` computes the sum of values in the list\n",
    "#                and `len` gives you the length of the list\n",
    "print(\"The average score is\", average)\n",
    "\n",
    "\n",
    "# String expression using a values from a dictionary\n",
    "profile = {\"first_name\":\"Julie\", \"last_name\":\"Tremblay\", \"score\":98}\n",
    "message2 = \"Hi \" + profile[\"first_name\"]\n",
    "print(message2)"
   ]
  },
  {
   "cell_type": "markdown",
   "id": "c1ec63bc",
   "metadata": {},
   "source": [
    "Note in all the above examples, the code had the form:\n",
    "\n",
    "```Python\n",
    "var_name = <some expression>\n",
    "```\n",
    "which is the important new pattern you have to get used to in programming. Even though this looks like a math equation, the meaning you have to associate with it is much simpler—we are setting variable `var_name` to the value of the expression `<some expression>`.\n",
    "\n",
    "Don't worry about the lists and dictionary examples—I know they are complicated and we haven't explained all the syntax. We'll get to that in just a little bit. First let's practice computing some Python expresions."
   ]
  },
  {
   "cell_type": "code",
   "execution_count": 7,
   "id": "a5e056ed",
   "metadata": {},
   "outputs": [
    {
     "name": "stdout",
     "output_type": "stream",
     "text": [
      "3.4\n",
      "-2\n",
      "1.5\n"
     ]
    }
   ],
   "source": [
    "# Numeric expressions\n",
    "\n",
    "expr1 = 1 + 2.4\n",
    "print(expr1)  # 3.4\n",
    "\n",
    "expr2 = 4 - 6\n",
    "print(expr2)  # -2\n",
    "\n",
    "expr3 = 0.5 * 3\n",
    "print(expr3)  # 1.5"
   ]
  },
  {
   "cell_type": "markdown",
   "id": "7558be6a-c118-4d3f-ad95-87b003859961",
   "metadata": {},
   "source": [
    "Here is an expression that Python cannot compute,\n",
    "so it raises an exception."
   ]
  },
  {
   "cell_type": "code",
   "execution_count": 8,
   "id": "d10b2096",
   "metadata": {
    "tags": [
     "raises-exception"
    ]
   },
   "outputs": [
    {
     "ename": "ZeroDivisionError",
     "evalue": "division by zero",
     "output_type": "error",
     "traceback": [
      "\u001b[0;31m---------------------------------------------------------------------------\u001b[0m",
      "\u001b[0;31mZeroDivisionError\u001b[0m                         Traceback (most recent call last)",
      "Input \u001b[0;32mIn [8]\u001b[0m, in \u001b[0;36m<module>\u001b[0;34m\u001b[0m\n\u001b[0;32m----> 1\u001b[0m expr4 \u001b[38;5;241m=\u001b[39m \u001b[38;5;241;43m5\u001b[39;49m\u001b[38;5;241;43m/\u001b[39;49m\u001b[38;5;241;43m0\u001b[39;49m\n",
      "\u001b[0;31mZeroDivisionError\u001b[0m: division by zero"
     ]
    }
   ],
   "source": [
    "expr4 = 5/0"
   ]
  },
  {
   "cell_type": "markdown",
   "id": "648438a0-8086-46a5-975a-62ee1d2abd04",
   "metadata": {},
   "source": [
    "You'll see these threatening looking messages on a red background any time Python encounters an error when trying to run the commands you specified.\n",
    "This is nothing to be alarmed by.\n",
    "It usually means you made a typo (symbol not defined error),\n",
    "forgot a syntax element (e.g. `(`, `,`, `[`, `:`, etc.),\n",
    "or tried to compute something impossible like the `ZeroDivisionError` in the above example.\n",
    "\n",
    "The way to read these red messages is to focus on the name of the exception and the message that gets printed on the last line. This should tell you what you need to fix. The solution will be obvious for typos and syntax errors, but for more complicated situations requires googling and searching on stack overflow.\n"
   ]
  },
  {
   "cell_type": "markdown",
   "id": "3037b7cf",
   "metadata": {},
   "source": [
    "### Integration exercise\n",
    "\n",
    "Expression for converting a temperature in Celsius to temperature in Fahrenheit.\n"
   ]
  },
  {
   "cell_type": "code",
   "execution_count": 9,
   "id": "3ff6d575-93f4-41b4-b433-2c71938f7cfc",
   "metadata": {},
   "outputs": [
    {
     "data": {
      "text/plain": [
       "212.0"
      ]
     },
     "execution_count": 9,
     "metadata": {},
     "output_type": "execute_result"
    }
   ],
   "source": [
    "temp_C = 100\n",
    "temp_F = (temp_C * 9/5) + 32\n",
    "\n",
    "temp_F\n"
   ]
  },
  {
   "cell_type": "markdown",
   "id": "c3046415-7507-476b-8188-a6fdbb5cc33b",
   "metadata": {},
   "source": [
    "Test: if temp_C = 100 then value of expression should be temp_F = 212."
   ]
  },
  {
   "cell_type": "markdown",
   "id": "48abb8c8-6e9d-4df7-baf2-0e267798099d",
   "metadata": {},
   "source": [
    "### String expressions"
   ]
  },
  {
   "cell_type": "code",
   "execution_count": 10,
   "id": "1f198f72",
   "metadata": {},
   "outputs": [
    {
     "name": "stdout",
     "output_type": "stream",
     "text": [
      "Hello world\n",
      "Ai Ai Ai Caramba!\n"
     ]
    }
   ],
   "source": [
    "message3 = \"Hello\" + \" \" + \"world\"  # + means concatenate\n",
    "print(message3)\n",
    "\n",
    "message4 = \"Ai \" * 3                # * means repeat\n",
    "print(message4 + 'Caramba!') "
   ]
  },
  {
   "cell_type": "code",
   "execution_count": null,
   "id": "f9c22f7e",
   "metadata": {},
   "outputs": [],
   "source": []
  },
  {
   "cell_type": "markdown",
   "id": "f45fd650-9c26-4126-a28d-fce66bcb0185",
   "metadata": {},
   "source": [
    "### Strings are lists of characters"
   ]
  },
  {
   "cell_type": "code",
   "execution_count": 11,
   "id": "5f62f57d",
   "metadata": {},
   "outputs": [
    {
     "name": "stdout",
     "output_type": "stream",
     "text": [
      "The index of the letter `a` in the string letters is 0\n",
      "a\n",
      "The index of the letter `b` in the string letters is 1\n",
      "b\n",
      "The index of the last letter in the string letters is -1\n",
      "z\n",
      "The last element in list of 26 elments has index 25\n",
      "True\n",
      "\n",
      "\n",
      "\n",
      "\n",
      "The first four letters of the alphabet are: abcd\n"
     ]
    }
   ],
   "source": [
    "# Define a str of length 26 that contains all the lowercase Latin letters\n",
    "letters = \"abcdefghijklmnopqrstuvwxyz\"\n",
    "\n",
    "# Accessing individual characters within a string\n",
    "print(\"The index of the letter `a` in the string letters is 0\")\n",
    "first_letter = letters[0]  # a\n",
    "print(first_letter)\n",
    "\n",
    "print(\"The index of the letter `b` in the string letters is 1\")\n",
    "second_letter = letters[1]  # b\n",
    "print(second_letter)\n",
    "\n",
    "print(\"The index of the last letter in the string letters is -1\")\n",
    "last_letter = letters[-1]  # z\n",
    "print(last_letter)\n",
    "\n",
    "print(\"The last element in list of 26 elments has index 25\")\n",
    "print(letters[25] == \"z\")\n",
    "\n",
    "print('\\n\\n\\n')  # '\\n' is a special character (an escape sequence) that prints a newline\n",
    "                 # we'll use this kind of preint-nelines statements to logically\n",
    "                 # separate the out outplut lines\n",
    "\n",
    "# Slicing = getting the substring for a particular range of indices\n",
    "first_four = letters[0:4]\n",
    "print('The first four letters of the alphabet are:', first_four)\n",
    "# the notation 0:4 is sugar syntax for `slice(0,4)` and corresponds\n",
    "# to the range of indices for 0 to 4 (non-inclusinve): [0,1,2,3]."
   ]
  },
  {
   "cell_type": "code",
   "execution_count": null,
   "id": "3650718d-b6b2-48b9-ae9b-c8839aac272e",
   "metadata": {},
   "outputs": [],
   "source": []
  },
  {
   "cell_type": "code",
   "execution_count": null,
   "id": "8ffc6245",
   "metadata": {},
   "outputs": [],
   "source": []
  },
  {
   "cell_type": "markdown",
   "id": "e2273da6",
   "metadata": {},
   "source": [
    "### Boolean expressions\n",
    "\n",
    "You can use `bool` variables and the logical operations `and`, `or`, `not`, etc. to build more complicated boolean expressions (disjunctions, conjunctions, negations, etc.)."
   ]
  },
  {
   "cell_type": "code",
   "execution_count": 12,
   "id": "b517fd0f",
   "metadata": {},
   "outputs": [
    {
     "name": "stdout",
     "output_type": "stream",
     "text": [
      "not True == False\n",
      "not False == True\n",
      "True and True == True\n",
      "True and False == False\n",
      "True or False == True\n",
      "False or False == False\n"
     ]
    }
   ],
   "source": [
    "print('not True ==', not True)\n",
    "print('not False ==', not False)\n",
    "print('True and True ==', True and True)\n",
    "print('True and False ==', True and False)\n",
    "print('True or False ==', True or False)\n",
    "print('False or False ==', False or False)"
   ]
  },
  {
   "cell_type": "code",
   "execution_count": null,
   "id": "b191c826-7a43-4147-b94c-86924d56b15b",
   "metadata": {},
   "outputs": [],
   "source": []
  },
  {
   "cell_type": "markdown",
   "id": "c50b1f33",
   "metadata": {},
   "source": [
    "## Types and type conversions\n",
    "\n",
    "The function `type` tells you the type of any variable, meaning what kind of number or object it is.\n",
    "Look back to the list above—the Python types are shown in **bold**."
   ]
  },
  {
   "cell_type": "code",
   "execution_count": 13,
   "id": "6fe84d2f",
   "metadata": {},
   "outputs": [
    {
     "data": {
      "text/plain": [
       "int"
      ]
     },
     "execution_count": 13,
     "metadata": {},
     "output_type": "execute_result"
    }
   ],
   "source": [
    "# integrers\n",
    "score = 98\n",
    "type(score)"
   ]
  },
  {
   "cell_type": "code",
   "execution_count": 14,
   "id": "4f9dcd41",
   "metadata": {},
   "outputs": [
    {
     "data": {
      "text/plain": [
       "float"
      ]
     },
     "execution_count": 14,
     "metadata": {},
     "output_type": "execute_result"
    }
   ],
   "source": [
    "average = 77.5\n",
    "type(average)"
   ]
  },
  {
   "cell_type": "code",
   "execution_count": 15,
   "id": "d55fa3ab",
   "metadata": {},
   "outputs": [
    {
     "data": {
      "text/plain": [
       "bool"
      ]
     },
     "execution_count": 15,
     "metadata": {},
     "output_type": "execute_result"
    }
   ],
   "source": [
    "above_the_average = True\n",
    "type(above_the_average)"
   ]
  },
  {
   "cell_type": "markdown",
   "id": "01d75c5b",
   "metadata": {},
   "source": [
    "You can convert between each of these types using the function which has the same name as the type of an object\n",
    "\n",
    "- `int` : transform any expression into an int\n",
    "- `float`: transform any expression into a flaot\n",
    "- `bool`: transform any expression into a `True` or `False`\n",
    "- `str`: transform an expression to it's string representaiton (i.e. this is what the function `print` does)."
   ]
  },
  {
   "cell_type": "markdown",
   "id": "0e58d258",
   "metadata": {},
   "source": [
    "### Useful anything-to-int conversions"
   ]
  },
  {
   "cell_type": "code",
   "execution_count": 16,
   "id": "4e3bb6df",
   "metadata": {},
   "outputs": [
    {
     "name": "stdout",
     "output_type": "stream",
     "text": [
      "65 has type <class 'str'>\n",
      "65 has type <class 'int'>\n",
      "3.2 has type <class 'float'>\n",
      "3 has type <class 'int'>\n",
      "When converted to an int, True is 1 and False is 0\n"
     ]
    }
   ],
   "source": [
    "\n",
    "# str --> int\n",
    "number_as_str = '65'\n",
    "print(number_as_str, 'has type', type(number_as_str))\n",
    "number = int(number_as_str)\n",
    "print(number, 'has type', type(number))\n",
    "\n",
    "#  float --> int\n",
    "precise_number_as_float = 3.2\n",
    "print(precise_number_as_float, 'has type', type(precise_number_as_float))\n",
    "rounded_number = int(precise_number_as_float)\n",
    "print(rounded_number, 'has type', type(rounded_number))\n",
    "\n",
    "#  bool --> int\n",
    "true_value = True\n",
    "false_value = False\n",
    "print('When converted to an int, True is', int(True), 'and False is', int(False))"
   ]
  },
  {
   "cell_type": "markdown",
   "id": "9390f1a1",
   "metadata": {},
   "source": [
    "### Useful anything-to-float conversions"
   ]
  },
  {
   "cell_type": "code",
   "execution_count": 17,
   "id": "dfd2d628",
   "metadata": {},
   "outputs": [
    {
     "name": "stdout",
     "output_type": "stream",
     "text": [
      "1.2\n",
      "1000000.0\n",
      "4.0\n",
      "If you divide an integrer by an integer in Python using the / operator...\n",
      "...you get a float number 1.2 has type <class 'float'>\n",
      "There is also an divistion without autoconversion operator // which ...\n",
      "...you get an integer 1 has type <class 'int'>\n"
     ]
    }
   ],
   "source": [
    "# str --> float\n",
    "print(float('1.2'))  # note using decimal dot . not decimal , as in Europe\n",
    "print(float('1e6'))  # one million = 1000000 = 1x10^6. The e is shorthand for x10^\n",
    "print(float('4'))\n",
    "\n",
    "# int/int --> float autoconversion\n",
    "print('If you divide an integrer by an integer in Python using the / operator...')\n",
    "print('...you get a float number', 6/5, 'has type', type(6/5))\n",
    "\n",
    "print('There is also an divistion without autoconversion operator // which ...')\n",
    "print('...you get an integer', 6//5, 'has type', type(6//5))"
   ]
  },
  {
   "cell_type": "markdown",
   "id": "fe367c23",
   "metadata": {},
   "source": [
    "### Common anything-to-str conversions"
   ]
  },
  {
   "cell_type": "code",
   "execution_count": 18,
   "id": "1f8c417f",
   "metadata": {},
   "outputs": [
    {
     "name": "stdout",
     "output_type": "stream",
     "text": [
      "string representations 42 4.2 True a string\n",
      "str(math.pi) = 3.141592653589793\n",
      "pi to two decimals 3.14\n",
      "pi to seven decimals 3.1415927\n"
     ]
    }
   ],
   "source": [
    "# use the str function\n",
    "str1 = str(42)\n",
    "str2 = str(4.2)\n",
    "str3 = str(True)\n",
    "str4 = 'a string'\n",
    "print('string representations', str1, str2, str3, str4)\n",
    "\n",
    "# float -> str\n",
    "import math\n",
    "pi = math.pi  # constant equal to ratio of circumference to diameter of a circle\n",
    "print('str(math.pi) =', str(math.pi))  # defaults to max precision\n",
    "\n",
    "# control precision and print formatting using format. For more info, see\n",
    "# https://python-reference.readthedocs.io/en/latest/docs/functions/format.html\n",
    "print('pi to two decimals', '{:.2f}'.format(pi))\n",
    "print('pi to seven decimals', '{:.7f}'.format(pi))"
   ]
  },
  {
   "cell_type": "code",
   "execution_count": null,
   "id": "e027a4f1",
   "metadata": {},
   "outputs": [],
   "source": []
  },
  {
   "cell_type": "markdown",
   "id": "566f14e7",
   "metadata": {},
   "source": [
    "### Converting expressions to boolean values\n",
    "\n",
    "Up until now we were in the land of math and text manipulation of numbers, which all make sense intuitively. \n",
    "\n",
    "Next we'll talk about the boolean values of Python expressions. This will feel a little weird at first since we're forcing some arbitray Python object (could be a number, a string, a list, a dictionary, etc) and asking the questions is the value `True` or `False` ?\n",
    "\n",
    "There is a specific convention about which values are considered \"truthy\" (i.e. get converted to `True` when converted to boolean using `bool`) and which expressions are falsy (i.e. get converted to `False` when passed through `bool`). \n",
    "\n",
    "I know this seems like boring details, but please read the next example carefully because \"truthyness\" and \"falsyness\" will play a big role in coding: every time you use an if or elif statement in Python, we are implicitly calling `bool` on an expression so it's a good idea to get to know what `bool` does to different types of variables."
   ]
  },
  {
   "cell_type": "code",
   "execution_count": 19,
   "id": "27b8807d",
   "metadata": {},
   "outputs": [
    {
     "name": "stdout",
     "output_type": "stream",
     "text": [
      "Any non-zero integer is considered as True\n",
      "True True True\n",
      "Zero is False\n",
      "False False False\n",
      "\n",
      "\n",
      "Any non-zero float is considered as True\n",
      "True True True\n",
      "Zero is False\n",
      "False False False\n",
      "Any non-empty string is considered True\n",
      "True False\n",
      "\n",
      "\n",
      "Any non-empty list is considered True\n",
      "True True True\n",
      "Empty list is considered False\n",
      "False False True\n",
      "\n",
      "\n",
      "Any non-empty dict is considered True\n",
      "True True\n",
      "Empty dict is considered False\n",
      "False False\n"
     ]
    }
   ],
   "source": [
    "# int --> bool\n",
    "print('Any non-zero integer is considered as True')\n",
    "print(bool(1), bool(-2), bool(10000))\n",
    "print('Zero is False')\n",
    "print(bool(0), bool(-0), bool(int('0')))\n",
    "\n",
    "print('\\n')\n",
    "\n",
    "# float --> bool\n",
    "print('Any non-zero float is considered as True')\n",
    "print(bool(1.0), bool(-2.0), bool(10000.0))\n",
    "print('Zero is False')\n",
    "print(bool(0.0), bool(-0.0), bool(float('0.0')))\n",
    "\n",
    "\n",
    "# str --> bool\n",
    "print('Any non-empty string is considered True')\n",
    "print(bool('as'), bool(''))\n",
    "\n",
    "print('\\n')\n",
    "\n",
    "# list --> bool\n",
    "print('Any non-empty list is considered True')\n",
    "print(bool([1]), bool([1,2]), bool(range(0,10000)))\n",
    "print('Empty list is considered False')\n",
    "print(bool([]), bool(list()), bool(list('[]')))\n",
    "\n",
    "print('\\n')\n",
    "\n",
    "# dict --> bool\n",
    "print('Any non-empty dict is considered True')\n",
    "print(bool({1:11}), bool({1:11,-2:22}))\n",
    "print('Empty dict is considered False')\n",
    "print(bool({}), bool(dict()))"
   ]
  },
  {
   "cell_type": "code",
   "execution_count": 20,
   "id": "d20a8a79",
   "metadata": {},
   "outputs": [
    {
     "data": {
      "text/plain": [
       "True"
      ]
     },
     "execution_count": 20,
     "metadata": {},
     "output_type": "execute_result"
    }
   ],
   "source": [
    "bool(2)"
   ]
  },
  {
   "cell_type": "markdown",
   "id": "05b9a466",
   "metadata": {},
   "source": [
    "## Your turn to try this...\n",
    "\n",
    "Try typing in some Python code in this cell. If you've been simply reading until now, this is your chance to switch to \"active\" mode: use the rocket-button in the top right of the menu at the top, and choose the `Live Code` option to make all the cells in this notebook interactive, then try entering some Python commands in this code cell below:"
   ]
  },
  {
   "cell_type": "code",
   "execution_count": null,
   "id": "a0056503",
   "metadata": {},
   "outputs": [],
   "source": []
  },
  {
   "cell_type": "markdown",
   "id": "91dbdfba-e540-445d-99aa-f532aaa4922d",
   "metadata": {},
   "source": [
    "\n",
    "\n",
    "\n",
    "## Exercises\n",
    "\n",
    "- Review Python syntax cheatsheet [https://blog.finxter.com/wp-content/uploads/2020/07/Finxter_WorldsMostDensePythonCheatSheet.pdf](https://blog.finxter.com/wp-content/uploads/2020/07/Finxter_WorldsMostDensePythonCheatSheet.pdf)\n",
    "  - add single dot next to concepts you've hear about\n",
    "  - double dot next to python concepts you understand\n",
    "  - triple dot next to concepts you've used in your code\n",
    "- Try poking-around and explore expressions involving numbers (`int` and `float`),\n",
    "  strings (`str`), and booleans (`bool`).\n",
    "- Go through all quiz questions in reading material as notebooks:\n",
    "  - 03-Variables: [https://introductorypython.github.io/tutorials/03-Variables.html](https://introductorypython.github.io/tutorials/03-Variables.html)\n",
    "  - 04-Operarators: [https://introductorypython.github.io/tutorials/04-Operators.html](https://introductorypython.github.io/tutorials/04-Operators.html)\n",
    "  - 06-Data types: [https://introductorypython.github.io/tutorials/06-DataTypes.html](https://introductorypython.github.io/tutorials/06-DataTypes.html) \n",
    "  - Review Collections: Lists section. This is important because we can use lists\n",
    "    to represent vectors in Python, for example the two-dimensional vector can be defined as `v = [3,2]`\n",
    "  - Complete the section on for loops in 07-Loops notebook.\n",
    "    The for loop is important because it allows you to do operations for each element in the list."
   ]
  },
  {
   "cell_type": "markdown",
   "id": "e0752b0b-2d68-4a03-8a9f-539f566a1e17",
   "metadata": {},
   "source": [
    "# Lists and for loops\n"
   ]
  },
  {
   "cell_type": "markdown",
   "id": "499f5589-9568-43a3-ba6c-ed43b3df568e",
   "metadata": {},
   "source": [
    "To create a list of two values:\n",
    "- start with an opening square bracket `[` ,\n",
    "- then put the first value,\n",
    "- comma `,`,\n",
    "- then the second value,\n",
    "- finally close the square bracket `]`"
   ]
  },
  {
   "cell_type": "code",
   "execution_count": 82,
   "id": "85ac2547",
   "metadata": {},
   "outputs": [
    {
     "data": {
      "text/plain": [
       "[3, 4]"
      ]
     },
     "execution_count": 82,
     "metadata": {},
     "output_type": "execute_result"
    }
   ],
   "source": [
    "first_val = 3\n",
    "second_val = 4\n",
    "\n",
    "my_list = [first_val, second_val]\n",
    "my_list"
   ]
  },
  {
   "cell_type": "code",
   "execution_count": 21,
   "id": "f76410af",
   "metadata": {},
   "outputs": [
    {
     "data": {
      "text/plain": [
       "[61.0, 85.0, 92.0, 72.0]"
      ]
     },
     "execution_count": 21,
     "metadata": {},
     "output_type": "execute_result"
    }
   ],
   "source": [
    "scores = [61.0, 85.0, 92.0, 72.0]  # define a list of floats\n",
    "scores"
   ]
  },
  {
   "cell_type": "code",
   "execution_count": 22,
   "id": "3847db1a",
   "metadata": {},
   "outputs": [
    {
     "data": {
      "text/plain": [
       "4"
      ]
     },
     "execution_count": 22,
     "metadata": {},
     "output_type": "execute_result"
    }
   ],
   "source": [
    "# lists have a \"length\"\n",
    "len(scores)"
   ]
  },
  {
   "cell_type": "code",
   "execution_count": 23,
   "id": "ae78304a",
   "metadata": {},
   "outputs": [
    {
     "data": {
      "text/plain": [
       "61.0"
      ]
     },
     "execution_count": 23,
     "metadata": {},
     "output_type": "execute_result"
    }
   ],
   "source": [
    "# elements of a list are acccessed using [ ] and 0-based index\n",
    "scores[0]  # first score"
   ]
  },
  {
   "cell_type": "code",
   "execution_count": 24,
   "id": "a6110de9",
   "metadata": {},
   "outputs": [
    {
     "data": {
      "text/plain": [
       "[61.0, 72.0, 85.0, 92.0]"
      ]
     },
     "execution_count": 24,
     "metadata": {},
     "output_type": "execute_result"
    }
   ],
   "source": [
    "# lists can be sorted\n",
    "sorted(scores)  # returns a new list of sorted scores"
   ]
  },
  {
   "cell_type": "code",
   "execution_count": 25,
   "id": "4a82c0ea",
   "metadata": {},
   "outputs": [
    {
     "data": {
      "text/plain": [
       "[61.0, 85.0, 92.0, 72.0]"
      ]
     },
     "execution_count": 25,
     "metadata": {},
     "output_type": "execute_result"
    }
   ],
   "source": [
    "scores"
   ]
  },
  {
   "cell_type": "code",
   "execution_count": 26,
   "id": "feb2d894",
   "metadata": {},
   "outputs": [
    {
     "data": {
      "text/plain": [
       "[61.0, 72.0, 85.0, 92.0]"
      ]
     },
     "execution_count": 26,
     "metadata": {},
     "output_type": "execute_result"
    }
   ],
   "source": [
    "scores.sort()  # in-place sort the list\n",
    "scores"
   ]
  },
  {
   "cell_type": "code",
   "execution_count": 27,
   "id": "407ec209",
   "metadata": {},
   "outputs": [
    {
     "data": {
      "text/plain": [
       "[92.0, 85.0, 72.0, 61.0]"
      ]
     },
     "execution_count": 27,
     "metadata": {},
     "output_type": "execute_result"
    }
   ],
   "source": [
    "scores.reverse()\n",
    "scores"
   ]
  },
  {
   "cell_type": "code",
   "execution_count": 28,
   "id": "780efcce",
   "metadata": {},
   "outputs": [],
   "source": [
    "scores.append(22)"
   ]
  },
  {
   "cell_type": "code",
   "execution_count": 29,
   "id": "7d1302f6",
   "metadata": {},
   "outputs": [
    {
     "data": {
      "text/plain": [
       "[92.0, 85.0, 72.0, 61.0, 22]"
      ]
     },
     "execution_count": 29,
     "metadata": {},
     "output_type": "execute_result"
    }
   ],
   "source": [
    "scores"
   ]
  },
  {
   "cell_type": "code",
   "execution_count": 30,
   "id": "f0c38a04",
   "metadata": {},
   "outputs": [
    {
     "data": {
      "text/plain": [
       "[92.0, 85.0, 25, 72.0, 61.0, 22]"
      ]
     },
     "execution_count": 30,
     "metadata": {},
     "output_type": "execute_result"
    }
   ],
   "source": [
    "scores.insert(2, 25)\n",
    "scores"
   ]
  },
  {
   "cell_type": "code",
   "execution_count": 31,
   "id": "15a74b2b",
   "metadata": {},
   "outputs": [
    {
     "data": {
      "text/plain": [
       "22"
      ]
     },
     "execution_count": 31,
     "metadata": {},
     "output_type": "execute_result"
    }
   ],
   "source": [
    "scores.pop()"
   ]
  },
  {
   "cell_type": "markdown",
   "id": "bec18151",
   "metadata": {},
   "source": [
    "Just like `.sort()` method, lists have all kinds of useful methods `.insert`, `.remove`, `.pop`, `.reverse`, ...  \n",
    "\n",
    "You can see all those methods by starting to type `scores.` then pause for a second to see the auto-complete suggestions:"
   ]
  },
  {
   "cell_type": "code",
   "execution_count": 32,
   "id": "3a2e521a",
   "metadata": {},
   "outputs": [],
   "source": [
    "# scores."
   ]
  },
  {
   "cell_type": "code",
   "execution_count": 33,
   "id": "1ee1a4a0",
   "metadata": {},
   "outputs": [],
   "source": [
    "scores = [61.0, 85.0, 92.0, 72.0]\n",
    "scores.sort()"
   ]
  },
  {
   "cell_type": "markdown",
   "id": "729699e7",
   "metadata": {},
   "source": [
    "## For loops\n",
    "\n",
    "The \"for loop\" is a Python code construct of the form:\n",
    "```Python\n",
    "for el in <container>:\n",
    "    <operations on element `el`>\n",
    "\n",
    "```\n",
    "that allows to repeat a block of operations **for each element of the list**."
   ]
  },
  {
   "cell_type": "code",
   "execution_count": 34,
   "id": "56002dd2",
   "metadata": {},
   "outputs": [
    {
     "name": "stdout",
     "output_type": "stream",
     "text": [
      "61.0\n",
      "72.0\n",
      "85.0\n",
      "92.0\n"
     ]
    }
   ],
   "source": [
    "# Example 1: print all the scores\n",
    "for score in scores:\n",
    "    print(score)"
   ]
  },
  {
   "cell_type": "code",
   "execution_count": 100,
   "id": "dfcd2e70",
   "metadata": {},
   "outputs": [
    {
     "data": {
      "text/plain": [
       "77.5"
      ]
     },
     "execution_count": 100,
     "metadata": {},
     "output_type": "execute_result"
    }
   ],
   "source": [
    "# Example 2: compute the average score  ==  sum(scores)/len(scores)\n",
    "\n",
    "total = 0\n",
    "\n",
    "for score in scores:\n",
    "    total = total + score\n",
    "\n",
    "total / len(scores)"
   ]
  },
  {
   "cell_type": "markdown",
   "id": "dfb40478",
   "metadata": {},
   "source": [
    "The name of the variable used for the for loop is totally up to you, but in general you should choose logical names for elements of the list.\n",
    "\n",
    "Here is a for loop that uses the single-letter variable:"
   ]
  },
  {
   "cell_type": "code",
   "execution_count": 36,
   "id": "6961867c",
   "metadata": {},
   "outputs": [
    {
     "name": "stdout",
     "output_type": "stream",
     "text": [
      "61.0\n",
      "72.0\n",
      "85.0\n",
      "92.0\n"
     ]
    }
   ],
   "source": [
    "for s in scores:\n",
    "    print(s)\n"
   ]
  },
  {
   "cell_type": "code",
   "execution_count": 37,
   "id": "dd44a9c6",
   "metadata": {},
   "outputs": [
    {
     "data": {
      "text/plain": [
       "[61.0, 72.0, 85.0, 92.0]"
      ]
     },
     "execution_count": 37,
     "metadata": {},
     "output_type": "execute_result"
    }
   ],
   "source": [
    "scores"
   ]
  },
  {
   "cell_type": "code",
   "execution_count": 38,
   "id": "e8101dfa",
   "metadata": {},
   "outputs": [
    {
     "data": {
      "text/plain": [
       "<enumerate at 0x10cb1b300>"
      ]
     },
     "execution_count": 38,
     "metadata": {},
     "output_type": "execute_result"
    }
   ],
   "source": [
    "enumerate(scores)"
   ]
  },
  {
   "cell_type": "code",
   "execution_count": 111,
   "id": "f49a6d1c",
   "metadata": {},
   "outputs": [
    {
     "name": "stdout",
     "output_type": "stream",
     "text": [
      "Processing score 61.0 which is at index 0 in the list\n",
      "Processing score 72.0 which is at index 1 in the list\n",
      "Processing score 85.0 which is at index 2 in the list\n",
      "Processing score 92.0 which is at index 3 in the list\n"
     ]
    }
   ],
   "source": [
    "# Bonus concept: use `enumerate` to get pairs (index, value) from a list\n",
    "# enumerate(scores) == [(0, 61.0), (1, 72.0), (2, 85.0), (3, 92.0)]\n",
    "\n",
    "# example\n",
    "for idx, score in enumerate(scores):\n",
    "    # this for loop has two variables index and score\n",
    "    print(\"Processing score\", score, \"which is at index\", idx, \"in the list\")"
   ]
  },
  {
   "cell_type": "code",
   "execution_count": 115,
   "id": "0a1fbbcf",
   "metadata": {},
   "outputs": [
    {
     "name": "stdout",
     "output_type": "stream",
     "text": [
      "Processing values 1 and 4\n",
      "Processing values 2 and 5\n",
      "Processing values 3 and 6\n"
     ]
    }
   ],
   "source": [
    "# New concept: use `zip(list1,list2)` to get pairs (value1, value2) from two lists \n",
    "# list(zip([1,2,3], ['a','b','c'])) == [(1, 'a'), (2, 'b'), (3, 'c')]\n",
    "\n",
    "# example\n",
    "list1 = [1, 2, 3]\n",
    "list2 = [4, 5, 6]\n",
    "\n",
    "for value1, value2 in zip(list1, list2):\n",
    "    print(\"Processing values\", value1, \"and\", value2)\n"
   ]
  },
  {
   "cell_type": "code",
   "execution_count": 116,
   "id": "0ef79303",
   "metadata": {},
   "outputs": [
    {
     "data": {
      "text/plain": [
       "[(1, 4), (2, 5), (3, 6)]"
      ]
     },
     "execution_count": 116,
     "metadata": {},
     "output_type": "execute_result"
    }
   ],
   "source": [
    "list1 = [1, 2, 3]\n",
    "list2 = [4, 5, 6]\n",
    "\n",
    "list(zip(list1, list2))"
   ]
  },
  {
   "cell_type": "code",
   "execution_count": null,
   "id": "e7af72da",
   "metadata": {},
   "outputs": [],
   "source": []
  },
  {
   "cell_type": "code",
   "execution_count": null,
   "id": "76681dd1",
   "metadata": {},
   "outputs": [],
   "source": []
  },
  {
   "cell_type": "markdown",
   "id": "f837d6c2",
   "metadata": {},
   "source": [
    "### List functions\n",
    "\n",
    "Your turn to play with lists now! Complete the code required to implement the functions `compute_mean` and `compute_std` below.\n",
    "\n",
    "\n",
    "#### Question 1: Mean\n",
    "\n",
    "The formula for the mean of a list of numbers $[x_1, x_2, \\ldots, x_n]$ is:\n",
    "$$\n",
    "    \\text{mean} = \\overline{x}\n",
    "    = \\frac{1}{n}\\sum_{i=1}^n x_i\n",
    "    = \\tfrac{1}{n} \\left[ x_1 + x_2 + \\cdots + x_n \\right].\n",
    "$$\n",
    "\n",
    "\n",
    "Write the function `mean(numbers)`: a function that computes the mean of a list of numbers"
   ]
  },
  {
   "cell_type": "code",
   "execution_count": 96,
   "id": "a2752b71",
   "metadata": {},
   "outputs": [
    {
     "data": {
      "text/plain": [
       "100.5"
      ]
     },
     "execution_count": 96,
     "metadata": {},
     "output_type": "execute_result"
    }
   ],
   "source": [
    "def mean(numbers):\n",
    "    \"\"\"\n",
    "    Computes the mean of the `numbers` list using a for loop.\n",
    "    \"\"\"\n",
    "    total = 0\n",
    "    for number in numbers:\n",
    "        total = total + number\n",
    "    return total / len(numbers)  \n",
    "\n",
    "\n",
    "mean([100,101])"
   ]
  },
  {
   "cell_type": "code",
   "execution_count": 43,
   "id": "b582a8bf",
   "metadata": {},
   "outputs": [
    {
     "name": "stdout",
     "output_type": "stream",
     "text": [
      "All tests passed. Good job y'all!\n"
     ]
    }
   ],
   "source": [
    "# TEST CODE (run this code to test you solution)\n",
    "\n",
    "def random_list(n=10, min=0.0, max=100.0):\n",
    "    \"\"\"Returns a list of length `n` of random floats between `min` and `max`.\"\"\"\n",
    "    import random\n",
    "    values = []\n",
    "    for i in range(n):\n",
    "        r = random.random()\n",
    "        value = min + r*(max-min)\n",
    "        values.append(value)\n",
    "    return values\n",
    "\n",
    "\n",
    "def test_compute_mean(function):\n",
    "    \"\"\"\n",
    "    Run a few lists to check if value returned by `function` matches expected.\n",
    "    \"\"\"\n",
    "    import math, statistics\n",
    "    assert function([1,1,1]) == 1\n",
    "    assert function([61,72,85,92]) == 77.5\n",
    "    list10 = random_list(n=10)\n",
    "    assert math.isclose(function(list10), statistics.mean(list10))\n",
    "    list100 = random_list(n=100)\n",
    "    assert math.isclose(function(list100), statistics.mean(list100))\n",
    "    print(\"All tests passed. Good job y'all!\")\n",
    "\n",
    "\n",
    "# RUN TESTS\n",
    "test_compute_mean(compute_mean)"
   ]
  },
  {
   "cell_type": "code",
   "execution_count": 44,
   "id": "c545155f",
   "metadata": {},
   "outputs": [
    {
     "data": {
      "text/plain": [
       "False"
      ]
     },
     "execution_count": 44,
     "metadata": {},
     "output_type": "execute_result"
    }
   ],
   "source": [
    "(1 + 1e-15)  ==  1 "
   ]
  },
  {
   "cell_type": "code",
   "execution_count": 45,
   "id": "41655d45",
   "metadata": {},
   "outputs": [
    {
     "data": {
      "text/plain": [
       "True"
      ]
     },
     "execution_count": 45,
     "metadata": {},
     "output_type": "execute_result"
    }
   ],
   "source": [
    "import math\n",
    "math.isclose(1 + 1e-10, 1)"
   ]
  },
  {
   "cell_type": "code",
   "execution_count": null,
   "id": "898cdb91",
   "metadata": {},
   "outputs": [],
   "source": []
  },
  {
   "cell_type": "markdown",
   "id": "0d27fa2b",
   "metadata": {},
   "source": [
    "#### Question 2: Sample standard deviation\n",
    "\n",
    "The formula for the sample standard seviation of a list of numbers is:\n",
    "$$\n",
    "    \\text{std}(\\textbf{x}) = s\n",
    "    = \\sqrt{ \\tfrac{1}{n-1}\\sum_{i=1}^n (x_i-\\overline{x})^2 }\n",
    "    = \\sqrt{ \\tfrac{1}{n-1}\\left[ (x_1-\\overline{x})^2 + (x_2-\\overline{x})^2 + \\cdots + (x_n-\\overline{x})^2\\right]}.\n",
    "$$\n",
    "\n",
    "Note the division is by $(n-1)$ and not $n$. Strange, no? You'll have to wait until stats to see why this is the case.\n",
    "\n",
    "Write `compute_std(numbers)`: computes the sample standard deviation"
   ]
  },
  {
   "cell_type": "code",
   "execution_count": 93,
   "id": "d9a96ad2",
   "metadata": {},
   "outputs": [
    {
     "data": {
      "text/plain": [
       "29.011491975882016"
      ]
     },
     "execution_count": 93,
     "metadata": {},
     "output_type": "execute_result"
    }
   ],
   "source": [
    "import math\n",
    "\n",
    "def std(numbers):\n",
    "    \"\"\"\n",
    "    Computes the sample standard deviation (square root of the sample variance)\n",
    "    using a for loop.\n",
    "    \"\"\"\n",
    "    mean = compute_mean(numbers) \n",
    "    total = 0\n",
    "    for number in numbers:\n",
    "        total = total + (number-mean)**2\n",
    "    var = total/(len(numbers)-1)    \n",
    "    return math.sqrt(var)\n",
    "\n",
    "numbers = list(range(0,100))\n",
    "std(numbers)"
   ]
  },
  {
   "cell_type": "code",
   "execution_count": 94,
   "id": "f3dedc7e",
   "metadata": {},
   "outputs": [
    {
     "data": {
      "text/plain": [
       "29.011491975882016"
      ]
     },
     "execution_count": 94,
     "metadata": {},
     "output_type": "execute_result"
    }
   ],
   "source": [
    "# compare to known good function...\n",
    "import statistics\n",
    "statistics.stdev(numbers)"
   ]
  },
  {
   "cell_type": "code",
   "execution_count": 95,
   "id": "85d86f5d",
   "metadata": {},
   "outputs": [
    {
     "name": "stdout",
     "output_type": "stream",
     "text": [
      "All tests passed. Good job y'all!\n"
     ]
    }
   ],
   "source": [
    "# TEST CODE (run this code to test you solution)\n",
    "\n",
    "def test_std(function):\n",
    "    \"\"\"\n",
    "    Run a few lists to check if value returned by `function` matches expected.\n",
    "    \"\"\"\n",
    "    import math, statistics\n",
    "    assert function([1,1,1]) == 0\n",
    "    assert math.isclose(function([61,72,85,92]), 13.771952173409064)\n",
    "    list10 = random_list(n=10)\n",
    "    assert math.isclose(function(list10), statistics.stdev(list10))\n",
    "    list100 = random_list(n=100)\n",
    "    assert math.isclose(function(list100), statistics.stdev(list100))\n",
    "    print(\"All tests passed. Good job y'all!\")\n",
    "\n",
    "\n",
    "# RUN TESTS\n",
    "test_std(std)"
   ]
  },
  {
   "cell_type": "code",
   "execution_count": null,
   "id": "45e1a6c2",
   "metadata": {},
   "outputs": [],
   "source": []
  },
  {
   "cell_type": "markdown",
   "id": "f5838ff3-473a-4725-b840-d78b41b109e6",
   "metadata": {},
   "source": [
    "### If statements"
   ]
  },
  {
   "cell_type": "code",
   "execution_count": 62,
   "id": "aff62239-c311-4639-bcbb-3a67d617318a",
   "metadata": {},
   "outputs": [
    {
     "name": "stdout",
     "output_type": "stream",
     "text": [
      "This code will run\n",
      "This code will run too\n"
     ]
    }
   ],
   "source": [
    "if True:\n",
    "    print(\"This code will run\")\n",
    "    print(\"This code will run too\")\n",
    "    \n",
    "if False:\n",
    "    print(\"This code will not run\")"
   ]
  },
  {
   "cell_type": "markdown",
   "id": "7eb5cf54-c6bc-40a5-b250-95fb68df51b1",
   "metadata": {},
   "source": [
    "Can construct boolean values like `True` and `False` using various expressions that involve comparison,\n",
    "`==` equal to, `>` greater than, `<` less than, etc."
   ]
  },
  {
   "cell_type": "code",
   "execution_count": 63,
   "id": "8e09d077-d3f8-465f-92e2-f9b790a0e637",
   "metadata": {},
   "outputs": [
    {
     "data": {
      "text/plain": [
       "True"
      ]
     },
     "execution_count": 63,
     "metadata": {},
     "output_type": "execute_result"
    }
   ],
   "source": [
    "x = 3\n",
    "\n",
    "x > 2"
   ]
  },
  {
   "cell_type": "code",
   "execution_count": 64,
   "id": "bb67abe5-01e6-413b-9f24-863e7270cca3",
   "metadata": {},
   "outputs": [
    {
     "name": "stdout",
     "output_type": "stream",
     "text": [
      "x is greater than 2\n"
     ]
    }
   ],
   "source": [
    "if x > 2:\n",
    "    print(\"x is greater than 2\")\n",
    "else:\n",
    "    print(\"x is less than or equal to 2\")"
   ]
  },
  {
   "cell_type": "markdown",
   "id": "f4ea209b-bee0-4770-a2d8-239baf5699c5",
   "metadata": {},
   "source": [
    "We can do multiple checks using `elif` statements."
   ]
  },
  {
   "cell_type": "code",
   "execution_count": 65,
   "id": "b0cb5ac6-acdc-4af4-b953-c2c5f072d53f",
   "metadata": {},
   "outputs": [
    {
     "name": "stdout",
     "output_type": "stream",
     "text": [
      "Liquid\n"
     ]
    }
   ],
   "source": [
    "temp = 20\n",
    "\n",
    "if temp >= 100:\n",
    "    print(\"Gas\")\n",
    "elif 0 < temp and temp < 100:\n",
    "    print(\"Liquid\")\n",
    "else:\n",
    "    print(\"Solid\")"
   ]
  },
  {
   "cell_type": "markdown",
   "id": "d50a2e46",
   "metadata": {},
   "source": [
    "### Things to discuss"
   ]
  },
  {
   "cell_type": "code",
   "execution_count": 66,
   "id": "425b6e31",
   "metadata": {},
   "outputs": [
    {
     "data": {
      "text/plain": [
       "False"
      ]
     },
     "execution_count": 66,
     "metadata": {},
     "output_type": "execute_result"
    }
   ],
   "source": [
    "## 1. imports\n",
    "from math import acos\n",
    "acos(1)\n",
    "# vs\n",
    "import math\n",
    "math.acos(1)\n",
    "\n",
    "\n",
    "\n",
    "## 2. list membership\n",
    "v = [3,2]\n",
    "len(v) == range(2,10)\n",
    "\n",
    "\n",
    "\n",
    "## 3. joint-iteration over two lists using zip\n",
    "\n",
    "\n",
    "## 4. float(cross) error\n",
    "\n",
    "\n",
    "## 5. syntax for defining vs. calling functions\n",
    "\n"
   ]
  },
  {
   "cell_type": "code",
   "execution_count": null,
   "id": "01d3983f",
   "metadata": {},
   "outputs": [],
   "source": []
  },
  {
   "cell_type": "code",
   "execution_count": null,
   "id": "d7f84509",
   "metadata": {},
   "outputs": [],
   "source": []
  },
  {
   "cell_type": "markdown",
   "id": "cbc8d3ad",
   "metadata": {},
   "source": [
    "# Functions\n",
    "\n",
    "Functions are one of the most important concepts in math and programming.\n",
    "\n",
    "\n",
    "    y = f(x)  # common convention in math to call function inputs x, and outputs y\n",
    "\n",
    "We can also draw as `x -----f----> y` the function is a map from input values x to an output value y\n",
    "\n",
    "\n",
    "    def f(x):\n",
    "        <steps to compute y from x>\n",
    "        return y\n",
    "\n",
    "\n",
    "Functions!! Finally we get to the good stuff! The previous two sessions were important\n",
    "foundations, but now we get to unlocking the first superpower — modelling.\n",
    "Once you know the basic properties of 10 or so functions,\n",
    "you can build precise mathematical models for any real-world system.\n",
    "\n",
    "\n",
    "Functions are all over the place:\n",
    "- In high school math (the green book) we learn the basic vocabulary of y=f(x) functions\n",
    "  and their parameters, which allows us to describe any real world process\n",
    "- In calculus we analyze functions f(x) behaviour over time\n",
    "  (integral of f = sum of values of f(x) between x=start and x=finish;\n",
    "  and derivative of f at a = the slope of the graph of f(x) when x=a)\n",
    "- In linear algebra we study linear transformations, which are functions\n",
    "  that satisfy f(ax+by)=af(x)+bf(y), meaning a linear combination of inputs\n",
    "  produces the same linear combination of outputs.\n",
    "- In probability theory we use functions to describe the probability density of\n",
    "  a random variables. For example X = Normal(mu, sigma^2) is a random variable\n",
    "  whose density is described by the function p(x) = K*exp(-((x-mu)/sigma)^2/2)\n",
    "  in stats we talk about functions computed from samples (estimators)\n",
    "- In ML we learn about probabilistic models and use them to predict y from given input x"
   ]
  },
  {
   "cell_type": "markdown",
   "id": "dbb38e81",
   "metadata": {},
   "source": [
    "## Python functions\n",
    "\n",
    "Functions in Python are similar to functions in math: a transformation that takes certain inputs and produces certain outputs. The math functions you're familiar with take numbers as inputs and produce numebrs as outputs, but a Python function can take on any type of input and produce any type of output.\n",
    "\n",
    "Functions allow us to build chunks of reusable code that we can later reuse in other programs.\n",
    "\n",
    "We declare a function with the keyword `def`.\n",
    "\n",
    "```python\n",
    "def function_name(function inputs):\n",
    "    \"\"\"\n",
    "    doc string that describes what the function does (optional)\n",
    "    \"\"\"\n",
    "    <function body line 1>\n",
    "    <function body line 2>\n",
    "    <function body line ...>\n",
    "    <function body line n-1>\n",
    "    return <function output value>\n",
    "```\n",
    "\n",
    "We enter the name of the function, then define the functions arguments inside parentheses—the names of the variables that the function receives as inputs. Then the function body is written as an indented block of code (all lines start with four spaces indentation). The output of the function is specified using the `return` keyword. The return statement is usually the last line in the function body.\n",
    "\n",
    "Certain functions do not return a value (we call these _procedures_) and they consist of sequences of commands we want to execute, that don't have any outputs. FunctIons can also be attached to objects, in which case they are called _methods_. We'll talk about these layer on, for now let's focus on simple math-like functions that receive some input and produce output:\n",
    "\n",
    "#### Example 1\n",
    "\n",
    "A first example of a simple math-like function. The function is called `f`,\n",
    "takes numbers as inputs, and produces numbers as outputs:"
   ]
  },
  {
   "cell_type": "code",
   "execution_count": 67,
   "id": "6d4e3530",
   "metadata": {},
   "outputs": [
    {
     "data": {
      "text/plain": [
       "23"
      ]
     },
     "execution_count": 67,
     "metadata": {},
     "output_type": "execute_result"
    }
   ],
   "source": [
    "def f(x):\n",
    "    return 2*x + 3\n",
    "\n",
    "f(10)"
   ]
  },
  {
   "cell_type": "code",
   "execution_count": null,
   "id": "680f7ed9",
   "metadata": {},
   "outputs": [],
   "source": []
  },
  {
   "cell_type": "markdown",
   "id": "e5a345e3",
   "metadata": {},
   "source": [
    "#### Example 2"
   ]
  },
  {
   "cell_type": "code",
   "execution_count": 68,
   "id": "839dcba9",
   "metadata": {},
   "outputs": [
    {
     "name": "stdout",
     "output_type": "stream",
     "text": [
      "tails\n"
     ]
    }
   ],
   "source": [
    "# Example from Session 1\n",
    "import random\n",
    "\n",
    "def flip_coin():\n",
    "    r = random.random()\n",
    "    if r < 0.5:\n",
    "        print(\"heads\")\n",
    "    else:\n",
    "        print(\"tails\")\n",
    "\n",
    "flip_coin()  # no return value, but prints output"
   ]
  },
  {
   "cell_type": "markdown",
   "id": "6281a40b",
   "metadata": {},
   "source": [
    "#### Example 3\n",
    "\n",
    "Write a function `water_phase(temp)` that takes input temperature `temp` in Celcius,\n",
    "uses if/else statements to find what state water is in (assume pressure is 1atm).\n",
    "The function returns a string, which is one of \"Solid\", \"Liquid\", \"Gas\"."
   ]
  },
  {
   "cell_type": "code",
   "execution_count": 69,
   "id": "7c52924f",
   "metadata": {},
   "outputs": [],
   "source": [
    "def water_phase(temp):\n",
    "    \"\"\"\n",
    "    Returns phase of water at `temp`.\n",
    "    Input temp is temperature in Celcius (int or float)\n",
    "    temp must be greater than −273.15.\n",
    "    \"\"\"\n",
    "    if temp > 0 and temp < 100:\n",
    "        return 'Liquid'\n",
    "    elif temp <= 0:\n",
    "        return 'Solid'\n",
    "    elif temp >= 100:\n",
    "        return 'Gas'"
   ]
  },
  {
   "cell_type": "code",
   "execution_count": 70,
   "id": "4eee1a52",
   "metadata": {},
   "outputs": [
    {
     "data": {
      "text/plain": [
       "\u001b[0;31mSignature:\u001b[0m \u001b[0mwater_phase\u001b[0m\u001b[0;34m(\u001b[0m\u001b[0mtemp\u001b[0m\u001b[0;34m)\u001b[0m\u001b[0;34m\u001b[0m\u001b[0;34m\u001b[0m\u001b[0m\n",
       "\u001b[0;31mDocstring:\u001b[0m\n",
       "Returns phase of water at `temp`.\n",
       "Input temp is temperature in Celcius (int or float)\n",
       "temp must be greater than −273.15.\n",
       "\u001b[0;31mFile:\u001b[0m      /var/folders/wc/2r44j8gs4gn56t1xtw5f6wlm0000gn/T/ipykernel_73602/1578336333.py\n",
       "\u001b[0;31mType:\u001b[0m      function\n"
      ]
     },
     "metadata": {},
     "output_type": "display_data"
    }
   ],
   "source": [
    "# help(water_phase)\n",
    "water_phase?"
   ]
  },
  {
   "cell_type": "code",
   "execution_count": 71,
   "id": "8340bb31",
   "metadata": {},
   "outputs": [
    {
     "name": "stdout",
     "output_type": "stream",
     "text": [
      "True\n",
      "True\n",
      "True\n",
      "True\n"
     ]
    }
   ],
   "source": [
    "## tests to try: correct implementation of `water_phase` should return all True\n",
    "print( water_phase(20.0) == \"Liquid\" )\n",
    "print( water_phase(-20.0) == \"Solid\" )\n",
    "print( water_phase(200.0) == \"Gas\" )\n",
    "print( water_phase(0.0) in [\"Liquid\", \"Solid\"] )"
   ]
  },
  {
   "cell_type": "code",
   "execution_count": 72,
   "id": "120a86a9",
   "metadata": {},
   "outputs": [
    {
     "name": "stdout",
     "output_type": "stream",
     "text": [
      "Completed a total of 5100 checks...\n"
     ]
    },
    {
     "data": {
      "text/plain": [
       "True"
      ]
     },
     "execution_count": 72,
     "metadata": {},
     "output_type": "execute_result"
    }
   ],
   "source": [
    "## range tests\n",
    "results = []\n",
    "\n",
    "for temp in range(1, 100):\n",
    "    result = (water_phase(temp) == 'Liquid')\n",
    "    results.append(result)\n",
    "\n",
    "# temp <= 0\n",
    "for temp in range(-100, 1):\n",
    "    result = (water_phase(temp) == 'Solid')\n",
    "    results.append(result)\n",
    "\n",
    "# temp >= 100\n",
    "for temp in range(100, 5000):\n",
    "    result = (water_phase(temp) == 'Gas')\n",
    "    results.append(result)\n",
    "\n",
    "print('Completed a total of', len(results), 'checks...')\n",
    "all(results)  # True if all results are True"
   ]
  },
  {
   "cell_type": "code",
   "execution_count": 73,
   "id": "7c02226b",
   "metadata": {},
   "outputs": [
    {
     "data": {
      "text/plain": [
       "False"
      ]
     },
     "execution_count": 73,
     "metadata": {},
     "output_type": "execute_result"
    }
   ],
   "source": [
    "# any = OR for a list\n",
    "# all = AND for a list\n",
    "all([True, True, False])"
   ]
  },
  {
   "cell_type": "code",
   "execution_count": null,
   "id": "42d6774a",
   "metadata": {},
   "outputs": [],
   "source": []
  },
  {
   "cell_type": "markdown",
   "id": "b86d8ef3",
   "metadata": {},
   "source": [
    "#### Exercise 2\n",
    "\n",
    "Write a Python function called `temp_convert` that converts C to F"
   ]
  },
  {
   "cell_type": "code",
   "execution_count": 74,
   "id": "78964c7e",
   "metadata": {},
   "outputs": [],
   "source": [
    "import math\n",
    "def temp_convert(temp_C):\n",
    "    \"\"\"\n",
    "    Convert the temprate temp_C to temp_F.\n",
    "    \"\"\"\n",
    "    pass\n",
    "\n"
   ]
  },
  {
   "cell_type": "markdown",
   "id": "add18ef9",
   "metadata": {},
   "source": []
  },
  {
   "cell_type": "markdown",
   "id": "b71992fd-c675-4da5-8ba5-12853290d10c",
   "metadata": {},
   "source": [
    "### Exercise 4"
   ]
  },
  {
   "cell_type": "code",
   "execution_count": 86,
   "id": "1a0aeed1",
   "metadata": {},
   "outputs": [],
   "source": [
    "import random\n",
    "def roll_die():\n",
    "    value = random.randint(1, 6)\n",
    "    return value"
   ]
  },
  {
   "cell_type": "code",
   "execution_count": 87,
   "id": "d76eaa2a",
   "metadata": {},
   "outputs": [
    {
     "data": {
      "text/plain": [
       "3"
      ]
     },
     "execution_count": 87,
     "metadata": {},
     "output_type": "execute_result"
    }
   ],
   "source": [
    "roll_die()"
   ]
  },
  {
   "cell_type": "code",
   "execution_count": 83,
   "id": "05c4361a",
   "metadata": {},
   "outputs": [],
   "source": [
    "for n in range(0,10000):\n",
    "    if roll_die() not in [1,2,3,4,5,6]:\n",
    "        print(\"error\")"
   ]
  }
 ],
 "metadata": {
  "kernelspec": {
   "display_name": "Python 3 (ipykernel)",
   "language": "python",
   "name": "python3"
  },
  "language_info": {
   "codemirror_mode": {
    "name": "ipython",
    "version": 3
   },
   "file_extension": ".py",
   "mimetype": "text/x-python",
   "name": "python",
   "nbconvert_exporter": "python",
   "pygments_lexer": "ipython3",
   "version": "3.9.4"
  },
  "toc-showmarkdowntxt": false
 },
 "nbformat": 4,
 "nbformat_minor": 5
}
