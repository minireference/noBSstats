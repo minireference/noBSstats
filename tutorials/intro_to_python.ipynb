{
 "cells": [
  {
   "cell_type": "markdown",
   "id": "690596c9",
   "metadata": {},
   "source": [
    "# Appendix C — Introduction to Python\n",
    "\n",
    "Learn the basics of Python. Just enough to be dangerous with numbers and for loops.\n",
    "Nothing fancy. We'll be mostly using Python as a basic calculator for math expressions,\n",
    "and \"boring\" calculations that require repeating the same action many times (for loops).\n",
    "\n",
    "So if you know how to use a calculator, then you know how to use Python too.\n",
    "\n",
    "If you remember some basic math concepts like variables, expressions, and functions,\n",
    "then you already know most of all there is to know!\n",
    "\n",
    "TOC:\n",
    "- [Variables and expressions](./variables_and_expressions)\n",
    "- [Functions](./functions)\n",
    "- [For loops](./for_loops_and_vectors)\n",
    "\n",
    "Upcoming:\n",
    "- Objects and Classes: classes, example: custom interval class\n",
    "- Command line interface: similar to how in computing user interfaces click (or\n",
    "  double click) means \"run <program>\", a command line interface allows us to\n",
    "  run programs by simply typing out their name, as in    program    and pressing\n",
    "  Enter. This is where the notion of \"calling a program/function\" comes from, you\n",
    "  just write it's name in a command line prompt and this is equivalent to\n",
    "  \"calling it\" (making it run, just click clicking on it)\n",
    "- Command line scripts: run any python code on command line using  python\n",
    "  myscript.py (or if configured as an executable script, simply ./myscript.py)\n",
    "- Numerical computing: numpy\n",
    "- Scientific computing: scipy\n",
    "- Documentation: READMEs, __doc__ strings, and other technical altruism basics\n",
    "- Debugging (intro to JupyterLab debugger)\n",
    "- Code Testing (e.g. test_fun: a function that checks that `fun` returns the expected outputs on some set of inputs)\n",
    "- Algorithms: different approaches for solving computational problem\n",
    "\n",
    "\n",
    "\n",
    "# Variables and expressions\n",
    "\n",
    "This notebook contains some exercises to get you familiar with basic Python programming notions.\n",
    "\n",
    "\n",
    "## Programming 101\n",
    "\n",
    "Programming consists of writing down instructions for a computer. The instuctions are also called \"commands\", \"code\", \"source code\", etc. Since this tutorial is about Python, all the instructions in the boxes you'll see below are written in the Python programming language. \n",
    "\n",
    "You can \"run\" the code in a given box by pressing the play button on the left side, or by pressing _Shift_ and _Enter_ keys at the same time. When you run a code cell, you're telling the computer to \"execute\" the Python instructions in that cell, which means to do the actions described in the code, and print the final value computed in that cell.\n",
    "\n",
    "Running a code cell is similar to using the EQUALS button on the calculator: whatever math expression you entered, the calculator will compute its value and display it as the output. The process is identical when you execute some Python code, but you're allowed to input multiple lines of commands at once. The computer will execute the lines of code one by one in the order it sees them.\n",
    "\n",
    "The result of final calculations in the cell gets automatically printed in the output cell right below the input cell. This feature allows you to skip the print statments, since the last output gets printed automatically for you. This makes it easy and fun to explore and \"poke around\" each example given in this notebook. Click the `[+ Code]` button below any cell to add a blank cell where you can try inputting some expressions and running them by pressing _Shift_ and _Enter_.\n",
    "\n",
    "\n",
    "\n",
    "### Errors\n",
    "Sometimes the executed commands will cause an error, and in these cases Python will give an error message describing the problem encountered. Get psychologically ready for those, because they can be very discouraging. REJECTED! The computer doesn't like what you entered. SyntaxError, ValueError, etc. The error messages look scary, but really they are there to help you—if you read what the error message tells you, you will know what needs to be fixed in your input. The error message literally describes the problem!"
   ]
  },
  {
   "cell_type": "code",
   "execution_count": 1,
   "id": "05261769",
   "metadata": {},
   "outputs": [
    {
     "name": "stdout",
     "output_type": "stream",
     "text": [
      "3\n"
     ]
    }
   ],
   "source": [
    "x = 3\n",
    "print(x)"
   ]
  },
  {
   "cell_type": "markdown",
   "id": "36cdb810",
   "metadata": {},
   "source": [
    "No problem with this cell (it just sets the variable `x` to the value `3`, then prints the value of x to the screen)."
   ]
  },
  {
   "cell_type": "code",
   "execution_count": 2,
   "id": "99b808a8",
   "metadata": {
    "tags": [
     "raises-exception"
    ]
   },
   "outputs": [
    {
     "ename": "ZeroDivisionError",
     "evalue": "division by zero",
     "output_type": "error",
     "traceback": [
      "\u001b[0;31m---------------------------------------------------------------------------\u001b[0m",
      "\u001b[0;31mZeroDivisionError\u001b[0m                         Traceback (most recent call last)",
      "\u001b[0;32m/var/folders/wc/2r44j8gs4gn56t1xtw5f6wlm0000gn/T/ipykernel_6302/3150626867.py\u001b[0m in \u001b[0;36m<module>\u001b[0;34m\u001b[0m\n\u001b[0;32m----> 1\u001b[0;31m \u001b[0;36m3\u001b[0m\u001b[0;34m/\u001b[0m\u001b[0;36m0\u001b[0m\u001b[0;34m\u001b[0m\u001b[0;34m\u001b[0m\u001b[0m\n\u001b[0m",
      "\u001b[0;31mZeroDivisionError\u001b[0m: division by zero"
     ]
    }
   ],
   "source": [
    "3/0"
   ]
  },
  {
   "cell_type": "markdown",
   "id": "9718679d",
   "metadata": {},
   "source": [
    "Here we get an error since we're trying to compute an expression that contains a divide by zero error: Python tell us a `ZeroDivisionError: division by zero` has occurred, i.e., check your math expressions!\n",
    "\n",
    "\n",
    "## Variables\n",
    "\n",
    "Similar to variables in math, a variable in Python is a convenient name we use to refer to any value: a onstant `c`, the input to a funciton `x`, the output of a function `y`, or any other intermediate value.\n",
    "\n",
    "\n",
    "### Variables types\n",
    "\n",
    "Similar to the notion of number sets in math $\\mathbb{Z}$, $\\mathbb{R}$ etc., computers variables also come in different types:\n",
    "\n",
    "- **int** - integers ex: `34`,`65`, `78`, `-4`, etc. (rougly equivalent to $\\mathbb{Z}$)\n",
    "- **float** - ex: `4.6`,`78.5`, `1e-3` (full name is \"floating point number\"; similar to $\\mathbb{R}$ but only with finite precision)\n",
    "- **bool** a Boolean truth value with only two choices: `True` or `False`.\n",
    "- **string** - text ex: `'Hello'`, `'Hello everyone'`\n",
    "- **list** a sequence of values ​​- ex: `[69, 81, 92, 77]`. The beginning and the end of the list are denoted by the brackets `[` and `]`, and its elements are separated by commas.\n",
    "- **dictionary** a collection of key-value pairs. Each key is associated with a value - ex: `{'first_name': 'Julie', 'last_name': 'Tremblay', 'score': 98}`. Dictionaries are denoted by curly braces `{` and `}` inside which we place `'key': value`, pairs separated by commas.\n",
    "- **tuples**, **sets**, **functions**, etc. = there are seveal other interesting and useful Python building blocks, which we'll talk about in the next episode.\n",
    "\n",
    "To assign a value to a variable, you use the symbol `=` as follows, from left to right:\n",
    "\n",
    "* we start by writing the name of the variable\n",
    "* then, we add the symbol `=`\n",
    "* finally, we write the value of the variable\n",
    "\n",
    "For example, here is how we define six variables: an integer, a decimal number, a Boolean value, a string, a list, and a dictionary:"
   ]
  },
  {
   "cell_type": "code",
   "execution_count": 3,
   "id": "cf6eba8f",
   "metadata": {},
   "outputs": [],
   "source": [
    "score = 98\n",
    "average = 77.5\n",
    "above_the_average = True\n",
    "message = 'Bonjour tout le monde'\n",
    "scores = [61, 85, 92, 72]\n",
    "profile = {'first_name':'Julie', 'last_name':'Tremblay', 'score':98}"
   ]
  },
  {
   "cell_type": "code",
   "execution_count": 4,
   "id": "30d4bbf0",
   "metadata": {},
   "outputs": [
    {
     "data": {
      "text/plain": [
       "4"
      ]
     },
     "execution_count": 4,
     "metadata": {},
     "output_type": "execute_result"
    }
   ],
   "source": [
    "len(scores)"
   ]
  },
  {
   "cell_type": "code",
   "execution_count": 5,
   "id": "4af131ca",
   "metadata": {},
   "outputs": [
    {
     "data": {
      "text/plain": [
       "'Bonjour Tout Le Monde'"
      ]
     },
     "execution_count": 5,
     "metadata": {},
     "output_type": "execute_result"
    }
   ],
   "source": [
    "# title-case = capitaliz the first letter of every word\n",
    "message.title()"
   ]
  },
  {
   "cell_type": "code",
   "execution_count": 6,
   "id": "2556be7f",
   "metadata": {},
   "outputs": [
    {
     "data": {
      "text/plain": [
       "3"
      ]
     },
     "execution_count": 6,
     "metadata": {},
     "output_type": "execute_result"
    }
   ],
   "source": [
    "len(profile)"
   ]
  },
  {
   "cell_type": "code",
   "execution_count": 7,
   "id": "141f1ec9",
   "metadata": {},
   "outputs": [
    {
     "data": {
      "text/plain": [
       "2"
      ]
     },
     "execution_count": 7,
     "metadata": {},
     "output_type": "execute_result"
    }
   ],
   "source": [
    "other_scores = [77.5, 7.75e1]\n",
    "len(other_scores)"
   ]
  },
  {
   "cell_type": "code",
   "execution_count": 8,
   "id": "e750072e",
   "metadata": {},
   "outputs": [
    {
     "data": {
      "text/plain": [
       "21"
      ]
     },
     "execution_count": 8,
     "metadata": {},
     "output_type": "execute_result"
    }
   ],
   "source": [
    "len(message)"
   ]
  },
  {
   "cell_type": "code",
   "execution_count": 9,
   "id": "dce0db46",
   "metadata": {},
   "outputs": [
    {
     "data": {
      "text/plain": [
       "['Bonjour', 'tout', 'le', 'monde']"
      ]
     },
     "execution_count": 9,
     "metadata": {},
     "output_type": "execute_result"
    }
   ],
   "source": [
    "message.split()"
   ]
  },
  {
   "cell_type": "markdown",
   "id": "c3ab37f0",
   "metadata": {},
   "source": [
    "You can explore the different methods available on any python object `int`, `float`, `str`, etc.  by starting to type the dot `.` after the name, e.g., `message.` then pressing the TAB button to get an \"autocomplete\" dropdown of all the methods available on the variable `message`. Most of these methods are common to all strings in Python.\n",
    "\n",
    "\n",
    "## Expressions\n",
    "\n",
    "Similar to expresisons in algebra, a Python expression is can be any combination of variables and operations:"
   ]
  },
  {
   "cell_type": "code",
   "execution_count": 10,
   "id": "4b0b2a40",
   "metadata": {},
   "outputs": [
    {
     "name": "stdout",
     "output_type": "stream",
     "text": [
      "The number of seconds in a week is 604800\n",
      "Hello Julie\n",
      "The average score is 77.5\n",
      "Hello Julie Tremblay, your score is 98%.\n"
     ]
    }
   ],
   "source": [
    "# Expression involving numerical values\n",
    "sec_in_min = 60 \n",
    "sec_in_day = sec_in_min * 60 * 24\n",
    "sec_in_week = sec_in_day * 7\n",
    "print('The number of seconds in a week is', sec_in_week)\n",
    "\n",
    "\n",
    "# Expression involving strings\n",
    "name = 'Julie'\n",
    "message = 'Hello ' + name    # for strings, + means concatenate\n",
    "print(message)\n",
    "\n",
    "# Expression involving a list\n",
    "scores = [61, 85, 92, 72]\n",
    "average = sum(scores)/len(scores)\n",
    "#        `sum` computes the sum of values in the list\n",
    "#                and `len` gives you the length of the list\n",
    "print('The average score is', average)\n",
    "\n",
    "\n",
    "# Expression involving using the values of a dictionary\n",
    "profile = {\n",
    "    'first_name':'Julie',\n",
    "    'last_name':'Tremblay',\n",
    "    'score':98\n",
    "}\n",
    "message2 = 'Hello ' + profile['first_name'] + ' ' + profile['last_name'] + \\\n",
    "           ', your score is ' + str(profile['score']) + '%.'\n",
    "print(message2)"
   ]
  },
  {
   "cell_type": "code",
   "execution_count": 11,
   "id": "eeb130b2",
   "metadata": {},
   "outputs": [
    {
     "data": {
      "text/plain": [
       "'Tremblay'"
      ]
     },
     "execution_count": 11,
     "metadata": {},
     "output_type": "execute_result"
    }
   ],
   "source": [
    "profile['last_name'] "
   ]
  },
  {
   "cell_type": "markdown",
   "id": "c1ec63bc",
   "metadata": {},
   "source": [
    "Note in all the above examples, the code had the form:\n",
    "\n",
    "```Python\n",
    "var_name = <some expression>\n",
    "```\n",
    "which is the important new pattern you have to get used to in programming. Even though this looks like a math equation, the meaning you have to associate with it is much simpler—we are setting variable `var_name` to the value of the expression `<some expression>`.\n",
    "\n",
    "Don't worry about the lists and dictionary examples—I know they are complicated and we haven't explained all the syntax. We'll get to that in just a little bit. First let's practice computing some Python expresions."
   ]
  },
  {
   "cell_type": "code",
   "execution_count": 12,
   "id": "a5e056ed",
   "metadata": {},
   "outputs": [
    {
     "name": "stdout",
     "output_type": "stream",
     "text": [
      "3.4\n",
      "-2\n",
      "1.5\n"
     ]
    }
   ],
   "source": [
    "# Numeric expressions\n",
    "\n",
    "expr1 = 1 + 2.4\n",
    "print(expr1)  # 3.4\n",
    "\n",
    "expr2 = 4 - 6\n",
    "print(expr2)  # -2\n",
    "\n",
    "expr3 = 0.5 * 3\n",
    "print(expr3)  # 1.5\n",
    "\n",
    "# expr4 = 5 / 0 \n",
    "# print(expr4)  "
   ]
  },
  {
   "cell_type": "code",
   "execution_count": 13,
   "id": "d10b2096",
   "metadata": {
    "tags": [
     "raises-exception"
    ]
   },
   "outputs": [
    {
     "ename": "ZeroDivisionError",
     "evalue": "division by zero",
     "output_type": "error",
     "traceback": [
      "\u001b[0;31m---------------------------------------------------------------------------\u001b[0m",
      "\u001b[0;31mZeroDivisionError\u001b[0m                         Traceback (most recent call last)",
      "\u001b[0;32m/var/folders/wc/2r44j8gs4gn56t1xtw5f6wlm0000gn/T/ipykernel_6302/3471984828.py\u001b[0m in \u001b[0;36m<module>\u001b[0;34m\u001b[0m\n\u001b[0;32m----> 1\u001b[0;31m \u001b[0mexpr4\u001b[0m\u001b[0;34m=\u001b[0m\u001b[0;36m5\u001b[0m\u001b[0;34m/\u001b[0m\u001b[0;36m0\u001b[0m\u001b[0;34m\u001b[0m\u001b[0;34m\u001b[0m\u001b[0m\n\u001b[0m",
      "\u001b[0;31mZeroDivisionError\u001b[0m: division by zero"
     ]
    }
   ],
   "source": [
    "expr4=5/0"
   ]
  },
  {
   "cell_type": "markdown",
   "id": "3037b7cf",
   "metadata": {},
   "source": [
    "### Integration problem\n",
    "\n",
    "\n",
    "What is the pH of a solution with hydrogen ion activity, aH+ = 1×10−7\n",
    "(the number of moles of hydrogen ions per litre of solution).\n",
    "See [pH definition](https://en.wikipedia.org/wiki/PH#Definition_and_measurement) on Wikipedia.\n",
    "\n",
    "\n",
    "#### Part 1\n",
    "\n",
    "Write a Python expression that computes the pH given variable aH\n",
    "\n",
    "   pH = some expression involving the variable aH\n",
    "\n",
    "Compute the pH value for:\n",
    "- (1) aH=3.388e-08\n",
    "- (2) aH=1×10−7\n",
    "- (3) aH=7.244359600749906e-07"
   ]
  },
  {
   "cell_type": "code",
   "execution_count": 14,
   "id": "03ebfd3c",
   "metadata": {},
   "outputs": [
    {
     "name": "stdout",
     "output_type": "stream",
     "text": [
      "The pH value is 7.0\n"
     ]
    }
   ],
   "source": [
    "import math\n",
    "aH = 1e-7\n",
    "pH = -1*math.log(aH,10)\n",
    "print('The pH value is', pH)"
   ]
  },
  {
   "cell_type": "markdown",
   "id": "63820fbd",
   "metadata": {},
   "source": [
    "Test: if aH=1×10−7, the value of pH computed should be 7.0.\n",
    "\n",
    "\n",
    "#### Part 2\n",
    "What is the hydrogen ion activity, aH+, in liquid for a given pH:\n",
    "\n",
    "   aH =  some expression involving the variable pH"
   ]
  },
  {
   "cell_type": "code",
   "execution_count": 15,
   "id": "0889c3fc",
   "metadata": {},
   "outputs": [
    {
     "name": "stdout",
     "output_type": "stream",
     "text": [
      "When pH = 7, the molar concentration is 1e-07\n"
     ]
    }
   ],
   "source": [
    "pH = 7\n",
    "aH = 10**(-(pH))\n",
    "print('When pH = 7, the molar concentration is', aH)"
   ]
  },
  {
   "cell_type": "markdown",
   "id": "a523c726",
   "metadata": {},
   "source": [
    "Test: if pH=7 then aH should be 1e−7.\n",
    "\n",
    "\n",
    "### String expressions"
   ]
  },
  {
   "cell_type": "code",
   "execution_count": 16,
   "id": "1f198f72",
   "metadata": {},
   "outputs": [
    {
     "name": "stdout",
     "output_type": "stream",
     "text": [
      "Hello world\n",
      "Ai Ai Ai Caramba!\n"
     ]
    }
   ],
   "source": [
    "message3 = 'Hello' + ' ' + 'world'  # + means concatenate\n",
    "print(message3)\n",
    "\n",
    "message4 = 'Ai ' * 3                # * means repeat\n",
    "print(message4 + 'Caramba!') "
   ]
  },
  {
   "cell_type": "code",
   "execution_count": 17,
   "id": "f9c22f7e",
   "metadata": {},
   "outputs": [
    {
     "name": "stdout",
     "output_type": "stream",
     "text": [
      "Hello Tijana and Bojana\n"
     ]
    }
   ],
   "source": [
    "message5= 'Hello'+' ''Tijana'+ ' and Bojana'\n",
    "print(message5)"
   ]
  },
  {
   "cell_type": "code",
   "execution_count": 18,
   "id": "5f62f57d",
   "metadata": {},
   "outputs": [
    {
     "name": "stdout",
     "output_type": "stream",
     "text": [
      "The index of the letter \"a\" in the string letters is 0\n",
      "a\n",
      "The index of the letter \"b\" in the string letters is 1\n",
      "b\n",
      "The index of the last letter in the string letters is -1\n",
      "z\n",
      "The last character in a string of length 26 corresponds to index 25\n",
      "True\n",
      "\n",
      "\n",
      "\n",
      "\n",
      "The first four letters of the alphabet are: abcd\n"
     ]
    }
   ],
   "source": [
    "# Define a string of length 26 that contains all the lowercase latin letters\n",
    "letters = 'abcdefghijklmnopqrstuvwxyz'\n",
    "\n",
    "# Accessing individual characters within a string\n",
    "print('The index of the letter \"a\" in the string letters is 0')\n",
    "first_letter = letters[0]  # 'a'\n",
    "print(first_letter)\n",
    "\n",
    "print('The index of the letter \"b\" in the string letters is 1')\n",
    "second_letter = letters[1]  # 'b'\n",
    "print(second_letter)\n",
    "\n",
    "print('The index of the last letter in the string letters is -1')\n",
    "last_letter = letters[-1]  # 'z'\n",
    "print(last_letter)\n",
    "\n",
    "print('The last character in a string of length 26 corresponds to index 25')\n",
    "print(last_letter == letters[25])\n",
    "\n",
    "print('\\n\\n\\n')  # '\\n' is a special character (an escape sequence) that prints a newline\n",
    "                 # we'll use this kind of preint-nelines statements to logically\n",
    "                 # separate the out outplut lines\n",
    "\n",
    "# Slicing = getting a substring that contains a range of values\n",
    "first_four = letters[0:4]\n",
    "print('The first four letters of the alphabet are:', first_four)\n",
    "# the notation 0:4 is sugar syntax for range(0,4) which is equal to [0, 1, 2, 3]\n"
   ]
  },
  {
   "cell_type": "code",
   "execution_count": 19,
   "id": "0f6e504b",
   "metadata": {},
   "outputs": [
    {
     "name": "stdout",
     "output_type": "stream",
     "text": [
      "abcdefghijklmnopqrstuvwxyz\n"
     ]
    },
    {
     "data": {
      "text/plain": [
       "'efghijkl'"
      ]
     },
     "execution_count": 19,
     "metadata": {},
     "output_type": "execute_result"
    }
   ],
   "source": [
    "print(letters)\n",
    "letters[4:12]"
   ]
  },
  {
   "cell_type": "code",
   "execution_count": 20,
   "id": "8ffc6245",
   "metadata": {},
   "outputs": [
    {
     "data": {
      "text/plain": [
       "[61, 85]"
      ]
     },
     "execution_count": 20,
     "metadata": {},
     "output_type": "execute_result"
    }
   ],
   "source": [
    "scores[0:2]"
   ]
  },
  {
   "cell_type": "markdown",
   "id": "e2273da6",
   "metadata": {},
   "source": [
    "### Boolean expressions\n",
    "\n",
    "You can use `bool` variables and the logical operations `and`, `or`, `not`, etc. to build more complicated boolean expressions (disjunctions, conjunctions, negations, etc.)."
   ]
  },
  {
   "cell_type": "code",
   "execution_count": 21,
   "id": "b517fd0f",
   "metadata": {},
   "outputs": [
    {
     "name": "stdout",
     "output_type": "stream",
     "text": [
      "not True == False\n",
      "not False == True\n",
      "True and True == True\n",
      "True and False == False\n",
      "True or False == True\n",
      "False or False == False\n"
     ]
    }
   ],
   "source": [
    "print('not True ==', not True)\n",
    "print('not False ==', not False)\n",
    "print('True and True ==', True and True)\n",
    "print('True and False ==', True and False)\n",
    "print('True or False ==', True or False)\n",
    "print('False or False ==', False or False)"
   ]
  },
  {
   "cell_type": "markdown",
   "id": "c50b1f33",
   "metadata": {},
   "source": [
    "## Types and type conversions\n",
    "\n",
    "The function `type` tells you the type of any variable, meaning what kind of number or object it is.\n",
    "Look back to the list above—the Python types are shown in **bold**."
   ]
  },
  {
   "cell_type": "code",
   "execution_count": 22,
   "id": "6fe84d2f",
   "metadata": {},
   "outputs": [
    {
     "data": {
      "text/plain": [
       "int"
      ]
     },
     "execution_count": 22,
     "metadata": {},
     "output_type": "execute_result"
    }
   ],
   "source": [
    "# integrers\n",
    "score = 98\n",
    "type(score)"
   ]
  },
  {
   "cell_type": "code",
   "execution_count": 23,
   "id": "4f9dcd41",
   "metadata": {},
   "outputs": [
    {
     "data": {
      "text/plain": [
       "float"
      ]
     },
     "execution_count": 23,
     "metadata": {},
     "output_type": "execute_result"
    }
   ],
   "source": [
    "average = 77.5\n",
    "type(average)"
   ]
  },
  {
   "cell_type": "code",
   "execution_count": 24,
   "id": "d55fa3ab",
   "metadata": {},
   "outputs": [
    {
     "data": {
      "text/plain": [
       "bool"
      ]
     },
     "execution_count": 24,
     "metadata": {},
     "output_type": "execute_result"
    }
   ],
   "source": [
    "above_the_average = True\n",
    "type(above_the_average)"
   ]
  },
  {
   "cell_type": "markdown",
   "id": "01d75c5b",
   "metadata": {},
   "source": [
    "You can convert between each of these types using the function which has the same name as the type of an object\n",
    "\n",
    "- `int` : transform any expression into an int\n",
    "- `float`: transform any expression into a flaot\n",
    "- `bool`: transform any expression into a `True` or `False`\n",
    "- `str`: transform an expression to it's string representaiton (i.e. this is what the function `print` does)."
   ]
  },
  {
   "cell_type": "markdown",
   "id": "0e58d258",
   "metadata": {},
   "source": [
    "### Useful anything-to-int conversions"
   ]
  },
  {
   "cell_type": "code",
   "execution_count": 25,
   "id": "4e3bb6df",
   "metadata": {},
   "outputs": [
    {
     "name": "stdout",
     "output_type": "stream",
     "text": [
      "65 has type <class 'str'>\n",
      "65 has type <class 'int'>\n",
      "3.2 has type <class 'float'>\n",
      "3 has type <class 'int'>\n",
      "When converted to an int, True is 1 and False is 0\n"
     ]
    }
   ],
   "source": [
    "\n",
    "# str --> int\n",
    "number_as_str = '65'\n",
    "print(number_as_str, 'has type', type(number_as_str))\n",
    "number = int(number_as_str)\n",
    "print(number, 'has type', type(number))\n",
    "\n",
    "#  float --> int\n",
    "precise_number_as_float = 3.2\n",
    "print(precise_number_as_float, 'has type', type(precise_number_as_float))\n",
    "rounded_number = int(precise_number_as_float)\n",
    "print(rounded_number, 'has type', type(rounded_number))\n",
    "\n",
    "#  bool --> int\n",
    "true_value = True\n",
    "false_value = False\n",
    "print('When converted to an int, True is', int(True), 'and False is', int(False))"
   ]
  },
  {
   "cell_type": "markdown",
   "id": "9390f1a1",
   "metadata": {},
   "source": [
    "### Useful anything-to-float conversions"
   ]
  },
  {
   "cell_type": "code",
   "execution_count": 26,
   "id": "dfd2d628",
   "metadata": {},
   "outputs": [
    {
     "name": "stdout",
     "output_type": "stream",
     "text": [
      "1.2\n",
      "1000000.0\n",
      "4.0\n",
      "If you divide an integrer by an integer in Python using the / operator...\n",
      "...you get a float number 1.2 has type <class 'float'>\n",
      "There is also an divistion without autoconversion operator // which ...\n",
      "...you get an integer 1 has type <class 'int'>\n"
     ]
    }
   ],
   "source": [
    "# str --> float\n",
    "print(float('1.2'))  # note using decimal dot . not decimal , as in Europe\n",
    "print(float('1e6'))  # one million = 1000000 = 1x10^6. The e is shorthand for x10^\n",
    "print(float('4'))\n",
    "\n",
    "# int/int --> float autoconversion\n",
    "print('If you divide an integrer by an integer in Python using the / operator...')\n",
    "print('...you get a float number', 6/5, 'has type', type(6/5))\n",
    "\n",
    "print('There is also an divistion without autoconversion operator // which ...')\n",
    "print('...you get an integer', 6//5, 'has type', type(6//5))"
   ]
  },
  {
   "cell_type": "markdown",
   "id": "fe367c23",
   "metadata": {},
   "source": [
    "### Common anything-to-str conversions"
   ]
  },
  {
   "cell_type": "code",
   "execution_count": 27,
   "id": "1f8c417f",
   "metadata": {},
   "outputs": [
    {
     "name": "stdout",
     "output_type": "stream",
     "text": [
      "string representations 42 4.2 True a string\n",
      "str(math.pi) = 3.141592653589793\n",
      "pi to two decimals 3.14\n",
      "pi to seven decimals 3.1415927\n"
     ]
    }
   ],
   "source": [
    "# use the str function\n",
    "str1 = str(42)\n",
    "str2 = str(4.2)\n",
    "str3 = str(True)\n",
    "str4 = 'a string'\n",
    "print('string representations', str1, str2, str3, str4)\n",
    "\n",
    "# float -> str\n",
    "import math\n",
    "pi = math.pi  # constant equal to ratio of circumference to diameter of a circle\n",
    "print('str(math.pi) =', str(math.pi))  # defaults to max precision\n",
    "\n",
    "# control precision and print formatting using format. For more info, see\n",
    "# https://python-reference.readthedocs.io/en/latest/docs/functions/format.html\n",
    "print('pi to two decimals', '{:.2f}'.format(pi))\n",
    "print('pi to seven decimals', '{:.7f}'.format(pi))"
   ]
  },
  {
   "cell_type": "code",
   "execution_count": null,
   "id": "e027a4f1",
   "metadata": {},
   "outputs": [],
   "source": []
  },
  {
   "cell_type": "code",
   "execution_count": null,
   "id": "e1555eb4",
   "metadata": {},
   "outputs": [],
   "source": []
  },
  {
   "cell_type": "markdown",
   "id": "566f14e7",
   "metadata": {},
   "source": [
    "### Converting expressions to boolean values\n",
    "\n",
    "Up until now we were in the land of math and text manipulation of numbers, which all make sense intuitively. \n",
    "\n",
    "Next we'll talk about the boolean values of Python expressions. This will feel a little weird at first since we're forcing some arbitray Python object (could be a number, a string, a list, a dictionary, etc) and asking the questions is the value `True` or `False` ?\n",
    "\n",
    "There is a specific convention about which values are considered \"truthy\" (i.e. get converted to `True` when converted to boolean using `bool`) and which expressions are falsy (i.e. get converted to `False` when passed through `bool`). \n",
    "\n",
    "I know this seems like boring details, but please read the next example carefully because \"truthyness\" and \"falsyness\" will play a big role in coding: every time you use an if or elif statement in Python, we are implicitly calling `bool` on an expression so it's a good idea to get to know what `bool` does to different types of variables."
   ]
  },
  {
   "cell_type": "code",
   "execution_count": 28,
   "id": "27b8807d",
   "metadata": {},
   "outputs": [
    {
     "name": "stdout",
     "output_type": "stream",
     "text": [
      "Any non-zero integer is considered as True\n",
      "True True True\n",
      "Zero is False\n",
      "False False False\n",
      "\n",
      "\n",
      "Any non-zero float is considered as True\n",
      "True True True\n",
      "Zero is False\n",
      "False False False\n",
      "Any non-empty string is considered True\n",
      "True False\n",
      "\n",
      "\n",
      "Any non-empty list is considered True\n",
      "True True True\n",
      "Empty list is considered False\n",
      "False False True\n",
      "\n",
      "\n",
      "Any non-empty dict is considered True\n",
      "True True\n",
      "Empty dict is considered False\n",
      "False False\n"
     ]
    }
   ],
   "source": [
    "# int --> bool\n",
    "print('Any non-zero integer is considered as True')\n",
    "print(bool(1), bool(-2), bool(10000))\n",
    "print('Zero is False')\n",
    "print(bool(0), bool(-0), bool(int('0')))\n",
    "\n",
    "print('\\n')\n",
    "\n",
    "# float --> bool\n",
    "print('Any non-zero float is considered as True')\n",
    "print(bool(1.0), bool(-2.0), bool(10000.0))\n",
    "print('Zero is False')\n",
    "print(bool(0.0), bool(-0.0), bool(float('0.0')))\n",
    "\n",
    "\n",
    "# str --> bool\n",
    "print('Any non-empty string is considered True')\n",
    "print(bool('as'), bool(''))\n",
    "\n",
    "print('\\n')\n",
    "\n",
    "# list --> bool\n",
    "print('Any non-empty list is considered True')\n",
    "print(bool([1]), bool([1,2]), bool(range(0,10000)))\n",
    "print('Empty list is considered False')\n",
    "print(bool([]), bool(list()), bool(list('[]')))\n",
    "\n",
    "print('\\n')\n",
    "\n",
    "# dict --> bool\n",
    "print('Any non-empty dict is considered True')\n",
    "print(bool({1:11}), bool({1:11,-2:22}))\n",
    "print('Empty dict is considered False')\n",
    "print(bool({}), bool(dict()))"
   ]
  },
  {
   "cell_type": "code",
   "execution_count": 29,
   "id": "d20a8a79",
   "metadata": {},
   "outputs": [
    {
     "data": {
      "text/plain": [
       "True"
      ]
     },
     "execution_count": 29,
     "metadata": {},
     "output_type": "execute_result"
    }
   ],
   "source": [
    "bool(2)"
   ]
  },
  {
   "cell_type": "markdown",
   "id": "05b9a466",
   "metadata": {},
   "source": [
    "## Your turn to try this...\n",
    "\n",
    "Try typing in some Python code in this cell. If you've been simply reading until now, this is your chance to switch to \"active\" mode: use the rocket-button in the top right of the menu at the top, and choose the `Live Code` option to make all the cells in this notebook interactive, then try entering some Python commands in this code cell below:"
   ]
  },
  {
   "cell_type": "code",
   "execution_count": null,
   "id": "a0056503",
   "metadata": {},
   "outputs": [],
   "source": []
  },
  {
   "cell_type": "markdown",
   "id": "244a2221",
   "metadata": {},
   "source": [
    "## Coming up\n",
    "\n",
    "In the next few sections, we'll cover other important parts of Python:\n",
    "\n",
    "- Blocks of code that contain multiple expressions (these are indicated based on the text indentation of the code instructions)\n",
    "- Functions\n",
    "- For loops\n",
    "- If, elif, else conditional statements\n",
    "- etc., see full list of **Appendix C: Python coding** planned topics [here](https://docs.google.com/document/d/1fwep23-95U-w1QMPU31nOvUnUXE2X3s_Dbk5JuLlKAY/edit#bookmark=id.zghgol749kju)\n",
    "\n",
    "\n",
    "\n",
    "## Exercises\n",
    "\n",
    "- Review Python syntax cheatsheet [https://blog.finxter.com/wp-content/uploads/2020/07/Finxter_WorldsMostDensePythonCheatSheet.pdf](https://blog.finxter.com/wp-content/uploads/2020/07/Finxter_WorldsMostDensePythonCheatSheet.pdf)\n",
    "  - add single dot next to concepts you've hear about\n",
    "  - double dot next to python concepts you understand\n",
    "  - triple dot next to concepts you've used in your code\n",
    "- Try poking-around and explore expressions involving numbers (`int` and `float`),\n",
    "  strings (`str`), and booleans (`bool`).\n",
    "- Go through all quiz questions in reading material as notebooks:\n",
    "  - 03-Variables: [https://introductorypython.github.io/tutorials/03-Variables.html](https://introductorypython.github.io/tutorials/03-Variables.html)\n",
    "  - 04-Operarators: [https://introductorypython.github.io/tutorials/04-Operators.html](https://introductorypython.github.io/tutorials/04-Operators.html)\n",
    "  - 06-Data types: [https://introductorypython.github.io/tutorials/06-DataTypes.html](https://introductorypython.github.io/tutorials/06-DataTypes.html)\n",
    "- Print out the [SymPy tutorial](https://minireference.com/static/tutorials/sympy_tutorial.pdf)\n",
    "  and read the beginning, which is an intro to Python from a math perspective.\n",
    "  Alt version [here](https://minireference.com/static/excerpts/noBSmath_v5_preview.pdf#page=77).\n",
    "\n",
    "\n",
    "\n",
    "  \n",
    "  ## Prerequisites\n",
    "\n",
    "  - Watch the [video about vectors](https://www.youtube.com/watch?v=fNk_zzaMoSs)\n",
    "    by 3Blue1Brown (optionally read [video text](https://www.3blue1brown.com/lessons/vectors)).\n",
    "  - View the visualizations about [radians](https://twitter.com/FreyaHolmer/status/1173752820954214400),\n",
    "    [sin/cos/tan](https://twitter.com/FreyaHolmer/status/1173376419168247810),\n",
    "    [dot product](https://twitter.com/FreyaHolmer/status/1200807790580768768),\n",
    "    and [cross product](https://twitter.com/FreyaHolmer/status/1203059678705602562)\n",
    "  - Review Collections: Lists section. This is important because we can use lists\n",
    "    to represent vectors in Python, for example the two-dimensional vector can be defined as `v = [3,2]`\n",
    "  - Complete the section on for loops in 07-Loops notebook.\n",
    "    The for loop is important because it allows you to do operations for each element in the list.\n",
    "  - Review the Fundamentals of math notebook from Sympy (Appendix C in print book)\n",
    "  - Complete the SymPy > Vectors notebook to learn how to define and use vectors in SymPy.\n",
    "    Note we use Matrix object giving it a list as input, e.g. `v = Matrix([3,2])`\n",
    "    This is a little weird, but OK because a vector is a special type of matrix.\n",
    "  - Solve all exercises in Chapter 7, as well as E6.4, E6.5\n",
    "  - Solve all problems from P9.57 until P9.65 (inclusive)\n",
    "\n",
    "\n",
    "\n",
    "## Lists and for loops\n",
    "\n",
    "Let's review what we've learned about Python lists and for loops because they will be useful for vector calculations in the next step."
   ]
  },
  {
   "cell_type": "code",
   "execution_count": 30,
   "id": "f76410af",
   "metadata": {},
   "outputs": [
    {
     "data": {
      "text/plain": [
       "[61.0, 85.0, 92.0, 72.0]"
      ]
     },
     "execution_count": 30,
     "metadata": {},
     "output_type": "execute_result"
    }
   ],
   "source": [
    "scores = [61.0, 85.0, 92.0, 72.0]  # define a list of floats\n",
    "scores"
   ]
  },
  {
   "cell_type": "code",
   "execution_count": 31,
   "id": "3847db1a",
   "metadata": {},
   "outputs": [
    {
     "data": {
      "text/plain": [
       "4"
      ]
     },
     "execution_count": 31,
     "metadata": {},
     "output_type": "execute_result"
    }
   ],
   "source": [
    "# lists have a \"length\"\n",
    "len(scores)"
   ]
  },
  {
   "cell_type": "code",
   "execution_count": 32,
   "id": "ae78304a",
   "metadata": {},
   "outputs": [
    {
     "data": {
      "text/plain": [
       "61.0"
      ]
     },
     "execution_count": 32,
     "metadata": {},
     "output_type": "execute_result"
    }
   ],
   "source": [
    "# elements of a list are acccessed using [ ] and 0-based index\n",
    "scores[0]  # first score"
   ]
  },
  {
   "cell_type": "code",
   "execution_count": 33,
   "id": "a6110de9",
   "metadata": {},
   "outputs": [
    {
     "data": {
      "text/plain": [
       "[61.0, 72.0, 85.0, 92.0]"
      ]
     },
     "execution_count": 33,
     "metadata": {},
     "output_type": "execute_result"
    }
   ],
   "source": [
    "# lists can be sorted\n",
    "sorted(scores)  # returns a new list of sorted scores"
   ]
  },
  {
   "cell_type": "code",
   "execution_count": 34,
   "id": "4a82c0ea",
   "metadata": {},
   "outputs": [
    {
     "data": {
      "text/plain": [
       "[61.0, 85.0, 92.0, 72.0]"
      ]
     },
     "execution_count": 34,
     "metadata": {},
     "output_type": "execute_result"
    }
   ],
   "source": [
    "scores"
   ]
  },
  {
   "cell_type": "code",
   "execution_count": 35,
   "id": "feb2d894",
   "metadata": {},
   "outputs": [
    {
     "data": {
      "text/plain": [
       "[61.0, 72.0, 85.0, 92.0]"
      ]
     },
     "execution_count": 35,
     "metadata": {},
     "output_type": "execute_result"
    }
   ],
   "source": [
    "scores.sort()  # in-place sort the list\n",
    "scores"
   ]
  },
  {
   "cell_type": "code",
   "execution_count": 36,
   "id": "407ec209",
   "metadata": {},
   "outputs": [
    {
     "data": {
      "text/plain": [
       "[92.0, 85.0, 72.0, 61.0]"
      ]
     },
     "execution_count": 36,
     "metadata": {},
     "output_type": "execute_result"
    }
   ],
   "source": [
    "scores.reverse()\n",
    "scores"
   ]
  },
  {
   "cell_type": "code",
   "execution_count": 37,
   "id": "780efcce",
   "metadata": {},
   "outputs": [],
   "source": [
    "scores.append(22)"
   ]
  },
  {
   "cell_type": "code",
   "execution_count": 38,
   "id": "7d1302f6",
   "metadata": {},
   "outputs": [
    {
     "data": {
      "text/plain": [
       "[92.0, 85.0, 72.0, 61.0, 22]"
      ]
     },
     "execution_count": 38,
     "metadata": {},
     "output_type": "execute_result"
    }
   ],
   "source": [
    "scores"
   ]
  },
  {
   "cell_type": "code",
   "execution_count": 39,
   "id": "f0c38a04",
   "metadata": {},
   "outputs": [
    {
     "data": {
      "text/plain": [
       "[92.0, 85.0, 25, 72.0, 61.0, 22]"
      ]
     },
     "execution_count": 39,
     "metadata": {},
     "output_type": "execute_result"
    }
   ],
   "source": [
    "scores.insert(2, 25)\n",
    "scores"
   ]
  },
  {
   "cell_type": "code",
   "execution_count": 40,
   "id": "15a74b2b",
   "metadata": {},
   "outputs": [
    {
     "data": {
      "text/plain": [
       "22"
      ]
     },
     "execution_count": 40,
     "metadata": {},
     "output_type": "execute_result"
    }
   ],
   "source": [
    "scores.pop()"
   ]
  },
  {
   "cell_type": "markdown",
   "id": "bec18151",
   "metadata": {},
   "source": [
    "Just like `.sort()` method, lists have all kinds of useful methods `.insert`, `.remove`, `.pop`, `.reverse`, ...  \n",
    "\n",
    "You can see all those methods by starting to type `scores.` then pause for a second to see the auto-complete suggestions:"
   ]
  },
  {
   "cell_type": "code",
   "execution_count": 41,
   "id": "3a2e521a",
   "metadata": {},
   "outputs": [],
   "source": [
    "# scores."
   ]
  },
  {
   "cell_type": "code",
   "execution_count": 42,
   "id": "1ee1a4a0",
   "metadata": {},
   "outputs": [],
   "source": [
    "scores = [61.0, 85.0, 92.0, 72.0]\n",
    "scores.sort()"
   ]
  },
  {
   "cell_type": "markdown",
   "id": "729699e7",
   "metadata": {},
   "source": [
    "## For loops\n",
    "\n",
    "The \"for loop\" is a Python code construct of the form:\n",
    "```\n",
    "for el in container:\n",
    "    <operations on el>\n",
    "\n",
    "```\n",
    "that allows to repeat a block of operations **for each element of the list**."
   ]
  },
  {
   "cell_type": "code",
   "execution_count": 43,
   "id": "56002dd2",
   "metadata": {},
   "outputs": [
    {
     "name": "stdout",
     "output_type": "stream",
     "text": [
      "61.0\n",
      "72.0\n",
      "85.0\n",
      "92.0\n"
     ]
    }
   ],
   "source": [
    "# Example 1: print all the scores\n",
    "for score in scores:\n",
    "    print(score)"
   ]
  },
  {
   "cell_type": "code",
   "execution_count": 44,
   "id": "dfcd2e70",
   "metadata": {},
   "outputs": [
    {
     "data": {
      "text/plain": [
       "77.5"
      ]
     },
     "execution_count": 44,
     "metadata": {},
     "output_type": "execute_result"
    }
   ],
   "source": [
    "# Example 2: compute the average score  ==  sum(scores)/len(scores)\n",
    "total = 0\n",
    "for score in scores:\n",
    "    total = total + score\n",
    "\n",
    "total/len(scores)"
   ]
  },
  {
   "cell_type": "markdown",
   "id": "dfb40478",
   "metadata": {},
   "source": [
    "The name of the variable used for the for loop is totally up to you, but in general you should choose logical names for elements of the list.\n",
    "\n",
    "Here is a for loop that uses the single-letter variable:"
   ]
  },
  {
   "cell_type": "code",
   "execution_count": 45,
   "id": "6961867c",
   "metadata": {},
   "outputs": [
    {
     "name": "stdout",
     "output_type": "stream",
     "text": [
      "61.0\n",
      "72.0\n",
      "85.0\n",
      "92.0\n"
     ]
    }
   ],
   "source": [
    "for s in scores:\n",
    "    print(s)\n"
   ]
  },
  {
   "cell_type": "code",
   "execution_count": 46,
   "id": "dd44a9c6",
   "metadata": {},
   "outputs": [
    {
     "data": {
      "text/plain": [
       "[61.0, 72.0, 85.0, 92.0]"
      ]
     },
     "execution_count": 46,
     "metadata": {},
     "output_type": "execute_result"
    }
   ],
   "source": [
    "scores"
   ]
  },
  {
   "cell_type": "code",
   "execution_count": 47,
   "id": "e8101dfa",
   "metadata": {},
   "outputs": [
    {
     "data": {
      "text/plain": [
       "<enumerate at 0x1101a62c0>"
      ]
     },
     "execution_count": 47,
     "metadata": {},
     "output_type": "execute_result"
    }
   ],
   "source": [
    "enumerate(scores)"
   ]
  },
  {
   "cell_type": "code",
   "execution_count": 48,
   "id": "f49a6d1c",
   "metadata": {},
   "outputs": [
    {
     "name": "stdout",
     "output_type": "stream",
     "text": [
      "Processing score 61.0 which is at index 0 in the list\n",
      "Processing score 72.0 which is at index 1 in the list\n",
      "Processing score 85.0 which is at index 2 in the list\n",
      "Processing score 92.0 which is at index 3 in the list\n"
     ]
    }
   ],
   "source": [
    "# Bonus concept: use `enumerate` to get pairs (index, value) from a list\n",
    "# enumerate(scores) == [(0, 61.0), (1, 72.0), (2, 85.0), (3, 92.0)]\n",
    "\n",
    "# example\n",
    "for index, score in enumerate(scores):\n",
    "    # this for loop has two variables index and score\n",
    "    print(\"Processing score\", score, \"which is at index\", index, \"in the list\")"
   ]
  },
  {
   "cell_type": "code",
   "execution_count": 49,
   "id": "0a1fbbcf",
   "metadata": {},
   "outputs": [
    {
     "name": "stdout",
     "output_type": "stream",
     "text": [
      "Processing  value1 = 1  and  value2 = 3 val3= 11\n",
      "Processing  value1 = 2  and  value2 = 3 val3= 22\n",
      "Processing  value1 = 3  and  value2 = 5 val3= 33\n"
     ]
    }
   ],
   "source": [
    "# New concept: use `zip(list1,list2)` to get pairs (value1, value2) from two lists \n",
    "# list(zip([1,2,3], ['a','b','c'])) == [(1, 'a'), (2, 'b'), (3, 'c')]\n",
    "\n",
    "# example\n",
    "list1 = [1,2,3]\n",
    "list2 = [3,3,5]\n",
    "list3 = [11, 22, 33]\n",
    "\n",
    "for value1, value2, value3 in zip(list1, list2, list3):\n",
    "    print(\"Processing  value1 =\", value1, \" and  value2 =\", value2, 'val3=', value3)\n"
   ]
  },
  {
   "cell_type": "code",
   "execution_count": 50,
   "id": "0ef79303",
   "metadata": {},
   "outputs": [
    {
     "data": {
      "text/plain": [
       "[(1, 3), (2, 3), (3, 5)]"
      ]
     },
     "execution_count": 50,
     "metadata": {},
     "output_type": "execute_result"
    }
   ],
   "source": [
    "list1 = [1,2,3]\n",
    "list2 = [3,3,5]\n",
    "\n",
    "\n",
    "list(zip(list1, list2))"
   ]
  },
  {
   "cell_type": "code",
   "execution_count": null,
   "id": "e7af72da",
   "metadata": {},
   "outputs": [],
   "source": []
  },
  {
   "cell_type": "code",
   "execution_count": null,
   "id": "76681dd1",
   "metadata": {},
   "outputs": [],
   "source": []
  },
  {
   "cell_type": "markdown",
   "id": "f837d6c2",
   "metadata": {},
   "source": [
    "### List functions\n",
    "\n",
    "Your turn to play with lists now! Complete the code required to implement the functions `compute_mean` and `compute_std` below.\n",
    "\n",
    "\n",
    "#### Question 1: Mean\n",
    "\n",
    "The formula for the mean of a list of numbers $[x_1, x_2, \\ldots, x_n]$ is:\n",
    "$$\n",
    "    \\text{mean} = \\overline{x}\n",
    "    = \\frac{1}{n}\\sum_{i=1}^n x_i\n",
    "    = \\tfrac{1}{n} \\left[ x_1 + x_2 + \\cdots + x_n \\right].\n",
    "$$\n",
    "\n",
    "\n",
    "Write the function `compute_mean(numbers)`: a function that computes the mean of a list of numbers"
   ]
  },
  {
   "cell_type": "code",
   "execution_count": 51,
   "id": "a2752b71",
   "metadata": {},
   "outputs": [
    {
     "data": {
      "text/plain": [
       "100.5"
      ]
     },
     "execution_count": 51,
     "metadata": {},
     "output_type": "execute_result"
    }
   ],
   "source": [
    "def compute_mean(numbers):\n",
    "    \"\"\"\n",
    "    Computes the arithmetic mean of the `numbers` list using a for loop.\n",
    "    \"\"\"\n",
    "    total = 0\n",
    "    for number in numbers:\n",
    "        total = total + number\n",
    "    mean = total/len(numbers)  \n",
    "    return mean\n",
    "\n",
    "\n",
    "compute_mean([100,101])"
   ]
  },
  {
   "cell_type": "code",
   "execution_count": 52,
   "id": "b582a8bf",
   "metadata": {},
   "outputs": [
    {
     "name": "stdout",
     "output_type": "stream",
     "text": [
      "All tests passed. Good job y'all!\n"
     ]
    }
   ],
   "source": [
    "# TEST CODE (run this code to test you solution)\n",
    "\n",
    "def random_list(n=10, min=0.0, max=100.0):\n",
    "    \"\"\"Returns a list of length `n` of random floats between `min` and `max`.\"\"\"\n",
    "    import random\n",
    "    values = []\n",
    "    for i in range(n):\n",
    "        r = random.random()\n",
    "        value = min + r*(max-min)\n",
    "        values.append(value)\n",
    "    return values\n",
    "\n",
    "\n",
    "def test_compute_mean(function):\n",
    "    \"\"\"\n",
    "    Run a few lists to check if value returned by `function` matches expected.\n",
    "    \"\"\"\n",
    "    import math, statistics\n",
    "    assert function([1,1,1]) == 1\n",
    "    assert function([61,72,85,92]) == 77.5\n",
    "    list10 = random_list(n=10)\n",
    "    assert math.isclose(function(list10), statistics.mean(list10))\n",
    "    list100 = random_list(n=100)\n",
    "    assert math.isclose(function(list100), statistics.mean(list100))\n",
    "    print(\"All tests passed. Good job y'all!\")\n",
    "\n",
    "\n",
    "\n",
    "# RUN TESTS\n",
    "test_compute_mean(compute_mean)"
   ]
  },
  {
   "cell_type": "code",
   "execution_count": 53,
   "id": "c545155f",
   "metadata": {},
   "outputs": [
    {
     "data": {
      "text/plain": [
       "False"
      ]
     },
     "execution_count": 53,
     "metadata": {},
     "output_type": "execute_result"
    }
   ],
   "source": [
    "(1 + 1e-15)  ==  1 "
   ]
  },
  {
   "cell_type": "code",
   "execution_count": 54,
   "id": "41655d45",
   "metadata": {},
   "outputs": [
    {
     "data": {
      "text/plain": [
       "True"
      ]
     },
     "execution_count": 54,
     "metadata": {},
     "output_type": "execute_result"
    }
   ],
   "source": [
    "import math\n",
    "math.isclose(1 + 1e-10, 1)"
   ]
  },
  {
   "cell_type": "code",
   "execution_count": null,
   "id": "898cdb91",
   "metadata": {},
   "outputs": [],
   "source": []
  },
  {
   "cell_type": "markdown",
   "id": "0d27fa2b",
   "metadata": {},
   "source": [
    "#### Question 2: Sample standard deviation\n",
    "\n",
    "The formula for the sample standard seviation of a list of numbers is:\n",
    "$$\n",
    "    \\text{std} = s\n",
    "    = \\sqrt{ \\tfrac{1}{n-1}\\sum_{i=1}^n (x_i-\\overline{x})^2 }\n",
    "    = \\sqrt{ \\tfrac{1}{n-1}\\left[ (x_1-\\overline{x})^2 + (x_2-\\overline{x})^2 + \\cdots + (x_n-\\overline{x})^2\\right]}.\n",
    "$$\n",
    "\n",
    "Note the division is by $(n-1)$ and not $n$. Strange, no? You'll have to wait until stats to see why this is the case.\n",
    "\n",
    "Write `compute_std(numbers)`: computes the sample standard deviation"
   ]
  },
  {
   "cell_type": "code",
   "execution_count": 55,
   "id": "d9a96ad2",
   "metadata": {},
   "outputs": [
    {
     "data": {
      "text/plain": [
       "29.011491975882016"
      ]
     },
     "execution_count": 55,
     "metadata": {},
     "output_type": "execute_result"
    }
   ],
   "source": [
    "import math\n",
    "import statistics\n",
    "\n",
    "def compute_std(numbers):\n",
    "    \"\"\"\n",
    "    Computes the sample standard deviation (square root of the sample variance)\n",
    "    using a for loop.\n",
    "    \"\"\"\n",
    "    mean = compute_mean(numbers) \n",
    "    total = 0\n",
    "    for number in numbers:\n",
    "        total = total + (number-mean)**2\n",
    "    var = total/(len(numbers)-1)    \n",
    "    return math.sqrt(var)\n",
    "\n",
    "numbers = list(range(0,100))\n",
    "compute_std(numbers)"
   ]
  },
  {
   "cell_type": "code",
   "execution_count": 56,
   "id": "f3dedc7e",
   "metadata": {},
   "outputs": [
    {
     "data": {
      "text/plain": [
       "29.011491975882016"
      ]
     },
     "execution_count": 56,
     "metadata": {},
     "output_type": "execute_result"
    }
   ],
   "source": [
    "# compare to known good function...\n",
    "statistics.stdev(numbers)"
   ]
  },
  {
   "cell_type": "code",
   "execution_count": 57,
   "id": "85d86f5d",
   "metadata": {},
   "outputs": [
    {
     "name": "stdout",
     "output_type": "stream",
     "text": [
      "All tests passed. Good job y'all!\n"
     ]
    }
   ],
   "source": [
    "# TEST CODE (run this code to test you solution)\n",
    "\n",
    "def test_compute_std(function):\n",
    "    \"\"\"\n",
    "    Run a few lists to check if value returned by `function` matches expected.\n",
    "    \"\"\"\n",
    "    import math, statistics\n",
    "    assert function([1,1,1]) == 0\n",
    "    assert math.isclose(function([61,72,85,92]), 13.771952173409064)\n",
    "    list10 = random_list(n=10)\n",
    "    assert math.isclose(function(list10), statistics.stdev(list10))\n",
    "    list100 = random_list(n=100)\n",
    "    assert math.isclose(function(list100), statistics.stdev(list100))\n",
    "    print(\"All tests passed. Good job y'all!\")\n",
    "\n",
    "\n",
    "# RUN TESTS\n",
    "test_compute_std(compute_std)"
   ]
  },
  {
   "cell_type": "code",
   "execution_count": null,
   "id": "45e1a6c2",
   "metadata": {},
   "outputs": [],
   "source": []
  },
  {
   "cell_type": "markdown",
   "id": "2217bdb6",
   "metadata": {},
   "source": [
    "## Vectors\n",
    "A vector $\\vec{v} \\in \\mathbb{R}^n$ is an $n$-tuple of real numbers:\n",
    "\n",
    "$$\n",
    " \\vec{v} = (v_1,v_2,v_3, \\ldots, v_n) \\  \\in \\  \\mathbb{R}^n.\n",
    "$$\n",
    "\n",
    "To specify the vector $\\vec{v}$, \n",
    "we specify the values for its components $v_1$, $v_2$, $v_3$, ..., $v_n$.\n",
    "\n",
    "In Python, we can represent vectors as lists:"
   ]
  },
  {
   "cell_type": "code",
   "execution_count": 58,
   "id": "2a54f7ce",
   "metadata": {},
   "outputs": [
    {
     "data": {
      "text/plain": [
       "[3, 2]"
      ]
     },
     "execution_count": 58,
     "metadata": {},
     "output_type": "execute_result"
    }
   ],
   "source": [
    "# the two-dimensional vector represented as a Python list\n",
    "v = [3,2]\n",
    "v"
   ]
  },
  {
   "cell_type": "code",
   "execution_count": 59,
   "id": "e4dfc976",
   "metadata": {},
   "outputs": [],
   "source": [
    "# try playing around with a vector using a for loop..."
   ]
  },
  {
   "cell_type": "markdown",
   "id": "2612a073",
   "metadata": {},
   "source": [
    "### Other ways of representing vectos (optional reading)"
   ]
  },
  {
   "cell_type": "code",
   "execution_count": 60,
   "id": "9b606327",
   "metadata": {},
   "outputs": [
    {
     "ename": "ModuleNotFoundError",
     "evalue": "No module named 'sympy'",
     "output_type": "error",
     "traceback": [
      "\u001b[0;31m---------------------------------------------------------------------------\u001b[0m",
      "\u001b[0;31mModuleNotFoundError\u001b[0m                       Traceback (most recent call last)",
      "\u001b[0;32m/var/folders/wc/2r44j8gs4gn56t1xtw5f6wlm0000gn/T/ipykernel_6302/2744769052.py\u001b[0m in \u001b[0;36m<module>\u001b[0;34m\u001b[0m\n\u001b[1;32m      1\u001b[0m \u001b[0;31m# Option 2: vector as a n-by-1 SymPy Matrix (useful for doing math calculations)\u001b[0m\u001b[0;34m\u001b[0m\u001b[0;34m\u001b[0m\u001b[0;34m\u001b[0m\u001b[0m\n\u001b[0;32m----> 2\u001b[0;31m \u001b[0;32mfrom\u001b[0m \u001b[0msympy\u001b[0m \u001b[0;32mimport\u001b[0m \u001b[0mMatrix\u001b[0m\u001b[0;34m\u001b[0m\u001b[0;34m\u001b[0m\u001b[0m\n\u001b[0m\u001b[1;32m      3\u001b[0m \u001b[0mv_sym\u001b[0m \u001b[0;34m=\u001b[0m \u001b[0mMatrix\u001b[0m\u001b[0;34m(\u001b[0m\u001b[0;34m[\u001b[0m\u001b[0;36m3\u001b[0m\u001b[0;34m,\u001b[0m\u001b[0;36m2\u001b[0m\u001b[0;34m]\u001b[0m\u001b[0;34m)\u001b[0m\u001b[0;34m\u001b[0m\u001b[0;34m\u001b[0m\u001b[0m\n\u001b[1;32m      4\u001b[0m \u001b[0mv_sym\u001b[0m\u001b[0;34m\u001b[0m\u001b[0;34m\u001b[0m\u001b[0m\n",
      "\u001b[0;31mModuleNotFoundError\u001b[0m: No module named 'sympy'"
     ]
    }
   ],
   "source": [
    "# Option 2: vector as a n-by-1 SymPy Matrix (useful for doing math calculations)\n",
    "from sympy import Matrix\n",
    "v_sym = Matrix([3,2])\n",
    "v_sym"
   ]
  },
  {
   "cell_type": "code",
   "execution_count": null,
   "id": "9dc575af",
   "metadata": {},
   "outputs": [],
   "source": [
    "# Option 3: numpy array (useful for doing fast numerical calculations)\n",
    "import numpy as np\n",
    "v_np = np.array([3,2])\n",
    "v_np"
   ]
  },
  {
   "cell_type": "code",
   "execution_count": null,
   "id": "66c290a2",
   "metadata": {},
   "outputs": [],
   "source": [
    "# Option 4: pandas series (used in statistics and data science)\n",
    "# Option 5: pytorch array (used in machine learning)"
   ]
  },
  {
   "cell_type": "markdown",
   "id": "cbeb2d91",
   "metadata": {},
   "source": [
    "### Vector functions\n",
    "\n",
    "To get to know vectors better, you'll now implement a few common vector operations. Make sure all the functions you create work for vector of any length."
   ]
  },
  {
   "cell_type": "markdown",
   "id": "397975ca",
   "metadata": {},
   "source": [
    "### Question 3: \n",
    "\n",
    "Writh `norm(v)` a function that takes `n`-dimensional vector and computes its [Euclidean norm](https://en.wikipedia.org/wiki/Norm_(mathematics)#Euclidean_norm)"
   ]
  },
  {
   "cell_type": "code",
   "execution_count": null,
   "id": "f02b5661",
   "metadata": {},
   "outputs": [],
   "source": [
    "def norm(v):\n",
    "    \"\"\"\n",
    "    Compute the L2-norm (Euclidean norm) of the vector `v` (a list).\n",
    "    \"\"\"\n",
    "    total=0\n",
    "    if len(v) in range(2,10):\n",
    "       for number in v:\n",
    "          total=total+(number)**2\n",
    "       from math import sqrt    \n",
    "       norm_of_v= math.sqrt(total)\n",
    "       return float(norm_of_v)\n",
    "          "
   ]
  },
  {
   "cell_type": "code",
   "execution_count": null,
   "id": "85e9c254",
   "metadata": {},
   "outputs": [],
   "source": [
    "# TEST CODE (run this code to test you solution)\n",
    "import numpy\n",
    "\n",
    "def test_norm(function):\n",
    "    \"\"\"\n",
    "    Run a few lists to check if value returned by `function` matches expected.\n",
    "    \"\"\"\n",
    "    from math import isclose\n",
    "    assert isclose(function([1,1,1]), 1.7320508075688772)\n",
    "    assert isclose(function([61,72,85,92]), 156.8247429457482)\n",
    "    list3 = random_list(n=3)\n",
    "    assert isclose(function(list3), numpy.linalg.norm(list3))\n",
    "    print(\"All tests passed. Good job y'all!\")\n",
    "    \n",
    "# END OF TEST CODE\n",
    "\n",
    "\n",
    "# Let's run the tests...\n",
    "test_norm(norm)"
   ]
  },
  {
   "cell_type": "code",
   "execution_count": null,
   "id": "e45dccdd",
   "metadata": {},
   "outputs": [],
   "source": []
  },
  {
   "cell_type": "markdown",
   "id": "39a519c6",
   "metadata": {},
   "source": [
    "### Question 4\n",
    "\n",
    "Write `dot(u,v)` a function that takes two n-dimensional vectors and computes their dot product:"
   ]
  },
  {
   "cell_type": "code",
   "execution_count": null,
   "id": "7865d3bc",
   "metadata": {},
   "outputs": [],
   "source": [
    "def dot(u,v):\n",
    "    \"\"\"\n",
    "    Takes two n-dimensional vectors and computes their dot product.\n",
    "    \"\"\" \n",
    "    total = 0\n",
    "    for ui, vi in zip(u,v):\n",
    "        total = total + (ui*vi)\n",
    "    return float(total)\n",
    "\n"
   ]
  },
  {
   "cell_type": "code",
   "execution_count": null,
   "id": "6a5fa5a9",
   "metadata": {},
   "outputs": [],
   "source": [
    "# TEST CODE (run this code to test you solution)\n",
    "\n",
    "def test_dot(function):\n",
    "    \"\"\"\n",
    "    Run a few lists to check if value returned by `function` matches expected.\n",
    "    \"\"\"\n",
    "    from math import isclose\n",
    "    import numpy as np\n",
    "    assert function([1,2], [3,4]) == 1*3 + 2*4\n",
    "    u3 = random_list(n=3)\n",
    "    v3 = random_list(n=3)\n",
    "    assert isclose(function(u3,v3), np.array(u3).dot(np.array(v3)))\n",
    "    for n in range(4, 10):\n",
    "        un = random_list(n=n)\n",
    "        vn = random_list(n=n)\n",
    "        assert isclose(function(un,vn), np.array(un).dot(np.array(vn)))\n",
    "    print(\"All tests passed. Good job y'all!\")\n",
    "\n",
    "\n",
    "# Let's run the tests...\n",
    "test_dot(dot)"
   ]
  },
  {
   "cell_type": "code",
   "execution_count": null,
   "id": "410735b6",
   "metadata": {},
   "outputs": [],
   "source": []
  },
  {
   "cell_type": "markdown",
   "id": "515ff20f",
   "metadata": {},
   "source": [
    "### Question 5:\n",
    "\n",
    "Write `cross(u,v)`: a function that takes two 3-dimensional vectors and computes their cross product"
   ]
  },
  {
   "cell_type": "code",
   "execution_count": null,
   "id": "201a4c6f",
   "metadata": {},
   "outputs": [],
   "source": [
    "def cross(u, v):\n",
    "    \"\"\"\n",
    "    A function that computes the cross product u x v of the inputs u and v, which\n",
    "    are assumed to be 3-dimensional vectors.\n",
    "    Returns a list.\n",
    "    \"\"\"\n",
    "    if len(u) != 3 or len(v) != 3:\n",
    "        # this will make the function reject vectors that are not 3-dimensional\n",
    "        raise ValueError(\"Inputs vects must have dim. 3, else cross product not defined.\")\n",
    "    cross = [(u[1]*v[2]-u[2]*v[1]),\n",
    "             (u[2]*v[0]-u[0]*v[2]),\n",
    "             (u[0]*v[1]-u[1]*v[0])]\n",
    "    return [float(cross[0]),\n",
    "            float(cross[1]),\n",
    "            float(cross[2])]\n"
   ]
  },
  {
   "cell_type": "code",
   "execution_count": null,
   "id": "210e30e1",
   "metadata": {},
   "outputs": [],
   "source": [
    "# TEST CODE (run this code to test you solution)\n",
    "\n",
    "def test_cross(function):\n",
    "    \"\"\"\n",
    "    Run a few lists to check if value returned by `function` matches expected.\n",
    "    \"\"\"\n",
    "    import numpy as np\n",
    "    u3 = random_list(n=3)\n",
    "    v3 = random_list(n=3)\n",
    "    w3_computed = np.array( function(u3,v3), dtype=float)\n",
    "    np.isclose(w3_computed, np.cross(np.array(u3), np.array(v3)))\n",
    "    print(\"All tests passed. Good job!\")\n",
    "\n",
    "\n",
    "# Let's run the tests...\n",
    "test_cross(cross)"
   ]
  },
  {
   "cell_type": "code",
   "execution_count": null,
   "id": "a2225af7",
   "metadata": {},
   "outputs": [],
   "source": []
  },
  {
   "cell_type": "markdown",
   "id": "20a92b8d",
   "metadata": {},
   "source": [
    "### Question 6\n",
    "\n",
    "Write the function `angle_between(u,v)`: a function that takes two n-dimensional vectors and computes their angle between them (answer returned should be in radians)"
   ]
  },
  {
   "cell_type": "code",
   "execution_count": null,
   "id": "108fcfe5",
   "metadata": {},
   "outputs": [],
   "source": [
    "def angle_between(u, v):\n",
    "    \"\"\"\n",
    "    Compute the angle between vectors `u` and `v` (answer returned in radians).\n",
    "    \"\"\"                                       \n",
    "    cos_theta = dot(u,v)/(norm(v)* norm(v))\n",
    "    import math  \n",
    "    return math.acos(cos_theta)                                 # or ME: import math\n"
   ]
  },
  {
   "cell_type": "code",
   "execution_count": null,
   "id": "5e49cf73",
   "metadata": {},
   "outputs": [],
   "source": [
    "# TEST CODE (run this code to test you solution)\n",
    "\n",
    "def test_angle_between(function):\n",
    "    \"\"\"\n",
    "    Run a few lists to check if value returned by `function` matches expected.\n",
    "    \"\"\"\n",
    "    from math import isclose\n",
    "    isclose(function([1,0], [0,1]), 1.5707963267948966)\n",
    "    isclose(function([1,1], [1,0]), 0.7853981633974484)\n",
    "    isclose(function([1,0],[-1,0]), 3.141592653589793)\n",
    "    print(\"All tests passed. Good job!\")\n",
    "\n",
    "# Let's run the tests...\n",
    "test_angle_between(angle_between)"
   ]
  },
  {
   "cell_type": "code",
   "execution_count": null,
   "id": "45757d1e",
   "metadata": {},
   "outputs": [],
   "source": []
  },
  {
   "cell_type": "markdown",
   "id": "d50a2e46",
   "metadata": {},
   "source": [
    "### Things to discuss"
   ]
  },
  {
   "cell_type": "code",
   "execution_count": null,
   "id": "425b6e31",
   "metadata": {},
   "outputs": [],
   "source": [
    "## 1. imports\n",
    "from math import acos\n",
    "acos(1)\n",
    "# vs\n",
    "import math\n",
    "math.acos(1)\n",
    "\n",
    "\n",
    "\n",
    "## 2. list membership\n",
    "v = [3,2]\n",
    "len(v) == range(2,10)\n",
    "\n",
    "\n",
    "\n",
    "## 3. joint-iteration over two lists using zip\n",
    "\n",
    "\n",
    "## 4. float(cross) error\n",
    "\n",
    "\n",
    "## 5. syntax for defining vs. calling functions\n",
    "\n"
   ]
  },
  {
   "cell_type": "code",
   "execution_count": null,
   "id": "01d3983f",
   "metadata": {},
   "outputs": [],
   "source": []
  },
  {
   "cell_type": "code",
   "execution_count": null,
   "id": "d7f84509",
   "metadata": {},
   "outputs": [],
   "source": []
  },
  {
   "cell_type": "markdown",
   "id": "cbc8d3ad",
   "metadata": {},
   "source": [
    "# Functions\n",
    "\n",
    "Functions are one of the most important concepts in math and programming.\n",
    "\n",
    "\n",
    "    y = f(x)  # common convention in math to call function inputs x, and outputs y\n",
    "\n",
    "We can also draw as `x -----f----> y` the function is a map from input values x to an output value y\n",
    "\n",
    "\n",
    "    def f(x):\n",
    "        <steps to compute y from x>\n",
    "        return y\n",
    "\n",
    "\n",
    "Functions!! Finally we get to the good stuff! The previous two sessions were important\n",
    "foundations, but now we get to unlocking the first superpower — modelling.\n",
    "Once you know the basic properties of 10 or so functions,\n",
    "you can build precise mathematical models for any real-world system.\n",
    "\n",
    "\n",
    "Functions are all over the place:\n",
    "- In high school math (the green book) we learn the basic vocabulary of y=f(x) functions\n",
    "  and their parameters, which allows us to describe any real world process\n",
    "- In calculus we analyze functions f(x) behaviour over time\n",
    "  (integral of f = sum of values of f(x) between x=start and x=finish;\n",
    "  and derivative of f at a = the slope of the graph of f(x) when x=a)\n",
    "- In linear algebra we study linear transformations, which are functions\n",
    "  that satisfy f(ax+by)=af(x)+bf(y), meaning a linear combination of inputs\n",
    "  produces the same linear combination of outputs.\n",
    "- In probability theory we use functions to describe the probability density of\n",
    "  a random variables. For example X = Normal(mu, sigma^2) is a random variable\n",
    "  whose density is described by the function p(x) = K*exp(-((x-mu)/sigma)^2/2)\n",
    "  in stats we talk about functions computed from samples (estimators)\n",
    "- In ML we learn about probabilistic models and use them to predict y from given input x"
   ]
  },
  {
   "cell_type": "markdown",
   "id": "dbb38e81",
   "metadata": {},
   "source": [
    "## Python functions\n",
    "\n",
    "Functions in Python are similar to functions in math: a transformation that takes certain inputs and produces certain outputs. The math functions you're familiar with take numbers as inputs and produce numebrs as outputs, but a Python function can take on any type of input and produce any type of output.\n",
    "\n",
    "Functions allow us to build chunks of reusable code that we can later reuse in other programs.\n",
    "\n",
    "We declare a function with the keyword `def`.\n",
    "\n",
    "```python\n",
    "def function_name(function inputs):\n",
    "    \"\"\"\n",
    "    doc string that describes what the function does (optional)\n",
    "    \"\"\"\n",
    "    <function body line 1>\n",
    "    <function body line 2>\n",
    "    <function body line ...>\n",
    "    <function body line n-1>\n",
    "    return <function output value>\n",
    "```\n",
    "\n",
    "We enter the name of the function, then define the functions arguments inside parentheses—the names of the variables that the function receives as inputs. Then the function body is written as an indented block of code (all lines start with four spaces indentation). The output of the function is specified using the `return` keyword. The return statement is usually the last line in the function body.\n",
    "\n",
    "Certain functions do not return a value (we call these _procedures_) and they consist of sequences of commands we want to execute, that don't have any outputs. FunctIons can also be attached to objects, in which case they are called _methods_. We'll talk about these layer on, for now let's focus on simple math-like functions that receive some input and produce output:\n",
    "\n",
    "### Example 1\n",
    "\n",
    "A first example of a simple math-like function. The function is called `f`,\n",
    "takes numbers as inputs, and produces numbers as outputs:"
   ]
  },
  {
   "cell_type": "code",
   "execution_count": null,
   "id": "6d4e3530",
   "metadata": {},
   "outputs": [],
   "source": [
    "def f(x):\n",
    "    return 2*x + 3\n",
    "\n",
    "f(10)"
   ]
  },
  {
   "cell_type": "code",
   "execution_count": null,
   "id": "680f7ed9",
   "metadata": {},
   "outputs": [],
   "source": []
  },
  {
   "cell_type": "markdown",
   "id": "e5a345e3",
   "metadata": {},
   "source": [
    "### Example 2"
   ]
  },
  {
   "cell_type": "code",
   "execution_count": null,
   "id": "839dcba9",
   "metadata": {},
   "outputs": [],
   "source": [
    "# Example from Session 1\n",
    "import random\n",
    "\n",
    "def flip_coin():\n",
    "    r = random.random()\n",
    "    if r < 0.5:\n",
    "        print(\"heads\")\n",
    "    else:\n",
    "        print(\"tails\")\n",
    "\n",
    "flip_coin()  # no return value, but prints output"
   ]
  },
  {
   "cell_type": "markdown",
   "id": "6281a40b",
   "metadata": {},
   "source": [
    "### Example 3\n",
    "\n",
    "Write a function `water_phase(temp)` that takes input temperature `temp` in Celcius,\n",
    "uses if/else statements to find what state water is in (assume pressure is 1atm).\n",
    "The function returns a string, which is one of \"Solid\", \"Liquid\", \"Gas\"."
   ]
  },
  {
   "cell_type": "code",
   "execution_count": null,
   "id": "7c52924f",
   "metadata": {},
   "outputs": [],
   "source": [
    "def water_phase(temp):\n",
    "    \"\"\"\n",
    "    Returns phase of water at `temp`.\n",
    "    Input temp is temperature in Celcius (int or float)\n",
    "    temp must be greater than −273.15.\n",
    "    \"\"\"\n",
    "    if temp > 0 and temp < 100:\n",
    "        return 'Liquid'\n",
    "    elif temp <= 0:\n",
    "        return 'Solid'\n",
    "    elif temp >= 100:\n",
    "        return 'Gas'"
   ]
  },
  {
   "cell_type": "code",
   "execution_count": null,
   "id": "4eee1a52",
   "metadata": {},
   "outputs": [],
   "source": [
    "# help(water_phase)\n",
    "water_phase?"
   ]
  },
  {
   "cell_type": "code",
   "execution_count": null,
   "id": "8340bb31",
   "metadata": {},
   "outputs": [],
   "source": [
    "## tests to try: correct implementation of `water_phase` should return all True\n",
    "print( water_phase(20.0) == \"Liquid\" )\n",
    "print( water_phase(-20.0) == \"Solid\" )\n",
    "print( water_phase(200.0) == \"Gas\" )\n",
    "print( water_phase(0.0) in [\"Liquid\", \"Solid\"] )"
   ]
  },
  {
   "cell_type": "code",
   "execution_count": null,
   "id": "120a86a9",
   "metadata": {},
   "outputs": [],
   "source": [
    "## range tests\n",
    "results = []\n",
    "\n",
    "for temp in range(1, 100):\n",
    "    result = (water_phase(temp) == 'Liquid')\n",
    "    results.append(result)\n",
    "\n",
    "# temp <= 0\n",
    "for temp in range(-100, 1):\n",
    "    result = (water_phase(temp) == 'Solid')\n",
    "    results.append(result)\n",
    "\n",
    "# temp >= 100\n",
    "for temp in range(100, 5000):\n",
    "    result = (water_phase(temp) == 'Gas')\n",
    "    results.append(result)\n",
    "\n",
    "print('Completed a total of', len(results), 'checks...')\n",
    "all(results)  # True if all results are True"
   ]
  },
  {
   "cell_type": "code",
   "execution_count": null,
   "id": "7c02226b",
   "metadata": {},
   "outputs": [],
   "source": [
    "# any = OR for a list\n",
    "# all = AND for a list\n",
    "all([True, True, False])"
   ]
  },
  {
   "cell_type": "code",
   "execution_count": null,
   "id": "42d6774a",
   "metadata": {},
   "outputs": [],
   "source": []
  },
  {
   "cell_type": "markdown",
   "id": "b86d8ef3",
   "metadata": {},
   "source": [
    "## Exercise 2\n",
    "\n",
    "Write a Python function called `aH_to_pH` that converts aH to pH"
   ]
  },
  {
   "cell_type": "code",
   "execution_count": null,
   "id": "78964c7e",
   "metadata": {},
   "outputs": [],
   "source": [
    "import math\n",
    "def ah_to_pH(aH):\n",
    "    \"\"\"\n",
    "    Returns the value of aH convetred to pH.\n",
    "    \"\"\"\n",
    "    if aH <= 0:\n",
    "        print(\"Error aH must be a postive number\")\n",
    "        return\n",
    "    pH = -1*math.log(aH,10)\n",
    "    return pH"
   ]
  },
  {
   "cell_type": "markdown",
   "id": "add18ef9",
   "metadata": {},
   "source": [
    "Test: if aH=7×10−6  the value of the output should be ..."
   ]
  },
  {
   "cell_type": "code",
   "execution_count": null,
   "id": "3b7218d7",
   "metadata": {},
   "outputs": [],
   "source": [
    "# tests for ah_to_pH\n",
    "ah_to_pH(1e-7) == 7.0\n",
    "# ah_to_pH(-11)"
   ]
  },
  {
   "cell_type": "markdown",
   "id": "e21a741c",
   "metadata": {},
   "source": [
    "Write a Python function called `pH_to_aH`  that converts pH to aH"
   ]
  },
  {
   "cell_type": "code",
   "execution_count": null,
   "id": "54dbf5da",
   "metadata": {},
   "outputs": [],
   "source": [
    "# Exercise 3\n",
    "import math\n",
    "def ph_to_aH(pH):\n",
    "  \"value of pH converted to aH: \"\n",
    "  aH=10**(-1*pH)\n",
    "  return aH"
   ]
  },
  {
   "cell_type": "markdown",
   "id": "6b6cc690",
   "metadata": {},
   "source": [
    "Test: if pH=7 the value of the expression should match the answer to the second problem in Mission 2\n",
    "\n",
    "\n",
    "### Exercise 4"
   ]
  },
  {
   "cell_type": "code",
   "execution_count": null,
   "id": "1a0aeed1",
   "metadata": {},
   "outputs": [],
   "source": [
    "import random\n",
    "def roll_die():\n",
    "  call_die = random.randint(1, 6)\n",
    "  return call_die"
   ]
  },
  {
   "cell_type": "code",
   "execution_count": null,
   "id": "d76eaa2a",
   "metadata": {},
   "outputs": [],
   "source": [
    "roll_die()"
   ]
  },
  {
   "cell_type": "code",
   "execution_count": null,
   "id": "05c4361a",
   "metadata": {},
   "outputs": [],
   "source": [
    "for n in range(0,10000):\n",
    "    if roll_die() not in [1,2,3,4,5,6]:\n",
    "        print(\"error\")"
   ]
  },
  {
   "cell_type": "markdown",
   "id": "3a5e4b80",
   "metadata": {},
   "source": [
    "### Exercise 5\n",
    "Complete the function called `roll_backgammon_dice`\n",
    "(call roll_die twice; returns a list with two elements,\n",
    "if roll result is \"double six\" = [6,6], print additional string \"Dü Şeş\" on the screen"
   ]
  },
  {
   "cell_type": "code",
   "execution_count": null,
   "id": "eecd41f1",
   "metadata": {},
   "outputs": [],
   "source": [
    "import random\n",
    "def roll_backgammon_dice():\n",
    "    first = random.randint(1,6)\n",
    "    second = random.randint(1,6)\n",
    "    if first == 6 and second == 6:\n",
    "        print(\"Dü Şeş\")\n",
    "    return [first, second]"
   ]
  },
  {
   "cell_type": "code",
   "execution_count": null,
   "id": "0432f68d",
   "metadata": {},
   "outputs": [],
   "source": [
    "for n in range(0,100):\n",
    "    dice = roll_backgammon_dice()\n",
    "    if dice[0] not in [1,2,3,4,5,6]:\n",
    "        print(\"error\")\n",
    "    if dice[1] not in [1,2,3,4,5,6]:\n",
    "        print(\"error\")\n",
    "    "
   ]
  },
  {
   "cell_type": "markdown",
   "id": "2e147f72",
   "metadata": {},
   "source": [
    "Noe: to create a list of two values:\n",
    "- start with an opening square bracket `[` ,\n",
    "- then put the first value,\n",
    "- comma `,`,\n",
    "- then the second value,\n",
    "- finally close the square bracket `]`"
   ]
  },
  {
   "cell_type": "code",
   "execution_count": null,
   "id": "85ac2547",
   "metadata": {},
   "outputs": [],
   "source": [
    "first_val = 3\n",
    "second_val = 4\n",
    "\n",
    "my_list = [first_val, second_val]\n",
    "my_list"
   ]
  }
 ],
 "metadata": {
  "kernelspec": {
   "display_name": "Python 3 (ipykernel)",
   "language": "python",
   "name": "python3"
  },
  "language_info": {
   "codemirror_mode": {
    "name": "ipython",
    "version": 3
   },
   "file_extension": ".py",
   "mimetype": "text/x-python",
   "name": "python",
   "nbconvert_exporter": "python",
   "pygments_lexer": "ipython3",
   "version": "3.9.4"
  }
 },
 "nbformat": 4,
 "nbformat_minor": 5
}
