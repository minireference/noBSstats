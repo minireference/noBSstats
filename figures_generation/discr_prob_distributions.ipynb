{
 "cells": [
  {
   "cell_type": "markdown",
   "id": "2c4b8858-3c5a-4e11-81ea-01bdf3f535fe",
   "metadata": {},
   "source": [
    "# Plots Section 2.3 Inventory of discrete distributions"
   ]
  },
  {
   "cell_type": "code",
   "execution_count": 2,
   "id": "44312e41-0c1e-4b88-86ef-36a319efd8e0",
   "metadata": {},
   "outputs": [],
   "source": [
    "# TODO: import from notebooks/23_inventory_discrete_dists.ipynb"
   ]
  },
  {
   "cell_type": "code",
   "execution_count": null,
   "id": "30d4221d-292d-40f5-b71e-8b6ce383b633",
   "metadata": {},
   "outputs": [],
   "source": []
  }
 ],
 "metadata": {
  "kernelspec": {
   "display_name": "Python 3 (ipykernel)",
   "language": "python",
   "name": "python3"
  },
  "language_info": {
   "codemirror_mode": {
    "name": "ipython",
    "version": 3
   },
   "file_extension": ".py",
   "mimetype": "text/x-python",
   "name": "python",
   "nbconvert_exporter": "python",
   "pygments_lexer": "ipython3",
   "version": "3.9.4"
  }
 },
 "nbformat": 4,
 "nbformat_minor": 5
}
