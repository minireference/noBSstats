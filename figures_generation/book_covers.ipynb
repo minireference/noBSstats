{
 "cells": [
  {
   "cell_type": "markdown",
   "id": "2ec5ce60-3d14-4068-b87f-0c08ab158fb0",
   "metadata": {},
   "source": [
    "# Figure generation code for the book covers"
   ]
  },
  {
   "cell_type": "code",
   "execution_count": 1,
   "id": "4a1c2940-10b7-4fcf-814f-c579cd11c2fa",
   "metadata": {},
   "outputs": [],
   "source": [
    "# load Python modules\n",
    "import os\n",
    "import numpy as np\n",
    "import pandas as pd\n",
    "import seaborn as sns\n",
    "import matplotlib.pyplot as plt"
   ]
  },
  {
   "cell_type": "code",
   "execution_count": 2,
   "id": "3cc26e0f-7ac0-48d7-94c7-cee5f2d7a538",
   "metadata": {},
   "outputs": [
    {
     "data": {
      "text/plain": [
       "<Figure size 640x480 with 0 Axes>"
      ]
     },
     "metadata": {},
     "output_type": "display_data"
    }
   ],
   "source": [
    "# Figures setup\n",
    "plt.clf()  # needed otherwise `sns.set_theme` doesn\"t work\n",
    "from plot_helpers import RCPARAMS\n",
    "RCPARAMS.update({\"figure.figsize\": (5,2.5)})\n",
    "sns.set_theme(\n",
    "    context=\"paper\",\n",
    "    style=\"whitegrid\",\n",
    "    palette=\"Greys\",\n",
    "    rc=RCPARAMS,\n",
    ")\n",
    "\n",
    "# High-resolution please\n",
    "%config InlineBackend.figure_format = \"retina\"\n",
    "\n",
    "from ministats.utils import savefigure"
   ]
  },
  {
   "cell_type": "code",
   "execution_count": 3,
   "id": "294916fe-808c-422b-8352-125cbe2f8808",
   "metadata": {},
   "outputs": [],
   "source": [
    "# set random seed for repeatability\n",
    "np.random.seed(42)"
   ]
  },
  {
   "cell_type": "code",
   "execution_count": null,
   "id": "7fd42add-3bc6-401a-8599-f3e567a9e4c8",
   "metadata": {},
   "outputs": [],
   "source": []
  },
  {
   "cell_type": "code",
   "execution_count": null,
   "id": "901cbc12-9f83-4437-b8f9-8cb668a6db36",
   "metadata": {},
   "outputs": [],
   "source": []
  },
  {
   "cell_type": "code",
   "execution_count": 4,
   "id": "14bb3f4e-127c-4c3f-bf39-730ae7ba0040",
   "metadata": {},
   "outputs": [
    {
     "name": "stdout",
     "output_type": "stream",
     "text": [
      "Saved figure to figures/bookcovers/sampling_dist_and_CLT.png\n"
     ]
    },
    {
     "data": {
      "image/png": "[encoded data removed]",
      "text/plain": [
       "<Figure size 500x250 with 1 Axes>"
      ]
     },
     "metadata": {
      "image/png": {
       "height": 212,
       "width": 407
      }
     },
     "output_type": "display_data"
    }
   ],
   "source": [
    "from ministats import gen_sampling_dist\n",
    "from scipy.stats import norm\n",
    "\n",
    "\n",
    "mu = 0\n",
    "sigma = 1\n",
    "rvZ = norm(mu, sigma)\n",
    "\n",
    "n = 50\n",
    "N = 2000\n",
    "xlims=[-0.6, 0.6]\n",
    "\n",
    "np.random.seed(450)\n",
    "zbars = gen_sampling_dist(rvZ, np.mean, n=n, N=N)\n",
    "\n",
    "# Plot\n",
    "fig, ax = plt.subplots(figsize=None)\n",
    "sns.histplot(zbars, binwidth=0.02, stat=\"density\", alpha=0.6, color=\"k\", ax=ax)\n",
    "rvZbar = norm(rvZ.mean(), rvZ.std() / np.sqrt(n))\n",
    "xs = np.linspace(*xlims, 1000)\n",
    "sns.lineplot(x=xs, y=rvZbar.pdf(xs), ax=ax, color=\"k\")\n",
    "ax.set_xticks([])\n",
    "ax.set_yticks([])\n",
    "ax.set_ylabel(None)\n",
    "ax.spines['top'].set_visible(False)\n",
    "ax.spines['bottom'].set_visible(False)\n",
    "ax.spines['right'].set_visible(False)\n",
    "ax.spines['left'].set_visible(False)\n",
    "\n",
    "filename = os.path.join(\"figures/bookcovers\", \"sampling_dist_and_CLT.png\")\n",
    "fig.savefig(filename, dpi=600, transparent=True)\n",
    "print(\"Saved figure to\", filename)"
   ]
  },
  {
   "cell_type": "code",
   "execution_count": 5,
   "id": "1a78f470-a83a-4b55-8033-cedf25b67df6",
   "metadata": {},
   "outputs": [],
   "source": [
    "# from ministats import plot_sampling_dists_panel\n",
    "\n",
    "# np.random.seed(46)\n",
    "# fig = plot_sampling_dists_panel(rvZ, rv_name=\"Z\", xlims=[-0.8, 0.8], binwidth=0.045)\n",
    "# ax1, ax2, ax3 = fig.axes\n",
    "\n",
    "# ax1.set_yticks([])\n",
    "# ax1.set_ylabel(None)\n",
    "\n",
    "# ax1.set_xticks([])\n",
    "# ax2.set_xticks([])\n",
    "# ax3.set_xticks([])\n",
    "\n",
    "# ax1.get_legend().remove()\n",
    "# ax2.get_legend().remove()\n",
    "# ax3.get_legend().remove()\n",
    "# ax1.spines['top'].set_visible(False)\n",
    "# ax1.spines['bottom'].set_visible(False)\n",
    "# ax1.spines['right'].set_visible(False)\n",
    "# ax1.spines['left'].set_visible(False)\n",
    "# ax2.spines['top'].set_visible(False)\n",
    "# ax2.spines['bottom'].set_visible(False)\n",
    "# ax2.spines['right'].set_visible(False)\n",
    "# ax2.spines['left'].set_visible(False)\n",
    "# ax3.spines['top'].set_visible(False)\n",
    "# ax3.spines['bottom'].set_visible(False)\n",
    "# ax3.spines['right'].set_visible(False)\n",
    "# ax3.spines['left'].set_visible(False)\n",
    "# filename = os.path.join(\"figures/bookcovers\", \"sampling_dists_and_CLT_predictions.png\")\n",
    "# fig.savefig(filename, dpi=600, transparent=True)\n",
    "# print(\"Saved figure to\", filename)"
   ]
  },
  {
   "cell_type": "code",
   "execution_count": null,
   "id": "57e9d245-d8e1-41d2-bcc5-275283150045",
   "metadata": {},
   "outputs": [],
   "source": []
  },
  {
   "cell_type": "code",
   "execution_count": null,
   "id": "bc791458-9578-4f26-97ce-10868798dd2f",
   "metadata": {},
   "outputs": [],
   "source": []
  },
  {
   "cell_type": "markdown",
   "id": "b25f2db7-4dd4-4469-8cd6-9f00cbcfbf40",
   "metadata": {},
   "source": [
    "## Part 2"
   ]
  },
  {
   "cell_type": "code",
   "execution_count": 6,
   "id": "f996837e-db3e-4614-9849-5278beb5ac6d",
   "metadata": {},
   "outputs": [],
   "source": [
    "from scipy.stats import norm\n",
    "from scipy.stats import t as tdist\n",
    "from ministats.probs import MixtureModel\n",
    "\n",
    "# most men\n",
    "muW = 80\n",
    "sigmaW = 12\n",
    "rvW1 = norm(loc=muW, scale=sigmaW)\n",
    "\n",
    "# heavy men\n",
    "rvW2 = tdist(df=4, loc=120, scale=10)\n",
    "\n",
    "rvWpop = MixtureModel([rvW1, rvW2], weights=[0.98,0.02])"
   ]
  },
  {
   "cell_type": "code",
   "execution_count": 7,
   "id": "2d9755cf-ff16-4d3b-a532-944529580ea9",
   "metadata": {},
   "outputs": [],
   "source": [
    "import numpy as np\n",
    "\n",
    "N = 10000\n",
    "np.random.seed(45)\n",
    "population = rvWpop.rvs(N).round(1)"
   ]
  },
  {
   "cell_type": "code",
   "execution_count": 8,
   "id": "f1fcc090-6d69-406f-aad5-31bb7f8bf429",
   "metadata": {},
   "outputs": [],
   "source": [
    "# population model\n",
    "rvW = norm(loc=muW, scale=sigmaW)"
   ]
  },
  {
   "cell_type": "code",
   "execution_count": 9,
   "id": "45919e42-c28a-4584-b1fa-cd78ec055105",
   "metadata": {},
   "outputs": [
    {
     "data": {
      "text/plain": [
       "array([ 60.1,  78.9,  79. , 104.3,  80. ,  56.8,  52.8,  78.6,  72.8,\n",
       "       104.6,  75.7,  90.8,  79.1,  64.6,  59.3,  76.5,  62.9,  73.8,\n",
       "        71.5,  81.2,  86.8,  67.7,  93.8,  77.8, 112.7,  80.4,  89.5,\n",
       "        69.5,  89.1,  72.5])"
      ]
     },
     "execution_count": 9,
     "metadata": {},
     "output_type": "execute_result"
    }
   ],
   "source": [
    "# np.random.seed(44)\n",
    "# np.random.seed(47)\n",
    "n = 30\n",
    "np.random.seed(48)\n",
    "sample = np.random.choice(population, size=n, replace=False)\n",
    "sample"
   ]
  },
  {
   "cell_type": "code",
   "execution_count": 10,
   "id": "6ce356ac-964e-4552-ab54-5beda48ee73f",
   "metadata": {},
   "outputs": [
    {
     "name": "stdout",
     "output_type": "stream",
     "text": [
      "Saved figure to figures/bookcovers/histplots_weights_pop_and_sample.png\n"
     ]
    },
    {
     "data": {
      "image/png": "[encoded data removed]",
      "text/plain": [
       "<Figure size 600x200 with 2 Axes>"
      ]
     },
     "metadata": {
      "image/png": {
       "height": 219,
       "width": 591
      }
     },
     "output_type": "display_data"
    }
   ],
   "source": [
    "from matplotlib.patches import FancyArrowPatch\n",
    "\n",
    "xlims = [40, 120]\n",
    "\n",
    "wbar = np.mean(sample)\n",
    "wstd = np.std(sample, ddof=1)\n",
    "\n",
    "with plt.rc_context({\"figure.figsize\":(6,2)}):\n",
    "    fig, (ax1,ax2) = plt.subplots(1,2)\n",
    "\n",
    "    # LEFT\n",
    "    # population    \n",
    "    sns.histplot(population, bins=np.arange(*xlims,2), ax=ax1, stat=\"density\", alpha=0.7, color=\"C9\")\n",
    "    ax1.set_title(f\"population\", fontdict={\"fontsize\":14})\n",
    "    # population model\n",
    "    ws = np.linspace(*xlims)\n",
    "    sns.lineplot(x=ws, y=rvW.pdf(ws), ax=ax1, color=\"k\")\n",
    "    ax1.plot([muW, muW], [0, 0.002], color='black', lw=2)  # Short vertical tick\n",
    "    ax1.text(muW, -0.001, r\"$\\mathbf{\\mu}$\", ha=\"center\", va=\"top\", fontsize=13)\n",
    "    ax1.set_xticks([])\n",
    "    ax1.set_yticks([])\n",
    "    ax1.set_xlabel(None)\n",
    "    ax1.set_ylabel(None)\n",
    "    ax1.spines['top'].set_visible(False)\n",
    "    ax1.spines['right'].set_visible(False)\n",
    "    ax1.spines['left'].set_visible(False)\n",
    "    \n",
    "    # RIGHT sample\n",
    "    sns.histplot(sample, bins=range(xlims[0], xlims[1]+1,5), ax=ax2, alpha=1, color=\"C9\")\n",
    "    ax2.set_ylim([0,29])\n",
    "    ax2.set_ylabel(None)\n",
    "    ax2.set_xlabel(None)\n",
    "    ax2.set_xticks([60,80,100,120,140])\n",
    "    ax2.set_title(r\"sample\", fontdict={\"fontsize\":14})\n",
    "    ax2.set_xticks([])\n",
    "    ax2.set_yticks([])\n",
    "    ax2.spines['top'].set_visible(False)\n",
    "    ax2.spines['right'].set_visible(False)\n",
    "    ax2.spines['left'].set_visible(False)\n",
    "\n",
    "    # Sample mean tick + label\n",
    "    y_mid = 1.8\n",
    "    ax2.plot([wbar, wbar], [0, y_mid], color=\"black\", lw=2)  # Short vertical tick\n",
    "    ax2.text(wbar, -1.2, r\"$\\overline{\\mathbf{x}}$\", ha=\"center\", va=\"top\", fontsize=12)\n",
    "\n",
    "    # Statistical inference arrow (Sample → Population, curved lower)\n",
    "    arrow_y_lower = 0.08\n",
    "    arrow2 = FancyArrowPatch(posA=(0.74, arrow_y_lower), posB=(0.255, arrow_y_lower), \n",
    "                             arrowstyle=\"-|>,head_width=0.2,head_length=0.5\", \n",
    "                             mutation_scale=15, color=\"k\", linewidth=1.5, connectionstyle=\"arc3,rad=-0.2\",\n",
    "                             transform=fig.transFigure)\n",
    "    fig.add_artist(arrow2)\n",
    "\n",
    "\n",
    "    filename = os.path.join(\"figures/bookcovers\", \"histplots_weights_pop_and_sample.png\")\n",
    "    fig.tight_layout(w_pad=3)\n",
    "    fig.savefig(filename, transparent=True, dpi=600, bbox_inches=\"tight\")\n",
    "    print(\"Saved figure to\", filename)"
   ]
  },
  {
   "cell_type": "code",
   "execution_count": null,
   "id": "56ca5789-d99d-4cd0-a281-065b1de10464",
   "metadata": {},
   "outputs": [],
   "source": []
  },
  {
   "cell_type": "code",
   "execution_count": null,
   "id": "d2beeb09-24aa-44cb-8069-5fd62973d4a1",
   "metadata": {},
   "outputs": [],
   "source": []
  }
 ],
 "metadata": {
  "kernelspec": {
   "display_name": "Python 3 (ipykernel)",
   "language": "python",
   "name": "python3"
  },
  "language_info": {
   "codemirror_mode": {
    "name": "ipython",
    "version": 3
   },
   "file_extension": ".py",
   "mimetype": "text/x-python",
   "name": "python",
   "nbconvert_exporter": "python",
   "pygments_lexer": "ipython3",
   "version": "3.12.4"
  }
 },
 "nbformat": 4,
 "nbformat_minor": 5
}
