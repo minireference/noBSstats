{
 "cells": [
  {
   "cell_type": "markdown",
   "id": "63b3f436-b0df-4933-823e-2f699a728853",
   "metadata": {},
   "source": [
    "# Generate grades and observations for students\n",
    "\n",
    "Exercise 4 in the Spreadhseets lessons of the \"ICT for teachers\" series\n",
    "\n",
    "https://docs.google.com/spreadsheets/d/1_DRn3FXpLERVhO71pHsYbf_jwxQF8p54M6Niy3If3x0/edit#gid=0\n"
   ]
  },
  {
   "cell_type": "code",
   "execution_count": null,
   "id": "2e64abaa-f44c-418c-9564-f4ef8b68a0eb",
   "metadata": {},
   "outputs": [],
   "source": []
  },
  {
   "cell_type": "markdown",
   "id": "ecb6996d-864e-4113-9a2a-31f908336327",
   "metadata": {
    "tags": []
   },
   "source": [
    "#### Notebook setup"
   ]
  },
  {
   "cell_type": "code",
   "execution_count": 1,
   "id": "c9408d28-9153-495b-b847-6f592222a2ec",
   "metadata": {},
   "outputs": [],
   "source": [
    "# load Python modules\n",
    "import numpy as np\n",
    "import pandas as pd\n",
    "import seaborn as sns\n",
    "import matplotlib.pyplot as plt"
   ]
  },
  {
   "cell_type": "code",
   "execution_count": 2,
   "id": "c95ab94f-0075-482f-a19c-07ddb7b85b73",
   "metadata": {},
   "outputs": [],
   "source": [
    "# Figures setup\n",
    "sns.set_theme(\n",
    "    context=\"paper\",\n",
    "    style=\"whitegrid\",\n",
    "    palette=\"colorblind\",\n",
    "    rc={'figure.figsize': (7,5)},\n",
    ")\n",
    "\n",
    "%config InlineBackend.figure_format = 'retina'\n",
    "\n",
    "DESTDIR = \"figures/prob/probpanels\"  # where to save figures"
   ]
  },
  {
   "cell_type": "code",
   "execution_count": 3,
   "id": "32e0d974-dc21-4022-8206-32c5bc8917c7",
   "metadata": {},
   "outputs": [],
   "source": [
    "# set random seed for repeatability\n",
    "np.random.seed(42)"
   ]
  },
  {
   "cell_type": "code",
   "execution_count": null,
   "id": "37329bca-df6e-4145-93b7-49b00da07012",
   "metadata": {},
   "outputs": [],
   "source": []
  },
  {
   "cell_type": "code",
   "execution_count": 4,
   "id": "a71f0346-69de-40fe-a699-9bf0afe5fa34",
   "metadata": {},
   "outputs": [],
   "source": [
    "from scipy.stats import binom\n",
    "\n",
    "n = 20\n",
    "\n",
    "\n",
    "\n"
   ]
  },
  {
   "cell_type": "code",
   "execution_count": 13,
   "id": "ce990679-7840-4851-8cf8-a35d9a7179de",
   "metadata": {},
   "outputs": [
    {
     "name": "stdout",
     "output_type": "stream",
     "text": [
      "12\t17\t18\t79\t16\t18\t77\n",
      "13\t14\t18\t82\t16\t18\t79\n",
      "15\t15\t15\t76\t18\t18\t77\n",
      "14\t11\t17\t74\t18\t18\t80\n",
      "12\t14\t18\t74\t20\t18\t86\n",
      "11\t13\t17\t79\t17\t17\t82\n",
      "11\t13\t16\t74\t14\t16\t83\n",
      "10\t18\t13\t76\t16\t18\t84\n",
      "14\t15\t14\t84\t15\t20\t79\n",
      "13\t16\t15\t78\t15\t20\t77\n",
      "10\t13\t16\t79\t17\t16\t86\n",
      "10\t15\t17\t86\t15\t20\t72\n",
      "13\t11\t17\t78\t15\t19\t79\n",
      "12\t14\t13\t79\t18\t19\t80\n",
      "15\t16\t19\t81\t16\t16\t81\n",
      "14\t11\t17\t73\t19\t13\t83\n",
      "11\t15\t19\t83\t15\t17\t81\n",
      "13\t12\t14\t79\t17\t18\t78\n",
      "11\t10\t18\t83\t13\t17\t79\n",
      "9\t13\t12\t79\t16\t16\t84\n"
     ]
    }
   ],
   "source": [
    "N = 20   # number of students\n",
    "\n",
    "# hw1\n",
    "p = 0.6\n",
    "rvHW1 = binom(n,p)\n",
    "\n",
    "# hw2\n",
    "p = 0.7\n",
    "rvHW2 = binom(n,p)\n",
    "\n",
    "# hw3\n",
    "p = 0.8\n",
    "rvHW3 = binom(n,p)\n",
    "\n",
    "# midterm\n",
    "p = 0.8\n",
    "rvMIDTERM = binom(100,p)\n",
    "\n",
    "# hw4\n",
    "p = 0.8\n",
    "rvHW4 = binom(n,p)\n",
    "\n",
    "# hw5\n",
    "p = 0.9\n",
    "rvHW5 = binom(n,p)\n",
    "\n",
    "# final\n",
    "p = 0.8\n",
    "rvFINAL = binom(100,p)\n",
    "\n",
    "\n",
    "rvs = [rvHW1, rvHW2, rvHW3, rvMIDTERM, rvHW4, rvHW5, rvFINAL]\n",
    "data = map(lambda rv: rv.rvs(N), rvs)\n",
    "for h1,h2,h3,m,h4,h5,f in zip(*data):\n",
    "    print(h1, h2, h3, m, h4, h5, f, sep=\"\\t\")"
   ]
  },
  {
   "cell_type": "code",
   "execution_count": null,
   "id": "692e9721-034e-461d-9694-3ff4231719e2",
   "metadata": {},
   "outputs": [],
   "source": []
  }
 ],
 "metadata": {
  "kernelspec": {
   "display_name": "Python 3 (ipykernel)",
   "language": "python",
   "name": "python3"
  },
  "language_info": {
   "codemirror_mode": {
    "name": "ipython",
    "version": 3
   },
   "file_extension": ".py",
   "mimetype": "text/x-python",
   "name": "python",
   "nbconvert_exporter": "python",
   "pygments_lexer": "ipython3",
   "version": "3.9.4"
  }
 },
 "nbformat": 4,
 "nbformat_minor": 5
}
