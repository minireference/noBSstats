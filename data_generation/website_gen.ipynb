{
 "cells": [
  {
   "cell_type": "markdown",
   "id": "fbe734c2-5259-4b9b-b69e-180cee8b9a2c",
   "metadata": {},
   "source": [
    "# Generate the website dataset\n"
   ]
  },
  {
   "cell_type": "code",
   "execution_count": 1,
   "id": "4ec9e5e0-89bc-42d3-b72b-5bb5c4f7dcf3",
   "metadata": {},
   "outputs": [],
   "source": [
    "import numpy as np\n",
    "import pandas as pd\n",
    "import matplotlib.pyplot as plt\n",
    "import seaborn as sns"
   ]
  },
  {
   "cell_type": "code",
   "execution_count": 2,
   "id": "9a9e865c-a7ae-4e39-93ae-716f5b8efd19",
   "metadata": {},
   "outputs": [],
   "source": [
    "import sys"
   ]
  },
  {
   "cell_type": "code",
   "execution_count": 17,
   "id": "cbe16143-2593-46be-9421-9f52bc087905",
   "metadata": {},
   "outputs": [],
   "source": [
    "# !{sys.executable} -m pip install Faker"
   ]
  },
  {
   "cell_type": "code",
   "execution_count": 4,
   "id": "f8eaf554-0ca3-4444-8c0a-d675c75955a7",
   "metadata": {},
   "outputs": [],
   "source": [
    "# tools for generating random data\n",
    "import datetime\n",
    "from faker import Faker\n",
    "import random\n",
    "from scipy.stats.distributions import bernoulli\n",
    "\n",
    "faker = Faker()"
   ]
  },
  {
   "cell_type": "code",
   "execution_count": null,
   "id": "ae81be50-cdaa-4093-97ea-bc7adb4f9db1",
   "metadata": {},
   "outputs": [],
   "source": []
  },
  {
   "cell_type": "code",
   "execution_count": 5,
   "id": "e40cff97-9532-41d9-afa3-8c551399662b",
   "metadata": {},
   "outputs": [],
   "source": [
    "N = 2000  # number of visitors total\n",
    "rvA = bernoulli(p=0.42)  # A conversion rate\n",
    "rvB = bernoulli(p=0.56)  # B conversion rate\n",
    "\n",
    "visits_list = []\n",
    "\n",
    "tstart = datetime.datetime.now()\n",
    "\n",
    "for i in range(N):\n",
    "    dt = datetime.timedelta(seconds=random.randint(1, 30))\n",
    "    time = (tstart + dt).strftime('%d/%b/%Y:%H:%M:%S')\n",
    "    version = random.choice([\"A\", \"B\"])\n",
    "    ip = faker.ipv4()\n",
    "    if version == \"A\":\n",
    "        bought = rvA.rvs(1)[0]\n",
    "    if version == \"B\":\n",
    "        bought = rvB.rvs(1)[0]\n",
    "    visit = (ip, version, bought)\n",
    "    visits_list.append(visit)\n",
    "\n",
    "visits = pd.DataFrame(visits_list, columns=[\"ip\", \"version\", \"bought\"])\n"
   ]
  },
  {
   "cell_type": "code",
   "execution_count": 6,
   "id": "5e054667-6c63-44f7-b082-2dabfedb11e4",
   "metadata": {},
   "outputs": [
    {
     "data": {
      "text/html": [
       "<div>\n",
       "<style scoped>\n",
       "    .dataframe tbody tr th:only-of-type {\n",
       "        vertical-align: middle;\n",
       "    }\n",
       "\n",
       "    .dataframe tbody tr th {\n",
       "        vertical-align: top;\n",
       "    }\n",
       "\n",
       "    .dataframe thead th {\n",
       "        text-align: right;\n",
       "    }\n",
       "</style>\n",
       "<table border=\"1\" class=\"dataframe\">\n",
       "  <thead>\n",
       "    <tr style=\"text-align: right;\">\n",
       "      <th></th>\n",
       "      <th>ip</th>\n",
       "      <th>version</th>\n",
       "      <th>bought</th>\n",
       "    </tr>\n",
       "  </thead>\n",
       "  <tbody>\n",
       "    <tr>\n",
       "      <th>0</th>\n",
       "      <td>223.113.235.58</td>\n",
       "      <td>B</td>\n",
       "      <td>1</td>\n",
       "    </tr>\n",
       "    <tr>\n",
       "      <th>1</th>\n",
       "      <td>137.7.38.35</td>\n",
       "      <td>B</td>\n",
       "      <td>1</td>\n",
       "    </tr>\n",
       "    <tr>\n",
       "      <th>2</th>\n",
       "      <td>162.172.99.158</td>\n",
       "      <td>A</td>\n",
       "      <td>1</td>\n",
       "    </tr>\n",
       "    <tr>\n",
       "      <th>3</th>\n",
       "      <td>129.180.51.13</td>\n",
       "      <td>A</td>\n",
       "      <td>1</td>\n",
       "    </tr>\n",
       "    <tr>\n",
       "      <th>4</th>\n",
       "      <td>27.171.162.204</td>\n",
       "      <td>B</td>\n",
       "      <td>0</td>\n",
       "    </tr>\n",
       "    <tr>\n",
       "      <th>...</th>\n",
       "      <td>...</td>\n",
       "      <td>...</td>\n",
       "      <td>...</td>\n",
       "    </tr>\n",
       "    <tr>\n",
       "      <th>1995</th>\n",
       "      <td>209.148.144.201</td>\n",
       "      <td>A</td>\n",
       "      <td>0</td>\n",
       "    </tr>\n",
       "    <tr>\n",
       "      <th>1996</th>\n",
       "      <td>15.246.242.146</td>\n",
       "      <td>B</td>\n",
       "      <td>1</td>\n",
       "    </tr>\n",
       "    <tr>\n",
       "      <th>1997</th>\n",
       "      <td>35.242.237.194</td>\n",
       "      <td>A</td>\n",
       "      <td>0</td>\n",
       "    </tr>\n",
       "    <tr>\n",
       "      <th>1998</th>\n",
       "      <td>14.76.169.8</td>\n",
       "      <td>B</td>\n",
       "      <td>1</td>\n",
       "    </tr>\n",
       "    <tr>\n",
       "      <th>1999</th>\n",
       "      <td>14.195.175.92</td>\n",
       "      <td>A</td>\n",
       "      <td>0</td>\n",
       "    </tr>\n",
       "  </tbody>\n",
       "</table>\n",
       "<p>2000 rows × 3 columns</p>\n",
       "</div>"
      ],
      "text/plain": [
       "                   ip version  bought\n",
       "0      223.113.235.58       B       1\n",
       "1         137.7.38.35       B       1\n",
       "2      162.172.99.158       A       1\n",
       "3       129.180.51.13       A       1\n",
       "4      27.171.162.204       B       0\n",
       "...               ...     ...     ...\n",
       "1995  209.148.144.201       A       0\n",
       "1996   15.246.242.146       B       1\n",
       "1997   35.242.237.194       A       0\n",
       "1998      14.76.169.8       B       1\n",
       "1999    14.195.175.92       A       0\n",
       "\n",
       "[2000 rows x 3 columns]"
      ]
     },
     "execution_count": 6,
     "metadata": {},
     "output_type": "execute_result"
    }
   ],
   "source": [
    "visits"
   ]
  },
  {
   "cell_type": "code",
   "execution_count": 7,
   "id": "878993a2-eda4-4646-ae73-3a13cf59af37",
   "metadata": {},
   "outputs": [
    {
     "data": {
      "text/plain": [
       "version\n",
       "A     997\n",
       "B    1003\n",
       "Name: bought, dtype: int64"
      ]
     },
     "execution_count": 7,
     "metadata": {},
     "output_type": "execute_result"
    }
   ],
   "source": [
    "visits.groupby(\"version\")[\"bought\"].count()"
   ]
  },
  {
   "cell_type": "code",
   "execution_count": 8,
   "id": "3c78b166-4ff8-407f-a190-a7eb2e4518f7",
   "metadata": {},
   "outputs": [
    {
     "data": {
      "text/plain": [
       "version  bought\n",
       "A        0         606\n",
       "         1         391\n",
       "B        1         556\n",
       "         0         447\n",
       "Name: bought, dtype: int64"
      ]
     },
     "execution_count": 8,
     "metadata": {},
     "output_type": "execute_result"
    }
   ],
   "source": [
    "visits.groupby(\"version\")[\"bought\"].value_counts()"
   ]
  },
  {
   "cell_type": "code",
   "execution_count": 9,
   "id": "cd7d3da7-31d0-499f-b784-5063030fcdaa",
   "metadata": {},
   "outputs": [
    {
     "data": {
      "text/plain": [
       "ip         997\n",
       "version    997\n",
       "bought     997\n",
       "dtype: int64"
      ]
     },
     "execution_count": 9,
     "metadata": {},
     "output_type": "execute_result"
    }
   ],
   "source": [
    "visits[visits[\"version\"]==\"A\"].count()"
   ]
  },
  {
   "cell_type": "code",
   "execution_count": 10,
   "id": "815f3179-ddfb-44b7-a25d-2557473d2e5b",
   "metadata": {},
   "outputs": [
    {
     "data": {
      "text/html": [
       "<div>\n",
       "<style scoped>\n",
       "    .dataframe tbody tr th:only-of-type {\n",
       "        vertical-align: middle;\n",
       "    }\n",
       "\n",
       "    .dataframe tbody tr th {\n",
       "        vertical-align: top;\n",
       "    }\n",
       "\n",
       "    .dataframe thead th {\n",
       "        text-align: right;\n",
       "    }\n",
       "</style>\n",
       "<table border=\"1\" class=\"dataframe\">\n",
       "  <thead>\n",
       "    <tr style=\"text-align: right;\">\n",
       "      <th>bought</th>\n",
       "      <th>0</th>\n",
       "      <th>1</th>\n",
       "    </tr>\n",
       "    <tr>\n",
       "      <th>version</th>\n",
       "      <th></th>\n",
       "      <th></th>\n",
       "    </tr>\n",
       "  </thead>\n",
       "  <tbody>\n",
       "    <tr>\n",
       "      <th>A</th>\n",
       "      <td>606</td>\n",
       "      <td>391</td>\n",
       "    </tr>\n",
       "    <tr>\n",
       "      <th>B</th>\n",
       "      <td>447</td>\n",
       "      <td>556</td>\n",
       "    </tr>\n",
       "  </tbody>\n",
       "</table>\n",
       "</div>"
      ],
      "text/plain": [
       "bought     0    1\n",
       "version          \n",
       "A        606  391\n",
       "B        447  556"
      ]
     },
     "execution_count": 10,
     "metadata": {},
     "output_type": "execute_result"
    }
   ],
   "source": [
    "visits.groupby(\"version\")[\"bought\"].value_counts().unstack()"
   ]
  },
  {
   "cell_type": "code",
   "execution_count": 11,
   "id": "54903fd2-2a8f-4a2f-a83d-99046e39d6b0",
   "metadata": {},
   "outputs": [
    {
     "data": {
      "text/html": [
       "<div>\n",
       "<style scoped>\n",
       "    .dataframe tbody tr th:only-of-type {\n",
       "        vertical-align: middle;\n",
       "    }\n",
       "\n",
       "    .dataframe tbody tr th {\n",
       "        vertical-align: top;\n",
       "    }\n",
       "\n",
       "    .dataframe thead th {\n",
       "        text-align: right;\n",
       "    }\n",
       "</style>\n",
       "<table border=\"1\" class=\"dataframe\">\n",
       "  <thead>\n",
       "    <tr style=\"text-align: right;\">\n",
       "      <th>bought</th>\n",
       "      <th>0</th>\n",
       "      <th>1</th>\n",
       "      <th>TOTAL</th>\n",
       "    </tr>\n",
       "    <tr>\n",
       "      <th>version</th>\n",
       "      <th></th>\n",
       "      <th></th>\n",
       "      <th></th>\n",
       "    </tr>\n",
       "  </thead>\n",
       "  <tbody>\n",
       "    <tr>\n",
       "      <th>A</th>\n",
       "      <td>606</td>\n",
       "      <td>391</td>\n",
       "      <td>997</td>\n",
       "    </tr>\n",
       "    <tr>\n",
       "      <th>B</th>\n",
       "      <td>447</td>\n",
       "      <td>556</td>\n",
       "      <td>1003</td>\n",
       "    </tr>\n",
       "    <tr>\n",
       "      <th>TOTAL</th>\n",
       "      <td>1053</td>\n",
       "      <td>947</td>\n",
       "      <td>2000</td>\n",
       "    </tr>\n",
       "  </tbody>\n",
       "</table>\n",
       "</div>"
      ],
      "text/plain": [
       "bought      0    1  TOTAL\n",
       "version                  \n",
       "A         606  391    997\n",
       "B         447  556   1003\n",
       "TOTAL    1053  947   2000"
      ]
     },
     "execution_count": 11,
     "metadata": {},
     "output_type": "execute_result"
    }
   ],
   "source": [
    "ct = pd.crosstab(index=visits[\"version\"], columns=visits[\"bought\"],\n",
    "                 margins=True, margins_name=\"TOTAL\")\n",
    "ct"
   ]
  },
  {
   "cell_type": "code",
   "execution_count": 12,
   "id": "9e4c1460-0d5f-4b70-834e-be103d6e15cc",
   "metadata": {},
   "outputs": [
    {
     "data": {
      "text/plain": [
       "(0.3921765295887663, 0.5543369890329013)"
      ]
     },
     "execution_count": 12,
     "metadata": {},
     "output_type": "execute_result"
    }
   ],
   "source": [
    "pA = ct.loc[\"A\",1] / ct.loc[\"A\",\"TOTAL\"]\n",
    "pB = ct.loc[\"B\",1] / ct.loc[\"B\",\"TOTAL\"]\n",
    "pA, pB"
   ]
  },
  {
   "cell_type": "code",
   "execution_count": 13,
   "id": "17c130e7-3a29-4d68-8f83-4c92c0e334c6",
   "metadata": {},
   "outputs": [
    {
     "name": "stdout",
     "output_type": "stream",
     "text": [
      "\\begin{tabular}{lrrr}\n",
      "\\toprule\n",
      "bought &     0 &    1 &  TOTAL \\\\\n",
      "version &       &      &        \\\\\n",
      "\\midrule\n",
      "A       &   606 &  391 &    997 \\\\\n",
      "B       &   447 &  556 &   1003 \\\\\n",
      "TOTAL   &  1053 &  947 &   2000 \\\\\n",
      "\\bottomrule\n",
      "\\end{tabular}\n",
      "\n"
     ]
    }
   ],
   "source": [
    "print(ct.to_latex())"
   ]
  },
  {
   "cell_type": "code",
   "execution_count": 14,
   "id": "a2d65bab-17c8-479a-86df-0d9d0b588fff",
   "metadata": {},
   "outputs": [
    {
     "data": {
      "text/plain": [
       "0.23837409922847783"
      ]
     },
     "execution_count": 14,
     "metadata": {},
     "output_type": "execute_result"
    }
   ],
   "source": [
    "pA*(1-pA)"
   ]
  },
  {
   "cell_type": "code",
   "execution_count": 27,
   "id": "95665580-8151-4dd8-a5af-16490ab916b7",
   "metadata": {},
   "outputs": [
    {
     "data": {
      "text/plain": [
       "Text(0, 0.5, 'proportion bought')"
      ]
     },
     "execution_count": 27,
     "metadata": {},
     "output_type": "execute_result"
    },
    {
     "data": {
      "image/png": "[encoded data removed]",
      "text/plain": [
       "<Figure size 432x288 with 1 Axes>"
      ]
     },
     "metadata": {
      "needs_background": "light"
     },
     "output_type": "display_data"
    }
   ],
   "source": [
    "ax = sns.barplot(x=\"version\", y=\"bought\", data=visits, capsize=0.3)\n",
    "ax.set_ylabel(\"proportion bought\")"
   ]
  },
  {
   "cell_type": "code",
   "execution_count": 28,
   "id": "43387352-3ea3-4b23-a706-e9201c6d7d05",
   "metadata": {},
   "outputs": [],
   "source": [
    "filename = \"figures/compare_visitors.pdf\"\n",
    "ax.figure.tight_layout()\n",
    "ax.figure.savefig(filename, dpi=300, bbox_inches=\"tight\", pad_inches=0)"
   ]
  },
  {
   "cell_type": "code",
   "execution_count": 26,
   "id": "919225cb-9295-41fd-8847-53c66430d92c",
   "metadata": {},
   "outputs": [],
   "source": [
    "!open ."
   ]
  },
  {
   "cell_type": "markdown",
   "id": "10810db3-ca32-4a8b-a754-065b94d58a33",
   "metadata": {},
   "source": [
    "# Full script\n",
    "\n",
    "TODO: generate fake web server log using https://github.com/kiritbasu/Fake-Apache-Log-Generator/blob/master/apache-fake-log-gen.py"
   ]
  },
  {
   "cell_type": "code",
   "execution_count": null,
   "id": "13dd151e-7dba-4287-bbed-428f383e236c",
   "metadata": {},
   "outputs": [],
   "source": []
  },
  {
   "cell_type": "code",
   "execution_count": null,
   "id": "d86a91d9-2548-4fab-ad31-90a5dd743f3d",
   "metadata": {},
   "outputs": [],
   "source": []
  },
  {
   "cell_type": "code",
   "execution_count": 16,
   "id": "c8f1be1c-425f-4fd9-a2bb-c141e7a06232",
   "metadata": {},
   "outputs": [
    {
     "data": {
      "text/plain": [
       "'Mozilla/5.0 (X11; Linux i686; rv:1.9.6.20) Gecko/2017-04-17 18:21:28 Firefox/11.0'"
      ]
     },
     "execution_count": 16,
     "metadata": {},
     "output_type": "execute_result"
    }
   ],
   "source": [
    "faker.user_agent()"
   ]
  },
  {
   "cell_type": "code",
   "execution_count": null,
   "id": "5f930742-3189-4454-8ce9-3bd316c8f10e",
   "metadata": {},
   "outputs": [],
   "source": []
  }
 ],
 "metadata": {
  "kernelspec": {
   "display_name": "Python 3 (ipykernel)",
   "language": "python",
   "name": "python3"
  },
  "language_info": {
   "codemirror_mode": {
    "name": "ipython",
    "version": 3
   },
   "file_extension": ".py",
   "mimetype": "text/x-python",
   "name": "python",
   "nbconvert_exporter": "python",
   "pygments_lexer": "ipython3",
   "version": "3.9.4"
  }
 },
 "nbformat": 4,
 "nbformat_minor": 5
}
