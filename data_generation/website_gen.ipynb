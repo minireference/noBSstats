{
 "cells": [
  {
   "cell_type": "markdown",
   "id": "fbe734c2-5259-4b9b-b69e-180cee8b9a2c",
   "metadata": {},
   "source": [
    "# Generate the website dataset\n"
   ]
  },
  {
   "cell_type": "code",
   "execution_count": 1,
   "id": "4ec9e5e0-89bc-42d3-b72b-5bb5c4f7dcf3",
   "metadata": {},
   "outputs": [],
   "source": [
    "import numpy as np\n",
    "import pandas as pd\n",
    "import matplotlib.pyplot as plt\n",
    "import seaborn as sns"
   ]
  },
  {
   "cell_type": "code",
   "execution_count": 2,
   "id": "9a9e865c-a7ae-4e39-93ae-716f5b8efd19",
   "metadata": {},
   "outputs": [],
   "source": [
    "import sys"
   ]
  },
  {
   "cell_type": "code",
   "execution_count": 3,
   "id": "cbe16143-2593-46be-9421-9f52bc087905",
   "metadata": {},
   "outputs": [],
   "source": [
    "# !{sys.executable} -m pip install Faker"
   ]
  },
  {
   "cell_type": "code",
   "execution_count": 4,
   "id": "f8eaf554-0ca3-4444-8c0a-d675c75955a7",
   "metadata": {},
   "outputs": [],
   "source": [
    "# tools for generating random data\n",
    "import datetime\n",
    "from faker import Faker\n",
    "import random\n",
    "from scipy.stats.distributions import bernoulli\n",
    "\n",
    "faker = Faker()\n"
   ]
  },
  {
   "cell_type": "code",
   "execution_count": null,
   "id": "ae81be50-cdaa-4093-97ea-bc7adb4f9db1",
   "metadata": {},
   "outputs": [],
   "source": []
  },
  {
   "cell_type": "code",
   "execution_count": 33,
   "id": "e40cff97-9532-41d9-afa3-8c551399662b",
   "metadata": {},
   "outputs": [
    {
     "data": {
      "text/html": [
       "<div>\n",
       "<style scoped>\n",
       "    .dataframe tbody tr th:only-of-type {\n",
       "        vertical-align: middle;\n",
       "    }\n",
       "\n",
       "    .dataframe tbody tr th {\n",
       "        vertical-align: top;\n",
       "    }\n",
       "\n",
       "    .dataframe thead th {\n",
       "        text-align: right;\n",
       "    }\n",
       "</style>\n",
       "<table border=\"1\" class=\"dataframe\">\n",
       "  <thead>\n",
       "    <tr style=\"text-align: right;\">\n",
       "      <th></th>\n",
       "      <th>IP address</th>\n",
       "      <th>version</th>\n",
       "      <th>bought</th>\n",
       "    </tr>\n",
       "  </thead>\n",
       "  <tbody>\n",
       "    <tr>\n",
       "      <th>0</th>\n",
       "      <td>135.185.92.4</td>\n",
       "      <td>B</td>\n",
       "      <td>0</td>\n",
       "    </tr>\n",
       "    <tr>\n",
       "      <th>1</th>\n",
       "      <td>14.75.235.1</td>\n",
       "      <td>A</td>\n",
       "      <td>0</td>\n",
       "    </tr>\n",
       "    <tr>\n",
       "      <th>2</th>\n",
       "      <td>50.132.244.139</td>\n",
       "      <td>B</td>\n",
       "      <td>0</td>\n",
       "    </tr>\n",
       "    <tr>\n",
       "      <th>3</th>\n",
       "      <td>144.181.130.234</td>\n",
       "      <td>A</td>\n",
       "      <td>0</td>\n",
       "    </tr>\n",
       "    <tr>\n",
       "      <th>4</th>\n",
       "      <td>90.92.5.100</td>\n",
       "      <td>B</td>\n",
       "      <td>1</td>\n",
       "    </tr>\n",
       "  </tbody>\n",
       "</table>\n",
       "</div>"
      ],
      "text/plain": [
       "        IP address version  bought\n",
       "0     135.185.92.4       B       0\n",
       "1      14.75.235.1       A       0\n",
       "2   50.132.244.139       B       0\n",
       "3  144.181.130.234       A       0\n",
       "4      90.92.5.100       B       1"
      ]
     },
     "execution_count": 33,
     "metadata": {},
     "output_type": "execute_result"
    }
   ],
   "source": [
    "Faker.seed(19)\n",
    "\n",
    "N = 2000  # number of visitors total\n",
    "rvA = bernoulli(p=0.04)  # A conversion rate\n",
    "rvB = bernoulli(p=0.06)  # B conversion rate\n",
    "\n",
    "visits_list = []\n",
    "\n",
    "tstart = datetime.datetime.now()\n",
    "\n",
    "for i in range(N):\n",
    "    dt = datetime.timedelta(seconds=random.randint(1, 30))\n",
    "    time = (tstart + dt).strftime('%d/%b/%Y:%H:%M:%S')\n",
    "    version = random.choice([\"A\", \"B\"])\n",
    "    ip = faker.ipv4()\n",
    "    if version == \"A\":\n",
    "        bought = rvA.rvs(1)[0]\n",
    "    elif version == \"B\":\n",
    "        bought = rvB.rvs(1)[0]\n",
    "    visit = (ip, version, bought)\n",
    "    visits_list.append(visit)\n",
    "\n",
    "visitors = pd.DataFrame(visits_list, columns=[\"IP address\", \"version\", \"bought\"])\n",
    "visitors.head()"
   ]
  },
  {
   "cell_type": "code",
   "execution_count": null,
   "id": "5e054667-6c63-44f7-b082-2dabfedb11e4",
   "metadata": {},
   "outputs": [],
   "source": []
  },
  {
   "cell_type": "code",
   "execution_count": 35,
   "id": "02ca2d5a-2f83-4f25-b650-ea3d265ac915",
   "metadata": {},
   "outputs": [],
   "source": [
    "# visitors.to_csv(\"../datasets/visitors.csv\", index=False)"
   ]
  },
  {
   "cell_type": "code",
   "execution_count": 36,
   "id": "3c78b166-4ff8-407f-a190-a7eb2e4518f7",
   "metadata": {},
   "outputs": [
    {
     "data": {
      "text/plain": [
       "version  bought\n",
       "A        0         967\n",
       "         1          47\n",
       "B        0         930\n",
       "         1          56\n",
       "Name: bought, dtype: int64"
      ]
     },
     "execution_count": 36,
     "metadata": {},
     "output_type": "execute_result"
    }
   ],
   "source": [
    "visitors.groupby(\"version\")[\"bought\"].value_counts()"
   ]
  },
  {
   "cell_type": "code",
   "execution_count": 37,
   "id": "815f3179-ddfb-44b7-a25d-2557473d2e5b",
   "metadata": {},
   "outputs": [
    {
     "data": {
      "text/html": [
       "<div>\n",
       "<style scoped>\n",
       "    .dataframe tbody tr th:only-of-type {\n",
       "        vertical-align: middle;\n",
       "    }\n",
       "\n",
       "    .dataframe tbody tr th {\n",
       "        vertical-align: top;\n",
       "    }\n",
       "\n",
       "    .dataframe thead th {\n",
       "        text-align: right;\n",
       "    }\n",
       "</style>\n",
       "<table border=\"1\" class=\"dataframe\">\n",
       "  <thead>\n",
       "    <tr style=\"text-align: right;\">\n",
       "      <th>bought</th>\n",
       "      <th>0</th>\n",
       "      <th>1</th>\n",
       "    </tr>\n",
       "    <tr>\n",
       "      <th>version</th>\n",
       "      <th></th>\n",
       "      <th></th>\n",
       "    </tr>\n",
       "  </thead>\n",
       "  <tbody>\n",
       "    <tr>\n",
       "      <th>A</th>\n",
       "      <td>967</td>\n",
       "      <td>47</td>\n",
       "    </tr>\n",
       "    <tr>\n",
       "      <th>B</th>\n",
       "      <td>930</td>\n",
       "      <td>56</td>\n",
       "    </tr>\n",
       "  </tbody>\n",
       "</table>\n",
       "</div>"
      ],
      "text/plain": [
       "bought     0   1\n",
       "version         \n",
       "A        967  47\n",
       "B        930  56"
      ]
     },
     "execution_count": 37,
     "metadata": {},
     "output_type": "execute_result"
    }
   ],
   "source": [
    "visitors.groupby(\"version\")[\"bought\"].value_counts().unstack()"
   ]
  },
  {
   "cell_type": "code",
   "execution_count": 38,
   "id": "54903fd2-2a8f-4a2f-a83d-99046e39d6b0",
   "metadata": {},
   "outputs": [
    {
     "data": {
      "text/html": [
       "<div>\n",
       "<style scoped>\n",
       "    .dataframe tbody tr th:only-of-type {\n",
       "        vertical-align: middle;\n",
       "    }\n",
       "\n",
       "    .dataframe tbody tr th {\n",
       "        vertical-align: top;\n",
       "    }\n",
       "\n",
       "    .dataframe thead th {\n",
       "        text-align: right;\n",
       "    }\n",
       "</style>\n",
       "<table border=\"1\" class=\"dataframe\">\n",
       "  <thead>\n",
       "    <tr style=\"text-align: right;\">\n",
       "      <th>bought</th>\n",
       "      <th>0</th>\n",
       "      <th>1</th>\n",
       "      <th>TOTAL</th>\n",
       "    </tr>\n",
       "    <tr>\n",
       "      <th>version</th>\n",
       "      <th></th>\n",
       "      <th></th>\n",
       "      <th></th>\n",
       "    </tr>\n",
       "  </thead>\n",
       "  <tbody>\n",
       "    <tr>\n",
       "      <th>A</th>\n",
       "      <td>967</td>\n",
       "      <td>47</td>\n",
       "      <td>1014</td>\n",
       "    </tr>\n",
       "    <tr>\n",
       "      <th>B</th>\n",
       "      <td>930</td>\n",
       "      <td>56</td>\n",
       "      <td>986</td>\n",
       "    </tr>\n",
       "    <tr>\n",
       "      <th>TOTAL</th>\n",
       "      <td>1897</td>\n",
       "      <td>103</td>\n",
       "      <td>2000</td>\n",
       "    </tr>\n",
       "  </tbody>\n",
       "</table>\n",
       "</div>"
      ],
      "text/plain": [
       "bought      0    1  TOTAL\n",
       "version                  \n",
       "A         967   47   1014\n",
       "B         930   56    986\n",
       "TOTAL    1897  103   2000"
      ]
     },
     "execution_count": 38,
     "metadata": {},
     "output_type": "execute_result"
    }
   ],
   "source": [
    "ct = pd.crosstab(index=visitors[\"version\"],\n",
    "                 columns=visitors[\"bought\"],\n",
    "                 margins=True, margins_name=\"TOTAL\")\n",
    "ct"
   ]
  },
  {
   "cell_type": "code",
   "execution_count": 41,
   "id": "0093ea9d-c946-42ba-b1ec-ed66b48e194d",
   "metadata": {},
   "outputs": [],
   "source": [
    "# print(ct.style.to_latex())"
   ]
  },
  {
   "cell_type": "code",
   "execution_count": 42,
   "id": "9e4c1460-0d5f-4b70-834e-be103d6e15cc",
   "metadata": {},
   "outputs": [
    {
     "data": {
      "text/plain": [
       "(0.046351084812623275, 0.056795131845841784)"
      ]
     },
     "execution_count": 42,
     "metadata": {},
     "output_type": "execute_result"
    }
   ],
   "source": [
    "pA = ct.loc[\"A\",1] / ct.loc[\"A\",\"TOTAL\"]\n",
    "pB = ct.loc[\"B\",1] / ct.loc[\"B\",\"TOTAL\"]\n",
    "pA, pB"
   ]
  },
  {
   "cell_type": "code",
   "execution_count": 44,
   "id": "17c130e7-3a29-4d68-8f83-4c92c0e334c6",
   "metadata": {},
   "outputs": [],
   "source": [
    "# print(ct.style.to_latex())"
   ]
  },
  {
   "cell_type": "code",
   "execution_count": 12,
   "id": "a2d65bab-17c8-479a-86df-0d9d0b588fff",
   "metadata": {},
   "outputs": [
    {
     "data": {
      "text/plain": [
       "0.021246013083614883"
      ]
     },
     "execution_count": 12,
     "metadata": {},
     "output_type": "execute_result"
    }
   ],
   "source": [
    "pA*(1-pA)"
   ]
  },
  {
   "cell_type": "code",
   "execution_count": 13,
   "id": "95665580-8151-4dd8-a5af-16490ab916b7",
   "metadata": {},
   "outputs": [
    {
     "ename": "NameError",
     "evalue": "name 'visits' is not defined",
     "output_type": "error",
     "traceback": [
      "\u001b[0;31m---------------------------------------------------------------------------\u001b[0m",
      "\u001b[0;31mNameError\u001b[0m                                 Traceback (most recent call last)",
      "Input \u001b[0;32mIn [13]\u001b[0m, in \u001b[0;36m<module>\u001b[0;34m\u001b[0m\n\u001b[0;32m----> 1\u001b[0m ax \u001b[38;5;241m=\u001b[39m sns\u001b[38;5;241m.\u001b[39mbarplot(x\u001b[38;5;241m=\u001b[39m\u001b[38;5;124m\"\u001b[39m\u001b[38;5;124mversion\u001b[39m\u001b[38;5;124m\"\u001b[39m, y\u001b[38;5;241m=\u001b[39m\u001b[38;5;124m\"\u001b[39m\u001b[38;5;124mbought\u001b[39m\u001b[38;5;124m\"\u001b[39m, data\u001b[38;5;241m=\u001b[39m\u001b[43mvisits\u001b[49m, capsize\u001b[38;5;241m=\u001b[39m\u001b[38;5;241m0.3\u001b[39m)\n\u001b[1;32m      2\u001b[0m ax\u001b[38;5;241m.\u001b[39mset_ylabel(\u001b[38;5;124m\"\u001b[39m\u001b[38;5;124mproportion bought\u001b[39m\u001b[38;5;124m\"\u001b[39m)\n",
      "\u001b[0;31mNameError\u001b[0m: name 'visits' is not defined"
     ]
    }
   ],
   "source": [
    "ax = sns.barplot(x=\"version\", y=\"bought\", data=visits, capsize=0.3)\n",
    "ax.set_ylabel(\"proportion bought\")"
   ]
  },
  {
   "cell_type": "code",
   "execution_count": null,
   "id": "43387352-3ea3-4b23-a706-e9201c6d7d05",
   "metadata": {},
   "outputs": [],
   "source": [
    "filename = \"figures/compare_visitors.pdf\"\n",
    "ax.figure.tight_layout()\n",
    "ax.figure.savefig(filename, dpi=300, bbox_inches=\"tight\", pad_inches=0)"
   ]
  },
  {
   "cell_type": "code",
   "execution_count": null,
   "id": "919225cb-9295-41fd-8847-53c66430d92c",
   "metadata": {},
   "outputs": [],
   "source": []
  },
  {
   "cell_type": "markdown",
   "id": "10810db3-ca32-4a8b-a754-065b94d58a33",
   "metadata": {},
   "source": [
    "# Full script\n",
    "\n",
    "TODO: generate fake web server log using https://github.com/kiritbasu/Fake-Apache-Log-Generator/blob/master/apache-fake-log-gen.py"
   ]
  },
  {
   "cell_type": "code",
   "execution_count": null,
   "id": "13dd151e-7dba-4287-bbed-428f383e236c",
   "metadata": {},
   "outputs": [],
   "source": []
  },
  {
   "cell_type": "code",
   "execution_count": null,
   "id": "d86a91d9-2548-4fab-ad31-90a5dd743f3d",
   "metadata": {},
   "outputs": [],
   "source": []
  },
  {
   "cell_type": "code",
   "execution_count": null,
   "id": "c8f1be1c-425f-4fd9-a2bb-c141e7a06232",
   "metadata": {},
   "outputs": [],
   "source": [
    "faker.user_agent()"
   ]
  },
  {
   "cell_type": "code",
   "execution_count": null,
   "id": "5f930742-3189-4454-8ce9-3bd316c8f10e",
   "metadata": {},
   "outputs": [],
   "source": []
  }
 ],
 "metadata": {
  "kernelspec": {
   "display_name": "Python 3 (ipykernel)",
   "language": "python",
   "name": "python3"
  },
  "language_info": {
   "codemirror_mode": {
    "name": "ipython",
    "version": 3
   },
   "file_extension": ".py",
   "mimetype": "text/x-python",
   "name": "python",
   "nbconvert_exporter": "python",
   "pygments_lexer": "ipython3",
   "version": "3.9.4"
  }
 },
 "nbformat": 4,
 "nbformat_minor": 5
}
