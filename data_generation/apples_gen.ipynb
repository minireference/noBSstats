{
 "cells": [
  {
   "cell_type": "markdown",
   "id": "8e44527c-a6b6-4b5d-972d-38becae0c5b4",
   "metadata": {},
   "source": [
    "# Generate the `apples` dataset"
   ]
  },
  {
   "cell_type": "code",
   "execution_count": 1,
   "id": "747cc707-d36b-44f5-b96a-3b2cc0bdf10f",
   "metadata": {},
   "outputs": [],
   "source": [
    "datafilepath = \"../datasets/apples.csv\""
   ]
  },
  {
   "cell_type": "code",
   "execution_count": 2,
   "id": "28c0ab8e-72b2-4f4c-b229-4d0570ebe862",
   "metadata": {},
   "outputs": [],
   "source": [
    "import numpy as np\n",
    "import pandas as pd\n",
    "import matplotlib.pyplot as plt\n",
    "import seaborn as sns"
   ]
  },
  {
   "cell_type": "code",
   "execution_count": null,
   "id": "085ca230-4191-43f2-a4a3-3cb0a1f41a0a",
   "metadata": {},
   "outputs": [],
   "source": []
  },
  {
   "cell_type": "code",
   "execution_count": 3,
   "id": "6c5ad4f6-a0b7-4727-9780-533a13d5f04c",
   "metadata": {},
   "outputs": [],
   "source": [
    "from scipy.stats import norm\n",
    "\n",
    "mu = 150\n",
    "sigma = 20\n",
    "rvA = norm(mu, sigma)\n"
   ]
  },
  {
   "cell_type": "code",
   "execution_count": 4,
   "id": "fede51db-f08a-4375-b87b-82aadf18d1dd",
   "metadata": {},
   "outputs": [
    {
     "data": {
      "text/html": [
       "<div>\n",
       "<style scoped>\n",
       "    .dataframe tbody tr th:only-of-type {\n",
       "        vertical-align: middle;\n",
       "    }\n",
       "\n",
       "    .dataframe tbody tr th {\n",
       "        vertical-align: top;\n",
       "    }\n",
       "\n",
       "    .dataframe thead th {\n",
       "        text-align: right;\n",
       "    }\n",
       "</style>\n",
       "<table border=\"1\" class=\"dataframe\">\n",
       "  <thead>\n",
       "    <tr style=\"text-align: right;\">\n",
       "      <th></th>\n",
       "      <th>count</th>\n",
       "      <th>mean</th>\n",
       "      <th>std</th>\n",
       "      <th>min</th>\n",
       "      <th>25%</th>\n",
       "      <th>50%</th>\n",
       "      <th>75%</th>\n",
       "      <th>max</th>\n",
       "    </tr>\n",
       "  </thead>\n",
       "  <tbody>\n",
       "    <tr>\n",
       "      <th>weight</th>\n",
       "      <td>40.0</td>\n",
       "      <td>153.43475</td>\n",
       "      <td>19.481392</td>\n",
       "      <td>110.45</td>\n",
       "      <td>142.5575</td>\n",
       "      <td>153.3</td>\n",
       "      <td>165.875</td>\n",
       "      <td>197.7</td>\n",
       "    </tr>\n",
       "  </tbody>\n",
       "</table>\n",
       "</div>"
      ],
      "text/plain": [
       "        count       mean        std     min       25%    50%      75%    max\n",
       "weight   40.0  153.43475  19.481392  110.45  142.5575  153.3  165.875  197.7"
      ]
     },
     "execution_count": 4,
     "metadata": {},
     "output_type": "execute_result"
    }
   ],
   "source": [
    "n = 40\n",
    "np.random.seed(10)\n",
    "weights = rvA.rvs(n)\n",
    "\n",
    "weights = weights.round(2)\n",
    "\n",
    "apples = pd.DataFrame({\"weight\":weights})\n",
    "apples.describe().T"
   ]
  },
  {
   "cell_type": "code",
   "execution_count": 5,
   "id": "02ca2d5a-2f83-4f25-b650-ea3d265ac915",
   "metadata": {},
   "outputs": [],
   "source": [
    "# # SAVE TO DATAFILE\n",
    "# apples.to_csv(datafilepath, index=False)"
   ]
  },
  {
   "cell_type": "code",
   "execution_count": 6,
   "id": "5369fad4-bd87-4d7d-9fc9-80a5193f36a6",
   "metadata": {},
   "outputs": [
    {
     "data": {
      "text/html": [
       "<div>\n",
       "<style scoped>\n",
       "    .dataframe tbody tr th:only-of-type {\n",
       "        vertical-align: middle;\n",
       "    }\n",
       "\n",
       "    .dataframe tbody tr th {\n",
       "        vertical-align: top;\n",
       "    }\n",
       "\n",
       "    .dataframe thead th {\n",
       "        text-align: right;\n",
       "    }\n",
       "</style>\n",
       "<table border=\"1\" class=\"dataframe\">\n",
       "  <thead>\n",
       "    <tr style=\"text-align: right;\">\n",
       "      <th></th>\n",
       "      <th>weight</th>\n",
       "    </tr>\n",
       "  </thead>\n",
       "  <tbody>\n",
       "    <tr>\n",
       "      <th>0</th>\n",
       "      <td>176.63</td>\n",
       "    </tr>\n",
       "    <tr>\n",
       "      <th>1</th>\n",
       "      <td>164.31</td>\n",
       "    </tr>\n",
       "    <tr>\n",
       "      <th>2</th>\n",
       "      <td>119.09</td>\n",
       "    </tr>\n",
       "    <tr>\n",
       "      <th>3</th>\n",
       "      <td>149.83</td>\n",
       "    </tr>\n",
       "    <tr>\n",
       "      <th>4</th>\n",
       "      <td>162.43</td>\n",
       "    </tr>\n",
       "  </tbody>\n",
       "</table>\n",
       "</div>"
      ],
      "text/plain": [
       "   weight\n",
       "0  176.63\n",
       "1  164.31\n",
       "2  119.09\n",
       "3  149.83\n",
       "4  162.43"
      ]
     },
     "execution_count": 6,
     "metadata": {},
     "output_type": "execute_result"
    }
   ],
   "source": [
    "# RELOAD FROM DATAFILE\n",
    "apples = pd.read_csv(datafilepath)\n",
    "apples.head()"
   ]
  },
  {
   "cell_type": "code",
   "execution_count": 7,
   "id": "828f6006-3a29-454d-9a4e-abed233e4fe5",
   "metadata": {},
   "outputs": [
    {
     "data": {
      "text/plain": [
       "153.43474999999998"
      ]
     },
     "execution_count": 7,
     "metadata": {},
     "output_type": "execute_result"
    }
   ],
   "source": [
    "apples['weight'].mean()"
   ]
  },
  {
   "cell_type": "code",
   "execution_count": 8,
   "id": "600a46ec-9012-4efd-81f2-2323c3ed95cd",
   "metadata": {},
   "outputs": [
    {
     "data": {
      "text/plain": [
       "19.481391777204294"
      ]
     },
     "execution_count": 8,
     "metadata": {},
     "output_type": "execute_result"
    }
   ],
   "source": [
    "apples['weight'].std()"
   ]
  },
  {
   "cell_type": "code",
   "execution_count": 9,
   "id": "57b3d00e-ba5d-485b-b2b1-ac5f3b04f64e",
   "metadata": {},
   "outputs": [
    {
     "data": {
      "text/plain": [
       "<AxesSubplot:xlabel='weight', ylabel='Density'>"
      ]
     },
     "execution_count": 9,
     "metadata": {},
     "output_type": "execute_result"
    },
    {
     "data": {
      "image/png": "[encoded data removed]",
      "text/plain": [
       "<Figure size 432x288 with 1 Axes>"
      ]
     },
     "metadata": {
      "needs_background": "light"
     },
     "output_type": "display_data"
    }
   ],
   "source": [
    "sns.kdeplot(x=\"weight\", data=apples)"
   ]
  },
  {
   "cell_type": "code",
   "execution_count": null,
   "id": "34e98fe3-1d3f-4e23-a2ed-1ac017dd0a5f",
   "metadata": {},
   "outputs": [],
   "source": []
  },
  {
   "cell_type": "code",
   "execution_count": null,
   "id": "ccabba5f-82ed-449c-849d-dfc5e6b8680b",
   "metadata": {},
   "outputs": [],
   "source": []
  }
 ],
 "metadata": {
  "kernelspec": {
   "display_name": "Python 3 (ipykernel)",
   "language": "python",
   "name": "python3"
  },
  "language_info": {
   "codemirror_mode": {
    "name": "ipython",
    "version": 3
   },
   "file_extension": ".py",
   "mimetype": "text/x-python",
   "name": "python",
   "nbconvert_exporter": "python",
   "pygments_lexer": "ipython3",
   "version": "3.9.4"
  }
 },
 "nbformat": 4,
 "nbformat_minor": 5
}
