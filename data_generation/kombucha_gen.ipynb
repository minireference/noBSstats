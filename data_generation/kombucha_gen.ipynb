{
 "cells": [
  {
   "cell_type": "markdown",
   "id": "8e44527c-a6b6-4b5d-972d-38becae0c5b4",
   "metadata": {},
   "source": [
    "# Generate the `kombucha` dataset\n",
    "\n",
    "\n",
    "TODOs:\n",
    "- [ ] vary sample sizes"
   ]
  },
  {
   "cell_type": "code",
   "execution_count": 1,
   "id": "747cc707-d36b-44f5-b96a-3b2cc0bdf10f",
   "metadata": {},
   "outputs": [],
   "source": [
    "datafilepath = \"../datasets/kombucha.csv\""
   ]
  },
  {
   "cell_type": "code",
   "execution_count": 2,
   "id": "28c0ab8e-72b2-4f4c-b229-4d0570ebe862",
   "metadata": {},
   "outputs": [],
   "source": [
    "import numpy as np\n",
    "import pandas as pd\n",
    "import matplotlib.pyplot as plt\n",
    "import seaborn as sns"
   ]
  },
  {
   "cell_type": "code",
   "execution_count": 3,
   "id": "085ca230-4191-43f2-a4a3-3cb0a1f41a0a",
   "metadata": {},
   "outputs": [],
   "source": [
    "from scipy.stats import norm\n",
    "from scipy.stats import chi2"
   ]
  },
  {
   "cell_type": "markdown",
   "id": "92028721-ff73-45c8-b031-9024b430e028",
   "metadata": {},
   "source": [
    "## Generate the batches"
   ]
  },
  {
   "cell_type": "code",
   "execution_count": 4,
   "id": "fede51db-f08a-4375-b87b-82aadf18d1dd",
   "metadata": {},
   "outputs": [
    {
     "name": "stdout",
     "output_type": "stream",
     "text": [
      "Generating batch 1\n",
      "Generating batch 2\n",
      "Generating batch 3\n",
      "Generating batch 4\n",
      "Generating batch 5\n",
      "Generating batch 6\n",
      "Generating batch 7\n",
      "Generating batch 8\n",
      "Generating batch 9\n",
      "Generating batch 10\n",
      "  adding outliers {'index': 3, 'value': 1060}\n"
     ]
    }
   ],
   "source": [
    "default_n = 40\n",
    "default_params = (1000, 10)\n",
    "default_settings = {\"n\":default_n, \"params\":default_params}\n",
    "\n",
    "\n",
    "nbatches = 10\n",
    "# batch indices go from `1` until `nbatches+1`\n",
    "batch_settings = {\n",
    "    1: {\"seed\":1, \"n\":40},\n",
    "    2: {\"seed\":2, \"n\":20},\n",
    "    3: {\"seed\":3, \"n\":30},\n",
    "    4: {\"seed\":4, \"params\":(1005,10)},\n",
    "    5: {\"seed\":5, \"params\":(1002,10)},\n",
    "    6: {\"seed\":6, \"params\":( 995,10), },\n",
    "    7: {\"seed\":7, \"params\":( 999,10)},\n",
    "    8: {\"seed\":34, \"params\":(1000,14)},\n",
    "    9: {\"seed\":36, \"params\":(1000,11)},\n",
    "    10: {\"seed\":10}, # outlier added later...\n",
    "}\n",
    "\n",
    "outliers_to_add = {\n",
    "    10: {\"index\":3, \"value\":1060}\n",
    "}\n",
    "\n",
    "\n",
    "np.random.seed(15)\n",
    "data = {\n",
    "    \"batch\": [],\n",
    "    \"volume\": []\n",
    "}\n",
    "for batch in range(1, nbatches+1):\n",
    "    print(\"Generating batch\", batch)\n",
    "    settings = batch_settings.get(batch, default_settings)\n",
    "    mu, sigma = settings.get(\"params\", default_params)\n",
    "    rvK = norm(mu, sigma)\n",
    "    n = settings.get(\"n\", default_n)\n",
    "    \n",
    "    if \"seed\" in settings:\n",
    "        np.random.seed(settings[\"seed\"])\n",
    "    else:\n",
    "        np.random.seed(batch)\n",
    "    volumes = rvK.rvs(n)\n",
    "    volumes = volumes.round(2)\n",
    "\n",
    "    if batch in outliers_to_add:\n",
    "        outliers_dict = outliers_to_add[batch]\n",
    "        print(\"  adding outliers\", outliers_dict)\n",
    "        index = outliers_dict[\"index\"]\n",
    "        assert index < n, \"outlier index out of range\"\n",
    "        value = outliers_dict[\"value\"]\n",
    "        volumes[index] = value\n",
    "\n",
    "    data[\"batch\"].extend([batch]*n)\n",
    "    data[\"volume\"].extend(volumes)\n",
    "\n",
    "kombucha = pd.DataFrame(data)"
   ]
  },
  {
   "cell_type": "markdown",
   "id": "20b0a7f0-bb1c-4617-8911-455ab0ac29ff",
   "metadata": {},
   "source": [
    "### Descriptive statistics checks"
   ]
  },
  {
   "cell_type": "code",
   "execution_count": 5,
   "id": "cb8a5540-f7a8-46dc-bf39-69d18c5a4eb1",
   "metadata": {},
   "outputs": [
    {
     "data": {
      "text/html": [
       "<div>\n",
       "<style scoped>\n",
       "    .dataframe tbody tr th:only-of-type {\n",
       "        vertical-align: middle;\n",
       "    }\n",
       "\n",
       "    .dataframe tbody tr th {\n",
       "        vertical-align: top;\n",
       "    }\n",
       "\n",
       "    .dataframe thead th {\n",
       "        text-align: right;\n",
       "    }\n",
       "</style>\n",
       "<table border=\"1\" class=\"dataframe\">\n",
       "  <thead>\n",
       "    <tr style=\"text-align: right;\">\n",
       "      <th></th>\n",
       "      <th>n</th>\n",
       "      <th>mean</th>\n",
       "      <th>std</th>\n",
       "      <th>min</th>\n",
       "      <th>max</th>\n",
       "    </tr>\n",
       "    <tr>\n",
       "      <th>batch</th>\n",
       "      <th></th>\n",
       "      <th></th>\n",
       "      <th></th>\n",
       "      <th></th>\n",
       "      <th></th>\n",
       "    </tr>\n",
       "  </thead>\n",
       "  <tbody>\n",
       "    <tr>\n",
       "      <th>1</th>\n",
       "      <td>40</td>\n",
       "      <td>999.10375</td>\n",
       "      <td>9.769163</td>\n",
       "      <td>976.98</td>\n",
       "      <td>1017.45</td>\n",
       "    </tr>\n",
       "    <tr>\n",
       "      <th>2</th>\n",
       "      <td>20</td>\n",
       "      <td>997.90700</td>\n",
       "      <td>11.149780</td>\n",
       "      <td>978.64</td>\n",
       "      <td>1022.92</td>\n",
       "    </tr>\n",
       "    <tr>\n",
       "      <th>3</th>\n",
       "      <td>30</td>\n",
       "      <td>998.75100</td>\n",
       "      <td>9.248441</td>\n",
       "      <td>981.37</td>\n",
       "      <td>1017.89</td>\n",
       "    </tr>\n",
       "    <tr>\n",
       "      <th>4</th>\n",
       "      <td>40</td>\n",
       "      <td>1005.47575</td>\n",
       "      <td>10.408956</td>\n",
       "      <td>981.42</td>\n",
       "      <td>1027.23</td>\n",
       "    </tr>\n",
       "    <tr>\n",
       "      <th>5</th>\n",
       "      <td>40</td>\n",
       "      <td>1002.59700</td>\n",
       "      <td>9.102913</td>\n",
       "      <td>985.35</td>\n",
       "      <td>1026.31</td>\n",
       "    </tr>\n",
       "    <tr>\n",
       "      <th>6</th>\n",
       "      <td>40</td>\n",
       "      <td>995.99550</td>\n",
       "      <td>10.749074</td>\n",
       "      <td>970.13</td>\n",
       "      <td>1021.31</td>\n",
       "    </tr>\n",
       "    <tr>\n",
       "      <th>7</th>\n",
       "      <td>40</td>\n",
       "      <td>997.99775</td>\n",
       "      <td>10.813894</td>\n",
       "      <td>976.12</td>\n",
       "      <td>1019.29</td>\n",
       "    </tr>\n",
       "    <tr>\n",
       "      <th>8</th>\n",
       "      <td>40</td>\n",
       "      <td>999.07100</td>\n",
       "      <td>13.038325</td>\n",
       "      <td>970.67</td>\n",
       "      <td>1025.41</td>\n",
       "    </tr>\n",
       "    <tr>\n",
       "      <th>9</th>\n",
       "      <td>40</td>\n",
       "      <td>996.82600</td>\n",
       "      <td>12.181816</td>\n",
       "      <td>975.83</td>\n",
       "      <td>1024.61</td>\n",
       "    </tr>\n",
       "    <tr>\n",
       "      <th>10</th>\n",
       "      <td>40</td>\n",
       "      <td>1003.21975</td>\n",
       "      <td>13.400875</td>\n",
       "      <td>980.22</td>\n",
       "      <td>1060.00</td>\n",
       "    </tr>\n",
       "  </tbody>\n",
       "</table>\n",
       "</div>"
      ],
      "text/plain": [
       "        n        mean        std     min      max\n",
       "batch                                            \n",
       "1      40   999.10375   9.769163  976.98  1017.45\n",
       "2      20   997.90700  11.149780  978.64  1022.92\n",
       "3      30   998.75100   9.248441  981.37  1017.89\n",
       "4      40  1005.47575  10.408956  981.42  1027.23\n",
       "5      40  1002.59700   9.102913  985.35  1026.31\n",
       "6      40   995.99550  10.749074  970.13  1021.31\n",
       "7      40   997.99775  10.813894  976.12  1019.29\n",
       "8      40   999.07100  13.038325  970.67  1025.41\n",
       "9      40   996.82600  12.181816  975.83  1024.61\n",
       "10     40  1003.21975  13.400875  980.22  1060.00"
      ]
     },
     "execution_count": 5,
     "metadata": {},
     "output_type": "execute_result"
    }
   ],
   "source": [
    "summary = kombucha.groupby(\"batch\").describe()\n",
    "summary.columns = summary.columns.droplevel()\n",
    "summary['count'] = summary['count'].astype(int)\n",
    "summary = summary.rename(columns={\"count\":\"n\"}) \\\n",
    "                 .drop(columns=[\"25%\", \"50%\", \"75%\"])\n",
    "summary"
   ]
  },
  {
   "cell_type": "code",
   "execution_count": 6,
   "id": "02ca2d5a-2f83-4f25-b650-ea3d265ac915",
   "metadata": {},
   "outputs": [],
   "source": [
    "# # SAVE TO DATAFILE\n",
    "# kombucha.to_csv(datafilepath, index=False)"
   ]
  },
  {
   "cell_type": "code",
   "execution_count": 7,
   "id": "5369fad4-bd87-4d7d-9fc9-80a5193f36a6",
   "metadata": {},
   "outputs": [
    {
     "data": {
      "text/html": [
       "<div>\n",
       "<style scoped>\n",
       "    .dataframe tbody tr th:only-of-type {\n",
       "        vertical-align: middle;\n",
       "    }\n",
       "\n",
       "    .dataframe tbody tr th {\n",
       "        vertical-align: top;\n",
       "    }\n",
       "\n",
       "    .dataframe thead th {\n",
       "        text-align: right;\n",
       "    }\n",
       "</style>\n",
       "<table border=\"1\" class=\"dataframe\">\n",
       "  <thead>\n",
       "    <tr style=\"text-align: right;\">\n",
       "      <th></th>\n",
       "      <th>batch</th>\n",
       "      <th>volume</th>\n",
       "    </tr>\n",
       "  </thead>\n",
       "  <tbody>\n",
       "    <tr>\n",
       "      <th>0</th>\n",
       "      <td>1</td>\n",
       "      <td>1016.24</td>\n",
       "    </tr>\n",
       "    <tr>\n",
       "      <th>1</th>\n",
       "      <td>1</td>\n",
       "      <td>993.88</td>\n",
       "    </tr>\n",
       "    <tr>\n",
       "      <th>2</th>\n",
       "      <td>1</td>\n",
       "      <td>994.72</td>\n",
       "    </tr>\n",
       "    <tr>\n",
       "      <th>3</th>\n",
       "      <td>1</td>\n",
       "      <td>989.27</td>\n",
       "    </tr>\n",
       "    <tr>\n",
       "      <th>4</th>\n",
       "      <td>1</td>\n",
       "      <td>1008.65</td>\n",
       "    </tr>\n",
       "  </tbody>\n",
       "</table>\n",
       "</div>"
      ],
      "text/plain": [
       "   batch   volume\n",
       "0      1  1016.24\n",
       "1      1   993.88\n",
       "2      1   994.72\n",
       "3      1   989.27\n",
       "4      1  1008.65"
      ]
     },
     "execution_count": 7,
     "metadata": {},
     "output_type": "execute_result"
    }
   ],
   "source": [
    "# RELOAD FROM DATAFILE\n",
    "kombucha = pd.read_csv(datafilepath)\n",
    "kombucha.head()"
   ]
  },
  {
   "cell_type": "markdown",
   "id": "bac912c5-584a-48af-b1e4-337d00000a81",
   "metadata": {},
   "source": [
    "### Visual inspection"
   ]
  },
  {
   "cell_type": "code",
   "execution_count": 8,
   "id": "57b3d00e-ba5d-485b-b2b1-ac5f3b04f64e",
   "metadata": {},
   "outputs": [
    {
     "data": {
      "text/plain": [
       "<seaborn.axisgrid.FacetGrid at 0x12eeca610>"
      ]
     },
     "execution_count": 8,
     "metadata": {},
     "output_type": "execute_result"
    },
    {
     "data": {
      "image/png": "[encoded data removed]",
      "text/plain": [
       "<Figure size 1080x1440 with 10 Axes>"
      ]
     },
     "metadata": {
      "needs_background": "light"
     },
     "output_type": "display_data"
    }
   ],
   "source": [
    "sns.displot(x=\"volume\", col=\"batch\", kind=\"kde\", data=kombucha, col_wrap=3)"
   ]
  },
  {
   "cell_type": "code",
   "execution_count": null,
   "id": "34e98fe3-1d3f-4e23-a2ed-1ac017dd0a5f",
   "metadata": {},
   "outputs": [],
   "source": []
  },
  {
   "cell_type": "code",
   "execution_count": null,
   "id": "ccabba5f-82ed-449c-849d-dfc5e6b8680b",
   "metadata": {},
   "outputs": [],
   "source": []
  },
  {
   "cell_type": "markdown",
   "id": "d2ad9572-34c7-41e3-a863-773eb1c491d8",
   "metadata": {},
   "source": [
    "## Tests"
   ]
  },
  {
   "cell_type": "code",
   "execution_count": 9,
   "id": "851a151e-f36b-45db-8655-63d486823a05",
   "metadata": {},
   "outputs": [],
   "source": [
    "pop_mu, pop_sigma = default_params\n",
    "\n",
    "def ztest(sample, mu=pop_mu, sigma=pop_sigma):\n",
    "    \"\"\"\n",
    "    Z-test to detect mean deviation from known normal population.\n",
    "    \"\"\"\n",
    "    mean = np.mean(sample)\n",
    "    n = len(sample)\n",
    "    se = sigma / np.sqrt(n)\n",
    "    obsz = (mean - mu) / se\n",
    "    absz = abs(obsz)\n",
    "    pval = norm.cdf(-absz) + 1-norm.cdf(absz)\n",
    "    return obsz, pval\n",
    "\n",
    "def chi2test(sample, sigma=pop_sigma, onesided=False):\n",
    "    \"\"\"\n",
    "    Two-sided chi2 test to detect sample variance deviation\n",
    "    from a known population variance `sigma`.\n",
    "    \"\"\"\n",
    "    n = len(sample)\n",
    "    s2 = sample.var()\n",
    "    obschi2 = (n-1)*s2 / sigma**2\n",
    "    df = n-1\n",
    "    rvX2 = chi2(df)\n",
    "    if onesided:\n",
    "        pval = 1-rvX2.cdf(obschi2)\n",
    "    else:\n",
    "        p_lower = rvX2.cdf(obschi2)\n",
    "        p_upper = 1-rvX2.cdf(obschi2)\n",
    "        pval = 2*min(p_lower, p_upper)\n",
    "    return obschi2, pval"
   ]
  },
  {
   "cell_type": "markdown",
   "id": "64972f6a-f61d-46e5-87ff-db1e0bf3f1d1",
   "metadata": {},
   "source": [
    "### Two normal batches\n"
   ]
  },
  {
   "cell_type": "code",
   "execution_count": 10,
   "id": "0e101bc6-15c7-46a3-8a3b-23e77def9ddf",
   "metadata": {},
   "outputs": [],
   "source": [
    "kombu01 = kombucha[kombucha[\"batch\"]==1][\"volume\"].values\n",
    "kombu02 = kombucha[kombucha[\"batch\"]==2][\"volume\"].values\n",
    "\n",
    "assert ztest(kombu01)[1] > 0.05\n",
    "assert ztest(kombu02)[1] > 0.05\n",
    "assert chi2test(kombu01)[1] > 0.05\n",
    "assert chi2test(kombu02)[1] > 0.05"
   ]
  },
  {
   "cell_type": "markdown",
   "id": "5a2cab9e-3a47-42e4-b979-72768be70ddb",
   "metadata": {},
   "source": [
    "### Mean different from population\n"
   ]
  },
  {
   "cell_type": "code",
   "execution_count": 11,
   "id": "c3215fc0-4414-4a76-92c4-b3b9d5f797b7",
   "metadata": {},
   "outputs": [],
   "source": [
    "kombu04 = kombucha[kombucha[\"batch\"]==4][\"volume\"].values\n",
    "kombu05 = kombucha[kombucha[\"batch\"]==5][\"volume\"].values\n",
    "kombu06 = kombucha[kombucha[\"batch\"]==6][\"volume\"].values\n",
    "kombu07 = kombucha[kombucha[\"batch\"]==7][\"volume\"].values\n",
    "\n",
    "# 04 = batch mean too large (significant)\n",
    "assert ztest(kombu04)[1] < 0.05\n",
    "\n",
    "# 05 = batch mean too large (not significant)\n",
    "assert ztest(kombu05)[1] > 0.05\n",
    "assert ztest(kombu05)[1] < 0.30\n",
    "\n",
    "# 06 = batch mean too small (significant)\n",
    "assert ztest(kombu06)[1] < 0.05\n",
    "\n",
    "# 07 = batch mean too small (not significant)\n",
    "assert ztest(kombu07)[1] > 0.05\n",
    "assert ztest(kombu07)[1] < 0.30"
   ]
  },
  {
   "cell_type": "code",
   "execution_count": null,
   "id": "e704027d-b6df-4efb-85c1-e96f74f85203",
   "metadata": {},
   "outputs": [],
   "source": []
  },
  {
   "cell_type": "code",
   "execution_count": null,
   "id": "6c06b5a6-713a-42e9-b811-2690b859163c",
   "metadata": {},
   "outputs": [],
   "source": []
  },
  {
   "cell_type": "markdown",
   "id": "ab35ca39-0f04-4bb3-bbd8-54d1f283d65d",
   "metadata": {},
   "source": [
    "### Variance different from population"
   ]
  },
  {
   "cell_type": "code",
   "execution_count": 12,
   "id": "a5848008-9dd6-4cb7-a7c3-fcdcaea39abe",
   "metadata": {},
   "outputs": [],
   "source": [
    "kombu08 = kombucha[kombucha[\"batch\"]==8][\"volume\"].values\n",
    "kombu09 = kombucha[kombucha[\"batch\"]==9][\"volume\"].values\n",
    "\n",
    "# 08 = batch variance too high (significant)\n",
    "assert chi2test(kombu08)[1] < 0.05\n",
    "\n",
    "# 09 = batch variance too high (not significant 2-tailed, ...\n",
    "assert chi2test(kombu09)[1] > 0.05\n",
    "\n",
    "# ... but significant 1-tailed\n",
    "assert chi2test(kombu09, onesided=True)[1] < 0.05"
   ]
  },
  {
   "cell_type": "code",
   "execution_count": null,
   "id": "d8ed9bb1-b3e9-4c1b-beed-9ccbd854ca9b",
   "metadata": {},
   "outputs": [],
   "source": []
  },
  {
   "cell_type": "markdown",
   "id": "a98a7787-418c-4d79-b5d4-e5142b10314d",
   "metadata": {},
   "source": [
    "### One batch with outlier"
   ]
  },
  {
   "cell_type": "code",
   "execution_count": 13,
   "id": "85cfc05a-eccb-4c27-9f57-9e32d02e8dae",
   "metadata": {},
   "outputs": [
    {
     "data": {
      "text/plain": [
       "<AxesSubplot:>"
      ]
     },
     "execution_count": 13,
     "metadata": {},
     "output_type": "execute_result"
    },
    {
     "data": {
      "image/png": "[encoded data removed]",
      "text/plain": [
       "<Figure size 432x288 with 1 Axes>"
      ]
     },
     "metadata": {
      "needs_background": "light"
     },
     "output_type": "display_data"
    }
   ],
   "source": [
    "kombu10 = kombucha[kombucha[\"batch\"]==10][\"volume\"].values\n",
    "assert chi2test(kombu10)[1] < 0.05\n",
    "assert ztest(kombu10)[1] < 0.05\n",
    "sns.boxplot(x=kombu10)"
   ]
  },
  {
   "cell_type": "markdown",
   "id": "704d9b47-eafe-46f9-b41d-d756874491d5",
   "metadata": {},
   "source": [
    "## Enhanced summary"
   ]
  },
  {
   "cell_type": "code",
   "execution_count": 14,
   "id": "7dc1187c-b6ac-4d6b-8f52-343256a0027b",
   "metadata": {},
   "outputs": [],
   "source": [
    "summary2 = summary.copy()"
   ]
  },
  {
   "cell_type": "code",
   "execution_count": 15,
   "id": "08489d74-ab0a-46ff-a62a-ece6976c40d0",
   "metadata": {},
   "outputs": [],
   "source": [
    "zvalues = pd.Series(dtype=float)\n",
    "zpvalues = pd.Series(dtype=float)\n",
    "for batch in range(1, nbatches+1):\n",
    "    sample = kombucha[kombucha[\"batch\"]==batch][\"volume\"].values\n",
    "    zval, pval = ztest(sample)\n",
    "    zvalues.loc[batch] = zval\n",
    "    zpvalues.loc[batch] = pval\n",
    "\n",
    "summary2[\"z\"] = zvalues.round(2)\n",
    "summary2[\"p-val (z)\"] = zpvalues.round(3)"
   ]
  },
  {
   "cell_type": "code",
   "execution_count": 16,
   "id": "777b03b1-5941-40f5-93db-4fef326de661",
   "metadata": {},
   "outputs": [],
   "source": [
    "chi2values = pd.Series(dtype=float)\n",
    "chi2pvalues = pd.Series(dtype=float)\n",
    "for batch in range(1, nbatches+1):\n",
    "    sample = kombucha[kombucha[\"batch\"]==batch][\"volume\"].values\n",
    "    chi2val, pval = chi2test(sample)\n",
    "    chi2values.loc[batch] = chi2val\n",
    "    chi2pvalues.loc[batch] = pval\n",
    "\n",
    "summary2[\"chi2\"] = chi2values.round(2)\n",
    "summary2[\"p-val (chi2)\"] = chi2pvalues.round(3)"
   ]
  },
  {
   "cell_type": "code",
   "execution_count": 17,
   "id": "3229ecc2-8c74-4fa3-80db-50d975ba4234",
   "metadata": {},
   "outputs": [
    {
     "data": {
      "text/html": [
       "<style type=\"text/css\">\n",
       "#T_bd54f_row0_col6, #T_bd54f_row0_col8, #T_bd54f_row1_col6, #T_bd54f_row1_col8, #T_bd54f_row2_col6, #T_bd54f_row2_col8, #T_bd54f_row3_col8, #T_bd54f_row4_col6, #T_bd54f_row4_col8, #T_bd54f_row5_col8, #T_bd54f_row6_col6, #T_bd54f_row6_col8, #T_bd54f_row7_col6, #T_bd54f_row8_col8 {\n",
       "  color: black;\n",
       "}\n",
       "#T_bd54f_row3_col6, #T_bd54f_row5_col6, #T_bd54f_row7_col8, #T_bd54f_row8_col6, #T_bd54f_row9_col6, #T_bd54f_row9_col8 {\n",
       "  color: red;\n",
       "}\n",
       "</style>\n",
       "<table id=\"T_bd54f\">\n",
       "  <thead>\n",
       "    <tr>\n",
       "      <th class=\"blank level0\" >&nbsp;</th>\n",
       "      <th id=\"T_bd54f_level0_col0\" class=\"col_heading level0 col0\" >n</th>\n",
       "      <th id=\"T_bd54f_level0_col1\" class=\"col_heading level0 col1\" >mean</th>\n",
       "      <th id=\"T_bd54f_level0_col2\" class=\"col_heading level0 col2\" >std</th>\n",
       "      <th id=\"T_bd54f_level0_col3\" class=\"col_heading level0 col3\" >min</th>\n",
       "      <th id=\"T_bd54f_level0_col4\" class=\"col_heading level0 col4\" >max</th>\n",
       "      <th id=\"T_bd54f_level0_col5\" class=\"col_heading level0 col5\" >z</th>\n",
       "      <th id=\"T_bd54f_level0_col6\" class=\"col_heading level0 col6\" >p-val (z)</th>\n",
       "      <th id=\"T_bd54f_level0_col7\" class=\"col_heading level0 col7\" >chi2</th>\n",
       "      <th id=\"T_bd54f_level0_col8\" class=\"col_heading level0 col8\" >p-val (chi2)</th>\n",
       "    </tr>\n",
       "    <tr>\n",
       "      <th class=\"index_name level0\" >batch</th>\n",
       "      <th class=\"blank col0\" >&nbsp;</th>\n",
       "      <th class=\"blank col1\" >&nbsp;</th>\n",
       "      <th class=\"blank col2\" >&nbsp;</th>\n",
       "      <th class=\"blank col3\" >&nbsp;</th>\n",
       "      <th class=\"blank col4\" >&nbsp;</th>\n",
       "      <th class=\"blank col5\" >&nbsp;</th>\n",
       "      <th class=\"blank col6\" >&nbsp;</th>\n",
       "      <th class=\"blank col7\" >&nbsp;</th>\n",
       "      <th class=\"blank col8\" >&nbsp;</th>\n",
       "    </tr>\n",
       "  </thead>\n",
       "  <tbody>\n",
       "    <tr>\n",
       "      <th id=\"T_bd54f_level0_row0\" class=\"row_heading level0 row0\" >1</th>\n",
       "      <td id=\"T_bd54f_row0_col0\" class=\"data row0 col0\" >40</td>\n",
       "      <td id=\"T_bd54f_row0_col1\" class=\"data row0 col1\" >999.104</td>\n",
       "      <td id=\"T_bd54f_row0_col2\" class=\"data row0 col2\" >9.769</td>\n",
       "      <td id=\"T_bd54f_row0_col3\" class=\"data row0 col3\" >976.980</td>\n",
       "      <td id=\"T_bd54f_row0_col4\" class=\"data row0 col4\" >1017.450</td>\n",
       "      <td id=\"T_bd54f_row0_col5\" class=\"data row0 col5\" >-0.570</td>\n",
       "      <td id=\"T_bd54f_row0_col6\" class=\"data row0 col6\" >0.571</td>\n",
       "      <td id=\"T_bd54f_row0_col7\" class=\"data row0 col7\" >36.290</td>\n",
       "      <td id=\"T_bd54f_row0_col8\" class=\"data row0 col8\" >0.812</td>\n",
       "    </tr>\n",
       "    <tr>\n",
       "      <th id=\"T_bd54f_level0_row1\" class=\"row_heading level0 row1\" >2</th>\n",
       "      <td id=\"T_bd54f_row1_col0\" class=\"data row1 col0\" >20</td>\n",
       "      <td id=\"T_bd54f_row1_col1\" class=\"data row1 col1\" >997.907</td>\n",
       "      <td id=\"T_bd54f_row1_col2\" class=\"data row1 col2\" >11.150</td>\n",
       "      <td id=\"T_bd54f_row1_col3\" class=\"data row1 col3\" >978.640</td>\n",
       "      <td id=\"T_bd54f_row1_col4\" class=\"data row1 col4\" >1022.920</td>\n",
       "      <td id=\"T_bd54f_row1_col5\" class=\"data row1 col5\" >-0.940</td>\n",
       "      <td id=\"T_bd54f_row1_col6\" class=\"data row1 col6\" >0.349</td>\n",
       "      <td id=\"T_bd54f_row1_col7\" class=\"data row1 col7\" >22.440</td>\n",
       "      <td id=\"T_bd54f_row1_col8\" class=\"data row1 col8\" >0.526</td>\n",
       "    </tr>\n",
       "    <tr>\n",
       "      <th id=\"T_bd54f_level0_row2\" class=\"row_heading level0 row2\" >3</th>\n",
       "      <td id=\"T_bd54f_row2_col0\" class=\"data row2 col0\" >30</td>\n",
       "      <td id=\"T_bd54f_row2_col1\" class=\"data row2 col1\" >998.751</td>\n",
       "      <td id=\"T_bd54f_row2_col2\" class=\"data row2 col2\" >9.248</td>\n",
       "      <td id=\"T_bd54f_row2_col3\" class=\"data row2 col3\" >981.370</td>\n",
       "      <td id=\"T_bd54f_row2_col4\" class=\"data row2 col4\" >1017.890</td>\n",
       "      <td id=\"T_bd54f_row2_col5\" class=\"data row2 col5\" >-0.680</td>\n",
       "      <td id=\"T_bd54f_row2_col6\" class=\"data row2 col6\" >0.494</td>\n",
       "      <td id=\"T_bd54f_row2_col7\" class=\"data row2 col7\" >23.980</td>\n",
       "      <td id=\"T_bd54f_row2_col8\" class=\"data row2 col8\" >0.540</td>\n",
       "    </tr>\n",
       "    <tr>\n",
       "      <th id=\"T_bd54f_level0_row3\" class=\"row_heading level0 row3\" >4</th>\n",
       "      <td id=\"T_bd54f_row3_col0\" class=\"data row3 col0\" >40</td>\n",
       "      <td id=\"T_bd54f_row3_col1\" class=\"data row3 col1\" >1005.476</td>\n",
       "      <td id=\"T_bd54f_row3_col2\" class=\"data row3 col2\" >10.409</td>\n",
       "      <td id=\"T_bd54f_row3_col3\" class=\"data row3 col3\" >981.420</td>\n",
       "      <td id=\"T_bd54f_row3_col4\" class=\"data row3 col4\" >1027.230</td>\n",
       "      <td id=\"T_bd54f_row3_col5\" class=\"data row3 col5\" >3.460</td>\n",
       "      <td id=\"T_bd54f_row3_col6\" class=\"data row3 col6\" >0.001</td>\n",
       "      <td id=\"T_bd54f_row3_col7\" class=\"data row3 col7\" >41.200</td>\n",
       "      <td id=\"T_bd54f_row3_col8\" class=\"data row3 col8\" >0.749</td>\n",
       "    </tr>\n",
       "    <tr>\n",
       "      <th id=\"T_bd54f_level0_row4\" class=\"row_heading level0 row4\" >5</th>\n",
       "      <td id=\"T_bd54f_row4_col0\" class=\"data row4 col0\" >40</td>\n",
       "      <td id=\"T_bd54f_row4_col1\" class=\"data row4 col1\" >1002.597</td>\n",
       "      <td id=\"T_bd54f_row4_col2\" class=\"data row4 col2\" >9.103</td>\n",
       "      <td id=\"T_bd54f_row4_col3\" class=\"data row4 col3\" >985.350</td>\n",
       "      <td id=\"T_bd54f_row4_col4\" class=\"data row4 col4\" >1026.310</td>\n",
       "      <td id=\"T_bd54f_row4_col5\" class=\"data row4 col5\" >1.640</td>\n",
       "      <td id=\"T_bd54f_row4_col6\" class=\"data row4 col6\" >0.100</td>\n",
       "      <td id=\"T_bd54f_row4_col7\" class=\"data row4 col7\" >31.510</td>\n",
       "      <td id=\"T_bd54f_row4_col8\" class=\"data row4 col8\" >0.405</td>\n",
       "    </tr>\n",
       "    <tr>\n",
       "      <th id=\"T_bd54f_level0_row5\" class=\"row_heading level0 row5\" >6</th>\n",
       "      <td id=\"T_bd54f_row5_col0\" class=\"data row5 col0\" >40</td>\n",
       "      <td id=\"T_bd54f_row5_col1\" class=\"data row5 col1\" >995.995</td>\n",
       "      <td id=\"T_bd54f_row5_col2\" class=\"data row5 col2\" >10.749</td>\n",
       "      <td id=\"T_bd54f_row5_col3\" class=\"data row5 col3\" >970.130</td>\n",
       "      <td id=\"T_bd54f_row5_col4\" class=\"data row5 col4\" >1021.310</td>\n",
       "      <td id=\"T_bd54f_row5_col5\" class=\"data row5 col5\" >-2.530</td>\n",
       "      <td id=\"T_bd54f_row5_col6\" class=\"data row5 col6\" >0.011</td>\n",
       "      <td id=\"T_bd54f_row5_col7\" class=\"data row5 col7\" >43.940</td>\n",
       "      <td id=\"T_bd54f_row5_col8\" class=\"data row5 col8\" >0.541</td>\n",
       "    </tr>\n",
       "    <tr>\n",
       "      <th id=\"T_bd54f_level0_row6\" class=\"row_heading level0 row6\" >7</th>\n",
       "      <td id=\"T_bd54f_row6_col0\" class=\"data row6 col0\" >40</td>\n",
       "      <td id=\"T_bd54f_row6_col1\" class=\"data row6 col1\" >997.998</td>\n",
       "      <td id=\"T_bd54f_row6_col2\" class=\"data row6 col2\" >10.814</td>\n",
       "      <td id=\"T_bd54f_row6_col3\" class=\"data row6 col3\" >976.120</td>\n",
       "      <td id=\"T_bd54f_row6_col4\" class=\"data row6 col4\" >1019.290</td>\n",
       "      <td id=\"T_bd54f_row6_col5\" class=\"data row6 col5\" >-1.270</td>\n",
       "      <td id=\"T_bd54f_row6_col6\" class=\"data row6 col6\" >0.205</td>\n",
       "      <td id=\"T_bd54f_row6_col7\" class=\"data row6 col7\" >44.470</td>\n",
       "      <td id=\"T_bd54f_row6_col8\" class=\"data row6 col8\" >0.505</td>\n",
       "    </tr>\n",
       "    <tr>\n",
       "      <th id=\"T_bd54f_level0_row7\" class=\"row_heading level0 row7\" >8</th>\n",
       "      <td id=\"T_bd54f_row7_col0\" class=\"data row7 col0\" >40</td>\n",
       "      <td id=\"T_bd54f_row7_col1\" class=\"data row7 col1\" >999.071</td>\n",
       "      <td id=\"T_bd54f_row7_col2\" class=\"data row7 col2\" >13.038</td>\n",
       "      <td id=\"T_bd54f_row7_col3\" class=\"data row7 col3\" >970.670</td>\n",
       "      <td id=\"T_bd54f_row7_col4\" class=\"data row7 col4\" >1025.410</td>\n",
       "      <td id=\"T_bd54f_row7_col5\" class=\"data row7 col5\" >-0.590</td>\n",
       "      <td id=\"T_bd54f_row7_col6\" class=\"data row7 col6\" >0.557</td>\n",
       "      <td id=\"T_bd54f_row7_col7\" class=\"data row7 col7\" >64.640</td>\n",
       "      <td id=\"T_bd54f_row7_col8\" class=\"data row7 col8\" >0.012</td>\n",
       "    </tr>\n",
       "    <tr>\n",
       "      <th id=\"T_bd54f_level0_row8\" class=\"row_heading level0 row8\" >9</th>\n",
       "      <td id=\"T_bd54f_row8_col0\" class=\"data row8 col0\" >40</td>\n",
       "      <td id=\"T_bd54f_row8_col1\" class=\"data row8 col1\" >996.826</td>\n",
       "      <td id=\"T_bd54f_row8_col2\" class=\"data row8 col2\" >12.182</td>\n",
       "      <td id=\"T_bd54f_row8_col3\" class=\"data row8 col3\" >975.830</td>\n",
       "      <td id=\"T_bd54f_row8_col4\" class=\"data row8 col4\" >1024.610</td>\n",
       "      <td id=\"T_bd54f_row8_col5\" class=\"data row8 col5\" >-2.010</td>\n",
       "      <td id=\"T_bd54f_row8_col6\" class=\"data row8 col6\" >0.045</td>\n",
       "      <td id=\"T_bd54f_row8_col7\" class=\"data row8 col7\" >56.430</td>\n",
       "      <td id=\"T_bd54f_row8_col8\" class=\"data row8 col8\" >0.070</td>\n",
       "    </tr>\n",
       "    <tr>\n",
       "      <th id=\"T_bd54f_level0_row9\" class=\"row_heading level0 row9\" >10</th>\n",
       "      <td id=\"T_bd54f_row9_col0\" class=\"data row9 col0\" >40</td>\n",
       "      <td id=\"T_bd54f_row9_col1\" class=\"data row9 col1\" >1003.220</td>\n",
       "      <td id=\"T_bd54f_row9_col2\" class=\"data row9 col2\" >13.401</td>\n",
       "      <td id=\"T_bd54f_row9_col3\" class=\"data row9 col3\" >980.220</td>\n",
       "      <td id=\"T_bd54f_row9_col4\" class=\"data row9 col4\" >1060.000</td>\n",
       "      <td id=\"T_bd54f_row9_col5\" class=\"data row9 col5\" >2.040</td>\n",
       "      <td id=\"T_bd54f_row9_col6\" class=\"data row9 col6\" >0.042</td>\n",
       "      <td id=\"T_bd54f_row9_col7\" class=\"data row9 col7\" >68.290</td>\n",
       "      <td id=\"T_bd54f_row9_col8\" class=\"data row9 col8\" >0.005</td>\n",
       "    </tr>\n",
       "  </tbody>\n",
       "</table>\n"
      ],
      "text/plain": [
       "<pandas.io.formats.style.Styler at 0x13185d670>"
      ]
     },
     "execution_count": 17,
     "metadata": {},
     "output_type": "execute_result"
    }
   ],
   "source": [
    "def color_red_or_black(val):\n",
    "    color = 'red' if val < 0.05 else 'black'\n",
    "    return 'color: %s' % color\n",
    "\n",
    "summary2.style.applymap(\n",
    "    color_red_or_black,\n",
    "    subset=pd.IndexSlice[:, [\"p-val (z)\", \"p-val (chi2)\"]]\n",
    ").format(precision=3)  "
   ]
  },
  {
   "cell_type": "code",
   "execution_count": null,
   "id": "0cacade3-7535-4c4a-9460-de076c9a0278",
   "metadata": {},
   "outputs": [],
   "source": []
  },
  {
   "cell_type": "code",
   "execution_count": null,
   "id": "6e94cb82-346e-428a-a412-873adc989a55",
   "metadata": {},
   "outputs": [],
   "source": []
  },
  {
   "cell_type": "markdown",
   "id": "efeebb02-0e5e-4c91-b980-c7b7cc0ec77e",
   "metadata": {},
   "source": [
    "## Population file (data for a whole batch)"
   ]
  },
  {
   "cell_type": "code",
   "execution_count": 18,
   "id": "ff82884b-9d12-47bf-a8d3-865252d728dd",
   "metadata": {},
   "outputs": [
    {
     "name": "stdout",
     "output_type": "stream",
     "text": [
      "Generating batch 55\n",
      "Generating batch 56\n"
     ]
    }
   ],
   "source": [
    "popdatafilepath = \"../datasets/kombuchapop.csv\"\n",
    "\n",
    "N = 1000  # size of a whole batch (population)\n",
    "pop_batch_settings = {\n",
    "    55: {\"seed\":55, \"n\":1000},\n",
    "    56: {\"seed\":56, \"n\":1000, \"params\":(1004,10)},\n",
    "}\n",
    "\n",
    "\n",
    "np.random.seed(99)\n",
    "popdata = {\n",
    "    \"batch\": [],\n",
    "    \"volume\": []\n",
    "}\n",
    "for batch in [55,56]:\n",
    "    print(\"Generating batch\", batch)\n",
    "    settings = pop_batch_settings.get(batch, default_settings)\n",
    "    mu, sigma = settings.get(\"params\", default_params)\n",
    "    rvK = norm(mu, sigma)\n",
    "    n = settings.get(\"n\", default_n)\n",
    "    \n",
    "    if \"seed\" in settings:\n",
    "        np.random.seed(settings[\"seed\"])\n",
    "    else:\n",
    "        np.random.seed(batch)\n",
    "    volumes = rvK.rvs(n)\n",
    "    volumes = volumes.round(2)\n",
    "\n",
    "    if batch in outliers_to_add:\n",
    "        outliers_dict = outliers_to_add[batch]\n",
    "        print(\"  adding outliers\", outliers_dict)\n",
    "        index = outliers_dict[\"index\"]\n",
    "        assert index < n, \"outlier index out of range\"\n",
    "        value = outliers_dict[\"value\"]\n",
    "        volumes[index] = value\n",
    "\n",
    "    popdata[\"batch\"].extend([batch]*n)\n",
    "    popdata[\"volume\"].extend(volumes)\n",
    "\n",
    "kombuchapop = pd.DataFrame(popdata)"
   ]
  },
  {
   "cell_type": "code",
   "execution_count": 19,
   "id": "21fc6a13-a75e-4978-b3bc-4042fbbd06d5",
   "metadata": {},
   "outputs": [
    {
     "data": {
      "text/html": [
       "<div>\n",
       "<style scoped>\n",
       "    .dataframe tbody tr th:only-of-type {\n",
       "        vertical-align: middle;\n",
       "    }\n",
       "\n",
       "    .dataframe tbody tr th {\n",
       "        vertical-align: top;\n",
       "    }\n",
       "\n",
       "    .dataframe thead tr th {\n",
       "        text-align: left;\n",
       "    }\n",
       "\n",
       "    .dataframe thead tr:last-of-type th {\n",
       "        text-align: right;\n",
       "    }\n",
       "</style>\n",
       "<table border=\"1\" class=\"dataframe\">\n",
       "  <thead>\n",
       "    <tr>\n",
       "      <th></th>\n",
       "      <th colspan=\"8\" halign=\"left\">volume</th>\n",
       "    </tr>\n",
       "    <tr>\n",
       "      <th></th>\n",
       "      <th>count</th>\n",
       "      <th>mean</th>\n",
       "      <th>std</th>\n",
       "      <th>min</th>\n",
       "      <th>25%</th>\n",
       "      <th>50%</th>\n",
       "      <th>75%</th>\n",
       "      <th>max</th>\n",
       "    </tr>\n",
       "    <tr>\n",
       "      <th>batch</th>\n",
       "      <th></th>\n",
       "      <th></th>\n",
       "      <th></th>\n",
       "      <th></th>\n",
       "      <th></th>\n",
       "      <th></th>\n",
       "      <th></th>\n",
       "      <th></th>\n",
       "    </tr>\n",
       "  </thead>\n",
       "  <tbody>\n",
       "    <tr>\n",
       "      <th>55</th>\n",
       "      <td>1000.0</td>\n",
       "      <td>1000.14613</td>\n",
       "      <td>9.969847</td>\n",
       "      <td>968.84</td>\n",
       "      <td>993.2025</td>\n",
       "      <td>1000.25</td>\n",
       "      <td>1006.4950</td>\n",
       "      <td>1047.87</td>\n",
       "    </tr>\n",
       "    <tr>\n",
       "      <th>56</th>\n",
       "      <td>1000.0</td>\n",
       "      <td>1003.98871</td>\n",
       "      <td>9.809968</td>\n",
       "      <td>974.31</td>\n",
       "      <td>997.6950</td>\n",
       "      <td>1003.53</td>\n",
       "      <td>1010.3525</td>\n",
       "      <td>1035.34</td>\n",
       "    </tr>\n",
       "  </tbody>\n",
       "</table>\n",
       "</div>"
      ],
      "text/plain": [
       "       volume                                                              \\\n",
       "        count        mean       std     min       25%      50%        75%   \n",
       "batch                                                                       \n",
       "55     1000.0  1000.14613  9.969847  968.84  993.2025  1000.25  1006.4950   \n",
       "56     1000.0  1003.98871  9.809968  974.31  997.6950  1003.53  1010.3525   \n",
       "\n",
       "                \n",
       "           max  \n",
       "batch           \n",
       "55     1047.87  \n",
       "56     1035.34  "
      ]
     },
     "execution_count": 19,
     "metadata": {},
     "output_type": "execute_result"
    }
   ],
   "source": [
    "kombuchapop.groupby(\"batch\").describe()"
   ]
  },
  {
   "cell_type": "code",
   "execution_count": 20,
   "id": "86441d57-b17e-4274-8a0f-6a46df8d86d3",
   "metadata": {},
   "outputs": [],
   "source": [
    "# SAVE TO DATAFILE\n",
    "kombuchapop.to_csv(popdatafilepath, index=False)"
   ]
  },
  {
   "cell_type": "code",
   "execution_count": 25,
   "id": "e9e6e995-4386-45e0-8bb7-e56da4189088",
   "metadata": {},
   "outputs": [
    {
     "data": {
      "text/html": [
       "<div>\n",
       "<style scoped>\n",
       "    .dataframe tbody tr th:only-of-type {\n",
       "        vertical-align: middle;\n",
       "    }\n",
       "\n",
       "    .dataframe tbody tr th {\n",
       "        vertical-align: top;\n",
       "    }\n",
       "\n",
       "    .dataframe thead th {\n",
       "        text-align: right;\n",
       "    }\n",
       "</style>\n",
       "<table border=\"1\" class=\"dataframe\">\n",
       "  <thead>\n",
       "    <tr style=\"text-align: right;\">\n",
       "      <th></th>\n",
       "      <th>batch</th>\n",
       "      <th>volume</th>\n",
       "    </tr>\n",
       "  </thead>\n",
       "  <tbody>\n",
       "    <tr>\n",
       "      <th>1329</th>\n",
       "      <td>56</td>\n",
       "      <td>997.39</td>\n",
       "    </tr>\n",
       "    <tr>\n",
       "      <th>554</th>\n",
       "      <td>55</td>\n",
       "      <td>986.31</td>\n",
       "    </tr>\n",
       "    <tr>\n",
       "      <th>1112</th>\n",
       "      <td>56</td>\n",
       "      <td>1019.24</td>\n",
       "    </tr>\n",
       "    <tr>\n",
       "      <th>34</th>\n",
       "      <td>55</td>\n",
       "      <td>1012.11</td>\n",
       "    </tr>\n",
       "    <tr>\n",
       "      <th>548</th>\n",
       "      <td>55</td>\n",
       "      <td>989.44</td>\n",
       "    </tr>\n",
       "  </tbody>\n",
       "</table>\n",
       "</div>"
      ],
      "text/plain": [
       "      batch   volume\n",
       "1329     56   997.39\n",
       "554      55   986.31\n",
       "1112     56  1019.24\n",
       "34       55  1012.11\n",
       "548      55   989.44"
      ]
     },
     "execution_count": 25,
     "metadata": {},
     "output_type": "execute_result"
    }
   ],
   "source": [
    "# RELOAD FROM DATAFILE\n",
    "kombuchapop = pd.read_csv(popdatafilepath)\n",
    "kombuchapop.sample(5)"
   ]
  },
  {
   "cell_type": "code",
   "execution_count": 22,
   "id": "227a5c02-3695-42c6-acdf-afe3377ba708",
   "metadata": {},
   "outputs": [
    {
     "name": "stdout",
     "output_type": "stream",
     "text": [
      "(-0.7959452870643978, 0.42606383719455554)\n",
      "(0.24015370078359455, 0.8102111048475793)\n",
      "(0.12305500125280257, 0.9020635441770586)\n",
      "(-0.04016092628412347, 0.9679648287896927)\n",
      "(-0.10451038225934421, 0.9167643295479251)\n"
     ]
    }
   ],
   "source": [
    "# 55 = is normal\n",
    "kombu55 = kombuchapop[kombuchapop[\"batch\"]==55][\"volume\"].values\n",
    "# np.random.seed(30)\n",
    "# sample5520 = np.random.choice(kombu55, size=20, replace=False)\n",
    "\n",
    "for size in [10, 20, 30, 40, 50]:\n",
    "    sample = kombu55[0:size]\n",
    "    print(ztest(sample))"
   ]
  },
  {
   "cell_type": "code",
   "execution_count": 23,
   "id": "48b32f26-eb56-4114-bcdf-5fb759eec77d",
   "metadata": {},
   "outputs": [
    {
     "name": "stdout",
     "output_type": "stream",
     "text": [
      "(0.6470020092704301, 0.5176306430714832)\n",
      "(2.36240581822854, 0.018156754278758735)\n",
      "(2.050855829485105, 0.04028098874421315)\n",
      "(2.342299062886695, 0.019165350874670306)\n",
      "(2.5445944627779338, 0.010940471575400235)\n"
     ]
    }
   ],
   "source": [
    "# 56 = is too full\n",
    "kombu56 = kombuchapop[kombuchapop[\"batch\"]==56][\"volume\"].values\n",
    "\n",
    "# np.random.seed(31)\n",
    "# sample5620 = np.random.choice(kombu56, size=20, replace=False)\n",
    "\n",
    "for size in [10, 20, 30, 40, 50]:\n",
    "    sample = kombu56[0:size]\n",
    "    print(ztest(sample))"
   ]
  },
  {
   "cell_type": "code",
   "execution_count": null,
   "id": "46d6de24-b629-4193-a6a7-ff5bea5e4df5",
   "metadata": {},
   "outputs": [],
   "source": []
  }
 ],
 "metadata": {
  "kernelspec": {
   "display_name": "Python 3 (ipykernel)",
   "language": "python",
   "name": "python3"
  },
  "language_info": {
   "codemirror_mode": {
    "name": "ipython",
    "version": 3
   },
   "file_extension": ".py",
   "mimetype": "text/x-python",
   "name": "python",
   "nbconvert_exporter": "python",
   "pygments_lexer": "ipython3",
   "version": "3.9.4"
  }
 },
 "nbformat": 4,
 "nbformat_minor": 5
}
