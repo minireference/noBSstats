{
 "cells": [
  {
   "cell_type": "markdown",
   "id": "8e44527c-a6b6-4b5d-972d-38becae0c5b4",
   "metadata": {},
   "source": [
    "# Generate the `eprices` dataset\n",
    "\n",
    "\n",
    "TODOs:\n",
    "- [ ] Move `oldeprices.csv` to `raw/electricity_prices.xlsx`\n"
   ]
  },
  {
   "cell_type": "code",
   "execution_count": 1,
   "id": "747cc707-d36b-44f5-b96a-3b2cc0bdf10f",
   "metadata": {},
   "outputs": [],
   "source": [
    "datafilepath = \"../datasets/eprices.csv\""
   ]
  },
  {
   "cell_type": "code",
   "execution_count": 2,
   "id": "28c0ab8e-72b2-4f4c-b229-4d0570ebe862",
   "metadata": {},
   "outputs": [],
   "source": [
    "import numpy as np\n",
    "import pandas as pd\n",
    "import matplotlib.pyplot as plt\n",
    "import seaborn as sns"
   ]
  },
  {
   "cell_type": "code",
   "execution_count": 3,
   "id": "085ca230-4191-43f2-a4a3-3cb0a1f41a0a",
   "metadata": {},
   "outputs": [],
   "source": [
    "from scipy.stats import norm"
   ]
  },
  {
   "cell_type": "markdown",
   "id": "07559881-c39c-4af0-95d8-b53a5ed1dfa0",
   "metadata": {},
   "source": [
    "## Transform raw data\n",
    "\n",
    "This dataset was previously used in non-tidy format, so we use the melt operation."
   ]
  },
  {
   "cell_type": "code",
   "execution_count": 4,
   "id": "71019918-c39f-40d8-8bed-b702d91e82fd",
   "metadata": {},
   "outputs": [],
   "source": [
    "# oldfilepath = \"../datasets/epriceswide.csv\"\n",
    "# oldeprices = pd.read_csv(oldfilepath)\n",
    "# eprices = oldeprices.melt(var_name=\"loc\", value_name=\"price\")\n",
    "# eprices"
   ]
  },
  {
   "cell_type": "code",
   "execution_count": 5,
   "id": "02ca2d5a-2f83-4f25-b650-ea3d265ac915",
   "metadata": {},
   "outputs": [],
   "source": [
    "# # SAVE TO DATAFILE\n",
    "# eprices.to_csv(datafilepath, index=False)"
   ]
  },
  {
   "cell_type": "code",
   "execution_count": 6,
   "id": "5369fad4-bd87-4d7d-9fc9-80a5193f36a6",
   "metadata": {},
   "outputs": [
    {
     "data": {
      "text/html": [
       "<div>\n",
       "<style scoped>\n",
       "    .dataframe tbody tr th:only-of-type {\n",
       "        vertical-align: middle;\n",
       "    }\n",
       "\n",
       "    .dataframe tbody tr th {\n",
       "        vertical-align: top;\n",
       "    }\n",
       "\n",
       "    .dataframe thead th {\n",
       "        text-align: right;\n",
       "    }\n",
       "</style>\n",
       "<table border=\"1\" class=\"dataframe\">\n",
       "  <thead>\n",
       "    <tr style=\"text-align: right;\">\n",
       "      <th></th>\n",
       "      <th>loc</th>\n",
       "      <th>price</th>\n",
       "    </tr>\n",
       "  </thead>\n",
       "  <tbody>\n",
       "    <tr>\n",
       "      <th>0</th>\n",
       "      <td>East</td>\n",
       "      <td>7.7</td>\n",
       "    </tr>\n",
       "    <tr>\n",
       "      <th>1</th>\n",
       "      <td>East</td>\n",
       "      <td>5.9</td>\n",
       "    </tr>\n",
       "    <tr>\n",
       "      <th>2</th>\n",
       "      <td>East</td>\n",
       "      <td>7.0</td>\n",
       "    </tr>\n",
       "    <tr>\n",
       "      <th>3</th>\n",
       "      <td>East</td>\n",
       "      <td>4.8</td>\n",
       "    </tr>\n",
       "    <tr>\n",
       "      <th>4</th>\n",
       "      <td>East</td>\n",
       "      <td>6.3</td>\n",
       "    </tr>\n",
       "    <tr>\n",
       "      <th>5</th>\n",
       "      <td>East</td>\n",
       "      <td>6.3</td>\n",
       "    </tr>\n",
       "    <tr>\n",
       "      <th>6</th>\n",
       "      <td>East</td>\n",
       "      <td>5.5</td>\n",
       "    </tr>\n",
       "    <tr>\n",
       "      <th>7</th>\n",
       "      <td>East</td>\n",
       "      <td>5.4</td>\n",
       "    </tr>\n",
       "    <tr>\n",
       "      <th>8</th>\n",
       "      <td>East</td>\n",
       "      <td>6.5</td>\n",
       "    </tr>\n",
       "    <tr>\n",
       "      <th>9</th>\n",
       "      <td>West</td>\n",
       "      <td>11.8</td>\n",
       "    </tr>\n",
       "    <tr>\n",
       "      <th>10</th>\n",
       "      <td>West</td>\n",
       "      <td>10.0</td>\n",
       "    </tr>\n",
       "    <tr>\n",
       "      <th>11</th>\n",
       "      <td>West</td>\n",
       "      <td>11.0</td>\n",
       "    </tr>\n",
       "    <tr>\n",
       "      <th>12</th>\n",
       "      <td>West</td>\n",
       "      <td>8.6</td>\n",
       "    </tr>\n",
       "    <tr>\n",
       "      <th>13</th>\n",
       "      <td>West</td>\n",
       "      <td>8.3</td>\n",
       "    </tr>\n",
       "    <tr>\n",
       "      <th>14</th>\n",
       "      <td>West</td>\n",
       "      <td>9.4</td>\n",
       "    </tr>\n",
       "    <tr>\n",
       "      <th>15</th>\n",
       "      <td>West</td>\n",
       "      <td>8.0</td>\n",
       "    </tr>\n",
       "    <tr>\n",
       "      <th>16</th>\n",
       "      <td>West</td>\n",
       "      <td>6.8</td>\n",
       "    </tr>\n",
       "    <tr>\n",
       "      <th>17</th>\n",
       "      <td>West</td>\n",
       "      <td>8.5</td>\n",
       "    </tr>\n",
       "  </tbody>\n",
       "</table>\n",
       "</div>"
      ],
      "text/plain": [
       "     loc  price\n",
       "0   East    7.7\n",
       "1   East    5.9\n",
       "2   East    7.0\n",
       "3   East    4.8\n",
       "4   East    6.3\n",
       "5   East    6.3\n",
       "6   East    5.5\n",
       "7   East    5.4\n",
       "8   East    6.5\n",
       "9   West   11.8\n",
       "10  West   10.0\n",
       "11  West   11.0\n",
       "12  West    8.6\n",
       "13  West    8.3\n",
       "14  West    9.4\n",
       "15  West    8.0\n",
       "16  West    6.8\n",
       "17  West    8.5"
      ]
     },
     "execution_count": 6,
     "metadata": {},
     "output_type": "execute_result"
    }
   ],
   "source": [
    "# RELOAD FROM DATAFILE\n",
    "eprices = pd.read_csv(datafilepath)\n",
    "eprices"
   ]
  },
  {
   "cell_type": "markdown",
   "id": "20b0a7f0-bb1c-4617-8911-455ab0ac29ff",
   "metadata": {},
   "source": [
    "### Descriptive statistics checks"
   ]
  },
  {
   "cell_type": "code",
   "execution_count": 7,
   "id": "cb8a5540-f7a8-46dc-bf39-69d18c5a4eb1",
   "metadata": {},
   "outputs": [
    {
     "data": {
      "text/html": [
       "<div>\n",
       "<style scoped>\n",
       "    .dataframe tbody tr th:only-of-type {\n",
       "        vertical-align: middle;\n",
       "    }\n",
       "\n",
       "    .dataframe tbody tr th {\n",
       "        vertical-align: top;\n",
       "    }\n",
       "\n",
       "    .dataframe thead tr th {\n",
       "        text-align: left;\n",
       "    }\n",
       "\n",
       "    .dataframe thead tr:last-of-type th {\n",
       "        text-align: right;\n",
       "    }\n",
       "</style>\n",
       "<table border=\"1\" class=\"dataframe\">\n",
       "  <thead>\n",
       "    <tr>\n",
       "      <th></th>\n",
       "      <th colspan=\"8\" halign=\"left\">price</th>\n",
       "    </tr>\n",
       "    <tr>\n",
       "      <th></th>\n",
       "      <th>count</th>\n",
       "      <th>mean</th>\n",
       "      <th>std</th>\n",
       "      <th>min</th>\n",
       "      <th>25%</th>\n",
       "      <th>50%</th>\n",
       "      <th>75%</th>\n",
       "      <th>max</th>\n",
       "    </tr>\n",
       "    <tr>\n",
       "      <th>loc</th>\n",
       "      <th></th>\n",
       "      <th></th>\n",
       "      <th></th>\n",
       "      <th></th>\n",
       "      <th></th>\n",
       "      <th></th>\n",
       "      <th></th>\n",
       "      <th></th>\n",
       "    </tr>\n",
       "  </thead>\n",
       "  <tbody>\n",
       "    <tr>\n",
       "      <th>East</th>\n",
       "      <td>9.0</td>\n",
       "      <td>6.155556</td>\n",
       "      <td>0.877655</td>\n",
       "      <td>4.8</td>\n",
       "      <td>5.5</td>\n",
       "      <td>6.3</td>\n",
       "      <td>6.5</td>\n",
       "      <td>7.7</td>\n",
       "    </tr>\n",
       "    <tr>\n",
       "      <th>West</th>\n",
       "      <td>9.0</td>\n",
       "      <td>9.155556</td>\n",
       "      <td>1.562139</td>\n",
       "      <td>6.8</td>\n",
       "      <td>8.3</td>\n",
       "      <td>8.6</td>\n",
       "      <td>10.0</td>\n",
       "      <td>11.8</td>\n",
       "    </tr>\n",
       "  </tbody>\n",
       "</table>\n",
       "</div>"
      ],
      "text/plain": [
       "     price                                               \n",
       "     count      mean       std  min  25%  50%   75%   max\n",
       "loc                                                      \n",
       "East   9.0  6.155556  0.877655  4.8  5.5  6.3   6.5   7.7\n",
       "West   9.0  9.155556  1.562139  6.8  8.3  8.6  10.0  11.8"
      ]
     },
     "execution_count": 7,
     "metadata": {},
     "output_type": "execute_result"
    }
   ],
   "source": [
    "eprices.groupby(\"loc\").describe()"
   ]
  },
  {
   "cell_type": "markdown",
   "id": "bac912c5-584a-48af-b1e4-337d00000a81",
   "metadata": {},
   "source": [
    "### Visual inspection"
   ]
  },
  {
   "cell_type": "code",
   "execution_count": 8,
   "id": "34e98fe3-1d3f-4e23-a2ed-1ac017dd0a5f",
   "metadata": {},
   "outputs": [
    {
     "data": {
      "text/plain": [
       "<Axes: xlabel='price', ylabel='Density'>"
      ]
     },
     "execution_count": 8,
     "metadata": {},
     "output_type": "execute_result"
    },
    {
     "data": {
      "image/png": "[encoded data removed]",
      "text/plain": [
       "<Figure size 640x480 with 1 Axes>"
      ]
     },
     "metadata": {},
     "output_type": "display_data"
    }
   ],
   "source": [
    "# sns.displot(x=\"price\", hue=\"loc\", kind=\"kde\", data=eprices)\n",
    "sns.kdeplot(x=\"price\", hue=\"loc\", data=eprices)"
   ]
  },
  {
   "cell_type": "code",
   "execution_count": 9,
   "id": "ccabba5f-82ed-449c-849d-dfc5e6b8680b",
   "metadata": {},
   "outputs": [
    {
     "data": {
      "text/plain": [
       "<Axes: xlabel='price', ylabel='loc'>"
      ]
     },
     "execution_count": 9,
     "metadata": {},
     "output_type": "execute_result"
    },
    {
     "data": {
      "image/png": "[encoded data removed]",
      "text/plain": [
       "<Figure size 640x480 with 1 Axes>"
      ]
     },
     "metadata": {},
     "output_type": "display_data"
    }
   ],
   "source": [
    "sns.boxplot(x=\"price\", y=\"loc\", data=eprices)"
   ]
  },
  {
   "cell_type": "code",
   "execution_count": null,
   "id": "a2a1f248-55f7-4b2b-a54c-01165eb55b62",
   "metadata": {},
   "outputs": [],
   "source": []
  },
  {
   "cell_type": "markdown",
   "id": "d2ad9572-34c7-41e3-a863-773eb1c491d8",
   "metadata": {},
   "source": [
    "## Tests"
   ]
  },
  {
   "cell_type": "code",
   "execution_count": 10,
   "id": "851a151e-f36b-45db-8655-63d486823a05",
   "metadata": {},
   "outputs": [],
   "source": [
    "from scipy.stats import t as tdist\n",
    "\n",
    "def calcdf(stdX, n, stdY, m):\n",
    "    vX = stdX**2 / n\n",
    "    vY = stdY**2 / m\n",
    "    df = (vX+vY)**2 / (vX**2/(n-1) + vY**2/(m-1))\n",
    "    return df\n",
    "\n",
    "def ttest(sampleA, sampleB, pooled=False):\n",
    "    \"\"\"\n",
    "    T-test to detect difference between means in two samples.\n",
    "    \"\"\"\n",
    "    # 1. calculate the mean in each group\n",
    "    meanA, meanB = np.mean(sampleA), np.mean(sampleB)\n",
    "    # 2. calculate d, the observed difference between means\n",
    "    d = meanA - meanB\n",
    "    # 3. calculate the standard deviations in each group\n",
    "    stdA, stdB = np.std(sampleA, ddof=1), np.std(sampleB, ddof=1)\n",
    "    nA, nB = len(sampleA), len(sampleB)\n",
    "    if pooled:\n",
    "        # 4. compute the pooled variance and standard error\n",
    "        var_pooled = ((nA-1)*stdA**2 + (nB-1)*stdB**2)/(nA + nB - 2)\n",
    "        std_pooled = np.sqrt(var_pooled)\n",
    "        stdD = std_pooled * np.sqrt(1/nA + 1/nB)\n",
    "        # 5. degrees of freedom\n",
    "        df = nA + nB - 2\n",
    "    else:\n",
    "        # 4'. compute the unpooled standard deviation of D\n",
    "        stdD = np.sqrt(stdA**2/nA + stdB**2/nB)\n",
    "        # 5'. use crazy formula for the degrees of freedom\n",
    "        df = calcdf(stdA, nA, stdB, nB)\n",
    "    # 6. compute the value of the t-statistic\n",
    "    tstat = d / stdD\n",
    "    # 7. compute the two-sided p-value for tstat\n",
    "    pvalue = 2 * tdist(df).cdf(-abs(tstat))\n",
    "    return tstat, pvalue"
   ]
  },
  {
   "cell_type": "code",
   "execution_count": 11,
   "id": "f9af4b63-1bb2-4e7d-b067-f718de5bdd21",
   "metadata": {},
   "outputs": [],
   "source": [
    "pricesE = eprices[eprices[\"loc\"]==\"East\"][\"price\"].values\n",
    "pricesW = eprices[eprices[\"loc\"]==\"West\"][\"price\"].values"
   ]
  },
  {
   "cell_type": "code",
   "execution_count": null,
   "id": "06591a31-ccde-4fa3-8cbe-ee454ea1356d",
   "metadata": {},
   "outputs": [],
   "source": []
  },
  {
   "cell_type": "markdown",
   "id": "bb0f76b6-af55-4271-a964-65557a1778d2",
   "metadata": {},
   "source": [
    "### Unpooled test (Welch test)"
   ]
  },
  {
   "cell_type": "code",
   "execution_count": 12,
   "id": "6207525e-872f-45c1-a358-0dbadc1083c1",
   "metadata": {},
   "outputs": [
    {
     "data": {
      "text/plain": [
       "Ttest_indResult(statistic=5.022875513276464, pvalue=0.0002570338337217609)"
      ]
     },
     "execution_count": 12,
     "metadata": {},
     "output_type": "execute_result"
    }
   ],
   "source": [
    "from scipy.stats import ttest_ind\n",
    "ttest_ind(pricesW, pricesE, equal_var=False)"
   ]
  },
  {
   "cell_type": "code",
   "execution_count": 13,
   "id": "da08d79a-0cbb-4060-837a-81c7e4bbd823",
   "metadata": {},
   "outputs": [
    {
     "data": {
      "text/plain": [
       "(5.022875513276464, 0.0002570338337217614)"
      ]
     },
     "execution_count": 13,
     "metadata": {},
     "output_type": "execute_result"
    }
   ],
   "source": [
    "ttest(pricesW, pricesE)"
   ]
  },
  {
   "cell_type": "markdown",
   "id": "42cc1d67-9920-4f91-8464-27a5959a5788",
   "metadata": {},
   "source": [
    "### Pooled variance test"
   ]
  },
  {
   "cell_type": "code",
   "execution_count": 14,
   "id": "21035eef-1480-44f2-8e9c-f0d79481afb7",
   "metadata": {},
   "outputs": [
    {
     "data": {
      "text/plain": [
       "Ttest_indResult(statistic=5.022875513276465, pvalue=0.00012497067987678488)"
      ]
     },
     "execution_count": 14,
     "metadata": {},
     "output_type": "execute_result"
    }
   ],
   "source": [
    "ttest_ind(pricesW, pricesE)"
   ]
  },
  {
   "cell_type": "code",
   "execution_count": 15,
   "id": "7d1aff42-4d98-4c01-8126-778a21cd6455",
   "metadata": {},
   "outputs": [
    {
     "data": {
      "text/plain": [
       "(5.022875513276464, 0.0001249706798767851)"
      ]
     },
     "execution_count": 15,
     "metadata": {},
     "output_type": "execute_result"
    }
   ],
   "source": [
    "ttest(pricesW, pricesE, pooled=True)"
   ]
  },
  {
   "cell_type": "code",
   "execution_count": null,
   "id": "ff82884b-9d12-47bf-a8d3-865252d728dd",
   "metadata": {},
   "outputs": [],
   "source": []
  }
 ],
 "metadata": {
  "kernelspec": {
   "display_name": "Python 3 (ipykernel)",
   "language": "python",
   "name": "python3"
  },
  "language_info": {
   "codemirror_mode": {
    "name": "ipython",
    "version": 3
   },
   "file_extension": ".py",
   "mimetype": "text/x-python",
   "name": "python",
   "nbconvert_exporter": "python",
   "pygments_lexer": "ipython3",
   "version": "3.9.4"
  }
 },
 "nbformat": 4,
 "nbformat_minor": 5
}
