{
 "cells": [
  {
   "cell_type": "markdown",
   "id": "6df046ed-6ac3-44b5-9642-1925811247d8",
   "metadata": {
    "editable": true,
    "slideshow": {
     "slide_type": ""
    },
    "tags": []
   },
   "source": [
    "# Data generation for the `ctosses` dataset used in Section 5.1"
   ]
  },
  {
   "cell_type": "code",
   "execution_count": 1,
   "id": "9a10cfa9-f005-4cdb-8060-34b41e2a2450",
   "metadata": {},
   "outputs": [],
   "source": [
    "import numpy as np\n",
    "import seaborn as sns\n",
    "import pandas as pd"
   ]
  },
  {
   "cell_type": "markdown",
   "id": "3047b42e-e866-4382-97ff-471746b12472",
   "metadata": {},
   "source": [
    "## Coin tosses (Example 1)"
   ]
  },
  {
   "cell_type": "code",
   "execution_count": 6,
   "id": "4dc66012-1160-4dd1-8261-73ce681c84bd",
   "metadata": {},
   "outputs": [],
   "source": [
    "# data gen 1\n",
    "from scipy.stats import bernoulli\n",
    "\n",
    "# manually selected to match graphs based on partial samples\n",
    "ctosses = [1,1,0,0,1,0,1,1,1,1,1,0,1,1,0,1,0,1,1,1,\n",
    "           1,0,1,1,1,1,1,0,1,1,1,1,1,1,1,1,0,0,1,0,\n",
    "           0,1,0,1,0,1,0,1,1,0]\n",
    "# ctosses"
   ]
  },
  {
   "cell_type": "code",
   "execution_count": 3,
   "id": "3c0c29ad-5a4f-48f8-bf87-f047fe02cb47",
   "metadata": {},
   "outputs": [
    {
     "data": {
      "text/plain": [
       "(34, 50, 0.68)"
      ]
     },
     "execution_count": 3,
     "metadata": {},
     "output_type": "execute_result"
    }
   ],
   "source": [
    "sum(ctosses), len(ctosses), sum(ctosses)/len(ctosses)"
   ]
  },
  {
   "cell_type": "code",
   "execution_count": 4,
   "id": "e8c88574-f777-4e3f-9d8e-de5e00159c8e",
   "metadata": {},
   "outputs": [],
   "source": [
    "ctosses_df = pd.DataFrame({\"heads\":ctosses})\n",
    "ctosses_df.to_csv(\"../datasets/exercises/ctosses.csv\", index=False)"
   ]
  }
 ],
 "metadata": {
  "kernelspec": {
   "display_name": "Python 3 (ipykernel)",
   "language": "python",
   "name": "python3"
  },
  "language_info": {
   "codemirror_mode": {
    "name": "ipython",
    "version": 3
   },
   "file_extension": ".py",
   "mimetype": "text/x-python",
   "name": "python",
   "nbconvert_exporter": "python",
   "pygments_lexer": "ipython3",
   "version": "3.12.4"
  }
 },
 "nbformat": 4,
 "nbformat_minor": 5
}
