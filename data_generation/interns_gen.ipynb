{
 "cells": [
  {
   "cell_type": "markdown",
   "id": "a0eb7ec9-2dbf-4e7c-a319-2ca7702134e8",
   "metadata": {},
   "source": [
    "# Data generation for logistic regression\n",
    "\n"
   ]
  },
  {
   "cell_type": "code",
   "execution_count": 1,
   "id": "667102ff-59b9-4a08-b033-02b577e1f788",
   "metadata": {},
   "outputs": [],
   "source": [
    "# load Python modules\n",
    "import os\n",
    "import numpy as np\n",
    "import pandas as pd\n",
    "import seaborn as sns"
   ]
  },
  {
   "cell_type": "code",
   "execution_count": 2,
   "id": "502a4d85-249e-4908-85df-94124435beb7",
   "metadata": {},
   "outputs": [],
   "source": [
    "from scipy.stats import norm\n",
    "from scipy.stats import bernoulli\n",
    "from scipy.special import expit\n",
    "\n",
    "np.random.seed(42)\n",
    "\n",
    "n = 100\n",
    "works = norm(40, 5).rvs(n)\n",
    "prob_hired = expit(-80 + 2*works)\n",
    "hired = bernoulli(prob_hired).rvs(n)\n",
    "\n",
    "interns = pd.DataFrame({\"work\": works.round(1),\n",
    "                        \"hired\": hired})\n",
    "\n",
    "interns.to_csv(\"../datasets/interns.csv\", index=False)"
   ]
  },
  {
   "cell_type": "code",
   "execution_count": 3,
   "id": "c6fb87c0-d680-4bc3-af78-8c83aa911e01",
   "metadata": {},
   "outputs": [
    {
     "data": {
      "text/html": [
       "<div>\n",
       "<style scoped>\n",
       "    .dataframe tbody tr th:only-of-type {\n",
       "        vertical-align: middle;\n",
       "    }\n",
       "\n",
       "    .dataframe tbody tr th {\n",
       "        vertical-align: top;\n",
       "    }\n",
       "\n",
       "    .dataframe thead th {\n",
       "        text-align: right;\n",
       "    }\n",
       "</style>\n",
       "<table border=\"1\" class=\"dataframe\">\n",
       "  <thead>\n",
       "    <tr style=\"text-align: right;\">\n",
       "      <th></th>\n",
       "      <th>work</th>\n",
       "      <th>hired</th>\n",
       "    </tr>\n",
       "  </thead>\n",
       "  <tbody>\n",
       "    <tr>\n",
       "      <th>0</th>\n",
       "      <td>42.5</td>\n",
       "      <td>1</td>\n",
       "    </tr>\n",
       "    <tr>\n",
       "      <th>1</th>\n",
       "      <td>39.3</td>\n",
       "      <td>0</td>\n",
       "    </tr>\n",
       "    <tr>\n",
       "      <th>2</th>\n",
       "      <td>43.2</td>\n",
       "      <td>1</td>\n",
       "    </tr>\n",
       "  </tbody>\n",
       "</table>\n",
       "</div>"
      ],
      "text/plain": [
       "   work  hired\n",
       "0  42.5      1\n",
       "1  39.3      0\n",
       "2  43.2      1"
      ]
     },
     "execution_count": 3,
     "metadata": {},
     "output_type": "execute_result"
    }
   ],
   "source": [
    "interns = pd.read_csv(\"../datasets/interns.csv\")\n",
    "interns.head(3)"
   ]
  },
  {
   "cell_type": "code",
   "execution_count": 4,
   "id": "d9814666-fa5f-4a4d-b7e2-6246883099c8",
   "metadata": {},
   "outputs": [
    {
     "name": "stdout",
     "output_type": "stream",
     "text": [
      "Optimization terminated successfully.\n",
      "         Current function value: 0.138101\n",
      "         Iterations 10\n",
      "Intercept   -78.693205\n",
      "work          1.981458\n",
      "dtype: float64\n"
     ]
    }
   ],
   "source": [
    "import statsmodels.formula.api as smf\n",
    "\n",
    "lr1 = smf.logit(\"hired ~ 1 + work\", data=interns).fit()\n",
    "print(lr1.params)"
   ]
  },
  {
   "cell_type": "code",
   "execution_count": 5,
   "id": "e20890b0-14c5-4c5d-a974-6d69f05b5e4e",
   "metadata": {},
   "outputs": [
    {
     "data": {
      "image/png": "[encoded data removed]",
      "text/plain": [
       "<Figure size 640x480 with 1 Axes>"
      ]
     },
     "metadata": {},
     "output_type": "display_data"
    }
   ],
   "source": [
    "from ministats import plot_reg\n",
    "plot_reg(lr1);"
   ]
  },
  {
   "cell_type": "code",
   "execution_count": null,
   "id": "17111425-1c6f-4a2f-bfca-74da1333f381",
   "metadata": {},
   "outputs": [],
   "source": []
  }
 ],
 "metadata": {
  "kernelspec": {
   "display_name": "Python 3 (ipykernel)",
   "language": "python",
   "name": "python3"
  },
  "language_info": {
   "codemirror_mode": {
    "name": "ipython",
    "version": 3
   },
   "file_extension": ".py",
   "mimetype": "text/x-python",
   "name": "python",
   "nbconvert_exporter": "python",
   "pygments_lexer": "ipython3",
   "version": "3.9.4"
  }
 },
 "nbformat": 4,
 "nbformat_minor": 5
}
