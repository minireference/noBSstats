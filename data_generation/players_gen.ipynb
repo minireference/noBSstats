{
 "cells": [
  {
   "cell_type": "markdown",
   "id": "8ec5c2ef-65f9-4afb-bd74-950b133f37cc",
   "metadata": {},
   "source": [
    "# Players dataset generation\n",
    "\n",
    "For more info, see here: https://docs.google.com/spreadsheets/d/1JEBWhN82CrcQeL7t1mdIukNd1iHnlYaYLJAVS8s8paQ/edit#gid=0"
   ]
  },
  {
   "cell_type": "code",
   "execution_count": 1,
   "id": "0aa216cf-9005-4f27-9964-7383ba011530",
   "metadata": {},
   "outputs": [],
   "source": [
    "%matplotlib inline\n",
    "\n",
    "import matplotlib.pyplot as plt\n",
    "import numpy as np\n",
    "import pandas as pd\n",
    "import random\n",
    "from scipy.stats import norm, poisson\n",
    "import seaborn as sns\n",
    "\n",
    "\n",
    "# High-resolution please\n",
    "%config InlineBackend.figure_format = 'retina'"
   ]
  },
  {
   "cell_type": "code",
   "execution_count": 2,
   "id": "957cd886-2881-4653-abf9-04d8777aee5d",
   "metadata": {},
   "outputs": [],
   "source": [
    "n = 12  # number of observations\n",
    "\n",
    "columns = [\n",
    "    \"id\",       # int\n",
    "    \"name\",     # str\n",
    "    \"country\",  # categorical (country code)\n",
    "    \"age\",      # int\n",
    "    \"ezlvl\",    # categorical (1 or 0)\n",
    "    \"time\",     # float\n",
    "    \"points\",   # int\n",
    "    \"finished\",\t# categorical (1 or 0)\n",
    "]\n",
    "\n",
    "# latent variable\n",
    "#   \"jobstatus\" # categorical (1=employed or 0=unemployed)"
   ]
  },
  {
   "cell_type": "code",
   "execution_count": null,
   "id": "d3147f94-e00e-4b83-9546-daca402fc049",
   "metadata": {},
   "outputs": [],
   "source": []
  },
  {
   "cell_type": "code",
   "execution_count": null,
   "id": "12998512-308a-4259-a232-4ae295f1c7dc",
   "metadata": {},
   "outputs": [],
   "source": []
  },
  {
   "cell_type": "code",
   "execution_count": 3,
   "id": "a70b1c8b-c65d-4089-8b0d-7980bc9934eb",
   "metadata": {},
   "outputs": [
    {
     "data": {
      "text/plain": [
       "[557, 512, 640, 625, 614, 571, 552, 779, 544, 716, 516, 515]"
      ]
     },
     "execution_count": 3,
     "metadata": {},
     "output_type": "execute_result"
    }
   ],
   "source": [
    "random.seed(42)\n",
    "ids = [random.randint(500,800) for i in range(0,n)]\n",
    "ids"
   ]
  },
  {
   "cell_type": "code",
   "execution_count": null,
   "id": "a0799c0e-5629-464b-9600-9d473b79146c",
   "metadata": {},
   "outputs": [],
   "source": []
  },
  {
   "cell_type": "code",
   "execution_count": 4,
   "id": "e391a672-8f10-4cad-b4ba-d6325ba36421",
   "metadata": {},
   "outputs": [],
   "source": [
    "usernames = [\n",
    "    \"mary\",\n",
    "    \"jane\",\n",
    "    \"emil\",\n",
    "    \"ivan\",\n",
    "    \"hasan\",\n",
    "    \"jordan\",\n",
    "    \"sanjay\",\n",
    "    \"lena\",\n",
    "    \"shuo\",\n",
    "    \"r0byn\",\n",
    "    \"anna\",\n",
    "    \"joro\",\n",
    "]\n"
   ]
  },
  {
   "cell_type": "code",
   "execution_count": null,
   "id": "720d5db2-6979-4eda-a988-88fb35652b93",
   "metadata": {},
   "outputs": [],
   "source": []
  },
  {
   "cell_type": "code",
   "execution_count": 5,
   "id": "165dd69f-6e75-440e-a240-70fac82467f9",
   "metadata": {},
   "outputs": [
    {
     "data": {
      "text/plain": [
       "['us', 'ca', 'fr', 'ca', 'tr', 'us', 'ca', 'uk', 'cn', 'us', 'pl', 'bg']"
      ]
     },
     "execution_count": 5,
     "metadata": {},
     "output_type": "execute_result"
    }
   ],
   "source": [
    "# categorical (country code)\n",
    "#               ['mary', 'jane', 'emil', 'ivan', 'hasan', 'jordan', 'sanjay', 'lena', 'shuo', 'r0bin', 'anna', 'joro' ]\n",
    "country_codes = [\"us\",  \"ca\",    \"fr\",   \"ca\",   \"tr\",    \"us\",     \"ca\",     \"uk\",   \"cn\",   \"us\",    \"pl\",   \"bg\"   ]\n",
    "country_codes"
   ]
  },
  {
   "cell_type": "code",
   "execution_count": null,
   "id": "0bc6ec9a-91db-404f-bcaf-6d328069c53b",
   "metadata": {},
   "outputs": [],
   "source": []
  },
  {
   "cell_type": "code",
   "execution_count": 6,
   "id": "a8f984a8-3e54-4f18-86a1-9e7f8b5436b5",
   "metadata": {},
   "outputs": [
    {
     "data": {
      "text/plain": [
       "(33.75, [38, 21, 52, 50, 26, 45, 27, 23, 24, 59, 18, 22], 18)"
      ]
     },
     "execution_count": 6,
     "metadata": {},
     "output_type": "execute_result"
    },
    {
     "data": {
      "image/png": "[encoded data removed]",
      "text/plain": [
       "<Figure size 1000x100 with 1 Axes>"
      ]
     },
     "metadata": {
      "image/png": {
       "height": 120,
       "width": 799
      }
     },
     "output_type": "display_data"
    }
   ],
   "source": [
    "seed = 48\n",
    "random.seed(seed)\n",
    "np.random.seed(seed)\n",
    "\n",
    "def gen_age():\n",
    "    r = random.randint(0,2)\n",
    "    if r == 0:\n",
    "        age = poisson(mu=10, loc=13).rvs(1)[0]\n",
    "    else:\n",
    "        age = random.randint(18,60)\n",
    "    return age\n",
    "\n",
    "ages = [gen_age() for i in range(0,n)]\n",
    "with plt.rc_context({\"figure.figsize\":(10,1)}):\n",
    "    sns.stripplot(x=ages, jitter=0.1, alpha=0.4)\n",
    "np.mean(ages), ages, min(ages)"
   ]
  },
  {
   "cell_type": "code",
   "execution_count": null,
   "id": "6e3ca41b-29cd-4d35-9a97-b8db164d7f7c",
   "metadata": {},
   "outputs": [],
   "source": []
  },
  {
   "cell_type": "code",
   "execution_count": 7,
   "id": "b39786a7-9971-4d04-9f95-77739cad294a",
   "metadata": {},
   "outputs": [
    {
     "data": {
      "text/plain": [
       "([0, 0, 1, 1, 1, 0, 1, 0, 1, 0, 0, 1], 0.5)"
      ]
     },
     "execution_count": 7,
     "metadata": {},
     "output_type": "execute_result"
    }
   ],
   "source": [
    "random.seed(53)\n",
    "ezlvls = [0, 0, 1, 1, 1, 0, 1, 0, 1, 0, 0, 1]\n",
    "ezlvls, sum(ezlvls)/len(ezlvls)"
   ]
  },
  {
   "cell_type": "code",
   "execution_count": null,
   "id": "6ac2faba-04dd-475c-b430-dbbb65cbf453",
   "metadata": {},
   "outputs": [],
   "source": []
  },
  {
   "cell_type": "code",
   "execution_count": 8,
   "id": "83f1e83a-2821-4f91-be47-6a4c94c31c90",
   "metadata": {},
   "outputs": [
    {
     "name": "stdout",
     "output_type": "stream",
     "text": [
      "0-38, 1-21, 2-52, 3-50, 4-26, 5-45, 6-27, 7-23, 8-24, 9-59, 10-18, 11-22, "
     ]
    }
   ],
   "source": [
    "for i, age in enumerate(ages):\n",
    "    print(str(i)+\"-\"+str(age), end=\", \")"
   ]
  },
  {
   "cell_type": "code",
   "execution_count": 9,
   "id": "a4479cd9-5630-4016-b88f-af8885e1a380",
   "metadata": {},
   "outputs": [
    {
     "data": {
      "text/plain": [
       "([1, 1, 1, 1, 0, 1, 0, 0, 1, 1, 0, 0], 0.5833333333333334)"
      ]
     },
     "execution_count": 9,
     "metadata": {},
     "output_type": "execute_result"
    }
   ],
   "source": [
    "# i-age        0-38, 1-21, 2-52, 3-50, 4-26, 5-45, 6-27, 7-23, 8-24, 9-59, 10-18, 11-22 \n",
    "jobstatuses = [1,    1,    1,    1,    0,    1,    0,    0,    1,    1,    0,     0     ]\n",
    "jobstatuses, sum(jobstatuses)/len(jobstatuses)"
   ]
  },
  {
   "cell_type": "code",
   "execution_count": null,
   "id": "a11eeaa4-ce30-4722-b40e-33b7ff1cbd8f",
   "metadata": {},
   "outputs": [],
   "source": []
  },
  {
   "cell_type": "code",
   "execution_count": null,
   "id": "1407bffc-5091-469b-aabe-708220edf8d6",
   "metadata": {},
   "outputs": [],
   "source": []
  },
  {
   "cell_type": "code",
   "execution_count": 10,
   "id": "d1ddbe8a-712f-4ff7-8154-6a9ae0bca88e",
   "metadata": {},
   "outputs": [
    {
     "data": {
      "text/plain": [
       "(269.41290588554995,\n",
       " [124.93852827441272,\n",
       "  331.63573247118194,\n",
       "  324.61400286434304,\n",
       "  39.508425874140556,\n",
       "  253.1856321020095,\n",
       "  28.492954202663157,\n",
       "  585.8783691512555,\n",
       "  408.75879762658036,\n",
       "  194.7677803575266,\n",
       "  255.54716366546495,\n",
       "  303.6596305850437,\n",
       "  381.9678534519779],\n",
       " 28.492954202663157,\n",
       " 28.492954202663157)"
      ]
     },
     "execution_count": 10,
     "metadata": {},
     "output_type": "execute_result"
    },
    {
     "data": {
      "image/png": "[encoded data removed]",
      "text/plain": [
       "<Figure size 1000x100 with 1 Axes>"
      ]
     },
     "metadata": {
      "image/png": {
       "height": 120,
       "width": 799
      }
     },
     "output_type": "display_data"
    }
   ],
   "source": [
    "def get_time(age, jobstatus):\n",
    "    if jobstatus == 1:\n",
    "        time = norm(loc=200, scale=100).rvs(1)[0]\n",
    "    else:\n",
    "        time = norm(loc=400, scale=100).rvs(1)[0]\n",
    "    return time\n",
    "\n",
    "np.random.seed(44)\n",
    "times = [get_time(age, jobstatus) for age, jobstatus in zip(ages, jobstatuses)]\n",
    "\n",
    "with plt.rc_context({\"figure.figsize\":(10,1)}):\n",
    "    sns.stripplot(x=times, c=jobstatuses, jitter=0.1, alpha=0.4)\n",
    "np.mean(times), times, min(times), min(times)"
   ]
  },
  {
   "cell_type": "code",
   "execution_count": 11,
   "id": "5425eeeb-5101-4cf7-9944-d665f69a902e",
   "metadata": {},
   "outputs": [],
   "source": [
    "# # times in hours (to check if reasonable)\n",
    "# times_h = [t_min/60 for t_min in times]\n",
    "# times_h"
   ]
  },
  {
   "cell_type": "code",
   "execution_count": null,
   "id": "52008a9d-4516-41de-a4f2-6d134a4e627d",
   "metadata": {},
   "outputs": [],
   "source": []
  },
  {
   "cell_type": "code",
   "execution_count": 12,
   "id": "afc6b034-7d2e-4ce9-bc78-7185cde01465",
   "metadata": {},
   "outputs": [
    {
     "data": {
      "text/plain": [
       "([418, 1149, 1321, 226, 815, 206, 2344, 1745, 1043, 1102, 1209, 1491],\n",
       " 206,\n",
       " 2344)"
      ]
     },
     "execution_count": 12,
     "metadata": {},
     "output_type": "execute_result"
    },
    {
     "data": {
      "image/png": "[encoded data removed]",
      "text/plain": [
       "<Figure size 1000x100 with 1 Axes>"
      ]
     },
     "metadata": {
      "image/png": {
       "height": 120,
       "width": 799
      }
     },
     "output_type": "display_data"
    }
   ],
   "source": [
    "avg_pts_per_min = 4\n",
    "\n",
    "np.random.seed(50)\n",
    "def gen_points(time):\n",
    "    boost = norm(0,50).rvs(1)[0]\n",
    "    noise = norm(0,100).rvs(1)[0]\n",
    "    points = avg_pts_per_min * time + boost + noise\n",
    "    return int(points)\n",
    "\n",
    "points = [gen_points(time) for time in times]\n",
    "with plt.rc_context({\"figure.figsize\":(10,1)}):\n",
    "    sns.stripplot(x=points, c=jobstatuses, jitter=0.1, alpha=0.4)\n",
    "\n",
    "points, np.min(points), np.max(points)"
   ]
  },
  {
   "cell_type": "code",
   "execution_count": null,
   "id": "58e32433-fb01-4e9a-9fba-00e14fbb1db8",
   "metadata": {},
   "outputs": [],
   "source": []
  },
  {
   "cell_type": "code",
   "execution_count": 13,
   "id": "4063ec15-3b89-481b-889c-ad50984f0af8",
   "metadata": {},
   "outputs": [
    {
     "data": {
      "text/plain": [
       "([0, 1, 1, 0, 0, 0, 1, 1, 0, 0, 1, 1], 0.5)"
      ]
     },
     "execution_count": 13,
     "metadata": {},
     "output_type": "execute_result"
    }
   ],
   "source": [
    "# i-pts     0-592, 1-1327, 2-1408, 3-422, 4-1093, 5-109, 6-2306, 7-1670, 8-936, 9-1083, 10-1403, 11-1508, \n",
    "finisheds = [0,    1,      1,      0,     0,      0,     1,      1,      0,     0,      1,       1]\n",
    "finisheds, sum(finisheds)/len(finisheds)"
   ]
  },
  {
   "cell_type": "code",
   "execution_count": null,
   "id": "508406cf-94be-4b91-a0d7-906453b4c6db",
   "metadata": {},
   "outputs": [],
   "source": []
  },
  {
   "cell_type": "markdown",
   "id": "ab487f81-87b2-4102-a8d9-7261cb06c831",
   "metadata": {},
   "source": [
    "## Sanity checks"
   ]
  },
  {
   "cell_type": "code",
   "execution_count": 14,
   "id": "83ae6f46-8b4e-4c5f-99b9-1e88ef40020f",
   "metadata": {},
   "outputs": [],
   "source": [
    "players_dict = {\n",
    "    \"id\":ids,\n",
    "    \"username\": usernames,\n",
    "    \"country\": country_codes,\n",
    "    \"jobstatus\": jobstatuses,\n",
    "    \"age\":ages,\n",
    "    \"ezlvl\":ezlvls,\n",
    "    \"time\":[time.round(2) for time in times],\n",
    "    \"points\":points,\n",
    "    \"finished\":finisheds\n",
    "}\n",
    "for value in players_dict.values():\n",
    "    assert len(value) == n\n"
   ]
  },
  {
   "cell_type": "markdown",
   "id": "349e996b-30f8-4391-ad33-82105bed8e98",
   "metadata": {},
   "source": [
    "## Create full data frame"
   ]
  },
  {
   "cell_type": "code",
   "execution_count": 15,
   "id": "a0c7d156-b0de-4eea-895c-f52e5ccfcd52",
   "metadata": {},
   "outputs": [
    {
     "data": {
      "text/html": [
       "<div>\n",
       "<style scoped>\n",
       "    .dataframe tbody tr th:only-of-type {\n",
       "        vertical-align: middle;\n",
       "    }\n",
       "\n",
       "    .dataframe tbody tr th {\n",
       "        vertical-align: top;\n",
       "    }\n",
       "\n",
       "    .dataframe thead th {\n",
       "        text-align: right;\n",
       "    }\n",
       "</style>\n",
       "<table border=\"1\" class=\"dataframe\">\n",
       "  <thead>\n",
       "    <tr style=\"text-align: right;\">\n",
       "      <th></th>\n",
       "      <th>id</th>\n",
       "      <th>username</th>\n",
       "      <th>country</th>\n",
       "      <th>jobstatus</th>\n",
       "      <th>age</th>\n",
       "      <th>ezlvl</th>\n",
       "      <th>time</th>\n",
       "      <th>points</th>\n",
       "      <th>finished</th>\n",
       "    </tr>\n",
       "  </thead>\n",
       "  <tbody>\n",
       "    <tr>\n",
       "      <th>0</th>\n",
       "      <td>557</td>\n",
       "      <td>mary</td>\n",
       "      <td>us</td>\n",
       "      <td>1</td>\n",
       "      <td>38</td>\n",
       "      <td>0</td>\n",
       "      <td>124.94</td>\n",
       "      <td>418</td>\n",
       "      <td>0</td>\n",
       "    </tr>\n",
       "    <tr>\n",
       "      <th>1</th>\n",
       "      <td>512</td>\n",
       "      <td>jane</td>\n",
       "      <td>ca</td>\n",
       "      <td>1</td>\n",
       "      <td>21</td>\n",
       "      <td>0</td>\n",
       "      <td>331.64</td>\n",
       "      <td>1149</td>\n",
       "      <td>1</td>\n",
       "    </tr>\n",
       "    <tr>\n",
       "      <th>2</th>\n",
       "      <td>640</td>\n",
       "      <td>emil</td>\n",
       "      <td>fr</td>\n",
       "      <td>1</td>\n",
       "      <td>52</td>\n",
       "      <td>1</td>\n",
       "      <td>324.61</td>\n",
       "      <td>1321</td>\n",
       "      <td>1</td>\n",
       "    </tr>\n",
       "    <tr>\n",
       "      <th>3</th>\n",
       "      <td>625</td>\n",
       "      <td>ivan</td>\n",
       "      <td>ca</td>\n",
       "      <td>1</td>\n",
       "      <td>50</td>\n",
       "      <td>1</td>\n",
       "      <td>39.51</td>\n",
       "      <td>226</td>\n",
       "      <td>0</td>\n",
       "    </tr>\n",
       "    <tr>\n",
       "      <th>4</th>\n",
       "      <td>614</td>\n",
       "      <td>hasan</td>\n",
       "      <td>tr</td>\n",
       "      <td>0</td>\n",
       "      <td>26</td>\n",
       "      <td>1</td>\n",
       "      <td>253.19</td>\n",
       "      <td>815</td>\n",
       "      <td>0</td>\n",
       "    </tr>\n",
       "    <tr>\n",
       "      <th>5</th>\n",
       "      <td>571</td>\n",
       "      <td>jordan</td>\n",
       "      <td>us</td>\n",
       "      <td>1</td>\n",
       "      <td>45</td>\n",
       "      <td>0</td>\n",
       "      <td>28.49</td>\n",
       "      <td>206</td>\n",
       "      <td>0</td>\n",
       "    </tr>\n",
       "    <tr>\n",
       "      <th>6</th>\n",
       "      <td>552</td>\n",
       "      <td>sanjay</td>\n",
       "      <td>ca</td>\n",
       "      <td>0</td>\n",
       "      <td>27</td>\n",
       "      <td>1</td>\n",
       "      <td>585.88</td>\n",
       "      <td>2344</td>\n",
       "      <td>1</td>\n",
       "    </tr>\n",
       "    <tr>\n",
       "      <th>7</th>\n",
       "      <td>779</td>\n",
       "      <td>lena</td>\n",
       "      <td>uk</td>\n",
       "      <td>0</td>\n",
       "      <td>23</td>\n",
       "      <td>0</td>\n",
       "      <td>408.76</td>\n",
       "      <td>1745</td>\n",
       "      <td>1</td>\n",
       "    </tr>\n",
       "    <tr>\n",
       "      <th>8</th>\n",
       "      <td>544</td>\n",
       "      <td>shuo</td>\n",
       "      <td>cn</td>\n",
       "      <td>1</td>\n",
       "      <td>24</td>\n",
       "      <td>1</td>\n",
       "      <td>194.77</td>\n",
       "      <td>1043</td>\n",
       "      <td>0</td>\n",
       "    </tr>\n",
       "    <tr>\n",
       "      <th>9</th>\n",
       "      <td>716</td>\n",
       "      <td>r0byn</td>\n",
       "      <td>us</td>\n",
       "      <td>1</td>\n",
       "      <td>59</td>\n",
       "      <td>0</td>\n",
       "      <td>255.55</td>\n",
       "      <td>1102</td>\n",
       "      <td>0</td>\n",
       "    </tr>\n",
       "    <tr>\n",
       "      <th>10</th>\n",
       "      <td>516</td>\n",
       "      <td>anna</td>\n",
       "      <td>pl</td>\n",
       "      <td>0</td>\n",
       "      <td>18</td>\n",
       "      <td>0</td>\n",
       "      <td>303.66</td>\n",
       "      <td>1209</td>\n",
       "      <td>1</td>\n",
       "    </tr>\n",
       "    <tr>\n",
       "      <th>11</th>\n",
       "      <td>515</td>\n",
       "      <td>joro</td>\n",
       "      <td>bg</td>\n",
       "      <td>0</td>\n",
       "      <td>22</td>\n",
       "      <td>1</td>\n",
       "      <td>381.97</td>\n",
       "      <td>1491</td>\n",
       "      <td>1</td>\n",
       "    </tr>\n",
       "  </tbody>\n",
       "</table>\n",
       "</div>"
      ],
      "text/plain": [
       "     id username country  jobstatus  age  ezlvl    time  points  finished\n",
       "0   557     mary      us          1   38      0  124.94     418         0\n",
       "1   512     jane      ca          1   21      0  331.64    1149         1\n",
       "2   640     emil      fr          1   52      1  324.61    1321         1\n",
       "3   625     ivan      ca          1   50      1   39.51     226         0\n",
       "4   614    hasan      tr          0   26      1  253.19     815         0\n",
       "5   571   jordan      us          1   45      0   28.49     206         0\n",
       "6   552   sanjay      ca          0   27      1  585.88    2344         1\n",
       "7   779     lena      uk          0   23      0  408.76    1745         1\n",
       "8   544     shuo      cn          1   24      1  194.77    1043         0\n",
       "9   716    r0byn      us          1   59      0  255.55    1102         0\n",
       "10  516     anna      pl          0   18      0  303.66    1209         1\n",
       "11  515     joro      bg          0   22      1  381.97    1491         1"
      ]
     },
     "execution_count": 15,
     "metadata": {},
     "output_type": "execute_result"
    }
   ],
   "source": [
    "players_full = pd.DataFrame(players_dict)\n",
    "players_full"
   ]
  },
  {
   "cell_type": "code",
   "execution_count": null,
   "id": "4507b53c-0fb0-4ff6-aa36-3662232707aa",
   "metadata": {},
   "outputs": [],
   "source": []
  },
  {
   "cell_type": "markdown",
   "id": "e69bc321-d9fc-41fc-b7fa-b06114e57b8d",
   "metadata": {},
   "source": [
    "## Create players data frame"
   ]
  },
  {
   "cell_type": "code",
   "execution_count": 16,
   "id": "72228f3d-d993-43c8-862f-08ef515907e1",
   "metadata": {},
   "outputs": [
    {
     "data": {
      "text/html": [
       "<div>\n",
       "<style scoped>\n",
       "    .dataframe tbody tr th:only-of-type {\n",
       "        vertical-align: middle;\n",
       "    }\n",
       "\n",
       "    .dataframe tbody tr th {\n",
       "        vertical-align: top;\n",
       "    }\n",
       "\n",
       "    .dataframe thead th {\n",
       "        text-align: right;\n",
       "    }\n",
       "</style>\n",
       "<table border=\"1\" class=\"dataframe\">\n",
       "  <thead>\n",
       "    <tr style=\"text-align: right;\">\n",
       "      <th></th>\n",
       "      <th>id</th>\n",
       "      <th>username</th>\n",
       "      <th>country</th>\n",
       "      <th>age</th>\n",
       "      <th>ezlvl</th>\n",
       "      <th>time</th>\n",
       "      <th>points</th>\n",
       "      <th>finished</th>\n",
       "    </tr>\n",
       "  </thead>\n",
       "  <tbody>\n",
       "    <tr>\n",
       "      <th>0</th>\n",
       "      <td>557</td>\n",
       "      <td>mary</td>\n",
       "      <td>us</td>\n",
       "      <td>38</td>\n",
       "      <td>0</td>\n",
       "      <td>124.94</td>\n",
       "      <td>418</td>\n",
       "      <td>0</td>\n",
       "    </tr>\n",
       "    <tr>\n",
       "      <th>1</th>\n",
       "      <td>512</td>\n",
       "      <td>jane</td>\n",
       "      <td>ca</td>\n",
       "      <td>21</td>\n",
       "      <td>0</td>\n",
       "      <td>331.64</td>\n",
       "      <td>1149</td>\n",
       "      <td>1</td>\n",
       "    </tr>\n",
       "    <tr>\n",
       "      <th>2</th>\n",
       "      <td>640</td>\n",
       "      <td>emil</td>\n",
       "      <td>fr</td>\n",
       "      <td>52</td>\n",
       "      <td>1</td>\n",
       "      <td>324.61</td>\n",
       "      <td>1321</td>\n",
       "      <td>1</td>\n",
       "    </tr>\n",
       "    <tr>\n",
       "      <th>3</th>\n",
       "      <td>625</td>\n",
       "      <td>ivan</td>\n",
       "      <td>ca</td>\n",
       "      <td>50</td>\n",
       "      <td>1</td>\n",
       "      <td>39.51</td>\n",
       "      <td>226</td>\n",
       "      <td>0</td>\n",
       "    </tr>\n",
       "    <tr>\n",
       "      <th>4</th>\n",
       "      <td>614</td>\n",
       "      <td>hasan</td>\n",
       "      <td>tr</td>\n",
       "      <td>26</td>\n",
       "      <td>1</td>\n",
       "      <td>253.19</td>\n",
       "      <td>815</td>\n",
       "      <td>0</td>\n",
       "    </tr>\n",
       "    <tr>\n",
       "      <th>5</th>\n",
       "      <td>571</td>\n",
       "      <td>jordan</td>\n",
       "      <td>us</td>\n",
       "      <td>45</td>\n",
       "      <td>0</td>\n",
       "      <td>28.49</td>\n",
       "      <td>206</td>\n",
       "      <td>0</td>\n",
       "    </tr>\n",
       "    <tr>\n",
       "      <th>6</th>\n",
       "      <td>552</td>\n",
       "      <td>sanjay</td>\n",
       "      <td>ca</td>\n",
       "      <td>27</td>\n",
       "      <td>1</td>\n",
       "      <td>585.88</td>\n",
       "      <td>2344</td>\n",
       "      <td>1</td>\n",
       "    </tr>\n",
       "    <tr>\n",
       "      <th>7</th>\n",
       "      <td>779</td>\n",
       "      <td>lena</td>\n",
       "      <td>uk</td>\n",
       "      <td>23</td>\n",
       "      <td>0</td>\n",
       "      <td>408.76</td>\n",
       "      <td>1745</td>\n",
       "      <td>1</td>\n",
       "    </tr>\n",
       "    <tr>\n",
       "      <th>8</th>\n",
       "      <td>544</td>\n",
       "      <td>shuo</td>\n",
       "      <td>cn</td>\n",
       "      <td>24</td>\n",
       "      <td>1</td>\n",
       "      <td>194.77</td>\n",
       "      <td>1043</td>\n",
       "      <td>0</td>\n",
       "    </tr>\n",
       "    <tr>\n",
       "      <th>9</th>\n",
       "      <td>716</td>\n",
       "      <td>r0byn</td>\n",
       "      <td>us</td>\n",
       "      <td>59</td>\n",
       "      <td>0</td>\n",
       "      <td>255.55</td>\n",
       "      <td>1102</td>\n",
       "      <td>0</td>\n",
       "    </tr>\n",
       "    <tr>\n",
       "      <th>10</th>\n",
       "      <td>516</td>\n",
       "      <td>anna</td>\n",
       "      <td>pl</td>\n",
       "      <td>18</td>\n",
       "      <td>0</td>\n",
       "      <td>303.66</td>\n",
       "      <td>1209</td>\n",
       "      <td>1</td>\n",
       "    </tr>\n",
       "    <tr>\n",
       "      <th>11</th>\n",
       "      <td>515</td>\n",
       "      <td>joro</td>\n",
       "      <td>bg</td>\n",
       "      <td>22</td>\n",
       "      <td>1</td>\n",
       "      <td>381.97</td>\n",
       "      <td>1491</td>\n",
       "      <td>1</td>\n",
       "    </tr>\n",
       "  </tbody>\n",
       "</table>\n",
       "</div>"
      ],
      "text/plain": [
       "     id username country  age  ezlvl    time  points  finished\n",
       "0   557     mary      us   38      0  124.94     418         0\n",
       "1   512     jane      ca   21      0  331.64    1149         1\n",
       "2   640     emil      fr   52      1  324.61    1321         1\n",
       "3   625     ivan      ca   50      1   39.51     226         0\n",
       "4   614    hasan      tr   26      1  253.19     815         0\n",
       "5   571   jordan      us   45      0   28.49     206         0\n",
       "6   552   sanjay      ca   27      1  585.88    2344         1\n",
       "7   779     lena      uk   23      0  408.76    1745         1\n",
       "8   544     shuo      cn   24      1  194.77    1043         0\n",
       "9   716    r0byn      us   59      0  255.55    1102         0\n",
       "10  516     anna      pl   18      0  303.66    1209         1\n",
       "11  515     joro      bg   22      1  381.97    1491         1"
      ]
     },
     "execution_count": 16,
     "metadata": {},
     "output_type": "execute_result"
    }
   ],
   "source": [
    "players = players_full.drop(columns=[\"jobstatus\"])\n",
    "players"
   ]
  },
  {
   "cell_type": "code",
   "execution_count": 28,
   "id": "ed89ce81-4ecb-4f5d-9ffc-f8be270614fd",
   "metadata": {},
   "outputs": [],
   "source": [
    "# for copy-pasting into LaTeX\n",
    "# print(players.to_latex())"
   ]
  },
  {
   "cell_type": "code",
   "execution_count": null,
   "id": "79791880-cc72-40e8-8149-0702eaa8854b",
   "metadata": {},
   "outputs": [],
   "source": []
  },
  {
   "cell_type": "markdown",
   "id": "db7fcfa4-44b1-4f21-aa99-c1c874302aef",
   "metadata": {},
   "source": [
    "## Save data files"
   ]
  },
  {
   "cell_type": "code",
   "execution_count": 18,
   "id": "ba82efc8-36e1-45e0-91a2-6a21df9099a0",
   "metadata": {},
   "outputs": [],
   "source": [
    "players.to_csv(\"../datasets/players.csv\")"
   ]
  },
  {
   "cell_type": "code",
   "execution_count": 19,
   "id": "1a97336a-2aa3-44f6-b96f-35bd9dcac2f4",
   "metadata": {},
   "outputs": [],
   "source": [
    "# for copy pasting into gsheet\n",
    "# https://docs.google.com/spreadsheets/d/1JEBWhN82CrcQeL7t1mdIukNd1iHnlYaYLJAVS8s8paQ/edit#gid=182671088\n",
    "# players.to_csv(\"../datasets/players.tsv\", sep=\"\\t\")"
   ]
  },
  {
   "cell_type": "code",
   "execution_count": null,
   "id": "c85271e4-19c3-4d13-b26a-3ad52cf34f64",
   "metadata": {},
   "outputs": [],
   "source": []
  },
  {
   "cell_type": "markdown",
   "id": "5e015ef9-cd74-48ee-bb0b-a901d64a7e4e",
   "metadata": {},
   "source": [
    "## Preliminary analysis"
   ]
  },
  {
   "cell_type": "markdown",
   "id": "7a13d541-7962-4fcd-a139-dc55624b2fab",
   "metadata": {},
   "source": [
    "### Use case 1\n",
    "In Sec 1.1\tuse `time ~ ezlvl` to discuss experiment on improvements in retention\n"
   ]
  },
  {
   "cell_type": "code",
   "execution_count": 25,
   "id": "b48dd010-c3ca-456a-a4d2-a16e2ae3dd7f",
   "metadata": {},
   "outputs": [
    {
     "data": {
      "text/plain": [
       "<seaborn.axisgrid.FacetGrid at 0x128301d30>"
      ]
     },
     "execution_count": 25,
     "metadata": {},
     "output_type": "execute_result"
    },
    {
     "data": {
      "image/png": "[encoded data removed]",
      "text/plain": [
       "<Figure size 500x500 with 1 Axes>"
      ]
     },
     "metadata": {
      "image/png": {
       "height": 489,
       "width": 490
      }
     },
     "output_type": "display_data"
    }
   ],
   "source": [
    "sns.lmplot(x=\"ezlvl\", y=\"time\", data=players)"
   ]
  },
  {
   "cell_type": "markdown",
   "id": "82db081c-f9ab-4dab-a0d0-7119eb385b08",
   "metadata": {},
   "source": [
    "### Use case 2\n",
    "In Sec 1.1 use `time ~ age` to look for correlation between age and engagement."
   ]
  },
  {
   "cell_type": "code",
   "execution_count": 24,
   "id": "27358723-2590-41cb-bc3c-f02372f2aa6f",
   "metadata": {},
   "outputs": [
    {
     "data": {
      "text/plain": [
       "<seaborn.axisgrid.FacetGrid at 0x12805ab80>"
      ]
     },
     "execution_count": 24,
     "metadata": {},
     "output_type": "execute_result"
    },
    {
     "data": {
      "image/png": "[encoded data removed]",
      "text/plain": [
       "<Figure size 500x500 with 1 Axes>"
      ]
     },
     "metadata": {
      "image/png": {
       "height": 489,
       "width": 490
      }
     },
     "output_type": "display_data"
    }
   ],
   "source": [
    "sns.lmplot(x=\"age\", y=\"time\", data=players)"
   ]
  },
  {
   "cell_type": "markdown",
   "id": "5379e4f5-eae3-49a0-bc0f-d31c4632daf7",
   "metadata": {},
   "source": [
    "#### Use case 3\t\n",
    "\n",
    "In Sec 1.1\t`jobstatus` (non-existent)\texplain possible confounding of `time~age` correlation by confounder var. \"employed\" no time to play game vs. \"unemployed\" has time to play game, with young ppl being more likely to be unemployed"
   ]
  },
  {
   "cell_type": "code",
   "execution_count": 26,
   "id": "4176ddf8-1975-48fc-b3c9-53c6a5ea933d",
   "metadata": {},
   "outputs": [
    {
     "data": {
      "text/plain": [
       "<seaborn.axisgrid.FacetGrid at 0x12838d190>"
      ]
     },
     "execution_count": 26,
     "metadata": {},
     "output_type": "execute_result"
    },
    {
     "data": {
      "image/png": "[encoded data removed]",
      "text/plain": [
       "<Figure size 575.111x500 with 1 Axes>"
      ]
     },
     "metadata": {
      "image/png": {
       "height": 489,
       "width": 560
      }
     },
     "output_type": "display_data"
    }
   ],
   "source": [
    "sns.lmplot(x=\"age\", y=\"time\", hue=\"jobstatus\", data=players_full)"
   ]
  },
  {
   "cell_type": "code",
   "execution_count": null,
   "id": "3b51bd91-8dd9-4cd9-b915-cd549b265357",
   "metadata": {},
   "outputs": [],
   "source": []
  },
  {
   "cell_type": "markdown",
   "id": "ea3b6d07-7ee0-41ce-86e7-5a2e376498a1",
   "metadata": {},
   "source": [
    "### Check if data frame is balanced\n",
    "\n",
    "Did the `ezlvl` random assignment give us two comparable groups?"
   ]
  },
  {
   "cell_type": "code",
   "execution_count": 23,
   "id": "7137a0ef-d4d2-4630-83e9-a7103db64922",
   "metadata": {},
   "outputs": [
    {
     "data": {
      "text/html": [
       "<div>\n",
       "<style scoped>\n",
       "    .dataframe tbody tr th:only-of-type {\n",
       "        vertical-align: middle;\n",
       "    }\n",
       "\n",
       "    .dataframe tbody tr th {\n",
       "        vertical-align: top;\n",
       "    }\n",
       "\n",
       "    .dataframe thead th {\n",
       "        text-align: right;\n",
       "    }\n",
       "</style>\n",
       "<table border=\"1\" class=\"dataframe\">\n",
       "  <thead>\n",
       "    <tr style=\"text-align: right;\">\n",
       "      <th></th>\n",
       "      <th>ezlvl</th>\n",
       "      <th>0</th>\n",
       "      <th>1</th>\n",
       "    </tr>\n",
       "  </thead>\n",
       "  <tbody>\n",
       "    <tr>\n",
       "      <th rowspan=\"8\" valign=\"top\">jobstatus</th>\n",
       "      <th>count</th>\n",
       "      <td>6.000000</td>\n",
       "      <td>6.000000</td>\n",
       "    </tr>\n",
       "    <tr>\n",
       "      <th>mean</th>\n",
       "      <td>0.666667</td>\n",
       "      <td>0.500000</td>\n",
       "    </tr>\n",
       "    <tr>\n",
       "      <th>std</th>\n",
       "      <td>0.516398</td>\n",
       "      <td>0.547723</td>\n",
       "    </tr>\n",
       "    <tr>\n",
       "      <th>min</th>\n",
       "      <td>0.000000</td>\n",
       "      <td>0.000000</td>\n",
       "    </tr>\n",
       "    <tr>\n",
       "      <th>25%</th>\n",
       "      <td>0.250000</td>\n",
       "      <td>0.000000</td>\n",
       "    </tr>\n",
       "    <tr>\n",
       "      <th>50%</th>\n",
       "      <td>1.000000</td>\n",
       "      <td>0.500000</td>\n",
       "    </tr>\n",
       "    <tr>\n",
       "      <th>75%</th>\n",
       "      <td>1.000000</td>\n",
       "      <td>1.000000</td>\n",
       "    </tr>\n",
       "    <tr>\n",
       "      <th>max</th>\n",
       "      <td>1.000000</td>\n",
       "      <td>1.000000</td>\n",
       "    </tr>\n",
       "    <tr>\n",
       "      <th rowspan=\"8\" valign=\"top\">time</th>\n",
       "      <th>count</th>\n",
       "      <td>6.000000</td>\n",
       "      <td>6.000000</td>\n",
       "    </tr>\n",
       "    <tr>\n",
       "      <th>mean</th>\n",
       "      <td>242.173333</td>\n",
       "      <td>296.655000</td>\n",
       "    </tr>\n",
       "    <tr>\n",
       "      <th>std</th>\n",
       "      <td>140.797137</td>\n",
       "      <td>184.447576</td>\n",
       "    </tr>\n",
       "    <tr>\n",
       "      <th>min</th>\n",
       "      <td>28.490000</td>\n",
       "      <td>39.510000</td>\n",
       "    </tr>\n",
       "    <tr>\n",
       "      <th>25%</th>\n",
       "      <td>157.592500</td>\n",
       "      <td>209.375000</td>\n",
       "    </tr>\n",
       "    <tr>\n",
       "      <th>50%</th>\n",
       "      <td>279.605000</td>\n",
       "      <td>288.900000</td>\n",
       "    </tr>\n",
       "    <tr>\n",
       "      <th>75%</th>\n",
       "      <td>324.645000</td>\n",
       "      <td>367.630000</td>\n",
       "    </tr>\n",
       "    <tr>\n",
       "      <th>max</th>\n",
       "      <td>408.760000</td>\n",
       "      <td>585.880000</td>\n",
       "    </tr>\n",
       "    <tr>\n",
       "      <th rowspan=\"8\" valign=\"top\">age</th>\n",
       "      <th>count</th>\n",
       "      <td>6.000000</td>\n",
       "      <td>6.000000</td>\n",
       "    </tr>\n",
       "    <tr>\n",
       "      <th>mean</th>\n",
       "      <td>34.000000</td>\n",
       "      <td>33.500000</td>\n",
       "    </tr>\n",
       "    <tr>\n",
       "      <th>std</th>\n",
       "      <td>16.174053</td>\n",
       "      <td>13.678450</td>\n",
       "    </tr>\n",
       "    <tr>\n",
       "      <th>min</th>\n",
       "      <td>18.000000</td>\n",
       "      <td>22.000000</td>\n",
       "    </tr>\n",
       "    <tr>\n",
       "      <th>25%</th>\n",
       "      <td>21.500000</td>\n",
       "      <td>24.500000</td>\n",
       "    </tr>\n",
       "    <tr>\n",
       "      <th>50%</th>\n",
       "      <td>30.500000</td>\n",
       "      <td>26.500000</td>\n",
       "    </tr>\n",
       "    <tr>\n",
       "      <th>75%</th>\n",
       "      <td>43.250000</td>\n",
       "      <td>44.250000</td>\n",
       "    </tr>\n",
       "    <tr>\n",
       "      <th>max</th>\n",
       "      <td>59.000000</td>\n",
       "      <td>52.000000</td>\n",
       "    </tr>\n",
       "    <tr>\n",
       "      <th rowspan=\"8\" valign=\"top\">points</th>\n",
       "      <th>count</th>\n",
       "      <td>6.000000</td>\n",
       "      <td>6.000000</td>\n",
       "    </tr>\n",
       "    <tr>\n",
       "      <th>mean</th>\n",
       "      <td>971.500000</td>\n",
       "      <td>1206.666667</td>\n",
       "    </tr>\n",
       "    <tr>\n",
       "      <th>std</th>\n",
       "      <td>564.906629</td>\n",
       "      <td>711.244168</td>\n",
       "    </tr>\n",
       "    <tr>\n",
       "      <th>min</th>\n",
       "      <td>206.000000</td>\n",
       "      <td>226.000000</td>\n",
       "    </tr>\n",
       "    <tr>\n",
       "      <th>25%</th>\n",
       "      <td>589.000000</td>\n",
       "      <td>872.000000</td>\n",
       "    </tr>\n",
       "    <tr>\n",
       "      <th>50%</th>\n",
       "      <td>1125.500000</td>\n",
       "      <td>1182.000000</td>\n",
       "    </tr>\n",
       "    <tr>\n",
       "      <th>75%</th>\n",
       "      <td>1194.000000</td>\n",
       "      <td>1448.500000</td>\n",
       "    </tr>\n",
       "    <tr>\n",
       "      <th>max</th>\n",
       "      <td>1745.000000</td>\n",
       "      <td>2344.000000</td>\n",
       "    </tr>\n",
       "    <tr>\n",
       "      <th rowspan=\"8\" valign=\"top\">finished</th>\n",
       "      <th>count</th>\n",
       "      <td>6.000000</td>\n",
       "      <td>6.000000</td>\n",
       "    </tr>\n",
       "    <tr>\n",
       "      <th>mean</th>\n",
       "      <td>0.500000</td>\n",
       "      <td>0.500000</td>\n",
       "    </tr>\n",
       "    <tr>\n",
       "      <th>std</th>\n",
       "      <td>0.547723</td>\n",
       "      <td>0.547723</td>\n",
       "    </tr>\n",
       "    <tr>\n",
       "      <th>min</th>\n",
       "      <td>0.000000</td>\n",
       "      <td>0.000000</td>\n",
       "    </tr>\n",
       "    <tr>\n",
       "      <th>25%</th>\n",
       "      <td>0.000000</td>\n",
       "      <td>0.000000</td>\n",
       "    </tr>\n",
       "    <tr>\n",
       "      <th>50%</th>\n",
       "      <td>0.500000</td>\n",
       "      <td>0.500000</td>\n",
       "    </tr>\n",
       "    <tr>\n",
       "      <th>75%</th>\n",
       "      <td>1.000000</td>\n",
       "      <td>1.000000</td>\n",
       "    </tr>\n",
       "    <tr>\n",
       "      <th>max</th>\n",
       "      <td>1.000000</td>\n",
       "      <td>1.000000</td>\n",
       "    </tr>\n",
       "  </tbody>\n",
       "</table>\n",
       "</div>"
      ],
      "text/plain": [
       "ezlvl                      0            1\n",
       "jobstatus count     6.000000     6.000000\n",
       "          mean      0.666667     0.500000\n",
       "          std       0.516398     0.547723\n",
       "          min       0.000000     0.000000\n",
       "          25%       0.250000     0.000000\n",
       "          50%       1.000000     0.500000\n",
       "          75%       1.000000     1.000000\n",
       "          max       1.000000     1.000000\n",
       "time      count     6.000000     6.000000\n",
       "          mean    242.173333   296.655000\n",
       "          std     140.797137   184.447576\n",
       "          min      28.490000    39.510000\n",
       "          25%     157.592500   209.375000\n",
       "          50%     279.605000   288.900000\n",
       "          75%     324.645000   367.630000\n",
       "          max     408.760000   585.880000\n",
       "age       count     6.000000     6.000000\n",
       "          mean     34.000000    33.500000\n",
       "          std      16.174053    13.678450\n",
       "          min      18.000000    22.000000\n",
       "          25%      21.500000    24.500000\n",
       "          50%      30.500000    26.500000\n",
       "          75%      43.250000    44.250000\n",
       "          max      59.000000    52.000000\n",
       "points    count     6.000000     6.000000\n",
       "          mean    971.500000  1206.666667\n",
       "          std     564.906629   711.244168\n",
       "          min     206.000000   226.000000\n",
       "          25%     589.000000   872.000000\n",
       "          50%    1125.500000  1182.000000\n",
       "          75%    1194.000000  1448.500000\n",
       "          max    1745.000000  2344.000000\n",
       "finished  count     6.000000     6.000000\n",
       "          mean      0.500000     0.500000\n",
       "          std       0.547723     0.547723\n",
       "          min       0.000000     0.000000\n",
       "          25%       0.000000     0.000000\n",
       "          50%       0.500000     0.500000\n",
       "          75%       1.000000     1.000000\n",
       "          max       1.000000     1.000000"
      ]
     },
     "execution_count": 23,
     "metadata": {},
     "output_type": "execute_result"
    }
   ],
   "source": [
    "players_full.groupby(\"ezlvl\")[[\"jobstatus\",\"time\",\"age\",\"points\",\"finished\"]].describe().T"
   ]
  }
 ],
 "metadata": {
  "kernelspec": {
   "display_name": "Python 3 (ipykernel)",
   "language": "python",
   "name": "python3"
  },
  "language_info": {
   "codemirror_mode": {
    "name": "ipython",
    "version": 3
   },
   "file_extension": ".py",
   "mimetype": "text/x-python",
   "name": "python",
   "nbconvert_exporter": "python",
   "pygments_lexer": "ipython3",
   "version": "3.9.4"
  }
 },
 "nbformat": 4,
 "nbformat_minor": 5
}
