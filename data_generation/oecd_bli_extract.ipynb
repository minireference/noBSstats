{
 "cells": [
  {
   "cell_type": "markdown",
   "id": "8cd0f43d-d6a0-4b11-a327-32b8ce1e6fc7",
   "metadata": {},
   "source": [
    "# OECD Better Life Index and GDP data cleaning\n",
    "\n",
    "inspired by https://kirenz.github.io/regression/docs/ds-happy-stats.html\n"
   ]
  },
  {
   "cell_type": "code",
   "execution_count": 17,
   "id": "85b0cf5c-8878-447c-afd9-3ee31dac3ab7",
   "metadata": {},
   "outputs": [],
   "source": [
    "import pandas as pd"
   ]
  },
  {
   "cell_type": "code",
   "execution_count": 18,
   "id": "f337b94c-c108-4bca-8c21-a932346a92a3",
   "metadata": {},
   "outputs": [],
   "source": [
    "datafilepath = \"../datasets/oecd_bli.csv\""
   ]
  },
  {
   "cell_type": "code",
   "execution_count": null,
   "id": "379328e3-5a4e-4ac4-a8d4-c58c92b975c0",
   "metadata": {},
   "outputs": [],
   "source": []
  },
  {
   "cell_type": "markdown",
   "id": "10be0510-7bea-4bfc-88bd-864c96ea447b",
   "metadata": {},
   "source": [
    "## Better Life Index data"
   ]
  },
  {
   "cell_type": "code",
   "execution_count": 19,
   "id": "83216764-cdc5-45b2-918c-efcf1fcbb417",
   "metadata": {},
   "outputs": [
    {
     "data": {
      "text/html": [
       "<div>\n",
       "<style scoped>\n",
       "    .dataframe tbody tr th:only-of-type {\n",
       "        vertical-align: middle;\n",
       "    }\n",
       "\n",
       "    .dataframe tbody tr th {\n",
       "        vertical-align: top;\n",
       "    }\n",
       "\n",
       "    .dataframe thead th {\n",
       "        text-align: right;\n",
       "    }\n",
       "</style>\n",
       "<table border=\"1\" class=\"dataframe\">\n",
       "  <thead>\n",
       "    <tr style=\"text-align: right;\">\n",
       "      <th>Indicator</th>\n",
       "      <th>educ</th>\n",
       "      <th>income</th>\n",
       "      <th>lifesat</th>\n",
       "      <th>salary</th>\n",
       "    </tr>\n",
       "    <tr>\n",
       "      <th>Country</th>\n",
       "      <th></th>\n",
       "      <th></th>\n",
       "      <th></th>\n",
       "      <th></th>\n",
       "    </tr>\n",
       "  </thead>\n",
       "  <tbody>\n",
       "    <tr>\n",
       "      <th>Australia</th>\n",
       "      <td>84.0</td>\n",
       "      <td>37433.0</td>\n",
       "      <td>7.1</td>\n",
       "      <td>55206.0</td>\n",
       "    </tr>\n",
       "    <tr>\n",
       "      <th>Austria</th>\n",
       "      <td>86.0</td>\n",
       "      <td>37001.0</td>\n",
       "      <td>7.2</td>\n",
       "      <td>53132.0</td>\n",
       "    </tr>\n",
       "    <tr>\n",
       "      <th>Belgium</th>\n",
       "      <td>80.0</td>\n",
       "      <td>34884.0</td>\n",
       "      <td>6.8</td>\n",
       "      <td>54327.0</td>\n",
       "    </tr>\n",
       "    <tr>\n",
       "      <th>Brazil</th>\n",
       "      <td>57.0</td>\n",
       "      <td>NaN</td>\n",
       "      <td>6.1</td>\n",
       "      <td>NaN</td>\n",
       "    </tr>\n",
       "    <tr>\n",
       "      <th>Canada</th>\n",
       "      <td>92.0</td>\n",
       "      <td>34421.0</td>\n",
       "      <td>7.0</td>\n",
       "      <td>55342.0</td>\n",
       "    </tr>\n",
       "  </tbody>\n",
       "</table>\n",
       "</div>"
      ],
      "text/plain": [
       "Indicator  educ   income  lifesat   salary\n",
       "Country                                   \n",
       "Australia  84.0  37433.0      7.1  55206.0\n",
       "Austria    86.0  37001.0      7.2  53132.0\n",
       "Belgium    80.0  34884.0      6.8  54327.0\n",
       "Brazil     57.0      NaN      6.1      NaN\n",
       "Canada     92.0  34421.0      7.0  55342.0"
      ]
     },
     "execution_count": 19,
     "metadata": {},
     "output_type": "execute_result"
    }
   ],
   "source": [
    "rawblifile = \"../datasets/raw/OECD/rawdata-2024-03-07-bli.csv\"\n",
    "rawbli = pd.read_csv(rawblifile)\n",
    "\n",
    "\n",
    "indicators = {\n",
    "    'Household net adjusted disposable income':\"income\",\n",
    "    'Life satisfaction':\"lifesat\",\n",
    "    'Personal earnings':\"salary\",\n",
    "    'Educational attainment':\"educ\",\n",
    "}\n",
    "\n",
    "bli = (rawbli[ (rawbli[\"Indicator\"].isin(indicators.keys())) &\n",
    "               (rawbli[\"INEQUALITY\"] == \"TOT\")] \n",
    "        [[\"Country\",\"Indicator\",\"Value\"]] \n",
    "        .pivot(index=\"Country\", columns=\"Indicator\", values=\"Value\") \n",
    "        .rename(columns=indicators)\n",
    "      )\n",
    "bli.head()"
   ]
  },
  {
   "cell_type": "code",
   "execution_count": null,
   "id": "dcc36210-700f-4e66-98b7-d73d82bb2482",
   "metadata": {},
   "outputs": [],
   "source": []
  },
  {
   "cell_type": "markdown",
   "id": "cff4f2ca-5c27-4742-a7d2-feadeb08e486",
   "metadata": {},
   "source": [
    "## GDP data"
   ]
  },
  {
   "cell_type": "code",
   "execution_count": 20,
   "id": "8d6a49c7-9ad8-4ce3-b299-bb9dbbb06566",
   "metadata": {},
   "outputs": [
    {
     "data": {
      "text/html": [
       "<div>\n",
       "<style scoped>\n",
       "    .dataframe tbody tr th:only-of-type {\n",
       "        vertical-align: middle;\n",
       "    }\n",
       "\n",
       "    .dataframe tbody tr th {\n",
       "        vertical-align: top;\n",
       "    }\n",
       "\n",
       "    .dataframe thead th {\n",
       "        text-align: right;\n",
       "    }\n",
       "</style>\n",
       "<table border=\"1\" class=\"dataframe\">\n",
       "  <thead>\n",
       "    <tr style=\"text-align: right;\">\n",
       "      <th></th>\n",
       "      <th>Country</th>\n",
       "      <th>Value</th>\n",
       "    </tr>\n",
       "  </thead>\n",
       "  <tbody>\n",
       "    <tr>\n",
       "      <th>151</th>\n",
       "      <td>Russia</td>\n",
       "      <td>29819.0</td>\n",
       "    </tr>\n",
       "    <tr>\n",
       "      <th>147</th>\n",
       "      <td>India</td>\n",
       "      <td>6705.0</td>\n",
       "    </tr>\n",
       "    <tr>\n",
       "      <th>235</th>\n",
       "      <td>South Africa</td>\n",
       "      <td>15953.0</td>\n",
       "    </tr>\n",
       "    <tr>\n",
       "      <th>253</th>\n",
       "      <td>Iceland</td>\n",
       "      <td>71841.0</td>\n",
       "    </tr>\n",
       "    <tr>\n",
       "      <th>17</th>\n",
       "      <td>Belgium</td>\n",
       "      <td>68287.0</td>\n",
       "    </tr>\n",
       "  </tbody>\n",
       "</table>\n",
       "</div>"
      ],
      "text/plain": [
       "          Country    Value\n",
       "151        Russia  29819.0\n",
       "147         India   6705.0\n",
       "235  South Africa  15953.0\n",
       "253       Iceland  71841.0\n",
       "17        Belgium  68287.0"
      ]
     },
     "execution_count": 20,
     "metadata": {},
     "output_type": "execute_result"
    }
   ],
   "source": [
    "rawgdpfile = \"../datasets/raw/OECD/rawdata-2024-03-07-gdp.csv\"\n",
    "rawgdp = pd.read_csv(rawgdpfile)\n",
    "\n",
    "gdp = (rawgdp\n",
    "        .sort_values('TIME') \n",
    "        .groupby('Country') \n",
    "        .tail(1)\n",
    "        .loc[:, [\"Country\", \"Value\"]]\n",
    "        .assign(Value=lambda df_: df_[\"Value\"].round())\n",
    "      )\n",
    "# latestgdp.loc[:, :].sort_values(\"Reference area\").head(30).iloc[0]\n",
    "gdp.head()"
   ]
  },
  {
   "cell_type": "code",
   "execution_count": null,
   "id": "f498b57b-b328-4244-98c1-30ffd9fc3988",
   "metadata": {},
   "outputs": [],
   "source": []
  },
  {
   "cell_type": "markdown",
   "id": "78eeae8b-8154-4183-b947-dc9b44cb4051",
   "metadata": {},
   "source": [
    "## Merge"
   ]
  },
  {
   "cell_type": "code",
   "execution_count": 21,
   "id": "c791886a-dae3-4442-a1d5-6f06e0893aa1",
   "metadata": {},
   "outputs": [
    {
     "data": {
      "text/html": [
       "<div>\n",
       "<style scoped>\n",
       "    .dataframe tbody tr th:only-of-type {\n",
       "        vertical-align: middle;\n",
       "    }\n",
       "\n",
       "    .dataframe tbody tr th {\n",
       "        vertical-align: top;\n",
       "    }\n",
       "\n",
       "    .dataframe thead th {\n",
       "        text-align: right;\n",
       "    }\n",
       "</style>\n",
       "<table border=\"1\" class=\"dataframe\">\n",
       "  <thead>\n",
       "    <tr style=\"text-align: right;\">\n",
       "      <th></th>\n",
       "      <th>Country</th>\n",
       "      <th>educ</th>\n",
       "      <th>income</th>\n",
       "      <th>lifesat</th>\n",
       "      <th>salary</th>\n",
       "      <th>gdp</th>\n",
       "    </tr>\n",
       "  </thead>\n",
       "  <tbody>\n",
       "    <tr>\n",
       "      <th>21</th>\n",
       "      <td>Mexico</td>\n",
       "      <td>42.0</td>\n",
       "      <td>16269.0</td>\n",
       "      <td>6.0</td>\n",
       "      <td>16230.0</td>\n",
       "      <td>23659.0</td>\n",
       "    </tr>\n",
       "    <tr>\n",
       "      <th>12</th>\n",
       "      <td>Greece</td>\n",
       "      <td>76.0</td>\n",
       "      <td>20791.0</td>\n",
       "      <td>5.8</td>\n",
       "      <td>27207.0</td>\n",
       "      <td>38397.0</td>\n",
       "    </tr>\n",
       "    <tr>\n",
       "      <th>29</th>\n",
       "      <td>Slovak Republic</td>\n",
       "      <td>92.0</td>\n",
       "      <td>21149.0</td>\n",
       "      <td>6.5</td>\n",
       "      <td>23619.0</td>\n",
       "      <td>40586.0</td>\n",
       "    </tr>\n",
       "    <tr>\n",
       "      <th>13</th>\n",
       "      <td>Hungary</td>\n",
       "      <td>86.0</td>\n",
       "      <td>21026.0</td>\n",
       "      <td>6.0</td>\n",
       "      <td>25409.0</td>\n",
       "      <td>43476.0</td>\n",
       "    </tr>\n",
       "    <tr>\n",
       "      <th>27</th>\n",
       "      <td>Portugal</td>\n",
       "      <td>55.0</td>\n",
       "      <td>24877.0</td>\n",
       "      <td>5.8</td>\n",
       "      <td>28410.0</td>\n",
       "      <td>44963.0</td>\n",
       "    </tr>\n",
       "  </tbody>\n",
       "</table>\n",
       "</div>"
      ],
      "text/plain": [
       "            Country  educ   income  lifesat   salary      gdp\n",
       "21           Mexico  42.0  16269.0      6.0  16230.0  23659.0\n",
       "12           Greece  76.0  20791.0      5.8  27207.0  38397.0\n",
       "29  Slovak Republic  92.0  21149.0      6.5  23619.0  40586.0\n",
       "13          Hungary  86.0  21026.0      6.0  25409.0  43476.0\n",
       "27         Portugal  55.0  24877.0      5.8  28410.0  44963.0"
      ]
     },
     "execution_count": 21,
     "metadata": {},
     "output_type": "execute_result"
    }
   ],
   "source": [
    "oecd_bli = (bli.merge(gdp, on=\"Country\", how=\"inner\") \n",
    "                 .rename(columns={\"Value\":\"gdp\"}) \n",
    "                 .sort_values(\"gdp\")\n",
    "                 .iloc[0:-3,:]\n",
    "                 .dropna()\n",
    "             )\n",
    "oecd_bli.head()"
   ]
  },
  {
   "cell_type": "code",
   "execution_count": 22,
   "id": "1b325ae4-f047-4754-85f0-1bd77d4450c3",
   "metadata": {},
   "outputs": [
    {
     "data": {
      "image/png": "[encoded data removed]",
      "text/plain": [
       "<Figure size 640x480 with 1 Axes>"
      ]
     },
     "metadata": {},
     "output_type": "display_data"
    }
   ],
   "source": [
    "import seaborn as sns\n",
    "sns.scatterplot(data=oecd_bli, x=\"salary\", y=\"gdp\");"
   ]
  },
  {
   "cell_type": "code",
   "execution_count": 23,
   "id": "776bd6c7-88ca-46d3-87f4-009eb478cee2",
   "metadata": {},
   "outputs": [
    {
     "data": {
      "image/png": "[encoded data removed]",
      "text/plain": [
       "<Figure size 640x480 with 1 Axes>"
      ]
     },
     "metadata": {},
     "output_type": "display_data"
    }
   ],
   "source": [
    "sns.scatterplot(data=oecd_bli, x=\"income\", y=\"gdp\");"
   ]
  },
  {
   "cell_type": "code",
   "execution_count": 24,
   "id": "76b69df6-d739-42e1-9dd3-c25656cd9df7",
   "metadata": {},
   "outputs": [
    {
     "data": {
      "text/plain": [
       "<Axes: xlabel='salary', ylabel='lifesat'>"
      ]
     },
     "execution_count": 24,
     "metadata": {},
     "output_type": "execute_result"
    },
    {
     "data": {
      "image/png": "[encoded data removed]",
      "text/plain": [
       "<Figure size 640x480 with 1 Axes>"
      ]
     },
     "metadata": {},
     "output_type": "display_data"
    }
   ],
   "source": [
    "sns.scatterplot(data=oecd_bli, x=\"salary\", y=\"lifesat\")"
   ]
  },
  {
   "cell_type": "code",
   "execution_count": 25,
   "id": "fe86d1aa-9394-417e-ace6-10fa17d5e023",
   "metadata": {},
   "outputs": [
    {
     "data": {
      "text/plain": [
       "Intercept   -73311.890399\n",
       "lifesat      19377.660497\n",
       "dtype: float64"
      ]
     },
     "execution_count": 25,
     "metadata": {},
     "output_type": "execute_result"
    }
   ],
   "source": [
    "import statsmodels.formula.api as smf\n",
    "#######################################################\n",
    "model1 = smf.ols('gdp ~ 1 + lifesat', data=oecd_bli)\n",
    "fit1 = model1.fit()\n",
    "\n",
    "fit1.params"
   ]
  },
  {
   "cell_type": "code",
   "execution_count": 26,
   "id": "48bc5779-7813-4f69-a7d8-1dcd0bc2aa37",
   "metadata": {},
   "outputs": [
    {
     "data": {
      "text/html": [
       "<table class=\"simpletable\">\n",
       "<caption>OLS Regression Results</caption>\n",
       "<tr>\n",
       "  <th>Dep. Variable:</th>           <td>gdp</td>       <th>  R-squared:         </th> <td>   0.608</td>\n",
       "</tr>\n",
       "<tr>\n",
       "  <th>Model:</th>                   <td>OLS</td>       <th>  Adj. R-squared:    </th> <td>   0.593</td>\n",
       "</tr>\n",
       "<tr>\n",
       "  <th>Method:</th>             <td>Least Squares</td>  <th>  F-statistic:       </th> <td>   38.83</td>\n",
       "</tr>\n",
       "<tr>\n",
       "  <th>Date:</th>             <td>Sat, 09 Mar 2024</td> <th>  Prob (F-statistic):</th> <td>1.61e-06</td>\n",
       "</tr>\n",
       "<tr>\n",
       "  <th>Time:</th>                 <td>07:25:20</td>     <th>  Log-Likelihood:    </th> <td> -284.02</td>\n",
       "</tr>\n",
       "<tr>\n",
       "  <th>No. Observations:</th>      <td>    27</td>      <th>  AIC:               </th> <td>   572.0</td>\n",
       "</tr>\n",
       "<tr>\n",
       "  <th>Df Residuals:</th>          <td>    25</td>      <th>  BIC:               </th> <td>   574.6</td>\n",
       "</tr>\n",
       "<tr>\n",
       "  <th>Df Model:</th>              <td>     1</td>      <th>                     </th>     <td> </td>   \n",
       "</tr>\n",
       "<tr>\n",
       "  <th>Covariance Type:</th>      <td>nonrobust</td>    <th>                     </th>     <td> </td>   \n",
       "</tr>\n",
       "</table>\n",
       "<table class=\"simpletable\">\n",
       "<tr>\n",
       "      <td></td>         <th>coef</th>     <th>std err</th>      <th>t</th>      <th>P>|t|</th>  <th>[0.025</th>    <th>0.975]</th>  \n",
       "</tr>\n",
       "<tr>\n",
       "  <th>Intercept</th> <td>-7.331e+04</td> <td> 2.11e+04</td> <td>   -3.475</td> <td> 0.002</td> <td>-1.17e+05</td> <td>-2.99e+04</td>\n",
       "</tr>\n",
       "<tr>\n",
       "  <th>lifesat</th>   <td> 1.938e+04</td> <td> 3109.556</td> <td>    6.232</td> <td> 0.000</td> <td>  1.3e+04</td> <td> 2.58e+04</td>\n",
       "</tr>\n",
       "</table>\n",
       "<table class=\"simpletable\">\n",
       "<tr>\n",
       "  <th>Omnibus:</th>       <td> 0.774</td> <th>  Durbin-Watson:     </th> <td>   1.614</td>\n",
       "</tr>\n",
       "<tr>\n",
       "  <th>Prob(Omnibus):</th> <td> 0.679</td> <th>  Jarque-Bera (JB):  </th> <td>   0.318</td>\n",
       "</tr>\n",
       "<tr>\n",
       "  <th>Skew:</th>          <td>-0.265</td> <th>  Prob(JB):          </th> <td>   0.853</td>\n",
       "</tr>\n",
       "<tr>\n",
       "  <th>Kurtosis:</th>      <td> 3.034</td> <th>  Cond. No.          </th> <td>    81.6</td>\n",
       "</tr>\n",
       "</table><br/><br/>Notes:<br/>[1] Standard Errors assume that the covariance matrix of the errors is correctly specified."
      ],
      "text/latex": [
       "\\begin{center}\n",
       "\\begin{tabular}{lclc}\n",
       "\\toprule\n",
       "\\textbf{Dep. Variable:}    &       gdp        & \\textbf{  R-squared:         } &     0.608   \\\\\n",
       "\\textbf{Model:}            &       OLS        & \\textbf{  Adj. R-squared:    } &     0.593   \\\\\n",
       "\\textbf{Method:}           &  Least Squares   & \\textbf{  F-statistic:       } &     38.83   \\\\\n",
       "\\textbf{Date:}             & Sat, 09 Mar 2024 & \\textbf{  Prob (F-statistic):} &  1.61e-06   \\\\\n",
       "\\textbf{Time:}             &     07:25:20     & \\textbf{  Log-Likelihood:    } &   -284.02   \\\\\n",
       "\\textbf{No. Observations:} &          27      & \\textbf{  AIC:               } &     572.0   \\\\\n",
       "\\textbf{Df Residuals:}     &          25      & \\textbf{  BIC:               } &     574.6   \\\\\n",
       "\\textbf{Df Model:}         &           1      & \\textbf{                     } &             \\\\\n",
       "\\textbf{Covariance Type:}  &    nonrobust     & \\textbf{                     } &             \\\\\n",
       "\\bottomrule\n",
       "\\end{tabular}\n",
       "\\begin{tabular}{lcccccc}\n",
       "                   & \\textbf{coef} & \\textbf{std err} & \\textbf{t} & \\textbf{P$> |$t$|$} & \\textbf{[0.025} & \\textbf{0.975]}  \\\\\n",
       "\\midrule\n",
       "\\textbf{Intercept} &   -7.331e+04  &     2.11e+04     &    -3.475  &         0.002        &    -1.17e+05    &    -2.99e+04     \\\\\n",
       "\\textbf{lifesat}   &    1.938e+04  &     3109.556     &     6.232  &         0.000        &      1.3e+04    &     2.58e+04     \\\\\n",
       "\\bottomrule\n",
       "\\end{tabular}\n",
       "\\begin{tabular}{lclc}\n",
       "\\textbf{Omnibus:}       &  0.774 & \\textbf{  Durbin-Watson:     } &    1.614  \\\\\n",
       "\\textbf{Prob(Omnibus):} &  0.679 & \\textbf{  Jarque-Bera (JB):  } &    0.318  \\\\\n",
       "\\textbf{Skew:}          & -0.265 & \\textbf{  Prob(JB):          } &    0.853  \\\\\n",
       "\\textbf{Kurtosis:}      &  3.034 & \\textbf{  Cond. No.          } &     81.6  \\\\\n",
       "\\bottomrule\n",
       "\\end{tabular}\n",
       "%\\caption{OLS Regression Results}\n",
       "\\end{center}\n",
       "\n",
       "Notes: \\newline\n",
       " [1] Standard Errors assume that the covariance matrix of the errors is correctly specified."
      ],
      "text/plain": [
       "<class 'statsmodels.iolib.summary.Summary'>\n",
       "\"\"\"\n",
       "                            OLS Regression Results                            \n",
       "==============================================================================\n",
       "Dep. Variable:                    gdp   R-squared:                       0.608\n",
       "Model:                            OLS   Adj. R-squared:                  0.593\n",
       "Method:                 Least Squares   F-statistic:                     38.83\n",
       "Date:                Sat, 09 Mar 2024   Prob (F-statistic):           1.61e-06\n",
       "Time:                        07:25:20   Log-Likelihood:                -284.02\n",
       "No. Observations:                  27   AIC:                             572.0\n",
       "Df Residuals:                      25   BIC:                             574.6\n",
       "Df Model:                           1                                         \n",
       "Covariance Type:            nonrobust                                         \n",
       "==============================================================================\n",
       "                 coef    std err          t      P>|t|      [0.025      0.975]\n",
       "------------------------------------------------------------------------------\n",
       "Intercept  -7.331e+04   2.11e+04     -3.475      0.002   -1.17e+05   -2.99e+04\n",
       "lifesat     1.938e+04   3109.556      6.232      0.000     1.3e+04    2.58e+04\n",
       "==============================================================================\n",
       "Omnibus:                        0.774   Durbin-Watson:                   1.614\n",
       "Prob(Omnibus):                  0.679   Jarque-Bera (JB):                0.318\n",
       "Skew:                          -0.265   Prob(JB):                        0.853\n",
       "Kurtosis:                       3.034   Cond. No.                         81.6\n",
       "==============================================================================\n",
       "\n",
       "Notes:\n",
       "[1] Standard Errors assume that the covariance matrix of the errors is correctly specified.\n",
       "\"\"\""
      ]
     },
     "execution_count": 26,
     "metadata": {},
     "output_type": "execute_result"
    }
   ],
   "source": [
    "fit1.summary()"
   ]
  },
  {
   "cell_type": "code",
   "execution_count": null,
   "id": "1c142519-f709-45b0-839f-7ec70f04aa5b",
   "metadata": {},
   "outputs": [],
   "source": []
  },
  {
   "cell_type": "code",
   "execution_count": 27,
   "id": "000ee74c-9d53-4541-90c1-0e2038fa8e23",
   "metadata": {},
   "outputs": [],
   "source": [
    "# SAVE TO DATAFILE\n",
    "oecd_bli.to_csv(datafilepath, index=False)"
   ]
  },
  {
   "cell_type": "code",
   "execution_count": null,
   "id": "adf11213-44b7-4591-ba56-6d0328dc7b99",
   "metadata": {},
   "outputs": [],
   "source": [
    "sns.pairplot(data=oecd_bli, diag_kws=dict(bins=20));"
   ]
  },
  {
   "cell_type": "code",
   "execution_count": null,
   "id": "daa3021c-c805-484a-9578-1e32a107471b",
   "metadata": {},
   "outputs": [],
   "source": [
    "sns.jointplot(data=oecd_bli, x=\"lifesat\", y=\"gdp\")"
   ]
  },
  {
   "cell_type": "code",
   "execution_count": null,
   "id": "86455874-4455-4f55-9b90-3ce5fda5a34e",
   "metadata": {},
   "outputs": [],
   "source": []
  }
 ],
 "metadata": {
  "kernelspec": {
   "display_name": "Python 3 (ipykernel)",
   "language": "python",
   "name": "python3"
  },
  "language_info": {
   "codemirror_mode": {
    "name": "ipython",
    "version": 3
   },
   "file_extension": ".py",
   "mimetype": "text/x-python",
   "name": "python",
   "nbconvert_exporter": "python",
   "pygments_lexer": "ipython3",
   "version": "3.9.4"
  }
 },
 "nbformat": 4,
 "nbformat_minor": 5
}
