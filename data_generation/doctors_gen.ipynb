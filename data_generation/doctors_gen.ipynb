{
 "cells": [
  {
   "cell_type": "markdown",
   "id": "8e44527c-a6b6-4b5d-972d-38becae0c5b4",
   "metadata": {},
   "source": [
    "# Generate the `doctors` dataset\n",
    "\n",
    "#### Variables\n",
    "\n",
    "- `sleep` (previously score)\n",
    "- `location` rural vs. urban\n",
    "- `workplace`: one of `hospital`, `clinic`, or `hospice` (or nursing?)\n",
    "- `alc` numeric\n",
    "- `weed` numeric\n",
    "- `exrc` numeric\n",
    "\n",
    "\n",
    "\n",
    "####  Use cases\n",
    "- Sec 4.1 Simple linear regression exercise `sleep ~ 1 + alc`\n",
    "- Sec 4.2 Multiple linear regression running exercise\n",
    "    - `sleep ~ 1 + alc + weed + exrc`\n",
    "- Sec 4.4 Linear regression with categorical predictor\n",
    "  - `sleep ~ location` (binary)\n",
    "  - `sleep ~ location`\n",
    "- Sec 4.4 Linear regression with mix of categorical and numerical predictors\n",
    "  - `sleep ~ 1 + C(location) + alc` (independent predictors)\n",
    "  - `sleep ~ 1 + C(location) + C(location):alc` (location-dependent slope and intercept)\n",
    "\n"
   ]
  },
  {
   "cell_type": "code",
   "execution_count": 1,
   "id": "747cc707-d36b-44f5-b96a-3b2cc0bdf10f",
   "metadata": {},
   "outputs": [],
   "source": [
    "datafilepath = \"../datasets/doctors.csv\""
   ]
  },
  {
   "cell_type": "code",
   "execution_count": 2,
   "id": "28c0ab8e-72b2-4f4c-b229-4d0570ebe862",
   "metadata": {},
   "outputs": [],
   "source": [
    "import numpy as np\n",
    "import pandas as pd\n",
    "import matplotlib.pyplot as plt\n",
    "import seaborn as sns"
   ]
  },
  {
   "cell_type": "code",
   "execution_count": 3,
   "id": "085ca230-4191-43f2-a4a3-3cb0a1f41a0a",
   "metadata": {},
   "outputs": [],
   "source": [
    "from scipy.stats import norm"
   ]
  },
  {
   "cell_type": "code",
   "execution_count": 4,
   "id": "382a42ea-dc99-4709-bfde-a8f10763e364",
   "metadata": {},
   "outputs": [],
   "source": [
    "from faker import Faker\n",
    "faker = Faker()\n",
    "\n",
    "\n",
    "names = faker.name()"
   ]
  },
  {
   "cell_type": "code",
   "execution_count": null,
   "id": "e3464772-5007-48f8-a795-dc3e0fe72bc6",
   "metadata": {},
   "outputs": [],
   "source": []
  },
  {
   "cell_type": "markdown",
   "id": "ff39d2b8-5bda-4fb4-8c47-5de789cf04cc",
   "metadata": {},
   "source": [
    "## Dataset design choices\n"
   ]
  },
  {
   "cell_type": "code",
   "execution_count": 5,
   "id": "7f6f9ed1-c86b-483e-8100-6cce2040e1c3",
   "metadata": {},
   "outputs": [
    {
     "data": {
      "text/plain": [
       "224"
      ]
     },
     "execution_count": 5,
     "metadata": {},
     "output_type": "execute_result"
    }
   ],
   "source": [
    "# number of observations\n",
    "nR = 68\n",
    "nU = 156\n",
    "n = nR + nU\n",
    "n"
   ]
  },
  {
   "cell_type": "markdown",
   "id": "e956cca4-8bfd-429f-ae96-ee79ca9b4c54",
   "metadata": {},
   "source": [
    "## Generate names and permit numbers"
   ]
  },
  {
   "cell_type": "code",
   "execution_count": 6,
   "id": "9d804941-b77c-4b78-a28f-febe9634a49e",
   "metadata": {},
   "outputs": [],
   "source": [
    "Faker.seed(301)\n",
    "names = [faker.name() for _ in range(0,n)]\n",
    "\n",
    "Faker.seed(3001)\n",
    "permits = [faker.unique.random_int(min=20202, max=100110) for _ in range(0,n)]\n",
    "\n",
    "assert len(set(permits)) == len(permits), \"permits should be unique\""
   ]
  },
  {
   "cell_type": "markdown",
   "id": "07559881-c39c-4af0-95d8-b53a5ed1dfa0",
   "metadata": {},
   "source": [
    "## Generate sleep scores"
   ]
  },
  {
   "cell_type": "code",
   "execution_count": 7,
   "id": "71019918-c39f-40d8-8bed-b702d91e82fd",
   "metadata": {},
   "outputs": [],
   "source": [
    "# Rural doctors sleep score\n",
    "muR = 82\n",
    "sigmaR = 6\n",
    "scoreR = norm(muR, sigmaR)\n",
    "\n",
    "# Urband doctors sleep score\n",
    "muU = 80\n",
    "sigmaU = 6\n",
    "scoreU = norm(muU, sigmaU)"
   ]
  },
  {
   "cell_type": "code",
   "execution_count": 8,
   "id": "df272906-ab0c-468a-bfb4-b9a44a7f9fa7",
   "metadata": {},
   "outputs": [
    {
     "data": {
      "text/html": [
       "<div>\n",
       "<style scoped>\n",
       "    .dataframe tbody tr th:only-of-type {\n",
       "        vertical-align: middle;\n",
       "    }\n",
       "\n",
       "    .dataframe tbody tr th {\n",
       "        vertical-align: top;\n",
       "    }\n",
       "\n",
       "    .dataframe thead th {\n",
       "        text-align: right;\n",
       "    }\n",
       "</style>\n",
       "<table border=\"1\" class=\"dataframe\">\n",
       "  <thead>\n",
       "    <tr style=\"text-align: right;\">\n",
       "      <th></th>\n",
       "      <th>permit</th>\n",
       "      <th>name</th>\n",
       "      <th>location</th>\n",
       "      <th>score</th>\n",
       "    </tr>\n",
       "  </thead>\n",
       "  <tbody>\n",
       "    <tr>\n",
       "      <th>0</th>\n",
       "      <td>93636</td>\n",
       "      <td>Yesenia Smith</td>\n",
       "      <td>urban</td>\n",
       "      <td>82.0</td>\n",
       "    </tr>\n",
       "    <tr>\n",
       "      <th>1</th>\n",
       "      <td>79288</td>\n",
       "      <td>Andrew Stanley</td>\n",
       "      <td>rural</td>\n",
       "      <td>85.0</td>\n",
       "    </tr>\n",
       "    <tr>\n",
       "      <th>2</th>\n",
       "      <td>94980</td>\n",
       "      <td>Jessica Castro</td>\n",
       "      <td>rural</td>\n",
       "      <td>97.0</td>\n",
       "    </tr>\n",
       "    <tr>\n",
       "      <th>3</th>\n",
       "      <td>99441</td>\n",
       "      <td>Jasmine Lynch</td>\n",
       "      <td>urban</td>\n",
       "      <td>74.0</td>\n",
       "    </tr>\n",
       "    <tr>\n",
       "      <th>4</th>\n",
       "      <td>92882</td>\n",
       "      <td>Cassie Pena</td>\n",
       "      <td>urban</td>\n",
       "      <td>73.0</td>\n",
       "    </tr>\n",
       "  </tbody>\n",
       "</table>\n",
       "</div>"
      ],
      "text/plain": [
       "   permit            name location  score\n",
       "0   93636   Yesenia Smith    urban   82.0\n",
       "1   79288  Andrew Stanley    rural   85.0\n",
       "2   94980  Jessica Castro    rural   97.0\n",
       "3   99441   Jasmine Lynch    urban   74.0\n",
       "4   92882     Cassie Pena    urban   73.0"
      ]
     },
     "execution_count": 8,
     "metadata": {},
     "output_type": "execute_result"
    }
   ],
   "source": [
    "# Generate sleep scores\n",
    "\n",
    "np.random.seed(290)\n",
    "scoresR = scoreR.rvs(nR)\n",
    "scoresR = scoresR.round(0)\n",
    "\n",
    "np.random.seed(291)\n",
    "scoresU = scoreU.rvs(nU)\n",
    "scoresU = scoresU.round(0)\n",
    "\n",
    "data = {\n",
    "    \"permit\": permits,\n",
    "    \"name\": names,\n",
    "    \"location\": [\"urban\"]*nU + [\"rural\"]*nR,\n",
    "    \"score\": list(scoresU) + list(scoresR),\n",
    "}\n",
    "\n",
    "doctors = pd.DataFrame(data)\n",
    "\n",
    "np.random.seed(11)\n",
    "doctors = doctors.sample(frac=1).reset_index(drop=True)\n",
    "\n",
    "doctors.head()"
   ]
  },
  {
   "cell_type": "code",
   "execution_count": 9,
   "id": "0214e6c1-7651-4486-aa81-26a4db382aa6",
   "metadata": {},
   "outputs": [],
   "source": [
    "# Make sure scores don't exceed 100\n",
    "assert doctors['score'].max() <= 100"
   ]
  },
  {
   "cell_type": "code",
   "execution_count": 10,
   "id": "dae7b41f-121b-4e2a-8545-e8630e91556e",
   "metadata": {},
   "outputs": [
    {
     "data": {
      "text/html": [
       "<div>\n",
       "<style scoped>\n",
       "    .dataframe tbody tr th:only-of-type {\n",
       "        vertical-align: middle;\n",
       "    }\n",
       "\n",
       "    .dataframe tbody tr th {\n",
       "        vertical-align: top;\n",
       "    }\n",
       "\n",
       "    .dataframe thead th {\n",
       "        text-align: right;\n",
       "    }\n",
       "</style>\n",
       "<table border=\"1\" class=\"dataframe\">\n",
       "  <thead>\n",
       "    <tr style=\"text-align: right;\">\n",
       "      <th></th>\n",
       "      <th>count</th>\n",
       "      <th>mean</th>\n",
       "      <th>std</th>\n",
       "      <th>min</th>\n",
       "      <th>25%</th>\n",
       "      <th>50%</th>\n",
       "      <th>75%</th>\n",
       "      <th>max</th>\n",
       "    </tr>\n",
       "    <tr>\n",
       "      <th>location</th>\n",
       "      <th></th>\n",
       "      <th></th>\n",
       "      <th></th>\n",
       "      <th></th>\n",
       "      <th></th>\n",
       "      <th></th>\n",
       "      <th></th>\n",
       "      <th></th>\n",
       "    </tr>\n",
       "  </thead>\n",
       "  <tbody>\n",
       "    <tr>\n",
       "      <th>rural</th>\n",
       "      <td>68.0</td>\n",
       "      <td>81.794118</td>\n",
       "      <td>6.008846</td>\n",
       "      <td>71.0</td>\n",
       "      <td>77.0</td>\n",
       "      <td>80.0</td>\n",
       "      <td>86.25</td>\n",
       "      <td>98.0</td>\n",
       "    </tr>\n",
       "    <tr>\n",
       "      <th>urban</th>\n",
       "      <td>156.0</td>\n",
       "      <td>79.570513</td>\n",
       "      <td>6.130950</td>\n",
       "      <td>65.0</td>\n",
       "      <td>75.0</td>\n",
       "      <td>79.0</td>\n",
       "      <td>83.00</td>\n",
       "      <td>96.0</td>\n",
       "    </tr>\n",
       "  </tbody>\n",
       "</table>\n",
       "</div>"
      ],
      "text/plain": [
       "          count       mean       std   min   25%   50%    75%   max\n",
       "location                                                           \n",
       "rural      68.0  81.794118  6.008846  71.0  77.0  80.0  86.25  98.0\n",
       "urban     156.0  79.570513  6.130950  65.0  75.0  79.0  83.00  96.0"
      ]
     },
     "execution_count": 10,
     "metadata": {},
     "output_type": "execute_result"
    }
   ],
   "source": [
    "doctors.groupby(\"location\")[\"score\"].describe()"
   ]
  },
  {
   "cell_type": "code",
   "execution_count": 11,
   "id": "02ca2d5a-2f83-4f25-b650-ea3d265ac915",
   "metadata": {},
   "outputs": [],
   "source": [
    "# # SAVE TO DATAFILE\n",
    "# doctors.to_csv(datafilepath, index=False)"
   ]
  },
  {
   "cell_type": "code",
   "execution_count": 12,
   "id": "5369fad4-bd87-4d7d-9fc9-80a5193f36a6",
   "metadata": {},
   "outputs": [
    {
     "data": {
      "text/html": [
       "<div>\n",
       "<style scoped>\n",
       "    .dataframe tbody tr th:only-of-type {\n",
       "        vertical-align: middle;\n",
       "    }\n",
       "\n",
       "    .dataframe tbody tr th {\n",
       "        vertical-align: top;\n",
       "    }\n",
       "\n",
       "    .dataframe thead th {\n",
       "        text-align: right;\n",
       "    }\n",
       "</style>\n",
       "<table border=\"1\" class=\"dataframe\">\n",
       "  <thead>\n",
       "    <tr style=\"text-align: right;\">\n",
       "      <th></th>\n",
       "      <th>permit</th>\n",
       "      <th>name</th>\n",
       "      <th>location</th>\n",
       "      <th>score</th>\n",
       "    </tr>\n",
       "  </thead>\n",
       "  <tbody>\n",
       "    <tr>\n",
       "      <th>0</th>\n",
       "      <td>93636</td>\n",
       "      <td>Yesenia Smith</td>\n",
       "      <td>urban</td>\n",
       "      <td>82.0</td>\n",
       "    </tr>\n",
       "    <tr>\n",
       "      <th>1</th>\n",
       "      <td>79288</td>\n",
       "      <td>Andrew Stanley</td>\n",
       "      <td>rural</td>\n",
       "      <td>85.0</td>\n",
       "    </tr>\n",
       "    <tr>\n",
       "      <th>2</th>\n",
       "      <td>94980</td>\n",
       "      <td>Jessica Castro</td>\n",
       "      <td>rural</td>\n",
       "      <td>97.0</td>\n",
       "    </tr>\n",
       "    <tr>\n",
       "      <th>3</th>\n",
       "      <td>99441</td>\n",
       "      <td>Jasmine Lynch</td>\n",
       "      <td>urban</td>\n",
       "      <td>74.0</td>\n",
       "    </tr>\n",
       "    <tr>\n",
       "      <th>4</th>\n",
       "      <td>92882</td>\n",
       "      <td>Cassie Pena</td>\n",
       "      <td>urban</td>\n",
       "      <td>73.0</td>\n",
       "    </tr>\n",
       "  </tbody>\n",
       "</table>\n",
       "</div>"
      ],
      "text/plain": [
       "   permit            name location  score\n",
       "0   93636   Yesenia Smith    urban   82.0\n",
       "1   79288  Andrew Stanley    rural   85.0\n",
       "2   94980  Jessica Castro    rural   97.0\n",
       "3   99441   Jasmine Lynch    urban   74.0\n",
       "4   92882     Cassie Pena    urban   73.0"
      ]
     },
     "execution_count": 12,
     "metadata": {},
     "output_type": "execute_result"
    }
   ],
   "source": [
    "# RELOAD FROM DATAFILE\n",
    "doctors = pd.read_csv(datafilepath)\n",
    "doctors.head()"
   ]
  },
  {
   "cell_type": "code",
   "execution_count": null,
   "id": "3d74e42c-95d9-4cef-983a-ed3a34249854",
   "metadata": {},
   "outputs": [],
   "source": []
  },
  {
   "cell_type": "markdown",
   "id": "20b0a7f0-bb1c-4617-8911-455ab0ac29ff",
   "metadata": {},
   "source": [
    "### Descriptive stduplicatedstics checks"
   ]
  },
  {
   "cell_type": "code",
   "execution_count": 13,
   "id": "cb8a5540-f7a8-46dc-bf39-69d18c5a4eb1",
   "metadata": {},
   "outputs": [
    {
     "data": {
      "text/html": [
       "<div>\n",
       "<style scoped>\n",
       "    .dataframe tbody tr th:only-of-type {\n",
       "        vertical-align: middle;\n",
       "    }\n",
       "\n",
       "    .dataframe tbody tr th {\n",
       "        vertical-align: top;\n",
       "    }\n",
       "\n",
       "    .dataframe thead th {\n",
       "        text-align: right;\n",
       "    }\n",
       "</style>\n",
       "<table border=\"1\" class=\"dataframe\">\n",
       "  <thead>\n",
       "    <tr style=\"text-align: right;\">\n",
       "      <th></th>\n",
       "      <th>count</th>\n",
       "      <th>mean</th>\n",
       "      <th>std</th>\n",
       "      <th>min</th>\n",
       "      <th>25%</th>\n",
       "      <th>50%</th>\n",
       "      <th>75%</th>\n",
       "      <th>max</th>\n",
       "    </tr>\n",
       "    <tr>\n",
       "      <th>location</th>\n",
       "      <th></th>\n",
       "      <th></th>\n",
       "      <th></th>\n",
       "      <th></th>\n",
       "      <th></th>\n",
       "      <th></th>\n",
       "      <th></th>\n",
       "      <th></th>\n",
       "    </tr>\n",
       "  </thead>\n",
       "  <tbody>\n",
       "    <tr>\n",
       "      <th>rural</th>\n",
       "      <td>68.0</td>\n",
       "      <td>81.794118</td>\n",
       "      <td>6.008846</td>\n",
       "      <td>71.0</td>\n",
       "      <td>77.0</td>\n",
       "      <td>80.0</td>\n",
       "      <td>86.25</td>\n",
       "      <td>98.0</td>\n",
       "    </tr>\n",
       "    <tr>\n",
       "      <th>urban</th>\n",
       "      <td>156.0</td>\n",
       "      <td>79.570513</td>\n",
       "      <td>6.130950</td>\n",
       "      <td>65.0</td>\n",
       "      <td>75.0</td>\n",
       "      <td>79.0</td>\n",
       "      <td>83.00</td>\n",
       "      <td>96.0</td>\n",
       "    </tr>\n",
       "  </tbody>\n",
       "</table>\n",
       "</div>"
      ],
      "text/plain": [
       "          count       mean       std   min   25%   50%    75%   max\n",
       "location                                                           \n",
       "rural      68.0  81.794118  6.008846  71.0  77.0  80.0  86.25  98.0\n",
       "urban     156.0  79.570513  6.130950  65.0  75.0  79.0  83.00  96.0"
      ]
     },
     "execution_count": 13,
     "metadata": {},
     "output_type": "execute_result"
    }
   ],
   "source": [
    "doctors.groupby(\"location\")[\"score\"].describe()"
   ]
  },
  {
   "cell_type": "markdown",
   "id": "bac912c5-584a-48af-b1e4-337d00000a81",
   "metadata": {},
   "source": [
    "### Visual inspection"
   ]
  },
  {
   "cell_type": "code",
   "execution_count": 14,
   "id": "34e98fe3-1d3f-4e23-a2ed-1ac017dd0a5f",
   "metadata": {},
   "outputs": [
    {
     "data": {
      "text/plain": [
       "<Axes: xlabel='score', ylabel='Density'>"
      ]
     },
     "execution_count": 14,
     "metadata": {},
     "output_type": "execute_result"
    },
    {
     "data": {
      "image/png": "[encoded data removed]",
      "text/plain": [
       "<Figure size 640x480 with 1 Axes>"
      ]
     },
     "metadata": {},
     "output_type": "display_data"
    }
   ],
   "source": [
    "sns.kdeplot(x=\"score\", hue=\"location\", data=doctors)"
   ]
  },
  {
   "cell_type": "code",
   "execution_count": 15,
   "id": "ccabba5f-82ed-449c-849d-dfc5e6b8680b",
   "metadata": {},
   "outputs": [
    {
     "data": {
      "text/plain": [
       "<Axes: xlabel='score', ylabel='location'>"
      ]
     },
     "execution_count": 15,
     "metadata": {},
     "output_type": "execute_result"
    },
    {
     "data": {
      "image/png": "[encoded data removed]",
      "text/plain": [
       "<Figure size 640x480 with 1 Axes>"
      ]
     },
     "metadata": {},
     "output_type": "display_data"
    }
   ],
   "source": [
    "sns.boxplot(x=\"score\", y=\"location\", data=doctors)"
   ]
  },
  {
   "cell_type": "code",
   "execution_count": null,
   "id": "a2a1f248-55f7-4b2b-a54c-01165eb55b62",
   "metadata": {},
   "outputs": [],
   "source": []
  },
  {
   "cell_type": "markdown",
   "id": "d2ad9572-34c7-41e3-a863-773eb1c491d8",
   "metadata": {},
   "source": [
    "## Tests"
   ]
  },
  {
   "cell_type": "code",
   "execution_count": 16,
   "id": "851a151e-f36b-45db-8655-63d486823a05",
   "metadata": {},
   "outputs": [],
   "source": [
    "from scipy.stats import t as tdist\n",
    "\n",
    "def calcdf(stdX, n, stdY, m):\n",
    "    vX = stdX**2 / n\n",
    "    vY = stdY**2 / m\n",
    "    df = (vX+vY)**2 / (vX**2/(n-1) + vY**2/(m-1))\n",
    "    return df\n",
    "\n",
    "def ttest(sampleA, sampleB, pooled=False):\n",
    "    \"\"\"\n",
    "    T-test to detect difference between means in two samples.\n",
    "    \"\"\"\n",
    "    # 1. calculate the mean in each group\n",
    "    meanA, meanB = np.mean(sampleA), np.mean(sampleB)\n",
    "    # 2. calculate d, the observed difference between means\n",
    "    d = meanA - meanB\n",
    "    # 3. calculate the standard deviations in each group\n",
    "    stdA, stdB = np.std(sampleA, ddof=1), np.std(sampleB, ddof=1)\n",
    "    nA, nB = len(sampleA), len(sampleB)\n",
    "    if pooled:\n",
    "        # 4. compute the pooled variance and standard error\n",
    "        var_pooled = ((nA-1)*stdA**2 + (nB-1)*stdB**2)/(nA + nB - 2)\n",
    "        std_pooled = np.sqrt(var_pooled)\n",
    "        stdD = std_pooled * np.sqrt(1/nA + 1/nB)\n",
    "        # 5. degrees of freedom\n",
    "        df = nA + nB - 2\n",
    "    else:\n",
    "        # 4'. compute the unpooled standard deviation of D\n",
    "        stdD = np.sqrt(stdA**2/nA + stdB**2/nB)\n",
    "        # 5'. use crazy formula for the degrees of freedom\n",
    "        df = calcdf(stdA, nA, stdB, nB)\n",
    "    # 6. compute the value of the t-statistic\n",
    "    tstat = d / stdD\n",
    "    # 7. compute the two-sided p-value for tstat\n",
    "    pvalue = 2 * tdist(df).cdf(-abs(tstat))\n",
    "    return tstat, pvalue"
   ]
  },
  {
   "cell_type": "code",
   "execution_count": 17,
   "id": "f9af4b63-1bb2-4e7d-b067-f718de5bdd21",
   "metadata": {},
   "outputs": [],
   "source": [
    "scoresR = doctors[doctors[\"location\"]==\"rural\"][\"score\"].values\n",
    "scoresU = doctors[doctors[\"location\"]==\"urban\"][\"score\"].values"
   ]
  },
  {
   "cell_type": "code",
   "execution_count": null,
   "id": "06591a31-ccde-4fa3-8cbe-ee454ea1356d",
   "metadata": {},
   "outputs": [],
   "source": []
  },
  {
   "cell_type": "markdown",
   "id": "bb0f76b6-af55-4271-a964-65557a1778d2",
   "metadata": {},
   "source": [
    "### Unpooled test (Welch test)"
   ]
  },
  {
   "cell_type": "code",
   "execution_count": 18,
   "id": "6207525e-872f-45c1-a358-0dbadc1083c1",
   "metadata": {},
   "outputs": [
    {
     "data": {
      "text/plain": [
       "(2.530869248892873, 0.012570066043998337)"
      ]
     },
     "execution_count": 18,
     "metadata": {},
     "output_type": "execute_result"
    }
   ],
   "source": [
    "from scipy.stats import ttest_ind\n",
    "r = ttest_ind(scoresR, scoresU, equal_var=False)\n",
    "r.statistic, r.pvalue"
   ]
  },
  {
   "cell_type": "code",
   "execution_count": 19,
   "id": "da08d79a-0cbb-4060-837a-81c7e4bbd823",
   "metadata": {},
   "outputs": [
    {
     "data": {
      "text/plain": [
       "(2.530869248892873, 0.012570066043998337)"
      ]
     },
     "execution_count": 19,
     "metadata": {},
     "output_type": "execute_result"
    }
   ],
   "source": [
    "ttest(scoresR, scoresU)"
   ]
  },
  {
   "cell_type": "markdown",
   "id": "42cc1d67-9920-4f91-8464-27a5959a5788",
   "metadata": {},
   "source": [
    "### Pooled variance test"
   ]
  },
  {
   "cell_type": "code",
   "execution_count": 20,
   "id": "21035eef-1480-44f2-8e9c-f0d79481afb7",
   "metadata": {},
   "outputs": [
    {
     "data": {
      "text/plain": [
       "(2.510860036908649, 0.012756225363756033)"
      ]
     },
     "execution_count": 20,
     "metadata": {},
     "output_type": "execute_result"
    }
   ],
   "source": [
    "r = ttest_ind(scoresR, scoresU)\n",
    "r.statistic, r.pvalue"
   ]
  },
  {
   "cell_type": "code",
   "execution_count": 21,
   "id": "7d1aff42-4d98-4c01-8126-778a21cd6455",
   "metadata": {},
   "outputs": [
    {
     "data": {
      "text/plain": [
       "(2.510860036908649, 0.012756225363756033)"
      ]
     },
     "execution_count": 21,
     "metadata": {},
     "output_type": "execute_result"
    }
   ],
   "source": [
    "ttest(scoresR, scoresU, pooled=True)"
   ]
  },
  {
   "cell_type": "code",
   "execution_count": null,
   "id": "ff82884b-9d12-47bf-a8d3-865252d728dd",
   "metadata": {},
   "outputs": [],
   "source": []
  }
 ],
 "metadata": {
  "kernelspec": {
   "display_name": "Python 3 (ipykernel)",
   "language": "python",
   "name": "python3"
  },
  "language_info": {
   "codemirror_mode": {
    "name": "ipython",
    "version": 3
   },
   "file_extension": ".py",
   "mimetype": "text/x-python",
   "name": "python",
   "nbconvert_exporter": "python",
   "pygments_lexer": "ipython3",
   "version": "3.9.4"
  }
 },
 "nbformat": 4,
 "nbformat_minor": 5
}
