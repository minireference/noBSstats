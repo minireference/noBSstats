{
 "cells": [
  {
   "cell_type": "markdown",
   "id": "8e44527c-a6b6-4b5d-972d-38becae0c5b4",
   "metadata": {},
   "source": [
    "# Generate the `doctors` dataset\n",
    "\n",
    "#### Variables\n",
    "- `permit`: a unique identifier for each doctor (free-form text)\n",
    "- `name`: the doctor's name (free-form text)\n",
    "- `loc`: the location where the doctor lives (`rur` for rural or `urb` for urban)\n",
    "- `work`: workplace type (`hos` for hospital, `cli` for clinic, or `eld` for elderly home)\n",
    "- `age`: age (numeric; integer)\n",
    "- `exp`: years of experience (numeric)\n",
    "- `hours`: total work hours per week (numeric)\n",
    "- `caf`: caffeine consumption per week (numeric)\n",
    "- `alc`: alcohol consumption in standard drinks per week (numeric)\n",
    "- `weed`: marijuana consumption in grams per week (numeric)\n",
    "- `exrc`: total time dedicated to exercise per week (numeric)\n",
    "- `score`: sleep score outcome variable (numeric; integer)\n",
    "\n",
    "Other ideas of variables I could add later on:\n",
    "- `fam`: family status (`single`, `married`)\n",
    "- `kids`: number of children (numeric; integer)\n",
    "- `stress`: level of work-related stress (numeric)\n",
    "- `cigs`: number cigarettes smoked per week (numeric; integer)\n",
    "- `bmi`: body mass index (numeric)\n",
    "- `meds`: medications taken regularly (free-form text)\n",
    "\n",
    "\n",
    "#### Main use cases\n",
    "- Sec 4.1 Simple linear regression exercise `sleep ~ 1 + alc`\n",
    "- Sec 4.2 Multiple linear regression running exercise\n",
    "    - `sleep ~ 1 + alc + weed + exrc`\n",
    "- Sec 4.3 Fit metrics, CIs, hypothesis tests, and diagnostic checks\n",
    "- Sec 4.4 Linear regression with categorical predictor\n",
    "  - Example 1: `sleep ~ C(loc)` (binary)\n",
    "  - Example 2: `sleep ~ C(work)` (three levels)\n",
    "  - Example 3: `sleep ~ 1 + C(loc) + alc` (mix of categorical and numerical predictors)\n",
    "\n",
    "#### Auxiliary use cases\n",
    "- Sec 3.1 Used in `dmeans` estimator exercises\n",
    "- Sec 3.2 Used in CI exercises\n",
    "- Sec 3.5 Used in hypothesis testing exercises"
   ]
  },
  {
   "cell_type": "code",
   "execution_count": 1,
   "id": "747cc707-d36b-44f5-b96a-3b2cc0bdf10f",
   "metadata": {},
   "outputs": [],
   "source": [
    "datafilepath = \"../datasets/doctors.csv\""
   ]
  },
  {
   "cell_type": "code",
   "execution_count": 2,
   "id": "28c0ab8e-72b2-4f4c-b229-4d0570ebe862",
   "metadata": {},
   "outputs": [],
   "source": [
    "import numpy as np\n",
    "import pandas as pd\n",
    "import matplotlib.pyplot as plt\n",
    "import seaborn as sns"
   ]
  },
  {
   "cell_type": "code",
   "execution_count": 3,
   "id": "382a42ea-dc99-4709-bfde-a8f10763e364",
   "metadata": {},
   "outputs": [],
   "source": [
    "from faker import Faker\n",
    "faker = Faker()"
   ]
  },
  {
   "cell_type": "code",
   "execution_count": 4,
   "id": "085ca230-4191-43f2-a4a3-3cb0a1f41a0a",
   "metadata": {},
   "outputs": [],
   "source": [
    "from scipy.stats import norm\n",
    "from scipy.stats import uniform\n",
    "from scipy.stats import expon\n",
    "from scipy.stats import randint"
   ]
  },
  {
   "cell_type": "code",
   "execution_count": null,
   "id": "e3464772-5007-48f8-a795-dc3e0fe72bc6",
   "metadata": {},
   "outputs": [],
   "source": []
  },
  {
   "cell_type": "markdown",
   "id": "ff39d2b8-5bda-4fb4-8c47-5de789cf04cc",
   "metadata": {},
   "source": [
    "## Dataset design choices\n",
    "\n",
    "\n",
    "In order to give give an example of a group-dependent slope,\n",
    "we'll make "
   ]
  },
  {
   "cell_type": "code",
   "execution_count": 5,
   "id": "7f6f9ed1-c86b-483e-8100-6cce2040e1c3",
   "metadata": {},
   "outputs": [],
   "source": [
    "# Number of samples\n",
    "n = 156\n",
    "\n",
    "# Proportion of Rural locations\n",
    "prop_rural = 0.3\n",
    "\n",
    "# Proportion of Hospital and Clinic workplacs\n",
    "prop_hopital = 0.27\n",
    "prop_clinic = 0.57\n",
    "\n",
    "# Standard deviation of the error term\n",
    "sigma = 5"
   ]
  },
  {
   "cell_type": "markdown",
   "id": "facc8988-399f-470f-a75e-8cd736fe9a59",
   "metadata": {},
   "source": [
    "## Generate names"
   ]
  },
  {
   "cell_type": "code",
   "execution_count": 6,
   "id": "7fd7de15-b889-4962-b82e-50c94b971f18",
   "metadata": {},
   "outputs": [
    {
     "data": {
      "text/plain": [
       "['Robert Snyder',\n",
       " 'David Barnett',\n",
       " 'Wesley Sanchez',\n",
       " 'Anna Griffin',\n",
       " 'Tiffany Richard']"
      ]
     },
     "execution_count": 6,
     "metadata": {},
     "output_type": "execute_result"
    }
   ],
   "source": [
    "faker.unique.clear()\n",
    "faker.seed_instance(301)\n",
    "names = [faker.unique.name() for _ in range(0,n)]\n",
    "\n",
    "assert len(set(names)) == len(names), \"names should be unique\"\n",
    "names[0:5]"
   ]
  },
  {
   "cell_type": "markdown",
   "id": "260fb8c9-6943-41ea-bacd-06bdd30adf74",
   "metadata": {},
   "source": [
    "## Generate permit numbers"
   ]
  },
  {
   "cell_type": "code",
   "execution_count": 7,
   "id": "9da8035b-cb86-4ab0-abe1-5a2c094711c8",
   "metadata": {},
   "outputs": [
    {
     "data": {
      "text/plain": [
       "[93273, 90852, 92744, 73553, 82441]"
      ]
     },
     "execution_count": 7,
     "metadata": {},
     "output_type": "execute_result"
    }
   ],
   "source": [
    "faker.unique.clear()\n",
    "faker.seed_instance(302)\n",
    "permits = [faker.unique.random_int(min=20202, max=100110) for _ in range(0,n)]\n",
    "\n",
    "assert len(set(permits)) == len(permits), \"permits should be unique\"\n",
    "permits[0:5]"
   ]
  },
  {
   "cell_type": "markdown",
   "id": "8a51656c-feb3-44c7-8eae-900d925c2579",
   "metadata": {},
   "source": [
    "## Generate locations"
   ]
  },
  {
   "cell_type": "code",
   "execution_count": 8,
   "id": "a3b8cf13-e3c7-4246-94ad-70bb0bd9c21b",
   "metadata": {},
   "outputs": [
    {
     "data": {
      "text/plain": [
       "array(['rur', 'urb', 'urb', 'urb', 'rur'], dtype='<U3')"
      ]
     },
     "execution_count": 8,
     "metadata": {},
     "output_type": "execute_result"
    }
   ],
   "source": [
    "nR = int(n * prop_rural)\n",
    "nU = n - nR\n",
    "assert nR + nU == n\n",
    "\n",
    "np.random.seed(36)\n",
    "locations = np.random.permutation([\"rur\"]*nR + [\"urb\"]*nU)\n",
    "locations[0:5]"
   ]
  },
  {
   "cell_type": "markdown",
   "id": "4135462d-b321-4bc8-97e2-bf6e3052808f",
   "metadata": {},
   "source": [
    "## Generate workplaces"
   ]
  },
  {
   "cell_type": "code",
   "execution_count": 9,
   "id": "91d98ae7-d8b2-48b4-8c57-eafa0a5e2de2",
   "metadata": {},
   "outputs": [
    {
     "data": {
      "text/plain": [
       "array(['hos', 'cli', 'hos', 'eld', 'cli'], dtype='<U3')"
      ]
     },
     "execution_count": 9,
     "metadata": {},
     "output_type": "execute_result"
    }
   ],
   "source": [
    "nH = int(n * prop_hopital)\n",
    "nC = int(n * prop_clinic)\n",
    "nE = n - nH - nC\n",
    "assert nH + nC + nE == n\n",
    "\n",
    "np.random.seed(32)\n",
    "workplaces = np.random.permutation([\"hos\"]*nH + [\"cli\"]*nC + [\"eld\"]*nE)\n",
    "workplaces[0:5]"
   ]
  },
  {
   "cell_type": "markdown",
   "id": "3f862c3a-48dd-4c42-9aaf-016d72fbe1ac",
   "metadata": {},
   "source": [
    "## Generate ages and experience"
   ]
  },
  {
   "cell_type": "code",
   "execution_count": 10,
   "id": "12231044-e669-48d4-a505-0ba26665d3e6",
   "metadata": {},
   "outputs": [
    {
     "name": "stderr",
     "output_type": "stream",
     "text": [
      "/var/folders/wc/2r44j8gs4gn56t1xtw5f6wlm0000gn/T/ipykernel_70176/2581071922.py:10: DeprecationWarning: Conversion of an array with ndim > 0 to a scalar is deprecated, and will error in future. Ensure you extract a single element from your array before performing this operation. (Deprecated NumPy 1.25.)\n",
      "  grad_ages[i] = grad_age\n"
     ]
    },
    {
     "data": {
      "text/plain": [
       "[(26, 2), (43, 11), (30, 1), (53, 23), (26, 3)]"
      ]
     },
     "execution_count": 10,
     "metadata": {},
     "output_type": "execute_result"
    }
   ],
   "source": [
    "np.random.seed(48)\n",
    "ages = randint(26, 65).rvs(n)\n",
    "\n",
    "np.random.seed(49)\n",
    "grad_ages = np.zeros_like(ages)\n",
    "for i, age in enumerate(ages):\n",
    "    grad_age = randint(24, 35).rvs(1)\n",
    "    if grad_age >= age:\n",
    "        grad_age = age - randint(1,5).rvs(1)\n",
    "    grad_ages[i] = grad_age\n",
    "\n",
    "experiences = ages - grad_ages\n",
    "list(zip(ages, experiences))[0:5]"
   ]
  },
  {
   "cell_type": "markdown",
   "id": "53dbe23b-4bd3-4995-92f7-dacd3f5d2ae3",
   "metadata": {},
   "source": [
    "## Generate work hours"
   ]
  },
  {
   "cell_type": "code",
   "execution_count": 11,
   "id": "26e7e9f1-4db7-4645-b454-686f0adc89ab",
   "metadata": {},
   "outputs": [
    {
     "data": {
      "text/plain": [
       "array([21, 74, 63, 77, 36])"
      ]
     },
     "execution_count": 11,
     "metadata": {},
     "output_type": "execute_result"
    }
   ],
   "source": [
    "from ministats.probs import MixtureModel\n",
    "\n",
    "rvHours = MixtureModel([uniform(20, 60), uniform(35, 30)])\n",
    "# xs = np.linspace(0, 100)\n",
    "# sns.lineplot(x=xs, y=rvHours.pdf(xs))\n",
    "\n",
    "np.random.seed(50)\n",
    "hours = rvHours.rvs(n).astype(int)\n",
    "hours[0:5]"
   ]
  },
  {
   "cell_type": "markdown",
   "id": "0750b962-4a09-493b-83b1-2e73322efa13",
   "metadata": {},
   "source": [
    "## Generate caffeine consumption"
   ]
  },
  {
   "cell_type": "code",
   "execution_count": 12,
   "id": "a2719280-8b8d-43c3-b566-4e41d15ca10a",
   "metadata": {},
   "outputs": [
    {
     "data": {
      "text/plain": [
       "array([ 2, 26, 25, 36, 22])"
      ]
     },
     "execution_count": 12,
     "metadata": {},
     "output_type": "execute_result"
    }
   ],
   "source": [
    "np.random.seed(51)\n",
    "\n",
    "# caffeine consumption partially dependent on number of hours worked\n",
    "hours_cups = 15/50*hours\n",
    "random_cups = MixtureModel([uniform(-6,19),uniform(-4,10)],weights=[0.8,0.2]).rvs(n)\n",
    "cups = hours_cups + random_cups\n",
    "\n",
    "# 10% of population don't drink coffee\n",
    "coins = np.random.random(n)\n",
    "caffeines = np.where(coins<0.1, 0, cups)\n",
    "\n",
    "caffeines = caffeines.astype(int)\n",
    "caffeines[0:5]\n",
    "# sns.histplot(caffeines, bins=30)"
   ]
  },
  {
   "cell_type": "markdown",
   "id": "ddb5b8c3-8075-40c0-93a9-8a7843e968ce",
   "metadata": {},
   "source": [
    "## Generate alcohol consumption"
   ]
  },
  {
   "cell_type": "code",
   "execution_count": 13,
   "id": "cc4af48e-c943-4769-9658-88eb863bf792",
   "metadata": {},
   "outputs": [
    {
     "data": {
      "text/plain": [
       "array([ 0, 20,  1,  4,  9])"
      ]
     },
     "execution_count": 13,
     "metadata": {},
     "output_type": "execute_result"
    }
   ],
   "source": [
    "# Assuming 0 to 20 drinks per week\n",
    "rvAlcohol = MixtureModel([ randint(0,1),   uniform(0, 20),  expon(loc=18, scale=7)],\n",
    "                          weights=[0.15,    0.6,             0.25])\n",
    "\n",
    "np.random.seed(55)\n",
    "alcohols = rvAlcohol.rvs(n)\n",
    "alcohols = alcohols.astype(int)\n",
    "# sns.histplot(alcohols, bins=max(alcohols))\n",
    "alcohols[0:5]"
   ]
  },
  {
   "cell_type": "code",
   "execution_count": null,
   "id": "1438961b-3e1e-4021-89c4-1e6cec799606",
   "metadata": {},
   "outputs": [],
   "source": []
  },
  {
   "cell_type": "markdown",
   "id": "494e973b-f36a-47a3-931a-3170cf7aae65",
   "metadata": {},
   "source": [
    "## Generate cannabis consumption"
   ]
  },
  {
   "cell_type": "code",
   "execution_count": 14,
   "id": "e541d2db-f2ab-4990-81c0-d4f03c528540",
   "metadata": {},
   "outputs": [
    {
     "data": {
      "text/plain": [
       "array([5., 0., 0., 0., 0.])"
      ]
     },
     "execution_count": 14,
     "metadata": {},
     "output_type": "execute_result"
    }
   ],
   "source": [
    "# Assuming 0 to 10 grams per week\n",
    "rvWeed = MixtureModel([randint(0,1), uniform(0,3), expon(loc=0,scale=2.5)],\n",
    "              weights=[0.7,          0.2,          0.1])\n",
    "\n",
    "np.random.seed(56)\n",
    "weeds = rvWeed.rvs(n)\n",
    "weeds = np.round(2*weeds)/2  # round to nearest 0.5\n",
    "# sns.histplot(weeds, bins=int(max(weeds))) \n",
    "weeds[0:5]"
   ]
  },
  {
   "cell_type": "markdown",
   "id": "24928581-48ec-4b5b-bd89-2b3b6daacc60",
   "metadata": {},
   "source": [
    "## Generate exercise"
   ]
  },
  {
   "cell_type": "code",
   "execution_count": 15,
   "id": "753c2418-3aeb-4d7a-b43f-72b3a5e83b8b",
   "metadata": {},
   "outputs": [
    {
     "data": {
      "text/plain": [
       "array([0. , 4.5, 7. , 2. , 7.5])"
      ]
     },
     "execution_count": 15,
     "metadata": {},
     "output_type": "execute_result"
    }
   ],
   "source": [
    "rvExercise = MixtureModel([randint(0,1), uniform(0,10), uniform(6,14)],\n",
    "                          weights=[0.2,  0.6,           0.2])\n",
    "\n",
    "np.random.seed(57)\n",
    "exercises = rvExercise.rvs(n)\n",
    "\n",
    "exercises = np.round(2*exercises)/2  # round to nearest 0.5\n",
    "# sns.histplot(exercises, bins=int(max(exercises))) \n",
    "exercises[0:5]"
   ]
  },
  {
   "cell_type": "code",
   "execution_count": null,
   "id": "85e35362-c8af-4abb-8552-ec6d093627c1",
   "metadata": {},
   "outputs": [],
   "source": []
  },
  {
   "cell_type": "markdown",
   "id": "b3a0836d-f5af-4c0e-9b84-0f0ff833e41f",
   "metadata": {},
   "source": [
    "## Create the data frame all the exogenous variables"
   ]
  },
  {
   "cell_type": "code",
   "execution_count": 16,
   "id": "aecc1289-b64e-455b-8beb-d00dad9f1382",
   "metadata": {},
   "outputs": [],
   "source": [
    "# Generate synthetic data\n",
    "df = pd.DataFrame({\n",
    "    'permit': permits,\n",
    "    'name': names,\n",
    "    'loc': locations,\n",
    "    'work': workplaces,\n",
    "    'age': ages,\n",
    "    'exp': experiences,\n",
    "    'hours': hours,\n",
    "    'caf': caffeines,\n",
    "    'alc': alcohols,\n",
    "    'weed': weeds,\n",
    "    'exrc': exercises,\n",
    "})\n",
    "# df"
   ]
  },
  {
   "cell_type": "markdown",
   "id": "07559881-c39c-4af0-95d8-b53a5ed1dfa0",
   "metadata": {},
   "source": [
    "## Generate sleep scores"
   ]
  },
  {
   "cell_type": "code",
   "execution_count": 17,
   "id": "d8a6787f-1722-46f5-b99f-6152f1e2bf1e",
   "metadata": {},
   "outputs": [
    {
     "name": "stdout",
     "output_type": "stream",
     "text": [
      "Manually setting score for thef following people to avoid negative scores\n",
      "    permit           name  loc work  age  exp  hours  caf  alc  weed  exrc  score\n",
      "36   74619  Jasmine Lynch  urb  cli   47   14     56   26   42   0.0   2.5    -15\n",
      "[63 16 58 55 47]\n"
     ]
    },
    {
     "data": {
      "text/plain": [
       "count    156.000000\n",
       "mean      48.025641\n",
       "std       20.446294\n",
       "min        4.000000\n",
       "25%       33.000000\n",
       "50%       49.500000\n",
       "75%       62.000000\n",
       "max       97.000000\n",
       "Name: score, dtype: float64"
      ]
     },
     "execution_count": 17,
     "metadata": {},
     "output_type": "execute_result"
    }
   ],
   "source": [
    "# Error term\n",
    "np.random.seed(62)\n",
    "noise = norm(loc=0, scale=sigma).rvs(n)\n",
    "\n",
    "# Catagorical effects\n",
    "loc_map = {'urb': 0,\n",
    "           'rur': 1}\n",
    "\n",
    "work_map = {\"cli\": 1.0,\n",
    "            \"eld\": 2.0,\n",
    "            \"hos\": 2.2}\n",
    "\n",
    "\n",
    "# Score as a linear combination mixture of the predictors\n",
    "df['score'] = (\n",
    "    58                                # Base score\n",
    "    +   5 * df['loc'].map(loc_map)    # Big difference for location\n",
    "    +   3 * df['work'].map(work_map)  # Medium difference for workplace type\n",
    "    + 0.5 * df['exp']                 # Small positive effect for experience\n",
    "    - 0.2 * df['hours']               # Small negative effect for hours\n",
    "    - 0.2 * df['caf']                 # Small negative effect for caffeine\n",
    "    - 1.8 * df['alc']                 # Strong negative effect for alcohol\n",
    "    - 0.5 * df['weed']                # Small negative effect for weed\n",
    "    + 1.9 * df['exrc']                # Strong positive effect for exercise\n",
    "    + noise  # Gaussian noise\n",
    ")\n",
    "\n",
    "# Convert score to integer\n",
    "df['score'] = df['score'].round().astype(int)\n",
    "\n",
    "# Manual fix for Jasmine\n",
    "print(\"Manually setting score for thef following people to avoid negative scores\")\n",
    "pd.set_option('display.width', 100)\n",
    "print(df[df[\"score\"]<0])\n",
    "df.loc[df[\"score\"]<0,\"score\"] = 4\n",
    "\n",
    "doctors = df.copy()\n",
    "\n",
    "print(doctors[\"score\"].values[0:5])\n",
    "doctors[\"score\"].describe()"
   ]
  },
  {
   "cell_type": "markdown",
   "id": "72b15c4b-ade0-43c5-a965-2a7fcd7fc9e4",
   "metadata": {},
   "source": [
    "## Score range checks"
   ]
  },
  {
   "cell_type": "code",
   "execution_count": 18,
   "id": "e8e2ed2c-176a-4fdb-8487-0924650af878",
   "metadata": {},
   "outputs": [
    {
     "data": {
      "text/html": [
       "<div>\n",
       "<style scoped>\n",
       "    .dataframe tbody tr th:only-of-type {\n",
       "        vertical-align: middle;\n",
       "    }\n",
       "\n",
       "    .dataframe tbody tr th {\n",
       "        vertical-align: top;\n",
       "    }\n",
       "\n",
       "    .dataframe thead th {\n",
       "        text-align: right;\n",
       "    }\n",
       "</style>\n",
       "<table border=\"1\" class=\"dataframe\">\n",
       "  <thead>\n",
       "    <tr style=\"text-align: right;\">\n",
       "      <th></th>\n",
       "      <th>permit</th>\n",
       "      <th>name</th>\n",
       "      <th>loc</th>\n",
       "      <th>work</th>\n",
       "      <th>age</th>\n",
       "      <th>exp</th>\n",
       "      <th>hours</th>\n",
       "      <th>caf</th>\n",
       "      <th>alc</th>\n",
       "      <th>weed</th>\n",
       "      <th>exrc</th>\n",
       "      <th>score</th>\n",
       "    </tr>\n",
       "  </thead>\n",
       "  <tbody>\n",
       "  </tbody>\n",
       "</table>\n",
       "</div>"
      ],
      "text/plain": [
       "Empty DataFrame\n",
       "Columns: [permit, name, loc, work, age, exp, hours, caf, alc, weed, exrc, score]\n",
       "Index: []"
      ]
     },
     "execution_count": 18,
     "metadata": {},
     "output_type": "execute_result"
    }
   ],
   "source": [
    "doctors[doctors[\"score\"]>100]"
   ]
  },
  {
   "cell_type": "code",
   "execution_count": 19,
   "id": "47533bda-5619-4c5b-ad7a-c5ff9d332b57",
   "metadata": {},
   "outputs": [
    {
     "data": {
      "text/html": [
       "<div>\n",
       "<style scoped>\n",
       "    .dataframe tbody tr th:only-of-type {\n",
       "        vertical-align: middle;\n",
       "    }\n",
       "\n",
       "    .dataframe tbody tr th {\n",
       "        vertical-align: top;\n",
       "    }\n",
       "\n",
       "    .dataframe thead th {\n",
       "        text-align: right;\n",
       "    }\n",
       "</style>\n",
       "<table border=\"1\" class=\"dataframe\">\n",
       "  <thead>\n",
       "    <tr style=\"text-align: right;\">\n",
       "      <th></th>\n",
       "      <th>permit</th>\n",
       "      <th>name</th>\n",
       "      <th>loc</th>\n",
       "      <th>work</th>\n",
       "      <th>age</th>\n",
       "      <th>exp</th>\n",
       "      <th>hours</th>\n",
       "      <th>caf</th>\n",
       "      <th>alc</th>\n",
       "      <th>weed</th>\n",
       "      <th>exrc</th>\n",
       "      <th>score</th>\n",
       "    </tr>\n",
       "  </thead>\n",
       "  <tbody>\n",
       "  </tbody>\n",
       "</table>\n",
       "</div>"
      ],
      "text/plain": [
       "Empty DataFrame\n",
       "Columns: [permit, name, loc, work, age, exp, hours, caf, alc, weed, exrc, score]\n",
       "Index: []"
      ]
     },
     "execution_count": 19,
     "metadata": {},
     "output_type": "execute_result"
    }
   ],
   "source": [
    "doctors[doctors[\"score\"]<=0]"
   ]
  },
  {
   "cell_type": "code",
   "execution_count": 20,
   "id": "71019918-c39f-40d8-8bed-b702d91e82fd",
   "metadata": {},
   "outputs": [],
   "source": [
    "# # Make sure scores don't exceed 100\n",
    "assert doctors['score'].max() <= 100\n",
    "assert doctors['score'].min() > 0"
   ]
  },
  {
   "cell_type": "code",
   "execution_count": 21,
   "id": "447be16a-ed41-4e6b-b59f-a603aa57b5d3",
   "metadata": {},
   "outputs": [],
   "source": [
    "## Save data file"
   ]
  },
  {
   "cell_type": "code",
   "execution_count": 22,
   "id": "02ca2d5a-2f83-4f25-b650-ea3d265ac915",
   "metadata": {},
   "outputs": [],
   "source": [
    "# SAVE TO DATAFILE\n",
    "doctors.to_csv(datafilepath, index=False)"
   ]
  },
  {
   "cell_type": "code",
   "execution_count": 23,
   "id": "5369fad4-bd87-4d7d-9fc9-80a5193f36a6",
   "metadata": {},
   "outputs": [],
   "source": [
    "# # RELOAD FROM DATAFILE\n",
    "# doctors = pd.read_csv(datafilepath)\n",
    "# doctors.head()"
   ]
  },
  {
   "cell_type": "code",
   "execution_count": 24,
   "id": "a9e61be9-9e6c-4b54-870a-b333d58bce7c",
   "metadata": {},
   "outputs": [
    {
     "data": {
      "text/html": [
       "<div>\n",
       "<style scoped>\n",
       "    .dataframe tbody tr th:only-of-type {\n",
       "        vertical-align: middle;\n",
       "    }\n",
       "\n",
       "    .dataframe tbody tr th {\n",
       "        vertical-align: top;\n",
       "    }\n",
       "\n",
       "    .dataframe thead th {\n",
       "        text-align: right;\n",
       "    }\n",
       "</style>\n",
       "<table border=\"1\" class=\"dataframe\">\n",
       "  <thead>\n",
       "    <tr style=\"text-align: right;\">\n",
       "      <th></th>\n",
       "      <th>permit</th>\n",
       "      <th>name</th>\n",
       "      <th>loc</th>\n",
       "      <th>work</th>\n",
       "      <th>age</th>\n",
       "      <th>exp</th>\n",
       "      <th>hours</th>\n",
       "      <th>caf</th>\n",
       "      <th>alc</th>\n",
       "      <th>weed</th>\n",
       "      <th>exrc</th>\n",
       "      <th>score</th>\n",
       "    </tr>\n",
       "  </thead>\n",
       "  <tbody>\n",
       "    <tr>\n",
       "      <th>0</th>\n",
       "      <td>93273</td>\n",
       "      <td>Robert Snyder</td>\n",
       "      <td>rur</td>\n",
       "      <td>hos</td>\n",
       "      <td>26</td>\n",
       "      <td>2</td>\n",
       "      <td>21</td>\n",
       "      <td>2</td>\n",
       "      <td>0</td>\n",
       "      <td>5.0</td>\n",
       "      <td>0.0</td>\n",
       "      <td>63</td>\n",
       "    </tr>\n",
       "    <tr>\n",
       "      <th>1</th>\n",
       "      <td>90852</td>\n",
       "      <td>David Barnett</td>\n",
       "      <td>urb</td>\n",
       "      <td>cli</td>\n",
       "      <td>43</td>\n",
       "      <td>11</td>\n",
       "      <td>74</td>\n",
       "      <td>26</td>\n",
       "      <td>20</td>\n",
       "      <td>0.0</td>\n",
       "      <td>4.5</td>\n",
       "      <td>16</td>\n",
       "    </tr>\n",
       "    <tr>\n",
       "      <th>2</th>\n",
       "      <td>92744</td>\n",
       "      <td>Wesley Sanchez</td>\n",
       "      <td>urb</td>\n",
       "      <td>hos</td>\n",
       "      <td>30</td>\n",
       "      <td>1</td>\n",
       "      <td>63</td>\n",
       "      <td>25</td>\n",
       "      <td>1</td>\n",
       "      <td>0.0</td>\n",
       "      <td>7.0</td>\n",
       "      <td>58</td>\n",
       "    </tr>\n",
       "    <tr>\n",
       "      <th>3</th>\n",
       "      <td>73553</td>\n",
       "      <td>Anna Griffin</td>\n",
       "      <td>urb</td>\n",
       "      <td>eld</td>\n",
       "      <td>53</td>\n",
       "      <td>23</td>\n",
       "      <td>77</td>\n",
       "      <td>36</td>\n",
       "      <td>4</td>\n",
       "      <td>0.0</td>\n",
       "      <td>2.0</td>\n",
       "      <td>55</td>\n",
       "    </tr>\n",
       "    <tr>\n",
       "      <th>4</th>\n",
       "      <td>82441</td>\n",
       "      <td>Tiffany Richard</td>\n",
       "      <td>rur</td>\n",
       "      <td>cli</td>\n",
       "      <td>26</td>\n",
       "      <td>3</td>\n",
       "      <td>36</td>\n",
       "      <td>22</td>\n",
       "      <td>9</td>\n",
       "      <td>0.0</td>\n",
       "      <td>7.5</td>\n",
       "      <td>47</td>\n",
       "    </tr>\n",
       "  </tbody>\n",
       "</table>\n",
       "</div>"
      ],
      "text/plain": [
       "   permit             name  loc work  age  exp  hours  caf  alc  weed  exrc  score\n",
       "0   93273    Robert Snyder  rur  hos   26    2     21    2    0   5.0   0.0     63\n",
       "1   90852    David Barnett  urb  cli   43   11     74   26   20   0.0   4.5     16\n",
       "2   92744   Wesley Sanchez  urb  hos   30    1     63   25    1   0.0   7.0     58\n",
       "3   73553     Anna Griffin  urb  eld   53   23     77   36    4   0.0   2.0     55\n",
       "4   82441  Tiffany Richard  rur  cli   26    3     36   22    9   0.0   7.5     47"
      ]
     },
     "execution_count": 24,
     "metadata": {},
     "output_type": "execute_result"
    }
   ],
   "source": [
    "doctors.head()"
   ]
  },
  {
   "cell_type": "markdown",
   "id": "10778990-725a-403b-8af0-604e07485840",
   "metadata": {},
   "source": [
    "## Tests for difference between rural and urban"
   ]
  },
  {
   "cell_type": "markdown",
   "id": "2a37e909-98d6-4df3-a789-d6691d75224d",
   "metadata": {},
   "source": [
    "### Visual inspection"
   ]
  },
  {
   "cell_type": "code",
   "execution_count": 25,
   "id": "ccabba5f-82ed-449c-849d-dfc5e6b8680b",
   "metadata": {},
   "outputs": [
    {
     "data": {
      "image/png": "[encoded data removed]",
      "text/plain": [
       "<Figure size 900x300 with 2 Axes>"
      ]
     },
     "metadata": {},
     "output_type": "display_data"
    }
   ],
   "source": [
    "with plt.rc_context({\"figure.figsize\":(9,3)}):\n",
    "    fig, (ax1,ax2) = plt.subplots(1,2)\n",
    "    sns.boxplot(x=\"score\", y=\"loc\", hue=\"loc\", data=doctors, ax=ax1)\n",
    "    sns.kdeplot(x=\"score\", hue=\"loc\", data=doctors, bw_adjust=0.2, ax=ax2)\n",
    "    ax2.set_ylabel(None)"
   ]
  },
  {
   "cell_type": "markdown",
   "id": "b6e04a31-f48f-4486-9a70-65516d00b61d",
   "metadata": {},
   "source": [
    "### Want the Welch t-test for `loc` to reject H0"
   ]
  },
  {
   "cell_type": "code",
   "execution_count": 26,
   "id": "6207525e-872f-45c1-a358-0dbadc1083c1",
   "metadata": {},
   "outputs": [
    {
     "data": {
      "text/plain": [
       "0.05327318474001391"
      ]
     },
     "execution_count": 26,
     "metadata": {},
     "output_type": "execute_result"
    }
   ],
   "source": [
    "from scipy.stats import ttest_ind\n",
    "\n",
    "scoresR = doctors[doctors[\"loc\"]==\"rur\"][\"score\"]\n",
    "scoresU = doctors[doctors[\"loc\"]==\"urb\"][\"score\"]\n",
    "ttest_ind(scoresR, scoresU, equal_var=False).pvalue"
   ]
  },
  {
   "cell_type": "code",
   "execution_count": null,
   "id": "da08d79a-0cbb-4060-837a-81c7e4bbd823",
   "metadata": {},
   "outputs": [],
   "source": []
  },
  {
   "cell_type": "code",
   "execution_count": null,
   "id": "eabafe88-a3df-4d21-889d-429844cc073f",
   "metadata": {},
   "outputs": [],
   "source": []
  },
  {
   "cell_type": "markdown",
   "id": "59fced6a-3d9d-4459-9428-caa73a27526b",
   "metadata": {},
   "source": [
    "### ANOVA test for workplace to fail to reject H0"
   ]
  },
  {
   "cell_type": "code",
   "execution_count": 27,
   "id": "21035eef-1480-44f2-8e9c-f0d79481afb7",
   "metadata": {},
   "outputs": [
    {
     "data": {
      "text/plain": [
       "F_onewayResult(statistic=0.5953116925291182, pvalue=0.5526627461285608)"
      ]
     },
     "execution_count": 27,
     "metadata": {},
     "output_type": "execute_result"
    }
   ],
   "source": [
    "from scipy.stats import f_oneway\n",
    "\n",
    "scoresH = doctors[doctors[\"work\"]==\"hos\"][\"score\"]\n",
    "scoresC = doctors[doctors[\"work\"]==\"cli\"][\"score\"]\n",
    "scoresE = doctors[doctors[\"work\"]==\"eld\"][\"score\"]\n",
    "\n",
    "f_oneway(scoresH, scoresC, scoresE)"
   ]
  },
  {
   "cell_type": "code",
   "execution_count": null,
   "id": "7d1aff42-4d98-4c01-8126-778a21cd6455",
   "metadata": {},
   "outputs": [],
   "source": []
  },
  {
   "cell_type": "code",
   "execution_count": null,
   "id": "9f0f1e40-4eaa-4714-9675-1cfbdd357588",
   "metadata": {},
   "outputs": [],
   "source": []
  },
  {
   "cell_type": "markdown",
   "id": "97a2f407-e671-48a2-8fb4-f5b87431bfc3",
   "metadata": {},
   "source": [
    "### Confidence interval for dmeans"
   ]
  },
  {
   "cell_type": "code",
   "execution_count": 28,
   "id": "a5a3aaf1-511f-433c-ba32-e3923e50e256",
   "metadata": {},
   "outputs": [
    {
     "data": {
      "text/plain": [
       "[1.0599249117092784, 12.925845839278871]"
      ]
     },
     "execution_count": 28,
     "metadata": {},
     "output_type": "execute_result"
    }
   ],
   "source": [
    "from ministats import ci_dmeans\n",
    "\n",
    "ci_dmeans(scoresR, scoresU, method=\"b\")\n",
    "ci_dmeans(scoresR, scoresU)"
   ]
  },
  {
   "cell_type": "code",
   "execution_count": null,
   "id": "0214e6c1-7651-4486-aa81-26a4db382aa6",
   "metadata": {},
   "outputs": [],
   "source": []
  },
  {
   "cell_type": "code",
   "execution_count": null,
   "id": "a2a1f248-55f7-4b2b-a54c-01165eb55b62",
   "metadata": {},
   "outputs": [],
   "source": []
  },
  {
   "cell_type": "code",
   "execution_count": null,
   "id": "ff82884b-9d12-47bf-a8d3-865252d728dd",
   "metadata": {},
   "outputs": [],
   "source": []
  },
  {
   "cell_type": "code",
   "execution_count": null,
   "id": "5252199b-8c1d-46cb-ac32-ad3f1513e03c",
   "metadata": {},
   "outputs": [],
   "source": []
  },
  {
   "cell_type": "markdown",
   "id": "87ba2871-a855-430b-bb52-5605efe79192",
   "metadata": {},
   "source": [
    "## Linear regression plots"
   ]
  },
  {
   "cell_type": "code",
   "execution_count": 29,
   "id": "33a542ae-225b-4464-a9a8-7f0f984b2394",
   "metadata": {},
   "outputs": [
    {
     "data": {
      "text/plain": [
       "<Axes: xlabel='alc', ylabel='score'>"
      ]
     },
     "execution_count": 29,
     "metadata": {},
     "output_type": "execute_result"
    }
   ],
   "source": [
    "sns.regplot(data=doctors, x=\"alc\", y=\"score\", color=\"y\")"
   ]
  },
  {
   "cell_type": "code",
   "execution_count": 30,
   "id": "911ccf45-bcc5-434b-86eb-da7993ade616",
   "metadata": {},
   "outputs": [
    {
     "data": {
      "text/plain": [
       "<Axes: xlabel='weed', ylabel='score'>"
      ]
     },
     "execution_count": 30,
     "metadata": {},
     "output_type": "execute_result"
    }
   ],
   "source": [
    "sns.regplot(data=doctors, x=\"weed\", y=\"score\", color=\"g\")"
   ]
  },
  {
   "cell_type": "code",
   "execution_count": 31,
   "id": "2e48c469-315e-440b-b329-a8364a5a551b",
   "metadata": {},
   "outputs": [
    {
     "data": {
      "text/plain": [
       "<Axes: xlabel='caf', ylabel='score'>"
      ]
     },
     "execution_count": 31,
     "metadata": {},
     "output_type": "execute_result"
    }
   ],
   "source": [
    "sns.regplot(data=doctors, x=\"caf\", y=\"score\", color=\"brown\")"
   ]
  },
  {
   "cell_type": "code",
   "execution_count": null,
   "id": "47eb68ad-0a30-459a-ba6c-87ada1afc9b5",
   "metadata": {},
   "outputs": [],
   "source": []
  }
 ],
 "metadata": {
  "kernelspec": {
   "display_name": "Python 3 (ipykernel)",
   "language": "python",
   "name": "python3"
  },
  "language_info": {
   "codemirror_mode": {
    "name": "ipython",
    "version": 3
   },
   "file_extension": ".py",
   "mimetype": "text/x-python",
   "name": "python",
   "nbconvert_exporter": "python",
   "pygments_lexer": "ipython3",
   "version": "3.9.4"
  }
 },
 "nbformat": 4,
 "nbformat_minor": 5
}
