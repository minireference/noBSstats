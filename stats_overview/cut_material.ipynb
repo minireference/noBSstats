{
 "cells": [
  {
   "cell_type": "code",
   "execution_count": 1,
   "id": "6877a525-d740-4594-9975-2ffa26fed9a0",
   "metadata": {},
   "outputs": [],
   "source": [
    "from scipy.stats import ttest_ind\n",
    "# loading Python modules\n",
    "import numpy as np\n",
    "import pandas as pd\n",
    "import seaborn as sns\n",
    "\n",
    "%matplotlib inline\n",
    "import matplotlib.pyplot as plt\n",
    "\n",
    "# silence please; developers at work\n",
    "import warnings\n",
    "warnings.filterwarnings('ignore')"
   ]
  },
  {
   "cell_type": "code",
   "execution_count": 2,
   "id": "0da3f291-a36f-40af-b646-a6921fea45df",
   "metadata": {},
   "outputs": [
    {
     "data": {
      "text/plain": [
       "0.04699829609992036"
      ]
     },
     "execution_count": 2,
     "metadata": {},
     "output_type": "execute_result"
    }
   ],
   "source": [
    "df = pd.read_csv('data/employee_lifetime_values.csv')\n",
    "\n",
    "xNS = df[df[\"group\"]==\"NS\"]['ELV']\n",
    "xS = df[df[\"group\"]==\"S\"]['ELV']\n",
    "\n",
    "ttest_ind(xNS, xS).pvalue"
   ]
  },
  {
   "cell_type": "code",
   "execution_count": 3,
   "id": "051f1bbb-691b-4e9d-8f0e-7d5476909d06",
   "metadata": {},
   "outputs": [
    {
     "data": {
      "text/plain": [
       "0.04692"
      ]
     },
     "execution_count": 3,
     "metadata": {},
     "output_type": "execute_result"
    }
   ],
   "source": [
    "ttest_ind(xS, xNS, permutations=50000).pvalue"
   ]
  },
  {
   "cell_type": "code",
   "execution_count": 4,
   "id": "76ac1cc1-774a-4c08-afdb-eb81f1daa33c",
   "metadata": {},
   "outputs": [],
   "source": [
    "# append question mark ? to any method to get a jupyter popup of help\n",
    "# sns.displot?"
   ]
  },
  {
   "cell_type": "code",
   "execution_count": 5,
   "id": "e3fc70b1-9282-499e-b387-21a68893998c",
   "metadata": {},
   "outputs": [
    {
     "data": {
      "text/plain": [
       "(1018.4107777401603, 1148.434936218507)"
      ]
     },
     "execution_count": 5,
     "metadata": {},
     "output_type": "execute_result"
    }
   ],
   "source": [
    "xNS.mean(), xS.mean()"
   ]
  },
  {
   "cell_type": "code",
   "execution_count": 6,
   "id": "1d5c885a-85d1-4cfd-bf4c-caf202351008",
   "metadata": {},
   "outputs": [
    {
     "data": {
      "text/plain": [
       "0.5195944753879502"
      ]
     },
     "execution_count": 6,
     "metadata": {},
     "output_type": "execute_result"
    }
   ],
   "source": [
    "def cohend(d1, d2):\n",
    "    \"\"\"Calculate Cohen's d for independent samples\"\"\"\n",
    "    n1, n2 = len(d1), len(d2)\n",
    "    s1, s2 = np.var(d1, ddof=1), np.var(d2, ddof=1)\n",
    "    # calculate the pooled standard deviation\n",
    "    s = np.sqrt(((n1 - 1) * s1 + (n2 - 1) * s2) / (n1 + n2 - 2))\n",
    "    u1, u2 = np.mean(d1), np.mean(d2)\n",
    "    return (u1 - u2) / s  # calculate the effect size\n",
    "\n",
    "cohend(xS.values, xNS.values)"
   ]
  },
  {
   "cell_type": "code",
   "execution_count": 7,
   "id": "f6efe5a7-b932-4d4a-9fa1-7da187c6172c",
   "metadata": {},
   "outputs": [
    {
     "data": {
      "text/plain": [
       "<AxesSubplot:xlabel='ELV', ylabel='Count'>"
      ]
     },
     "execution_count": 7,
     "metadata": {},
     "output_type": "execute_result"
    },
    {
     "data": {
      "image/png": "[encoded data removed]",
      "text/plain": [
       "<Figure size 432x288 with 1 Axes>"
      ]
     },
     "metadata": {
      "needs_background": "light"
     },
     "output_type": "display_data"
    }
   ],
   "source": [
    "# sns.histplot([xA,xB], colors=['r', 'b'])\n",
    "sns.histplot(data=df, x=\"ELV\", hue=\"group\", bins=10, kde=True)\n",
    "# sns.displot(data=df, x=\"ELV\", hue=\"group\", bins=10, kde=True)"
   ]
  },
  {
   "cell_type": "code",
   "execution_count": null,
   "id": "fa6006b9-23e9-4006-a5e1-5129df0fa634",
   "metadata": {},
   "outputs": [],
   "source": []
  },
  {
   "cell_type": "code",
   "execution_count": 8,
   "id": "676f29f2-39b4-4a3b-8943-231a79f16d08",
   "metadata": {},
   "outputs": [],
   "source": [
    "# xA.hist(alpha=0.3)\n",
    "# xB.hist(alpha=0.3)"
   ]
  },
  {
   "cell_type": "code",
   "execution_count": 9,
   "id": "0a64073f-aebc-44a6-9519-075dd040cf71",
   "metadata": {},
   "outputs": [],
   "source": [
    "# xA['ELV']"
   ]
  },
  {
   "cell_type": "code",
   "execution_count": 10,
   "id": "943e8ee8-4eed-486e-8211-f7fd269c00c0",
   "metadata": {},
   "outputs": [
    {
     "name": "stdout",
     "output_type": "stream",
     "text": [
      "The sample mean and sample standard deviation for Group A are:\n"
     ]
    },
    {
     "data": {
      "text/plain": [
       "(nan, nan)"
      ]
     },
     "execution_count": 10,
     "metadata": {},
     "output_type": "execute_result"
    }
   ],
   "source": [
    "# sample mean and standard deviation are approximations of the population mean and std\n",
    "meanA = df[df['group']==\"A\"]['ELV'].mean()\n",
    "stdA = df[df['group']==\"A\"]['ELV'].std(ddof=0)\n",
    "print(\"The sample mean and sample standard deviation for Group A are:\")\n",
    "meanA, stdA"
   ]
  },
  {
   "cell_type": "code",
   "execution_count": null,
   "id": "38620111-2158-4e0c-86cc-023be9ae44ab",
   "metadata": {},
   "outputs": [],
   "source": []
  },
  {
   "cell_type": "code",
   "execution_count": 11,
   "id": "80c036a9-04a1-457b-8b49-112e4a86e7c2",
   "metadata": {},
   "outputs": [
    {
     "name": "stdout",
     "output_type": "stream",
     "text": [
      "The sample mean and sample standard deviation for Group B are:\n"
     ]
    },
    {
     "data": {
      "text/plain": [
       "(nan, nan)"
      ]
     },
     "execution_count": 11,
     "metadata": {},
     "output_type": "execute_result"
    }
   ],
   "source": [
    "meanB = df[df['group']==\"B\"]['ELV'].mean()\n",
    "stdB = df[df['group']==\"B\"]['ELV'].std()\n",
    "print(\"The sample mean and sample standard deviation for Group B are:\")\n",
    "meanB, stdB"
   ]
  },
  {
   "cell_type": "code",
   "execution_count": 12,
   "id": "2a3c2b60-c3fc-478b-a02b-cd80eaeb9f71",
   "metadata": {},
   "outputs": [],
   "source": [
    "# another way to get an estimate of the population parameters is to\n",
    "# use the `fit` method on a probability distribution model:\n",
    "from scipy.stats.distributions import norm"
   ]
  },
  {
   "cell_type": "code",
   "execution_count": 13,
   "id": "8514c3a0-aa28-4ec2-90b5-88315ae34ecc",
   "metadata": {},
   "outputs": [
    {
     "data": {
      "text/plain": [
       "(nan, nan)"
      ]
     },
     "execution_count": 13,
     "metadata": {},
     "output_type": "execute_result"
    }
   ],
   "source": [
    "# fit a normal distribution for Group A\n",
    "norm.fit(df[df['group']==\"A\"]['ELV'], method=\"MLE\")"
   ]
  },
  {
   "cell_type": "code",
   "execution_count": 14,
   "id": "486e88f9-efcf-438b-b4a6-36ec673e6a56",
   "metadata": {},
   "outputs": [
    {
     "data": {
      "text/plain": [
       "(nan, nan)"
      ]
     },
     "execution_count": 14,
     "metadata": {},
     "output_type": "execute_result"
    }
   ],
   "source": [
    "# fit a normal distribution for Group B\n",
    "norm.fit(df[df['group']==\"B\"]['ELV'], method=\"MLE\")"
   ]
  },
  {
   "cell_type": "markdown",
   "id": "39acb5d1-1d56-400b-91b6-5ca1eb4befaa",
   "metadata": {},
   "source": [
    "The estimates obtaind from the `fit` method are called \"maximum likelyhood estimates\" (MLE) meaning the computer went over all the possible parametes for the group mean $\\mu$ and standard deviation $\\sigma$ and picked the parameters that are most likely to have generated the data.\n",
    "\n",
    "This is a thing now. Computers are fast enough to perform complicated search algorithms and solve optimization problems in just a few seconds to tell you the parameters $(\\mu, \\sigma)$ that best describe the data distribution from which the sample comes from."
   ]
  },
  {
   "cell_type": "code",
   "execution_count": 15,
   "id": "d092a013-0110-4d1e-ba41-c86d1e4e31fb",
   "metadata": {},
   "outputs": [
    {
     "data": {
      "text/plain": [
       "(1148.434936218507, 229.1205402181783)"
      ]
     },
     "execution_count": 15,
     "metadata": {},
     "output_type": "execute_result"
    }
   ],
   "source": [
    "# the method of moments (MM) is another general-purpse way to\n",
    "# compute estimates for the model parameters:\n",
    "#   obtain a formula for the first moment of the distribution (set to the sample mean)\n",
    "#   obtain a formula for the second moment around mean (set to value computed from sample variance)\n",
    "norm.fit(df[df['group']==\"S\"]['ELV'], method=\"MM\")"
   ]
  },
  {
   "cell_type": "code",
   "execution_count": 16,
   "id": "db7fa87a-a232-4e1e-9c4f-556cdec6b125",
   "metadata": {},
   "outputs": [],
   "source": [
    "# note there is a slight difference with the estimate obtained\n",
    "# using the .std() estimator above (difference due to 1/(n-1) vs. 1/n in formulas)"
   ]
  },
  {
   "cell_type": "code",
   "execution_count": null,
   "id": "8ce561cf-3c4b-495f-aee8-4452bec0feb1",
   "metadata": {},
   "outputs": [],
   "source": []
  },
  {
   "cell_type": "code",
   "execution_count": 17,
   "id": "391a7861-ee1f-48f4-b105-08738cc42bde",
   "metadata": {},
   "outputs": [
    {
     "data": {
      "text/plain": [
       "array([1297.43974545,  776.4092753 , 1207.47993271, 1203.30070962,\n",
       "       1127.58354289, 1464.32323209,  926.94024369, 1550.08237458,\n",
       "       1111.03279275, 1057.69226384, 1361.04704887, 1108.01035289,\n",
       "       1054.52971369, 1232.11105274,  623.05522436,  862.35998437,\n",
       "       1011.34327876, 1088.06134326, 1188.15991197, 1434.0066367 ,\n",
       "        843.81015587, 1716.60528989,  987.6377452 , 1094.02274609,\n",
       "       1225.66317751,  931.61218678, 1329.6763341 , 1293.02666292,\n",
       "       1240.43572131, 1105.58940635])"
      ]
     },
     "execution_count": 17,
     "metadata": {},
     "output_type": "execute_result"
    }
   ],
   "source": [
    "xS.values"
   ]
  },
  {
   "cell_type": "code",
   "execution_count": 18,
   "id": "eef73a64-bcc1-4f00-a611-b22047f188d3",
   "metadata": {},
   "outputs": [
    {
     "data": {
      "text/plain": [
       "<AxesSubplot:ylabel='Count'>"
      ]
     },
     "execution_count": 18,
     "metadata": {},
     "output_type": "execute_result"
    },
    {
     "data": {
      "image/png": "[encoded data removed]",
      "text/plain": [
       "<Figure size 432x288 with 1 Axes>"
      ]
     },
     "metadata": {
      "needs_background": "light"
     },
     "output_type": "display_data"
    }
   ],
   "source": [
    "xbarML, sML = norm.fit(df[df['group']==\"S\"]['ELV'])\n",
    "xAsim = norm(xbarML, sML)\n",
    "sns.histplot(xAsim.rvs(300))\n"
   ]
  },
  {
   "cell_type": "code",
   "execution_count": null,
   "id": "07accf6c-f5c9-4fb0-b282-03086d475006",
   "metadata": {},
   "outputs": [],
   "source": []
  },
  {
   "cell_type": "markdown",
   "id": "7055acdc-7d44-4559-8f6d-41ccb16bdfca",
   "metadata": {},
   "source": [
    "### Generate the LM data\n",
    "\n",
    "$$\n",
    "  \\texttt{ELV} = 1000 + 2.5 \\cdot \\texttt{hours}\n",
    "$$"
   ]
  },
  {
   "cell_type": "code",
   "execution_count": 19,
   "id": "cb1d9368-03ab-48c7-950c-15b10cf7cef8",
   "metadata": {},
   "outputs": [],
   "source": [
    "import numpy as np\n",
    "from scipy.stats import uniform, norm\n",
    "import statsmodels.api as sm\n",
    "import statsmodels.formula.api as smf\n"
   ]
  },
  {
   "cell_type": "code",
   "execution_count": 20,
   "id": "3d344e6c-f0b1-4abe-98e8-226aa3b6de53",
   "metadata": {},
   "outputs": [
    {
     "data": {
      "text/plain": [
       "array([1212.12481464, 1250.05149229, 1112.04144626, 1312.24415031,\n",
       "       1384.47772588, 1254.08450005, 1203.27273493, 1093.62618248,\n",
       "       1051.48650707, 1197.86596806, 1133.88090698, 1298.78467044,\n",
       "        934.52101193, 1118.34329042, 1154.94706391, 1346.38071911,\n",
       "       1042.01630456, 1188.49358566,  929.19568517, 1163.89043525,\n",
       "       1253.61901515, 1113.6548693 , 1278.74293845,  941.30318049,\n",
       "       1062.21406426,  978.45237538, 1254.42811762, 1158.79506307,\n",
       "       1272.67196778, 1038.74408388, 1174.99660956,  958.89949136,\n",
       "       1215.29762549])"
      ]
     },
     "execution_count": 20,
     "metadata": {},
     "output_type": "execute_result"
    }
   ],
   "source": [
    "# np.random.seed(seed=15)\n",
    "np.random.seed(seed=154)\n",
    "\n",
    "u100 = uniform(0, 100)\n",
    "x = u100.rvs(33)\n",
    "\n",
    "n300 = norm(0, 100)\n",
    "eps = n300.rvs(33)\n",
    "\n",
    "beta1 = 2.5\n",
    "\n",
    "y = 1000 + beta1*x + eps\n",
    "y"
   ]
  },
  {
   "cell_type": "code",
   "execution_count": 21,
   "id": "c20dd715-86a6-4ce6-b45d-7be80a62e6eb",
   "metadata": {},
   "outputs": [],
   "source": [
    "# # save generated data\n",
    "# df = pd.DataFrame({'hours': x, 'ELV': y})\n",
    "# with pd.ExcelWriter(\"data/ELV_vs_hours.ods\") as writer:\n",
    "#     df.to_excel(writer, sheet_name=\"Data\", index=None)"
   ]
  },
  {
   "cell_type": "code",
   "execution_count": 22,
   "id": "58be2c58-cc13-49f5-aa51-647b639956ce",
   "metadata": {},
   "outputs": [
    {
     "data": {
      "image/png": "[encoded data removed]",
      "text/plain": [
       "<Figure size 432x288 with 1 Axes>"
      ]
     },
     "metadata": {
      "needs_background": "light"
     },
     "output_type": "display_data"
    }
   ],
   "source": [
    "fig, ax = plt.subplots()\n",
    "ax = sns.scatterplot(x, y, ax=ax)"
   ]
  },
  {
   "cell_type": "code",
   "execution_count": 23,
   "id": "05ba7bc0-ca0c-4dd4-ba60-79ad73f3811d",
   "metadata": {},
   "outputs": [
    {
     "data": {
      "text/html": [
       "<table class=\"simpletable\">\n",
       "<caption>OLS Regression Results</caption>\n",
       "<tr>\n",
       "  <th>Dep. Variable:</th>            <td>y</td>        <th>  R-squared:         </th> <td>   0.362</td>\n",
       "</tr>\n",
       "<tr>\n",
       "  <th>Model:</th>                   <td>OLS</td>       <th>  Adj. R-squared:    </th> <td>   0.342</td>\n",
       "</tr>\n",
       "<tr>\n",
       "  <th>Method:</th>             <td>Least Squares</td>  <th>  F-statistic:       </th> <td>   17.61</td>\n",
       "</tr>\n",
       "<tr>\n",
       "  <th>Date:</th>             <td>Thu, 14 Oct 2021</td> <th>  Prob (F-statistic):</th> <td>0.000211</td>\n",
       "</tr>\n",
       "<tr>\n",
       "  <th>Time:</th>                 <td>12:35:29</td>     <th>  Log-Likelihood:    </th> <td> -197.71</td>\n",
       "</tr>\n",
       "<tr>\n",
       "  <th>No. Observations:</th>      <td>    33</td>      <th>  AIC:               </th> <td>   399.4</td>\n",
       "</tr>\n",
       "<tr>\n",
       "  <th>Df Residuals:</th>          <td>    31</td>      <th>  BIC:               </th> <td>   402.4</td>\n",
       "</tr>\n",
       "<tr>\n",
       "  <th>Df Model:</th>              <td>     1</td>      <th>                     </th>     <td> </td>   \n",
       "</tr>\n",
       "<tr>\n",
       "  <th>Covariance Type:</th>      <td>nonrobust</td>    <th>                     </th>     <td> </td>   \n",
       "</tr>\n",
       "</table>\n",
       "<table class=\"simpletable\">\n",
       "<tr>\n",
       "    <td></td>       <th>coef</th>     <th>std err</th>      <th>t</th>      <th>P>|t|</th>  <th>[0.025</th>    <th>0.975]</th>  \n",
       "</tr>\n",
       "<tr>\n",
       "  <th>const</th> <td> 1005.6018</td> <td>   39.417</td> <td>   25.512</td> <td> 0.000</td> <td>  925.210</td> <td> 1085.994</td>\n",
       "</tr>\n",
       "<tr>\n",
       "  <th>x1</th>    <td>    2.5688</td> <td>    0.612</td> <td>    4.196</td> <td> 0.000</td> <td>    1.320</td> <td>    3.817</td>\n",
       "</tr>\n",
       "</table>\n",
       "<table class=\"simpletable\">\n",
       "<tr>\n",
       "  <th>Omnibus:</th>       <td> 3.905</td> <th>  Durbin-Watson:     </th> <td>   2.131</td>\n",
       "</tr>\n",
       "<tr>\n",
       "  <th>Prob(Omnibus):</th> <td> 0.142</td> <th>  Jarque-Bera (JB):  </th> <td>   2.154</td>\n",
       "</tr>\n",
       "<tr>\n",
       "  <th>Skew:</th>          <td>-0.372</td> <th>  Prob(JB):          </th> <td>   0.341</td>\n",
       "</tr>\n",
       "<tr>\n",
       "  <th>Kurtosis:</th>      <td> 1.994</td> <th>  Cond. No.          </th> <td>    146.</td>\n",
       "</tr>\n",
       "</table><br/><br/>Notes:<br/>[1] Standard Errors assume that the covariance matrix of the errors is correctly specified."
      ],
      "text/plain": [
       "<class 'statsmodels.iolib.summary.Summary'>\n",
       "\"\"\"\n",
       "                            OLS Regression Results                            \n",
       "==============================================================================\n",
       "Dep. Variable:                      y   R-squared:                       0.362\n",
       "Model:                            OLS   Adj. R-squared:                  0.342\n",
       "Method:                 Least Squares   F-statistic:                     17.61\n",
       "Date:                Thu, 14 Oct 2021   Prob (F-statistic):           0.000211\n",
       "Time:                        12:35:29   Log-Likelihood:                -197.71\n",
       "No. Observations:                  33   AIC:                             399.4\n",
       "Df Residuals:                      31   BIC:                             402.4\n",
       "Df Model:                           1                                         \n",
       "Covariance Type:            nonrobust                                         \n",
       "==============================================================================\n",
       "                 coef    std err          t      P>|t|      [0.025      0.975]\n",
       "------------------------------------------------------------------------------\n",
       "const       1005.6018     39.417     25.512      0.000     925.210    1085.994\n",
       "x1             2.5688      0.612      4.196      0.000       1.320       3.817\n",
       "==============================================================================\n",
       "Omnibus:                        3.905   Durbin-Watson:                   2.131\n",
       "Prob(Omnibus):                  0.142   Jarque-Bera (JB):                2.154\n",
       "Skew:                          -0.372   Prob(JB):                        0.341\n",
       "Kurtosis:                       1.994   Cond. No.                         146.\n",
       "==============================================================================\n",
       "\n",
       "Notes:\n",
       "[1] Standard Errors assume that the covariance matrix of the errors is correctly specified.\n",
       "\"\"\""
      ]
     },
     "execution_count": 23,
     "metadata": {},
     "output_type": "execute_result"
    }
   ],
   "source": [
    "# Using statsmodels \n",
    "# see https://www.statsmodels.org/stable/generated/statsmodels.regression.linear_model.OLS.html\n",
    "X = sm.add_constant(x)\n",
    "mod = sm.OLS(y, X)\n",
    "res = mod.fit()\n",
    "res.summary()"
   ]
  },
  {
   "cell_type": "code",
   "execution_count": 24,
   "id": "5ca3aa35-24d3-4e09-b783-065845a5c94a",
   "metadata": {},
   "outputs": [],
   "source": [
    "# sm.graphics.plot_regress_exog(res, 1)"
   ]
  },
  {
   "cell_type": "code",
   "execution_count": 25,
   "id": "ca639336-3e4e-4724-917b-4bb620b1293e",
   "metadata": {},
   "outputs": [],
   "source": [
    "# sns.scatterplot(x, res.fittedvalues)"
   ]
  },
  {
   "cell_type": "code",
   "execution_count": 26,
   "id": "a1a706ce-4e2f-4757-8725-62b98da179b2",
   "metadata": {},
   "outputs": [
    {
     "data": {
      "text/plain": [
       "(1005.6017975815952, 2.568840400043655)"
      ]
     },
     "execution_count": 26,
     "metadata": {},
     "output_type": "execute_result"
    }
   ],
   "source": [
    "# extact the best-fit model parameters\n",
    "beta0, beta1 = res.params\n",
    "beta0, beta1"
   ]
  },
  {
   "cell_type": "code",
   "execution_count": 27,
   "id": "633f01ce-31b5-47cb-bb57-4ce8bb05993a",
   "metadata": {},
   "outputs": [
    {
     "data": {
      "image/png": "[encoded data removed]",
      "text/plain": [
       "<Figure size 432x288 with 1 Axes>"
      ]
     },
     "execution_count": 27,
     "metadata": {},
     "output_type": "execute_result"
    }
   ],
   "source": [
    "sns.lineplot(x, beta0+beta1*x, ax=ax, color=\"red\")\n",
    "fig"
   ]
  },
  {
   "cell_type": "code",
   "execution_count": null,
   "id": "08cf061b-2232-4714-b995-2952b92390c7",
   "metadata": {},
   "outputs": [],
   "source": []
  },
  {
   "cell_type": "code",
   "execution_count": null,
   "id": "2d2e2669-aaf6-408d-9cd3-620a18475caa",
   "metadata": {},
   "outputs": [],
   "source": []
  },
  {
   "cell_type": "code",
   "execution_count": 28,
   "id": "dbf2bcbc-1e88-4279-ac55-43891277e46e",
   "metadata": {},
   "outputs": [
    {
     "data": {
      "text/plain": [
       "((33, 2), (33,))"
      ]
     },
     "execution_count": 28,
     "metadata": {},
     "output_type": "execute_result"
    }
   ],
   "source": [
    "## Using LA\n",
    "col_of_ones = np.ones((len(x),1))\n",
    "X = np.concatenate([col_of_ones,x[:,np.newaxis]], axis=1)\n",
    "X.shape, y.shape"
   ]
  },
  {
   "cell_type": "markdown",
   "id": "49f6d1f3-4bc3-49e7-8841-bbd504129357",
   "metadata": {},
   "source": [
    "\n",
    "We obtain the least squares solution using the Moore–Penrose inverse formula:\n",
    "$$ \\Large\n",
    "    \\vec{\\beta} = (X^{\\sf T} X)^{-1}X^{\\sf T}\\; \\vec{y}\n",
    "$$"
   ]
  },
  {
   "cell_type": "code",
   "execution_count": 29,
   "id": "deecd632-b8f1-4238-8bc6-9c90c33a715c",
   "metadata": {},
   "outputs": [
    {
     "data": {
      "text/plain": [
       "array([1005.60179758,    2.5688404 ])"
      ]
     },
     "execution_count": 29,
     "metadata": {},
     "output_type": "execute_result"
    }
   ],
   "source": [
    "beta = np.linalg.inv(X.T.dot(X)).dot(X.T).dot(y)\n",
    "beta"
   ]
  },
  {
   "cell_type": "code",
   "execution_count": null,
   "id": "7998be96-f869-4a1a-bd86-20428bf2ce7b",
   "metadata": {},
   "outputs": [],
   "source": []
  },
  {
   "cell_type": "code",
   "execution_count": null,
   "id": "df4e0a19-adeb-46ed-8494-10a9a7106370",
   "metadata": {},
   "outputs": [],
   "source": []
  },
  {
   "cell_type": "code",
   "execution_count": 30,
   "id": "a75a6045-fdf5-43e5-9f18-708d5c4f2d73",
   "metadata": {},
   "outputs": [],
   "source": [
    "## Using statsmodels formula\n",
    "df = pd.DataFrame({'hours':x, 'ELV': y})\n",
    "mod2 = smf.ols('ELV ~ 1 + hours', data=df)\n",
    "res2 = mod2.fit()"
   ]
  },
  {
   "cell_type": "code",
   "execution_count": 31,
   "id": "8552ad00-0eb8-4fa9-8434-dcfefaa0d837",
   "metadata": {},
   "outputs": [
    {
     "data": {
      "text/html": [
       "<table class=\"simpletable\">\n",
       "<caption>OLS Regression Results</caption>\n",
       "<tr>\n",
       "  <th>Dep. Variable:</th>           <td>ELV</td>       <th>  R-squared:         </th> <td>   0.362</td>\n",
       "</tr>\n",
       "<tr>\n",
       "  <th>Model:</th>                   <td>OLS</td>       <th>  Adj. R-squared:    </th> <td>   0.342</td>\n",
       "</tr>\n",
       "<tr>\n",
       "  <th>Method:</th>             <td>Least Squares</td>  <th>  F-statistic:       </th> <td>   17.61</td>\n",
       "</tr>\n",
       "<tr>\n",
       "  <th>Date:</th>             <td>Thu, 14 Oct 2021</td> <th>  Prob (F-statistic):</th> <td>0.000211</td>\n",
       "</tr>\n",
       "<tr>\n",
       "  <th>Time:</th>                 <td>12:35:30</td>     <th>  Log-Likelihood:    </th> <td> -197.71</td>\n",
       "</tr>\n",
       "<tr>\n",
       "  <th>No. Observations:</th>      <td>    33</td>      <th>  AIC:               </th> <td>   399.4</td>\n",
       "</tr>\n",
       "<tr>\n",
       "  <th>Df Residuals:</th>          <td>    31</td>      <th>  BIC:               </th> <td>   402.4</td>\n",
       "</tr>\n",
       "<tr>\n",
       "  <th>Df Model:</th>              <td>     1</td>      <th>                     </th>     <td> </td>   \n",
       "</tr>\n",
       "<tr>\n",
       "  <th>Covariance Type:</th>      <td>nonrobust</td>    <th>                     </th>     <td> </td>   \n",
       "</tr>\n",
       "</table>\n",
       "<table class=\"simpletable\">\n",
       "<tr>\n",
       "      <td></td>         <th>coef</th>     <th>std err</th>      <th>t</th>      <th>P>|t|</th>  <th>[0.025</th>    <th>0.975]</th>  \n",
       "</tr>\n",
       "<tr>\n",
       "  <th>Intercept</th> <td> 1005.6018</td> <td>   39.417</td> <td>   25.512</td> <td> 0.000</td> <td>  925.210</td> <td> 1085.994</td>\n",
       "</tr>\n",
       "<tr>\n",
       "  <th>hours</th>     <td>    2.5688</td> <td>    0.612</td> <td>    4.196</td> <td> 0.000</td> <td>    1.320</td> <td>    3.817</td>\n",
       "</tr>\n",
       "</table>\n",
       "<table class=\"simpletable\">\n",
       "<tr>\n",
       "  <th>Omnibus:</th>       <td> 3.905</td> <th>  Durbin-Watson:     </th> <td>   2.131</td>\n",
       "</tr>\n",
       "<tr>\n",
       "  <th>Prob(Omnibus):</th> <td> 0.142</td> <th>  Jarque-Bera (JB):  </th> <td>   2.154</td>\n",
       "</tr>\n",
       "<tr>\n",
       "  <th>Skew:</th>          <td>-0.372</td> <th>  Prob(JB):          </th> <td>   0.341</td>\n",
       "</tr>\n",
       "<tr>\n",
       "  <th>Kurtosis:</th>      <td> 1.994</td> <th>  Cond. No.          </th> <td>    146.</td>\n",
       "</tr>\n",
       "</table><br/><br/>Notes:<br/>[1] Standard Errors assume that the covariance matrix of the errors is correctly specified."
      ],
      "text/plain": [
       "<class 'statsmodels.iolib.summary.Summary'>\n",
       "\"\"\"\n",
       "                            OLS Regression Results                            \n",
       "==============================================================================\n",
       "Dep. Variable:                    ELV   R-squared:                       0.362\n",
       "Model:                            OLS   Adj. R-squared:                  0.342\n",
       "Method:                 Least Squares   F-statistic:                     17.61\n",
       "Date:                Thu, 14 Oct 2021   Prob (F-statistic):           0.000211\n",
       "Time:                        12:35:30   Log-Likelihood:                -197.71\n",
       "No. Observations:                  33   AIC:                             399.4\n",
       "Df Residuals:                      31   BIC:                             402.4\n",
       "Df Model:                           1                                         \n",
       "Covariance Type:            nonrobust                                         \n",
       "==============================================================================\n",
       "                 coef    std err          t      P>|t|      [0.025      0.975]\n",
       "------------------------------------------------------------------------------\n",
       "Intercept   1005.6018     39.417     25.512      0.000     925.210    1085.994\n",
       "hours          2.5688      0.612      4.196      0.000       1.320       3.817\n",
       "==============================================================================\n",
       "Omnibus:                        3.905   Durbin-Watson:                   2.131\n",
       "Prob(Omnibus):                  0.142   Jarque-Bera (JB):                2.154\n",
       "Skew:                          -0.372   Prob(JB):                        0.341\n",
       "Kurtosis:                       1.994   Cond. No.                         146.\n",
       "==============================================================================\n",
       "\n",
       "Notes:\n",
       "[1] Standard Errors assume that the covariance matrix of the errors is correctly specified.\n",
       "\"\"\""
      ]
     },
     "execution_count": 31,
     "metadata": {},
     "output_type": "execute_result"
    }
   ],
   "source": [
    "res2.summary()"
   ]
  },
  {
   "cell_type": "code",
   "execution_count": null,
   "id": "c94c9756-29d0-4fa4-9b5e-786362f5ebcf",
   "metadata": {},
   "outputs": [],
   "source": []
  },
  {
   "cell_type": "code",
   "execution_count": 32,
   "id": "d5620a30-5a05-496f-bf33-63815ca049f2",
   "metadata": {},
   "outputs": [
    {
     "data": {
      "text/plain": [
       "(1005.601797581596, array([2.5688404]))"
      ]
     },
     "execution_count": 32,
     "metadata": {},
     "output_type": "execute_result"
    }
   ],
   "source": [
    "## Using scikit-learn\n",
    "# see https://scikit-learn.org/stable/modules/linear_model.html#ordinary-least-squares\n",
    "\n",
    "from sklearn import linear_model\n",
    "mod3 = linear_model.LinearRegression()\n",
    "mod3.fit(x[:,np.newaxis], y)\n",
    "mod3.intercept_, mod3.coef_"
   ]
  },
  {
   "cell_type": "code",
   "execution_count": 33,
   "id": "a9127d5f-b9be-4d24-88f4-f4b590b2d349",
   "metadata": {},
   "outputs": [
    {
     "name": "stdout",
     "output_type": "stream",
     "text": [
      "R-squared: 0.36\n"
     ]
    }
   ],
   "source": [
    "from sklearn.metrics import r2_score\n",
    "y_pred = mod3.predict(x[:,np.newaxis])\n",
    "\n",
    "# The coefficient of determination: 1 is perfect prediction\n",
    "R2 = r2_score(y, y_pred)\n",
    "print('R-squared: %.2f' % R2)\n"
   ]
  },
  {
   "cell_type": "code",
   "execution_count": null,
   "id": "d2d22bde-0672-4142-822f-9e5b3f349817",
   "metadata": {},
   "outputs": [],
   "source": []
  },
  {
   "cell_type": "code",
   "execution_count": null,
   "id": "be24e592-452b-4b8f-b8cd-88f0df9fdf3d",
   "metadata": {},
   "outputs": [],
   "source": []
  },
  {
   "cell_type": "code",
   "execution_count": 34,
   "id": "3d234edd-0a89-4c0c-84f1-3a8ee0e6bab1",
   "metadata": {},
   "outputs": [
    {
     "data": {
      "text/plain": [
       "(1005.601797581596, 2.568840400043651)"
      ]
     },
     "execution_count": 34,
     "metadata": {},
     "output_type": "execute_result"
    }
   ],
   "source": [
    "## Using SciPy linregress\n",
    "# see https://docs.scipy.org/doc/scipy/reference/generated/scipy.stats.linregress.html\n",
    "from scipy.stats import linregress\n",
    "res4 = linregress(x, y)\n",
    "res4.intercept, res4.slope"
   ]
  },
  {
   "cell_type": "code",
   "execution_count": 35,
   "id": "0d3ec213-a749-403d-a3f7-953f91229e76",
   "metadata": {},
   "outputs": [
    {
     "name": "stdout",
     "output_type": "stream",
     "text": [
      "R-squared: 0.36\n"
     ]
    }
   ],
   "source": [
    "print('R-squared: %.2f' % res4.rvalue**2)"
   ]
  },
  {
   "cell_type": "code",
   "execution_count": 36,
   "id": "79273e84-09e8-4463-952b-8dfcb4e5304f",
   "metadata": {},
   "outputs": [
    {
     "name": "stdout",
     "output_type": "stream",
     "text": [
      "slope (95% CI): [1.320206, 3.817475]\n"
     ]
    }
   ],
   "source": [
    "# Two-sided inverse Students t-distribution\n",
    "# p - probability, df - degrees of freedom\n",
    "from scipy.stats import t\n",
    "tinv = lambda p, df: abs(t.ppf(p/2, df))\n",
    "ts = tinv(0.05, len(x)-2)\n",
    "\n",
    "CI_lower = res4.slope - ts*res4.stderr\n",
    "CI_upper = res4.slope + ts*res4.stderr\n",
    "print(f\"slope (95% CI): [{CI_lower:.6f}, {CI_upper:.6f}]\")"
   ]
  },
  {
   "cell_type": "code",
   "execution_count": null,
   "id": "d8481f8d-60e6-44fc-ab51-777894e00bb8",
   "metadata": {},
   "outputs": [],
   "source": []
  },
  {
   "cell_type": "code",
   "execution_count": null,
   "id": "f06e1bd8-d3d6-4eeb-b8ac-51d2a3e7623f",
   "metadata": {},
   "outputs": [],
   "source": []
  },
  {
   "cell_type": "code",
   "execution_count": 44,
   "id": "600b8e59-56ca-4741-86e4-e89c13f788b3",
   "metadata": {},
   "outputs": [
    {
     "data": {
      "text/plain": [
       "(1005.6019536090911, 2.568838173959329)"
      ]
     },
     "execution_count": 44,
     "metadata": {},
     "output_type": "execute_result"
    }
   ],
   "source": [
    "## Using SciPy optimize\n",
    "from scipy.optimize import minimize\n",
    "\n",
    "def sse(beta, x=x, y=y):\n",
    "    sumse = 0.0\n",
    "    for xi, yi in zip(x, y):\n",
    "        yi_pred = beta[0] + beta[1]*xi\n",
    "        ei = (yi_pred-yi)**2\n",
    "        sumse += ei\n",
    "    return sumse\n",
    "\n",
    "res5 = minimize(sse, x0=[100,100])\n",
    "beta0, beta1 = res5.x\n",
    "beta0, beta1"
   ]
  },
  {
   "cell_type": "code",
   "execution_count": null,
   "id": "c4c3ab40-ea0c-4ae8-99ac-b57865218239",
   "metadata": {},
   "outputs": [],
   "source": []
  },
  {
   "cell_type": "code",
   "execution_count": null,
   "id": "a9bff3a0-3a67-4a57-a6ab-03c7a145d5ad",
   "metadata": {},
   "outputs": [],
   "source": []
  }
 ],
 "metadata": {
  "kernelspec": {
   "display_name": "Python 3 (ipykernel)",
   "language": "python",
   "name": "python3"
  },
  "language_info": {
   "codemirror_mode": {
    "name": "ipython",
    "version": 3
   },
   "file_extension": ".py",
   "mimetype": "text/x-python",
   "name": "python",
   "nbconvert_exporter": "python",
   "pygments_lexer": "ipython3",
   "version": "3.9.4"
  }
 },
 "nbformat": 4,
 "nbformat_minor": 5
}
