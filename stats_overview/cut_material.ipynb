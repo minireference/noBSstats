{
 "cells": [
  {
   "cell_type": "code",
   "execution_count": 1,
   "id": "6877a525-d740-4594-9975-2ffa26fed9a0",
   "metadata": {},
   "outputs": [],
   "source": [
    "from scipy.stats import ttest_ind\n",
    "# loading Python modules\n",
    "import numpy as np\n",
    "import pandas as pd\n",
    "import seaborn as sns\n",
    "\n",
    "%matplotlib inline\n",
    "import matplotlib.pyplot as plt\n",
    "\n",
    "# silence please; developers at work\n",
    "import warnings\n",
    "warnings.filterwarnings('ignore')"
   ]
  },
  {
   "cell_type": "code",
   "execution_count": null,
   "id": "0da3f291-a36f-40af-b646-a6921fea45df",
   "metadata": {},
   "outputs": [],
   "source": []
  },
  {
   "cell_type": "code",
   "execution_count": null,
   "id": "051f1bbb-691b-4e9d-8f0e-7d5476909d06",
   "metadata": {},
   "outputs": [],
   "source": []
  },
  {
   "cell_type": "code",
   "execution_count": null,
   "id": "76ac1cc1-774a-4c08-afdb-eb81f1daa33c",
   "metadata": {},
   "outputs": [],
   "source": [
    "# append question mark ? to any method to get a jupyter popup of help\n",
    "# sns.displot?"
   ]
  },
  {
   "cell_type": "code",
   "execution_count": null,
   "id": "e3fc70b1-9282-499e-b387-21a68893998c",
   "metadata": {},
   "outputs": [],
   "source": [
    "xNS.mean(), xS.mean()"
   ]
  },
  {
   "cell_type": "code",
   "execution_count": null,
   "id": "1d5c885a-85d1-4cfd-bf4c-caf202351008",
   "metadata": {},
   "outputs": [],
   "source": [
    "def cohend(d1, d2):\n",
    "    \"\"\"Calculate Cohen's d for independent samples\"\"\"\n",
    "    n1, n2 = len(d1), len(d2)\n",
    "    mu1, mu2 = np.mean(d1), np.mean(d2)\n",
    "    var1, var2 = np.var(d1, ddof=1), np.var(d2, ddof=1)\n",
    "    # calculate the pooled standard deviation\n",
    "    s_pooled = np.sqrt(((n1 - 1) * var1 + (n2 - 1) * var2) / (n1 + n2 - 2))\n",
    "    # return the effect size\n",
    "    return (mu1 - mu2) / s_pooled\n",
    "\n",
    "cohend(xS.values, xNS.values)"
   ]
  },
  {
   "cell_type": "code",
   "execution_count": null,
   "id": "f6efe5a7-b932-4d4a-9fa1-7da187c6172c",
   "metadata": {},
   "outputs": [],
   "source": [
    "# sns.histplot([xA,xB], colors=['r', 'b'])\n",
    "sns.histplot(data=df, x=\"ELV\", hue=\"group\", bins=10, kde=True, alpha=0.3)\n",
    "# sns.displot(data=df, x=\"ELV\", hue=\"group\", bins=10, kde=True)"
   ]
  },
  {
   "cell_type": "code",
   "execution_count": null,
   "id": "fa6006b9-23e9-4006-a5e1-5129df0fa634",
   "metadata": {},
   "outputs": [],
   "source": []
  },
  {
   "cell_type": "code",
   "execution_count": null,
   "id": "676f29f2-39b4-4a3b-8943-231a79f16d08",
   "metadata": {},
   "outputs": [],
   "source": [
    "# xA.hist(alpha=0.3)\n",
    "# xB.hist(alpha=0.3)"
   ]
  },
  {
   "cell_type": "code",
   "execution_count": null,
   "id": "0a64073f-aebc-44a6-9519-075dd040cf71",
   "metadata": {},
   "outputs": [],
   "source": [
    "# xA['ELV']"
   ]
  },
  {
   "cell_type": "code",
   "execution_count": null,
   "id": "943e8ee8-4eed-486e-8211-f7fd269c00c0",
   "metadata": {},
   "outputs": [],
   "source": [
    "# sample mean and standard deviation are approximations of the population mean and std\n",
    "meanA = df[df['group']==\"A\"]['ELV'].mean()\n",
    "stdA = df[df['group']==\"A\"]['ELV'].std(ddof=0)\n",
    "print(\"The sample mean and sample standard deviation for Group A are:\")\n",
    "meanA, stdA"
   ]
  },
  {
   "cell_type": "code",
   "execution_count": null,
   "id": "38620111-2158-4e0c-86cc-023be9ae44ab",
   "metadata": {},
   "outputs": [],
   "source": []
  },
  {
   "cell_type": "code",
   "execution_count": null,
   "id": "80c036a9-04a1-457b-8b49-112e4a86e7c2",
   "metadata": {},
   "outputs": [],
   "source": [
    "meanB = df[df['group']==\"B\"]['ELV'].mean()\n",
    "stdB = df[df['group']==\"B\"]['ELV'].std()\n",
    "print(\"The sample mean and sample standard deviation for Group B are:\")\n",
    "meanB, stdB"
   ]
  },
  {
   "cell_type": "code",
   "execution_count": null,
   "id": "2a3c2b60-c3fc-478b-a02b-cd80eaeb9f71",
   "metadata": {},
   "outputs": [],
   "source": [
    "# another way to get an estimate of the population parameters is to\n",
    "# use the `fit` method on a probability distribution model:\n",
    "from scipy.stats.distributions import norm"
   ]
  },
  {
   "cell_type": "code",
   "execution_count": null,
   "id": "8514c3a0-aa28-4ec2-90b5-88315ae34ecc",
   "metadata": {},
   "outputs": [],
   "source": [
    "# fit a normal distribution for Group A\n",
    "norm.fit(df[df['group']==\"A\"]['ELV'], method=\"MLE\")"
   ]
  },
  {
   "cell_type": "code",
   "execution_count": null,
   "id": "486e88f9-efcf-438b-b4a6-36ec673e6a56",
   "metadata": {},
   "outputs": [],
   "source": [
    "# fit a normal distribution for Group B\n",
    "norm.fit(df[df['group']==\"B\"]['ELV'], method=\"MLE\")"
   ]
  },
  {
   "cell_type": "markdown",
   "id": "39acb5d1-1d56-400b-91b6-5ca1eb4befaa",
   "metadata": {},
   "source": [
    "The estimates obtaind from the `fit` method are called \"maximum likelyhood estimates\" (MLE) meaning the computer went over all the possible parametes for the group mean $\\mu$ and standard deviation $\\sigma$ and picked the parameters that are most likely to have generated the data.\n",
    "\n",
    "This is a thing now. Computers are fast enough to perform complicated search algorithms and solve optimization problems in just a few seconds to tell you the parameters $(\\mu, \\sigma)$ that best describe the data distribution from which the sample comes from."
   ]
  },
  {
   "cell_type": "code",
   "execution_count": null,
   "id": "d092a013-0110-4d1e-ba41-c86d1e4e31fb",
   "metadata": {},
   "outputs": [],
   "source": [
    "# the method of moments (MM) is another general-purpse way to\n",
    "# compute estimates for the model parameters:\n",
    "#   obtain a formula for the first moment of the distribution (set to the sample mean)\n",
    "#   obtain a formula for the second moment around mean (set to value computed from sample variance)\n",
    "norm.fit(df[df['group']==\"S\"]['ELV'], method=\"MM\")"
   ]
  },
  {
   "cell_type": "code",
   "execution_count": null,
   "id": "db7fa87a-a232-4e1e-9c4f-556cdec6b125",
   "metadata": {},
   "outputs": [],
   "source": [
    "# note there is a slight difference with the estimate obtained\n",
    "# using the .std() estimator above (difference due to 1/(n-1) vs. 1/n in formulas)"
   ]
  },
  {
   "cell_type": "code",
   "execution_count": null,
   "id": "8ce561cf-3c4b-495f-aee8-4452bec0feb1",
   "metadata": {},
   "outputs": [],
   "source": []
  },
  {
   "cell_type": "code",
   "execution_count": null,
   "id": "391a7861-ee1f-48f4-b105-08738cc42bde",
   "metadata": {},
   "outputs": [],
   "source": [
    "xS.values"
   ]
  },
  {
   "cell_type": "code",
   "execution_count": null,
   "id": "eef73a64-bcc1-4f00-a611-b22047f188d3",
   "metadata": {},
   "outputs": [],
   "source": [
    "xbarML, sML = norm.fit(df[df['group']==\"S\"]['ELV'])\n",
    "xAsim = norm(xbarML, sML)\n",
    "sns.histplot(xAsim.rvs(300))\n"
   ]
  },
  {
   "cell_type": "code",
   "execution_count": null,
   "id": "07accf6c-f5c9-4fb0-b282-03086d475006",
   "metadata": {},
   "outputs": [],
   "source": []
  },
  {
   "cell_type": "markdown",
   "id": "7055acdc-7d44-4559-8f6d-41ccb16bdfca",
   "metadata": {},
   "source": [
    "### Generate the LM data\n",
    "\n",
    "$$\n",
    "  \\texttt{ELV} = 1000 + 2.5 \\cdot \\texttt{hours}\n",
    "$$"
   ]
  },
  {
   "cell_type": "code",
   "execution_count": null,
   "id": "cb1d9368-03ab-48c7-950c-15b10cf7cef8",
   "metadata": {},
   "outputs": [],
   "source": [
    "import numpy as np\n",
    "from scipy.stats import uniform, norm\n",
    "import statsmodels.api as sm\n",
    "import statsmodels.formula.api as smf\n"
   ]
  },
  {
   "cell_type": "code",
   "execution_count": null,
   "id": "3d344e6c-f0b1-4abe-98e8-226aa3b6de53",
   "metadata": {},
   "outputs": [],
   "source": [
    "# np.random.seed(seed=15)\n",
    "np.random.seed(seed=154)\n",
    "\n",
    "u100 = uniform(0, 100)\n",
    "x = u100.rvs(33)\n",
    "\n",
    "n300 = norm(0, 100)\n",
    "eps = n300.rvs(33)\n",
    "\n",
    "beta1 = 2.5\n",
    "\n",
    "y = 1000 + beta1*x + eps\n",
    "y"
   ]
  },
  {
   "cell_type": "code",
   "execution_count": null,
   "id": "c20dd715-86a6-4ce6-b45d-7be80a62e6eb",
   "metadata": {},
   "outputs": [],
   "source": [
    "# # save generated data\n",
    "# df = pd.DataFrame({'hours': x, 'ELV': y})\n",
    "# with pd.ExcelWriter(\"data/ELV_vs_hours.ods\") as writer:\n",
    "#     df.to_excel(writer, sheet_name=\"Data\", index=None)"
   ]
  },
  {
   "cell_type": "code",
   "execution_count": null,
   "id": "58be2c58-cc13-49f5-aa51-647b639956ce",
   "metadata": {},
   "outputs": [],
   "source": [
    "fig, ax = plt.subplots()\n",
    "ax = sns.scatterplot(x, y, ax=ax)"
   ]
  },
  {
   "cell_type": "code",
   "execution_count": null,
   "id": "05ba7bc0-ca0c-4dd4-ba60-79ad73f3811d",
   "metadata": {},
   "outputs": [],
   "source": []
  },
  {
   "cell_type": "code",
   "execution_count": null,
   "id": "46a3505a-6639-4e4e-8195-91dfc3d8cdb5",
   "metadata": {},
   "outputs": [],
   "source": []
  },
  {
   "cell_type": "code",
   "execution_count": null,
   "id": "5ca3aa35-24d3-4e09-b783-065845a5c94a",
   "metadata": {},
   "outputs": [],
   "source": [
    "# sm.graphics.plot_regress_exog(res, 1)"
   ]
  },
  {
   "cell_type": "code",
   "execution_count": null,
   "id": "ca639336-3e4e-4724-917b-4bb620b1293e",
   "metadata": {},
   "outputs": [],
   "source": [
    "# sns.scatterplot(x, res.fittedvalues)"
   ]
  },
  {
   "cell_type": "code",
   "execution_count": null,
   "id": "a1a706ce-4e2f-4757-8725-62b98da179b2",
   "metadata": {},
   "outputs": [],
   "source": []
  },
  {
   "cell_type": "code",
   "execution_count": null,
   "id": "633f01ce-31b5-47cb-bb57-4ce8bb05993a",
   "metadata": {},
   "outputs": [],
   "source": [
    "sns.lineplot(x, beta0+beta1*x, ax=ax, color=\"red\")\n",
    "fig"
   ]
  },
  {
   "cell_type": "code",
   "execution_count": null,
   "id": "08cf061b-2232-4714-b995-2952b92390c7",
   "metadata": {},
   "outputs": [],
   "source": [
    "def dmeans(data, valuescol=\"values\", groupcol=\"group\", groups=[\"A\", \"B\"]):\n",
    "    groupA, groupB = groups\n",
    "    xbarA = data[data[groupcol]==groupA][valuescol].mean()\n",
    "    # print(\"The average value in\", groupA, \"is\", xbarA)\n",
    "    xbarB = data[data[groupcol]==groupB][valuescol].mean()\n",
    "    # print(\"The average value in\", groupB, \"is\", xbarB)\n",
    "    d = xbarA - xbarB\n",
    "    return d\n"
   ]
  },
  {
   "cell_type": "code",
   "execution_count": 9,
   "id": "c4c3ab40-ea0c-4ae8-99ac-b57865218239",
   "metadata": {},
   "outputs": [
    {
     "name": "stdout",
     "output_type": "stream",
     "text": [
      "hh foo\n",
      "zz bar\n"
     ]
    }
   ],
   "source": [
    "from functools import partial\n",
    "\n",
    "def dmeans(x, col=\"var\"):\n",
    "    print(x, col)\n",
    "\n",
    "d = partial(dmeans, col=\"foo\")\n",
    "d(\"hh\")\n",
    "\n",
    "d2 = partial(dmeans, \"zz\", col=\"bar\")\n",
    "d2()"
   ]
  },
  {
   "cell_type": "code",
   "execution_count": null,
   "id": "1f264e3b-b363-419d-a405-542c19df50d2",
   "metadata": {},
   "outputs": [],
   "source": []
  },
  {
   "cell_type": "code",
   "execution_count": null,
   "id": "a9bff3a0-3a67-4a57-a6ab-03c7a145d5ad",
   "metadata": {},
   "outputs": [],
   "source": [
    "import scipy as sp\n",
    "from scipy.stats.distributions import norm\n",
    "\n",
    "def plot_rv(rv, label=None, xlabel=None, ax=None, title=None):\n",
    "    \"\"\"\n",
    "    Plot a SciPy distribution (a `rv_frozen` object).\n",
    "    \"\"\"\n",
    "    assert isinstance(rv, sp.stats._distn_infrastructure.rv_frozen), \\\n",
    "        'this function assumes plotting a rv_forzen random variable'\n",
    "    size = 10000\n",
    "    x = np.linspace(rv.ppf(0.001), rv.ppf(0.999), size)\n",
    "    y = rv.pdf(x)\n",
    "\n",
    "    if ax is None:\n",
    "        fig, ax = plt.subplots()\n",
    "    sns.lineplot(x, y, ax=ax, label=label)\n",
    "    \n",
    "    ax.set_title(title)\n",
    "    ax.set_xlim(x.min(), x.max())\n",
    "    ax.set_xlabel(xlabel)\n",
    "    ax.tick_params(axis='both', labelsize=9)\n",
    "    ax.spines['top'].set_visible(False)\n",
    "    ax.spines['right'].set_visible(False)\n",
    "    \n",
    "    # return ax in case want to plot more\n",
    "    return ax\n",
    "\n",
    "rvNS = norm(loc=1000, scale=300)\n",
    "\n",
    "plot_rv(rvNS,\n",
    "        xlabel=\"ELV\",\n",
    "        label=\"NS\",\n",
    "        title='Normal distributino $\\mathcal{N}(1000,100)$')\n"
   ]
  },
  {
   "cell_type": "code",
   "execution_count": null,
   "id": "46d70e87-8d45-4e07-b6a2-69175ee3744f",
   "metadata": {},
   "outputs": [],
   "source": [
    "size = 10000\n",
    "\n",
    "Delta = 200\n",
    "rvNS = norm(loc=1000, scale=300)\n",
    "rvS = norm(loc=1000+Delta, scale=300)\n",
    "\n",
    "x = np.linspace(rvNS.ppf(0.001), rvS.ppf(0.999), size)\n",
    "yNS = rvNS.pdf(x)\n",
    "yS = rvS.pdf(x)\n",
    "\n",
    "fig, ax = plt.subplots()\n",
    "sns.lineplot(x, yNS, ax=ax, label=\"NS\") #  color='black', alpha=0.5)\n",
    "sns.lineplot(x, yS, ax=ax, label=\"S\")\n",
    "ax.set_title('Normal distributions...')\n",
    "# ax.set_title(ax.get_title(), pad=25)\n",
    "ax.set_xlim(x.min(), x.max())\n",
    "ax.set_xlabel('ELV', fontsize=8, labelpad=10)\n",
    "ax.tick_params(axis='both', labelsize=9)\n",
    "ax.spines['top'].set_visible(False)\n",
    "ax.spines['right'].set_visible(False)\n"
   ]
  },
  {
   "cell_type": "code",
   "execution_count": null,
   "id": "bc2a9dc0-f2d8-498c-9f99-92cb8c934ab0",
   "metadata": {},
   "outputs": [],
   "source": []
  }
 ],
 "metadata": {
  "kernelspec": {
   "display_name": "Python 3 (ipykernel)",
   "language": "python",
   "name": "python3"
  },
  "language_info": {
   "codemirror_mode": {
    "name": "ipython",
    "version": 3
   },
   "file_extension": ".py",
   "mimetype": "text/x-python",
   "name": "python",
   "nbconvert_exporter": "python",
   "pygments_lexer": "ipython3",
   "version": "3.9.4"
  }
 },
 "nbformat": 4,
 "nbformat_minor": 5
}
