{
 "cells": [
  {
   "cell_type": "markdown",
   "id": "f5050b6f-b5e9-4c7e-bce9-297f9d6cc1b8",
   "metadata": {},
   "source": [
    "# Python libraries for doing statistics\n",
    "\n",
    "see draft here: https://docs.google.com/document/d/1a-Ohl3hs7w8AiOr85PxW0DZP1ofFK02sk55IEw0zQPE/edit?tab=t.0\n",
    "\n",
    "\n",
    "Click [here](https://mybinder.org/v2/gh/minireference/noBSstats/HEAD?urlpath=%2Fdoc%2Ftree%2Fblogposts%2Fstats_procedures.ipynb)\n",
    "to run the notebook interactively,\n",
    "so you can play with the code examples."
   ]
  },
  {
   "cell_type": "markdown",
   "id": "c8caefd0-df8c-4757-be6e-844d6961a84d",
   "metadata": {
    "tags": []
   },
   "source": [
    "### Notebook setup"
   ]
  },
  {
   "cell_type": "code",
   "execution_count": 1,
   "id": "fee7a1de-830b-4e63-8a15-526bd95f30e9",
   "metadata": {},
   "outputs": [
    {
     "name": "stdout",
     "output_type": "stream",
     "text": [
      "\n",
      "\u001b[1m[\u001b[0m\u001b[34;49mnotice\u001b[0m\u001b[1;39;49m]\u001b[0m\u001b[39;49m A new release of pip is available: \u001b[0m\u001b[31;49m25.2\u001b[0m\u001b[39;49m -> \u001b[0m\u001b[32;49m25.3\u001b[0m\n",
      "\u001b[1m[\u001b[0m\u001b[34;49mnotice\u001b[0m\u001b[1;39;49m]\u001b[0m\u001b[39;49m To update, run: \u001b[0m\u001b[32;49mpip install --upgrade pip\u001b[0m\n",
      "Note: you may need to restart the kernel to use updated packages.\n"
     ]
    }
   ],
   "source": [
    "# Install stats library\n",
    "%pip install --quiet ministats "
   ]
  },
  {
   "cell_type": "code",
   "execution_count": 2,
   "id": "ad1db701-1cda-4156-b360-9a5ea8cd389d",
   "metadata": {},
   "outputs": [
    {
     "data": {
      "text/plain": [
       "<Figure size 640x480 with 0 Axes>"
      ]
     },
     "metadata": {},
     "output_type": "display_data"
    }
   ],
   "source": [
    "# Figures setup\n",
    "import matplotlib.pyplot as plt\n",
    "import seaborn as sns\n",
    "\n",
    "plt.clf()  # needed otherwise `sns.set_theme` doesn't work\n",
    "sns.set_theme(\n",
    "    style=\"whitegrid\",\n",
    "    rc={'figure.figsize': (7, 2)},\n",
    ")\n",
    "# High-resolution figures please\n",
    "%config InlineBackend.figure_format = 'retina'\n",
    "\n",
    "def savefig(fig, filename):\n",
    "    fig.tight_layout()\n",
    "    fig.savefig(filename, dpi=300, bbox_inches=\"tight\", pad_inches=0)"
   ]
  },
  {
   "cell_type": "markdown",
   "id": "27a16fef-02c1-407c-abd4-bd5da286b9a3",
   "metadata": {},
   "source": [
    "## Introduction"
   ]
  },
  {
   "cell_type": "markdown",
   "id": "289ac8b9-c7e6-472f-b83f-5dc0908c8542",
   "metadata": {},
   "source": [
    "### IQ scores sample"
   ]
  },
  {
   "cell_type": "markdown",
   "id": "0b682be4-0718-4720-8a22-e1bf43e8f2b8",
   "metadata": {},
   "source": [
    "Consider the following dataset,\n",
    "which consists of IQ scores of 30 students who took a \"smart drug\" ☕.\n",
    "The IQ scores are recorded in the following list."
   ]
  },
  {
   "cell_type": "code",
   "execution_count": 3,
   "id": "ff133e3d-8ca2-4a45-8bf7-0df99b3ae170",
   "metadata": {},
   "outputs": [],
   "source": [
    "iqs = [ 95.7, 100.1,  95.3, 100.7, 123.5, 119.4,  84.4, 109.6,\n",
    "       108.7,  84.7, 111.0,  92.1, 138.4, 105.2,  97.5, 115.9,\n",
    "       104.4, 105.6, 104.8, 110.8,  93.8, 106.6,  71.3, 130.6,\n",
    "       125.7, 130.2, 101.2, 109.0, 103.8,  96.7]"
   ]
  },
  {
   "cell_type": "code",
   "execution_count": 4,
   "id": "1984bc59-319a-4291-8bfd-e89cb3e8e958",
   "metadata": {},
   "outputs": [],
   "source": [
    "# data\n",
    "\n",
    "treated = [92.69, 117.15, 124.79, 100.57, 104.27, 121.56, 104.18,\n",
    "           122.43, 98.85, 104.26, 118.56, 138.98, 101.33, 118.57, \n",
    "           123.37, 105.9, 121.75, 123.26, 118.58, 80.03, 121.15, \n",
    "           122.06, 112.31, 108.67, 75.44, 110.27, 115.25, 125.57,\n",
    "           114.57, 98.09, 91.15, 112.52, 100.12, 115.2, 95.32, \n",
    "           121.37, 100.09, 113.8, 101.73, 124.9, 87.83, 106.22, \n",
    "           99.97, 107.51, 83.99, 98.03, 71.91, 109.99, 90.83, 105.48]\n",
    "\n",
    "controls = [85.1, 84.05, 90.43, 115.92, 97.64, 116.41, 68.88, 110.51, \n",
    "            125.12, 94.04, 134.86, 85.0, 91.61, 69.95, 94.51, 81.16, \n",
    "            130.61, 108.93, 123.38, 127.69, 83.36, 76.97, 124.87, 86.36, \n",
    "            105.71, 93.01, 101.58, 93.58, 106.51, 91.67, 112.93, 88.74, \n",
    "            114.05, 80.32, 92.91, 85.34, 104.01, 91.47, 109.2, 104.04, \n",
    "            86.1, 91.52, 98.5, 94.62, 101.27, 107.41, 100.68, 114.94, \n",
    "            88.8, 121.8]\n"
   ]
  },
  {
   "cell_type": "markdown",
   "id": "5a65a310-4bd4-4921-bd91-8c587f022edd",
   "metadata": {},
   "source": [
    "## Statistics procedures as readable code (ministats)"
   ]
  },
  {
   "cell_type": "markdown",
   "id": "469e3e38-8aa7-4db7-b2c0-d297f9267738",
   "metadata": {},
   "source": [
    "### Generating sampling distributions"
   ]
  },
  {
   "cell_type": "code",
   "execution_count": 5,
   "id": "a5d16f77-de61-41b3-b7be-3676490a1761",
   "metadata": {},
   "outputs": [
    {
     "data": {
      "text/plain": [
       "\u001b[38;5;28;01mdef\u001b[39;00m gen_sampling_dist(rv, estfunc, n, N=\u001b[32m10000\u001b[39m):\n",
       "    \u001b[33m\"\"\"\u001b[39m\n",
       "\u001b[33m    Simulate `N` samples of size `n` from the random variable `rv`\u001b[39m\n",
       "\u001b[33m    to generate the sampling distribution of the estimator `estfunc`.\u001b[39m\n",
       "\u001b[33m    \"\"\"\u001b[39m\n",
       "    estimates = []\n",
       "    \u001b[38;5;28;01mfor\u001b[39;00m j \u001b[38;5;28;01min\u001b[39;00m range(N):\n",
       "        sample = rv.rvs(n)\n",
       "        estimate = estfunc(sample)\n",
       "        estimates.append(estimate)\n",
       "    \u001b[38;5;28;01mreturn\u001b[39;00m estimates\n"
      ]
     },
     "metadata": {},
     "output_type": "display_data"
    }
   ],
   "source": [
    "from ministats import gen_sampling_dist\n",
    "\n",
    "%psource gen_sampling_dist"
   ]
  },
  {
   "cell_type": "markdown",
   "id": "187859d1-146b-47a3-b41d-3573b47a4f6f",
   "metadata": {},
   "source": [
    "### One-sample t-test for the mean"
   ]
  },
  {
   "cell_type": "code",
   "execution_count": 6,
   "id": "5e4ee9c7-d4d8-4e4e-b8dd-e78d684faefc",
   "metadata": {},
   "outputs": [
    {
     "data": {
      "text/plain": [
       "\u001b[38;5;28;01mdef\u001b[39;00m ttest_mean(sample, mu0, alt=\u001b[33m\"two-sided\"\u001b[39m):\n",
       "    \u001b[33m\"\"\"\u001b[39m\n",
       "\u001b[33m    T-test to detect mean deviation from a population with known mean `mu0`.\u001b[39m\n",
       "\u001b[33m    \"\"\"\u001b[39m\n",
       "    \u001b[38;5;28;01massert\u001b[39;00m alt \u001b[38;5;28;01min\u001b[39;00m [\u001b[33m\"greater\"\u001b[39m, \u001b[33m\"less\"\u001b[39m, \u001b[33m\"two-sided\"\u001b[39m]\n",
       "    obsmean = np.mean(sample)\n",
       "    n = len(sample)\n",
       "    std = np.std(sample, ddof=\u001b[32m1\u001b[39m)\n",
       "    sehat = std / np.sqrt(n)\n",
       "    obst = (obsmean - mu0) / sehat\n",
       "    rvT = tdist(df=n-\u001b[32m1\u001b[39m)\n",
       "    pvalue = tailprobs(rvT, obst, alt=alt)\n",
       "    \u001b[38;5;28;01mreturn\u001b[39;00m pvalue\n"
      ]
     },
     "metadata": {},
     "output_type": "display_data"
    }
   ],
   "source": [
    "from ministats import ttest_mean\n",
    "%psource ttest_mean"
   ]
  },
  {
   "cell_type": "code",
   "execution_count": 7,
   "id": "2f9de151-7b27-4fee-8953-67a6be7e179c",
   "metadata": {},
   "outputs": [
    {
     "data": {
      "text/plain": [
       "np.float64(0.01792942680682752)"
      ]
     },
     "execution_count": 7,
     "metadata": {},
     "output_type": "execute_result"
    }
   ],
   "source": [
    "ttest_mean(iqs, mu0=100, alt=\"greater\")"
   ]
  },
  {
   "cell_type": "markdown",
   "id": "a412948b-486c-474d-866d-e8f37bf77574",
   "metadata": {},
   "source": [
    "### Generating bootstrap distributions"
   ]
  },
  {
   "cell_type": "code",
   "execution_count": 8,
   "id": "3d6a5bf0-1e61-4fe4-9111-45c7401a86b1",
   "metadata": {},
   "outputs": [
    {
     "data": {
      "text/plain": [
       "\u001b[38;5;28;01mdef\u001b[39;00m gen_boot_dist(sample, estfunc, B=\u001b[32m5000\u001b[39m):\n",
       "    \u001b[33m\"\"\"\u001b[39m\n",
       "\u001b[33m    Generate estimates from the sampling distribution of the estimator `estfunc`\u001b[39m\n",
       "\u001b[33m    based on `B` bootstrap samples (sampling with replacement) from `sample`.\u001b[39m\n",
       "\u001b[33m    \"\"\"\u001b[39m\n",
       "    n = len(sample)\n",
       "    bestimates = []\n",
       "    \u001b[38;5;28;01mfor\u001b[39;00m j \u001b[38;5;28;01min\u001b[39;00m range(B):\n",
       "        bsample = np.random.choice(sample, n, replace=\u001b[38;5;28;01mTrue\u001b[39;00m)\n",
       "        bestimate = estfunc(bsample)\n",
       "        bestimates.append(bestimate)\n",
       "    \u001b[38;5;28;01mreturn\u001b[39;00m bestimates\n"
      ]
     },
     "metadata": {},
     "output_type": "display_data"
    }
   ],
   "source": [
    "from ministats import gen_boot_dist\n",
    "\n",
    "%psource gen_boot_dist"
   ]
  },
  {
   "cell_type": "code",
   "execution_count": 9,
   "id": "4a6bc2fa-2431-4ef8-9021-34d748a57e84",
   "metadata": {},
   "outputs": [
    {
     "data": {
      "image/png": "[encoded data removed]",
      "text/plain": [
       "<Figure size 700x200 with 1 Axes>"
      ]
     },
     "metadata": {
      "image/png": {
       "height": 201,
       "width": 622
      }
     },
     "output_type": "display_data"
    }
   ],
   "source": [
    "import numpy as np\n",
    "iqs_boot = gen_boot_dist(iqs, estfunc=np.mean)\n",
    "sns.histplot(iqs_boot);"
   ]
  },
  {
   "cell_type": "markdown",
   "id": "e957746c-2d9f-4320-824e-77df7aa5499f",
   "metadata": {},
   "source": [
    "### The permutation test for comparing two groups"
   ]
  },
  {
   "cell_type": "code",
   "execution_count": 10,
   "id": "72e9a742-bef0-4020-8c14-9c71e04b5f6b",
   "metadata": {},
   "outputs": [
    {
     "data": {
      "text/plain": [
       "\u001b[38;5;28;01mdef\u001b[39;00m permutation_test_dmeans(xsample, ysample, P=\u001b[32m10000\u001b[39m):\n",
       "    \u001b[33m\"\"\"\u001b[39m\n",
       "\u001b[33m    Compute the p-value of the observed difference between means\u001b[39m\n",
       "\u001b[33m    `dmeans(xsample,ysample)` under the null hypothesis where\u001b[39m\n",
       "\u001b[33m    the group membership is randomized.\u001b[39m\n",
       "\u001b[33m    \"\"\"\u001b[39m\n",
       "    \u001b[38;5;66;03m# 1. Compute the observed difference between means\u001b[39;00m\n",
       "    obsdhat = dmeans(xsample, ysample)\n",
       "\n",
       "    \u001b[38;5;66;03m# 2. Get sampling dist. of `dmeans` under H0\u001b[39;00m\n",
       "    pdhats = []\n",
       "    \u001b[38;5;28;01mfor\u001b[39;00m i \u001b[38;5;28;01min\u001b[39;00m range(\u001b[32m0\u001b[39m, P):\n",
       "        rsx, rsy = resample_under_H0(xsample, ysample)\n",
       "        pdhat = dmeans(rsx, rsy)\n",
       "        pdhats.append(pdhat)\n",
       "\n",
       "    \u001b[38;5;66;03m# 3. Compute the p-value\u001b[39;00m\n",
       "    tails = tailvalues(pdhats, obsdhat)\n",
       "    pvalue = len(tails) / len(pdhats)\n",
       "    \u001b[38;5;28;01mreturn\u001b[39;00m pvalue\n"
      ]
     },
     "metadata": {},
     "output_type": "display_data"
    }
   ],
   "source": [
    "from ministats.hypothesis_tests import resample_under_H0\n",
    "from ministats import permutation_test_dmeans\n",
    "\n",
    "%psource permutation_test_dmeans"
   ]
  },
  {
   "cell_type": "code",
   "execution_count": 11,
   "id": "08e64a3a-1974-40e9-9bab-9f21cb3855d3",
   "metadata": {},
   "outputs": [
    {
     "data": {
      "text/plain": [
       "\u001b[38;5;28;01mdef\u001b[39;00m resample_under_H0(xsample, ysample):\n",
       "    \u001b[33m\"\"\"\u001b[39m\n",
       "\u001b[33m    Generate new samples from a random permutation of\u001b[39m\n",
       "\u001b[33m    the values in the samples `xsample` and `ysample`.\u001b[39m\n",
       "\u001b[33m    \"\"\"\u001b[39m\n",
       "    values = np.concatenate((xsample, ysample))\n",
       "    shuffled_values = np.random.permutation(values)\n",
       "    xresample = shuffled_values[\u001b[32m0\u001b[39m:len(xsample)]\n",
       "    yresample = shuffled_values[len(xsample):]\n",
       "    \u001b[38;5;28;01mreturn\u001b[39;00m xresample, yresample\n"
      ]
     },
     "metadata": {},
     "output_type": "display_data"
    }
   ],
   "source": [
    "%psource resample_under_H0"
   ]
  },
  {
   "cell_type": "code",
   "execution_count": 12,
   "id": "72601f33-ab32-4958-9771-e8f1c11cc774",
   "metadata": {},
   "outputs": [
    {
     "data": {
      "text/plain": [
       "0.0098"
      ]
     },
     "execution_count": 12,
     "metadata": {},
     "output_type": "execute_result"
    }
   ],
   "source": [
    "np.random.seed(43)\n",
    "permutation_test_dmeans(treated, controls)"
   ]
  },
  {
   "cell_type": "markdown",
   "id": "a03b807c-cf81-4f9a-bb9c-7a3ec49bbcf7",
   "metadata": {},
   "source": [
    "\n",
    "See the [`ministats`](https://github.com/minireference/ministats/tree/main/ministats) library\n",
    "for more examples of Python functions that implement the statistical procedures in STATS 101.\n",
    "\n",
    "In the past, students first contact with statistics was presented as a bunch of procedures\n",
    "without explanation, and students were supposed to memorize when to use which \"recipe\".\n",
    "Statistics instructors always had to \"skip the details\" because it's super complicated to\n",
    "explain all the details (probability models, sampling distributions, p-value calculations, etc.).\n",
    "\n",
    "Now that we have Python on our side, we don't have to water-down the material,\n",
    "but can instead show all the detailed calculations for statistical tests,\n",
    "as easy-to-understand Python source code, which makes it much much easier to understand what is going on.\n",
    "Currently,\n",
    "the [`ministats`](https://github.com/minireference/ministats/tree/main/ministats) library contains about 400 lines of code.\n",
    "With a little bit of Python knowledge,\n",
    "you can read the source code and understand all of statistics."
   ]
  },
  {
   "cell_type": "markdown",
   "id": "44a891d7-41e1-45bf-ac6f-4d47b7e413d2",
   "metadata": {},
   "source": [
    "## Conclusion"
   ]
  },
  {
   "cell_type": "markdown",
   "id": "9cb8d6a8-b41e-423c-a23a-687e7a4e64ed",
   "metadata": {},
   "source": [
    "## Links"
   ]
  },
  {
   "cell_type": "code",
   "execution_count": null,
   "id": "4db0ea0a-adb1-4b15-82e9-f7bfbb0f6190",
   "metadata": {},
   "outputs": [],
   "source": []
  }
 ],
 "metadata": {
  "kernelspec": {
   "display_name": "Python 3 (ipykernel)",
   "language": "python",
   "name": "python3"
  },
  "language_info": {
   "codemirror_mode": {
    "name": "ipython",
    "version": 3
   },
   "file_extension": ".py",
   "mimetype": "text/x-python",
   "name": "python",
   "nbconvert_exporter": "python",
   "pygments_lexer": "ipython3",
   "version": "3.12.4"
  }
 },
 "nbformat": 4,
 "nbformat_minor": 5
}
