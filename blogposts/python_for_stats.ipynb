{
 "cells": [
  {
   "cell_type": "code",
   "execution_count": null,
   "id": "2927bd7f-9ce6-4124-88fb-89edee55c0df",
   "metadata": {},
   "outputs": [],
   "source": []
  },
  {
   "cell_type": "markdown",
   "id": "59db57ac-d174-4c88-b395-2204273a30f1",
   "metadata": {},
   "source": [
    "# Using Python for STATS"
   ]
  },
  {
   "cell_type": "markdown",
   "id": "282bf6aa-0555-4852-9a6b-1b58eb935b1c",
   "metadata": {},
   "source": [
    "See [blog post here (draft in gdoc)](https://docs.google.com/document/d/16WJnYeezBevUBvsYpbklW04ukvrtG_8QVdfsbd15pqg/edit).Feel free to leave comments, suggest-edits, or make edits directly in the gdoc."
   ]
  },
  {
   "cell_type": "code",
   "execution_count": 1,
   "id": "8ebe9968-ebed-4ef2-a7db-120e297258ca",
   "metadata": {},
   "outputs": [
    {
     "data": {
      "text/plain": [
       "<Figure size 640x480 with 0 Axes>"
      ]
     },
     "metadata": {},
     "output_type": "display_data"
    }
   ],
   "source": [
    "# Figures setup\n",
    "import matplotlib.pyplot as plt\n",
    "import seaborn as sns\n",
    "\n",
    "plt.clf()  # needed otherwise `sns.set_theme` doesn't work\n",
    "sns.set_theme(\n",
    "    style=\"whitegrid\",\n",
    "    rc={'figure.figsize': (6.25, 2.0)},\n",
    ")\n",
    "# High-resolution figures please\n",
    "%config InlineBackend.figure_format = 'retina'"
   ]
  },
  {
   "cell_type": "markdown",
   "id": "3f689330-7def-4935-be79-520d1c0190b6",
   "metadata": {},
   "source": [
    "## What can python do for you?"
   ]
  },
  {
   "cell_type": "markdown",
   "id": "7bf445c3-2d7c-48ac-90be-84417d51f685",
   "metadata": {},
   "source": [
    "### Python as a calculator"
   ]
  },
  {
   "cell_type": "code",
   "execution_count": 2,
   "id": "6ff440f2-f2c4-4821-8af0-1bec72c2b608",
   "metadata": {},
   "outputs": [
    {
     "data": {
      "text/plain": [
       "5.5"
      ]
     },
     "execution_count": 2,
     "metadata": {},
     "output_type": "execute_result"
    }
   ],
   "source": [
    "2.1 + 3.4"
   ]
  },
  {
   "cell_type": "code",
   "execution_count": 3,
   "id": "58db3ab6-7417-4724-9deb-76dadd2e62b4",
   "metadata": {},
   "outputs": [
    {
     "data": {
      "text/plain": [
       "5.5"
      ]
     },
     "execution_count": 3,
     "metadata": {},
     "output_type": "execute_result"
    }
   ],
   "source": [
    "num1 = 2.1\n",
    "num2 = 3.4\n",
    "num1 + num2"
   ]
  },
  {
   "cell_type": "code",
   "execution_count": 4,
   "id": "305c829d-680e-4652-8399-2f55b40bee57",
   "metadata": {},
   "outputs": [
    {
     "data": {
      "text/plain": [
       "2.75"
      ]
     },
     "execution_count": 4,
     "metadata": {},
     "output_type": "execute_result"
    }
   ],
   "source": [
    "(num1 + num2) / 2"
   ]
  },
  {
   "cell_type": "code",
   "execution_count": null,
   "id": "cafb1d20-3c46-486c-856b-235a33f33b9b",
   "metadata": {},
   "outputs": [],
   "source": []
  },
  {
   "cell_type": "code",
   "execution_count": null,
   "id": "08222c31-5369-4801-b65b-4733726f534b",
   "metadata": {},
   "outputs": [],
   "source": []
  },
  {
   "cell_type": "markdown",
   "id": "a63a1efe-8635-45a9-8beb-9c9d05fad193",
   "metadata": {},
   "source": [
    "### Powerful primitives and built-ins"
   ]
  },
  {
   "cell_type": "code",
   "execution_count": 5,
   "id": "57b9fab6-d2bd-4ebf-a191-eb83f81d6a0b",
   "metadata": {},
   "outputs": [
    {
     "data": {
      "text/plain": [
       "75.0"
      ]
     },
     "execution_count": 5,
     "metadata": {},
     "output_type": "execute_result"
    }
   ],
   "source": [
    "grades = [80, 90, 70, 60]\n",
    "avg = sum(grades) / len(grades)\n",
    "avg"
   ]
  },
  {
   "cell_type": "code",
   "execution_count": null,
   "id": "1e3e7128-4902-4ee8-b83b-0e2bbfc31764",
   "metadata": {},
   "outputs": [],
   "source": []
  },
  {
   "cell_type": "markdown",
   "id": "719d9567-6585-4794-89ba-e314cc8e148e",
   "metadata": {},
   "source": [
    "### For loops"
   ]
  },
  {
   "cell_type": "code",
   "execution_count": 6,
   "id": "e097b267-e125-4f0f-bb06-5e6ef837fb48",
   "metadata": {},
   "outputs": [
    {
     "data": {
      "text/plain": [
       "75.0"
      ]
     },
     "execution_count": 6,
     "metadata": {},
     "output_type": "execute_result"
    }
   ],
   "source": [
    "total = 0\n",
    "for grade in grades:\n",
    "    total = total + grade\n",
    "avg = total / len(grades)\n",
    "avg"
   ]
  },
  {
   "cell_type": "code",
   "execution_count": null,
   "id": "31dca516-7c74-42a8-9b93-44098a0249df",
   "metadata": {},
   "outputs": [],
   "source": []
  },
  {
   "cell_type": "markdown",
   "id": "db84caa3-99aa-47f9-9b02-ac4babdc5152",
   "metadata": {},
   "source": [
    "### Math functions and Python functions\n",
    "\n",
    "In math, \n",
    "a function is a mapping from input values (usually denoted x) to output values (usually denoted y).\n",
    "\n",
    "Consider the mapping that doubles the input and adds five to it,\n",
    "which we can express as the math function $f(x) = 2x+5$.\n",
    "For any input $x$,\n",
    "the output of the function $f$ is denoted $f(x)$ and is equal to $2x+5$.\n",
    "For example, $f(3)$ describes the output of the function when the input is $x=3$,\n",
    "and it is equal to $2(3)+5 = 6 + 5 = 11$."
   ]
  },
  {
   "cell_type": "markdown",
   "id": "3c9503cd-6fc5-4608-b017-9ae47ca27b92",
   "metadata": {},
   "source": [
    "The Python equivalent of the math function $f(x) = 2x+5$ is shown below. \n",
    "\n"
   ]
  },
  {
   "cell_type": "code",
   "execution_count": 7,
   "id": "00fd3024-4329-4899-af02-2023a5e722f1",
   "metadata": {},
   "outputs": [],
   "source": [
    "def f(x):\n",
    "    y = 2*x + 5\n",
    "    return y"
   ]
  },
  {
   "cell_type": "markdown",
   "id": "31e5063f-59da-423e-a7ba-60f9e1906af3",
   "metadata": {},
   "source": [
    "To **define** the Python function called `f`,\n",
    "we use the `def` keyword,\n",
    "then write all the function calculations in an indented block\n",
    "that ends with a `return` statement for the output of the function."
   ]
  },
  {
   "cell_type": "markdown",
   "id": "346a10de-ad20-425a-b65b-c471874a7d3e",
   "metadata": {},
   "source": [
    "To **call** the function `f` with input `x`, we simply writhe `f(x)` in Python,\n",
    "which is the same as the math notation we use for \"evaluate the function at the value x.\""
   ]
  },
  {
   "cell_type": "code",
   "execution_count": 8,
   "id": "bcfb4cbc-80e4-4516-b700-3281d695d9d5",
   "metadata": {},
   "outputs": [
    {
     "data": {
      "text/plain": [
       "11"
      ]
     },
     "execution_count": 8,
     "metadata": {},
     "output_type": "execute_result"
    }
   ],
   "source": [
    "f(3)"
   ]
  },
  {
   "cell_type": "markdown",
   "id": "f5142273-ad49-459a-8b55-32ffccee1db1",
   "metadata": {},
   "source": [
    "The mean is defined as $\\mathbf{Mean}(\\mathbf{x}) = \\frac{1}{n}  \\sum_{i=1}^{i=n} x_i$,\n",
    "where $\\mathbf{x} = [x_1, x_2, x_3, \\ldots, x_n]$ is a list of values."
   ]
  },
  {
   "cell_type": "code",
   "execution_count": 9,
   "id": "e55c4dd3-fbb0-4044-91cf-b6ee104ba292",
   "metadata": {},
   "outputs": [],
   "source": [
    "def mean(sample):\n",
    "    total = 0\n",
    "    for xi in sample:\n",
    "        total = total + xi\n",
    "    avg = total / len(sample)\n",
    "    return avg"
   ]
  },
  {
   "cell_type": "code",
   "execution_count": 10,
   "id": "ab56d567-0758-4b70-9b97-fb2cd1283deb",
   "metadata": {},
   "outputs": [
    {
     "data": {
      "text/plain": [
       "75.0"
      ]
     },
     "execution_count": 10,
     "metadata": {},
     "output_type": "execute_result"
    }
   ],
   "source": [
    "mean(grades)"
   ]
  },
  {
   "cell_type": "code",
   "execution_count": null,
   "id": "2d8c7281-2d21-4f92-8951-4ef76cd99144",
   "metadata": {},
   "outputs": [],
   "source": []
  },
  {
   "cell_type": "markdown",
   "id": "2483aa87-3da4-4b21-9f1c-be9899ba851f",
   "metadata": {},
   "source": [
    "## Why do you need coding for statistics?"
   ]
  },
  {
   "cell_type": "markdown",
   "id": "98c3ce23-20b0-40ae-8fd9-3715ef3f5b7e",
   "metadata": {},
   "source": [
    "### Descriptive statistics"
   ]
  },
  {
   "cell_type": "markdown",
   "id": "3fdcf50f-49c5-4368-a924-ce53289cf298",
   "metadata": {},
   "source": [
    "#### Data visualization"
   ]
  },
  {
   "cell_type": "code",
   "execution_count": 11,
   "id": "a70a4bc4-50a7-4b50-8706-b2295bf57eb4",
   "metadata": {},
   "outputs": [],
   "source": [
    "pricesW = [11.8, 10, 11, 8.6, 8.3, 9.4, 8, 6.8, 8.5]"
   ]
  },
  {
   "cell_type": "code",
   "execution_count": 12,
   "id": "a746d4e7-a90b-498f-ac4b-67521aadd149",
   "metadata": {},
   "outputs": [
    {
     "data": {
      "text/plain": [
       "9"
      ]
     },
     "execution_count": 12,
     "metadata": {},
     "output_type": "execute_result"
    }
   ],
   "source": [
    "len(pricesW)"
   ]
  },
  {
   "cell_type": "code",
   "execution_count": 13,
   "id": "71a0a111-acc0-4140-ad01-49a3959e5ee9",
   "metadata": {},
   "outputs": [
    {
     "data": {
      "text/plain": [
       "9.155555555555555"
      ]
     },
     "execution_count": 13,
     "metadata": {},
     "output_type": "execute_result"
    }
   ],
   "source": [
    "mean(pricesW)"
   ]
  },
  {
   "cell_type": "code",
   "execution_count": 14,
   "id": "5891ee22-6a6c-416d-a1bb-b283bb6a6519",
   "metadata": {},
   "outputs": [
    {
     "data": {
      "text/plain": [
       "<AxesSubplot: >"
      ]
     },
     "execution_count": 14,
     "metadata": {},
     "output_type": "execute_result"
    },
    {
     "data": {
      "image/png": "[encoded data removed]",
      "text/plain": [
       "<Figure size 625x200 with 1 Axes>"
      ]
     },
     "metadata": {
      "image/png": {
       "height": 201,
       "width": 508
      }
     },
     "output_type": "display_data"
    }
   ],
   "source": [
    "import seaborn as sns\n",
    "sns.stripplot(x=pricesW, jitter=0)"
   ]
  },
  {
   "cell_type": "code",
   "execution_count": 15,
   "id": "02caade4-678c-4681-893b-04e22a865903",
   "metadata": {},
   "outputs": [
    {
     "data": {
      "text/plain": [
       "<AxesSubplot: ylabel='Count'>"
      ]
     },
     "execution_count": 15,
     "metadata": {},
     "output_type": "execute_result"
    },
    {
     "data": {
      "image/png": "[encoded data removed]",
      "text/plain": [
       "<Figure size 625x200 with 1 Axes>"
      ]
     },
     "metadata": {
      "image/png": {
       "height": 201,
       "width": 551
      }
     },
     "output_type": "display_data"
    }
   ],
   "source": [
    "sns.histplot(x=pricesW)"
   ]
  },
  {
   "cell_type": "code",
   "execution_count": 16,
   "id": "8455cb4d-6c7b-4341-80a2-bd67126f5383",
   "metadata": {},
   "outputs": [
    {
     "data": {
      "text/plain": [
       "<AxesSubplot: >"
      ]
     },
     "execution_count": 16,
     "metadata": {},
     "output_type": "execute_result"
    },
    {
     "data": {
      "image/png": "[encoded data removed]",
      "text/plain": [
       "<Figure size 625x200 with 1 Axes>"
      ]
     },
     "metadata": {
      "image/png": {
       "height": 201,
       "width": 508
      }
     },
     "output_type": "display_data"
    }
   ],
   "source": [
    "sns.boxplot(x=pricesW)"
   ]
  },
  {
   "cell_type": "code",
   "execution_count": 17,
   "id": "7d6743af-1055-416f-9e1d-517c2ef1e988",
   "metadata": {},
   "outputs": [
    {
     "data": {
      "image/png": "[encoded data removed]",
      "text/plain": [
       "<Figure size 800x200 with 3 Axes>"
      ]
     },
     "metadata": {
      "image/png": {
       "height": 184,
       "width": 783
      }
     },
     "output_type": "display_data"
    }
   ],
   "source": [
    "# FIGURES\n",
    "import matplotlib.pyplot as plt\n",
    "import seaborn as sns\n",
    "with plt.rc_context({\"figure.figsize\":(8,2)}):\n",
    "    fig, (ax1, ax2, ax3) = plt.subplots(1,3)\n",
    "\n",
    "    ax1.set_title(\"(a) strip plot\")\n",
    "    sns.stripplot(x=pricesW, ax=ax1, jitter=0)\n",
    "    ax1.set_xticks(range(7,13))\n",
    "\n",
    "    ax2.set_title(\"(b) hist plot\")\n",
    "    sns.histplot(x=pricesW, ax=ax2)\n",
    "    ax2.set_xticks(range(7,13))\n",
    "    ax2.set_yticks(range(0,5))\n",
    "\n",
    "    ax3.set_title(\"(c) box plot\")\n",
    "    sns.boxplot(x=pricesW, ax=ax3)\n",
    "    ax3.set_xticks(range(7,13))\n",
    "\n",
    "filename = \"figures/epricesW_strip_hist_box_plots.png\"\n",
    "fig.tight_layout()\n",
    "fig.savefig(filename, dpi=300, bbox_inches=\"tight\", pad_inches=0)"
   ]
  },
  {
   "cell_type": "code",
   "execution_count": null,
   "id": "821cd7f4-9a4a-4c0f-b541-26c5b24abc6f",
   "metadata": {},
   "outputs": [],
   "source": []
  },
  {
   "cell_type": "code",
   "execution_count": null,
   "id": "8e2d5bc9-fb90-4076-af3a-5d1199767b42",
   "metadata": {},
   "outputs": [],
   "source": []
  },
  {
   "cell_type": "markdown",
   "id": "d484ded8-8a9f-40aa-8dae-f9c81d9f76e5",
   "metadata": {},
   "source": [
    "#### Numerical summaries"
   ]
  },
  {
   "cell_type": "code",
   "execution_count": 18,
   "id": "e4b22ff8-db8a-413b-bc55-61f2b64a0de9",
   "metadata": {},
   "outputs": [
    {
     "data": {
      "text/html": [
       "<div>\n",
       "<style scoped>\n",
       "    .dataframe tbody tr th:only-of-type {\n",
       "        vertical-align: middle;\n",
       "    }\n",
       "\n",
       "    .dataframe tbody tr th {\n",
       "        vertical-align: top;\n",
       "    }\n",
       "\n",
       "    .dataframe thead th {\n",
       "        text-align: right;\n",
       "    }\n",
       "</style>\n",
       "<table border=\"1\" class=\"dataframe\">\n",
       "  <thead>\n",
       "    <tr style=\"text-align: right;\">\n",
       "      <th></th>\n",
       "      <th>East</th>\n",
       "      <th>West</th>\n",
       "    </tr>\n",
       "  </thead>\n",
       "  <tbody>\n",
       "    <tr>\n",
       "      <th>0</th>\n",
       "      <td>7.7</td>\n",
       "      <td>11.8</td>\n",
       "    </tr>\n",
       "    <tr>\n",
       "      <th>1</th>\n",
       "      <td>5.9</td>\n",
       "      <td>10.0</td>\n",
       "    </tr>\n",
       "    <tr>\n",
       "      <th>2</th>\n",
       "      <td>7.0</td>\n",
       "      <td>11.0</td>\n",
       "    </tr>\n",
       "    <tr>\n",
       "      <th>3</th>\n",
       "      <td>4.8</td>\n",
       "      <td>8.6</td>\n",
       "    </tr>\n",
       "    <tr>\n",
       "      <th>4</th>\n",
       "      <td>6.3</td>\n",
       "      <td>8.3</td>\n",
       "    </tr>\n",
       "    <tr>\n",
       "      <th>5</th>\n",
       "      <td>6.3</td>\n",
       "      <td>9.4</td>\n",
       "    </tr>\n",
       "    <tr>\n",
       "      <th>6</th>\n",
       "      <td>5.5</td>\n",
       "      <td>8.0</td>\n",
       "    </tr>\n",
       "    <tr>\n",
       "      <th>7</th>\n",
       "      <td>5.4</td>\n",
       "      <td>6.8</td>\n",
       "    </tr>\n",
       "    <tr>\n",
       "      <th>8</th>\n",
       "      <td>6.5</td>\n",
       "      <td>8.5</td>\n",
       "    </tr>\n",
       "  </tbody>\n",
       "</table>\n",
       "</div>"
      ],
      "text/plain": [
       "   East  West\n",
       "0   7.7  11.8\n",
       "1   5.9  10.0\n",
       "2   7.0  11.0\n",
       "3   4.8   8.6\n",
       "4   6.3   8.3\n",
       "5   6.3   9.4\n",
       "6   5.5   8.0\n",
       "7   5.4   6.8\n",
       "8   6.5   8.5"
      ]
     },
     "execution_count": 18,
     "metadata": {},
     "output_type": "execute_result"
    }
   ],
   "source": [
    "DATA_URL = \"https://raw.githubusercontent.com/minireference/noBSstatsnotebooks/main/datasets/epriceswide.csv\"\n",
    "\n",
    "import pandas as pd\n",
    "epriceswide = pd.read_csv(DATA_URL)\n",
    "epriceswide"
   ]
  },
  {
   "cell_type": "code",
   "execution_count": 19,
   "id": "38c52689-1b5a-4053-8f76-c10a7b76cd72",
   "metadata": {},
   "outputs": [],
   "source": [
    "pricesW = epriceswide[\"West\"]\n",
    "pricesE = epriceswide[\"East\"]"
   ]
  },
  {
   "cell_type": "code",
   "execution_count": 20,
   "id": "cd3b487a-545b-4680-b315-2e7d0471d63d",
   "metadata": {},
   "outputs": [],
   "source": [
    "# # ALT. we can input data by specifying lists of values\n",
    "# pricesW = pd.Series([11.8,10,11,8.6,8.3,9.4,8,6.8,8.5])\n",
    "# pricesE = pd.Series([7.7,5.9,7,4.8,6.3,6.3,5.5,5.4,6.5])"
   ]
  },
  {
   "cell_type": "code",
   "execution_count": 21,
   "id": "4bf01229-90ea-4352-a26e-7d4fa6c766c2",
   "metadata": {},
   "outputs": [
    {
     "data": {
      "text/plain": [
       "9.155555555555557"
      ]
     },
     "execution_count": 21,
     "metadata": {},
     "output_type": "execute_result"
    }
   ],
   "source": [
    "pricesW.mean()"
   ]
  },
  {
   "cell_type": "code",
   "execution_count": 22,
   "id": "81a08643-8207-4130-93f8-8e9227f54c2e",
   "metadata": {},
   "outputs": [
    {
     "data": {
      "text/plain": [
       "count     9.000000\n",
       "mean      9.155556\n",
       "std       1.562139\n",
       "min       6.800000\n",
       "25%       8.300000\n",
       "50%       8.600000\n",
       "75%      10.000000\n",
       "max      11.800000\n",
       "Name: West, dtype: float64"
      ]
     },
     "execution_count": 22,
     "metadata": {},
     "output_type": "execute_result"
    }
   ],
   "source": [
    "pricesW.describe()"
   ]
  },
  {
   "cell_type": "code",
   "execution_count": null,
   "id": "0060b041-0300-4c5d-b92b-49e0b7f26511",
   "metadata": {},
   "outputs": [],
   "source": []
  },
  {
   "cell_type": "markdown",
   "id": "66858e0a-d5d6-4d19-8023-d5cc3c9629b3",
   "metadata": {},
   "source": [
    "### Understanding probability distributions"
   ]
  },
  {
   "cell_type": "markdown",
   "id": "ca16dacc-b0bb-4219-8a9e-fb64976d41ed",
   "metadata": {},
   "source": [
    "#### Building computer models for probability distributions"
   ]
  },
  {
   "cell_type": "markdown",
   "id": "8b2acf54-1940-466d-8289-cd2c223f124e",
   "metadata": {},
   "source": [
    "The standard normal distribution $Z \\sim \\mathcal{N}(\\mu=0,\\sigma=1)$ has the probability density function:\n",
    "\n",
    "$$\n",
    "    f_Z(z) = \\tfrac{1}{\\sqrt{2\\pi}} e^{ - \\frac{1}{2}z^2}.\n",
    "$$\n",
    "\n",
    "The standard normal is a special case of the general normal $\\mathcal{N}(\\mu, \\sigma)$\n",
    "where $\\mu$ is the mean and $\\sigma$ is the standard deviation.\n"
   ]
  },
  {
   "cell_type": "code",
   "execution_count": null,
   "id": "ec0da7b0-e73b-4c0f-9ff1-0a084cfb1042",
   "metadata": {},
   "outputs": [],
   "source": []
  },
  {
   "cell_type": "code",
   "execution_count": 23,
   "id": "eabedcd7-cb40-4806-9eab-f1e860a9b14c",
   "metadata": {},
   "outputs": [],
   "source": [
    "import numpy as np\n",
    "\n",
    "def fZ(z):\n",
    "    const = 1 / np.sqrt(2*np.pi)\n",
    "    exp = np.exp(-1/2 * z**2)\n",
    "    return const*exp"
   ]
  },
  {
   "cell_type": "code",
   "execution_count": 24,
   "id": "cea5af88-b561-4d81-916f-dc13cb9145aa",
   "metadata": {},
   "outputs": [
    {
     "data": {
      "text/plain": [
       "0.24197072451914337"
      ]
     },
     "execution_count": 24,
     "metadata": {},
     "output_type": "execute_result"
    }
   ],
   "source": [
    "fZ(1)"
   ]
  },
  {
   "cell_type": "code",
   "execution_count": null,
   "id": "21052d7c-5a98-403e-83de-457c26badc13",
   "metadata": {},
   "outputs": [],
   "source": []
  },
  {
   "cell_type": "markdown",
   "id": "da9e61a8-0caa-4ffa-9182-a274fefffb0e",
   "metadata": {},
   "source": [
    "#### Predefined computer models\n",
    "\n",
    "We create a computer model for the general normal distribution \n",
    "$\\mathcal{N}(\\mu, \\sigma)$ by calling `norm(mu,sigma)`,\n",
    "where `norm` is `scipy.stats.norm`."
   ]
  },
  {
   "cell_type": "code",
   "execution_count": 25,
   "id": "bbaf06c0-d415-46fd-9002-70896cd3b00c",
   "metadata": {},
   "outputs": [
    {
     "data": {
      "text/plain": [
       "<scipy.stats._distn_infrastructure.rv_continuous_frozen at 0x131b05940>"
      ]
     },
     "execution_count": 25,
     "metadata": {},
     "output_type": "execute_result"
    }
   ],
   "source": [
    "from scipy.stats import norm\n",
    "\n",
    "rvZ = norm(0,1)\n",
    "rvZ"
   ]
  },
  {
   "cell_type": "code",
   "execution_count": 26,
   "id": "f6a34bd0-37ca-4347-a82f-9cfbabcdf2c8",
   "metadata": {},
   "outputs": [
    {
     "data": {
      "text/plain": [
       "0.24197072451914337"
      ]
     },
     "execution_count": 26,
     "metadata": {},
     "output_type": "execute_result"
    }
   ],
   "source": [
    "rvZ.pdf(1)"
   ]
  },
  {
   "cell_type": "code",
   "execution_count": null,
   "id": "0fab2bab-dfac-4ce4-960d-b614a8bf425c",
   "metadata": {},
   "outputs": [],
   "source": []
  },
  {
   "cell_type": "markdown",
   "id": "8191f640-7916-456b-8946-1ddb19ae9991",
   "metadata": {},
   "source": [
    "#### Probability model visualizations"
   ]
  },
  {
   "cell_type": "code",
   "execution_count": 27,
   "id": "b1061670-cdb0-4de7-8136-d343c5cf17b6",
   "metadata": {},
   "outputs": [
    {
     "data": {
      "text/plain": [
       "<AxesSubplot: >"
      ]
     },
     "execution_count": 27,
     "metadata": {},
     "output_type": "execute_result"
    },
    {
     "data": {
      "image/png": "[encoded data removed]",
      "text/plain": [
       "<Figure size 625x200 with 1 Axes>"
      ]
     },
     "metadata": {
      "image/png": {
       "height": 201,
       "width": 538
      }
     },
     "output_type": "display_data"
    }
   ],
   "source": [
    "zs = np.linspace(-4, 4)\n",
    "fZs = rvZ.pdf(zs)\n",
    "sns.lineplot(x=zs, y=fZs)"
   ]
  },
  {
   "cell_type": "code",
   "execution_count": null,
   "id": "9c084789-b006-4613-900b-23c3d4731c7e",
   "metadata": {},
   "outputs": [],
   "source": []
  },
  {
   "cell_type": "code",
   "execution_count": null,
   "id": "a70e80ae-059f-4266-8916-bc72b76c802e",
   "metadata": {},
   "outputs": [],
   "source": []
  },
  {
   "cell_type": "markdown",
   "id": "7a061b53-653c-4dab-a5f1-f0fcda47123e",
   "metadata": {},
   "source": [
    "### Doing probability calculations"
   ]
  },
  {
   "cell_type": "markdown",
   "id": "5d068908-d2bc-4721-a7f3-152346e6ca51",
   "metadata": {},
   "source": [
    "Calculating probabilities with the continuous random variable $Z$ requires continuous need integral"
   ]
  },
  {
   "cell_type": "code",
   "execution_count": 28,
   "id": "1b986752-36ec-4aed-ae45-6aa0a19eed1d",
   "metadata": {},
   "outputs": [
    {
     "data": {
      "text/plain": [
       "0.02275013194817598"
      ]
     },
     "execution_count": 28,
     "metadata": {},
     "output_type": "execute_result"
    }
   ],
   "source": [
    "from scipy.integrate import quad\n",
    "quad(rvZ.pdf, 2, np.inf)[0]"
   ]
  },
  {
   "cell_type": "markdown",
   "id": "c5e8dd27-946f-40ee-9628-d9cf2321e181",
   "metadata": {},
   "source": []
  },
  {
   "cell_type": "code",
   "execution_count": 29,
   "id": "36b0686c-fe69-49cb-98ec-22baa56de926",
   "metadata": {},
   "outputs": [
    {
     "data": {
      "text/plain": [
       "0.9772498680518208"
      ]
     },
     "execution_count": 29,
     "metadata": {},
     "output_type": "execute_result"
    }
   ],
   "source": [
    "rvZ.cdf(2)"
   ]
  },
  {
   "cell_type": "code",
   "execution_count": 30,
   "id": "e3750693-6415-4b09-9642-df1f7f8e0f29",
   "metadata": {},
   "outputs": [
    {
     "data": {
      "text/plain": [
       "0.02275013194817921"
      ]
     },
     "execution_count": 30,
     "metadata": {},
     "output_type": "execute_result"
    }
   ],
   "source": [
    "1 - rvZ.cdf(2)"
   ]
  },
  {
   "cell_type": "code",
   "execution_count": null,
   "id": "a043f55f-1cbe-4f0b-a38f-9c19adbb11e0",
   "metadata": {},
   "outputs": [],
   "source": []
  },
  {
   "cell_type": "markdown",
   "id": "0fa118fa-e753-4e06-9f22-f7f4057963d4",
   "metadata": {},
   "source": [
    "#### Discrete random variable calculations\n",
    "\n",
    "Poisson random variable $H$"
   ]
  },
  {
   "cell_type": "markdown",
   "id": "873749d7-803e-4747-b94e-0414aa717fbb",
   "metadata": {},
   "source": [
    "To see a complete worked example based on the \n",
    "see [Example 3: hard disk failures](https://minireference.com/static/excerpts/noBSstats/noBSstats_ch02_PROB.pdf#page=15) and\n",
    "[Section 2.1.5 Hard disks example](https://minireference.com/static/excerpts/noBSstats/noBSstats_ch02_PROB.pdf#page=29) in the PDF preview of Chapter 2."
   ]
  },
  {
   "cell_type": "code",
   "execution_count": null,
   "id": "305d9abd-6c0a-403c-981e-5691d5d80043",
   "metadata": {},
   "outputs": [],
   "source": []
  },
  {
   "cell_type": "markdown",
   "id": "fb5bc2bd-a3d2-4f8e-b9d4-aa67908b5245",
   "metadata": {},
   "source": [
    "### Running statistical simulations"
   ]
  },
  {
   "cell_type": "markdown",
   "id": "31162a34-a280-434e-b7a7-6bda0a7fa7b2",
   "metadata": {},
   "source": [
    "#### Sampling distributions"
   ]
  },
  {
   "cell_type": "markdown",
   "id": "343cb4db-4584-4b37-ad1a-e2a80f6308d9",
   "metadata": {},
   "source": [
    "Simulate 10000 amples of size 20 from the standard normal random variable $Z \\sim \\mathcal{N}(0,1)$\n",
    "to generate the sampling distribution of the mean."
   ]
  },
  {
   "cell_type": "code",
   "execution_count": 31,
   "id": "1f27f30f-dd5c-4bf1-a4e4-f73b406b812e",
   "metadata": {},
   "outputs": [
    {
     "data": {
      "text/plain": [
       "[-0.04615512729345514,\n",
       " -0.16969498785088205,\n",
       " 0.027593815341524598,\n",
       " 0.326475804656304,\n",
       " -0.29350437312572086]"
      ]
     },
     "execution_count": 31,
     "metadata": {},
     "output_type": "execute_result"
    }
   ],
   "source": [
    "xbars = []\n",
    "for i in range(0, 10000):\n",
    "    sample = rvZ.rvs(20)\n",
    "    xbar = mean(sample)\n",
    "    xbars.append(xbar)\n",
    "\n",
    "xbars[0:5]"
   ]
  },
  {
   "cell_type": "code",
   "execution_count": 32,
   "id": "86ea33f6-2eac-4a20-9f41-7404548872c4",
   "metadata": {},
   "outputs": [
    {
     "data": {
      "text/plain": [
       "<AxesSubplot: ylabel='Count'>"
      ]
     },
     "execution_count": 32,
     "metadata": {},
     "output_type": "execute_result"
    },
    {
     "data": {
      "image/png": "[encoded data removed]",
      "text/plain": [
       "<Figure size 625x200 with 1 Axes>"
      ]
     },
     "metadata": {
      "image/png": {
       "height": 201,
       "width": 564
      }
     },
     "output_type": "display_data"
    }
   ],
   "source": [
    "sns.histplot(xbars)"
   ]
  },
  {
   "cell_type": "code",
   "execution_count": null,
   "id": "632f3b0c-a2c7-4099-8644-e156e7353f86",
   "metadata": {},
   "outputs": [],
   "source": []
  },
  {
   "cell_type": "markdown",
   "id": "285187ea-e9ef-4a20-bb1f-05a41aa0a259",
   "metadata": {},
   "source": [
    "#### Verifying p-values"
   ]
  },
  {
   "cell_type": "code",
   "execution_count": 33,
   "id": "3cbe13fa-2b49-44d9-b1e1-5a13d7f08b71",
   "metadata": {},
   "outputs": [
    {
     "data": {
      "text/plain": [
       "0.0521"
      ]
     },
     "execution_count": 33,
     "metadata": {},
     "output_type": "execute_result"
    }
   ],
   "source": [
    "from scipy.stats import norm, ttest_1samp\n",
    "\n",
    "muK = 1000\n",
    "sigmaK = 10\n",
    "rvK = norm(muK, sigmaK)\n",
    "\n",
    "count = 0\n",
    "for j in range(0, 10000):\n",
    "    sample = rvK.rvs(20)\n",
    "    res = ttest_1samp(sample, popmean=muK)\n",
    "    if res.pvalue < 0.05:\n",
    "        count = count + 1\n",
    "\n",
    "count / 10000"
   ]
  },
  {
   "cell_type": "code",
   "execution_count": 53,
   "id": "28424dd6-5f88-4430-b687-b4b9c62ae0c7",
   "metadata": {},
   "outputs": [
    {
     "data": {
      "text/plain": [
       "<AxesSubplot: ylabel='Count'>"
      ]
     },
     "execution_count": 53,
     "metadata": {},
     "output_type": "execute_result"
    },
    {
     "data": {
      "image/png": "[encoded data removed]",
      "text/plain": [
       "<Figure size 625x200 with 1 Axes>"
      ]
     },
     "metadata": {
      "image/png": {
       "height": 201,
       "width": 564
      }
     },
     "output_type": "display_data"
    }
   ],
   "source": [
    "from scipy.stats import norm, ttest_1samp\n",
    "\n",
    "muK = 1000\n",
    "sigmaK = 10\n",
    "rvK = norm(muK, sigmaK)\n",
    "\n",
    "pvals = []\n",
    "for j in range(0, 10000):\n",
    "    sample = rvK.rvs(20)\n",
    "    res = ttest_1samp(sample, popmean=muK, alternative=\"greater\")\n",
    "    pvals.append(res.pvalue)\n",
    "\n",
    "sns.histplot(pvals, bins=60)"
   ]
  },
  {
   "cell_type": "markdown",
   "id": "025f07b0-2443-4e6a-9779-6173bf37aa20",
   "metadata": {},
   "source": [
    "### Verifying confidence intervals"
   ]
  },
  {
   "cell_type": "code",
   "execution_count": 34,
   "id": "6bfd78ff-0981-48c4-9b9c-4a51b61b57b6",
   "metadata": {},
   "outputs": [
    {
     "data": {
      "text/plain": [
       "0.9049"
      ]
     },
     "execution_count": 34,
     "metadata": {},
     "output_type": "execute_result"
    }
   ],
   "source": [
    "import numpy as np\n",
    "np.random.seed(10)\n",
    "\n",
    "muK = 1000\n",
    "sigmaK = 10\n",
    "rvK = norm(muK, sigmaK)\n",
    "\n",
    "count = 0\n",
    "for j in range(0, 10000):\n",
    "    sample = rvK.rvs(20)\n",
    "    res = ttest_1samp(sample, popmean=1000)\n",
    "    ci = res.confidence_interval(confidence_level=0.90)\n",
    "    if ci.low <= muK <= ci.high:\n",
    "        count = count + 1\n",
    "\n",
    "count / 10000"
   ]
  },
  {
   "cell_type": "code",
   "execution_count": null,
   "id": "4230b1f6-e1c3-4958-86e4-0b610cd248f8",
   "metadata": {},
   "outputs": [],
   "source": []
  },
  {
   "cell_type": "code",
   "execution_count": null,
   "id": "bf862f60-b37e-42eb-b738-6e081f79110b",
   "metadata": {},
   "outputs": [],
   "source": []
  },
  {
   "cell_type": "code",
   "execution_count": null,
   "id": "9ce3f0d2-c485-467a-a0fd-10d10f980fa2",
   "metadata": {},
   "outputs": [],
   "source": []
  },
  {
   "cell_type": "markdown",
   "id": "1de45e91-cf6d-4c20-8d06-100488b548ad",
   "metadata": {},
   "source": [
    "### Resampling methods"
   ]
  },
  {
   "cell_type": "markdown",
   "id": "3029a7e9-2f11-4b1f-a179-947df756fd2d",
   "metadata": {},
   "source": [
    "#### Bootstrap estimation"
   ]
  },
  {
   "cell_type": "markdown",
   "id": "f879348d-1bf5-434f-af5b-84ff45a20294",
   "metadata": {},
   "source": [
    "Generate 5000 bootstrap samples (sampling with replacement) from the sample `pricesW`.\n",
    "Use the bootstrap samples to approximate the sampling distribution of the mean."
   ]
  },
  {
   "cell_type": "code",
   "execution_count": 76,
   "id": "c7b71806-22c0-4ae0-9433-c1385e589be8",
   "metadata": {},
   "outputs": [
    {
     "data": {
      "text/plain": [
       "<AxesSubplot: ylabel='Count'>"
      ]
     },
     "execution_count": 76,
     "metadata": {},
     "output_type": "execute_result"
    },
    {
     "data": {
      "image/png": "[encoded data removed]",
      "text/plain": [
       "<Figure size 625x200 with 1 Axes>"
      ]
     },
     "metadata": {
      "image/png": {
       "height": 201,
       "width": 564
      }
     },
     "output_type": "display_data"
    }
   ],
   "source": [
    "n = len(pricesW)\n",
    "xbars_boot = []\n",
    "for i in range(0, 5000):\n",
    "    bsample = np.random.choice(pricesW, n, replace=True)\n",
    "    xbar_boot = mean(bsample)\n",
    "    xbars_boot.append(xbar_boot)\n",
    "\n",
    "sns.histplot(xbars_boot)"
   ]
  },
  {
   "cell_type": "code",
   "execution_count": null,
   "id": "7c5b254d-d587-488f-8037-89d17e45f7d2",
   "metadata": {},
   "outputs": [],
   "source": []
  },
  {
   "cell_type": "markdown",
   "id": "8b0a8e9e-3e3b-4ed8-9927-a546792932c3",
   "metadata": {},
   "source": [
    "#### Permutation test"
   ]
  },
  {
   "cell_type": "code",
   "execution_count": 55,
   "id": "a2048344-6944-4674-a870-97252b2a88b7",
   "metadata": {},
   "outputs": [
    {
     "data": {
      "text/plain": [
       "3.0"
      ]
     },
     "execution_count": 55,
     "metadata": {},
     "output_type": "execute_result"
    }
   ],
   "source": [
    "# TODO: simplify\n",
    "\n",
    "def dmeans(xsample, ysample):\n",
    "    dhat = mean(xsample) - mean(ysample)\n",
    "    return dhat\n",
    "\n",
    "# Calculate the observed difference between means\n",
    "dprice = dmeans(pricesW, pricesE)\n",
    "dprice"
   ]
  },
  {
   "cell_type": "markdown",
   "id": "603905d8-59ae-457c-8535-852a6b54665f",
   "metadata": {},
   "source": [
    "Obtain sampling distribution of the difference between means under the null hypothesis."
   ]
  },
  {
   "cell_type": "code",
   "execution_count": 74,
   "id": "cb0fd666-98ba-4a13-aa05-782b095886d8",
   "metadata": {},
   "outputs": [],
   "source": [
    "np.random.seed(42)\n",
    "\n",
    "pdhats = []\n",
    "for i in range(0, 10000):\n",
    "    prices = np.concatenate((pricesW, pricesE))\n",
    "    shuffled_prices = np.random.permutation(prices)\n",
    "    psampleW = shuffled_prices[0:len(pricesW)]\n",
    "    psampleE = shuffled_prices[len(pricesW):]\n",
    "    pdhat = dmeans(psampleW, psampleE)\n",
    "    pdhats.append(pdhat)"
   ]
  },
  {
   "cell_type": "markdown",
   "id": "f509ba5b-62e2-4710-90e7-29395685ff4b",
   "metadata": {},
   "source": [
    "Compute the p-value of the observed difference between means `dprice` under the null hypothesis."
   ]
  },
  {
   "cell_type": "code",
   "execution_count": 78,
   "id": "8cd155d6-635b-4b87-ba69-d731e27722f5",
   "metadata": {},
   "outputs": [
    {
     "data": {
      "text/plain": [
       "0.0002"
      ]
     },
     "execution_count": 78,
     "metadata": {},
     "output_type": "execute_result"
    }
   ],
   "source": [
    "tails = [d for d in pdhats if abs(d) > dprice]\n",
    "pvalue = len(tails) / len(pdhats)\n",
    "pvalue"
   ]
  },
  {
   "cell_type": "code",
   "execution_count": 83,
   "id": "77788fef-cb44-4123-b71a-553f7206b9c5",
   "metadata": {},
   "outputs": [
    {
     "data": {
      "image/png": "[encoded data removed]",
      "text/plain": [
       "<Figure size 625x200 with 1 Axes>"
      ]
     },
     "metadata": {
      "image/png": {
       "height": 201,
       "width": 568
      }
     },
     "output_type": "display_data"
    }
   ],
   "source": [
    "# plot the sampling distribution in blue\n",
    "ax = sns.histplot(pdhats, bins=100)\n",
    "\n",
    "# plot red line for the observed statistic\n",
    "plt.axvline(dprice, color=\"red\")\n",
    "\n",
    "# plot the values that are equal or more extreme in red\n",
    "sns.histplot(tails, ax=ax, bins=100, color=\"red\")\n",
    "_ = ax.set_ylabel(\"$f_{\\widehat{D}_0}$\")"
   ]
  },
  {
   "cell_type": "code",
   "execution_count": null,
   "id": "f812d89a-d782-4879-a7f0-51b587ca2a51",
   "metadata": {},
   "outputs": [],
   "source": []
  },
  {
   "cell_type": "markdown",
   "id": "345999ef-eab8-4c4d-b590-38cffc41460f",
   "metadata": {},
   "source": [
    "### Data cleaning"
   ]
  },
  {
   "cell_type": "code",
   "execution_count": 38,
   "id": "70161723-bfab-4810-9cef-49cff61aa74d",
   "metadata": {},
   "outputs": [
    {
     "data": {
      "text/html": [
       "<div>\n",
       "<style scoped>\n",
       "    .dataframe tbody tr th:only-of-type {\n",
       "        vertical-align: middle;\n",
       "    }\n",
       "\n",
       "    .dataframe tbody tr th {\n",
       "        vertical-align: top;\n",
       "    }\n",
       "\n",
       "    .dataframe thead th {\n",
       "        text-align: right;\n",
       "    }\n",
       "</style>\n",
       "<table border=\"1\" class=\"dataframe\">\n",
       "  <thead>\n",
       "    <tr style=\"text-align: right;\">\n",
       "      <th></th>\n",
       "      <th>East</th>\n",
       "      <th>West</th>\n",
       "    </tr>\n",
       "  </thead>\n",
       "  <tbody>\n",
       "    <tr>\n",
       "      <th>0</th>\n",
       "      <td>7.7</td>\n",
       "      <td>11.8</td>\n",
       "    </tr>\n",
       "    <tr>\n",
       "      <th>1</th>\n",
       "      <td>5.9</td>\n",
       "      <td>10.0</td>\n",
       "    </tr>\n",
       "    <tr>\n",
       "      <th>2</th>\n",
       "      <td>7.0</td>\n",
       "      <td>11.0</td>\n",
       "    </tr>\n",
       "    <tr>\n",
       "      <th>3</th>\n",
       "      <td>4.8</td>\n",
       "      <td>8.6</td>\n",
       "    </tr>\n",
       "    <tr>\n",
       "      <th>4</th>\n",
       "      <td>6.3</td>\n",
       "      <td>8.3</td>\n",
       "    </tr>\n",
       "    <tr>\n",
       "      <th>5</th>\n",
       "      <td>6.3</td>\n",
       "      <td>9.4</td>\n",
       "    </tr>\n",
       "    <tr>\n",
       "      <th>6</th>\n",
       "      <td>5.5</td>\n",
       "      <td>8.0</td>\n",
       "    </tr>\n",
       "    <tr>\n",
       "      <th>7</th>\n",
       "      <td>5.4</td>\n",
       "      <td>6.8</td>\n",
       "    </tr>\n",
       "    <tr>\n",
       "      <th>8</th>\n",
       "      <td>6.5</td>\n",
       "      <td>8.5</td>\n",
       "    </tr>\n",
       "  </tbody>\n",
       "</table>\n",
       "</div>"
      ],
      "text/plain": [
       "   East  West\n",
       "0   7.7  11.8\n",
       "1   5.9  10.0\n",
       "2   7.0  11.0\n",
       "3   4.8   8.6\n",
       "4   6.3   8.3\n",
       "5   6.3   9.4\n",
       "6   5.5   8.0\n",
       "7   5.4   6.8\n",
       "8   6.5   8.5"
      ]
     },
     "execution_count": 38,
     "metadata": {},
     "output_type": "execute_result"
    }
   ],
   "source": [
    "import pandas as pd\n",
    "\n",
    "DATA_URL = \"https://raw.githubusercontent.com/minireference/noBSstatsnotebooks/main/datasets/epriceswide.csv\"\n",
    "epriceswide = pd.read_csv(DATA_URL)\n",
    "epriceswide"
   ]
  },
  {
   "cell_type": "code",
   "execution_count": null,
   "id": "ebea8e2d-57ad-4b45-ab9e-3915b0eb843e",
   "metadata": {},
   "outputs": [],
   "source": []
  },
  {
   "cell_type": "markdown",
   "id": "7a20430b-47bc-4eed-b536-d2c220f6bc3b",
   "metadata": {},
   "source": [
    "click [here](https://pandastutor.com/vis.html#code=import%20pandas%20as%20pd%0Aimport%20io%0A%0Aepriceswide_csv%20%3D%20'''%0AEast,West%0A7.7,11.8%0A5.9,10.0%0A7.0,11.0%0A4.8,8.6%0A6.3,8.3%0A6.3,9.4%0A5.5,8.0%0A5.4,6.8%0A6.5,8.5%0A'''%0A%0Aepriceswide%20%3D%20pd.read_csv%28io.StringIO%28epriceswide_csv%29%29%0A%0Aepriceswide.melt%28var_name%3D%22end%22,%20value_name%3D%22price%22%29&d=2023-07-02&lang=py&v=v1) to see a visualization of the melt operation."
   ]
  },
  {
   "cell_type": "code",
   "execution_count": 39,
   "id": "f2172968-641c-4951-a722-029ac2bc853b",
   "metadata": {},
   "outputs": [
    {
     "data": {
      "text/html": [
       "<div>\n",
       "<style scoped>\n",
       "    .dataframe tbody tr th:only-of-type {\n",
       "        vertical-align: middle;\n",
       "    }\n",
       "\n",
       "    .dataframe tbody tr th {\n",
       "        vertical-align: top;\n",
       "    }\n",
       "\n",
       "    .dataframe thead th {\n",
       "        text-align: right;\n",
       "    }\n",
       "</style>\n",
       "<table border=\"1\" class=\"dataframe\">\n",
       "  <thead>\n",
       "    <tr style=\"text-align: right;\">\n",
       "      <th></th>\n",
       "      <th>end</th>\n",
       "      <th>price</th>\n",
       "    </tr>\n",
       "  </thead>\n",
       "  <tbody>\n",
       "    <tr>\n",
       "      <th>0</th>\n",
       "      <td>East</td>\n",
       "      <td>7.7</td>\n",
       "    </tr>\n",
       "    <tr>\n",
       "      <th>1</th>\n",
       "      <td>East</td>\n",
       "      <td>5.9</td>\n",
       "    </tr>\n",
       "    <tr>\n",
       "      <th>2</th>\n",
       "      <td>East</td>\n",
       "      <td>7.0</td>\n",
       "    </tr>\n",
       "    <tr>\n",
       "      <th>3</th>\n",
       "      <td>East</td>\n",
       "      <td>4.8</td>\n",
       "    </tr>\n",
       "    <tr>\n",
       "      <th>4</th>\n",
       "      <td>East</td>\n",
       "      <td>6.3</td>\n",
       "    </tr>\n",
       "    <tr>\n",
       "      <th>5</th>\n",
       "      <td>East</td>\n",
       "      <td>6.3</td>\n",
       "    </tr>\n",
       "    <tr>\n",
       "      <th>6</th>\n",
       "      <td>East</td>\n",
       "      <td>5.5</td>\n",
       "    </tr>\n",
       "    <tr>\n",
       "      <th>7</th>\n",
       "      <td>East</td>\n",
       "      <td>5.4</td>\n",
       "    </tr>\n",
       "    <tr>\n",
       "      <th>8</th>\n",
       "      <td>East</td>\n",
       "      <td>6.5</td>\n",
       "    </tr>\n",
       "    <tr>\n",
       "      <th>9</th>\n",
       "      <td>West</td>\n",
       "      <td>11.8</td>\n",
       "    </tr>\n",
       "    <tr>\n",
       "      <th>10</th>\n",
       "      <td>West</td>\n",
       "      <td>10.0</td>\n",
       "    </tr>\n",
       "    <tr>\n",
       "      <th>11</th>\n",
       "      <td>West</td>\n",
       "      <td>11.0</td>\n",
       "    </tr>\n",
       "    <tr>\n",
       "      <th>12</th>\n",
       "      <td>West</td>\n",
       "      <td>8.6</td>\n",
       "    </tr>\n",
       "    <tr>\n",
       "      <th>13</th>\n",
       "      <td>West</td>\n",
       "      <td>8.3</td>\n",
       "    </tr>\n",
       "    <tr>\n",
       "      <th>14</th>\n",
       "      <td>West</td>\n",
       "      <td>9.4</td>\n",
       "    </tr>\n",
       "    <tr>\n",
       "      <th>15</th>\n",
       "      <td>West</td>\n",
       "      <td>8.0</td>\n",
       "    </tr>\n",
       "    <tr>\n",
       "      <th>16</th>\n",
       "      <td>West</td>\n",
       "      <td>6.8</td>\n",
       "    </tr>\n",
       "    <tr>\n",
       "      <th>17</th>\n",
       "      <td>West</td>\n",
       "      <td>8.5</td>\n",
       "    </tr>\n",
       "  </tbody>\n",
       "</table>\n",
       "</div>"
      ],
      "text/plain": [
       "     end  price\n",
       "0   East    7.7\n",
       "1   East    5.9\n",
       "2   East    7.0\n",
       "3   East    4.8\n",
       "4   East    6.3\n",
       "5   East    6.3\n",
       "6   East    5.5\n",
       "7   East    5.4\n",
       "8   East    6.5\n",
       "9   West   11.8\n",
       "10  West   10.0\n",
       "11  West   11.0\n",
       "12  West    8.6\n",
       "13  West    8.3\n",
       "14  West    9.4\n",
       "15  West    8.0\n",
       "16  West    6.8\n",
       "17  West    8.5"
      ]
     },
     "execution_count": 39,
     "metadata": {},
     "output_type": "execute_result"
    }
   ],
   "source": [
    "eprices = pd.melt(epriceswide, var_name=\"end\", value_name='price')\n",
    "eprices"
   ]
  },
  {
   "cell_type": "code",
   "execution_count": 40,
   "id": "37ed70f2-0a06-42bb-be5f-9bef646f44f2",
   "metadata": {},
   "outputs": [
    {
     "data": {
      "text/plain": [
       "(array([11.8, 10. , 11. ,  8.6,  8.3,  9.4,  8. ,  6.8,  8.5]),\n",
       " array([7.7, 5.9, 7. , 4.8, 6.3, 6.3, 5.5, 5.4, 6.5]))"
      ]
     },
     "execution_count": 40,
     "metadata": {},
     "output_type": "execute_result"
    }
   ],
   "source": [
    "pricesW = eprices[eprices[\"end\"]==\"West\"][\"price\"]\n",
    "pricesE = eprices[eprices[\"end\"]==\"East\"][\"price\"]\n",
    "\n",
    "pricesW.values, pricesE.values"
   ]
  },
  {
   "cell_type": "markdown",
   "id": "f84ed421-3c6e-40cf-bd87-53d286620a07",
   "metadata": {},
   "source": [
    "### Statistics procedures as code"
   ]
  },
  {
   "cell_type": "code",
   "execution_count": null,
   "id": "a362074c-72c6-477c-8245-2af319c0a390",
   "metadata": {},
   "outputs": [],
   "source": []
  },
  {
   "cell_type": "code",
   "execution_count": 41,
   "id": "c717d785-0490-4807-97a3-4c8c94666e95",
   "metadata": {},
   "outputs": [],
   "source": [
    "def gen_sampling_dist(rv, estfunc, n, N=10000):\n",
    "    \"\"\"\n",
    "    Simulate `N` samples of size `n` from the random variable `rv` to\n",
    "    generate the sampling distribution of the estimator `estfunc`.\n",
    "    \"\"\"\n",
    "    estimates = []\n",
    "    for i in range(0, N):\n",
    "        sample = rv.rvs(n)\n",
    "        estimate = estfunc(sample)\n",
    "        estimates.append(estimate)\n",
    "    return estimates"
   ]
  },
  {
   "cell_type": "code",
   "execution_count": 42,
   "id": "6ddb08ce-799d-4388-9371-95dcd47866e3",
   "metadata": {},
   "outputs": [],
   "source": [
    "def gen_boot_dist(sample, estfunc, B=5000):\n",
    "    \"\"\"\n",
    "    Generate estimates from the sampling distribution of the estimator `estfunc`\n",
    "    based on `B` bootstrap samples (sampling with replacement) from `sample`.\n",
    "    \"\"\"\n",
    "    n = len(sample)\n",
    "    bestimates = []\n",
    "    for i in range(0, B):\n",
    "        bsample = np.random.choice(sample, n, replace=True)\n",
    "        bestimate = estfunc(bsample)\n",
    "        bestimates.append(bestimate)\n",
    "    return bestimates"
   ]
  },
  {
   "cell_type": "code",
   "execution_count": null,
   "id": "306804e4-e8e5-47a8-a636-bc9cadf0ff19",
   "metadata": {},
   "outputs": [],
   "source": []
  },
  {
   "cell_type": "code",
   "execution_count": 43,
   "id": "a3359c3d-32b2-44bc-863a-c35c2a8e5e24",
   "metadata": {},
   "outputs": [],
   "source": [
    "def permutation_test(xsample, ysample, estfunc, P=10000):\n",
    "    \"\"\"\n",
    "    Compute the p-value of the observed estimate `estfunc(xsample,ysample)`\n",
    "    under the null hypothesis where the group membership is randomized.\n",
    "    \"\"\"\n",
    "    # 1. Compute the observed value of `estfunc`\n",
    "    obsest = estfunc(xsample, ysample)\n",
    "\n",
    "    # 2. Get sampling dist. of `estfunc` under H0\n",
    "    pestimates = []\n",
    "    for i in range(0, P):\n",
    "        rsx, rsy = resample_under_H0(xsample, ysample)\n",
    "        pestimate = estfunc(rsx, rsy)\n",
    "        pestimates.append(pestimate)\n",
    "\n",
    "    # 3. Compute the p-value\n",
    "    tails = tailvalues(pestimates, obsest)\n",
    "    pvalue = len(tails) / len(pestimates)\n",
    "    return pvalue"
   ]
  },
  {
   "cell_type": "markdown",
   "id": "d23d66f9-3842-41c4-b6d4-48e039a9c42b",
   "metadata": {},
   "source": [
    "## How much Python do you need?"
   ]
  },
  {
   "cell_type": "code",
   "execution_count": null,
   "id": "a90f6557-3795-4d72-915d-68f279a142a4",
   "metadata": {},
   "outputs": [],
   "source": []
  },
  {
   "cell_type": "code",
   "execution_count": null,
   "id": "56f42acc-f9a3-41f9-ad8d-6a0f7b4354ab",
   "metadata": {},
   "outputs": [],
   "source": []
  },
  {
   "cell_type": "markdown",
   "id": "28fae377-556f-4e40-b477-5add145298ea",
   "metadata": {},
   "source": [
    "## Conclusion"
   ]
  },
  {
   "cell_type": "code",
   "execution_count": null,
   "id": "6b8b889a-ed0b-430d-aa3c-41cdf55eb398",
   "metadata": {},
   "outputs": [],
   "source": []
  },
  {
   "cell_type": "code",
   "execution_count": null,
   "id": "da44e889-59e3-4e3b-976b-ae212d605da1",
   "metadata": {},
   "outputs": [],
   "source": []
  },
  {
   "cell_type": "code",
   "execution_count": null,
   "id": "25a8565a-46ed-45e4-9515-719c8ab0dbfa",
   "metadata": {},
   "outputs": [],
   "source": []
  },
  {
   "cell_type": "code",
   "execution_count": null,
   "id": "fc178ca0-6e03-43cf-8ad5-c70bd3acb284",
   "metadata": {},
   "outputs": [],
   "source": []
  },
  {
   "cell_type": "markdown",
   "id": "b82d61a6-7c4b-4118-b9ca-c0850aba6621",
   "metadata": {},
   "source": [
    "_____"
   ]
  },
  {
   "cell_type": "markdown",
   "id": "345abe39-4b08-4ec3-8f8f-e0744cccf067",
   "metadata": {},
   "source": [
    "# CUT MATERIAL"
   ]
  },
  {
   "cell_type": "markdown",
   "id": "c55a4b4b-af80-455c-94ea-5c4fdc526db1",
   "metadata": {},
   "source": [
    "#### Pandas equivalent"
   ]
  },
  {
   "cell_type": "code",
   "execution_count": 44,
   "id": "6ad028fd-5c2d-4423-a113-42f883ab3538",
   "metadata": {},
   "outputs": [
    {
     "data": {
      "text/plain": [
       "75.0"
      ]
     },
     "execution_count": 44,
     "metadata": {},
     "output_type": "execute_result"
    }
   ],
   "source": [
    "import pandas as pd\n",
    "gseries = pd.Series(grades)\n",
    "gseries.mean()"
   ]
  },
  {
   "cell_type": "code",
   "execution_count": null,
   "id": "3304087a-cf2c-4243-9c24-a85f43c69795",
   "metadata": {},
   "outputs": [],
   "source": []
  },
  {
   "cell_type": "markdown",
   "id": "7ce05d09-db37-41c1-b083-0df4f34a16f9",
   "metadata": {},
   "source": [
    "$N \\sim \\mathcal{N}(\\mu,\\sigma)$ has the probability density function:\n",
    "\n",
    "$$\n",
    "    f_N(x) = \\tfrac{1}{\\sigma\\sqrt{2\\pi}} e^{ -\\frac{1}{2} \\left( \\frac{x-\\mu}{\\sigma} \\right)^2 },\n",
    "$$\n",
    "\n",
    "where $\\mu$ is the mean and $\\sigma$ is the standard deviation.\n",
    "We use the notation $\\mathcal{N}(\\mu, \\sigma)$ to describe the distribution as math,\n",
    "and `norm(mu,sigma)` to describe as computer model."
   ]
  },
  {
   "cell_type": "code",
   "execution_count": null,
   "id": "2eb43e7b-273d-4f31-81ac-e2927aa6fbdc",
   "metadata": {},
   "outputs": [],
   "source": []
  },
  {
   "cell_type": "code",
   "execution_count": 45,
   "id": "cbc42451-cf62-417f-a9ed-0d3c608ca935",
   "metadata": {},
   "outputs": [],
   "source": [
    "import numpy as np\n",
    "\n",
    "def fN(x, mu=0, sigma=1):\n",
    "    const = 1 / (sigma*np.sqrt(2*np.pi))\n",
    "    exp = np.exp( -1/2 * ( (x-mu)/sigma )**2 )\n",
    "    return const * exp"
   ]
  },
  {
   "cell_type": "code",
   "execution_count": 46,
   "id": "e526f8ba-33f9-4d36-a6cf-49b655d47d03",
   "metadata": {},
   "outputs": [
    {
     "data": {
      "text/plain": [
       "0.12579440923099774"
      ]
     },
     "execution_count": 46,
     "metadata": {},
     "output_type": "execute_result"
    }
   ],
   "source": [
    "fN(3, 2, 3)"
   ]
  }
 ],
 "metadata": {
  "kernelspec": {
   "display_name": "Python 3 (ipykernel)",
   "language": "python",
   "name": "python3"
  },
  "language_info": {
   "codemirror_mode": {
    "name": "ipython",
    "version": 3
   },
   "file_extension": ".py",
   "mimetype": "text/x-python",
   "name": "python",
   "nbconvert_exporter": "python",
   "pygments_lexer": "ipython3",
   "version": "3.9.4"
  }
 },
 "nbformat": 4,
 "nbformat_minor": 5
}
