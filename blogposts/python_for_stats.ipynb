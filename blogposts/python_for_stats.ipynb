{
 "cells": [
  {
   "cell_type": "markdown",
   "id": "59db57ac-d174-4c88-b395-2204273a30f1",
   "metadata": {},
   "source": [
    "# Using Python for STATS"
   ]
  },
  {
   "cell_type": "code",
   "execution_count": null,
   "id": "905008b0-1da0-4c1d-b48a-e76c8135077b",
   "metadata": {},
   "outputs": [],
   "source": []
  },
  {
   "cell_type": "markdown",
   "id": "282bf6aa-0555-4852-9a6b-1b58eb935b1c",
   "metadata": {},
   "source": [
    "See [blog post here (draft in gdoc)](https://docs.google.com/document/d/16WJnYeezBevUBvsYpbklW04ukvrtG_8QVdfsbd15pqg/edit). \n",
    "Please leave comments, suggest-edits, or make edits directly in the gdoc."
   ]
  },
  {
   "cell_type": "markdown",
   "id": "ff950e24-931e-454c-8c45-45eb6823aa7d",
   "metadata": {
    "tags": []
   },
   "source": [
    "### Notebook setup"
   ]
  },
  {
   "cell_type": "code",
   "execution_count": 1,
   "id": "8ebe9968-ebed-4ef2-a7db-120e297258ca",
   "metadata": {},
   "outputs": [
    {
     "data": {
      "text/plain": [
       "<Figure size 640x480 with 0 Axes>"
      ]
     },
     "metadata": {},
     "output_type": "display_data"
    }
   ],
   "source": [
    "# Figures setup\n",
    "import matplotlib.pyplot as plt\n",
    "import seaborn as sns\n",
    "\n",
    "plt.clf()  # needed otherwise `sns.set_theme` doesn't work\n",
    "sns.set_theme(\n",
    "    style=\"whitegrid\",\n",
    "    rc={'figure.figsize': (6.25, 2.0)},\n",
    ")\n",
    "# High-resolution figures please\n",
    "%config InlineBackend.figure_format = 'retina'\n",
    "\n",
    "def savefig(fig, filename):\n",
    "    fig.tight_layout()\n",
    "    fig.savefig(filename, dpi=300, bbox_inches=\"tight\", pad_inches=0)"
   ]
  },
  {
   "cell_type": "markdown",
   "id": "3f689330-7def-4935-be79-520d1c0190b6",
   "metadata": {},
   "source": [
    "## What can python do for you?"
   ]
  },
  {
   "cell_type": "markdown",
   "id": "7bf445c3-2d7c-48ac-90be-84417d51f685",
   "metadata": {},
   "source": [
    "### Python as a calculator"
   ]
  },
  {
   "cell_type": "code",
   "execution_count": 2,
   "id": "6ff440f2-f2c4-4821-8af0-1bec72c2b608",
   "metadata": {},
   "outputs": [
    {
     "data": {
      "text/plain": [
       "5.5"
      ]
     },
     "execution_count": 2,
     "metadata": {},
     "output_type": "execute_result"
    }
   ],
   "source": [
    "2.1 + 3.4"
   ]
  },
  {
   "cell_type": "code",
   "execution_count": 3,
   "id": "58db3ab6-7417-4724-9deb-76dadd2e62b4",
   "metadata": {},
   "outputs": [
    {
     "data": {
      "text/plain": [
       "5.5"
      ]
     },
     "execution_count": 3,
     "metadata": {},
     "output_type": "execute_result"
    }
   ],
   "source": [
    "num1 = 2.1\n",
    "num2 = 3.4\n",
    "num1 + num2"
   ]
  },
  {
   "cell_type": "code",
   "execution_count": 4,
   "id": "305c829d-680e-4652-8399-2f55b40bee57",
   "metadata": {},
   "outputs": [
    {
     "data": {
      "text/plain": [
       "2.75"
      ]
     },
     "execution_count": 4,
     "metadata": {},
     "output_type": "execute_result"
    }
   ],
   "source": [
    "(num1 + num2) / 2"
   ]
  },
  {
   "cell_type": "code",
   "execution_count": null,
   "id": "cafb1d20-3c46-486c-856b-235a33f33b9b",
   "metadata": {},
   "outputs": [],
   "source": []
  },
  {
   "cell_type": "code",
   "execution_count": null,
   "id": "08222c31-5369-4801-b65b-4733726f534b",
   "metadata": {},
   "outputs": [],
   "source": []
  },
  {
   "cell_type": "markdown",
   "id": "a63a1efe-8635-45a9-8beb-9c9d05fad193",
   "metadata": {},
   "source": [
    "### Powerful primitives and built-ins"
   ]
  },
  {
   "cell_type": "code",
   "execution_count": 5,
   "id": "57b9fab6-d2bd-4ebf-a191-eb83f81d6a0b",
   "metadata": {},
   "outputs": [
    {
     "data": {
      "text/plain": [
       "75.0"
      ]
     },
     "execution_count": 5,
     "metadata": {},
     "output_type": "execute_result"
    }
   ],
   "source": [
    "grades = [80, 90, 70, 60]\n",
    "avg = sum(grades) / len(grades)\n",
    "avg"
   ]
  },
  {
   "cell_type": "code",
   "execution_count": null,
   "id": "1e3e7128-4902-4ee8-b83b-0e2bbfc31764",
   "metadata": {},
   "outputs": [],
   "source": []
  },
  {
   "cell_type": "markdown",
   "id": "719d9567-6585-4794-89ba-e314cc8e148e",
   "metadata": {},
   "source": [
    "### For loops"
   ]
  },
  {
   "cell_type": "code",
   "execution_count": 6,
   "id": "e097b267-e125-4f0f-bb06-5e6ef837fb48",
   "metadata": {},
   "outputs": [
    {
     "data": {
      "text/plain": [
       "75.0"
      ]
     },
     "execution_count": 6,
     "metadata": {},
     "output_type": "execute_result"
    }
   ],
   "source": [
    "total = 0\n",
    "for grade in grades:\n",
    "    total = total + grade\n",
    "avg = total / len(grades)\n",
    "avg"
   ]
  },
  {
   "cell_type": "code",
   "execution_count": null,
   "id": "31dca516-7c74-42a8-9b93-44098a0249df",
   "metadata": {},
   "outputs": [],
   "source": []
  },
  {
   "cell_type": "markdown",
   "id": "960b0808-0fff-47eb-9d7e-9069d3074c14",
   "metadata": {},
   "source": [
    "### Functions"
   ]
  },
  {
   "cell_type": "markdown",
   "id": "92fff3a7-8337-4f7a-945d-80b93292f18e",
   "metadata": {},
   "source": [
    "Python functions are ..."
   ]
  },
  {
   "cell_type": "markdown",
   "id": "31e5063f-59da-423e-a7ba-60f9e1906af3",
   "metadata": {},
   "source": [
    "To **define** the Python function,\n",
    "we use the `def` keyword followed by the function name,\n",
    "then we then specify the function input in parentheses,\n",
    "and end with the symbol `:`,\n",
    "which tells us \"body\" of the function is about to start.\n",
    "The function body is a four-spaces-indented code block that specifies all the\n",
    "calculations the function performs,\n",
    "and ends with a `return` statement for the output of the function.\n",
    "\n",
    "```\n",
    "def <fname>(<input>):\n",
    "    <fcalc 1>\n",
    "    <fcalc 2>\n",
    "    <fcalc ...>\n",
    "    return <output>\n",
    "```"
   ]
  },
  {
   "cell_type": "markdown",
   "id": "f5142273-ad49-459a-8b55-32ffccee1db1",
   "metadata": {},
   "source": [
    "#### Example\n",
    "\n",
    "We want to define a Python function `mean` that computes the mean from a given sample (a list of values).\n",
    "\n",
    "The mathematical definition of the mean is $\\mathbf{Mean}(\\mathbf{x}) = \\frac{1}{n}  \\sum_{i=1}^{i=n} x_i$,\n",
    "where $\\mathbf{x} = [x_1, x_2, x_3, \\ldots, x_n]$ is a sample of size $n$ (a list of values).\n",
    "\n",
    "The code for the function is as follows:"
   ]
  },
  {
   "cell_type": "code",
   "execution_count": 7,
   "id": "ab6e7d58-79f9-4afd-9f85-b814b45eb1bb",
   "metadata": {},
   "outputs": [],
   "source": [
    "def mean(sample):\n",
    "    total = sum(sample)\n",
    "    avg = total / len(sample)\n",
    "    return avg"
   ]
  },
  {
   "cell_type": "markdown",
   "id": "346a10de-ad20-425a-b65b-c471874a7d3e",
   "metadata": {},
   "source": [
    "To **call** the function `mean` with input `grades`, we use the Python code `mean(grades)`."
   ]
  },
  {
   "cell_type": "code",
   "execution_count": 8,
   "id": "ab56d567-0758-4b70-9b97-fb2cd1283deb",
   "metadata": {},
   "outputs": [
    {
     "data": {
      "text/plain": [
       "75.0"
      ]
     },
     "execution_count": 8,
     "metadata": {},
     "output_type": "execute_result"
    }
   ],
   "source": [
    "grades = [80, 90, 70, 60]\n",
    "mean(grades)"
   ]
  },
  {
   "cell_type": "code",
   "execution_count": null,
   "id": "27fb12e5-59f2-4374-9331-34c5919ee15d",
   "metadata": {},
   "outputs": [],
   "source": []
  },
  {
   "cell_type": "markdown",
   "id": "795538a1-fa68-43c8-b8ce-461d67d57842",
   "metadata": {},
   "source": [
    "#### Math function example (bonus topic)\n",
    "\n",
    "In math, \n",
    "a function is a mapping from input values (usually denoted x) to output values (usually denoted y).\n",
    "Consider the mapping that doubles the input and adds five to it,\n",
    "which we can express as the math function $f(x) = 2x+5$.\n",
    "For any input $x$,\n",
    "the output of the function $f$ is denoted $f(x)$ and is equal to $2x+5$.\n",
    "For example, $f(3)$ describes the output of the function when the input is $x=3$,\n",
    "and it is equal to $2(3)+5 = 6 + 5 = 11$.\n",
    "The Python equivalent of the math function $f(x) = 2x+5$ is shown below. "
   ]
  },
  {
   "cell_type": "code",
   "execution_count": 9,
   "id": "00fd3024-4329-4899-af02-2023a5e722f1",
   "metadata": {},
   "outputs": [],
   "source": [
    "def f(x):\n",
    "    y = 2*x + 5\n",
    "    return y"
   ]
  },
  {
   "cell_type": "markdown",
   "id": "87abe9ef-97b1-4744-816b-7619539eff4e",
   "metadata": {},
   "source": [
    "To **call** the function `f` with input `x`, we simply writhe `f(x)` in Python,\n",
    "which is the same as the math notation we use for \"evaluate the function at the value x.\""
   ]
  },
  {
   "cell_type": "code",
   "execution_count": 10,
   "id": "88d9656c-913f-4617-999b-d98460ec070d",
   "metadata": {},
   "outputs": [
    {
     "data": {
      "text/plain": [
       "11"
      ]
     },
     "execution_count": 10,
     "metadata": {},
     "output_type": "execute_result"
    }
   ],
   "source": [
    "f(3)"
   ]
  },
  {
   "cell_type": "code",
   "execution_count": 11,
   "id": "2d8c7281-2d21-4f92-8951-4ef76cd99144",
   "metadata": {},
   "outputs": [],
   "source": [
    "## Exercise: plot the graph of the function f(x)"
   ]
  },
  {
   "cell_type": "code",
   "execution_count": null,
   "id": "8e594bc0-f90c-43fd-ac9f-a82082d42ce1",
   "metadata": {},
   "outputs": [],
   "source": []
  },
  {
   "cell_type": "markdown",
   "id": "2483aa87-3da4-4b21-9f1c-be9899ba851f",
   "metadata": {},
   "source": [
    "## Why do you need coding for statistics?"
   ]
  },
  {
   "cell_type": "markdown",
   "id": "3fdcf50f-49c5-4368-a924-ce53289cf298",
   "metadata": {},
   "source": [
    "### Data visualization"
   ]
  },
  {
   "cell_type": "code",
   "execution_count": 12,
   "id": "a70a4bc4-50a7-4b50-8706-b2295bf57eb4",
   "metadata": {},
   "outputs": [],
   "source": [
    "pricesW = [11.8, 10, 11, 8.6, 8.3, 9.4, 8, 6.8, 8.5]"
   ]
  },
  {
   "cell_type": "code",
   "execution_count": 13,
   "id": "5891ee22-6a6c-416d-a1bb-b283bb6a6519",
   "metadata": {},
   "outputs": [
    {
     "data": {
      "text/plain": [
       "<Axes: >"
      ]
     },
     "execution_count": 13,
     "metadata": {},
     "output_type": "execute_result"
    },
    {
     "data": {
      "image/png": "[encoded data removed]",
      "text/plain": [
       "<Figure size 625x200 with 1 Axes>"
      ]
     },
     "metadata": {
      "image/png": {
       "height": 201,
       "width": 508
      }
     },
     "output_type": "display_data"
    }
   ],
   "source": [
    "import seaborn as sns\n",
    "sns.stripplot(x=pricesW, jitter=0)"
   ]
  },
  {
   "cell_type": "code",
   "execution_count": 14,
   "id": "02caade4-678c-4681-893b-04e22a865903",
   "metadata": {},
   "outputs": [
    {
     "data": {
      "text/plain": [
       "<Axes: ylabel='Count'>"
      ]
     },
     "execution_count": 14,
     "metadata": {},
     "output_type": "execute_result"
    },
    {
     "data": {
      "image/png": "[encoded data removed]",
      "text/plain": [
       "<Figure size 625x200 with 1 Axes>"
      ]
     },
     "metadata": {
      "image/png": {
       "height": 201,
       "width": 551
      }
     },
     "output_type": "display_data"
    }
   ],
   "source": [
    "sns.histplot(x=pricesW)"
   ]
  },
  {
   "cell_type": "code",
   "execution_count": 15,
   "id": "8455cb4d-6c7b-4341-80a2-bd67126f5383",
   "metadata": {},
   "outputs": [
    {
     "data": {
      "text/plain": [
       "<Axes: >"
      ]
     },
     "execution_count": 15,
     "metadata": {},
     "output_type": "execute_result"
    },
    {
     "data": {
      "image/png": "[encoded data removed]",
      "text/plain": [
       "<Figure size 625x200 with 1 Axes>"
      ]
     },
     "metadata": {
      "image/png": {
       "height": 201,
       "width": 508
      }
     },
     "output_type": "display_data"
    }
   ],
   "source": [
    "sns.boxplot(x=pricesW)"
   ]
  },
  {
   "cell_type": "code",
   "execution_count": 16,
   "id": "7d6743af-1055-416f-9e1d-517c2ef1e988",
   "metadata": {},
   "outputs": [
    {
     "data": {
      "image/png": "[encoded data removed]",
      "text/plain": [
       "<Figure size 800x200 with 3 Axes>"
      ]
     },
     "metadata": {
      "image/png": {
       "height": 184,
       "width": 783
      }
     },
     "output_type": "display_data"
    }
   ],
   "source": [
    "# FIGURES ONLY\n",
    "import matplotlib.pyplot as plt\n",
    "import seaborn as sns\n",
    "with plt.rc_context({\"figure.figsize\":(8,2)}):\n",
    "    fig, (ax1, ax2, ax3) = plt.subplots(1,3)\n",
    "\n",
    "    ax1.set_title(\"(a) strip plot\")\n",
    "    sns.stripplot(x=pricesW, ax=ax1, jitter=0)\n",
    "    ax1.set_xticks(range(7,13))\n",
    "\n",
    "    ax2.set_title(\"(b) hist plot\")\n",
    "    sns.histplot(x=pricesW, ax=ax2)\n",
    "    ax2.set_xticks(range(7,13))\n",
    "    ax2.set_yticks(range(0,5))\n",
    "\n",
    "    ax3.set_title(\"(c) box plot\")\n",
    "    sns.boxplot(x=pricesW, ax=ax3)\n",
    "    ax3.set_xticks(range(7,13))\n",
    "\n",
    "savefig(fig, \"figures/epricesW_strip_hist_box_plots.png\")"
   ]
  },
  {
   "cell_type": "code",
   "execution_count": null,
   "id": "821cd7f4-9a4a-4c0f-b541-26c5b24abc6f",
   "metadata": {},
   "outputs": [],
   "source": []
  },
  {
   "cell_type": "code",
   "execution_count": null,
   "id": "8e2d5bc9-fb90-4076-af3a-5d1199767b42",
   "metadata": {},
   "outputs": [],
   "source": []
  },
  {
   "cell_type": "markdown",
   "id": "d501518b-8e77-4f7d-9346-82f3c071c1e0",
   "metadata": {},
   "source": [
    "### Descriptive statistics"
   ]
  },
  {
   "cell_type": "code",
   "execution_count": 17,
   "id": "a746d4e7-a90b-498f-ac4b-67521aadd149",
   "metadata": {},
   "outputs": [
    {
     "data": {
      "text/plain": [
       "9"
      ]
     },
     "execution_count": 17,
     "metadata": {},
     "output_type": "execute_result"
    }
   ],
   "source": [
    "len(pricesW)"
   ]
  },
  {
   "cell_type": "code",
   "execution_count": 18,
   "id": "71a0a111-acc0-4140-ad01-49a3959e5ee9",
   "metadata": {},
   "outputs": [
    {
     "data": {
      "text/plain": [
       "9.155555555555555"
      ]
     },
     "execution_count": 18,
     "metadata": {},
     "output_type": "execute_result"
    }
   ],
   "source": [
    "mean(pricesW)"
   ]
  },
  {
   "cell_type": "code",
   "execution_count": null,
   "id": "a955b21c-5666-4483-ad88-c70a769ea8b4",
   "metadata": {},
   "outputs": [],
   "source": []
  },
  {
   "cell_type": "markdown",
   "id": "5727115b-f58d-44ca-bf14-98eca6ac0ea4",
   "metadata": {},
   "source": [
    "#### Data manipulations using Pandas"
   ]
  },
  {
   "cell_type": "code",
   "execution_count": 19,
   "id": "e4b22ff8-db8a-413b-bc55-61f2b64a0de9",
   "metadata": {},
   "outputs": [
    {
     "name": "stdout",
     "output_type": "stream",
     "text": [
      "   East  West\n",
      "0   7.7  11.8\n",
      "1   5.9  10.0\n",
      "2   7.0  11.0\n",
      "3   4.8   8.6\n",
      "4   6.3   8.3\n",
      "5   6.3   9.4\n",
      "6   5.5   8.0\n",
      "7   5.4   6.8\n",
      "8   6.5   8.5\n"
     ]
    }
   ],
   "source": [
    "DATA_URL = \"https://nobsstats.com/datasets/epriceswide.csv\"\n",
    "\n",
    "import pandas as pd\n",
    "epriceswide = pd.read_csv(DATA_URL)\n",
    "print(epriceswide)"
   ]
  },
  {
   "cell_type": "code",
   "execution_count": 20,
   "id": "38c52689-1b5a-4053-8f76-c10a7b76cd72",
   "metadata": {},
   "outputs": [],
   "source": [
    "pricesW = epriceswide[\"West\"]"
   ]
  },
  {
   "cell_type": "code",
   "execution_count": 21,
   "id": "927b21a6-7b75-4ac5-b93c-2b5632e0b608",
   "metadata": {},
   "outputs": [
    {
     "data": {
      "text/plain": [
       "pandas.core.series.Series"
      ]
     },
     "execution_count": 21,
     "metadata": {},
     "output_type": "execute_result"
    }
   ],
   "source": [
    "type(pricesW)"
   ]
  },
  {
   "cell_type": "code",
   "execution_count": 22,
   "id": "cd3b487a-545b-4680-b315-2e7d0471d63d",
   "metadata": {},
   "outputs": [],
   "source": [
    "# # ALT. we can input data by specifying lists of values\n",
    "# pricesW = pd.Series([11.8,10,11,8.6,8.3,9.4,8,6.8,8.5])"
   ]
  },
  {
   "cell_type": "code",
   "execution_count": null,
   "id": "5cba1717-1e3b-4f94-b908-9c15381ce079",
   "metadata": {},
   "outputs": [],
   "source": []
  },
  {
   "cell_type": "markdown",
   "id": "a70b603e-1fcd-4271-8c56-ba75ba5b2b4e",
   "metadata": {},
   "source": [
    "#### Descriptive statistics using pandas"
   ]
  },
  {
   "cell_type": "code",
   "execution_count": 23,
   "id": "70075246-d2b0-48f0-9c26-b00b20c05bc7",
   "metadata": {},
   "outputs": [
    {
     "data": {
      "text/plain": [
       "9"
      ]
     },
     "execution_count": 23,
     "metadata": {},
     "output_type": "execute_result"
    }
   ],
   "source": [
    "pricesW.count()"
   ]
  },
  {
   "cell_type": "code",
   "execution_count": 24,
   "id": "4bf01229-90ea-4352-a26e-7d4fa6c766c2",
   "metadata": {},
   "outputs": [
    {
     "data": {
      "text/plain": [
       "9.155555555555557"
      ]
     },
     "execution_count": 24,
     "metadata": {},
     "output_type": "execute_result"
    }
   ],
   "source": [
    "pricesW.mean()"
   ]
  },
  {
   "cell_type": "code",
   "execution_count": 25,
   "id": "81a08643-8207-4130-93f8-8e9227f54c2e",
   "metadata": {},
   "outputs": [
    {
     "data": {
      "text/plain": [
       "count     9.000000\n",
       "mean      9.155556\n",
       "std       1.562139\n",
       "min       6.800000\n",
       "25%       8.300000\n",
       "50%       8.600000\n",
       "75%      10.000000\n",
       "max      11.800000\n",
       "Name: West, dtype: float64"
      ]
     },
     "execution_count": 25,
     "metadata": {},
     "output_type": "execute_result"
    }
   ],
   "source": [
    "pricesW.describe()"
   ]
  },
  {
   "cell_type": "code",
   "execution_count": null,
   "id": "0060b041-0300-4c5d-b92b-49e0b7f26511",
   "metadata": {},
   "outputs": [],
   "source": []
  },
  {
   "cell_type": "markdown",
   "id": "66858e0a-d5d6-4d19-8023-d5cc3c9629b3",
   "metadata": {},
   "source": [
    "### Understanding probability distributions"
   ]
  },
  {
   "cell_type": "markdown",
   "id": "ebd06710-51b1-4486-84f3-3d5c24db0471",
   "metadata": {},
   "source": [
    "A random variable ...\n",
    "\n",
    "described by\n",
    "\n"
   ]
  },
  {
   "cell_type": "markdown",
   "id": "ca16dacc-b0bb-4219-8a9e-fb64976d41ed",
   "metadata": {},
   "source": [
    "#### Building computer models for probability distributions"
   ]
  },
  {
   "cell_type": "markdown",
   "id": "8b2acf54-1940-466d-8289-cd2c223f124e",
   "metadata": {},
   "source": [
    "The standard normal distribution is denoted $Z \\sim \\mathcal{N}(\\mu=0,\\sigma=1)$,\n",
    "where $Z$ is the name has the probability density function:\n",
    "\n",
    "$$\n",
    "    f_Z(z) = \\tfrac{1}{\\sqrt{2\\pi}} e^{ - \\frac{1}{2}z^2}.\n",
    "$$\n",
    "\n",
    "The standard normal is a special case of the general normal $\\mathcal{N}(\\mu, \\sigma)$\n",
    "where $\\mu$ is the mean and $\\sigma$ is the standard deviation.\n"
   ]
  },
  {
   "cell_type": "markdown",
   "id": "b15f8536-7e94-43fc-9c01-ac115e24a710",
   "metadata": {},
   "source": [
    "To create a computer model for the random variable "
   ]
  },
  {
   "cell_type": "code",
   "execution_count": 26,
   "id": "eabedcd7-cb40-4806-9eab-f1e860a9b14c",
   "metadata": {},
   "outputs": [],
   "source": [
    "import numpy as np\n",
    "\n",
    "def fZ(z):\n",
    "    const = 1 / np.sqrt(2*np.pi)\n",
    "    exp = np.exp(-1/2 * z**2)\n",
    "    return const*exp"
   ]
  },
  {
   "cell_type": "markdown",
   "id": "29209544-25de-4cd2-a0e7-915219c4657c",
   "metadata": {},
   "source": [
    "Note the definition of the Python function `fZ` matches exactly the \n",
    "calculations described in the complicated-looking math definition of $f_Z$ we saw above.\n",
    "This is one of the key benefits of learning Python:\n",
    "you can convert any math expressions into code expressions\n",
    "then do computations with it."
   ]
  },
  {
   "cell_type": "markdown",
   "id": "61d16ed1-112e-4169-b1da-7a799cd14bb6",
   "metadata": {},
   "source": [
    "We can now compute the value $f_Z(1)$ by calling the function `fZ` with input `1`:"
   ]
  },
  {
   "cell_type": "code",
   "execution_count": 27,
   "id": "cea5af88-b561-4d81-916f-dc13cb9145aa",
   "metadata": {},
   "outputs": [
    {
     "data": {
      "text/plain": [
       "0.24197072451914337"
      ]
     },
     "execution_count": 27,
     "metadata": {},
     "output_type": "execute_result"
    }
   ],
   "source": [
    "fZ(1)"
   ]
  },
  {
   "cell_type": "code",
   "execution_count": null,
   "id": "7e06bc6b-03bb-4da3-bc6d-097bec212140",
   "metadata": {},
   "outputs": [],
   "source": []
  },
  {
   "cell_type": "markdown",
   "id": "da9e61a8-0caa-4ffa-9182-a274fefffb0e",
   "metadata": {},
   "source": [
    "#### Predefined computer models\n",
    "\n",
    "Instead of defining our own function to use for computations,\n",
    "we can use one of the pre-defined probability model families in the SciPy library.\n",
    "\n",
    "To create a computer model for the standard normal random variable $Z \\sim \\mathcal{N}(\\mu=0, \\sigma=1)$,\n",
    "we need to \"import\" the `norm` model family form `scipy.stats` then call `norm(0,1)`\n",
    "to initialize the model with parameters $\\mu=0$ and $\\sigma=1$."
   ]
  },
  {
   "cell_type": "code",
   "execution_count": 28,
   "id": "bbaf06c0-d415-46fd-9002-70896cd3b00c",
   "metadata": {},
   "outputs": [],
   "source": [
    "from scipy.stats import norm\n",
    "rvZ = norm(0,1)\n",
    "# rvZ"
   ]
  },
  {
   "cell_type": "markdown",
   "id": "983cef74-990e-4539-8b7f-429b84ec15be",
   "metadata": {},
   "source": [
    "The probability density function $f_Z$ is available as the `.pdf` method on the model `rvZ`."
   ]
  },
  {
   "cell_type": "code",
   "execution_count": 29,
   "id": "f6a34bd0-37ca-4347-a82f-9cfbabcdf2c8",
   "metadata": {},
   "outputs": [
    {
     "data": {
      "text/plain": [
       "0.24197072451914337"
      ]
     },
     "execution_count": 29,
     "metadata": {},
     "output_type": "execute_result"
    }
   ],
   "source": [
    "rvZ.pdf(1)"
   ]
  },
  {
   "cell_type": "code",
   "execution_count": null,
   "id": "0fab2bab-dfac-4ce4-960d-b614a8bf425c",
   "metadata": {},
   "outputs": [],
   "source": []
  },
  {
   "cell_type": "markdown",
   "id": "8191f640-7916-456b-8946-1ddb19ae9991",
   "metadata": {},
   "source": [
    "#### Probability model visualizations"
   ]
  },
  {
   "cell_type": "code",
   "execution_count": 30,
   "id": "b1061670-cdb0-4de7-8136-d343c5cf17b6",
   "metadata": {},
   "outputs": [
    {
     "data": {
      "image/png": "[encoded data removed]",
      "text/plain": [
       "<Figure size 625x200 with 1 Axes>"
      ]
     },
     "metadata": {
      "image/png": {
       "height": 186,
       "width": 605
      }
     },
     "output_type": "display_data"
    }
   ],
   "source": [
    "zs = np.linspace(-4, 4)\n",
    "fZs = rvZ.pdf(zs)\n",
    "sns.lineplot(x=zs, y=fZs)\n",
    "\n",
    "# FIGURES ONLY\n",
    "ax = sns.lineplot(x=zs, y=fZs, color=\"b\")\n",
    "ax.set_xlabel(\"$z$\")\n",
    "ax.set_ylabel(\"$f_Z$\")\n",
    "savefig(ax.figure, \"figures/pdf_of_rvZ.png\")"
   ]
  },
  {
   "cell_type": "markdown",
   "id": "e88417e2-1fef-4b14-b496-08595a587974",
   "metadata": {},
   "source": [
    "The above graph tells you everything you need to know about the random variable $Z$.\n",
    "The possible values of $Z$ are concentrated around the mean $\\mu=0$.\n",
    "The region of highest density is roughly between $z=-1$ and $z=1$,\n",
    "with most of values between $z=-2$ and $z=2$,\n",
    "then the probability densities drops off to form long tails."
   ]
  },
  {
   "cell_type": "markdown",
   "id": "03cd7d2d-81ba-41f3-9b09-3dc01e3bc830",
   "metadata": {},
   "source": [
    "The above graph shows the \"shape\" of the normal distribution $\\mathcal{N}(\\mu=0, \\sigma=1)$,\n",
    "which is just one representative of the general normal distribution.\n",
    "Here some examples of graphs of the normal distribution for choices of the parameters $\\mu$ and $\\sigma$\n",
    "to give you an idea of what they do.\n",
    "\n",
    "FIGURE normal panel"
   ]
  },
  {
   "cell_type": "markdown",
   "id": "f2bd2819-9ff6-45fa-b2ba-8ec0580659d3",
   "metadata": {},
   "source": [
    "There are dozens of other probability distributions that can be useful for modelling \n",
    "\n",
    "You can take a look at the probability distirbution graphs here\n",
    "\n",
    "TODO links to other panels of pdfs\n",
    "\n"
   ]
  },
  {
   "cell_type": "code",
   "execution_count": null,
   "id": "ab2bd740-8baf-4642-a4a6-4399d37c9db1",
   "metadata": {},
   "outputs": [],
   "source": []
  },
  {
   "cell_type": "markdown",
   "id": "7a061b53-653c-4dab-a5f1-f0fcda47123e",
   "metadata": {},
   "source": [
    "### Doing probability calculations"
   ]
  },
  {
   "cell_type": "markdown",
   "id": "4be97b22-714f-4364-bb59-865c5bbee078",
   "metadata": {},
   "source": [
    "Calculating probabilities with the continuous random variable $Z$ requires using *integration*,\n",
    "which the process of computing the total are under a curve for some region.\n",
    "For example, \n",
    "the probability that the random variable $Z$ will have a value somewhere\n",
    "between $a$ and $b$ is defined as $\\textrm{Pr}(\\{a \\leq Z \\leq b\\}) = \\int_{z=a}^{z=b} f_Z(z) dz$.\n",
    "\n",
    "In words ..."
   ]
  },
  {
   "cell_type": "code",
   "execution_count": 31,
   "id": "f9ec594b-dfa7-471f-b689-ac82c586d11b",
   "metadata": {},
   "outputs": [
    {
     "data": {
      "text/plain": [
       "0.13590512198327787"
      ]
     },
     "execution_count": 31,
     "metadata": {},
     "output_type": "execute_result"
    }
   ],
   "source": [
    "from scipy.integrate import quad\n",
    "quad(rvZ.pdf, 1, 2)[0]"
   ]
  },
  {
   "cell_type": "code",
   "execution_count": 32,
   "id": "9763d430-2b9e-4358-998a-066ea1227f71",
   "metadata": {},
   "outputs": [
    {
     "data": {
      "image/png": "[encoded data removed]",
      "text/plain": [
       "<Figure size 625x200 with 1 Axes>"
      ]
     },
     "metadata": {
      "image/png": {
       "height": 184,
       "width": 608
      }
     },
     "output_type": "display_data"
    }
   ],
   "source": [
    "# FIGURES ONLY\n",
    "zs = np.linspace(-4, 4, 1000)\n",
    "fZs = rvZ.pdf(zs)\n",
    "ax = sns.lineplot(x=zs, y=fZs)\n",
    "mask = (1 < zs) & (zs < 2)\n",
    "ax.fill_between(zs[mask], y1=fZs[mask], alpha=0.6, facecolor=\"red\")\n",
    "savefig(ax.figure, \"figures/pdf_of_rvZ_highlight_1_to_2.png\")"
   ]
  },
  {
   "cell_type": "markdown",
   "id": "4806383c-0f6e-4922-958f-f74ab94c1765",
   "metadata": {},
   "source": [
    "In statistics,\n",
    "we often have to compute the probability in one or both tails of the distribution,\n",
    "which corresponds the probability of observing \"extreme values\"\n",
    "\n",
    "$\\textrm{Pr}(\\{Z \\geq 2\\}) = \\int_{z=2}^{z=\\infty} f_Z(z) dz$"
   ]
  },
  {
   "cell_type": "code",
   "execution_count": 33,
   "id": "1b986752-36ec-4aed-ae45-6aa0a19eed1d",
   "metadata": {},
   "outputs": [
    {
     "data": {
      "text/plain": [
       "0.02275013194817598"
      ]
     },
     "execution_count": 33,
     "metadata": {},
     "output_type": "execute_result"
    }
   ],
   "source": [
    "from scipy.integrate import quad\n",
    "quad(rvZ.pdf, 2, np.inf)[0]"
   ]
  },
  {
   "cell_type": "markdown",
   "id": "c5e8dd27-946f-40ee-9628-d9cf2321e181",
   "metadata": {},
   "source": [
    "The cumulative distribution function (CDF) $F_Z$ is defined as the integral \n",
    "of the probability density function $f_Z$ up to some value $z=b$.\n",
    "\n",
    "$$\n",
    "    \\textrm{Pr}(\\{Z \\leq b\\}) = F_Z(b) = \\int_{z=-\\infty}^{z=b} f_Z(z)\\; dz.\n",
    "$$\n",
    "\n",
    "The computer model `rvZ` provides the method `.cdf` which allows us to obtain the values of $F_Z$ directly."
   ]
  },
  {
   "cell_type": "code",
   "execution_count": 34,
   "id": "36b0686c-fe69-49cb-98ec-22baa56de926",
   "metadata": {},
   "outputs": [
    {
     "data": {
      "text/plain": [
       "0.9772498680518208"
      ]
     },
     "execution_count": 34,
     "metadata": {},
     "output_type": "execute_result"
    }
   ],
   "source": [
    "rvZ.cdf(2)"
   ]
  },
  {
   "cell_type": "code",
   "execution_count": 35,
   "id": "5cec486c-9b1e-4748-939e-23ffecd257ac",
   "metadata": {},
   "outputs": [
    {
     "data": {
      "image/png": "[encoded data removed]",
      "text/plain": [
       "<Figure size 625x200 with 1 Axes>"
      ]
     },
     "metadata": {
      "image/png": {
       "height": 184,
       "width": 608
      }
     },
     "output_type": "display_data"
    }
   ],
   "source": [
    "# FIGURES ONLY\n",
    "zs = np.linspace(-4, 4, 1000)\n",
    "fZs = rvZ.pdf(zs)\n",
    "ax = sns.lineplot(x=zs, y=fZs)\n",
    "mask = (zs < 2)\n",
    "ax.fill_between(zs[mask], y1=fZs[mask], alpha=0.6, facecolor=\"red\")\n",
    "savefig(ax.figure, \"figures/pdf_of_rvZ_highlight_-infty_to_2.png\")"
   ]
  },
  {
   "cell_type": "markdown",
   "id": "84329966-7353-4327-82b1-e648ea5ceb50",
   "metadata": {},
   "source": [
    "We're often interested in computing the complement,\n",
    "\n",
    "$$\n",
    "    \\textrm{Pr}(\\{Z \\geq b\\}) = 1- F_Z(b) = \\int_{z=b}^{z=\\infty} f_Z(z) \\; dz.\n",
    "$$"
   ]
  },
  {
   "cell_type": "code",
   "execution_count": 36,
   "id": "e3750693-6415-4b09-9642-df1f7f8e0f29",
   "metadata": {},
   "outputs": [
    {
     "data": {
      "text/plain": [
       "0.02275013194817921"
      ]
     },
     "execution_count": 36,
     "metadata": {},
     "output_type": "execute_result"
    }
   ],
   "source": [
    "1 - rvZ.cdf(2)"
   ]
  },
  {
   "cell_type": "code",
   "execution_count": 37,
   "id": "4fa95c21-9874-4021-a629-79baea87433a",
   "metadata": {},
   "outputs": [
    {
     "data": {
      "image/png": "[encoded data removed]",
      "text/plain": [
       "<Figure size 625x200 with 1 Axes>"
      ]
     },
     "metadata": {
      "image/png": {
       "height": 184,
       "width": 608
      }
     },
     "output_type": "display_data"
    }
   ],
   "source": [
    "# FIGURES ONLY\n",
    "zs = np.linspace(-4, 4, 1000)\n",
    "fZs = rvZ.pdf(zs)\n",
    "ax = sns.lineplot(x=zs, y=fZs)\n",
    "mask = (zs > 2)\n",
    "ax.fill_between(zs[mask], y1=fZs[mask], alpha=0.6, facecolor=\"red\")\n",
    "savefig(ax.figure, \"figures/pdf_of_rvZ_highlight_2_to_infty.png\")"
   ]
  },
  {
   "cell_type": "code",
   "execution_count": null,
   "id": "782f7daa-847f-403e-8472-69dfbd42be46",
   "metadata": {},
   "outputs": [],
   "source": []
  },
  {
   "cell_type": "code",
   "execution_count": null,
   "id": "a043f55f-1cbe-4f0b-a38f-9c19adbb11e0",
   "metadata": {},
   "outputs": [],
   "source": []
  },
  {
   "cell_type": "markdown",
   "id": "d3428667-cf11-448b-9ed3-427ac1e955ca",
   "metadata": {},
   "source": [
    "#### Discrete random variables (bonus topic)\n",
    "\n",
    "There is a whole other type of random variables called \"discrete\" random variables,\n",
    "which are defined only for integers, like $0$, $1$, $2$, etc.\n",
    "\n",
    "For example, the Poisson random variable $H$ is defined by the probability mass function,\n",
    "\n",
    "$$ \n",
    "  f_H(h) = \\frac{\\lambda^{h}e^{-\\lambda }}{h!},\n",
    "$$\n",
    "\n",
    "for $h$ any natural number, $0, 1, 2, 3, \\ldots$.\n",
    "The parameter $\\lambda$ (the Greek letter lambda) is used to control the shape of the distribution.\n",
    "This math formula includes the lambda raised to the power $h$,\n",
    "the exponential function $e^x$,\n",
    "and the factorial function $n!$.\n",
    "That's a lot of math!\n",
    "If you need to do some probability calculations for the random variable $H$,\n",
    "and you're ever forced to do the calculations using only pen and paper,\n",
    "that would be quite the chore!"
   ]
  },
  {
   "cell_type": "markdown",
   "id": "cdbe61f9-d5b9-43c8-90b4-8a32db6330f4",
   "metadata": {},
   "source": [
    "Wouldn't it be simpler (and more efficient) to define a Python function\n",
    "that corresponds to the math function $f_H$,\n",
    "then do all the calculations using Python as a calculator?"
   ]
  },
  {
   "cell_type": "markdown",
   "id": "7a447e70-187c-400a-af85-9bbec207f51e",
   "metadata": {},
   "source": [
    "Let's see this in action!\n",
    "We'll initialize a `poisson` model with the parameter $\\lambda=20$."
   ]
  },
  {
   "cell_type": "code",
   "execution_count": 38,
   "id": "5ddee77a-7061-4392-a886-59e15e719a3e",
   "metadata": {},
   "outputs": [],
   "source": [
    "from scipy.stats import poisson\n",
    "\n",
    "rvH = poisson(20)\n",
    "# rvH"
   ]
  },
  {
   "cell_type": "markdown",
   "id": "5f1f8d6c-ebf1-468c-bde7-2342495563e4",
   "metadata": {},
   "source": [
    "Having defined the computer model `rvH`, we can use it to:\n",
    "- generate visualizations\n",
    "- compute probabilities\n",
    "- run simulations\n",
    "- use `rvH` it as part of multi-step probability calculations\n",
    "- anything else you might want to do with random variable $H$"
   ]
  },
  {
   "cell_type": "code",
   "execution_count": 39,
   "id": "a561d5b3-4d81-48a0-9bf7-afdd77a5fb3f",
   "metadata": {},
   "outputs": [
    {
     "data": {
      "text/plain": [
       "<StemContainer object of 3 artists>"
      ]
     },
     "execution_count": 39,
     "metadata": {},
     "output_type": "execute_result"
    },
    {
     "data": {
      "image/png": "[encoded data removed]",
      "text/plain": [
       "<Figure size 625x200 with 1 Axes>"
      ]
     },
     "metadata": {
      "image/png": {
       "height": 201,
       "width": 547
      }
     },
     "output_type": "display_data"
    }
   ],
   "source": [
    "import matplotlib.pyplot as plt\n",
    "import numpy as np\n",
    "hs = np.arange(0,40)\n",
    "fHs = rvH.pmf(hs)\n",
    "plt.stem(fHs)"
   ]
  },
  {
   "cell_type": "markdown",
   "id": "3cb23373-0e13-408a-97c6-fa7405c0fb27",
   "metadata": {},
   "source": [
    "Calculating the probability of $H$ being between $10$ and $20$\n",
    "is done by summing over all the probabilities for that range of values of $h$.\n",
    "\n",
    "$$\n",
    "    \\textrm{Pr}(\\{10 \\leq H \\leq 20\\})\n",
    "    = \\sum_{h=10}^{h=20} f_H(h)\n",
    "    = f_H(10) + f_H(11) + f_H(12) + \\cdots + f_H(20).\n",
    "$$\n",
    "\n",
    "This calculation can be done using a Python summation:"
   ]
  },
  {
   "cell_type": "code",
   "execution_count": 40,
   "id": "76ba3d2f-a01f-4d9d-b371-c99a55171c87",
   "metadata": {},
   "outputs": [
    {
     "data": {
      "text/plain": [
       "0.5540971719230157"
      ]
     },
     "execution_count": 40,
     "metadata": {},
     "output_type": "execute_result"
    }
   ],
   "source": [
    "sum([rvH.pmf(h) for h in range(10,20+1)])"
   ]
  },
  {
   "cell_type": "markdown",
   "id": "873749d7-803e-4747-b94e-0414aa717fbb",
   "metadata": {},
   "source": [
    "To see a complete worked example based on the \n",
    "see [Example 3: hard disk failures](https://minireference.com/static/excerpts/noBSstats/noBSstats_ch02_PROB.pdf#page=15) and\n",
    "[Section 2.1.5 Hard disks example](https://minireference.com/static/excerpts/noBSstats/noBSstats_ch02_PROB.pdf#page=29) in the PDF preview of Chapter 2."
   ]
  },
  {
   "cell_type": "code",
   "execution_count": null,
   "id": "305d9abd-6c0a-403c-981e-5691d5d80043",
   "metadata": {},
   "outputs": [],
   "source": []
  },
  {
   "cell_type": "markdown",
   "id": "fb5bc2bd-a3d2-4f8e-b9d4-aa67908b5245",
   "metadata": {},
   "source": [
    "### Running statistical simulations"
   ]
  },
  {
   "cell_type": "markdown",
   "id": "31162a34-a280-434e-b7a7-6bda0a7fa7b2",
   "metadata": {},
   "source": [
    "#### Sampling distributions\n",
    "\n",
    "The *sampling distribution* of the mean $\\Mean = \\tt{mean}$ for samples\n",
    "of size $n=20$ from the standard normal distribution $Z \\sim \\mathcal{N}(0,1)$\n",
    "is denoted $\\overline{\\mathbf{Z}} = \\mathbf{Mean}(\\mathbf{Z})$,\n",
    "where $\\mathbf{Z} = (Z_1, Z_2, \\ldots, Z_{20})$ is a *random sample*.\n",
    "\n",
    "The random variable $\\overline{\\mathbf{Z}}$ describes the kind of means we can expect to observe if\n",
    "we compute the mean for a sample of size $n=20$ from the standard normal.\n",
    "\n",
    "Let's generate $N=10$ samples $\\mathbf{z}_1, \\mathbf{z}_2, \\mathbf{z}_3, \\ldots, \\mathbf{z}_{10}$ of size $n=20$\n",
    "from $Z \\sim \\mathcal{N}(0,1)$, and compute the mean in each sample.\n",
    "\n",
    "![samples_from_rvZ_n20_w_means_n_stds.png](./attachments/samples_from_rvZ_n20_w_means_n_stds.png)\n",
    "\n",
    "The diamond markers indicate the position of the sample means computed from each sample:\n",
    "$[\\overline{\\mathbf{z}}_1, \\overline{\\mathbf{z}}_2, \\overline{\\mathbf{z}}_3, \\ldots, \\overline{\\mathbf{z}}_{10}]$.\n",
    "\n",
    "Now imagine we generate 9990 more samples to obtain a total of $N=10000$ samples from the population model:\n",
    "$\\mathbf{z}_1, \\mathbf{z}_2, \\mathbf{z}_3, \\ldots, \\mathbf{z}_{1000}$.\n",
    "We can visualize the sampling distribution of the mean $\\overline{\\mathbf{Z}} = \\Mean(\\mathbf{Z})$\n",
    "by plotting a histogram of the means computed from the $10000$ random samples,\n",
    "`zbars` = $[\\overline{\\mathbf{z}}_1, \\overline{\\mathbf{z}}_2, \\overline{\\mathbf{z}}_3, \\ldots, \\overline{\\mathbf{z}}_{1000}]$,\n",
    "where $\\overline{\\mathbf{z}}_j$ denotes the sample mean computed from the data in the $j$th sample,\n",
    "$\\overline{\\mathbf{z}}_j = \\Mean(\\mathbf{z}_j)$."
   ]
  },
  {
   "cell_type": "code",
   "execution_count": 41,
   "id": "1f27f30f-dd5c-4bf1-a4e4-f73b406b812e",
   "metadata": {},
   "outputs": [],
   "source": [
    "zbars = []\n",
    "for i in range(0, 10000):\n",
    "    sample = rvZ.rvs(20)\n",
    "    zbar = mean(sample)\n",
    "    zbars.append(zbar)\n",
    "\n",
    "# zbars[0:5]"
   ]
  },
  {
   "cell_type": "code",
   "execution_count": 42,
   "id": "86ea33f6-2eac-4a20-9f41-7404548872c4",
   "metadata": {},
   "outputs": [
    {
     "data": {
      "image/png": "[encoded data removed]",
      "text/plain": [
       "<Figure size 625x200 with 1 Axes>"
      ]
     },
     "metadata": {
      "image/png": {
       "height": 184,
       "width": 608
      }
     },
     "output_type": "display_data"
    }
   ],
   "source": [
    "ax = sns.histplot(zbars)\n",
    "\n",
    "savefig(plt.gcf(), \"figures/hist_sampling_dist_mean_rvZ_n20.png\")"
   ]
  },
  {
   "cell_type": "markdown",
   "id": "98f5867a-2c76-4088-8f8b-a9cabe188a04",
   "metadata": {},
   "source": [
    "The above figure shows the sampling distribution of the mean for samples of size $n=20$ from the standard normal.\n",
    "The histogram shows the \"density of diamond shapes,\"\n",
    "and provides a representation of the sampling distribution of the mean $\\overline{\\mathbf{Z}} = \\Mean(\\mathbf{Z})$."
   ]
  },
  {
   "cell_type": "code",
   "execution_count": null,
   "id": "53ca2c67-5dfd-4f11-b09d-79df63f415a3",
   "metadata": {},
   "outputs": [],
   "source": []
  },
  {
   "cell_type": "markdown",
   "id": "285187ea-e9ef-4a20-bb1f-05a41aa0a259",
   "metadata": {},
   "source": [
    "#### Verifying p-values"
   ]
  },
  {
   "cell_type": "code",
   "execution_count": 43,
   "id": "3cbe13fa-2b49-44d9-b1e1-5a13d7f08b71",
   "metadata": {},
   "outputs": [
    {
     "data": {
      "text/plain": [
       "0.0495"
      ]
     },
     "execution_count": 43,
     "metadata": {},
     "output_type": "execute_result"
    }
   ],
   "source": [
    "from scipy.stats import norm, ttest_1samp\n",
    "\n",
    "muK = 1000\n",
    "sigmaK = 10\n",
    "rvK = norm(muK, sigmaK)\n",
    "\n",
    "count = 0\n",
    "for j in range(0, 10000):\n",
    "    sample = rvK.rvs(20)\n",
    "    res = ttest_1samp(sample, popmean=muK)\n",
    "    if res.pvalue < 0.05:\n",
    "        count = count + 1\n",
    "\n",
    "count / 10000"
   ]
  },
  {
   "cell_type": "code",
   "execution_count": null,
   "id": "28424dd6-5f88-4430-b687-b4b9c62ae0c7",
   "metadata": {},
   "outputs": [],
   "source": []
  },
  {
   "cell_type": "markdown",
   "id": "025f07b0-2443-4e6a-9779-6173bf37aa20",
   "metadata": {},
   "source": [
    "### Verifying confidence intervals"
   ]
  },
  {
   "cell_type": "code",
   "execution_count": 44,
   "id": "6bfd78ff-0981-48c4-9b9c-4a51b61b57b6",
   "metadata": {},
   "outputs": [
    {
     "data": {
      "text/plain": [
       "0.9049"
      ]
     },
     "execution_count": 44,
     "metadata": {},
     "output_type": "execute_result"
    }
   ],
   "source": [
    "import numpy as np\n",
    "np.random.seed(10)\n",
    "\n",
    "muK = 1000\n",
    "sigmaK = 10\n",
    "rvK = norm(muK, sigmaK)\n",
    "\n",
    "count = 0\n",
    "for j in range(0, 10000):\n",
    "    sample = rvK.rvs(20)\n",
    "    res = ttest_1samp(sample, popmean=1000)\n",
    "    ci = res.confidence_interval(confidence_level=0.90)\n",
    "    if ci.low <= muK <= ci.high:\n",
    "        count = count + 1\n",
    "\n",
    "count / 10000"
   ]
  },
  {
   "cell_type": "code",
   "execution_count": null,
   "id": "4230b1f6-e1c3-4958-86e4-0b610cd248f8",
   "metadata": {},
   "outputs": [],
   "source": []
  },
  {
   "cell_type": "markdown",
   "id": "1de45e91-cf6d-4c20-8d06-100488b548ad",
   "metadata": {},
   "source": [
    "### Resampling methods\n",
    "\n",
    "Clever techniques that reuse data from observed sample to simulate the variability in the population.\n"
   ]
  },
  {
   "cell_type": "markdown",
   "id": "3029a7e9-2f11-4b1f-a179-947df756fd2d",
   "metadata": {},
   "source": [
    "#### Bootstrap estimation"
   ]
  },
  {
   "cell_type": "markdown",
   "id": "f879348d-1bf5-434f-af5b-84ff45a20294",
   "metadata": {},
   "source": [
    "Generate 5000 bootstrap samples (sampling with replacement) from the sample `pricesW`.\n",
    "Use the bootstrap samples to approximate the sampling distribution of the mean."
   ]
  },
  {
   "cell_type": "code",
   "execution_count": 45,
   "id": "c7b71806-22c0-4ae0-9433-c1385e589be8",
   "metadata": {},
   "outputs": [
    {
     "data": {
      "image/png": "[encoded data removed]",
      "text/plain": [
       "<Figure size 625x200 with 1 Axes>"
      ]
     },
     "metadata": {
      "image/png": {
       "height": 184,
       "width": 609
      }
     },
     "output_type": "display_data"
    }
   ],
   "source": [
    "n = len(pricesW)\n",
    "xbars_boot = []\n",
    "for i in range(0, 5000):\n",
    "    bsample = np.random.choice(pricesW, n, replace=True)\n",
    "    xbar_boot = mean(bsample)\n",
    "    xbars_boot.append(xbar_boot)\n",
    "\n",
    "sns.histplot(xbars_boot)\n",
    "\n",
    "savefig(plt.gcf(), \"figures/bootstrap_dist_mean_epricesW.png\")"
   ]
  },
  {
   "cell_type": "code",
   "execution_count": null,
   "id": "7c5b254d-d587-488f-8037-89d17e45f7d2",
   "metadata": {},
   "outputs": [],
   "source": []
  },
  {
   "cell_type": "markdown",
   "id": "8b0a8e9e-3e3b-4ed8-9927-a546792932c3",
   "metadata": {},
   "source": [
    "#### Permutation test"
   ]
  },
  {
   "cell_type": "code",
   "execution_count": 46,
   "id": "37420af1-c6c6-4594-9b0c-39ac34057189",
   "metadata": {},
   "outputs": [],
   "source": [
    "DATA_URL = \"https://nobsstats.com/datasets/epriceswide.csv\"\n",
    "import pandas as pd\n",
    "epriceswide = pd.read_csv(DATA_URL)\n",
    "pricesW = epriceswide[\"West\"]\n",
    "pricesE = epriceswide[\"East\"]"
   ]
  },
  {
   "cell_type": "markdown",
   "id": "3474a99e-c385-449b-85af-fb74ca97b297",
   "metadata": {},
   "source": [
    "We'll compare the prices in the two parts of the city in terms\n",
    "of the difference between the average price in each sample."
   ]
  },
  {
   "cell_type": "code",
   "execution_count": 47,
   "id": "c8204bcd-6126-4e57-9198-ae3a62b45912",
   "metadata": {},
   "outputs": [
    {
     "data": {
      "text/plain": [
       "3.0"
      ]
     },
     "execution_count": 47,
     "metadata": {},
     "output_type": "execute_result"
    }
   ],
   "source": [
    "def dmeans(xsample, ysample):\n",
    "    dhat = mean(xsample) - mean(ysample)\n",
    "    return dhat\n",
    "\n",
    "# Calculate the observed difference between means\n",
    "dprice = dmeans(pricesW, pricesE)\n",
    "dprice"
   ]
  },
  {
   "cell_type": "markdown",
   "id": "603905d8-59ae-457c-8535-852a6b54665f",
   "metadata": {},
   "source": [
    "Obtain sampling distribution of the difference between means under the null hypothesis."
   ]
  },
  {
   "cell_type": "code",
   "execution_count": 48,
   "id": "cb0fd666-98ba-4a13-aa05-782b095886d8",
   "metadata": {},
   "outputs": [],
   "source": [
    "np.random.seed(42)\n",
    "\n",
    "pdhats = []\n",
    "for i in range(0, 10000):\n",
    "    allprices = np.concatenate((pricesW, pricesE))\n",
    "    pallprices = np.random.permutation(allprices)\n",
    "    psampleW = pallprices[0:len(pricesW)]\n",
    "    psampleE = pallprices[len(pricesW):]\n",
    "    pdhat = dmeans(psampleW, psampleE)\n",
    "    pdhats.append(pdhat)"
   ]
  },
  {
   "cell_type": "markdown",
   "id": "f509ba5b-62e2-4710-90e7-29395685ff4b",
   "metadata": {},
   "source": [
    "Compute the p-value of the observed difference between means `dprice` under the null hypothesis."
   ]
  },
  {
   "cell_type": "code",
   "execution_count": 49,
   "id": "8cd155d6-635b-4b87-ba69-d731e27722f5",
   "metadata": {},
   "outputs": [
    {
     "data": {
      "text/plain": [
       "0.0002"
      ]
     },
     "execution_count": 49,
     "metadata": {},
     "output_type": "execute_result"
    }
   ],
   "source": [
    "tails = [d for d in pdhats if abs(d) > dprice]\n",
    "pvalue = len(tails) / len(pdhats)\n",
    "pvalue"
   ]
  },
  {
   "cell_type": "code",
   "execution_count": 50,
   "id": "77788fef-cb44-4123-b71a-553f7206b9c5",
   "metadata": {},
   "outputs": [
    {
     "data": {
      "image/png": "[encoded data removed]",
      "text/plain": [
       "<Figure size 625x200 with 1 Axes>"
      ]
     },
     "metadata": {
      "image/png": {
       "height": 184,
       "width": 605
      }
     },
     "output_type": "display_data"
    }
   ],
   "source": [
    "# plot the sampling distribution in blue\n",
    "ax = sns.histplot(pdhats, bins=100)\n",
    "\n",
    "# plot red line for the observed statistic\n",
    "plt.axvline(dprice, color=\"red\")\n",
    "\n",
    "# plot the values that are equal or more extreme in red\n",
    "sns.histplot(tails, ax=ax, bins=100, color=\"red\")\n",
    "_ = ax.set_ylabel(\"$f_{\\widehat{D}_0}$\")\n",
    "\n",
    "savefig(plt.gcf(), \"figures/pvalue_viz_permutation_test_eprices.png\")"
   ]
  },
  {
   "cell_type": "code",
   "execution_count": null,
   "id": "f812d89a-d782-4879-a7f0-51b587ca2a51",
   "metadata": {},
   "outputs": [],
   "source": []
  },
  {
   "cell_type": "markdown",
   "id": "345999ef-eab8-4c4d-b590-38cffc41460f",
   "metadata": {},
   "source": [
    "### Data cleaning"
   ]
  },
  {
   "cell_type": "code",
   "execution_count": 51,
   "id": "70161723-bfab-4810-9cef-49cff61aa74d",
   "metadata": {},
   "outputs": [
    {
     "data": {
      "text/html": [
       "<div>\n",
       "<style scoped>\n",
       "    .dataframe tbody tr th:only-of-type {\n",
       "        vertical-align: middle;\n",
       "    }\n",
       "\n",
       "    .dataframe tbody tr th {\n",
       "        vertical-align: top;\n",
       "    }\n",
       "\n",
       "    .dataframe thead th {\n",
       "        text-align: right;\n",
       "    }\n",
       "</style>\n",
       "<table border=\"1\" class=\"dataframe\">\n",
       "  <thead>\n",
       "    <tr style=\"text-align: right;\">\n",
       "      <th></th>\n",
       "      <th>East</th>\n",
       "      <th>West</th>\n",
       "    </tr>\n",
       "  </thead>\n",
       "  <tbody>\n",
       "    <tr>\n",
       "      <th>0</th>\n",
       "      <td>7.7</td>\n",
       "      <td>11.8</td>\n",
       "    </tr>\n",
       "    <tr>\n",
       "      <th>1</th>\n",
       "      <td>5.9</td>\n",
       "      <td>10.0</td>\n",
       "    </tr>\n",
       "    <tr>\n",
       "      <th>2</th>\n",
       "      <td>7.0</td>\n",
       "      <td>11.0</td>\n",
       "    </tr>\n",
       "    <tr>\n",
       "      <th>3</th>\n",
       "      <td>4.8</td>\n",
       "      <td>8.6</td>\n",
       "    </tr>\n",
       "    <tr>\n",
       "      <th>4</th>\n",
       "      <td>6.3</td>\n",
       "      <td>8.3</td>\n",
       "    </tr>\n",
       "    <tr>\n",
       "      <th>5</th>\n",
       "      <td>6.3</td>\n",
       "      <td>9.4</td>\n",
       "    </tr>\n",
       "    <tr>\n",
       "      <th>6</th>\n",
       "      <td>5.5</td>\n",
       "      <td>8.0</td>\n",
       "    </tr>\n",
       "    <tr>\n",
       "      <th>7</th>\n",
       "      <td>5.4</td>\n",
       "      <td>6.8</td>\n",
       "    </tr>\n",
       "    <tr>\n",
       "      <th>8</th>\n",
       "      <td>6.5</td>\n",
       "      <td>8.5</td>\n",
       "    </tr>\n",
       "  </tbody>\n",
       "</table>\n",
       "</div>"
      ],
      "text/plain": [
       "   East  West\n",
       "0   7.7  11.8\n",
       "1   5.9  10.0\n",
       "2   7.0  11.0\n",
       "3   4.8   8.6\n",
       "4   6.3   8.3\n",
       "5   6.3   9.4\n",
       "6   5.5   8.0\n",
       "7   5.4   6.8\n",
       "8   6.5   8.5"
      ]
     },
     "execution_count": 51,
     "metadata": {},
     "output_type": "execute_result"
    }
   ],
   "source": [
    "import pandas as pd\n",
    "\n",
    "DATA_URL = \"https://nobsstats.com/datasets/epriceswide.csv\"\n",
    "epriceswide = pd.read_csv(DATA_URL)\n",
    "epriceswide"
   ]
  },
  {
   "cell_type": "markdown",
   "id": "7a20430b-47bc-4eed-b536-d2c220f6bc3b",
   "metadata": {},
   "source": [
    "Click [here](https://pandastutor.com/vis.html#code=import%20pandas%20as%20pd%0Aimport%20io%0A%0Aepriceswide_csv%20%3D%20'''%0AEast,West%0A7.7,11.8%0A5.9,10.0%0A7.0,11.0%0A4.8,8.6%0A6.3,8.3%0A6.3,9.4%0A5.5,8.0%0A5.4,6.8%0A6.5,8.5%0A'''%0A%0Aepriceswide%20%3D%20pd.read_csv%28io.StringIO%28epriceswide_csv%29%29%0A%0Aepriceswide.melt%28var_name%3D%22end%22,%20value_name%3D%22price%22%29&d=2023-07-02&lang=py&v=v1) to see a visualization of the above melt operation."
   ]
  },
  {
   "cell_type": "code",
   "execution_count": 52,
   "id": "f2172968-641c-4951-a722-029ac2bc853b",
   "metadata": {},
   "outputs": [
    {
     "data": {
      "text/html": [
       "<div>\n",
       "<style scoped>\n",
       "    .dataframe tbody tr th:only-of-type {\n",
       "        vertical-align: middle;\n",
       "    }\n",
       "\n",
       "    .dataframe tbody tr th {\n",
       "        vertical-align: top;\n",
       "    }\n",
       "\n",
       "    .dataframe thead th {\n",
       "        text-align: right;\n",
       "    }\n",
       "</style>\n",
       "<table border=\"1\" class=\"dataframe\">\n",
       "  <thead>\n",
       "    <tr style=\"text-align: right;\">\n",
       "      <th></th>\n",
       "      <th>end</th>\n",
       "      <th>price</th>\n",
       "    </tr>\n",
       "  </thead>\n",
       "  <tbody>\n",
       "    <tr>\n",
       "      <th>0</th>\n",
       "      <td>East</td>\n",
       "      <td>7.7</td>\n",
       "    </tr>\n",
       "    <tr>\n",
       "      <th>1</th>\n",
       "      <td>East</td>\n",
       "      <td>5.9</td>\n",
       "    </tr>\n",
       "    <tr>\n",
       "      <th>2</th>\n",
       "      <td>East</td>\n",
       "      <td>7.0</td>\n",
       "    </tr>\n",
       "    <tr>\n",
       "      <th>3</th>\n",
       "      <td>East</td>\n",
       "      <td>4.8</td>\n",
       "    </tr>\n",
       "    <tr>\n",
       "      <th>4</th>\n",
       "      <td>East</td>\n",
       "      <td>6.3</td>\n",
       "    </tr>\n",
       "    <tr>\n",
       "      <th>5</th>\n",
       "      <td>East</td>\n",
       "      <td>6.3</td>\n",
       "    </tr>\n",
       "    <tr>\n",
       "      <th>6</th>\n",
       "      <td>East</td>\n",
       "      <td>5.5</td>\n",
       "    </tr>\n",
       "    <tr>\n",
       "      <th>7</th>\n",
       "      <td>East</td>\n",
       "      <td>5.4</td>\n",
       "    </tr>\n",
       "    <tr>\n",
       "      <th>8</th>\n",
       "      <td>East</td>\n",
       "      <td>6.5</td>\n",
       "    </tr>\n",
       "    <tr>\n",
       "      <th>9</th>\n",
       "      <td>West</td>\n",
       "      <td>11.8</td>\n",
       "    </tr>\n",
       "    <tr>\n",
       "      <th>10</th>\n",
       "      <td>West</td>\n",
       "      <td>10.0</td>\n",
       "    </tr>\n",
       "    <tr>\n",
       "      <th>11</th>\n",
       "      <td>West</td>\n",
       "      <td>11.0</td>\n",
       "    </tr>\n",
       "    <tr>\n",
       "      <th>12</th>\n",
       "      <td>West</td>\n",
       "      <td>8.6</td>\n",
       "    </tr>\n",
       "    <tr>\n",
       "      <th>13</th>\n",
       "      <td>West</td>\n",
       "      <td>8.3</td>\n",
       "    </tr>\n",
       "    <tr>\n",
       "      <th>14</th>\n",
       "      <td>West</td>\n",
       "      <td>9.4</td>\n",
       "    </tr>\n",
       "    <tr>\n",
       "      <th>15</th>\n",
       "      <td>West</td>\n",
       "      <td>8.0</td>\n",
       "    </tr>\n",
       "    <tr>\n",
       "      <th>16</th>\n",
       "      <td>West</td>\n",
       "      <td>6.8</td>\n",
       "    </tr>\n",
       "    <tr>\n",
       "      <th>17</th>\n",
       "      <td>West</td>\n",
       "      <td>8.5</td>\n",
       "    </tr>\n",
       "  </tbody>\n",
       "</table>\n",
       "</div>"
      ],
      "text/plain": [
       "     end  price\n",
       "0   East    7.7\n",
       "1   East    5.9\n",
       "2   East    7.0\n",
       "3   East    4.8\n",
       "4   East    6.3\n",
       "5   East    6.3\n",
       "6   East    5.5\n",
       "7   East    5.4\n",
       "8   East    6.5\n",
       "9   West   11.8\n",
       "10  West   10.0\n",
       "11  West   11.0\n",
       "12  West    8.6\n",
       "13  West    8.3\n",
       "14  West    9.4\n",
       "15  West    8.0\n",
       "16  West    6.8\n",
       "17  West    8.5"
      ]
     },
     "execution_count": 52,
     "metadata": {},
     "output_type": "execute_result"
    }
   ],
   "source": [
    "eprices = pd.melt(epriceswide, var_name=\"end\", value_name='price')\n",
    "eprices"
   ]
  },
  {
   "cell_type": "code",
   "execution_count": 53,
   "id": "37ed70f2-0a06-42bb-be5f-9bef646f44f2",
   "metadata": {},
   "outputs": [
    {
     "data": {
      "text/plain": [
       "(array([11.8, 10. , 11. ,  8.6,  8.3,  9.4,  8. ,  6.8,  8.5]),\n",
       " array([7.7, 5.9, 7. , 4.8, 6.3, 6.3, 5.5, 5.4, 6.5]))"
      ]
     },
     "execution_count": 53,
     "metadata": {},
     "output_type": "execute_result"
    }
   ],
   "source": [
    "pricesW = eprices[eprices[\"end\"]==\"West\"][\"price\"]\n",
    "pricesE = eprices[eprices[\"end\"]==\"East\"][\"price\"]\n",
    "\n",
    "pricesW.values, pricesE.values"
   ]
  },
  {
   "cell_type": "code",
   "execution_count": null,
   "id": "157b54eb-72ff-404a-a5c9-7b330fdba7dc",
   "metadata": {},
   "outputs": [],
   "source": []
  },
  {
   "cell_type": "markdown",
   "id": "f84ed421-3c6e-40cf-bd87-53d286620a07",
   "metadata": {},
   "source": [
    "### Statistics procedures as code"
   ]
  },
  {
   "cell_type": "code",
   "execution_count": null,
   "id": "a362074c-72c6-477c-8245-2af319c0a390",
   "metadata": {},
   "outputs": [],
   "source": []
  },
  {
   "cell_type": "markdown",
   "id": "3819cfff-67ec-4a1d-ba2a-9070c49d24d4",
   "metadata": {},
   "source": [
    "#### Generating sampling distributions"
   ]
  },
  {
   "cell_type": "code",
   "execution_count": 54,
   "id": "c717d785-0490-4807-97a3-4c8c94666e95",
   "metadata": {},
   "outputs": [
    {
     "data": {
      "text/plain": [
       "<Axes: ylabel='Count'>"
      ]
     },
     "execution_count": 54,
     "metadata": {},
     "output_type": "execute_result"
    },
    {
     "data": {
      "image/png": "[encoded data removed]",
      "text/plain": [
       "<Figure size 625x200 with 1 Axes>"
      ]
     },
     "metadata": {
      "image/png": {
       "height": 201,
       "width": 564
      }
     },
     "output_type": "display_data"
    }
   ],
   "source": [
    "def gen_sampling_dist(rv, estfunc, n, N=10000):\n",
    "    \"\"\"\n",
    "    Simulate `N` samples of size `n` from the random variable `rv` to\n",
    "    generate the sampling distribution of the estimator `estfunc`.\n",
    "    \"\"\"\n",
    "    estimates = []\n",
    "    for i in range(0, N):\n",
    "        sample = rv.rvs(n)\n",
    "        estimate = estfunc(sample)\n",
    "        estimates.append(estimate)\n",
    "    return estimates\n",
    "\n",
    "zbars = gen_sampling_dist(rvZ, estfunc=mean, n=20)\n",
    "sns.histplot(zbars)"
   ]
  },
  {
   "cell_type": "markdown",
   "id": "013420b6-a902-44a9-b0d8-c46d53209a5a",
   "metadata": {},
   "source": [
    "#### Generating bootstrap approximations to sampling distributions"
   ]
  },
  {
   "cell_type": "code",
   "execution_count": 55,
   "id": "6ddb08ce-799d-4388-9371-95dcd47866e3",
   "metadata": {},
   "outputs": [
    {
     "data": {
      "text/plain": [
       "<Axes: ylabel='Count'>"
      ]
     },
     "execution_count": 55,
     "metadata": {},
     "output_type": "execute_result"
    },
    {
     "data": {
      "image/png": "[encoded data removed]",
      "text/plain": [
       "<Figure size 625x200 with 1 Axes>"
      ]
     },
     "metadata": {
      "image/png": {
       "height": 201,
       "width": 564
      }
     },
     "output_type": "display_data"
    }
   ],
   "source": [
    "def gen_boot_dist(sample, estfunc, B=5000):\n",
    "    \"\"\"\n",
    "    Generate estimates from the sampling distribution of the estimator `estfunc`\n",
    "    based on `B` bootstrap samples (sampling with replacement) from `sample`.\n",
    "    \"\"\"\n",
    "    n = len(sample)\n",
    "    bestimates = []\n",
    "    for i in range(0, B):\n",
    "        bsample = np.random.choice(sample, n, replace=True)\n",
    "        bestimate = estfunc(bsample)\n",
    "        bestimates.append(bestimate)\n",
    "    return bestimates\n",
    "\n",
    "\n",
    "zbars_boot = gen_boot_dist(pricesW, estfunc=mean)\n",
    "sns.histplot(zbars_boot)"
   ]
  },
  {
   "cell_type": "markdown",
   "id": "0cac9088-21b9-4642-b9e1-9ca61571e3ff",
   "metadata": {},
   "source": [
    "#### The permutation test for comparing two groups"
   ]
  },
  {
   "cell_type": "code",
   "execution_count": 56,
   "id": "a3359c3d-32b2-44bc-863a-c35c2a8e5e24",
   "metadata": {},
   "outputs": [
    {
     "data": {
      "text/plain": [
       "0.0002"
      ]
     },
     "execution_count": 56,
     "metadata": {},
     "output_type": "execute_result"
    }
   ],
   "source": [
    "def permutation_test_dmeans(xsample, ysample, P=10000):\n",
    "    \"\"\"\n",
    "    Compute the p-value of the observed difference between means\n",
    "    `dmeans(xsample,ysample)` under the null hypothesis where\n",
    "    the group membership is randomized.\n",
    "    \"\"\"\n",
    "    # 1. Compute the observed difference between means\n",
    "    obsdhat = dmeans(xsample, ysample)\n",
    "\n",
    "    # 2. Get sampling dist. of `dmeans` under H0\n",
    "    pdhats = []\n",
    "    allprices = np.concatenate((pricesW, pricesE))\n",
    "    for i in range(0, P):\n",
    "        pallprices = np.random.permutation(allprices)\n",
    "        psampleW = pallprices[0:len(pricesW)]\n",
    "        psampleE = pallprices[len(pricesW):]\n",
    "        pdhat = dmeans(psampleW, psampleE)\n",
    "        pdhats.append(pdhat)\n",
    "\n",
    "    # 3. Compute the p-value\n",
    "    tails = [d for d in pdhats if abs(d) > obsdhat]\n",
    "    pvalue = len(tails) / len(pdhats)\n",
    "    return pvalue\n",
    "\n",
    "np.random.seed(42)\n",
    "permutation_test_dmeans(pricesW, pricesE)"
   ]
  },
  {
   "cell_type": "markdown",
   "id": "5889118e-4d74-425c-8e84-c4eef002dadf",
   "metadata": {},
   "source": [
    "\n",
    "See the file [stats_helpers.py](https://github.com/minireference/noBSstatsnotebooks/blob/main/notebooks/stats_helpers.py)\n",
    "for more examples of Python functions that \n",
    "for definitions all the important statistical analysis procedures in STATS 101.\n",
    "\n",
    "In the past, students first contact with statistics was presented as a bunch of procedures\n",
    "without explanation, and students were supposed to memorize when to use which \"recipe\".\n",
    "Statistics instructors always had to \"skip the details\" because it's super complicated to\n",
    "explain all the details (probability models, sampling distributions, p-value calculations, etc.).\n",
    "\n",
    "Now that we have Python on our side, we don't have to water-down the material,\n",
    "but can instead show all the detailed calculations for statistical tests,\n",
    "as easy-to-understand Python source code, which makes it much much easier to understand what is going on.\n",
    "Currently,\n",
    "the file [stats_helpers.py](https://github.com/minireference/noBSstatsnotebooks/blob/main/notebooks/stats_helpers.py)\n",
    "is 400 lines of code.\n",
    "With a little bit of Python knowledge,\n",
    "you can read this file and understand all of statistics."
   ]
  },
  {
   "cell_type": "markdown",
   "id": "d23d66f9-3842-41c4-b6d4-48e039a9c42b",
   "metadata": {},
   "source": [
    "## How much Python do you need to know?\n",
    "\n",
    "I remind you the key aspect is to learn how to use Python as a calculator.\n",
    "\n",
    "I talked about the `for`-loops and function definitions only to make sure you can **read Python code**,\n",
    "but you don't need to write any such code to learn statistics.\n",
    "As long as you know how to call functions and run code cells in a notebook,\n",
    "then you'll still benefit from all the educational power that Python has to offer.\n",
    "\n"
   ]
  },
  {
   "cell_type": "code",
   "execution_count": null,
   "id": "a90f6557-3795-4d72-915d-68f279a142a4",
   "metadata": {},
   "outputs": [],
   "source": []
  },
  {
   "cell_type": "code",
   "execution_count": null,
   "id": "56f42acc-f9a3-41f9-ad8d-6a0f7b4354ab",
   "metadata": {},
   "outputs": [],
   "source": []
  },
  {
   "cell_type": "markdown",
   "id": "28fae377-556f-4e40-b477-5add145298ea",
   "metadata": {},
   "source": [
    "## Conclusion"
   ]
  },
  {
   "cell_type": "code",
   "execution_count": null,
   "id": "cd49e584-9391-41a1-b94b-345720cb3e5c",
   "metadata": {},
   "outputs": [],
   "source": []
  },
  {
   "cell_type": "markdown",
   "id": "e959a84d-532e-4138-9652-239cf888d279",
   "metadata": {},
   "source": [
    "## Links\n",
    "\n",
    "- Book website [noBSstats.com](https://nobsstats.com/intro.html): contains all the notebooks, demos, and visualizations from the book.\n",
    "- [Detailed book outline](https://docs.google.com/document/d/1fwep23-95U-w1QMPU31nOvUnUXE2X3s_Dbk5JuLlKAY/edit): continuously updated list of the topics that are covered in each section.\n",
    "- [Python tutorial](https://nobsstats.com/tutorials/python_tutorial.html)\n",
    "- [Pandas tutorial](https://nobsstats.com/tutorials/pandas_tutorial.html)\n",
    "- [Seaborn tutorial](https://nobsstats.com/tutorials/seaborn_tutorial.html)\n",
    "- Previous blog posts:\n",
    "  - [Outline of the stats curriculum research](https://minireference.com/blog/fixing-the-introductory-statistics-curriculum/)\n",
    "  - [Book proposal](https://minireference.com/blog/no-bullshit-guide-to-statistics-progress-update/)\n",
    "  - [Stats survey results](https://minireference.com/blog/what-stats-do-people-want-to-learn/)\n",
    "- [There's Only One Test](https://www.youtube.com/watch?v=S41zQEshs5k) talk by Allen B. Downey\n",
    "- [Statistics for Hackers](https://www.youtube.com/watch?v=Iq9DzN6mvYA) talk by Jake Vanderplas\n"
   ]
  },
  {
   "cell_type": "code",
   "execution_count": null,
   "id": "6b8b889a-ed0b-430d-aa3c-41cdf55eb398",
   "metadata": {},
   "outputs": [],
   "source": []
  },
  {
   "cell_type": "code",
   "execution_count": null,
   "id": "da44e889-59e3-4e3b-976b-ae212d605da1",
   "metadata": {},
   "outputs": [],
   "source": []
  },
  {
   "cell_type": "code",
   "execution_count": null,
   "id": "25a8565a-46ed-45e4-9515-719c8ab0dbfa",
   "metadata": {},
   "outputs": [],
   "source": []
  },
  {
   "cell_type": "code",
   "execution_count": null,
   "id": "fc178ca0-6e03-43cf-8ad5-c70bd3acb284",
   "metadata": {},
   "outputs": [],
   "source": []
  },
  {
   "cell_type": "markdown",
   "id": "b82d61a6-7c4b-4118-b9ca-c0850aba6621",
   "metadata": {},
   "source": [
    "_____"
   ]
  },
  {
   "cell_type": "markdown",
   "id": "345abe39-4b08-4ec3-8f8f-e0744cccf067",
   "metadata": {
    "tags": []
   },
   "source": [
    "# CUT MATERIAL"
   ]
  },
  {
   "cell_type": "markdown",
   "id": "c55a4b4b-af80-455c-94ea-5c4fdc526db1",
   "metadata": {},
   "source": [
    "#### Pandas equivalent"
   ]
  },
  {
   "cell_type": "code",
   "execution_count": 57,
   "id": "6ad028fd-5c2d-4423-a113-42f883ab3538",
   "metadata": {},
   "outputs": [
    {
     "data": {
      "text/plain": [
       "75.0"
      ]
     },
     "execution_count": 57,
     "metadata": {},
     "output_type": "execute_result"
    }
   ],
   "source": [
    "import pandas as pd\n",
    "gseries = pd.Series(grades)\n",
    "gseries.mean()"
   ]
  },
  {
   "cell_type": "code",
   "execution_count": null,
   "id": "3304087a-cf2c-4243-9c24-a85f43c69795",
   "metadata": {},
   "outputs": [],
   "source": []
  },
  {
   "cell_type": "markdown",
   "id": "7ce05d09-db37-41c1-b083-0df4f34a16f9",
   "metadata": {},
   "source": [
    "$N \\sim \\mathcal{N}(\\mu,\\sigma)$ has the probability density function:\n",
    "\n",
    "$$\n",
    "    f_N(x) = \\tfrac{1}{\\sigma\\sqrt{2\\pi}} e^{ -\\frac{1}{2} \\left( \\frac{x-\\mu}{\\sigma} \\right)^2 },\n",
    "$$\n",
    "\n",
    "where $\\mu$ is the mean and $\\sigma$ is the standard deviation.\n",
    "We use the notation $\\mathcal{N}(\\mu, \\sigma)$ to describe the distribution as math,\n",
    "and `norm(mu,sigma)` to describe as computer model."
   ]
  },
  {
   "cell_type": "code",
   "execution_count": null,
   "id": "2eb43e7b-273d-4f31-81ac-e2927aa6fbdc",
   "metadata": {},
   "outputs": [],
   "source": []
  },
  {
   "cell_type": "code",
   "execution_count": 58,
   "id": "cbc42451-cf62-417f-a9ed-0d3c608ca935",
   "metadata": {},
   "outputs": [],
   "source": [
    "import numpy as np\n",
    "\n",
    "def fN(x, mu=0, sigma=1):\n",
    "    const = 1 / (sigma*np.sqrt(2*np.pi))\n",
    "    exp = np.exp( -1/2 * ( (x-mu)/sigma )**2 )\n",
    "    return const * exp"
   ]
  },
  {
   "cell_type": "code",
   "execution_count": 59,
   "id": "e526f8ba-33f9-4d36-a6cf-49b655d47d03",
   "metadata": {},
   "outputs": [
    {
     "data": {
      "text/plain": [
       "0.12579440923099774"
      ]
     },
     "execution_count": 59,
     "metadata": {},
     "output_type": "execute_result"
    }
   ],
   "source": [
    "fN(3, 2, 3)"
   ]
  },
  {
   "cell_type": "code",
   "execution_count": null,
   "id": "12fa2efa-a483-421b-ad6b-376c79f33090",
   "metadata": {},
   "outputs": [],
   "source": []
  },
  {
   "cell_type": "code",
   "execution_count": 60,
   "id": "e55c4dd3-fbb0-4044-91cf-b6ee104ba292",
   "metadata": {},
   "outputs": [],
   "source": [
    "def mean(sample):\n",
    "    total = 0\n",
    "    for xi in sample:\n",
    "        total = total + xi\n",
    "    avg = total / len(sample)\n",
    "    return avg"
   ]
  },
  {
   "cell_type": "code",
   "execution_count": null,
   "id": "ba8aaac6-3208-45bf-865c-9d73553caa24",
   "metadata": {},
   "outputs": [],
   "source": []
  },
  {
   "cell_type": "code",
   "execution_count": null,
   "id": "5900b927-4053-4a93-b12a-1d6801ccc91a",
   "metadata": {},
   "outputs": [],
   "source": []
  },
  {
   "cell_type": "code",
   "execution_count": null,
   "id": "25a881c3-8725-466b-9d71-cc646a3febe4",
   "metadata": {},
   "outputs": [],
   "source": []
  },
  {
   "cell_type": "markdown",
   "id": "e42d0803-84f2-4efc-b4d0-aded6496f610",
   "metadata": {},
   "source": [
    "### Problem NN (numerical math considerations)\n",
    "\n",
    "We'll use the Python library NumPy (module `numpy` imported as `np`) \n",
    "to help us with the fancy math operations.\n",
    "To compute $e^x$ we can call `np.exp(x)`,\n",
    "and to compute the factorial of `n` we can call `np.math.factorial(n)`."
   ]
  },
  {
   "cell_type": "code",
   "execution_count": 61,
   "id": "fda48f99-b838-4784-89aa-7ef40742938e",
   "metadata": {},
   "outputs": [
    {
     "data": {
      "text/plain": [
       "<StemContainer object of 3 artists>"
      ]
     },
     "execution_count": 61,
     "metadata": {},
     "output_type": "execute_result"
    },
    {
     "data": {
      "image/png": "[encoded data removed]",
      "text/plain": [
       "<Figure size 625x200 with 1 Axes>"
      ]
     },
     "metadata": {
      "image/png": {
       "height": 204,
       "width": 547
      }
     },
     "output_type": "display_data"
    }
   ],
   "source": [
    "import numpy as np\n",
    "\n",
    "def fH(h):\n",
    "    lam = 20\n",
    "    return lam**h * np.exp(-lam) / np.math.factorial(h)\n",
    "\n",
    "# calculation is not stable for h > 14\n",
    "import matplotlib.pyplot as plt\n",
    "import numpy as np\n",
    "hs = np.arange(0,40)\n",
    "fHs = [fH(h) for h in hs]\n",
    "plt.stem(fHs)"
   ]
  },
  {
   "cell_type": "markdown",
   "id": "6733bd48-7efd-4576-85d9-1fb06d106b04",
   "metadata": {},
   "source": [
    "We can apply the log-trick to the formula for ..."
   ]
  },
  {
   "cell_type": "code",
   "execution_count": 62,
   "id": "21d0b54d-e5e9-446a-83e9-517c4102c8e7",
   "metadata": {},
   "outputs": [
    {
     "data": {
      "text/plain": [
       "<StemContainer object of 3 artists>"
      ]
     },
     "execution_count": 62,
     "metadata": {},
     "output_type": "execute_result"
    },
    {
     "data": {
      "image/png": "[encoded data removed]",
      "text/plain": [
       "<Figure size 625x200 with 1 Axes>"
      ]
     },
     "metadata": {
      "image/png": {
       "height": 201,
       "width": 547
      }
     },
     "output_type": "display_data"
    }
   ],
   "source": [
    "from scipy.special import gammaln\n",
    "\n",
    "def fHalt(h):\n",
    "    lam = 20\n",
    "    return np.exp(h * np.log(lam) - lam - gammaln(h + 1))\n",
    "\n",
    "fHalts = [fHalt(h) for h in hs]\n",
    "plt.stem(fHalts)"
   ]
  },
  {
   "cell_type": "markdown",
   "id": "e690dd10-13ba-4935-8004-5a15a58c8c4f",
   "metadata": {},
   "source": [
    "The log-transform trick and `gammaln` function are really useful for dealing with large factorials and multiplications of small probabilities,\n",
    "which occur a lot in statistical calculations.\n",
    "The need for numerical stability is one thing you need to keep in mind when\n",
    "you implement statistical algorithms in production."
   ]
  },
  {
   "cell_type": "code",
   "execution_count": null,
   "id": "b21aac3c-0921-4e58-8e77-b1a9980928ec",
   "metadata": {},
   "outputs": [],
   "source": []
  },
  {
   "cell_type": "code",
   "execution_count": null,
   "id": "cfa36e08-6a82-4939-a5e9-62cfc4dcd3a8",
   "metadata": {},
   "outputs": [],
   "source": []
  }
 ],
 "metadata": {
  "kernelspec": {
   "display_name": "Python 3 (ipykernel)",
   "language": "python",
   "name": "python3"
  },
  "language_info": {
   "codemirror_mode": {
    "name": "ipython",
    "version": 3
   },
   "file_extension": ".py",
   "mimetype": "text/x-python",
   "name": "python",
   "nbconvert_exporter": "python",
   "pygments_lexer": "ipython3",
   "version": "3.9.4"
  }
 },
 "nbformat": 4,
 "nbformat_minor": 5
}
