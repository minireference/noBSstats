{
 "cells": [
  {
   "cell_type": "markdown",
   "id": "59db57ac-d174-4c88-b395-2204273a30f1",
   "metadata": {},
   "source": [
    "# Using Python for STATS"
   ]
  },
  {
   "cell_type": "markdown",
   "id": "3f689330-7def-4935-be79-520d1c0190b6",
   "metadata": {},
   "source": [
    "## PART 1: What can python do for you?"
   ]
  },
  {
   "cell_type": "markdown",
   "id": "7bf445c3-2d7c-48ac-90be-84417d51f685",
   "metadata": {},
   "source": [
    "### Python as a calculator"
   ]
  },
  {
   "cell_type": "code",
   "execution_count": 1,
   "id": "6ff440f2-f2c4-4821-8af0-1bec72c2b608",
   "metadata": {},
   "outputs": [
    {
     "data": {
      "text/plain": [
       "5.5"
      ]
     },
     "execution_count": 1,
     "metadata": {},
     "output_type": "execute_result"
    }
   ],
   "source": [
    "2.1 + 3.4"
   ]
  },
  {
   "cell_type": "code",
   "execution_count": 44,
   "id": "58db3ab6-7417-4724-9deb-76dadd2e62b4",
   "metadata": {},
   "outputs": [
    {
     "data": {
      "text/plain": [
       "5.5"
      ]
     },
     "execution_count": 44,
     "metadata": {},
     "output_type": "execute_result"
    }
   ],
   "source": [
    "num1 = 2.1\n",
    "num2 = 3.4\n",
    "\n",
    "num1 + num2"
   ]
  },
  {
   "cell_type": "code",
   "execution_count": 46,
   "id": "305c829d-680e-4652-8399-2f55b40bee57",
   "metadata": {},
   "outputs": [
    {
     "data": {
      "text/plain": [
       "2.75"
      ]
     },
     "execution_count": 46,
     "metadata": {},
     "output_type": "execute_result"
    }
   ],
   "source": [
    "(num1 + num2) / 2"
   ]
  },
  {
   "cell_type": "code",
   "execution_count": null,
   "id": "cafb1d20-3c46-486c-856b-235a33f33b9b",
   "metadata": {},
   "outputs": [],
   "source": []
  },
  {
   "cell_type": "markdown",
   "id": "be93166d-0cd4-4beb-9e86-2929f9ed11e1",
   "metadata": {},
   "source": [
    "But what if we had to compute the average from a whole list of numbers..."
   ]
  },
  {
   "cell_type": "markdown",
   "id": "a63a1efe-8635-45a9-8beb-9c9d05fad193",
   "metadata": {},
   "source": [
    "#### Powerful primitives and built-ins"
   ]
  },
  {
   "cell_type": "code",
   "execution_count": 20,
   "id": "57b9fab6-d2bd-4ebf-a191-eb83f81d6a0b",
   "metadata": {},
   "outputs": [
    {
     "data": {
      "text/plain": [
       "75.0"
      ]
     },
     "execution_count": 20,
     "metadata": {},
     "output_type": "execute_result"
    }
   ],
   "source": [
    "grades = [80, 90, 70, 60]\n",
    "\n",
    "avg = sum(grades) / len(grades)\n",
    "avg"
   ]
  },
  {
   "cell_type": "markdown",
   "id": "719d9567-6585-4794-89ba-e314cc8e148e",
   "metadata": {},
   "source": [
    "#### For loops"
   ]
  },
  {
   "cell_type": "code",
   "execution_count": 21,
   "id": "e097b267-e125-4f0f-bb06-5e6ef837fb48",
   "metadata": {},
   "outputs": [
    {
     "data": {
      "text/plain": [
       "75.0"
      ]
     },
     "execution_count": 21,
     "metadata": {},
     "output_type": "execute_result"
    }
   ],
   "source": [
    "total = 0\n",
    "for grade in grades:\n",
    "    total = total + grade\n",
    "avg = total / len(grades)\n",
    "avg"
   ]
  },
  {
   "cell_type": "markdown",
   "id": "db84caa3-99aa-47f9-9b02-ac4babdc5152",
   "metadata": {},
   "source": [
    "#### Math functions and Python functions\n",
    "\n",
    "In math, \n",
    "a function is a mapping from input values (usually denoted x) to output values (usually denoted y).\n",
    "\n",
    "Consider the mapping that doubles the input and adds five to it,\n",
    "which we can express as the math function $f(x) = 2x+5$.\n",
    "For any input $x$,\n",
    "the output of the function $f$ is denoted $f(x)$ and is equal to $2x+5$.\n",
    "For example, $f(3)$ describes the output of the function when the input is $x=3$,\n",
    "and it is equal to $2(3)+5 = 6 + 5 = 11$."
   ]
  },
  {
   "cell_type": "markdown",
   "id": "3c9503cd-6fc5-4608-b017-9ae47ca27b92",
   "metadata": {},
   "source": [
    "The Python equivalent of the math function $f(x) = 2x+5$ is shown below. \n",
    "\n"
   ]
  },
  {
   "cell_type": "code",
   "execution_count": 47,
   "id": "00fd3024-4329-4899-af02-2023a5e722f1",
   "metadata": {},
   "outputs": [],
   "source": [
    "def f(x):\n",
    "    y = 2*x + 5\n",
    "    return y"
   ]
  },
  {
   "cell_type": "markdown",
   "id": "31e5063f-59da-423e-a7ba-60f9e1906af3",
   "metadata": {},
   "source": [
    "To **define** the Python function called `f`,\n",
    "we use the `def` keyword,\n",
    "then write all the function calculations in an indented block\n",
    "that ends with a `return` statement for the output of the function."
   ]
  },
  {
   "cell_type": "markdown",
   "id": "346a10de-ad20-425a-b65b-c471874a7d3e",
   "metadata": {},
   "source": [
    "To **call** the function `f` with input `x`, we simply writhe `f(x)` in Python,\n",
    "which is the same as the math notation we use for \"evaluate the function at the value x.\""
   ]
  },
  {
   "cell_type": "code",
   "execution_count": 48,
   "id": "bcfb4cbc-80e4-4516-b700-3281d695d9d5",
   "metadata": {},
   "outputs": [
    {
     "data": {
      "text/plain": [
       "11"
      ]
     },
     "execution_count": 48,
     "metadata": {},
     "output_type": "execute_result"
    }
   ],
   "source": [
    "f(3)"
   ]
  },
  {
   "cell_type": "markdown",
   "id": "f5142273-ad49-459a-8b55-32ffccee1db1",
   "metadata": {},
   "source": [
    "The mean is defined as $\\mathbf{Mean}(\\mathbf{x}) = \\frac{1}{n}  \\sum_{i=1}^{i=n} x_i$,\n",
    "where $\\mathbf{x} = [x_1, x_2, x_3, \\ldots, x_n]$ is a list of values."
   ]
  },
  {
   "cell_type": "code",
   "execution_count": 26,
   "id": "e55c4dd3-fbb0-4044-91cf-b6ee104ba292",
   "metadata": {},
   "outputs": [],
   "source": [
    "def mean(sample):\n",
    "    total = 0\n",
    "    for xi in sample:\n",
    "        total = total + xi\n",
    "    avg = total / len(sample)\n",
    "    return avg"
   ]
  },
  {
   "cell_type": "code",
   "execution_count": 27,
   "id": "ab56d567-0758-4b70-9b97-fb2cd1283deb",
   "metadata": {},
   "outputs": [
    {
     "data": {
      "text/plain": [
       "75.0"
      ]
     },
     "execution_count": 27,
     "metadata": {},
     "output_type": "execute_result"
    }
   ],
   "source": [
    "mean(grades)"
   ]
  },
  {
   "cell_type": "code",
   "execution_count": null,
   "id": "2d8c7281-2d21-4f92-8951-4ef76cd99144",
   "metadata": {},
   "outputs": [],
   "source": []
  },
  {
   "cell_type": "code",
   "execution_count": null,
   "id": "8e2d5bc9-fb90-4076-af3a-5d1199767b42",
   "metadata": {},
   "outputs": [],
   "source": []
  },
  {
   "cell_type": "code",
   "execution_count": 14,
   "id": "e4b22ff8-db8a-413b-bc55-61f2b64a0de9",
   "metadata": {},
   "outputs": [
    {
     "data": {
      "text/html": [
       "<div>\n",
       "<style scoped>\n",
       "    .dataframe tbody tr th:only-of-type {\n",
       "        vertical-align: middle;\n",
       "    }\n",
       "\n",
       "    .dataframe tbody tr th {\n",
       "        vertical-align: top;\n",
       "    }\n",
       "\n",
       "    .dataframe thead th {\n",
       "        text-align: right;\n",
       "    }\n",
       "</style>\n",
       "<table border=\"1\" class=\"dataframe\">\n",
       "  <thead>\n",
       "    <tr style=\"text-align: right;\">\n",
       "      <th></th>\n",
       "      <th>East</th>\n",
       "      <th>West</th>\n",
       "    </tr>\n",
       "  </thead>\n",
       "  <tbody>\n",
       "    <tr>\n",
       "      <th>0</th>\n",
       "      <td>7.7</td>\n",
       "      <td>11.8</td>\n",
       "    </tr>\n",
       "    <tr>\n",
       "      <th>1</th>\n",
       "      <td>5.9</td>\n",
       "      <td>10.0</td>\n",
       "    </tr>\n",
       "    <tr>\n",
       "      <th>2</th>\n",
       "      <td>7.0</td>\n",
       "      <td>11.0</td>\n",
       "    </tr>\n",
       "    <tr>\n",
       "      <th>3</th>\n",
       "      <td>4.8</td>\n",
       "      <td>8.6</td>\n",
       "    </tr>\n",
       "    <tr>\n",
       "      <th>4</th>\n",
       "      <td>6.3</td>\n",
       "      <td>8.3</td>\n",
       "    </tr>\n",
       "    <tr>\n",
       "      <th>5</th>\n",
       "      <td>6.3</td>\n",
       "      <td>9.4</td>\n",
       "    </tr>\n",
       "    <tr>\n",
       "      <th>6</th>\n",
       "      <td>5.5</td>\n",
       "      <td>8.0</td>\n",
       "    </tr>\n",
       "    <tr>\n",
       "      <th>7</th>\n",
       "      <td>5.4</td>\n",
       "      <td>6.8</td>\n",
       "    </tr>\n",
       "    <tr>\n",
       "      <th>8</th>\n",
       "      <td>6.5</td>\n",
       "      <td>8.5</td>\n",
       "    </tr>\n",
       "  </tbody>\n",
       "</table>\n",
       "</div>"
      ],
      "text/plain": [
       "   East  West\n",
       "0   7.7  11.8\n",
       "1   5.9  10.0\n",
       "2   7.0  11.0\n",
       "3   4.8   8.6\n",
       "4   6.3   8.3\n",
       "5   6.3   9.4\n",
       "6   5.5   8.0\n",
       "7   5.4   6.8\n",
       "8   6.5   8.5"
      ]
     },
     "execution_count": 17,
     "metadata": {},
     "output_type": "execute_result"
    }
   ],
   "source": [
    "DATA_URL = \"https://raw.githubusercontent.com/minireference/noBSstatsnotebooks/main/datasets/epriceswide.csv\"\n",
    "\n",
    "import pandas as pd\n",
    "epriceswide = pd.read_csv(DATA_URL)\n",
    "epriceswide"
   ]
  },
  {
   "cell_type": "code",
   "execution_count": 19,
   "id": "38c52689-1b5a-4053-8f76-c10a7b76cd72",
   "metadata": {},
   "outputs": [],
   "source": [
    "pricesW = epriceswide[\"West\"]\n",
    "pricesE = epriceswide[\"East\"]"
   ]
  },
  {
   "cell_type": "code",
   "execution_count": 18,
   "id": "cd3b487a-545b-4680-b315-2e7d0471d63d",
   "metadata": {},
   "outputs": [],
   "source": [
    "# # ALT. we can input data by specifying lists of values\n",
    "# pricesW = pd.Series([11.8,10,11,8.6,8.3,9.4,8,6.8,8.5])\n",
    "# pricesE = pd.Series([7.7,5.9,7,4.8,6.3,6.3,5.5,5.4,6.5])"
   ]
  },
  {
   "cell_type": "markdown",
   "id": "d484ded8-8a9f-40aa-8dae-f9c81d9f76e5",
   "metadata": {},
   "source": [
    "### Descriptive statistics"
   ]
  },
  {
   "cell_type": "code",
   "execution_count": 10,
   "id": "4bf01229-90ea-4352-a26e-7d4fa6c766c2",
   "metadata": {},
   "outputs": [
    {
     "data": {
      "text/plain": [
       "9.155555555555557"
      ]
     },
     "execution_count": 10,
     "metadata": {},
     "output_type": "execute_result"
    }
   ],
   "source": [
    "pricesW.mean()"
   ]
  },
  {
   "cell_type": "code",
   "execution_count": 52,
   "id": "81a08643-8207-4130-93f8-8e9227f54c2e",
   "metadata": {},
   "outputs": [
    {
     "data": {
      "text/plain": [
       "count     9.000000\n",
       "mean      9.155556\n",
       "std       1.562139\n",
       "min       6.800000\n",
       "25%       8.300000\n",
       "50%       8.600000\n",
       "75%      10.000000\n",
       "max      11.800000\n",
       "Name: West, dtype: float64"
      ]
     },
     "execution_count": 52,
     "metadata": {},
     "output_type": "execute_result"
    }
   ],
   "source": [
    "pricesW.describe()"
   ]
  },
  {
   "cell_type": "code",
   "execution_count": null,
   "id": "0060b041-0300-4c5d-b92b-49e0b7f26511",
   "metadata": {},
   "outputs": [],
   "source": []
  },
  {
   "cell_type": "markdown",
   "id": "3fdcf50f-49c5-4368-a924-ce53289cf298",
   "metadata": {},
   "source": [
    "### Data visualization"
   ]
  },
  {
   "cell_type": "code",
   "execution_count": 61,
   "id": "e1524fb1-9a87-4c65-b625-2330087a6d2c",
   "metadata": {},
   "outputs": [],
   "source": [
    "import seaborn as sns"
   ]
  },
  {
   "cell_type": "code",
   "execution_count": 65,
   "id": "8455cb4d-6c7b-4341-80a2-bd67126f5383",
   "metadata": {},
   "outputs": [
    {
     "data": {
      "text/plain": [
       "<AxesSubplot: xlabel='West'>"
      ]
     },
     "execution_count": 65,
     "metadata": {},
     "output_type": "execute_result"
    },
    {
     "data": {
      "image/png": "[encoded data removed]",
      "text/plain": [
       "<Figure size 640x480 with 1 Axes>"
      ]
     },
     "metadata": {},
     "output_type": "display_data"
    }
   ],
   "source": [
    "sns.boxplot(x=pricesW)"
   ]
  },
  {
   "cell_type": "code",
   "execution_count": 61,
   "id": "5891ee22-6a6c-416d-a1bb-b283bb6a6519",
   "metadata": {},
   "outputs": [
    {
     "data": {
      "text/plain": [
       "<AxesSubplot: xlabel='West'>"
      ]
     },
     "execution_count": 61,
     "metadata": {},
     "output_type": "execute_result"
    },
    {
     "data": {
      "image/png": "[encoded data removed]",
      "text/plain": [
       "<Figure size 640x480 with 1 Axes>"
      ]
     },
     "metadata": {},
     "output_type": "display_data"
    }
   ],
   "source": [
    "sns.stripplot(x=pricesW, jitter=0)"
   ]
  },
  {
   "cell_type": "code",
   "execution_count": 66,
   "id": "02caade4-678c-4681-893b-04e22a865903",
   "metadata": {},
   "outputs": [
    {
     "data": {
      "text/plain": [
       "<AxesSubplot: xlabel='West', ylabel='Count'>"
      ]
     },
     "execution_count": 66,
     "metadata": {},
     "output_type": "execute_result"
    },
    {
     "data": {
      "image/png": "[encoded data removed]",
      "text/plain": [
       "<Figure size 640x480 with 1 Axes>"
      ]
     },
     "metadata": {},
     "output_type": "display_data"
    }
   ],
   "source": [
    "sns.histplot(x=pricesW)"
   ]
  },
  {
   "cell_type": "code",
   "execution_count": null,
   "id": "7d6743af-1055-416f-9e1d-517c2ef1e988",
   "metadata": {},
   "outputs": [],
   "source": []
  },
  {
   "cell_type": "markdown",
   "id": "66858e0a-d5d6-4d19-8023-d5cc3c9629b3",
   "metadata": {},
   "source": [
    "## Understanding probability distributions"
   ]
  },
  {
   "cell_type": "markdown",
   "id": "ca16dacc-b0bb-4219-8a9e-fb64976d41ed",
   "metadata": {},
   "source": [
    "### Building computer models for probability distributions"
   ]
  },
  {
   "cell_type": "markdown",
   "id": "8b2acf54-1940-466d-8289-cd2c223f124e",
   "metadata": {},
   "source": [
    "The standard normal distribution $Z \\sim \\mathcal{N}(\\mu=0,\\sigma=1)$ has the probability density function:\n",
    "\n",
    "$$\n",
    "    f_Z(z) = \\tfrac{1}{\\sqrt{2\\pi}} e^{ - \\frac{1}{2}z^2}.\n",
    "$$\n",
    "\n",
    "The standard normal is a special case of the general normal $\\mathcal{N}(\\mu, \\sigma)$\n",
    "where $\\mu$ is the mean and $\\sigma$ is the standard deviation.\n"
   ]
  },
  {
   "cell_type": "code",
   "execution_count": null,
   "id": "ec0da7b0-e73b-4c0f-9ff1-0a084cfb1042",
   "metadata": {},
   "outputs": [],
   "source": []
  },
  {
   "cell_type": "code",
   "execution_count": 79,
   "id": "eabedcd7-cb40-4806-9eab-f1e860a9b14c",
   "metadata": {},
   "outputs": [],
   "source": [
    "import numpy as np\n",
    "\n",
    "def fZ(z):\n",
    "    const = 1 / np.sqrt(2*np.pi)\n",
    "    exp = np.exp(-1/2 * z**2)\n",
    "    return const*exp"
   ]
  },
  {
   "cell_type": "code",
   "execution_count": 80,
   "id": "cea5af88-b561-4d81-916f-dc13cb9145aa",
   "metadata": {},
   "outputs": [
    {
     "data": {
      "text/plain": [
       "0.24197072451914337"
      ]
     },
     "execution_count": 80,
     "metadata": {},
     "output_type": "execute_result"
    }
   ],
   "source": [
    "fZ(1)"
   ]
  },
  {
   "cell_type": "markdown",
   "id": "d35f0afe-70df-4906-8d14-1397f92748d3",
   "metadata": {},
   "source": [
    "$N \\sim \\mathcal{N}(\\mu,\\sigma)$ has the probability density function:\n",
    "\n",
    "$$\n",
    "    f_N(x) = \\tfrac{1}{\\sigma\\sqrt{2\\pi}} e^{ -\\frac{1}{2} \\left( \\frac{x-\\mu}{\\sigma} \\right)^2 },\n",
    "$$\n",
    "\n",
    "where $\\mu$ is the mean and $\\sigma$ is the standard deviation.\n",
    "We use the notation $\\mathcal{N}(\\mu, \\sigma)$ to describe the distribution as math,\n",
    "and `norm(mu,sigma)` to describe as computer model."
   ]
  },
  {
   "cell_type": "code",
   "execution_count": null,
   "id": "2eb43e7b-273d-4f31-81ac-e2927aa6fbdc",
   "metadata": {},
   "outputs": [],
   "source": []
  },
  {
   "cell_type": "code",
   "execution_count": 83,
   "id": "cbc42451-cf62-417f-a9ed-0d3c608ca935",
   "metadata": {},
   "outputs": [],
   "source": [
    "import numpy as np\n",
    "\n",
    "def fN(x, mu=0, sigma=1):\n",
    "    const = 1 / (sigma*np.sqrt(2*np.pi))\n",
    "    exp = np.exp(-1/2 * ( (x-mu)/sigma )**2 )\n",
    "    return const*exp"
   ]
  },
  {
   "cell_type": "code",
   "execution_count": 84,
   "id": "e526f8ba-33f9-4d36-a6cf-49b655d47d03",
   "metadata": {},
   "outputs": [
    {
     "data": {
      "text/plain": [
       "0.12579440923099774"
      ]
     },
     "execution_count": 84,
     "metadata": {},
     "output_type": "execute_result"
    }
   ],
   "source": [
    "fN(3, 2, 3)"
   ]
  },
  {
   "cell_type": "markdown",
   "id": "da9e61a8-0caa-4ffa-9182-a274fefffb0e",
   "metadata": {},
   "source": [
    "### Predefined computer models\n",
    "\n",
    "We create a computer model for the general normal distribution \n",
    "$\\mathcal{N}(\\mu, \\sigma)$ by calling `norm(mu,sigma)`,\n",
    "where `norm` is `scipy.stats.norm`."
   ]
  },
  {
   "cell_type": "code",
   "execution_count": 82,
   "id": "bbaf06c0-d415-46fd-9002-70896cd3b00c",
   "metadata": {},
   "outputs": [
    {
     "data": {
      "text/plain": [
       "<scipy.stats._distn_infrastructure.rv_continuous_frozen at 0x1309786d0>"
      ]
     },
     "execution_count": 82,
     "metadata": {},
     "output_type": "execute_result"
    }
   ],
   "source": [
    "from scipy.stats import norm\n",
    "\n",
    "rvZ = norm(0,1)\n",
    "rvZ"
   ]
  },
  {
   "cell_type": "code",
   "execution_count": null,
   "id": "f6a34bd0-37ca-4347-a82f-9cfbabcdf2c8",
   "metadata": {},
   "outputs": [],
   "source": []
  },
  {
   "cell_type": "markdown",
   "id": "8191f640-7916-456b-8946-1ddb19ae9991",
   "metadata": {},
   "source": [
    "### Probability model visualizations"
   ]
  },
  {
   "cell_type": "code",
   "execution_count": 86,
   "id": "b1061670-cdb0-4de7-8136-d343c5cf17b6",
   "metadata": {},
   "outputs": [
    {
     "data": {
      "text/plain": [
       "<AxesSubplot: >"
      ]
     },
     "execution_count": 86,
     "metadata": {},
     "output_type": "execute_result"
    },
    {
     "data": {
      "image/png": "[encoded data removed]",
      "text/plain": [
       "<Figure size 640x480 with 1 Axes>"
      ]
     },
     "metadata": {},
     "output_type": "display_data"
    }
   ],
   "source": [
    "zs = np.linspace(-4, 4)\n",
    "fZs = rvZ.pdf(zs)\n",
    "\n",
    "sns.lineplot(x=zs, y=fZs)"
   ]
  },
  {
   "cell_type": "code",
   "execution_count": null,
   "id": "6de9ca11-ec77-44de-98a6-297d7bc00c64",
   "metadata": {},
   "outputs": [],
   "source": []
  },
  {
   "cell_type": "code",
   "execution_count": null,
   "id": "12fee160-e9f8-467c-9fe8-09dc24222f26",
   "metadata": {},
   "outputs": [],
   "source": []
  },
  {
   "cell_type": "code",
   "execution_count": null,
   "id": "6242b422-693a-48b0-bd09-4327d1817fe7",
   "metadata": {},
   "outputs": [],
   "source": []
  },
  {
   "cell_type": "code",
   "execution_count": null,
   "id": "a70e80ae-059f-4266-8916-bc72b76c802e",
   "metadata": {},
   "outputs": [],
   "source": []
  },
  {
   "cell_type": "markdown",
   "id": "7a061b53-653c-4dab-a5f1-f0fcda47123e",
   "metadata": {},
   "source": [
    "## Doing probability calculations"
   ]
  },
  {
   "cell_type": "code",
   "execution_count": 95,
   "id": "1b986752-36ec-4aed-ae45-6aa0a19eed1d",
   "metadata": {},
   "outputs": [
    {
     "data": {
      "text/plain": [
       "0.02275013194817598"
      ]
     },
     "execution_count": 95,
     "metadata": {},
     "output_type": "execute_result"
    }
   ],
   "source": [
    "from scipy.integrate import quad\n",
    "quad(rvZ.pdf, 2, np.inf)[0]"
   ]
  },
  {
   "cell_type": "code",
   "execution_count": 96,
   "id": "b82714be-e5a6-4a23-be54-bfe196ea5353",
   "metadata": {},
   "outputs": [
    {
     "data": {
      "text/plain": [
       "0.02275013194817598"
      ]
     },
     "execution_count": 96,
     "metadata": {},
     "output_type": "execute_result"
    }
   ],
   "source": [
    "quad(rvZ.pdf, -np.inf, -2)[0]"
   ]
  },
  {
   "cell_type": "markdown",
   "id": "c5e8dd27-946f-40ee-9628-d9cf2321e181",
   "metadata": {},
   "source": [
    "for continuous need integral"
   ]
  },
  {
   "cell_type": "code",
   "execution_count": 97,
   "id": "e3750693-6415-4b09-9642-df1f7f8e0f29",
   "metadata": {},
   "outputs": [
    {
     "data": {
      "text/plain": [
       "0.02275013194817921"
      ]
     },
     "execution_count": 97,
     "metadata": {},
     "output_type": "execute_result"
    }
   ],
   "source": [
    "1 - rvZ.cdf(2)"
   ]
  },
  {
   "cell_type": "code",
   "execution_count": null,
   "id": "a043f55f-1cbe-4f0b-a38f-9c19adbb11e0",
   "metadata": {},
   "outputs": [],
   "source": []
  },
  {
   "cell_type": "markdown",
   "id": "fb5bc2bd-a3d2-4f8e-b9d4-aa67908b5245",
   "metadata": {},
   "source": [
    "## Running statistical simulations"
   ]
  },
  {
   "cell_type": "markdown",
   "id": "31162a34-a280-434e-b7a7-6bda0a7fa7b2",
   "metadata": {},
   "source": [
    "### Sampling distributions"
   ]
  },
  {
   "cell_type": "markdown",
   "id": "285187ea-e9ef-4a20-bb1f-05a41aa0a259",
   "metadata": {},
   "source": [
    "### Verifying p-values"
   ]
  },
  {
   "cell_type": "markdown",
   "id": "025f07b0-2443-4e6a-9779-6173bf37aa20",
   "metadata": {},
   "source": [
    "### Verifying confidence intervals"
   ]
  },
  {
   "cell_type": "code",
   "execution_count": null,
   "id": "90b66399-3118-42f9-b910-be7894f29dcc",
   "metadata": {},
   "outputs": [],
   "source": []
  },
  {
   "cell_type": "code",
   "execution_count": null,
   "id": "6bfd78ff-0981-48c4-9b9c-4a51b61b57b6",
   "metadata": {},
   "outputs": [],
   "source": []
  },
  {
   "cell_type": "code",
   "execution_count": null,
   "id": "4230b1f6-e1c3-4958-86e4-0b610cd248f8",
   "metadata": {},
   "outputs": [],
   "source": []
  },
  {
   "cell_type": "code",
   "execution_count": null,
   "id": "bf862f60-b37e-42eb-b738-6e081f79110b",
   "metadata": {},
   "outputs": [],
   "source": []
  },
  {
   "cell_type": "code",
   "execution_count": null,
   "id": "9ce3f0d2-c485-467a-a0fd-10d10f980fa2",
   "metadata": {},
   "outputs": [],
   "source": []
  },
  {
   "cell_type": "markdown",
   "id": "1de45e91-cf6d-4c20-8d06-100488b548ad",
   "metadata": {},
   "source": [
    "## Resampling methods"
   ]
  },
  {
   "cell_type": "markdown",
   "id": "3029a7e9-2f11-4b1f-a179-947df756fd2d",
   "metadata": {},
   "source": [
    "### Bootstrap estimation"
   ]
  },
  {
   "cell_type": "code",
   "execution_count": null,
   "id": "c7b71806-22c0-4ae0-9433-c1385e589be8",
   "metadata": {},
   "outputs": [],
   "source": []
  },
  {
   "cell_type": "markdown",
   "id": "8b0a8e9e-3e3b-4ed8-9927-a546792932c3",
   "metadata": {},
   "source": [
    "### Permutation test"
   ]
  },
  {
   "cell_type": "code",
   "execution_count": null,
   "id": "e7bc88c5-4414-4894-87a2-4efe99c6523e",
   "metadata": {},
   "outputs": [],
   "source": []
  },
  {
   "cell_type": "markdown",
   "id": "345999ef-eab8-4c4d-b590-38cffc41460f",
   "metadata": {},
   "source": [
    "## Data cleaning"
   ]
  },
  {
   "cell_type": "code",
   "execution_count": null,
   "id": "70161723-bfab-4810-9cef-49cff61aa74d",
   "metadata": {},
   "outputs": [],
   "source": []
  },
  {
   "cell_type": "markdown",
   "id": "f84ed421-3c6e-40cf-bd87-53d286620a07",
   "metadata": {},
   "source": [
    "## Statistics procedures as code"
   ]
  },
  {
   "cell_type": "code",
   "execution_count": null,
   "id": "6ddb08ce-799d-4388-9371-95dcd47866e3",
   "metadata": {},
   "outputs": [],
   "source": []
  },
  {
   "cell_type": "code",
   "execution_count": null,
   "id": "a3359c3d-32b2-44bc-863a-c35c2a8e5e24",
   "metadata": {},
   "outputs": [],
   "source": []
  },
  {
   "cell_type": "markdown",
   "id": "345abe39-4b08-4ec3-8f8f-e0744cccf067",
   "metadata": {},
   "source": [
    "# CUT MATERIAL"
   ]
  },
  {
   "cell_type": "markdown",
   "id": "c55a4b4b-af80-455c-94ea-5c4fdc526db1",
   "metadata": {},
   "source": [
    "#### Pandas equivalent"
   ]
  },
  {
   "cell_type": "code",
   "execution_count": 50,
   "id": "6ad028fd-5c2d-4423-a113-42f883ab3538",
   "metadata": {},
   "outputs": [
    {
     "data": {
      "text/plain": [
       "75.0"
      ]
     },
     "execution_count": 50,
     "metadata": {},
     "output_type": "execute_result"
    }
   ],
   "source": [
    "import pandas as pd\n",
    "gseries = pd.Series(grades)\n",
    "gseries.mean()"
   ]
  },
  {
   "cell_type": "code",
   "execution_count": null,
   "id": "3304087a-cf2c-4243-9c24-a85f43c69795",
   "metadata": {},
   "outputs": [],
   "source": []
  }
 ],
 "metadata": {
  "kernelspec": {
   "display_name": "Python 3 (ipykernel)",
   "language": "python",
   "name": "python3"
  },
  "language_info": {
   "codemirror_mode": {
    "name": "ipython",
    "version": 3
   },
   "file_extension": ".py",
   "mimetype": "text/x-python",
   "name": "python",
   "nbconvert_exporter": "python",
   "pygments_lexer": "ipython3",
   "version": "3.9.4"
  }
 },
 "nbformat": 4,
 "nbformat_minor": 5
}
