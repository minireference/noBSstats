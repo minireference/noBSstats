{
 "cells": [
  {
   "cell_type": "markdown",
   "id": "eea5d985-784c-4445-8187-deabc1e28ccc",
   "metadata": {},
   "source": [
    "# Exercises for Section 2.1 Discrete random variables \n",
    "\n",
    "This notebook contains the solutions to the exercises from [Section 2.1 Discrete random variables]() of the **No Bullshit Guide to Statistics**."
   ]
  },
  {
   "cell_type": "markdown",
   "id": "735dd137-e844-435b-a4f7-7b6a98279e2f",
   "metadata": {
    "tags": []
   },
   "source": [
    "### Notebooks setup"
   ]
  },
  {
   "cell_type": "code",
   "execution_count": 1,
   "id": "18365c68-a281-4bc1-921b-6a3d6e08471e",
   "metadata": {
    "id": "VFzPCGo6I1NJ"
   },
   "outputs": [],
   "source": [
    "import os\n",
    "import numpy as np\n",
    "import pandas as pd\n",
    "import matplotlib.pyplot as plt\n",
    "import seaborn as sns"
   ]
  },
  {
   "cell_type": "code",
   "execution_count": 2,
   "id": "73ca00fa-0820-416b-959f-74126de30439",
   "metadata": {},
   "outputs": [],
   "source": [
    "# Pandas setup\n",
    "pd.set_option(\"display.precision\", 2)"
   ]
  },
  {
   "cell_type": "code",
   "execution_count": 3,
   "id": "13b33328-fdd3-4a55-9275-5db87fb55e81",
   "metadata": {},
   "outputs": [],
   "source": [
    "# Figures setup\n",
    "DESTDIR = \"figures/prob\"  # where to save figures\n",
    "\n",
    "rcparams = {\n",
    "    'figure.figsize': (7,4),\n",
    "    #     'figure.dpi': 300,\n",
    "    'font.serif': ['Palatino'],\n",
    "    'font.family': 'serif',    \n",
    "    #     'font.size': 20,\n",
    "    #     'figure.titlesize': 16,\n",
    "    #     'axes.titlesize':22,\n",
    "    #     'axes.labelsize':20,\n",
    "    #     'xtick.labelsize': 12,\n",
    "    #     'ytick.labelsize': 12,\n",
    "    #     'legend.fontsize': 16,\n",
    "    #     'legend.title_fontsize': 18,\n",
    "}\n",
    "sns.set_theme(\n",
    "    context=\"paper\",\n",
    "    style=\"whitegrid\",\n",
    "    palette=\"colorblind\",  # ALT sns.color_palette('Blues', 4)\n",
    "    rc=rcparams,\n",
    ")\n",
    "\n",
    "%config InlineBackend.figure_format = 'retina'"
   ]
  },
  {
   "cell_type": "markdown",
   "id": "5131f2bb-7233-44a8-bc3a-eb99c6767b0c",
   "metadata": {},
   "source": [
    "## Python functions defined in the text"
   ]
  },
  {
   "cell_type": "code",
   "execution_count": 4,
   "id": "65ba89d4-5eae-46bd-bcd5-ecd6a0ef0209",
   "metadata": {},
   "outputs": [],
   "source": [
    "# define the probability mass function for the random variable D\n",
    "def fD(d):\n",
    "    if d in {1,2,3,4,5,6}:\n",
    "        return 1/6\n",
    "    else:\n",
    "        return 0"
   ]
  },
  {
   "cell_type": "code",
   "execution_count": 5,
   "id": "cde3d156-cdf7-4aee-85b0-10dfbfefdfee",
   "metadata": {},
   "outputs": [],
   "source": [
    "import numpy as np\n",
    "\n",
    "def fH(h):\n",
    "    lam = 20\n",
    "    return lam**h * np.exp(-lam) / np.math.factorial(h)"
   ]
  },
  {
   "cell_type": "code",
   "execution_count": 6,
   "id": "724b5396-14b3-40ce-b19d-72b0e04e6579",
   "metadata": {},
   "outputs": [],
   "source": [
    "def FH(b):\n",
    "    return sum([fH(h) for h in range(0,b+1)])"
   ]
  },
  {
   "cell_type": "code",
   "execution_count": null,
   "id": "29a8567f-3c23-478f-832a-64fe1aa54189",
   "metadata": {},
   "outputs": [],
   "source": []
  },
  {
   "cell_type": "markdown",
   "id": "2c01b315-47f3-4789-8b0f-fce90afebf30",
   "metadata": {},
   "source": [
    "## Exercies 1"
   ]
  },
  {
   "cell_type": "markdown",
   "id": "4c988c0c-fdca-45db-9064-7ca894aee994",
   "metadata": {},
   "source": [
    "#### E2.1"
   ]
  },
  {
   "cell_type": "code",
   "execution_count": 7,
   "id": "9fd05121-0e80-490f-afd1-1a07edea0fe0",
   "metadata": {},
   "outputs": [
    {
     "data": {
      "text/plain": [
       "0.6666666666666666"
      ]
     },
     "execution_count": 7,
     "metadata": {},
     "output_type": "execute_result"
    }
   ],
   "source": [
    "sum([fD(d) for d in range(2,5+1)])"
   ]
  },
  {
   "cell_type": "markdown",
   "id": "15eb5c67-4212-4380-a8d1-3e46a8e6811f",
   "metadata": {},
   "source": [
    "#### E2.2"
   ]
  },
  {
   "cell_type": "code",
   "execution_count": 8,
   "id": "d46b2b74-90d9-44c0-8cb8-9bc51457d0bd",
   "metadata": {},
   "outputs": [
    {
     "data": {
      "text/plain": [
       "[0.25, 0.25, 0.25, 0.25]"
      ]
     },
     "execution_count": 8,
     "metadata": {},
     "output_type": "execute_result"
    }
   ],
   "source": [
    "# define the probability mass function for the random variable D4\n",
    "def fD4(d):\n",
    "    if d in {1,2,3,4}:\n",
    "        return 1/4\n",
    "    else:\n",
    "        return 0\n",
    "\n",
    "[fD4(d) for d in range(1,4+1)]"
   ]
  },
  {
   "cell_type": "markdown",
   "id": "8a1aba98-d84c-460f-89b8-04c9903f6dda",
   "metadata": {},
   "source": [
    "#### E2.3"
   ]
  },
  {
   "cell_type": "code",
   "execution_count": 9,
   "id": "cd80ce88-5e4b-453d-8292-dc74ce85465e",
   "metadata": {},
   "outputs": [
    {
     "data": {
      "text/plain": [
       "Text(0, 0.5, '$f_Y$')"
      ]
     },
     "execution_count": 9,
     "metadata": {},
     "output_type": "execute_result"
    },
    {
     "data": {
      "image/png": "[encoded data removed]",
      "text/plain": [
       "<Figure size 504x288 with 1 Axes>"
      ]
     },
     "metadata": {
      "image/png": {
       "height": 263,
       "width": 432
      }
     },
     "output_type": "display_data"
    }
   ],
   "source": [
    "ys = [1,2,3]\n",
    "fYs = [0.2, 0.5, 0.3]\n",
    "\n",
    "fig, ax = plt.subplots()\n",
    "plt.stem(ys, fYs, basefmt=\" \")\n",
    "ax.set_xticks([1,2,3])\n",
    "ax.set_xlim(0,4)\n",
    "ax.set_yticks([0])\n",
    "ax.set_xlabel('$y$')\n",
    "ax.set_ylabel('$f_Y$')"
   ]
  },
  {
   "cell_type": "code",
   "execution_count": 10,
   "id": "049faa1c-8047-4f0c-9a96-b8eb238a6e11",
   "metadata": {},
   "outputs": [
    {
     "data": {
      "text/plain": [
       "[0.2, 0.5, 0.3]"
      ]
     },
     "execution_count": 10,
     "metadata": {},
     "output_type": "execute_result"
    }
   ],
   "source": [
    "# fY(1), fY(2), fY(3) are\n",
    "fYs"
   ]
  },
  {
   "cell_type": "markdown",
   "id": "693e87e6-0a05-446d-9adc-b5c83d2eede7",
   "metadata": {},
   "source": [
    "#### E2.4\n",
    "\n",
    "Define $A$ as the set of outcomes $\\{5,6\\}$,\n",
    "which is a subset of the sample space $\\{1,2,3,4,5,6\\}$ for the random variable $D$.\n",
    "The complement of $A$ is $A^c= \\{1,2,3,4\\}$,\n",
    "and we know $ \\Pr(A^c)= \\frac{4}{6}$.\n",
    "Applying the complement rule,\n",
    "we obtain $\\Pr(A) = 1 - \\Pr(A^c)  = 1 - \\frac{4}{6} = \\frac{2}{6}$.\n"
   ]
  },
  {
   "cell_type": "code",
   "execution_count": null,
   "id": "3ace9745-cff9-4934-95fd-dda239bba74e",
   "metadata": {},
   "outputs": [],
   "source": []
  },
  {
   "cell_type": "code",
   "execution_count": null,
   "id": "e442adfa-b76f-4a73-8d7e-95e2ef9b4679",
   "metadata": {},
   "outputs": [],
   "source": []
  },
  {
   "cell_type": "code",
   "execution_count": null,
   "id": "e73a7427-4ae7-4b8a-aa5a-b06d7d763d5c",
   "metadata": {},
   "outputs": [],
   "source": []
  },
  {
   "cell_type": "code",
   "execution_count": null,
   "id": "8db0c5ac-39d0-4a9a-8f91-f27d51f848d4",
   "metadata": {},
   "outputs": [],
   "source": []
  },
  {
   "cell_type": "markdown",
   "id": "61744e95-25a6-46a8-9af7-4b87a6ea65f3",
   "metadata": {},
   "source": [
    "## Exercies 2"
   ]
  },
  {
   "cell_type": "markdown",
   "id": "555d8e29-c63f-4cbb-81bd-85d67ba908ff",
   "metadata": {},
   "source": [
    "#### E2.5"
   ]
  },
  {
   "cell_type": "code",
   "execution_count": 11,
   "id": "829a384f-8309-433b-9f9f-eba7f5315a24",
   "metadata": {},
   "outputs": [
    {
     "data": {
      "text/plain": [
       "0.9815299064117703"
      ]
     },
     "execution_count": 11,
     "metadata": {},
     "output_type": "execute_result"
    }
   ],
   "source": [
    "FH(30) - FH(10-1)"
   ]
  },
  {
   "cell_type": "code",
   "execution_count": null,
   "id": "48f9d3ba-b8fa-493a-a1dd-b34e9e3b5cae",
   "metadata": {},
   "outputs": [],
   "source": []
  },
  {
   "cell_type": "markdown",
   "id": "e2e21acd-b3ec-4ee1-ba3e-ed0e38d410dc",
   "metadata": {},
   "source": [
    "#### E2.6"
   ]
  },
  {
   "cell_type": "code",
   "execution_count": 12,
   "id": "b52e61f4-4c41-44d9-9700-b62aa03a6929",
   "metadata": {},
   "outputs": [],
   "source": [
    "# define the probability mass function for the random variable D\n",
    "def fD(d):\n",
    "    if d in {1,2,3,4,5,6}:\n",
    "        return 1/6\n",
    "    else:\n",
    "        return 0\n",
    "\n",
    "def FD(b):\n",
    "    return sum([fD(d) for d in range(0,b+1)])"
   ]
  },
  {
   "cell_type": "code",
   "execution_count": 13,
   "id": "42e477cd-718f-4fcf-b757-36ac1774fd54",
   "metadata": {},
   "outputs": [
    {
     "data": {
      "text/plain": [
       "(0.16666666666666666,\n",
       " 0.3333333333333333,\n",
       " 0.5,\n",
       " 0.6666666666666666,\n",
       " 0.8333333333333333,\n",
       " 0.9999999999999999)"
      ]
     },
     "execution_count": 13,
     "metadata": {},
     "output_type": "execute_result"
    }
   ],
   "source": [
    "FD(1), FD(2), FD(3), FD(4), FD(5), FD(6)"
   ]
  },
  {
   "cell_type": "code",
   "execution_count": null,
   "id": "7344105c-a62c-4887-88cd-dd816f9ec396",
   "metadata": {},
   "outputs": [],
   "source": []
  },
  {
   "cell_type": "markdown",
   "id": "d20b4e0b-1023-4df8-ba22-cefca7f7714c",
   "metadata": {},
   "source": [
    "#### E2.7"
   ]
  },
  {
   "cell_type": "code",
   "execution_count": 14,
   "id": "8ab8ee5c-7708-473b-bbf0-7194d1a2d451",
   "metadata": {},
   "outputs": [
    {
     "data": {
      "text/plain": [
       "Text(0, 0.5, '$F_D$')"
      ]
     },
     "execution_count": 14,
     "metadata": {},
     "output_type": "execute_result"
    },
    {
     "data": {
      "image/png": "[encoded data removed]",
      "text/plain": [
       "<Figure size 504x288 with 1 Axes>"
      ]
     },
     "metadata": {
      "image/png": {
       "height": 262,
       "width": 438
      }
     },
     "output_type": "display_data"
    }
   ],
   "source": [
    "from scipy.stats.distributions import randint\n",
    "\n",
    "rvD = randint(1, 6+1)\n",
    "ds = np.linspace(0, 7, 400)\n",
    "FDs = rvD.cdf(ds)\n",
    "\n",
    "ax = sns.lineplot(x=ds, y=FDs)\n",
    "ax.set_xlabel('b')\n",
    "ax.set_ylabel('$F_D$')"
   ]
  },
  {
   "cell_type": "code",
   "execution_count": null,
   "id": "2fa057a7-7d69-48ec-88a3-70583f5a1ea3",
   "metadata": {},
   "outputs": [],
   "source": []
  },
  {
   "cell_type": "markdown",
   "id": "b20d9c85-a069-4dfb-a2e4-15ed8aa087f0",
   "metadata": {},
   "source": [
    "#### E2.8"
   ]
  },
  {
   "cell_type": "code",
   "execution_count": 15,
   "id": "b2e8319b-cbc8-4dd3-a1c7-74a072210bb9",
   "metadata": {},
   "outputs": [
    {
     "data": {
      "text/plain": [
       "(0.3814219494471548,\n",
       " 0.47025726683924,\n",
       " 0.5590925842313252,\n",
       " 0.6436976484142636,\n",
       " 0.7206113431260257)"
      ]
     },
     "execution_count": 15,
     "metadata": {},
     "output_type": "execute_result"
    }
   ],
   "source": [
    "FH(18), FH(19), FH(20), FH(21), FH(22)"
   ]
  },
  {
   "cell_type": "code",
   "execution_count": null,
   "id": "6c182b7c-9d66-4e4c-ab9b-4821b26523be",
   "metadata": {},
   "outputs": [],
   "source": []
  },
  {
   "cell_type": "markdown",
   "id": "15ab6383-5f9e-43ac-9c59-3966bfba4aaf",
   "metadata": {},
   "source": [
    "#### E2.9"
   ]
  },
  {
   "cell_type": "code",
   "execution_count": 16,
   "id": "a5be55b0-5d96-4629-95e6-55abb34cf492",
   "metadata": {},
   "outputs": [
    {
     "data": {
      "text/plain": [
       "(0.22107420155444096, 0.29702839792467384, 0.3814219494471548)"
      ]
     },
     "execution_count": 16,
     "metadata": {},
     "output_type": "execute_result"
    }
   ],
   "source": [
    "FH(16), FH(17), FH(18)"
   ]
  },
  {
   "cell_type": "markdown",
   "id": "af40ef23-5272-4c73-ad86-a2c886d38da0",
   "metadata": {},
   "source": [
    "So $F_H^{-1}(0.25) = 17$.\n",
    "This is the smallest value $b$ for which $F_H(b)$ is greater than $0.25$."
   ]
  },
  {
   "cell_type": "code",
   "execution_count": 17,
   "id": "5b4428fa-3827-4466-895f-295734a54f66",
   "metadata": {},
   "outputs": [
    {
     "data": {
      "text/plain": [
       "17.0"
      ]
     },
     "execution_count": 17,
     "metadata": {},
     "output_type": "execute_result"
    }
   ],
   "source": [
    "# ALT. by calling the inverse-CDF function on rvH object\n",
    "from scipy.stats.distributions import poisson\n",
    "rvH = poisson(20)\n",
    "rvH.ppf(0.25)"
   ]
  },
  {
   "cell_type": "code",
   "execution_count": null,
   "id": "1a58bcc0-4c4c-41b2-9a7a-c135418cba3e",
   "metadata": {},
   "outputs": [],
   "source": []
  },
  {
   "cell_type": "code",
   "execution_count": null,
   "id": "216898fb-7226-4647-b60b-7f3ac9b3e98f",
   "metadata": {},
   "outputs": [],
   "source": []
  },
  {
   "cell_type": "code",
   "execution_count": null,
   "id": "1b7403d8-ab9b-4a17-90eb-b2d41057c2f9",
   "metadata": {},
   "outputs": [],
   "source": []
  },
  {
   "cell_type": "markdown",
   "id": "812b1b34-1a1c-4e52-92e0-fa16724444c5",
   "metadata": {},
   "source": [
    "## Exercies 3\n"
   ]
  },
  {
   "cell_type": "markdown",
   "id": "b8749355-10db-4d3b-94f2-b14c706a10c5",
   "metadata": {},
   "source": [
    "#### E2.10"
   ]
  },
  {
   "cell_type": "code",
   "execution_count": 18,
   "id": "91e760ff-33ae-46da-a94a-1becc7b4f1f1",
   "metadata": {},
   "outputs": [],
   "source": [
    "# define the probability mass function for the random variable C\n",
    "def fC(c):\n",
    "    if c in {\"heads\", \"tails\"}:\n",
    "        return 1/2\n",
    "    else:\n",
    "        return 0"
   ]
  },
  {
   "cell_type": "code",
   "execution_count": 19,
   "id": "29ccab7f-0eb9-4c99-b803-593fbd089bd9",
   "metadata": {},
   "outputs": [],
   "source": [
    "def w(c):\n",
    "    if c == \"heads\":\n",
    "        return 1.90\n",
    "    else:\n",
    "        return 0"
   ]
  },
  {
   "cell_type": "code",
   "execution_count": 20,
   "id": "d3935db8-0f81-4242-ac64-a01c044696e9",
   "metadata": {},
   "outputs": [
    {
     "data": {
      "text/plain": [
       "0.95"
      ]
     },
     "execution_count": 20,
     "metadata": {},
     "output_type": "execute_result"
    }
   ],
   "source": [
    "sum([w(c) * fC(c) for c in {\"heads\", \"tails\"}])"
   ]
  },
  {
   "cell_type": "code",
   "execution_count": null,
   "id": "cb4656c2-b6a2-4835-ace1-d4d9b456a553",
   "metadata": {},
   "outputs": [],
   "source": []
  },
  {
   "cell_type": "markdown",
   "id": "f5b4b749-f3b1-4f68-9f36-456d9bb5dce3",
   "metadata": {},
   "source": [
    "#### E2.11"
   ]
  },
  {
   "cell_type": "code",
   "execution_count": 21,
   "id": "2866dd82-b243-4397-a2d2-b9a18a87625f",
   "metadata": {},
   "outputs": [
    {
     "data": {
      "text/plain": [
       "1.1666666666666665"
      ]
     },
     "execution_count": 21,
     "metadata": {},
     "output_type": "execute_result"
    }
   ],
   "source": [
    "def u(d):\n",
    "    if d == 6:\n",
    "        return 4\n",
    "    elif d == 5:\n",
    "        return 3\n",
    "    else:\n",
    "        return 0\n",
    "\n",
    "sum([u(d)*rvD.pmf(d) for d in range(1,6+1)])"
   ]
  },
  {
   "cell_type": "code",
   "execution_count": null,
   "id": "090e07e7-4a06-43b2-9c35-c587cf5f600a",
   "metadata": {},
   "outputs": [],
   "source": []
  },
  {
   "cell_type": "markdown",
   "id": "d8a02dea-d71f-40a2-8ccd-39db92025fa2",
   "metadata": {},
   "source": [
    "#### E2.12\n",
    "\n",
    "See derivation in the book."
   ]
  },
  {
   "cell_type": "code",
   "execution_count": null,
   "id": "44a2a8b8-5008-44b3-b210-4d2348f9dc04",
   "metadata": {},
   "outputs": [],
   "source": []
  },
  {
   "cell_type": "code",
   "execution_count": null,
   "id": "314b3124-1487-4eb6-9fca-13787460440e",
   "metadata": {},
   "outputs": [],
   "source": []
  },
  {
   "cell_type": "code",
   "execution_count": null,
   "id": "adad89e9-ffaf-4b54-bf92-627c0459e113",
   "metadata": {},
   "outputs": [],
   "source": []
  },
  {
   "cell_type": "code",
   "execution_count": null,
   "id": "e065272f-c7c8-473a-8e0d-c5dd6b62a125",
   "metadata": {},
   "outputs": [],
   "source": []
  },
  {
   "cell_type": "markdown",
   "id": "9f25ccf9-1215-4b12-9307-f038999c6c9b",
   "metadata": {},
   "source": [
    "#### E2.13"
   ]
  },
  {
   "cell_type": "code",
   "execution_count": 22,
   "id": "1b99e67b-0108-4094-9477-43e24def09f9",
   "metadata": {},
   "outputs": [],
   "source": [
    "def fD20(d):\n",
    "    if d in range(1,20+1):\n",
    "        return 1/20\n",
    "    else:\n",
    "        return 0"
   ]
  },
  {
   "cell_type": "code",
   "execution_count": 23,
   "id": "c4cc00a6-1599-40c8-b01d-46f4cb9d4b37",
   "metadata": {},
   "outputs": [
    {
     "data": {
      "text/plain": [
       "10.5"
      ]
     },
     "execution_count": 23,
     "metadata": {},
     "output_type": "execute_result"
    }
   ],
   "source": [
    "# Expected value of the random variable D20\n",
    "sum([d*fD20(d) for d in range(1,20+1)])"
   ]
  },
  {
   "cell_type": "code",
   "execution_count": null,
   "id": "6a932263-0d13-4fdb-a2e2-b394ffd0b82e",
   "metadata": {},
   "outputs": [],
   "source": []
  },
  {
   "cell_type": "code",
   "execution_count": null,
   "id": "f930627c-0918-4e07-a2f6-cabec5167d62",
   "metadata": {},
   "outputs": [],
   "source": []
  },
  {
   "cell_type": "code",
   "execution_count": null,
   "id": "057dcbc1-3edd-43dc-9777-8ee5d5cb2abb",
   "metadata": {},
   "outputs": [],
   "source": []
  },
  {
   "cell_type": "markdown",
   "id": "0df9abee-0ef6-4692-bfd6-d05d0fced5af",
   "metadata": {},
   "source": [
    "## Exercies 4"
   ]
  },
  {
   "cell_type": "markdown",
   "id": "76304f9d-be50-4d8c-a96e-bd3daa201c22",
   "metadata": {},
   "source": [
    "#### E2.14"
   ]
  },
  {
   "cell_type": "code",
   "execution_count": 24,
   "id": "be03149b-a7e1-4f93-bdb8-9d31eb6efbb6",
   "metadata": {},
   "outputs": [],
   "source": [
    "from scipy.stats.distributions import randint\n",
    "rvD = randint(1,6+1)"
   ]
  },
  {
   "cell_type": "code",
   "execution_count": 25,
   "id": "ce5147af-33f6-4bbf-8338-4d3443e10071",
   "metadata": {},
   "outputs": [
    {
     "data": {
      "text/plain": [
       "[0.16666666666666666,\n",
       " 0.16666666666666666,\n",
       " 0.16666666666666666,\n",
       " 0.16666666666666666,\n",
       " 0.16666666666666666,\n",
       " 0.16666666666666666]"
      ]
     },
     "execution_count": 25,
     "metadata": {},
     "output_type": "execute_result"
    }
   ],
   "source": [
    "[rvD.pmf(d) for d in range(1,6+1)]"
   ]
  },
  {
   "cell_type": "code",
   "execution_count": 26,
   "id": "a8c338f9-778f-4b0f-90be-24743bc54b43",
   "metadata": {},
   "outputs": [
    {
     "data": {
      "text/plain": [
       "0.9999999999999999"
      ]
     },
     "execution_count": 26,
     "metadata": {},
     "output_type": "execute_result"
    }
   ],
   "source": [
    "sum([rvD.pmf(d) for d in range(1,6+1)])"
   ]
  },
  {
   "cell_type": "code",
   "execution_count": 27,
   "id": "d7c6c1dc-9bad-4f69-9770-10632eea3883",
   "metadata": {},
   "outputs": [
    {
     "data": {
      "text/plain": [
       "0.6666666666666666"
      ]
     },
     "execution_count": 27,
     "metadata": {},
     "output_type": "execute_result"
    }
   ],
   "source": [
    "# F_D(4) = \n",
    "sum([rvD.pmf(d) for d in range(1,4+1)])"
   ]
  },
  {
   "cell_type": "code",
   "execution_count": 28,
   "id": "adaa1ba8-8117-4091-a182-370d7533c211",
   "metadata": {},
   "outputs": [
    {
     "data": {
      "text/plain": [
       "0.6666666666666666"
      ]
     },
     "execution_count": 28,
     "metadata": {},
     "output_type": "execute_result"
    }
   ],
   "source": [
    "# F_D(4) = \n",
    "rvD.cdf(4)"
   ]
  },
  {
   "cell_type": "code",
   "execution_count": 29,
   "id": "4e4a5c4f-3a73-4ca5-a1cc-bfa6366023b0",
   "metadata": {},
   "outputs": [
    {
     "data": {
      "text/plain": [
       "(3.5, 2.9166666666666665)"
      ]
     },
     "execution_count": 29,
     "metadata": {},
     "output_type": "execute_result"
    }
   ],
   "source": [
    "# mu =      sigma^2 =\n",
    "rvD.mean(), rvD.var()"
   ]
  },
  {
   "cell_type": "code",
   "execution_count": 30,
   "id": "fec63594-20c4-4c2e-94b1-1099ccd424d3",
   "metadata": {},
   "outputs": [
    {
     "data": {
      "text/plain": [
       "0.8333333333333333"
      ]
     },
     "execution_count": 30,
     "metadata": {},
     "output_type": "execute_result"
    }
   ],
   "source": [
    "def w(d):\n",
    "    if d == 6:\n",
    "        return 5\n",
    "    else:\n",
    "        return 0\n",
    "\n",
    "sum([w(d)*rvD.pmf(d) for d in range(1,6+1)])"
   ]
  },
  {
   "cell_type": "code",
   "execution_count": 31,
   "id": "adde68cc-2136-44d3-9d65-6511dd096362",
   "metadata": {},
   "outputs": [],
   "source": [
    "# Calling:\n",
    "# rvD.expect(w)\n",
    "\n",
    "# Raises an error:\n",
    "# ValueError: The truth value of an array is ambiguous.\n",
    "#             Use a.any() or a.all()"
   ]
  },
  {
   "cell_type": "markdown",
   "id": "f9315027-bea3-4ac4-8829-6d21e3fb466a",
   "metadata": {},
   "source": [
    "This error occurs because the Python function `w` chokes\n",
    "if we pass it an `array` of inputs to evaluate,\n",
    "which is what the method `rvD.expect` does (for efficiency reasons).\n",
    "\n",
    "We can easily solve this by \"vectorizing\" the function using the NumPy helper method `vectorize`, which makes any Python function work with vector inputs (arrays of numbers)."
   ]
  },
  {
   "cell_type": "code",
   "execution_count": 32,
   "id": "0a1d3a39-da7c-4bcf-b0e0-2de5b85b9718",
   "metadata": {},
   "outputs": [
    {
     "data": {
      "text/plain": [
       "0.8333333333333333"
      ]
     },
     "execution_count": 32,
     "metadata": {},
     "output_type": "execute_result"
    }
   ],
   "source": [
    "# create a \"vectorized\" version of the function w\n",
    "vw = np.vectorize(w)\n",
    "rvD.expect(vw)"
   ]
  },
  {
   "cell_type": "code",
   "execution_count": null,
   "id": "71119ac7-240c-48db-9893-aba4b03d1b76",
   "metadata": {},
   "outputs": [],
   "source": []
  },
  {
   "cell_type": "markdown",
   "id": "a51aea65-17e2-4d1c-827e-cc74c7602a63",
   "metadata": {},
   "source": [
    "#### E2.15"
   ]
  },
  {
   "cell_type": "code",
   "execution_count": 33,
   "id": "e3c95eeb-c82a-4a22-b1ae-440bc4de2fdd",
   "metadata": {},
   "outputs": [],
   "source": [
    "from scipy.stats.distributions import randint\n",
    "rvD20 = randint(1, 20+1)"
   ]
  },
  {
   "cell_type": "code",
   "execution_count": 34,
   "id": "80225c96-5db6-4674-8661-c802504d63df",
   "metadata": {},
   "outputs": [
    {
     "data": {
      "text/plain": [
       "0.05"
      ]
     },
     "execution_count": 34,
     "metadata": {},
     "output_type": "execute_result"
    }
   ],
   "source": [
    "rvD20.pmf(7)"
   ]
  },
  {
   "cell_type": "code",
   "execution_count": 35,
   "id": "fd62057a-af0c-4f3d-9083-4c9724320836",
   "metadata": {},
   "outputs": [
    {
     "data": {
      "text/plain": [
       "0.2"
      ]
     },
     "execution_count": 35,
     "metadata": {},
     "output_type": "execute_result"
    }
   ],
   "source": [
    "sum([rvD20.pmf(d) for d in range(1,4+1)])"
   ]
  },
  {
   "cell_type": "code",
   "execution_count": 36,
   "id": "18572a46-0a6c-465a-8fca-9449c7e2b7d5",
   "metadata": {},
   "outputs": [
    {
     "data": {
      "text/plain": [
       "0.2"
      ]
     },
     "execution_count": 36,
     "metadata": {},
     "output_type": "execute_result"
    }
   ],
   "source": [
    "rvD20.cdf(4)"
   ]
  },
  {
   "cell_type": "code",
   "execution_count": 37,
   "id": "89f86c78-338d-49aa-879c-68948c5d582c",
   "metadata": {},
   "outputs": [
    {
     "data": {
      "text/plain": [
       "(10.5, 33.25, 5.766281297335398)"
      ]
     },
     "execution_count": 37,
     "metadata": {},
     "output_type": "execute_result"
    }
   ],
   "source": [
    "rvD20.mean(), rvD20.var(), rvD20.std()"
   ]
  },
  {
   "cell_type": "code",
   "execution_count": null,
   "id": "ee48ccf4-7f33-4852-b8b7-5cce99ecbcfb",
   "metadata": {},
   "outputs": [],
   "source": []
  },
  {
   "cell_type": "markdown",
   "id": "8ee69d86-36ef-4208-a3c0-b28eb0fb811c",
   "metadata": {},
   "source": [
    "#### E2.16"
   ]
  },
  {
   "cell_type": "code",
   "execution_count": 38,
   "id": "d311b146-c5fd-4586-b0bf-52ef4441fd09",
   "metadata": {},
   "outputs": [],
   "source": [
    "from scipy.stats.distributions import poisson\n",
    "rvM = poisson(40)"
   ]
  },
  {
   "cell_type": "code",
   "execution_count": 39,
   "id": "f0bd9797-ae1c-4c71-a7a1-1a65a781ee9c",
   "metadata": {},
   "outputs": [
    {
     "data": {
      "text/plain": [
       "(40.0, 40.0, 6.324555320336759)"
      ]
     },
     "execution_count": 39,
     "metadata": {},
     "output_type": "execute_result"
    }
   ],
   "source": [
    "rvM.mean(), rvM.var(), rvM.std()"
   ]
  },
  {
   "cell_type": "code",
   "execution_count": 40,
   "id": "d38dc295-c16f-4ea1-a0f5-7df7d503c097",
   "metadata": {},
   "outputs": [
    {
     "data": {
      "text/plain": [
       "0.6503813622782281"
      ]
     },
     "execution_count": 40,
     "metadata": {},
     "output_type": "execute_result"
    }
   ],
   "source": [
    "sum([rvM.pmf(m) for m in range(33,44+1)])"
   ]
  },
  {
   "cell_type": "code",
   "execution_count": 41,
   "id": "ccd6fdeb-822d-4210-a578-cf2d8aab3138",
   "metadata": {},
   "outputs": [
    {
     "data": {
      "text/plain": [
       "0.6503813622782224"
      ]
     },
     "execution_count": 41,
     "metadata": {},
     "output_type": "execute_result"
    }
   ],
   "source": [
    "rvM.cdf(44) - rvM.cdf(33-1) "
   ]
  },
  {
   "cell_type": "code",
   "execution_count": 42,
   "id": "1c29b964-5c20-46dc-a314-08fdf0add7ad",
   "metadata": {},
   "outputs": [
    {
     "data": {
      "text/plain": [
       "51.0"
      ]
     },
     "execution_count": 42,
     "metadata": {},
     "output_type": "execute_result"
    }
   ],
   "source": [
    "rvM.ppf(0.95)"
   ]
  },
  {
   "cell_type": "code",
   "execution_count": 43,
   "id": "7adee4fa-6eac-45a0-9e3c-d4b1733dce53",
   "metadata": {},
   "outputs": [
    {
     "data": {
      "text/plain": [
       "array([31, 41, 49, 46, 43, 41, 39, 44, 38, 37])"
      ]
     },
     "execution_count": 43,
     "metadata": {},
     "output_type": "execute_result"
    }
   ],
   "source": [
    "rvM.rvs(10)"
   ]
  },
  {
   "cell_type": "code",
   "execution_count": null,
   "id": "872439a2-b973-41e2-9679-1999fed9e3a2",
   "metadata": {},
   "outputs": [],
   "source": []
  }
 ],
 "metadata": {
  "kernelspec": {
   "display_name": "Python 3 (ipykernel)",
   "language": "python",
   "name": "python3"
  },
  "language_info": {
   "codemirror_mode": {
    "name": "ipython",
    "version": 3
   },
   "file_extension": ".py",
   "mimetype": "text/x-python",
   "name": "python",
   "nbconvert_exporter": "python",
   "pygments_lexer": "ipython3",
   "version": "3.9.4"
  }
 },
 "nbformat": 4,
 "nbformat_minor": 5
}
