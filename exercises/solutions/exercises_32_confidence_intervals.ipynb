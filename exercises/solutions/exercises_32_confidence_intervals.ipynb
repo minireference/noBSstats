{
 "cells": [
  {
   "cell_type": "markdown",
   "id": "69778aa3-a805-4f35-b97f-91c24dae34c0",
   "metadata": {},
   "source": [
    "# Exercises for Section 3.2 Confidence intervals\n",
    "\n",
    "This notebook contains the solutions to the exercises\n",
    "from [Section 3.2 Confidence intervals]()\n",
    "in the **No Bullshit Guide to Statistics**."
   ]
  },
  {
   "cell_type": "markdown",
   "id": "68eebd12-a082-4939-88db-7953dbaaea02",
   "metadata": {
    "tags": []
   },
   "source": [
    "### Notebooks setup"
   ]
  },
  {
   "cell_type": "code",
   "execution_count": 1,
   "id": "0ac52c9b-6788-4556-82f9-79be3dd2632d",
   "metadata": {
    "id": "VFzPCGo6I1NJ"
   },
   "outputs": [],
   "source": [
    "import os\n",
    "import numpy as np\n",
    "import pandas as pd\n",
    "import matplotlib.pyplot as plt\n",
    "import seaborn as sns"
   ]
  },
  {
   "cell_type": "code",
   "execution_count": null,
   "id": "a2566900-e3c9-4dda-9510-71bd5de261dd",
   "metadata": {},
   "outputs": [],
   "source": []
  },
  {
   "cell_type": "markdown",
   "id": "13f1e218-f94c-404f-b784-bd98e4e62b70",
   "metadata": {},
   "source": [
    "### Estimator functions defined in Section 3.1"
   ]
  },
  {
   "cell_type": "code",
   "execution_count": 2,
   "id": "a9bc7744-c676-4561-be77-b091aeba96cb",
   "metadata": {},
   "outputs": [],
   "source": [
    "def mean(sample):\n",
    "    return sum(sample) / len(sample)\n",
    "\n",
    "def var(sample):\n",
    "    xbar = mean(sample)\n",
    "    sumsqdevs = sum([(xi-xbar)**2 for xi in sample])\n",
    "    return sumsqdevs / (len(sample)-1)\n",
    "\n",
    "def std(sample):\n",
    "    s2 = var(sample)\n",
    "    return np.sqrt(s2)\n",
    "\n",
    "def dmeans(xsample, ysample):\n",
    "    dhat = mean(xsample) - mean(ysample)\n",
    "    return dhat"
   ]
  },
  {
   "cell_type": "markdown",
   "id": "634071f3-19b9-4b3b-871d-f80b62b1b61c",
   "metadata": {},
   "source": [
    "## Exercises"
   ]
  },
  {
   "cell_type": "markdown",
   "id": "a6050fd6-9c8d-43cb-bde9-752a0d480b5c",
   "metadata": {},
   "source": [
    "### Exercise 3.17\n",
    "\n",
    "Compute a confidence 90% confidence interval for the population mean\n",
    "based on the sample from Batch 04 of the `kombucha` dataset."
   ]
  },
  {
   "cell_type": "code",
   "execution_count": 3,
   "id": "90db2ac1-a151-441c-8407-649513659c2c",
   "metadata": {},
   "outputs": [],
   "source": [
    "kombucha = pd.read_csv(\"datasets/kombucha.csv\")\n",
    "ksample04 = kombucha[kombucha[\"batch\"]==4][\"volume\"]"
   ]
  },
  {
   "cell_type": "markdown",
   "id": "f1c1551c-c7c8-4368-be10-94eb25bde1c9",
   "metadata": {},
   "source": [
    "#### a) analytical approximation"
   ]
  },
  {
   "cell_type": "code",
   "execution_count": 4,
   "id": "bbcaade9-db3b-47f3-8cca-3f6d0b583b0d",
   "metadata": {},
   "outputs": [
    {
     "data": {
      "text/plain": [
       "[1001.7416639464577, 1005.9253360535422]"
      ]
     },
     "execution_count": 4,
     "metadata": {},
     "output_type": "execute_result"
    }
   ],
   "source": [
    "from scipy.stats import t as tdist\n",
    "\n",
    "n04 = ksample04.count()\n",
    "kbar04 = mean(ksample04)\n",
    "seKbar04 = std(ksample04) / np.sqrt(n04)\n",
    "\n",
    "t_l = tdist(df=n04-1).ppf(0.05)\n",
    "t_u = tdist(df=n04-1).ppf(0.95)\n",
    "\n",
    "[kbar04 + t_l*seKbar04, kbar04 + t_u*seKbar04]"
   ]
  },
  {
   "cell_type": "markdown",
   "id": "415b9b98-ac7d-4a4d-a164-988f93536f1c",
   "metadata": {},
   "source": [
    "#### b) bootstrap estimation"
   ]
  },
  {
   "cell_type": "code",
   "execution_count": 5,
   "id": "2f9564fa-fcf4-4e88-bee5-a2b2a78f00a9",
   "metadata": {},
   "outputs": [
    {
     "data": {
      "text/plain": [
       "[1001.8019875000002, 1005.8771124999998]"
      ]
     },
     "execution_count": 5,
     "metadata": {},
     "output_type": "execute_result"
    }
   ],
   "source": [
    "from ministats import gen_boot_dist\n",
    "\n",
    "np.random.seed(42)\n",
    "kbars04_boot = gen_boot_dist(ksample04, estfunc=mean)\n",
    "[np.quantile(kbars04_boot, 0.05), np.quantile(kbars04_boot, 0.95)]"
   ]
  },
  {
   "cell_type": "code",
   "execution_count": null,
   "id": "678be827-696f-41c9-bb3f-bbae43aab674",
   "metadata": {},
   "outputs": [],
   "source": []
  },
  {
   "cell_type": "markdown",
   "id": "6917f51b-4b84-48d4-9517-ab72879ea439",
   "metadata": {},
   "source": [
    "### Exercise 3.18\n",
    "\n",
    "Calculate a confidence 90% confidence interval for the for population variance\n",
    "based on the sample from Batch 05 of the `kombucha` dataset."
   ]
  },
  {
   "cell_type": "code",
   "execution_count": 6,
   "id": "988ad88e-e7c9-4be4-9750-e8a81bc462df",
   "metadata": {},
   "outputs": [],
   "source": [
    "kombucha = pd.read_csv(\"datasets/kombucha.csv\")\n",
    "ksample05 = kombucha[kombucha[\"batch\"]==5][\"volume\"]"
   ]
  },
  {
   "cell_type": "markdown",
   "id": "20cd1eff-bcb4-4107-a3d7-d4f8a499e533",
   "metadata": {},
   "source": [
    "#### a) analytical approximation"
   ]
  },
  {
   "cell_type": "code",
   "execution_count": 7,
   "id": "51f9075a-d06d-4e83-8598-f1758af067db",
   "metadata": {},
   "outputs": [
    {
     "data": {
      "text/plain": [
       "[30.692160944915106, 65.18443858816488]"
      ]
     },
     "execution_count": 7,
     "metadata": {},
     "output_type": "execute_result"
    }
   ],
   "source": [
    "n05 = ksample05.count()\n",
    "kvar05 = var(ksample05)\n",
    "\n",
    "from scipy.stats import chi2\n",
    "x2_l = chi2(df=n05-1).ppf(0.05)\n",
    "x2_u = chi2(df=n05-1).ppf(0.95)\n",
    "\n",
    "[(n05-1)*kvar05/x2_u, (n05-1)*kvar05/x2_l]"
   ]
  },
  {
   "cell_type": "markdown",
   "id": "72ddaa09-e7c1-47e5-b874-28ab6a8c23ce",
   "metadata": {},
   "source": [
    "#### b) bootstrap estimation"
   ]
  },
  {
   "cell_type": "code",
   "execution_count": 8,
   "id": "00d5932a-e498-4c94-98df-09358c791c8d",
   "metadata": {},
   "outputs": [
    {
     "data": {
      "text/plain": [
       "[20.34142641025637, 70.91556086217975]"
      ]
     },
     "execution_count": 8,
     "metadata": {},
     "output_type": "execute_result"
    }
   ],
   "source": [
    "np.random.seed(43)\n",
    "kvars05_boot = gen_boot_dist(ksample05, estfunc=var)\n",
    "[np.quantile(kvars05_boot, 0.05), np.quantile(kvars05_boot, 0.95)]"
   ]
  },
  {
   "cell_type": "code",
   "execution_count": null,
   "id": "ccf455fb-03c0-4161-ab30-f160b545cb26",
   "metadata": {},
   "outputs": [],
   "source": []
  },
  {
   "cell_type": "markdown",
   "id": "7ae39d57-0f4d-467d-8e8d-ad57eb7853e1",
   "metadata": {},
   "source": [
    "### Exercise 3.19\n",
    "\n",
    "Compute a 95% confidence interval for the difference between rural and city sleep scores in the doctors dataset. **a)** Use analytical approximation formula in terms Student's $t$-distribution. **b)** Use bootstrap estimation."
   ]
  },
  {
   "cell_type": "markdown",
   "id": "4b35dd4e-4a8c-498e-8a14-c216b04b4367",
   "metadata": {},
   "source": [
    "Hint: Use the code `doctors[doctors[\"location\"]==\"rural\"]` to select\n",
    "the subset of the doctors working in a `rural` location."
   ]
  },
  {
   "cell_type": "code",
   "execution_count": 9,
   "id": "17daf376-3049-4ad7-b448-ed62da832a4f",
   "metadata": {},
   "outputs": [
    {
     "data": {
      "text/plain": [
       "2.2236048265460084"
      ]
     },
     "execution_count": 9,
     "metadata": {},
     "output_type": "execute_result"
    }
   ],
   "source": [
    "doctors = pd.read_csv(\"datasets/doctors.csv\")\n",
    "scoresR = doctors[doctors[\"location\"]==\"rural\"][\"score\"]\n",
    "scoresU = doctors[doctors[\"location\"]==\"urban\"][\"score\"]\n",
    "\n",
    "# observed difference between scores\n",
    "dscores = dmeans(scoresR,scoresU)\n",
    "dscores"
   ]
  },
  {
   "cell_type": "markdown",
   "id": "486691a4-8fde-49c7-be8a-397c4119514b",
   "metadata": {},
   "source": [
    "#### a) analytical approximation"
   ]
  },
  {
   "cell_type": "code",
   "execution_count": 10,
   "id": "7e31b826-12fe-4186-b73d-2355dffaf161",
   "metadata": {},
   "outputs": [
    {
     "data": {
      "text/plain": [
       "[0.48541688303387676, 3.96179277005814]"
      ]
     },
     "execution_count": 10,
     "metadata": {},
     "output_type": "execute_result"
    }
   ],
   "source": [
    "# obtain the sample sizes and stds of the two groups\n",
    "nR, stdR = scoresR.count(), scoresR.std()\n",
    "nU, stdU = scoresU.count(), scoresU.std()\n",
    "\n",
    "# standard error of the difference between group means\n",
    "seDscores = np.sqrt(stdU**2/nU + stdR**2/nR)\n",
    "\n",
    "# calculate the degrees of freedom\n",
    "from ministats import calcdf\n",
    "dfD = calcdf(stdU, nU, stdR, nR)\n",
    "\n",
    "# Student's t-distribution with df degrees of freedom\n",
    "from scipy.stats import t as tdist\n",
    "t_l = tdist(df=dfD).ppf(0.025)\n",
    "t_u = tdist(df=dfD).ppf(0.975)\n",
    "\n",
    "[dscores + t_l*seDscores, dscores + t_u*seDscores]"
   ]
  },
  {
   "cell_type": "code",
   "execution_count": 11,
   "id": "5f9fa3d2-1faf-455f-9fcd-1c696914ee2b",
   "metadata": {},
   "outputs": [
    {
     "data": {
      "text/plain": [
       "[0.48541688303387676, 3.96179277005814]"
      ]
     },
     "execution_count": 11,
     "metadata": {},
     "output_type": "execute_result"
    }
   ],
   "source": [
    "# ALT. using t-distribution with custom `loc` and `scale` params\n",
    "rvDscores = tdist(df=dfD, loc=dscores, scale=seDscores)\n",
    "[rvDscores.ppf(0.025), rvDscores.ppf(0.975)]  # = rvDscores.interval(0.95)"
   ]
  },
  {
   "cell_type": "markdown",
   "id": "7d11ec12-cd79-4121-8e29-c8d32adc8fb7",
   "metadata": {},
   "source": [
    "#### b) bootstrap estimation"
   ]
  },
  {
   "cell_type": "code",
   "execution_count": 12,
   "id": "baa15566-6ba4-42bb-b791-d9a762d026e0",
   "metadata": {},
   "outputs": [
    {
     "data": {
      "text/plain": [
       "[0.5319758672699874, 3.9718042986425353]"
      ]
     },
     "execution_count": 12,
     "metadata": {},
     "output_type": "execute_result"
    }
   ],
   "source": [
    "# compute bootstrap estimates for mean in each group\n",
    "np.random.seed(43)\n",
    "meanR_boot = gen_boot_dist(scoresR, estfunc=mean)\n",
    "meanU_boot = gen_boot_dist(scoresU, estfunc=mean)\n",
    "\n",
    "# compute the difference between means of bootstrap samples\n",
    "dmeans_boot = np.subtract(meanR_boot, meanU_boot)\n",
    "\n",
    "[np.quantile(dmeans_boot, 0.025),\n",
    " np.quantile(dmeans_boot, 0.975)]"
   ]
  },
  {
   "cell_type": "code",
   "execution_count": null,
   "id": "10dabb43-ac4d-4e54-b693-6bbee616ce38",
   "metadata": {},
   "outputs": [],
   "source": []
  },
  {
   "cell_type": "markdown",
   "id": "4c4d4726-489f-4a79-806c-4d094cbac71a",
   "metadata": {},
   "source": [
    "### Exercise 3.20\n",
    "\n",
    "Calculate a 80% confidence interval for the difference between debate and lecture groups the `students` dataset."
   ]
  },
  {
   "cell_type": "code",
   "execution_count": 13,
   "id": "a3397f06-5192-4845-9906-e0ce04f98342",
   "metadata": {},
   "outputs": [],
   "source": [
    "students = pd.read_csv(\"datasets/students.csv\")\n",
    "scoresD = students[students[\"curriculum\"]==\"debate\"][\"score\"]\n",
    "scoresL = students[students[\"curriculum\"]==\"lecture\"][\"score\"]\n",
    "\n",
    "# observed difference between scores\n",
    "dhat = dmeans(scoresD, scoresL)"
   ]
  },
  {
   "cell_type": "markdown",
   "id": "7c468000-9c4f-4fd2-9c4e-7146398f3272",
   "metadata": {},
   "source": [
    "#### a) analytical approximation"
   ]
  },
  {
   "cell_type": "code",
   "execution_count": 14,
   "id": "1e661cd9-c99c-420b-82f6-218eaff9c12b",
   "metadata": {},
   "outputs": [
    {
     "data": {
      "text/plain": [
       "[1.916499988422145, 14.722785725863563]"
      ]
     },
     "execution_count": 14,
     "metadata": {},
     "output_type": "execute_result"
    }
   ],
   "source": [
    "# obtain the sample sizes and stds of the two groups\n",
    "nD, stdD = scoresD.count(), scoresD.std()\n",
    "nL, stdL = scoresL.count(), scoresL.std()\n",
    "\n",
    "# standard error of the difference between group means\n",
    "seDscores = np.sqrt(stdD**2/nD + stdL**2/nL)\n",
    "\n",
    "# calculate the degrees of freedom\n",
    "from ministats import calcdf\n",
    "dfD = calcdf(stdD, nD, stdL, nL)\n",
    "\n",
    "# Student's t-distribution with df degrees of freedom\n",
    "from scipy.stats import t as tdist\n",
    "t_l = tdist(df=dfD).ppf(0.1)\n",
    "t_u = tdist(df=dfD).ppf(0.9)\n",
    "\n",
    "[dhat + t_l*seDscores, dhat + t_u*seDscores]"
   ]
  },
  {
   "cell_type": "markdown",
   "id": "3e965093-40f9-4670-9e1f-935f6228fb9c",
   "metadata": {},
   "source": [
    "#### b) bootstrap estimation"
   ]
  },
  {
   "cell_type": "code",
   "execution_count": 15,
   "id": "ce588d75-9219-4099-b363-438f23cda937",
   "metadata": {},
   "outputs": [
    {
     "data": {
      "text/plain": [
       "[2.7105357142857045, 14.039464285714285]"
      ]
     },
     "execution_count": 15,
     "metadata": {},
     "output_type": "execute_result"
    }
   ],
   "source": [
    "np.random.seed(42)\n",
    "meanD_boot = gen_boot_dist(scoresD, estfunc=mean)\n",
    "meanL_boot = gen_boot_dist(scoresL, estfunc=mean)\n",
    "\n",
    "# compute the difference between means of bootstrap samples\n",
    "dmeans_boot = np.subtract(meanD_boot, meanL_boot)\n",
    "\n",
    "[np.percentile(dmeans_boot, 10),\n",
    " np.percentile(dmeans_boot, 90)]"
   ]
  },
  {
   "cell_type": "code",
   "execution_count": null,
   "id": "9fb6e40b-2cf0-4d95-adcb-69e3b2c35566",
   "metadata": {},
   "outputs": [],
   "source": []
  },
  {
   "cell_type": "markdown",
   "id": "cf8e22ba-2d47-47f1-b96b-20de64e6cc7e",
   "metadata": {},
   "source": [
    "### Exercise 3.21\n",
    "\n",
    "As part of a lab experiment,\n",
    "sixty-four two-week old rats were given a vitamin D supplement for a period of one month,\n",
    "and their weights were recored at the end of the month (30 days).\n",
    "The sample mean was $89.60$ \\;g with standard deviation $12.96$ \\;g.\n",
    "Calculate a 95\\%confidence interval for the mean weight for rats undergoing this treatment based on: **a)** The normal model. **b)** Student's $t$ -distribution. **c)** Compare your answers in a) and b) and comment on the relevance of using Student's $t$ -distribution in this case."
   ]
  },
  {
   "cell_type": "code",
   "execution_count": 16,
   "id": "48e6405c-8cee-4875-9a9c-5393e481484c",
   "metadata": {},
   "outputs": [
    {
     "data": {
      "text/plain": [
       "1.62"
      ]
     },
     "execution_count": 16,
     "metadata": {},
     "output_type": "execute_result"
    }
   ],
   "source": [
    "n = 64\n",
    "xbar = 89.60\n",
    "xstd = 12.96\n",
    "\n",
    "# estimated standard error\n",
    "sehat = xstd / np.sqrt(n)\n",
    "sehat"
   ]
  },
  {
   "cell_type": "markdown",
   "id": "47b5433e-70f0-4932-b10d-4564a5e2a343",
   "metadata": {},
   "source": [
    "#### a) Using normal approximation"
   ]
  },
  {
   "cell_type": "code",
   "execution_count": 17,
   "id": "b882f5a1-ea2d-4921-b828-1e54208165c0",
   "metadata": {},
   "outputs": [
    {
     "data": {
      "text/plain": [
       "[86.42485834504511, 92.77514165495488]"
      ]
     },
     "execution_count": 17,
     "metadata": {},
     "output_type": "execute_result"
    }
   ],
   "source": [
    "from scipy.stats import norm\n",
    "z_l = norm.ppf(0.025)\n",
    "z_u = norm.ppf(0.975)\n",
    "[xbar + z_l*sehat, xbar + z_u*sehat]"
   ]
  },
  {
   "cell_type": "code",
   "execution_count": 18,
   "id": "d04be0b5-2b06-4e5b-9138-7dfce1830eeb",
   "metadata": {},
   "outputs": [
    {
     "data": {
      "text/plain": [
       "[86.42485834504511, 92.77514165495488]"
      ]
     },
     "execution_count": 18,
     "metadata": {},
     "output_type": "execute_result"
    }
   ],
   "source": [
    "# ALT. using normal with custom `loc` and `scale` params\n",
    "rvNXbar = norm(loc=xbar, scale=sehat)\n",
    "[rvNXbar.ppf(0.025), rvNXbar.ppf(0.975)]  # = rvNXbar.interval(0.95)"
   ]
  },
  {
   "cell_type": "markdown",
   "id": "1500c348-d2f9-47df-b03d-7e1862cdd363",
   "metadata": {},
   "source": [
    "#### b) Using Student's $t$-distribution"
   ]
  },
  {
   "cell_type": "code",
   "execution_count": 19,
   "id": "4b9db8b6-5a5b-4a28-8dcc-8cf8775d6582",
   "metadata": {},
   "outputs": [
    {
     "data": {
      "text/plain": [
       "[86.36268832232903, 92.83731167767095]"
      ]
     },
     "execution_count": 19,
     "metadata": {},
     "output_type": "execute_result"
    }
   ],
   "source": [
    "from scipy.stats import t as tdist\n",
    "t_l = tdist(df=n-1).ppf(0.025)\n",
    "t_u = tdist(df=n-1).ppf(0.975)\n",
    "[xbar + t_l*sehat, xbar + t_u*sehat]"
   ]
  },
  {
   "cell_type": "code",
   "execution_count": 20,
   "id": "9a39466c-d6eb-4f6b-a5f5-1e923b5354f6",
   "metadata": {},
   "outputs": [
    {
     "data": {
      "text/plain": [
       "[86.36268832232903, 92.83731167767095]"
      ]
     },
     "execution_count": 20,
     "metadata": {},
     "output_type": "execute_result"
    }
   ],
   "source": [
    "# ALT. using t-distribution with custom `loc` and `scale` params\n",
    "rvTXbar = tdist(n-1, loc=xbar, scale=sehat)\n",
    "[rvTXbar.ppf(0.025), rvTXbar.ppf(0.975)]  # = rvTXbar.interval(0.95)"
   ]
  },
  {
   "cell_type": "code",
   "execution_count": null,
   "id": "31d4f8a6-75fb-4999-8f0a-676251f6acec",
   "metadata": {},
   "outputs": [],
   "source": []
  }
 ],
 "metadata": {
  "kernelspec": {
   "display_name": "Python 3 (ipykernel)",
   "language": "python",
   "name": "python3"
  },
  "language_info": {
   "codemirror_mode": {
    "name": "ipython",
    "version": 3
   },
   "file_extension": ".py",
   "mimetype": "text/x-python",
   "name": "python",
   "nbconvert_exporter": "python",
   "pygments_lexer": "ipython3",
   "version": "3.9.4"
  }
 },
 "nbformat": 4,
 "nbformat_minor": 5
}
