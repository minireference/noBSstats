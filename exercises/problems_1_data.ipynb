{
 "cells": [
  {
   "cell_type": "markdown",
   "id": "39186022-1b37-4164-8742-3b5620520730",
   "metadata": {},
   "source": [
    "# Solutions to Chapter 1 (DATA) problems"
   ]
  },
  {
   "cell_type": "code",
   "execution_count": 4,
   "id": "65e54920-6c2f-4e4d-aa13-dac9064b1e1f",
   "metadata": {},
   "outputs": [],
   "source": [
    "import seaborn as sns\n",
    "import pandas as pd"
   ]
  },
  {
   "cell_type": "code",
   "execution_count": 7,
   "id": "0393dc88-e3e6-4a7d-98ff-9e3fb76330c6",
   "metadata": {},
   "outputs": [],
   "source": [
    "import os\n",
    "file_path = os.path.join(\"..\", \"datasets\", \"students.csv\")\n",
    "if os.path.exists(file_path):\n",
    "    data_file = open(file_path)\n",
    "else:\n",
    "    import io\n",
    "    data_file = io.StringIO(\"\"\"\n",
    "student_ID,background,curriculum,effort,score\n",
    "1,arts,debate,10.96,75\n",
    "2,science,lecture,8.69,75\n",
    "3,arts,debate,8.6,67\n",
    "4,arts,lecture,7.92,70.3\n",
    "5,science,debate,9.9,76.1\n",
    "6,business,debate,10.8,79.8\n",
    "7,science,lecture,7.81,72.7\n",
    "8,business,lecture,9.13,75.4\n",
    "9,business,lecture,5.21,57\n",
    "10,science,lecture,7.71,69\n",
    "11,business,debate,9.82,70.4\n",
    "12,arts,debate,11.53,96.2\n",
    "13,science,debate,7.1,62.9\n",
    "14,science,lecture,6.39,57.6\n",
    "15,arts,debate,12,84.3\n",
    "\"\"\")\n",
    "students = pd.read_csv(data_file, index_col=\"student_ID\")"
   ]
  },
  {
   "cell_type": "markdown",
   "id": "85477e9a-4522-4524-b47a-fd0ed687aa66",
   "metadata": {},
   "source": [
    "### Problem {prob:bar-chart_score-vs-curriculum}"
   ]
  },
  {
   "cell_type": "code",
   "execution_count": 11,
   "id": "8469747e-de88-4262-ba8c-65b69947be33",
   "metadata": {},
   "outputs": [
    {
     "data": {
      "text/plain": [
       "<AxesSubplot:xlabel='curriculum', ylabel='score'>"
      ]
     },
     "execution_count": 11,
     "metadata": {},
     "output_type": "execute_result"
    },
    {
     "data": {
      "image/png": "[encoded data removed]",
      "text/plain": [
       "<Figure size 432x288 with 1 Axes>"
      ]
     },
     "metadata": {
      "needs_background": "light"
     },
     "output_type": "display_data"
    }
   ],
   "source": [
    "import numpy as np\n",
    "from statistics import mean\n",
    "sns.barplot(x=\"curriculum\", y=\"score\", data=students,\n",
    "            estimator=np.mean, errorbar=None)\n"
   ]
  },
  {
   "cell_type": "code",
   "execution_count": null,
   "id": "177ffc43-bc56-47e1-a2c8-e3126f6d339e",
   "metadata": {},
   "outputs": [],
   "source": []
  },
  {
   "cell_type": "markdown",
   "id": "b488c534-810f-4dfd-a092-3c5689beacbf",
   "metadata": {},
   "source": [
    "### Problem {prob:bar-chart_score-vs-curriculum-enhanced}"
   ]
  },
  {
   "cell_type": "code",
   "execution_count": 9,
   "id": "00c41443-0550-4a0f-97b8-d161a62a7c6e",
   "metadata": {},
   "outputs": [
    {
     "data": {
      "text/plain": [
       "<AxesSubplot:xlabel='curriculum', ylabel='score'>"
      ]
     },
     "execution_count": 9,
     "metadata": {},
     "output_type": "execute_result"
    },
    {
     "data": {
      "image/png": "[encoded data removed]",
      "text/plain": [
       "<Figure size 432x288 with 1 Axes>"
      ]
     },
     "metadata": {
      "needs_background": "light"
     },
     "output_type": "display_data"
    }
   ],
   "source": [
    "import numpy as np\n",
    "from statistics import mean\n",
    "sns.barplot(x=\"curriculum\", y=\"score\", data=students,\n",
    "            estimator=np.mean, errorbar=\"sd\", capsize=.1)"
   ]
  },
  {
   "cell_type": "code",
   "execution_count": null,
   "id": "4315b6db-edae-40c1-8855-6facaa59cc75",
   "metadata": {},
   "outputs": [],
   "source": []
  },
  {
   "cell_type": "code",
   "execution_count": null,
   "id": "32f33c9c-1cd8-43e5-a41b-b558b8e6ebe6",
   "metadata": {},
   "outputs": [],
   "source": []
  }
 ],
 "metadata": {
  "kernelspec": {
   "display_name": "Python 3 (ipykernel)",
   "language": "python",
   "name": "python3"
  },
  "language_info": {
   "codemirror_mode": {
    "name": "ipython",
    "version": 3
   },
   "file_extension": ".py",
   "mimetype": "text/x-python",
   "name": "python",
   "nbconvert_exporter": "python",
   "pygments_lexer": "ipython3",
   "version": "3.9.4"
  }
 },
 "nbformat": 4,
 "nbformat_minor": 5
}
