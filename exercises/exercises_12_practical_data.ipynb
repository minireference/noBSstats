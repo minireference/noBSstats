{
 "cells": [
  {
   "cell_type": "markdown",
   "id": "729659cf-d0ff-4543-a354-d11c51e60f38",
   "metadata": {},
   "source": [
    "# Practical data exercises\n",
    "\n",
    "This notebook contains all solutions of the exercises from **Section 1.2 Data in practice** in the **No Bullshit Guide to Statistics**."
   ]
  },
  {
   "cell_type": "markdown",
   "id": "a6389227-654c-47dd-b60e-d5e9e4a8fad9",
   "metadata": {
    "tags": []
   },
   "source": [
    "### Notebooks setup"
   ]
  },
  {
   "cell_type": "code",
   "execution_count": 2,
   "id": "068cba77-95ea-4024-aced-9895802a4d43",
   "metadata": {
    "id": "VFzPCGo6I1NJ"
   },
   "outputs": [],
   "source": [
    "import numpy as np\n",
    "import pandas as pd"
   ]
  },
  {
   "cell_type": "code",
   "execution_count": null,
   "id": "efedd9cc-ee8c-4ef0-b882-87024f015785",
   "metadata": {},
   "outputs": [],
   "source": []
  },
  {
   "cell_type": "markdown",
   "id": "c2c76072-8157-4eb8-9e6f-b421e9faba67",
   "metadata": {},
   "source": [
    "### E1.1\n",
    "\n",
    "TODO"
   ]
  },
  {
   "cell_type": "markdown",
   "id": "f0ca07d1-e9f8-425d-83cc-8aa21edc1961",
   "metadata": {},
   "source": [
    "### E1.2\n",
    "\n",
    "TODO"
   ]
  },
  {
   "cell_type": "markdown",
   "id": "741ba8bc-ccc5-4eff-a1af-72d665f7a8c0",
   "metadata": {},
   "source": [
    "### E1.3\n",
    "\n",
    "Create a new notebook called `MyCalculations.ipynb`\n",
    "and use code cell to compute the sum of `3456` and `789`."
   ]
  },
  {
   "cell_type": "markdown",
   "id": "a13035f3-8722-469d-84c9-7f427adaf7e6",
   "metadata": {},
   "source": [
    "### E1.4\n",
    "\n",
    "Calculate the sum of `3456` and `789` in the code cell below.\n",
    "\n",
    "Hint: press **SHIFT**+**ENTER** to run the code."
   ]
  },
  {
   "cell_type": "code",
   "execution_count": null,
   "id": "29f68f30-564c-4254-88be-7f5b1104ae09",
   "metadata": {},
   "outputs": [],
   "source": []
  },
  {
   "cell_type": "code",
   "execution_count": null,
   "id": "b686529f-84d1-4ac3-87d8-265b45e12002",
   "metadata": {},
   "outputs": [],
   "source": []
  },
  {
   "cell_type": "markdown",
   "id": "b9dea0bb-8c92-4f22-a78d-8f95902696e5",
   "metadata": {},
   "source": [
    "### E?.?\n",
    "\n",
    "Melt wide data in `exercises/grades.csv` into long data."
   ]
  },
  {
   "cell_type": "code",
   "execution_count": 3,
   "id": "d4d21a48-e16d-47d9-bb38-995ac8b64c61",
   "metadata": {},
   "outputs": [
    {
     "data": {
      "text/html": [
       "<div>\n",
       "<style scoped>\n",
       "    .dataframe tbody tr th:only-of-type {\n",
       "        vertical-align: middle;\n",
       "    }\n",
       "\n",
       "    .dataframe tbody tr th {\n",
       "        vertical-align: top;\n",
       "    }\n",
       "\n",
       "    .dataframe thead th {\n",
       "        text-align: right;\n",
       "    }\n",
       "</style>\n",
       "<table border=\"1\" class=\"dataframe\">\n",
       "  <thead>\n",
       "    <tr style=\"text-align: right;\">\n",
       "      <th></th>\n",
       "      <th>student_ID</th>\n",
       "      <th>test</th>\n",
       "      <th>grade</th>\n",
       "    </tr>\n",
       "  </thead>\n",
       "  <tbody>\n",
       "    <tr>\n",
       "      <th>0</th>\n",
       "      <td>101</td>\n",
       "      <td>test1</td>\n",
       "      <td>62</td>\n",
       "    </tr>\n",
       "    <tr>\n",
       "      <th>1</th>\n",
       "      <td>102</td>\n",
       "      <td>test1</td>\n",
       "      <td>68</td>\n",
       "    </tr>\n",
       "    <tr>\n",
       "      <th>2</th>\n",
       "      <td>103</td>\n",
       "      <td>test1</td>\n",
       "      <td>73</td>\n",
       "    </tr>\n",
       "    <tr>\n",
       "      <th>3</th>\n",
       "      <td>104</td>\n",
       "      <td>test1</td>\n",
       "      <td>59</td>\n",
       "    </tr>\n",
       "    <tr>\n",
       "      <th>4</th>\n",
       "      <td>105</td>\n",
       "      <td>test1</td>\n",
       "      <td>65</td>\n",
       "    </tr>\n",
       "    <tr>\n",
       "      <th>5</th>\n",
       "      <td>106</td>\n",
       "      <td>test1</td>\n",
       "      <td>72</td>\n",
       "    </tr>\n",
       "    <tr>\n",
       "      <th>6</th>\n",
       "      <td>107</td>\n",
       "      <td>test1</td>\n",
       "      <td>57</td>\n",
       "    </tr>\n",
       "    <tr>\n",
       "      <th>7</th>\n",
       "      <td>101</td>\n",
       "      <td>test2</td>\n",
       "      <td>74</td>\n",
       "    </tr>\n",
       "    <tr>\n",
       "      <th>8</th>\n",
       "      <td>102</td>\n",
       "      <td>test2</td>\n",
       "      <td>73</td>\n",
       "    </tr>\n",
       "    <tr>\n",
       "      <th>9</th>\n",
       "      <td>103</td>\n",
       "      <td>test2</td>\n",
       "      <td>63</td>\n",
       "    </tr>\n",
       "    <tr>\n",
       "      <th>10</th>\n",
       "      <td>104</td>\n",
       "      <td>test2</td>\n",
       "      <td>74</td>\n",
       "    </tr>\n",
       "    <tr>\n",
       "      <th>11</th>\n",
       "      <td>105</td>\n",
       "      <td>test2</td>\n",
       "      <td>76</td>\n",
       "    </tr>\n",
       "    <tr>\n",
       "      <th>12</th>\n",
       "      <td>106</td>\n",
       "      <td>test2</td>\n",
       "      <td>65</td>\n",
       "    </tr>\n",
       "    <tr>\n",
       "      <th>13</th>\n",
       "      <td>107</td>\n",
       "      <td>test2</td>\n",
       "      <td>60</td>\n",
       "    </tr>\n",
       "    <tr>\n",
       "      <th>14</th>\n",
       "      <td>101</td>\n",
       "      <td>test3</td>\n",
       "      <td>78</td>\n",
       "    </tr>\n",
       "    <tr>\n",
       "      <th>15</th>\n",
       "      <td>102</td>\n",
       "      <td>test3</td>\n",
       "      <td>91</td>\n",
       "    </tr>\n",
       "    <tr>\n",
       "      <th>16</th>\n",
       "      <td>103</td>\n",
       "      <td>test3</td>\n",
       "      <td>75</td>\n",
       "    </tr>\n",
       "    <tr>\n",
       "      <th>17</th>\n",
       "      <td>104</td>\n",
       "      <td>test3</td>\n",
       "      <td>85</td>\n",
       "    </tr>\n",
       "    <tr>\n",
       "      <th>18</th>\n",
       "      <td>105</td>\n",
       "      <td>test3</td>\n",
       "      <td>69</td>\n",
       "    </tr>\n",
       "    <tr>\n",
       "      <th>19</th>\n",
       "      <td>106</td>\n",
       "      <td>test3</td>\n",
       "      <td>80</td>\n",
       "    </tr>\n",
       "    <tr>\n",
       "      <th>20</th>\n",
       "      <td>107</td>\n",
       "      <td>test3</td>\n",
       "      <td>56</td>\n",
       "    </tr>\n",
       "  </tbody>\n",
       "</table>\n",
       "</div>"
      ],
      "text/plain": [
       "    student_ID   test  grade\n",
       "0          101  test1     62\n",
       "1          102  test1     68\n",
       "2          103  test1     73\n",
       "3          104  test1     59\n",
       "4          105  test1     65\n",
       "5          106  test1     72\n",
       "6          107  test1     57\n",
       "7          101  test2     74\n",
       "8          102  test2     73\n",
       "9          103  test2     63\n",
       "10         104  test2     74\n",
       "11         105  test2     76\n",
       "12         106  test2     65\n",
       "13         107  test2     60\n",
       "14         101  test3     78\n",
       "15         102  test3     91\n",
       "16         103  test3     75\n",
       "17         104  test3     85\n",
       "18         105  test3     69\n",
       "19         106  test3     80\n",
       "20         107  test3     56"
      ]
     },
     "execution_count": 3,
     "metadata": {},
     "output_type": "execute_result"
    }
   ],
   "source": [
    "df = pd.read_csv(\"../datasets/exercises/grades.csv\")\n",
    "df.melt(id_vars=[\"student_ID\"],\n",
    "        var_name=\"test\",\n",
    "        value_name=\"grade\")"
   ]
  },
  {
   "cell_type": "markdown",
   "id": "a867020a-9a4d-4e5d-8f8c-2ab87e1bf66d",
   "metadata": {},
   "source": [
    "### E?.?\n"
   ]
  },
  {
   "cell_type": "code",
   "execution_count": 4,
   "id": "e98f608a-4516-478a-919c-798824d9b275",
   "metadata": {},
   "outputs": [],
   "source": [
    "players = pd.read_csv(\"../datasets/players.csv\")\n",
    "ages = players[\"age\"]\n",
    "# ... "
   ]
  },
  {
   "cell_type": "code",
   "execution_count": null,
   "id": "1019dc0b-591c-4a9a-943a-a6b6db34c067",
   "metadata": {},
   "outputs": [],
   "source": []
  },
  {
   "cell_type": "markdown",
   "id": "225e6dbb-9639-4c3d-90fd-6e591f095899",
   "metadata": {},
   "source": [
    "### E1.?"
   ]
  },
  {
   "cell_type": "code",
   "execution_count": 5,
   "id": "e36e84fc-eab5-4fe5-8600-9462e8134dc9",
   "metadata": {},
   "outputs": [
    {
     "data": {
      "text/plain": [
       "<Axes: xlabel='volume'>"
      ]
     },
     "execution_count": 5,
     "metadata": {},
     "output_type": "execute_result"
    },
    {
     "data": {
      "image/png": "[encoded data removed]",
      "text/plain": [
       "<Figure size 640x480 with 1 Axes>"
      ]
     },
     "metadata": {},
     "output_type": "display_data"
    }
   ],
   "source": [
    "kombucha = pd.read_csv(\"../datasets/kombucha.csv\")\n",
    "batch10 = kombucha[kombucha[\"batch\"]==10]\n",
    "ksample10 = batch10[\"volume\"]\n",
    "ksample10.mean()\n",
    "\n",
    "import seaborn as sns\n",
    "\n",
    "sns.boxplot(x=ksample10)"
   ]
  },
  {
   "cell_type": "code",
   "execution_count": null,
   "id": "189c7ef5-6b5e-4827-8e31-b824dbeafbd9",
   "metadata": {},
   "outputs": [],
   "source": []
  },
  {
   "cell_type": "code",
   "execution_count": null,
   "id": "6032a912-ed17-4016-86e3-e9f0e3057d0f",
   "metadata": {},
   "outputs": [],
   "source": []
  }
 ],
 "metadata": {
  "kernelspec": {
   "display_name": "Python 3 (ipykernel)",
   "language": "python",
   "name": "python3"
  },
  "language_info": {
   "codemirror_mode": {
    "name": "ipython",
    "version": 3
   },
   "file_extension": ".py",
   "mimetype": "text/x-python",
   "name": "python",
   "nbconvert_exporter": "python",
   "pygments_lexer": "ipython3",
   "version": "3.9.4"
  }
 },
 "nbformat": 4,
 "nbformat_minor": 5
}
