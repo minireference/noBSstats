{
 "cells": [
  {
   "cell_type": "markdown",
   "id": "69778aa3-a805-4f35-b97f-91c24dae34c0",
   "metadata": {},
   "source": [
    "# Exercises for Section 3.3 Introduction to hypothesis testing\n",
    "\n",
    "This notebook contains the solutions to the exercises\n",
    "from [Section 3.3 Introduction to hypothesis testing]()\n",
    "in the **No Bullshit Guide to Statistics**."
   ]
  },
  {
   "cell_type": "markdown",
   "id": "68eebd12-a082-4939-88db-7953dbaaea02",
   "metadata": {
    "tags": []
   },
   "source": [
    "### Notebooks setup"
   ]
  },
  {
   "cell_type": "code",
   "execution_count": 1,
   "id": "0ac52c9b-6788-4556-82f9-79be3dd2632d",
   "metadata": {
    "id": "VFzPCGo6I1NJ"
   },
   "outputs": [],
   "source": [
    "import os\n",
    "import numpy as np\n",
    "import pandas as pd\n",
    "import matplotlib.pyplot as plt\n",
    "import seaborn as sns"
   ]
  },
  {
   "cell_type": "code",
   "execution_count": 2,
   "id": "fbf78077-2c8e-4212-82a6-7849fd6bd991",
   "metadata": {},
   "outputs": [],
   "source": [
    "# Pandas setup\n",
    "pd.set_option(\"display.precision\", 2)"
   ]
  },
  {
   "cell_type": "code",
   "execution_count": 3,
   "id": "d371292d-dbc3-4f4a-b3db-463559f8cffe",
   "metadata": {},
   "outputs": [],
   "source": [
    "# Plot helper functions\n",
    "from ministats.utils import savefigure"
   ]
  },
  {
   "cell_type": "code",
   "execution_count": 4,
   "id": "defb8bee-3335-4935-af42-4dee82e3aa9f",
   "metadata": {},
   "outputs": [
    {
     "data": {
      "text/plain": [
       "<Figure size 640x480 with 0 Axes>"
      ]
     },
     "metadata": {},
     "output_type": "display_data"
    }
   ],
   "source": [
    "# Figures setup\n",
    "plt.clf()  # needed otherwise `sns.set_theme` doesn't work\n",
    "from plot_helpers import RCPARAMS\n",
    "RCPARAMS.update({'figure.figsize': (5, 1.6)})  # good for print\n",
    "sns.set_theme(\n",
    "    context=\"paper\",\n",
    "    style=\"whitegrid\",\n",
    "    palette=\"colorblind\",\n",
    "    rc=RCPARAMS,\n",
    ")\n",
    "\n",
    "# Useful colors\n",
    "snspal = sns.color_palette()\n",
    "blue, orange, purple = snspal[0], snspal[1], snspal[4]\n",
    "\n",
    "# High-resolution please\n",
    "%config InlineBackend.figure_format = 'retina'"
   ]
  },
  {
   "cell_type": "markdown",
   "id": "13f1e218-f94c-404f-b784-bd98e4e62b70",
   "metadata": {},
   "source": [
    "### Estimator functions defined in Section 3.1"
   ]
  },
  {
   "cell_type": "code",
   "execution_count": 5,
   "id": "a9bc7744-c676-4561-be77-b091aeba96cb",
   "metadata": {},
   "outputs": [],
   "source": [
    "def mean(sample):\n",
    "    return sum(sample) / len(sample)\n",
    "\n",
    "def var(sample):\n",
    "    xbar = mean(sample)\n",
    "    sumsqdevs = sum([(xi-xbar)**2 for xi in sample])\n",
    "    return sumsqdevs / (len(sample)-1)\n",
    "\n",
    "def std(sample):\n",
    "    s2 = var(sample)\n",
    "    return np.sqrt(s2)\n",
    "\n",
    "def dmeans(xsample, ysample):\n",
    "    dhat = mean(xsample) - mean(ysample)\n",
    "    return dhat"
   ]
  },
  {
   "cell_type": "markdown",
   "id": "634071f3-19b9-4b3b-871d-f80b62b1b61c",
   "metadata": {},
   "source": [
    "## Exercises"
   ]
  },
  {
   "cell_type": "code",
   "execution_count": null,
   "id": "496c8b13-90b8-4249-80d8-0e9716d3ad73",
   "metadata": {},
   "outputs": [],
   "source": []
  },
  {
   "cell_type": "markdown",
   "id": "49aae283-9c8b-4e1c-846e-d470e53f9031",
   "metadata": {},
   "source": [
    "### E3.22\n",
    "\n",
    "Compute the $p$-value for hypothesis test of the mean in Batch~05 of the kombucha dataset."
   ]
  },
  {
   "cell_type": "code",
   "execution_count": 6,
   "id": "91e69ae6-0a30-4852-9cfb-a76213c4b4d0",
   "metadata": {},
   "outputs": [
    {
     "data": {
      "text/plain": [
       "array([ 998.35,  998.92, 1005.38, 1007.2 , 1010.62, 1003.68, 1002.  ,\n",
       "       1015.47, 1007.12, 1003.08, 1027.19,  994.92, 1004.34, 1002.56,\n",
       "        998.86,  992.55, 1000.24, 1010.93, 1004.3 ,  992.09, 1000.88,\n",
       "       1002.12, 1009.74,  998.57,  997.1 ,  998.14, 1004.7 , 1002.79,\n",
       "       1007.98, 1001.15,  993.03,  993.89, 1001.91, 1002.9 ,  998.23,\n",
       "       1003.93,  999.97,  997.22, 1001.5 , 1005.84])"
      ]
     },
     "execution_count": 6,
     "metadata": {},
     "output_type": "execute_result"
    }
   ],
   "source": [
    "kombucha = pd.read_csv(\"../datasets/kombucha.csv\")\n",
    "ksample05 = kombucha[kombucha[\"batch\"]==5][\"volume\"]\n",
    "ksample05.values"
   ]
  },
  {
   "cell_type": "code",
   "execution_count": 7,
   "id": "b9c2b437-39ac-4f17-ac88-d59e2389e393",
   "metadata": {},
   "outputs": [
    {
     "data": {
      "text/plain": [
       "0.1091"
      ]
     },
     "execution_count": 7,
     "metadata": {},
     "output_type": "execute_result"
    }
   ],
   "source": [
    "from stats_helpers import simulation_test_mean\n",
    "\n",
    "np.random.seed(42)\n",
    "simulation_test_mean(ksample05, mu0=1000, sigma0=10)"
   ]
  },
  {
   "cell_type": "markdown",
   "id": "b846108c-b15a-43bc-9f3d-58c7122911d3",
   "metadata": {},
   "source": [
    "The $p$-value is not statistically significant, so we fail to reject $H_0$."
   ]
  },
  {
   "cell_type": "code",
   "execution_count": null,
   "id": "0598715d-cf79-429d-be9f-81f865014da0",
   "metadata": {},
   "outputs": [],
   "source": []
  },
  {
   "cell_type": "markdown",
   "id": "e7bb1915-910d-4426-b746-3757da18b96a",
   "metadata": {},
   "source": [
    "### E3.23\n",
    "\n",
    "Run the test for the variance on Batch 01."
   ]
  },
  {
   "cell_type": "code",
   "execution_count": 8,
   "id": "f3f1f642-43fc-4877-a33f-f77bce47dd6b",
   "metadata": {},
   "outputs": [
    {
     "data": {
      "text/plain": [
       "array([1016.24,  993.88,  994.72,  989.27, 1008.65,  976.98, 1017.45,\n",
       "        992.39, 1003.19,  997.51, 1014.62,  979.4 ,  996.78,  996.16,\n",
       "       1011.34,  989.  ,  998.28,  991.22, 1000.42, 1005.83,  988.99,\n",
       "       1011.45, 1009.02, 1005.02, 1009.01,  993.16,  998.77,  990.64,\n",
       "        997.32, 1005.3 ,  993.08,  996.03,  993.13,  991.55,  993.29,\n",
       "        999.87,  988.83, 1002.34, 1016.6 , 1007.42])"
      ]
     },
     "execution_count": 8,
     "metadata": {},
     "output_type": "execute_result"
    }
   ],
   "source": [
    "kombucha = pd.read_csv(\"../datasets/kombucha.csv\")\n",
    "ksample01 = kombucha[kombucha[\"batch\"]==1][\"volume\"]\n",
    "ksample01.values"
   ]
  },
  {
   "cell_type": "code",
   "execution_count": 9,
   "id": "a09b5499-7f20-47be-a53b-75b925faec95",
   "metadata": {},
   "outputs": [
    {
     "data": {
      "text/plain": [
       "0.5597"
      ]
     },
     "execution_count": 9,
     "metadata": {},
     "output_type": "execute_result"
    }
   ],
   "source": [
    "from stats_helpers import simulation_test_var\n",
    "\n",
    "np.random.seed(43)\n",
    "simulation_test_var(ksample01, mu0=1000, sigma0=10)"
   ]
  },
  {
   "cell_type": "markdown",
   "id": "9c8d1768-d144-431b-9339-c955104d1171",
   "metadata": {},
   "source": [
    "The $p$-value is not statistically significant, so we fail to reject $H_0$."
   ]
  },
  {
   "cell_type": "code",
   "execution_count": null,
   "id": "9e8dbdd5-fea0-4428-9a58-4be4de0d57ad",
   "metadata": {},
   "outputs": [],
   "source": []
  },
  {
   "cell_type": "markdown",
   "id": "e5f03b6b-3aa4-4259-b682-b2f96227fc8c",
   "metadata": {},
   "source": [
    "## CUT MATERIAL "
   ]
  },
  {
   "cell_type": "markdown",
   "id": "07aaa32d-034e-479e-874a-f4173bbf60ce",
   "metadata": {},
   "source": [
    "### Mean test on batch 05 (estimated variance)"
   ]
  },
  {
   "cell_type": "code",
   "execution_count": 10,
   "id": "6ff30b6f-b226-45b2-bfee-d8ed06700954",
   "metadata": {},
   "outputs": [
    {
     "data": {
      "text/plain": [
       "0.0146"
      ]
     },
     "execution_count": 10,
     "metadata": {},
     "output_type": "execute_result"
    }
   ],
   "source": [
    "from stats_helpers import bootstrap_test_mean\n",
    "\n",
    "kombucha = pd.read_csv(\"../datasets/kombucha.csv\")\n",
    "ksample05 = kombucha[kombucha[\"batch\"]==5][\"volume\"]\n",
    "bootstrap_test_mean(ksample05, mu0=1000)"
   ]
  },
  {
   "cell_type": "markdown",
   "id": "48c901e9-1130-45e9-ac85-60ab3e1e6aeb",
   "metadata": {},
   "source": [
    "Correctly rejects this as an irregular batch."
   ]
  },
  {
   "cell_type": "code",
   "execution_count": 20,
   "id": "572963f5-2800-4f97-8580-dc1876918864",
   "metadata": {},
   "outputs": [
    {
     "data": {
      "text/plain": [
       "count      40.00\n",
       "mean     1002.53\n",
       "std         6.55\n",
       "min       992.09\n",
       "25%       998.52\n",
       "50%      1002.06\n",
       "75%      1004.87\n",
       "max      1027.19\n",
       "Name: volume, dtype: float64"
      ]
     },
     "execution_count": 20,
     "metadata": {},
     "output_type": "execute_result"
    },
    {
     "data": {
      "image/png": "[encoded data removed]",
      "text/plain": [
       "<Figure size 500x160 with 1 Axes>"
      ]
     },
     "metadata": {
      "image/png": {
       "height": 185,
       "width": 459
      }
     },
     "output_type": "display_data"
    }
   ],
   "source": [
    "sns.kdeplot(ksample05, bw_adjust=0.3)\n",
    "ksample05.describe()"
   ]
  },
  {
   "cell_type": "code",
   "execution_count": null,
   "id": "59d525ec-1220-4e56-8887-af850d35f5f7",
   "metadata": {},
   "outputs": [],
   "source": []
  },
  {
   "cell_type": "code",
   "execution_count": null,
   "id": "4a3bc344-6da0-42b1-a3ee-61da9fb18538",
   "metadata": {},
   "outputs": [],
   "source": []
  },
  {
   "cell_type": "code",
   "execution_count": null,
   "id": "d72ecdcf-a5ab-400a-9fe6-77f83af6c0bb",
   "metadata": {},
   "outputs": [],
   "source": []
  },
  {
   "cell_type": "markdown",
   "id": "1c04dc35-93b5-407b-8c53-cc6b3e89e599",
   "metadata": {},
   "source": [
    "### Cohen's d via bootstrap"
   ]
  },
  {
   "cell_type": "code",
   "execution_count": null,
   "id": "ca157f3a-68ca-4338-9dbd-221f3c9f047b",
   "metadata": {},
   "outputs": [],
   "source": []
  },
  {
   "cell_type": "markdown",
   "id": "8cfdae88-ae53-4682-aa9a-9c1a68ca5a5c",
   "metadata": {},
   "source": [
    "### Electric scooters\n",
    "\n",
    "An electric scooter manufacturer launched a new model with large battery and claims the range of the scooter is 45 km. A distributor wants to put this claim to a test, and has collected data from 15 different electric scooters to measure the maximum range of trips, to see how long the battery lasts. We want to know if the data supports the manufacturer's claim.\n",
    "\n",
    "The obtained the data $\\texttt{ds} = [43.5, 44.8, 42.9, 46.2, 44.1, 43.8, 45.5, 43.4, 44.9, 42.7, 44.6, 47.0, 43.0, 44.2, 45.3]$.\n",
    "\n",
    "Assume the theoretical distribution is normally distributed $D_0 \\sim \\mathcal{N}(45, \\sigma_{D_0})$,\n",
    "where $\\sigma_{D_0}$ is unknown so we'll estimate it from the sample variance $\\sigma_{D_0} \\approx \\texttt{dstd} = \\texttt{std(ds)}$.\n"
   ]
  },
  {
   "cell_type": "code",
   "execution_count": 12,
   "id": "82e99d03-e2fb-477c-8b11-fbb5aad56c23",
   "metadata": {},
   "outputs": [],
   "source": [
    "# sample\n",
    "ds = [43.5, 44.8, 42.9, 46.2, 44.1, 43.8, 45.5,\n",
    "      43.4, 44.9, 42.7, 44.6, 47.0, 43.0, 44.2, 45.3]"
   ]
  },
  {
   "cell_type": "code",
   "execution_count": 13,
   "id": "466aa437-5435-4dbb-9aae-437b934ec469",
   "metadata": {},
   "outputs": [],
   "source": [
    "from stats_helpers import mean, std\n",
    "dbar = mean(ds)\n",
    "dstd = std(ds)"
   ]
  },
  {
   "cell_type": "code",
   "execution_count": 14,
   "id": "a3ff7aa7-e18f-4d26-8dd2-5ca01c4d8062",
   "metadata": {},
   "outputs": [],
   "source": [
    "from scipy.stats import norm\n",
    "muD0 = 45\n",
    "Dbar0 = norm(45, dstd)"
   ]
  },
  {
   "cell_type": "code",
   "execution_count": 15,
   "id": "ea7699bd-1bed-40a8-8140-a9c5343a1552",
   "metadata": {},
   "outputs": [],
   "source": [
    "from stats_helpers import gen_sampling_dist\n",
    "\n",
    "np.random.seed(42)\n",
    "dbars0 = gen_sampling_dist(Dbar0, estfunc=mean, n=15)"
   ]
  },
  {
   "cell_type": "code",
   "execution_count": 16,
   "id": "0be905e9-36df-43ab-a2ee-354a17cd5c70",
   "metadata": {},
   "outputs": [
    {
     "data": {
      "text/plain": [
       "0.0622"
      ]
     },
     "execution_count": 16,
     "metadata": {},
     "output_type": "execute_result"
    }
   ],
   "source": [
    "obsdev = abs(dbar - muD0)\n",
    "tails = [v for v in dbars0 if abs(v-muD0) >= obsdev]\n",
    "pvalue = len(tails) / len(dbars0)\n",
    "pvalue"
   ]
  },
  {
   "cell_type": "code",
   "execution_count": 17,
   "id": "c0afce3a-a4d5-4ead-bbda-15ab9ce78ea7",
   "metadata": {},
   "outputs": [
    {
     "data": {
      "text/plain": [
       "0.0612"
      ]
     },
     "execution_count": 17,
     "metadata": {},
     "output_type": "execute_result"
    }
   ],
   "source": [
    "from stats_helpers import simulation_test_mean\n",
    "\n",
    "np.random.seed(42)\n",
    "simulation_test_mean(ds, mu0=muD0, sigma0=dstd)"
   ]
  },
  {
   "cell_type": "code",
   "execution_count": null,
   "id": "9cc31399-87e6-471a-a34b-c8ad7d1507d4",
   "metadata": {},
   "outputs": [],
   "source": []
  },
  {
   "cell_type": "code",
   "execution_count": null,
   "id": "9c1719ec-08eb-4158-a4b7-5d6286a9f9f8",
   "metadata": {},
   "outputs": [],
   "source": []
  },
  {
   "cell_type": "code",
   "execution_count": null,
   "id": "4895367c-bf93-434a-8ca1-fc6b00bc913b",
   "metadata": {},
   "outputs": [],
   "source": []
  }
 ],
 "metadata": {
  "kernelspec": {
   "display_name": "Python 3 (ipykernel)",
   "language": "python",
   "name": "python3"
  },
  "language_info": {
   "codemirror_mode": {
    "name": "ipython",
    "version": 3
   },
   "file_extension": ".py",
   "mimetype": "text/x-python",
   "name": "python",
   "nbconvert_exporter": "python",
   "pygments_lexer": "ipython3",
   "version": "3.9.4"
  }
 },
 "nbformat": 4,
 "nbformat_minor": 5
}
