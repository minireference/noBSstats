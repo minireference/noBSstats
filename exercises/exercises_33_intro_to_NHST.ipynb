{
 "cells": [
  {
   "cell_type": "markdown",
   "id": "69778aa3-a805-4f35-b97f-91c24dae34c0",
   "metadata": {},
   "source": [
    "# Exercises for Section 3.3 Introduction to hypothesis testing\n",
    "\n",
    "This notebook contains the solutions to the exercises\n",
    "from [Section 3.3 Introduction to hypothesis testing]()\n",
    "in the **No Bullshit Guide to Statistics**."
   ]
  },
  {
   "cell_type": "markdown",
   "id": "68eebd12-a082-4939-88db-7953dbaaea02",
   "metadata": {
    "tags": []
   },
   "source": [
    "### Notebooks setup"
   ]
  },
  {
   "cell_type": "code",
   "execution_count": 1,
   "id": "0ac52c9b-6788-4556-82f9-79be3dd2632d",
   "metadata": {
    "id": "VFzPCGo6I1NJ"
   },
   "outputs": [],
   "source": [
    "import os\n",
    "import numpy as np\n",
    "import pandas as pd\n",
    "import matplotlib.pyplot as plt\n",
    "import seaborn as sns"
   ]
  },
  {
   "cell_type": "code",
   "execution_count": 2,
   "id": "fbf78077-2c8e-4212-82a6-7849fd6bd991",
   "metadata": {},
   "outputs": [],
   "source": [
    "# Pandas setup\n",
    "pd.set_option(\"display.precision\", 2)"
   ]
  },
  {
   "cell_type": "code",
   "execution_count": 3,
   "id": "d371292d-dbc3-4f4a-b3db-463559f8cffe",
   "metadata": {},
   "outputs": [],
   "source": [
    "# Plot helper functions\n",
    "from plot_helpers import savefigure"
   ]
  },
  {
   "cell_type": "code",
   "execution_count": 4,
   "id": "defb8bee-3335-4935-af42-4dee82e3aa9f",
   "metadata": {},
   "outputs": [
    {
     "data": {
      "text/plain": [
       "<Figure size 640x480 with 0 Axes>"
      ]
     },
     "metadata": {},
     "output_type": "display_data"
    }
   ],
   "source": [
    "# Figures setup\n",
    "plt.clf()  # needed otherwise `sns.set_theme` doesn't work\n",
    "from plot_helpers import RCPARAMS\n",
    "RCPARAMS.update({'figure.figsize': (5, 1.6)})  # good for print\n",
    "sns.set_theme(\n",
    "    context=\"paper\",\n",
    "    style=\"whitegrid\",\n",
    "    palette=\"colorblind\",\n",
    "    rc=RCPARAMS,\n",
    ")\n",
    "\n",
    "# Useful colors\n",
    "snspal = sns.color_palette()\n",
    "blue, orange, purple = snspal[0], snspal[1], snspal[4]\n",
    "\n",
    "# High-resolution please\n",
    "%config InlineBackend.figure_format = 'retina'"
   ]
  },
  {
   "cell_type": "markdown",
   "id": "13f1e218-f94c-404f-b784-bd98e4e62b70",
   "metadata": {},
   "source": [
    "### Estimator functions defined in Section 3.1"
   ]
  },
  {
   "cell_type": "code",
   "execution_count": 5,
   "id": "a9bc7744-c676-4561-be77-b091aeba96cb",
   "metadata": {},
   "outputs": [],
   "source": [
    "def mean(sample):\n",
    "    return sum(sample) / len(sample)\n",
    "\n",
    "def var(sample):\n",
    "    xbar = mean(sample)\n",
    "    sumsqdevs = sum([(xi-xbar)**2 for xi in sample])\n",
    "    return sumsqdevs / (len(sample)-1)\n",
    "\n",
    "def std(sample):\n",
    "    s2 = var(sample)\n",
    "    return np.sqrt(s2)\n",
    "\n",
    "def dmeans(xsample, ysample):\n",
    "    dhat = mean(xsample) - mean(ysample)\n",
    "    return dhat"
   ]
  },
  {
   "cell_type": "markdown",
   "id": "634071f3-19b9-4b3b-871d-f80b62b1b61c",
   "metadata": {},
   "source": [
    "## Exercises"
   ]
  },
  {
   "cell_type": "code",
   "execution_count": null,
   "id": "496c8b13-90b8-4249-80d8-0e9716d3ad73",
   "metadata": {},
   "outputs": [],
   "source": []
  },
  {
   "cell_type": "code",
   "execution_count": null,
   "id": "b2c050a9-86a8-4392-b118-5f96faa94738",
   "metadata": {},
   "outputs": [],
   "source": []
  },
  {
   "cell_type": "markdown",
   "id": "07aaa32d-034e-479e-874a-f4173bbf60ce",
   "metadata": {},
   "source": [
    "### Mean test on batch 05 (estimated variance)"
   ]
  },
  {
   "cell_type": "code",
   "execution_count": 6,
   "id": "6ff30b6f-b226-45b2-bfee-d8ed06700954",
   "metadata": {},
   "outputs": [
    {
     "ename": "NameError",
     "evalue": "name 'kombucha' is not defined",
     "output_type": "error",
     "traceback": [
      "\u001b[0;31m---------------------------------------------------------------------------\u001b[0m",
      "\u001b[0;31mNameError\u001b[0m                                 Traceback (most recent call last)",
      "Cell \u001b[0;32mIn[6], line 1\u001b[0m\n\u001b[0;32m----> 1\u001b[0m ksample05 \u001b[38;5;241m=\u001b[39m \u001b[43mkombucha\u001b[49m[kombucha[\u001b[38;5;124m\"\u001b[39m\u001b[38;5;124mbatch\u001b[39m\u001b[38;5;124m\"\u001b[39m]\u001b[38;5;241m==\u001b[39m\u001b[38;5;241m5\u001b[39m][\u001b[38;5;124m\"\u001b[39m\u001b[38;5;124mvolume\u001b[39m\u001b[38;5;124m\"\u001b[39m]\n\u001b[1;32m      2\u001b[0m bootstrap_test_mean(ksample05, mu0\u001b[38;5;241m=\u001b[39m\u001b[38;5;241m1000\u001b[39m)[\u001b[38;5;241m1\u001b[39m]\n",
      "\u001b[0;31mNameError\u001b[0m: name 'kombucha' is not defined"
     ]
    }
   ],
   "source": [
    "ksample05 = kombucha[kombucha[\"batch\"]==5][\"volume\"]\n",
    "bootstrap_test_mean(ksample05, mu0=1000)[1]"
   ]
  },
  {
   "cell_type": "markdown",
   "id": "48c901e9-1130-45e9-ac85-60ab3e1e6aeb",
   "metadata": {},
   "source": [
    "Correctly rejects this as an irregular batch."
   ]
  },
  {
   "cell_type": "code",
   "execution_count": null,
   "id": "572963f5-2800-4f97-8580-dc1876918864",
   "metadata": {},
   "outputs": [],
   "source": [
    "sns.kdeplot(ksample05)\n",
    "ksample05.describe()"
   ]
  },
  {
   "cell_type": "code",
   "execution_count": null,
   "id": "59d525ec-1220-4e56-8887-af850d35f5f7",
   "metadata": {},
   "outputs": [],
   "source": []
  },
  {
   "cell_type": "code",
   "execution_count": null,
   "id": "4a3bc344-6da0-42b1-a3ee-61da9fb18538",
   "metadata": {},
   "outputs": [],
   "source": []
  },
  {
   "cell_type": "code",
   "execution_count": null,
   "id": "d72ecdcf-a5ab-400a-9fe6-77f83af6c0bb",
   "metadata": {},
   "outputs": [],
   "source": []
  },
  {
   "cell_type": "markdown",
   "id": "1c04dc35-93b5-407b-8c53-cc6b3e89e599",
   "metadata": {},
   "source": [
    "### Cohen's d via bootstrap"
   ]
  },
  {
   "cell_type": "code",
   "execution_count": null,
   "id": "ca157f3a-68ca-4338-9dbd-221f3c9f047b",
   "metadata": {},
   "outputs": [],
   "source": []
  },
  {
   "cell_type": "markdown",
   "id": "8cfdae88-ae53-4682-aa9a-9c1a68ca5a5c",
   "metadata": {},
   "source": [
    "### Electric scooters\n",
    "\n",
    "An electric scooter manufacturer launched a new model with large battery and claims the range of the scooter is 45 km. A distributor wants to put this claim to a test, and has collected data from 15 different electric scooters to measure the maximum range of trips, to see how long the battery lasts. We want to know if the data supports the manufacturer's claim.\n",
    "\n",
    "The obtained the data $\\texttt{ds} = [43.5, 44.8, 42.9, 46.2, 44.1, 43.8, 45.5, 43.4, 44.9, 42.7, 44.6, 47.0, 43.0, 44.2, 45.3]$.\n",
    "\n",
    "Assume the theoretical distribution is normally distributed $D_0 \\sim \\mathcal{N}(45, \\sigma_{D_0})$,\n",
    "where $\\sigma_{D_0}$ is unknown so we'll estimate it from the sample variance $\\sigma_{D_0} \\approx \\texttt{dstd} = \\texttt{std(ds)}$.\n"
   ]
  },
  {
   "cell_type": "code",
   "execution_count": null,
   "id": "82e99d03-e2fb-477c-8b11-fbb5aad56c23",
   "metadata": {},
   "outputs": [],
   "source": [
    "# sample\n",
    "ds = [43.5, 44.8, 42.9, 46.2, 44.1, 43.8, 45.5,\n",
    "      43.4, 44.9, 42.7, 44.6, 47.0, 43.0, 44.2, 45.3]"
   ]
  },
  {
   "cell_type": "code",
   "execution_count": null,
   "id": "466aa437-5435-4dbb-9aae-437b934ec469",
   "metadata": {},
   "outputs": [],
   "source": [
    "from stats_helpers import mean, std\n",
    "dbar = mean(ds)\n",
    "dstd = std(ds)"
   ]
  },
  {
   "cell_type": "code",
   "execution_count": null,
   "id": "a3ff7aa7-e18f-4d26-8dd2-5ca01c4d8062",
   "metadata": {},
   "outputs": [],
   "source": [
    "from scipy.stats import norm\n",
    "muD0 = 45\n",
    "Dbar0 = norm(45, dstd)"
   ]
  },
  {
   "cell_type": "code",
   "execution_count": null,
   "id": "ea7699bd-1bed-40a8-8140-a9c5343a1552",
   "metadata": {},
   "outputs": [],
   "source": [
    "from stats_helpers import gen_sampling_dist\n",
    "\n",
    "np.random.seed(42)\n",
    "dbars0 = gen_sampling_dist(Dbar0, estfunc=mean, n=15)"
   ]
  },
  {
   "cell_type": "code",
   "execution_count": null,
   "id": "0be905e9-36df-43ab-a2ee-354a17cd5c70",
   "metadata": {},
   "outputs": [],
   "source": [
    "obsdev = abs(dbar - muD0)\n",
    "tails = [v for v in dbars0 if abs(v-muD0) >= obsdev]\n",
    "pvalue = len(tails) / len(dbars0)\n",
    "pvalue"
   ]
  },
  {
   "cell_type": "code",
   "execution_count": null,
   "id": "c0afce3a-a4d5-4ead-bbda-15ab9ce78ea7",
   "metadata": {},
   "outputs": [],
   "source": [
    "from stats_helpers import simulation_test_mean\n",
    "\n",
    "np.random.seed(42)\n",
    "simulation_test_mean(ds, mu0=muD0, sigma0=dstd)"
   ]
  },
  {
   "cell_type": "code",
   "execution_count": null,
   "id": "9cc31399-87e6-471a-a34b-c8ad7d1507d4",
   "metadata": {},
   "outputs": [],
   "source": []
  },
  {
   "cell_type": "code",
   "execution_count": null,
   "id": "9c1719ec-08eb-4158-a4b7-5d6286a9f9f8",
   "metadata": {},
   "outputs": [],
   "source": []
  },
  {
   "cell_type": "code",
   "execution_count": null,
   "id": "4895367c-bf93-434a-8ca1-fc6b00bc913b",
   "metadata": {},
   "outputs": [],
   "source": []
  }
 ],
 "metadata": {
  "kernelspec": {
   "display_name": "Python 3 (ipykernel)",
   "language": "python",
   "name": "python3"
  },
  "language_info": {
   "codemirror_mode": {
    "name": "ipython",
    "version": 3
   },
   "file_extension": ".py",
   "mimetype": "text/x-python",
   "name": "python",
   "nbconvert_exporter": "python",
   "pygments_lexer": "ipython3",
   "version": "3.9.4"
  }
 },
 "nbformat": 4,
 "nbformat_minor": 5
}
