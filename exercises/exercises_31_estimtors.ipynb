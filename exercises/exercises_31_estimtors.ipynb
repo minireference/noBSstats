{
 "cells": [
  {
   "cell_type": "markdown",
   "id": "69778aa3-a805-4f35-b97f-91c24dae34c0",
   "metadata": {},
   "source": [
    "# Exercises for Section 3.1 Estimates and estimators\n",
    "\n",
    "This notebook contains the solutions to the exercises\n",
    "from [Section 3.1 Estimates and estimators]()\n",
    "in the **No Bullshit Guide to Statistics**."
   ]
  },
  {
   "cell_type": "code",
   "execution_count": null,
   "id": "f51f89c5-23e8-4894-9f40-cc60f8c540ca",
   "metadata": {},
   "outputs": [],
   "source": []
  },
  {
   "cell_type": "markdown",
   "id": "68eebd12-a082-4939-88db-7953dbaaea02",
   "metadata": {
    "jp-MarkdownHeadingCollapsed": true,
    "tags": []
   },
   "source": [
    "### Notebooks setup"
   ]
  },
  {
   "cell_type": "code",
   "execution_count": 1,
   "id": "0ac52c9b-6788-4556-82f9-79be3dd2632d",
   "metadata": {
    "id": "VFzPCGo6I1NJ"
   },
   "outputs": [],
   "source": [
    "import os\n",
    "import numpy as np\n",
    "import pandas as pd\n",
    "import matplotlib.pyplot as plt\n",
    "import seaborn as sns"
   ]
  },
  {
   "cell_type": "code",
   "execution_count": 2,
   "id": "fbf78077-2c8e-4212-82a6-7849fd6bd991",
   "metadata": {},
   "outputs": [],
   "source": [
    "# Pandas setup\n",
    "pd.set_option(\"display.precision\", 2)"
   ]
  },
  {
   "cell_type": "code",
   "execution_count": 3,
   "id": "b17471a8-4487-4cf6-83c6-9ee4232903ef",
   "metadata": {},
   "outputs": [],
   "source": [
    "# Figures setup\n",
    "DESTDIR = \"figures/stats\"  # where to save figures\n",
    "\n",
    "%config InlineBackend.figure_format = 'retina'"
   ]
  },
  {
   "cell_type": "markdown",
   "id": "035a077e-e51f-4270-82ca-be4fe2cf24e4",
   "metadata": {},
   "source": [
    "## Exercises 1\n",
    "\n",
    "\n",
    "### Exercise 3.1\n",
    "\n",
    "Compute the sample mean from Batch 01 and Batch 04 of the kombucha dataset `datasets/kombucha.csv` ."
   ]
  },
  {
   "cell_type": "code",
   "execution_count": null,
   "id": "90db2ac1-a151-441c-8407-649513659c2c",
   "metadata": {},
   "outputs": [],
   "source": []
  },
  {
   "cell_type": "markdown",
   "id": "884d41f7-faea-415d-9ae2-4bb35baef171",
   "metadata": {},
   "source": [
    "### Exercise 3.2\n",
    "\n",
    "Compute the sample variance from Batch 02 and Batch 08 of the kombucha dataset `datasets/kombucha.csv`."
   ]
  },
  {
   "cell_type": "code",
   "execution_count": null,
   "id": "988ad88e-e7c9-4be4-9750-e8a81bc462df",
   "metadata": {},
   "outputs": [],
   "source": []
  },
  {
   "cell_type": "markdown",
   "id": "22021294-a6e7-4771-886d-d535aa98e9a4",
   "metadata": {},
   "source": [
    "### Exercise 3.3\n",
    "\n",
    "Compute the difference between the means of the sleep `score` s \n",
    "for the doctors working in `rural` locations and `urban` locations\n",
    "in the doctors dataset `datasets/doctors.csv` .\n",
    "\n",
    "Hint: Use the code `doctors[doctors[\"location\"]==\"rural\"]` to select\n",
    "the subset of the doctors working in a `rural` location."
   ]
  },
  {
   "cell_type": "code",
   "execution_count": null,
   "id": "17daf376-3049-4ad7-b448-ed62da832a4f",
   "metadata": {},
   "outputs": [],
   "source": []
  },
  {
   "cell_type": "markdown",
   "id": "75af1a82-4482-4529-8229-c8e1223a9ba9",
   "metadata": {},
   "source": [
    "## Exercises 2\n",
    "\n",
    "\n",
    "### Exercise 3.4\n",
    "\n",
    "Generate $N=10k$ observations from the sampling distribution of the estimator `std` for samples of size $n=20$ from the population `rvK`  $= K \\sim \\mathcal{N}(1000,10)$ .\n",
    "Plot a histogram."
   ]
  },
  {
   "cell_type": "code",
   "execution_count": null,
   "id": "0f604b85-385e-4dbd-b594-f3d3e33e34f3",
   "metadata": {},
   "outputs": [],
   "source": []
  },
  {
   "cell_type": "markdown",
   "id": "5c40c70a-bab0-46f7-abd9-beac0921ea4b",
   "metadata": {},
   "source": [
    "### Exercise 3.5\n",
    "\n",
    "Generate the sampling distributions of the estimator `mean` for samples of size $n=10$ , $n=30$ , and $n=100$ from the kombucha population `rvK`  $= K \\sim \\mathcal{N}(1000,10)$ .\n",
    "Plot a histogram for each.\n",
    "Plot also the probability density function of the normal approximations\n",
    "predicted by the central limit theorem for each case.\n",
    "\n",
    "Hint: Code block XX shows an example of a combined plot a histogram and the probability density function on the same axis."
   ]
  },
  {
   "cell_type": "code",
   "execution_count": null,
   "id": "c5b8ef14-edfe-4193-bbc3-8016e4b567e8",
   "metadata": {},
   "outputs": [],
   "source": []
  },
  {
   "cell_type": "markdown",
   "id": "7cfd8133-c308-4790-aed6-b6ad680da796",
   "metadata": {},
   "source": [
    "### Exercise 3.6\n",
    "\n",
    "Generate sampling distribution of the sample mean for samples of size $n=30$ from the standard uniform model `rvU`  $= U \\sim \\mathcal{U}(0,1)$ .\n",
    "Plot a histogram.\n",
    "Compare your result with Figure~ \\ref{fig:sampling_dist_of_Ubar} on page \\pageref{fig:sampling_dist_of_Ubar} .\n",
    "Plot the prediction of the central limit theorem on the same axis."
   ]
  },
  {
   "cell_type": "code",
   "execution_count": null,
   "id": "c6753508-4af0-4cbd-af3d-81ee635ed423",
   "metadata": {},
   "outputs": [],
   "source": []
  },
  {
   "cell_type": "markdown",
   "id": "bc148667-1e96-49a7-ac30-6502b66a631d",
   "metadata": {},
   "source": [
    "## Exercises 3\n",
    "\n",
    "\n",
    "### Exercise 3.7\n",
    "\n",
    "Use the bootstrap procedure to obtain approximations to the sampling distribution of the mean\n",
    "from the sample of apple weights in the dataset `datasets/apples.csv` .\n",
    "Based on your result,\n",
    "what can you say about the unknown population mean $\\mu_A$ ?"
   ]
  },
  {
   "cell_type": "code",
   "execution_count": null,
   "id": "586d7be1-4c93-490f-a02d-929a040f946b",
   "metadata": {},
   "outputs": [],
   "source": []
  },
  {
   "cell_type": "markdown",
   "id": "081ac5de-eac5-42fc-9dee-20d91d73d7dd",
   "metadata": {},
   "source": [
    "### Exercise 3.8\n",
    "\n",
    "Compute bootstrap distribution for the sample mean from Batch 04 of the kombucha dataset,\n",
    "and plot a histogram.\n",
    "Do you think Batch 04 is a regular batch or an irregular batch of production?"
   ]
  },
  {
   "cell_type": "code",
   "execution_count": null,
   "id": "0023de13-d1e6-4032-9330-2b4eb2de361d",
   "metadata": {},
   "outputs": [],
   "source": []
  },
  {
   "cell_type": "markdown",
   "id": "35d5efb3-f72e-445f-b959-37b65d73e6e1",
   "metadata": {},
   "source": [
    "## Exercises 4\n",
    "\n",
    "\n",
    "### Exercise 3.9\n",
    "\n",
    "Describe your uncertainty about the unknown population mean $\\mu_A$ based on sample of apple weights from the dataset `datasets/apples.csv`:  \n",
    "**a)** find an analytical formula in terms Student's $t$ -distribution,  \n",
    "**b)** use bootstrap estimation,  \n",
    "**c)** compare your answers from part a) and b) graphically."
   ]
  },
  {
   "cell_type": "code",
   "execution_count": null,
   "id": "cbe6276b-3c83-4dcc-ac15-a9ad7d35736d",
   "metadata": {},
   "outputs": [],
   "source": []
  },
  {
   "cell_type": "markdown",
   "id": "be26bc97-4fbd-4dbc-a7e7-6cfdf5f43b2a",
   "metadata": {},
   "source": [
    "## Exercises 5\n",
    "\n",
    "\n",
    "### Exercise 3.10\n",
    "\n",
    "Under regular operations,\n",
    "the kombucha volume is described by the model `rvK`  $= K \\sim \\mathcal{N}(1000,10)$ .  \n",
    "**a)** Plot the probability density function for the sampling distribution of the variance for samples of size $n=40$ from the population $K$ .  \n",
    "**b)** Compute the sample variance of Batch 08 from the kombucha dataset.  \n",
    "**c)** Compare the observed value in b) to the sampling distribution in a).\n",
    "Does it look like this is a regular batch or irregular batch?"
   ]
  },
  {
   "cell_type": "code",
   "execution_count": null,
   "id": "e6b7cddd-9c76-4e3c-8dc5-e434cca8ad42",
   "metadata": {},
   "outputs": [],
   "source": []
  },
  {
   "cell_type": "markdown",
   "id": "30203bb6-b4e9-40db-bb19-c9f956c1fadc",
   "metadata": {},
   "source": [
    "### Exercise 3.11\n",
    "\n",
    "Compute the bootstrap approximation for sampling distribution of the variance\n",
    "from Batch 08 of the kombucha dataset.\n",
    "Plot a histogram."
   ]
  },
  {
   "cell_type": "code",
   "execution_count": null,
   "id": "7e4760dd-0db6-4195-8ff2-17f34aac3927",
   "metadata": {},
   "outputs": [],
   "source": []
  },
  {
   "cell_type": "markdown",
   "id": "e7783205-8eab-4686-9382-05403846cebd",
   "metadata": {},
   "source": [
    "## Exercises 6\n",
    "\n",
    "\n",
    "### Exercise 3.12\n",
    "\n",
    "Describe the uncertainty about the difference between means `dmeans(scoresR,scoresU)` ,\n",
    "where `scoresR` and `scoresU` are sleep scores of the rural and urban doctors\n",
    "from the doctors dataset `datasets/apples.csv` .  \n",
    "**a)** Find an analytical formula in terms Student's $t$ -distribution.  \n",
    "**b)** Use bootstrap estimation.  \n",
    "**c)** Compare your answers from part a) and b) graphically."
   ]
  },
  {
   "cell_type": "code",
   "execution_count": null,
   "id": "c0149b1a-0ef3-4c7f-853a-76ec598b716a",
   "metadata": {},
   "outputs": [],
   "source": []
  },
  {
   "cell_type": "markdown",
   "id": "155413d7-a6fe-4056-a00c-76e67a86dd0d",
   "metadata": {},
   "source": [
    "## Exercises 7\n",
    "\n",
    "\n",
    "### Exercise 3.13\n",
    "\n",
    "Generate the sampling distribution of the median for samples of size $n=30$ from the population `rvK` $= K \\sim \\mathcal{N}(1000,10)$ ."
   ]
  },
  {
   "cell_type": "code",
   "execution_count": null,
   "id": "204553d7-d5d9-4adc-95cb-df468127167a",
   "metadata": {},
   "outputs": [],
   "source": []
  },
  {
   "cell_type": "markdown",
   "id": "367a3bbb-93f4-4940-81dc-b99efef21b63",
   "metadata": {},
   "source": [
    "### Exercise 3.14\n",
    "\n",
    "Generate the sampling distribution of `P90` , the 90 \\textsuperscript{th} percentile estimator,\n",
    "from samples of size $n=30$ from `rvK`  $= K \\sim \\mathcal{N}(1000,10)$ .\n",
    "Calculate the standard error $\\stderr{\\tt{P90}}$ of the estimator."
   ]
  },
  {
   "cell_type": "code",
   "execution_count": null,
   "id": "08518de6-5b30-48ae-82a8-338042f0e7a0",
   "metadata": {},
   "outputs": [],
   "source": []
  }
 ],
 "metadata": {
  "kernelspec": {
   "display_name": "Python 3 (ipykernel)",
   "language": "python",
   "name": "python3"
  },
  "language_info": {
   "codemirror_mode": {
    "name": "ipython",
    "version": 3
   },
   "file_extension": ".py",
   "mimetype": "text/x-python",
   "name": "python",
   "nbconvert_exporter": "python",
   "pygments_lexer": "ipython3",
   "version": "3.9.4"
  }
 },
 "nbformat": 4,
 "nbformat_minor": 5
}
