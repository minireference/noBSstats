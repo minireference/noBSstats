{
 "cells": [
  {
   "cell_type": "markdown",
   "id": "69778aa3-a805-4f35-b97f-91c24dae34c0",
   "metadata": {},
   "source": [
    "# Exercises for Section 3.1 Estimates and estimators\n",
    "\n",
    "This notebook contains the solutions to the exercises\n",
    "from [Section 3.1 Estimates and estimators]()\n",
    "in the **No Bullshit Guide to Statistics**."
   ]
  },
  {
   "cell_type": "markdown",
   "id": "68eebd12-a082-4939-88db-7953dbaaea02",
   "metadata": {
    "jp-MarkdownHeadingCollapsed": true,
    "tags": []
   },
   "source": [
    "### Notebooks setup"
   ]
  },
  {
   "cell_type": "code",
   "execution_count": 1,
   "id": "0ac52c9b-6788-4556-82f9-79be3dd2632d",
   "metadata": {
    "id": "VFzPCGo6I1NJ"
   },
   "outputs": [],
   "source": [
    "import os\n",
    "import numpy as np\n",
    "import pandas as pd\n",
    "import matplotlib.pyplot as plt\n",
    "import seaborn as sns"
   ]
  },
  {
   "cell_type": "code",
   "execution_count": 2,
   "id": "fbf78077-2c8e-4212-82a6-7849fd6bd991",
   "metadata": {},
   "outputs": [],
   "source": [
    "# Pandas setup\n",
    "pd.set_option(\"display.precision\", 2)"
   ]
  },
  {
   "cell_type": "code",
   "execution_count": 3,
   "id": "d371292d-dbc3-4f4a-b3db-463559f8cffe",
   "metadata": {},
   "outputs": [],
   "source": [
    "# Plot helper functions\n",
    "from plot_helpers import savefigure"
   ]
  },
  {
   "cell_type": "code",
   "execution_count": 4,
   "id": "defb8bee-3335-4935-af42-4dee82e3aa9f",
   "metadata": {},
   "outputs": [
    {
     "data": {
      "text/plain": [
       "<Figure size 640x480 with 0 Axes>"
      ]
     },
     "metadata": {},
     "output_type": "display_data"
    }
   ],
   "source": [
    "# Figures setup\n",
    "plt.clf()  # needed otherwise `sns.set_theme` doesn't work\n",
    "from plot_helpers import RCPARAMS\n",
    "RCPARAMS.update({'figure.figsize': (5, 1.6)})  # good for print\n",
    "sns.set_theme(\n",
    "    context=\"paper\",\n",
    "    style=\"whitegrid\",\n",
    "    palette=\"colorblind\",\n",
    "    rc=RCPARAMS,\n",
    ")\n",
    "\n",
    "# Useful colors\n",
    "snspal = sns.color_palette()\n",
    "blue, orange, purple = snspal[0], snspal[1], snspal[4]\n",
    "\n",
    "# High-resolution please\n",
    "%config InlineBackend.figure_format = 'retina'\n",
    "\n",
    "# Where to store figures\n",
    "DESTDIR = \"figures/stats/estimators\""
   ]
  },
  {
   "cell_type": "markdown",
   "id": "13f1e218-f94c-404f-b784-bd98e4e62b70",
   "metadata": {},
   "source": [
    "### Estimator functions defined in Section 3.1"
   ]
  },
  {
   "cell_type": "code",
   "execution_count": 5,
   "id": "a9bc7744-c676-4561-be77-b091aeba96cb",
   "metadata": {},
   "outputs": [],
   "source": [
    "def mean(sample):\n",
    "    return sum(sample) / len(sample)\n",
    "\n",
    "def var(sample):\n",
    "    xbar = mean(sample)\n",
    "    sumsqdevs = sum([(xi-xbar)**2 for xi in sample])\n",
    "    return sumsqdevs / (len(sample)-1)\n",
    "\n",
    "def std(sample):\n",
    "    s2 = var(sample)\n",
    "    return np.sqrt(s2)\n",
    "\n",
    "def dmeans(xsample, ysample):\n",
    "    dhat = mean(xsample) - mean(ysample)\n",
    "    return dhat"
   ]
  },
  {
   "cell_type": "markdown",
   "id": "035a077e-e51f-4270-82ca-be4fe2cf24e4",
   "metadata": {},
   "source": [
    "## Exercises 1\n",
    "\n",
    "\n",
    "### Exercise 3.1\n",
    "\n",
    "Compute the sample mean from Batch 01 and Batch 04 of the kombucha dataset `datasets/kombucha.csv` ."
   ]
  },
  {
   "cell_type": "code",
   "execution_count": 6,
   "id": "90db2ac1-a151-441c-8407-649513659c2c",
   "metadata": {},
   "outputs": [],
   "source": [
    "kombucha = pd.read_csv(\"datasets/kombucha.csv\")\n",
    "ksample01 = kombucha[kombucha[\"batch\"]==1][\"volume\"]\n",
    "\n",
    "# compute mean here"
   ]
  },
  {
   "cell_type": "code",
   "execution_count": 7,
   "id": "bbcaade9-db3b-47f3-8cca-3f6d0b583b0d",
   "metadata": {},
   "outputs": [],
   "source": [
    "ksample04 = kombucha[kombucha[\"batch\"]==4][\"volume\"]\n",
    "\n",
    "# compute mean here"
   ]
  },
  {
   "cell_type": "code",
   "execution_count": null,
   "id": "3f5fc52f-6859-4ab5-9480-eff5cfb3891d",
   "metadata": {},
   "outputs": [],
   "source": []
  },
  {
   "cell_type": "markdown",
   "id": "884d41f7-faea-415d-9ae2-4bb35baef171",
   "metadata": {},
   "source": [
    "### Exercise 3.2\n",
    "\n",
    "Compute the sample variance from Batch 02 and Batch 08 of the kombucha dataset `datasets/kombucha.csv`."
   ]
  },
  {
   "cell_type": "code",
   "execution_count": 8,
   "id": "988ad88e-e7c9-4be4-9750-e8a81bc462df",
   "metadata": {},
   "outputs": [],
   "source": [
    "kombucha = pd.read_csv(\"datasets/kombucha.csv\")\n",
    "\n",
    "ksample02 = ...  # select Batch 02 here...\n",
    "\n",
    "# compute variance here..."
   ]
  },
  {
   "cell_type": "code",
   "execution_count": 9,
   "id": "51f9075a-d06d-4e83-8598-f1758af067db",
   "metadata": {},
   "outputs": [],
   "source": [
    "ksample08 = ... # select Batch 08 here... \n",
    "\n",
    "# compute variance here"
   ]
  },
  {
   "cell_type": "code",
   "execution_count": null,
   "id": "52a15653-22c2-4ffb-b3e7-3c952152ce8c",
   "metadata": {},
   "outputs": [],
   "source": []
  },
  {
   "cell_type": "markdown",
   "id": "22021294-a6e7-4771-886d-d535aa98e9a4",
   "metadata": {},
   "source": [
    "### Exercise 3.3\n",
    "\n",
    "Compute the difference between the means of the sleep `score` s \n",
    "for the doctors working in `rural` locations and `urban` locations\n",
    "in the doctors dataset `datasets/doctors.csv` .\n",
    "\n",
    "Hint: Use the code `doctors[doctors[\"location\"]==\"rural\"]` to select\n",
    "the subset of the doctors working in a `rural` location."
   ]
  },
  {
   "cell_type": "code",
   "execution_count": 10,
   "id": "17daf376-3049-4ad7-b448-ed62da832a4f",
   "metadata": {},
   "outputs": [],
   "source": [
    "doctors = pd.read_csv(\"datasets/doctors.csv\")\n",
    "scoresR = doctors[doctors[\"location\"]==\"rural\"][\"score\"]\n",
    "scoresU = ... # select doctors from \"urban\" location here...\n",
    "\n",
    "# compute difference between scores"
   ]
  },
  {
   "cell_type": "code",
   "execution_count": null,
   "id": "fd192bdc-6f77-41e5-ae18-d41ebec9b869",
   "metadata": {},
   "outputs": [],
   "source": []
  },
  {
   "cell_type": "markdown",
   "id": "75af1a82-4482-4529-8229-c8e1223a9ba9",
   "metadata": {},
   "source": [
    "## Exercises 2\n",
    "\n",
    "\n",
    "### Exercise 3.4\n",
    "\n",
    "Generate $N=10000$ observations from the sampling distribution of the estimator `std` for samples of size $n=20$ from the population `rvK`  $= K \\sim \\mathcal{N}(1000,10)$ .\n",
    "Plot a histogram."
   ]
  },
  {
   "cell_type": "code",
   "execution_count": 11,
   "id": "0f604b85-385e-4dbd-b594-f3d3e33e34f3",
   "metadata": {},
   "outputs": [],
   "source": [
    "from scipy.stats import norm\n",
    "muK = 1000\n",
    "sigmaK = 10\n",
    "rvK = norm(muK, sigmaK)\n",
    "\n",
    "# generate sampling distribution of the standard deviaiton\n",
    "from stats_helpers import gen_sampling_dist\n",
    "\n",
    "# plot histogram of sampling distribution "
   ]
  },
  {
   "cell_type": "code",
   "execution_count": null,
   "id": "5d52274b-9bf7-43da-a939-b976f46997ec",
   "metadata": {},
   "outputs": [],
   "source": []
  },
  {
   "cell_type": "markdown",
   "id": "5c40c70a-bab0-46f7-abd9-beac0921ea4b",
   "metadata": {},
   "source": [
    "### Exercise 3.5\n",
    "\n",
    "Generate the sampling distributions of the estimator `mean` for samples of size $n=10$ , $n=30$ , and $n=100$ from the population `rvK`  $= K \\sim \\mathcal{N}(1000,10)$ .\n",
    "Plot a histogram for each distribution.\n",
    "Plot also the probability density function of the normal approximations\n",
    "predicted by the central limit theorem for each case."
   ]
  },
  {
   "cell_type": "code",
   "execution_count": 12,
   "id": "c5b8ef14-edfe-4193-bbc3-8016e4b567e8",
   "metadata": {},
   "outputs": [],
   "source": [
    "from scipy.stats import norm\n",
    "muK = 1000\n",
    "sigmaK = 10\n",
    "rvK = norm(muK, sigmaK)\n",
    "\n",
    "# simulations of Xbar for different sample sizes:\n",
    "xbars10 = ... \n",
    "xbars30 = ... \n",
    "xbars100 = ... "
   ]
  },
  {
   "cell_type": "code",
   "execution_count": 13,
   "id": "da2bb3ec-6ef9-45c7-a6f2-5cd5caaad302",
   "metadata": {},
   "outputs": [
    {
     "data": {
      "text/plain": [
       "Ellipsis"
      ]
     },
     "execution_count": 13,
     "metadata": {},
     "output_type": "execute_result"
    }
   ],
   "source": [
    "# CASE n = 10\n",
    "\n",
    "# Plot the histogram obtained from simulation\n",
    "...\n",
    "\n",
    "# Find the CLT approximation\n",
    "seKbar10 = ...\n",
    "rvKbarCLT10 = norm(..., ...)\n",
    "\n",
    "# Plot the pdf of the CLT approximation\n",
    "from plot_helpers import plot_pdf\n",
    "..."
   ]
  },
  {
   "cell_type": "code",
   "execution_count": 14,
   "id": "7626b171-c679-4137-ac14-0a2bd8fbb12f",
   "metadata": {},
   "outputs": [],
   "source": [
    "# CASE n = 30\n",
    "\n",
    "\n"
   ]
  },
  {
   "cell_type": "code",
   "execution_count": 15,
   "id": "2ca654b2-81b0-462c-987b-21460230727d",
   "metadata": {},
   "outputs": [],
   "source": [
    "# CASE n = 100\n",
    "\n",
    "\n"
   ]
  },
  {
   "cell_type": "markdown",
   "id": "7cfd8133-c308-4790-aed6-b6ad680da796",
   "metadata": {},
   "source": [
    "### Exercise 3.6\n",
    "\n",
    "Generate sampling distribution of the mean for samples of size $n=30$ from the standard uniform model `rvU`  $= U \\sim \\mathcal{U}(0,1)$ .\n",
    "Plot a histogram.\n",
    "Compare your result with Figure~ \\ref{fig:sampling_dist_of_Ubar} on page \\pageref{fig:sampling_dist_of_Ubar} .\n",
    "Plot the prediction of the central limit theorem on the same axis."
   ]
  },
  {
   "cell_type": "code",
   "execution_count": 16,
   "id": "c6753508-4af0-4cbd-af3d-81ee635ed423",
   "metadata": {},
   "outputs": [
    {
     "data": {
      "text/plain": [
       "(0.5, 0.28867513459481287)"
      ]
     },
     "execution_count": 16,
     "metadata": {},
     "output_type": "execute_result"
    }
   ],
   "source": [
    "from scipy.stats import uniform\n",
    "rvU = uniform(0,1)\n",
    "\n",
    "# the mean and standard deviation of the pupulation are\n",
    "muU = rvU.mean()\n",
    "sigmaU = rvU.std()\n",
    "muU, sigmaU"
   ]
  },
  {
   "cell_type": "code",
   "execution_count": 17,
   "id": "ba360583-e849-4377-b60b-d8a3f2f70708",
   "metadata": {},
   "outputs": [
    {
     "data": {
      "text/plain": [
       "Ellipsis"
      ]
     },
     "execution_count": 17,
     "metadata": {},
     "output_type": "execute_result"
    }
   ],
   "source": [
    "# simulations of Ubar for samples of size 30\n",
    "ubars30 = ...\n",
    "\n",
    "# Plot the histogram obtained from simulation\n",
    "...  # hint: ax = sns.histplot(ubars30, stat=\"density\")\n",
    "\n",
    "# Find the CLT approximation\n",
    "...\n",
    "\n",
    "# Plot the pdf of the CLT approximation\n",
    "from plot_helpers import plot_pdf\n",
    "... "
   ]
  },
  {
   "cell_type": "markdown",
   "id": "bc148667-1e96-49a7-ac30-6502b66a631d",
   "metadata": {},
   "source": [
    "## Exercises 3\n",
    "\n",
    "\n",
    "### Exercise 3.7\n",
    "\n",
    "Use bootstrap estimation to obtain an approximation to the sampling distribution of the mean\n",
    "from the sample of apple weights in the dataset `datasets/apples.csv` .\n",
    "Based on your result,\n",
    "what can you say about the unknown population mean $\\mu_A$?\n",
    "What is the standard error of your estimate?\n",
    "State your answer as $\\overline{\\mathbf{a}} \\pm \\stderrhat{\\overline{\\mathbf{a}}}$ and interpret in words."
   ]
  },
  {
   "cell_type": "code",
   "execution_count": 18,
   "id": "586d7be1-4c93-490f-a02d-929a040f946b",
   "metadata": {},
   "outputs": [],
   "source": [
    "apples = pd.read_csv(\"datasets/apples.csv\")\n",
    "asample = apples[\"weight\"]\n",
    "# apples"
   ]
  },
  {
   "cell_type": "code",
   "execution_count": 19,
   "id": "1ec32ffa-020c-46b2-a5cb-4409f5b3e159",
   "metadata": {},
   "outputs": [],
   "source": [
    "from stats_helpers import gen_boot_dist\n",
    "\n",
    "abars_boot = ... "
   ]
  },
  {
   "cell_type": "code",
   "execution_count": 20,
   "id": "b4ca8320-f5a2-4644-b135-46142148a956",
   "metadata": {},
   "outputs": [],
   "source": [
    "# compute mean and standard deviation of abars_boot"
   ]
  },
  {
   "cell_type": "code",
   "execution_count": null,
   "id": "70251522-1f89-41a7-baec-4a77b887f309",
   "metadata": {},
   "outputs": [],
   "source": []
  },
  {
   "cell_type": "markdown",
   "id": "081ac5de-eac5-42fc-9dee-20d91d73d7dd",
   "metadata": {},
   "source": [
    "### Exercise 3.8\n",
    "\n",
    "Compute bootstrap distribution for the sample mean from Batch 04 of the kombucha dataset,\n",
    "and plot a histogram.\n",
    "Do you think Batch 04 is a regular batch or an irregular batch of production?"
   ]
  },
  {
   "cell_type": "code",
   "execution_count": 21,
   "id": "0023de13-d1e6-4032-9330-2b4eb2de361d",
   "metadata": {},
   "outputs": [],
   "source": [
    "kombucha = pd.read_csv(\"datasets/kombucha.csv\")\n",
    "ksample04 = kombucha[kombucha[\"batch\"]==4][\"volume\"]"
   ]
  },
  {
   "cell_type": "code",
   "execution_count": null,
   "id": "ae751b5a-8c36-49b1-8237-c8b242614c50",
   "metadata": {},
   "outputs": [],
   "source": []
  },
  {
   "cell_type": "code",
   "execution_count": null,
   "id": "09083552-f3c4-4aec-ae1a-182a5bae4904",
   "metadata": {},
   "outputs": [],
   "source": []
  },
  {
   "cell_type": "markdown",
   "id": "35d5efb3-f72e-445f-b959-37b65d73e6e1",
   "metadata": {},
   "source": [
    "## Exercises 4\n",
    "\n",
    "\n",
    "### Exercise 3.9\n",
    "\n",
    "Describe your uncertainty about the unknown population mean $\\mu_A$ based on sample of apple weights from the dataset `datasets/apples.csv`:  \n",
    "**a)** find an analytical formula in terms Student's $t$ -distribution,  \n",
    "**b)** use bootstrap estimation,  \n",
    "**c)** compare your answers from part a) and b) graphically."
   ]
  },
  {
   "cell_type": "code",
   "execution_count": 22,
   "id": "cbe6276b-3c83-4dcc-ac15-a9ad7d35736d",
   "metadata": {},
   "outputs": [],
   "source": [
    "apples = pd.read_csv(\"datasets/apples.csv\")\n",
    "asample = apples[\"weight\"]"
   ]
  },
  {
   "cell_type": "code",
   "execution_count": null,
   "id": "7c540182-8b82-4cc8-a5c4-df602a0ee50a",
   "metadata": {},
   "outputs": [],
   "source": []
  },
  {
   "cell_type": "code",
   "execution_count": 23,
   "id": "72e93a62-ead1-4067-81df-74a94f61e929",
   "metadata": {},
   "outputs": [
    {
     "data": {
      "text/plain": [
       "Ellipsis"
      ]
     },
     "execution_count": 23,
     "metadata": {},
     "output_type": "execute_result"
    }
   ],
   "source": [
    "# a) Find the CLT approximation\n",
    "from scipy.stats import t as tdist\n",
    "\n",
    "n = asample.count()\n",
    "df = ...\n",
    "loc = ...\n",
    "scale = ...\n",
    "rvTAbar = tdist(df, loc=loc, scale=scale)\n",
    "\n",
    "# Plot the pdf of the CLT approximation\n",
    "..."
   ]
  },
  {
   "cell_type": "code",
   "execution_count": 24,
   "id": "cc890916-c426-4ab7-a396-df78482e10f2",
   "metadata": {},
   "outputs": [],
   "source": [
    "# b) obtain bootstrap approximation\n",
    "abars_boot = ..."
   ]
  },
  {
   "cell_type": "code",
   "execution_count": null,
   "id": "57e47929-06c5-4762-ac51-d0ced55ec5e7",
   "metadata": {},
   "outputs": [],
   "source": []
  },
  {
   "cell_type": "markdown",
   "id": "be26bc97-4fbd-4dbc-a7e7-6cfdf5f43b2a",
   "metadata": {},
   "source": [
    "## Exercises 5\n",
    "\n",
    "\n",
    "### Exercise 3.10\n",
    "\n",
    "Under regular operations,\n",
    "the kombucha volume is described by the model `rvK`  $= K \\sim \\mathcal{N}(1000,10)$ .  \n",
    "**a)** Plot the probability density function for the sampling distribution of the variance for samples of size $n=40$ from the population $K$ .  \n",
    "**b)** Compute the sample variance of Batch 08 from the kombucha dataset.  \n",
    "**c)** Compare the observed value in b) to the sampling distribution in a).\n",
    "Does it look like this is a regular batch or irregular batch?"
   ]
  },
  {
   "cell_type": "code",
   "execution_count": 25,
   "id": "e6b7cddd-9c76-4e3c-8dc5-e434cca8ad42",
   "metadata": {},
   "outputs": [
    {
     "data": {
      "text/plain": [
       "Ellipsis"
      ]
     },
     "execution_count": 25,
     "metadata": {},
     "output_type": "execute_result"
    }
   ],
   "source": [
    "# a) Find the sampling distribution of the sample variance\n",
    "from scipy.stats import chi2\n",
    "\n",
    "n = ...\n",
    "df = ...\n",
    "scale = ...\n",
    "rvS2 = chi2(df, loc=0, scale=scale)\n",
    "\n",
    "# Plot the pdf of the CLT approximation\n",
    "..."
   ]
  },
  {
   "cell_type": "code",
   "execution_count": 26,
   "id": "f3eb0e00-61c5-47a6-b0c4-72aa0db36f57",
   "metadata": {},
   "outputs": [],
   "source": [
    "# b) the sample variance of Batch 04 is\n",
    "kombucha = pd.read_csv(\"datasets/kombucha.csv\")\n",
    "ksample08 = ... # select Batch 08 here ..."
   ]
  },
  {
   "cell_type": "markdown",
   "id": "7d163f63-394e-4065-8385-7c33a8ff71d4",
   "metadata": {},
   "source": [
    "c) The observed value $s_{\\mathbf{k}_{08}} = 167$ is very unlikely to occur\n",
    "under the expected sampling distribution for the sample variance\n",
    "for regular samples.\n",
    "This suggests that Batch 08 is an irregular batch with abnormally high variance.\n",
    "Better check the machine."
   ]
  },
  {
   "cell_type": "code",
   "execution_count": null,
   "id": "5159f8f6-55c8-41a4-a9c7-c61f98c293ff",
   "metadata": {},
   "outputs": [],
   "source": []
  },
  {
   "cell_type": "markdown",
   "id": "30203bb6-b4e9-40db-bb19-c9f956c1fadc",
   "metadata": {},
   "source": [
    "### Exercise 3.11\n",
    "\n",
    "Compute the bootstrap approximation for sampling distribution of the variance\n",
    "from Batch 08 of the kombucha dataset.\n",
    "Plot a histogram."
   ]
  },
  {
   "cell_type": "code",
   "execution_count": 27,
   "id": "7e4760dd-0db6-4195-8ff2-17f34aac3927",
   "metadata": {},
   "outputs": [],
   "source": [
    "kombucha = pd.read_csv(\"datasets/kombucha.csv\")\n",
    "ksample08 = ... # select Batch 08 here ...\n",
    "\n",
    "kvars08_boot = ...\n"
   ]
  },
  {
   "cell_type": "markdown",
   "id": "20af062e-a6d5-4cc3-abc9-e571aa1d4c3f",
   "metadata": {},
   "source": [
    "The boostrap etimates we obverve are very far from the \n",
    "expected standard deviation for regular batches,\n",
    "which is $\\sigma_K^2 = 100$,\n",
    "which tells us Batch 08 might be irregular (abnormally high variance)."
   ]
  },
  {
   "cell_type": "code",
   "execution_count": null,
   "id": "c723f79c-e8d0-4216-8cd0-a9c32da70dd3",
   "metadata": {},
   "outputs": [],
   "source": []
  },
  {
   "cell_type": "markdown",
   "id": "e7783205-8eab-4686-9382-05403846cebd",
   "metadata": {},
   "source": [
    "## Exercises 6\n",
    "\n",
    "\n",
    "### Exercise 3.12\n",
    "\n",
    "Describe the uncertainty about the difference between means `dmeans(scoresR,scoresU)` ,\n",
    "where `scoresR` and `scoresU` are sleep scores of the rural and urban doctors\n",
    "from the doctors dataset `datasets/apples.csv` .  \n",
    "**a)** Find an analytical formula in terms Student's $t$ -distribution.  \n",
    "**b)** Use bootstrap estimation.  \n",
    "**c)** Compare your answers from part a) and b) graphically."
   ]
  },
  {
   "cell_type": "code",
   "execution_count": 28,
   "id": "c0149b1a-0ef3-4c7f-853a-76ec598b716a",
   "metadata": {},
   "outputs": [
    {
     "data": {
      "text/plain": [
       "Ellipsis"
      ]
     },
     "execution_count": 28,
     "metadata": {},
     "output_type": "execute_result"
    }
   ],
   "source": [
    "doctors = pd.read_csv(\"datasets/doctors.csv\")\n",
    "scoresR = doctors[doctors[\"location\"]==\"rural\"][\"score\"]\n",
    "scoresU = ... # select urban doctors ...\n",
    "\n",
    "# observed difference\n",
    "..."
   ]
  },
  {
   "cell_type": "code",
   "execution_count": 29,
   "id": "ae87ac2c-f7e3-4dd2-b072-8122434337f0",
   "metadata": {},
   "outputs": [
    {
     "data": {
      "text/plain": [
       "Ellipsis"
      ]
     },
     "execution_count": 29,
     "metadata": {},
     "output_type": "execute_result"
    }
   ],
   "source": [
    "# a) analytical approximation\n",
    "\n",
    "# obtain the sample sizes and stds of the two groups\n",
    "...\n",
    "\n",
    "# compute standard error of the difference between group means\n",
    "...\n",
    "\n",
    "# calculate the degrees of freedom\n",
    "from stats_helpers import calcdf\n",
    "...\n",
    "\n",
    "# probability model based on Student's t-distribution\n",
    "from scipy.stats import t as tdist\n",
    "..."
   ]
  },
  {
   "cell_type": "code",
   "execution_count": 30,
   "id": "659d8bac-54d7-4027-bcb7-be6b42c0eb17",
   "metadata": {},
   "outputs": [],
   "source": [
    "# b) bootstrap estimate\n",
    "# compute bootstrap estimates for mean in each group\n",
    "meanR_boot = ... \n",
    "meanU_boot = ...\n",
    "\n",
    "# compute the difference between means of bootstrap samples\n",
    "dmeans_boot = ...\n"
   ]
  },
  {
   "cell_type": "code",
   "execution_count": 31,
   "id": "6f84f207-77e3-42d0-a437-31a45274249f",
   "metadata": {},
   "outputs": [
    {
     "data": {
      "text/plain": [
       "Ellipsis"
      ]
     },
     "execution_count": 31,
     "metadata": {},
     "output_type": "execute_result"
    }
   ],
   "source": [
    "# c) plot the answers form a) and b)\n",
    "\n",
    "# pdf of the analytical approximation \n",
    "...\n",
    "\n",
    "# histogtam of the bootstrap approximation\n",
    "..."
   ]
  },
  {
   "cell_type": "code",
   "execution_count": null,
   "id": "eeabc124-e27e-4fb3-84d7-21a154c626c9",
   "metadata": {},
   "outputs": [],
   "source": []
  },
  {
   "cell_type": "markdown",
   "id": "155413d7-a6fe-4056-a00c-76e67a86dd0d",
   "metadata": {},
   "source": [
    "## Exercises 7\n",
    "\n",
    "\n",
    "### Exercise 3.13\n",
    "\n",
    "Generate the sampling distribution of the median for samples of size $n=30$ from the population `rvK` $= K \\sim \\mathcal{N}(1000,10)$ ."
   ]
  },
  {
   "cell_type": "code",
   "execution_count": 32,
   "id": "204553d7-d5d9-4adc-95cb-df468127167a",
   "metadata": {},
   "outputs": [],
   "source": [
    "from scipy.stats import norm\n",
    "rvK = norm(1000, 10)\n",
    "\n",
    "# simulations of the median from samples of size n=30\n",
    "kmedians30 = ..."
   ]
  },
  {
   "cell_type": "code",
   "execution_count": 33,
   "id": "4c653908-0148-4af0-a04e-23930c6be8ed",
   "metadata": {},
   "outputs": [],
   "source": [
    "# compute se of median\n",
    "..."
   ]
  },
  {
   "cell_type": "code",
   "execution_count": null,
   "id": "98f735a9-321b-4a01-ab56-42d0ad861b4f",
   "metadata": {},
   "outputs": [],
   "source": []
  },
  {
   "cell_type": "markdown",
   "id": "367a3bbb-93f4-4940-81dc-b99efef21b63",
   "metadata": {},
   "source": [
    "### Exercise 3.14\n",
    "\n",
    "Generate the sampling distribution of `P90` , the 90th percentile estimator,\n",
    "from samples of size $n=30$ from `rvK`  $= K \\sim \\mathcal{N}(1000,10)$ .\n",
    "Calculate the standard error $\\stderr{\\tt{P90}}$ of the estimator."
   ]
  },
  {
   "cell_type": "code",
   "execution_count": 34,
   "id": "08518de6-5b30-48ae-82a8-338042f0e7a0",
   "metadata": {},
   "outputs": [
    {
     "data": {
      "text/plain": [
       "Ellipsis"
      ]
     },
     "execution_count": 34,
     "metadata": {},
     "output_type": "execute_result"
    }
   ],
   "source": [
    "from scipy.stats import norm\n",
    "rvK = norm(1000, 10)\n",
    "\n",
    "# 90th percential estimator function\n",
    "def p90(sample):\n",
    "    ...\n",
    "\n",
    "# simulations of p90 from samples of size n=30\n",
    "kp90s30 = gen_sampling_dist(rvK, estfunc=p90, n=30)\n",
    "\n",
    "# histogram\n",
    "..."
   ]
  },
  {
   "cell_type": "code",
   "execution_count": 35,
   "id": "9aaebec9-719c-4ab3-a5c7-4e6e2e4e4e0f",
   "metadata": {},
   "outputs": [],
   "source": [
    "# compute se of p90\n",
    "..."
   ]
  },
  {
   "cell_type": "code",
   "execution_count": null,
   "id": "04a5962b-d210-45e2-bd2e-3a3b82044128",
   "metadata": {},
   "outputs": [],
   "source": []
  },
  {
   "cell_type": "code",
   "execution_count": null,
   "id": "7e6c71e3-5f00-4db8-8ab1-5c5c5f4d3507",
   "metadata": {},
   "outputs": [],
   "source": []
  },
  {
   "cell_type": "markdown",
   "id": "648e31e2-642a-4ec8-96bc-e9cb5c4787fa",
   "metadata": {},
   "source": [
    "### Exercise 3.16\n",
    "\n",
    "Use the function `scipy.stats.boostrap` to compute the bootstrap distribution\n",
    "of the variance from the sample `ksample02`."
   ]
  },
  {
   "cell_type": "code",
   "execution_count": 40,
   "id": "7a1f9847-c46d-4d91-81d4-f4f0b41b4828",
   "metadata": {},
   "outputs": [
    {
     "data": {
      "text/plain": [
       "Ellipsis"
      ]
     },
     "execution_count": 40,
     "metadata": {},
     "output_type": "execute_result"
    }
   ],
   "source": [
    "from scipy.stats import bootstrap\n",
    "\n",
    "kombucha = pd.read_csv(\"datasets/kombucha.csv\")\n",
    "ksample02 = ...  # select Batch 02 here...\n",
    "\n",
    "# call the function bootstrap\n",
    "...\n",
    "\n",
    "# plot histogram\n",
    "..."
   ]
  },
  {
   "cell_type": "code",
   "execution_count": null,
   "id": "ea839add-b16b-4852-80e3-d5754c8bc3eb",
   "metadata": {},
   "outputs": [],
   "source": []
  }
 ],
 "metadata": {
  "kernelspec": {
   "display_name": "Python 3 (ipykernel)",
   "language": "python",
   "name": "python3"
  },
  "language_info": {
   "codemirror_mode": {
    "name": "ipython",
    "version": 3
   },
   "file_extension": ".py",
   "mimetype": "text/x-python",
   "name": "python",
   "nbconvert_exporter": "python",
   "pygments_lexer": "ipython3",
   "version": "3.9.4"
  }
 },
 "nbformat": 4,
 "nbformat_minor": 5
}
