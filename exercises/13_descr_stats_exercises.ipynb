{
 "cells": [
  {
   "cell_type": "markdown",
   "id": "729659cf-d0ff-4543-a354-d11c51e60f38",
   "metadata": {},
   "source": [
    "# Descriptive statistics exercises\n",
    "\n",
    "This notebook contains all solutions of the exercises from [Section 1.3 Descriptive Statistics](https://minireference.com/static/excerpts/noBSstats/descriptive_statistics.pdf) in the **No Bullshit Guide to Statistics**."
   ]
  },
  {
   "cell_type": "markdown",
   "id": "a6389227-654c-47dd-b60e-d5e9e4a8fad9",
   "metadata": {
    "tags": []
   },
   "source": [
    "### Notebooks setup"
   ]
  },
  {
   "cell_type": "code",
   "execution_count": 1,
   "id": "068cba77-95ea-4024-aced-9895802a4d43",
   "metadata": {
    "id": "VFzPCGo6I1NJ"
   },
   "outputs": [],
   "source": [
    "import numpy as np\n",
    "import pandas as pd\n",
    "import matplotlib.pyplot as plt\n",
    "import seaborn as sns"
   ]
  },
  {
   "cell_type": "code",
   "execution_count": 2,
   "id": "93fa5c9c-e955-4ff4-a9eb-67035c96d510",
   "metadata": {},
   "outputs": [],
   "source": [
    "# Pandas setup\n",
    "pd.set_option(\"display.precision\", 2)"
   ]
  },
  {
   "cell_type": "code",
   "execution_count": 3,
   "id": "ada6f56c-bc0e-421f-b3d9-698b3d6a794a",
   "metadata": {},
   "outputs": [],
   "source": [
    "# Figures setup\n",
    "sns.set_theme(\n",
    "    context=\"paper\",\n",
    "    style=\"whitegrid\",\n",
    "    palette=\"colorblind\",\n",
    "    rc={'figure.figsize': (7,4)},\n",
    ")\n",
    "\n",
    "%config InlineBackend.figure_format = 'retina'"
   ]
  },
  {
   "cell_type": "markdown",
   "id": "cd818d6d-51df-47b2-9671-af329f33231e",
   "metadata": {},
   "source": [
    "### Load the `sdudents` dataset"
   ]
  },
  {
   "cell_type": "code",
   "execution_count": 4,
   "id": "efedd9cc-ee8c-4ef0-b882-87024f015785",
   "metadata": {},
   "outputs": [],
   "source": [
    "import os\n",
    "if os.path.exists(\"../datasets/students.csv\"):\n",
    "    data_file = open(\"../datasets/students.csv\", \"r\")\n",
    "else:\n",
    "    import io\n",
    "    data_file = io.StringIO(\"\"\"\n",
    "student_ID,background,curriculum,effort,score\n",
    "1,arts,debate,10.96,75\n",
    "2,science,lecture,8.69,75\n",
    "3,arts,debate,8.6,67\n",
    "4,arts,lecture,7.92,70.3\n",
    "5,science,debate,9.9,76.1\n",
    "6,business,debate,10.8,79.8\n",
    "7,science,lecture,7.81,72.7\n",
    "8,business,lecture,9.13,75.4\n",
    "9,business,lecture,5.21,57\n",
    "10,science,lecture,7.71,69\n",
    "11,business,debate,9.82,70.4\n",
    "12,arts,debate,11.53,96.2\n",
    "13,science,debate,7.1,62.9\n",
    "14,science,lecture,6.39,57.6\n",
    "15,arts,debate,12,84.3\n",
    "\"\"\")\n",
    "\n",
    "students = pd.read_csv(data_file)"
   ]
  },
  {
   "cell_type": "markdown",
   "id": "3a6b9d11-26f4-410a-a04c-77dab408c0f7",
   "metadata": {
    "tags": []
   },
   "source": [
    "### Let's look at the `effort` variable:"
   ]
  },
  {
   "cell_type": "code",
   "execution_count": 5,
   "id": "0f78b2e6-e5b4-4b79-91b0-643210c5a16d",
   "metadata": {},
   "outputs": [],
   "source": [
    "effort = students[\"effort\"]\n",
    "# effort"
   ]
  },
  {
   "cell_type": "markdown",
   "id": "a5bd612e-6536-45b3-b777-b4f2ccacc1f3",
   "metadata": {},
   "source": [
    "#### E1.1\n",
    "Compute the Mean, Min, Max, and Range of the effort variable in the students dataset.\n",
    "\n",
    "\n"
   ]
  },
  {
   "cell_type": "code",
   "execution_count": 6,
   "id": "5779df42-cd6f-4b64-91e1-56a7d910642a",
   "metadata": {},
   "outputs": [
    {
     "data": {
      "text/plain": [
       "(8.904666666666666, 5.21, 12.0)"
      ]
     },
     "execution_count": 6,
     "metadata": {},
     "output_type": "execute_result"
    }
   ],
   "source": [
    "effort = students[\"effort\"]\n",
    "effort.mean(), effort.min(), effort.max()"
   ]
  },
  {
   "cell_type": "markdown",
   "id": "52f43300-489c-4058-a5b0-4ca4b56f51d6",
   "metadata": {},
   "source": [
    "#### E1.2\n",
    "Find Q1, Med, and Q3 of the effort variable in the students dataset.\n"
   ]
  },
  {
   "cell_type": "code",
   "execution_count": 7,
   "id": "286cefb6-740c-46cd-9419-9317adb58c17",
   "metadata": {},
   "outputs": [
    {
     "data": {
      "text/plain": [
       "(7.76, 8.69, 10.350000000000001)"
      ]
     },
     "execution_count": 7,
     "metadata": {},
     "output_type": "execute_result"
    }
   ],
   "source": [
    "effort.quantile(q=0.25), effort.median(), effort.quantile(q=0.75)"
   ]
  },
  {
   "cell_type": "markdown",
   "id": "c8ba1a68-5d8c-4099-b9ba-15b875b4268c",
   "metadata": {},
   "source": [
    "#### E1.3\n",
    "Make a one-way frequency table for the effort variable. Use (5,7], (7,9], (9,11], (11,13] as the boundaries of the bins."
   ]
  },
  {
   "cell_type": "code",
   "execution_count": 8,
   "id": "8e749417-8159-4cc8-af59-0f026dfe44f0",
   "metadata": {},
   "outputs": [
    {
     "data": {
      "text/plain": [
       "(4.999, 7.0]    2\n",
       "(7.0, 9.0]      6\n",
       "(9.0, 11.0]     5\n",
       "(11.0, 13.0]    2\n",
       "Name: effort, dtype: int64"
      ]
     },
     "execution_count": 8,
     "metadata": {},
     "output_type": "execute_result"
    }
   ],
   "source": [
    "bins = [5, 7, 9, 11, 13]\n",
    "effort.value_counts(bins=bins).sort_index()"
   ]
  },
  {
   "cell_type": "code",
   "execution_count": 9,
   "id": "32d2f52f-07d4-4ac8-9888-72530a42eb22",
   "metadata": {},
   "outputs": [],
   "source": [
    "# # ALT. to get [5,7), [7,9), [9,11), [11,13) instead, use\n",
    "# bins2 = pd.IntervalIndex.from_breaks(bins, closed=\"left\")\n",
    "# effort.value_counts(bins=bins2).sort_index()"
   ]
  },
  {
   "cell_type": "code",
   "execution_count": null,
   "id": "e4f2fe09-08af-41e9-9626-6c30bd917d01",
   "metadata": {},
   "outputs": [],
   "source": []
  },
  {
   "cell_type": "code",
   "execution_count": null,
   "id": "6c4b14dd-99f2-42ef-9369-88b643dfbecc",
   "metadata": {},
   "outputs": [],
   "source": []
  },
  {
   "cell_type": "code",
   "execution_count": null,
   "id": "434c8ad1-bcb8-4bec-8164-933b5820e345",
   "metadata": {},
   "outputs": [],
   "source": []
  },
  {
   "cell_type": "markdown",
   "id": "95b7848f-b3b9-4b39-a7b1-4d9f83b941c4",
   "metadata": {},
   "source": [
    "#### E1.4\n",
    "Draw a scatter plot for the following dataset of (x,y) pairs:\n",
    "\\{ (2,2), (3,3), (4,3), (5,5), (6,4) \\}."
   ]
  },
  {
   "cell_type": "code",
   "execution_count": 10,
   "id": "8f1aefe4-1ca0-4d50-ad8d-31d56133d704",
   "metadata": {},
   "outputs": [
    {
     "data": {
      "text/plain": [
       "<AxesSubplot:xlabel='x', ylabel='y'>"
      ]
     },
     "execution_count": 10,
     "metadata": {},
     "output_type": "execute_result"
    },
    {
     "data": {
      "image/png": "[encoded data removed]",
      "text/plain": [
       "<Figure size 504x288 with 1 Axes>"
      ]
     },
     "metadata": {
      "image/png": {
       "height": 262,
       "width": 438
      }
     },
     "output_type": "display_data"
    }
   ],
   "source": [
    "df = pd.DataFrame([(2,2), (3,3), (4,3), (5,5),\n",
    "                   (6,4), (5,4), (7,6), (8,5)],\n",
    "                  columns=[\"x\", \"y\"])\n",
    "sns.scatterplot(x=\"x\", y=\"y\", data=df)"
   ]
  },
  {
   "cell_type": "code",
   "execution_count": null,
   "id": "58a48bcd-bbe0-49e4-81cf-056e013eee63",
   "metadata": {},
   "outputs": [],
   "source": []
  },
  {
   "cell_type": "code",
   "execution_count": null,
   "id": "28456654-f9ac-4036-b638-223303b6fdb2",
   "metadata": {},
   "outputs": [],
   "source": []
  },
  {
   "cell_type": "markdown",
   "id": "3f61deb1-03b3-413f-a051-d188b42b6062",
   "metadata": {},
   "source": [
    "#### E1.5\n",
    "Make a bar chart displaying the frequencies of the curriculum variable.\n"
   ]
  },
  {
   "cell_type": "code",
   "execution_count": 11,
   "id": "6946b057-9fd9-4351-a71a-1302f7d9e818",
   "metadata": {},
   "outputs": [
    {
     "data": {
      "text/plain": [
       "<AxesSubplot:xlabel='curriculum', ylabel='count'>"
      ]
     },
     "execution_count": 11,
     "metadata": {},
     "output_type": "execute_result"
    },
    {
     "data": {
      "image/png": "[encoded data removed]",
      "text/plain": [
       "<Figure size 504x288 with 1 Axes>"
      ]
     },
     "metadata": {
      "image/png": {
       "height": 262,
       "width": 431
      }
     },
     "output_type": "display_data"
    }
   ],
   "source": [
    "sns.countplot(x=\"curriculum\", data=students)"
   ]
  },
  {
   "cell_type": "markdown",
   "id": "62dc98f8-fa32-4fa3-bb74-b90fb7e9f432",
   "metadata": {},
   "source": [
    "#### E1.6\n",
    "Compute frequencies and relative frequencies for the curriculum variable. Display the results in a one-way table."
   ]
  },
  {
   "cell_type": "code",
   "execution_count": 12,
   "id": "3bd73bd2-4713-4671-87e9-83df39287a40",
   "metadata": {},
   "outputs": [
    {
     "data": {
      "text/plain": [
       "debate     8\n",
       "lecture    7\n",
       "Name: curriculum, dtype: int64"
      ]
     },
     "execution_count": 12,
     "metadata": {},
     "output_type": "execute_result"
    }
   ],
   "source": [
    "students[\"curriculum\"].value_counts()"
   ]
  },
  {
   "cell_type": "code",
   "execution_count": 13,
   "id": "3d295e8d-3fc8-4ff1-973f-479f3377b75b",
   "metadata": {},
   "outputs": [
    {
     "data": {
      "text/plain": [
       "debate     0.53\n",
       "lecture    0.47\n",
       "Name: curriculum, dtype: float64"
      ]
     },
     "execution_count": 13,
     "metadata": {},
     "output_type": "execute_result"
    }
   ],
   "source": [
    "students[\"curriculum\"].value_counts(normalize=True)"
   ]
  },
  {
   "cell_type": "code",
   "execution_count": null,
   "id": "aed23238-0fc0-4bc9-a136-851377264d41",
   "metadata": {},
   "outputs": [],
   "source": []
  },
  {
   "cell_type": "markdown",
   "id": "df087103-2b9d-45dc-90c5-64558a616a16",
   "metadata": {},
   "source": [
    "#### E1.7\n",
    "What is the mode for curriculum?"
   ]
  },
  {
   "cell_type": "code",
   "execution_count": 14,
   "id": "769679ec-21a0-45d3-9a79-f750cb4626d2",
   "metadata": {},
   "outputs": [
    {
     "name": "stdout",
     "output_type": "stream",
     "text": [
      "The mode is debate with frequency 8\n"
     ]
    }
   ],
   "source": [
    "mode = students[\"curriculum\"].describe()['top']\n",
    "mode_freq = students[\"curriculum\"].describe()['freq']\n",
    "\n",
    "print(\"The mode is\", mode, \"with frequency\", mode_freq)"
   ]
  },
  {
   "cell_type": "code",
   "execution_count": null,
   "id": "a079d5da-4b46-4bc6-9536-b1adda5a9739",
   "metadata": {},
   "outputs": [],
   "source": []
  },
  {
   "cell_type": "code",
   "execution_count": null,
   "id": "af21e23b-8679-49a6-a3b0-aeb46775a9fa",
   "metadata": {},
   "outputs": [],
   "source": []
  }
 ],
 "metadata": {
  "kernelspec": {
   "display_name": "Python 3 (ipykernel)",
   "language": "python",
   "name": "python3"
  },
  "language_info": {
   "codemirror_mode": {
    "name": "ipython",
    "version": 3
   },
   "file_extension": ".py",
   "mimetype": "text/x-python",
   "name": "python",
   "nbconvert_exporter": "python",
   "pygments_lexer": "ipython3",
   "version": "3.9.4"
  }
 },
 "nbformat": 4,
 "nbformat_minor": 5
}
